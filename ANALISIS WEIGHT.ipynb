{
 "cells": [
  {
   "cell_type": "code",
   "id": "initial_id",
   "metadata": {
    "collapsed": true,
    "ExecuteTime": {
     "end_time": "2024-05-04T10:23:44.479925Z",
     "start_time": "2024-05-04T10:23:44.403849Z"
    }
   },
   "source": [
    "import pandas as pd\n",
    "\n",
    "taula = pd.read_pickle('./data/processed/dataframe.pkl')\n",
    "from scipy.stats import ttest_ind\n",
    "from scipy.stats import shapiro"
   ],
   "outputs": [],
   "execution_count": 225
  },
  {
   "metadata": {
    "ExecuteTime": {
     "end_time": "2024-05-04T10:18:28.971107Z",
     "start_time": "2024-05-04T10:18:28.956577Z"
    }
   },
   "cell_type": "code",
   "source": [
    "AMB_PA = taula[taula[\"PA diagnosticada\"] == 1.0]\n",
    "AMB_PA_MECVV = taula[\n",
    "    (taula[\"Dies entre primer ICD pneumònia i primer MECVV positiu\"] < 30)]\n",
    "SENSE_PA = taula[\n",
    "           (taula[\"Dies entre primer ICD pneumònia i primer MECVV positiu\"] > 30) &\n",
    "           (taula['P diagnosticada'] == 1.0)]\n",
    "TOTAL = taula"
   ],
   "id": "78643956fe9047dd",
   "outputs": [],
   "execution_count": 127
  },
  {
   "metadata": {},
   "cell_type": "markdown",
   "source": "## Pèrdua de pes entre ingressos %",
   "id": "573992f66d509eba"
  },
  {
   "metadata": {
    "ExecuteTime": {
     "end_time": "2024-05-04T10:18:29.026990Z",
     "start_time": "2024-05-04T10:18:29.012241Z"
    }
   },
   "cell_type": "code",
   "source": [
    "AMB_PA.loc[:, 'Pèrdua pes entre ingressos'] = pd.to_numeric(AMB_PA['Pèrdua pes entre ingressos'], errors='coerce')\n",
    "AMB_PA_MECVV.loc[:, 'Pèrdua pes entre ingressos'] = pd.to_numeric(AMB_PA_MECVV['Pèrdua pes entre ingressos'], errors='coerce')\n",
    "SENSE_PA.loc[:, 'Pèrdua pes entre ingressos'] = pd.to_numeric(SENSE_PA['Pèrdua pes entre ingressos'], errors='coerce')\n",
    "TOTAL.loc[:, 'Pèrdua pes entre ingressos'] = pd.to_numeric(TOTAL['Pèrdua pes entre ingressos'], errors='coerce')"
   ],
   "id": "fc598d32816f3cbc",
   "outputs": [],
   "execution_count": 128
  },
  {
   "metadata": {},
   "cell_type": "markdown",
   "source": "##### Pèrdua de pes superior a 10 kg",
   "id": "58629d49feea911f"
  },
  {
   "metadata": {
    "ExecuteTime": {
     "end_time": "2024-05-04T10:18:30.210714Z",
     "start_time": "2024-05-04T10:18:30.202961Z"
    }
   },
   "cell_type": "code",
   "source": [
    "ppi_AMB_PA= (AMB_PA['Pèrdua pes entre ingressos'] > 10.0).mean() * 100\n",
    "print(f\"Percentatge de pèrdua de pes superior a 10 kg: {ppi_AMB_PA:.2f}%\")"
   ],
   "id": "14ea6b9af899dde6",
   "outputs": [
    {
     "name": "stdout",
     "output_type": "stream",
     "text": [
      "Percentatge de pèrdua de pes superior a 10 kg: 0.00%\n"
     ]
    }
   ],
   "execution_count": 129
  },
  {
   "metadata": {
    "ExecuteTime": {
     "end_time": "2024-05-04T10:18:30.266537Z",
     "start_time": "2024-05-04T10:18:30.259830Z"
    }
   },
   "cell_type": "code",
   "source": [
    "ppi_AMB_PA_MECVV= (AMB_PA_MECVV['Pèrdua pes entre ingressos'] > 10.0).mean() * 100\n",
    "print(f\"Percentatge de pèrdua de pes superior a 10 kg: {ppi_AMB_PA_MECVV:.2f}%\")"
   ],
   "id": "4e093e1f1bff6766",
   "outputs": [
    {
     "name": "stdout",
     "output_type": "stream",
     "text": [
      "Percentatge de pèrdua de pes superior a 10 kg: 0.00%\n"
     ]
    }
   ],
   "execution_count": 130
  },
  {
   "metadata": {
    "ExecuteTime": {
     "end_time": "2024-05-04T10:18:30.366642Z",
     "start_time": "2024-05-04T10:18:30.359240Z"
    }
   },
   "cell_type": "code",
   "source": [
    "ppi_SENSE_PA= (SENSE_PA['Pèrdua pes entre ingressos'] > 10.0).mean() * 100\n",
    "print(f\"Percentatge de pèrdua de pes superior a 10 kg: {ppi_SENSE_PA:.2f}%\")"
   ],
   "id": "4ee00d119c1d34de",
   "outputs": [
    {
     "name": "stdout",
     "output_type": "stream",
     "text": [
      "Percentatge de pèrdua de pes superior a 10 kg: 12.50%\n"
     ]
    }
   ],
   "execution_count": 131
  },
  {
   "metadata": {
    "ExecuteTime": {
     "end_time": "2024-05-04T10:18:30.416353Z",
     "start_time": "2024-05-04T10:18:30.402626Z"
    }
   },
   "cell_type": "code",
   "source": [
    "ppi_TOTAL= (TOTAL['Pèrdua pes entre ingressos'] > 10.0).mean() * 100\n",
    "print(f\"Percentatge de pèrdua de pes superior a 10 kg: {ppi_TOTAL:.2f}%\")"
   ],
   "id": "ce9d55aa9dabd559",
   "outputs": [
    {
     "name": "stdout",
     "output_type": "stream",
     "text": [
      "Percentatge de pèrdua de pes superior a 10 kg: 2.00%\n"
     ]
    }
   ],
   "execution_count": 132
  },
  {
   "metadata": {},
   "cell_type": "markdown",
   "source": "##### Pèrdua de pes d'entre 6-10 kg",
   "id": "7a8f16f1c1de0afa"
  },
  {
   "metadata": {
    "ExecuteTime": {
     "end_time": "2024-05-04T10:18:30.498956Z",
     "start_time": "2024-05-04T10:18:30.485087Z"
    }
   },
   "cell_type": "code",
   "source": [
    "ppi_AMB_PA= (AMB_PA['Pèrdua pes entre ingressos'].between(6,10)).mean() * 100\n",
    "print(f\"Percentatge de pèrdua de pes 6-10 kg: {ppi_AMB_PA:.2f}%\")"
   ],
   "id": "3b2e1d3d23333418",
   "outputs": [
    {
     "name": "stdout",
     "output_type": "stream",
     "text": [
      "Percentatge de pèrdua de pes 6-10 kg: 0.00%\n"
     ]
    }
   ],
   "execution_count": 133
  },
  {
   "metadata": {
    "ExecuteTime": {
     "end_time": "2024-05-04T10:18:30.558704Z",
     "start_time": "2024-05-04T10:18:30.551492Z"
    }
   },
   "cell_type": "code",
   "source": [
    "ppi_AMB_PA= (AMB_PA_MECVV['Pèrdua pes entre ingressos'].between(6,10)).mean() * 100\n",
    "print(f\"Percentatge de pèrdua de pes 6-10 kg: {ppi_AMB_PA_MECVV:.2f}%\")"
   ],
   "id": "1bb46c16c0887b3",
   "outputs": [
    {
     "name": "stdout",
     "output_type": "stream",
     "text": [
      "Percentatge de pèrdua de pes 6-10 kg: 0.00%\n"
     ]
    }
   ],
   "execution_count": 134
  },
  {
   "metadata": {
    "ExecuteTime": {
     "end_time": "2024-05-04T10:18:30.661101Z",
     "start_time": "2024-05-04T10:18:30.651037Z"
    }
   },
   "cell_type": "code",
   "source": [
    "ppi_SENSE_PA= (SENSE_PA['Pèrdua pes entre ingressos'].between(6,10)).mean() * 100\n",
    "print(f\"Percentatge de pèrdua de pes 6-10 kg: {ppi_SENSE_PA:.2f}%\")"
   ],
   "id": "d01f16042ab58a3c",
   "outputs": [
    {
     "name": "stdout",
     "output_type": "stream",
     "text": [
      "Percentatge de pèrdua de pes 6-10 kg: 0.00%\n"
     ]
    }
   ],
   "execution_count": 135
  },
  {
   "metadata": {
    "ExecuteTime": {
     "end_time": "2024-05-04T10:18:30.759606Z",
     "start_time": "2024-05-04T10:18:30.753492Z"
    }
   },
   "cell_type": "code",
   "source": [
    "ppi_TOTAL= (TOTAL['Pèrdua pes entre ingressos'].between(6,10)).mean() * 100\n",
    "print(f\"Percentatge de pèrdua de pes 6-10 kg: {ppi_TOTAL:.2f}%\")"
   ],
   "id": "a0edeb1005434d4a",
   "outputs": [
    {
     "name": "stdout",
     "output_type": "stream",
     "text": [
      "Percentatge de pèrdua de pes 6-10 kg: 0.00%\n"
     ]
    }
   ],
   "execution_count": 136
  },
  {
   "metadata": {},
   "cell_type": "markdown",
   "source": "##### Pèrdua pes d'entre 3-6 kg",
   "id": "12c3cda5eff88265"
  },
  {
   "metadata": {
    "ExecuteTime": {
     "end_time": "2024-05-04T10:18:30.860394Z",
     "start_time": "2024-05-04T10:18:30.854895Z"
    }
   },
   "cell_type": "code",
   "source": [
    "ppi_AMB_PA= (AMB_PA['Pèrdua pes entre ingressos'].between(3,6)).mean() * 100\n",
    "print(f\"Percentatge de pèrdua de pes 3-6 kg: {ppi_AMB_PA:.2f}%\")"
   ],
   "id": "15939acf8dba9bac",
   "outputs": [
    {
     "name": "stdout",
     "output_type": "stream",
     "text": [
      "Percentatge de pèrdua de pes 3-6 kg: 0.00%\n"
     ]
    }
   ],
   "execution_count": 137
  },
  {
   "metadata": {
    "ExecuteTime": {
     "end_time": "2024-05-04T10:18:30.913683Z",
     "start_time": "2024-05-04T10:18:30.906376Z"
    }
   },
   "cell_type": "code",
   "source": [
    "ppi_AMB_PA_MECVV= (AMB_PA['Pèrdua pes entre ingressos'].between(3,6)).mean() * 100\n",
    "print(f\"Percentatge de pèrdua de pes 3-6 kg: {ppi_AMB_PA_MECVV:.2f}%\")"
   ],
   "id": "6ca75bbb14714653",
   "outputs": [
    {
     "name": "stdout",
     "output_type": "stream",
     "text": [
      "Percentatge de pèrdua de pes 3-6 kg: 0.00%\n"
     ]
    }
   ],
   "execution_count": 138
  },
  {
   "metadata": {
    "ExecuteTime": {
     "end_time": "2024-05-04T10:18:31.024023Z",
     "start_time": "2024-05-04T10:18:31.017794Z"
    }
   },
   "cell_type": "code",
   "source": [
    "ppi_SENSE_PA= (SENSE_PA['Pèrdua pes entre ingressos'].between(3,6)).mean() * 100\n",
    "print(f\"Percentatge de pèrdua de pes 3-6 kg: {ppi_SENSE_PA:.2f}%\")"
   ],
   "id": "eb5a7b693dcfeb08",
   "outputs": [
    {
     "name": "stdout",
     "output_type": "stream",
     "text": [
      "Percentatge de pèrdua de pes 3-6 kg: 0.00%\n"
     ]
    }
   ],
   "execution_count": 139
  },
  {
   "metadata": {
    "ExecuteTime": {
     "end_time": "2024-05-04T10:18:31.075107Z",
     "start_time": "2024-05-04T10:18:31.067739Z"
    }
   },
   "cell_type": "code",
   "source": [
    "ppi_TOTAL= (TOTAL['Pèrdua pes entre ingressos'].between(3,6)).mean() * 100\n",
    "print(f\"Percentatge de pèrdua de pes 3-6 kg: {ppi_TOTAL:.2f}%\")"
   ],
   "id": "a8cd8ada616379d8",
   "outputs": [
    {
     "name": "stdout",
     "output_type": "stream",
     "text": [
      "Percentatge de pèrdua de pes 3-6 kg: 0.00%\n"
     ]
    }
   ],
   "execution_count": 140
  },
  {
   "metadata": {},
   "cell_type": "markdown",
   "source": "##### Pèrdua de pes d'entre 1-3 kg",
   "id": "f2da7e559c7e5b1a"
  },
  {
   "metadata": {
    "ExecuteTime": {
     "end_time": "2024-05-04T10:18:31.151129Z",
     "start_time": "2024-05-04T10:18:31.142770Z"
    }
   },
   "cell_type": "code",
   "source": [
    "ppi_AMB_PA= (AMB_PA['Pèrdua pes entre ingressos'].between(1, 3)).mean() * 100\n",
    "print(f\"Percentatge de pèrdua de pes 1-3 kg: {ppi_AMB_PA:.2f}%\")"
   ],
   "id": "5ffd60821ed59b98",
   "outputs": [
    {
     "name": "stdout",
     "output_type": "stream",
     "text": [
      "Percentatge de pèrdua de pes 1-3 kg: 0.00%\n"
     ]
    }
   ],
   "execution_count": 141
  },
  {
   "metadata": {
    "ExecuteTime": {
     "end_time": "2024-05-04T10:18:31.245527Z",
     "start_time": "2024-05-04T10:18:31.238880Z"
    }
   },
   "cell_type": "code",
   "source": [
    "ppi_AMB_PA_MECVV= (AMB_PA_MECVV['Pèrdua pes entre ingressos'].between(1, 3)).mean() * 100\n",
    "print(f\"Percentatge de pèrdua de pes 1-3 kg: {ppi_AMB_PA_MECVV:.2f}%\")"
   ],
   "id": "6846e95d8448bec6",
   "outputs": [
    {
     "name": "stdout",
     "output_type": "stream",
     "text": [
      "Percentatge de pèrdua de pes 1-3 kg: 0.00%\n"
     ]
    }
   ],
   "execution_count": 142
  },
  {
   "metadata": {
    "ExecuteTime": {
     "end_time": "2024-05-04T10:18:31.378918Z",
     "start_time": "2024-05-04T10:18:31.371622Z"
    }
   },
   "cell_type": "code",
   "source": [
    "ppi_SENSE_PA= (SENSE_PA['Pèrdua pes entre ingressos'].between(1, 3)).mean() * 100\n",
    "print(f\"Percentatge de pèrdua de pes 1-3 kg: {ppi_SENSE_PA:.2f}%\")"
   ],
   "id": "24047004508d65bb",
   "outputs": [
    {
     "name": "stdout",
     "output_type": "stream",
     "text": [
      "Percentatge de pèrdua de pes 1-3 kg: 0.00%\n"
     ]
    }
   ],
   "execution_count": 143
  },
  {
   "metadata": {
    "ExecuteTime": {
     "end_time": "2024-05-04T10:18:31.441518Z",
     "start_time": "2024-05-04T10:18:31.434975Z"
    }
   },
   "cell_type": "code",
   "source": [
    "ppi_TOTAL= (TOTAL['Pèrdua pes entre ingressos'].between(1, 3)).mean() * 100\n",
    "print(f\"Percentatge de pèrdua de pes 1-3 kg: {ppi_TOTAL:.2f}%\")"
   ],
   "id": "49bf616563b59da5",
   "outputs": [
    {
     "name": "stdout",
     "output_type": "stream",
     "text": [
      "Percentatge de pèrdua de pes 1-3 kg: 0.00%\n"
     ]
    }
   ],
   "execution_count": 144
  },
  {
   "metadata": {},
   "cell_type": "markdown",
   "source": "##### Sense pèrdua de pes ",
   "id": "b51535974cba8f3f"
  },
  {
   "metadata": {
    "ExecuteTime": {
     "end_time": "2024-05-04T10:18:31.571197Z",
     "start_time": "2024-05-04T10:18:31.559857Z"
    }
   },
   "cell_type": "code",
   "source": [
    "ppi_AMB_PA= (AMB_PA['Pèrdua pes entre ingressos'] == 0).mean() * 100\n",
    "print(f\"Percentatge sense pèrdua de pes: {ppi_AMB_PA:.2f}%\")"
   ],
   "id": "9f0c70a704f2e786",
   "outputs": [
    {
     "name": "stdout",
     "output_type": "stream",
     "text": [
      "Percentatge sense pèrdua de pes: 17.65%\n"
     ]
    }
   ],
   "execution_count": 145
  },
  {
   "metadata": {
    "ExecuteTime": {
     "end_time": "2024-05-04T10:18:31.695308Z",
     "start_time": "2024-05-04T10:18:31.683408Z"
    }
   },
   "cell_type": "code",
   "source": [
    "ppi_AMB_PA_MECVV= (AMB_PA_MECVV['Pèrdua pes entre ingressos'] == 0).mean() * 100\n",
    "print(f\"Percentatge sense pèrdua de pes: {ppi_AMB_PA_MECVV:.2f}%\")"
   ],
   "id": "e7be42c51349fcce",
   "outputs": [
    {
     "name": "stdout",
     "output_type": "stream",
     "text": [
      "Percentatge sense pèrdua de pes: 37.50%\n"
     ]
    }
   ],
   "execution_count": 146
  },
  {
   "metadata": {
    "ExecuteTime": {
     "end_time": "2024-05-04T10:18:31.748404Z",
     "start_time": "2024-05-04T10:18:31.736335Z"
    }
   },
   "cell_type": "code",
   "source": [
    "ppi_SENSE_PA= (SENSE_PA['Pèrdua pes entre ingressos'] == 0).mean() * 100\n",
    "print(f\"Percentatge sense pèrdua de pes: {ppi_SENSE_PA:.2f}%\")"
   ],
   "id": "15b300264f2fc312",
   "outputs": [
    {
     "name": "stdout",
     "output_type": "stream",
     "text": [
      "Percentatge sense pèrdua de pes: 12.50%\n"
     ]
    }
   ],
   "execution_count": 147
  },
  {
   "metadata": {
    "ExecuteTime": {
     "end_time": "2024-05-04T10:18:31.883643Z",
     "start_time": "2024-05-04T10:18:31.874010Z"
    }
   },
   "cell_type": "code",
   "source": [
    "ppi_TOTAL= (TOTAL['Pèrdua pes entre ingressos'] == 0).mean() * 100\n",
    "print(f\"Percentatge sense pèrdua de pes: {ppi_TOTAL:.2f}%\")"
   ],
   "id": "cef0c2a4c8fb2eda",
   "outputs": [
    {
     "name": "stdout",
     "output_type": "stream",
     "text": [
      "Percentatge sense pèrdua de pes: 8.00%\n"
     ]
    }
   ],
   "execution_count": 148
  },
  {
   "metadata": {},
   "cell_type": "markdown",
   "source": "#### Comparació distributiva",
   "id": "5acf9eded5b56b3f"
  },
  {
   "metadata": {},
   "cell_type": "markdown",
   "source": "##### Normalitat i p-valor",
   "id": "86a2e1ed763b4"
  },
  {
   "metadata": {
    "ExecuteTime": {
     "end_time": "2024-05-22T09:57:18.250171Z",
     "start_time": "2024-05-22T09:57:18.246477Z"
    }
   },
   "cell_type": "code",
   "source": "#TODO: realmente es categorica? no hace falta calcular normalidad no?",
   "id": "e724b05fcca4d89a",
   "outputs": [],
   "execution_count": 1
  },
  {
   "metadata": {
    "ExecuteTime": {
     "end_time": "2024-05-04T10:18:31.934651Z",
     "start_time": "2024-05-04T10:18:31.927024Z"
    }
   },
   "cell_type": "code",
   "source": [
    "stat, p_value = shapiro(AMB_PA['Pèrdua pes entre ingressos'])\n",
    "print(f\"Estadístic W = {stat:.4f}\")\n",
    "print(f\"Valor p = {p_value:.4f}\")\n",
    "\n",
    "alpha = 0.05\n",
    "if p_value < alpha:\n",
    "    print(\"El nombre de files no segueix una distribució normal.\")\n",
    "else:\n",
    "    print(\"El nombre de files segueix una distribució normal\")"
   ],
   "id": "13828d7d811251a8",
   "outputs": [
    {
     "name": "stdout",
     "output_type": "stream",
     "text": [
      "Estadístic W = nan\n",
      "Valor p = nan\n",
      "El nombre de files segueix una distribució normal\n"
     ]
    }
   ],
   "execution_count": 149
  },
  {
   "metadata": {
    "ExecuteTime": {
     "end_time": "2024-05-04T10:18:32.048263Z",
     "start_time": "2024-05-04T10:18:32.033725Z"
    }
   },
   "cell_type": "code",
   "source": [
    "stat, p_value = shapiro(AMB_PA_MECVV['Pèrdua pes entre ingressos'])\n",
    "print(f\"Estadístic W = {stat:.4f}\")\n",
    "print(f\"Valor p = {p_value:.4f}\")\n",
    "\n",
    "alpha = 0.05\n",
    "if p_value < alpha:\n",
    "    print(\"El nombre de files no segueix una distribució normal.\")\n",
    "else:\n",
    "    print(\"El nombre de files segueix una distribució normal\")"
   ],
   "id": "a9e962da7a1164db",
   "outputs": [
    {
     "name": "stdout",
     "output_type": "stream",
     "text": [
      "Estadístic W = nan\n",
      "Valor p = nan\n",
      "El nombre de files segueix una distribució normal\n"
     ]
    }
   ],
   "execution_count": 150
  },
  {
   "metadata": {
    "ExecuteTime": {
     "end_time": "2024-05-04T10:18:32.091735Z",
     "start_time": "2024-05-04T10:18:32.083229Z"
    }
   },
   "cell_type": "code",
   "source": [
    "stat, p_value = shapiro(SENSE_PA['Pèrdua pes entre ingressos'])\n",
    "print(f\"Estadístic W = {stat:.4f}\")\n",
    "print(f\"Valor p = {p_value:.4f}\")\n",
    "\n",
    "alpha = 0.05\n",
    "if p_value < alpha:\n",
    "    print(\"El nombre de files no segueix una distribució normal.\")\n",
    "else:\n",
    "    print(\"El nombre de files segueix una distribució normal\")"
   ],
   "id": "a3919d0c3641ebcd",
   "outputs": [
    {
     "name": "stdout",
     "output_type": "stream",
     "text": [
      "Estadístic W = nan\n",
      "Valor p = nan\n",
      "El nombre de files segueix una distribució normal\n"
     ]
    }
   ],
   "execution_count": 151
  },
  {
   "metadata": {
    "ExecuteTime": {
     "end_time": "2024-05-04T10:18:32.185342Z",
     "start_time": "2024-05-04T10:18:32.175505Z"
    }
   },
   "cell_type": "code",
   "source": [
    "stat, p_value = shapiro(TOTAL['Pèrdua pes entre ingressos'])\n",
    "print(f\"Estadístic W = {stat:.4f}\")\n",
    "print(f\"Valor p = {p_value:.4f}\")\n",
    "\n",
    "alpha = 0.05\n",
    "if p_value < alpha:\n",
    "    print(\"El nombre de files no segueix una distribució normal.\")\n",
    "else:\n",
    "    print(\"El nombre de files segueix una distribució normal\")"
   ],
   "id": "1be3e32f9433e310",
   "outputs": [
    {
     "name": "stdout",
     "output_type": "stream",
     "text": [
      "Estadístic W = nan\n",
      "Valor p = nan\n",
      "El nombre de files segueix una distribució normal\n"
     ]
    }
   ],
   "execution_count": 152
  },
  {
   "metadata": {
    "ExecuteTime": {
     "end_time": "2024-05-08T07:38:59.873095Z",
     "start_time": "2024-05-08T07:38:59.862147Z"
    }
   },
   "cell_type": "code",
   "source": "##### Pèrdua de pes superior a 10 kg #TODO: subcategorias de peso con xi cuadrado o con mannwhitney/ttest?",
   "id": "eb861f251399f5a0",
   "outputs": [],
   "execution_count": 1
  },
  {
   "metadata": {
    "ExecuteTime": {
     "end_time": "2024-05-04T10:18:32.222366Z",
     "start_time": "2024-05-04T10:18:32.212063Z"
    }
   },
   "cell_type": "code",
   "source": [
    "stat, p_value_12 = ttest_ind(AMB_PA['Pèrdua pes entre ingressos'] > 10.0, AMB_PA_MECVV['Pèrdua pes entre ingressos'] > 10.0, equal_var=False)\n",
    "print(\"P-valor entre AMB_PA i AMB_PA_MECVV\", p_value_12)"
   ],
   "id": "a4801643d5563b7",
   "outputs": [
    {
     "name": "stdout",
     "output_type": "stream",
     "text": [
      "P-valor entre AMB_PA i AMB_PA_MECVV nan\n"
     ]
    }
   ],
   "execution_count": 153
  },
  {
   "metadata": {
    "ExecuteTime": {
     "end_time": "2024-05-04T10:18:32.323967Z",
     "start_time": "2024-05-04T10:18:32.317382Z"
    }
   },
   "cell_type": "code",
   "source": [
    "stat, p_value_13 = ttest_ind(AMB_PA['Pèrdua pes entre ingressos'] > 10.0, SENSE_PA['Pèrdua pes entre ingressos'] > 10.0, equal_var=False)\n",
    "print(\"P-valor entre AMB_PA i SENSE_PA\", p_value_13)"
   ],
   "id": "b4aca9b32c3656d2",
   "outputs": [
    {
     "name": "stdout",
     "output_type": "stream",
     "text": [
      "P-valor entre AMB_PA i SENSE_PA 0.3506166628202075\n"
     ]
    }
   ],
   "execution_count": 154
  },
  {
   "metadata": {
    "ExecuteTime": {
     "end_time": "2024-05-04T10:18:32.416996Z",
     "start_time": "2024-05-04T10:18:32.404573Z"
    }
   },
   "cell_type": "code",
   "source": [
    "stat, p_value_23 = ttest_ind(AMB_PA_MECVV['Pèrdua pes entre ingressos'] > 10.0, SENSE_PA['Pèrdua pes entre ingressos'] > 10.0, equal_var=False)\n",
    "print(\"P-valor entre AMB_PA_MECVV i SENSE_PA\", p_value_23)"
   ],
   "id": "afb3ed3f4b109641",
   "outputs": [
    {
     "name": "stdout",
     "output_type": "stream",
     "text": [
      "P-valor entre AMB_PA_MECVV i SENSE_PA 0.3506166628202075\n"
     ]
    }
   ],
   "execution_count": 155
  },
  {
   "metadata": {
    "ExecuteTime": {
     "end_time": "2024-05-04T10:18:32.511491Z",
     "start_time": "2024-05-04T10:18:32.495514Z"
    }
   },
   "cell_type": "code",
   "source": [
    "stat, p_value_14 = ttest_ind(AMB_PA['Pèrdua pes entre ingressos'] > 10.0, TOTAL['Pèrdua pes entre ingressos'] > 10.0, equal_var=False)\n",
    "print(\"P-valor entre AMB_PA i TOTAL\", p_value_14)"
   ],
   "id": "5db12fcce9b75b8c",
   "outputs": [
    {
     "name": "stdout",
     "output_type": "stream",
     "text": [
      "P-valor entre AMB_PA i TOTAL 0.32222340595067556\n"
     ]
    }
   ],
   "execution_count": 156
  },
  {
   "metadata": {
    "ExecuteTime": {
     "end_time": "2024-05-04T10:18:32.561264Z",
     "start_time": "2024-05-04T10:18:32.551404Z"
    }
   },
   "cell_type": "code",
   "source": [
    "stat, p_value_24 = ttest_ind(AMB_PA_MECVV['Pèrdua pes entre ingressos'] > 10.0, TOTAL['Pèrdua pes entre ingressos'] > 10.0, equal_var=False)\n",
    "print(\"P-valor entre AMB_PA_MECVV i TOTAL\", p_value_24)"
   ],
   "id": "bf106c7a7c5c988d",
   "outputs": [
    {
     "name": "stdout",
     "output_type": "stream",
     "text": [
      "P-valor entre AMB_PA_MECVV i TOTAL 0.32222340595067556\n"
     ]
    }
   ],
   "execution_count": 157
  },
  {
   "metadata": {
    "ExecuteTime": {
     "end_time": "2024-05-04T10:18:32.676988Z",
     "start_time": "2024-05-04T10:18:32.668901Z"
    }
   },
   "cell_type": "code",
   "source": [
    "stat, p_value_34 = ttest_ind(SENSE_PA['Pèrdua pes entre ingressos'] > 10.0, TOTAL['Pèrdua pes entre ingressos'] > 10.0, equal_var=False)\n",
    "print(\"P-valor entre SENSE_PA i TOTAL\", p_value_34)"
   ],
   "id": "4a21f502e1b7020f",
   "outputs": [
    {
     "name": "stdout",
     "output_type": "stream",
     "text": [
      "P-valor entre SENSE_PA i TOTAL 0.43291722693674384\n"
     ]
    }
   ],
   "execution_count": 158
  },
  {
   "metadata": {},
   "cell_type": "markdown",
   "source": "##### Pèrdua de pes d'entre 6-10 kg",
   "id": "1cde089f02360b76"
  },
  {
   "metadata": {
    "ExecuteTime": {
     "end_time": "2024-05-04T10:18:32.723513Z",
     "start_time": "2024-05-04T10:18:32.708693Z"
    }
   },
   "cell_type": "code",
   "source": [
    "stat, p_value_12 = ttest_ind(AMB_PA['Pèrdua pes entre ingressos'].between(6,10), AMB_PA_MECVV['Pèrdua pes entre ingressos'].between(6,10), equal_var=False)\n",
    "print(\"P-valor entre AMB_PA i AMB_PA_MECVV\", p_value_12)"
   ],
   "id": "15de2f178f153db7",
   "outputs": [
    {
     "name": "stdout",
     "output_type": "stream",
     "text": [
      "P-valor entre AMB_PA i AMB_PA_MECVV nan\n"
     ]
    }
   ],
   "execution_count": 159
  },
  {
   "metadata": {
    "ExecuteTime": {
     "end_time": "2024-05-04T10:18:32.821876Z",
     "start_time": "2024-05-04T10:18:32.808752Z"
    }
   },
   "cell_type": "code",
   "source": [
    "stat, p_value_13 = ttest_ind(AMB_PA['Pèrdua pes entre ingressos'].between(6,10), SENSE_PA['Pèrdua pes entre ingressos'].between(6,10), equal_var=False)\n",
    "print(\"P-valor entre AMB_PA i SENSE_PA\", p_value_13)"
   ],
   "id": "b6f49f87132b3143",
   "outputs": [
    {
     "name": "stdout",
     "output_type": "stream",
     "text": [
      "P-valor entre AMB_PA i SENSE_PA nan\n"
     ]
    }
   ],
   "execution_count": 160
  },
  {
   "metadata": {
    "ExecuteTime": {
     "end_time": "2024-05-04T10:18:32.872297Z",
     "start_time": "2024-05-04T10:18:32.859646Z"
    }
   },
   "cell_type": "code",
   "source": [
    "stat, p_value_23 = ttest_ind(AMB_PA_MECVV['Pèrdua pes entre ingressos'].between(6,10), SENSE_PA['Pèrdua pes entre ingressos'].between(6,10), equal_var=False)\n",
    "print(\"P-valor entre AMB_PA_MECVV i SENSE_PA\", p_value_23)"
   ],
   "id": "543484cafb4b96f8",
   "outputs": [
    {
     "name": "stdout",
     "output_type": "stream",
     "text": [
      "P-valor entre AMB_PA_MECVV i SENSE_PA nan\n"
     ]
    }
   ],
   "execution_count": 161
  },
  {
   "metadata": {
    "ExecuteTime": {
     "end_time": "2024-05-04T10:18:33.009851Z",
     "start_time": "2024-05-04T10:18:33.001303Z"
    }
   },
   "cell_type": "code",
   "source": [
    "stat, p_value_14 = ttest_ind(AMB_PA['Pèrdua pes entre ingressos'].between(6,10), TOTAL['Pèrdua pes entre ingressos'].between(6,10), equal_var=False)\n",
    "print(\"P-valor entre AMB_PA i TOTAL\", p_value_14)"
   ],
   "id": "ce102d3a30cac557",
   "outputs": [
    {
     "name": "stdout",
     "output_type": "stream",
     "text": [
      "P-valor entre AMB_PA i TOTAL nan\n"
     ]
    }
   ],
   "execution_count": 162
  },
  {
   "metadata": {
    "ExecuteTime": {
     "end_time": "2024-05-04T10:18:33.057851Z",
     "start_time": "2024-05-04T10:18:33.044477Z"
    }
   },
   "cell_type": "code",
   "source": [
    "stat, p_value_24 = ttest_ind(AMB_PA_MECVV['Pèrdua pes entre ingressos'].between(6,10), TOTAL['Pèrdua pes entre ingressos'].between(6,10), equal_var=False)\n",
    "print(\"P-valor entre AMB_PA_MECVV i TOTAL\", p_value_24)"
   ],
   "id": "df94deacd4063969",
   "outputs": [
    {
     "name": "stdout",
     "output_type": "stream",
     "text": [
      "P-valor entre AMB_PA_MECVV i TOTAL nan\n"
     ]
    }
   ],
   "execution_count": 163
  },
  {
   "metadata": {
    "ExecuteTime": {
     "end_time": "2024-05-04T10:18:33.160551Z",
     "start_time": "2024-05-04T10:18:33.152285Z"
    }
   },
   "cell_type": "code",
   "source": [
    "stat, p_value_34 = ttest_ind(SENSE_PA['Pèrdua pes entre ingressos'].between(6,10), TOTAL['Pèrdua pes entre ingressos'].between(6,10), equal_var=False)\n",
    "print(\"P-valor entre SENSE_PA i TOTAL\", p_value_34)"
   ],
   "id": "b7cdaefdb427b995",
   "outputs": [
    {
     "name": "stdout",
     "output_type": "stream",
     "text": [
      "P-valor entre SENSE_PA i TOTAL nan\n"
     ]
    }
   ],
   "execution_count": 164
  },
  {
   "metadata": {},
   "cell_type": "markdown",
   "source": "##### Pèrdua de pes d'entre 3-6 kg",
   "id": "288151617a5d3635"
  },
  {
   "metadata": {
    "ExecuteTime": {
     "end_time": "2024-05-04T10:18:33.218912Z",
     "start_time": "2024-05-04T10:18:33.208639Z"
    }
   },
   "cell_type": "code",
   "source": [
    "stat, p_value_12 = ttest_ind(AMB_PA['Pèrdua pes entre ingressos'].between(3,6), AMB_PA_MECVV['Pèrdua pes entre ingressos'].between(3,6), equal_var=False)\n",
    "print(\"P-valor entre AMB_PA i AMB_PA_MECVV\", p_value_12)"
   ],
   "id": "3cf31e614d92d4d",
   "outputs": [
    {
     "name": "stdout",
     "output_type": "stream",
     "text": [
      "P-valor entre AMB_PA i AMB_PA_MECVV nan\n"
     ]
    }
   ],
   "execution_count": 165
  },
  {
   "metadata": {
    "ExecuteTime": {
     "end_time": "2024-05-04T10:18:33.344889Z",
     "start_time": "2024-05-04T10:18:33.329676Z"
    }
   },
   "cell_type": "code",
   "source": [
    "stat, p_value_13 = ttest_ind(AMB_PA['Pèrdua pes entre ingressos'].between(3,6), SENSE_PA['Pèrdua pes entre ingressos'].between(3,6), equal_var=False)\n",
    "print(\"P-valor entre AMB_PA i SENSE_PA\", p_value_13)"
   ],
   "id": "31cfaf0e6970f2da",
   "outputs": [
    {
     "name": "stdout",
     "output_type": "stream",
     "text": [
      "P-valor entre AMB_PA i SENSE_PA nan\n"
     ]
    }
   ],
   "execution_count": 166
  },
  {
   "metadata": {
    "ExecuteTime": {
     "end_time": "2024-05-04T10:18:33.479032Z",
     "start_time": "2024-05-04T10:18:33.466193Z"
    }
   },
   "cell_type": "code",
   "source": [
    "stat, p_value_23 = ttest_ind(AMB_PA_MECVV['Pèrdua pes entre ingressos'].between(3,6), SENSE_PA['Pèrdua pes entre ingressos'].between(3,6), equal_var=False)\n",
    "print(\"P-valor entre AMB_PA_MECVV i SENSE_PA\", p_value_23)"
   ],
   "id": "841ad07aef0e41f2",
   "outputs": [
    {
     "name": "stdout",
     "output_type": "stream",
     "text": [
      "P-valor entre AMB_PA_MECVV i SENSE_PA nan\n"
     ]
    }
   ],
   "execution_count": 167
  },
  {
   "metadata": {
    "ExecuteTime": {
     "end_time": "2024-05-04T10:18:33.601825Z",
     "start_time": "2024-05-04T10:18:33.588519Z"
    }
   },
   "cell_type": "code",
   "source": [
    "stat, p_value_14 = ttest_ind(AMB_PA['Pèrdua pes entre ingressos'].between(3,6), TOTAL['Pèrdua pes entre ingressos'].between(3,6), equal_var=False)\n",
    "print(\"P-valor entre AMB_PA i TOTAL\", p_value_14)"
   ],
   "id": "9b68944050162348",
   "outputs": [
    {
     "name": "stdout",
     "output_type": "stream",
     "text": [
      "P-valor entre AMB_PA i TOTAL nan\n"
     ]
    }
   ],
   "execution_count": 168
  },
  {
   "metadata": {
    "ExecuteTime": {
     "end_time": "2024-05-04T10:18:33.666668Z",
     "start_time": "2024-05-04T10:18:33.654385Z"
    }
   },
   "cell_type": "code",
   "source": [
    "stat, p_value_24 = ttest_ind(AMB_PA_MECVV['Pèrdua pes entre ingressos'].between(3,6), TOTAL['Pèrdua pes entre ingressos'].between(3,6), equal_var=False)\n",
    "print(\"P-valor entre AMB_PA_MECVV i TOTAL\", p_value_24)"
   ],
   "id": "332875c0fe7aaa53",
   "outputs": [
    {
     "name": "stdout",
     "output_type": "stream",
     "text": [
      "P-valor entre AMB_PA_MECVV i TOTAL nan\n"
     ]
    }
   ],
   "execution_count": 169
  },
  {
   "metadata": {
    "ExecuteTime": {
     "end_time": "2024-05-04T10:18:33.761045Z",
     "start_time": "2024-05-04T10:18:33.744073Z"
    }
   },
   "cell_type": "code",
   "source": [
    "stat, p_value_34 = ttest_ind(SENSE_PA['Pèrdua pes entre ingressos'].between(3,6), TOTAL['Pèrdua pes entre ingressos'].between(3,6), equal_var=False)\n",
    "print(\"P-valor entre SENSE_PA i TOTAL\", p_value_34)"
   ],
   "id": "f67164f8aee22516",
   "outputs": [
    {
     "name": "stdout",
     "output_type": "stream",
     "text": [
      "P-valor entre SENSE_PA i TOTAL nan\n"
     ]
    }
   ],
   "execution_count": 170
  },
  {
   "metadata": {},
   "cell_type": "markdown",
   "source": "##### Pèrdua de pes d'entre 1-3 kg",
   "id": "215ef04e9676ecfd"
  },
  {
   "metadata": {
    "ExecuteTime": {
     "end_time": "2024-05-04T10:18:33.824868Z",
     "start_time": "2024-05-04T10:18:33.813204Z"
    }
   },
   "cell_type": "code",
   "source": [
    "stat, p_value_12 = ttest_ind(AMB_PA['Pèrdua pes entre ingressos'].between(1,3), AMB_PA_MECVV['Pèrdua pes entre ingressos'].between(1,3), equal_var=False)\n",
    "print(\"P-valor entre AMB_PA i AMB_PA_MECVV\", p_value_12)"
   ],
   "id": "392148e2b926fef3",
   "outputs": [
    {
     "name": "stdout",
     "output_type": "stream",
     "text": [
      "P-valor entre AMB_PA i AMB_PA_MECVV nan\n"
     ]
    }
   ],
   "execution_count": 171
  },
  {
   "metadata": {
    "ExecuteTime": {
     "end_time": "2024-05-04T10:18:33.931190Z",
     "start_time": "2024-05-04T10:18:33.920853Z"
    }
   },
   "cell_type": "code",
   "source": [
    "stat, p_value_13 = ttest_ind(AMB_PA['Pèrdua pes entre ingressos'].between(1,3), SENSE_PA['Pèrdua pes entre ingressos'].between(1,3), equal_var=False)\n",
    "print(\"P-valor entre AMB_PA i SENSE_PA\", p_value_13)"
   ],
   "id": "5dde90a0ed71545f",
   "outputs": [
    {
     "name": "stdout",
     "output_type": "stream",
     "text": [
      "P-valor entre AMB_PA i SENSE_PA nan\n"
     ]
    }
   ],
   "execution_count": 172
  },
  {
   "metadata": {
    "ExecuteTime": {
     "end_time": "2024-05-04T10:18:33.981303Z",
     "start_time": "2024-05-04T10:18:33.970155Z"
    }
   },
   "cell_type": "code",
   "source": [
    "stat, p_value_23 = ttest_ind(AMB_PA_MECVV['Pèrdua pes entre ingressos'].between(1,3), SENSE_PA['Pèrdua pes entre ingressos'].between(1,3), equal_var=False)\n",
    "print(\"P-valor entre AMB_PA_MECVV i SENSE_PA\", p_value_23)"
   ],
   "id": "30912263603c178b",
   "outputs": [
    {
     "name": "stdout",
     "output_type": "stream",
     "text": [
      "P-valor entre AMB_PA_MECVV i SENSE_PA nan\n"
     ]
    }
   ],
   "execution_count": 173
  },
  {
   "metadata": {
    "ExecuteTime": {
     "end_time": "2024-05-04T10:18:34.079129Z",
     "start_time": "2024-05-04T10:18:34.060032Z"
    }
   },
   "cell_type": "code",
   "source": [
    "stat, p_value_14 = ttest_ind(AMB_PA['Pèrdua pes entre ingressos'].between(1,3), TOTAL['Pèrdua pes entre ingressos'].between(1,3), equal_var=False)\n",
    "print(\"P-valor entre AMB_PA i TOTAL\", p_value_14)"
   ],
   "id": "d48dfc5796243ec3",
   "outputs": [
    {
     "name": "stdout",
     "output_type": "stream",
     "text": [
      "P-valor entre AMB_PA i TOTAL nan\n"
     ]
    }
   ],
   "execution_count": 174
  },
  {
   "metadata": {
    "ExecuteTime": {
     "end_time": "2024-05-04T10:18:34.164922Z",
     "start_time": "2024-05-04T10:18:34.153297Z"
    }
   },
   "cell_type": "code",
   "source": [
    "stat, p_value_24 = ttest_ind(AMB_PA_MECVV['Pèrdua pes entre ingressos'].between(1,3), TOTAL['Pèrdua pes entre ingressos'].between(1,3), equal_var=False)\n",
    "print(\"P-valor entre AMB_PA_MECVV i TOTAL\", p_value_24)"
   ],
   "id": "83e1f662177e3911",
   "outputs": [
    {
     "name": "stdout",
     "output_type": "stream",
     "text": [
      "P-valor entre AMB_PA_MECVV i TOTAL nan\n"
     ]
    }
   ],
   "execution_count": 175
  },
  {
   "metadata": {
    "ExecuteTime": {
     "end_time": "2024-05-04T10:18:34.281529Z",
     "start_time": "2024-05-04T10:18:34.268813Z"
    }
   },
   "cell_type": "code",
   "source": [
    "stat, p_value_34 = ttest_ind(SENSE_PA['Pèrdua pes entre ingressos'].between(1,3), TOTAL['Pèrdua pes entre ingressos'].between(1,3), equal_var=False)\n",
    "print(\"P-valor entre SENSE_PA i TOTAL\", p_value_34)"
   ],
   "id": "c66ec80f0535d062",
   "outputs": [
    {
     "name": "stdout",
     "output_type": "stream",
     "text": [
      "P-valor entre SENSE_PA i TOTAL nan\n"
     ]
    }
   ],
   "execution_count": 176
  },
  {
   "metadata": {},
   "cell_type": "markdown",
   "source": "##### Sense pèrdua de pes",
   "id": "7fb918f61047925d"
  },
  {
   "metadata": {
    "ExecuteTime": {
     "end_time": "2024-05-04T10:18:34.333118Z",
     "start_time": "2024-05-04T10:18:34.321043Z"
    }
   },
   "cell_type": "code",
   "source": [
    "stat, p_value_12 = ttest_ind(AMB_PA['Pèrdua pes entre ingressos'] == 0, AMB_PA_MECVV['Pèrdua pes entre ingressos'] == 0, equal_var=False)\n",
    "print(\"P-valor entre AMB_PA i AMB_PA_MECVV\", p_value_12)"
   ],
   "id": "ddcfe56952c6742",
   "outputs": [
    {
     "name": "stdout",
     "output_type": "stream",
     "text": [
      "P-valor entre AMB_PA i AMB_PA_MECVV 0.35666312890880325\n"
     ]
    }
   ],
   "execution_count": 177
  },
  {
   "metadata": {
    "ExecuteTime": {
     "end_time": "2024-05-04T10:18:34.469325Z",
     "start_time": "2024-05-04T10:18:34.453966Z"
    }
   },
   "cell_type": "code",
   "source": [
    "stat, p_value_13 = ttest_ind(AMB_PA['Pèrdua pes entre ingressos'] == 0, SENSE_PA['Pèrdua pes entre ingressos'] == 0, equal_var=False)\n",
    "print(\"P-valor entre AMB_PA i SENSE_PA\", p_value_13)"
   ],
   "id": "2b5a2ce0471463eb",
   "outputs": [
    {
     "name": "stdout",
     "output_type": "stream",
     "text": [
      "P-valor entre AMB_PA i SENSE_PA 0.7477825496543375\n"
     ]
    }
   ],
   "execution_count": 178
  },
  {
   "metadata": {
    "ExecuteTime": {
     "end_time": "2024-05-04T10:18:34.524242Z",
     "start_time": "2024-05-04T10:18:34.510094Z"
    }
   },
   "cell_type": "code",
   "source": [
    "stat, p_value_23 = ttest_ind(AMB_PA_MECVV['Pèrdua pes entre ingressos'] == 0, SENSE_PA['Pèrdua pes entre ingressos'] == 0, equal_var=False)\n",
    "print(\"P-valor entre AMB_PA_MECVV i SENSE_PA\", p_value_23)"
   ],
   "id": "63480530eb839113",
   "outputs": [
    {
     "name": "stdout",
     "output_type": "stream",
     "text": [
      "P-valor entre AMB_PA_MECVV i SENSE_PA 0.2806702345204662\n"
     ]
    }
   ],
   "execution_count": 179
  },
  {
   "metadata": {
    "ExecuteTime": {
     "end_time": "2024-05-04T10:18:34.608713Z",
     "start_time": "2024-05-04T10:18:34.598033Z"
    }
   },
   "cell_type": "code",
   "source": [
    "stat, p_value_14 = ttest_ind(AMB_PA['Pèrdua pes entre ingressos'] == 0, TOTAL['Pèrdua pes entre ingressos'] == 0, equal_var=False)\n",
    "print(\"P-valor entre AMB_PA i TOTAL\", p_value_14)"
   ],
   "id": "f77a1453d7066516",
   "outputs": [
    {
     "name": "stdout",
     "output_type": "stream",
     "text": [
      "P-valor entre AMB_PA i TOTAL 0.3588136010930698\n"
     ]
    }
   ],
   "execution_count": 180
  },
  {
   "metadata": {
    "ExecuteTime": {
     "end_time": "2024-05-04T10:18:34.692191Z",
     "start_time": "2024-05-04T10:18:34.681009Z"
    }
   },
   "cell_type": "code",
   "source": [
    "stat, p_value_24 = ttest_ind(AMB_PA_MECVV['Pèrdua pes entre ingressos'] == 0, TOTAL['Pèrdua pes entre ingressos'] == 0, equal_var=False)\n",
    "print(\"P-valor entre AMB_PA_MECVV i TOTAL\", p_value_24)"
   ],
   "id": "8d5dd7521a7ce8fb",
   "outputs": [
    {
     "name": "stdout",
     "output_type": "stream",
     "text": [
      "P-valor entre AMB_PA_MECVV i TOTAL 0.15517285415019855\n"
     ]
    }
   ],
   "execution_count": 181
  },
  {
   "metadata": {
    "ExecuteTime": {
     "end_time": "2024-05-04T10:18:34.800599Z",
     "start_time": "2024-05-04T10:18:34.788056Z"
    }
   },
   "cell_type": "code",
   "source": [
    "stat, p_value_34 = ttest_ind(SENSE_PA['Pèrdua pes entre ingressos'] == 0, TOTAL['Pèrdua pes entre ingressos'] == 0, equal_var=False)\n",
    "print(\"P-valor entre SENSE_PA i TOTAL\", p_value_34)"
   ],
   "id": "aa66df85be92cde1",
   "outputs": [
    {
     "name": "stdout",
     "output_type": "stream",
     "text": [
      "P-valor entre SENSE_PA i TOTAL 0.7394077636469055\n"
     ]
    }
   ],
   "execution_count": 182
  },
  {
   "metadata": {},
   "cell_type": "markdown",
   "source": "## Pèrdua de pes entre ingressos (mitjana i SD)",
   "id": "45c98fba65b57695"
  },
  {
   "metadata": {
    "ExecuteTime": {
     "end_time": "2024-05-04T10:18:34.836119Z",
     "start_time": "2024-05-04T10:18:34.826990Z"
    }
   },
   "cell_type": "code",
   "source": [
    "mitjana_ppimsd = AMB_PA['Pèrdua pes entre ingressos'].mean()\n",
    "desviacio_estandard_ppimsd = AMB_PA['Pèrdua pes entre ingressos'].std()\n",
    "\n",
    "resultado = f\"{mitjana_ppimsd:.2f} ± {desviacio_estandard_ppimsd:.2f}\"\n",
    "print(\"Mitjana ± Desviació Estàndard de la pèrdua de pes entre ingressos:\", resultado)"
   ],
   "id": "5acd79f2ae323e03",
   "outputs": [
    {
     "name": "stdout",
     "output_type": "stream",
     "text": [
      "Mitjana ± Desviació Estàndard de la pèrdua de pes entre ingressos: 0.00 ± 0.00\n"
     ]
    }
   ],
   "execution_count": 183
  },
  {
   "metadata": {
    "ExecuteTime": {
     "end_time": "2024-05-04T10:18:34.945480Z",
     "start_time": "2024-05-04T10:18:34.936789Z"
    }
   },
   "cell_type": "code",
   "source": [
    "mitjana_ppimsd = AMB_PA_MECVV['Pèrdua pes entre ingressos'].mean()\n",
    "desviacio_estandard_ppimsd = AMB_PA_MECVV['Pèrdua pes entre ingressos'].std()\n",
    "\n",
    "resultado = f\"{mitjana_ppimsd:.2f} ± {desviacio_estandard_ppimsd:.2f}\"\n",
    "print(\"Mitjana ± Desviació Estàndard de la pèrdua de pes entre ingressos:\", resultado)"
   ],
   "id": "d318bd928551a60a",
   "outputs": [
    {
     "name": "stdout",
     "output_type": "stream",
     "text": [
      "Mitjana ± Desviació Estàndard de la pèrdua de pes entre ingressos: 0.00 ± 0.00\n"
     ]
    }
   ],
   "execution_count": 184
  },
  {
   "metadata": {
    "ExecuteTime": {
     "end_time": "2024-05-04T10:18:35.001779Z",
     "start_time": "2024-05-04T10:18:34.995343Z"
    }
   },
   "cell_type": "code",
   "source": [
    "mitjana_ppimsd = SENSE_PA['Pèrdua pes entre ingressos'].mean()\n",
    "desviacio_estandard_ppimsd = SENSE_PA['Pèrdua pes entre ingressos'].std()\n",
    "\n",
    "resultado = f\"{mitjana_ppimsd:.2f} ± {desviacio_estandard_ppimsd:.2f}\"\n",
    "print(\"Mitjana ± Desviació Estàndard de la pèrdua de pes entre ingressos:\", resultado)"
   ],
   "id": "aa9beb02232c4429",
   "outputs": [
    {
     "name": "stdout",
     "output_type": "stream",
     "text": [
      "Mitjana ± Desviació Estàndard de la pèrdua de pes entre ingressos: 9.35 ± 13.22\n"
     ]
    }
   ],
   "execution_count": 185
  },
  {
   "metadata": {
    "ExecuteTime": {
     "end_time": "2024-05-04T10:18:35.076939Z",
     "start_time": "2024-05-04T10:18:35.062302Z"
    }
   },
   "cell_type": "code",
   "source": [
    "mitjana_ppimsd = TOTAL['Pèrdua pes entre ingressos'].mean()\n",
    "desviacio_estandard_ppimsd = TOTAL['Pèrdua pes entre ingressos'].std()\n",
    "\n",
    "resultado = f\"{mitjana_ppimsd:.2f} ± {desviacio_estandard_ppimsd:.2f}\"\n",
    "print(\"Mitjana ± Desviació Estàndard de la pèrdua de pes entre ingressos:\", resultado)"
   ],
   "id": "2487235d66fdeab5",
   "outputs": [
    {
     "name": "stdout",
     "output_type": "stream",
     "text": [
      "Mitjana ± Desviació Estàndard de la pèrdua de pes entre ingressos: 3.74 ± 8.36\n"
     ]
    }
   ],
   "execution_count": 186
  },
  {
   "metadata": {},
   "cell_type": "markdown",
   "source": "#### Comparació distributiva",
   "id": "b3117c83becffc42"
  },
  {
   "metadata": {},
   "cell_type": "markdown",
   "source": "##### Normalitat i p-valor",
   "id": "8e3aa13f1eaf29e3"
  },
  {
   "metadata": {},
   "cell_type": "markdown",
   "source": "No cal calcular un altre cop la normalitat ja que estic utilitzant la mateixa columna que a l'apartat anterior, i vaig obtenir que tots 4 grups segueixen una distribució normal.",
   "id": "743b893c7a8b9817"
  },
  {
   "metadata": {
    "ExecuteTime": {
     "end_time": "2024-05-04T10:18:35.124235Z",
     "start_time": "2024-05-04T10:18:35.112774Z"
    }
   },
   "cell_type": "code",
   "source": [
    "stat, p_value_12 = ttest_ind(AMB_PA['Pèrdua pes entre ingressos'], AMB_PA_MECVV['Pèrdua pes entre ingressos'], equal_var=False)\n",
    "print(\"P-valor entre AMB_PA i AMB_PA_MECVV\", p_value_12)"
   ],
   "id": "5758e061099443b4",
   "outputs": [
    {
     "name": "stdout",
     "output_type": "stream",
     "text": [
      "P-valor entre AMB_PA i AMB_PA_MECVV nan\n"
     ]
    }
   ],
   "execution_count": 187
  },
  {
   "metadata": {
    "ExecuteTime": {
     "end_time": "2024-05-04T10:18:35.230923Z",
     "start_time": "2024-05-04T10:18:35.222607Z"
    }
   },
   "cell_type": "code",
   "source": [
    "stat, p_value_13 = ttest_ind(AMB_PA['Pèrdua pes entre ingressos'], SENSE_PA['Pèrdua pes entre ingressos'], equal_var=False)\n",
    "print(\"P-valor entre AMB_PA i SENSE_PA\", p_value_13)"
   ],
   "id": "46c3f006c41d89df",
   "outputs": [
    {
     "name": "stdout",
     "output_type": "stream",
     "text": [
      "P-valor entre AMB_PA i SENSE_PA nan\n"
     ]
    }
   ],
   "execution_count": 188
  },
  {
   "metadata": {
    "ExecuteTime": {
     "end_time": "2024-05-04T10:18:35.288681Z",
     "start_time": "2024-05-04T10:18:35.282361Z"
    }
   },
   "cell_type": "code",
   "source": [
    "stat, p_value_23 = ttest_ind(AMB_PA_MECVV['Pèrdua pes entre ingressos'], SENSE_PA['Pèrdua pes entre ingressos'], equal_var=False)\n",
    "print(\"P-valor entre AMB_PA_MECVV i SENSE_PA\", p_value_23)"
   ],
   "id": "32d987d840104daf",
   "outputs": [
    {
     "name": "stdout",
     "output_type": "stream",
     "text": [
      "P-valor entre AMB_PA_MECVV i SENSE_PA nan\n"
     ]
    }
   ],
   "execution_count": 189
  },
  {
   "metadata": {
    "ExecuteTime": {
     "end_time": "2024-05-04T10:18:35.371635Z",
     "start_time": "2024-05-04T10:18:35.362703Z"
    }
   },
   "cell_type": "code",
   "source": [
    "stat, p_value_14 = ttest_ind(AMB_PA['Pèrdua pes entre ingressos'], TOTAL['Pèrdua pes entre ingressos'], equal_var=False)\n",
    "print(\"P-valor entre AMB_PA i TOTAL\", p_value_14)"
   ],
   "id": "82a0dd1d0ec3cadb",
   "outputs": [
    {
     "name": "stdout",
     "output_type": "stream",
     "text": [
      "P-valor entre AMB_PA i TOTAL nan\n"
     ]
    }
   ],
   "execution_count": 190
  },
  {
   "metadata": {
    "ExecuteTime": {
     "end_time": "2024-05-04T10:18:35.424064Z",
     "start_time": "2024-05-04T10:18:35.415260Z"
    }
   },
   "cell_type": "code",
   "source": [
    "stat, p_value_24 = ttest_ind(AMB_PA_MECVV['Pèrdua pes entre ingressos'], TOTAL['Pèrdua pes entre ingressos'], equal_var=False)\n",
    "print(\"P-valor entre AMB_PA_MECVV i TOTAL\", p_value_24)"
   ],
   "id": "9268bfda8f1abbc9",
   "outputs": [
    {
     "name": "stdout",
     "output_type": "stream",
     "text": [
      "P-valor entre AMB_PA_MECVV i TOTAL nan\n"
     ]
    }
   ],
   "execution_count": 191
  },
  {
   "metadata": {
    "ExecuteTime": {
     "end_time": "2024-05-04T10:18:35.546923Z",
     "start_time": "2024-05-04T10:18:35.538263Z"
    }
   },
   "cell_type": "code",
   "source": [
    "stat, p_value_34 = ttest_ind(SENSE_PA['Pèrdua pes entre ingressos'], TOTAL['Pèrdua pes entre ingressos'], equal_var=False)\n",
    "print(\"P-valor entre SENSE_PA i TOTAL\", p_value_34)"
   ],
   "id": "6d63b98838e1ed44",
   "outputs": [
    {
     "name": "stdout",
     "output_type": "stream",
     "text": [
      "P-valor entre SENSE_PA i TOTAL nan\n"
     ]
    }
   ],
   "execution_count": 192
  },
  {
   "metadata": {},
   "cell_type": "markdown",
   "source": "## Pèrdua de pes total",
   "id": "9477750ecfe6e87d"
  },
  {
   "metadata": {
    "ExecuteTime": {
     "end_time": "2024-05-04T10:21:18.559296Z",
     "start_time": "2024-05-04T10:21:18.543333Z"
    }
   },
   "cell_type": "code",
   "source": [
    "AMB_PA.loc[:, 'Pèrdua pes total'] = pd.to_numeric(AMB_PA['Pèrdua pes total'], errors='coerce').dropna()\n",
    "AMB_PA_MECVV.loc[:, 'Pèrdua pes total'] = pd.to_numeric(AMB_PA_MECVV['Pèrdua pes total'], errors='coerce').dropna()\n",
    "SENSE_PA.loc[:, 'Pèrdua pes total'] = pd.to_numeric(SENSE_PA['Pèrdua pes total'], errors='coerce').dropna()\n",
    "TOTAL.loc[:, 'Pèrdua pes total'] = pd.to_numeric(TOTAL['Pèrdua pes total'], errors='coerce').dropna()"
   ],
   "id": "7358237f82fedff9",
   "outputs": [],
   "execution_count": 224
  },
  {
   "metadata": {
    "ExecuteTime": {
     "end_time": "2024-05-04T10:19:37.139858Z",
     "start_time": "2024-05-04T10:19:37.132482Z"
    }
   },
   "cell_type": "code",
   "source": [
    "mitjana_ppt = AMB_PA['Pèrdua pes total'].mean()\n",
    "desviacio_estandard_ppt = AMB_PA['Pèrdua pes total'].std()\n",
    "\n",
    "resultado = f\"{mitjana_ppt:.2f} ± {desviacio_estandard_ppt:.2f}\"\n",
    "print(\"Mitjana ± Desviació Estàndard de la pèrdua de pes total:\", resultado)"
   ],
   "id": "7c2e8a9f82d51ae2",
   "outputs": [
    {
     "name": "stdout",
     "output_type": "stream",
     "text": [
      "Mitjana ± Desviació Estàndard de la pèrdua de pes total: 3.47 ± 6.39\n"
     ]
    }
   ],
   "execution_count": 209
  },
  {
   "metadata": {
    "ExecuteTime": {
     "end_time": "2024-05-04T10:19:39.287183Z",
     "start_time": "2024-05-04T10:19:39.276027Z"
    }
   },
   "cell_type": "code",
   "source": [
    "mitjana_ppt = AMB_PA_MECVV['Pèrdua pes total'].mean()\n",
    "desviacio_estandard_ppt = AMB_PA_MECVV['Pèrdua pes total'].std()\n",
    "\n",
    "resultado = f\"{mitjana_ppt:.2f} ± {desviacio_estandard_ppt:.2f}\"\n",
    "print(\"Mitjana ± Desviació Estàndard de la pèrdua de pes total:\", resultado)"
   ],
   "id": "254579e85a85aa3b",
   "outputs": [
    {
     "name": "stdout",
     "output_type": "stream",
     "text": [
      "Mitjana ± Desviació Estàndard de la pèrdua de pes total: 8.22 ± 18.38\n"
     ]
    }
   ],
   "execution_count": 210
  },
  {
   "metadata": {
    "ExecuteTime": {
     "end_time": "2024-05-04T10:19:41.622446Z",
     "start_time": "2024-05-04T10:19:41.615280Z"
    }
   },
   "cell_type": "code",
   "source": [
    "mitjana_ppt = SENSE_PA['Pèrdua pes total'].mean()\n",
    "desviacio_estandard_ppt = SENSE_PA['Pèrdua pes total'].std()\n",
    "\n",
    "resultado = f\"{mitjana_ppt:.2f} ± {desviacio_estandard_ppt:.2f}\"\n",
    "print(\"Mitjana ± Desviació Estàndard de la pèrdua de pes total:\", resultado)"
   ],
   "id": "5a51c04bf7cbce57",
   "outputs": [
    {
     "name": "stdout",
     "output_type": "stream",
     "text": [
      "Mitjana ± Desviació Estàndard de la pèrdua de pes total: -10.16 ± 28.47\n"
     ]
    }
   ],
   "execution_count": 211
  },
  {
   "metadata": {},
   "cell_type": "markdown",
   "source": "#### Comparació distributiva",
   "id": "d03f5d33e5beb3f"
  },
  {
   "metadata": {},
   "cell_type": "markdown",
   "source": "##### Normalitat i p-valor",
   "id": "6a04dfa230a1082e"
  },
  {
   "metadata": {
    "ExecuteTime": {
     "end_time": "2024-05-04T10:19:47.265422Z",
     "start_time": "2024-05-04T10:19:47.256074Z"
    }
   },
   "cell_type": "code",
   "source": [
    "stat, p_value = shapiro(AMB_PA['Pèrdua pes total'])\n",
    "print(f\"Estadístic W = {stat:.4f}\")\n",
    "print(f\"Valor p = {p_value:.4f}\")\n",
    "\n",
    "alpha = 0.05\n",
    "if p_value < alpha:\n",
    "    print(\"El nombre de files no segueix una distribució normal.\")\n",
    "else:\n",
    "    print(\"El nombre de files segueix una distribució normal\")"
   ],
   "id": "7cdafc896ee0ddfe",
   "outputs": [
    {
     "name": "stdout",
     "output_type": "stream",
     "text": [
      "Estadístic W = nan\n",
      "Valor p = nan\n",
      "El nombre de files segueix una distribució normal\n"
     ]
    }
   ],
   "execution_count": 213
  },
  {
   "metadata": {
    "ExecuteTime": {
     "end_time": "2024-05-04T10:19:49.829603Z",
     "start_time": "2024-05-04T10:19:49.816175Z"
    }
   },
   "cell_type": "code",
   "source": [
    "stat, p_value = shapiro(AMB_PA_MECVV['Pèrdua pes total'])\n",
    "print(f\"Estadístic W = {stat:.4f}\")\n",
    "print(f\"Valor p = {p_value:.4f}\")\n",
    "\n",
    "alpha = 0.05\n",
    "if p_value < alpha:\n",
    "    print(\"El nombre de files no segueix una distribució normal.\")\n",
    "else:\n",
    "    print(\"El nombre de files segueix una distribució normal\")"
   ],
   "id": "bb09b49a6c45d291",
   "outputs": [
    {
     "name": "stdout",
     "output_type": "stream",
     "text": [
      "Estadístic W = nan\n",
      "Valor p = nan\n",
      "El nombre de files segueix una distribució normal\n"
     ]
    }
   ],
   "execution_count": 214
  },
  {
   "metadata": {
    "ExecuteTime": {
     "end_time": "2024-05-04T10:19:52.415883Z",
     "start_time": "2024-05-04T10:19:52.402460Z"
    }
   },
   "cell_type": "code",
   "source": [
    "stat, p_value = shapiro(SENSE_PA['Pèrdua pes total'])\n",
    "print(f\"Estadístic W = {stat:.4f}\")\n",
    "print(f\"Valor p = {p_value:.4f}\")\n",
    "\n",
    "alpha = 0.05\n",
    "if p_value < alpha:\n",
    "    print(\"El nombre de files no segueix una distribució normal.\")\n",
    "else:\n",
    "    print(\"El nombre de files segueix una distribució normal\")"
   ],
   "id": "1cafec55e914c679",
   "outputs": [
    {
     "name": "stdout",
     "output_type": "stream",
     "text": [
      "Estadístic W = nan\n",
      "Valor p = nan\n",
      "El nombre de files segueix una distribució normal\n"
     ]
    }
   ],
   "execution_count": 215
  },
  {
   "metadata": {
    "ExecuteTime": {
     "end_time": "2024-05-04T10:19:55.379641Z",
     "start_time": "2024-05-04T10:19:55.370914Z"
    }
   },
   "cell_type": "code",
   "source": [
    "stat, p_value = shapiro(TOTAL['Pèrdua pes total'])\n",
    "print(f\"Estadístic W = {stat:.4f}\")\n",
    "print(f\"Valor p = {p_value:.4f}\")\n",
    "\n",
    "alpha = 0.05\n",
    "if p_value < alpha:\n",
    "    print(\"El nombre de files no segueix una distribució normal.\")\n",
    "else:\n",
    "    print(\"El nombre de files segueix una distribució normal\")"
   ],
   "id": "95b4219538f62e8c",
   "outputs": [
    {
     "name": "stdout",
     "output_type": "stream",
     "text": [
      "Estadístic W = nan\n",
      "Valor p = nan\n",
      "El nombre de files segueix una distribució normal\n"
     ]
    }
   ],
   "execution_count": 216
  },
  {
   "metadata": {
    "ExecuteTime": {
     "end_time": "2024-05-04T10:20:39.991530Z",
     "start_time": "2024-05-04T10:20:39.983484Z"
    }
   },
   "cell_type": "code",
   "source": [
    "stat, p_value_12 = ttest_ind(AMB_PA['Pèrdua pes total'], AMB_PA_MECVV['Pèrdua pes total'], equal_var=False)\n",
    "print(\"P-valor entre AMB_PA i AMB_PA_MECVV\", p_value_12)"
   ],
   "id": "e5ed98fa080679e2",
   "outputs": [
    {
     "name": "stdout",
     "output_type": "stream",
     "text": [
      "P-valor entre AMB_PA i AMB_PA_MECVV nan\n"
     ]
    }
   ],
   "execution_count": 217
  },
  {
   "metadata": {
    "ExecuteTime": {
     "end_time": "2024-05-04T10:20:42.585340Z",
     "start_time": "2024-05-04T10:20:42.575198Z"
    }
   },
   "cell_type": "code",
   "source": [
    "stat, p_value_13 = ttest_ind(AMB_PA['Pèrdua pes total'], SENSE_PA['Pèrdua pes total'], equal_var=False)\n",
    "print(\"P-valor entre AMB_PA i SENSE_PA\", p_value_13)"
   ],
   "id": "f99e8d20ba53f7e9",
   "outputs": [
    {
     "name": "stdout",
     "output_type": "stream",
     "text": [
      "P-valor entre AMB_PA i SENSE_PA nan\n"
     ]
    }
   ],
   "execution_count": 218
  },
  {
   "metadata": {
    "ExecuteTime": {
     "end_time": "2024-05-04T10:20:44.705375Z",
     "start_time": "2024-05-04T10:20:44.691329Z"
    }
   },
   "cell_type": "code",
   "source": [
    "stat, p_value_23 = ttest_ind(AMB_PA_MECVV['Pèrdua pes total'], SENSE_PA['Pèrdua pes total'], equal_var=False)\n",
    "print(\"P-valor entre AMB_PA_MECVV i SENSE_PA\", p_value_23)"
   ],
   "id": "bd21d0fe69869766",
   "outputs": [
    {
     "name": "stdout",
     "output_type": "stream",
     "text": [
      "P-valor entre AMB_PA_MECVV i SENSE_PA nan\n"
     ]
    }
   ],
   "execution_count": 219
  },
  {
   "metadata": {
    "ExecuteTime": {
     "end_time": "2024-05-04T10:20:46.827777Z",
     "start_time": "2024-05-04T10:20:46.814944Z"
    }
   },
   "cell_type": "code",
   "source": [
    "stat, p_value_14 = ttest_ind(AMB_PA['Pèrdua pes total'], TOTAL['Pèrdua pes total'], equal_var=False)\n",
    "print(\"P-valor entre AMB_PA i TOTAL\", p_value_14)"
   ],
   "id": "d76c25bc70c6bffb",
   "outputs": [
    {
     "name": "stdout",
     "output_type": "stream",
     "text": [
      "P-valor entre AMB_PA i TOTAL nan\n"
     ]
    }
   ],
   "execution_count": 220
  },
  {
   "metadata": {
    "ExecuteTime": {
     "end_time": "2024-05-04T10:20:48.962655Z",
     "start_time": "2024-05-04T10:20:48.948076Z"
    }
   },
   "cell_type": "code",
   "source": [
    "stat, p_value_24 = ttest_ind(AMB_PA_MECVV['Pèrdua pes total'], TOTAL['Pèrdua pes total'], equal_var=False)\n",
    "print(\"P-valor entre AMB_PA_MECVV i TOTAL\", p_value_24)"
   ],
   "id": "9e921cc3826278a3",
   "outputs": [
    {
     "name": "stdout",
     "output_type": "stream",
     "text": [
      "P-valor entre AMB_PA_MECVV i TOTAL nan\n"
     ]
    }
   ],
   "execution_count": 221
  },
  {
   "metadata": {
    "ExecuteTime": {
     "end_time": "2024-05-04T10:20:51.028524Z",
     "start_time": "2024-05-04T10:20:51.016735Z"
    }
   },
   "cell_type": "code",
   "source": [
    "stat, p_value_34 = ttest_ind(SENSE_PA['Pèrdua pes total'], TOTAL['Pèrdua pes total'], equal_var=False)\n",
    "print(\"P-valor entre SENSE_PA i TOTAL\", p_value_34)"
   ],
   "id": "cbaf256f3f2868a5",
   "outputs": [
    {
     "name": "stdout",
     "output_type": "stream",
     "text": [
      "P-valor entre SENSE_PA i TOTAL nan\n"
     ]
    }
   ],
   "execution_count": 222
  }
 ],
 "metadata": {
  "kernelspec": {
   "display_name": "Python 3",
   "language": "python",
   "name": "python3"
  },
  "language_info": {
   "codemirror_mode": {
    "name": "ipython",
    "version": 2
   },
   "file_extension": ".py",
   "mimetype": "text/x-python",
   "name": "python",
   "nbconvert_exporter": "python",
   "pygments_lexer": "ipython2",
   "version": "2.7.6"
  }
 },
 "nbformat": 4,
 "nbformat_minor": 5
}
