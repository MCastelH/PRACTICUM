{
 "cells": [
  {
   "cell_type": "code",
   "id": "initial_id",
   "metadata": {
    "collapsed": true,
    "ExecuteTime": {
     "end_time": "2024-05-22T10:58:55.660690Z",
     "start_time": "2024-05-22T10:58:53.152121Z"
    }
   },
   "source": [
    "import pandas as pd\n",
    "\n",
    "taula = pd.read_pickle('./data/processed/dataframe.pkl')\n",
    "from scipy.stats import ttest_ind\n",
    "from scipy.stats import shapiro\n",
    "from scipy.stats import chi2_contingency"
   ],
   "outputs": [],
   "execution_count": 1
  },
  {
   "metadata": {
    "ExecuteTime": {
     "end_time": "2024-05-22T10:58:55.690640Z",
     "start_time": "2024-05-22T10:58:55.660690Z"
    }
   },
   "cell_type": "code",
   "source": [
    "AMB_PA = taula[taula[\"PA diagnosticada\"] == 1.0]\n",
    "AMB_PA_MECVV = taula[\n",
    "    (taula[\"Dies entre primer ICD pneumònia i primer MECVV positiu\"] < 30)]\n",
    "SENSE_PA = taula[\n",
    "           (taula[\"Dies entre primer ICD pneumònia i primer MECVV positiu\"] > 30) &\n",
    "           (taula['P diagnosticada'] == 1.0)]\n",
    "TOTAL = taula"
   ],
   "id": "78643956fe9047dd",
   "outputs": [],
   "execution_count": 2
  },
  {
   "metadata": {},
   "cell_type": "markdown",
   "source": "## Pèrdua de pes entre ingressos %",
   "id": "573992f66d509eba"
  },
  {
   "metadata": {
    "ExecuteTime": {
     "end_time": "2024-05-22T10:58:55.708211Z",
     "start_time": "2024-05-22T10:58:55.691241Z"
    }
   },
   "cell_type": "code",
   "source": [
    "AMB_PA.loc[:, 'Pèrdua pes entre ingressos'] = pd.to_numeric(AMB_PA['Pèrdua pes entre ingressos'], errors='coerce')\n",
    "AMB_PA_MECVV.loc[:, 'Pèrdua pes entre ingressos'] = pd.to_numeric(AMB_PA_MECVV['Pèrdua pes entre ingressos'], errors='coerce')\n",
    "SENSE_PA.loc[:, 'Pèrdua pes entre ingressos'] = pd.to_numeric(SENSE_PA['Pèrdua pes entre ingressos'], errors='coerce')\n",
    "TOTAL.loc[:, 'Pèrdua pes entre ingressos'] = pd.to_numeric(TOTAL['Pèrdua pes entre ingressos'], errors='coerce')"
   ],
   "id": "fc598d32816f3cbc",
   "outputs": [],
   "execution_count": 3
  },
  {
   "metadata": {},
   "cell_type": "markdown",
   "source": "##### Pèrdua de pes superior a 10 kg",
   "id": "58629d49feea911f"
  },
  {
   "metadata": {
    "ExecuteTime": {
     "end_time": "2024-05-22T10:58:55.723033Z",
     "start_time": "2024-05-22T10:58:55.710266Z"
    }
   },
   "cell_type": "code",
   "source": [
    "ppi_AMB_PA= (AMB_PA['Pèrdua pes entre ingressos'] > 10.0).mean() * 100\n",
    "print(f\"Percentatge de pèrdua de pes superior a 10 kg: {ppi_AMB_PA:.2f}%\")"
   ],
   "id": "14ea6b9af899dde6",
   "outputs": [
    {
     "name": "stdout",
     "output_type": "stream",
     "text": [
      "Percentatge de pèrdua de pes superior a 10 kg: 0.00%\n"
     ]
    }
   ],
   "execution_count": 4
  },
  {
   "metadata": {
    "ExecuteTime": {
     "end_time": "2024-05-22T10:58:55.740821Z",
     "start_time": "2024-05-22T10:58:55.723033Z"
    }
   },
   "cell_type": "code",
   "source": [
    "ppi_AMB_PA_MECVV= (AMB_PA_MECVV['Pèrdua pes entre ingressos'] > 10.0).mean() * 100\n",
    "print(f\"Percentatge de pèrdua de pes superior a 10 kg: {ppi_AMB_PA_MECVV:.2f}%\")"
   ],
   "id": "4e093e1f1bff6766",
   "outputs": [
    {
     "name": "stdout",
     "output_type": "stream",
     "text": [
      "Percentatge de pèrdua de pes superior a 10 kg: 0.00%\n"
     ]
    }
   ],
   "execution_count": 5
  },
  {
   "metadata": {
    "ExecuteTime": {
     "end_time": "2024-05-22T10:58:55.755269Z",
     "start_time": "2024-05-22T10:58:55.745103Z"
    }
   },
   "cell_type": "code",
   "source": [
    "ppi_SENSE_PA= (SENSE_PA['Pèrdua pes entre ingressos'] > 10.0).mean() * 100\n",
    "print(f\"Percentatge de pèrdua de pes superior a 10 kg: {ppi_SENSE_PA:.2f}%\")"
   ],
   "id": "4ee00d119c1d34de",
   "outputs": [
    {
     "name": "stdout",
     "output_type": "stream",
     "text": [
      "Percentatge de pèrdua de pes superior a 10 kg: 12.50%\n"
     ]
    }
   ],
   "execution_count": 6
  },
  {
   "metadata": {
    "ExecuteTime": {
     "end_time": "2024-05-22T10:58:55.774982Z",
     "start_time": "2024-05-22T10:58:55.758128Z"
    }
   },
   "cell_type": "code",
   "source": [
    "ppi_TOTAL= (TOTAL['Pèrdua pes entre ingressos'] > 10.0).mean() * 100\n",
    "print(f\"Percentatge de pèrdua de pes superior a 10 kg: {ppi_TOTAL:.2f}%\")"
   ],
   "id": "ce9d55aa9dabd559",
   "outputs": [
    {
     "name": "stdout",
     "output_type": "stream",
     "text": [
      "Percentatge de pèrdua de pes superior a 10 kg: 2.00%\n"
     ]
    }
   ],
   "execution_count": 7
  },
  {
   "metadata": {},
   "cell_type": "markdown",
   "source": "##### Pèrdua de pes d'entre 6-10 kg",
   "id": "7a8f16f1c1de0afa"
  },
  {
   "metadata": {
    "ExecuteTime": {
     "end_time": "2024-05-22T10:58:55.793851Z",
     "start_time": "2024-05-22T10:58:55.781198Z"
    }
   },
   "cell_type": "code",
   "source": [
    "ppi_AMB_PA= (AMB_PA['Pèrdua pes entre ingressos'].between(6,10)).mean() * 100\n",
    "print(f\"Percentatge de pèrdua de pes 6-10 kg: {ppi_AMB_PA:.2f}%\")"
   ],
   "id": "3b2e1d3d23333418",
   "outputs": [
    {
     "name": "stdout",
     "output_type": "stream",
     "text": [
      "Percentatge de pèrdua de pes 6-10 kg: 0.00%\n"
     ]
    }
   ],
   "execution_count": 8
  },
  {
   "metadata": {
    "ExecuteTime": {
     "end_time": "2024-05-22T10:58:55.809902Z",
     "start_time": "2024-05-22T10:58:55.794351Z"
    }
   },
   "cell_type": "code",
   "source": [
    "ppi_AMB_PA= (AMB_PA_MECVV['Pèrdua pes entre ingressos'].between(6,10)).mean() * 100\n",
    "print(f\"Percentatge de pèrdua de pes 6-10 kg: {ppi_AMB_PA_MECVV:.2f}%\")"
   ],
   "id": "1bb46c16c0887b3",
   "outputs": [
    {
     "name": "stdout",
     "output_type": "stream",
     "text": [
      "Percentatge de pèrdua de pes 6-10 kg: 0.00%\n"
     ]
    }
   ],
   "execution_count": 9
  },
  {
   "metadata": {
    "ExecuteTime": {
     "end_time": "2024-05-22T10:58:55.828268Z",
     "start_time": "2024-05-22T10:58:55.811762Z"
    }
   },
   "cell_type": "code",
   "source": [
    "ppi_SENSE_PA= (SENSE_PA['Pèrdua pes entre ingressos'].between(6,10)).mean() * 100\n",
    "print(f\"Percentatge de pèrdua de pes 6-10 kg: {ppi_SENSE_PA:.2f}%\")"
   ],
   "id": "d01f16042ab58a3c",
   "outputs": [
    {
     "name": "stdout",
     "output_type": "stream",
     "text": [
      "Percentatge de pèrdua de pes 6-10 kg: 0.00%\n"
     ]
    }
   ],
   "execution_count": 10
  },
  {
   "metadata": {
    "ExecuteTime": {
     "end_time": "2024-05-22T10:58:55.840842Z",
     "start_time": "2024-05-22T10:58:55.831420Z"
    }
   },
   "cell_type": "code",
   "source": [
    "ppi_TOTAL= (TOTAL['Pèrdua pes entre ingressos'].between(6,10)).mean() * 100\n",
    "print(f\"Percentatge de pèrdua de pes 6-10 kg: {ppi_TOTAL:.2f}%\")"
   ],
   "id": "a0edeb1005434d4a",
   "outputs": [
    {
     "name": "stdout",
     "output_type": "stream",
     "text": [
      "Percentatge de pèrdua de pes 6-10 kg: 0.00%\n"
     ]
    }
   ],
   "execution_count": 11
  },
  {
   "metadata": {},
   "cell_type": "markdown",
   "source": "##### Pèrdua pes d'entre 3-6 kg",
   "id": "12c3cda5eff88265"
  },
  {
   "metadata": {
    "ExecuteTime": {
     "end_time": "2024-05-22T10:58:55.856701Z",
     "start_time": "2024-05-22T10:58:55.842348Z"
    }
   },
   "cell_type": "code",
   "source": [
    "ppi_AMB_PA= (AMB_PA['Pèrdua pes entre ingressos'].between(3,6)).mean() * 100\n",
    "print(f\"Percentatge de pèrdua de pes 3-6 kg: {ppi_AMB_PA:.2f}%\")"
   ],
   "id": "15939acf8dba9bac",
   "outputs": [
    {
     "name": "stdout",
     "output_type": "stream",
     "text": [
      "Percentatge de pèrdua de pes 3-6 kg: 0.00%\n"
     ]
    }
   ],
   "execution_count": 12
  },
  {
   "metadata": {
    "ExecuteTime": {
     "end_time": "2024-05-22T10:58:55.869875Z",
     "start_time": "2024-05-22T10:58:55.858748Z"
    }
   },
   "cell_type": "code",
   "source": [
    "ppi_AMB_PA_MECVV= (AMB_PA['Pèrdua pes entre ingressos'].between(3,6)).mean() * 100\n",
    "print(f\"Percentatge de pèrdua de pes 3-6 kg: {ppi_AMB_PA_MECVV:.2f}%\")"
   ],
   "id": "6ca75bbb14714653",
   "outputs": [
    {
     "name": "stdout",
     "output_type": "stream",
     "text": [
      "Percentatge de pèrdua de pes 3-6 kg: 0.00%\n"
     ]
    }
   ],
   "execution_count": 13
  },
  {
   "metadata": {
    "ExecuteTime": {
     "end_time": "2024-05-22T10:58:55.886231Z",
     "start_time": "2024-05-22T10:58:55.877684Z"
    }
   },
   "cell_type": "code",
   "source": [
    "ppi_SENSE_PA= (SENSE_PA['Pèrdua pes entre ingressos'].between(3,6)).mean() * 100\n",
    "print(f\"Percentatge de pèrdua de pes 3-6 kg: {ppi_SENSE_PA:.2f}%\")"
   ],
   "id": "eb5a7b693dcfeb08",
   "outputs": [
    {
     "name": "stdout",
     "output_type": "stream",
     "text": [
      "Percentatge de pèrdua de pes 3-6 kg: 0.00%\n"
     ]
    }
   ],
   "execution_count": 14
  },
  {
   "metadata": {
    "ExecuteTime": {
     "end_time": "2024-05-22T10:58:55.901881Z",
     "start_time": "2024-05-22T10:58:55.892447Z"
    }
   },
   "cell_type": "code",
   "source": [
    "ppi_TOTAL= (TOTAL['Pèrdua pes entre ingressos'].between(3,6)).mean() * 100\n",
    "print(f\"Percentatge de pèrdua de pes 3-6 kg: {ppi_TOTAL:.2f}%\")"
   ],
   "id": "a8cd8ada616379d8",
   "outputs": [
    {
     "name": "stdout",
     "output_type": "stream",
     "text": [
      "Percentatge de pèrdua de pes 3-6 kg: 0.00%\n"
     ]
    }
   ],
   "execution_count": 15
  },
  {
   "metadata": {},
   "cell_type": "markdown",
   "source": "##### Pèrdua de pes d'entre 1-3 kg",
   "id": "f2da7e559c7e5b1a"
  },
  {
   "metadata": {
    "ExecuteTime": {
     "end_time": "2024-05-22T10:58:55.915247Z",
     "start_time": "2024-05-22T10:58:55.903829Z"
    }
   },
   "cell_type": "code",
   "source": [
    "ppi_AMB_PA= (AMB_PA['Pèrdua pes entre ingressos'].between(1, 3)).mean() * 100\n",
    "print(f\"Percentatge de pèrdua de pes 1-3 kg: {ppi_AMB_PA:.2f}%\")"
   ],
   "id": "5ffd60821ed59b98",
   "outputs": [
    {
     "name": "stdout",
     "output_type": "stream",
     "text": [
      "Percentatge de pèrdua de pes 1-3 kg: 0.00%\n"
     ]
    }
   ],
   "execution_count": 16
  },
  {
   "metadata": {
    "ExecuteTime": {
     "end_time": "2024-05-22T10:58:55.928205Z",
     "start_time": "2024-05-22T10:58:55.915247Z"
    }
   },
   "cell_type": "code",
   "source": [
    "ppi_AMB_PA_MECVV= (AMB_PA_MECVV['Pèrdua pes entre ingressos'].between(1, 3)).mean() * 100\n",
    "print(f\"Percentatge de pèrdua de pes 1-3 kg: {ppi_AMB_PA_MECVV:.2f}%\")"
   ],
   "id": "6846e95d8448bec6",
   "outputs": [
    {
     "name": "stdout",
     "output_type": "stream",
     "text": [
      "Percentatge de pèrdua de pes 1-3 kg: 0.00%\n"
     ]
    }
   ],
   "execution_count": 17
  },
  {
   "metadata": {
    "ExecuteTime": {
     "end_time": "2024-05-22T10:58:55.942133Z",
     "start_time": "2024-05-22T10:58:55.929991Z"
    }
   },
   "cell_type": "code",
   "source": [
    "ppi_SENSE_PA= (SENSE_PA['Pèrdua pes entre ingressos'].between(1, 3)).mean() * 100\n",
    "print(f\"Percentatge de pèrdua de pes 1-3 kg: {ppi_SENSE_PA:.2f}%\")"
   ],
   "id": "24047004508d65bb",
   "outputs": [
    {
     "name": "stdout",
     "output_type": "stream",
     "text": [
      "Percentatge de pèrdua de pes 1-3 kg: 0.00%\n"
     ]
    }
   ],
   "execution_count": 18
  },
  {
   "metadata": {
    "ExecuteTime": {
     "end_time": "2024-05-22T10:58:55.955681Z",
     "start_time": "2024-05-22T10:58:55.942635Z"
    }
   },
   "cell_type": "code",
   "source": [
    "ppi_TOTAL= (TOTAL['Pèrdua pes entre ingressos'].between(1, 3)).mean() * 100\n",
    "print(f\"Percentatge de pèrdua de pes 1-3 kg: {ppi_TOTAL:.2f}%\")"
   ],
   "id": "49bf616563b59da5",
   "outputs": [
    {
     "name": "stdout",
     "output_type": "stream",
     "text": [
      "Percentatge de pèrdua de pes 1-3 kg: 0.00%\n"
     ]
    }
   ],
   "execution_count": 19
  },
  {
   "metadata": {},
   "cell_type": "markdown",
   "source": "##### Sense pèrdua de pes ",
   "id": "b51535974cba8f3f"
  },
  {
   "metadata": {
    "ExecuteTime": {
     "end_time": "2024-05-22T10:58:55.966602Z",
     "start_time": "2024-05-22T10:58:55.956967Z"
    }
   },
   "cell_type": "code",
   "source": [
    "ppi_AMB_PA= (AMB_PA['Pèrdua pes entre ingressos'] == 0).mean() * 100\n",
    "print(f\"Percentatge sense pèrdua de pes: {ppi_AMB_PA:.2f}%\")"
   ],
   "id": "9f0c70a704f2e786",
   "outputs": [
    {
     "name": "stdout",
     "output_type": "stream",
     "text": [
      "Percentatge sense pèrdua de pes: 17.65%\n"
     ]
    }
   ],
   "execution_count": 20
  },
  {
   "metadata": {
    "ExecuteTime": {
     "end_time": "2024-05-22T10:58:55.979326Z",
     "start_time": "2024-05-22T10:58:55.968819Z"
    }
   },
   "cell_type": "code",
   "source": [
    "ppi_AMB_PA_MECVV= (AMB_PA_MECVV['Pèrdua pes entre ingressos'] == 0).mean() * 100\n",
    "print(f\"Percentatge sense pèrdua de pes: {ppi_AMB_PA_MECVV:.2f}%\")"
   ],
   "id": "e7be42c51349fcce",
   "outputs": [
    {
     "name": "stdout",
     "output_type": "stream",
     "text": [
      "Percentatge sense pèrdua de pes: 37.50%\n"
     ]
    }
   ],
   "execution_count": 21
  },
  {
   "metadata": {
    "ExecuteTime": {
     "end_time": "2024-05-22T10:58:55.993854Z",
     "start_time": "2024-05-22T10:58:55.983548Z"
    }
   },
   "cell_type": "code",
   "source": [
    "ppi_SENSE_PA= (SENSE_PA['Pèrdua pes entre ingressos'] == 0).mean() * 100\n",
    "print(f\"Percentatge sense pèrdua de pes: {ppi_SENSE_PA:.2f}%\")"
   ],
   "id": "15b300264f2fc312",
   "outputs": [
    {
     "name": "stdout",
     "output_type": "stream",
     "text": [
      "Percentatge sense pèrdua de pes: 12.50%\n"
     ]
    }
   ],
   "execution_count": 22
  },
  {
   "metadata": {
    "ExecuteTime": {
     "end_time": "2024-05-22T10:58:56.007217Z",
     "start_time": "2024-05-22T10:58:55.997358Z"
    }
   },
   "cell_type": "code",
   "source": [
    "ppi_TOTAL= (TOTAL['Pèrdua pes entre ingressos'] == 0).mean() * 100\n",
    "print(f\"Percentatge sense pèrdua de pes: {ppi_TOTAL:.2f}%\")"
   ],
   "id": "cef0c2a4c8fb2eda",
   "outputs": [
    {
     "name": "stdout",
     "output_type": "stream",
     "text": [
      "Percentatge sense pèrdua de pes: 8.00%\n"
     ]
    }
   ],
   "execution_count": 23
  },
  {
   "metadata": {},
   "cell_type": "markdown",
   "source": "#### Comparació distributiva",
   "id": "5acf9eded5b56b3f"
  },
  {
   "metadata": {},
   "cell_type": "markdown",
   "source": "##### Normalitat i p-valor",
   "id": "86a2e1ed763b4"
  },
  {
   "metadata": {
    "ExecuteTime": {
     "end_time": "2024-05-22T10:58:56.016974Z",
     "start_time": "2024-05-22T10:58:56.007217Z"
    }
   },
   "cell_type": "code",
   "source": "#TODO: realmente es categorica? no hace falta calcular normalidad no?",
   "id": "e724b05fcca4d89a",
   "outputs": [],
   "execution_count": 24
  },
  {
   "metadata": {
    "ExecuteTime": {
     "end_time": "2024-05-22T10:58:56.027636Z",
     "start_time": "2024-05-22T10:58:56.017490Z"
    }
   },
   "cell_type": "code",
   "source": [
    "stat, p_value = shapiro(AMB_PA['Pèrdua pes entre ingressos'])\n",
    "print(f\"Estadístic W = {stat:.4f}\")\n",
    "print(f\"Valor p = {p_value:.4f}\")\n",
    "\n",
    "alpha = 0.05\n",
    "if p_value < alpha:\n",
    "    print(\"El nombre de files no segueix una distribució normal.\")\n",
    "else:\n",
    "    print(\"El nombre de files segueix una distribució normal\")"
   ],
   "id": "13828d7d811251a8",
   "outputs": [
    {
     "name": "stdout",
     "output_type": "stream",
     "text": [
      "Estadístic W = nan\n",
      "Valor p = nan\n",
      "El nombre de files segueix una distribució normal\n"
     ]
    }
   ],
   "execution_count": 25
  },
  {
   "metadata": {
    "ExecuteTime": {
     "end_time": "2024-05-22T10:58:56.039790Z",
     "start_time": "2024-05-22T10:58:56.030763Z"
    }
   },
   "cell_type": "code",
   "source": [
    "stat, p_value = shapiro(AMB_PA_MECVV['Pèrdua pes entre ingressos'])\n",
    "print(f\"Estadístic W = {stat:.4f}\")\n",
    "print(f\"Valor p = {p_value:.4f}\")\n",
    "\n",
    "alpha = 0.05\n",
    "if p_value < alpha:\n",
    "    print(\"El nombre de files no segueix una distribució normal.\")\n",
    "else:\n",
    "    print(\"El nombre de files segueix una distribució normal\")"
   ],
   "id": "a9e962da7a1164db",
   "outputs": [
    {
     "name": "stdout",
     "output_type": "stream",
     "text": [
      "Estadístic W = nan\n",
      "Valor p = nan\n",
      "El nombre de files segueix una distribució normal\n"
     ]
    }
   ],
   "execution_count": 26
  },
  {
   "metadata": {
    "ExecuteTime": {
     "end_time": "2024-05-22T10:58:56.049986Z",
     "start_time": "2024-05-22T10:58:56.041541Z"
    }
   },
   "cell_type": "code",
   "source": [
    "stat, p_value = shapiro(SENSE_PA['Pèrdua pes entre ingressos'])\n",
    "print(f\"Estadístic W = {stat:.4f}\")\n",
    "print(f\"Valor p = {p_value:.4f}\")\n",
    "\n",
    "alpha = 0.05\n",
    "if p_value < alpha:\n",
    "    print(\"El nombre de files no segueix una distribució normal.\")\n",
    "else:\n",
    "    print(\"El nombre de files segueix una distribució normal\")"
   ],
   "id": "a3919d0c3641ebcd",
   "outputs": [
    {
     "name": "stdout",
     "output_type": "stream",
     "text": [
      "Estadístic W = nan\n",
      "Valor p = nan\n",
      "El nombre de files segueix una distribució normal\n"
     ]
    }
   ],
   "execution_count": 27
  },
  {
   "metadata": {
    "ExecuteTime": {
     "end_time": "2024-05-22T10:58:56.060794Z",
     "start_time": "2024-05-22T10:58:56.052408Z"
    }
   },
   "cell_type": "code",
   "source": [
    "stat, p_value = shapiro(TOTAL['Pèrdua pes entre ingressos'])\n",
    "print(f\"Estadístic W = {stat:.4f}\")\n",
    "print(f\"Valor p = {p_value:.4f}\")\n",
    "\n",
    "alpha = 0.05\n",
    "if p_value < alpha:\n",
    "    print(\"El nombre de files no segueix una distribució normal.\")\n",
    "else:\n",
    "    print(\"El nombre de files segueix una distribució normal\")"
   ],
   "id": "1be3e32f9433e310",
   "outputs": [
    {
     "name": "stdout",
     "output_type": "stream",
     "text": [
      "Estadístic W = nan\n",
      "Valor p = nan\n",
      "El nombre de files segueix una distribució normal\n"
     ]
    }
   ],
   "execution_count": 28
  },
  {
   "metadata": {
    "ExecuteTime": {
     "end_time": "2024-05-22T10:58:56.068203Z",
     "start_time": "2024-05-22T10:58:56.061824Z"
    }
   },
   "cell_type": "code",
   "source": "##### Pèrdua de pes superior a 10 kg #TODO: subcategorias de peso con xi cuadrado o con mannwhitney/ttest?",
   "id": "eb861f251399f5a0",
   "outputs": [],
   "execution_count": 29
  },
  {
   "metadata": {
    "ExecuteTime": {
     "end_time": "2024-05-22T10:58:56.094421Z",
     "start_time": "2024-05-22T10:58:56.069124Z"
    }
   },
   "cell_type": "code",
   "source": [
    "contingency_table_12 = pd.crosstab(index=AMB_PA['Pèrdua pes entre ingressos'] > 10.0, columns=AMB_PA_MECVV['Pèrdua pes entre ingressos'] > 10.0) \n",
    "\n",
    "chi2_12, p_value_12, dof_12, expected_12 = chi2_contingency(contingency_table_12) \n",
    "\n",
    "print(\"Estadístic xi-quadrat entre AMB_PA i AMB_PA_MECVV:\", chi2_12) \n",
    "print(\"P-valor entre AMB_PA i AMB_PA_MECVV:\", p_value_12) \n",
    "\n",
    "if p_value_12 < 0.05: \n",
    "   print(\"Hi ha diferències significatives entre les distribucions de pèrdua de pes entre ingressos en AMB_PA i AMB_PA_MECVV.\") \n",
    "else: \n",
    "   print(\"No hi ha diferències significatives entre les distribucions de pèrdua de pes entre ingressos en AMB_PA i AMB_PA_MECVV.\")\n"
   ],
   "id": "a4801643d5563b7",
   "outputs": [
    {
     "name": "stdout",
     "output_type": "stream",
     "text": [
      "Estadístic xi-quadrat entre AMB_PA i AMB_PA_MECVV: 0.0\n",
      "P-valor entre AMB_PA i AMB_PA_MECVV: 1.0\n",
      "No hi ha diferències significatives entre les distribucions de pèrdua de pes entre ingressos en AMB_PA i AMB_PA_MECVV.\n"
     ]
    }
   ],
   "execution_count": 30
  },
  {
   "metadata": {
    "ExecuteTime": {
     "end_time": "2024-05-22T10:58:56.115763Z",
     "start_time": "2024-05-22T10:58:56.094421Z"
    }
   },
   "cell_type": "code",
   "source": [
    "contingency_table_13 = pd.crosstab(index=AMB_PA['Pèrdua pes entre ingressos'] > 10.0, columns=SENSE_PA['Pèrdua pes entre ingressos'] > 10.0) \n",
    "\n",
    "chi2_13, p_value_13, dof_13, expected_13 = chi2_contingency(contingency_table_13) \n",
    "\n",
    "print(\"Estadístic xi-quadrat entre AMB_PA i SENSE_PA:\", chi2_13) \n",
    "print(\"P-valor entre AMB_PA i SENSE_PA:\", p_value_13) \n",
    "\n",
    "if p_value_13 < 0.05: \n",
    "   print(\"Hi ha diferències significatives entre les distribucions de pèrdua de pes entre ingressos en AMB_PA i SENSE_PA.\") \n",
    "else: \n",
    "   print(\"No hi ha diferències significatives entre les distribucions de pèrdua de pes entre ingressos en AMB_PA i SENSE_PA.\")"
   ],
   "id": "b4aca9b32c3656d2",
   "outputs": [
    {
     "name": "stdout",
     "output_type": "stream",
     "text": [
      "Estadístic xi-quadrat entre AMB_PA i SENSE_PA: 0.0\n",
      "P-valor entre AMB_PA i SENSE_PA: 1.0\n",
      "No hi ha diferències significatives entre les distribucions de pèrdua de pes entre ingressos en AMB_PA i SENSE_PA.\n"
     ]
    }
   ],
   "execution_count": 31
  },
  {
   "metadata": {
    "ExecuteTime": {
     "end_time": "2024-05-22T10:58:56.741509Z",
     "start_time": "2024-05-22T10:58:56.116263Z"
    }
   },
   "cell_type": "code",
   "source": [
    "contingency_table_23 = pd.crosstab(index=AMB_PA_MECVV['Pèrdua pes entre ingressos'] > 10.0, columns=SENSE_PA['Pèrdua pes entre ingressos'] > 10.0) \n",
    "\n",
    "chi2_23, p_value_23, dof_23, expected_23 = chi2_contingency(contingency_table_23) \n",
    "\n",
    "print(\"Estadístic xi-quadrat entre AMB_PA_MECVV i SENSE_PA:\", chi2_23) \n",
    "print(\"P-valor entre AMB_PA_MECVV i SENSE_PA:\", p_value_23) \n",
    "\n",
    "if p_value_23 < 0.05: \n",
    "   print(\"Hi ha diferències significatives entre les distribucions de pèrdua de pes entre ingressos en AMB_PA_MECVV i SENSE_PA.\") \n",
    "else: \n",
    "   print(\"No hi ha diferències significatives entre les distribucions de pèrdua de pes entre ingressos en AMB_PA_MECVV i SENSE_PA.\")"
   ],
   "id": "afb3ed3f4b109641",
   "outputs": [
    {
     "ename": "ValueError",
     "evalue": "No data; `observed` has size 0.",
     "output_type": "error",
     "traceback": [
      "\u001B[1;31m---------------------------------------------------------------------------\u001B[0m",
      "\u001B[1;31mValueError\u001B[0m                                Traceback (most recent call last)",
      "Cell \u001B[1;32mIn[32], line 3\u001B[0m\n\u001B[0;32m      1\u001B[0m contingency_table_23 \u001B[38;5;241m=\u001B[39m pd\u001B[38;5;241m.\u001B[39mcrosstab(index\u001B[38;5;241m=\u001B[39mAMB_PA_MECVV[\u001B[38;5;124m'\u001B[39m\u001B[38;5;124mPèrdua pes entre ingressos\u001B[39m\u001B[38;5;124m'\u001B[39m] \u001B[38;5;241m>\u001B[39m \u001B[38;5;241m10.0\u001B[39m, columns\u001B[38;5;241m=\u001B[39mSENSE_PA[\u001B[38;5;124m'\u001B[39m\u001B[38;5;124mPèrdua pes entre ingressos\u001B[39m\u001B[38;5;124m'\u001B[39m] \u001B[38;5;241m>\u001B[39m \u001B[38;5;241m10.0\u001B[39m) \n\u001B[1;32m----> 3\u001B[0m chi2_23, p_value_23, dof_23, expected_23 \u001B[38;5;241m=\u001B[39m \u001B[43mchi2_contingency\u001B[49m\u001B[43m(\u001B[49m\u001B[43mcontingency_table_23\u001B[49m\u001B[43m)\u001B[49m \n\u001B[0;32m      5\u001B[0m \u001B[38;5;28mprint\u001B[39m(\u001B[38;5;124m\"\u001B[39m\u001B[38;5;124mEstadístic xi-quadrat entre AMB_PA_MECVV i SENSE_PA:\u001B[39m\u001B[38;5;124m\"\u001B[39m, chi2_23) \n\u001B[0;32m      6\u001B[0m \u001B[38;5;28mprint\u001B[39m(\u001B[38;5;124m\"\u001B[39m\u001B[38;5;124mP-valor entre AMB_PA_MECVV i SENSE_PA:\u001B[39m\u001B[38;5;124m\"\u001B[39m, p_value_23) \n",
      "File \u001B[1;32m~\\PycharmProjects\\practicum\\.venv\\Lib\\site-packages\\scipy\\stats\\contingency.py:333\u001B[0m, in \u001B[0;36mchi2_contingency\u001B[1;34m(observed, correction, lambda_)\u001B[0m\n\u001B[0;32m    331\u001B[0m     \u001B[38;5;28;01mraise\u001B[39;00m \u001B[38;5;167;01mValueError\u001B[39;00m(\u001B[38;5;124m\"\u001B[39m\u001B[38;5;124mAll values in `observed` must be nonnegative.\u001B[39m\u001B[38;5;124m\"\u001B[39m)\n\u001B[0;32m    332\u001B[0m \u001B[38;5;28;01mif\u001B[39;00m observed\u001B[38;5;241m.\u001B[39msize \u001B[38;5;241m==\u001B[39m \u001B[38;5;241m0\u001B[39m:\n\u001B[1;32m--> 333\u001B[0m     \u001B[38;5;28;01mraise\u001B[39;00m \u001B[38;5;167;01mValueError\u001B[39;00m(\u001B[38;5;124m\"\u001B[39m\u001B[38;5;124mNo data; `observed` has size 0.\u001B[39m\u001B[38;5;124m\"\u001B[39m)\n\u001B[0;32m    335\u001B[0m expected \u001B[38;5;241m=\u001B[39m expected_freq(observed)\n\u001B[0;32m    336\u001B[0m \u001B[38;5;28;01mif\u001B[39;00m np\u001B[38;5;241m.\u001B[39many(expected \u001B[38;5;241m==\u001B[39m \u001B[38;5;241m0\u001B[39m):\n\u001B[0;32m    337\u001B[0m     \u001B[38;5;66;03m# Include one of the positions where expected is zero in\u001B[39;00m\n\u001B[0;32m    338\u001B[0m     \u001B[38;5;66;03m# the exception message.\u001B[39;00m\n",
      "\u001B[1;31mValueError\u001B[0m: No data; `observed` has size 0."
     ]
    }
   ],
   "execution_count": 32
  },
  {
   "metadata": {
    "ExecuteTime": {
     "end_time": "2024-05-22T10:58:56.741509Z",
     "start_time": "2024-05-22T10:58:56.741509Z"
    }
   },
   "cell_type": "code",
   "source": [
    "contingency_table_14 = pd.crosstab(index=AMB_PA['Pèrdua pes entre ingressos'] > 10.0, columns=TOTAL['Pèrdua pes entre ingressos'] > 10.0) \n",
    "\n",
    "chi2_14, p_value_14, dof_14, expected_14 = chi2_contingency(contingency_table_14) \n",
    "\n",
    "print(\"Estadístic xi-quadrat entre AMB_PA i TOTAL:\", chi2_14) \n",
    "print(\"P-valor entre AMB_PA i TOTAL:\", p_value_14) \n",
    "\n",
    "if p_value_14 < 0.05: \n",
    "   print(\"Hi ha diferències significatives entre les distribucions de pèrdua de pes entre ingressos en AMB_PA i TOTAL.\") \n",
    "else: \n",
    "   print(\"No hi ha diferències significatives entre les distribucions de pèrdua de pes entre ingressos en AMB_PA i TOTAL.\")"
   ],
   "id": "5db12fcce9b75b8c",
   "outputs": [],
   "execution_count": null
  },
  {
   "metadata": {},
   "cell_type": "code",
   "source": [
    "contingency_table_24 = pd.crosstab(index=AMB_PA_MECVV['Pèrdua pes entre ingressos'] > 10.0, columns=TOTAL['Pèrdua pes entre ingressos'] > 10.0) \n",
    "\n",
    "chi2_24, p_value_24, dof_24, expected_24 = chi2_contingency(contingency_table_24) \n",
    "\n",
    "print(\"Estadístic xi-quadrat entre AMB_PA_MECVV i TOTAL:\", chi2_24) \n",
    "print(\"P-valor entre AMB_PA_MECVV i TOTAL:\", p_value_24) \n",
    "\n",
    "if p_value_24 < 0.05: \n",
    "   print(\"Hi ha diferències significatives entre les distribucions de pèrdua de pes entre ingressos en AMB_PA_MECVV i TOTAL.\") \n",
    "else: \n",
    "   print(\"No hi ha diferències significatives entre les distribucions de pèrdua de pes entre ingressos en AMB_PA_MECVV i TOTAL.\")"
   ],
   "id": "bf106c7a7c5c988d",
   "outputs": [],
   "execution_count": null
  },
  {
   "metadata": {},
   "cell_type": "code",
   "source": [
    "contingency_table_34 = pd.crosstab(index=SENSE_PA['Pèrdua pes entre ingressos'] > 10.0, columns=TOTAL['Pèrdua pes entre ingressos'] > 10.0) \n",
    "\n",
    "chi2_34, p_value_34, dof_34, expected_34 = chi2_contingency(contingency_table_34) \n",
    "\n",
    "print(\"Estadístic xi-quadrat entre SENSE_PA i TOTAL:\", chi2_34) \n",
    "print(\"P-valor entre SENSE_PA i TOTAL:\", p_value_34) \n",
    "\n",
    "if p_value_34 < 0.05: \n",
    "   print(\"Hi ha diferències significatives entre les distribucions de pèrdua de pes entre ingressos en SENSE_PA i TOTAL.\") \n",
    "else: \n",
    "   print(\"No hi ha diferències significatives entre les distribucions de pèrdua de pes entre ingressos en SENSE_PA i TOTAL.\")"
   ],
   "id": "4a21f502e1b7020f",
   "outputs": [],
   "execution_count": null
  },
  {
   "metadata": {},
   "cell_type": "markdown",
   "source": "##### Pèrdua de pes d'entre 6-10 kg",
   "id": "1cde089f02360b76"
  },
  {
   "metadata": {},
   "cell_type": "code",
   "source": [
    "contingency_table_12 = pd.crosstab(index=AMB_PA['Pèrdua pes entre ingressos'].between(6,10), columns=AMB_PA_MECVV['Pèrdua pes entre ingressos'].between(6,10)) \n",
    "\n",
    "chi2_12, p_value_12, dof_12, expected_12 = chi2_contingency(contingency_table_12) \n",
    "\n",
    "print(\"Estadístic xi-quadrat entre AMB_PA i AMB_PA_MECVV:\", chi2_12) \n",
    "print(\"P-valor entre AMB_PA i AMB_PA_MECVV:\", p_value_12) \n",
    "\n",
    "if p_value_12 < 0.05: \n",
    "   print(\"Hi ha diferències significatives entre les distribucions de pèrdua de pes entre ingressos en AMB_PA i AMB_PA_MECVV.\") \n",
    "else: \n",
    "   print(\"No hi ha diferències significatives entre les distribucions de pèrdua de pes entre ingressos en AMB_PA i AMB_PA_MECVV.\")"
   ],
   "id": "15de2f178f153db7",
   "outputs": [],
   "execution_count": null
  },
  {
   "metadata": {},
   "cell_type": "code",
   "source": [
    "contingency_table_13 = pd.crosstab(index=AMB_PA['Pèrdua pes entre ingressos'].between(6,10), columns=SENSE_PA['Pèrdua pes entre ingressos'].between(6,10)) \n",
    "\n",
    "chi2_13, p_value_13, dof_13, expected_13 = chi2_contingency(contingency_table_13) \n",
    "\n",
    "print(\"Estadístic xi-quadrat entre AMB_PA i SENSE_PA:\", chi2_13) \n",
    "print(\"P-valor entre AMB_PA i SENSE_PA:\", p_value_13) \n",
    "\n",
    "if p_value_13 < 0.05: \n",
    "   print(\"Hi ha diferències significatives entre les distribucions de pèrdua de pes entre ingressos en AMB_PA i SENSE_PA.\") \n",
    "else: \n",
    "   print(\"No hi ha diferències significatives entre les distribucions de pèrdua de pes entre ingressos en AMB_PA i SENSE_PA.\")"
   ],
   "id": "b6f49f87132b3143",
   "outputs": [],
   "execution_count": null
  },
  {
   "metadata": {},
   "cell_type": "code",
   "source": [
    "contingency_table_23 = pd.crosstab(index=AMB_PA_MECVV['Pèrdua pes entre ingressos'].between(6,10), columns=SENSE_PA['Pèrdua pes entre ingressos'].between(6,10)) \n",
    "\n",
    "chi2_23, p_value_23, dof_23, expected_23 = chi2_contingency(contingency_table_23) \n",
    "\n",
    "print(\"Estadístic xi-quadrat entre AMB_PA_MECVV i SENSE_PA:\", chi2_23) \n",
    "print(\"P-valor entre AMB_PA_MECVV i SENSE_PA:\", p_value_23) \n",
    "\n",
    "if p_value_23 < 0.05: \n",
    "   print(\"Hi ha diferències significatives entre les distribucions de pèrdua de pes entre ingressos en AMB_PA_MECVV i SENSE_PA.\") \n",
    "else: \n",
    "   print(\"No hi ha diferències significatives entre les distribucions de pèrdua de pes entre ingressos en AMB_PA_MECVV i SENSE_PA.\")"
   ],
   "id": "543484cafb4b96f8",
   "outputs": [],
   "execution_count": null
  },
  {
   "metadata": {},
   "cell_type": "code",
   "source": [
    "contingency_table_14 = pd.crosstab(index=AMB_PA['Pèrdua pes entre ingressos'].between(6,10), columns=TOTAL['Pèrdua pes entre ingressos'].between(6,10)) \n",
    "\n",
    "chi2_14, p_value_14, dof_14, expected_14 = chi2_contingency(contingency_table_14) \n",
    "\n",
    "print(\"Estadístic xi-quadrat entre AMB_PA i TOTAL:\", chi2_14) \n",
    "print(\"P-valor entre AMB_PA i TOTAL:\", p_value_14) \n",
    "\n",
    "if p_value_14 < 0.05: \n",
    "   print(\"Hi ha diferències significatives entre les distribucions de pèrdua de pes entre ingressos en AMB_PA i TOTAL.\") \n",
    "else: \n",
    "   print(\"No hi ha diferències significatives entre les distribucions de pèrdua de pes entre ingressos en AMB_PA i TOTAL.\")"
   ],
   "id": "ce102d3a30cac557",
   "outputs": [],
   "execution_count": null
  },
  {
   "metadata": {},
   "cell_type": "code",
   "source": [
    "contingency_table_24 = pd.crosstab(index=AMB_PA_MECVV['Pèrdua pes entre ingressos'].between(6,10), columns=TOTAL['Pèrdua pes entre ingressos'].between(6,10)) \n",
    "\n",
    "chi2_24, p_value_24, dof_24, expected_24 = chi2_contingency(contingency_table_24) \n",
    "\n",
    "print(\"Estadístic xi-quadrat entre AMB_PA_MECVV i TOTAL:\", chi2_24) \n",
    "print(\"P-valor entre AMB_PA_MECVV i TOTAL:\", p_value_24) \n",
    "\n",
    "if p_value_24 < 0.05: \n",
    "   print(\"Hi ha diferències significatives entre les distribucions de pèrdua de pes entre ingressos en AMB_PA_MECVV i TOTAL.\") \n",
    "else: \n",
    "   print(\"No hi ha diferències significatives entre les distribucions de pèrdua de pes entre ingressos en AMB_PA_MECVV i TOTAL.\")"
   ],
   "id": "df94deacd4063969",
   "outputs": [],
   "execution_count": null
  },
  {
   "metadata": {},
   "cell_type": "code",
   "source": [
    "contingency_table_34 = pd.crosstab(index=SENSE_PA['Pèrdua pes entre ingressos'].between(6,10), columns=TOTAL['Pèrdua pes entre ingressos'].between(6,10)) \n",
    "\n",
    "chi2_34, p_value_34, dof_34, expected_34 = chi2_contingency(contingency_table_34) \n",
    "\n",
    "print(\"Estadístic xi-quadrat entre SENSE_PA i TOTAL:\", chi2_34) \n",
    "print(\"P-valor entre SENSE_PA i TOTAL:\", p_value_34) \n",
    "\n",
    "if p_value_34 < 0.05: \n",
    "   print(\"Hi ha diferències significatives entre les distribucions de pèrdua de pes entre ingressos en SENSE_PA i TOTAL.\") \n",
    "else: \n",
    "   print(\"No hi ha diferències significatives entre les distribucions de pèrdua de pes entre ingressos en SENSE_PA i TOTAL.\")"
   ],
   "id": "b7cdaefdb427b995",
   "outputs": [],
   "execution_count": null
  },
  {
   "metadata": {},
   "cell_type": "markdown",
   "source": "##### Pèrdua de pes d'entre 3-6 kg",
   "id": "288151617a5d3635"
  },
  {
   "metadata": {},
   "cell_type": "code",
   "source": [
    "contingency_table_12 = pd.crosstab(index=AMB_PA['Pèrdua pes entre ingressos'].between(3,6), columns=AMB_PA_MECVV['Pèrdua pes entre ingressos'].between(3,6)) \n",
    "\n",
    "chi2_12, p_value_12, dof_12, expected_12 = chi2_contingency(contingency_table_12) \n",
    "\n",
    "print(\"Estadístic xi-quadrat entre AMB_PA i AMB_PA_MECVV:\", chi2_12) \n",
    "print(\"P-valor entre AMB_PA i AMB_PA_MECVV:\", p_value_12) \n",
    "\n",
    "if p_value_12 < 0.05: \n",
    "   print(\"Hi ha diferències significatives entre les distribucions de pèrdua de pes entre ingressos en AMB_PA i AMB_PA_MECVV.\") \n",
    "else: \n",
    "   print(\"No hi ha diferències significatives entre les distribucions de pèrdua de pes entre ingressos en AMB_PA i AMB_PA_MECVV.\")"
   ],
   "id": "3cf31e614d92d4d",
   "outputs": [],
   "execution_count": null
  },
  {
   "metadata": {},
   "cell_type": "code",
   "source": [
    "contingency_table_13 = pd.crosstab(index=AMB_PA['Pèrdua pes entre ingressos'].between(3,6), columns=SENSE_PA['Pèrdua pes entre ingressos'].between(3,6)) \n",
    "\n",
    "chi2_13, p_value_13, dof_13, expected_13 = chi2_contingency(contingency_table_13) \n",
    "\n",
    "print(\"Estadístic xi-quadrat entre AMB_PA i SENSE_PA:\", chi2_13) \n",
    "print(\"P-valor entre AMB_PA i SENSE_PA:\", p_value_13) \n",
    "\n",
    "if p_value_13 < 0.05: \n",
    "   print(\"Hi ha diferències significatives entre les distribucions de pèrdua de pes entre ingressos en AMB_PA i SENSE_PA.\") \n",
    "else: \n",
    "   print(\"No hi ha diferències significatives entre les distribucions de pèrdua de pes entre ingressos en AMB_PA i SENSE_PA.\")"
   ],
   "id": "31cfaf0e6970f2da",
   "outputs": [],
   "execution_count": null
  },
  {
   "metadata": {},
   "cell_type": "code",
   "source": [
    "contingency_table_23 = pd.crosstab(index=AMB_PA_MECVV['Pèrdua pes entre ingressos'].between(3,6), columns=SENSE_PA['Pèrdua pes entre ingressos'].between(3,6)) \n",
    "\n",
    "chi2_23, p_value_23, dof_23, expected_23 = chi2_contingency(contingency_table_23) \n",
    "\n",
    "print(\"Estadístic xi-quadrat entre AMB_PA_MECVV i SENSE_PA:\", chi2_23) \n",
    "print(\"P-valor entre AMB_PA_MECVV i SENSE_PA:\", p_value_23) \n",
    "\n",
    "if p_value_23 < 0.05: \n",
    "   print(\"Hi ha diferències significatives entre les distribucions de pèrdua de pes entre ingressos en AMB_PA_MECVV i SENSE_PA.\") \n",
    "else: \n",
    "   print(\"No hi ha diferències significatives entre les distribucions de pèrdua de pes entre ingressos en AMB_PA_MECVV i SENSE_PA.\")"
   ],
   "id": "841ad07aef0e41f2",
   "outputs": [],
   "execution_count": null
  },
  {
   "metadata": {},
   "cell_type": "code",
   "source": [
    "contingency_table_14 = pd.crosstab(index=AMB_PA['Pèrdua pes entre ingressos'].between(3,6), columns=TOTAL['Pèrdua pes entre ingressos'].between(3,6)) \n",
    "\n",
    "chi2_14, p_value_14, dof_14, expected_14 = chi2_contingency(contingency_table_14) \n",
    "\n",
    "print(\"Estadístic xi-quadrat entre AMB_PA i TOTAL:\", chi2_14) \n",
    "print(\"P-valor entre AMB_PA i TOTAL:\", p_value_14) \n",
    "\n",
    "if p_value_14 < 0.05: \n",
    "   print(\"Hi ha diferències significatives entre les distribucions de pèrdua de pes entre ingressos en AMB_PA i TOTAL.\") \n",
    "else: \n",
    "   print(\"No hi ha diferències significatives entre les distribucions de pèrdua de pes entre ingressos en AMB_PA i TOTAL.\")"
   ],
   "id": "9b68944050162348",
   "outputs": [],
   "execution_count": null
  },
  {
   "metadata": {},
   "cell_type": "code",
   "source": [
    "contingency_table_24 = pd.crosstab(index=AMB_PA_MECVV['Pèrdua pes entre ingressos'].between(3,6), columns=TOTAL['Pèrdua pes entre ingressos'].between(3,6)) \n",
    "\n",
    "chi2_24, p_value_24, dof_24, expected_24 = chi2_contingency(contingency_table_24) \n",
    "\n",
    "print(\"Estadístic xi-quadrat entre AMB_PA_MECVV i TOTAL:\", chi2_24) \n",
    "print(\"P-valor entre AMB_PA_MECVV i TOTAL:\", p_value_24) \n",
    "\n",
    "if p_value_24 < 0.05: \n",
    "   print(\"Hi ha diferències significatives entre les distribucions de pèrdua de pes entre ingressos en AMB_PA_MECVV i TOTAL.\") \n",
    "else: \n",
    "   print(\"No hi ha diferències significatives entre les distribucions de pèrdua de pes entre ingressos en AMB_PA_MECVV i TOTAL.\")"
   ],
   "id": "332875c0fe7aaa53",
   "outputs": [],
   "execution_count": null
  },
  {
   "metadata": {},
   "cell_type": "code",
   "source": [
    "contingency_table_34 = pd.crosstab(index=SENSE_PA['Pèrdua pes entre ingressos'].between(3,6), columns=TOTAL['Pèrdua pes entre ingressos'].between(3,6)) \n",
    "\n",
    "chi2_34, p_value_34, dof_34, expected_34 = chi2_contingency(contingency_table_34) \n",
    "\n",
    "print(\"Estadístic xi-quadrat entre SENSE_PA i TOTAL:\", chi2_34) \n",
    "print(\"P-valor entre SENSE_PA i TOTAL:\", p_value_34) \n",
    "\n",
    "if p_value_34 < 0.05: \n",
    "   print(\"Hi ha diferències significatives entre les distribucions de pèrdua de pes entre ingressos en SENSE_PA i TOTAL.\") \n",
    "else: \n",
    "   print(\"No hi ha diferències significatives entre les distribucions de pèrdua de pes entre ingressos en SENSE_PA i TOTAL.\")"
   ],
   "id": "f67164f8aee22516",
   "outputs": [],
   "execution_count": null
  },
  {
   "metadata": {},
   "cell_type": "markdown",
   "source": "##### Pèrdua de pes d'entre 1-3 kg",
   "id": "215ef04e9676ecfd"
  },
  {
   "metadata": {},
   "cell_type": "code",
   "source": [
    "contingency_table_12 = pd.crosstab(index=AMB_PA['Pèrdua pes entre ingressos'].between(1,3), columns=AMB_PA_MECVV['Pèrdua pes entre ingressos'].between(1,3)) \n",
    "\n",
    "chi2_12, p_value_12, dof_12, expected_12 = chi2_contingency(contingency_table_12) \n",
    "\n",
    "print(\"Estadístic xi-quadrat entre AMB_PA i AMB_PA_MECVV:\", chi2_12) \n",
    "print(\"P-valor entre AMB_PA i AMB_PA_MECVV:\", p_value_12) \n",
    "\n",
    "if p_value_12 < 0.05: \n",
    "   print(\"Hi ha diferències significatives entre les distribucions de pèrdua de pes entre ingressos en AMB_PA i AMB_PA_MECVV.\") \n",
    "else: \n",
    "   print(\"No hi ha diferències significatives entre les distribucions de pèrdua de pes entre ingressos en AMB_PA i AMB_PA_MECVV.\")"
   ],
   "id": "392148e2b926fef3",
   "outputs": [],
   "execution_count": null
  },
  {
   "metadata": {},
   "cell_type": "code",
   "source": [
    "contingency_table_13 = pd.crosstab(index=AMB_PA['Pèrdua pes entre ingressos'].between(1,3), columns=SENSE_PA['Pèrdua pes entre ingressos'].between(1,3)) \n",
    "\n",
    "chi2_13, p_value_13, dof_13, expected_13 = chi2_contingency(contingency_table_13) \n",
    "\n",
    "print(\"Estadístic xi-quadrat entre AMB_PA i SENSE_PA:\", chi2_13) \n",
    "print(\"P-valor entre AMB_PA i SENSE_PA:\", p_value_13) \n",
    "\n",
    "if p_value_13 < 0.05: \n",
    "   print(\"Hi ha diferències significatives entre les distribucions de pèrdua de pes entre ingressos en AMB_PA i SENSE_PA.\") \n",
    "else: \n",
    "   print(\"No hi ha diferències significatives entre les distribucions de pèrdua de pes entre ingressos en AMB_PA i SENSE_PA.\")"
   ],
   "id": "5dde90a0ed71545f",
   "outputs": [],
   "execution_count": null
  },
  {
   "metadata": {},
   "cell_type": "code",
   "source": [
    "contingency_table_23 = pd.crosstab(index=AMB_PA_MECVV['Pèrdua pes entre ingressos'].between(1,3), columns=SENSE_PA['Pèrdua pes entre ingressos'].between(1,3)) \n",
    "\n",
    "chi2_23, p_value_23, dof_23, expected_23 = chi2_contingency(contingency_table_23) \n",
    "\n",
    "print(\"Estadístic xi-quadrat entre AMB_PA_MECVV i SENSE_PA:\", chi2_23) \n",
    "print(\"P-valor entre AMB_PA_MECVV i SENSE_PA:\", p_value_23) \n",
    "\n",
    "if p_value_23 < 0.05: \n",
    "   print(\"Hi ha diferències significatives entre les distribucions de pèrdua de pes entre ingressos en AMB_PA_MECVV i SENSE_PA.\") \n",
    "else: \n",
    "   print(\"No hi ha diferències significatives entre les distribucions de pèrdua de pes entre ingressos en AMB_PA_MECVV i SENSE_PA.\")"
   ],
   "id": "30912263603c178b",
   "outputs": [],
   "execution_count": null
  },
  {
   "metadata": {},
   "cell_type": "code",
   "source": [
    "contingency_table_14 = pd.crosstab(index=AMB_PA['Pèrdua pes entre ingressos'].between(1,3), columns=TOTAL['Pèrdua pes entre ingressos'].between(1,3)) \n",
    "\n",
    "chi2_14, p_value_14, dof_14, expected_14 = chi2_contingency(contingency_table_14) \n",
    "\n",
    "print(\"Estadístic xi-quadrat entre AMB_PA i TOTAL:\", chi2_14) \n",
    "print(\"P-valor entre AMB_PA i TOTAL:\", p_value_14) \n",
    "\n",
    "if p_value_14 < 0.05: \n",
    "   print(\"Hi ha diferències significatives entre les distribucions de pèrdua de pes entre ingressos en AMB_PA i TOTAL.\") \n",
    "else: \n",
    "   print(\"No hi ha diferències significatives entre les distribucions de pèrdua de pes entre ingressos en AMB_PA i TOTAL.\")"
   ],
   "id": "d48dfc5796243ec3",
   "outputs": [],
   "execution_count": null
  },
  {
   "metadata": {},
   "cell_type": "code",
   "source": [
    "contingency_table_24 = pd.crosstab(index=AMB_PA_MECVV['Pèrdua pes entre ingressos'].between(1,3), columns=TOTAL['Pèrdua pes entre ingressos'].between(1,3)) \n",
    "\n",
    "chi2_24, p_value_24, dof_24, expected_24 = chi2_contingency(contingency_table_24) \n",
    "\n",
    "print(\"Estadístic xi-quadrat entre AMB_PA_MECVV i TOTAL:\", chi2_24) \n",
    "print(\"P-valor entre AMB_PA_MECVV i TOTAL:\", p_value_24) \n",
    "\n",
    "if p_value_24 < 0.05: \n",
    "   print(\"Hi ha diferències significatives entre les distribucions de pèrdua de pes entre ingressos en AMB_PA_MECVV i TOTAL.\") \n",
    "else: \n",
    "   print(\"No hi ha diferències significatives entre les distribucions de pèrdua de pes entre ingressos en AMB_PA_MECVV i TOTAL.\")"
   ],
   "id": "83e1f662177e3911",
   "outputs": [],
   "execution_count": null
  },
  {
   "metadata": {},
   "cell_type": "code",
   "source": [
    "contingency_table_34 = pd.crosstab(index=SENSE_PA['Pèrdua pes entre ingressos'].between(1,3), columns=TOTAL['Pèrdua pes entre ingressos'].between(1,3)) \n",
    "\n",
    "chi2_34, p_value_34, dof_34, expected_34 = chi2_contingency(contingency_table_34) \n",
    "\n",
    "print(\"Estadístic xi-quadrat entre SENSE_PA i TOTAL:\", chi2_34) \n",
    "print(\"P-valor entre SENSE_PA i TOTAL:\", p_value_34) \n",
    "\n",
    "if p_value_34 < 0.05: \n",
    "   print(\"Hi ha diferències significatives entre les distribucions de pèrdua de pes entre ingressos en SENSE_PA i TOTAL.\") \n",
    "else: \n",
    "   print(\"No hi ha diferències significatives entre les distribucions de pèrdua de pes entre ingressos en SENSE_PA i TOTAL.\")"
   ],
   "id": "c66ec80f0535d062",
   "outputs": [],
   "execution_count": null
  },
  {
   "metadata": {},
   "cell_type": "markdown",
   "source": "##### Sense pèrdua de pes",
   "id": "7fb918f61047925d"
  },
  {
   "metadata": {},
   "cell_type": "code",
   "source": [
    "contingency_table_12 = pd.crosstab(index=AMB_PA['Pèrdua pes entre ingressos'] == 0, columns=AMB_PA_MECVV['Pèrdua pes entre ingressos'] == 0) \n",
    "\n",
    "chi2_12, p_value_12, dof_12, expected_12 = chi2_contingency(contingency_table_12) \n",
    "\n",
    "print(\"Estadístic xi-quadrat entre AMB_PA i AMB_PA_MECVV:\", chi2_12) \n",
    "print(\"P-valor entre AMB_PA i AMB_PA_MECVV:\", p_value_12) \n",
    "\n",
    "if p_value_12 < 0.05: \n",
    "   print(\"Hi ha diferències significatives entre les distribucions de pèrdua de pes entre ingressos en AMB_PA i AMB_PA_MECVV.\") \n",
    "else: \n",
    "   print(\"No hi ha diferències significatives entre les distribucions de pèrdua de pes entre ingressos en AMB_PA i AMB_PA_MECVV.\")"
   ],
   "id": "ddcfe56952c6742",
   "outputs": [],
   "execution_count": null
  },
  {
   "metadata": {},
   "cell_type": "code",
   "source": [
    "contingency_table_13 = pd.crosstab(index=AMB_PA['Pèrdua pes entre ingressos'] == 0, columns=SENSE_PA['Pèrdua pes entre ingressos'] == 0) \n",
    "\n",
    "chi2_13, p_value_13, dof_13, expected_13 = chi2_contingency(contingency_table_13) \n",
    "\n",
    "print(\"Estadístic xi-quadrat entre AMB_PA i SENSE_PA:\", chi2_13) \n",
    "print(\"P-valor entre AMB_PA i SENSE_PA:\", p_value_13) \n",
    "\n",
    "if p_value_13 < 0.05: \n",
    "   print(\"Hi ha diferències significatives entre les distribucions de pèrdua de pes entre ingressos en AMB_PA i SENSE_PA.\") \n",
    "else: \n",
    "   print(\"No hi ha diferències significatives entre les distribucions de pèrdua de pes entre ingressos en AMB_PA i SENSE_PA.\")"
   ],
   "id": "2b5a2ce0471463eb",
   "outputs": [],
   "execution_count": null
  },
  {
   "metadata": {},
   "cell_type": "code",
   "source": [
    "contingency_table_23 = pd.crosstab(index=AMB_PA_MECVV['Pèrdua pes entre ingressos'] == 0, columns=SENSE_PA['Pèrdua pes entre ingressos'] == 0) \n",
    "\n",
    "chi2_23, p_value_23, dof_23, expected_23 = chi2_contingency(contingency_table_23) \n",
    "\n",
    "print(\"Estadístic xi-quadrat entre AMB_PA_MECVV i SENSE_PA:\", chi2_23) \n",
    "print(\"P-valor entre AMB_PA_MECVV i SENSE_PA:\", p_value_23) \n",
    "\n",
    "if p_value_23 < 0.05: \n",
    "   print(\"Hi ha diferències significatives entre les distribucions de pèrdua de pes entre ingressos en AMB_PA_MECVV i SENSE_PA.\") \n",
    "else: \n",
    "   print(\"No hi ha diferències significatives entre les distribucions de pèrdua de pes entre ingressos en AMB_PA_MECVV i SENSE_PA.\")"
   ],
   "id": "63480530eb839113",
   "outputs": [],
   "execution_count": null
  },
  {
   "metadata": {},
   "cell_type": "code",
   "source": [
    "contingency_table_14 = pd.crosstab(index=AMB_PA['Pèrdua pes entre ingressos'] == 0, columns=TOTAL['Pèrdua pes entre ingressos'] == 0) \n",
    "\n",
    "chi2_14, p_value_14, dof_14, expected_14 = chi2_contingency(contingency_table_14) \n",
    "\n",
    "print(\"Estadístic xi-quadrat entre AMB_PA i TOTAL:\", chi2_14) \n",
    "print(\"P-valor entre AMB_PA i TOTAL:\", p_value_14) \n",
    "\n",
    "if p_value_14 < 0.05: \n",
    "   print(\"Hi ha diferències significatives entre les distribucions de pèrdua de pes entre ingressos en AMB_PA i TOTAL.\") \n",
    "else: \n",
    "   print(\"No hi ha diferències significatives entre les distribucions de pèrdua de pes entre ingressos en AMB_PA i TOTAL.\")"
   ],
   "id": "f77a1453d7066516",
   "outputs": [],
   "execution_count": null
  },
  {
   "metadata": {},
   "cell_type": "code",
   "source": [
    "contingency_table_24 = pd.crosstab(index=AMB_PA_MECVV['Pèrdua pes entre ingressos'] == 0, columns=TOTAL['Pèrdua pes entre ingressos'] == 0) \n",
    "\n",
    "chi2_24, p_value_24, dof_24, expected_24 = chi2_contingency(contingency_table_24) \n",
    "\n",
    "print(\"Estadístic xi-quadrat entre AMB_PA_MECVV i TOTAL:\", chi2_24) \n",
    "print(\"P-valor entre AMB_PA_MECVV i TOTAL:\", p_value_24) \n",
    "\n",
    "if p_value_24 < 0.05: \n",
    "   print(\"Hi ha diferències significatives entre les distribucions de pèrdua de pes entre ingressos en AMB_PA_MECVV i TOTAL.\") \n",
    "else: \n",
    "   print(\"No hi ha diferències significatives entre les distribucions de pèrdua de pes entre ingressos en AMB_PA_MECVV i TOTAL.\")"
   ],
   "id": "8d5dd7521a7ce8fb",
   "outputs": [],
   "execution_count": null
  },
  {
   "metadata": {},
   "cell_type": "code",
   "source": [
    "contingency_table_34 = pd.crosstab(index=SENSE_PA['Pèrdua pes entre ingressos'] == 0, columns=TOTAL['Pèrdua pes entre ingressos'] == 0) \n",
    "\n",
    "chi2_34, p_value_34, dof_34, expected_34 = chi2_contingency(contingency_table_34) \n",
    "\n",
    "print(\"Estadístic xi-quadrat entre SENSE_PA i TOTAL:\", chi2_34) \n",
    "print(\"P-valor entre SENSE_PA i TOTAL:\", p_value_34) \n",
    "\n",
    "if p_value_34 < 0.05: \n",
    "   print(\"Hi ha diferències significatives entre les distribucions de pèrdua de pes entre ingressos en SENSE_PA i TOTAL.\") \n",
    "else: \n",
    "   print(\"No hi ha diferències significatives entre les distribucions de pèrdua de pes entre ingressos en SENSE_PA i TOTAL.\")"
   ],
   "id": "aa66df85be92cde1",
   "outputs": [],
   "execution_count": null
  },
  {
   "metadata": {},
   "cell_type": "markdown",
   "source": "## Pèrdua de pes entre ingressos (mitjana i SD)",
   "id": "45c98fba65b57695"
  },
  {
   "metadata": {},
   "cell_type": "code",
   "source": [
    "mitjana_ppimsd = AMB_PA['Pèrdua pes entre ingressos'].mean()\n",
    "desviacio_estandard_ppimsd = AMB_PA['Pèrdua pes entre ingressos'].std()\n",
    "\n",
    "resultado = f\"{mitjana_ppimsd:.2f} ± {desviacio_estandard_ppimsd:.2f}\"\n",
    "print(\"Mitjana ± Desviació Estàndard de la pèrdua de pes entre ingressos:\", resultado)"
   ],
   "id": "5acd79f2ae323e03",
   "outputs": [],
   "execution_count": null
  },
  {
   "metadata": {},
   "cell_type": "code",
   "source": [
    "mitjana_ppimsd = AMB_PA_MECVV['Pèrdua pes entre ingressos'].mean()\n",
    "desviacio_estandard_ppimsd = AMB_PA_MECVV['Pèrdua pes entre ingressos'].std()\n",
    "\n",
    "resultado = f\"{mitjana_ppimsd:.2f} ± {desviacio_estandard_ppimsd:.2f}\"\n",
    "print(\"Mitjana ± Desviació Estàndard de la pèrdua de pes entre ingressos:\", resultado)"
   ],
   "id": "d318bd928551a60a",
   "outputs": [],
   "execution_count": null
  },
  {
   "metadata": {},
   "cell_type": "code",
   "source": [
    "mitjana_ppimsd = SENSE_PA['Pèrdua pes entre ingressos'].mean()\n",
    "desviacio_estandard_ppimsd = SENSE_PA['Pèrdua pes entre ingressos'].std()\n",
    "\n",
    "resultado = f\"{mitjana_ppimsd:.2f} ± {desviacio_estandard_ppimsd:.2f}\"\n",
    "print(\"Mitjana ± Desviació Estàndard de la pèrdua de pes entre ingressos:\", resultado)"
   ],
   "id": "aa9beb02232c4429",
   "outputs": [],
   "execution_count": null
  },
  {
   "metadata": {
    "ExecuteTime": {
     "end_time": "2024-05-22T10:58:57.318149Z",
     "start_time": "2024-05-22T10:58:57.306825Z"
    }
   },
   "cell_type": "code",
   "source": [
    "mitjana_ppimsd = TOTAL['Pèrdua pes entre ingressos'].mean()\n",
    "desviacio_estandard_ppimsd = TOTAL['Pèrdua pes entre ingressos'].std()\n",
    "\n",
    "resultado = f\"{mitjana_ppimsd:.2f} ± {desviacio_estandard_ppimsd:.2f}\"\n",
    "print(\"Mitjana ± Desviació Estàndard de la pèrdua de pes entre ingressos:\", resultado)"
   ],
   "id": "2487235d66fdeab5",
   "outputs": [
    {
     "name": "stdout",
     "output_type": "stream",
     "text": [
      "Mitjana ± Desviació Estàndard de la pèrdua de pes entre ingressos: 3.74 ± 8.36\n"
     ]
    }
   ],
   "execution_count": 33
  },
  {
   "metadata": {},
   "cell_type": "markdown",
   "source": "#### Comparació distributiva",
   "id": "b3117c83becffc42"
  },
  {
   "metadata": {},
   "cell_type": "markdown",
   "source": "##### Normalitat i p-valor",
   "id": "8e3aa13f1eaf29e3"
  },
  {
   "metadata": {},
   "cell_type": "markdown",
   "source": "No cal calcular un altre cop la normalitat ja que estic utilitzant la mateixa columna que a l'apartat anterior, i vaig obtenir que tots 4 grups segueixen una distribució normal.",
   "id": "743b893c7a8b9817"
  },
  {
   "metadata": {
    "ExecuteTime": {
     "end_time": "2024-05-22T10:58:57.528051Z",
     "start_time": "2024-05-22T10:58:57.516749Z"
    }
   },
   "cell_type": "code",
   "source": [
    "stat, p_value_12 = ttest_ind(AMB_PA['Pèrdua pes entre ingressos'], AMB_PA_MECVV['Pèrdua pes entre ingressos'], equal_var=False)\n",
    "print(\"P-valor entre AMB_PA i AMB_PA_MECVV\", p_value_12)"
   ],
   "id": "5758e061099443b4",
   "outputs": [
    {
     "name": "stdout",
     "output_type": "stream",
     "text": [
      "P-valor entre AMB_PA i AMB_PA_MECVV nan\n"
     ]
    }
   ],
   "execution_count": 34
  },
  {
   "metadata": {
    "ExecuteTime": {
     "end_time": "2024-05-22T10:58:58.199256Z",
     "start_time": "2024-05-22T10:58:58.192010Z"
    }
   },
   "cell_type": "code",
   "source": [
    "stat, p_value_13 = ttest_ind(AMB_PA['Pèrdua pes entre ingressos'], SENSE_PA['Pèrdua pes entre ingressos'], equal_var=False)\n",
    "print(\"P-valor entre AMB_PA i SENSE_PA\", p_value_13)"
   ],
   "id": "46c3f006c41d89df",
   "outputs": [
    {
     "name": "stdout",
     "output_type": "stream",
     "text": [
      "P-valor entre AMB_PA i SENSE_PA nan\n"
     ]
    }
   ],
   "execution_count": 35
  },
  {
   "metadata": {
    "ExecuteTime": {
     "end_time": "2024-05-22T10:58:58.241436Z",
     "start_time": "2024-05-22T10:58:58.236208Z"
    }
   },
   "cell_type": "code",
   "source": [
    "stat, p_value_23 = ttest_ind(AMB_PA_MECVV['Pèrdua pes entre ingressos'], SENSE_PA['Pèrdua pes entre ingressos'], equal_var=False)\n",
    "print(\"P-valor entre AMB_PA_MECVV i SENSE_PA\", p_value_23)"
   ],
   "id": "32d987d840104daf",
   "outputs": [
    {
     "name": "stdout",
     "output_type": "stream",
     "text": [
      "P-valor entre AMB_PA_MECVV i SENSE_PA nan\n"
     ]
    }
   ],
   "execution_count": 36
  },
  {
   "metadata": {
    "ExecuteTime": {
     "end_time": "2024-05-22T10:58:58.354073Z",
     "start_time": "2024-05-22T10:58:58.344069Z"
    }
   },
   "cell_type": "code",
   "source": [
    "stat, p_value_14 = ttest_ind(AMB_PA['Pèrdua pes entre ingressos'], TOTAL['Pèrdua pes entre ingressos'], equal_var=False)\n",
    "print(\"P-valor entre AMB_PA i TOTAL\", p_value_14)"
   ],
   "id": "82a0dd1d0ec3cadb",
   "outputs": [
    {
     "name": "stdout",
     "output_type": "stream",
     "text": [
      "P-valor entre AMB_PA i TOTAL nan\n"
     ]
    }
   ],
   "execution_count": 37
  },
  {
   "metadata": {
    "ExecuteTime": {
     "end_time": "2024-05-22T10:58:58.400963Z",
     "start_time": "2024-05-22T10:58:58.391663Z"
    }
   },
   "cell_type": "code",
   "source": [
    "stat, p_value_24 = ttest_ind(AMB_PA_MECVV['Pèrdua pes entre ingressos'], TOTAL['Pèrdua pes entre ingressos'], equal_var=False)\n",
    "print(\"P-valor entre AMB_PA_MECVV i TOTAL\", p_value_24)"
   ],
   "id": "9268bfda8f1abbc9",
   "outputs": [
    {
     "name": "stdout",
     "output_type": "stream",
     "text": [
      "P-valor entre AMB_PA_MECVV i TOTAL nan\n"
     ]
    }
   ],
   "execution_count": 38
  },
  {
   "metadata": {
    "ExecuteTime": {
     "end_time": "2024-05-22T10:58:58.506903Z",
     "start_time": "2024-05-22T10:58:58.500885Z"
    }
   },
   "cell_type": "code",
   "source": [
    "stat, p_value_34 = ttest_ind(SENSE_PA['Pèrdua pes entre ingressos'], TOTAL['Pèrdua pes entre ingressos'], equal_var=False)\n",
    "print(\"P-valor entre SENSE_PA i TOTAL\", p_value_34)"
   ],
   "id": "6d63b98838e1ed44",
   "outputs": [
    {
     "name": "stdout",
     "output_type": "stream",
     "text": [
      "P-valor entre SENSE_PA i TOTAL nan\n"
     ]
    }
   ],
   "execution_count": 39
  },
  {
   "metadata": {},
   "cell_type": "markdown",
   "source": "## Pèrdua de pes total",
   "id": "9477750ecfe6e87d"
  },
  {
   "metadata": {
    "ExecuteTime": {
     "end_time": "2024-05-22T10:58:58.557367Z",
     "start_time": "2024-05-22T10:58:58.544227Z"
    }
   },
   "cell_type": "code",
   "source": [
    "AMB_PA.loc[:, 'Pèrdua pes total'] = pd.to_numeric(AMB_PA['Pèrdua pes total'], errors='coerce').dropna()\n",
    "AMB_PA_MECVV.loc[:, 'Pèrdua pes total'] = pd.to_numeric(AMB_PA_MECVV['Pèrdua pes total'], errors='coerce').dropna()\n",
    "SENSE_PA.loc[:, 'Pèrdua pes total'] = pd.to_numeric(SENSE_PA['Pèrdua pes total'], errors='coerce').dropna()\n",
    "TOTAL.loc[:, 'Pèrdua pes total'] = pd.to_numeric(TOTAL['Pèrdua pes total'], errors='coerce').dropna()"
   ],
   "id": "7358237f82fedff9",
   "outputs": [],
   "execution_count": 40
  },
  {
   "metadata": {
    "ExecuteTime": {
     "end_time": "2024-05-22T10:58:58.666194Z",
     "start_time": "2024-05-22T10:58:58.658922Z"
    }
   },
   "cell_type": "code",
   "source": [
    "mitjana_ppt = AMB_PA['Pèrdua pes total'].mean()\n",
    "desviacio_estandard_ppt = AMB_PA['Pèrdua pes total'].std()\n",
    "\n",
    "resultado = f\"{mitjana_ppt:.2f} ± {desviacio_estandard_ppt:.2f}\"\n",
    "print(\"Mitjana ± Desviació Estàndard de la pèrdua de pes total:\", resultado)"
   ],
   "id": "7c2e8a9f82d51ae2",
   "outputs": [
    {
     "name": "stdout",
     "output_type": "stream",
     "text": [
      "Mitjana ± Desviació Estàndard de la pèrdua de pes total: 3.47 ± 6.39\n"
     ]
    }
   ],
   "execution_count": 41
  },
  {
   "metadata": {
    "ExecuteTime": {
     "end_time": "2024-05-22T10:58:58.748681Z",
     "start_time": "2024-05-22T10:58:58.737380Z"
    }
   },
   "cell_type": "code",
   "source": [
    "mitjana_ppt = AMB_PA_MECVV['Pèrdua pes total'].mean()\n",
    "desviacio_estandard_ppt = AMB_PA_MECVV['Pèrdua pes total'].std()\n",
    "\n",
    "resultado = f\"{mitjana_ppt:.2f} ± {desviacio_estandard_ppt:.2f}\"\n",
    "print(\"Mitjana ± Desviació Estàndard de la pèrdua de pes total:\", resultado)"
   ],
   "id": "254579e85a85aa3b",
   "outputs": [
    {
     "name": "stdout",
     "output_type": "stream",
     "text": [
      "Mitjana ± Desviació Estàndard de la pèrdua de pes total: 8.22 ± 18.38\n"
     ]
    }
   ],
   "execution_count": 42
  },
  {
   "metadata": {
    "ExecuteTime": {
     "end_time": "2024-05-22T10:58:58.832858Z",
     "start_time": "2024-05-22T10:58:58.817396Z"
    }
   },
   "cell_type": "code",
   "source": [
    "mitjana_ppt = SENSE_PA['Pèrdua pes total'].mean()\n",
    "desviacio_estandard_ppt = SENSE_PA['Pèrdua pes total'].std()\n",
    "\n",
    "resultado = f\"{mitjana_ppt:.2f} ± {desviacio_estandard_ppt:.2f}\"\n",
    "print(\"Mitjana ± Desviació Estàndard de la pèrdua de pes total:\", resultado)"
   ],
   "id": "5a51c04bf7cbce57",
   "outputs": [
    {
     "name": "stdout",
     "output_type": "stream",
     "text": [
      "Mitjana ± Desviació Estàndard de la pèrdua de pes total: -10.16 ± 28.47\n"
     ]
    }
   ],
   "execution_count": 43
  },
  {
   "metadata": {},
   "cell_type": "markdown",
   "source": "#### Comparació distributiva",
   "id": "d03f5d33e5beb3f"
  },
  {
   "metadata": {},
   "cell_type": "markdown",
   "source": "##### Normalitat i p-valor",
   "id": "6a04dfa230a1082e"
  },
  {
   "metadata": {
    "ExecuteTime": {
     "end_time": "2024-05-22T10:58:58.867356Z",
     "start_time": "2024-05-22T10:58:58.858960Z"
    }
   },
   "cell_type": "code",
   "source": [
    "stat, p_value = shapiro(AMB_PA['Pèrdua pes total'])\n",
    "print(f\"Estadístic W = {stat:.4f}\")\n",
    "print(f\"Valor p = {p_value:.4f}\")\n",
    "\n",
    "alpha = 0.05\n",
    "if p_value < alpha:\n",
    "    print(\"El nombre de files no segueix una distribució normal.\")\n",
    "else:\n",
    "    print(\"El nombre de files segueix una distribució normal\")"
   ],
   "id": "7cdafc896ee0ddfe",
   "outputs": [
    {
     "name": "stdout",
     "output_type": "stream",
     "text": [
      "Estadístic W = nan\n",
      "Valor p = nan\n",
      "El nombre de files segueix una distribució normal\n"
     ]
    }
   ],
   "execution_count": 44
  },
  {
   "metadata": {
    "ExecuteTime": {
     "end_time": "2024-05-22T10:58:59.001224Z",
     "start_time": "2024-05-22T10:58:58.993168Z"
    }
   },
   "cell_type": "code",
   "source": [
    "stat, p_value = shapiro(AMB_PA_MECVV['Pèrdua pes total'])\n",
    "print(f\"Estadístic W = {stat:.4f}\")\n",
    "print(f\"Valor p = {p_value:.4f}\")\n",
    "\n",
    "alpha = 0.05\n",
    "if p_value < alpha:\n",
    "    print(\"El nombre de files no segueix una distribució normal.\")\n",
    "else:\n",
    "    print(\"El nombre de files segueix una distribució normal\")"
   ],
   "id": "bb09b49a6c45d291",
   "outputs": [
    {
     "name": "stdout",
     "output_type": "stream",
     "text": [
      "Estadístic W = nan\n",
      "Valor p = nan\n",
      "El nombre de files segueix una distribució normal\n"
     ]
    }
   ],
   "execution_count": 45
  },
  {
   "metadata": {
    "ExecuteTime": {
     "end_time": "2024-05-22T10:58:59.048161Z",
     "start_time": "2024-05-22T10:58:59.035807Z"
    }
   },
   "cell_type": "code",
   "source": [
    "stat, p_value = shapiro(SENSE_PA['Pèrdua pes total'])\n",
    "print(f\"Estadístic W = {stat:.4f}\")\n",
    "print(f\"Valor p = {p_value:.4f}\")\n",
    "\n",
    "alpha = 0.05\n",
    "if p_value < alpha:\n",
    "    print(\"El nombre de files no segueix una distribució normal.\")\n",
    "else:\n",
    "    print(\"El nombre de files segueix una distribució normal\")"
   ],
   "id": "1cafec55e914c679",
   "outputs": [
    {
     "name": "stdout",
     "output_type": "stream",
     "text": [
      "Estadístic W = nan\n",
      "Valor p = nan\n",
      "El nombre de files segueix una distribució normal\n"
     ]
    }
   ],
   "execution_count": 46
  },
  {
   "metadata": {
    "ExecuteTime": {
     "end_time": "2024-05-22T10:58:59.180578Z",
     "start_time": "2024-05-22T10:58:59.168516Z"
    }
   },
   "cell_type": "code",
   "source": [
    "stat, p_value = shapiro(TOTAL['Pèrdua pes total'])\n",
    "print(f\"Estadístic W = {stat:.4f}\")\n",
    "print(f\"Valor p = {p_value:.4f}\")\n",
    "\n",
    "alpha = 0.05\n",
    "if p_value < alpha:\n",
    "    print(\"El nombre de files no segueix una distribució normal.\")\n",
    "else:\n",
    "    print(\"El nombre de files segueix una distribució normal\")"
   ],
   "id": "95b4219538f62e8c",
   "outputs": [
    {
     "name": "stdout",
     "output_type": "stream",
     "text": [
      "Estadístic W = nan\n",
      "Valor p = nan\n",
      "El nombre de files segueix una distribució normal\n"
     ]
    }
   ],
   "execution_count": 47
  },
  {
   "metadata": {},
   "cell_type": "markdown",
   "source": "NORMALITAT: Els 4 grups segueixen una distribució normal",
   "id": "14e7c753e8233d27"
  },
  {
   "metadata": {
    "ExecuteTime": {
     "end_time": "2024-05-22T10:58:59.268029Z",
     "start_time": "2024-05-22T10:58:59.260854Z"
    }
   },
   "cell_type": "code",
   "source": [
    "stat, p_value_12 = ttest_ind(AMB_PA['Pèrdua pes total'], AMB_PA_MECVV['Pèrdua pes total'], equal_var=False)\n",
    "print(\"P-valor entre AMB_PA i AMB_PA_MECVV\", p_value_12)"
   ],
   "id": "e5ed98fa080679e2",
   "outputs": [
    {
     "name": "stdout",
     "output_type": "stream",
     "text": [
      "P-valor entre AMB_PA i AMB_PA_MECVV nan\n"
     ]
    }
   ],
   "execution_count": 48
  },
  {
   "metadata": {
    "ExecuteTime": {
     "end_time": "2024-05-22T10:58:59.391389Z",
     "start_time": "2024-05-22T10:58:59.384840Z"
    }
   },
   "cell_type": "code",
   "source": [
    "stat, p_value_13 = ttest_ind(AMB_PA['Pèrdua pes total'], SENSE_PA['Pèrdua pes total'], equal_var=False)\n",
    "print(\"P-valor entre AMB_PA i SENSE_PA\", p_value_13)"
   ],
   "id": "f99e8d20ba53f7e9",
   "outputs": [
    {
     "name": "stdout",
     "output_type": "stream",
     "text": [
      "P-valor entre AMB_PA i SENSE_PA nan\n"
     ]
    }
   ],
   "execution_count": 49
  },
  {
   "metadata": {
    "ExecuteTime": {
     "end_time": "2024-05-22T10:58:59.440756Z",
     "start_time": "2024-05-22T10:58:59.433944Z"
    }
   },
   "cell_type": "code",
   "source": [
    "stat, p_value_23 = ttest_ind(AMB_PA_MECVV['Pèrdua pes total'], SENSE_PA['Pèrdua pes total'], equal_var=False)\n",
    "print(\"P-valor entre AMB_PA_MECVV i SENSE_PA\", p_value_23)"
   ],
   "id": "bd21d0fe69869766",
   "outputs": [
    {
     "name": "stdout",
     "output_type": "stream",
     "text": [
      "P-valor entre AMB_PA_MECVV i SENSE_PA nan\n"
     ]
    }
   ],
   "execution_count": 50
  },
  {
   "metadata": {
    "ExecuteTime": {
     "end_time": "2024-05-22T10:58:59.519541Z",
     "start_time": "2024-05-22T10:58:59.513242Z"
    }
   },
   "cell_type": "code",
   "source": [
    "stat, p_value_14 = ttest_ind(AMB_PA['Pèrdua pes total'], TOTAL['Pèrdua pes total'], equal_var=False)\n",
    "print(\"P-valor entre AMB_PA i TOTAL\", p_value_14)"
   ],
   "id": "d76c25bc70c6bffb",
   "outputs": [
    {
     "name": "stdout",
     "output_type": "stream",
     "text": [
      "P-valor entre AMB_PA i TOTAL nan\n"
     ]
    }
   ],
   "execution_count": 51
  },
  {
   "metadata": {
    "ExecuteTime": {
     "end_time": "2024-05-22T10:58:59.592935Z",
     "start_time": "2024-05-22T10:58:59.585932Z"
    }
   },
   "cell_type": "code",
   "source": [
    "stat, p_value_24 = ttest_ind(AMB_PA_MECVV['Pèrdua pes total'], TOTAL['Pèrdua pes total'], equal_var=False)\n",
    "print(\"P-valor entre AMB_PA_MECVV i TOTAL\", p_value_24)"
   ],
   "id": "9e921cc3826278a3",
   "outputs": [
    {
     "name": "stdout",
     "output_type": "stream",
     "text": [
      "P-valor entre AMB_PA_MECVV i TOTAL nan\n"
     ]
    }
   ],
   "execution_count": 52
  },
  {
   "metadata": {
    "ExecuteTime": {
     "end_time": "2024-05-22T10:58:59.678794Z",
     "start_time": "2024-05-22T10:58:59.670717Z"
    }
   },
   "cell_type": "code",
   "source": [
    "stat, p_value_34 = ttest_ind(SENSE_PA['Pèrdua pes total'], TOTAL['Pèrdua pes total'], equal_var=False)\n",
    "print(\"P-valor entre SENSE_PA i TOTAL\", p_value_34)"
   ],
   "id": "cbaf256f3f2868a5",
   "outputs": [
    {
     "name": "stdout",
     "output_type": "stream",
     "text": [
      "P-valor entre SENSE_PA i TOTAL nan\n"
     ]
    }
   ],
   "execution_count": 53
  }
 ],
 "metadata": {
  "kernelspec": {
   "display_name": "Python 3",
   "language": "python",
   "name": "python3"
  },
  "language_info": {
   "codemirror_mode": {
    "name": "ipython",
    "version": 2
   },
   "file_extension": ".py",
   "mimetype": "text/x-python",
   "name": "python",
   "nbconvert_exporter": "python",
   "pygments_lexer": "ipython2",
   "version": "2.7.6"
  }
 },
 "nbformat": 4,
 "nbformat_minor": 5
}
