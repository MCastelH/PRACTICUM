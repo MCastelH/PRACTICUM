{
 "cells": [
  {
   "cell_type": "code",
   "id": "initial_id",
   "metadata": {
    "collapsed": true,
    "ExecuteTime": {
     "end_time": "2024-05-22T10:41:24.515837Z",
     "start_time": "2024-05-22T10:41:18.999749Z"
    }
   },
   "source": [
    "import pandas as pd\n",
    "\n",
    "taula = pd.read_pickle('./data/processed/dataframe.pkl')\n",
    "from scipy.stats import ttest_ind\n",
    "from scipy.stats import shapiro\n",
    "from scipy.stats import chi2_contingency"
   ],
   "outputs": [],
   "execution_count": 7
  },
  {
   "metadata": {
    "ExecuteTime": {
     "end_time": "2024-05-22T10:41:24.525371Z",
     "start_time": "2024-05-22T10:41:24.516828Z"
    }
   },
   "cell_type": "code",
   "source": [
    "AMB_PA = taula[taula[\"PA diagnosticada\"] == 1.0]\n",
    "AMB_PA_MECVV = taula[\n",
    "    (taula[\"Dies entre primer ICD pneumònia i primer MECVV positiu\"] < 30)]\n",
    "SENSE_PA = taula[\n",
    "           (taula[\"Dies entre primer ICD pneumònia i primer MECVV positiu\"] > 30) &\n",
    "           (taula['P diagnosticada'] == 1.0)]\n",
    "TOTAL = taula"
   ],
   "id": "78643956fe9047dd",
   "outputs": [],
   "execution_count": 8
  },
  {
   "metadata": {},
   "cell_type": "markdown",
   "source": "## Pèrdua de pes entre ingressos %",
   "id": "573992f66d509eba"
  },
  {
   "metadata": {
    "ExecuteTime": {
     "end_time": "2024-05-22T10:41:24.535022Z",
     "start_time": "2024-05-22T10:41:24.526877Z"
    }
   },
   "cell_type": "code",
   "source": [
    "AMB_PA.loc[:, 'Pèrdua pes entre ingressos'] = pd.to_numeric(AMB_PA['Pèrdua pes entre ingressos'], errors='coerce')\n",
    "AMB_PA_MECVV.loc[:, 'Pèrdua pes entre ingressos'] = pd.to_numeric(AMB_PA_MECVV['Pèrdua pes entre ingressos'], errors='coerce')\n",
    "SENSE_PA.loc[:, 'Pèrdua pes entre ingressos'] = pd.to_numeric(SENSE_PA['Pèrdua pes entre ingressos'], errors='coerce')\n",
    "TOTAL.loc[:, 'Pèrdua pes entre ingressos'] = pd.to_numeric(TOTAL['Pèrdua pes entre ingressos'], errors='coerce')"
   ],
   "id": "fc598d32816f3cbc",
   "outputs": [],
   "execution_count": 9
  },
  {
   "metadata": {},
   "cell_type": "markdown",
   "source": "##### Pèrdua de pes superior a 10 kg",
   "id": "58629d49feea911f"
  },
  {
   "metadata": {
    "ExecuteTime": {
     "end_time": "2024-05-22T10:41:24.544285Z",
     "start_time": "2024-05-22T10:41:24.536018Z"
    }
   },
   "cell_type": "code",
   "source": [
    "ppi_AMB_PA= (AMB_PA['Pèrdua pes entre ingressos'] > 10.0).mean() * 100\n",
    "print(f\"Percentatge de pèrdua de pes superior a 10 kg: {ppi_AMB_PA:.2f}%\")"
   ],
   "id": "14ea6b9af899dde6",
   "outputs": [
    {
     "name": "stdout",
     "output_type": "stream",
     "text": [
      "Percentatge de pèrdua de pes superior a 10 kg: 0.00%\n"
     ]
    }
   ],
   "execution_count": 10
  },
  {
   "metadata": {
    "ExecuteTime": {
     "end_time": "2024-05-22T10:41:24.551170Z",
     "start_time": "2024-05-22T10:41:24.545280Z"
    }
   },
   "cell_type": "code",
   "source": [
    "ppi_AMB_PA_MECVV= (AMB_PA_MECVV['Pèrdua pes entre ingressos'] > 10.0).mean() * 100\n",
    "print(f\"Percentatge de pèrdua de pes superior a 10 kg: {ppi_AMB_PA_MECVV:.2f}%\")"
   ],
   "id": "4e093e1f1bff6766",
   "outputs": [
    {
     "name": "stdout",
     "output_type": "stream",
     "text": [
      "Percentatge de pèrdua de pes superior a 10 kg: 0.00%\n"
     ]
    }
   ],
   "execution_count": 11
  },
  {
   "metadata": {
    "ExecuteTime": {
     "end_time": "2024-05-22T10:41:24.558132Z",
     "start_time": "2024-05-22T10:41:24.552163Z"
    }
   },
   "cell_type": "code",
   "source": [
    "ppi_SENSE_PA= (SENSE_PA['Pèrdua pes entre ingressos'] > 10.0).mean() * 100\n",
    "print(f\"Percentatge de pèrdua de pes superior a 10 kg: {ppi_SENSE_PA:.2f}%\")"
   ],
   "id": "4ee00d119c1d34de",
   "outputs": [
    {
     "name": "stdout",
     "output_type": "stream",
     "text": [
      "Percentatge de pèrdua de pes superior a 10 kg: 12.50%\n"
     ]
    }
   ],
   "execution_count": 12
  },
  {
   "metadata": {
    "ExecuteTime": {
     "end_time": "2024-05-22T10:41:24.566129Z",
     "start_time": "2024-05-22T10:41:24.559127Z"
    }
   },
   "cell_type": "code",
   "source": [
    "ppi_TOTAL= (TOTAL['Pèrdua pes entre ingressos'] > 10.0).mean() * 100\n",
    "print(f\"Percentatge de pèrdua de pes superior a 10 kg: {ppi_TOTAL:.2f}%\")"
   ],
   "id": "ce9d55aa9dabd559",
   "outputs": [
    {
     "name": "stdout",
     "output_type": "stream",
     "text": [
      "Percentatge de pèrdua de pes superior a 10 kg: 2.00%\n"
     ]
    }
   ],
   "execution_count": 13
  },
  {
   "metadata": {},
   "cell_type": "markdown",
   "source": "##### Pèrdua de pes d'entre 6-10 kg",
   "id": "7a8f16f1c1de0afa"
  },
  {
   "metadata": {
    "ExecuteTime": {
     "end_time": "2024-05-22T10:41:24.573843Z",
     "start_time": "2024-05-22T10:41:24.567130Z"
    }
   },
   "cell_type": "code",
   "source": [
    "ppi_AMB_PA= (AMB_PA['Pèrdua pes entre ingressos'].between(6,10)).mean() * 100\n",
    "print(f\"Percentatge de pèrdua de pes 6-10 kg: {ppi_AMB_PA:.2f}%\")"
   ],
   "id": "3b2e1d3d23333418",
   "outputs": [
    {
     "name": "stdout",
     "output_type": "stream",
     "text": [
      "Percentatge de pèrdua de pes 6-10 kg: 0.00%\n"
     ]
    }
   ],
   "execution_count": 14
  },
  {
   "metadata": {
    "ExecuteTime": {
     "end_time": "2024-05-22T10:41:24.580757Z",
     "start_time": "2024-05-22T10:41:24.574837Z"
    }
   },
   "cell_type": "code",
   "source": [
    "ppi_AMB_PA= (AMB_PA_MECVV['Pèrdua pes entre ingressos'].between(6,10)).mean() * 100\n",
    "print(f\"Percentatge de pèrdua de pes 6-10 kg: {ppi_AMB_PA_MECVV:.2f}%\")"
   ],
   "id": "1bb46c16c0887b3",
   "outputs": [
    {
     "name": "stdout",
     "output_type": "stream",
     "text": [
      "Percentatge de pèrdua de pes 6-10 kg: 0.00%\n"
     ]
    }
   ],
   "execution_count": 15
  },
  {
   "metadata": {
    "ExecuteTime": {
     "end_time": "2024-05-22T10:41:24.586748Z",
     "start_time": "2024-05-22T10:41:24.582747Z"
    }
   },
   "cell_type": "code",
   "source": [
    "ppi_SENSE_PA= (SENSE_PA['Pèrdua pes entre ingressos'].between(6,10)).mean() * 100\n",
    "print(f\"Percentatge de pèrdua de pes 6-10 kg: {ppi_SENSE_PA:.2f}%\")"
   ],
   "id": "d01f16042ab58a3c",
   "outputs": [
    {
     "name": "stdout",
     "output_type": "stream",
     "text": [
      "Percentatge de pèrdua de pes 6-10 kg: 0.00%\n"
     ]
    }
   ],
   "execution_count": 16
  },
  {
   "metadata": {
    "ExecuteTime": {
     "end_time": "2024-05-22T10:41:24.594063Z",
     "start_time": "2024-05-22T10:41:24.586748Z"
    }
   },
   "cell_type": "code",
   "source": [
    "ppi_TOTAL= (TOTAL['Pèrdua pes entre ingressos'].between(6,10)).mean() * 100\n",
    "print(f\"Percentatge de pèrdua de pes 6-10 kg: {ppi_TOTAL:.2f}%\")"
   ],
   "id": "a0edeb1005434d4a",
   "outputs": [
    {
     "name": "stdout",
     "output_type": "stream",
     "text": [
      "Percentatge de pèrdua de pes 6-10 kg: 0.00%\n"
     ]
    }
   ],
   "execution_count": 17
  },
  {
   "metadata": {},
   "cell_type": "markdown",
   "source": "##### Pèrdua pes d'entre 3-6 kg",
   "id": "12c3cda5eff88265"
  },
  {
   "metadata": {
    "ExecuteTime": {
     "end_time": "2024-05-22T10:41:24.600026Z",
     "start_time": "2024-05-22T10:41:24.595054Z"
    }
   },
   "cell_type": "code",
   "source": [
    "ppi_AMB_PA= (AMB_PA['Pèrdua pes entre ingressos'].between(3,6)).mean() * 100\n",
    "print(f\"Percentatge de pèrdua de pes 3-6 kg: {ppi_AMB_PA:.2f}%\")"
   ],
   "id": "15939acf8dba9bac",
   "outputs": [
    {
     "name": "stdout",
     "output_type": "stream",
     "text": [
      "Percentatge de pèrdua de pes 3-6 kg: 0.00%\n"
     ]
    }
   ],
   "execution_count": 18
  },
  {
   "metadata": {
    "ExecuteTime": {
     "end_time": "2024-05-22T10:41:24.607255Z",
     "start_time": "2024-05-22T10:41:24.600026Z"
    }
   },
   "cell_type": "code",
   "source": [
    "ppi_AMB_PA_MECVV= (AMB_PA['Pèrdua pes entre ingressos'].between(3,6)).mean() * 100\n",
    "print(f\"Percentatge de pèrdua de pes 3-6 kg: {ppi_AMB_PA_MECVV:.2f}%\")"
   ],
   "id": "6ca75bbb14714653",
   "outputs": [
    {
     "name": "stdout",
     "output_type": "stream",
     "text": [
      "Percentatge de pèrdua de pes 3-6 kg: 0.00%\n"
     ]
    }
   ],
   "execution_count": 19
  },
  {
   "metadata": {
    "ExecuteTime": {
     "end_time": "2024-05-22T10:41:24.614807Z",
     "start_time": "2024-05-22T10:41:24.608253Z"
    }
   },
   "cell_type": "code",
   "source": [
    "ppi_SENSE_PA= (SENSE_PA['Pèrdua pes entre ingressos'].between(3,6)).mean() * 100\n",
    "print(f\"Percentatge de pèrdua de pes 3-6 kg: {ppi_SENSE_PA:.2f}%\")"
   ],
   "id": "eb5a7b693dcfeb08",
   "outputs": [
    {
     "name": "stdout",
     "output_type": "stream",
     "text": [
      "Percentatge de pèrdua de pes 3-6 kg: 0.00%\n"
     ]
    }
   ],
   "execution_count": 20
  },
  {
   "metadata": {
    "ExecuteTime": {
     "end_time": "2024-05-22T10:41:24.621406Z",
     "start_time": "2024-05-22T10:41:24.614807Z"
    }
   },
   "cell_type": "code",
   "source": [
    "ppi_TOTAL= (TOTAL['Pèrdua pes entre ingressos'].between(3,6)).mean() * 100\n",
    "print(f\"Percentatge de pèrdua de pes 3-6 kg: {ppi_TOTAL:.2f}%\")"
   ],
   "id": "a8cd8ada616379d8",
   "outputs": [
    {
     "name": "stdout",
     "output_type": "stream",
     "text": [
      "Percentatge de pèrdua de pes 3-6 kg: 0.00%\n"
     ]
    }
   ],
   "execution_count": 21
  },
  {
   "metadata": {},
   "cell_type": "markdown",
   "source": "##### Pèrdua de pes d'entre 1-3 kg",
   "id": "f2da7e559c7e5b1a"
  },
  {
   "metadata": {
    "ExecuteTime": {
     "end_time": "2024-05-22T10:41:24.627909Z",
     "start_time": "2024-05-22T10:41:24.622398Z"
    }
   },
   "cell_type": "code",
   "source": [
    "ppi_AMB_PA= (AMB_PA['Pèrdua pes entre ingressos'].between(1, 3)).mean() * 100\n",
    "print(f\"Percentatge de pèrdua de pes 1-3 kg: {ppi_AMB_PA:.2f}%\")"
   ],
   "id": "5ffd60821ed59b98",
   "outputs": [
    {
     "name": "stdout",
     "output_type": "stream",
     "text": [
      "Percentatge de pèrdua de pes 1-3 kg: 0.00%\n"
     ]
    }
   ],
   "execution_count": 22
  },
  {
   "metadata": {
    "ExecuteTime": {
     "end_time": "2024-05-22T10:41:24.634360Z",
     "start_time": "2024-05-22T10:41:24.628905Z"
    }
   },
   "cell_type": "code",
   "source": [
    "ppi_AMB_PA_MECVV= (AMB_PA_MECVV['Pèrdua pes entre ingressos'].between(1, 3)).mean() * 100\n",
    "print(f\"Percentatge de pèrdua de pes 1-3 kg: {ppi_AMB_PA_MECVV:.2f}%\")"
   ],
   "id": "6846e95d8448bec6",
   "outputs": [
    {
     "name": "stdout",
     "output_type": "stream",
     "text": [
      "Percentatge de pèrdua de pes 1-3 kg: 0.00%\n"
     ]
    }
   ],
   "execution_count": 23
  },
  {
   "metadata": {
    "ExecuteTime": {
     "end_time": "2024-05-22T10:41:24.641137Z",
     "start_time": "2024-05-22T10:41:24.635355Z"
    }
   },
   "cell_type": "code",
   "source": [
    "ppi_SENSE_PA= (SENSE_PA['Pèrdua pes entre ingressos'].between(1, 3)).mean() * 100\n",
    "print(f\"Percentatge de pèrdua de pes 1-3 kg: {ppi_SENSE_PA:.2f}%\")"
   ],
   "id": "24047004508d65bb",
   "outputs": [
    {
     "name": "stdout",
     "output_type": "stream",
     "text": [
      "Percentatge de pèrdua de pes 1-3 kg: 0.00%\n"
     ]
    }
   ],
   "execution_count": 24
  },
  {
   "metadata": {
    "ExecuteTime": {
     "end_time": "2024-05-22T10:41:24.648502Z",
     "start_time": "2024-05-22T10:41:24.641137Z"
    }
   },
   "cell_type": "code",
   "source": [
    "ppi_TOTAL= (TOTAL['Pèrdua pes entre ingressos'].between(1, 3)).mean() * 100\n",
    "print(f\"Percentatge de pèrdua de pes 1-3 kg: {ppi_TOTAL:.2f}%\")"
   ],
   "id": "49bf616563b59da5",
   "outputs": [
    {
     "name": "stdout",
     "output_type": "stream",
     "text": [
      "Percentatge de pèrdua de pes 1-3 kg: 0.00%\n"
     ]
    }
   ],
   "execution_count": 25
  },
  {
   "metadata": {},
   "cell_type": "markdown",
   "source": "##### Sense pèrdua de pes ",
   "id": "b51535974cba8f3f"
  },
  {
   "metadata": {
    "ExecuteTime": {
     "end_time": "2024-05-22T10:41:24.656501Z",
     "start_time": "2024-05-22T10:41:24.649499Z"
    }
   },
   "cell_type": "code",
   "source": [
    "ppi_AMB_PA= (AMB_PA['Pèrdua pes entre ingressos'] == 0).mean() * 100\n",
    "print(f\"Percentatge sense pèrdua de pes: {ppi_AMB_PA:.2f}%\")"
   ],
   "id": "9f0c70a704f2e786",
   "outputs": [
    {
     "name": "stdout",
     "output_type": "stream",
     "text": [
      "Percentatge sense pèrdua de pes: 17.65%\n"
     ]
    }
   ],
   "execution_count": 26
  },
  {
   "metadata": {
    "ExecuteTime": {
     "end_time": "2024-05-22T10:41:24.663848Z",
     "start_time": "2024-05-22T10:41:24.656501Z"
    }
   },
   "cell_type": "code",
   "source": [
    "ppi_AMB_PA_MECVV= (AMB_PA_MECVV['Pèrdua pes entre ingressos'] == 0).mean() * 100\n",
    "print(f\"Percentatge sense pèrdua de pes: {ppi_AMB_PA_MECVV:.2f}%\")"
   ],
   "id": "e7be42c51349fcce",
   "outputs": [
    {
     "name": "stdout",
     "output_type": "stream",
     "text": [
      "Percentatge sense pèrdua de pes: 37.50%\n"
     ]
    }
   ],
   "execution_count": 27
  },
  {
   "metadata": {
    "ExecuteTime": {
     "end_time": "2024-05-22T10:41:24.671206Z",
     "start_time": "2024-05-22T10:41:24.664832Z"
    }
   },
   "cell_type": "code",
   "source": [
    "ppi_SENSE_PA= (SENSE_PA['Pèrdua pes entre ingressos'] == 0).mean() * 100\n",
    "print(f\"Percentatge sense pèrdua de pes: {ppi_SENSE_PA:.2f}%\")"
   ],
   "id": "15b300264f2fc312",
   "outputs": [
    {
     "name": "stdout",
     "output_type": "stream",
     "text": [
      "Percentatge sense pèrdua de pes: 12.50%\n"
     ]
    }
   ],
   "execution_count": 28
  },
  {
   "metadata": {
    "ExecuteTime": {
     "end_time": "2024-05-22T10:41:24.677711Z",
     "start_time": "2024-05-22T10:41:24.671206Z"
    }
   },
   "cell_type": "code",
   "source": [
    "ppi_TOTAL= (TOTAL['Pèrdua pes entre ingressos'] == 0).mean() * 100\n",
    "print(f\"Percentatge sense pèrdua de pes: {ppi_TOTAL:.2f}%\")"
   ],
   "id": "cef0c2a4c8fb2eda",
   "outputs": [
    {
     "name": "stdout",
     "output_type": "stream",
     "text": [
      "Percentatge sense pèrdua de pes: 8.00%\n"
     ]
    }
   ],
   "execution_count": 29
  },
  {
   "metadata": {},
   "cell_type": "markdown",
   "source": "#### Comparació distributiva",
   "id": "5acf9eded5b56b3f"
  },
  {
   "metadata": {},
   "cell_type": "markdown",
   "source": "##### Normalitat i p-valor",
   "id": "86a2e1ed763b4"
  },
  {
   "metadata": {
    "ExecuteTime": {
     "end_time": "2024-05-22T10:41:24.682885Z",
     "start_time": "2024-05-22T10:41:24.678708Z"
    }
   },
   "cell_type": "code",
   "source": "#TODO: realmente es categorica? no hace falta calcular normalidad no?",
   "id": "e724b05fcca4d89a",
   "outputs": [],
   "execution_count": 30
  },
  {
   "metadata": {
    "ExecuteTime": {
     "end_time": "2024-05-22T10:41:24.690625Z",
     "start_time": "2024-05-22T10:41:24.683882Z"
    }
   },
   "cell_type": "code",
   "source": [
    "stat, p_value = shapiro(AMB_PA['Pèrdua pes entre ingressos'])\n",
    "print(f\"Estadístic W = {stat:.4f}\")\n",
    "print(f\"Valor p = {p_value:.4f}\")\n",
    "\n",
    "alpha = 0.05\n",
    "if p_value < alpha:\n",
    "    print(\"El nombre de files no segueix una distribució normal.\")\n",
    "else:\n",
    "    print(\"El nombre de files segueix una distribució normal\")"
   ],
   "id": "13828d7d811251a8",
   "outputs": [
    {
     "name": "stdout",
     "output_type": "stream",
     "text": [
      "Estadístic W = nan\n",
      "Valor p = nan\n",
      "El nombre de files segueix una distribució normal\n"
     ]
    }
   ],
   "execution_count": 31
  },
  {
   "metadata": {
    "ExecuteTime": {
     "end_time": "2024-05-22T10:41:24.698539Z",
     "start_time": "2024-05-22T10:41:24.691622Z"
    }
   },
   "cell_type": "code",
   "source": [
    "stat, p_value = shapiro(AMB_PA_MECVV['Pèrdua pes entre ingressos'])\n",
    "print(f\"Estadístic W = {stat:.4f}\")\n",
    "print(f\"Valor p = {p_value:.4f}\")\n",
    "\n",
    "alpha = 0.05\n",
    "if p_value < alpha:\n",
    "    print(\"El nombre de files no segueix una distribució normal.\")\n",
    "else:\n",
    "    print(\"El nombre de files segueix una distribució normal\")"
   ],
   "id": "a9e962da7a1164db",
   "outputs": [
    {
     "name": "stdout",
     "output_type": "stream",
     "text": [
      "Estadístic W = nan\n",
      "Valor p = nan\n",
      "El nombre de files segueix una distribució normal\n"
     ]
    }
   ],
   "execution_count": 32
  },
  {
   "metadata": {
    "ExecuteTime": {
     "end_time": "2024-05-22T10:41:24.708047Z",
     "start_time": "2024-05-22T10:41:24.699536Z"
    }
   },
   "cell_type": "code",
   "source": [
    "stat, p_value = shapiro(SENSE_PA['Pèrdua pes entre ingressos'])\n",
    "print(f\"Estadístic W = {stat:.4f}\")\n",
    "print(f\"Valor p = {p_value:.4f}\")\n",
    "\n",
    "alpha = 0.05\n",
    "if p_value < alpha:\n",
    "    print(\"El nombre de files no segueix una distribució normal.\")\n",
    "else:\n",
    "    print(\"El nombre de files segueix una distribució normal\")"
   ],
   "id": "a3919d0c3641ebcd",
   "outputs": [
    {
     "name": "stdout",
     "output_type": "stream",
     "text": [
      "Estadístic W = nan\n",
      "Valor p = nan\n",
      "El nombre de files segueix una distribució normal\n"
     ]
    }
   ],
   "execution_count": 33
  },
  {
   "metadata": {
    "ExecuteTime": {
     "end_time": "2024-05-22T10:41:24.717613Z",
     "start_time": "2024-05-22T10:41:24.714044Z"
    }
   },
   "cell_type": "code",
   "source": [
    "stat, p_value = shapiro(TOTAL['Pèrdua pes entre ingressos'])\n",
    "print(f\"Estadístic W = {stat:.4f}\")\n",
    "print(f\"Valor p = {p_value:.4f}\")\n",
    "\n",
    "alpha = 0.05\n",
    "if p_value < alpha:\n",
    "    print(\"El nombre de files no segueix una distribució normal.\")\n",
    "else:\n",
    "    print(\"El nombre de files segueix una distribució normal\")"
   ],
   "id": "1be3e32f9433e310",
   "outputs": [
    {
     "name": "stdout",
     "output_type": "stream",
     "text": [
      "Estadístic W = nan\n",
      "Valor p = nan\n",
      "El nombre de files segueix una distribució normal\n"
     ]
    }
   ],
   "execution_count": 34
  },
  {
   "metadata": {
    "ExecuteTime": {
     "end_time": "2024-05-22T10:41:24.725669Z",
     "start_time": "2024-05-22T10:41:24.718609Z"
    }
   },
   "cell_type": "code",
   "source": "##### Pèrdua de pes superior a 10 kg #TODO: subcategorias de peso con xi cuadrado o con mannwhitney/ttest?",
   "id": "eb861f251399f5a0",
   "outputs": [],
   "execution_count": 35
  },
  {
   "metadata": {
    "ExecuteTime": {
     "end_time": "2024-05-22T10:41:24.746194Z",
     "start_time": "2024-05-22T10:41:24.726659Z"
    }
   },
   "cell_type": "code",
   "source": [
    "contingency_table_12 = pd.crosstab(index=AMB_PA['Pèrdua pes entre ingressos'] > 10.0, columns=AMB_PA_MECVV['Pèrdua pes entre ingressos'] > 10.0) \n",
    "\n",
    "chi2_12, p_value_12, dof_12, expected_12 = chi2_contingency(contingency_table_12) \n",
    "\n",
    "print(\"Estadístic xi-quadrat entre AMB_PA i AMB_PA_MECVV:\", chi2_12) \n",
    "print(\"P-valor entre AMB_PA i AMB_PA_MECVV:\", p_value_12) \n",
    "\n",
    "if p_value_12 < 0.05: \n",
    "   print(\"Hi ha diferències significatives entre les distribucions de pèrdua de pes entre ingressos en AMB_PA i AMB_PA_MECVV.\") \n",
    "else: \n",
    "   print(\"No hi ha diferències significatives entre les distribucions de pèrdua de pes entre ingressos en AMB_PA i AMB_PA_MECVV.\")\n"
   ],
   "id": "a4801643d5563b7",
   "outputs": [
    {
     "name": "stdout",
     "output_type": "stream",
     "text": [
      "Estadístic xi-quadrat entre AMB_PA i AMB_PA_MECVV: 0.0\n",
      "P-valor entre AMB_PA i AMB_PA_MECVV: 1.0\n",
      "No hi ha diferències significatives entre les distribucions de pèrdua de pes entre ingressos en AMB_PA i AMB_PA_MECVV.\n"
     ]
    }
   ],
   "execution_count": 36
  },
  {
   "metadata": {
    "ExecuteTime": {
     "end_time": "2024-05-22T10:41:24.756194Z",
     "start_time": "2024-05-22T10:41:24.747191Z"
    }
   },
   "cell_type": "code",
   "source": [
    "contingency_table_13 = pd.crosstab(index=AMB_PA['Pèrdua pes entre ingressos'] > 10.0, columns=SENSE_PA['Pèrdua pes entre ingressos'] > 10.0) \n",
    "\n",
    "chi2_13, p_value_13, dof_13, expected_13 = chi2_contingency(contingency_table_13) \n",
    "\n",
    "print(\"Estadístic xi-quadrat entre AMB_PA i SENSE_PA:\", chi2_13) \n",
    "print(\"P-valor entre AMB_PA i SENSE_PA:\", p_value_13) \n",
    "\n",
    "if p_value_13 < 0.05: \n",
    "   print(\"Hi ha diferències significatives entre les distribucions de pèrdua de pes entre ingressos en AMB_PA i SENSE_PA.\") \n",
    "else: \n",
    "   print(\"No hi ha diferències significatives entre les distribucions de pèrdua de pes entre ingressos en AMB_PA i SENSE_PA.\")"
   ],
   "id": "b4aca9b32c3656d2",
   "outputs": [
    {
     "name": "stdout",
     "output_type": "stream",
     "text": [
      "Estadístic xi-quadrat entre AMB_PA i SENSE_PA: 0.0\n",
      "P-valor entre AMB_PA i SENSE_PA: 1.0\n",
      "No hi ha diferències significatives entre les distribucions de pèrdua de pes entre ingressos en AMB_PA i SENSE_PA.\n"
     ]
    }
   ],
   "execution_count": 37
  },
  {
   "metadata": {
    "ExecuteTime": {
     "end_time": "2024-05-22T10:41:24.986891Z",
     "start_time": "2024-05-22T10:41:24.757193Z"
    }
   },
   "cell_type": "code",
   "source": [
    "contingency_table_23 = pd.crosstab(index=AMB_PA_MECVV['Pèrdua pes entre ingressos'] > 10.0, columns=SENSE_PA['Pèrdua pes entre ingressos'] > 10.0) \n",
    "\n",
    "chi2_23, p_value_23, dof_23, expected_23 = chi2_contingency(contingency_table_23) \n",
    "\n",
    "print(\"Estadístic xi-quadrat entre AMB_PA_MECVV i SENSE_PA:\", chi2_23) \n",
    "print(\"P-valor entre AMB_PA_MECVV i SENSE_PA:\", p_value_23) \n",
    "\n",
    "if p_value_23 < 0.05: \n",
    "   print(\"Hi ha diferències significatives entre les distribucions de pèrdua de pes entre ingressos en AMB_PA_MECVV i SENSE_PA.\") \n",
    "else: \n",
    "   print(\"No hi ha diferències significatives entre les distribucions de pèrdua de pes entre ingressos en AMB_PA_MECVV i SENSE_PA.\")"
   ],
   "id": "afb3ed3f4b109641",
   "outputs": [
    {
     "ename": "ValueError",
     "evalue": "No data; `observed` has size 0.",
     "output_type": "error",
     "traceback": [
      "\u001B[1;31m---------------------------------------------------------------------------\u001B[0m",
      "\u001B[1;31mValueError\u001B[0m                                Traceback (most recent call last)",
      "Cell \u001B[1;32mIn[38], line 3\u001B[0m\n\u001B[0;32m      1\u001B[0m contingency_table_23 \u001B[38;5;241m=\u001B[39m pd\u001B[38;5;241m.\u001B[39mcrosstab(index\u001B[38;5;241m=\u001B[39mAMB_PA_MECVV[\u001B[38;5;124m'\u001B[39m\u001B[38;5;124mPèrdua pes entre ingressos\u001B[39m\u001B[38;5;124m'\u001B[39m] \u001B[38;5;241m>\u001B[39m \u001B[38;5;241m10.0\u001B[39m, columns\u001B[38;5;241m=\u001B[39mSENSE_PA[\u001B[38;5;124m'\u001B[39m\u001B[38;5;124mPèrdua pes entre ingressos\u001B[39m\u001B[38;5;124m'\u001B[39m] \u001B[38;5;241m>\u001B[39m \u001B[38;5;241m10.0\u001B[39m) \n\u001B[1;32m----> 3\u001B[0m chi2_23, p_value_23, dof_23, expected_23 \u001B[38;5;241m=\u001B[39m \u001B[43mchi2_contingency\u001B[49m\u001B[43m(\u001B[49m\u001B[43mcontingency_table_23\u001B[49m\u001B[43m)\u001B[49m \n\u001B[0;32m      5\u001B[0m \u001B[38;5;28mprint\u001B[39m(\u001B[38;5;124m\"\u001B[39m\u001B[38;5;124mEstadístic xi-quadrat entre AMB_PA_MECVV i SENSE_PA:\u001B[39m\u001B[38;5;124m\"\u001B[39m, chi2_23) \n\u001B[0;32m      6\u001B[0m \u001B[38;5;28mprint\u001B[39m(\u001B[38;5;124m\"\u001B[39m\u001B[38;5;124mP-valor entre AMB_PA_MECVV i SENSE_PA:\u001B[39m\u001B[38;5;124m\"\u001B[39m, p_value_23) \n",
      "File \u001B[1;32m~\\PycharmProjects\\PRACTICUM\\venv\\Lib\\site-packages\\scipy\\stats\\contingency.py:333\u001B[0m, in \u001B[0;36mchi2_contingency\u001B[1;34m(observed, correction, lambda_)\u001B[0m\n\u001B[0;32m    331\u001B[0m     \u001B[38;5;28;01mraise\u001B[39;00m \u001B[38;5;167;01mValueError\u001B[39;00m(\u001B[38;5;124m\"\u001B[39m\u001B[38;5;124mAll values in `observed` must be nonnegative.\u001B[39m\u001B[38;5;124m\"\u001B[39m)\n\u001B[0;32m    332\u001B[0m \u001B[38;5;28;01mif\u001B[39;00m observed\u001B[38;5;241m.\u001B[39msize \u001B[38;5;241m==\u001B[39m \u001B[38;5;241m0\u001B[39m:\n\u001B[1;32m--> 333\u001B[0m     \u001B[38;5;28;01mraise\u001B[39;00m \u001B[38;5;167;01mValueError\u001B[39;00m(\u001B[38;5;124m\"\u001B[39m\u001B[38;5;124mNo data; `observed` has size 0.\u001B[39m\u001B[38;5;124m\"\u001B[39m)\n\u001B[0;32m    335\u001B[0m expected \u001B[38;5;241m=\u001B[39m expected_freq(observed)\n\u001B[0;32m    336\u001B[0m \u001B[38;5;28;01mif\u001B[39;00m np\u001B[38;5;241m.\u001B[39many(expected \u001B[38;5;241m==\u001B[39m \u001B[38;5;241m0\u001B[39m):\n\u001B[0;32m    337\u001B[0m     \u001B[38;5;66;03m# Include one of the positions where expected is zero in\u001B[39;00m\n\u001B[0;32m    338\u001B[0m     \u001B[38;5;66;03m# the exception message.\u001B[39;00m\n",
      "\u001B[1;31mValueError\u001B[0m: No data; `observed` has size 0."
     ]
    }
   ],
   "execution_count": 38
  },
  {
   "metadata": {
    "ExecuteTime": {
     "end_time": "2024-05-22T10:41:24.987886Z",
     "start_time": "2024-05-22T10:41:24.987886Z"
    }
   },
   "cell_type": "code",
   "source": [
    "contingency_table_14 = pd.crosstab(index=AMB_PA['Pèrdua pes entre ingressos'] > 10.0, columns=TOTAL['Pèrdua pes entre ingressos'] > 10.0) \n",
    "\n",
    "chi2_14, p_value_14, dof_14, expected_14 = chi2_contingency(contingency_table_14) \n",
    "\n",
    "print(\"Estadístic xi-quadrat entre AMB_PA i TOTAL:\", chi2_14) \n",
    "print(\"P-valor entre AMB_PA i TOTAL:\", p_value_14) \n",
    "\n",
    "if p_value_14 < 0.05: \n",
    "   print(\"Hi ha diferències significatives entre les distribucions de pèrdua de pes entre ingressos en AMB_PA i TOTAL.\") \n",
    "else: \n",
    "   print(\"No hi ha diferències significatives entre les distribucions de pèrdua de pes entre ingressos en AMB_PA i TOTAL.\")"
   ],
   "id": "5db12fcce9b75b8c",
   "outputs": [],
   "execution_count": null
  },
  {
   "metadata": {
    "ExecuteTime": {
     "end_time": "2024-05-22T10:41:24.988886Z",
     "start_time": "2024-05-22T10:41:24.988886Z"
    }
   },
   "cell_type": "code",
   "source": [
    "contingency_table_24 = pd.crosstab(index=AMB_PA_MECVV['Pèrdua pes entre ingressos'] > 10.0, columns=TOTAL['Pèrdua pes entre ingressos'] > 10.0) \n",
    "\n",
    "chi2_24, p_value_24, dof_24, expected_24 = chi2_contingency(contingency_table_24) \n",
    "\n",
    "print(\"Estadístic xi-quadrat entre AMB_PA_MECVV i TOTAL:\", chi2_24) \n",
    "print(\"P-valor entre AMB_PA_MECVV i TOTAL:\", p_value_24) \n",
    "\n",
    "if p_value_24 < 0.05: \n",
    "   print(\"Hi ha diferències significatives entre les distribucions de pèrdua de pes entre ingressos en AMB_PA_MECVV i TOTAL.\") \n",
    "else: \n",
    "   print(\"No hi ha diferències significatives entre les distribucions de pèrdua de pes entre ingressos en AMB_PA_MECVV i TOTAL.\")"
   ],
   "id": "bf106c7a7c5c988d",
   "outputs": [],
   "execution_count": null
  },
  {
   "metadata": {},
   "cell_type": "code",
   "source": [
    "contingency_table_34 = pd.crosstab(index=SENSE_PA['Pèrdua pes entre ingressos'] > 10.0, columns=TOTAL['Pèrdua pes entre ingressos'] > 10.0) \n",
    "\n",
    "chi2_34, p_value_34, dof_34, expected_34 = chi2_contingency(contingency_table_34) \n",
    "\n",
    "print(\"Estadístic xi-quadrat entre SENSE_PA i TOTAL:\", chi2_34) \n",
    "print(\"P-valor entre SENSE_PA i TOTAL:\", p_value_34) \n",
    "\n",
    "if p_value_34 < 0.05: \n",
    "   print(\"Hi ha diferències significatives entre les distribucions de pèrdua de pes entre ingressos en SENSE_PA i TOTAL.\") \n",
    "else: \n",
    "   print(\"No hi ha diferències significatives entre les distribucions de pèrdua de pes entre ingressos en SENSE_PA i TOTAL.\")"
   ],
   "id": "4a21f502e1b7020f",
   "outputs": [],
   "execution_count": null
  },
  {
   "metadata": {},
   "cell_type": "markdown",
   "source": "##### Pèrdua de pes d'entre 6-10 kg",
   "id": "1cde089f02360b76"
  },
  {
   "metadata": {},
   "cell_type": "code",
   "source": [
    "contingency_table_12 = pd.crosstab(index=AMB_PA['Pèrdua pes entre ingressos'].between(6,10), columns=AMB_PA_MECVV['Pèrdua pes entre ingressos'].between(6,10)) \n",
    "\n",
    "chi2_12, p_value_12, dof_12, expected_12 = chi2_contingency(contingency_table_12) \n",
    "\n",
    "print(\"Estadístic xi-quadrat entre AMB_PA i AMB_PA_MECVV:\", chi2_12) \n",
    "print(\"P-valor entre AMB_PA i AMB_PA_MECVV:\", p_value_12) \n",
    "\n",
    "if p_value_12 < 0.05: \n",
    "   print(\"Hi ha diferències significatives entre les distribucions de pèrdua de pes entre ingressos en AMB_PA i AMB_PA_MECVV.\") \n",
    "else: \n",
    "   print(\"No hi ha diferències significatives entre les distribucions de pèrdua de pes entre ingressos en AMB_PA i AMB_PA_MECVV.\")"
   ],
   "id": "15de2f178f153db7",
   "outputs": [],
   "execution_count": null
  },
  {
   "metadata": {},
   "cell_type": "code",
   "source": [
    "contingency_table_13 = pd.crosstab(index=AMB_PA['Pèrdua pes entre ingressos'].between(6,10), columns=SENSE_PA['Pèrdua pes entre ingressos'].between(6,10)) \n",
    "\n",
    "chi2_13, p_value_13, dof_13, expected_13 = chi2_contingency(contingency_table_13) \n",
    "\n",
    "print(\"Estadístic xi-quadrat entre AMB_PA i SENSE_PA:\", chi2_13) \n",
    "print(\"P-valor entre AMB_PA i SENSE_PA:\", p_value_13) \n",
    "\n",
    "if p_value_13 < 0.05: \n",
    "   print(\"Hi ha diferències significatives entre les distribucions de pèrdua de pes entre ingressos en AMB_PA i SENSE_PA.\") \n",
    "else: \n",
    "   print(\"No hi ha diferències significatives entre les distribucions de pèrdua de pes entre ingressos en AMB_PA i SENSE_PA.\")"
   ],
   "id": "b6f49f87132b3143",
   "outputs": [],
   "execution_count": null
  },
  {
   "metadata": {},
   "cell_type": "code",
   "source": [
    "contingency_table_23 = pd.crosstab(index=AMB_PA_MECVV['Pèrdua pes entre ingressos'].between(6,10), columns=SENSE_PA['Pèrdua pes entre ingressos'].between(6,10)) \n",
    "\n",
    "chi2_23, p_value_23, dof_23, expected_23 = chi2_contingency(contingency_table_23) \n",
    "\n",
    "print(\"Estadístic xi-quadrat entre AMB_PA_MECVV i SENSE_PA:\", chi2_23) \n",
    "print(\"P-valor entre AMB_PA_MECVV i SENSE_PA:\", p_value_23) \n",
    "\n",
    "if p_value_23 < 0.05: \n",
    "   print(\"Hi ha diferències significatives entre les distribucions de pèrdua de pes entre ingressos en AMB_PA_MECVV i SENSE_PA.\") \n",
    "else: \n",
    "   print(\"No hi ha diferències significatives entre les distribucions de pèrdua de pes entre ingressos en AMB_PA_MECVV i SENSE_PA.\")"
   ],
   "id": "543484cafb4b96f8",
   "outputs": [],
   "execution_count": null
  },
  {
   "metadata": {},
   "cell_type": "code",
   "source": [
    "contingency_table_14 = pd.crosstab(index=AMB_PA['Pèrdua pes entre ingressos'].between(6,10), columns=TOTAL['Pèrdua pes entre ingressos'].between(6,10)) \n",
    "\n",
    "chi2_14, p_value_14, dof_14, expected_14 = chi2_contingency(contingency_table_14) \n",
    "\n",
    "print(\"Estadístic xi-quadrat entre AMB_PA i TOTAL:\", chi2_14) \n",
    "print(\"P-valor entre AMB_PA i TOTAL:\", p_value_14) \n",
    "\n",
    "if p_value_14 < 0.05: \n",
    "   print(\"Hi ha diferències significatives entre les distribucions de pèrdua de pes entre ingressos en AMB_PA i TOTAL.\") \n",
    "else: \n",
    "   print(\"No hi ha diferències significatives entre les distribucions de pèrdua de pes entre ingressos en AMB_PA i TOTAL.\")"
   ],
   "id": "ce102d3a30cac557",
   "outputs": [],
   "execution_count": null
  },
  {
   "metadata": {},
   "cell_type": "code",
   "source": [
    "contingency_table_24 = pd.crosstab(index=AMB_PA_MECVV['Pèrdua pes entre ingressos'].between(6,10), columns=TOTAL['Pèrdua pes entre ingressos'].between(6,10)) \n",
    "\n",
    "chi2_24, p_value_24, dof_24, expected_24 = chi2_contingency(contingency_table_24) \n",
    "\n",
    "print(\"Estadístic xi-quadrat entre AMB_PA_MECVV i TOTAL:\", chi2_24) \n",
    "print(\"P-valor entre AMB_PA_MECVV i TOTAL:\", p_value_24) \n",
    "\n",
    "if p_value_24 < 0.05: \n",
    "   print(\"Hi ha diferències significatives entre les distribucions de pèrdua de pes entre ingressos en AMB_PA_MECVV i TOTAL.\") \n",
    "else: \n",
    "   print(\"No hi ha diferències significatives entre les distribucions de pèrdua de pes entre ingressos en AMB_PA_MECVV i TOTAL.\")"
   ],
   "id": "df94deacd4063969",
   "outputs": [],
   "execution_count": null
  },
  {
   "metadata": {},
   "cell_type": "code",
   "source": [
    "contingency_table_34 = pd.crosstab(index=SENSE_PA['Pèrdua pes entre ingressos'].between(6,10), columns=TOTAL['Pèrdua pes entre ingressos'].between(6,10)) \n",
    "\n",
    "chi2_34, p_value_34, dof_34, expected_34 = chi2_contingency(contingency_table_34) \n",
    "\n",
    "print(\"Estadístic xi-quadrat entre SENSE_PA i TOTAL:\", chi2_34) \n",
    "print(\"P-valor entre SENSE_PA i TOTAL:\", p_value_34) \n",
    "\n",
    "if p_value_34 < 0.05: \n",
    "   print(\"Hi ha diferències significatives entre les distribucions de pèrdua de pes entre ingressos en SENSE_PA i TOTAL.\") \n",
    "else: \n",
    "   print(\"No hi ha diferències significatives entre les distribucions de pèrdua de pes entre ingressos en SENSE_PA i TOTAL.\")"
   ],
   "id": "b7cdaefdb427b995",
   "outputs": [],
   "execution_count": null
  },
  {
   "metadata": {},
   "cell_type": "markdown",
   "source": "##### Pèrdua de pes d'entre 3-6 kg",
   "id": "288151617a5d3635"
  },
  {
   "metadata": {},
   "cell_type": "code",
   "source": [
    "contingency_table_12 = pd.crosstab(index=AMB_PA['Pèrdua pes entre ingressos'].between(3,6), columns=AMB_PA_MECVV['Pèrdua pes entre ingressos'].between(3,6)) \n",
    "\n",
    "chi2_12, p_value_12, dof_12, expected_12 = chi2_contingency(contingency_table_12) \n",
    "\n",
    "print(\"Estadístic xi-quadrat entre AMB_PA i AMB_PA_MECVV:\", chi2_12) \n",
    "print(\"P-valor entre AMB_PA i AMB_PA_MECVV:\", p_value_12) \n",
    "\n",
    "if p_value_12 < 0.05: \n",
    "   print(\"Hi ha diferències significatives entre les distribucions de pèrdua de pes entre ingressos en AMB_PA i AMB_PA_MECVV.\") \n",
    "else: \n",
    "   print(\"No hi ha diferències significatives entre les distribucions de pèrdua de pes entre ingressos en AMB_PA i AMB_PA_MECVV.\")"
   ],
   "id": "3cf31e614d92d4d",
   "outputs": [],
   "execution_count": null
  },
  {
   "metadata": {},
   "cell_type": "code",
   "source": [
    "contingency_table_13 = pd.crosstab(index=AMB_PA['Pèrdua pes entre ingressos'].between(3,6), columns=SENSE_PA['Pèrdua pes entre ingressos'].between(3,6)) \n",
    "\n",
    "chi2_13, p_value_13, dof_13, expected_13 = chi2_contingency(contingency_table_13) \n",
    "\n",
    "print(\"Estadístic xi-quadrat entre AMB_PA i SENSE_PA:\", chi2_13) \n",
    "print(\"P-valor entre AMB_PA i SENSE_PA:\", p_value_13) \n",
    "\n",
    "if p_value_13 < 0.05: \n",
    "   print(\"Hi ha diferències significatives entre les distribucions de pèrdua de pes entre ingressos en AMB_PA i SENSE_PA.\") \n",
    "else: \n",
    "   print(\"No hi ha diferències significatives entre les distribucions de pèrdua de pes entre ingressos en AMB_PA i SENSE_PA.\")"
   ],
   "id": "31cfaf0e6970f2da",
   "outputs": [],
   "execution_count": null
  },
  {
   "metadata": {},
   "cell_type": "code",
   "source": [
    "contingency_table_23 = pd.crosstab(index=AMB_PA_MECVV['Pèrdua pes entre ingressos'].between(3,6), columns=SENSE_PA['Pèrdua pes entre ingressos'].between(3,6)) \n",
    "\n",
    "chi2_23, p_value_23, dof_23, expected_23 = chi2_contingency(contingency_table_23) \n",
    "\n",
    "print(\"Estadístic xi-quadrat entre AMB_PA_MECVV i SENSE_PA:\", chi2_23) \n",
    "print(\"P-valor entre AMB_PA_MECVV i SENSE_PA:\", p_value_23) \n",
    "\n",
    "if p_value_23 < 0.05: \n",
    "   print(\"Hi ha diferències significatives entre les distribucions de pèrdua de pes entre ingressos en AMB_PA_MECVV i SENSE_PA.\") \n",
    "else: \n",
    "   print(\"No hi ha diferències significatives entre les distribucions de pèrdua de pes entre ingressos en AMB_PA_MECVV i SENSE_PA.\")"
   ],
   "id": "841ad07aef0e41f2",
   "outputs": [],
   "execution_count": null
  },
  {
   "metadata": {},
   "cell_type": "code",
   "source": [
    "contingency_table_14 = pd.crosstab(index=AMB_PA['Pèrdua pes entre ingressos'].between(3,6), columns=TOTAL['Pèrdua pes entre ingressos'].between(3,6)) \n",
    "\n",
    "chi2_14, p_value_14, dof_14, expected_14 = chi2_contingency(contingency_table_14) \n",
    "\n",
    "print(\"Estadístic xi-quadrat entre AMB_PA i TOTAL:\", chi2_14) \n",
    "print(\"P-valor entre AMB_PA i TOTAL:\", p_value_14) \n",
    "\n",
    "if p_value_14 < 0.05: \n",
    "   print(\"Hi ha diferències significatives entre les distribucions de pèrdua de pes entre ingressos en AMB_PA i TOTAL.\") \n",
    "else: \n",
    "   print(\"No hi ha diferències significatives entre les distribucions de pèrdua de pes entre ingressos en AMB_PA i TOTAL.\")"
   ],
   "id": "9b68944050162348",
   "outputs": [],
   "execution_count": null
  },
  {
   "metadata": {},
   "cell_type": "code",
   "source": [
    "contingency_table_24 = pd.crosstab(index=AMB_PA_MECVV['Pèrdua pes entre ingressos'].between(3,6), columns=TOTAL['Pèrdua pes entre ingressos'].between(3,6)) \n",
    "\n",
    "chi2_24, p_value_24, dof_24, expected_24 = chi2_contingency(contingency_table_24) \n",
    "\n",
    "print(\"Estadístic xi-quadrat entre AMB_PA_MECVV i TOTAL:\", chi2_24) \n",
    "print(\"P-valor entre AMB_PA_MECVV i TOTAL:\", p_value_24) \n",
    "\n",
    "if p_value_24 < 0.05: \n",
    "   print(\"Hi ha diferències significatives entre les distribucions de pèrdua de pes entre ingressos en AMB_PA_MECVV i TOTAL.\") \n",
    "else: \n",
    "   print(\"No hi ha diferències significatives entre les distribucions de pèrdua de pes entre ingressos en AMB_PA_MECVV i TOTAL.\")"
   ],
   "id": "332875c0fe7aaa53",
   "outputs": [],
   "execution_count": null
  },
  {
   "metadata": {},
   "cell_type": "code",
   "source": [
    "contingency_table_34 = pd.crosstab(index=SENSE_PA['Pèrdua pes entre ingressos'].between(3,6), columns=TOTAL['Pèrdua pes entre ingressos'].between(3,6)) \n",
    "\n",
    "chi2_34, p_value_34, dof_34, expected_34 = chi2_contingency(contingency_table_34) \n",
    "\n",
    "print(\"Estadístic xi-quadrat entre SENSE_PA i TOTAL:\", chi2_34) \n",
    "print(\"P-valor entre SENSE_PA i TOTAL:\", p_value_34) \n",
    "\n",
    "if p_value_34 < 0.05: \n",
    "   print(\"Hi ha diferències significatives entre les distribucions de pèrdua de pes entre ingressos en SENSE_PA i TOTAL.\") \n",
    "else: \n",
    "   print(\"No hi ha diferències significatives entre les distribucions de pèrdua de pes entre ingressos en SENSE_PA i TOTAL.\")"
   ],
   "id": "f67164f8aee22516",
   "outputs": [],
   "execution_count": null
  },
  {
   "metadata": {},
   "cell_type": "markdown",
   "source": "##### Pèrdua de pes d'entre 1-3 kg",
   "id": "215ef04e9676ecfd"
  },
  {
   "metadata": {},
   "cell_type": "code",
   "source": [
    "contingency_table_12 = pd.crosstab(index=AMB_PA['Pèrdua pes entre ingressos'].between(1,3), columns=AMB_PA_MECVV['Pèrdua pes entre ingressos'].between(1,3)) \n",
    "\n",
    "chi2_12, p_value_12, dof_12, expected_12 = chi2_contingency(contingency_table_12) \n",
    "\n",
    "print(\"Estadístic xi-quadrat entre AMB_PA i AMB_PA_MECVV:\", chi2_12) \n",
    "print(\"P-valor entre AMB_PA i AMB_PA_MECVV:\", p_value_12) \n",
    "\n",
    "if p_value_12 < 0.05: \n",
    "   print(\"Hi ha diferències significatives entre les distribucions de pèrdua de pes entre ingressos en AMB_PA i AMB_PA_MECVV.\") \n",
    "else: \n",
    "   print(\"No hi ha diferències significatives entre les distribucions de pèrdua de pes entre ingressos en AMB_PA i AMB_PA_MECVV.\")"
   ],
   "id": "392148e2b926fef3",
   "outputs": [],
   "execution_count": null
  },
  {
   "metadata": {},
   "cell_type": "code",
   "source": [
    "contingency_table_13 = pd.crosstab(index=AMB_PA['Pèrdua pes entre ingressos'].between(1,3), columns=SENSE_PA['Pèrdua pes entre ingressos'].between(1,3)) \n",
    "\n",
    "chi2_13, p_value_13, dof_13, expected_13 = chi2_contingency(contingency_table_13) \n",
    "\n",
    "print(\"Estadístic xi-quadrat entre AMB_PA i SENSE_PA:\", chi2_13) \n",
    "print(\"P-valor entre AMB_PA i SENSE_PA:\", p_value_13) \n",
    "\n",
    "if p_value_13 < 0.05: \n",
    "   print(\"Hi ha diferències significatives entre les distribucions de pèrdua de pes entre ingressos en AMB_PA i SENSE_PA.\") \n",
    "else: \n",
    "   print(\"No hi ha diferències significatives entre les distribucions de pèrdua de pes entre ingressos en AMB_PA i SENSE_PA.\")"
   ],
   "id": "5dde90a0ed71545f",
   "outputs": [],
   "execution_count": null
  },
  {
   "metadata": {},
   "cell_type": "code",
   "source": [
    "contingency_table_23 = pd.crosstab(index=AMB_PA_MECVV['Pèrdua pes entre ingressos'].between(1,3), columns=SENSE_PA['Pèrdua pes entre ingressos'].between(1,3)) \n",
    "\n",
    "chi2_23, p_value_23, dof_23, expected_23 = chi2_contingency(contingency_table_23) \n",
    "\n",
    "print(\"Estadístic xi-quadrat entre AMB_PA_MECVV i SENSE_PA:\", chi2_23) \n",
    "print(\"P-valor entre AMB_PA_MECVV i SENSE_PA:\", p_value_23) \n",
    "\n",
    "if p_value_23 < 0.05: \n",
    "   print(\"Hi ha diferències significatives entre les distribucions de pèrdua de pes entre ingressos en AMB_PA_MECVV i SENSE_PA.\") \n",
    "else: \n",
    "   print(\"No hi ha diferències significatives entre les distribucions de pèrdua de pes entre ingressos en AMB_PA_MECVV i SENSE_PA.\")"
   ],
   "id": "30912263603c178b",
   "outputs": [],
   "execution_count": null
  },
  {
   "metadata": {},
   "cell_type": "code",
   "source": [
    "contingency_table_14 = pd.crosstab(index=AMB_PA['Pèrdua pes entre ingressos'].between(1,3), columns=TOTAL['Pèrdua pes entre ingressos'].between(1,3)) \n",
    "\n",
    "chi2_14, p_value_14, dof_14, expected_14 = chi2_contingency(contingency_table_14) \n",
    "\n",
    "print(\"Estadístic xi-quadrat entre AMB_PA i TOTAL:\", chi2_14) \n",
    "print(\"P-valor entre AMB_PA i TOTAL:\", p_value_14) \n",
    "\n",
    "if p_value_14 < 0.05: \n",
    "   print(\"Hi ha diferències significatives entre les distribucions de pèrdua de pes entre ingressos en AMB_PA i TOTAL.\") \n",
    "else: \n",
    "   print(\"No hi ha diferències significatives entre les distribucions de pèrdua de pes entre ingressos en AMB_PA i TOTAL.\")"
   ],
   "id": "d48dfc5796243ec3",
   "outputs": [],
   "execution_count": null
  },
  {
   "metadata": {},
   "cell_type": "code",
   "source": [
    "contingency_table_24 = pd.crosstab(index=AMB_PA_MECVV['Pèrdua pes entre ingressos'].between(1,3), columns=TOTAL['Pèrdua pes entre ingressos'].between(1,3)) \n",
    "\n",
    "chi2_24, p_value_24, dof_24, expected_24 = chi2_contingency(contingency_table_24) \n",
    "\n",
    "print(\"Estadístic xi-quadrat entre AMB_PA_MECVV i TOTAL:\", chi2_24) \n",
    "print(\"P-valor entre AMB_PA_MECVV i TOTAL:\", p_value_24) \n",
    "\n",
    "if p_value_24 < 0.05: \n",
    "   print(\"Hi ha diferències significatives entre les distribucions de pèrdua de pes entre ingressos en AMB_PA_MECVV i TOTAL.\") \n",
    "else: \n",
    "   print(\"No hi ha diferències significatives entre les distribucions de pèrdua de pes entre ingressos en AMB_PA_MECVV i TOTAL.\")"
   ],
   "id": "83e1f662177e3911",
   "outputs": [],
   "execution_count": null
  },
  {
   "metadata": {},
   "cell_type": "code",
   "source": [
    "contingency_table_34 = pd.crosstab(index=SENSE_PA['Pèrdua pes entre ingressos'].between(1,3), columns=TOTAL['Pèrdua pes entre ingressos'].between(1,3)) \n",
    "\n",
    "chi2_34, p_value_34, dof_34, expected_34 = chi2_contingency(contingency_table_34) \n",
    "\n",
    "print(\"Estadístic xi-quadrat entre SENSE_PA i TOTAL:\", chi2_34) \n",
    "print(\"P-valor entre SENSE_PA i TOTAL:\", p_value_34) \n",
    "\n",
    "if p_value_34 < 0.05: \n",
    "   print(\"Hi ha diferències significatives entre les distribucions de pèrdua de pes entre ingressos en SENSE_PA i TOTAL.\") \n",
    "else: \n",
    "   print(\"No hi ha diferències significatives entre les distribucions de pèrdua de pes entre ingressos en SENSE_PA i TOTAL.\")"
   ],
   "id": "c66ec80f0535d062",
   "outputs": [],
   "execution_count": null
  },
  {
   "metadata": {},
   "cell_type": "markdown",
   "source": "##### Sense pèrdua de pes",
   "id": "7fb918f61047925d"
  },
  {
   "metadata": {},
   "cell_type": "code",
   "source": [
    "contingency_table_12 = pd.crosstab(index=AMB_PA['Pèrdua pes entre ingressos'] == 0, columns=AMB_PA_MECVV['Pèrdua pes entre ingressos'] == 0) \n",
    "\n",
    "chi2_12, p_value_12, dof_12, expected_12 = chi2_contingency(contingency_table_12) \n",
    "\n",
    "print(\"Estadístic xi-quadrat entre AMB_PA i AMB_PA_MECVV:\", chi2_12) \n",
    "print(\"P-valor entre AMB_PA i AMB_PA_MECVV:\", p_value_12) \n",
    "\n",
    "if p_value_12 < 0.05: \n",
    "   print(\"Hi ha diferències significatives entre les distribucions de pèrdua de pes entre ingressos en AMB_PA i AMB_PA_MECVV.\") \n",
    "else: \n",
    "   print(\"No hi ha diferències significatives entre les distribucions de pèrdua de pes entre ingressos en AMB_PA i AMB_PA_MECVV.\")"
   ],
   "id": "ddcfe56952c6742",
   "outputs": [],
   "execution_count": null
  },
  {
   "metadata": {},
   "cell_type": "code",
   "source": [
    "contingency_table_13 = pd.crosstab(index=AMB_PA['Pèrdua pes entre ingressos'] == 0, columns=SENSE_PA['Pèrdua pes entre ingressos'] == 0) \n",
    "\n",
    "chi2_13, p_value_13, dof_13, expected_13 = chi2_contingency(contingency_table_13) \n",
    "\n",
    "print(\"Estadístic xi-quadrat entre AMB_PA i SENSE_PA:\", chi2_13) \n",
    "print(\"P-valor entre AMB_PA i SENSE_PA:\", p_value_13) \n",
    "\n",
    "if p_value_13 < 0.05: \n",
    "   print(\"Hi ha diferències significatives entre les distribucions de pèrdua de pes entre ingressos en AMB_PA i SENSE_PA.\") \n",
    "else: \n",
    "   print(\"No hi ha diferències significatives entre les distribucions de pèrdua de pes entre ingressos en AMB_PA i SENSE_PA.\")"
   ],
   "id": "2b5a2ce0471463eb",
   "outputs": [],
   "execution_count": null
  },
  {
   "metadata": {},
   "cell_type": "code",
   "source": [
    "contingency_table_23 = pd.crosstab(index=AMB_PA_MECVV['Pèrdua pes entre ingressos'] == 0, columns=SENSE_PA['Pèrdua pes entre ingressos'] == 0) \n",
    "\n",
    "chi2_23, p_value_23, dof_23, expected_23 = chi2_contingency(contingency_table_23) \n",
    "\n",
    "print(\"Estadístic xi-quadrat entre AMB_PA_MECVV i SENSE_PA:\", chi2_23) \n",
    "print(\"P-valor entre AMB_PA_MECVV i SENSE_PA:\", p_value_23) \n",
    "\n",
    "if p_value_23 < 0.05: \n",
    "   print(\"Hi ha diferències significatives entre les distribucions de pèrdua de pes entre ingressos en AMB_PA_MECVV i SENSE_PA.\") \n",
    "else: \n",
    "   print(\"No hi ha diferències significatives entre les distribucions de pèrdua de pes entre ingressos en AMB_PA_MECVV i SENSE_PA.\")"
   ],
   "id": "63480530eb839113",
   "outputs": [],
   "execution_count": null
  },
  {
   "metadata": {},
   "cell_type": "code",
   "source": [
    "contingency_table_14 = pd.crosstab(index=AMB_PA['Pèrdua pes entre ingressos'] == 0, columns=TOTAL['Pèrdua pes entre ingressos'] == 0) \n",
    "\n",
    "chi2_14, p_value_14, dof_14, expected_14 = chi2_contingency(contingency_table_14) \n",
    "\n",
    "print(\"Estadístic xi-quadrat entre AMB_PA i TOTAL:\", chi2_14) \n",
    "print(\"P-valor entre AMB_PA i TOTAL:\", p_value_14) \n",
    "\n",
    "if p_value_14 < 0.05: \n",
    "   print(\"Hi ha diferències significatives entre les distribucions de pèrdua de pes entre ingressos en AMB_PA i TOTAL.\") \n",
    "else: \n",
    "   print(\"No hi ha diferències significatives entre les distribucions de pèrdua de pes entre ingressos en AMB_PA i TOTAL.\")"
   ],
   "id": "f77a1453d7066516",
   "outputs": [],
   "execution_count": null
  },
  {
   "metadata": {},
   "cell_type": "code",
   "source": [
    "contingency_table_24 = pd.crosstab(index=AMB_PA_MECVV['Pèrdua pes entre ingressos'] == 0, columns=TOTAL['Pèrdua pes entre ingressos'] == 0) \n",
    "\n",
    "chi2_24, p_value_24, dof_24, expected_24 = chi2_contingency(contingency_table_24) \n",
    "\n",
    "print(\"Estadístic xi-quadrat entre AMB_PA_MECVV i TOTAL:\", chi2_24) \n",
    "print(\"P-valor entre AMB_PA_MECVV i TOTAL:\", p_value_24) \n",
    "\n",
    "if p_value_24 < 0.05: \n",
    "   print(\"Hi ha diferències significatives entre les distribucions de pèrdua de pes entre ingressos en AMB_PA_MECVV i TOTAL.\") \n",
    "else: \n",
    "   print(\"No hi ha diferències significatives entre les distribucions de pèrdua de pes entre ingressos en AMB_PA_MECVV i TOTAL.\")"
   ],
   "id": "8d5dd7521a7ce8fb",
   "outputs": [],
   "execution_count": null
  },
  {
   "metadata": {},
   "cell_type": "code",
   "source": [
    "contingency_table_34 = pd.crosstab(index=SENSE_PA['Pèrdua pes entre ingressos'] == 0, columns=TOTAL['Pèrdua pes entre ingressos'] == 0) \n",
    "\n",
    "chi2_34, p_value_34, dof_34, expected_34 = chi2_contingency(contingency_table_34) \n",
    "\n",
    "print(\"Estadístic xi-quadrat entre SENSE_PA i TOTAL:\", chi2_34) \n",
    "print(\"P-valor entre SENSE_PA i TOTAL:\", p_value_34) \n",
    "\n",
    "if p_value_34 < 0.05: \n",
    "   print(\"Hi ha diferències significatives entre les distribucions de pèrdua de pes entre ingressos en SENSE_PA i TOTAL.\") \n",
    "else: \n",
    "   print(\"No hi ha diferències significatives entre les distribucions de pèrdua de pes entre ingressos en SENSE_PA i TOTAL.\")"
   ],
   "id": "aa66df85be92cde1",
   "outputs": [],
   "execution_count": null
  },
  {
   "metadata": {},
   "cell_type": "markdown",
   "source": "## Pèrdua de pes entre ingressos (mitjana i SD)",
   "id": "45c98fba65b57695"
  },
  {
   "metadata": {},
   "cell_type": "code",
   "source": [
    "mitjana_ppimsd = AMB_PA['Pèrdua pes entre ingressos'].mean()\n",
    "desviacio_estandard_ppimsd = AMB_PA['Pèrdua pes entre ingressos'].std()\n",
    "\n",
    "resultado = f\"{mitjana_ppimsd:.2f} ± {desviacio_estandard_ppimsd:.2f}\"\n",
    "print(\"Mitjana ± Desviació Estàndard de la pèrdua de pes entre ingressos:\", resultado)"
   ],
   "id": "5acd79f2ae323e03",
   "outputs": [],
   "execution_count": null
  },
  {
   "metadata": {},
   "cell_type": "code",
   "source": [
    "mitjana_ppimsd = AMB_PA_MECVV['Pèrdua pes entre ingressos'].mean()\n",
    "desviacio_estandard_ppimsd = AMB_PA_MECVV['Pèrdua pes entre ingressos'].std()\n",
    "\n",
    "resultado = f\"{mitjana_ppimsd:.2f} ± {desviacio_estandard_ppimsd:.2f}\"\n",
    "print(\"Mitjana ± Desviació Estàndard de la pèrdua de pes entre ingressos:\", resultado)"
   ],
   "id": "d318bd928551a60a",
   "outputs": [],
   "execution_count": null
  },
  {
   "metadata": {},
   "cell_type": "code",
   "source": [
    "mitjana_ppimsd = SENSE_PA['Pèrdua pes entre ingressos'].mean()\n",
    "desviacio_estandard_ppimsd = SENSE_PA['Pèrdua pes entre ingressos'].std()\n",
    "\n",
    "resultado = f\"{mitjana_ppimsd:.2f} ± {desviacio_estandard_ppimsd:.2f}\"\n",
    "print(\"Mitjana ± Desviació Estàndard de la pèrdua de pes entre ingressos:\", resultado)"
   ],
   "id": "aa9beb02232c4429",
   "outputs": [],
   "execution_count": null
  },
  {
   "metadata": {},
   "cell_type": "code",
   "source": [
    "mitjana_ppimsd = TOTAL['Pèrdua pes entre ingressos'].mean()\n",
    "desviacio_estandard_ppimsd = TOTAL['Pèrdua pes entre ingressos'].std()\n",
    "\n",
    "resultado = f\"{mitjana_ppimsd:.2f} ± {desviacio_estandard_ppimsd:.2f}\"\n",
    "print(\"Mitjana ± Desviació Estàndard de la pèrdua de pes entre ingressos:\", resultado)"
   ],
   "id": "2487235d66fdeab5",
   "outputs": [],
   "execution_count": null
  },
  {
   "metadata": {},
   "cell_type": "markdown",
   "source": "#### Comparació distributiva",
   "id": "b3117c83becffc42"
  },
  {
   "metadata": {},
   "cell_type": "markdown",
   "source": "##### Normalitat i p-valor",
   "id": "8e3aa13f1eaf29e3"
  },
  {
   "metadata": {},
   "cell_type": "markdown",
   "source": "No cal calcular un altre cop la normalitat ja que estic utilitzant la mateixa columna que a l'apartat anterior, i vaig obtenir que tots 4 grups segueixen una distribució normal.",
   "id": "743b893c7a8b9817"
  },
  {
   "metadata": {},
   "cell_type": "code",
   "source": [
    "stat, p_value_12 = ttest_ind(AMB_PA['Pèrdua pes entre ingressos'], AMB_PA_MECVV['Pèrdua pes entre ingressos'], equal_var=False)\n",
    "print(\"P-valor entre AMB_PA i AMB_PA_MECVV\", p_value_12)"
   ],
   "id": "5758e061099443b4",
   "outputs": [],
   "execution_count": null
  },
  {
   "metadata": {},
   "cell_type": "code",
   "source": [
    "stat, p_value_13 = ttest_ind(AMB_PA['Pèrdua pes entre ingressos'], SENSE_PA['Pèrdua pes entre ingressos'], equal_var=False)\n",
    "print(\"P-valor entre AMB_PA i SENSE_PA\", p_value_13)"
   ],
   "id": "46c3f006c41d89df",
   "outputs": [],
   "execution_count": null
  },
  {
   "metadata": {},
   "cell_type": "code",
   "source": [
    "stat, p_value_23 = ttest_ind(AMB_PA_MECVV['Pèrdua pes entre ingressos'], SENSE_PA['Pèrdua pes entre ingressos'], equal_var=False)\n",
    "print(\"P-valor entre AMB_PA_MECVV i SENSE_PA\", p_value_23)"
   ],
   "id": "32d987d840104daf",
   "outputs": [],
   "execution_count": null
  },
  {
   "metadata": {},
   "cell_type": "code",
   "source": [
    "stat, p_value_14 = ttest_ind(AMB_PA['Pèrdua pes entre ingressos'], TOTAL['Pèrdua pes entre ingressos'], equal_var=False)\n",
    "print(\"P-valor entre AMB_PA i TOTAL\", p_value_14)"
   ],
   "id": "82a0dd1d0ec3cadb",
   "outputs": [],
   "execution_count": null
  },
  {
   "metadata": {},
   "cell_type": "code",
   "source": [
    "stat, p_value_24 = ttest_ind(AMB_PA_MECVV['Pèrdua pes entre ingressos'], TOTAL['Pèrdua pes entre ingressos'], equal_var=False)\n",
    "print(\"P-valor entre AMB_PA_MECVV i TOTAL\", p_value_24)"
   ],
   "id": "9268bfda8f1abbc9",
   "outputs": [],
   "execution_count": null
  },
  {
   "metadata": {},
   "cell_type": "code",
   "source": [
    "stat, p_value_34 = ttest_ind(SENSE_PA['Pèrdua pes entre ingressos'], TOTAL['Pèrdua pes entre ingressos'], equal_var=False)\n",
    "print(\"P-valor entre SENSE_PA i TOTAL\", p_value_34)"
   ],
   "id": "6d63b98838e1ed44",
   "outputs": [],
   "execution_count": null
  },
  {
   "metadata": {},
   "cell_type": "markdown",
   "source": "## Pèrdua de pes total",
   "id": "9477750ecfe6e87d"
  },
  {
   "metadata": {},
   "cell_type": "code",
   "source": [
    "AMB_PA.loc[:, 'Pèrdua pes total'] = pd.to_numeric(AMB_PA['Pèrdua pes total'], errors='coerce').dropna()\n",
    "AMB_PA_MECVV.loc[:, 'Pèrdua pes total'] = pd.to_numeric(AMB_PA_MECVV['Pèrdua pes total'], errors='coerce').dropna()\n",
    "SENSE_PA.loc[:, 'Pèrdua pes total'] = pd.to_numeric(SENSE_PA['Pèrdua pes total'], errors='coerce').dropna()\n",
    "TOTAL.loc[:, 'Pèrdua pes total'] = pd.to_numeric(TOTAL['Pèrdua pes total'], errors='coerce').dropna()"
   ],
   "id": "7358237f82fedff9",
   "outputs": [],
   "execution_count": null
  },
  {
   "metadata": {},
   "cell_type": "code",
   "source": [
    "mitjana_ppt = AMB_PA['Pèrdua pes total'].mean()\n",
    "desviacio_estandard_ppt = AMB_PA['Pèrdua pes total'].std()\n",
    "\n",
    "resultado = f\"{mitjana_ppt:.2f} ± {desviacio_estandard_ppt:.2f}\"\n",
    "print(\"Mitjana ± Desviació Estàndard de la pèrdua de pes total:\", resultado)"
   ],
   "id": "7c2e8a9f82d51ae2",
   "outputs": [],
   "execution_count": null
  },
  {
   "metadata": {},
   "cell_type": "code",
   "source": [
    "mitjana_ppt = AMB_PA_MECVV['Pèrdua pes total'].mean()\n",
    "desviacio_estandard_ppt = AMB_PA_MECVV['Pèrdua pes total'].std()\n",
    "\n",
    "resultado = f\"{mitjana_ppt:.2f} ± {desviacio_estandard_ppt:.2f}\"\n",
    "print(\"Mitjana ± Desviació Estàndard de la pèrdua de pes total:\", resultado)"
   ],
   "id": "254579e85a85aa3b",
   "outputs": [],
   "execution_count": null
  },
  {
   "metadata": {},
   "cell_type": "code",
   "source": [
    "mitjana_ppt = SENSE_PA['Pèrdua pes total'].mean()\n",
    "desviacio_estandard_ppt = SENSE_PA['Pèrdua pes total'].std()\n",
    "\n",
    "resultado = f\"{mitjana_ppt:.2f} ± {desviacio_estandard_ppt:.2f}\"\n",
    "print(\"Mitjana ± Desviació Estàndard de la pèrdua de pes total:\", resultado)"
   ],
   "id": "5a51c04bf7cbce57",
   "outputs": [],
   "execution_count": null
  },
  {
   "metadata": {},
   "cell_type": "markdown",
   "source": "#### Comparació distributiva",
   "id": "d03f5d33e5beb3f"
  },
  {
   "metadata": {},
   "cell_type": "markdown",
   "source": "##### Normalitat i p-valor",
   "id": "6a04dfa230a1082e"
  },
  {
   "metadata": {},
   "cell_type": "code",
   "source": [
    "stat, p_value = shapiro(AMB_PA['Pèrdua pes total'])\n",
    "print(f\"Estadístic W = {stat:.4f}\")\n",
    "print(f\"Valor p = {p_value:.4f}\")\n",
    "\n",
    "alpha = 0.05\n",
    "if p_value < alpha:\n",
    "    print(\"El nombre de files no segueix una distribució normal.\")\n",
    "else:\n",
    "    print(\"El nombre de files segueix una distribució normal\")"
   ],
   "id": "7cdafc896ee0ddfe",
   "outputs": [],
   "execution_count": null
  },
  {
   "metadata": {},
   "cell_type": "code",
   "source": [
    "stat, p_value = shapiro(AMB_PA_MECVV['Pèrdua pes total'])\n",
    "print(f\"Estadístic W = {stat:.4f}\")\n",
    "print(f\"Valor p = {p_value:.4f}\")\n",
    "\n",
    "alpha = 0.05\n",
    "if p_value < alpha:\n",
    "    print(\"El nombre de files no segueix una distribució normal.\")\n",
    "else:\n",
    "    print(\"El nombre de files segueix una distribució normal\")"
   ],
   "id": "bb09b49a6c45d291",
   "outputs": [],
   "execution_count": null
  },
  {
   "metadata": {},
   "cell_type": "code",
   "source": [
    "stat, p_value = shapiro(SENSE_PA['Pèrdua pes total'])\n",
    "print(f\"Estadístic W = {stat:.4f}\")\n",
    "print(f\"Valor p = {p_value:.4f}\")\n",
    "\n",
    "alpha = 0.05\n",
    "if p_value < alpha:\n",
    "    print(\"El nombre de files no segueix una distribució normal.\")\n",
    "else:\n",
    "    print(\"El nombre de files segueix una distribució normal\")"
   ],
   "id": "1cafec55e914c679",
   "outputs": [],
   "execution_count": null
  },
  {
   "metadata": {},
   "cell_type": "code",
   "source": [
    "stat, p_value = shapiro(TOTAL['Pèrdua pes total'])\n",
    "print(f\"Estadístic W = {stat:.4f}\")\n",
    "print(f\"Valor p = {p_value:.4f}\")\n",
    "\n",
    "alpha = 0.05\n",
    "if p_value < alpha:\n",
    "    print(\"El nombre de files no segueix una distribució normal.\")\n",
    "else:\n",
    "    print(\"El nombre de files segueix una distribució normal\")"
   ],
   "id": "95b4219538f62e8c",
   "outputs": [],
   "execution_count": null
  },
  {
   "metadata": {},
   "cell_type": "markdown",
   "source": "NORMALITAT: Els 4 grups segueixen una distribució normal",
   "id": "14e7c753e8233d27"
  },
  {
   "metadata": {},
   "cell_type": "code",
   "source": [
    "stat, p_value_12 = ttest_ind(AMB_PA['Pèrdua pes total'], AMB_PA_MECVV['Pèrdua pes total'], equal_var=False)\n",
    "print(\"P-valor entre AMB_PA i AMB_PA_MECVV\", p_value_12)"
   ],
   "id": "e5ed98fa080679e2",
   "outputs": [],
   "execution_count": null
  },
  {
   "metadata": {},
   "cell_type": "code",
   "source": [
    "stat, p_value_13 = ttest_ind(AMB_PA['Pèrdua pes total'], SENSE_PA['Pèrdua pes total'], equal_var=False)\n",
    "print(\"P-valor entre AMB_PA i SENSE_PA\", p_value_13)"
   ],
   "id": "f99e8d20ba53f7e9",
   "outputs": [],
   "execution_count": null
  },
  {
   "metadata": {
    "ExecuteTime": {
     "end_time": "2024-05-22T10:41:25.893179Z",
     "start_time": "2024-05-22T10:41:25.380312Z"
    }
   },
   "cell_type": "code",
   "source": [
    "stat, p_value_23 = ttest_ind(AMB_PA_MECVV['Pèrdua pes total'], SENSE_PA['Pèrdua pes total'], equal_var=False)\n",
    "print(\"P-valor entre AMB_PA_MECVV i SENSE_PA\", p_value_23)"
   ],
   "id": "bd21d0fe69869766",
   "outputs": [
    {
     "ename": "TypeError",
     "evalue": "unsupported operand type(s) for +: 'NoneType' and 'NoneType'",
     "output_type": "error",
     "traceback": [
      "\u001B[1;31m---------------------------------------------------------------------------\u001B[0m",
      "\u001B[1;31mTypeError\u001B[0m                                 Traceback (most recent call last)",
      "Cell \u001B[1;32mIn[39], line 1\u001B[0m\n\u001B[1;32m----> 1\u001B[0m stat, p_value_23 \u001B[38;5;241m=\u001B[39m \u001B[43mttest_ind\u001B[49m\u001B[43m(\u001B[49m\u001B[43mAMB_PA_MECVV\u001B[49m\u001B[43m[\u001B[49m\u001B[38;5;124;43m'\u001B[39;49m\u001B[38;5;124;43mPèrdua pes total\u001B[39;49m\u001B[38;5;124;43m'\u001B[39;49m\u001B[43m]\u001B[49m\u001B[43m,\u001B[49m\u001B[43m \u001B[49m\u001B[43mSENSE_PA\u001B[49m\u001B[43m[\u001B[49m\u001B[38;5;124;43m'\u001B[39;49m\u001B[38;5;124;43mPèrdua pes total\u001B[39;49m\u001B[38;5;124;43m'\u001B[39;49m\u001B[43m]\u001B[49m\u001B[43m,\u001B[49m\u001B[43m \u001B[49m\u001B[43mequal_var\u001B[49m\u001B[38;5;241;43m=\u001B[39;49m\u001B[38;5;28;43;01mFalse\u001B[39;49;00m\u001B[43m)\u001B[49m\n\u001B[0;32m      2\u001B[0m \u001B[38;5;28mprint\u001B[39m(\u001B[38;5;124m\"\u001B[39m\u001B[38;5;124mP-valor entre AMB_PA_MECVV i SENSE_PA\u001B[39m\u001B[38;5;124m\"\u001B[39m, p_value_23)\n",
      "File \u001B[1;32m~\\PycharmProjects\\PRACTICUM\\venv\\Lib\\site-packages\\scipy\\stats\\_axis_nan_policy.py:531\u001B[0m, in \u001B[0;36m_axis_nan_policy_factory.<locals>.axis_nan_policy_decorator.<locals>.axis_nan_policy_wrapper\u001B[1;34m(***failed resolving arguments***)\u001B[0m\n\u001B[0;32m    529\u001B[0m \u001B[38;5;28;01mif\u001B[39;00m sentinel:\n\u001B[0;32m    530\u001B[0m     samples \u001B[38;5;241m=\u001B[39m _remove_sentinel(samples, paired, sentinel)\n\u001B[1;32m--> 531\u001B[0m res \u001B[38;5;241m=\u001B[39m \u001B[43mhypotest_fun_out\u001B[49m\u001B[43m(\u001B[49m\u001B[38;5;241;43m*\u001B[39;49m\u001B[43msamples\u001B[49m\u001B[43m,\u001B[49m\u001B[43m \u001B[49m\u001B[38;5;241;43m*\u001B[39;49m\u001B[38;5;241;43m*\u001B[39;49m\u001B[43mkwds\u001B[49m\u001B[43m)\u001B[49m\n\u001B[0;32m    532\u001B[0m res \u001B[38;5;241m=\u001B[39m result_to_tuple(res)\n\u001B[0;32m    533\u001B[0m res \u001B[38;5;241m=\u001B[39m _add_reduced_axes(res, reduced_axes, keepdims)\n",
      "File \u001B[1;32m~\\PycharmProjects\\PRACTICUM\\venv\\Lib\\site-packages\\scipy\\stats\\_stats_py.py:7377\u001B[0m, in \u001B[0;36mttest_ind\u001B[1;34m(a, b, axis, equal_var, nan_policy, permutations, random_state, alternative, trim)\u001B[0m\n\u001B[0;32m   7375\u001B[0m     old_errstate \u001B[38;5;241m=\u001B[39m np\u001B[38;5;241m.\u001B[39mgeterr()\n\u001B[0;32m   7376\u001B[0m     np\u001B[38;5;241m.\u001B[39mseterr(divide\u001B[38;5;241m=\u001B[39m\u001B[38;5;124m'\u001B[39m\u001B[38;5;124mignore\u001B[39m\u001B[38;5;124m'\u001B[39m, invalid\u001B[38;5;241m=\u001B[39m\u001B[38;5;124m'\u001B[39m\u001B[38;5;124mignore\u001B[39m\u001B[38;5;124m'\u001B[39m)\n\u001B[1;32m-> 7377\u001B[0m v1 \u001B[38;5;241m=\u001B[39m \u001B[43m_var\u001B[49m\u001B[43m(\u001B[49m\u001B[43ma\u001B[49m\u001B[43m,\u001B[49m\u001B[43m \u001B[49m\u001B[43maxis\u001B[49m\u001B[43m,\u001B[49m\u001B[43m \u001B[49m\u001B[43mddof\u001B[49m\u001B[38;5;241;43m=\u001B[39;49m\u001B[38;5;241;43m1\u001B[39;49m\u001B[43m)\u001B[49m\n\u001B[0;32m   7378\u001B[0m v2 \u001B[38;5;241m=\u001B[39m _var(b, axis, ddof\u001B[38;5;241m=\u001B[39m\u001B[38;5;241m1\u001B[39m)\n\u001B[0;32m   7379\u001B[0m \u001B[38;5;28;01mif\u001B[39;00m equal_var:\n",
      "File \u001B[1;32m~\\PycharmProjects\\PRACTICUM\\venv\\Lib\\site-packages\\scipy\\stats\\_stats_py.py:1084\u001B[0m, in \u001B[0;36m_var\u001B[1;34m(x, axis, ddof, mean)\u001B[0m\n\u001B[0;32m   1082\u001B[0m \u001B[38;5;28;01mdef\u001B[39;00m \u001B[38;5;21m_var\u001B[39m(x, axis\u001B[38;5;241m=\u001B[39m\u001B[38;5;241m0\u001B[39m, ddof\u001B[38;5;241m=\u001B[39m\u001B[38;5;241m0\u001B[39m, mean\u001B[38;5;241m=\u001B[39m\u001B[38;5;28;01mNone\u001B[39;00m):\n\u001B[0;32m   1083\u001B[0m     \u001B[38;5;66;03m# Calculate variance of sample, warning if precision is lost\u001B[39;00m\n\u001B[1;32m-> 1084\u001B[0m     var \u001B[38;5;241m=\u001B[39m \u001B[43m_moment\u001B[49m\u001B[43m(\u001B[49m\u001B[43mx\u001B[49m\u001B[43m,\u001B[49m\u001B[43m \u001B[49m\u001B[38;5;241;43m2\u001B[39;49m\u001B[43m,\u001B[49m\u001B[43m \u001B[49m\u001B[43maxis\u001B[49m\u001B[43m,\u001B[49m\u001B[43m \u001B[49m\u001B[43mmean\u001B[49m\u001B[38;5;241;43m=\u001B[39;49m\u001B[43mmean\u001B[49m\u001B[43m)\u001B[49m\n\u001B[0;32m   1085\u001B[0m     \u001B[38;5;28;01mif\u001B[39;00m ddof \u001B[38;5;241m!=\u001B[39m \u001B[38;5;241m0\u001B[39m:\n\u001B[0;32m   1086\u001B[0m         n \u001B[38;5;241m=\u001B[39m x\u001B[38;5;241m.\u001B[39mshape[axis] \u001B[38;5;28;01mif\u001B[39;00m axis \u001B[38;5;129;01mis\u001B[39;00m \u001B[38;5;129;01mnot\u001B[39;00m \u001B[38;5;28;01mNone\u001B[39;00m \u001B[38;5;28;01melse\u001B[39;00m x\u001B[38;5;241m.\u001B[39msize\n",
      "File \u001B[1;32m~\\PycharmProjects\\PRACTICUM\\venv\\Lib\\site-packages\\scipy\\stats\\_stats_py.py:1052\u001B[0m, in \u001B[0;36m_moment\u001B[1;34m(a, moment, axis, mean)\u001B[0m\n\u001B[0;32m   1049\u001B[0m     n_list\u001B[38;5;241m.\u001B[39mappend(current_n)\n\u001B[0;32m   1051\u001B[0m \u001B[38;5;66;03m# Starting point for exponentiation by squares\u001B[39;00m\n\u001B[1;32m-> 1052\u001B[0m mean \u001B[38;5;241m=\u001B[39m (\u001B[43ma\u001B[49m\u001B[38;5;241;43m.\u001B[39;49m\u001B[43mmean\u001B[49m\u001B[43m(\u001B[49m\u001B[43maxis\u001B[49m\u001B[43m,\u001B[49m\u001B[43m \u001B[49m\u001B[43mkeepdims\u001B[49m\u001B[38;5;241;43m=\u001B[39;49m\u001B[38;5;28;43;01mTrue\u001B[39;49;00m\u001B[43m)\u001B[49m \u001B[38;5;28;01mif\u001B[39;00m mean \u001B[38;5;129;01mis\u001B[39;00m \u001B[38;5;28;01mNone\u001B[39;00m\n\u001B[0;32m   1053\u001B[0m         \u001B[38;5;28;01melse\u001B[39;00m np\u001B[38;5;241m.\u001B[39masarray(mean, dtype\u001B[38;5;241m=\u001B[39mdtype)[()])\n\u001B[0;32m   1054\u001B[0m a_zero_mean \u001B[38;5;241m=\u001B[39m a \u001B[38;5;241m-\u001B[39m mean\n\u001B[0;32m   1056\u001B[0m eps \u001B[38;5;241m=\u001B[39m np\u001B[38;5;241m.\u001B[39mfinfo(a_zero_mean\u001B[38;5;241m.\u001B[39mdtype)\u001B[38;5;241m.\u001B[39mresolution \u001B[38;5;241m*\u001B[39m \u001B[38;5;241m10\u001B[39m\n",
      "File \u001B[1;32m~\\PycharmProjects\\PRACTICUM\\venv\\Lib\\site-packages\\numpy\\core\\_methods.py:118\u001B[0m, in \u001B[0;36m_mean\u001B[1;34m(a, axis, dtype, out, keepdims, where)\u001B[0m\n\u001B[0;32m    115\u001B[0m         dtype \u001B[38;5;241m=\u001B[39m mu\u001B[38;5;241m.\u001B[39mdtype(\u001B[38;5;124m'\u001B[39m\u001B[38;5;124mf4\u001B[39m\u001B[38;5;124m'\u001B[39m)\n\u001B[0;32m    116\u001B[0m         is_float16_result \u001B[38;5;241m=\u001B[39m \u001B[38;5;28;01mTrue\u001B[39;00m\n\u001B[1;32m--> 118\u001B[0m ret \u001B[38;5;241m=\u001B[39m \u001B[43mumr_sum\u001B[49m\u001B[43m(\u001B[49m\u001B[43marr\u001B[49m\u001B[43m,\u001B[49m\u001B[43m \u001B[49m\u001B[43maxis\u001B[49m\u001B[43m,\u001B[49m\u001B[43m \u001B[49m\u001B[43mdtype\u001B[49m\u001B[43m,\u001B[49m\u001B[43m \u001B[49m\u001B[43mout\u001B[49m\u001B[43m,\u001B[49m\u001B[43m \u001B[49m\u001B[43mkeepdims\u001B[49m\u001B[43m,\u001B[49m\u001B[43m \u001B[49m\u001B[43mwhere\u001B[49m\u001B[38;5;241;43m=\u001B[39;49m\u001B[43mwhere\u001B[49m\u001B[43m)\u001B[49m\n\u001B[0;32m    119\u001B[0m \u001B[38;5;28;01mif\u001B[39;00m \u001B[38;5;28misinstance\u001B[39m(ret, mu\u001B[38;5;241m.\u001B[39mndarray):\n\u001B[0;32m    120\u001B[0m     \u001B[38;5;28;01mwith\u001B[39;00m _no_nep50_warning():\n",
      "\u001B[1;31mTypeError\u001B[0m: unsupported operand type(s) for +: 'NoneType' and 'NoneType'"
     ]
    }
   ],
   "execution_count": 39
  },
  {
   "metadata": {
    "ExecuteTime": {
     "end_time": "2024-05-22T10:41:25.894174Z",
     "start_time": "2024-05-22T10:41:25.894174Z"
    }
   },
   "cell_type": "code",
   "source": [
    "stat, p_value_14 = ttest_ind(AMB_PA['Pèrdua pes total'], TOTAL['Pèrdua pes total'], equal_var=False)\n",
    "print(\"P-valor entre AMB_PA i TOTAL\", p_value_14)"
   ],
   "id": "d76c25bc70c6bffb",
   "outputs": [],
   "execution_count": null
  },
  {
   "metadata": {
    "ExecuteTime": {
     "end_time": "2024-05-22T10:41:26.660176Z",
     "start_time": "2024-05-22T10:41:26.572359Z"
    }
   },
   "cell_type": "code",
   "source": [
    "stat, p_value_24 = ttest_ind(AMB_PA_MECVV['Pèrdua pes total'], TOTAL['Pèrdua pes total'], equal_var=False)\n",
    "print(\"P-valor entre AMB_PA_MECVV i TOTAL\", p_value_24)"
   ],
   "id": "9e921cc3826278a3",
   "outputs": [
    {
     "ename": "TypeError",
     "evalue": "unsupported operand type(s) for +: 'NoneType' and 'NoneType'",
     "output_type": "error",
     "traceback": [
      "\u001B[1;31m---------------------------------------------------------------------------\u001B[0m",
      "\u001B[1;31mTypeError\u001B[0m                                 Traceback (most recent call last)",
      "Cell \u001B[1;32mIn[40], line 1\u001B[0m\n\u001B[1;32m----> 1\u001B[0m stat, p_value_24 \u001B[38;5;241m=\u001B[39m \u001B[43mttest_ind\u001B[49m\u001B[43m(\u001B[49m\u001B[43mAMB_PA_MECVV\u001B[49m\u001B[43m[\u001B[49m\u001B[38;5;124;43m'\u001B[39;49m\u001B[38;5;124;43mPèrdua pes total\u001B[39;49m\u001B[38;5;124;43m'\u001B[39;49m\u001B[43m]\u001B[49m\u001B[43m,\u001B[49m\u001B[43m \u001B[49m\u001B[43mTOTAL\u001B[49m\u001B[43m[\u001B[49m\u001B[38;5;124;43m'\u001B[39;49m\u001B[38;5;124;43mPèrdua pes total\u001B[39;49m\u001B[38;5;124;43m'\u001B[39;49m\u001B[43m]\u001B[49m\u001B[43m,\u001B[49m\u001B[43m \u001B[49m\u001B[43mequal_var\u001B[49m\u001B[38;5;241;43m=\u001B[39;49m\u001B[38;5;28;43;01mFalse\u001B[39;49;00m\u001B[43m)\u001B[49m\n\u001B[0;32m      2\u001B[0m \u001B[38;5;28mprint\u001B[39m(\u001B[38;5;124m\"\u001B[39m\u001B[38;5;124mP-valor entre AMB_PA_MECVV i TOTAL\u001B[39m\u001B[38;5;124m\"\u001B[39m, p_value_24)\n",
      "File \u001B[1;32m~\\PycharmProjects\\PRACTICUM\\venv\\Lib\\site-packages\\scipy\\stats\\_axis_nan_policy.py:531\u001B[0m, in \u001B[0;36m_axis_nan_policy_factory.<locals>.axis_nan_policy_decorator.<locals>.axis_nan_policy_wrapper\u001B[1;34m(***failed resolving arguments***)\u001B[0m\n\u001B[0;32m    529\u001B[0m \u001B[38;5;28;01mif\u001B[39;00m sentinel:\n\u001B[0;32m    530\u001B[0m     samples \u001B[38;5;241m=\u001B[39m _remove_sentinel(samples, paired, sentinel)\n\u001B[1;32m--> 531\u001B[0m res \u001B[38;5;241m=\u001B[39m \u001B[43mhypotest_fun_out\u001B[49m\u001B[43m(\u001B[49m\u001B[38;5;241;43m*\u001B[39;49m\u001B[43msamples\u001B[49m\u001B[43m,\u001B[49m\u001B[43m \u001B[49m\u001B[38;5;241;43m*\u001B[39;49m\u001B[38;5;241;43m*\u001B[39;49m\u001B[43mkwds\u001B[49m\u001B[43m)\u001B[49m\n\u001B[0;32m    532\u001B[0m res \u001B[38;5;241m=\u001B[39m result_to_tuple(res)\n\u001B[0;32m    533\u001B[0m res \u001B[38;5;241m=\u001B[39m _add_reduced_axes(res, reduced_axes, keepdims)\n",
      "File \u001B[1;32m~\\PycharmProjects\\PRACTICUM\\venv\\Lib\\site-packages\\scipy\\stats\\_stats_py.py:7377\u001B[0m, in \u001B[0;36mttest_ind\u001B[1;34m(a, b, axis, equal_var, nan_policy, permutations, random_state, alternative, trim)\u001B[0m\n\u001B[0;32m   7375\u001B[0m     old_errstate \u001B[38;5;241m=\u001B[39m np\u001B[38;5;241m.\u001B[39mgeterr()\n\u001B[0;32m   7376\u001B[0m     np\u001B[38;5;241m.\u001B[39mseterr(divide\u001B[38;5;241m=\u001B[39m\u001B[38;5;124m'\u001B[39m\u001B[38;5;124mignore\u001B[39m\u001B[38;5;124m'\u001B[39m, invalid\u001B[38;5;241m=\u001B[39m\u001B[38;5;124m'\u001B[39m\u001B[38;5;124mignore\u001B[39m\u001B[38;5;124m'\u001B[39m)\n\u001B[1;32m-> 7377\u001B[0m v1 \u001B[38;5;241m=\u001B[39m \u001B[43m_var\u001B[49m\u001B[43m(\u001B[49m\u001B[43ma\u001B[49m\u001B[43m,\u001B[49m\u001B[43m \u001B[49m\u001B[43maxis\u001B[49m\u001B[43m,\u001B[49m\u001B[43m \u001B[49m\u001B[43mddof\u001B[49m\u001B[38;5;241;43m=\u001B[39;49m\u001B[38;5;241;43m1\u001B[39;49m\u001B[43m)\u001B[49m\n\u001B[0;32m   7378\u001B[0m v2 \u001B[38;5;241m=\u001B[39m _var(b, axis, ddof\u001B[38;5;241m=\u001B[39m\u001B[38;5;241m1\u001B[39m)\n\u001B[0;32m   7379\u001B[0m \u001B[38;5;28;01mif\u001B[39;00m equal_var:\n",
      "File \u001B[1;32m~\\PycharmProjects\\PRACTICUM\\venv\\Lib\\site-packages\\scipy\\stats\\_stats_py.py:1084\u001B[0m, in \u001B[0;36m_var\u001B[1;34m(x, axis, ddof, mean)\u001B[0m\n\u001B[0;32m   1082\u001B[0m \u001B[38;5;28;01mdef\u001B[39;00m \u001B[38;5;21m_var\u001B[39m(x, axis\u001B[38;5;241m=\u001B[39m\u001B[38;5;241m0\u001B[39m, ddof\u001B[38;5;241m=\u001B[39m\u001B[38;5;241m0\u001B[39m, mean\u001B[38;5;241m=\u001B[39m\u001B[38;5;28;01mNone\u001B[39;00m):\n\u001B[0;32m   1083\u001B[0m     \u001B[38;5;66;03m# Calculate variance of sample, warning if precision is lost\u001B[39;00m\n\u001B[1;32m-> 1084\u001B[0m     var \u001B[38;5;241m=\u001B[39m \u001B[43m_moment\u001B[49m\u001B[43m(\u001B[49m\u001B[43mx\u001B[49m\u001B[43m,\u001B[49m\u001B[43m \u001B[49m\u001B[38;5;241;43m2\u001B[39;49m\u001B[43m,\u001B[49m\u001B[43m \u001B[49m\u001B[43maxis\u001B[49m\u001B[43m,\u001B[49m\u001B[43m \u001B[49m\u001B[43mmean\u001B[49m\u001B[38;5;241;43m=\u001B[39;49m\u001B[43mmean\u001B[49m\u001B[43m)\u001B[49m\n\u001B[0;32m   1085\u001B[0m     \u001B[38;5;28;01mif\u001B[39;00m ddof \u001B[38;5;241m!=\u001B[39m \u001B[38;5;241m0\u001B[39m:\n\u001B[0;32m   1086\u001B[0m         n \u001B[38;5;241m=\u001B[39m x\u001B[38;5;241m.\u001B[39mshape[axis] \u001B[38;5;28;01mif\u001B[39;00m axis \u001B[38;5;129;01mis\u001B[39;00m \u001B[38;5;129;01mnot\u001B[39;00m \u001B[38;5;28;01mNone\u001B[39;00m \u001B[38;5;28;01melse\u001B[39;00m x\u001B[38;5;241m.\u001B[39msize\n",
      "File \u001B[1;32m~\\PycharmProjects\\PRACTICUM\\venv\\Lib\\site-packages\\scipy\\stats\\_stats_py.py:1052\u001B[0m, in \u001B[0;36m_moment\u001B[1;34m(a, moment, axis, mean)\u001B[0m\n\u001B[0;32m   1049\u001B[0m     n_list\u001B[38;5;241m.\u001B[39mappend(current_n)\n\u001B[0;32m   1051\u001B[0m \u001B[38;5;66;03m# Starting point for exponentiation by squares\u001B[39;00m\n\u001B[1;32m-> 1052\u001B[0m mean \u001B[38;5;241m=\u001B[39m (\u001B[43ma\u001B[49m\u001B[38;5;241;43m.\u001B[39;49m\u001B[43mmean\u001B[49m\u001B[43m(\u001B[49m\u001B[43maxis\u001B[49m\u001B[43m,\u001B[49m\u001B[43m \u001B[49m\u001B[43mkeepdims\u001B[49m\u001B[38;5;241;43m=\u001B[39;49m\u001B[38;5;28;43;01mTrue\u001B[39;49;00m\u001B[43m)\u001B[49m \u001B[38;5;28;01mif\u001B[39;00m mean \u001B[38;5;129;01mis\u001B[39;00m \u001B[38;5;28;01mNone\u001B[39;00m\n\u001B[0;32m   1053\u001B[0m         \u001B[38;5;28;01melse\u001B[39;00m np\u001B[38;5;241m.\u001B[39masarray(mean, dtype\u001B[38;5;241m=\u001B[39mdtype)[()])\n\u001B[0;32m   1054\u001B[0m a_zero_mean \u001B[38;5;241m=\u001B[39m a \u001B[38;5;241m-\u001B[39m mean\n\u001B[0;32m   1056\u001B[0m eps \u001B[38;5;241m=\u001B[39m np\u001B[38;5;241m.\u001B[39mfinfo(a_zero_mean\u001B[38;5;241m.\u001B[39mdtype)\u001B[38;5;241m.\u001B[39mresolution \u001B[38;5;241m*\u001B[39m \u001B[38;5;241m10\u001B[39m\n",
      "File \u001B[1;32m~\\PycharmProjects\\PRACTICUM\\venv\\Lib\\site-packages\\numpy\\core\\_methods.py:118\u001B[0m, in \u001B[0;36m_mean\u001B[1;34m(a, axis, dtype, out, keepdims, where)\u001B[0m\n\u001B[0;32m    115\u001B[0m         dtype \u001B[38;5;241m=\u001B[39m mu\u001B[38;5;241m.\u001B[39mdtype(\u001B[38;5;124m'\u001B[39m\u001B[38;5;124mf4\u001B[39m\u001B[38;5;124m'\u001B[39m)\n\u001B[0;32m    116\u001B[0m         is_float16_result \u001B[38;5;241m=\u001B[39m \u001B[38;5;28;01mTrue\u001B[39;00m\n\u001B[1;32m--> 118\u001B[0m ret \u001B[38;5;241m=\u001B[39m \u001B[43mumr_sum\u001B[49m\u001B[43m(\u001B[49m\u001B[43marr\u001B[49m\u001B[43m,\u001B[49m\u001B[43m \u001B[49m\u001B[43maxis\u001B[49m\u001B[43m,\u001B[49m\u001B[43m \u001B[49m\u001B[43mdtype\u001B[49m\u001B[43m,\u001B[49m\u001B[43m \u001B[49m\u001B[43mout\u001B[49m\u001B[43m,\u001B[49m\u001B[43m \u001B[49m\u001B[43mkeepdims\u001B[49m\u001B[43m,\u001B[49m\u001B[43m \u001B[49m\u001B[43mwhere\u001B[49m\u001B[38;5;241;43m=\u001B[39;49m\u001B[43mwhere\u001B[49m\u001B[43m)\u001B[49m\n\u001B[0;32m    119\u001B[0m \u001B[38;5;28;01mif\u001B[39;00m \u001B[38;5;28misinstance\u001B[39m(ret, mu\u001B[38;5;241m.\u001B[39mndarray):\n\u001B[0;32m    120\u001B[0m     \u001B[38;5;28;01mwith\u001B[39;00m _no_nep50_warning():\n",
      "\u001B[1;31mTypeError\u001B[0m: unsupported operand type(s) for +: 'NoneType' and 'NoneType'"
     ]
    }
   ],
   "execution_count": 40
  },
  {
   "metadata": {},
   "cell_type": "code",
   "source": [
    "stat, p_value_34 = ttest_ind(SENSE_PA['Pèrdua pes total'], TOTAL['Pèrdua pes total'], equal_var=False)\n",
    "print(\"P-valor entre SENSE_PA i TOTAL\", p_value_34)"
   ],
   "id": "cbaf256f3f2868a5",
   "outputs": [],
   "execution_count": null
  }
 ],
 "metadata": {
  "kernelspec": {
   "display_name": "Python 3",
   "language": "python",
   "name": "python3"
  },
  "language_info": {
   "codemirror_mode": {
    "name": "ipython",
    "version": 2
   },
   "file_extension": ".py",
   "mimetype": "text/x-python",
   "name": "python",
   "nbconvert_exporter": "python",
   "pygments_lexer": "ipython2",
   "version": "2.7.6"
  }
 },
 "nbformat": 4,
 "nbformat_minor": 5
}
