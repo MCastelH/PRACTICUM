{
 "cells": [
  {
   "cell_type": "code",
   "execution_count": null,
   "id": "initial_id",
   "metadata": {
    "collapsed": true
   },
   "outputs": [],
   "source": [
    "import json\n",
    "import pandas as pd\n",
    "from datetime import datetime\n",
    "from listas import charlson_dict, delirium_list, dementia_list, depresyndr_list, uriincont_list, fecincont_list, pressulc_list, immob_list, conf_list, osteopor_list, sarcopenia_list, sleepdisturb_list, chrpain_list, iatrog_list, constipation_list, CVdisease_list, heartdisease_list, ND_list, DM_list, hepatopat_list, neopl_list, AcuteRenalF_list, dizsyn_list, VIH_list, psicosis_list\n",
    "\n",
    "from auxiliary_functions import valores_codigos, contar_diccionarios, dias_ingreso_total, asignar_intervalo_edad, sumar_barthel, sumar_emina, obtenir_ultim_resultat, obtenir_valor_promedio, canadenca_comparada, disfagia_mecvvs, extraer_valor_clave, extraer_valor_clave_simple\n",
    "\n",
    "taula = pd.read_pickle('./data/processed/dataframe.pkl')\n",
    "import scipy.stats as stats\n",
    "from scipy.stats import ttest_ind\n",
    "from scipy.stats import shapiro\n",
    "from scipy.stats import mannwhitneyu\n",
    "from scipy.stats import chi2_contingency"
   ]
  },
  {
   "metadata": {},
   "cell_type": "code",
   "outputs": [],
   "execution_count": null,
   "source": [
    "AMB_PA = taula[taula[\"PA_diagnosticada\"] == 1.0]\n",
    "AMB_PA_MECVV = taula[\n",
    "    (taula[\"P_diagnosticada\"] == 1.0) & (taula[\"Dias_totales_ingresado\"] < 30) & (taula[\"Disfagia_mecvvs\"] == 1.0) & (taula[\"alteracioEficacia_mecvvs\"] == 1.0) |\n",
    "    (taula[\"P_diagnosticada\"] == 1.0) & (taula[\"Dias_totales_ingresado\"] < 30) & (taula[\"Disfagia_mecvvs\"] == 1.0) & (taula[\"alteracioSeguretat_mecvvs\"] == 1.0)]   \n",
    "SENSE_PA = taula[\n",
    "          (taula[\"P_diagnosticada\"] == 1.0) |\n",
    "          (taula[\"P_diagnosticada\"] == 1.0) & (taula[\"Disfagia_mecvvs\"] == 1.0) & (taula[\"alteracioEficacia_mecvvs\"] == 1.0) & (taula[\"Dias_totales_ingresado\"] > 30) |\n",
    "          (taula[\"P_diagnosticada\"] == 1.0) & (taula[\"Disfagia_mecvvs\"] == 1.0) & (taula[\"alteracioSeguretat_mecvvs\"] == 1.0) & (taula[\"Dias_totales_ingresado\"] > 30)]"
   ],
   "id": "78643956fe9047dd"
  },
  {
   "metadata": {},
   "cell_type": "markdown",
   "source": "## Pèrdua de pes entre ingressos",
   "id": "573992f66d509eba"
  },
  {
   "metadata": {},
   "cell_type": "code",
   "outputs": [],
   "execution_count": null,
   "source": "",
   "id": "14ea6b9af899dde6"
  }
 ],
 "metadata": {
  "kernelspec": {
   "display_name": "Python 3",
   "language": "python",
   "name": "python3"
  },
  "language_info": {
   "codemirror_mode": {
    "name": "ipython",
    "version": 2
   },
   "file_extension": ".py",
   "mimetype": "text/x-python",
   "name": "python",
   "nbconvert_exporter": "python",
   "pygments_lexer": "ipython2",
   "version": "2.7.6"
  }
 },
 "nbformat": 4,
 "nbformat_minor": 5
}
