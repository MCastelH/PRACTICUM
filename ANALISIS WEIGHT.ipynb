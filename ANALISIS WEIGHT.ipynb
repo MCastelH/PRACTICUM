{
 "cells": [
  {
   "cell_type": "code",
   "id": "initial_id",
   "metadata": {
    "collapsed": true,
    "ExecuteTime": {
     "end_time": "2024-04-25T08:15:21.001828Z",
     "start_time": "2024-04-25T08:15:20.973437Z"
    }
   },
   "source": [
    "import json\n",
    "import pandas as pd\n",
    "from datetime import datetime\n",
    "from listas import charlson_dict, delirium_list, dementia_list, depresyndr_list, uriincont_list, fecincont_list, pressulc_list, immob_list, conf_list, osteopor_list, sarcopenia_list, sleepdisturb_list, chrpain_list, iatrog_list, constipation_list, CVdisease_list, heartdisease_list, ND_list, DM_list, hepatopat_list, neopl_list, AcuteRenalF_list, dizsyn_list, VIH_list, psicosis_list\n",
    "\n",
    "from auxiliary_functions import (obtenir_data_presencia_codi, restar_dates, codis_ICD, nombre_ingressos,\n",
    "                                 dies_ingressat_total, interval_10_edat,\n",
    "                                 sumar_barthel, sumar_emina, obtenir_ultima_clau, obtenir_pes_o_mitjana,\n",
    "                                 canadenca_comparada, disfagia_mecvvs, extreure_valors_claus,\n",
    "                                 extreure_valors_claus_simple, obtenir_valors_clau_interes, index_charlson,\n",
    "                                 obtenir_pes_mes_antic, obtenir_pes_mes_nou, obtenir_data_pes_mes_antic,\n",
    "                                 obtenir_primera_data_mecvv, obtenir_pes_coincident_mecvv, restar_columnes_object)\n",
    "\n",
    "taula = pd.read_pickle('./data/processed/dataframe.pkl')\n",
    "import scipy.stats as stats\n",
    "from scipy.stats import ttest_ind\n",
    "from scipy.stats import shapiro\n",
    "from scipy.stats import mannwhitneyu\n",
    "from scipy.stats import chi2_contingency"
   ],
   "execution_count": 115,
   "outputs": []
  },
  {
   "metadata": {
    "ExecuteTime": {
     "end_time": "2024-04-25T08:15:21.674057Z",
     "start_time": "2024-04-25T08:15:21.643915Z"
    }
   },
   "cell_type": "code",
   "source": [
    "AMB_PA = taula[taula[\"PA_diagnosticada\"] == 1.0]\n",
    "AMB_PA_MECVV = taula[\n",
    "    (taula[\"P_diagnosticada\"] == 1.0) & (taula[\"Dias_totales_ingresado\"] < 30) & (taula[\"Disfagia_mecvvs\"] == 1.0) & (taula[\"alteracioEficacia_mecvvs\"] == 1.0) |\n",
    "    (taula[\"P_diagnosticada\"] == 1.0) & (taula[\"Dias_totales_ingresado\"] < 30) & (taula[\"Disfagia_mecvvs\"] == 1.0) & (taula[\"alteracioSeguretat_mecvvs\"] == 1.0)]   \n",
    "SENSE_PA = taula[\n",
    "          (taula[\"P_diagnosticada\"] == 1.0) |\n",
    "          (taula[\"P_diagnosticada\"] == 1.0) & (taula[\"Disfagia_mecvvs\"] == 1.0) & (taula[\"alteracioEficacia_mecvvs\"] == 1.0) & (taula[\"Dias_totales_ingresado\"] > 30) |\n",
    "          (taula[\"P_diagnosticada\"] == 1.0) & (taula[\"Disfagia_mecvvs\"] == 1.0) & (taula[\"alteracioSeguretat_mecvvs\"] == 1.0) & (taula[\"Dias_totales_ingresado\"] > 30)]"
   ],
   "id": "78643956fe9047dd",
   "execution_count": 116,
   "outputs": []
  },
  {
   "metadata": {},
   "cell_type": "markdown",
   "source": "## Pèrdua de pes entre ingressos %",
   "id": "573992f66d509eba"
  },
  {
   "metadata": {
    "ExecuteTime": {
     "end_time": "2024-04-25T08:15:21.683201Z",
     "start_time": "2024-04-25T08:15:21.674057Z"
    }
   },
   "cell_type": "code",
   "source": [
    "AMB_PA.loc[:, 'perdua pes entre ingressos'] = pd.to_numeric(AMB_PA['perdua pes entre ingressos'], errors='coerce')\n",
    "AMB_PA_MECVV.loc[:, 'perdua pes entre ingressos'] = pd.to_numeric(AMB_PA_MECVV['perdua pes entre ingressos'], errors='coerce')\n",
    "SENSE_PA.loc[:, 'perdua pes entre ingressos'] = pd.to_numeric(SENSE_PA['perdua pes entre ingressos'], errors='coerce')"
   ],
   "id": "fc598d32816f3cbc",
   "execution_count": 117,
   "outputs": []
  },
  {
   "metadata": {},
   "cell_type": "markdown",
   "source": "Pèrdua de pes superior a 10 kg",
   "id": "507d29ab1003059c"
  },
  {
   "metadata": {
    "ExecuteTime": {
     "end_time": "2024-04-25T08:15:21.737874Z",
     "start_time": "2024-04-25T08:15:21.730957Z"
    }
   },
   "cell_type": "code",
   "source": [
    "ppi_AMB_PA= (AMB_PA['perdua pes entre ingressos'] > 10.0).mean() * 100\n",
    "print(f\"Percentatge de pèrdua de pes superior a 10 kg: {ppi_AMB_PA:.2f}%\")"
   ],
   "id": "14ea6b9af899dde6",
   "execution_count": 118,
   "outputs": []
  },
  {
   "metadata": {
    "ExecuteTime": {
     "end_time": "2024-04-25T08:15:21.774320Z",
     "start_time": "2024-04-25T08:15:21.768223Z"
    }
   },
   "cell_type": "code",
   "source": [
    "ppi_AMB_PA_MECVV= (AMB_PA_MECVV['perdua pes entre ingressos'] > 10.0).mean() * 100\n",
    "print(f\"Percentatge de pèrdua de pes superior a 10 kg: {ppi_AMB_PA_MECVV:.2f}%\")"
   ],
   "id": "4e093e1f1bff6766",
   "execution_count": 119,
   "outputs": []
  },
  {
   "metadata": {
    "ExecuteTime": {
     "end_time": "2024-04-25T08:15:21.877925Z",
     "start_time": "2024-04-25T08:15:21.872929Z"
    }
   },
   "cell_type": "code",
   "source": [
    "ppi_SENSE_PA= (SENSE_PA['perdua pes entre ingressos'] > 10.0).mean() * 100\n",
    "print(f\"Percentatge de pèrdua de pes superior a 10 kg: {ppi_SENSE_PA:.2f}%\")"
   ],
   "id": "4ee00d119c1d34de",
   "execution_count": 120,
   "outputs": []
  },
  {
   "metadata": {},
   "cell_type": "markdown",
   "source": "Pèrdua de pes d'entre 6-10 kg",
   "id": "7a8f16f1c1de0afa"
  },
  {
   "metadata": {
    "ExecuteTime": {
     "end_time": "2024-04-25T08:15:21.949668Z",
     "start_time": "2024-04-25T08:15:21.942582Z"
    }
   },
   "cell_type": "code",
   "source": [
    "ppi_AMB_PA= (AMB_PA['perdua pes entre ingressos'].between(6,10)).mean() * 100\n",
    "print(f\"Percentatge de pèrdua de pes 6-10 kg: {ppi_AMB_PA:.2f}%\")"
   ],
   "id": "3b2e1d3d23333418",
   "execution_count": 121,
   "outputs": []
  },
  {
   "metadata": {
    "ExecuteTime": {
     "end_time": "2024-04-25T08:15:22.061405Z",
     "start_time": "2024-04-25T08:15:22.056495Z"
    }
   },
   "cell_type": "code",
   "source": [
    "ppi_AMB_PA= (AMB_PA_MECVV['perdua pes entre ingressos'].between(6,10)).mean() * 100\n",
    "print(f\"Percentatge de pèrdua de pes 6-10 kg: {ppi_AMB_PA_MECVV:.2f}%\")"
   ],
   "id": "1bb46c16c0887b3",
   "execution_count": 122,
   "outputs": []
  },
  {
   "metadata": {
    "ExecuteTime": {
     "end_time": "2024-04-25T08:15:22.109826Z",
     "start_time": "2024-04-25T08:15:22.097320Z"
    }
   },
   "cell_type": "code",
   "source": [
    "ppi_SENSE_PA= (SENSE_PA['perdua pes entre ingressos'].between(6,10)).mean() * 100\n",
    "print(f\"Percentatge de pèrdua de pes 6-10 kg: {ppi_SENSE_PA:.2f}%\")"
   ],
   "id": "d01f16042ab58a3c",
   "execution_count": 123,
   "outputs": []
  },
  {
   "metadata": {},
   "cell_type": "markdown",
   "source": "Pèrdua pes d'entre 3-6 kg",
   "id": "12c3cda5eff88265"
  },
  {
   "metadata": {
    "ExecuteTime": {
     "end_time": "2024-04-25T08:15:22.233369Z",
     "start_time": "2024-04-25T08:15:22.226922Z"
    }
   },
   "cell_type": "code",
   "source": [
    "ppi_AMB_PA= (AMB_PA['perdua pes entre ingressos'].between(3,6)).mean() * 100\n",
    "print(f\"Percentatge de pèrdua de pes 3-6 kg: {ppi_AMB_PA:.2f}%\")"
   ],
   "id": "15939acf8dba9bac",
   "execution_count": 124,
   "outputs": []
  },
  {
   "metadata": {
    "ExecuteTime": {
     "end_time": "2024-04-25T08:15:22.279907Z",
     "start_time": "2024-04-25T08:15:22.274007Z"
    }
   },
   "cell_type": "code",
   "source": [
    "ppi_AMB_PA_MECVV= (AMB_PA['perdua pes entre ingressos'].between(3,6)).mean() * 100\n",
    "print(f\"Percentatge de pèrdua de pes 3-6 kg: {ppi_AMB_PA_MECVV:.2f}%\")"
   ],
   "id": "6ca75bbb14714653",
   "execution_count": 125,
   "outputs": []
  },
  {
   "metadata": {
    "ExecuteTime": {
     "end_time": "2024-04-25T08:15:22.469954Z",
     "start_time": "2024-04-25T08:15:22.464612Z"
    }
   },
   "cell_type": "code",
   "source": [
    "ppi_SENSE_PA= (SENSE_PA['perdua pes entre ingressos'].between(3,6)).mean() * 100\n",
    "print(f\"Percentatge de pèrdua de pes 3-6 kg: {ppi_SENSE_PA:.2f}%\")"
   ],
   "id": "eb5a7b693dcfeb08",
   "execution_count": 126,
   "outputs": []
  },
  {
   "metadata": {},
   "cell_type": "markdown",
   "source": "Pèrdua de pes d'entre 1-3 kg",
   "id": "f2da7e559c7e5b1a"
  },
  {
   "metadata": {
    "ExecuteTime": {
     "end_time": "2024-04-25T08:15:22.542825Z",
     "start_time": "2024-04-25T08:15:22.536508Z"
    }
   },
   "cell_type": "code",
   "source": [
    "ppi_AMB_PA= (AMB_PA['perdua pes entre ingressos'].between(1, 3)).mean() * 100\n",
    "print(f\"Percentatge de pèrdua de pes 1-3 kg: {ppi_AMB_PA:.2f}%\")"
   ],
   "id": "5ffd60821ed59b98",
   "execution_count": 127,
   "outputs": []
  },
  {
   "metadata": {
    "ExecuteTime": {
     "end_time": "2024-04-25T08:15:22.620897Z",
     "start_time": "2024-04-25T08:15:22.615195Z"
    }
   },
   "cell_type": "code",
   "source": [
    "ppi_AMB_PA_MECVV= (AMB_PA_MECVV['perdua pes entre ingressos'].between(1, 3)).mean() * 100\n",
    "print(f\"Percentatge de pèrdua de pes 1-3 kg: {ppi_AMB_PA_MECVV:.2f}%\")"
   ],
   "id": "6846e95d8448bec6",
   "execution_count": 128,
   "outputs": []
  },
  {
   "metadata": {
    "ExecuteTime": {
     "end_time": "2024-04-25T08:15:22.661989Z",
     "start_time": "2024-04-25T08:15:22.655217Z"
    }
   },
   "cell_type": "code",
   "source": [
    "ppi_SENSE_PA= (SENSE_PA['perdua pes entre ingressos'].between(1, 3)).mean() * 100\n",
    "print(f\"Percentatge de pèrdua de pes 1-3 kg: {ppi_SENSE_PA:.2f}%\")"
   ],
   "id": "24047004508d65bb",
   "execution_count": 129,
   "outputs": []
  },
  {
   "metadata": {},
   "cell_type": "markdown",
   "source": "Sense pèrdua de pes ",
   "id": "b51535974cba8f3f"
  },
  {
   "metadata": {
    "ExecuteTime": {
     "end_time": "2024-04-25T08:15:22.740986Z",
     "start_time": "2024-04-25T08:15:22.727744Z"
    }
   },
   "cell_type": "code",
   "source": [
    "ppi_AMB_PA= (AMB_PA['perdua pes entre ingressos'] == 0).mean() * 100\n",
    "print(f\"Percentatge sense pèrdua de pes: {ppi_AMB_PA:.2f}%\")"
   ],
   "id": "9f0c70a704f2e786",
   "execution_count": 130,
   "outputs": []
  },
  {
   "metadata": {
    "ExecuteTime": {
     "end_time": "2024-04-25T08:15:22.788496Z",
     "start_time": "2024-04-25T08:15:22.782107Z"
    }
   },
   "cell_type": "code",
   "source": [
    "ppi_AMB_PA_MECVV= (AMB_PA_MECVV['perdua pes entre ingressos'] == 0).mean() * 100\n",
    "print(f\"Percentatge sense pèrdua de pes: {ppi_AMB_PA_MECVV:.2f}%\")"
   ],
   "id": "e7be42c51349fcce",
   "execution_count": 131,
   "outputs": []
  },
  {
   "metadata": {
    "ExecuteTime": {
     "end_time": "2024-04-25T08:15:22.862954Z",
     "start_time": "2024-04-25T08:15:22.858003Z"
    }
   },
   "cell_type": "code",
   "source": [
    "ppi_SENSE_PA= (SENSE_PA['perdua pes entre ingressos'] == 0).mean() * 100\n",
    "print(f\"Percentatge sense pèrdua de pes: {ppi_SENSE_PA:.2f}%\")"
   ],
   "id": "15b300264f2fc312",
   "execution_count": 132,
   "outputs": []
  },
  {
   "metadata": {},
   "cell_type": "markdown",
   "source": "#### Pvalor",
   "id": "5acf9eded5b56b3f"
  },
  {
   "metadata": {},
   "cell_type": "markdown",
   "source": "##### Normalitat",
   "id": "86a2e1ed763b4"
  },
  {
   "metadata": {
    "ExecuteTime": {
     "end_time": "2024-04-25T08:15:22.904181Z",
     "start_time": "2024-04-25T08:15:22.891937Z"
    }
   },
   "cell_type": "code",
   "source": [
    "stat, p_value = shapiro(AMB_PA['perdua pes entre ingressos'])\n",
    "print(f\"Estadístic W = {stat:.4f}\")\n",
    "print(f\"Valor p = {p_value:.4f}\")\n",
    "\n",
    "alpha = 0.05\n",
    "if p_value < alpha:\n",
    "    print(\"El nombre de files no segueix una distribució normal.\")\n",
    "else:\n",
    "    print(\"El nombre de files segueix una distribució normal\")"
   ],
   "id": "13828d7d811251a8",
   "execution_count": 133,
   "outputs": []
  },
  {
   "metadata": {
    "ExecuteTime": {
     "end_time": "2024-04-25T08:15:22.975812Z",
     "start_time": "2024-04-25T08:15:22.969297Z"
    }
   },
   "cell_type": "code",
   "source": [
    "stat, p_value = shapiro(AMB_PA_MECVV['perdua pes entre ingressos'])\n",
    "print(f\"Estadístic W = {stat:.4f}\")\n",
    "print(f\"Valor p = {p_value:.4f}\")\n",
    "\n",
    "alpha = 0.05\n",
    "if p_value < alpha:\n",
    "    print(\"El nombre de files no segueix una distribució normal.\")\n",
    "else:\n",
    "    print(\"El nombre de files segueix una distribució normal\")"
   ],
   "id": "a9e962da7a1164db",
   "execution_count": 134,
   "outputs": []
  },
  {
   "metadata": {
    "ExecuteTime": {
     "end_time": "2024-04-25T08:15:23.042219Z",
     "start_time": "2024-04-25T08:15:23.035293Z"
    }
   },
   "cell_type": "code",
   "source": [
    "stat, p_value = shapiro(SENSE_PA['perdua pes entre ingressos'])\n",
    "print(f\"Estadístic W = {stat:.4f}\")\n",
    "print(f\"Valor p = {p_value:.4f}\")\n",
    "\n",
    "alpha = 0.05\n",
    "if p_value < alpha:\n",
    "    print(\"El nombre de files no segueix una distribució normal.\")\n",
    "else:\n",
    "    print(\"El nombre de files segueix una distribució normal\")"
   ],
   "id": "a3919d0c3641ebcd",
   "execution_count": 135,
   "outputs": []
  },
  {
   "metadata": {},
   "cell_type": "markdown",
   "source": "Pèrdua de pes superior a 10 kg",
   "id": "abd06f9f7ae601ce"
  },
  {
   "metadata": {
    "ExecuteTime": {
     "end_time": "2024-04-25T08:15:23.110248Z",
     "start_time": "2024-04-25T08:15:23.097490Z"
    }
   },
   "cell_type": "code",
   "source": [
    "stat, p_value_12 = ttest_ind(AMB_PA['perdua pes entre ingressos'] > 10.0, AMB_PA_MECVV['perdua pes entre ingressos'] > 10.0, equal_var=False)\n",
    "print(\"P-valor entre AMB_PA i AMB_PA_MECVV\", p_value_12)"
   ],
   "id": "a4801643d5563b7",
   "execution_count": 136,
   "outputs": []
  },
  {
   "metadata": {
    "ExecuteTime": {
     "end_time": "2024-04-25T08:15:23.149373Z",
     "start_time": "2024-04-25T08:15:23.137804Z"
    }
   },
   "cell_type": "code",
   "source": [
    "stat, p_value_13 = ttest_ind(AMB_PA['perdua pes entre ingressos'] > 10.0, SENSE_PA['perdua pes entre ingressos'] > 10.0, equal_var=False)\n",
    "print(\"P-valor entre AMB_PA i SENSE_PA\", p_value_13)"
   ],
   "id": "b4aca9b32c3656d2",
   "execution_count": 137,
   "outputs": []
  },
  {
   "metadata": {
    "ExecuteTime": {
     "end_time": "2024-04-25T08:15:23.221065Z",
     "start_time": "2024-04-25T08:15:23.212783Z"
    }
   },
   "cell_type": "code",
   "source": [
    "stat, p_value_23 = ttest_ind(AMB_PA_MECVV['perdua pes entre ingressos'] > 10.0, SENSE_PA['perdua pes entre ingressos'] > 10.0, equal_var=False)\n",
    "print(\"P-valor entre AMB_PA_MECVV i SENSE_PA\", p_value_23)"
   ],
   "id": "afb3ed3f4b109641",
   "execution_count": 138,
   "outputs": []
  },
  {
   "metadata": {},
   "cell_type": "markdown",
   "source": "Pèrdua de pes d'entre 6-10 kg",
   "id": "1cde089f02360b76"
  },
  {
   "metadata": {
    "ExecuteTime": {
     "end_time": "2024-04-25T08:15:23.274523Z",
     "start_time": "2024-04-25T08:15:23.265544Z"
    }
   },
   "cell_type": "code",
   "source": [
    "stat, p_value_12 = ttest_ind(AMB_PA['perdua pes entre ingressos'].between(6,10), AMB_PA_MECVV['perdua pes entre ingressos'].between(6,10), equal_var=False)\n",
    "print(\"P-valor entre AMB_PA i AMB_PA_MECVV\", p_value_12)"
   ],
   "id": "15de2f178f153db7",
   "execution_count": 139,
   "outputs": []
  },
  {
   "metadata": {
    "ExecuteTime": {
     "end_time": "2024-04-25T08:15:23.372596Z",
     "start_time": "2024-04-25T08:15:23.362800Z"
    }
   },
   "cell_type": "code",
   "source": [
    "stat, p_value_13 = ttest_ind(AMB_PA['perdua pes entre ingressos'].between(6,10), SENSE_PA['perdua pes entre ingressos'].between(6,10), equal_var=False)\n",
    "print(\"P-valor entre AMB_PA i SENSE_PA\", p_value_13)"
   ],
   "id": "b6f49f87132b3143",
   "execution_count": 140,
   "outputs": []
  },
  {
   "metadata": {
    "ExecuteTime": {
     "end_time": "2024-04-25T08:15:23.391779Z",
     "start_time": "2024-04-25T08:15:23.384656Z"
    }
   },
   "cell_type": "code",
   "source": [
    "stat, p_value_23 = ttest_ind(AMB_PA_MECVV['perdua pes entre ingressos'].between(6,10), SENSE_PA['perdua pes entre ingressos'].between(6,10), equal_var=False)\n",
    "print(\"P-valor entre AMB_PA_MECVV i SENSE_PA\", p_value_23)"
   ],
   "id": "543484cafb4b96f8",
   "execution_count": 141,
   "outputs": []
  },
  {
   "metadata": {},
   "cell_type": "markdown",
   "source": "Pèrdua de pes d'entre 3-6 kg",
   "id": "288151617a5d3635"
  },
  {
   "metadata": {
    "ExecuteTime": {
     "end_time": "2024-04-25T08:15:23.481051Z",
     "start_time": "2024-04-25T08:15:23.471447Z"
    }
   },
   "cell_type": "code",
   "source": [
    "stat, p_value_12 = ttest_ind(AMB_PA['perdua pes entre ingressos'].between(3,6), AMB_PA_MECVV['perdua pes entre ingressos'].between(3,6), equal_var=False)\n",
    "print(\"P-valor entre AMB_PA i AMB_PA_MECVV\", p_value_12)"
   ],
   "id": "3cf31e614d92d4d",
   "execution_count": 142,
   "outputs": []
  },
  {
   "metadata": {
    "ExecuteTime": {
     "end_time": "2024-04-25T08:15:23.527819Z",
     "start_time": "2024-04-25T08:15:23.517277Z"
    }
   },
   "cell_type": "code",
   "source": [
    "stat, p_value_13 = ttest_ind(AMB_PA['perdua pes entre ingressos'].between(3,6), SENSE_PA['perdua pes entre ingressos'].between(3,6), equal_var=False)\n",
    "print(\"P-valor entre AMB_PA i SENSE_PA\", p_value_13)"
   ],
   "id": "31cfaf0e6970f2da",
   "execution_count": 143,
   "outputs": []
  },
  {
   "metadata": {
    "ExecuteTime": {
     "end_time": "2024-04-25T08:15:23.603970Z",
     "start_time": "2024-04-25T08:15:23.595667Z"
    }
   },
   "cell_type": "code",
   "source": [
    "stat, p_value_23 = ttest_ind(AMB_PA_MECVV['perdua pes entre ingressos'].between(3,6), SENSE_PA['perdua pes entre ingressos'].between(3,6), equal_var=False)\n",
    "print(\"P-valor entre AMB_PA_MECVV i SENSE_PA\", p_value_23)"
   ],
   "id": "841ad07aef0e41f2",
   "execution_count": 144,
   "outputs": []
  },
  {
   "metadata": {},
   "cell_type": "markdown",
   "source": "Pèrdua de pes d'entre 1-3 kg",
   "id": "215ef04e9676ecfd"
  },
  {
   "metadata": {
    "ExecuteTime": {
     "end_time": "2024-04-25T08:15:23.655369Z",
     "start_time": "2024-04-25T08:15:23.647371Z"
    }
   },
   "cell_type": "code",
   "source": [
    "stat, p_value_12 = ttest_ind(AMB_PA['perdua pes entre ingressos'].between(1,3), AMB_PA_MECVV['perdua pes entre ingressos'].between(1,3), equal_var=False)\n",
    "print(\"P-valor entre AMB_PA i AMB_PA_MECVV\", p_value_12)"
   ],
   "id": "392148e2b926fef3",
   "execution_count": 145,
   "outputs": []
  },
  {
   "metadata": {
    "ExecuteTime": {
     "end_time": "2024-04-25T08:15:23.741028Z",
     "start_time": "2024-04-25T08:15:23.728579Z"
    }
   },
   "cell_type": "code",
   "source": [
    "stat, p_value_13 = ttest_ind(AMB_PA['perdua pes entre ingressos'].between(1,3), SENSE_PA['perdua pes entre ingressos'].between(1,3), equal_var=False)\n",
    "print(\"P-valor entre AMB_PA i SENSE_PA\", p_value_13)"
   ],
   "id": "5dde90a0ed71545f",
   "execution_count": 146,
   "outputs": []
  },
  {
   "metadata": {
    "ExecuteTime": {
     "end_time": "2024-04-25T08:15:23.782556Z",
     "start_time": "2024-04-25T08:15:23.771472Z"
    }
   },
   "cell_type": "code",
   "source": [
    "stat, p_value_23 = ttest_ind(AMB_PA_MECVV['perdua pes entre ingressos'].between(1,3), SENSE_PA['perdua pes entre ingressos'].between(1,3), equal_var=False)\n",
    "print(\"P-valor entre AMB_PA_MECVV i SENSE_PA\", p_value_23)"
   ],
   "id": "30912263603c178b",
   "execution_count": 147,
   "outputs": []
  },
  {
   "metadata": {},
   "cell_type": "markdown",
   "source": "Sense pèrdua de pes",
   "id": "7fb918f61047925d"
  },
  {
   "metadata": {
    "ExecuteTime": {
     "end_time": "2024-04-25T08:15:23.847842Z",
     "start_time": "2024-04-25T08:15:23.836315Z"
    }
   },
   "cell_type": "code",
   "source": [
    "stat, p_value_12 = ttest_ind(AMB_PA['perdua pes entre ingressos'] == 0, AMB_PA_MECVV['perdua pes entre ingressos'] == 0, equal_var=False)\n",
    "print(\"P-valor entre AMB_PA i AMB_PA_MECVV\", p_value_12)"
   ],
   "id": "ddcfe56952c6742",
   "execution_count": 148,
   "outputs": []
  },
  {
   "metadata": {
    "ExecuteTime": {
     "end_time": "2024-04-25T08:15:23.881587Z",
     "start_time": "2024-04-25T08:15:23.866852Z"
    }
   },
   "cell_type": "code",
   "source": [
    "stat, p_value_13 = ttest_ind(AMB_PA['perdua pes entre ingressos'] == 0, SENSE_PA['perdua pes entre ingressos'] == 0, equal_var=False)\n",
    "print(\"P-valor entre AMB_PA i SENSE_PA\", p_value_13)"
   ],
   "id": "2b5a2ce0471463eb",
   "execution_count": 149,
   "outputs": []
  },
  {
   "metadata": {
    "ExecuteTime": {
     "end_time": "2024-04-25T08:15:23.961948Z",
     "start_time": "2024-04-25T08:15:23.952759Z"
    }
   },
   "cell_type": "code",
   "source": [
    "stat, p_value_23 = ttest_ind(AMB_PA_MECVV['perdua pes entre ingressos'] == 0, SENSE_PA['perdua pes entre ingressos'] == 0, equal_var=False)\n",
    "print(\"P-valor entre AMB_PA_MECVV i SENSE_PA\", p_value_23)"
   ],
   "id": "63480530eb839113",
   "execution_count": 150,
   "outputs": []
  },
  {
   "metadata": {},
   "cell_type": "markdown",
   "source": "## Pèrdua de pes entre ingressos (mitjana i SD)",
   "id": "45c98fba65b57695"
  },
  {
   "metadata": {
    "ExecuteTime": {
     "end_time": "2024-04-25T08:15:24.003430Z",
     "start_time": "2024-04-25T08:15:23.997702Z"
    }
   },
   "cell_type": "code",
   "source": [
    "promedio_ppimsd = AMB_PA['perdua pes entre ingressos'].mean()\n",
    "desviacion_estandar_ppimsd = AMB_PA['perdua pes entre ingressos'].std()\n",
    "\n",
    "resultado = f\"{promedio_ppimsd:.2f} ± {desviacion_estandar_ppimsd:.2f}\"\n",
    "print(\"Mitjana ± Desviació Estàndard de la pèrdua de pes entre ingressos:\", resultado)"
   ],
   "id": "5acd79f2ae323e03",
   "execution_count": 151,
   "outputs": []
  },
  {
   "metadata": {
    "ExecuteTime": {
     "end_time": "2024-04-25T08:15:24.092697Z",
     "start_time": "2024-04-25T08:15:24.086874Z"
    }
   },
   "cell_type": "code",
   "source": [
    "promedio_ppimsd = AMB_PA_MECVV['perdua pes entre ingressos'].mean()\n",
    "desviacion_estandar_ppimsd = AMB_PA_MECVV['perdua pes entre ingressos'].std()\n",
    "\n",
    "resultado = f\"{promedio_ppimsd:.2f} ± {desviacion_estandar_ppimsd:.2f}\"\n",
    "print(\"Mitjana ± Desviació Estàndard de la pèrdua de pes entre ingressos:\", resultado)"
   ],
   "id": "d318bd928551a60a",
   "execution_count": 152,
   "outputs": []
  },
  {
   "metadata": {
    "ExecuteTime": {
     "end_time": "2024-04-25T08:15:24.120179Z",
     "start_time": "2024-04-25T08:15:24.114241Z"
    }
   },
   "cell_type": "code",
   "source": [
    "promedio_ppimsd = SENSE_PA['perdua pes entre ingressos'].mean()\n",
    "desviacion_estandar_ppimsd = SENSE_PA['perdua pes entre ingressos'].std()\n",
    "\n",
    "resultado = f\"{promedio_ppimsd:.2f} ± {desviacion_estandar_ppimsd:.2f}\"\n",
    "print(\"Mitjana ± Desviació Estàndard de la pèrdua de pes entre ingressos:\", resultado)"
   ],
   "id": "aa9beb02232c4429",
   "execution_count": 153,
   "outputs": []
  },
  {
   "metadata": {},
   "cell_type": "markdown",
   "source": "#### Pvalor",
   "id": "b3117c83becffc42"
  },
  {
   "metadata": {},
   "cell_type": "markdown",
   "source": "##### Normalitat",
   "id": "8e3aa13f1eaf29e3"
  },
  {
   "metadata": {},
   "cell_type": "markdown",
   "source": "No cal calcular un altre cop la normalitat ja que estic utilitzant la mateixa columna que a l'apartat anterior, i deia que tots 3 grups segueixen una distribució normal.",
   "id": "743b893c7a8b9817"
  },
  {
   "metadata": {
    "ExecuteTime": {
     "end_time": "2024-04-25T08:15:24.175808Z",
     "start_time": "2024-04-25T08:15:24.171192Z"
    }
   },
   "cell_type": "code",
   "source": [
    "stat, p_value_12 = ttest_ind(AMB_PA['perdua pes entre ingressos'], AMB_PA_MECVV['perdua pes entre ingressos'], equal_var=False)\n",
    "print(\"P-valor entre AMB_PA i AMB_PA_MECVV\", p_value_12)"
   ],
   "id": "5758e061099443b4",
   "execution_count": 154,
   "outputs": []
  },
  {
   "metadata": {
    "ExecuteTime": {
     "end_time": "2024-04-25T08:15:24.234781Z",
     "start_time": "2024-04-25T08:15:24.227554Z"
    }
   },
   "cell_type": "code",
   "source": [
    "stat, p_value_13 = ttest_ind(AMB_PA['perdua pes entre ingressos'], SENSE_PA['perdua pes entre ingressos'], equal_var=False)\n",
    "print(\"P-valor entre AMB_PA i SENSE_PA\", p_value_13)"
   ],
   "id": "46c3f006c41d89df",
   "execution_count": 155,
   "outputs": []
  },
  {
   "metadata": {
    "ExecuteTime": {
     "end_time": "2024-04-25T08:15:24.312577Z",
     "start_time": "2024-04-25T08:15:24.299767Z"
    }
   },
   "cell_type": "code",
   "source": [
    "stat, p_value_23 = ttest_ind(AMB_PA_MECVV['perdua pes entre ingressos'], SENSE_PA['perdua pes entre ingressos'], equal_var=False)\n",
    "print(\"P-valor entre AMB_PA_MECVV i SENSE_PA\", p_value_23)"
   ],
   "id": "32d987d840104daf",
   "execution_count": 156,
   "outputs": []
  },
  {
   "metadata": {},
   "cell_type": "markdown",
   "source": "## Pèrdua de pes total",
   "id": "9477750ecfe6e87d"
  },
  {
   "metadata": {
    "ExecuteTime": {
     "end_time": "2024-04-25T08:15:24.363111Z",
     "start_time": "2024-04-25T08:15:24.354313Z"
    }
   },
   "cell_type": "code",
   "source": [
    "AMB_PA.loc[:, 'perdua pes total'] = pd.to_numeric(AMB_PA['perdua pes total'], errors='coerce')\n",
    "AMB_PA_MECVV.loc[:, 'perdua pes total'] = pd.to_numeric(AMB_PA_MECVV['perdua pes total'], errors='coerce')\n",
    "SENSE_PA.loc[:, 'perdua pes total'] = pd.to_numeric(SENSE_PA['perdua pes total'], errors='coerce')"
   ],
   "id": "7358237f82fedff9",
   "execution_count": 157,
   "outputs": []
  },
  {
   "metadata": {
    "ExecuteTime": {
     "end_time": "2024-04-25T08:15:24.458298Z",
     "start_time": "2024-04-25T08:15:24.451664Z"
    }
   },
   "cell_type": "code",
   "source": [
    "promedio_ppt = AMB_PA['perdua pes total'].mean()\n",
    "desviacion_estandar_ppt = AMB_PA['perdua pes total'].std()\n",
    "\n",
    "resultado = f\"{promedio_ppt:.2f} ± {desviacion_estandar_ppt:.2f}\"\n",
    "print(\"Mitjana ± Desviació Estàndard de la pèrdua de pes total:\", resultado)"
   ],
   "id": "7c2e8a9f82d51ae2",
   "execution_count": 158,
   "outputs": []
  },
  {
   "metadata": {
    "ExecuteTime": {
     "end_time": "2024-04-25T08:15:24.479257Z",
     "start_time": "2024-04-25T08:15:24.472628Z"
    }
   },
   "cell_type": "code",
   "source": [
    "promedio_ppt = AMB_PA_MECVV['perdua pes total'].mean()\n",
    "desviacion_estandar_ppt = AMB_PA_MECVV['perdua pes total'].std()\n",
    "\n",
    "resultado = f\"{promedio_ppt:.2f} ± {desviacion_estandar_ppt:.2f}\"\n",
    "print(\"Mitjana ± Desviació Estàndard de la pèrdua de pes total:\", resultado)"
   ],
   "id": "254579e85a85aa3b",
   "execution_count": 159,
   "outputs": []
  },
  {
   "metadata": {
    "ExecuteTime": {
     "end_time": "2024-04-25T08:15:24.567300Z",
     "start_time": "2024-04-25T08:15:24.560247Z"
    }
   },
   "cell_type": "code",
   "source": [
    "promedio_ppt = SENSE_PA['perdua pes total'].mean()\n",
    "desviacion_estandar_ppt = SENSE_PA['perdua pes total'].std()\n",
    "\n",
    "resultado = f\"{promedio_ppt:.2f} ± {desviacion_estandar_ppt:.2f}\"\n",
    "print(\"Mitjana ± Desviació Estàndard de la pèrdua de pes total:\", resultado)"
   ],
   "id": "5a51c04bf7cbce57",
   "execution_count": 160,
   "outputs": []
  },
  {
   "metadata": {},
   "cell_type": "markdown",
   "source": "#### Pvalor",
   "id": "d03f5d33e5beb3f"
  },
  {
   "metadata": {},
   "cell_type": "markdown",
   "source": "##### Normalitat",
   "id": "6a04dfa230a1082e"
  },
  {
   "metadata": {
    "ExecuteTime": {
     "end_time": "2024-04-25T08:15:24.599184Z",
     "start_time": "2024-04-25T08:15:24.591433Z"
    }
   },
   "cell_type": "code",
   "source": [
    "stat, p_value = shapiro(AMB_PA['perdua pes total'])\n",
    "print(f\"Estadístic W = {stat:.4f}\")\n",
    "print(f\"Valor p = {p_value:.4f}\")\n",
    "\n",
    "alpha = 0.05\n",
    "if p_value < alpha:\n",
    "    print(\"El nombre de files no segueix una distribució normal.\")\n",
    "else:\n",
    "    print(\"El nombre de files segueix una distribució normal\")"
   ],
   "id": "7cdafc896ee0ddfe",
   "execution_count": 161,
   "outputs": []
  },
  {
   "metadata": {
    "ExecuteTime": {
     "end_time": "2024-04-25T08:15:24.678109Z",
     "start_time": "2024-04-25T08:15:24.664506Z"
    }
   },
   "cell_type": "code",
   "source": [
    "stat, p_value = shapiro(AMB_PA_MECVV['perdua pes total'])\n",
    "print(f\"Estadístic W = {stat:.4f}\")\n",
    "print(f\"Valor p = {p_value:.4f}\")\n",
    "\n",
    "alpha = 0.05\n",
    "if p_value < alpha:\n",
    "    print(\"El nombre de files no segueix una distribució normal.\")\n",
    "else:\n",
    "    print(\"El nombre de files segueix una distribució normal\")"
   ],
   "id": "bb09b49a6c45d291",
   "execution_count": 162,
   "outputs": []
  },
  {
   "metadata": {
    "ExecuteTime": {
     "end_time": "2024-04-25T08:15:24.752536Z",
     "start_time": "2024-04-25T08:15:24.746092Z"
    }
   },
   "cell_type": "code",
   "source": [
    "stat, p_value = shapiro(SENSE_PA['perdua pes total'])\n",
    "print(f\"Estadístic W = {stat:.4f}\")\n",
    "print(f\"Valor p = {p_value:.4f}\")\n",
    "\n",
    "alpha = 0.05\n",
    "if p_value < alpha:\n",
    "    print(\"El nombre de files no segueix una distribució normal.\")\n",
    "else:\n",
    "    print(\"El nombre de files segueix una distribució normal\")"
   ],
   "id": "1cafec55e914c679",
   "execution_count": 163,
   "outputs": []
  },
  {
   "metadata": {
    "ExecuteTime": {
     "end_time": "2024-04-25T08:15:24.811006Z",
     "start_time": "2024-04-25T08:15:24.804183Z"
    }
   },
   "cell_type": "code",
   "source": [
    "stat, p_value_12 = ttest_ind(AMB_PA['perdua pes total'], AMB_PA_MECVV['perdua pes total'], equal_var=False)\n",
    "print(\"P-valor entre AMB_PA i AMB_PA_MECVV\", p_value_12)"
   ],
   "id": "e5ed98fa080679e2",
   "execution_count": 164,
   "outputs": []
  },
  {
   "metadata": {
    "ExecuteTime": {
     "end_time": "2024-04-25T08:15:24.843861Z",
     "start_time": "2024-04-25T08:15:24.836803Z"
    }
   },
   "cell_type": "code",
   "source": [
    "stat, p_value_13 = ttest_ind(AMB_PA['perdua pes total'], SENSE_PA['perdua pes total'], equal_var=False)\n",
    "print(\"P-valor entre AMB_PA i SENSE_PA\", p_value_13)"
   ],
   "id": "f99e8d20ba53f7e9",
   "execution_count": 165,
   "outputs": []
  },
  {
   "metadata": {
    "ExecuteTime": {
     "end_time": "2024-04-25T08:15:24.900900Z",
     "start_time": "2024-04-25T08:15:24.894677Z"
    }
   },
   "cell_type": "code",
   "source": [
    "stat, p_value_23 = ttest_ind(AMB_PA_MECVV['perdua pes total'], SENSE_PA['perdua pes total'], equal_var=False)\n",
    "print(\"P-valor entre AMB_PA_MECVV i SENSE_PA\", p_value_23)"
   ],
   "id": "bd21d0fe69869766",
   "execution_count": 166,
   "outputs": []
  }
 ],
 "metadata": {
  "kernelspec": {
   "display_name": "Python 3",
   "language": "python",
   "name": "python3"
  },
  "language_info": {
   "codemirror_mode": {
    "name": "ipython",
    "version": 2
   },
   "file_extension": ".py",
   "mimetype": "text/x-python",
   "name": "python",
   "nbconvert_exporter": "python",
   "pygments_lexer": "ipython2",
   "version": "2.7.6"
  }
 },
 "nbformat": 4,
 "nbformat_minor": 5
}
