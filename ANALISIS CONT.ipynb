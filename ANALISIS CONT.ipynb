{
 "cells": [
  {
   "cell_type": "code",
   "id": "initial_id",
   "metadata": {
    "collapsed": true,
    "ExecuteTime": {
     "end_time": "2024-05-03T10:14:16.594226Z",
     "start_time": "2024-05-03T10:14:15.434298Z"
    }
   },
   "source": [
    "import json\n",
    "import pandas as pd\n",
    "from datetime import datetime\n",
    "from listas import charlson_dict, delirium_list, dementia_list, depresyndr_list, uriincont_list, fecincont_list, pressulc_list, immob_list, conf_list, osteopor_list, sarcopenia_list, sleepdisturb_list, chrpain_list, iatrog_list, constipation_list, CVdisease_list, heartdisease_list, ND_list, DM_list, hepatopat_list, neopl_list, AcuteRenalF_list, dizsyn_list, VIH_list, psicosis_list\n",
    "\n",
    "from auxiliary_functions import (obtenir_data_presencia_codi, restar_dates, codis_ICD, nombre_ingressos,\n",
    "                                 dies_ingressat_total, interval_10_edat,\n",
    "                                 sumar_barthel, sumar_emina, obtenir_ultima_clau, obtenir_pes_o_mitjana,\n",
    "                                 canadenca_comparada, disfagia_mecvvs, extreure_valors_claus,\n",
    "                                 extreure_valors_claus_simple, obtenir_valors_clau_interes, index_charlson,\n",
    "                                 obtenir_pes_mes_antic, obtenir_pes_mes_nou, obtenir_data_pes_mes_antic,\n",
    "                                 obtenir_primera_data_mecvv, obtenir_pes_coincident_mecvv, restar_columnes_object)\n",
    "\n",
    "taula = pd.read_pickle('./data/processed/dataframe.pkl')\n",
    "import scipy.stats as stats\n",
    "from scipy.stats import ttest_ind\n",
    "from scipy.stats import shapiro\n",
    "from scipy.stats import mannwhitneyu\n",
    "from scipy.stats import chi2_contingency\n"
   ],
   "outputs": [],
   "execution_count": 1
  },
  {
   "metadata": {
    "ExecuteTime": {
     "end_time": "2024-05-03T10:14:16.699693Z",
     "start_time": "2024-05-03T10:14:16.596222Z"
    }
   },
   "cell_type": "code",
   "source": [
    "taula.head()"
   ],
   "id": "d7edd23ab31dcae8",
   "outputs": [
    {
     "data": {
      "text/plain": [
       "   edat sexe  visitaDietista  \\\n",
       "0    89    F               0   \n",
       "1    70    M               0   \n",
       "2    96    M               0   \n",
       "3    85    M               0   \n",
       "4    93    M               0   \n",
       "\n",
       "                                                labs  \\\n",
       "0                                                 []   \n",
       "1  [{'date': '20220524', 'name': 'PCR SARS-CoV2 S...   \n",
       "2                                                 []   \n",
       "3                                                 []   \n",
       "4  [{'date': '20220208', 'name': 'UREA Sèrum', 'l...   \n",
       "\n",
       "                                                 mna  \\\n",
       "0                                                 []   \n",
       "1                                                 []   \n",
       "2                                                 []   \n",
       "3                                                 []   \n",
       "4  [{'imc': '0', 'anorexia': '1', 'perduaPes': '1...   \n",
       "\n",
       "                                               emina canadenca  \\\n",
       "0  [{'activitat': '2', 'estatMental': '1', 'humit...        []   \n",
       "1  [{'activitat': '0', 'estatMental': '0', 'humit...        []   \n",
       "2  [{'activitat': '3', 'estatMental': '0', 'humit...        []   \n",
       "3  [{'activitat': '2', 'estatMental': '1', 'humit...        []   \n",
       "4  [{'activitat': '2', 'estatMental': '1', 'humit...        []   \n",
       "\n",
       "                                                 pes  \\\n",
       "0                                                 []   \n",
       "1  [{'valor': '64.7', 'data': '2022-10-04'}, {'va...   \n",
       "2                                                 []   \n",
       "3                                                 []   \n",
       "4  [{'valor': '49.900', 'data': '2022-06-02'}, {'...   \n",
       "\n",
       "                                                atcs  \\\n",
       "0  [{'codi': 'M01AE', 'dataInici': '2020-06-21 00...   \n",
       "1  [{'codi': 'C09AA', 'dataInici': '2021-05-26 00...   \n",
       "2  [{'codi': 'G04CA', 'dataInici': '2020-07-09 00...   \n",
       "3  [{'codi': 'G04CA', 'dataInici': '2020-07-15 00...   \n",
       "4  [{'codi': 'N02AA', 'dataInici': '2022-02-01 00...   \n",
       "\n",
       "                                              mecvvs  ...  \\\n",
       "0                                                 []  ...   \n",
       "1  [{'data': '20220930', 'pacientNoColabora': '',...  ...   \n",
       "2                                                 []  ...   \n",
       "3  [{'data': '20201204131810', 'disfagia': 'S', '...  ...   \n",
       "4  [{'data': '20220330172303', 'disfagiaConeguda'...  ...   \n",
       "\n",
       "                                         FGE CDK-EPI Pes més antic  \\\n",
       "0                                               None          None   \n",
       "1                                                >90            70   \n",
       "2                                               None          None   \n",
       "3                                               None          None   \n",
       "4  Proves afegides a un altre petició per extracc...        49.900   \n",
       "\n",
       "   Pes més nou  Data pes més antic  Data primer MECVV  \\\n",
       "0         None                None                NaT   \n",
       "1         53.7          2022-07-06                NaT   \n",
       "2         None                None                NaT   \n",
       "3         None                None         2020-12-04   \n",
       "4       49.900          2022-06-02                NaT   \n",
       "\n",
       "   Pes coincident primer MECVV  Pèrdua pes entre ingressos  Pèrdua pes total  \\\n",
       "0                         None                        None              None   \n",
       "1                         None                        None              16.3   \n",
       "2                         None                        None              None   \n",
       "3                         None                        None              None   \n",
       "4                         None                        None               0.0   \n",
       "\n",
       "   Data més antiga pneumònia  \\\n",
       "0                 2020-06-18   \n",
       "1                 2022-09-29   \n",
       "2                 2020-07-08   \n",
       "3                 2020-12-02   \n",
       "4                 2022-08-07   \n",
       "\n",
       "   Dies entre primer ICD pneumònia i primer MECVV positiu  \n",
       "0                                                NaN       \n",
       "1                                                NaN       \n",
       "2                                                NaN       \n",
       "3                                                2.0       \n",
       "4                                                NaN       \n",
       "\n",
       "[5 rows x 80 columns]"
      ],
      "text/html": [
       "<div>\n",
       "<style scoped>\n",
       "    .dataframe tbody tr th:only-of-type {\n",
       "        vertical-align: middle;\n",
       "    }\n",
       "\n",
       "    .dataframe tbody tr th {\n",
       "        vertical-align: top;\n",
       "    }\n",
       "\n",
       "    .dataframe thead th {\n",
       "        text-align: right;\n",
       "    }\n",
       "</style>\n",
       "<table border=\"1\" class=\"dataframe\">\n",
       "  <thead>\n",
       "    <tr style=\"text-align: right;\">\n",
       "      <th></th>\n",
       "      <th>edat</th>\n",
       "      <th>sexe</th>\n",
       "      <th>visitaDietista</th>\n",
       "      <th>labs</th>\n",
       "      <th>mna</th>\n",
       "      <th>emina</th>\n",
       "      <th>canadenca</th>\n",
       "      <th>pes</th>\n",
       "      <th>atcs</th>\n",
       "      <th>mecvvs</th>\n",
       "      <th>...</th>\n",
       "      <th>FGE CDK-EPI</th>\n",
       "      <th>Pes més antic</th>\n",
       "      <th>Pes més nou</th>\n",
       "      <th>Data pes més antic</th>\n",
       "      <th>Data primer MECVV</th>\n",
       "      <th>Pes coincident primer MECVV</th>\n",
       "      <th>Pèrdua pes entre ingressos</th>\n",
       "      <th>Pèrdua pes total</th>\n",
       "      <th>Data més antiga pneumònia</th>\n",
       "      <th>Dies entre primer ICD pneumònia i primer MECVV positiu</th>\n",
       "    </tr>\n",
       "  </thead>\n",
       "  <tbody>\n",
       "    <tr>\n",
       "      <th>0</th>\n",
       "      <td>89</td>\n",
       "      <td>F</td>\n",
       "      <td>0</td>\n",
       "      <td>[]</td>\n",
       "      <td>[]</td>\n",
       "      <td>[{'activitat': '2', 'estatMental': '1', 'humit...</td>\n",
       "      <td>[]</td>\n",
       "      <td>[]</td>\n",
       "      <td>[{'codi': 'M01AE', 'dataInici': '2020-06-21 00...</td>\n",
       "      <td>[]</td>\n",
       "      <td>...</td>\n",
       "      <td>None</td>\n",
       "      <td>None</td>\n",
       "      <td>None</td>\n",
       "      <td>None</td>\n",
       "      <td>NaT</td>\n",
       "      <td>None</td>\n",
       "      <td>None</td>\n",
       "      <td>None</td>\n",
       "      <td>2020-06-18</td>\n",
       "      <td>NaN</td>\n",
       "    </tr>\n",
       "    <tr>\n",
       "      <th>1</th>\n",
       "      <td>70</td>\n",
       "      <td>M</td>\n",
       "      <td>0</td>\n",
       "      <td>[{'date': '20220524', 'name': 'PCR SARS-CoV2 S...</td>\n",
       "      <td>[]</td>\n",
       "      <td>[{'activitat': '0', 'estatMental': '0', 'humit...</td>\n",
       "      <td>[]</td>\n",
       "      <td>[{'valor': '64.7', 'data': '2022-10-04'}, {'va...</td>\n",
       "      <td>[{'codi': 'C09AA', 'dataInici': '2021-05-26 00...</td>\n",
       "      <td>[{'data': '20220930', 'pacientNoColabora': '',...</td>\n",
       "      <td>...</td>\n",
       "      <td>&gt;90</td>\n",
       "      <td>70</td>\n",
       "      <td>53.7</td>\n",
       "      <td>2022-07-06</td>\n",
       "      <td>NaT</td>\n",
       "      <td>None</td>\n",
       "      <td>None</td>\n",
       "      <td>16.3</td>\n",
       "      <td>2022-09-29</td>\n",
       "      <td>NaN</td>\n",
       "    </tr>\n",
       "    <tr>\n",
       "      <th>2</th>\n",
       "      <td>96</td>\n",
       "      <td>M</td>\n",
       "      <td>0</td>\n",
       "      <td>[]</td>\n",
       "      <td>[]</td>\n",
       "      <td>[{'activitat': '3', 'estatMental': '0', 'humit...</td>\n",
       "      <td>[]</td>\n",
       "      <td>[]</td>\n",
       "      <td>[{'codi': 'G04CA', 'dataInici': '2020-07-09 00...</td>\n",
       "      <td>[]</td>\n",
       "      <td>...</td>\n",
       "      <td>None</td>\n",
       "      <td>None</td>\n",
       "      <td>None</td>\n",
       "      <td>None</td>\n",
       "      <td>NaT</td>\n",
       "      <td>None</td>\n",
       "      <td>None</td>\n",
       "      <td>None</td>\n",
       "      <td>2020-07-08</td>\n",
       "      <td>NaN</td>\n",
       "    </tr>\n",
       "    <tr>\n",
       "      <th>3</th>\n",
       "      <td>85</td>\n",
       "      <td>M</td>\n",
       "      <td>0</td>\n",
       "      <td>[]</td>\n",
       "      <td>[]</td>\n",
       "      <td>[{'activitat': '2', 'estatMental': '1', 'humit...</td>\n",
       "      <td>[]</td>\n",
       "      <td>[]</td>\n",
       "      <td>[{'codi': 'G04CA', 'dataInici': '2020-07-15 00...</td>\n",
       "      <td>[{'data': '20201204131810', 'disfagia': 'S', '...</td>\n",
       "      <td>...</td>\n",
       "      <td>None</td>\n",
       "      <td>None</td>\n",
       "      <td>None</td>\n",
       "      <td>None</td>\n",
       "      <td>2020-12-04</td>\n",
       "      <td>None</td>\n",
       "      <td>None</td>\n",
       "      <td>None</td>\n",
       "      <td>2020-12-02</td>\n",
       "      <td>2.0</td>\n",
       "    </tr>\n",
       "    <tr>\n",
       "      <th>4</th>\n",
       "      <td>93</td>\n",
       "      <td>M</td>\n",
       "      <td>0</td>\n",
       "      <td>[{'date': '20220208', 'name': 'UREA Sèrum', 'l...</td>\n",
       "      <td>[{'imc': '0', 'anorexia': '1', 'perduaPes': '1...</td>\n",
       "      <td>[{'activitat': '2', 'estatMental': '1', 'humit...</td>\n",
       "      <td>[]</td>\n",
       "      <td>[{'valor': '49.900', 'data': '2022-06-02'}, {'...</td>\n",
       "      <td>[{'codi': 'N02AA', 'dataInici': '2022-02-01 00...</td>\n",
       "      <td>[{'data': '20220330172303', 'disfagiaConeguda'...</td>\n",
       "      <td>...</td>\n",
       "      <td>Proves afegides a un altre petició per extracc...</td>\n",
       "      <td>49.900</td>\n",
       "      <td>49.900</td>\n",
       "      <td>2022-06-02</td>\n",
       "      <td>NaT</td>\n",
       "      <td>None</td>\n",
       "      <td>None</td>\n",
       "      <td>0.0</td>\n",
       "      <td>2022-08-07</td>\n",
       "      <td>NaN</td>\n",
       "    </tr>\n",
       "  </tbody>\n",
       "</table>\n",
       "<p>5 rows × 80 columns</p>\n",
       "</div>"
      ]
     },
     "execution_count": 2,
     "metadata": {},
     "output_type": "execute_result"
    }
   ],
   "execution_count": 2
  },
  {
   "metadata": {
    "ExecuteTime": {
     "end_time": "2024-05-03T10:14:16.708458Z",
     "start_time": "2024-05-03T10:14:16.699693Z"
    }
   },
   "cell_type": "code",
   "source": [
    "AMB_PA = taula[taula[\"PA diagnosticada\"] == 1.0]\n",
    "AMB_PA_MECVV = taula[\n",
    "    (taula[\"Dies entre primer ICD pneumònia i primer MECVV positiu\"] < 30)]\n",
    "SENSE_PA = taula[\n",
    "           (taula[\"Dies entre primer ICD pneumònia i primer MECVV positiu\"] > 30) &\n",
    "           (taula['P diagnosticada'] == 1.0)]\n",
    "TOTAL = taula"
   ],
   "id": "66ee0565100b2096",
   "outputs": [],
   "execution_count": 3
  },
  {
   "metadata": {},
   "cell_type": "markdown",
   "source": [
    "# Síndromes geriàtrics"
   ],
   "id": "89fbabd4869d9b6e"
  },
  {
   "metadata": {},
   "cell_type": "markdown",
   "source": [
    "## Index de Charlson"
   ],
   "id": "26d9f063eaf602a8"
  },
  {
   "metadata": {
    "ExecuteTime": {
     "end_time": "2024-05-03T10:14:16.715746Z",
     "start_time": "2024-05-03T10:14:16.709455Z"
    }
   },
   "cell_type": "code",
   "source": [
    "Mitjana_charlson = AMB_PA['Charlson'].mean()\n",
    "desviacio_estandard_charlson = AMB_PA['Charlson'].std()\n",
    "\n",
    "resultat = f\"{Mitjana_charlson:.2f} ± {desviacio_estandard_charlson:.2f}\"\n",
    "print(\"Mitjana ± Desviació Estàndard de l'índex de Charlson:\", resultat)"
   ],
   "id": "b5b2205f3b3c898f",
   "outputs": [
    {
     "name": "stdout",
     "output_type": "stream",
     "text": [
      "Mitjana ± Desviació Estàndard de l'índex de Charlson: 10.24 ± 10.73\n"
     ]
    }
   ],
   "execution_count": 4
  },
  {
   "metadata": {
    "ExecuteTime": {
     "end_time": "2024-05-03T10:14:16.722404Z",
     "start_time": "2024-05-03T10:14:16.716743Z"
    }
   },
   "cell_type": "code",
   "source": [
    "Mitjana_charlson = AMB_PA_MECVV['Charlson'].mean()\n",
    "desviacio_estandard_charlson = AMB_PA_MECVV['Charlson'].std()\n",
    "\n",
    "resultat = f\"{Mitjana_charlson:.2f} ± {desviacio_estandard_charlson:.2f}\"\n",
    "print(\"Mitjana ± Desviació Estàndard de l'índex de Charlson:\", resultat)"
   ],
   "id": "7b8479957609a4b3",
   "outputs": [
    {
     "name": "stdout",
     "output_type": "stream",
     "text": [
      "Mitjana ± Desviació Estàndard de l'índex de Charlson: 16.00 ± 11.60\n"
     ]
    }
   ],
   "execution_count": 5
  },
  {
   "metadata": {
    "ExecuteTime": {
     "end_time": "2024-05-03T10:14:16.730862Z",
     "start_time": "2024-05-03T10:14:16.723399Z"
    }
   },
   "cell_type": "code",
   "source": [
    "Mitjana_charlson = SENSE_PA['Charlson'].mean()\n",
    "desviacio_estandard_charlson = SENSE_PA['Charlson'].std()\n",
    "\n",
    "resultat = f\"{Mitjana_charlson:.2f} ± {desviacio_estandard_charlson:.2f}\"\n",
    "print(\"Mitjana ± Desviació Estàndard de l'índex de Charlson:\", resultat)"
   ],
   "id": "a0991a7e2863cf1",
   "outputs": [
    {
     "name": "stdout",
     "output_type": "stream",
     "text": [
      "Mitjana ± Desviació Estàndard de l'índex de Charlson: 16.50 ± 12.83\n"
     ]
    }
   ],
   "execution_count": 6
  },
  {
   "metadata": {
    "ExecuteTime": {
     "end_time": "2024-05-03T10:14:16.736794Z",
     "start_time": "2024-05-03T10:14:16.731860Z"
    }
   },
   "cell_type": "code",
   "source": [
    "Mitjana_charlson = TOTAL['Charlson'].mean()\n",
    "desviacio_estandard_charlson = TOTAL['Charlson'].std()\n",
    "\n",
    "resultat = f\"{Mitjana_charlson:.2f} ± {desviacio_estandard_charlson:.2f}\"\n",
    "print(\"Mitjana ± Desviació Estàndard de l'índex de Charlson:\", resultat)"
   ],
   "id": "7493edc5cf7aeb5",
   "outputs": [
    {
     "name": "stdout",
     "output_type": "stream",
     "text": [
      "Mitjana ± Desviació Estàndard de l'índex de Charlson: 11.62 ± 13.16\n"
     ]
    }
   ],
   "execution_count": 7
  },
  {
   "metadata": {},
   "cell_type": "markdown",
   "source": [
    "#### Pvalor"
   ],
   "id": "7759f395ce8c1a34"
  },
  {
   "metadata": {},
   "cell_type": "markdown",
   "source": [
    "##### Normalitat"
   ],
   "id": "9e4a7fb9f900e9e1"
  },
  {
   "metadata": {
    "ExecuteTime": {
     "end_time": "2024-05-03T10:14:16.746051Z",
     "start_time": "2024-05-03T10:14:16.737789Z"
    }
   },
   "cell_type": "code",
   "source": [
    "stat, p_value = shapiro(AMB_PA['Charlson'])\n",
    "print(f\"Estadístic W = {stat:.4f}\")\n",
    "print(f\"Valor p = {p_value:.4f}\")\n",
    "\n",
    "alpha = 0.05\n",
    "if p_value < alpha:\n",
    "    print(\"El nombre de files no segueix una distribució normal.\")\n",
    "else:\n",
    "    print(\"El nombre de files segueix una distribució normal\")"
   ],
   "id": "b5a4f7ca52e855c7",
   "outputs": [
    {
     "name": "stdout",
     "output_type": "stream",
     "text": [
      "Estadístic W = 0.7994\n",
      "Valor p = 0.0020\n",
      "El nombre de files no segueix una distribució normal.\n"
     ]
    }
   ],
   "execution_count": 8
  },
  {
   "metadata": {
    "ExecuteTime": {
     "end_time": "2024-05-03T10:14:16.752074Z",
     "start_time": "2024-05-03T10:14:16.747048Z"
    }
   },
   "cell_type": "code",
   "source": [
    "stat, p_value = shapiro(AMB_PA_MECVV['Charlson'])\n",
    "print(f\"Estadístic W = {stat:.4f}\")\n",
    "print(f\"Valor p = {p_value:.4f}\")\n",
    "\n",
    "alpha = 0.05\n",
    "if p_value < alpha:\n",
    "    print(\"El nombre de files no segueix una distribució normal.\")\n",
    "else:\n",
    "    print(\"El nombre de files segueix una distribució normal\")"
   ],
   "id": "dbadd3060fdf4918",
   "outputs": [
    {
     "name": "stdout",
     "output_type": "stream",
     "text": [
      "Estadístic W = 0.9651\n",
      "Valor p = 0.8571\n",
      "El nombre de files segueix una distribució normal\n"
     ]
    }
   ],
   "execution_count": 9
  },
  {
   "metadata": {
    "ExecuteTime": {
     "end_time": "2024-05-03T10:14:16.846135Z",
     "start_time": "2024-05-03T10:14:16.842092Z"
    }
   },
   "cell_type": "code",
   "source": [
    "stat, p_value = shapiro(SENSE_PA['Charlson'])\n",
    "print(f\"Estadístic W = {stat:.4f}\")\n",
    "print(f\"Valor p = {p_value:.4f}\")\n",
    "\n",
    "alpha = 0.05\n",
    "if p_value < alpha:\n",
    "    print(\"El nombre de files no segueix una distribució normal.\")\n",
    "else:\n",
    "    print(\"El nombre de files segueix una distribució normal\")"
   ],
   "id": "c3a71f3c80fb8c48",
   "outputs": [
    {
     "name": "stdout",
     "output_type": "stream",
     "text": [
      "Estadístic W = 0.9177\n",
      "Valor p = 0.4113\n",
      "El nombre de files segueix una distribució normal\n"
     ]
    }
   ],
   "execution_count": 10
  },
  {
   "metadata": {
    "ExecuteTime": {
     "end_time": "2024-05-03T10:14:17.278576Z",
     "start_time": "2024-05-03T10:14:17.273576Z"
    }
   },
   "cell_type": "code",
   "source": [
    "stat, p_value = shapiro(TOTAL['Charlson'])\n",
    "print(f\"Estadístic W = {stat:.4f}\")\n",
    "print(f\"Valor p = {p_value:.4f}\")\n",
    "\n",
    "alpha = 0.05\n",
    "if p_value < alpha:\n",
    "    print(\"El nombre de files no segueix una distribució normal.\")\n",
    "else:\n",
    "    print(\"El nombre de files segueix una distribució normal\")"
   ],
   "id": "ecd1e19e1206a8d3",
   "outputs": [
    {
     "name": "stdout",
     "output_type": "stream",
     "text": [
      "Estadístic W = 0.7836\n",
      "Valor p = 0.0000\n",
      "El nombre de files no segueix una distribució normal.\n"
     ]
    }
   ],
   "execution_count": 11
  },
  {
   "metadata": {
    "ExecuteTime": {
     "end_time": "2024-05-03T10:14:18.599724Z",
     "start_time": "2024-05-03T10:14:18.593347Z"
    }
   },
   "cell_type": "code",
   "source": [
    "stat, p_value_12 = mannwhitneyu(AMB_PA['Charlson'], AMB_PA_MECVV['Charlson'], alternative='two-sided')\n",
    "print(\"P-valor entre AMB_PA i AMB_PA_MECVV\", p_value_12)"
   ],
   "id": "b39e3bdbb4c23405",
   "outputs": [
    {
     "name": "stdout",
     "output_type": "stream",
     "text": [
      "P-valor entre AMB_PA i AMB_PA_MECVV 0.23085687112868614\n"
     ]
    }
   ],
   "execution_count": 12
  },
  {
   "metadata": {
    "ExecuteTime": {
     "end_time": "2024-05-03T10:14:19.225933Z",
     "start_time": "2024-05-03T10:14:19.221353Z"
    }
   },
   "cell_type": "code",
   "source": [
    "stat, p_value_13 = mannwhitneyu(AMB_PA['Charlson'], SENSE_PA['Charlson'], alternative='two-sided')\n",
    "print(\"P-valor entre AMB_PA i SENSE_PA\", p_value_13)"
   ],
   "id": "c651a55b0ce2b6d4",
   "outputs": [
    {
     "name": "stdout",
     "output_type": "stream",
     "text": [
      "P-valor entre AMB_PA i SENSE_PA 0.1977214805403812\n"
     ]
    }
   ],
   "execution_count": 13
  },
  {
   "metadata": {
    "ExecuteTime": {
     "end_time": "2024-05-03T10:14:19.545435Z",
     "start_time": "2024-05-03T10:14:19.539534Z"
    }
   },
   "cell_type": "code",
   "source": [
    "stat, p_value_23 = ttest_ind(AMB_PA_MECVV['Charlson'], SENSE_PA['Charlson'], equal_var=False)\n",
    "print(\"P-valor entre AMB_PA_MECVV i SENSE_PA\", p_value_23)"
   ],
   "id": "82cc38e98756a5fc",
   "outputs": [
    {
     "name": "stdout",
     "output_type": "stream",
     "text": [
      "P-valor entre AMB_PA_MECVV i SENSE_PA 0.9360013644802581\n"
     ]
    }
   ],
   "execution_count": 14
  },
  {
   "metadata": {
    "ExecuteTime": {
     "end_time": "2024-05-03T10:14:19.879911Z",
     "start_time": "2024-05-03T10:14:19.875710Z"
    }
   },
   "cell_type": "code",
   "source": [
    "stat, p_value_14 = mannwhitneyu(AMB_PA['Charlson'], TOTAL['Charlson'], alternative='two-sided')\n",
    "print(\"P-valor entre AMB_PA i TOTAL\", p_value_14)"
   ],
   "id": "3e91902e36de5110",
   "outputs": [
    {
     "name": "stdout",
     "output_type": "stream",
     "text": [
      "P-valor entre AMB_PA i TOTAL 0.8623665948573777\n"
     ]
    }
   ],
   "execution_count": 15
  },
  {
   "metadata": {
    "ExecuteTime": {
     "end_time": "2024-05-03T10:14:20.156260Z",
     "start_time": "2024-05-03T10:14:20.151967Z"
    }
   },
   "cell_type": "code",
   "source": [
    "stat, p_value_24 = mannwhitneyu(AMB_PA_MECVV['Charlson'], TOTAL['Charlson'], alternative='two-sided')\n",
    "print(\"P-valor entre AMB_PA_MECVV i TOTAL\", p_value_24)"
   ],
   "id": "2411bb2770177a65",
   "outputs": [
    {
     "name": "stdout",
     "output_type": "stream",
     "text": [
      "P-valor entre AMB_PA_MECVV i TOTAL 0.2016616772763471\n"
     ]
    }
   ],
   "execution_count": 16
  },
  {
   "metadata": {
    "ExecuteTime": {
     "end_time": "2024-05-03T10:14:20.455315Z",
     "start_time": "2024-05-03T10:14:20.450664Z"
    }
   },
   "cell_type": "code",
   "source": [
    "stat, p_value_34 = mannwhitneyu(SENSE_PA['Charlson'], TOTAL['Charlson'], alternative='two-sided')\n",
    "print(\"P-valor entre SENSE_PA i TOTAL\", p_value_34)"
   ],
   "id": "f130ffbe702d39b9",
   "outputs": [
    {
     "name": "stdout",
     "output_type": "stream",
     "text": [
      "P-valor entre SENSE_PA i TOTAL 0.19370672249585386\n"
     ]
    }
   ],
   "execution_count": 17
  },
  {
   "metadata": {},
   "cell_type": "markdown",
   "source": [
    "## Caigudes prèvies"
   ],
   "id": "964c785479e0467b"
  },
  {
   "metadata": {
    "ExecuteTime": {
     "end_time": "2024-05-03T10:14:20.750493Z",
     "start_time": "2024-05-03T10:14:20.747378Z"
    }
   },
   "cell_type": "code",
   "source": [
    "caprev_AMB_PA= (AMB_PA['Caigudes prèvies'] == 1.0).mean() * 100\n",
    "print(f\"Percentatge de caigudes prèvies: {caprev_AMB_PA:.2f}%\")"
   ],
   "id": "50df5ada3ce5ed0e",
   "outputs": [
    {
     "name": "stdout",
     "output_type": "stream",
     "text": [
      "Percentatge de caigudes prèvies: 5.88%\n"
     ]
    }
   ],
   "execution_count": 18
  },
  {
   "metadata": {
    "ExecuteTime": {
     "end_time": "2024-05-03T10:14:21.061560Z",
     "start_time": "2024-05-03T10:14:21.057559Z"
    }
   },
   "cell_type": "code",
   "source": [
    "caprev_AMB_PA_MECVV= (AMB_PA_MECVV['Caigudes prèvies'] == 1.0).mean() * 100\n",
    "print(f\"Percentatge de caigudes prèvies: {caprev_AMB_PA_MECVV:.2f}%\")"
   ],
   "id": "1ee91988879aa087",
   "outputs": [
    {
     "name": "stdout",
     "output_type": "stream",
     "text": [
      "Percentatge de caigudes prèvies: 0.00%\n"
     ]
    }
   ],
   "execution_count": 19
  },
  {
   "metadata": {
    "ExecuteTime": {
     "end_time": "2024-05-03T10:14:21.446278Z",
     "start_time": "2024-05-03T10:14:21.442646Z"
    }
   },
   "cell_type": "code",
   "source": [
    "caprev_SENSE_PA= (SENSE_PA['Caigudes prèvies'] == 1.0).mean() * 100\n",
    "print(f\"Percentatge de caigudes prèvies: {caprev_SENSE_PA:.2f}%\")"
   ],
   "id": "4d2cb240e1f7b6f7",
   "outputs": [
    {
     "name": "stdout",
     "output_type": "stream",
     "text": [
      "Percentatge de caigudes prèvies: 12.50%\n"
     ]
    }
   ],
   "execution_count": 20
  },
  {
   "metadata": {
    "ExecuteTime": {
     "end_time": "2024-05-03T10:14:21.754394Z",
     "start_time": "2024-05-03T10:14:21.750343Z"
    }
   },
   "cell_type": "code",
   "source": [
    "caprev_TOTAL= (TOTAL['Caigudes prèvies'] == 1.0).mean() * 100\n",
    "print(f\"Percentatge de caigudes prèvies: {caprev_TOTAL:.2f}%\")"
   ],
   "id": "cc901cf7c80e13fe",
   "outputs": [
    {
     "name": "stdout",
     "output_type": "stream",
     "text": [
      "Percentatge de caigudes prèvies: 6.00%\n"
     ]
    }
   ],
   "execution_count": 21
  },
  {
   "metadata": {},
   "cell_type": "markdown",
   "source": [
    "#### Pvalor"
   ],
   "id": "35b8e447e15084e7"
  },
  {
   "metadata": {},
   "cell_type": "markdown",
   "source": [
    "##### Normalitat"
   ],
   "id": "bce617253d59df63"
  },
  {
   "metadata": {
    "ExecuteTime": {
     "end_time": "2024-05-03T10:14:22.115461Z",
     "start_time": "2024-05-03T10:14:22.111021Z"
    }
   },
   "cell_type": "code",
   "source": [
    "stat, p_value = shapiro(AMB_PA['Caigudes prèvies'])\n",
    "print(f\"Estadístic W = {stat:.4f}\")\n",
    "print(f\"Valor p = {p_value:.4f}\")\n",
    "\n",
    "alpha = 0.05\n",
    "if p_value < alpha:\n",
    "    print(\"El nombre de files no segueix una distribució normal.\")\n",
    "else:\n",
    "    print(\"El nombre de files segueix una distribució normal\")"
   ],
   "id": "ef85d9181f822b14",
   "outputs": [
    {
     "name": "stdout",
     "output_type": "stream",
     "text": [
      "Estadístic W = 0.2622\n",
      "Valor p = 0.0000\n",
      "El nombre de files no segueix una distribució normal.\n"
     ]
    }
   ],
   "execution_count": 22
  },
  {
   "metadata": {
    "ExecuteTime": {
     "end_time": "2024-05-03T10:14:22.453505Z",
     "start_time": "2024-05-03T10:14:22.448532Z"
    }
   },
   "cell_type": "code",
   "source": [
    "stat, p_value = shapiro(AMB_PA_MECVV['Caigudes prèvies'])\n",
    "print(f\"Estadístic W = {stat:.4f}\")\n",
    "print(f\"Valor p = {p_value:.4f}\")\n",
    "\n",
    "alpha = 0.05\n",
    "if p_value < alpha:\n",
    "    print(\"El nombre de files no segueix una distribució normal.\")\n",
    "else:\n",
    "    print(\"El nombre de files segueix una distribució normal\")"
   ],
   "id": "73fc0a6f9756c13",
   "outputs": [
    {
     "name": "stdout",
     "output_type": "stream",
     "text": [
      "Estadístic W = 1.0000\n",
      "Valor p = 1.0000\n",
      "El nombre de files segueix una distribució normal\n"
     ]
    },
    {
     "name": "stderr",
     "output_type": "stream",
     "text": [
      "C:\\Users\\User\\PycharmProjects\\PRACTICUM\\venv\\Lib\\site-packages\\scipy\\stats\\_axis_nan_policy.py:531: UserWarning: scipy.stats.shapiro: Input data has range zero. The results may not be accurate.\n",
      "  res = hypotest_fun_out(*samples, **kwds)\n"
     ]
    }
   ],
   "execution_count": 23
  },
  {
   "metadata": {
    "ExecuteTime": {
     "end_time": "2024-05-03T10:14:22.759690Z",
     "start_time": "2024-05-03T10:14:22.755180Z"
    }
   },
   "cell_type": "code",
   "source": [
    "stat, p_value = shapiro(SENSE_PA['Caigudes prèvies'])\n",
    "print(f\"Estadístic W = {stat:.4f}\")\n",
    "print(f\"Valor p = {p_value:.4f}\")\n",
    "\n",
    "alpha = 0.05\n",
    "if p_value < alpha:\n",
    "    print(\"El nombre de files no segueix una distribució normal.\")\n",
    "else:\n",
    "    print(\"El nombre de files segueix una distribució normal\")"
   ],
   "id": "9dd4c0120e9dfe83",
   "outputs": [
    {
     "name": "stdout",
     "output_type": "stream",
     "text": [
      "Estadístic W = 0.4184\n",
      "Valor p = 0.0000\n",
      "El nombre de files no segueix una distribució normal.\n"
     ]
    }
   ],
   "execution_count": 24
  },
  {
   "metadata": {
    "ExecuteTime": {
     "end_time": "2024-05-03T10:14:23.049873Z",
     "start_time": "2024-05-03T10:14:23.045750Z"
    }
   },
   "cell_type": "code",
   "source": [
    "stat, p_value = shapiro(TOTAL['Caigudes prèvies'])\n",
    "print(f\"Estadístic W = {stat:.4f}\")\n",
    "print(f\"Valor p = {p_value:.4f}\")\n",
    "\n",
    "alpha = 0.05\n",
    "if p_value < alpha:\n",
    "    print(\"El nombre de files no segueix una distribució normal.\")\n",
    "else:\n",
    "    print(\"El nombre de files segueix una distribució normal\")"
   ],
   "id": "92a8e67d98262b6d",
   "outputs": [
    {
     "name": "stdout",
     "output_type": "stream",
     "text": [
      "Estadístic W = 0.2548\n",
      "Valor p = 0.0000\n",
      "El nombre de files no segueix una distribució normal.\n"
     ]
    }
   ],
   "execution_count": 25
  },
  {
   "metadata": {
    "ExecuteTime": {
     "end_time": "2024-05-03T10:14:23.393089Z",
     "start_time": "2024-05-03T10:14:23.380581Z"
    }
   },
   "cell_type": "code",
   "source": [
    "contingency_table_12 = pd.crosstab(index=AMB_PA['Caigudes prèvies'], columns=AMB_PA_MECVV['Caigudes prèvies'])\n",
    "\n",
    "chi2_12, p_value_12, dof_12, expected_12 = chi2_contingency(contingency_table_12)\n",
    "\n",
    "print(\"Estadístic xi-quadrat entre AMB_PA i AMB_PA_MECVV:\", chi2_12)\n",
    "print(\"P-valor entre AMB_PA i AMB_PA_MECVV:\", p_value_12)\n",
    "\n",
    "if p_value_12 < 0.05:\n",
    "    print(\"Hi ha diferències significatives entre les distribucions de caigudes prèvies en AMB_PA i AMB_PA_MECVV.\")\n",
    "else:\n",
    "    print(\"No hi ha diferències significatives entre les distribucions de caigudes prèvies en AMB_PA i AMB_PA_MECVV.\")"
   ],
   "id": "4c41e8420ecd54f3",
   "outputs": [
    {
     "name": "stdout",
     "output_type": "stream",
     "text": [
      "Estadístic xi-quadrat entre AMB_PA i AMB_PA_MECVV: 0.0\n",
      "P-valor entre AMB_PA i AMB_PA_MECVV: 1.0\n",
      "No hi ha diferències significatives entre les distribucions de caigudes prèvies en AMB_PA i AMB_PA_MECVV.\n"
     ]
    }
   ],
   "execution_count": 26
  },
  {
   "metadata": {
    "ExecuteTime": {
     "end_time": "2024-05-03T10:14:23.694763Z",
     "start_time": "2024-05-03T10:14:23.686150Z"
    }
   },
   "cell_type": "code",
   "source": [
    "contingency_table_13 = pd.crosstab(index=AMB_PA['Caigudes prèvies'], columns=SENSE_PA['Caigudes prèvies'])\n",
    "\n",
    "chi2_13, p_value_13, dof_13, expected_13 = chi2_contingency(contingency_table_13)\n",
    "\n",
    "print(\"Estadístic xi-quadrat entre AMB_PA i SENSE_PA:\", chi2_13)\n",
    "print(\"P-valor entre AMB_PA i SENSE_PA:\", p_value_13)\n",
    "\n",
    "if p_value_13 < 0.05:\n",
    "    print(\"Hi ha diferències significatives entre les distribucions de caigudes prèvies en AMB_PA i SENSE_PA.\")\n",
    "else:\n",
    "    print(\"No hi ha diferències significatives entre les distribucions de caigudes prèvies en AMB_PA i SENSE_PA.\")"
   ],
   "id": "d3a50234b5a6775",
   "outputs": [
    {
     "name": "stdout",
     "output_type": "stream",
     "text": [
      "Estadístic xi-quadrat entre AMB_PA i SENSE_PA: 0.0\n",
      "P-valor entre AMB_PA i SENSE_PA: 1.0\n",
      "No hi ha diferències significatives entre les distribucions de caigudes prèvies en AMB_PA i SENSE_PA.\n"
     ]
    }
   ],
   "execution_count": 27
  },
  {
   "metadata": {
    "ExecuteTime": {
     "end_time": "2024-05-03T10:14:24.476783Z",
     "start_time": "2024-05-03T10:14:23.996452Z"
    }
   },
   "cell_type": "code",
   "source": [
    "contingency_table_23 = pd.crosstab(index=AMB_PA_MECVV['Caigudes prèvies'], columns=SENSE_PA['Caigudes prèvies'])\n",
    "\n",
    "chi2_23, p_value_23, dof_23, expected_23 = chi2_contingency(contingency_table_23)\n",
    "\n",
    "print(\"Estadístic xi-quadrat entre AMB_PA_MECVV i SENSE_PA:\", chi2_23)\n",
    "print(\"P-valor entre AMB_PA_MECVV i SENSE_PA:\", p_value_23)\n",
    "\n",
    "if p_value_23 < 0.05:\n",
    "    print(\"Hi ha diferències significatives entre les distribucions de caigudes prèvies en AMB_PA_MECVV i SENSE_PA.\")\n",
    "else:\n",
    "    print(\"No hi ha diferències significatives entre les distribucions de caigudes prèvies en AMB_PA_MECVV i SENSE_PA.\")"
   ],
   "id": "13c44b65ff0399ca",
   "outputs": [
    {
     "ename": "ValueError",
     "evalue": "No data; `observed` has size 0.",
     "output_type": "error",
     "traceback": [
      "\u001B[1;31m---------------------------------------------------------------------------\u001B[0m",
      "\u001B[1;31mValueError\u001B[0m                                Traceback (most recent call last)",
      "Cell \u001B[1;32mIn[28], line 3\u001B[0m\n\u001B[0;32m      1\u001B[0m contingency_table_23 \u001B[38;5;241m=\u001B[39m pd\u001B[38;5;241m.\u001B[39mcrosstab(index\u001B[38;5;241m=\u001B[39mAMB_PA_MECVV[\u001B[38;5;124m'\u001B[39m\u001B[38;5;124mCaigudes prèvies\u001B[39m\u001B[38;5;124m'\u001B[39m], columns\u001B[38;5;241m=\u001B[39mSENSE_PA[\u001B[38;5;124m'\u001B[39m\u001B[38;5;124mCaigudes prèvies\u001B[39m\u001B[38;5;124m'\u001B[39m])\n\u001B[1;32m----> 3\u001B[0m chi2_23, p_value_23, dof_23, expected_23 \u001B[38;5;241m=\u001B[39m \u001B[43mchi2_contingency\u001B[49m\u001B[43m(\u001B[49m\u001B[43mcontingency_table_23\u001B[49m\u001B[43m)\u001B[49m\n\u001B[0;32m      5\u001B[0m \u001B[38;5;28mprint\u001B[39m(\u001B[38;5;124m\"\u001B[39m\u001B[38;5;124mEstadístic xi-quadrat entre AMB_PA_MECVV i SENSE_PA:\u001B[39m\u001B[38;5;124m\"\u001B[39m, chi2_23)\n\u001B[0;32m      6\u001B[0m \u001B[38;5;28mprint\u001B[39m(\u001B[38;5;124m\"\u001B[39m\u001B[38;5;124mP-valor entre AMB_PA_MECVV i SENSE_PA:\u001B[39m\u001B[38;5;124m\"\u001B[39m, p_value_23)\n",
      "File \u001B[1;32m~\\PycharmProjects\\PRACTICUM\\venv\\Lib\\site-packages\\scipy\\stats\\contingency.py:333\u001B[0m, in \u001B[0;36mchi2_contingency\u001B[1;34m(observed, correction, lambda_)\u001B[0m\n\u001B[0;32m    331\u001B[0m     \u001B[38;5;28;01mraise\u001B[39;00m \u001B[38;5;167;01mValueError\u001B[39;00m(\u001B[38;5;124m\"\u001B[39m\u001B[38;5;124mAll values in `observed` must be nonnegative.\u001B[39m\u001B[38;5;124m\"\u001B[39m)\n\u001B[0;32m    332\u001B[0m \u001B[38;5;28;01mif\u001B[39;00m observed\u001B[38;5;241m.\u001B[39msize \u001B[38;5;241m==\u001B[39m \u001B[38;5;241m0\u001B[39m:\n\u001B[1;32m--> 333\u001B[0m     \u001B[38;5;28;01mraise\u001B[39;00m \u001B[38;5;167;01mValueError\u001B[39;00m(\u001B[38;5;124m\"\u001B[39m\u001B[38;5;124mNo data; `observed` has size 0.\u001B[39m\u001B[38;5;124m\"\u001B[39m)\n\u001B[0;32m    335\u001B[0m expected \u001B[38;5;241m=\u001B[39m expected_freq(observed)\n\u001B[0;32m    336\u001B[0m \u001B[38;5;28;01mif\u001B[39;00m np\u001B[38;5;241m.\u001B[39many(expected \u001B[38;5;241m==\u001B[39m \u001B[38;5;241m0\u001B[39m):\n\u001B[0;32m    337\u001B[0m     \u001B[38;5;66;03m# Include one of the positions where expected is zero in\u001B[39;00m\n\u001B[0;32m    338\u001B[0m     \u001B[38;5;66;03m# the exception message.\u001B[39;00m\n",
      "\u001B[1;31mValueError\u001B[0m: No data; `observed` has size 0."
     ]
    }
   ],
   "execution_count": 28
  },
  {
   "metadata": {
    "ExecuteTime": {
     "end_time": "2024-05-03T10:14:24.477779Z",
     "start_time": "2024-05-03T10:14:24.476783Z"
    }
   },
   "cell_type": "code",
   "source": [
    "contingency_table_14 = pd.crosstab(index=AMB_PA['Caigudes prèvies'], columns=TOTAL['Caigudes prèvies'])\n",
    "\n",
    "chi2_14, p_value_14, dof_14, expected_14 = chi2_contingency(contingency_table_14)\n",
    "\n",
    "print(\"Estadístic xi-quadrat entre AMB_PA i TOTAL:\", chi2_14)\n",
    "print(\"P-valor entre AMB_PA i TOTAL:\", p_value_14)\n",
    "\n",
    "if p_value_14 < 0.05:\n",
    "    print(\"Hi ha diferències significatives entre les distribucions de caigudes prèvies en AMB_PA i TOTAL.\")\n",
    "else:\n",
    "    print(\"No hi ha diferències significatives entre les distribucions de caigudes prèvies en AMB_PA i TOTAL.\")"
   ],
   "id": "5f5df85c9e7d51f7",
   "outputs": [],
   "execution_count": null
  },
  {
   "metadata": {
    "ExecuteTime": {
     "end_time": "2024-05-03T10:14:24.614280Z",
     "start_time": "2024-05-03T10:14:24.606808Z"
    }
   },
   "cell_type": "code",
   "source": [
    "contingency_table_24 = pd.crosstab(index=AMB_PA_MECVV['Caigudes prèvies'], columns=TOTAL['Caigudes prèvies'])\n",
    "\n",
    "chi2_24, p_value_24, dof_24, expected_24 = chi2_contingency(contingency_table_24)\n",
    "\n",
    "print(\"Estadístic xi-quadrat entre AMB_PA_MECVV i TOTAL:\", chi2_24)\n",
    "print(\"P-valor entre AMB_PA_MECVV i TOTAL:\", p_value_24)\n",
    "\n",
    "if p_value_24 < 0.05:\n",
    "    print(\"Hi ha diferències significatives entre les distribucions de caigudes prèvies en AMB_PA_MECVV i TOTAL.\")\n",
    "else:\n",
    "    print(\"No hi ha diferències significatives entre les distribucions de caigudes prèvies en AMB_PA_MECVV i TOTAL.\")"
   ],
   "id": "1fd1d16e6e3dd134",
   "outputs": [
    {
     "name": "stdout",
     "output_type": "stream",
     "text": [
      "Estadístic xi-quadrat entre AMB_PA_MECVV i TOTAL: 0.0\n",
      "P-valor entre AMB_PA_MECVV i TOTAL: 1.0\n",
      "No hi ha diferències significatives entre les distribucions de caigudes prèvies en AMB_PA_MECVV i TOTAL.\n"
     ]
    }
   ],
   "execution_count": 29
  },
  {
   "metadata": {
    "ExecuteTime": {
     "end_time": "2024-05-03T10:14:24.784923Z",
     "start_time": "2024-05-03T10:14:24.775317Z"
    }
   },
   "cell_type": "code",
   "source": [
    "contingency_table_34 = pd.crosstab(index=SENSE_PA['Caigudes prèvies'], columns=TOTAL['Caigudes prèvies'])\n",
    "\n",
    "chi2_34, p_value_34, dof_34, expected_34 = chi2_contingency(contingency_table_34)\n",
    "\n",
    "print(\"Estadístic xi-quadrat entre SENSE_PA i TOTAL:\", chi2_34)\n",
    "print(\"P-valor entre SENSE_PA i TOTAL:\", p_value_34)\n",
    "\n",
    "if p_value_34 < 0.05:\n",
    "    print(\"Hi ha diferències significatives entre les distribucions de caigudes prèvies en SENSE_PA i TOTAL.\")\n",
    "else:\n",
    "    print(\"No hi ha diferències significatives entre les distribucions de caigudes prèvies en SENSE_PA i TOTAL.\")"
   ],
   "id": "898fd0d3335318fe",
   "outputs": [
    {
     "name": "stdout",
     "output_type": "stream",
     "text": [
      "Estadístic xi-quadrat entre SENSE_PA i TOTAL: 1.469387755102041\n",
      "P-valor entre SENSE_PA i TOTAL: 0.22544231699450956\n",
      "No hi ha diferències significatives entre les distribucions de caigudes prèvies en SENSE_PA i TOTAL.\n"
     ]
    }
   ],
   "execution_count": 30
  },
  {
   "metadata": {},
   "cell_type": "markdown",
   "source": [
    "## Deliris"
   ],
   "id": "c7aad4b1d580111"
  },
  {
   "metadata": {
    "ExecuteTime": {
     "end_time": "2024-05-03T10:14:38.581286Z",
     "start_time": "2024-05-03T10:14:38.577697Z"
    }
   },
   "cell_type": "code",
   "source": [
    "del_AMB_PA= (AMB_PA['Deliris'] == 1.0).mean() * 100\n",
    "print(f\"Percentatge de deliris: {del_AMB_PA:.2f}%\")"
   ],
   "id": "4457a2a3dfc7a9de",
   "outputs": [
    {
     "name": "stdout",
     "output_type": "stream",
     "text": [
      "Percentatge de deliris: 23.53%\n"
     ]
    }
   ],
   "execution_count": 31
  },
  {
   "metadata": {
    "ExecuteTime": {
     "end_time": "2024-05-03T10:14:38.770206Z",
     "start_time": "2024-05-03T10:14:38.767052Z"
    }
   },
   "cell_type": "code",
   "source": [
    "del_AMB_PA_MECVV= (AMB_PA_MECVV['Deliris'] == 1.0).mean() * 100\n",
    "print(f\"Percentatge de deliris: {del_AMB_PA_MECVV:.2f}%\")"
   ],
   "id": "5ae56c8f83586838",
   "outputs": [
    {
     "name": "stdout",
     "output_type": "stream",
     "text": [
      "Percentatge de deliris: 25.00%\n"
     ]
    }
   ],
   "execution_count": 32
  },
  {
   "metadata": {
    "ExecuteTime": {
     "end_time": "2024-05-03T10:14:39.176068Z",
     "start_time": "2024-05-03T10:14:39.172402Z"
    }
   },
   "cell_type": "code",
   "source": [
    "del_SENSE_PA= (SENSE_PA['Deliris'] == 1.0).mean() * 100\n",
    "print(f\"Percentatge de deliris: {del_SENSE_PA:.2f}%\")"
   ],
   "id": "9e44418c6cf03004",
   "outputs": [
    {
     "name": "stdout",
     "output_type": "stream",
     "text": [
      "Percentatge de deliris: 62.50%\n"
     ]
    }
   ],
   "execution_count": 33
  },
  {
   "metadata": {
    "ExecuteTime": {
     "end_time": "2024-05-03T10:14:39.468130Z",
     "start_time": "2024-05-03T10:14:39.464129Z"
    }
   },
   "cell_type": "code",
   "source": [
    "del_TOTAL= (TOTAL['Deliris'] == 1.0).mean() * 100\n",
    "print(f\"Percentatge de deliris: {del_TOTAL:.2f}%\")"
   ],
   "id": "b7de74bde0bd1b93",
   "outputs": [
    {
     "name": "stdout",
     "output_type": "stream",
     "text": [
      "Percentatge de deliris: 20.00%\n"
     ]
    }
   ],
   "execution_count": 34
  },
  {
   "metadata": {},
   "cell_type": "markdown",
   "source": [
    "#### Pvalor"
   ],
   "id": "5fc877d47e55c507"
  },
  {
   "metadata": {},
   "cell_type": "markdown",
   "source": [
    "##### Normalitat"
   ],
   "id": "c8d1814752edcd36"
  },
  {
   "metadata": {
    "ExecuteTime": {
     "end_time": "2024-05-03T10:14:39.772681Z",
     "start_time": "2024-05-03T10:14:39.768198Z"
    }
   },
   "cell_type": "code",
   "source": [
    "stat, p_value = shapiro(AMB_PA['Deliris'])\n",
    "print(f\"Estadístic W = {stat:.4f}\")\n",
    "print(f\"Valor p = {p_value:.4f}\")\n",
    "\n",
    "alpha = 0.05\n",
    "if p_value < alpha:\n",
    "    print(\"El nombre de files no segueix una distribució normal.\")\n",
    "else:\n",
    "    print(\"El nombre de files segueix una distribució normal\")"
   ],
   "id": "d59012cfb049a4b1",
   "outputs": [
    {
     "name": "stdout",
     "output_type": "stream",
     "text": [
      "Estadístic W = 0.5327\n",
      "Valor p = 0.0000\n",
      "El nombre de files no segueix una distribució normal.\n"
     ]
    }
   ],
   "execution_count": 35
  },
  {
   "metadata": {
    "ExecuteTime": {
     "end_time": "2024-05-03T10:14:40.091907Z",
     "start_time": "2024-05-03T10:14:40.086746Z"
    }
   },
   "cell_type": "code",
   "source": [
    "stat, p_value = shapiro(AMB_PA_MECVV['Deliris'])\n",
    "print(f\"Estadístic W = {stat:.4f}\")\n",
    "print(f\"Valor p = {p_value:.4f}\")\n",
    "\n",
    "alpha = 0.05\n",
    "if p_value < alpha:\n",
    "    print(\"El nombre de files no segueix una distribució normal.\")\n",
    "else:\n",
    "    print(\"El nombre de files segueix una distribució normal\")"
   ],
   "id": "946b43e2ab447ace",
   "outputs": [
    {
     "name": "stdout",
     "output_type": "stream",
     "text": [
      "Estadístic W = 0.5659\n",
      "Valor p = 0.0001\n",
      "El nombre de files no segueix una distribució normal.\n"
     ]
    }
   ],
   "execution_count": 36
  },
  {
   "metadata": {
    "ExecuteTime": {
     "end_time": "2024-05-03T10:14:40.412421Z",
     "start_time": "2024-05-03T10:14:40.408975Z"
    }
   },
   "cell_type": "code",
   "source": [
    "stat, p_value = shapiro(SENSE_PA['Deliris'])\n",
    "print(f\"Estadístic W = {stat:.4f}\")\n",
    "print(f\"Valor p = {p_value:.4f}\")\n",
    "\n",
    "alpha = 0.05\n",
    "if p_value < alpha:\n",
    "    print(\"El nombre de files no segueix una distribució normal.\")\n",
    "else:\n",
    "    print(\"El nombre de files segueix una distribució normal\")"
   ],
   "id": "268335d184f2afbe",
   "outputs": [
    {
     "name": "stdout",
     "output_type": "stream",
     "text": [
      "Estadístic W = 0.6412\n",
      "Valor p = 0.0005\n",
      "El nombre de files no segueix una distribució normal.\n"
     ]
    }
   ],
   "execution_count": 37
  },
  {
   "metadata": {
    "ExecuteTime": {
     "end_time": "2024-05-03T10:14:40.674694Z",
     "start_time": "2024-05-03T10:14:40.670478Z"
    }
   },
   "cell_type": "code",
   "source": [
    "stat, p_value = shapiro(TOTAL['Deliris'])\n",
    "print(f\"Estadístic W = {stat:.4f}\")\n",
    "print(f\"Valor p = {p_value:.4f}\")\n",
    "\n",
    "alpha = 0.05\n",
    "if p_value < alpha:\n",
    "    print(\"El nombre de files no segueix una distribució normal.\")\n",
    "else:\n",
    "    print(\"El nombre de files segueix una distribució normal\")"
   ],
   "id": "d29efab11eb91dc6",
   "outputs": [
    {
     "name": "stdout",
     "output_type": "stream",
     "text": [
      "Estadístic W = 0.4904\n",
      "Valor p = 0.0000\n",
      "El nombre de files no segueix una distribució normal.\n"
     ]
    }
   ],
   "execution_count": 38
  },
  {
   "metadata": {
    "ExecuteTime": {
     "end_time": "2024-05-03T10:14:41.123028Z",
     "start_time": "2024-05-03T10:14:41.115403Z"
    }
   },
   "cell_type": "code",
   "source": [
    "contingency_table_12 = pd.crosstab(index=AMB_PA['Deliris'], columns=AMB_PA_MECVV['Deliris'])\n",
    "\n",
    "chi2_12, p_value_12, dof_12, expected_12 = chi2_contingency(contingency_table_12)\n",
    "\n",
    "print(\"Estadístic xi-quadrat entre AMB_PA i AMB_PA_MECVV:\", chi2_12)\n",
    "print(\"P-valor entre AMB_PA i AMB_PA_MECVV:\", p_value_12)\n",
    "\n",
    "if p_value_12 < 0.05:\n",
    "    print(\"Hi ha diferències significatives entre les distribucions de deliris en AMB_PA i AMB_PA_MECVV.\")\n",
    "else:\n",
    "    print(\"No hi ha diferències significatives entre les distribucions de deliris en AMB_PA i AMB_PA_MECVV.\")"
   ],
   "id": "1b311cc28de8fcd3",
   "outputs": [
    {
     "name": "stdout",
     "output_type": "stream",
     "text": [
      "Estadístic xi-quadrat entre AMB_PA i AMB_PA_MECVV: 2.34375\n",
      "P-valor entre AMB_PA i AMB_PA_MECVV: 0.12578642463893994\n",
      "No hi ha diferències significatives entre les distribucions de deliris en AMB_PA i AMB_PA_MECVV.\n"
     ]
    }
   ],
   "execution_count": 39
  },
  {
   "metadata": {
    "ExecuteTime": {
     "end_time": "2024-05-03T10:14:41.280469Z",
     "start_time": "2024-05-03T10:14:41.273056Z"
    }
   },
   "cell_type": "code",
   "source": [
    "contingency_table_13 = pd.crosstab(index=AMB_PA['Deliris'], columns=SENSE_PA['Deliris'])\n",
    "\n",
    "chi2_13, p_value_13, dof_13, expected_13 = chi2_contingency(contingency_table_13)\n",
    "\n",
    "print(\"Estadístic xi-quadrat entre AMB_PA i SENSE_PA:\", chi2_13)\n",
    "print(\"P-valor entre AMB_PA i SENSE_PA:\", p_value_13)\n",
    "\n",
    "if p_value_13 < 0.05:\n",
    "    print(\"Hi ha diferències significatives entre les distribucions de deliris en AMB_PA i SENSE_PA.\")\n",
    "else:\n",
    "    print(\"No hi ha diferències significatives entre les distribucions de deliris en AMB_PA i SENSE_PA.\")"
   ],
   "id": "ea1a6301c3ec1b28",
   "outputs": [
    {
     "name": "stdout",
     "output_type": "stream",
     "text": [
      "Estadístic xi-quadrat entre AMB_PA i SENSE_PA: 0.1875\n",
      "P-valor entre AMB_PA i SENSE_PA: 0.6650055421020291\n",
      "No hi ha diferències significatives entre les distribucions de deliris en AMB_PA i SENSE_PA.\n"
     ]
    }
   ],
   "execution_count": 40
  },
  {
   "metadata": {
    "ExecuteTime": {
     "end_time": "2024-05-03T10:14:41.746999Z",
     "start_time": "2024-05-03T10:14:41.719448Z"
    }
   },
   "cell_type": "code",
   "source": [
    "contingency_table_23 = pd.crosstab(index=AMB_PA_MECVV['Deliris'], columns=SENSE_PA['Deliris'])\n",
    "\n",
    "chi2_23, p_value_23, dof_23, expected_23 = chi2_contingency(contingency_table_23)\n",
    "\n",
    "print(\"Estadístic xi-quadrat entre AMB_PA_MECVV i SENSE_PA:\", chi2_23)\n",
    "print(\"P-valor entre AMB_PA_MECVV i SENSE_PA:\", p_value_23)\n",
    "\n",
    "if p_value_23 < 0.05:\n",
    "    print(\"Hi ha diferències significatives entre les distribucions de deliris en AMB_PA_MECVV i SENSE_PA.\")\n",
    "else:\n",
    "    print(\"No hi ha diferències significatives entre les distribucions de deliris en AMB_PA_MECVV i SENSE_PA.\")"
   ],
   "id": "68c1f5ee2e2f63e3",
   "outputs": [
    {
     "ename": "ValueError",
     "evalue": "No data; `observed` has size 0.",
     "output_type": "error",
     "traceback": [
      "\u001B[1;31m---------------------------------------------------------------------------\u001B[0m",
      "\u001B[1;31mValueError\u001B[0m                                Traceback (most recent call last)",
      "Cell \u001B[1;32mIn[41], line 3\u001B[0m\n\u001B[0;32m      1\u001B[0m contingency_table_23 \u001B[38;5;241m=\u001B[39m pd\u001B[38;5;241m.\u001B[39mcrosstab(index\u001B[38;5;241m=\u001B[39mAMB_PA_MECVV[\u001B[38;5;124m'\u001B[39m\u001B[38;5;124mDeliris\u001B[39m\u001B[38;5;124m'\u001B[39m], columns\u001B[38;5;241m=\u001B[39mSENSE_PA[\u001B[38;5;124m'\u001B[39m\u001B[38;5;124mDeliris\u001B[39m\u001B[38;5;124m'\u001B[39m])\n\u001B[1;32m----> 3\u001B[0m chi2_23, p_value_23, dof_23, expected_23 \u001B[38;5;241m=\u001B[39m \u001B[43mchi2_contingency\u001B[49m\u001B[43m(\u001B[49m\u001B[43mcontingency_table_23\u001B[49m\u001B[43m)\u001B[49m\n\u001B[0;32m      5\u001B[0m \u001B[38;5;28mprint\u001B[39m(\u001B[38;5;124m\"\u001B[39m\u001B[38;5;124mEstadístic xi-quadrat entre AMB_PA_MECVV i SENSE_PA:\u001B[39m\u001B[38;5;124m\"\u001B[39m, chi2_23)\n\u001B[0;32m      6\u001B[0m \u001B[38;5;28mprint\u001B[39m(\u001B[38;5;124m\"\u001B[39m\u001B[38;5;124mP-valor entre AMB_PA_MECVV i SENSE_PA:\u001B[39m\u001B[38;5;124m\"\u001B[39m, p_value_23)\n",
      "File \u001B[1;32m~\\PycharmProjects\\PRACTICUM\\venv\\Lib\\site-packages\\scipy\\stats\\contingency.py:333\u001B[0m, in \u001B[0;36mchi2_contingency\u001B[1;34m(observed, correction, lambda_)\u001B[0m\n\u001B[0;32m    331\u001B[0m     \u001B[38;5;28;01mraise\u001B[39;00m \u001B[38;5;167;01mValueError\u001B[39;00m(\u001B[38;5;124m\"\u001B[39m\u001B[38;5;124mAll values in `observed` must be nonnegative.\u001B[39m\u001B[38;5;124m\"\u001B[39m)\n\u001B[0;32m    332\u001B[0m \u001B[38;5;28;01mif\u001B[39;00m observed\u001B[38;5;241m.\u001B[39msize \u001B[38;5;241m==\u001B[39m \u001B[38;5;241m0\u001B[39m:\n\u001B[1;32m--> 333\u001B[0m     \u001B[38;5;28;01mraise\u001B[39;00m \u001B[38;5;167;01mValueError\u001B[39;00m(\u001B[38;5;124m\"\u001B[39m\u001B[38;5;124mNo data; `observed` has size 0.\u001B[39m\u001B[38;5;124m\"\u001B[39m)\n\u001B[0;32m    335\u001B[0m expected \u001B[38;5;241m=\u001B[39m expected_freq(observed)\n\u001B[0;32m    336\u001B[0m \u001B[38;5;28;01mif\u001B[39;00m np\u001B[38;5;241m.\u001B[39many(expected \u001B[38;5;241m==\u001B[39m \u001B[38;5;241m0\u001B[39m):\n\u001B[0;32m    337\u001B[0m     \u001B[38;5;66;03m# Include one of the positions where expected is zero in\u001B[39;00m\n\u001B[0;32m    338\u001B[0m     \u001B[38;5;66;03m# the exception message.\u001B[39;00m\n",
      "\u001B[1;31mValueError\u001B[0m: No data; `observed` has size 0."
     ]
    }
   ],
   "execution_count": 41
  },
  {
   "metadata": {
    "ExecuteTime": {
     "end_time": "2024-05-03T10:14:41.911924Z",
     "start_time": "2024-05-03T10:14:41.904344Z"
    }
   },
   "cell_type": "code",
   "source": [
    "contingency_table_14 = pd.crosstab(index=AMB_PA['Deliris'], columns=TOTAL['Deliris'])\n",
    "\n",
    "chi2_14, p_value_14, dof_14, expected_14 = chi2_contingency(contingency_table_14)\n",
    "\n",
    "print(\"Estadístic xi-quadrat entre AMB_PA i TOTAL:\", chi2_14)\n",
    "print(\"P-valor entre AMB_PA i TOTAL:\", p_value_14)\n",
    "\n",
    "if p_value_14 < 0.05:\n",
    "    print(\"Hi ha diferències significatives entre les distribucions de deliris en AMB_PA i TOTAL.\")\n",
    "else:\n",
    "    print(\"No hi ha diferències significatives entre les distribucions de deliris en AMB_PA i TOTAL.\")"
   ],
   "id": "b70740db46acf58c",
   "outputs": [
    {
     "name": "stdout",
     "output_type": "stream",
     "text": [
      "Estadístic xi-quadrat entre AMB_PA i TOTAL: 11.89654215976331\n",
      "P-valor entre AMB_PA i TOTAL: 0.0005623824703676534\n",
      "Hi ha diferències significatives entre les distribucions de deliris en AMB_PA i TOTAL.\n"
     ]
    }
   ],
   "execution_count": 42
  },
  {
   "metadata": {
    "ExecuteTime": {
     "end_time": "2024-05-03T10:14:42.284848Z",
     "start_time": "2024-05-03T10:14:42.277659Z"
    }
   },
   "cell_type": "code",
   "source": [
    "contingency_table_24 = pd.crosstab(index=AMB_PA_MECVV['Deliris'], columns=TOTAL['Deliris'])\n",
    "\n",
    "chi2_24, p_value_24, dof_24, expected_24 = chi2_contingency(contingency_table_24)\n",
    "\n",
    "print(\"Estadístic xi-quadrat entre AMB_PA_MECVV i TOTAL:\", chi2_24)\n",
    "print(\"P-valor entre AMB_PA_MECVV i TOTAL:\", p_value_24)\n",
    "\n",
    "if p_value_24 < 0.05:\n",
    "    print(\"Hi ha diferències significatives entre les distribucions de deliris en AMB_PA_MECVV i TOTAL.\")\n",
    "else:\n",
    "    print(\"No hi ha diferències significatives entre les distribucions de deliris en AMB_PA_MECVV i TOTAL.\")"
   ],
   "id": "887fa37d1e485ec7",
   "outputs": [
    {
     "name": "stdout",
     "output_type": "stream",
     "text": [
      "Estadístic xi-quadrat entre AMB_PA_MECVV i TOTAL: 3.5555555555555554\n",
      "P-valor entre AMB_PA_MECVV i TOTAL: 0.05934643879191998\n",
      "No hi ha diferències significatives entre les distribucions de deliris en AMB_PA_MECVV i TOTAL.\n"
     ]
    }
   ],
   "execution_count": 43
  },
  {
   "metadata": {
    "ExecuteTime": {
     "end_time": "2024-05-03T10:14:42.643471Z",
     "start_time": "2024-05-03T10:14:42.632849Z"
    }
   },
   "cell_type": "code",
   "source": [
    "contingency_table_34 = pd.crosstab(index=SENSE_PA['Deliris'], columns=TOTAL['Deliris'])\n",
    "\n",
    "chi2_34, p_value_34, dof_34, expected_34 = chi2_contingency(contingency_table_34)\n",
    "\n",
    "print(\"Estadístic xi-quadrat entre SENSE_PA i TOTAL:\", chi2_34)\n",
    "print(\"P-valor entre SENSE_PA i TOTAL:\", p_value_34)\n",
    "\n",
    "if p_value_34 < 0.05:\n",
    "    print(\"Hi ha diferències significatives entre les distribucions de deliris en SENSE_PA i TOTAL.\")\n",
    "else:\n",
    "    print(\"No hi ha diferències significatives entre les distribucions de deliris en SENSE_PA i TOTAL.\")"
   ],
   "id": "aee5b1494fe679d3",
   "outputs": [
    {
     "name": "stdout",
     "output_type": "stream",
     "text": [
      "Estadístic xi-quadrat entre SENSE_PA i TOTAL: 4.302222222222222\n",
      "P-valor entre SENSE_PA i TOTAL: 0.0380626070324449\n",
      "Hi ha diferències significatives entre les distribucions de deliris en SENSE_PA i TOTAL.\n"
     ]
    }
   ],
   "execution_count": 44
  },
  {
   "metadata": {},
   "cell_type": "markdown",
   "source": [
    "## Demència"
   ],
   "id": "16a14a68a193ae88"
  },
  {
   "metadata": {
    "ExecuteTime": {
     "end_time": "2024-05-03T10:14:42.948539Z",
     "start_time": "2024-05-03T10:14:42.944538Z"
    }
   },
   "cell_type": "code",
   "source": [
    "dem_AMB_PA= (AMB_PA['Demència'] == 1.0).mean() * 100\n",
    "print(f\"Percentatge de demència: {dem_AMB_PA:.2f}%\")"
   ],
   "id": "89610b223216b432",
   "outputs": [
    {
     "name": "stdout",
     "output_type": "stream",
     "text": [
      "Percentatge de demència: 47.06%\n"
     ]
    }
   ],
   "execution_count": 45
  },
  {
   "metadata": {
    "ExecuteTime": {
     "end_time": "2024-05-03T10:14:43.243554Z",
     "start_time": "2024-05-03T10:14:43.239722Z"
    }
   },
   "cell_type": "code",
   "source": [
    "dem_AMB_PA_MECVV= (AMB_PA_MECVV['Demència'] == 1.0).mean() * 100\n",
    "print(f\"Percentatge de demència: {dem_AMB_PA_MECVV:.2f}%\")"
   ],
   "id": "6973d5742c346036",
   "outputs": [
    {
     "name": "stdout",
     "output_type": "stream",
     "text": [
      "Percentatge de demència: 25.00%\n"
     ]
    }
   ],
   "execution_count": 46
  },
  {
   "metadata": {
    "ExecuteTime": {
     "end_time": "2024-05-03T10:14:43.768177Z",
     "start_time": "2024-05-03T10:14:43.764176Z"
    }
   },
   "cell_type": "code",
   "source": [
    "dem_SENSE_PA= (SENSE_PA['Demència'] == 1.0).mean() * 100\n",
    "print(f\"Percentatge de demència: {dem_SENSE_PA:.2f}%\")"
   ],
   "id": "3957a273bbf5cf16",
   "outputs": [
    {
     "name": "stdout",
     "output_type": "stream",
     "text": [
      "Percentatge de demència: 62.50%\n"
     ]
    }
   ],
   "execution_count": 47
  },
  {
   "metadata": {
    "ExecuteTime": {
     "end_time": "2024-05-03T10:14:43.983173Z",
     "start_time": "2024-05-03T10:14:43.979868Z"
    }
   },
   "cell_type": "code",
   "source": [
    "dem_TOTAL= (TOTAL['Demència'] == 1.0).mean() * 100\n",
    "print(f\"Percentatge de demència: {dem_TOTAL:.2f}%\")"
   ],
   "id": "a312a3cf8683b567",
   "outputs": [
    {
     "name": "stdout",
     "output_type": "stream",
     "text": [
      "Percentatge de demència: 32.00%\n"
     ]
    }
   ],
   "execution_count": 48
  },
  {
   "metadata": {},
   "cell_type": "markdown",
   "source": [
    "#### Pvalor"
   ],
   "id": "2a5e901fb09a4fea"
  },
  {
   "metadata": {},
   "cell_type": "markdown",
   "source": [
    "##### Normalitat"
   ],
   "id": "4d9eea90d8ee4a6b"
  },
  {
   "metadata": {
    "ExecuteTime": {
     "end_time": "2024-05-03T10:14:44.416484Z",
     "start_time": "2024-05-03T10:14:44.412267Z"
    }
   },
   "cell_type": "code",
   "source": [
    "stat, p_value = shapiro(AMB_PA['Demència'])\n",
    "print(f\"Estadístic W = {stat:.4f}\")\n",
    "print(f\"Valor p = {p_value:.4f}\")\n",
    "\n",
    "alpha = 0.05\n",
    "if p_value < alpha:\n",
    "    print(\"El nombre de files no segueix una distribució normal.\")\n",
    "else:\n",
    "    print(\"El nombre de files segueix una distribució normal\")"
   ],
   "id": "5263c8a2a09268c2",
   "outputs": [
    {
     "name": "stdout",
     "output_type": "stream",
     "text": [
      "Estadístic W = 0.6418\n",
      "Valor p = 0.0000\n",
      "El nombre de files no segueix una distribució normal.\n"
     ]
    }
   ],
   "execution_count": 49
  },
  {
   "metadata": {
    "ExecuteTime": {
     "end_time": "2024-05-03T10:14:44.634053Z",
     "start_time": "2024-05-03T10:14:44.630540Z"
    }
   },
   "cell_type": "code",
   "source": [
    "stat, p_value = shapiro(AMB_PA_MECVV['Demència'])\n",
    "print(f\"Estadístic W = {stat:.4f}\")\n",
    "print(f\"Valor p = {p_value:.4f}\")\n",
    "\n",
    "alpha = 0.05\n",
    "if p_value < alpha:\n",
    "    print(\"El nombre de files no segueix una distribució normal.\")\n",
    "else:\n",
    "    print(\"El nombre de files segueix una distribució normal\")"
   ],
   "id": "4af93daf881e0e26",
   "outputs": [
    {
     "name": "stdout",
     "output_type": "stream",
     "text": [
      "Estadístic W = 0.5659\n",
      "Valor p = 0.0001\n",
      "El nombre de files no segueix una distribució normal.\n"
     ]
    }
   ],
   "execution_count": 50
  },
  {
   "metadata": {
    "ExecuteTime": {
     "end_time": "2024-05-03T10:14:45.142050Z",
     "start_time": "2024-05-03T10:14:45.138143Z"
    }
   },
   "cell_type": "code",
   "source": [
    "stat, p_value = shapiro(SENSE_PA['Demència'])\n",
    "print(f\"Estadístic W = {stat:.4f}\")\n",
    "print(f\"Valor p = {p_value:.4f}\")\n",
    "\n",
    "alpha = 0.05\n",
    "if p_value < alpha:\n",
    "    print(\"El nombre de files no segueix una distribució normal.\")\n",
    "else:\n",
    "    print(\"El nombre de files segueix una distribució normal\")"
   ],
   "id": "944278fe0f4e6ce4",
   "outputs": [
    {
     "name": "stdout",
     "output_type": "stream",
     "text": [
      "Estadístic W = 0.6412\n",
      "Valor p = 0.0005\n",
      "El nombre de files no segueix una distribució normal.\n"
     ]
    }
   ],
   "execution_count": 51
  },
  {
   "metadata": {
    "ExecuteTime": {
     "end_time": "2024-05-03T10:14:45.388104Z",
     "start_time": "2024-05-03T10:14:45.384103Z"
    }
   },
   "cell_type": "code",
   "source": [
    "stat, p_value = shapiro(TOTAL['Demència'])\n",
    "print(f\"Estadístic W = {stat:.4f}\")\n",
    "print(f\"Valor p = {p_value:.4f}\")\n",
    "\n",
    "alpha = 0.05\n",
    "if p_value < alpha:\n",
    "    print(\"El nombre de files no segueix una distribució normal.\")\n",
    "else:\n",
    "    print(\"El nombre de files segueix una distribució normal\")"
   ],
   "id": "7f77920df7a21de8",
   "outputs": [
    {
     "name": "stdout",
     "output_type": "stream",
     "text": [
      "Estadístic W = 0.5879\n",
      "Valor p = 0.0000\n",
      "El nombre de files no segueix una distribució normal.\n"
     ]
    }
   ],
   "execution_count": 52
  },
  {
   "metadata": {
    "ExecuteTime": {
     "end_time": "2024-05-03T10:14:45.824199Z",
     "start_time": "2024-05-03T10:14:45.817200Z"
    }
   },
   "cell_type": "code",
   "source": [
    "contingency_table_12 = pd.crosstab(index=AMB_PA['Demència'], columns=AMB_PA_MECVV['Demència'])\n",
    "\n",
    "chi2_12, p_value_12, dof_12, expected_12 = chi2_contingency(contingency_table_12)\n",
    "\n",
    "print(\"Estadístic xi-quadrat entre AMB_PA i AMB_PA_MECVV:\", chi2_12)\n",
    "print(\"P-valor entre AMB_PA i AMB_PA_MECVV:\", p_value_12)\n",
    "\n",
    "if p_value_12 < 0.05:\n",
    "    print(\"Hi ha diferències significatives entre les distribucions de demència en AMB_PA i AMB_PA_MECVV.\")\n",
    "else:\n",
    "    print(\"No hi ha diferències significatives entre les distribucions de demència en AMB_PA i AMB_PA_MECVV.\")"
   ],
   "id": "83f32b06ca57a099",
   "outputs": [
    {
     "name": "stdout",
     "output_type": "stream",
     "text": [
      "Estadístic xi-quadrat entre AMB_PA i AMB_PA_MECVV: 2.34375\n",
      "P-valor entre AMB_PA i AMB_PA_MECVV: 0.12578642463893994\n",
      "No hi ha diferències significatives entre les distribucions de demència en AMB_PA i AMB_PA_MECVV.\n"
     ]
    }
   ],
   "execution_count": 53
  },
  {
   "metadata": {
    "ExecuteTime": {
     "end_time": "2024-05-03T10:14:46.119658Z",
     "start_time": "2024-05-03T10:14:46.111265Z"
    }
   },
   "cell_type": "code",
   "source": [
    "contingency_table_13 = pd.crosstab(index=AMB_PA['Demència'], columns=SENSE_PA['Demència'])\n",
    "\n",
    "chi2_13, p_value_13, dof_13, expected_13 = chi2_contingency(contingency_table_13)\n",
    "\n",
    "print(\"Estadístic xi-quadrat entre AMB_PA i SENSE_PA:\", chi2_13)\n",
    "print(\"P-valor entre AMB_PA i SENSE_PA:\", p_value_13)\n",
    "\n",
    "if p_value_13 < 0.05:\n",
    "    print(\"Hi ha diferències significatives entre les distribucions de demència en AMB_PA i SENSE_PA.\")\n",
    "else:\n",
    "    print(\"No hi ha diferències significatives entre les distribucions de demència en AMB_PA i SENSE_PA.\")"
   ],
   "id": "a1baf61cd15f22ec",
   "outputs": [
    {
     "name": "stdout",
     "output_type": "stream",
     "text": [
      "Estadístic xi-quadrat entre AMB_PA i SENSE_PA: 0.1875\n",
      "P-valor entre AMB_PA i SENSE_PA: 0.6650055421020291\n",
      "No hi ha diferències significatives entre les distribucions de demència en AMB_PA i SENSE_PA.\n"
     ]
    }
   ],
   "execution_count": 54
  },
  {
   "metadata": {
    "ExecuteTime": {
     "end_time": "2024-05-03T10:14:46.662796Z",
     "start_time": "2024-05-03T10:14:46.637776Z"
    }
   },
   "cell_type": "code",
   "source": [
    "contingency_table_23 = pd.crosstab(index=AMB_PA_MECVV['Demència'], columns=SENSE_PA['Demència'])\n",
    "\n",
    "chi2_23, p_value_23, dof_23, expected_23 = chi2_contingency(contingency_table_23)\n",
    "\n",
    "print(\"Estadístic xi-quadrat entre AMB_PA_MECVV i SENSE_PA:\", chi2_23)\n",
    "print(\"P-valor entre AMB_PA_MECVV i SENSE_PA:\", p_value_23)\n",
    "\n",
    "if p_value_23 < 0.05:\n",
    "    print(\"Hi ha diferències significatives entre les distribucions de demència en AMB_PA_MECVV i SENSE_PA.\")\n",
    "else:\n",
    "    print(\"No hi ha diferències significatives entre les distribucions de demència en AMB_PA_MECVV i SENSE_PA.\")"
   ],
   "id": "5271ebe21a57277",
   "outputs": [
    {
     "ename": "ValueError",
     "evalue": "No data; `observed` has size 0.",
     "output_type": "error",
     "traceback": [
      "\u001B[1;31m---------------------------------------------------------------------------\u001B[0m",
      "\u001B[1;31mValueError\u001B[0m                                Traceback (most recent call last)",
      "Cell \u001B[1;32mIn[55], line 3\u001B[0m\n\u001B[0;32m      1\u001B[0m contingency_table_23 \u001B[38;5;241m=\u001B[39m pd\u001B[38;5;241m.\u001B[39mcrosstab(index\u001B[38;5;241m=\u001B[39mAMB_PA_MECVV[\u001B[38;5;124m'\u001B[39m\u001B[38;5;124mDemència\u001B[39m\u001B[38;5;124m'\u001B[39m], columns\u001B[38;5;241m=\u001B[39mSENSE_PA[\u001B[38;5;124m'\u001B[39m\u001B[38;5;124mDemència\u001B[39m\u001B[38;5;124m'\u001B[39m])\n\u001B[1;32m----> 3\u001B[0m chi2_23, p_value_23, dof_23, expected_23 \u001B[38;5;241m=\u001B[39m \u001B[43mchi2_contingency\u001B[49m\u001B[43m(\u001B[49m\u001B[43mcontingency_table_23\u001B[49m\u001B[43m)\u001B[49m\n\u001B[0;32m      5\u001B[0m \u001B[38;5;28mprint\u001B[39m(\u001B[38;5;124m\"\u001B[39m\u001B[38;5;124mEstadístic xi-quadrat entre AMB_PA_MECVV i SENSE_PA:\u001B[39m\u001B[38;5;124m\"\u001B[39m, chi2_23)\n\u001B[0;32m      6\u001B[0m \u001B[38;5;28mprint\u001B[39m(\u001B[38;5;124m\"\u001B[39m\u001B[38;5;124mP-valor entre AMB_PA_MECVV i SENSE_PA:\u001B[39m\u001B[38;5;124m\"\u001B[39m, p_value_23)\n",
      "File \u001B[1;32m~\\PycharmProjects\\PRACTICUM\\venv\\Lib\\site-packages\\scipy\\stats\\contingency.py:333\u001B[0m, in \u001B[0;36mchi2_contingency\u001B[1;34m(observed, correction, lambda_)\u001B[0m\n\u001B[0;32m    331\u001B[0m     \u001B[38;5;28;01mraise\u001B[39;00m \u001B[38;5;167;01mValueError\u001B[39;00m(\u001B[38;5;124m\"\u001B[39m\u001B[38;5;124mAll values in `observed` must be nonnegative.\u001B[39m\u001B[38;5;124m\"\u001B[39m)\n\u001B[0;32m    332\u001B[0m \u001B[38;5;28;01mif\u001B[39;00m observed\u001B[38;5;241m.\u001B[39msize \u001B[38;5;241m==\u001B[39m \u001B[38;5;241m0\u001B[39m:\n\u001B[1;32m--> 333\u001B[0m     \u001B[38;5;28;01mraise\u001B[39;00m \u001B[38;5;167;01mValueError\u001B[39;00m(\u001B[38;5;124m\"\u001B[39m\u001B[38;5;124mNo data; `observed` has size 0.\u001B[39m\u001B[38;5;124m\"\u001B[39m)\n\u001B[0;32m    335\u001B[0m expected \u001B[38;5;241m=\u001B[39m expected_freq(observed)\n\u001B[0;32m    336\u001B[0m \u001B[38;5;28;01mif\u001B[39;00m np\u001B[38;5;241m.\u001B[39many(expected \u001B[38;5;241m==\u001B[39m \u001B[38;5;241m0\u001B[39m):\n\u001B[0;32m    337\u001B[0m     \u001B[38;5;66;03m# Include one of the positions where expected is zero in\u001B[39;00m\n\u001B[0;32m    338\u001B[0m     \u001B[38;5;66;03m# the exception message.\u001B[39;00m\n",
      "\u001B[1;31mValueError\u001B[0m: No data; `observed` has size 0."
     ]
    }
   ],
   "execution_count": 55
  },
  {
   "metadata": {
    "ExecuteTime": {
     "end_time": "2024-05-03T10:14:46.947058Z",
     "start_time": "2024-05-03T10:14:46.938793Z"
    }
   },
   "cell_type": "code",
   "source": [
    "contingency_table_14 = pd.crosstab(index=AMB_PA['Demència'], columns=TOTAL['Demència'])\n",
    "\n",
    "chi2_14, p_value_14, dof_14, expected_14 = chi2_contingency(contingency_table_14)\n",
    "\n",
    "print(\"Estadístic xi-quadrat entre AMB_PA i TOTAL:\", chi2_14)\n",
    "print(\"P-valor entre AMB_PA i TOTAL:\", p_value_14)\n",
    "\n",
    "if p_value_14 < 0.05:\n",
    "    print(\"Hi ha diferències significatives entre les distribucions de demència en AMB_PA i TOTAL.\")\n",
    "else:\n",
    "    print(\"No hi ha diferències significatives entre les distribucions de demència en AMB_PA i TOTAL.\")"
   ],
   "id": "229f3a731f0d99f7",
   "outputs": [
    {
     "name": "stdout",
     "output_type": "stream",
     "text": [
      "Estadístic xi-quadrat entre AMB_PA i TOTAL: 13.223042052469136\n",
      "P-valor entre AMB_PA i TOTAL: 0.00027652843917458906\n",
      "Hi ha diferències significatives entre les distribucions de demència en AMB_PA i TOTAL.\n"
     ]
    }
   ],
   "execution_count": 56
  },
  {
   "metadata": {
    "ExecuteTime": {
     "end_time": "2024-05-03T10:14:47.545075Z",
     "start_time": "2024-05-03T10:14:47.537323Z"
    }
   },
   "cell_type": "code",
   "source": [
    "contingency_table_24 = pd.crosstab(index=AMB_PA_MECVV['Demència'], columns=TOTAL['Demència'])\n",
    "\n",
    "chi2_24, p_value_24, dof_24, expected_24 = chi2_contingency(contingency_table_24)\n",
    "\n",
    "print(\"Estadístic xi-quadrat entre AMB_PA_MECVV i TOTAL:\", chi2_24)\n",
    "print(\"P-valor entre AMB_PA_MECVV i TOTAL:\", p_value_24)\n",
    "\n",
    "if p_value_24 < 0.05:\n",
    "    print(\"Hi ha diferències significatives entre les distribucions de demència en AMB_PA_MECVV i TOTAL.\")\n",
    "else:\n",
    "    print(\"No hi ha diferències significatives entre les distribucions de demència en AMB_PA_MECVV i TOTAL.\")"
   ],
   "id": "e831b86c9aa6609a",
   "outputs": [
    {
     "name": "stdout",
     "output_type": "stream",
     "text": [
      "Estadístic xi-quadrat entre AMB_PA_MECVV i TOTAL: 3.5555555555555554\n",
      "P-valor entre AMB_PA_MECVV i TOTAL: 0.05934643879191998\n",
      "No hi ha diferències significatives entre les distribucions de demència en AMB_PA_MECVV i TOTAL.\n"
     ]
    }
   ],
   "execution_count": 57
  },
  {
   "metadata": {
    "ExecuteTime": {
     "end_time": "2024-05-03T10:14:47.775731Z",
     "start_time": "2024-05-03T10:14:47.768120Z"
    }
   },
   "cell_type": "code",
   "source": [
    "contingency_table_34 = pd.crosstab(index=SENSE_PA['Demència'], columns=TOTAL['Demència'])\n",
    "\n",
    "chi2_34, p_value_34, dof_34, expected_34 = chi2_contingency(contingency_table_34)\n",
    "\n",
    "print(\"Estadístic xi-quadrat entre SENSE_PA i TOTAL:\", chi2_34)\n",
    "print(\"P-valor entre SENSE_PA i TOTAL:\", p_value_34)\n",
    "\n",
    "if p_value_34 < 0.05:\n",
    "    print(\"Hi ha diferències significatives entre les distribucions de demència en SENSE_PA i TOTAL.\")\n",
    "else:\n",
    "    print(\"No hi ha diferències significatives entre les distribucions de demència en SENSE_PA i TOTAL.\")"
   ],
   "id": "86c2332c059b0b28",
   "outputs": [
    {
     "name": "stdout",
     "output_type": "stream",
     "text": [
      "Estadístic xi-quadrat entre SENSE_PA i TOTAL: 4.302222222222222\n",
      "P-valor entre SENSE_PA i TOTAL: 0.0380626070324449\n",
      "Hi ha diferències significatives entre les distribucions de demència en SENSE_PA i TOTAL.\n"
     ]
    }
   ],
   "execution_count": 58
  },
  {
   "metadata": {},
   "cell_type": "markdown",
   "source": [
    "## Síndrome depressiu"
   ],
   "id": "ea9bb083b2c8413e"
  },
  {
   "metadata": {
    "ExecuteTime": {
     "end_time": "2024-05-03T10:14:48.189364Z",
     "start_time": "2024-05-03T10:14:48.185820Z"
    }
   },
   "cell_type": "code",
   "source": [
    "depre_AMB_PA= (AMB_PA['Síndrome depressiu'] == 1.0).mean() * 100\n",
    "print(f\"Percentatge de síndrome depressiu: {depre_AMB_PA:.2f}%\")"
   ],
   "id": "5e6af44aba2e2219",
   "outputs": [
    {
     "name": "stdout",
     "output_type": "stream",
     "text": [
      "Percentatge de síndrome depressiu: 23.53%\n"
     ]
    }
   ],
   "execution_count": 59
  },
  {
   "metadata": {
    "ExecuteTime": {
     "end_time": "2024-05-03T10:14:48.529106Z",
     "start_time": "2024-05-03T10:14:48.524434Z"
    }
   },
   "cell_type": "code",
   "source": [
    "depre_AMB_PA_MECVV= (AMB_PA_MECVV['Síndrome depressiu'] == 1.0).mean() * 100\n",
    "print(f\"Percentatge de síndrome depressiu: {depre_AMB_PA_MECVV:.2f}%\")"
   ],
   "id": "6f73b773854e8aac",
   "outputs": [
    {
     "name": "stdout",
     "output_type": "stream",
     "text": [
      "Percentatge de síndrome depressiu: 12.50%\n"
     ]
    }
   ],
   "execution_count": 60
  },
  {
   "metadata": {
    "ExecuteTime": {
     "end_time": "2024-05-03T10:14:49.146722Z",
     "start_time": "2024-05-03T10:14:49.143487Z"
    }
   },
   "cell_type": "code",
   "source": [
    "depre_SENSE_PA= (SENSE_PA['Síndrome depressiu'] == 1.0).mean() * 100\n",
    "print(f\"Percentatge de síndrome depressiu: {depre_SENSE_PA:.2f}%\")"
   ],
   "id": "ed67fa6c2850b5d7",
   "outputs": [
    {
     "name": "stdout",
     "output_type": "stream",
     "text": [
      "Percentatge de síndrome depressiu: 12.50%\n"
     ]
    }
   ],
   "execution_count": 61
  },
  {
   "metadata": {
    "ExecuteTime": {
     "end_time": "2024-05-03T10:14:49.426066Z",
     "start_time": "2024-05-03T10:14:49.421783Z"
    }
   },
   "cell_type": "code",
   "source": [
    "depre_TOTAL= (TOTAL['Síndrome depressiu'] == 1.0).mean() * 100\n",
    "print(f\"Percentatge de síndrome depressiu: {depre_TOTAL:.2f}%\")"
   ],
   "id": "4d4fc22104bb0fb7",
   "outputs": [
    {
     "name": "stdout",
     "output_type": "stream",
     "text": [
      "Percentatge de síndrome depressiu: 14.00%\n"
     ]
    }
   ],
   "execution_count": 62
  },
  {
   "metadata": {},
   "cell_type": "markdown",
   "source": [
    "#### Pvalor"
   ],
   "id": "77048791dbe5c0af"
  },
  {
   "metadata": {},
   "cell_type": "markdown",
   "source": [
    "##### Normalitat"
   ],
   "id": "7ae02047e3559f07"
  },
  {
   "metadata": {
    "ExecuteTime": {
     "end_time": "2024-05-03T10:14:49.965181Z",
     "start_time": "2024-05-03T10:14:49.960182Z"
    }
   },
   "cell_type": "code",
   "source": [
    "stat, p_value = shapiro(AMB_PA['Síndrome depressiu'])\n",
    "print(f\"Estadístic W = {stat:.4f}\")\n",
    "print(f\"Valor p = {p_value:.4f}\")\n",
    "\n",
    "alpha = 0.05\n",
    "if p_value < alpha:\n",
    "    print(\"El nombre de files no segueix una distribució normal.\")\n",
    "else:\n",
    "    print(\"El nombre de files segueix una distribució normal\")"
   ],
   "id": "eef5277fe8e65edf",
   "outputs": [
    {
     "name": "stdout",
     "output_type": "stream",
     "text": [
      "Estadístic W = 0.5327\n",
      "Valor p = 0.0000\n",
      "El nombre de files no segueix una distribució normal.\n"
     ]
    }
   ],
   "execution_count": 63
  },
  {
   "metadata": {
    "ExecuteTime": {
     "end_time": "2024-05-03T10:14:50.486202Z",
     "start_time": "2024-05-03T10:14:50.482426Z"
    }
   },
   "cell_type": "code",
   "source": [
    "stat, p_value = shapiro(AMB_PA_MECVV['Síndrome depressiu'])\n",
    "print(f\"Estadístic W = {stat:.4f}\")\n",
    "print(f\"Valor p = {p_value:.4f}\")\n",
    "\n",
    "alpha = 0.05\n",
    "if p_value < alpha:\n",
    "    print(\"El nombre de files no segueix una distribució normal.\")\n",
    "else:\n",
    "    print(\"El nombre de files segueix una distribució normal\")"
   ],
   "id": "a0665c4b7b02c414",
   "outputs": [
    {
     "name": "stdout",
     "output_type": "stream",
     "text": [
      "Estadístic W = 0.4184\n",
      "Valor p = 0.0000\n",
      "El nombre de files no segueix una distribució normal.\n"
     ]
    }
   ],
   "execution_count": 64
  },
  {
   "metadata": {
    "ExecuteTime": {
     "end_time": "2024-05-03T10:14:50.829359Z",
     "start_time": "2024-05-03T10:14:50.825587Z"
    }
   },
   "cell_type": "code",
   "source": [
    "stat, p_value = shapiro(SENSE_PA['Síndrome depressiu'])\n",
    "print(f\"Estadístic W = {stat:.4f}\")\n",
    "print(f\"Valor p = {p_value:.4f}\")\n",
    "\n",
    "alpha = 0.05\n",
    "if p_value < alpha:\n",
    "    print(\"El nombre de files no segueix una distribució normal.\")\n",
    "else:\n",
    "    print(\"El nombre de files segueix una distribució normal\")"
   ],
   "id": "1efdd4f2ccc72046",
   "outputs": [
    {
     "name": "stdout",
     "output_type": "stream",
     "text": [
      "Estadístic W = 0.4184\n",
      "Valor p = 0.0000\n",
      "El nombre de files no segueix una distribució normal.\n"
     ]
    }
   ],
   "execution_count": 65
  },
  {
   "metadata": {
    "ExecuteTime": {
     "end_time": "2024-05-03T10:14:51.336713Z",
     "start_time": "2024-05-03T10:14:51.332362Z"
    }
   },
   "cell_type": "code",
   "source": [
    "stat, p_value = shapiro(TOTAL['Síndrome depressiu'])\n",
    "print(f\"Estadístic W = {stat:.4f}\")\n",
    "print(f\"Valor p = {p_value:.4f}\")\n",
    "\n",
    "alpha = 0.05\n",
    "if p_value < alpha:\n",
    "    print(\"El nombre de files no segueix una distribució normal.\")\n",
    "else:\n",
    "    print(\"El nombre de files segueix una distribució normal\")"
   ],
   "id": "84860b682c85392e",
   "outputs": [
    {
     "name": "stdout",
     "output_type": "stream",
     "text": [
      "Estadístic W = 0.4124\n",
      "Valor p = 0.0000\n",
      "El nombre de files no segueix una distribució normal.\n"
     ]
    }
   ],
   "execution_count": 66
  },
  {
   "metadata": {
    "ExecuteTime": {
     "end_time": "2024-05-03T10:14:51.605223Z",
     "start_time": "2024-05-03T10:14:51.598360Z"
    }
   },
   "cell_type": "code",
   "source": [
    "contingency_table_12 = pd.crosstab(index=AMB_PA['Síndrome depressiu'], columns=AMB_PA_MECVV['Síndrome depressiu'])\n",
    "\n",
    "chi2_12, p_value_12, dof_12, expected_12 = chi2_contingency(contingency_table_12)\n",
    "\n",
    "print(\"Estadístic xi-quadrat entre AMB_PA i AMB_PA_MECVV:\", chi2_12)\n",
    "print(\"P-valor entre AMB_PA i AMB_PA_MECVV:\", p_value_12)\n",
    "\n",
    "if p_value_12 < 0.05:\n",
    "    print(\"Hi ha diferències significatives entre les distribucions de síndrome depressiu en AMB_PA i AMB_PA_MECVV.\")\n",
    "else:\n",
    "    print(\"No hi ha diferències significatives entre les distribucions de síndrome depressiu en AMB_PA i AMB_PA_MECVV.\")"
   ],
   "id": "7adb8a77607c2030",
   "outputs": [
    {
     "name": "stdout",
     "output_type": "stream",
     "text": [
      "Estadístic xi-quadrat entre AMB_PA i AMB_PA_MECVV: 0.9600000000000002\n",
      "P-valor entre AMB_PA i AMB_PA_MECVV: 0.32718687779030275\n",
      "No hi ha diferències significatives entre les distribucions de síndrome depressiu en AMB_PA i AMB_PA_MECVV.\n"
     ]
    }
   ],
   "execution_count": 67
  },
  {
   "metadata": {
    "ExecuteTime": {
     "end_time": "2024-05-03T10:14:52.024836Z",
     "start_time": "2024-05-03T10:14:52.017689Z"
    }
   },
   "cell_type": "code",
   "source": [
    "contingency_table_13 = pd.crosstab(index=AMB_PA['Síndrome depressiu'], columns=SENSE_PA['Síndrome depressiu'])\n",
    "\n",
    "chi2_13, p_value_13, dof_13, expected_13 = chi2_contingency(contingency_table_13)\n",
    "\n",
    "print(\"Estadístic xi-quadrat entre AMB_PA i SENSE_PA:\", chi2_13)\n",
    "print(\"P-valor entre AMB_PA i SENSE_PA:\", p_value_13)\n",
    "\n",
    "if p_value_13 < 0.05:\n",
    "    print(\"Hi ha diferències significatives entre les distribucions de síndrome depressiu en AMB_PA i SENSE_PA.\")\n",
    "else:\n",
    "    print(\"No hi ha diferències significatives entre les distribucions de síndrome depressiu en AMB_PA i SENSE_PA.\")"
   ],
   "id": "e47e376705cfa86",
   "outputs": [
    {
     "name": "stdout",
     "output_type": "stream",
     "text": [
      "Estadístic xi-quadrat entre AMB_PA i SENSE_PA: 0.0\n",
      "P-valor entre AMB_PA i SENSE_PA: 1.0\n",
      "No hi ha diferències significatives entre les distribucions de síndrome depressiu en AMB_PA i SENSE_PA.\n"
     ]
    }
   ],
   "execution_count": 68
  },
  {
   "metadata": {
    "ExecuteTime": {
     "end_time": "2024-05-03T10:14:52.340314Z",
     "start_time": "2024-05-03T10:14:52.314903Z"
    }
   },
   "cell_type": "code",
   "source": [
    "contingency_table_23 = pd.crosstab(index=AMB_PA_MECVV['Síndrome depressiu'], columns=SENSE_PA['Síndrome depressiu'])\n",
    "\n",
    "chi2_23, p_value_23, dof_23, expected_23 = chi2_contingency(contingency_table_23)\n",
    "\n",
    "print(\"Estadístic xi-quadrat entre AMB_PA_MECVV i SENSE_PA:\", chi2_23)\n",
    "print(\"P-valor entre AMB_PA_MECVV i SENSE_PA:\", p_value_23)\n",
    "\n",
    "if p_value_23 < 0.05:\n",
    "    print(\"Hi ha diferències significatives entre les distribucions de síndrome depressiu en AMB_PA_MECVV i SENSE_PA.\")\n",
    "else:\n",
    "    print(\"No hi ha diferències significatives entre les distribucions de síndrome depressiu en AMB_PA_MECVV i SENSE_PA.\")"
   ],
   "id": "fef192746e282f69",
   "outputs": [
    {
     "ename": "ValueError",
     "evalue": "No data; `observed` has size 0.",
     "output_type": "error",
     "traceback": [
      "\u001B[1;31m---------------------------------------------------------------------------\u001B[0m",
      "\u001B[1;31mValueError\u001B[0m                                Traceback (most recent call last)",
      "Cell \u001B[1;32mIn[69], line 3\u001B[0m\n\u001B[0;32m      1\u001B[0m contingency_table_23 \u001B[38;5;241m=\u001B[39m pd\u001B[38;5;241m.\u001B[39mcrosstab(index\u001B[38;5;241m=\u001B[39mAMB_PA_MECVV[\u001B[38;5;124m'\u001B[39m\u001B[38;5;124mSíndrome depressiu\u001B[39m\u001B[38;5;124m'\u001B[39m], columns\u001B[38;5;241m=\u001B[39mSENSE_PA[\u001B[38;5;124m'\u001B[39m\u001B[38;5;124mSíndrome depressiu\u001B[39m\u001B[38;5;124m'\u001B[39m])\n\u001B[1;32m----> 3\u001B[0m chi2_23, p_value_23, dof_23, expected_23 \u001B[38;5;241m=\u001B[39m \u001B[43mchi2_contingency\u001B[49m\u001B[43m(\u001B[49m\u001B[43mcontingency_table_23\u001B[49m\u001B[43m)\u001B[49m\n\u001B[0;32m      5\u001B[0m \u001B[38;5;28mprint\u001B[39m(\u001B[38;5;124m\"\u001B[39m\u001B[38;5;124mEstadístic xi-quadrat entre AMB_PA_MECVV i SENSE_PA:\u001B[39m\u001B[38;5;124m\"\u001B[39m, chi2_23)\n\u001B[0;32m      6\u001B[0m \u001B[38;5;28mprint\u001B[39m(\u001B[38;5;124m\"\u001B[39m\u001B[38;5;124mP-valor entre AMB_PA_MECVV i SENSE_PA:\u001B[39m\u001B[38;5;124m\"\u001B[39m, p_value_23)\n",
      "File \u001B[1;32m~\\PycharmProjects\\PRACTICUM\\venv\\Lib\\site-packages\\scipy\\stats\\contingency.py:333\u001B[0m, in \u001B[0;36mchi2_contingency\u001B[1;34m(observed, correction, lambda_)\u001B[0m\n\u001B[0;32m    331\u001B[0m     \u001B[38;5;28;01mraise\u001B[39;00m \u001B[38;5;167;01mValueError\u001B[39;00m(\u001B[38;5;124m\"\u001B[39m\u001B[38;5;124mAll values in `observed` must be nonnegative.\u001B[39m\u001B[38;5;124m\"\u001B[39m)\n\u001B[0;32m    332\u001B[0m \u001B[38;5;28;01mif\u001B[39;00m observed\u001B[38;5;241m.\u001B[39msize \u001B[38;5;241m==\u001B[39m \u001B[38;5;241m0\u001B[39m:\n\u001B[1;32m--> 333\u001B[0m     \u001B[38;5;28;01mraise\u001B[39;00m \u001B[38;5;167;01mValueError\u001B[39;00m(\u001B[38;5;124m\"\u001B[39m\u001B[38;5;124mNo data; `observed` has size 0.\u001B[39m\u001B[38;5;124m\"\u001B[39m)\n\u001B[0;32m    335\u001B[0m expected \u001B[38;5;241m=\u001B[39m expected_freq(observed)\n\u001B[0;32m    336\u001B[0m \u001B[38;5;28;01mif\u001B[39;00m np\u001B[38;5;241m.\u001B[39many(expected \u001B[38;5;241m==\u001B[39m \u001B[38;5;241m0\u001B[39m):\n\u001B[0;32m    337\u001B[0m     \u001B[38;5;66;03m# Include one of the positions where expected is zero in\u001B[39;00m\n\u001B[0;32m    338\u001B[0m     \u001B[38;5;66;03m# the exception message.\u001B[39;00m\n",
      "\u001B[1;31mValueError\u001B[0m: No data; `observed` has size 0."
     ]
    }
   ],
   "execution_count": 69
  },
  {
   "metadata": {
    "ExecuteTime": {
     "end_time": "2024-05-03T10:14:52.722696Z",
     "start_time": "2024-05-03T10:14:52.715402Z"
    }
   },
   "cell_type": "code",
   "source": [
    "contingency_table_14 = pd.crosstab(index=AMB_PA['Síndrome depressiu'], columns=TOTAL['Síndrome depressiu'])\n",
    "\n",
    "chi2_14, p_value_14, dof_14, expected_14 = chi2_contingency(contingency_table_14)\n",
    "\n",
    "print(\"Estadístic xi-quadrat entre AMB_PA i TOTAL:\", chi2_14)\n",
    "print(\"P-valor entre AMB_PA i TOTAL:\", p_value_14)\n",
    "\n",
    "if p_value_14 < 0.05:\n",
    "    print(\"Hi ha diferències significatives entre les distribucions de síndrome depressiu en AMB_PA i TOTAL.\")\n",
    "else:\n",
    "    print(\"No hi ha diferències significatives entre les distribucions de síndrome depressiu en AMB_PA i TOTAL.\")"
   ],
   "id": "aa30d4033abf5373",
   "outputs": [
    {
     "name": "stdout",
     "output_type": "stream",
     "text": [
      "Estadístic xi-quadrat entre AMB_PA i TOTAL: 11.89654215976331\n",
      "P-valor entre AMB_PA i TOTAL: 0.0005623824703676534\n",
      "Hi ha diferències significatives entre les distribucions de síndrome depressiu en AMB_PA i TOTAL.\n"
     ]
    }
   ],
   "execution_count": 70
  },
  {
   "metadata": {
    "ExecuteTime": {
     "end_time": "2024-05-03T10:14:53.004297Z",
     "start_time": "2024-05-03T10:14:52.995754Z"
    }
   },
   "cell_type": "code",
   "source": [
    "contingency_table_24 = pd.crosstab(index=AMB_PA_MECVV['Síndrome depressiu'], columns=TOTAL['Síndrome depressiu'])\n",
    "\n",
    "chi2_24, p_value_24, dof_24, expected_24 = chi2_contingency(contingency_table_24)\n",
    "\n",
    "print(\"Estadístic xi-quadrat entre AMB_PA_MECVV i TOTAL:\", chi2_24)\n",
    "print(\"P-valor entre AMB_PA_MECVV i TOTAL:\", p_value_24)\n",
    "\n",
    "if p_value_24 < 0.05:\n",
    "    print(\"Hi ha diferències significatives entre les distribucions de síndrome depressiu en AMB_PA_MECVV i TOTAL.\")\n",
    "else:\n",
    "    print(\"No hi ha diferències significatives entre les distribucions de síndrome depressiu en AMB_PA_MECVV i TOTAL.\")"
   ],
   "id": "e30932509bdf852f",
   "outputs": [
    {
     "name": "stdout",
     "output_type": "stream",
     "text": [
      "Estadístic xi-quadrat entre AMB_PA_MECVV i TOTAL: 1.469387755102041\n",
      "P-valor entre AMB_PA_MECVV i TOTAL: 0.22544231699450956\n",
      "No hi ha diferències significatives entre les distribucions de síndrome depressiu en AMB_PA_MECVV i TOTAL.\n"
     ]
    }
   ],
   "execution_count": 71
  },
  {
   "metadata": {
    "ExecuteTime": {
     "end_time": "2024-05-03T10:14:53.380214Z",
     "start_time": "2024-05-03T10:14:53.372992Z"
    }
   },
   "cell_type": "code",
   "source": [
    "contingency_table_34 = pd.crosstab(index=SENSE_PA['Síndrome depressiu'], columns=TOTAL['Síndrome depressiu'])\n",
    "\n",
    "chi2_34, p_value_34, dof_34, expected_34 = chi2_contingency(contingency_table_34)\n",
    "\n",
    "print(\"Estadístic xi-quadrat entre SENSE_PA i TOTAL:\", chi2_34)\n",
    "print(\"P-valor entre SENSE_PA i TOTAL:\", p_value_34)\n",
    "\n",
    "if p_value_34 < 0.05:\n",
    "    print(\"Hi ha diferències significatives entre les distribucions de síndrome depressiu en SENSE_PA i TOTAL.\")\n",
    "else:\n",
    "    print(\"No hi ha diferències significatives entre les distribucions de síndrome depressiu en SENSE_PA i TOTAL.\")"
   ],
   "id": "8937379a30d75491",
   "outputs": [
    {
     "name": "stdout",
     "output_type": "stream",
     "text": [
      "Estadístic xi-quadrat entre SENSE_PA i TOTAL: 1.469387755102041\n",
      "P-valor entre SENSE_PA i TOTAL: 0.22544231699450956\n",
      "No hi ha diferències significatives entre les distribucions de síndrome depressiu en SENSE_PA i TOTAL.\n"
     ]
    }
   ],
   "execution_count": 72
  },
  {
   "metadata": {},
   "cell_type": "markdown",
   "source": [
    "## Incontinència urinària"
   ],
   "id": "e692abea2c5a0bcf"
  },
  {
   "metadata": {
    "ExecuteTime": {
     "end_time": "2024-05-03T10:14:53.759610Z",
     "start_time": "2024-05-03T10:14:53.756294Z"
    }
   },
   "cell_type": "code",
   "source": [
    "ic_AMB_PA= (AMB_PA['Incont.uri'] == 1.0).mean() * 100\n",
    "print(f\"Percentatge d'incontinència urinària: {ic_AMB_PA:.2f}%\")"
   ],
   "id": "a10c39264fda8a45",
   "outputs": [
    {
     "name": "stdout",
     "output_type": "stream",
     "text": [
      "Percentatge d'incontinència urinària: 29.41%\n"
     ]
    }
   ],
   "execution_count": 73
  },
  {
   "metadata": {
    "ExecuteTime": {
     "end_time": "2024-05-03T10:14:54.410806Z",
     "start_time": "2024-05-03T10:14:54.406803Z"
    }
   },
   "cell_type": "code",
   "source": [
    "ic_AMB_PA_MECVV= (AMB_PA_MECVV['Incont.uri'] == 1.0).mean() * 100\n",
    "print(f\"Percentatge d'incontinència urinària: {ic_AMB_PA_MECVV:.2f}%\")"
   ],
   "id": "626e726f57f8e3aa",
   "outputs": [
    {
     "name": "stdout",
     "output_type": "stream",
     "text": [
      "Percentatge d'incontinència urinària: 50.00%\n"
     ]
    }
   ],
   "execution_count": 74
  },
  {
   "metadata": {
    "ExecuteTime": {
     "end_time": "2024-05-03T10:14:54.739150Z",
     "start_time": "2024-05-03T10:14:54.735375Z"
    }
   },
   "cell_type": "code",
   "source": [
    "ic_SENSE_PA= (SENSE_PA['Incont.uri'] == 1.0).mean() * 100\n",
    "print(f\"Percentatge d'incontinència urinària: {ic_SENSE_PA:.2f}%\")"
   ],
   "id": "2a4a3c62612b058c",
   "outputs": [
    {
     "name": "stdout",
     "output_type": "stream",
     "text": [
      "Percentatge d'incontinència urinària: 0.00%\n"
     ]
    }
   ],
   "execution_count": 75
  },
  {
   "metadata": {
    "ExecuteTime": {
     "end_time": "2024-05-03T10:14:55.297474Z",
     "start_time": "2024-05-03T10:14:55.294213Z"
    }
   },
   "cell_type": "code",
   "source": [
    "ic_TOTAL= (TOTAL['Incont.uri'] == 1.0).mean() * 100\n",
    "print(f\"Percentatge d'incontinència urinària: {ic_TOTAL:.2f}%\")"
   ],
   "id": "244a39c7e2f25e8e",
   "outputs": [
    {
     "name": "stdout",
     "output_type": "stream",
     "text": [
      "Percentatge d'incontinència urinària: 16.00%\n"
     ]
    }
   ],
   "execution_count": 76
  },
  {
   "metadata": {},
   "cell_type": "markdown",
   "source": [
    "#### Pvalor"
   ],
   "id": "f3d48cd438ce1485"
  },
  {
   "metadata": {},
   "cell_type": "markdown",
   "source": [
    "##### Normalitat"
   ],
   "id": "8a88da3553a72086"
  },
  {
   "metadata": {
    "ExecuteTime": {
     "end_time": "2024-05-03T10:14:55.590199Z",
     "start_time": "2024-05-03T10:14:55.585585Z"
    }
   },
   "cell_type": "code",
   "source": [
    "stat, p_value = shapiro(AMB_PA['Incont.uri'])\n",
    "print(f\"Estadístic W = {stat:.4f}\")\n",
    "print(f\"Valor p = {p_value:.4f}\")\n",
    "\n",
    "alpha = 0.05\n",
    "if p_value < alpha:\n",
    "    print(\"El nombre de files no segueix una distribució normal.\")\n",
    "else:\n",
    "    print(\"El nombre de files segueix una distribució normal\")"
   ],
   "id": "2cf0004f848a0a3d",
   "outputs": [
    {
     "name": "stdout",
     "output_type": "stream",
     "text": [
      "Estadístic W = 0.5785\n",
      "Valor p = 0.0000\n",
      "El nombre de files no segueix una distribució normal.\n"
     ]
    }
   ],
   "execution_count": 77
  },
  {
   "metadata": {
    "ExecuteTime": {
     "end_time": "2024-05-03T10:14:55.978890Z",
     "start_time": "2024-05-03T10:14:55.974280Z"
    }
   },
   "cell_type": "code",
   "source": [
    "stat, p_value = shapiro(AMB_PA_MECVV['Incont.uri'])\n",
    "print(f\"Estadístic W = {stat:.4f}\")\n",
    "print(f\"Valor p = {p_value:.4f}\")\n",
    "\n",
    "alpha = 0.05\n",
    "if p_value < alpha:\n",
    "    print(\"El nombre de files no segueix una distribució normal.\")\n",
    "else:\n",
    "    print(\"El nombre de files segueix una distribució normal\")"
   ],
   "id": "2615ad7db3f0c1ea",
   "outputs": [
    {
     "name": "stdout",
     "output_type": "stream",
     "text": [
      "Estadístic W = 0.6647\n",
      "Valor p = 0.0009\n",
      "El nombre de files no segueix una distribució normal.\n"
     ]
    }
   ],
   "execution_count": 78
  },
  {
   "metadata": {
    "ExecuteTime": {
     "end_time": "2024-05-03T10:14:56.256923Z",
     "start_time": "2024-05-03T10:14:56.252677Z"
    }
   },
   "cell_type": "code",
   "source": [
    "stat, p_value = shapiro(SENSE_PA['Incont.uri'])\n",
    "print(f\"Estadístic W = {stat:.4f}\")\n",
    "print(f\"Valor p = {p_value:.4f}\")\n",
    "\n",
    "alpha = 0.05\n",
    "if p_value < alpha:\n",
    "    print(\"El nombre de files no segueix una distribució normal.\")\n",
    "else:\n",
    "    print(\"El nombre de files segueix una distribució normal\")"
   ],
   "id": "1bb13adec047e9a0",
   "outputs": [
    {
     "name": "stdout",
     "output_type": "stream",
     "text": [
      "Estadístic W = 1.0000\n",
      "Valor p = 1.0000\n",
      "El nombre de files segueix una distribució normal\n"
     ]
    },
    {
     "name": "stderr",
     "output_type": "stream",
     "text": [
      "C:\\Users\\User\\PycharmProjects\\PRACTICUM\\venv\\Lib\\site-packages\\scipy\\stats\\_axis_nan_policy.py:531: UserWarning: scipy.stats.shapiro: Input data has range zero. The results may not be accurate.\n",
      "  res = hypotest_fun_out(*samples, **kwds)\n"
     ]
    }
   ],
   "execution_count": 79
  },
  {
   "metadata": {
    "ExecuteTime": {
     "end_time": "2024-05-03T10:14:56.601479Z",
     "start_time": "2024-05-03T10:14:56.597687Z"
    }
   },
   "cell_type": "code",
   "source": [
    "stat, p_value = shapiro(TOTAL['Incont.uri'])\n",
    "print(f\"Estadístic W = {stat:.4f}\")\n",
    "print(f\"Valor p = {p_value:.4f}\")\n",
    "\n",
    "alpha = 0.05\n",
    "if p_value < alpha:\n",
    "    print(\"El nombre de files no segueix una distribució normal.\")\n",
    "else:\n",
    "    print(\"El nombre de files segueix una distribució normal\")"
   ],
   "id": "42d2a26c4eae5e87",
   "outputs": [
    {
     "name": "stdout",
     "output_type": "stream",
     "text": [
      "Estadístic W = 0.4412\n",
      "Valor p = 0.0000\n",
      "El nombre de files no segueix una distribució normal.\n"
     ]
    }
   ],
   "execution_count": 80
  },
  {
   "metadata": {
    "ExecuteTime": {
     "end_time": "2024-05-03T10:14:56.939625Z",
     "start_time": "2024-05-03T10:14:56.930856Z"
    }
   },
   "cell_type": "code",
   "source": [
    "contingency_table_12 = pd.crosstab(index=AMB_PA['Incont.uri'], columns=AMB_PA_MECVV['Incont.uri'])\n",
    "\n",
    "chi2_12, p_value_12, dof_12, expected_12 = chi2_contingency(contingency_table_12)\n",
    "\n",
    "print(\"Estadístic xi-quadrat entre AMB_PA i AMB_PA_MECVV:\", chi2_12)\n",
    "print(\"P-valor entre AMB_PA i AMB_PA_MECVV:\", p_value_12)\n",
    "\n",
    "if p_value_12 < 0.05:\n",
    "    print(\"Hi ha diferències significatives entre les distribucions d'incontinència urinària en AMB_PA i AMB_PA_MECVV.\")\n",
    "else:\n",
    "    print(\"No hi ha diferències significatives entre les distribucions d'incontinència urinària en AMB_PA i AMB_PA_MECVV.\")"
   ],
   "id": "65960e4e13cab2cb",
   "outputs": [
    {
     "name": "stdout",
     "output_type": "stream",
     "text": [
      "Estadístic xi-quadrat entre AMB_PA i AMB_PA_MECVV: 2.6666666666666665\n",
      "P-valor entre AMB_PA i AMB_PA_MECVV: 0.10247043485974942\n",
      "No hi ha diferències significatives entre les distribucions d'incontinència urinària en AMB_PA i AMB_PA_MECVV.\n"
     ]
    }
   ],
   "execution_count": 81
  },
  {
   "metadata": {
    "ExecuteTime": {
     "end_time": "2024-05-03T10:14:57.331737Z",
     "start_time": "2024-05-03T10:14:57.324609Z"
    }
   },
   "cell_type": "code",
   "source": [
    "contingency_table_13 = pd.crosstab(index=AMB_PA['Incont.uri'], columns=SENSE_PA['Incont.uri'])\n",
    "\n",
    "chi2_13, p_value_13, dof_13, expected_13 = chi2_contingency(contingency_table_13)\n",
    "\n",
    "print(\"Estadístic xi-quadrat entre AMB_PA i SENSE_PA:\", chi2_13)\n",
    "print(\"P-valor entre AMB_PA i SENSE_PA:\", p_value_13)\n",
    "\n",
    "if p_value_13 < 0.05:\n",
    "    print(\"Hi ha diferències significatives entre les distribucions d'incontinència urinària en AMB_PA i AMB_PA_MECVV.\")\n",
    "else:\n",
    "    print(\"No hi ha diferències significatives entre les distribucions d'incontinència urinària en AMB_PA i AMB_PA_MECVV.\")"
   ],
   "id": "5ae80fc41bf7cab2",
   "outputs": [
    {
     "name": "stdout",
     "output_type": "stream",
     "text": [
      "Estadístic xi-quadrat entre AMB_PA i SENSE_PA: 0.0\n",
      "P-valor entre AMB_PA i SENSE_PA: 1.0\n",
      "No hi ha diferències significatives entre les distribucions d'incontinència urinària en AMB_PA i AMB_PA_MECVV.\n"
     ]
    }
   ],
   "execution_count": 82
  },
  {
   "metadata": {
    "ExecuteTime": {
     "end_time": "2024-05-03T10:14:57.613388Z",
     "start_time": "2024-05-03T10:14:57.590679Z"
    }
   },
   "cell_type": "code",
   "source": [
    "contingency_table_23 = pd.crosstab(index=AMB_PA_MECVV['Incont.uri'], columns=SENSE_PA['Incont.uri'])\n",
    "\n",
    "chi2_23, p_value_23, dof_23, expected_23 = chi2_contingency(contingency_table_23)\n",
    "\n",
    "print(\"Estadístic xi-quadrat entre AMB_PA_MECVV i SENSE_PA:\", chi2_23)\n",
    "print(\"P-valor entre AMB_PA_MECVV i SENSE_PA:\", p_value_23)\n",
    "\n",
    "if p_value_23 < 0.05:\n",
    "    print(\"Hi ha diferències significatives entre les distribucions d'incontinència urinària en AMB_PA_MECVV i SENSE_PA.\")\n",
    "else:\n",
    "    print(\"No hi ha diferències significatives entre les distribucions d'incontinència urinària en AMB_PA_MECVV i SENSE_PA.\")"
   ],
   "id": "7d19627ed95c9830",
   "outputs": [
    {
     "ename": "ValueError",
     "evalue": "No data; `observed` has size 0.",
     "output_type": "error",
     "traceback": [
      "\u001B[1;31m---------------------------------------------------------------------------\u001B[0m",
      "\u001B[1;31mValueError\u001B[0m                                Traceback (most recent call last)",
      "Cell \u001B[1;32mIn[83], line 3\u001B[0m\n\u001B[0;32m      1\u001B[0m contingency_table_23 \u001B[38;5;241m=\u001B[39m pd\u001B[38;5;241m.\u001B[39mcrosstab(index\u001B[38;5;241m=\u001B[39mAMB_PA_MECVV[\u001B[38;5;124m'\u001B[39m\u001B[38;5;124mIncont.uri\u001B[39m\u001B[38;5;124m'\u001B[39m], columns\u001B[38;5;241m=\u001B[39mSENSE_PA[\u001B[38;5;124m'\u001B[39m\u001B[38;5;124mIncont.uri\u001B[39m\u001B[38;5;124m'\u001B[39m])\n\u001B[1;32m----> 3\u001B[0m chi2_23, p_value_23, dof_23, expected_23 \u001B[38;5;241m=\u001B[39m \u001B[43mchi2_contingency\u001B[49m\u001B[43m(\u001B[49m\u001B[43mcontingency_table_23\u001B[49m\u001B[43m)\u001B[49m\n\u001B[0;32m      5\u001B[0m \u001B[38;5;28mprint\u001B[39m(\u001B[38;5;124m\"\u001B[39m\u001B[38;5;124mEstadístic xi-quadrat entre AMB_PA_MECVV i SENSE_PA:\u001B[39m\u001B[38;5;124m\"\u001B[39m, chi2_23)\n\u001B[0;32m      6\u001B[0m \u001B[38;5;28mprint\u001B[39m(\u001B[38;5;124m\"\u001B[39m\u001B[38;5;124mP-valor entre AMB_PA_MECVV i SENSE_PA:\u001B[39m\u001B[38;5;124m\"\u001B[39m, p_value_23)\n",
      "File \u001B[1;32m~\\PycharmProjects\\PRACTICUM\\venv\\Lib\\site-packages\\scipy\\stats\\contingency.py:333\u001B[0m, in \u001B[0;36mchi2_contingency\u001B[1;34m(observed, correction, lambda_)\u001B[0m\n\u001B[0;32m    331\u001B[0m     \u001B[38;5;28;01mraise\u001B[39;00m \u001B[38;5;167;01mValueError\u001B[39;00m(\u001B[38;5;124m\"\u001B[39m\u001B[38;5;124mAll values in `observed` must be nonnegative.\u001B[39m\u001B[38;5;124m\"\u001B[39m)\n\u001B[0;32m    332\u001B[0m \u001B[38;5;28;01mif\u001B[39;00m observed\u001B[38;5;241m.\u001B[39msize \u001B[38;5;241m==\u001B[39m \u001B[38;5;241m0\u001B[39m:\n\u001B[1;32m--> 333\u001B[0m     \u001B[38;5;28;01mraise\u001B[39;00m \u001B[38;5;167;01mValueError\u001B[39;00m(\u001B[38;5;124m\"\u001B[39m\u001B[38;5;124mNo data; `observed` has size 0.\u001B[39m\u001B[38;5;124m\"\u001B[39m)\n\u001B[0;32m    335\u001B[0m expected \u001B[38;5;241m=\u001B[39m expected_freq(observed)\n\u001B[0;32m    336\u001B[0m \u001B[38;5;28;01mif\u001B[39;00m np\u001B[38;5;241m.\u001B[39many(expected \u001B[38;5;241m==\u001B[39m \u001B[38;5;241m0\u001B[39m):\n\u001B[0;32m    337\u001B[0m     \u001B[38;5;66;03m# Include one of the positions where expected is zero in\u001B[39;00m\n\u001B[0;32m    338\u001B[0m     \u001B[38;5;66;03m# the exception message.\u001B[39;00m\n",
      "\u001B[1;31mValueError\u001B[0m: No data; `observed` has size 0."
     ]
    }
   ],
   "execution_count": 83
  },
  {
   "metadata": {
    "ExecuteTime": {
     "end_time": "2024-05-03T10:14:57.967488Z",
     "start_time": "2024-05-03T10:14:57.959977Z"
    }
   },
   "cell_type": "code",
   "source": [
    "contingency_table_14 = pd.crosstab(index=AMB_PA['Incont.uri'], columns=TOTAL['Incont.uri'])\n",
    "\n",
    "chi2_14, p_value_14, dof_14, expected_14 = chi2_contingency(contingency_table_14)\n",
    "\n",
    "print(\"Estadístic xi-quadrat entre AMB_PA i TOTAL:\", chi2_14)\n",
    "print(\"P-valor entre AMB_PA i TOTAL:\", p_value_14)\n",
    "\n",
    "if p_value_14 < 0.05:\n",
    "    print(\"Hi ha diferències significatives entre les distribucions d'incontinència urinària en AMB_PA i TOTAL.\")\n",
    "else:\n",
    "    print(\"No hi ha diferències significatives entre les distribucions d'incontinència urinària en AMB_PA i TOTAL.\")"
   ],
   "id": "f950e7a22dca0fde",
   "outputs": [
    {
     "name": "stdout",
     "output_type": "stream",
     "text": [
      "Estadístic xi-quadrat entre AMB_PA i TOTAL: 12.524513888888887\n",
      "P-valor entre AMB_PA i TOTAL: 0.00040164738150225485\n",
      "Hi ha diferències significatives entre les distribucions d'incontinència urinària en AMB_PA i TOTAL.\n"
     ]
    }
   ],
   "execution_count": 84
  },
  {
   "metadata": {
    "ExecuteTime": {
     "end_time": "2024-05-03T10:14:58.219319Z",
     "start_time": "2024-05-03T10:14:58.210856Z"
    }
   },
   "cell_type": "code",
   "source": [
    "contingency_table_24 = pd.crosstab(index=AMB_PA_MECVV['Incont.uri'], columns=TOTAL['Incont.uri'])\n",
    "\n",
    "chi2_24, p_value_24, dof_24, expected_24 = chi2_contingency(contingency_table_24)\n",
    "\n",
    "print(\"Estadístic xi-quadrat entre AMB_PA_MECVV i TOTAL:\", chi2_24)\n",
    "print(\"P-valor entre AMB_PA_MECVV i TOTAL:\", p_value_24)\n",
    "\n",
    "if p_value_24 < 0.05:\n",
    "    print(\"Hi ha diferències significatives entre les distribucions d'incontinència urinària en AMB_PA_MECVV i TOTAL.\")\n",
    "else:\n",
    "    print(\"No hi ha diferències significatives entre les distribucions d'incontinència urinària en AMB_PA_MECVV i TOTAL.\")"
   ],
   "id": "7b67124c127b6671",
   "outputs": [
    {
     "name": "stdout",
     "output_type": "stream",
     "text": [
      "Estadístic xi-quadrat entre AMB_PA_MECVV i TOTAL: 4.5\n",
      "P-valor entre AMB_PA_MECVV i TOTAL: 0.033894853524689295\n",
      "Hi ha diferències significatives entre les distribucions d'incontinència urinària en AMB_PA_MECVV i TOTAL.\n"
     ]
    }
   ],
   "execution_count": 85
  },
  {
   "metadata": {
    "ExecuteTime": {
     "end_time": "2024-05-03T10:14:58.578648Z",
     "start_time": "2024-05-03T10:14:58.571044Z"
    }
   },
   "cell_type": "code",
   "source": [
    "contingency_table_34 = pd.crosstab(index=SENSE_PA['Incont.uri'], columns=TOTAL['Incont.uri'])\n",
    "\n",
    "chi2_34, p_value_34, dof_34, expected_34 = chi2_contingency(contingency_table_34)\n",
    "\n",
    "print(\"Estadístic xi-quadrat entre SENSE_PA i TOTAL:\", chi2_34)\n",
    "print(\"P-valor entre SENSE_PA i TOTAL:\", p_value_34)\n",
    "\n",
    "if p_value_34 < 0.05:\n",
    "    print(\"Hi ha diferències significatives entre les distribucions d'incontinència urinària en SENSE_PA i TOTAL.\")\n",
    "else:\n",
    "    print(\"No hi ha diferències significatives entre les distribucions d'incontinència urinària en SENSE_PA i TOTAL.\")"
   ],
   "id": "a14f6ac7d84ee2d0",
   "outputs": [
    {
     "name": "stdout",
     "output_type": "stream",
     "text": [
      "Estadístic xi-quadrat entre SENSE_PA i TOTAL: 0.0\n",
      "P-valor entre SENSE_PA i TOTAL: 1.0\n",
      "No hi ha diferències significatives entre les distribucions d'incontinència urinària en SENSE_PA i TOTAL.\n"
     ]
    }
   ],
   "execution_count": 86
  },
  {
   "metadata": {},
   "cell_type": "markdown",
   "source": [
    "## Incontinència fecal "
   ],
   "id": "ef750cb6e374d153"
  },
  {
   "metadata": {
    "ExecuteTime": {
     "end_time": "2024-05-03T10:14:58.809643Z",
     "start_time": "2024-05-03T10:14:58.805700Z"
    }
   },
   "cell_type": "code",
   "source": [
    "ifec_AMB_PA= (AMB_PA['Incont.fec'] == 1.0).mean() * 100\n",
    "print(f\"Percentatge d'incontinència fecal: {ifec_AMB_PA:.2f}%\")"
   ],
   "id": "f200aaa97ddfb132",
   "outputs": [
    {
     "name": "stdout",
     "output_type": "stream",
     "text": [
      "Percentatge d'incontinència fecal: 29.41%\n"
     ]
    }
   ],
   "execution_count": 87
  },
  {
   "metadata": {
    "ExecuteTime": {
     "end_time": "2024-05-03T10:14:59.204129Z",
     "start_time": "2024-05-03T10:14:59.200677Z"
    }
   },
   "cell_type": "code",
   "source": [
    "ifec_AMB_PA_MECVV= (AMB_PA_MECVV['Incont.fec'] == 1.0).mean() * 100\n",
    "print(f\"Percentatge d'incontinència fecal: {ifec_AMB_PA_MECVV:.2f}%\")"
   ],
   "id": "508afd800ecbb722",
   "outputs": [
    {
     "name": "stdout",
     "output_type": "stream",
     "text": [
      "Percentatge d'incontinència fecal: 25.00%\n"
     ]
    }
   ],
   "execution_count": 88
  },
  {
   "metadata": {
    "ExecuteTime": {
     "end_time": "2024-05-03T10:14:59.423124Z",
     "start_time": "2024-05-03T10:14:59.420182Z"
    }
   },
   "cell_type": "code",
   "source": [
    "ifec_SENSE_PA= (SENSE_PA['Incont.fec'] == 1.0).mean() * 100\n",
    "print(f\"Percentatge d'incontinència fecal: {ifec_SENSE_PA:.2f}%\")"
   ],
   "id": "e7d0045ab7ee995b",
   "outputs": [
    {
     "name": "stdout",
     "output_type": "stream",
     "text": [
      "Percentatge d'incontinència fecal: 0.00%\n"
     ]
    }
   ],
   "execution_count": 89
  },
  {
   "metadata": {
    "ExecuteTime": {
     "end_time": "2024-05-03T10:14:59.781402Z",
     "start_time": "2024-05-03T10:14:59.778202Z"
    }
   },
   "cell_type": "code",
   "source": [
    "ifec_TOTAL= (TOTAL['Incont.fec'] == 1.0).mean() * 100\n",
    "print(f\"Percentatge d'incontinència fecal: {ifec_TOTAL:.2f}%\")"
   ],
   "id": "4b28e71fdb437245",
   "outputs": [
    {
     "name": "stdout",
     "output_type": "stream",
     "text": [
      "Percentatge d'incontinència fecal: 12.00%\n"
     ]
    }
   ],
   "execution_count": 90
  },
  {
   "metadata": {},
   "cell_type": "markdown",
   "source": [
    "#### Pvalor"
   ],
   "id": "f57e9c2b1011455f"
  },
  {
   "metadata": {},
   "cell_type": "markdown",
   "source": [
    "##### Normalitat"
   ],
   "id": "a09c93982467480a"
  },
  {
   "metadata": {
    "ExecuteTime": {
     "end_time": "2024-05-03T10:15:00.012981Z",
     "start_time": "2024-05-03T10:15:00.009236Z"
    }
   },
   "cell_type": "code",
   "source": [
    "stat, p_value = shapiro(AMB_PA['Incont.fec'])\n",
    "print(f\"Estadístic W = {stat:.4f}\")\n",
    "print(f\"Valor p = {p_value:.4f}\")\n",
    "\n",
    "alpha = 0.05\n",
    "if p_value < alpha:\n",
    "    print(\"El nombre de files no segueix una distribució normal.\")\n",
    "else:\n",
    "    print(\"El nombre de files segueix una distribució normal\")"
   ],
   "id": "fe0a97831b34aa2b",
   "outputs": [
    {
     "name": "stdout",
     "output_type": "stream",
     "text": [
      "Estadístic W = 0.5785\n",
      "Valor p = 0.0000\n",
      "El nombre de files no segueix una distribució normal.\n"
     ]
    }
   ],
   "execution_count": 91
  },
  {
   "metadata": {
    "ExecuteTime": {
     "end_time": "2024-05-03T10:15:00.399545Z",
     "start_time": "2024-05-03T10:15:00.396010Z"
    }
   },
   "cell_type": "code",
   "source": [
    "stat, p_value = shapiro(AMB_PA_MECVV['Incont.fec'])\n",
    "print(f\"Estadístic W = {stat:.4f}\")\n",
    "print(f\"Valor p = {p_value:.4f}\")\n",
    "\n",
    "alpha = 0.05\n",
    "if p_value < alpha:\n",
    "    print(\"El nombre de files no segueix una distribució normal.\")\n",
    "else:\n",
    "    print(\"El nombre de files segueix una distribució normal\")"
   ],
   "id": "514cf02fbf65b3d2",
   "outputs": [
    {
     "name": "stdout",
     "output_type": "stream",
     "text": [
      "Estadístic W = 0.5659\n",
      "Valor p = 0.0001\n",
      "El nombre de files no segueix una distribució normal.\n"
     ]
    }
   ],
   "execution_count": 92
  },
  {
   "metadata": {
    "ExecuteTime": {
     "end_time": "2024-05-03T10:15:00.632420Z",
     "start_time": "2024-05-03T10:15:00.628600Z"
    }
   },
   "cell_type": "code",
   "source": [
    "stat, p_value = shapiro(SENSE_PA['Incont.fec'])\n",
    "print(f\"Estadístic W = {stat:.4f}\")\n",
    "print(f\"Valor p = {p_value:.4f}\")\n",
    "\n",
    "alpha = 0.05\n",
    "if p_value < alpha:\n",
    "    print(\"El nombre de files no segueix una distribució normal.\")\n",
    "else:\n",
    "    print(\"El nombre de files segueix una distribució normal\")"
   ],
   "id": "292234fc524f36f",
   "outputs": [
    {
     "name": "stdout",
     "output_type": "stream",
     "text": [
      "Estadístic W = 1.0000\n",
      "Valor p = 1.0000\n",
      "El nombre de files segueix una distribució normal\n"
     ]
    },
    {
     "name": "stderr",
     "output_type": "stream",
     "text": [
      "C:\\Users\\User\\PycharmProjects\\PRACTICUM\\venv\\Lib\\site-packages\\scipy\\stats\\_axis_nan_policy.py:531: UserWarning: scipy.stats.shapiro: Input data has range zero. The results may not be accurate.\n",
      "  res = hypotest_fun_out(*samples, **kwds)\n"
     ]
    }
   ],
   "execution_count": 93
  },
  {
   "metadata": {
    "ExecuteTime": {
     "end_time": "2024-05-03T10:15:01.004535Z",
     "start_time": "2024-05-03T10:15:01.000103Z"
    }
   },
   "cell_type": "code",
   "source": [
    "stat, p_value = shapiro(TOTAL['Incont.fec'])\n",
    "print(f\"Estadístic W = {stat:.4f}\")\n",
    "print(f\"Valor p = {p_value:.4f}\")\n",
    "\n",
    "alpha = 0.05\n",
    "if p_value < alpha:\n",
    "    print(\"El nombre de files no segueix una distribució normal.\")\n",
    "else:\n",
    "    print(\"El nombre de files segueix una distribució normal\")"
   ],
   "id": "9aacf7236f79f9de",
   "outputs": [
    {
     "name": "stdout",
     "output_type": "stream",
     "text": [
      "Estadístic W = 0.3802\n",
      "Valor p = 0.0000\n",
      "El nombre de files no segueix una distribució normal.\n"
     ]
    }
   ],
   "execution_count": 94
  },
  {
   "metadata": {
    "ExecuteTime": {
     "end_time": "2024-05-03T10:15:01.253740Z",
     "start_time": "2024-05-03T10:15:01.246587Z"
    }
   },
   "cell_type": "code",
   "source": [
    "contingency_table_12 = pd.crosstab(index=AMB_PA['Incont.fec'], columns=AMB_PA_MECVV['Incont.fec'])\n",
    "\n",
    "chi2_12, p_value_12, dof_12, expected_12 = chi2_contingency(contingency_table_12)\n",
    "\n",
    "print(\"Estadístic xi-quadrat entre AMB_PA i AMB_PA_MECVV:\", chi2_12)\n",
    "print(\"P-valor entre AMB_PA i AMB_PA_MECVV:\", p_value_12)\n",
    "\n",
    "if p_value_12 < 0.05:\n",
    "    print(\"Hi ha diferències significatives entre les distribucions d'incontinència fecal en AMB_PA i AMB_PA_MECVV.\")\n",
    "else:\n",
    "    print(\"No hi ha diferències significatives entre les distribucions d'incontinència fecal en AMB_PA i AMB_PA_MECVV.\")"
   ],
   "id": "a06cd69ec62e5411",
   "outputs": [
    {
     "name": "stdout",
     "output_type": "stream",
     "text": [
      "Estadístic xi-quadrat entre AMB_PA i AMB_PA_MECVV: 2.34375\n",
      "P-valor entre AMB_PA i AMB_PA_MECVV: 0.12578642463893994\n",
      "No hi ha diferències significatives entre les distribucions d'incontinència fecal en AMB_PA i AMB_PA_MECVV.\n"
     ]
    }
   ],
   "execution_count": 95
  },
  {
   "metadata": {
    "ExecuteTime": {
     "end_time": "2024-05-03T10:15:01.640182Z",
     "start_time": "2024-05-03T10:15:01.631429Z"
    }
   },
   "cell_type": "code",
   "source": [
    "contingency_table_13 = pd.crosstab(index=AMB_PA['Incont.fec'], columns=SENSE_PA['Incont.fec'])\n",
    "\n",
    "chi2_13, p_value_13, dof_13, expected_13 = chi2_contingency(contingency_table_13)\n",
    "\n",
    "print(\"Estadístic xi-quadrat entre AMB_PA i SENSE_PA:\", chi2_13)\n",
    "print(\"P-valor entre AMB_PA i SENSE_PA:\", p_value_13)\n",
    "\n",
    "if p_value_13 < 0.05:\n",
    "    print(\"Hi ha diferències significatives entre les distribucions d'incontinència fecal en AMB_PA i SENSE_PA.\")\n",
    "else:\n",
    "    print(\"No hi ha diferències significatives entre les distribucions d'incontinència fecal en AMB_PA i SENSE_PA.\")"
   ],
   "id": "2a73a088a4149351",
   "outputs": [
    {
     "name": "stdout",
     "output_type": "stream",
     "text": [
      "Estadístic xi-quadrat entre AMB_PA i SENSE_PA: 0.0\n",
      "P-valor entre AMB_PA i SENSE_PA: 1.0\n",
      "No hi ha diferències significatives entre les distribucions d'incontinència fecal en AMB_PA i SENSE_PA.\n"
     ]
    }
   ],
   "execution_count": 96
  },
  {
   "metadata": {
    "ExecuteTime": {
     "end_time": "2024-05-03T10:15:01.891890Z",
     "start_time": "2024-05-03T10:15:01.868232Z"
    }
   },
   "cell_type": "code",
   "source": [
    "contingency_table_23 = pd.crosstab(index=AMB_PA_MECVV['Incont.fec'], columns=SENSE_PA['Incont.fec'])\n",
    "\n",
    "chi2_23, p_value_23, dof_23, expected_13 = chi2_contingency(contingency_table_23)\n",
    "\n",
    "print(\"Estadístic xi-quadrat entre AMB_PA_MECCV i SENSE_PA:\", chi2_23)\n",
    "print(\"P-valor entre AMB_PA_MECVV i SENSE_PA:\", p_value_23)\n",
    "\n",
    "if p_value_23 < 0.05:\n",
    "    print(\"Hi ha diferències significatives entre les distribucions d'incontinència fecal en AMB_PA_MECVV i SENSE_PA.\")\n",
    "else:\n",
    "    print(\"No hi ha diferències significatives entre les distribucions d'incontinència fecal en AMB_PA_MECVV i SENSE_PA.\")"
   ],
   "id": "82959ceb8ab35c79",
   "outputs": [
    {
     "ename": "ValueError",
     "evalue": "No data; `observed` has size 0.",
     "output_type": "error",
     "traceback": [
      "\u001B[1;31m---------------------------------------------------------------------------\u001B[0m",
      "\u001B[1;31mValueError\u001B[0m                                Traceback (most recent call last)",
      "Cell \u001B[1;32mIn[97], line 3\u001B[0m\n\u001B[0;32m      1\u001B[0m contingency_table_23 \u001B[38;5;241m=\u001B[39m pd\u001B[38;5;241m.\u001B[39mcrosstab(index\u001B[38;5;241m=\u001B[39mAMB_PA_MECVV[\u001B[38;5;124m'\u001B[39m\u001B[38;5;124mIncont.fec\u001B[39m\u001B[38;5;124m'\u001B[39m], columns\u001B[38;5;241m=\u001B[39mSENSE_PA[\u001B[38;5;124m'\u001B[39m\u001B[38;5;124mIncont.fec\u001B[39m\u001B[38;5;124m'\u001B[39m])\n\u001B[1;32m----> 3\u001B[0m chi2_23, p_value_23, dof_23, expected_13 \u001B[38;5;241m=\u001B[39m \u001B[43mchi2_contingency\u001B[49m\u001B[43m(\u001B[49m\u001B[43mcontingency_table_23\u001B[49m\u001B[43m)\u001B[49m\n\u001B[0;32m      5\u001B[0m \u001B[38;5;28mprint\u001B[39m(\u001B[38;5;124m\"\u001B[39m\u001B[38;5;124mEstadístic xi-quadrat entre AMB_PA_MECCV i SENSE_PA:\u001B[39m\u001B[38;5;124m\"\u001B[39m, chi2_23)\n\u001B[0;32m      6\u001B[0m \u001B[38;5;28mprint\u001B[39m(\u001B[38;5;124m\"\u001B[39m\u001B[38;5;124mP-valor entre AMB_PA_MECVV i SENSE_PA:\u001B[39m\u001B[38;5;124m\"\u001B[39m, p_value_23)\n",
      "File \u001B[1;32m~\\PycharmProjects\\PRACTICUM\\venv\\Lib\\site-packages\\scipy\\stats\\contingency.py:333\u001B[0m, in \u001B[0;36mchi2_contingency\u001B[1;34m(observed, correction, lambda_)\u001B[0m\n\u001B[0;32m    331\u001B[0m     \u001B[38;5;28;01mraise\u001B[39;00m \u001B[38;5;167;01mValueError\u001B[39;00m(\u001B[38;5;124m\"\u001B[39m\u001B[38;5;124mAll values in `observed` must be nonnegative.\u001B[39m\u001B[38;5;124m\"\u001B[39m)\n\u001B[0;32m    332\u001B[0m \u001B[38;5;28;01mif\u001B[39;00m observed\u001B[38;5;241m.\u001B[39msize \u001B[38;5;241m==\u001B[39m \u001B[38;5;241m0\u001B[39m:\n\u001B[1;32m--> 333\u001B[0m     \u001B[38;5;28;01mraise\u001B[39;00m \u001B[38;5;167;01mValueError\u001B[39;00m(\u001B[38;5;124m\"\u001B[39m\u001B[38;5;124mNo data; `observed` has size 0.\u001B[39m\u001B[38;5;124m\"\u001B[39m)\n\u001B[0;32m    335\u001B[0m expected \u001B[38;5;241m=\u001B[39m expected_freq(observed)\n\u001B[0;32m    336\u001B[0m \u001B[38;5;28;01mif\u001B[39;00m np\u001B[38;5;241m.\u001B[39many(expected \u001B[38;5;241m==\u001B[39m \u001B[38;5;241m0\u001B[39m):\n\u001B[0;32m    337\u001B[0m     \u001B[38;5;66;03m# Include one of the positions where expected is zero in\u001B[39;00m\n\u001B[0;32m    338\u001B[0m     \u001B[38;5;66;03m# the exception message.\u001B[39;00m\n",
      "\u001B[1;31mValueError\u001B[0m: No data; `observed` has size 0."
     ]
    }
   ],
   "execution_count": 97
  },
  {
   "metadata": {
    "ExecuteTime": {
     "end_time": "2024-05-03T10:15:02.230321Z",
     "start_time": "2024-05-03T10:15:02.222587Z"
    }
   },
   "cell_type": "code",
   "source": [
    "contingency_table_14 = pd.crosstab(index=AMB_PA['Incont.fec'], columns=TOTAL['Incont.fec'])\n",
    "\n",
    "chi2_14, p_value_14, dof_14, expected_14 = chi2_contingency(contingency_table_14)\n",
    "\n",
    "print(\"Estadístic xi-quadrat entre AMB_PA i TOTAL:\", chi2_14)\n",
    "print(\"P-valor entre AMB_PA i TOTAL:\", p_value_14)\n",
    "\n",
    "if p_value_14 < 0.05:\n",
    "    print(\"Hi ha diferències significatives entre les distribucions d'incontinència fecal en AMB_PA i TOTAL.\")\n",
    "else:\n",
    "    print(\"No hi ha diferències significatives entre les distribucions d'incontinència fecal en AMB_PA i TOTAL.\")"
   ],
   "id": "66207b14082651ee",
   "outputs": [
    {
     "name": "stdout",
     "output_type": "stream",
     "text": [
      "Estadístic xi-quadrat entre AMB_PA i TOTAL: 12.524513888888887\n",
      "P-valor entre AMB_PA i TOTAL: 0.00040164738150225485\n",
      "Hi ha diferències significatives entre les distribucions d'incontinència fecal en AMB_PA i TOTAL.\n"
     ]
    }
   ],
   "execution_count": 98
  },
  {
   "metadata": {
    "ExecuteTime": {
     "end_time": "2024-05-03T10:15:02.466369Z",
     "start_time": "2024-05-03T10:15:02.458150Z"
    }
   },
   "cell_type": "code",
   "source": [
    "contingency_table_24 = pd.crosstab(index=AMB_PA_MECVV['Incont.fec'], columns=TOTAL['Incont.fec'])\n",
    "\n",
    "chi2_24, p_value_24, dof_24, expected_24 = chi2_contingency(contingency_table_24)\n",
    "\n",
    "print(\"Estadístic xi-quadrat entre AMB_PA_MECVV i TOTAL:\", chi2_24)\n",
    "print(\"P-valor entre AMB_PA_MECVV i TOTAL:\", p_value_24)\n",
    "\n",
    "if p_value_24 < 0.05:\n",
    "    print(\"Hi ha diferències significatives entre les distribucions d'incontinència fecal en AMB_PA_MECVV i TOTAL.\")\n",
    "else:\n",
    "    print(\"No hi ha diferències significatives entre les distribucions d'incontinència fecal en AMB_PA_MECVV i TOTAL.\")"
   ],
   "id": "b7438dac26021413",
   "outputs": [
    {
     "name": "stdout",
     "output_type": "stream",
     "text": [
      "Estadístic xi-quadrat entre AMB_PA_MECVV i TOTAL: 3.5555555555555554\n",
      "P-valor entre AMB_PA_MECVV i TOTAL: 0.05934643879191998\n",
      "No hi ha diferències significatives entre les distribucions d'incontinència fecal en AMB_PA_MECVV i TOTAL.\n"
     ]
    }
   ],
   "execution_count": 99
  },
  {
   "metadata": {
    "ExecuteTime": {
     "end_time": "2024-05-03T10:15:02.835488Z",
     "start_time": "2024-05-03T10:15:02.828227Z"
    }
   },
   "cell_type": "code",
   "source": [
    "contingency_table_34 = pd.crosstab(index=SENSE_PA['Incont.fec'], columns=TOTAL['Incont.fec'])\n",
    "\n",
    "chi2_34, p_value_34, dof_34, expected_34 = chi2_contingency(contingency_table_34)\n",
    "\n",
    "print(\"Estadístic xi-quadrat entre SENSE_PA i TOTAL:\", chi2_34)\n",
    "print(\"P-valor entre SENSE_PA i TOTAL:\", p_value_34)\n",
    "\n",
    "if p_value_34 < 0.05:\n",
    "    print(\"Hi ha diferències significatives entre les distribucions d'incontinència fecal en SENSE_PA i TOTAL.\")\n",
    "else:\n",
    "    print(\"No hi ha diferències significatives entre les distribucions d'incontinència fecal en SENSE_PA i TOTAL.\")"
   ],
   "id": "46c509b655c5187c",
   "outputs": [
    {
     "name": "stdout",
     "output_type": "stream",
     "text": [
      "Estadístic xi-quadrat entre SENSE_PA i TOTAL: 0.0\n",
      "P-valor entre SENSE_PA i TOTAL: 1.0\n",
      "No hi ha diferències significatives entre les distribucions d'incontinència fecal en SENSE_PA i TOTAL.\n"
     ]
    }
   ],
   "execution_count": 100
  },
  {
   "metadata": {},
   "cell_type": "markdown",
   "source": [
    "## Úlceres de pressió"
   ],
   "id": "65897a5e1d05b6b6"
  },
  {
   "metadata": {
    "ExecuteTime": {
     "end_time": "2024-05-03T10:15:03.065107Z",
     "start_time": "2024-05-03T10:15:03.062143Z"
    }
   },
   "cell_type": "code",
   "source": [
    "up_AMB_PA= (AMB_PA['Úlceres pressió'] == 1.0).mean() * 100\n",
    "print(f\"Percentatge de úlceres de pressió: {up_AMB_PA:.2f}%\")"
   ],
   "id": "bcd7bdbcf538274a",
   "outputs": [
    {
     "name": "stdout",
     "output_type": "stream",
     "text": [
      "Percentatge de úlceres de pressió: 5.88%\n"
     ]
    }
   ],
   "execution_count": 101
  },
  {
   "metadata": {
    "ExecuteTime": {
     "end_time": "2024-05-03T10:15:03.452460Z",
     "start_time": "2024-05-03T10:15:03.448584Z"
    }
   },
   "cell_type": "code",
   "source": [
    "up_AMB_PA_MECVV= (AMB_PA_MECVV['Úlceres pressió'] == 1.0).mean() * 100\n",
    "print(f\"Percentatge de úlceres de pressió: {up_AMB_PA_MECVV:.2f}%\")"
   ],
   "id": "60a8a4eb517c269e",
   "outputs": [
    {
     "name": "stdout",
     "output_type": "stream",
     "text": [
      "Percentatge de úlceres de pressió: 0.00%\n"
     ]
    }
   ],
   "execution_count": 102
  },
  {
   "metadata": {
    "ExecuteTime": {
     "end_time": "2024-05-03T10:15:03.672681Z",
     "start_time": "2024-05-03T10:15:03.669508Z"
    }
   },
   "cell_type": "code",
   "source": [
    "up_SENSE_PA= (SENSE_PA['Úlceres pressió'] == 1.0).mean() * 100\n",
    "print(f\"Percentatge de úlceres de pressió: {up_SENSE_PA:.2f}%\")"
   ],
   "id": "4f223a88742c194a",
   "outputs": [
    {
     "name": "stdout",
     "output_type": "stream",
     "text": [
      "Percentatge de úlceres de pressió: 0.00%\n"
     ]
    }
   ],
   "execution_count": 103
  },
  {
   "metadata": {
    "ExecuteTime": {
     "end_time": "2024-05-03T10:15:04.032208Z",
     "start_time": "2024-05-03T10:15:04.028417Z"
    }
   },
   "cell_type": "code",
   "source": [
    "up_TOTAL= (TOTAL['Úlceres pressió'] == 1.0).mean() * 100\n",
    "print(f\"Percentatge de úlceres de pressió: {up_TOTAL:.2f}%\")"
   ],
   "id": "cfff3027971929bf",
   "outputs": [
    {
     "name": "stdout",
     "output_type": "stream",
     "text": [
      "Percentatge de úlceres de pressió: 2.00%\n"
     ]
    }
   ],
   "execution_count": 104
  },
  {
   "metadata": {},
   "cell_type": "markdown",
   "source": [
    "#### Pvalor"
   ],
   "id": "c3fe3f599bce65ef"
  },
  {
   "metadata": {},
   "cell_type": "markdown",
   "source": [
    "##### Normalitat"
   ],
   "id": "930dd9949adee28b"
  },
  {
   "metadata": {
    "ExecuteTime": {
     "end_time": "2024-05-03T10:15:04.268264Z",
     "start_time": "2024-05-03T10:15:04.264264Z"
    }
   },
   "cell_type": "code",
   "source": [
    "stat, p_value = shapiro(AMB_PA['Úlceres pressió'])\n",
    "print(f\"Estadístic W = {stat:.4f}\")\n",
    "print(f\"Valor p = {p_value:.4f}\")\n",
    "\n",
    "alpha = 0.05\n",
    "if p_value < alpha:\n",
    "    print(\"El nombre de files no segueix una distribució normal.\")\n",
    "else:\n",
    "    print(\"El nombre de files segueix una distribució normal\")"
   ],
   "id": "d50787664b68bc94",
   "outputs": [
    {
     "name": "stdout",
     "output_type": "stream",
     "text": [
      "Estadístic W = 0.2622\n",
      "Valor p = 0.0000\n",
      "El nombre de files no segueix una distribució normal.\n"
     ]
    }
   ],
   "execution_count": 105
  },
  {
   "metadata": {
    "ExecuteTime": {
     "end_time": "2024-05-03T10:15:04.656390Z",
     "start_time": "2024-05-03T10:15:04.651962Z"
    }
   },
   "cell_type": "code",
   "source": [
    "stat, p_value = shapiro(AMB_PA_MECVV['Úlceres pressió'])\n",
    "print(f\"Estadístic W = {stat:.4f}\")\n",
    "print(f\"Valor p = {p_value:.4f}\")\n",
    "\n",
    "alpha = 0.05\n",
    "if p_value < alpha:\n",
    "    print(\"El nombre de files no segueix una distribució normal.\")\n",
    "else:\n",
    "    print(\"El nombre de files segueix una distribució normal\")"
   ],
   "id": "19799093c5abeaea",
   "outputs": [
    {
     "name": "stdout",
     "output_type": "stream",
     "text": [
      "Estadístic W = 1.0000\n",
      "Valor p = 1.0000\n",
      "El nombre de files segueix una distribució normal\n"
     ]
    },
    {
     "name": "stderr",
     "output_type": "stream",
     "text": [
      "C:\\Users\\User\\PycharmProjects\\PRACTICUM\\venv\\Lib\\site-packages\\scipy\\stats\\_axis_nan_policy.py:531: UserWarning: scipy.stats.shapiro: Input data has range zero. The results may not be accurate.\n",
      "  res = hypotest_fun_out(*samples, **kwds)\n"
     ]
    }
   ],
   "execution_count": 106
  },
  {
   "metadata": {
    "ExecuteTime": {
     "end_time": "2024-05-03T10:15:04.878377Z",
     "start_time": "2024-05-03T10:15:04.873376Z"
    }
   },
   "cell_type": "code",
   "source": [
    "stat, p_value = shapiro(SENSE_PA['Úlceres pressió'])\n",
    "print(f\"Estadístic W = {stat:.4f}\")\n",
    "print(f\"Valor p = {p_value:.4f}\")\n",
    "\n",
    "alpha = 0.05\n",
    "if p_value < alpha:\n",
    "    print(\"El nombre de files no segueix una distribució normal.\")\n",
    "else:\n",
    "    print(\"El nombre de files segueix una distribució normal\")"
   ],
   "id": "3cca1f862eaa0767",
   "outputs": [
    {
     "name": "stdout",
     "output_type": "stream",
     "text": [
      "Estadístic W = 1.0000\n",
      "Valor p = 1.0000\n",
      "El nombre de files segueix una distribució normal\n"
     ]
    }
   ],
   "execution_count": 107
  },
  {
   "metadata": {
    "ExecuteTime": {
     "end_time": "2024-05-03T10:15:05.249055Z",
     "start_time": "2024-05-03T10:15:05.244416Z"
    }
   },
   "cell_type": "code",
   "source": [
    "stat, p_value = shapiro(TOTAL['Úlceres pressió'])\n",
    "print(f\"Estadístic W = {stat:.4f}\")\n",
    "print(f\"Valor p = {p_value:.4f}\")\n",
    "\n",
    "alpha = 0.05\n",
    "if p_value < alpha:\n",
    "    print(\"El nombre de files no segueix una distribució normal.\")\n",
    "else:\n",
    "    print(\"El nombre de files segueix una distribució normal\")"
   ],
   "id": "83622b704d3cc4a8",
   "outputs": [
    {
     "name": "stdout",
     "output_type": "stream",
     "text": [
      "Estadístic W = 0.1254\n",
      "Valor p = 0.0000\n",
      "El nombre de files no segueix una distribució normal.\n"
     ]
    }
   ],
   "execution_count": 108
  },
  {
   "metadata": {
    "ExecuteTime": {
     "end_time": "2024-05-03T10:15:05.529300Z",
     "start_time": "2024-05-03T10:15:05.521680Z"
    }
   },
   "cell_type": "code",
   "source": [
    "contingency_table_12 = pd.crosstab(index=AMB_PA['Úlceres pressió'], columns=AMB_PA_MECVV['Úlceres pressió'])\n",
    "\n",
    "chi2_12, p_value_12, dof_12, expected_12 = chi2_contingency(contingency_table_12)\n",
    "\n",
    "print(\"Estadístic xi-quadrat entre AMB_PA i AMB_PA_MECVV:\", chi2_12)\n",
    "print(\"P-valor entre AMB_PA i AMB_PA_MECVV:\", p_value_12)\n",
    "\n",
    "if p_value_12 < 0.05:\n",
    "    print(\"Hi ha diferències significatives entre les distribucions d'úlceres de pressió en AMB_PA i AMB_PA_MECVV.\")\n",
    "else:\n",
    "    print(\"No hi ha diferències significatives entre les distribucions d'úlceres de pressió en AMB_PA i AMB_PA_MECVV.\")\n"
   ],
   "id": "6293a3abfe3649ba",
   "outputs": [
    {
     "name": "stdout",
     "output_type": "stream",
     "text": [
      "Estadístic xi-quadrat entre AMB_PA i AMB_PA_MECVV: 0.0\n",
      "P-valor entre AMB_PA i AMB_PA_MECVV: 1.0\n",
      "No hi ha diferències significatives entre les distribucions d'úlceres de pressió en AMB_PA i AMB_PA_MECVV.\n"
     ]
    }
   ],
   "execution_count": 109
  },
  {
   "metadata": {
    "ExecuteTime": {
     "end_time": "2024-05-03T10:15:05.904846Z",
     "start_time": "2024-05-03T10:15:05.897446Z"
    }
   },
   "cell_type": "code",
   "source": [
    "contingency_table_13 = pd.crosstab(index=AMB_PA['Úlceres pressió'], columns=SENSE_PA['Úlceres pressió'])\n",
    "\n",
    "chi2_13, p_value_13, dof_13, expected_13 = chi2_contingency(contingency_table_13)\n",
    "\n",
    "print(\"Estadístic xi-quadrat entre AMB_PA i SENSE_PA:\", chi2_13)\n",
    "print(\"P-valor entre AMB_PA i SENSE_PA:\", p_value_13)\n",
    "\n",
    "if p_value_13 < 0.05:\n",
    "    print(\"Hi ha diferències significatives entre les distribucions d'úlceres de pressió en AMB_PA i SENSE_PA.\")\n",
    "else:\n",
    "    print(\"No hi ha diferències significatives entre les distribucions d'úlceres de pressió en AMB_PA i SENSE_PA.\")\n"
   ],
   "id": "3ba7e80f539a2cd8",
   "outputs": [
    {
     "name": "stdout",
     "output_type": "stream",
     "text": [
      "Estadístic xi-quadrat entre AMB_PA i SENSE_PA: 0.0\n",
      "P-valor entre AMB_PA i SENSE_PA: 1.0\n",
      "No hi ha diferències significatives entre les distribucions d'úlceres de pressió en AMB_PA i SENSE_PA.\n"
     ]
    }
   ],
   "execution_count": 110
  },
  {
   "metadata": {
    "ExecuteTime": {
     "end_time": "2024-05-03T10:59:54.371892Z",
     "start_time": "2024-05-03T10:59:54.346640Z"
    }
   },
   "cell_type": "code",
   "source": [
    "contingency_table_23 = pd.crosstab(index=AMB_PA_MECVV['Úlceres pressió'], columns=SENSE_PA['Úlceres pressió'])\n",
    "\n",
    "chi2_23, p_value_23, dof_23, expected_23 = chi2_contingency(contingency_table_23)\n",
    "\n",
    "print(\"Estadístic xi-quadrat entre AMB_PA_MECCV i SENSE_PA:\", chi2_23)\n",
    "print(\"P-valor entre AMB_PA_MECVV i SENSE_PA:\", p_value_23)\n",
    "\n",
    "if p_value_23 < 0.05:\n",
    "    print(\"Hi ha diferències significatives entre les distribucions d'úlceres de pressió en AMB_PA_MECVV i SENSE_PA.\")\n",
    "else:\n",
    "    print(\"No hi ha diferències significatives entre les distribucions d'úlceres de pressió en AMB_PA_MECVV i SENSE_PA.\")"
   ],
   "id": "2119f64854a199b9",
   "outputs": [
    {
     "ename": "ValueError",
     "evalue": "No data; `observed` has size 0.",
     "output_type": "error",
     "traceback": [
      "\u001B[1;31m---------------------------------------------------------------------------\u001B[0m",
      "\u001B[1;31mValueError\u001B[0m                                Traceback (most recent call last)",
      "Cell \u001B[1;32mIn[309], line 3\u001B[0m\n\u001B[0;32m      1\u001B[0m contingency_table_23 \u001B[38;5;241m=\u001B[39m pd\u001B[38;5;241m.\u001B[39mcrosstab(index\u001B[38;5;241m=\u001B[39mAMB_PA_MECVV[\u001B[38;5;124m'\u001B[39m\u001B[38;5;124mÚlceres pressió\u001B[39m\u001B[38;5;124m'\u001B[39m], columns\u001B[38;5;241m=\u001B[39mSENSE_PA[\u001B[38;5;124m'\u001B[39m\u001B[38;5;124mÚlceres pressió\u001B[39m\u001B[38;5;124m'\u001B[39m])\n\u001B[1;32m----> 3\u001B[0m chi2_23, p_value_23, dof_23, expected_23 \u001B[38;5;241m=\u001B[39m \u001B[43mchi2_contingency\u001B[49m\u001B[43m(\u001B[49m\u001B[43mcontingency_table_23\u001B[49m\u001B[43m)\u001B[49m\n\u001B[0;32m      5\u001B[0m \u001B[38;5;28mprint\u001B[39m(\u001B[38;5;124m\"\u001B[39m\u001B[38;5;124mEstadístic xi-quadrat entre AMB_PA_MECCV i SENSE_PA:\u001B[39m\u001B[38;5;124m\"\u001B[39m, chi2_23)\n\u001B[0;32m      6\u001B[0m \u001B[38;5;28mprint\u001B[39m(\u001B[38;5;124m\"\u001B[39m\u001B[38;5;124mP-valor entre AMB_PA_MECVV i SENSE_PA:\u001B[39m\u001B[38;5;124m\"\u001B[39m, p_value_23)\n",
      "File \u001B[1;32m~\\PycharmProjects\\PRACTICUM\\venv\\Lib\\site-packages\\scipy\\stats\\contingency.py:333\u001B[0m, in \u001B[0;36mchi2_contingency\u001B[1;34m(observed, correction, lambda_)\u001B[0m\n\u001B[0;32m    331\u001B[0m     \u001B[38;5;28;01mraise\u001B[39;00m \u001B[38;5;167;01mValueError\u001B[39;00m(\u001B[38;5;124m\"\u001B[39m\u001B[38;5;124mAll values in `observed` must be nonnegative.\u001B[39m\u001B[38;5;124m\"\u001B[39m)\n\u001B[0;32m    332\u001B[0m \u001B[38;5;28;01mif\u001B[39;00m observed\u001B[38;5;241m.\u001B[39msize \u001B[38;5;241m==\u001B[39m \u001B[38;5;241m0\u001B[39m:\n\u001B[1;32m--> 333\u001B[0m     \u001B[38;5;28;01mraise\u001B[39;00m \u001B[38;5;167;01mValueError\u001B[39;00m(\u001B[38;5;124m\"\u001B[39m\u001B[38;5;124mNo data; `observed` has size 0.\u001B[39m\u001B[38;5;124m\"\u001B[39m)\n\u001B[0;32m    335\u001B[0m expected \u001B[38;5;241m=\u001B[39m expected_freq(observed)\n\u001B[0;32m    336\u001B[0m \u001B[38;5;28;01mif\u001B[39;00m np\u001B[38;5;241m.\u001B[39many(expected \u001B[38;5;241m==\u001B[39m \u001B[38;5;241m0\u001B[39m):\n\u001B[0;32m    337\u001B[0m     \u001B[38;5;66;03m# Include one of the positions where expected is zero in\u001B[39;00m\n\u001B[0;32m    338\u001B[0m     \u001B[38;5;66;03m# the exception message.\u001B[39;00m\n",
      "\u001B[1;31mValueError\u001B[0m: No data; `observed` has size 0."
     ]
    }
   ],
   "execution_count": 309
  },
  {
   "metadata": {
    "ExecuteTime": {
     "end_time": "2024-05-03T10:15:06.697429Z",
     "start_time": "2024-05-03T10:15:06.689427Z"
    }
   },
   "cell_type": "code",
   "source": [
    "contingency_table_14 = pd.crosstab(index=AMB_PA['Úlceres pressió'], columns=TOTAL['Úlceres pressió'])\n",
    "\n",
    "chi2_14, p_value_14, dof_14, expected_14 = chi2_contingency(contingency_table_14)\n",
    "\n",
    "print(\"Estadístic xi-quadrat entre AMB_PA i TOTAL:\", chi2_14)\n",
    "print(\"P-valor entre AMB_PA i TOTAL:\", p_value_14)\n",
    "\n",
    "if p_value_14 < 0.05:\n",
    "    print(\"Hi ha diferències significatives entre les distribucions d'úlceres de pressió en AMB_PA i TOTAL.\")\n",
    "else:\n",
    "    print(\"No hi ha diferències significatives entre les distribucions d'úlceres de pressió en AMB_PA i TOTAL.\")\n"
   ],
   "id": "1db9aeec067c61b6",
   "outputs": [
    {
     "name": "stdout",
     "output_type": "stream",
     "text": [
      "Estadístic xi-quadrat entre AMB_PA i TOTAL: 3.7353515625\n",
      "P-valor entre AMB_PA i TOTAL: 0.053272454982386926\n",
      "No hi ha diferències significatives entre les distribucions d'úlceres de pressió en AMB_PA i TOTAL.\n"
     ]
    }
   ],
   "execution_count": 112
  },
  {
   "metadata": {
    "ExecuteTime": {
     "end_time": "2024-05-03T10:15:06.959644Z",
     "start_time": "2024-05-03T10:15:06.951487Z"
    }
   },
   "cell_type": "code",
   "source": [
    "contingency_table_24 = pd.crosstab(index=AMB_PA_MECVV['Úlceres pressió'], columns=TOTAL['Úlceres pressió'])\n",
    "\n",
    "chi2_24, p_value_24, dof_24, expected_24 = chi2_contingency(contingency_table_24)\n",
    "\n",
    "print(\"Estadístic xi-quadrat entre AMB_PA_MECVV i TOTAL:\", chi2_24)\n",
    "print(\"P-valor entre AMB_PA_MECVV i TOTAL:\", p_value_24)\n",
    "\n",
    "if p_value_24 < 0.05:\n",
    "    print(\"Hi ha diferències significatives entre les distribucions d'úlceres de pressió en AMB_PA_MECVV i TOTAL.\")\n",
    "else:\n",
    "    print(\"No hi ha diferències significatives entre les distribucions d'úlceres de pressió en AMB_PA_MECVV i TOTAL.\")\n"
   ],
   "id": "b8fead5f9e8c3e2e",
   "outputs": [
    {
     "name": "stdout",
     "output_type": "stream",
     "text": [
      "Estadístic xi-quadrat entre AMB_PA_MECVV i TOTAL: 0.0\n",
      "P-valor entre AMB_PA_MECVV i TOTAL: 1.0\n",
      "No hi ha diferències significatives entre les distribucions d'úlceres de pressió en AMB_PA_MECVV i TOTAL.\n"
     ]
    }
   ],
   "execution_count": 113
  },
  {
   "metadata": {
    "ExecuteTime": {
     "end_time": "2024-05-03T10:15:07.297674Z",
     "start_time": "2024-05-03T10:15:07.290718Z"
    }
   },
   "cell_type": "code",
   "source": [
    "contingency_table_34 = pd.crosstab(index=SENSE_PA['Úlceres pressió'], columns=TOTAL['Úlceres pressió'])\n",
    "\n",
    "chi2_34, p_value_34, dof_34, expected_34 = chi2_contingency(contingency_table_34)\n",
    "\n",
    "print(\"Estadístic xi-quadrat entre SENSE_PA i TOTAL:\", chi2_34)\n",
    "print(\"P-valor entre SENSE_PA i TOTAL:\", p_value_34)\n",
    "\n",
    "if p_value_34 < 0.05:\n",
    "    print(\"Hi ha diferències significatives entre les distribucions d'úlceres de pressió en SENSE_PA i TOTAL.\")\n",
    "else:\n",
    "    print(\"No hi ha diferències significatives entre les distribucions d'úlceres de pressió en SENSE_PA i TOTAL.\")\n"
   ],
   "id": "8bd020bbd05b53b4",
   "outputs": [
    {
     "name": "stdout",
     "output_type": "stream",
     "text": [
      "Estadístic xi-quadrat entre SENSE_PA i TOTAL: 0.0\n",
      "P-valor entre SENSE_PA i TOTAL: 1.0\n",
      "No hi ha diferències significatives entre les distribucions d'úlceres de pressió en SENSE_PA i TOTAL.\n"
     ]
    }
   ],
   "execution_count": 114
  },
  {
   "metadata": {},
   "cell_type": "markdown",
   "source": "## Immobilitat",
   "id": "9a5af8b151f24d"
  },
  {
   "metadata": {
    "ExecuteTime": {
     "end_time": "2024-05-03T10:15:07.511286Z",
     "start_time": "2024-05-03T10:15:07.507860Z"
    }
   },
   "cell_type": "code",
   "source": [
    "imm_AMB_PA= (AMB_PA['Immobilitat'] == 1.0).mean() * 100\n",
    "print(f\"Percentatge d'immobilitat : {imm_AMB_PA:.2f}%\")"
   ],
   "id": "20403b79d0d107f1",
   "outputs": [
    {
     "name": "stdout",
     "output_type": "stream",
     "text": [
      "Percentatge d'immobilitat : 0.00%\n"
     ]
    }
   ],
   "execution_count": 115
  },
  {
   "metadata": {
    "ExecuteTime": {
     "end_time": "2024-05-03T10:16:29.430329Z",
     "start_time": "2024-05-03T10:16:29.426328Z"
    }
   },
   "cell_type": "code",
   "source": [
    "imm_AMB_PA_MECVV= (AMB_PA_MECVV['Immobilitat'] == 1.0).mean() * 100\n",
    "print(f\"Percentatge d'immobilitat : {imm_AMB_PA_MECVV:.2f}%\")"
   ],
   "id": "c0213526b1aa2176",
   "outputs": [
    {
     "name": "stdout",
     "output_type": "stream",
     "text": [
      "Percentatge d'immobilitat : 0.00%\n"
     ]
    }
   ],
   "execution_count": 296
  },
  {
   "metadata": {
    "ExecuteTime": {
     "end_time": "2024-05-03T10:16:33.371143Z",
     "start_time": "2024-05-03T10:16:33.367196Z"
    }
   },
   "cell_type": "code",
   "source": [
    "imm_SENSE_PA= (SENSE_PA['Immobilitat'] == 1.0).mean() * 100\n",
    "print(f\"Percentatge d'immobilitat : {imm_SENSE_PA:.2f}%\")"
   ],
   "id": "74a797ae927f6554",
   "outputs": [
    {
     "name": "stdout",
     "output_type": "stream",
     "text": [
      "Percentatge d'immobilitat : 0.00%\n"
     ]
    }
   ],
   "execution_count": 297
  },
  {
   "metadata": {
    "ExecuteTime": {
     "end_time": "2024-05-03T10:53:28.956985Z",
     "start_time": "2024-05-03T10:53:28.953375Z"
    }
   },
   "cell_type": "code",
   "source": [
    "imm_TOTAL= (TOTAL['Immobilitat'] == 1.0).mean() * 100\n",
    "print(f\"Percentatge d'immobilitat : {imm_TOTAL:.2f}%\")"
   ],
   "id": "a3e7b830604aff3c",
   "outputs": [
    {
     "name": "stdout",
     "output_type": "stream",
     "text": [
      "Percentatge d'immobilitat : 0.00%\n"
     ]
    }
   ],
   "execution_count": 298
  },
  {
   "metadata": {},
   "cell_type": "markdown",
   "source": [
    "#### Pvalor"
   ],
   "id": "be6caeebf7499d9b"
  },
  {
   "metadata": {},
   "cell_type": "markdown",
   "source": [
    "##### Normalitat"
   ],
   "id": "aa4a2989248ba61e"
  },
  {
   "metadata": {
    "ExecuteTime": {
     "end_time": "2024-05-03T10:53:38.736241Z",
     "start_time": "2024-05-03T10:53:38.732673Z"
    }
   },
   "cell_type": "code",
   "source": [
    "stat, p_value = shapiro(AMB_PA['Immobilitat'])\n",
    "print(f\"Estadístic W = {stat:.4f}\")\n",
    "print(f\"Valor p = {p_value:.4f}\")\n",
    "\n",
    "alpha = 0.05\n",
    "if p_value < alpha:\n",
    "    print(\"El nombre de files no segueix una distribució normal.\")\n",
    "else:\n",
    "    print(\"El nombre de files segueix una distribució normal\")"
   ],
   "id": "ce59d8aa3cdde852",
   "outputs": [
    {
     "name": "stdout",
     "output_type": "stream",
     "text": [
      "Estadístic W = 1.0000\n",
      "Valor p = 1.0000\n",
      "El nombre de files segueix una distribució normal\n"
     ]
    },
    {
     "name": "stderr",
     "output_type": "stream",
     "text": [
      "C:\\Users\\User\\PycharmProjects\\PRACTICUM\\venv\\Lib\\site-packages\\scipy\\stats\\_axis_nan_policy.py:531: UserWarning: scipy.stats.shapiro: Input data has range zero. The results may not be accurate.\n",
      "  res = hypotest_fun_out(*samples, **kwds)\n"
     ]
    }
   ],
   "execution_count": 299
  },
  {
   "metadata": {
    "ExecuteTime": {
     "end_time": "2024-05-03T10:53:42.719834Z",
     "start_time": "2024-05-03T10:53:42.716258Z"
    }
   },
   "cell_type": "code",
   "source": [
    "stat, p_value = shapiro(AMB_PA_MECVV['Immobilitat'])\n",
    "print(f\"Estadístic W = {stat:.4f}\")\n",
    "print(f\"Valor p = {p_value:.4f}\")\n",
    "\n",
    "alpha = 0.05\n",
    "if p_value < alpha:\n",
    "    print(\"El nombre de files no segueix una distribució normal.\")\n",
    "else:\n",
    "    print(\"El nombre de files segueix una distribució normal\")"
   ],
   "id": "2b043412d8910c5f",
   "outputs": [
    {
     "name": "stdout",
     "output_type": "stream",
     "text": [
      "Estadístic W = 1.0000\n",
      "Valor p = 1.0000\n",
      "El nombre de files segueix una distribució normal\n"
     ]
    },
    {
     "name": "stderr",
     "output_type": "stream",
     "text": [
      "C:\\Users\\User\\PycharmProjects\\PRACTICUM\\venv\\Lib\\site-packages\\scipy\\stats\\_axis_nan_policy.py:531: UserWarning: scipy.stats.shapiro: Input data has range zero. The results may not be accurate.\n",
      "  res = hypotest_fun_out(*samples, **kwds)\n"
     ]
    }
   ],
   "execution_count": 300
  },
  {
   "metadata": {
    "ExecuteTime": {
     "end_time": "2024-05-03T10:53:49.412830Z",
     "start_time": "2024-05-03T10:53:49.408983Z"
    }
   },
   "cell_type": "code",
   "source": [
    "stat, p_value = shapiro(SENSE_PA['Immobilitat'])\n",
    "print(f\"Estadístic W = {stat:.4f}\")\n",
    "print(f\"Valor p = {p_value:.4f}\")\n",
    "\n",
    "alpha = 0.05\n",
    "if p_value < alpha:\n",
    "    print(\"El nombre de files no segueix una distribució normal.\")\n",
    "else:\n",
    "    print(\"El nombre de files segueix una distribució normal\")"
   ],
   "id": "2ca3e52029b48710",
   "outputs": [
    {
     "name": "stdout",
     "output_type": "stream",
     "text": [
      "Estadístic W = 1.0000\n",
      "Valor p = 1.0000\n",
      "El nombre de files segueix una distribució normal\n"
     ]
    },
    {
     "name": "stderr",
     "output_type": "stream",
     "text": [
      "C:\\Users\\User\\PycharmProjects\\PRACTICUM\\venv\\Lib\\site-packages\\scipy\\stats\\_axis_nan_policy.py:531: UserWarning: scipy.stats.shapiro: Input data has range zero. The results may not be accurate.\n",
      "  res = hypotest_fun_out(*samples, **kwds)\n"
     ]
    }
   ],
   "execution_count": 301
  },
  {
   "metadata": {
    "ExecuteTime": {
     "end_time": "2024-05-03T10:54:05.310575Z",
     "start_time": "2024-05-03T10:54:05.305911Z"
    }
   },
   "cell_type": "code",
   "source": [
    "stat, p_value = shapiro(TOTAL['Immobilitat'])\n",
    "print(f\"Estadístic W = {stat:.4f}\")\n",
    "print(f\"Valor p = {p_value:.4f}\")\n",
    "\n",
    "alpha = 0.05\n",
    "if p_value < alpha:\n",
    "    print(\"El nombre de files no segueix una distribució normal.\")\n",
    "else:\n",
    "    print(\"El nombre de files segueix una distribució normal\")"
   ],
   "id": "ad4a6a03df888bb6",
   "outputs": [
    {
     "name": "stdout",
     "output_type": "stream",
     "text": [
      "Estadístic W = 1.0000\n",
      "Valor p = 1.0000\n",
      "El nombre de files segueix una distribució normal\n"
     ]
    },
    {
     "name": "stderr",
     "output_type": "stream",
     "text": [
      "C:\\Users\\User\\PycharmProjects\\PRACTICUM\\venv\\Lib\\site-packages\\scipy\\stats\\_axis_nan_policy.py:531: UserWarning: scipy.stats.shapiro: Input data has range zero. The results may not be accurate.\n",
      "  res = hypotest_fun_out(*samples, **kwds)\n"
     ]
    }
   ],
   "execution_count": 303
  },
  {
   "metadata": {
    "ExecuteTime": {
     "end_time": "2024-05-03T10:56:23.157799Z",
     "start_time": "2024-05-03T10:56:23.149488Z"
    }
   },
   "cell_type": "code",
   "source": [
    "contingency_table_12 = pd.crosstab(index=AMB_PA['Immobilitat'], columns=AMB_PA_MECVV['Immobilitat']) \n",
    " \n",
    "chi2_12, p_value_12, dof_12, expected_12 = chi2_contingency(contingency_table_12) \n",
    " \n",
    "print(\"Estadístic xi-quadrat entre AMB_PA i AMB_PA_MECVV:\", chi2_12) \n",
    "print(\"P-valor entre AMB_PA i AMB_PA_MECVV:\", p_value_12) \n",
    " \n",
    "if p_value_12 < 0.05: \n",
    "    print(\"Hi ha diferències significatives entre les distribucions d'immobilitat en AMB_PA i AMB_PA_MECVV.\") \n",
    "else: \n",
    "    print(\"No hi ha diferències significatives entre les distribucions d'immobilitat en AMB_PA i AMB_PA_MECVV.\") "
   ],
   "id": "105064a7aa9dc9d8",
   "outputs": [
    {
     "name": "stdout",
     "output_type": "stream",
     "text": [
      "Estadístic xi-quadrat entre AMB_PA i AMB_PA_MECVV: 0.0\n",
      "P-valor entre AMB_PA i AMB_PA_MECVV: 1.0\n",
      "No hi ha diferències significatives entre les distribucions d'immobilitat en AMB_PA i AMB_PA_MECVV.\n"
     ]
    }
   ],
   "execution_count": 304
  },
  {
   "metadata": {
    "ExecuteTime": {
     "end_time": "2024-05-03T10:57:22.037482Z",
     "start_time": "2024-05-03T10:57:22.029889Z"
    }
   },
   "cell_type": "code",
   "source": [
    "contingency_table_13 = pd.crosstab(index=AMB_PA['Immobilitat'], columns=SENSE_PA['Immobilitat']) \n",
    " \n",
    "chi2_13, p_value_13, dof_13, expected_13 = chi2_contingency(contingency_table_13) \n",
    " \n",
    "print(\"Estadístic xi-quadrat entre AMB_PA i SENSE_PA:\", chi2_13) \n",
    "print(\"P-valor entre AMB_PA i SENSE_PA:\", p_value_13) \n",
    " \n",
    "if p_value_13 < 0.05: \n",
    "    print(\"Hi ha diferències significatives entre les distribucions d'immobilitat en AMB_PA i SENSE_PA.\") \n",
    "else: \n",
    "    print(\"No hi ha diferències significatives entre les distribucions d'immobilitat en AMB_PA i SENSE_PA.\") "
   ],
   "id": "2d3377e567434550",
   "outputs": [
    {
     "name": "stdout",
     "output_type": "stream",
     "text": [
      "Estadístic xi-quadrat entre AMB_PA i SENSE_PA: 0.0\n",
      "P-valor entre AMB_PA i SENSE_PA: 1.0\n",
      "No hi ha diferències significatives entre les distribucions d'immobilitat en AMB_PA i SENSE_PA.\n"
     ]
    }
   ],
   "execution_count": 305
  },
  {
   "metadata": {
    "ExecuteTime": {
     "end_time": "2024-05-03T10:59:28.296883Z",
     "start_time": "2024-05-03T10:59:28.272519Z"
    }
   },
   "cell_type": "code",
   "source": [
    "contingency_table_23 = pd.crosstab(index=AMB_PA_MECVV['Immobilitat'], columns=SENSE_PA['Immobilitat']) \n",
    " \n",
    "chi2_23, p_value_23, dof_23, expected_23 = chi2_contingency(contingency_table_23) \n",
    " \n",
    "print(\"Estadístic xi-quadrat entre AMB_PA_MECCV i SENSE_PA:\", chi2_23) \n",
    "print(\"P-valor entre AMB_PA_MECVV i SENSE_PA:\", p_value_23) \n",
    " \n",
    "if p_value_23 < 0.05: \n",
    "    print(\"Hi ha diferències significatives entre les distribucions d'immobilitat en AMB_PA_MECVV i SENSE_PA.\") \n",
    "else: \n",
    "    print(\"No hi ha diferències significatives entre les distribucions d'immobilitat en AMB_PA_MECVV i SENSE_PA.\") \n"
   ],
   "id": "e1b737f2b2eb5d6a",
   "outputs": [
    {
     "ename": "ValueError",
     "evalue": "No data; `observed` has size 0.",
     "output_type": "error",
     "traceback": [
      "\u001B[1;31m---------------------------------------------------------------------------\u001B[0m",
      "\u001B[1;31mValueError\u001B[0m                                Traceback (most recent call last)",
      "Cell \u001B[1;32mIn[308], line 3\u001B[0m\n\u001B[0;32m      1\u001B[0m contingency_table_23 \u001B[38;5;241m=\u001B[39m pd\u001B[38;5;241m.\u001B[39mcrosstab(index\u001B[38;5;241m=\u001B[39mAMB_PA_MECVV[\u001B[38;5;124m'\u001B[39m\u001B[38;5;124mImmobilitat\u001B[39m\u001B[38;5;124m'\u001B[39m], columns\u001B[38;5;241m=\u001B[39mSENSE_PA[\u001B[38;5;124m'\u001B[39m\u001B[38;5;124mImmobilitat\u001B[39m\u001B[38;5;124m'\u001B[39m]) \n\u001B[1;32m----> 3\u001B[0m chi2_23, p_value_23, dof_23, expected_23 \u001B[38;5;241m=\u001B[39m \u001B[43mchi2_contingency\u001B[49m\u001B[43m(\u001B[49m\u001B[43mcontingency_table_23\u001B[49m\u001B[43m)\u001B[49m \n\u001B[0;32m      5\u001B[0m \u001B[38;5;28mprint\u001B[39m(\u001B[38;5;124m\"\u001B[39m\u001B[38;5;124mEstadístic xi-quadrat entre AMB_PA_MECCV i SENSE_PA:\u001B[39m\u001B[38;5;124m\"\u001B[39m, chi2_23) \n\u001B[0;32m      6\u001B[0m \u001B[38;5;28mprint\u001B[39m(\u001B[38;5;124m\"\u001B[39m\u001B[38;5;124mP-valor entre AMB_PA_MECVV i SENSE_PA:\u001B[39m\u001B[38;5;124m\"\u001B[39m, p_value_23) \n",
      "File \u001B[1;32m~\\PycharmProjects\\PRACTICUM\\venv\\Lib\\site-packages\\scipy\\stats\\contingency.py:333\u001B[0m, in \u001B[0;36mchi2_contingency\u001B[1;34m(observed, correction, lambda_)\u001B[0m\n\u001B[0;32m    331\u001B[0m     \u001B[38;5;28;01mraise\u001B[39;00m \u001B[38;5;167;01mValueError\u001B[39;00m(\u001B[38;5;124m\"\u001B[39m\u001B[38;5;124mAll values in `observed` must be nonnegative.\u001B[39m\u001B[38;5;124m\"\u001B[39m)\n\u001B[0;32m    332\u001B[0m \u001B[38;5;28;01mif\u001B[39;00m observed\u001B[38;5;241m.\u001B[39msize \u001B[38;5;241m==\u001B[39m \u001B[38;5;241m0\u001B[39m:\n\u001B[1;32m--> 333\u001B[0m     \u001B[38;5;28;01mraise\u001B[39;00m \u001B[38;5;167;01mValueError\u001B[39;00m(\u001B[38;5;124m\"\u001B[39m\u001B[38;5;124mNo data; `observed` has size 0.\u001B[39m\u001B[38;5;124m\"\u001B[39m)\n\u001B[0;32m    335\u001B[0m expected \u001B[38;5;241m=\u001B[39m expected_freq(observed)\n\u001B[0;32m    336\u001B[0m \u001B[38;5;28;01mif\u001B[39;00m np\u001B[38;5;241m.\u001B[39many(expected \u001B[38;5;241m==\u001B[39m \u001B[38;5;241m0\u001B[39m):\n\u001B[0;32m    337\u001B[0m     \u001B[38;5;66;03m# Include one of the positions where expected is zero in\u001B[39;00m\n\u001B[0;32m    338\u001B[0m     \u001B[38;5;66;03m# the exception message.\u001B[39;00m\n",
      "\u001B[1;31mValueError\u001B[0m: No data; `observed` has size 0."
     ]
    }
   ],
   "execution_count": 308
  },
  {
   "metadata": {
    "ExecuteTime": {
     "end_time": "2024-05-03T10:59:05.924996Z",
     "start_time": "2024-05-03T10:59:05.917417Z"
    }
   },
   "cell_type": "code",
   "source": [
    "contingency_table_14 = pd.crosstab(index=AMB_PA['Immobilitat'], columns=TOTAL['Immobilitat']) \n",
    " \n",
    "chi2_14, p_value_14, dof_14, expected_14 = chi2_contingency(contingency_table_14) \n",
    " \n",
    "print(\"Estadístic xi-quadrat entre AMB_PA i TOTAL:\", chi2_14) \n",
    "print(\"P-valor entre AMB_PA i TOTAL:\", p_value_14) \n",
    " \n",
    "if p_value_14 < 0.05: \n",
    "    print(\"Hi ha diferències significatives entre les distribucions d'immobilitat en AMB_PA i TOTAL.\") \n",
    "else: \n",
    "    print(\"No hi ha diferències significatives entre les distribucions d'immobilitat en AMB_PA i TOTAL.\") "
   ],
   "id": "947da9bdc753520a",
   "outputs": [
    {
     "name": "stdout",
     "output_type": "stream",
     "text": [
      "Estadístic xi-quadrat entre AMB_PA i TOTAL: 0.0\n",
      "P-valor entre AMB_PA i TOTAL: 1.0\n",
      "No hi ha diferències significatives entre les distribucions d'immobilitat en AMB_PA i TOTAL.\n"
     ]
    }
   ],
   "execution_count": 307
  },
  {
   "metadata": {
    "ExecuteTime": {
     "end_time": "2024-05-03T11:01:44.768620Z",
     "start_time": "2024-05-03T11:01:44.761367Z"
    }
   },
   "cell_type": "code",
   "source": [
    "contingency_table_24 = pd.crosstab(index=AMB_PA_MECVV['Immobilitat'], columns=TOTAL['Immobilitat']) \n",
    " \n",
    "chi2_24, p_value_24, dof_24, expected_24 = chi2_contingency(contingency_table_24) \n",
    " \n",
    "print(\"Estadístic xi-quadrat entre AMB_PA_MECVV i TOTAL:\", chi2_24) \n",
    "print(\"P-valor entre AMB_PA_MECVV i TOTAL:\", p_value_24) \n",
    " \n",
    "if p_value_24 < 0.05: \n",
    "    print(\"Hi ha diferències significatives entre les distribucions d'immobilitat en AMB_PA_MECVV i TOTAL.\") \n",
    "else: \n",
    "    print(\"No hi ha diferències significatives entre les distribucions d'immobilitat en AMB_PA_MECVV i TOTAL.\") "
   ],
   "id": "896efe64fefba527",
   "outputs": [
    {
     "name": "stdout",
     "output_type": "stream",
     "text": [
      "Estadístic xi-quadrat entre AMB_PA_MECVV i TOTAL: 0.0\n",
      "P-valor entre AMB_PA_MECVV i TOTAL: 1.0\n",
      "No hi ha diferències significatives entre les distribucions d'immobilitat en AMB_PA_MECVV i TOTAL.\n"
     ]
    }
   ],
   "execution_count": 310
  },
  {
   "metadata": {
    "ExecuteTime": {
     "end_time": "2024-05-03T11:02:21.514919Z",
     "start_time": "2024-05-03T11:02:21.507682Z"
    }
   },
   "cell_type": "code",
   "source": [
    "contingency_table_34 = pd.crosstab(index=SENSE_PA['Immobilitat'], columns=TOTAL['Immobilitat']) \n",
    " \n",
    "chi2_34, p_value_34, dof_34, expected_34 = chi2_contingency(contingency_table_34) \n",
    " \n",
    "print(\"Estadístic xi-quadrat entre SENSE_PA i TOTAL:\", chi2_34) \n",
    "print(\"P-valor entre SENSE_PA i TOTAL:\", p_value_34) \n",
    " \n",
    "if p_value_34 < 0.05: \n",
    "    print(\"Hi ha diferències significatives entre les distribucions d'immobilitat en SENSE_PA i TOTAL.\") \n",
    "else: \n",
    "    print(\"No hi ha diferències significatives entre les distribucions d'immobilitat en SENSE_PA i TOTAL.\") "
   ],
   "id": "76ec2e889ed7646b",
   "outputs": [
    {
     "name": "stdout",
     "output_type": "stream",
     "text": [
      "Estadístic xi-quadrat entre SENSE_PA i TOTAL: 0.0\n",
      "P-valor entre SENSE_PA i TOTAL: 1.0\n",
      "No hi ha diferències significatives entre les distribucions d'immobilitat en SENSE_PA i TOTAL.\n"
     ]
    }
   ],
   "execution_count": 311
  },
  {
   "metadata": {},
   "cell_type": "markdown",
   "source": [
    "## Confusió"
   ],
   "id": "8ec2d07541f7c217"
  },
  {
   "metadata": {
    "ExecuteTime": {
     "end_time": "2024-05-03T11:03:05.513794Z",
     "start_time": "2024-05-03T11:03:05.509928Z"
    }
   },
   "cell_type": "code",
   "source": [
    "conf_AMB_PA= (AMB_PA['Confusió'] == 1.0).mean() * 100\n",
    "print(f\"Percentatge de confusió : {conf_AMB_PA:.2f}%\")"
   ],
   "id": "c2abcafcb2c060aa",
   "outputs": [
    {
     "name": "stdout",
     "output_type": "stream",
     "text": [
      "Percentatge de confusió : 23.53%\n"
     ]
    }
   ],
   "execution_count": 312
  },
  {
   "metadata": {
    "ExecuteTime": {
     "end_time": "2024-05-03T11:03:10.281109Z",
     "start_time": "2024-05-03T11:03:10.276511Z"
    }
   },
   "cell_type": "code",
   "source": [
    "conf_AMB_PA_MECVV= (AMB_PA_MECVV['Confusió'] == 1.0).mean() * 100\n",
    "print(f\"Percentatge de confusió : {conf_AMB_PA_MECVV:.2f}%\")"
   ],
   "id": "941d58bd902a33ba",
   "outputs": [
    {
     "name": "stdout",
     "output_type": "stream",
     "text": [
      "Percentatge de confusió : 25.00%\n"
     ]
    }
   ],
   "execution_count": 313
  },
  {
   "metadata": {
    "ExecuteTime": {
     "end_time": "2024-05-03T11:03:13.982349Z",
     "start_time": "2024-05-03T11:03:13.979441Z"
    }
   },
   "cell_type": "code",
   "source": [
    "conf_SENSE_PA= (SENSE_PA['Confusió'] == 1.0).mean() * 100\n",
    "print(f\"Percentatge de confusió : {conf_SENSE_PA:.2f}%\")"
   ],
   "id": "c0af511c6c97d577",
   "outputs": [
    {
     "name": "stdout",
     "output_type": "stream",
     "text": [
      "Percentatge de confusió : 62.50%\n"
     ]
    }
   ],
   "execution_count": 314
  },
  {
   "metadata": {
    "ExecuteTime": {
     "end_time": "2024-05-03T11:03:32.054126Z",
     "start_time": "2024-05-03T11:03:32.050247Z"
    }
   },
   "cell_type": "code",
   "source": [
    "conf_TOTAL= (TOTAL['Confusió'] == 1.0).mean() * 100\n",
    "print(f\"Percentatge de confusió : {conf_TOTAL:.2f}%\")"
   ],
   "id": "c80e0d02dc2fdb37",
   "outputs": [
    {
     "name": "stdout",
     "output_type": "stream",
     "text": [
      "Percentatge de confusió : 20.00%\n"
     ]
    }
   ],
   "execution_count": 315
  },
  {
   "metadata": {},
   "cell_type": "markdown",
   "source": [
    "#### Pvalor"
   ],
   "id": "9e49773c6fbd88f"
  },
  {
   "metadata": {},
   "cell_type": "markdown",
   "source": [
    "##### Normalitat"
   ],
   "id": "ea0b0c90affa5182"
  },
  {
   "metadata": {
    "ExecuteTime": {
     "end_time": "2024-05-03T11:03:49.888658Z",
     "start_time": "2024-05-03T11:03:49.884427Z"
    }
   },
   "cell_type": "code",
   "source": [
    "stat, p_value = shapiro(AMB_PA['Confusió'])\n",
    "print(f\"Estadístic W = {stat:.4f}\")\n",
    "print(f\"Valor p = {p_value:.4f}\")\n",
    "\n",
    "alpha = 0.05\n",
    "if p_value < alpha:\n",
    "    print(\"El nombre de files no segueix una distribució normal.\")\n",
    "else:\n",
    "    print(\"El nombre de files segueix una distribució normal\")"
   ],
   "id": "78e2674a568bf995",
   "outputs": [
    {
     "name": "stdout",
     "output_type": "stream",
     "text": [
      "Estadístic W = 0.5327\n",
      "Valor p = 0.0000\n",
      "El nombre de files no segueix una distribució normal.\n"
     ]
    }
   ],
   "execution_count": 316
  },
  {
   "metadata": {
    "ExecuteTime": {
     "end_time": "2024-05-03T11:03:54.967028Z",
     "start_time": "2024-05-03T11:03:54.962414Z"
    }
   },
   "cell_type": "code",
   "source": [
    "stat, p_value = shapiro(AMB_PA_MECVV['Confusió'])\n",
    "print(f\"Estadístic W = {stat:.4f}\")\n",
    "print(f\"Valor p = {p_value:.4f}\")\n",
    "\n",
    "alpha = 0.05\n",
    "if p_value < alpha:\n",
    "    print(\"El nombre de files no segueix una distribució normal.\")\n",
    "else:\n",
    "    print(\"El nombre de files segueix una distribució normal\")"
   ],
   "id": "d1e12db663b6a610",
   "outputs": [
    {
     "name": "stdout",
     "output_type": "stream",
     "text": [
      "Estadístic W = 0.5659\n",
      "Valor p = 0.0001\n",
      "El nombre de files no segueix una distribució normal.\n"
     ]
    }
   ],
   "execution_count": 317
  },
  {
   "metadata": {
    "ExecuteTime": {
     "end_time": "2024-05-03T11:03:57.143175Z",
     "start_time": "2024-05-03T11:03:57.138840Z"
    }
   },
   "cell_type": "code",
   "source": [
    "stat, p_value = shapiro(SENSE_PA['Confusió'])\n",
    "print(f\"Estadístic W = {stat:.4f}\")\n",
    "print(f\"Valor p = {p_value:.4f}\")\n",
    "\n",
    "alpha = 0.05\n",
    "if p_value < alpha:\n",
    "    print(\"El nombre de files no segueix una distribució normal.\")\n",
    "else:\n",
    "    print(\"El nombre de files segueix una distribució normal\")"
   ],
   "id": "9d32a0a86340661f",
   "outputs": [
    {
     "name": "stdout",
     "output_type": "stream",
     "text": [
      "Estadístic W = 0.6412\n",
      "Valor p = 0.0005\n",
      "El nombre de files no segueix una distribució normal.\n"
     ]
    }
   ],
   "execution_count": 318
  },
  {
   "metadata": {
    "ExecuteTime": {
     "end_time": "2024-05-03T11:04:10.456004Z",
     "start_time": "2024-05-03T11:04:10.451963Z"
    }
   },
   "cell_type": "code",
   "source": [
    "stat, p_value = shapiro(TOTAL['Confusió'])\n",
    "print(f\"Estadístic W = {stat:.4f}\")\n",
    "print(f\"Valor p = {p_value:.4f}\")\n",
    "\n",
    "alpha = 0.05\n",
    "if p_value < alpha:\n",
    "    print(\"El nombre de files no segueix una distribució normal.\")\n",
    "else:\n",
    "    print(\"El nombre de files segueix una distribució normal\")"
   ],
   "id": "2e8f6a44c29ae40b",
   "outputs": [
    {
     "name": "stdout",
     "output_type": "stream",
     "text": [
      "Estadístic W = 0.4904\n",
      "Valor p = 0.0000\n",
      "El nombre de files no segueix una distribució normal.\n"
     ]
    }
   ],
   "execution_count": 319
  },
  {
   "metadata": {
    "ExecuteTime": {
     "end_time": "2024-05-03T11:05:00.186682Z",
     "start_time": "2024-05-03T11:05:00.179286Z"
    }
   },
   "cell_type": "code",
   "source": [
    "contingency_table_12 = pd.crosstab(index=AMB_PA['Confusió'], columns=AMB_PA_MECVV['Confusió']) \n",
    " \n",
    "chi2_12, p_value_12, dof_12, expected_12 = chi2_contingency(contingency_table_12) \n",
    " \n",
    "print(\"Estadístic xi-quadrat entre AMB_PA i AMB_PA_MECVV:\", chi2_12) \n",
    "print(\"P-valor entre AMB_PA i AMB_PA_MECVV:\", p_value_12) \n",
    " \n",
    "if p_value_12 < 0.05: \n",
    "    print(\"Hi ha diferències significatives entre les distribucions de confusió en AMB_PA i AMB_PA_MECVV.\") \n",
    "else: \n",
    "    print(\"No hi ha diferències significatives entre les distribucions de confusió en AMB_PA i AMB_PA_MECVV.\") "
   ],
   "id": "ce8a928d50430780",
   "outputs": [
    {
     "name": "stdout",
     "output_type": "stream",
     "text": [
      "Estadístic xi-quadrat entre AMB_PA i AMB_PA_MECVV: 2.34375\n",
      "P-valor entre AMB_PA i AMB_PA_MECVV: 0.12578642463893994\n",
      "No hi ha diferències significatives entre les distribucions de confusió en AMB_PA i AMB_PA_MECVV.\n"
     ]
    }
   ],
   "execution_count": 320
  },
  {
   "metadata": {
    "ExecuteTime": {
     "end_time": "2024-05-03T11:07:53.051720Z",
     "start_time": "2024-05-03T11:07:53.043331Z"
    }
   },
   "cell_type": "code",
   "source": [
    "contingency_table_13 = pd.crosstab(index=AMB_PA['Confusió'], columns=SENSE_PA['Confusió']) \n",
    " \n",
    "chi2_13, p_value_13, dof_13, expected_13 = chi2_contingency(contingency_table_13) \n",
    " \n",
    "print(\"Estadístic xi-quadrat entre AMB_PA i SENSE_PA:\", chi2_13) \n",
    "print(\"P-valor entre AMB_PA i SENSE_PA:\", p_value_13) \n",
    " \n",
    "if p_value_13 < 0.05: \n",
    "    print(\"Hi ha diferències significatives entre les distribucions de confusió en AMB_PA i SENSE_PA.\") \n",
    "else: \n",
    "    print(\"No hi ha diferències significatives entre les distribucions de confusió en AMB_PA i SENSE_PA.\") "
   ],
   "id": "3d8f238d6f85d411",
   "outputs": [
    {
     "name": "stdout",
     "output_type": "stream",
     "text": [
      "Estadístic xi-quadrat entre AMB_PA i SENSE_PA: 0.1875\n",
      "P-valor entre AMB_PA i SENSE_PA: 0.6650055421020291\n",
      "No hi ha diferències significatives entre les distribucions de confusió en AMB_PA i SENSE_PA.\n"
     ]
    }
   ],
   "execution_count": 321
  },
  {
   "metadata": {
    "ExecuteTime": {
     "end_time": "2024-05-03T11:08:36.431392Z",
     "start_time": "2024-05-03T11:08:36.407723Z"
    }
   },
   "cell_type": "code",
   "source": [
    "contingency_table_23 = pd.crosstab(index=AMB_PA_MECVV['Confusió'], columns=SENSE_PA['Confusió']) \n",
    " \n",
    "chi2_23, p_value_23, dof_23, expected_23 = chi2_contingency(contingency_table_23) \n",
    " \n",
    "print(\"Estadístic xi-quadrat entre AMB_PA_MECCV i SENSE_PA:\", chi2_23) \n",
    "print(\"P-valor entre AMB_PA_MECVV i SENSE_PA:\", p_value_23) \n",
    " \n",
    "if p_value_23 < 0.05: \n",
    "    print(\"Hi ha diferències significatives entre les distribucions de confusió en AMB_PA_MECVV i SENSE_PA.\") \n",
    "else: \n",
    "    print(\"No hi ha diferències significatives entre les distribucions de confusió en AMB_PA_MECVV i SENSE_PA.\") "
   ],
   "id": "e607639569d3f433",
   "outputs": [
    {
     "ename": "ValueError",
     "evalue": "No data; `observed` has size 0.",
     "output_type": "error",
     "traceback": [
      "\u001B[1;31m---------------------------------------------------------------------------\u001B[0m",
      "\u001B[1;31mValueError\u001B[0m                                Traceback (most recent call last)",
      "Cell \u001B[1;32mIn[322], line 3\u001B[0m\n\u001B[0;32m      1\u001B[0m contingency_table_23 \u001B[38;5;241m=\u001B[39m pd\u001B[38;5;241m.\u001B[39mcrosstab(index\u001B[38;5;241m=\u001B[39mAMB_PA_MECVV[\u001B[38;5;124m'\u001B[39m\u001B[38;5;124mConfusió\u001B[39m\u001B[38;5;124m'\u001B[39m], columns\u001B[38;5;241m=\u001B[39mSENSE_PA[\u001B[38;5;124m'\u001B[39m\u001B[38;5;124mConfusió\u001B[39m\u001B[38;5;124m'\u001B[39m]) \n\u001B[1;32m----> 3\u001B[0m chi2_23, p_value_23, dof_23, expected_23 \u001B[38;5;241m=\u001B[39m \u001B[43mchi2_contingency\u001B[49m\u001B[43m(\u001B[49m\u001B[43mcontingency_table_23\u001B[49m\u001B[43m)\u001B[49m \n\u001B[0;32m      5\u001B[0m \u001B[38;5;28mprint\u001B[39m(\u001B[38;5;124m\"\u001B[39m\u001B[38;5;124mEstadístic xi-quadrat entre AMB_PA_MECCV i SENSE_PA:\u001B[39m\u001B[38;5;124m\"\u001B[39m, chi2_23) \n\u001B[0;32m      6\u001B[0m \u001B[38;5;28mprint\u001B[39m(\u001B[38;5;124m\"\u001B[39m\u001B[38;5;124mP-valor entre AMB_PA_MECVV i SENSE_PA:\u001B[39m\u001B[38;5;124m\"\u001B[39m, p_value_23) \n",
      "File \u001B[1;32m~\\PycharmProjects\\PRACTICUM\\venv\\Lib\\site-packages\\scipy\\stats\\contingency.py:333\u001B[0m, in \u001B[0;36mchi2_contingency\u001B[1;34m(observed, correction, lambda_)\u001B[0m\n\u001B[0;32m    331\u001B[0m     \u001B[38;5;28;01mraise\u001B[39;00m \u001B[38;5;167;01mValueError\u001B[39;00m(\u001B[38;5;124m\"\u001B[39m\u001B[38;5;124mAll values in `observed` must be nonnegative.\u001B[39m\u001B[38;5;124m\"\u001B[39m)\n\u001B[0;32m    332\u001B[0m \u001B[38;5;28;01mif\u001B[39;00m observed\u001B[38;5;241m.\u001B[39msize \u001B[38;5;241m==\u001B[39m \u001B[38;5;241m0\u001B[39m:\n\u001B[1;32m--> 333\u001B[0m     \u001B[38;5;28;01mraise\u001B[39;00m \u001B[38;5;167;01mValueError\u001B[39;00m(\u001B[38;5;124m\"\u001B[39m\u001B[38;5;124mNo data; `observed` has size 0.\u001B[39m\u001B[38;5;124m\"\u001B[39m)\n\u001B[0;32m    335\u001B[0m expected \u001B[38;5;241m=\u001B[39m expected_freq(observed)\n\u001B[0;32m    336\u001B[0m \u001B[38;5;28;01mif\u001B[39;00m np\u001B[38;5;241m.\u001B[39many(expected \u001B[38;5;241m==\u001B[39m \u001B[38;5;241m0\u001B[39m):\n\u001B[0;32m    337\u001B[0m     \u001B[38;5;66;03m# Include one of the positions where expected is zero in\u001B[39;00m\n\u001B[0;32m    338\u001B[0m     \u001B[38;5;66;03m# the exception message.\u001B[39;00m\n",
      "\u001B[1;31mValueError\u001B[0m: No data; `observed` has size 0."
     ]
    }
   ],
   "execution_count": 322
  },
  {
   "metadata": {
    "ExecuteTime": {
     "end_time": "2024-05-03T11:09:15.345829Z",
     "start_time": "2024-05-03T11:09:15.338591Z"
    }
   },
   "cell_type": "code",
   "source": [
    "contingency_table_14 = pd.crosstab(index=AMB_PA['Confusió'], columns=TOTAL['Confusió']) \n",
    " \n",
    "chi2_14, p_value_14, dof_14, expected_14 = chi2_contingency(contingency_table_14) \n",
    " \n",
    "print(\"Estadístic xi-quadrat entre AMB_PA i TOTAL:\", chi2_14) \n",
    "print(\"P-valor entre AMB_PA i TOTAL:\", p_value_14) \n",
    " \n",
    "if p_value_14 < 0.05: \n",
    "    print(\"Hi ha diferències significatives entre les distribucions de confusió en AMB_PA i TOTAL.\") \n",
    "else: \n",
    "    print(\"No hi ha diferències significatives entre les distribucions de confusió en AMB_PA i TOTAL.\") "
   ],
   "id": "9c5face3c7a28a58",
   "outputs": [
    {
     "name": "stdout",
     "output_type": "stream",
     "text": [
      "Estadístic xi-quadrat entre AMB_PA i TOTAL: 11.89654215976331\n",
      "P-valor entre AMB_PA i TOTAL: 0.0005623824703676534\n",
      "Hi ha diferències significatives entre les distribucions de confusió en AMB_PA i TOTAL.\n"
     ]
    }
   ],
   "execution_count": 323
  },
  {
   "metadata": {
    "ExecuteTime": {
     "end_time": "2024-05-03T11:09:48.577093Z",
     "start_time": "2024-05-03T11:09:48.568879Z"
    }
   },
   "cell_type": "code",
   "source": [
    "contingency_table_24 = pd.crosstab(index=AMB_PA_MECVV['Confusió'], columns=TOTAL['Confusió']) \n",
    " \n",
    "chi2_24, p_value_24, dof_24, expected_24 = chi2_contingency(contingency_table_24) \n",
    " \n",
    "print(\"Estadístic xi-quadrat entre AMB_PA_MECVV i TOTAL:\", chi2_24) \n",
    "print(\"P-valor entre AMB_PA_MECVV i TOTAL:\", p_value_24) \n",
    " \n",
    "if p_value_24 < 0.05: \n",
    "    print(\"Hi ha diferències significatives entre les distribucions de confusió en AMB_PA_MECVV i TOTAL.\") \n",
    "else: \n",
    "    print(\"No hi ha diferències significatives entre les distribucions de confusió en AMB_PA_MECVV i TOTAL.\") "
   ],
   "id": "92eb6bf4fd8903bf",
   "outputs": [
    {
     "name": "stdout",
     "output_type": "stream",
     "text": [
      "Estadístic xi-quadrat entre AMB_PA_MECVV i TOTAL: 3.5555555555555554\n",
      "P-valor entre AMB_PA_MECVV i TOTAL: 0.05934643879191998\n",
      "No hi ha diferències significatives entre les distribucions de confusió en AMB_PA_MECVV i TOTAL.\n"
     ]
    }
   ],
   "execution_count": 325
  },
  {
   "metadata": {
    "ExecuteTime": {
     "end_time": "2024-05-03T11:10:31.873063Z",
     "start_time": "2024-05-03T11:10:31.864919Z"
    }
   },
   "cell_type": "code",
   "source": [
    "contingency_table_34 = pd.crosstab(index=SENSE_PA['Confusió'], columns=TOTAL['Confusió']) \n",
    " \n",
    "chi2_34, p_value_34, dof_34, expected_34 = chi2_contingency(contingency_table_34) \n",
    " \n",
    "print(\"Estadístic xi-quadrat entre SENSE_PA i TOTAL:\", chi2_34) \n",
    "print(\"P-valor entre SENSE_PA i TOTAL:\", p_value_34) \n",
    " \n",
    "if p_value_34 < 0.05: \n",
    "    print(\"Hi ha diferències significatives entre les distribucions de confusió en SENSE_PA i TOTAL.\") \n",
    "else: \n",
    "    print(\"No hi ha diferències significatives entre les distribucions de confusió en SENSE_PA i TOTAL.\") "
   ],
   "id": "ba063f9c30eeec88",
   "outputs": [
    {
     "name": "stdout",
     "output_type": "stream",
     "text": [
      "Estadístic xi-quadrat entre SENSE_PA i TOTAL: 4.302222222222222\n",
      "P-valor entre SENSE_PA i TOTAL: 0.0380626070324449\n",
      "Hi ha diferències significatives entre les distribucions de confusió en SENSE_PA i TOTAL.\n"
     ]
    }
   ],
   "execution_count": 326
  },
  {
   "metadata": {},
   "cell_type": "markdown",
   "source": [
    "## Osteoporosi"
   ],
   "id": "61e6ce410e08b94f"
  },
  {
   "metadata": {
    "ExecuteTime": {
     "end_time": "2024-05-03T11:10:43.343818Z",
     "start_time": "2024-05-03T11:10:43.340316Z"
    }
   },
   "cell_type": "code",
   "source": [
    "ost_AMB_PA= (AMB_PA['Osteoporosi'] == 1.0).mean() * 100\n",
    "print(f\"Percentatge d'osteoporosi: {ost_AMB_PA:.2f}%\")"
   ],
   "id": "8247aa43b86f14e2",
   "outputs": [
    {
     "name": "stdout",
     "output_type": "stream",
     "text": [
      "Percentatge d'osteoporosi: 0.00%\n"
     ]
    }
   ],
   "execution_count": 327
  },
  {
   "metadata": {
    "ExecuteTime": {
     "end_time": "2024-05-03T11:10:52.912391Z",
     "start_time": "2024-05-03T11:10:52.908338Z"
    }
   },
   "cell_type": "code",
   "source": [
    "ost_AMB_PA_MECVV= (AMB_PA_MECVV['Osteoporosi'] == 1.0).mean() * 100\n",
    "print(f\"Percentatge d'osteoporosi: {ost_AMB_PA_MECVV:.2f}%\")"
   ],
   "id": "88c46ee4b5d48d49",
   "outputs": [
    {
     "name": "stdout",
     "output_type": "stream",
     "text": [
      "Percentatge d'osteoporosi: 0.00%\n"
     ]
    }
   ],
   "execution_count": 329
  },
  {
   "metadata": {
    "ExecuteTime": {
     "end_time": "2024-05-03T11:10:56.240360Z",
     "start_time": "2024-05-03T11:10:56.236418Z"
    }
   },
   "cell_type": "code",
   "source": [
    "ost_SENSE_PA= (SENSE_PA['Osteoporosi'] == 1.0).mean() * 100\n",
    "print(f\"Percentatge d'osteoporosi: {ost_SENSE_PA:.2f}%\")"
   ],
   "id": "404e37bc3d19820d",
   "outputs": [
    {
     "name": "stdout",
     "output_type": "stream",
     "text": [
      "Percentatge d'osteoporosi: 0.00%\n"
     ]
    }
   ],
   "execution_count": 330
  },
  {
   "metadata": {
    "ExecuteTime": {
     "end_time": "2024-05-03T11:11:17.665581Z",
     "start_time": "2024-05-03T11:11:17.661659Z"
    }
   },
   "cell_type": "code",
   "source": [
    "ost_TOTAL= (TOTAL['Osteoporosi'] == 1.0).mean() * 100\n",
    "print(f\"Percentatge d'osteoporosi: {ost_TOTAL:.2f}%\")"
   ],
   "id": "92fee94b127a1611",
   "outputs": [
    {
     "name": "stdout",
     "output_type": "stream",
     "text": [
      "Percentatge d'osteoporosi: 0.00%\n"
     ]
    }
   ],
   "execution_count": 331
  },
  {
   "metadata": {},
   "cell_type": "markdown",
   "source": [
    "#### Pvalor"
   ],
   "id": "2be6f72ad24818dd"
  },
  {
   "metadata": {},
   "cell_type": "markdown",
   "source": [
    "##### Normalitat"
   ],
   "id": "465cf19b84b0b450"
  },
  {
   "metadata": {
    "ExecuteTime": {
     "end_time": "2024-05-03T11:11:38.619013Z",
     "start_time": "2024-05-03T11:11:38.614833Z"
    }
   },
   "cell_type": "code",
   "source": [
    "stat, p_value = shapiro(AMB_PA['Osteoporosi'])\n",
    "print(f\"Estadístic W = {stat:.4f}\")\n",
    "print(f\"Valor p = {p_value:.4f}\")\n",
    "\n",
    "alpha = 0.05\n",
    "if p_value < alpha:\n",
    "    print(\"El nombre de files no segueix una distribució normal.\")\n",
    "else:\n",
    "    print(\"El nombre de files segueix una distribució normal\")"
   ],
   "id": "ef867fa51d21b4e0",
   "outputs": [
    {
     "name": "stdout",
     "output_type": "stream",
     "text": [
      "Estadístic W = 1.0000\n",
      "Valor p = 1.0000\n",
      "El nombre de files segueix una distribució normal\n"
     ]
    },
    {
     "name": "stderr",
     "output_type": "stream",
     "text": [
      "C:\\Users\\User\\PycharmProjects\\PRACTICUM\\venv\\Lib\\site-packages\\scipy\\stats\\_axis_nan_policy.py:531: UserWarning: scipy.stats.shapiro: Input data has range zero. The results may not be accurate.\n",
      "  res = hypotest_fun_out(*samples, **kwds)\n"
     ]
    }
   ],
   "execution_count": 332
  },
  {
   "metadata": {
    "ExecuteTime": {
     "end_time": "2024-05-03T11:11:41.571261Z",
     "start_time": "2024-05-03T11:11:41.566895Z"
    }
   },
   "cell_type": "code",
   "source": [
    "stat, p_value = shapiro(AMB_PA_MECVV['Osteoporosi'])\n",
    "print(f\"Estadístic W = {stat:.4f}\")\n",
    "print(f\"Valor p = {p_value:.4f}\")\n",
    "\n",
    "alpha = 0.05\n",
    "if p_value < alpha:\n",
    "    print(\"El nombre de files no segueix una distribució normal.\")\n",
    "else:\n",
    "    print(\"El nombre de files segueix una distribució normal\")"
   ],
   "id": "10810e448414918c",
   "outputs": [
    {
     "name": "stdout",
     "output_type": "stream",
     "text": [
      "Estadístic W = 1.0000\n",
      "Valor p = 1.0000\n",
      "El nombre de files segueix una distribució normal\n"
     ]
    },
    {
     "name": "stderr",
     "output_type": "stream",
     "text": [
      "C:\\Users\\User\\PycharmProjects\\PRACTICUM\\venv\\Lib\\site-packages\\scipy\\stats\\_axis_nan_policy.py:531: UserWarning: scipy.stats.shapiro: Input data has range zero. The results may not be accurate.\n",
      "  res = hypotest_fun_out(*samples, **kwds)\n"
     ]
    }
   ],
   "execution_count": 333
  },
  {
   "metadata": {
    "ExecuteTime": {
     "end_time": "2024-05-03T11:11:46.379797Z",
     "start_time": "2024-05-03T11:11:46.375366Z"
    }
   },
   "cell_type": "code",
   "source": [
    "stat, p_value = shapiro(SENSE_PA['Osteoporosi'])\n",
    "print(f\"Estadístic W = {stat:.4f}\")\n",
    "print(f\"Valor p = {p_value:.4f}\")\n",
    "\n",
    "alpha = 0.05\n",
    "if p_value < alpha:\n",
    "    print(\"El nombre de files no segueix una distribució normal.\")\n",
    "else:\n",
    "    print(\"El nombre de files segueix una distribució normal\")"
   ],
   "id": "b87bbe8eefd9cb40",
   "outputs": [
    {
     "name": "stdout",
     "output_type": "stream",
     "text": [
      "Estadístic W = 1.0000\n",
      "Valor p = 1.0000\n",
      "El nombre de files segueix una distribució normal\n"
     ]
    },
    {
     "name": "stderr",
     "output_type": "stream",
     "text": [
      "C:\\Users\\User\\PycharmProjects\\PRACTICUM\\venv\\Lib\\site-packages\\scipy\\stats\\_axis_nan_policy.py:531: UserWarning: scipy.stats.shapiro: Input data has range zero. The results may not be accurate.\n",
      "  res = hypotest_fun_out(*samples, **kwds)\n"
     ]
    }
   ],
   "execution_count": 334
  },
  {
   "metadata": {
    "ExecuteTime": {
     "end_time": "2024-05-03T11:11:59.552073Z",
     "start_time": "2024-05-03T11:11:59.547501Z"
    }
   },
   "cell_type": "code",
   "source": [
    "stat, p_value = shapiro(TOTAL['Osteoporosi'])\n",
    "print(f\"Estadístic W = {stat:.4f}\")\n",
    "print(f\"Valor p = {p_value:.4f}\")\n",
    "\n",
    "alpha = 0.05\n",
    "if p_value < alpha:\n",
    "    print(\"El nombre de files no segueix una distribució normal.\")\n",
    "else:\n",
    "    print(\"El nombre de files segueix una distribució normal\")"
   ],
   "id": "9d00d5abca85aefb",
   "outputs": [
    {
     "name": "stdout",
     "output_type": "stream",
     "text": [
      "Estadístic W = 1.0000\n",
      "Valor p = 1.0000\n",
      "El nombre de files segueix una distribució normal\n"
     ]
    },
    {
     "name": "stderr",
     "output_type": "stream",
     "text": [
      "C:\\Users\\User\\PycharmProjects\\PRACTICUM\\venv\\Lib\\site-packages\\scipy\\stats\\_axis_nan_policy.py:531: UserWarning: scipy.stats.shapiro: Input data has range zero. The results may not be accurate.\n",
      "  res = hypotest_fun_out(*samples, **kwds)\n"
     ]
    }
   ],
   "execution_count": 335
  },
  {
   "metadata": {
    "ExecuteTime": {
     "end_time": "2024-05-03T11:14:53.045491Z",
     "start_time": "2024-05-03T11:14:53.037652Z"
    }
   },
   "cell_type": "code",
   "source": [
    "contingency_table_12 = pd.crosstab(index=AMB_PA['Osteoporosi'], columns=AMB_PA_MECVV['Osteoporosi']) \n",
    " \n",
    "chi2_12, p_value_12, dof_12, expected_12 = chi2_contingency(contingency_table_12) \n",
    " \n",
    "print(\"Estadístic xi-quadrat entre AMB_PA i AMB_PA_MECVV:\", chi2_12) \n",
    "print(\"P-valor entre AMB_PA i AMB_PA_MECVV:\", p_value_12) \n",
    " \n",
    "if p_value_12 < 0.05: \n",
    "    print(\"Hi ha diferències significatives entre les distribucions d'osteoporosi en AMB_PA i AMB_PA_MECVV.\") \n",
    "else: \n",
    "    print(\"No hi ha diferències significatives entre les distribucions d'osteoporosi en AMB_PA i AMB_PA_MECVV.\") "
   ],
   "id": "8c14505ff3b3c8c8",
   "outputs": [
    {
     "name": "stdout",
     "output_type": "stream",
     "text": [
      "Estadístic xi-quadrat entre AMB_PA i AMB_PA_MECVV: 0.0\n",
      "P-valor entre AMB_PA i AMB_PA_MECVV: 1.0\n",
      "No hi ha diferències significatives entre les distribucions d'osteoporosi en AMB_PA i AMB_PA_MECVV.\n"
     ]
    }
   ],
   "execution_count": 336
  },
  {
   "metadata": {
    "ExecuteTime": {
     "end_time": "2024-05-03T11:15:51.127361Z",
     "start_time": "2024-05-03T11:15:51.119565Z"
    }
   },
   "cell_type": "code",
   "source": [
    "contingency_table_13 = pd.crosstab(index=AMB_PA['Osteoporosi'], columns=SENSE_PA['Osteoporosi']) \n",
    " \n",
    "chi2_13, p_value_13, dof_13, expected_13 = chi2_contingency(contingency_table_13) \n",
    " \n",
    "print(\"Estadístic xi-quadrat entre AMB_PA i SENSE_PA:\", chi2_13) \n",
    "print(\"P-valor entre AMB_PA i SENSE_PA:\", p_value_13) \n",
    " \n",
    "if p_value_13 < 0.05: \n",
    "    print(\"Hi ha diferències significatives entre les distribucions d'osteoporosi en AMB_PA i SENSE_PA.\") \n",
    "else: \n",
    "    print(\"No hi ha diferències significatives entre les distribucions d'osteoporosi en AMB_PA i SENSE_PA.\") "
   ],
   "id": "b5cf3824f0cfce6",
   "outputs": [
    {
     "name": "stdout",
     "output_type": "stream",
     "text": [
      "Estadístic xi-quadrat entre AMB_PA i SENSE_PA: 0.0\n",
      "P-valor entre AMB_PA i SENSE_PA: 1.0\n",
      "No hi ha diferències significatives entre les distribucions d'osteoporosi en AMB_PA i SENSE_PA.\n"
     ]
    }
   ],
   "execution_count": 337
  },
  {
   "metadata": {
    "ExecuteTime": {
     "end_time": "2024-05-03T11:16:34.985229Z",
     "start_time": "2024-05-03T11:16:34.961255Z"
    }
   },
   "cell_type": "code",
   "source": [
    "contingency_table_23 = pd.crosstab(index=AMB_PA_MECVV['Osteoporosi'], columns=SENSE_PA['Osteoporosi']) \n",
    " \n",
    "chi2_23, p_value_23, dof_23, expected_23 = chi2_contingency(contingency_table_23) \n",
    " \n",
    "print(\"Estadístic xi-quadrat entre AMB_PA_MECCV i SENSE_PA:\", chi2_23) \n",
    "print(\"P-valor entre AMB_PA_MECVV i SENSE_PA:\", p_value_23) \n",
    " \n",
    "if p_value_23 < 0.05: \n",
    "    print(\"Hi ha diferències significatives entre les distribucions d'osteoporosi en AMB_PA_MECVV i SENSE_PA.\") \n",
    "else: \n",
    "    print(\"No hi ha diferències significatives entre les distribucions d'osteoporosi  en AMB_PA_MECVV i SENSE_PA.\") "
   ],
   "id": "8e5be9d9391c1f70",
   "outputs": [
    {
     "ename": "ValueError",
     "evalue": "No data; `observed` has size 0.",
     "output_type": "error",
     "traceback": [
      "\u001B[1;31m---------------------------------------------------------------------------\u001B[0m",
      "\u001B[1;31mValueError\u001B[0m                                Traceback (most recent call last)",
      "Cell \u001B[1;32mIn[338], line 3\u001B[0m\n\u001B[0;32m      1\u001B[0m contingency_table_23 \u001B[38;5;241m=\u001B[39m pd\u001B[38;5;241m.\u001B[39mcrosstab(index\u001B[38;5;241m=\u001B[39mAMB_PA_MECVV[\u001B[38;5;124m'\u001B[39m\u001B[38;5;124mOsteoporosi\u001B[39m\u001B[38;5;124m'\u001B[39m], columns\u001B[38;5;241m=\u001B[39mSENSE_PA[\u001B[38;5;124m'\u001B[39m\u001B[38;5;124mOsteoporosi\u001B[39m\u001B[38;5;124m'\u001B[39m]) \n\u001B[1;32m----> 3\u001B[0m chi2_23, p_value_23, dof_23, expected_23 \u001B[38;5;241m=\u001B[39m \u001B[43mchi2_contingency\u001B[49m\u001B[43m(\u001B[49m\u001B[43mcontingency_table_23\u001B[49m\u001B[43m)\u001B[49m \n\u001B[0;32m      5\u001B[0m \u001B[38;5;28mprint\u001B[39m(\u001B[38;5;124m\"\u001B[39m\u001B[38;5;124mEstadístic xi-quadrat entre AMB_PA_MECCV i SENSE_PA:\u001B[39m\u001B[38;5;124m\"\u001B[39m, chi2_23) \n\u001B[0;32m      6\u001B[0m \u001B[38;5;28mprint\u001B[39m(\u001B[38;5;124m\"\u001B[39m\u001B[38;5;124mP-valor entre AMB_PA_MECVV i SENSE_PA:\u001B[39m\u001B[38;5;124m\"\u001B[39m, p_value_23) \n",
      "File \u001B[1;32m~\\PycharmProjects\\PRACTICUM\\venv\\Lib\\site-packages\\scipy\\stats\\contingency.py:333\u001B[0m, in \u001B[0;36mchi2_contingency\u001B[1;34m(observed, correction, lambda_)\u001B[0m\n\u001B[0;32m    331\u001B[0m     \u001B[38;5;28;01mraise\u001B[39;00m \u001B[38;5;167;01mValueError\u001B[39;00m(\u001B[38;5;124m\"\u001B[39m\u001B[38;5;124mAll values in `observed` must be nonnegative.\u001B[39m\u001B[38;5;124m\"\u001B[39m)\n\u001B[0;32m    332\u001B[0m \u001B[38;5;28;01mif\u001B[39;00m observed\u001B[38;5;241m.\u001B[39msize \u001B[38;5;241m==\u001B[39m \u001B[38;5;241m0\u001B[39m:\n\u001B[1;32m--> 333\u001B[0m     \u001B[38;5;28;01mraise\u001B[39;00m \u001B[38;5;167;01mValueError\u001B[39;00m(\u001B[38;5;124m\"\u001B[39m\u001B[38;5;124mNo data; `observed` has size 0.\u001B[39m\u001B[38;5;124m\"\u001B[39m)\n\u001B[0;32m    335\u001B[0m expected \u001B[38;5;241m=\u001B[39m expected_freq(observed)\n\u001B[0;32m    336\u001B[0m \u001B[38;5;28;01mif\u001B[39;00m np\u001B[38;5;241m.\u001B[39many(expected \u001B[38;5;241m==\u001B[39m \u001B[38;5;241m0\u001B[39m):\n\u001B[0;32m    337\u001B[0m     \u001B[38;5;66;03m# Include one of the positions where expected is zero in\u001B[39;00m\n\u001B[0;32m    338\u001B[0m     \u001B[38;5;66;03m# the exception message.\u001B[39;00m\n",
      "\u001B[1;31mValueError\u001B[0m: No data; `observed` has size 0."
     ]
    }
   ],
   "execution_count": 338
  },
  {
   "metadata": {
    "ExecuteTime": {
     "end_time": "2024-05-03T11:17:04.523812Z",
     "start_time": "2024-05-03T11:17:04.514657Z"
    }
   },
   "cell_type": "code",
   "source": [
    "contingency_table_14 = pd.crosstab(index=AMB_PA['Osteoporosi'], columns=TOTAL['Osteoporosi']) \n",
    " \n",
    "chi2_14, p_value_14, dof_14, expected_14 = chi2_contingency(contingency_table_14) \n",
    " \n",
    "print(\"Estadístic xi-quadrat entre AMB_PA i TOTAL:\", chi2_14) \n",
    "print(\"P-valor entre AMB_PA i TOTAL:\", p_value_14) \n",
    " \n",
    "if p_value_14 < 0.05: \n",
    "    print(\"Hi ha diferències significatives entre les distribucions d'osteoporosi en AMB_PA i TOTAL.\") \n",
    "else: \n",
    "    print(\"No hi ha diferències significatives entre les distribucions d'osteoporosi en AMB_PA i TOTAL.\") "
   ],
   "id": "70b845ee5d4f97dd",
   "outputs": [
    {
     "name": "stdout",
     "output_type": "stream",
     "text": [
      "Estadístic xi-quadrat entre AMB_PA i TOTAL: 0.0\n",
      "P-valor entre AMB_PA i TOTAL: 1.0\n",
      "No hi ha diferències significatives entre les distribucions d'osteoporosi en AMB_PA i TOTAL.\n"
     ]
    }
   ],
   "execution_count": 339
  },
  {
   "metadata": {
    "ExecuteTime": {
     "end_time": "2024-05-03T11:17:48.376948Z",
     "start_time": "2024-05-03T11:17:48.369851Z"
    }
   },
   "cell_type": "code",
   "source": [
    "contingency_table_24 = pd.crosstab(index=AMB_PA_MECVV['Osteoporosi'], columns=TOTAL['Osteoporosi']) \n",
    " \n",
    "chi2_24, p_value_24, dof_24, expected_24 = chi2_contingency(contingency_table_24) \n",
    " \n",
    "print(\"Estadístic xi-quadrat entre AMB_PA_MECVV i TOTAL:\", chi2_24) \n",
    "print(\"P-valor entre AMB_PA_MECVV i TOTAL:\", p_value_24) \n",
    " \n",
    "if p_value_24 < 0.05: \n",
    "    print(\"Hi ha diferències significatives entre les distribucions d'osteoporosi en AMB_PA_MECVV i TOTAL.\") \n",
    "else: \n",
    "    print(\"No hi ha diferències significatives entre les distribucions d'osteoporosi en AMB_PA_MECVV i TOTAL.\") "
   ],
   "id": "88666b3d44d84911",
   "outputs": [
    {
     "name": "stdout",
     "output_type": "stream",
     "text": [
      "Estadístic xi-quadrat entre AMB_PA_MECVV i TOTAL: 0.0\n",
      "P-valor entre AMB_PA_MECVV i TOTAL: 1.0\n",
      "No hi ha diferències significatives entre les distribucions d'osteoporosi en AMB_PA_MECVV i TOTAL.\n"
     ]
    }
   ],
   "execution_count": 340
  },
  {
   "metadata": {
    "ExecuteTime": {
     "end_time": "2024-05-03T11:18:17.094976Z",
     "start_time": "2024-05-03T11:18:17.087541Z"
    }
   },
   "cell_type": "code",
   "source": [
    "contingency_table_34 = pd.crosstab(index=SENSE_PA['Osteoporosi'], columns=TOTAL['Osteoporosi']) \n",
    " \n",
    "chi2_34, p_value_34, dof_34, expected_34 = chi2_contingency(contingency_table_34) \n",
    " \n",
    "print(\"Estadístic xi-quadrat entre SENSE_PA i TOTAL:\", chi2_34) \n",
    "print(\"P-valor entre SENSE_PA i TOTAL:\", p_value_34) \n",
    " \n",
    "if p_value_34 < 0.05: \n",
    "    print(\"Hi ha diferències significatives entre les distribucions d'osteoporosi en SENSE_PA i TOTAL.\") \n",
    "else: \n",
    "    print(\"No hi ha diferències significatives entre les distribucions d'osteoporosi en SENSE_PA i TOTAL.\") "
   ],
   "id": "7c2a35c069a333c",
   "outputs": [
    {
     "name": "stdout",
     "output_type": "stream",
     "text": [
      "Estadístic xi-quadrat entre SENSE_PA i TOTAL: 0.0\n",
      "P-valor entre SENSE_PA i TOTAL: 1.0\n",
      "No hi ha diferències significatives entre les distribucions d'osteoporosi en SENSE_PA i TOTAL.\n"
     ]
    }
   ],
   "execution_count": 341
  },
  {
   "metadata": {},
   "cell_type": "markdown",
   "source": [
    "## Sarcopènia"
   ],
   "id": "35ba4b3163204f8f"
  },
  {
   "metadata": {
    "ExecuteTime": {
     "end_time": "2024-05-03T11:18:53.786135Z",
     "start_time": "2024-05-03T11:18:53.782982Z"
    }
   },
   "cell_type": "code",
   "source": [
    "sarc_AMB_PA= (AMB_PA['Sarcopènia'] == 1.0).mean() * 100\n",
    "print(f\"Percentatge de sarcopènia: {sarc_AMB_PA:.2f}%\")"
   ],
   "id": "2dc59c7080dd50bc",
   "outputs": [
    {
     "name": "stdout",
     "output_type": "stream",
     "text": [
      "Percentatge de sarcopènia: 0.00%\n"
     ]
    }
   ],
   "execution_count": 342
  },
  {
   "metadata": {
    "ExecuteTime": {
     "end_time": "2024-05-03T11:19:00.385380Z",
     "start_time": "2024-05-03T11:19:00.381898Z"
    }
   },
   "cell_type": "code",
   "source": [
    "sarc_AMB_PA_MECVV= (AMB_PA_MECVV['Sarcopènia'] == 1.0).mean() * 100\n",
    "print(f\"Percentatge de sarcopènia: {sarc_AMB_PA_MECVV:.2f}%\")"
   ],
   "id": "f4cd16f08eac0ddb",
   "outputs": [
    {
     "name": "stdout",
     "output_type": "stream",
     "text": [
      "Percentatge de sarcopènia: 0.00%\n"
     ]
    }
   ],
   "execution_count": 343
  },
  {
   "metadata": {
    "ExecuteTime": {
     "end_time": "2024-05-03T11:19:04.238797Z",
     "start_time": "2024-05-03T11:19:04.235565Z"
    }
   },
   "cell_type": "code",
   "source": [
    "sarc_SENSE_PA= (SENSE_PA['Sarcopènia'] == 1.0).mean() * 100\n",
    "print(f\"Percentatge de sarcopènia: {sarc_SENSE_PA:.2f}%\")"
   ],
   "id": "244c4f6987003814",
   "outputs": [
    {
     "name": "stdout",
     "output_type": "stream",
     "text": [
      "Percentatge de sarcopènia: 12.50%\n"
     ]
    }
   ],
   "execution_count": 344
  },
  {
   "metadata": {
    "ExecuteTime": {
     "end_time": "2024-05-03T11:19:38.217153Z",
     "start_time": "2024-05-03T11:19:38.213934Z"
    }
   },
   "cell_type": "code",
   "source": [
    "sarc_TOTAL= (TOTAL['Sarcopènia'] == 1.0).mean() * 100\n",
    "print(f\"Percentatge de sarcopènia: {sarc_TOTAL:.2f}%\")"
   ],
   "id": "a0b8c1444c749b32",
   "outputs": [
    {
     "name": "stdout",
     "output_type": "stream",
     "text": [
      "Percentatge de sarcopènia: 4.00%\n"
     ]
    }
   ],
   "execution_count": 345
  },
  {
   "metadata": {},
   "cell_type": "markdown",
   "source": [
    "#### Pvalor"
   ],
   "id": "89f3f7bdbee9d96d"
  },
  {
   "metadata": {},
   "cell_type": "markdown",
   "source": [
    "##### Normalitat"
   ],
   "id": "211f5c215b14bcfb"
  },
  {
   "metadata": {
    "ExecuteTime": {
     "end_time": "2024-05-03T11:19:46.251700Z",
     "start_time": "2024-05-03T11:19:46.247072Z"
    }
   },
   "cell_type": "code",
   "source": [
    "stat, p_value = shapiro(AMB_PA['Sarcopènia'])\n",
    "print(f\"Estadístic W = {stat:.4f}\")\n",
    "print(f\"Valor p = {p_value:.4f}\")\n",
    "\n",
    "alpha = 0.05\n",
    "if p_value < alpha:\n",
    "    print(\"El nombre de files no segueix una distribució normal.\")\n",
    "else:\n",
    "    print(\"El nombre de files segueix una distribució normal\")"
   ],
   "id": "41853aa064104ee9",
   "outputs": [
    {
     "name": "stdout",
     "output_type": "stream",
     "text": [
      "Estadístic W = 1.0000\n",
      "Valor p = 1.0000\n",
      "El nombre de files segueix una distribució normal\n"
     ]
    },
    {
     "name": "stderr",
     "output_type": "stream",
     "text": [
      "C:\\Users\\User\\PycharmProjects\\PRACTICUM\\venv\\Lib\\site-packages\\scipy\\stats\\_axis_nan_policy.py:531: UserWarning: scipy.stats.shapiro: Input data has range zero. The results may not be accurate.\n",
      "  res = hypotest_fun_out(*samples, **kwds)\n"
     ]
    }
   ],
   "execution_count": 346
  },
  {
   "metadata": {
    "ExecuteTime": {
     "end_time": "2024-05-03T11:19:49.235327Z",
     "start_time": "2024-05-03T11:19:49.230755Z"
    }
   },
   "cell_type": "code",
   "source": [
    "stat, p_value = shapiro(AMB_PA_MECVV['Sarcopènia'])\n",
    "print(f\"Estadístic W = {stat:.4f}\")\n",
    "print(f\"Valor p = {p_value:.4f}\")\n",
    "\n",
    "alpha = 0.05\n",
    "if p_value < alpha:\n",
    "    print(\"El nombre de files no segueix una distribució normal.\")\n",
    "else:\n",
    "    print(\"El nombre de files segueix una distribució normal\")"
   ],
   "id": "819daed34f463c5d",
   "outputs": [
    {
     "name": "stdout",
     "output_type": "stream",
     "text": [
      "Estadístic W = 1.0000\n",
      "Valor p = 1.0000\n",
      "El nombre de files segueix una distribució normal\n"
     ]
    },
    {
     "name": "stderr",
     "output_type": "stream",
     "text": [
      "C:\\Users\\User\\PycharmProjects\\PRACTICUM\\venv\\Lib\\site-packages\\scipy\\stats\\_axis_nan_policy.py:531: UserWarning: scipy.stats.shapiro: Input data has range zero. The results may not be accurate.\n",
      "  res = hypotest_fun_out(*samples, **kwds)\n"
     ]
    }
   ],
   "execution_count": 347
  },
  {
   "metadata": {
    "ExecuteTime": {
     "end_time": "2024-05-03T11:19:53.002218Z",
     "start_time": "2024-05-03T11:19:52.998151Z"
    }
   },
   "cell_type": "code",
   "source": [
    "stat, p_value = shapiro(SENSE_PA['Sarcopènia'])\n",
    "print(f\"Estadístic W = {stat:.4f}\")\n",
    "print(f\"Valor p = {p_value:.4f}\")\n",
    "\n",
    "alpha = 0.05\n",
    "if p_value < alpha:\n",
    "    print(\"El nombre de files no segueix una distribució normal.\")\n",
    "else:\n",
    "    print(\"El nombre de files segueix una distribució normal\")"
   ],
   "id": "6cba774cd30a32c1",
   "outputs": [
    {
     "name": "stdout",
     "output_type": "stream",
     "text": [
      "Estadístic W = 0.4184\n",
      "Valor p = 0.0000\n",
      "El nombre de files no segueix una distribució normal.\n"
     ]
    }
   ],
   "execution_count": 348
  },
  {
   "metadata": {
    "ExecuteTime": {
     "end_time": "2024-05-03T11:20:08.315962Z",
     "start_time": "2024-05-03T11:20:08.311703Z"
    }
   },
   "cell_type": "code",
   "source": [
    "stat, p_value = shapiro(TOTAL['Sarcopènia'])\n",
    "print(f\"Estadístic W = {stat:.4f}\")\n",
    "print(f\"Valor p = {p_value:.4f}\")\n",
    "\n",
    "alpha = 0.05\n",
    "if p_value < alpha:\n",
    "    print(\"El nombre de files no segueix una distribució normal.\")\n",
    "else:\n",
    "    print(\"El nombre de files segueix una distribució normal\")"
   ],
   "id": "52c457bcdcb5a88a",
   "outputs": [
    {
     "name": "stdout",
     "output_type": "stream",
     "text": [
      "Estadístic W = 0.1982\n",
      "Valor p = 0.0000\n",
      "El nombre de files no segueix una distribució normal.\n"
     ]
    }
   ],
   "execution_count": 349
  },
  {
   "metadata": {
    "ExecuteTime": {
     "end_time": "2024-05-03T11:22:54.903564Z",
     "start_time": "2024-05-03T11:22:54.895078Z"
    }
   },
   "cell_type": "code",
   "source": [
    "contingency_table_12 = pd.crosstab(index=AMB_PA['Sarcopènia'], columns=AMB_PA_MECVV['Sarcopènia']) \n",
    " \n",
    "chi2_12, p_value_12, dof_12, expected_12 = chi2_contingency(contingency_table_12) \n",
    " \n",
    "print(\"Estadístic xi-quadrat entre AMB_PA i AMB_PA_MECVV:\", chi2_12) \n",
    "print(\"P-valor entre AMB_PA i AMB_PA_MECVV:\", p_value_12) \n",
    " \n",
    "if p_value_12 < 0.05: \n",
    "    print(\"Hi ha diferències significatives entre les distribucions de sarcopènia en AMB_PA i AMB_PA_MECVV.\") \n",
    "else: \n",
    "    print(\"No hi ha diferències significatives entre les distribucions de sarcopènia en AMB_PA i AMB_PA_MECVV.\") "
   ],
   "id": "313be6964130b7aa",
   "outputs": [
    {
     "name": "stdout",
     "output_type": "stream",
     "text": [
      "Estadístic xi-quadrat entre AMB_PA i AMB_PA_MECVV: 0.0\n",
      "P-valor entre AMB_PA i AMB_PA_MECVV: 1.0\n",
      "No hi ha diferències significatives entre les distribucions de sarcopènia en AMB_PA i AMB_PA_MECVV.\n"
     ]
    }
   ],
   "execution_count": 351
  },
  {
   "metadata": {
    "ExecuteTime": {
     "end_time": "2024-05-03T11:23:36.111414Z",
     "start_time": "2024-05-03T11:23:36.103188Z"
    }
   },
   "cell_type": "code",
   "source": [
    "contingency_table_13 = pd.crosstab(index=AMB_PA['Sarcopènia'], columns=SENSE_PA['Sarcopènia']) \n",
    " \n",
    "chi2_13, p_value_13, dof_13, expected_13 = chi2_contingency(contingency_table_13) \n",
    " \n",
    "print(\"Estadístic xi-quadrat entre AMB_PA i SENSE_PA:\", chi2_13) \n",
    "print(\"P-valor entre AMB_PA i SENSE_PA:\", p_value_13) \n",
    " \n",
    "if p_value_13 < 0.05: \n",
    "    print(\"Hi ha diferències significatives entre les distribucions de sarcopènia en AMB_PA i SENSE_PA.\") \n",
    "else: \n",
    "    print(\"No hi ha diferències significatives entre les distribucions de sarcopènia AMB_PA i SENSE_PA.\") "
   ],
   "id": "311f77406d30370b",
   "outputs": [
    {
     "name": "stdout",
     "output_type": "stream",
     "text": [
      "Estadístic xi-quadrat entre AMB_PA i SENSE_PA: 0.0\n",
      "P-valor entre AMB_PA i SENSE_PA: 1.0\n",
      "No hi ha diferències significatives entre les distribucions de sarcopènia AMB_PA i SENSE_PA.\n"
     ]
    }
   ],
   "execution_count": 352
  },
  {
   "metadata": {
    "ExecuteTime": {
     "end_time": "2024-05-03T11:24:18.089981Z",
     "start_time": "2024-05-03T11:24:18.066475Z"
    }
   },
   "cell_type": "code",
   "source": [
    "contingency_table_23 = pd.crosstab(index=AMB_PA_MECVV['Sarcopènia'], columns=SENSE_PA['Sarcopènia']) \n",
    " \n",
    "chi2_23, p_value_23, dof_23, expected_23 = chi2_contingency(contingency_table_23) \n",
    " \n",
    "print(\"Estadístic xi-quadrat entre AMB_PA_MECCV i SENSE_PA:\", chi2_23) \n",
    "print(\"P-valor entre AMB_PA_MECVV i SENSE_PA:\", p_value_23) \n",
    " \n",
    "if p_value_23 < 0.05: \n",
    "    print(\"Hi ha diferències significatives entre les distribucions de sarcopènia en AMB_PA_MECVV i SENSE_PA.\") \n",
    "else: \n",
    "    print(\"No hi ha diferències significatives entre les distribucions de sarcopènia en AMB_PA_MECVV i SENSE_PA.\") "
   ],
   "id": "2fd5fff672c1e53",
   "outputs": [
    {
     "ename": "ValueError",
     "evalue": "No data; `observed` has size 0.",
     "output_type": "error",
     "traceback": [
      "\u001B[1;31m---------------------------------------------------------------------------\u001B[0m",
      "\u001B[1;31mValueError\u001B[0m                                Traceback (most recent call last)",
      "Cell \u001B[1;32mIn[353], line 3\u001B[0m\n\u001B[0;32m      1\u001B[0m contingency_table_23 \u001B[38;5;241m=\u001B[39m pd\u001B[38;5;241m.\u001B[39mcrosstab(index\u001B[38;5;241m=\u001B[39mAMB_PA_MECVV[\u001B[38;5;124m'\u001B[39m\u001B[38;5;124mSarcopènia\u001B[39m\u001B[38;5;124m'\u001B[39m], columns\u001B[38;5;241m=\u001B[39mSENSE_PA[\u001B[38;5;124m'\u001B[39m\u001B[38;5;124mSarcopènia\u001B[39m\u001B[38;5;124m'\u001B[39m]) \n\u001B[1;32m----> 3\u001B[0m chi2_23, p_value_23, dof_23, expected_23 \u001B[38;5;241m=\u001B[39m \u001B[43mchi2_contingency\u001B[49m\u001B[43m(\u001B[49m\u001B[43mcontingency_table_23\u001B[49m\u001B[43m)\u001B[49m \n\u001B[0;32m      5\u001B[0m \u001B[38;5;28mprint\u001B[39m(\u001B[38;5;124m\"\u001B[39m\u001B[38;5;124mEstadístic xi-quadrat entre AMB_PA_MECCV i SENSE_PA:\u001B[39m\u001B[38;5;124m\"\u001B[39m, chi2_23) \n\u001B[0;32m      6\u001B[0m \u001B[38;5;28mprint\u001B[39m(\u001B[38;5;124m\"\u001B[39m\u001B[38;5;124mP-valor entre AMB_PA_MECVV i SENSE_PA:\u001B[39m\u001B[38;5;124m\"\u001B[39m, p_value_23) \n",
      "File \u001B[1;32m~\\PycharmProjects\\PRACTICUM\\venv\\Lib\\site-packages\\scipy\\stats\\contingency.py:333\u001B[0m, in \u001B[0;36mchi2_contingency\u001B[1;34m(observed, correction, lambda_)\u001B[0m\n\u001B[0;32m    331\u001B[0m     \u001B[38;5;28;01mraise\u001B[39;00m \u001B[38;5;167;01mValueError\u001B[39;00m(\u001B[38;5;124m\"\u001B[39m\u001B[38;5;124mAll values in `observed` must be nonnegative.\u001B[39m\u001B[38;5;124m\"\u001B[39m)\n\u001B[0;32m    332\u001B[0m \u001B[38;5;28;01mif\u001B[39;00m observed\u001B[38;5;241m.\u001B[39msize \u001B[38;5;241m==\u001B[39m \u001B[38;5;241m0\u001B[39m:\n\u001B[1;32m--> 333\u001B[0m     \u001B[38;5;28;01mraise\u001B[39;00m \u001B[38;5;167;01mValueError\u001B[39;00m(\u001B[38;5;124m\"\u001B[39m\u001B[38;5;124mNo data; `observed` has size 0.\u001B[39m\u001B[38;5;124m\"\u001B[39m)\n\u001B[0;32m    335\u001B[0m expected \u001B[38;5;241m=\u001B[39m expected_freq(observed)\n\u001B[0;32m    336\u001B[0m \u001B[38;5;28;01mif\u001B[39;00m np\u001B[38;5;241m.\u001B[39many(expected \u001B[38;5;241m==\u001B[39m \u001B[38;5;241m0\u001B[39m):\n\u001B[0;32m    337\u001B[0m     \u001B[38;5;66;03m# Include one of the positions where expected is zero in\u001B[39;00m\n\u001B[0;32m    338\u001B[0m     \u001B[38;5;66;03m# the exception message.\u001B[39;00m\n",
      "\u001B[1;31mValueError\u001B[0m: No data; `observed` has size 0."
     ]
    }
   ],
   "execution_count": 353
  },
  {
   "metadata": {
    "ExecuteTime": {
     "end_time": "2024-05-03T11:25:28.665935Z",
     "start_time": "2024-05-03T11:25:28.657975Z"
    }
   },
   "cell_type": "code",
   "source": [
    "contingency_table_14 = pd.crosstab(index=AMB_PA['Sarcopènia'], columns=TOTAL['Sarcopènia']) \n",
    " \n",
    "chi2_14, p_value_14, dof_14, expected_14 = chi2_contingency(contingency_table_14) \n",
    " \n",
    "print(\"Estadístic xi-quadrat entre AMB_PA i TOTAL:\", chi2_14) \n",
    "print(\"P-valor entre AMB_PA i TOTAL:\", p_value_14) \n",
    " \n",
    "if p_value_14 < 0.05: \n",
    "    print(\"Hi ha diferències significatives entre les distribucions de sarcopènia en AMB_PA i TOTAL.\") \n",
    "else: \n",
    "    print(\"No hi ha diferències significatives entre les distribucions de sarcopènia en AMB_PA i TOTAL.\") "
   ],
   "id": "87156e53f23d57a6",
   "outputs": [
    {
     "name": "stdout",
     "output_type": "stream",
     "text": [
      "Estadístic xi-quadrat entre AMB_PA i TOTAL: 0.0\n",
      "P-valor entre AMB_PA i TOTAL: 1.0\n",
      "No hi ha diferències significatives entre les distribucions de sarcopènia en AMB_PA i TOTAL.\n"
     ]
    }
   ],
   "execution_count": 354
  },
  {
   "metadata": {
    "ExecuteTime": {
     "end_time": "2024-05-03T11:26:20.856772Z",
     "start_time": "2024-05-03T11:26:20.849253Z"
    }
   },
   "cell_type": "code",
   "source": [
    "contingency_table_24 = pd.crosstab(index=AMB_PA_MECVV['Sarcopènia'], columns=TOTAL['Sarcopènia']) \n",
    " \n",
    "chi2_24, p_value_24, dof_24, expected_24 = chi2_contingency(contingency_table_24) \n",
    " \n",
    "print(\"Estadístic xi-quadrat entre AMB_PA_MECVV i TOTAL:\", chi2_24) \n",
    "print(\"P-valor entre AMB_PA_MECVV i TOTAL:\", p_value_24) \n",
    " \n",
    "if p_value_24 < 0.05: \n",
    "    print(\"Hi ha diferències significatives entre les distribucions de sarcopènia en AMB_PA_MECVV i TOTAL.\") \n",
    "else: \n",
    "    print(\"No hi ha diferències significatives entre les distribucions de sarcopènia en AMB_PA_MECVV i TOTAL.\") "
   ],
   "id": "7992e5887927f0dc",
   "outputs": [
    {
     "name": "stdout",
     "output_type": "stream",
     "text": [
      "Estadístic xi-quadrat entre AMB_PA_MECVV i TOTAL: 0.0\n",
      "P-valor entre AMB_PA_MECVV i TOTAL: 1.0\n",
      "No hi ha diferències significatives entre les distribucions de sarcopènia en AMB_PA_MECVV i TOTAL.\n"
     ]
    }
   ],
   "execution_count": 355
  },
  {
   "metadata": {
    "ExecuteTime": {
     "end_time": "2024-05-03T11:27:30.790321Z",
     "start_time": "2024-05-03T11:27:30.782857Z"
    }
   },
   "cell_type": "code",
   "source": [
    "contingency_table_34 = pd.crosstab(index=SENSE_PA['Sarcopènia'], columns=TOTAL['Sarcopènia']) \n",
    " \n",
    "chi2_34, p_value_34, dof_34, expected_34 = chi2_contingency(contingency_table_34) \n",
    " \n",
    "print(\"Estadístic xi-quadrat entre SENSE_PA i TOTAL:\", chi2_34) \n",
    "print(\"P-valor entre SENSE_PA i TOTAL:\", p_value_34) \n",
    " \n",
    "if p_value_34 < 0.05: \n",
    "    print(\"Hi ha diferències significatives entre les distribucions de sarcopènia en SENSE_PA i TOTAL.\") \n",
    "else: \n",
    "    print(\"No hi ha diferències significatives entre les distribucions de sarcopènia en SENSE_PA i TOTAL.\") "
   ],
   "id": "4f8d7a33b2cf11f6",
   "outputs": [
    {
     "name": "stdout",
     "output_type": "stream",
     "text": [
      "Estadístic xi-quadrat entre SENSE_PA i TOTAL: 1.469387755102041\n",
      "P-valor entre SENSE_PA i TOTAL: 0.22544231699450956\n",
      "No hi ha diferències significatives entre les distribucions de sarcopènia en SENSE_PA i TOTAL.\n"
     ]
    }
   ],
   "execution_count": 356
  },
  {
   "metadata": {},
   "cell_type": "markdown",
   "source": "## Trastorns del son",
   "id": "f41eecfcc7117fb8"
  },
  {
   "metadata": {
    "ExecuteTime": {
     "end_time": "2024-05-03T11:28:12.001639Z",
     "start_time": "2024-05-03T11:28:11.998677Z"
    }
   },
   "cell_type": "code",
   "source": [
    "ts_AMB_PA= (AMB_PA['Probl.son'] == 1.0).mean() * 100\n",
    "print(f\"Percentatge de trastorns del son: {ts_AMB_PA:.2f}%\")"
   ],
   "id": "cb850aac92c63822",
   "outputs": [
    {
     "name": "stdout",
     "output_type": "stream",
     "text": [
      "Percentatge de trastorns del son: 0.00%\n"
     ]
    }
   ],
   "execution_count": 360
  },
  {
   "metadata": {
    "ExecuteTime": {
     "end_time": "2024-05-03T11:27:58.980173Z",
     "start_time": "2024-05-03T11:27:58.976490Z"
    }
   },
   "cell_type": "code",
   "source": [
    "ts_AMB_PA_MECVV= (AMB_PA_MECVV['Probl.son'] == 1.0).mean() * 100\n",
    "print(f\"Percentatge de trastorns del son: {ts_AMB_PA_MECVV:.2f}%\")"
   ],
   "id": "2879ba619f21dd9",
   "outputs": [
    {
     "name": "stdout",
     "output_type": "stream",
     "text": [
      "Percentatge de trastorns del son: 0.00%\n"
     ]
    }
   ],
   "execution_count": 358
  },
  {
   "metadata": {
    "ExecuteTime": {
     "end_time": "2024-05-03T11:28:08.171726Z",
     "start_time": "2024-05-03T11:28:08.167805Z"
    }
   },
   "cell_type": "code",
   "source": [
    "ts_SENSE_PA= (SENSE_PA['Probl.son'] == 1.0).mean() * 100\n",
    "print(f\"Percentatge de trastorns del son: {ts_SENSE_PA:.2f}%\")"
   ],
   "id": "dd0194dec4acdb86",
   "outputs": [
    {
     "name": "stdout",
     "output_type": "stream",
     "text": [
      "Percentatge de trastorns del son: 0.00%\n"
     ]
    }
   ],
   "execution_count": 359
  },
  {
   "metadata": {
    "ExecuteTime": {
     "end_time": "2024-05-03T11:44:10.056864Z",
     "start_time": "2024-05-03T11:44:10.053001Z"
    }
   },
   "cell_type": "code",
   "source": [
    "ts_TOTAL= (TOTAL['Probl.son'] == 1.0).mean() * 100\n",
    "print(f\"Percentatge de trastorns del son: {ts_TOTAL:.2f}%\")"
   ],
   "id": "dd9f7d010809f2f4",
   "outputs": [
    {
     "name": "stdout",
     "output_type": "stream",
     "text": [
      "Percentatge de trastorns del son: 0.00%\n"
     ]
    }
   ],
   "execution_count": 361
  },
  {
   "metadata": {},
   "cell_type": "markdown",
   "source": [
    "#### Pvalor"
   ],
   "id": "19dac29e093145f8"
  },
  {
   "metadata": {},
   "cell_type": "markdown",
   "source": [
    "##### Normalitat"
   ],
   "id": "a0e8b431b959bbf1"
  },
  {
   "metadata": {
    "ExecuteTime": {
     "end_time": "2024-05-03T11:44:23.765382Z",
     "start_time": "2024-05-03T11:44:23.761052Z"
    }
   },
   "cell_type": "code",
   "source": [
    "stat, p_value = shapiro(AMB_PA['Probl.son'])\n",
    "print(f\"Estadístic W = {stat:.4f}\")\n",
    "print(f\"Valor p = {p_value:.4f}\")\n",
    "\n",
    "alpha = 0.05\n",
    "if p_value < alpha:\n",
    "    print(\"El nombre de files no segueix una distribució normal.\")\n",
    "else:\n",
    "    print(\"El nombre de files segueix una distribució normal\")"
   ],
   "id": "16296bc5aaed316f",
   "outputs": [
    {
     "name": "stdout",
     "output_type": "stream",
     "text": [
      "Estadístic W = 1.0000\n",
      "Valor p = 1.0000\n",
      "El nombre de files segueix una distribució normal\n"
     ]
    },
    {
     "name": "stderr",
     "output_type": "stream",
     "text": [
      "C:\\Users\\User\\PycharmProjects\\PRACTICUM\\venv\\Lib\\site-packages\\scipy\\stats\\_axis_nan_policy.py:531: UserWarning: scipy.stats.shapiro: Input data has range zero. The results may not be accurate.\n",
      "  res = hypotest_fun_out(*samples, **kwds)\n"
     ]
    }
   ],
   "execution_count": 362
  },
  {
   "metadata": {
    "ExecuteTime": {
     "end_time": "2024-05-03T11:44:30.158237Z",
     "start_time": "2024-05-03T11:44:30.154082Z"
    }
   },
   "cell_type": "code",
   "source": [
    "stat, p_value = shapiro(AMB_PA_MECVV['Probl.son'])\n",
    "print(f\"Estadístic W = {stat:.4f}\")\n",
    "print(f\"Valor p = {p_value:.4f}\")\n",
    "\n",
    "alpha = 0.05\n",
    "if p_value < alpha:\n",
    "    print(\"El nombre de files no segueix una distribució normal.\")\n",
    "else:\n",
    "    print(\"El nombre de files segueix una distribució normal\")"
   ],
   "id": "f8e7ea2d4eb04180",
   "outputs": [
    {
     "name": "stdout",
     "output_type": "stream",
     "text": [
      "Estadístic W = 1.0000\n",
      "Valor p = 1.0000\n",
      "El nombre de files segueix una distribució normal\n"
     ]
    },
    {
     "name": "stderr",
     "output_type": "stream",
     "text": [
      "C:\\Users\\User\\PycharmProjects\\PRACTICUM\\venv\\Lib\\site-packages\\scipy\\stats\\_axis_nan_policy.py:531: UserWarning: scipy.stats.shapiro: Input data has range zero. The results may not be accurate.\n",
      "  res = hypotest_fun_out(*samples, **kwds)\n"
     ]
    }
   ],
   "execution_count": 363
  },
  {
   "metadata": {
    "ExecuteTime": {
     "end_time": "2024-05-03T11:44:34.185273Z",
     "start_time": "2024-05-03T11:44:34.180848Z"
    }
   },
   "cell_type": "code",
   "source": [
    "stat, p_value = shapiro(SENSE_PA['Probl.son'])\n",
    "print(f\"Estadístic W = {stat:.4f}\")\n",
    "print(f\"Valor p = {p_value:.4f}\")\n",
    "\n",
    "alpha = 0.05\n",
    "if p_value < alpha:\n",
    "    print(\"El nombre de files no segueix una distribució normal.\")\n",
    "else:\n",
    "    print(\"El nombre de files segueix una distribució normal\")"
   ],
   "id": "f33fd2e6c17c27b6",
   "outputs": [
    {
     "name": "stdout",
     "output_type": "stream",
     "text": [
      "Estadístic W = 1.0000\n",
      "Valor p = 1.0000\n",
      "El nombre de files segueix una distribució normal\n"
     ]
    },
    {
     "name": "stderr",
     "output_type": "stream",
     "text": [
      "C:\\Users\\User\\PycharmProjects\\PRACTICUM\\venv\\Lib\\site-packages\\scipy\\stats\\_axis_nan_policy.py:531: UserWarning: scipy.stats.shapiro: Input data has range zero. The results may not be accurate.\n",
      "  res = hypotest_fun_out(*samples, **kwds)\n"
     ]
    }
   ],
   "execution_count": 364
  },
  {
   "metadata": {
    "ExecuteTime": {
     "end_time": "2024-05-03T11:44:50.485994Z",
     "start_time": "2024-05-03T11:44:50.482670Z"
    }
   },
   "cell_type": "code",
   "source": [
    "stat, p_value = shapiro(TOTAL['Probl.son'])\n",
    "print(f\"Estadístic W = {stat:.4f}\")\n",
    "print(f\"Valor p = {p_value:.4f}\")\n",
    "\n",
    "alpha = 0.05\n",
    "if p_value < alpha:\n",
    "    print(\"El nombre de files no segueix una distribució normal.\")\n",
    "else:\n",
    "    print(\"El nombre de files segueix una distribució normal\")"
   ],
   "id": "dd0ebba2b645d156",
   "outputs": [
    {
     "name": "stdout",
     "output_type": "stream",
     "text": [
      "Estadístic W = 1.0000\n",
      "Valor p = 1.0000\n",
      "El nombre de files segueix una distribució normal\n"
     ]
    },
    {
     "name": "stderr",
     "output_type": "stream",
     "text": [
      "C:\\Users\\User\\PycharmProjects\\PRACTICUM\\venv\\Lib\\site-packages\\scipy\\stats\\_axis_nan_policy.py:531: UserWarning: scipy.stats.shapiro: Input data has range zero. The results may not be accurate.\n",
      "  res = hypotest_fun_out(*samples, **kwds)\n"
     ]
    }
   ],
   "execution_count": 365
  },
  {
   "metadata": {
    "ExecuteTime": {
     "end_time": "2024-05-03T11:46:49.892658Z",
     "start_time": "2024-05-03T11:46:49.885170Z"
    }
   },
   "cell_type": "code",
   "source": [
    "contingency_table_12 = pd.crosstab(index=AMB_PA['Probl.son'], columns=AMB_PA_MECVV['Probl.son']) \n",
    " \n",
    "chi2_12, p_value_12, dof_12, expected_12 = chi2_contingency(contingency_table_12) \n",
    " \n",
    "print(\"Estadístic xi-quadrat entre AMB_PA i AMB_PA_MECVV:\", chi2_12) \n",
    "print(\"P-valor entre AMB_PA i AMB_PA_MECVV:\", p_value_12) \n",
    " \n",
    "if p_value_12 < 0.05: \n",
    "    print(\"Hi ha diferències significatives entre les distribucions de problemes de son en AMB_PA i AMB_PA_MECVV.\") \n",
    "else: \n",
    "    print(\"No hi ha diferències significatives entre les distribucions de problemes de son en AMB_PA i AMB_PA_MECVV.\")"
   ],
   "id": "99f759bffcb3e331",
   "outputs": [
    {
     "name": "stdout",
     "output_type": "stream",
     "text": [
      "Estadístic xi-quadrat entre AMB_PA i AMB_PA_MECVV: 0.0\n",
      "P-valor entre AMB_PA i AMB_PA_MECVV: 1.0\n",
      "No hi ha diferències significatives entre les distribucions de problemes de son en AMB_PA i AMB_PA_MECVV.\n"
     ]
    }
   ],
   "execution_count": 366
  },
  {
   "metadata": {
    "ExecuteTime": {
     "end_time": "2024-05-03T11:47:17.841879Z",
     "start_time": "2024-05-03T11:47:17.833784Z"
    }
   },
   "cell_type": "code",
   "source": [
    "contingency_table_13 = pd.crosstab(index=AMB_PA['Probl.son'], columns=SENSE_PA['Probl.son']) \n",
    " \n",
    "chi2_13, p_value_13, dof_13, expected_13 = chi2_contingency(contingency_table_13) \n",
    " \n",
    "print(\"Estadístic xi-quadrat entre AMB_PA i SENSE_PA:\", chi2_13) \n",
    "print(\"P-valor entre AMB_PA i SENSE_PA:\", p_value_13) \n",
    " \n",
    "if p_value_13 < 0.05: \n",
    "    print(\"Hi ha diferències significatives entre les distribucions de problemes de son en AMB_PA i SENSE_PA.\") \n",
    "else: \n",
    "    print(\"No hi ha diferències significatives entre les distribucions de problemes de son en AMB_PA i SENSE_PA.\") "
   ],
   "id": "5c985a181a2de62f",
   "outputs": [
    {
     "name": "stdout",
     "output_type": "stream",
     "text": [
      "Estadístic xi-quadrat entre AMB_PA i SENSE_PA: 0.0\n",
      "P-valor entre AMB_PA i SENSE_PA: 1.0\n",
      "No hi ha diferències significatives entre les distribucions de problemes de son en AMB_PA i SENSE_PA.\n"
     ]
    }
   ],
   "execution_count": 367
  },
  {
   "metadata": {
    "ExecuteTime": {
     "end_time": "2024-05-03T11:47:55.436810Z",
     "start_time": "2024-05-03T11:47:55.413296Z"
    }
   },
   "cell_type": "code",
   "source": [
    "contingency_table_23 = pd.crosstab(index=AMB_PA_MECVV['Probl.son'], columns=SENSE_PA['Probl.son']) \n",
    " \n",
    "chi2_23, p_value_23, dof_23, expected_23 = chi2_contingency(contingency_table_23) \n",
    " \n",
    "print(\"Estadístic xi-quadrat entre AMB_PA_MECCV i SENSE_PA:\", chi2_23) \n",
    "print(\"P-valor entre AMB_PA_MECVV i SENSE_PA:\", p_value_23) \n",
    " \n",
    "if p_value_23 < 0.05: \n",
    "    print(\"Hi ha diferències significatives entre les distribucions de problemes de son en AMB_PA_MECVV i SENSE_PA.\") \n",
    "else: \n",
    "    print(\"No hi ha diferències significatives entre les distribucions de problemes de son en AMB_PA_MECVV i SENSE_PA.\") "
   ],
   "id": "81a2ca03796461ce",
   "outputs": [
    {
     "ename": "ValueError",
     "evalue": "No data; `observed` has size 0.",
     "output_type": "error",
     "traceback": [
      "\u001B[1;31m---------------------------------------------------------------------------\u001B[0m",
      "\u001B[1;31mValueError\u001B[0m                                Traceback (most recent call last)",
      "Cell \u001B[1;32mIn[368], line 3\u001B[0m\n\u001B[0;32m      1\u001B[0m contingency_table_23 \u001B[38;5;241m=\u001B[39m pd\u001B[38;5;241m.\u001B[39mcrosstab(index\u001B[38;5;241m=\u001B[39mAMB_PA_MECVV[\u001B[38;5;124m'\u001B[39m\u001B[38;5;124mProbl.son\u001B[39m\u001B[38;5;124m'\u001B[39m], columns\u001B[38;5;241m=\u001B[39mSENSE_PA[\u001B[38;5;124m'\u001B[39m\u001B[38;5;124mProbl.son\u001B[39m\u001B[38;5;124m'\u001B[39m]) \n\u001B[1;32m----> 3\u001B[0m chi2_23, p_value_23, dof_23, expected_23 \u001B[38;5;241m=\u001B[39m \u001B[43mchi2_contingency\u001B[49m\u001B[43m(\u001B[49m\u001B[43mcontingency_table_23\u001B[49m\u001B[43m)\u001B[49m \n\u001B[0;32m      5\u001B[0m \u001B[38;5;28mprint\u001B[39m(\u001B[38;5;124m\"\u001B[39m\u001B[38;5;124mEstadístic xi-quadrat entre AMB_PA_MECCV i SENSE_PA:\u001B[39m\u001B[38;5;124m\"\u001B[39m, chi2_23) \n\u001B[0;32m      6\u001B[0m \u001B[38;5;28mprint\u001B[39m(\u001B[38;5;124m\"\u001B[39m\u001B[38;5;124mP-valor entre AMB_PA_MECVV i SENSE_PA:\u001B[39m\u001B[38;5;124m\"\u001B[39m, p_value_23) \n",
      "File \u001B[1;32m~\\PycharmProjects\\PRACTICUM\\venv\\Lib\\site-packages\\scipy\\stats\\contingency.py:333\u001B[0m, in \u001B[0;36mchi2_contingency\u001B[1;34m(observed, correction, lambda_)\u001B[0m\n\u001B[0;32m    331\u001B[0m     \u001B[38;5;28;01mraise\u001B[39;00m \u001B[38;5;167;01mValueError\u001B[39;00m(\u001B[38;5;124m\"\u001B[39m\u001B[38;5;124mAll values in `observed` must be nonnegative.\u001B[39m\u001B[38;5;124m\"\u001B[39m)\n\u001B[0;32m    332\u001B[0m \u001B[38;5;28;01mif\u001B[39;00m observed\u001B[38;5;241m.\u001B[39msize \u001B[38;5;241m==\u001B[39m \u001B[38;5;241m0\u001B[39m:\n\u001B[1;32m--> 333\u001B[0m     \u001B[38;5;28;01mraise\u001B[39;00m \u001B[38;5;167;01mValueError\u001B[39;00m(\u001B[38;5;124m\"\u001B[39m\u001B[38;5;124mNo data; `observed` has size 0.\u001B[39m\u001B[38;5;124m\"\u001B[39m)\n\u001B[0;32m    335\u001B[0m expected \u001B[38;5;241m=\u001B[39m expected_freq(observed)\n\u001B[0;32m    336\u001B[0m \u001B[38;5;28;01mif\u001B[39;00m np\u001B[38;5;241m.\u001B[39many(expected \u001B[38;5;241m==\u001B[39m \u001B[38;5;241m0\u001B[39m):\n\u001B[0;32m    337\u001B[0m     \u001B[38;5;66;03m# Include one of the positions where expected is zero in\u001B[39;00m\n\u001B[0;32m    338\u001B[0m     \u001B[38;5;66;03m# the exception message.\u001B[39;00m\n",
      "\u001B[1;31mValueError\u001B[0m: No data; `observed` has size 0."
     ]
    }
   ],
   "execution_count": 368
  },
  {
   "metadata": {
    "ExecuteTime": {
     "end_time": "2024-05-03T11:48:46.857323Z",
     "start_time": "2024-05-03T11:48:46.850865Z"
    }
   },
   "cell_type": "code",
   "source": [
    "contingency_table_14 = pd.crosstab(index=AMB_PA['Probl.son'], columns=TOTAL['Probl.son']) \n",
    " \n",
    "chi2_14, p_value_14, dof_14, expected_14 = chi2_contingency(contingency_table_14) \n",
    " \n",
    "print(\"Estadístic xi-quadrat entre AMB_PA i TOTAL:\", chi2_14) \n",
    "print(\"P-valor entre AMB_PA i TOTAL:\", p_value_14) \n",
    " \n",
    "if p_value_14 < 0.05: \n",
    "    print(\"Hi ha diferències significatives entre les distribucions de problemes de son en AMB_PA i TOTAL.\") \n",
    "else: \n",
    "    print(\"No hi ha diferències significatives entre les distribucions de problemes de son en AMB_PA i TOTAL.\") "
   ],
   "id": "883c7c31bde4fa81",
   "outputs": [
    {
     "name": "stdout",
     "output_type": "stream",
     "text": [
      "Estadístic xi-quadrat entre AMB_PA i TOTAL: 0.0\n",
      "P-valor entre AMB_PA i TOTAL: 1.0\n",
      "No hi ha diferències significatives entre les distribucions de problemes de son en AMB_PA i TOTAL.\n"
     ]
    }
   ],
   "execution_count": 369
  },
  {
   "metadata": {
    "ExecuteTime": {
     "end_time": "2024-05-03T11:49:16.164911Z",
     "start_time": "2024-05-03T11:49:16.157805Z"
    }
   },
   "cell_type": "code",
   "source": [
    "contingency_table_24 = pd.crosstab(index=AMB_PA_MECVV['Probl.son'], columns=TOTAL['Probl.son']) \n",
    " \n",
    "chi2_24, p_value_24, dof_24, expected_24 = chi2_contingency(contingency_table_24) \n",
    " \n",
    "print(\"Estadístic xi-quadrat entre AMB_PA_MECVV i TOTAL:\", chi2_24) \n",
    "print(\"P-valor entre AMB_PA_MECVV i TOTAL:\", p_value_24) \n",
    " \n",
    "if p_value_24 < 0.05: \n",
    "    print(\"Hi ha diferències significatives entre les distribucions de problemes de son en AMB_PA_MECVV i TOTAL.\") \n",
    "else: \n",
    "    print(\"No hi ha diferències significatives entre les distribucions de problemes de son en AMB_PA_MECVV i TOTAL.\") "
   ],
   "id": "7635845f549e8d67",
   "outputs": [
    {
     "name": "stdout",
     "output_type": "stream",
     "text": [
      "Estadístic xi-quadrat entre AMB_PA_MECVV i TOTAL: 0.0\n",
      "P-valor entre AMB_PA_MECVV i TOTAL: 1.0\n",
      "No hi ha diferències significatives entre les distribucions de problemes de son en AMB_PA_MECVV i TOTAL.\n"
     ]
    }
   ],
   "execution_count": 370
  },
  {
   "metadata": {
    "ExecuteTime": {
     "end_time": "2024-05-03T11:49:47.445094Z",
     "start_time": "2024-05-03T11:49:47.438168Z"
    }
   },
   "cell_type": "code",
   "source": [
    "contingency_table_34 = pd.crosstab(index=SENSE_PA['Probl.son'], columns=TOTAL['Probl.son']) \n",
    " \n",
    "chi2_34, p_value_34, dof_34, expected_34 = chi2_contingency(contingency_table_34) \n",
    " \n",
    "print(\"Estadístic xi-quadrat entre SENSE_PA i TOTAL:\", chi2_34) \n",
    "print(\"P-valor entre SENSE_PA i TOTAL:\", p_value_34) \n",
    " \n",
    "if p_value_34 < 0.05: \n",
    "    print(\"Hi ha diferències significatives entre les distribucions de problemes de son en SENSE_PA i TOTAL.\") \n",
    "else: \n",
    "    print(\"No hi ha diferències significatives entre les distribucions de problemes de son en SENSE_PA i TOTAL.\") "
   ],
   "id": "fa6b5d9af310d748",
   "outputs": [
    {
     "name": "stdout",
     "output_type": "stream",
     "text": [
      "Estadístic xi-quadrat entre SENSE_PA i TOTAL: 0.0\n",
      "P-valor entre SENSE_PA i TOTAL: 1.0\n",
      "No hi ha diferències significatives entre les distribucions de problemes de son en SENSE_PA i TOTAL.\n"
     ]
    }
   ],
   "execution_count": 371
  },
  {
   "metadata": {},
   "cell_type": "markdown",
   "source": [
    "## Dolor crònic"
   ],
   "id": "e9f22902aac5d32c"
  },
  {
   "metadata": {
    "ExecuteTime": {
     "end_time": "2024-05-03T11:50:28.965121Z",
     "start_time": "2024-05-03T11:50:28.961708Z"
    }
   },
   "cell_type": "code",
   "source": [
    "dc_AMB_PA= (AMB_PA['Dolor crònic'] == 1.0).mean() * 100\n",
    "print(f\"Percentatge de dolor crònic: {dc_AMB_PA:.2f}%\")"
   ],
   "id": "f05d2f7a214d0e82",
   "outputs": [
    {
     "name": "stdout",
     "output_type": "stream",
     "text": [
      "Percentatge de dolor crònic: 0.00%\n"
     ]
    }
   ],
   "execution_count": 372
  },
  {
   "metadata": {
    "ExecuteTime": {
     "end_time": "2024-05-03T11:50:32.403929Z",
     "start_time": "2024-05-03T11:50:32.399845Z"
    }
   },
   "cell_type": "code",
   "source": [
    "dc_AMB_PA_MECVV= (AMB_PA_MECVV['Dolor crònic'] == 1.0).mean() * 100\n",
    "print(f\"Percentatge de dolor crònic: {dc_AMB_PA_MECVV:.2f}%\")"
   ],
   "id": "f30beb6300be5f9c",
   "outputs": [
    {
     "name": "stdout",
     "output_type": "stream",
     "text": [
      "Percentatge de dolor crònic: 0.00%\n"
     ]
    }
   ],
   "execution_count": 373
  },
  {
   "metadata": {
    "ExecuteTime": {
     "end_time": "2024-05-03T11:50:34.894555Z",
     "start_time": "2024-05-03T11:50:34.891063Z"
    }
   },
   "cell_type": "code",
   "source": [
    "dc_SENSE_PA= (SENSE_PA['Dolor crònic'] == 1.0).mean() * 100\n",
    "print(f\"Percentatge de dolor crònic: {dc_SENSE_PA:.2f}%\")"
   ],
   "id": "1ac2254ca76f0a08",
   "outputs": [
    {
     "name": "stdout",
     "output_type": "stream",
     "text": [
      "Percentatge de dolor crònic: 0.00%\n"
     ]
    }
   ],
   "execution_count": 374
  },
  {
   "metadata": {
    "ExecuteTime": {
     "end_time": "2024-05-03T11:51:15.944250Z",
     "start_time": "2024-05-03T11:51:15.940492Z"
    }
   },
   "cell_type": "code",
   "source": [
    "dc_TOTAL= (TOTAL['Dolor crònic'] == 1.0).mean() * 100\n",
    "print(f\"Percentatge de dolor crònic: {dc_TOTAL:.2f}%\")"
   ],
   "id": "405531deb9584860",
   "outputs": [
    {
     "name": "stdout",
     "output_type": "stream",
     "text": [
      "Percentatge de dolor crònic: 0.00%\n"
     ]
    }
   ],
   "execution_count": 375
  },
  {
   "metadata": {},
   "cell_type": "markdown",
   "source": [
    "#### Pvalor"
   ],
   "id": "33b7bb39e9421e38"
  },
  {
   "metadata": {},
   "cell_type": "markdown",
   "source": [
    "##### Normalitat"
   ],
   "id": "88c69d09418d53ea"
  },
  {
   "metadata": {
    "ExecuteTime": {
     "end_time": "2024-05-03T11:51:25.255640Z",
     "start_time": "2024-05-03T11:51:25.251220Z"
    }
   },
   "cell_type": "code",
   "source": [
    "stat, p_value = shapiro(AMB_PA['Dolor crònic'])\n",
    "print(f\"Estadístic W = {stat:.4f}\")\n",
    "print(f\"Valor p = {p_value:.4f}\")\n",
    "\n",
    "alpha = 0.05\n",
    "if p_value < alpha:\n",
    "    print(\"El nombre de files no segueix una distribució normal.\")\n",
    "else:\n",
    "    print(\"El nombre de files segueix una distribució normal\")"
   ],
   "id": "34909e3d61ed7d9c",
   "outputs": [
    {
     "name": "stdout",
     "output_type": "stream",
     "text": [
      "Estadístic W = 1.0000\n",
      "Valor p = 1.0000\n",
      "El nombre de files segueix una distribució normal\n"
     ]
    },
    {
     "name": "stderr",
     "output_type": "stream",
     "text": [
      "C:\\Users\\User\\PycharmProjects\\PRACTICUM\\venv\\Lib\\site-packages\\scipy\\stats\\_axis_nan_policy.py:531: UserWarning: scipy.stats.shapiro: Input data has range zero. The results may not be accurate.\n",
      "  res = hypotest_fun_out(*samples, **kwds)\n"
     ]
    }
   ],
   "execution_count": 376
  },
  {
   "metadata": {
    "ExecuteTime": {
     "end_time": "2024-05-03T11:51:29.437984Z",
     "start_time": "2024-05-03T11:51:29.433762Z"
    }
   },
   "cell_type": "code",
   "source": [
    "stat, p_value = shapiro(AMB_PA_MECVV['Dolor crònic'])\n",
    "print(f\"Estadístic W = {stat:.4f}\")\n",
    "print(f\"Valor p = {p_value:.4f}\")\n",
    "\n",
    "alpha = 0.05\n",
    "if p_value < alpha:\n",
    "    print(\"El nombre de files no segueix una distribució normal.\")\n",
    "else:\n",
    "    print(\"El nombre de files segueix una distribució normal\")"
   ],
   "id": "72922e2c002b15f1",
   "outputs": [
    {
     "name": "stdout",
     "output_type": "stream",
     "text": [
      "Estadístic W = 1.0000\n",
      "Valor p = 1.0000\n",
      "El nombre de files segueix una distribució normal\n"
     ]
    },
    {
     "name": "stderr",
     "output_type": "stream",
     "text": [
      "C:\\Users\\User\\PycharmProjects\\PRACTICUM\\venv\\Lib\\site-packages\\scipy\\stats\\_axis_nan_policy.py:531: UserWarning: scipy.stats.shapiro: Input data has range zero. The results may not be accurate.\n",
      "  res = hypotest_fun_out(*samples, **kwds)\n"
     ]
    }
   ],
   "execution_count": 377
  },
  {
   "metadata": {
    "ExecuteTime": {
     "end_time": "2024-05-03T11:51:59.936814Z",
     "start_time": "2024-05-03T11:51:59.932096Z"
    }
   },
   "cell_type": "code",
   "source": [
    "stat, p_value = shapiro(SENSE_PA['Dolor crònic'])\n",
    "print(f\"Estadístic W = {stat:.4f}\")\n",
    "print(f\"Valor p = {p_value:.4f}\")\n",
    "\n",
    "alpha = 0.05\n",
    "if p_value < alpha:\n",
    "    print(\"El nombre de files no segueix una distribució normal.\")\n",
    "else:\n",
    "    print(\"El nombre de files segueix una distribució normal\")"
   ],
   "id": "c6125b891a3e9c4c",
   "outputs": [
    {
     "name": "stdout",
     "output_type": "stream",
     "text": [
      "Estadístic W = 1.0000\n",
      "Valor p = 1.0000\n",
      "El nombre de files segueix una distribució normal\n"
     ]
    },
    {
     "name": "stderr",
     "output_type": "stream",
     "text": [
      "C:\\Users\\User\\PycharmProjects\\PRACTICUM\\venv\\Lib\\site-packages\\scipy\\stats\\_axis_nan_policy.py:531: UserWarning: scipy.stats.shapiro: Input data has range zero. The results may not be accurate.\n",
      "  res = hypotest_fun_out(*samples, **kwds)\n"
     ]
    }
   ],
   "execution_count": 381
  },
  {
   "metadata": {
    "ExecuteTime": {
     "end_time": "2024-05-03T11:52:14.413690Z",
     "start_time": "2024-05-03T11:52:14.410Z"
    }
   },
   "cell_type": "code",
   "source": [
    "stat, p_value = shapiro(TOTAL['Dolor crònic'])\n",
    "print(f\"Estadístic W = {stat:.4f}\")\n",
    "print(f\"Valor p = {p_value:.4f}\")\n",
    "\n",
    "alpha = 0.05\n",
    "if p_value < alpha:\n",
    "    print(\"El nombre de files no segueix una distribució normal.\")\n",
    "else:\n",
    "    print(\"El nombre de files segueix una distribució normal\")"
   ],
   "id": "b25bf54a4b143cac",
   "outputs": [
    {
     "name": "stdout",
     "output_type": "stream",
     "text": [
      "Estadístic W = 1.0000\n",
      "Valor p = 1.0000\n",
      "El nombre de files segueix una distribució normal\n"
     ]
    },
    {
     "name": "stderr",
     "output_type": "stream",
     "text": [
      "C:\\Users\\User\\PycharmProjects\\PRACTICUM\\venv\\Lib\\site-packages\\scipy\\stats\\_axis_nan_policy.py:531: UserWarning: scipy.stats.shapiro: Input data has range zero. The results may not be accurate.\n",
      "  res = hypotest_fun_out(*samples, **kwds)\n"
     ]
    }
   ],
   "execution_count": 382
  },
  {
   "metadata": {
    "ExecuteTime": {
     "end_time": "2024-05-03T11:52:59.572793Z",
     "start_time": "2024-05-03T11:52:59.564981Z"
    }
   },
   "cell_type": "code",
   "source": [
    "contingency_table_12 = pd.crosstab(index=AMB_PA['Dolor crònic'], columns=AMB_PA_MECVV['Dolor crònic']) \n",
    " \n",
    "chi2_12, p_value_12, dof_12, expected_12 = chi2_contingency(contingency_table_12) \n",
    " \n",
    "print(\"Estadístic xi-quadrat entre AMB_PA i AMB_PA_MECVV:\", chi2_12) \n",
    "print(\"P-valor entre AMB_PA i AMB_PA_MECVV:\", p_value_12) \n",
    " \n",
    "if p_value_12 < 0.05: \n",
    "    print(\"Hi ha diferències significatives entre les distribucions de dolor crònic en AMB_PA i AMB_PA_MECVV.\") \n",
    "else: \n",
    "    print(\"No hi ha diferències significatives entre les distribucions de dolor crònic en AMB_PA i AMB_PA_MECVV.\") "
   ],
   "id": "19fc73c2a012e9ae",
   "outputs": [
    {
     "name": "stdout",
     "output_type": "stream",
     "text": [
      "Estadístic xi-quadrat entre AMB_PA i AMB_PA_MECVV: 0.0\n",
      "P-valor entre AMB_PA i AMB_PA_MECVV: 1.0\n",
      "No hi ha diferències significatives entre les distribucions de dolor crònic en AMB_PA i AMB_PA_MECVV.\n"
     ]
    }
   ],
   "execution_count": 383
  },
  {
   "metadata": {
    "ExecuteTime": {
     "end_time": "2024-05-03T11:53:30.514816Z",
     "start_time": "2024-05-03T11:53:30.507337Z"
    }
   },
   "cell_type": "code",
   "source": [
    "contingency_table_13 = pd.crosstab(index=AMB_PA['Dolor crònic'], columns=SENSE_PA['Dolor crònic']) \n",
    " \n",
    "chi2_13, p_value_13, dof_13, expected_13 = chi2_contingency(contingency_table_13) \n",
    " \n",
    "print(\"Estadístic xi-quadrat entre AMB_PA i SENSE_PA:\", chi2_13) \n",
    "print(\"P-valor entre AMB_PA i SENSE_PA:\", p_value_13) \n",
    " \n",
    "if p_value_13 < 0.05: \n",
    "    print(\"Hi ha diferències significatives entre les distribucions de dolor crònic en AMB_PA i SENSE_PA.\") \n",
    "else: \n",
    "    print(\"No hi ha diferències significatives entre les distribucions de dolor crònic en AMB_PA i SENSE_PA.\") "
   ],
   "id": "d21a4b80d01ac7ea",
   "outputs": [
    {
     "name": "stdout",
     "output_type": "stream",
     "text": [
      "Estadístic xi-quadrat entre AMB_PA i SENSE_PA: 0.0\n",
      "P-valor entre AMB_PA i SENSE_PA: 1.0\n",
      "No hi ha diferències significatives entre les distribucions de dolor crònic en AMB_PA i SENSE_PA.\n"
     ]
    }
   ],
   "execution_count": 384
  },
  {
   "metadata": {
    "ExecuteTime": {
     "end_time": "2024-05-03T11:54:15.402779Z",
     "start_time": "2024-05-03T11:54:15.378459Z"
    }
   },
   "cell_type": "code",
   "source": [
    "contingency_table_23 = pd.crosstab(index=AMB_PA_MECVV['Dolor crònic'], columns=SENSE_PA['Dolor crònic']) \n",
    " \n",
    "chi2_23, p_value_23, dof_23, expected_23 = chi2_contingency(contingency_table_23) \n",
    " \n",
    "print(\"Estadístic xi-quadrat entre AMB_PA_MECCV i SENSE_PA:\", chi2_23) \n",
    "print(\"P-valor entre AMB_PA_MECVV i SENSE_PA:\", p_value_23) \n",
    " \n",
    "if p_value_23 < 0.05: \n",
    "    print(\"Hi ha diferències significatives entre les distribucions de dolor crònic en AMB_PA_MECVV i SENSE_PA.\") \n",
    "else: \n",
    "    print(\"No hi ha diferències significatives entre les distribucions de dolor crònic en AMB_PA_MECVV i SENSE_PA.\") "
   ],
   "id": "48fefb00c2ae1d40",
   "outputs": [
    {
     "ename": "ValueError",
     "evalue": "No data; `observed` has size 0.",
     "output_type": "error",
     "traceback": [
      "\u001B[1;31m---------------------------------------------------------------------------\u001B[0m",
      "\u001B[1;31mValueError\u001B[0m                                Traceback (most recent call last)",
      "Cell \u001B[1;32mIn[385], line 3\u001B[0m\n\u001B[0;32m      1\u001B[0m contingency_table_23 \u001B[38;5;241m=\u001B[39m pd\u001B[38;5;241m.\u001B[39mcrosstab(index\u001B[38;5;241m=\u001B[39mAMB_PA_MECVV[\u001B[38;5;124m'\u001B[39m\u001B[38;5;124mDolor crònic\u001B[39m\u001B[38;5;124m'\u001B[39m], columns\u001B[38;5;241m=\u001B[39mSENSE_PA[\u001B[38;5;124m'\u001B[39m\u001B[38;5;124mDolor crònic\u001B[39m\u001B[38;5;124m'\u001B[39m]) \n\u001B[1;32m----> 3\u001B[0m chi2_23, p_value_23, dof_23, expected_23 \u001B[38;5;241m=\u001B[39m \u001B[43mchi2_contingency\u001B[49m\u001B[43m(\u001B[49m\u001B[43mcontingency_table_23\u001B[49m\u001B[43m)\u001B[49m \n\u001B[0;32m      5\u001B[0m \u001B[38;5;28mprint\u001B[39m(\u001B[38;5;124m\"\u001B[39m\u001B[38;5;124mEstadístic xi-quadrat entre AMB_PA_MECCV i SENSE_PA:\u001B[39m\u001B[38;5;124m\"\u001B[39m, chi2_23) \n\u001B[0;32m      6\u001B[0m \u001B[38;5;28mprint\u001B[39m(\u001B[38;5;124m\"\u001B[39m\u001B[38;5;124mP-valor entre AMB_PA_MECVV i SENSE_PA:\u001B[39m\u001B[38;5;124m\"\u001B[39m, p_value_23) \n",
      "File \u001B[1;32m~\\PycharmProjects\\PRACTICUM\\venv\\Lib\\site-packages\\scipy\\stats\\contingency.py:333\u001B[0m, in \u001B[0;36mchi2_contingency\u001B[1;34m(observed, correction, lambda_)\u001B[0m\n\u001B[0;32m    331\u001B[0m     \u001B[38;5;28;01mraise\u001B[39;00m \u001B[38;5;167;01mValueError\u001B[39;00m(\u001B[38;5;124m\"\u001B[39m\u001B[38;5;124mAll values in `observed` must be nonnegative.\u001B[39m\u001B[38;5;124m\"\u001B[39m)\n\u001B[0;32m    332\u001B[0m \u001B[38;5;28;01mif\u001B[39;00m observed\u001B[38;5;241m.\u001B[39msize \u001B[38;5;241m==\u001B[39m \u001B[38;5;241m0\u001B[39m:\n\u001B[1;32m--> 333\u001B[0m     \u001B[38;5;28;01mraise\u001B[39;00m \u001B[38;5;167;01mValueError\u001B[39;00m(\u001B[38;5;124m\"\u001B[39m\u001B[38;5;124mNo data; `observed` has size 0.\u001B[39m\u001B[38;5;124m\"\u001B[39m)\n\u001B[0;32m    335\u001B[0m expected \u001B[38;5;241m=\u001B[39m expected_freq(observed)\n\u001B[0;32m    336\u001B[0m \u001B[38;5;28;01mif\u001B[39;00m np\u001B[38;5;241m.\u001B[39many(expected \u001B[38;5;241m==\u001B[39m \u001B[38;5;241m0\u001B[39m):\n\u001B[0;32m    337\u001B[0m     \u001B[38;5;66;03m# Include one of the positions where expected is zero in\u001B[39;00m\n\u001B[0;32m    338\u001B[0m     \u001B[38;5;66;03m# the exception message.\u001B[39;00m\n",
      "\u001B[1;31mValueError\u001B[0m: No data; `observed` has size 0."
     ]
    }
   ],
   "execution_count": 385
  },
  {
   "metadata": {
    "ExecuteTime": {
     "end_time": "2024-05-03T11:55:10.971852Z",
     "start_time": "2024-05-03T11:55:10.964736Z"
    }
   },
   "cell_type": "code",
   "source": [
    "contingency_table_14 = pd.crosstab(index=AMB_PA['Dolor crònic'], columns=TOTAL['Dolor crònic']) \n",
    " \n",
    "chi2_14, p_value_14, dof_14, expected_14 = chi2_contingency(contingency_table_14) \n",
    " \n",
    "print(\"Estadístic xi-quadrat entre AMB_PA i TOTAL:\", chi2_14) \n",
    "print(\"P-valor entre AMB_PA i TOTAL:\", p_value_14) \n",
    " \n",
    "if p_value_14 < 0.05: \n",
    "    print(\"Hi ha diferències significatives entre les distribucions de dolor crònic en AMB_PA i TOTAL.\") \n",
    "else: \n",
    "    print(\"No hi ha diferències significatives entre les distribucions de dolor crònic en AMB_PA i TOTAL.\") "
   ],
   "id": "1ffdabfb870e12b6",
   "outputs": [
    {
     "name": "stdout",
     "output_type": "stream",
     "text": [
      "Estadístic xi-quadrat entre AMB_PA i TOTAL: 0.0\n",
      "P-valor entre AMB_PA i TOTAL: 1.0\n",
      "No hi ha diferències significatives entre les distribucions de dolor crònic en AMB_PA i TOTAL.\n"
     ]
    }
   ],
   "execution_count": 386
  },
  {
   "metadata": {
    "ExecuteTime": {
     "end_time": "2024-05-03T11:55:48.259964Z",
     "start_time": "2024-05-03T11:55:48.252704Z"
    }
   },
   "cell_type": "code",
   "source": [
    "contingency_table_24 = pd.crosstab(index=AMB_PA_MECVV['Dolor crònic'], columns=TOTAL['Dolor crònic']) \n",
    " \n",
    "chi2_24, p_value_24, dof_24, expected_24 = chi2_contingency(contingency_table_24) \n",
    " \n",
    "print(\"Estadístic xi-quadrat entre AMB_PA_MECVV i TOTAL:\", chi2_24) \n",
    "print(\"P-valor entre AMB_PA_MECVV i TOTAL:\", p_value_24) \n",
    " \n",
    "if p_value_24 < 0.05: \n",
    "    print(\"Hi ha diferències significatives entre les distribucions de dolor crònic en AMB_PA_MECVV i TOTAL.\") \n",
    "else: \n",
    "    print(\"No hi ha diferències significatives entre les distribucions de dolor crònic en AMB_PA_MECVV i TOTAL.\") "
   ],
   "id": "edbc9397bf09094b",
   "outputs": [
    {
     "name": "stdout",
     "output_type": "stream",
     "text": [
      "Estadístic xi-quadrat entre AMB_PA_MECVV i TOTAL: 0.0\n",
      "P-valor entre AMB_PA_MECVV i TOTAL: 1.0\n",
      "No hi ha diferències significatives entre les distribucions de dolor crònic en AMB_PA_MECVV i TOTAL.\n"
     ]
    }
   ],
   "execution_count": 388
  },
  {
   "metadata": {
    "ExecuteTime": {
     "end_time": "2024-05-03T11:56:21.190963Z",
     "start_time": "2024-05-03T11:56:21.183445Z"
    }
   },
   "cell_type": "code",
   "source": [
    "contingency_table_34 = pd.crosstab(index=SENSE_PA['Dolor crònic'], columns=TOTAL['Dolor crònic']) \n",
    " \n",
    "chi2_34, p_value_34, dof_34, expected_34 = chi2_contingency(contingency_table_34) \n",
    " \n",
    "print(\"Estadístic xi-quadrat entre SENSE_PA i TOTAL:\", chi2_34) \n",
    "print(\"P-valor entre SENSE_PA i TOTAL:\", p_value_34) \n",
    " \n",
    "if p_value_34 < 0.05: \n",
    "    print(\"Hi ha diferències significatives entre les distribucions de dolor crònic en SENSE_PA i TOTAL.\") \n",
    "else: \n",
    "    print(\"No hi ha diferències significatives entre les distribucions de dolor crònic en SENSE_PA i TOTAL.\") "
   ],
   "id": "b995797b648cca70",
   "outputs": [
    {
     "name": "stdout",
     "output_type": "stream",
     "text": [
      "Estadístic xi-quadrat entre SENSE_PA i TOTAL: 0.0\n",
      "P-valor entre SENSE_PA i TOTAL: 1.0\n",
      "No hi ha diferències significatives entre les distribucions de dolor crònic en SENSE_PA i TOTAL.\n"
     ]
    }
   ],
   "execution_count": 389
  },
  {
   "metadata": {},
   "cell_type": "markdown",
   "source": [
    "## Iatrogènic"
   ],
   "id": "e4a4ace86ca41600"
  },
  {
   "metadata": {
    "ExecuteTime": {
     "end_time": "2024-05-03T11:56:36.429665Z",
     "start_time": "2024-05-03T11:56:36.425492Z"
    }
   },
   "cell_type": "code",
   "source": [
    "iatr_AMB_PA= (AMB_PA['Iatrogènic'] == 1.0).mean() * 100\n",
    "print(f\"Percentatge de iatrogènic: {iatr_AMB_PA:.2f}%\")"
   ],
   "id": "ce5326efc8d1cbef",
   "outputs": [
    {
     "name": "stdout",
     "output_type": "stream",
     "text": [
      "Percentatge de iatrogènic: 0.00%\n"
     ]
    }
   ],
   "execution_count": 390
  },
  {
   "metadata": {
    "ExecuteTime": {
     "end_time": "2024-05-03T11:56:39.343540Z",
     "start_time": "2024-05-03T11:56:39.339286Z"
    }
   },
   "cell_type": "code",
   "source": [
    "iatr_AMB_PA_MECVV= (AMB_PA_MECVV['Iatrogènic'] == 1.0).mean() * 100\n",
    "print(f\"Percentatge de iatrogènic: {iatr_AMB_PA_MECVV:.2f}%\")"
   ],
   "id": "3b93f7c7a1f8390a",
   "outputs": [
    {
     "name": "stdout",
     "output_type": "stream",
     "text": [
      "Percentatge de iatrogènic: 0.00%\n"
     ]
    }
   ],
   "execution_count": 391
  },
  {
   "metadata": {
    "ExecuteTime": {
     "end_time": "2024-05-03T11:56:41.581851Z",
     "start_time": "2024-05-03T11:56:41.578320Z"
    }
   },
   "cell_type": "code",
   "source": [
    "iatr_SENSE_PA= (SENSE_PA['Iatrogènic'] == 1.0).mean() * 100\n",
    "print(f\"Percentatge de iatrogènic: {iatr_SENSE_PA:.2f}%\")"
   ],
   "id": "6e91605bdf68ebe6",
   "outputs": [
    {
     "name": "stdout",
     "output_type": "stream",
     "text": [
      "Percentatge de iatrogènic: 0.00%\n"
     ]
    }
   ],
   "execution_count": 392
  },
  {
   "metadata": {
    "ExecuteTime": {
     "end_time": "2024-05-03T11:57:01.187286Z",
     "start_time": "2024-05-03T11:57:01.183167Z"
    }
   },
   "cell_type": "code",
   "source": [
    "iatr_TOTAL= (TOTAL['Iatrogènic'] == 1.0).mean() * 100\n",
    "print(f\"Percentatge de iatrogènic: {iatr_TOTAL:.2f}%\")"
   ],
   "id": "1686ea7a684a1bcb",
   "outputs": [
    {
     "name": "stdout",
     "output_type": "stream",
     "text": [
      "Percentatge de iatrogènic: 0.00%\n"
     ]
    }
   ],
   "execution_count": 393
  },
  {
   "metadata": {},
   "cell_type": "markdown",
   "source": [
    "#### Pvalor"
   ],
   "id": "c7c4fb9f8288c644"
  },
  {
   "metadata": {},
   "cell_type": "markdown",
   "source": [
    "##### Normalitat"
   ],
   "id": "81f5e86f8857903f"
  },
  {
   "metadata": {
    "ExecuteTime": {
     "end_time": "2024-05-03T11:57:20.796491Z",
     "start_time": "2024-05-03T11:57:20.791856Z"
    }
   },
   "cell_type": "code",
   "source": [
    "stat, p_value = shapiro(AMB_PA['Iatrogènic'])\n",
    "print(f\"Estadístic W = {stat:.4f}\")\n",
    "print(f\"Valor p = {p_value:.4f}\")\n",
    "\n",
    "alpha = 0.05\n",
    "if p_value < alpha:\n",
    "    print(\"El nombre de files no segueix una distribució normal.\")\n",
    "else:\n",
    "    print(\"El nombre de files segueix una distribució normal\")"
   ],
   "id": "6c64b9df4158a914",
   "outputs": [
    {
     "name": "stdout",
     "output_type": "stream",
     "text": [
      "Estadístic W = 1.0000\n",
      "Valor p = 1.0000\n",
      "El nombre de files segueix una distribució normal\n"
     ]
    },
    {
     "name": "stderr",
     "output_type": "stream",
     "text": [
      "C:\\Users\\User\\PycharmProjects\\PRACTICUM\\venv\\Lib\\site-packages\\scipy\\stats\\_axis_nan_policy.py:531: UserWarning: scipy.stats.shapiro: Input data has range zero. The results may not be accurate.\n",
      "  res = hypotest_fun_out(*samples, **kwds)\n"
     ]
    }
   ],
   "execution_count": 394
  },
  {
   "metadata": {
    "ExecuteTime": {
     "end_time": "2024-05-03T11:57:23.195919Z",
     "start_time": "2024-05-03T11:57:23.191612Z"
    }
   },
   "cell_type": "code",
   "source": [
    "stat, p_value = shapiro(AMB_PA_MECVV['Iatrogènic'])\n",
    "print(f\"Estadístic W = {stat:.4f}\")\n",
    "print(f\"Valor p = {p_value:.4f}\")\n",
    "\n",
    "alpha = 0.05\n",
    "if p_value < alpha:\n",
    "    print(\"El nombre de files no segueix una distribució normal.\")\n",
    "else:\n",
    "    print(\"El nombre de files segueix una distribució normal\")"
   ],
   "id": "7c2fd9546399c925",
   "outputs": [
    {
     "name": "stdout",
     "output_type": "stream",
     "text": [
      "Estadístic W = 1.0000\n",
      "Valor p = 1.0000\n",
      "El nombre de files segueix una distribució normal\n"
     ]
    },
    {
     "name": "stderr",
     "output_type": "stream",
     "text": [
      "C:\\Users\\User\\PycharmProjects\\PRACTICUM\\venv\\Lib\\site-packages\\scipy\\stats\\_axis_nan_policy.py:531: UserWarning: scipy.stats.shapiro: Input data has range zero. The results may not be accurate.\n",
      "  res = hypotest_fun_out(*samples, **kwds)\n"
     ]
    }
   ],
   "execution_count": 395
  },
  {
   "metadata": {
    "ExecuteTime": {
     "end_time": "2024-05-03T11:57:25.491247Z",
     "start_time": "2024-05-03T11:57:25.487778Z"
    }
   },
   "cell_type": "code",
   "source": [
    "stat, p_value = shapiro(SENSE_PA['Iatrogènic'])\n",
    "print(f\"Estadístic W = {stat:.4f}\")\n",
    "print(f\"Valor p = {p_value:.4f}\")\n",
    "\n",
    "alpha = 0.05\n",
    "if p_value < alpha:\n",
    "    print(\"El nombre de files no segueix una distribució normal.\")\n",
    "else:\n",
    "    print(\"El nombre de files segueix una distribució normal\")"
   ],
   "id": "2b2499f9f45f6b7e",
   "outputs": [
    {
     "name": "stdout",
     "output_type": "stream",
     "text": [
      "Estadístic W = 1.0000\n",
      "Valor p = 1.0000\n",
      "El nombre de files segueix una distribució normal\n"
     ]
    },
    {
     "name": "stderr",
     "output_type": "stream",
     "text": [
      "C:\\Users\\User\\PycharmProjects\\PRACTICUM\\venv\\Lib\\site-packages\\scipy\\stats\\_axis_nan_policy.py:531: UserWarning: scipy.stats.shapiro: Input data has range zero. The results may not be accurate.\n",
      "  res = hypotest_fun_out(*samples, **kwds)\n"
     ]
    }
   ],
   "execution_count": 396
  },
  {
   "metadata": {
    "ExecuteTime": {
     "end_time": "2024-05-03T11:57:49.196130Z",
     "start_time": "2024-05-03T11:57:49.191622Z"
    }
   },
   "cell_type": "code",
   "source": [
    "stat, p_value = shapiro(TOTAL['Iatrogènic'])\n",
    "print(f\"Estadístic W = {stat:.4f}\")\n",
    "print(f\"Valor p = {p_value:.4f}\")\n",
    "\n",
    "alpha = 0.05\n",
    "if p_value < alpha:\n",
    "    print(\"El nombre de files no segueix una distribució normal.\")\n",
    "else:\n",
    "    print(\"El nombre de files segueix una distribució normal\")"
   ],
   "id": "54b0297ffd4cf55a",
   "outputs": [
    {
     "name": "stdout",
     "output_type": "stream",
     "text": [
      "Estadístic W = 1.0000\n",
      "Valor p = 1.0000\n",
      "El nombre de files segueix una distribució normal\n"
     ]
    },
    {
     "name": "stderr",
     "output_type": "stream",
     "text": [
      "C:\\Users\\User\\PycharmProjects\\PRACTICUM\\venv\\Lib\\site-packages\\scipy\\stats\\_axis_nan_policy.py:531: UserWarning: scipy.stats.shapiro: Input data has range zero. The results may not be accurate.\n",
      "  res = hypotest_fun_out(*samples, **kwds)\n"
     ]
    }
   ],
   "execution_count": 397
  },
  {
   "metadata": {
    "ExecuteTime": {
     "end_time": "2024-05-03T11:58:39.351473Z",
     "start_time": "2024-05-03T11:58:39.343831Z"
    }
   },
   "cell_type": "code",
   "source": [
    "contingency_table_12 = pd.crosstab(index=AMB_PA['Iatrogènic'], columns=AMB_PA_MECVV['Iatrogènic']) \n",
    " \n",
    "chi2_12, p_value_12, dof_12, expected_12 = chi2_contingency(contingency_table_12) \n",
    " \n",
    "print(\"Estadístic xi-quadrat entre AMB_PA i AMB_PA_MECVV:\", chi2_12) \n",
    "print(\"P-valor entre AMB_PA i AMB_PA_MECVV:\", p_value_12) \n",
    " \n",
    "if p_value_12 < 0.05: \n",
    "    print(\"Hi ha diferències significatives entre les distribucions d'iatrogènic en AMB_PA i AMB_PA_MECVV.\") \n",
    "else: \n",
    "    print(\"No hi ha diferències significatives entre les distribucions d'iatrogènic en AMB_PA i AMB_PA_MECVV.\") "
   ],
   "id": "a6d4581f66ee1955",
   "outputs": [
    {
     "name": "stdout",
     "output_type": "stream",
     "text": [
      "Estadístic xi-quadrat entre AMB_PA i AMB_PA_MECVV: 0.0\n",
      "P-valor entre AMB_PA i AMB_PA_MECVV: 1.0\n",
      "No hi ha diferències significatives entre les distribucions d'iatrogènic en AMB_PA i AMB_PA_MECVV.\n"
     ]
    }
   ],
   "execution_count": 398
  },
  {
   "metadata": {
    "ExecuteTime": {
     "end_time": "2024-05-03T12:00:11.870324Z",
     "start_time": "2024-05-03T12:00:11.863014Z"
    }
   },
   "cell_type": "code",
   "source": [
    "contingency_table_13 = pd.crosstab(index=AMB_PA['Iatrogènic'], columns=SENSE_PA['Iatrogènic']) \n",
    " \n",
    "chi2_13, p_value_13, dof_13, expected_13 = chi2_contingency(contingency_table_13) \n",
    " \n",
    "print(\"Estadístic xi-quadrat entre AMB_PA i SENSE_PA:\", chi2_13) \n",
    "print(\"P-valor entre AMB_PA i SENSE_PA:\", p_value_13) \n",
    " \n",
    "if p_value_13 < 0.05: \n",
    "    print(\"Hi ha diferències significatives entre les distribucions d'iatrogènic en AMB_PA i SENSE_PA.\") \n",
    "else: \n",
    "    print(\"No hi ha diferències significatives entre les distribucions d'iatrogènic en AMB_PA i SENSE_PA.\") "
   ],
   "id": "a040639471d4f4cf",
   "outputs": [
    {
     "name": "stdout",
     "output_type": "stream",
     "text": [
      "Estadístic xi-quadrat entre AMB_PA i SENSE_PA: 0.0\n",
      "P-valor entre AMB_PA i SENSE_PA: 1.0\n",
      "No hi ha diferències significatives entre les distribucions d'iatrogènic en AMB_PA i SENSE_PA.\n"
     ]
    }
   ],
   "execution_count": 399
  },
  {
   "metadata": {
    "ExecuteTime": {
     "end_time": "2024-05-03T12:00:40.373153Z",
     "start_time": "2024-05-03T12:00:40.348778Z"
    }
   },
   "cell_type": "code",
   "source": [
    "contingency_table_23 = pd.crosstab(index=AMB_PA_MECVV['Iatrogènic'], columns=SENSE_PA['Iatrogènic']) \n",
    " \n",
    "chi2_23, p_value_23, dof_23, expected_23 = chi2_contingency(contingency_table_23) \n",
    " \n",
    "print(\"Estadístic xi-quadrat entre AMB_PA_MECCV i SENSE_PA:\", chi2_23) \n",
    "print(\"P-valor entre AMB_PA_MECVV i SENSE_PA:\", p_value_23) \n",
    " \n",
    "if p_value_23 < 0.05: \n",
    "    print(\"Hi ha diferències significatives entre les distribucions d'iatrogènic en AMB_PA_MECVV i SENSE_PA.\") \n",
    "else: \n",
    "    print(\"No hi ha diferències significatives entre les distribucions d'iatrogènic en AMB_PA_MECVV i SENSE_PA.\") "
   ],
   "id": "31e55ef13ee10972",
   "outputs": [
    {
     "ename": "ValueError",
     "evalue": "No data; `observed` has size 0.",
     "output_type": "error",
     "traceback": [
      "\u001B[1;31m---------------------------------------------------------------------------\u001B[0m",
      "\u001B[1;31mValueError\u001B[0m                                Traceback (most recent call last)",
      "Cell \u001B[1;32mIn[400], line 3\u001B[0m\n\u001B[0;32m      1\u001B[0m contingency_table_23 \u001B[38;5;241m=\u001B[39m pd\u001B[38;5;241m.\u001B[39mcrosstab(index\u001B[38;5;241m=\u001B[39mAMB_PA_MECVV[\u001B[38;5;124m'\u001B[39m\u001B[38;5;124mIatrogènic\u001B[39m\u001B[38;5;124m'\u001B[39m], columns\u001B[38;5;241m=\u001B[39mSENSE_PA[\u001B[38;5;124m'\u001B[39m\u001B[38;5;124mIatrogènic\u001B[39m\u001B[38;5;124m'\u001B[39m]) \n\u001B[1;32m----> 3\u001B[0m chi2_23, p_value_23, dof_23, expected_23 \u001B[38;5;241m=\u001B[39m \u001B[43mchi2_contingency\u001B[49m\u001B[43m(\u001B[49m\u001B[43mcontingency_table_23\u001B[49m\u001B[43m)\u001B[49m \n\u001B[0;32m      5\u001B[0m \u001B[38;5;28mprint\u001B[39m(\u001B[38;5;124m\"\u001B[39m\u001B[38;5;124mEstadístic xi-quadrat entre AMB_PA_MECCV i SENSE_PA:\u001B[39m\u001B[38;5;124m\"\u001B[39m, chi2_23) \n\u001B[0;32m      6\u001B[0m \u001B[38;5;28mprint\u001B[39m(\u001B[38;5;124m\"\u001B[39m\u001B[38;5;124mP-valor entre AMB_PA_MECVV i SENSE_PA:\u001B[39m\u001B[38;5;124m\"\u001B[39m, p_value_23) \n",
      "File \u001B[1;32m~\\PycharmProjects\\PRACTICUM\\venv\\Lib\\site-packages\\scipy\\stats\\contingency.py:333\u001B[0m, in \u001B[0;36mchi2_contingency\u001B[1;34m(observed, correction, lambda_)\u001B[0m\n\u001B[0;32m    331\u001B[0m     \u001B[38;5;28;01mraise\u001B[39;00m \u001B[38;5;167;01mValueError\u001B[39;00m(\u001B[38;5;124m\"\u001B[39m\u001B[38;5;124mAll values in `observed` must be nonnegative.\u001B[39m\u001B[38;5;124m\"\u001B[39m)\n\u001B[0;32m    332\u001B[0m \u001B[38;5;28;01mif\u001B[39;00m observed\u001B[38;5;241m.\u001B[39msize \u001B[38;5;241m==\u001B[39m \u001B[38;5;241m0\u001B[39m:\n\u001B[1;32m--> 333\u001B[0m     \u001B[38;5;28;01mraise\u001B[39;00m \u001B[38;5;167;01mValueError\u001B[39;00m(\u001B[38;5;124m\"\u001B[39m\u001B[38;5;124mNo data; `observed` has size 0.\u001B[39m\u001B[38;5;124m\"\u001B[39m)\n\u001B[0;32m    335\u001B[0m expected \u001B[38;5;241m=\u001B[39m expected_freq(observed)\n\u001B[0;32m    336\u001B[0m \u001B[38;5;28;01mif\u001B[39;00m np\u001B[38;5;241m.\u001B[39many(expected \u001B[38;5;241m==\u001B[39m \u001B[38;5;241m0\u001B[39m):\n\u001B[0;32m    337\u001B[0m     \u001B[38;5;66;03m# Include one of the positions where expected is zero in\u001B[39;00m\n\u001B[0;32m    338\u001B[0m     \u001B[38;5;66;03m# the exception message.\u001B[39;00m\n",
      "\u001B[1;31mValueError\u001B[0m: No data; `observed` has size 0."
     ]
    }
   ],
   "execution_count": 400
  },
  {
   "metadata": {
    "ExecuteTime": {
     "end_time": "2024-05-03T12:01:24.335183Z",
     "start_time": "2024-05-03T12:01:24.325798Z"
    }
   },
   "cell_type": "code",
   "source": [
    "contingency_table_14 = pd.crosstab(index=AMB_PA['Iatrogènic'], columns=TOTAL['Iatrogènic']) \n",
    " \n",
    "chi2_14, p_value_14, dof_14, expected_14 = chi2_contingency(contingency_table_14) \n",
    " \n",
    "print(\"Estadístic xi-quadrat entre AMB_PA i TOTAL:\", chi2_14) \n",
    "print(\"P-valor entre AMB_PA i TOTAL:\", p_value_14) \n",
    " \n",
    "if p_value_14 < 0.05: \n",
    "    print(\"Hi ha diferències significatives entre les distribucions d'iatrogènic en AMB_PA i TOTAL.\") \n",
    "else: \n",
    "    print(\"No hi ha diferències significatives entre les distribucions d'iatrogènic en AMB_PA i TOTAL.\") "
   ],
   "id": "734def2cd659999f",
   "outputs": [
    {
     "name": "stdout",
     "output_type": "stream",
     "text": [
      "Estadístic xi-quadrat entre AMB_PA i TOTAL: 0.0\n",
      "P-valor entre AMB_PA i TOTAL: 1.0\n",
      "No hi ha diferències significatives entre les distribucions d'iatrogènic en AMB_PA i TOTAL.\n"
     ]
    }
   ],
   "execution_count": 401
  },
  {
   "metadata": {
    "ExecuteTime": {
     "end_time": "2024-05-03T12:02:00.003252Z",
     "start_time": "2024-05-03T12:01:59.994910Z"
    }
   },
   "cell_type": "code",
   "source": [
    "contingency_table_24 = pd.crosstab(index=AMB_PA_MECVV['Iatrogènic'], columns=TOTAL['Iatrogènic']) \n",
    " \n",
    "chi2_24, p_value_24, dof_24, expected_24 = chi2_contingency(contingency_table_24) \n",
    " \n",
    "print(\"Estadístic xi-quadrat entre AMB_PA_MECVV i TOTAL:\", chi2_24) \n",
    "print(\"P-valor entre AMB_PA_MECVV i TOTAL:\", p_value_24) \n",
    " \n",
    "if p_value_24 < 0.05: \n",
    "    print(\"Hi ha diferències significatives entre les distribucions d'iatrogènic en AMB_PA_MECVV i TOTAL.\") \n",
    "else: \n",
    "    print(\"No hi ha diferències significatives entre les distribucions d'iatrogènic en AMB_PA_MECVV i TOTAL.\") "
   ],
   "id": "acbc3ac96d169d2d",
   "outputs": [
    {
     "name": "stdout",
     "output_type": "stream",
     "text": [
      "Estadístic xi-quadrat entre AMB_PA_MECVV i TOTAL: 0.0\n",
      "P-valor entre AMB_PA_MECVV i TOTAL: 1.0\n",
      "No hi ha diferències significatives entre les distribucions d'iatrogènic en AMB_PA_MECVV i TOTAL.\n"
     ]
    }
   ],
   "execution_count": 402
  },
  {
   "metadata": {
    "ExecuteTime": {
     "end_time": "2024-05-03T12:02:31.295631Z",
     "start_time": "2024-05-03T12:02:31.287343Z"
    }
   },
   "cell_type": "code",
   "source": [
    "contingency_table_34 = pd.crosstab(index=SENSE_PA['Iatrogènic'], columns=TOTAL['Iatrogènic']) \n",
    " \n",
    "chi2_34, p_value_34, dof_34, expected_34 = chi2_contingency(contingency_table_34) \n",
    " \n",
    "print(\"Estadístic xi-quadrat entre SENSE_PA i TOTAL:\", chi2_34) \n",
    "print(\"P-valor entre SENSE_PA i TOTAL:\", p_value_34) \n",
    " \n",
    "if p_value_34 < 0.05: \n",
    "    print(\"Hi ha diferències significatives entre les distribucions d'iatrogènic en SENSE_PA i TOTAL.\") \n",
    "else: \n",
    "    print(\"No hi ha diferències significatives entre les distribucions d'iatrogènic en SENSE_PA i TOTAL.\") "
   ],
   "id": "dd6422606fa35000",
   "outputs": [
    {
     "name": "stdout",
     "output_type": "stream",
     "text": [
      "Estadístic xi-quadrat entre SENSE_PA i TOTAL: 0.0\n",
      "P-valor entre SENSE_PA i TOTAL: 1.0\n",
      "No hi ha diferències significatives entre les distribucions d'iatrogènic en SENSE_PA i TOTAL.\n"
     ]
    }
   ],
   "execution_count": 403
  },
  {
   "metadata": {},
   "cell_type": "markdown",
   "source": [
    "## Restrenyiment"
   ],
   "id": "db8d96a1cf0b32f4"
  },
  {
   "metadata": {
    "ExecuteTime": {
     "end_time": "2024-05-03T12:02:40.085351Z",
     "start_time": "2024-05-03T12:02:40.081203Z"
    }
   },
   "cell_type": "code",
   "source": [
    "est_AMB_PA= (AMB_PA['Restrenyiment'] == 1.0).mean() * 100\n",
    "print(f\"Percentatge de restrenyiment: {est_AMB_PA:.2f}%\")"
   ],
   "id": "dc16c6f9e735fbb2",
   "outputs": [
    {
     "name": "stdout",
     "output_type": "stream",
     "text": [
      "Percentatge de restrenyiment: 0.00%\n"
     ]
    }
   ],
   "execution_count": 404
  },
  {
   "metadata": {
    "ExecuteTime": {
     "end_time": "2024-05-03T12:02:45.418994Z",
     "start_time": "2024-05-03T12:02:45.415166Z"
    }
   },
   "cell_type": "code",
   "source": [
    "est_AMB_PA_MECVV= (AMB_PA_MECVV['Restrenyiment'] == 1.0).mean() * 100\n",
    "print(f\"Percentatge de restrenyiment: {est_AMB_PA_MECVV:.2f}%\")"
   ],
   "id": "b3bf84a44b2be1a",
   "outputs": [
    {
     "name": "stdout",
     "output_type": "stream",
     "text": [
      "Percentatge de restrenyiment: 0.00%\n"
     ]
    }
   ],
   "execution_count": 405
  },
  {
   "metadata": {
    "ExecuteTime": {
     "end_time": "2024-05-03T12:02:51.400588Z",
     "start_time": "2024-05-03T12:02:51.396654Z"
    }
   },
   "cell_type": "code",
   "source": [
    "est_SENSE_PA= (SENSE_PA['Restrenyiment'] == 1.0).mean() * 100\n",
    "print(f\"Percentatge de restrenyiment: {est_SENSE_PA:.2f}%\")"
   ],
   "id": "a2ac461b783cef25",
   "outputs": [
    {
     "name": "stdout",
     "output_type": "stream",
     "text": [
      "Percentatge de restrenyiment: 0.00%\n"
     ]
    }
   ],
   "execution_count": 406
  },
  {
   "metadata": {
    "ExecuteTime": {
     "end_time": "2024-05-03T12:03:08.279572Z",
     "start_time": "2024-05-03T12:03:08.275858Z"
    }
   },
   "cell_type": "code",
   "source": [
    "est_TOTAL= (TOTAL['Restrenyiment'] == 1.0).mean() * 100\n",
    "print(f\"Percentatge de restrenyiment: {est_TOTAL:.2f}%\")"
   ],
   "id": "e5d6fc9a2614df7e",
   "outputs": [
    {
     "name": "stdout",
     "output_type": "stream",
     "text": [
      "Percentatge de restrenyiment: 0.00%\n"
     ]
    }
   ],
   "execution_count": 407
  },
  {
   "metadata": {},
   "cell_type": "markdown",
   "source": [
    "#### Pvalor"
   ],
   "id": "807133bfa1d01063"
  },
  {
   "metadata": {},
   "cell_type": "markdown",
   "source": [
    "##### Normalitat"
   ],
   "id": "2ce2df8492540a53"
  },
  {
   "metadata": {},
   "cell_type": "code",
   "outputs": [],
   "execution_count": null,
   "source": "",
   "id": "5af7ac91684a71a6"
  },
  {
   "metadata": {
    "ExecuteTime": {
     "end_time": "2024-05-03T12:03:29.565186Z",
     "start_time": "2024-05-03T12:03:29.561253Z"
    }
   },
   "cell_type": "code",
   "source": [
    "stat, p_value = shapiro(AMB_PA['Restrenyiment'])\n",
    "print(f\"Estadístic W = {stat:.4f}\")\n",
    "print(f\"Valor p = {p_value:.4f}\")\n",
    "\n",
    "alpha = 0.05\n",
    "if p_value < alpha:\n",
    "    print(\"El nombre de files no segueix una distribució normal.\")\n",
    "else:\n",
    "    print(\"El nombre de files segueix una distribució normal\")"
   ],
   "id": "6ec0f291391c189",
   "outputs": [
    {
     "name": "stdout",
     "output_type": "stream",
     "text": [
      "Estadístic W = 1.0000\n",
      "Valor p = 1.0000\n",
      "El nombre de files segueix una distribució normal\n"
     ]
    },
    {
     "name": "stderr",
     "output_type": "stream",
     "text": [
      "C:\\Users\\User\\PycharmProjects\\PRACTICUM\\venv\\Lib\\site-packages\\scipy\\stats\\_axis_nan_policy.py:531: UserWarning: scipy.stats.shapiro: Input data has range zero. The results may not be accurate.\n",
      "  res = hypotest_fun_out(*samples, **kwds)\n"
     ]
    }
   ],
   "execution_count": 408
  },
  {
   "metadata": {
    "ExecuteTime": {
     "end_time": "2024-05-03T12:03:33.301891Z",
     "start_time": "2024-05-03T12:03:33.297890Z"
    }
   },
   "cell_type": "code",
   "source": [
    "stat, p_value = shapiro(AMB_PA_MECVV['Restrenyiment'])\n",
    "print(f\"Estadístic W = {stat:.4f}\")\n",
    "print(f\"Valor p = {p_value:.4f}\")\n",
    "\n",
    "alpha = 0.05\n",
    "if p_value < alpha:\n",
    "    print(\"El nombre de files no segueix una distribució normal.\")\n",
    "else:\n",
    "    print(\"El nombre de files segueix una distribució normal\")"
   ],
   "id": "1b0f666c49086302",
   "outputs": [
    {
     "name": "stdout",
     "output_type": "stream",
     "text": [
      "Estadístic W = 1.0000\n",
      "Valor p = 1.0000\n",
      "El nombre de files segueix una distribució normal\n"
     ]
    },
    {
     "name": "stderr",
     "output_type": "stream",
     "text": [
      "C:\\Users\\User\\PycharmProjects\\PRACTICUM\\venv\\Lib\\site-packages\\scipy\\stats\\_axis_nan_policy.py:531: UserWarning: scipy.stats.shapiro: Input data has range zero. The results may not be accurate.\n",
      "  res = hypotest_fun_out(*samples, **kwds)\n"
     ]
    }
   ],
   "execution_count": 409
  },
  {
   "metadata": {
    "ExecuteTime": {
     "end_time": "2024-05-03T12:03:36.585940Z",
     "start_time": "2024-05-03T12:03:36.581967Z"
    }
   },
   "cell_type": "code",
   "source": [
    "stat, p_value = shapiro(SENSE_PA['Restrenyiment'])\n",
    "print(f\"Estadístic W = {stat:.4f}\")\n",
    "print(f\"Valor p = {p_value:.4f}\")\n",
    "\n",
    "alpha = 0.05\n",
    "if p_value < alpha:\n",
    "    print(\"El nombre de files no segueix una distribució normal.\")\n",
    "else:\n",
    "    print(\"El nombre de files segueix una distribució normal\")"
   ],
   "id": "b8d586794cba259c",
   "outputs": [
    {
     "name": "stdout",
     "output_type": "stream",
     "text": [
      "Estadístic W = 1.0000\n",
      "Valor p = 1.0000\n",
      "El nombre de files segueix una distribució normal\n"
     ]
    },
    {
     "name": "stderr",
     "output_type": "stream",
     "text": [
      "C:\\Users\\User\\PycharmProjects\\PRACTICUM\\venv\\Lib\\site-packages\\scipy\\stats\\_axis_nan_policy.py:531: UserWarning: scipy.stats.shapiro: Input data has range zero. The results may not be accurate.\n",
      "  res = hypotest_fun_out(*samples, **kwds)\n"
     ]
    }
   ],
   "execution_count": 410
  },
  {
   "metadata": {
    "ExecuteTime": {
     "end_time": "2024-05-03T12:03:49.960246Z",
     "start_time": "2024-05-03T12:03:49.955939Z"
    }
   },
   "cell_type": "code",
   "source": [
    "stat, p_value = shapiro(TOTAL['Restrenyiment'])\n",
    "print(f\"Estadístic W = {stat:.4f}\")\n",
    "print(f\"Valor p = {p_value:.4f}\")\n",
    "\n",
    "alpha = 0.05\n",
    "if p_value < alpha:\n",
    "    print(\"El nombre de files no segueix una distribució normal.\")\n",
    "else:\n",
    "    print(\"El nombre de files segueix una distribució normal\")"
   ],
   "id": "fd22db04f2063a7d",
   "outputs": [
    {
     "name": "stdout",
     "output_type": "stream",
     "text": [
      "Estadístic W = 1.0000\n",
      "Valor p = 1.0000\n",
      "El nombre de files segueix una distribució normal\n"
     ]
    },
    {
     "name": "stderr",
     "output_type": "stream",
     "text": [
      "C:\\Users\\User\\PycharmProjects\\PRACTICUM\\venv\\Lib\\site-packages\\scipy\\stats\\_axis_nan_policy.py:531: UserWarning: scipy.stats.shapiro: Input data has range zero. The results may not be accurate.\n",
      "  res = hypotest_fun_out(*samples, **kwds)\n"
     ]
    }
   ],
   "execution_count": 411
  },
  {
   "metadata": {
    "ExecuteTime": {
     "end_time": "2024-05-03T12:04:33.862098Z",
     "start_time": "2024-05-03T12:04:33.854380Z"
    }
   },
   "cell_type": "code",
   "source": [
    "contingency_table_12 = pd.crosstab(index=AMB_PA['Restrenyiment'], columns=AMB_PA_MECVV['Restrenyiment']) \n",
    " \n",
    "chi2_12, p_value_12, dof_12, expected_12 = chi2_contingency(contingency_table_12) \n",
    " \n",
    "print(\"Estadístic xi-quadrat entre AMB_PA i AMB_PA_MECVV:\", chi2_12) \n",
    "print(\"P-valor entre AMB_PA i AMB_PA_MECVV:\", p_value_12) \n",
    " \n",
    "if p_value_12 < 0.05: \n",
    "    print(\"Hi ha diferències significatives entre les distribucions de restrenyiment en AMB_PA i AMB_PA_MECVV.\") \n",
    "else: \n",
    "    print(\"No hi ha diferències significatives entre les distribucions de restrenyiment en AMB_PA i AMB_PA_MECVV.\") "
   ],
   "id": "f12edefe2b75294c",
   "outputs": [
    {
     "name": "stdout",
     "output_type": "stream",
     "text": [
      "Estadístic xi-quadrat entre AMB_PA i AMB_PA_MECVV: 0.0\n",
      "P-valor entre AMB_PA i AMB_PA_MECVV: 1.0\n",
      "No hi ha diferències significatives entre les distribucions de restrenyiment en AMB_PA i AMB_PA_MECVV.\n"
     ]
    }
   ],
   "execution_count": 412
  },
  {
   "metadata": {
    "ExecuteTime": {
     "end_time": "2024-05-03T12:05:33.318771Z",
     "start_time": "2024-05-03T12:05:33.310803Z"
    }
   },
   "cell_type": "code",
   "source": [
    "contingency_table_13 = pd.crosstab(index=AMB_PA['Restrenyiment'], columns=SENSE_PA['Restrenyiment']) \n",
    " \n",
    "chi2_13, p_value_13, dof_13, expected_13 = chi2_contingency(contingency_table_13) \n",
    " \n",
    "print(\"Estadístic xi-quadrat entre AMB_PA i SENSE_PA:\", chi2_13) \n",
    "print(\"P-valor entre AMB_PA i SENSE_PA:\", p_value_13) \n",
    " \n",
    "if p_value_13 < 0.05: \n",
    "    print(\"Hi ha diferències significatives entre les distribucions de restrenyiment en AMB_PA i SENSE_PA.\") \n",
    "else: \n",
    "    print(\"No hi ha diferències significatives entre les distribucions de restrenyiment en AMB_PA i SENSE_PA.\") "
   ],
   "id": "50efaeac794ce53",
   "outputs": [
    {
     "name": "stdout",
     "output_type": "stream",
     "text": [
      "Estadístic xi-quadrat entre AMB_PA i SENSE_PA: 0.0\n",
      "P-valor entre AMB_PA i SENSE_PA: 1.0\n",
      "No hi ha diferències significatives entre les distribucions de restrenyiment en AMB_PA i SENSE_PA.\n"
     ]
    }
   ],
   "execution_count": 413
  },
  {
   "metadata": {
    "ExecuteTime": {
     "end_time": "2024-05-03T12:06:07.577403Z",
     "start_time": "2024-05-03T12:06:07.549738Z"
    }
   },
   "cell_type": "code",
   "source": [
    "contingency_table_23 = pd.crosstab(index=AMB_PA_MECVV['Restrenyiment'], columns=SENSE_PA['Restrenyiment']) \n",
    " \n",
    "chi2_23, p_value_23, dof_23, expected_23 = chi2_contingency(contingency_table_23) \n",
    " \n",
    "print(\"Estadístic xi-quadrat entre AMB_PA_MECCV i SENSE_PA:\", chi2_23) \n",
    "print(\"P-valor entre AMB_PA_MECVV i SENSE_PA:\", p_value_23) \n",
    " \n",
    "if p_value_23 < 0.05: \n",
    "    print(\"Hi ha diferències significatives entre les distribucions de restrenyiment en AMB_PA_MECVV i SENSE_PA.\") \n",
    "else: \n",
    "    print(\"No hi ha diferències significatives entre les distribucions de restrenyiment en AMB_PA_MECVV i SENSE_PA.\") "
   ],
   "id": "90d8d05f36d1bd2f",
   "outputs": [
    {
     "ename": "ValueError",
     "evalue": "No data; `observed` has size 0.",
     "output_type": "error",
     "traceback": [
      "\u001B[1;31m---------------------------------------------------------------------------\u001B[0m",
      "\u001B[1;31mValueError\u001B[0m                                Traceback (most recent call last)",
      "Cell \u001B[1;32mIn[414], line 3\u001B[0m\n\u001B[0;32m      1\u001B[0m contingency_table_23 \u001B[38;5;241m=\u001B[39m pd\u001B[38;5;241m.\u001B[39mcrosstab(index\u001B[38;5;241m=\u001B[39mAMB_PA_MECVV[\u001B[38;5;124m'\u001B[39m\u001B[38;5;124mRestrenyiment\u001B[39m\u001B[38;5;124m'\u001B[39m], columns\u001B[38;5;241m=\u001B[39mSENSE_PA[\u001B[38;5;124m'\u001B[39m\u001B[38;5;124mRestrenyiment\u001B[39m\u001B[38;5;124m'\u001B[39m]) \n\u001B[1;32m----> 3\u001B[0m chi2_23, p_value_23, dof_23, expected_23 \u001B[38;5;241m=\u001B[39m \u001B[43mchi2_contingency\u001B[49m\u001B[43m(\u001B[49m\u001B[43mcontingency_table_23\u001B[49m\u001B[43m)\u001B[49m \n\u001B[0;32m      5\u001B[0m \u001B[38;5;28mprint\u001B[39m(\u001B[38;5;124m\"\u001B[39m\u001B[38;5;124mEstadístic xi-quadrat entre AMB_PA_MECCV i SENSE_PA:\u001B[39m\u001B[38;5;124m\"\u001B[39m, chi2_23) \n\u001B[0;32m      6\u001B[0m \u001B[38;5;28mprint\u001B[39m(\u001B[38;5;124m\"\u001B[39m\u001B[38;5;124mP-valor entre AMB_PA_MECVV i SENSE_PA:\u001B[39m\u001B[38;5;124m\"\u001B[39m, p_value_23) \n",
      "File \u001B[1;32m~\\PycharmProjects\\PRACTICUM\\venv\\Lib\\site-packages\\scipy\\stats\\contingency.py:333\u001B[0m, in \u001B[0;36mchi2_contingency\u001B[1;34m(observed, correction, lambda_)\u001B[0m\n\u001B[0;32m    331\u001B[0m     \u001B[38;5;28;01mraise\u001B[39;00m \u001B[38;5;167;01mValueError\u001B[39;00m(\u001B[38;5;124m\"\u001B[39m\u001B[38;5;124mAll values in `observed` must be nonnegative.\u001B[39m\u001B[38;5;124m\"\u001B[39m)\n\u001B[0;32m    332\u001B[0m \u001B[38;5;28;01mif\u001B[39;00m observed\u001B[38;5;241m.\u001B[39msize \u001B[38;5;241m==\u001B[39m \u001B[38;5;241m0\u001B[39m:\n\u001B[1;32m--> 333\u001B[0m     \u001B[38;5;28;01mraise\u001B[39;00m \u001B[38;5;167;01mValueError\u001B[39;00m(\u001B[38;5;124m\"\u001B[39m\u001B[38;5;124mNo data; `observed` has size 0.\u001B[39m\u001B[38;5;124m\"\u001B[39m)\n\u001B[0;32m    335\u001B[0m expected \u001B[38;5;241m=\u001B[39m expected_freq(observed)\n\u001B[0;32m    336\u001B[0m \u001B[38;5;28;01mif\u001B[39;00m np\u001B[38;5;241m.\u001B[39many(expected \u001B[38;5;241m==\u001B[39m \u001B[38;5;241m0\u001B[39m):\n\u001B[0;32m    337\u001B[0m     \u001B[38;5;66;03m# Include one of the positions where expected is zero in\u001B[39;00m\n\u001B[0;32m    338\u001B[0m     \u001B[38;5;66;03m# the exception message.\u001B[39;00m\n",
      "\u001B[1;31mValueError\u001B[0m: No data; `observed` has size 0."
     ]
    }
   ],
   "execution_count": 414
  },
  {
   "metadata": {
    "ExecuteTime": {
     "end_time": "2024-05-03T12:07:02.201736Z",
     "start_time": "2024-05-03T12:07:02.195030Z"
    }
   },
   "cell_type": "code",
   "source": [
    "contingency_table_14 = pd.crosstab(index=AMB_PA['Restrenyiment'], columns=TOTAL['Restrenyiment']) \n",
    " \n",
    "chi2_14, p_value_14, dof_14, expected_14 = chi2_contingency(contingency_table_14) \n",
    " \n",
    "print(\"Estadístic xi-quadrat entre AMB_PA i TOTAL:\", chi2_14) \n",
    "print(\"P-valor entre AMB_PA i TOTAL:\", p_value_14) \n",
    " \n",
    "if p_value_14 < 0.05: \n",
    "    print(\"Hi ha diferències significatives entre les distribucions de restrenyiment en AMB_PA i TOTAL.\") \n",
    "else: \n",
    "    print(\"No hi ha diferències significatives entre les distribucions de restrenyiment en AMB_PA i TOTAL.\") "
   ],
   "id": "2d21207a036204e0",
   "outputs": [
    {
     "name": "stdout",
     "output_type": "stream",
     "text": [
      "Estadístic xi-quadrat entre AMB_PA i TOTAL: 0.0\n",
      "P-valor entre AMB_PA i TOTAL: 1.0\n",
      "No hi ha diferències significatives entre les distribucions de restrenyiment en AMB_PA i TOTAL.\n"
     ]
    }
   ],
   "execution_count": 415
  },
  {
   "metadata": {
    "ExecuteTime": {
     "end_time": "2024-05-03T12:07:47.286570Z",
     "start_time": "2024-05-03T12:07:47.278992Z"
    }
   },
   "cell_type": "code",
   "source": [
    "contingency_table_24 = pd.crosstab(index=AMB_PA_MECVV['Restrenyiment'], columns=TOTAL['Restrenyiment']) \n",
    " \n",
    "chi2_24, p_value_24, dof_24, expected_24 = chi2_contingency(contingency_table_24) \n",
    " \n",
    "print(\"Estadístic xi-quadrat entre AMB_PA_MECVV i TOTAL:\", chi2_24) \n",
    "print(\"P-valor entre AMB_PA_MECVV i TOTAL:\", p_value_24) \n",
    " \n",
    "if p_value_24 < 0.05: \n",
    "    print(\"Hi ha diferències significatives entre les distribucions de restrenyiment en AMB_PA_MECVV i TOTAL.\") \n",
    "else: \n",
    "    print(\"No hi ha diferències significatives entre les distribucions de restrenyiment en AMB_PA_MECVV i TOTAL.\") "
   ],
   "id": "bafff58af54d09d2",
   "outputs": [
    {
     "name": "stdout",
     "output_type": "stream",
     "text": [
      "Estadístic xi-quadrat entre AMB_PA_MECVV i TOTAL: 0.0\n",
      "P-valor entre AMB_PA_MECVV i TOTAL: 1.0\n",
      "No hi ha diferències significatives entre les distribucions de restrenyiment en AMB_PA_MECVV i TOTAL.\n"
     ]
    }
   ],
   "execution_count": 416
  },
  {
   "metadata": {
    "ExecuteTime": {
     "end_time": "2024-05-03T12:08:24.026936Z",
     "start_time": "2024-05-03T12:08:24.019208Z"
    }
   },
   "cell_type": "code",
   "source": [
    "contingency_table_34 = pd.crosstab(index=SENSE_PA['Restrenyiment'], columns=TOTAL['Restrenyiment']) \n",
    " \n",
    "chi2_34, p_value_34, dof_34, expected_34 = chi2_contingency(contingency_table_34) \n",
    " \n",
    "print(\"Estadístic xi-quadrat entre SENSE_PA i TOTAL:\", chi2_34) \n",
    "print(\"P-valor entre SENSE_PA i TOTAL:\", p_value_34) \n",
    " \n",
    "if p_value_34 < 0.05: \n",
    "    print(\"Hi ha diferències significatives entre les distribucions de restrenyiment en SENSE_PA i TOTAL.\") \n",
    "else: \n",
    "    print(\"No hi ha diferències significatives entre les distribucions de restrenyiment en SENSE_PA i TOTAL.\") "
   ],
   "id": "c8ec6b9d3cc17103",
   "outputs": [
    {
     "name": "stdout",
     "output_type": "stream",
     "text": [
      "Estadístic xi-quadrat entre SENSE_PA i TOTAL: 0.0\n",
      "P-valor entre SENSE_PA i TOTAL: 1.0\n",
      "No hi ha diferències significatives entre les distribucions de restrenyiment en SENSE_PA i TOTAL.\n"
     ]
    }
   ],
   "execution_count": 417
  },
  {
   "metadata": {},
   "cell_type": "markdown",
   "source": "# Historial mèdic/comorbilitats (aqui)",
   "id": "d311da4873623a2b"
  },
  {
   "metadata": {},
   "cell_type": "markdown",
   "source": [
    "## Malalties CV"
   ],
   "id": "3d8f9f8d375849e3"
  },
  {
   "metadata": {
    "ExecuteTime": {
     "end_time": "2024-05-03T10:15:30.728325Z",
     "start_time": "2024-05-03T10:15:30.724696Z"
    }
   },
   "cell_type": "code",
   "source": [
    "cv_AMB_PA= (AMB_PA['CV'] == 1.0).mean() * 100\n",
    "print(f\"Percentatge de problemes CV: {cv_AMB_PA:.2f}%\")"
   ],
   "id": "e32cfa2a884f35ec",
   "outputs": [
    {
     "name": "stdout",
     "output_type": "stream",
     "text": [
      "Percentatge de problemes CV: 5.88%\n"
     ]
    }
   ],
   "execution_count": 186
  },
  {
   "metadata": {
    "ExecuteTime": {
     "end_time": "2024-05-03T10:15:30.927093Z",
     "start_time": "2024-05-03T10:15:30.923382Z"
    }
   },
   "cell_type": "code",
   "source": [
    "cv_AMB_PA_MECVV= (AMB_PA_MECVV['CV'] == 1.0).mean() * 100\n",
    "print(f\"Percentatge de problemes CV: {cv_AMB_PA_MECVV:.2f}%\")"
   ],
   "id": "88b79facc46de5ee",
   "outputs": [
    {
     "name": "stdout",
     "output_type": "stream",
     "text": [
      "Percentatge de problemes CV: 0.00%\n"
     ]
    }
   ],
   "execution_count": 187
  },
  {
   "metadata": {
    "ExecuteTime": {
     "end_time": "2024-05-03T10:15:31.288321Z",
     "start_time": "2024-05-03T10:15:31.284795Z"
    }
   },
   "cell_type": "code",
   "source": [
    "cv_SENSE_PA= (SENSE_PA['CV'] == 1.0).mean() * 100\n",
    "print(f\"Percentatge de problemes CV: {cv_SENSE_PA:.2f}%\")"
   ],
   "id": "69cd26f61d232d64",
   "outputs": [
    {
     "name": "stdout",
     "output_type": "stream",
     "text": [
      "Percentatge de problemes CV: 25.00%\n"
     ]
    }
   ],
   "execution_count": 188
  },
  {
   "metadata": {},
   "cell_type": "markdown",
   "source": [
    "#### Pvalor"
   ],
   "id": "4cd96e9749196e1e"
  },
  {
   "metadata": {},
   "cell_type": "markdown",
   "source": [
    "##### Normalitat "
   ],
   "id": "7cdc03afbe142fec"
  },
  {
   "metadata": {
    "ExecuteTime": {
     "end_time": "2024-05-03T10:15:31.549104Z",
     "start_time": "2024-05-03T10:15:31.545162Z"
    }
   },
   "cell_type": "code",
   "source": [
    "stat, p_value = shapiro(AMB_PA['CV'])\n",
    "print(f\"Estadístic W = {stat:.4f}\")\n",
    "print(f\"Valor p = {p_value:.4f}\")\n",
    "\n",
    "alpha = 0.05\n",
    "if p_value < alpha:\n",
    "    print(\"El nombre de files no segueix una distribució normal.\")\n",
    "else:\n",
    "    print(\"El nombre de files segueix una distribució normal\")"
   ],
   "id": "50ac2eecc28b5527",
   "outputs": [
    {
     "name": "stdout",
     "output_type": "stream",
     "text": [
      "Estadístic W = 0.2622\n",
      "Valor p = 0.0000\n",
      "El nombre de files no segueix una distribució normal.\n"
     ]
    }
   ],
   "execution_count": 189
  },
  {
   "metadata": {
    "ExecuteTime": {
     "end_time": "2024-05-03T10:15:31.931347Z",
     "start_time": "2024-05-03T10:15:31.927187Z"
    }
   },
   "cell_type": "code",
   "source": [
    "stat, p_value = shapiro(AMB_PA_MECVV['CV'])\n",
    "print(f\"Estadístic W = {stat:.4f}\")\n",
    "print(f\"Valor p = {p_value:.4f}\")\n",
    "\n",
    "alpha = 0.05\n",
    "if p_value < alpha:\n",
    "    print(\"El nombre de files no segueix una distribució normal.\")\n",
    "else:\n",
    "    print(\"El nombre de files segueix una distribució normal\")"
   ],
   "id": "22011b4c30d26edb",
   "outputs": [
    {
     "name": "stdout",
     "output_type": "stream",
     "text": [
      "Estadístic W = 1.0000\n",
      "Valor p = 1.0000\n",
      "El nombre de files segueix una distribució normal\n"
     ]
    },
    {
     "name": "stderr",
     "output_type": "stream",
     "text": [
      "C:\\Users\\User\\PycharmProjects\\PRACTICUM\\venv\\Lib\\site-packages\\scipy\\stats\\_axis_nan_policy.py:531: UserWarning: scipy.stats.shapiro: Input data has range zero. The results may not be accurate.\n",
      "  res = hypotest_fun_out(*samples, **kwds)\n"
     ]
    }
   ],
   "execution_count": 190
  },
  {
   "metadata": {
    "ExecuteTime": {
     "end_time": "2024-05-03T10:15:32.209698Z",
     "start_time": "2024-05-03T10:15:32.206407Z"
    }
   },
   "cell_type": "code",
   "source": [
    "stat, p_value = shapiro(SENSE_PA['CV'])\n",
    "print(f\"Estadístic W = {stat:.4f}\")\n",
    "print(f\"Valor p = {p_value:.4f}\")\n",
    "\n",
    "alpha = 0.05\n",
    "if p_value < alpha:\n",
    "    print(\"El nombre de files no segueix una distribució normal.\")\n",
    "else:\n",
    "    print(\"El nombre de files segueix una distribució normal\")"
   ],
   "id": "e1db160804e3a620",
   "outputs": [
    {
     "name": "stdout",
     "output_type": "stream",
     "text": [
      "Estadístic W = 0.5659\n",
      "Valor p = 0.0001\n",
      "El nombre de files no segueix una distribució normal.\n"
     ]
    }
   ],
   "execution_count": 191
  },
  {
   "metadata": {
    "ExecuteTime": {
     "end_time": "2024-05-03T10:15:32.479865Z",
     "start_time": "2024-05-03T10:15:32.475750Z"
    }
   },
   "cell_type": "code",
   "source": [
    "stat, p_value_12 = mannwhitneyu(AMB_PA['CV'], AMB_PA_MECVV['CV'], alternative='two-sided')\n",
    "print(\"P-valor entre AMB_PA i AMB_PA_MECVV\", p_value_12)"
   ],
   "id": "5f10fd063b9b5044",
   "outputs": [
    {
     "name": "stdout",
     "output_type": "stream",
     "text": [
      "P-valor entre AMB_PA i AMB_PA_MECVV 0.5483429354628137\n"
     ]
    }
   ],
   "execution_count": 192
  },
  {
   "metadata": {
    "ExecuteTime": {
     "end_time": "2024-05-03T10:15:32.768912Z",
     "start_time": "2024-05-03T10:15:32.764699Z"
    }
   },
   "cell_type": "code",
   "source": [
    "stat, p_value_13 = mannwhitneyu(AMB_PA['CV'], SENSE_PA['CV'], alternative='two-sided')\n",
    "print(\"P-valor entre AMB_PA i SENSE_PA\", p_value_13)"
   ],
   "id": "3e6ab47f2f7f38d6",
   "outputs": [
    {
     "name": "stdout",
     "output_type": "stream",
     "text": [
      "P-valor entre AMB_PA i SENSE_PA 0.19610818609418723\n"
     ]
    }
   ],
   "execution_count": 193
  },
  {
   "metadata": {
    "ExecuteTime": {
     "end_time": "2024-05-03T10:15:33.114025Z",
     "start_time": "2024-05-03T10:15:33.109711Z"
    }
   },
   "cell_type": "code",
   "source": [
    "stat, p_value_23 = mannwhitneyu(AMB_PA_MECVV['CV'], SENSE_PA['CV'], alternative='two-sided')\n",
    "print(\"P-valor entre AMB_PA_MECVV i SENSE_PA\", p_value_23)"
   ],
   "id": "c9c3b2baeeea6423",
   "outputs": [
    {
     "name": "stdout",
     "output_type": "stream",
     "text": [
      "P-valor entre AMB_PA_MECVV i SENSE_PA 0.1699515583739133\n"
     ]
    }
   ],
   "execution_count": 194
  },
  {
   "metadata": {},
   "cell_type": "markdown",
   "source": [
    "## Malalties del cor"
   ],
   "id": "ccb034e70398680a"
  },
  {
   "metadata": {
    "ExecuteTime": {
     "end_time": "2024-05-03T10:15:33.417810Z",
     "start_time": "2024-05-03T10:15:33.376801Z"
    }
   },
   "cell_type": "code",
   "source": [
    "cora_AMB_PA= (AMB_PA['probl_corazon'] == 1.0).mean() * 100\n",
    "print(f\"Percentatge de malalties de cor: {cora_AMB_PA:.2f}%\")"
   ],
   "id": "83445fc0eafd0407",
   "outputs": [
    {
     "ename": "KeyError",
     "evalue": "'probl_corazon'",
     "output_type": "error",
     "traceback": [
      "\u001B[1;31m---------------------------------------------------------------------------\u001B[0m",
      "\u001B[1;31mKeyError\u001B[0m                                  Traceback (most recent call last)",
      "File \u001B[1;32m~\\PycharmProjects\\PRACTICUM\\venv\\Lib\\site-packages\\pandas\\core\\indexes\\base.py:3805\u001B[0m, in \u001B[0;36mIndex.get_loc\u001B[1;34m(self, key)\u001B[0m\n\u001B[0;32m   3804\u001B[0m \u001B[38;5;28;01mtry\u001B[39;00m:\n\u001B[1;32m-> 3805\u001B[0m     \u001B[38;5;28;01mreturn\u001B[39;00m \u001B[38;5;28;43mself\u001B[39;49m\u001B[38;5;241;43m.\u001B[39;49m\u001B[43m_engine\u001B[49m\u001B[38;5;241;43m.\u001B[39;49m\u001B[43mget_loc\u001B[49m\u001B[43m(\u001B[49m\u001B[43mcasted_key\u001B[49m\u001B[43m)\u001B[49m\n\u001B[0;32m   3806\u001B[0m \u001B[38;5;28;01mexcept\u001B[39;00m \u001B[38;5;167;01mKeyError\u001B[39;00m \u001B[38;5;28;01mas\u001B[39;00m err:\n",
      "File \u001B[1;32mindex.pyx:167\u001B[0m, in \u001B[0;36mpandas._libs.index.IndexEngine.get_loc\u001B[1;34m()\u001B[0m\n",
      "File \u001B[1;32mindex.pyx:196\u001B[0m, in \u001B[0;36mpandas._libs.index.IndexEngine.get_loc\u001B[1;34m()\u001B[0m\n",
      "File \u001B[1;32mpandas\\\\_libs\\\\hashtable_class_helper.pxi:7081\u001B[0m, in \u001B[0;36mpandas._libs.hashtable.PyObjectHashTable.get_item\u001B[1;34m()\u001B[0m\n",
      "File \u001B[1;32mpandas\\\\_libs\\\\hashtable_class_helper.pxi:7089\u001B[0m, in \u001B[0;36mpandas._libs.hashtable.PyObjectHashTable.get_item\u001B[1;34m()\u001B[0m\n",
      "\u001B[1;31mKeyError\u001B[0m: 'probl_corazon'",
      "\nThe above exception was the direct cause of the following exception:\n",
      "\u001B[1;31mKeyError\u001B[0m                                  Traceback (most recent call last)",
      "Cell \u001B[1;32mIn[195], line 1\u001B[0m\n\u001B[1;32m----> 1\u001B[0m cora_AMB_PA\u001B[38;5;241m=\u001B[39m (\u001B[43mAMB_PA\u001B[49m\u001B[43m[\u001B[49m\u001B[38;5;124;43m'\u001B[39;49m\u001B[38;5;124;43mprobl_corazon\u001B[39;49m\u001B[38;5;124;43m'\u001B[39;49m\u001B[43m]\u001B[49m \u001B[38;5;241m==\u001B[39m \u001B[38;5;241m1.0\u001B[39m)\u001B[38;5;241m.\u001B[39mmean() \u001B[38;5;241m*\u001B[39m \u001B[38;5;241m100\u001B[39m\n\u001B[0;32m      2\u001B[0m \u001B[38;5;28mprint\u001B[39m(\u001B[38;5;124mf\u001B[39m\u001B[38;5;124m\"\u001B[39m\u001B[38;5;124mPercentatge de malalties de cor: \u001B[39m\u001B[38;5;132;01m{\u001B[39;00mcora_AMB_PA\u001B[38;5;132;01m:\u001B[39;00m\u001B[38;5;124m.2f\u001B[39m\u001B[38;5;132;01m}\u001B[39;00m\u001B[38;5;124m%\u001B[39m\u001B[38;5;124m\"\u001B[39m)\n",
      "File \u001B[1;32m~\\PycharmProjects\\PRACTICUM\\venv\\Lib\\site-packages\\pandas\\core\\frame.py:4102\u001B[0m, in \u001B[0;36mDataFrame.__getitem__\u001B[1;34m(self, key)\u001B[0m\n\u001B[0;32m   4100\u001B[0m \u001B[38;5;28;01mif\u001B[39;00m \u001B[38;5;28mself\u001B[39m\u001B[38;5;241m.\u001B[39mcolumns\u001B[38;5;241m.\u001B[39mnlevels \u001B[38;5;241m>\u001B[39m \u001B[38;5;241m1\u001B[39m:\n\u001B[0;32m   4101\u001B[0m     \u001B[38;5;28;01mreturn\u001B[39;00m \u001B[38;5;28mself\u001B[39m\u001B[38;5;241m.\u001B[39m_getitem_multilevel(key)\n\u001B[1;32m-> 4102\u001B[0m indexer \u001B[38;5;241m=\u001B[39m \u001B[38;5;28;43mself\u001B[39;49m\u001B[38;5;241;43m.\u001B[39;49m\u001B[43mcolumns\u001B[49m\u001B[38;5;241;43m.\u001B[39;49m\u001B[43mget_loc\u001B[49m\u001B[43m(\u001B[49m\u001B[43mkey\u001B[49m\u001B[43m)\u001B[49m\n\u001B[0;32m   4103\u001B[0m \u001B[38;5;28;01mif\u001B[39;00m is_integer(indexer):\n\u001B[0;32m   4104\u001B[0m     indexer \u001B[38;5;241m=\u001B[39m [indexer]\n",
      "File \u001B[1;32m~\\PycharmProjects\\PRACTICUM\\venv\\Lib\\site-packages\\pandas\\core\\indexes\\base.py:3812\u001B[0m, in \u001B[0;36mIndex.get_loc\u001B[1;34m(self, key)\u001B[0m\n\u001B[0;32m   3807\u001B[0m     \u001B[38;5;28;01mif\u001B[39;00m \u001B[38;5;28misinstance\u001B[39m(casted_key, \u001B[38;5;28mslice\u001B[39m) \u001B[38;5;129;01mor\u001B[39;00m (\n\u001B[0;32m   3808\u001B[0m         \u001B[38;5;28misinstance\u001B[39m(casted_key, abc\u001B[38;5;241m.\u001B[39mIterable)\n\u001B[0;32m   3809\u001B[0m         \u001B[38;5;129;01mand\u001B[39;00m \u001B[38;5;28many\u001B[39m(\u001B[38;5;28misinstance\u001B[39m(x, \u001B[38;5;28mslice\u001B[39m) \u001B[38;5;28;01mfor\u001B[39;00m x \u001B[38;5;129;01min\u001B[39;00m casted_key)\n\u001B[0;32m   3810\u001B[0m     ):\n\u001B[0;32m   3811\u001B[0m         \u001B[38;5;28;01mraise\u001B[39;00m InvalidIndexError(key)\n\u001B[1;32m-> 3812\u001B[0m     \u001B[38;5;28;01mraise\u001B[39;00m \u001B[38;5;167;01mKeyError\u001B[39;00m(key) \u001B[38;5;28;01mfrom\u001B[39;00m \u001B[38;5;21;01merr\u001B[39;00m\n\u001B[0;32m   3813\u001B[0m \u001B[38;5;28;01mexcept\u001B[39;00m \u001B[38;5;167;01mTypeError\u001B[39;00m:\n\u001B[0;32m   3814\u001B[0m     \u001B[38;5;66;03m# If we have a listlike key, _check_indexing_error will raise\u001B[39;00m\n\u001B[0;32m   3815\u001B[0m     \u001B[38;5;66;03m#  InvalidIndexError. Otherwise we fall through and re-raise\u001B[39;00m\n\u001B[0;32m   3816\u001B[0m     \u001B[38;5;66;03m#  the TypeError.\u001B[39;00m\n\u001B[0;32m   3817\u001B[0m     \u001B[38;5;28mself\u001B[39m\u001B[38;5;241m.\u001B[39m_check_indexing_error(key)\n",
      "\u001B[1;31mKeyError\u001B[0m: 'probl_corazon'"
     ]
    }
   ],
   "execution_count": 195
  },
  {
   "metadata": {
    "ExecuteTime": {
     "end_time": "2024-05-03T10:15:33.724229Z",
     "start_time": "2024-05-03T10:15:33.686546Z"
    }
   },
   "cell_type": "code",
   "source": [
    "cora_AMB_PA_MECVV= (AMB_PA_MECVV['probl_corazon'] == 1.0).mean() * 100\n",
    "print(f\"Percentatge de malalties de cor: {cora_AMB_PA_MECVV:.2f}%\")"
   ],
   "id": "bd7136466bd809e1",
   "outputs": [
    {
     "ename": "KeyError",
     "evalue": "'probl_corazon'",
     "output_type": "error",
     "traceback": [
      "\u001B[1;31m---------------------------------------------------------------------------\u001B[0m",
      "\u001B[1;31mKeyError\u001B[0m                                  Traceback (most recent call last)",
      "File \u001B[1;32m~\\PycharmProjects\\PRACTICUM\\venv\\Lib\\site-packages\\pandas\\core\\indexes\\base.py:3805\u001B[0m, in \u001B[0;36mIndex.get_loc\u001B[1;34m(self, key)\u001B[0m\n\u001B[0;32m   3804\u001B[0m \u001B[38;5;28;01mtry\u001B[39;00m:\n\u001B[1;32m-> 3805\u001B[0m     \u001B[38;5;28;01mreturn\u001B[39;00m \u001B[38;5;28;43mself\u001B[39;49m\u001B[38;5;241;43m.\u001B[39;49m\u001B[43m_engine\u001B[49m\u001B[38;5;241;43m.\u001B[39;49m\u001B[43mget_loc\u001B[49m\u001B[43m(\u001B[49m\u001B[43mcasted_key\u001B[49m\u001B[43m)\u001B[49m\n\u001B[0;32m   3806\u001B[0m \u001B[38;5;28;01mexcept\u001B[39;00m \u001B[38;5;167;01mKeyError\u001B[39;00m \u001B[38;5;28;01mas\u001B[39;00m err:\n",
      "File \u001B[1;32mindex.pyx:167\u001B[0m, in \u001B[0;36mpandas._libs.index.IndexEngine.get_loc\u001B[1;34m()\u001B[0m\n",
      "File \u001B[1;32mindex.pyx:196\u001B[0m, in \u001B[0;36mpandas._libs.index.IndexEngine.get_loc\u001B[1;34m()\u001B[0m\n",
      "File \u001B[1;32mpandas\\\\_libs\\\\hashtable_class_helper.pxi:7081\u001B[0m, in \u001B[0;36mpandas._libs.hashtable.PyObjectHashTable.get_item\u001B[1;34m()\u001B[0m\n",
      "File \u001B[1;32mpandas\\\\_libs\\\\hashtable_class_helper.pxi:7089\u001B[0m, in \u001B[0;36mpandas._libs.hashtable.PyObjectHashTable.get_item\u001B[1;34m()\u001B[0m\n",
      "\u001B[1;31mKeyError\u001B[0m: 'probl_corazon'",
      "\nThe above exception was the direct cause of the following exception:\n",
      "\u001B[1;31mKeyError\u001B[0m                                  Traceback (most recent call last)",
      "Cell \u001B[1;32mIn[196], line 1\u001B[0m\n\u001B[1;32m----> 1\u001B[0m cora_AMB_PA_MECVV\u001B[38;5;241m=\u001B[39m (\u001B[43mAMB_PA_MECVV\u001B[49m\u001B[43m[\u001B[49m\u001B[38;5;124;43m'\u001B[39;49m\u001B[38;5;124;43mprobl_corazon\u001B[39;49m\u001B[38;5;124;43m'\u001B[39;49m\u001B[43m]\u001B[49m \u001B[38;5;241m==\u001B[39m \u001B[38;5;241m1.0\u001B[39m)\u001B[38;5;241m.\u001B[39mmean() \u001B[38;5;241m*\u001B[39m \u001B[38;5;241m100\u001B[39m\n\u001B[0;32m      2\u001B[0m \u001B[38;5;28mprint\u001B[39m(\u001B[38;5;124mf\u001B[39m\u001B[38;5;124m\"\u001B[39m\u001B[38;5;124mPercentatge de malalties de cor: \u001B[39m\u001B[38;5;132;01m{\u001B[39;00mcora_AMB_PA_MECVV\u001B[38;5;132;01m:\u001B[39;00m\u001B[38;5;124m.2f\u001B[39m\u001B[38;5;132;01m}\u001B[39;00m\u001B[38;5;124m%\u001B[39m\u001B[38;5;124m\"\u001B[39m)\n",
      "File \u001B[1;32m~\\PycharmProjects\\PRACTICUM\\venv\\Lib\\site-packages\\pandas\\core\\frame.py:4102\u001B[0m, in \u001B[0;36mDataFrame.__getitem__\u001B[1;34m(self, key)\u001B[0m\n\u001B[0;32m   4100\u001B[0m \u001B[38;5;28;01mif\u001B[39;00m \u001B[38;5;28mself\u001B[39m\u001B[38;5;241m.\u001B[39mcolumns\u001B[38;5;241m.\u001B[39mnlevels \u001B[38;5;241m>\u001B[39m \u001B[38;5;241m1\u001B[39m:\n\u001B[0;32m   4101\u001B[0m     \u001B[38;5;28;01mreturn\u001B[39;00m \u001B[38;5;28mself\u001B[39m\u001B[38;5;241m.\u001B[39m_getitem_multilevel(key)\n\u001B[1;32m-> 4102\u001B[0m indexer \u001B[38;5;241m=\u001B[39m \u001B[38;5;28;43mself\u001B[39;49m\u001B[38;5;241;43m.\u001B[39;49m\u001B[43mcolumns\u001B[49m\u001B[38;5;241;43m.\u001B[39;49m\u001B[43mget_loc\u001B[49m\u001B[43m(\u001B[49m\u001B[43mkey\u001B[49m\u001B[43m)\u001B[49m\n\u001B[0;32m   4103\u001B[0m \u001B[38;5;28;01mif\u001B[39;00m is_integer(indexer):\n\u001B[0;32m   4104\u001B[0m     indexer \u001B[38;5;241m=\u001B[39m [indexer]\n",
      "File \u001B[1;32m~\\PycharmProjects\\PRACTICUM\\venv\\Lib\\site-packages\\pandas\\core\\indexes\\base.py:3812\u001B[0m, in \u001B[0;36mIndex.get_loc\u001B[1;34m(self, key)\u001B[0m\n\u001B[0;32m   3807\u001B[0m     \u001B[38;5;28;01mif\u001B[39;00m \u001B[38;5;28misinstance\u001B[39m(casted_key, \u001B[38;5;28mslice\u001B[39m) \u001B[38;5;129;01mor\u001B[39;00m (\n\u001B[0;32m   3808\u001B[0m         \u001B[38;5;28misinstance\u001B[39m(casted_key, abc\u001B[38;5;241m.\u001B[39mIterable)\n\u001B[0;32m   3809\u001B[0m         \u001B[38;5;129;01mand\u001B[39;00m \u001B[38;5;28many\u001B[39m(\u001B[38;5;28misinstance\u001B[39m(x, \u001B[38;5;28mslice\u001B[39m) \u001B[38;5;28;01mfor\u001B[39;00m x \u001B[38;5;129;01min\u001B[39;00m casted_key)\n\u001B[0;32m   3810\u001B[0m     ):\n\u001B[0;32m   3811\u001B[0m         \u001B[38;5;28;01mraise\u001B[39;00m InvalidIndexError(key)\n\u001B[1;32m-> 3812\u001B[0m     \u001B[38;5;28;01mraise\u001B[39;00m \u001B[38;5;167;01mKeyError\u001B[39;00m(key) \u001B[38;5;28;01mfrom\u001B[39;00m \u001B[38;5;21;01merr\u001B[39;00m\n\u001B[0;32m   3813\u001B[0m \u001B[38;5;28;01mexcept\u001B[39;00m \u001B[38;5;167;01mTypeError\u001B[39;00m:\n\u001B[0;32m   3814\u001B[0m     \u001B[38;5;66;03m# If we have a listlike key, _check_indexing_error will raise\u001B[39;00m\n\u001B[0;32m   3815\u001B[0m     \u001B[38;5;66;03m#  InvalidIndexError. Otherwise we fall through and re-raise\u001B[39;00m\n\u001B[0;32m   3816\u001B[0m     \u001B[38;5;66;03m#  the TypeError.\u001B[39;00m\n\u001B[0;32m   3817\u001B[0m     \u001B[38;5;28mself\u001B[39m\u001B[38;5;241m.\u001B[39m_check_indexing_error(key)\n",
      "\u001B[1;31mKeyError\u001B[0m: 'probl_corazon'"
     ]
    }
   ],
   "execution_count": 196
  },
  {
   "metadata": {
    "ExecuteTime": {
     "end_time": "2024-05-03T10:15:33.971791Z",
     "start_time": "2024-05-03T10:15:33.933273Z"
    }
   },
   "cell_type": "code",
   "source": [
    "cora_SENSE_PA= (SENSE_PA['probl_corazon'] == 1.0).mean() * 100\n",
    "print(f\"Percentatge de malalties de cor: {cora_SENSE_PA:.2f}%\")"
   ],
   "id": "f5a394abf4441af0",
   "outputs": [
    {
     "ename": "KeyError",
     "evalue": "'probl_corazon'",
     "output_type": "error",
     "traceback": [
      "\u001B[1;31m---------------------------------------------------------------------------\u001B[0m",
      "\u001B[1;31mKeyError\u001B[0m                                  Traceback (most recent call last)",
      "File \u001B[1;32m~\\PycharmProjects\\PRACTICUM\\venv\\Lib\\site-packages\\pandas\\core\\indexes\\base.py:3805\u001B[0m, in \u001B[0;36mIndex.get_loc\u001B[1;34m(self, key)\u001B[0m\n\u001B[0;32m   3804\u001B[0m \u001B[38;5;28;01mtry\u001B[39;00m:\n\u001B[1;32m-> 3805\u001B[0m     \u001B[38;5;28;01mreturn\u001B[39;00m \u001B[38;5;28;43mself\u001B[39;49m\u001B[38;5;241;43m.\u001B[39;49m\u001B[43m_engine\u001B[49m\u001B[38;5;241;43m.\u001B[39;49m\u001B[43mget_loc\u001B[49m\u001B[43m(\u001B[49m\u001B[43mcasted_key\u001B[49m\u001B[43m)\u001B[49m\n\u001B[0;32m   3806\u001B[0m \u001B[38;5;28;01mexcept\u001B[39;00m \u001B[38;5;167;01mKeyError\u001B[39;00m \u001B[38;5;28;01mas\u001B[39;00m err:\n",
      "File \u001B[1;32mindex.pyx:167\u001B[0m, in \u001B[0;36mpandas._libs.index.IndexEngine.get_loc\u001B[1;34m()\u001B[0m\n",
      "File \u001B[1;32mindex.pyx:196\u001B[0m, in \u001B[0;36mpandas._libs.index.IndexEngine.get_loc\u001B[1;34m()\u001B[0m\n",
      "File \u001B[1;32mpandas\\\\_libs\\\\hashtable_class_helper.pxi:7081\u001B[0m, in \u001B[0;36mpandas._libs.hashtable.PyObjectHashTable.get_item\u001B[1;34m()\u001B[0m\n",
      "File \u001B[1;32mpandas\\\\_libs\\\\hashtable_class_helper.pxi:7089\u001B[0m, in \u001B[0;36mpandas._libs.hashtable.PyObjectHashTable.get_item\u001B[1;34m()\u001B[0m\n",
      "\u001B[1;31mKeyError\u001B[0m: 'probl_corazon'",
      "\nThe above exception was the direct cause of the following exception:\n",
      "\u001B[1;31mKeyError\u001B[0m                                  Traceback (most recent call last)",
      "Cell \u001B[1;32mIn[197], line 1\u001B[0m\n\u001B[1;32m----> 1\u001B[0m cora_SENSE_PA\u001B[38;5;241m=\u001B[39m (\u001B[43mSENSE_PA\u001B[49m\u001B[43m[\u001B[49m\u001B[38;5;124;43m'\u001B[39;49m\u001B[38;5;124;43mprobl_corazon\u001B[39;49m\u001B[38;5;124;43m'\u001B[39;49m\u001B[43m]\u001B[49m \u001B[38;5;241m==\u001B[39m \u001B[38;5;241m1.0\u001B[39m)\u001B[38;5;241m.\u001B[39mmean() \u001B[38;5;241m*\u001B[39m \u001B[38;5;241m100\u001B[39m\n\u001B[0;32m      2\u001B[0m \u001B[38;5;28mprint\u001B[39m(\u001B[38;5;124mf\u001B[39m\u001B[38;5;124m\"\u001B[39m\u001B[38;5;124mPercentatge de malalties de cor: \u001B[39m\u001B[38;5;132;01m{\u001B[39;00mcora_SENSE_PA\u001B[38;5;132;01m:\u001B[39;00m\u001B[38;5;124m.2f\u001B[39m\u001B[38;5;132;01m}\u001B[39;00m\u001B[38;5;124m%\u001B[39m\u001B[38;5;124m\"\u001B[39m)\n",
      "File \u001B[1;32m~\\PycharmProjects\\PRACTICUM\\venv\\Lib\\site-packages\\pandas\\core\\frame.py:4102\u001B[0m, in \u001B[0;36mDataFrame.__getitem__\u001B[1;34m(self, key)\u001B[0m\n\u001B[0;32m   4100\u001B[0m \u001B[38;5;28;01mif\u001B[39;00m \u001B[38;5;28mself\u001B[39m\u001B[38;5;241m.\u001B[39mcolumns\u001B[38;5;241m.\u001B[39mnlevels \u001B[38;5;241m>\u001B[39m \u001B[38;5;241m1\u001B[39m:\n\u001B[0;32m   4101\u001B[0m     \u001B[38;5;28;01mreturn\u001B[39;00m \u001B[38;5;28mself\u001B[39m\u001B[38;5;241m.\u001B[39m_getitem_multilevel(key)\n\u001B[1;32m-> 4102\u001B[0m indexer \u001B[38;5;241m=\u001B[39m \u001B[38;5;28;43mself\u001B[39;49m\u001B[38;5;241;43m.\u001B[39;49m\u001B[43mcolumns\u001B[49m\u001B[38;5;241;43m.\u001B[39;49m\u001B[43mget_loc\u001B[49m\u001B[43m(\u001B[49m\u001B[43mkey\u001B[49m\u001B[43m)\u001B[49m\n\u001B[0;32m   4103\u001B[0m \u001B[38;5;28;01mif\u001B[39;00m is_integer(indexer):\n\u001B[0;32m   4104\u001B[0m     indexer \u001B[38;5;241m=\u001B[39m [indexer]\n",
      "File \u001B[1;32m~\\PycharmProjects\\PRACTICUM\\venv\\Lib\\site-packages\\pandas\\core\\indexes\\base.py:3812\u001B[0m, in \u001B[0;36mIndex.get_loc\u001B[1;34m(self, key)\u001B[0m\n\u001B[0;32m   3807\u001B[0m     \u001B[38;5;28;01mif\u001B[39;00m \u001B[38;5;28misinstance\u001B[39m(casted_key, \u001B[38;5;28mslice\u001B[39m) \u001B[38;5;129;01mor\u001B[39;00m (\n\u001B[0;32m   3808\u001B[0m         \u001B[38;5;28misinstance\u001B[39m(casted_key, abc\u001B[38;5;241m.\u001B[39mIterable)\n\u001B[0;32m   3809\u001B[0m         \u001B[38;5;129;01mand\u001B[39;00m \u001B[38;5;28many\u001B[39m(\u001B[38;5;28misinstance\u001B[39m(x, \u001B[38;5;28mslice\u001B[39m) \u001B[38;5;28;01mfor\u001B[39;00m x \u001B[38;5;129;01min\u001B[39;00m casted_key)\n\u001B[0;32m   3810\u001B[0m     ):\n\u001B[0;32m   3811\u001B[0m         \u001B[38;5;28;01mraise\u001B[39;00m InvalidIndexError(key)\n\u001B[1;32m-> 3812\u001B[0m     \u001B[38;5;28;01mraise\u001B[39;00m \u001B[38;5;167;01mKeyError\u001B[39;00m(key) \u001B[38;5;28;01mfrom\u001B[39;00m \u001B[38;5;21;01merr\u001B[39;00m\n\u001B[0;32m   3813\u001B[0m \u001B[38;5;28;01mexcept\u001B[39;00m \u001B[38;5;167;01mTypeError\u001B[39;00m:\n\u001B[0;32m   3814\u001B[0m     \u001B[38;5;66;03m# If we have a listlike key, _check_indexing_error will raise\u001B[39;00m\n\u001B[0;32m   3815\u001B[0m     \u001B[38;5;66;03m#  InvalidIndexError. Otherwise we fall through and re-raise\u001B[39;00m\n\u001B[0;32m   3816\u001B[0m     \u001B[38;5;66;03m#  the TypeError.\u001B[39;00m\n\u001B[0;32m   3817\u001B[0m     \u001B[38;5;28mself\u001B[39m\u001B[38;5;241m.\u001B[39m_check_indexing_error(key)\n",
      "\u001B[1;31mKeyError\u001B[0m: 'probl_corazon'"
     ]
    }
   ],
   "execution_count": 197
  },
  {
   "metadata": {},
   "cell_type": "markdown",
   "source": [
    "#### Pvalor"
   ],
   "id": "a6c0069e93bb4b47"
  },
  {
   "metadata": {},
   "cell_type": "markdown",
   "source": [
    "##### Normalitat"
   ],
   "id": "a72ee98e29b732e6"
  },
  {
   "metadata": {
    "ExecuteTime": {
     "end_time": "2024-05-03T10:15:34.336293Z",
     "start_time": "2024-05-03T10:15:34.287857Z"
    }
   },
   "cell_type": "code",
   "source": [
    "stat, p_value = shapiro(AMB_PA['probl_corazon'])\n",
    "print(f\"Estadístic W = {stat:.4f}\")\n",
    "print(f\"Valor p = {p_value:.4f}\")\n",
    "\n",
    "alpha = 0.05\n",
    "if p_value < alpha:\n",
    "    print(\"El nombre de files no segueix una distribució normal.\")\n",
    "else:\n",
    "    print(\"El nombre de files segueix una distribució normal\")"
   ],
   "id": "70125a59e92a41c9",
   "outputs": [
    {
     "ename": "KeyError",
     "evalue": "'probl_corazon'",
     "output_type": "error",
     "traceback": [
      "\u001B[1;31m---------------------------------------------------------------------------\u001B[0m",
      "\u001B[1;31mKeyError\u001B[0m                                  Traceback (most recent call last)",
      "File \u001B[1;32m~\\PycharmProjects\\PRACTICUM\\venv\\Lib\\site-packages\\pandas\\core\\indexes\\base.py:3805\u001B[0m, in \u001B[0;36mIndex.get_loc\u001B[1;34m(self, key)\u001B[0m\n\u001B[0;32m   3804\u001B[0m \u001B[38;5;28;01mtry\u001B[39;00m:\n\u001B[1;32m-> 3805\u001B[0m     \u001B[38;5;28;01mreturn\u001B[39;00m \u001B[38;5;28;43mself\u001B[39;49m\u001B[38;5;241;43m.\u001B[39;49m\u001B[43m_engine\u001B[49m\u001B[38;5;241;43m.\u001B[39;49m\u001B[43mget_loc\u001B[49m\u001B[43m(\u001B[49m\u001B[43mcasted_key\u001B[49m\u001B[43m)\u001B[49m\n\u001B[0;32m   3806\u001B[0m \u001B[38;5;28;01mexcept\u001B[39;00m \u001B[38;5;167;01mKeyError\u001B[39;00m \u001B[38;5;28;01mas\u001B[39;00m err:\n",
      "File \u001B[1;32mindex.pyx:167\u001B[0m, in \u001B[0;36mpandas._libs.index.IndexEngine.get_loc\u001B[1;34m()\u001B[0m\n",
      "File \u001B[1;32mindex.pyx:196\u001B[0m, in \u001B[0;36mpandas._libs.index.IndexEngine.get_loc\u001B[1;34m()\u001B[0m\n",
      "File \u001B[1;32mpandas\\\\_libs\\\\hashtable_class_helper.pxi:7081\u001B[0m, in \u001B[0;36mpandas._libs.hashtable.PyObjectHashTable.get_item\u001B[1;34m()\u001B[0m\n",
      "File \u001B[1;32mpandas\\\\_libs\\\\hashtable_class_helper.pxi:7089\u001B[0m, in \u001B[0;36mpandas._libs.hashtable.PyObjectHashTable.get_item\u001B[1;34m()\u001B[0m\n",
      "\u001B[1;31mKeyError\u001B[0m: 'probl_corazon'",
      "\nThe above exception was the direct cause of the following exception:\n",
      "\u001B[1;31mKeyError\u001B[0m                                  Traceback (most recent call last)",
      "Cell \u001B[1;32mIn[198], line 1\u001B[0m\n\u001B[1;32m----> 1\u001B[0m stat, p_value \u001B[38;5;241m=\u001B[39m shapiro(\u001B[43mAMB_PA\u001B[49m\u001B[43m[\u001B[49m\u001B[38;5;124;43m'\u001B[39;49m\u001B[38;5;124;43mprobl_corazon\u001B[39;49m\u001B[38;5;124;43m'\u001B[39;49m\u001B[43m]\u001B[49m)\n\u001B[0;32m      2\u001B[0m \u001B[38;5;28mprint\u001B[39m(\u001B[38;5;124mf\u001B[39m\u001B[38;5;124m\"\u001B[39m\u001B[38;5;124mEstadístic W = \u001B[39m\u001B[38;5;132;01m{\u001B[39;00mstat\u001B[38;5;132;01m:\u001B[39;00m\u001B[38;5;124m.4f\u001B[39m\u001B[38;5;132;01m}\u001B[39;00m\u001B[38;5;124m\"\u001B[39m)\n\u001B[0;32m      3\u001B[0m \u001B[38;5;28mprint\u001B[39m(\u001B[38;5;124mf\u001B[39m\u001B[38;5;124m\"\u001B[39m\u001B[38;5;124mValor p = \u001B[39m\u001B[38;5;132;01m{\u001B[39;00mp_value\u001B[38;5;132;01m:\u001B[39;00m\u001B[38;5;124m.4f\u001B[39m\u001B[38;5;132;01m}\u001B[39;00m\u001B[38;5;124m\"\u001B[39m)\n",
      "File \u001B[1;32m~\\PycharmProjects\\PRACTICUM\\venv\\Lib\\site-packages\\pandas\\core\\frame.py:4102\u001B[0m, in \u001B[0;36mDataFrame.__getitem__\u001B[1;34m(self, key)\u001B[0m\n\u001B[0;32m   4100\u001B[0m \u001B[38;5;28;01mif\u001B[39;00m \u001B[38;5;28mself\u001B[39m\u001B[38;5;241m.\u001B[39mcolumns\u001B[38;5;241m.\u001B[39mnlevels \u001B[38;5;241m>\u001B[39m \u001B[38;5;241m1\u001B[39m:\n\u001B[0;32m   4101\u001B[0m     \u001B[38;5;28;01mreturn\u001B[39;00m \u001B[38;5;28mself\u001B[39m\u001B[38;5;241m.\u001B[39m_getitem_multilevel(key)\n\u001B[1;32m-> 4102\u001B[0m indexer \u001B[38;5;241m=\u001B[39m \u001B[38;5;28;43mself\u001B[39;49m\u001B[38;5;241;43m.\u001B[39;49m\u001B[43mcolumns\u001B[49m\u001B[38;5;241;43m.\u001B[39;49m\u001B[43mget_loc\u001B[49m\u001B[43m(\u001B[49m\u001B[43mkey\u001B[49m\u001B[43m)\u001B[49m\n\u001B[0;32m   4103\u001B[0m \u001B[38;5;28;01mif\u001B[39;00m is_integer(indexer):\n\u001B[0;32m   4104\u001B[0m     indexer \u001B[38;5;241m=\u001B[39m [indexer]\n",
      "File \u001B[1;32m~\\PycharmProjects\\PRACTICUM\\venv\\Lib\\site-packages\\pandas\\core\\indexes\\base.py:3812\u001B[0m, in \u001B[0;36mIndex.get_loc\u001B[1;34m(self, key)\u001B[0m\n\u001B[0;32m   3807\u001B[0m     \u001B[38;5;28;01mif\u001B[39;00m \u001B[38;5;28misinstance\u001B[39m(casted_key, \u001B[38;5;28mslice\u001B[39m) \u001B[38;5;129;01mor\u001B[39;00m (\n\u001B[0;32m   3808\u001B[0m         \u001B[38;5;28misinstance\u001B[39m(casted_key, abc\u001B[38;5;241m.\u001B[39mIterable)\n\u001B[0;32m   3809\u001B[0m         \u001B[38;5;129;01mand\u001B[39;00m \u001B[38;5;28many\u001B[39m(\u001B[38;5;28misinstance\u001B[39m(x, \u001B[38;5;28mslice\u001B[39m) \u001B[38;5;28;01mfor\u001B[39;00m x \u001B[38;5;129;01min\u001B[39;00m casted_key)\n\u001B[0;32m   3810\u001B[0m     ):\n\u001B[0;32m   3811\u001B[0m         \u001B[38;5;28;01mraise\u001B[39;00m InvalidIndexError(key)\n\u001B[1;32m-> 3812\u001B[0m     \u001B[38;5;28;01mraise\u001B[39;00m \u001B[38;5;167;01mKeyError\u001B[39;00m(key) \u001B[38;5;28;01mfrom\u001B[39;00m \u001B[38;5;21;01merr\u001B[39;00m\n\u001B[0;32m   3813\u001B[0m \u001B[38;5;28;01mexcept\u001B[39;00m \u001B[38;5;167;01mTypeError\u001B[39;00m:\n\u001B[0;32m   3814\u001B[0m     \u001B[38;5;66;03m# If we have a listlike key, _check_indexing_error will raise\u001B[39;00m\n\u001B[0;32m   3815\u001B[0m     \u001B[38;5;66;03m#  InvalidIndexError. Otherwise we fall through and re-raise\u001B[39;00m\n\u001B[0;32m   3816\u001B[0m     \u001B[38;5;66;03m#  the TypeError.\u001B[39;00m\n\u001B[0;32m   3817\u001B[0m     \u001B[38;5;28mself\u001B[39m\u001B[38;5;241m.\u001B[39m_check_indexing_error(key)\n",
      "\u001B[1;31mKeyError\u001B[0m: 'probl_corazon'"
     ]
    }
   ],
   "execution_count": 198
  },
  {
   "metadata": {
    "ExecuteTime": {
     "end_time": "2024-05-03T10:15:34.649382Z",
     "start_time": "2024-05-03T10:15:34.610874Z"
    }
   },
   "cell_type": "code",
   "source": [
    "stat, p_value = shapiro(AMB_PA_MECVV['probl_corazon'])\n",
    "print(f\"Estadístic W = {stat:.4f}\")\n",
    "print(f\"Valor p = {p_value:.4f}\")\n",
    "\n",
    "alpha = 0.05\n",
    "if p_value < alpha:\n",
    "    print(\"El nombre de files no segueix una distribució normal.\")\n",
    "else:\n",
    "    print(\"El nombre de files segueix una distribució normal\")"
   ],
   "id": "74329b3c356ab930",
   "outputs": [
    {
     "ename": "KeyError",
     "evalue": "'probl_corazon'",
     "output_type": "error",
     "traceback": [
      "\u001B[1;31m---------------------------------------------------------------------------\u001B[0m",
      "\u001B[1;31mKeyError\u001B[0m                                  Traceback (most recent call last)",
      "File \u001B[1;32m~\\PycharmProjects\\PRACTICUM\\venv\\Lib\\site-packages\\pandas\\core\\indexes\\base.py:3805\u001B[0m, in \u001B[0;36mIndex.get_loc\u001B[1;34m(self, key)\u001B[0m\n\u001B[0;32m   3804\u001B[0m \u001B[38;5;28;01mtry\u001B[39;00m:\n\u001B[1;32m-> 3805\u001B[0m     \u001B[38;5;28;01mreturn\u001B[39;00m \u001B[38;5;28;43mself\u001B[39;49m\u001B[38;5;241;43m.\u001B[39;49m\u001B[43m_engine\u001B[49m\u001B[38;5;241;43m.\u001B[39;49m\u001B[43mget_loc\u001B[49m\u001B[43m(\u001B[49m\u001B[43mcasted_key\u001B[49m\u001B[43m)\u001B[49m\n\u001B[0;32m   3806\u001B[0m \u001B[38;5;28;01mexcept\u001B[39;00m \u001B[38;5;167;01mKeyError\u001B[39;00m \u001B[38;5;28;01mas\u001B[39;00m err:\n",
      "File \u001B[1;32mindex.pyx:167\u001B[0m, in \u001B[0;36mpandas._libs.index.IndexEngine.get_loc\u001B[1;34m()\u001B[0m\n",
      "File \u001B[1;32mindex.pyx:196\u001B[0m, in \u001B[0;36mpandas._libs.index.IndexEngine.get_loc\u001B[1;34m()\u001B[0m\n",
      "File \u001B[1;32mpandas\\\\_libs\\\\hashtable_class_helper.pxi:7081\u001B[0m, in \u001B[0;36mpandas._libs.hashtable.PyObjectHashTable.get_item\u001B[1;34m()\u001B[0m\n",
      "File \u001B[1;32mpandas\\\\_libs\\\\hashtable_class_helper.pxi:7089\u001B[0m, in \u001B[0;36mpandas._libs.hashtable.PyObjectHashTable.get_item\u001B[1;34m()\u001B[0m\n",
      "\u001B[1;31mKeyError\u001B[0m: 'probl_corazon'",
      "\nThe above exception was the direct cause of the following exception:\n",
      "\u001B[1;31mKeyError\u001B[0m                                  Traceback (most recent call last)",
      "Cell \u001B[1;32mIn[199], line 1\u001B[0m\n\u001B[1;32m----> 1\u001B[0m stat, p_value \u001B[38;5;241m=\u001B[39m shapiro(\u001B[43mAMB_PA_MECVV\u001B[49m\u001B[43m[\u001B[49m\u001B[38;5;124;43m'\u001B[39;49m\u001B[38;5;124;43mprobl_corazon\u001B[39;49m\u001B[38;5;124;43m'\u001B[39;49m\u001B[43m]\u001B[49m)\n\u001B[0;32m      2\u001B[0m \u001B[38;5;28mprint\u001B[39m(\u001B[38;5;124mf\u001B[39m\u001B[38;5;124m\"\u001B[39m\u001B[38;5;124mEstadístic W = \u001B[39m\u001B[38;5;132;01m{\u001B[39;00mstat\u001B[38;5;132;01m:\u001B[39;00m\u001B[38;5;124m.4f\u001B[39m\u001B[38;5;132;01m}\u001B[39;00m\u001B[38;5;124m\"\u001B[39m)\n\u001B[0;32m      3\u001B[0m \u001B[38;5;28mprint\u001B[39m(\u001B[38;5;124mf\u001B[39m\u001B[38;5;124m\"\u001B[39m\u001B[38;5;124mValor p = \u001B[39m\u001B[38;5;132;01m{\u001B[39;00mp_value\u001B[38;5;132;01m:\u001B[39;00m\u001B[38;5;124m.4f\u001B[39m\u001B[38;5;132;01m}\u001B[39;00m\u001B[38;5;124m\"\u001B[39m)\n",
      "File \u001B[1;32m~\\PycharmProjects\\PRACTICUM\\venv\\Lib\\site-packages\\pandas\\core\\frame.py:4102\u001B[0m, in \u001B[0;36mDataFrame.__getitem__\u001B[1;34m(self, key)\u001B[0m\n\u001B[0;32m   4100\u001B[0m \u001B[38;5;28;01mif\u001B[39;00m \u001B[38;5;28mself\u001B[39m\u001B[38;5;241m.\u001B[39mcolumns\u001B[38;5;241m.\u001B[39mnlevels \u001B[38;5;241m>\u001B[39m \u001B[38;5;241m1\u001B[39m:\n\u001B[0;32m   4101\u001B[0m     \u001B[38;5;28;01mreturn\u001B[39;00m \u001B[38;5;28mself\u001B[39m\u001B[38;5;241m.\u001B[39m_getitem_multilevel(key)\n\u001B[1;32m-> 4102\u001B[0m indexer \u001B[38;5;241m=\u001B[39m \u001B[38;5;28;43mself\u001B[39;49m\u001B[38;5;241;43m.\u001B[39;49m\u001B[43mcolumns\u001B[49m\u001B[38;5;241;43m.\u001B[39;49m\u001B[43mget_loc\u001B[49m\u001B[43m(\u001B[49m\u001B[43mkey\u001B[49m\u001B[43m)\u001B[49m\n\u001B[0;32m   4103\u001B[0m \u001B[38;5;28;01mif\u001B[39;00m is_integer(indexer):\n\u001B[0;32m   4104\u001B[0m     indexer \u001B[38;5;241m=\u001B[39m [indexer]\n",
      "File \u001B[1;32m~\\PycharmProjects\\PRACTICUM\\venv\\Lib\\site-packages\\pandas\\core\\indexes\\base.py:3812\u001B[0m, in \u001B[0;36mIndex.get_loc\u001B[1;34m(self, key)\u001B[0m\n\u001B[0;32m   3807\u001B[0m     \u001B[38;5;28;01mif\u001B[39;00m \u001B[38;5;28misinstance\u001B[39m(casted_key, \u001B[38;5;28mslice\u001B[39m) \u001B[38;5;129;01mor\u001B[39;00m (\n\u001B[0;32m   3808\u001B[0m         \u001B[38;5;28misinstance\u001B[39m(casted_key, abc\u001B[38;5;241m.\u001B[39mIterable)\n\u001B[0;32m   3809\u001B[0m         \u001B[38;5;129;01mand\u001B[39;00m \u001B[38;5;28many\u001B[39m(\u001B[38;5;28misinstance\u001B[39m(x, \u001B[38;5;28mslice\u001B[39m) \u001B[38;5;28;01mfor\u001B[39;00m x \u001B[38;5;129;01min\u001B[39;00m casted_key)\n\u001B[0;32m   3810\u001B[0m     ):\n\u001B[0;32m   3811\u001B[0m         \u001B[38;5;28;01mraise\u001B[39;00m InvalidIndexError(key)\n\u001B[1;32m-> 3812\u001B[0m     \u001B[38;5;28;01mraise\u001B[39;00m \u001B[38;5;167;01mKeyError\u001B[39;00m(key) \u001B[38;5;28;01mfrom\u001B[39;00m \u001B[38;5;21;01merr\u001B[39;00m\n\u001B[0;32m   3813\u001B[0m \u001B[38;5;28;01mexcept\u001B[39;00m \u001B[38;5;167;01mTypeError\u001B[39;00m:\n\u001B[0;32m   3814\u001B[0m     \u001B[38;5;66;03m# If we have a listlike key, _check_indexing_error will raise\u001B[39;00m\n\u001B[0;32m   3815\u001B[0m     \u001B[38;5;66;03m#  InvalidIndexError. Otherwise we fall through and re-raise\u001B[39;00m\n\u001B[0;32m   3816\u001B[0m     \u001B[38;5;66;03m#  the TypeError.\u001B[39;00m\n\u001B[0;32m   3817\u001B[0m     \u001B[38;5;28mself\u001B[39m\u001B[38;5;241m.\u001B[39m_check_indexing_error(key)\n",
      "\u001B[1;31mKeyError\u001B[0m: 'probl_corazon'"
     ]
    }
   ],
   "execution_count": 199
  },
  {
   "metadata": {
    "ExecuteTime": {
     "end_time": "2024-05-03T10:15:34.914981Z",
     "start_time": "2024-05-03T10:15:34.875434Z"
    }
   },
   "cell_type": "code",
   "source": [
    "stat, p_value = shapiro(SENSE_PA['probl_corazon'])\n",
    "print(f\"Estadístic W = {stat:.4f}\")\n",
    "print(f\"Valor p = {p_value:.4f}\")\n",
    "\n",
    "alpha = 0.05\n",
    "if p_value < alpha:\n",
    "    print(\"El nombre de files no segueix una distribució normal.\")\n",
    "else:\n",
    "    print(\"El nombre de files segueix una distribució normal\")"
   ],
   "id": "c5eb2d33fd46a0dd",
   "outputs": [
    {
     "ename": "KeyError",
     "evalue": "'probl_corazon'",
     "output_type": "error",
     "traceback": [
      "\u001B[1;31m---------------------------------------------------------------------------\u001B[0m",
      "\u001B[1;31mKeyError\u001B[0m                                  Traceback (most recent call last)",
      "File \u001B[1;32m~\\PycharmProjects\\PRACTICUM\\venv\\Lib\\site-packages\\pandas\\core\\indexes\\base.py:3805\u001B[0m, in \u001B[0;36mIndex.get_loc\u001B[1;34m(self, key)\u001B[0m\n\u001B[0;32m   3804\u001B[0m \u001B[38;5;28;01mtry\u001B[39;00m:\n\u001B[1;32m-> 3805\u001B[0m     \u001B[38;5;28;01mreturn\u001B[39;00m \u001B[38;5;28;43mself\u001B[39;49m\u001B[38;5;241;43m.\u001B[39;49m\u001B[43m_engine\u001B[49m\u001B[38;5;241;43m.\u001B[39;49m\u001B[43mget_loc\u001B[49m\u001B[43m(\u001B[49m\u001B[43mcasted_key\u001B[49m\u001B[43m)\u001B[49m\n\u001B[0;32m   3806\u001B[0m \u001B[38;5;28;01mexcept\u001B[39;00m \u001B[38;5;167;01mKeyError\u001B[39;00m \u001B[38;5;28;01mas\u001B[39;00m err:\n",
      "File \u001B[1;32mindex.pyx:167\u001B[0m, in \u001B[0;36mpandas._libs.index.IndexEngine.get_loc\u001B[1;34m()\u001B[0m\n",
      "File \u001B[1;32mindex.pyx:196\u001B[0m, in \u001B[0;36mpandas._libs.index.IndexEngine.get_loc\u001B[1;34m()\u001B[0m\n",
      "File \u001B[1;32mpandas\\\\_libs\\\\hashtable_class_helper.pxi:7081\u001B[0m, in \u001B[0;36mpandas._libs.hashtable.PyObjectHashTable.get_item\u001B[1;34m()\u001B[0m\n",
      "File \u001B[1;32mpandas\\\\_libs\\\\hashtable_class_helper.pxi:7089\u001B[0m, in \u001B[0;36mpandas._libs.hashtable.PyObjectHashTable.get_item\u001B[1;34m()\u001B[0m\n",
      "\u001B[1;31mKeyError\u001B[0m: 'probl_corazon'",
      "\nThe above exception was the direct cause of the following exception:\n",
      "\u001B[1;31mKeyError\u001B[0m                                  Traceback (most recent call last)",
      "Cell \u001B[1;32mIn[200], line 1\u001B[0m\n\u001B[1;32m----> 1\u001B[0m stat, p_value \u001B[38;5;241m=\u001B[39m shapiro(\u001B[43mSENSE_PA\u001B[49m\u001B[43m[\u001B[49m\u001B[38;5;124;43m'\u001B[39;49m\u001B[38;5;124;43mprobl_corazon\u001B[39;49m\u001B[38;5;124;43m'\u001B[39;49m\u001B[43m]\u001B[49m)\n\u001B[0;32m      2\u001B[0m \u001B[38;5;28mprint\u001B[39m(\u001B[38;5;124mf\u001B[39m\u001B[38;5;124m\"\u001B[39m\u001B[38;5;124mEstadístic W = \u001B[39m\u001B[38;5;132;01m{\u001B[39;00mstat\u001B[38;5;132;01m:\u001B[39;00m\u001B[38;5;124m.4f\u001B[39m\u001B[38;5;132;01m}\u001B[39;00m\u001B[38;5;124m\"\u001B[39m)\n\u001B[0;32m      3\u001B[0m \u001B[38;5;28mprint\u001B[39m(\u001B[38;5;124mf\u001B[39m\u001B[38;5;124m\"\u001B[39m\u001B[38;5;124mValor p = \u001B[39m\u001B[38;5;132;01m{\u001B[39;00mp_value\u001B[38;5;132;01m:\u001B[39;00m\u001B[38;5;124m.4f\u001B[39m\u001B[38;5;132;01m}\u001B[39;00m\u001B[38;5;124m\"\u001B[39m)\n",
      "File \u001B[1;32m~\\PycharmProjects\\PRACTICUM\\venv\\Lib\\site-packages\\pandas\\core\\frame.py:4102\u001B[0m, in \u001B[0;36mDataFrame.__getitem__\u001B[1;34m(self, key)\u001B[0m\n\u001B[0;32m   4100\u001B[0m \u001B[38;5;28;01mif\u001B[39;00m \u001B[38;5;28mself\u001B[39m\u001B[38;5;241m.\u001B[39mcolumns\u001B[38;5;241m.\u001B[39mnlevels \u001B[38;5;241m>\u001B[39m \u001B[38;5;241m1\u001B[39m:\n\u001B[0;32m   4101\u001B[0m     \u001B[38;5;28;01mreturn\u001B[39;00m \u001B[38;5;28mself\u001B[39m\u001B[38;5;241m.\u001B[39m_getitem_multilevel(key)\n\u001B[1;32m-> 4102\u001B[0m indexer \u001B[38;5;241m=\u001B[39m \u001B[38;5;28;43mself\u001B[39;49m\u001B[38;5;241;43m.\u001B[39;49m\u001B[43mcolumns\u001B[49m\u001B[38;5;241;43m.\u001B[39;49m\u001B[43mget_loc\u001B[49m\u001B[43m(\u001B[49m\u001B[43mkey\u001B[49m\u001B[43m)\u001B[49m\n\u001B[0;32m   4103\u001B[0m \u001B[38;5;28;01mif\u001B[39;00m is_integer(indexer):\n\u001B[0;32m   4104\u001B[0m     indexer \u001B[38;5;241m=\u001B[39m [indexer]\n",
      "File \u001B[1;32m~\\PycharmProjects\\PRACTICUM\\venv\\Lib\\site-packages\\pandas\\core\\indexes\\base.py:3812\u001B[0m, in \u001B[0;36mIndex.get_loc\u001B[1;34m(self, key)\u001B[0m\n\u001B[0;32m   3807\u001B[0m     \u001B[38;5;28;01mif\u001B[39;00m \u001B[38;5;28misinstance\u001B[39m(casted_key, \u001B[38;5;28mslice\u001B[39m) \u001B[38;5;129;01mor\u001B[39;00m (\n\u001B[0;32m   3808\u001B[0m         \u001B[38;5;28misinstance\u001B[39m(casted_key, abc\u001B[38;5;241m.\u001B[39mIterable)\n\u001B[0;32m   3809\u001B[0m         \u001B[38;5;129;01mand\u001B[39;00m \u001B[38;5;28many\u001B[39m(\u001B[38;5;28misinstance\u001B[39m(x, \u001B[38;5;28mslice\u001B[39m) \u001B[38;5;28;01mfor\u001B[39;00m x \u001B[38;5;129;01min\u001B[39;00m casted_key)\n\u001B[0;32m   3810\u001B[0m     ):\n\u001B[0;32m   3811\u001B[0m         \u001B[38;5;28;01mraise\u001B[39;00m InvalidIndexError(key)\n\u001B[1;32m-> 3812\u001B[0m     \u001B[38;5;28;01mraise\u001B[39;00m \u001B[38;5;167;01mKeyError\u001B[39;00m(key) \u001B[38;5;28;01mfrom\u001B[39;00m \u001B[38;5;21;01merr\u001B[39;00m\n\u001B[0;32m   3813\u001B[0m \u001B[38;5;28;01mexcept\u001B[39;00m \u001B[38;5;167;01mTypeError\u001B[39;00m:\n\u001B[0;32m   3814\u001B[0m     \u001B[38;5;66;03m# If we have a listlike key, _check_indexing_error will raise\u001B[39;00m\n\u001B[0;32m   3815\u001B[0m     \u001B[38;5;66;03m#  InvalidIndexError. Otherwise we fall through and re-raise\u001B[39;00m\n\u001B[0;32m   3816\u001B[0m     \u001B[38;5;66;03m#  the TypeError.\u001B[39;00m\n\u001B[0;32m   3817\u001B[0m     \u001B[38;5;28mself\u001B[39m\u001B[38;5;241m.\u001B[39m_check_indexing_error(key)\n",
      "\u001B[1;31mKeyError\u001B[0m: 'probl_corazon'"
     ]
    }
   ],
   "execution_count": 200
  },
  {
   "metadata": {
    "ExecuteTime": {
     "end_time": "2024-05-03T10:15:35.256568Z",
     "start_time": "2024-05-03T10:15:35.219700Z"
    }
   },
   "cell_type": "code",
   "source": [
    "stat, p_value_12 = mannwhitneyu(AMB_PA['probl_corazon'], AMB_PA_MECVV['probl_corazon'], alternative='two-sided')\n",
    "print(\"P-valor entre AMB_PA i AMB_PA_MECVV\", p_value_12)"
   ],
   "id": "dd41146095c973e6",
   "outputs": [
    {
     "ename": "KeyError",
     "evalue": "'probl_corazon'",
     "output_type": "error",
     "traceback": [
      "\u001B[1;31m---------------------------------------------------------------------------\u001B[0m",
      "\u001B[1;31mKeyError\u001B[0m                                  Traceback (most recent call last)",
      "File \u001B[1;32m~\\PycharmProjects\\PRACTICUM\\venv\\Lib\\site-packages\\pandas\\core\\indexes\\base.py:3805\u001B[0m, in \u001B[0;36mIndex.get_loc\u001B[1;34m(self, key)\u001B[0m\n\u001B[0;32m   3804\u001B[0m \u001B[38;5;28;01mtry\u001B[39;00m:\n\u001B[1;32m-> 3805\u001B[0m     \u001B[38;5;28;01mreturn\u001B[39;00m \u001B[38;5;28;43mself\u001B[39;49m\u001B[38;5;241;43m.\u001B[39;49m\u001B[43m_engine\u001B[49m\u001B[38;5;241;43m.\u001B[39;49m\u001B[43mget_loc\u001B[49m\u001B[43m(\u001B[49m\u001B[43mcasted_key\u001B[49m\u001B[43m)\u001B[49m\n\u001B[0;32m   3806\u001B[0m \u001B[38;5;28;01mexcept\u001B[39;00m \u001B[38;5;167;01mKeyError\u001B[39;00m \u001B[38;5;28;01mas\u001B[39;00m err:\n",
      "File \u001B[1;32mindex.pyx:167\u001B[0m, in \u001B[0;36mpandas._libs.index.IndexEngine.get_loc\u001B[1;34m()\u001B[0m\n",
      "File \u001B[1;32mindex.pyx:196\u001B[0m, in \u001B[0;36mpandas._libs.index.IndexEngine.get_loc\u001B[1;34m()\u001B[0m\n",
      "File \u001B[1;32mpandas\\\\_libs\\\\hashtable_class_helper.pxi:7081\u001B[0m, in \u001B[0;36mpandas._libs.hashtable.PyObjectHashTable.get_item\u001B[1;34m()\u001B[0m\n",
      "File \u001B[1;32mpandas\\\\_libs\\\\hashtable_class_helper.pxi:7089\u001B[0m, in \u001B[0;36mpandas._libs.hashtable.PyObjectHashTable.get_item\u001B[1;34m()\u001B[0m\n",
      "\u001B[1;31mKeyError\u001B[0m: 'probl_corazon'",
      "\nThe above exception was the direct cause of the following exception:\n",
      "\u001B[1;31mKeyError\u001B[0m                                  Traceback (most recent call last)",
      "Cell \u001B[1;32mIn[201], line 1\u001B[0m\n\u001B[1;32m----> 1\u001B[0m stat, p_value_12 \u001B[38;5;241m=\u001B[39m mannwhitneyu(\u001B[43mAMB_PA\u001B[49m\u001B[43m[\u001B[49m\u001B[38;5;124;43m'\u001B[39;49m\u001B[38;5;124;43mprobl_corazon\u001B[39;49m\u001B[38;5;124;43m'\u001B[39;49m\u001B[43m]\u001B[49m, AMB_PA_MECVV[\u001B[38;5;124m'\u001B[39m\u001B[38;5;124mprobl_corazon\u001B[39m\u001B[38;5;124m'\u001B[39m], alternative\u001B[38;5;241m=\u001B[39m\u001B[38;5;124m'\u001B[39m\u001B[38;5;124mtwo-sided\u001B[39m\u001B[38;5;124m'\u001B[39m)\n\u001B[0;32m      2\u001B[0m \u001B[38;5;28mprint\u001B[39m(\u001B[38;5;124m\"\u001B[39m\u001B[38;5;124mP-valor entre AMB_PA i AMB_PA_MECVV\u001B[39m\u001B[38;5;124m\"\u001B[39m, p_value_12)\n",
      "File \u001B[1;32m~\\PycharmProjects\\PRACTICUM\\venv\\Lib\\site-packages\\pandas\\core\\frame.py:4102\u001B[0m, in \u001B[0;36mDataFrame.__getitem__\u001B[1;34m(self, key)\u001B[0m\n\u001B[0;32m   4100\u001B[0m \u001B[38;5;28;01mif\u001B[39;00m \u001B[38;5;28mself\u001B[39m\u001B[38;5;241m.\u001B[39mcolumns\u001B[38;5;241m.\u001B[39mnlevels \u001B[38;5;241m>\u001B[39m \u001B[38;5;241m1\u001B[39m:\n\u001B[0;32m   4101\u001B[0m     \u001B[38;5;28;01mreturn\u001B[39;00m \u001B[38;5;28mself\u001B[39m\u001B[38;5;241m.\u001B[39m_getitem_multilevel(key)\n\u001B[1;32m-> 4102\u001B[0m indexer \u001B[38;5;241m=\u001B[39m \u001B[38;5;28;43mself\u001B[39;49m\u001B[38;5;241;43m.\u001B[39;49m\u001B[43mcolumns\u001B[49m\u001B[38;5;241;43m.\u001B[39;49m\u001B[43mget_loc\u001B[49m\u001B[43m(\u001B[49m\u001B[43mkey\u001B[49m\u001B[43m)\u001B[49m\n\u001B[0;32m   4103\u001B[0m \u001B[38;5;28;01mif\u001B[39;00m is_integer(indexer):\n\u001B[0;32m   4104\u001B[0m     indexer \u001B[38;5;241m=\u001B[39m [indexer]\n",
      "File \u001B[1;32m~\\PycharmProjects\\PRACTICUM\\venv\\Lib\\site-packages\\pandas\\core\\indexes\\base.py:3812\u001B[0m, in \u001B[0;36mIndex.get_loc\u001B[1;34m(self, key)\u001B[0m\n\u001B[0;32m   3807\u001B[0m     \u001B[38;5;28;01mif\u001B[39;00m \u001B[38;5;28misinstance\u001B[39m(casted_key, \u001B[38;5;28mslice\u001B[39m) \u001B[38;5;129;01mor\u001B[39;00m (\n\u001B[0;32m   3808\u001B[0m         \u001B[38;5;28misinstance\u001B[39m(casted_key, abc\u001B[38;5;241m.\u001B[39mIterable)\n\u001B[0;32m   3809\u001B[0m         \u001B[38;5;129;01mand\u001B[39;00m \u001B[38;5;28many\u001B[39m(\u001B[38;5;28misinstance\u001B[39m(x, \u001B[38;5;28mslice\u001B[39m) \u001B[38;5;28;01mfor\u001B[39;00m x \u001B[38;5;129;01min\u001B[39;00m casted_key)\n\u001B[0;32m   3810\u001B[0m     ):\n\u001B[0;32m   3811\u001B[0m         \u001B[38;5;28;01mraise\u001B[39;00m InvalidIndexError(key)\n\u001B[1;32m-> 3812\u001B[0m     \u001B[38;5;28;01mraise\u001B[39;00m \u001B[38;5;167;01mKeyError\u001B[39;00m(key) \u001B[38;5;28;01mfrom\u001B[39;00m \u001B[38;5;21;01merr\u001B[39;00m\n\u001B[0;32m   3813\u001B[0m \u001B[38;5;28;01mexcept\u001B[39;00m \u001B[38;5;167;01mTypeError\u001B[39;00m:\n\u001B[0;32m   3814\u001B[0m     \u001B[38;5;66;03m# If we have a listlike key, _check_indexing_error will raise\u001B[39;00m\n\u001B[0;32m   3815\u001B[0m     \u001B[38;5;66;03m#  InvalidIndexError. Otherwise we fall through and re-raise\u001B[39;00m\n\u001B[0;32m   3816\u001B[0m     \u001B[38;5;66;03m#  the TypeError.\u001B[39;00m\n\u001B[0;32m   3817\u001B[0m     \u001B[38;5;28mself\u001B[39m\u001B[38;5;241m.\u001B[39m_check_indexing_error(key)\n",
      "\u001B[1;31mKeyError\u001B[0m: 'probl_corazon'"
     ]
    }
   ],
   "execution_count": 201
  },
  {
   "metadata": {
    "ExecuteTime": {
     "end_time": "2024-05-03T10:15:35.559661Z",
     "start_time": "2024-05-03T10:15:35.555562Z"
    }
   },
   "cell_type": "code",
   "source": [
    "stat, p_value_13 = mannwhitneyu(AMB_PA['CV'], SENSE_PA['CV'], alternative='two-sided')\n",
    "print(\"P-valor entre AMB_PA i SENSE_PA\", p_value_13)"
   ],
   "id": "51f94835fcff1281",
   "outputs": [
    {
     "name": "stdout",
     "output_type": "stream",
     "text": [
      "P-valor entre AMB_PA i SENSE_PA 0.19610818609418723\n"
     ]
    }
   ],
   "execution_count": 202
  },
  {
   "metadata": {
    "ExecuteTime": {
     "end_time": "2024-05-03T10:15:35.838055Z",
     "start_time": "2024-05-03T10:15:35.833720Z"
    }
   },
   "cell_type": "code",
   "source": [
    "stat, p_value_23 = mannwhitneyu(AMB_PA_MECVV['CV'], SENSE_PA['CV'], alternative='two-sided')\n",
    "print(\"P-valor entre AMB_PA_MECVV i SENSE_PA\", p_value_23)"
   ],
   "id": "91d8fe72b61842",
   "outputs": [
    {
     "name": "stdout",
     "output_type": "stream",
     "text": [
      "P-valor entre AMB_PA_MECVV i SENSE_PA 0.1699515583739133\n"
     ]
    }
   ],
   "execution_count": 203
  },
  {
   "metadata": {},
   "cell_type": "markdown",
   "source": [
    "## Malalties neurodegeneratives"
   ],
   "id": "18c9cce147e62274"
  },
  {
   "metadata": {
    "ExecuteTime": {
     "end_time": "2024-05-03T10:15:36.225169Z",
     "start_time": "2024-05-03T10:15:36.187495Z"
    }
   },
   "cell_type": "code",
   "source": [
    "nd_AMB_PA= (AMB_PA['neurodegenerativas'] == 1.0).mean() * 100\n",
    "print(f\"Percentatge de malalties neurodegeneratives: {nd_AMB_PA:.2f}%\")"
   ],
   "id": "1b290be0c970c5fe",
   "outputs": [
    {
     "ename": "KeyError",
     "evalue": "'neurodegenerativas'",
     "output_type": "error",
     "traceback": [
      "\u001B[1;31m---------------------------------------------------------------------------\u001B[0m",
      "\u001B[1;31mKeyError\u001B[0m                                  Traceback (most recent call last)",
      "File \u001B[1;32m~\\PycharmProjects\\PRACTICUM\\venv\\Lib\\site-packages\\pandas\\core\\indexes\\base.py:3805\u001B[0m, in \u001B[0;36mIndex.get_loc\u001B[1;34m(self, key)\u001B[0m\n\u001B[0;32m   3804\u001B[0m \u001B[38;5;28;01mtry\u001B[39;00m:\n\u001B[1;32m-> 3805\u001B[0m     \u001B[38;5;28;01mreturn\u001B[39;00m \u001B[38;5;28;43mself\u001B[39;49m\u001B[38;5;241;43m.\u001B[39;49m\u001B[43m_engine\u001B[49m\u001B[38;5;241;43m.\u001B[39;49m\u001B[43mget_loc\u001B[49m\u001B[43m(\u001B[49m\u001B[43mcasted_key\u001B[49m\u001B[43m)\u001B[49m\n\u001B[0;32m   3806\u001B[0m \u001B[38;5;28;01mexcept\u001B[39;00m \u001B[38;5;167;01mKeyError\u001B[39;00m \u001B[38;5;28;01mas\u001B[39;00m err:\n",
      "File \u001B[1;32mindex.pyx:167\u001B[0m, in \u001B[0;36mpandas._libs.index.IndexEngine.get_loc\u001B[1;34m()\u001B[0m\n",
      "File \u001B[1;32mindex.pyx:196\u001B[0m, in \u001B[0;36mpandas._libs.index.IndexEngine.get_loc\u001B[1;34m()\u001B[0m\n",
      "File \u001B[1;32mpandas\\\\_libs\\\\hashtable_class_helper.pxi:7081\u001B[0m, in \u001B[0;36mpandas._libs.hashtable.PyObjectHashTable.get_item\u001B[1;34m()\u001B[0m\n",
      "File \u001B[1;32mpandas\\\\_libs\\\\hashtable_class_helper.pxi:7089\u001B[0m, in \u001B[0;36mpandas._libs.hashtable.PyObjectHashTable.get_item\u001B[1;34m()\u001B[0m\n",
      "\u001B[1;31mKeyError\u001B[0m: 'neurodegenerativas'",
      "\nThe above exception was the direct cause of the following exception:\n",
      "\u001B[1;31mKeyError\u001B[0m                                  Traceback (most recent call last)",
      "Cell \u001B[1;32mIn[204], line 1\u001B[0m\n\u001B[1;32m----> 1\u001B[0m nd_AMB_PA\u001B[38;5;241m=\u001B[39m (\u001B[43mAMB_PA\u001B[49m\u001B[43m[\u001B[49m\u001B[38;5;124;43m'\u001B[39;49m\u001B[38;5;124;43mneurodegenerativas\u001B[39;49m\u001B[38;5;124;43m'\u001B[39;49m\u001B[43m]\u001B[49m \u001B[38;5;241m==\u001B[39m \u001B[38;5;241m1.0\u001B[39m)\u001B[38;5;241m.\u001B[39mmean() \u001B[38;5;241m*\u001B[39m \u001B[38;5;241m100\u001B[39m\n\u001B[0;32m      2\u001B[0m \u001B[38;5;28mprint\u001B[39m(\u001B[38;5;124mf\u001B[39m\u001B[38;5;124m\"\u001B[39m\u001B[38;5;124mPercentatge de malalties neurodegeneratives: \u001B[39m\u001B[38;5;132;01m{\u001B[39;00mnd_AMB_PA\u001B[38;5;132;01m:\u001B[39;00m\u001B[38;5;124m.2f\u001B[39m\u001B[38;5;132;01m}\u001B[39;00m\u001B[38;5;124m%\u001B[39m\u001B[38;5;124m\"\u001B[39m)\n",
      "File \u001B[1;32m~\\PycharmProjects\\PRACTICUM\\venv\\Lib\\site-packages\\pandas\\core\\frame.py:4102\u001B[0m, in \u001B[0;36mDataFrame.__getitem__\u001B[1;34m(self, key)\u001B[0m\n\u001B[0;32m   4100\u001B[0m \u001B[38;5;28;01mif\u001B[39;00m \u001B[38;5;28mself\u001B[39m\u001B[38;5;241m.\u001B[39mcolumns\u001B[38;5;241m.\u001B[39mnlevels \u001B[38;5;241m>\u001B[39m \u001B[38;5;241m1\u001B[39m:\n\u001B[0;32m   4101\u001B[0m     \u001B[38;5;28;01mreturn\u001B[39;00m \u001B[38;5;28mself\u001B[39m\u001B[38;5;241m.\u001B[39m_getitem_multilevel(key)\n\u001B[1;32m-> 4102\u001B[0m indexer \u001B[38;5;241m=\u001B[39m \u001B[38;5;28;43mself\u001B[39;49m\u001B[38;5;241;43m.\u001B[39;49m\u001B[43mcolumns\u001B[49m\u001B[38;5;241;43m.\u001B[39;49m\u001B[43mget_loc\u001B[49m\u001B[43m(\u001B[49m\u001B[43mkey\u001B[49m\u001B[43m)\u001B[49m\n\u001B[0;32m   4103\u001B[0m \u001B[38;5;28;01mif\u001B[39;00m is_integer(indexer):\n\u001B[0;32m   4104\u001B[0m     indexer \u001B[38;5;241m=\u001B[39m [indexer]\n",
      "File \u001B[1;32m~\\PycharmProjects\\PRACTICUM\\venv\\Lib\\site-packages\\pandas\\core\\indexes\\base.py:3812\u001B[0m, in \u001B[0;36mIndex.get_loc\u001B[1;34m(self, key)\u001B[0m\n\u001B[0;32m   3807\u001B[0m     \u001B[38;5;28;01mif\u001B[39;00m \u001B[38;5;28misinstance\u001B[39m(casted_key, \u001B[38;5;28mslice\u001B[39m) \u001B[38;5;129;01mor\u001B[39;00m (\n\u001B[0;32m   3808\u001B[0m         \u001B[38;5;28misinstance\u001B[39m(casted_key, abc\u001B[38;5;241m.\u001B[39mIterable)\n\u001B[0;32m   3809\u001B[0m         \u001B[38;5;129;01mand\u001B[39;00m \u001B[38;5;28many\u001B[39m(\u001B[38;5;28misinstance\u001B[39m(x, \u001B[38;5;28mslice\u001B[39m) \u001B[38;5;28;01mfor\u001B[39;00m x \u001B[38;5;129;01min\u001B[39;00m casted_key)\n\u001B[0;32m   3810\u001B[0m     ):\n\u001B[0;32m   3811\u001B[0m         \u001B[38;5;28;01mraise\u001B[39;00m InvalidIndexError(key)\n\u001B[1;32m-> 3812\u001B[0m     \u001B[38;5;28;01mraise\u001B[39;00m \u001B[38;5;167;01mKeyError\u001B[39;00m(key) \u001B[38;5;28;01mfrom\u001B[39;00m \u001B[38;5;21;01merr\u001B[39;00m\n\u001B[0;32m   3813\u001B[0m \u001B[38;5;28;01mexcept\u001B[39;00m \u001B[38;5;167;01mTypeError\u001B[39;00m:\n\u001B[0;32m   3814\u001B[0m     \u001B[38;5;66;03m# If we have a listlike key, _check_indexing_error will raise\u001B[39;00m\n\u001B[0;32m   3815\u001B[0m     \u001B[38;5;66;03m#  InvalidIndexError. Otherwise we fall through and re-raise\u001B[39;00m\n\u001B[0;32m   3816\u001B[0m     \u001B[38;5;66;03m#  the TypeError.\u001B[39;00m\n\u001B[0;32m   3817\u001B[0m     \u001B[38;5;28mself\u001B[39m\u001B[38;5;241m.\u001B[39m_check_indexing_error(key)\n",
      "\u001B[1;31mKeyError\u001B[0m: 'neurodegenerativas'"
     ]
    }
   ],
   "execution_count": 204
  },
  {
   "metadata": {
    "ExecuteTime": {
     "end_time": "2024-05-03T10:15:36.426188Z",
     "start_time": "2024-05-03T10:15:36.385397Z"
    }
   },
   "cell_type": "code",
   "source": [
    "nd_AMB_PA_MECVV= (AMB_PA_MECVV['neurodegenerativas'] == 1.0).mean() * 100\n",
    "print(f\"Percentatge de malalties neurodegeneratives: {nd_AMB_PA_MECVV:.2f}%\")"
   ],
   "id": "d7a46cc9000b68a9",
   "outputs": [
    {
     "ename": "KeyError",
     "evalue": "'neurodegenerativas'",
     "output_type": "error",
     "traceback": [
      "\u001B[1;31m---------------------------------------------------------------------------\u001B[0m",
      "\u001B[1;31mKeyError\u001B[0m                                  Traceback (most recent call last)",
      "File \u001B[1;32m~\\PycharmProjects\\PRACTICUM\\venv\\Lib\\site-packages\\pandas\\core\\indexes\\base.py:3805\u001B[0m, in \u001B[0;36mIndex.get_loc\u001B[1;34m(self, key)\u001B[0m\n\u001B[0;32m   3804\u001B[0m \u001B[38;5;28;01mtry\u001B[39;00m:\n\u001B[1;32m-> 3805\u001B[0m     \u001B[38;5;28;01mreturn\u001B[39;00m \u001B[38;5;28;43mself\u001B[39;49m\u001B[38;5;241;43m.\u001B[39;49m\u001B[43m_engine\u001B[49m\u001B[38;5;241;43m.\u001B[39;49m\u001B[43mget_loc\u001B[49m\u001B[43m(\u001B[49m\u001B[43mcasted_key\u001B[49m\u001B[43m)\u001B[49m\n\u001B[0;32m   3806\u001B[0m \u001B[38;5;28;01mexcept\u001B[39;00m \u001B[38;5;167;01mKeyError\u001B[39;00m \u001B[38;5;28;01mas\u001B[39;00m err:\n",
      "File \u001B[1;32mindex.pyx:167\u001B[0m, in \u001B[0;36mpandas._libs.index.IndexEngine.get_loc\u001B[1;34m()\u001B[0m\n",
      "File \u001B[1;32mindex.pyx:196\u001B[0m, in \u001B[0;36mpandas._libs.index.IndexEngine.get_loc\u001B[1;34m()\u001B[0m\n",
      "File \u001B[1;32mpandas\\\\_libs\\\\hashtable_class_helper.pxi:7081\u001B[0m, in \u001B[0;36mpandas._libs.hashtable.PyObjectHashTable.get_item\u001B[1;34m()\u001B[0m\n",
      "File \u001B[1;32mpandas\\\\_libs\\\\hashtable_class_helper.pxi:7089\u001B[0m, in \u001B[0;36mpandas._libs.hashtable.PyObjectHashTable.get_item\u001B[1;34m()\u001B[0m\n",
      "\u001B[1;31mKeyError\u001B[0m: 'neurodegenerativas'",
      "\nThe above exception was the direct cause of the following exception:\n",
      "\u001B[1;31mKeyError\u001B[0m                                  Traceback (most recent call last)",
      "Cell \u001B[1;32mIn[205], line 1\u001B[0m\n\u001B[1;32m----> 1\u001B[0m nd_AMB_PA_MECVV\u001B[38;5;241m=\u001B[39m (\u001B[43mAMB_PA_MECVV\u001B[49m\u001B[43m[\u001B[49m\u001B[38;5;124;43m'\u001B[39;49m\u001B[38;5;124;43mneurodegenerativas\u001B[39;49m\u001B[38;5;124;43m'\u001B[39;49m\u001B[43m]\u001B[49m \u001B[38;5;241m==\u001B[39m \u001B[38;5;241m1.0\u001B[39m)\u001B[38;5;241m.\u001B[39mmean() \u001B[38;5;241m*\u001B[39m \u001B[38;5;241m100\u001B[39m\n\u001B[0;32m      2\u001B[0m \u001B[38;5;28mprint\u001B[39m(\u001B[38;5;124mf\u001B[39m\u001B[38;5;124m\"\u001B[39m\u001B[38;5;124mPercentatge de malalties neurodegeneratives: \u001B[39m\u001B[38;5;132;01m{\u001B[39;00mnd_AMB_PA_MECVV\u001B[38;5;132;01m:\u001B[39;00m\u001B[38;5;124m.2f\u001B[39m\u001B[38;5;132;01m}\u001B[39;00m\u001B[38;5;124m%\u001B[39m\u001B[38;5;124m\"\u001B[39m)\n",
      "File \u001B[1;32m~\\PycharmProjects\\PRACTICUM\\venv\\Lib\\site-packages\\pandas\\core\\frame.py:4102\u001B[0m, in \u001B[0;36mDataFrame.__getitem__\u001B[1;34m(self, key)\u001B[0m\n\u001B[0;32m   4100\u001B[0m \u001B[38;5;28;01mif\u001B[39;00m \u001B[38;5;28mself\u001B[39m\u001B[38;5;241m.\u001B[39mcolumns\u001B[38;5;241m.\u001B[39mnlevels \u001B[38;5;241m>\u001B[39m \u001B[38;5;241m1\u001B[39m:\n\u001B[0;32m   4101\u001B[0m     \u001B[38;5;28;01mreturn\u001B[39;00m \u001B[38;5;28mself\u001B[39m\u001B[38;5;241m.\u001B[39m_getitem_multilevel(key)\n\u001B[1;32m-> 4102\u001B[0m indexer \u001B[38;5;241m=\u001B[39m \u001B[38;5;28;43mself\u001B[39;49m\u001B[38;5;241;43m.\u001B[39;49m\u001B[43mcolumns\u001B[49m\u001B[38;5;241;43m.\u001B[39;49m\u001B[43mget_loc\u001B[49m\u001B[43m(\u001B[49m\u001B[43mkey\u001B[49m\u001B[43m)\u001B[49m\n\u001B[0;32m   4103\u001B[0m \u001B[38;5;28;01mif\u001B[39;00m is_integer(indexer):\n\u001B[0;32m   4104\u001B[0m     indexer \u001B[38;5;241m=\u001B[39m [indexer]\n",
      "File \u001B[1;32m~\\PycharmProjects\\PRACTICUM\\venv\\Lib\\site-packages\\pandas\\core\\indexes\\base.py:3812\u001B[0m, in \u001B[0;36mIndex.get_loc\u001B[1;34m(self, key)\u001B[0m\n\u001B[0;32m   3807\u001B[0m     \u001B[38;5;28;01mif\u001B[39;00m \u001B[38;5;28misinstance\u001B[39m(casted_key, \u001B[38;5;28mslice\u001B[39m) \u001B[38;5;129;01mor\u001B[39;00m (\n\u001B[0;32m   3808\u001B[0m         \u001B[38;5;28misinstance\u001B[39m(casted_key, abc\u001B[38;5;241m.\u001B[39mIterable)\n\u001B[0;32m   3809\u001B[0m         \u001B[38;5;129;01mand\u001B[39;00m \u001B[38;5;28many\u001B[39m(\u001B[38;5;28misinstance\u001B[39m(x, \u001B[38;5;28mslice\u001B[39m) \u001B[38;5;28;01mfor\u001B[39;00m x \u001B[38;5;129;01min\u001B[39;00m casted_key)\n\u001B[0;32m   3810\u001B[0m     ):\n\u001B[0;32m   3811\u001B[0m         \u001B[38;5;28;01mraise\u001B[39;00m InvalidIndexError(key)\n\u001B[1;32m-> 3812\u001B[0m     \u001B[38;5;28;01mraise\u001B[39;00m \u001B[38;5;167;01mKeyError\u001B[39;00m(key) \u001B[38;5;28;01mfrom\u001B[39;00m \u001B[38;5;21;01merr\u001B[39;00m\n\u001B[0;32m   3813\u001B[0m \u001B[38;5;28;01mexcept\u001B[39;00m \u001B[38;5;167;01mTypeError\u001B[39;00m:\n\u001B[0;32m   3814\u001B[0m     \u001B[38;5;66;03m# If we have a listlike key, _check_indexing_error will raise\u001B[39;00m\n\u001B[0;32m   3815\u001B[0m     \u001B[38;5;66;03m#  InvalidIndexError. Otherwise we fall through and re-raise\u001B[39;00m\n\u001B[0;32m   3816\u001B[0m     \u001B[38;5;66;03m#  the TypeError.\u001B[39;00m\n\u001B[0;32m   3817\u001B[0m     \u001B[38;5;28mself\u001B[39m\u001B[38;5;241m.\u001B[39m_check_indexing_error(key)\n",
      "\u001B[1;31mKeyError\u001B[0m: 'neurodegenerativas'"
     ]
    }
   ],
   "execution_count": 205
  },
  {
   "metadata": {
    "ExecuteTime": {
     "end_time": "2024-05-03T10:15:36.841409Z",
     "start_time": "2024-05-03T10:15:36.801092Z"
    }
   },
   "cell_type": "code",
   "source": [
    "nd_SENSE_PA= (SENSE_PA['neurodegenerativas'] == 1.0).mean() * 100\n",
    "print(f\"Percentatge de malalties neurodegeneratives: {nd_SENSE_PA:.2f}%\")"
   ],
   "id": "fef909050dd582f3",
   "outputs": [
    {
     "ename": "KeyError",
     "evalue": "'neurodegenerativas'",
     "output_type": "error",
     "traceback": [
      "\u001B[1;31m---------------------------------------------------------------------------\u001B[0m",
      "\u001B[1;31mKeyError\u001B[0m                                  Traceback (most recent call last)",
      "File \u001B[1;32m~\\PycharmProjects\\PRACTICUM\\venv\\Lib\\site-packages\\pandas\\core\\indexes\\base.py:3805\u001B[0m, in \u001B[0;36mIndex.get_loc\u001B[1;34m(self, key)\u001B[0m\n\u001B[0;32m   3804\u001B[0m \u001B[38;5;28;01mtry\u001B[39;00m:\n\u001B[1;32m-> 3805\u001B[0m     \u001B[38;5;28;01mreturn\u001B[39;00m \u001B[38;5;28;43mself\u001B[39;49m\u001B[38;5;241;43m.\u001B[39;49m\u001B[43m_engine\u001B[49m\u001B[38;5;241;43m.\u001B[39;49m\u001B[43mget_loc\u001B[49m\u001B[43m(\u001B[49m\u001B[43mcasted_key\u001B[49m\u001B[43m)\u001B[49m\n\u001B[0;32m   3806\u001B[0m \u001B[38;5;28;01mexcept\u001B[39;00m \u001B[38;5;167;01mKeyError\u001B[39;00m \u001B[38;5;28;01mas\u001B[39;00m err:\n",
      "File \u001B[1;32mindex.pyx:167\u001B[0m, in \u001B[0;36mpandas._libs.index.IndexEngine.get_loc\u001B[1;34m()\u001B[0m\n",
      "File \u001B[1;32mindex.pyx:196\u001B[0m, in \u001B[0;36mpandas._libs.index.IndexEngine.get_loc\u001B[1;34m()\u001B[0m\n",
      "File \u001B[1;32mpandas\\\\_libs\\\\hashtable_class_helper.pxi:7081\u001B[0m, in \u001B[0;36mpandas._libs.hashtable.PyObjectHashTable.get_item\u001B[1;34m()\u001B[0m\n",
      "File \u001B[1;32mpandas\\\\_libs\\\\hashtable_class_helper.pxi:7089\u001B[0m, in \u001B[0;36mpandas._libs.hashtable.PyObjectHashTable.get_item\u001B[1;34m()\u001B[0m\n",
      "\u001B[1;31mKeyError\u001B[0m: 'neurodegenerativas'",
      "\nThe above exception was the direct cause of the following exception:\n",
      "\u001B[1;31mKeyError\u001B[0m                                  Traceback (most recent call last)",
      "Cell \u001B[1;32mIn[206], line 1\u001B[0m\n\u001B[1;32m----> 1\u001B[0m nd_SENSE_PA\u001B[38;5;241m=\u001B[39m (\u001B[43mSENSE_PA\u001B[49m\u001B[43m[\u001B[49m\u001B[38;5;124;43m'\u001B[39;49m\u001B[38;5;124;43mneurodegenerativas\u001B[39;49m\u001B[38;5;124;43m'\u001B[39;49m\u001B[43m]\u001B[49m \u001B[38;5;241m==\u001B[39m \u001B[38;5;241m1.0\u001B[39m)\u001B[38;5;241m.\u001B[39mmean() \u001B[38;5;241m*\u001B[39m \u001B[38;5;241m100\u001B[39m\n\u001B[0;32m      2\u001B[0m \u001B[38;5;28mprint\u001B[39m(\u001B[38;5;124mf\u001B[39m\u001B[38;5;124m\"\u001B[39m\u001B[38;5;124mPercentatge de malalties neurodegeneratives: \u001B[39m\u001B[38;5;132;01m{\u001B[39;00mnd_SENSE_PA\u001B[38;5;132;01m:\u001B[39;00m\u001B[38;5;124m.2f\u001B[39m\u001B[38;5;132;01m}\u001B[39;00m\u001B[38;5;124m%\u001B[39m\u001B[38;5;124m\"\u001B[39m)\n",
      "File \u001B[1;32m~\\PycharmProjects\\PRACTICUM\\venv\\Lib\\site-packages\\pandas\\core\\frame.py:4102\u001B[0m, in \u001B[0;36mDataFrame.__getitem__\u001B[1;34m(self, key)\u001B[0m\n\u001B[0;32m   4100\u001B[0m \u001B[38;5;28;01mif\u001B[39;00m \u001B[38;5;28mself\u001B[39m\u001B[38;5;241m.\u001B[39mcolumns\u001B[38;5;241m.\u001B[39mnlevels \u001B[38;5;241m>\u001B[39m \u001B[38;5;241m1\u001B[39m:\n\u001B[0;32m   4101\u001B[0m     \u001B[38;5;28;01mreturn\u001B[39;00m \u001B[38;5;28mself\u001B[39m\u001B[38;5;241m.\u001B[39m_getitem_multilevel(key)\n\u001B[1;32m-> 4102\u001B[0m indexer \u001B[38;5;241m=\u001B[39m \u001B[38;5;28;43mself\u001B[39;49m\u001B[38;5;241;43m.\u001B[39;49m\u001B[43mcolumns\u001B[49m\u001B[38;5;241;43m.\u001B[39;49m\u001B[43mget_loc\u001B[49m\u001B[43m(\u001B[49m\u001B[43mkey\u001B[49m\u001B[43m)\u001B[49m\n\u001B[0;32m   4103\u001B[0m \u001B[38;5;28;01mif\u001B[39;00m is_integer(indexer):\n\u001B[0;32m   4104\u001B[0m     indexer \u001B[38;5;241m=\u001B[39m [indexer]\n",
      "File \u001B[1;32m~\\PycharmProjects\\PRACTICUM\\venv\\Lib\\site-packages\\pandas\\core\\indexes\\base.py:3812\u001B[0m, in \u001B[0;36mIndex.get_loc\u001B[1;34m(self, key)\u001B[0m\n\u001B[0;32m   3807\u001B[0m     \u001B[38;5;28;01mif\u001B[39;00m \u001B[38;5;28misinstance\u001B[39m(casted_key, \u001B[38;5;28mslice\u001B[39m) \u001B[38;5;129;01mor\u001B[39;00m (\n\u001B[0;32m   3808\u001B[0m         \u001B[38;5;28misinstance\u001B[39m(casted_key, abc\u001B[38;5;241m.\u001B[39mIterable)\n\u001B[0;32m   3809\u001B[0m         \u001B[38;5;129;01mand\u001B[39;00m \u001B[38;5;28many\u001B[39m(\u001B[38;5;28misinstance\u001B[39m(x, \u001B[38;5;28mslice\u001B[39m) \u001B[38;5;28;01mfor\u001B[39;00m x \u001B[38;5;129;01min\u001B[39;00m casted_key)\n\u001B[0;32m   3810\u001B[0m     ):\n\u001B[0;32m   3811\u001B[0m         \u001B[38;5;28;01mraise\u001B[39;00m InvalidIndexError(key)\n\u001B[1;32m-> 3812\u001B[0m     \u001B[38;5;28;01mraise\u001B[39;00m \u001B[38;5;167;01mKeyError\u001B[39;00m(key) \u001B[38;5;28;01mfrom\u001B[39;00m \u001B[38;5;21;01merr\u001B[39;00m\n\u001B[0;32m   3813\u001B[0m \u001B[38;5;28;01mexcept\u001B[39;00m \u001B[38;5;167;01mTypeError\u001B[39;00m:\n\u001B[0;32m   3814\u001B[0m     \u001B[38;5;66;03m# If we have a listlike key, _check_indexing_error will raise\u001B[39;00m\n\u001B[0;32m   3815\u001B[0m     \u001B[38;5;66;03m#  InvalidIndexError. Otherwise we fall through and re-raise\u001B[39;00m\n\u001B[0;32m   3816\u001B[0m     \u001B[38;5;66;03m#  the TypeError.\u001B[39;00m\n\u001B[0;32m   3817\u001B[0m     \u001B[38;5;28mself\u001B[39m\u001B[38;5;241m.\u001B[39m_check_indexing_error(key)\n",
      "\u001B[1;31mKeyError\u001B[0m: 'neurodegenerativas'"
     ]
    }
   ],
   "execution_count": 206
  },
  {
   "metadata": {},
   "cell_type": "markdown",
   "source": [
    "#### Pvalor"
   ],
   "id": "13d4492161572489"
  },
  {
   "metadata": {},
   "cell_type": "markdown",
   "source": [
    "##### Normalitat"
   ],
   "id": "e98b267abe8ec4da"
  },
  {
   "metadata": {
    "ExecuteTime": {
     "end_time": "2024-05-03T10:15:37.270742Z",
     "start_time": "2024-05-03T10:15:37.233353Z"
    }
   },
   "cell_type": "code",
   "source": [
    "stat, p_value = shapiro(AMB_PA['neurodegenerativas'])\n",
    "print(f\"Estadístic W = {stat:.4f}\")\n",
    "print(f\"Valor p = {p_value:.4f}\")\n",
    "\n",
    "alpha = 0.05\n",
    "if p_value < alpha:\n",
    "    print(\"El nombre de files no segueix una distribució normal.\")\n",
    "else:\n",
    "    print(\"El nombre de files segueix una distribució normal\")"
   ],
   "id": "8d87943002876acb",
   "outputs": [
    {
     "ename": "KeyError",
     "evalue": "'neurodegenerativas'",
     "output_type": "error",
     "traceback": [
      "\u001B[1;31m---------------------------------------------------------------------------\u001B[0m",
      "\u001B[1;31mKeyError\u001B[0m                                  Traceback (most recent call last)",
      "File \u001B[1;32m~\\PycharmProjects\\PRACTICUM\\venv\\Lib\\site-packages\\pandas\\core\\indexes\\base.py:3805\u001B[0m, in \u001B[0;36mIndex.get_loc\u001B[1;34m(self, key)\u001B[0m\n\u001B[0;32m   3804\u001B[0m \u001B[38;5;28;01mtry\u001B[39;00m:\n\u001B[1;32m-> 3805\u001B[0m     \u001B[38;5;28;01mreturn\u001B[39;00m \u001B[38;5;28;43mself\u001B[39;49m\u001B[38;5;241;43m.\u001B[39;49m\u001B[43m_engine\u001B[49m\u001B[38;5;241;43m.\u001B[39;49m\u001B[43mget_loc\u001B[49m\u001B[43m(\u001B[49m\u001B[43mcasted_key\u001B[49m\u001B[43m)\u001B[49m\n\u001B[0;32m   3806\u001B[0m \u001B[38;5;28;01mexcept\u001B[39;00m \u001B[38;5;167;01mKeyError\u001B[39;00m \u001B[38;5;28;01mas\u001B[39;00m err:\n",
      "File \u001B[1;32mindex.pyx:167\u001B[0m, in \u001B[0;36mpandas._libs.index.IndexEngine.get_loc\u001B[1;34m()\u001B[0m\n",
      "File \u001B[1;32mindex.pyx:196\u001B[0m, in \u001B[0;36mpandas._libs.index.IndexEngine.get_loc\u001B[1;34m()\u001B[0m\n",
      "File \u001B[1;32mpandas\\\\_libs\\\\hashtable_class_helper.pxi:7081\u001B[0m, in \u001B[0;36mpandas._libs.hashtable.PyObjectHashTable.get_item\u001B[1;34m()\u001B[0m\n",
      "File \u001B[1;32mpandas\\\\_libs\\\\hashtable_class_helper.pxi:7089\u001B[0m, in \u001B[0;36mpandas._libs.hashtable.PyObjectHashTable.get_item\u001B[1;34m()\u001B[0m\n",
      "\u001B[1;31mKeyError\u001B[0m: 'neurodegenerativas'",
      "\nThe above exception was the direct cause of the following exception:\n",
      "\u001B[1;31mKeyError\u001B[0m                                  Traceback (most recent call last)",
      "Cell \u001B[1;32mIn[207], line 1\u001B[0m\n\u001B[1;32m----> 1\u001B[0m stat, p_value \u001B[38;5;241m=\u001B[39m shapiro(\u001B[43mAMB_PA\u001B[49m\u001B[43m[\u001B[49m\u001B[38;5;124;43m'\u001B[39;49m\u001B[38;5;124;43mneurodegenerativas\u001B[39;49m\u001B[38;5;124;43m'\u001B[39;49m\u001B[43m]\u001B[49m)\n\u001B[0;32m      2\u001B[0m \u001B[38;5;28mprint\u001B[39m(\u001B[38;5;124mf\u001B[39m\u001B[38;5;124m\"\u001B[39m\u001B[38;5;124mEstadístic W = \u001B[39m\u001B[38;5;132;01m{\u001B[39;00mstat\u001B[38;5;132;01m:\u001B[39;00m\u001B[38;5;124m.4f\u001B[39m\u001B[38;5;132;01m}\u001B[39;00m\u001B[38;5;124m\"\u001B[39m)\n\u001B[0;32m      3\u001B[0m \u001B[38;5;28mprint\u001B[39m(\u001B[38;5;124mf\u001B[39m\u001B[38;5;124m\"\u001B[39m\u001B[38;5;124mValor p = \u001B[39m\u001B[38;5;132;01m{\u001B[39;00mp_value\u001B[38;5;132;01m:\u001B[39;00m\u001B[38;5;124m.4f\u001B[39m\u001B[38;5;132;01m}\u001B[39;00m\u001B[38;5;124m\"\u001B[39m)\n",
      "File \u001B[1;32m~\\PycharmProjects\\PRACTICUM\\venv\\Lib\\site-packages\\pandas\\core\\frame.py:4102\u001B[0m, in \u001B[0;36mDataFrame.__getitem__\u001B[1;34m(self, key)\u001B[0m\n\u001B[0;32m   4100\u001B[0m \u001B[38;5;28;01mif\u001B[39;00m \u001B[38;5;28mself\u001B[39m\u001B[38;5;241m.\u001B[39mcolumns\u001B[38;5;241m.\u001B[39mnlevels \u001B[38;5;241m>\u001B[39m \u001B[38;5;241m1\u001B[39m:\n\u001B[0;32m   4101\u001B[0m     \u001B[38;5;28;01mreturn\u001B[39;00m \u001B[38;5;28mself\u001B[39m\u001B[38;5;241m.\u001B[39m_getitem_multilevel(key)\n\u001B[1;32m-> 4102\u001B[0m indexer \u001B[38;5;241m=\u001B[39m \u001B[38;5;28;43mself\u001B[39;49m\u001B[38;5;241;43m.\u001B[39;49m\u001B[43mcolumns\u001B[49m\u001B[38;5;241;43m.\u001B[39;49m\u001B[43mget_loc\u001B[49m\u001B[43m(\u001B[49m\u001B[43mkey\u001B[49m\u001B[43m)\u001B[49m\n\u001B[0;32m   4103\u001B[0m \u001B[38;5;28;01mif\u001B[39;00m is_integer(indexer):\n\u001B[0;32m   4104\u001B[0m     indexer \u001B[38;5;241m=\u001B[39m [indexer]\n",
      "File \u001B[1;32m~\\PycharmProjects\\PRACTICUM\\venv\\Lib\\site-packages\\pandas\\core\\indexes\\base.py:3812\u001B[0m, in \u001B[0;36mIndex.get_loc\u001B[1;34m(self, key)\u001B[0m\n\u001B[0;32m   3807\u001B[0m     \u001B[38;5;28;01mif\u001B[39;00m \u001B[38;5;28misinstance\u001B[39m(casted_key, \u001B[38;5;28mslice\u001B[39m) \u001B[38;5;129;01mor\u001B[39;00m (\n\u001B[0;32m   3808\u001B[0m         \u001B[38;5;28misinstance\u001B[39m(casted_key, abc\u001B[38;5;241m.\u001B[39mIterable)\n\u001B[0;32m   3809\u001B[0m         \u001B[38;5;129;01mand\u001B[39;00m \u001B[38;5;28many\u001B[39m(\u001B[38;5;28misinstance\u001B[39m(x, \u001B[38;5;28mslice\u001B[39m) \u001B[38;5;28;01mfor\u001B[39;00m x \u001B[38;5;129;01min\u001B[39;00m casted_key)\n\u001B[0;32m   3810\u001B[0m     ):\n\u001B[0;32m   3811\u001B[0m         \u001B[38;5;28;01mraise\u001B[39;00m InvalidIndexError(key)\n\u001B[1;32m-> 3812\u001B[0m     \u001B[38;5;28;01mraise\u001B[39;00m \u001B[38;5;167;01mKeyError\u001B[39;00m(key) \u001B[38;5;28;01mfrom\u001B[39;00m \u001B[38;5;21;01merr\u001B[39;00m\n\u001B[0;32m   3813\u001B[0m \u001B[38;5;28;01mexcept\u001B[39;00m \u001B[38;5;167;01mTypeError\u001B[39;00m:\n\u001B[0;32m   3814\u001B[0m     \u001B[38;5;66;03m# If we have a listlike key, _check_indexing_error will raise\u001B[39;00m\n\u001B[0;32m   3815\u001B[0m     \u001B[38;5;66;03m#  InvalidIndexError. Otherwise we fall through and re-raise\u001B[39;00m\n\u001B[0;32m   3816\u001B[0m     \u001B[38;5;66;03m#  the TypeError.\u001B[39;00m\n\u001B[0;32m   3817\u001B[0m     \u001B[38;5;28mself\u001B[39m\u001B[38;5;241m.\u001B[39m_check_indexing_error(key)\n",
      "\u001B[1;31mKeyError\u001B[0m: 'neurodegenerativas'"
     ]
    }
   ],
   "execution_count": 207
  },
  {
   "metadata": {
    "ExecuteTime": {
     "end_time": "2024-05-03T10:15:37.554350Z",
     "start_time": "2024-05-03T10:15:37.514798Z"
    }
   },
   "cell_type": "code",
   "source": [
    "stat, p_value = shapiro(AMB_PA_MECVV['neurodegenerativas'])\n",
    "print(f\"Estadístic W = {stat:.4f}\")\n",
    "print(f\"Valor p = {p_value:.4f}\")\n",
    "\n",
    "alpha = 0.05\n",
    "if p_value < alpha:\n",
    "    print(\"El nombre de files no segueix una distribució normal.\")\n",
    "else:\n",
    "    print(\"El nombre de files segueix una distribució normal\")"
   ],
   "id": "6982f3d36ccde172",
   "outputs": [
    {
     "ename": "KeyError",
     "evalue": "'neurodegenerativas'",
     "output_type": "error",
     "traceback": [
      "\u001B[1;31m---------------------------------------------------------------------------\u001B[0m",
      "\u001B[1;31mKeyError\u001B[0m                                  Traceback (most recent call last)",
      "File \u001B[1;32m~\\PycharmProjects\\PRACTICUM\\venv\\Lib\\site-packages\\pandas\\core\\indexes\\base.py:3805\u001B[0m, in \u001B[0;36mIndex.get_loc\u001B[1;34m(self, key)\u001B[0m\n\u001B[0;32m   3804\u001B[0m \u001B[38;5;28;01mtry\u001B[39;00m:\n\u001B[1;32m-> 3805\u001B[0m     \u001B[38;5;28;01mreturn\u001B[39;00m \u001B[38;5;28;43mself\u001B[39;49m\u001B[38;5;241;43m.\u001B[39;49m\u001B[43m_engine\u001B[49m\u001B[38;5;241;43m.\u001B[39;49m\u001B[43mget_loc\u001B[49m\u001B[43m(\u001B[49m\u001B[43mcasted_key\u001B[49m\u001B[43m)\u001B[49m\n\u001B[0;32m   3806\u001B[0m \u001B[38;5;28;01mexcept\u001B[39;00m \u001B[38;5;167;01mKeyError\u001B[39;00m \u001B[38;5;28;01mas\u001B[39;00m err:\n",
      "File \u001B[1;32mindex.pyx:167\u001B[0m, in \u001B[0;36mpandas._libs.index.IndexEngine.get_loc\u001B[1;34m()\u001B[0m\n",
      "File \u001B[1;32mindex.pyx:196\u001B[0m, in \u001B[0;36mpandas._libs.index.IndexEngine.get_loc\u001B[1;34m()\u001B[0m\n",
      "File \u001B[1;32mpandas\\\\_libs\\\\hashtable_class_helper.pxi:7081\u001B[0m, in \u001B[0;36mpandas._libs.hashtable.PyObjectHashTable.get_item\u001B[1;34m()\u001B[0m\n",
      "File \u001B[1;32mpandas\\\\_libs\\\\hashtable_class_helper.pxi:7089\u001B[0m, in \u001B[0;36mpandas._libs.hashtable.PyObjectHashTable.get_item\u001B[1;34m()\u001B[0m\n",
      "\u001B[1;31mKeyError\u001B[0m: 'neurodegenerativas'",
      "\nThe above exception was the direct cause of the following exception:\n",
      "\u001B[1;31mKeyError\u001B[0m                                  Traceback (most recent call last)",
      "Cell \u001B[1;32mIn[208], line 1\u001B[0m\n\u001B[1;32m----> 1\u001B[0m stat, p_value \u001B[38;5;241m=\u001B[39m shapiro(\u001B[43mAMB_PA_MECVV\u001B[49m\u001B[43m[\u001B[49m\u001B[38;5;124;43m'\u001B[39;49m\u001B[38;5;124;43mneurodegenerativas\u001B[39;49m\u001B[38;5;124;43m'\u001B[39;49m\u001B[43m]\u001B[49m)\n\u001B[0;32m      2\u001B[0m \u001B[38;5;28mprint\u001B[39m(\u001B[38;5;124mf\u001B[39m\u001B[38;5;124m\"\u001B[39m\u001B[38;5;124mEstadístic W = \u001B[39m\u001B[38;5;132;01m{\u001B[39;00mstat\u001B[38;5;132;01m:\u001B[39;00m\u001B[38;5;124m.4f\u001B[39m\u001B[38;5;132;01m}\u001B[39;00m\u001B[38;5;124m\"\u001B[39m)\n\u001B[0;32m      3\u001B[0m \u001B[38;5;28mprint\u001B[39m(\u001B[38;5;124mf\u001B[39m\u001B[38;5;124m\"\u001B[39m\u001B[38;5;124mValor p = \u001B[39m\u001B[38;5;132;01m{\u001B[39;00mp_value\u001B[38;5;132;01m:\u001B[39;00m\u001B[38;5;124m.4f\u001B[39m\u001B[38;5;132;01m}\u001B[39;00m\u001B[38;5;124m\"\u001B[39m)\n",
      "File \u001B[1;32m~\\PycharmProjects\\PRACTICUM\\venv\\Lib\\site-packages\\pandas\\core\\frame.py:4102\u001B[0m, in \u001B[0;36mDataFrame.__getitem__\u001B[1;34m(self, key)\u001B[0m\n\u001B[0;32m   4100\u001B[0m \u001B[38;5;28;01mif\u001B[39;00m \u001B[38;5;28mself\u001B[39m\u001B[38;5;241m.\u001B[39mcolumns\u001B[38;5;241m.\u001B[39mnlevels \u001B[38;5;241m>\u001B[39m \u001B[38;5;241m1\u001B[39m:\n\u001B[0;32m   4101\u001B[0m     \u001B[38;5;28;01mreturn\u001B[39;00m \u001B[38;5;28mself\u001B[39m\u001B[38;5;241m.\u001B[39m_getitem_multilevel(key)\n\u001B[1;32m-> 4102\u001B[0m indexer \u001B[38;5;241m=\u001B[39m \u001B[38;5;28;43mself\u001B[39;49m\u001B[38;5;241;43m.\u001B[39;49m\u001B[43mcolumns\u001B[49m\u001B[38;5;241;43m.\u001B[39;49m\u001B[43mget_loc\u001B[49m\u001B[43m(\u001B[49m\u001B[43mkey\u001B[49m\u001B[43m)\u001B[49m\n\u001B[0;32m   4103\u001B[0m \u001B[38;5;28;01mif\u001B[39;00m is_integer(indexer):\n\u001B[0;32m   4104\u001B[0m     indexer \u001B[38;5;241m=\u001B[39m [indexer]\n",
      "File \u001B[1;32m~\\PycharmProjects\\PRACTICUM\\venv\\Lib\\site-packages\\pandas\\core\\indexes\\base.py:3812\u001B[0m, in \u001B[0;36mIndex.get_loc\u001B[1;34m(self, key)\u001B[0m\n\u001B[0;32m   3807\u001B[0m     \u001B[38;5;28;01mif\u001B[39;00m \u001B[38;5;28misinstance\u001B[39m(casted_key, \u001B[38;5;28mslice\u001B[39m) \u001B[38;5;129;01mor\u001B[39;00m (\n\u001B[0;32m   3808\u001B[0m         \u001B[38;5;28misinstance\u001B[39m(casted_key, abc\u001B[38;5;241m.\u001B[39mIterable)\n\u001B[0;32m   3809\u001B[0m         \u001B[38;5;129;01mand\u001B[39;00m \u001B[38;5;28many\u001B[39m(\u001B[38;5;28misinstance\u001B[39m(x, \u001B[38;5;28mslice\u001B[39m) \u001B[38;5;28;01mfor\u001B[39;00m x \u001B[38;5;129;01min\u001B[39;00m casted_key)\n\u001B[0;32m   3810\u001B[0m     ):\n\u001B[0;32m   3811\u001B[0m         \u001B[38;5;28;01mraise\u001B[39;00m InvalidIndexError(key)\n\u001B[1;32m-> 3812\u001B[0m     \u001B[38;5;28;01mraise\u001B[39;00m \u001B[38;5;167;01mKeyError\u001B[39;00m(key) \u001B[38;5;28;01mfrom\u001B[39;00m \u001B[38;5;21;01merr\u001B[39;00m\n\u001B[0;32m   3813\u001B[0m \u001B[38;5;28;01mexcept\u001B[39;00m \u001B[38;5;167;01mTypeError\u001B[39;00m:\n\u001B[0;32m   3814\u001B[0m     \u001B[38;5;66;03m# If we have a listlike key, _check_indexing_error will raise\u001B[39;00m\n\u001B[0;32m   3815\u001B[0m     \u001B[38;5;66;03m#  InvalidIndexError. Otherwise we fall through and re-raise\u001B[39;00m\n\u001B[0;32m   3816\u001B[0m     \u001B[38;5;66;03m#  the TypeError.\u001B[39;00m\n\u001B[0;32m   3817\u001B[0m     \u001B[38;5;28mself\u001B[39m\u001B[38;5;241m.\u001B[39m_check_indexing_error(key)\n",
      "\u001B[1;31mKeyError\u001B[0m: 'neurodegenerativas'"
     ]
    }
   ],
   "execution_count": 208
  },
  {
   "metadata": {
    "ExecuteTime": {
     "end_time": "2024-05-03T10:15:37.892223Z",
     "start_time": "2024-05-03T10:15:37.853417Z"
    }
   },
   "cell_type": "code",
   "source": [
    "stat, p_value = shapiro(SENSE_PA['neurodegenerativas'])\n",
    "print(f\"Estadístic W = {stat:.4f}\")\n",
    "print(f\"Valor p = {p_value:.4f}\")\n",
    "\n",
    "alpha = 0.05\n",
    "if p_value < alpha:\n",
    "    print(\"El nombre de files no segueix una distribució normal.\")\n",
    "else:\n",
    "    print(\"El nombre de files segueix una distribució normal\")"
   ],
   "id": "4a33f042367e4f46",
   "outputs": [
    {
     "ename": "KeyError",
     "evalue": "'neurodegenerativas'",
     "output_type": "error",
     "traceback": [
      "\u001B[1;31m---------------------------------------------------------------------------\u001B[0m",
      "\u001B[1;31mKeyError\u001B[0m                                  Traceback (most recent call last)",
      "File \u001B[1;32m~\\PycharmProjects\\PRACTICUM\\venv\\Lib\\site-packages\\pandas\\core\\indexes\\base.py:3805\u001B[0m, in \u001B[0;36mIndex.get_loc\u001B[1;34m(self, key)\u001B[0m\n\u001B[0;32m   3804\u001B[0m \u001B[38;5;28;01mtry\u001B[39;00m:\n\u001B[1;32m-> 3805\u001B[0m     \u001B[38;5;28;01mreturn\u001B[39;00m \u001B[38;5;28;43mself\u001B[39;49m\u001B[38;5;241;43m.\u001B[39;49m\u001B[43m_engine\u001B[49m\u001B[38;5;241;43m.\u001B[39;49m\u001B[43mget_loc\u001B[49m\u001B[43m(\u001B[49m\u001B[43mcasted_key\u001B[49m\u001B[43m)\u001B[49m\n\u001B[0;32m   3806\u001B[0m \u001B[38;5;28;01mexcept\u001B[39;00m \u001B[38;5;167;01mKeyError\u001B[39;00m \u001B[38;5;28;01mas\u001B[39;00m err:\n",
      "File \u001B[1;32mindex.pyx:167\u001B[0m, in \u001B[0;36mpandas._libs.index.IndexEngine.get_loc\u001B[1;34m()\u001B[0m\n",
      "File \u001B[1;32mindex.pyx:196\u001B[0m, in \u001B[0;36mpandas._libs.index.IndexEngine.get_loc\u001B[1;34m()\u001B[0m\n",
      "File \u001B[1;32mpandas\\\\_libs\\\\hashtable_class_helper.pxi:7081\u001B[0m, in \u001B[0;36mpandas._libs.hashtable.PyObjectHashTable.get_item\u001B[1;34m()\u001B[0m\n",
      "File \u001B[1;32mpandas\\\\_libs\\\\hashtable_class_helper.pxi:7089\u001B[0m, in \u001B[0;36mpandas._libs.hashtable.PyObjectHashTable.get_item\u001B[1;34m()\u001B[0m\n",
      "\u001B[1;31mKeyError\u001B[0m: 'neurodegenerativas'",
      "\nThe above exception was the direct cause of the following exception:\n",
      "\u001B[1;31mKeyError\u001B[0m                                  Traceback (most recent call last)",
      "Cell \u001B[1;32mIn[209], line 1\u001B[0m\n\u001B[1;32m----> 1\u001B[0m stat, p_value \u001B[38;5;241m=\u001B[39m shapiro(\u001B[43mSENSE_PA\u001B[49m\u001B[43m[\u001B[49m\u001B[38;5;124;43m'\u001B[39;49m\u001B[38;5;124;43mneurodegenerativas\u001B[39;49m\u001B[38;5;124;43m'\u001B[39;49m\u001B[43m]\u001B[49m)\n\u001B[0;32m      2\u001B[0m \u001B[38;5;28mprint\u001B[39m(\u001B[38;5;124mf\u001B[39m\u001B[38;5;124m\"\u001B[39m\u001B[38;5;124mEstadístic W = \u001B[39m\u001B[38;5;132;01m{\u001B[39;00mstat\u001B[38;5;132;01m:\u001B[39;00m\u001B[38;5;124m.4f\u001B[39m\u001B[38;5;132;01m}\u001B[39;00m\u001B[38;5;124m\"\u001B[39m)\n\u001B[0;32m      3\u001B[0m \u001B[38;5;28mprint\u001B[39m(\u001B[38;5;124mf\u001B[39m\u001B[38;5;124m\"\u001B[39m\u001B[38;5;124mValor p = \u001B[39m\u001B[38;5;132;01m{\u001B[39;00mp_value\u001B[38;5;132;01m:\u001B[39;00m\u001B[38;5;124m.4f\u001B[39m\u001B[38;5;132;01m}\u001B[39;00m\u001B[38;5;124m\"\u001B[39m)\n",
      "File \u001B[1;32m~\\PycharmProjects\\PRACTICUM\\venv\\Lib\\site-packages\\pandas\\core\\frame.py:4102\u001B[0m, in \u001B[0;36mDataFrame.__getitem__\u001B[1;34m(self, key)\u001B[0m\n\u001B[0;32m   4100\u001B[0m \u001B[38;5;28;01mif\u001B[39;00m \u001B[38;5;28mself\u001B[39m\u001B[38;5;241m.\u001B[39mcolumns\u001B[38;5;241m.\u001B[39mnlevels \u001B[38;5;241m>\u001B[39m \u001B[38;5;241m1\u001B[39m:\n\u001B[0;32m   4101\u001B[0m     \u001B[38;5;28;01mreturn\u001B[39;00m \u001B[38;5;28mself\u001B[39m\u001B[38;5;241m.\u001B[39m_getitem_multilevel(key)\n\u001B[1;32m-> 4102\u001B[0m indexer \u001B[38;5;241m=\u001B[39m \u001B[38;5;28;43mself\u001B[39;49m\u001B[38;5;241;43m.\u001B[39;49m\u001B[43mcolumns\u001B[49m\u001B[38;5;241;43m.\u001B[39;49m\u001B[43mget_loc\u001B[49m\u001B[43m(\u001B[49m\u001B[43mkey\u001B[49m\u001B[43m)\u001B[49m\n\u001B[0;32m   4103\u001B[0m \u001B[38;5;28;01mif\u001B[39;00m is_integer(indexer):\n\u001B[0;32m   4104\u001B[0m     indexer \u001B[38;5;241m=\u001B[39m [indexer]\n",
      "File \u001B[1;32m~\\PycharmProjects\\PRACTICUM\\venv\\Lib\\site-packages\\pandas\\core\\indexes\\base.py:3812\u001B[0m, in \u001B[0;36mIndex.get_loc\u001B[1;34m(self, key)\u001B[0m\n\u001B[0;32m   3807\u001B[0m     \u001B[38;5;28;01mif\u001B[39;00m \u001B[38;5;28misinstance\u001B[39m(casted_key, \u001B[38;5;28mslice\u001B[39m) \u001B[38;5;129;01mor\u001B[39;00m (\n\u001B[0;32m   3808\u001B[0m         \u001B[38;5;28misinstance\u001B[39m(casted_key, abc\u001B[38;5;241m.\u001B[39mIterable)\n\u001B[0;32m   3809\u001B[0m         \u001B[38;5;129;01mand\u001B[39;00m \u001B[38;5;28many\u001B[39m(\u001B[38;5;28misinstance\u001B[39m(x, \u001B[38;5;28mslice\u001B[39m) \u001B[38;5;28;01mfor\u001B[39;00m x \u001B[38;5;129;01min\u001B[39;00m casted_key)\n\u001B[0;32m   3810\u001B[0m     ):\n\u001B[0;32m   3811\u001B[0m         \u001B[38;5;28;01mraise\u001B[39;00m InvalidIndexError(key)\n\u001B[1;32m-> 3812\u001B[0m     \u001B[38;5;28;01mraise\u001B[39;00m \u001B[38;5;167;01mKeyError\u001B[39;00m(key) \u001B[38;5;28;01mfrom\u001B[39;00m \u001B[38;5;21;01merr\u001B[39;00m\n\u001B[0;32m   3813\u001B[0m \u001B[38;5;28;01mexcept\u001B[39;00m \u001B[38;5;167;01mTypeError\u001B[39;00m:\n\u001B[0;32m   3814\u001B[0m     \u001B[38;5;66;03m# If we have a listlike key, _check_indexing_error will raise\u001B[39;00m\n\u001B[0;32m   3815\u001B[0m     \u001B[38;5;66;03m#  InvalidIndexError. Otherwise we fall through and re-raise\u001B[39;00m\n\u001B[0;32m   3816\u001B[0m     \u001B[38;5;66;03m#  the TypeError.\u001B[39;00m\n\u001B[0;32m   3817\u001B[0m     \u001B[38;5;28mself\u001B[39m\u001B[38;5;241m.\u001B[39m_check_indexing_error(key)\n",
      "\u001B[1;31mKeyError\u001B[0m: 'neurodegenerativas'"
     ]
    }
   ],
   "execution_count": 209
  },
  {
   "metadata": {
    "ExecuteTime": {
     "end_time": "2024-05-03T10:15:38.307980Z",
     "start_time": "2024-05-03T10:15:38.270459Z"
    }
   },
   "cell_type": "code",
   "source": [
    "stat, p_value_12 = mannwhitneyu(AMB_PA['neurodegenerativas'], AMB_PA_MECVV['neurodegenerativas'], alternative='two-sided')\n",
    "print(\"P-valor entre AMB_PA i AMB_PA_MECVV\", p_value_12)"
   ],
   "id": "7ea74d2a49cec4ac",
   "outputs": [
    {
     "ename": "KeyError",
     "evalue": "'neurodegenerativas'",
     "output_type": "error",
     "traceback": [
      "\u001B[1;31m---------------------------------------------------------------------------\u001B[0m",
      "\u001B[1;31mKeyError\u001B[0m                                  Traceback (most recent call last)",
      "File \u001B[1;32m~\\PycharmProjects\\PRACTICUM\\venv\\Lib\\site-packages\\pandas\\core\\indexes\\base.py:3805\u001B[0m, in \u001B[0;36mIndex.get_loc\u001B[1;34m(self, key)\u001B[0m\n\u001B[0;32m   3804\u001B[0m \u001B[38;5;28;01mtry\u001B[39;00m:\n\u001B[1;32m-> 3805\u001B[0m     \u001B[38;5;28;01mreturn\u001B[39;00m \u001B[38;5;28;43mself\u001B[39;49m\u001B[38;5;241;43m.\u001B[39;49m\u001B[43m_engine\u001B[49m\u001B[38;5;241;43m.\u001B[39;49m\u001B[43mget_loc\u001B[49m\u001B[43m(\u001B[49m\u001B[43mcasted_key\u001B[49m\u001B[43m)\u001B[49m\n\u001B[0;32m   3806\u001B[0m \u001B[38;5;28;01mexcept\u001B[39;00m \u001B[38;5;167;01mKeyError\u001B[39;00m \u001B[38;5;28;01mas\u001B[39;00m err:\n",
      "File \u001B[1;32mindex.pyx:167\u001B[0m, in \u001B[0;36mpandas._libs.index.IndexEngine.get_loc\u001B[1;34m()\u001B[0m\n",
      "File \u001B[1;32mindex.pyx:196\u001B[0m, in \u001B[0;36mpandas._libs.index.IndexEngine.get_loc\u001B[1;34m()\u001B[0m\n",
      "File \u001B[1;32mpandas\\\\_libs\\\\hashtable_class_helper.pxi:7081\u001B[0m, in \u001B[0;36mpandas._libs.hashtable.PyObjectHashTable.get_item\u001B[1;34m()\u001B[0m\n",
      "File \u001B[1;32mpandas\\\\_libs\\\\hashtable_class_helper.pxi:7089\u001B[0m, in \u001B[0;36mpandas._libs.hashtable.PyObjectHashTable.get_item\u001B[1;34m()\u001B[0m\n",
      "\u001B[1;31mKeyError\u001B[0m: 'neurodegenerativas'",
      "\nThe above exception was the direct cause of the following exception:\n",
      "\u001B[1;31mKeyError\u001B[0m                                  Traceback (most recent call last)",
      "Cell \u001B[1;32mIn[210], line 1\u001B[0m\n\u001B[1;32m----> 1\u001B[0m stat, p_value_12 \u001B[38;5;241m=\u001B[39m mannwhitneyu(\u001B[43mAMB_PA\u001B[49m\u001B[43m[\u001B[49m\u001B[38;5;124;43m'\u001B[39;49m\u001B[38;5;124;43mneurodegenerativas\u001B[39;49m\u001B[38;5;124;43m'\u001B[39;49m\u001B[43m]\u001B[49m, AMB_PA_MECVV[\u001B[38;5;124m'\u001B[39m\u001B[38;5;124mneurodegenerativas\u001B[39m\u001B[38;5;124m'\u001B[39m], alternative\u001B[38;5;241m=\u001B[39m\u001B[38;5;124m'\u001B[39m\u001B[38;5;124mtwo-sided\u001B[39m\u001B[38;5;124m'\u001B[39m)\n\u001B[0;32m      2\u001B[0m \u001B[38;5;28mprint\u001B[39m(\u001B[38;5;124m\"\u001B[39m\u001B[38;5;124mP-valor entre AMB_PA i AMB_PA_MECVV\u001B[39m\u001B[38;5;124m\"\u001B[39m, p_value_12)\n",
      "File \u001B[1;32m~\\PycharmProjects\\PRACTICUM\\venv\\Lib\\site-packages\\pandas\\core\\frame.py:4102\u001B[0m, in \u001B[0;36mDataFrame.__getitem__\u001B[1;34m(self, key)\u001B[0m\n\u001B[0;32m   4100\u001B[0m \u001B[38;5;28;01mif\u001B[39;00m \u001B[38;5;28mself\u001B[39m\u001B[38;5;241m.\u001B[39mcolumns\u001B[38;5;241m.\u001B[39mnlevels \u001B[38;5;241m>\u001B[39m \u001B[38;5;241m1\u001B[39m:\n\u001B[0;32m   4101\u001B[0m     \u001B[38;5;28;01mreturn\u001B[39;00m \u001B[38;5;28mself\u001B[39m\u001B[38;5;241m.\u001B[39m_getitem_multilevel(key)\n\u001B[1;32m-> 4102\u001B[0m indexer \u001B[38;5;241m=\u001B[39m \u001B[38;5;28;43mself\u001B[39;49m\u001B[38;5;241;43m.\u001B[39;49m\u001B[43mcolumns\u001B[49m\u001B[38;5;241;43m.\u001B[39;49m\u001B[43mget_loc\u001B[49m\u001B[43m(\u001B[49m\u001B[43mkey\u001B[49m\u001B[43m)\u001B[49m\n\u001B[0;32m   4103\u001B[0m \u001B[38;5;28;01mif\u001B[39;00m is_integer(indexer):\n\u001B[0;32m   4104\u001B[0m     indexer \u001B[38;5;241m=\u001B[39m [indexer]\n",
      "File \u001B[1;32m~\\PycharmProjects\\PRACTICUM\\venv\\Lib\\site-packages\\pandas\\core\\indexes\\base.py:3812\u001B[0m, in \u001B[0;36mIndex.get_loc\u001B[1;34m(self, key)\u001B[0m\n\u001B[0;32m   3807\u001B[0m     \u001B[38;5;28;01mif\u001B[39;00m \u001B[38;5;28misinstance\u001B[39m(casted_key, \u001B[38;5;28mslice\u001B[39m) \u001B[38;5;129;01mor\u001B[39;00m (\n\u001B[0;32m   3808\u001B[0m         \u001B[38;5;28misinstance\u001B[39m(casted_key, abc\u001B[38;5;241m.\u001B[39mIterable)\n\u001B[0;32m   3809\u001B[0m         \u001B[38;5;129;01mand\u001B[39;00m \u001B[38;5;28many\u001B[39m(\u001B[38;5;28misinstance\u001B[39m(x, \u001B[38;5;28mslice\u001B[39m) \u001B[38;5;28;01mfor\u001B[39;00m x \u001B[38;5;129;01min\u001B[39;00m casted_key)\n\u001B[0;32m   3810\u001B[0m     ):\n\u001B[0;32m   3811\u001B[0m         \u001B[38;5;28;01mraise\u001B[39;00m InvalidIndexError(key)\n\u001B[1;32m-> 3812\u001B[0m     \u001B[38;5;28;01mraise\u001B[39;00m \u001B[38;5;167;01mKeyError\u001B[39;00m(key) \u001B[38;5;28;01mfrom\u001B[39;00m \u001B[38;5;21;01merr\u001B[39;00m\n\u001B[0;32m   3813\u001B[0m \u001B[38;5;28;01mexcept\u001B[39;00m \u001B[38;5;167;01mTypeError\u001B[39;00m:\n\u001B[0;32m   3814\u001B[0m     \u001B[38;5;66;03m# If we have a listlike key, _check_indexing_error will raise\u001B[39;00m\n\u001B[0;32m   3815\u001B[0m     \u001B[38;5;66;03m#  InvalidIndexError. Otherwise we fall through and re-raise\u001B[39;00m\n\u001B[0;32m   3816\u001B[0m     \u001B[38;5;66;03m#  the TypeError.\u001B[39;00m\n\u001B[0;32m   3817\u001B[0m     \u001B[38;5;28mself\u001B[39m\u001B[38;5;241m.\u001B[39m_check_indexing_error(key)\n",
      "\u001B[1;31mKeyError\u001B[0m: 'neurodegenerativas'"
     ]
    }
   ],
   "execution_count": 210
  },
  {
   "metadata": {
    "ExecuteTime": {
     "end_time": "2024-05-03T10:15:38.540991Z",
     "start_time": "2024-05-03T10:15:38.504550Z"
    }
   },
   "cell_type": "code",
   "source": [
    "stat, p_value_13 = mannwhitneyu(AMB_PA['neurodegenerativas'], SENSE_PA['neurodegenerativas'], alternative='two-sided')\n",
    "print(\"P-valor entre AMB_PA i SENSE_PA\", p_value_13)"
   ],
   "id": "fedde2b245d34d1",
   "outputs": [
    {
     "ename": "KeyError",
     "evalue": "'neurodegenerativas'",
     "output_type": "error",
     "traceback": [
      "\u001B[1;31m---------------------------------------------------------------------------\u001B[0m",
      "\u001B[1;31mKeyError\u001B[0m                                  Traceback (most recent call last)",
      "File \u001B[1;32m~\\PycharmProjects\\PRACTICUM\\venv\\Lib\\site-packages\\pandas\\core\\indexes\\base.py:3805\u001B[0m, in \u001B[0;36mIndex.get_loc\u001B[1;34m(self, key)\u001B[0m\n\u001B[0;32m   3804\u001B[0m \u001B[38;5;28;01mtry\u001B[39;00m:\n\u001B[1;32m-> 3805\u001B[0m     \u001B[38;5;28;01mreturn\u001B[39;00m \u001B[38;5;28;43mself\u001B[39;49m\u001B[38;5;241;43m.\u001B[39;49m\u001B[43m_engine\u001B[49m\u001B[38;5;241;43m.\u001B[39;49m\u001B[43mget_loc\u001B[49m\u001B[43m(\u001B[49m\u001B[43mcasted_key\u001B[49m\u001B[43m)\u001B[49m\n\u001B[0;32m   3806\u001B[0m \u001B[38;5;28;01mexcept\u001B[39;00m \u001B[38;5;167;01mKeyError\u001B[39;00m \u001B[38;5;28;01mas\u001B[39;00m err:\n",
      "File \u001B[1;32mindex.pyx:167\u001B[0m, in \u001B[0;36mpandas._libs.index.IndexEngine.get_loc\u001B[1;34m()\u001B[0m\n",
      "File \u001B[1;32mindex.pyx:196\u001B[0m, in \u001B[0;36mpandas._libs.index.IndexEngine.get_loc\u001B[1;34m()\u001B[0m\n",
      "File \u001B[1;32mpandas\\\\_libs\\\\hashtable_class_helper.pxi:7081\u001B[0m, in \u001B[0;36mpandas._libs.hashtable.PyObjectHashTable.get_item\u001B[1;34m()\u001B[0m\n",
      "File \u001B[1;32mpandas\\\\_libs\\\\hashtable_class_helper.pxi:7089\u001B[0m, in \u001B[0;36mpandas._libs.hashtable.PyObjectHashTable.get_item\u001B[1;34m()\u001B[0m\n",
      "\u001B[1;31mKeyError\u001B[0m: 'neurodegenerativas'",
      "\nThe above exception was the direct cause of the following exception:\n",
      "\u001B[1;31mKeyError\u001B[0m                                  Traceback (most recent call last)",
      "Cell \u001B[1;32mIn[211], line 1\u001B[0m\n\u001B[1;32m----> 1\u001B[0m stat, p_value_13 \u001B[38;5;241m=\u001B[39m mannwhitneyu(\u001B[43mAMB_PA\u001B[49m\u001B[43m[\u001B[49m\u001B[38;5;124;43m'\u001B[39;49m\u001B[38;5;124;43mneurodegenerativas\u001B[39;49m\u001B[38;5;124;43m'\u001B[39;49m\u001B[43m]\u001B[49m, SENSE_PA[\u001B[38;5;124m'\u001B[39m\u001B[38;5;124mneurodegenerativas\u001B[39m\u001B[38;5;124m'\u001B[39m], alternative\u001B[38;5;241m=\u001B[39m\u001B[38;5;124m'\u001B[39m\u001B[38;5;124mtwo-sided\u001B[39m\u001B[38;5;124m'\u001B[39m)\n\u001B[0;32m      2\u001B[0m \u001B[38;5;28mprint\u001B[39m(\u001B[38;5;124m\"\u001B[39m\u001B[38;5;124mP-valor entre AMB_PA i SENSE_PA\u001B[39m\u001B[38;5;124m\"\u001B[39m, p_value_13)\n",
      "File \u001B[1;32m~\\PycharmProjects\\PRACTICUM\\venv\\Lib\\site-packages\\pandas\\core\\frame.py:4102\u001B[0m, in \u001B[0;36mDataFrame.__getitem__\u001B[1;34m(self, key)\u001B[0m\n\u001B[0;32m   4100\u001B[0m \u001B[38;5;28;01mif\u001B[39;00m \u001B[38;5;28mself\u001B[39m\u001B[38;5;241m.\u001B[39mcolumns\u001B[38;5;241m.\u001B[39mnlevels \u001B[38;5;241m>\u001B[39m \u001B[38;5;241m1\u001B[39m:\n\u001B[0;32m   4101\u001B[0m     \u001B[38;5;28;01mreturn\u001B[39;00m \u001B[38;5;28mself\u001B[39m\u001B[38;5;241m.\u001B[39m_getitem_multilevel(key)\n\u001B[1;32m-> 4102\u001B[0m indexer \u001B[38;5;241m=\u001B[39m \u001B[38;5;28;43mself\u001B[39;49m\u001B[38;5;241;43m.\u001B[39;49m\u001B[43mcolumns\u001B[49m\u001B[38;5;241;43m.\u001B[39;49m\u001B[43mget_loc\u001B[49m\u001B[43m(\u001B[49m\u001B[43mkey\u001B[49m\u001B[43m)\u001B[49m\n\u001B[0;32m   4103\u001B[0m \u001B[38;5;28;01mif\u001B[39;00m is_integer(indexer):\n\u001B[0;32m   4104\u001B[0m     indexer \u001B[38;5;241m=\u001B[39m [indexer]\n",
      "File \u001B[1;32m~\\PycharmProjects\\PRACTICUM\\venv\\Lib\\site-packages\\pandas\\core\\indexes\\base.py:3812\u001B[0m, in \u001B[0;36mIndex.get_loc\u001B[1;34m(self, key)\u001B[0m\n\u001B[0;32m   3807\u001B[0m     \u001B[38;5;28;01mif\u001B[39;00m \u001B[38;5;28misinstance\u001B[39m(casted_key, \u001B[38;5;28mslice\u001B[39m) \u001B[38;5;129;01mor\u001B[39;00m (\n\u001B[0;32m   3808\u001B[0m         \u001B[38;5;28misinstance\u001B[39m(casted_key, abc\u001B[38;5;241m.\u001B[39mIterable)\n\u001B[0;32m   3809\u001B[0m         \u001B[38;5;129;01mand\u001B[39;00m \u001B[38;5;28many\u001B[39m(\u001B[38;5;28misinstance\u001B[39m(x, \u001B[38;5;28mslice\u001B[39m) \u001B[38;5;28;01mfor\u001B[39;00m x \u001B[38;5;129;01min\u001B[39;00m casted_key)\n\u001B[0;32m   3810\u001B[0m     ):\n\u001B[0;32m   3811\u001B[0m         \u001B[38;5;28;01mraise\u001B[39;00m InvalidIndexError(key)\n\u001B[1;32m-> 3812\u001B[0m     \u001B[38;5;28;01mraise\u001B[39;00m \u001B[38;5;167;01mKeyError\u001B[39;00m(key) \u001B[38;5;28;01mfrom\u001B[39;00m \u001B[38;5;21;01merr\u001B[39;00m\n\u001B[0;32m   3813\u001B[0m \u001B[38;5;28;01mexcept\u001B[39;00m \u001B[38;5;167;01mTypeError\u001B[39;00m:\n\u001B[0;32m   3814\u001B[0m     \u001B[38;5;66;03m# If we have a listlike key, _check_indexing_error will raise\u001B[39;00m\n\u001B[0;32m   3815\u001B[0m     \u001B[38;5;66;03m#  InvalidIndexError. Otherwise we fall through and re-raise\u001B[39;00m\n\u001B[0;32m   3816\u001B[0m     \u001B[38;5;66;03m#  the TypeError.\u001B[39;00m\n\u001B[0;32m   3817\u001B[0m     \u001B[38;5;28mself\u001B[39m\u001B[38;5;241m.\u001B[39m_check_indexing_error(key)\n",
      "\u001B[1;31mKeyError\u001B[0m: 'neurodegenerativas'"
     ]
    }
   ],
   "execution_count": 211
  },
  {
   "metadata": {
    "ExecuteTime": {
     "end_time": "2024-05-03T10:15:38.897719Z",
     "start_time": "2024-05-03T10:15:38.860699Z"
    }
   },
   "cell_type": "code",
   "source": [
    "stat, p_value_23 = mannwhitneyu(AMB_PA_MECVV['neurodegenerativas'], SENSE_PA['neurodegenerativas'], alternative='two-sided')\n",
    "print(\"P-valor entre AMB_PA_MECVV i SENSE_PA\", p_value_23)"
   ],
   "id": "2329b5f7f410f0fb",
   "outputs": [
    {
     "ename": "KeyError",
     "evalue": "'neurodegenerativas'",
     "output_type": "error",
     "traceback": [
      "\u001B[1;31m---------------------------------------------------------------------------\u001B[0m",
      "\u001B[1;31mKeyError\u001B[0m                                  Traceback (most recent call last)",
      "File \u001B[1;32m~\\PycharmProjects\\PRACTICUM\\venv\\Lib\\site-packages\\pandas\\core\\indexes\\base.py:3805\u001B[0m, in \u001B[0;36mIndex.get_loc\u001B[1;34m(self, key)\u001B[0m\n\u001B[0;32m   3804\u001B[0m \u001B[38;5;28;01mtry\u001B[39;00m:\n\u001B[1;32m-> 3805\u001B[0m     \u001B[38;5;28;01mreturn\u001B[39;00m \u001B[38;5;28;43mself\u001B[39;49m\u001B[38;5;241;43m.\u001B[39;49m\u001B[43m_engine\u001B[49m\u001B[38;5;241;43m.\u001B[39;49m\u001B[43mget_loc\u001B[49m\u001B[43m(\u001B[49m\u001B[43mcasted_key\u001B[49m\u001B[43m)\u001B[49m\n\u001B[0;32m   3806\u001B[0m \u001B[38;5;28;01mexcept\u001B[39;00m \u001B[38;5;167;01mKeyError\u001B[39;00m \u001B[38;5;28;01mas\u001B[39;00m err:\n",
      "File \u001B[1;32mindex.pyx:167\u001B[0m, in \u001B[0;36mpandas._libs.index.IndexEngine.get_loc\u001B[1;34m()\u001B[0m\n",
      "File \u001B[1;32mindex.pyx:196\u001B[0m, in \u001B[0;36mpandas._libs.index.IndexEngine.get_loc\u001B[1;34m()\u001B[0m\n",
      "File \u001B[1;32mpandas\\\\_libs\\\\hashtable_class_helper.pxi:7081\u001B[0m, in \u001B[0;36mpandas._libs.hashtable.PyObjectHashTable.get_item\u001B[1;34m()\u001B[0m\n",
      "File \u001B[1;32mpandas\\\\_libs\\\\hashtable_class_helper.pxi:7089\u001B[0m, in \u001B[0;36mpandas._libs.hashtable.PyObjectHashTable.get_item\u001B[1;34m()\u001B[0m\n",
      "\u001B[1;31mKeyError\u001B[0m: 'neurodegenerativas'",
      "\nThe above exception was the direct cause of the following exception:\n",
      "\u001B[1;31mKeyError\u001B[0m                                  Traceback (most recent call last)",
      "Cell \u001B[1;32mIn[212], line 1\u001B[0m\n\u001B[1;32m----> 1\u001B[0m stat, p_value_23 \u001B[38;5;241m=\u001B[39m mannwhitneyu(\u001B[43mAMB_PA_MECVV\u001B[49m\u001B[43m[\u001B[49m\u001B[38;5;124;43m'\u001B[39;49m\u001B[38;5;124;43mneurodegenerativas\u001B[39;49m\u001B[38;5;124;43m'\u001B[39;49m\u001B[43m]\u001B[49m, SENSE_PA[\u001B[38;5;124m'\u001B[39m\u001B[38;5;124mneurodegenerativas\u001B[39m\u001B[38;5;124m'\u001B[39m], alternative\u001B[38;5;241m=\u001B[39m\u001B[38;5;124m'\u001B[39m\u001B[38;5;124mtwo-sided\u001B[39m\u001B[38;5;124m'\u001B[39m)\n\u001B[0;32m      2\u001B[0m \u001B[38;5;28mprint\u001B[39m(\u001B[38;5;124m\"\u001B[39m\u001B[38;5;124mP-valor entre AMB_PA_MECVV i SENSE_PA\u001B[39m\u001B[38;5;124m\"\u001B[39m, p_value_23)\n",
      "File \u001B[1;32m~\\PycharmProjects\\PRACTICUM\\venv\\Lib\\site-packages\\pandas\\core\\frame.py:4102\u001B[0m, in \u001B[0;36mDataFrame.__getitem__\u001B[1;34m(self, key)\u001B[0m\n\u001B[0;32m   4100\u001B[0m \u001B[38;5;28;01mif\u001B[39;00m \u001B[38;5;28mself\u001B[39m\u001B[38;5;241m.\u001B[39mcolumns\u001B[38;5;241m.\u001B[39mnlevels \u001B[38;5;241m>\u001B[39m \u001B[38;5;241m1\u001B[39m:\n\u001B[0;32m   4101\u001B[0m     \u001B[38;5;28;01mreturn\u001B[39;00m \u001B[38;5;28mself\u001B[39m\u001B[38;5;241m.\u001B[39m_getitem_multilevel(key)\n\u001B[1;32m-> 4102\u001B[0m indexer \u001B[38;5;241m=\u001B[39m \u001B[38;5;28;43mself\u001B[39;49m\u001B[38;5;241;43m.\u001B[39;49m\u001B[43mcolumns\u001B[49m\u001B[38;5;241;43m.\u001B[39;49m\u001B[43mget_loc\u001B[49m\u001B[43m(\u001B[49m\u001B[43mkey\u001B[49m\u001B[43m)\u001B[49m\n\u001B[0;32m   4103\u001B[0m \u001B[38;5;28;01mif\u001B[39;00m is_integer(indexer):\n\u001B[0;32m   4104\u001B[0m     indexer \u001B[38;5;241m=\u001B[39m [indexer]\n",
      "File \u001B[1;32m~\\PycharmProjects\\PRACTICUM\\venv\\Lib\\site-packages\\pandas\\core\\indexes\\base.py:3812\u001B[0m, in \u001B[0;36mIndex.get_loc\u001B[1;34m(self, key)\u001B[0m\n\u001B[0;32m   3807\u001B[0m     \u001B[38;5;28;01mif\u001B[39;00m \u001B[38;5;28misinstance\u001B[39m(casted_key, \u001B[38;5;28mslice\u001B[39m) \u001B[38;5;129;01mor\u001B[39;00m (\n\u001B[0;32m   3808\u001B[0m         \u001B[38;5;28misinstance\u001B[39m(casted_key, abc\u001B[38;5;241m.\u001B[39mIterable)\n\u001B[0;32m   3809\u001B[0m         \u001B[38;5;129;01mand\u001B[39;00m \u001B[38;5;28many\u001B[39m(\u001B[38;5;28misinstance\u001B[39m(x, \u001B[38;5;28mslice\u001B[39m) \u001B[38;5;28;01mfor\u001B[39;00m x \u001B[38;5;129;01min\u001B[39;00m casted_key)\n\u001B[0;32m   3810\u001B[0m     ):\n\u001B[0;32m   3811\u001B[0m         \u001B[38;5;28;01mraise\u001B[39;00m InvalidIndexError(key)\n\u001B[1;32m-> 3812\u001B[0m     \u001B[38;5;28;01mraise\u001B[39;00m \u001B[38;5;167;01mKeyError\u001B[39;00m(key) \u001B[38;5;28;01mfrom\u001B[39;00m \u001B[38;5;21;01merr\u001B[39;00m\n\u001B[0;32m   3813\u001B[0m \u001B[38;5;28;01mexcept\u001B[39;00m \u001B[38;5;167;01mTypeError\u001B[39;00m:\n\u001B[0;32m   3814\u001B[0m     \u001B[38;5;66;03m# If we have a listlike key, _check_indexing_error will raise\u001B[39;00m\n\u001B[0;32m   3815\u001B[0m     \u001B[38;5;66;03m#  InvalidIndexError. Otherwise we fall through and re-raise\u001B[39;00m\n\u001B[0;32m   3816\u001B[0m     \u001B[38;5;66;03m#  the TypeError.\u001B[39;00m\n\u001B[0;32m   3817\u001B[0m     \u001B[38;5;28mself\u001B[39m\u001B[38;5;241m.\u001B[39m_check_indexing_error(key)\n",
      "\u001B[1;31mKeyError\u001B[0m: 'neurodegenerativas'"
     ]
    }
   ],
   "execution_count": 212
  },
  {
   "metadata": {},
   "cell_type": "markdown",
   "source": [
    "## Diabetes mellitus"
   ],
   "id": "42b942e8587dc0c3"
  },
  {
   "metadata": {
    "ExecuteTime": {
     "end_time": "2024-05-03T10:15:39.251980Z",
     "start_time": "2024-05-03T10:15:39.248149Z"
    }
   },
   "cell_type": "code",
   "source": [
    "dm_AMB_PA= (AMB_PA['DM'] == 1.0).mean() * 100\n",
    "print(f\"Percentatge de diabetes mellitus: {dm_AMB_PA:.2f}%\")"
   ],
   "id": "698511ef1e3136bc",
   "outputs": [
    {
     "name": "stdout",
     "output_type": "stream",
     "text": [
      "Percentatge de diabetes mellitus: 23.53%\n"
     ]
    }
   ],
   "execution_count": 213
  },
  {
   "metadata": {
    "ExecuteTime": {
     "end_time": "2024-05-03T10:15:39.483896Z",
     "start_time": "2024-05-03T10:15:39.480032Z"
    }
   },
   "cell_type": "code",
   "source": [
    "dm_AMB_PA_MECVV= (AMB_PA_MECVV['DM'] == 1.0).mean() * 100\n",
    "print(f\"Percentatge de diabetes mellitus: {dm_AMB_PA_MECVV:.2f}%\")"
   ],
   "id": "80ed95bb2fa57c00",
   "outputs": [
    {
     "name": "stdout",
     "output_type": "stream",
     "text": [
      "Percentatge de diabetes mellitus: 25.00%\n"
     ]
    }
   ],
   "execution_count": 214
  },
  {
   "metadata": {
    "ExecuteTime": {
     "end_time": "2024-05-03T10:15:39.841701Z",
     "start_time": "2024-05-03T10:15:39.837973Z"
    }
   },
   "cell_type": "code",
   "source": [
    "dm_SENSE_PA= (SENSE_PA['DM'] == 1.0).mean() * 100\n",
    "print(f\"Percentatge de diabetes mellitus: {dm_SENSE_PA:.2f}%\")"
   ],
   "id": "2de37780f8d2b591",
   "outputs": [
    {
     "name": "stdout",
     "output_type": "stream",
     "text": [
      "Percentatge de diabetes mellitus: 25.00%\n"
     ]
    }
   ],
   "execution_count": 215
  },
  {
   "metadata": {},
   "cell_type": "markdown",
   "source": [
    "#### Pvalor "
   ],
   "id": "39c5da893c7deb9c"
  },
  {
   "metadata": {},
   "cell_type": "markdown",
   "source": [
    "##### Normalitat"
   ],
   "id": "ebee9ab25c7f5d27"
  },
  {
   "metadata": {
    "ExecuteTime": {
     "end_time": "2024-05-03T10:15:40.104945Z",
     "start_time": "2024-05-03T10:15:40.100702Z"
    }
   },
   "cell_type": "code",
   "source": [
    "stat, p_value = shapiro(AMB_PA['DM'])\n",
    "print(f\"Estadístic W = {stat:.4f}\")\n",
    "print(f\"Valor p = {p_value:.4f}\")\n",
    "\n",
    "alpha = 0.05\n",
    "if p_value < alpha:\n",
    "    print(\"El nombre de files no segueix una distribució normal.\")\n",
    "else:\n",
    "    print(\"El nombre de files segueix una distribució normal\")"
   ],
   "id": "873e8801ed67f9de",
   "outputs": [
    {
     "name": "stdout",
     "output_type": "stream",
     "text": [
      "Estadístic W = 0.5327\n",
      "Valor p = 0.0000\n",
      "El nombre de files no segueix una distribució normal.\n"
     ]
    }
   ],
   "execution_count": 216
  },
  {
   "metadata": {
    "ExecuteTime": {
     "end_time": "2024-05-03T10:15:40.472875Z",
     "start_time": "2024-05-03T10:15:40.468711Z"
    }
   },
   "cell_type": "code",
   "source": [
    "stat, p_value = shapiro(AMB_PA_MECVV['DM'])\n",
    "print(f\"Estadístic W = {stat:.4f}\")\n",
    "print(f\"Valor p = {p_value:.4f}\")\n",
    "\n",
    "alpha = 0.05\n",
    "if p_value < alpha:\n",
    "    print(\"El nombre de files no segueix una distribució normal.\")\n",
    "else:\n",
    "    print(\"El nombre de files segueix una distribució normal\")"
   ],
   "id": "45d49dc27d20b1a8",
   "outputs": [
    {
     "name": "stdout",
     "output_type": "stream",
     "text": [
      "Estadístic W = 0.5659\n",
      "Valor p = 0.0001\n",
      "El nombre de files no segueix una distribució normal.\n"
     ]
    }
   ],
   "execution_count": 217
  },
  {
   "metadata": {
    "ExecuteTime": {
     "end_time": "2024-05-03T10:15:40.782042Z",
     "start_time": "2024-05-03T10:15:40.777945Z"
    }
   },
   "cell_type": "code",
   "source": [
    "stat, p_value = shapiro(SENSE_PA['DM'])\n",
    "print(f\"Estadístic W = {stat:.4f}\")\n",
    "print(f\"Valor p = {p_value:.4f}\")\n",
    "\n",
    "alpha = 0.05\n",
    "if p_value < alpha:\n",
    "    print(\"El nombre de files no segueix una distribució normal.\")\n",
    "else:\n",
    "    print(\"El nombre de files segueix una distribució normal\")"
   ],
   "id": "7d5c39dae28b5115",
   "outputs": [
    {
     "name": "stdout",
     "output_type": "stream",
     "text": [
      "Estadístic W = 0.5659\n",
      "Valor p = 0.0001\n",
      "El nombre de files no segueix una distribució normal.\n"
     ]
    }
   ],
   "execution_count": 218
  },
  {
   "metadata": {
    "ExecuteTime": {
     "end_time": "2024-05-03T10:15:41.128941Z",
     "start_time": "2024-05-03T10:15:41.125114Z"
    }
   },
   "cell_type": "code",
   "source": [
    "stat, p_value_12 = mannwhitneyu(AMB_PA['DM'], AMB_PA_MECVV['DM'], alternative='two-sided')\n",
    "print(\"P-valor entre AMB_PA i AMB_PA_MECVV\", p_value_12)"
   ],
   "id": "b76e252fda353c31",
   "outputs": [
    {
     "name": "stdout",
     "output_type": "stream",
     "text": [
      "P-valor entre AMB_PA i AMB_PA_MECVV 0.9686157491081862\n"
     ]
    }
   ],
   "execution_count": 219
  },
  {
   "metadata": {
    "ExecuteTime": {
     "end_time": "2024-05-03T10:15:41.409290Z",
     "start_time": "2024-05-03T10:15:41.404612Z"
    }
   },
   "cell_type": "code",
   "source": [
    "stat, p_value_13 = mannwhitneyu(AMB_PA['DM'], SENSE_PA['DM'], alternative='two-sided')\n",
    "print(\"P-valor entre AMB_PA i SENSE_PAN\", p_value_13)"
   ],
   "id": "4cfaeae595eb594b",
   "outputs": [
    {
     "name": "stdout",
     "output_type": "stream",
     "text": [
      "P-valor entre AMB_PA i SENSE_PAN 0.9686157491081862\n"
     ]
    }
   ],
   "execution_count": 220
  },
  {
   "metadata": {
    "ExecuteTime": {
     "end_time": "2024-05-03T10:15:41.750397Z",
     "start_time": "2024-05-03T10:15:41.745977Z"
    }
   },
   "cell_type": "code",
   "source": [
    "stat, p_value_23 = mannwhitneyu(AMB_PA_MECVV['DM'], SENSE_PA['DM'], alternative='two-sided')\n",
    "print(\"P-valor entre AMB_PA_MECVV i SENSE_PAN\", p_value_23)"
   ],
   "id": "372c60185966ee23",
   "outputs": [
    {
     "name": "stdout",
     "output_type": "stream",
     "text": [
      "P-valor entre AMB_PA_MECVV i SENSE_PAN 1.0\n"
     ]
    }
   ],
   "execution_count": 221
  },
  {
   "metadata": {},
   "cell_type": "markdown",
   "source": [
    "## Hepatopaties"
   ],
   "id": "772c1f476c2f3d43"
  },
  {
   "metadata": {
    "ExecuteTime": {
     "end_time": "2024-05-03T10:15:42.061721Z",
     "start_time": "2024-05-03T10:15:42.025457Z"
    }
   },
   "cell_type": "code",
   "source": [
    "hp_AMB_PA= (AMB_PA['hepatopatias'] == 1.0).mean() * 100\n",
    "print(f\"Percentatge de hepatopaties: {hp_AMB_PA:.2f}%\")"
   ],
   "id": "5cfced98e5d59960",
   "outputs": [
    {
     "ename": "KeyError",
     "evalue": "'hepatopatias'",
     "output_type": "error",
     "traceback": [
      "\u001B[1;31m---------------------------------------------------------------------------\u001B[0m",
      "\u001B[1;31mKeyError\u001B[0m                                  Traceback (most recent call last)",
      "File \u001B[1;32m~\\PycharmProjects\\PRACTICUM\\venv\\Lib\\site-packages\\pandas\\core\\indexes\\base.py:3805\u001B[0m, in \u001B[0;36mIndex.get_loc\u001B[1;34m(self, key)\u001B[0m\n\u001B[0;32m   3804\u001B[0m \u001B[38;5;28;01mtry\u001B[39;00m:\n\u001B[1;32m-> 3805\u001B[0m     \u001B[38;5;28;01mreturn\u001B[39;00m \u001B[38;5;28;43mself\u001B[39;49m\u001B[38;5;241;43m.\u001B[39;49m\u001B[43m_engine\u001B[49m\u001B[38;5;241;43m.\u001B[39;49m\u001B[43mget_loc\u001B[49m\u001B[43m(\u001B[49m\u001B[43mcasted_key\u001B[49m\u001B[43m)\u001B[49m\n\u001B[0;32m   3806\u001B[0m \u001B[38;5;28;01mexcept\u001B[39;00m \u001B[38;5;167;01mKeyError\u001B[39;00m \u001B[38;5;28;01mas\u001B[39;00m err:\n",
      "File \u001B[1;32mindex.pyx:167\u001B[0m, in \u001B[0;36mpandas._libs.index.IndexEngine.get_loc\u001B[1;34m()\u001B[0m\n",
      "File \u001B[1;32mindex.pyx:196\u001B[0m, in \u001B[0;36mpandas._libs.index.IndexEngine.get_loc\u001B[1;34m()\u001B[0m\n",
      "File \u001B[1;32mpandas\\\\_libs\\\\hashtable_class_helper.pxi:7081\u001B[0m, in \u001B[0;36mpandas._libs.hashtable.PyObjectHashTable.get_item\u001B[1;34m()\u001B[0m\n",
      "File \u001B[1;32mpandas\\\\_libs\\\\hashtable_class_helper.pxi:7089\u001B[0m, in \u001B[0;36mpandas._libs.hashtable.PyObjectHashTable.get_item\u001B[1;34m()\u001B[0m\n",
      "\u001B[1;31mKeyError\u001B[0m: 'hepatopatias'",
      "\nThe above exception was the direct cause of the following exception:\n",
      "\u001B[1;31mKeyError\u001B[0m                                  Traceback (most recent call last)",
      "Cell \u001B[1;32mIn[222], line 1\u001B[0m\n\u001B[1;32m----> 1\u001B[0m hp_AMB_PA\u001B[38;5;241m=\u001B[39m (\u001B[43mAMB_PA\u001B[49m\u001B[43m[\u001B[49m\u001B[38;5;124;43m'\u001B[39;49m\u001B[38;5;124;43mhepatopatias\u001B[39;49m\u001B[38;5;124;43m'\u001B[39;49m\u001B[43m]\u001B[49m \u001B[38;5;241m==\u001B[39m \u001B[38;5;241m1.0\u001B[39m)\u001B[38;5;241m.\u001B[39mmean() \u001B[38;5;241m*\u001B[39m \u001B[38;5;241m100\u001B[39m\n\u001B[0;32m      2\u001B[0m \u001B[38;5;28mprint\u001B[39m(\u001B[38;5;124mf\u001B[39m\u001B[38;5;124m\"\u001B[39m\u001B[38;5;124mPercentatge de hepatopaties: \u001B[39m\u001B[38;5;132;01m{\u001B[39;00mhp_AMB_PA\u001B[38;5;132;01m:\u001B[39;00m\u001B[38;5;124m.2f\u001B[39m\u001B[38;5;132;01m}\u001B[39;00m\u001B[38;5;124m%\u001B[39m\u001B[38;5;124m\"\u001B[39m)\n",
      "File \u001B[1;32m~\\PycharmProjects\\PRACTICUM\\venv\\Lib\\site-packages\\pandas\\core\\frame.py:4102\u001B[0m, in \u001B[0;36mDataFrame.__getitem__\u001B[1;34m(self, key)\u001B[0m\n\u001B[0;32m   4100\u001B[0m \u001B[38;5;28;01mif\u001B[39;00m \u001B[38;5;28mself\u001B[39m\u001B[38;5;241m.\u001B[39mcolumns\u001B[38;5;241m.\u001B[39mnlevels \u001B[38;5;241m>\u001B[39m \u001B[38;5;241m1\u001B[39m:\n\u001B[0;32m   4101\u001B[0m     \u001B[38;5;28;01mreturn\u001B[39;00m \u001B[38;5;28mself\u001B[39m\u001B[38;5;241m.\u001B[39m_getitem_multilevel(key)\n\u001B[1;32m-> 4102\u001B[0m indexer \u001B[38;5;241m=\u001B[39m \u001B[38;5;28;43mself\u001B[39;49m\u001B[38;5;241;43m.\u001B[39;49m\u001B[43mcolumns\u001B[49m\u001B[38;5;241;43m.\u001B[39;49m\u001B[43mget_loc\u001B[49m\u001B[43m(\u001B[49m\u001B[43mkey\u001B[49m\u001B[43m)\u001B[49m\n\u001B[0;32m   4103\u001B[0m \u001B[38;5;28;01mif\u001B[39;00m is_integer(indexer):\n\u001B[0;32m   4104\u001B[0m     indexer \u001B[38;5;241m=\u001B[39m [indexer]\n",
      "File \u001B[1;32m~\\PycharmProjects\\PRACTICUM\\venv\\Lib\\site-packages\\pandas\\core\\indexes\\base.py:3812\u001B[0m, in \u001B[0;36mIndex.get_loc\u001B[1;34m(self, key)\u001B[0m\n\u001B[0;32m   3807\u001B[0m     \u001B[38;5;28;01mif\u001B[39;00m \u001B[38;5;28misinstance\u001B[39m(casted_key, \u001B[38;5;28mslice\u001B[39m) \u001B[38;5;129;01mor\u001B[39;00m (\n\u001B[0;32m   3808\u001B[0m         \u001B[38;5;28misinstance\u001B[39m(casted_key, abc\u001B[38;5;241m.\u001B[39mIterable)\n\u001B[0;32m   3809\u001B[0m         \u001B[38;5;129;01mand\u001B[39;00m \u001B[38;5;28many\u001B[39m(\u001B[38;5;28misinstance\u001B[39m(x, \u001B[38;5;28mslice\u001B[39m) \u001B[38;5;28;01mfor\u001B[39;00m x \u001B[38;5;129;01min\u001B[39;00m casted_key)\n\u001B[0;32m   3810\u001B[0m     ):\n\u001B[0;32m   3811\u001B[0m         \u001B[38;5;28;01mraise\u001B[39;00m InvalidIndexError(key)\n\u001B[1;32m-> 3812\u001B[0m     \u001B[38;5;28;01mraise\u001B[39;00m \u001B[38;5;167;01mKeyError\u001B[39;00m(key) \u001B[38;5;28;01mfrom\u001B[39;00m \u001B[38;5;21;01merr\u001B[39;00m\n\u001B[0;32m   3813\u001B[0m \u001B[38;5;28;01mexcept\u001B[39;00m \u001B[38;5;167;01mTypeError\u001B[39;00m:\n\u001B[0;32m   3814\u001B[0m     \u001B[38;5;66;03m# If we have a listlike key, _check_indexing_error will raise\u001B[39;00m\n\u001B[0;32m   3815\u001B[0m     \u001B[38;5;66;03m#  InvalidIndexError. Otherwise we fall through and re-raise\u001B[39;00m\n\u001B[0;32m   3816\u001B[0m     \u001B[38;5;66;03m#  the TypeError.\u001B[39;00m\n\u001B[0;32m   3817\u001B[0m     \u001B[38;5;28mself\u001B[39m\u001B[38;5;241m.\u001B[39m_check_indexing_error(key)\n",
      "\u001B[1;31mKeyError\u001B[0m: 'hepatopatias'"
     ]
    }
   ],
   "execution_count": 222
  },
  {
   "metadata": {
    "ExecuteTime": {
     "end_time": "2024-05-03T10:15:42.448820Z",
     "start_time": "2024-05-03T10:15:42.410806Z"
    }
   },
   "cell_type": "code",
   "source": [
    "hp_AMB_PA_MECVV= (AMB_PA_MECVV['hepatopatias'] == 1.0).mean() * 100\n",
    "print(f\"Percentatge de hepatopaties: {hp_AMB_PA_MECVV:.2f}%\")"
   ],
   "id": "ffeb2d3f7c6163ad",
   "outputs": [
    {
     "ename": "KeyError",
     "evalue": "'hepatopatias'",
     "output_type": "error",
     "traceback": [
      "\u001B[1;31m---------------------------------------------------------------------------\u001B[0m",
      "\u001B[1;31mKeyError\u001B[0m                                  Traceback (most recent call last)",
      "File \u001B[1;32m~\\PycharmProjects\\PRACTICUM\\venv\\Lib\\site-packages\\pandas\\core\\indexes\\base.py:3805\u001B[0m, in \u001B[0;36mIndex.get_loc\u001B[1;34m(self, key)\u001B[0m\n\u001B[0;32m   3804\u001B[0m \u001B[38;5;28;01mtry\u001B[39;00m:\n\u001B[1;32m-> 3805\u001B[0m     \u001B[38;5;28;01mreturn\u001B[39;00m \u001B[38;5;28;43mself\u001B[39;49m\u001B[38;5;241;43m.\u001B[39;49m\u001B[43m_engine\u001B[49m\u001B[38;5;241;43m.\u001B[39;49m\u001B[43mget_loc\u001B[49m\u001B[43m(\u001B[49m\u001B[43mcasted_key\u001B[49m\u001B[43m)\u001B[49m\n\u001B[0;32m   3806\u001B[0m \u001B[38;5;28;01mexcept\u001B[39;00m \u001B[38;5;167;01mKeyError\u001B[39;00m \u001B[38;5;28;01mas\u001B[39;00m err:\n",
      "File \u001B[1;32mindex.pyx:167\u001B[0m, in \u001B[0;36mpandas._libs.index.IndexEngine.get_loc\u001B[1;34m()\u001B[0m\n",
      "File \u001B[1;32mindex.pyx:196\u001B[0m, in \u001B[0;36mpandas._libs.index.IndexEngine.get_loc\u001B[1;34m()\u001B[0m\n",
      "File \u001B[1;32mpandas\\\\_libs\\\\hashtable_class_helper.pxi:7081\u001B[0m, in \u001B[0;36mpandas._libs.hashtable.PyObjectHashTable.get_item\u001B[1;34m()\u001B[0m\n",
      "File \u001B[1;32mpandas\\\\_libs\\\\hashtable_class_helper.pxi:7089\u001B[0m, in \u001B[0;36mpandas._libs.hashtable.PyObjectHashTable.get_item\u001B[1;34m()\u001B[0m\n",
      "\u001B[1;31mKeyError\u001B[0m: 'hepatopatias'",
      "\nThe above exception was the direct cause of the following exception:\n",
      "\u001B[1;31mKeyError\u001B[0m                                  Traceback (most recent call last)",
      "Cell \u001B[1;32mIn[223], line 1\u001B[0m\n\u001B[1;32m----> 1\u001B[0m hp_AMB_PA_MECVV\u001B[38;5;241m=\u001B[39m (\u001B[43mAMB_PA_MECVV\u001B[49m\u001B[43m[\u001B[49m\u001B[38;5;124;43m'\u001B[39;49m\u001B[38;5;124;43mhepatopatias\u001B[39;49m\u001B[38;5;124;43m'\u001B[39;49m\u001B[43m]\u001B[49m \u001B[38;5;241m==\u001B[39m \u001B[38;5;241m1.0\u001B[39m)\u001B[38;5;241m.\u001B[39mmean() \u001B[38;5;241m*\u001B[39m \u001B[38;5;241m100\u001B[39m\n\u001B[0;32m      2\u001B[0m \u001B[38;5;28mprint\u001B[39m(\u001B[38;5;124mf\u001B[39m\u001B[38;5;124m\"\u001B[39m\u001B[38;5;124mPercentatge de hepatopaties: \u001B[39m\u001B[38;5;132;01m{\u001B[39;00mhp_AMB_PA_MECVV\u001B[38;5;132;01m:\u001B[39;00m\u001B[38;5;124m.2f\u001B[39m\u001B[38;5;132;01m}\u001B[39;00m\u001B[38;5;124m%\u001B[39m\u001B[38;5;124m\"\u001B[39m)\n",
      "File \u001B[1;32m~\\PycharmProjects\\PRACTICUM\\venv\\Lib\\site-packages\\pandas\\core\\frame.py:4102\u001B[0m, in \u001B[0;36mDataFrame.__getitem__\u001B[1;34m(self, key)\u001B[0m\n\u001B[0;32m   4100\u001B[0m \u001B[38;5;28;01mif\u001B[39;00m \u001B[38;5;28mself\u001B[39m\u001B[38;5;241m.\u001B[39mcolumns\u001B[38;5;241m.\u001B[39mnlevels \u001B[38;5;241m>\u001B[39m \u001B[38;5;241m1\u001B[39m:\n\u001B[0;32m   4101\u001B[0m     \u001B[38;5;28;01mreturn\u001B[39;00m \u001B[38;5;28mself\u001B[39m\u001B[38;5;241m.\u001B[39m_getitem_multilevel(key)\n\u001B[1;32m-> 4102\u001B[0m indexer \u001B[38;5;241m=\u001B[39m \u001B[38;5;28;43mself\u001B[39;49m\u001B[38;5;241;43m.\u001B[39;49m\u001B[43mcolumns\u001B[49m\u001B[38;5;241;43m.\u001B[39;49m\u001B[43mget_loc\u001B[49m\u001B[43m(\u001B[49m\u001B[43mkey\u001B[49m\u001B[43m)\u001B[49m\n\u001B[0;32m   4103\u001B[0m \u001B[38;5;28;01mif\u001B[39;00m is_integer(indexer):\n\u001B[0;32m   4104\u001B[0m     indexer \u001B[38;5;241m=\u001B[39m [indexer]\n",
      "File \u001B[1;32m~\\PycharmProjects\\PRACTICUM\\venv\\Lib\\site-packages\\pandas\\core\\indexes\\base.py:3812\u001B[0m, in \u001B[0;36mIndex.get_loc\u001B[1;34m(self, key)\u001B[0m\n\u001B[0;32m   3807\u001B[0m     \u001B[38;5;28;01mif\u001B[39;00m \u001B[38;5;28misinstance\u001B[39m(casted_key, \u001B[38;5;28mslice\u001B[39m) \u001B[38;5;129;01mor\u001B[39;00m (\n\u001B[0;32m   3808\u001B[0m         \u001B[38;5;28misinstance\u001B[39m(casted_key, abc\u001B[38;5;241m.\u001B[39mIterable)\n\u001B[0;32m   3809\u001B[0m         \u001B[38;5;129;01mand\u001B[39;00m \u001B[38;5;28many\u001B[39m(\u001B[38;5;28misinstance\u001B[39m(x, \u001B[38;5;28mslice\u001B[39m) \u001B[38;5;28;01mfor\u001B[39;00m x \u001B[38;5;129;01min\u001B[39;00m casted_key)\n\u001B[0;32m   3810\u001B[0m     ):\n\u001B[0;32m   3811\u001B[0m         \u001B[38;5;28;01mraise\u001B[39;00m InvalidIndexError(key)\n\u001B[1;32m-> 3812\u001B[0m     \u001B[38;5;28;01mraise\u001B[39;00m \u001B[38;5;167;01mKeyError\u001B[39;00m(key) \u001B[38;5;28;01mfrom\u001B[39;00m \u001B[38;5;21;01merr\u001B[39;00m\n\u001B[0;32m   3813\u001B[0m \u001B[38;5;28;01mexcept\u001B[39;00m \u001B[38;5;167;01mTypeError\u001B[39;00m:\n\u001B[0;32m   3814\u001B[0m     \u001B[38;5;66;03m# If we have a listlike key, _check_indexing_error will raise\u001B[39;00m\n\u001B[0;32m   3815\u001B[0m     \u001B[38;5;66;03m#  InvalidIndexError. Otherwise we fall through and re-raise\u001B[39;00m\n\u001B[0;32m   3816\u001B[0m     \u001B[38;5;66;03m#  the TypeError.\u001B[39;00m\n\u001B[0;32m   3817\u001B[0m     \u001B[38;5;28mself\u001B[39m\u001B[38;5;241m.\u001B[39m_check_indexing_error(key)\n",
      "\u001B[1;31mKeyError\u001B[0m: 'hepatopatias'"
     ]
    }
   ],
   "execution_count": 223
  },
  {
   "metadata": {
    "ExecuteTime": {
     "end_time": "2024-05-03T10:15:42.706294Z",
     "start_time": "2024-05-03T10:15:42.669030Z"
    }
   },
   "cell_type": "code",
   "source": [
    "hp_SENSE_PA= (SENSE_PA['hepatopatias'] == 1.0).mean() * 100\n",
    "print(f\"Percentatge de hepatopaties: {hp_SENSE_PA:.2f}%\")"
   ],
   "id": "23ccf77254538573",
   "outputs": [
    {
     "ename": "KeyError",
     "evalue": "'hepatopatias'",
     "output_type": "error",
     "traceback": [
      "\u001B[1;31m---------------------------------------------------------------------------\u001B[0m",
      "\u001B[1;31mKeyError\u001B[0m                                  Traceback (most recent call last)",
      "File \u001B[1;32m~\\PycharmProjects\\PRACTICUM\\venv\\Lib\\site-packages\\pandas\\core\\indexes\\base.py:3805\u001B[0m, in \u001B[0;36mIndex.get_loc\u001B[1;34m(self, key)\u001B[0m\n\u001B[0;32m   3804\u001B[0m \u001B[38;5;28;01mtry\u001B[39;00m:\n\u001B[1;32m-> 3805\u001B[0m     \u001B[38;5;28;01mreturn\u001B[39;00m \u001B[38;5;28;43mself\u001B[39;49m\u001B[38;5;241;43m.\u001B[39;49m\u001B[43m_engine\u001B[49m\u001B[38;5;241;43m.\u001B[39;49m\u001B[43mget_loc\u001B[49m\u001B[43m(\u001B[49m\u001B[43mcasted_key\u001B[49m\u001B[43m)\u001B[49m\n\u001B[0;32m   3806\u001B[0m \u001B[38;5;28;01mexcept\u001B[39;00m \u001B[38;5;167;01mKeyError\u001B[39;00m \u001B[38;5;28;01mas\u001B[39;00m err:\n",
      "File \u001B[1;32mindex.pyx:167\u001B[0m, in \u001B[0;36mpandas._libs.index.IndexEngine.get_loc\u001B[1;34m()\u001B[0m\n",
      "File \u001B[1;32mindex.pyx:196\u001B[0m, in \u001B[0;36mpandas._libs.index.IndexEngine.get_loc\u001B[1;34m()\u001B[0m\n",
      "File \u001B[1;32mpandas\\\\_libs\\\\hashtable_class_helper.pxi:7081\u001B[0m, in \u001B[0;36mpandas._libs.hashtable.PyObjectHashTable.get_item\u001B[1;34m()\u001B[0m\n",
      "File \u001B[1;32mpandas\\\\_libs\\\\hashtable_class_helper.pxi:7089\u001B[0m, in \u001B[0;36mpandas._libs.hashtable.PyObjectHashTable.get_item\u001B[1;34m()\u001B[0m\n",
      "\u001B[1;31mKeyError\u001B[0m: 'hepatopatias'",
      "\nThe above exception was the direct cause of the following exception:\n",
      "\u001B[1;31mKeyError\u001B[0m                                  Traceback (most recent call last)",
      "Cell \u001B[1;32mIn[224], line 1\u001B[0m\n\u001B[1;32m----> 1\u001B[0m hp_SENSE_PA\u001B[38;5;241m=\u001B[39m (\u001B[43mSENSE_PA\u001B[49m\u001B[43m[\u001B[49m\u001B[38;5;124;43m'\u001B[39;49m\u001B[38;5;124;43mhepatopatias\u001B[39;49m\u001B[38;5;124;43m'\u001B[39;49m\u001B[43m]\u001B[49m \u001B[38;5;241m==\u001B[39m \u001B[38;5;241m1.0\u001B[39m)\u001B[38;5;241m.\u001B[39mmean() \u001B[38;5;241m*\u001B[39m \u001B[38;5;241m100\u001B[39m\n\u001B[0;32m      2\u001B[0m \u001B[38;5;28mprint\u001B[39m(\u001B[38;5;124mf\u001B[39m\u001B[38;5;124m\"\u001B[39m\u001B[38;5;124mPercentatge de hepatopaties: \u001B[39m\u001B[38;5;132;01m{\u001B[39;00mhp_SENSE_PA\u001B[38;5;132;01m:\u001B[39;00m\u001B[38;5;124m.2f\u001B[39m\u001B[38;5;132;01m}\u001B[39;00m\u001B[38;5;124m%\u001B[39m\u001B[38;5;124m\"\u001B[39m)\n",
      "File \u001B[1;32m~\\PycharmProjects\\PRACTICUM\\venv\\Lib\\site-packages\\pandas\\core\\frame.py:4102\u001B[0m, in \u001B[0;36mDataFrame.__getitem__\u001B[1;34m(self, key)\u001B[0m\n\u001B[0;32m   4100\u001B[0m \u001B[38;5;28;01mif\u001B[39;00m \u001B[38;5;28mself\u001B[39m\u001B[38;5;241m.\u001B[39mcolumns\u001B[38;5;241m.\u001B[39mnlevels \u001B[38;5;241m>\u001B[39m \u001B[38;5;241m1\u001B[39m:\n\u001B[0;32m   4101\u001B[0m     \u001B[38;5;28;01mreturn\u001B[39;00m \u001B[38;5;28mself\u001B[39m\u001B[38;5;241m.\u001B[39m_getitem_multilevel(key)\n\u001B[1;32m-> 4102\u001B[0m indexer \u001B[38;5;241m=\u001B[39m \u001B[38;5;28;43mself\u001B[39;49m\u001B[38;5;241;43m.\u001B[39;49m\u001B[43mcolumns\u001B[49m\u001B[38;5;241;43m.\u001B[39;49m\u001B[43mget_loc\u001B[49m\u001B[43m(\u001B[49m\u001B[43mkey\u001B[49m\u001B[43m)\u001B[49m\n\u001B[0;32m   4103\u001B[0m \u001B[38;5;28;01mif\u001B[39;00m is_integer(indexer):\n\u001B[0;32m   4104\u001B[0m     indexer \u001B[38;5;241m=\u001B[39m [indexer]\n",
      "File \u001B[1;32m~\\PycharmProjects\\PRACTICUM\\venv\\Lib\\site-packages\\pandas\\core\\indexes\\base.py:3812\u001B[0m, in \u001B[0;36mIndex.get_loc\u001B[1;34m(self, key)\u001B[0m\n\u001B[0;32m   3807\u001B[0m     \u001B[38;5;28;01mif\u001B[39;00m \u001B[38;5;28misinstance\u001B[39m(casted_key, \u001B[38;5;28mslice\u001B[39m) \u001B[38;5;129;01mor\u001B[39;00m (\n\u001B[0;32m   3808\u001B[0m         \u001B[38;5;28misinstance\u001B[39m(casted_key, abc\u001B[38;5;241m.\u001B[39mIterable)\n\u001B[0;32m   3809\u001B[0m         \u001B[38;5;129;01mand\u001B[39;00m \u001B[38;5;28many\u001B[39m(\u001B[38;5;28misinstance\u001B[39m(x, \u001B[38;5;28mslice\u001B[39m) \u001B[38;5;28;01mfor\u001B[39;00m x \u001B[38;5;129;01min\u001B[39;00m casted_key)\n\u001B[0;32m   3810\u001B[0m     ):\n\u001B[0;32m   3811\u001B[0m         \u001B[38;5;28;01mraise\u001B[39;00m InvalidIndexError(key)\n\u001B[1;32m-> 3812\u001B[0m     \u001B[38;5;28;01mraise\u001B[39;00m \u001B[38;5;167;01mKeyError\u001B[39;00m(key) \u001B[38;5;28;01mfrom\u001B[39;00m \u001B[38;5;21;01merr\u001B[39;00m\n\u001B[0;32m   3813\u001B[0m \u001B[38;5;28;01mexcept\u001B[39;00m \u001B[38;5;167;01mTypeError\u001B[39;00m:\n\u001B[0;32m   3814\u001B[0m     \u001B[38;5;66;03m# If we have a listlike key, _check_indexing_error will raise\u001B[39;00m\n\u001B[0;32m   3815\u001B[0m     \u001B[38;5;66;03m#  InvalidIndexError. Otherwise we fall through and re-raise\u001B[39;00m\n\u001B[0;32m   3816\u001B[0m     \u001B[38;5;66;03m#  the TypeError.\u001B[39;00m\n\u001B[0;32m   3817\u001B[0m     \u001B[38;5;28mself\u001B[39m\u001B[38;5;241m.\u001B[39m_check_indexing_error(key)\n",
      "\u001B[1;31mKeyError\u001B[0m: 'hepatopatias'"
     ]
    }
   ],
   "execution_count": 224
  },
  {
   "metadata": {},
   "cell_type": "markdown",
   "source": [
    "#### Pvalor"
   ],
   "id": "ee084e9b17270c10"
  },
  {
   "metadata": {},
   "cell_type": "markdown",
   "source": [
    "##### Normalitat"
   ],
   "id": "b932958d65d9e455"
  },
  {
   "metadata": {
    "ExecuteTime": {
     "end_time": "2024-05-03T10:15:43.107125Z",
     "start_time": "2024-05-03T10:15:43.070703Z"
    }
   },
   "cell_type": "code",
   "source": [
    "stat, p_value = shapiro(AMB_PA['hepatopatias'])\n",
    "print(f\"Estadístic W = {stat:.4f}\")\n",
    "print(f\"Valor p = {p_value:.4f}\")\n",
    "\n",
    "alpha = 0.05\n",
    "if p_value < alpha:\n",
    "    print(\"El nombre de files no segueix una distribució normal.\")\n",
    "else:\n",
    "    print(\"El nombre de files segueix una distribució normal\")"
   ],
   "id": "de51f01ce1362aab",
   "outputs": [
    {
     "ename": "KeyError",
     "evalue": "'hepatopatias'",
     "output_type": "error",
     "traceback": [
      "\u001B[1;31m---------------------------------------------------------------------------\u001B[0m",
      "\u001B[1;31mKeyError\u001B[0m                                  Traceback (most recent call last)",
      "File \u001B[1;32m~\\PycharmProjects\\PRACTICUM\\venv\\Lib\\site-packages\\pandas\\core\\indexes\\base.py:3805\u001B[0m, in \u001B[0;36mIndex.get_loc\u001B[1;34m(self, key)\u001B[0m\n\u001B[0;32m   3804\u001B[0m \u001B[38;5;28;01mtry\u001B[39;00m:\n\u001B[1;32m-> 3805\u001B[0m     \u001B[38;5;28;01mreturn\u001B[39;00m \u001B[38;5;28;43mself\u001B[39;49m\u001B[38;5;241;43m.\u001B[39;49m\u001B[43m_engine\u001B[49m\u001B[38;5;241;43m.\u001B[39;49m\u001B[43mget_loc\u001B[49m\u001B[43m(\u001B[49m\u001B[43mcasted_key\u001B[49m\u001B[43m)\u001B[49m\n\u001B[0;32m   3806\u001B[0m \u001B[38;5;28;01mexcept\u001B[39;00m \u001B[38;5;167;01mKeyError\u001B[39;00m \u001B[38;5;28;01mas\u001B[39;00m err:\n",
      "File \u001B[1;32mindex.pyx:167\u001B[0m, in \u001B[0;36mpandas._libs.index.IndexEngine.get_loc\u001B[1;34m()\u001B[0m\n",
      "File \u001B[1;32mindex.pyx:196\u001B[0m, in \u001B[0;36mpandas._libs.index.IndexEngine.get_loc\u001B[1;34m()\u001B[0m\n",
      "File \u001B[1;32mpandas\\\\_libs\\\\hashtable_class_helper.pxi:7081\u001B[0m, in \u001B[0;36mpandas._libs.hashtable.PyObjectHashTable.get_item\u001B[1;34m()\u001B[0m\n",
      "File \u001B[1;32mpandas\\\\_libs\\\\hashtable_class_helper.pxi:7089\u001B[0m, in \u001B[0;36mpandas._libs.hashtable.PyObjectHashTable.get_item\u001B[1;34m()\u001B[0m\n",
      "\u001B[1;31mKeyError\u001B[0m: 'hepatopatias'",
      "\nThe above exception was the direct cause of the following exception:\n",
      "\u001B[1;31mKeyError\u001B[0m                                  Traceback (most recent call last)",
      "Cell \u001B[1;32mIn[225], line 1\u001B[0m\n\u001B[1;32m----> 1\u001B[0m stat, p_value \u001B[38;5;241m=\u001B[39m shapiro(\u001B[43mAMB_PA\u001B[49m\u001B[43m[\u001B[49m\u001B[38;5;124;43m'\u001B[39;49m\u001B[38;5;124;43mhepatopatias\u001B[39;49m\u001B[38;5;124;43m'\u001B[39;49m\u001B[43m]\u001B[49m)\n\u001B[0;32m      2\u001B[0m \u001B[38;5;28mprint\u001B[39m(\u001B[38;5;124mf\u001B[39m\u001B[38;5;124m\"\u001B[39m\u001B[38;5;124mEstadístic W = \u001B[39m\u001B[38;5;132;01m{\u001B[39;00mstat\u001B[38;5;132;01m:\u001B[39;00m\u001B[38;5;124m.4f\u001B[39m\u001B[38;5;132;01m}\u001B[39;00m\u001B[38;5;124m\"\u001B[39m)\n\u001B[0;32m      3\u001B[0m \u001B[38;5;28mprint\u001B[39m(\u001B[38;5;124mf\u001B[39m\u001B[38;5;124m\"\u001B[39m\u001B[38;5;124mValor p = \u001B[39m\u001B[38;5;132;01m{\u001B[39;00mp_value\u001B[38;5;132;01m:\u001B[39;00m\u001B[38;5;124m.4f\u001B[39m\u001B[38;5;132;01m}\u001B[39;00m\u001B[38;5;124m\"\u001B[39m)\n",
      "File \u001B[1;32m~\\PycharmProjects\\PRACTICUM\\venv\\Lib\\site-packages\\pandas\\core\\frame.py:4102\u001B[0m, in \u001B[0;36mDataFrame.__getitem__\u001B[1;34m(self, key)\u001B[0m\n\u001B[0;32m   4100\u001B[0m \u001B[38;5;28;01mif\u001B[39;00m \u001B[38;5;28mself\u001B[39m\u001B[38;5;241m.\u001B[39mcolumns\u001B[38;5;241m.\u001B[39mnlevels \u001B[38;5;241m>\u001B[39m \u001B[38;5;241m1\u001B[39m:\n\u001B[0;32m   4101\u001B[0m     \u001B[38;5;28;01mreturn\u001B[39;00m \u001B[38;5;28mself\u001B[39m\u001B[38;5;241m.\u001B[39m_getitem_multilevel(key)\n\u001B[1;32m-> 4102\u001B[0m indexer \u001B[38;5;241m=\u001B[39m \u001B[38;5;28;43mself\u001B[39;49m\u001B[38;5;241;43m.\u001B[39;49m\u001B[43mcolumns\u001B[49m\u001B[38;5;241;43m.\u001B[39;49m\u001B[43mget_loc\u001B[49m\u001B[43m(\u001B[49m\u001B[43mkey\u001B[49m\u001B[43m)\u001B[49m\n\u001B[0;32m   4103\u001B[0m \u001B[38;5;28;01mif\u001B[39;00m is_integer(indexer):\n\u001B[0;32m   4104\u001B[0m     indexer \u001B[38;5;241m=\u001B[39m [indexer]\n",
      "File \u001B[1;32m~\\PycharmProjects\\PRACTICUM\\venv\\Lib\\site-packages\\pandas\\core\\indexes\\base.py:3812\u001B[0m, in \u001B[0;36mIndex.get_loc\u001B[1;34m(self, key)\u001B[0m\n\u001B[0;32m   3807\u001B[0m     \u001B[38;5;28;01mif\u001B[39;00m \u001B[38;5;28misinstance\u001B[39m(casted_key, \u001B[38;5;28mslice\u001B[39m) \u001B[38;5;129;01mor\u001B[39;00m (\n\u001B[0;32m   3808\u001B[0m         \u001B[38;5;28misinstance\u001B[39m(casted_key, abc\u001B[38;5;241m.\u001B[39mIterable)\n\u001B[0;32m   3809\u001B[0m         \u001B[38;5;129;01mand\u001B[39;00m \u001B[38;5;28many\u001B[39m(\u001B[38;5;28misinstance\u001B[39m(x, \u001B[38;5;28mslice\u001B[39m) \u001B[38;5;28;01mfor\u001B[39;00m x \u001B[38;5;129;01min\u001B[39;00m casted_key)\n\u001B[0;32m   3810\u001B[0m     ):\n\u001B[0;32m   3811\u001B[0m         \u001B[38;5;28;01mraise\u001B[39;00m InvalidIndexError(key)\n\u001B[1;32m-> 3812\u001B[0m     \u001B[38;5;28;01mraise\u001B[39;00m \u001B[38;5;167;01mKeyError\u001B[39;00m(key) \u001B[38;5;28;01mfrom\u001B[39;00m \u001B[38;5;21;01merr\u001B[39;00m\n\u001B[0;32m   3813\u001B[0m \u001B[38;5;28;01mexcept\u001B[39;00m \u001B[38;5;167;01mTypeError\u001B[39;00m:\n\u001B[0;32m   3814\u001B[0m     \u001B[38;5;66;03m# If we have a listlike key, _check_indexing_error will raise\u001B[39;00m\n\u001B[0;32m   3815\u001B[0m     \u001B[38;5;66;03m#  InvalidIndexError. Otherwise we fall through and re-raise\u001B[39;00m\n\u001B[0;32m   3816\u001B[0m     \u001B[38;5;66;03m#  the TypeError.\u001B[39;00m\n\u001B[0;32m   3817\u001B[0m     \u001B[38;5;28mself\u001B[39m\u001B[38;5;241m.\u001B[39m_check_indexing_error(key)\n",
      "\u001B[1;31mKeyError\u001B[0m: 'hepatopatias'"
     ]
    }
   ],
   "execution_count": 225
  },
  {
   "metadata": {
    "ExecuteTime": {
     "end_time": "2024-05-03T10:15:43.593826Z",
     "start_time": "2024-05-03T10:15:43.546461Z"
    }
   },
   "cell_type": "code",
   "source": [
    "stat, p_value = shapiro(AMB_PA_MECVV['hepatopatias'])\n",
    "print(f\"Estadístic W = {stat:.4f}\")\n",
    "print(f\"Valor p = {p_value:.4f}\")\n",
    "\n",
    "alpha = 0.05\n",
    "if p_value < alpha:\n",
    "    print(\"El nombre de files no segueix una distribució normal.\")\n",
    "else:\n",
    "    print(\"El nombre de files segueix una distribució normal\")"
   ],
   "id": "343a308a86ecb20b",
   "outputs": [
    {
     "ename": "KeyError",
     "evalue": "'hepatopatias'",
     "output_type": "error",
     "traceback": [
      "\u001B[1;31m---------------------------------------------------------------------------\u001B[0m",
      "\u001B[1;31mKeyError\u001B[0m                                  Traceback (most recent call last)",
      "File \u001B[1;32m~\\PycharmProjects\\PRACTICUM\\venv\\Lib\\site-packages\\pandas\\core\\indexes\\base.py:3805\u001B[0m, in \u001B[0;36mIndex.get_loc\u001B[1;34m(self, key)\u001B[0m\n\u001B[0;32m   3804\u001B[0m \u001B[38;5;28;01mtry\u001B[39;00m:\n\u001B[1;32m-> 3805\u001B[0m     \u001B[38;5;28;01mreturn\u001B[39;00m \u001B[38;5;28;43mself\u001B[39;49m\u001B[38;5;241;43m.\u001B[39;49m\u001B[43m_engine\u001B[49m\u001B[38;5;241;43m.\u001B[39;49m\u001B[43mget_loc\u001B[49m\u001B[43m(\u001B[49m\u001B[43mcasted_key\u001B[49m\u001B[43m)\u001B[49m\n\u001B[0;32m   3806\u001B[0m \u001B[38;5;28;01mexcept\u001B[39;00m \u001B[38;5;167;01mKeyError\u001B[39;00m \u001B[38;5;28;01mas\u001B[39;00m err:\n",
      "File \u001B[1;32mindex.pyx:167\u001B[0m, in \u001B[0;36mpandas._libs.index.IndexEngine.get_loc\u001B[1;34m()\u001B[0m\n",
      "File \u001B[1;32mindex.pyx:196\u001B[0m, in \u001B[0;36mpandas._libs.index.IndexEngine.get_loc\u001B[1;34m()\u001B[0m\n",
      "File \u001B[1;32mpandas\\\\_libs\\\\hashtable_class_helper.pxi:7081\u001B[0m, in \u001B[0;36mpandas._libs.hashtable.PyObjectHashTable.get_item\u001B[1;34m()\u001B[0m\n",
      "File \u001B[1;32mpandas\\\\_libs\\\\hashtable_class_helper.pxi:7089\u001B[0m, in \u001B[0;36mpandas._libs.hashtable.PyObjectHashTable.get_item\u001B[1;34m()\u001B[0m\n",
      "\u001B[1;31mKeyError\u001B[0m: 'hepatopatias'",
      "\nThe above exception was the direct cause of the following exception:\n",
      "\u001B[1;31mKeyError\u001B[0m                                  Traceback (most recent call last)",
      "Cell \u001B[1;32mIn[226], line 1\u001B[0m\n\u001B[1;32m----> 1\u001B[0m stat, p_value \u001B[38;5;241m=\u001B[39m shapiro(\u001B[43mAMB_PA_MECVV\u001B[49m\u001B[43m[\u001B[49m\u001B[38;5;124;43m'\u001B[39;49m\u001B[38;5;124;43mhepatopatias\u001B[39;49m\u001B[38;5;124;43m'\u001B[39;49m\u001B[43m]\u001B[49m)\n\u001B[0;32m      2\u001B[0m \u001B[38;5;28mprint\u001B[39m(\u001B[38;5;124mf\u001B[39m\u001B[38;5;124m\"\u001B[39m\u001B[38;5;124mEstadístic W = \u001B[39m\u001B[38;5;132;01m{\u001B[39;00mstat\u001B[38;5;132;01m:\u001B[39;00m\u001B[38;5;124m.4f\u001B[39m\u001B[38;5;132;01m}\u001B[39;00m\u001B[38;5;124m\"\u001B[39m)\n\u001B[0;32m      3\u001B[0m \u001B[38;5;28mprint\u001B[39m(\u001B[38;5;124mf\u001B[39m\u001B[38;5;124m\"\u001B[39m\u001B[38;5;124mValor p = \u001B[39m\u001B[38;5;132;01m{\u001B[39;00mp_value\u001B[38;5;132;01m:\u001B[39;00m\u001B[38;5;124m.4f\u001B[39m\u001B[38;5;132;01m}\u001B[39;00m\u001B[38;5;124m\"\u001B[39m)\n",
      "File \u001B[1;32m~\\PycharmProjects\\PRACTICUM\\venv\\Lib\\site-packages\\pandas\\core\\frame.py:4102\u001B[0m, in \u001B[0;36mDataFrame.__getitem__\u001B[1;34m(self, key)\u001B[0m\n\u001B[0;32m   4100\u001B[0m \u001B[38;5;28;01mif\u001B[39;00m \u001B[38;5;28mself\u001B[39m\u001B[38;5;241m.\u001B[39mcolumns\u001B[38;5;241m.\u001B[39mnlevels \u001B[38;5;241m>\u001B[39m \u001B[38;5;241m1\u001B[39m:\n\u001B[0;32m   4101\u001B[0m     \u001B[38;5;28;01mreturn\u001B[39;00m \u001B[38;5;28mself\u001B[39m\u001B[38;5;241m.\u001B[39m_getitem_multilevel(key)\n\u001B[1;32m-> 4102\u001B[0m indexer \u001B[38;5;241m=\u001B[39m \u001B[38;5;28;43mself\u001B[39;49m\u001B[38;5;241;43m.\u001B[39;49m\u001B[43mcolumns\u001B[49m\u001B[38;5;241;43m.\u001B[39;49m\u001B[43mget_loc\u001B[49m\u001B[43m(\u001B[49m\u001B[43mkey\u001B[49m\u001B[43m)\u001B[49m\n\u001B[0;32m   4103\u001B[0m \u001B[38;5;28;01mif\u001B[39;00m is_integer(indexer):\n\u001B[0;32m   4104\u001B[0m     indexer \u001B[38;5;241m=\u001B[39m [indexer]\n",
      "File \u001B[1;32m~\\PycharmProjects\\PRACTICUM\\venv\\Lib\\site-packages\\pandas\\core\\indexes\\base.py:3812\u001B[0m, in \u001B[0;36mIndex.get_loc\u001B[1;34m(self, key)\u001B[0m\n\u001B[0;32m   3807\u001B[0m     \u001B[38;5;28;01mif\u001B[39;00m \u001B[38;5;28misinstance\u001B[39m(casted_key, \u001B[38;5;28mslice\u001B[39m) \u001B[38;5;129;01mor\u001B[39;00m (\n\u001B[0;32m   3808\u001B[0m         \u001B[38;5;28misinstance\u001B[39m(casted_key, abc\u001B[38;5;241m.\u001B[39mIterable)\n\u001B[0;32m   3809\u001B[0m         \u001B[38;5;129;01mand\u001B[39;00m \u001B[38;5;28many\u001B[39m(\u001B[38;5;28misinstance\u001B[39m(x, \u001B[38;5;28mslice\u001B[39m) \u001B[38;5;28;01mfor\u001B[39;00m x \u001B[38;5;129;01min\u001B[39;00m casted_key)\n\u001B[0;32m   3810\u001B[0m     ):\n\u001B[0;32m   3811\u001B[0m         \u001B[38;5;28;01mraise\u001B[39;00m InvalidIndexError(key)\n\u001B[1;32m-> 3812\u001B[0m     \u001B[38;5;28;01mraise\u001B[39;00m \u001B[38;5;167;01mKeyError\u001B[39;00m(key) \u001B[38;5;28;01mfrom\u001B[39;00m \u001B[38;5;21;01merr\u001B[39;00m\n\u001B[0;32m   3813\u001B[0m \u001B[38;5;28;01mexcept\u001B[39;00m \u001B[38;5;167;01mTypeError\u001B[39;00m:\n\u001B[0;32m   3814\u001B[0m     \u001B[38;5;66;03m# If we have a listlike key, _check_indexing_error will raise\u001B[39;00m\n\u001B[0;32m   3815\u001B[0m     \u001B[38;5;66;03m#  InvalidIndexError. Otherwise we fall through and re-raise\u001B[39;00m\n\u001B[0;32m   3816\u001B[0m     \u001B[38;5;66;03m#  the TypeError.\u001B[39;00m\n\u001B[0;32m   3817\u001B[0m     \u001B[38;5;28mself\u001B[39m\u001B[38;5;241m.\u001B[39m_check_indexing_error(key)\n",
      "\u001B[1;31mKeyError\u001B[0m: 'hepatopatias'"
     ]
    }
   ],
   "execution_count": 226
  },
  {
   "metadata": {
    "ExecuteTime": {
     "end_time": "2024-05-03T10:15:43.847493Z",
     "start_time": "2024-05-03T10:15:43.809484Z"
    }
   },
   "cell_type": "code",
   "source": [
    "stat, p_value = shapiro(SENSE_PA['hepatopatias'])\n",
    "print(f\"Estadístic W = {stat:.4f}\")\n",
    "print(f\"Valor p = {p_value:.4f}\")\n",
    "\n",
    "alpha = 0.05\n",
    "if p_value < alpha:\n",
    "    print(\"El nombre de files no segueix una distribució normal.\")\n",
    "else:\n",
    "    print(\"El nombre de files segueix una distribució normal\")"
   ],
   "id": "94bfe6f6b1e080e3",
   "outputs": [
    {
     "ename": "KeyError",
     "evalue": "'hepatopatias'",
     "output_type": "error",
     "traceback": [
      "\u001B[1;31m---------------------------------------------------------------------------\u001B[0m",
      "\u001B[1;31mKeyError\u001B[0m                                  Traceback (most recent call last)",
      "File \u001B[1;32m~\\PycharmProjects\\PRACTICUM\\venv\\Lib\\site-packages\\pandas\\core\\indexes\\base.py:3805\u001B[0m, in \u001B[0;36mIndex.get_loc\u001B[1;34m(self, key)\u001B[0m\n\u001B[0;32m   3804\u001B[0m \u001B[38;5;28;01mtry\u001B[39;00m:\n\u001B[1;32m-> 3805\u001B[0m     \u001B[38;5;28;01mreturn\u001B[39;00m \u001B[38;5;28;43mself\u001B[39;49m\u001B[38;5;241;43m.\u001B[39;49m\u001B[43m_engine\u001B[49m\u001B[38;5;241;43m.\u001B[39;49m\u001B[43mget_loc\u001B[49m\u001B[43m(\u001B[49m\u001B[43mcasted_key\u001B[49m\u001B[43m)\u001B[49m\n\u001B[0;32m   3806\u001B[0m \u001B[38;5;28;01mexcept\u001B[39;00m \u001B[38;5;167;01mKeyError\u001B[39;00m \u001B[38;5;28;01mas\u001B[39;00m err:\n",
      "File \u001B[1;32mindex.pyx:167\u001B[0m, in \u001B[0;36mpandas._libs.index.IndexEngine.get_loc\u001B[1;34m()\u001B[0m\n",
      "File \u001B[1;32mindex.pyx:196\u001B[0m, in \u001B[0;36mpandas._libs.index.IndexEngine.get_loc\u001B[1;34m()\u001B[0m\n",
      "File \u001B[1;32mpandas\\\\_libs\\\\hashtable_class_helper.pxi:7081\u001B[0m, in \u001B[0;36mpandas._libs.hashtable.PyObjectHashTable.get_item\u001B[1;34m()\u001B[0m\n",
      "File \u001B[1;32mpandas\\\\_libs\\\\hashtable_class_helper.pxi:7089\u001B[0m, in \u001B[0;36mpandas._libs.hashtable.PyObjectHashTable.get_item\u001B[1;34m()\u001B[0m\n",
      "\u001B[1;31mKeyError\u001B[0m: 'hepatopatias'",
      "\nThe above exception was the direct cause of the following exception:\n",
      "\u001B[1;31mKeyError\u001B[0m                                  Traceback (most recent call last)",
      "Cell \u001B[1;32mIn[227], line 1\u001B[0m\n\u001B[1;32m----> 1\u001B[0m stat, p_value \u001B[38;5;241m=\u001B[39m shapiro(\u001B[43mSENSE_PA\u001B[49m\u001B[43m[\u001B[49m\u001B[38;5;124;43m'\u001B[39;49m\u001B[38;5;124;43mhepatopatias\u001B[39;49m\u001B[38;5;124;43m'\u001B[39;49m\u001B[43m]\u001B[49m)\n\u001B[0;32m      2\u001B[0m \u001B[38;5;28mprint\u001B[39m(\u001B[38;5;124mf\u001B[39m\u001B[38;5;124m\"\u001B[39m\u001B[38;5;124mEstadístic W = \u001B[39m\u001B[38;5;132;01m{\u001B[39;00mstat\u001B[38;5;132;01m:\u001B[39;00m\u001B[38;5;124m.4f\u001B[39m\u001B[38;5;132;01m}\u001B[39;00m\u001B[38;5;124m\"\u001B[39m)\n\u001B[0;32m      3\u001B[0m \u001B[38;5;28mprint\u001B[39m(\u001B[38;5;124mf\u001B[39m\u001B[38;5;124m\"\u001B[39m\u001B[38;5;124mValor p = \u001B[39m\u001B[38;5;132;01m{\u001B[39;00mp_value\u001B[38;5;132;01m:\u001B[39;00m\u001B[38;5;124m.4f\u001B[39m\u001B[38;5;132;01m}\u001B[39;00m\u001B[38;5;124m\"\u001B[39m)\n",
      "File \u001B[1;32m~\\PycharmProjects\\PRACTICUM\\venv\\Lib\\site-packages\\pandas\\core\\frame.py:4102\u001B[0m, in \u001B[0;36mDataFrame.__getitem__\u001B[1;34m(self, key)\u001B[0m\n\u001B[0;32m   4100\u001B[0m \u001B[38;5;28;01mif\u001B[39;00m \u001B[38;5;28mself\u001B[39m\u001B[38;5;241m.\u001B[39mcolumns\u001B[38;5;241m.\u001B[39mnlevels \u001B[38;5;241m>\u001B[39m \u001B[38;5;241m1\u001B[39m:\n\u001B[0;32m   4101\u001B[0m     \u001B[38;5;28;01mreturn\u001B[39;00m \u001B[38;5;28mself\u001B[39m\u001B[38;5;241m.\u001B[39m_getitem_multilevel(key)\n\u001B[1;32m-> 4102\u001B[0m indexer \u001B[38;5;241m=\u001B[39m \u001B[38;5;28;43mself\u001B[39;49m\u001B[38;5;241;43m.\u001B[39;49m\u001B[43mcolumns\u001B[49m\u001B[38;5;241;43m.\u001B[39;49m\u001B[43mget_loc\u001B[49m\u001B[43m(\u001B[49m\u001B[43mkey\u001B[49m\u001B[43m)\u001B[49m\n\u001B[0;32m   4103\u001B[0m \u001B[38;5;28;01mif\u001B[39;00m is_integer(indexer):\n\u001B[0;32m   4104\u001B[0m     indexer \u001B[38;5;241m=\u001B[39m [indexer]\n",
      "File \u001B[1;32m~\\PycharmProjects\\PRACTICUM\\venv\\Lib\\site-packages\\pandas\\core\\indexes\\base.py:3812\u001B[0m, in \u001B[0;36mIndex.get_loc\u001B[1;34m(self, key)\u001B[0m\n\u001B[0;32m   3807\u001B[0m     \u001B[38;5;28;01mif\u001B[39;00m \u001B[38;5;28misinstance\u001B[39m(casted_key, \u001B[38;5;28mslice\u001B[39m) \u001B[38;5;129;01mor\u001B[39;00m (\n\u001B[0;32m   3808\u001B[0m         \u001B[38;5;28misinstance\u001B[39m(casted_key, abc\u001B[38;5;241m.\u001B[39mIterable)\n\u001B[0;32m   3809\u001B[0m         \u001B[38;5;129;01mand\u001B[39;00m \u001B[38;5;28many\u001B[39m(\u001B[38;5;28misinstance\u001B[39m(x, \u001B[38;5;28mslice\u001B[39m) \u001B[38;5;28;01mfor\u001B[39;00m x \u001B[38;5;129;01min\u001B[39;00m casted_key)\n\u001B[0;32m   3810\u001B[0m     ):\n\u001B[0;32m   3811\u001B[0m         \u001B[38;5;28;01mraise\u001B[39;00m InvalidIndexError(key)\n\u001B[1;32m-> 3812\u001B[0m     \u001B[38;5;28;01mraise\u001B[39;00m \u001B[38;5;167;01mKeyError\u001B[39;00m(key) \u001B[38;5;28;01mfrom\u001B[39;00m \u001B[38;5;21;01merr\u001B[39;00m\n\u001B[0;32m   3813\u001B[0m \u001B[38;5;28;01mexcept\u001B[39;00m \u001B[38;5;167;01mTypeError\u001B[39;00m:\n\u001B[0;32m   3814\u001B[0m     \u001B[38;5;66;03m# If we have a listlike key, _check_indexing_error will raise\u001B[39;00m\n\u001B[0;32m   3815\u001B[0m     \u001B[38;5;66;03m#  InvalidIndexError. Otherwise we fall through and re-raise\u001B[39;00m\n\u001B[0;32m   3816\u001B[0m     \u001B[38;5;66;03m#  the TypeError.\u001B[39;00m\n\u001B[0;32m   3817\u001B[0m     \u001B[38;5;28mself\u001B[39m\u001B[38;5;241m.\u001B[39m_check_indexing_error(key)\n",
      "\u001B[1;31mKeyError\u001B[0m: 'hepatopatias'"
     ]
    }
   ],
   "execution_count": 227
  },
  {
   "metadata": {
    "ExecuteTime": {
     "end_time": "2024-05-03T10:15:44.186084Z",
     "start_time": "2024-05-03T10:15:44.149382Z"
    }
   },
   "cell_type": "code",
   "source": [
    "stat, p_value_12 = mannwhitneyu(AMB_PA['hepatopatias'], AMB_PA_MECVV['hepatopatias'], alternative='two-sided')\n",
    "print(\"P-valor entre AMB_PA i AMB_PA_MECVV\", p_value_12)"
   ],
   "id": "f1d399767dab3eeb",
   "outputs": [
    {
     "ename": "KeyError",
     "evalue": "'hepatopatias'",
     "output_type": "error",
     "traceback": [
      "\u001B[1;31m---------------------------------------------------------------------------\u001B[0m",
      "\u001B[1;31mKeyError\u001B[0m                                  Traceback (most recent call last)",
      "File \u001B[1;32m~\\PycharmProjects\\PRACTICUM\\venv\\Lib\\site-packages\\pandas\\core\\indexes\\base.py:3805\u001B[0m, in \u001B[0;36mIndex.get_loc\u001B[1;34m(self, key)\u001B[0m\n\u001B[0;32m   3804\u001B[0m \u001B[38;5;28;01mtry\u001B[39;00m:\n\u001B[1;32m-> 3805\u001B[0m     \u001B[38;5;28;01mreturn\u001B[39;00m \u001B[38;5;28;43mself\u001B[39;49m\u001B[38;5;241;43m.\u001B[39;49m\u001B[43m_engine\u001B[49m\u001B[38;5;241;43m.\u001B[39;49m\u001B[43mget_loc\u001B[49m\u001B[43m(\u001B[49m\u001B[43mcasted_key\u001B[49m\u001B[43m)\u001B[49m\n\u001B[0;32m   3806\u001B[0m \u001B[38;5;28;01mexcept\u001B[39;00m \u001B[38;5;167;01mKeyError\u001B[39;00m \u001B[38;5;28;01mas\u001B[39;00m err:\n",
      "File \u001B[1;32mindex.pyx:167\u001B[0m, in \u001B[0;36mpandas._libs.index.IndexEngine.get_loc\u001B[1;34m()\u001B[0m\n",
      "File \u001B[1;32mindex.pyx:196\u001B[0m, in \u001B[0;36mpandas._libs.index.IndexEngine.get_loc\u001B[1;34m()\u001B[0m\n",
      "File \u001B[1;32mpandas\\\\_libs\\\\hashtable_class_helper.pxi:7081\u001B[0m, in \u001B[0;36mpandas._libs.hashtable.PyObjectHashTable.get_item\u001B[1;34m()\u001B[0m\n",
      "File \u001B[1;32mpandas\\\\_libs\\\\hashtable_class_helper.pxi:7089\u001B[0m, in \u001B[0;36mpandas._libs.hashtable.PyObjectHashTable.get_item\u001B[1;34m()\u001B[0m\n",
      "\u001B[1;31mKeyError\u001B[0m: 'hepatopatias'",
      "\nThe above exception was the direct cause of the following exception:\n",
      "\u001B[1;31mKeyError\u001B[0m                                  Traceback (most recent call last)",
      "Cell \u001B[1;32mIn[228], line 1\u001B[0m\n\u001B[1;32m----> 1\u001B[0m stat, p_value_12 \u001B[38;5;241m=\u001B[39m mannwhitneyu(\u001B[43mAMB_PA\u001B[49m\u001B[43m[\u001B[49m\u001B[38;5;124;43m'\u001B[39;49m\u001B[38;5;124;43mhepatopatias\u001B[39;49m\u001B[38;5;124;43m'\u001B[39;49m\u001B[43m]\u001B[49m, AMB_PA_MECVV[\u001B[38;5;124m'\u001B[39m\u001B[38;5;124mhepatopatias\u001B[39m\u001B[38;5;124m'\u001B[39m], alternative\u001B[38;5;241m=\u001B[39m\u001B[38;5;124m'\u001B[39m\u001B[38;5;124mtwo-sided\u001B[39m\u001B[38;5;124m'\u001B[39m)\n\u001B[0;32m      2\u001B[0m \u001B[38;5;28mprint\u001B[39m(\u001B[38;5;124m\"\u001B[39m\u001B[38;5;124mP-valor entre AMB_PA i AMB_PA_MECVV\u001B[39m\u001B[38;5;124m\"\u001B[39m, p_value_12)\n",
      "File \u001B[1;32m~\\PycharmProjects\\PRACTICUM\\venv\\Lib\\site-packages\\pandas\\core\\frame.py:4102\u001B[0m, in \u001B[0;36mDataFrame.__getitem__\u001B[1;34m(self, key)\u001B[0m\n\u001B[0;32m   4100\u001B[0m \u001B[38;5;28;01mif\u001B[39;00m \u001B[38;5;28mself\u001B[39m\u001B[38;5;241m.\u001B[39mcolumns\u001B[38;5;241m.\u001B[39mnlevels \u001B[38;5;241m>\u001B[39m \u001B[38;5;241m1\u001B[39m:\n\u001B[0;32m   4101\u001B[0m     \u001B[38;5;28;01mreturn\u001B[39;00m \u001B[38;5;28mself\u001B[39m\u001B[38;5;241m.\u001B[39m_getitem_multilevel(key)\n\u001B[1;32m-> 4102\u001B[0m indexer \u001B[38;5;241m=\u001B[39m \u001B[38;5;28;43mself\u001B[39;49m\u001B[38;5;241;43m.\u001B[39;49m\u001B[43mcolumns\u001B[49m\u001B[38;5;241;43m.\u001B[39;49m\u001B[43mget_loc\u001B[49m\u001B[43m(\u001B[49m\u001B[43mkey\u001B[49m\u001B[43m)\u001B[49m\n\u001B[0;32m   4103\u001B[0m \u001B[38;5;28;01mif\u001B[39;00m is_integer(indexer):\n\u001B[0;32m   4104\u001B[0m     indexer \u001B[38;5;241m=\u001B[39m [indexer]\n",
      "File \u001B[1;32m~\\PycharmProjects\\PRACTICUM\\venv\\Lib\\site-packages\\pandas\\core\\indexes\\base.py:3812\u001B[0m, in \u001B[0;36mIndex.get_loc\u001B[1;34m(self, key)\u001B[0m\n\u001B[0;32m   3807\u001B[0m     \u001B[38;5;28;01mif\u001B[39;00m \u001B[38;5;28misinstance\u001B[39m(casted_key, \u001B[38;5;28mslice\u001B[39m) \u001B[38;5;129;01mor\u001B[39;00m (\n\u001B[0;32m   3808\u001B[0m         \u001B[38;5;28misinstance\u001B[39m(casted_key, abc\u001B[38;5;241m.\u001B[39mIterable)\n\u001B[0;32m   3809\u001B[0m         \u001B[38;5;129;01mand\u001B[39;00m \u001B[38;5;28many\u001B[39m(\u001B[38;5;28misinstance\u001B[39m(x, \u001B[38;5;28mslice\u001B[39m) \u001B[38;5;28;01mfor\u001B[39;00m x \u001B[38;5;129;01min\u001B[39;00m casted_key)\n\u001B[0;32m   3810\u001B[0m     ):\n\u001B[0;32m   3811\u001B[0m         \u001B[38;5;28;01mraise\u001B[39;00m InvalidIndexError(key)\n\u001B[1;32m-> 3812\u001B[0m     \u001B[38;5;28;01mraise\u001B[39;00m \u001B[38;5;167;01mKeyError\u001B[39;00m(key) \u001B[38;5;28;01mfrom\u001B[39;00m \u001B[38;5;21;01merr\u001B[39;00m\n\u001B[0;32m   3813\u001B[0m \u001B[38;5;28;01mexcept\u001B[39;00m \u001B[38;5;167;01mTypeError\u001B[39;00m:\n\u001B[0;32m   3814\u001B[0m     \u001B[38;5;66;03m# If we have a listlike key, _check_indexing_error will raise\u001B[39;00m\n\u001B[0;32m   3815\u001B[0m     \u001B[38;5;66;03m#  InvalidIndexError. Otherwise we fall through and re-raise\u001B[39;00m\n\u001B[0;32m   3816\u001B[0m     \u001B[38;5;66;03m#  the TypeError.\u001B[39;00m\n\u001B[0;32m   3817\u001B[0m     \u001B[38;5;28mself\u001B[39m\u001B[38;5;241m.\u001B[39m_check_indexing_error(key)\n",
      "\u001B[1;31mKeyError\u001B[0m: 'hepatopatias'"
     ]
    }
   ],
   "execution_count": 228
  },
  {
   "metadata": {
    "ExecuteTime": {
     "end_time": "2024-05-03T10:15:44.573684Z",
     "start_time": "2024-05-03T10:15:44.534941Z"
    }
   },
   "cell_type": "code",
   "source": [
    "stat, p_value_13 = mannwhitneyu(AMB_PA['hepatopatias'], SENSE_PA['hepatopatias'], alternative='two-sided')\n",
    "print(\"P-valor entre AMB_PA i SENSE_PA\", p_value_13)"
   ],
   "id": "e5ae22e928d63a0f",
   "outputs": [
    {
     "ename": "KeyError",
     "evalue": "'hepatopatias'",
     "output_type": "error",
     "traceback": [
      "\u001B[1;31m---------------------------------------------------------------------------\u001B[0m",
      "\u001B[1;31mKeyError\u001B[0m                                  Traceback (most recent call last)",
      "File \u001B[1;32m~\\PycharmProjects\\PRACTICUM\\venv\\Lib\\site-packages\\pandas\\core\\indexes\\base.py:3805\u001B[0m, in \u001B[0;36mIndex.get_loc\u001B[1;34m(self, key)\u001B[0m\n\u001B[0;32m   3804\u001B[0m \u001B[38;5;28;01mtry\u001B[39;00m:\n\u001B[1;32m-> 3805\u001B[0m     \u001B[38;5;28;01mreturn\u001B[39;00m \u001B[38;5;28;43mself\u001B[39;49m\u001B[38;5;241;43m.\u001B[39;49m\u001B[43m_engine\u001B[49m\u001B[38;5;241;43m.\u001B[39;49m\u001B[43mget_loc\u001B[49m\u001B[43m(\u001B[49m\u001B[43mcasted_key\u001B[49m\u001B[43m)\u001B[49m\n\u001B[0;32m   3806\u001B[0m \u001B[38;5;28;01mexcept\u001B[39;00m \u001B[38;5;167;01mKeyError\u001B[39;00m \u001B[38;5;28;01mas\u001B[39;00m err:\n",
      "File \u001B[1;32mindex.pyx:167\u001B[0m, in \u001B[0;36mpandas._libs.index.IndexEngine.get_loc\u001B[1;34m()\u001B[0m\n",
      "File \u001B[1;32mindex.pyx:196\u001B[0m, in \u001B[0;36mpandas._libs.index.IndexEngine.get_loc\u001B[1;34m()\u001B[0m\n",
      "File \u001B[1;32mpandas\\\\_libs\\\\hashtable_class_helper.pxi:7081\u001B[0m, in \u001B[0;36mpandas._libs.hashtable.PyObjectHashTable.get_item\u001B[1;34m()\u001B[0m\n",
      "File \u001B[1;32mpandas\\\\_libs\\\\hashtable_class_helper.pxi:7089\u001B[0m, in \u001B[0;36mpandas._libs.hashtable.PyObjectHashTable.get_item\u001B[1;34m()\u001B[0m\n",
      "\u001B[1;31mKeyError\u001B[0m: 'hepatopatias'",
      "\nThe above exception was the direct cause of the following exception:\n",
      "\u001B[1;31mKeyError\u001B[0m                                  Traceback (most recent call last)",
      "Cell \u001B[1;32mIn[229], line 1\u001B[0m\n\u001B[1;32m----> 1\u001B[0m stat, p_value_13 \u001B[38;5;241m=\u001B[39m mannwhitneyu(\u001B[43mAMB_PA\u001B[49m\u001B[43m[\u001B[49m\u001B[38;5;124;43m'\u001B[39;49m\u001B[38;5;124;43mhepatopatias\u001B[39;49m\u001B[38;5;124;43m'\u001B[39;49m\u001B[43m]\u001B[49m, SENSE_PA[\u001B[38;5;124m'\u001B[39m\u001B[38;5;124mhepatopatias\u001B[39m\u001B[38;5;124m'\u001B[39m], alternative\u001B[38;5;241m=\u001B[39m\u001B[38;5;124m'\u001B[39m\u001B[38;5;124mtwo-sided\u001B[39m\u001B[38;5;124m'\u001B[39m)\n\u001B[0;32m      2\u001B[0m \u001B[38;5;28mprint\u001B[39m(\u001B[38;5;124m\"\u001B[39m\u001B[38;5;124mP-valor entre AMB_PA i SENSE_PA\u001B[39m\u001B[38;5;124m\"\u001B[39m, p_value_13)\n",
      "File \u001B[1;32m~\\PycharmProjects\\PRACTICUM\\venv\\Lib\\site-packages\\pandas\\core\\frame.py:4102\u001B[0m, in \u001B[0;36mDataFrame.__getitem__\u001B[1;34m(self, key)\u001B[0m\n\u001B[0;32m   4100\u001B[0m \u001B[38;5;28;01mif\u001B[39;00m \u001B[38;5;28mself\u001B[39m\u001B[38;5;241m.\u001B[39mcolumns\u001B[38;5;241m.\u001B[39mnlevels \u001B[38;5;241m>\u001B[39m \u001B[38;5;241m1\u001B[39m:\n\u001B[0;32m   4101\u001B[0m     \u001B[38;5;28;01mreturn\u001B[39;00m \u001B[38;5;28mself\u001B[39m\u001B[38;5;241m.\u001B[39m_getitem_multilevel(key)\n\u001B[1;32m-> 4102\u001B[0m indexer \u001B[38;5;241m=\u001B[39m \u001B[38;5;28;43mself\u001B[39;49m\u001B[38;5;241;43m.\u001B[39;49m\u001B[43mcolumns\u001B[49m\u001B[38;5;241;43m.\u001B[39;49m\u001B[43mget_loc\u001B[49m\u001B[43m(\u001B[49m\u001B[43mkey\u001B[49m\u001B[43m)\u001B[49m\n\u001B[0;32m   4103\u001B[0m \u001B[38;5;28;01mif\u001B[39;00m is_integer(indexer):\n\u001B[0;32m   4104\u001B[0m     indexer \u001B[38;5;241m=\u001B[39m [indexer]\n",
      "File \u001B[1;32m~\\PycharmProjects\\PRACTICUM\\venv\\Lib\\site-packages\\pandas\\core\\indexes\\base.py:3812\u001B[0m, in \u001B[0;36mIndex.get_loc\u001B[1;34m(self, key)\u001B[0m\n\u001B[0;32m   3807\u001B[0m     \u001B[38;5;28;01mif\u001B[39;00m \u001B[38;5;28misinstance\u001B[39m(casted_key, \u001B[38;5;28mslice\u001B[39m) \u001B[38;5;129;01mor\u001B[39;00m (\n\u001B[0;32m   3808\u001B[0m         \u001B[38;5;28misinstance\u001B[39m(casted_key, abc\u001B[38;5;241m.\u001B[39mIterable)\n\u001B[0;32m   3809\u001B[0m         \u001B[38;5;129;01mand\u001B[39;00m \u001B[38;5;28many\u001B[39m(\u001B[38;5;28misinstance\u001B[39m(x, \u001B[38;5;28mslice\u001B[39m) \u001B[38;5;28;01mfor\u001B[39;00m x \u001B[38;5;129;01min\u001B[39;00m casted_key)\n\u001B[0;32m   3810\u001B[0m     ):\n\u001B[0;32m   3811\u001B[0m         \u001B[38;5;28;01mraise\u001B[39;00m InvalidIndexError(key)\n\u001B[1;32m-> 3812\u001B[0m     \u001B[38;5;28;01mraise\u001B[39;00m \u001B[38;5;167;01mKeyError\u001B[39;00m(key) \u001B[38;5;28;01mfrom\u001B[39;00m \u001B[38;5;21;01merr\u001B[39;00m\n\u001B[0;32m   3813\u001B[0m \u001B[38;5;28;01mexcept\u001B[39;00m \u001B[38;5;167;01mTypeError\u001B[39;00m:\n\u001B[0;32m   3814\u001B[0m     \u001B[38;5;66;03m# If we have a listlike key, _check_indexing_error will raise\u001B[39;00m\n\u001B[0;32m   3815\u001B[0m     \u001B[38;5;66;03m#  InvalidIndexError. Otherwise we fall through and re-raise\u001B[39;00m\n\u001B[0;32m   3816\u001B[0m     \u001B[38;5;66;03m#  the TypeError.\u001B[39;00m\n\u001B[0;32m   3817\u001B[0m     \u001B[38;5;28mself\u001B[39m\u001B[38;5;241m.\u001B[39m_check_indexing_error(key)\n",
      "\u001B[1;31mKeyError\u001B[0m: 'hepatopatias'"
     ]
    }
   ],
   "execution_count": 229
  },
  {
   "metadata": {
    "ExecuteTime": {
     "end_time": "2024-05-03T10:15:44.780233Z",
     "start_time": "2024-05-03T10:15:44.737717Z"
    }
   },
   "cell_type": "code",
   "source": [
    "stat, p_value_23 = mannwhitneyu(AMB_PA_MECVV['hepatopatias'], SENSE_PA['hepatopatias'], alternative='two-sided')\n",
    "print(\"P-valor entre AMB_PA_MECVV i SENSE_PA\", p_value_23)"
   ],
   "id": "c8e4bb6c92eae392",
   "outputs": [
    {
     "ename": "KeyError",
     "evalue": "'hepatopatias'",
     "output_type": "error",
     "traceback": [
      "\u001B[1;31m---------------------------------------------------------------------------\u001B[0m",
      "\u001B[1;31mKeyError\u001B[0m                                  Traceback (most recent call last)",
      "File \u001B[1;32m~\\PycharmProjects\\PRACTICUM\\venv\\Lib\\site-packages\\pandas\\core\\indexes\\base.py:3805\u001B[0m, in \u001B[0;36mIndex.get_loc\u001B[1;34m(self, key)\u001B[0m\n\u001B[0;32m   3804\u001B[0m \u001B[38;5;28;01mtry\u001B[39;00m:\n\u001B[1;32m-> 3805\u001B[0m     \u001B[38;5;28;01mreturn\u001B[39;00m \u001B[38;5;28;43mself\u001B[39;49m\u001B[38;5;241;43m.\u001B[39;49m\u001B[43m_engine\u001B[49m\u001B[38;5;241;43m.\u001B[39;49m\u001B[43mget_loc\u001B[49m\u001B[43m(\u001B[49m\u001B[43mcasted_key\u001B[49m\u001B[43m)\u001B[49m\n\u001B[0;32m   3806\u001B[0m \u001B[38;5;28;01mexcept\u001B[39;00m \u001B[38;5;167;01mKeyError\u001B[39;00m \u001B[38;5;28;01mas\u001B[39;00m err:\n",
      "File \u001B[1;32mindex.pyx:167\u001B[0m, in \u001B[0;36mpandas._libs.index.IndexEngine.get_loc\u001B[1;34m()\u001B[0m\n",
      "File \u001B[1;32mindex.pyx:196\u001B[0m, in \u001B[0;36mpandas._libs.index.IndexEngine.get_loc\u001B[1;34m()\u001B[0m\n",
      "File \u001B[1;32mpandas\\\\_libs\\\\hashtable_class_helper.pxi:7081\u001B[0m, in \u001B[0;36mpandas._libs.hashtable.PyObjectHashTable.get_item\u001B[1;34m()\u001B[0m\n",
      "File \u001B[1;32mpandas\\\\_libs\\\\hashtable_class_helper.pxi:7089\u001B[0m, in \u001B[0;36mpandas._libs.hashtable.PyObjectHashTable.get_item\u001B[1;34m()\u001B[0m\n",
      "\u001B[1;31mKeyError\u001B[0m: 'hepatopatias'",
      "\nThe above exception was the direct cause of the following exception:\n",
      "\u001B[1;31mKeyError\u001B[0m                                  Traceback (most recent call last)",
      "Cell \u001B[1;32mIn[230], line 1\u001B[0m\n\u001B[1;32m----> 1\u001B[0m stat, p_value_23 \u001B[38;5;241m=\u001B[39m mannwhitneyu(\u001B[43mAMB_PA_MECVV\u001B[49m\u001B[43m[\u001B[49m\u001B[38;5;124;43m'\u001B[39;49m\u001B[38;5;124;43mhepatopatias\u001B[39;49m\u001B[38;5;124;43m'\u001B[39;49m\u001B[43m]\u001B[49m, SENSE_PA[\u001B[38;5;124m'\u001B[39m\u001B[38;5;124mhepatopatias\u001B[39m\u001B[38;5;124m'\u001B[39m], alternative\u001B[38;5;241m=\u001B[39m\u001B[38;5;124m'\u001B[39m\u001B[38;5;124mtwo-sided\u001B[39m\u001B[38;5;124m'\u001B[39m)\n\u001B[0;32m      2\u001B[0m \u001B[38;5;28mprint\u001B[39m(\u001B[38;5;124m\"\u001B[39m\u001B[38;5;124mP-valor entre AMB_PA_MECVV i SENSE_PA\u001B[39m\u001B[38;5;124m\"\u001B[39m, p_value_23)\n",
      "File \u001B[1;32m~\\PycharmProjects\\PRACTICUM\\venv\\Lib\\site-packages\\pandas\\core\\frame.py:4102\u001B[0m, in \u001B[0;36mDataFrame.__getitem__\u001B[1;34m(self, key)\u001B[0m\n\u001B[0;32m   4100\u001B[0m \u001B[38;5;28;01mif\u001B[39;00m \u001B[38;5;28mself\u001B[39m\u001B[38;5;241m.\u001B[39mcolumns\u001B[38;5;241m.\u001B[39mnlevels \u001B[38;5;241m>\u001B[39m \u001B[38;5;241m1\u001B[39m:\n\u001B[0;32m   4101\u001B[0m     \u001B[38;5;28;01mreturn\u001B[39;00m \u001B[38;5;28mself\u001B[39m\u001B[38;5;241m.\u001B[39m_getitem_multilevel(key)\n\u001B[1;32m-> 4102\u001B[0m indexer \u001B[38;5;241m=\u001B[39m \u001B[38;5;28;43mself\u001B[39;49m\u001B[38;5;241;43m.\u001B[39;49m\u001B[43mcolumns\u001B[49m\u001B[38;5;241;43m.\u001B[39;49m\u001B[43mget_loc\u001B[49m\u001B[43m(\u001B[49m\u001B[43mkey\u001B[49m\u001B[43m)\u001B[49m\n\u001B[0;32m   4103\u001B[0m \u001B[38;5;28;01mif\u001B[39;00m is_integer(indexer):\n\u001B[0;32m   4104\u001B[0m     indexer \u001B[38;5;241m=\u001B[39m [indexer]\n",
      "File \u001B[1;32m~\\PycharmProjects\\PRACTICUM\\venv\\Lib\\site-packages\\pandas\\core\\indexes\\base.py:3812\u001B[0m, in \u001B[0;36mIndex.get_loc\u001B[1;34m(self, key)\u001B[0m\n\u001B[0;32m   3807\u001B[0m     \u001B[38;5;28;01mif\u001B[39;00m \u001B[38;5;28misinstance\u001B[39m(casted_key, \u001B[38;5;28mslice\u001B[39m) \u001B[38;5;129;01mor\u001B[39;00m (\n\u001B[0;32m   3808\u001B[0m         \u001B[38;5;28misinstance\u001B[39m(casted_key, abc\u001B[38;5;241m.\u001B[39mIterable)\n\u001B[0;32m   3809\u001B[0m         \u001B[38;5;129;01mand\u001B[39;00m \u001B[38;5;28many\u001B[39m(\u001B[38;5;28misinstance\u001B[39m(x, \u001B[38;5;28mslice\u001B[39m) \u001B[38;5;28;01mfor\u001B[39;00m x \u001B[38;5;129;01min\u001B[39;00m casted_key)\n\u001B[0;32m   3810\u001B[0m     ):\n\u001B[0;32m   3811\u001B[0m         \u001B[38;5;28;01mraise\u001B[39;00m InvalidIndexError(key)\n\u001B[1;32m-> 3812\u001B[0m     \u001B[38;5;28;01mraise\u001B[39;00m \u001B[38;5;167;01mKeyError\u001B[39;00m(key) \u001B[38;5;28;01mfrom\u001B[39;00m \u001B[38;5;21;01merr\u001B[39;00m\n\u001B[0;32m   3813\u001B[0m \u001B[38;5;28;01mexcept\u001B[39;00m \u001B[38;5;167;01mTypeError\u001B[39;00m:\n\u001B[0;32m   3814\u001B[0m     \u001B[38;5;66;03m# If we have a listlike key, _check_indexing_error will raise\u001B[39;00m\n\u001B[0;32m   3815\u001B[0m     \u001B[38;5;66;03m#  InvalidIndexError. Otherwise we fall through and re-raise\u001B[39;00m\n\u001B[0;32m   3816\u001B[0m     \u001B[38;5;66;03m#  the TypeError.\u001B[39;00m\n\u001B[0;32m   3817\u001B[0m     \u001B[38;5;28mself\u001B[39m\u001B[38;5;241m.\u001B[39m_check_indexing_error(key)\n",
      "\u001B[1;31mKeyError\u001B[0m: 'hepatopatias'"
     ]
    }
   ],
   "execution_count": 230
  },
  {
   "metadata": {},
   "cell_type": "markdown",
   "source": [
    "## Neoplàsia"
   ],
   "id": "959b58aaaaab994b"
  },
  {
   "metadata": {
    "ExecuteTime": {
     "end_time": "2024-05-03T10:15:45.143750Z",
     "start_time": "2024-05-03T10:15:45.106302Z"
    }
   },
   "cell_type": "code",
   "source": [
    "neopl_AMB_PA= (AMB_PA['neoplasias'] == 1.0).mean() * 100\n",
    "print(f\"Percentatge de neoplàsia: {neopl_AMB_PA:.2f}%\")"
   ],
   "id": "6bbefcc81da003fc",
   "outputs": [
    {
     "ename": "KeyError",
     "evalue": "'neoplasias'",
     "output_type": "error",
     "traceback": [
      "\u001B[1;31m---------------------------------------------------------------------------\u001B[0m",
      "\u001B[1;31mKeyError\u001B[0m                                  Traceback (most recent call last)",
      "File \u001B[1;32m~\\PycharmProjects\\PRACTICUM\\venv\\Lib\\site-packages\\pandas\\core\\indexes\\base.py:3805\u001B[0m, in \u001B[0;36mIndex.get_loc\u001B[1;34m(self, key)\u001B[0m\n\u001B[0;32m   3804\u001B[0m \u001B[38;5;28;01mtry\u001B[39;00m:\n\u001B[1;32m-> 3805\u001B[0m     \u001B[38;5;28;01mreturn\u001B[39;00m \u001B[38;5;28;43mself\u001B[39;49m\u001B[38;5;241;43m.\u001B[39;49m\u001B[43m_engine\u001B[49m\u001B[38;5;241;43m.\u001B[39;49m\u001B[43mget_loc\u001B[49m\u001B[43m(\u001B[49m\u001B[43mcasted_key\u001B[49m\u001B[43m)\u001B[49m\n\u001B[0;32m   3806\u001B[0m \u001B[38;5;28;01mexcept\u001B[39;00m \u001B[38;5;167;01mKeyError\u001B[39;00m \u001B[38;5;28;01mas\u001B[39;00m err:\n",
      "File \u001B[1;32mindex.pyx:167\u001B[0m, in \u001B[0;36mpandas._libs.index.IndexEngine.get_loc\u001B[1;34m()\u001B[0m\n",
      "File \u001B[1;32mindex.pyx:196\u001B[0m, in \u001B[0;36mpandas._libs.index.IndexEngine.get_loc\u001B[1;34m()\u001B[0m\n",
      "File \u001B[1;32mpandas\\\\_libs\\\\hashtable_class_helper.pxi:7081\u001B[0m, in \u001B[0;36mpandas._libs.hashtable.PyObjectHashTable.get_item\u001B[1;34m()\u001B[0m\n",
      "File \u001B[1;32mpandas\\\\_libs\\\\hashtable_class_helper.pxi:7089\u001B[0m, in \u001B[0;36mpandas._libs.hashtable.PyObjectHashTable.get_item\u001B[1;34m()\u001B[0m\n",
      "\u001B[1;31mKeyError\u001B[0m: 'neoplasias'",
      "\nThe above exception was the direct cause of the following exception:\n",
      "\u001B[1;31mKeyError\u001B[0m                                  Traceback (most recent call last)",
      "Cell \u001B[1;32mIn[231], line 1\u001B[0m\n\u001B[1;32m----> 1\u001B[0m neopl_AMB_PA\u001B[38;5;241m=\u001B[39m (\u001B[43mAMB_PA\u001B[49m\u001B[43m[\u001B[49m\u001B[38;5;124;43m'\u001B[39;49m\u001B[38;5;124;43mneoplasias\u001B[39;49m\u001B[38;5;124;43m'\u001B[39;49m\u001B[43m]\u001B[49m \u001B[38;5;241m==\u001B[39m \u001B[38;5;241m1.0\u001B[39m)\u001B[38;5;241m.\u001B[39mmean() \u001B[38;5;241m*\u001B[39m \u001B[38;5;241m100\u001B[39m\n\u001B[0;32m      2\u001B[0m \u001B[38;5;28mprint\u001B[39m(\u001B[38;5;124mf\u001B[39m\u001B[38;5;124m\"\u001B[39m\u001B[38;5;124mPercentatge de neoplàsia: \u001B[39m\u001B[38;5;132;01m{\u001B[39;00mneopl_AMB_PA\u001B[38;5;132;01m:\u001B[39;00m\u001B[38;5;124m.2f\u001B[39m\u001B[38;5;132;01m}\u001B[39;00m\u001B[38;5;124m%\u001B[39m\u001B[38;5;124m\"\u001B[39m)\n",
      "File \u001B[1;32m~\\PycharmProjects\\PRACTICUM\\venv\\Lib\\site-packages\\pandas\\core\\frame.py:4102\u001B[0m, in \u001B[0;36mDataFrame.__getitem__\u001B[1;34m(self, key)\u001B[0m\n\u001B[0;32m   4100\u001B[0m \u001B[38;5;28;01mif\u001B[39;00m \u001B[38;5;28mself\u001B[39m\u001B[38;5;241m.\u001B[39mcolumns\u001B[38;5;241m.\u001B[39mnlevels \u001B[38;5;241m>\u001B[39m \u001B[38;5;241m1\u001B[39m:\n\u001B[0;32m   4101\u001B[0m     \u001B[38;5;28;01mreturn\u001B[39;00m \u001B[38;5;28mself\u001B[39m\u001B[38;5;241m.\u001B[39m_getitem_multilevel(key)\n\u001B[1;32m-> 4102\u001B[0m indexer \u001B[38;5;241m=\u001B[39m \u001B[38;5;28;43mself\u001B[39;49m\u001B[38;5;241;43m.\u001B[39;49m\u001B[43mcolumns\u001B[49m\u001B[38;5;241;43m.\u001B[39;49m\u001B[43mget_loc\u001B[49m\u001B[43m(\u001B[49m\u001B[43mkey\u001B[49m\u001B[43m)\u001B[49m\n\u001B[0;32m   4103\u001B[0m \u001B[38;5;28;01mif\u001B[39;00m is_integer(indexer):\n\u001B[0;32m   4104\u001B[0m     indexer \u001B[38;5;241m=\u001B[39m [indexer]\n",
      "File \u001B[1;32m~\\PycharmProjects\\PRACTICUM\\venv\\Lib\\site-packages\\pandas\\core\\indexes\\base.py:3812\u001B[0m, in \u001B[0;36mIndex.get_loc\u001B[1;34m(self, key)\u001B[0m\n\u001B[0;32m   3807\u001B[0m     \u001B[38;5;28;01mif\u001B[39;00m \u001B[38;5;28misinstance\u001B[39m(casted_key, \u001B[38;5;28mslice\u001B[39m) \u001B[38;5;129;01mor\u001B[39;00m (\n\u001B[0;32m   3808\u001B[0m         \u001B[38;5;28misinstance\u001B[39m(casted_key, abc\u001B[38;5;241m.\u001B[39mIterable)\n\u001B[0;32m   3809\u001B[0m         \u001B[38;5;129;01mand\u001B[39;00m \u001B[38;5;28many\u001B[39m(\u001B[38;5;28misinstance\u001B[39m(x, \u001B[38;5;28mslice\u001B[39m) \u001B[38;5;28;01mfor\u001B[39;00m x \u001B[38;5;129;01min\u001B[39;00m casted_key)\n\u001B[0;32m   3810\u001B[0m     ):\n\u001B[0;32m   3811\u001B[0m         \u001B[38;5;28;01mraise\u001B[39;00m InvalidIndexError(key)\n\u001B[1;32m-> 3812\u001B[0m     \u001B[38;5;28;01mraise\u001B[39;00m \u001B[38;5;167;01mKeyError\u001B[39;00m(key) \u001B[38;5;28;01mfrom\u001B[39;00m \u001B[38;5;21;01merr\u001B[39;00m\n\u001B[0;32m   3813\u001B[0m \u001B[38;5;28;01mexcept\u001B[39;00m \u001B[38;5;167;01mTypeError\u001B[39;00m:\n\u001B[0;32m   3814\u001B[0m     \u001B[38;5;66;03m# If we have a listlike key, _check_indexing_error will raise\u001B[39;00m\n\u001B[0;32m   3815\u001B[0m     \u001B[38;5;66;03m#  InvalidIndexError. Otherwise we fall through and re-raise\u001B[39;00m\n\u001B[0;32m   3816\u001B[0m     \u001B[38;5;66;03m#  the TypeError.\u001B[39;00m\n\u001B[0;32m   3817\u001B[0m     \u001B[38;5;28mself\u001B[39m\u001B[38;5;241m.\u001B[39m_check_indexing_error(key)\n",
      "\u001B[1;31mKeyError\u001B[0m: 'neoplasias'"
     ]
    }
   ],
   "execution_count": 231
  },
  {
   "metadata": {
    "ExecuteTime": {
     "end_time": "2024-05-03T10:15:45.495328Z",
     "start_time": "2024-05-03T10:15:45.457380Z"
    }
   },
   "cell_type": "code",
   "source": [
    "neopl_AMB_PA_MECVV= (AMB_PA_MECVV['neoplasias'] == 1.0).mean() * 100\n",
    "print(f\"Percentatge de neoplàsia: {neopl_AMB_PA_MECVV:.2f}%\")"
   ],
   "id": "216d7eebaa16abc0",
   "outputs": [
    {
     "ename": "KeyError",
     "evalue": "'neoplasias'",
     "output_type": "error",
     "traceback": [
      "\u001B[1;31m---------------------------------------------------------------------------\u001B[0m",
      "\u001B[1;31mKeyError\u001B[0m                                  Traceback (most recent call last)",
      "File \u001B[1;32m~\\PycharmProjects\\PRACTICUM\\venv\\Lib\\site-packages\\pandas\\core\\indexes\\base.py:3805\u001B[0m, in \u001B[0;36mIndex.get_loc\u001B[1;34m(self, key)\u001B[0m\n\u001B[0;32m   3804\u001B[0m \u001B[38;5;28;01mtry\u001B[39;00m:\n\u001B[1;32m-> 3805\u001B[0m     \u001B[38;5;28;01mreturn\u001B[39;00m \u001B[38;5;28;43mself\u001B[39;49m\u001B[38;5;241;43m.\u001B[39;49m\u001B[43m_engine\u001B[49m\u001B[38;5;241;43m.\u001B[39;49m\u001B[43mget_loc\u001B[49m\u001B[43m(\u001B[49m\u001B[43mcasted_key\u001B[49m\u001B[43m)\u001B[49m\n\u001B[0;32m   3806\u001B[0m \u001B[38;5;28;01mexcept\u001B[39;00m \u001B[38;5;167;01mKeyError\u001B[39;00m \u001B[38;5;28;01mas\u001B[39;00m err:\n",
      "File \u001B[1;32mindex.pyx:167\u001B[0m, in \u001B[0;36mpandas._libs.index.IndexEngine.get_loc\u001B[1;34m()\u001B[0m\n",
      "File \u001B[1;32mindex.pyx:196\u001B[0m, in \u001B[0;36mpandas._libs.index.IndexEngine.get_loc\u001B[1;34m()\u001B[0m\n",
      "File \u001B[1;32mpandas\\\\_libs\\\\hashtable_class_helper.pxi:7081\u001B[0m, in \u001B[0;36mpandas._libs.hashtable.PyObjectHashTable.get_item\u001B[1;34m()\u001B[0m\n",
      "File \u001B[1;32mpandas\\\\_libs\\\\hashtable_class_helper.pxi:7089\u001B[0m, in \u001B[0;36mpandas._libs.hashtable.PyObjectHashTable.get_item\u001B[1;34m()\u001B[0m\n",
      "\u001B[1;31mKeyError\u001B[0m: 'neoplasias'",
      "\nThe above exception was the direct cause of the following exception:\n",
      "\u001B[1;31mKeyError\u001B[0m                                  Traceback (most recent call last)",
      "Cell \u001B[1;32mIn[232], line 1\u001B[0m\n\u001B[1;32m----> 1\u001B[0m neopl_AMB_PA_MECVV\u001B[38;5;241m=\u001B[39m (\u001B[43mAMB_PA_MECVV\u001B[49m\u001B[43m[\u001B[49m\u001B[38;5;124;43m'\u001B[39;49m\u001B[38;5;124;43mneoplasias\u001B[39;49m\u001B[38;5;124;43m'\u001B[39;49m\u001B[43m]\u001B[49m \u001B[38;5;241m==\u001B[39m \u001B[38;5;241m1.0\u001B[39m)\u001B[38;5;241m.\u001B[39mmean() \u001B[38;5;241m*\u001B[39m \u001B[38;5;241m100\u001B[39m\n\u001B[0;32m      2\u001B[0m \u001B[38;5;28mprint\u001B[39m(\u001B[38;5;124mf\u001B[39m\u001B[38;5;124m\"\u001B[39m\u001B[38;5;124mPercentatge de neoplàsia: \u001B[39m\u001B[38;5;132;01m{\u001B[39;00mneopl_AMB_PA_MECVV\u001B[38;5;132;01m:\u001B[39;00m\u001B[38;5;124m.2f\u001B[39m\u001B[38;5;132;01m}\u001B[39;00m\u001B[38;5;124m%\u001B[39m\u001B[38;5;124m\"\u001B[39m)\n",
      "File \u001B[1;32m~\\PycharmProjects\\PRACTICUM\\venv\\Lib\\site-packages\\pandas\\core\\frame.py:4102\u001B[0m, in \u001B[0;36mDataFrame.__getitem__\u001B[1;34m(self, key)\u001B[0m\n\u001B[0;32m   4100\u001B[0m \u001B[38;5;28;01mif\u001B[39;00m \u001B[38;5;28mself\u001B[39m\u001B[38;5;241m.\u001B[39mcolumns\u001B[38;5;241m.\u001B[39mnlevels \u001B[38;5;241m>\u001B[39m \u001B[38;5;241m1\u001B[39m:\n\u001B[0;32m   4101\u001B[0m     \u001B[38;5;28;01mreturn\u001B[39;00m \u001B[38;5;28mself\u001B[39m\u001B[38;5;241m.\u001B[39m_getitem_multilevel(key)\n\u001B[1;32m-> 4102\u001B[0m indexer \u001B[38;5;241m=\u001B[39m \u001B[38;5;28;43mself\u001B[39;49m\u001B[38;5;241;43m.\u001B[39;49m\u001B[43mcolumns\u001B[49m\u001B[38;5;241;43m.\u001B[39;49m\u001B[43mget_loc\u001B[49m\u001B[43m(\u001B[49m\u001B[43mkey\u001B[49m\u001B[43m)\u001B[49m\n\u001B[0;32m   4103\u001B[0m \u001B[38;5;28;01mif\u001B[39;00m is_integer(indexer):\n\u001B[0;32m   4104\u001B[0m     indexer \u001B[38;5;241m=\u001B[39m [indexer]\n",
      "File \u001B[1;32m~\\PycharmProjects\\PRACTICUM\\venv\\Lib\\site-packages\\pandas\\core\\indexes\\base.py:3812\u001B[0m, in \u001B[0;36mIndex.get_loc\u001B[1;34m(self, key)\u001B[0m\n\u001B[0;32m   3807\u001B[0m     \u001B[38;5;28;01mif\u001B[39;00m \u001B[38;5;28misinstance\u001B[39m(casted_key, \u001B[38;5;28mslice\u001B[39m) \u001B[38;5;129;01mor\u001B[39;00m (\n\u001B[0;32m   3808\u001B[0m         \u001B[38;5;28misinstance\u001B[39m(casted_key, abc\u001B[38;5;241m.\u001B[39mIterable)\n\u001B[0;32m   3809\u001B[0m         \u001B[38;5;129;01mand\u001B[39;00m \u001B[38;5;28many\u001B[39m(\u001B[38;5;28misinstance\u001B[39m(x, \u001B[38;5;28mslice\u001B[39m) \u001B[38;5;28;01mfor\u001B[39;00m x \u001B[38;5;129;01min\u001B[39;00m casted_key)\n\u001B[0;32m   3810\u001B[0m     ):\n\u001B[0;32m   3811\u001B[0m         \u001B[38;5;28;01mraise\u001B[39;00m InvalidIndexError(key)\n\u001B[1;32m-> 3812\u001B[0m     \u001B[38;5;28;01mraise\u001B[39;00m \u001B[38;5;167;01mKeyError\u001B[39;00m(key) \u001B[38;5;28;01mfrom\u001B[39;00m \u001B[38;5;21;01merr\u001B[39;00m\n\u001B[0;32m   3813\u001B[0m \u001B[38;5;28;01mexcept\u001B[39;00m \u001B[38;5;167;01mTypeError\u001B[39;00m:\n\u001B[0;32m   3814\u001B[0m     \u001B[38;5;66;03m# If we have a listlike key, _check_indexing_error will raise\u001B[39;00m\n\u001B[0;32m   3815\u001B[0m     \u001B[38;5;66;03m#  InvalidIndexError. Otherwise we fall through and re-raise\u001B[39;00m\n\u001B[0;32m   3816\u001B[0m     \u001B[38;5;66;03m#  the TypeError.\u001B[39;00m\n\u001B[0;32m   3817\u001B[0m     \u001B[38;5;28mself\u001B[39m\u001B[38;5;241m.\u001B[39m_check_indexing_error(key)\n",
      "\u001B[1;31mKeyError\u001B[0m: 'neoplasias'"
     ]
    }
   ],
   "execution_count": 232
  },
  {
   "metadata": {
    "ExecuteTime": {
     "end_time": "2024-05-03T10:15:45.693887Z",
     "start_time": "2024-05-03T10:15:45.657509Z"
    }
   },
   "cell_type": "code",
   "source": [
    "neopl_SENSE_PA= (SENSE_PA['neoplasias'] == 1.0).mean() * 100\n",
    "print(f\"Percentatge de neoplàsia: {neopl_SENSE_PA:.2f}%\")"
   ],
   "id": "380e87c3db7e8b7a",
   "outputs": [
    {
     "ename": "KeyError",
     "evalue": "'neoplasias'",
     "output_type": "error",
     "traceback": [
      "\u001B[1;31m---------------------------------------------------------------------------\u001B[0m",
      "\u001B[1;31mKeyError\u001B[0m                                  Traceback (most recent call last)",
      "File \u001B[1;32m~\\PycharmProjects\\PRACTICUM\\venv\\Lib\\site-packages\\pandas\\core\\indexes\\base.py:3805\u001B[0m, in \u001B[0;36mIndex.get_loc\u001B[1;34m(self, key)\u001B[0m\n\u001B[0;32m   3804\u001B[0m \u001B[38;5;28;01mtry\u001B[39;00m:\n\u001B[1;32m-> 3805\u001B[0m     \u001B[38;5;28;01mreturn\u001B[39;00m \u001B[38;5;28;43mself\u001B[39;49m\u001B[38;5;241;43m.\u001B[39;49m\u001B[43m_engine\u001B[49m\u001B[38;5;241;43m.\u001B[39;49m\u001B[43mget_loc\u001B[49m\u001B[43m(\u001B[49m\u001B[43mcasted_key\u001B[49m\u001B[43m)\u001B[49m\n\u001B[0;32m   3806\u001B[0m \u001B[38;5;28;01mexcept\u001B[39;00m \u001B[38;5;167;01mKeyError\u001B[39;00m \u001B[38;5;28;01mas\u001B[39;00m err:\n",
      "File \u001B[1;32mindex.pyx:167\u001B[0m, in \u001B[0;36mpandas._libs.index.IndexEngine.get_loc\u001B[1;34m()\u001B[0m\n",
      "File \u001B[1;32mindex.pyx:196\u001B[0m, in \u001B[0;36mpandas._libs.index.IndexEngine.get_loc\u001B[1;34m()\u001B[0m\n",
      "File \u001B[1;32mpandas\\\\_libs\\\\hashtable_class_helper.pxi:7081\u001B[0m, in \u001B[0;36mpandas._libs.hashtable.PyObjectHashTable.get_item\u001B[1;34m()\u001B[0m\n",
      "File \u001B[1;32mpandas\\\\_libs\\\\hashtable_class_helper.pxi:7089\u001B[0m, in \u001B[0;36mpandas._libs.hashtable.PyObjectHashTable.get_item\u001B[1;34m()\u001B[0m\n",
      "\u001B[1;31mKeyError\u001B[0m: 'neoplasias'",
      "\nThe above exception was the direct cause of the following exception:\n",
      "\u001B[1;31mKeyError\u001B[0m                                  Traceback (most recent call last)",
      "Cell \u001B[1;32mIn[233], line 1\u001B[0m\n\u001B[1;32m----> 1\u001B[0m neopl_SENSE_PA\u001B[38;5;241m=\u001B[39m (\u001B[43mSENSE_PA\u001B[49m\u001B[43m[\u001B[49m\u001B[38;5;124;43m'\u001B[39;49m\u001B[38;5;124;43mneoplasias\u001B[39;49m\u001B[38;5;124;43m'\u001B[39;49m\u001B[43m]\u001B[49m \u001B[38;5;241m==\u001B[39m \u001B[38;5;241m1.0\u001B[39m)\u001B[38;5;241m.\u001B[39mmean() \u001B[38;5;241m*\u001B[39m \u001B[38;5;241m100\u001B[39m\n\u001B[0;32m      2\u001B[0m \u001B[38;5;28mprint\u001B[39m(\u001B[38;5;124mf\u001B[39m\u001B[38;5;124m\"\u001B[39m\u001B[38;5;124mPercentatge de neoplàsia: \u001B[39m\u001B[38;5;132;01m{\u001B[39;00mneopl_SENSE_PA\u001B[38;5;132;01m:\u001B[39;00m\u001B[38;5;124m.2f\u001B[39m\u001B[38;5;132;01m}\u001B[39;00m\u001B[38;5;124m%\u001B[39m\u001B[38;5;124m\"\u001B[39m)\n",
      "File \u001B[1;32m~\\PycharmProjects\\PRACTICUM\\venv\\Lib\\site-packages\\pandas\\core\\frame.py:4102\u001B[0m, in \u001B[0;36mDataFrame.__getitem__\u001B[1;34m(self, key)\u001B[0m\n\u001B[0;32m   4100\u001B[0m \u001B[38;5;28;01mif\u001B[39;00m \u001B[38;5;28mself\u001B[39m\u001B[38;5;241m.\u001B[39mcolumns\u001B[38;5;241m.\u001B[39mnlevels \u001B[38;5;241m>\u001B[39m \u001B[38;5;241m1\u001B[39m:\n\u001B[0;32m   4101\u001B[0m     \u001B[38;5;28;01mreturn\u001B[39;00m \u001B[38;5;28mself\u001B[39m\u001B[38;5;241m.\u001B[39m_getitem_multilevel(key)\n\u001B[1;32m-> 4102\u001B[0m indexer \u001B[38;5;241m=\u001B[39m \u001B[38;5;28;43mself\u001B[39;49m\u001B[38;5;241;43m.\u001B[39;49m\u001B[43mcolumns\u001B[49m\u001B[38;5;241;43m.\u001B[39;49m\u001B[43mget_loc\u001B[49m\u001B[43m(\u001B[49m\u001B[43mkey\u001B[49m\u001B[43m)\u001B[49m\n\u001B[0;32m   4103\u001B[0m \u001B[38;5;28;01mif\u001B[39;00m is_integer(indexer):\n\u001B[0;32m   4104\u001B[0m     indexer \u001B[38;5;241m=\u001B[39m [indexer]\n",
      "File \u001B[1;32m~\\PycharmProjects\\PRACTICUM\\venv\\Lib\\site-packages\\pandas\\core\\indexes\\base.py:3812\u001B[0m, in \u001B[0;36mIndex.get_loc\u001B[1;34m(self, key)\u001B[0m\n\u001B[0;32m   3807\u001B[0m     \u001B[38;5;28;01mif\u001B[39;00m \u001B[38;5;28misinstance\u001B[39m(casted_key, \u001B[38;5;28mslice\u001B[39m) \u001B[38;5;129;01mor\u001B[39;00m (\n\u001B[0;32m   3808\u001B[0m         \u001B[38;5;28misinstance\u001B[39m(casted_key, abc\u001B[38;5;241m.\u001B[39mIterable)\n\u001B[0;32m   3809\u001B[0m         \u001B[38;5;129;01mand\u001B[39;00m \u001B[38;5;28many\u001B[39m(\u001B[38;5;28misinstance\u001B[39m(x, \u001B[38;5;28mslice\u001B[39m) \u001B[38;5;28;01mfor\u001B[39;00m x \u001B[38;5;129;01min\u001B[39;00m casted_key)\n\u001B[0;32m   3810\u001B[0m     ):\n\u001B[0;32m   3811\u001B[0m         \u001B[38;5;28;01mraise\u001B[39;00m InvalidIndexError(key)\n\u001B[1;32m-> 3812\u001B[0m     \u001B[38;5;28;01mraise\u001B[39;00m \u001B[38;5;167;01mKeyError\u001B[39;00m(key) \u001B[38;5;28;01mfrom\u001B[39;00m \u001B[38;5;21;01merr\u001B[39;00m\n\u001B[0;32m   3813\u001B[0m \u001B[38;5;28;01mexcept\u001B[39;00m \u001B[38;5;167;01mTypeError\u001B[39;00m:\n\u001B[0;32m   3814\u001B[0m     \u001B[38;5;66;03m# If we have a listlike key, _check_indexing_error will raise\u001B[39;00m\n\u001B[0;32m   3815\u001B[0m     \u001B[38;5;66;03m#  InvalidIndexError. Otherwise we fall through and re-raise\u001B[39;00m\n\u001B[0;32m   3816\u001B[0m     \u001B[38;5;66;03m#  the TypeError.\u001B[39;00m\n\u001B[0;32m   3817\u001B[0m     \u001B[38;5;28mself\u001B[39m\u001B[38;5;241m.\u001B[39m_check_indexing_error(key)\n",
      "\u001B[1;31mKeyError\u001B[0m: 'neoplasias'"
     ]
    }
   ],
   "execution_count": 233
  },
  {
   "metadata": {},
   "cell_type": "markdown",
   "source": [
    "#### Pvalor"
   ],
   "id": "338c0f6458d8be19"
  },
  {
   "metadata": {},
   "cell_type": "markdown",
   "source": [
    "##### Normalitat"
   ],
   "id": "9377ac1a9f6dd002"
  },
  {
   "metadata": {
    "ExecuteTime": {
     "end_time": "2024-05-03T10:15:46.065554Z",
     "start_time": "2024-05-03T10:15:46.027963Z"
    }
   },
   "cell_type": "code",
   "source": [
    "stat, p_value = shapiro(AMB_PA['neoplasias'])\n",
    "print(f\"Estadístic W = {stat:.4f}\")\n",
    "print(f\"Valor p = {p_value:.4f}\")\n",
    "\n",
    "alpha = 0.05\n",
    "if p_value < alpha:\n",
    "    print(\"El nombre de files no segueix una distribució normal.\")\n",
    "else:\n",
    "    print(\"El nombre de files segueix una distribució normal\")"
   ],
   "id": "7c858ee47d54bc43",
   "outputs": [
    {
     "ename": "KeyError",
     "evalue": "'neoplasias'",
     "output_type": "error",
     "traceback": [
      "\u001B[1;31m---------------------------------------------------------------------------\u001B[0m",
      "\u001B[1;31mKeyError\u001B[0m                                  Traceback (most recent call last)",
      "File \u001B[1;32m~\\PycharmProjects\\PRACTICUM\\venv\\Lib\\site-packages\\pandas\\core\\indexes\\base.py:3805\u001B[0m, in \u001B[0;36mIndex.get_loc\u001B[1;34m(self, key)\u001B[0m\n\u001B[0;32m   3804\u001B[0m \u001B[38;5;28;01mtry\u001B[39;00m:\n\u001B[1;32m-> 3805\u001B[0m     \u001B[38;5;28;01mreturn\u001B[39;00m \u001B[38;5;28;43mself\u001B[39;49m\u001B[38;5;241;43m.\u001B[39;49m\u001B[43m_engine\u001B[49m\u001B[38;5;241;43m.\u001B[39;49m\u001B[43mget_loc\u001B[49m\u001B[43m(\u001B[49m\u001B[43mcasted_key\u001B[49m\u001B[43m)\u001B[49m\n\u001B[0;32m   3806\u001B[0m \u001B[38;5;28;01mexcept\u001B[39;00m \u001B[38;5;167;01mKeyError\u001B[39;00m \u001B[38;5;28;01mas\u001B[39;00m err:\n",
      "File \u001B[1;32mindex.pyx:167\u001B[0m, in \u001B[0;36mpandas._libs.index.IndexEngine.get_loc\u001B[1;34m()\u001B[0m\n",
      "File \u001B[1;32mindex.pyx:196\u001B[0m, in \u001B[0;36mpandas._libs.index.IndexEngine.get_loc\u001B[1;34m()\u001B[0m\n",
      "File \u001B[1;32mpandas\\\\_libs\\\\hashtable_class_helper.pxi:7081\u001B[0m, in \u001B[0;36mpandas._libs.hashtable.PyObjectHashTable.get_item\u001B[1;34m()\u001B[0m\n",
      "File \u001B[1;32mpandas\\\\_libs\\\\hashtable_class_helper.pxi:7089\u001B[0m, in \u001B[0;36mpandas._libs.hashtable.PyObjectHashTable.get_item\u001B[1;34m()\u001B[0m\n",
      "\u001B[1;31mKeyError\u001B[0m: 'neoplasias'",
      "\nThe above exception was the direct cause of the following exception:\n",
      "\u001B[1;31mKeyError\u001B[0m                                  Traceback (most recent call last)",
      "Cell \u001B[1;32mIn[234], line 1\u001B[0m\n\u001B[1;32m----> 1\u001B[0m stat, p_value \u001B[38;5;241m=\u001B[39m shapiro(\u001B[43mAMB_PA\u001B[49m\u001B[43m[\u001B[49m\u001B[38;5;124;43m'\u001B[39;49m\u001B[38;5;124;43mneoplasias\u001B[39;49m\u001B[38;5;124;43m'\u001B[39;49m\u001B[43m]\u001B[49m)\n\u001B[0;32m      2\u001B[0m \u001B[38;5;28mprint\u001B[39m(\u001B[38;5;124mf\u001B[39m\u001B[38;5;124m\"\u001B[39m\u001B[38;5;124mEstadístic W = \u001B[39m\u001B[38;5;132;01m{\u001B[39;00mstat\u001B[38;5;132;01m:\u001B[39;00m\u001B[38;5;124m.4f\u001B[39m\u001B[38;5;132;01m}\u001B[39;00m\u001B[38;5;124m\"\u001B[39m)\n\u001B[0;32m      3\u001B[0m \u001B[38;5;28mprint\u001B[39m(\u001B[38;5;124mf\u001B[39m\u001B[38;5;124m\"\u001B[39m\u001B[38;5;124mValor p = \u001B[39m\u001B[38;5;132;01m{\u001B[39;00mp_value\u001B[38;5;132;01m:\u001B[39;00m\u001B[38;5;124m.4f\u001B[39m\u001B[38;5;132;01m}\u001B[39;00m\u001B[38;5;124m\"\u001B[39m)\n",
      "File \u001B[1;32m~\\PycharmProjects\\PRACTICUM\\venv\\Lib\\site-packages\\pandas\\core\\frame.py:4102\u001B[0m, in \u001B[0;36mDataFrame.__getitem__\u001B[1;34m(self, key)\u001B[0m\n\u001B[0;32m   4100\u001B[0m \u001B[38;5;28;01mif\u001B[39;00m \u001B[38;5;28mself\u001B[39m\u001B[38;5;241m.\u001B[39mcolumns\u001B[38;5;241m.\u001B[39mnlevels \u001B[38;5;241m>\u001B[39m \u001B[38;5;241m1\u001B[39m:\n\u001B[0;32m   4101\u001B[0m     \u001B[38;5;28;01mreturn\u001B[39;00m \u001B[38;5;28mself\u001B[39m\u001B[38;5;241m.\u001B[39m_getitem_multilevel(key)\n\u001B[1;32m-> 4102\u001B[0m indexer \u001B[38;5;241m=\u001B[39m \u001B[38;5;28;43mself\u001B[39;49m\u001B[38;5;241;43m.\u001B[39;49m\u001B[43mcolumns\u001B[49m\u001B[38;5;241;43m.\u001B[39;49m\u001B[43mget_loc\u001B[49m\u001B[43m(\u001B[49m\u001B[43mkey\u001B[49m\u001B[43m)\u001B[49m\n\u001B[0;32m   4103\u001B[0m \u001B[38;5;28;01mif\u001B[39;00m is_integer(indexer):\n\u001B[0;32m   4104\u001B[0m     indexer \u001B[38;5;241m=\u001B[39m [indexer]\n",
      "File \u001B[1;32m~\\PycharmProjects\\PRACTICUM\\venv\\Lib\\site-packages\\pandas\\core\\indexes\\base.py:3812\u001B[0m, in \u001B[0;36mIndex.get_loc\u001B[1;34m(self, key)\u001B[0m\n\u001B[0;32m   3807\u001B[0m     \u001B[38;5;28;01mif\u001B[39;00m \u001B[38;5;28misinstance\u001B[39m(casted_key, \u001B[38;5;28mslice\u001B[39m) \u001B[38;5;129;01mor\u001B[39;00m (\n\u001B[0;32m   3808\u001B[0m         \u001B[38;5;28misinstance\u001B[39m(casted_key, abc\u001B[38;5;241m.\u001B[39mIterable)\n\u001B[0;32m   3809\u001B[0m         \u001B[38;5;129;01mand\u001B[39;00m \u001B[38;5;28many\u001B[39m(\u001B[38;5;28misinstance\u001B[39m(x, \u001B[38;5;28mslice\u001B[39m) \u001B[38;5;28;01mfor\u001B[39;00m x \u001B[38;5;129;01min\u001B[39;00m casted_key)\n\u001B[0;32m   3810\u001B[0m     ):\n\u001B[0;32m   3811\u001B[0m         \u001B[38;5;28;01mraise\u001B[39;00m InvalidIndexError(key)\n\u001B[1;32m-> 3812\u001B[0m     \u001B[38;5;28;01mraise\u001B[39;00m \u001B[38;5;167;01mKeyError\u001B[39;00m(key) \u001B[38;5;28;01mfrom\u001B[39;00m \u001B[38;5;21;01merr\u001B[39;00m\n\u001B[0;32m   3813\u001B[0m \u001B[38;5;28;01mexcept\u001B[39;00m \u001B[38;5;167;01mTypeError\u001B[39;00m:\n\u001B[0;32m   3814\u001B[0m     \u001B[38;5;66;03m# If we have a listlike key, _check_indexing_error will raise\u001B[39;00m\n\u001B[0;32m   3815\u001B[0m     \u001B[38;5;66;03m#  InvalidIndexError. Otherwise we fall through and re-raise\u001B[39;00m\n\u001B[0;32m   3816\u001B[0m     \u001B[38;5;66;03m#  the TypeError.\u001B[39;00m\n\u001B[0;32m   3817\u001B[0m     \u001B[38;5;28mself\u001B[39m\u001B[38;5;241m.\u001B[39m_check_indexing_error(key)\n",
      "\u001B[1;31mKeyError\u001B[0m: 'neoplasias'"
     ]
    }
   ],
   "execution_count": 234
  },
  {
   "metadata": {
    "ExecuteTime": {
     "end_time": "2024-05-03T10:15:46.356029Z",
     "start_time": "2024-05-03T10:15:46.319608Z"
    }
   },
   "cell_type": "code",
   "source": [
    "stat, p_value = shapiro(AMB_PA_MECVV['hepatopatias'])\n",
    "print(f\"Estadístic W = {stat:.4f}\")\n",
    "print(f\"Valor p = {p_value:.4f}\")\n",
    "\n",
    "alpha = 0.05\n",
    "if p_value < alpha:\n",
    "    print(\"El nombre de files no segueix una distribució normal.\")\n",
    "else:\n",
    "    print(\"El nombre de files segueix una distribució normal\")"
   ],
   "id": "dde37d63a9b667d",
   "outputs": [
    {
     "ename": "KeyError",
     "evalue": "'hepatopatias'",
     "output_type": "error",
     "traceback": [
      "\u001B[1;31m---------------------------------------------------------------------------\u001B[0m",
      "\u001B[1;31mKeyError\u001B[0m                                  Traceback (most recent call last)",
      "File \u001B[1;32m~\\PycharmProjects\\PRACTICUM\\venv\\Lib\\site-packages\\pandas\\core\\indexes\\base.py:3805\u001B[0m, in \u001B[0;36mIndex.get_loc\u001B[1;34m(self, key)\u001B[0m\n\u001B[0;32m   3804\u001B[0m \u001B[38;5;28;01mtry\u001B[39;00m:\n\u001B[1;32m-> 3805\u001B[0m     \u001B[38;5;28;01mreturn\u001B[39;00m \u001B[38;5;28;43mself\u001B[39;49m\u001B[38;5;241;43m.\u001B[39;49m\u001B[43m_engine\u001B[49m\u001B[38;5;241;43m.\u001B[39;49m\u001B[43mget_loc\u001B[49m\u001B[43m(\u001B[49m\u001B[43mcasted_key\u001B[49m\u001B[43m)\u001B[49m\n\u001B[0;32m   3806\u001B[0m \u001B[38;5;28;01mexcept\u001B[39;00m \u001B[38;5;167;01mKeyError\u001B[39;00m \u001B[38;5;28;01mas\u001B[39;00m err:\n",
      "File \u001B[1;32mindex.pyx:167\u001B[0m, in \u001B[0;36mpandas._libs.index.IndexEngine.get_loc\u001B[1;34m()\u001B[0m\n",
      "File \u001B[1;32mindex.pyx:196\u001B[0m, in \u001B[0;36mpandas._libs.index.IndexEngine.get_loc\u001B[1;34m()\u001B[0m\n",
      "File \u001B[1;32mpandas\\\\_libs\\\\hashtable_class_helper.pxi:7081\u001B[0m, in \u001B[0;36mpandas._libs.hashtable.PyObjectHashTable.get_item\u001B[1;34m()\u001B[0m\n",
      "File \u001B[1;32mpandas\\\\_libs\\\\hashtable_class_helper.pxi:7089\u001B[0m, in \u001B[0;36mpandas._libs.hashtable.PyObjectHashTable.get_item\u001B[1;34m()\u001B[0m\n",
      "\u001B[1;31mKeyError\u001B[0m: 'hepatopatias'",
      "\nThe above exception was the direct cause of the following exception:\n",
      "\u001B[1;31mKeyError\u001B[0m                                  Traceback (most recent call last)",
      "Cell \u001B[1;32mIn[235], line 1\u001B[0m\n\u001B[1;32m----> 1\u001B[0m stat, p_value \u001B[38;5;241m=\u001B[39m shapiro(\u001B[43mAMB_PA_MECVV\u001B[49m\u001B[43m[\u001B[49m\u001B[38;5;124;43m'\u001B[39;49m\u001B[38;5;124;43mhepatopatias\u001B[39;49m\u001B[38;5;124;43m'\u001B[39;49m\u001B[43m]\u001B[49m)\n\u001B[0;32m      2\u001B[0m \u001B[38;5;28mprint\u001B[39m(\u001B[38;5;124mf\u001B[39m\u001B[38;5;124m\"\u001B[39m\u001B[38;5;124mEstadístic W = \u001B[39m\u001B[38;5;132;01m{\u001B[39;00mstat\u001B[38;5;132;01m:\u001B[39;00m\u001B[38;5;124m.4f\u001B[39m\u001B[38;5;132;01m}\u001B[39;00m\u001B[38;5;124m\"\u001B[39m)\n\u001B[0;32m      3\u001B[0m \u001B[38;5;28mprint\u001B[39m(\u001B[38;5;124mf\u001B[39m\u001B[38;5;124m\"\u001B[39m\u001B[38;5;124mValor p = \u001B[39m\u001B[38;5;132;01m{\u001B[39;00mp_value\u001B[38;5;132;01m:\u001B[39;00m\u001B[38;5;124m.4f\u001B[39m\u001B[38;5;132;01m}\u001B[39;00m\u001B[38;5;124m\"\u001B[39m)\n",
      "File \u001B[1;32m~\\PycharmProjects\\PRACTICUM\\venv\\Lib\\site-packages\\pandas\\core\\frame.py:4102\u001B[0m, in \u001B[0;36mDataFrame.__getitem__\u001B[1;34m(self, key)\u001B[0m\n\u001B[0;32m   4100\u001B[0m \u001B[38;5;28;01mif\u001B[39;00m \u001B[38;5;28mself\u001B[39m\u001B[38;5;241m.\u001B[39mcolumns\u001B[38;5;241m.\u001B[39mnlevels \u001B[38;5;241m>\u001B[39m \u001B[38;5;241m1\u001B[39m:\n\u001B[0;32m   4101\u001B[0m     \u001B[38;5;28;01mreturn\u001B[39;00m \u001B[38;5;28mself\u001B[39m\u001B[38;5;241m.\u001B[39m_getitem_multilevel(key)\n\u001B[1;32m-> 4102\u001B[0m indexer \u001B[38;5;241m=\u001B[39m \u001B[38;5;28;43mself\u001B[39;49m\u001B[38;5;241;43m.\u001B[39;49m\u001B[43mcolumns\u001B[49m\u001B[38;5;241;43m.\u001B[39;49m\u001B[43mget_loc\u001B[49m\u001B[43m(\u001B[49m\u001B[43mkey\u001B[49m\u001B[43m)\u001B[49m\n\u001B[0;32m   4103\u001B[0m \u001B[38;5;28;01mif\u001B[39;00m is_integer(indexer):\n\u001B[0;32m   4104\u001B[0m     indexer \u001B[38;5;241m=\u001B[39m [indexer]\n",
      "File \u001B[1;32m~\\PycharmProjects\\PRACTICUM\\venv\\Lib\\site-packages\\pandas\\core\\indexes\\base.py:3812\u001B[0m, in \u001B[0;36mIndex.get_loc\u001B[1;34m(self, key)\u001B[0m\n\u001B[0;32m   3807\u001B[0m     \u001B[38;5;28;01mif\u001B[39;00m \u001B[38;5;28misinstance\u001B[39m(casted_key, \u001B[38;5;28mslice\u001B[39m) \u001B[38;5;129;01mor\u001B[39;00m (\n\u001B[0;32m   3808\u001B[0m         \u001B[38;5;28misinstance\u001B[39m(casted_key, abc\u001B[38;5;241m.\u001B[39mIterable)\n\u001B[0;32m   3809\u001B[0m         \u001B[38;5;129;01mand\u001B[39;00m \u001B[38;5;28many\u001B[39m(\u001B[38;5;28misinstance\u001B[39m(x, \u001B[38;5;28mslice\u001B[39m) \u001B[38;5;28;01mfor\u001B[39;00m x \u001B[38;5;129;01min\u001B[39;00m casted_key)\n\u001B[0;32m   3810\u001B[0m     ):\n\u001B[0;32m   3811\u001B[0m         \u001B[38;5;28;01mraise\u001B[39;00m InvalidIndexError(key)\n\u001B[1;32m-> 3812\u001B[0m     \u001B[38;5;28;01mraise\u001B[39;00m \u001B[38;5;167;01mKeyError\u001B[39;00m(key) \u001B[38;5;28;01mfrom\u001B[39;00m \u001B[38;5;21;01merr\u001B[39;00m\n\u001B[0;32m   3813\u001B[0m \u001B[38;5;28;01mexcept\u001B[39;00m \u001B[38;5;167;01mTypeError\u001B[39;00m:\n\u001B[0;32m   3814\u001B[0m     \u001B[38;5;66;03m# If we have a listlike key, _check_indexing_error will raise\u001B[39;00m\n\u001B[0;32m   3815\u001B[0m     \u001B[38;5;66;03m#  InvalidIndexError. Otherwise we fall through and re-raise\u001B[39;00m\n\u001B[0;32m   3816\u001B[0m     \u001B[38;5;66;03m#  the TypeError.\u001B[39;00m\n\u001B[0;32m   3817\u001B[0m     \u001B[38;5;28mself\u001B[39m\u001B[38;5;241m.\u001B[39m_check_indexing_error(key)\n",
      "\u001B[1;31mKeyError\u001B[0m: 'hepatopatias'"
     ]
    }
   ],
   "execution_count": 235
  },
  {
   "metadata": {
    "ExecuteTime": {
     "end_time": "2024-05-03T10:15:46.589487Z",
     "start_time": "2024-05-03T10:15:46.553068Z"
    }
   },
   "cell_type": "code",
   "source": [
    "stat, p_value = shapiro(SENSE_PA['hepatopatias'])\n",
    "print(f\"Estadístic W = {stat:.4f}\")\n",
    "print(f\"Valor p = {p_value:.4f}\")\n",
    "\n",
    "alpha = 0.05\n",
    "if p_value < alpha:\n",
    "    print(\"El nombre de files no segueix una distribució normal.\")\n",
    "else:\n",
    "    print(\"El nombre de files segueix una distribució normal\")"
   ],
   "id": "6bb78df14856b8f9",
   "outputs": [
    {
     "ename": "KeyError",
     "evalue": "'hepatopatias'",
     "output_type": "error",
     "traceback": [
      "\u001B[1;31m---------------------------------------------------------------------------\u001B[0m",
      "\u001B[1;31mKeyError\u001B[0m                                  Traceback (most recent call last)",
      "File \u001B[1;32m~\\PycharmProjects\\PRACTICUM\\venv\\Lib\\site-packages\\pandas\\core\\indexes\\base.py:3805\u001B[0m, in \u001B[0;36mIndex.get_loc\u001B[1;34m(self, key)\u001B[0m\n\u001B[0;32m   3804\u001B[0m \u001B[38;5;28;01mtry\u001B[39;00m:\n\u001B[1;32m-> 3805\u001B[0m     \u001B[38;5;28;01mreturn\u001B[39;00m \u001B[38;5;28;43mself\u001B[39;49m\u001B[38;5;241;43m.\u001B[39;49m\u001B[43m_engine\u001B[49m\u001B[38;5;241;43m.\u001B[39;49m\u001B[43mget_loc\u001B[49m\u001B[43m(\u001B[49m\u001B[43mcasted_key\u001B[49m\u001B[43m)\u001B[49m\n\u001B[0;32m   3806\u001B[0m \u001B[38;5;28;01mexcept\u001B[39;00m \u001B[38;5;167;01mKeyError\u001B[39;00m \u001B[38;5;28;01mas\u001B[39;00m err:\n",
      "File \u001B[1;32mindex.pyx:167\u001B[0m, in \u001B[0;36mpandas._libs.index.IndexEngine.get_loc\u001B[1;34m()\u001B[0m\n",
      "File \u001B[1;32mindex.pyx:196\u001B[0m, in \u001B[0;36mpandas._libs.index.IndexEngine.get_loc\u001B[1;34m()\u001B[0m\n",
      "File \u001B[1;32mpandas\\\\_libs\\\\hashtable_class_helper.pxi:7081\u001B[0m, in \u001B[0;36mpandas._libs.hashtable.PyObjectHashTable.get_item\u001B[1;34m()\u001B[0m\n",
      "File \u001B[1;32mpandas\\\\_libs\\\\hashtable_class_helper.pxi:7089\u001B[0m, in \u001B[0;36mpandas._libs.hashtable.PyObjectHashTable.get_item\u001B[1;34m()\u001B[0m\n",
      "\u001B[1;31mKeyError\u001B[0m: 'hepatopatias'",
      "\nThe above exception was the direct cause of the following exception:\n",
      "\u001B[1;31mKeyError\u001B[0m                                  Traceback (most recent call last)",
      "Cell \u001B[1;32mIn[236], line 1\u001B[0m\n\u001B[1;32m----> 1\u001B[0m stat, p_value \u001B[38;5;241m=\u001B[39m shapiro(\u001B[43mSENSE_PA\u001B[49m\u001B[43m[\u001B[49m\u001B[38;5;124;43m'\u001B[39;49m\u001B[38;5;124;43mhepatopatias\u001B[39;49m\u001B[38;5;124;43m'\u001B[39;49m\u001B[43m]\u001B[49m)\n\u001B[0;32m      2\u001B[0m \u001B[38;5;28mprint\u001B[39m(\u001B[38;5;124mf\u001B[39m\u001B[38;5;124m\"\u001B[39m\u001B[38;5;124mEstadístic W = \u001B[39m\u001B[38;5;132;01m{\u001B[39;00mstat\u001B[38;5;132;01m:\u001B[39;00m\u001B[38;5;124m.4f\u001B[39m\u001B[38;5;132;01m}\u001B[39;00m\u001B[38;5;124m\"\u001B[39m)\n\u001B[0;32m      3\u001B[0m \u001B[38;5;28mprint\u001B[39m(\u001B[38;5;124mf\u001B[39m\u001B[38;5;124m\"\u001B[39m\u001B[38;5;124mValor p = \u001B[39m\u001B[38;5;132;01m{\u001B[39;00mp_value\u001B[38;5;132;01m:\u001B[39;00m\u001B[38;5;124m.4f\u001B[39m\u001B[38;5;132;01m}\u001B[39;00m\u001B[38;5;124m\"\u001B[39m)\n",
      "File \u001B[1;32m~\\PycharmProjects\\PRACTICUM\\venv\\Lib\\site-packages\\pandas\\core\\frame.py:4102\u001B[0m, in \u001B[0;36mDataFrame.__getitem__\u001B[1;34m(self, key)\u001B[0m\n\u001B[0;32m   4100\u001B[0m \u001B[38;5;28;01mif\u001B[39;00m \u001B[38;5;28mself\u001B[39m\u001B[38;5;241m.\u001B[39mcolumns\u001B[38;5;241m.\u001B[39mnlevels \u001B[38;5;241m>\u001B[39m \u001B[38;5;241m1\u001B[39m:\n\u001B[0;32m   4101\u001B[0m     \u001B[38;5;28;01mreturn\u001B[39;00m \u001B[38;5;28mself\u001B[39m\u001B[38;5;241m.\u001B[39m_getitem_multilevel(key)\n\u001B[1;32m-> 4102\u001B[0m indexer \u001B[38;5;241m=\u001B[39m \u001B[38;5;28;43mself\u001B[39;49m\u001B[38;5;241;43m.\u001B[39;49m\u001B[43mcolumns\u001B[49m\u001B[38;5;241;43m.\u001B[39;49m\u001B[43mget_loc\u001B[49m\u001B[43m(\u001B[49m\u001B[43mkey\u001B[49m\u001B[43m)\u001B[49m\n\u001B[0;32m   4103\u001B[0m \u001B[38;5;28;01mif\u001B[39;00m is_integer(indexer):\n\u001B[0;32m   4104\u001B[0m     indexer \u001B[38;5;241m=\u001B[39m [indexer]\n",
      "File \u001B[1;32m~\\PycharmProjects\\PRACTICUM\\venv\\Lib\\site-packages\\pandas\\core\\indexes\\base.py:3812\u001B[0m, in \u001B[0;36mIndex.get_loc\u001B[1;34m(self, key)\u001B[0m\n\u001B[0;32m   3807\u001B[0m     \u001B[38;5;28;01mif\u001B[39;00m \u001B[38;5;28misinstance\u001B[39m(casted_key, \u001B[38;5;28mslice\u001B[39m) \u001B[38;5;129;01mor\u001B[39;00m (\n\u001B[0;32m   3808\u001B[0m         \u001B[38;5;28misinstance\u001B[39m(casted_key, abc\u001B[38;5;241m.\u001B[39mIterable)\n\u001B[0;32m   3809\u001B[0m         \u001B[38;5;129;01mand\u001B[39;00m \u001B[38;5;28many\u001B[39m(\u001B[38;5;28misinstance\u001B[39m(x, \u001B[38;5;28mslice\u001B[39m) \u001B[38;5;28;01mfor\u001B[39;00m x \u001B[38;5;129;01min\u001B[39;00m casted_key)\n\u001B[0;32m   3810\u001B[0m     ):\n\u001B[0;32m   3811\u001B[0m         \u001B[38;5;28;01mraise\u001B[39;00m InvalidIndexError(key)\n\u001B[1;32m-> 3812\u001B[0m     \u001B[38;5;28;01mraise\u001B[39;00m \u001B[38;5;167;01mKeyError\u001B[39;00m(key) \u001B[38;5;28;01mfrom\u001B[39;00m \u001B[38;5;21;01merr\u001B[39;00m\n\u001B[0;32m   3813\u001B[0m \u001B[38;5;28;01mexcept\u001B[39;00m \u001B[38;5;167;01mTypeError\u001B[39;00m:\n\u001B[0;32m   3814\u001B[0m     \u001B[38;5;66;03m# If we have a listlike key, _check_indexing_error will raise\u001B[39;00m\n\u001B[0;32m   3815\u001B[0m     \u001B[38;5;66;03m#  InvalidIndexError. Otherwise we fall through and re-raise\u001B[39;00m\n\u001B[0;32m   3816\u001B[0m     \u001B[38;5;66;03m#  the TypeError.\u001B[39;00m\n\u001B[0;32m   3817\u001B[0m     \u001B[38;5;28mself\u001B[39m\u001B[38;5;241m.\u001B[39m_check_indexing_error(key)\n",
      "\u001B[1;31mKeyError\u001B[0m: 'hepatopatias'"
     ]
    }
   ],
   "execution_count": 236
  },
  {
   "metadata": {
    "ExecuteTime": {
     "end_time": "2024-05-03T10:15:46.945509Z",
     "start_time": "2024-05-03T10:15:46.908556Z"
    }
   },
   "cell_type": "code",
   "source": [
    "stat, p_value_12 = mannwhitneyu(AMB_PA['neoplasias'], AMB_PA_MECVV['neoplasias'], alternative='two-sided')\n",
    "print(\"P-valor entre AMB_PA i AMB_PA_MECVV\", p_value_12)"
   ],
   "id": "7e49acda243ca033",
   "outputs": [
    {
     "ename": "KeyError",
     "evalue": "'neoplasias'",
     "output_type": "error",
     "traceback": [
      "\u001B[1;31m---------------------------------------------------------------------------\u001B[0m",
      "\u001B[1;31mKeyError\u001B[0m                                  Traceback (most recent call last)",
      "File \u001B[1;32m~\\PycharmProjects\\PRACTICUM\\venv\\Lib\\site-packages\\pandas\\core\\indexes\\base.py:3805\u001B[0m, in \u001B[0;36mIndex.get_loc\u001B[1;34m(self, key)\u001B[0m\n\u001B[0;32m   3804\u001B[0m \u001B[38;5;28;01mtry\u001B[39;00m:\n\u001B[1;32m-> 3805\u001B[0m     \u001B[38;5;28;01mreturn\u001B[39;00m \u001B[38;5;28;43mself\u001B[39;49m\u001B[38;5;241;43m.\u001B[39;49m\u001B[43m_engine\u001B[49m\u001B[38;5;241;43m.\u001B[39;49m\u001B[43mget_loc\u001B[49m\u001B[43m(\u001B[49m\u001B[43mcasted_key\u001B[49m\u001B[43m)\u001B[49m\n\u001B[0;32m   3806\u001B[0m \u001B[38;5;28;01mexcept\u001B[39;00m \u001B[38;5;167;01mKeyError\u001B[39;00m \u001B[38;5;28;01mas\u001B[39;00m err:\n",
      "File \u001B[1;32mindex.pyx:167\u001B[0m, in \u001B[0;36mpandas._libs.index.IndexEngine.get_loc\u001B[1;34m()\u001B[0m\n",
      "File \u001B[1;32mindex.pyx:196\u001B[0m, in \u001B[0;36mpandas._libs.index.IndexEngine.get_loc\u001B[1;34m()\u001B[0m\n",
      "File \u001B[1;32mpandas\\\\_libs\\\\hashtable_class_helper.pxi:7081\u001B[0m, in \u001B[0;36mpandas._libs.hashtable.PyObjectHashTable.get_item\u001B[1;34m()\u001B[0m\n",
      "File \u001B[1;32mpandas\\\\_libs\\\\hashtable_class_helper.pxi:7089\u001B[0m, in \u001B[0;36mpandas._libs.hashtable.PyObjectHashTable.get_item\u001B[1;34m()\u001B[0m\n",
      "\u001B[1;31mKeyError\u001B[0m: 'neoplasias'",
      "\nThe above exception was the direct cause of the following exception:\n",
      "\u001B[1;31mKeyError\u001B[0m                                  Traceback (most recent call last)",
      "Cell \u001B[1;32mIn[237], line 1\u001B[0m\n\u001B[1;32m----> 1\u001B[0m stat, p_value_12 \u001B[38;5;241m=\u001B[39m mannwhitneyu(\u001B[43mAMB_PA\u001B[49m\u001B[43m[\u001B[49m\u001B[38;5;124;43m'\u001B[39;49m\u001B[38;5;124;43mneoplasias\u001B[39;49m\u001B[38;5;124;43m'\u001B[39;49m\u001B[43m]\u001B[49m, AMB_PA_MECVV[\u001B[38;5;124m'\u001B[39m\u001B[38;5;124mneoplasias\u001B[39m\u001B[38;5;124m'\u001B[39m], alternative\u001B[38;5;241m=\u001B[39m\u001B[38;5;124m'\u001B[39m\u001B[38;5;124mtwo-sided\u001B[39m\u001B[38;5;124m'\u001B[39m)\n\u001B[0;32m      2\u001B[0m \u001B[38;5;28mprint\u001B[39m(\u001B[38;5;124m\"\u001B[39m\u001B[38;5;124mP-valor entre AMB_PA i AMB_PA_MECVV\u001B[39m\u001B[38;5;124m\"\u001B[39m, p_value_12)\n",
      "File \u001B[1;32m~\\PycharmProjects\\PRACTICUM\\venv\\Lib\\site-packages\\pandas\\core\\frame.py:4102\u001B[0m, in \u001B[0;36mDataFrame.__getitem__\u001B[1;34m(self, key)\u001B[0m\n\u001B[0;32m   4100\u001B[0m \u001B[38;5;28;01mif\u001B[39;00m \u001B[38;5;28mself\u001B[39m\u001B[38;5;241m.\u001B[39mcolumns\u001B[38;5;241m.\u001B[39mnlevels \u001B[38;5;241m>\u001B[39m \u001B[38;5;241m1\u001B[39m:\n\u001B[0;32m   4101\u001B[0m     \u001B[38;5;28;01mreturn\u001B[39;00m \u001B[38;5;28mself\u001B[39m\u001B[38;5;241m.\u001B[39m_getitem_multilevel(key)\n\u001B[1;32m-> 4102\u001B[0m indexer \u001B[38;5;241m=\u001B[39m \u001B[38;5;28;43mself\u001B[39;49m\u001B[38;5;241;43m.\u001B[39;49m\u001B[43mcolumns\u001B[49m\u001B[38;5;241;43m.\u001B[39;49m\u001B[43mget_loc\u001B[49m\u001B[43m(\u001B[49m\u001B[43mkey\u001B[49m\u001B[43m)\u001B[49m\n\u001B[0;32m   4103\u001B[0m \u001B[38;5;28;01mif\u001B[39;00m is_integer(indexer):\n\u001B[0;32m   4104\u001B[0m     indexer \u001B[38;5;241m=\u001B[39m [indexer]\n",
      "File \u001B[1;32m~\\PycharmProjects\\PRACTICUM\\venv\\Lib\\site-packages\\pandas\\core\\indexes\\base.py:3812\u001B[0m, in \u001B[0;36mIndex.get_loc\u001B[1;34m(self, key)\u001B[0m\n\u001B[0;32m   3807\u001B[0m     \u001B[38;5;28;01mif\u001B[39;00m \u001B[38;5;28misinstance\u001B[39m(casted_key, \u001B[38;5;28mslice\u001B[39m) \u001B[38;5;129;01mor\u001B[39;00m (\n\u001B[0;32m   3808\u001B[0m         \u001B[38;5;28misinstance\u001B[39m(casted_key, abc\u001B[38;5;241m.\u001B[39mIterable)\n\u001B[0;32m   3809\u001B[0m         \u001B[38;5;129;01mand\u001B[39;00m \u001B[38;5;28many\u001B[39m(\u001B[38;5;28misinstance\u001B[39m(x, \u001B[38;5;28mslice\u001B[39m) \u001B[38;5;28;01mfor\u001B[39;00m x \u001B[38;5;129;01min\u001B[39;00m casted_key)\n\u001B[0;32m   3810\u001B[0m     ):\n\u001B[0;32m   3811\u001B[0m         \u001B[38;5;28;01mraise\u001B[39;00m InvalidIndexError(key)\n\u001B[1;32m-> 3812\u001B[0m     \u001B[38;5;28;01mraise\u001B[39;00m \u001B[38;5;167;01mKeyError\u001B[39;00m(key) \u001B[38;5;28;01mfrom\u001B[39;00m \u001B[38;5;21;01merr\u001B[39;00m\n\u001B[0;32m   3813\u001B[0m \u001B[38;5;28;01mexcept\u001B[39;00m \u001B[38;5;167;01mTypeError\u001B[39;00m:\n\u001B[0;32m   3814\u001B[0m     \u001B[38;5;66;03m# If we have a listlike key, _check_indexing_error will raise\u001B[39;00m\n\u001B[0;32m   3815\u001B[0m     \u001B[38;5;66;03m#  InvalidIndexError. Otherwise we fall through and re-raise\u001B[39;00m\n\u001B[0;32m   3816\u001B[0m     \u001B[38;5;66;03m#  the TypeError.\u001B[39;00m\n\u001B[0;32m   3817\u001B[0m     \u001B[38;5;28mself\u001B[39m\u001B[38;5;241m.\u001B[39m_check_indexing_error(key)\n",
      "\u001B[1;31mKeyError\u001B[0m: 'neoplasias'"
     ]
    }
   ],
   "execution_count": 237
  },
  {
   "metadata": {
    "ExecuteTime": {
     "end_time": "2024-05-03T10:15:47.256645Z",
     "start_time": "2024-05-03T10:15:47.215567Z"
    }
   },
   "cell_type": "code",
   "source": [
    "stat, p_value_13 = mannwhitneyu(AMB_PA['neoplasias'], SENSE_PA['neoplasias'], alternative='two-sided')\n",
    "print(\"P-valor entre AMB_PA i SENSE_PA\", p_value_12)"
   ],
   "id": "19de53eaca6faf46",
   "outputs": [
    {
     "ename": "KeyError",
     "evalue": "'neoplasias'",
     "output_type": "error",
     "traceback": [
      "\u001B[1;31m---------------------------------------------------------------------------\u001B[0m",
      "\u001B[1;31mKeyError\u001B[0m                                  Traceback (most recent call last)",
      "File \u001B[1;32m~\\PycharmProjects\\PRACTICUM\\venv\\Lib\\site-packages\\pandas\\core\\indexes\\base.py:3805\u001B[0m, in \u001B[0;36mIndex.get_loc\u001B[1;34m(self, key)\u001B[0m\n\u001B[0;32m   3804\u001B[0m \u001B[38;5;28;01mtry\u001B[39;00m:\n\u001B[1;32m-> 3805\u001B[0m     \u001B[38;5;28;01mreturn\u001B[39;00m \u001B[38;5;28;43mself\u001B[39;49m\u001B[38;5;241;43m.\u001B[39;49m\u001B[43m_engine\u001B[49m\u001B[38;5;241;43m.\u001B[39;49m\u001B[43mget_loc\u001B[49m\u001B[43m(\u001B[49m\u001B[43mcasted_key\u001B[49m\u001B[43m)\u001B[49m\n\u001B[0;32m   3806\u001B[0m \u001B[38;5;28;01mexcept\u001B[39;00m \u001B[38;5;167;01mKeyError\u001B[39;00m \u001B[38;5;28;01mas\u001B[39;00m err:\n",
      "File \u001B[1;32mindex.pyx:167\u001B[0m, in \u001B[0;36mpandas._libs.index.IndexEngine.get_loc\u001B[1;34m()\u001B[0m\n",
      "File \u001B[1;32mindex.pyx:196\u001B[0m, in \u001B[0;36mpandas._libs.index.IndexEngine.get_loc\u001B[1;34m()\u001B[0m\n",
      "File \u001B[1;32mpandas\\\\_libs\\\\hashtable_class_helper.pxi:7081\u001B[0m, in \u001B[0;36mpandas._libs.hashtable.PyObjectHashTable.get_item\u001B[1;34m()\u001B[0m\n",
      "File \u001B[1;32mpandas\\\\_libs\\\\hashtable_class_helper.pxi:7089\u001B[0m, in \u001B[0;36mpandas._libs.hashtable.PyObjectHashTable.get_item\u001B[1;34m()\u001B[0m\n",
      "\u001B[1;31mKeyError\u001B[0m: 'neoplasias'",
      "\nThe above exception was the direct cause of the following exception:\n",
      "\u001B[1;31mKeyError\u001B[0m                                  Traceback (most recent call last)",
      "Cell \u001B[1;32mIn[238], line 1\u001B[0m\n\u001B[1;32m----> 1\u001B[0m stat, p_value_13 \u001B[38;5;241m=\u001B[39m mannwhitneyu(\u001B[43mAMB_PA\u001B[49m\u001B[43m[\u001B[49m\u001B[38;5;124;43m'\u001B[39;49m\u001B[38;5;124;43mneoplasias\u001B[39;49m\u001B[38;5;124;43m'\u001B[39;49m\u001B[43m]\u001B[49m, SENSE_PA[\u001B[38;5;124m'\u001B[39m\u001B[38;5;124mneoplasias\u001B[39m\u001B[38;5;124m'\u001B[39m], alternative\u001B[38;5;241m=\u001B[39m\u001B[38;5;124m'\u001B[39m\u001B[38;5;124mtwo-sided\u001B[39m\u001B[38;5;124m'\u001B[39m)\n\u001B[0;32m      2\u001B[0m \u001B[38;5;28mprint\u001B[39m(\u001B[38;5;124m\"\u001B[39m\u001B[38;5;124mP-valor entre AMB_PA i SENSE_PA\u001B[39m\u001B[38;5;124m\"\u001B[39m, p_value_12)\n",
      "File \u001B[1;32m~\\PycharmProjects\\PRACTICUM\\venv\\Lib\\site-packages\\pandas\\core\\frame.py:4102\u001B[0m, in \u001B[0;36mDataFrame.__getitem__\u001B[1;34m(self, key)\u001B[0m\n\u001B[0;32m   4100\u001B[0m \u001B[38;5;28;01mif\u001B[39;00m \u001B[38;5;28mself\u001B[39m\u001B[38;5;241m.\u001B[39mcolumns\u001B[38;5;241m.\u001B[39mnlevels \u001B[38;5;241m>\u001B[39m \u001B[38;5;241m1\u001B[39m:\n\u001B[0;32m   4101\u001B[0m     \u001B[38;5;28;01mreturn\u001B[39;00m \u001B[38;5;28mself\u001B[39m\u001B[38;5;241m.\u001B[39m_getitem_multilevel(key)\n\u001B[1;32m-> 4102\u001B[0m indexer \u001B[38;5;241m=\u001B[39m \u001B[38;5;28;43mself\u001B[39;49m\u001B[38;5;241;43m.\u001B[39;49m\u001B[43mcolumns\u001B[49m\u001B[38;5;241;43m.\u001B[39;49m\u001B[43mget_loc\u001B[49m\u001B[43m(\u001B[49m\u001B[43mkey\u001B[49m\u001B[43m)\u001B[49m\n\u001B[0;32m   4103\u001B[0m \u001B[38;5;28;01mif\u001B[39;00m is_integer(indexer):\n\u001B[0;32m   4104\u001B[0m     indexer \u001B[38;5;241m=\u001B[39m [indexer]\n",
      "File \u001B[1;32m~\\PycharmProjects\\PRACTICUM\\venv\\Lib\\site-packages\\pandas\\core\\indexes\\base.py:3812\u001B[0m, in \u001B[0;36mIndex.get_loc\u001B[1;34m(self, key)\u001B[0m\n\u001B[0;32m   3807\u001B[0m     \u001B[38;5;28;01mif\u001B[39;00m \u001B[38;5;28misinstance\u001B[39m(casted_key, \u001B[38;5;28mslice\u001B[39m) \u001B[38;5;129;01mor\u001B[39;00m (\n\u001B[0;32m   3808\u001B[0m         \u001B[38;5;28misinstance\u001B[39m(casted_key, abc\u001B[38;5;241m.\u001B[39mIterable)\n\u001B[0;32m   3809\u001B[0m         \u001B[38;5;129;01mand\u001B[39;00m \u001B[38;5;28many\u001B[39m(\u001B[38;5;28misinstance\u001B[39m(x, \u001B[38;5;28mslice\u001B[39m) \u001B[38;5;28;01mfor\u001B[39;00m x \u001B[38;5;129;01min\u001B[39;00m casted_key)\n\u001B[0;32m   3810\u001B[0m     ):\n\u001B[0;32m   3811\u001B[0m         \u001B[38;5;28;01mraise\u001B[39;00m InvalidIndexError(key)\n\u001B[1;32m-> 3812\u001B[0m     \u001B[38;5;28;01mraise\u001B[39;00m \u001B[38;5;167;01mKeyError\u001B[39;00m(key) \u001B[38;5;28;01mfrom\u001B[39;00m \u001B[38;5;21;01merr\u001B[39;00m\n\u001B[0;32m   3813\u001B[0m \u001B[38;5;28;01mexcept\u001B[39;00m \u001B[38;5;167;01mTypeError\u001B[39;00m:\n\u001B[0;32m   3814\u001B[0m     \u001B[38;5;66;03m# If we have a listlike key, _check_indexing_error will raise\u001B[39;00m\n\u001B[0;32m   3815\u001B[0m     \u001B[38;5;66;03m#  InvalidIndexError. Otherwise we fall through and re-raise\u001B[39;00m\n\u001B[0;32m   3816\u001B[0m     \u001B[38;5;66;03m#  the TypeError.\u001B[39;00m\n\u001B[0;32m   3817\u001B[0m     \u001B[38;5;28mself\u001B[39m\u001B[38;5;241m.\u001B[39m_check_indexing_error(key)\n",
      "\u001B[1;31mKeyError\u001B[0m: 'neoplasias'"
     ]
    }
   ],
   "execution_count": 238
  },
  {
   "metadata": {
    "ExecuteTime": {
     "end_time": "2024-05-03T10:15:47.489606Z",
     "start_time": "2024-05-03T10:15:47.448683Z"
    }
   },
   "cell_type": "code",
   "source": [
    "stat, p_value_23 = mannwhitneyu(AMB_PA_MECVV['neoplasias'], SENSE_PA['neoplasias'], alternative='two-sided')\n",
    "print(\"P-valor entre AMB_PA_MECVV i SENSE_PA\", p_value_23)"
   ],
   "id": "d041e42afd281dba",
   "outputs": [
    {
     "ename": "KeyError",
     "evalue": "'neoplasias'",
     "output_type": "error",
     "traceback": [
      "\u001B[1;31m---------------------------------------------------------------------------\u001B[0m",
      "\u001B[1;31mKeyError\u001B[0m                                  Traceback (most recent call last)",
      "File \u001B[1;32m~\\PycharmProjects\\PRACTICUM\\venv\\Lib\\site-packages\\pandas\\core\\indexes\\base.py:3805\u001B[0m, in \u001B[0;36mIndex.get_loc\u001B[1;34m(self, key)\u001B[0m\n\u001B[0;32m   3804\u001B[0m \u001B[38;5;28;01mtry\u001B[39;00m:\n\u001B[1;32m-> 3805\u001B[0m     \u001B[38;5;28;01mreturn\u001B[39;00m \u001B[38;5;28;43mself\u001B[39;49m\u001B[38;5;241;43m.\u001B[39;49m\u001B[43m_engine\u001B[49m\u001B[38;5;241;43m.\u001B[39;49m\u001B[43mget_loc\u001B[49m\u001B[43m(\u001B[49m\u001B[43mcasted_key\u001B[49m\u001B[43m)\u001B[49m\n\u001B[0;32m   3806\u001B[0m \u001B[38;5;28;01mexcept\u001B[39;00m \u001B[38;5;167;01mKeyError\u001B[39;00m \u001B[38;5;28;01mas\u001B[39;00m err:\n",
      "File \u001B[1;32mindex.pyx:167\u001B[0m, in \u001B[0;36mpandas._libs.index.IndexEngine.get_loc\u001B[1;34m()\u001B[0m\n",
      "File \u001B[1;32mindex.pyx:196\u001B[0m, in \u001B[0;36mpandas._libs.index.IndexEngine.get_loc\u001B[1;34m()\u001B[0m\n",
      "File \u001B[1;32mpandas\\\\_libs\\\\hashtable_class_helper.pxi:7081\u001B[0m, in \u001B[0;36mpandas._libs.hashtable.PyObjectHashTable.get_item\u001B[1;34m()\u001B[0m\n",
      "File \u001B[1;32mpandas\\\\_libs\\\\hashtable_class_helper.pxi:7089\u001B[0m, in \u001B[0;36mpandas._libs.hashtable.PyObjectHashTable.get_item\u001B[1;34m()\u001B[0m\n",
      "\u001B[1;31mKeyError\u001B[0m: 'neoplasias'",
      "\nThe above exception was the direct cause of the following exception:\n",
      "\u001B[1;31mKeyError\u001B[0m                                  Traceback (most recent call last)",
      "Cell \u001B[1;32mIn[239], line 1\u001B[0m\n\u001B[1;32m----> 1\u001B[0m stat, p_value_23 \u001B[38;5;241m=\u001B[39m mannwhitneyu(\u001B[43mAMB_PA_MECVV\u001B[49m\u001B[43m[\u001B[49m\u001B[38;5;124;43m'\u001B[39;49m\u001B[38;5;124;43mneoplasias\u001B[39;49m\u001B[38;5;124;43m'\u001B[39;49m\u001B[43m]\u001B[49m, SENSE_PA[\u001B[38;5;124m'\u001B[39m\u001B[38;5;124mneoplasias\u001B[39m\u001B[38;5;124m'\u001B[39m], alternative\u001B[38;5;241m=\u001B[39m\u001B[38;5;124m'\u001B[39m\u001B[38;5;124mtwo-sided\u001B[39m\u001B[38;5;124m'\u001B[39m)\n\u001B[0;32m      2\u001B[0m \u001B[38;5;28mprint\u001B[39m(\u001B[38;5;124m\"\u001B[39m\u001B[38;5;124mP-valor entre AMB_PA_MECVV i SENSE_PA\u001B[39m\u001B[38;5;124m\"\u001B[39m, p_value_23)\n",
      "File \u001B[1;32m~\\PycharmProjects\\PRACTICUM\\venv\\Lib\\site-packages\\pandas\\core\\frame.py:4102\u001B[0m, in \u001B[0;36mDataFrame.__getitem__\u001B[1;34m(self, key)\u001B[0m\n\u001B[0;32m   4100\u001B[0m \u001B[38;5;28;01mif\u001B[39;00m \u001B[38;5;28mself\u001B[39m\u001B[38;5;241m.\u001B[39mcolumns\u001B[38;5;241m.\u001B[39mnlevels \u001B[38;5;241m>\u001B[39m \u001B[38;5;241m1\u001B[39m:\n\u001B[0;32m   4101\u001B[0m     \u001B[38;5;28;01mreturn\u001B[39;00m \u001B[38;5;28mself\u001B[39m\u001B[38;5;241m.\u001B[39m_getitem_multilevel(key)\n\u001B[1;32m-> 4102\u001B[0m indexer \u001B[38;5;241m=\u001B[39m \u001B[38;5;28;43mself\u001B[39;49m\u001B[38;5;241;43m.\u001B[39;49m\u001B[43mcolumns\u001B[49m\u001B[38;5;241;43m.\u001B[39;49m\u001B[43mget_loc\u001B[49m\u001B[43m(\u001B[49m\u001B[43mkey\u001B[49m\u001B[43m)\u001B[49m\n\u001B[0;32m   4103\u001B[0m \u001B[38;5;28;01mif\u001B[39;00m is_integer(indexer):\n\u001B[0;32m   4104\u001B[0m     indexer \u001B[38;5;241m=\u001B[39m [indexer]\n",
      "File \u001B[1;32m~\\PycharmProjects\\PRACTICUM\\venv\\Lib\\site-packages\\pandas\\core\\indexes\\base.py:3812\u001B[0m, in \u001B[0;36mIndex.get_loc\u001B[1;34m(self, key)\u001B[0m\n\u001B[0;32m   3807\u001B[0m     \u001B[38;5;28;01mif\u001B[39;00m \u001B[38;5;28misinstance\u001B[39m(casted_key, \u001B[38;5;28mslice\u001B[39m) \u001B[38;5;129;01mor\u001B[39;00m (\n\u001B[0;32m   3808\u001B[0m         \u001B[38;5;28misinstance\u001B[39m(casted_key, abc\u001B[38;5;241m.\u001B[39mIterable)\n\u001B[0;32m   3809\u001B[0m         \u001B[38;5;129;01mand\u001B[39;00m \u001B[38;5;28many\u001B[39m(\u001B[38;5;28misinstance\u001B[39m(x, \u001B[38;5;28mslice\u001B[39m) \u001B[38;5;28;01mfor\u001B[39;00m x \u001B[38;5;129;01min\u001B[39;00m casted_key)\n\u001B[0;32m   3810\u001B[0m     ):\n\u001B[0;32m   3811\u001B[0m         \u001B[38;5;28;01mraise\u001B[39;00m InvalidIndexError(key)\n\u001B[1;32m-> 3812\u001B[0m     \u001B[38;5;28;01mraise\u001B[39;00m \u001B[38;5;167;01mKeyError\u001B[39;00m(key) \u001B[38;5;28;01mfrom\u001B[39;00m \u001B[38;5;21;01merr\u001B[39;00m\n\u001B[0;32m   3813\u001B[0m \u001B[38;5;28;01mexcept\u001B[39;00m \u001B[38;5;167;01mTypeError\u001B[39;00m:\n\u001B[0;32m   3814\u001B[0m     \u001B[38;5;66;03m# If we have a listlike key, _check_indexing_error will raise\u001B[39;00m\n\u001B[0;32m   3815\u001B[0m     \u001B[38;5;66;03m#  InvalidIndexError. Otherwise we fall through and re-raise\u001B[39;00m\n\u001B[0;32m   3816\u001B[0m     \u001B[38;5;66;03m#  the TypeError.\u001B[39;00m\n\u001B[0;32m   3817\u001B[0m     \u001B[38;5;28mself\u001B[39m\u001B[38;5;241m.\u001B[39m_check_indexing_error(key)\n",
      "\u001B[1;31mKeyError\u001B[0m: 'neoplasias'"
     ]
    }
   ],
   "execution_count": 239
  },
  {
   "metadata": {},
   "cell_type": "markdown",
   "source": [
    "## Malaltia crònica renal (creatinina > 1.5mg/dL)"
   ],
   "id": "be977a70d2e9a7c"
  },
  {
   "metadata": {},
   "cell_type": "markdown",
   "source": [
    "Donat que aquesta columna és de tipus objecte, primer la passaré a tipus numèric per poder operar amb ella"
   ],
   "id": "104b74d04d4f6f25"
  },
  {
   "metadata": {
    "ExecuteTime": {
     "end_time": "2024-05-03T10:15:47.841374Z",
     "start_time": "2024-05-03T10:15:47.803427Z"
    }
   },
   "cell_type": "code",
   "source": [
    "AMB_PA.loc[:, 'creatinina'] = pd.to_numeric(AMB_PA['creatinina'], errors='coerce')\n",
    "AMB_PA_MECVV.loc[:, 'creatinina'] = pd.to_numeric(AMB_PA_MECVV['creatinina'], errors='coerce')\n",
    "SENSE_PA.loc[:, 'creatinina'] = pd.to_numeric(SENSE_PA['creatinina'], errors='coerce')"
   ],
   "id": "44a54bc94beb324a",
   "outputs": [
    {
     "ename": "KeyError",
     "evalue": "'creatinina'",
     "output_type": "error",
     "traceback": [
      "\u001B[1;31m---------------------------------------------------------------------------\u001B[0m",
      "\u001B[1;31mKeyError\u001B[0m                                  Traceback (most recent call last)",
      "File \u001B[1;32m~\\PycharmProjects\\PRACTICUM\\venv\\Lib\\site-packages\\pandas\\core\\indexes\\base.py:3805\u001B[0m, in \u001B[0;36mIndex.get_loc\u001B[1;34m(self, key)\u001B[0m\n\u001B[0;32m   3804\u001B[0m \u001B[38;5;28;01mtry\u001B[39;00m:\n\u001B[1;32m-> 3805\u001B[0m     \u001B[38;5;28;01mreturn\u001B[39;00m \u001B[38;5;28;43mself\u001B[39;49m\u001B[38;5;241;43m.\u001B[39;49m\u001B[43m_engine\u001B[49m\u001B[38;5;241;43m.\u001B[39;49m\u001B[43mget_loc\u001B[49m\u001B[43m(\u001B[49m\u001B[43mcasted_key\u001B[49m\u001B[43m)\u001B[49m\n\u001B[0;32m   3806\u001B[0m \u001B[38;5;28;01mexcept\u001B[39;00m \u001B[38;5;167;01mKeyError\u001B[39;00m \u001B[38;5;28;01mas\u001B[39;00m err:\n",
      "File \u001B[1;32mindex.pyx:167\u001B[0m, in \u001B[0;36mpandas._libs.index.IndexEngine.get_loc\u001B[1;34m()\u001B[0m\n",
      "File \u001B[1;32mindex.pyx:196\u001B[0m, in \u001B[0;36mpandas._libs.index.IndexEngine.get_loc\u001B[1;34m()\u001B[0m\n",
      "File \u001B[1;32mpandas\\\\_libs\\\\hashtable_class_helper.pxi:7081\u001B[0m, in \u001B[0;36mpandas._libs.hashtable.PyObjectHashTable.get_item\u001B[1;34m()\u001B[0m\n",
      "File \u001B[1;32mpandas\\\\_libs\\\\hashtable_class_helper.pxi:7089\u001B[0m, in \u001B[0;36mpandas._libs.hashtable.PyObjectHashTable.get_item\u001B[1;34m()\u001B[0m\n",
      "\u001B[1;31mKeyError\u001B[0m: 'creatinina'",
      "\nThe above exception was the direct cause of the following exception:\n",
      "\u001B[1;31mKeyError\u001B[0m                                  Traceback (most recent call last)",
      "Cell \u001B[1;32mIn[240], line 1\u001B[0m\n\u001B[1;32m----> 1\u001B[0m AMB_PA\u001B[38;5;241m.\u001B[39mloc[:, \u001B[38;5;124m'\u001B[39m\u001B[38;5;124mcreatinina\u001B[39m\u001B[38;5;124m'\u001B[39m] \u001B[38;5;241m=\u001B[39m pd\u001B[38;5;241m.\u001B[39mto_numeric(\u001B[43mAMB_PA\u001B[49m\u001B[43m[\u001B[49m\u001B[38;5;124;43m'\u001B[39;49m\u001B[38;5;124;43mcreatinina\u001B[39;49m\u001B[38;5;124;43m'\u001B[39;49m\u001B[43m]\u001B[49m, errors\u001B[38;5;241m=\u001B[39m\u001B[38;5;124m'\u001B[39m\u001B[38;5;124mcoerce\u001B[39m\u001B[38;5;124m'\u001B[39m)\n\u001B[0;32m      2\u001B[0m AMB_PA_MECVV\u001B[38;5;241m.\u001B[39mloc[:, \u001B[38;5;124m'\u001B[39m\u001B[38;5;124mcreatinina\u001B[39m\u001B[38;5;124m'\u001B[39m] \u001B[38;5;241m=\u001B[39m pd\u001B[38;5;241m.\u001B[39mto_numeric(AMB_PA_MECVV[\u001B[38;5;124m'\u001B[39m\u001B[38;5;124mcreatinina\u001B[39m\u001B[38;5;124m'\u001B[39m], errors\u001B[38;5;241m=\u001B[39m\u001B[38;5;124m'\u001B[39m\u001B[38;5;124mcoerce\u001B[39m\u001B[38;5;124m'\u001B[39m)\n\u001B[0;32m      3\u001B[0m SENSE_PA\u001B[38;5;241m.\u001B[39mloc[:, \u001B[38;5;124m'\u001B[39m\u001B[38;5;124mcreatinina\u001B[39m\u001B[38;5;124m'\u001B[39m] \u001B[38;5;241m=\u001B[39m pd\u001B[38;5;241m.\u001B[39mto_numeric(SENSE_PA[\u001B[38;5;124m'\u001B[39m\u001B[38;5;124mcreatinina\u001B[39m\u001B[38;5;124m'\u001B[39m], errors\u001B[38;5;241m=\u001B[39m\u001B[38;5;124m'\u001B[39m\u001B[38;5;124mcoerce\u001B[39m\u001B[38;5;124m'\u001B[39m)\n",
      "File \u001B[1;32m~\\PycharmProjects\\PRACTICUM\\venv\\Lib\\site-packages\\pandas\\core\\frame.py:4102\u001B[0m, in \u001B[0;36mDataFrame.__getitem__\u001B[1;34m(self, key)\u001B[0m\n\u001B[0;32m   4100\u001B[0m \u001B[38;5;28;01mif\u001B[39;00m \u001B[38;5;28mself\u001B[39m\u001B[38;5;241m.\u001B[39mcolumns\u001B[38;5;241m.\u001B[39mnlevels \u001B[38;5;241m>\u001B[39m \u001B[38;5;241m1\u001B[39m:\n\u001B[0;32m   4101\u001B[0m     \u001B[38;5;28;01mreturn\u001B[39;00m \u001B[38;5;28mself\u001B[39m\u001B[38;5;241m.\u001B[39m_getitem_multilevel(key)\n\u001B[1;32m-> 4102\u001B[0m indexer \u001B[38;5;241m=\u001B[39m \u001B[38;5;28;43mself\u001B[39;49m\u001B[38;5;241;43m.\u001B[39;49m\u001B[43mcolumns\u001B[49m\u001B[38;5;241;43m.\u001B[39;49m\u001B[43mget_loc\u001B[49m\u001B[43m(\u001B[49m\u001B[43mkey\u001B[49m\u001B[43m)\u001B[49m\n\u001B[0;32m   4103\u001B[0m \u001B[38;5;28;01mif\u001B[39;00m is_integer(indexer):\n\u001B[0;32m   4104\u001B[0m     indexer \u001B[38;5;241m=\u001B[39m [indexer]\n",
      "File \u001B[1;32m~\\PycharmProjects\\PRACTICUM\\venv\\Lib\\site-packages\\pandas\\core\\indexes\\base.py:3812\u001B[0m, in \u001B[0;36mIndex.get_loc\u001B[1;34m(self, key)\u001B[0m\n\u001B[0;32m   3807\u001B[0m     \u001B[38;5;28;01mif\u001B[39;00m \u001B[38;5;28misinstance\u001B[39m(casted_key, \u001B[38;5;28mslice\u001B[39m) \u001B[38;5;129;01mor\u001B[39;00m (\n\u001B[0;32m   3808\u001B[0m         \u001B[38;5;28misinstance\u001B[39m(casted_key, abc\u001B[38;5;241m.\u001B[39mIterable)\n\u001B[0;32m   3809\u001B[0m         \u001B[38;5;129;01mand\u001B[39;00m \u001B[38;5;28many\u001B[39m(\u001B[38;5;28misinstance\u001B[39m(x, \u001B[38;5;28mslice\u001B[39m) \u001B[38;5;28;01mfor\u001B[39;00m x \u001B[38;5;129;01min\u001B[39;00m casted_key)\n\u001B[0;32m   3810\u001B[0m     ):\n\u001B[0;32m   3811\u001B[0m         \u001B[38;5;28;01mraise\u001B[39;00m InvalidIndexError(key)\n\u001B[1;32m-> 3812\u001B[0m     \u001B[38;5;28;01mraise\u001B[39;00m \u001B[38;5;167;01mKeyError\u001B[39;00m(key) \u001B[38;5;28;01mfrom\u001B[39;00m \u001B[38;5;21;01merr\u001B[39;00m\n\u001B[0;32m   3813\u001B[0m \u001B[38;5;28;01mexcept\u001B[39;00m \u001B[38;5;167;01mTypeError\u001B[39;00m:\n\u001B[0;32m   3814\u001B[0m     \u001B[38;5;66;03m# If we have a listlike key, _check_indexing_error will raise\u001B[39;00m\n\u001B[0;32m   3815\u001B[0m     \u001B[38;5;66;03m#  InvalidIndexError. Otherwise we fall through and re-raise\u001B[39;00m\n\u001B[0;32m   3816\u001B[0m     \u001B[38;5;66;03m#  the TypeError.\u001B[39;00m\n\u001B[0;32m   3817\u001B[0m     \u001B[38;5;28mself\u001B[39m\u001B[38;5;241m.\u001B[39m_check_indexing_error(key)\n",
      "\u001B[1;31mKeyError\u001B[0m: 'creatinina'"
     ]
    }
   ],
   "execution_count": 240
  },
  {
   "metadata": {
    "ExecuteTime": {
     "end_time": "2024-05-03T10:15:48.150497Z",
     "start_time": "2024-05-03T10:15:48.112157Z"
    }
   },
   "cell_type": "code",
   "source": [
    "ecr_AMB_PA= (AMB_PA['creatinina'] >= 1.5).mean() * 100\n",
    "print(f\"Percentatge de malaltia crònica renal amb creatinina >1.5: {ecr_AMB_PA:.2f}%\")"
   ],
   "id": "1220b795ea747457",
   "outputs": [
    {
     "ename": "KeyError",
     "evalue": "'creatinina'",
     "output_type": "error",
     "traceback": [
      "\u001B[1;31m---------------------------------------------------------------------------\u001B[0m",
      "\u001B[1;31mKeyError\u001B[0m                                  Traceback (most recent call last)",
      "File \u001B[1;32m~\\PycharmProjects\\PRACTICUM\\venv\\Lib\\site-packages\\pandas\\core\\indexes\\base.py:3805\u001B[0m, in \u001B[0;36mIndex.get_loc\u001B[1;34m(self, key)\u001B[0m\n\u001B[0;32m   3804\u001B[0m \u001B[38;5;28;01mtry\u001B[39;00m:\n\u001B[1;32m-> 3805\u001B[0m     \u001B[38;5;28;01mreturn\u001B[39;00m \u001B[38;5;28;43mself\u001B[39;49m\u001B[38;5;241;43m.\u001B[39;49m\u001B[43m_engine\u001B[49m\u001B[38;5;241;43m.\u001B[39;49m\u001B[43mget_loc\u001B[49m\u001B[43m(\u001B[49m\u001B[43mcasted_key\u001B[49m\u001B[43m)\u001B[49m\n\u001B[0;32m   3806\u001B[0m \u001B[38;5;28;01mexcept\u001B[39;00m \u001B[38;5;167;01mKeyError\u001B[39;00m \u001B[38;5;28;01mas\u001B[39;00m err:\n",
      "File \u001B[1;32mindex.pyx:167\u001B[0m, in \u001B[0;36mpandas._libs.index.IndexEngine.get_loc\u001B[1;34m()\u001B[0m\n",
      "File \u001B[1;32mindex.pyx:196\u001B[0m, in \u001B[0;36mpandas._libs.index.IndexEngine.get_loc\u001B[1;34m()\u001B[0m\n",
      "File \u001B[1;32mpandas\\\\_libs\\\\hashtable_class_helper.pxi:7081\u001B[0m, in \u001B[0;36mpandas._libs.hashtable.PyObjectHashTable.get_item\u001B[1;34m()\u001B[0m\n",
      "File \u001B[1;32mpandas\\\\_libs\\\\hashtable_class_helper.pxi:7089\u001B[0m, in \u001B[0;36mpandas._libs.hashtable.PyObjectHashTable.get_item\u001B[1;34m()\u001B[0m\n",
      "\u001B[1;31mKeyError\u001B[0m: 'creatinina'",
      "\nThe above exception was the direct cause of the following exception:\n",
      "\u001B[1;31mKeyError\u001B[0m                                  Traceback (most recent call last)",
      "Cell \u001B[1;32mIn[241], line 1\u001B[0m\n\u001B[1;32m----> 1\u001B[0m ecr_AMB_PA\u001B[38;5;241m=\u001B[39m (\u001B[43mAMB_PA\u001B[49m\u001B[43m[\u001B[49m\u001B[38;5;124;43m'\u001B[39;49m\u001B[38;5;124;43mcreatinina\u001B[39;49m\u001B[38;5;124;43m'\u001B[39;49m\u001B[43m]\u001B[49m \u001B[38;5;241m>\u001B[39m\u001B[38;5;241m=\u001B[39m \u001B[38;5;241m1.5\u001B[39m)\u001B[38;5;241m.\u001B[39mmean() \u001B[38;5;241m*\u001B[39m \u001B[38;5;241m100\u001B[39m\n\u001B[0;32m      2\u001B[0m \u001B[38;5;28mprint\u001B[39m(\u001B[38;5;124mf\u001B[39m\u001B[38;5;124m\"\u001B[39m\u001B[38;5;124mPercentatge de malaltia crònica renal amb creatinina >1.5: \u001B[39m\u001B[38;5;132;01m{\u001B[39;00mecr_AMB_PA\u001B[38;5;132;01m:\u001B[39;00m\u001B[38;5;124m.2f\u001B[39m\u001B[38;5;132;01m}\u001B[39;00m\u001B[38;5;124m%\u001B[39m\u001B[38;5;124m\"\u001B[39m)\n",
      "File \u001B[1;32m~\\PycharmProjects\\PRACTICUM\\venv\\Lib\\site-packages\\pandas\\core\\frame.py:4102\u001B[0m, in \u001B[0;36mDataFrame.__getitem__\u001B[1;34m(self, key)\u001B[0m\n\u001B[0;32m   4100\u001B[0m \u001B[38;5;28;01mif\u001B[39;00m \u001B[38;5;28mself\u001B[39m\u001B[38;5;241m.\u001B[39mcolumns\u001B[38;5;241m.\u001B[39mnlevels \u001B[38;5;241m>\u001B[39m \u001B[38;5;241m1\u001B[39m:\n\u001B[0;32m   4101\u001B[0m     \u001B[38;5;28;01mreturn\u001B[39;00m \u001B[38;5;28mself\u001B[39m\u001B[38;5;241m.\u001B[39m_getitem_multilevel(key)\n\u001B[1;32m-> 4102\u001B[0m indexer \u001B[38;5;241m=\u001B[39m \u001B[38;5;28;43mself\u001B[39;49m\u001B[38;5;241;43m.\u001B[39;49m\u001B[43mcolumns\u001B[49m\u001B[38;5;241;43m.\u001B[39;49m\u001B[43mget_loc\u001B[49m\u001B[43m(\u001B[49m\u001B[43mkey\u001B[49m\u001B[43m)\u001B[49m\n\u001B[0;32m   4103\u001B[0m \u001B[38;5;28;01mif\u001B[39;00m is_integer(indexer):\n\u001B[0;32m   4104\u001B[0m     indexer \u001B[38;5;241m=\u001B[39m [indexer]\n",
      "File \u001B[1;32m~\\PycharmProjects\\PRACTICUM\\venv\\Lib\\site-packages\\pandas\\core\\indexes\\base.py:3812\u001B[0m, in \u001B[0;36mIndex.get_loc\u001B[1;34m(self, key)\u001B[0m\n\u001B[0;32m   3807\u001B[0m     \u001B[38;5;28;01mif\u001B[39;00m \u001B[38;5;28misinstance\u001B[39m(casted_key, \u001B[38;5;28mslice\u001B[39m) \u001B[38;5;129;01mor\u001B[39;00m (\n\u001B[0;32m   3808\u001B[0m         \u001B[38;5;28misinstance\u001B[39m(casted_key, abc\u001B[38;5;241m.\u001B[39mIterable)\n\u001B[0;32m   3809\u001B[0m         \u001B[38;5;129;01mand\u001B[39;00m \u001B[38;5;28many\u001B[39m(\u001B[38;5;28misinstance\u001B[39m(x, \u001B[38;5;28mslice\u001B[39m) \u001B[38;5;28;01mfor\u001B[39;00m x \u001B[38;5;129;01min\u001B[39;00m casted_key)\n\u001B[0;32m   3810\u001B[0m     ):\n\u001B[0;32m   3811\u001B[0m         \u001B[38;5;28;01mraise\u001B[39;00m InvalidIndexError(key)\n\u001B[1;32m-> 3812\u001B[0m     \u001B[38;5;28;01mraise\u001B[39;00m \u001B[38;5;167;01mKeyError\u001B[39;00m(key) \u001B[38;5;28;01mfrom\u001B[39;00m \u001B[38;5;21;01merr\u001B[39;00m\n\u001B[0;32m   3813\u001B[0m \u001B[38;5;28;01mexcept\u001B[39;00m \u001B[38;5;167;01mTypeError\u001B[39;00m:\n\u001B[0;32m   3814\u001B[0m     \u001B[38;5;66;03m# If we have a listlike key, _check_indexing_error will raise\u001B[39;00m\n\u001B[0;32m   3815\u001B[0m     \u001B[38;5;66;03m#  InvalidIndexError. Otherwise we fall through and re-raise\u001B[39;00m\n\u001B[0;32m   3816\u001B[0m     \u001B[38;5;66;03m#  the TypeError.\u001B[39;00m\n\u001B[0;32m   3817\u001B[0m     \u001B[38;5;28mself\u001B[39m\u001B[38;5;241m.\u001B[39m_check_indexing_error(key)\n",
      "\u001B[1;31mKeyError\u001B[0m: 'creatinina'"
     ]
    }
   ],
   "execution_count": 241
  },
  {
   "metadata": {
    "ExecuteTime": {
     "end_time": "2024-05-03T10:15:48.393134Z",
     "start_time": "2024-05-03T10:15:48.356952Z"
    }
   },
   "cell_type": "code",
   "source": [
    "ecr_AMB_PA_MECVV= (AMB_PA_MECVV['creatinina'] > 1.5).mean() * 100\n",
    "print(f\"Percentatge de malaltia crònica renal amb creatinina >1.5: {ecr_AMB_PA_MECVV:.2f}%\")"
   ],
   "id": "f33ab01070f387e4",
   "outputs": [
    {
     "ename": "KeyError",
     "evalue": "'creatinina'",
     "output_type": "error",
     "traceback": [
      "\u001B[1;31m---------------------------------------------------------------------------\u001B[0m",
      "\u001B[1;31mKeyError\u001B[0m                                  Traceback (most recent call last)",
      "File \u001B[1;32m~\\PycharmProjects\\PRACTICUM\\venv\\Lib\\site-packages\\pandas\\core\\indexes\\base.py:3805\u001B[0m, in \u001B[0;36mIndex.get_loc\u001B[1;34m(self, key)\u001B[0m\n\u001B[0;32m   3804\u001B[0m \u001B[38;5;28;01mtry\u001B[39;00m:\n\u001B[1;32m-> 3805\u001B[0m     \u001B[38;5;28;01mreturn\u001B[39;00m \u001B[38;5;28;43mself\u001B[39;49m\u001B[38;5;241;43m.\u001B[39;49m\u001B[43m_engine\u001B[49m\u001B[38;5;241;43m.\u001B[39;49m\u001B[43mget_loc\u001B[49m\u001B[43m(\u001B[49m\u001B[43mcasted_key\u001B[49m\u001B[43m)\u001B[49m\n\u001B[0;32m   3806\u001B[0m \u001B[38;5;28;01mexcept\u001B[39;00m \u001B[38;5;167;01mKeyError\u001B[39;00m \u001B[38;5;28;01mas\u001B[39;00m err:\n",
      "File \u001B[1;32mindex.pyx:167\u001B[0m, in \u001B[0;36mpandas._libs.index.IndexEngine.get_loc\u001B[1;34m()\u001B[0m\n",
      "File \u001B[1;32mindex.pyx:196\u001B[0m, in \u001B[0;36mpandas._libs.index.IndexEngine.get_loc\u001B[1;34m()\u001B[0m\n",
      "File \u001B[1;32mpandas\\\\_libs\\\\hashtable_class_helper.pxi:7081\u001B[0m, in \u001B[0;36mpandas._libs.hashtable.PyObjectHashTable.get_item\u001B[1;34m()\u001B[0m\n",
      "File \u001B[1;32mpandas\\\\_libs\\\\hashtable_class_helper.pxi:7089\u001B[0m, in \u001B[0;36mpandas._libs.hashtable.PyObjectHashTable.get_item\u001B[1;34m()\u001B[0m\n",
      "\u001B[1;31mKeyError\u001B[0m: 'creatinina'",
      "\nThe above exception was the direct cause of the following exception:\n",
      "\u001B[1;31mKeyError\u001B[0m                                  Traceback (most recent call last)",
      "Cell \u001B[1;32mIn[242], line 1\u001B[0m\n\u001B[1;32m----> 1\u001B[0m ecr_AMB_PA_MECVV\u001B[38;5;241m=\u001B[39m (\u001B[43mAMB_PA_MECVV\u001B[49m\u001B[43m[\u001B[49m\u001B[38;5;124;43m'\u001B[39;49m\u001B[38;5;124;43mcreatinina\u001B[39;49m\u001B[38;5;124;43m'\u001B[39;49m\u001B[43m]\u001B[49m \u001B[38;5;241m>\u001B[39m \u001B[38;5;241m1.5\u001B[39m)\u001B[38;5;241m.\u001B[39mmean() \u001B[38;5;241m*\u001B[39m \u001B[38;5;241m100\u001B[39m\n\u001B[0;32m      2\u001B[0m \u001B[38;5;28mprint\u001B[39m(\u001B[38;5;124mf\u001B[39m\u001B[38;5;124m\"\u001B[39m\u001B[38;5;124mPercentatge de malaltia crònica renal amb creatinina >1.5: \u001B[39m\u001B[38;5;132;01m{\u001B[39;00mecr_AMB_PA_MECVV\u001B[38;5;132;01m:\u001B[39;00m\u001B[38;5;124m.2f\u001B[39m\u001B[38;5;132;01m}\u001B[39;00m\u001B[38;5;124m%\u001B[39m\u001B[38;5;124m\"\u001B[39m)\n",
      "File \u001B[1;32m~\\PycharmProjects\\PRACTICUM\\venv\\Lib\\site-packages\\pandas\\core\\frame.py:4102\u001B[0m, in \u001B[0;36mDataFrame.__getitem__\u001B[1;34m(self, key)\u001B[0m\n\u001B[0;32m   4100\u001B[0m \u001B[38;5;28;01mif\u001B[39;00m \u001B[38;5;28mself\u001B[39m\u001B[38;5;241m.\u001B[39mcolumns\u001B[38;5;241m.\u001B[39mnlevels \u001B[38;5;241m>\u001B[39m \u001B[38;5;241m1\u001B[39m:\n\u001B[0;32m   4101\u001B[0m     \u001B[38;5;28;01mreturn\u001B[39;00m \u001B[38;5;28mself\u001B[39m\u001B[38;5;241m.\u001B[39m_getitem_multilevel(key)\n\u001B[1;32m-> 4102\u001B[0m indexer \u001B[38;5;241m=\u001B[39m \u001B[38;5;28;43mself\u001B[39;49m\u001B[38;5;241;43m.\u001B[39;49m\u001B[43mcolumns\u001B[49m\u001B[38;5;241;43m.\u001B[39;49m\u001B[43mget_loc\u001B[49m\u001B[43m(\u001B[49m\u001B[43mkey\u001B[49m\u001B[43m)\u001B[49m\n\u001B[0;32m   4103\u001B[0m \u001B[38;5;28;01mif\u001B[39;00m is_integer(indexer):\n\u001B[0;32m   4104\u001B[0m     indexer \u001B[38;5;241m=\u001B[39m [indexer]\n",
      "File \u001B[1;32m~\\PycharmProjects\\PRACTICUM\\venv\\Lib\\site-packages\\pandas\\core\\indexes\\base.py:3812\u001B[0m, in \u001B[0;36mIndex.get_loc\u001B[1;34m(self, key)\u001B[0m\n\u001B[0;32m   3807\u001B[0m     \u001B[38;5;28;01mif\u001B[39;00m \u001B[38;5;28misinstance\u001B[39m(casted_key, \u001B[38;5;28mslice\u001B[39m) \u001B[38;5;129;01mor\u001B[39;00m (\n\u001B[0;32m   3808\u001B[0m         \u001B[38;5;28misinstance\u001B[39m(casted_key, abc\u001B[38;5;241m.\u001B[39mIterable)\n\u001B[0;32m   3809\u001B[0m         \u001B[38;5;129;01mand\u001B[39;00m \u001B[38;5;28many\u001B[39m(\u001B[38;5;28misinstance\u001B[39m(x, \u001B[38;5;28mslice\u001B[39m) \u001B[38;5;28;01mfor\u001B[39;00m x \u001B[38;5;129;01min\u001B[39;00m casted_key)\n\u001B[0;32m   3810\u001B[0m     ):\n\u001B[0;32m   3811\u001B[0m         \u001B[38;5;28;01mraise\u001B[39;00m InvalidIndexError(key)\n\u001B[1;32m-> 3812\u001B[0m     \u001B[38;5;28;01mraise\u001B[39;00m \u001B[38;5;167;01mKeyError\u001B[39;00m(key) \u001B[38;5;28;01mfrom\u001B[39;00m \u001B[38;5;21;01merr\u001B[39;00m\n\u001B[0;32m   3813\u001B[0m \u001B[38;5;28;01mexcept\u001B[39;00m \u001B[38;5;167;01mTypeError\u001B[39;00m:\n\u001B[0;32m   3814\u001B[0m     \u001B[38;5;66;03m# If we have a listlike key, _check_indexing_error will raise\u001B[39;00m\n\u001B[0;32m   3815\u001B[0m     \u001B[38;5;66;03m#  InvalidIndexError. Otherwise we fall through and re-raise\u001B[39;00m\n\u001B[0;32m   3816\u001B[0m     \u001B[38;5;66;03m#  the TypeError.\u001B[39;00m\n\u001B[0;32m   3817\u001B[0m     \u001B[38;5;28mself\u001B[39m\u001B[38;5;241m.\u001B[39m_check_indexing_error(key)\n",
      "\u001B[1;31mKeyError\u001B[0m: 'creatinina'"
     ]
    }
   ],
   "execution_count": 242
  },
  {
   "metadata": {
    "ExecuteTime": {
     "end_time": "2024-05-03T10:15:48.777444Z",
     "start_time": "2024-05-03T10:15:48.739926Z"
    }
   },
   "cell_type": "code",
   "source": [
    "ecr_SENSE_PA= (SENSE_PA['creatinina'] > 1.5).mean() * 100\n",
    "print(f\"Percentatge de malaltia crònica renal amb creatinina >1.5: {ecr_SENSE_PA:.2f}%\")"
   ],
   "id": "f2a96ab467d4fa20",
   "outputs": [
    {
     "ename": "KeyError",
     "evalue": "'creatinina'",
     "output_type": "error",
     "traceback": [
      "\u001B[1;31m---------------------------------------------------------------------------\u001B[0m",
      "\u001B[1;31mKeyError\u001B[0m                                  Traceback (most recent call last)",
      "File \u001B[1;32m~\\PycharmProjects\\PRACTICUM\\venv\\Lib\\site-packages\\pandas\\core\\indexes\\base.py:3805\u001B[0m, in \u001B[0;36mIndex.get_loc\u001B[1;34m(self, key)\u001B[0m\n\u001B[0;32m   3804\u001B[0m \u001B[38;5;28;01mtry\u001B[39;00m:\n\u001B[1;32m-> 3805\u001B[0m     \u001B[38;5;28;01mreturn\u001B[39;00m \u001B[38;5;28;43mself\u001B[39;49m\u001B[38;5;241;43m.\u001B[39;49m\u001B[43m_engine\u001B[49m\u001B[38;5;241;43m.\u001B[39;49m\u001B[43mget_loc\u001B[49m\u001B[43m(\u001B[49m\u001B[43mcasted_key\u001B[49m\u001B[43m)\u001B[49m\n\u001B[0;32m   3806\u001B[0m \u001B[38;5;28;01mexcept\u001B[39;00m \u001B[38;5;167;01mKeyError\u001B[39;00m \u001B[38;5;28;01mas\u001B[39;00m err:\n",
      "File \u001B[1;32mindex.pyx:167\u001B[0m, in \u001B[0;36mpandas._libs.index.IndexEngine.get_loc\u001B[1;34m()\u001B[0m\n",
      "File \u001B[1;32mindex.pyx:196\u001B[0m, in \u001B[0;36mpandas._libs.index.IndexEngine.get_loc\u001B[1;34m()\u001B[0m\n",
      "File \u001B[1;32mpandas\\\\_libs\\\\hashtable_class_helper.pxi:7081\u001B[0m, in \u001B[0;36mpandas._libs.hashtable.PyObjectHashTable.get_item\u001B[1;34m()\u001B[0m\n",
      "File \u001B[1;32mpandas\\\\_libs\\\\hashtable_class_helper.pxi:7089\u001B[0m, in \u001B[0;36mpandas._libs.hashtable.PyObjectHashTable.get_item\u001B[1;34m()\u001B[0m\n",
      "\u001B[1;31mKeyError\u001B[0m: 'creatinina'",
      "\nThe above exception was the direct cause of the following exception:\n",
      "\u001B[1;31mKeyError\u001B[0m                                  Traceback (most recent call last)",
      "Cell \u001B[1;32mIn[243], line 1\u001B[0m\n\u001B[1;32m----> 1\u001B[0m ecr_SENSE_PA\u001B[38;5;241m=\u001B[39m (\u001B[43mSENSE_PA\u001B[49m\u001B[43m[\u001B[49m\u001B[38;5;124;43m'\u001B[39;49m\u001B[38;5;124;43mcreatinina\u001B[39;49m\u001B[38;5;124;43m'\u001B[39;49m\u001B[43m]\u001B[49m \u001B[38;5;241m>\u001B[39m \u001B[38;5;241m1.5\u001B[39m)\u001B[38;5;241m.\u001B[39mmean() \u001B[38;5;241m*\u001B[39m \u001B[38;5;241m100\u001B[39m\n\u001B[0;32m      2\u001B[0m \u001B[38;5;28mprint\u001B[39m(\u001B[38;5;124mf\u001B[39m\u001B[38;5;124m\"\u001B[39m\u001B[38;5;124mPercentatge de malaltia crònica renal amb creatinina >1.5: \u001B[39m\u001B[38;5;132;01m{\u001B[39;00mecr_SENSE_PA\u001B[38;5;132;01m:\u001B[39;00m\u001B[38;5;124m.2f\u001B[39m\u001B[38;5;132;01m}\u001B[39;00m\u001B[38;5;124m%\u001B[39m\u001B[38;5;124m\"\u001B[39m)\n",
      "File \u001B[1;32m~\\PycharmProjects\\PRACTICUM\\venv\\Lib\\site-packages\\pandas\\core\\frame.py:4102\u001B[0m, in \u001B[0;36mDataFrame.__getitem__\u001B[1;34m(self, key)\u001B[0m\n\u001B[0;32m   4100\u001B[0m \u001B[38;5;28;01mif\u001B[39;00m \u001B[38;5;28mself\u001B[39m\u001B[38;5;241m.\u001B[39mcolumns\u001B[38;5;241m.\u001B[39mnlevels \u001B[38;5;241m>\u001B[39m \u001B[38;5;241m1\u001B[39m:\n\u001B[0;32m   4101\u001B[0m     \u001B[38;5;28;01mreturn\u001B[39;00m \u001B[38;5;28mself\u001B[39m\u001B[38;5;241m.\u001B[39m_getitem_multilevel(key)\n\u001B[1;32m-> 4102\u001B[0m indexer \u001B[38;5;241m=\u001B[39m \u001B[38;5;28;43mself\u001B[39;49m\u001B[38;5;241;43m.\u001B[39;49m\u001B[43mcolumns\u001B[49m\u001B[38;5;241;43m.\u001B[39;49m\u001B[43mget_loc\u001B[49m\u001B[43m(\u001B[49m\u001B[43mkey\u001B[49m\u001B[43m)\u001B[49m\n\u001B[0;32m   4103\u001B[0m \u001B[38;5;28;01mif\u001B[39;00m is_integer(indexer):\n\u001B[0;32m   4104\u001B[0m     indexer \u001B[38;5;241m=\u001B[39m [indexer]\n",
      "File \u001B[1;32m~\\PycharmProjects\\PRACTICUM\\venv\\Lib\\site-packages\\pandas\\core\\indexes\\base.py:3812\u001B[0m, in \u001B[0;36mIndex.get_loc\u001B[1;34m(self, key)\u001B[0m\n\u001B[0;32m   3807\u001B[0m     \u001B[38;5;28;01mif\u001B[39;00m \u001B[38;5;28misinstance\u001B[39m(casted_key, \u001B[38;5;28mslice\u001B[39m) \u001B[38;5;129;01mor\u001B[39;00m (\n\u001B[0;32m   3808\u001B[0m         \u001B[38;5;28misinstance\u001B[39m(casted_key, abc\u001B[38;5;241m.\u001B[39mIterable)\n\u001B[0;32m   3809\u001B[0m         \u001B[38;5;129;01mand\u001B[39;00m \u001B[38;5;28many\u001B[39m(\u001B[38;5;28misinstance\u001B[39m(x, \u001B[38;5;28mslice\u001B[39m) \u001B[38;5;28;01mfor\u001B[39;00m x \u001B[38;5;129;01min\u001B[39;00m casted_key)\n\u001B[0;32m   3810\u001B[0m     ):\n\u001B[0;32m   3811\u001B[0m         \u001B[38;5;28;01mraise\u001B[39;00m InvalidIndexError(key)\n\u001B[1;32m-> 3812\u001B[0m     \u001B[38;5;28;01mraise\u001B[39;00m \u001B[38;5;167;01mKeyError\u001B[39;00m(key) \u001B[38;5;28;01mfrom\u001B[39;00m \u001B[38;5;21;01merr\u001B[39;00m\n\u001B[0;32m   3813\u001B[0m \u001B[38;5;28;01mexcept\u001B[39;00m \u001B[38;5;167;01mTypeError\u001B[39;00m:\n\u001B[0;32m   3814\u001B[0m     \u001B[38;5;66;03m# If we have a listlike key, _check_indexing_error will raise\u001B[39;00m\n\u001B[0;32m   3815\u001B[0m     \u001B[38;5;66;03m#  InvalidIndexError. Otherwise we fall through and re-raise\u001B[39;00m\n\u001B[0;32m   3816\u001B[0m     \u001B[38;5;66;03m#  the TypeError.\u001B[39;00m\n\u001B[0;32m   3817\u001B[0m     \u001B[38;5;28mself\u001B[39m\u001B[38;5;241m.\u001B[39m_check_indexing_error(key)\n",
      "\u001B[1;31mKeyError\u001B[0m: 'creatinina'"
     ]
    }
   ],
   "execution_count": 243
  },
  {
   "metadata": {},
   "cell_type": "markdown",
   "source": [
    "#### Pvalor"
   ],
   "id": "9a0ec8b221656a8a"
  },
  {
   "metadata": {},
   "cell_type": "markdown",
   "source": [
    "##### Normalitat"
   ],
   "id": "d6ffad4c820486ed"
  },
  {
   "metadata": {
    "ExecuteTime": {
     "end_time": "2024-05-03T10:15:49.149389Z",
     "start_time": "2024-05-03T10:15:49.107959Z"
    }
   },
   "cell_type": "code",
   "source": [
    "stat, p_value = shapiro(AMB_PA['creatinina'].dropna())\n",
    "print(f\"Estadístic W = {stat:.4f}\")\n",
    "print(f\"Valor p = {p_value:.4f}\")\n",
    "\n",
    "alpha = 0.05\n",
    "if p_value < alpha:\n",
    "    print(\"El nombre de files no segueix una distribució normal.\")\n",
    "else:\n",
    "    print(\"El nombre de files segueix una distribució normal\")"
   ],
   "id": "1f63051648a84697",
   "outputs": [
    {
     "ename": "KeyError",
     "evalue": "'creatinina'",
     "output_type": "error",
     "traceback": [
      "\u001B[1;31m---------------------------------------------------------------------------\u001B[0m",
      "\u001B[1;31mKeyError\u001B[0m                                  Traceback (most recent call last)",
      "File \u001B[1;32m~\\PycharmProjects\\PRACTICUM\\venv\\Lib\\site-packages\\pandas\\core\\indexes\\base.py:3805\u001B[0m, in \u001B[0;36mIndex.get_loc\u001B[1;34m(self, key)\u001B[0m\n\u001B[0;32m   3804\u001B[0m \u001B[38;5;28;01mtry\u001B[39;00m:\n\u001B[1;32m-> 3805\u001B[0m     \u001B[38;5;28;01mreturn\u001B[39;00m \u001B[38;5;28;43mself\u001B[39;49m\u001B[38;5;241;43m.\u001B[39;49m\u001B[43m_engine\u001B[49m\u001B[38;5;241;43m.\u001B[39;49m\u001B[43mget_loc\u001B[49m\u001B[43m(\u001B[49m\u001B[43mcasted_key\u001B[49m\u001B[43m)\u001B[49m\n\u001B[0;32m   3806\u001B[0m \u001B[38;5;28;01mexcept\u001B[39;00m \u001B[38;5;167;01mKeyError\u001B[39;00m \u001B[38;5;28;01mas\u001B[39;00m err:\n",
      "File \u001B[1;32mindex.pyx:167\u001B[0m, in \u001B[0;36mpandas._libs.index.IndexEngine.get_loc\u001B[1;34m()\u001B[0m\n",
      "File \u001B[1;32mindex.pyx:196\u001B[0m, in \u001B[0;36mpandas._libs.index.IndexEngine.get_loc\u001B[1;34m()\u001B[0m\n",
      "File \u001B[1;32mpandas\\\\_libs\\\\hashtable_class_helper.pxi:7081\u001B[0m, in \u001B[0;36mpandas._libs.hashtable.PyObjectHashTable.get_item\u001B[1;34m()\u001B[0m\n",
      "File \u001B[1;32mpandas\\\\_libs\\\\hashtable_class_helper.pxi:7089\u001B[0m, in \u001B[0;36mpandas._libs.hashtable.PyObjectHashTable.get_item\u001B[1;34m()\u001B[0m\n",
      "\u001B[1;31mKeyError\u001B[0m: 'creatinina'",
      "\nThe above exception was the direct cause of the following exception:\n",
      "\u001B[1;31mKeyError\u001B[0m                                  Traceback (most recent call last)",
      "Cell \u001B[1;32mIn[244], line 1\u001B[0m\n\u001B[1;32m----> 1\u001B[0m stat, p_value \u001B[38;5;241m=\u001B[39m shapiro(\u001B[43mAMB_PA\u001B[49m\u001B[43m[\u001B[49m\u001B[38;5;124;43m'\u001B[39;49m\u001B[38;5;124;43mcreatinina\u001B[39;49m\u001B[38;5;124;43m'\u001B[39;49m\u001B[43m]\u001B[49m\u001B[38;5;241m.\u001B[39mdropna())\n\u001B[0;32m      2\u001B[0m \u001B[38;5;28mprint\u001B[39m(\u001B[38;5;124mf\u001B[39m\u001B[38;5;124m\"\u001B[39m\u001B[38;5;124mEstadístic W = \u001B[39m\u001B[38;5;132;01m{\u001B[39;00mstat\u001B[38;5;132;01m:\u001B[39;00m\u001B[38;5;124m.4f\u001B[39m\u001B[38;5;132;01m}\u001B[39;00m\u001B[38;5;124m\"\u001B[39m)\n\u001B[0;32m      3\u001B[0m \u001B[38;5;28mprint\u001B[39m(\u001B[38;5;124mf\u001B[39m\u001B[38;5;124m\"\u001B[39m\u001B[38;5;124mValor p = \u001B[39m\u001B[38;5;132;01m{\u001B[39;00mp_value\u001B[38;5;132;01m:\u001B[39;00m\u001B[38;5;124m.4f\u001B[39m\u001B[38;5;132;01m}\u001B[39;00m\u001B[38;5;124m\"\u001B[39m)\n",
      "File \u001B[1;32m~\\PycharmProjects\\PRACTICUM\\venv\\Lib\\site-packages\\pandas\\core\\frame.py:4102\u001B[0m, in \u001B[0;36mDataFrame.__getitem__\u001B[1;34m(self, key)\u001B[0m\n\u001B[0;32m   4100\u001B[0m \u001B[38;5;28;01mif\u001B[39;00m \u001B[38;5;28mself\u001B[39m\u001B[38;5;241m.\u001B[39mcolumns\u001B[38;5;241m.\u001B[39mnlevels \u001B[38;5;241m>\u001B[39m \u001B[38;5;241m1\u001B[39m:\n\u001B[0;32m   4101\u001B[0m     \u001B[38;5;28;01mreturn\u001B[39;00m \u001B[38;5;28mself\u001B[39m\u001B[38;5;241m.\u001B[39m_getitem_multilevel(key)\n\u001B[1;32m-> 4102\u001B[0m indexer \u001B[38;5;241m=\u001B[39m \u001B[38;5;28;43mself\u001B[39;49m\u001B[38;5;241;43m.\u001B[39;49m\u001B[43mcolumns\u001B[49m\u001B[38;5;241;43m.\u001B[39;49m\u001B[43mget_loc\u001B[49m\u001B[43m(\u001B[49m\u001B[43mkey\u001B[49m\u001B[43m)\u001B[49m\n\u001B[0;32m   4103\u001B[0m \u001B[38;5;28;01mif\u001B[39;00m is_integer(indexer):\n\u001B[0;32m   4104\u001B[0m     indexer \u001B[38;5;241m=\u001B[39m [indexer]\n",
      "File \u001B[1;32m~\\PycharmProjects\\PRACTICUM\\venv\\Lib\\site-packages\\pandas\\core\\indexes\\base.py:3812\u001B[0m, in \u001B[0;36mIndex.get_loc\u001B[1;34m(self, key)\u001B[0m\n\u001B[0;32m   3807\u001B[0m     \u001B[38;5;28;01mif\u001B[39;00m \u001B[38;5;28misinstance\u001B[39m(casted_key, \u001B[38;5;28mslice\u001B[39m) \u001B[38;5;129;01mor\u001B[39;00m (\n\u001B[0;32m   3808\u001B[0m         \u001B[38;5;28misinstance\u001B[39m(casted_key, abc\u001B[38;5;241m.\u001B[39mIterable)\n\u001B[0;32m   3809\u001B[0m         \u001B[38;5;129;01mand\u001B[39;00m \u001B[38;5;28many\u001B[39m(\u001B[38;5;28misinstance\u001B[39m(x, \u001B[38;5;28mslice\u001B[39m) \u001B[38;5;28;01mfor\u001B[39;00m x \u001B[38;5;129;01min\u001B[39;00m casted_key)\n\u001B[0;32m   3810\u001B[0m     ):\n\u001B[0;32m   3811\u001B[0m         \u001B[38;5;28;01mraise\u001B[39;00m InvalidIndexError(key)\n\u001B[1;32m-> 3812\u001B[0m     \u001B[38;5;28;01mraise\u001B[39;00m \u001B[38;5;167;01mKeyError\u001B[39;00m(key) \u001B[38;5;28;01mfrom\u001B[39;00m \u001B[38;5;21;01merr\u001B[39;00m\n\u001B[0;32m   3813\u001B[0m \u001B[38;5;28;01mexcept\u001B[39;00m \u001B[38;5;167;01mTypeError\u001B[39;00m:\n\u001B[0;32m   3814\u001B[0m     \u001B[38;5;66;03m# If we have a listlike key, _check_indexing_error will raise\u001B[39;00m\n\u001B[0;32m   3815\u001B[0m     \u001B[38;5;66;03m#  InvalidIndexError. Otherwise we fall through and re-raise\u001B[39;00m\n\u001B[0;32m   3816\u001B[0m     \u001B[38;5;66;03m#  the TypeError.\u001B[39;00m\n\u001B[0;32m   3817\u001B[0m     \u001B[38;5;28mself\u001B[39m\u001B[38;5;241m.\u001B[39m_check_indexing_error(key)\n",
      "\u001B[1;31mKeyError\u001B[0m: 'creatinina'"
     ]
    }
   ],
   "execution_count": 244
  },
  {
   "metadata": {
    "ExecuteTime": {
     "end_time": "2024-05-03T10:15:49.332465Z",
     "start_time": "2024-05-03T10:15:49.292560Z"
    }
   },
   "cell_type": "code",
   "source": [
    "stat, p_value = shapiro(AMB_PA_MECVV['creatinina'].dropna())\n",
    "print(f\"Estadístic W = {stat:.4f}\")\n",
    "print(f\"Valor p = {p_value:.4f}\")\n",
    "\n",
    "alpha = 0.05\n",
    "if p_value < alpha:\n",
    "    print(\"El nombre de files no segueix una distribució normal.\")\n",
    "else:\n",
    "    print(\"El nombre de files segueix una distribució normal\")"
   ],
   "id": "dd791706071019a6",
   "outputs": [
    {
     "ename": "KeyError",
     "evalue": "'creatinina'",
     "output_type": "error",
     "traceback": [
      "\u001B[1;31m---------------------------------------------------------------------------\u001B[0m",
      "\u001B[1;31mKeyError\u001B[0m                                  Traceback (most recent call last)",
      "File \u001B[1;32m~\\PycharmProjects\\PRACTICUM\\venv\\Lib\\site-packages\\pandas\\core\\indexes\\base.py:3805\u001B[0m, in \u001B[0;36mIndex.get_loc\u001B[1;34m(self, key)\u001B[0m\n\u001B[0;32m   3804\u001B[0m \u001B[38;5;28;01mtry\u001B[39;00m:\n\u001B[1;32m-> 3805\u001B[0m     \u001B[38;5;28;01mreturn\u001B[39;00m \u001B[38;5;28;43mself\u001B[39;49m\u001B[38;5;241;43m.\u001B[39;49m\u001B[43m_engine\u001B[49m\u001B[38;5;241;43m.\u001B[39;49m\u001B[43mget_loc\u001B[49m\u001B[43m(\u001B[49m\u001B[43mcasted_key\u001B[49m\u001B[43m)\u001B[49m\n\u001B[0;32m   3806\u001B[0m \u001B[38;5;28;01mexcept\u001B[39;00m \u001B[38;5;167;01mKeyError\u001B[39;00m \u001B[38;5;28;01mas\u001B[39;00m err:\n",
      "File \u001B[1;32mindex.pyx:167\u001B[0m, in \u001B[0;36mpandas._libs.index.IndexEngine.get_loc\u001B[1;34m()\u001B[0m\n",
      "File \u001B[1;32mindex.pyx:196\u001B[0m, in \u001B[0;36mpandas._libs.index.IndexEngine.get_loc\u001B[1;34m()\u001B[0m\n",
      "File \u001B[1;32mpandas\\\\_libs\\\\hashtable_class_helper.pxi:7081\u001B[0m, in \u001B[0;36mpandas._libs.hashtable.PyObjectHashTable.get_item\u001B[1;34m()\u001B[0m\n",
      "File \u001B[1;32mpandas\\\\_libs\\\\hashtable_class_helper.pxi:7089\u001B[0m, in \u001B[0;36mpandas._libs.hashtable.PyObjectHashTable.get_item\u001B[1;34m()\u001B[0m\n",
      "\u001B[1;31mKeyError\u001B[0m: 'creatinina'",
      "\nThe above exception was the direct cause of the following exception:\n",
      "\u001B[1;31mKeyError\u001B[0m                                  Traceback (most recent call last)",
      "Cell \u001B[1;32mIn[245], line 1\u001B[0m\n\u001B[1;32m----> 1\u001B[0m stat, p_value \u001B[38;5;241m=\u001B[39m shapiro(\u001B[43mAMB_PA_MECVV\u001B[49m\u001B[43m[\u001B[49m\u001B[38;5;124;43m'\u001B[39;49m\u001B[38;5;124;43mcreatinina\u001B[39;49m\u001B[38;5;124;43m'\u001B[39;49m\u001B[43m]\u001B[49m\u001B[38;5;241m.\u001B[39mdropna())\n\u001B[0;32m      2\u001B[0m \u001B[38;5;28mprint\u001B[39m(\u001B[38;5;124mf\u001B[39m\u001B[38;5;124m\"\u001B[39m\u001B[38;5;124mEstadístic W = \u001B[39m\u001B[38;5;132;01m{\u001B[39;00mstat\u001B[38;5;132;01m:\u001B[39;00m\u001B[38;5;124m.4f\u001B[39m\u001B[38;5;132;01m}\u001B[39;00m\u001B[38;5;124m\"\u001B[39m)\n\u001B[0;32m      3\u001B[0m \u001B[38;5;28mprint\u001B[39m(\u001B[38;5;124mf\u001B[39m\u001B[38;5;124m\"\u001B[39m\u001B[38;5;124mValor p = \u001B[39m\u001B[38;5;132;01m{\u001B[39;00mp_value\u001B[38;5;132;01m:\u001B[39;00m\u001B[38;5;124m.4f\u001B[39m\u001B[38;5;132;01m}\u001B[39;00m\u001B[38;5;124m\"\u001B[39m)\n",
      "File \u001B[1;32m~\\PycharmProjects\\PRACTICUM\\venv\\Lib\\site-packages\\pandas\\core\\frame.py:4102\u001B[0m, in \u001B[0;36mDataFrame.__getitem__\u001B[1;34m(self, key)\u001B[0m\n\u001B[0;32m   4100\u001B[0m \u001B[38;5;28;01mif\u001B[39;00m \u001B[38;5;28mself\u001B[39m\u001B[38;5;241m.\u001B[39mcolumns\u001B[38;5;241m.\u001B[39mnlevels \u001B[38;5;241m>\u001B[39m \u001B[38;5;241m1\u001B[39m:\n\u001B[0;32m   4101\u001B[0m     \u001B[38;5;28;01mreturn\u001B[39;00m \u001B[38;5;28mself\u001B[39m\u001B[38;5;241m.\u001B[39m_getitem_multilevel(key)\n\u001B[1;32m-> 4102\u001B[0m indexer \u001B[38;5;241m=\u001B[39m \u001B[38;5;28;43mself\u001B[39;49m\u001B[38;5;241;43m.\u001B[39;49m\u001B[43mcolumns\u001B[49m\u001B[38;5;241;43m.\u001B[39;49m\u001B[43mget_loc\u001B[49m\u001B[43m(\u001B[49m\u001B[43mkey\u001B[49m\u001B[43m)\u001B[49m\n\u001B[0;32m   4103\u001B[0m \u001B[38;5;28;01mif\u001B[39;00m is_integer(indexer):\n\u001B[0;32m   4104\u001B[0m     indexer \u001B[38;5;241m=\u001B[39m [indexer]\n",
      "File \u001B[1;32m~\\PycharmProjects\\PRACTICUM\\venv\\Lib\\site-packages\\pandas\\core\\indexes\\base.py:3812\u001B[0m, in \u001B[0;36mIndex.get_loc\u001B[1;34m(self, key)\u001B[0m\n\u001B[0;32m   3807\u001B[0m     \u001B[38;5;28;01mif\u001B[39;00m \u001B[38;5;28misinstance\u001B[39m(casted_key, \u001B[38;5;28mslice\u001B[39m) \u001B[38;5;129;01mor\u001B[39;00m (\n\u001B[0;32m   3808\u001B[0m         \u001B[38;5;28misinstance\u001B[39m(casted_key, abc\u001B[38;5;241m.\u001B[39mIterable)\n\u001B[0;32m   3809\u001B[0m         \u001B[38;5;129;01mand\u001B[39;00m \u001B[38;5;28many\u001B[39m(\u001B[38;5;28misinstance\u001B[39m(x, \u001B[38;5;28mslice\u001B[39m) \u001B[38;5;28;01mfor\u001B[39;00m x \u001B[38;5;129;01min\u001B[39;00m casted_key)\n\u001B[0;32m   3810\u001B[0m     ):\n\u001B[0;32m   3811\u001B[0m         \u001B[38;5;28;01mraise\u001B[39;00m InvalidIndexError(key)\n\u001B[1;32m-> 3812\u001B[0m     \u001B[38;5;28;01mraise\u001B[39;00m \u001B[38;5;167;01mKeyError\u001B[39;00m(key) \u001B[38;5;28;01mfrom\u001B[39;00m \u001B[38;5;21;01merr\u001B[39;00m\n\u001B[0;32m   3813\u001B[0m \u001B[38;5;28;01mexcept\u001B[39;00m \u001B[38;5;167;01mTypeError\u001B[39;00m:\n\u001B[0;32m   3814\u001B[0m     \u001B[38;5;66;03m# If we have a listlike key, _check_indexing_error will raise\u001B[39;00m\n\u001B[0;32m   3815\u001B[0m     \u001B[38;5;66;03m#  InvalidIndexError. Otherwise we fall through and re-raise\u001B[39;00m\n\u001B[0;32m   3816\u001B[0m     \u001B[38;5;66;03m#  the TypeError.\u001B[39;00m\n\u001B[0;32m   3817\u001B[0m     \u001B[38;5;28mself\u001B[39m\u001B[38;5;241m.\u001B[39m_check_indexing_error(key)\n",
      "\u001B[1;31mKeyError\u001B[0m: 'creatinina'"
     ]
    }
   ],
   "execution_count": 245
  },
  {
   "metadata": {
    "ExecuteTime": {
     "end_time": "2024-05-03T10:15:49.744589Z",
     "start_time": "2024-05-03T10:15:49.692544Z"
    }
   },
   "cell_type": "code",
   "source": [
    "stat, p_value = shapiro(SENSE_PA['creatinina'].dropna())\n",
    "print(f\"Estadístic W = {stat:.4f}\")\n",
    "print(f\"Valor p = {p_value:.4f}\")\n",
    "\n",
    "alpha = 0.05\n",
    "if p_value < alpha:\n",
    "    print(\"El nombre de files no segueix una distribució normal.\")\n",
    "else:\n",
    "    print(\"El nombre de files segueix una distribució normal\")"
   ],
   "id": "85df00a80ed67583",
   "outputs": [
    {
     "ename": "KeyError",
     "evalue": "'creatinina'",
     "output_type": "error",
     "traceback": [
      "\u001B[1;31m---------------------------------------------------------------------------\u001B[0m",
      "\u001B[1;31mKeyError\u001B[0m                                  Traceback (most recent call last)",
      "File \u001B[1;32m~\\PycharmProjects\\PRACTICUM\\venv\\Lib\\site-packages\\pandas\\core\\indexes\\base.py:3805\u001B[0m, in \u001B[0;36mIndex.get_loc\u001B[1;34m(self, key)\u001B[0m\n\u001B[0;32m   3804\u001B[0m \u001B[38;5;28;01mtry\u001B[39;00m:\n\u001B[1;32m-> 3805\u001B[0m     \u001B[38;5;28;01mreturn\u001B[39;00m \u001B[38;5;28;43mself\u001B[39;49m\u001B[38;5;241;43m.\u001B[39;49m\u001B[43m_engine\u001B[49m\u001B[38;5;241;43m.\u001B[39;49m\u001B[43mget_loc\u001B[49m\u001B[43m(\u001B[49m\u001B[43mcasted_key\u001B[49m\u001B[43m)\u001B[49m\n\u001B[0;32m   3806\u001B[0m \u001B[38;5;28;01mexcept\u001B[39;00m \u001B[38;5;167;01mKeyError\u001B[39;00m \u001B[38;5;28;01mas\u001B[39;00m err:\n",
      "File \u001B[1;32mindex.pyx:167\u001B[0m, in \u001B[0;36mpandas._libs.index.IndexEngine.get_loc\u001B[1;34m()\u001B[0m\n",
      "File \u001B[1;32mindex.pyx:196\u001B[0m, in \u001B[0;36mpandas._libs.index.IndexEngine.get_loc\u001B[1;34m()\u001B[0m\n",
      "File \u001B[1;32mpandas\\\\_libs\\\\hashtable_class_helper.pxi:7081\u001B[0m, in \u001B[0;36mpandas._libs.hashtable.PyObjectHashTable.get_item\u001B[1;34m()\u001B[0m\n",
      "File \u001B[1;32mpandas\\\\_libs\\\\hashtable_class_helper.pxi:7089\u001B[0m, in \u001B[0;36mpandas._libs.hashtable.PyObjectHashTable.get_item\u001B[1;34m()\u001B[0m\n",
      "\u001B[1;31mKeyError\u001B[0m: 'creatinina'",
      "\nThe above exception was the direct cause of the following exception:\n",
      "\u001B[1;31mKeyError\u001B[0m                                  Traceback (most recent call last)",
      "Cell \u001B[1;32mIn[246], line 1\u001B[0m\n\u001B[1;32m----> 1\u001B[0m stat, p_value \u001B[38;5;241m=\u001B[39m shapiro(\u001B[43mSENSE_PA\u001B[49m\u001B[43m[\u001B[49m\u001B[38;5;124;43m'\u001B[39;49m\u001B[38;5;124;43mcreatinina\u001B[39;49m\u001B[38;5;124;43m'\u001B[39;49m\u001B[43m]\u001B[49m\u001B[38;5;241m.\u001B[39mdropna())\n\u001B[0;32m      2\u001B[0m \u001B[38;5;28mprint\u001B[39m(\u001B[38;5;124mf\u001B[39m\u001B[38;5;124m\"\u001B[39m\u001B[38;5;124mEstadístic W = \u001B[39m\u001B[38;5;132;01m{\u001B[39;00mstat\u001B[38;5;132;01m:\u001B[39;00m\u001B[38;5;124m.4f\u001B[39m\u001B[38;5;132;01m}\u001B[39;00m\u001B[38;5;124m\"\u001B[39m)\n\u001B[0;32m      3\u001B[0m \u001B[38;5;28mprint\u001B[39m(\u001B[38;5;124mf\u001B[39m\u001B[38;5;124m\"\u001B[39m\u001B[38;5;124mValor p = \u001B[39m\u001B[38;5;132;01m{\u001B[39;00mp_value\u001B[38;5;132;01m:\u001B[39;00m\u001B[38;5;124m.4f\u001B[39m\u001B[38;5;132;01m}\u001B[39;00m\u001B[38;5;124m\"\u001B[39m)\n",
      "File \u001B[1;32m~\\PycharmProjects\\PRACTICUM\\venv\\Lib\\site-packages\\pandas\\core\\frame.py:4102\u001B[0m, in \u001B[0;36mDataFrame.__getitem__\u001B[1;34m(self, key)\u001B[0m\n\u001B[0;32m   4100\u001B[0m \u001B[38;5;28;01mif\u001B[39;00m \u001B[38;5;28mself\u001B[39m\u001B[38;5;241m.\u001B[39mcolumns\u001B[38;5;241m.\u001B[39mnlevels \u001B[38;5;241m>\u001B[39m \u001B[38;5;241m1\u001B[39m:\n\u001B[0;32m   4101\u001B[0m     \u001B[38;5;28;01mreturn\u001B[39;00m \u001B[38;5;28mself\u001B[39m\u001B[38;5;241m.\u001B[39m_getitem_multilevel(key)\n\u001B[1;32m-> 4102\u001B[0m indexer \u001B[38;5;241m=\u001B[39m \u001B[38;5;28;43mself\u001B[39;49m\u001B[38;5;241;43m.\u001B[39;49m\u001B[43mcolumns\u001B[49m\u001B[38;5;241;43m.\u001B[39;49m\u001B[43mget_loc\u001B[49m\u001B[43m(\u001B[49m\u001B[43mkey\u001B[49m\u001B[43m)\u001B[49m\n\u001B[0;32m   4103\u001B[0m \u001B[38;5;28;01mif\u001B[39;00m is_integer(indexer):\n\u001B[0;32m   4104\u001B[0m     indexer \u001B[38;5;241m=\u001B[39m [indexer]\n",
      "File \u001B[1;32m~\\PycharmProjects\\PRACTICUM\\venv\\Lib\\site-packages\\pandas\\core\\indexes\\base.py:3812\u001B[0m, in \u001B[0;36mIndex.get_loc\u001B[1;34m(self, key)\u001B[0m\n\u001B[0;32m   3807\u001B[0m     \u001B[38;5;28;01mif\u001B[39;00m \u001B[38;5;28misinstance\u001B[39m(casted_key, \u001B[38;5;28mslice\u001B[39m) \u001B[38;5;129;01mor\u001B[39;00m (\n\u001B[0;32m   3808\u001B[0m         \u001B[38;5;28misinstance\u001B[39m(casted_key, abc\u001B[38;5;241m.\u001B[39mIterable)\n\u001B[0;32m   3809\u001B[0m         \u001B[38;5;129;01mand\u001B[39;00m \u001B[38;5;28many\u001B[39m(\u001B[38;5;28misinstance\u001B[39m(x, \u001B[38;5;28mslice\u001B[39m) \u001B[38;5;28;01mfor\u001B[39;00m x \u001B[38;5;129;01min\u001B[39;00m casted_key)\n\u001B[0;32m   3810\u001B[0m     ):\n\u001B[0;32m   3811\u001B[0m         \u001B[38;5;28;01mraise\u001B[39;00m InvalidIndexError(key)\n\u001B[1;32m-> 3812\u001B[0m     \u001B[38;5;28;01mraise\u001B[39;00m \u001B[38;5;167;01mKeyError\u001B[39;00m(key) \u001B[38;5;28;01mfrom\u001B[39;00m \u001B[38;5;21;01merr\u001B[39;00m\n\u001B[0;32m   3813\u001B[0m \u001B[38;5;28;01mexcept\u001B[39;00m \u001B[38;5;167;01mTypeError\u001B[39;00m:\n\u001B[0;32m   3814\u001B[0m     \u001B[38;5;66;03m# If we have a listlike key, _check_indexing_error will raise\u001B[39;00m\n\u001B[0;32m   3815\u001B[0m     \u001B[38;5;66;03m#  InvalidIndexError. Otherwise we fall through and re-raise\u001B[39;00m\n\u001B[0;32m   3816\u001B[0m     \u001B[38;5;66;03m#  the TypeError.\u001B[39;00m\n\u001B[0;32m   3817\u001B[0m     \u001B[38;5;28mself\u001B[39m\u001B[38;5;241m.\u001B[39m_check_indexing_error(key)\n",
      "\u001B[1;31mKeyError\u001B[0m: 'creatinina'"
     ]
    }
   ],
   "execution_count": 246
  },
  {
   "metadata": {
    "ExecuteTime": {
     "end_time": "2024-05-03T10:15:50.130350Z",
     "start_time": "2024-05-03T10:15:50.091531Z"
    }
   },
   "cell_type": "code",
   "source": [
    "stat, p_value_12 = ttest_ind(AMB_PA['creatinina'], AMB_PA_MECVV['creatinina'], equal_var=False)\n",
    "print(\"P-valor entre AMB_PA i AMB_PA_MECVV\", p_value_12)"
   ],
   "id": "cf20863e3c24d450",
   "outputs": [
    {
     "ename": "KeyError",
     "evalue": "'creatinina'",
     "output_type": "error",
     "traceback": [
      "\u001B[1;31m---------------------------------------------------------------------------\u001B[0m",
      "\u001B[1;31mKeyError\u001B[0m                                  Traceback (most recent call last)",
      "File \u001B[1;32m~\\PycharmProjects\\PRACTICUM\\venv\\Lib\\site-packages\\pandas\\core\\indexes\\base.py:3805\u001B[0m, in \u001B[0;36mIndex.get_loc\u001B[1;34m(self, key)\u001B[0m\n\u001B[0;32m   3804\u001B[0m \u001B[38;5;28;01mtry\u001B[39;00m:\n\u001B[1;32m-> 3805\u001B[0m     \u001B[38;5;28;01mreturn\u001B[39;00m \u001B[38;5;28;43mself\u001B[39;49m\u001B[38;5;241;43m.\u001B[39;49m\u001B[43m_engine\u001B[49m\u001B[38;5;241;43m.\u001B[39;49m\u001B[43mget_loc\u001B[49m\u001B[43m(\u001B[49m\u001B[43mcasted_key\u001B[49m\u001B[43m)\u001B[49m\n\u001B[0;32m   3806\u001B[0m \u001B[38;5;28;01mexcept\u001B[39;00m \u001B[38;5;167;01mKeyError\u001B[39;00m \u001B[38;5;28;01mas\u001B[39;00m err:\n",
      "File \u001B[1;32mindex.pyx:167\u001B[0m, in \u001B[0;36mpandas._libs.index.IndexEngine.get_loc\u001B[1;34m()\u001B[0m\n",
      "File \u001B[1;32mindex.pyx:196\u001B[0m, in \u001B[0;36mpandas._libs.index.IndexEngine.get_loc\u001B[1;34m()\u001B[0m\n",
      "File \u001B[1;32mpandas\\\\_libs\\\\hashtable_class_helper.pxi:7081\u001B[0m, in \u001B[0;36mpandas._libs.hashtable.PyObjectHashTable.get_item\u001B[1;34m()\u001B[0m\n",
      "File \u001B[1;32mpandas\\\\_libs\\\\hashtable_class_helper.pxi:7089\u001B[0m, in \u001B[0;36mpandas._libs.hashtable.PyObjectHashTable.get_item\u001B[1;34m()\u001B[0m\n",
      "\u001B[1;31mKeyError\u001B[0m: 'creatinina'",
      "\nThe above exception was the direct cause of the following exception:\n",
      "\u001B[1;31mKeyError\u001B[0m                                  Traceback (most recent call last)",
      "Cell \u001B[1;32mIn[247], line 1\u001B[0m\n\u001B[1;32m----> 1\u001B[0m stat, p_value_12 \u001B[38;5;241m=\u001B[39m ttest_ind(\u001B[43mAMB_PA\u001B[49m\u001B[43m[\u001B[49m\u001B[38;5;124;43m'\u001B[39;49m\u001B[38;5;124;43mcreatinina\u001B[39;49m\u001B[38;5;124;43m'\u001B[39;49m\u001B[43m]\u001B[49m, AMB_PA_MECVV[\u001B[38;5;124m'\u001B[39m\u001B[38;5;124mcreatinina\u001B[39m\u001B[38;5;124m'\u001B[39m], equal_var\u001B[38;5;241m=\u001B[39m\u001B[38;5;28;01mFalse\u001B[39;00m)\n\u001B[0;32m      2\u001B[0m \u001B[38;5;28mprint\u001B[39m(\u001B[38;5;124m\"\u001B[39m\u001B[38;5;124mP-valor entre AMB_PA i AMB_PA_MECVV\u001B[39m\u001B[38;5;124m\"\u001B[39m, p_value_12)\n",
      "File \u001B[1;32m~\\PycharmProjects\\PRACTICUM\\venv\\Lib\\site-packages\\pandas\\core\\frame.py:4102\u001B[0m, in \u001B[0;36mDataFrame.__getitem__\u001B[1;34m(self, key)\u001B[0m\n\u001B[0;32m   4100\u001B[0m \u001B[38;5;28;01mif\u001B[39;00m \u001B[38;5;28mself\u001B[39m\u001B[38;5;241m.\u001B[39mcolumns\u001B[38;5;241m.\u001B[39mnlevels \u001B[38;5;241m>\u001B[39m \u001B[38;5;241m1\u001B[39m:\n\u001B[0;32m   4101\u001B[0m     \u001B[38;5;28;01mreturn\u001B[39;00m \u001B[38;5;28mself\u001B[39m\u001B[38;5;241m.\u001B[39m_getitem_multilevel(key)\n\u001B[1;32m-> 4102\u001B[0m indexer \u001B[38;5;241m=\u001B[39m \u001B[38;5;28;43mself\u001B[39;49m\u001B[38;5;241;43m.\u001B[39;49m\u001B[43mcolumns\u001B[49m\u001B[38;5;241;43m.\u001B[39;49m\u001B[43mget_loc\u001B[49m\u001B[43m(\u001B[49m\u001B[43mkey\u001B[49m\u001B[43m)\u001B[49m\n\u001B[0;32m   4103\u001B[0m \u001B[38;5;28;01mif\u001B[39;00m is_integer(indexer):\n\u001B[0;32m   4104\u001B[0m     indexer \u001B[38;5;241m=\u001B[39m [indexer]\n",
      "File \u001B[1;32m~\\PycharmProjects\\PRACTICUM\\venv\\Lib\\site-packages\\pandas\\core\\indexes\\base.py:3812\u001B[0m, in \u001B[0;36mIndex.get_loc\u001B[1;34m(self, key)\u001B[0m\n\u001B[0;32m   3807\u001B[0m     \u001B[38;5;28;01mif\u001B[39;00m \u001B[38;5;28misinstance\u001B[39m(casted_key, \u001B[38;5;28mslice\u001B[39m) \u001B[38;5;129;01mor\u001B[39;00m (\n\u001B[0;32m   3808\u001B[0m         \u001B[38;5;28misinstance\u001B[39m(casted_key, abc\u001B[38;5;241m.\u001B[39mIterable)\n\u001B[0;32m   3809\u001B[0m         \u001B[38;5;129;01mand\u001B[39;00m \u001B[38;5;28many\u001B[39m(\u001B[38;5;28misinstance\u001B[39m(x, \u001B[38;5;28mslice\u001B[39m) \u001B[38;5;28;01mfor\u001B[39;00m x \u001B[38;5;129;01min\u001B[39;00m casted_key)\n\u001B[0;32m   3810\u001B[0m     ):\n\u001B[0;32m   3811\u001B[0m         \u001B[38;5;28;01mraise\u001B[39;00m InvalidIndexError(key)\n\u001B[1;32m-> 3812\u001B[0m     \u001B[38;5;28;01mraise\u001B[39;00m \u001B[38;5;167;01mKeyError\u001B[39;00m(key) \u001B[38;5;28;01mfrom\u001B[39;00m \u001B[38;5;21;01merr\u001B[39;00m\n\u001B[0;32m   3813\u001B[0m \u001B[38;5;28;01mexcept\u001B[39;00m \u001B[38;5;167;01mTypeError\u001B[39;00m:\n\u001B[0;32m   3814\u001B[0m     \u001B[38;5;66;03m# If we have a listlike key, _check_indexing_error will raise\u001B[39;00m\n\u001B[0;32m   3815\u001B[0m     \u001B[38;5;66;03m#  InvalidIndexError. Otherwise we fall through and re-raise\u001B[39;00m\n\u001B[0;32m   3816\u001B[0m     \u001B[38;5;66;03m#  the TypeError.\u001B[39;00m\n\u001B[0;32m   3817\u001B[0m     \u001B[38;5;28mself\u001B[39m\u001B[38;5;241m.\u001B[39m_check_indexing_error(key)\n",
      "\u001B[1;31mKeyError\u001B[0m: 'creatinina'"
     ]
    }
   ],
   "execution_count": 247
  },
  {
   "metadata": {
    "ExecuteTime": {
     "end_time": "2024-05-03T10:15:50.330697Z",
     "start_time": "2024-05-03T10:15:50.287527Z"
    }
   },
   "cell_type": "code",
   "source": [
    "stat, p_value_13 = mannwhitneyu(AMB_PA['creatinina'], SENSE_PA['creatinina'], alternative='two-sided')\n",
    "print(\"P-valor entre AMB_PA i SENSE_PA\", p_value_13)"
   ],
   "id": "17e378b6adaccd52",
   "outputs": [
    {
     "ename": "KeyError",
     "evalue": "'creatinina'",
     "output_type": "error",
     "traceback": [
      "\u001B[1;31m---------------------------------------------------------------------------\u001B[0m",
      "\u001B[1;31mKeyError\u001B[0m                                  Traceback (most recent call last)",
      "File \u001B[1;32m~\\PycharmProjects\\PRACTICUM\\venv\\Lib\\site-packages\\pandas\\core\\indexes\\base.py:3805\u001B[0m, in \u001B[0;36mIndex.get_loc\u001B[1;34m(self, key)\u001B[0m\n\u001B[0;32m   3804\u001B[0m \u001B[38;5;28;01mtry\u001B[39;00m:\n\u001B[1;32m-> 3805\u001B[0m     \u001B[38;5;28;01mreturn\u001B[39;00m \u001B[38;5;28;43mself\u001B[39;49m\u001B[38;5;241;43m.\u001B[39;49m\u001B[43m_engine\u001B[49m\u001B[38;5;241;43m.\u001B[39;49m\u001B[43mget_loc\u001B[49m\u001B[43m(\u001B[49m\u001B[43mcasted_key\u001B[49m\u001B[43m)\u001B[49m\n\u001B[0;32m   3806\u001B[0m \u001B[38;5;28;01mexcept\u001B[39;00m \u001B[38;5;167;01mKeyError\u001B[39;00m \u001B[38;5;28;01mas\u001B[39;00m err:\n",
      "File \u001B[1;32mindex.pyx:167\u001B[0m, in \u001B[0;36mpandas._libs.index.IndexEngine.get_loc\u001B[1;34m()\u001B[0m\n",
      "File \u001B[1;32mindex.pyx:196\u001B[0m, in \u001B[0;36mpandas._libs.index.IndexEngine.get_loc\u001B[1;34m()\u001B[0m\n",
      "File \u001B[1;32mpandas\\\\_libs\\\\hashtable_class_helper.pxi:7081\u001B[0m, in \u001B[0;36mpandas._libs.hashtable.PyObjectHashTable.get_item\u001B[1;34m()\u001B[0m\n",
      "File \u001B[1;32mpandas\\\\_libs\\\\hashtable_class_helper.pxi:7089\u001B[0m, in \u001B[0;36mpandas._libs.hashtable.PyObjectHashTable.get_item\u001B[1;34m()\u001B[0m\n",
      "\u001B[1;31mKeyError\u001B[0m: 'creatinina'",
      "\nThe above exception was the direct cause of the following exception:\n",
      "\u001B[1;31mKeyError\u001B[0m                                  Traceback (most recent call last)",
      "Cell \u001B[1;32mIn[248], line 1\u001B[0m\n\u001B[1;32m----> 1\u001B[0m stat, p_value_13 \u001B[38;5;241m=\u001B[39m mannwhitneyu(\u001B[43mAMB_PA\u001B[49m\u001B[43m[\u001B[49m\u001B[38;5;124;43m'\u001B[39;49m\u001B[38;5;124;43mcreatinina\u001B[39;49m\u001B[38;5;124;43m'\u001B[39;49m\u001B[43m]\u001B[49m, SENSE_PA[\u001B[38;5;124m'\u001B[39m\u001B[38;5;124mcreatinina\u001B[39m\u001B[38;5;124m'\u001B[39m], alternative\u001B[38;5;241m=\u001B[39m\u001B[38;5;124m'\u001B[39m\u001B[38;5;124mtwo-sided\u001B[39m\u001B[38;5;124m'\u001B[39m)\n\u001B[0;32m      2\u001B[0m \u001B[38;5;28mprint\u001B[39m(\u001B[38;5;124m\"\u001B[39m\u001B[38;5;124mP-valor entre AMB_PA i SENSE_PA\u001B[39m\u001B[38;5;124m\"\u001B[39m, p_value_13)\n",
      "File \u001B[1;32m~\\PycharmProjects\\PRACTICUM\\venv\\Lib\\site-packages\\pandas\\core\\frame.py:4102\u001B[0m, in \u001B[0;36mDataFrame.__getitem__\u001B[1;34m(self, key)\u001B[0m\n\u001B[0;32m   4100\u001B[0m \u001B[38;5;28;01mif\u001B[39;00m \u001B[38;5;28mself\u001B[39m\u001B[38;5;241m.\u001B[39mcolumns\u001B[38;5;241m.\u001B[39mnlevels \u001B[38;5;241m>\u001B[39m \u001B[38;5;241m1\u001B[39m:\n\u001B[0;32m   4101\u001B[0m     \u001B[38;5;28;01mreturn\u001B[39;00m \u001B[38;5;28mself\u001B[39m\u001B[38;5;241m.\u001B[39m_getitem_multilevel(key)\n\u001B[1;32m-> 4102\u001B[0m indexer \u001B[38;5;241m=\u001B[39m \u001B[38;5;28;43mself\u001B[39;49m\u001B[38;5;241;43m.\u001B[39;49m\u001B[43mcolumns\u001B[49m\u001B[38;5;241;43m.\u001B[39;49m\u001B[43mget_loc\u001B[49m\u001B[43m(\u001B[49m\u001B[43mkey\u001B[49m\u001B[43m)\u001B[49m\n\u001B[0;32m   4103\u001B[0m \u001B[38;5;28;01mif\u001B[39;00m is_integer(indexer):\n\u001B[0;32m   4104\u001B[0m     indexer \u001B[38;5;241m=\u001B[39m [indexer]\n",
      "File \u001B[1;32m~\\PycharmProjects\\PRACTICUM\\venv\\Lib\\site-packages\\pandas\\core\\indexes\\base.py:3812\u001B[0m, in \u001B[0;36mIndex.get_loc\u001B[1;34m(self, key)\u001B[0m\n\u001B[0;32m   3807\u001B[0m     \u001B[38;5;28;01mif\u001B[39;00m \u001B[38;5;28misinstance\u001B[39m(casted_key, \u001B[38;5;28mslice\u001B[39m) \u001B[38;5;129;01mor\u001B[39;00m (\n\u001B[0;32m   3808\u001B[0m         \u001B[38;5;28misinstance\u001B[39m(casted_key, abc\u001B[38;5;241m.\u001B[39mIterable)\n\u001B[0;32m   3809\u001B[0m         \u001B[38;5;129;01mand\u001B[39;00m \u001B[38;5;28many\u001B[39m(\u001B[38;5;28misinstance\u001B[39m(x, \u001B[38;5;28mslice\u001B[39m) \u001B[38;5;28;01mfor\u001B[39;00m x \u001B[38;5;129;01min\u001B[39;00m casted_key)\n\u001B[0;32m   3810\u001B[0m     ):\n\u001B[0;32m   3811\u001B[0m         \u001B[38;5;28;01mraise\u001B[39;00m InvalidIndexError(key)\n\u001B[1;32m-> 3812\u001B[0m     \u001B[38;5;28;01mraise\u001B[39;00m \u001B[38;5;167;01mKeyError\u001B[39;00m(key) \u001B[38;5;28;01mfrom\u001B[39;00m \u001B[38;5;21;01merr\u001B[39;00m\n\u001B[0;32m   3813\u001B[0m \u001B[38;5;28;01mexcept\u001B[39;00m \u001B[38;5;167;01mTypeError\u001B[39;00m:\n\u001B[0;32m   3814\u001B[0m     \u001B[38;5;66;03m# If we have a listlike key, _check_indexing_error will raise\u001B[39;00m\n\u001B[0;32m   3815\u001B[0m     \u001B[38;5;66;03m#  InvalidIndexError. Otherwise we fall through and re-raise\u001B[39;00m\n\u001B[0;32m   3816\u001B[0m     \u001B[38;5;66;03m#  the TypeError.\u001B[39;00m\n\u001B[0;32m   3817\u001B[0m     \u001B[38;5;28mself\u001B[39m\u001B[38;5;241m.\u001B[39m_check_indexing_error(key)\n",
      "\u001B[1;31mKeyError\u001B[0m: 'creatinina'"
     ]
    }
   ],
   "execution_count": 248
  },
  {
   "metadata": {
    "ExecuteTime": {
     "end_time": "2024-05-03T10:15:50.663704Z",
     "start_time": "2024-05-03T10:15:50.625759Z"
    }
   },
   "cell_type": "code",
   "source": [
    "stat, p_value_23 = mannwhitneyu(AMB_PA_MECVV['creatinina'], SENSE_PA['creatinina'], alternative='two-sided')\n",
    "print(\"P-valor entre AMB_PA_MECVV i SENSE_PA\", p_value_23)"
   ],
   "id": "4d738444b5cc0416",
   "outputs": [
    {
     "ename": "KeyError",
     "evalue": "'creatinina'",
     "output_type": "error",
     "traceback": [
      "\u001B[1;31m---------------------------------------------------------------------------\u001B[0m",
      "\u001B[1;31mKeyError\u001B[0m                                  Traceback (most recent call last)",
      "File \u001B[1;32m~\\PycharmProjects\\PRACTICUM\\venv\\Lib\\site-packages\\pandas\\core\\indexes\\base.py:3805\u001B[0m, in \u001B[0;36mIndex.get_loc\u001B[1;34m(self, key)\u001B[0m\n\u001B[0;32m   3804\u001B[0m \u001B[38;5;28;01mtry\u001B[39;00m:\n\u001B[1;32m-> 3805\u001B[0m     \u001B[38;5;28;01mreturn\u001B[39;00m \u001B[38;5;28;43mself\u001B[39;49m\u001B[38;5;241;43m.\u001B[39;49m\u001B[43m_engine\u001B[49m\u001B[38;5;241;43m.\u001B[39;49m\u001B[43mget_loc\u001B[49m\u001B[43m(\u001B[49m\u001B[43mcasted_key\u001B[49m\u001B[43m)\u001B[49m\n\u001B[0;32m   3806\u001B[0m \u001B[38;5;28;01mexcept\u001B[39;00m \u001B[38;5;167;01mKeyError\u001B[39;00m \u001B[38;5;28;01mas\u001B[39;00m err:\n",
      "File \u001B[1;32mindex.pyx:167\u001B[0m, in \u001B[0;36mpandas._libs.index.IndexEngine.get_loc\u001B[1;34m()\u001B[0m\n",
      "File \u001B[1;32mindex.pyx:196\u001B[0m, in \u001B[0;36mpandas._libs.index.IndexEngine.get_loc\u001B[1;34m()\u001B[0m\n",
      "File \u001B[1;32mpandas\\\\_libs\\\\hashtable_class_helper.pxi:7081\u001B[0m, in \u001B[0;36mpandas._libs.hashtable.PyObjectHashTable.get_item\u001B[1;34m()\u001B[0m\n",
      "File \u001B[1;32mpandas\\\\_libs\\\\hashtable_class_helper.pxi:7089\u001B[0m, in \u001B[0;36mpandas._libs.hashtable.PyObjectHashTable.get_item\u001B[1;34m()\u001B[0m\n",
      "\u001B[1;31mKeyError\u001B[0m: 'creatinina'",
      "\nThe above exception was the direct cause of the following exception:\n",
      "\u001B[1;31mKeyError\u001B[0m                                  Traceback (most recent call last)",
      "Cell \u001B[1;32mIn[249], line 1\u001B[0m\n\u001B[1;32m----> 1\u001B[0m stat, p_value_23 \u001B[38;5;241m=\u001B[39m mannwhitneyu(\u001B[43mAMB_PA_MECVV\u001B[49m\u001B[43m[\u001B[49m\u001B[38;5;124;43m'\u001B[39;49m\u001B[38;5;124;43mcreatinina\u001B[39;49m\u001B[38;5;124;43m'\u001B[39;49m\u001B[43m]\u001B[49m, SENSE_PA[\u001B[38;5;124m'\u001B[39m\u001B[38;5;124mcreatinina\u001B[39m\u001B[38;5;124m'\u001B[39m], alternative\u001B[38;5;241m=\u001B[39m\u001B[38;5;124m'\u001B[39m\u001B[38;5;124mtwo-sided\u001B[39m\u001B[38;5;124m'\u001B[39m)\n\u001B[0;32m      2\u001B[0m \u001B[38;5;28mprint\u001B[39m(\u001B[38;5;124m\"\u001B[39m\u001B[38;5;124mP-valor entre AMB_PA_MECVV i SENSE_PA\u001B[39m\u001B[38;5;124m\"\u001B[39m, p_value_23)\n",
      "File \u001B[1;32m~\\PycharmProjects\\PRACTICUM\\venv\\Lib\\site-packages\\pandas\\core\\frame.py:4102\u001B[0m, in \u001B[0;36mDataFrame.__getitem__\u001B[1;34m(self, key)\u001B[0m\n\u001B[0;32m   4100\u001B[0m \u001B[38;5;28;01mif\u001B[39;00m \u001B[38;5;28mself\u001B[39m\u001B[38;5;241m.\u001B[39mcolumns\u001B[38;5;241m.\u001B[39mnlevels \u001B[38;5;241m>\u001B[39m \u001B[38;5;241m1\u001B[39m:\n\u001B[0;32m   4101\u001B[0m     \u001B[38;5;28;01mreturn\u001B[39;00m \u001B[38;5;28mself\u001B[39m\u001B[38;5;241m.\u001B[39m_getitem_multilevel(key)\n\u001B[1;32m-> 4102\u001B[0m indexer \u001B[38;5;241m=\u001B[39m \u001B[38;5;28;43mself\u001B[39;49m\u001B[38;5;241;43m.\u001B[39;49m\u001B[43mcolumns\u001B[49m\u001B[38;5;241;43m.\u001B[39;49m\u001B[43mget_loc\u001B[49m\u001B[43m(\u001B[49m\u001B[43mkey\u001B[49m\u001B[43m)\u001B[49m\n\u001B[0;32m   4103\u001B[0m \u001B[38;5;28;01mif\u001B[39;00m is_integer(indexer):\n\u001B[0;32m   4104\u001B[0m     indexer \u001B[38;5;241m=\u001B[39m [indexer]\n",
      "File \u001B[1;32m~\\PycharmProjects\\PRACTICUM\\venv\\Lib\\site-packages\\pandas\\core\\indexes\\base.py:3812\u001B[0m, in \u001B[0;36mIndex.get_loc\u001B[1;34m(self, key)\u001B[0m\n\u001B[0;32m   3807\u001B[0m     \u001B[38;5;28;01mif\u001B[39;00m \u001B[38;5;28misinstance\u001B[39m(casted_key, \u001B[38;5;28mslice\u001B[39m) \u001B[38;5;129;01mor\u001B[39;00m (\n\u001B[0;32m   3808\u001B[0m         \u001B[38;5;28misinstance\u001B[39m(casted_key, abc\u001B[38;5;241m.\u001B[39mIterable)\n\u001B[0;32m   3809\u001B[0m         \u001B[38;5;129;01mand\u001B[39;00m \u001B[38;5;28many\u001B[39m(\u001B[38;5;28misinstance\u001B[39m(x, \u001B[38;5;28mslice\u001B[39m) \u001B[38;5;28;01mfor\u001B[39;00m x \u001B[38;5;129;01min\u001B[39;00m casted_key)\n\u001B[0;32m   3810\u001B[0m     ):\n\u001B[0;32m   3811\u001B[0m         \u001B[38;5;28;01mraise\u001B[39;00m InvalidIndexError(key)\n\u001B[1;32m-> 3812\u001B[0m     \u001B[38;5;28;01mraise\u001B[39;00m \u001B[38;5;167;01mKeyError\u001B[39;00m(key) \u001B[38;5;28;01mfrom\u001B[39;00m \u001B[38;5;21;01merr\u001B[39;00m\n\u001B[0;32m   3813\u001B[0m \u001B[38;5;28;01mexcept\u001B[39;00m \u001B[38;5;167;01mTypeError\u001B[39;00m:\n\u001B[0;32m   3814\u001B[0m     \u001B[38;5;66;03m# If we have a listlike key, _check_indexing_error will raise\u001B[39;00m\n\u001B[0;32m   3815\u001B[0m     \u001B[38;5;66;03m#  InvalidIndexError. Otherwise we fall through and re-raise\u001B[39;00m\n\u001B[0;32m   3816\u001B[0m     \u001B[38;5;66;03m#  the TypeError.\u001B[39;00m\n\u001B[0;32m   3817\u001B[0m     \u001B[38;5;28mself\u001B[39m\u001B[38;5;241m.\u001B[39m_check_indexing_error(key)\n",
      "\u001B[1;31mKeyError\u001B[0m: 'creatinina'"
     ]
    }
   ],
   "execution_count": 249
  },
  {
   "metadata": {},
   "cell_type": "markdown",
   "source": [
    "## Fallida renal aguda (o insuficiència renal aguda)"
   ],
   "id": "2a45b7c462b693cc"
  },
  {
   "metadata": {
    "ExecuteTime": {
     "end_time": "2024-05-03T10:15:51.016637Z",
     "start_time": "2024-05-03T10:15:51.013781Z"
    }
   },
   "cell_type": "code",
   "source": [
    "ira_AMB_PA= (AMB_PA['ARF'] == 1.0).mean() * 100\n",
    "print(f\"Percentatge de fallida renal aguda: {ira_AMB_PA:.2f}%\")"
   ],
   "id": "bf4cb3020f4ab65",
   "outputs": [
    {
     "name": "stdout",
     "output_type": "stream",
     "text": [
      "Percentatge de fallida renal aguda: 23.53%\n"
     ]
    }
   ],
   "execution_count": 250
  },
  {
   "metadata": {
    "ExecuteTime": {
     "end_time": "2024-05-03T10:15:51.244537Z",
     "start_time": "2024-05-03T10:15:51.241472Z"
    }
   },
   "cell_type": "code",
   "source": [
    "ira_AMB_PA_MECVV= (AMB_PA_MECVV['ARF'] == 1.0).mean() * 100\n",
    "print(f\"Percentatge de fallida renal aguda: {ira_AMB_PA_MECVV:.2f}%\")"
   ],
   "id": "694f049952ae8d4f",
   "outputs": [
    {
     "name": "stdout",
     "output_type": "stream",
     "text": [
      "Percentatge de fallida renal aguda: 50.00%\n"
     ]
    }
   ],
   "execution_count": 251
  },
  {
   "metadata": {
    "ExecuteTime": {
     "end_time": "2024-05-03T10:15:51.610531Z",
     "start_time": "2024-05-03T10:15:51.607474Z"
    }
   },
   "cell_type": "code",
   "source": [
    "ira_SENSE_PA= (SENSE_PA['ARF'] == 1.0).mean() * 100\n",
    "print(f\"Percentatge de fallida renal aguda: {ira_SENSE_PA:.2f}%\")"
   ],
   "id": "d9da03942f97e9ff",
   "outputs": [
    {
     "name": "stdout",
     "output_type": "stream",
     "text": [
      "Percentatge de fallida renal aguda: 50.00%\n"
     ]
    }
   ],
   "execution_count": 252
  },
  {
   "metadata": {},
   "cell_type": "markdown",
   "source": [
    "#### Pvalor"
   ],
   "id": "fa90e43bd79a9017"
  },
  {
   "metadata": {},
   "cell_type": "markdown",
   "source": [
    "##### Normalitat"
   ],
   "id": "ab080f83d40e2433"
  },
  {
   "metadata": {
    "ExecuteTime": {
     "end_time": "2024-05-03T10:15:51.810651Z",
     "start_time": "2024-05-03T10:15:51.807468Z"
    }
   },
   "cell_type": "code",
   "source": [
    "stat, p_value = shapiro(AMB_PA['ARF'])\n",
    "print(f\"Estadístic W = {stat:.4f}\")\n",
    "print(f\"Valor p = {p_value:.4f}\")\n",
    "\n",
    "alpha = 0.05\n",
    "if p_value < alpha:\n",
    "    print(\"El nombre de files no segueix una distribució normal.\")\n",
    "else:\n",
    "    print(\"El nombre de files segueix una distribució normal\")"
   ],
   "id": "889a0951b2fe1cd5",
   "outputs": [
    {
     "name": "stdout",
     "output_type": "stream",
     "text": [
      "Estadístic W = 0.5327\n",
      "Valor p = 0.0000\n",
      "El nombre de files no segueix una distribució normal.\n"
     ]
    }
   ],
   "execution_count": 253
  },
  {
   "metadata": {
    "ExecuteTime": {
     "end_time": "2024-05-03T10:15:52.193455Z",
     "start_time": "2024-05-03T10:15:52.189972Z"
    }
   },
   "cell_type": "code",
   "source": [
    "stat, p_value = shapiro(AMB_PA_MECVV['ARF'])\n",
    "print(f\"Estadístic W = {stat:.4f}\")\n",
    "print(f\"Valor p = {p_value:.4f}\")\n",
    "\n",
    "alpha = 0.05\n",
    "if p_value < alpha:\n",
    "    print(\"El nombre de files no segueix una distribució normal.\")\n",
    "else:\n",
    "    print(\"El nombre de files segueix una distribució normal\")"
   ],
   "id": "d9b63b5fd8da70fb",
   "outputs": [
    {
     "name": "stdout",
     "output_type": "stream",
     "text": [
      "Estadístic W = 0.6647\n",
      "Valor p = 0.0009\n",
      "El nombre de files no segueix una distribució normal.\n"
     ]
    }
   ],
   "execution_count": 254
  },
  {
   "metadata": {
    "ExecuteTime": {
     "end_time": "2024-05-03T10:15:52.468513Z",
     "start_time": "2024-05-03T10:15:52.464513Z"
    }
   },
   "cell_type": "code",
   "source": [
    "stat, p_value = shapiro(SENSE_PA['ARF'])\n",
    "print(f\"Estadístic W = {stat:.4f}\")\n",
    "print(f\"Valor p = {p_value:.4f}\")\n",
    "\n",
    "alpha = 0.05\n",
    "if p_value < alpha:\n",
    "    print(\"El nombre de files no segueix una distribució normal.\")\n",
    "else:\n",
    "    print(\"El nombre de files segueix una distribució normal\")"
   ],
   "id": "c346c65e6b676207",
   "outputs": [
    {
     "name": "stdout",
     "output_type": "stream",
     "text": [
      "Estadístic W = 0.6647\n",
      "Valor p = 0.0009\n",
      "El nombre de files no segueix una distribució normal.\n"
     ]
    }
   ],
   "execution_count": 255
  },
  {
   "metadata": {
    "ExecuteTime": {
     "end_time": "2024-05-03T10:15:52.743736Z",
     "start_time": "2024-05-03T10:15:52.739574Z"
    }
   },
   "cell_type": "code",
   "source": [
    "stat, p_value_12 = mannwhitneyu(AMB_PA['ARF'], AMB_PA_MECVV['ARF'], alternative='two-sided')\n",
    "print(\"P-valor entre AMB_PA i AMB_PA_MECVV\", p_value_12)"
   ],
   "id": "a11f6f5322e507d3",
   "outputs": [
    {
     "name": "stdout",
     "output_type": "stream",
     "text": [
      "P-valor entre AMB_PA i AMB_PA_MECVV 0.2073928860736831\n"
     ]
    }
   ],
   "execution_count": 256
  },
  {
   "metadata": {
    "ExecuteTime": {
     "end_time": "2024-05-03T10:15:53.021655Z",
     "start_time": "2024-05-03T10:15:53.017402Z"
    }
   },
   "cell_type": "code",
   "source": [
    "stat, p_value_13 = mannwhitneyu(AMB_PA['ARF'], SENSE_PA['ARF'], alternative='two-sided')\n",
    "print(\"P-valor entre AMB_PA i SENSE_PA\", p_value_13)"
   ],
   "id": "9a5bbf6808c79243",
   "outputs": [
    {
     "name": "stdout",
     "output_type": "stream",
     "text": [
      "P-valor entre AMB_PA i SENSE_PA 0.2073928860736831\n"
     ]
    }
   ],
   "execution_count": 257
  },
  {
   "metadata": {
    "ExecuteTime": {
     "end_time": "2024-05-03T10:15:53.313937Z",
     "start_time": "2024-05-03T10:15:53.309336Z"
    }
   },
   "cell_type": "code",
   "source": [
    "stat, p_value_23 = mannwhitneyu(AMB_PA_MECVV['ARF'], SENSE_PA['ARF'], alternative='two-sided')\n",
    "print(\"P-valor entre AMB_PA i SENSE_PA\", p_value_23)"
   ],
   "id": "3825dfecd1188df7",
   "outputs": [
    {
     "name": "stdout",
     "output_type": "stream",
     "text": [
      "P-valor entre AMB_PA i SENSE_PA 1.0\n"
     ]
    }
   ],
   "execution_count": 258
  },
  {
   "metadata": {},
   "cell_type": "markdown",
   "source": [
    "## Marejos/síncope/lipotímia/reacció vasovagal"
   ],
   "id": "b569dbe66e8fcbe9"
  },
  {
   "metadata": {
    "ExecuteTime": {
     "end_time": "2024-05-03T10:15:53.659805Z",
     "start_time": "2024-05-03T10:15:53.620002Z"
    }
   },
   "cell_type": "code",
   "source": [
    "dizsyn_AMB_PA= (AMB_PA['mareos'] == 1.0).mean() * 100\n",
    "print(f\"Percentatge de marejos/síncope/lipotímia/reacció vasovagal: {dizsyn_AMB_PA:.2f}%\")"
   ],
   "id": "50900335d331ab2",
   "outputs": [
    {
     "ename": "KeyError",
     "evalue": "'mareos'",
     "output_type": "error",
     "traceback": [
      "\u001B[1;31m---------------------------------------------------------------------------\u001B[0m",
      "\u001B[1;31mKeyError\u001B[0m                                  Traceback (most recent call last)",
      "File \u001B[1;32m~\\PycharmProjects\\PRACTICUM\\venv\\Lib\\site-packages\\pandas\\core\\indexes\\base.py:3805\u001B[0m, in \u001B[0;36mIndex.get_loc\u001B[1;34m(self, key)\u001B[0m\n\u001B[0;32m   3804\u001B[0m \u001B[38;5;28;01mtry\u001B[39;00m:\n\u001B[1;32m-> 3805\u001B[0m     \u001B[38;5;28;01mreturn\u001B[39;00m \u001B[38;5;28;43mself\u001B[39;49m\u001B[38;5;241;43m.\u001B[39;49m\u001B[43m_engine\u001B[49m\u001B[38;5;241;43m.\u001B[39;49m\u001B[43mget_loc\u001B[49m\u001B[43m(\u001B[49m\u001B[43mcasted_key\u001B[49m\u001B[43m)\u001B[49m\n\u001B[0;32m   3806\u001B[0m \u001B[38;5;28;01mexcept\u001B[39;00m \u001B[38;5;167;01mKeyError\u001B[39;00m \u001B[38;5;28;01mas\u001B[39;00m err:\n",
      "File \u001B[1;32mindex.pyx:167\u001B[0m, in \u001B[0;36mpandas._libs.index.IndexEngine.get_loc\u001B[1;34m()\u001B[0m\n",
      "File \u001B[1;32mindex.pyx:196\u001B[0m, in \u001B[0;36mpandas._libs.index.IndexEngine.get_loc\u001B[1;34m()\u001B[0m\n",
      "File \u001B[1;32mpandas\\\\_libs\\\\hashtable_class_helper.pxi:7081\u001B[0m, in \u001B[0;36mpandas._libs.hashtable.PyObjectHashTable.get_item\u001B[1;34m()\u001B[0m\n",
      "File \u001B[1;32mpandas\\\\_libs\\\\hashtable_class_helper.pxi:7089\u001B[0m, in \u001B[0;36mpandas._libs.hashtable.PyObjectHashTable.get_item\u001B[1;34m()\u001B[0m\n",
      "\u001B[1;31mKeyError\u001B[0m: 'mareos'",
      "\nThe above exception was the direct cause of the following exception:\n",
      "\u001B[1;31mKeyError\u001B[0m                                  Traceback (most recent call last)",
      "Cell \u001B[1;32mIn[259], line 1\u001B[0m\n\u001B[1;32m----> 1\u001B[0m dizsyn_AMB_PA\u001B[38;5;241m=\u001B[39m (\u001B[43mAMB_PA\u001B[49m\u001B[43m[\u001B[49m\u001B[38;5;124;43m'\u001B[39;49m\u001B[38;5;124;43mmareos\u001B[39;49m\u001B[38;5;124;43m'\u001B[39;49m\u001B[43m]\u001B[49m \u001B[38;5;241m==\u001B[39m \u001B[38;5;241m1.0\u001B[39m)\u001B[38;5;241m.\u001B[39mmean() \u001B[38;5;241m*\u001B[39m \u001B[38;5;241m100\u001B[39m\n\u001B[0;32m      2\u001B[0m \u001B[38;5;28mprint\u001B[39m(\u001B[38;5;124mf\u001B[39m\u001B[38;5;124m\"\u001B[39m\u001B[38;5;124mPercentatge de marejos/síncope/lipotímia/reacció vasovagal: \u001B[39m\u001B[38;5;132;01m{\u001B[39;00mdizsyn_AMB_PA\u001B[38;5;132;01m:\u001B[39;00m\u001B[38;5;124m.2f\u001B[39m\u001B[38;5;132;01m}\u001B[39;00m\u001B[38;5;124m%\u001B[39m\u001B[38;5;124m\"\u001B[39m)\n",
      "File \u001B[1;32m~\\PycharmProjects\\PRACTICUM\\venv\\Lib\\site-packages\\pandas\\core\\frame.py:4102\u001B[0m, in \u001B[0;36mDataFrame.__getitem__\u001B[1;34m(self, key)\u001B[0m\n\u001B[0;32m   4100\u001B[0m \u001B[38;5;28;01mif\u001B[39;00m \u001B[38;5;28mself\u001B[39m\u001B[38;5;241m.\u001B[39mcolumns\u001B[38;5;241m.\u001B[39mnlevels \u001B[38;5;241m>\u001B[39m \u001B[38;5;241m1\u001B[39m:\n\u001B[0;32m   4101\u001B[0m     \u001B[38;5;28;01mreturn\u001B[39;00m \u001B[38;5;28mself\u001B[39m\u001B[38;5;241m.\u001B[39m_getitem_multilevel(key)\n\u001B[1;32m-> 4102\u001B[0m indexer \u001B[38;5;241m=\u001B[39m \u001B[38;5;28;43mself\u001B[39;49m\u001B[38;5;241;43m.\u001B[39;49m\u001B[43mcolumns\u001B[49m\u001B[38;5;241;43m.\u001B[39;49m\u001B[43mget_loc\u001B[49m\u001B[43m(\u001B[49m\u001B[43mkey\u001B[49m\u001B[43m)\u001B[49m\n\u001B[0;32m   4103\u001B[0m \u001B[38;5;28;01mif\u001B[39;00m is_integer(indexer):\n\u001B[0;32m   4104\u001B[0m     indexer \u001B[38;5;241m=\u001B[39m [indexer]\n",
      "File \u001B[1;32m~\\PycharmProjects\\PRACTICUM\\venv\\Lib\\site-packages\\pandas\\core\\indexes\\base.py:3812\u001B[0m, in \u001B[0;36mIndex.get_loc\u001B[1;34m(self, key)\u001B[0m\n\u001B[0;32m   3807\u001B[0m     \u001B[38;5;28;01mif\u001B[39;00m \u001B[38;5;28misinstance\u001B[39m(casted_key, \u001B[38;5;28mslice\u001B[39m) \u001B[38;5;129;01mor\u001B[39;00m (\n\u001B[0;32m   3808\u001B[0m         \u001B[38;5;28misinstance\u001B[39m(casted_key, abc\u001B[38;5;241m.\u001B[39mIterable)\n\u001B[0;32m   3809\u001B[0m         \u001B[38;5;129;01mand\u001B[39;00m \u001B[38;5;28many\u001B[39m(\u001B[38;5;28misinstance\u001B[39m(x, \u001B[38;5;28mslice\u001B[39m) \u001B[38;5;28;01mfor\u001B[39;00m x \u001B[38;5;129;01min\u001B[39;00m casted_key)\n\u001B[0;32m   3810\u001B[0m     ):\n\u001B[0;32m   3811\u001B[0m         \u001B[38;5;28;01mraise\u001B[39;00m InvalidIndexError(key)\n\u001B[1;32m-> 3812\u001B[0m     \u001B[38;5;28;01mraise\u001B[39;00m \u001B[38;5;167;01mKeyError\u001B[39;00m(key) \u001B[38;5;28;01mfrom\u001B[39;00m \u001B[38;5;21;01merr\u001B[39;00m\n\u001B[0;32m   3813\u001B[0m \u001B[38;5;28;01mexcept\u001B[39;00m \u001B[38;5;167;01mTypeError\u001B[39;00m:\n\u001B[0;32m   3814\u001B[0m     \u001B[38;5;66;03m# If we have a listlike key, _check_indexing_error will raise\u001B[39;00m\n\u001B[0;32m   3815\u001B[0m     \u001B[38;5;66;03m#  InvalidIndexError. Otherwise we fall through and re-raise\u001B[39;00m\n\u001B[0;32m   3816\u001B[0m     \u001B[38;5;66;03m#  the TypeError.\u001B[39;00m\n\u001B[0;32m   3817\u001B[0m     \u001B[38;5;28mself\u001B[39m\u001B[38;5;241m.\u001B[39m_check_indexing_error(key)\n",
      "\u001B[1;31mKeyError\u001B[0m: 'mareos'"
     ]
    }
   ],
   "execution_count": 259
  },
  {
   "metadata": {
    "ExecuteTime": {
     "end_time": "2024-05-03T10:15:53.968604Z",
     "start_time": "2024-05-03T10:15:53.928862Z"
    }
   },
   "cell_type": "code",
   "source": [
    "dizsyn_AMB_PA_MECVV= (AMB_PA_MECVV['mareos'] == 1.0).mean() * 100\n",
    "print(f\"Percentatge de marejos/síncope/lipotímia/reacció vasovagal: {dizsyn_AMB_PA_MECVV:.2f}%\")"
   ],
   "id": "9dc25d01f5293c9c",
   "outputs": [
    {
     "ename": "KeyError",
     "evalue": "'mareos'",
     "output_type": "error",
     "traceback": [
      "\u001B[1;31m---------------------------------------------------------------------------\u001B[0m",
      "\u001B[1;31mKeyError\u001B[0m                                  Traceback (most recent call last)",
      "File \u001B[1;32m~\\PycharmProjects\\PRACTICUM\\venv\\Lib\\site-packages\\pandas\\core\\indexes\\base.py:3805\u001B[0m, in \u001B[0;36mIndex.get_loc\u001B[1;34m(self, key)\u001B[0m\n\u001B[0;32m   3804\u001B[0m \u001B[38;5;28;01mtry\u001B[39;00m:\n\u001B[1;32m-> 3805\u001B[0m     \u001B[38;5;28;01mreturn\u001B[39;00m \u001B[38;5;28;43mself\u001B[39;49m\u001B[38;5;241;43m.\u001B[39;49m\u001B[43m_engine\u001B[49m\u001B[38;5;241;43m.\u001B[39;49m\u001B[43mget_loc\u001B[49m\u001B[43m(\u001B[49m\u001B[43mcasted_key\u001B[49m\u001B[43m)\u001B[49m\n\u001B[0;32m   3806\u001B[0m \u001B[38;5;28;01mexcept\u001B[39;00m \u001B[38;5;167;01mKeyError\u001B[39;00m \u001B[38;5;28;01mas\u001B[39;00m err:\n",
      "File \u001B[1;32mindex.pyx:167\u001B[0m, in \u001B[0;36mpandas._libs.index.IndexEngine.get_loc\u001B[1;34m()\u001B[0m\n",
      "File \u001B[1;32mindex.pyx:196\u001B[0m, in \u001B[0;36mpandas._libs.index.IndexEngine.get_loc\u001B[1;34m()\u001B[0m\n",
      "File \u001B[1;32mpandas\\\\_libs\\\\hashtable_class_helper.pxi:7081\u001B[0m, in \u001B[0;36mpandas._libs.hashtable.PyObjectHashTable.get_item\u001B[1;34m()\u001B[0m\n",
      "File \u001B[1;32mpandas\\\\_libs\\\\hashtable_class_helper.pxi:7089\u001B[0m, in \u001B[0;36mpandas._libs.hashtable.PyObjectHashTable.get_item\u001B[1;34m()\u001B[0m\n",
      "\u001B[1;31mKeyError\u001B[0m: 'mareos'",
      "\nThe above exception was the direct cause of the following exception:\n",
      "\u001B[1;31mKeyError\u001B[0m                                  Traceback (most recent call last)",
      "Cell \u001B[1;32mIn[260], line 1\u001B[0m\n\u001B[1;32m----> 1\u001B[0m dizsyn_AMB_PA_MECVV\u001B[38;5;241m=\u001B[39m (\u001B[43mAMB_PA_MECVV\u001B[49m\u001B[43m[\u001B[49m\u001B[38;5;124;43m'\u001B[39;49m\u001B[38;5;124;43mmareos\u001B[39;49m\u001B[38;5;124;43m'\u001B[39;49m\u001B[43m]\u001B[49m \u001B[38;5;241m==\u001B[39m \u001B[38;5;241m1.0\u001B[39m)\u001B[38;5;241m.\u001B[39mmean() \u001B[38;5;241m*\u001B[39m \u001B[38;5;241m100\u001B[39m\n\u001B[0;32m      2\u001B[0m \u001B[38;5;28mprint\u001B[39m(\u001B[38;5;124mf\u001B[39m\u001B[38;5;124m\"\u001B[39m\u001B[38;5;124mPercentatge de marejos/síncope/lipotímia/reacció vasovagal: \u001B[39m\u001B[38;5;132;01m{\u001B[39;00mdizsyn_AMB_PA_MECVV\u001B[38;5;132;01m:\u001B[39;00m\u001B[38;5;124m.2f\u001B[39m\u001B[38;5;132;01m}\u001B[39;00m\u001B[38;5;124m%\u001B[39m\u001B[38;5;124m\"\u001B[39m)\n",
      "File \u001B[1;32m~\\PycharmProjects\\PRACTICUM\\venv\\Lib\\site-packages\\pandas\\core\\frame.py:4102\u001B[0m, in \u001B[0;36mDataFrame.__getitem__\u001B[1;34m(self, key)\u001B[0m\n\u001B[0;32m   4100\u001B[0m \u001B[38;5;28;01mif\u001B[39;00m \u001B[38;5;28mself\u001B[39m\u001B[38;5;241m.\u001B[39mcolumns\u001B[38;5;241m.\u001B[39mnlevels \u001B[38;5;241m>\u001B[39m \u001B[38;5;241m1\u001B[39m:\n\u001B[0;32m   4101\u001B[0m     \u001B[38;5;28;01mreturn\u001B[39;00m \u001B[38;5;28mself\u001B[39m\u001B[38;5;241m.\u001B[39m_getitem_multilevel(key)\n\u001B[1;32m-> 4102\u001B[0m indexer \u001B[38;5;241m=\u001B[39m \u001B[38;5;28;43mself\u001B[39;49m\u001B[38;5;241;43m.\u001B[39;49m\u001B[43mcolumns\u001B[49m\u001B[38;5;241;43m.\u001B[39;49m\u001B[43mget_loc\u001B[49m\u001B[43m(\u001B[49m\u001B[43mkey\u001B[49m\u001B[43m)\u001B[49m\n\u001B[0;32m   4103\u001B[0m \u001B[38;5;28;01mif\u001B[39;00m is_integer(indexer):\n\u001B[0;32m   4104\u001B[0m     indexer \u001B[38;5;241m=\u001B[39m [indexer]\n",
      "File \u001B[1;32m~\\PycharmProjects\\PRACTICUM\\venv\\Lib\\site-packages\\pandas\\core\\indexes\\base.py:3812\u001B[0m, in \u001B[0;36mIndex.get_loc\u001B[1;34m(self, key)\u001B[0m\n\u001B[0;32m   3807\u001B[0m     \u001B[38;5;28;01mif\u001B[39;00m \u001B[38;5;28misinstance\u001B[39m(casted_key, \u001B[38;5;28mslice\u001B[39m) \u001B[38;5;129;01mor\u001B[39;00m (\n\u001B[0;32m   3808\u001B[0m         \u001B[38;5;28misinstance\u001B[39m(casted_key, abc\u001B[38;5;241m.\u001B[39mIterable)\n\u001B[0;32m   3809\u001B[0m         \u001B[38;5;129;01mand\u001B[39;00m \u001B[38;5;28many\u001B[39m(\u001B[38;5;28misinstance\u001B[39m(x, \u001B[38;5;28mslice\u001B[39m) \u001B[38;5;28;01mfor\u001B[39;00m x \u001B[38;5;129;01min\u001B[39;00m casted_key)\n\u001B[0;32m   3810\u001B[0m     ):\n\u001B[0;32m   3811\u001B[0m         \u001B[38;5;28;01mraise\u001B[39;00m InvalidIndexError(key)\n\u001B[1;32m-> 3812\u001B[0m     \u001B[38;5;28;01mraise\u001B[39;00m \u001B[38;5;167;01mKeyError\u001B[39;00m(key) \u001B[38;5;28;01mfrom\u001B[39;00m \u001B[38;5;21;01merr\u001B[39;00m\n\u001B[0;32m   3813\u001B[0m \u001B[38;5;28;01mexcept\u001B[39;00m \u001B[38;5;167;01mTypeError\u001B[39;00m:\n\u001B[0;32m   3814\u001B[0m     \u001B[38;5;66;03m# If we have a listlike key, _check_indexing_error will raise\u001B[39;00m\n\u001B[0;32m   3815\u001B[0m     \u001B[38;5;66;03m#  InvalidIndexError. Otherwise we fall through and re-raise\u001B[39;00m\n\u001B[0;32m   3816\u001B[0m     \u001B[38;5;66;03m#  the TypeError.\u001B[39;00m\n\u001B[0;32m   3817\u001B[0m     \u001B[38;5;28mself\u001B[39m\u001B[38;5;241m.\u001B[39m_check_indexing_error(key)\n",
      "\u001B[1;31mKeyError\u001B[0m: 'mareos'"
     ]
    }
   ],
   "execution_count": 260
  },
  {
   "metadata": {
    "ExecuteTime": {
     "end_time": "2024-05-03T10:15:54.216594Z",
     "start_time": "2024-05-03T10:15:54.176765Z"
    }
   },
   "cell_type": "code",
   "source": [
    "dizsyn_SENSE_PA= (SENSE_PA['mareos'] == 1.0).mean() * 100\n",
    "print(f\"Percentatge de marejos/síncope/lipotímia/reacció vasovagal: {dizsyn_SENSE_PA:.2f}%\")"
   ],
   "id": "6b9c3e73228189d5",
   "outputs": [
    {
     "ename": "KeyError",
     "evalue": "'mareos'",
     "output_type": "error",
     "traceback": [
      "\u001B[1;31m---------------------------------------------------------------------------\u001B[0m",
      "\u001B[1;31mKeyError\u001B[0m                                  Traceback (most recent call last)",
      "File \u001B[1;32m~\\PycharmProjects\\PRACTICUM\\venv\\Lib\\site-packages\\pandas\\core\\indexes\\base.py:3805\u001B[0m, in \u001B[0;36mIndex.get_loc\u001B[1;34m(self, key)\u001B[0m\n\u001B[0;32m   3804\u001B[0m \u001B[38;5;28;01mtry\u001B[39;00m:\n\u001B[1;32m-> 3805\u001B[0m     \u001B[38;5;28;01mreturn\u001B[39;00m \u001B[38;5;28;43mself\u001B[39;49m\u001B[38;5;241;43m.\u001B[39;49m\u001B[43m_engine\u001B[49m\u001B[38;5;241;43m.\u001B[39;49m\u001B[43mget_loc\u001B[49m\u001B[43m(\u001B[49m\u001B[43mcasted_key\u001B[49m\u001B[43m)\u001B[49m\n\u001B[0;32m   3806\u001B[0m \u001B[38;5;28;01mexcept\u001B[39;00m \u001B[38;5;167;01mKeyError\u001B[39;00m \u001B[38;5;28;01mas\u001B[39;00m err:\n",
      "File \u001B[1;32mindex.pyx:167\u001B[0m, in \u001B[0;36mpandas._libs.index.IndexEngine.get_loc\u001B[1;34m()\u001B[0m\n",
      "File \u001B[1;32mindex.pyx:196\u001B[0m, in \u001B[0;36mpandas._libs.index.IndexEngine.get_loc\u001B[1;34m()\u001B[0m\n",
      "File \u001B[1;32mpandas\\\\_libs\\\\hashtable_class_helper.pxi:7081\u001B[0m, in \u001B[0;36mpandas._libs.hashtable.PyObjectHashTable.get_item\u001B[1;34m()\u001B[0m\n",
      "File \u001B[1;32mpandas\\\\_libs\\\\hashtable_class_helper.pxi:7089\u001B[0m, in \u001B[0;36mpandas._libs.hashtable.PyObjectHashTable.get_item\u001B[1;34m()\u001B[0m\n",
      "\u001B[1;31mKeyError\u001B[0m: 'mareos'",
      "\nThe above exception was the direct cause of the following exception:\n",
      "\u001B[1;31mKeyError\u001B[0m                                  Traceback (most recent call last)",
      "Cell \u001B[1;32mIn[261], line 1\u001B[0m\n\u001B[1;32m----> 1\u001B[0m dizsyn_SENSE_PA\u001B[38;5;241m=\u001B[39m (\u001B[43mSENSE_PA\u001B[49m\u001B[43m[\u001B[49m\u001B[38;5;124;43m'\u001B[39;49m\u001B[38;5;124;43mmareos\u001B[39;49m\u001B[38;5;124;43m'\u001B[39;49m\u001B[43m]\u001B[49m \u001B[38;5;241m==\u001B[39m \u001B[38;5;241m1.0\u001B[39m)\u001B[38;5;241m.\u001B[39mmean() \u001B[38;5;241m*\u001B[39m \u001B[38;5;241m100\u001B[39m\n\u001B[0;32m      2\u001B[0m \u001B[38;5;28mprint\u001B[39m(\u001B[38;5;124mf\u001B[39m\u001B[38;5;124m\"\u001B[39m\u001B[38;5;124mPercentatge de marejos/síncope/lipotímia/reacció vasovagal: \u001B[39m\u001B[38;5;132;01m{\u001B[39;00mdizsyn_SENSE_PA\u001B[38;5;132;01m:\u001B[39;00m\u001B[38;5;124m.2f\u001B[39m\u001B[38;5;132;01m}\u001B[39;00m\u001B[38;5;124m%\u001B[39m\u001B[38;5;124m\"\u001B[39m)\n",
      "File \u001B[1;32m~\\PycharmProjects\\PRACTICUM\\venv\\Lib\\site-packages\\pandas\\core\\frame.py:4102\u001B[0m, in \u001B[0;36mDataFrame.__getitem__\u001B[1;34m(self, key)\u001B[0m\n\u001B[0;32m   4100\u001B[0m \u001B[38;5;28;01mif\u001B[39;00m \u001B[38;5;28mself\u001B[39m\u001B[38;5;241m.\u001B[39mcolumns\u001B[38;5;241m.\u001B[39mnlevels \u001B[38;5;241m>\u001B[39m \u001B[38;5;241m1\u001B[39m:\n\u001B[0;32m   4101\u001B[0m     \u001B[38;5;28;01mreturn\u001B[39;00m \u001B[38;5;28mself\u001B[39m\u001B[38;5;241m.\u001B[39m_getitem_multilevel(key)\n\u001B[1;32m-> 4102\u001B[0m indexer \u001B[38;5;241m=\u001B[39m \u001B[38;5;28;43mself\u001B[39;49m\u001B[38;5;241;43m.\u001B[39;49m\u001B[43mcolumns\u001B[49m\u001B[38;5;241;43m.\u001B[39;49m\u001B[43mget_loc\u001B[49m\u001B[43m(\u001B[49m\u001B[43mkey\u001B[49m\u001B[43m)\u001B[49m\n\u001B[0;32m   4103\u001B[0m \u001B[38;5;28;01mif\u001B[39;00m is_integer(indexer):\n\u001B[0;32m   4104\u001B[0m     indexer \u001B[38;5;241m=\u001B[39m [indexer]\n",
      "File \u001B[1;32m~\\PycharmProjects\\PRACTICUM\\venv\\Lib\\site-packages\\pandas\\core\\indexes\\base.py:3812\u001B[0m, in \u001B[0;36mIndex.get_loc\u001B[1;34m(self, key)\u001B[0m\n\u001B[0;32m   3807\u001B[0m     \u001B[38;5;28;01mif\u001B[39;00m \u001B[38;5;28misinstance\u001B[39m(casted_key, \u001B[38;5;28mslice\u001B[39m) \u001B[38;5;129;01mor\u001B[39;00m (\n\u001B[0;32m   3808\u001B[0m         \u001B[38;5;28misinstance\u001B[39m(casted_key, abc\u001B[38;5;241m.\u001B[39mIterable)\n\u001B[0;32m   3809\u001B[0m         \u001B[38;5;129;01mand\u001B[39;00m \u001B[38;5;28many\u001B[39m(\u001B[38;5;28misinstance\u001B[39m(x, \u001B[38;5;28mslice\u001B[39m) \u001B[38;5;28;01mfor\u001B[39;00m x \u001B[38;5;129;01min\u001B[39;00m casted_key)\n\u001B[0;32m   3810\u001B[0m     ):\n\u001B[0;32m   3811\u001B[0m         \u001B[38;5;28;01mraise\u001B[39;00m InvalidIndexError(key)\n\u001B[1;32m-> 3812\u001B[0m     \u001B[38;5;28;01mraise\u001B[39;00m \u001B[38;5;167;01mKeyError\u001B[39;00m(key) \u001B[38;5;28;01mfrom\u001B[39;00m \u001B[38;5;21;01merr\u001B[39;00m\n\u001B[0;32m   3813\u001B[0m \u001B[38;5;28;01mexcept\u001B[39;00m \u001B[38;5;167;01mTypeError\u001B[39;00m:\n\u001B[0;32m   3814\u001B[0m     \u001B[38;5;66;03m# If we have a listlike key, _check_indexing_error will raise\u001B[39;00m\n\u001B[0;32m   3815\u001B[0m     \u001B[38;5;66;03m#  InvalidIndexError. Otherwise we fall through and re-raise\u001B[39;00m\n\u001B[0;32m   3816\u001B[0m     \u001B[38;5;66;03m#  the TypeError.\u001B[39;00m\n\u001B[0;32m   3817\u001B[0m     \u001B[38;5;28mself\u001B[39m\u001B[38;5;241m.\u001B[39m_check_indexing_error(key)\n",
      "\u001B[1;31mKeyError\u001B[0m: 'mareos'"
     ]
    }
   ],
   "execution_count": 261
  },
  {
   "metadata": {},
   "cell_type": "markdown",
   "source": [
    "#### Pvalor"
   ],
   "id": "c2ea9a79012bd56"
  },
  {
   "metadata": {},
   "cell_type": "markdown",
   "source": [
    "##### Normalitat"
   ],
   "id": "fd33a284918ec484"
  },
  {
   "metadata": {
    "ExecuteTime": {
     "end_time": "2024-05-03T10:15:54.541973Z",
     "start_time": "2024-05-03T10:15:54.499709Z"
    }
   },
   "cell_type": "code",
   "source": [
    "stat, p_value = shapiro(AMB_PA['mareos'])\n",
    "print(f\"Estadístic W = {stat:.4f}\")\n",
    "print(f\"Valor p = {p_value:.4f}\")\n",
    "\n",
    "alpha = 0.05\n",
    "if p_value < alpha:\n",
    "    print(\"El nombre de files no segueix una distribució normal.\")\n",
    "else:\n",
    "    print(\"El nombre de files segueix una distribució normal\")"
   ],
   "id": "a0a14b919495d927",
   "outputs": [
    {
     "ename": "KeyError",
     "evalue": "'mareos'",
     "output_type": "error",
     "traceback": [
      "\u001B[1;31m---------------------------------------------------------------------------\u001B[0m",
      "\u001B[1;31mKeyError\u001B[0m                                  Traceback (most recent call last)",
      "File \u001B[1;32m~\\PycharmProjects\\PRACTICUM\\venv\\Lib\\site-packages\\pandas\\core\\indexes\\base.py:3805\u001B[0m, in \u001B[0;36mIndex.get_loc\u001B[1;34m(self, key)\u001B[0m\n\u001B[0;32m   3804\u001B[0m \u001B[38;5;28;01mtry\u001B[39;00m:\n\u001B[1;32m-> 3805\u001B[0m     \u001B[38;5;28;01mreturn\u001B[39;00m \u001B[38;5;28;43mself\u001B[39;49m\u001B[38;5;241;43m.\u001B[39;49m\u001B[43m_engine\u001B[49m\u001B[38;5;241;43m.\u001B[39;49m\u001B[43mget_loc\u001B[49m\u001B[43m(\u001B[49m\u001B[43mcasted_key\u001B[49m\u001B[43m)\u001B[49m\n\u001B[0;32m   3806\u001B[0m \u001B[38;5;28;01mexcept\u001B[39;00m \u001B[38;5;167;01mKeyError\u001B[39;00m \u001B[38;5;28;01mas\u001B[39;00m err:\n",
      "File \u001B[1;32mindex.pyx:167\u001B[0m, in \u001B[0;36mpandas._libs.index.IndexEngine.get_loc\u001B[1;34m()\u001B[0m\n",
      "File \u001B[1;32mindex.pyx:196\u001B[0m, in \u001B[0;36mpandas._libs.index.IndexEngine.get_loc\u001B[1;34m()\u001B[0m\n",
      "File \u001B[1;32mpandas\\\\_libs\\\\hashtable_class_helper.pxi:7081\u001B[0m, in \u001B[0;36mpandas._libs.hashtable.PyObjectHashTable.get_item\u001B[1;34m()\u001B[0m\n",
      "File \u001B[1;32mpandas\\\\_libs\\\\hashtable_class_helper.pxi:7089\u001B[0m, in \u001B[0;36mpandas._libs.hashtable.PyObjectHashTable.get_item\u001B[1;34m()\u001B[0m\n",
      "\u001B[1;31mKeyError\u001B[0m: 'mareos'",
      "\nThe above exception was the direct cause of the following exception:\n",
      "\u001B[1;31mKeyError\u001B[0m                                  Traceback (most recent call last)",
      "Cell \u001B[1;32mIn[262], line 1\u001B[0m\n\u001B[1;32m----> 1\u001B[0m stat, p_value \u001B[38;5;241m=\u001B[39m shapiro(\u001B[43mAMB_PA\u001B[49m\u001B[43m[\u001B[49m\u001B[38;5;124;43m'\u001B[39;49m\u001B[38;5;124;43mmareos\u001B[39;49m\u001B[38;5;124;43m'\u001B[39;49m\u001B[43m]\u001B[49m)\n\u001B[0;32m      2\u001B[0m \u001B[38;5;28mprint\u001B[39m(\u001B[38;5;124mf\u001B[39m\u001B[38;5;124m\"\u001B[39m\u001B[38;5;124mEstadístic W = \u001B[39m\u001B[38;5;132;01m{\u001B[39;00mstat\u001B[38;5;132;01m:\u001B[39;00m\u001B[38;5;124m.4f\u001B[39m\u001B[38;5;132;01m}\u001B[39;00m\u001B[38;5;124m\"\u001B[39m)\n\u001B[0;32m      3\u001B[0m \u001B[38;5;28mprint\u001B[39m(\u001B[38;5;124mf\u001B[39m\u001B[38;5;124m\"\u001B[39m\u001B[38;5;124mValor p = \u001B[39m\u001B[38;5;132;01m{\u001B[39;00mp_value\u001B[38;5;132;01m:\u001B[39;00m\u001B[38;5;124m.4f\u001B[39m\u001B[38;5;132;01m}\u001B[39;00m\u001B[38;5;124m\"\u001B[39m)\n",
      "File \u001B[1;32m~\\PycharmProjects\\PRACTICUM\\venv\\Lib\\site-packages\\pandas\\core\\frame.py:4102\u001B[0m, in \u001B[0;36mDataFrame.__getitem__\u001B[1;34m(self, key)\u001B[0m\n\u001B[0;32m   4100\u001B[0m \u001B[38;5;28;01mif\u001B[39;00m \u001B[38;5;28mself\u001B[39m\u001B[38;5;241m.\u001B[39mcolumns\u001B[38;5;241m.\u001B[39mnlevels \u001B[38;5;241m>\u001B[39m \u001B[38;5;241m1\u001B[39m:\n\u001B[0;32m   4101\u001B[0m     \u001B[38;5;28;01mreturn\u001B[39;00m \u001B[38;5;28mself\u001B[39m\u001B[38;5;241m.\u001B[39m_getitem_multilevel(key)\n\u001B[1;32m-> 4102\u001B[0m indexer \u001B[38;5;241m=\u001B[39m \u001B[38;5;28;43mself\u001B[39;49m\u001B[38;5;241;43m.\u001B[39;49m\u001B[43mcolumns\u001B[49m\u001B[38;5;241;43m.\u001B[39;49m\u001B[43mget_loc\u001B[49m\u001B[43m(\u001B[49m\u001B[43mkey\u001B[49m\u001B[43m)\u001B[49m\n\u001B[0;32m   4103\u001B[0m \u001B[38;5;28;01mif\u001B[39;00m is_integer(indexer):\n\u001B[0;32m   4104\u001B[0m     indexer \u001B[38;5;241m=\u001B[39m [indexer]\n",
      "File \u001B[1;32m~\\PycharmProjects\\PRACTICUM\\venv\\Lib\\site-packages\\pandas\\core\\indexes\\base.py:3812\u001B[0m, in \u001B[0;36mIndex.get_loc\u001B[1;34m(self, key)\u001B[0m\n\u001B[0;32m   3807\u001B[0m     \u001B[38;5;28;01mif\u001B[39;00m \u001B[38;5;28misinstance\u001B[39m(casted_key, \u001B[38;5;28mslice\u001B[39m) \u001B[38;5;129;01mor\u001B[39;00m (\n\u001B[0;32m   3808\u001B[0m         \u001B[38;5;28misinstance\u001B[39m(casted_key, abc\u001B[38;5;241m.\u001B[39mIterable)\n\u001B[0;32m   3809\u001B[0m         \u001B[38;5;129;01mand\u001B[39;00m \u001B[38;5;28many\u001B[39m(\u001B[38;5;28misinstance\u001B[39m(x, \u001B[38;5;28mslice\u001B[39m) \u001B[38;5;28;01mfor\u001B[39;00m x \u001B[38;5;129;01min\u001B[39;00m casted_key)\n\u001B[0;32m   3810\u001B[0m     ):\n\u001B[0;32m   3811\u001B[0m         \u001B[38;5;28;01mraise\u001B[39;00m InvalidIndexError(key)\n\u001B[1;32m-> 3812\u001B[0m     \u001B[38;5;28;01mraise\u001B[39;00m \u001B[38;5;167;01mKeyError\u001B[39;00m(key) \u001B[38;5;28;01mfrom\u001B[39;00m \u001B[38;5;21;01merr\u001B[39;00m\n\u001B[0;32m   3813\u001B[0m \u001B[38;5;28;01mexcept\u001B[39;00m \u001B[38;5;167;01mTypeError\u001B[39;00m:\n\u001B[0;32m   3814\u001B[0m     \u001B[38;5;66;03m# If we have a listlike key, _check_indexing_error will raise\u001B[39;00m\n\u001B[0;32m   3815\u001B[0m     \u001B[38;5;66;03m#  InvalidIndexError. Otherwise we fall through and re-raise\u001B[39;00m\n\u001B[0;32m   3816\u001B[0m     \u001B[38;5;66;03m#  the TypeError.\u001B[39;00m\n\u001B[0;32m   3817\u001B[0m     \u001B[38;5;28mself\u001B[39m\u001B[38;5;241m.\u001B[39m_check_indexing_error(key)\n",
      "\u001B[1;31mKeyError\u001B[0m: 'mareos'"
     ]
    }
   ],
   "execution_count": 262
  },
  {
   "metadata": {
    "ExecuteTime": {
     "end_time": "2024-05-03T10:15:54.891082Z",
     "start_time": "2024-05-03T10:15:54.853038Z"
    }
   },
   "cell_type": "code",
   "source": [
    "stat, p_value = shapiro(AMB_PA_MECVV['mareos'])\n",
    "print(f\"Estadístic W = {stat:.4f}\")\n",
    "print(f\"Valor p = {p_value:.4f}\")\n",
    "\n",
    "alpha = 0.05\n",
    "if p_value < alpha:\n",
    "    print(\"El nombre de files no segueix una distribució normal.\")\n",
    "else:\n",
    "    print(\"El nombre de files segueix una distribució normal\")"
   ],
   "id": "f068a365916fbd97",
   "outputs": [
    {
     "ename": "KeyError",
     "evalue": "'mareos'",
     "output_type": "error",
     "traceback": [
      "\u001B[1;31m---------------------------------------------------------------------------\u001B[0m",
      "\u001B[1;31mKeyError\u001B[0m                                  Traceback (most recent call last)",
      "File \u001B[1;32m~\\PycharmProjects\\PRACTICUM\\venv\\Lib\\site-packages\\pandas\\core\\indexes\\base.py:3805\u001B[0m, in \u001B[0;36mIndex.get_loc\u001B[1;34m(self, key)\u001B[0m\n\u001B[0;32m   3804\u001B[0m \u001B[38;5;28;01mtry\u001B[39;00m:\n\u001B[1;32m-> 3805\u001B[0m     \u001B[38;5;28;01mreturn\u001B[39;00m \u001B[38;5;28;43mself\u001B[39;49m\u001B[38;5;241;43m.\u001B[39;49m\u001B[43m_engine\u001B[49m\u001B[38;5;241;43m.\u001B[39;49m\u001B[43mget_loc\u001B[49m\u001B[43m(\u001B[49m\u001B[43mcasted_key\u001B[49m\u001B[43m)\u001B[49m\n\u001B[0;32m   3806\u001B[0m \u001B[38;5;28;01mexcept\u001B[39;00m \u001B[38;5;167;01mKeyError\u001B[39;00m \u001B[38;5;28;01mas\u001B[39;00m err:\n",
      "File \u001B[1;32mindex.pyx:167\u001B[0m, in \u001B[0;36mpandas._libs.index.IndexEngine.get_loc\u001B[1;34m()\u001B[0m\n",
      "File \u001B[1;32mindex.pyx:196\u001B[0m, in \u001B[0;36mpandas._libs.index.IndexEngine.get_loc\u001B[1;34m()\u001B[0m\n",
      "File \u001B[1;32mpandas\\\\_libs\\\\hashtable_class_helper.pxi:7081\u001B[0m, in \u001B[0;36mpandas._libs.hashtable.PyObjectHashTable.get_item\u001B[1;34m()\u001B[0m\n",
      "File \u001B[1;32mpandas\\\\_libs\\\\hashtable_class_helper.pxi:7089\u001B[0m, in \u001B[0;36mpandas._libs.hashtable.PyObjectHashTable.get_item\u001B[1;34m()\u001B[0m\n",
      "\u001B[1;31mKeyError\u001B[0m: 'mareos'",
      "\nThe above exception was the direct cause of the following exception:\n",
      "\u001B[1;31mKeyError\u001B[0m                                  Traceback (most recent call last)",
      "Cell \u001B[1;32mIn[263], line 1\u001B[0m\n\u001B[1;32m----> 1\u001B[0m stat, p_value \u001B[38;5;241m=\u001B[39m shapiro(\u001B[43mAMB_PA_MECVV\u001B[49m\u001B[43m[\u001B[49m\u001B[38;5;124;43m'\u001B[39;49m\u001B[38;5;124;43mmareos\u001B[39;49m\u001B[38;5;124;43m'\u001B[39;49m\u001B[43m]\u001B[49m)\n\u001B[0;32m      2\u001B[0m \u001B[38;5;28mprint\u001B[39m(\u001B[38;5;124mf\u001B[39m\u001B[38;5;124m\"\u001B[39m\u001B[38;5;124mEstadístic W = \u001B[39m\u001B[38;5;132;01m{\u001B[39;00mstat\u001B[38;5;132;01m:\u001B[39;00m\u001B[38;5;124m.4f\u001B[39m\u001B[38;5;132;01m}\u001B[39;00m\u001B[38;5;124m\"\u001B[39m)\n\u001B[0;32m      3\u001B[0m \u001B[38;5;28mprint\u001B[39m(\u001B[38;5;124mf\u001B[39m\u001B[38;5;124m\"\u001B[39m\u001B[38;5;124mValor p = \u001B[39m\u001B[38;5;132;01m{\u001B[39;00mp_value\u001B[38;5;132;01m:\u001B[39;00m\u001B[38;5;124m.4f\u001B[39m\u001B[38;5;132;01m}\u001B[39;00m\u001B[38;5;124m\"\u001B[39m)\n",
      "File \u001B[1;32m~\\PycharmProjects\\PRACTICUM\\venv\\Lib\\site-packages\\pandas\\core\\frame.py:4102\u001B[0m, in \u001B[0;36mDataFrame.__getitem__\u001B[1;34m(self, key)\u001B[0m\n\u001B[0;32m   4100\u001B[0m \u001B[38;5;28;01mif\u001B[39;00m \u001B[38;5;28mself\u001B[39m\u001B[38;5;241m.\u001B[39mcolumns\u001B[38;5;241m.\u001B[39mnlevels \u001B[38;5;241m>\u001B[39m \u001B[38;5;241m1\u001B[39m:\n\u001B[0;32m   4101\u001B[0m     \u001B[38;5;28;01mreturn\u001B[39;00m \u001B[38;5;28mself\u001B[39m\u001B[38;5;241m.\u001B[39m_getitem_multilevel(key)\n\u001B[1;32m-> 4102\u001B[0m indexer \u001B[38;5;241m=\u001B[39m \u001B[38;5;28;43mself\u001B[39;49m\u001B[38;5;241;43m.\u001B[39;49m\u001B[43mcolumns\u001B[49m\u001B[38;5;241;43m.\u001B[39;49m\u001B[43mget_loc\u001B[49m\u001B[43m(\u001B[49m\u001B[43mkey\u001B[49m\u001B[43m)\u001B[49m\n\u001B[0;32m   4103\u001B[0m \u001B[38;5;28;01mif\u001B[39;00m is_integer(indexer):\n\u001B[0;32m   4104\u001B[0m     indexer \u001B[38;5;241m=\u001B[39m [indexer]\n",
      "File \u001B[1;32m~\\PycharmProjects\\PRACTICUM\\venv\\Lib\\site-packages\\pandas\\core\\indexes\\base.py:3812\u001B[0m, in \u001B[0;36mIndex.get_loc\u001B[1;34m(self, key)\u001B[0m\n\u001B[0;32m   3807\u001B[0m     \u001B[38;5;28;01mif\u001B[39;00m \u001B[38;5;28misinstance\u001B[39m(casted_key, \u001B[38;5;28mslice\u001B[39m) \u001B[38;5;129;01mor\u001B[39;00m (\n\u001B[0;32m   3808\u001B[0m         \u001B[38;5;28misinstance\u001B[39m(casted_key, abc\u001B[38;5;241m.\u001B[39mIterable)\n\u001B[0;32m   3809\u001B[0m         \u001B[38;5;129;01mand\u001B[39;00m \u001B[38;5;28many\u001B[39m(\u001B[38;5;28misinstance\u001B[39m(x, \u001B[38;5;28mslice\u001B[39m) \u001B[38;5;28;01mfor\u001B[39;00m x \u001B[38;5;129;01min\u001B[39;00m casted_key)\n\u001B[0;32m   3810\u001B[0m     ):\n\u001B[0;32m   3811\u001B[0m         \u001B[38;5;28;01mraise\u001B[39;00m InvalidIndexError(key)\n\u001B[1;32m-> 3812\u001B[0m     \u001B[38;5;28;01mraise\u001B[39;00m \u001B[38;5;167;01mKeyError\u001B[39;00m(key) \u001B[38;5;28;01mfrom\u001B[39;00m \u001B[38;5;21;01merr\u001B[39;00m\n\u001B[0;32m   3813\u001B[0m \u001B[38;5;28;01mexcept\u001B[39;00m \u001B[38;5;167;01mTypeError\u001B[39;00m:\n\u001B[0;32m   3814\u001B[0m     \u001B[38;5;66;03m# If we have a listlike key, _check_indexing_error will raise\u001B[39;00m\n\u001B[0;32m   3815\u001B[0m     \u001B[38;5;66;03m#  InvalidIndexError. Otherwise we fall through and re-raise\u001B[39;00m\n\u001B[0;32m   3816\u001B[0m     \u001B[38;5;66;03m#  the TypeError.\u001B[39;00m\n\u001B[0;32m   3817\u001B[0m     \u001B[38;5;28mself\u001B[39m\u001B[38;5;241m.\u001B[39m_check_indexing_error(key)\n",
      "\u001B[1;31mKeyError\u001B[0m: 'mareos'"
     ]
    }
   ],
   "execution_count": 263
  },
  {
   "metadata": {
    "ExecuteTime": {
     "end_time": "2024-05-03T10:15:55.153205Z",
     "start_time": "2024-05-03T10:15:55.115760Z"
    }
   },
   "cell_type": "code",
   "source": [
    "stat, p_value = shapiro(SENSE_PA['mareos'])\n",
    "print(f\"Estadístic W = {stat:.4f}\")\n",
    "print(f\"Valor p = {p_value:.4f}\")\n",
    "\n",
    "alpha = 0.05\n",
    "if p_value < alpha:\n",
    "    print(\"El nombre de files no segueix una distribució normal.\")\n",
    "else:\n",
    "    print(\"El nombre de files segueix una distribució normal\")"
   ],
   "id": "e1bac964bed45016",
   "outputs": [
    {
     "ename": "KeyError",
     "evalue": "'mareos'",
     "output_type": "error",
     "traceback": [
      "\u001B[1;31m---------------------------------------------------------------------------\u001B[0m",
      "\u001B[1;31mKeyError\u001B[0m                                  Traceback (most recent call last)",
      "File \u001B[1;32m~\\PycharmProjects\\PRACTICUM\\venv\\Lib\\site-packages\\pandas\\core\\indexes\\base.py:3805\u001B[0m, in \u001B[0;36mIndex.get_loc\u001B[1;34m(self, key)\u001B[0m\n\u001B[0;32m   3804\u001B[0m \u001B[38;5;28;01mtry\u001B[39;00m:\n\u001B[1;32m-> 3805\u001B[0m     \u001B[38;5;28;01mreturn\u001B[39;00m \u001B[38;5;28;43mself\u001B[39;49m\u001B[38;5;241;43m.\u001B[39;49m\u001B[43m_engine\u001B[49m\u001B[38;5;241;43m.\u001B[39;49m\u001B[43mget_loc\u001B[49m\u001B[43m(\u001B[49m\u001B[43mcasted_key\u001B[49m\u001B[43m)\u001B[49m\n\u001B[0;32m   3806\u001B[0m \u001B[38;5;28;01mexcept\u001B[39;00m \u001B[38;5;167;01mKeyError\u001B[39;00m \u001B[38;5;28;01mas\u001B[39;00m err:\n",
      "File \u001B[1;32mindex.pyx:167\u001B[0m, in \u001B[0;36mpandas._libs.index.IndexEngine.get_loc\u001B[1;34m()\u001B[0m\n",
      "File \u001B[1;32mindex.pyx:196\u001B[0m, in \u001B[0;36mpandas._libs.index.IndexEngine.get_loc\u001B[1;34m()\u001B[0m\n",
      "File \u001B[1;32mpandas\\\\_libs\\\\hashtable_class_helper.pxi:7081\u001B[0m, in \u001B[0;36mpandas._libs.hashtable.PyObjectHashTable.get_item\u001B[1;34m()\u001B[0m\n",
      "File \u001B[1;32mpandas\\\\_libs\\\\hashtable_class_helper.pxi:7089\u001B[0m, in \u001B[0;36mpandas._libs.hashtable.PyObjectHashTable.get_item\u001B[1;34m()\u001B[0m\n",
      "\u001B[1;31mKeyError\u001B[0m: 'mareos'",
      "\nThe above exception was the direct cause of the following exception:\n",
      "\u001B[1;31mKeyError\u001B[0m                                  Traceback (most recent call last)",
      "Cell \u001B[1;32mIn[264], line 1\u001B[0m\n\u001B[1;32m----> 1\u001B[0m stat, p_value \u001B[38;5;241m=\u001B[39m shapiro(\u001B[43mSENSE_PA\u001B[49m\u001B[43m[\u001B[49m\u001B[38;5;124;43m'\u001B[39;49m\u001B[38;5;124;43mmareos\u001B[39;49m\u001B[38;5;124;43m'\u001B[39;49m\u001B[43m]\u001B[49m)\n\u001B[0;32m      2\u001B[0m \u001B[38;5;28mprint\u001B[39m(\u001B[38;5;124mf\u001B[39m\u001B[38;5;124m\"\u001B[39m\u001B[38;5;124mEstadístic W = \u001B[39m\u001B[38;5;132;01m{\u001B[39;00mstat\u001B[38;5;132;01m:\u001B[39;00m\u001B[38;5;124m.4f\u001B[39m\u001B[38;5;132;01m}\u001B[39;00m\u001B[38;5;124m\"\u001B[39m)\n\u001B[0;32m      3\u001B[0m \u001B[38;5;28mprint\u001B[39m(\u001B[38;5;124mf\u001B[39m\u001B[38;5;124m\"\u001B[39m\u001B[38;5;124mValor p = \u001B[39m\u001B[38;5;132;01m{\u001B[39;00mp_value\u001B[38;5;132;01m:\u001B[39;00m\u001B[38;5;124m.4f\u001B[39m\u001B[38;5;132;01m}\u001B[39;00m\u001B[38;5;124m\"\u001B[39m)\n",
      "File \u001B[1;32m~\\PycharmProjects\\PRACTICUM\\venv\\Lib\\site-packages\\pandas\\core\\frame.py:4102\u001B[0m, in \u001B[0;36mDataFrame.__getitem__\u001B[1;34m(self, key)\u001B[0m\n\u001B[0;32m   4100\u001B[0m \u001B[38;5;28;01mif\u001B[39;00m \u001B[38;5;28mself\u001B[39m\u001B[38;5;241m.\u001B[39mcolumns\u001B[38;5;241m.\u001B[39mnlevels \u001B[38;5;241m>\u001B[39m \u001B[38;5;241m1\u001B[39m:\n\u001B[0;32m   4101\u001B[0m     \u001B[38;5;28;01mreturn\u001B[39;00m \u001B[38;5;28mself\u001B[39m\u001B[38;5;241m.\u001B[39m_getitem_multilevel(key)\n\u001B[1;32m-> 4102\u001B[0m indexer \u001B[38;5;241m=\u001B[39m \u001B[38;5;28;43mself\u001B[39;49m\u001B[38;5;241;43m.\u001B[39;49m\u001B[43mcolumns\u001B[49m\u001B[38;5;241;43m.\u001B[39;49m\u001B[43mget_loc\u001B[49m\u001B[43m(\u001B[49m\u001B[43mkey\u001B[49m\u001B[43m)\u001B[49m\n\u001B[0;32m   4103\u001B[0m \u001B[38;5;28;01mif\u001B[39;00m is_integer(indexer):\n\u001B[0;32m   4104\u001B[0m     indexer \u001B[38;5;241m=\u001B[39m [indexer]\n",
      "File \u001B[1;32m~\\PycharmProjects\\PRACTICUM\\venv\\Lib\\site-packages\\pandas\\core\\indexes\\base.py:3812\u001B[0m, in \u001B[0;36mIndex.get_loc\u001B[1;34m(self, key)\u001B[0m\n\u001B[0;32m   3807\u001B[0m     \u001B[38;5;28;01mif\u001B[39;00m \u001B[38;5;28misinstance\u001B[39m(casted_key, \u001B[38;5;28mslice\u001B[39m) \u001B[38;5;129;01mor\u001B[39;00m (\n\u001B[0;32m   3808\u001B[0m         \u001B[38;5;28misinstance\u001B[39m(casted_key, abc\u001B[38;5;241m.\u001B[39mIterable)\n\u001B[0;32m   3809\u001B[0m         \u001B[38;5;129;01mand\u001B[39;00m \u001B[38;5;28many\u001B[39m(\u001B[38;5;28misinstance\u001B[39m(x, \u001B[38;5;28mslice\u001B[39m) \u001B[38;5;28;01mfor\u001B[39;00m x \u001B[38;5;129;01min\u001B[39;00m casted_key)\n\u001B[0;32m   3810\u001B[0m     ):\n\u001B[0;32m   3811\u001B[0m         \u001B[38;5;28;01mraise\u001B[39;00m InvalidIndexError(key)\n\u001B[1;32m-> 3812\u001B[0m     \u001B[38;5;28;01mraise\u001B[39;00m \u001B[38;5;167;01mKeyError\u001B[39;00m(key) \u001B[38;5;28;01mfrom\u001B[39;00m \u001B[38;5;21;01merr\u001B[39;00m\n\u001B[0;32m   3813\u001B[0m \u001B[38;5;28;01mexcept\u001B[39;00m \u001B[38;5;167;01mTypeError\u001B[39;00m:\n\u001B[0;32m   3814\u001B[0m     \u001B[38;5;66;03m# If we have a listlike key, _check_indexing_error will raise\u001B[39;00m\n\u001B[0;32m   3815\u001B[0m     \u001B[38;5;66;03m#  InvalidIndexError. Otherwise we fall through and re-raise\u001B[39;00m\n\u001B[0;32m   3816\u001B[0m     \u001B[38;5;66;03m#  the TypeError.\u001B[39;00m\n\u001B[0;32m   3817\u001B[0m     \u001B[38;5;28mself\u001B[39m\u001B[38;5;241m.\u001B[39m_check_indexing_error(key)\n",
      "\u001B[1;31mKeyError\u001B[0m: 'mareos'"
     ]
    }
   ],
   "execution_count": 264
  },
  {
   "metadata": {
    "ExecuteTime": {
     "end_time": "2024-05-03T10:15:55.465137Z",
     "start_time": "2024-05-03T10:15:55.426269Z"
    }
   },
   "cell_type": "code",
   "source": [
    "stat, p_value_12 = ttest_ind(AMB_PA['mareos'], AMB_PA_MECVV['mareos'], equal_var=False)\n",
    "print(\"P-valor entre AMB_PA i AMB_PA_MECVV\", p_value_12)"
   ],
   "id": "4426d7b16a9b9291",
   "outputs": [
    {
     "ename": "KeyError",
     "evalue": "'mareos'",
     "output_type": "error",
     "traceback": [
      "\u001B[1;31m---------------------------------------------------------------------------\u001B[0m",
      "\u001B[1;31mKeyError\u001B[0m                                  Traceback (most recent call last)",
      "File \u001B[1;32m~\\PycharmProjects\\PRACTICUM\\venv\\Lib\\site-packages\\pandas\\core\\indexes\\base.py:3805\u001B[0m, in \u001B[0;36mIndex.get_loc\u001B[1;34m(self, key)\u001B[0m\n\u001B[0;32m   3804\u001B[0m \u001B[38;5;28;01mtry\u001B[39;00m:\n\u001B[1;32m-> 3805\u001B[0m     \u001B[38;5;28;01mreturn\u001B[39;00m \u001B[38;5;28;43mself\u001B[39;49m\u001B[38;5;241;43m.\u001B[39;49m\u001B[43m_engine\u001B[49m\u001B[38;5;241;43m.\u001B[39;49m\u001B[43mget_loc\u001B[49m\u001B[43m(\u001B[49m\u001B[43mcasted_key\u001B[49m\u001B[43m)\u001B[49m\n\u001B[0;32m   3806\u001B[0m \u001B[38;5;28;01mexcept\u001B[39;00m \u001B[38;5;167;01mKeyError\u001B[39;00m \u001B[38;5;28;01mas\u001B[39;00m err:\n",
      "File \u001B[1;32mindex.pyx:167\u001B[0m, in \u001B[0;36mpandas._libs.index.IndexEngine.get_loc\u001B[1;34m()\u001B[0m\n",
      "File \u001B[1;32mindex.pyx:196\u001B[0m, in \u001B[0;36mpandas._libs.index.IndexEngine.get_loc\u001B[1;34m()\u001B[0m\n",
      "File \u001B[1;32mpandas\\\\_libs\\\\hashtable_class_helper.pxi:7081\u001B[0m, in \u001B[0;36mpandas._libs.hashtable.PyObjectHashTable.get_item\u001B[1;34m()\u001B[0m\n",
      "File \u001B[1;32mpandas\\\\_libs\\\\hashtable_class_helper.pxi:7089\u001B[0m, in \u001B[0;36mpandas._libs.hashtable.PyObjectHashTable.get_item\u001B[1;34m()\u001B[0m\n",
      "\u001B[1;31mKeyError\u001B[0m: 'mareos'",
      "\nThe above exception was the direct cause of the following exception:\n",
      "\u001B[1;31mKeyError\u001B[0m                                  Traceback (most recent call last)",
      "Cell \u001B[1;32mIn[265], line 1\u001B[0m\n\u001B[1;32m----> 1\u001B[0m stat, p_value_12 \u001B[38;5;241m=\u001B[39m ttest_ind(\u001B[43mAMB_PA\u001B[49m\u001B[43m[\u001B[49m\u001B[38;5;124;43m'\u001B[39;49m\u001B[38;5;124;43mmareos\u001B[39;49m\u001B[38;5;124;43m'\u001B[39;49m\u001B[43m]\u001B[49m, AMB_PA_MECVV[\u001B[38;5;124m'\u001B[39m\u001B[38;5;124mmareos\u001B[39m\u001B[38;5;124m'\u001B[39m], equal_var\u001B[38;5;241m=\u001B[39m\u001B[38;5;28;01mFalse\u001B[39;00m)\n\u001B[0;32m      2\u001B[0m \u001B[38;5;28mprint\u001B[39m(\u001B[38;5;124m\"\u001B[39m\u001B[38;5;124mP-valor entre AMB_PA i AMB_PA_MECVV\u001B[39m\u001B[38;5;124m\"\u001B[39m, p_value_12)\n",
      "File \u001B[1;32m~\\PycharmProjects\\PRACTICUM\\venv\\Lib\\site-packages\\pandas\\core\\frame.py:4102\u001B[0m, in \u001B[0;36mDataFrame.__getitem__\u001B[1;34m(self, key)\u001B[0m\n\u001B[0;32m   4100\u001B[0m \u001B[38;5;28;01mif\u001B[39;00m \u001B[38;5;28mself\u001B[39m\u001B[38;5;241m.\u001B[39mcolumns\u001B[38;5;241m.\u001B[39mnlevels \u001B[38;5;241m>\u001B[39m \u001B[38;5;241m1\u001B[39m:\n\u001B[0;32m   4101\u001B[0m     \u001B[38;5;28;01mreturn\u001B[39;00m \u001B[38;5;28mself\u001B[39m\u001B[38;5;241m.\u001B[39m_getitem_multilevel(key)\n\u001B[1;32m-> 4102\u001B[0m indexer \u001B[38;5;241m=\u001B[39m \u001B[38;5;28;43mself\u001B[39;49m\u001B[38;5;241;43m.\u001B[39;49m\u001B[43mcolumns\u001B[49m\u001B[38;5;241;43m.\u001B[39;49m\u001B[43mget_loc\u001B[49m\u001B[43m(\u001B[49m\u001B[43mkey\u001B[49m\u001B[43m)\u001B[49m\n\u001B[0;32m   4103\u001B[0m \u001B[38;5;28;01mif\u001B[39;00m is_integer(indexer):\n\u001B[0;32m   4104\u001B[0m     indexer \u001B[38;5;241m=\u001B[39m [indexer]\n",
      "File \u001B[1;32m~\\PycharmProjects\\PRACTICUM\\venv\\Lib\\site-packages\\pandas\\core\\indexes\\base.py:3812\u001B[0m, in \u001B[0;36mIndex.get_loc\u001B[1;34m(self, key)\u001B[0m\n\u001B[0;32m   3807\u001B[0m     \u001B[38;5;28;01mif\u001B[39;00m \u001B[38;5;28misinstance\u001B[39m(casted_key, \u001B[38;5;28mslice\u001B[39m) \u001B[38;5;129;01mor\u001B[39;00m (\n\u001B[0;32m   3808\u001B[0m         \u001B[38;5;28misinstance\u001B[39m(casted_key, abc\u001B[38;5;241m.\u001B[39mIterable)\n\u001B[0;32m   3809\u001B[0m         \u001B[38;5;129;01mand\u001B[39;00m \u001B[38;5;28many\u001B[39m(\u001B[38;5;28misinstance\u001B[39m(x, \u001B[38;5;28mslice\u001B[39m) \u001B[38;5;28;01mfor\u001B[39;00m x \u001B[38;5;129;01min\u001B[39;00m casted_key)\n\u001B[0;32m   3810\u001B[0m     ):\n\u001B[0;32m   3811\u001B[0m         \u001B[38;5;28;01mraise\u001B[39;00m InvalidIndexError(key)\n\u001B[1;32m-> 3812\u001B[0m     \u001B[38;5;28;01mraise\u001B[39;00m \u001B[38;5;167;01mKeyError\u001B[39;00m(key) \u001B[38;5;28;01mfrom\u001B[39;00m \u001B[38;5;21;01merr\u001B[39;00m\n\u001B[0;32m   3813\u001B[0m \u001B[38;5;28;01mexcept\u001B[39;00m \u001B[38;5;167;01mTypeError\u001B[39;00m:\n\u001B[0;32m   3814\u001B[0m     \u001B[38;5;66;03m# If we have a listlike key, _check_indexing_error will raise\u001B[39;00m\n\u001B[0;32m   3815\u001B[0m     \u001B[38;5;66;03m#  InvalidIndexError. Otherwise we fall through and re-raise\u001B[39;00m\n\u001B[0;32m   3816\u001B[0m     \u001B[38;5;66;03m#  the TypeError.\u001B[39;00m\n\u001B[0;32m   3817\u001B[0m     \u001B[38;5;28mself\u001B[39m\u001B[38;5;241m.\u001B[39m_check_indexing_error(key)\n",
      "\u001B[1;31mKeyError\u001B[0m: 'mareos'"
     ]
    }
   ],
   "execution_count": 265
  },
  {
   "metadata": {
    "ExecuteTime": {
     "end_time": "2024-05-03T10:15:55.808308Z",
     "start_time": "2024-05-03T10:15:55.769380Z"
    }
   },
   "cell_type": "code",
   "source": [
    "stat, p_value_12 = mannwhitneyu(AMB_PA['mareos'], AMB_PA_MECVV['mareos'], alternative='two-sided')\n",
    "print(\"P-valor entre AMB_PA i AMB_PA_MECVV\", p_value_12)"
   ],
   "id": "84eb59ba6043afcb",
   "outputs": [
    {
     "ename": "KeyError",
     "evalue": "'mareos'",
     "output_type": "error",
     "traceback": [
      "\u001B[1;31m---------------------------------------------------------------------------\u001B[0m",
      "\u001B[1;31mKeyError\u001B[0m                                  Traceback (most recent call last)",
      "File \u001B[1;32m~\\PycharmProjects\\PRACTICUM\\venv\\Lib\\site-packages\\pandas\\core\\indexes\\base.py:3805\u001B[0m, in \u001B[0;36mIndex.get_loc\u001B[1;34m(self, key)\u001B[0m\n\u001B[0;32m   3804\u001B[0m \u001B[38;5;28;01mtry\u001B[39;00m:\n\u001B[1;32m-> 3805\u001B[0m     \u001B[38;5;28;01mreturn\u001B[39;00m \u001B[38;5;28;43mself\u001B[39;49m\u001B[38;5;241;43m.\u001B[39;49m\u001B[43m_engine\u001B[49m\u001B[38;5;241;43m.\u001B[39;49m\u001B[43mget_loc\u001B[49m\u001B[43m(\u001B[49m\u001B[43mcasted_key\u001B[49m\u001B[43m)\u001B[49m\n\u001B[0;32m   3806\u001B[0m \u001B[38;5;28;01mexcept\u001B[39;00m \u001B[38;5;167;01mKeyError\u001B[39;00m \u001B[38;5;28;01mas\u001B[39;00m err:\n",
      "File \u001B[1;32mindex.pyx:167\u001B[0m, in \u001B[0;36mpandas._libs.index.IndexEngine.get_loc\u001B[1;34m()\u001B[0m\n",
      "File \u001B[1;32mindex.pyx:196\u001B[0m, in \u001B[0;36mpandas._libs.index.IndexEngine.get_loc\u001B[1;34m()\u001B[0m\n",
      "File \u001B[1;32mpandas\\\\_libs\\\\hashtable_class_helper.pxi:7081\u001B[0m, in \u001B[0;36mpandas._libs.hashtable.PyObjectHashTable.get_item\u001B[1;34m()\u001B[0m\n",
      "File \u001B[1;32mpandas\\\\_libs\\\\hashtable_class_helper.pxi:7089\u001B[0m, in \u001B[0;36mpandas._libs.hashtable.PyObjectHashTable.get_item\u001B[1;34m()\u001B[0m\n",
      "\u001B[1;31mKeyError\u001B[0m: 'mareos'",
      "\nThe above exception was the direct cause of the following exception:\n",
      "\u001B[1;31mKeyError\u001B[0m                                  Traceback (most recent call last)",
      "Cell \u001B[1;32mIn[266], line 1\u001B[0m\n\u001B[1;32m----> 1\u001B[0m stat, p_value_12 \u001B[38;5;241m=\u001B[39m mannwhitneyu(\u001B[43mAMB_PA\u001B[49m\u001B[43m[\u001B[49m\u001B[38;5;124;43m'\u001B[39;49m\u001B[38;5;124;43mmareos\u001B[39;49m\u001B[38;5;124;43m'\u001B[39;49m\u001B[43m]\u001B[49m, AMB_PA_MECVV[\u001B[38;5;124m'\u001B[39m\u001B[38;5;124mmareos\u001B[39m\u001B[38;5;124m'\u001B[39m], alternative\u001B[38;5;241m=\u001B[39m\u001B[38;5;124m'\u001B[39m\u001B[38;5;124mtwo-sided\u001B[39m\u001B[38;5;124m'\u001B[39m)\n\u001B[0;32m      2\u001B[0m \u001B[38;5;28mprint\u001B[39m(\u001B[38;5;124m\"\u001B[39m\u001B[38;5;124mP-valor entre AMB_PA i AMB_PA_MECVV\u001B[39m\u001B[38;5;124m\"\u001B[39m, p_value_12)\n",
      "File \u001B[1;32m~\\PycharmProjects\\PRACTICUM\\venv\\Lib\\site-packages\\pandas\\core\\frame.py:4102\u001B[0m, in \u001B[0;36mDataFrame.__getitem__\u001B[1;34m(self, key)\u001B[0m\n\u001B[0;32m   4100\u001B[0m \u001B[38;5;28;01mif\u001B[39;00m \u001B[38;5;28mself\u001B[39m\u001B[38;5;241m.\u001B[39mcolumns\u001B[38;5;241m.\u001B[39mnlevels \u001B[38;5;241m>\u001B[39m \u001B[38;5;241m1\u001B[39m:\n\u001B[0;32m   4101\u001B[0m     \u001B[38;5;28;01mreturn\u001B[39;00m \u001B[38;5;28mself\u001B[39m\u001B[38;5;241m.\u001B[39m_getitem_multilevel(key)\n\u001B[1;32m-> 4102\u001B[0m indexer \u001B[38;5;241m=\u001B[39m \u001B[38;5;28;43mself\u001B[39;49m\u001B[38;5;241;43m.\u001B[39;49m\u001B[43mcolumns\u001B[49m\u001B[38;5;241;43m.\u001B[39;49m\u001B[43mget_loc\u001B[49m\u001B[43m(\u001B[49m\u001B[43mkey\u001B[49m\u001B[43m)\u001B[49m\n\u001B[0;32m   4103\u001B[0m \u001B[38;5;28;01mif\u001B[39;00m is_integer(indexer):\n\u001B[0;32m   4104\u001B[0m     indexer \u001B[38;5;241m=\u001B[39m [indexer]\n",
      "File \u001B[1;32m~\\PycharmProjects\\PRACTICUM\\venv\\Lib\\site-packages\\pandas\\core\\indexes\\base.py:3812\u001B[0m, in \u001B[0;36mIndex.get_loc\u001B[1;34m(self, key)\u001B[0m\n\u001B[0;32m   3807\u001B[0m     \u001B[38;5;28;01mif\u001B[39;00m \u001B[38;5;28misinstance\u001B[39m(casted_key, \u001B[38;5;28mslice\u001B[39m) \u001B[38;5;129;01mor\u001B[39;00m (\n\u001B[0;32m   3808\u001B[0m         \u001B[38;5;28misinstance\u001B[39m(casted_key, abc\u001B[38;5;241m.\u001B[39mIterable)\n\u001B[0;32m   3809\u001B[0m         \u001B[38;5;129;01mand\u001B[39;00m \u001B[38;5;28many\u001B[39m(\u001B[38;5;28misinstance\u001B[39m(x, \u001B[38;5;28mslice\u001B[39m) \u001B[38;5;28;01mfor\u001B[39;00m x \u001B[38;5;129;01min\u001B[39;00m casted_key)\n\u001B[0;32m   3810\u001B[0m     ):\n\u001B[0;32m   3811\u001B[0m         \u001B[38;5;28;01mraise\u001B[39;00m InvalidIndexError(key)\n\u001B[1;32m-> 3812\u001B[0m     \u001B[38;5;28;01mraise\u001B[39;00m \u001B[38;5;167;01mKeyError\u001B[39;00m(key) \u001B[38;5;28;01mfrom\u001B[39;00m \u001B[38;5;21;01merr\u001B[39;00m\n\u001B[0;32m   3813\u001B[0m \u001B[38;5;28;01mexcept\u001B[39;00m \u001B[38;5;167;01mTypeError\u001B[39;00m:\n\u001B[0;32m   3814\u001B[0m     \u001B[38;5;66;03m# If we have a listlike key, _check_indexing_error will raise\u001B[39;00m\n\u001B[0;32m   3815\u001B[0m     \u001B[38;5;66;03m#  InvalidIndexError. Otherwise we fall through and re-raise\u001B[39;00m\n\u001B[0;32m   3816\u001B[0m     \u001B[38;5;66;03m#  the TypeError.\u001B[39;00m\n\u001B[0;32m   3817\u001B[0m     \u001B[38;5;28mself\u001B[39m\u001B[38;5;241m.\u001B[39m_check_indexing_error(key)\n",
      "\u001B[1;31mKeyError\u001B[0m: 'mareos'"
     ]
    }
   ],
   "execution_count": 266
  },
  {
   "metadata": {
    "ExecuteTime": {
     "end_time": "2024-05-03T10:15:56.112036Z",
     "start_time": "2024-05-03T10:15:56.071370Z"
    }
   },
   "cell_type": "code",
   "source": [
    "stat, p_value_13 = mannwhitneyu(AMB_PA['mareos'], SENSE_PA['mareos'], alternative='two-sided')\n",
    "print(\"P-valor entre AMB_PA i SENSE_PA\", p_value_13)"
   ],
   "id": "8f94410e3226384d",
   "outputs": [
    {
     "ename": "KeyError",
     "evalue": "'mareos'",
     "output_type": "error",
     "traceback": [
      "\u001B[1;31m---------------------------------------------------------------------------\u001B[0m",
      "\u001B[1;31mKeyError\u001B[0m                                  Traceback (most recent call last)",
      "File \u001B[1;32m~\\PycharmProjects\\PRACTICUM\\venv\\Lib\\site-packages\\pandas\\core\\indexes\\base.py:3805\u001B[0m, in \u001B[0;36mIndex.get_loc\u001B[1;34m(self, key)\u001B[0m\n\u001B[0;32m   3804\u001B[0m \u001B[38;5;28;01mtry\u001B[39;00m:\n\u001B[1;32m-> 3805\u001B[0m     \u001B[38;5;28;01mreturn\u001B[39;00m \u001B[38;5;28;43mself\u001B[39;49m\u001B[38;5;241;43m.\u001B[39;49m\u001B[43m_engine\u001B[49m\u001B[38;5;241;43m.\u001B[39;49m\u001B[43mget_loc\u001B[49m\u001B[43m(\u001B[49m\u001B[43mcasted_key\u001B[49m\u001B[43m)\u001B[49m\n\u001B[0;32m   3806\u001B[0m \u001B[38;5;28;01mexcept\u001B[39;00m \u001B[38;5;167;01mKeyError\u001B[39;00m \u001B[38;5;28;01mas\u001B[39;00m err:\n",
      "File \u001B[1;32mindex.pyx:167\u001B[0m, in \u001B[0;36mpandas._libs.index.IndexEngine.get_loc\u001B[1;34m()\u001B[0m\n",
      "File \u001B[1;32mindex.pyx:196\u001B[0m, in \u001B[0;36mpandas._libs.index.IndexEngine.get_loc\u001B[1;34m()\u001B[0m\n",
      "File \u001B[1;32mpandas\\\\_libs\\\\hashtable_class_helper.pxi:7081\u001B[0m, in \u001B[0;36mpandas._libs.hashtable.PyObjectHashTable.get_item\u001B[1;34m()\u001B[0m\n",
      "File \u001B[1;32mpandas\\\\_libs\\\\hashtable_class_helper.pxi:7089\u001B[0m, in \u001B[0;36mpandas._libs.hashtable.PyObjectHashTable.get_item\u001B[1;34m()\u001B[0m\n",
      "\u001B[1;31mKeyError\u001B[0m: 'mareos'",
      "\nThe above exception was the direct cause of the following exception:\n",
      "\u001B[1;31mKeyError\u001B[0m                                  Traceback (most recent call last)",
      "Cell \u001B[1;32mIn[267], line 1\u001B[0m\n\u001B[1;32m----> 1\u001B[0m stat, p_value_13 \u001B[38;5;241m=\u001B[39m mannwhitneyu(\u001B[43mAMB_PA\u001B[49m\u001B[43m[\u001B[49m\u001B[38;5;124;43m'\u001B[39;49m\u001B[38;5;124;43mmareos\u001B[39;49m\u001B[38;5;124;43m'\u001B[39;49m\u001B[43m]\u001B[49m, SENSE_PA[\u001B[38;5;124m'\u001B[39m\u001B[38;5;124mmareos\u001B[39m\u001B[38;5;124m'\u001B[39m], alternative\u001B[38;5;241m=\u001B[39m\u001B[38;5;124m'\u001B[39m\u001B[38;5;124mtwo-sided\u001B[39m\u001B[38;5;124m'\u001B[39m)\n\u001B[0;32m      2\u001B[0m \u001B[38;5;28mprint\u001B[39m(\u001B[38;5;124m\"\u001B[39m\u001B[38;5;124mP-valor entre AMB_PA i SENSE_PA\u001B[39m\u001B[38;5;124m\"\u001B[39m, p_value_13)\n",
      "File \u001B[1;32m~\\PycharmProjects\\PRACTICUM\\venv\\Lib\\site-packages\\pandas\\core\\frame.py:4102\u001B[0m, in \u001B[0;36mDataFrame.__getitem__\u001B[1;34m(self, key)\u001B[0m\n\u001B[0;32m   4100\u001B[0m \u001B[38;5;28;01mif\u001B[39;00m \u001B[38;5;28mself\u001B[39m\u001B[38;5;241m.\u001B[39mcolumns\u001B[38;5;241m.\u001B[39mnlevels \u001B[38;5;241m>\u001B[39m \u001B[38;5;241m1\u001B[39m:\n\u001B[0;32m   4101\u001B[0m     \u001B[38;5;28;01mreturn\u001B[39;00m \u001B[38;5;28mself\u001B[39m\u001B[38;5;241m.\u001B[39m_getitem_multilevel(key)\n\u001B[1;32m-> 4102\u001B[0m indexer \u001B[38;5;241m=\u001B[39m \u001B[38;5;28;43mself\u001B[39;49m\u001B[38;5;241;43m.\u001B[39;49m\u001B[43mcolumns\u001B[49m\u001B[38;5;241;43m.\u001B[39;49m\u001B[43mget_loc\u001B[49m\u001B[43m(\u001B[49m\u001B[43mkey\u001B[49m\u001B[43m)\u001B[49m\n\u001B[0;32m   4103\u001B[0m \u001B[38;5;28;01mif\u001B[39;00m is_integer(indexer):\n\u001B[0;32m   4104\u001B[0m     indexer \u001B[38;5;241m=\u001B[39m [indexer]\n",
      "File \u001B[1;32m~\\PycharmProjects\\PRACTICUM\\venv\\Lib\\site-packages\\pandas\\core\\indexes\\base.py:3812\u001B[0m, in \u001B[0;36mIndex.get_loc\u001B[1;34m(self, key)\u001B[0m\n\u001B[0;32m   3807\u001B[0m     \u001B[38;5;28;01mif\u001B[39;00m \u001B[38;5;28misinstance\u001B[39m(casted_key, \u001B[38;5;28mslice\u001B[39m) \u001B[38;5;129;01mor\u001B[39;00m (\n\u001B[0;32m   3808\u001B[0m         \u001B[38;5;28misinstance\u001B[39m(casted_key, abc\u001B[38;5;241m.\u001B[39mIterable)\n\u001B[0;32m   3809\u001B[0m         \u001B[38;5;129;01mand\u001B[39;00m \u001B[38;5;28many\u001B[39m(\u001B[38;5;28misinstance\u001B[39m(x, \u001B[38;5;28mslice\u001B[39m) \u001B[38;5;28;01mfor\u001B[39;00m x \u001B[38;5;129;01min\u001B[39;00m casted_key)\n\u001B[0;32m   3810\u001B[0m     ):\n\u001B[0;32m   3811\u001B[0m         \u001B[38;5;28;01mraise\u001B[39;00m InvalidIndexError(key)\n\u001B[1;32m-> 3812\u001B[0m     \u001B[38;5;28;01mraise\u001B[39;00m \u001B[38;5;167;01mKeyError\u001B[39;00m(key) \u001B[38;5;28;01mfrom\u001B[39;00m \u001B[38;5;21;01merr\u001B[39;00m\n\u001B[0;32m   3813\u001B[0m \u001B[38;5;28;01mexcept\u001B[39;00m \u001B[38;5;167;01mTypeError\u001B[39;00m:\n\u001B[0;32m   3814\u001B[0m     \u001B[38;5;66;03m# If we have a listlike key, _check_indexing_error will raise\u001B[39;00m\n\u001B[0;32m   3815\u001B[0m     \u001B[38;5;66;03m#  InvalidIndexError. Otherwise we fall through and re-raise\u001B[39;00m\n\u001B[0;32m   3816\u001B[0m     \u001B[38;5;66;03m#  the TypeError.\u001B[39;00m\n\u001B[0;32m   3817\u001B[0m     \u001B[38;5;28mself\u001B[39m\u001B[38;5;241m.\u001B[39m_check_indexing_error(key)\n",
      "\u001B[1;31mKeyError\u001B[0m: 'mareos'"
     ]
    }
   ],
   "execution_count": 267
  },
  {
   "metadata": {
    "ExecuteTime": {
     "end_time": "2024-05-03T10:15:56.405091Z",
     "start_time": "2024-05-03T10:15:56.367099Z"
    }
   },
   "cell_type": "code",
   "source": [
    "stat, p_value_23 = mannwhitneyu(AMB_PA_MECVV['mareos'], SENSE_PA['mareos'], alternative='two-sided')\n",
    "print(\"P-valor entre AMB_PA_MECVV i SENSE_PA\", p_value_23)"
   ],
   "id": "566ddfe9c415adf4",
   "outputs": [
    {
     "ename": "KeyError",
     "evalue": "'mareos'",
     "output_type": "error",
     "traceback": [
      "\u001B[1;31m---------------------------------------------------------------------------\u001B[0m",
      "\u001B[1;31mKeyError\u001B[0m                                  Traceback (most recent call last)",
      "File \u001B[1;32m~\\PycharmProjects\\PRACTICUM\\venv\\Lib\\site-packages\\pandas\\core\\indexes\\base.py:3805\u001B[0m, in \u001B[0;36mIndex.get_loc\u001B[1;34m(self, key)\u001B[0m\n\u001B[0;32m   3804\u001B[0m \u001B[38;5;28;01mtry\u001B[39;00m:\n\u001B[1;32m-> 3805\u001B[0m     \u001B[38;5;28;01mreturn\u001B[39;00m \u001B[38;5;28;43mself\u001B[39;49m\u001B[38;5;241;43m.\u001B[39;49m\u001B[43m_engine\u001B[49m\u001B[38;5;241;43m.\u001B[39;49m\u001B[43mget_loc\u001B[49m\u001B[43m(\u001B[49m\u001B[43mcasted_key\u001B[49m\u001B[43m)\u001B[49m\n\u001B[0;32m   3806\u001B[0m \u001B[38;5;28;01mexcept\u001B[39;00m \u001B[38;5;167;01mKeyError\u001B[39;00m \u001B[38;5;28;01mas\u001B[39;00m err:\n",
      "File \u001B[1;32mindex.pyx:167\u001B[0m, in \u001B[0;36mpandas._libs.index.IndexEngine.get_loc\u001B[1;34m()\u001B[0m\n",
      "File \u001B[1;32mindex.pyx:196\u001B[0m, in \u001B[0;36mpandas._libs.index.IndexEngine.get_loc\u001B[1;34m()\u001B[0m\n",
      "File \u001B[1;32mpandas\\\\_libs\\\\hashtable_class_helper.pxi:7081\u001B[0m, in \u001B[0;36mpandas._libs.hashtable.PyObjectHashTable.get_item\u001B[1;34m()\u001B[0m\n",
      "File \u001B[1;32mpandas\\\\_libs\\\\hashtable_class_helper.pxi:7089\u001B[0m, in \u001B[0;36mpandas._libs.hashtable.PyObjectHashTable.get_item\u001B[1;34m()\u001B[0m\n",
      "\u001B[1;31mKeyError\u001B[0m: 'mareos'",
      "\nThe above exception was the direct cause of the following exception:\n",
      "\u001B[1;31mKeyError\u001B[0m                                  Traceback (most recent call last)",
      "Cell \u001B[1;32mIn[268], line 1\u001B[0m\n\u001B[1;32m----> 1\u001B[0m stat, p_value_23 \u001B[38;5;241m=\u001B[39m mannwhitneyu(\u001B[43mAMB_PA_MECVV\u001B[49m\u001B[43m[\u001B[49m\u001B[38;5;124;43m'\u001B[39;49m\u001B[38;5;124;43mmareos\u001B[39;49m\u001B[38;5;124;43m'\u001B[39;49m\u001B[43m]\u001B[49m, SENSE_PA[\u001B[38;5;124m'\u001B[39m\u001B[38;5;124mmareos\u001B[39m\u001B[38;5;124m'\u001B[39m], alternative\u001B[38;5;241m=\u001B[39m\u001B[38;5;124m'\u001B[39m\u001B[38;5;124mtwo-sided\u001B[39m\u001B[38;5;124m'\u001B[39m)\n\u001B[0;32m      2\u001B[0m \u001B[38;5;28mprint\u001B[39m(\u001B[38;5;124m\"\u001B[39m\u001B[38;5;124mP-valor entre AMB_PA_MECVV i SENSE_PA\u001B[39m\u001B[38;5;124m\"\u001B[39m, p_value_23)\n",
      "File \u001B[1;32m~\\PycharmProjects\\PRACTICUM\\venv\\Lib\\site-packages\\pandas\\core\\frame.py:4102\u001B[0m, in \u001B[0;36mDataFrame.__getitem__\u001B[1;34m(self, key)\u001B[0m\n\u001B[0;32m   4100\u001B[0m \u001B[38;5;28;01mif\u001B[39;00m \u001B[38;5;28mself\u001B[39m\u001B[38;5;241m.\u001B[39mcolumns\u001B[38;5;241m.\u001B[39mnlevels \u001B[38;5;241m>\u001B[39m \u001B[38;5;241m1\u001B[39m:\n\u001B[0;32m   4101\u001B[0m     \u001B[38;5;28;01mreturn\u001B[39;00m \u001B[38;5;28mself\u001B[39m\u001B[38;5;241m.\u001B[39m_getitem_multilevel(key)\n\u001B[1;32m-> 4102\u001B[0m indexer \u001B[38;5;241m=\u001B[39m \u001B[38;5;28;43mself\u001B[39;49m\u001B[38;5;241;43m.\u001B[39;49m\u001B[43mcolumns\u001B[49m\u001B[38;5;241;43m.\u001B[39;49m\u001B[43mget_loc\u001B[49m\u001B[43m(\u001B[49m\u001B[43mkey\u001B[49m\u001B[43m)\u001B[49m\n\u001B[0;32m   4103\u001B[0m \u001B[38;5;28;01mif\u001B[39;00m is_integer(indexer):\n\u001B[0;32m   4104\u001B[0m     indexer \u001B[38;5;241m=\u001B[39m [indexer]\n",
      "File \u001B[1;32m~\\PycharmProjects\\PRACTICUM\\venv\\Lib\\site-packages\\pandas\\core\\indexes\\base.py:3812\u001B[0m, in \u001B[0;36mIndex.get_loc\u001B[1;34m(self, key)\u001B[0m\n\u001B[0;32m   3807\u001B[0m     \u001B[38;5;28;01mif\u001B[39;00m \u001B[38;5;28misinstance\u001B[39m(casted_key, \u001B[38;5;28mslice\u001B[39m) \u001B[38;5;129;01mor\u001B[39;00m (\n\u001B[0;32m   3808\u001B[0m         \u001B[38;5;28misinstance\u001B[39m(casted_key, abc\u001B[38;5;241m.\u001B[39mIterable)\n\u001B[0;32m   3809\u001B[0m         \u001B[38;5;129;01mand\u001B[39;00m \u001B[38;5;28many\u001B[39m(\u001B[38;5;28misinstance\u001B[39m(x, \u001B[38;5;28mslice\u001B[39m) \u001B[38;5;28;01mfor\u001B[39;00m x \u001B[38;5;129;01min\u001B[39;00m casted_key)\n\u001B[0;32m   3810\u001B[0m     ):\n\u001B[0;32m   3811\u001B[0m         \u001B[38;5;28;01mraise\u001B[39;00m InvalidIndexError(key)\n\u001B[1;32m-> 3812\u001B[0m     \u001B[38;5;28;01mraise\u001B[39;00m \u001B[38;5;167;01mKeyError\u001B[39;00m(key) \u001B[38;5;28;01mfrom\u001B[39;00m \u001B[38;5;21;01merr\u001B[39;00m\n\u001B[0;32m   3813\u001B[0m \u001B[38;5;28;01mexcept\u001B[39;00m \u001B[38;5;167;01mTypeError\u001B[39;00m:\n\u001B[0;32m   3814\u001B[0m     \u001B[38;5;66;03m# If we have a listlike key, _check_indexing_error will raise\u001B[39;00m\n\u001B[0;32m   3815\u001B[0m     \u001B[38;5;66;03m#  InvalidIndexError. Otherwise we fall through and re-raise\u001B[39;00m\n\u001B[0;32m   3816\u001B[0m     \u001B[38;5;66;03m#  the TypeError.\u001B[39;00m\n\u001B[0;32m   3817\u001B[0m     \u001B[38;5;28mself\u001B[39m\u001B[38;5;241m.\u001B[39m_check_indexing_error(key)\n",
      "\u001B[1;31mKeyError\u001B[0m: 'mareos'"
     ]
    }
   ],
   "execution_count": 268
  },
  {
   "metadata": {},
   "cell_type": "markdown",
   "source": [
    "## VIH"
   ],
   "id": "3e66ec61ceed6da8"
  },
  {
   "metadata": {
    "ExecuteTime": {
     "end_time": "2024-05-03T10:15:56.717993Z",
     "start_time": "2024-05-03T10:15:56.714165Z"
    }
   },
   "cell_type": "code",
   "source": [
    "vih_AMB_PA= (AMB_PA['VIH'] == 1.0).mean() * 100\n",
    "print(f\"Percentatge de VIH: {vih_AMB_PA:.2f}%\")"
   ],
   "id": "6a922f8a8c8ce111",
   "outputs": [
    {
     "name": "stdout",
     "output_type": "stream",
     "text": [
      "Percentatge de VIH: 0.00%\n"
     ]
    }
   ],
   "execution_count": 269
  },
  {
   "metadata": {
    "ExecuteTime": {
     "end_time": "2024-05-03T10:15:56.987476Z",
     "start_time": "2024-05-03T10:15:56.983704Z"
    }
   },
   "cell_type": "code",
   "source": [
    "vih_AMB_PA_MECVV= (AMB_PA_MECVV['VIH'] == 1.0).mean() * 100\n",
    "print(f\"Percentatge de VIH: {vih_AMB_PA_MECVV:.2f}%\")"
   ],
   "id": "aed182bc8140a8b3",
   "outputs": [
    {
     "name": "stdout",
     "output_type": "stream",
     "text": [
      "Percentatge de VIH: 0.00%\n"
     ]
    }
   ],
   "execution_count": 270
  },
  {
   "metadata": {
    "ExecuteTime": {
     "end_time": "2024-05-03T10:15:57.307623Z",
     "start_time": "2024-05-03T10:15:57.304551Z"
    }
   },
   "cell_type": "code",
   "source": [
    "vih_SENSE_PA= (SENSE_PA['VIH'] == 1.0).mean() * 100\n",
    "print(f\"Percentatge de VIH: {vih_SENSE_PA:.2f}%\")"
   ],
   "id": "aa406ac4d4a53dc9",
   "outputs": [
    {
     "name": "stdout",
     "output_type": "stream",
     "text": [
      "Percentatge de VIH: 0.00%\n"
     ]
    }
   ],
   "execution_count": 271
  },
  {
   "metadata": {},
   "cell_type": "markdown",
   "source": [
    "#### Pvalor"
   ],
   "id": "803ff9173540722b"
  },
  {
   "metadata": {},
   "cell_type": "markdown",
   "source": [
    "##### Normalitat"
   ],
   "id": "b4620b0bb5bfa7f1"
  },
  {
   "metadata": {
    "ExecuteTime": {
     "end_time": "2024-05-03T10:15:57.577629Z",
     "start_time": "2024-05-03T10:15:57.573685Z"
    }
   },
   "cell_type": "code",
   "source": [
    "stat, p_value = shapiro(AMB_PA['VIH'])\n",
    "print(f\"Estadístic W = {stat:.4f}\")\n",
    "print(f\"Valor p = {p_value:.4f}\")\n",
    "\n",
    "alpha = 0.05\n",
    "if p_value < alpha:\n",
    "    print(\"El nombre de files no segueix una distribució normal\")\n",
    "else:\n",
    "    print(\"El nombre de files segueix una distribució normal\")"
   ],
   "id": "9b5c458fd6b6ae37",
   "outputs": [
    {
     "name": "stdout",
     "output_type": "stream",
     "text": [
      "Estadístic W = 1.0000\n",
      "Valor p = 1.0000\n",
      "El nombre de files segueix una distribució normal\n"
     ]
    }
   ],
   "execution_count": 272
  },
  {
   "metadata": {
    "ExecuteTime": {
     "end_time": "2024-05-03T10:15:57.889989Z",
     "start_time": "2024-05-03T10:15:57.886605Z"
    }
   },
   "cell_type": "code",
   "source": [
    "stat, p_value = shapiro(AMB_PA_MECVV['VIH'])\n",
    "print(f\"Estadístic W = {stat:.4f}\")\n",
    "print(f\"Valor p = {p_value:.4f}\")\n",
    "\n",
    "alpha = 0.05\n",
    "if p_value < alpha:\n",
    "    print(\"El nombre de files no segueix una distribució normal\")\n",
    "else:\n",
    "    print(\"El nombre de files segueix una distribució normal\")"
   ],
   "id": "9d0b581b09ddd6cc",
   "outputs": [
    {
     "name": "stdout",
     "output_type": "stream",
     "text": [
      "Estadístic W = 1.0000\n",
      "Valor p = 1.0000\n",
      "El nombre de files segueix una distribució normal\n"
     ]
    }
   ],
   "execution_count": 273
  },
  {
   "metadata": {
    "ExecuteTime": {
     "end_time": "2024-05-03T10:15:58.188760Z",
     "start_time": "2024-05-03T10:15:58.184723Z"
    }
   },
   "cell_type": "code",
   "source": [
    "stat, p_value = shapiro(SENSE_PA['VIH'])\n",
    "print(f\"Estadístic W = {stat:.4f}\")\n",
    "print(f\"Valor p = {p_value:.4f}\")\n",
    "\n",
    "alpha = 0.05\n",
    "if p_value < alpha:\n",
    "    print(\"El nombre de files no segueix una distribució normal\")\n",
    "else:\n",
    "    print(\"El nombre de files segueix una distribució normal\")"
   ],
   "id": "5a093d029a89e644",
   "outputs": [
    {
     "name": "stdout",
     "output_type": "stream",
     "text": [
      "Estadístic W = 1.0000\n",
      "Valor p = 1.0000\n",
      "El nombre de files segueix una distribució normal\n"
     ]
    }
   ],
   "execution_count": 274
  },
  {
   "metadata": {
    "ExecuteTime": {
     "end_time": "2024-05-03T10:15:58.474470Z",
     "start_time": "2024-05-03T10:15:58.470435Z"
    }
   },
   "cell_type": "code",
   "source": [
    "stat, p_value_12 = ttest_ind(AMB_PA['VIH'], AMB_PA_MECVV['VIH'], equal_var=False)\n",
    "print(\"P-valor entre AMB_PA i AMB_PA_MECVV\", p_value_12)"
   ],
   "id": "ee8189c633ccd0bb",
   "outputs": [
    {
     "name": "stdout",
     "output_type": "stream",
     "text": [
      "P-valor entre AMB_PA i AMB_PA_MECVV nan\n"
     ]
    }
   ],
   "execution_count": 275
  },
  {
   "metadata": {
    "ExecuteTime": {
     "end_time": "2024-05-03T10:15:58.775328Z",
     "start_time": "2024-05-03T10:15:58.769145Z"
    }
   },
   "cell_type": "code",
   "source": [
    "stat, p_value_13 = ttest_ind(AMB_PA['VIH'], SENSE_PA['VIH'], equal_var=False)\n",
    "print(\"P-valor entre AMB_PA i SENSE_PA\", p_value_13)"
   ],
   "id": "ba89921208864d5f",
   "outputs": [
    {
     "name": "stdout",
     "output_type": "stream",
     "text": [
      "P-valor entre AMB_PA i SENSE_PA nan\n"
     ]
    }
   ],
   "execution_count": 276
  },
  {
   "metadata": {
    "ExecuteTime": {
     "end_time": "2024-05-03T10:15:59.155683Z",
     "start_time": "2024-05-03T10:15:59.149970Z"
    }
   },
   "cell_type": "code",
   "source": [
    "stat, p_value_23 = ttest_ind(AMB_PA_MECVV['VIH'], SENSE_PA['VIH'], equal_var=False)\n",
    "print(\"P-valor entre AMB_PA_MECVV i SENSE_PA\", p_value_23)"
   ],
   "id": "6bcc985f8b1b99e7",
   "outputs": [
    {
     "name": "stdout",
     "output_type": "stream",
     "text": [
      "P-valor entre AMB_PA_MECVV i SENSE_PA nan\n"
     ]
    }
   ],
   "execution_count": 277
  },
  {
   "metadata": {},
   "cell_type": "markdown",
   "source": [
    "## Psicosi"
   ],
   "id": "8e295a7fd16fa508"
  },
  {
   "metadata": {
    "ExecuteTime": {
     "end_time": "2024-05-03T10:15:59.393283Z",
     "start_time": "2024-05-03T10:15:59.355730Z"
    }
   },
   "cell_type": "code",
   "source": [
    "psi_AMB_PA= (AMB_PA['psicosis'] == 1.0).mean() * 100\n",
    "print(f\"Percentatge de psicosi: {vih_AMB_PA:.2f}%\")"
   ],
   "id": "c159ff1483bdafb0",
   "outputs": [
    {
     "ename": "KeyError",
     "evalue": "'psicosis'",
     "output_type": "error",
     "traceback": [
      "\u001B[1;31m---------------------------------------------------------------------------\u001B[0m",
      "\u001B[1;31mKeyError\u001B[0m                                  Traceback (most recent call last)",
      "File \u001B[1;32m~\\PycharmProjects\\PRACTICUM\\venv\\Lib\\site-packages\\pandas\\core\\indexes\\base.py:3805\u001B[0m, in \u001B[0;36mIndex.get_loc\u001B[1;34m(self, key)\u001B[0m\n\u001B[0;32m   3804\u001B[0m \u001B[38;5;28;01mtry\u001B[39;00m:\n\u001B[1;32m-> 3805\u001B[0m     \u001B[38;5;28;01mreturn\u001B[39;00m \u001B[38;5;28;43mself\u001B[39;49m\u001B[38;5;241;43m.\u001B[39;49m\u001B[43m_engine\u001B[49m\u001B[38;5;241;43m.\u001B[39;49m\u001B[43mget_loc\u001B[49m\u001B[43m(\u001B[49m\u001B[43mcasted_key\u001B[49m\u001B[43m)\u001B[49m\n\u001B[0;32m   3806\u001B[0m \u001B[38;5;28;01mexcept\u001B[39;00m \u001B[38;5;167;01mKeyError\u001B[39;00m \u001B[38;5;28;01mas\u001B[39;00m err:\n",
      "File \u001B[1;32mindex.pyx:167\u001B[0m, in \u001B[0;36mpandas._libs.index.IndexEngine.get_loc\u001B[1;34m()\u001B[0m\n",
      "File \u001B[1;32mindex.pyx:196\u001B[0m, in \u001B[0;36mpandas._libs.index.IndexEngine.get_loc\u001B[1;34m()\u001B[0m\n",
      "File \u001B[1;32mpandas\\\\_libs\\\\hashtable_class_helper.pxi:7081\u001B[0m, in \u001B[0;36mpandas._libs.hashtable.PyObjectHashTable.get_item\u001B[1;34m()\u001B[0m\n",
      "File \u001B[1;32mpandas\\\\_libs\\\\hashtable_class_helper.pxi:7089\u001B[0m, in \u001B[0;36mpandas._libs.hashtable.PyObjectHashTable.get_item\u001B[1;34m()\u001B[0m\n",
      "\u001B[1;31mKeyError\u001B[0m: 'psicosis'",
      "\nThe above exception was the direct cause of the following exception:\n",
      "\u001B[1;31mKeyError\u001B[0m                                  Traceback (most recent call last)",
      "Cell \u001B[1;32mIn[278], line 1\u001B[0m\n\u001B[1;32m----> 1\u001B[0m psi_AMB_PA\u001B[38;5;241m=\u001B[39m (\u001B[43mAMB_PA\u001B[49m\u001B[43m[\u001B[49m\u001B[38;5;124;43m'\u001B[39;49m\u001B[38;5;124;43mpsicosis\u001B[39;49m\u001B[38;5;124;43m'\u001B[39;49m\u001B[43m]\u001B[49m \u001B[38;5;241m==\u001B[39m \u001B[38;5;241m1.0\u001B[39m)\u001B[38;5;241m.\u001B[39mmean() \u001B[38;5;241m*\u001B[39m \u001B[38;5;241m100\u001B[39m\n\u001B[0;32m      2\u001B[0m \u001B[38;5;28mprint\u001B[39m(\u001B[38;5;124mf\u001B[39m\u001B[38;5;124m\"\u001B[39m\u001B[38;5;124mPercentatge de psicosi: \u001B[39m\u001B[38;5;132;01m{\u001B[39;00mvih_AMB_PA\u001B[38;5;132;01m:\u001B[39;00m\u001B[38;5;124m.2f\u001B[39m\u001B[38;5;132;01m}\u001B[39;00m\u001B[38;5;124m%\u001B[39m\u001B[38;5;124m\"\u001B[39m)\n",
      "File \u001B[1;32m~\\PycharmProjects\\PRACTICUM\\venv\\Lib\\site-packages\\pandas\\core\\frame.py:4102\u001B[0m, in \u001B[0;36mDataFrame.__getitem__\u001B[1;34m(self, key)\u001B[0m\n\u001B[0;32m   4100\u001B[0m \u001B[38;5;28;01mif\u001B[39;00m \u001B[38;5;28mself\u001B[39m\u001B[38;5;241m.\u001B[39mcolumns\u001B[38;5;241m.\u001B[39mnlevels \u001B[38;5;241m>\u001B[39m \u001B[38;5;241m1\u001B[39m:\n\u001B[0;32m   4101\u001B[0m     \u001B[38;5;28;01mreturn\u001B[39;00m \u001B[38;5;28mself\u001B[39m\u001B[38;5;241m.\u001B[39m_getitem_multilevel(key)\n\u001B[1;32m-> 4102\u001B[0m indexer \u001B[38;5;241m=\u001B[39m \u001B[38;5;28;43mself\u001B[39;49m\u001B[38;5;241;43m.\u001B[39;49m\u001B[43mcolumns\u001B[49m\u001B[38;5;241;43m.\u001B[39;49m\u001B[43mget_loc\u001B[49m\u001B[43m(\u001B[49m\u001B[43mkey\u001B[49m\u001B[43m)\u001B[49m\n\u001B[0;32m   4103\u001B[0m \u001B[38;5;28;01mif\u001B[39;00m is_integer(indexer):\n\u001B[0;32m   4104\u001B[0m     indexer \u001B[38;5;241m=\u001B[39m [indexer]\n",
      "File \u001B[1;32m~\\PycharmProjects\\PRACTICUM\\venv\\Lib\\site-packages\\pandas\\core\\indexes\\base.py:3812\u001B[0m, in \u001B[0;36mIndex.get_loc\u001B[1;34m(self, key)\u001B[0m\n\u001B[0;32m   3807\u001B[0m     \u001B[38;5;28;01mif\u001B[39;00m \u001B[38;5;28misinstance\u001B[39m(casted_key, \u001B[38;5;28mslice\u001B[39m) \u001B[38;5;129;01mor\u001B[39;00m (\n\u001B[0;32m   3808\u001B[0m         \u001B[38;5;28misinstance\u001B[39m(casted_key, abc\u001B[38;5;241m.\u001B[39mIterable)\n\u001B[0;32m   3809\u001B[0m         \u001B[38;5;129;01mand\u001B[39;00m \u001B[38;5;28many\u001B[39m(\u001B[38;5;28misinstance\u001B[39m(x, \u001B[38;5;28mslice\u001B[39m) \u001B[38;5;28;01mfor\u001B[39;00m x \u001B[38;5;129;01min\u001B[39;00m casted_key)\n\u001B[0;32m   3810\u001B[0m     ):\n\u001B[0;32m   3811\u001B[0m         \u001B[38;5;28;01mraise\u001B[39;00m InvalidIndexError(key)\n\u001B[1;32m-> 3812\u001B[0m     \u001B[38;5;28;01mraise\u001B[39;00m \u001B[38;5;167;01mKeyError\u001B[39;00m(key) \u001B[38;5;28;01mfrom\u001B[39;00m \u001B[38;5;21;01merr\u001B[39;00m\n\u001B[0;32m   3813\u001B[0m \u001B[38;5;28;01mexcept\u001B[39;00m \u001B[38;5;167;01mTypeError\u001B[39;00m:\n\u001B[0;32m   3814\u001B[0m     \u001B[38;5;66;03m# If we have a listlike key, _check_indexing_error will raise\u001B[39;00m\n\u001B[0;32m   3815\u001B[0m     \u001B[38;5;66;03m#  InvalidIndexError. Otherwise we fall through and re-raise\u001B[39;00m\n\u001B[0;32m   3816\u001B[0m     \u001B[38;5;66;03m#  the TypeError.\u001B[39;00m\n\u001B[0;32m   3817\u001B[0m     \u001B[38;5;28mself\u001B[39m\u001B[38;5;241m.\u001B[39m_check_indexing_error(key)\n",
      "\u001B[1;31mKeyError\u001B[0m: 'psicosis'"
     ]
    }
   ],
   "execution_count": 278
  },
  {
   "metadata": {
    "ExecuteTime": {
     "end_time": "2024-05-03T10:15:59.791411Z",
     "start_time": "2024-05-03T10:15:59.752375Z"
    }
   },
   "cell_type": "code",
   "source": [
    "psi_AMB_PA_MECVV= (AMB_PA_MECVV['psicosis'] == 1.0).mean() * 100\n",
    "print(f\"Percentatge de psicosi: {psi_AMB_PA_MECVV:.2f}%\")"
   ],
   "id": "88916ff77b5a3557",
   "outputs": [
    {
     "ename": "KeyError",
     "evalue": "'psicosis'",
     "output_type": "error",
     "traceback": [
      "\u001B[1;31m---------------------------------------------------------------------------\u001B[0m",
      "\u001B[1;31mKeyError\u001B[0m                                  Traceback (most recent call last)",
      "File \u001B[1;32m~\\PycharmProjects\\PRACTICUM\\venv\\Lib\\site-packages\\pandas\\core\\indexes\\base.py:3805\u001B[0m, in \u001B[0;36mIndex.get_loc\u001B[1;34m(self, key)\u001B[0m\n\u001B[0;32m   3804\u001B[0m \u001B[38;5;28;01mtry\u001B[39;00m:\n\u001B[1;32m-> 3805\u001B[0m     \u001B[38;5;28;01mreturn\u001B[39;00m \u001B[38;5;28;43mself\u001B[39;49m\u001B[38;5;241;43m.\u001B[39;49m\u001B[43m_engine\u001B[49m\u001B[38;5;241;43m.\u001B[39;49m\u001B[43mget_loc\u001B[49m\u001B[43m(\u001B[49m\u001B[43mcasted_key\u001B[49m\u001B[43m)\u001B[49m\n\u001B[0;32m   3806\u001B[0m \u001B[38;5;28;01mexcept\u001B[39;00m \u001B[38;5;167;01mKeyError\u001B[39;00m \u001B[38;5;28;01mas\u001B[39;00m err:\n",
      "File \u001B[1;32mindex.pyx:167\u001B[0m, in \u001B[0;36mpandas._libs.index.IndexEngine.get_loc\u001B[1;34m()\u001B[0m\n",
      "File \u001B[1;32mindex.pyx:196\u001B[0m, in \u001B[0;36mpandas._libs.index.IndexEngine.get_loc\u001B[1;34m()\u001B[0m\n",
      "File \u001B[1;32mpandas\\\\_libs\\\\hashtable_class_helper.pxi:7081\u001B[0m, in \u001B[0;36mpandas._libs.hashtable.PyObjectHashTable.get_item\u001B[1;34m()\u001B[0m\n",
      "File \u001B[1;32mpandas\\\\_libs\\\\hashtable_class_helper.pxi:7089\u001B[0m, in \u001B[0;36mpandas._libs.hashtable.PyObjectHashTable.get_item\u001B[1;34m()\u001B[0m\n",
      "\u001B[1;31mKeyError\u001B[0m: 'psicosis'",
      "\nThe above exception was the direct cause of the following exception:\n",
      "\u001B[1;31mKeyError\u001B[0m                                  Traceback (most recent call last)",
      "Cell \u001B[1;32mIn[279], line 1\u001B[0m\n\u001B[1;32m----> 1\u001B[0m psi_AMB_PA_MECVV\u001B[38;5;241m=\u001B[39m (\u001B[43mAMB_PA_MECVV\u001B[49m\u001B[43m[\u001B[49m\u001B[38;5;124;43m'\u001B[39;49m\u001B[38;5;124;43mpsicosis\u001B[39;49m\u001B[38;5;124;43m'\u001B[39;49m\u001B[43m]\u001B[49m \u001B[38;5;241m==\u001B[39m \u001B[38;5;241m1.0\u001B[39m)\u001B[38;5;241m.\u001B[39mmean() \u001B[38;5;241m*\u001B[39m \u001B[38;5;241m100\u001B[39m\n\u001B[0;32m      2\u001B[0m \u001B[38;5;28mprint\u001B[39m(\u001B[38;5;124mf\u001B[39m\u001B[38;5;124m\"\u001B[39m\u001B[38;5;124mPercentatge de psicosi: \u001B[39m\u001B[38;5;132;01m{\u001B[39;00mpsi_AMB_PA_MECVV\u001B[38;5;132;01m:\u001B[39;00m\u001B[38;5;124m.2f\u001B[39m\u001B[38;5;132;01m}\u001B[39;00m\u001B[38;5;124m%\u001B[39m\u001B[38;5;124m\"\u001B[39m)\n",
      "File \u001B[1;32m~\\PycharmProjects\\PRACTICUM\\venv\\Lib\\site-packages\\pandas\\core\\frame.py:4102\u001B[0m, in \u001B[0;36mDataFrame.__getitem__\u001B[1;34m(self, key)\u001B[0m\n\u001B[0;32m   4100\u001B[0m \u001B[38;5;28;01mif\u001B[39;00m \u001B[38;5;28mself\u001B[39m\u001B[38;5;241m.\u001B[39mcolumns\u001B[38;5;241m.\u001B[39mnlevels \u001B[38;5;241m>\u001B[39m \u001B[38;5;241m1\u001B[39m:\n\u001B[0;32m   4101\u001B[0m     \u001B[38;5;28;01mreturn\u001B[39;00m \u001B[38;5;28mself\u001B[39m\u001B[38;5;241m.\u001B[39m_getitem_multilevel(key)\n\u001B[1;32m-> 4102\u001B[0m indexer \u001B[38;5;241m=\u001B[39m \u001B[38;5;28;43mself\u001B[39;49m\u001B[38;5;241;43m.\u001B[39;49m\u001B[43mcolumns\u001B[49m\u001B[38;5;241;43m.\u001B[39;49m\u001B[43mget_loc\u001B[49m\u001B[43m(\u001B[49m\u001B[43mkey\u001B[49m\u001B[43m)\u001B[49m\n\u001B[0;32m   4103\u001B[0m \u001B[38;5;28;01mif\u001B[39;00m is_integer(indexer):\n\u001B[0;32m   4104\u001B[0m     indexer \u001B[38;5;241m=\u001B[39m [indexer]\n",
      "File \u001B[1;32m~\\PycharmProjects\\PRACTICUM\\venv\\Lib\\site-packages\\pandas\\core\\indexes\\base.py:3812\u001B[0m, in \u001B[0;36mIndex.get_loc\u001B[1;34m(self, key)\u001B[0m\n\u001B[0;32m   3807\u001B[0m     \u001B[38;5;28;01mif\u001B[39;00m \u001B[38;5;28misinstance\u001B[39m(casted_key, \u001B[38;5;28mslice\u001B[39m) \u001B[38;5;129;01mor\u001B[39;00m (\n\u001B[0;32m   3808\u001B[0m         \u001B[38;5;28misinstance\u001B[39m(casted_key, abc\u001B[38;5;241m.\u001B[39mIterable)\n\u001B[0;32m   3809\u001B[0m         \u001B[38;5;129;01mand\u001B[39;00m \u001B[38;5;28many\u001B[39m(\u001B[38;5;28misinstance\u001B[39m(x, \u001B[38;5;28mslice\u001B[39m) \u001B[38;5;28;01mfor\u001B[39;00m x \u001B[38;5;129;01min\u001B[39;00m casted_key)\n\u001B[0;32m   3810\u001B[0m     ):\n\u001B[0;32m   3811\u001B[0m         \u001B[38;5;28;01mraise\u001B[39;00m InvalidIndexError(key)\n\u001B[1;32m-> 3812\u001B[0m     \u001B[38;5;28;01mraise\u001B[39;00m \u001B[38;5;167;01mKeyError\u001B[39;00m(key) \u001B[38;5;28;01mfrom\u001B[39;00m \u001B[38;5;21;01merr\u001B[39;00m\n\u001B[0;32m   3813\u001B[0m \u001B[38;5;28;01mexcept\u001B[39;00m \u001B[38;5;167;01mTypeError\u001B[39;00m:\n\u001B[0;32m   3814\u001B[0m     \u001B[38;5;66;03m# If we have a listlike key, _check_indexing_error will raise\u001B[39;00m\n\u001B[0;32m   3815\u001B[0m     \u001B[38;5;66;03m#  InvalidIndexError. Otherwise we fall through and re-raise\u001B[39;00m\n\u001B[0;32m   3816\u001B[0m     \u001B[38;5;66;03m#  the TypeError.\u001B[39;00m\n\u001B[0;32m   3817\u001B[0m     \u001B[38;5;28mself\u001B[39m\u001B[38;5;241m.\u001B[39m_check_indexing_error(key)\n",
      "\u001B[1;31mKeyError\u001B[0m: 'psicosis'"
     ]
    }
   ],
   "execution_count": 279
  },
  {
   "metadata": {
    "ExecuteTime": {
     "end_time": "2024-05-03T10:15:59.995344Z",
     "start_time": "2024-05-03T10:15:59.957453Z"
    }
   },
   "cell_type": "code",
   "source": [
    "psi_SENSE_PA= (SENSE_PA['psicosis'] == 1.0).mean() * 100\n",
    "print(f\"Percentatge de psicosi: {psi_SENSE_PA:.2f}%\")"
   ],
   "id": "7ce0057ef942886",
   "outputs": [
    {
     "ename": "KeyError",
     "evalue": "'psicosis'",
     "output_type": "error",
     "traceback": [
      "\u001B[1;31m---------------------------------------------------------------------------\u001B[0m",
      "\u001B[1;31mKeyError\u001B[0m                                  Traceback (most recent call last)",
      "File \u001B[1;32m~\\PycharmProjects\\PRACTICUM\\venv\\Lib\\site-packages\\pandas\\core\\indexes\\base.py:3805\u001B[0m, in \u001B[0;36mIndex.get_loc\u001B[1;34m(self, key)\u001B[0m\n\u001B[0;32m   3804\u001B[0m \u001B[38;5;28;01mtry\u001B[39;00m:\n\u001B[1;32m-> 3805\u001B[0m     \u001B[38;5;28;01mreturn\u001B[39;00m \u001B[38;5;28;43mself\u001B[39;49m\u001B[38;5;241;43m.\u001B[39;49m\u001B[43m_engine\u001B[49m\u001B[38;5;241;43m.\u001B[39;49m\u001B[43mget_loc\u001B[49m\u001B[43m(\u001B[49m\u001B[43mcasted_key\u001B[49m\u001B[43m)\u001B[49m\n\u001B[0;32m   3806\u001B[0m \u001B[38;5;28;01mexcept\u001B[39;00m \u001B[38;5;167;01mKeyError\u001B[39;00m \u001B[38;5;28;01mas\u001B[39;00m err:\n",
      "File \u001B[1;32mindex.pyx:167\u001B[0m, in \u001B[0;36mpandas._libs.index.IndexEngine.get_loc\u001B[1;34m()\u001B[0m\n",
      "File \u001B[1;32mindex.pyx:196\u001B[0m, in \u001B[0;36mpandas._libs.index.IndexEngine.get_loc\u001B[1;34m()\u001B[0m\n",
      "File \u001B[1;32mpandas\\\\_libs\\\\hashtable_class_helper.pxi:7081\u001B[0m, in \u001B[0;36mpandas._libs.hashtable.PyObjectHashTable.get_item\u001B[1;34m()\u001B[0m\n",
      "File \u001B[1;32mpandas\\\\_libs\\\\hashtable_class_helper.pxi:7089\u001B[0m, in \u001B[0;36mpandas._libs.hashtable.PyObjectHashTable.get_item\u001B[1;34m()\u001B[0m\n",
      "\u001B[1;31mKeyError\u001B[0m: 'psicosis'",
      "\nThe above exception was the direct cause of the following exception:\n",
      "\u001B[1;31mKeyError\u001B[0m                                  Traceback (most recent call last)",
      "Cell \u001B[1;32mIn[280], line 1\u001B[0m\n\u001B[1;32m----> 1\u001B[0m psi_SENSE_PA\u001B[38;5;241m=\u001B[39m (\u001B[43mSENSE_PA\u001B[49m\u001B[43m[\u001B[49m\u001B[38;5;124;43m'\u001B[39;49m\u001B[38;5;124;43mpsicosis\u001B[39;49m\u001B[38;5;124;43m'\u001B[39;49m\u001B[43m]\u001B[49m \u001B[38;5;241m==\u001B[39m \u001B[38;5;241m1.0\u001B[39m)\u001B[38;5;241m.\u001B[39mmean() \u001B[38;5;241m*\u001B[39m \u001B[38;5;241m100\u001B[39m\n\u001B[0;32m      2\u001B[0m \u001B[38;5;28mprint\u001B[39m(\u001B[38;5;124mf\u001B[39m\u001B[38;5;124m\"\u001B[39m\u001B[38;5;124mPercentatge de psicosi: \u001B[39m\u001B[38;5;132;01m{\u001B[39;00mpsi_SENSE_PA\u001B[38;5;132;01m:\u001B[39;00m\u001B[38;5;124m.2f\u001B[39m\u001B[38;5;132;01m}\u001B[39;00m\u001B[38;5;124m%\u001B[39m\u001B[38;5;124m\"\u001B[39m)\n",
      "File \u001B[1;32m~\\PycharmProjects\\PRACTICUM\\venv\\Lib\\site-packages\\pandas\\core\\frame.py:4102\u001B[0m, in \u001B[0;36mDataFrame.__getitem__\u001B[1;34m(self, key)\u001B[0m\n\u001B[0;32m   4100\u001B[0m \u001B[38;5;28;01mif\u001B[39;00m \u001B[38;5;28mself\u001B[39m\u001B[38;5;241m.\u001B[39mcolumns\u001B[38;5;241m.\u001B[39mnlevels \u001B[38;5;241m>\u001B[39m \u001B[38;5;241m1\u001B[39m:\n\u001B[0;32m   4101\u001B[0m     \u001B[38;5;28;01mreturn\u001B[39;00m \u001B[38;5;28mself\u001B[39m\u001B[38;5;241m.\u001B[39m_getitem_multilevel(key)\n\u001B[1;32m-> 4102\u001B[0m indexer \u001B[38;5;241m=\u001B[39m \u001B[38;5;28;43mself\u001B[39;49m\u001B[38;5;241;43m.\u001B[39;49m\u001B[43mcolumns\u001B[49m\u001B[38;5;241;43m.\u001B[39;49m\u001B[43mget_loc\u001B[49m\u001B[43m(\u001B[49m\u001B[43mkey\u001B[49m\u001B[43m)\u001B[49m\n\u001B[0;32m   4103\u001B[0m \u001B[38;5;28;01mif\u001B[39;00m is_integer(indexer):\n\u001B[0;32m   4104\u001B[0m     indexer \u001B[38;5;241m=\u001B[39m [indexer]\n",
      "File \u001B[1;32m~\\PycharmProjects\\PRACTICUM\\venv\\Lib\\site-packages\\pandas\\core\\indexes\\base.py:3812\u001B[0m, in \u001B[0;36mIndex.get_loc\u001B[1;34m(self, key)\u001B[0m\n\u001B[0;32m   3807\u001B[0m     \u001B[38;5;28;01mif\u001B[39;00m \u001B[38;5;28misinstance\u001B[39m(casted_key, \u001B[38;5;28mslice\u001B[39m) \u001B[38;5;129;01mor\u001B[39;00m (\n\u001B[0;32m   3808\u001B[0m         \u001B[38;5;28misinstance\u001B[39m(casted_key, abc\u001B[38;5;241m.\u001B[39mIterable)\n\u001B[0;32m   3809\u001B[0m         \u001B[38;5;129;01mand\u001B[39;00m \u001B[38;5;28many\u001B[39m(\u001B[38;5;28misinstance\u001B[39m(x, \u001B[38;5;28mslice\u001B[39m) \u001B[38;5;28;01mfor\u001B[39;00m x \u001B[38;5;129;01min\u001B[39;00m casted_key)\n\u001B[0;32m   3810\u001B[0m     ):\n\u001B[0;32m   3811\u001B[0m         \u001B[38;5;28;01mraise\u001B[39;00m InvalidIndexError(key)\n\u001B[1;32m-> 3812\u001B[0m     \u001B[38;5;28;01mraise\u001B[39;00m \u001B[38;5;167;01mKeyError\u001B[39;00m(key) \u001B[38;5;28;01mfrom\u001B[39;00m \u001B[38;5;21;01merr\u001B[39;00m\n\u001B[0;32m   3813\u001B[0m \u001B[38;5;28;01mexcept\u001B[39;00m \u001B[38;5;167;01mTypeError\u001B[39;00m:\n\u001B[0;32m   3814\u001B[0m     \u001B[38;5;66;03m# If we have a listlike key, _check_indexing_error will raise\u001B[39;00m\n\u001B[0;32m   3815\u001B[0m     \u001B[38;5;66;03m#  InvalidIndexError. Otherwise we fall through and re-raise\u001B[39;00m\n\u001B[0;32m   3816\u001B[0m     \u001B[38;5;66;03m#  the TypeError.\u001B[39;00m\n\u001B[0;32m   3817\u001B[0m     \u001B[38;5;28mself\u001B[39m\u001B[38;5;241m.\u001B[39m_check_indexing_error(key)\n",
      "\u001B[1;31mKeyError\u001B[0m: 'psicosis'"
     ]
    }
   ],
   "execution_count": 280
  },
  {
   "metadata": {},
   "cell_type": "markdown",
   "source": [
    "#### Pvalor "
   ],
   "id": "f7e56f1eaa4a1121"
  },
  {
   "metadata": {},
   "cell_type": "markdown",
   "source": [
    "##### Normalitat"
   ],
   "id": "d5743908cae5ebcb"
  },
  {
   "metadata": {
    "ExecuteTime": {
     "end_time": "2024-05-03T10:16:00.328380Z",
     "start_time": "2024-05-03T10:16:00.287024Z"
    }
   },
   "cell_type": "code",
   "source": [
    "stat, p_value = shapiro(AMB_PA['psicosis'])\n",
    "print(f\"Estadístic W = {stat:.4f}\")\n",
    "print(f\"Valor p = {p_value:.4f}\")\n",
    "\n",
    "alpha = 0.05\n",
    "if p_value < alpha:\n",
    "    print(\"El nombre de files no segueix una distribució normal\")\n",
    "else:\n",
    "    print(\"El nombre de files segueix una distribució normal\")"
   ],
   "id": "998491744b8998d1",
   "outputs": [
    {
     "ename": "KeyError",
     "evalue": "'psicosis'",
     "output_type": "error",
     "traceback": [
      "\u001B[1;31m---------------------------------------------------------------------------\u001B[0m",
      "\u001B[1;31mKeyError\u001B[0m                                  Traceback (most recent call last)",
      "File \u001B[1;32m~\\PycharmProjects\\PRACTICUM\\venv\\Lib\\site-packages\\pandas\\core\\indexes\\base.py:3805\u001B[0m, in \u001B[0;36mIndex.get_loc\u001B[1;34m(self, key)\u001B[0m\n\u001B[0;32m   3804\u001B[0m \u001B[38;5;28;01mtry\u001B[39;00m:\n\u001B[1;32m-> 3805\u001B[0m     \u001B[38;5;28;01mreturn\u001B[39;00m \u001B[38;5;28;43mself\u001B[39;49m\u001B[38;5;241;43m.\u001B[39;49m\u001B[43m_engine\u001B[49m\u001B[38;5;241;43m.\u001B[39;49m\u001B[43mget_loc\u001B[49m\u001B[43m(\u001B[49m\u001B[43mcasted_key\u001B[49m\u001B[43m)\u001B[49m\n\u001B[0;32m   3806\u001B[0m \u001B[38;5;28;01mexcept\u001B[39;00m \u001B[38;5;167;01mKeyError\u001B[39;00m \u001B[38;5;28;01mas\u001B[39;00m err:\n",
      "File \u001B[1;32mindex.pyx:167\u001B[0m, in \u001B[0;36mpandas._libs.index.IndexEngine.get_loc\u001B[1;34m()\u001B[0m\n",
      "File \u001B[1;32mindex.pyx:196\u001B[0m, in \u001B[0;36mpandas._libs.index.IndexEngine.get_loc\u001B[1;34m()\u001B[0m\n",
      "File \u001B[1;32mpandas\\\\_libs\\\\hashtable_class_helper.pxi:7081\u001B[0m, in \u001B[0;36mpandas._libs.hashtable.PyObjectHashTable.get_item\u001B[1;34m()\u001B[0m\n",
      "File \u001B[1;32mpandas\\\\_libs\\\\hashtable_class_helper.pxi:7089\u001B[0m, in \u001B[0;36mpandas._libs.hashtable.PyObjectHashTable.get_item\u001B[1;34m()\u001B[0m\n",
      "\u001B[1;31mKeyError\u001B[0m: 'psicosis'",
      "\nThe above exception was the direct cause of the following exception:\n",
      "\u001B[1;31mKeyError\u001B[0m                                  Traceback (most recent call last)",
      "Cell \u001B[1;32mIn[281], line 1\u001B[0m\n\u001B[1;32m----> 1\u001B[0m stat, p_value \u001B[38;5;241m=\u001B[39m shapiro(\u001B[43mAMB_PA\u001B[49m\u001B[43m[\u001B[49m\u001B[38;5;124;43m'\u001B[39;49m\u001B[38;5;124;43mpsicosis\u001B[39;49m\u001B[38;5;124;43m'\u001B[39;49m\u001B[43m]\u001B[49m)\n\u001B[0;32m      2\u001B[0m \u001B[38;5;28mprint\u001B[39m(\u001B[38;5;124mf\u001B[39m\u001B[38;5;124m\"\u001B[39m\u001B[38;5;124mEstadístic W = \u001B[39m\u001B[38;5;132;01m{\u001B[39;00mstat\u001B[38;5;132;01m:\u001B[39;00m\u001B[38;5;124m.4f\u001B[39m\u001B[38;5;132;01m}\u001B[39;00m\u001B[38;5;124m\"\u001B[39m)\n\u001B[0;32m      3\u001B[0m \u001B[38;5;28mprint\u001B[39m(\u001B[38;5;124mf\u001B[39m\u001B[38;5;124m\"\u001B[39m\u001B[38;5;124mValor p = \u001B[39m\u001B[38;5;132;01m{\u001B[39;00mp_value\u001B[38;5;132;01m:\u001B[39;00m\u001B[38;5;124m.4f\u001B[39m\u001B[38;5;132;01m}\u001B[39;00m\u001B[38;5;124m\"\u001B[39m)\n",
      "File \u001B[1;32m~\\PycharmProjects\\PRACTICUM\\venv\\Lib\\site-packages\\pandas\\core\\frame.py:4102\u001B[0m, in \u001B[0;36mDataFrame.__getitem__\u001B[1;34m(self, key)\u001B[0m\n\u001B[0;32m   4100\u001B[0m \u001B[38;5;28;01mif\u001B[39;00m \u001B[38;5;28mself\u001B[39m\u001B[38;5;241m.\u001B[39mcolumns\u001B[38;5;241m.\u001B[39mnlevels \u001B[38;5;241m>\u001B[39m \u001B[38;5;241m1\u001B[39m:\n\u001B[0;32m   4101\u001B[0m     \u001B[38;5;28;01mreturn\u001B[39;00m \u001B[38;5;28mself\u001B[39m\u001B[38;5;241m.\u001B[39m_getitem_multilevel(key)\n\u001B[1;32m-> 4102\u001B[0m indexer \u001B[38;5;241m=\u001B[39m \u001B[38;5;28;43mself\u001B[39;49m\u001B[38;5;241;43m.\u001B[39;49m\u001B[43mcolumns\u001B[49m\u001B[38;5;241;43m.\u001B[39;49m\u001B[43mget_loc\u001B[49m\u001B[43m(\u001B[49m\u001B[43mkey\u001B[49m\u001B[43m)\u001B[49m\n\u001B[0;32m   4103\u001B[0m \u001B[38;5;28;01mif\u001B[39;00m is_integer(indexer):\n\u001B[0;32m   4104\u001B[0m     indexer \u001B[38;5;241m=\u001B[39m [indexer]\n",
      "File \u001B[1;32m~\\PycharmProjects\\PRACTICUM\\venv\\Lib\\site-packages\\pandas\\core\\indexes\\base.py:3812\u001B[0m, in \u001B[0;36mIndex.get_loc\u001B[1;34m(self, key)\u001B[0m\n\u001B[0;32m   3807\u001B[0m     \u001B[38;5;28;01mif\u001B[39;00m \u001B[38;5;28misinstance\u001B[39m(casted_key, \u001B[38;5;28mslice\u001B[39m) \u001B[38;5;129;01mor\u001B[39;00m (\n\u001B[0;32m   3808\u001B[0m         \u001B[38;5;28misinstance\u001B[39m(casted_key, abc\u001B[38;5;241m.\u001B[39mIterable)\n\u001B[0;32m   3809\u001B[0m         \u001B[38;5;129;01mand\u001B[39;00m \u001B[38;5;28many\u001B[39m(\u001B[38;5;28misinstance\u001B[39m(x, \u001B[38;5;28mslice\u001B[39m) \u001B[38;5;28;01mfor\u001B[39;00m x \u001B[38;5;129;01min\u001B[39;00m casted_key)\n\u001B[0;32m   3810\u001B[0m     ):\n\u001B[0;32m   3811\u001B[0m         \u001B[38;5;28;01mraise\u001B[39;00m InvalidIndexError(key)\n\u001B[1;32m-> 3812\u001B[0m     \u001B[38;5;28;01mraise\u001B[39;00m \u001B[38;5;167;01mKeyError\u001B[39;00m(key) \u001B[38;5;28;01mfrom\u001B[39;00m \u001B[38;5;21;01merr\u001B[39;00m\n\u001B[0;32m   3813\u001B[0m \u001B[38;5;28;01mexcept\u001B[39;00m \u001B[38;5;167;01mTypeError\u001B[39;00m:\n\u001B[0;32m   3814\u001B[0m     \u001B[38;5;66;03m# If we have a listlike key, _check_indexing_error will raise\u001B[39;00m\n\u001B[0;32m   3815\u001B[0m     \u001B[38;5;66;03m#  InvalidIndexError. Otherwise we fall through and re-raise\u001B[39;00m\n\u001B[0;32m   3816\u001B[0m     \u001B[38;5;66;03m#  the TypeError.\u001B[39;00m\n\u001B[0;32m   3817\u001B[0m     \u001B[38;5;28mself\u001B[39m\u001B[38;5;241m.\u001B[39m_check_indexing_error(key)\n",
      "\u001B[1;31mKeyError\u001B[0m: 'psicosis'"
     ]
    }
   ],
   "execution_count": 281
  },
  {
   "metadata": {
    "ExecuteTime": {
     "end_time": "2024-05-03T10:16:00.709180Z",
     "start_time": "2024-05-03T10:16:00.668627Z"
    }
   },
   "cell_type": "code",
   "source": [
    "stat, p_value = shapiro(AMB_PA_MECVV['psicosis'])\n",
    "print(f\"Estadístic W = {stat:.4f}\")\n",
    "print(f\"Valor p = {p_value:.4f}\")\n",
    "\n",
    "alpha = 0.05\n",
    "if p_value < alpha:\n",
    "    print(\"El nombre de files no segueix una distribució normal\")\n",
    "else:\n",
    "    print(\"El nombre de files segueix una distribució normal\")"
   ],
   "id": "96b9bb0d7394814",
   "outputs": [
    {
     "ename": "KeyError",
     "evalue": "'psicosis'",
     "output_type": "error",
     "traceback": [
      "\u001B[1;31m---------------------------------------------------------------------------\u001B[0m",
      "\u001B[1;31mKeyError\u001B[0m                                  Traceback (most recent call last)",
      "File \u001B[1;32m~\\PycharmProjects\\PRACTICUM\\venv\\Lib\\site-packages\\pandas\\core\\indexes\\base.py:3805\u001B[0m, in \u001B[0;36mIndex.get_loc\u001B[1;34m(self, key)\u001B[0m\n\u001B[0;32m   3804\u001B[0m \u001B[38;5;28;01mtry\u001B[39;00m:\n\u001B[1;32m-> 3805\u001B[0m     \u001B[38;5;28;01mreturn\u001B[39;00m \u001B[38;5;28;43mself\u001B[39;49m\u001B[38;5;241;43m.\u001B[39;49m\u001B[43m_engine\u001B[49m\u001B[38;5;241;43m.\u001B[39;49m\u001B[43mget_loc\u001B[49m\u001B[43m(\u001B[49m\u001B[43mcasted_key\u001B[49m\u001B[43m)\u001B[49m\n\u001B[0;32m   3806\u001B[0m \u001B[38;5;28;01mexcept\u001B[39;00m \u001B[38;5;167;01mKeyError\u001B[39;00m \u001B[38;5;28;01mas\u001B[39;00m err:\n",
      "File \u001B[1;32mindex.pyx:167\u001B[0m, in \u001B[0;36mpandas._libs.index.IndexEngine.get_loc\u001B[1;34m()\u001B[0m\n",
      "File \u001B[1;32mindex.pyx:196\u001B[0m, in \u001B[0;36mpandas._libs.index.IndexEngine.get_loc\u001B[1;34m()\u001B[0m\n",
      "File \u001B[1;32mpandas\\\\_libs\\\\hashtable_class_helper.pxi:7081\u001B[0m, in \u001B[0;36mpandas._libs.hashtable.PyObjectHashTable.get_item\u001B[1;34m()\u001B[0m\n",
      "File \u001B[1;32mpandas\\\\_libs\\\\hashtable_class_helper.pxi:7089\u001B[0m, in \u001B[0;36mpandas._libs.hashtable.PyObjectHashTable.get_item\u001B[1;34m()\u001B[0m\n",
      "\u001B[1;31mKeyError\u001B[0m: 'psicosis'",
      "\nThe above exception was the direct cause of the following exception:\n",
      "\u001B[1;31mKeyError\u001B[0m                                  Traceback (most recent call last)",
      "Cell \u001B[1;32mIn[282], line 1\u001B[0m\n\u001B[1;32m----> 1\u001B[0m stat, p_value \u001B[38;5;241m=\u001B[39m shapiro(\u001B[43mAMB_PA_MECVV\u001B[49m\u001B[43m[\u001B[49m\u001B[38;5;124;43m'\u001B[39;49m\u001B[38;5;124;43mpsicosis\u001B[39;49m\u001B[38;5;124;43m'\u001B[39;49m\u001B[43m]\u001B[49m)\n\u001B[0;32m      2\u001B[0m \u001B[38;5;28mprint\u001B[39m(\u001B[38;5;124mf\u001B[39m\u001B[38;5;124m\"\u001B[39m\u001B[38;5;124mEstadístic W = \u001B[39m\u001B[38;5;132;01m{\u001B[39;00mstat\u001B[38;5;132;01m:\u001B[39;00m\u001B[38;5;124m.4f\u001B[39m\u001B[38;5;132;01m}\u001B[39;00m\u001B[38;5;124m\"\u001B[39m)\n\u001B[0;32m      3\u001B[0m \u001B[38;5;28mprint\u001B[39m(\u001B[38;5;124mf\u001B[39m\u001B[38;5;124m\"\u001B[39m\u001B[38;5;124mValor p = \u001B[39m\u001B[38;5;132;01m{\u001B[39;00mp_value\u001B[38;5;132;01m:\u001B[39;00m\u001B[38;5;124m.4f\u001B[39m\u001B[38;5;132;01m}\u001B[39;00m\u001B[38;5;124m\"\u001B[39m)\n",
      "File \u001B[1;32m~\\PycharmProjects\\PRACTICUM\\venv\\Lib\\site-packages\\pandas\\core\\frame.py:4102\u001B[0m, in \u001B[0;36mDataFrame.__getitem__\u001B[1;34m(self, key)\u001B[0m\n\u001B[0;32m   4100\u001B[0m \u001B[38;5;28;01mif\u001B[39;00m \u001B[38;5;28mself\u001B[39m\u001B[38;5;241m.\u001B[39mcolumns\u001B[38;5;241m.\u001B[39mnlevels \u001B[38;5;241m>\u001B[39m \u001B[38;5;241m1\u001B[39m:\n\u001B[0;32m   4101\u001B[0m     \u001B[38;5;28;01mreturn\u001B[39;00m \u001B[38;5;28mself\u001B[39m\u001B[38;5;241m.\u001B[39m_getitem_multilevel(key)\n\u001B[1;32m-> 4102\u001B[0m indexer \u001B[38;5;241m=\u001B[39m \u001B[38;5;28;43mself\u001B[39;49m\u001B[38;5;241;43m.\u001B[39;49m\u001B[43mcolumns\u001B[49m\u001B[38;5;241;43m.\u001B[39;49m\u001B[43mget_loc\u001B[49m\u001B[43m(\u001B[49m\u001B[43mkey\u001B[49m\u001B[43m)\u001B[49m\n\u001B[0;32m   4103\u001B[0m \u001B[38;5;28;01mif\u001B[39;00m is_integer(indexer):\n\u001B[0;32m   4104\u001B[0m     indexer \u001B[38;5;241m=\u001B[39m [indexer]\n",
      "File \u001B[1;32m~\\PycharmProjects\\PRACTICUM\\venv\\Lib\\site-packages\\pandas\\core\\indexes\\base.py:3812\u001B[0m, in \u001B[0;36mIndex.get_loc\u001B[1;34m(self, key)\u001B[0m\n\u001B[0;32m   3807\u001B[0m     \u001B[38;5;28;01mif\u001B[39;00m \u001B[38;5;28misinstance\u001B[39m(casted_key, \u001B[38;5;28mslice\u001B[39m) \u001B[38;5;129;01mor\u001B[39;00m (\n\u001B[0;32m   3808\u001B[0m         \u001B[38;5;28misinstance\u001B[39m(casted_key, abc\u001B[38;5;241m.\u001B[39mIterable)\n\u001B[0;32m   3809\u001B[0m         \u001B[38;5;129;01mand\u001B[39;00m \u001B[38;5;28many\u001B[39m(\u001B[38;5;28misinstance\u001B[39m(x, \u001B[38;5;28mslice\u001B[39m) \u001B[38;5;28;01mfor\u001B[39;00m x \u001B[38;5;129;01min\u001B[39;00m casted_key)\n\u001B[0;32m   3810\u001B[0m     ):\n\u001B[0;32m   3811\u001B[0m         \u001B[38;5;28;01mraise\u001B[39;00m InvalidIndexError(key)\n\u001B[1;32m-> 3812\u001B[0m     \u001B[38;5;28;01mraise\u001B[39;00m \u001B[38;5;167;01mKeyError\u001B[39;00m(key) \u001B[38;5;28;01mfrom\u001B[39;00m \u001B[38;5;21;01merr\u001B[39;00m\n\u001B[0;32m   3813\u001B[0m \u001B[38;5;28;01mexcept\u001B[39;00m \u001B[38;5;167;01mTypeError\u001B[39;00m:\n\u001B[0;32m   3814\u001B[0m     \u001B[38;5;66;03m# If we have a listlike key, _check_indexing_error will raise\u001B[39;00m\n\u001B[0;32m   3815\u001B[0m     \u001B[38;5;66;03m#  InvalidIndexError. Otherwise we fall through and re-raise\u001B[39;00m\n\u001B[0;32m   3816\u001B[0m     \u001B[38;5;66;03m#  the TypeError.\u001B[39;00m\n\u001B[0;32m   3817\u001B[0m     \u001B[38;5;28mself\u001B[39m\u001B[38;5;241m.\u001B[39m_check_indexing_error(key)\n",
      "\u001B[1;31mKeyError\u001B[0m: 'psicosis'"
     ]
    }
   ],
   "execution_count": 282
  },
  {
   "metadata": {
    "ExecuteTime": {
     "end_time": "2024-05-03T10:16:00.913112Z",
     "start_time": "2024-05-03T10:16:00.870229Z"
    }
   },
   "cell_type": "code",
   "source": [
    "stat, p_value = shapiro(SENSE_PA['psicosis'])\n",
    "print(f\"Estadístic W = {stat:.4f}\")\n",
    "print(f\"Valor p = {p_value:.4f}\")\n",
    "\n",
    "alpha = 0.05\n",
    "if p_value < alpha:\n",
    "    print(\"El nombre de files no segueix una distribució normal\")\n",
    "else:\n",
    "    print(\"El nombre de files segueix una distribució normal\")"
   ],
   "id": "35f8362ddbdf1d48",
   "outputs": [
    {
     "ename": "KeyError",
     "evalue": "'psicosis'",
     "output_type": "error",
     "traceback": [
      "\u001B[1;31m---------------------------------------------------------------------------\u001B[0m",
      "\u001B[1;31mKeyError\u001B[0m                                  Traceback (most recent call last)",
      "File \u001B[1;32m~\\PycharmProjects\\PRACTICUM\\venv\\Lib\\site-packages\\pandas\\core\\indexes\\base.py:3805\u001B[0m, in \u001B[0;36mIndex.get_loc\u001B[1;34m(self, key)\u001B[0m\n\u001B[0;32m   3804\u001B[0m \u001B[38;5;28;01mtry\u001B[39;00m:\n\u001B[1;32m-> 3805\u001B[0m     \u001B[38;5;28;01mreturn\u001B[39;00m \u001B[38;5;28;43mself\u001B[39;49m\u001B[38;5;241;43m.\u001B[39;49m\u001B[43m_engine\u001B[49m\u001B[38;5;241;43m.\u001B[39;49m\u001B[43mget_loc\u001B[49m\u001B[43m(\u001B[49m\u001B[43mcasted_key\u001B[49m\u001B[43m)\u001B[49m\n\u001B[0;32m   3806\u001B[0m \u001B[38;5;28;01mexcept\u001B[39;00m \u001B[38;5;167;01mKeyError\u001B[39;00m \u001B[38;5;28;01mas\u001B[39;00m err:\n",
      "File \u001B[1;32mindex.pyx:167\u001B[0m, in \u001B[0;36mpandas._libs.index.IndexEngine.get_loc\u001B[1;34m()\u001B[0m\n",
      "File \u001B[1;32mindex.pyx:196\u001B[0m, in \u001B[0;36mpandas._libs.index.IndexEngine.get_loc\u001B[1;34m()\u001B[0m\n",
      "File \u001B[1;32mpandas\\\\_libs\\\\hashtable_class_helper.pxi:7081\u001B[0m, in \u001B[0;36mpandas._libs.hashtable.PyObjectHashTable.get_item\u001B[1;34m()\u001B[0m\n",
      "File \u001B[1;32mpandas\\\\_libs\\\\hashtable_class_helper.pxi:7089\u001B[0m, in \u001B[0;36mpandas._libs.hashtable.PyObjectHashTable.get_item\u001B[1;34m()\u001B[0m\n",
      "\u001B[1;31mKeyError\u001B[0m: 'psicosis'",
      "\nThe above exception was the direct cause of the following exception:\n",
      "\u001B[1;31mKeyError\u001B[0m                                  Traceback (most recent call last)",
      "Cell \u001B[1;32mIn[283], line 1\u001B[0m\n\u001B[1;32m----> 1\u001B[0m stat, p_value \u001B[38;5;241m=\u001B[39m shapiro(\u001B[43mSENSE_PA\u001B[49m\u001B[43m[\u001B[49m\u001B[38;5;124;43m'\u001B[39;49m\u001B[38;5;124;43mpsicosis\u001B[39;49m\u001B[38;5;124;43m'\u001B[39;49m\u001B[43m]\u001B[49m)\n\u001B[0;32m      2\u001B[0m \u001B[38;5;28mprint\u001B[39m(\u001B[38;5;124mf\u001B[39m\u001B[38;5;124m\"\u001B[39m\u001B[38;5;124mEstadístic W = \u001B[39m\u001B[38;5;132;01m{\u001B[39;00mstat\u001B[38;5;132;01m:\u001B[39;00m\u001B[38;5;124m.4f\u001B[39m\u001B[38;5;132;01m}\u001B[39;00m\u001B[38;5;124m\"\u001B[39m)\n\u001B[0;32m      3\u001B[0m \u001B[38;5;28mprint\u001B[39m(\u001B[38;5;124mf\u001B[39m\u001B[38;5;124m\"\u001B[39m\u001B[38;5;124mValor p = \u001B[39m\u001B[38;5;132;01m{\u001B[39;00mp_value\u001B[38;5;132;01m:\u001B[39;00m\u001B[38;5;124m.4f\u001B[39m\u001B[38;5;132;01m}\u001B[39;00m\u001B[38;5;124m\"\u001B[39m)\n",
      "File \u001B[1;32m~\\PycharmProjects\\PRACTICUM\\venv\\Lib\\site-packages\\pandas\\core\\frame.py:4102\u001B[0m, in \u001B[0;36mDataFrame.__getitem__\u001B[1;34m(self, key)\u001B[0m\n\u001B[0;32m   4100\u001B[0m \u001B[38;5;28;01mif\u001B[39;00m \u001B[38;5;28mself\u001B[39m\u001B[38;5;241m.\u001B[39mcolumns\u001B[38;5;241m.\u001B[39mnlevels \u001B[38;5;241m>\u001B[39m \u001B[38;5;241m1\u001B[39m:\n\u001B[0;32m   4101\u001B[0m     \u001B[38;5;28;01mreturn\u001B[39;00m \u001B[38;5;28mself\u001B[39m\u001B[38;5;241m.\u001B[39m_getitem_multilevel(key)\n\u001B[1;32m-> 4102\u001B[0m indexer \u001B[38;5;241m=\u001B[39m \u001B[38;5;28;43mself\u001B[39;49m\u001B[38;5;241;43m.\u001B[39;49m\u001B[43mcolumns\u001B[49m\u001B[38;5;241;43m.\u001B[39;49m\u001B[43mget_loc\u001B[49m\u001B[43m(\u001B[49m\u001B[43mkey\u001B[49m\u001B[43m)\u001B[49m\n\u001B[0;32m   4103\u001B[0m \u001B[38;5;28;01mif\u001B[39;00m is_integer(indexer):\n\u001B[0;32m   4104\u001B[0m     indexer \u001B[38;5;241m=\u001B[39m [indexer]\n",
      "File \u001B[1;32m~\\PycharmProjects\\PRACTICUM\\venv\\Lib\\site-packages\\pandas\\core\\indexes\\base.py:3812\u001B[0m, in \u001B[0;36mIndex.get_loc\u001B[1;34m(self, key)\u001B[0m\n\u001B[0;32m   3807\u001B[0m     \u001B[38;5;28;01mif\u001B[39;00m \u001B[38;5;28misinstance\u001B[39m(casted_key, \u001B[38;5;28mslice\u001B[39m) \u001B[38;5;129;01mor\u001B[39;00m (\n\u001B[0;32m   3808\u001B[0m         \u001B[38;5;28misinstance\u001B[39m(casted_key, abc\u001B[38;5;241m.\u001B[39mIterable)\n\u001B[0;32m   3809\u001B[0m         \u001B[38;5;129;01mand\u001B[39;00m \u001B[38;5;28many\u001B[39m(\u001B[38;5;28misinstance\u001B[39m(x, \u001B[38;5;28mslice\u001B[39m) \u001B[38;5;28;01mfor\u001B[39;00m x \u001B[38;5;129;01min\u001B[39;00m casted_key)\n\u001B[0;32m   3810\u001B[0m     ):\n\u001B[0;32m   3811\u001B[0m         \u001B[38;5;28;01mraise\u001B[39;00m InvalidIndexError(key)\n\u001B[1;32m-> 3812\u001B[0m     \u001B[38;5;28;01mraise\u001B[39;00m \u001B[38;5;167;01mKeyError\u001B[39;00m(key) \u001B[38;5;28;01mfrom\u001B[39;00m \u001B[38;5;21;01merr\u001B[39;00m\n\u001B[0;32m   3813\u001B[0m \u001B[38;5;28;01mexcept\u001B[39;00m \u001B[38;5;167;01mTypeError\u001B[39;00m:\n\u001B[0;32m   3814\u001B[0m     \u001B[38;5;66;03m# If we have a listlike key, _check_indexing_error will raise\u001B[39;00m\n\u001B[0;32m   3815\u001B[0m     \u001B[38;5;66;03m#  InvalidIndexError. Otherwise we fall through and re-raise\u001B[39;00m\n\u001B[0;32m   3816\u001B[0m     \u001B[38;5;66;03m#  the TypeError.\u001B[39;00m\n\u001B[0;32m   3817\u001B[0m     \u001B[38;5;28mself\u001B[39m\u001B[38;5;241m.\u001B[39m_check_indexing_error(key)\n",
      "\u001B[1;31mKeyError\u001B[0m: 'psicosis'"
     ]
    }
   ],
   "execution_count": 283
  },
  {
   "metadata": {
    "ExecuteTime": {
     "end_time": "2024-05-03T10:16:01.249027Z",
     "start_time": "2024-05-03T10:16:01.210928Z"
    }
   },
   "cell_type": "code",
   "source": [
    "stat, p_value_12 = ttest_ind(AMB_PA['psicosis'], AMB_PA_MECVV['psicosis'], equal_var=False)\n",
    "print(\"P-valor entre AMB_PA i AMB_PA_MECVV\", p_value_12)"
   ],
   "id": "442c95770e6ba861",
   "outputs": [
    {
     "ename": "KeyError",
     "evalue": "'psicosis'",
     "output_type": "error",
     "traceback": [
      "\u001B[1;31m---------------------------------------------------------------------------\u001B[0m",
      "\u001B[1;31mKeyError\u001B[0m                                  Traceback (most recent call last)",
      "File \u001B[1;32m~\\PycharmProjects\\PRACTICUM\\venv\\Lib\\site-packages\\pandas\\core\\indexes\\base.py:3805\u001B[0m, in \u001B[0;36mIndex.get_loc\u001B[1;34m(self, key)\u001B[0m\n\u001B[0;32m   3804\u001B[0m \u001B[38;5;28;01mtry\u001B[39;00m:\n\u001B[1;32m-> 3805\u001B[0m     \u001B[38;5;28;01mreturn\u001B[39;00m \u001B[38;5;28;43mself\u001B[39;49m\u001B[38;5;241;43m.\u001B[39;49m\u001B[43m_engine\u001B[49m\u001B[38;5;241;43m.\u001B[39;49m\u001B[43mget_loc\u001B[49m\u001B[43m(\u001B[49m\u001B[43mcasted_key\u001B[49m\u001B[43m)\u001B[49m\n\u001B[0;32m   3806\u001B[0m \u001B[38;5;28;01mexcept\u001B[39;00m \u001B[38;5;167;01mKeyError\u001B[39;00m \u001B[38;5;28;01mas\u001B[39;00m err:\n",
      "File \u001B[1;32mindex.pyx:167\u001B[0m, in \u001B[0;36mpandas._libs.index.IndexEngine.get_loc\u001B[1;34m()\u001B[0m\n",
      "File \u001B[1;32mindex.pyx:196\u001B[0m, in \u001B[0;36mpandas._libs.index.IndexEngine.get_loc\u001B[1;34m()\u001B[0m\n",
      "File \u001B[1;32mpandas\\\\_libs\\\\hashtable_class_helper.pxi:7081\u001B[0m, in \u001B[0;36mpandas._libs.hashtable.PyObjectHashTable.get_item\u001B[1;34m()\u001B[0m\n",
      "File \u001B[1;32mpandas\\\\_libs\\\\hashtable_class_helper.pxi:7089\u001B[0m, in \u001B[0;36mpandas._libs.hashtable.PyObjectHashTable.get_item\u001B[1;34m()\u001B[0m\n",
      "\u001B[1;31mKeyError\u001B[0m: 'psicosis'",
      "\nThe above exception was the direct cause of the following exception:\n",
      "\u001B[1;31mKeyError\u001B[0m                                  Traceback (most recent call last)",
      "Cell \u001B[1;32mIn[284], line 1\u001B[0m\n\u001B[1;32m----> 1\u001B[0m stat, p_value_12 \u001B[38;5;241m=\u001B[39m ttest_ind(\u001B[43mAMB_PA\u001B[49m\u001B[43m[\u001B[49m\u001B[38;5;124;43m'\u001B[39;49m\u001B[38;5;124;43mpsicosis\u001B[39;49m\u001B[38;5;124;43m'\u001B[39;49m\u001B[43m]\u001B[49m, AMB_PA_MECVV[\u001B[38;5;124m'\u001B[39m\u001B[38;5;124mpsicosis\u001B[39m\u001B[38;5;124m'\u001B[39m], equal_var\u001B[38;5;241m=\u001B[39m\u001B[38;5;28;01mFalse\u001B[39;00m)\n\u001B[0;32m      2\u001B[0m \u001B[38;5;28mprint\u001B[39m(\u001B[38;5;124m\"\u001B[39m\u001B[38;5;124mP-valor entre AMB_PA i AMB_PA_MECVV\u001B[39m\u001B[38;5;124m\"\u001B[39m, p_value_12)\n",
      "File \u001B[1;32m~\\PycharmProjects\\PRACTICUM\\venv\\Lib\\site-packages\\pandas\\core\\frame.py:4102\u001B[0m, in \u001B[0;36mDataFrame.__getitem__\u001B[1;34m(self, key)\u001B[0m\n\u001B[0;32m   4100\u001B[0m \u001B[38;5;28;01mif\u001B[39;00m \u001B[38;5;28mself\u001B[39m\u001B[38;5;241m.\u001B[39mcolumns\u001B[38;5;241m.\u001B[39mnlevels \u001B[38;5;241m>\u001B[39m \u001B[38;5;241m1\u001B[39m:\n\u001B[0;32m   4101\u001B[0m     \u001B[38;5;28;01mreturn\u001B[39;00m \u001B[38;5;28mself\u001B[39m\u001B[38;5;241m.\u001B[39m_getitem_multilevel(key)\n\u001B[1;32m-> 4102\u001B[0m indexer \u001B[38;5;241m=\u001B[39m \u001B[38;5;28;43mself\u001B[39;49m\u001B[38;5;241;43m.\u001B[39;49m\u001B[43mcolumns\u001B[49m\u001B[38;5;241;43m.\u001B[39;49m\u001B[43mget_loc\u001B[49m\u001B[43m(\u001B[49m\u001B[43mkey\u001B[49m\u001B[43m)\u001B[49m\n\u001B[0;32m   4103\u001B[0m \u001B[38;5;28;01mif\u001B[39;00m is_integer(indexer):\n\u001B[0;32m   4104\u001B[0m     indexer \u001B[38;5;241m=\u001B[39m [indexer]\n",
      "File \u001B[1;32m~\\PycharmProjects\\PRACTICUM\\venv\\Lib\\site-packages\\pandas\\core\\indexes\\base.py:3812\u001B[0m, in \u001B[0;36mIndex.get_loc\u001B[1;34m(self, key)\u001B[0m\n\u001B[0;32m   3807\u001B[0m     \u001B[38;5;28;01mif\u001B[39;00m \u001B[38;5;28misinstance\u001B[39m(casted_key, \u001B[38;5;28mslice\u001B[39m) \u001B[38;5;129;01mor\u001B[39;00m (\n\u001B[0;32m   3808\u001B[0m         \u001B[38;5;28misinstance\u001B[39m(casted_key, abc\u001B[38;5;241m.\u001B[39mIterable)\n\u001B[0;32m   3809\u001B[0m         \u001B[38;5;129;01mand\u001B[39;00m \u001B[38;5;28many\u001B[39m(\u001B[38;5;28misinstance\u001B[39m(x, \u001B[38;5;28mslice\u001B[39m) \u001B[38;5;28;01mfor\u001B[39;00m x \u001B[38;5;129;01min\u001B[39;00m casted_key)\n\u001B[0;32m   3810\u001B[0m     ):\n\u001B[0;32m   3811\u001B[0m         \u001B[38;5;28;01mraise\u001B[39;00m InvalidIndexError(key)\n\u001B[1;32m-> 3812\u001B[0m     \u001B[38;5;28;01mraise\u001B[39;00m \u001B[38;5;167;01mKeyError\u001B[39;00m(key) \u001B[38;5;28;01mfrom\u001B[39;00m \u001B[38;5;21;01merr\u001B[39;00m\n\u001B[0;32m   3813\u001B[0m \u001B[38;5;28;01mexcept\u001B[39;00m \u001B[38;5;167;01mTypeError\u001B[39;00m:\n\u001B[0;32m   3814\u001B[0m     \u001B[38;5;66;03m# If we have a listlike key, _check_indexing_error will raise\u001B[39;00m\n\u001B[0;32m   3815\u001B[0m     \u001B[38;5;66;03m#  InvalidIndexError. Otherwise we fall through and re-raise\u001B[39;00m\n\u001B[0;32m   3816\u001B[0m     \u001B[38;5;66;03m#  the TypeError.\u001B[39;00m\n\u001B[0;32m   3817\u001B[0m     \u001B[38;5;28mself\u001B[39m\u001B[38;5;241m.\u001B[39m_check_indexing_error(key)\n",
      "\u001B[1;31mKeyError\u001B[0m: 'psicosis'"
     ]
    }
   ],
   "execution_count": 284
  },
  {
   "metadata": {
    "ExecuteTime": {
     "end_time": "2024-05-03T10:16:01.625462Z",
     "start_time": "2024-05-03T10:16:01.587739Z"
    }
   },
   "cell_type": "code",
   "source": [
    "stat, p_value_13 = ttest_ind(AMB_PA['psicosis'], SENSE_PA['psicosis'], equal_var=False)\n",
    "print(\"P-valor entre AMB_PA i SENSE_PA\", p_value_13)"
   ],
   "id": "f0792113c35b5010",
   "outputs": [
    {
     "ename": "KeyError",
     "evalue": "'psicosis'",
     "output_type": "error",
     "traceback": [
      "\u001B[1;31m---------------------------------------------------------------------------\u001B[0m",
      "\u001B[1;31mKeyError\u001B[0m                                  Traceback (most recent call last)",
      "File \u001B[1;32m~\\PycharmProjects\\PRACTICUM\\venv\\Lib\\site-packages\\pandas\\core\\indexes\\base.py:3805\u001B[0m, in \u001B[0;36mIndex.get_loc\u001B[1;34m(self, key)\u001B[0m\n\u001B[0;32m   3804\u001B[0m \u001B[38;5;28;01mtry\u001B[39;00m:\n\u001B[1;32m-> 3805\u001B[0m     \u001B[38;5;28;01mreturn\u001B[39;00m \u001B[38;5;28;43mself\u001B[39;49m\u001B[38;5;241;43m.\u001B[39;49m\u001B[43m_engine\u001B[49m\u001B[38;5;241;43m.\u001B[39;49m\u001B[43mget_loc\u001B[49m\u001B[43m(\u001B[49m\u001B[43mcasted_key\u001B[49m\u001B[43m)\u001B[49m\n\u001B[0;32m   3806\u001B[0m \u001B[38;5;28;01mexcept\u001B[39;00m \u001B[38;5;167;01mKeyError\u001B[39;00m \u001B[38;5;28;01mas\u001B[39;00m err:\n",
      "File \u001B[1;32mindex.pyx:167\u001B[0m, in \u001B[0;36mpandas._libs.index.IndexEngine.get_loc\u001B[1;34m()\u001B[0m\n",
      "File \u001B[1;32mindex.pyx:196\u001B[0m, in \u001B[0;36mpandas._libs.index.IndexEngine.get_loc\u001B[1;34m()\u001B[0m\n",
      "File \u001B[1;32mpandas\\\\_libs\\\\hashtable_class_helper.pxi:7081\u001B[0m, in \u001B[0;36mpandas._libs.hashtable.PyObjectHashTable.get_item\u001B[1;34m()\u001B[0m\n",
      "File \u001B[1;32mpandas\\\\_libs\\\\hashtable_class_helper.pxi:7089\u001B[0m, in \u001B[0;36mpandas._libs.hashtable.PyObjectHashTable.get_item\u001B[1;34m()\u001B[0m\n",
      "\u001B[1;31mKeyError\u001B[0m: 'psicosis'",
      "\nThe above exception was the direct cause of the following exception:\n",
      "\u001B[1;31mKeyError\u001B[0m                                  Traceback (most recent call last)",
      "Cell \u001B[1;32mIn[285], line 1\u001B[0m\n\u001B[1;32m----> 1\u001B[0m stat, p_value_13 \u001B[38;5;241m=\u001B[39m ttest_ind(\u001B[43mAMB_PA\u001B[49m\u001B[43m[\u001B[49m\u001B[38;5;124;43m'\u001B[39;49m\u001B[38;5;124;43mpsicosis\u001B[39;49m\u001B[38;5;124;43m'\u001B[39;49m\u001B[43m]\u001B[49m, SENSE_PA[\u001B[38;5;124m'\u001B[39m\u001B[38;5;124mpsicosis\u001B[39m\u001B[38;5;124m'\u001B[39m], equal_var\u001B[38;5;241m=\u001B[39m\u001B[38;5;28;01mFalse\u001B[39;00m)\n\u001B[0;32m      2\u001B[0m \u001B[38;5;28mprint\u001B[39m(\u001B[38;5;124m\"\u001B[39m\u001B[38;5;124mP-valor entre AMB_PA i SENSE_PA\u001B[39m\u001B[38;5;124m\"\u001B[39m, p_value_13)\n",
      "File \u001B[1;32m~\\PycharmProjects\\PRACTICUM\\venv\\Lib\\site-packages\\pandas\\core\\frame.py:4102\u001B[0m, in \u001B[0;36mDataFrame.__getitem__\u001B[1;34m(self, key)\u001B[0m\n\u001B[0;32m   4100\u001B[0m \u001B[38;5;28;01mif\u001B[39;00m \u001B[38;5;28mself\u001B[39m\u001B[38;5;241m.\u001B[39mcolumns\u001B[38;5;241m.\u001B[39mnlevels \u001B[38;5;241m>\u001B[39m \u001B[38;5;241m1\u001B[39m:\n\u001B[0;32m   4101\u001B[0m     \u001B[38;5;28;01mreturn\u001B[39;00m \u001B[38;5;28mself\u001B[39m\u001B[38;5;241m.\u001B[39m_getitem_multilevel(key)\n\u001B[1;32m-> 4102\u001B[0m indexer \u001B[38;5;241m=\u001B[39m \u001B[38;5;28;43mself\u001B[39;49m\u001B[38;5;241;43m.\u001B[39;49m\u001B[43mcolumns\u001B[49m\u001B[38;5;241;43m.\u001B[39;49m\u001B[43mget_loc\u001B[49m\u001B[43m(\u001B[49m\u001B[43mkey\u001B[49m\u001B[43m)\u001B[49m\n\u001B[0;32m   4103\u001B[0m \u001B[38;5;28;01mif\u001B[39;00m is_integer(indexer):\n\u001B[0;32m   4104\u001B[0m     indexer \u001B[38;5;241m=\u001B[39m [indexer]\n",
      "File \u001B[1;32m~\\PycharmProjects\\PRACTICUM\\venv\\Lib\\site-packages\\pandas\\core\\indexes\\base.py:3812\u001B[0m, in \u001B[0;36mIndex.get_loc\u001B[1;34m(self, key)\u001B[0m\n\u001B[0;32m   3807\u001B[0m     \u001B[38;5;28;01mif\u001B[39;00m \u001B[38;5;28misinstance\u001B[39m(casted_key, \u001B[38;5;28mslice\u001B[39m) \u001B[38;5;129;01mor\u001B[39;00m (\n\u001B[0;32m   3808\u001B[0m         \u001B[38;5;28misinstance\u001B[39m(casted_key, abc\u001B[38;5;241m.\u001B[39mIterable)\n\u001B[0;32m   3809\u001B[0m         \u001B[38;5;129;01mand\u001B[39;00m \u001B[38;5;28many\u001B[39m(\u001B[38;5;28misinstance\u001B[39m(x, \u001B[38;5;28mslice\u001B[39m) \u001B[38;5;28;01mfor\u001B[39;00m x \u001B[38;5;129;01min\u001B[39;00m casted_key)\n\u001B[0;32m   3810\u001B[0m     ):\n\u001B[0;32m   3811\u001B[0m         \u001B[38;5;28;01mraise\u001B[39;00m InvalidIndexError(key)\n\u001B[1;32m-> 3812\u001B[0m     \u001B[38;5;28;01mraise\u001B[39;00m \u001B[38;5;167;01mKeyError\u001B[39;00m(key) \u001B[38;5;28;01mfrom\u001B[39;00m \u001B[38;5;21;01merr\u001B[39;00m\n\u001B[0;32m   3813\u001B[0m \u001B[38;5;28;01mexcept\u001B[39;00m \u001B[38;5;167;01mTypeError\u001B[39;00m:\n\u001B[0;32m   3814\u001B[0m     \u001B[38;5;66;03m# If we have a listlike key, _check_indexing_error will raise\u001B[39;00m\n\u001B[0;32m   3815\u001B[0m     \u001B[38;5;66;03m#  InvalidIndexError. Otherwise we fall through and re-raise\u001B[39;00m\n\u001B[0;32m   3816\u001B[0m     \u001B[38;5;66;03m#  the TypeError.\u001B[39;00m\n\u001B[0;32m   3817\u001B[0m     \u001B[38;5;28mself\u001B[39m\u001B[38;5;241m.\u001B[39m_check_indexing_error(key)\n",
      "\u001B[1;31mKeyError\u001B[0m: 'psicosis'"
     ]
    }
   ],
   "execution_count": 285
  },
  {
   "metadata": {
    "ExecuteTime": {
     "end_time": "2024-05-03T10:16:01.859227Z",
     "start_time": "2024-05-03T10:16:01.823511Z"
    }
   },
   "cell_type": "code",
   "source": [
    "stat, p_value_23 = ttest_ind(AMB_PA_MECVV['psicosis'], SENSE_PA['psicosis'], equal_var=False)\n",
    "print(\"P-valor entre AMB_PA_MECVV i SENSE_PA\", p_value_23)"
   ],
   "id": "9b79bbe3afa56094",
   "outputs": [
    {
     "ename": "KeyError",
     "evalue": "'psicosis'",
     "output_type": "error",
     "traceback": [
      "\u001B[1;31m---------------------------------------------------------------------------\u001B[0m",
      "\u001B[1;31mKeyError\u001B[0m                                  Traceback (most recent call last)",
      "File \u001B[1;32m~\\PycharmProjects\\PRACTICUM\\venv\\Lib\\site-packages\\pandas\\core\\indexes\\base.py:3805\u001B[0m, in \u001B[0;36mIndex.get_loc\u001B[1;34m(self, key)\u001B[0m\n\u001B[0;32m   3804\u001B[0m \u001B[38;5;28;01mtry\u001B[39;00m:\n\u001B[1;32m-> 3805\u001B[0m     \u001B[38;5;28;01mreturn\u001B[39;00m \u001B[38;5;28;43mself\u001B[39;49m\u001B[38;5;241;43m.\u001B[39;49m\u001B[43m_engine\u001B[49m\u001B[38;5;241;43m.\u001B[39;49m\u001B[43mget_loc\u001B[49m\u001B[43m(\u001B[49m\u001B[43mcasted_key\u001B[49m\u001B[43m)\u001B[49m\n\u001B[0;32m   3806\u001B[0m \u001B[38;5;28;01mexcept\u001B[39;00m \u001B[38;5;167;01mKeyError\u001B[39;00m \u001B[38;5;28;01mas\u001B[39;00m err:\n",
      "File \u001B[1;32mindex.pyx:167\u001B[0m, in \u001B[0;36mpandas._libs.index.IndexEngine.get_loc\u001B[1;34m()\u001B[0m\n",
      "File \u001B[1;32mindex.pyx:196\u001B[0m, in \u001B[0;36mpandas._libs.index.IndexEngine.get_loc\u001B[1;34m()\u001B[0m\n",
      "File \u001B[1;32mpandas\\\\_libs\\\\hashtable_class_helper.pxi:7081\u001B[0m, in \u001B[0;36mpandas._libs.hashtable.PyObjectHashTable.get_item\u001B[1;34m()\u001B[0m\n",
      "File \u001B[1;32mpandas\\\\_libs\\\\hashtable_class_helper.pxi:7089\u001B[0m, in \u001B[0;36mpandas._libs.hashtable.PyObjectHashTable.get_item\u001B[1;34m()\u001B[0m\n",
      "\u001B[1;31mKeyError\u001B[0m: 'psicosis'",
      "\nThe above exception was the direct cause of the following exception:\n",
      "\u001B[1;31mKeyError\u001B[0m                                  Traceback (most recent call last)",
      "Cell \u001B[1;32mIn[286], line 1\u001B[0m\n\u001B[1;32m----> 1\u001B[0m stat, p_value_23 \u001B[38;5;241m=\u001B[39m ttest_ind(\u001B[43mAMB_PA_MECVV\u001B[49m\u001B[43m[\u001B[49m\u001B[38;5;124;43m'\u001B[39;49m\u001B[38;5;124;43mpsicosis\u001B[39;49m\u001B[38;5;124;43m'\u001B[39;49m\u001B[43m]\u001B[49m, SENSE_PA[\u001B[38;5;124m'\u001B[39m\u001B[38;5;124mpsicosis\u001B[39m\u001B[38;5;124m'\u001B[39m], equal_var\u001B[38;5;241m=\u001B[39m\u001B[38;5;28;01mFalse\u001B[39;00m)\n\u001B[0;32m      2\u001B[0m \u001B[38;5;28mprint\u001B[39m(\u001B[38;5;124m\"\u001B[39m\u001B[38;5;124mP-valor entre AMB_PA_MECVV i SENSE_PA\u001B[39m\u001B[38;5;124m\"\u001B[39m, p_value_23)\n",
      "File \u001B[1;32m~\\PycharmProjects\\PRACTICUM\\venv\\Lib\\site-packages\\pandas\\core\\frame.py:4102\u001B[0m, in \u001B[0;36mDataFrame.__getitem__\u001B[1;34m(self, key)\u001B[0m\n\u001B[0;32m   4100\u001B[0m \u001B[38;5;28;01mif\u001B[39;00m \u001B[38;5;28mself\u001B[39m\u001B[38;5;241m.\u001B[39mcolumns\u001B[38;5;241m.\u001B[39mnlevels \u001B[38;5;241m>\u001B[39m \u001B[38;5;241m1\u001B[39m:\n\u001B[0;32m   4101\u001B[0m     \u001B[38;5;28;01mreturn\u001B[39;00m \u001B[38;5;28mself\u001B[39m\u001B[38;5;241m.\u001B[39m_getitem_multilevel(key)\n\u001B[1;32m-> 4102\u001B[0m indexer \u001B[38;5;241m=\u001B[39m \u001B[38;5;28;43mself\u001B[39;49m\u001B[38;5;241;43m.\u001B[39;49m\u001B[43mcolumns\u001B[49m\u001B[38;5;241;43m.\u001B[39;49m\u001B[43mget_loc\u001B[49m\u001B[43m(\u001B[49m\u001B[43mkey\u001B[49m\u001B[43m)\u001B[49m\n\u001B[0;32m   4103\u001B[0m \u001B[38;5;28;01mif\u001B[39;00m is_integer(indexer):\n\u001B[0;32m   4104\u001B[0m     indexer \u001B[38;5;241m=\u001B[39m [indexer]\n",
      "File \u001B[1;32m~\\PycharmProjects\\PRACTICUM\\venv\\Lib\\site-packages\\pandas\\core\\indexes\\base.py:3812\u001B[0m, in \u001B[0;36mIndex.get_loc\u001B[1;34m(self, key)\u001B[0m\n\u001B[0;32m   3807\u001B[0m     \u001B[38;5;28;01mif\u001B[39;00m \u001B[38;5;28misinstance\u001B[39m(casted_key, \u001B[38;5;28mslice\u001B[39m) \u001B[38;5;129;01mor\u001B[39;00m (\n\u001B[0;32m   3808\u001B[0m         \u001B[38;5;28misinstance\u001B[39m(casted_key, abc\u001B[38;5;241m.\u001B[39mIterable)\n\u001B[0;32m   3809\u001B[0m         \u001B[38;5;129;01mand\u001B[39;00m \u001B[38;5;28many\u001B[39m(\u001B[38;5;28misinstance\u001B[39m(x, \u001B[38;5;28mslice\u001B[39m) \u001B[38;5;28;01mfor\u001B[39;00m x \u001B[38;5;129;01min\u001B[39;00m casted_key)\n\u001B[0;32m   3810\u001B[0m     ):\n\u001B[0;32m   3811\u001B[0m         \u001B[38;5;28;01mraise\u001B[39;00m InvalidIndexError(key)\n\u001B[1;32m-> 3812\u001B[0m     \u001B[38;5;28;01mraise\u001B[39;00m \u001B[38;5;167;01mKeyError\u001B[39;00m(key) \u001B[38;5;28;01mfrom\u001B[39;00m \u001B[38;5;21;01merr\u001B[39;00m\n\u001B[0;32m   3813\u001B[0m \u001B[38;5;28;01mexcept\u001B[39;00m \u001B[38;5;167;01mTypeError\u001B[39;00m:\n\u001B[0;32m   3814\u001B[0m     \u001B[38;5;66;03m# If we have a listlike key, _check_indexing_error will raise\u001B[39;00m\n\u001B[0;32m   3815\u001B[0m     \u001B[38;5;66;03m#  InvalidIndexError. Otherwise we fall through and re-raise\u001B[39;00m\n\u001B[0;32m   3816\u001B[0m     \u001B[38;5;66;03m#  the TypeError.\u001B[39;00m\n\u001B[0;32m   3817\u001B[0m     \u001B[38;5;28mself\u001B[39m\u001B[38;5;241m.\u001B[39m_check_indexing_error(key)\n",
      "\u001B[1;31mKeyError\u001B[0m: 'psicosis'"
     ]
    }
   ],
   "execution_count": 286
  },
  {
   "metadata": {},
   "cell_type": "markdown",
   "source": [
    "## Deficiències nutricionals"
   ],
   "id": "fd2da9ae3b318047"
  },
  {
   "metadata": {
    "ExecuteTime": {
     "end_time": "2024-05-03T10:16:02.181179Z",
     "start_time": "2024-05-03T10:16:02.140517Z"
    }
   },
   "cell_type": "code",
   "source": [
    "nutri_AMB_PA= (AMB_PA['def_nutri'] == 1.0).mean() * 100\n",
    "print(f\"Percentatge de deficiències nutricionals: {nutri_AMB_PA:.2f}%\")"
   ],
   "id": "e841eb27b0ef04d7",
   "outputs": [
    {
     "ename": "KeyError",
     "evalue": "'def_nutri'",
     "output_type": "error",
     "traceback": [
      "\u001B[1;31m---------------------------------------------------------------------------\u001B[0m",
      "\u001B[1;31mKeyError\u001B[0m                                  Traceback (most recent call last)",
      "File \u001B[1;32m~\\PycharmProjects\\PRACTICUM\\venv\\Lib\\site-packages\\pandas\\core\\indexes\\base.py:3805\u001B[0m, in \u001B[0;36mIndex.get_loc\u001B[1;34m(self, key)\u001B[0m\n\u001B[0;32m   3804\u001B[0m \u001B[38;5;28;01mtry\u001B[39;00m:\n\u001B[1;32m-> 3805\u001B[0m     \u001B[38;5;28;01mreturn\u001B[39;00m \u001B[38;5;28;43mself\u001B[39;49m\u001B[38;5;241;43m.\u001B[39;49m\u001B[43m_engine\u001B[49m\u001B[38;5;241;43m.\u001B[39;49m\u001B[43mget_loc\u001B[49m\u001B[43m(\u001B[49m\u001B[43mcasted_key\u001B[49m\u001B[43m)\u001B[49m\n\u001B[0;32m   3806\u001B[0m \u001B[38;5;28;01mexcept\u001B[39;00m \u001B[38;5;167;01mKeyError\u001B[39;00m \u001B[38;5;28;01mas\u001B[39;00m err:\n",
      "File \u001B[1;32mindex.pyx:167\u001B[0m, in \u001B[0;36mpandas._libs.index.IndexEngine.get_loc\u001B[1;34m()\u001B[0m\n",
      "File \u001B[1;32mindex.pyx:196\u001B[0m, in \u001B[0;36mpandas._libs.index.IndexEngine.get_loc\u001B[1;34m()\u001B[0m\n",
      "File \u001B[1;32mpandas\\\\_libs\\\\hashtable_class_helper.pxi:7081\u001B[0m, in \u001B[0;36mpandas._libs.hashtable.PyObjectHashTable.get_item\u001B[1;34m()\u001B[0m\n",
      "File \u001B[1;32mpandas\\\\_libs\\\\hashtable_class_helper.pxi:7089\u001B[0m, in \u001B[0;36mpandas._libs.hashtable.PyObjectHashTable.get_item\u001B[1;34m()\u001B[0m\n",
      "\u001B[1;31mKeyError\u001B[0m: 'def_nutri'",
      "\nThe above exception was the direct cause of the following exception:\n",
      "\u001B[1;31mKeyError\u001B[0m                                  Traceback (most recent call last)",
      "Cell \u001B[1;32mIn[287], line 1\u001B[0m\n\u001B[1;32m----> 1\u001B[0m nutri_AMB_PA\u001B[38;5;241m=\u001B[39m (\u001B[43mAMB_PA\u001B[49m\u001B[43m[\u001B[49m\u001B[38;5;124;43m'\u001B[39;49m\u001B[38;5;124;43mdef_nutri\u001B[39;49m\u001B[38;5;124;43m'\u001B[39;49m\u001B[43m]\u001B[49m \u001B[38;5;241m==\u001B[39m \u001B[38;5;241m1.0\u001B[39m)\u001B[38;5;241m.\u001B[39mmean() \u001B[38;5;241m*\u001B[39m \u001B[38;5;241m100\u001B[39m\n\u001B[0;32m      2\u001B[0m \u001B[38;5;28mprint\u001B[39m(\u001B[38;5;124mf\u001B[39m\u001B[38;5;124m\"\u001B[39m\u001B[38;5;124mPercentatge de deficiències nutricionals: \u001B[39m\u001B[38;5;132;01m{\u001B[39;00mnutri_AMB_PA\u001B[38;5;132;01m:\u001B[39;00m\u001B[38;5;124m.2f\u001B[39m\u001B[38;5;132;01m}\u001B[39;00m\u001B[38;5;124m%\u001B[39m\u001B[38;5;124m\"\u001B[39m)\n",
      "File \u001B[1;32m~\\PycharmProjects\\PRACTICUM\\venv\\Lib\\site-packages\\pandas\\core\\frame.py:4102\u001B[0m, in \u001B[0;36mDataFrame.__getitem__\u001B[1;34m(self, key)\u001B[0m\n\u001B[0;32m   4100\u001B[0m \u001B[38;5;28;01mif\u001B[39;00m \u001B[38;5;28mself\u001B[39m\u001B[38;5;241m.\u001B[39mcolumns\u001B[38;5;241m.\u001B[39mnlevels \u001B[38;5;241m>\u001B[39m \u001B[38;5;241m1\u001B[39m:\n\u001B[0;32m   4101\u001B[0m     \u001B[38;5;28;01mreturn\u001B[39;00m \u001B[38;5;28mself\u001B[39m\u001B[38;5;241m.\u001B[39m_getitem_multilevel(key)\n\u001B[1;32m-> 4102\u001B[0m indexer \u001B[38;5;241m=\u001B[39m \u001B[38;5;28;43mself\u001B[39;49m\u001B[38;5;241;43m.\u001B[39;49m\u001B[43mcolumns\u001B[49m\u001B[38;5;241;43m.\u001B[39;49m\u001B[43mget_loc\u001B[49m\u001B[43m(\u001B[49m\u001B[43mkey\u001B[49m\u001B[43m)\u001B[49m\n\u001B[0;32m   4103\u001B[0m \u001B[38;5;28;01mif\u001B[39;00m is_integer(indexer):\n\u001B[0;32m   4104\u001B[0m     indexer \u001B[38;5;241m=\u001B[39m [indexer]\n",
      "File \u001B[1;32m~\\PycharmProjects\\PRACTICUM\\venv\\Lib\\site-packages\\pandas\\core\\indexes\\base.py:3812\u001B[0m, in \u001B[0;36mIndex.get_loc\u001B[1;34m(self, key)\u001B[0m\n\u001B[0;32m   3807\u001B[0m     \u001B[38;5;28;01mif\u001B[39;00m \u001B[38;5;28misinstance\u001B[39m(casted_key, \u001B[38;5;28mslice\u001B[39m) \u001B[38;5;129;01mor\u001B[39;00m (\n\u001B[0;32m   3808\u001B[0m         \u001B[38;5;28misinstance\u001B[39m(casted_key, abc\u001B[38;5;241m.\u001B[39mIterable)\n\u001B[0;32m   3809\u001B[0m         \u001B[38;5;129;01mand\u001B[39;00m \u001B[38;5;28many\u001B[39m(\u001B[38;5;28misinstance\u001B[39m(x, \u001B[38;5;28mslice\u001B[39m) \u001B[38;5;28;01mfor\u001B[39;00m x \u001B[38;5;129;01min\u001B[39;00m casted_key)\n\u001B[0;32m   3810\u001B[0m     ):\n\u001B[0;32m   3811\u001B[0m         \u001B[38;5;28;01mraise\u001B[39;00m InvalidIndexError(key)\n\u001B[1;32m-> 3812\u001B[0m     \u001B[38;5;28;01mraise\u001B[39;00m \u001B[38;5;167;01mKeyError\u001B[39;00m(key) \u001B[38;5;28;01mfrom\u001B[39;00m \u001B[38;5;21;01merr\u001B[39;00m\n\u001B[0;32m   3813\u001B[0m \u001B[38;5;28;01mexcept\u001B[39;00m \u001B[38;5;167;01mTypeError\u001B[39;00m:\n\u001B[0;32m   3814\u001B[0m     \u001B[38;5;66;03m# If we have a listlike key, _check_indexing_error will raise\u001B[39;00m\n\u001B[0;32m   3815\u001B[0m     \u001B[38;5;66;03m#  InvalidIndexError. Otherwise we fall through and re-raise\u001B[39;00m\n\u001B[0;32m   3816\u001B[0m     \u001B[38;5;66;03m#  the TypeError.\u001B[39;00m\n\u001B[0;32m   3817\u001B[0m     \u001B[38;5;28mself\u001B[39m\u001B[38;5;241m.\u001B[39m_check_indexing_error(key)\n",
      "\u001B[1;31mKeyError\u001B[0m: 'def_nutri'"
     ]
    }
   ],
   "execution_count": 287
  },
  {
   "metadata": {
    "ExecuteTime": {
     "end_time": "2024-05-03T10:16:02.473966Z",
     "start_time": "2024-05-03T10:16:02.437202Z"
    }
   },
   "cell_type": "code",
   "source": [
    "nutri_AMB_PA_MECVV= (AMB_PA_MECVV['def_nutri'] == 1.0).mean() * 100\n",
    "print(f\"Percentatge de deficiències nutricionals: {nutri_AMB_PA_MECVV:.2f}%\")"
   ],
   "id": "8776557d38ef8059",
   "outputs": [
    {
     "ename": "KeyError",
     "evalue": "'def_nutri'",
     "output_type": "error",
     "traceback": [
      "\u001B[1;31m---------------------------------------------------------------------------\u001B[0m",
      "\u001B[1;31mKeyError\u001B[0m                                  Traceback (most recent call last)",
      "File \u001B[1;32m~\\PycharmProjects\\PRACTICUM\\venv\\Lib\\site-packages\\pandas\\core\\indexes\\base.py:3805\u001B[0m, in \u001B[0;36mIndex.get_loc\u001B[1;34m(self, key)\u001B[0m\n\u001B[0;32m   3804\u001B[0m \u001B[38;5;28;01mtry\u001B[39;00m:\n\u001B[1;32m-> 3805\u001B[0m     \u001B[38;5;28;01mreturn\u001B[39;00m \u001B[38;5;28;43mself\u001B[39;49m\u001B[38;5;241;43m.\u001B[39;49m\u001B[43m_engine\u001B[49m\u001B[38;5;241;43m.\u001B[39;49m\u001B[43mget_loc\u001B[49m\u001B[43m(\u001B[49m\u001B[43mcasted_key\u001B[49m\u001B[43m)\u001B[49m\n\u001B[0;32m   3806\u001B[0m \u001B[38;5;28;01mexcept\u001B[39;00m \u001B[38;5;167;01mKeyError\u001B[39;00m \u001B[38;5;28;01mas\u001B[39;00m err:\n",
      "File \u001B[1;32mindex.pyx:167\u001B[0m, in \u001B[0;36mpandas._libs.index.IndexEngine.get_loc\u001B[1;34m()\u001B[0m\n",
      "File \u001B[1;32mindex.pyx:196\u001B[0m, in \u001B[0;36mpandas._libs.index.IndexEngine.get_loc\u001B[1;34m()\u001B[0m\n",
      "File \u001B[1;32mpandas\\\\_libs\\\\hashtable_class_helper.pxi:7081\u001B[0m, in \u001B[0;36mpandas._libs.hashtable.PyObjectHashTable.get_item\u001B[1;34m()\u001B[0m\n",
      "File \u001B[1;32mpandas\\\\_libs\\\\hashtable_class_helper.pxi:7089\u001B[0m, in \u001B[0;36mpandas._libs.hashtable.PyObjectHashTable.get_item\u001B[1;34m()\u001B[0m\n",
      "\u001B[1;31mKeyError\u001B[0m: 'def_nutri'",
      "\nThe above exception was the direct cause of the following exception:\n",
      "\u001B[1;31mKeyError\u001B[0m                                  Traceback (most recent call last)",
      "Cell \u001B[1;32mIn[288], line 1\u001B[0m\n\u001B[1;32m----> 1\u001B[0m nutri_AMB_PA_MECVV\u001B[38;5;241m=\u001B[39m (\u001B[43mAMB_PA_MECVV\u001B[49m\u001B[43m[\u001B[49m\u001B[38;5;124;43m'\u001B[39;49m\u001B[38;5;124;43mdef_nutri\u001B[39;49m\u001B[38;5;124;43m'\u001B[39;49m\u001B[43m]\u001B[49m \u001B[38;5;241m==\u001B[39m \u001B[38;5;241m1.0\u001B[39m)\u001B[38;5;241m.\u001B[39mmean() \u001B[38;5;241m*\u001B[39m \u001B[38;5;241m100\u001B[39m\n\u001B[0;32m      2\u001B[0m \u001B[38;5;28mprint\u001B[39m(\u001B[38;5;124mf\u001B[39m\u001B[38;5;124m\"\u001B[39m\u001B[38;5;124mPercentatge de deficiències nutricionals: \u001B[39m\u001B[38;5;132;01m{\u001B[39;00mnutri_AMB_PA_MECVV\u001B[38;5;132;01m:\u001B[39;00m\u001B[38;5;124m.2f\u001B[39m\u001B[38;5;132;01m}\u001B[39;00m\u001B[38;5;124m%\u001B[39m\u001B[38;5;124m\"\u001B[39m)\n",
      "File \u001B[1;32m~\\PycharmProjects\\PRACTICUM\\venv\\Lib\\site-packages\\pandas\\core\\frame.py:4102\u001B[0m, in \u001B[0;36mDataFrame.__getitem__\u001B[1;34m(self, key)\u001B[0m\n\u001B[0;32m   4100\u001B[0m \u001B[38;5;28;01mif\u001B[39;00m \u001B[38;5;28mself\u001B[39m\u001B[38;5;241m.\u001B[39mcolumns\u001B[38;5;241m.\u001B[39mnlevels \u001B[38;5;241m>\u001B[39m \u001B[38;5;241m1\u001B[39m:\n\u001B[0;32m   4101\u001B[0m     \u001B[38;5;28;01mreturn\u001B[39;00m \u001B[38;5;28mself\u001B[39m\u001B[38;5;241m.\u001B[39m_getitem_multilevel(key)\n\u001B[1;32m-> 4102\u001B[0m indexer \u001B[38;5;241m=\u001B[39m \u001B[38;5;28;43mself\u001B[39;49m\u001B[38;5;241;43m.\u001B[39;49m\u001B[43mcolumns\u001B[49m\u001B[38;5;241;43m.\u001B[39;49m\u001B[43mget_loc\u001B[49m\u001B[43m(\u001B[49m\u001B[43mkey\u001B[49m\u001B[43m)\u001B[49m\n\u001B[0;32m   4103\u001B[0m \u001B[38;5;28;01mif\u001B[39;00m is_integer(indexer):\n\u001B[0;32m   4104\u001B[0m     indexer \u001B[38;5;241m=\u001B[39m [indexer]\n",
      "File \u001B[1;32m~\\PycharmProjects\\PRACTICUM\\venv\\Lib\\site-packages\\pandas\\core\\indexes\\base.py:3812\u001B[0m, in \u001B[0;36mIndex.get_loc\u001B[1;34m(self, key)\u001B[0m\n\u001B[0;32m   3807\u001B[0m     \u001B[38;5;28;01mif\u001B[39;00m \u001B[38;5;28misinstance\u001B[39m(casted_key, \u001B[38;5;28mslice\u001B[39m) \u001B[38;5;129;01mor\u001B[39;00m (\n\u001B[0;32m   3808\u001B[0m         \u001B[38;5;28misinstance\u001B[39m(casted_key, abc\u001B[38;5;241m.\u001B[39mIterable)\n\u001B[0;32m   3809\u001B[0m         \u001B[38;5;129;01mand\u001B[39;00m \u001B[38;5;28many\u001B[39m(\u001B[38;5;28misinstance\u001B[39m(x, \u001B[38;5;28mslice\u001B[39m) \u001B[38;5;28;01mfor\u001B[39;00m x \u001B[38;5;129;01min\u001B[39;00m casted_key)\n\u001B[0;32m   3810\u001B[0m     ):\n\u001B[0;32m   3811\u001B[0m         \u001B[38;5;28;01mraise\u001B[39;00m InvalidIndexError(key)\n\u001B[1;32m-> 3812\u001B[0m     \u001B[38;5;28;01mraise\u001B[39;00m \u001B[38;5;167;01mKeyError\u001B[39;00m(key) \u001B[38;5;28;01mfrom\u001B[39;00m \u001B[38;5;21;01merr\u001B[39;00m\n\u001B[0;32m   3813\u001B[0m \u001B[38;5;28;01mexcept\u001B[39;00m \u001B[38;5;167;01mTypeError\u001B[39;00m:\n\u001B[0;32m   3814\u001B[0m     \u001B[38;5;66;03m# If we have a listlike key, _check_indexing_error will raise\u001B[39;00m\n\u001B[0;32m   3815\u001B[0m     \u001B[38;5;66;03m#  InvalidIndexError. Otherwise we fall through and re-raise\u001B[39;00m\n\u001B[0;32m   3816\u001B[0m     \u001B[38;5;66;03m#  the TypeError.\u001B[39;00m\n\u001B[0;32m   3817\u001B[0m     \u001B[38;5;28mself\u001B[39m\u001B[38;5;241m.\u001B[39m_check_indexing_error(key)\n",
      "\u001B[1;31mKeyError\u001B[0m: 'def_nutri'"
     ]
    }
   ],
   "execution_count": 288
  },
  {
   "metadata": {
    "ExecuteTime": {
     "end_time": "2024-05-03T10:16:02.715296Z",
     "start_time": "2024-05-03T10:16:02.675959Z"
    }
   },
   "cell_type": "code",
   "source": [
    "nutri_SENSE_PA= (SENSE_PA['def_nutri'] == 1.0).mean() * 100\n",
    "print(f\"Percentatge de deficiències nutricionals: {nutri_SENSE_PA:.2f}%\")"
   ],
   "id": "958e8bc2ca4584c3",
   "outputs": [
    {
     "ename": "KeyError",
     "evalue": "'def_nutri'",
     "output_type": "error",
     "traceback": [
      "\u001B[1;31m---------------------------------------------------------------------------\u001B[0m",
      "\u001B[1;31mKeyError\u001B[0m                                  Traceback (most recent call last)",
      "File \u001B[1;32m~\\PycharmProjects\\PRACTICUM\\venv\\Lib\\site-packages\\pandas\\core\\indexes\\base.py:3805\u001B[0m, in \u001B[0;36mIndex.get_loc\u001B[1;34m(self, key)\u001B[0m\n\u001B[0;32m   3804\u001B[0m \u001B[38;5;28;01mtry\u001B[39;00m:\n\u001B[1;32m-> 3805\u001B[0m     \u001B[38;5;28;01mreturn\u001B[39;00m \u001B[38;5;28;43mself\u001B[39;49m\u001B[38;5;241;43m.\u001B[39;49m\u001B[43m_engine\u001B[49m\u001B[38;5;241;43m.\u001B[39;49m\u001B[43mget_loc\u001B[49m\u001B[43m(\u001B[49m\u001B[43mcasted_key\u001B[49m\u001B[43m)\u001B[49m\n\u001B[0;32m   3806\u001B[0m \u001B[38;5;28;01mexcept\u001B[39;00m \u001B[38;5;167;01mKeyError\u001B[39;00m \u001B[38;5;28;01mas\u001B[39;00m err:\n",
      "File \u001B[1;32mindex.pyx:167\u001B[0m, in \u001B[0;36mpandas._libs.index.IndexEngine.get_loc\u001B[1;34m()\u001B[0m\n",
      "File \u001B[1;32mindex.pyx:196\u001B[0m, in \u001B[0;36mpandas._libs.index.IndexEngine.get_loc\u001B[1;34m()\u001B[0m\n",
      "File \u001B[1;32mpandas\\\\_libs\\\\hashtable_class_helper.pxi:7081\u001B[0m, in \u001B[0;36mpandas._libs.hashtable.PyObjectHashTable.get_item\u001B[1;34m()\u001B[0m\n",
      "File \u001B[1;32mpandas\\\\_libs\\\\hashtable_class_helper.pxi:7089\u001B[0m, in \u001B[0;36mpandas._libs.hashtable.PyObjectHashTable.get_item\u001B[1;34m()\u001B[0m\n",
      "\u001B[1;31mKeyError\u001B[0m: 'def_nutri'",
      "\nThe above exception was the direct cause of the following exception:\n",
      "\u001B[1;31mKeyError\u001B[0m                                  Traceback (most recent call last)",
      "Cell \u001B[1;32mIn[289], line 1\u001B[0m\n\u001B[1;32m----> 1\u001B[0m nutri_SENSE_PA\u001B[38;5;241m=\u001B[39m (\u001B[43mSENSE_PA\u001B[49m\u001B[43m[\u001B[49m\u001B[38;5;124;43m'\u001B[39;49m\u001B[38;5;124;43mdef_nutri\u001B[39;49m\u001B[38;5;124;43m'\u001B[39;49m\u001B[43m]\u001B[49m \u001B[38;5;241m==\u001B[39m \u001B[38;5;241m1.0\u001B[39m)\u001B[38;5;241m.\u001B[39mmean() \u001B[38;5;241m*\u001B[39m \u001B[38;5;241m100\u001B[39m\n\u001B[0;32m      2\u001B[0m \u001B[38;5;28mprint\u001B[39m(\u001B[38;5;124mf\u001B[39m\u001B[38;5;124m\"\u001B[39m\u001B[38;5;124mPercentatge de deficiències nutricionals: \u001B[39m\u001B[38;5;132;01m{\u001B[39;00mnutri_SENSE_PA\u001B[38;5;132;01m:\u001B[39;00m\u001B[38;5;124m.2f\u001B[39m\u001B[38;5;132;01m}\u001B[39;00m\u001B[38;5;124m%\u001B[39m\u001B[38;5;124m\"\u001B[39m)\n",
      "File \u001B[1;32m~\\PycharmProjects\\PRACTICUM\\venv\\Lib\\site-packages\\pandas\\core\\frame.py:4102\u001B[0m, in \u001B[0;36mDataFrame.__getitem__\u001B[1;34m(self, key)\u001B[0m\n\u001B[0;32m   4100\u001B[0m \u001B[38;5;28;01mif\u001B[39;00m \u001B[38;5;28mself\u001B[39m\u001B[38;5;241m.\u001B[39mcolumns\u001B[38;5;241m.\u001B[39mnlevels \u001B[38;5;241m>\u001B[39m \u001B[38;5;241m1\u001B[39m:\n\u001B[0;32m   4101\u001B[0m     \u001B[38;5;28;01mreturn\u001B[39;00m \u001B[38;5;28mself\u001B[39m\u001B[38;5;241m.\u001B[39m_getitem_multilevel(key)\n\u001B[1;32m-> 4102\u001B[0m indexer \u001B[38;5;241m=\u001B[39m \u001B[38;5;28;43mself\u001B[39;49m\u001B[38;5;241;43m.\u001B[39;49m\u001B[43mcolumns\u001B[49m\u001B[38;5;241;43m.\u001B[39;49m\u001B[43mget_loc\u001B[49m\u001B[43m(\u001B[49m\u001B[43mkey\u001B[49m\u001B[43m)\u001B[49m\n\u001B[0;32m   4103\u001B[0m \u001B[38;5;28;01mif\u001B[39;00m is_integer(indexer):\n\u001B[0;32m   4104\u001B[0m     indexer \u001B[38;5;241m=\u001B[39m [indexer]\n",
      "File \u001B[1;32m~\\PycharmProjects\\PRACTICUM\\venv\\Lib\\site-packages\\pandas\\core\\indexes\\base.py:3812\u001B[0m, in \u001B[0;36mIndex.get_loc\u001B[1;34m(self, key)\u001B[0m\n\u001B[0;32m   3807\u001B[0m     \u001B[38;5;28;01mif\u001B[39;00m \u001B[38;5;28misinstance\u001B[39m(casted_key, \u001B[38;5;28mslice\u001B[39m) \u001B[38;5;129;01mor\u001B[39;00m (\n\u001B[0;32m   3808\u001B[0m         \u001B[38;5;28misinstance\u001B[39m(casted_key, abc\u001B[38;5;241m.\u001B[39mIterable)\n\u001B[0;32m   3809\u001B[0m         \u001B[38;5;129;01mand\u001B[39;00m \u001B[38;5;28many\u001B[39m(\u001B[38;5;28misinstance\u001B[39m(x, \u001B[38;5;28mslice\u001B[39m) \u001B[38;5;28;01mfor\u001B[39;00m x \u001B[38;5;129;01min\u001B[39;00m casted_key)\n\u001B[0;32m   3810\u001B[0m     ):\n\u001B[0;32m   3811\u001B[0m         \u001B[38;5;28;01mraise\u001B[39;00m InvalidIndexError(key)\n\u001B[1;32m-> 3812\u001B[0m     \u001B[38;5;28;01mraise\u001B[39;00m \u001B[38;5;167;01mKeyError\u001B[39;00m(key) \u001B[38;5;28;01mfrom\u001B[39;00m \u001B[38;5;21;01merr\u001B[39;00m\n\u001B[0;32m   3813\u001B[0m \u001B[38;5;28;01mexcept\u001B[39;00m \u001B[38;5;167;01mTypeError\u001B[39;00m:\n\u001B[0;32m   3814\u001B[0m     \u001B[38;5;66;03m# If we have a listlike key, _check_indexing_error will raise\u001B[39;00m\n\u001B[0;32m   3815\u001B[0m     \u001B[38;5;66;03m#  InvalidIndexError. Otherwise we fall through and re-raise\u001B[39;00m\n\u001B[0;32m   3816\u001B[0m     \u001B[38;5;66;03m#  the TypeError.\u001B[39;00m\n\u001B[0;32m   3817\u001B[0m     \u001B[38;5;28mself\u001B[39m\u001B[38;5;241m.\u001B[39m_check_indexing_error(key)\n",
      "\u001B[1;31mKeyError\u001B[0m: 'def_nutri'"
     ]
    }
   ],
   "execution_count": 289
  },
  {
   "metadata": {},
   "cell_type": "markdown",
   "source": [
    "#### Pvalor"
   ],
   "id": "d4bc9fe19efb8762"
  },
  {
   "metadata": {},
   "cell_type": "markdown",
   "source": [
    "##### Normalitat"
   ],
   "id": "5316510b823b671e"
  },
  {
   "metadata": {
    "ExecuteTime": {
     "end_time": "2024-05-03T10:16:03.080271Z",
     "start_time": "2024-05-03T10:16:03.040372Z"
    }
   },
   "cell_type": "code",
   "source": [
    "stat, p_value = shapiro(AMB_PA['def_nutri'])\n",
    "print(f\"Estadístic W = {stat:.4f}\")\n",
    "print(f\"Valor p = {p_value:.4f}\")\n",
    "\n",
    "alpha = 0.05\n",
    "if p_value < alpha:\n",
    "    print(\"El nombre de files no segueix una distribució normal\")\n",
    "else:\n",
    "    print(\"El nombre de files segueix una distribució normal\")"
   ],
   "id": "e85abc69d2b521d3",
   "outputs": [
    {
     "ename": "KeyError",
     "evalue": "'def_nutri'",
     "output_type": "error",
     "traceback": [
      "\u001B[1;31m---------------------------------------------------------------------------\u001B[0m",
      "\u001B[1;31mKeyError\u001B[0m                                  Traceback (most recent call last)",
      "File \u001B[1;32m~\\PycharmProjects\\PRACTICUM\\venv\\Lib\\site-packages\\pandas\\core\\indexes\\base.py:3805\u001B[0m, in \u001B[0;36mIndex.get_loc\u001B[1;34m(self, key)\u001B[0m\n\u001B[0;32m   3804\u001B[0m \u001B[38;5;28;01mtry\u001B[39;00m:\n\u001B[1;32m-> 3805\u001B[0m     \u001B[38;5;28;01mreturn\u001B[39;00m \u001B[38;5;28;43mself\u001B[39;49m\u001B[38;5;241;43m.\u001B[39;49m\u001B[43m_engine\u001B[49m\u001B[38;5;241;43m.\u001B[39;49m\u001B[43mget_loc\u001B[49m\u001B[43m(\u001B[49m\u001B[43mcasted_key\u001B[49m\u001B[43m)\u001B[49m\n\u001B[0;32m   3806\u001B[0m \u001B[38;5;28;01mexcept\u001B[39;00m \u001B[38;5;167;01mKeyError\u001B[39;00m \u001B[38;5;28;01mas\u001B[39;00m err:\n",
      "File \u001B[1;32mindex.pyx:167\u001B[0m, in \u001B[0;36mpandas._libs.index.IndexEngine.get_loc\u001B[1;34m()\u001B[0m\n",
      "File \u001B[1;32mindex.pyx:196\u001B[0m, in \u001B[0;36mpandas._libs.index.IndexEngine.get_loc\u001B[1;34m()\u001B[0m\n",
      "File \u001B[1;32mpandas\\\\_libs\\\\hashtable_class_helper.pxi:7081\u001B[0m, in \u001B[0;36mpandas._libs.hashtable.PyObjectHashTable.get_item\u001B[1;34m()\u001B[0m\n",
      "File \u001B[1;32mpandas\\\\_libs\\\\hashtable_class_helper.pxi:7089\u001B[0m, in \u001B[0;36mpandas._libs.hashtable.PyObjectHashTable.get_item\u001B[1;34m()\u001B[0m\n",
      "\u001B[1;31mKeyError\u001B[0m: 'def_nutri'",
      "\nThe above exception was the direct cause of the following exception:\n",
      "\u001B[1;31mKeyError\u001B[0m                                  Traceback (most recent call last)",
      "Cell \u001B[1;32mIn[290], line 1\u001B[0m\n\u001B[1;32m----> 1\u001B[0m stat, p_value \u001B[38;5;241m=\u001B[39m shapiro(\u001B[43mAMB_PA\u001B[49m\u001B[43m[\u001B[49m\u001B[38;5;124;43m'\u001B[39;49m\u001B[38;5;124;43mdef_nutri\u001B[39;49m\u001B[38;5;124;43m'\u001B[39;49m\u001B[43m]\u001B[49m)\n\u001B[0;32m      2\u001B[0m \u001B[38;5;28mprint\u001B[39m(\u001B[38;5;124mf\u001B[39m\u001B[38;5;124m\"\u001B[39m\u001B[38;5;124mEstadístic W = \u001B[39m\u001B[38;5;132;01m{\u001B[39;00mstat\u001B[38;5;132;01m:\u001B[39;00m\u001B[38;5;124m.4f\u001B[39m\u001B[38;5;132;01m}\u001B[39;00m\u001B[38;5;124m\"\u001B[39m)\n\u001B[0;32m      3\u001B[0m \u001B[38;5;28mprint\u001B[39m(\u001B[38;5;124mf\u001B[39m\u001B[38;5;124m\"\u001B[39m\u001B[38;5;124mValor p = \u001B[39m\u001B[38;5;132;01m{\u001B[39;00mp_value\u001B[38;5;132;01m:\u001B[39;00m\u001B[38;5;124m.4f\u001B[39m\u001B[38;5;132;01m}\u001B[39;00m\u001B[38;5;124m\"\u001B[39m)\n",
      "File \u001B[1;32m~\\PycharmProjects\\PRACTICUM\\venv\\Lib\\site-packages\\pandas\\core\\frame.py:4102\u001B[0m, in \u001B[0;36mDataFrame.__getitem__\u001B[1;34m(self, key)\u001B[0m\n\u001B[0;32m   4100\u001B[0m \u001B[38;5;28;01mif\u001B[39;00m \u001B[38;5;28mself\u001B[39m\u001B[38;5;241m.\u001B[39mcolumns\u001B[38;5;241m.\u001B[39mnlevels \u001B[38;5;241m>\u001B[39m \u001B[38;5;241m1\u001B[39m:\n\u001B[0;32m   4101\u001B[0m     \u001B[38;5;28;01mreturn\u001B[39;00m \u001B[38;5;28mself\u001B[39m\u001B[38;5;241m.\u001B[39m_getitem_multilevel(key)\n\u001B[1;32m-> 4102\u001B[0m indexer \u001B[38;5;241m=\u001B[39m \u001B[38;5;28;43mself\u001B[39;49m\u001B[38;5;241;43m.\u001B[39;49m\u001B[43mcolumns\u001B[49m\u001B[38;5;241;43m.\u001B[39;49m\u001B[43mget_loc\u001B[49m\u001B[43m(\u001B[49m\u001B[43mkey\u001B[49m\u001B[43m)\u001B[49m\n\u001B[0;32m   4103\u001B[0m \u001B[38;5;28;01mif\u001B[39;00m is_integer(indexer):\n\u001B[0;32m   4104\u001B[0m     indexer \u001B[38;5;241m=\u001B[39m [indexer]\n",
      "File \u001B[1;32m~\\PycharmProjects\\PRACTICUM\\venv\\Lib\\site-packages\\pandas\\core\\indexes\\base.py:3812\u001B[0m, in \u001B[0;36mIndex.get_loc\u001B[1;34m(self, key)\u001B[0m\n\u001B[0;32m   3807\u001B[0m     \u001B[38;5;28;01mif\u001B[39;00m \u001B[38;5;28misinstance\u001B[39m(casted_key, \u001B[38;5;28mslice\u001B[39m) \u001B[38;5;129;01mor\u001B[39;00m (\n\u001B[0;32m   3808\u001B[0m         \u001B[38;5;28misinstance\u001B[39m(casted_key, abc\u001B[38;5;241m.\u001B[39mIterable)\n\u001B[0;32m   3809\u001B[0m         \u001B[38;5;129;01mand\u001B[39;00m \u001B[38;5;28many\u001B[39m(\u001B[38;5;28misinstance\u001B[39m(x, \u001B[38;5;28mslice\u001B[39m) \u001B[38;5;28;01mfor\u001B[39;00m x \u001B[38;5;129;01min\u001B[39;00m casted_key)\n\u001B[0;32m   3810\u001B[0m     ):\n\u001B[0;32m   3811\u001B[0m         \u001B[38;5;28;01mraise\u001B[39;00m InvalidIndexError(key)\n\u001B[1;32m-> 3812\u001B[0m     \u001B[38;5;28;01mraise\u001B[39;00m \u001B[38;5;167;01mKeyError\u001B[39;00m(key) \u001B[38;5;28;01mfrom\u001B[39;00m \u001B[38;5;21;01merr\u001B[39;00m\n\u001B[0;32m   3813\u001B[0m \u001B[38;5;28;01mexcept\u001B[39;00m \u001B[38;5;167;01mTypeError\u001B[39;00m:\n\u001B[0;32m   3814\u001B[0m     \u001B[38;5;66;03m# If we have a listlike key, _check_indexing_error will raise\u001B[39;00m\n\u001B[0;32m   3815\u001B[0m     \u001B[38;5;66;03m#  InvalidIndexError. Otherwise we fall through and re-raise\u001B[39;00m\n\u001B[0;32m   3816\u001B[0m     \u001B[38;5;66;03m#  the TypeError.\u001B[39;00m\n\u001B[0;32m   3817\u001B[0m     \u001B[38;5;28mself\u001B[39m\u001B[38;5;241m.\u001B[39m_check_indexing_error(key)\n",
      "\u001B[1;31mKeyError\u001B[0m: 'def_nutri'"
     ]
    }
   ],
   "execution_count": 290
  },
  {
   "metadata": {
    "ExecuteTime": {
     "end_time": "2024-05-03T10:16:03.376209Z",
     "start_time": "2024-05-03T10:16:03.338331Z"
    }
   },
   "cell_type": "code",
   "source": [
    "stat, p_value = shapiro(AMB_PA_MECVV['def_nutri'])\n",
    "print(f\"Estadístic W = {stat:.4f}\")\n",
    "print(f\"Valor p = {p_value:.4f}\")\n",
    "\n",
    "alpha = 0.05\n",
    "if p_value < alpha:\n",
    "    print(\"El nombre de files no segueix una distribució normal\")\n",
    "else:\n",
    "    print(\"El nombre de files segueix una distribució normal\")"
   ],
   "id": "7658b9e5f57529c8",
   "outputs": [
    {
     "ename": "KeyError",
     "evalue": "'def_nutri'",
     "output_type": "error",
     "traceback": [
      "\u001B[1;31m---------------------------------------------------------------------------\u001B[0m",
      "\u001B[1;31mKeyError\u001B[0m                                  Traceback (most recent call last)",
      "File \u001B[1;32m~\\PycharmProjects\\PRACTICUM\\venv\\Lib\\site-packages\\pandas\\core\\indexes\\base.py:3805\u001B[0m, in \u001B[0;36mIndex.get_loc\u001B[1;34m(self, key)\u001B[0m\n\u001B[0;32m   3804\u001B[0m \u001B[38;5;28;01mtry\u001B[39;00m:\n\u001B[1;32m-> 3805\u001B[0m     \u001B[38;5;28;01mreturn\u001B[39;00m \u001B[38;5;28;43mself\u001B[39;49m\u001B[38;5;241;43m.\u001B[39;49m\u001B[43m_engine\u001B[49m\u001B[38;5;241;43m.\u001B[39;49m\u001B[43mget_loc\u001B[49m\u001B[43m(\u001B[49m\u001B[43mcasted_key\u001B[49m\u001B[43m)\u001B[49m\n\u001B[0;32m   3806\u001B[0m \u001B[38;5;28;01mexcept\u001B[39;00m \u001B[38;5;167;01mKeyError\u001B[39;00m \u001B[38;5;28;01mas\u001B[39;00m err:\n",
      "File \u001B[1;32mindex.pyx:167\u001B[0m, in \u001B[0;36mpandas._libs.index.IndexEngine.get_loc\u001B[1;34m()\u001B[0m\n",
      "File \u001B[1;32mindex.pyx:196\u001B[0m, in \u001B[0;36mpandas._libs.index.IndexEngine.get_loc\u001B[1;34m()\u001B[0m\n",
      "File \u001B[1;32mpandas\\\\_libs\\\\hashtable_class_helper.pxi:7081\u001B[0m, in \u001B[0;36mpandas._libs.hashtable.PyObjectHashTable.get_item\u001B[1;34m()\u001B[0m\n",
      "File \u001B[1;32mpandas\\\\_libs\\\\hashtable_class_helper.pxi:7089\u001B[0m, in \u001B[0;36mpandas._libs.hashtable.PyObjectHashTable.get_item\u001B[1;34m()\u001B[0m\n",
      "\u001B[1;31mKeyError\u001B[0m: 'def_nutri'",
      "\nThe above exception was the direct cause of the following exception:\n",
      "\u001B[1;31mKeyError\u001B[0m                                  Traceback (most recent call last)",
      "Cell \u001B[1;32mIn[291], line 1\u001B[0m\n\u001B[1;32m----> 1\u001B[0m stat, p_value \u001B[38;5;241m=\u001B[39m shapiro(\u001B[43mAMB_PA_MECVV\u001B[49m\u001B[43m[\u001B[49m\u001B[38;5;124;43m'\u001B[39;49m\u001B[38;5;124;43mdef_nutri\u001B[39;49m\u001B[38;5;124;43m'\u001B[39;49m\u001B[43m]\u001B[49m)\n\u001B[0;32m      2\u001B[0m \u001B[38;5;28mprint\u001B[39m(\u001B[38;5;124mf\u001B[39m\u001B[38;5;124m\"\u001B[39m\u001B[38;5;124mEstadístic W = \u001B[39m\u001B[38;5;132;01m{\u001B[39;00mstat\u001B[38;5;132;01m:\u001B[39;00m\u001B[38;5;124m.4f\u001B[39m\u001B[38;5;132;01m}\u001B[39;00m\u001B[38;5;124m\"\u001B[39m)\n\u001B[0;32m      3\u001B[0m \u001B[38;5;28mprint\u001B[39m(\u001B[38;5;124mf\u001B[39m\u001B[38;5;124m\"\u001B[39m\u001B[38;5;124mValor p = \u001B[39m\u001B[38;5;132;01m{\u001B[39;00mp_value\u001B[38;5;132;01m:\u001B[39;00m\u001B[38;5;124m.4f\u001B[39m\u001B[38;5;132;01m}\u001B[39;00m\u001B[38;5;124m\"\u001B[39m)\n",
      "File \u001B[1;32m~\\PycharmProjects\\PRACTICUM\\venv\\Lib\\site-packages\\pandas\\core\\frame.py:4102\u001B[0m, in \u001B[0;36mDataFrame.__getitem__\u001B[1;34m(self, key)\u001B[0m\n\u001B[0;32m   4100\u001B[0m \u001B[38;5;28;01mif\u001B[39;00m \u001B[38;5;28mself\u001B[39m\u001B[38;5;241m.\u001B[39mcolumns\u001B[38;5;241m.\u001B[39mnlevels \u001B[38;5;241m>\u001B[39m \u001B[38;5;241m1\u001B[39m:\n\u001B[0;32m   4101\u001B[0m     \u001B[38;5;28;01mreturn\u001B[39;00m \u001B[38;5;28mself\u001B[39m\u001B[38;5;241m.\u001B[39m_getitem_multilevel(key)\n\u001B[1;32m-> 4102\u001B[0m indexer \u001B[38;5;241m=\u001B[39m \u001B[38;5;28;43mself\u001B[39;49m\u001B[38;5;241;43m.\u001B[39;49m\u001B[43mcolumns\u001B[49m\u001B[38;5;241;43m.\u001B[39;49m\u001B[43mget_loc\u001B[49m\u001B[43m(\u001B[49m\u001B[43mkey\u001B[49m\u001B[43m)\u001B[49m\n\u001B[0;32m   4103\u001B[0m \u001B[38;5;28;01mif\u001B[39;00m is_integer(indexer):\n\u001B[0;32m   4104\u001B[0m     indexer \u001B[38;5;241m=\u001B[39m [indexer]\n",
      "File \u001B[1;32m~\\PycharmProjects\\PRACTICUM\\venv\\Lib\\site-packages\\pandas\\core\\indexes\\base.py:3812\u001B[0m, in \u001B[0;36mIndex.get_loc\u001B[1;34m(self, key)\u001B[0m\n\u001B[0;32m   3807\u001B[0m     \u001B[38;5;28;01mif\u001B[39;00m \u001B[38;5;28misinstance\u001B[39m(casted_key, \u001B[38;5;28mslice\u001B[39m) \u001B[38;5;129;01mor\u001B[39;00m (\n\u001B[0;32m   3808\u001B[0m         \u001B[38;5;28misinstance\u001B[39m(casted_key, abc\u001B[38;5;241m.\u001B[39mIterable)\n\u001B[0;32m   3809\u001B[0m         \u001B[38;5;129;01mand\u001B[39;00m \u001B[38;5;28many\u001B[39m(\u001B[38;5;28misinstance\u001B[39m(x, \u001B[38;5;28mslice\u001B[39m) \u001B[38;5;28;01mfor\u001B[39;00m x \u001B[38;5;129;01min\u001B[39;00m casted_key)\n\u001B[0;32m   3810\u001B[0m     ):\n\u001B[0;32m   3811\u001B[0m         \u001B[38;5;28;01mraise\u001B[39;00m InvalidIndexError(key)\n\u001B[1;32m-> 3812\u001B[0m     \u001B[38;5;28;01mraise\u001B[39;00m \u001B[38;5;167;01mKeyError\u001B[39;00m(key) \u001B[38;5;28;01mfrom\u001B[39;00m \u001B[38;5;21;01merr\u001B[39;00m\n\u001B[0;32m   3813\u001B[0m \u001B[38;5;28;01mexcept\u001B[39;00m \u001B[38;5;167;01mTypeError\u001B[39;00m:\n\u001B[0;32m   3814\u001B[0m     \u001B[38;5;66;03m# If we have a listlike key, _check_indexing_error will raise\u001B[39;00m\n\u001B[0;32m   3815\u001B[0m     \u001B[38;5;66;03m#  InvalidIndexError. Otherwise we fall through and re-raise\u001B[39;00m\n\u001B[0;32m   3816\u001B[0m     \u001B[38;5;66;03m#  the TypeError.\u001B[39;00m\n\u001B[0;32m   3817\u001B[0m     \u001B[38;5;28mself\u001B[39m\u001B[38;5;241m.\u001B[39m_check_indexing_error(key)\n",
      "\u001B[1;31mKeyError\u001B[0m: 'def_nutri'"
     ]
    }
   ],
   "execution_count": 291
  },
  {
   "metadata": {
    "ExecuteTime": {
     "end_time": "2024-05-03T10:16:03.641491Z",
     "start_time": "2024-05-03T10:16:03.603824Z"
    }
   },
   "cell_type": "code",
   "source": [
    "stat, p_value = shapiro(SENSE_PA['def_nutri'])\n",
    "print(f\"Estadístic W = {stat:.4f}\")\n",
    "print(f\"Valor p = {p_value:.4f}\")\n",
    "\n",
    "alpha = 0.05\n",
    "if p_value < alpha:\n",
    "    print(\"El nombre de files no segueix una distribució normal\")\n",
    "else:\n",
    "    print(\"El nombre de files segueix una distribució normal\")"
   ],
   "id": "822af3a96650acac",
   "outputs": [
    {
     "ename": "KeyError",
     "evalue": "'def_nutri'",
     "output_type": "error",
     "traceback": [
      "\u001B[1;31m---------------------------------------------------------------------------\u001B[0m",
      "\u001B[1;31mKeyError\u001B[0m                                  Traceback (most recent call last)",
      "File \u001B[1;32m~\\PycharmProjects\\PRACTICUM\\venv\\Lib\\site-packages\\pandas\\core\\indexes\\base.py:3805\u001B[0m, in \u001B[0;36mIndex.get_loc\u001B[1;34m(self, key)\u001B[0m\n\u001B[0;32m   3804\u001B[0m \u001B[38;5;28;01mtry\u001B[39;00m:\n\u001B[1;32m-> 3805\u001B[0m     \u001B[38;5;28;01mreturn\u001B[39;00m \u001B[38;5;28;43mself\u001B[39;49m\u001B[38;5;241;43m.\u001B[39;49m\u001B[43m_engine\u001B[49m\u001B[38;5;241;43m.\u001B[39;49m\u001B[43mget_loc\u001B[49m\u001B[43m(\u001B[49m\u001B[43mcasted_key\u001B[49m\u001B[43m)\u001B[49m\n\u001B[0;32m   3806\u001B[0m \u001B[38;5;28;01mexcept\u001B[39;00m \u001B[38;5;167;01mKeyError\u001B[39;00m \u001B[38;5;28;01mas\u001B[39;00m err:\n",
      "File \u001B[1;32mindex.pyx:167\u001B[0m, in \u001B[0;36mpandas._libs.index.IndexEngine.get_loc\u001B[1;34m()\u001B[0m\n",
      "File \u001B[1;32mindex.pyx:196\u001B[0m, in \u001B[0;36mpandas._libs.index.IndexEngine.get_loc\u001B[1;34m()\u001B[0m\n",
      "File \u001B[1;32mpandas\\\\_libs\\\\hashtable_class_helper.pxi:7081\u001B[0m, in \u001B[0;36mpandas._libs.hashtable.PyObjectHashTable.get_item\u001B[1;34m()\u001B[0m\n",
      "File \u001B[1;32mpandas\\\\_libs\\\\hashtable_class_helper.pxi:7089\u001B[0m, in \u001B[0;36mpandas._libs.hashtable.PyObjectHashTable.get_item\u001B[1;34m()\u001B[0m\n",
      "\u001B[1;31mKeyError\u001B[0m: 'def_nutri'",
      "\nThe above exception was the direct cause of the following exception:\n",
      "\u001B[1;31mKeyError\u001B[0m                                  Traceback (most recent call last)",
      "Cell \u001B[1;32mIn[292], line 1\u001B[0m\n\u001B[1;32m----> 1\u001B[0m stat, p_value \u001B[38;5;241m=\u001B[39m shapiro(\u001B[43mSENSE_PA\u001B[49m\u001B[43m[\u001B[49m\u001B[38;5;124;43m'\u001B[39;49m\u001B[38;5;124;43mdef_nutri\u001B[39;49m\u001B[38;5;124;43m'\u001B[39;49m\u001B[43m]\u001B[49m)\n\u001B[0;32m      2\u001B[0m \u001B[38;5;28mprint\u001B[39m(\u001B[38;5;124mf\u001B[39m\u001B[38;5;124m\"\u001B[39m\u001B[38;5;124mEstadístic W = \u001B[39m\u001B[38;5;132;01m{\u001B[39;00mstat\u001B[38;5;132;01m:\u001B[39;00m\u001B[38;5;124m.4f\u001B[39m\u001B[38;5;132;01m}\u001B[39;00m\u001B[38;5;124m\"\u001B[39m)\n\u001B[0;32m      3\u001B[0m \u001B[38;5;28mprint\u001B[39m(\u001B[38;5;124mf\u001B[39m\u001B[38;5;124m\"\u001B[39m\u001B[38;5;124mValor p = \u001B[39m\u001B[38;5;132;01m{\u001B[39;00mp_value\u001B[38;5;132;01m:\u001B[39;00m\u001B[38;5;124m.4f\u001B[39m\u001B[38;5;132;01m}\u001B[39;00m\u001B[38;5;124m\"\u001B[39m)\n",
      "File \u001B[1;32m~\\PycharmProjects\\PRACTICUM\\venv\\Lib\\site-packages\\pandas\\core\\frame.py:4102\u001B[0m, in \u001B[0;36mDataFrame.__getitem__\u001B[1;34m(self, key)\u001B[0m\n\u001B[0;32m   4100\u001B[0m \u001B[38;5;28;01mif\u001B[39;00m \u001B[38;5;28mself\u001B[39m\u001B[38;5;241m.\u001B[39mcolumns\u001B[38;5;241m.\u001B[39mnlevels \u001B[38;5;241m>\u001B[39m \u001B[38;5;241m1\u001B[39m:\n\u001B[0;32m   4101\u001B[0m     \u001B[38;5;28;01mreturn\u001B[39;00m \u001B[38;5;28mself\u001B[39m\u001B[38;5;241m.\u001B[39m_getitem_multilevel(key)\n\u001B[1;32m-> 4102\u001B[0m indexer \u001B[38;5;241m=\u001B[39m \u001B[38;5;28;43mself\u001B[39;49m\u001B[38;5;241;43m.\u001B[39;49m\u001B[43mcolumns\u001B[49m\u001B[38;5;241;43m.\u001B[39;49m\u001B[43mget_loc\u001B[49m\u001B[43m(\u001B[49m\u001B[43mkey\u001B[49m\u001B[43m)\u001B[49m\n\u001B[0;32m   4103\u001B[0m \u001B[38;5;28;01mif\u001B[39;00m is_integer(indexer):\n\u001B[0;32m   4104\u001B[0m     indexer \u001B[38;5;241m=\u001B[39m [indexer]\n",
      "File \u001B[1;32m~\\PycharmProjects\\PRACTICUM\\venv\\Lib\\site-packages\\pandas\\core\\indexes\\base.py:3812\u001B[0m, in \u001B[0;36mIndex.get_loc\u001B[1;34m(self, key)\u001B[0m\n\u001B[0;32m   3807\u001B[0m     \u001B[38;5;28;01mif\u001B[39;00m \u001B[38;5;28misinstance\u001B[39m(casted_key, \u001B[38;5;28mslice\u001B[39m) \u001B[38;5;129;01mor\u001B[39;00m (\n\u001B[0;32m   3808\u001B[0m         \u001B[38;5;28misinstance\u001B[39m(casted_key, abc\u001B[38;5;241m.\u001B[39mIterable)\n\u001B[0;32m   3809\u001B[0m         \u001B[38;5;129;01mand\u001B[39;00m \u001B[38;5;28many\u001B[39m(\u001B[38;5;28misinstance\u001B[39m(x, \u001B[38;5;28mslice\u001B[39m) \u001B[38;5;28;01mfor\u001B[39;00m x \u001B[38;5;129;01min\u001B[39;00m casted_key)\n\u001B[0;32m   3810\u001B[0m     ):\n\u001B[0;32m   3811\u001B[0m         \u001B[38;5;28;01mraise\u001B[39;00m InvalidIndexError(key)\n\u001B[1;32m-> 3812\u001B[0m     \u001B[38;5;28;01mraise\u001B[39;00m \u001B[38;5;167;01mKeyError\u001B[39;00m(key) \u001B[38;5;28;01mfrom\u001B[39;00m \u001B[38;5;21;01merr\u001B[39;00m\n\u001B[0;32m   3813\u001B[0m \u001B[38;5;28;01mexcept\u001B[39;00m \u001B[38;5;167;01mTypeError\u001B[39;00m:\n\u001B[0;32m   3814\u001B[0m     \u001B[38;5;66;03m# If we have a listlike key, _check_indexing_error will raise\u001B[39;00m\n\u001B[0;32m   3815\u001B[0m     \u001B[38;5;66;03m#  InvalidIndexError. Otherwise we fall through and re-raise\u001B[39;00m\n\u001B[0;32m   3816\u001B[0m     \u001B[38;5;66;03m#  the TypeError.\u001B[39;00m\n\u001B[0;32m   3817\u001B[0m     \u001B[38;5;28mself\u001B[39m\u001B[38;5;241m.\u001B[39m_check_indexing_error(key)\n",
      "\u001B[1;31mKeyError\u001B[0m: 'def_nutri'"
     ]
    }
   ],
   "execution_count": 292
  },
  {
   "metadata": {
    "ExecuteTime": {
     "end_time": "2024-05-03T10:16:03.989208Z",
     "start_time": "2024-05-03T10:16:03.950567Z"
    }
   },
   "cell_type": "code",
   "source": [
    "stat, p_value_12 = ttest_ind(AMB_PA['def_nutri'], AMB_PA_MECVV['def_nutri'], equal_var=False)\n",
    "print(\"P-valor entre AMB_PA i AMB_PA_MECVV\", p_value_12)"
   ],
   "id": "d518ed3fde934b64",
   "outputs": [
    {
     "ename": "KeyError",
     "evalue": "'def_nutri'",
     "output_type": "error",
     "traceback": [
      "\u001B[1;31m---------------------------------------------------------------------------\u001B[0m",
      "\u001B[1;31mKeyError\u001B[0m                                  Traceback (most recent call last)",
      "File \u001B[1;32m~\\PycharmProjects\\PRACTICUM\\venv\\Lib\\site-packages\\pandas\\core\\indexes\\base.py:3805\u001B[0m, in \u001B[0;36mIndex.get_loc\u001B[1;34m(self, key)\u001B[0m\n\u001B[0;32m   3804\u001B[0m \u001B[38;5;28;01mtry\u001B[39;00m:\n\u001B[1;32m-> 3805\u001B[0m     \u001B[38;5;28;01mreturn\u001B[39;00m \u001B[38;5;28;43mself\u001B[39;49m\u001B[38;5;241;43m.\u001B[39;49m\u001B[43m_engine\u001B[49m\u001B[38;5;241;43m.\u001B[39;49m\u001B[43mget_loc\u001B[49m\u001B[43m(\u001B[49m\u001B[43mcasted_key\u001B[49m\u001B[43m)\u001B[49m\n\u001B[0;32m   3806\u001B[0m \u001B[38;5;28;01mexcept\u001B[39;00m \u001B[38;5;167;01mKeyError\u001B[39;00m \u001B[38;5;28;01mas\u001B[39;00m err:\n",
      "File \u001B[1;32mindex.pyx:167\u001B[0m, in \u001B[0;36mpandas._libs.index.IndexEngine.get_loc\u001B[1;34m()\u001B[0m\n",
      "File \u001B[1;32mindex.pyx:196\u001B[0m, in \u001B[0;36mpandas._libs.index.IndexEngine.get_loc\u001B[1;34m()\u001B[0m\n",
      "File \u001B[1;32mpandas\\\\_libs\\\\hashtable_class_helper.pxi:7081\u001B[0m, in \u001B[0;36mpandas._libs.hashtable.PyObjectHashTable.get_item\u001B[1;34m()\u001B[0m\n",
      "File \u001B[1;32mpandas\\\\_libs\\\\hashtable_class_helper.pxi:7089\u001B[0m, in \u001B[0;36mpandas._libs.hashtable.PyObjectHashTable.get_item\u001B[1;34m()\u001B[0m\n",
      "\u001B[1;31mKeyError\u001B[0m: 'def_nutri'",
      "\nThe above exception was the direct cause of the following exception:\n",
      "\u001B[1;31mKeyError\u001B[0m                                  Traceback (most recent call last)",
      "Cell \u001B[1;32mIn[293], line 1\u001B[0m\n\u001B[1;32m----> 1\u001B[0m stat, p_value_12 \u001B[38;5;241m=\u001B[39m ttest_ind(\u001B[43mAMB_PA\u001B[49m\u001B[43m[\u001B[49m\u001B[38;5;124;43m'\u001B[39;49m\u001B[38;5;124;43mdef_nutri\u001B[39;49m\u001B[38;5;124;43m'\u001B[39;49m\u001B[43m]\u001B[49m, AMB_PA_MECVV[\u001B[38;5;124m'\u001B[39m\u001B[38;5;124mdef_nutri\u001B[39m\u001B[38;5;124m'\u001B[39m], equal_var\u001B[38;5;241m=\u001B[39m\u001B[38;5;28;01mFalse\u001B[39;00m)\n\u001B[0;32m      2\u001B[0m \u001B[38;5;28mprint\u001B[39m(\u001B[38;5;124m\"\u001B[39m\u001B[38;5;124mP-valor entre AMB_PA i AMB_PA_MECVV\u001B[39m\u001B[38;5;124m\"\u001B[39m, p_value_12)\n",
      "File \u001B[1;32m~\\PycharmProjects\\PRACTICUM\\venv\\Lib\\site-packages\\pandas\\core\\frame.py:4102\u001B[0m, in \u001B[0;36mDataFrame.__getitem__\u001B[1;34m(self, key)\u001B[0m\n\u001B[0;32m   4100\u001B[0m \u001B[38;5;28;01mif\u001B[39;00m \u001B[38;5;28mself\u001B[39m\u001B[38;5;241m.\u001B[39mcolumns\u001B[38;5;241m.\u001B[39mnlevels \u001B[38;5;241m>\u001B[39m \u001B[38;5;241m1\u001B[39m:\n\u001B[0;32m   4101\u001B[0m     \u001B[38;5;28;01mreturn\u001B[39;00m \u001B[38;5;28mself\u001B[39m\u001B[38;5;241m.\u001B[39m_getitem_multilevel(key)\n\u001B[1;32m-> 4102\u001B[0m indexer \u001B[38;5;241m=\u001B[39m \u001B[38;5;28;43mself\u001B[39;49m\u001B[38;5;241;43m.\u001B[39;49m\u001B[43mcolumns\u001B[49m\u001B[38;5;241;43m.\u001B[39;49m\u001B[43mget_loc\u001B[49m\u001B[43m(\u001B[49m\u001B[43mkey\u001B[49m\u001B[43m)\u001B[49m\n\u001B[0;32m   4103\u001B[0m \u001B[38;5;28;01mif\u001B[39;00m is_integer(indexer):\n\u001B[0;32m   4104\u001B[0m     indexer \u001B[38;5;241m=\u001B[39m [indexer]\n",
      "File \u001B[1;32m~\\PycharmProjects\\PRACTICUM\\venv\\Lib\\site-packages\\pandas\\core\\indexes\\base.py:3812\u001B[0m, in \u001B[0;36mIndex.get_loc\u001B[1;34m(self, key)\u001B[0m\n\u001B[0;32m   3807\u001B[0m     \u001B[38;5;28;01mif\u001B[39;00m \u001B[38;5;28misinstance\u001B[39m(casted_key, \u001B[38;5;28mslice\u001B[39m) \u001B[38;5;129;01mor\u001B[39;00m (\n\u001B[0;32m   3808\u001B[0m         \u001B[38;5;28misinstance\u001B[39m(casted_key, abc\u001B[38;5;241m.\u001B[39mIterable)\n\u001B[0;32m   3809\u001B[0m         \u001B[38;5;129;01mand\u001B[39;00m \u001B[38;5;28many\u001B[39m(\u001B[38;5;28misinstance\u001B[39m(x, \u001B[38;5;28mslice\u001B[39m) \u001B[38;5;28;01mfor\u001B[39;00m x \u001B[38;5;129;01min\u001B[39;00m casted_key)\n\u001B[0;32m   3810\u001B[0m     ):\n\u001B[0;32m   3811\u001B[0m         \u001B[38;5;28;01mraise\u001B[39;00m InvalidIndexError(key)\n\u001B[1;32m-> 3812\u001B[0m     \u001B[38;5;28;01mraise\u001B[39;00m \u001B[38;5;167;01mKeyError\u001B[39;00m(key) \u001B[38;5;28;01mfrom\u001B[39;00m \u001B[38;5;21;01merr\u001B[39;00m\n\u001B[0;32m   3813\u001B[0m \u001B[38;5;28;01mexcept\u001B[39;00m \u001B[38;5;167;01mTypeError\u001B[39;00m:\n\u001B[0;32m   3814\u001B[0m     \u001B[38;5;66;03m# If we have a listlike key, _check_indexing_error will raise\u001B[39;00m\n\u001B[0;32m   3815\u001B[0m     \u001B[38;5;66;03m#  InvalidIndexError. Otherwise we fall through and re-raise\u001B[39;00m\n\u001B[0;32m   3816\u001B[0m     \u001B[38;5;66;03m#  the TypeError.\u001B[39;00m\n\u001B[0;32m   3817\u001B[0m     \u001B[38;5;28mself\u001B[39m\u001B[38;5;241m.\u001B[39m_check_indexing_error(key)\n",
      "\u001B[1;31mKeyError\u001B[0m: 'def_nutri'"
     ]
    }
   ],
   "execution_count": 293
  },
  {
   "metadata": {
    "ExecuteTime": {
     "end_time": "2024-05-03T10:16:04.294995Z",
     "start_time": "2024-05-03T10:16:04.258882Z"
    }
   },
   "cell_type": "code",
   "source": [
    "stat, p_value_13 = ttest_ind(AMB_PA['def_nutri'], SENSE_PA['def_nutri'], equal_var=False)\n",
    "print(\"P-valor entre AMB_PA i SENSE_PA\", p_value_13)"
   ],
   "id": "1e0de691178e3d02",
   "outputs": [
    {
     "ename": "KeyError",
     "evalue": "'def_nutri'",
     "output_type": "error",
     "traceback": [
      "\u001B[1;31m---------------------------------------------------------------------------\u001B[0m",
      "\u001B[1;31mKeyError\u001B[0m                                  Traceback (most recent call last)",
      "File \u001B[1;32m~\\PycharmProjects\\PRACTICUM\\venv\\Lib\\site-packages\\pandas\\core\\indexes\\base.py:3805\u001B[0m, in \u001B[0;36mIndex.get_loc\u001B[1;34m(self, key)\u001B[0m\n\u001B[0;32m   3804\u001B[0m \u001B[38;5;28;01mtry\u001B[39;00m:\n\u001B[1;32m-> 3805\u001B[0m     \u001B[38;5;28;01mreturn\u001B[39;00m \u001B[38;5;28;43mself\u001B[39;49m\u001B[38;5;241;43m.\u001B[39;49m\u001B[43m_engine\u001B[49m\u001B[38;5;241;43m.\u001B[39;49m\u001B[43mget_loc\u001B[49m\u001B[43m(\u001B[49m\u001B[43mcasted_key\u001B[49m\u001B[43m)\u001B[49m\n\u001B[0;32m   3806\u001B[0m \u001B[38;5;28;01mexcept\u001B[39;00m \u001B[38;5;167;01mKeyError\u001B[39;00m \u001B[38;5;28;01mas\u001B[39;00m err:\n",
      "File \u001B[1;32mindex.pyx:167\u001B[0m, in \u001B[0;36mpandas._libs.index.IndexEngine.get_loc\u001B[1;34m()\u001B[0m\n",
      "File \u001B[1;32mindex.pyx:196\u001B[0m, in \u001B[0;36mpandas._libs.index.IndexEngine.get_loc\u001B[1;34m()\u001B[0m\n",
      "File \u001B[1;32mpandas\\\\_libs\\\\hashtable_class_helper.pxi:7081\u001B[0m, in \u001B[0;36mpandas._libs.hashtable.PyObjectHashTable.get_item\u001B[1;34m()\u001B[0m\n",
      "File \u001B[1;32mpandas\\\\_libs\\\\hashtable_class_helper.pxi:7089\u001B[0m, in \u001B[0;36mpandas._libs.hashtable.PyObjectHashTable.get_item\u001B[1;34m()\u001B[0m\n",
      "\u001B[1;31mKeyError\u001B[0m: 'def_nutri'",
      "\nThe above exception was the direct cause of the following exception:\n",
      "\u001B[1;31mKeyError\u001B[0m                                  Traceback (most recent call last)",
      "Cell \u001B[1;32mIn[294], line 1\u001B[0m\n\u001B[1;32m----> 1\u001B[0m stat, p_value_13 \u001B[38;5;241m=\u001B[39m ttest_ind(\u001B[43mAMB_PA\u001B[49m\u001B[43m[\u001B[49m\u001B[38;5;124;43m'\u001B[39;49m\u001B[38;5;124;43mdef_nutri\u001B[39;49m\u001B[38;5;124;43m'\u001B[39;49m\u001B[43m]\u001B[49m, SENSE_PA[\u001B[38;5;124m'\u001B[39m\u001B[38;5;124mdef_nutri\u001B[39m\u001B[38;5;124m'\u001B[39m], equal_var\u001B[38;5;241m=\u001B[39m\u001B[38;5;28;01mFalse\u001B[39;00m)\n\u001B[0;32m      2\u001B[0m \u001B[38;5;28mprint\u001B[39m(\u001B[38;5;124m\"\u001B[39m\u001B[38;5;124mP-valor entre AMB_PA i SENSE_PA\u001B[39m\u001B[38;5;124m\"\u001B[39m, p_value_13)\n",
      "File \u001B[1;32m~\\PycharmProjects\\PRACTICUM\\venv\\Lib\\site-packages\\pandas\\core\\frame.py:4102\u001B[0m, in \u001B[0;36mDataFrame.__getitem__\u001B[1;34m(self, key)\u001B[0m\n\u001B[0;32m   4100\u001B[0m \u001B[38;5;28;01mif\u001B[39;00m \u001B[38;5;28mself\u001B[39m\u001B[38;5;241m.\u001B[39mcolumns\u001B[38;5;241m.\u001B[39mnlevels \u001B[38;5;241m>\u001B[39m \u001B[38;5;241m1\u001B[39m:\n\u001B[0;32m   4101\u001B[0m     \u001B[38;5;28;01mreturn\u001B[39;00m \u001B[38;5;28mself\u001B[39m\u001B[38;5;241m.\u001B[39m_getitem_multilevel(key)\n\u001B[1;32m-> 4102\u001B[0m indexer \u001B[38;5;241m=\u001B[39m \u001B[38;5;28;43mself\u001B[39;49m\u001B[38;5;241;43m.\u001B[39;49m\u001B[43mcolumns\u001B[49m\u001B[38;5;241;43m.\u001B[39;49m\u001B[43mget_loc\u001B[49m\u001B[43m(\u001B[49m\u001B[43mkey\u001B[49m\u001B[43m)\u001B[49m\n\u001B[0;32m   4103\u001B[0m \u001B[38;5;28;01mif\u001B[39;00m is_integer(indexer):\n\u001B[0;32m   4104\u001B[0m     indexer \u001B[38;5;241m=\u001B[39m [indexer]\n",
      "File \u001B[1;32m~\\PycharmProjects\\PRACTICUM\\venv\\Lib\\site-packages\\pandas\\core\\indexes\\base.py:3812\u001B[0m, in \u001B[0;36mIndex.get_loc\u001B[1;34m(self, key)\u001B[0m\n\u001B[0;32m   3807\u001B[0m     \u001B[38;5;28;01mif\u001B[39;00m \u001B[38;5;28misinstance\u001B[39m(casted_key, \u001B[38;5;28mslice\u001B[39m) \u001B[38;5;129;01mor\u001B[39;00m (\n\u001B[0;32m   3808\u001B[0m         \u001B[38;5;28misinstance\u001B[39m(casted_key, abc\u001B[38;5;241m.\u001B[39mIterable)\n\u001B[0;32m   3809\u001B[0m         \u001B[38;5;129;01mand\u001B[39;00m \u001B[38;5;28many\u001B[39m(\u001B[38;5;28misinstance\u001B[39m(x, \u001B[38;5;28mslice\u001B[39m) \u001B[38;5;28;01mfor\u001B[39;00m x \u001B[38;5;129;01min\u001B[39;00m casted_key)\n\u001B[0;32m   3810\u001B[0m     ):\n\u001B[0;32m   3811\u001B[0m         \u001B[38;5;28;01mraise\u001B[39;00m InvalidIndexError(key)\n\u001B[1;32m-> 3812\u001B[0m     \u001B[38;5;28;01mraise\u001B[39;00m \u001B[38;5;167;01mKeyError\u001B[39;00m(key) \u001B[38;5;28;01mfrom\u001B[39;00m \u001B[38;5;21;01merr\u001B[39;00m\n\u001B[0;32m   3813\u001B[0m \u001B[38;5;28;01mexcept\u001B[39;00m \u001B[38;5;167;01mTypeError\u001B[39;00m:\n\u001B[0;32m   3814\u001B[0m     \u001B[38;5;66;03m# If we have a listlike key, _check_indexing_error will raise\u001B[39;00m\n\u001B[0;32m   3815\u001B[0m     \u001B[38;5;66;03m#  InvalidIndexError. Otherwise we fall through and re-raise\u001B[39;00m\n\u001B[0;32m   3816\u001B[0m     \u001B[38;5;66;03m#  the TypeError.\u001B[39;00m\n\u001B[0;32m   3817\u001B[0m     \u001B[38;5;28mself\u001B[39m\u001B[38;5;241m.\u001B[39m_check_indexing_error(key)\n",
      "\u001B[1;31mKeyError\u001B[0m: 'def_nutri'"
     ]
    }
   ],
   "execution_count": 294
  },
  {
   "metadata": {
    "ExecuteTime": {
     "end_time": "2024-05-03T10:16:04.528152Z",
     "start_time": "2024-05-03T10:16:04.492041Z"
    }
   },
   "cell_type": "code",
   "source": [
    "stat, p_value_23 = ttest_ind(AMB_PA_MECVV['def_nutri'], SENSE_PA['def_nutri'], equal_var=False)\n",
    "print(\"P-valor entre AMB_PA_MECVV i SENSE_PA\", p_value_23)"
   ],
   "id": "f40327fa6efbc272",
   "outputs": [
    {
     "ename": "KeyError",
     "evalue": "'def_nutri'",
     "output_type": "error",
     "traceback": [
      "\u001B[1;31m---------------------------------------------------------------------------\u001B[0m",
      "\u001B[1;31mKeyError\u001B[0m                                  Traceback (most recent call last)",
      "File \u001B[1;32m~\\PycharmProjects\\PRACTICUM\\venv\\Lib\\site-packages\\pandas\\core\\indexes\\base.py:3805\u001B[0m, in \u001B[0;36mIndex.get_loc\u001B[1;34m(self, key)\u001B[0m\n\u001B[0;32m   3804\u001B[0m \u001B[38;5;28;01mtry\u001B[39;00m:\n\u001B[1;32m-> 3805\u001B[0m     \u001B[38;5;28;01mreturn\u001B[39;00m \u001B[38;5;28;43mself\u001B[39;49m\u001B[38;5;241;43m.\u001B[39;49m\u001B[43m_engine\u001B[49m\u001B[38;5;241;43m.\u001B[39;49m\u001B[43mget_loc\u001B[49m\u001B[43m(\u001B[49m\u001B[43mcasted_key\u001B[49m\u001B[43m)\u001B[49m\n\u001B[0;32m   3806\u001B[0m \u001B[38;5;28;01mexcept\u001B[39;00m \u001B[38;5;167;01mKeyError\u001B[39;00m \u001B[38;5;28;01mas\u001B[39;00m err:\n",
      "File \u001B[1;32mindex.pyx:167\u001B[0m, in \u001B[0;36mpandas._libs.index.IndexEngine.get_loc\u001B[1;34m()\u001B[0m\n",
      "File \u001B[1;32mindex.pyx:196\u001B[0m, in \u001B[0;36mpandas._libs.index.IndexEngine.get_loc\u001B[1;34m()\u001B[0m\n",
      "File \u001B[1;32mpandas\\\\_libs\\\\hashtable_class_helper.pxi:7081\u001B[0m, in \u001B[0;36mpandas._libs.hashtable.PyObjectHashTable.get_item\u001B[1;34m()\u001B[0m\n",
      "File \u001B[1;32mpandas\\\\_libs\\\\hashtable_class_helper.pxi:7089\u001B[0m, in \u001B[0;36mpandas._libs.hashtable.PyObjectHashTable.get_item\u001B[1;34m()\u001B[0m\n",
      "\u001B[1;31mKeyError\u001B[0m: 'def_nutri'",
      "\nThe above exception was the direct cause of the following exception:\n",
      "\u001B[1;31mKeyError\u001B[0m                                  Traceback (most recent call last)",
      "Cell \u001B[1;32mIn[295], line 1\u001B[0m\n\u001B[1;32m----> 1\u001B[0m stat, p_value_23 \u001B[38;5;241m=\u001B[39m ttest_ind(\u001B[43mAMB_PA_MECVV\u001B[49m\u001B[43m[\u001B[49m\u001B[38;5;124;43m'\u001B[39;49m\u001B[38;5;124;43mdef_nutri\u001B[39;49m\u001B[38;5;124;43m'\u001B[39;49m\u001B[43m]\u001B[49m, SENSE_PA[\u001B[38;5;124m'\u001B[39m\u001B[38;5;124mdef_nutri\u001B[39m\u001B[38;5;124m'\u001B[39m], equal_var\u001B[38;5;241m=\u001B[39m\u001B[38;5;28;01mFalse\u001B[39;00m)\n\u001B[0;32m      2\u001B[0m \u001B[38;5;28mprint\u001B[39m(\u001B[38;5;124m\"\u001B[39m\u001B[38;5;124mP-valor entre AMB_PA_MECVV i SENSE_PA\u001B[39m\u001B[38;5;124m\"\u001B[39m, p_value_23)\n",
      "File \u001B[1;32m~\\PycharmProjects\\PRACTICUM\\venv\\Lib\\site-packages\\pandas\\core\\frame.py:4102\u001B[0m, in \u001B[0;36mDataFrame.__getitem__\u001B[1;34m(self, key)\u001B[0m\n\u001B[0;32m   4100\u001B[0m \u001B[38;5;28;01mif\u001B[39;00m \u001B[38;5;28mself\u001B[39m\u001B[38;5;241m.\u001B[39mcolumns\u001B[38;5;241m.\u001B[39mnlevels \u001B[38;5;241m>\u001B[39m \u001B[38;5;241m1\u001B[39m:\n\u001B[0;32m   4101\u001B[0m     \u001B[38;5;28;01mreturn\u001B[39;00m \u001B[38;5;28mself\u001B[39m\u001B[38;5;241m.\u001B[39m_getitem_multilevel(key)\n\u001B[1;32m-> 4102\u001B[0m indexer \u001B[38;5;241m=\u001B[39m \u001B[38;5;28;43mself\u001B[39;49m\u001B[38;5;241;43m.\u001B[39;49m\u001B[43mcolumns\u001B[49m\u001B[38;5;241;43m.\u001B[39;49m\u001B[43mget_loc\u001B[49m\u001B[43m(\u001B[49m\u001B[43mkey\u001B[49m\u001B[43m)\u001B[49m\n\u001B[0;32m   4103\u001B[0m \u001B[38;5;28;01mif\u001B[39;00m is_integer(indexer):\n\u001B[0;32m   4104\u001B[0m     indexer \u001B[38;5;241m=\u001B[39m [indexer]\n",
      "File \u001B[1;32m~\\PycharmProjects\\PRACTICUM\\venv\\Lib\\site-packages\\pandas\\core\\indexes\\base.py:3812\u001B[0m, in \u001B[0;36mIndex.get_loc\u001B[1;34m(self, key)\u001B[0m\n\u001B[0;32m   3807\u001B[0m     \u001B[38;5;28;01mif\u001B[39;00m \u001B[38;5;28misinstance\u001B[39m(casted_key, \u001B[38;5;28mslice\u001B[39m) \u001B[38;5;129;01mor\u001B[39;00m (\n\u001B[0;32m   3808\u001B[0m         \u001B[38;5;28misinstance\u001B[39m(casted_key, abc\u001B[38;5;241m.\u001B[39mIterable)\n\u001B[0;32m   3809\u001B[0m         \u001B[38;5;129;01mand\u001B[39;00m \u001B[38;5;28many\u001B[39m(\u001B[38;5;28misinstance\u001B[39m(x, \u001B[38;5;28mslice\u001B[39m) \u001B[38;5;28;01mfor\u001B[39;00m x \u001B[38;5;129;01min\u001B[39;00m casted_key)\n\u001B[0;32m   3810\u001B[0m     ):\n\u001B[0;32m   3811\u001B[0m         \u001B[38;5;28;01mraise\u001B[39;00m InvalidIndexError(key)\n\u001B[1;32m-> 3812\u001B[0m     \u001B[38;5;28;01mraise\u001B[39;00m \u001B[38;5;167;01mKeyError\u001B[39;00m(key) \u001B[38;5;28;01mfrom\u001B[39;00m \u001B[38;5;21;01merr\u001B[39;00m\n\u001B[0;32m   3813\u001B[0m \u001B[38;5;28;01mexcept\u001B[39;00m \u001B[38;5;167;01mTypeError\u001B[39;00m:\n\u001B[0;32m   3814\u001B[0m     \u001B[38;5;66;03m# If we have a listlike key, _check_indexing_error will raise\u001B[39;00m\n\u001B[0;32m   3815\u001B[0m     \u001B[38;5;66;03m#  InvalidIndexError. Otherwise we fall through and re-raise\u001B[39;00m\n\u001B[0;32m   3816\u001B[0m     \u001B[38;5;66;03m#  the TypeError.\u001B[39;00m\n\u001B[0;32m   3817\u001B[0m     \u001B[38;5;28mself\u001B[39m\u001B[38;5;241m.\u001B[39m_check_indexing_error(key)\n",
      "\u001B[1;31mKeyError\u001B[0m: 'def_nutri'"
     ]
    }
   ],
   "execution_count": 295
  }
 ],
 "metadata": {
  "kernelspec": {
   "display_name": "Python 3",
   "language": "python",
   "name": "python3"
  },
  "language_info": {
   "codemirror_mode": {
    "name": "ipython",
    "version": 2
   },
   "file_extension": ".py",
   "mimetype": "text/x-python",
   "name": "python",
   "nbconvert_exporter": "python",
   "pygments_lexer": "ipython2",
   "version": "2.7.6"
  }
 },
 "nbformat": 4,
 "nbformat_minor": 5
}
