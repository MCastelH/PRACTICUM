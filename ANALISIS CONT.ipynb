{
 "cells": [
  {
   "cell_type": "code",
   "id": "initial_id",
   "metadata": {
    "collapsed": true,
    "ExecuteTime": {
     "end_time": "2024-05-08T09:04:13.028855Z",
     "start_time": "2024-05-08T09:04:10.907994Z"
    }
   },
   "source": [
    "import pandas as pd\n",
    "\n",
    "taula = pd.read_pickle('./data/processed/dataframe.pkl')\n",
    "\n",
    "from scipy.stats import ttest_ind\n",
    "from scipy.stats import shapiro\n",
    "from scipy.stats import mannwhitneyu\n",
    "from scipy.stats import chi2_contingency"
   ],
   "outputs": [],
   "execution_count": 2
  },
  {
   "metadata": {
    "ExecuteTime": {
     "end_time": "2024-05-08T09:04:30.399938Z",
     "start_time": "2024-05-08T09:04:30.165384Z"
    }
   },
   "cell_type": "code",
   "source": [
    "taula.head()"
   ],
   "id": "d7edd23ab31dcae8",
   "outputs": [
    {
     "data": {
      "text/plain": [
       "   edat sexe  visitaDietista  \\\n",
       "0    89    F               0   \n",
       "1    70    M               0   \n",
       "2    96    M               0   \n",
       "3    85    M               0   \n",
       "4    93    M               0   \n",
       "\n",
       "                                                labs  \\\n",
       "0                                                 []   \n",
       "1  [{'date': '20220524', 'name': 'PCR SARS-CoV2 S...   \n",
       "2                                                 []   \n",
       "3                                                 []   \n",
       "4  [{'date': '20220208', 'name': 'UREA Sèrum', 'l...   \n",
       "\n",
       "                                                 mna  \\\n",
       "0                                                 []   \n",
       "1                                                 []   \n",
       "2                                                 []   \n",
       "3                                                 []   \n",
       "4  [{'imc': '0', 'anorexia': '1', 'perduaPes': '1...   \n",
       "\n",
       "                                               emina canadenca  \\\n",
       "0  [{'activitat': '2', 'estatMental': '1', 'humit...        []   \n",
       "1  [{'activitat': '0', 'estatMental': '0', 'humit...        []   \n",
       "2  [{'activitat': '3', 'estatMental': '0', 'humit...        []   \n",
       "3  [{'activitat': '2', 'estatMental': '1', 'humit...        []   \n",
       "4  [{'activitat': '2', 'estatMental': '1', 'humit...        []   \n",
       "\n",
       "                                                 pes  \\\n",
       "0                                                 []   \n",
       "1  [{'valor': '64.7', 'data': '2022-10-04'}, {'va...   \n",
       "2                                                 []   \n",
       "3                                                 []   \n",
       "4  [{'valor': '49.900', 'data': '2022-06-02'}, {'...   \n",
       "\n",
       "                                                atcs  \\\n",
       "0  [{'codi': 'M01AE', 'dataInici': '2020-06-21 00...   \n",
       "1  [{'codi': 'C09AA', 'dataInici': '2021-05-26 00...   \n",
       "2  [{'codi': 'G04CA', 'dataInici': '2020-07-09 00...   \n",
       "3  [{'codi': 'G04CA', 'dataInici': '2020-07-15 00...   \n",
       "4  [{'codi': 'N02AA', 'dataInici': '2022-02-01 00...   \n",
       "\n",
       "                                              mecvvs  ...  \\\n",
       "0                                                 []  ...   \n",
       "1  [{'data': '20220930', 'pacientNoColabora': '',...  ...   \n",
       "2                                                 []  ...   \n",
       "3  [{'data': '20201204131810', 'disfagia': 'S', '...  ...   \n",
       "4  [{'data': '20220330172303', 'disfagiaConeguda'...  ...   \n",
       "\n",
       "  Creatinina >1.5 binària Pes més antic  Pes més nou  Data pes més antic  \\\n",
       "0                       0          None         None                None   \n",
       "1                       0            70         53.7          2022-07-06   \n",
       "2                       0          None         None                None   \n",
       "3                       0          None         None                None   \n",
       "4                       0        49.900       49.900          2022-06-02   \n",
       "\n",
       "   Data primer MECVV  Pes coincident primer MECVV  Pèrdua pes entre ingressos  \\\n",
       "0                NaT                         None                        None   \n",
       "1                NaT                         None                        None   \n",
       "2                NaT                         None                        None   \n",
       "3         2020-12-04                         None                        None   \n",
       "4                NaT                         None                        None   \n",
       "\n",
       "   Pèrdua pes total  Data més antiga pneumònia  \\\n",
       "0              None                 2020-06-18   \n",
       "1              16.3                 2022-09-29   \n",
       "2              None                 2020-07-08   \n",
       "3              None                 2020-12-02   \n",
       "4               0.0                 2022-08-07   \n",
       "\n",
       "   Dies entre primer ICD pneumònia i primer MECVV positiu  \n",
       "0                                                NaN       \n",
       "1                                                NaN       \n",
       "2                                                NaN       \n",
       "3                                                2.0       \n",
       "4                                                NaN       \n",
       "\n",
       "[5 rows x 78 columns]"
      ],
      "text/html": [
       "<div>\n",
       "<style scoped>\n",
       "    .dataframe tbody tr th:only-of-type {\n",
       "        vertical-align: middle;\n",
       "    }\n",
       "\n",
       "    .dataframe tbody tr th {\n",
       "        vertical-align: top;\n",
       "    }\n",
       "\n",
       "    .dataframe thead th {\n",
       "        text-align: right;\n",
       "    }\n",
       "</style>\n",
       "<table border=\"1\" class=\"dataframe\">\n",
       "  <thead>\n",
       "    <tr style=\"text-align: right;\">\n",
       "      <th></th>\n",
       "      <th>edat</th>\n",
       "      <th>sexe</th>\n",
       "      <th>visitaDietista</th>\n",
       "      <th>labs</th>\n",
       "      <th>mna</th>\n",
       "      <th>emina</th>\n",
       "      <th>canadenca</th>\n",
       "      <th>pes</th>\n",
       "      <th>atcs</th>\n",
       "      <th>mecvvs</th>\n",
       "      <th>...</th>\n",
       "      <th>Creatinina &gt;1.5 binària</th>\n",
       "      <th>Pes més antic</th>\n",
       "      <th>Pes més nou</th>\n",
       "      <th>Data pes més antic</th>\n",
       "      <th>Data primer MECVV</th>\n",
       "      <th>Pes coincident primer MECVV</th>\n",
       "      <th>Pèrdua pes entre ingressos</th>\n",
       "      <th>Pèrdua pes total</th>\n",
       "      <th>Data més antiga pneumònia</th>\n",
       "      <th>Dies entre primer ICD pneumònia i primer MECVV positiu</th>\n",
       "    </tr>\n",
       "  </thead>\n",
       "  <tbody>\n",
       "    <tr>\n",
       "      <th>0</th>\n",
       "      <td>89</td>\n",
       "      <td>F</td>\n",
       "      <td>0</td>\n",
       "      <td>[]</td>\n",
       "      <td>[]</td>\n",
       "      <td>[{'activitat': '2', 'estatMental': '1', 'humit...</td>\n",
       "      <td>[]</td>\n",
       "      <td>[]</td>\n",
       "      <td>[{'codi': 'M01AE', 'dataInici': '2020-06-21 00...</td>\n",
       "      <td>[]</td>\n",
       "      <td>...</td>\n",
       "      <td>0</td>\n",
       "      <td>None</td>\n",
       "      <td>None</td>\n",
       "      <td>None</td>\n",
       "      <td>NaT</td>\n",
       "      <td>None</td>\n",
       "      <td>None</td>\n",
       "      <td>None</td>\n",
       "      <td>2020-06-18</td>\n",
       "      <td>NaN</td>\n",
       "    </tr>\n",
       "    <tr>\n",
       "      <th>1</th>\n",
       "      <td>70</td>\n",
       "      <td>M</td>\n",
       "      <td>0</td>\n",
       "      <td>[{'date': '20220524', 'name': 'PCR SARS-CoV2 S...</td>\n",
       "      <td>[]</td>\n",
       "      <td>[{'activitat': '0', 'estatMental': '0', 'humit...</td>\n",
       "      <td>[]</td>\n",
       "      <td>[{'valor': '64.7', 'data': '2022-10-04'}, {'va...</td>\n",
       "      <td>[{'codi': 'C09AA', 'dataInici': '2021-05-26 00...</td>\n",
       "      <td>[{'data': '20220930', 'pacientNoColabora': '',...</td>\n",
       "      <td>...</td>\n",
       "      <td>0</td>\n",
       "      <td>70</td>\n",
       "      <td>53.7</td>\n",
       "      <td>2022-07-06</td>\n",
       "      <td>NaT</td>\n",
       "      <td>None</td>\n",
       "      <td>None</td>\n",
       "      <td>16.3</td>\n",
       "      <td>2022-09-29</td>\n",
       "      <td>NaN</td>\n",
       "    </tr>\n",
       "    <tr>\n",
       "      <th>2</th>\n",
       "      <td>96</td>\n",
       "      <td>M</td>\n",
       "      <td>0</td>\n",
       "      <td>[]</td>\n",
       "      <td>[]</td>\n",
       "      <td>[{'activitat': '3', 'estatMental': '0', 'humit...</td>\n",
       "      <td>[]</td>\n",
       "      <td>[]</td>\n",
       "      <td>[{'codi': 'G04CA', 'dataInici': '2020-07-09 00...</td>\n",
       "      <td>[]</td>\n",
       "      <td>...</td>\n",
       "      <td>0</td>\n",
       "      <td>None</td>\n",
       "      <td>None</td>\n",
       "      <td>None</td>\n",
       "      <td>NaT</td>\n",
       "      <td>None</td>\n",
       "      <td>None</td>\n",
       "      <td>None</td>\n",
       "      <td>2020-07-08</td>\n",
       "      <td>NaN</td>\n",
       "    </tr>\n",
       "    <tr>\n",
       "      <th>3</th>\n",
       "      <td>85</td>\n",
       "      <td>M</td>\n",
       "      <td>0</td>\n",
       "      <td>[]</td>\n",
       "      <td>[]</td>\n",
       "      <td>[{'activitat': '2', 'estatMental': '1', 'humit...</td>\n",
       "      <td>[]</td>\n",
       "      <td>[]</td>\n",
       "      <td>[{'codi': 'G04CA', 'dataInici': '2020-07-15 00...</td>\n",
       "      <td>[{'data': '20201204131810', 'disfagia': 'S', '...</td>\n",
       "      <td>...</td>\n",
       "      <td>0</td>\n",
       "      <td>None</td>\n",
       "      <td>None</td>\n",
       "      <td>None</td>\n",
       "      <td>2020-12-04</td>\n",
       "      <td>None</td>\n",
       "      <td>None</td>\n",
       "      <td>None</td>\n",
       "      <td>2020-12-02</td>\n",
       "      <td>2.0</td>\n",
       "    </tr>\n",
       "    <tr>\n",
       "      <th>4</th>\n",
       "      <td>93</td>\n",
       "      <td>M</td>\n",
       "      <td>0</td>\n",
       "      <td>[{'date': '20220208', 'name': 'UREA Sèrum', 'l...</td>\n",
       "      <td>[{'imc': '0', 'anorexia': '1', 'perduaPes': '1...</td>\n",
       "      <td>[{'activitat': '2', 'estatMental': '1', 'humit...</td>\n",
       "      <td>[]</td>\n",
       "      <td>[{'valor': '49.900', 'data': '2022-06-02'}, {'...</td>\n",
       "      <td>[{'codi': 'N02AA', 'dataInici': '2022-02-01 00...</td>\n",
       "      <td>[{'data': '20220330172303', 'disfagiaConeguda'...</td>\n",
       "      <td>...</td>\n",
       "      <td>0</td>\n",
       "      <td>49.900</td>\n",
       "      <td>49.900</td>\n",
       "      <td>2022-06-02</td>\n",
       "      <td>NaT</td>\n",
       "      <td>None</td>\n",
       "      <td>None</td>\n",
       "      <td>0.0</td>\n",
       "      <td>2022-08-07</td>\n",
       "      <td>NaN</td>\n",
       "    </tr>\n",
       "  </tbody>\n",
       "</table>\n",
       "<p>5 rows × 78 columns</p>\n",
       "</div>"
      ]
     },
     "execution_count": 3,
     "metadata": {},
     "output_type": "execute_result"
    }
   ],
   "execution_count": 3
  },
  {
   "metadata": {
    "ExecuteTime": {
     "end_time": "2024-05-08T09:04:30.668683Z",
     "start_time": "2024-05-08T09:04:30.652639Z"
    }
   },
   "cell_type": "code",
   "source": [
    "AMB_PA = taula[taula[\"PA diagnosticada\"] == 1.0]\n",
    "AMB_PA_MECVV = taula[\n",
    "    (taula[\"Dies entre primer ICD pneumònia i primer MECVV positiu\"] < 30)]\n",
    "SENSE_PA = taula[\n",
    "           (taula[\"Dies entre primer ICD pneumònia i primer MECVV positiu\"] > 30) &\n",
    "           (taula['P diagnosticada'] == 1.0)]\n",
    "TOTAL = taula"
   ],
   "id": "66ee0565100b2096",
   "outputs": [],
   "execution_count": 4
  },
  {
   "metadata": {},
   "cell_type": "markdown",
   "source": [
    "# Síndromes geriàtrics"
   ],
   "id": "89fbabd4869d9b6e"
  },
  {
   "metadata": {},
   "cell_type": "markdown",
   "source": [
    "## Index de Charlson"
   ],
   "id": "26d9f063eaf602a8"
  },
  {
   "metadata": {
    "ExecuteTime": {
     "end_time": "2024-05-08T09:04:31.283574Z",
     "start_time": "2024-05-08T09:04:31.276969Z"
    }
   },
   "cell_type": "code",
   "source": [
    "Mitjana_charlson = AMB_PA['Charlson'].mean()\n",
    "desviacio_estandard_charlson = AMB_PA['Charlson'].std()\n",
    "\n",
    "resultat = f\"{Mitjana_charlson:.2f} ± {desviacio_estandard_charlson:.2f}\"\n",
    "print(\"Mitjana ± Desviació Estàndard de l'índex de Charlson:\", resultat)"
   ],
   "id": "b5b2205f3b3c898f",
   "outputs": [
    {
     "name": "stdout",
     "output_type": "stream",
     "text": [
      "Mitjana ± Desviació Estàndard de l'índex de Charlson: 10.24 ± 10.73\n"
     ]
    }
   ],
   "execution_count": 5
  },
  {
   "metadata": {
    "ExecuteTime": {
     "end_time": "2024-05-08T09:04:32.092735Z",
     "start_time": "2024-05-08T09:04:32.085432Z"
    }
   },
   "cell_type": "code",
   "source": [
    "Mitjana_charlson = AMB_PA_MECVV['Charlson'].mean()\n",
    "desviacio_estandard_charlson = AMB_PA_MECVV['Charlson'].std()\n",
    "\n",
    "resultat = f\"{Mitjana_charlson:.2f} ± {desviacio_estandard_charlson:.2f}\"\n",
    "print(\"Mitjana ± Desviació Estàndard de l'índex de Charlson:\", resultat)"
   ],
   "id": "7b8479957609a4b3",
   "outputs": [
    {
     "name": "stdout",
     "output_type": "stream",
     "text": [
      "Mitjana ± Desviació Estàndard de l'índex de Charlson: 16.00 ± 11.60\n"
     ]
    }
   ],
   "execution_count": 6
  },
  {
   "metadata": {
    "ExecuteTime": {
     "end_time": "2024-05-08T09:04:32.675350Z",
     "start_time": "2024-05-08T09:04:32.664670Z"
    }
   },
   "cell_type": "code",
   "source": [
    "Mitjana_charlson = SENSE_PA['Charlson'].mean()\n",
    "desviacio_estandard_charlson = SENSE_PA['Charlson'].std()\n",
    "\n",
    "resultat = f\"{Mitjana_charlson:.2f} ± {desviacio_estandard_charlson:.2f}\"\n",
    "print(\"Mitjana ± Desviació Estàndard de l'índex de Charlson:\", resultat)"
   ],
   "id": "a0991a7e2863cf1",
   "outputs": [
    {
     "name": "stdout",
     "output_type": "stream",
     "text": [
      "Mitjana ± Desviació Estàndard de l'índex de Charlson: 16.50 ± 12.83\n"
     ]
    }
   ],
   "execution_count": 7
  },
  {
   "metadata": {
    "ExecuteTime": {
     "end_time": "2024-05-08T09:04:33.530819Z",
     "start_time": "2024-05-08T09:04:33.516658Z"
    }
   },
   "cell_type": "code",
   "source": [
    "Mitjana_charlson = TOTAL['Charlson'].mean()\n",
    "desviacio_estandard_charlson = TOTAL['Charlson'].std()\n",
    "\n",
    "resultat = f\"{Mitjana_charlson:.2f} ± {desviacio_estandard_charlson:.2f}\"\n",
    "print(\"Mitjana ± Desviació Estàndard de l'índex de Charlson:\", resultat)"
   ],
   "id": "7493edc5cf7aeb5",
   "outputs": [
    {
     "name": "stdout",
     "output_type": "stream",
     "text": [
      "Mitjana ± Desviació Estàndard de l'índex de Charlson: 11.62 ± 13.16\n"
     ]
    }
   ],
   "execution_count": 8
  },
  {
   "metadata": {},
   "cell_type": "markdown",
   "source": "#### Comparació distributiva",
   "id": "7759f395ce8c1a34"
  },
  {
   "metadata": {},
   "cell_type": "markdown",
   "source": "##### Normalitat i p-valor",
   "id": "9e4a7fb9f900e9e1"
  },
  {
   "metadata": {
    "ExecuteTime": {
     "end_time": "2024-05-08T09:04:34.187651Z",
     "start_time": "2024-05-08T09:04:34.179679Z"
    }
   },
   "cell_type": "code",
   "source": [
    "stat, p_value = shapiro(AMB_PA['Charlson'])\n",
    "stat, p_value = shapiro(AMB_PA['Charlson'])\n",
    "print(f\"Estadístic W = {stat:.4f}\")\n",
    "print(f\"Valor p = {p_value:.4f}\")\n",
    "\n",
    "alpha = 0.05\n",
    "if p_value < alpha:\n",
    "    print(\"El nombre de files no segueix una distribució normal.\")\n",
    "else:\n",
    "    print(\"El nombre de files segueix una distribució normal\")"
   ],
   "id": "b5a4f7ca52e855c7",
   "outputs": [
    {
     "name": "stdout",
     "output_type": "stream",
     "text": [
      "Estadístic W = 0.7994\n",
      "Valor p = 0.0020\n",
      "El nombre de files no segueix una distribució normal.\n"
     ]
    }
   ],
   "execution_count": 9
  },
  {
   "metadata": {
    "ExecuteTime": {
     "end_time": "2024-05-08T09:04:34.673295Z",
     "start_time": "2024-05-08T09:04:34.660561Z"
    }
   },
   "cell_type": "code",
   "source": [
    "stat, p_value = shapiro(AMB_PA_MECVV['Charlson'])\n",
    "print(f\"Estadístic W = {stat:.4f}\")\n",
    "print(f\"Valor p = {p_value:.4f}\")\n",
    "\n",
    "alpha = 0.05\n",
    "if p_value < alpha:\n",
    "    print(\"El nombre de files no segueix una distribució normal.\")\n",
    "else:\n",
    "    print(\"El nombre de files segueix una distribució normal\")"
   ],
   "id": "dbadd3060fdf4918",
   "outputs": [
    {
     "name": "stdout",
     "output_type": "stream",
     "text": [
      "Estadístic W = 0.9651\n",
      "Valor p = 0.8571\n",
      "El nombre de files segueix una distribució normal\n"
     ]
    }
   ],
   "execution_count": 10
  },
  {
   "metadata": {
    "ExecuteTime": {
     "end_time": "2024-05-08T09:04:35.052744Z",
     "start_time": "2024-05-08T09:04:35.042070Z"
    }
   },
   "cell_type": "code",
   "source": [
    "stat, p_value = shapiro(SENSE_PA['Charlson'])\n",
    "print(f\"Estadístic W = {stat:.4f}\")\n",
    "print(f\"Valor p = {p_value:.4f}\")\n",
    "\n",
    "alpha = 0.05\n",
    "if p_value < alpha:\n",
    "    print(\"El nombre de files no segueix una distribució normal.\")\n",
    "else:\n",
    "    print(\"El nombre de files segueix una distribució normal\")"
   ],
   "id": "c3a71f3c80fb8c48",
   "outputs": [
    {
     "name": "stdout",
     "output_type": "stream",
     "text": [
      "Estadístic W = 0.9177\n",
      "Valor p = 0.4113\n",
      "El nombre de files segueix una distribució normal\n"
     ]
    }
   ],
   "execution_count": 11
  },
  {
   "metadata": {
    "ExecuteTime": {
     "end_time": "2024-05-08T09:04:35.819599Z",
     "start_time": "2024-05-08T09:04:35.810800Z"
    }
   },
   "cell_type": "code",
   "source": [
    "stat, p_value = shapiro(TOTAL['Charlson'])\n",
    "print(f\"Estadístic W = {stat:.4f}\")\n",
    "print(f\"Valor p = {p_value:.4f}\")\n",
    "\n",
    "alpha = 0.05\n",
    "if p_value < alpha:\n",
    "    print(\"El nombre de files no segueix una distribució normal.\")\n",
    "else:\n",
    "    print(\"El nombre de files segueix una distribució normal\")"
   ],
   "id": "ecd1e19e1206a8d3",
   "outputs": [
    {
     "name": "stdout",
     "output_type": "stream",
     "text": [
      "Estadístic W = 0.7836\n",
      "Valor p = 0.0000\n",
      "El nombre de files no segueix una distribució normal.\n"
     ]
    }
   ],
   "execution_count": 12
  },
  {
   "metadata": {
    "ExecuteTime": {
     "end_time": "2024-05-08T09:04:36.365192Z",
     "start_time": "2024-05-08T09:04:36.356789Z"
    }
   },
   "cell_type": "code",
   "source": [
    "stat, p_value_12 = mannwhitneyu(AMB_PA['Charlson'], AMB_PA_MECVV['Charlson'], alternative='two-sided')\n",
    "print(\"P-valor entre AMB_PA i AMB_PA_MECVV\", p_value_12)"
   ],
   "id": "b39e3bdbb4c23405",
   "outputs": [
    {
     "name": "stdout",
     "output_type": "stream",
     "text": [
      "P-valor entre AMB_PA i AMB_PA_MECVV 0.23085687112868614\n"
     ]
    }
   ],
   "execution_count": 13
  },
  {
   "metadata": {
    "ExecuteTime": {
     "end_time": "2024-05-08T09:04:36.989419Z",
     "start_time": "2024-05-08T09:04:36.982453Z"
    }
   },
   "cell_type": "code",
   "source": [
    "stat, p_value_13 = mannwhitneyu(AMB_PA['Charlson'], SENSE_PA['Charlson'], alternative='two-sided')\n",
    "print(\"P-valor entre AMB_PA i SENSE_PA\", p_value_13)"
   ],
   "id": "c651a55b0ce2b6d4",
   "outputs": [
    {
     "name": "stdout",
     "output_type": "stream",
     "text": [
      "P-valor entre AMB_PA i SENSE_PA 0.1977214805403812\n"
     ]
    }
   ],
   "execution_count": 14
  },
  {
   "metadata": {
    "ExecuteTime": {
     "end_time": "2024-05-08T09:04:37.410030Z",
     "start_time": "2024-05-08T09:04:37.400597Z"
    }
   },
   "cell_type": "code",
   "source": [
    "stat, p_value_23 = ttest_ind(AMB_PA_MECVV['Charlson'], SENSE_PA['Charlson'], equal_var=False)\n",
    "print(\"P-valor entre AMB_PA_MECVV i SENSE_PA\", p_value_23)"
   ],
   "id": "82cc38e98756a5fc",
   "outputs": [
    {
     "name": "stdout",
     "output_type": "stream",
     "text": [
      "P-valor entre AMB_PA_MECVV i SENSE_PA 0.9360013644802581\n"
     ]
    }
   ],
   "execution_count": 15
  },
  {
   "metadata": {
    "ExecuteTime": {
     "end_time": "2024-05-08T09:04:37.854431Z",
     "start_time": "2024-05-08T09:04:37.842361Z"
    }
   },
   "cell_type": "code",
   "source": [
    "stat, p_value_14 = mannwhitneyu(AMB_PA['Charlson'], TOTAL['Charlson'], alternative='two-sided')\n",
    "print(\"P-valor entre AMB_PA i TOTAL\", p_value_14)"
   ],
   "id": "3e91902e36de5110",
   "outputs": [
    {
     "name": "stdout",
     "output_type": "stream",
     "text": [
      "P-valor entre AMB_PA i TOTAL 0.8623665948573777\n"
     ]
    }
   ],
   "execution_count": 16
  },
  {
   "metadata": {
    "ExecuteTime": {
     "end_time": "2024-05-08T09:04:38.216774Z",
     "start_time": "2024-05-08T09:04:38.208463Z"
    }
   },
   "cell_type": "code",
   "source": [
    "stat, p_value_24 = mannwhitneyu(AMB_PA_MECVV['Charlson'], TOTAL['Charlson'], alternative='two-sided')\n",
    "print(\"P-valor entre AMB_PA_MECVV i TOTAL\", p_value_24)"
   ],
   "id": "2411bb2770177a65",
   "outputs": [
    {
     "name": "stdout",
     "output_type": "stream",
     "text": [
      "P-valor entre AMB_PA_MECVV i TOTAL 0.2016616772763471\n"
     ]
    }
   ],
   "execution_count": 17
  },
  {
   "metadata": {
    "ExecuteTime": {
     "end_time": "2024-05-08T09:04:38.801982Z",
     "start_time": "2024-05-08T09:04:38.790688Z"
    }
   },
   "cell_type": "code",
   "source": [
    "stat, p_value_34 = mannwhitneyu(SENSE_PA['Charlson'], TOTAL['Charlson'], alternative='two-sided')\n",
    "print(\"P-valor entre SENSE_PA i TOTAL\", p_value_34)"
   ],
   "id": "f130ffbe702d39b9",
   "outputs": [
    {
     "name": "stdout",
     "output_type": "stream",
     "text": [
      "P-valor entre SENSE_PA i TOTAL 0.19370672249585386\n"
     ]
    }
   ],
   "execution_count": 18
  },
  {
   "metadata": {},
   "cell_type": "markdown",
   "source": [
    "## Caigudes prèvies"
   ],
   "id": "964c785479e0467b"
  },
  {
   "metadata": {
    "ExecuteTime": {
     "end_time": "2024-05-08T09:04:39.319128Z",
     "start_time": "2024-05-08T09:04:39.312167Z"
    }
   },
   "cell_type": "code",
   "source": [
    "caprev_AMB_PA= (AMB_PA['Caigudes prèvies'] == 1.0).mean() * 100\n",
    "print(f\"Percentatge de caigudes prèvies: {caprev_AMB_PA:.2f}%\")"
   ],
   "id": "50df5ada3ce5ed0e",
   "outputs": [
    {
     "name": "stdout",
     "output_type": "stream",
     "text": [
      "Percentatge de caigudes prèvies: 5.88%\n"
     ]
    }
   ],
   "execution_count": 19
  },
  {
   "metadata": {
    "ExecuteTime": {
     "end_time": "2024-05-08T09:04:40.037405Z",
     "start_time": "2024-05-08T09:04:40.030585Z"
    }
   },
   "cell_type": "code",
   "source": [
    "caprev_AMB_PA_MECVV= (AMB_PA_MECVV['Caigudes prèvies'] == 1.0).mean() * 100\n",
    "print(f\"Percentatge de caigudes prèvies: {caprev_AMB_PA_MECVV:.2f}%\")"
   ],
   "id": "1ee91988879aa087",
   "outputs": [
    {
     "name": "stdout",
     "output_type": "stream",
     "text": [
      "Percentatge de caigudes prèvies: 0.00%\n"
     ]
    }
   ],
   "execution_count": 20
  },
  {
   "metadata": {
    "ExecuteTime": {
     "end_time": "2024-05-08T09:04:40.467795Z",
     "start_time": "2024-05-08T09:04:40.459694Z"
    }
   },
   "cell_type": "code",
   "source": [
    "caprev_SENSE_PA= (SENSE_PA['Caigudes prèvies'] == 1.0).mean() * 100\n",
    "print(f\"Percentatge de caigudes prèvies: {caprev_SENSE_PA:.2f}%\")"
   ],
   "id": "4d2cb240e1f7b6f7",
   "outputs": [
    {
     "name": "stdout",
     "output_type": "stream",
     "text": [
      "Percentatge de caigudes prèvies: 12.50%\n"
     ]
    }
   ],
   "execution_count": 21
  },
  {
   "metadata": {
    "ExecuteTime": {
     "end_time": "2024-05-08T09:04:41.065486Z",
     "start_time": "2024-05-08T09:04:41.055191Z"
    }
   },
   "cell_type": "code",
   "source": [
    "caprev_TOTAL= (TOTAL['Caigudes prèvies'] == 1.0).mean() * 100\n",
    "print(f\"Percentatge de caigudes prèvies: {caprev_TOTAL:.2f}%\")"
   ],
   "id": "cc901cf7c80e13fe",
   "outputs": [
    {
     "name": "stdout",
     "output_type": "stream",
     "text": [
      "Percentatge de caigudes prèvies: 6.00%\n"
     ]
    }
   ],
   "execution_count": 22
  },
  {
   "metadata": {},
   "cell_type": "markdown",
   "source": "#### Comparació distributiva",
   "id": "35b8e447e15084e7"
  },
  {
   "metadata": {},
   "cell_type": "markdown",
   "source": "##### Normalitat i p-valor",
   "id": "bce617253d59df63"
  },
  {
   "metadata": {
    "ExecuteTime": {
     "end_time": "2024-05-08T09:04:41.415647Z",
     "start_time": "2024-05-08T09:04:41.398895Z"
    }
   },
   "cell_type": "code",
   "source": [
    "contingency_table_12 = pd.crosstab(index=AMB_PA['Caigudes prèvies'], columns=AMB_PA_MECVV['Caigudes prèvies'])\n",
    "\n",
    "chi2_12, p_value_12, dof_12, expected_12 = chi2_contingency(contingency_table_12)\n",
    "\n",
    "print(\"Estadístic xi-quadrat entre AMB_PA i AMB_PA_MECVV:\", chi2_12)\n",
    "print(\"P-valor entre AMB_PA i AMB_PA_MECVV:\", p_value_12)\n",
    "\n",
    "if p_value_12 < 0.05:\n",
    "    print(\"Hi ha diferències significatives entre les distribucions de caigudes prèvies en AMB_PA i AMB_PA_MECVV.\")\n",
    "else:\n",
    "    print(\"No hi ha diferències significatives entre les distribucions de caigudes prèvies en AMB_PA i AMB_PA_MECVV.\")"
   ],
   "id": "4c41e8420ecd54f3",
   "outputs": [
    {
     "name": "stdout",
     "output_type": "stream",
     "text": [
      "Estadístic xi-quadrat entre AMB_PA i AMB_PA_MECVV: 0.0\n",
      "P-valor entre AMB_PA i AMB_PA_MECVV: 1.0\n",
      "No hi ha diferències significatives entre les distribucions de caigudes prèvies en AMB_PA i AMB_PA_MECVV.\n"
     ]
    }
   ],
   "execution_count": 23
  },
  {
   "metadata": {
    "ExecuteTime": {
     "end_time": "2024-05-08T09:04:41.938847Z",
     "start_time": "2024-05-08T09:04:41.922513Z"
    }
   },
   "cell_type": "code",
   "source": [
    "contingency_table_13 = pd.crosstab(index=AMB_PA['Caigudes prèvies'], columns=SENSE_PA['Caigudes prèvies'])\n",
    "\n",
    "chi2_13, p_value_13, dof_13, expected_13 = chi2_contingency(contingency_table_13)\n",
    "\n",
    "print(\"Estadístic xi-quadrat entre AMB_PA i SENSE_PA:\", chi2_13)\n",
    "print(\"P-valor entre AMB_PA i SENSE_PA:\", p_value_13)\n",
    "\n",
    "if p_value_13 < 0.05:\n",
    "    print(\"Hi ha diferències significatives entre les distribucions de caigudes prèvies en AMB_PA i SENSE_PA.\")\n",
    "else:\n",
    "    print(\"No hi ha diferències significatives entre les distribucions de caigudes prèvies en AMB_PA i SENSE_PA.\")"
   ],
   "id": "d3a50234b5a6775",
   "outputs": [
    {
     "name": "stdout",
     "output_type": "stream",
     "text": [
      "Estadístic xi-quadrat entre AMB_PA i SENSE_PA: 0.0\n",
      "P-valor entre AMB_PA i SENSE_PA: 1.0\n",
      "No hi ha diferències significatives entre les distribucions de caigudes prèvies en AMB_PA i SENSE_PA.\n"
     ]
    }
   ],
   "execution_count": 24
  },
  {
   "metadata": {
    "ExecuteTime": {
     "end_time": "2024-05-08T09:04:42.549129Z",
     "start_time": "2024-05-08T09:04:42.282255Z"
    }
   },
   "cell_type": "code",
   "source": [
    "contingency_table_23 = pd.crosstab(index=AMB_PA_MECVV['Caigudes prèvies'], columns=SENSE_PA['Caigudes prèvies'])\n",
    "\n",
    "chi2_23, p_value_23, dof_23, expected_23 = chi2_contingency(contingency_table_23)\n",
    "\n",
    "print(\"Estadístic xi-quadrat entre AMB_PA_MECVV i SENSE_PA:\", chi2_23)\n",
    "print(\"P-valor entre AMB_PA_MECVV i SENSE_PA:\", p_value_23)\n",
    "\n",
    "if p_value_23 < 0.05:\n",
    "    print(\"Hi ha diferències significatives entre les distribucions de caigudes prèvies en AMB_PA_MECVV i SENSE_PA.\")\n",
    "else:\n",
    "    print(\"No hi ha diferències significatives entre les distribucions de caigudes prèvies en AMB_PA_MECVV i SENSE_PA.\")"
   ],
   "id": "13c44b65ff0399ca",
   "outputs": [
    {
     "ename": "ValueError",
     "evalue": "No data; `observed` has size 0.",
     "output_type": "error",
     "traceback": [
      "\u001B[1;31m---------------------------------------------------------------------------\u001B[0m",
      "\u001B[1;31mValueError\u001B[0m                                Traceback (most recent call last)",
      "Cell \u001B[1;32mIn[25], line 3\u001B[0m\n\u001B[0;32m      1\u001B[0m contingency_table_23 \u001B[38;5;241m=\u001B[39m pd\u001B[38;5;241m.\u001B[39mcrosstab(index\u001B[38;5;241m=\u001B[39mAMB_PA_MECVV[\u001B[38;5;124m'\u001B[39m\u001B[38;5;124mCaigudes prèvies\u001B[39m\u001B[38;5;124m'\u001B[39m] \u001B[38;5;241m==\u001B[39m \u001B[38;5;241m1.0\u001B[39m, columns\u001B[38;5;241m=\u001B[39mSENSE_PA[\u001B[38;5;124m'\u001B[39m\u001B[38;5;124mCaigudes prèvies\u001B[39m\u001B[38;5;124m'\u001B[39m] \u001B[38;5;241m==\u001B[39m \u001B[38;5;241m1.0\u001B[39m)\n\u001B[1;32m----> 3\u001B[0m chi2_23, p_value_23, dof_23, expected_23 \u001B[38;5;241m=\u001B[39m \u001B[43mchi2_contingency\u001B[49m\u001B[43m(\u001B[49m\u001B[43mcontingency_table_23\u001B[49m\u001B[43m)\u001B[49m\n\u001B[0;32m      5\u001B[0m \u001B[38;5;28mprint\u001B[39m(\u001B[38;5;124m\"\u001B[39m\u001B[38;5;124mEstadístic xi-quadrat entre AMB_PA_MECVV i SENSE_PA:\u001B[39m\u001B[38;5;124m\"\u001B[39m, chi2_23)\n\u001B[0;32m      6\u001B[0m \u001B[38;5;28mprint\u001B[39m(\u001B[38;5;124m\"\u001B[39m\u001B[38;5;124mP-valor entre AMB_PA_MECVV i SENSE_PA:\u001B[39m\u001B[38;5;124m\"\u001B[39m, p_value_23)\n",
      "File \u001B[1;32m~\\PycharmProjects\\practicum\\.venv\\Lib\\site-packages\\scipy\\stats\\contingency.py:333\u001B[0m, in \u001B[0;36mchi2_contingency\u001B[1;34m(observed, correction, lambda_)\u001B[0m\n\u001B[0;32m    331\u001B[0m     \u001B[38;5;28;01mraise\u001B[39;00m \u001B[38;5;167;01mValueError\u001B[39;00m(\u001B[38;5;124m\"\u001B[39m\u001B[38;5;124mAll values in `observed` must be nonnegative.\u001B[39m\u001B[38;5;124m\"\u001B[39m)\n\u001B[0;32m    332\u001B[0m \u001B[38;5;28;01mif\u001B[39;00m observed\u001B[38;5;241m.\u001B[39msize \u001B[38;5;241m==\u001B[39m \u001B[38;5;241m0\u001B[39m:\n\u001B[1;32m--> 333\u001B[0m     \u001B[38;5;28;01mraise\u001B[39;00m \u001B[38;5;167;01mValueError\u001B[39;00m(\u001B[38;5;124m\"\u001B[39m\u001B[38;5;124mNo data; `observed` has size 0.\u001B[39m\u001B[38;5;124m\"\u001B[39m)\n\u001B[0;32m    335\u001B[0m expected \u001B[38;5;241m=\u001B[39m expected_freq(observed)\n\u001B[0;32m    336\u001B[0m \u001B[38;5;28;01mif\u001B[39;00m np\u001B[38;5;241m.\u001B[39many(expected \u001B[38;5;241m==\u001B[39m \u001B[38;5;241m0\u001B[39m):\n\u001B[0;32m    337\u001B[0m     \u001B[38;5;66;03m# Include one of the positions where expected is zero in\u001B[39;00m\n\u001B[0;32m    338\u001B[0m     \u001B[38;5;66;03m# the exception message.\u001B[39;00m\n",
      "\u001B[1;31mValueError\u001B[0m: No data; `observed` has size 0."
     ]
    }
   ],
   "execution_count": 25
  },
  {
   "metadata": {
    "ExecuteTime": {
     "end_time": "2024-05-08T09:04:43.085398Z",
     "start_time": "2024-05-08T09:04:43.066372Z"
    }
   },
   "cell_type": "code",
   "source": [
    "contingency_table_14 = pd.crosstab(index=AMB_PA['Caigudes prèvies'], columns=TOTAL['Caigudes prèvies'])\n",
    "\n",
    "chi2_14, p_value_14, dof_14, expected_14 = chi2_contingency(contingency_table_14)\n",
    "\n",
    "print(\"Estadístic xi-quadrat entre AMB_PA i TOTAL:\", chi2_14)\n",
    "print(\"P-valor entre AMB_PA i TOTAL:\", p_value_14)\n",
    "\n",
    "if p_value_14 < 0.05:\n",
    "    print(\"Hi ha diferències significatives entre les distribucions de caigudes prèvies en AMB_PA i TOTAL.\")\n",
    "else:\n",
    "    print(\"No hi ha diferències significatives entre les distribucions de caigudes prèvies en AMB_PA i TOTAL.\")"
   ],
   "id": "5f5df85c9e7d51f7",
   "outputs": [
    {
     "name": "stdout",
     "output_type": "stream",
     "text": [
      "Estadístic xi-quadrat entre AMB_PA i TOTAL: 3.7353515625\n",
      "P-valor entre AMB_PA i TOTAL: 0.053272454982386926\n",
      "No hi ha diferències significatives entre les distribucions de caigudes prèvies en AMB_PA i TOTAL.\n"
     ]
    }
   ],
   "execution_count": 26
  },
  {
   "metadata": {
    "ExecuteTime": {
     "end_time": "2024-05-08T09:04:43.564150Z",
     "start_time": "2024-05-08T09:04:43.544874Z"
    }
   },
   "cell_type": "code",
   "source": [
    "contingency_table_24 = pd.crosstab(index=AMB_PA_MECVV['Caigudes prèvies'], columns=TOTAL['Caigudes prèvies'])\n",
    "\n",
    "chi2_24, p_value_24, dof_24, expected_24 = chi2_contingency(contingency_table_24)\n",
    "\n",
    "print(\"Estadístic xi-quadrat entre AMB_PA_MECVV i TOTAL:\", chi2_24)\n",
    "print(\"P-valor entre AMB_PA_MECVV i TOTAL:\", p_value_24)\n",
    "\n",
    "if p_value_24 < 0.05:\n",
    "    print(\"Hi ha diferències significatives entre les distribucions de caigudes prèvies en AMB_PA_MECVV i TOTAL.\")\n",
    "else:\n",
    "    print(\"No hi ha diferències significatives entre les distribucions de caigudes prèvies en AMB_PA_MECVV i TOTAL.\")"
   ],
   "id": "1fd1d16e6e3dd134",
   "outputs": [
    {
     "name": "stdout",
     "output_type": "stream",
     "text": [
      "Estadístic xi-quadrat entre AMB_PA_MECVV i TOTAL: 0.0\n",
      "P-valor entre AMB_PA_MECVV i TOTAL: 1.0\n",
      "No hi ha diferències significatives entre les distribucions de caigudes prèvies en AMB_PA_MECVV i TOTAL.\n"
     ]
    }
   ],
   "execution_count": 27
  },
  {
   "metadata": {
    "ExecuteTime": {
     "end_time": "2024-05-08T09:05:00.278902Z",
     "start_time": "2024-05-08T09:05:00.263423Z"
    }
   },
   "cell_type": "code",
   "source": [
    "contingency_table_34 = pd.crosstab(index=SENSE_PA['Caigudes prèvies'], columns=TOTAL['Caigudes prèvies'])\n",
    "\n",
    "chi2_34, p_value_34, dof_34, expected_34 = chi2_contingency(contingency_table_34)\n",
    "\n",
    "print(\"Estadístic xi-quadrat entre SENSE_PA i TOTAL:\", chi2_34)\n",
    "print(\"P-valor entre SENSE_PA i TOTAL:\", p_value_34)\n",
    "\n",
    "if p_value_34 < 0.05:\n",
    "    print(\"Hi ha diferències significatives entre les distribucions de caigudes prèvies en SENSE_PA i TOTAL.\")\n",
    "else:\n",
    "    print(\"No hi ha diferències significatives entre les distribucions de caigudes prèvies en SENSE_PA i TOTAL.\")"
   ],
   "id": "898fd0d3335318fe",
   "outputs": [
    {
     "name": "stdout",
     "output_type": "stream",
     "text": [
      "Estadístic xi-quadrat entre SENSE_PA i TOTAL: 1.469387755102041\n",
      "P-valor entre SENSE_PA i TOTAL: 0.22544231699450956\n",
      "No hi ha diferències significatives entre les distribucions de caigudes prèvies en SENSE_PA i TOTAL.\n"
     ]
    }
   ],
   "execution_count": 28
  },
  {
   "metadata": {},
   "cell_type": "markdown",
   "source": [
    "## Deliris"
   ],
   "id": "c7aad4b1d580111"
  },
  {
   "metadata": {
    "ExecuteTime": {
     "end_time": "2024-05-08T09:05:00.785243Z",
     "start_time": "2024-05-08T09:05:00.772067Z"
    }
   },
   "cell_type": "code",
   "source": [
    "del_AMB_PA= (AMB_PA['Deliris'] == 1.0).mean() * 100\n",
    "print(f\"Percentatge de deliris: {del_AMB_PA:.2f}%\")"
   ],
   "id": "4457a2a3dfc7a9de",
   "outputs": [
    {
     "name": "stdout",
     "output_type": "stream",
     "text": [
      "Percentatge de deliris: 23.53%\n"
     ]
    }
   ],
   "execution_count": 29
  },
  {
   "metadata": {
    "ExecuteTime": {
     "end_time": "2024-05-08T09:05:01.560286Z",
     "start_time": "2024-05-08T09:05:01.552397Z"
    }
   },
   "cell_type": "code",
   "source": [
    "del_AMB_PA_MECVV= (AMB_PA_MECVV['Deliris'] == 1.0).mean() * 100\n",
    "print(f\"Percentatge de deliris: {del_AMB_PA_MECVV:.2f}%\")"
   ],
   "id": "5ae56c8f83586838",
   "outputs": [
    {
     "name": "stdout",
     "output_type": "stream",
     "text": [
      "Percentatge de deliris: 25.00%\n"
     ]
    }
   ],
   "execution_count": 30
  },
  {
   "metadata": {
    "ExecuteTime": {
     "end_time": "2024-05-08T09:05:01.863455Z",
     "start_time": "2024-05-08T09:05:01.855256Z"
    }
   },
   "cell_type": "code",
   "source": [
    "del_SENSE_PA= (SENSE_PA['Deliris'] == 1.0).mean() * 100\n",
    "print(f\"Percentatge de deliris: {del_SENSE_PA:.2f}%\")"
   ],
   "id": "9e44418c6cf03004",
   "outputs": [
    {
     "name": "stdout",
     "output_type": "stream",
     "text": [
      "Percentatge de deliris: 62.50%\n"
     ]
    }
   ],
   "execution_count": 31
  },
  {
   "metadata": {
    "ExecuteTime": {
     "end_time": "2024-05-08T09:05:02.375562Z",
     "start_time": "2024-05-08T09:05:02.364349Z"
    }
   },
   "cell_type": "code",
   "source": [
    "del_TOTAL= (TOTAL['Deliris'] == 1.0).mean() * 100\n",
    "print(f\"Percentatge de deliris: {del_TOTAL:.2f}%\")"
   ],
   "id": "b7de74bde0bd1b93",
   "outputs": [
    {
     "name": "stdout",
     "output_type": "stream",
     "text": [
      "Percentatge de deliris: 20.00%\n"
     ]
    }
   ],
   "execution_count": 32
  },
  {
   "metadata": {},
   "cell_type": "markdown",
   "source": "#### Comparació distributiva",
   "id": "5fc877d47e55c507"
  },
  {
   "metadata": {},
   "cell_type": "markdown",
   "source": "##### Normalitat i p-valor",
   "id": "c8d1814752edcd36"
  },
  {
   "metadata": {
    "ExecuteTime": {
     "end_time": "2024-05-08T09:05:02.736511Z",
     "start_time": "2024-05-08T09:05:02.723101Z"
    }
   },
   "cell_type": "code",
   "source": [
    "contingency_table_12 = pd.crosstab(index=AMB_PA['Deliris'], columns=AMB_PA_MECVV['Deliris'])\n",
    "\n",
    "chi2_12, p_value_12, dof_12, expected_12 = chi2_contingency(contingency_table_12)\n",
    "\n",
    "print(\"Estadístic xi-quadrat entre AMB_PA i AMB_PA_MECVV:\", chi2_12)\n",
    "print(\"P-valor entre AMB_PA i AMB_PA_MECVV:\", p_value_12)\n",
    "\n",
    "if p_value_12 < 0.05:\n",
    "    print(\"Hi ha diferències significatives entre les distribucions de deliris en AMB_PA i AMB_PA_MECVV.\")\n",
    "else:\n",
    "    print(\"No hi ha diferències significatives entre les distribucions de deliris en AMB_PA i AMB_PA_MECVV.\")"
   ],
   "id": "1b311cc28de8fcd3",
   "outputs": [
    {
     "name": "stdout",
     "output_type": "stream",
     "text": [
      "Estadístic xi-quadrat entre AMB_PA i AMB_PA_MECVV: 2.34375\n",
      "P-valor entre AMB_PA i AMB_PA_MECVV: 0.12578642463893994\n",
      "No hi ha diferències significatives entre les distribucions de deliris en AMB_PA i AMB_PA_MECVV.\n"
     ]
    }
   ],
   "execution_count": 33
  },
  {
   "metadata": {
    "ExecuteTime": {
     "end_time": "2024-05-08T09:05:03.255462Z",
     "start_time": "2024-05-08T09:05:03.239788Z"
    }
   },
   "cell_type": "code",
   "source": [
    "contingency_table_13 = pd.crosstab(index=AMB_PA['Deliris'], columns=SENSE_PA['Deliris'])\n",
    "\n",
    "chi2_13, p_value_13, dof_13, expected_13 = chi2_contingency(contingency_table_13)\n",
    "\n",
    "print(\"Estadístic xi-quadrat entre AMB_PA i SENSE_PA:\", chi2_13)\n",
    "print(\"P-valor entre AMB_PA i SENSE_PA:\", p_value_13)\n",
    "\n",
    "if p_value_13 < 0.05:\n",
    "    print(\"Hi ha diferències significatives entre les distribucions de deliris en AMB_PA i SENSE_PA.\")\n",
    "else:\n",
    "    print(\"No hi ha diferències significatives entre les distribucions de deliris en AMB_PA i SENSE_PA.\")"
   ],
   "id": "ea1a6301c3ec1b28",
   "outputs": [
    {
     "name": "stdout",
     "output_type": "stream",
     "text": [
      "Estadístic xi-quadrat entre AMB_PA i SENSE_PA: 0.1875\n",
      "P-valor entre AMB_PA i SENSE_PA: 0.6650055421020291\n",
      "No hi ha diferències significatives entre les distribucions de deliris en AMB_PA i SENSE_PA.\n"
     ]
    }
   ],
   "execution_count": 34
  },
  {
   "metadata": {
    "ExecuteTime": {
     "end_time": "2024-05-08T09:05:03.642178Z",
     "start_time": "2024-05-08T09:05:03.600903Z"
    }
   },
   "cell_type": "code",
   "source": [
    "contingency_table_23 = pd.crosstab(index=AMB_PA_MECVV['Deliris'], columns=SENSE_PA['Deliris'])\n",
    "\n",
    "chi2_23, p_value_23, dof_23, expected_23 = chi2_contingency(contingency_table_23)\n",
    "\n",
    "print(\"Estadístic xi-quadrat entre AMB_PA_MECVV i SENSE_PA:\", chi2_23)\n",
    "print(\"P-valor entre AMB_PA_MECVV i SENSE_PA:\", p_value_23)\n",
    "\n",
    "if p_value_23 < 0.05:\n",
    "    print(\"Hi ha diferències significatives entre les distribucions de deliris en AMB_PA_MECVV i SENSE_PA.\")\n",
    "else:\n",
    "    print(\"No hi ha diferències significatives entre les distribucions de deliris en AMB_PA_MECVV i SENSE_PA.\")"
   ],
   "id": "68c1f5ee2e2f63e3",
   "outputs": [
    {
     "ename": "ValueError",
     "evalue": "No data; `observed` has size 0.",
     "output_type": "error",
     "traceback": [
      "\u001B[1;31m---------------------------------------------------------------------------\u001B[0m",
      "\u001B[1;31mValueError\u001B[0m                                Traceback (most recent call last)",
      "Cell \u001B[1;32mIn[35], line 3\u001B[0m\n\u001B[0;32m      1\u001B[0m contingency_table_23 \u001B[38;5;241m=\u001B[39m pd\u001B[38;5;241m.\u001B[39mcrosstab(index\u001B[38;5;241m=\u001B[39mAMB_PA_MECVV[\u001B[38;5;124m'\u001B[39m\u001B[38;5;124mDeliris\u001B[39m\u001B[38;5;124m'\u001B[39m], columns\u001B[38;5;241m=\u001B[39mSENSE_PA[\u001B[38;5;124m'\u001B[39m\u001B[38;5;124mDeliris\u001B[39m\u001B[38;5;124m'\u001B[39m])\n\u001B[1;32m----> 3\u001B[0m chi2_23, p_value_23, dof_23, expected_23 \u001B[38;5;241m=\u001B[39m \u001B[43mchi2_contingency\u001B[49m\u001B[43m(\u001B[49m\u001B[43mcontingency_table_23\u001B[49m\u001B[43m)\u001B[49m\n\u001B[0;32m      5\u001B[0m \u001B[38;5;28mprint\u001B[39m(\u001B[38;5;124m\"\u001B[39m\u001B[38;5;124mEstadístic xi-quadrat entre AMB_PA_MECVV i SENSE_PA:\u001B[39m\u001B[38;5;124m\"\u001B[39m, chi2_23)\n\u001B[0;32m      6\u001B[0m \u001B[38;5;28mprint\u001B[39m(\u001B[38;5;124m\"\u001B[39m\u001B[38;5;124mP-valor entre AMB_PA_MECVV i SENSE_PA:\u001B[39m\u001B[38;5;124m\"\u001B[39m, p_value_23)\n",
      "File \u001B[1;32m~\\PycharmProjects\\practicum\\.venv\\Lib\\site-packages\\scipy\\stats\\contingency.py:333\u001B[0m, in \u001B[0;36mchi2_contingency\u001B[1;34m(observed, correction, lambda_)\u001B[0m\n\u001B[0;32m    331\u001B[0m     \u001B[38;5;28;01mraise\u001B[39;00m \u001B[38;5;167;01mValueError\u001B[39;00m(\u001B[38;5;124m\"\u001B[39m\u001B[38;5;124mAll values in `observed` must be nonnegative.\u001B[39m\u001B[38;5;124m\"\u001B[39m)\n\u001B[0;32m    332\u001B[0m \u001B[38;5;28;01mif\u001B[39;00m observed\u001B[38;5;241m.\u001B[39msize \u001B[38;5;241m==\u001B[39m \u001B[38;5;241m0\u001B[39m:\n\u001B[1;32m--> 333\u001B[0m     \u001B[38;5;28;01mraise\u001B[39;00m \u001B[38;5;167;01mValueError\u001B[39;00m(\u001B[38;5;124m\"\u001B[39m\u001B[38;5;124mNo data; `observed` has size 0.\u001B[39m\u001B[38;5;124m\"\u001B[39m)\n\u001B[0;32m    335\u001B[0m expected \u001B[38;5;241m=\u001B[39m expected_freq(observed)\n\u001B[0;32m    336\u001B[0m \u001B[38;5;28;01mif\u001B[39;00m np\u001B[38;5;241m.\u001B[39many(expected \u001B[38;5;241m==\u001B[39m \u001B[38;5;241m0\u001B[39m):\n\u001B[0;32m    337\u001B[0m     \u001B[38;5;66;03m# Include one of the positions where expected is zero in\u001B[39;00m\n\u001B[0;32m    338\u001B[0m     \u001B[38;5;66;03m# the exception message.\u001B[39;00m\n",
      "\u001B[1;31mValueError\u001B[0m: No data; `observed` has size 0."
     ]
    }
   ],
   "execution_count": 35
  },
  {
   "metadata": {
    "ExecuteTime": {
     "end_time": "2024-05-08T09:05:04.245940Z",
     "start_time": "2024-05-08T09:05:04.227066Z"
    }
   },
   "cell_type": "code",
   "source": [
    "contingency_table_14 = pd.crosstab(index=AMB_PA['Deliris'], columns=TOTAL['Deliris'])\n",
    "\n",
    "chi2_14, p_value_14, dof_14, expected_14 = chi2_contingency(contingency_table_14)\n",
    "\n",
    "print(\"Estadístic xi-quadrat entre AMB_PA i TOTAL:\", chi2_14)\n",
    "print(\"P-valor entre AMB_PA i TOTAL:\", p_value_14)\n",
    "\n",
    "if p_value_14 < 0.05:\n",
    "    print(\"Hi ha diferències significatives entre les distribucions de deliris en AMB_PA i TOTAL.\")\n",
    "else:\n",
    "    print(\"No hi ha diferències significatives entre les distribucions de deliris en AMB_PA i TOTAL.\")"
   ],
   "id": "b70740db46acf58c",
   "outputs": [
    {
     "name": "stdout",
     "output_type": "stream",
     "text": [
      "Estadístic xi-quadrat entre AMB_PA i TOTAL: 11.89654215976331\n",
      "P-valor entre AMB_PA i TOTAL: 0.0005623824703676534\n",
      "Hi ha diferències significatives entre les distribucions de deliris en AMB_PA i TOTAL.\n"
     ]
    }
   ],
   "execution_count": 36
  },
  {
   "metadata": {
    "ExecuteTime": {
     "end_time": "2024-05-08T09:05:04.707061Z",
     "start_time": "2024-05-08T09:05:04.691559Z"
    }
   },
   "cell_type": "code",
   "source": [
    "contingency_table_24 = pd.crosstab(index=AMB_PA_MECVV['Deliris'], columns=TOTAL['Deliris'])\n",
    "\n",
    "chi2_24, p_value_24, dof_24, expected_24 = chi2_contingency(contingency_table_24)\n",
    "\n",
    "print(\"Estadístic xi-quadrat entre AMB_PA_MECVV i TOTAL:\", chi2_24)\n",
    "print(\"P-valor entre AMB_PA_MECVV i TOTAL:\", p_value_24)\n",
    "\n",
    "if p_value_24 < 0.05:\n",
    "    print(\"Hi ha diferències significatives entre les distribucions de deliris en AMB_PA_MECVV i TOTAL.\")\n",
    "else:\n",
    "    print(\"No hi ha diferències significatives entre les distribucions de deliris en AMB_PA_MECVV i TOTAL.\")"
   ],
   "id": "887fa37d1e485ec7",
   "outputs": [
    {
     "name": "stdout",
     "output_type": "stream",
     "text": [
      "Estadístic xi-quadrat entre AMB_PA_MECVV i TOTAL: 3.5555555555555554\n",
      "P-valor entre AMB_PA_MECVV i TOTAL: 0.05934643879191998\n",
      "No hi ha diferències significatives entre les distribucions de deliris en AMB_PA_MECVV i TOTAL.\n"
     ]
    }
   ],
   "execution_count": 37
  },
  {
   "metadata": {
    "ExecuteTime": {
     "end_time": "2024-05-08T09:05:05.298769Z",
     "start_time": "2024-05-08T09:05:05.279633Z"
    }
   },
   "cell_type": "code",
   "source": [
    "contingency_table_34 = pd.crosstab(index=SENSE_PA['Deliris'], columns=TOTAL['Deliris'])\n",
    "\n",
    "chi2_34, p_value_34, dof_34, expected_34 = chi2_contingency(contingency_table_34)\n",
    "\n",
    "print(\"Estadístic xi-quadrat entre SENSE_PA i TOTAL:\", chi2_34)\n",
    "print(\"P-valor entre SENSE_PA i TOTAL:\", p_value_34)\n",
    "\n",
    "if p_value_34 < 0.05:\n",
    "    print(\"Hi ha diferències significatives entre les distribucions de deliris en SENSE_PA i TOTAL.\")\n",
    "else:\n",
    "    print(\"No hi ha diferències significatives entre les distribucions de deliris en SENSE_PA i TOTAL.\")"
   ],
   "id": "aee5b1494fe679d3",
   "outputs": [
    {
     "name": "stdout",
     "output_type": "stream",
     "text": [
      "Estadístic xi-quadrat entre SENSE_PA i TOTAL: 4.302222222222222\n",
      "P-valor entre SENSE_PA i TOTAL: 0.0380626070324449\n",
      "Hi ha diferències significatives entre les distribucions de deliris en SENSE_PA i TOTAL.\n"
     ]
    }
   ],
   "execution_count": 38
  },
  {
   "metadata": {},
   "cell_type": "markdown",
   "source": [
    "## Demència"
   ],
   "id": "16a14a68a193ae88"
  },
  {
   "metadata": {
    "ExecuteTime": {
     "end_time": "2024-05-08T09:05:05.639313Z",
     "start_time": "2024-05-08T09:05:05.631160Z"
    }
   },
   "cell_type": "code",
   "source": [
    "dem_AMB_PA= (AMB_PA['Demència'] == 1.0).mean() * 100\n",
    "print(f\"Percentatge de demència: {dem_AMB_PA:.2f}%\")"
   ],
   "id": "89610b223216b432",
   "outputs": [
    {
     "name": "stdout",
     "output_type": "stream",
     "text": [
      "Percentatge de demència: 47.06%\n"
     ]
    }
   ],
   "execution_count": 39
  },
  {
   "metadata": {
    "ExecuteTime": {
     "end_time": "2024-05-08T09:05:06.149972Z",
     "start_time": "2024-05-08T09:05:06.139093Z"
    }
   },
   "cell_type": "code",
   "source": [
    "dem_AMB_PA_MECVV= (AMB_PA_MECVV['Demència'] == 1.0).mean() * 100\n",
    "print(f\"Percentatge de demència: {dem_AMB_PA_MECVV:.2f}%\")"
   ],
   "id": "6973d5742c346036",
   "outputs": [
    {
     "name": "stdout",
     "output_type": "stream",
     "text": [
      "Percentatge de demència: 25.00%\n"
     ]
    }
   ],
   "execution_count": 40
  },
  {
   "metadata": {
    "ExecuteTime": {
     "end_time": "2024-05-08T09:05:06.516400Z",
     "start_time": "2024-05-08T09:05:06.505998Z"
    }
   },
   "cell_type": "code",
   "source": [
    "dem_SENSE_PA= (SENSE_PA['Demència'] == 1.0).mean() * 100\n",
    "print(f\"Percentatge de demència: {dem_SENSE_PA:.2f}%\")"
   ],
   "id": "3957a273bbf5cf16",
   "outputs": [
    {
     "name": "stdout",
     "output_type": "stream",
     "text": [
      "Percentatge de demència: 62.50%\n"
     ]
    }
   ],
   "execution_count": 41
  },
  {
   "metadata": {
    "ExecuteTime": {
     "end_time": "2024-05-08T09:05:06.979107Z",
     "start_time": "2024-05-08T09:05:06.967132Z"
    }
   },
   "cell_type": "code",
   "source": [
    "dem_TOTAL= (TOTAL['Demència'] == 1.0).mean() * 100\n",
    "print(f\"Percentatge de demència: {dem_TOTAL:.2f}%\")"
   ],
   "id": "a312a3cf8683b567",
   "outputs": [
    {
     "name": "stdout",
     "output_type": "stream",
     "text": [
      "Percentatge de demència: 32.00%\n"
     ]
    }
   ],
   "execution_count": 42
  },
  {
   "metadata": {},
   "cell_type": "markdown",
   "source": "#### Comparació distributiva",
   "id": "2a5e901fb09a4fea"
  },
  {
   "metadata": {},
   "cell_type": "markdown",
   "source": "##### Normalitat i p-valor",
   "id": "4d9eea90d8ee4a6b"
  },
  {
   "metadata": {
    "ExecuteTime": {
     "end_time": "2024-05-08T09:05:07.396521Z",
     "start_time": "2024-05-08T09:05:07.383349Z"
    }
   },
   "cell_type": "code",
   "source": [
    "contingency_table_12 = pd.crosstab(index=AMB_PA['Demència'], columns=AMB_PA_MECVV['Demència'])\n",
    "\n",
    "chi2_12, p_value_12, dof_12, expected_12 = chi2_contingency(contingency_table_12)\n",
    "\n",
    "print(\"Estadístic xi-quadrat entre AMB_PA i AMB_PA_MECVV:\", chi2_12)\n",
    "print(\"P-valor entre AMB_PA i AMB_PA_MECVV:\", p_value_12)\n",
    "\n",
    "if p_value_12 < 0.05:\n",
    "    print(\"Hi ha diferències significatives entre les distribucions de demència en AMB_PA i AMB_PA_MECVV.\")\n",
    "else:\n",
    "    print(\"No hi ha diferències significatives entre les distribucions de demència en AMB_PA i AMB_PA_MECVV.\")"
   ],
   "id": "83f32b06ca57a099",
   "outputs": [
    {
     "name": "stdout",
     "output_type": "stream",
     "text": [
      "Estadístic xi-quadrat entre AMB_PA i AMB_PA_MECVV: 2.34375\n",
      "P-valor entre AMB_PA i AMB_PA_MECVV: 0.12578642463893994\n",
      "No hi ha diferències significatives entre les distribucions de demència en AMB_PA i AMB_PA_MECVV.\n"
     ]
    }
   ],
   "execution_count": 43
  },
  {
   "metadata": {
    "ExecuteTime": {
     "end_time": "2024-05-08T09:05:08.373317Z",
     "start_time": "2024-05-08T09:05:08.336896Z"
    }
   },
   "cell_type": "code",
   "source": [
    "contingency_table_13 = pd.crosstab(index=AMB_PA['Demència'], columns=SENSE_PA['Demència'])\n",
    "\n",
    "chi2_13, p_value_13, dof_13, expected_13 = chi2_contingency(contingency_table_13)\n",
    "\n",
    "print(\"Estadístic xi-quadrat entre AMB_PA i SENSE_PA:\", chi2_13)\n",
    "print(\"P-valor entre AMB_PA i SENSE_PA:\", p_value_13)\n",
    "\n",
    "if p_value_13 < 0.05:\n",
    "    print(\"Hi ha diferències significatives entre les distribucions de demència en AMB_PA i SENSE_PA.\")\n",
    "else:\n",
    "    print(\"No hi ha diferències significatives entre les distribucions de demència en AMB_PA i SENSE_PA.\")"
   ],
   "id": "a1baf61cd15f22ec",
   "outputs": [
    {
     "name": "stdout",
     "output_type": "stream",
     "text": [
      "Estadístic xi-quadrat entre AMB_PA i SENSE_PA: 0.1875\n",
      "P-valor entre AMB_PA i SENSE_PA: 0.6650055421020291\n",
      "No hi ha diferències significatives entre les distribucions de demència en AMB_PA i SENSE_PA.\n"
     ]
    }
   ],
   "execution_count": 44
  },
  {
   "metadata": {
    "ExecuteTime": {
     "end_time": "2024-05-08T09:05:08.942900Z",
     "start_time": "2024-05-08T09:05:08.891474Z"
    }
   },
   "cell_type": "code",
   "source": [
    "contingency_table_23 = pd.crosstab(index=AMB_PA_MECVV['Demència'], columns=SENSE_PA['Demència'])\n",
    "\n",
    "chi2_23, p_value_23, dof_23, expected_23 = chi2_contingency(contingency_table_23)\n",
    "\n",
    "print(\"Estadístic xi-quadrat entre AMB_PA_MECVV i SENSE_PA:\", chi2_23)\n",
    "print(\"P-valor entre AMB_PA_MECVV i SENSE_PA:\", p_value_23)\n",
    "\n",
    "if p_value_23 < 0.05:\n",
    "    print(\"Hi ha diferències significatives entre les distribucions de demència en AMB_PA_MECVV i SENSE_PA.\")\n",
    "else:\n",
    "    print(\"No hi ha diferències significatives entre les distribucions de demència en AMB_PA_MECVV i SENSE_PA.\")"
   ],
   "id": "5271ebe21a57277",
   "outputs": [
    {
     "ename": "ValueError",
     "evalue": "No data; `observed` has size 0.",
     "output_type": "error",
     "traceback": [
      "\u001B[1;31m---------------------------------------------------------------------------\u001B[0m",
      "\u001B[1;31mValueError\u001B[0m                                Traceback (most recent call last)",
      "Cell \u001B[1;32mIn[45], line 3\u001B[0m\n\u001B[0;32m      1\u001B[0m contingency_table_23 \u001B[38;5;241m=\u001B[39m pd\u001B[38;5;241m.\u001B[39mcrosstab(index\u001B[38;5;241m=\u001B[39mAMB_PA_MECVV[\u001B[38;5;124m'\u001B[39m\u001B[38;5;124mDemència\u001B[39m\u001B[38;5;124m'\u001B[39m], columns\u001B[38;5;241m=\u001B[39mSENSE_PA[\u001B[38;5;124m'\u001B[39m\u001B[38;5;124mDemència\u001B[39m\u001B[38;5;124m'\u001B[39m])\n\u001B[1;32m----> 3\u001B[0m chi2_23, p_value_23, dof_23, expected_23 \u001B[38;5;241m=\u001B[39m \u001B[43mchi2_contingency\u001B[49m\u001B[43m(\u001B[49m\u001B[43mcontingency_table_23\u001B[49m\u001B[43m)\u001B[49m\n\u001B[0;32m      5\u001B[0m \u001B[38;5;28mprint\u001B[39m(\u001B[38;5;124m\"\u001B[39m\u001B[38;5;124mEstadístic xi-quadrat entre AMB_PA_MECVV i SENSE_PA:\u001B[39m\u001B[38;5;124m\"\u001B[39m, chi2_23)\n\u001B[0;32m      6\u001B[0m \u001B[38;5;28mprint\u001B[39m(\u001B[38;5;124m\"\u001B[39m\u001B[38;5;124mP-valor entre AMB_PA_MECVV i SENSE_PA:\u001B[39m\u001B[38;5;124m\"\u001B[39m, p_value_23)\n",
      "File \u001B[1;32m~\\PycharmProjects\\practicum\\.venv\\Lib\\site-packages\\scipy\\stats\\contingency.py:333\u001B[0m, in \u001B[0;36mchi2_contingency\u001B[1;34m(observed, correction, lambda_)\u001B[0m\n\u001B[0;32m    331\u001B[0m     \u001B[38;5;28;01mraise\u001B[39;00m \u001B[38;5;167;01mValueError\u001B[39;00m(\u001B[38;5;124m\"\u001B[39m\u001B[38;5;124mAll values in `observed` must be nonnegative.\u001B[39m\u001B[38;5;124m\"\u001B[39m)\n\u001B[0;32m    332\u001B[0m \u001B[38;5;28;01mif\u001B[39;00m observed\u001B[38;5;241m.\u001B[39msize \u001B[38;5;241m==\u001B[39m \u001B[38;5;241m0\u001B[39m:\n\u001B[1;32m--> 333\u001B[0m     \u001B[38;5;28;01mraise\u001B[39;00m \u001B[38;5;167;01mValueError\u001B[39;00m(\u001B[38;5;124m\"\u001B[39m\u001B[38;5;124mNo data; `observed` has size 0.\u001B[39m\u001B[38;5;124m\"\u001B[39m)\n\u001B[0;32m    335\u001B[0m expected \u001B[38;5;241m=\u001B[39m expected_freq(observed)\n\u001B[0;32m    336\u001B[0m \u001B[38;5;28;01mif\u001B[39;00m np\u001B[38;5;241m.\u001B[39many(expected \u001B[38;5;241m==\u001B[39m \u001B[38;5;241m0\u001B[39m):\n\u001B[0;32m    337\u001B[0m     \u001B[38;5;66;03m# Include one of the positions where expected is zero in\u001B[39;00m\n\u001B[0;32m    338\u001B[0m     \u001B[38;5;66;03m# the exception message.\u001B[39;00m\n",
      "\u001B[1;31mValueError\u001B[0m: No data; `observed` has size 0."
     ]
    }
   ],
   "execution_count": 45
  },
  {
   "metadata": {
    "ExecuteTime": {
     "end_time": "2024-05-08T09:05:09.625381Z",
     "start_time": "2024-05-08T09:05:09.609015Z"
    }
   },
   "cell_type": "code",
   "source": [
    "contingency_table_14 = pd.crosstab(index=AMB_PA['Demència'], columns=TOTAL['Demència'])\n",
    "\n",
    "chi2_14, p_value_14, dof_14, expected_14 = chi2_contingency(contingency_table_14)\n",
    "\n",
    "print(\"Estadístic xi-quadrat entre AMB_PA i TOTAL:\", chi2_14)\n",
    "print(\"P-valor entre AMB_PA i TOTAL:\", p_value_14)\n",
    "\n",
    "if p_value_14 < 0.05:\n",
    "    print(\"Hi ha diferències significatives entre les distribucions de demència en AMB_PA i TOTAL.\")\n",
    "else:\n",
    "    print(\"No hi ha diferències significatives entre les distribucions de demència en AMB_PA i TOTAL.\")"
   ],
   "id": "229f3a731f0d99f7",
   "outputs": [
    {
     "name": "stdout",
     "output_type": "stream",
     "text": [
      "Estadístic xi-quadrat entre AMB_PA i TOTAL: 13.223042052469136\n",
      "P-valor entre AMB_PA i TOTAL: 0.00027652843917458906\n",
      "Hi ha diferències significatives entre les distribucions de demència en AMB_PA i TOTAL.\n"
     ]
    }
   ],
   "execution_count": 46
  },
  {
   "metadata": {
    "ExecuteTime": {
     "end_time": "2024-05-08T09:05:10.308678Z",
     "start_time": "2024-05-08T09:05:10.290015Z"
    }
   },
   "cell_type": "code",
   "source": [
    "contingency_table_24 = pd.crosstab(index=AMB_PA_MECVV['Demència'], columns=TOTAL['Demència'])\n",
    "\n",
    "chi2_24, p_value_24, dof_24, expected_24 = chi2_contingency(contingency_table_24)\n",
    "\n",
    "print(\"Estadístic xi-quadrat entre AMB_PA_MECVV i TOTAL:\", chi2_24)\n",
    "print(\"P-valor entre AMB_PA_MECVV i TOTAL:\", p_value_24)\n",
    "\n",
    "if p_value_24 < 0.05:\n",
    "    print(\"Hi ha diferències significatives entre les distribucions de demència en AMB_PA_MECVV i TOTAL.\")\n",
    "else:\n",
    "    print(\"No hi ha diferències significatives entre les distribucions de demència en AMB_PA_MECVV i TOTAL.\")"
   ],
   "id": "e831b86c9aa6609a",
   "outputs": [
    {
     "name": "stdout",
     "output_type": "stream",
     "text": [
      "Estadístic xi-quadrat entre AMB_PA_MECVV i TOTAL: 3.5555555555555554\n",
      "P-valor entre AMB_PA_MECVV i TOTAL: 0.05934643879191998\n",
      "No hi ha diferències significatives entre les distribucions de demència en AMB_PA_MECVV i TOTAL.\n"
     ]
    }
   ],
   "execution_count": 47
  },
  {
   "metadata": {
    "ExecuteTime": {
     "end_time": "2024-05-08T09:05:10.810734Z",
     "start_time": "2024-05-08T09:05:10.795013Z"
    }
   },
   "cell_type": "code",
   "source": [
    "contingency_table_34 = pd.crosstab(index=SENSE_PA['Demència'], columns=TOTAL['Demència'])\n",
    "\n",
    "chi2_34, p_value_34, dof_34, expected_34 = chi2_contingency(contingency_table_34)\n",
    "\n",
    "print(\"Estadístic xi-quadrat entre SENSE_PA i TOTAL:\", chi2_34)\n",
    "print(\"P-valor entre SENSE_PA i TOTAL:\", p_value_34)\n",
    "\n",
    "if p_value_34 < 0.05:\n",
    "    print(\"Hi ha diferències significatives entre les distribucions de demència en SENSE_PA i TOTAL.\")\n",
    "else:\n",
    "    print(\"No hi ha diferències significatives entre les distribucions de demència en SENSE_PA i TOTAL.\")"
   ],
   "id": "86c2332c059b0b28",
   "outputs": [
    {
     "name": "stdout",
     "output_type": "stream",
     "text": [
      "Estadístic xi-quadrat entre SENSE_PA i TOTAL: 4.302222222222222\n",
      "P-valor entre SENSE_PA i TOTAL: 0.0380626070324449\n",
      "Hi ha diferències significatives entre les distribucions de demència en SENSE_PA i TOTAL.\n"
     ]
    }
   ],
   "execution_count": 48
  },
  {
   "metadata": {},
   "cell_type": "markdown",
   "source": [
    "## Síndrome depressiu"
   ],
   "id": "ea9bb083b2c8413e"
  },
  {
   "metadata": {
    "ExecuteTime": {
     "end_time": "2024-05-08T09:05:11.460376Z",
     "start_time": "2024-05-08T09:05:11.447791Z"
    }
   },
   "cell_type": "code",
   "source": [
    "depre_AMB_PA= (AMB_PA['Síndrome depressiu'] == 1.0).mean() * 100\n",
    "print(f\"Percentatge de síndrome depressiu: {depre_AMB_PA:.2f}%\")"
   ],
   "id": "5e6af44aba2e2219",
   "outputs": [
    {
     "name": "stdout",
     "output_type": "stream",
     "text": [
      "Percentatge de síndrome depressiu: 23.53%\n"
     ]
    }
   ],
   "execution_count": 49
  },
  {
   "metadata": {
    "ExecuteTime": {
     "end_time": "2024-05-08T09:05:11.889522Z",
     "start_time": "2024-05-08T09:05:11.883980Z"
    }
   },
   "cell_type": "code",
   "source": [
    "depre_AMB_PA_MECVV= (AMB_PA_MECVV['Síndrome depressiu'] == 1.0).mean() * 100\n",
    "print(f\"Percentatge de síndrome depressiu: {depre_AMB_PA_MECVV:.2f}%\")"
   ],
   "id": "6f73b773854e8aac",
   "outputs": [
    {
     "name": "stdout",
     "output_type": "stream",
     "text": [
      "Percentatge de síndrome depressiu: 12.50%\n"
     ]
    }
   ],
   "execution_count": 50
  },
  {
   "metadata": {
    "ExecuteTime": {
     "end_time": "2024-05-08T09:05:12.675972Z",
     "start_time": "2024-05-08T09:05:12.669244Z"
    }
   },
   "cell_type": "code",
   "source": [
    "depre_SENSE_PA= (SENSE_PA['Síndrome depressiu'] == 1.0).mean() * 100\n",
    "print(f\"Percentatge de síndrome depressiu: {depre_SENSE_PA:.2f}%\")"
   ],
   "id": "ed67fa6c2850b5d7",
   "outputs": [
    {
     "name": "stdout",
     "output_type": "stream",
     "text": [
      "Percentatge de síndrome depressiu: 12.50%\n"
     ]
    }
   ],
   "execution_count": 51
  },
  {
   "metadata": {
    "ExecuteTime": {
     "end_time": "2024-05-08T09:05:13.410833Z",
     "start_time": "2024-05-08T09:05:13.401794Z"
    }
   },
   "cell_type": "code",
   "source": [
    "depre_TOTAL= (TOTAL['Síndrome depressiu'] == 1.0).mean() * 100\n",
    "print(f\"Percentatge de síndrome depressiu: {depre_TOTAL:.2f}%\")"
   ],
   "id": "4d4fc22104bb0fb7",
   "outputs": [
    {
     "name": "stdout",
     "output_type": "stream",
     "text": [
      "Percentatge de síndrome depressiu: 14.00%\n"
     ]
    }
   ],
   "execution_count": 52
  },
  {
   "metadata": {},
   "cell_type": "markdown",
   "source": "#### Comparació distributiva",
   "id": "77048791dbe5c0af"
  },
  {
   "metadata": {},
   "cell_type": "markdown",
   "source": "##### Normalitat i p-valor",
   "id": "7ae02047e3559f07"
  },
  {
   "metadata": {
    "ExecuteTime": {
     "end_time": "2024-05-08T09:05:14.057717Z",
     "start_time": "2024-05-08T09:05:14.037014Z"
    }
   },
   "cell_type": "code",
   "source": [
    "contingency_table_12 = pd.crosstab(index=AMB_PA['Síndrome depressiu'], columns=AMB_PA_MECVV['Síndrome depressiu'])\n",
    "\n",
    "chi2_12, p_value_12, dof_12, expected_12 = chi2_contingency(contingency_table_12)\n",
    "\n",
    "print(\"Estadístic xi-quadrat entre AMB_PA i AMB_PA_MECVV:\", chi2_12)\n",
    "print(\"P-valor entre AMB_PA i AMB_PA_MECVV:\", p_value_12)\n",
    "\n",
    "if p_value_12 < 0.05:\n",
    "    print(\"Hi ha diferències significatives entre les distribucions de síndrome depressiu en AMB_PA i AMB_PA_MECVV.\")\n",
    "else:\n",
    "    print(\"No hi ha diferències significatives entre les distribucions de síndrome depressiu en AMB_PA i AMB_PA_MECVV.\")"
   ],
   "id": "7adb8a77607c2030",
   "outputs": [
    {
     "name": "stdout",
     "output_type": "stream",
     "text": [
      "Estadístic xi-quadrat entre AMB_PA i AMB_PA_MECVV: 0.9600000000000002\n",
      "P-valor entre AMB_PA i AMB_PA_MECVV: 0.32718687779030275\n",
      "No hi ha diferències significatives entre les distribucions de síndrome depressiu en AMB_PA i AMB_PA_MECVV.\n"
     ]
    }
   ],
   "execution_count": 53
  },
  {
   "metadata": {
    "ExecuteTime": {
     "end_time": "2024-05-08T09:05:14.434484Z",
     "start_time": "2024-05-08T09:05:14.415510Z"
    }
   },
   "cell_type": "code",
   "source": [
    "contingency_table_13 = pd.crosstab(index=AMB_PA['Síndrome depressiu'], columns=SENSE_PA['Síndrome depressiu'])\n",
    "\n",
    "chi2_13, p_value_13, dof_13, expected_13 = chi2_contingency(contingency_table_13)\n",
    "\n",
    "print(\"Estadístic xi-quadrat entre AMB_PA i SENSE_PA:\", chi2_13)\n",
    "print(\"P-valor entre AMB_PA i SENSE_PA:\", p_value_13)\n",
    "\n",
    "if p_value_13 < 0.05:\n",
    "    print(\"Hi ha diferències significatives entre les distribucions de síndrome depressiu en AMB_PA i SENSE_PA.\")\n",
    "else:\n",
    "    print(\"No hi ha diferències significatives entre les distribucions de síndrome depressiu en AMB_PA i SENSE_PA.\")"
   ],
   "id": "e47e376705cfa86",
   "outputs": [
    {
     "name": "stdout",
     "output_type": "stream",
     "text": [
      "Estadístic xi-quadrat entre AMB_PA i SENSE_PA: 0.0\n",
      "P-valor entre AMB_PA i SENSE_PA: 1.0\n",
      "No hi ha diferències significatives entre les distribucions de síndrome depressiu en AMB_PA i SENSE_PA.\n"
     ]
    }
   ],
   "execution_count": 54
  },
  {
   "metadata": {
    "ExecuteTime": {
     "end_time": "2024-05-08T09:05:14.988215Z",
     "start_time": "2024-05-08T09:05:14.946595Z"
    }
   },
   "cell_type": "code",
   "source": [
    "contingency_table_23 = pd.crosstab(index=AMB_PA_MECVV['Síndrome depressiu'], columns=SENSE_PA['Síndrome depressiu'])\n",
    "\n",
    "chi2_23, p_value_23, dof_23, expected_23 = chi2_contingency(contingency_table_23)\n",
    "\n",
    "print(\"Estadístic xi-quadrat entre AMB_PA_MECVV i SENSE_PA:\", chi2_23)\n",
    "print(\"P-valor entre AMB_PA_MECVV i SENSE_PA:\", p_value_23)\n",
    "\n",
    "if p_value_23 < 0.05:\n",
    "    print(\"Hi ha diferències significatives entre les distribucions de síndrome depressiu en AMB_PA_MECVV i SENSE_PA.\")\n",
    "else:\n",
    "    print(\"No hi ha diferències significatives entre les distribucions de síndrome depressiu en AMB_PA_MECVV i SENSE_PA.\")"
   ],
   "id": "fef192746e282f69",
   "outputs": [
    {
     "ename": "ValueError",
     "evalue": "No data; `observed` has size 0.",
     "output_type": "error",
     "traceback": [
      "\u001B[1;31m---------------------------------------------------------------------------\u001B[0m",
      "\u001B[1;31mValueError\u001B[0m                                Traceback (most recent call last)",
      "Cell \u001B[1;32mIn[55], line 3\u001B[0m\n\u001B[0;32m      1\u001B[0m contingency_table_23 \u001B[38;5;241m=\u001B[39m pd\u001B[38;5;241m.\u001B[39mcrosstab(index\u001B[38;5;241m=\u001B[39mAMB_PA_MECVV[\u001B[38;5;124m'\u001B[39m\u001B[38;5;124mSíndrome depressiu\u001B[39m\u001B[38;5;124m'\u001B[39m], columns\u001B[38;5;241m=\u001B[39mSENSE_PA[\u001B[38;5;124m'\u001B[39m\u001B[38;5;124mSíndrome depressiu\u001B[39m\u001B[38;5;124m'\u001B[39m])\n\u001B[1;32m----> 3\u001B[0m chi2_23, p_value_23, dof_23, expected_23 \u001B[38;5;241m=\u001B[39m \u001B[43mchi2_contingency\u001B[49m\u001B[43m(\u001B[49m\u001B[43mcontingency_table_23\u001B[49m\u001B[43m)\u001B[49m\n\u001B[0;32m      5\u001B[0m \u001B[38;5;28mprint\u001B[39m(\u001B[38;5;124m\"\u001B[39m\u001B[38;5;124mEstadístic xi-quadrat entre AMB_PA_MECVV i SENSE_PA:\u001B[39m\u001B[38;5;124m\"\u001B[39m, chi2_23)\n\u001B[0;32m      6\u001B[0m \u001B[38;5;28mprint\u001B[39m(\u001B[38;5;124m\"\u001B[39m\u001B[38;5;124mP-valor entre AMB_PA_MECVV i SENSE_PA:\u001B[39m\u001B[38;5;124m\"\u001B[39m, p_value_23)\n",
      "File \u001B[1;32m~\\PycharmProjects\\practicum\\.venv\\Lib\\site-packages\\scipy\\stats\\contingency.py:333\u001B[0m, in \u001B[0;36mchi2_contingency\u001B[1;34m(observed, correction, lambda_)\u001B[0m\n\u001B[0;32m    331\u001B[0m     \u001B[38;5;28;01mraise\u001B[39;00m \u001B[38;5;167;01mValueError\u001B[39;00m(\u001B[38;5;124m\"\u001B[39m\u001B[38;5;124mAll values in `observed` must be nonnegative.\u001B[39m\u001B[38;5;124m\"\u001B[39m)\n\u001B[0;32m    332\u001B[0m \u001B[38;5;28;01mif\u001B[39;00m observed\u001B[38;5;241m.\u001B[39msize \u001B[38;5;241m==\u001B[39m \u001B[38;5;241m0\u001B[39m:\n\u001B[1;32m--> 333\u001B[0m     \u001B[38;5;28;01mraise\u001B[39;00m \u001B[38;5;167;01mValueError\u001B[39;00m(\u001B[38;5;124m\"\u001B[39m\u001B[38;5;124mNo data; `observed` has size 0.\u001B[39m\u001B[38;5;124m\"\u001B[39m)\n\u001B[0;32m    335\u001B[0m expected \u001B[38;5;241m=\u001B[39m expected_freq(observed)\n\u001B[0;32m    336\u001B[0m \u001B[38;5;28;01mif\u001B[39;00m np\u001B[38;5;241m.\u001B[39many(expected \u001B[38;5;241m==\u001B[39m \u001B[38;5;241m0\u001B[39m):\n\u001B[0;32m    337\u001B[0m     \u001B[38;5;66;03m# Include one of the positions where expected is zero in\u001B[39;00m\n\u001B[0;32m    338\u001B[0m     \u001B[38;5;66;03m# the exception message.\u001B[39;00m\n",
      "\u001B[1;31mValueError\u001B[0m: No data; `observed` has size 0."
     ]
    }
   ],
   "execution_count": 55
  },
  {
   "metadata": {
    "ExecuteTime": {
     "end_time": "2024-05-08T09:05:15.497978Z",
     "start_time": "2024-05-08T09:05:15.480683Z"
    }
   },
   "cell_type": "code",
   "source": [
    "contingency_table_14 = pd.crosstab(index=AMB_PA['Síndrome depressiu'], columns=TOTAL['Síndrome depressiu'])\n",
    "\n",
    "chi2_14, p_value_14, dof_14, expected_14 = chi2_contingency(contingency_table_14)\n",
    "\n",
    "print(\"Estadístic xi-quadrat entre AMB_PA i TOTAL:\", chi2_14)\n",
    "print(\"P-valor entre AMB_PA i TOTAL:\", p_value_14)\n",
    "\n",
    "if p_value_14 < 0.05:\n",
    "    print(\"Hi ha diferències significatives entre les distribucions de síndrome depressiu en AMB_PA i TOTAL.\")\n",
    "else:\n",
    "    print(\"No hi ha diferències significatives entre les distribucions de síndrome depressiu en AMB_PA i TOTAL.\")"
   ],
   "id": "aa30d4033abf5373",
   "outputs": [
    {
     "name": "stdout",
     "output_type": "stream",
     "text": [
      "Estadístic xi-quadrat entre AMB_PA i TOTAL: 11.89654215976331\n",
      "P-valor entre AMB_PA i TOTAL: 0.0005623824703676534\n",
      "Hi ha diferències significatives entre les distribucions de síndrome depressiu en AMB_PA i TOTAL.\n"
     ]
    }
   ],
   "execution_count": 56
  },
  {
   "metadata": {
    "ExecuteTime": {
     "end_time": "2024-05-08T09:05:15.865269Z",
     "start_time": "2024-05-08T09:05:15.850087Z"
    }
   },
   "cell_type": "code",
   "source": [
    "contingency_table_24 = pd.crosstab(index=AMB_PA_MECVV['Síndrome depressiu'], columns=TOTAL['Síndrome depressiu'])\n",
    "\n",
    "chi2_24, p_value_24, dof_24, expected_24 = chi2_contingency(contingency_table_24)\n",
    "\n",
    "print(\"Estadístic xi-quadrat entre AMB_PA_MECVV i TOTAL:\", chi2_24)\n",
    "print(\"P-valor entre AMB_PA_MECVV i TOTAL:\", p_value_24)\n",
    "\n",
    "if p_value_24 < 0.05:\n",
    "    print(\"Hi ha diferències significatives entre les distribucions de síndrome depressiu en AMB_PA_MECVV i TOTAL.\")\n",
    "else:\n",
    "    print(\"No hi ha diferències significatives entre les distribucions de síndrome depressiu en AMB_PA_MECVV i TOTAL.\")"
   ],
   "id": "e30932509bdf852f",
   "outputs": [
    {
     "name": "stdout",
     "output_type": "stream",
     "text": [
      "Estadístic xi-quadrat entre AMB_PA_MECVV i TOTAL: 1.469387755102041\n",
      "P-valor entre AMB_PA_MECVV i TOTAL: 0.22544231699450956\n",
      "No hi ha diferències significatives entre les distribucions de síndrome depressiu en AMB_PA_MECVV i TOTAL.\n"
     ]
    }
   ],
   "execution_count": 57
  },
  {
   "metadata": {
    "ExecuteTime": {
     "end_time": "2024-05-08T09:05:16.490223Z",
     "start_time": "2024-05-08T09:05:16.476039Z"
    }
   },
   "cell_type": "code",
   "source": [
    "contingency_table_34 = pd.crosstab(index=SENSE_PA['Síndrome depressiu'], columns=TOTAL['Síndrome depressiu'])\n",
    "\n",
    "chi2_34, p_value_34, dof_34, expected_34 = chi2_contingency(contingency_table_34)\n",
    "\n",
    "print(\"Estadístic xi-quadrat entre SENSE_PA i TOTAL:\", chi2_34)\n",
    "print(\"P-valor entre SENSE_PA i TOTAL:\", p_value_34)\n",
    "\n",
    "if p_value_34 < 0.05:\n",
    "    print(\"Hi ha diferències significatives entre les distribucions de síndrome depressiu en SENSE_PA i TOTAL.\")\n",
    "else:\n",
    "    print(\"No hi ha diferències significatives entre les distribucions de síndrome depressiu en SENSE_PA i TOTAL.\")"
   ],
   "id": "8937379a30d75491",
   "outputs": [
    {
     "name": "stdout",
     "output_type": "stream",
     "text": [
      "Estadístic xi-quadrat entre SENSE_PA i TOTAL: 1.469387755102041\n",
      "P-valor entre SENSE_PA i TOTAL: 0.22544231699450956\n",
      "No hi ha diferències significatives entre les distribucions de síndrome depressiu en SENSE_PA i TOTAL.\n"
     ]
    }
   ],
   "execution_count": 58
  },
  {
   "metadata": {},
   "cell_type": "markdown",
   "source": [
    "## Incontinència urinària"
   ],
   "id": "e692abea2c5a0bcf"
  },
  {
   "metadata": {
    "ExecuteTime": {
     "end_time": "2024-05-08T09:05:16.989758Z",
     "start_time": "2024-05-08T09:05:16.983846Z"
    }
   },
   "cell_type": "code",
   "source": [
    "ic_AMB_PA= (AMB_PA['Incont.uri'] == 1.0).mean() * 100\n",
    "print(f\"Percentatge d'incontinència urinària: {ic_AMB_PA:.2f}%\")"
   ],
   "id": "a10c39264fda8a45",
   "outputs": [
    {
     "name": "stdout",
     "output_type": "stream",
     "text": [
      "Percentatge d'incontinència urinària: 29.41%\n"
     ]
    }
   ],
   "execution_count": 59
  },
  {
   "metadata": {
    "ExecuteTime": {
     "end_time": "2024-05-08T09:05:17.689755Z",
     "start_time": "2024-05-08T09:05:17.685513Z"
    }
   },
   "cell_type": "code",
   "source": [
    "ic_AMB_PA_MECVV= (AMB_PA_MECVV['Incont.uri'] == 1.0).mean() * 100\n",
    "print(f\"Percentatge d'incontinència urinària: {ic_AMB_PA_MECVV:.2f}%\")"
   ],
   "id": "626e726f57f8e3aa",
   "outputs": [
    {
     "name": "stdout",
     "output_type": "stream",
     "text": [
      "Percentatge d'incontinència urinària: 50.00%\n"
     ]
    }
   ],
   "execution_count": 60
  },
  {
   "metadata": {
    "ExecuteTime": {
     "end_time": "2024-05-08T09:05:18.301065Z",
     "start_time": "2024-05-08T09:05:18.294561Z"
    }
   },
   "cell_type": "code",
   "source": [
    "ic_SENSE_PA= (SENSE_PA['Incont.uri'] == 1.0).mean() * 100\n",
    "print(f\"Percentatge d'incontinència urinària: {ic_SENSE_PA:.2f}%\")"
   ],
   "id": "2a4a3c62612b058c",
   "outputs": [
    {
     "name": "stdout",
     "output_type": "stream",
     "text": [
      "Percentatge d'incontinència urinària: 0.00%\n"
     ]
    }
   ],
   "execution_count": 61
  },
  {
   "metadata": {
    "ExecuteTime": {
     "end_time": "2024-05-08T09:05:18.578649Z",
     "start_time": "2024-05-08T09:05:18.570545Z"
    }
   },
   "cell_type": "code",
   "source": [
    "ic_TOTAL= (TOTAL['Incont.uri'] == 1.0).mean() * 100\n",
    "print(f\"Percentatge d'incontinència urinària: {ic_TOTAL:.2f}%\")"
   ],
   "id": "244a39c7e2f25e8e",
   "outputs": [
    {
     "name": "stdout",
     "output_type": "stream",
     "text": [
      "Percentatge d'incontinència urinària: 16.00%\n"
     ]
    }
   ],
   "execution_count": 62
  },
  {
   "metadata": {},
   "cell_type": "markdown",
   "source": "#### Comparació distributiva",
   "id": "f3d48cd438ce1485"
  },
  {
   "metadata": {},
   "cell_type": "markdown",
   "source": "##### Normalitat i p-valor",
   "id": "8a88da3553a72086"
  },
  {
   "metadata": {
    "ExecuteTime": {
     "end_time": "2024-05-08T09:05:19.068857Z",
     "start_time": "2024-05-08T09:05:19.056251Z"
    }
   },
   "cell_type": "code",
   "source": [
    "stat, p_value = shapiro(AMB_PA['Incont.uri'])\n",
    "print(f\"Estadístic W = {stat:.4f}\")\n",
    "print(f\"Valor p = {p_value:.4f}\")\n",
    "\n",
    "alpha = 0.05\n",
    "if p_value < alpha:\n",
    "    print(\"El nombre de files no segueix una distribució normal.\")\n",
    "else:\n",
    "    print(\"El nombre de files segueix una distribució normal\")"
   ],
   "id": "2cf0004f848a0a3d",
   "outputs": [
    {
     "name": "stdout",
     "output_type": "stream",
     "text": [
      "Estadístic W = 0.5785\n",
      "Valor p = 0.0000\n",
      "El nombre de files no segueix una distribució normal.\n"
     ]
    }
   ],
   "execution_count": 63
  },
  {
   "metadata": {
    "ExecuteTime": {
     "end_time": "2024-05-08T09:05:19.499106Z",
     "start_time": "2024-05-08T09:05:19.492923Z"
    }
   },
   "cell_type": "code",
   "source": [
    "stat, p_value = shapiro(AMB_PA_MECVV['Incont.uri'])\n",
    "print(f\"Estadístic W = {stat:.4f}\")\n",
    "print(f\"Valor p = {p_value:.4f}\")\n",
    "\n",
    "alpha = 0.05\n",
    "if p_value < alpha:\n",
    "    print(\"El nombre de files no segueix una distribució normal.\")\n",
    "else:\n",
    "    print(\"El nombre de files segueix una distribució normal\")"
   ],
   "id": "2615ad7db3f0c1ea",
   "outputs": [
    {
     "name": "stdout",
     "output_type": "stream",
     "text": [
      "Estadístic W = 0.6647\n",
      "Valor p = 0.0009\n",
      "El nombre de files no segueix una distribució normal.\n"
     ]
    }
   ],
   "execution_count": 64
  },
  {
   "metadata": {
    "ExecuteTime": {
     "end_time": "2024-05-08T09:05:20.210440Z",
     "start_time": "2024-05-08T09:05:20.164670Z"
    }
   },
   "cell_type": "code",
   "source": [
    "stat, p_value = shapiro(SENSE_PA['Incont.uri'])\n",
    "print(f\"Estadístic W = {stat:.4f}\")\n",
    "print(f\"Valor p = {p_value:.4f}\")\n",
    "\n",
    "alpha = 0.05\n",
    "if p_value < alpha:\n",
    "    print(\"El nombre de files no segueix una distribució normal.\")\n",
    "else:\n",
    "    print(\"El nombre de files segueix una distribució normal\")"
   ],
   "id": "1bb13adec047e9a0",
   "outputs": [
    {
     "name": "stdout",
     "output_type": "stream",
     "text": [
      "Estadístic W = 1.0000\n",
      "Valor p = 1.0000\n",
      "El nombre de files segueix una distribució normal\n"
     ]
    },
    {
     "name": "stderr",
     "output_type": "stream",
     "text": [
      "C:\\Users\\maria\\PycharmProjects\\practicum\\.venv\\Lib\\site-packages\\scipy\\stats\\_axis_nan_policy.py:531: UserWarning: scipy.stats.shapiro: Input data has range zero. The results may not be accurate.\n",
      "  res = hypotest_fun_out(*samples, **kwds)\n"
     ]
    }
   ],
   "execution_count": 65
  },
  {
   "metadata": {
    "ExecuteTime": {
     "end_time": "2024-05-08T09:05:20.636952Z",
     "start_time": "2024-05-08T09:05:20.630921Z"
    }
   },
   "cell_type": "code",
   "source": [
    "stat, p_value = shapiro(TOTAL['Incont.uri'])\n",
    "print(f\"Estadístic W = {stat:.4f}\")\n",
    "print(f\"Valor p = {p_value:.4f}\")\n",
    "\n",
    "alpha = 0.05\n",
    "if p_value < alpha:\n",
    "    print(\"El nombre de files no segueix una distribució normal.\")\n",
    "else:\n",
    "    print(\"El nombre de files segueix una distribució normal\")"
   ],
   "id": "42d2a26c4eae5e87",
   "outputs": [
    {
     "name": "stdout",
     "output_type": "stream",
     "text": [
      "Estadístic W = 0.4412\n",
      "Valor p = 0.0000\n",
      "El nombre de files no segueix una distribució normal.\n"
     ]
    }
   ],
   "execution_count": 66
  },
  {
   "metadata": {
    "ExecuteTime": {
     "end_time": "2024-05-08T09:05:21.194Z",
     "start_time": "2024-05-08T09:05:21.176290Z"
    }
   },
   "cell_type": "code",
   "source": [
    "contingency_table_12 = pd.crosstab(index=AMB_PA['Incont.uri'], columns=AMB_PA_MECVV['Incont.uri'])\n",
    "\n",
    "chi2_12, p_value_12, dof_12, expected_12 = chi2_contingency(contingency_table_12)\n",
    "\n",
    "print(\"Estadístic xi-quadrat entre AMB_PA i AMB_PA_MECVV:\", chi2_12)\n",
    "print(\"P-valor entre AMB_PA i AMB_PA_MECVV:\", p_value_12)\n",
    "\n",
    "if p_value_12 < 0.05:\n",
    "    print(\"Hi ha diferències significatives entre les distribucions d'incontinència urinària en AMB_PA i AMB_PA_MECVV.\")\n",
    "else:\n",
    "    print(\"No hi ha diferències significatives entre les distribucions d'incontinència urinària en AMB_PA i AMB_PA_MECVV.\")"
   ],
   "id": "65960e4e13cab2cb",
   "outputs": [
    {
     "name": "stdout",
     "output_type": "stream",
     "text": [
      "Estadístic xi-quadrat entre AMB_PA i AMB_PA_MECVV: 2.6666666666666665\n",
      "P-valor entre AMB_PA i AMB_PA_MECVV: 0.10247043485974942\n",
      "No hi ha diferències significatives entre les distribucions d'incontinència urinària en AMB_PA i AMB_PA_MECVV.\n"
     ]
    }
   ],
   "execution_count": 67
  },
  {
   "metadata": {
    "ExecuteTime": {
     "end_time": "2024-05-08T09:05:21.850501Z",
     "start_time": "2024-05-08T09:05:21.831217Z"
    }
   },
   "cell_type": "code",
   "source": [
    "contingency_table_13 = pd.crosstab(index=AMB_PA['Incont.uri'], columns=SENSE_PA['Incont.uri'])\n",
    "\n",
    "chi2_13, p_value_13, dof_13, expected_13 = chi2_contingency(contingency_table_13)\n",
    "\n",
    "print(\"Estadístic xi-quadrat entre AMB_PA i SENSE_PA:\", chi2_13)\n",
    "print(\"P-valor entre AMB_PA i SENSE_PA:\", p_value_13)\n",
    "\n",
    "if p_value_13 < 0.05:\n",
    "    print(\"Hi ha diferències significatives entre les distribucions d'incontinència urinària en AMB_PA i AMB_PA_MECVV.\")\n",
    "else:\n",
    "    print(\"No hi ha diferències significatives entre les distribucions d'incontinència urinària en AMB_PA i AMB_PA_MECVV.\")"
   ],
   "id": "5ae80fc41bf7cab2",
   "outputs": [
    {
     "name": "stdout",
     "output_type": "stream",
     "text": [
      "Estadístic xi-quadrat entre AMB_PA i SENSE_PA: 0.0\n",
      "P-valor entre AMB_PA i SENSE_PA: 1.0\n",
      "No hi ha diferències significatives entre les distribucions d'incontinència urinària en AMB_PA i AMB_PA_MECVV.\n"
     ]
    }
   ],
   "execution_count": 68
  },
  {
   "metadata": {
    "ExecuteTime": {
     "end_time": "2024-05-08T09:05:22.165723Z",
     "start_time": "2024-05-08T09:05:22.114738Z"
    }
   },
   "cell_type": "code",
   "source": [
    "contingency_table_23 = pd.crosstab(index=AMB_PA_MECVV['Incont.uri'], columns=SENSE_PA['Incont.uri'])\n",
    "\n",
    "chi2_23, p_value_23, dof_23, expected_23 = chi2_contingency(contingency_table_23)\n",
    "\n",
    "print(\"Estadístic xi-quadrat entre AMB_PA_MECVV i SENSE_PA:\", chi2_23)\n",
    "print(\"P-valor entre AMB_PA_MECVV i SENSE_PA:\", p_value_23)\n",
    "\n",
    "if p_value_23 < 0.05:\n",
    "    print(\"Hi ha diferències significatives entre les distribucions d'incontinència urinària en AMB_PA_MECVV i SENSE_PA.\")\n",
    "else:\n",
    "    print(\"No hi ha diferències significatives entre les distribucions d'incontinència urinària en AMB_PA_MECVV i SENSE_PA.\")"
   ],
   "id": "7d19627ed95c9830",
   "outputs": [
    {
     "ename": "ValueError",
     "evalue": "No data; `observed` has size 0.",
     "output_type": "error",
     "traceback": [
      "\u001B[1;31m---------------------------------------------------------------------------\u001B[0m",
      "\u001B[1;31mValueError\u001B[0m                                Traceback (most recent call last)",
      "Cell \u001B[1;32mIn[69], line 3\u001B[0m\n\u001B[0;32m      1\u001B[0m contingency_table_23 \u001B[38;5;241m=\u001B[39m pd\u001B[38;5;241m.\u001B[39mcrosstab(index\u001B[38;5;241m=\u001B[39mAMB_PA_MECVV[\u001B[38;5;124m'\u001B[39m\u001B[38;5;124mIncont.uri\u001B[39m\u001B[38;5;124m'\u001B[39m], columns\u001B[38;5;241m=\u001B[39mSENSE_PA[\u001B[38;5;124m'\u001B[39m\u001B[38;5;124mIncont.uri\u001B[39m\u001B[38;5;124m'\u001B[39m])\n\u001B[1;32m----> 3\u001B[0m chi2_23, p_value_23, dof_23, expected_23 \u001B[38;5;241m=\u001B[39m \u001B[43mchi2_contingency\u001B[49m\u001B[43m(\u001B[49m\u001B[43mcontingency_table_23\u001B[49m\u001B[43m)\u001B[49m\n\u001B[0;32m      5\u001B[0m \u001B[38;5;28mprint\u001B[39m(\u001B[38;5;124m\"\u001B[39m\u001B[38;5;124mEstadístic xi-quadrat entre AMB_PA_MECVV i SENSE_PA:\u001B[39m\u001B[38;5;124m\"\u001B[39m, chi2_23)\n\u001B[0;32m      6\u001B[0m \u001B[38;5;28mprint\u001B[39m(\u001B[38;5;124m\"\u001B[39m\u001B[38;5;124mP-valor entre AMB_PA_MECVV i SENSE_PA:\u001B[39m\u001B[38;5;124m\"\u001B[39m, p_value_23)\n",
      "File \u001B[1;32m~\\PycharmProjects\\practicum\\.venv\\Lib\\site-packages\\scipy\\stats\\contingency.py:333\u001B[0m, in \u001B[0;36mchi2_contingency\u001B[1;34m(observed, correction, lambda_)\u001B[0m\n\u001B[0;32m    331\u001B[0m     \u001B[38;5;28;01mraise\u001B[39;00m \u001B[38;5;167;01mValueError\u001B[39;00m(\u001B[38;5;124m\"\u001B[39m\u001B[38;5;124mAll values in `observed` must be nonnegative.\u001B[39m\u001B[38;5;124m\"\u001B[39m)\n\u001B[0;32m    332\u001B[0m \u001B[38;5;28;01mif\u001B[39;00m observed\u001B[38;5;241m.\u001B[39msize \u001B[38;5;241m==\u001B[39m \u001B[38;5;241m0\u001B[39m:\n\u001B[1;32m--> 333\u001B[0m     \u001B[38;5;28;01mraise\u001B[39;00m \u001B[38;5;167;01mValueError\u001B[39;00m(\u001B[38;5;124m\"\u001B[39m\u001B[38;5;124mNo data; `observed` has size 0.\u001B[39m\u001B[38;5;124m\"\u001B[39m)\n\u001B[0;32m    335\u001B[0m expected \u001B[38;5;241m=\u001B[39m expected_freq(observed)\n\u001B[0;32m    336\u001B[0m \u001B[38;5;28;01mif\u001B[39;00m np\u001B[38;5;241m.\u001B[39many(expected \u001B[38;5;241m==\u001B[39m \u001B[38;5;241m0\u001B[39m):\n\u001B[0;32m    337\u001B[0m     \u001B[38;5;66;03m# Include one of the positions where expected is zero in\u001B[39;00m\n\u001B[0;32m    338\u001B[0m     \u001B[38;5;66;03m# the exception message.\u001B[39;00m\n",
      "\u001B[1;31mValueError\u001B[0m: No data; `observed` has size 0."
     ]
    }
   ],
   "execution_count": 69
  },
  {
   "metadata": {
    "ExecuteTime": {
     "end_time": "2024-05-08T09:05:22.615730Z",
     "start_time": "2024-05-08T09:05:22.601173Z"
    }
   },
   "cell_type": "code",
   "source": [
    "contingency_table_14 = pd.crosstab(index=AMB_PA['Incont.uri'], columns=TOTAL['Incont.uri'])\n",
    "\n",
    "chi2_14, p_value_14, dof_14, expected_14 = chi2_contingency(contingency_table_14)\n",
    "\n",
    "print(\"Estadístic xi-quadrat entre AMB_PA i TOTAL:\", chi2_14)\n",
    "print(\"P-valor entre AMB_PA i TOTAL:\", p_value_14)\n",
    "\n",
    "if p_value_14 < 0.05:\n",
    "    print(\"Hi ha diferències significatives entre les distribucions d'incontinència urinària en AMB_PA i TOTAL.\")\n",
    "else:\n",
    "    print(\"No hi ha diferències significatives entre les distribucions d'incontinència urinària en AMB_PA i TOTAL.\")"
   ],
   "id": "f950e7a22dca0fde",
   "outputs": [
    {
     "name": "stdout",
     "output_type": "stream",
     "text": [
      "Estadístic xi-quadrat entre AMB_PA i TOTAL: 12.524513888888887\n",
      "P-valor entre AMB_PA i TOTAL: 0.00040164738150225485\n",
      "Hi ha diferències significatives entre les distribucions d'incontinència urinària en AMB_PA i TOTAL.\n"
     ]
    }
   ],
   "execution_count": 70
  },
  {
   "metadata": {
    "ExecuteTime": {
     "end_time": "2024-05-08T09:05:23.016444Z",
     "start_time": "2024-05-08T09:05:23.000701Z"
    }
   },
   "cell_type": "code",
   "source": [
    "contingency_table_24 = pd.crosstab(index=AMB_PA_MECVV['Incont.uri'], columns=TOTAL['Incont.uri'])\n",
    "\n",
    "chi2_24, p_value_24, dof_24, expected_24 = chi2_contingency(contingency_table_24)\n",
    "\n",
    "print(\"Estadístic xi-quadrat entre AMB_PA_MECVV i TOTAL:\", chi2_24)\n",
    "print(\"P-valor entre AMB_PA_MECVV i TOTAL:\", p_value_24)\n",
    "\n",
    "if p_value_24 < 0.05:\n",
    "    print(\"Hi ha diferències significatives entre les distribucions d'incontinència urinària en AMB_PA_MECVV i TOTAL.\")\n",
    "else:\n",
    "    print(\"No hi ha diferències significatives entre les distribucions d'incontinència urinària en AMB_PA_MECVV i TOTAL.\")"
   ],
   "id": "7b67124c127b6671",
   "outputs": [
    {
     "name": "stdout",
     "output_type": "stream",
     "text": [
      "Estadístic xi-quadrat entre AMB_PA_MECVV i TOTAL: 4.5\n",
      "P-valor entre AMB_PA_MECVV i TOTAL: 0.033894853524689295\n",
      "Hi ha diferències significatives entre les distribucions d'incontinència urinària en AMB_PA_MECVV i TOTAL.\n"
     ]
    }
   ],
   "execution_count": 71
  },
  {
   "metadata": {
    "ExecuteTime": {
     "end_time": "2024-05-08T09:05:23.586930Z",
     "start_time": "2024-05-08T09:05:23.566802Z"
    }
   },
   "cell_type": "code",
   "source": [
    "contingency_table_34 = pd.crosstab(index=SENSE_PA['Incont.uri'], columns=TOTAL['Incont.uri'])\n",
    "\n",
    "chi2_34, p_value_34, dof_34, expected_34 = chi2_contingency(contingency_table_34)\n",
    "\n",
    "print(\"Estadístic xi-quadrat entre SENSE_PA i TOTAL:\", chi2_34)\n",
    "print(\"P-valor entre SENSE_PA i TOTAL:\", p_value_34)\n",
    "\n",
    "if p_value_34 < 0.05:\n",
    "    print(\"Hi ha diferències significatives entre les distribucions d'incontinència urinària en SENSE_PA i TOTAL.\")\n",
    "else:\n",
    "    print(\"No hi ha diferències significatives entre les distribucions d'incontinència urinària en SENSE_PA i TOTAL.\")"
   ],
   "id": "a14f6ac7d84ee2d0",
   "outputs": [
    {
     "name": "stdout",
     "output_type": "stream",
     "text": [
      "Estadístic xi-quadrat entre SENSE_PA i TOTAL: 0.0\n",
      "P-valor entre SENSE_PA i TOTAL: 1.0\n",
      "No hi ha diferències significatives entre les distribucions d'incontinència urinària en SENSE_PA i TOTAL.\n"
     ]
    }
   ],
   "execution_count": 72
  },
  {
   "metadata": {},
   "cell_type": "markdown",
   "source": [
    "## Incontinència fecal "
   ],
   "id": "ef750cb6e374d153"
  },
  {
   "metadata": {
    "ExecuteTime": {
     "end_time": "2024-05-08T09:05:24.302620Z",
     "start_time": "2024-05-08T09:05:24.297222Z"
    }
   },
   "cell_type": "code",
   "source": [
    "ifec_AMB_PA= (AMB_PA['Incont.fec'] == 1.0).mean() * 100\n",
    "print(f\"Percentatge d'incontinència fecal: {ifec_AMB_PA:.2f}%\")"
   ],
   "id": "f200aaa97ddfb132",
   "outputs": [
    {
     "name": "stdout",
     "output_type": "stream",
     "text": [
      "Percentatge d'incontinència fecal: 29.41%\n"
     ]
    }
   ],
   "execution_count": 73
  },
  {
   "metadata": {
    "ExecuteTime": {
     "end_time": "2024-05-08T09:05:24.836468Z",
     "start_time": "2024-05-08T09:05:24.827784Z"
    }
   },
   "cell_type": "code",
   "source": [
    "ifec_AMB_PA_MECVV= (AMB_PA_MECVV['Incont.fec'] == 1.0).mean() * 100\n",
    "print(f\"Percentatge d'incontinència fecal: {ifec_AMB_PA_MECVV:.2f}%\")"
   ],
   "id": "508afd800ecbb722",
   "outputs": [
    {
     "name": "stdout",
     "output_type": "stream",
     "text": [
      "Percentatge d'incontinència fecal: 25.00%\n"
     ]
    }
   ],
   "execution_count": 74
  },
  {
   "metadata": {
    "ExecuteTime": {
     "end_time": "2024-05-08T09:05:25.092278Z",
     "start_time": "2024-05-08T09:05:25.084966Z"
    }
   },
   "cell_type": "code",
   "source": [
    "ifec_SENSE_PA= (SENSE_PA['Incont.fec'] == 1.0).mean() * 100\n",
    "print(f\"Percentatge d'incontinència fecal: {ifec_SENSE_PA:.2f}%\")"
   ],
   "id": "e7d0045ab7ee995b",
   "outputs": [
    {
     "name": "stdout",
     "output_type": "stream",
     "text": [
      "Percentatge d'incontinència fecal: 0.00%\n"
     ]
    }
   ],
   "execution_count": 75
  },
  {
   "metadata": {
    "ExecuteTime": {
     "end_time": "2024-05-08T09:05:25.574137Z",
     "start_time": "2024-05-08T09:05:25.567188Z"
    }
   },
   "cell_type": "code",
   "source": [
    "ifec_TOTAL= (TOTAL['Incont.fec'] == 1.0).mean() * 100\n",
    "print(f\"Percentatge d'incontinència fecal: {ifec_TOTAL:.2f}%\")"
   ],
   "id": "4b28e71fdb437245",
   "outputs": [
    {
     "name": "stdout",
     "output_type": "stream",
     "text": [
      "Percentatge d'incontinència fecal: 12.00%\n"
     ]
    }
   ],
   "execution_count": 76
  },
  {
   "metadata": {},
   "cell_type": "markdown",
   "source": "#### Comparació distributiva",
   "id": "f57e9c2b1011455f"
  },
  {
   "metadata": {},
   "cell_type": "markdown",
   "source": "##### Normalitat i p-valor",
   "id": "a09c93982467480a"
  },
  {
   "metadata": {
    "ExecuteTime": {
     "end_time": "2024-05-08T09:05:25.870243Z",
     "start_time": "2024-05-08T09:05:25.846212Z"
    }
   },
   "cell_type": "code",
   "source": [
    "contingency_table_12 = pd.crosstab(index=AMB_PA['Incont.fec'], columns=AMB_PA_MECVV['Incont.fec'])\n",
    "\n",
    "chi2_12, p_value_12, dof_12, expected_12 = chi2_contingency(contingency_table_12)\n",
    "\n",
    "print(\"Estadístic xi-quadrat entre AMB_PA i AMB_PA_MECVV:\", chi2_12)\n",
    "print(\"P-valor entre AMB_PA i AMB_PA_MECVV:\", p_value_12)\n",
    "\n",
    "if p_value_12 < 0.05:\n",
    "    print(\"Hi ha diferències significatives entre les distribucions d'incontinència fecal en AMB_PA i AMB_PA_MECVV.\")\n",
    "else:\n",
    "    print(\"No hi ha diferències significatives entre les distribucions d'incontinència fecal en AMB_PA i AMB_PA_MECVV.\")"
   ],
   "id": "a06cd69ec62e5411",
   "outputs": [
    {
     "name": "stdout",
     "output_type": "stream",
     "text": [
      "Estadístic xi-quadrat entre AMB_PA i AMB_PA_MECVV: 2.34375\n",
      "P-valor entre AMB_PA i AMB_PA_MECVV: 0.12578642463893994\n",
      "No hi ha diferències significatives entre les distribucions d'incontinència fecal en AMB_PA i AMB_PA_MECVV.\n"
     ]
    }
   ],
   "execution_count": 77
  },
  {
   "metadata": {
    "ExecuteTime": {
     "end_time": "2024-05-08T09:05:26.392465Z",
     "start_time": "2024-05-08T09:05:26.376037Z"
    }
   },
   "cell_type": "code",
   "source": [
    "contingency_table_13 = pd.crosstab(index=AMB_PA['Incont.fec'], columns=SENSE_PA['Incont.fec'])\n",
    "\n",
    "chi2_13, p_value_13, dof_13, expected_13 = chi2_contingency(contingency_table_13)\n",
    "\n",
    "print(\"Estadístic xi-quadrat entre AMB_PA i SENSE_PA:\", chi2_13)\n",
    "print(\"P-valor entre AMB_PA i SENSE_PA:\", p_value_13)\n",
    "\n",
    "if p_value_13 < 0.05:\n",
    "    print(\"Hi ha diferències significatives entre les distribucions d'incontinència fecal en AMB_PA i SENSE_PA.\")\n",
    "else:\n",
    "    print(\"No hi ha diferències significatives entre les distribucions d'incontinència fecal en AMB_PA i SENSE_PA.\")"
   ],
   "id": "2a73a088a4149351",
   "outputs": [
    {
     "name": "stdout",
     "output_type": "stream",
     "text": [
      "Estadístic xi-quadrat entre AMB_PA i SENSE_PA: 0.0\n",
      "P-valor entre AMB_PA i SENSE_PA: 1.0\n",
      "No hi ha diferències significatives entre les distribucions d'incontinència fecal en AMB_PA i SENSE_PA.\n"
     ]
    }
   ],
   "execution_count": 78
  },
  {
   "metadata": {
    "ExecuteTime": {
     "end_time": "2024-05-08T09:05:26.834421Z",
     "start_time": "2024-05-08T09:05:26.783941Z"
    }
   },
   "cell_type": "code",
   "source": [
    "contingency_table_23 = pd.crosstab(index=AMB_PA_MECVV['Incont.fec'], columns=SENSE_PA['Incont.fec'])\n",
    "\n",
    "chi2_23, p_value_23, dof_23, expected_13 = chi2_contingency(contingency_table_23)\n",
    "\n",
    "print(\"Estadístic xi-quadrat entre AMB_PA_MECCV i SENSE_PA:\", chi2_23)\n",
    "print(\"P-valor entre AMB_PA_MECVV i SENSE_PA:\", p_value_23)\n",
    "\n",
    "if p_value_23 < 0.05:\n",
    "    print(\"Hi ha diferències significatives entre les distribucions d'incontinència fecal en AMB_PA_MECVV i SENSE_PA.\")\n",
    "else:\n",
    "    print(\"No hi ha diferències significatives entre les distribucions d'incontinència fecal en AMB_PA_MECVV i SENSE_PA.\")"
   ],
   "id": "82959ceb8ab35c79",
   "outputs": [
    {
     "ename": "ValueError",
     "evalue": "No data; `observed` has size 0.",
     "output_type": "error",
     "traceback": [
      "\u001B[1;31m---------------------------------------------------------------------------\u001B[0m",
      "\u001B[1;31mValueError\u001B[0m                                Traceback (most recent call last)",
      "Cell \u001B[1;32mIn[79], line 3\u001B[0m\n\u001B[0;32m      1\u001B[0m contingency_table_23 \u001B[38;5;241m=\u001B[39m pd\u001B[38;5;241m.\u001B[39mcrosstab(index\u001B[38;5;241m=\u001B[39mAMB_PA_MECVV[\u001B[38;5;124m'\u001B[39m\u001B[38;5;124mIncont.fec\u001B[39m\u001B[38;5;124m'\u001B[39m], columns\u001B[38;5;241m=\u001B[39mSENSE_PA[\u001B[38;5;124m'\u001B[39m\u001B[38;5;124mIncont.fec\u001B[39m\u001B[38;5;124m'\u001B[39m])\n\u001B[1;32m----> 3\u001B[0m chi2_23, p_value_23, dof_23, expected_13 \u001B[38;5;241m=\u001B[39m \u001B[43mchi2_contingency\u001B[49m\u001B[43m(\u001B[49m\u001B[43mcontingency_table_23\u001B[49m\u001B[43m)\u001B[49m\n\u001B[0;32m      5\u001B[0m \u001B[38;5;28mprint\u001B[39m(\u001B[38;5;124m\"\u001B[39m\u001B[38;5;124mEstadístic xi-quadrat entre AMB_PA_MECCV i SENSE_PA:\u001B[39m\u001B[38;5;124m\"\u001B[39m, chi2_23)\n\u001B[0;32m      6\u001B[0m \u001B[38;5;28mprint\u001B[39m(\u001B[38;5;124m\"\u001B[39m\u001B[38;5;124mP-valor entre AMB_PA_MECVV i SENSE_PA:\u001B[39m\u001B[38;5;124m\"\u001B[39m, p_value_23)\n",
      "File \u001B[1;32m~\\PycharmProjects\\practicum\\.venv\\Lib\\site-packages\\scipy\\stats\\contingency.py:333\u001B[0m, in \u001B[0;36mchi2_contingency\u001B[1;34m(observed, correction, lambda_)\u001B[0m\n\u001B[0;32m    331\u001B[0m     \u001B[38;5;28;01mraise\u001B[39;00m \u001B[38;5;167;01mValueError\u001B[39;00m(\u001B[38;5;124m\"\u001B[39m\u001B[38;5;124mAll values in `observed` must be nonnegative.\u001B[39m\u001B[38;5;124m\"\u001B[39m)\n\u001B[0;32m    332\u001B[0m \u001B[38;5;28;01mif\u001B[39;00m observed\u001B[38;5;241m.\u001B[39msize \u001B[38;5;241m==\u001B[39m \u001B[38;5;241m0\u001B[39m:\n\u001B[1;32m--> 333\u001B[0m     \u001B[38;5;28;01mraise\u001B[39;00m \u001B[38;5;167;01mValueError\u001B[39;00m(\u001B[38;5;124m\"\u001B[39m\u001B[38;5;124mNo data; `observed` has size 0.\u001B[39m\u001B[38;5;124m\"\u001B[39m)\n\u001B[0;32m    335\u001B[0m expected \u001B[38;5;241m=\u001B[39m expected_freq(observed)\n\u001B[0;32m    336\u001B[0m \u001B[38;5;28;01mif\u001B[39;00m np\u001B[38;5;241m.\u001B[39many(expected \u001B[38;5;241m==\u001B[39m \u001B[38;5;241m0\u001B[39m):\n\u001B[0;32m    337\u001B[0m     \u001B[38;5;66;03m# Include one of the positions where expected is zero in\u001B[39;00m\n\u001B[0;32m    338\u001B[0m     \u001B[38;5;66;03m# the exception message.\u001B[39;00m\n",
      "\u001B[1;31mValueError\u001B[0m: No data; `observed` has size 0."
     ]
    }
   ],
   "execution_count": 79
  },
  {
   "metadata": {
    "ExecuteTime": {
     "end_time": "2024-05-08T09:05:27.464369Z",
     "start_time": "2024-05-08T09:05:27.443691Z"
    }
   },
   "cell_type": "code",
   "source": [
    "contingency_table_14 = pd.crosstab(index=AMB_PA['Incont.fec'], columns=TOTAL['Incont.fec'])\n",
    "\n",
    "chi2_14, p_value_14, dof_14, expected_14 = chi2_contingency(contingency_table_14)\n",
    "\n",
    "print(\"Estadístic xi-quadrat entre AMB_PA i TOTAL:\", chi2_14)\n",
    "print(\"P-valor entre AMB_PA i TOTAL:\", p_value_14)\n",
    "\n",
    "if p_value_14 < 0.05:\n",
    "    print(\"Hi ha diferències significatives entre les distribucions d'incontinència fecal en AMB_PA i TOTAL.\")\n",
    "else:\n",
    "    print(\"No hi ha diferències significatives entre les distribucions d'incontinència fecal en AMB_PA i TOTAL.\")"
   ],
   "id": "66207b14082651ee",
   "outputs": [
    {
     "name": "stdout",
     "output_type": "stream",
     "text": [
      "Estadístic xi-quadrat entre AMB_PA i TOTAL: 12.524513888888887\n",
      "P-valor entre AMB_PA i TOTAL: 0.00040164738150225485\n",
      "Hi ha diferències significatives entre les distribucions d'incontinència fecal en AMB_PA i TOTAL.\n"
     ]
    }
   ],
   "execution_count": 80
  },
  {
   "metadata": {
    "ExecuteTime": {
     "end_time": "2024-05-08T09:05:27.869239Z",
     "start_time": "2024-05-08T09:05:27.842146Z"
    }
   },
   "cell_type": "code",
   "source": [
    "contingency_table_24 = pd.crosstab(index=AMB_PA_MECVV['Incont.fec'], columns=TOTAL['Incont.fec'])\n",
    "\n",
    "chi2_24, p_value_24, dof_24, expected_24 = chi2_contingency(contingency_table_24)\n",
    "\n",
    "print(\"Estadístic xi-quadrat entre AMB_PA_MECVV i TOTAL:\", chi2_24)\n",
    "print(\"P-valor entre AMB_PA_MECVV i TOTAL:\", p_value_24)\n",
    "\n",
    "if p_value_24 < 0.05:\n",
    "    print(\"Hi ha diferències significatives entre les distribucions d'incontinència fecal en AMB_PA_MECVV i TOTAL.\")\n",
    "else:\n",
    "    print(\"No hi ha diferències significatives entre les distribucions d'incontinència fecal en AMB_PA_MECVV i TOTAL.\")"
   ],
   "id": "b7438dac26021413",
   "outputs": [
    {
     "name": "stdout",
     "output_type": "stream",
     "text": [
      "Estadístic xi-quadrat entre AMB_PA_MECVV i TOTAL: 3.5555555555555554\n",
      "P-valor entre AMB_PA_MECVV i TOTAL: 0.05934643879191998\n",
      "No hi ha diferències significatives entre les distribucions d'incontinència fecal en AMB_PA_MECVV i TOTAL.\n"
     ]
    }
   ],
   "execution_count": 81
  },
  {
   "metadata": {
    "ExecuteTime": {
     "end_time": "2024-05-08T09:05:28.468916Z",
     "start_time": "2024-05-08T09:05:28.456032Z"
    }
   },
   "cell_type": "code",
   "source": [
    "contingency_table_34 = pd.crosstab(index=SENSE_PA['Incont.fec'], columns=TOTAL['Incont.fec'])\n",
    "\n",
    "chi2_34, p_value_34, dof_34, expected_34 = chi2_contingency(contingency_table_34)\n",
    "\n",
    "print(\"Estadístic xi-quadrat entre SENSE_PA i TOTAL:\", chi2_34)\n",
    "print(\"P-valor entre SENSE_PA i TOTAL:\", p_value_34)\n",
    "\n",
    "if p_value_34 < 0.05:\n",
    "    print(\"Hi ha diferències significatives entre les distribucions d'incontinència fecal en SENSE_PA i TOTAL.\")\n",
    "else:\n",
    "    print(\"No hi ha diferències significatives entre les distribucions d'incontinència fecal en SENSE_PA i TOTAL.\")"
   ],
   "id": "46c509b655c5187c",
   "outputs": [
    {
     "name": "stdout",
     "output_type": "stream",
     "text": [
      "Estadístic xi-quadrat entre SENSE_PA i TOTAL: 0.0\n",
      "P-valor entre SENSE_PA i TOTAL: 1.0\n",
      "No hi ha diferències significatives entre les distribucions d'incontinència fecal en SENSE_PA i TOTAL.\n"
     ]
    }
   ],
   "execution_count": 82
  },
  {
   "metadata": {},
   "cell_type": "markdown",
   "source": [
    "## Úlceres de pressió"
   ],
   "id": "65897a5e1d05b6b6"
  },
  {
   "metadata": {
    "ExecuteTime": {
     "end_time": "2024-05-08T09:05:29.020998Z",
     "start_time": "2024-05-08T09:05:29.006460Z"
    }
   },
   "cell_type": "code",
   "source": [
    "up_AMB_PA= (AMB_PA['Úlceres pressió'] == 1.0).mean() * 100\n",
    "print(f\"Percentatge de úlceres de pressió: {up_AMB_PA:.2f}%\")"
   ],
   "id": "bcd7bdbcf538274a",
   "outputs": [
    {
     "name": "stdout",
     "output_type": "stream",
     "text": [
      "Percentatge de úlceres de pressió: 5.88%\n"
     ]
    }
   ],
   "execution_count": 83
  },
  {
   "metadata": {
    "ExecuteTime": {
     "end_time": "2024-05-08T09:05:29.306498Z",
     "start_time": "2024-05-08T09:05:29.301167Z"
    }
   },
   "cell_type": "code",
   "source": [
    "up_AMB_PA_MECVV= (AMB_PA_MECVV['Úlceres pressió'] == 1.0).mean() * 100\n",
    "print(f\"Percentatge de úlceres de pressió: {up_AMB_PA_MECVV:.2f}%\")"
   ],
   "id": "60a8a4eb517c269e",
   "outputs": [
    {
     "name": "stdout",
     "output_type": "stream",
     "text": [
      "Percentatge de úlceres de pressió: 0.00%\n"
     ]
    }
   ],
   "execution_count": 84
  },
  {
   "metadata": {
    "ExecuteTime": {
     "end_time": "2024-05-08T09:05:29.806684Z",
     "start_time": "2024-05-08T09:05:29.798687Z"
    }
   },
   "cell_type": "code",
   "source": [
    "up_SENSE_PA= (SENSE_PA['Úlceres pressió'] == 1.0).mean() * 100\n",
    "print(f\"Percentatge de úlceres de pressió: {up_SENSE_PA:.2f}%\")"
   ],
   "id": "4f223a88742c194a",
   "outputs": [
    {
     "name": "stdout",
     "output_type": "stream",
     "text": [
      "Percentatge de úlceres de pressió: 0.00%\n"
     ]
    }
   ],
   "execution_count": 85
  },
  {
   "metadata": {
    "ExecuteTime": {
     "end_time": "2024-05-08T09:05:30.152958Z",
     "start_time": "2024-05-08T09:05:30.142832Z"
    }
   },
   "cell_type": "code",
   "source": [
    "up_TOTAL= (TOTAL['Úlceres pressió'] == 1.0).mean() * 100\n",
    "print(f\"Percentatge de úlceres de pressió: {up_TOTAL:.2f}%\")"
   ],
   "id": "cfff3027971929bf",
   "outputs": [
    {
     "name": "stdout",
     "output_type": "stream",
     "text": [
      "Percentatge de úlceres de pressió: 2.00%\n"
     ]
    }
   ],
   "execution_count": 86
  },
  {
   "metadata": {},
   "cell_type": "markdown",
   "source": "#### Comparació distributiva",
   "id": "c3fe3f599bce65ef"
  },
  {
   "metadata": {},
   "cell_type": "markdown",
   "source": "##### Normalitat i p-valor",
   "id": "930dd9949adee28b"
  },
  {
   "metadata": {
    "ExecuteTime": {
     "end_time": "2024-05-08T09:05:30.689625Z",
     "start_time": "2024-05-08T09:05:30.674655Z"
    }
   },
   "cell_type": "code",
   "source": [
    "contingency_table_12 = pd.crosstab(index=AMB_PA['Úlceres pressió'], columns=AMB_PA_MECVV['Úlceres pressió'])\n",
    "\n",
    "chi2_12, p_value_12, dof_12, expected_12 = chi2_contingency(contingency_table_12)\n",
    "\n",
    "print(\"Estadístic xi-quadrat entre AMB_PA i AMB_PA_MECVV:\", chi2_12)\n",
    "print(\"P-valor entre AMB_PA i AMB_PA_MECVV:\", p_value_12)\n",
    "\n",
    "if p_value_12 < 0.05:\n",
    "    print(\"Hi ha diferències significatives entre les distribucions d'úlceres de pressió en AMB_PA i AMB_PA_MECVV.\")\n",
    "else:\n",
    "    print(\"No hi ha diferències significatives entre les distribucions d'úlceres de pressió en AMB_PA i AMB_PA_MECVV.\")\n"
   ],
   "id": "6293a3abfe3649ba",
   "outputs": [
    {
     "name": "stdout",
     "output_type": "stream",
     "text": [
      "Estadístic xi-quadrat entre AMB_PA i AMB_PA_MECVV: 0.0\n",
      "P-valor entre AMB_PA i AMB_PA_MECVV: 1.0\n",
      "No hi ha diferències significatives entre les distribucions d'úlceres de pressió en AMB_PA i AMB_PA_MECVV.\n"
     ]
    }
   ],
   "execution_count": 87
  },
  {
   "metadata": {
    "ExecuteTime": {
     "end_time": "2024-05-08T09:05:31.081249Z",
     "start_time": "2024-05-08T09:05:31.063595Z"
    }
   },
   "cell_type": "code",
   "source": [
    "contingency_table_13 = pd.crosstab(index=AMB_PA['Úlceres pressió'], columns=SENSE_PA['Úlceres pressió'])\n",
    "\n",
    "chi2_13, p_value_13, dof_13, expected_13 = chi2_contingency(contingency_table_13)\n",
    "\n",
    "print(\"Estadístic xi-quadrat entre AMB_PA i SENSE_PA:\", chi2_13)\n",
    "print(\"P-valor entre AMB_PA i SENSE_PA:\", p_value_13)\n",
    "\n",
    "if p_value_13 < 0.05:\n",
    "    print(\"Hi ha diferències significatives entre les distribucions d'úlceres de pressió en AMB_PA i SENSE_PA.\")\n",
    "else:\n",
    "    print(\"No hi ha diferències significatives entre les distribucions d'úlceres de pressió en AMB_PA i SENSE_PA.\")\n"
   ],
   "id": "3ba7e80f539a2cd8",
   "outputs": [
    {
     "name": "stdout",
     "output_type": "stream",
     "text": [
      "Estadístic xi-quadrat entre AMB_PA i SENSE_PA: 0.0\n",
      "P-valor entre AMB_PA i SENSE_PA: 1.0\n",
      "No hi ha diferències significatives entre les distribucions d'úlceres de pressió en AMB_PA i SENSE_PA.\n"
     ]
    }
   ],
   "execution_count": 88
  },
  {
   "metadata": {
    "ExecuteTime": {
     "end_time": "2024-05-08T09:05:31.782745Z",
     "start_time": "2024-05-08T09:05:31.739046Z"
    }
   },
   "cell_type": "code",
   "source": [
    "contingency_table_23 = pd.crosstab(index=AMB_PA_MECVV['Úlceres pressió'], columns=SENSE_PA['Úlceres pressió'])\n",
    "\n",
    "chi2_23, p_value_23, dof_23, expected_23 = chi2_contingency(contingency_table_23)\n",
    "\n",
    "print(\"Estadístic xi-quadrat entre AMB_PA_MECCV i SENSE_PA:\", chi2_23)\n",
    "print(\"P-valor entre AMB_PA_MECVV i SENSE_PA:\", p_value_23)\n",
    "\n",
    "if p_value_23 < 0.05:\n",
    "    print(\"Hi ha diferències significatives entre les distribucions d'úlceres de pressió en AMB_PA_MECVV i SENSE_PA.\")\n",
    "else:\n",
    "    print(\"No hi ha diferències significatives entre les distribucions d'úlceres de pressió en AMB_PA_MECVV i SENSE_PA.\")"
   ],
   "id": "2119f64854a199b9",
   "outputs": [
    {
     "ename": "ValueError",
     "evalue": "No data; `observed` has size 0.",
     "output_type": "error",
     "traceback": [
      "\u001B[1;31m---------------------------------------------------------------------------\u001B[0m",
      "\u001B[1;31mValueError\u001B[0m                                Traceback (most recent call last)",
      "Cell \u001B[1;32mIn[89], line 3\u001B[0m\n\u001B[0;32m      1\u001B[0m contingency_table_23 \u001B[38;5;241m=\u001B[39m pd\u001B[38;5;241m.\u001B[39mcrosstab(index\u001B[38;5;241m=\u001B[39mAMB_PA_MECVV[\u001B[38;5;124m'\u001B[39m\u001B[38;5;124mÚlceres pressió\u001B[39m\u001B[38;5;124m'\u001B[39m], columns\u001B[38;5;241m=\u001B[39mSENSE_PA[\u001B[38;5;124m'\u001B[39m\u001B[38;5;124mÚlceres pressió\u001B[39m\u001B[38;5;124m'\u001B[39m])\n\u001B[1;32m----> 3\u001B[0m chi2_23, p_value_23, dof_23, expected_23 \u001B[38;5;241m=\u001B[39m \u001B[43mchi2_contingency\u001B[49m\u001B[43m(\u001B[49m\u001B[43mcontingency_table_23\u001B[49m\u001B[43m)\u001B[49m\n\u001B[0;32m      5\u001B[0m \u001B[38;5;28mprint\u001B[39m(\u001B[38;5;124m\"\u001B[39m\u001B[38;5;124mEstadístic xi-quadrat entre AMB_PA_MECCV i SENSE_PA:\u001B[39m\u001B[38;5;124m\"\u001B[39m, chi2_23)\n\u001B[0;32m      6\u001B[0m \u001B[38;5;28mprint\u001B[39m(\u001B[38;5;124m\"\u001B[39m\u001B[38;5;124mP-valor entre AMB_PA_MECVV i SENSE_PA:\u001B[39m\u001B[38;5;124m\"\u001B[39m, p_value_23)\n",
      "File \u001B[1;32m~\\PycharmProjects\\practicum\\.venv\\Lib\\site-packages\\scipy\\stats\\contingency.py:333\u001B[0m, in \u001B[0;36mchi2_contingency\u001B[1;34m(observed, correction, lambda_)\u001B[0m\n\u001B[0;32m    331\u001B[0m     \u001B[38;5;28;01mraise\u001B[39;00m \u001B[38;5;167;01mValueError\u001B[39;00m(\u001B[38;5;124m\"\u001B[39m\u001B[38;5;124mAll values in `observed` must be nonnegative.\u001B[39m\u001B[38;5;124m\"\u001B[39m)\n\u001B[0;32m    332\u001B[0m \u001B[38;5;28;01mif\u001B[39;00m observed\u001B[38;5;241m.\u001B[39msize \u001B[38;5;241m==\u001B[39m \u001B[38;5;241m0\u001B[39m:\n\u001B[1;32m--> 333\u001B[0m     \u001B[38;5;28;01mraise\u001B[39;00m \u001B[38;5;167;01mValueError\u001B[39;00m(\u001B[38;5;124m\"\u001B[39m\u001B[38;5;124mNo data; `observed` has size 0.\u001B[39m\u001B[38;5;124m\"\u001B[39m)\n\u001B[0;32m    335\u001B[0m expected \u001B[38;5;241m=\u001B[39m expected_freq(observed)\n\u001B[0;32m    336\u001B[0m \u001B[38;5;28;01mif\u001B[39;00m np\u001B[38;5;241m.\u001B[39many(expected \u001B[38;5;241m==\u001B[39m \u001B[38;5;241m0\u001B[39m):\n\u001B[0;32m    337\u001B[0m     \u001B[38;5;66;03m# Include one of the positions where expected is zero in\u001B[39;00m\n\u001B[0;32m    338\u001B[0m     \u001B[38;5;66;03m# the exception message.\u001B[39;00m\n",
      "\u001B[1;31mValueError\u001B[0m: No data; `observed` has size 0."
     ]
    }
   ],
   "execution_count": 89
  },
  {
   "metadata": {
    "ExecuteTime": {
     "end_time": "2024-05-08T09:05:32.242735Z",
     "start_time": "2024-05-08T09:05:32.217767Z"
    }
   },
   "cell_type": "code",
   "source": [
    "contingency_table_14 = pd.crosstab(index=AMB_PA['Úlceres pressió'], columns=TOTAL['Úlceres pressió'])\n",
    "\n",
    "chi2_14, p_value_14, dof_14, expected_14 = chi2_contingency(contingency_table_14)\n",
    "\n",
    "print(\"Estadístic xi-quadrat entre AMB_PA i TOTAL:\", chi2_14)\n",
    "print(\"P-valor entre AMB_PA i TOTAL:\", p_value_14)\n",
    "\n",
    "if p_value_14 < 0.05:\n",
    "    print(\"Hi ha diferències significatives entre les distribucions d'úlceres de pressió en AMB_PA i TOTAL.\")\n",
    "else:\n",
    "    print(\"No hi ha diferències significatives entre les distribucions d'úlceres de pressió en AMB_PA i TOTAL.\")\n"
   ],
   "id": "1db9aeec067c61b6",
   "outputs": [
    {
     "name": "stdout",
     "output_type": "stream",
     "text": [
      "Estadístic xi-quadrat entre AMB_PA i TOTAL: 3.7353515625\n",
      "P-valor entre AMB_PA i TOTAL: 0.053272454982386926\n",
      "No hi ha diferències significatives entre les distribucions d'úlceres de pressió en AMB_PA i TOTAL.\n"
     ]
    }
   ],
   "execution_count": 90
  },
  {
   "metadata": {
    "ExecuteTime": {
     "end_time": "2024-05-08T09:05:32.779545Z",
     "start_time": "2024-05-08T09:05:32.766065Z"
    }
   },
   "cell_type": "code",
   "source": [
    "contingency_table_24 = pd.crosstab(index=AMB_PA_MECVV['Úlceres pressió'], columns=TOTAL['Úlceres pressió'])\n",
    "\n",
    "chi2_24, p_value_24, dof_24, expected_24 = chi2_contingency(contingency_table_24)\n",
    "\n",
    "print(\"Estadístic xi-quadrat entre AMB_PA_MECVV i TOTAL:\", chi2_24)\n",
    "print(\"P-valor entre AMB_PA_MECVV i TOTAL:\", p_value_24)\n",
    "\n",
    "if p_value_24 < 0.05:\n",
    "    print(\"Hi ha diferències significatives entre les distribucions d'úlceres de pressió en AMB_PA_MECVV i TOTAL.\")\n",
    "else:\n",
    "    print(\"No hi ha diferències significatives entre les distribucions d'úlceres de pressió en AMB_PA_MECVV i TOTAL.\")\n"
   ],
   "id": "b8fead5f9e8c3e2e",
   "outputs": [
    {
     "name": "stdout",
     "output_type": "stream",
     "text": [
      "Estadístic xi-quadrat entre AMB_PA_MECVV i TOTAL: 0.0\n",
      "P-valor entre AMB_PA_MECVV i TOTAL: 1.0\n",
      "No hi ha diferències significatives entre les distribucions d'úlceres de pressió en AMB_PA_MECVV i TOTAL.\n"
     ]
    }
   ],
   "execution_count": 91
  },
  {
   "metadata": {
    "ExecuteTime": {
     "end_time": "2024-05-08T09:05:33.296745Z",
     "start_time": "2024-05-08T09:05:33.282164Z"
    }
   },
   "cell_type": "code",
   "source": [
    "contingency_table_34 = pd.crosstab(index=SENSE_PA['Úlceres pressió'], columns=TOTAL['Úlceres pressió'])\n",
    "\n",
    "chi2_34, p_value_34, dof_34, expected_34 = chi2_contingency(contingency_table_34)\n",
    "\n",
    "print(\"Estadístic xi-quadrat entre SENSE_PA i TOTAL:\", chi2_34)\n",
    "print(\"P-valor entre SENSE_PA i TOTAL:\", p_value_34)\n",
    "\n",
    "if p_value_34 < 0.05:\n",
    "    print(\"Hi ha diferències significatives entre les distribucions d'úlceres de pressió en SENSE_PA i TOTAL.\")\n",
    "else:\n",
    "    print(\"No hi ha diferències significatives entre les distribucions d'úlceres de pressió en SENSE_PA i TOTAL.\")\n"
   ],
   "id": "8bd020bbd05b53b4",
   "outputs": [
    {
     "name": "stdout",
     "output_type": "stream",
     "text": [
      "Estadístic xi-quadrat entre SENSE_PA i TOTAL: 0.0\n",
      "P-valor entre SENSE_PA i TOTAL: 1.0\n",
      "No hi ha diferències significatives entre les distribucions d'úlceres de pressió en SENSE_PA i TOTAL.\n"
     ]
    }
   ],
   "execution_count": 92
  },
  {
   "metadata": {},
   "cell_type": "markdown",
   "source": "## Immobilitat",
   "id": "9a5af8b151f24d"
  },
  {
   "metadata": {
    "ExecuteTime": {
     "end_time": "2024-05-08T09:05:33.590140Z",
     "start_time": "2024-05-08T09:05:33.581319Z"
    }
   },
   "cell_type": "code",
   "source": [
    "imm_AMB_PA= (AMB_PA['Immobilitat'] == 1.0).mean() * 100\n",
    "print(f\"Percentatge d'immobilitat : {imm_AMB_PA:.2f}%\")"
   ],
   "id": "20403b79d0d107f1",
   "outputs": [
    {
     "name": "stdout",
     "output_type": "stream",
     "text": [
      "Percentatge d'immobilitat : 0.00%\n"
     ]
    }
   ],
   "execution_count": 93
  },
  {
   "metadata": {
    "ExecuteTime": {
     "end_time": "2024-05-08T09:05:34.098120Z",
     "start_time": "2024-05-08T09:05:34.085021Z"
    }
   },
   "cell_type": "code",
   "source": [
    "imm_AMB_PA_MECVV= (AMB_PA_MECVV['Immobilitat'] == 1.0).mean() * 100\n",
    "print(f\"Percentatge d'immobilitat : {imm_AMB_PA_MECVV:.2f}%\")"
   ],
   "id": "c0213526b1aa2176",
   "outputs": [
    {
     "name": "stdout",
     "output_type": "stream",
     "text": [
      "Percentatge d'immobilitat : 0.00%\n"
     ]
    }
   ],
   "execution_count": 94
  },
  {
   "metadata": {
    "ExecuteTime": {
     "end_time": "2024-05-08T09:05:34.442159Z",
     "start_time": "2024-05-08T09:05:34.436504Z"
    }
   },
   "cell_type": "code",
   "source": [
    "imm_SENSE_PA= (SENSE_PA['Immobilitat'] == 1.0).mean() * 100\n",
    "print(f\"Percentatge d'immobilitat : {imm_SENSE_PA:.2f}%\")"
   ],
   "id": "74a797ae927f6554",
   "outputs": [
    {
     "name": "stdout",
     "output_type": "stream",
     "text": [
      "Percentatge d'immobilitat : 0.00%\n"
     ]
    }
   ],
   "execution_count": 95
  },
  {
   "metadata": {
    "ExecuteTime": {
     "end_time": "2024-05-08T09:05:35.150550Z",
     "start_time": "2024-05-08T09:05:35.145428Z"
    }
   },
   "cell_type": "code",
   "source": [
    "imm_TOTAL= (TOTAL['Immobilitat'] == 1.0).mean() * 100\n",
    "print(f\"Percentatge d'immobilitat : {imm_TOTAL:.2f}%\")"
   ],
   "id": "a3e7b830604aff3c",
   "outputs": [
    {
     "name": "stdout",
     "output_type": "stream",
     "text": [
      "Percentatge d'immobilitat : 0.00%\n"
     ]
    }
   ],
   "execution_count": 96
  },
  {
   "metadata": {},
   "cell_type": "markdown",
   "source": "#### Comparació distributiva",
   "id": "be6caeebf7499d9b"
  },
  {
   "metadata": {},
   "cell_type": "markdown",
   "source": "##### Normalitat i p-valor ",
   "id": "aa4a2989248ba61e"
  },
  {
   "metadata": {
    "ExecuteTime": {
     "end_time": "2024-05-08T09:05:35.929006Z",
     "start_time": "2024-05-08T09:05:35.898510Z"
    }
   },
   "cell_type": "code",
   "source": [
    "contingency_table_12 = pd.crosstab(index=AMB_PA['Immobilitat'], columns=AMB_PA_MECVV['Immobilitat']) \n",
    " \n",
    "chi2_12, p_value_12, dof_12, expected_12 = chi2_contingency(contingency_table_12) \n",
    " \n",
    "print(\"Estadístic xi-quadrat entre AMB_PA i AMB_PA_MECVV:\", chi2_12) \n",
    "print(\"P-valor entre AMB_PA i AMB_PA_MECVV:\", p_value_12) \n",
    " \n",
    "if p_value_12 < 0.05: \n",
    "    print(\"Hi ha diferències significatives entre les distribucions d'immobilitat en AMB_PA i AMB_PA_MECVV.\") \n",
    "else: \n",
    "    print(\"No hi ha diferències significatives entre les distribucions d'immobilitat en AMB_PA i AMB_PA_MECVV.\") "
   ],
   "id": "105064a7aa9dc9d8",
   "outputs": [
    {
     "name": "stdout",
     "output_type": "stream",
     "text": [
      "Estadístic xi-quadrat entre AMB_PA i AMB_PA_MECVV: 0.0\n",
      "P-valor entre AMB_PA i AMB_PA_MECVV: 1.0\n",
      "No hi ha diferències significatives entre les distribucions d'immobilitat en AMB_PA i AMB_PA_MECVV.\n"
     ]
    }
   ],
   "execution_count": 97
  },
  {
   "metadata": {
    "ExecuteTime": {
     "end_time": "2024-05-08T09:05:36.795288Z",
     "start_time": "2024-05-08T09:05:36.767095Z"
    }
   },
   "cell_type": "code",
   "source": [
    "contingency_table_13 = pd.crosstab(index=AMB_PA['Immobilitat'], columns=SENSE_PA['Immobilitat']) \n",
    " \n",
    "chi2_13, p_value_13, dof_13, expected_13 = chi2_contingency(contingency_table_13) \n",
    " \n",
    "print(\"Estadístic xi-quadrat entre AMB_PA i SENSE_PA:\", chi2_13) \n",
    "print(\"P-valor entre AMB_PA i SENSE_PA:\", p_value_13) \n",
    " \n",
    "if p_value_13 < 0.05: \n",
    "    print(\"Hi ha diferències significatives entre les distribucions d'immobilitat en AMB_PA i SENSE_PA.\") \n",
    "else: \n",
    "    print(\"No hi ha diferències significatives entre les distribucions d'immobilitat en AMB_PA i SENSE_PA.\") "
   ],
   "id": "2d3377e567434550",
   "outputs": [
    {
     "name": "stdout",
     "output_type": "stream",
     "text": [
      "Estadístic xi-quadrat entre AMB_PA i SENSE_PA: 0.0\n",
      "P-valor entre AMB_PA i SENSE_PA: 1.0\n",
      "No hi ha diferències significatives entre les distribucions d'immobilitat en AMB_PA i SENSE_PA.\n"
     ]
    }
   ],
   "execution_count": 98
  },
  {
   "metadata": {
    "ExecuteTime": {
     "end_time": "2024-05-08T09:05:37.155143Z",
     "start_time": "2024-05-08T09:05:37.093957Z"
    }
   },
   "cell_type": "code",
   "source": [
    "contingency_table_23 = pd.crosstab(index=AMB_PA_MECVV['Immobilitat'], columns=SENSE_PA['Immobilitat']) \n",
    " \n",
    "chi2_23, p_value_23, dof_23, expected_23 = chi2_contingency(contingency_table_23) \n",
    " \n",
    "print(\"Estadístic xi-quadrat entre AMB_PA_MECCV i SENSE_PA:\", chi2_23) \n",
    "print(\"P-valor entre AMB_PA_MECVV i SENSE_PA:\", p_value_23) \n",
    " \n",
    "if p_value_23 < 0.05: \n",
    "    print(\"Hi ha diferències significatives entre les distribucions d'immobilitat en AMB_PA_MECVV i SENSE_PA.\") \n",
    "else: \n",
    "    print(\"No hi ha diferències significatives entre les distribucions d'immobilitat en AMB_PA_MECVV i SENSE_PA.\") \n"
   ],
   "id": "e1b737f2b2eb5d6a",
   "outputs": [
    {
     "ename": "ValueError",
     "evalue": "No data; `observed` has size 0.",
     "output_type": "error",
     "traceback": [
      "\u001B[1;31m---------------------------------------------------------------------------\u001B[0m",
      "\u001B[1;31mValueError\u001B[0m                                Traceback (most recent call last)",
      "Cell \u001B[1;32mIn[99], line 3\u001B[0m\n\u001B[0;32m      1\u001B[0m contingency_table_23 \u001B[38;5;241m=\u001B[39m pd\u001B[38;5;241m.\u001B[39mcrosstab(index\u001B[38;5;241m=\u001B[39mAMB_PA_MECVV[\u001B[38;5;124m'\u001B[39m\u001B[38;5;124mImmobilitat\u001B[39m\u001B[38;5;124m'\u001B[39m], columns\u001B[38;5;241m=\u001B[39mSENSE_PA[\u001B[38;5;124m'\u001B[39m\u001B[38;5;124mImmobilitat\u001B[39m\u001B[38;5;124m'\u001B[39m]) \n\u001B[1;32m----> 3\u001B[0m chi2_23, p_value_23, dof_23, expected_23 \u001B[38;5;241m=\u001B[39m \u001B[43mchi2_contingency\u001B[49m\u001B[43m(\u001B[49m\u001B[43mcontingency_table_23\u001B[49m\u001B[43m)\u001B[49m \n\u001B[0;32m      5\u001B[0m \u001B[38;5;28mprint\u001B[39m(\u001B[38;5;124m\"\u001B[39m\u001B[38;5;124mEstadístic xi-quadrat entre AMB_PA_MECCV i SENSE_PA:\u001B[39m\u001B[38;5;124m\"\u001B[39m, chi2_23) \n\u001B[0;32m      6\u001B[0m \u001B[38;5;28mprint\u001B[39m(\u001B[38;5;124m\"\u001B[39m\u001B[38;5;124mP-valor entre AMB_PA_MECVV i SENSE_PA:\u001B[39m\u001B[38;5;124m\"\u001B[39m, p_value_23) \n",
      "File \u001B[1;32m~\\PycharmProjects\\practicum\\.venv\\Lib\\site-packages\\scipy\\stats\\contingency.py:333\u001B[0m, in \u001B[0;36mchi2_contingency\u001B[1;34m(observed, correction, lambda_)\u001B[0m\n\u001B[0;32m    331\u001B[0m     \u001B[38;5;28;01mraise\u001B[39;00m \u001B[38;5;167;01mValueError\u001B[39;00m(\u001B[38;5;124m\"\u001B[39m\u001B[38;5;124mAll values in `observed` must be nonnegative.\u001B[39m\u001B[38;5;124m\"\u001B[39m)\n\u001B[0;32m    332\u001B[0m \u001B[38;5;28;01mif\u001B[39;00m observed\u001B[38;5;241m.\u001B[39msize \u001B[38;5;241m==\u001B[39m \u001B[38;5;241m0\u001B[39m:\n\u001B[1;32m--> 333\u001B[0m     \u001B[38;5;28;01mraise\u001B[39;00m \u001B[38;5;167;01mValueError\u001B[39;00m(\u001B[38;5;124m\"\u001B[39m\u001B[38;5;124mNo data; `observed` has size 0.\u001B[39m\u001B[38;5;124m\"\u001B[39m)\n\u001B[0;32m    335\u001B[0m expected \u001B[38;5;241m=\u001B[39m expected_freq(observed)\n\u001B[0;32m    336\u001B[0m \u001B[38;5;28;01mif\u001B[39;00m np\u001B[38;5;241m.\u001B[39many(expected \u001B[38;5;241m==\u001B[39m \u001B[38;5;241m0\u001B[39m):\n\u001B[0;32m    337\u001B[0m     \u001B[38;5;66;03m# Include one of the positions where expected is zero in\u001B[39;00m\n\u001B[0;32m    338\u001B[0m     \u001B[38;5;66;03m# the exception message.\u001B[39;00m\n",
      "\u001B[1;31mValueError\u001B[0m: No data; `observed` has size 0."
     ]
    }
   ],
   "execution_count": 99
  },
  {
   "metadata": {
    "ExecuteTime": {
     "end_time": "2024-05-08T09:05:37.717735Z",
     "start_time": "2024-05-08T09:05:37.702799Z"
    }
   },
   "cell_type": "code",
   "source": [
    "contingency_table_14 = pd.crosstab(index=AMB_PA['Immobilitat'], columns=TOTAL['Immobilitat']) \n",
    " \n",
    "chi2_14, p_value_14, dof_14, expected_14 = chi2_contingency(contingency_table_14) \n",
    " \n",
    "print(\"Estadístic xi-quadrat entre AMB_PA i TOTAL:\", chi2_14) \n",
    "print(\"P-valor entre AMB_PA i TOTAL:\", p_value_14) \n",
    " \n",
    "if p_value_14 < 0.05: \n",
    "    print(\"Hi ha diferències significatives entre les distribucions d'immobilitat en AMB_PA i TOTAL.\") \n",
    "else: \n",
    "    print(\"No hi ha diferències significatives entre les distribucions d'immobilitat en AMB_PA i TOTAL.\") "
   ],
   "id": "947da9bdc753520a",
   "outputs": [
    {
     "name": "stdout",
     "output_type": "stream",
     "text": [
      "Estadístic xi-quadrat entre AMB_PA i TOTAL: 0.0\n",
      "P-valor entre AMB_PA i TOTAL: 1.0\n",
      "No hi ha diferències significatives entre les distribucions d'immobilitat en AMB_PA i TOTAL.\n"
     ]
    }
   ],
   "execution_count": 100
  },
  {
   "metadata": {
    "ExecuteTime": {
     "end_time": "2024-05-08T09:05:38.313762Z",
     "start_time": "2024-05-08T09:05:38.300492Z"
    }
   },
   "cell_type": "code",
   "source": [
    "contingency_table_24 = pd.crosstab(index=AMB_PA_MECVV['Immobilitat'], columns=TOTAL['Immobilitat']) \n",
    " \n",
    "chi2_24, p_value_24, dof_24, expected_24 = chi2_contingency(contingency_table_24) \n",
    " \n",
    "print(\"Estadístic xi-quadrat entre AMB_PA_MECVV i TOTAL:\", chi2_24) \n",
    "print(\"P-valor entre AMB_PA_MECVV i TOTAL:\", p_value_24) \n",
    " \n",
    "if p_value_24 < 0.05: \n",
    "    print(\"Hi ha diferències significatives entre les distribucions d'immobilitat en AMB_PA_MECVV i TOTAL.\") \n",
    "else: \n",
    "    print(\"No hi ha diferències significatives entre les distribucions d'immobilitat en AMB_PA_MECVV i TOTAL.\") "
   ],
   "id": "896efe64fefba527",
   "outputs": [
    {
     "name": "stdout",
     "output_type": "stream",
     "text": [
      "Estadístic xi-quadrat entre AMB_PA_MECVV i TOTAL: 0.0\n",
      "P-valor entre AMB_PA_MECVV i TOTAL: 1.0\n",
      "No hi ha diferències significatives entre les distribucions d'immobilitat en AMB_PA_MECVV i TOTAL.\n"
     ]
    }
   ],
   "execution_count": 101
  },
  {
   "metadata": {
    "ExecuteTime": {
     "end_time": "2024-05-08T09:05:38.682539Z",
     "start_time": "2024-05-08T09:05:38.668789Z"
    }
   },
   "cell_type": "code",
   "source": [
    "contingency_table_34 = pd.crosstab(index=SENSE_PA['Immobilitat'], columns=TOTAL['Immobilitat']) \n",
    " \n",
    "chi2_34, p_value_34, dof_34, expected_34 = chi2_contingency(contingency_table_34) \n",
    " \n",
    "print(\"Estadístic xi-quadrat entre SENSE_PA i TOTAL:\", chi2_34) \n",
    "print(\"P-valor entre SENSE_PA i TOTAL:\", p_value_34) \n",
    " \n",
    "if p_value_34 < 0.05: \n",
    "    print(\"Hi ha diferències significatives entre les distribucions d'immobilitat en SENSE_PA i TOTAL.\") \n",
    "else: \n",
    "    print(\"No hi ha diferències significatives entre les distribucions d'immobilitat en SENSE_PA i TOTAL.\") "
   ],
   "id": "76ec2e889ed7646b",
   "outputs": [
    {
     "name": "stdout",
     "output_type": "stream",
     "text": [
      "Estadístic xi-quadrat entre SENSE_PA i TOTAL: 0.0\n",
      "P-valor entre SENSE_PA i TOTAL: 1.0\n",
      "No hi ha diferències significatives entre les distribucions d'immobilitat en SENSE_PA i TOTAL.\n"
     ]
    }
   ],
   "execution_count": 102
  },
  {
   "metadata": {},
   "cell_type": "markdown",
   "source": [
    "## Confusió"
   ],
   "id": "8ec2d07541f7c217"
  },
  {
   "metadata": {
    "ExecuteTime": {
     "end_time": "2024-05-08T09:05:39.301689Z",
     "start_time": "2024-05-08T09:05:39.295548Z"
    }
   },
   "cell_type": "code",
   "source": [
    "conf_AMB_PA= (AMB_PA['Confusió'] == 1.0).mean() * 100\n",
    "print(f\"Percentatge de confusió : {conf_AMB_PA:.2f}%\")"
   ],
   "id": "c2abcafcb2c060aa",
   "outputs": [
    {
     "name": "stdout",
     "output_type": "stream",
     "text": [
      "Percentatge de confusió : 23.53%\n"
     ]
    }
   ],
   "execution_count": 103
  },
  {
   "metadata": {
    "ExecuteTime": {
     "end_time": "2024-05-08T09:05:39.924972Z",
     "start_time": "2024-05-08T09:05:39.914960Z"
    }
   },
   "cell_type": "code",
   "source": [
    "conf_AMB_PA_MECVV= (AMB_PA_MECVV['Confusió'] == 1.0).mean() * 100\n",
    "print(f\"Percentatge de confusió : {conf_AMB_PA_MECVV:.2f}%\")"
   ],
   "id": "941d58bd902a33ba",
   "outputs": [
    {
     "name": "stdout",
     "output_type": "stream",
     "text": [
      "Percentatge de confusió : 25.00%\n"
     ]
    }
   ],
   "execution_count": 104
  },
  {
   "metadata": {
    "ExecuteTime": {
     "end_time": "2024-05-08T09:05:40.434903Z",
     "start_time": "2024-05-08T09:05:40.425396Z"
    }
   },
   "cell_type": "code",
   "source": [
    "conf_SENSE_PA= (SENSE_PA['Confusió'] == 1.0).mean() * 100\n",
    "print(f\"Percentatge de confusió : {conf_SENSE_PA:.2f}%\")"
   ],
   "id": "c0af511c6c97d577",
   "outputs": [
    {
     "name": "stdout",
     "output_type": "stream",
     "text": [
      "Percentatge de confusió : 62.50%\n"
     ]
    }
   ],
   "execution_count": 105
  },
  {
   "metadata": {
    "ExecuteTime": {
     "end_time": "2024-05-08T09:05:40.766663Z",
     "start_time": "2024-05-08T09:05:40.759535Z"
    }
   },
   "cell_type": "code",
   "source": [
    "conf_TOTAL= (TOTAL['Confusió'] == 1.0).mean() * 100\n",
    "print(f\"Percentatge de confusió : {conf_TOTAL:.2f}%\")"
   ],
   "id": "c80e0d02dc2fdb37",
   "outputs": [
    {
     "name": "stdout",
     "output_type": "stream",
     "text": [
      "Percentatge de confusió : 20.00%\n"
     ]
    }
   ],
   "execution_count": 106
  },
  {
   "metadata": {},
   "cell_type": "markdown",
   "source": "#### Comparació distributiva",
   "id": "9e49773c6fbd88f"
  },
  {
   "metadata": {},
   "cell_type": "markdown",
   "source": "##### Normalitat i p-valor ",
   "id": "ea0b0c90affa5182"
  },
  {
   "metadata": {
    "ExecuteTime": {
     "end_time": "2024-05-08T09:05:41.254668Z",
     "start_time": "2024-05-08T09:05:41.240604Z"
    }
   },
   "cell_type": "code",
   "source": [
    "contingency_table_12 = pd.crosstab(index=AMB_PA['Confusió'], columns=AMB_PA_MECVV['Confusió']) \n",
    " \n",
    "chi2_12, p_value_12, dof_12, expected_12 = chi2_contingency(contingency_table_12) \n",
    " \n",
    "print(\"Estadístic xi-quadrat entre AMB_PA i AMB_PA_MECVV:\", chi2_12) \n",
    "print(\"P-valor entre AMB_PA i AMB_PA_MECVV:\", p_value_12) \n",
    " \n",
    "if p_value_12 < 0.05: \n",
    "    print(\"Hi ha diferències significatives entre les distribucions de confusió en AMB_PA i AMB_PA_MECVV.\") \n",
    "else: \n",
    "    print(\"No hi ha diferències significatives entre les distribucions de confusió en AMB_PA i AMB_PA_MECVV.\") "
   ],
   "id": "ce8a928d50430780",
   "outputs": [
    {
     "name": "stdout",
     "output_type": "stream",
     "text": [
      "Estadístic xi-quadrat entre AMB_PA i AMB_PA_MECVV: 2.34375\n",
      "P-valor entre AMB_PA i AMB_PA_MECVV: 0.12578642463893994\n",
      "No hi ha diferències significatives entre les distribucions de confusió en AMB_PA i AMB_PA_MECVV.\n"
     ]
    }
   ],
   "execution_count": 107
  },
  {
   "metadata": {
    "ExecuteTime": {
     "end_time": "2024-05-08T09:05:41.613023Z",
     "start_time": "2024-05-08T09:05:41.594108Z"
    }
   },
   "cell_type": "code",
   "source": [
    "contingency_table_13 = pd.crosstab(index=AMB_PA['Confusió'], columns=SENSE_PA['Confusió']) \n",
    " \n",
    "chi2_13, p_value_13, dof_13, expected_13 = chi2_contingency(contingency_table_13) \n",
    " \n",
    "print(\"Estadístic xi-quadrat entre AMB_PA i SENSE_PA:\", chi2_13) \n",
    "print(\"P-valor entre AMB_PA i SENSE_PA:\", p_value_13) \n",
    " \n",
    "if p_value_13 < 0.05: \n",
    "    print(\"Hi ha diferències significatives entre les distribucions de confusió en AMB_PA i SENSE_PA.\") \n",
    "else: \n",
    "    print(\"No hi ha diferències significatives entre les distribucions de confusió en AMB_PA i SENSE_PA.\") "
   ],
   "id": "3d8f238d6f85d411",
   "outputs": [
    {
     "name": "stdout",
     "output_type": "stream",
     "text": [
      "Estadístic xi-quadrat entre AMB_PA i SENSE_PA: 0.1875\n",
      "P-valor entre AMB_PA i SENSE_PA: 0.6650055421020291\n",
      "No hi ha diferències significatives entre les distribucions de confusió en AMB_PA i SENSE_PA.\n"
     ]
    }
   ],
   "execution_count": 108
  },
  {
   "metadata": {
    "ExecuteTime": {
     "end_time": "2024-05-08T09:05:42.275251Z",
     "start_time": "2024-05-08T09:05:42.165837Z"
    }
   },
   "cell_type": "code",
   "source": [
    "contingency_table_23 = pd.crosstab(index=AMB_PA_MECVV['Confusió'], columns=SENSE_PA['Confusió']) \n",
    " \n",
    "chi2_23, p_value_23, dof_23, expected_23 = chi2_contingency(contingency_table_23) \n",
    " \n",
    "print(\"Estadístic xi-quadrat entre AMB_PA_MECCV i SENSE_PA:\", chi2_23) \n",
    "print(\"P-valor entre AMB_PA_MECVV i SENSE_PA:\", p_value_23) \n",
    " \n",
    "if p_value_23 < 0.05: \n",
    "    print(\"Hi ha diferències significatives entre les distribucions de confusió en AMB_PA_MECVV i SENSE_PA.\") \n",
    "else: \n",
    "    print(\"No hi ha diferències significatives entre les distribucions de confusió en AMB_PA_MECVV i SENSE_PA.\") "
   ],
   "id": "e607639569d3f433",
   "outputs": [
    {
     "ename": "ValueError",
     "evalue": "No data; `observed` has size 0.",
     "output_type": "error",
     "traceback": [
      "\u001B[1;31m---------------------------------------------------------------------------\u001B[0m",
      "\u001B[1;31mValueError\u001B[0m                                Traceback (most recent call last)",
      "Cell \u001B[1;32mIn[109], line 3\u001B[0m\n\u001B[0;32m      1\u001B[0m contingency_table_23 \u001B[38;5;241m=\u001B[39m pd\u001B[38;5;241m.\u001B[39mcrosstab(index\u001B[38;5;241m=\u001B[39mAMB_PA_MECVV[\u001B[38;5;124m'\u001B[39m\u001B[38;5;124mConfusió\u001B[39m\u001B[38;5;124m'\u001B[39m], columns\u001B[38;5;241m=\u001B[39mSENSE_PA[\u001B[38;5;124m'\u001B[39m\u001B[38;5;124mConfusió\u001B[39m\u001B[38;5;124m'\u001B[39m]) \n\u001B[1;32m----> 3\u001B[0m chi2_23, p_value_23, dof_23, expected_23 \u001B[38;5;241m=\u001B[39m \u001B[43mchi2_contingency\u001B[49m\u001B[43m(\u001B[49m\u001B[43mcontingency_table_23\u001B[49m\u001B[43m)\u001B[49m \n\u001B[0;32m      5\u001B[0m \u001B[38;5;28mprint\u001B[39m(\u001B[38;5;124m\"\u001B[39m\u001B[38;5;124mEstadístic xi-quadrat entre AMB_PA_MECCV i SENSE_PA:\u001B[39m\u001B[38;5;124m\"\u001B[39m, chi2_23) \n\u001B[0;32m      6\u001B[0m \u001B[38;5;28mprint\u001B[39m(\u001B[38;5;124m\"\u001B[39m\u001B[38;5;124mP-valor entre AMB_PA_MECVV i SENSE_PA:\u001B[39m\u001B[38;5;124m\"\u001B[39m, p_value_23) \n",
      "File \u001B[1;32m~\\PycharmProjects\\practicum\\.venv\\Lib\\site-packages\\scipy\\stats\\contingency.py:333\u001B[0m, in \u001B[0;36mchi2_contingency\u001B[1;34m(observed, correction, lambda_)\u001B[0m\n\u001B[0;32m    331\u001B[0m     \u001B[38;5;28;01mraise\u001B[39;00m \u001B[38;5;167;01mValueError\u001B[39;00m(\u001B[38;5;124m\"\u001B[39m\u001B[38;5;124mAll values in `observed` must be nonnegative.\u001B[39m\u001B[38;5;124m\"\u001B[39m)\n\u001B[0;32m    332\u001B[0m \u001B[38;5;28;01mif\u001B[39;00m observed\u001B[38;5;241m.\u001B[39msize \u001B[38;5;241m==\u001B[39m \u001B[38;5;241m0\u001B[39m:\n\u001B[1;32m--> 333\u001B[0m     \u001B[38;5;28;01mraise\u001B[39;00m \u001B[38;5;167;01mValueError\u001B[39;00m(\u001B[38;5;124m\"\u001B[39m\u001B[38;5;124mNo data; `observed` has size 0.\u001B[39m\u001B[38;5;124m\"\u001B[39m)\n\u001B[0;32m    335\u001B[0m expected \u001B[38;5;241m=\u001B[39m expected_freq(observed)\n\u001B[0;32m    336\u001B[0m \u001B[38;5;28;01mif\u001B[39;00m np\u001B[38;5;241m.\u001B[39many(expected \u001B[38;5;241m==\u001B[39m \u001B[38;5;241m0\u001B[39m):\n\u001B[0;32m    337\u001B[0m     \u001B[38;5;66;03m# Include one of the positions where expected is zero in\u001B[39;00m\n\u001B[0;32m    338\u001B[0m     \u001B[38;5;66;03m# the exception message.\u001B[39;00m\n",
      "\u001B[1;31mValueError\u001B[0m: No data; `observed` has size 0."
     ]
    }
   ],
   "execution_count": 109
  },
  {
   "metadata": {
    "ExecuteTime": {
     "end_time": "2024-05-08T09:05:42.623405Z",
     "start_time": "2024-05-08T09:05:42.607284Z"
    }
   },
   "cell_type": "code",
   "source": [
    "contingency_table_14 = pd.crosstab(index=AMB_PA['Confusió'], columns=TOTAL['Confusió']) \n",
    " \n",
    "chi2_14, p_value_14, dof_14, expected_14 = chi2_contingency(contingency_table_14) \n",
    " \n",
    "print(\"Estadístic xi-quadrat entre AMB_PA i TOTAL:\", chi2_14) \n",
    "print(\"P-valor entre AMB_PA i TOTAL:\", p_value_14) \n",
    " \n",
    "if p_value_14 < 0.05: \n",
    "    print(\"Hi ha diferències significatives entre les distribucions de confusió en AMB_PA i TOTAL.\") \n",
    "else: \n",
    "    print(\"No hi ha diferències significatives entre les distribucions de confusió en AMB_PA i TOTAL.\") "
   ],
   "id": "9c5face3c7a28a58",
   "outputs": [
    {
     "name": "stdout",
     "output_type": "stream",
     "text": [
      "Estadístic xi-quadrat entre AMB_PA i TOTAL: 11.89654215976331\n",
      "P-valor entre AMB_PA i TOTAL: 0.0005623824703676534\n",
      "Hi ha diferències significatives entre les distribucions de confusió en AMB_PA i TOTAL.\n"
     ]
    }
   ],
   "execution_count": 110
  },
  {
   "metadata": {
    "ExecuteTime": {
     "end_time": "2024-05-08T09:05:43.317817Z",
     "start_time": "2024-05-08T09:05:43.304080Z"
    }
   },
   "cell_type": "code",
   "source": [
    "contingency_table_24 = pd.crosstab(index=AMB_PA_MECVV['Confusió'], columns=TOTAL['Confusió']) \n",
    " \n",
    "chi2_24, p_value_24, dof_24, expected_24 = chi2_contingency(contingency_table_24) \n",
    " \n",
    "print(\"Estadístic xi-quadrat entre AMB_PA_MECVV i TOTAL:\", chi2_24) \n",
    "print(\"P-valor entre AMB_PA_MECVV i TOTAL:\", p_value_24) \n",
    " \n",
    "if p_value_24 < 0.05: \n",
    "    print(\"Hi ha diferències significatives entre les distribucions de confusió en AMB_PA_MECVV i TOTAL.\") \n",
    "else: \n",
    "    print(\"No hi ha diferències significatives entre les distribucions de confusió en AMB_PA_MECVV i TOTAL.\") "
   ],
   "id": "92eb6bf4fd8903bf",
   "outputs": [
    {
     "name": "stdout",
     "output_type": "stream",
     "text": [
      "Estadístic xi-quadrat entre AMB_PA_MECVV i TOTAL: 3.5555555555555554\n",
      "P-valor entre AMB_PA_MECVV i TOTAL: 0.05934643879191998\n",
      "No hi ha diferències significatives entre les distribucions de confusió en AMB_PA_MECVV i TOTAL.\n"
     ]
    }
   ],
   "execution_count": 111
  },
  {
   "metadata": {
    "ExecuteTime": {
     "end_time": "2024-05-08T09:05:43.949569Z",
     "start_time": "2024-05-08T09:05:43.930333Z"
    }
   },
   "cell_type": "code",
   "source": [
    "contingency_table_34 = pd.crosstab(index=SENSE_PA['Confusió'], columns=TOTAL['Confusió']) \n",
    " \n",
    "chi2_34, p_value_34, dof_34, expected_34 = chi2_contingency(contingency_table_34) \n",
    " \n",
    "print(\"Estadístic xi-quadrat entre SENSE_PA i TOTAL:\", chi2_34) \n",
    "print(\"P-valor entre SENSE_PA i TOTAL:\", p_value_34) \n",
    " \n",
    "if p_value_34 < 0.05: \n",
    "    print(\"Hi ha diferències significatives entre les distribucions de confusió en SENSE_PA i TOTAL.\") \n",
    "else: \n",
    "    print(\"No hi ha diferències significatives entre les distribucions de confusió en SENSE_PA i TOTAL.\") "
   ],
   "id": "ba063f9c30eeec88",
   "outputs": [
    {
     "name": "stdout",
     "output_type": "stream",
     "text": [
      "Estadístic xi-quadrat entre SENSE_PA i TOTAL: 4.302222222222222\n",
      "P-valor entre SENSE_PA i TOTAL: 0.0380626070324449\n",
      "Hi ha diferències significatives entre les distribucions de confusió en SENSE_PA i TOTAL.\n"
     ]
    }
   ],
   "execution_count": 112
  },
  {
   "metadata": {},
   "cell_type": "markdown",
   "source": [
    "## Osteoporosi"
   ],
   "id": "61e6ce410e08b94f"
  },
  {
   "metadata": {
    "ExecuteTime": {
     "end_time": "2024-05-08T09:05:44.351786Z",
     "start_time": "2024-05-08T09:05:44.340339Z"
    }
   },
   "cell_type": "code",
   "source": [
    "ost_AMB_PA= (AMB_PA['Osteoporosi'] == 1.0).mean() * 100\n",
    "print(f\"Percentatge d'osteoporosi: {ost_AMB_PA:.2f}%\")"
   ],
   "id": "8247aa43b86f14e2",
   "outputs": [
    {
     "name": "stdout",
     "output_type": "stream",
     "text": [
      "Percentatge d'osteoporosi: 0.00%\n"
     ]
    }
   ],
   "execution_count": 113
  },
  {
   "metadata": {
    "ExecuteTime": {
     "end_time": "2024-05-08T09:05:44.870111Z",
     "start_time": "2024-05-08T09:05:44.861769Z"
    }
   },
   "cell_type": "code",
   "source": [
    "ost_AMB_PA_MECVV= (AMB_PA_MECVV['Osteoporosi'] == 1.0).mean() * 100\n",
    "print(f\"Percentatge d'osteoporosi: {ost_AMB_PA_MECVV:.2f}%\")"
   ],
   "id": "88c46ee4b5d48d49",
   "outputs": [
    {
     "name": "stdout",
     "output_type": "stream",
     "text": [
      "Percentatge d'osteoporosi: 0.00%\n"
     ]
    }
   ],
   "execution_count": 114
  },
  {
   "metadata": {
    "ExecuteTime": {
     "end_time": "2024-05-08T09:05:45.189121Z",
     "start_time": "2024-05-08T09:05:45.180113Z"
    }
   },
   "cell_type": "code",
   "source": [
    "ost_SENSE_PA= (SENSE_PA['Osteoporosi'] == 1.0).mean() * 100\n",
    "print(f\"Percentatge d'osteoporosi: {ost_SENSE_PA:.2f}%\")"
   ],
   "id": "404e37bc3d19820d",
   "outputs": [
    {
     "name": "stdout",
     "output_type": "stream",
     "text": [
      "Percentatge d'osteoporosi: 0.00%\n"
     ]
    }
   ],
   "execution_count": 115
  },
  {
   "metadata": {
    "ExecuteTime": {
     "end_time": "2024-05-08T09:05:45.643123Z",
     "start_time": "2024-05-08T09:05:45.636271Z"
    }
   },
   "cell_type": "code",
   "source": [
    "ost_TOTAL= (TOTAL['Osteoporosi'] == 1.0).mean() * 100\n",
    "print(f\"Percentatge d'osteoporosi: {ost_TOTAL:.2f}%\")"
   ],
   "id": "92fee94b127a1611",
   "outputs": [
    {
     "name": "stdout",
     "output_type": "stream",
     "text": [
      "Percentatge d'osteoporosi: 0.00%\n"
     ]
    }
   ],
   "execution_count": 116
  },
  {
   "metadata": {},
   "cell_type": "markdown",
   "source": "#### Comparació distributiva",
   "id": "2be6f72ad24818dd"
  },
  {
   "metadata": {},
   "cell_type": "markdown",
   "source": "##### Normalitat i p-valor",
   "id": "465cf19b84b0b450"
  },
  {
   "metadata": {
    "ExecuteTime": {
     "end_time": "2024-05-08T09:05:46.012467Z",
     "start_time": "2024-05-08T09:05:45.996162Z"
    }
   },
   "cell_type": "code",
   "source": [
    "contingency_table_12 = pd.crosstab(index=AMB_PA['Osteoporosi'], columns=AMB_PA_MECVV['Osteoporosi']) \n",
    " \n",
    "chi2_12, p_value_12, dof_12, expected_12 = chi2_contingency(contingency_table_12) \n",
    " \n",
    "print(\"Estadístic xi-quadrat entre AMB_PA i AMB_PA_MECVV:\", chi2_12) \n",
    "print(\"P-valor entre AMB_PA i AMB_PA_MECVV:\", p_value_12) \n",
    " \n",
    "if p_value_12 < 0.05: \n",
    "    print(\"Hi ha diferències significatives entre les distribucions d'osteoporosi en AMB_PA i AMB_PA_MECVV.\") \n",
    "else: \n",
    "    print(\"No hi ha diferències significatives entre les distribucions d'osteoporosi en AMB_PA i AMB_PA_MECVV.\") "
   ],
   "id": "8c14505ff3b3c8c8",
   "outputs": [
    {
     "name": "stdout",
     "output_type": "stream",
     "text": [
      "Estadístic xi-quadrat entre AMB_PA i AMB_PA_MECVV: 0.0\n",
      "P-valor entre AMB_PA i AMB_PA_MECVV: 1.0\n",
      "No hi ha diferències significatives entre les distribucions d'osteoporosi en AMB_PA i AMB_PA_MECVV.\n"
     ]
    }
   ],
   "execution_count": 117
  },
  {
   "metadata": {
    "ExecuteTime": {
     "end_time": "2024-05-08T09:05:46.714729Z",
     "start_time": "2024-05-08T09:05:46.701307Z"
    }
   },
   "cell_type": "code",
   "source": [
    "contingency_table_13 = pd.crosstab(index=AMB_PA['Osteoporosi'], columns=SENSE_PA['Osteoporosi']) \n",
    " \n",
    "chi2_13, p_value_13, dof_13, expected_13 = chi2_contingency(contingency_table_13) \n",
    " \n",
    "print(\"Estadístic xi-quadrat entre AMB_PA i SENSE_PA:\", chi2_13) \n",
    "print(\"P-valor entre AMB_PA i SENSE_PA:\", p_value_13) \n",
    " \n",
    "if p_value_13 < 0.05: \n",
    "    print(\"Hi ha diferències significatives entre les distribucions d'osteoporosi en AMB_PA i SENSE_PA.\") \n",
    "else: \n",
    "    print(\"No hi ha diferències significatives entre les distribucions d'osteoporosi en AMB_PA i SENSE_PA.\") "
   ],
   "id": "b5cf3824f0cfce6",
   "outputs": [
    {
     "name": "stdout",
     "output_type": "stream",
     "text": [
      "Estadístic xi-quadrat entre AMB_PA i SENSE_PA: 0.0\n",
      "P-valor entre AMB_PA i SENSE_PA: 1.0\n",
      "No hi ha diferències significatives entre les distribucions d'osteoporosi en AMB_PA i SENSE_PA.\n"
     ]
    }
   ],
   "execution_count": 118
  },
  {
   "metadata": {
    "ExecuteTime": {
     "end_time": "2024-05-08T09:05:47.341509Z",
     "start_time": "2024-05-08T09:05:47.289695Z"
    }
   },
   "cell_type": "code",
   "source": [
    "contingency_table_23 = pd.crosstab(index=AMB_PA_MECVV['Osteoporosi'], columns=SENSE_PA['Osteoporosi']) \n",
    " \n",
    "chi2_23, p_value_23, dof_23, expected_23 = chi2_contingency(contingency_table_23) \n",
    " \n",
    "print(\"Estadístic xi-quadrat entre AMB_PA_MECCV i SENSE_PA:\", chi2_23) \n",
    "print(\"P-valor entre AMB_PA_MECVV i SENSE_PA:\", p_value_23) \n",
    " \n",
    "if p_value_23 < 0.05: \n",
    "    print(\"Hi ha diferències significatives entre les distribucions d'osteoporosi en AMB_PA_MECVV i SENSE_PA.\") \n",
    "else: \n",
    "    print(\"No hi ha diferències significatives entre les distribucions d'osteoporosi  en AMB_PA_MECVV i SENSE_PA.\") "
   ],
   "id": "8e5be9d9391c1f70",
   "outputs": [
    {
     "ename": "ValueError",
     "evalue": "No data; `observed` has size 0.",
     "output_type": "error",
     "traceback": [
      "\u001B[1;31m---------------------------------------------------------------------------\u001B[0m",
      "\u001B[1;31mValueError\u001B[0m                                Traceback (most recent call last)",
      "Cell \u001B[1;32mIn[119], line 3\u001B[0m\n\u001B[0;32m      1\u001B[0m contingency_table_23 \u001B[38;5;241m=\u001B[39m pd\u001B[38;5;241m.\u001B[39mcrosstab(index\u001B[38;5;241m=\u001B[39mAMB_PA_MECVV[\u001B[38;5;124m'\u001B[39m\u001B[38;5;124mOsteoporosi\u001B[39m\u001B[38;5;124m'\u001B[39m], columns\u001B[38;5;241m=\u001B[39mSENSE_PA[\u001B[38;5;124m'\u001B[39m\u001B[38;5;124mOsteoporosi\u001B[39m\u001B[38;5;124m'\u001B[39m]) \n\u001B[1;32m----> 3\u001B[0m chi2_23, p_value_23, dof_23, expected_23 \u001B[38;5;241m=\u001B[39m \u001B[43mchi2_contingency\u001B[49m\u001B[43m(\u001B[49m\u001B[43mcontingency_table_23\u001B[49m\u001B[43m)\u001B[49m \n\u001B[0;32m      5\u001B[0m \u001B[38;5;28mprint\u001B[39m(\u001B[38;5;124m\"\u001B[39m\u001B[38;5;124mEstadístic xi-quadrat entre AMB_PA_MECCV i SENSE_PA:\u001B[39m\u001B[38;5;124m\"\u001B[39m, chi2_23) \n\u001B[0;32m      6\u001B[0m \u001B[38;5;28mprint\u001B[39m(\u001B[38;5;124m\"\u001B[39m\u001B[38;5;124mP-valor entre AMB_PA_MECVV i SENSE_PA:\u001B[39m\u001B[38;5;124m\"\u001B[39m, p_value_23) \n",
      "File \u001B[1;32m~\\PycharmProjects\\practicum\\.venv\\Lib\\site-packages\\scipy\\stats\\contingency.py:333\u001B[0m, in \u001B[0;36mchi2_contingency\u001B[1;34m(observed, correction, lambda_)\u001B[0m\n\u001B[0;32m    331\u001B[0m     \u001B[38;5;28;01mraise\u001B[39;00m \u001B[38;5;167;01mValueError\u001B[39;00m(\u001B[38;5;124m\"\u001B[39m\u001B[38;5;124mAll values in `observed` must be nonnegative.\u001B[39m\u001B[38;5;124m\"\u001B[39m)\n\u001B[0;32m    332\u001B[0m \u001B[38;5;28;01mif\u001B[39;00m observed\u001B[38;5;241m.\u001B[39msize \u001B[38;5;241m==\u001B[39m \u001B[38;5;241m0\u001B[39m:\n\u001B[1;32m--> 333\u001B[0m     \u001B[38;5;28;01mraise\u001B[39;00m \u001B[38;5;167;01mValueError\u001B[39;00m(\u001B[38;5;124m\"\u001B[39m\u001B[38;5;124mNo data; `observed` has size 0.\u001B[39m\u001B[38;5;124m\"\u001B[39m)\n\u001B[0;32m    335\u001B[0m expected \u001B[38;5;241m=\u001B[39m expected_freq(observed)\n\u001B[0;32m    336\u001B[0m \u001B[38;5;28;01mif\u001B[39;00m np\u001B[38;5;241m.\u001B[39many(expected \u001B[38;5;241m==\u001B[39m \u001B[38;5;241m0\u001B[39m):\n\u001B[0;32m    337\u001B[0m     \u001B[38;5;66;03m# Include one of the positions where expected is zero in\u001B[39;00m\n\u001B[0;32m    338\u001B[0m     \u001B[38;5;66;03m# the exception message.\u001B[39;00m\n",
      "\u001B[1;31mValueError\u001B[0m: No data; `observed` has size 0."
     ]
    }
   ],
   "execution_count": 119
  },
  {
   "metadata": {
    "ExecuteTime": {
     "end_time": "2024-05-08T09:05:47.885656Z",
     "start_time": "2024-05-08T09:05:47.869463Z"
    }
   },
   "cell_type": "code",
   "source": [
    "contingency_table_14 = pd.crosstab(index=AMB_PA['Osteoporosi'], columns=TOTAL['Osteoporosi']) \n",
    " \n",
    "chi2_14, p_value_14, dof_14, expected_14 = chi2_contingency(contingency_table_14) \n",
    " \n",
    "print(\"Estadístic xi-quadrat entre AMB_PA i TOTAL:\", chi2_14) \n",
    "print(\"P-valor entre AMB_PA i TOTAL:\", p_value_14) \n",
    " \n",
    "if p_value_14 < 0.05: \n",
    "    print(\"Hi ha diferències significatives entre les distribucions d'osteoporosi en AMB_PA i TOTAL.\") \n",
    "else: \n",
    "    print(\"No hi ha diferències significatives entre les distribucions d'osteoporosi en AMB_PA i TOTAL.\") "
   ],
   "id": "70b845ee5d4f97dd",
   "outputs": [
    {
     "name": "stdout",
     "output_type": "stream",
     "text": [
      "Estadístic xi-quadrat entre AMB_PA i TOTAL: 0.0\n",
      "P-valor entre AMB_PA i TOTAL: 1.0\n",
      "No hi ha diferències significatives entre les distribucions d'osteoporosi en AMB_PA i TOTAL.\n"
     ]
    }
   ],
   "execution_count": 120
  },
  {
   "metadata": {
    "ExecuteTime": {
     "end_time": "2024-05-08T09:05:48.265876Z",
     "start_time": "2024-05-08T09:05:48.251979Z"
    }
   },
   "cell_type": "code",
   "source": [
    "contingency_table_24 = pd.crosstab(index=AMB_PA_MECVV['Osteoporosi'], columns=TOTAL['Osteoporosi']) \n",
    " \n",
    "chi2_24, p_value_24, dof_24, expected_24 = chi2_contingency(contingency_table_24) \n",
    " \n",
    "print(\"Estadístic xi-quadrat entre AMB_PA_MECVV i TOTAL:\", chi2_24) \n",
    "print(\"P-valor entre AMB_PA_MECVV i TOTAL:\", p_value_24) \n",
    " \n",
    "if p_value_24 < 0.05: \n",
    "    print(\"Hi ha diferències significatives entre les distribucions d'osteoporosi en AMB_PA_MECVV i TOTAL.\") \n",
    "else: \n",
    "    print(\"No hi ha diferències significatives entre les distribucions d'osteoporosi en AMB_PA_MECVV i TOTAL.\") "
   ],
   "id": "88666b3d44d84911",
   "outputs": [
    {
     "name": "stdout",
     "output_type": "stream",
     "text": [
      "Estadístic xi-quadrat entre AMB_PA_MECVV i TOTAL: 0.0\n",
      "P-valor entre AMB_PA_MECVV i TOTAL: 1.0\n",
      "No hi ha diferències significatives entre les distribucions d'osteoporosi en AMB_PA_MECVV i TOTAL.\n"
     ]
    }
   ],
   "execution_count": 121
  },
  {
   "metadata": {
    "ExecuteTime": {
     "end_time": "2024-05-08T09:05:48.704655Z",
     "start_time": "2024-05-08T09:05:48.682288Z"
    }
   },
   "cell_type": "code",
   "source": [
    "contingency_table_34 = pd.crosstab(index=SENSE_PA['Osteoporosi'], columns=TOTAL['Osteoporosi']) \n",
    " \n",
    "chi2_34, p_value_34, dof_34, expected_34 = chi2_contingency(contingency_table_34) \n",
    " \n",
    "print(\"Estadístic xi-quadrat entre SENSE_PA i TOTAL:\", chi2_34) \n",
    "print(\"P-valor entre SENSE_PA i TOTAL:\", p_value_34) \n",
    " \n",
    "if p_value_34 < 0.05: \n",
    "    print(\"Hi ha diferències significatives entre les distribucions d'osteoporosi en SENSE_PA i TOTAL.\") \n",
    "else: \n",
    "    print(\"No hi ha diferències significatives entre les distribucions d'osteoporosi en SENSE_PA i TOTAL.\") "
   ],
   "id": "7c2a35c069a333c",
   "outputs": [
    {
     "name": "stdout",
     "output_type": "stream",
     "text": [
      "Estadístic xi-quadrat entre SENSE_PA i TOTAL: 0.0\n",
      "P-valor entre SENSE_PA i TOTAL: 1.0\n",
      "No hi ha diferències significatives entre les distribucions d'osteoporosi en SENSE_PA i TOTAL.\n"
     ]
    }
   ],
   "execution_count": 122
  },
  {
   "metadata": {},
   "cell_type": "markdown",
   "source": [
    "## Sarcopènia"
   ],
   "id": "35ba4b3163204f8f"
  },
  {
   "metadata": {
    "ExecuteTime": {
     "end_time": "2024-05-08T09:05:49.032546Z",
     "start_time": "2024-05-08T09:05:49.025723Z"
    }
   },
   "cell_type": "code",
   "source": [
    "sarc_AMB_PA= (AMB_PA['Sarcopènia'] == 1.0).mean() * 100\n",
    "print(f\"Percentatge de sarcopènia: {sarc_AMB_PA:.2f}%\")"
   ],
   "id": "2dc59c7080dd50bc",
   "outputs": [
    {
     "name": "stdout",
     "output_type": "stream",
     "text": [
      "Percentatge de sarcopènia: 0.00%\n"
     ]
    }
   ],
   "execution_count": 123
  },
  {
   "metadata": {
    "ExecuteTime": {
     "end_time": "2024-05-08T09:05:49.590752Z",
     "start_time": "2024-05-08T09:05:49.584078Z"
    }
   },
   "cell_type": "code",
   "source": [
    "sarc_AMB_PA_MECVV= (AMB_PA_MECVV['Sarcopènia'] == 1.0).mean() * 100\n",
    "print(f\"Percentatge de sarcopènia: {sarc_AMB_PA_MECVV:.2f}%\")"
   ],
   "id": "f4cd16f08eac0ddb",
   "outputs": [
    {
     "name": "stdout",
     "output_type": "stream",
     "text": [
      "Percentatge de sarcopènia: 0.00%\n"
     ]
    }
   ],
   "execution_count": 124
  },
  {
   "metadata": {
    "ExecuteTime": {
     "end_time": "2024-05-08T09:05:49.963874Z",
     "start_time": "2024-05-08T09:05:49.956421Z"
    }
   },
   "cell_type": "code",
   "source": [
    "sarc_SENSE_PA= (SENSE_PA['Sarcopènia'] == 1.0).mean() * 100\n",
    "print(f\"Percentatge de sarcopènia: {sarc_SENSE_PA:.2f}%\")"
   ],
   "id": "244c4f6987003814",
   "outputs": [
    {
     "name": "stdout",
     "output_type": "stream",
     "text": [
      "Percentatge de sarcopènia: 12.50%\n"
     ]
    }
   ],
   "execution_count": 125
  },
  {
   "metadata": {
    "ExecuteTime": {
     "end_time": "2024-05-08T09:05:50.694277Z",
     "start_time": "2024-05-08T09:05:50.688444Z"
    }
   },
   "cell_type": "code",
   "source": [
    "sarc_TOTAL= (TOTAL['Sarcopènia'] == 1.0).mean() * 100\n",
    "print(f\"Percentatge de sarcopènia: {sarc_TOTAL:.2f}%\")"
   ],
   "id": "a0b8c1444c749b32",
   "outputs": [
    {
     "name": "stdout",
     "output_type": "stream",
     "text": [
      "Percentatge de sarcopènia: 4.00%\n"
     ]
    }
   ],
   "execution_count": 126
  },
  {
   "metadata": {},
   "cell_type": "markdown",
   "source": "#### Comparació distributiva",
   "id": "89f3f7bdbee9d96d"
  },
  {
   "metadata": {},
   "cell_type": "markdown",
   "source": "##### Normalitat i p-valor",
   "id": "211f5c215b14bcfb"
  },
  {
   "metadata": {
    "ExecuteTime": {
     "end_time": "2024-05-08T09:05:51.091219Z",
     "start_time": "2024-05-08T09:05:51.077322Z"
    }
   },
   "cell_type": "code",
   "source": [
    "contingency_table_12 = pd.crosstab(index=AMB_PA['Sarcopènia'], columns=AMB_PA_MECVV['Sarcopènia']) \n",
    " \n",
    "chi2_12, p_value_12, dof_12, expected_12 = chi2_contingency(contingency_table_12) \n",
    " \n",
    "print(\"Estadístic xi-quadrat entre AMB_PA i AMB_PA_MECVV:\", chi2_12) \n",
    "print(\"P-valor entre AMB_PA i AMB_PA_MECVV:\", p_value_12) \n",
    " \n",
    "if p_value_12 < 0.05: \n",
    "    print(\"Hi ha diferències significatives entre les distribucions de sarcopènia en AMB_PA i AMB_PA_MECVV.\") \n",
    "else: \n",
    "    print(\"No hi ha diferències significatives entre les distribucions de sarcopènia en AMB_PA i AMB_PA_MECVV.\") "
   ],
   "id": "313be6964130b7aa",
   "outputs": [
    {
     "name": "stdout",
     "output_type": "stream",
     "text": [
      "Estadístic xi-quadrat entre AMB_PA i AMB_PA_MECVV: 0.0\n",
      "P-valor entre AMB_PA i AMB_PA_MECVV: 1.0\n",
      "No hi ha diferències significatives entre les distribucions de sarcopènia en AMB_PA i AMB_PA_MECVV.\n"
     ]
    }
   ],
   "execution_count": 127
  },
  {
   "metadata": {
    "ExecuteTime": {
     "end_time": "2024-05-08T09:05:51.671301Z",
     "start_time": "2024-05-08T09:05:51.655503Z"
    }
   },
   "cell_type": "code",
   "source": [
    "contingency_table_13 = pd.crosstab(index=AMB_PA['Sarcopènia'], columns=SENSE_PA['Sarcopènia']) \n",
    " \n",
    "chi2_13, p_value_13, dof_13, expected_13 = chi2_contingency(contingency_table_13) \n",
    " \n",
    "print(\"Estadístic xi-quadrat entre AMB_PA i SENSE_PA:\", chi2_13) \n",
    "print(\"P-valor entre AMB_PA i SENSE_PA:\", p_value_13) \n",
    " \n",
    "if p_value_13 < 0.05: \n",
    "    print(\"Hi ha diferències significatives entre les distribucions de sarcopènia en AMB_PA i SENSE_PA.\") \n",
    "else: \n",
    "    print(\"No hi ha diferències significatives entre les distribucions de sarcopènia AMB_PA i SENSE_PA.\") "
   ],
   "id": "311f77406d30370b",
   "outputs": [
    {
     "name": "stdout",
     "output_type": "stream",
     "text": [
      "Estadístic xi-quadrat entre AMB_PA i SENSE_PA: 0.0\n",
      "P-valor entre AMB_PA i SENSE_PA: 1.0\n",
      "No hi ha diferències significatives entre les distribucions de sarcopènia AMB_PA i SENSE_PA.\n"
     ]
    }
   ],
   "execution_count": 128
  },
  {
   "metadata": {
    "ExecuteTime": {
     "end_time": "2024-05-08T09:05:52.306195Z",
     "start_time": "2024-05-08T09:05:52.268352Z"
    }
   },
   "cell_type": "code",
   "source": [
    "contingency_table_23 = pd.crosstab(index=AMB_PA_MECVV['Sarcopènia'], columns=SENSE_PA['Sarcopènia']) \n",
    " \n",
    "chi2_23, p_value_23, dof_23, expected_23 = chi2_contingency(contingency_table_23) \n",
    " \n",
    "print(\"Estadístic xi-quadrat entre AMB_PA_MECCV i SENSE_PA:\", chi2_23) \n",
    "print(\"P-valor entre AMB_PA_MECVV i SENSE_PA:\", p_value_23) \n",
    " \n",
    "if p_value_23 < 0.05: \n",
    "    print(\"Hi ha diferències significatives entre les distribucions de sarcopènia en AMB_PA_MECVV i SENSE_PA.\") \n",
    "else: \n",
    "    print(\"No hi ha diferències significatives entre les distribucions de sarcopènia en AMB_PA_MECVV i SENSE_PA.\") "
   ],
   "id": "2fd5fff672c1e53",
   "outputs": [
    {
     "ename": "ValueError",
     "evalue": "No data; `observed` has size 0.",
     "output_type": "error",
     "traceback": [
      "\u001B[1;31m---------------------------------------------------------------------------\u001B[0m",
      "\u001B[1;31mValueError\u001B[0m                                Traceback (most recent call last)",
      "Cell \u001B[1;32mIn[129], line 3\u001B[0m\n\u001B[0;32m      1\u001B[0m contingency_table_23 \u001B[38;5;241m=\u001B[39m pd\u001B[38;5;241m.\u001B[39mcrosstab(index\u001B[38;5;241m=\u001B[39mAMB_PA_MECVV[\u001B[38;5;124m'\u001B[39m\u001B[38;5;124mSarcopènia\u001B[39m\u001B[38;5;124m'\u001B[39m], columns\u001B[38;5;241m=\u001B[39mSENSE_PA[\u001B[38;5;124m'\u001B[39m\u001B[38;5;124mSarcopènia\u001B[39m\u001B[38;5;124m'\u001B[39m]) \n\u001B[1;32m----> 3\u001B[0m chi2_23, p_value_23, dof_23, expected_23 \u001B[38;5;241m=\u001B[39m \u001B[43mchi2_contingency\u001B[49m\u001B[43m(\u001B[49m\u001B[43mcontingency_table_23\u001B[49m\u001B[43m)\u001B[49m \n\u001B[0;32m      5\u001B[0m \u001B[38;5;28mprint\u001B[39m(\u001B[38;5;124m\"\u001B[39m\u001B[38;5;124mEstadístic xi-quadrat entre AMB_PA_MECCV i SENSE_PA:\u001B[39m\u001B[38;5;124m\"\u001B[39m, chi2_23) \n\u001B[0;32m      6\u001B[0m \u001B[38;5;28mprint\u001B[39m(\u001B[38;5;124m\"\u001B[39m\u001B[38;5;124mP-valor entre AMB_PA_MECVV i SENSE_PA:\u001B[39m\u001B[38;5;124m\"\u001B[39m, p_value_23) \n",
      "File \u001B[1;32m~\\PycharmProjects\\practicum\\.venv\\Lib\\site-packages\\scipy\\stats\\contingency.py:333\u001B[0m, in \u001B[0;36mchi2_contingency\u001B[1;34m(observed, correction, lambda_)\u001B[0m\n\u001B[0;32m    331\u001B[0m     \u001B[38;5;28;01mraise\u001B[39;00m \u001B[38;5;167;01mValueError\u001B[39;00m(\u001B[38;5;124m\"\u001B[39m\u001B[38;5;124mAll values in `observed` must be nonnegative.\u001B[39m\u001B[38;5;124m\"\u001B[39m)\n\u001B[0;32m    332\u001B[0m \u001B[38;5;28;01mif\u001B[39;00m observed\u001B[38;5;241m.\u001B[39msize \u001B[38;5;241m==\u001B[39m \u001B[38;5;241m0\u001B[39m:\n\u001B[1;32m--> 333\u001B[0m     \u001B[38;5;28;01mraise\u001B[39;00m \u001B[38;5;167;01mValueError\u001B[39;00m(\u001B[38;5;124m\"\u001B[39m\u001B[38;5;124mNo data; `observed` has size 0.\u001B[39m\u001B[38;5;124m\"\u001B[39m)\n\u001B[0;32m    335\u001B[0m expected \u001B[38;5;241m=\u001B[39m expected_freq(observed)\n\u001B[0;32m    336\u001B[0m \u001B[38;5;28;01mif\u001B[39;00m np\u001B[38;5;241m.\u001B[39many(expected \u001B[38;5;241m==\u001B[39m \u001B[38;5;241m0\u001B[39m):\n\u001B[0;32m    337\u001B[0m     \u001B[38;5;66;03m# Include one of the positions where expected is zero in\u001B[39;00m\n\u001B[0;32m    338\u001B[0m     \u001B[38;5;66;03m# the exception message.\u001B[39;00m\n",
      "\u001B[1;31mValueError\u001B[0m: No data; `observed` has size 0."
     ]
    }
   ],
   "execution_count": 129
  },
  {
   "metadata": {
    "ExecuteTime": {
     "end_time": "2024-05-08T09:05:52.587951Z",
     "start_time": "2024-05-08T09:05:52.573052Z"
    }
   },
   "cell_type": "code",
   "source": [
    "contingency_table_14 = pd.crosstab(index=AMB_PA['Sarcopènia'], columns=TOTAL['Sarcopènia']) \n",
    " \n",
    "chi2_14, p_value_14, dof_14, expected_14 = chi2_contingency(contingency_table_14) \n",
    " \n",
    "print(\"Estadístic xi-quadrat entre AMB_PA i TOTAL:\", chi2_14) \n",
    "print(\"P-valor entre AMB_PA i TOTAL:\", p_value_14) \n",
    " \n",
    "if p_value_14 < 0.05: \n",
    "    print(\"Hi ha diferències significatives entre les distribucions de sarcopènia en AMB_PA i TOTAL.\") \n",
    "else: \n",
    "    print(\"No hi ha diferències significatives entre les distribucions de sarcopènia en AMB_PA i TOTAL.\") "
   ],
   "id": "87156e53f23d57a6",
   "outputs": [
    {
     "name": "stdout",
     "output_type": "stream",
     "text": [
      "Estadístic xi-quadrat entre AMB_PA i TOTAL: 0.0\n",
      "P-valor entre AMB_PA i TOTAL: 1.0\n",
      "No hi ha diferències significatives entre les distribucions de sarcopènia en AMB_PA i TOTAL.\n"
     ]
    }
   ],
   "execution_count": 130
  },
  {
   "metadata": {
    "ExecuteTime": {
     "end_time": "2024-05-08T09:05:53.101108Z",
     "start_time": "2024-05-08T09:05:53.086214Z"
    }
   },
   "cell_type": "code",
   "source": [
    "contingency_table_24 = pd.crosstab(index=AMB_PA_MECVV['Sarcopènia'], columns=TOTAL['Sarcopènia']) \n",
    " \n",
    "chi2_24, p_value_24, dof_24, expected_24 = chi2_contingency(contingency_table_24) \n",
    " \n",
    "print(\"Estadístic xi-quadrat entre AMB_PA_MECVV i TOTAL:\", chi2_24) \n",
    "print(\"P-valor entre AMB_PA_MECVV i TOTAL:\", p_value_24) \n",
    " \n",
    "if p_value_24 < 0.05: \n",
    "    print(\"Hi ha diferències significatives entre les distribucions de sarcopènia en AMB_PA_MECVV i TOTAL.\") \n",
    "else: \n",
    "    print(\"No hi ha diferències significatives entre les distribucions de sarcopènia en AMB_PA_MECVV i TOTAL.\") "
   ],
   "id": "7992e5887927f0dc",
   "outputs": [
    {
     "name": "stdout",
     "output_type": "stream",
     "text": [
      "Estadístic xi-quadrat entre AMB_PA_MECVV i TOTAL: 0.0\n",
      "P-valor entre AMB_PA_MECVV i TOTAL: 1.0\n",
      "No hi ha diferències significatives entre les distribucions de sarcopènia en AMB_PA_MECVV i TOTAL.\n"
     ]
    }
   ],
   "execution_count": 131
  },
  {
   "metadata": {
    "ExecuteTime": {
     "end_time": "2024-05-08T09:05:53.703524Z",
     "start_time": "2024-05-08T09:05:53.686787Z"
    }
   },
   "cell_type": "code",
   "source": [
    "contingency_table_34 = pd.crosstab(index=SENSE_PA['Sarcopènia'], columns=TOTAL['Sarcopènia']) \n",
    " \n",
    "chi2_34, p_value_34, dof_34, expected_34 = chi2_contingency(contingency_table_34) \n",
    " \n",
    "print(\"Estadístic xi-quadrat entre SENSE_PA i TOTAL:\", chi2_34) \n",
    "print(\"P-valor entre SENSE_PA i TOTAL:\", p_value_34) \n",
    " \n",
    "if p_value_34 < 0.05: \n",
    "    print(\"Hi ha diferències significatives entre les distribucions de sarcopènia en SENSE_PA i TOTAL.\") \n",
    "else: \n",
    "    print(\"No hi ha diferències significatives entre les distribucions de sarcopènia en SENSE_PA i TOTAL.\") "
   ],
   "id": "4f8d7a33b2cf11f6",
   "outputs": [
    {
     "name": "stdout",
     "output_type": "stream",
     "text": [
      "Estadístic xi-quadrat entre SENSE_PA i TOTAL: 1.469387755102041\n",
      "P-valor entre SENSE_PA i TOTAL: 0.22544231699450956\n",
      "No hi ha diferències significatives entre les distribucions de sarcopènia en SENSE_PA i TOTAL.\n"
     ]
    }
   ],
   "execution_count": 132
  },
  {
   "metadata": {},
   "cell_type": "markdown",
   "source": "## Trastorns del son",
   "id": "f41eecfcc7117fb8"
  },
  {
   "metadata": {
    "ExecuteTime": {
     "end_time": "2024-05-08T09:05:54.065439Z",
     "start_time": "2024-05-08T09:05:54.055547Z"
    }
   },
   "cell_type": "code",
   "source": [
    "ts_AMB_PA= (AMB_PA['Probl.son'] == 1.0).mean() * 100\n",
    "print(f\"Percentatge de trastorns del son: {ts_AMB_PA:.2f}%\")"
   ],
   "id": "cb850aac92c63822",
   "outputs": [
    {
     "name": "stdout",
     "output_type": "stream",
     "text": [
      "Percentatge de trastorns del son: 0.00%\n"
     ]
    }
   ],
   "execution_count": 133
  },
  {
   "metadata": {
    "ExecuteTime": {
     "end_time": "2024-05-08T09:05:54.804475Z",
     "start_time": "2024-05-08T09:05:54.798974Z"
    }
   },
   "cell_type": "code",
   "source": [
    "ts_AMB_PA_MECVV= (AMB_PA_MECVV['Probl.son'] == 1.0).mean() * 100\n",
    "print(f\"Percentatge de trastorns del son: {ts_AMB_PA_MECVV:.2f}%\")"
   ],
   "id": "2879ba619f21dd9",
   "outputs": [
    {
     "name": "stdout",
     "output_type": "stream",
     "text": [
      "Percentatge de trastorns del son: 0.00%\n"
     ]
    }
   ],
   "execution_count": 134
  },
  {
   "metadata": {
    "ExecuteTime": {
     "end_time": "2024-05-08T09:05:55.264575Z",
     "start_time": "2024-05-08T09:05:55.254871Z"
    }
   },
   "cell_type": "code",
   "source": [
    "ts_SENSE_PA= (SENSE_PA['Probl.son'] == 1.0).mean() * 100\n",
    "print(f\"Percentatge de trastorns del son: {ts_SENSE_PA:.2f}%\")"
   ],
   "id": "dd0194dec4acdb86",
   "outputs": [
    {
     "name": "stdout",
     "output_type": "stream",
     "text": [
      "Percentatge de trastorns del son: 0.00%\n"
     ]
    }
   ],
   "execution_count": 135
  },
  {
   "metadata": {
    "ExecuteTime": {
     "end_time": "2024-05-08T09:05:55.872234Z",
     "start_time": "2024-05-08T09:05:55.863700Z"
    }
   },
   "cell_type": "code",
   "source": [
    "ts_TOTAL= (TOTAL['Probl.son'] == 1.0).mean() * 100\n",
    "print(f\"Percentatge de trastorns del son: {ts_TOTAL:.2f}%\")"
   ],
   "id": "dd9f7d010809f2f4",
   "outputs": [
    {
     "name": "stdout",
     "output_type": "stream",
     "text": [
      "Percentatge de trastorns del son: 0.00%\n"
     ]
    }
   ],
   "execution_count": 136
  },
  {
   "metadata": {},
   "cell_type": "markdown",
   "source": "#### Comparació distributiva",
   "id": "19dac29e093145f8"
  },
  {
   "metadata": {},
   "cell_type": "markdown",
   "source": "##### Normalitat i p-valor",
   "id": "a0e8b431b959bbf1"
  },
  {
   "metadata": {
    "ExecuteTime": {
     "end_time": "2024-05-08T09:05:56.182216Z",
     "start_time": "2024-05-08T09:05:56.163833Z"
    }
   },
   "cell_type": "code",
   "source": [
    "contingency_table_12 = pd.crosstab(index=AMB_PA['Probl.son'], columns=AMB_PA_MECVV['Probl.son']) \n",
    " \n",
    "chi2_12, p_value_12, dof_12, expected_12 = chi2_contingency(contingency_table_12) \n",
    " \n",
    "print(\"Estadístic xi-quadrat entre AMB_PA i AMB_PA_MECVV:\", chi2_12) \n",
    "print(\"P-valor entre AMB_PA i AMB_PA_MECVV:\", p_value_12) \n",
    " \n",
    "if p_value_12 < 0.05: \n",
    "    print(\"Hi ha diferències significatives entre les distribucions de problemes de son en AMB_PA i AMB_PA_MECVV.\") \n",
    "else: \n",
    "    print(\"No hi ha diferències significatives entre les distribucions de problemes de son en AMB_PA i AMB_PA_MECVV.\")"
   ],
   "id": "99f759bffcb3e331",
   "outputs": [
    {
     "name": "stdout",
     "output_type": "stream",
     "text": [
      "Estadístic xi-quadrat entre AMB_PA i AMB_PA_MECVV: 0.0\n",
      "P-valor entre AMB_PA i AMB_PA_MECVV: 1.0\n",
      "No hi ha diferències significatives entre les distribucions de problemes de son en AMB_PA i AMB_PA_MECVV.\n"
     ]
    }
   ],
   "execution_count": 137
  },
  {
   "metadata": {
    "ExecuteTime": {
     "end_time": "2024-05-08T09:05:56.696061Z",
     "start_time": "2024-05-08T09:05:56.680918Z"
    }
   },
   "cell_type": "code",
   "source": [
    "contingency_table_13 = pd.crosstab(index=AMB_PA['Probl.son'], columns=SENSE_PA['Probl.son']) \n",
    " \n",
    "chi2_13, p_value_13, dof_13, expected_13 = chi2_contingency(contingency_table_13) \n",
    " \n",
    "print(\"Estadístic xi-quadrat entre AMB_PA i SENSE_PA:\", chi2_13) \n",
    "print(\"P-valor entre AMB_PA i SENSE_PA:\", p_value_13) \n",
    " \n",
    "if p_value_13 < 0.05: \n",
    "    print(\"Hi ha diferències significatives entre les distribucions de problemes de son en AMB_PA i SENSE_PA.\") \n",
    "else: \n",
    "    print(\"No hi ha diferències significatives entre les distribucions de problemes de son en AMB_PA i SENSE_PA.\") "
   ],
   "id": "5c985a181a2de62f",
   "outputs": [
    {
     "name": "stdout",
     "output_type": "stream",
     "text": [
      "Estadístic xi-quadrat entre AMB_PA i SENSE_PA: 0.0\n",
      "P-valor entre AMB_PA i SENSE_PA: 1.0\n",
      "No hi ha diferències significatives entre les distribucions de problemes de son en AMB_PA i SENSE_PA.\n"
     ]
    }
   ],
   "execution_count": 138
  },
  {
   "metadata": {
    "ExecuteTime": {
     "end_time": "2024-05-08T09:05:57.082232Z",
     "start_time": "2024-05-08T09:05:57.040191Z"
    }
   },
   "cell_type": "code",
   "source": [
    "contingency_table_23 = pd.crosstab(index=AMB_PA_MECVV['Probl.son'], columns=SENSE_PA['Probl.son']) \n",
    " \n",
    "chi2_23, p_value_23, dof_23, expected_23 = chi2_contingency(contingency_table_23) \n",
    " \n",
    "print(\"Estadístic xi-quadrat entre AMB_PA_MECCV i SENSE_PA:\", chi2_23) \n",
    "print(\"P-valor entre AMB_PA_MECVV i SENSE_PA:\", p_value_23) \n",
    " \n",
    "if p_value_23 < 0.05: \n",
    "    print(\"Hi ha diferències significatives entre les distribucions de problemes de son en AMB_PA_MECVV i SENSE_PA.\") \n",
    "else: \n",
    "    print(\"No hi ha diferències significatives entre les distribucions de problemes de son en AMB_PA_MECVV i SENSE_PA.\") "
   ],
   "id": "81a2ca03796461ce",
   "outputs": [
    {
     "ename": "ValueError",
     "evalue": "No data; `observed` has size 0.",
     "output_type": "error",
     "traceback": [
      "\u001B[1;31m---------------------------------------------------------------------------\u001B[0m",
      "\u001B[1;31mValueError\u001B[0m                                Traceback (most recent call last)",
      "Cell \u001B[1;32mIn[139], line 3\u001B[0m\n\u001B[0;32m      1\u001B[0m contingency_table_23 \u001B[38;5;241m=\u001B[39m pd\u001B[38;5;241m.\u001B[39mcrosstab(index\u001B[38;5;241m=\u001B[39mAMB_PA_MECVV[\u001B[38;5;124m'\u001B[39m\u001B[38;5;124mProbl.son\u001B[39m\u001B[38;5;124m'\u001B[39m], columns\u001B[38;5;241m=\u001B[39mSENSE_PA[\u001B[38;5;124m'\u001B[39m\u001B[38;5;124mProbl.son\u001B[39m\u001B[38;5;124m'\u001B[39m]) \n\u001B[1;32m----> 3\u001B[0m chi2_23, p_value_23, dof_23, expected_23 \u001B[38;5;241m=\u001B[39m \u001B[43mchi2_contingency\u001B[49m\u001B[43m(\u001B[49m\u001B[43mcontingency_table_23\u001B[49m\u001B[43m)\u001B[49m \n\u001B[0;32m      5\u001B[0m \u001B[38;5;28mprint\u001B[39m(\u001B[38;5;124m\"\u001B[39m\u001B[38;5;124mEstadístic xi-quadrat entre AMB_PA_MECCV i SENSE_PA:\u001B[39m\u001B[38;5;124m\"\u001B[39m, chi2_23) \n\u001B[0;32m      6\u001B[0m \u001B[38;5;28mprint\u001B[39m(\u001B[38;5;124m\"\u001B[39m\u001B[38;5;124mP-valor entre AMB_PA_MECVV i SENSE_PA:\u001B[39m\u001B[38;5;124m\"\u001B[39m, p_value_23) \n",
      "File \u001B[1;32m~\\PycharmProjects\\practicum\\.venv\\Lib\\site-packages\\scipy\\stats\\contingency.py:333\u001B[0m, in \u001B[0;36mchi2_contingency\u001B[1;34m(observed, correction, lambda_)\u001B[0m\n\u001B[0;32m    331\u001B[0m     \u001B[38;5;28;01mraise\u001B[39;00m \u001B[38;5;167;01mValueError\u001B[39;00m(\u001B[38;5;124m\"\u001B[39m\u001B[38;5;124mAll values in `observed` must be nonnegative.\u001B[39m\u001B[38;5;124m\"\u001B[39m)\n\u001B[0;32m    332\u001B[0m \u001B[38;5;28;01mif\u001B[39;00m observed\u001B[38;5;241m.\u001B[39msize \u001B[38;5;241m==\u001B[39m \u001B[38;5;241m0\u001B[39m:\n\u001B[1;32m--> 333\u001B[0m     \u001B[38;5;28;01mraise\u001B[39;00m \u001B[38;5;167;01mValueError\u001B[39;00m(\u001B[38;5;124m\"\u001B[39m\u001B[38;5;124mNo data; `observed` has size 0.\u001B[39m\u001B[38;5;124m\"\u001B[39m)\n\u001B[0;32m    335\u001B[0m expected \u001B[38;5;241m=\u001B[39m expected_freq(observed)\n\u001B[0;32m    336\u001B[0m \u001B[38;5;28;01mif\u001B[39;00m np\u001B[38;5;241m.\u001B[39many(expected \u001B[38;5;241m==\u001B[39m \u001B[38;5;241m0\u001B[39m):\n\u001B[0;32m    337\u001B[0m     \u001B[38;5;66;03m# Include one of the positions where expected is zero in\u001B[39;00m\n\u001B[0;32m    338\u001B[0m     \u001B[38;5;66;03m# the exception message.\u001B[39;00m\n",
      "\u001B[1;31mValueError\u001B[0m: No data; `observed` has size 0."
     ]
    }
   ],
   "execution_count": 139
  },
  {
   "metadata": {
    "ExecuteTime": {
     "end_time": "2024-05-08T09:05:57.647470Z",
     "start_time": "2024-05-08T09:05:57.632777Z"
    }
   },
   "cell_type": "code",
   "source": [
    "contingency_table_14 = pd.crosstab(index=AMB_PA['Probl.son'], columns=TOTAL['Probl.son']) \n",
    " \n",
    "chi2_14, p_value_14, dof_14, expected_14 = chi2_contingency(contingency_table_14) \n",
    " \n",
    "print(\"Estadístic xi-quadrat entre AMB_PA i TOTAL:\", chi2_14) \n",
    "print(\"P-valor entre AMB_PA i TOTAL:\", p_value_14) \n",
    " \n",
    "if p_value_14 < 0.05: \n",
    "    print(\"Hi ha diferències significatives entre les distribucions de problemes de son en AMB_PA i TOTAL.\") \n",
    "else: \n",
    "    print(\"No hi ha diferències significatives entre les distribucions de problemes de son en AMB_PA i TOTAL.\") "
   ],
   "id": "883c7c31bde4fa81",
   "outputs": [
    {
     "name": "stdout",
     "output_type": "stream",
     "text": [
      "Estadístic xi-quadrat entre AMB_PA i TOTAL: 0.0\n",
      "P-valor entre AMB_PA i TOTAL: 1.0\n",
      "No hi ha diferències significatives entre les distribucions de problemes de son en AMB_PA i TOTAL.\n"
     ]
    }
   ],
   "execution_count": 140
  },
  {
   "metadata": {
    "ExecuteTime": {
     "end_time": "2024-05-08T09:05:58.153073Z",
     "start_time": "2024-05-08T09:05:58.131316Z"
    }
   },
   "cell_type": "code",
   "source": [
    "contingency_table_24 = pd.crosstab(index=AMB_PA_MECVV['Probl.son'], columns=TOTAL['Probl.son']) \n",
    " \n",
    "chi2_24, p_value_24, dof_24, expected_24 = chi2_contingency(contingency_table_24) \n",
    " \n",
    "print(\"Estadístic xi-quadrat entre AMB_PA_MECVV i TOTAL:\", chi2_24) \n",
    "print(\"P-valor entre AMB_PA_MECVV i TOTAL:\", p_value_24) \n",
    " \n",
    "if p_value_24 < 0.05: \n",
    "    print(\"Hi ha diferències significatives entre les distribucions de problemes de son en AMB_PA_MECVV i TOTAL.\") \n",
    "else: \n",
    "    print(\"No hi ha diferències significatives entre les distribucions de problemes de son en AMB_PA_MECVV i TOTAL.\") "
   ],
   "id": "7635845f549e8d67",
   "outputs": [
    {
     "name": "stdout",
     "output_type": "stream",
     "text": [
      "Estadístic xi-quadrat entre AMB_PA_MECVV i TOTAL: 0.0\n",
      "P-valor entre AMB_PA_MECVV i TOTAL: 1.0\n",
      "No hi ha diferències significatives entre les distribucions de problemes de son en AMB_PA_MECVV i TOTAL.\n"
     ]
    }
   ],
   "execution_count": 141
  },
  {
   "metadata": {
    "ExecuteTime": {
     "end_time": "2024-05-08T09:05:58.884221Z",
     "start_time": "2024-05-08T09:05:58.873144Z"
    }
   },
   "cell_type": "code",
   "source": [
    "contingency_table_34 = pd.crosstab(index=SENSE_PA['Probl.son'], columns=TOTAL['Probl.son']) \n",
    " \n",
    "chi2_34, p_value_34, dof_34, expected_34 = chi2_contingency(contingency_table_34) \n",
    " \n",
    "print(\"Estadístic xi-quadrat entre SENSE_PA i TOTAL:\", chi2_34) \n",
    "print(\"P-valor entre SENSE_PA i TOTAL:\", p_value_34) \n",
    " \n",
    "if p_value_34 < 0.05: \n",
    "    print(\"Hi ha diferències significatives entre les distribucions de problemes de son en SENSE_PA i TOTAL.\") \n",
    "else: \n",
    "    print(\"No hi ha diferències significatives entre les distribucions de problemes de son en SENSE_PA i TOTAL.\") "
   ],
   "id": "fa6b5d9af310d748",
   "outputs": [
    {
     "name": "stdout",
     "output_type": "stream",
     "text": [
      "Estadístic xi-quadrat entre SENSE_PA i TOTAL: 0.0\n",
      "P-valor entre SENSE_PA i TOTAL: 1.0\n",
      "No hi ha diferències significatives entre les distribucions de problemes de son en SENSE_PA i TOTAL.\n"
     ]
    }
   ],
   "execution_count": 142
  },
  {
   "metadata": {},
   "cell_type": "markdown",
   "source": [
    "## Dolor crònic"
   ],
   "id": "e9f22902aac5d32c"
  },
  {
   "metadata": {
    "ExecuteTime": {
     "end_time": "2024-05-08T09:05:59.690899Z",
     "start_time": "2024-05-08T09:05:59.684249Z"
    }
   },
   "cell_type": "code",
   "source": [
    "dc_AMB_PA= (AMB_PA['Dolor crònic'] == 1.0).mean() * 100\n",
    "print(f\"Percentatge de dolor crònic: {dc_AMB_PA:.2f}%\")"
   ],
   "id": "f05d2f7a214d0e82",
   "outputs": [
    {
     "name": "stdout",
     "output_type": "stream",
     "text": [
      "Percentatge de dolor crònic: 0.00%\n"
     ]
    }
   ],
   "execution_count": 143
  },
  {
   "metadata": {
    "ExecuteTime": {
     "end_time": "2024-05-08T09:06:00.285648Z",
     "start_time": "2024-05-08T09:06:00.277401Z"
    }
   },
   "cell_type": "code",
   "source": [
    "dc_AMB_PA_MECVV= (AMB_PA_MECVV['Dolor crònic'] == 1.0).mean() * 100\n",
    "print(f\"Percentatge de dolor crònic: {dc_AMB_PA_MECVV:.2f}%\")"
   ],
   "id": "f30beb6300be5f9c",
   "outputs": [
    {
     "name": "stdout",
     "output_type": "stream",
     "text": [
      "Percentatge de dolor crònic: 0.00%\n"
     ]
    }
   ],
   "execution_count": 144
  },
  {
   "metadata": {
    "ExecuteTime": {
     "end_time": "2024-05-08T09:06:01.328790Z",
     "start_time": "2024-05-08T09:06:01.318573Z"
    }
   },
   "cell_type": "code",
   "source": [
    "dc_SENSE_PA= (SENSE_PA['Dolor crònic'] == 1.0).mean() * 100\n",
    "print(f\"Percentatge de dolor crònic: {dc_SENSE_PA:.2f}%\")"
   ],
   "id": "1ac2254ca76f0a08",
   "outputs": [
    {
     "name": "stdout",
     "output_type": "stream",
     "text": [
      "Percentatge de dolor crònic: 0.00%\n"
     ]
    }
   ],
   "execution_count": 145
  },
  {
   "metadata": {
    "ExecuteTime": {
     "end_time": "2024-05-08T09:06:02.558769Z",
     "start_time": "2024-05-08T09:06:02.551946Z"
    }
   },
   "cell_type": "code",
   "source": [
    "dc_TOTAL= (TOTAL['Dolor crònic'] == 1.0).mean() * 100\n",
    "print(f\"Percentatge de dolor crònic: {dc_TOTAL:.2f}%\")"
   ],
   "id": "405531deb9584860",
   "outputs": [
    {
     "name": "stdout",
     "output_type": "stream",
     "text": [
      "Percentatge de dolor crònic: 0.00%\n"
     ]
    }
   ],
   "execution_count": 146
  },
  {
   "metadata": {},
   "cell_type": "markdown",
   "source": "#### Comparació distributiva",
   "id": "33b7bb39e9421e38"
  },
  {
   "metadata": {},
   "cell_type": "markdown",
   "source": "##### Normalitat i p-valor",
   "id": "88c69d09418d53ea"
  },
  {
   "metadata": {
    "ExecuteTime": {
     "end_time": "2024-05-08T09:06:04.063518Z",
     "start_time": "2024-05-08T09:06:04.043987Z"
    }
   },
   "cell_type": "code",
   "source": [
    "contingency_table_12 = pd.crosstab(index=AMB_PA['Dolor crònic'], columns=AMB_PA_MECVV['Dolor crònic']) \n",
    " \n",
    "chi2_12, p_value_12, dof_12, expected_12 = chi2_contingency(contingency_table_12) \n",
    " \n",
    "print(\"Estadístic xi-quadrat entre AMB_PA i AMB_PA_MECVV:\", chi2_12) \n",
    "print(\"P-valor entre AMB_PA i AMB_PA_MECVV:\", p_value_12) \n",
    " \n",
    "if p_value_12 < 0.05: \n",
    "    print(\"Hi ha diferències significatives entre les distribucions de dolor crònic en AMB_PA i AMB_PA_MECVV.\") \n",
    "else: \n",
    "    print(\"No hi ha diferències significatives entre les distribucions de dolor crònic en AMB_PA i AMB_PA_MECVV.\") "
   ],
   "id": "19fc73c2a012e9ae",
   "outputs": [
    {
     "name": "stdout",
     "output_type": "stream",
     "text": [
      "Estadístic xi-quadrat entre AMB_PA i AMB_PA_MECVV: 0.0\n",
      "P-valor entre AMB_PA i AMB_PA_MECVV: 1.0\n",
      "No hi ha diferències significatives entre les distribucions de dolor crònic en AMB_PA i AMB_PA_MECVV.\n"
     ]
    }
   ],
   "execution_count": 147
  },
  {
   "metadata": {
    "ExecuteTime": {
     "end_time": "2024-05-08T09:06:04.426229Z",
     "start_time": "2024-05-08T09:06:04.411170Z"
    }
   },
   "cell_type": "code",
   "source": [
    "contingency_table_13 = pd.crosstab(index=AMB_PA['Dolor crònic'], columns=SENSE_PA['Dolor crònic']) \n",
    " \n",
    "chi2_13, p_value_13, dof_13, expected_13 = chi2_contingency(contingency_table_13) \n",
    " \n",
    "print(\"Estadístic xi-quadrat entre AMB_PA i SENSE_PA:\", chi2_13) \n",
    "print(\"P-valor entre AMB_PA i SENSE_PA:\", p_value_13) \n",
    " \n",
    "if p_value_13 < 0.05: \n",
    "    print(\"Hi ha diferències significatives entre les distribucions de dolor crònic en AMB_PA i SENSE_PA.\") \n",
    "else: \n",
    "    print(\"No hi ha diferències significatives entre les distribucions de dolor crònic en AMB_PA i SENSE_PA.\") "
   ],
   "id": "d21a4b80d01ac7ea",
   "outputs": [
    {
     "name": "stdout",
     "output_type": "stream",
     "text": [
      "Estadístic xi-quadrat entre AMB_PA i SENSE_PA: 0.0\n",
      "P-valor entre AMB_PA i SENSE_PA: 1.0\n",
      "No hi ha diferències significatives entre les distribucions de dolor crònic en AMB_PA i SENSE_PA.\n"
     ]
    }
   ],
   "execution_count": 148
  },
  {
   "metadata": {
    "ExecuteTime": {
     "end_time": "2024-05-08T09:06:05.060285Z",
     "start_time": "2024-05-08T09:06:05.013341Z"
    }
   },
   "cell_type": "code",
   "source": [
    "contingency_table_23 = pd.crosstab(index=AMB_PA_MECVV['Dolor crònic'], columns=SENSE_PA['Dolor crònic']) \n",
    " \n",
    "chi2_23, p_value_23, dof_23, expected_23 = chi2_contingency(contingency_table_23) \n",
    " \n",
    "print(\"Estadístic xi-quadrat entre AMB_PA_MECCV i SENSE_PA:\", chi2_23) \n",
    "print(\"P-valor entre AMB_PA_MECVV i SENSE_PA:\", p_value_23) \n",
    " \n",
    "if p_value_23 < 0.05: \n",
    "    print(\"Hi ha diferències significatives entre les distribucions de dolor crònic en AMB_PA_MECVV i SENSE_PA.\") \n",
    "else: \n",
    "    print(\"No hi ha diferències significatives entre les distribucions de dolor crònic en AMB_PA_MECVV i SENSE_PA.\") "
   ],
   "id": "48fefb00c2ae1d40",
   "outputs": [
    {
     "ename": "ValueError",
     "evalue": "No data; `observed` has size 0.",
     "output_type": "error",
     "traceback": [
      "\u001B[1;31m---------------------------------------------------------------------------\u001B[0m",
      "\u001B[1;31mValueError\u001B[0m                                Traceback (most recent call last)",
      "Cell \u001B[1;32mIn[149], line 3\u001B[0m\n\u001B[0;32m      1\u001B[0m contingency_table_23 \u001B[38;5;241m=\u001B[39m pd\u001B[38;5;241m.\u001B[39mcrosstab(index\u001B[38;5;241m=\u001B[39mAMB_PA_MECVV[\u001B[38;5;124m'\u001B[39m\u001B[38;5;124mDolor crònic\u001B[39m\u001B[38;5;124m'\u001B[39m], columns\u001B[38;5;241m=\u001B[39mSENSE_PA[\u001B[38;5;124m'\u001B[39m\u001B[38;5;124mDolor crònic\u001B[39m\u001B[38;5;124m'\u001B[39m]) \n\u001B[1;32m----> 3\u001B[0m chi2_23, p_value_23, dof_23, expected_23 \u001B[38;5;241m=\u001B[39m \u001B[43mchi2_contingency\u001B[49m\u001B[43m(\u001B[49m\u001B[43mcontingency_table_23\u001B[49m\u001B[43m)\u001B[49m \n\u001B[0;32m      5\u001B[0m \u001B[38;5;28mprint\u001B[39m(\u001B[38;5;124m\"\u001B[39m\u001B[38;5;124mEstadístic xi-quadrat entre AMB_PA_MECCV i SENSE_PA:\u001B[39m\u001B[38;5;124m\"\u001B[39m, chi2_23) \n\u001B[0;32m      6\u001B[0m \u001B[38;5;28mprint\u001B[39m(\u001B[38;5;124m\"\u001B[39m\u001B[38;5;124mP-valor entre AMB_PA_MECVV i SENSE_PA:\u001B[39m\u001B[38;5;124m\"\u001B[39m, p_value_23) \n",
      "File \u001B[1;32m~\\PycharmProjects\\practicum\\.venv\\Lib\\site-packages\\scipy\\stats\\contingency.py:333\u001B[0m, in \u001B[0;36mchi2_contingency\u001B[1;34m(observed, correction, lambda_)\u001B[0m\n\u001B[0;32m    331\u001B[0m     \u001B[38;5;28;01mraise\u001B[39;00m \u001B[38;5;167;01mValueError\u001B[39;00m(\u001B[38;5;124m\"\u001B[39m\u001B[38;5;124mAll values in `observed` must be nonnegative.\u001B[39m\u001B[38;5;124m\"\u001B[39m)\n\u001B[0;32m    332\u001B[0m \u001B[38;5;28;01mif\u001B[39;00m observed\u001B[38;5;241m.\u001B[39msize \u001B[38;5;241m==\u001B[39m \u001B[38;5;241m0\u001B[39m:\n\u001B[1;32m--> 333\u001B[0m     \u001B[38;5;28;01mraise\u001B[39;00m \u001B[38;5;167;01mValueError\u001B[39;00m(\u001B[38;5;124m\"\u001B[39m\u001B[38;5;124mNo data; `observed` has size 0.\u001B[39m\u001B[38;5;124m\"\u001B[39m)\n\u001B[0;32m    335\u001B[0m expected \u001B[38;5;241m=\u001B[39m expected_freq(observed)\n\u001B[0;32m    336\u001B[0m \u001B[38;5;28;01mif\u001B[39;00m np\u001B[38;5;241m.\u001B[39many(expected \u001B[38;5;241m==\u001B[39m \u001B[38;5;241m0\u001B[39m):\n\u001B[0;32m    337\u001B[0m     \u001B[38;5;66;03m# Include one of the positions where expected is zero in\u001B[39;00m\n\u001B[0;32m    338\u001B[0m     \u001B[38;5;66;03m# the exception message.\u001B[39;00m\n",
      "\u001B[1;31mValueError\u001B[0m: No data; `observed` has size 0."
     ]
    }
   ],
   "execution_count": 149
  },
  {
   "metadata": {
    "ExecuteTime": {
     "end_time": "2024-05-08T09:06:05.572982Z",
     "start_time": "2024-05-08T09:06:05.558494Z"
    }
   },
   "cell_type": "code",
   "source": [
    "contingency_table_14 = pd.crosstab(index=AMB_PA['Dolor crònic'], columns=TOTAL['Dolor crònic']) \n",
    " \n",
    "chi2_14, p_value_14, dof_14, expected_14 = chi2_contingency(contingency_table_14) \n",
    " \n",
    "print(\"Estadístic xi-quadrat entre AMB_PA i TOTAL:\", chi2_14) \n",
    "print(\"P-valor entre AMB_PA i TOTAL:\", p_value_14) \n",
    " \n",
    "if p_value_14 < 0.05: \n",
    "    print(\"Hi ha diferències significatives entre les distribucions de dolor crònic en AMB_PA i TOTAL.\") \n",
    "else: \n",
    "    print(\"No hi ha diferències significatives entre les distribucions de dolor crònic en AMB_PA i TOTAL.\") "
   ],
   "id": "1ffdabfb870e12b6",
   "outputs": [
    {
     "name": "stdout",
     "output_type": "stream",
     "text": [
      "Estadístic xi-quadrat entre AMB_PA i TOTAL: 0.0\n",
      "P-valor entre AMB_PA i TOTAL: 1.0\n",
      "No hi ha diferències significatives entre les distribucions de dolor crònic en AMB_PA i TOTAL.\n"
     ]
    }
   ],
   "execution_count": 150
  },
  {
   "metadata": {
    "ExecuteTime": {
     "end_time": "2024-05-08T09:06:06.115881Z",
     "start_time": "2024-05-08T09:06:06.100145Z"
    }
   },
   "cell_type": "code",
   "source": [
    "contingency_table_24 = pd.crosstab(index=AMB_PA_MECVV['Dolor crònic'], columns=TOTAL['Dolor crònic']) \n",
    " \n",
    "chi2_24, p_value_24, dof_24, expected_24 = chi2_contingency(contingency_table_24) \n",
    " \n",
    "print(\"Estadístic xi-quadrat entre AMB_PA_MECVV i TOTAL:\", chi2_24) \n",
    "print(\"P-valor entre AMB_PA_MECVV i TOTAL:\", p_value_24) \n",
    " \n",
    "if p_value_24 < 0.05: \n",
    "    print(\"Hi ha diferències significatives entre les distribucions de dolor crònic en AMB_PA_MECVV i TOTAL.\") \n",
    "else: \n",
    "    print(\"No hi ha diferències significatives entre les distribucions de dolor crònic en AMB_PA_MECVV i TOTAL.\") "
   ],
   "id": "edbc9397bf09094b",
   "outputs": [
    {
     "name": "stdout",
     "output_type": "stream",
     "text": [
      "Estadístic xi-quadrat entre AMB_PA_MECVV i TOTAL: 0.0\n",
      "P-valor entre AMB_PA_MECVV i TOTAL: 1.0\n",
      "No hi ha diferències significatives entre les distribucions de dolor crònic en AMB_PA_MECVV i TOTAL.\n"
     ]
    }
   ],
   "execution_count": 151
  },
  {
   "metadata": {
    "ExecuteTime": {
     "end_time": "2024-05-08T09:06:06.798334Z",
     "start_time": "2024-05-08T09:06:06.785081Z"
    }
   },
   "cell_type": "code",
   "source": [
    "contingency_table_34 = pd.crosstab(index=SENSE_PA['Dolor crònic'], columns=TOTAL['Dolor crònic']) \n",
    " \n",
    "chi2_34, p_value_34, dof_34, expected_34 = chi2_contingency(contingency_table_34) \n",
    " \n",
    "print(\"Estadístic xi-quadrat entre SENSE_PA i TOTAL:\", chi2_34) \n",
    "print(\"P-valor entre SENSE_PA i TOTAL:\", p_value_34) \n",
    " \n",
    "if p_value_34 < 0.05: \n",
    "    print(\"Hi ha diferències significatives entre les distribucions de dolor crònic en SENSE_PA i TOTAL.\") \n",
    "else: \n",
    "    print(\"No hi ha diferències significatives entre les distribucions de dolor crònic en SENSE_PA i TOTAL.\") "
   ],
   "id": "b995797b648cca70",
   "outputs": [
    {
     "name": "stdout",
     "output_type": "stream",
     "text": [
      "Estadístic xi-quadrat entre SENSE_PA i TOTAL: 0.0\n",
      "P-valor entre SENSE_PA i TOTAL: 1.0\n",
      "No hi ha diferències significatives entre les distribucions de dolor crònic en SENSE_PA i TOTAL.\n"
     ]
    }
   ],
   "execution_count": 152
  },
  {
   "metadata": {},
   "cell_type": "markdown",
   "source": [
    "## Iatrogènic"
   ],
   "id": "e4a4ace86ca41600"
  },
  {
   "metadata": {
    "ExecuteTime": {
     "end_time": "2024-05-08T09:06:08.148720Z",
     "start_time": "2024-05-08T09:06:08.134986Z"
    }
   },
   "cell_type": "code",
   "source": [
    "iatr_AMB_PA= (AMB_PA['Iatrogènic'] == 1.0).mean() * 100\n",
    "print(f\"Percentatge de iatrogènic: {iatr_AMB_PA:.2f}%\")"
   ],
   "id": "ce5326efc8d1cbef",
   "outputs": [
    {
     "name": "stdout",
     "output_type": "stream",
     "text": [
      "Percentatge de iatrogènic: 0.00%\n"
     ]
    }
   ],
   "execution_count": 153
  },
  {
   "metadata": {
    "ExecuteTime": {
     "end_time": "2024-05-08T09:06:08.616503Z",
     "start_time": "2024-05-08T09:06:08.605399Z"
    }
   },
   "cell_type": "code",
   "source": [
    "iatr_AMB_PA_MECVV= (AMB_PA_MECVV['Iatrogènic'] == 1.0).mean() * 100\n",
    "print(f\"Percentatge de iatrogènic: {iatr_AMB_PA_MECVV:.2f}%\")"
   ],
   "id": "3b93f7c7a1f8390a",
   "outputs": [
    {
     "name": "stdout",
     "output_type": "stream",
     "text": [
      "Percentatge de iatrogènic: 0.00%\n"
     ]
    }
   ],
   "execution_count": 154
  },
  {
   "metadata": {
    "ExecuteTime": {
     "end_time": "2024-05-08T09:06:08.970238Z",
     "start_time": "2024-05-08T09:06:08.964119Z"
    }
   },
   "cell_type": "code",
   "source": [
    "iatr_SENSE_PA= (SENSE_PA['Iatrogènic'] == 1.0).mean() * 100\n",
    "print(f\"Percentatge de iatrogènic: {iatr_SENSE_PA:.2f}%\")"
   ],
   "id": "6e91605bdf68ebe6",
   "outputs": [
    {
     "name": "stdout",
     "output_type": "stream",
     "text": [
      "Percentatge de iatrogènic: 0.00%\n"
     ]
    }
   ],
   "execution_count": 155
  },
  {
   "metadata": {
    "ExecuteTime": {
     "end_time": "2024-05-08T09:06:09.799917Z",
     "start_time": "2024-05-08T09:06:09.792799Z"
    }
   },
   "cell_type": "code",
   "source": [
    "iatr_TOTAL= (TOTAL['Iatrogènic'] == 1.0).mean() * 100\n",
    "print(f\"Percentatge de iatrogènic: {iatr_TOTAL:.2f}%\")"
   ],
   "id": "1686ea7a684a1bcb",
   "outputs": [
    {
     "name": "stdout",
     "output_type": "stream",
     "text": [
      "Percentatge de iatrogènic: 0.00%\n"
     ]
    }
   ],
   "execution_count": 156
  },
  {
   "metadata": {},
   "cell_type": "markdown",
   "source": "#### Comparació distributiva",
   "id": "c7c4fb9f8288c644"
  },
  {
   "metadata": {},
   "cell_type": "markdown",
   "source": "##### Normalitat i p-valor",
   "id": "81f5e86f8857903f"
  },
  {
   "metadata": {
    "ExecuteTime": {
     "end_time": "2024-05-08T09:06:10.455123Z",
     "start_time": "2024-05-08T09:06:10.436287Z"
    }
   },
   "cell_type": "code",
   "source": [
    "contingency_table_12 = pd.crosstab(index=AMB_PA['Iatrogènic'], columns=AMB_PA_MECVV['Iatrogènic']) \n",
    " \n",
    "chi2_12, p_value_12, dof_12, expected_12 = chi2_contingency(contingency_table_12) \n",
    " \n",
    "print(\"Estadístic xi-quadrat entre AMB_PA i AMB_PA_MECVV:\", chi2_12) \n",
    "print(\"P-valor entre AMB_PA i AMB_PA_MECVV:\", p_value_12) \n",
    " \n",
    "if p_value_12 < 0.05: \n",
    "    print(\"Hi ha diferències significatives entre les distribucions d'iatrogènic en AMB_PA i AMB_PA_MECVV.\") \n",
    "else: \n",
    "    print(\"No hi ha diferències significatives entre les distribucions d'iatrogènic en AMB_PA i AMB_PA_MECVV.\") "
   ],
   "id": "a6d4581f66ee1955",
   "outputs": [
    {
     "name": "stdout",
     "output_type": "stream",
     "text": [
      "Estadístic xi-quadrat entre AMB_PA i AMB_PA_MECVV: 0.0\n",
      "P-valor entre AMB_PA i AMB_PA_MECVV: 1.0\n",
      "No hi ha diferències significatives entre les distribucions d'iatrogènic en AMB_PA i AMB_PA_MECVV.\n"
     ]
    }
   ],
   "execution_count": 157
  },
  {
   "metadata": {
    "ExecuteTime": {
     "end_time": "2024-05-08T09:06:11.049163Z",
     "start_time": "2024-05-08T09:06:11.024103Z"
    }
   },
   "cell_type": "code",
   "source": [
    "contingency_table_13 = pd.crosstab(index=AMB_PA['Iatrogènic'], columns=SENSE_PA['Iatrogènic']) \n",
    " \n",
    "chi2_13, p_value_13, dof_13, expected_13 = chi2_contingency(contingency_table_13) \n",
    " \n",
    "print(\"Estadístic xi-quadrat entre AMB_PA i SENSE_PA:\", chi2_13) \n",
    "print(\"P-valor entre AMB_PA i SENSE_PA:\", p_value_13) \n",
    " \n",
    "if p_value_13 < 0.05: \n",
    "    print(\"Hi ha diferències significatives entre les distribucions d'iatrogènic en AMB_PA i SENSE_PA.\") \n",
    "else: \n",
    "    print(\"No hi ha diferències significatives entre les distribucions d'iatrogènic en AMB_PA i SENSE_PA.\") "
   ],
   "id": "a040639471d4f4cf",
   "outputs": [
    {
     "name": "stdout",
     "output_type": "stream",
     "text": [
      "Estadístic xi-quadrat entre AMB_PA i SENSE_PA: 0.0\n",
      "P-valor entre AMB_PA i SENSE_PA: 1.0\n",
      "No hi ha diferències significatives entre les distribucions d'iatrogènic en AMB_PA i SENSE_PA.\n"
     ]
    }
   ],
   "execution_count": 158
  },
  {
   "metadata": {
    "ExecuteTime": {
     "end_time": "2024-05-08T09:06:11.407306Z",
     "start_time": "2024-05-08T09:06:11.363024Z"
    }
   },
   "cell_type": "code",
   "source": [
    "contingency_table_23 = pd.crosstab(index=AMB_PA_MECVV['Iatrogènic'], columns=SENSE_PA['Iatrogènic']) \n",
    " \n",
    "chi2_23, p_value_23, dof_23, expected_23 = chi2_contingency(contingency_table_23) \n",
    " \n",
    "print(\"Estadístic xi-quadrat entre AMB_PA_MECCV i SENSE_PA:\", chi2_23) \n",
    "print(\"P-valor entre AMB_PA_MECVV i SENSE_PA:\", p_value_23) \n",
    " \n",
    "if p_value_23 < 0.05: \n",
    "    print(\"Hi ha diferències significatives entre les distribucions d'iatrogènic en AMB_PA_MECVV i SENSE_PA.\") \n",
    "else: \n",
    "    print(\"No hi ha diferències significatives entre les distribucions d'iatrogènic en AMB_PA_MECVV i SENSE_PA.\") "
   ],
   "id": "31e55ef13ee10972",
   "outputs": [
    {
     "ename": "ValueError",
     "evalue": "No data; `observed` has size 0.",
     "output_type": "error",
     "traceback": [
      "\u001B[1;31m---------------------------------------------------------------------------\u001B[0m",
      "\u001B[1;31mValueError\u001B[0m                                Traceback (most recent call last)",
      "Cell \u001B[1;32mIn[159], line 3\u001B[0m\n\u001B[0;32m      1\u001B[0m contingency_table_23 \u001B[38;5;241m=\u001B[39m pd\u001B[38;5;241m.\u001B[39mcrosstab(index\u001B[38;5;241m=\u001B[39mAMB_PA_MECVV[\u001B[38;5;124m'\u001B[39m\u001B[38;5;124mIatrogènic\u001B[39m\u001B[38;5;124m'\u001B[39m], columns\u001B[38;5;241m=\u001B[39mSENSE_PA[\u001B[38;5;124m'\u001B[39m\u001B[38;5;124mIatrogènic\u001B[39m\u001B[38;5;124m'\u001B[39m]) \n\u001B[1;32m----> 3\u001B[0m chi2_23, p_value_23, dof_23, expected_23 \u001B[38;5;241m=\u001B[39m \u001B[43mchi2_contingency\u001B[49m\u001B[43m(\u001B[49m\u001B[43mcontingency_table_23\u001B[49m\u001B[43m)\u001B[49m \n\u001B[0;32m      5\u001B[0m \u001B[38;5;28mprint\u001B[39m(\u001B[38;5;124m\"\u001B[39m\u001B[38;5;124mEstadístic xi-quadrat entre AMB_PA_MECCV i SENSE_PA:\u001B[39m\u001B[38;5;124m\"\u001B[39m, chi2_23) \n\u001B[0;32m      6\u001B[0m \u001B[38;5;28mprint\u001B[39m(\u001B[38;5;124m\"\u001B[39m\u001B[38;5;124mP-valor entre AMB_PA_MECVV i SENSE_PA:\u001B[39m\u001B[38;5;124m\"\u001B[39m, p_value_23) \n",
      "File \u001B[1;32m~\\PycharmProjects\\practicum\\.venv\\Lib\\site-packages\\scipy\\stats\\contingency.py:333\u001B[0m, in \u001B[0;36mchi2_contingency\u001B[1;34m(observed, correction, lambda_)\u001B[0m\n\u001B[0;32m    331\u001B[0m     \u001B[38;5;28;01mraise\u001B[39;00m \u001B[38;5;167;01mValueError\u001B[39;00m(\u001B[38;5;124m\"\u001B[39m\u001B[38;5;124mAll values in `observed` must be nonnegative.\u001B[39m\u001B[38;5;124m\"\u001B[39m)\n\u001B[0;32m    332\u001B[0m \u001B[38;5;28;01mif\u001B[39;00m observed\u001B[38;5;241m.\u001B[39msize \u001B[38;5;241m==\u001B[39m \u001B[38;5;241m0\u001B[39m:\n\u001B[1;32m--> 333\u001B[0m     \u001B[38;5;28;01mraise\u001B[39;00m \u001B[38;5;167;01mValueError\u001B[39;00m(\u001B[38;5;124m\"\u001B[39m\u001B[38;5;124mNo data; `observed` has size 0.\u001B[39m\u001B[38;5;124m\"\u001B[39m)\n\u001B[0;32m    335\u001B[0m expected \u001B[38;5;241m=\u001B[39m expected_freq(observed)\n\u001B[0;32m    336\u001B[0m \u001B[38;5;28;01mif\u001B[39;00m np\u001B[38;5;241m.\u001B[39many(expected \u001B[38;5;241m==\u001B[39m \u001B[38;5;241m0\u001B[39m):\n\u001B[0;32m    337\u001B[0m     \u001B[38;5;66;03m# Include one of the positions where expected is zero in\u001B[39;00m\n\u001B[0;32m    338\u001B[0m     \u001B[38;5;66;03m# the exception message.\u001B[39;00m\n",
      "\u001B[1;31mValueError\u001B[0m: No data; `observed` has size 0."
     ]
    }
   ],
   "execution_count": 159
  },
  {
   "metadata": {
    "ExecuteTime": {
     "end_time": "2024-05-08T09:06:11.914855Z",
     "start_time": "2024-05-08T09:06:11.896656Z"
    }
   },
   "cell_type": "code",
   "source": [
    "contingency_table_14 = pd.crosstab(index=AMB_PA['Iatrogènic'], columns=TOTAL['Iatrogènic']) \n",
    " \n",
    "chi2_14, p_value_14, dof_14, expected_14 = chi2_contingency(contingency_table_14) \n",
    " \n",
    "print(\"Estadístic xi-quadrat entre AMB_PA i TOTAL:\", chi2_14) \n",
    "print(\"P-valor entre AMB_PA i TOTAL:\", p_value_14) \n",
    " \n",
    "if p_value_14 < 0.05: \n",
    "    print(\"Hi ha diferències significatives entre les distribucions d'iatrogènic en AMB_PA i TOTAL.\") \n",
    "else: \n",
    "    print(\"No hi ha diferències significatives entre les distribucions d'iatrogènic en AMB_PA i TOTAL.\") "
   ],
   "id": "734def2cd659999f",
   "outputs": [
    {
     "name": "stdout",
     "output_type": "stream",
     "text": [
      "Estadístic xi-quadrat entre AMB_PA i TOTAL: 0.0\n",
      "P-valor entre AMB_PA i TOTAL: 1.0\n",
      "No hi ha diferències significatives entre les distribucions d'iatrogènic en AMB_PA i TOTAL.\n"
     ]
    }
   ],
   "execution_count": 160
  },
  {
   "metadata": {
    "ExecuteTime": {
     "end_time": "2024-05-08T09:06:12.473789Z",
     "start_time": "2024-05-08T09:06:12.458842Z"
    }
   },
   "cell_type": "code",
   "source": [
    "contingency_table_24 = pd.crosstab(index=AMB_PA_MECVV['Iatrogènic'], columns=TOTAL['Iatrogènic']) \n",
    " \n",
    "chi2_24, p_value_24, dof_24, expected_24 = chi2_contingency(contingency_table_24) \n",
    " \n",
    "print(\"Estadístic xi-quadrat entre AMB_PA_MECVV i TOTAL:\", chi2_24) \n",
    "print(\"P-valor entre AMB_PA_MECVV i TOTAL:\", p_value_24) \n",
    " \n",
    "if p_value_24 < 0.05: \n",
    "    print(\"Hi ha diferències significatives entre les distribucions d'iatrogènic en AMB_PA_MECVV i TOTAL.\") \n",
    "else: \n",
    "    print(\"No hi ha diferències significatives entre les distribucions d'iatrogènic en AMB_PA_MECVV i TOTAL.\") "
   ],
   "id": "acbc3ac96d169d2d",
   "outputs": [
    {
     "name": "stdout",
     "output_type": "stream",
     "text": [
      "Estadístic xi-quadrat entre AMB_PA_MECVV i TOTAL: 0.0\n",
      "P-valor entre AMB_PA_MECVV i TOTAL: 1.0\n",
      "No hi ha diferències significatives entre les distribucions d'iatrogènic en AMB_PA_MECVV i TOTAL.\n"
     ]
    }
   ],
   "execution_count": 161
  },
  {
   "metadata": {
    "ExecuteTime": {
     "end_time": "2024-05-08T09:06:12.830758Z",
     "start_time": "2024-05-08T09:06:12.810767Z"
    }
   },
   "cell_type": "code",
   "source": [
    "contingency_table_34 = pd.crosstab(index=SENSE_PA['Iatrogènic'], columns=TOTAL['Iatrogènic']) \n",
    " \n",
    "chi2_34, p_value_34, dof_34, expected_34 = chi2_contingency(contingency_table_34) \n",
    " \n",
    "print(\"Estadístic xi-quadrat entre SENSE_PA i TOTAL:\", chi2_34) \n",
    "print(\"P-valor entre SENSE_PA i TOTAL:\", p_value_34) \n",
    " \n",
    "if p_value_34 < 0.05: \n",
    "    print(\"Hi ha diferències significatives entre les distribucions d'iatrogènic en SENSE_PA i TOTAL.\") \n",
    "else: \n",
    "    print(\"No hi ha diferències significatives entre les distribucions d'iatrogènic en SENSE_PA i TOTAL.\") "
   ],
   "id": "dd6422606fa35000",
   "outputs": [
    {
     "name": "stdout",
     "output_type": "stream",
     "text": [
      "Estadístic xi-quadrat entre SENSE_PA i TOTAL: 0.0\n",
      "P-valor entre SENSE_PA i TOTAL: 1.0\n",
      "No hi ha diferències significatives entre les distribucions d'iatrogènic en SENSE_PA i TOTAL.\n"
     ]
    }
   ],
   "execution_count": 162
  },
  {
   "metadata": {},
   "cell_type": "markdown",
   "source": [
    "## Restrenyiment"
   ],
   "id": "db8d96a1cf0b32f4"
  },
  {
   "metadata": {
    "ExecuteTime": {
     "end_time": "2024-05-08T09:06:13.398712Z",
     "start_time": "2024-05-08T09:06:13.392383Z"
    }
   },
   "cell_type": "code",
   "source": [
    "est_AMB_PA= (AMB_PA['Restrenyiment'] == 1.0).mean() * 100\n",
    "print(f\"Percentatge de restrenyiment: {est_AMB_PA:.2f}%\")"
   ],
   "id": "dc16c6f9e735fbb2",
   "outputs": [
    {
     "name": "stdout",
     "output_type": "stream",
     "text": [
      "Percentatge de restrenyiment: 0.00%\n"
     ]
    }
   ],
   "execution_count": 163
  },
  {
   "metadata": {
    "ExecuteTime": {
     "end_time": "2024-05-08T09:06:13.926445Z",
     "start_time": "2024-05-08T09:06:13.918488Z"
    }
   },
   "cell_type": "code",
   "source": [
    "est_AMB_PA_MECVV= (AMB_PA_MECVV['Restrenyiment'] == 1.0).mean() * 100\n",
    "print(f\"Percentatge de restrenyiment: {est_AMB_PA_MECVV:.2f}%\")"
   ],
   "id": "b3bf84a44b2be1a",
   "outputs": [
    {
     "name": "stdout",
     "output_type": "stream",
     "text": [
      "Percentatge de restrenyiment: 0.00%\n"
     ]
    }
   ],
   "execution_count": 164
  },
  {
   "metadata": {
    "ExecuteTime": {
     "end_time": "2024-05-08T09:06:14.549414Z",
     "start_time": "2024-05-08T09:06:14.540512Z"
    }
   },
   "cell_type": "code",
   "source": [
    "est_SENSE_PA= (SENSE_PA['Restrenyiment'] == 1.0).mean() * 100\n",
    "print(f\"Percentatge de restrenyiment: {est_SENSE_PA:.2f}%\")"
   ],
   "id": "a2ac461b783cef25",
   "outputs": [
    {
     "name": "stdout",
     "output_type": "stream",
     "text": [
      "Percentatge de restrenyiment: 0.00%\n"
     ]
    }
   ],
   "execution_count": 165
  },
  {
   "metadata": {
    "ExecuteTime": {
     "end_time": "2024-05-08T09:06:15.001017Z",
     "start_time": "2024-05-08T09:06:14.995553Z"
    }
   },
   "cell_type": "code",
   "source": [
    "est_TOTAL= (TOTAL['Restrenyiment'] == 1.0).mean() * 100\n",
    "print(f\"Percentatge de restrenyiment: {est_TOTAL:.2f}%\")"
   ],
   "id": "e5d6fc9a2614df7e",
   "outputs": [
    {
     "name": "stdout",
     "output_type": "stream",
     "text": [
      "Percentatge de restrenyiment: 0.00%\n"
     ]
    }
   ],
   "execution_count": 166
  },
  {
   "metadata": {},
   "cell_type": "markdown",
   "source": "#### Comparació distributiva",
   "id": "807133bfa1d01063"
  },
  {
   "metadata": {},
   "cell_type": "markdown",
   "source": "##### Normalitat i p-valor",
   "id": "2ce2df8492540a53"
  },
  {
   "metadata": {
    "ExecuteTime": {
     "end_time": "2024-05-08T09:06:15.578425Z",
     "start_time": "2024-05-08T09:06:15.559483Z"
    }
   },
   "cell_type": "code",
   "source": [
    "contingency_table_12 = pd.crosstab(index=AMB_PA['Restrenyiment'], columns=AMB_PA_MECVV['Restrenyiment']) \n",
    " \n",
    "chi2_12, p_value_12, dof_12, expected_12 = chi2_contingency(contingency_table_12) \n",
    " \n",
    "print(\"Estadístic xi-quadrat entre AMB_PA i AMB_PA_MECVV:\", chi2_12) \n",
    "print(\"P-valor entre AMB_PA i AMB_PA_MECVV:\", p_value_12) \n",
    " \n",
    "if p_value_12 < 0.05: \n",
    "    print(\"Hi ha diferències significatives entre les distribucions de restrenyiment en AMB_PA i AMB_PA_MECVV.\") \n",
    "else: \n",
    "    print(\"No hi ha diferències significatives entre les distribucions de restrenyiment en AMB_PA i AMB_PA_MECVV.\") "
   ],
   "id": "f12edefe2b75294c",
   "outputs": [
    {
     "name": "stdout",
     "output_type": "stream",
     "text": [
      "Estadístic xi-quadrat entre AMB_PA i AMB_PA_MECVV: 0.0\n",
      "P-valor entre AMB_PA i AMB_PA_MECVV: 1.0\n",
      "No hi ha diferències significatives entre les distribucions de restrenyiment en AMB_PA i AMB_PA_MECVV.\n"
     ]
    }
   ],
   "execution_count": 167
  },
  {
   "metadata": {
    "ExecuteTime": {
     "end_time": "2024-05-08T09:06:15.899329Z",
     "start_time": "2024-05-08T09:06:15.886072Z"
    }
   },
   "cell_type": "code",
   "source": [
    "contingency_table_13 = pd.crosstab(index=AMB_PA['Restrenyiment'], columns=SENSE_PA['Restrenyiment']) \n",
    " \n",
    "chi2_13, p_value_13, dof_13, expected_13 = chi2_contingency(contingency_table_13) \n",
    " \n",
    "print(\"Estadístic xi-quadrat entre AMB_PA i SENSE_PA:\", chi2_13) \n",
    "print(\"P-valor entre AMB_PA i SENSE_PA:\", p_value_13) \n",
    " \n",
    "if p_value_13 < 0.05: \n",
    "    print(\"Hi ha diferències significatives entre les distribucions de restrenyiment en AMB_PA i SENSE_PA.\") \n",
    "else: \n",
    "    print(\"No hi ha diferències significatives entre les distribucions de restrenyiment en AMB_PA i SENSE_PA.\") "
   ],
   "id": "50efaeac794ce53",
   "outputs": [
    {
     "name": "stdout",
     "output_type": "stream",
     "text": [
      "Estadístic xi-quadrat entre AMB_PA i SENSE_PA: 0.0\n",
      "P-valor entre AMB_PA i SENSE_PA: 1.0\n",
      "No hi ha diferències significatives entre les distribucions de restrenyiment en AMB_PA i SENSE_PA.\n"
     ]
    }
   ],
   "execution_count": 168
  },
  {
   "metadata": {
    "ExecuteTime": {
     "end_time": "2024-05-08T09:06:16.502134Z",
     "start_time": "2024-05-08T09:06:16.459456Z"
    }
   },
   "cell_type": "code",
   "source": [
    "contingency_table_23 = pd.crosstab(index=AMB_PA_MECVV['Restrenyiment'], columns=SENSE_PA['Restrenyiment']) \n",
    " \n",
    "chi2_23, p_value_23, dof_23, expected_23 = chi2_contingency(contingency_table_23) \n",
    " \n",
    "print(\"Estadístic xi-quadrat entre AMB_PA_MECCV i SENSE_PA:\", chi2_23) \n",
    "print(\"P-valor entre AMB_PA_MECVV i SENSE_PA:\", p_value_23) \n",
    " \n",
    "if p_value_23 < 0.05: \n",
    "    print(\"Hi ha diferències significatives entre les distribucions de restrenyiment en AMB_PA_MECVV i SENSE_PA.\") \n",
    "else: \n",
    "    print(\"No hi ha diferències significatives entre les distribucions de restrenyiment en AMB_PA_MECVV i SENSE_PA.\") "
   ],
   "id": "90d8d05f36d1bd2f",
   "outputs": [
    {
     "ename": "ValueError",
     "evalue": "No data; `observed` has size 0.",
     "output_type": "error",
     "traceback": [
      "\u001B[1;31m---------------------------------------------------------------------------\u001B[0m",
      "\u001B[1;31mValueError\u001B[0m                                Traceback (most recent call last)",
      "Cell \u001B[1;32mIn[169], line 3\u001B[0m\n\u001B[0;32m      1\u001B[0m contingency_table_23 \u001B[38;5;241m=\u001B[39m pd\u001B[38;5;241m.\u001B[39mcrosstab(index\u001B[38;5;241m=\u001B[39mAMB_PA_MECVV[\u001B[38;5;124m'\u001B[39m\u001B[38;5;124mRestrenyiment\u001B[39m\u001B[38;5;124m'\u001B[39m], columns\u001B[38;5;241m=\u001B[39mSENSE_PA[\u001B[38;5;124m'\u001B[39m\u001B[38;5;124mRestrenyiment\u001B[39m\u001B[38;5;124m'\u001B[39m]) \n\u001B[1;32m----> 3\u001B[0m chi2_23, p_value_23, dof_23, expected_23 \u001B[38;5;241m=\u001B[39m \u001B[43mchi2_contingency\u001B[49m\u001B[43m(\u001B[49m\u001B[43mcontingency_table_23\u001B[49m\u001B[43m)\u001B[49m \n\u001B[0;32m      5\u001B[0m \u001B[38;5;28mprint\u001B[39m(\u001B[38;5;124m\"\u001B[39m\u001B[38;5;124mEstadístic xi-quadrat entre AMB_PA_MECCV i SENSE_PA:\u001B[39m\u001B[38;5;124m\"\u001B[39m, chi2_23) \n\u001B[0;32m      6\u001B[0m \u001B[38;5;28mprint\u001B[39m(\u001B[38;5;124m\"\u001B[39m\u001B[38;5;124mP-valor entre AMB_PA_MECVV i SENSE_PA:\u001B[39m\u001B[38;5;124m\"\u001B[39m, p_value_23) \n",
      "File \u001B[1;32m~\\PycharmProjects\\practicum\\.venv\\Lib\\site-packages\\scipy\\stats\\contingency.py:333\u001B[0m, in \u001B[0;36mchi2_contingency\u001B[1;34m(observed, correction, lambda_)\u001B[0m\n\u001B[0;32m    331\u001B[0m     \u001B[38;5;28;01mraise\u001B[39;00m \u001B[38;5;167;01mValueError\u001B[39;00m(\u001B[38;5;124m\"\u001B[39m\u001B[38;5;124mAll values in `observed` must be nonnegative.\u001B[39m\u001B[38;5;124m\"\u001B[39m)\n\u001B[0;32m    332\u001B[0m \u001B[38;5;28;01mif\u001B[39;00m observed\u001B[38;5;241m.\u001B[39msize \u001B[38;5;241m==\u001B[39m \u001B[38;5;241m0\u001B[39m:\n\u001B[1;32m--> 333\u001B[0m     \u001B[38;5;28;01mraise\u001B[39;00m \u001B[38;5;167;01mValueError\u001B[39;00m(\u001B[38;5;124m\"\u001B[39m\u001B[38;5;124mNo data; `observed` has size 0.\u001B[39m\u001B[38;5;124m\"\u001B[39m)\n\u001B[0;32m    335\u001B[0m expected \u001B[38;5;241m=\u001B[39m expected_freq(observed)\n\u001B[0;32m    336\u001B[0m \u001B[38;5;28;01mif\u001B[39;00m np\u001B[38;5;241m.\u001B[39many(expected \u001B[38;5;241m==\u001B[39m \u001B[38;5;241m0\u001B[39m):\n\u001B[0;32m    337\u001B[0m     \u001B[38;5;66;03m# Include one of the positions where expected is zero in\u001B[39;00m\n\u001B[0;32m    338\u001B[0m     \u001B[38;5;66;03m# the exception message.\u001B[39;00m\n",
      "\u001B[1;31mValueError\u001B[0m: No data; `observed` has size 0."
     ]
    }
   ],
   "execution_count": 169
  },
  {
   "metadata": {
    "ExecuteTime": {
     "end_time": "2024-05-08T09:06:16.939918Z",
     "start_time": "2024-05-08T09:06:16.925883Z"
    }
   },
   "cell_type": "code",
   "source": [
    "contingency_table_14 = pd.crosstab(index=AMB_PA['Restrenyiment'], columns=TOTAL['Restrenyiment']) \n",
    " \n",
    "chi2_14, p_value_14, dof_14, expected_14 = chi2_contingency(contingency_table_14) \n",
    " \n",
    "print(\"Estadístic xi-quadrat entre AMB_PA i TOTAL:\", chi2_14) \n",
    "print(\"P-valor entre AMB_PA i TOTAL:\", p_value_14) \n",
    " \n",
    "if p_value_14 < 0.05: \n",
    "    print(\"Hi ha diferències significatives entre les distribucions de restrenyiment en AMB_PA i TOTAL.\") \n",
    "else: \n",
    "    print(\"No hi ha diferències significatives entre les distribucions de restrenyiment en AMB_PA i TOTAL.\") "
   ],
   "id": "2d21207a036204e0",
   "outputs": [
    {
     "name": "stdout",
     "output_type": "stream",
     "text": [
      "Estadístic xi-quadrat entre AMB_PA i TOTAL: 0.0\n",
      "P-valor entre AMB_PA i TOTAL: 1.0\n",
      "No hi ha diferències significatives entre les distribucions de restrenyiment en AMB_PA i TOTAL.\n"
     ]
    }
   ],
   "execution_count": 170
  },
  {
   "metadata": {
    "ExecuteTime": {
     "end_time": "2024-05-08T09:06:17.569107Z",
     "start_time": "2024-05-08T09:06:17.553870Z"
    }
   },
   "cell_type": "code",
   "source": [
    "contingency_table_24 = pd.crosstab(index=AMB_PA_MECVV['Restrenyiment'], columns=TOTAL['Restrenyiment']) \n",
    " \n",
    "chi2_24, p_value_24, dof_24, expected_24 = chi2_contingency(contingency_table_24) \n",
    " \n",
    "print(\"Estadístic xi-quadrat entre AMB_PA_MECVV i TOTAL:\", chi2_24) \n",
    "print(\"P-valor entre AMB_PA_MECVV i TOTAL:\", p_value_24) \n",
    " \n",
    "if p_value_24 < 0.05: \n",
    "    print(\"Hi ha diferències significatives entre les distribucions de restrenyiment en AMB_PA_MECVV i TOTAL.\") \n",
    "else: \n",
    "    print(\"No hi ha diferències significatives entre les distribucions de restrenyiment en AMB_PA_MECVV i TOTAL.\") "
   ],
   "id": "bafff58af54d09d2",
   "outputs": [
    {
     "name": "stdout",
     "output_type": "stream",
     "text": [
      "Estadístic xi-quadrat entre AMB_PA_MECVV i TOTAL: 0.0\n",
      "P-valor entre AMB_PA_MECVV i TOTAL: 1.0\n",
      "No hi ha diferències significatives entre les distribucions de restrenyiment en AMB_PA_MECVV i TOTAL.\n"
     ]
    }
   ],
   "execution_count": 171
  },
  {
   "metadata": {
    "ExecuteTime": {
     "end_time": "2024-05-08T09:06:18.169418Z",
     "start_time": "2024-05-08T09:06:18.155030Z"
    }
   },
   "cell_type": "code",
   "source": [
    "contingency_table_34 = pd.crosstab(index=SENSE_PA['Restrenyiment'], columns=TOTAL['Restrenyiment']) \n",
    " \n",
    "chi2_34, p_value_34, dof_34, expected_34 = chi2_contingency(contingency_table_34) \n",
    " \n",
    "print(\"Estadístic xi-quadrat entre SENSE_PA i TOTAL:\", chi2_34) \n",
    "print(\"P-valor entre SENSE_PA i TOTAL:\", p_value_34) \n",
    " \n",
    "if p_value_34 < 0.05: \n",
    "    print(\"Hi ha diferències significatives entre les distribucions de restrenyiment en SENSE_PA i TOTAL.\") \n",
    "else: \n",
    "    print(\"No hi ha diferències significatives entre les distribucions de restrenyiment en SENSE_PA i TOTAL.\") "
   ],
   "id": "c8ec6b9d3cc17103",
   "outputs": [
    {
     "name": "stdout",
     "output_type": "stream",
     "text": [
      "Estadístic xi-quadrat entre SENSE_PA i TOTAL: 0.0\n",
      "P-valor entre SENSE_PA i TOTAL: 1.0\n",
      "No hi ha diferències significatives entre les distribucions de restrenyiment en SENSE_PA i TOTAL.\n"
     ]
    }
   ],
   "execution_count": 172
  },
  {
   "metadata": {},
   "cell_type": "markdown",
   "source": "# Historial mèdic/comorbilitats",
   "id": "d311da4873623a2b"
  },
  {
   "metadata": {},
   "cell_type": "markdown",
   "source": [
    "## Malalties CV"
   ],
   "id": "3d8f9f8d375849e3"
  },
  {
   "metadata": {
    "ExecuteTime": {
     "end_time": "2024-05-08T09:06:18.492687Z",
     "start_time": "2024-05-08T09:06:18.484704Z"
    }
   },
   "cell_type": "code",
   "source": [
    "cv_AMB_PA= (AMB_PA['CV'] == 1.0).mean() * 100\n",
    "print(f\"Percentatge de problemes CV: {cv_AMB_PA:.2f}%\")"
   ],
   "id": "e32cfa2a884f35ec",
   "outputs": [
    {
     "name": "stdout",
     "output_type": "stream",
     "text": [
      "Percentatge de problemes CV: 5.88%\n"
     ]
    }
   ],
   "execution_count": 173
  },
  {
   "metadata": {
    "ExecuteTime": {
     "end_time": "2024-05-08T09:06:19.069471Z",
     "start_time": "2024-05-08T09:06:19.061638Z"
    }
   },
   "cell_type": "code",
   "source": [
    "cv_AMB_PA_MECVV= (AMB_PA_MECVV['CV'] == 1.0).mean() * 100\n",
    "print(f\"Percentatge de problemes CV: {cv_AMB_PA_MECVV:.2f}%\")"
   ],
   "id": "88b79facc46de5ee",
   "outputs": [
    {
     "name": "stdout",
     "output_type": "stream",
     "text": [
      "Percentatge de problemes CV: 0.00%\n"
     ]
    }
   ],
   "execution_count": 174
  },
  {
   "metadata": {
    "ExecuteTime": {
     "end_time": "2024-05-08T09:06:19.651635Z",
     "start_time": "2024-05-08T09:06:19.645801Z"
    }
   },
   "cell_type": "code",
   "source": [
    "cv_SENSE_PA= (SENSE_PA['CV'] == 1.0).mean() * 100\n",
    "print(f\"Percentatge de problemes CV: {cv_SENSE_PA:.2f}%\")"
   ],
   "id": "69cd26f61d232d64",
   "outputs": [
    {
     "name": "stdout",
     "output_type": "stream",
     "text": [
      "Percentatge de problemes CV: 25.00%\n"
     ]
    }
   ],
   "execution_count": 175
  },
  {
   "metadata": {
    "ExecuteTime": {
     "end_time": "2024-05-08T09:06:19.979479Z",
     "start_time": "2024-05-08T09:06:19.968081Z"
    }
   },
   "cell_type": "code",
   "source": [
    "cv_TOTAL= (TOTAL['CV'] == 1.0).mean() * 100\n",
    "print(f\"Percentatge de problemes CV: {cv_TOTAL:.2f}%\")"
   ],
   "id": "7e2761e0d183b53",
   "outputs": [
    {
     "name": "stdout",
     "output_type": "stream",
     "text": [
      "Percentatge de problemes CV: 6.00%\n"
     ]
    }
   ],
   "execution_count": 176
  },
  {
   "metadata": {},
   "cell_type": "markdown",
   "source": "#### Comparació distributiva",
   "id": "4cd96e9749196e1e"
  },
  {
   "metadata": {},
   "cell_type": "markdown",
   "source": "###### Normalitat i p-valor",
   "id": "7cdc03afbe142fec"
  },
  {
   "metadata": {
    "ExecuteTime": {
     "end_time": "2024-05-08T09:06:20.398622Z",
     "start_time": "2024-05-08T09:06:20.382265Z"
    }
   },
   "cell_type": "code",
   "source": [
    "contingency_table_12 = pd.crosstab(index=AMB_PA['CV'], columns=AMB_PA_MECVV['CV'])  \n",
    " \n",
    "chi2_12, p_value_12, dof_12, expected_12 = chi2_contingency(contingency_table_12)  \n",
    " \n",
    "print(\"Estadístic xi-quadrat entre AMB_PA i AMB_PA_MECVV:\", chi2_12)  \n",
    "print(\"P-valor entre AMB_PA i AMB_PA_MECVV:\", p_value_12)  \n",
    " \n",
    "if p_value_12 < 0.05:  \n",
    "   print(\"Hi ha diferències significatives entre les distribucions de malalties cardiovasculars en AMB_PA i AMB_PA_MECVV.\")  \n",
    "else:  \n",
    "   print(\"No hi ha diferències significatives entre les distribucions de malalties cardiovasculars en AMB_PA i AMB_PA_MECVV.\") "
   ],
   "id": "5f10fd063b9b5044",
   "outputs": [
    {
     "name": "stdout",
     "output_type": "stream",
     "text": [
      "Estadístic xi-quadrat entre AMB_PA i AMB_PA_MECVV: 0.0\n",
      "P-valor entre AMB_PA i AMB_PA_MECVV: 1.0\n",
      "No hi ha diferències significatives entre les distribucions de malalties cardiovasculars en AMB_PA i AMB_PA_MECVV.\n"
     ]
    }
   ],
   "execution_count": 177
  },
  {
   "metadata": {
    "ExecuteTime": {
     "end_time": "2024-05-08T09:06:20.759959Z",
     "start_time": "2024-05-08T09:06:20.744097Z"
    }
   },
   "cell_type": "code",
   "source": [
    "contingency_table_13 = pd.crosstab(index=AMB_PA['CV'], columns=SENSE_PA['CV'])  \n",
    " \n",
    "chi2_13, p_value_13, dof_13, expected_13 = chi2_contingency(contingency_table_13)  \n",
    " \n",
    "print(\"Estadístic xi-quadrat entre AMB_PA i SENSE_PA:\", chi2_13)  \n",
    "print(\"P-valor entre AMB_PA i SENSE_PA:\", p_value_13)  \n",
    " \n",
    "if p_value_13 < 0.05:  \n",
    "   print(\"Hi ha diferències significatives entre les distribucions de malalties cardiovasculars en AMB_PA i SENSE_PA.\")  \n",
    "else:  \n",
    "   print(\"No hi ha diferències significatives entre les distribucions de malalties cardiovasculars en AMB_PA i SENSE_PA.\") "
   ],
   "id": "3e6ab47f2f7f38d6",
   "outputs": [
    {
     "name": "stdout",
     "output_type": "stream",
     "text": [
      "Estadístic xi-quadrat entre AMB_PA i SENSE_PA: 0.1875\n",
      "P-valor entre AMB_PA i SENSE_PA: 0.6650055421020291\n",
      "No hi ha diferències significatives entre les distribucions de malalties cardiovasculars en AMB_PA i SENSE_PA.\n"
     ]
    }
   ],
   "execution_count": 178
  },
  {
   "metadata": {
    "ExecuteTime": {
     "end_time": "2024-05-08T09:06:21.439082Z",
     "start_time": "2024-05-08T09:06:21.385970Z"
    }
   },
   "cell_type": "code",
   "source": [
    "contingency_table_23 = pd.crosstab(index=AMB_PA_MECVV['CV'], columns=SENSE_PA['CV'])  \n",
    " \n",
    "chi2_23, p_value_23, dof_23, expected_23 = chi2_contingency(contingency_table_23)  \n",
    " \n",
    "print(\"Estadístic xi-quadrat entre AMB_PA_MECCV i SENSE_PA:\", chi2_23)  \n",
    "print(\"P-valor entre AMB_PA_MECVV i SENSE_PA:\", p_value_23)  \n",
    " \n",
    "if p_value_23 < 0.05:  \n",
    "   print(\"Hi ha diferències significatives entre les distribucions de malalties cardiovasculars en AMB_PA_MECVV i SENSE_PA.\")  \n",
    "else:  \n",
    "   print(\"No hi ha diferències significatives entre les distribucions de malalties cardiovasculars en AMB_PA_MECVV i SENSE_PA.\") "
   ],
   "id": "c9c3b2baeeea6423",
   "outputs": [
    {
     "ename": "ValueError",
     "evalue": "No data; `observed` has size 0.",
     "output_type": "error",
     "traceback": [
      "\u001B[1;31m---------------------------------------------------------------------------\u001B[0m",
      "\u001B[1;31mValueError\u001B[0m                                Traceback (most recent call last)",
      "Cell \u001B[1;32mIn[179], line 3\u001B[0m\n\u001B[0;32m      1\u001B[0m contingency_table_23 \u001B[38;5;241m=\u001B[39m pd\u001B[38;5;241m.\u001B[39mcrosstab(index\u001B[38;5;241m=\u001B[39mAMB_PA_MECVV[\u001B[38;5;124m'\u001B[39m\u001B[38;5;124mCV\u001B[39m\u001B[38;5;124m'\u001B[39m], columns\u001B[38;5;241m=\u001B[39mSENSE_PA[\u001B[38;5;124m'\u001B[39m\u001B[38;5;124mCV\u001B[39m\u001B[38;5;124m'\u001B[39m])  \n\u001B[1;32m----> 3\u001B[0m chi2_23, p_value_23, dof_23, expected_23 \u001B[38;5;241m=\u001B[39m \u001B[43mchi2_contingency\u001B[49m\u001B[43m(\u001B[49m\u001B[43mcontingency_table_23\u001B[49m\u001B[43m)\u001B[49m  \n\u001B[0;32m      5\u001B[0m \u001B[38;5;28mprint\u001B[39m(\u001B[38;5;124m\"\u001B[39m\u001B[38;5;124mEstadístic xi-quadrat entre AMB_PA_MECCV i SENSE_PA:\u001B[39m\u001B[38;5;124m\"\u001B[39m, chi2_23)  \n\u001B[0;32m      6\u001B[0m \u001B[38;5;28mprint\u001B[39m(\u001B[38;5;124m\"\u001B[39m\u001B[38;5;124mP-valor entre AMB_PA_MECVV i SENSE_PA:\u001B[39m\u001B[38;5;124m\"\u001B[39m, p_value_23)  \n",
      "File \u001B[1;32m~\\PycharmProjects\\practicum\\.venv\\Lib\\site-packages\\scipy\\stats\\contingency.py:333\u001B[0m, in \u001B[0;36mchi2_contingency\u001B[1;34m(observed, correction, lambda_)\u001B[0m\n\u001B[0;32m    331\u001B[0m     \u001B[38;5;28;01mraise\u001B[39;00m \u001B[38;5;167;01mValueError\u001B[39;00m(\u001B[38;5;124m\"\u001B[39m\u001B[38;5;124mAll values in `observed` must be nonnegative.\u001B[39m\u001B[38;5;124m\"\u001B[39m)\n\u001B[0;32m    332\u001B[0m \u001B[38;5;28;01mif\u001B[39;00m observed\u001B[38;5;241m.\u001B[39msize \u001B[38;5;241m==\u001B[39m \u001B[38;5;241m0\u001B[39m:\n\u001B[1;32m--> 333\u001B[0m     \u001B[38;5;28;01mraise\u001B[39;00m \u001B[38;5;167;01mValueError\u001B[39;00m(\u001B[38;5;124m\"\u001B[39m\u001B[38;5;124mNo data; `observed` has size 0.\u001B[39m\u001B[38;5;124m\"\u001B[39m)\n\u001B[0;32m    335\u001B[0m expected \u001B[38;5;241m=\u001B[39m expected_freq(observed)\n\u001B[0;32m    336\u001B[0m \u001B[38;5;28;01mif\u001B[39;00m np\u001B[38;5;241m.\u001B[39many(expected \u001B[38;5;241m==\u001B[39m \u001B[38;5;241m0\u001B[39m):\n\u001B[0;32m    337\u001B[0m     \u001B[38;5;66;03m# Include one of the positions where expected is zero in\u001B[39;00m\n\u001B[0;32m    338\u001B[0m     \u001B[38;5;66;03m# the exception message.\u001B[39;00m\n",
      "\u001B[1;31mValueError\u001B[0m: No data; `observed` has size 0."
     ]
    }
   ],
   "execution_count": 179
  },
  {
   "metadata": {
    "ExecuteTime": {
     "end_time": "2024-05-08T09:06:21.853122Z",
     "start_time": "2024-05-08T09:06:21.835959Z"
    }
   },
   "cell_type": "code",
   "source": [
    "contingency_table_14 = pd.crosstab(index=AMB_PA['CV'], columns=TOTAL['CV'])  \n",
    " \n",
    "chi2_14, p_value_14, dof_14, expected_14 = chi2_contingency(contingency_table_14)  \n",
    " \n",
    "print(\"Estadístic xi-quadrat entre AMB_PA i TOTAL:\", chi2_14)  \n",
    "print(\"P-valor entre AMB_PA i TOTAL:\", p_value_14)  \n",
    " \n",
    "if p_value_14 < 0.05:  \n",
    "   print(\"Hi ha diferències significatives entre les distribucions de malalties cardiovasculars en AMB_PA i TOTAL.\")  \n",
    "else:  \n",
    "   print(\"No hi ha diferències significatives entre les distribucions de malalties cardiovasculars en AMB_PA i TOTAL.\") "
   ],
   "id": "fe22c31fb55e885e",
   "outputs": [
    {
     "name": "stdout",
     "output_type": "stream",
     "text": [
      "Estadístic xi-quadrat entre AMB_PA i TOTAL: 3.7353515625\n",
      "P-valor entre AMB_PA i TOTAL: 0.053272454982386926\n",
      "No hi ha diferències significatives entre les distribucions de malalties cardiovasculars en AMB_PA i TOTAL.\n"
     ]
    }
   ],
   "execution_count": 180
  },
  {
   "metadata": {
    "ExecuteTime": {
     "end_time": "2024-05-08T09:06:22.362678Z",
     "start_time": "2024-05-08T09:06:22.347374Z"
    }
   },
   "cell_type": "code",
   "source": [
    "contingency_table_24 = pd.crosstab(index=AMB_PA_MECVV['CV'], columns=TOTAL['CV'])  \n",
    " \n",
    "chi2_24, p_value_24, dof_24, expected_24 = chi2_contingency(contingency_table_24)  \n",
    " \n",
    "print(\"Estadístic xi-quadrat entre AMB_PA_MECVV i TOTAL:\", chi2_24)  \n",
    "print(\"P-valor entre AMB_PA_MECVV i TOTAL:\", p_value_24)  \n",
    " \n",
    "if p_value_24 < 0.05:  \n",
    "   print(\"Hi ha diferències significatives entre les distribucions de malalties cardiovasculars en AMB_PA_MECVV i TOTAL.\")  \n",
    "else:  \n",
    "   print(\"No hi ha diferències significatives entre les distribucions de malalties cardiovasculars en AMB_PA_MECVV i TOTAL.\") "
   ],
   "id": "ec61182aae1059b4",
   "outputs": [
    {
     "name": "stdout",
     "output_type": "stream",
     "text": [
      "Estadístic xi-quadrat entre AMB_PA_MECVV i TOTAL: 0.0\n",
      "P-valor entre AMB_PA_MECVV i TOTAL: 1.0\n",
      "No hi ha diferències significatives entre les distribucions de malalties cardiovasculars en AMB_PA_MECVV i TOTAL.\n"
     ]
    }
   ],
   "execution_count": 181
  },
  {
   "metadata": {
    "ExecuteTime": {
     "end_time": "2024-05-08T09:06:22.916642Z",
     "start_time": "2024-05-08T09:06:22.896269Z"
    }
   },
   "cell_type": "code",
   "source": [
    "contingency_table_34 = pd.crosstab(index=SENSE_PA['CV'], columns=TOTAL['CV'])  \n",
    " \n",
    "chi2_34, p_value_34, dof_34, expected_34 = chi2_contingency(contingency_table_34)  \n",
    " \n",
    "print(\"Estadístic xi-quadrat entre SENSE_PA i TOTAL:\", chi2_34)  \n",
    "print(\"P-valor entre SENSE_PA i TOTAL:\", p_value_34)  \n",
    " \n",
    "if p_value_34 < 0.05:  \n",
    "   print(\"Hi ha diferències significatives entre les distribucions de malalties cardiovasculars en SENSE_PA i TOTAL.\")  \n",
    "else:  \n",
    "   print(\"No hi ha diferències significatives entre les distribucions de malalties cardiovasculars en SENSE_PA i TOTAL.\") "
   ],
   "id": "1521e32680963276",
   "outputs": [
    {
     "name": "stdout",
     "output_type": "stream",
     "text": [
      "Estadístic xi-quadrat entre SENSE_PA i TOTAL: 3.5555555555555554\n",
      "P-valor entre SENSE_PA i TOTAL: 0.05934643879191998\n",
      "No hi ha diferències significatives entre les distribucions de malalties cardiovasculars en SENSE_PA i TOTAL.\n"
     ]
    }
   ],
   "execution_count": 182
  },
  {
   "metadata": {},
   "cell_type": "markdown",
   "source": [
    "## Malalties del cor"
   ],
   "id": "ccb034e70398680a"
  },
  {
   "metadata": {
    "ExecuteTime": {
     "end_time": "2024-05-08T09:06:23.282535Z",
     "start_time": "2024-05-08T09:06:23.273679Z"
    }
   },
   "cell_type": "code",
   "source": [
    "cora_AMB_PA= (AMB_PA['Probl.cor'] == 1.0).mean() * 100\n",
    "print(f\"Percentatge de malalties del cor: {cora_AMB_PA:.2f}%\")"
   ],
   "id": "83445fc0eafd0407",
   "outputs": [
    {
     "name": "stdout",
     "output_type": "stream",
     "text": [
      "Percentatge de malalties del cor: 11.76%\n"
     ]
    }
   ],
   "execution_count": 183
  },
  {
   "metadata": {
    "ExecuteTime": {
     "end_time": "2024-05-08T09:06:23.805544Z",
     "start_time": "2024-05-08T09:06:23.795627Z"
    }
   },
   "cell_type": "code",
   "source": [
    "cora_AMB_PA_MECVV= (AMB_PA_MECVV['Probl.cor'] == 1.0).mean() * 100\n",
    "print(f\"Percentatge de malalties del cor: {cora_AMB_PA_MECVV:.2f}%\")"
   ],
   "id": "bd7136466bd809e1",
   "outputs": [
    {
     "name": "stdout",
     "output_type": "stream",
     "text": [
      "Percentatge de malalties del cor: 0.00%\n"
     ]
    }
   ],
   "execution_count": 184
  },
  {
   "metadata": {
    "ExecuteTime": {
     "end_time": "2024-05-08T09:06:24.159131Z",
     "start_time": "2024-05-08T09:06:24.151836Z"
    }
   },
   "cell_type": "code",
   "source": [
    "cora_SENSE_PA= (SENSE_PA['Probl.cor'] == 1.0).mean() * 100\n",
    "print(f\"Percentatge de malalties del cor: {cora_SENSE_PA:.2f}%\")"
   ],
   "id": "f5a394abf4441af0",
   "outputs": [
    {
     "name": "stdout",
     "output_type": "stream",
     "text": [
      "Percentatge de malalties del cor: 37.50%\n"
     ]
    }
   ],
   "execution_count": 185
  },
  {
   "metadata": {
    "ExecuteTime": {
     "end_time": "2024-05-08T09:06:24.699595Z",
     "start_time": "2024-05-08T09:06:24.693231Z"
    }
   },
   "cell_type": "code",
   "source": [
    "cora_TOTAL= (TOTAL['Probl.cor'] == 1.0).mean() * 100\n",
    "print(f\"Percentatge de malalties del cor: {cora_TOTAL:.2f}%\")"
   ],
   "id": "b48c6258937fd780",
   "outputs": [
    {
     "name": "stdout",
     "output_type": "stream",
     "text": [
      "Percentatge de malalties del cor: 14.00%\n"
     ]
    }
   ],
   "execution_count": 186
  },
  {
   "metadata": {},
   "cell_type": "markdown",
   "source": "#### Comparació distributiva",
   "id": "a6c0069e93bb4b47"
  },
  {
   "metadata": {},
   "cell_type": "markdown",
   "source": "##### Normalitat i p-valor ",
   "id": "a72ee98e29b732e6"
  },
  {
   "metadata": {
    "ExecuteTime": {
     "end_time": "2024-05-08T09:06:25.230283Z",
     "start_time": "2024-05-08T09:06:25.214576Z"
    }
   },
   "cell_type": "code",
   "source": [
    "contingency_table_12 = pd.crosstab(index=AMB_PA['Probl.cor'], columns=AMB_PA_MECVV['Probl.cor'])  \n",
    " \n",
    "chi2_12, p_value_12, dof_12, expected_12 = chi2_contingency(contingency_table_12)  \n",
    " \n",
    "print(\"Estadístic xi-quadrat entre AMB_PA i AMB_PA_MECVV:\", chi2_12)  \n",
    "print(\"P-valor entre AMB_PA i AMB_PA_MECVV:\", p_value_12)  \n",
    " \n",
    "if p_value_12 < 0.05:  \n",
    "   print(\"Hi ha diferències significatives entre les distribucions de malalties del cor en AMB_PA i AMB_PA_MECVV.\")  \n",
    "else:  \n",
    "   print(\"No hi ha diferències significatives entre les distribucions de malalties del cor en AMB_PA i AMB_PA_MECVV.\") "
   ],
   "id": "dd41146095c973e6",
   "outputs": [
    {
     "name": "stdout",
     "output_type": "stream",
     "text": [
      "Estadístic xi-quadrat entre AMB_PA i AMB_PA_MECVV: 0.0\n",
      "P-valor entre AMB_PA i AMB_PA_MECVV: 1.0\n",
      "No hi ha diferències significatives entre les distribucions de malalties del cor en AMB_PA i AMB_PA_MECVV.\n"
     ]
    }
   ],
   "execution_count": 187
  },
  {
   "metadata": {
    "ExecuteTime": {
     "end_time": "2024-05-08T09:06:25.969925Z",
     "start_time": "2024-05-08T09:06:25.953327Z"
    }
   },
   "cell_type": "code",
   "source": [
    "contingency_table_13 = pd.crosstab(index=AMB_PA['Probl.cor'], columns=SENSE_PA['Probl.cor'])  \n",
    " \n",
    "chi2_13, p_value_13, dof_13, expected_13 = chi2_contingency(contingency_table_13)  \n",
    " \n",
    "print(\"Estadístic xi-quadrat entre AMB_PA i SENSE_PA:\", chi2_13)  \n",
    "print(\"P-valor entre AMB_PA i SENSE_PA:\", p_value_13)  \n",
    " \n",
    "if p_value_13 < 0.05:  \n",
    "   print(\"Hi ha diferències significatives entre les distribucions de malalties del cor en AMB_PA i SENSE_PA.\")  \n",
    "else:  \n",
    "   print(\"No hi ha diferències significatives entre les distribucions de malalties del cor en AMB_PA i SENSE_PA.\") "
   ],
   "id": "51f94835fcff1281",
   "outputs": [
    {
     "name": "stdout",
     "output_type": "stream",
     "text": [
      "Estadístic xi-quadrat entre AMB_PA i SENSE_PA: 0.0\n",
      "P-valor entre AMB_PA i SENSE_PA: 1.0\n",
      "No hi ha diferències significatives entre les distribucions de malalties del cor en AMB_PA i SENSE_PA.\n"
     ]
    }
   ],
   "execution_count": 188
  },
  {
   "metadata": {
    "ExecuteTime": {
     "end_time": "2024-05-08T09:06:26.314396Z",
     "start_time": "2024-05-08T09:06:26.255809Z"
    }
   },
   "cell_type": "code",
   "source": [
    "contingency_table_23 = pd.crosstab(index=AMB_PA_MECVV['Probl.cor'], columns=SENSE_PA['Probl.cor'])  \n",
    " \n",
    "chi2_23, p_value_23, dof_23, expected_23 = chi2_contingency(contingency_table_23)  \n",
    " \n",
    "print(\"Estadístic xi-quadrat entre AMB_PA_MECCV i SENSE_PA:\", chi2_23)  \n",
    "print(\"P-valor entre AMB_PA_MECVV i SENSE_PA:\", p_value_23)  \n",
    " \n",
    "if p_value_23 < 0.05:  \n",
    "   print(\"Hi ha diferències significatives entre les distribucions de malalties del cor en AMB_PA_MECVV i SENSE_PA.\")  \n",
    "else:  \n",
    "   print(\"No hi ha diferències significatives entre les distribucions de malalties del cor en AMB_PA_MECVV i SENSE_PA.\") "
   ],
   "id": "91d8fe72b61842",
   "outputs": [
    {
     "ename": "ValueError",
     "evalue": "No data; `observed` has size 0.",
     "output_type": "error",
     "traceback": [
      "\u001B[1;31m---------------------------------------------------------------------------\u001B[0m",
      "\u001B[1;31mValueError\u001B[0m                                Traceback (most recent call last)",
      "Cell \u001B[1;32mIn[189], line 3\u001B[0m\n\u001B[0;32m      1\u001B[0m contingency_table_23 \u001B[38;5;241m=\u001B[39m pd\u001B[38;5;241m.\u001B[39mcrosstab(index\u001B[38;5;241m=\u001B[39mAMB_PA_MECVV[\u001B[38;5;124m'\u001B[39m\u001B[38;5;124mProbl.cor\u001B[39m\u001B[38;5;124m'\u001B[39m], columns\u001B[38;5;241m=\u001B[39mSENSE_PA[\u001B[38;5;124m'\u001B[39m\u001B[38;5;124mProbl.cor\u001B[39m\u001B[38;5;124m'\u001B[39m])  \n\u001B[1;32m----> 3\u001B[0m chi2_23, p_value_23, dof_23, expected_23 \u001B[38;5;241m=\u001B[39m \u001B[43mchi2_contingency\u001B[49m\u001B[43m(\u001B[49m\u001B[43mcontingency_table_23\u001B[49m\u001B[43m)\u001B[49m  \n\u001B[0;32m      5\u001B[0m \u001B[38;5;28mprint\u001B[39m(\u001B[38;5;124m\"\u001B[39m\u001B[38;5;124mEstadístic xi-quadrat entre AMB_PA_MECCV i SENSE_PA:\u001B[39m\u001B[38;5;124m\"\u001B[39m, chi2_23)  \n\u001B[0;32m      6\u001B[0m \u001B[38;5;28mprint\u001B[39m(\u001B[38;5;124m\"\u001B[39m\u001B[38;5;124mP-valor entre AMB_PA_MECVV i SENSE_PA:\u001B[39m\u001B[38;5;124m\"\u001B[39m, p_value_23)  \n",
      "File \u001B[1;32m~\\PycharmProjects\\practicum\\.venv\\Lib\\site-packages\\scipy\\stats\\contingency.py:333\u001B[0m, in \u001B[0;36mchi2_contingency\u001B[1;34m(observed, correction, lambda_)\u001B[0m\n\u001B[0;32m    331\u001B[0m     \u001B[38;5;28;01mraise\u001B[39;00m \u001B[38;5;167;01mValueError\u001B[39;00m(\u001B[38;5;124m\"\u001B[39m\u001B[38;5;124mAll values in `observed` must be nonnegative.\u001B[39m\u001B[38;5;124m\"\u001B[39m)\n\u001B[0;32m    332\u001B[0m \u001B[38;5;28;01mif\u001B[39;00m observed\u001B[38;5;241m.\u001B[39msize \u001B[38;5;241m==\u001B[39m \u001B[38;5;241m0\u001B[39m:\n\u001B[1;32m--> 333\u001B[0m     \u001B[38;5;28;01mraise\u001B[39;00m \u001B[38;5;167;01mValueError\u001B[39;00m(\u001B[38;5;124m\"\u001B[39m\u001B[38;5;124mNo data; `observed` has size 0.\u001B[39m\u001B[38;5;124m\"\u001B[39m)\n\u001B[0;32m    335\u001B[0m expected \u001B[38;5;241m=\u001B[39m expected_freq(observed)\n\u001B[0;32m    336\u001B[0m \u001B[38;5;28;01mif\u001B[39;00m np\u001B[38;5;241m.\u001B[39many(expected \u001B[38;5;241m==\u001B[39m \u001B[38;5;241m0\u001B[39m):\n\u001B[0;32m    337\u001B[0m     \u001B[38;5;66;03m# Include one of the positions where expected is zero in\u001B[39;00m\n\u001B[0;32m    338\u001B[0m     \u001B[38;5;66;03m# the exception message.\u001B[39;00m\n",
      "\u001B[1;31mValueError\u001B[0m: No data; `observed` has size 0."
     ]
    }
   ],
   "execution_count": 189
  },
  {
   "metadata": {
    "ExecuteTime": {
     "end_time": "2024-05-08T09:06:26.865493Z",
     "start_time": "2024-05-08T09:06:26.848534Z"
    }
   },
   "cell_type": "code",
   "source": [
    "contingency_table_14 = pd.crosstab(index=AMB_PA['Probl.cor'], columns=TOTAL['Probl.cor'])  \n",
    " \n",
    "chi2_14, p_value_14, dof_14, expected_14 = chi2_contingency(contingency_table_14)  \n",
    " \n",
    "print(\"Estadístic xi-quadrat entre AMB_PA i TOTAL:\", chi2_14)  \n",
    "print(\"P-valor entre AMB_PA i TOTAL:\", p_value_14)  \n",
    " \n",
    "if p_value_14 < 0.05:  \n",
    "   print(\"Hi ha diferències significatives entre les distribucions de malalties del cor en AMB_PA i TOTAL.\")  \n",
    "else:  \n",
    "   print(\"No hi ha diferències significatives entre les distribucions de malalties del cor en AMB_PA i TOTAL.\") "
   ],
   "id": "fb65f1d25a0c1dd0",
   "outputs": [
    {
     "name": "stdout",
     "output_type": "stream",
     "text": [
      "Estadístic xi-quadrat entre AMB_PA i TOTAL: 8.731388888888889\n",
      "P-valor entre AMB_PA i TOTAL: 0.0031277815159609333\n",
      "Hi ha diferències significatives entre les distribucions de malalties del cor en AMB_PA i TOTAL.\n"
     ]
    }
   ],
   "execution_count": 190
  },
  {
   "metadata": {
    "ExecuteTime": {
     "end_time": "2024-05-08T09:06:27.430701Z",
     "start_time": "2024-05-08T09:06:27.416525Z"
    }
   },
   "cell_type": "code",
   "source": [
    "contingency_table_24 = pd.crosstab(index=AMB_PA_MECVV['Probl.cor'], columns=TOTAL['Probl.cor'])  \n",
    " \n",
    "chi2_24, p_value_24, dof_24, expected_24 = chi2_contingency(contingency_table_24)  \n",
    " \n",
    "print(\"Estadístic xi-quadrat entre AMB_PA_MECVV i TOTAL:\", chi2_24)  \n",
    "print(\"P-valor entre AMB_PA_MECVV i TOTAL:\", p_value_24)  \n",
    " \n",
    "if p_value_24 < 0.05:  \n",
    "   print(\"Hi ha diferències significatives entre les distribucions de malalties del cor en AMB_PA_MECVV i TOTAL.\")  \n",
    "else:  \n",
    "   print(\"No hi ha diferències significatives entre les distribucions de malalties del cor en AMB_PA_MECVV i TOTAL.\") "
   ],
   "id": "4059315250e269d7",
   "outputs": [
    {
     "name": "stdout",
     "output_type": "stream",
     "text": [
      "Estadístic xi-quadrat entre AMB_PA_MECVV i TOTAL: 0.0\n",
      "P-valor entre AMB_PA_MECVV i TOTAL: 1.0\n",
      "No hi ha diferències significatives entre les distribucions de malalties del cor en AMB_PA_MECVV i TOTAL.\n"
     ]
    }
   ],
   "execution_count": 191
  },
  {
   "metadata": {
    "ExecuteTime": {
     "end_time": "2024-05-08T09:06:27.781023Z",
     "start_time": "2024-05-08T09:06:27.765865Z"
    }
   },
   "cell_type": "code",
   "source": [
    "contingency_table_34 = pd.crosstab(index=SENSE_PA['Probl.cor'], columns=TOTAL['Probl.cor'])  \n",
    " \n",
    "chi2_34, p_value_34, dof_34, expected_34 = chi2_contingency(contingency_table_34)  \n",
    " \n",
    "print(\"Estadístic xi-quadrat entre SENSE_PA i TOTAL:\", chi2_34)  \n",
    "print(\"P-valor entre SENSE_PA i TOTAL:\", p_value_34)  \n",
    " \n",
    "if p_value_34 < 0.05:  \n",
    "   print(\"Hi ha diferències significatives entre les distribucions de malalties del cor en SENSE_PA i TOTAL.\")  \n",
    "else:  \n",
    "   print(\"No hi ha diferències significatives entre les distribucions de malalties del cor en SENSE_PA i TOTAL.\") "
   ],
   "id": "69c40b42e11ea15c",
   "outputs": [
    {
     "name": "stdout",
     "output_type": "stream",
     "text": [
      "Estadístic xi-quadrat entre SENSE_PA i TOTAL: 4.302222222222222\n",
      "P-valor entre SENSE_PA i TOTAL: 0.0380626070324449\n",
      "Hi ha diferències significatives entre les distribucions de malalties del cor en SENSE_PA i TOTAL.\n"
     ]
    }
   ],
   "execution_count": 192
  },
  {
   "metadata": {},
   "cell_type": "markdown",
   "source": [
    "## Malalties neurodegeneratives"
   ],
   "id": "18c9cce147e62274"
  },
  {
   "metadata": {
    "ExecuteTime": {
     "end_time": "2024-05-08T09:06:28.309112Z",
     "start_time": "2024-05-08T09:06:28.299725Z"
    }
   },
   "cell_type": "code",
   "source": [
    "nd_AMB_PA= (AMB_PA['Neurodegeneratives'] == 1.0).mean() * 100\n",
    "print(f\"Percentatge de malalties neurodegeneratives: {nd_AMB_PA:.2f}%\")"
   ],
   "id": "1b290be0c970c5fe",
   "outputs": [
    {
     "name": "stdout",
     "output_type": "stream",
     "text": [
      "Percentatge de malalties neurodegeneratives: 0.00%\n"
     ]
    }
   ],
   "execution_count": 193
  },
  {
   "metadata": {
    "ExecuteTime": {
     "end_time": "2024-05-08T09:06:28.610221Z",
     "start_time": "2024-05-08T09:06:28.602146Z"
    }
   },
   "cell_type": "code",
   "source": [
    "nd_AMB_PA_MECVV= (AMB_PA_MECVV['Neurodegeneratives'] == 1.0).mean() * 100\n",
    "print(f\"Percentatge de malalties neurodegeneratives: {nd_AMB_PA_MECVV:.2f}%\")"
   ],
   "id": "d7a46cc9000b68a9",
   "outputs": [
    {
     "name": "stdout",
     "output_type": "stream",
     "text": [
      "Percentatge de malalties neurodegeneratives: 12.50%\n"
     ]
    }
   ],
   "execution_count": 194
  },
  {
   "metadata": {
    "ExecuteTime": {
     "end_time": "2024-05-08T09:06:29.181608Z",
     "start_time": "2024-05-08T09:06:29.173196Z"
    }
   },
   "cell_type": "code",
   "source": [
    "nd_SENSE_PA= (SENSE_PA['Neurodegeneratives'] == 1.0).mean() * 100\n",
    "print(f\"Percentatge de malalties neurodegeneratives: {nd_SENSE_PA:.2f}%\")"
   ],
   "id": "fef909050dd582f3",
   "outputs": [
    {
     "name": "stdout",
     "output_type": "stream",
     "text": [
      "Percentatge de malalties neurodegeneratives: 12.50%\n"
     ]
    }
   ],
   "execution_count": 195
  },
  {
   "metadata": {
    "ExecuteTime": {
     "end_time": "2024-05-08T09:06:29.597939Z",
     "start_time": "2024-05-08T09:06:29.584486Z"
    }
   },
   "cell_type": "code",
   "source": [
    "nd_TOTAL= (TOTAL['Neurodegeneratives'] == 1.0).mean() * 100\n",
    "print(f\"Percentatge de malalties neurodegeneratives: {nd_TOTAL:.2f}%\")"
   ],
   "id": "1212802ac90be63b",
   "outputs": [
    {
     "name": "stdout",
     "output_type": "stream",
     "text": [
      "Percentatge de malalties neurodegeneratives: 4.00%\n"
     ]
    }
   ],
   "execution_count": 196
  },
  {
   "metadata": {},
   "cell_type": "markdown",
   "source": "#### Comparació distributiva",
   "id": "13d4492161572489"
  },
  {
   "metadata": {},
   "cell_type": "markdown",
   "source": "##### Normalitat i p-valor",
   "id": "e98b267abe8ec4da"
  },
  {
   "metadata": {
    "ExecuteTime": {
     "end_time": "2024-05-08T09:06:30.096108Z",
     "start_time": "2024-05-08T09:06:30.080111Z"
    }
   },
   "cell_type": "code",
   "source": [
    "contingency_table_12 = pd.crosstab(index=AMB_PA['Neurodegeneratives'], columns=AMB_PA_MECVV['Neurodegeneratives'])  \n",
    " \n",
    "chi2_12, p_value_12, dof_12, expected_12 = chi2_contingency(contingency_table_12)  \n",
    " \n",
    "print(\"Estadístic xi-quadrat entre AMB_PA i AMB_PA_MECVV:\", chi2_12)  \n",
    "print(\"P-valor entre AMB_PA i AMB_PA_MECVV:\", p_value_12)  \n",
    " \n",
    "if p_value_12 < 0.05:  \n",
    "   print(\"Hi ha diferències significatives entre les distribucions de malalties neurodegeneratives en AMB_PA i AMB_PA_MECVV.\")  \n",
    "else:  \n",
    "   print(\"No hi ha diferències significatives entre les distribucions de malalties neurodegeneratives en AMB_PA i AMB_PA_MECVV.\") "
   ],
   "id": "7ea74d2a49cec4ac",
   "outputs": [
    {
     "name": "stdout",
     "output_type": "stream",
     "text": [
      "Estadístic xi-quadrat entre AMB_PA i AMB_PA_MECVV: 0.0\n",
      "P-valor entre AMB_PA i AMB_PA_MECVV: 1.0\n",
      "No hi ha diferències significatives entre les distribucions de malalties neurodegeneratives en AMB_PA i AMB_PA_MECVV.\n"
     ]
    }
   ],
   "execution_count": 197
  },
  {
   "metadata": {
    "ExecuteTime": {
     "end_time": "2024-05-08T09:06:30.505615Z",
     "start_time": "2024-05-08T09:06:30.490001Z"
    }
   },
   "cell_type": "code",
   "source": [
    "contingency_table_13 = pd.crosstab(index=AMB_PA['Neurodegeneratives'], columns=SENSE_PA['Neurodegeneratives'])  \n",
    " \n",
    "chi2_13, p_value_13, dof_13, expected_13 = chi2_contingency(contingency_table_13)  \n",
    " \n",
    "print(\"Estadístic xi-quadrat entre AMB_PA i SENSE_PA:\", chi2_13)  \n",
    "print(\"P-valor entre AMB_PA i SENSE_PA:\", p_value_13)  \n",
    " \n",
    "if p_value_13 < 0.05:  \n",
    "   print(\"Hi ha diferències significatives entre les distribucions de malalties neurodegeneratives en AMB_PA i SENSE_PA.\")  \n",
    "else:  \n",
    "   print(\"No hi ha diferències significatives entre les distribucions de malalties neurodegeneratives en AMB_PA i SENSE_PA.\") "
   ],
   "id": "fedde2b245d34d1",
   "outputs": [
    {
     "name": "stdout",
     "output_type": "stream",
     "text": [
      "Estadístic xi-quadrat entre AMB_PA i SENSE_PA: 0.0\n",
      "P-valor entre AMB_PA i SENSE_PA: 1.0\n",
      "No hi ha diferències significatives entre les distribucions de malalties neurodegeneratives en AMB_PA i SENSE_PA.\n"
     ]
    }
   ],
   "execution_count": 198
  },
  {
   "metadata": {
    "ExecuteTime": {
     "end_time": "2024-05-08T09:06:31.091581Z",
     "start_time": "2024-05-08T09:06:31.044015Z"
    }
   },
   "cell_type": "code",
   "source": [
    "contingency_table_23 = pd.crosstab(index=AMB_PA_MECVV['Neurodegeneratives'], columns=SENSE_PA['Neurodegeneratives'])  \n",
    " \n",
    "chi2_23, p_value_23, dof_23, expected_23 = chi2_contingency(contingency_table_23)  \n",
    " \n",
    "print(\"Estadístic xi-quadrat entre AMB_PA_MECCV i SENSE_PA:\", chi2_23)  \n",
    "print(\"P-valor entre AMB_PA_MECVV i SENSE_PA:\", p_value_23)  \n",
    " \n",
    "if p_value_23 < 0.05:  \n",
    "   print(\"Hi ha diferències significatives entre les distribucions de malalties neurodegeneratives en AMB_PA_MECVV i SENSE_PA.\")  \n",
    "else:  \n",
    "   print(\"No hi ha diferències significatives entre les distribucions de malalties neurodegeneratives en AMB_PA_MECVV i SENSE_PA.\") "
   ],
   "id": "2329b5f7f410f0fb",
   "outputs": [
    {
     "ename": "ValueError",
     "evalue": "No data; `observed` has size 0.",
     "output_type": "error",
     "traceback": [
      "\u001B[1;31m---------------------------------------------------------------------------\u001B[0m",
      "\u001B[1;31mValueError\u001B[0m                                Traceback (most recent call last)",
      "Cell \u001B[1;32mIn[199], line 3\u001B[0m\n\u001B[0;32m      1\u001B[0m contingency_table_23 \u001B[38;5;241m=\u001B[39m pd\u001B[38;5;241m.\u001B[39mcrosstab(index\u001B[38;5;241m=\u001B[39mAMB_PA_MECVV[\u001B[38;5;124m'\u001B[39m\u001B[38;5;124mNeurodegeneratives\u001B[39m\u001B[38;5;124m'\u001B[39m], columns\u001B[38;5;241m=\u001B[39mSENSE_PA[\u001B[38;5;124m'\u001B[39m\u001B[38;5;124mNeurodegeneratives\u001B[39m\u001B[38;5;124m'\u001B[39m])  \n\u001B[1;32m----> 3\u001B[0m chi2_23, p_value_23, dof_23, expected_23 \u001B[38;5;241m=\u001B[39m \u001B[43mchi2_contingency\u001B[49m\u001B[43m(\u001B[49m\u001B[43mcontingency_table_23\u001B[49m\u001B[43m)\u001B[49m  \n\u001B[0;32m      5\u001B[0m \u001B[38;5;28mprint\u001B[39m(\u001B[38;5;124m\"\u001B[39m\u001B[38;5;124mEstadístic xi-quadrat entre AMB_PA_MECCV i SENSE_PA:\u001B[39m\u001B[38;5;124m\"\u001B[39m, chi2_23)  \n\u001B[0;32m      6\u001B[0m \u001B[38;5;28mprint\u001B[39m(\u001B[38;5;124m\"\u001B[39m\u001B[38;5;124mP-valor entre AMB_PA_MECVV i SENSE_PA:\u001B[39m\u001B[38;5;124m\"\u001B[39m, p_value_23)  \n",
      "File \u001B[1;32m~\\PycharmProjects\\practicum\\.venv\\Lib\\site-packages\\scipy\\stats\\contingency.py:333\u001B[0m, in \u001B[0;36mchi2_contingency\u001B[1;34m(observed, correction, lambda_)\u001B[0m\n\u001B[0;32m    331\u001B[0m     \u001B[38;5;28;01mraise\u001B[39;00m \u001B[38;5;167;01mValueError\u001B[39;00m(\u001B[38;5;124m\"\u001B[39m\u001B[38;5;124mAll values in `observed` must be nonnegative.\u001B[39m\u001B[38;5;124m\"\u001B[39m)\n\u001B[0;32m    332\u001B[0m \u001B[38;5;28;01mif\u001B[39;00m observed\u001B[38;5;241m.\u001B[39msize \u001B[38;5;241m==\u001B[39m \u001B[38;5;241m0\u001B[39m:\n\u001B[1;32m--> 333\u001B[0m     \u001B[38;5;28;01mraise\u001B[39;00m \u001B[38;5;167;01mValueError\u001B[39;00m(\u001B[38;5;124m\"\u001B[39m\u001B[38;5;124mNo data; `observed` has size 0.\u001B[39m\u001B[38;5;124m\"\u001B[39m)\n\u001B[0;32m    335\u001B[0m expected \u001B[38;5;241m=\u001B[39m expected_freq(observed)\n\u001B[0;32m    336\u001B[0m \u001B[38;5;28;01mif\u001B[39;00m np\u001B[38;5;241m.\u001B[39many(expected \u001B[38;5;241m==\u001B[39m \u001B[38;5;241m0\u001B[39m):\n\u001B[0;32m    337\u001B[0m     \u001B[38;5;66;03m# Include one of the positions where expected is zero in\u001B[39;00m\n\u001B[0;32m    338\u001B[0m     \u001B[38;5;66;03m# the exception message.\u001B[39;00m\n",
      "\u001B[1;31mValueError\u001B[0m: No data; `observed` has size 0."
     ]
    }
   ],
   "execution_count": 199
  },
  {
   "metadata": {
    "ExecuteTime": {
     "end_time": "2024-05-08T09:06:31.444075Z",
     "start_time": "2024-05-08T09:06:31.428195Z"
    }
   },
   "cell_type": "code",
   "source": [
    "contingency_table_14 = pd.crosstab(index=AMB_PA['Neurodegeneratives'], columns=TOTAL['Neurodegeneratives'])  \n",
    " \n",
    "chi2_14, p_value_14, dof_14, expected_14 = chi2_contingency(contingency_table_14)  \n",
    " \n",
    "print(\"Estadístic xi-quadrat entre AMB_PA i TOTAL:\", chi2_14)  \n",
    "print(\"P-valor entre AMB_PA i TOTAL:\", p_value_14)  \n",
    " \n",
    "if p_value_14 < 0.05:  \n",
    "   print(\"Hi ha diferències significatives entre les distribucions de malalties neurodegeneratives en AMB_PA i TOTAL.\")  \n",
    "else:  \n",
    "   print(\"No hi ha diferències significatives entre les distribucions de malalties neurodegeneratives en AMB_PA i TOTAL.\") "
   ],
   "id": "63f93eb5055124b1",
   "outputs": [
    {
     "name": "stdout",
     "output_type": "stream",
     "text": [
      "Estadístic xi-quadrat entre AMB_PA i TOTAL: 0.0\n",
      "P-valor entre AMB_PA i TOTAL: 1.0\n",
      "No hi ha diferències significatives entre les distribucions de malalties neurodegeneratives en AMB_PA i TOTAL.\n"
     ]
    }
   ],
   "execution_count": 200
  },
  {
   "metadata": {
    "ExecuteTime": {
     "end_time": "2024-05-08T09:06:32.192831Z",
     "start_time": "2024-05-08T09:06:32.177991Z"
    }
   },
   "cell_type": "code",
   "source": [
    "contingency_table_24 = pd.crosstab(index=AMB_PA_MECVV['Neurodegeneratives'], columns=TOTAL['Neurodegeneratives'])  \n",
    " \n",
    "chi2_24, p_value_24, dof_24, expected_24 = chi2_contingency(contingency_table_24)  \n",
    " \n",
    "print(\"Estadístic xi-quadrat entre AMB_PA_MECVV i TOTAL:\", chi2_24)  \n",
    "print(\"P-valor entre AMB_PA_MECVV i TOTAL:\", p_value_24)  \n",
    " \n",
    "if p_value_24 < 0.05:  \n",
    "   print(\"Hi ha diferències significatives entre les distribucions de malalties neurodegeneratives en AMB_PA_MECVV i TOTAL.\")  \n",
    "else:  \n",
    "   print(\"No hi ha diferències significatives entre les distribucions de malalties neurodegeneratives en AMB_PA_MECVV i TOTAL.\") "
   ],
   "id": "cd693aaf83182410",
   "outputs": [
    {
     "name": "stdout",
     "output_type": "stream",
     "text": [
      "Estadístic xi-quadrat entre AMB_PA_MECVV i TOTAL: 1.469387755102041\n",
      "P-valor entre AMB_PA_MECVV i TOTAL: 0.22544231699450956\n",
      "No hi ha diferències significatives entre les distribucions de malalties neurodegeneratives en AMB_PA_MECVV i TOTAL.\n"
     ]
    }
   ],
   "execution_count": 201
  },
  {
   "metadata": {
    "ExecuteTime": {
     "end_time": "2024-05-08T09:06:32.897086Z",
     "start_time": "2024-05-08T09:06:32.880980Z"
    }
   },
   "cell_type": "code",
   "source": [
    "contingency_table_34 = pd.crosstab(index=SENSE_PA['Neurodegeneratives'], columns=TOTAL['Neurodegeneratives'])  \n",
    " \n",
    "chi2_34, p_value_34, dof_34, expected_34 = chi2_contingency(contingency_table_34)  \n",
    " \n",
    "print(\"Estadístic xi-quadrat entre SENSE_PA i TOTAL:\", chi2_34)  \n",
    "print(\"P-valor entre SENSE_PA i TOTAL:\", p_value_34)  \n",
    " \n",
    "if p_value_34 < 0.05:  \n",
    "   print(\"Hi ha diferències significatives entre les distribucions de malalties neurodegeneratives en SENSE_PA i TOTAL.\")  \n",
    "else:  \n",
    "   print(\"No hi ha diferències significatives entre les distribucions de malalties neurodegeneratives en SENSE_PA i TOTAL.\") "
   ],
   "id": "7a9779ed96f27aa0",
   "outputs": [
    {
     "name": "stdout",
     "output_type": "stream",
     "text": [
      "Estadístic xi-quadrat entre SENSE_PA i TOTAL: 1.469387755102041\n",
      "P-valor entre SENSE_PA i TOTAL: 0.22544231699450956\n",
      "No hi ha diferències significatives entre les distribucions de malalties neurodegeneratives en SENSE_PA i TOTAL.\n"
     ]
    }
   ],
   "execution_count": 202
  },
  {
   "metadata": {},
   "cell_type": "markdown",
   "source": "## Diabetis mellitus",
   "id": "42b942e8587dc0c3"
  },
  {
   "metadata": {
    "ExecuteTime": {
     "end_time": "2024-05-08T09:06:33.236884Z",
     "start_time": "2024-05-08T09:06:33.228396Z"
    }
   },
   "cell_type": "code",
   "source": [
    "dm_AMB_PA= (AMB_PA['DM'] == 1.0).mean() * 100\n",
    "print(f\"Percentatge de diabetis mellitus: {dm_AMB_PA:.2f}%\")"
   ],
   "id": "698511ef1e3136bc",
   "outputs": [
    {
     "name": "stdout",
     "output_type": "stream",
     "text": [
      "Percentatge de diabetis mellitus: 23.53%\n"
     ]
    }
   ],
   "execution_count": 203
  },
  {
   "metadata": {
    "ExecuteTime": {
     "end_time": "2024-05-08T09:06:33.751439Z",
     "start_time": "2024-05-08T09:06:33.742201Z"
    }
   },
   "cell_type": "code",
   "source": [
    "dm_AMB_PA_MECVV= (AMB_PA_MECVV['DM'] == 1.0).mean() * 100\n",
    "print(f\"Percentatge de diabetis mellitus: {dm_AMB_PA_MECVV:.2f}%\")"
   ],
   "id": "80ed95bb2fa57c00",
   "outputs": [
    {
     "name": "stdout",
     "output_type": "stream",
     "text": [
      "Percentatge de diabetis mellitus: 25.00%\n"
     ]
    }
   ],
   "execution_count": 204
  },
  {
   "metadata": {
    "ExecuteTime": {
     "end_time": "2024-05-08T09:06:34.094534Z",
     "start_time": "2024-05-08T09:06:34.086301Z"
    }
   },
   "cell_type": "code",
   "source": [
    "dm_SENSE_PA= (SENSE_PA['DM'] == 1.0).mean() * 100\n",
    "print(f\"Percentatge de diabetis mellitus: {dm_SENSE_PA:.2f}%\")"
   ],
   "id": "2de37780f8d2b591",
   "outputs": [
    {
     "name": "stdout",
     "output_type": "stream",
     "text": [
      "Percentatge de diabetis mellitus: 25.00%\n"
     ]
    }
   ],
   "execution_count": 205
  },
  {
   "metadata": {
    "ExecuteTime": {
     "end_time": "2024-05-08T09:06:34.536731Z",
     "start_time": "2024-05-08T09:06:34.526475Z"
    }
   },
   "cell_type": "code",
   "source": [
    "dm_TOTAL= (TOTAL['DM'] == 1.0).mean() * 100\n",
    "print(f\"Percentatge de diabetis mellitus: {dm_TOTAL:.2f}%\")"
   ],
   "id": "3756c541f2d8ac88",
   "outputs": [
    {
     "name": "stdout",
     "output_type": "stream",
     "text": [
      "Percentatge de diabetis mellitus: 26.00%\n"
     ]
    }
   ],
   "execution_count": 206
  },
  {
   "metadata": {},
   "cell_type": "markdown",
   "source": "#### Comparació distributiva",
   "id": "39c5da893c7deb9c"
  },
  {
   "metadata": {},
   "cell_type": "markdown",
   "source": "##### Normalitat i p-valor",
   "id": "ebee9ab25c7f5d27"
  },
  {
   "metadata": {
    "ExecuteTime": {
     "end_time": "2024-05-08T09:06:34.897554Z",
     "start_time": "2024-05-08T09:06:34.886251Z"
    }
   },
   "cell_type": "code",
   "source": [
    "contingency_table_12 = pd.crosstab(index=AMB_PA['Neurodegeneratives'], columns=AMB_PA_MECVV['Neurodegeneratives'])  \n",
    " \n",
    "chi2_12, p_value_12, dof_12, expected_12 = chi2_contingency(contingency_table_12)  \n",
    " \n",
    "print(\"Estadístic xi-quadrat entre AMB_PA i AMB_PA_MECVV:\", chi2_12)  \n",
    "print(\"P-valor entre AMB_PA i AMB_PA_MECVV:\", p_value_12)  \n",
    " \n",
    "if p_value_12 < 0.05:  \n",
    "   print(\"Hi ha diferències significatives entre les distribucions de diabetis mellitus en AMB_PA i AMB_PA_MECVV.\")  \n",
    "else:  \n",
    "   print(\"No hi ha diferències significatives entre les distribucions de diabetis mellitus en AMB_PA i AMB_PA_MECVV.\") "
   ],
   "id": "b76e252fda353c31",
   "outputs": [
    {
     "name": "stdout",
     "output_type": "stream",
     "text": [
      "Estadístic xi-quadrat entre AMB_PA i AMB_PA_MECVV: 0.0\n",
      "P-valor entre AMB_PA i AMB_PA_MECVV: 1.0\n",
      "No hi ha diferències significatives entre les distribucions de diabetis mellitus en AMB_PA i AMB_PA_MECVV.\n"
     ]
    }
   ],
   "execution_count": 207
  },
  {
   "metadata": {
    "ExecuteTime": {
     "end_time": "2024-05-08T09:06:35.397225Z",
     "start_time": "2024-05-08T09:06:35.384182Z"
    }
   },
   "cell_type": "code",
   "source": [
    "contingency_table_13 = pd.crosstab(index=AMB_PA['DM'], columns=SENSE_PA['DM'])  \n",
    " \n",
    "chi2_13, p_value_13, dof_13, expected_13 = chi2_contingency(contingency_table_13)  \n",
    " \n",
    "print(\"Estadístic xi-quadrat entre AMB_PA i SENSE_PA:\", chi2_13)  \n",
    "print(\"P-valor entre AMB_PA i SENSE_PA:\", p_value_13)  \n",
    " \n",
    "if p_value_13 < 0.05:  \n",
    "   print(\"Hi ha diferències significatives entre les distribucions de diabetis mellitus en AMB_PA i SENSE_PA.\")  \n",
    "else:  \n",
    "   print(\"No hi ha diferències significatives entre les distribucions de diabetis mellitus en AMB_PA i SENSE_PA.\") "
   ],
   "id": "4cfaeae595eb594b",
   "outputs": [
    {
     "name": "stdout",
     "output_type": "stream",
     "text": [
      "Estadístic xi-quadrat entre AMB_PA i SENSE_PA: 0.0\n",
      "P-valor entre AMB_PA i SENSE_PA: 1.0\n",
      "No hi ha diferències significatives entre les distribucions de diabetis mellitus en AMB_PA i SENSE_PA.\n"
     ]
    }
   ],
   "execution_count": 208
  },
  {
   "metadata": {
    "ExecuteTime": {
     "end_time": "2024-05-08T09:06:35.733226Z",
     "start_time": "2024-05-08T09:06:35.679151Z"
    }
   },
   "cell_type": "code",
   "source": [
    "contingency_table_23 = pd.crosstab(index=AMB_PA_MECVV['DM'], columns=SENSE_PA['DM'])  \n",
    " \n",
    "chi2_23, p_value_23, dof_23, expected_23 = chi2_contingency(contingency_table_23)  \n",
    " \n",
    "print(\"Estadístic xi-quadrat entre AMB_PA_MECCV i SENSE_PA:\", chi2_23)  \n",
    "print(\"P-valor entre AMB_PA_MECVV i SENSE_PA:\", p_value_23)  \n",
    " \n",
    "if p_value_23 < 0.05:  \n",
    "   print(\"Hi ha diferències significatives entre les distribucions de diabetis mellitus en AMB_PA_MECVV i SENSE_PA.\")  \n",
    "else:  \n",
    "   print(\"No hi ha diferències significatives entre les distribucions de diabetis mellitus en AMB_PA_MECVV i SENSE_PA.\") "
   ],
   "id": "372c60185966ee23",
   "outputs": [
    {
     "ename": "ValueError",
     "evalue": "No data; `observed` has size 0.",
     "output_type": "error",
     "traceback": [
      "\u001B[1;31m---------------------------------------------------------------------------\u001B[0m",
      "\u001B[1;31mValueError\u001B[0m                                Traceback (most recent call last)",
      "Cell \u001B[1;32mIn[209], line 3\u001B[0m\n\u001B[0;32m      1\u001B[0m contingency_table_23 \u001B[38;5;241m=\u001B[39m pd\u001B[38;5;241m.\u001B[39mcrosstab(index\u001B[38;5;241m=\u001B[39mAMB_PA_MECVV[\u001B[38;5;124m'\u001B[39m\u001B[38;5;124mDM\u001B[39m\u001B[38;5;124m'\u001B[39m], columns\u001B[38;5;241m=\u001B[39mSENSE_PA[\u001B[38;5;124m'\u001B[39m\u001B[38;5;124mDM\u001B[39m\u001B[38;5;124m'\u001B[39m])  \n\u001B[1;32m----> 3\u001B[0m chi2_23, p_value_23, dof_23, expected_23 \u001B[38;5;241m=\u001B[39m \u001B[43mchi2_contingency\u001B[49m\u001B[43m(\u001B[49m\u001B[43mcontingency_table_23\u001B[49m\u001B[43m)\u001B[49m  \n\u001B[0;32m      5\u001B[0m \u001B[38;5;28mprint\u001B[39m(\u001B[38;5;124m\"\u001B[39m\u001B[38;5;124mEstadístic xi-quadrat entre AMB_PA_MECCV i SENSE_PA:\u001B[39m\u001B[38;5;124m\"\u001B[39m, chi2_23)  \n\u001B[0;32m      6\u001B[0m \u001B[38;5;28mprint\u001B[39m(\u001B[38;5;124m\"\u001B[39m\u001B[38;5;124mP-valor entre AMB_PA_MECVV i SENSE_PA:\u001B[39m\u001B[38;5;124m\"\u001B[39m, p_value_23)  \n",
      "File \u001B[1;32m~\\PycharmProjects\\practicum\\.venv\\Lib\\site-packages\\scipy\\stats\\contingency.py:333\u001B[0m, in \u001B[0;36mchi2_contingency\u001B[1;34m(observed, correction, lambda_)\u001B[0m\n\u001B[0;32m    331\u001B[0m     \u001B[38;5;28;01mraise\u001B[39;00m \u001B[38;5;167;01mValueError\u001B[39;00m(\u001B[38;5;124m\"\u001B[39m\u001B[38;5;124mAll values in `observed` must be nonnegative.\u001B[39m\u001B[38;5;124m\"\u001B[39m)\n\u001B[0;32m    332\u001B[0m \u001B[38;5;28;01mif\u001B[39;00m observed\u001B[38;5;241m.\u001B[39msize \u001B[38;5;241m==\u001B[39m \u001B[38;5;241m0\u001B[39m:\n\u001B[1;32m--> 333\u001B[0m     \u001B[38;5;28;01mraise\u001B[39;00m \u001B[38;5;167;01mValueError\u001B[39;00m(\u001B[38;5;124m\"\u001B[39m\u001B[38;5;124mNo data; `observed` has size 0.\u001B[39m\u001B[38;5;124m\"\u001B[39m)\n\u001B[0;32m    335\u001B[0m expected \u001B[38;5;241m=\u001B[39m expected_freq(observed)\n\u001B[0;32m    336\u001B[0m \u001B[38;5;28;01mif\u001B[39;00m np\u001B[38;5;241m.\u001B[39many(expected \u001B[38;5;241m==\u001B[39m \u001B[38;5;241m0\u001B[39m):\n\u001B[0;32m    337\u001B[0m     \u001B[38;5;66;03m# Include one of the positions where expected is zero in\u001B[39;00m\n\u001B[0;32m    338\u001B[0m     \u001B[38;5;66;03m# the exception message.\u001B[39;00m\n",
      "\u001B[1;31mValueError\u001B[0m: No data; `observed` has size 0."
     ]
    }
   ],
   "execution_count": 209
  },
  {
   "metadata": {
    "ExecuteTime": {
     "end_time": "2024-05-08T09:06:36.247327Z",
     "start_time": "2024-05-08T09:06:36.228933Z"
    }
   },
   "cell_type": "code",
   "source": [
    "contingency_table_14 = pd.crosstab(index=AMB_PA['DM'], columns=TOTAL['DM'])  \n",
    " \n",
    "chi2_14, p_value_14, dof_14, expected_14 = chi2_contingency(contingency_table_14)  \n",
    " \n",
    "print(\"Estadístic xi-quadrat entre AMB_PA i TOTAL:\", chi2_14)  \n",
    "print(\"P-valor entre AMB_PA i TOTAL:\", p_value_14)  \n",
    " \n",
    "if p_value_14 < 0.05:  \n",
    "   print(\"Hi ha diferències significatives entre les distribucions de diabetis mellitus en AMB_PA i TOTAL.\")  \n",
    "else:  \n",
    "   print(\"No hi ha diferències significatives entre les distribucions de diabetis mellitus en AMB_PA i TOTAL.\") "
   ],
   "id": "1f10bd0d533a11a8",
   "outputs": [
    {
     "name": "stdout",
     "output_type": "stream",
     "text": [
      "Estadístic xi-quadrat entre AMB_PA i TOTAL: 11.89654215976331\n",
      "P-valor entre AMB_PA i TOTAL: 0.0005623824703676534\n",
      "Hi ha diferències significatives entre les distribucions de diabetis mellitus en AMB_PA i TOTAL.\n"
     ]
    }
   ],
   "execution_count": 210
  },
  {
   "metadata": {
    "ExecuteTime": {
     "end_time": "2024-05-08T09:06:36.794900Z",
     "start_time": "2024-05-08T09:06:36.777018Z"
    }
   },
   "cell_type": "code",
   "source": [
    "contingency_table_24 = pd.crosstab(index=AMB_PA_MECVV['DM'], columns=TOTAL['DM'])  \n",
    " \n",
    "chi2_24, p_value_24, dof_24, expected_24 = chi2_contingency(contingency_table_24)  \n",
    " \n",
    "print(\"Estadístic xi-quadrat entre AMB_PA_MECVV i TOTAL:\", chi2_24)  \n",
    "print(\"P-valor entre AMB_PA_MECVV i TOTAL:\", p_value_24)  \n",
    " \n",
    "if p_value_24 < 0.05:  \n",
    "   print(\"Hi ha diferències significatives entre les distribucions de diabetis mellitus en AMB_PA_MECVV i TOTAL.\")  \n",
    "else:  \n",
    "   print(\"No hi ha diferències significatives entre les distribucions de diabetis mellitus en AMB_PA_MECVV i TOTAL.\") "
   ],
   "id": "f3030c97e121feb",
   "outputs": [
    {
     "name": "stdout",
     "output_type": "stream",
     "text": [
      "Estadístic xi-quadrat entre AMB_PA_MECVV i TOTAL: 3.5555555555555554\n",
      "P-valor entre AMB_PA_MECVV i TOTAL: 0.05934643879191998\n",
      "No hi ha diferències significatives entre les distribucions de diabetis mellitus en AMB_PA_MECVV i TOTAL.\n"
     ]
    }
   ],
   "execution_count": 211
  },
  {
   "metadata": {
    "ExecuteTime": {
     "end_time": "2024-05-08T09:06:37.106818Z",
     "start_time": "2024-05-08T09:06:37.088861Z"
    }
   },
   "cell_type": "code",
   "source": [
    "contingency_table_34 = pd.crosstab(index=SENSE_PA['DM'], columns=TOTAL['DM'])  \n",
    " \n",
    "chi2_34, p_value_34, dof_34, expected_34 = chi2_contingency(contingency_table_34)  \n",
    " \n",
    "print(\"Estadístic xi-quadrat entre SENSE_PA i TOTAL:\", chi2_34)  \n",
    "print(\"P-valor entre SENSE_PA i TOTAL:\", p_value_34)  \n",
    " \n",
    "if p_value_34 < 0.05:  \n",
    "   print(\"Hi ha diferències significatives entre les distribucions de diabetis mellitus en SENSE_PA i TOTAL.\")  \n",
    "else:  \n",
    "   print(\"No hi ha diferències significatives entre les distribucions de diabetis mellitus en SENSE_PA i TOTAL.\") "
   ],
   "id": "23433b42464349ab",
   "outputs": [
    {
     "name": "stdout",
     "output_type": "stream",
     "text": [
      "Estadístic xi-quadrat entre SENSE_PA i TOTAL: 3.5555555555555554\n",
      "P-valor entre SENSE_PA i TOTAL: 0.05934643879191998\n",
      "No hi ha diferències significatives entre les distribucions de diabetis mellitus en SENSE_PA i TOTAL.\n"
     ]
    }
   ],
   "execution_count": 212
  },
  {
   "metadata": {},
   "cell_type": "markdown",
   "source": [
    "## Hepatopaties"
   ],
   "id": "772c1f476c2f3d43"
  },
  {
   "metadata": {
    "ExecuteTime": {
     "end_time": "2024-05-08T09:06:37.563043Z",
     "start_time": "2024-05-08T09:06:37.552885Z"
    }
   },
   "cell_type": "code",
   "source": [
    "hp_AMB_PA= (AMB_PA['Hepatopaties'] == 1.0).mean() * 100\n",
    "print(f\"Percentatge de hepatopaties: {hp_AMB_PA:.2f}%\")"
   ],
   "id": "5cfced98e5d59960",
   "outputs": [
    {
     "name": "stdout",
     "output_type": "stream",
     "text": [
      "Percentatge de hepatopaties: 11.76%\n"
     ]
    }
   ],
   "execution_count": 213
  },
  {
   "metadata": {
    "ExecuteTime": {
     "end_time": "2024-05-08T09:06:38.032508Z",
     "start_time": "2024-05-08T09:06:38.026364Z"
    }
   },
   "cell_type": "code",
   "source": [
    "hp_AMB_PA_MECVV= (AMB_PA_MECVV['Hepatopaties'] == 1.0).mean() * 100\n",
    "print(f\"Percentatge de hepatopaties: {hp_AMB_PA_MECVV:.2f}%\")"
   ],
   "id": "ffeb2d3f7c6163ad",
   "outputs": [
    {
     "name": "stdout",
     "output_type": "stream",
     "text": [
      "Percentatge de hepatopaties: 12.50%\n"
     ]
    }
   ],
   "execution_count": 214
  },
  {
   "metadata": {
    "ExecuteTime": {
     "end_time": "2024-05-08T09:06:38.715798Z",
     "start_time": "2024-05-08T09:06:38.708150Z"
    }
   },
   "cell_type": "code",
   "source": [
    "hp_SENSE_PA= (SENSE_PA['Hepatopaties'] == 1.0).mean() * 100\n",
    "print(f\"Percentatge de hepatopaties: {hp_SENSE_PA:.2f}%\")"
   ],
   "id": "23ccf77254538573",
   "outputs": [
    {
     "name": "stdout",
     "output_type": "stream",
     "text": [
      "Percentatge de hepatopaties: 0.00%\n"
     ]
    }
   ],
   "execution_count": 215
  },
  {
   "metadata": {
    "ExecuteTime": {
     "end_time": "2024-05-08T09:06:39.216461Z",
     "start_time": "2024-05-08T09:06:39.209404Z"
    }
   },
   "cell_type": "code",
   "source": [
    "hp_TOTAL= (TOTAL['Hepatopaties'] == 1.0).mean() * 100\n",
    "print(f\"Percentatge de hepatopaties: {hp_TOTAL:.2f}%\")"
   ],
   "id": "bf1ed7d22984b31",
   "outputs": [
    {
     "name": "stdout",
     "output_type": "stream",
     "text": [
      "Percentatge de hepatopaties: 6.00%\n"
     ]
    }
   ],
   "execution_count": 216
  },
  {
   "metadata": {},
   "cell_type": "markdown",
   "source": "#### Comparació distributiva",
   "id": "ee084e9b17270c10"
  },
  {
   "metadata": {},
   "cell_type": "markdown",
   "source": "##### Normalitat i p-valor",
   "id": "b932958d65d9e455"
  },
  {
   "metadata": {
    "ExecuteTime": {
     "end_time": "2024-05-08T09:06:40.168436Z",
     "start_time": "2024-05-08T09:06:40.151045Z"
    }
   },
   "cell_type": "code",
   "source": [
    "contingency_table_12 = pd.crosstab(index=AMB_PA['Hepatopaties'], columns=AMB_PA_MECVV['Hepatopaties'])  \n",
    " \n",
    "chi2_12, p_value_12, dof_12, expected_12 = chi2_contingency(contingency_table_12)  \n",
    " \n",
    "print(\"Estadístic xi-quadrat entre AMB_PA i AMB_PA_MECVV:\", chi2_12)  \n",
    "print(\"P-valor entre AMB_PA i AMB_PA_MECVV:\", p_value_12)  \n",
    " \n",
    "if p_value_12 < 0.05:  \n",
    "   print(\"Hi ha diferències significatives entre les distribucions de hepatopaties en AMB_PA i AMB_PA_MECVV.\")  \n",
    "else:  \n",
    "   print(\"No hi ha diferències significatives entre les distribucions de hepatopaties en AMB_PA i AMB_PA_MECVV.\") "
   ],
   "id": "f1d399767dab3eeb",
   "outputs": [
    {
     "name": "stdout",
     "output_type": "stream",
     "text": [
      "Estadístic xi-quadrat entre AMB_PA i AMB_PA_MECVV: 0.9600000000000002\n",
      "P-valor entre AMB_PA i AMB_PA_MECVV: 0.32718687779030275\n",
      "No hi ha diferències significatives entre les distribucions de hepatopaties en AMB_PA i AMB_PA_MECVV.\n"
     ]
    }
   ],
   "execution_count": 217
  },
  {
   "metadata": {
    "ExecuteTime": {
     "end_time": "2024-05-08T09:06:40.534587Z",
     "start_time": "2024-05-08T09:06:40.516622Z"
    }
   },
   "cell_type": "code",
   "source": [
    "contingency_table_13 = pd.crosstab(index=AMB_PA['Hepatopaties'], columns=SENSE_PA['Hepatopaties'])  \n",
    " \n",
    "chi2_13, p_value_13, dof_13, expected_13 = chi2_contingency(contingency_table_13)  \n",
    " \n",
    "print(\"Estadístic xi-quadrat entre AMB_PA i SENSE_PA:\", chi2_13)  \n",
    "print(\"P-valor entre AMB_PA i SENSE_PA:\", p_value_13)  \n",
    " \n",
    "if p_value_13 < 0.05:  \n",
    "   print(\"Hi ha diferències significatives entre les distribucions de hepatopaties en AMB_PA i SENSE_PA.\")  \n",
    "else:  \n",
    "   print(\"No hi ha diferències significatives entre les distribucions de hepatopaties en AMB_PA i SENSE_PA.\") "
   ],
   "id": "e5ae22e928d63a0f",
   "outputs": [
    {
     "name": "stdout",
     "output_type": "stream",
     "text": [
      "Estadístic xi-quadrat entre AMB_PA i SENSE_PA: 0.0\n",
      "P-valor entre AMB_PA i SENSE_PA: 1.0\n",
      "No hi ha diferències significatives entre les distribucions de hepatopaties en AMB_PA i SENSE_PA.\n"
     ]
    }
   ],
   "execution_count": 218
  },
  {
   "metadata": {
    "ExecuteTime": {
     "end_time": "2024-05-08T09:06:41.257532Z",
     "start_time": "2024-05-08T09:06:41.214121Z"
    }
   },
   "cell_type": "code",
   "source": [
    "contingency_table_23 = pd.crosstab(index=AMB_PA_MECVV['Hepatopaties'], columns=SENSE_PA['Hepatopaties'])  \n",
    " \n",
    "chi2_23, p_value_23, dof_23, expected_23 = chi2_contingency(contingency_table_23)  \n",
    " \n",
    "print(\"Estadístic xi-quadrat entre AMB_PA_MECCV i SENSE_PA:\", chi2_23)  \n",
    "print(\"P-valor entre AMB_PA_MECVV i SENSE_PA:\", p_value_23)  \n",
    " \n",
    "if p_value_23 < 0.05:  \n",
    "   print(\"Hi ha diferències significatives entre les distribucions de hepatopaties en AMB_PA_MECVV i SENSE_PA.\")  \n",
    "else:  \n",
    "   print(\"No hi ha diferències significatives entre les distribucions de hepatopaties en AMB_PA_MECVV i SENSE_PA.\") "
   ],
   "id": "c8e4bb6c92eae392",
   "outputs": [
    {
     "ename": "ValueError",
     "evalue": "No data; `observed` has size 0.",
     "output_type": "error",
     "traceback": [
      "\u001B[1;31m---------------------------------------------------------------------------\u001B[0m",
      "\u001B[1;31mValueError\u001B[0m                                Traceback (most recent call last)",
      "Cell \u001B[1;32mIn[219], line 3\u001B[0m\n\u001B[0;32m      1\u001B[0m contingency_table_23 \u001B[38;5;241m=\u001B[39m pd\u001B[38;5;241m.\u001B[39mcrosstab(index\u001B[38;5;241m=\u001B[39mAMB_PA_MECVV[\u001B[38;5;124m'\u001B[39m\u001B[38;5;124mHepatopaties\u001B[39m\u001B[38;5;124m'\u001B[39m], columns\u001B[38;5;241m=\u001B[39mSENSE_PA[\u001B[38;5;124m'\u001B[39m\u001B[38;5;124mHepatopaties\u001B[39m\u001B[38;5;124m'\u001B[39m])  \n\u001B[1;32m----> 3\u001B[0m chi2_23, p_value_23, dof_23, expected_23 \u001B[38;5;241m=\u001B[39m \u001B[43mchi2_contingency\u001B[49m\u001B[43m(\u001B[49m\u001B[43mcontingency_table_23\u001B[49m\u001B[43m)\u001B[49m  \n\u001B[0;32m      5\u001B[0m \u001B[38;5;28mprint\u001B[39m(\u001B[38;5;124m\"\u001B[39m\u001B[38;5;124mEstadístic xi-quadrat entre AMB_PA_MECCV i SENSE_PA:\u001B[39m\u001B[38;5;124m\"\u001B[39m, chi2_23)  \n\u001B[0;32m      6\u001B[0m \u001B[38;5;28mprint\u001B[39m(\u001B[38;5;124m\"\u001B[39m\u001B[38;5;124mP-valor entre AMB_PA_MECVV i SENSE_PA:\u001B[39m\u001B[38;5;124m\"\u001B[39m, p_value_23)  \n",
      "File \u001B[1;32m~\\PycharmProjects\\practicum\\.venv\\Lib\\site-packages\\scipy\\stats\\contingency.py:333\u001B[0m, in \u001B[0;36mchi2_contingency\u001B[1;34m(observed, correction, lambda_)\u001B[0m\n\u001B[0;32m    331\u001B[0m     \u001B[38;5;28;01mraise\u001B[39;00m \u001B[38;5;167;01mValueError\u001B[39;00m(\u001B[38;5;124m\"\u001B[39m\u001B[38;5;124mAll values in `observed` must be nonnegative.\u001B[39m\u001B[38;5;124m\"\u001B[39m)\n\u001B[0;32m    332\u001B[0m \u001B[38;5;28;01mif\u001B[39;00m observed\u001B[38;5;241m.\u001B[39msize \u001B[38;5;241m==\u001B[39m \u001B[38;5;241m0\u001B[39m:\n\u001B[1;32m--> 333\u001B[0m     \u001B[38;5;28;01mraise\u001B[39;00m \u001B[38;5;167;01mValueError\u001B[39;00m(\u001B[38;5;124m\"\u001B[39m\u001B[38;5;124mNo data; `observed` has size 0.\u001B[39m\u001B[38;5;124m\"\u001B[39m)\n\u001B[0;32m    335\u001B[0m expected \u001B[38;5;241m=\u001B[39m expected_freq(observed)\n\u001B[0;32m    336\u001B[0m \u001B[38;5;28;01mif\u001B[39;00m np\u001B[38;5;241m.\u001B[39many(expected \u001B[38;5;241m==\u001B[39m \u001B[38;5;241m0\u001B[39m):\n\u001B[0;32m    337\u001B[0m     \u001B[38;5;66;03m# Include one of the positions where expected is zero in\u001B[39;00m\n\u001B[0;32m    338\u001B[0m     \u001B[38;5;66;03m# the exception message.\u001B[39;00m\n",
      "\u001B[1;31mValueError\u001B[0m: No data; `observed` has size 0."
     ]
    }
   ],
   "execution_count": 219
  },
  {
   "metadata": {
    "ExecuteTime": {
     "end_time": "2024-05-08T09:06:41.717287Z",
     "start_time": "2024-05-08T09:06:41.699623Z"
    }
   },
   "cell_type": "code",
   "source": [
    "contingency_table_14 = pd.crosstab(index=AMB_PA['Hepatopaties'], columns=TOTAL['Hepatopaties'])  \n",
    " \n",
    "chi2_14, p_value_14, dof_14, expected_14 = chi2_contingency(contingency_table_14)  \n",
    " \n",
    "print(\"Estadístic xi-quadrat entre AMB_PA i TOTAL:\", chi2_14)  \n",
    "print(\"P-valor entre AMB_PA i TOTAL:\", p_value_14)  \n",
    " \n",
    "if p_value_14 < 0.05:  \n",
    "   print(\"Hi ha diferències significatives entre les distribucions de hepatopaties en AMB_PA i TOTAL.\")  \n",
    "else:  \n",
    "   print(\"No hi ha diferències significatives entre les distribucions de hepatopaties en AMB_PA i TOTAL.\") "
   ],
   "id": "b11698f8db6e3226",
   "outputs": [
    {
     "name": "stdout",
     "output_type": "stream",
     "text": [
      "Estadístic xi-quadrat entre AMB_PA i TOTAL: 8.731388888888889\n",
      "P-valor entre AMB_PA i TOTAL: 0.0031277815159609333\n",
      "Hi ha diferències significatives entre les distribucions de hepatopaties en AMB_PA i TOTAL.\n"
     ]
    }
   ],
   "execution_count": 220
  },
  {
   "metadata": {
    "ExecuteTime": {
     "end_time": "2024-05-08T09:06:42.224592Z",
     "start_time": "2024-05-08T09:06:42.207566Z"
    }
   },
   "cell_type": "code",
   "source": [
    "contingency_table_24 = pd.crosstab(index=AMB_PA_MECVV['Hepatopaties'], columns=TOTAL['Hepatopaties'])  \n",
    " \n",
    "chi2_24, p_value_24, dof_24, expected_24 = chi2_contingency(contingency_table_24)  \n",
    " \n",
    "print(\"Estadístic xi-quadrat entre AMB_PA_MECVV i TOTAL:\", chi2_24)  \n",
    "print(\"P-valor entre AMB_PA_MECVV i TOTAL:\", p_value_24)  \n",
    " \n",
    "if p_value_24 < 0.05:  \n",
    "   print(\"Hi ha diferències significatives entre les distribucions de hepatopaties en AMB_PA_MECVV i TOTAL.\")  \n",
    "else:  \n",
    "   print(\"No hi ha diferències significatives entre les distribucions de hepatopaties en AMB_PA_MECVV i TOTAL.\") "
   ],
   "id": "1d9f0b296f41f961",
   "outputs": [
    {
     "name": "stdout",
     "output_type": "stream",
     "text": [
      "Estadístic xi-quadrat entre AMB_PA_MECVV i TOTAL: 1.469387755102041\n",
      "P-valor entre AMB_PA_MECVV i TOTAL: 0.22544231699450956\n",
      "No hi ha diferències significatives entre les distribucions de hepatopaties en AMB_PA_MECVV i TOTAL.\n"
     ]
    }
   ],
   "execution_count": 221
  },
  {
   "metadata": {
    "ExecuteTime": {
     "end_time": "2024-05-08T09:06:42.696854Z",
     "start_time": "2024-05-08T09:06:42.676620Z"
    }
   },
   "cell_type": "code",
   "source": [
    "contingency_table_34 = pd.crosstab(index=SENSE_PA['Hepatopaties'], columns=TOTAL['Hepatopaties'])  \n",
    " \n",
    "chi2_34, p_value_34, dof_34, expected_34 = chi2_contingency(contingency_table_34)  \n",
    " \n",
    "print(\"Estadístic xi-quadrat entre SENSE_PA i TOTAL:\", chi2_34)  \n",
    "print(\"P-valor entre SENSE_PA i TOTAL:\", p_value_34)  \n",
    " \n",
    "if p_value_34 < 0.05:  \n",
    "   print(\"Hi ha diferències significatives entre les distribucions de hepatopaties en SENSE_PA i TOTAL.\")  \n",
    "else:  \n",
    "   print(\"No hi ha diferències significatives entre les distribucions de hepatopaties en SENSE_PA i TOTAL.\") "
   ],
   "id": "aa2a6ecd3965fece",
   "outputs": [
    {
     "name": "stdout",
     "output_type": "stream",
     "text": [
      "Estadístic xi-quadrat entre SENSE_PA i TOTAL: 0.0\n",
      "P-valor entre SENSE_PA i TOTAL: 1.0\n",
      "No hi ha diferències significatives entre les distribucions de hepatopaties en SENSE_PA i TOTAL.\n"
     ]
    }
   ],
   "execution_count": 222
  },
  {
   "metadata": {},
   "cell_type": "markdown",
   "source": "## Neoplàsies",
   "id": "959b58aaaaab994b"
  },
  {
   "metadata": {
    "ExecuteTime": {
     "end_time": "2024-05-08T09:06:42.997688Z",
     "start_time": "2024-05-08T09:06:42.989844Z"
    }
   },
   "cell_type": "code",
   "source": [
    "neopl_AMB_PA= (AMB_PA['Neoplàsies'] == 1.0).mean() * 100\n",
    "print(f\"Percentatge de neoplàsies: {neopl_AMB_PA:.2f}%\")"
   ],
   "id": "6bbefcc81da003fc",
   "outputs": [
    {
     "name": "stdout",
     "output_type": "stream",
     "text": [
      "Percentatge de neoplàsies: 0.00%\n"
     ]
    }
   ],
   "execution_count": 223
  },
  {
   "metadata": {
    "ExecuteTime": {
     "end_time": "2024-05-08T09:06:43.519690Z",
     "start_time": "2024-05-08T09:06:43.512273Z"
    }
   },
   "cell_type": "code",
   "source": [
    "neopl_AMB_PA_MECVV= (AMB_PA_MECVV['Neoplàsies'] == 1.0).mean() * 100\n",
    "print(f\"Percentatge de neoplàsies: {neopl_AMB_PA_MECVV:.2f}%\")"
   ],
   "id": "216d7eebaa16abc0",
   "outputs": [
    {
     "name": "stdout",
     "output_type": "stream",
     "text": [
      "Percentatge de neoplàsies: 0.00%\n"
     ]
    }
   ],
   "execution_count": 224
  },
  {
   "metadata": {
    "ExecuteTime": {
     "end_time": "2024-05-08T09:06:43.820355Z",
     "start_time": "2024-05-08T09:06:43.812829Z"
    }
   },
   "cell_type": "code",
   "source": [
    "neopl_SENSE_PA= (SENSE_PA['Neoplàsies'] == 1.0).mean() * 100\n",
    "print(f\"Percentatge de neoplàsies: {neopl_SENSE_PA:.2f}%\")"
   ],
   "id": "380e87c3db7e8b7a",
   "outputs": [
    {
     "name": "stdout",
     "output_type": "stream",
     "text": [
      "Percentatge de neoplàsies: 12.50%\n"
     ]
    }
   ],
   "execution_count": 225
  },
  {
   "metadata": {
    "ExecuteTime": {
     "end_time": "2024-05-08T09:06:44.314178Z",
     "start_time": "2024-05-08T09:06:44.307892Z"
    }
   },
   "cell_type": "code",
   "source": [
    "neopl_TOTAL= (TOTAL['Neoplàsies'] == 1.0).mean() * 100\n",
    "print(f\"Percentatge de neoplàsies: {neopl_TOTAL:.2f}%\")"
   ],
   "id": "6668eb0b5843499",
   "outputs": [
    {
     "name": "stdout",
     "output_type": "stream",
     "text": [
      "Percentatge de neoplàsies: 6.00%\n"
     ]
    }
   ],
   "execution_count": 226
  },
  {
   "metadata": {},
   "cell_type": "markdown",
   "source": "#### Comparació distributiva",
   "id": "338c0f6458d8be19"
  },
  {
   "metadata": {},
   "cell_type": "markdown",
   "source": "##### Normalitat i p-valor",
   "id": "9377ac1a9f6dd002"
  },
  {
   "metadata": {
    "ExecuteTime": {
     "end_time": "2024-05-08T09:06:44.706431Z",
     "start_time": "2024-05-08T09:06:44.687876Z"
    }
   },
   "cell_type": "code",
   "source": [
    "contingency_table_12 = pd.crosstab(index=AMB_PA['Neoplàsies'], columns=AMB_PA_MECVV['Neoplàsies'])  \n",
    " \n",
    "chi2_12, p_value_12, dof_12, expected_12 = chi2_contingency(contingency_table_12)  \n",
    " \n",
    "print(\"Estadístic xi-quadrat entre AMB_PA i AMB_PA_MECVV:\", chi2_12)  \n",
    "print(\"P-valor entre AMB_PA i AMB_PA_MECVV:\", p_value_12)  \n",
    " \n",
    "if p_value_12 < 0.05:  \n",
    "   print(\"Hi ha diferències significatives entre les distribucions de neoplàsies en AMB_PA i AMB_PA_MECVV.\")  \n",
    "else:  \n",
    "   print(\"No hi ha diferències significatives entre les distribucions de neoplàsies en AMB_PA i AMB_PA_MECVV.\") "
   ],
   "id": "7e49acda243ca033",
   "outputs": [
    {
     "name": "stdout",
     "output_type": "stream",
     "text": [
      "Estadístic xi-quadrat entre AMB_PA i AMB_PA_MECVV: 0.0\n",
      "P-valor entre AMB_PA i AMB_PA_MECVV: 1.0\n",
      "No hi ha diferències significatives entre les distribucions de neoplàsies en AMB_PA i AMB_PA_MECVV.\n"
     ]
    }
   ],
   "execution_count": 227
  },
  {
   "metadata": {
    "ExecuteTime": {
     "end_time": "2024-05-08T09:06:45.464344Z",
     "start_time": "2024-05-08T09:06:45.448286Z"
    }
   },
   "cell_type": "code",
   "source": [
    "contingency_table_13 = pd.crosstab(index=AMB_PA['Neoplàsies'], columns=SENSE_PA['Neoplàsies'])  \n",
    " \n",
    "chi2_13, p_value_13, dof_13, expected_13 = chi2_contingency(contingency_table_13)  \n",
    " \n",
    "print(\"Estadístic xi-quadrat entre AMB_PA i SENSE_PA:\", chi2_13)  \n",
    "print(\"P-valor entre AMB_PA i SENSE_PA:\", p_value_13)  \n",
    " \n",
    "if p_value_13 < 0.05:  \n",
    "   print(\"Hi ha diferències significatives entre les distribucions de neoplàsies en AMB_PA i SENSE_PA.\")  \n",
    "else:  \n",
    "   print(\"No hi ha diferències significatives entre les distribucions de neoplàsies en AMB_PA i SENSE_PA.\") "
   ],
   "id": "19de53eaca6faf46",
   "outputs": [
    {
     "name": "stdout",
     "output_type": "stream",
     "text": [
      "Estadístic xi-quadrat entre AMB_PA i SENSE_PA: 0.0\n",
      "P-valor entre AMB_PA i SENSE_PA: 1.0\n",
      "No hi ha diferències significatives entre les distribucions de neoplàsies en AMB_PA i SENSE_PA.\n"
     ]
    }
   ],
   "execution_count": 228
  },
  {
   "metadata": {
    "ExecuteTime": {
     "end_time": "2024-05-08T09:06:45.894455Z",
     "start_time": "2024-05-08T09:06:45.849513Z"
    }
   },
   "cell_type": "code",
   "source": [
    "contingency_table_23 = pd.crosstab(index=AMB_PA_MECVV['Neoplàsies'], columns=SENSE_PA['Neoplàsies'])  \n",
    " \n",
    "chi2_23, p_value_23, dof_23, expected_23 = chi2_contingency(contingency_table_23)  \n",
    " \n",
    "print(\"Estadístic xi-quadrat entre AMB_PA_MECVV i SENSE_PA:\", chi2_23)  \n",
    "print(\"P-valor entre AMB_PA_MECVV i SENSE_PA:\", p_value_23)  \n",
    " \n",
    "if p_value_23 < 0.05:  \n",
    "   print(\"Hi ha diferències significatives entre les distribucions de neoplàsies en AMB_PA_MECVV i SENSE_PA.\")  \n",
    "else:  \n",
    "   print(\"No hi ha diferències significatives entre les distribucions de neoplàsies en AMB_PA_MECVV i SENSE_PA.\") "
   ],
   "id": "d041e42afd281dba",
   "outputs": [
    {
     "ename": "ValueError",
     "evalue": "No data; `observed` has size 0.",
     "output_type": "error",
     "traceback": [
      "\u001B[1;31m---------------------------------------------------------------------------\u001B[0m",
      "\u001B[1;31mValueError\u001B[0m                                Traceback (most recent call last)",
      "Cell \u001B[1;32mIn[229], line 3\u001B[0m\n\u001B[0;32m      1\u001B[0m contingency_table_23 \u001B[38;5;241m=\u001B[39m pd\u001B[38;5;241m.\u001B[39mcrosstab(index\u001B[38;5;241m=\u001B[39mAMB_PA_MECVV[\u001B[38;5;124m'\u001B[39m\u001B[38;5;124mNeoplàsies\u001B[39m\u001B[38;5;124m'\u001B[39m], columns\u001B[38;5;241m=\u001B[39mSENSE_PA[\u001B[38;5;124m'\u001B[39m\u001B[38;5;124mNeoplàsies\u001B[39m\u001B[38;5;124m'\u001B[39m])  \n\u001B[1;32m----> 3\u001B[0m chi2_23, p_value_23, dof_23, expected_23 \u001B[38;5;241m=\u001B[39m \u001B[43mchi2_contingency\u001B[49m\u001B[43m(\u001B[49m\u001B[43mcontingency_table_23\u001B[49m\u001B[43m)\u001B[49m  \n\u001B[0;32m      5\u001B[0m \u001B[38;5;28mprint\u001B[39m(\u001B[38;5;124m\"\u001B[39m\u001B[38;5;124mEstadístic xi-quadrat entre AMB_PA_MECVV i SENSE_PA:\u001B[39m\u001B[38;5;124m\"\u001B[39m, chi2_23)  \n\u001B[0;32m      6\u001B[0m \u001B[38;5;28mprint\u001B[39m(\u001B[38;5;124m\"\u001B[39m\u001B[38;5;124mP-valor entre AMB_PA_MECVV i SENSE_PA:\u001B[39m\u001B[38;5;124m\"\u001B[39m, p_value_23)  \n",
      "File \u001B[1;32m~\\PycharmProjects\\practicum\\.venv\\Lib\\site-packages\\scipy\\stats\\contingency.py:333\u001B[0m, in \u001B[0;36mchi2_contingency\u001B[1;34m(observed, correction, lambda_)\u001B[0m\n\u001B[0;32m    331\u001B[0m     \u001B[38;5;28;01mraise\u001B[39;00m \u001B[38;5;167;01mValueError\u001B[39;00m(\u001B[38;5;124m\"\u001B[39m\u001B[38;5;124mAll values in `observed` must be nonnegative.\u001B[39m\u001B[38;5;124m\"\u001B[39m)\n\u001B[0;32m    332\u001B[0m \u001B[38;5;28;01mif\u001B[39;00m observed\u001B[38;5;241m.\u001B[39msize \u001B[38;5;241m==\u001B[39m \u001B[38;5;241m0\u001B[39m:\n\u001B[1;32m--> 333\u001B[0m     \u001B[38;5;28;01mraise\u001B[39;00m \u001B[38;5;167;01mValueError\u001B[39;00m(\u001B[38;5;124m\"\u001B[39m\u001B[38;5;124mNo data; `observed` has size 0.\u001B[39m\u001B[38;5;124m\"\u001B[39m)\n\u001B[0;32m    335\u001B[0m expected \u001B[38;5;241m=\u001B[39m expected_freq(observed)\n\u001B[0;32m    336\u001B[0m \u001B[38;5;28;01mif\u001B[39;00m np\u001B[38;5;241m.\u001B[39many(expected \u001B[38;5;241m==\u001B[39m \u001B[38;5;241m0\u001B[39m):\n\u001B[0;32m    337\u001B[0m     \u001B[38;5;66;03m# Include one of the positions where expected is zero in\u001B[39;00m\n\u001B[0;32m    338\u001B[0m     \u001B[38;5;66;03m# the exception message.\u001B[39;00m\n",
      "\u001B[1;31mValueError\u001B[0m: No data; `observed` has size 0."
     ]
    }
   ],
   "execution_count": 229
  },
  {
   "metadata": {
    "ExecuteTime": {
     "end_time": "2024-05-08T09:06:46.478623Z",
     "start_time": "2024-05-08T09:06:46.455813Z"
    }
   },
   "cell_type": "code",
   "source": [
    "contingency_table_14 = pd.crosstab(index=AMB_PA['Neoplàsies'], columns=TOTAL['Neoplàsies'])  \n",
    " \n",
    "chi2_14, p_value_14, dof_14, expected_14 = chi2_contingency(contingency_table_14)  \n",
    " \n",
    "print(\"Estadístic xi-quadrat entre AMB_PA i TOTAL:\", chi2_14)  \n",
    "print(\"P-valor entre AMB_PA i TOTAL:\", p_value_14)  \n",
    " \n",
    "if p_value_14 < 0.05:  \n",
    "   print(\"Hi ha diferències significatives entre les distribucions de neoplàsies en AMB_PA i TOTAL.\")  \n",
    "else:  \n",
    "   print(\"No hi ha diferències significatives entre les distribucions de neoplàsies en AMB_PA i TOTAL.\") "
   ],
   "id": "9f979fb1cd463deb",
   "outputs": [
    {
     "name": "stdout",
     "output_type": "stream",
     "text": [
      "Estadístic xi-quadrat entre AMB_PA i TOTAL: 0.0\n",
      "P-valor entre AMB_PA i TOTAL: 1.0\n",
      "No hi ha diferències significatives entre les distribucions de neoplàsies en AMB_PA i TOTAL.\n"
     ]
    }
   ],
   "execution_count": 230
  },
  {
   "metadata": {
    "ExecuteTime": {
     "end_time": "2024-05-08T09:06:47.057236Z",
     "start_time": "2024-05-08T09:06:47.040567Z"
    }
   },
   "cell_type": "code",
   "source": [
    "contingency_table_24 = pd.crosstab(index=AMB_PA_MECVV['Neoplàsies'], columns=TOTAL['Neoplàsies'])  \n",
    " \n",
    "chi2_24, p_value_24, dof_24, expected_24 = chi2_contingency(contingency_table_24)  \n",
    " \n",
    "print(\"Estadístic xi-quadrat entre AMB_PA_MECVV i TOTAL:\", chi2_24)  \n",
    "print(\"P-valor entre AMB_PA_MECVV i TOTAL:\", p_value_24)  \n",
    " \n",
    "if p_value_24 < 0.05:  \n",
    "   print(\"Hi ha diferències significatives entre les distribucions de neoplàsies en AMB_PA_MECVV i TOTAL.\")  \n",
    "else:  \n",
    "   print(\"No hi ha diferències significatives entre les distribucions de neoplàsies en AMB_PA_MECVV i TOTAL.\") "
   ],
   "id": "bbb7ce1b7cce2215",
   "outputs": [
    {
     "name": "stdout",
     "output_type": "stream",
     "text": [
      "Estadístic xi-quadrat entre AMB_PA_MECVV i TOTAL: 0.0\n",
      "P-valor entre AMB_PA_MECVV i TOTAL: 1.0\n",
      "No hi ha diferències significatives entre les distribucions de neoplàsies en AMB_PA_MECVV i TOTAL.\n"
     ]
    }
   ],
   "execution_count": 231
  },
  {
   "metadata": {
    "ExecuteTime": {
     "end_time": "2024-05-08T09:06:47.392760Z",
     "start_time": "2024-05-08T09:06:47.373118Z"
    }
   },
   "cell_type": "code",
   "source": [
    "contingency_table_34 = pd.crosstab(index=SENSE_PA['Neoplàsies'], columns=TOTAL['Neoplàsies'])  \n",
    " \n",
    "chi2_34, p_value_34, dof_34, expected_34 = chi2_contingency(contingency_table_34)  \n",
    " \n",
    "print(\"Estadístic xi-quadrat entre SENSE_PA i TOTAL:\", chi2_34)  \n",
    "print(\"P-valor entre SENSE_PA i TOTAL:\", p_value_34)  \n",
    " \n",
    "if p_value_34 < 0.05:  \n",
    "   print(\"Hi ha diferències significatives entre les distribucions de neoplàsies en SENSE_PA i TOTAL.\")  \n",
    "else:  \n",
    "   print(\"No hi ha diferències significatives entre les distribucions de neoplàsies en SENSE_PA i TOTAL.\") "
   ],
   "id": "28ff989a55478f46",
   "outputs": [
    {
     "name": "stdout",
     "output_type": "stream",
     "text": [
      "Estadístic xi-quadrat entre SENSE_PA i TOTAL: 1.469387755102041\n",
      "P-valor entre SENSE_PA i TOTAL: 0.22544231699450956\n",
      "No hi ha diferències significatives entre les distribucions de neoplàsies en SENSE_PA i TOTAL.\n"
     ]
    }
   ],
   "execution_count": 232
  },
  {
   "metadata": {},
   "cell_type": "markdown",
   "source": [
    "## Malaltia crònica renal (creatinina > 1.5mg/dL)"
   ],
   "id": "be977a70d2e9a7c"
  },
  {
   "metadata": {},
   "cell_type": "markdown",
   "source": [
    "Donat que aquesta columna és de tipus objecte, primer la passaré a tipus numèric per poder operar amb ella"
   ],
   "id": "104b74d04d4f6f25"
  },
  {
   "metadata": {
    "ExecuteTime": {
     "end_time": "2024-05-08T09:06:47.878933Z",
     "start_time": "2024-05-08T09:06:47.867459Z"
    }
   },
   "cell_type": "code",
   "source": [
    "AMB_PA.loc[:, 'Creatinina >1.5 binària'] = pd.to_numeric(AMB_PA['Creatinina >1.5 binària'], errors='coerce')\n",
    "AMB_PA_MECVV.loc[:, 'Creatinina >1.5 binària'] = pd.to_numeric(AMB_PA_MECVV['Creatinina >1.5 binària'], errors='coerce')\n",
    "SENSE_PA.loc[:, 'Creatinina >1.5 binària'] = pd.to_numeric(SENSE_PA['Creatinina >1.5 binària'], errors='coerce')\n",
    "TOTAL.loc[:, 'Creatinina >1.5 binària'] = pd.to_numeric(TOTAL['Creatinina >1.5 binària'], errors='coerce')"
   ],
   "id": "44a54bc94beb324a",
   "outputs": [],
   "execution_count": 233
  },
  {
   "metadata": {
    "ExecuteTime": {
     "end_time": "2024-05-08T09:06:48.174257Z",
     "start_time": "2024-05-08T09:06:48.165437Z"
    }
   },
   "cell_type": "code",
   "source": [
    "ecr_AMB_PA= (AMB_PA['Creatinina >1.5 binària'] == 1.0).mean() * 100\n",
    "print(f\"Percentatge de malaltia crònica renal amb creatinina >1.5: {ecr_AMB_PA:.2f}%\")"
   ],
   "id": "1220b795ea747457",
   "outputs": [
    {
     "name": "stdout",
     "output_type": "stream",
     "text": [
      "Percentatge de malaltia crònica renal amb creatinina >1.5: 0.00%\n"
     ]
    }
   ],
   "execution_count": 234
  },
  {
   "metadata": {
    "ExecuteTime": {
     "end_time": "2024-05-08T09:06:48.679484Z",
     "start_time": "2024-05-08T09:06:48.672930Z"
    }
   },
   "cell_type": "code",
   "source": [
    "ecr_AMB_PA_MECVV= (AMB_PA_MECVV['Creatinina >1.5 binària'] == 1.0).mean() * 100\n",
    "print(f\"Percentatge de malaltia crònica renal amb creatinina >1.5: {ecr_AMB_PA_MECVV:.2f}%\")"
   ],
   "id": "f33ab01070f387e4",
   "outputs": [
    {
     "name": "stdout",
     "output_type": "stream",
     "text": [
      "Percentatge de malaltia crònica renal amb creatinina >1.5: 0.00%\n"
     ]
    }
   ],
   "execution_count": 235
  },
  {
   "metadata": {
    "ExecuteTime": {
     "end_time": "2024-05-08T09:06:49.008755Z",
     "start_time": "2024-05-08T09:06:48.999695Z"
    }
   },
   "cell_type": "code",
   "source": [
    "ecr_SENSE_PA= (SENSE_PA['Creatinina >1.5 binària'] == 1.0).mean() * 100\n",
    "print(f\"Percentatge de malaltia crònica renal amb creatinina >1.5: {ecr_SENSE_PA:.2f}%\")"
   ],
   "id": "f2a96ab467d4fa20",
   "outputs": [
    {
     "name": "stdout",
     "output_type": "stream",
     "text": [
      "Percentatge de malaltia crònica renal amb creatinina >1.5: 0.00%\n"
     ]
    }
   ],
   "execution_count": 236
  },
  {
   "metadata": {
    "ExecuteTime": {
     "end_time": "2024-05-08T09:06:49.413690Z",
     "start_time": "2024-05-08T09:06:49.406369Z"
    }
   },
   "cell_type": "code",
   "source": [
    "ecr_TOTAL= (TOTAL['Creatinina >1.5 binària'] == 1.0).mean() * 100\n",
    "print(f\"Percentatge de malaltia crònica renal amb creatinina >1.5: {ecr_TOTAL:.2f}%\")"
   ],
   "id": "98afd5369362f6dc",
   "outputs": [
    {
     "name": "stdout",
     "output_type": "stream",
     "text": [
      "Percentatge de malaltia crònica renal amb creatinina >1.5: 6.00%\n"
     ]
    }
   ],
   "execution_count": 237
  },
  {
   "metadata": {},
   "cell_type": "markdown",
   "source": "#### Comparació distributiva",
   "id": "9a0ec8b221656a8a"
  },
  {
   "metadata": {},
   "cell_type": "markdown",
   "source": "##### Normalitat i p-valor",
   "id": "d6ffad4c820486ed"
  },
  {
   "metadata": {
    "ExecuteTime": {
     "end_time": "2024-05-08T09:06:49.778987Z",
     "start_time": "2024-05-08T09:06:49.766420Z"
    }
   },
   "cell_type": "code",
   "source": [
    "contingency_table_12 = pd.crosstab(index=AMB_PA['Creatinina >1.5 binària'], columns=AMB_PA_MECVV['Creatinina >1.5 binària'])  \n",
    " \n",
    "chi2_12, p_value_12, dof_12, expected_12 = chi2_contingency(contingency_table_12)  \n",
    " \n",
    "print(\"Estadístic xi-quadrat entre AMB_PA i AMB_PA_MECVV:\", chi2_12)  \n",
    "print(\"P-valor entre AMB_PA i AMB_PA_MECVV:\", p_value_12)  \n",
    " \n",
    "if p_value_12 < 0.05:  \n",
    "   print(\"Hi ha diferències significatives entre les distribucions de malaltia crònica renal amb creatinina >1.5 en AMB_PA i AMB_PA_MECVV.\")  \n",
    "else:  \n",
    "   print(\"No hi ha diferències significatives entre les distribucions de malaltia crònica renal amb creatinina >1.5 en AMB_PA i AMB_PA_MECVV.\") "
   ],
   "id": "cf20863e3c24d450",
   "outputs": [
    {
     "name": "stdout",
     "output_type": "stream",
     "text": [
      "Estadístic xi-quadrat entre AMB_PA i AMB_PA_MECVV: 0.0\n",
      "P-valor entre AMB_PA i AMB_PA_MECVV: 1.0\n",
      "No hi ha diferències significatives entre les distribucions de malaltia crònica renal amb creatinina >1.5 en AMB_PA i AMB_PA_MECVV.\n"
     ]
    }
   ],
   "execution_count": 238
  },
  {
   "metadata": {
    "ExecuteTime": {
     "end_time": "2024-05-08T09:06:50.293161Z",
     "start_time": "2024-05-08T09:06:50.278693Z"
    }
   },
   "cell_type": "code",
   "source": [
    "contingency_table_13 = pd.crosstab(index=AMB_PA['Creatinina >1.5 binària'], columns=SENSE_PA['Creatinina >1.5 binària'])  \n",
    " \n",
    "chi2_13, p_value_13, dof_13, expected_13 = chi2_contingency(contingency_table_13)  \n",
    " \n",
    "print(\"Estadístic xi-quadrat entre AMB_PA i SENSE_PA:\", chi2_13)  \n",
    "print(\"P-valor entre AMB_PA i SENSE_PA:\", p_value_13)  \n",
    " \n",
    "if p_value_13 < 0.05:  \n",
    "   print(\"Hi ha diferències significatives entre les distribucions de  malaltia crònica renal amb creatinina >1.5 en AMB_PA i SENSE_PA.\")  \n",
    "else:  \n",
    "   print(\"No hi ha diferències significatives entre les distribucions de  malaltia crònica renal amb creatinina >1.5 en AMB_PA i SENSE_PA.\") "
   ],
   "id": "17e378b6adaccd52",
   "outputs": [
    {
     "name": "stdout",
     "output_type": "stream",
     "text": [
      "Estadístic xi-quadrat entre AMB_PA i SENSE_PA: 0.0\n",
      "P-valor entre AMB_PA i SENSE_PA: 1.0\n",
      "No hi ha diferències significatives entre les distribucions de  malaltia crònica renal amb creatinina >1.5 en AMB_PA i SENSE_PA.\n"
     ]
    }
   ],
   "execution_count": 239
  },
  {
   "metadata": {
    "ExecuteTime": {
     "end_time": "2024-05-08T09:06:50.618769Z",
     "start_time": "2024-05-08T09:06:50.577815Z"
    }
   },
   "cell_type": "code",
   "source": [
    "contingency_table_23 = pd.crosstab(index=AMB_PA_MECVV['Creatinina >1.5 binària'], columns=SENSE_PA['Creatinina >1.5 binària'])  \n",
    " \n",
    "chi2_23, p_value_23, dof_23, expected_23 = chi2_contingency(contingency_table_23)  \n",
    " \n",
    "print(\"Estadístic xi-quadrat entre AMB_PA_MECCV i SENSE_PA:\", chi2_23)  \n",
    "print(\"P-valor entre AMB_PA_MECVV i SENSE_PA:\", p_value_23)  \n",
    " \n",
    "if p_value_23 < 0.05:  \n",
    "   print(\"Hi ha diferències significatives entre les distribucions de malaltia crònica renal amb creatinina >1.5 en AMB_PA_MECVV i SENSE_PA.\")  \n",
    "else:  \n",
    "   print(\"No hi ha diferències significatives entre les distribucions de malaltia crònica renal amb creatinina >1.5 en AMB_PA_MECVV i SENSE_PA.\") "
   ],
   "id": "4d738444b5cc0416",
   "outputs": [
    {
     "ename": "ValueError",
     "evalue": "No data; `observed` has size 0.",
     "output_type": "error",
     "traceback": [
      "\u001B[1;31m---------------------------------------------------------------------------\u001B[0m",
      "\u001B[1;31mValueError\u001B[0m                                Traceback (most recent call last)",
      "Cell \u001B[1;32mIn[240], line 3\u001B[0m\n\u001B[0;32m      1\u001B[0m contingency_table_23 \u001B[38;5;241m=\u001B[39m pd\u001B[38;5;241m.\u001B[39mcrosstab(index\u001B[38;5;241m=\u001B[39mAMB_PA_MECVV[\u001B[38;5;124m'\u001B[39m\u001B[38;5;124mCreatinina >1.5 binària\u001B[39m\u001B[38;5;124m'\u001B[39m], columns\u001B[38;5;241m=\u001B[39mSENSE_PA[\u001B[38;5;124m'\u001B[39m\u001B[38;5;124mCreatinina >1.5 binària\u001B[39m\u001B[38;5;124m'\u001B[39m])  \n\u001B[1;32m----> 3\u001B[0m chi2_23, p_value_23, dof_23, expected_23 \u001B[38;5;241m=\u001B[39m \u001B[43mchi2_contingency\u001B[49m\u001B[43m(\u001B[49m\u001B[43mcontingency_table_23\u001B[49m\u001B[43m)\u001B[49m  \n\u001B[0;32m      5\u001B[0m \u001B[38;5;28mprint\u001B[39m(\u001B[38;5;124m\"\u001B[39m\u001B[38;5;124mEstadístic xi-quadrat entre AMB_PA_MECCV i SENSE_PA:\u001B[39m\u001B[38;5;124m\"\u001B[39m, chi2_23)  \n\u001B[0;32m      6\u001B[0m \u001B[38;5;28mprint\u001B[39m(\u001B[38;5;124m\"\u001B[39m\u001B[38;5;124mP-valor entre AMB_PA_MECVV i SENSE_PA:\u001B[39m\u001B[38;5;124m\"\u001B[39m, p_value_23)  \n",
      "File \u001B[1;32m~\\PycharmProjects\\practicum\\.venv\\Lib\\site-packages\\scipy\\stats\\contingency.py:333\u001B[0m, in \u001B[0;36mchi2_contingency\u001B[1;34m(observed, correction, lambda_)\u001B[0m\n\u001B[0;32m    331\u001B[0m     \u001B[38;5;28;01mraise\u001B[39;00m \u001B[38;5;167;01mValueError\u001B[39;00m(\u001B[38;5;124m\"\u001B[39m\u001B[38;5;124mAll values in `observed` must be nonnegative.\u001B[39m\u001B[38;5;124m\"\u001B[39m)\n\u001B[0;32m    332\u001B[0m \u001B[38;5;28;01mif\u001B[39;00m observed\u001B[38;5;241m.\u001B[39msize \u001B[38;5;241m==\u001B[39m \u001B[38;5;241m0\u001B[39m:\n\u001B[1;32m--> 333\u001B[0m     \u001B[38;5;28;01mraise\u001B[39;00m \u001B[38;5;167;01mValueError\u001B[39;00m(\u001B[38;5;124m\"\u001B[39m\u001B[38;5;124mNo data; `observed` has size 0.\u001B[39m\u001B[38;5;124m\"\u001B[39m)\n\u001B[0;32m    335\u001B[0m expected \u001B[38;5;241m=\u001B[39m expected_freq(observed)\n\u001B[0;32m    336\u001B[0m \u001B[38;5;28;01mif\u001B[39;00m np\u001B[38;5;241m.\u001B[39many(expected \u001B[38;5;241m==\u001B[39m \u001B[38;5;241m0\u001B[39m):\n\u001B[0;32m    337\u001B[0m     \u001B[38;5;66;03m# Include one of the positions where expected is zero in\u001B[39;00m\n\u001B[0;32m    338\u001B[0m     \u001B[38;5;66;03m# the exception message.\u001B[39;00m\n",
      "\u001B[1;31mValueError\u001B[0m: No data; `observed` has size 0."
     ]
    }
   ],
   "execution_count": 240
  },
  {
   "metadata": {
    "ExecuteTime": {
     "end_time": "2024-05-08T09:06:51.084130Z",
     "start_time": "2024-05-08T09:06:51.067166Z"
    }
   },
   "cell_type": "code",
   "source": [
    "contingency_table_14 = pd.crosstab(index=AMB_PA['Creatinina >1.5 binària'], columns=TOTAL['Creatinina >1.5 binària'])  \n",
    " \n",
    "chi2_14, p_value_14, dof_14, expected_14 = chi2_contingency(contingency_table_14)  \n",
    " \n",
    "print(\"Estadístic xi-quadrat entre AMB_PA i TOTAL:\", chi2_14)  \n",
    "print(\"P-valor entre AMB_PA i TOTAL:\", p_value_14)  \n",
    " \n",
    "if p_value_14 < 0.05:  \n",
    "   print(\"Hi ha diferències significatives entre les distribucions de malaltia crònica renal amb creatinina >1.5 en AMB_PA i TOTAL.\")  \n",
    "else:  \n",
    "   print(\"No hi ha diferències significatives entre les distribucions de malaltia crònica renal amb creatinina >1.5 en AMB_PA i TOTAL.\") "
   ],
   "id": "826b3ac7289682f9",
   "outputs": [
    {
     "name": "stdout",
     "output_type": "stream",
     "text": [
      "Estadístic xi-quadrat entre AMB_PA i TOTAL: 0.0\n",
      "P-valor entre AMB_PA i TOTAL: 1.0\n",
      "No hi ha diferències significatives entre les distribucions de malaltia crònica renal amb creatinina >1.5 en AMB_PA i TOTAL.\n"
     ]
    }
   ],
   "execution_count": 241
  },
  {
   "metadata": {
    "ExecuteTime": {
     "end_time": "2024-05-08T09:06:51.528907Z",
     "start_time": "2024-05-08T09:06:51.515067Z"
    }
   },
   "cell_type": "code",
   "source": [
    "contingency_table_24 = pd.crosstab(index=AMB_PA_MECVV['Creatinina >1.5 binària'], columns=TOTAL['Creatinina >1.5 binària'])  \n",
    " \n",
    "chi2_24, p_value_24, dof_24, expected_24 = chi2_contingency(contingency_table_24)  \n",
    " \n",
    "print(\"Estadístic xi-quadrat entre AMB_PA_MECVV i TOTAL:\", chi2_24)  \n",
    "print(\"P-valor entre AMB_PA_MECVV i TOTAL:\", p_value_24)  \n",
    " \n",
    "if p_value_24 < 0.05:  \n",
    "   print(\"Hi ha diferències significatives entre les distribucions de malaltia crònica renal amb creatinina >1.5 en AMB_PA_MECVV i TOTAL.\")  \n",
    "else:  \n",
    "   print(\"No hi ha diferències significatives entre les distribucions de malaltia crònica renal amb creatinina >1.5 en AMB_PA_MECVV i TOTAL.\") "
   ],
   "id": "ec0b9cbd0e17e156",
   "outputs": [
    {
     "name": "stdout",
     "output_type": "stream",
     "text": [
      "Estadístic xi-quadrat entre AMB_PA_MECVV i TOTAL: 0.0\n",
      "P-valor entre AMB_PA_MECVV i TOTAL: 1.0\n",
      "No hi ha diferències significatives entre les distribucions de malaltia crònica renal amb creatinina >1.5 en AMB_PA_MECVV i TOTAL.\n"
     ]
    }
   ],
   "execution_count": 242
  },
  {
   "metadata": {
    "ExecuteTime": {
     "end_time": "2024-05-08T09:06:52.230691Z",
     "start_time": "2024-05-08T09:06:52.216784Z"
    }
   },
   "cell_type": "code",
   "source": [
    "contingency_table_34 = pd.crosstab(index=SENSE_PA['Creatinina >1.5 binària'], columns=TOTAL['Creatinina >1.5 binària'])  \n",
    " \n",
    "chi2_34, p_value_34, dof_34, expected_34 = chi2_contingency(contingency_table_34)  \n",
    " \n",
    "print(\"Estadístic xi-quadrat entre SENSE_PA i TOTAL:\", chi2_34)  \n",
    "print(\"P-valor entre SENSE_PA i TOTAL:\", p_value_34)  \n",
    " \n",
    "if p_value_34 < 0.05:  \n",
    "   print(\"Hi ha diferències significatives entre les distribucions de malaltia crònica renal amb creatinina >1.5 en SENSE_PA i TOTAL.\")  \n",
    "else:  \n",
    "   print(\"No hi ha diferències significatives entre les distribucions de malaltia crònica renal amb creatinina >1.5 en SENSE_PA i TOTAL.\") "
   ],
   "id": "64e093026447a7ec",
   "outputs": [
    {
     "name": "stdout",
     "output_type": "stream",
     "text": [
      "Estadístic xi-quadrat entre SENSE_PA i TOTAL: 0.0\n",
      "P-valor entre SENSE_PA i TOTAL: 1.0\n",
      "No hi ha diferències significatives entre les distribucions de malaltia crònica renal amb creatinina >1.5 en SENSE_PA i TOTAL.\n"
     ]
    }
   ],
   "execution_count": 243
  },
  {
   "metadata": {},
   "cell_type": "markdown",
   "source": [
    "## Fallida renal aguda (o insuficiència renal aguda)"
   ],
   "id": "2a45b7c462b693cc"
  },
  {
   "metadata": {
    "ExecuteTime": {
     "end_time": "2024-05-08T09:06:52.593387Z",
     "start_time": "2024-05-08T09:06:52.587618Z"
    }
   },
   "cell_type": "code",
   "source": [
    "ira_AMB_PA= (AMB_PA['ARF'] == 1.0).mean() * 100\n",
    "print(f\"Percentatge de fallida renal aguda: {ira_AMB_PA:.2f}%\")"
   ],
   "id": "bf4cb3020f4ab65",
   "outputs": [
    {
     "name": "stdout",
     "output_type": "stream",
     "text": [
      "Percentatge de fallida renal aguda: 23.53%\n"
     ]
    }
   ],
   "execution_count": 244
  },
  {
   "metadata": {
    "ExecuteTime": {
     "end_time": "2024-05-08T09:06:53.172422Z",
     "start_time": "2024-05-08T09:06:53.166869Z"
    }
   },
   "cell_type": "code",
   "source": [
    "ira_AMB_PA_MECVV= (AMB_PA_MECVV['ARF'] == 1.0).mean() * 100\n",
    "print(f\"Percentatge de fallida renal aguda: {ira_AMB_PA_MECVV:.2f}%\")"
   ],
   "id": "694f049952ae8d4f",
   "outputs": [
    {
     "name": "stdout",
     "output_type": "stream",
     "text": [
      "Percentatge de fallida renal aguda: 50.00%\n"
     ]
    }
   ],
   "execution_count": 245
  },
  {
   "metadata": {
    "ExecuteTime": {
     "end_time": "2024-05-08T09:06:53.741237Z",
     "start_time": "2024-05-08T09:06:53.731676Z"
    }
   },
   "cell_type": "code",
   "source": [
    "ira_SENSE_PA= (SENSE_PA['ARF'] == 1.0).mean() * 100\n",
    "print(f\"Percentatge de fallida renal aguda: {ira_SENSE_PA:.2f}%\")"
   ],
   "id": "d9da03942f97e9ff",
   "outputs": [
    {
     "name": "stdout",
     "output_type": "stream",
     "text": [
      "Percentatge de fallida renal aguda: 50.00%\n"
     ]
    }
   ],
   "execution_count": 246
  },
  {
   "metadata": {
    "ExecuteTime": {
     "end_time": "2024-05-08T09:06:54.033274Z",
     "start_time": "2024-05-08T09:06:54.025635Z"
    }
   },
   "cell_type": "code",
   "source": [
    "ira_TOTAL= (TOTAL['ARF'] == 1.0).mean() * 100\n",
    "print(f\"Percentatge de fallida renal aguda: {ira_TOTAL:.2f}%\")"
   ],
   "id": "e4ad78c38ddcf404",
   "outputs": [
    {
     "name": "stdout",
     "output_type": "stream",
     "text": [
      "Percentatge de fallida renal aguda: 26.00%\n"
     ]
    }
   ],
   "execution_count": 247
  },
  {
   "metadata": {},
   "cell_type": "markdown",
   "source": "#### Comparació distributiva",
   "id": "fa90e43bd79a9017"
  },
  {
   "metadata": {},
   "cell_type": "markdown",
   "source": "##### Normalitat i p-valor ",
   "id": "ab080f83d40e2433"
  },
  {
   "metadata": {
    "ExecuteTime": {
     "end_time": "2024-05-08T09:06:54.502237Z",
     "start_time": "2024-05-08T09:06:54.486041Z"
    }
   },
   "cell_type": "code",
   "source": [
    "contingency_table_12 = pd.crosstab(index=AMB_PA['ARF'], columns=AMB_PA_MECVV['ARF'])  \n",
    " \n",
    "chi2_12, p_value_12, dof_12, expected_12 = chi2_contingency(contingency_table_12)  \n",
    " \n",
    "print(\"Estadístic xi-quadrat entre AMB_PA i AMB_PA_MECVV:\", chi2_12)  \n",
    "print(\"P-valor entre AMB_PA i AMB_PA_MECVV:\", p_value_12)  \n",
    " \n",
    "if p_value_12 < 0.05:  \n",
    "   print(\"Hi ha diferències significatives entre les distribucions de fallida renal aguda en AMB_PA i AMB_PA_MECVV.\")  \n",
    "else:  \n",
    "   print(\"No hi ha diferències significatives entre les distribucions de fallida renal aguda en AMB_PA i AMB_PA_MECVV.\") "
   ],
   "id": "a11f6f5322e507d3",
   "outputs": [
    {
     "name": "stdout",
     "output_type": "stream",
     "text": [
      "Estadístic xi-quadrat entre AMB_PA i AMB_PA_MECVV: 2.6666666666666665\n",
      "P-valor entre AMB_PA i AMB_PA_MECVV: 0.10247043485974942\n",
      "No hi ha diferències significatives entre les distribucions de fallida renal aguda en AMB_PA i AMB_PA_MECVV.\n"
     ]
    }
   ],
   "execution_count": 248
  },
  {
   "metadata": {
    "ExecuteTime": {
     "end_time": "2024-05-08T09:06:54.868871Z",
     "start_time": "2024-05-08T09:06:54.853966Z"
    }
   },
   "cell_type": "code",
   "source": [
    "contingency_table_13 = pd.crosstab(index=AMB_PA['ARF'], columns=SENSE_PA['ARF'])  \n",
    " \n",
    "chi2_13, p_value_13, dof_13, expected_13 = chi2_contingency(contingency_table_13)  \n",
    " \n",
    "print(\"Estadístic xi-quadrat entre AMB_PA i SENSE_PA:\", chi2_13)  \n",
    "print(\"P-valor entre AMB_PA i SENSE_PA:\", p_value_13)  \n",
    " \n",
    "if p_value_13 < 0.05:  \n",
    "   print(\"Hi ha diferències significatives entre les distribucions de fallida renal aguda en AMB_PA i SENSE_PA.\")  \n",
    "else:  \n",
    "   print(\"No hi ha diferències significatives entre les distribucions de fallida renal aguda en AMB_PA i SENSE_PA.\") "
   ],
   "id": "9a5bbf6808c79243",
   "outputs": [
    {
     "name": "stdout",
     "output_type": "stream",
     "text": [
      "Estadístic xi-quadrat entre AMB_PA i SENSE_PA: 0.0\n",
      "P-valor entre AMB_PA i SENSE_PA: 1.0\n",
      "No hi ha diferències significatives entre les distribucions de fallida renal aguda en AMB_PA i SENSE_PA.\n"
     ]
    }
   ],
   "execution_count": 249
  },
  {
   "metadata": {
    "ExecuteTime": {
     "end_time": "2024-05-08T09:06:55.364084Z",
     "start_time": "2024-05-08T09:06:55.323806Z"
    }
   },
   "cell_type": "code",
   "source": [
    "contingency_table_23 = pd.crosstab(index=AMB_PA_MECVV['ARF'], columns=SENSE_PA['ARF'])  \n",
    " \n",
    "chi2_23, p_value_23, dof_23, expected_23 = chi2_contingency(contingency_table_23)  \n",
    " \n",
    "print(\"Estadístic xi-quadrat entre AMB_PA_MECCV i SENSE_PA:\", chi2_23)  \n",
    "print(\"P-valor entre AMB_PA_MECVV i SENSE_PA:\", p_value_23)  \n",
    " \n",
    "if p_value_23 < 0.05:  \n",
    "   print(\"Hi ha diferències significatives entre les distribucions de fallida renal aguda en AMB_PA_MECVV i SENSE_PA.\")  \n",
    "else:  \n",
    "   print(\"No hi ha diferències significatives entre les distribucions de fallida renal aguda en AMB_PA_MECVV i SENSE_PA.\") "
   ],
   "id": "3825dfecd1188df7",
   "outputs": [
    {
     "ename": "ValueError",
     "evalue": "No data; `observed` has size 0.",
     "output_type": "error",
     "traceback": [
      "\u001B[1;31m---------------------------------------------------------------------------\u001B[0m",
      "\u001B[1;31mValueError\u001B[0m                                Traceback (most recent call last)",
      "Cell \u001B[1;32mIn[250], line 3\u001B[0m\n\u001B[0;32m      1\u001B[0m contingency_table_23 \u001B[38;5;241m=\u001B[39m pd\u001B[38;5;241m.\u001B[39mcrosstab(index\u001B[38;5;241m=\u001B[39mAMB_PA_MECVV[\u001B[38;5;124m'\u001B[39m\u001B[38;5;124mARF\u001B[39m\u001B[38;5;124m'\u001B[39m], columns\u001B[38;5;241m=\u001B[39mSENSE_PA[\u001B[38;5;124m'\u001B[39m\u001B[38;5;124mARF\u001B[39m\u001B[38;5;124m'\u001B[39m])  \n\u001B[1;32m----> 3\u001B[0m chi2_23, p_value_23, dof_23, expected_23 \u001B[38;5;241m=\u001B[39m \u001B[43mchi2_contingency\u001B[49m\u001B[43m(\u001B[49m\u001B[43mcontingency_table_23\u001B[49m\u001B[43m)\u001B[49m  \n\u001B[0;32m      5\u001B[0m \u001B[38;5;28mprint\u001B[39m(\u001B[38;5;124m\"\u001B[39m\u001B[38;5;124mEstadístic xi-quadrat entre AMB_PA_MECCV i SENSE_PA:\u001B[39m\u001B[38;5;124m\"\u001B[39m, chi2_23)  \n\u001B[0;32m      6\u001B[0m \u001B[38;5;28mprint\u001B[39m(\u001B[38;5;124m\"\u001B[39m\u001B[38;5;124mP-valor entre AMB_PA_MECVV i SENSE_PA:\u001B[39m\u001B[38;5;124m\"\u001B[39m, p_value_23)  \n",
      "File \u001B[1;32m~\\PycharmProjects\\practicum\\.venv\\Lib\\site-packages\\scipy\\stats\\contingency.py:333\u001B[0m, in \u001B[0;36mchi2_contingency\u001B[1;34m(observed, correction, lambda_)\u001B[0m\n\u001B[0;32m    331\u001B[0m     \u001B[38;5;28;01mraise\u001B[39;00m \u001B[38;5;167;01mValueError\u001B[39;00m(\u001B[38;5;124m\"\u001B[39m\u001B[38;5;124mAll values in `observed` must be nonnegative.\u001B[39m\u001B[38;5;124m\"\u001B[39m)\n\u001B[0;32m    332\u001B[0m \u001B[38;5;28;01mif\u001B[39;00m observed\u001B[38;5;241m.\u001B[39msize \u001B[38;5;241m==\u001B[39m \u001B[38;5;241m0\u001B[39m:\n\u001B[1;32m--> 333\u001B[0m     \u001B[38;5;28;01mraise\u001B[39;00m \u001B[38;5;167;01mValueError\u001B[39;00m(\u001B[38;5;124m\"\u001B[39m\u001B[38;5;124mNo data; `observed` has size 0.\u001B[39m\u001B[38;5;124m\"\u001B[39m)\n\u001B[0;32m    335\u001B[0m expected \u001B[38;5;241m=\u001B[39m expected_freq(observed)\n\u001B[0;32m    336\u001B[0m \u001B[38;5;28;01mif\u001B[39;00m np\u001B[38;5;241m.\u001B[39many(expected \u001B[38;5;241m==\u001B[39m \u001B[38;5;241m0\u001B[39m):\n\u001B[0;32m    337\u001B[0m     \u001B[38;5;66;03m# Include one of the positions where expected is zero in\u001B[39;00m\n\u001B[0;32m    338\u001B[0m     \u001B[38;5;66;03m# the exception message.\u001B[39;00m\n",
      "\u001B[1;31mValueError\u001B[0m: No data; `observed` has size 0."
     ]
    }
   ],
   "execution_count": 250
  },
  {
   "metadata": {
    "ExecuteTime": {
     "end_time": "2024-05-08T09:06:55.727069Z",
     "start_time": "2024-05-08T09:06:55.706916Z"
    }
   },
   "cell_type": "code",
   "source": [
    "contingency_table_14 = pd.crosstab(index=AMB_PA['ARF'], columns=TOTAL['ARF'])  \n",
    " \n",
    "chi2_14, p_value_14, dof_14, expected_14 = chi2_contingency(contingency_table_14)  \n",
    " \n",
    "print(\"Estadístic xi-quadrat entre AMB_PA i TOTAL:\", chi2_14)  \n",
    "print(\"P-valor entre AMB_PA i TOTAL:\", p_value_14)  \n",
    " \n",
    "if p_value_14 < 0.05:  \n",
    "   print(\"Hi ha diferències significatives entre les distribucions de fallida renal aguda en AMB_PA i TOTAL.\")  \n",
    "else:  \n",
    "   print(\"No hi ha diferències significatives entre les distribucions de fallida renal aguda en AMB_PA i TOTAL.\") "
   ],
   "id": "c5d63fe9d047d63a",
   "outputs": [
    {
     "name": "stdout",
     "output_type": "stream",
     "text": [
      "Estadístic xi-quadrat entre AMB_PA i TOTAL: 11.89654215976331\n",
      "P-valor entre AMB_PA i TOTAL: 0.0005623824703676534\n",
      "Hi ha diferències significatives entre les distribucions de fallida renal aguda en AMB_PA i TOTAL.\n"
     ]
    }
   ],
   "execution_count": 251
  },
  {
   "metadata": {
    "ExecuteTime": {
     "end_time": "2024-05-08T09:06:56.230193Z",
     "start_time": "2024-05-08T09:06:56.209526Z"
    }
   },
   "cell_type": "code",
   "source": [
    "contingency_table_24 = pd.crosstab(index=AMB_PA_MECVV['ARF'], columns=TOTAL['ARF'])  \n",
    " \n",
    "chi2_24, p_value_24, dof_24, expected_24 = chi2_contingency(contingency_table_24)  \n",
    " \n",
    "print(\"Estadístic xi-quadrat entre AMB_PA_MECVV i TOTAL:\", chi2_24)  \n",
    "print(\"P-valor entre AMB_PA_MECVV i TOTAL:\", p_value_24)  \n",
    " \n",
    "if p_value_24 < 0.05:  \n",
    "   print(\"Hi ha diferències significatives entre les distribucions de fallida renal aguda en AMB_PA_MECVV i TOTAL.\")  \n",
    "else:  \n",
    "   print(\"No hi ha diferències significatives entre les distribucions de fallida renal aguda en AMB_PA_MECVV i TOTAL.\") "
   ],
   "id": "940040aacb4b023d",
   "outputs": [
    {
     "name": "stdout",
     "output_type": "stream",
     "text": [
      "Estadístic xi-quadrat entre AMB_PA_MECVV i TOTAL: 4.5\n",
      "P-valor entre AMB_PA_MECVV i TOTAL: 0.033894853524689295\n",
      "Hi ha diferències significatives entre les distribucions de fallida renal aguda en AMB_PA_MECVV i TOTAL.\n"
     ]
    }
   ],
   "execution_count": 252
  },
  {
   "metadata": {
    "ExecuteTime": {
     "end_time": "2024-05-08T09:06:56.714507Z",
     "start_time": "2024-05-08T09:06:56.694932Z"
    }
   },
   "cell_type": "code",
   "source": [
    "contingency_table_34 = pd.crosstab(index=SENSE_PA['ARF'], columns=TOTAL['ARF'])  \n",
    " \n",
    "chi2_34, p_value_34, dof_34, expected_34 = chi2_contingency(contingency_table_34)  \n",
    " \n",
    "print(\"Estadístic xi-quadrat entre SENSE_PA i TOTAL:\", chi2_34)  \n",
    "print(\"P-valor entre SENSE_PA i TOTAL:\", p_value_34)  \n",
    " \n",
    "if p_value_34 < 0.05:  \n",
    "   print(\"Hi ha diferències significatives entre les distribucions de fallida renal aguda en SENSE_PA i TOTAL.\")  \n",
    "else:  \n",
    "   print(\"No hi ha diferències significatives entre les distribucions de fallida renal aguda en SENSE_PA i TOTAL.\") "
   ],
   "id": "1cdcabe3e99dc525",
   "outputs": [
    {
     "name": "stdout",
     "output_type": "stream",
     "text": [
      "Estadístic xi-quadrat entre SENSE_PA i TOTAL: 4.5\n",
      "P-valor entre SENSE_PA i TOTAL: 0.033894853524689295\n",
      "Hi ha diferències significatives entre les distribucions de fallida renal aguda en SENSE_PA i TOTAL.\n"
     ]
    }
   ],
   "execution_count": 253
  },
  {
   "metadata": {},
   "cell_type": "markdown",
   "source": [
    "## Marejos/síncope/lipotímia/reacció vasovagal"
   ],
   "id": "b569dbe66e8fcbe9"
  },
  {
   "metadata": {
    "ExecuteTime": {
     "end_time": "2024-05-08T09:06:57.043469Z",
     "start_time": "2024-05-08T09:06:57.038539Z"
    }
   },
   "cell_type": "code",
   "source": [
    "dizsyn_AMB_PA= (AMB_PA['Marejos'] == 1.0).mean() * 100\n",
    "print(f\"Percentatge de marejos/síncope/lipotímia/reacció vasovagal: {dizsyn_AMB_PA:.2f}%\")"
   ],
   "id": "50900335d331ab2",
   "outputs": [
    {
     "name": "stdout",
     "output_type": "stream",
     "text": [
      "Percentatge de marejos/síncope/lipotímia/reacció vasovagal: 0.00%\n"
     ]
    }
   ],
   "execution_count": 254
  },
  {
   "metadata": {
    "ExecuteTime": {
     "end_time": "2024-05-08T09:06:57.541656Z",
     "start_time": "2024-05-08T09:06:57.534009Z"
    }
   },
   "cell_type": "code",
   "source": [
    "dizsyn_AMB_PA_MECVV= (AMB_PA_MECVV['Marejos'] == 1.0).mean() * 100\n",
    "print(f\"Percentatge de marejos/síncope/lipotímia/reacció vasovagal: {dizsyn_AMB_PA_MECVV:.2f}%\")"
   ],
   "id": "9dc25d01f5293c9c",
   "outputs": [
    {
     "name": "stdout",
     "output_type": "stream",
     "text": [
      "Percentatge de marejos/síncope/lipotímia/reacció vasovagal: 0.00%\n"
     ]
    }
   ],
   "execution_count": 255
  },
  {
   "metadata": {
    "ExecuteTime": {
     "end_time": "2024-05-08T09:06:57.899988Z",
     "start_time": "2024-05-08T09:06:57.885142Z"
    }
   },
   "cell_type": "code",
   "source": [
    "dizsyn_SENSE_PA= (SENSE_PA['Marejos'] == 1.0).mean() * 100\n",
    "print(f\"Percentatge de marejos/síncope/lipotímia/reacció vasovagal: {dizsyn_SENSE_PA:.2f}%\")"
   ],
   "id": "6b9c3e73228189d5",
   "outputs": [
    {
     "name": "stdout",
     "output_type": "stream",
     "text": [
      "Percentatge de marejos/síncope/lipotímia/reacció vasovagal: 0.00%\n"
     ]
    }
   ],
   "execution_count": 256
  },
  {
   "metadata": {
    "ExecuteTime": {
     "end_time": "2024-05-08T09:06:58.474929Z",
     "start_time": "2024-05-08T09:06:58.469275Z"
    }
   },
   "cell_type": "code",
   "source": [
    "dizsyn_TOTAL= (TOTAL['Marejos'] == 1.0).mean() * 100\n",
    "print(f\"Percentatge de marejos/síncope/lipotímia/reacció vasovagal: {dizsyn_TOTAL:.2f}%\")"
   ],
   "id": "95bb31977f1b9832",
   "outputs": [
    {
     "name": "stdout",
     "output_type": "stream",
     "text": [
      "Percentatge de marejos/síncope/lipotímia/reacció vasovagal: 2.00%\n"
     ]
    }
   ],
   "execution_count": 257
  },
  {
   "metadata": {},
   "cell_type": "markdown",
   "source": "#### Comparació distributiva",
   "id": "c2ea9a79012bd56"
  },
  {
   "metadata": {},
   "cell_type": "markdown",
   "source": "##### Normalitat i p-valor",
   "id": "fd33a284918ec484"
  },
  {
   "metadata": {
    "ExecuteTime": {
     "end_time": "2024-05-08T09:06:59.027122Z",
     "start_time": "2024-05-08T09:06:59.010542Z"
    }
   },
   "cell_type": "code",
   "source": [
    "contingency_table_12 = pd.crosstab(index=AMB_PA['Marejos'], columns=AMB_PA_MECVV['Marejos'])  \n",
    " \n",
    "chi2_12, p_value_12, dof_12, expected_12 = chi2_contingency(contingency_table_12)  \n",
    " \n",
    "print(\"Estadístic xi-quadrat entre AMB_PA i AMB_PA_MECVV:\", chi2_12)  \n",
    "print(\"P-valor entre AMB_PA i AMB_PA_MECVV:\", p_value_12)  \n",
    " \n",
    "if p_value_12 < 0.05:  \n",
    "   print(\"Hi ha diferències significatives entre les distribucions de marejos/síncope/lipotímia/reacció vasovagal en AMB_PA i AMB_PA_MECVV.\")  \n",
    "else:  \n",
    "   print(\"No hi ha diferències significatives entre les distribucions de marejos/síncope/lipotímia/reacció vasovagal en AMB_PA i AMB_PA_MECVV.\") "
   ],
   "id": "4426d7b16a9b9291",
   "outputs": [
    {
     "name": "stdout",
     "output_type": "stream",
     "text": [
      "Estadístic xi-quadrat entre AMB_PA i AMB_PA_MECVV: 0.0\n",
      "P-valor entre AMB_PA i AMB_PA_MECVV: 1.0\n",
      "No hi ha diferències significatives entre les distribucions de marejos/síncope/lipotímia/reacció vasovagal en AMB_PA i AMB_PA_MECVV.\n"
     ]
    }
   ],
   "execution_count": 258
  },
  {
   "metadata": {
    "ExecuteTime": {
     "end_time": "2024-05-08T09:06:59.589294Z",
     "start_time": "2024-05-08T09:06:59.574201Z"
    }
   },
   "cell_type": "code",
   "source": [
    "contingency_table_13 = pd.crosstab(index=AMB_PA['Marejos'], columns=SENSE_PA['Marejos'])  \n",
    " \n",
    "chi2_13, p_value_13, dof_13, expected_13 = chi2_contingency(contingency_table_13)  \n",
    " \n",
    "print(\"Estadístic xi-quadrat entre AMB_PA i SENSE_PA:\", chi2_13)  \n",
    "print(\"P-valor entre AMB_PA i SENSE_PA:\", p_value_13)  \n",
    " \n",
    "if p_value_13 < 0.05:  \n",
    "   print(\"Hi ha diferències significatives entre les distribucions de marejos/síncope/lipotímia/reacció vasovagal en AMB_PA i SENSE_PA.\")  \n",
    "else:  \n",
    "   print(\"No hi ha diferències significatives entre les distribucions de marejos/síncope/lipotímia/reacció vasovagal en AMB_PA i SENSE_PA.\") "
   ],
   "id": "84eb59ba6043afcb",
   "outputs": [
    {
     "name": "stdout",
     "output_type": "stream",
     "text": [
      "Estadístic xi-quadrat entre AMB_PA i SENSE_PA: 0.0\n",
      "P-valor entre AMB_PA i SENSE_PA: 1.0\n",
      "No hi ha diferències significatives entre les distribucions de marejos/síncope/lipotímia/reacció vasovagal en AMB_PA i SENSE_PA.\n"
     ]
    }
   ],
   "execution_count": 259
  },
  {
   "metadata": {
    "ExecuteTime": {
     "end_time": "2024-05-08T09:06:59.995452Z",
     "start_time": "2024-05-08T09:06:59.956683Z"
    }
   },
   "cell_type": "code",
   "source": [
    "contingency_table_23 = pd.crosstab(index=AMB_PA_MECVV['Marejos'], columns=SENSE_PA['Marejos'])\n",
    " \n",
    "chi2_23, p_value_23, dof_23, expected_23 = chi2_contingency(contingency_table_23)  \n",
    " \n",
    "print(\"Estadístic xi-quadrat entre AMB_PA_MECCV i SENSE_PA:\", chi2_23)  \n",
    "print(\"P-valor entre AMB_PA_MECVV i SENSE_PA:\", p_value_23)  \n",
    " \n",
    "if p_value_23 < 0.05:  \n",
    "   print(\"Hi ha diferències significatives entre les distribucions de marejos/síncope/lipotímia/reacció vasovagal en AMB_PA_MECVV i SENSE_PA.\")  \n",
    "else:  \n",
    "   print(\"No hi ha diferències significatives entre les distribucions de marejos/síncope/lipotímia/reacció vasovagal en AMB_PA_MECVV i SENSE_PA.\") "
   ],
   "id": "8f94410e3226384d",
   "outputs": [
    {
     "ename": "ValueError",
     "evalue": "No data; `observed` has size 0.",
     "output_type": "error",
     "traceback": [
      "\u001B[1;31m---------------------------------------------------------------------------\u001B[0m",
      "\u001B[1;31mValueError\u001B[0m                                Traceback (most recent call last)",
      "Cell \u001B[1;32mIn[260], line 3\u001B[0m\n\u001B[0;32m      1\u001B[0m contingency_table_23 \u001B[38;5;241m=\u001B[39m pd\u001B[38;5;241m.\u001B[39mcrosstab(index\u001B[38;5;241m=\u001B[39mAMB_PA_MECVV[\u001B[38;5;124m'\u001B[39m\u001B[38;5;124mMarejos\u001B[39m\u001B[38;5;124m'\u001B[39m], columns\u001B[38;5;241m=\u001B[39mSENSE_PA[\u001B[38;5;124m'\u001B[39m\u001B[38;5;124mMarejos\u001B[39m\u001B[38;5;124m'\u001B[39m])\n\u001B[1;32m----> 3\u001B[0m chi2_23, p_value_23, dof_23, expected_23 \u001B[38;5;241m=\u001B[39m \u001B[43mchi2_contingency\u001B[49m\u001B[43m(\u001B[49m\u001B[43mcontingency_table_23\u001B[49m\u001B[43m)\u001B[49m  \n\u001B[0;32m      5\u001B[0m \u001B[38;5;28mprint\u001B[39m(\u001B[38;5;124m\"\u001B[39m\u001B[38;5;124mEstadístic xi-quadrat entre AMB_PA_MECCV i SENSE_PA:\u001B[39m\u001B[38;5;124m\"\u001B[39m, chi2_23)  \n\u001B[0;32m      6\u001B[0m \u001B[38;5;28mprint\u001B[39m(\u001B[38;5;124m\"\u001B[39m\u001B[38;5;124mP-valor entre AMB_PA_MECVV i SENSE_PA:\u001B[39m\u001B[38;5;124m\"\u001B[39m, p_value_23)  \n",
      "File \u001B[1;32m~\\PycharmProjects\\practicum\\.venv\\Lib\\site-packages\\scipy\\stats\\contingency.py:333\u001B[0m, in \u001B[0;36mchi2_contingency\u001B[1;34m(observed, correction, lambda_)\u001B[0m\n\u001B[0;32m    331\u001B[0m     \u001B[38;5;28;01mraise\u001B[39;00m \u001B[38;5;167;01mValueError\u001B[39;00m(\u001B[38;5;124m\"\u001B[39m\u001B[38;5;124mAll values in `observed` must be nonnegative.\u001B[39m\u001B[38;5;124m\"\u001B[39m)\n\u001B[0;32m    332\u001B[0m \u001B[38;5;28;01mif\u001B[39;00m observed\u001B[38;5;241m.\u001B[39msize \u001B[38;5;241m==\u001B[39m \u001B[38;5;241m0\u001B[39m:\n\u001B[1;32m--> 333\u001B[0m     \u001B[38;5;28;01mraise\u001B[39;00m \u001B[38;5;167;01mValueError\u001B[39;00m(\u001B[38;5;124m\"\u001B[39m\u001B[38;5;124mNo data; `observed` has size 0.\u001B[39m\u001B[38;5;124m\"\u001B[39m)\n\u001B[0;32m    335\u001B[0m expected \u001B[38;5;241m=\u001B[39m expected_freq(observed)\n\u001B[0;32m    336\u001B[0m \u001B[38;5;28;01mif\u001B[39;00m np\u001B[38;5;241m.\u001B[39many(expected \u001B[38;5;241m==\u001B[39m \u001B[38;5;241m0\u001B[39m):\n\u001B[0;32m    337\u001B[0m     \u001B[38;5;66;03m# Include one of the positions where expected is zero in\u001B[39;00m\n\u001B[0;32m    338\u001B[0m     \u001B[38;5;66;03m# the exception message.\u001B[39;00m\n",
      "\u001B[1;31mValueError\u001B[0m: No data; `observed` has size 0."
     ]
    }
   ],
   "execution_count": 260
  },
  {
   "metadata": {
    "ExecuteTime": {
     "end_time": "2024-05-08T09:07:00.466640Z",
     "start_time": "2024-05-08T09:07:00.448335Z"
    }
   },
   "cell_type": "code",
   "source": [
    "contingency_table_14 = pd.crosstab(index=AMB_PA['Marejos'], columns=TOTAL['Marejos'])  \n",
    " \n",
    "chi2_14, p_value_14, dof_14, expected_14 = chi2_contingency(contingency_table_14)  \n",
    " \n",
    "print(\"Estadístic xi-quadrat entre AMB_PA i TOTAL:\", chi2_14)  \n",
    "print(\"P-valor entre AMB_PA i TOTAL:\", p_value_14)  \n",
    " \n",
    "if p_value_14 < 0.05:  \n",
    "   print(\"Hi ha diferències significatives entre les distribucions de marejos/síncope/lipotímia/reacció en AMB_PA i TOTAL.\")  \n",
    "else:  \n",
    "   print(\"No hi ha diferències significatives entre les distribucions de marejos/síncope/lipotímia/reacció en AMB_PA i TOTAL.\") "
   ],
   "id": "21fb731ddaed6609",
   "outputs": [
    {
     "name": "stdout",
     "output_type": "stream",
     "text": [
      "Estadístic xi-quadrat entre AMB_PA i TOTAL: 0.0\n",
      "P-valor entre AMB_PA i TOTAL: 1.0\n",
      "No hi ha diferències significatives entre les distribucions de marejos/síncope/lipotímia/reacció en AMB_PA i TOTAL.\n"
     ]
    }
   ],
   "execution_count": 261
  },
  {
   "metadata": {
    "ExecuteTime": {
     "end_time": "2024-05-08T09:07:00.874067Z",
     "start_time": "2024-05-08T09:07:00.855892Z"
    }
   },
   "cell_type": "code",
   "source": [
    "contingency_table_24 = pd.crosstab(index=AMB_PA_MECVV['Marejos'], columns=TOTAL['Marejos'])  \n",
    " \n",
    "chi2_24, p_value_24, dof_24, expected_24 = chi2_contingency(contingency_table_24)  \n",
    " \n",
    "print(\"Estadístic xi-quadrat entre AMB_PA_MECVV i TOTAL:\", chi2_24)  \n",
    "print(\"P-valor entre AMB_PA_MECVV i TOTAL:\", p_value_24)  \n",
    " \n",
    "if p_value_24 < 0.05:  \n",
    "   print(\"Hi ha diferències significatives entre les distribucions de marejos/síncope/lipotímia/reacció en AMB_PA_MECVV i TOTAL.\")  \n",
    "else:  \n",
    "   print(\"No hi ha diferències significatives entre les distribucions de marejos/síncope/lipotímia/reacció en AMB_PA_MECVV i TOTAL.\") "
   ],
   "id": "80f36550bcb94533",
   "outputs": [
    {
     "name": "stdout",
     "output_type": "stream",
     "text": [
      "Estadístic xi-quadrat entre AMB_PA_MECVV i TOTAL: 0.0\n",
      "P-valor entre AMB_PA_MECVV i TOTAL: 1.0\n",
      "No hi ha diferències significatives entre les distribucions de marejos/síncope/lipotímia/reacció en AMB_PA_MECVV i TOTAL.\n"
     ]
    }
   ],
   "execution_count": 262
  },
  {
   "metadata": {
    "ExecuteTime": {
     "end_time": "2024-05-08T09:07:01.461095Z",
     "start_time": "2024-05-08T09:07:01.445309Z"
    }
   },
   "cell_type": "code",
   "source": [
    "contingency_table_34 = pd.crosstab(index=SENSE_PA['Marejos'], columns=TOTAL['Marejos'])  \n",
    " \n",
    "chi2_34, p_value_34, dof_34, expected_34 = chi2_contingency(contingency_table_34)  \n",
    " \n",
    "print(\"Estadístic xi-quadrat entre SENSE_PA i TOTAL:\", chi2_34)  \n",
    "print(\"P-valor entre SENSE_PA i TOTAL:\", p_value_34)  \n",
    " \n",
    "if p_value_34 < 0.05:  \n",
    "   print(\"Hi ha diferències significatives entre les distribucions de marejos/síncope/lipotímia/reacció en SENSE_PA i TOTAL.\")  \n",
    "else:  \n",
    "   print(\"No hi ha diferències significatives entre les distribucions de marejos/síncope/lipotímia/reacció en SENSE_PA i TOTAL.\") "
   ],
   "id": "3b9c5bc589eeffde",
   "outputs": [
    {
     "name": "stdout",
     "output_type": "stream",
     "text": [
      "Estadístic xi-quadrat entre SENSE_PA i TOTAL: 0.0\n",
      "P-valor entre SENSE_PA i TOTAL: 1.0\n",
      "No hi ha diferències significatives entre les distribucions de marejos/síncope/lipotímia/reacció en SENSE_PA i TOTAL.\n"
     ]
    }
   ],
   "execution_count": 263
  },
  {
   "metadata": {},
   "cell_type": "markdown",
   "source": [
    "## VIH"
   ],
   "id": "3e66ec61ceed6da8"
  },
  {
   "metadata": {
    "ExecuteTime": {
     "end_time": "2024-05-08T09:07:01.769985Z",
     "start_time": "2024-05-08T09:07:01.762055Z"
    }
   },
   "cell_type": "code",
   "source": [
    "vih_AMB_PA= (AMB_PA['VIH'] == 1.0).mean() * 100\n",
    "print(f\"Percentatge de VIH: {vih_AMB_PA:.2f}%\")"
   ],
   "id": "6a922f8a8c8ce111",
   "outputs": [
    {
     "name": "stdout",
     "output_type": "stream",
     "text": [
      "Percentatge de VIH: 0.00%\n"
     ]
    }
   ],
   "execution_count": 264
  },
  {
   "metadata": {
    "ExecuteTime": {
     "end_time": "2024-05-08T09:07:02.281116Z",
     "start_time": "2024-05-08T09:07:02.272107Z"
    }
   },
   "cell_type": "code",
   "source": [
    "vih_AMB_PA_MECVV= (AMB_PA_MECVV['VIH'] == 1.0).mean() * 100\n",
    "print(f\"Percentatge de VIH: {vih_AMB_PA_MECVV:.2f}%\")"
   ],
   "id": "aed182bc8140a8b3",
   "outputs": [
    {
     "name": "stdout",
     "output_type": "stream",
     "text": [
      "Percentatge de VIH: 0.00%\n"
     ]
    }
   ],
   "execution_count": 265
  },
  {
   "metadata": {
    "ExecuteTime": {
     "end_time": "2024-05-08T09:07:02.626584Z",
     "start_time": "2024-05-08T09:07:02.616665Z"
    }
   },
   "cell_type": "code",
   "source": [
    "vih_SENSE_PA= (SENSE_PA['VIH'] == 1.0).mean() * 100\n",
    "print(f\"Percentatge de VIH: {vih_SENSE_PA:.2f}%\")"
   ],
   "id": "aa406ac4d4a53dc9",
   "outputs": [
    {
     "name": "stdout",
     "output_type": "stream",
     "text": [
      "Percentatge de VIH: 0.00%\n"
     ]
    }
   ],
   "execution_count": 266
  },
  {
   "metadata": {
    "ExecuteTime": {
     "end_time": "2024-05-08T09:07:03.044203Z",
     "start_time": "2024-05-08T09:07:03.036588Z"
    }
   },
   "cell_type": "code",
   "source": [
    "vih_TOTAL= (TOTAL['VIH'] == 1.0).mean() * 100\n",
    "print(f\"Percentatge de VIH: {vih_TOTAL:.2f}%\")"
   ],
   "id": "b5bfe29bfa169155",
   "outputs": [
    {
     "name": "stdout",
     "output_type": "stream",
     "text": [
      "Percentatge de VIH: 0.00%\n"
     ]
    }
   ],
   "execution_count": 267
  },
  {
   "metadata": {},
   "cell_type": "markdown",
   "source": "#### Comparació distributiva",
   "id": "803ff9173540722b"
  },
  {
   "metadata": {},
   "cell_type": "markdown",
   "source": "##### Normalitat i p-valor",
   "id": "b4620b0bb5bfa7f1"
  },
  {
   "metadata": {
    "ExecuteTime": {
     "end_time": "2024-05-08T09:07:03.396531Z",
     "start_time": "2024-05-08T09:07:03.382455Z"
    }
   },
   "cell_type": "code",
   "source": [
    "contingency_table_12 = pd.crosstab(index=AMB_PA['VIH'], columns=AMB_PA_MECVV['VIH'])  \n",
    " \n",
    "chi2_12, p_value_12, dof_12, expected_12 = chi2_contingency(contingency_table_12)  \n",
    " \n",
    "print(\"Estadístic xi-quadrat entre AMB_PA i AMB_PA_MECVV:\", chi2_12)  \n",
    "print(\"P-valor entre AMB_PA i AMB_PA_MECVV:\", p_value_12)  \n",
    " \n",
    "if p_value_12 < 0.05:  \n",
    "   print(\"Hi ha diferències significatives entre les distribucions de VIH en AMB_PA i AMB_PA_MECVV.\")  \n",
    "else:  \n",
    "   print(\"No hi ha diferències significatives entre les distribucions de VIH en AMB_PA i AMB_PA_MECVV.\") "
   ],
   "id": "ee8189c633ccd0bb",
   "outputs": [
    {
     "name": "stdout",
     "output_type": "stream",
     "text": [
      "Estadístic xi-quadrat entre AMB_PA i AMB_PA_MECVV: 0.0\n",
      "P-valor entre AMB_PA i AMB_PA_MECVV: 1.0\n",
      "No hi ha diferències significatives entre les distribucions de VIH en AMB_PA i AMB_PA_MECVV.\n"
     ]
    }
   ],
   "execution_count": 268
  },
  {
   "metadata": {
    "ExecuteTime": {
     "end_time": "2024-05-08T09:07:03.887541Z",
     "start_time": "2024-05-08T09:07:03.873873Z"
    }
   },
   "cell_type": "code",
   "source": [
    "contingency_table_13 = pd.crosstab(index=AMB_PA['VIH'], columns=SENSE_PA['VIH'])  \n",
    " \n",
    "chi2_13, p_value_13, dof_13, expected_13 = chi2_contingency(contingency_table_13)  \n",
    " \n",
    "print(\"Estadístic xi-quadrat entre AMB_PA i SENSE_PA:\", chi2_13)  \n",
    "print(\"P-valor entre AMB_PA i SENSE_PA:\", p_value_13)  \n",
    " \n",
    "if p_value_13 < 0.05:  \n",
    "   print(\"Hi ha diferències significatives entre les distribucions de VIH en AMB_PA i SENSE_PA.\")  \n",
    "else:  \n",
    "   print(\"No hi ha diferències significatives entre les distribucions de VIH en AMB_PA i SENSE_PA.\")"
   ],
   "id": "ba89921208864d5f",
   "outputs": [
    {
     "name": "stdout",
     "output_type": "stream",
     "text": [
      "Estadístic xi-quadrat entre AMB_PA i SENSE_PA: 0.0\n",
      "P-valor entre AMB_PA i SENSE_PA: 1.0\n",
      "No hi ha diferències significatives entre les distribucions de VIH en AMB_PA i SENSE_PA.\n"
     ]
    }
   ],
   "execution_count": 269
  },
  {
   "metadata": {
    "ExecuteTime": {
     "end_time": "2024-05-08T09:07:04.264775Z",
     "start_time": "2024-05-08T09:07:04.222865Z"
    }
   },
   "cell_type": "code",
   "source": [
    "contingency_table_23 = pd.crosstab(index=AMB_PA_MECVV['VIH'], columns=SENSE_PA['VIH'])  \n",
    " \n",
    "chi2_23, p_value_23, dof_23, expected_23 = chi2_contingency(contingency_table_23)  \n",
    " \n",
    "print(\"Estadístic xi-quadrat entre AMB_PA_MECCV i SENSE_PA:\", chi2_23)  \n",
    "print(\"P-valor entre AMB_PA_MECVV i SENSE_PA:\", p_value_23)  \n",
    " \n",
    "if p_value_23 < 0.05:  \n",
    "   print(\"Hi ha diferències significatives entre les distribucions de VIH en AMB_PA_MECVV i SENSE_PA.\")  \n",
    "else:  \n",
    "   print(\"No hi ha diferències significatives entre les distribucions de VIH en AMB_PA_MECVV i SENSE_PA.\") "
   ],
   "id": "6bcc985f8b1b99e7",
   "outputs": [
    {
     "ename": "ValueError",
     "evalue": "No data; `observed` has size 0.",
     "output_type": "error",
     "traceback": [
      "\u001B[1;31m---------------------------------------------------------------------------\u001B[0m",
      "\u001B[1;31mValueError\u001B[0m                                Traceback (most recent call last)",
      "Cell \u001B[1;32mIn[270], line 3\u001B[0m\n\u001B[0;32m      1\u001B[0m contingency_table_23 \u001B[38;5;241m=\u001B[39m pd\u001B[38;5;241m.\u001B[39mcrosstab(index\u001B[38;5;241m=\u001B[39mAMB_PA_MECVV[\u001B[38;5;124m'\u001B[39m\u001B[38;5;124mVIH\u001B[39m\u001B[38;5;124m'\u001B[39m], columns\u001B[38;5;241m=\u001B[39mSENSE_PA[\u001B[38;5;124m'\u001B[39m\u001B[38;5;124mVIH\u001B[39m\u001B[38;5;124m'\u001B[39m])  \n\u001B[1;32m----> 3\u001B[0m chi2_23, p_value_23, dof_23, expected_23 \u001B[38;5;241m=\u001B[39m \u001B[43mchi2_contingency\u001B[49m\u001B[43m(\u001B[49m\u001B[43mcontingency_table_23\u001B[49m\u001B[43m)\u001B[49m  \n\u001B[0;32m      5\u001B[0m \u001B[38;5;28mprint\u001B[39m(\u001B[38;5;124m\"\u001B[39m\u001B[38;5;124mEstadístic xi-quadrat entre AMB_PA_MECCV i SENSE_PA:\u001B[39m\u001B[38;5;124m\"\u001B[39m, chi2_23)  \n\u001B[0;32m      6\u001B[0m \u001B[38;5;28mprint\u001B[39m(\u001B[38;5;124m\"\u001B[39m\u001B[38;5;124mP-valor entre AMB_PA_MECVV i SENSE_PA:\u001B[39m\u001B[38;5;124m\"\u001B[39m, p_value_23)  \n",
      "File \u001B[1;32m~\\PycharmProjects\\practicum\\.venv\\Lib\\site-packages\\scipy\\stats\\contingency.py:333\u001B[0m, in \u001B[0;36mchi2_contingency\u001B[1;34m(observed, correction, lambda_)\u001B[0m\n\u001B[0;32m    331\u001B[0m     \u001B[38;5;28;01mraise\u001B[39;00m \u001B[38;5;167;01mValueError\u001B[39;00m(\u001B[38;5;124m\"\u001B[39m\u001B[38;5;124mAll values in `observed` must be nonnegative.\u001B[39m\u001B[38;5;124m\"\u001B[39m)\n\u001B[0;32m    332\u001B[0m \u001B[38;5;28;01mif\u001B[39;00m observed\u001B[38;5;241m.\u001B[39msize \u001B[38;5;241m==\u001B[39m \u001B[38;5;241m0\u001B[39m:\n\u001B[1;32m--> 333\u001B[0m     \u001B[38;5;28;01mraise\u001B[39;00m \u001B[38;5;167;01mValueError\u001B[39;00m(\u001B[38;5;124m\"\u001B[39m\u001B[38;5;124mNo data; `observed` has size 0.\u001B[39m\u001B[38;5;124m\"\u001B[39m)\n\u001B[0;32m    335\u001B[0m expected \u001B[38;5;241m=\u001B[39m expected_freq(observed)\n\u001B[0;32m    336\u001B[0m \u001B[38;5;28;01mif\u001B[39;00m np\u001B[38;5;241m.\u001B[39many(expected \u001B[38;5;241m==\u001B[39m \u001B[38;5;241m0\u001B[39m):\n\u001B[0;32m    337\u001B[0m     \u001B[38;5;66;03m# Include one of the positions where expected is zero in\u001B[39;00m\n\u001B[0;32m    338\u001B[0m     \u001B[38;5;66;03m# the exception message.\u001B[39;00m\n",
      "\u001B[1;31mValueError\u001B[0m: No data; `observed` has size 0."
     ]
    }
   ],
   "execution_count": 270
  },
  {
   "metadata": {
    "ExecuteTime": {
     "end_time": "2024-05-08T09:07:04.797677Z",
     "start_time": "2024-05-08T09:07:04.784010Z"
    }
   },
   "cell_type": "code",
   "source": [
    "contingency_table_14 = pd.crosstab(index=AMB_PA['VIH'], columns=TOTAL['VIH'])  \n",
    " \n",
    "chi2_14, p_value_14, dof_14, expected_14 = chi2_contingency(contingency_table_14)  \n",
    " \n",
    "print(\"Estadístic xi-quadrat entre AMB_PA i TOTAL:\", chi2_14)  \n",
    "print(\"P-valor entre AMB_PA i TOTAL:\", p_value_14)  \n",
    " \n",
    "if p_value_14 < 0.05:  \n",
    "   print(\"Hi ha diferències significatives entre les distribucions de VIH en AMB_PA i TOTAL.\")  \n",
    "else:  \n",
    "   print(\"No hi ha diferències significatives entre les distribucions de VIH en AMB_PA i TOTAL.\") "
   ],
   "id": "bcaaf8be05d657f9",
   "outputs": [
    {
     "name": "stdout",
     "output_type": "stream",
     "text": [
      "Estadístic xi-quadrat entre AMB_PA i TOTAL: 0.0\n",
      "P-valor entre AMB_PA i TOTAL: 1.0\n",
      "No hi ha diferències significatives entre les distribucions de VIH en AMB_PA i TOTAL.\n"
     ]
    }
   ],
   "execution_count": 271
  },
  {
   "metadata": {
    "ExecuteTime": {
     "end_time": "2024-05-08T09:07:05.320950Z",
     "start_time": "2024-05-08T09:07:05.296682Z"
    }
   },
   "cell_type": "code",
   "source": [
    "contingency_table_24 = pd.crosstab(index=AMB_PA_MECVV['VIH'], columns=TOTAL['VIH'])  \n",
    " \n",
    "chi2_24, p_value_24, dof_24, expected_24 = chi2_contingency(contingency_table_24)  \n",
    " \n",
    "print(\"Estadístic xi-quadrat entre AMB_PA_MECVV i TOTAL:\", chi2_24)  \n",
    "print(\"P-valor entre AMB_PA_MECVV i TOTAL:\", p_value_24)  \n",
    " \n",
    "if p_value_24 < 0.05:  \n",
    "   print(\"Hi ha diferències significatives entre les distribucions de VIH en AMB_PA_MECVV i TOTAL.\")  \n",
    "else:  \n",
    "   print(\"No hi ha diferències significatives entre les distribucions de VIH en AMB_PA_MECVV i TOTAL.\") "
   ],
   "id": "4a6e3c66573585cd",
   "outputs": [
    {
     "name": "stdout",
     "output_type": "stream",
     "text": [
      "Estadístic xi-quadrat entre AMB_PA_MECVV i TOTAL: 0.0\n",
      "P-valor entre AMB_PA_MECVV i TOTAL: 1.0\n",
      "No hi ha diferències significatives entre les distribucions de VIH en AMB_PA_MECVV i TOTAL.\n"
     ]
    }
   ],
   "execution_count": 272
  },
  {
   "metadata": {
    "ExecuteTime": {
     "end_time": "2024-05-08T09:07:05.836805Z",
     "start_time": "2024-05-08T09:07:05.818735Z"
    }
   },
   "cell_type": "code",
   "source": [
    "contingency_table_34 = pd.crosstab(index=SENSE_PA['VIH'], columns=TOTAL['VIH'])  \n",
    " \n",
    "chi2_34, p_value_34, dof_34, expected_34 = chi2_contingency(contingency_table_34)  \n",
    " \n",
    "print(\"Estadístic xi-quadrat entre SENSE_PA i TOTAL:\", chi2_34)  \n",
    "print(\"P-valor entre SENSE_PA i TOTAL:\", p_value_34)  \n",
    " \n",
    "if p_value_34 < 0.05:  \n",
    "   print(\"Hi ha diferències significatives entre les distribucions de VIH en SENSE_PA i TOTAL.\")  \n",
    "else:  \n",
    "   print(\"No hi ha diferències significatives entre les distribucions de VIH en SENSE_PA i TOTAL.\") "
   ],
   "id": "44466ae091025bfa",
   "outputs": [
    {
     "name": "stdout",
     "output_type": "stream",
     "text": [
      "Estadístic xi-quadrat entre SENSE_PA i TOTAL: 0.0\n",
      "P-valor entre SENSE_PA i TOTAL: 1.0\n",
      "No hi ha diferències significatives entre les distribucions de VIH en SENSE_PA i TOTAL.\n"
     ]
    }
   ],
   "execution_count": 273
  },
  {
   "metadata": {},
   "cell_type": "markdown",
   "source": [
    "## Psicosi"
   ],
   "id": "8e295a7fd16fa508"
  },
  {
   "metadata": {
    "ExecuteTime": {
     "end_time": "2024-05-08T09:07:06.161937Z",
     "start_time": "2024-05-08T09:07:06.153005Z"
    }
   },
   "cell_type": "code",
   "source": [
    "psi_AMB_PA= (AMB_PA['Psicosi'] == 1.0).mean() * 100\n",
    "print(f\"Percentatge de psicosi: {vih_AMB_PA:.2f}%\")"
   ],
   "id": "c159ff1483bdafb0",
   "outputs": [
    {
     "name": "stdout",
     "output_type": "stream",
     "text": [
      "Percentatge de psicosi: 0.00%\n"
     ]
    }
   ],
   "execution_count": 274
  },
  {
   "metadata": {
    "ExecuteTime": {
     "end_time": "2024-05-08T09:07:06.645292Z",
     "start_time": "2024-05-08T09:07:06.637064Z"
    }
   },
   "cell_type": "code",
   "source": [
    "psi_AMB_PA_MECVV= (AMB_PA_MECVV['Psicosi'] == 1.0).mean() * 100\n",
    "print(f\"Percentatge de psicosi: {psi_AMB_PA_MECVV:.2f}%\")"
   ],
   "id": "88916ff77b5a3557",
   "outputs": [
    {
     "name": "stdout",
     "output_type": "stream",
     "text": [
      "Percentatge de psicosi: 0.00%\n"
     ]
    }
   ],
   "execution_count": 275
  },
  {
   "metadata": {
    "ExecuteTime": {
     "end_time": "2024-05-08T09:07:06.932547Z",
     "start_time": "2024-05-08T09:07:06.924173Z"
    }
   },
   "cell_type": "code",
   "source": [
    "psi_SENSE_PA= (SENSE_PA['Psicosi'] == 1.0).mean() * 100\n",
    "print(f\"Percentatge de psicosi: {psi_SENSE_PA:.2f}%\")"
   ],
   "id": "7ce0057ef942886",
   "outputs": [
    {
     "name": "stdout",
     "output_type": "stream",
     "text": [
      "Percentatge de psicosi: 0.00%\n"
     ]
    }
   ],
   "execution_count": 276
  },
  {
   "metadata": {
    "ExecuteTime": {
     "end_time": "2024-05-08T09:07:07.433112Z",
     "start_time": "2024-05-08T09:07:07.426183Z"
    }
   },
   "cell_type": "code",
   "source": [
    "psi_TOTAL= (TOTAL['Psicosi'] == 1.0).mean() * 100\n",
    "print(f\"Percentatge de psicosi: {psi_TOTAL:.2f}%\")"
   ],
   "id": "deb7ee11b57593e0",
   "outputs": [
    {
     "name": "stdout",
     "output_type": "stream",
     "text": [
      "Percentatge de psicosi: 0.00%\n"
     ]
    }
   ],
   "execution_count": 277
  },
  {
   "metadata": {},
   "cell_type": "markdown",
   "source": "#### Comparació distributiva ",
   "id": "f7e56f1eaa4a1121"
  },
  {
   "metadata": {},
   "cell_type": "markdown",
   "source": "##### Normalitat i p-valor",
   "id": "d5743908cae5ebcb"
  },
  {
   "metadata": {
    "ExecuteTime": {
     "end_time": "2024-05-08T09:07:07.807941Z",
     "start_time": "2024-05-08T09:07:07.789637Z"
    }
   },
   "cell_type": "code",
   "source": [
    "contingency_table_12 = pd.crosstab(index=AMB_PA['Psicosi'], columns=AMB_PA_MECVV['Psicosi'])  \n",
    " \n",
    "chi2_12, p_value_12, dof_12, expected_12 = chi2_contingency(contingency_table_12)  \n",
    " \n",
    "print(\"Estadístic xi-quadrat entre AMB_PA i AMB_PA_MECVV:\", chi2_12)  \n",
    "print(\"P-valor entre AMB_PA i AMB_PA_MECVV:\", p_value_12)  \n",
    " \n",
    "if p_value_12 < 0.05:  \n",
    "   print(\"Hi ha diferències significatives entre les distribucions de psicosi en AMB_PA i AMB_PA_MECVV.\")  \n",
    "else:  \n",
    "   print(\"No hi ha diferències significatives entre les distribucions de psicosi en AMB_PA i AMB_PA_MECVV.\") "
   ],
   "id": "442c95770e6ba861",
   "outputs": [
    {
     "name": "stdout",
     "output_type": "stream",
     "text": [
      "Estadístic xi-quadrat entre AMB_PA i AMB_PA_MECVV: 0.0\n",
      "P-valor entre AMB_PA i AMB_PA_MECVV: 1.0\n",
      "No hi ha diferències significatives entre les distribucions de psicosi en AMB_PA i AMB_PA_MECVV.\n"
     ]
    }
   ],
   "execution_count": 278
  },
  {
   "metadata": {
    "ExecuteTime": {
     "end_time": "2024-05-08T09:07:08.260607Z",
     "start_time": "2024-05-08T09:07:08.242476Z"
    }
   },
   "cell_type": "code",
   "source": [
    "contingency_table_13 = pd.crosstab(index=AMB_PA['Psicosi'], columns=SENSE_PA['Psicosi'])  \n",
    " \n",
    "chi2_13, p_value_13, dof_13, expected_13 = chi2_contingency(contingency_table_13)  \n",
    " \n",
    "print(\"Estadístic xi-quadrat entre AMB_PA i SENSE_PA:\", chi2_13)  \n",
    "print(\"P-valor entre AMB_PA i SENSE_PA:\", p_value_13)  \n",
    " \n",
    "if p_value_13 < 0.05:  \n",
    "   print(\"Hi ha diferències significatives entre les distribucions de psicosi en AMB_PA i SENSE_PA.\")  \n",
    "else:  \n",
    "   print(\"No hi ha diferències significatives entre les distribucions de psicosi en AMB_PA i SENSE_PA.\") "
   ],
   "id": "f0792113c35b5010",
   "outputs": [
    {
     "name": "stdout",
     "output_type": "stream",
     "text": [
      "Estadístic xi-quadrat entre AMB_PA i SENSE_PA: 0.0\n",
      "P-valor entre AMB_PA i SENSE_PA: 1.0\n",
      "No hi ha diferències significatives entre les distribucions de psicosi en AMB_PA i SENSE_PA.\n"
     ]
    }
   ],
   "execution_count": 279
  },
  {
   "metadata": {
    "ExecuteTime": {
     "end_time": "2024-05-08T09:07:08.632517Z",
     "start_time": "2024-05-08T09:07:08.587212Z"
    }
   },
   "cell_type": "code",
   "source": [
    "contingency_table_23 = pd.crosstab(index=AMB_PA_MECVV['Psicosi'], columns=SENSE_PA['Psicosi'])  \n",
    " \n",
    "chi2_23, p_value_23, dof_23, expected_23 = chi2_contingency(contingency_table_23)  \n",
    " \n",
    "print(\"Estadístic xi-quadrat entre AMB_PA_MECCV i SENSE_PA:\", chi2_23)  \n",
    "print(\"P-valor entre AMB_PA_MECVV i SENSE_PA:\", p_value_23)  \n",
    " \n",
    "if p_value_23 < 0.05:  \n",
    "   print(\"Hi ha diferències significatives entre les distribucions de psicosi en AMB_PA_MECVV i SENSE_PA.\")  \n",
    "else:  \n",
    "   print(\"No hi ha diferències significatives entre les distribucions de psicosi en AMB_PA_MECVV i SENSE_PA.\") "
   ],
   "id": "9b79bbe3afa56094",
   "outputs": [
    {
     "ename": "ValueError",
     "evalue": "No data; `observed` has size 0.",
     "output_type": "error",
     "traceback": [
      "\u001B[1;31m---------------------------------------------------------------------------\u001B[0m",
      "\u001B[1;31mValueError\u001B[0m                                Traceback (most recent call last)",
      "Cell \u001B[1;32mIn[280], line 3\u001B[0m\n\u001B[0;32m      1\u001B[0m contingency_table_23 \u001B[38;5;241m=\u001B[39m pd\u001B[38;5;241m.\u001B[39mcrosstab(index\u001B[38;5;241m=\u001B[39mAMB_PA_MECVV[\u001B[38;5;124m'\u001B[39m\u001B[38;5;124mPsicosi\u001B[39m\u001B[38;5;124m'\u001B[39m], columns\u001B[38;5;241m=\u001B[39mSENSE_PA[\u001B[38;5;124m'\u001B[39m\u001B[38;5;124mPsicosi\u001B[39m\u001B[38;5;124m'\u001B[39m])  \n\u001B[1;32m----> 3\u001B[0m chi2_23, p_value_23, dof_23, expected_23 \u001B[38;5;241m=\u001B[39m \u001B[43mchi2_contingency\u001B[49m\u001B[43m(\u001B[49m\u001B[43mcontingency_table_23\u001B[49m\u001B[43m)\u001B[49m  \n\u001B[0;32m      5\u001B[0m \u001B[38;5;28mprint\u001B[39m(\u001B[38;5;124m\"\u001B[39m\u001B[38;5;124mEstadístic xi-quadrat entre AMB_PA_MECCV i SENSE_PA:\u001B[39m\u001B[38;5;124m\"\u001B[39m, chi2_23)  \n\u001B[0;32m      6\u001B[0m \u001B[38;5;28mprint\u001B[39m(\u001B[38;5;124m\"\u001B[39m\u001B[38;5;124mP-valor entre AMB_PA_MECVV i SENSE_PA:\u001B[39m\u001B[38;5;124m\"\u001B[39m, p_value_23)  \n",
      "File \u001B[1;32m~\\PycharmProjects\\practicum\\.venv\\Lib\\site-packages\\scipy\\stats\\contingency.py:333\u001B[0m, in \u001B[0;36mchi2_contingency\u001B[1;34m(observed, correction, lambda_)\u001B[0m\n\u001B[0;32m    331\u001B[0m     \u001B[38;5;28;01mraise\u001B[39;00m \u001B[38;5;167;01mValueError\u001B[39;00m(\u001B[38;5;124m\"\u001B[39m\u001B[38;5;124mAll values in `observed` must be nonnegative.\u001B[39m\u001B[38;5;124m\"\u001B[39m)\n\u001B[0;32m    332\u001B[0m \u001B[38;5;28;01mif\u001B[39;00m observed\u001B[38;5;241m.\u001B[39msize \u001B[38;5;241m==\u001B[39m \u001B[38;5;241m0\u001B[39m:\n\u001B[1;32m--> 333\u001B[0m     \u001B[38;5;28;01mraise\u001B[39;00m \u001B[38;5;167;01mValueError\u001B[39;00m(\u001B[38;5;124m\"\u001B[39m\u001B[38;5;124mNo data; `observed` has size 0.\u001B[39m\u001B[38;5;124m\"\u001B[39m)\n\u001B[0;32m    335\u001B[0m expected \u001B[38;5;241m=\u001B[39m expected_freq(observed)\n\u001B[0;32m    336\u001B[0m \u001B[38;5;28;01mif\u001B[39;00m np\u001B[38;5;241m.\u001B[39many(expected \u001B[38;5;241m==\u001B[39m \u001B[38;5;241m0\u001B[39m):\n\u001B[0;32m    337\u001B[0m     \u001B[38;5;66;03m# Include one of the positions where expected is zero in\u001B[39;00m\n\u001B[0;32m    338\u001B[0m     \u001B[38;5;66;03m# the exception message.\u001B[39;00m\n",
      "\u001B[1;31mValueError\u001B[0m: No data; `observed` has size 0."
     ]
    }
   ],
   "execution_count": 280
  },
  {
   "metadata": {
    "ExecuteTime": {
     "end_time": "2024-05-08T09:07:09.104303Z",
     "start_time": "2024-05-08T09:07:09.085532Z"
    }
   },
   "cell_type": "code",
   "source": [
    "contingency_table_14 = pd.crosstab(index=AMB_PA['Psicosi'], columns=TOTAL['Psicosi'])  \n",
    " \n",
    "chi2_14, p_value_14, dof_14, expected_14 = chi2_contingency(contingency_table_14)  \n",
    " \n",
    "print(\"Estadístic xi-quadrat entre AMB_PA i TOTAL:\", chi2_14)  \n",
    "print(\"P-valor entre AMB_PA i TOTAL:\", p_value_14)  \n",
    " \n",
    "if p_value_14 < 0.05:  \n",
    "   print(\"Hi ha diferències significatives entre les distribucions de psicosi en AMB_PA i TOTAL.\")  \n",
    "else:  \n",
    "   print(\"No hi ha diferències significatives entre les distribucions de psicosi en AMB_PA i TOTAL.\") "
   ],
   "id": "5cc8d10340943f1c",
   "outputs": [
    {
     "name": "stdout",
     "output_type": "stream",
     "text": [
      "Estadístic xi-quadrat entre AMB_PA i TOTAL: 0.0\n",
      "P-valor entre AMB_PA i TOTAL: 1.0\n",
      "No hi ha diferències significatives entre les distribucions de psicosi en AMB_PA i TOTAL.\n"
     ]
    }
   ],
   "execution_count": 281
  },
  {
   "metadata": {
    "ExecuteTime": {
     "end_time": "2024-05-08T09:07:09.420518Z",
     "start_time": "2024-05-08T09:07:09.403874Z"
    }
   },
   "cell_type": "code",
   "source": [
    "contingency_table_24 = pd.crosstab(index=AMB_PA_MECVV['Psicosi'], columns=TOTAL['Psicosi'])  \n",
    " \n",
    "chi2_24, p_value_24, dof_24, expected_24 = chi2_contingency(contingency_table_24)  \n",
    " \n",
    "print(\"Estadístic xi-quadrat entre AMB_PA_MECVV i TOTAL:\", chi2_24)  \n",
    "print(\"P-valor entre AMB_PA_MECVV i TOTAL:\", p_value_24)  \n",
    " \n",
    "if p_value_24 < 0.05:  \n",
    "   print(\"Hi ha diferències significatives entre les distribucions de psicosi en AMB_PA_MECVV i TOTAL.\")  \n",
    "else:  \n",
    "   print(\"No hi ha diferències significatives entre les distribucions de psicosi en AMB_PA_MECVV i TOTAL.\") "
   ],
   "id": "43c2cd540927d5ba",
   "outputs": [
    {
     "name": "stdout",
     "output_type": "stream",
     "text": [
      "Estadístic xi-quadrat entre AMB_PA_MECVV i TOTAL: 0.0\n",
      "P-valor entre AMB_PA_MECVV i TOTAL: 1.0\n",
      "No hi ha diferències significatives entre les distribucions de psicosi en AMB_PA_MECVV i TOTAL.\n"
     ]
    }
   ],
   "execution_count": 282
  },
  {
   "metadata": {
    "ExecuteTime": {
     "end_time": "2024-05-08T09:07:09.873008Z",
     "start_time": "2024-05-08T09:07:09.855618Z"
    }
   },
   "cell_type": "code",
   "source": [
    "contingency_table_34 = pd.crosstab(index=SENSE_PA['Psicosi'], columns=TOTAL['Psicosi'])  \n",
    " \n",
    "chi2_34, p_value_34, dof_34, expected_34 = chi2_contingency(contingency_table_34)  \n",
    " \n",
    "print(\"Estadístic xi-quadrat entre SENSE_PA i TOTAL:\", chi2_34)  \n",
    "print(\"P-valor entre SENSE_PA i TOTAL:\", p_value_34)  \n",
    " \n",
    "if p_value_34 < 0.05:  \n",
    "   print(\"Hi ha diferències significatives entre les distribucions de psicosi en SENSE_PA i TOTAL.\")  \n",
    "else:  \n",
    "   print(\"No hi ha diferències significatives entre les distribucions de psicosi en SENSE_PA i TOTAL.\") "
   ],
   "id": "fa6dc9d7840f038",
   "outputs": [
    {
     "name": "stdout",
     "output_type": "stream",
     "text": [
      "Estadístic xi-quadrat entre SENSE_PA i TOTAL: 0.0\n",
      "P-valor entre SENSE_PA i TOTAL: 1.0\n",
      "No hi ha diferències significatives entre les distribucions de psicosi en SENSE_PA i TOTAL.\n"
     ]
    }
   ],
   "execution_count": 283
  },
  {
   "metadata": {},
   "cell_type": "markdown",
   "source": [
    "## Deficiències nutricionals"
   ],
   "id": "fd2da9ae3b318047"
  },
  {
   "metadata": {
    "ExecuteTime": {
     "end_time": "2024-05-08T09:07:10.238915Z",
     "start_time": "2024-05-08T09:07:10.232756Z"
    }
   },
   "cell_type": "code",
   "source": [
    "nutri_AMB_PA= (AMB_PA['Def.nutri'] == 1.0).mean() * 100\n",
    "print(f\"Percentatge de deficiències nutricionals: {nutri_AMB_PA:.2f}%\")"
   ],
   "id": "e841eb27b0ef04d7",
   "outputs": [
    {
     "name": "stdout",
     "output_type": "stream",
     "text": [
      "Percentatge de deficiències nutricionals: 0.00%\n"
     ]
    }
   ],
   "execution_count": 284
  },
  {
   "metadata": {
    "ExecuteTime": {
     "end_time": "2024-05-08T09:07:11.013510Z",
     "start_time": "2024-05-08T09:07:11.008724Z"
    }
   },
   "cell_type": "code",
   "source": [
    "nutri_AMB_PA_MECVV= (AMB_PA_MECVV['Def.nutri'] == 1.0).mean() * 100\n",
    "print(f\"Percentatge de deficiències nutricionals: {nutri_AMB_PA_MECVV:.2f}%\")"
   ],
   "id": "8776557d38ef8059",
   "outputs": [
    {
     "name": "stdout",
     "output_type": "stream",
     "text": [
      "Percentatge de deficiències nutricionals: 0.00%\n"
     ]
    }
   ],
   "execution_count": 285
  },
  {
   "metadata": {
    "ExecuteTime": {
     "end_time": "2024-05-08T09:07:11.452887Z",
     "start_time": "2024-05-08T09:07:11.447137Z"
    }
   },
   "cell_type": "code",
   "source": [
    "nutri_SENSE_PA= (SENSE_PA['Def.nutri'] == 1.0).mean() * 100\n",
    "print(f\"Percentatge de deficiències nutricionals: {nutri_SENSE_PA:.2f}%\")"
   ],
   "id": "958e8bc2ca4584c3",
   "outputs": [
    {
     "name": "stdout",
     "output_type": "stream",
     "text": [
      "Percentatge de deficiències nutricionals: 0.00%\n"
     ]
    }
   ],
   "execution_count": 286
  },
  {
   "metadata": {
    "ExecuteTime": {
     "end_time": "2024-05-08T09:07:11.960408Z",
     "start_time": "2024-05-08T09:07:11.953076Z"
    }
   },
   "cell_type": "code",
   "source": [
    "nutri_TOTAL= (TOTAL['Def.nutri'] == 1.0).mean() * 100\n",
    "print(f\"Percentatge de deficiències nutricionals: {nutri_TOTAL:.2f}%\")"
   ],
   "id": "6d7779888783c671",
   "outputs": [
    {
     "name": "stdout",
     "output_type": "stream",
     "text": [
      "Percentatge de deficiències nutricionals: 0.00%\n"
     ]
    }
   ],
   "execution_count": 287
  },
  {
   "metadata": {},
   "cell_type": "markdown",
   "source": "#### Comparació distributiva",
   "id": "d4bc9fe19efb8762"
  },
  {
   "metadata": {},
   "cell_type": "markdown",
   "source": "##### Normalitat i p-valor",
   "id": "5316510b823b671e"
  },
  {
   "metadata": {
    "ExecuteTime": {
     "end_time": "2024-05-08T09:07:12.373687Z",
     "start_time": "2024-05-08T09:07:12.356986Z"
    }
   },
   "cell_type": "code",
   "source": [
    "contingency_table_12 = pd.crosstab(index=AMB_PA['Def.nutri'], columns=AMB_PA_MECVV['Def.nutri'])  \n",
    " \n",
    "chi2_12, p_value_12, dof_12, expected_12 = chi2_contingency(contingency_table_12)  \n",
    " \n",
    "print(\"Estadístic xi-quadrat entre AMB_PA i AMB_PA_MECVV:\", chi2_12)  \n",
    "print(\"P-valor entre AMB_PA i AMB_PA_MECVV:\", p_value_12)  \n",
    " \n",
    "if p_value_12 < 0.05:  \n",
    "   print(\"Hi ha diferències significatives entre les distribucions de deficiències nutricionals en AMB_PA i AMB_PA_MECVV.\")  \n",
    "else:  \n",
    "   print(\"No hi ha diferències significatives entre les distribucions de deficiències nutricionals en AMB_PA i AMB_PA_MECVV.\") "
   ],
   "id": "d518ed3fde934b64",
   "outputs": [
    {
     "name": "stdout",
     "output_type": "stream",
     "text": [
      "Estadístic xi-quadrat entre AMB_PA i AMB_PA_MECVV: 0.0\n",
      "P-valor entre AMB_PA i AMB_PA_MECVV: 1.0\n",
      "No hi ha diferències significatives entre les distribucions de deficiències nutricionals en AMB_PA i AMB_PA_MECVV.\n"
     ]
    }
   ],
   "execution_count": 288
  },
  {
   "metadata": {
    "ExecuteTime": {
     "end_time": "2024-05-08T09:07:12.798840Z",
     "start_time": "2024-05-08T09:07:12.786916Z"
    }
   },
   "cell_type": "code",
   "source": [
    "contingency_table_13 = pd.crosstab(index=AMB_PA['Def.nutri'], columns=SENSE_PA['Def.nutri'])  \n",
    " \n",
    "chi2_13, p_value_13, dof_13, expected_13 = chi2_contingency(contingency_table_13)  \n",
    " \n",
    "print(\"Estadístic xi-quadrat entre AMB_PA i SENSE_PA:\", chi2_13)  \n",
    "print(\"P-valor entre AMB_PA i SENSE_PA:\", p_value_13)  \n",
    " \n",
    "if p_value_13 < 0.05:  \n",
    "   print(\"Hi ha diferències significatives entre les distribucions de deficiències nutricionals en AMB_PA i SENSE_PA.\")  \n",
    "else:  \n",
    "   print(\"No hi ha diferències significatives entre les distribucions de deficiències nutricionals en AMB_PA i SENSE_PA.\") "
   ],
   "id": "1e0de691178e3d02",
   "outputs": [
    {
     "name": "stdout",
     "output_type": "stream",
     "text": [
      "Estadístic xi-quadrat entre AMB_PA i SENSE_PA: 0.0\n",
      "P-valor entre AMB_PA i SENSE_PA: 1.0\n",
      "No hi ha diferències significatives entre les distribucions de deficiències nutricionals en AMB_PA i SENSE_PA.\n"
     ]
    }
   ],
   "execution_count": 289
  },
  {
   "metadata": {
    "ExecuteTime": {
     "end_time": "2024-05-08T09:07:13.190686Z",
     "start_time": "2024-05-08T09:07:13.140848Z"
    }
   },
   "cell_type": "code",
   "source": [
    "contingency_table_23 = pd.crosstab(index=AMB_PA_MECVV['Def.nutri'], columns=SENSE_PA['Def.nutri'])  \n",
    " \n",
    "chi2_23, p_value_23, dof_23, expected_23 = chi2_contingency(contingency_table_23)  \n",
    " \n",
    "print(\"Estadístic xi-quadrat entre AMB_PA_MECCV i SENSE_PA:\", chi2_23)  \n",
    "print(\"P-valor entre AMB_PA_MECVV i SENSE_PA:\", p_value_23)  \n",
    " \n",
    "if p_value_23 < 0.05:  \n",
    "   print(\"Hi ha diferències significatives entre les distribucions de deficiències nutricionals en AMB_PA_MECVV i SENSE_PA.\")  \n",
    "else:  \n",
    "   print(\"No hi ha diferències significatives entre les distribucions de deficiències nutricionals en AMB_PA_MECVV i SENSE_PA.\") "
   ],
   "id": "f40327fa6efbc272",
   "outputs": [
    {
     "ename": "ValueError",
     "evalue": "No data; `observed` has size 0.",
     "output_type": "error",
     "traceback": [
      "\u001B[1;31m---------------------------------------------------------------------------\u001B[0m",
      "\u001B[1;31mValueError\u001B[0m                                Traceback (most recent call last)",
      "Cell \u001B[1;32mIn[290], line 3\u001B[0m\n\u001B[0;32m      1\u001B[0m contingency_table_23 \u001B[38;5;241m=\u001B[39m pd\u001B[38;5;241m.\u001B[39mcrosstab(index\u001B[38;5;241m=\u001B[39mAMB_PA_MECVV[\u001B[38;5;124m'\u001B[39m\u001B[38;5;124mDef.nutri\u001B[39m\u001B[38;5;124m'\u001B[39m], columns\u001B[38;5;241m=\u001B[39mSENSE_PA[\u001B[38;5;124m'\u001B[39m\u001B[38;5;124mDef.nutri\u001B[39m\u001B[38;5;124m'\u001B[39m])  \n\u001B[1;32m----> 3\u001B[0m chi2_23, p_value_23, dof_23, expected_23 \u001B[38;5;241m=\u001B[39m \u001B[43mchi2_contingency\u001B[49m\u001B[43m(\u001B[49m\u001B[43mcontingency_table_23\u001B[49m\u001B[43m)\u001B[49m  \n\u001B[0;32m      5\u001B[0m \u001B[38;5;28mprint\u001B[39m(\u001B[38;5;124m\"\u001B[39m\u001B[38;5;124mEstadístic xi-quadrat entre AMB_PA_MECCV i SENSE_PA:\u001B[39m\u001B[38;5;124m\"\u001B[39m, chi2_23)  \n\u001B[0;32m      6\u001B[0m \u001B[38;5;28mprint\u001B[39m(\u001B[38;5;124m\"\u001B[39m\u001B[38;5;124mP-valor entre AMB_PA_MECVV i SENSE_PA:\u001B[39m\u001B[38;5;124m\"\u001B[39m, p_value_23)  \n",
      "File \u001B[1;32m~\\PycharmProjects\\practicum\\.venv\\Lib\\site-packages\\scipy\\stats\\contingency.py:333\u001B[0m, in \u001B[0;36mchi2_contingency\u001B[1;34m(observed, correction, lambda_)\u001B[0m\n\u001B[0;32m    331\u001B[0m     \u001B[38;5;28;01mraise\u001B[39;00m \u001B[38;5;167;01mValueError\u001B[39;00m(\u001B[38;5;124m\"\u001B[39m\u001B[38;5;124mAll values in `observed` must be nonnegative.\u001B[39m\u001B[38;5;124m\"\u001B[39m)\n\u001B[0;32m    332\u001B[0m \u001B[38;5;28;01mif\u001B[39;00m observed\u001B[38;5;241m.\u001B[39msize \u001B[38;5;241m==\u001B[39m \u001B[38;5;241m0\u001B[39m:\n\u001B[1;32m--> 333\u001B[0m     \u001B[38;5;28;01mraise\u001B[39;00m \u001B[38;5;167;01mValueError\u001B[39;00m(\u001B[38;5;124m\"\u001B[39m\u001B[38;5;124mNo data; `observed` has size 0.\u001B[39m\u001B[38;5;124m\"\u001B[39m)\n\u001B[0;32m    335\u001B[0m expected \u001B[38;5;241m=\u001B[39m expected_freq(observed)\n\u001B[0;32m    336\u001B[0m \u001B[38;5;28;01mif\u001B[39;00m np\u001B[38;5;241m.\u001B[39many(expected \u001B[38;5;241m==\u001B[39m \u001B[38;5;241m0\u001B[39m):\n\u001B[0;32m    337\u001B[0m     \u001B[38;5;66;03m# Include one of the positions where expected is zero in\u001B[39;00m\n\u001B[0;32m    338\u001B[0m     \u001B[38;5;66;03m# the exception message.\u001B[39;00m\n",
      "\u001B[1;31mValueError\u001B[0m: No data; `observed` has size 0."
     ]
    }
   ],
   "execution_count": 290
  },
  {
   "metadata": {
    "ExecuteTime": {
     "end_time": "2024-05-08T09:07:13.659350Z",
     "start_time": "2024-05-08T09:07:13.641163Z"
    }
   },
   "cell_type": "code",
   "source": [
    "contingency_table_14 = pd.crosstab(index=AMB_PA['Def.nutri'], columns=TOTAL['Def.nutri'])  \n",
    " \n",
    "chi2_14, p_value_14, dof_14, expected_14 = chi2_contingency(contingency_table_14)  \n",
    " \n",
    "print(\"Estadístic xi-quadrat entre AMB_PA i TOTAL:\", chi2_14)  \n",
    "print(\"P-valor entre AMB_PA i TOTAL:\", p_value_14)  \n",
    " \n",
    "if p_value_14 < 0.05:  \n",
    "   print(\"Hi ha diferències significatives entre les distribucions de deficiències nutricionals en AMB_PA i TOTAL.\")  \n",
    "else:  \n",
    "   print(\"No hi ha diferències significatives entre les distribucions de deficiències nutricionals en AMB_PA i TOTAL.\") "
   ],
   "id": "e520b60c4f6664f4",
   "outputs": [
    {
     "name": "stdout",
     "output_type": "stream",
     "text": [
      "Estadístic xi-quadrat entre AMB_PA i TOTAL: 0.0\n",
      "P-valor entre AMB_PA i TOTAL: 1.0\n",
      "No hi ha diferències significatives entre les distribucions de deficiències nutricionals en AMB_PA i TOTAL.\n"
     ]
    }
   ],
   "execution_count": 291
  },
  {
   "metadata": {
    "ExecuteTime": {
     "end_time": "2024-05-08T09:07:13.948786Z",
     "start_time": "2024-05-08T09:07:13.933902Z"
    }
   },
   "cell_type": "code",
   "source": [
    "contingency_table_24 = pd.crosstab(index=AMB_PA_MECVV['Def.nutri'], columns=TOTAL['Def.nutri'])  \n",
    " \n",
    "chi2_24, p_value_24, dof_24, expected_24 = chi2_contingency(contingency_table_24)  \n",
    " \n",
    "print(\"Estadístic xi-quadrat entre AMB_PA_MECVV i TOTAL:\", chi2_24)  \n",
    "print(\"P-valor entre AMB_PA_MECVV i TOTAL:\", p_value_24)  \n",
    " \n",
    "if p_value_24 < 0.05:  \n",
    "   print(\"Hi ha diferències significatives entre les distribucions de deficiències nutricionals en AMB_PA_MECVV i TOTAL.\")  \n",
    "else:  \n",
    "   print(\"No hi ha diferències significatives entre les distribucions de deficiències nutricionals en AMB_PA_MECVV i TOTAL.\") "
   ],
   "id": "a32cc09ac99a0dfb",
   "outputs": [
    {
     "name": "stdout",
     "output_type": "stream",
     "text": [
      "Estadístic xi-quadrat entre AMB_PA_MECVV i TOTAL: 0.0\n",
      "P-valor entre AMB_PA_MECVV i TOTAL: 1.0\n",
      "No hi ha diferències significatives entre les distribucions de deficiències nutricionals en AMB_PA_MECVV i TOTAL.\n"
     ]
    }
   ],
   "execution_count": 292
  },
  {
   "metadata": {},
   "cell_type": "code",
   "source": [
    "contingency_table_34 = pd.crosstab(index=SENSE_PA['Def.nutri'], columns=TOTAL['Def.nutri'])  \n",
    " \n",
    "chi2_34, p_value_34, dof_34, expected_34 = chi2_contingency(contingency_table_34)  \n",
    " \n",
    "print(\"Estadístic xi-quadrat entre SENSE_PA i TOTAL:\", chi2_34)  \n",
    "print(\"P-valor entre SENSE_PA i TOTAL:\", p_value_34)  \n",
    " \n",
    "if p_value_34 < 0.05:  \n",
    "   print(\"Hi ha diferències significatives entre les distribucions de deficiències nutricionals en SENSE_PA i TOTAL.\")  \n",
    "else:  \n",
    "   print(\"No hi ha diferències significatives entre les distribucions de deficiències nutricionals en SENSE_PA i TOTAL.\") "
   ],
   "id": "8622d081883aca5c",
   "outputs": [
    {
     "name": "stdout",
     "output_type": "stream",
     "text": [
      "Estadístic xi-quadrat entre SENSE_PA i TOTAL: 0.0\n",
      "P-valor entre SENSE_PA i TOTAL: 1.0\n",
      "No hi ha diferències significatives entre les distribucions de deficiències nutricionals en SENSE_PA i TOTAL.\n"
     ]
    }
   ],
   "execution_count": 293
  }
 ],
 "metadata": {
  "kernelspec": {
   "display_name": "Python 3",
   "language": "python",
   "name": "python3"
  },
  "language_info": {
   "codemirror_mode": {
    "name": "ipython",
    "version": 2
   },
   "file_extension": ".py",
   "mimetype": "text/x-python",
   "name": "python",
   "nbconvert_exporter": "python",
   "pygments_lexer": "ipython2",
   "version": "2.7.6"
  }
 },
 "nbformat": 4,
 "nbformat_minor": 5
}
