{
 "cells": [
  {
   "cell_type": "code",
   "id": "initial_id",
   "metadata": {
    "collapsed": true,
    "ExecuteTime": {
     "end_time": "2024-04-22T07:40:01.361947Z",
     "start_time": "2024-04-22T07:40:00.065628Z"
    }
   },
   "source": [
    "import json\n",
    "import pandas as pd\n",
    "from datetime import datetime\n",
    "from listas import charlson_dict, delirium_list, dementia_list, depresyndr_list, uriincont_list, fecincont_list, pressulc_list, immob_list, conf_list, osteopor_list, sarcopenia_list, sleepdisturb_list, chrpain_list, iatrog_list, constipation_list, CVdisease_list, heartdisease_list, ND_list, DM_list, hepatopat_list, neopl_list, AcuteRenalF_list, dizsyn_list, VIH_list, psicosis_list\n",
    "\n",
    "from auxiliary_functions import valores_codigos, contar_diccionarios, dias_ingreso_total, asignar_intervalo_edad, sumar_barthel, sumar_emina, obtener_ultimo_resultat, obtener_valor_promedio, canadenca_comparada, disfagia_mecvvs, extraer_valor_clave, extraer_valor_clave_simple\n",
    "\n",
    "taula = pd.read_pickle('./data/processed/dataframe.pkl')\n",
    "import scipy.stats as stats\n",
    "from scipy.stats import ttest_ind\n",
    "from scipy.stats import shapiro\n",
    "from scipy.stats import mannwhitneyu\n",
    "from scipy.stats import chi2_contingency\n"
   ],
   "outputs": [],
   "execution_count": 1
  },
  {
   "metadata": {
    "ExecuteTime": {
     "end_time": "2024-04-22T07:40:08.505184Z",
     "start_time": "2024-04-22T07:40:08.317899Z"
    }
   },
   "cell_type": "code",
   "source": "taula.head()",
   "id": "d7edd23ab31dcae8",
   "outputs": [
    {
     "data": {
      "text/plain": [
       "   edat sexe  visitaDietista  \\\n",
       "0    89    F               0   \n",
       "1    70    M               0   \n",
       "2    96    M               0   \n",
       "3    85    M               0   \n",
       "4    93    M               0   \n",
       "\n",
       "                                                labs  \\\n",
       "0                                                 []   \n",
       "1  [{'date': '20220524', 'name': 'PCR SARS-CoV2 S...   \n",
       "2                                                 []   \n",
       "3                                                 []   \n",
       "4  [{'date': '20220208', 'name': 'UREA Sèrum', 'l...   \n",
       "\n",
       "                                                 mna  \\\n",
       "0                                                 []   \n",
       "1                                                 []   \n",
       "2                                                 []   \n",
       "3                                                 []   \n",
       "4  [{'imc': '0', 'anorexia': '1', 'perduaPes': '1...   \n",
       "\n",
       "                                               emina canadenca  \\\n",
       "0  [{'activitat': '2', 'estatMental': '1', 'humit...        []   \n",
       "1  [{'activitat': '0', 'estatMental': '0', 'humit...        []   \n",
       "2  [{'activitat': '3', 'estatMental': '0', 'humit...        []   \n",
       "3  [{'activitat': '2', 'estatMental': '1', 'humit...        []   \n",
       "4  [{'activitat': '2', 'estatMental': '1', 'humit...        []   \n",
       "\n",
       "                                                 pes  \\\n",
       "0                                                 []   \n",
       "1  [{'valor': '64.7', 'data': '2022-10-04'}, {'va...   \n",
       "2                                                 []   \n",
       "3                                                 []   \n",
       "4  [{'valor': '49.900', 'data': '2022-06-02'}, {'...   \n",
       "\n",
       "                                                atcs  \\\n",
       "0  [{'codi': 'M01AE', 'dataInici': '2020-06-21 00...   \n",
       "1  [{'codi': 'C09AA', 'dataInici': '2021-05-26 00...   \n",
       "2  [{'codi': 'G04CA', 'dataInici': '2020-07-09 00...   \n",
       "3  [{'codi': 'G04CA', 'dataInici': '2020-07-15 00...   \n",
       "4  [{'codi': 'N02AA', 'dataInici': '2022-02-01 00...   \n",
       "\n",
       "                                              mecvvs  ...  \\\n",
       "0                                                 []  ...   \n",
       "1  [{'data': '20220930', 'pacientNoColabora': '',...  ...   \n",
       "2                                                 []  ...   \n",
       "3  [{'data': '20201204131810', 'disfagia': 'S', '...  ...   \n",
       "4  [{'data': '20220330172303', 'disfagiaConeguda'...  ...   \n",
       "\n",
       "                                            albumina  \\\n",
       "0                                               None   \n",
       "1                                                3.1   \n",
       "2                                               None   \n",
       "3                                               None   \n",
       "4  Proves afegides a un altre petició per extracc...   \n",
       "\n",
       "                                   proteinas totales    Hb  colesterol total  \\\n",
       "0                                               None  None              None   \n",
       "1                                                5.3  14.5             124.7   \n",
       "2                                               None  None              None   \n",
       "3                                               None  None              None   \n",
       "4  Proves afegides a un altre petició per extracc...     X              None   \n",
       "\n",
       "   leucos  limfos  prot C react  \\\n",
       "0    None    None          None   \n",
       "1       X    38.9         19.61   \n",
       "2    None    None          None   \n",
       "3    None    None          None   \n",
       "4       X       X          0.54   \n",
       "\n",
       "                                                urea  \\\n",
       "0                                               None   \n",
       "1                                               25.7   \n",
       "2                                               None   \n",
       "3                                               None   \n",
       "4  Proves afegides a un altre petició per extracc...   \n",
       "\n",
       "                                            FGE MDRD  \\\n",
       "0                                               None   \n",
       "1                                                >60   \n",
       "2                                               None   \n",
       "3                                               None   \n",
       "4  Proves afegides a un altre petició per extracc...   \n",
       "\n",
       "                                         FGE CDK-EPI  \n",
       "0                                               None  \n",
       "1                                                >90  \n",
       "2                                               None  \n",
       "3                                               None  \n",
       "4  Proves afegides a un altre petició per extracc...  \n",
       "\n",
       "[5 rows x 70 columns]"
      ],
      "text/html": [
       "<div>\n",
       "<style scoped>\n",
       "    .dataframe tbody tr th:only-of-type {\n",
       "        vertical-align: middle;\n",
       "    }\n",
       "\n",
       "    .dataframe tbody tr th {\n",
       "        vertical-align: top;\n",
       "    }\n",
       "\n",
       "    .dataframe thead th {\n",
       "        text-align: right;\n",
       "    }\n",
       "</style>\n",
       "<table border=\"1\" class=\"dataframe\">\n",
       "  <thead>\n",
       "    <tr style=\"text-align: right;\">\n",
       "      <th></th>\n",
       "      <th>edat</th>\n",
       "      <th>sexe</th>\n",
       "      <th>visitaDietista</th>\n",
       "      <th>labs</th>\n",
       "      <th>mna</th>\n",
       "      <th>emina</th>\n",
       "      <th>canadenca</th>\n",
       "      <th>pes</th>\n",
       "      <th>atcs</th>\n",
       "      <th>mecvvs</th>\n",
       "      <th>...</th>\n",
       "      <th>albumina</th>\n",
       "      <th>proteinas totales</th>\n",
       "      <th>Hb</th>\n",
       "      <th>colesterol total</th>\n",
       "      <th>leucos</th>\n",
       "      <th>limfos</th>\n",
       "      <th>prot C react</th>\n",
       "      <th>urea</th>\n",
       "      <th>FGE MDRD</th>\n",
       "      <th>FGE CDK-EPI</th>\n",
       "    </tr>\n",
       "  </thead>\n",
       "  <tbody>\n",
       "    <tr>\n",
       "      <th>0</th>\n",
       "      <td>89</td>\n",
       "      <td>F</td>\n",
       "      <td>0</td>\n",
       "      <td>[]</td>\n",
       "      <td>[]</td>\n",
       "      <td>[{'activitat': '2', 'estatMental': '1', 'humit...</td>\n",
       "      <td>[]</td>\n",
       "      <td>[]</td>\n",
       "      <td>[{'codi': 'M01AE', 'dataInici': '2020-06-21 00...</td>\n",
       "      <td>[]</td>\n",
       "      <td>...</td>\n",
       "      <td>None</td>\n",
       "      <td>None</td>\n",
       "      <td>None</td>\n",
       "      <td>None</td>\n",
       "      <td>None</td>\n",
       "      <td>None</td>\n",
       "      <td>None</td>\n",
       "      <td>None</td>\n",
       "      <td>None</td>\n",
       "      <td>None</td>\n",
       "    </tr>\n",
       "    <tr>\n",
       "      <th>1</th>\n",
       "      <td>70</td>\n",
       "      <td>M</td>\n",
       "      <td>0</td>\n",
       "      <td>[{'date': '20220524', 'name': 'PCR SARS-CoV2 S...</td>\n",
       "      <td>[]</td>\n",
       "      <td>[{'activitat': '0', 'estatMental': '0', 'humit...</td>\n",
       "      <td>[]</td>\n",
       "      <td>[{'valor': '64.7', 'data': '2022-10-04'}, {'va...</td>\n",
       "      <td>[{'codi': 'C09AA', 'dataInici': '2021-05-26 00...</td>\n",
       "      <td>[{'data': '20220930', 'pacientNoColabora': '',...</td>\n",
       "      <td>...</td>\n",
       "      <td>3.1</td>\n",
       "      <td>5.3</td>\n",
       "      <td>14.5</td>\n",
       "      <td>124.7</td>\n",
       "      <td>X</td>\n",
       "      <td>38.9</td>\n",
       "      <td>19.61</td>\n",
       "      <td>25.7</td>\n",
       "      <td>&gt;60</td>\n",
       "      <td>&gt;90</td>\n",
       "    </tr>\n",
       "    <tr>\n",
       "      <th>2</th>\n",
       "      <td>96</td>\n",
       "      <td>M</td>\n",
       "      <td>0</td>\n",
       "      <td>[]</td>\n",
       "      <td>[]</td>\n",
       "      <td>[{'activitat': '3', 'estatMental': '0', 'humit...</td>\n",
       "      <td>[]</td>\n",
       "      <td>[]</td>\n",
       "      <td>[{'codi': 'G04CA', 'dataInici': '2020-07-09 00...</td>\n",
       "      <td>[]</td>\n",
       "      <td>...</td>\n",
       "      <td>None</td>\n",
       "      <td>None</td>\n",
       "      <td>None</td>\n",
       "      <td>None</td>\n",
       "      <td>None</td>\n",
       "      <td>None</td>\n",
       "      <td>None</td>\n",
       "      <td>None</td>\n",
       "      <td>None</td>\n",
       "      <td>None</td>\n",
       "    </tr>\n",
       "    <tr>\n",
       "      <th>3</th>\n",
       "      <td>85</td>\n",
       "      <td>M</td>\n",
       "      <td>0</td>\n",
       "      <td>[]</td>\n",
       "      <td>[]</td>\n",
       "      <td>[{'activitat': '2', 'estatMental': '1', 'humit...</td>\n",
       "      <td>[]</td>\n",
       "      <td>[]</td>\n",
       "      <td>[{'codi': 'G04CA', 'dataInici': '2020-07-15 00...</td>\n",
       "      <td>[{'data': '20201204131810', 'disfagia': 'S', '...</td>\n",
       "      <td>...</td>\n",
       "      <td>None</td>\n",
       "      <td>None</td>\n",
       "      <td>None</td>\n",
       "      <td>None</td>\n",
       "      <td>None</td>\n",
       "      <td>None</td>\n",
       "      <td>None</td>\n",
       "      <td>None</td>\n",
       "      <td>None</td>\n",
       "      <td>None</td>\n",
       "    </tr>\n",
       "    <tr>\n",
       "      <th>4</th>\n",
       "      <td>93</td>\n",
       "      <td>M</td>\n",
       "      <td>0</td>\n",
       "      <td>[{'date': '20220208', 'name': 'UREA Sèrum', 'l...</td>\n",
       "      <td>[{'imc': '0', 'anorexia': '1', 'perduaPes': '1...</td>\n",
       "      <td>[{'activitat': '2', 'estatMental': '1', 'humit...</td>\n",
       "      <td>[]</td>\n",
       "      <td>[{'valor': '49.900', 'data': '2022-06-02'}, {'...</td>\n",
       "      <td>[{'codi': 'N02AA', 'dataInici': '2022-02-01 00...</td>\n",
       "      <td>[{'data': '20220330172303', 'disfagiaConeguda'...</td>\n",
       "      <td>...</td>\n",
       "      <td>Proves afegides a un altre petició per extracc...</td>\n",
       "      <td>Proves afegides a un altre petició per extracc...</td>\n",
       "      <td>X</td>\n",
       "      <td>None</td>\n",
       "      <td>X</td>\n",
       "      <td>X</td>\n",
       "      <td>0.54</td>\n",
       "      <td>Proves afegides a un altre petició per extracc...</td>\n",
       "      <td>Proves afegides a un altre petició per extracc...</td>\n",
       "      <td>Proves afegides a un altre petició per extracc...</td>\n",
       "    </tr>\n",
       "  </tbody>\n",
       "</table>\n",
       "<p>5 rows × 70 columns</p>\n",
       "</div>"
      ]
     },
     "execution_count": 2,
     "metadata": {},
     "output_type": "execute_result"
    }
   ],
   "execution_count": 2
  },
  {
   "metadata": {
    "ExecuteTime": {
     "end_time": "2024-04-22T07:40:08.523548Z",
     "start_time": "2024-04-22T07:40:08.506446Z"
    }
   },
   "cell_type": "code",
   "source": [
    "AMB_PA = taula[taula[\"PA_diagnosticada\"] == 1.0]\n",
    "AMB_PA_MECVV = taula[\n",
    "    (taula[\"P_diagnosticada\"] == 1.0) & (taula[\"Dias_totales_ingresado\"] < 30) & (taula[\"Disfagia_mecvvs\"] == 1.0) & (taula[\"alteracioEficacia_mecvvs\"] == 1.0) |\n",
    "    (taula[\"P_diagnosticada\"] == 1.0) & (taula[\"Dias_totales_ingresado\"] < 30) & (taula[\"Disfagia_mecvvs\"] == 1.0) & (taula[\"alteracioSeguretat_mecvvs\"] == 1.0)]   \n",
    "SENSE_PA = taula[\n",
    "          (taula[\"P_diagnosticada\"] == 1.0) |\n",
    "          (taula[\"P_diagnosticada\"] == 1.0) & (taula[\"Disfagia_mecvvs\"] == 1.0) & (taula[\"alteracioEficacia_mecvvs\"] == 1.0) & (taula[\"Dias_totales_ingresado\"] > 30) |\n",
    "          (taula[\"P_diagnosticada\"] == 1.0) & (taula[\"Disfagia_mecvvs\"] == 1.0) & (taula[\"alteracioSeguretat_mecvvs\"] == 1.0) & (taula[\"Dias_totales_ingresado\"] > 30)]"
   ],
   "id": "66ee0565100b2096",
   "outputs": [],
   "execution_count": 3
  },
  {
   "metadata": {},
   "cell_type": "markdown",
   "source": "# Síndromes geriàtrics",
   "id": "89fbabd4869d9b6e"
  },
  {
   "metadata": {},
   "cell_type": "markdown",
   "source": "## Index de Charlson",
   "id": "26d9f063eaf602a8"
  },
  {
   "metadata": {
    "ExecuteTime": {
     "end_time": "2024-04-22T08:50:26.238564Z",
     "start_time": "2024-04-22T08:50:26.211822Z"
    }
   },
   "cell_type": "code",
   "source": [
    "# Función para calcular el valor Charlson para un paciente\n",
    "def cci(codi_dx):\n",
    "    charlson_value = 0\n",
    "    for value, codes in charlson_dict.items():\n",
    "        for code in codes:\n",
    "            if codi_dx.startswith(code):\n",
    "                charlson_value += value\n",
    "                break\n",
    "    return charlson_value"
   ],
   "id": "b5b2205f3b3c898f",
   "outputs": [],
   "execution_count": 276
  },
  {
   "metadata": {},
   "cell_type": "markdown",
   "source": "## Caigudes prèvies",
   "id": "964c785479e0467b"
  },
  {
   "metadata": {
    "ExecuteTime": {
     "end_time": "2024-04-22T07:40:08.849965Z",
     "start_time": "2024-04-22T07:40:08.842755Z"
    }
   },
   "cell_type": "code",
   "source": [
    "caprev_AMB_PA= (AMB_PA['caidas_previas'] == 1.0).mean() * 100\n",
    "print(f\"Percentatge de caigudes prèvies: {caprev_AMB_PA:.2f}%\")"
   ],
   "id": "50df5ada3ce5ed0e",
   "outputs": [
    {
     "name": "stdout",
     "output_type": "stream",
     "text": [
      "Percentatge de caigudes prèvies: 5.88%\n"
     ]
    }
   ],
   "execution_count": 4
  },
  {
   "metadata": {
    "ExecuteTime": {
     "end_time": "2024-04-22T07:40:09.327747Z",
     "start_time": "2024-04-22T07:40:09.318863Z"
    }
   },
   "cell_type": "code",
   "source": [
    "caprev_AMB_PA_MECVV= (AMB_PA_MECVV['caidas_previas'] == 1.0).mean() * 100\n",
    "print(f\"Percentatge de caigudes prèvies: {caprev_AMB_PA_MECVV:.2f}%\")"
   ],
   "id": "1ee91988879aa087",
   "outputs": [
    {
     "name": "stdout",
     "output_type": "stream",
     "text": [
      "Percentatge de caigudes prèvies: 0.00%\n"
     ]
    }
   ],
   "execution_count": 5
  },
  {
   "metadata": {
    "ExecuteTime": {
     "end_time": "2024-04-22T07:40:09.568064Z",
     "start_time": "2024-04-22T07:40:09.562764Z"
    }
   },
   "cell_type": "code",
   "source": [
    "caprev_SENSE_PA= (SENSE_PA['caidas_previas'] == 1.0).mean() * 100\n",
    "print(f\"Percentatge de caigudes prèvies: {caprev_SENSE_PA:.2f}%\")"
   ],
   "id": "4d2cb240e1f7b6f7",
   "outputs": [
    {
     "name": "stdout",
     "output_type": "stream",
     "text": [
      "Percentatge de caigudes prèvies: 6.12%\n"
     ]
    }
   ],
   "execution_count": 6
  },
  {
   "metadata": {},
   "cell_type": "markdown",
   "source": "#### Pvalor",
   "id": "35b8e447e15084e7"
  },
  {
   "metadata": {},
   "cell_type": "markdown",
   "source": "##### Normalitat",
   "id": "bce617253d59df63"
  },
  {
   "metadata": {
    "ExecuteTime": {
     "end_time": "2024-04-22T07:40:10.055358Z",
     "start_time": "2024-04-22T07:40:10.047908Z"
    }
   },
   "cell_type": "code",
   "source": [
    "stat, p_value = shapiro(AMB_PA['caidas_previas'])\n",
    "print(f\"Estadístic W = {stat:.4f}\")\n",
    "print(f\"Valor p = {p_value:.4f}\")\n",
    "\n",
    "alpha = 0.05\n",
    "if p_value < alpha:\n",
    "    print(\"El nombre de files no segueix una distribució normal.\")\n",
    "else:\n",
    "    print(\"El nombre de files segueix una distribució normal\")"
   ],
   "id": "ef85d9181f822b14",
   "outputs": [
    {
     "name": "stdout",
     "output_type": "stream",
     "text": [
      "Estadístic W = 0.2622\n",
      "Valor p = 0.0000\n",
      "El nombre de files no segueix una distribució normal.\n"
     ]
    }
   ],
   "execution_count": 7
  },
  {
   "metadata": {
    "ExecuteTime": {
     "end_time": "2024-04-22T07:40:10.331797Z",
     "start_time": "2024-04-22T07:40:10.323100Z"
    }
   },
   "cell_type": "code",
   "source": [
    "stat, p_value = shapiro(AMB_PA_MECVV['caidas_previas'])\n",
    "print(f\"Estadístic W = {stat:.4f}\")\n",
    "print(f\"Valor p = {p_value:.4f}\")\n",
    "\n",
    "alpha = 0.05\n",
    "if p_value < alpha:\n",
    "    print(\"El nombre de files no segueix una distribució normal.\")\n",
    "else:\n",
    "    print(\"El nombre de files segueix una distribució normal\")"
   ],
   "id": "73fc0a6f9756c13",
   "outputs": [
    {
     "name": "stdout",
     "output_type": "stream",
     "text": [
      "Estadístic W = 1.0000\n",
      "Valor p = 1.0000\n",
      "El nombre de files segueix una distribució normal\n"
     ]
    },
    {
     "name": "stderr",
     "output_type": "stream",
     "text": [
      "C:\\Users\\maria\\PycharmProjects\\practicum\\.venv\\Lib\\site-packages\\scipy\\stats\\_axis_nan_policy.py:531: UserWarning: scipy.stats.shapiro: Input data has range zero. The results may not be accurate.\n",
      "  res = hypotest_fun_out(*samples, **kwds)\n"
     ]
    }
   ],
   "execution_count": 8
  },
  {
   "metadata": {
    "ExecuteTime": {
     "end_time": "2024-04-22T07:40:10.722804Z",
     "start_time": "2024-04-22T07:40:10.715296Z"
    }
   },
   "cell_type": "code",
   "source": [
    "stat, p_value = shapiro(SENSE_PA['DO_diagnosticada'])\n",
    "print(f\"Estadístic W = {stat:.4f}\")\n",
    "print(f\"Valor p = {p_value:.4f}\")\n",
    "\n",
    "alpha = 0.05\n",
    "if p_value < alpha:\n",
    "    print(\"El nombre de files no segueix una distribució normal.\")\n",
    "else:\n",
    "    print(\"El nombre de files segueix una distribució normal\")"
   ],
   "id": "9dd4c0120e9dfe83",
   "outputs": [
    {
     "name": "stdout",
     "output_type": "stream",
     "text": [
      "Estadístic W = 0.4716\n",
      "Valor p = 0.0000\n",
      "El nombre de files no segueix una distribució normal.\n"
     ]
    }
   ],
   "execution_count": 9
  },
  {
   "metadata": {
    "ExecuteTime": {
     "end_time": "2024-04-22T07:40:10.950980Z",
     "start_time": "2024-04-22T07:40:10.940817Z"
    }
   },
   "cell_type": "code",
   "source": [
    "stat, p_value_12 = mannwhitneyu(AMB_PA['caidas_previas'], AMB_PA_MECVV['caidas_previas'], alternative='two-sided')\n",
    "print(\"P-valor entre AMB_PA i AMB_PA_MECVV\", p_value_12)"
   ],
   "id": "4c41e8420ecd54f3",
   "outputs": [
    {
     "name": "stdout",
     "output_type": "stream",
     "text": [
      "P-valor entre AMB_PA i AMB_PA_MECVV 0.49002535950179893\n"
     ]
    }
   ],
   "execution_count": 10
  },
  {
   "metadata": {
    "ExecuteTime": {
     "end_time": "2024-04-22T07:40:11.350411Z",
     "start_time": "2024-04-22T07:40:11.341104Z"
    }
   },
   "cell_type": "code",
   "source": [
    "stat, p_value_13 = mannwhitneyu(AMB_PA['caidas_previas'], SENSE_PA['caidas_previas'], alternative='two-sided')\n",
    "print(\"P-valor entre AMB_PA i SENSE_PA\", p_value_13)"
   ],
   "id": "d3a50234b5a6775",
   "outputs": [
    {
     "name": "stdout",
     "output_type": "stream",
     "text": [
      "P-valor entre AMB_PA i SENSE_PA 0.9858477456716862\n"
     ]
    }
   ],
   "execution_count": 11
  },
  {
   "metadata": {
    "ExecuteTime": {
     "end_time": "2024-04-22T07:40:11.542774Z",
     "start_time": "2024-04-22T07:40:11.532488Z"
    }
   },
   "cell_type": "code",
   "source": [
    "stat, p_value_23 = mannwhitneyu(AMB_PA_MECVV['caidas_previas'], SENSE_PA['caidas_previas'], alternative='two-sided')\n",
    "print(\"P-valor entre AMB_PA_MECVV i SENSE_PA\", p_value_23)"
   ],
   "id": "13c44b65ff0399ca",
   "outputs": [
    {
     "name": "stdout",
     "output_type": "stream",
     "text": [
      "P-valor entre AMB_PA_MECVV i SENSE_PA 0.44143809205435813\n"
     ]
    }
   ],
   "execution_count": 12
  },
  {
   "metadata": {},
   "cell_type": "markdown",
   "source": "## Deliris",
   "id": "c7aad4b1d580111"
  },
  {
   "metadata": {
    "ExecuteTime": {
     "end_time": "2024-04-22T07:40:11.885127Z",
     "start_time": "2024-04-22T07:40:11.878887Z"
    }
   },
   "cell_type": "code",
   "source": [
    "del_AMB_PA= (AMB_PA['delirios'] == 1.0).mean() * 100\n",
    "print(f\"Percentatge de deliris: {del_AMB_PA:.2f}%\")"
   ],
   "id": "4457a2a3dfc7a9de",
   "outputs": [
    {
     "name": "stdout",
     "output_type": "stream",
     "text": [
      "Percentatge de deliris: 23.53%\n"
     ]
    }
   ],
   "execution_count": 13
  },
  {
   "metadata": {
    "ExecuteTime": {
     "end_time": "2024-04-22T07:40:12.154254Z",
     "start_time": "2024-04-22T07:40:12.141995Z"
    }
   },
   "cell_type": "code",
   "source": [
    "del_AMB_PA_MECVV= (AMB_PA_MECVV['delirios'] == 1.0).mean() * 100\n",
    "print(f\"Percentatge de deliris: {del_AMB_PA_MECVV:.2f}%\")"
   ],
   "id": "5ae56c8f83586838",
   "outputs": [
    {
     "name": "stdout",
     "output_type": "stream",
     "text": [
      "Percentatge de deliris: 40.00%\n"
     ]
    }
   ],
   "execution_count": 14
  },
  {
   "metadata": {
    "ExecuteTime": {
     "end_time": "2024-04-22T07:40:12.574045Z",
     "start_time": "2024-04-22T07:40:12.568141Z"
    }
   },
   "cell_type": "code",
   "source": [
    "del_SENSE_PA= (SENSE_PA['delirios'] == 1.0).mean() * 100\n",
    "print(f\"Percentatge de deliris: {del_SENSE_PA:.2f}%\")"
   ],
   "id": "9e44418c6cf03004",
   "outputs": [
    {
     "name": "stdout",
     "output_type": "stream",
     "text": [
      "Percentatge de deliris: 18.37%\n"
     ]
    }
   ],
   "execution_count": 15
  },
  {
   "metadata": {},
   "cell_type": "markdown",
   "source": "#### Pvalor",
   "id": "5fc877d47e55c507"
  },
  {
   "metadata": {},
   "cell_type": "markdown",
   "source": "##### Normalitat",
   "id": "c8d1814752edcd36"
  },
  {
   "metadata": {
    "ExecuteTime": {
     "end_time": "2024-04-22T07:40:12.770728Z",
     "start_time": "2024-04-22T07:40:12.762122Z"
    }
   },
   "cell_type": "code",
   "source": [
    "stat, p_value = shapiro(AMB_PA['delirios'])\n",
    "print(f\"Estadístic W = {stat:.4f}\")\n",
    "print(f\"Valor p = {p_value:.4f}\")\n",
    "\n",
    "alpha = 0.05\n",
    "if p_value < alpha:\n",
    "    print(\"El nombre de files no segueix una distribució normal.\")\n",
    "else:\n",
    "    print(\"El nombre de files segueix una distribució normal\")"
   ],
   "id": "d59012cfb049a4b1",
   "outputs": [
    {
     "name": "stdout",
     "output_type": "stream",
     "text": [
      "Estadístic W = 0.5327\n",
      "Valor p = 0.0000\n",
      "El nombre de files no segueix una distribució normal.\n"
     ]
    }
   ],
   "execution_count": 16
  },
  {
   "metadata": {
    "ExecuteTime": {
     "end_time": "2024-04-22T07:40:13.123877Z",
     "start_time": "2024-04-22T07:40:13.115749Z"
    }
   },
   "cell_type": "code",
   "source": [
    "stat, p_value = shapiro(AMB_PA_MECVV['delirios'])\n",
    "print(f\"Estadístic W = {stat:.4f}\")\n",
    "print(f\"Valor p = {p_value:.4f}\")\n",
    "\n",
    "alpha = 0.05\n",
    "if p_value < alpha:\n",
    "    print(\"El nombre de files no segueix una distribució normal.\")\n",
    "else:\n",
    "    print(\"El nombre de files segueix una distribució normal\")"
   ],
   "id": "946b43e2ab447ace",
   "outputs": [
    {
     "name": "stdout",
     "output_type": "stream",
     "text": [
      "Estadístic W = 0.6405\n",
      "Valor p = 0.0002\n",
      "El nombre de files no segueix una distribució normal.\n"
     ]
    }
   ],
   "execution_count": 17
  },
  {
   "metadata": {
    "ExecuteTime": {
     "end_time": "2024-04-22T07:40:13.468880Z",
     "start_time": "2024-04-22T07:40:13.460566Z"
    }
   },
   "cell_type": "code",
   "source": [
    "stat, p_value = shapiro(SENSE_PA['delirios'])\n",
    "print(f\"Estadístic W = {stat:.4f}\")\n",
    "print(f\"Valor p = {p_value:.4f}\")\n",
    "\n",
    "alpha = 0.05\n",
    "if p_value < alpha:\n",
    "    print(\"El nombre de files no segueix una distribució normal.\")\n",
    "else:\n",
    "    print(\"El nombre de files segueix una distribució normal\")"
   ],
   "id": "268335d184f2afbe",
   "outputs": [
    {
     "name": "stdout",
     "output_type": "stream",
     "text": [
      "Estadístic W = 0.4716\n",
      "Valor p = 0.0000\n",
      "El nombre de files no segueix una distribució normal.\n"
     ]
    }
   ],
   "execution_count": 18
  },
  {
   "metadata": {
    "ExecuteTime": {
     "end_time": "2024-04-22T07:40:13.703656Z",
     "start_time": "2024-04-22T07:40:13.691329Z"
    }
   },
   "cell_type": "code",
   "source": [
    "stat, p_value_12 = mannwhitneyu(AMB_PA['delirios'], AMB_PA_MECVV['delirios'], alternative='two-sided')\n",
    "print(\"P-valor entre AMB_PA i AMB_PA_MECVV\", p_value_12)"
   ],
   "id": "1b311cc28de8fcd3",
   "outputs": [
    {
     "name": "stdout",
     "output_type": "stream",
     "text": [
      "P-valor entre AMB_PA i AMB_PA_MECVV 0.39174655228054167\n"
     ]
    }
   ],
   "execution_count": 19
  },
  {
   "metadata": {
    "ExecuteTime": {
     "end_time": "2024-04-22T07:40:14.009740Z",
     "start_time": "2024-04-22T07:40:13.999993Z"
    }
   },
   "cell_type": "code",
   "source": [
    "stat, p_value_13 = mannwhitneyu(AMB_PA['delirios'], SENSE_PA['delirios'], alternative='two-sided')\n",
    "print(\"P-valor entre AMB_PA i SENSE_PA\", p_value_13)"
   ],
   "id": "ea1a6301c3ec1b28",
   "outputs": [
    {
     "name": "stdout",
     "output_type": "stream",
     "text": [
      "P-valor entre AMB_PA i SENSE_PA 0.6549000779898075\n"
     ]
    }
   ],
   "execution_count": 20
  },
  {
   "metadata": {
    "ExecuteTime": {
     "end_time": "2024-04-22T07:40:14.225995Z",
     "start_time": "2024-04-22T07:40:14.213489Z"
    }
   },
   "cell_type": "code",
   "source": [
    "stat, p_value_23 = mannwhitneyu(AMB_PA_MECVV['delirios'], SENSE_PA['delirios'], alternative='two-sided')\n",
    "print(\"P-valor entre AMB_PA_MECVV i SENSE_PA\", p_value_23)"
   ],
   "id": "68c1f5ee2e2f63e3",
   "outputs": [
    {
     "name": "stdout",
     "output_type": "stream",
     "text": [
      "P-valor entre AMB_PA_MECVV i SENSE_PA 0.13960802912048415\n"
     ]
    }
   ],
   "execution_count": 21
  },
  {
   "metadata": {},
   "cell_type": "markdown",
   "source": "## Demència",
   "id": "16a14a68a193ae88"
  },
  {
   "metadata": {
    "ExecuteTime": {
     "end_time": "2024-04-22T07:40:14.563685Z",
     "start_time": "2024-04-22T07:40:14.558120Z"
    }
   },
   "cell_type": "code",
   "source": [
    "dem_AMB_PA= (AMB_PA['demencia'] == 1.0).mean() * 100\n",
    "print(f\"Percentatge de demencia: {dem_AMB_PA:.2f}%\")"
   ],
   "id": "89610b223216b432",
   "outputs": [
    {
     "name": "stdout",
     "output_type": "stream",
     "text": [
      "Percentatge de demencia: 47.06%\n"
     ]
    }
   ],
   "execution_count": 22
  },
  {
   "metadata": {
    "ExecuteTime": {
     "end_time": "2024-04-22T07:40:14.851659Z",
     "start_time": "2024-04-22T07:40:14.845755Z"
    }
   },
   "cell_type": "code",
   "source": [
    "dem_AMB_PA_MECVV= (AMB_PA_MECVV['demencia'] == 1.0).mean() * 100\n",
    "print(f\"Percentatge de demencia: {dem_AMB_PA_MECVV:.2f}%\")"
   ],
   "id": "6973d5742c346036",
   "outputs": [
    {
     "name": "stdout",
     "output_type": "stream",
     "text": [
      "Percentatge de demencia: 40.00%\n"
     ]
    }
   ],
   "execution_count": 23
  },
  {
   "metadata": {
    "ExecuteTime": {
     "end_time": "2024-04-22T07:40:15.377749Z",
     "start_time": "2024-04-22T07:40:15.370623Z"
    }
   },
   "cell_type": "code",
   "source": [
    "dem_SENSE_PA= (SENSE_PA['demencia'] == 1.0).mean() * 100\n",
    "print(f\"Percentatge de demencia: {dem_SENSE_PA:.2f}%\")"
   ],
   "id": "3957a273bbf5cf16",
   "outputs": [
    {
     "name": "stdout",
     "output_type": "stream",
     "text": [
      "Percentatge de demencia: 30.61%\n"
     ]
    }
   ],
   "execution_count": 24
  },
  {
   "metadata": {},
   "cell_type": "markdown",
   "source": "#### Pvalor",
   "id": "2a5e901fb09a4fea"
  },
  {
   "metadata": {},
   "cell_type": "markdown",
   "source": "##### Normalitat",
   "id": "4d9eea90d8ee4a6b"
  },
  {
   "metadata": {
    "ExecuteTime": {
     "end_time": "2024-04-22T07:40:15.602215Z",
     "start_time": "2024-04-22T07:40:15.593002Z"
    }
   },
   "cell_type": "code",
   "source": [
    "stat, p_value = shapiro(AMB_PA['demencia'])\n",
    "print(f\"Estadístic W = {stat:.4f}\")\n",
    "print(f\"Valor p = {p_value:.4f}\")\n",
    "\n",
    "alpha = 0.05\n",
    "if p_value < alpha:\n",
    "    print(\"El nombre de files no segueix una distribució normal.\")\n",
    "else:\n",
    "    print(\"El nombre de files segueix una distribució normal\")"
   ],
   "id": "5263c8a2a09268c2",
   "outputs": [
    {
     "name": "stdout",
     "output_type": "stream",
     "text": [
      "Estadístic W = 0.6418\n",
      "Valor p = 0.0000\n",
      "El nombre de files no segueix una distribució normal.\n"
     ]
    }
   ],
   "execution_count": 25
  },
  {
   "metadata": {
    "ExecuteTime": {
     "end_time": "2024-04-22T07:40:15.913875Z",
     "start_time": "2024-04-22T07:40:15.902874Z"
    }
   },
   "cell_type": "code",
   "source": [
    "stat, p_value = shapiro(AMB_PA_MECVV['demencia'])\n",
    "print(f\"Estadístic W = {stat:.4f}\")\n",
    "print(f\"Valor p = {p_value:.4f}\")\n",
    "\n",
    "alpha = 0.05\n",
    "if p_value < alpha:\n",
    "    print(\"El nombre de files no segueix una distribució normal.\")\n",
    "else:\n",
    "    print(\"El nombre de files segueix una distribució normal\")"
   ],
   "id": "4af93daf881e0e26",
   "outputs": [
    {
     "name": "stdout",
     "output_type": "stream",
     "text": [
      "Estadístic W = 0.6405\n",
      "Valor p = 0.0002\n",
      "El nombre de files no segueix una distribució normal.\n"
     ]
    }
   ],
   "execution_count": 26
  },
  {
   "metadata": {
    "ExecuteTime": {
     "end_time": "2024-04-22T07:40:16.146590Z",
     "start_time": "2024-04-22T07:40:16.139390Z"
    }
   },
   "cell_type": "code",
   "source": [
    "stat, p_value = shapiro(SENSE_PA['delirios'])\n",
    "print(f\"Estadístic W = {stat:.4f}\")\n",
    "print(f\"Valor p = {p_value:.4f}\")\n",
    "\n",
    "alpha = 0.05\n",
    "if p_value < alpha:\n",
    "    print(\"El nombre de files no segueix una distribució normal.\")\n",
    "else:\n",
    "    print(\"El nombre de files segueix una distribució normal\")"
   ],
   "id": "944278fe0f4e6ce4",
   "outputs": [
    {
     "name": "stdout",
     "output_type": "stream",
     "text": [
      "Estadístic W = 0.4716\n",
      "Valor p = 0.0000\n",
      "El nombre de files no segueix una distribució normal.\n"
     ]
    }
   ],
   "execution_count": 27
  },
  {
   "metadata": {
    "ExecuteTime": {
     "end_time": "2024-04-22T07:40:16.498856Z",
     "start_time": "2024-04-22T07:40:16.488208Z"
    }
   },
   "cell_type": "code",
   "source": [
    "stat, p_value_12 = mannwhitneyu(AMB_PA['demencia'], AMB_PA_MECVV['demencia'], alternative='two-sided')\n",
    "print(\"P-valor entre AMB_PA i AMB_PA_MECVV\", p_value_12)"
   ],
   "id": "83f32b06ca57a099",
   "outputs": [
    {
     "name": "stdout",
     "output_type": "stream",
     "text": [
      "P-valor entre AMB_PA i AMB_PA_MECVV 0.7484826918143946\n"
     ]
    }
   ],
   "execution_count": 28
  },
  {
   "metadata": {
    "ExecuteTime": {
     "end_time": "2024-04-22T07:40:16.757217Z",
     "start_time": "2024-04-22T07:40:16.743694Z"
    }
   },
   "cell_type": "code",
   "source": [
    "stat, p_value_13 = mannwhitneyu(AMB_PA['demencia'], SENSE_PA['demencia'], alternative='two-sided')\n",
    "print(\"P-valor entre AMB_PA i SENSE_PA\", p_value_13)"
   ],
   "id": "e7b4ff975ef8cd6",
   "outputs": [
    {
     "name": "stdout",
     "output_type": "stream",
     "text": [
      "P-valor entre AMB_PA i SENSE_PA 0.22703869678020527\n"
     ]
    }
   ],
   "execution_count": 29
  },
  {
   "metadata": {
    "ExecuteTime": {
     "end_time": "2024-04-22T07:40:17.136168Z",
     "start_time": "2024-04-22T07:40:17.125534Z"
    }
   },
   "cell_type": "code",
   "source": [
    "stat, p_value_23 = mannwhitneyu(AMB_PA_MECVV['demencia'], SENSE_PA['demencia'], alternative='two-sided')\n",
    "print(\"P-valor entre AMB_PA_MECVV i SENSE_PA\", p_value_23)"
   ],
   "id": "a1baf61cd15f22ec",
   "outputs": [
    {
     "name": "stdout",
     "output_type": "stream",
     "text": [
      "P-valor entre AMB_PA_MECVV i SENSE_PA 0.5743933608939569\n"
     ]
    }
   ],
   "execution_count": 30
  },
  {
   "metadata": {},
   "cell_type": "markdown",
   "source": "## Síndrome depressiu",
   "id": "ea9bb083b2c8413e"
  },
  {
   "metadata": {
    "ExecuteTime": {
     "end_time": "2024-04-22T07:40:17.351812Z",
     "start_time": "2024-04-22T07:40:17.346038Z"
    }
   },
   "cell_type": "code",
   "source": [
    "depre_AMB_PA= (AMB_PA['sindrome_depresivo'] == 1.0).mean() * 100\n",
    "print(f\"Percentatge de síndrome depressiu: {depre_AMB_PA:.2f}%\")"
   ],
   "id": "5e6af44aba2e2219",
   "outputs": [
    {
     "name": "stdout",
     "output_type": "stream",
     "text": [
      "Percentatge de síndrome depressiu: 23.53%\n"
     ]
    }
   ],
   "execution_count": 31
  },
  {
   "metadata": {
    "ExecuteTime": {
     "end_time": "2024-04-22T07:40:17.654595Z",
     "start_time": "2024-04-22T07:40:17.644342Z"
    }
   },
   "cell_type": "code",
   "source": [
    "depre_AMB_PA_MECVV= (AMB_PA_MECVV['sindrome_depresivo'] == 1.0).mean() * 100\n",
    "print(f\"Percentatge de síndrome depressiu: {depre_AMB_PA_MECVV:.2f}%\")"
   ],
   "id": "6f73b773854e8aac",
   "outputs": [
    {
     "name": "stdout",
     "output_type": "stream",
     "text": [
      "Percentatge de síndrome depressiu: 0.00%\n"
     ]
    }
   ],
   "execution_count": 32
  },
  {
   "metadata": {
    "ExecuteTime": {
     "end_time": "2024-04-22T07:40:17.878570Z",
     "start_time": "2024-04-22T07:40:17.868690Z"
    }
   },
   "cell_type": "code",
   "source": [
    "depre_SENSE_PA= (SENSE_PA['sindrome_depresivo'] == 1.0).mean() * 100\n",
    "print(f\"Percentatge de síndrome depressiu: {depre_SENSE_PA:.2f}%\")"
   ],
   "id": "ed67fa6c2850b5d7",
   "outputs": [
    {
     "name": "stdout",
     "output_type": "stream",
     "text": [
      "Percentatge de síndrome depressiu: 14.29%\n"
     ]
    }
   ],
   "execution_count": 33
  },
  {
   "metadata": {},
   "cell_type": "markdown",
   "source": "#### Pvalor",
   "id": "77048791dbe5c0af"
  },
  {
   "metadata": {},
   "cell_type": "markdown",
   "source": "##### Normalitat",
   "id": "7ae02047e3559f07"
  },
  {
   "metadata": {
    "ExecuteTime": {
     "end_time": "2024-04-22T07:40:18.175060Z",
     "start_time": "2024-04-22T07:40:18.169194Z"
    }
   },
   "cell_type": "code",
   "source": [
    "stat, p_value = shapiro(AMB_PA['sindrome_depresivo'])\n",
    "print(f\"Estadístic W = {stat:.4f}\")\n",
    "print(f\"Valor p = {p_value:.4f}\")\n",
    "\n",
    "alpha = 0.05\n",
    "if p_value < alpha:\n",
    "    print(\"El nombre de files no segueix una distribució normal.\")\n",
    "else:\n",
    "    print(\"El nombre de files segueix una distribució normal\")"
   ],
   "id": "eef5277fe8e65edf",
   "outputs": [
    {
     "name": "stdout",
     "output_type": "stream",
     "text": [
      "Estadístic W = 0.5327\n",
      "Valor p = 0.0000\n",
      "El nombre de files no segueix una distribució normal.\n"
     ]
    }
   ],
   "execution_count": 34
  },
  {
   "metadata": {
    "ExecuteTime": {
     "end_time": "2024-04-22T07:40:18.452574Z",
     "start_time": "2024-04-22T07:40:18.445443Z"
    }
   },
   "cell_type": "code",
   "source": [
    "stat, p_value = shapiro(AMB_PA_MECVV['sindrome_depresivo'])\n",
    "print(f\"Estadístic W = {stat:.4f}\")\n",
    "print(f\"Valor p = {p_value:.4f}\")\n",
    "\n",
    "alpha = 0.05\n",
    "if p_value < alpha:\n",
    "    print(\"El nombre de files no segueix una distribució normal.\")\n",
    "else:\n",
    "    print(\"El nombre de files segueix una distribució normal\")"
   ],
   "id": "a0665c4b7b02c414",
   "outputs": [
    {
     "name": "stdout",
     "output_type": "stream",
     "text": [
      "Estadístic W = 1.0000\n",
      "Valor p = 1.0000\n",
      "El nombre de files segueix una distribució normal\n"
     ]
    }
   ],
   "execution_count": 35
  },
  {
   "metadata": {
    "ExecuteTime": {
     "end_time": "2024-04-22T07:40:18.874094Z",
     "start_time": "2024-04-22T07:40:18.862856Z"
    }
   },
   "cell_type": "code",
   "source": [
    "stat, p_value = shapiro(SENSE_PA['sindrome_depresivo'])\n",
    "print(f\"Estadístic W = {stat:.4f}\")\n",
    "print(f\"Valor p = {p_value:.4f}\")\n",
    "\n",
    "alpha = 0.05\n",
    "if p_value < alpha:\n",
    "    print(\"El nombre de files no segueix una distribució normal.\")\n",
    "else:\n",
    "    print(\"El nombre de files segueix una distribució normal\")"
   ],
   "id": "1efdd4f2ccc72046",
   "outputs": [
    {
     "name": "stdout",
     "output_type": "stream",
     "text": [
      "Estadístic W = 0.4168\n",
      "Valor p = 0.0000\n",
      "El nombre de files no segueix una distribució normal.\n"
     ]
    }
   ],
   "execution_count": 36
  },
  {
   "metadata": {
    "ExecuteTime": {
     "end_time": "2024-04-22T07:40:19.236731Z",
     "start_time": "2024-04-22T07:40:19.230582Z"
    }
   },
   "cell_type": "code",
   "source": [
    "stat, p_value_12 = mannwhitneyu(AMB_PA['sindrome_depresivo'], AMB_PA_MECVV['sindrome_depresivo'], alternative='two-sided')\n",
    "print(\"P-valor entre AMB_PA i AMB_PA_MECVV\", p_value_12)"
   ],
   "id": "7adb8a77607c2030",
   "outputs": [
    {
     "name": "stdout",
     "output_type": "stream",
     "text": [
      "P-valor entre AMB_PA i AMB_PA_MECVV 0.11180527770715322\n"
     ]
    }
   ],
   "execution_count": 37
  },
  {
   "metadata": {
    "ExecuteTime": {
     "end_time": "2024-04-22T07:40:19.568701Z",
     "start_time": "2024-04-22T07:40:19.558526Z"
    }
   },
   "cell_type": "code",
   "source": [
    "stat, p_value_13 = mannwhitneyu(AMB_PA['sindrome_depresivo'], SENSE_PA['sindrome_depresivo'], alternative='two-sided')\n",
    "print(\"P-valor entre AMB_PA i SENSE_PA\", p_value_13)"
   ],
   "id": "e47e376705cfa86",
   "outputs": [
    {
     "name": "stdout",
     "output_type": "stream",
     "text": [
      "P-valor entre AMB_PA i SENSE_PA 0.3880726918610017\n"
     ]
    }
   ],
   "execution_count": 38
  },
  {
   "metadata": {
    "ExecuteTime": {
     "end_time": "2024-04-22T07:40:19.898057Z",
     "start_time": "2024-04-22T07:40:19.886454Z"
    }
   },
   "cell_type": "code",
   "source": [
    "stat, p_value_23 = mannwhitneyu(AMB_PA_MECVV['sindrome_depresivo'], SENSE_PA['sindrome_depresivo'], alternative='two-sided')\n",
    "print(\"P-valor entre AMB_PA_MECVV i SENSE_PA\", p_value_23)"
   ],
   "id": "fef192746e282f69",
   "outputs": [
    {
     "name": "stdout",
     "output_type": "stream",
     "text": [
      "P-valor entre AMB_PA_MECVV i SENSE_PA 0.21340049774345338\n"
     ]
    }
   ],
   "execution_count": 39
  },
  {
   "metadata": {},
   "cell_type": "markdown",
   "source": "## Incontinència urinària",
   "id": "e692abea2c5a0bcf"
  },
  {
   "metadata": {
    "ExecuteTime": {
     "end_time": "2024-04-22T07:40:20.112088Z",
     "start_time": "2024-04-22T07:40:20.103783Z"
    }
   },
   "cell_type": "code",
   "source": [
    "ic_AMB_PA= (AMB_PA['incont_uri'] == 1.0).mean() * 100\n",
    "print(f\"Percentatge de incontinència urinària: {ic_AMB_PA:.2f}%\")"
   ],
   "id": "a10c39264fda8a45",
   "outputs": [
    {
     "name": "stdout",
     "output_type": "stream",
     "text": [
      "Percentatge de incontinència urinària: 29.41%\n"
     ]
    }
   ],
   "execution_count": 40
  },
  {
   "metadata": {
    "ExecuteTime": {
     "end_time": "2024-04-22T07:40:20.453996Z",
     "start_time": "2024-04-22T07:40:20.446923Z"
    }
   },
   "cell_type": "code",
   "source": [
    "ic_AMB_PA_MECVV= (AMB_PA_MECVV['incont_uri'] == 1.0).mean() * 100\n",
    "print(f\"Percentatge de incontinència urinària: {ic_AMB_PA_MECVV:.2f}%\")"
   ],
   "id": "626e726f57f8e3aa",
   "outputs": [
    {
     "name": "stdout",
     "output_type": "stream",
     "text": [
      "Percentatge de incontinència urinària: 30.00%\n"
     ]
    }
   ],
   "execution_count": 41
  },
  {
   "metadata": {
    "ExecuteTime": {
     "end_time": "2024-04-22T07:40:20.686911Z",
     "start_time": "2024-04-22T07:40:20.679300Z"
    }
   },
   "cell_type": "code",
   "source": [
    "ic_SENSE_PA= (SENSE_PA['incont_uri'] == 1.0).mean() * 100\n",
    "print(f\"Percentatge de incontinència urinària: {ic_SENSE_PA:.2f}%\")"
   ],
   "id": "2a4a3c62612b058c",
   "outputs": [
    {
     "name": "stdout",
     "output_type": "stream",
     "text": [
      "Percentatge de incontinència urinària: 14.29%\n"
     ]
    }
   ],
   "execution_count": 42
  },
  {
   "metadata": {},
   "cell_type": "markdown",
   "source": "#### Pvalor",
   "id": "f3d48cd438ce1485"
  },
  {
   "metadata": {},
   "cell_type": "markdown",
   "source": "##### Normalitat",
   "id": "8a88da3553a72086"
  },
  {
   "metadata": {
    "ExecuteTime": {
     "end_time": "2024-04-22T07:40:20.996933Z",
     "start_time": "2024-04-22T07:40:20.990814Z"
    }
   },
   "cell_type": "code",
   "source": [
    "stat, p_value = shapiro(AMB_PA['incont_uri'])\n",
    "print(f\"Estadístic W = {stat:.4f}\")\n",
    "print(f\"Valor p = {p_value:.4f}\")\n",
    "\n",
    "alpha = 0.05\n",
    "if p_value < alpha:\n",
    "    print(\"El nombre de files no segueix una distribució normal.\")\n",
    "else:\n",
    "    print(\"El nombre de files segueix una distribució normal\")"
   ],
   "id": "2cf0004f848a0a3d",
   "outputs": [
    {
     "name": "stdout",
     "output_type": "stream",
     "text": [
      "Estadístic W = 0.5785\n",
      "Valor p = 0.0000\n",
      "El nombre de files no segueix una distribució normal.\n"
     ]
    }
   ],
   "execution_count": 43
  },
  {
   "metadata": {
    "ExecuteTime": {
     "end_time": "2024-04-22T07:40:21.208797Z",
     "start_time": "2024-04-22T07:40:21.203371Z"
    }
   },
   "cell_type": "code",
   "source": [
    "stat, p_value = shapiro(AMB_PA_MECVV['incont_uri'])\n",
    "print(f\"Estadístic W = {stat:.4f}\")\n",
    "print(f\"Valor p = {p_value:.4f}\")\n",
    "\n",
    "alpha = 0.05\n",
    "if p_value < alpha:\n",
    "    print(\"El nombre de files no segueix una distribució normal.\")\n",
    "else:\n",
    "    print(\"El nombre de files segueix una distribució normal\")"
   ],
   "id": "2615ad7db3f0c1ea",
   "outputs": [
    {
     "name": "stdout",
     "output_type": "stream",
     "text": [
      "Estadístic W = 0.5942\n",
      "Valor p = 0.0000\n",
      "El nombre de files no segueix una distribució normal.\n"
     ]
    }
   ],
   "execution_count": 44
  },
  {
   "metadata": {
    "ExecuteTime": {
     "end_time": "2024-04-22T07:40:21.541015Z",
     "start_time": "2024-04-22T07:40:21.533510Z"
    }
   },
   "cell_type": "code",
   "source": [
    "stat, p_value = shapiro(SENSE_PA['incont_uri'])\n",
    "print(f\"Estadístic W = {stat:.4f}\")\n",
    "print(f\"Valor p = {p_value:.4f}\")\n",
    "\n",
    "alpha = 0.05\n",
    "if p_value < alpha:\n",
    "    print(\"El nombre de files no segueix una distribució normal.\")\n",
    "else:\n",
    "    print(\"El nombre de files segueix una distribució normal\")"
   ],
   "id": "1bb13adec047e9a0",
   "outputs": [
    {
     "name": "stdout",
     "output_type": "stream",
     "text": [
      "Estadístic W = 0.4168\n",
      "Valor p = 0.0000\n",
      "El nombre de files no segueix una distribució normal.\n"
     ]
    }
   ],
   "execution_count": 45
  },
  {
   "metadata": {
    "ExecuteTime": {
     "end_time": "2024-04-22T07:40:21.817043Z",
     "start_time": "2024-04-22T07:40:21.807051Z"
    }
   },
   "cell_type": "code",
   "source": [
    "stat, p_value_12 = mannwhitneyu(AMB_PA['incont_uri'], AMB_PA_MECVV['incont_uri'], alternative='two-sided')\n",
    "print(\"P-valor entre AMB_PA i AMB_PA_MECVV\", p_value_12)"
   ],
   "id": "65960e4e13cab2cb",
   "outputs": [
    {
     "name": "stdout",
     "output_type": "stream",
     "text": [
      "P-valor entre AMB_PA i AMB_PA_MECVV 1.0\n"
     ]
    }
   ],
   "execution_count": 46
  },
  {
   "metadata": {
    "ExecuteTime": {
     "end_time": "2024-04-22T07:40:22.137542Z",
     "start_time": "2024-04-22T07:40:22.131409Z"
    }
   },
   "cell_type": "code",
   "source": [
    "stat, p_value_13 = mannwhitneyu(AMB_PA['incont_uri'], SENSE_PA['incont_uri'], alternative='two-sided')\n",
    "print(\"P-valor entre AMB_PA i SENSE_PA\", p_value_13)"
   ],
   "id": "5ae80fc41bf7cab2",
   "outputs": [
    {
     "name": "stdout",
     "output_type": "stream",
     "text": [
      "P-valor entre AMB_PA i SENSE_PA 0.17015925929193942\n"
     ]
    }
   ],
   "execution_count": 47
  },
  {
   "metadata": {
    "ExecuteTime": {
     "end_time": "2024-04-22T07:40:22.287354Z",
     "start_time": "2024-04-22T07:40:22.281276Z"
    }
   },
   "cell_type": "code",
   "source": [
    "stat, p_value_23 = mannwhitneyu(AMB_PA_MECVV['incont_uri'], SENSE_PA['incont_uri'], alternative='two-sided')\n",
    "print(\"P-valor entre AMB_PA_MECVV i SENSE_PA\", p_value_23)"
   ],
   "id": "7d19627ed95c9830",
   "outputs": [
    {
     "name": "stdout",
     "output_type": "stream",
     "text": [
      "P-valor entre AMB_PA_MECVV i SENSE_PA 0.237514563226218\n"
     ]
    }
   ],
   "execution_count": 48
  },
  {
   "metadata": {},
   "cell_type": "markdown",
   "source": "## Incontinència fecal ",
   "id": "ef750cb6e374d153"
  },
  {
   "metadata": {
    "ExecuteTime": {
     "end_time": "2024-04-22T07:40:22.640534Z",
     "start_time": "2024-04-22T07:40:22.629104Z"
    }
   },
   "cell_type": "code",
   "source": [
    "ifec_AMB_PA= (AMB_PA['incont_fec'] == 1.0).mean() * 100\n",
    "print(f\"Percentatge de incontinència fecal: {ifec_AMB_PA:.2f}%\")"
   ],
   "id": "f200aaa97ddfb132",
   "outputs": [
    {
     "name": "stdout",
     "output_type": "stream",
     "text": [
      "Percentatge de incontinència fecal: 29.41%\n"
     ]
    }
   ],
   "execution_count": 49
  },
  {
   "metadata": {
    "ExecuteTime": {
     "end_time": "2024-04-22T07:40:22.946714Z",
     "start_time": "2024-04-22T07:40:22.935096Z"
    }
   },
   "cell_type": "code",
   "source": [
    "ifec_AMB_PA_MECVV= (AMB_PA_MECVV['incont_fec'] == 1.0).mean() * 100\n",
    "print(f\"Percentatge de incontinència fecal: {ifec_AMB_PA_MECVV:.2f}%\")"
   ],
   "id": "508afd800ecbb722",
   "outputs": [
    {
     "name": "stdout",
     "output_type": "stream",
     "text": [
      "Percentatge de incontinència fecal: 10.00%\n"
     ]
    }
   ],
   "execution_count": 50
  },
  {
   "metadata": {
    "ExecuteTime": {
     "end_time": "2024-04-22T07:40:23.220645Z",
     "start_time": "2024-04-22T07:40:23.215081Z"
    }
   },
   "cell_type": "code",
   "source": [
    "ifec_SENSE_PA= (SENSE_PA['incont_fec'] == 1.0).mean() * 100\n",
    "print(f\"Percentatge de incontinència fecal: {ifec_SENSE_PA:.2f}%\")"
   ],
   "id": "e7d0045ab7ee995b",
   "outputs": [
    {
     "name": "stdout",
     "output_type": "stream",
     "text": [
      "Percentatge de incontinència fecal: 12.24%\n"
     ]
    }
   ],
   "execution_count": 51
  },
  {
   "metadata": {},
   "cell_type": "markdown",
   "source": "#### Pvalor",
   "id": "f57e9c2b1011455f"
  },
  {
   "metadata": {},
   "cell_type": "markdown",
   "source": "##### Normalitat",
   "id": "a09c93982467480a"
  },
  {
   "metadata": {
    "ExecuteTime": {
     "end_time": "2024-04-22T07:40:23.585390Z",
     "start_time": "2024-04-22T07:40:23.573439Z"
    }
   },
   "cell_type": "code",
   "source": [
    "stat, p_value = shapiro(AMB_PA['incont_fec'])\n",
    "print(f\"Estadístic W = {stat:.4f}\")\n",
    "print(f\"Valor p = {p_value:.4f}\")\n",
    "\n",
    "alpha = 0.05\n",
    "if p_value < alpha:\n",
    "    print(\"El nombre de files no segueix una distribució normal.\")\n",
    "else:\n",
    "    print(\"El nombre de files segueix una distribució normal\")"
   ],
   "id": "fe0a97831b34aa2b",
   "outputs": [],
   "execution_count": 52
  },
  {
   "metadata": {
    "ExecuteTime": {
     "end_time": "2024-04-22T07:40:23.939959Z",
     "start_time": "2024-04-22T07:40:23.934045Z"
    }
   },
   "cell_type": "code",
   "source": [
    "stat, p_value = shapiro(AMB_PA_MECVV['incont_fec'])\n",
    "print(f\"Estadístic W = {stat:.4f}\")\n",
    "print(f\"Valor p = {p_value:.4f}\")\n",
    "\n",
    "alpha = 0.05\n",
    "if p_value < alpha:\n",
    "    print(\"El nombre de files no segueix una distribució normal.\")\n",
    "else:\n",
    "    print(\"El nombre de files segueix una distribució normal\")"
   ],
   "id": "514cf02fbf65b3d2",
   "outputs": [
    {
     "name": "stdout",
     "output_type": "stream",
     "text": [
      "Estadístic W = 0.3657\n",
      "Valor p = 0.0000\n",
      "El nombre de files no segueix una distribució normal.\n"
     ]
    }
   ],
   "execution_count": 53
  },
  {
   "metadata": {
    "ExecuteTime": {
     "end_time": "2024-04-22T07:40:24.222484Z",
     "start_time": "2024-04-22T07:40:24.215224Z"
    }
   },
   "cell_type": "code",
   "source": [
    "stat, p_value = shapiro(SENSE_PA['incont_fec'])\n",
    "print(f\"Estadístic W = {stat:.4f}\")\n",
    "print(f\"Valor p = {p_value:.4f}\")\n",
    "\n",
    "alpha = 0.05\n",
    "if p_value < alpha:\n",
    "    print(\"El nombre de files no segueix una distribució normal.\")\n",
    "else:\n",
    "    print(\"El nombre de files segueix una distribució normal\")"
   ],
   "id": "292234fc524f36f",
   "outputs": [
    {
     "name": "stdout",
     "output_type": "stream",
     "text": [
      "Estadístic W = 0.3844\n",
      "Valor p = 0.0000\n",
      "El nombre de files no segueix una distribució normal.\n"
     ]
    }
   ],
   "execution_count": 54
  },
  {
   "metadata": {
    "ExecuteTime": {
     "end_time": "2024-04-22T07:40:24.515561Z",
     "start_time": "2024-04-22T07:40:24.507304Z"
    }
   },
   "cell_type": "code",
   "source": [
    "stat, p_value_12 = mannwhitneyu(AMB_PA['incont_fec'], AMB_PA_MECVV['incont_fec'], alternative='two-sided')\n",
    "print(\"P-valor entre AMB_PA i AMB_PA_MECVV\", p_value_12)"
   ],
   "id": "a06cd69ec62e5411",
   "outputs": [
    {
     "name": "stdout",
     "output_type": "stream",
     "text": [
      "P-valor entre AMB_PA i AMB_PA_MECVV 0.2649031747093591\n"
     ]
    }
   ],
   "execution_count": 55
  },
  {
   "metadata": {
    "ExecuteTime": {
     "end_time": "2024-04-22T07:40:24.697352Z",
     "start_time": "2024-04-22T07:40:24.688264Z"
    }
   },
   "cell_type": "code",
   "source": [
    "stat, p_value_13 = mannwhitneyu(AMB_PA['incont_fec'], SENSE_PA['incont_fec'], alternative='two-sided')\n",
    "print(\"P-valor entre AMB_PA i SENSE_PA\", p_value_13)"
   ],
   "id": "864ff584027489f6",
   "outputs": [
    {
     "name": "stdout",
     "output_type": "stream",
     "text": [
      "P-valor entre AMB_PA i SENSE_PA 0.10681676423525503\n"
     ]
    }
   ],
   "execution_count": 56
  },
  {
   "metadata": {
    "ExecuteTime": {
     "end_time": "2024-04-22T07:40:25.049322Z",
     "start_time": "2024-04-22T07:40:25.034689Z"
    }
   },
   "cell_type": "code",
   "source": [
    "stat, p_value_23 = mannwhitneyu(AMB_PA_MECVV['incont_fec'], SENSE_PA['incont_fec'], alternative='two-sided')\n",
    "print(\"P-valor entre AMB_PA_MECVV i SENSE_PA\", p_value_23)"
   ],
   "id": "2a73a088a4149351",
   "outputs": [
    {
     "name": "stdout",
     "output_type": "stream",
     "text": [
      "P-valor entre AMB_PA_MECVV i SENSE_PA 0.8568943909879498\n"
     ]
    }
   ],
   "execution_count": 57
  },
  {
   "metadata": {},
   "cell_type": "markdown",
   "source": "## Úlceres de pressió",
   "id": "65897a5e1d05b6b6"
  },
  {
   "metadata": {
    "ExecuteTime": {
     "end_time": "2024-04-22T07:40:25.240100Z",
     "start_time": "2024-04-22T07:40:25.232454Z"
    }
   },
   "cell_type": "code",
   "source": [
    "up_AMB_PA= (AMB_PA['ulceras_presion'] == 1.0).mean() * 100\n",
    "print(f\"Percentatge de úlceres de pressió: {up_AMB_PA:.2f}%\")"
   ],
   "id": "bcd7bdbcf538274a",
   "outputs": [
    {
     "name": "stdout",
     "output_type": "stream",
     "text": [
      "Percentatge de úlceres de pressió: 5.88%\n"
     ]
    }
   ],
   "execution_count": 58
  },
  {
   "metadata": {
    "ExecuteTime": {
     "end_time": "2024-04-22T07:40:25.651205Z",
     "start_time": "2024-04-22T07:40:25.645736Z"
    }
   },
   "cell_type": "code",
   "source": [
    "up_AMB_PA_MECVV= (AMB_PA_MECVV['ulceras_presion'] == 1.0).mean() * 100\n",
    "print(f\"Percentatge de úlceres de pressió: {up_AMB_PA_MECVV:.2f}%\")"
   ],
   "id": "60a8a4eb517c269e",
   "outputs": [
    {
     "name": "stdout",
     "output_type": "stream",
     "text": [
      "Percentatge de úlceres de pressió: 0.00%\n"
     ]
    }
   ],
   "execution_count": 59
  },
  {
   "metadata": {
    "ExecuteTime": {
     "end_time": "2024-04-22T07:40:25.853006Z",
     "start_time": "2024-04-22T07:40:25.846194Z"
    }
   },
   "cell_type": "code",
   "source": [
    "up_SENSE_PA= (SENSE_PA['ulceras_presion'] == 1.0).mean() * 100\n",
    "print(f\"Percentatge de úlceres de pressió: {up_SENSE_PA:.2f}%\")"
   ],
   "id": "4f223a88742c194a",
   "outputs": [
    {
     "name": "stdout",
     "output_type": "stream",
     "text": [
      "Percentatge de úlceres de pressió: 2.04%\n"
     ]
    }
   ],
   "execution_count": 60
  },
  {
   "metadata": {},
   "cell_type": "markdown",
   "source": "#### Pvalor",
   "id": "c3fe3f599bce65ef"
  },
  {
   "metadata": {},
   "cell_type": "markdown",
   "source": "##### Normalitat",
   "id": "930dd9949adee28b"
  },
  {
   "metadata": {
    "ExecuteTime": {
     "end_time": "2024-04-22T07:40:26.196819Z",
     "start_time": "2024-04-22T07:40:26.184203Z"
    }
   },
   "cell_type": "code",
   "source": [
    "stat, p_value = shapiro(AMB_PA['ulceras_presion'])\n",
    "print(f\"Estadístic W = {stat:.4f}\")\n",
    "print(f\"Valor p = {p_value:.4f}\")\n",
    "\n",
    "alpha = 0.05\n",
    "if p_value < alpha:\n",
    "    print(\"El nombre de files no segueix una distribució normal.\")\n",
    "else:\n",
    "    print(\"El nombre de files segueix una distribució normal\")"
   ],
   "id": "d50787664b68bc94",
   "outputs": [
    {
     "name": "stdout",
     "output_type": "stream",
     "text": [
      "Estadístic W = 0.2622\n",
      "Valor p = 0.0000\n",
      "El nombre de files no segueix una distribució normal.\n"
     ]
    }
   ],
   "execution_count": 61
  },
  {
   "metadata": {
    "ExecuteTime": {
     "end_time": "2024-04-22T07:40:26.399194Z",
     "start_time": "2024-04-22T07:40:26.389736Z"
    }
   },
   "cell_type": "code",
   "source": [
    "stat, p_value = shapiro(AMB_PA_MECVV['ulceras_presion'])\n",
    "print(f\"Estadístic W = {stat:.4f}\")\n",
    "print(f\"Valor p = {p_value:.4f}\")\n",
    "\n",
    "alpha = 0.05\n",
    "if p_value < alpha:\n",
    "    print(\"El nombre de files no segueix una distribució normal.\")\n",
    "else:\n",
    "    print(\"El nombre de files segueix una distribució normal\")"
   ],
   "id": "19799093c5abeaea",
   "outputs": [
    {
     "name": "stdout",
     "output_type": "stream",
     "text": [
      "Estadístic W = 1.0000\n",
      "Valor p = 1.0000\n",
      "El nombre de files segueix una distribució normal\n"
     ]
    }
   ],
   "execution_count": 62
  },
  {
   "metadata": {
    "ExecuteTime": {
     "end_time": "2024-04-22T07:40:26.746211Z",
     "start_time": "2024-04-22T07:40:26.738333Z"
    }
   },
   "cell_type": "code",
   "source": [
    "stat, p_value = shapiro(SENSE_PA['ulceras_presion'])\n",
    "print(f\"Estadístic W = {stat:.4f}\")\n",
    "print(f\"Valor p = {p_value:.4f}\")\n",
    "\n",
    "alpha = 0.05\n",
    "if p_value < alpha:\n",
    "    print(\"El nombre de files no segueix una distribució normal.\")\n",
    "else:\n",
    "    print(\"El nombre de files segueix una distribució normal\")"
   ],
   "id": "3cca1f862eaa0767",
   "outputs": [
    {
     "name": "stdout",
     "output_type": "stream",
     "text": [
      "Estadístic W = 0.1273\n",
      "Valor p = 0.0000\n",
      "El nombre de files no segueix una distribució normal.\n"
     ]
    }
   ],
   "execution_count": 63
  },
  {
   "metadata": {
    "ExecuteTime": {
     "end_time": "2024-04-22T07:40:27.007075Z",
     "start_time": "2024-04-22T07:40:26.998594Z"
    }
   },
   "cell_type": "code",
   "source": [
    "stat, p_value_12 = mannwhitneyu(AMB_PA['ulceras_presion'], AMB_PA_MECVV['ulceras_presion'], alternative='two-sided')\n",
    "print(\"P-valor entre AMB_PA i AMB_PA_MECVV\", p_value_12)"
   ],
   "id": "6293a3abfe3649ba",
   "outputs": [
    {
     "name": "stdout",
     "output_type": "stream",
     "text": [
      "P-valor entre AMB_PA i AMB_PA_MECVV 0.49002535950179893\n"
     ]
    }
   ],
   "execution_count": 64
  },
  {
   "metadata": {
    "ExecuteTime": {
     "end_time": "2024-04-22T07:40:27.304478Z",
     "start_time": "2024-04-22T07:40:27.298123Z"
    }
   },
   "cell_type": "code",
   "source": [
    "stat, p_value_13 = mannwhitneyu(AMB_PA['ulceras_presion'], SENSE_PA['ulceras_presion'], alternative='two-sided')\n",
    "print(\"P-valor entre AMB_PA i SENSE_PA\", p_value_13)"
   ],
   "id": "3ba7e80f539a2cd8",
   "outputs": [
    {
     "name": "stdout",
     "output_type": "stream",
     "text": [
      "P-valor entre AMB_PA i SENSE_PA 0.4440308448923743\n"
     ]
    }
   ],
   "execution_count": 65
  },
  {
   "metadata": {
    "ExecuteTime": {
     "end_time": "2024-04-22T07:40:27.502311Z",
     "start_time": "2024-04-22T07:40:27.494228Z"
    }
   },
   "cell_type": "code",
   "source": [
    "stat, p_value_23 = mannwhitneyu(AMB_PA_MECVV['ulceras_presion'], SENSE_PA['ulceras_presion'], alternative='two-sided')\n",
    "print(\"P-valor entre AMB_PA_MECVV i SENSE_PA\", p_value_23)"
   ],
   "id": "2119f64854a199b9",
   "outputs": [
    {
     "name": "stdout",
     "output_type": "stream",
     "text": [
      "P-valor entre AMB_PA_MECVV i SENSE_PA 0.6843175494727258\n"
     ]
    }
   ],
   "execution_count": 66
  },
  {
   "metadata": {},
   "cell_type": "markdown",
   "source": "## Immobilitat",
   "id": "9a5af8b151f24d"
  },
  {
   "metadata": {
    "ExecuteTime": {
     "end_time": "2024-04-22T07:42:57.829980Z",
     "start_time": "2024-04-22T07:42:57.819318Z"
    }
   },
   "cell_type": "code",
   "source": [
    "imm_AMB_PA= (AMB_PA['immobilitat'] == 1.0).mean() * 100\n",
    "print(f\"Percentatge d'immobilitat : {imm_AMB_PA:.2f}%\")"
   ],
   "id": "20403b79d0d107f1",
   "outputs": [
    {
     "name": "stdout",
     "output_type": "stream",
     "text": [
      "Percentatge d'immobilitat : 0.00%\n"
     ]
    }
   ],
   "execution_count": 194
  },
  {
   "metadata": {
    "ExecuteTime": {
     "end_time": "2024-04-22T07:43:25.198379Z",
     "start_time": "2024-04-22T07:43:25.191668Z"
    }
   },
   "cell_type": "code",
   "source": [
    "imm_AMB_PA_MECVV= (AMB_PA_MECVV['immobilitat'] == 1.0).mean() * 100\n",
    "print(f\"Percentatge d'immobilitat : {imm_AMB_PA_MECVV:.2f}%\")"
   ],
   "id": "c0213526b1aa2176",
   "outputs": [
    {
     "name": "stdout",
     "output_type": "stream",
     "text": [
      "Percentatge d'immobilitat : 0.00%\n"
     ]
    }
   ],
   "execution_count": 195
  },
  {
   "metadata": {
    "ExecuteTime": {
     "end_time": "2024-04-22T07:43:45.255735Z",
     "start_time": "2024-04-22T07:43:45.248203Z"
    }
   },
   "cell_type": "code",
   "source": [
    "imm_SENSE_PA= (SENSE_PA['immobilitat'] == 1.0).mean() * 100\n",
    "print(f\"Percentatge d'immobilitat : {imm_SENSE_PA:.2f}%\")"
   ],
   "id": "74a797ae927f6554",
   "outputs": [
    {
     "name": "stdout",
     "output_type": "stream",
     "text": [
      "Percentatge d'immobilitat : 0.00%\n"
     ]
    }
   ],
   "execution_count": 196
  },
  {
   "metadata": {},
   "cell_type": "markdown",
   "source": "#### Pvalor",
   "id": "be6caeebf7499d9b"
  },
  {
   "metadata": {},
   "cell_type": "markdown",
   "source": "##### Normalitat",
   "id": "aa4a2989248ba61e"
  },
  {
   "metadata": {
    "ExecuteTime": {
     "end_time": "2024-04-22T07:48:41.554105Z",
     "start_time": "2024-04-22T07:48:41.547851Z"
    }
   },
   "cell_type": "code",
   "source": [
    "stat, p_value = shapiro(AMB_PA['immobilitat'])\n",
    "print(f\"Estadístic W = {stat:.4f}\")\n",
    "print(f\"Valor p = {p_value:.4f}\")\n",
    "\n",
    "alpha = 0.05\n",
    "if p_value < alpha:\n",
    "    print(\"El nombre de files no segueix una distribució normal.\")\n",
    "else:\n",
    "    print(\"El nombre de files segueix una distribució normal\")"
   ],
   "id": "ce59d8aa3cdde852",
   "outputs": [
    {
     "name": "stdout",
     "output_type": "stream",
     "text": [
      "Estadístic W = 1.0000\n",
      "Valor p = 1.0000\n",
      "El nombre de files segueix una distribució normal\n"
     ]
    },
    {
     "name": "stderr",
     "output_type": "stream",
     "text": [
      "C:\\Users\\maria\\PycharmProjects\\practicum\\.venv\\Lib\\site-packages\\scipy\\stats\\_axis_nan_policy.py:531: UserWarning: scipy.stats.shapiro: Input data has range zero. The results may not be accurate.\n",
      "  res = hypotest_fun_out(*samples, **kwds)\n"
     ]
    }
   ],
   "execution_count": 204
  },
  {
   "metadata": {
    "ExecuteTime": {
     "end_time": "2024-04-22T07:47:52.365798Z",
     "start_time": "2024-04-22T07:47:52.358803Z"
    }
   },
   "cell_type": "code",
   "source": [
    "stat, p_value = shapiro(AMB_PA_MECVV['immobilitat'])\n",
    "print(f\"Estadístic W = {stat:.4f}\")\n",
    "print(f\"Valor p = {p_value:.4f}\")\n",
    "\n",
    "alpha = 0.05\n",
    "if p_value < alpha:\n",
    "    print(\"El nombre de files no segueix una distribució normal.\")\n",
    "else:\n",
    "    print(\"El nombre de files segueix una distribució normal\")"
   ],
   "id": "2b043412d8910c5f",
   "outputs": [
    {
     "name": "stdout",
     "output_type": "stream",
     "text": [
      "Estadístic W = 1.0000\n",
      "Valor p = 1.0000\n",
      "El nombre de files segueix una distribució normal\n"
     ]
    },
    {
     "name": "stderr",
     "output_type": "stream",
     "text": [
      "C:\\Users\\maria\\PycharmProjects\\practicum\\.venv\\Lib\\site-packages\\scipy\\stats\\_axis_nan_policy.py:531: UserWarning: scipy.stats.shapiro: Input data has range zero. The results may not be accurate.\n",
      "  res = hypotest_fun_out(*samples, **kwds)\n"
     ]
    }
   ],
   "execution_count": 201
  },
  {
   "metadata": {
    "ExecuteTime": {
     "end_time": "2024-04-22T07:47:58.264035Z",
     "start_time": "2024-04-22T07:47:58.256363Z"
    }
   },
   "cell_type": "code",
   "source": [
    "stat, p_value = shapiro(SENSE_PA['immobilitat'])\n",
    "print(f\"Estadístic W = {stat:.4f}\")\n",
    "print(f\"Valor p = {p_value:.4f}\")\n",
    "\n",
    "alpha = 0.05\n",
    "if p_value < alpha:\n",
    "    print(\"El nombre de files no segueix una distribució normal.\")\n",
    "else:\n",
    "    print(\"El nombre de files segueix una distribució normal\")"
   ],
   "id": "2ca3e52029b48710",
   "outputs": [
    {
     "name": "stdout",
     "output_type": "stream",
     "text": [
      "Estadístic W = 1.0000\n",
      "Valor p = 1.0000\n",
      "El nombre de files segueix una distribució normal\n"
     ]
    },
    {
     "name": "stderr",
     "output_type": "stream",
     "text": [
      "C:\\Users\\maria\\PycharmProjects\\practicum\\.venv\\Lib\\site-packages\\scipy\\stats\\_axis_nan_policy.py:531: UserWarning: scipy.stats.shapiro: Input data has range zero. The results may not be accurate.\n",
      "  res = hypotest_fun_out(*samples, **kwds)\n"
     ]
    }
   ],
   "execution_count": 202
  },
  {
   "metadata": {
    "ExecuteTime": {
     "end_time": "2024-04-22T07:50:26.473247Z",
     "start_time": "2024-04-22T07:50:26.463501Z"
    }
   },
   "cell_type": "code",
   "source": [
    "stat, p_value_12 = ttest_ind(AMB_PA['immobilitat'], AMB_PA_MECVV['immobilitat'], equal_var=False)\n",
    "print(\"P-valor entre AMB_PA i AMB_PA_MECVV\", p_value_12)"
   ],
   "id": "105064a7aa9dc9d8",
   "outputs": [
    {
     "name": "stdout",
     "output_type": "stream",
     "text": [
      "P-valor entre AMB_PA i AMB_PA_MECVV nan\n"
     ]
    }
   ],
   "execution_count": 207
  },
  {
   "metadata": {
    "ExecuteTime": {
     "end_time": "2024-04-22T07:51:10.089868Z",
     "start_time": "2024-04-22T07:51:10.082165Z"
    }
   },
   "cell_type": "code",
   "source": [
    "stat, p_value_13 = ttest_ind(AMB_PA['immobilitat'], SENSE_PA['immobilitat'], equal_var=False)\n",
    "print(\"P-valor entre AMB_PA i SENSE_PA\", p_value_13)"
   ],
   "id": "2d3377e567434550",
   "outputs": [
    {
     "name": "stdout",
     "output_type": "stream",
     "text": [
      "P-valor entre AMB_PA i SENSE_PA nan\n"
     ]
    }
   ],
   "execution_count": 209
  },
  {
   "metadata": {
    "ExecuteTime": {
     "end_time": "2024-04-22T07:51:21.221700Z",
     "start_time": "2024-04-22T07:51:21.212198Z"
    }
   },
   "cell_type": "code",
   "source": [
    "stat, p_value_23 = ttest_ind(AMB_PA_MECVV['immobilitat'], SENSE_PA['immobilitat'], equal_var=False)\n",
    "print(\"P-valor entre AMB_PA_MECVV i SENSE_PA\", p_value_23)"
   ],
   "id": "e1b737f2b2eb5d6a",
   "outputs": [
    {
     "name": "stdout",
     "output_type": "stream",
     "text": [
      "P-valor entre AMB_PA_MECVV i SENSE_PA nan\n"
     ]
    }
   ],
   "execution_count": 210
  },
  {
   "metadata": {},
   "cell_type": "markdown",
   "source": "## Confusió",
   "id": "8ec2d07541f7c217"
  },
  {
   "metadata": {
    "ExecuteTime": {
     "end_time": "2024-04-22T07:44:39.173521Z",
     "start_time": "2024-04-22T07:44:39.165366Z"
    }
   },
   "cell_type": "code",
   "source": [
    "conf_AMB_PA= (AMB_PA['confusio'] == 1.0).mean() * 100\n",
    "print(f\"Percentatge de confusió : {conf_AMB_PA:.2f}%\")"
   ],
   "id": "c2abcafcb2c060aa",
   "outputs": [
    {
     "name": "stdout",
     "output_type": "stream",
     "text": [
      "Percentatge de confusió : 23.53%\n"
     ]
    }
   ],
   "execution_count": 197
  },
  {
   "metadata": {
    "ExecuteTime": {
     "end_time": "2024-04-22T07:44:54.433689Z",
     "start_time": "2024-04-22T07:44:54.423901Z"
    }
   },
   "cell_type": "code",
   "source": [
    "conf_AMB_PA_MECVV= (AMB_PA_MECVV['confusio'] == 1.0).mean() * 100\n",
    "print(f\"Percentatge de confusió : {conf_AMB_PA_MECVV:.2f}%\")"
   ],
   "id": "941d58bd902a33ba",
   "outputs": [
    {
     "name": "stdout",
     "output_type": "stream",
     "text": [
      "Percentatge de confusió : 40.00%\n"
     ]
    }
   ],
   "execution_count": 198
  },
  {
   "metadata": {
    "ExecuteTime": {
     "end_time": "2024-04-22T07:45:07.425197Z",
     "start_time": "2024-04-22T07:45:07.414966Z"
    }
   },
   "cell_type": "code",
   "source": [
    "conf_SENSE_PA= (SENSE_PA['confusio'] == 1.0).mean() * 100\n",
    "print(f\"Percentatge de confusió : {conf_SENSE_PA:.2f}%\")"
   ],
   "id": "c0af511c6c97d577",
   "outputs": [
    {
     "name": "stdout",
     "output_type": "stream",
     "text": [
      "Percentatge de confusió : 18.37%\n"
     ]
    }
   ],
   "execution_count": 199
  },
  {
   "metadata": {},
   "cell_type": "markdown",
   "source": "#### Pvalor",
   "id": "9e49773c6fbd88f"
  },
  {
   "metadata": {},
   "cell_type": "markdown",
   "source": "##### Normalitat",
   "id": "ea0b0c90affa5182"
  },
  {
   "metadata": {
    "ExecuteTime": {
     "end_time": "2024-04-22T07:55:03.013450Z",
     "start_time": "2024-04-22T07:55:03.005368Z"
    }
   },
   "cell_type": "code",
   "source": [
    "stat, p_value = shapiro(AMB_PA['confusio'])\n",
    "print(f\"Estadístic W = {stat:.4f}\")\n",
    "print(f\"Valor p = {p_value:.4f}\")\n",
    "\n",
    "alpha = 0.05\n",
    "if p_value < alpha:\n",
    "    print(\"El nombre de files no segueix una distribució normal.\")\n",
    "else:\n",
    "    print(\"El nombre de files segueix una distribució normal\")"
   ],
   "id": "78e2674a568bf995",
   "outputs": [
    {
     "name": "stdout",
     "output_type": "stream",
     "text": [
      "Estadístic W = 0.5327\n",
      "Valor p = 0.0000\n",
      "El nombre de files no segueix una distribució normal.\n"
     ]
    }
   ],
   "execution_count": 211
  },
  {
   "metadata": {
    "ExecuteTime": {
     "end_time": "2024-04-22T07:55:12.973715Z",
     "start_time": "2024-04-22T07:55:12.960044Z"
    }
   },
   "cell_type": "code",
   "source": [
    "stat, p_value = shapiro(AMB_PA_MECVV['confusio'])\n",
    "print(f\"Estadístic W = {stat:.4f}\")\n",
    "print(f\"Valor p = {p_value:.4f}\")\n",
    "\n",
    "alpha = 0.05\n",
    "if p_value < alpha:\n",
    "    print(\"El nombre de files no segueix una distribució normal.\")\n",
    "else:\n",
    "    print(\"El nombre de files segueix una distribució normal\")"
   ],
   "id": "d1e12db663b6a610",
   "outputs": [
    {
     "name": "stdout",
     "output_type": "stream",
     "text": [
      "Estadístic W = 0.6405\n",
      "Valor p = 0.0002\n",
      "El nombre de files no segueix una distribució normal.\n"
     ]
    }
   ],
   "execution_count": 212
  },
  {
   "metadata": {
    "ExecuteTime": {
     "end_time": "2024-04-22T07:55:23.283761Z",
     "start_time": "2024-04-22T07:55:23.274202Z"
    }
   },
   "cell_type": "code",
   "source": [
    "stat, p_value = shapiro(SENSE_PA['confusio'])\n",
    "print(f\"Estadístic W = {stat:.4f}\")\n",
    "print(f\"Valor p = {p_value:.4f}\")\n",
    "\n",
    "alpha = 0.05\n",
    "if p_value < alpha:\n",
    "    print(\"El nombre de files no segueix una distribució normal.\")\n",
    "else:\n",
    "    print(\"El nombre de files segueix una distribució normal\")"
   ],
   "id": "9d32a0a86340661f",
   "outputs": [
    {
     "name": "stdout",
     "output_type": "stream",
     "text": [
      "Estadístic W = 0.4716\n",
      "Valor p = 0.0000\n",
      "El nombre de files no segueix una distribució normal.\n"
     ]
    }
   ],
   "execution_count": 213
  },
  {
   "metadata": {
    "ExecuteTime": {
     "end_time": "2024-04-22T07:56:02.123712Z",
     "start_time": "2024-04-22T07:56:02.112860Z"
    }
   },
   "cell_type": "code",
   "source": [
    "stat, p_value_12 = mannwhitneyu(AMB_PA['confusio'], AMB_PA_MECVV['confusio'], alternative='two-sided')\n",
    "print(\"P-valor entre AMB_PA i AMB_PA_MECVV\", p_value_12)"
   ],
   "id": "ce8a928d50430780",
   "outputs": [
    {
     "name": "stdout",
     "output_type": "stream",
     "text": [
      "P-valor entre AMB_PA i AMB_PA_MECVV 0.39174655228054167\n"
     ]
    }
   ],
   "execution_count": 214
  },
  {
   "metadata": {
    "ExecuteTime": {
     "end_time": "2024-04-22T07:56:21.643748Z",
     "start_time": "2024-04-22T07:56:21.631551Z"
    }
   },
   "cell_type": "code",
   "source": [
    "stat, p_value_13 = mannwhitneyu(AMB_PA['confusio'], SENSE_PA['confusio'], alternative='two-sided')\n",
    "print(\"P-valor entre AMB_PA i SENSE_PA\", p_value_13)"
   ],
   "id": "3d8f238d6f85d411",
   "outputs": [
    {
     "name": "stdout",
     "output_type": "stream",
     "text": [
      "P-valor entre AMB_PA i SENSE_PA 0.6549000779898075\n"
     ]
    }
   ],
   "execution_count": 215
  },
  {
   "metadata": {
    "ExecuteTime": {
     "end_time": "2024-04-22T07:56:39.570978Z",
     "start_time": "2024-04-22T07:56:39.563407Z"
    }
   },
   "cell_type": "code",
   "source": [
    "stat, p_value_23 = mannwhitneyu(AMB_PA_MECVV['confusio'], SENSE_PA['confusio'], alternative='two-sided')\n",
    "print(\"P-valor entre AMB_PA_MECVV i SENSE_PA\", p_value_23)"
   ],
   "id": "e607639569d3f433",
   "outputs": [
    {
     "name": "stdout",
     "output_type": "stream",
     "text": [
      "P-valor entre AMB_PA_MECVV i SENSE_PA 0.13960802912048415\n"
     ]
    }
   ],
   "execution_count": 216
  },
  {
   "metadata": {},
   "cell_type": "markdown",
   "source": "## Osteoporosi",
   "id": "61e6ce410e08b94f"
  },
  {
   "metadata": {
    "ExecuteTime": {
     "end_time": "2024-04-22T07:40:28.340789Z",
     "start_time": "2024-04-22T07:40:28.333412Z"
    }
   },
   "cell_type": "code",
   "source": [
    "ost_AMB_PA= (AMB_PA['osteoporosis'] == 1.0).mean() * 100\n",
    "print(f\"Percentatge d'osteoporosi: {ost_AMB_PA:.2f}%\")"
   ],
   "id": "8247aa43b86f14e2",
   "outputs": [
    {
     "name": "stdout",
     "output_type": "stream",
     "text": [
      "Percentatge d'osteoporosi: 0.00%\n"
     ]
    }
   ],
   "execution_count": 67
  },
  {
   "metadata": {
    "ExecuteTime": {
     "end_time": "2024-04-22T07:40:28.548676Z",
     "start_time": "2024-04-22T07:40:28.542469Z"
    }
   },
   "cell_type": "code",
   "source": [
    "ost_AMB_PA_MECVV= (AMB_PA_MECVV['osteoporosis'] == 1.0).mean() * 100\n",
    "print(f\"Percentatge d'osteoporosi: {ost_AMB_PA_MECVV:.2f}%\")"
   ],
   "id": "88c46ee4b5d48d49",
   "outputs": [
    {
     "name": "stdout",
     "output_type": "stream",
     "text": [
      "Percentatge d'osteoporosi: 0.00%\n"
     ]
    }
   ],
   "execution_count": 68
  },
  {
   "metadata": {
    "ExecuteTime": {
     "end_time": "2024-04-22T07:40:28.802358Z",
     "start_time": "2024-04-22T07:40:28.791414Z"
    }
   },
   "cell_type": "code",
   "source": [
    "ost_SENSE_PA= (SENSE_PA['osteoporosis'] == 1.0).mean() * 100\n",
    "print(f\"Percentatge d'osteoporosi: {ost_SENSE_PA:.2f}%\")"
   ],
   "id": "404e37bc3d19820d",
   "outputs": [
    {
     "name": "stdout",
     "output_type": "stream",
     "text": [
      "Percentatge d'osteoporosi: 0.00%\n"
     ]
    }
   ],
   "execution_count": 69
  },
  {
   "metadata": {},
   "cell_type": "markdown",
   "source": "#### Pvalor",
   "id": "2be6f72ad24818dd"
  },
  {
   "metadata": {},
   "cell_type": "markdown",
   "source": "##### Normalitat",
   "id": "465cf19b84b0b450"
  },
  {
   "metadata": {
    "ExecuteTime": {
     "end_time": "2024-04-22T07:40:29.009229Z",
     "start_time": "2024-04-22T07:40:28.999092Z"
    }
   },
   "cell_type": "code",
   "source": [
    "stat, p_value = shapiro(AMB_PA['osteoporosis'])\n",
    "print(f\"Estadístic W = {stat:.4f}\")\n",
    "print(f\"Valor p = {p_value:.4f}\")\n",
    "\n",
    "alpha = 0.05\n",
    "if p_value < alpha:\n",
    "    print(\"El nombre de files no segueix una distribució normal.\")\n",
    "else:\n",
    "    print(\"El nombre de files segueix una distribució normal\")"
   ],
   "id": "ef867fa51d21b4e0",
   "outputs": [
    {
     "name": "stdout",
     "output_type": "stream",
     "text": [
      "Estadístic W = 1.0000\n",
      "Valor p = 1.0000\n",
      "El nombre de files segueix una distribució normal\n"
     ]
    }
   ],
   "execution_count": 70
  },
  {
   "metadata": {
    "ExecuteTime": {
     "end_time": "2024-04-22T07:40:29.298670Z",
     "start_time": "2024-04-22T07:40:29.291269Z"
    }
   },
   "cell_type": "code",
   "source": [
    "stat, p_value = shapiro(AMB_PA_MECVV['osteoporosis'])\n",
    "print(f\"Estadístic W = {stat:.4f}\")\n",
    "print(f\"Valor p = {p_value:.4f}\")\n",
    "\n",
    "alpha = 0.05\n",
    "if p_value < alpha:\n",
    "    print(\"El nombre de files no segueix una distribució normal.\")\n",
    "else:\n",
    "    print(\"El nombre de files segueix una distribució normal\")"
   ],
   "id": "10810e448414918c",
   "outputs": [
    {
     "name": "stdout",
     "output_type": "stream",
     "text": [
      "Estadístic W = 1.0000\n",
      "Valor p = 1.0000\n",
      "El nombre de files segueix una distribució normal\n"
     ]
    }
   ],
   "execution_count": 71
  },
  {
   "metadata": {
    "ExecuteTime": {
     "end_time": "2024-04-22T07:40:29.495147Z",
     "start_time": "2024-04-22T07:40:29.484870Z"
    }
   },
   "cell_type": "code",
   "source": [
    "stat, p_value = shapiro(SENSE_PA['osteoporosis'])\n",
    "print(f\"Estadístic W = {stat:.4f}\")\n",
    "print(f\"Valor p = {p_value:.4f}\")\n",
    "\n",
    "alpha = 0.05\n",
    "if p_value < alpha:\n",
    "    print(\"El nombre de files no segueix una distribució normal.\")\n",
    "else:\n",
    "    print(\"El nombre de files segueix una distribució normal\")"
   ],
   "id": "b87bbe8eefd9cb40",
   "outputs": [
    {
     "name": "stdout",
     "output_type": "stream",
     "text": [
      "Estadístic W = 1.0000\n",
      "Valor p = 1.0000\n",
      "El nombre de files segueix una distribució normal\n"
     ]
    }
   ],
   "execution_count": 72
  },
  {
   "metadata": {
    "ExecuteTime": {
     "end_time": "2024-04-22T07:40:29.760184Z",
     "start_time": "2024-04-22T07:40:29.750407Z"
    }
   },
   "cell_type": "code",
   "source": [
    "stat, p_value_12 = ttest_ind(AMB_PA['osteoporosis'], AMB_PA_MECVV['osteoporosis'], equal_var= False)\n",
    "print(\"P-valor entre AMB_PA i AMB_PA_MECVV\", p_value_12)"
   ],
   "id": "8c14505ff3b3c8c8",
   "outputs": [
    {
     "name": "stdout",
     "output_type": "stream",
     "text": [
      "P-valor entre AMB_PA i AMB_PA_MECVV nan\n"
     ]
    }
   ],
   "execution_count": 73
  },
  {
   "metadata": {
    "ExecuteTime": {
     "end_time": "2024-04-22T07:40:29.944341Z",
     "start_time": "2024-04-22T07:40:29.931642Z"
    }
   },
   "cell_type": "code",
   "source": [
    "stat, p_value_13 = ttest_ind(AMB_PA['osteoporosis'], SENSE_PA['osteoporosis'], equal_var= False)\n",
    "print(\"P-valor entre AMB_PA i SENSE_PA\", p_value_13)"
   ],
   "id": "b5cf3824f0cfce6",
   "outputs": [
    {
     "name": "stdout",
     "output_type": "stream",
     "text": [
      "P-valor entre AMB_PA i SENSE_PA nan\n"
     ]
    }
   ],
   "execution_count": 74
  },
  {
   "metadata": {
    "ExecuteTime": {
     "end_time": "2024-04-22T07:40:30.219795Z",
     "start_time": "2024-04-22T07:40:30.207264Z"
    }
   },
   "cell_type": "code",
   "source": [
    "stat, p_value_23 = ttest_ind(AMB_PA_MECVV['osteoporosis'], SENSE_PA['osteoporosis'], equal_var= False)\n",
    "print(\"P-valor entre AMB_PA_MECVV i SENSE_PA\", p_value_23)"
   ],
   "id": "8e5be9d9391c1f70",
   "outputs": [
    {
     "name": "stdout",
     "output_type": "stream",
     "text": [
      "P-valor entre AMB_PA_MECVV i SENSE_PA nan\n"
     ]
    }
   ],
   "execution_count": 75
  },
  {
   "metadata": {},
   "cell_type": "markdown",
   "source": "## Sarcopènia",
   "id": "35ba4b3163204f8f"
  },
  {
   "metadata": {
    "ExecuteTime": {
     "end_time": "2024-04-22T07:40:30.434382Z",
     "start_time": "2024-04-22T07:40:30.424475Z"
    }
   },
   "cell_type": "code",
   "source": [
    "sarc_AMB_PA= (AMB_PA['sarcopenia'] == 1.0).mean() * 100\n",
    "print(f\"Percentatge de sarcopènia: {sarc_AMB_PA:.2f}%\")"
   ],
   "id": "2dc59c7080dd50bc",
   "outputs": [
    {
     "name": "stdout",
     "output_type": "stream",
     "text": [
      "Percentatge de sarcopènia: 0.00%\n"
     ]
    }
   ],
   "execution_count": 76
  },
  {
   "metadata": {
    "ExecuteTime": {
     "end_time": "2024-04-22T07:40:30.774239Z",
     "start_time": "2024-04-22T07:40:30.764380Z"
    }
   },
   "cell_type": "code",
   "source": [
    "sarc_AMB_PA_MECVV= (AMB_PA_MECVV['sarcopenia'] == 1.0).mean() * 100\n",
    "print(f\"Percentatge de sarcopènia: {sarc_AMB_PA_MECVV:.2f}%\")"
   ],
   "id": "f4cd16f08eac0ddb",
   "outputs": [
    {
     "name": "stdout",
     "output_type": "stream",
     "text": [
      "Percentatge de sarcopènia: 10.00%\n"
     ]
    }
   ],
   "execution_count": 77
  },
  {
   "metadata": {
    "ExecuteTime": {
     "end_time": "2024-04-22T07:40:30.975010Z",
     "start_time": "2024-04-22T07:40:30.968966Z"
    }
   },
   "cell_type": "code",
   "source": [
    "sarc_SENSE_PA= (SENSE_PA['sarcopenia'] == 1.0).mean() * 100\n",
    "print(f\"Percentatge de sarcopènia: {sarc_SENSE_PA:.2f}%\")"
   ],
   "id": "244c4f6987003814",
   "outputs": [
    {
     "name": "stdout",
     "output_type": "stream",
     "text": [
      "Percentatge de sarcopènia: 4.08%\n"
     ]
    }
   ],
   "execution_count": 78
  },
  {
   "metadata": {},
   "cell_type": "markdown",
   "source": "#### Pvalor",
   "id": "89f3f7bdbee9d96d"
  },
  {
   "metadata": {},
   "cell_type": "markdown",
   "source": "##### Normalitat",
   "id": "211f5c215b14bcfb"
  },
  {
   "metadata": {
    "ExecuteTime": {
     "end_time": "2024-04-22T07:40:31.274064Z",
     "start_time": "2024-04-22T07:40:31.265475Z"
    }
   },
   "cell_type": "code",
   "source": [
    "stat, p_value = shapiro(AMB_PA['sarcopenia'])\n",
    "print(f\"Estadístic W = {stat:.4f}\")\n",
    "print(f\"Valor p = {p_value:.4f}\")\n",
    "\n",
    "alpha = 0.05\n",
    "if p_value < alpha:\n",
    "    print(\"El nombre de files no segueix una distribució normal.\")\n",
    "else:\n",
    "    print(\"El nombre de files segueix una distribució normal\")"
   ],
   "id": "41853aa064104ee9",
   "outputs": [
    {
     "name": "stdout",
     "output_type": "stream",
     "text": [
      "Estadístic W = 1.0000\n",
      "Valor p = 1.0000\n",
      "El nombre de files segueix una distribució normal\n"
     ]
    }
   ],
   "execution_count": 79
  },
  {
   "metadata": {
    "ExecuteTime": {
     "end_time": "2024-04-22T07:40:31.473055Z",
     "start_time": "2024-04-22T07:40:31.460133Z"
    }
   },
   "cell_type": "code",
   "source": [
    "stat, p_value = shapiro(AMB_PA_MECVV['sarcopenia'])\n",
    "print(f\"Estadístic W = {stat:.4f}\")\n",
    "print(f\"Valor p = {p_value:.4f}\")\n",
    "\n",
    "alpha = 0.05\n",
    "if p_value < alpha:\n",
    "    print(\"El nombre de files no segueix una distribució normal.\")\n",
    "else:\n",
    "    print(\"El nombre de files segueix una distribució normal\")"
   ],
   "id": "819daed34f463c5d",
   "outputs": [
    {
     "name": "stdout",
     "output_type": "stream",
     "text": [
      "Estadístic W = 0.3657\n",
      "Valor p = 0.0000\n",
      "El nombre de files no segueix una distribució normal.\n"
     ]
    }
   ],
   "execution_count": 80
  },
  {
   "metadata": {
    "ExecuteTime": {
     "end_time": "2024-04-22T07:40:31.752316Z",
     "start_time": "2024-04-22T07:40:31.740762Z"
    }
   },
   "cell_type": "code",
   "source": [
    "stat, p_value = shapiro(SENSE_PA['sarcopenia'])\n",
    "print(f\"Estadístic W = {stat:.4f}\")\n",
    "print(f\"Valor p = {p_value:.4f}\")\n",
    "\n",
    "alpha = 0.05\n",
    "if p_value < alpha:\n",
    "    print(\"El nombre de files no segueix una distribució normal.\")\n",
    "else:\n",
    "    print(\"El nombre de files segueix una distribució normal\")"
   ],
   "id": "6cba774cd30a32c1",
   "outputs": [
    {
     "name": "stdout",
     "output_type": "stream",
     "text": [
      "Estadístic W = 0.2008\n",
      "Valor p = 0.0000\n",
      "El nombre de files no segueix una distribució normal.\n"
     ]
    }
   ],
   "execution_count": 81
  },
  {
   "metadata": {
    "ExecuteTime": {
     "end_time": "2024-04-22T07:40:31.967138Z",
     "start_time": "2024-04-22T07:40:31.957006Z"
    }
   },
   "cell_type": "code",
   "source": [
    "stat, p_value_12 = mannwhitneyu(AMB_PA['sarcopenia'], AMB_PA_MECVV['sarcopenia'], alternative='two-sided')\n",
    "print(\"P-valor entre AMB_PA i AMB_PA_MECVV\", p_value_12)"
   ],
   "id": "313be6964130b7aa",
   "outputs": [
    {
     "name": "stdout",
     "output_type": "stream",
     "text": [
      "P-valor entre AMB_PA i AMB_PA_MECVV 0.21976847950216105\n"
     ]
    }
   ],
   "execution_count": 82
  },
  {
   "metadata": {
    "ExecuteTime": {
     "end_time": "2024-04-22T07:40:32.224274Z",
     "start_time": "2024-04-22T07:40:32.217053Z"
    }
   },
   "cell_type": "code",
   "source": [
    "stat, p_value_13 = mannwhitneyu(AMB_PA['sarcopenia'], SENSE_PA['sarcopenia'], alternative='two-sided')\n",
    "print(\"P-valor entre AMB_PA i SENSE_PA\", p_value_13)"
   ],
   "id": "311f77406d30370b",
   "outputs": [
    {
     "name": "stdout",
     "output_type": "stream",
     "text": [
      "P-valor entre AMB_PA i SENSE_PA 0.41519527301502746\n"
     ]
    }
   ],
   "execution_count": 83
  },
  {
   "metadata": {
    "ExecuteTime": {
     "end_time": "2024-04-22T07:40:32.435487Z",
     "start_time": "2024-04-22T07:40:32.426411Z"
    }
   },
   "cell_type": "code",
   "source": [
    "stat, p_value_23 = mannwhitneyu(AMB_PA_MECVV['sarcopenia'], SENSE_PA['sarcopenia'], alternative='two-sided')\n",
    "print(\"P-valor entre AMB_PA_MECVV i SENSE_PA\", p_value_23)"
   ],
   "id": "2fd5fff672c1e53",
   "outputs": [
    {
     "name": "stdout",
     "output_type": "stream",
     "text": [
      "P-valor entre AMB_PA_MECVV i SENSE_PA 0.45734646700671056\n"
     ]
    }
   ],
   "execution_count": 84
  },
  {
   "metadata": {},
   "cell_type": "markdown",
   "source": "## Trastorns del son",
   "id": "f41eecfcc7117fb8"
  },
  {
   "metadata": {
    "ExecuteTime": {
     "end_time": "2024-04-22T07:40:32.697516Z",
     "start_time": "2024-04-22T07:40:32.692056Z"
    }
   },
   "cell_type": "code",
   "source": [
    "ts_AMB_PA= (AMB_PA['problsueño'] == 1.0).mean() * 100\n",
    "print(f\"Percentatge de trastorns del son: {ts_AMB_PA:.2f}%\")"
   ],
   "id": "cb850aac92c63822",
   "outputs": [
    {
     "name": "stdout",
     "output_type": "stream",
     "text": [
      "Percentatge de trastorns del son: 0.00%\n"
     ]
    }
   ],
   "execution_count": 85
  },
  {
   "metadata": {
    "ExecuteTime": {
     "end_time": "2024-04-22T07:40:32.889800Z",
     "start_time": "2024-04-22T07:40:32.881704Z"
    }
   },
   "cell_type": "code",
   "source": [
    "ts_AMB_PA_MECVV= (AMB_PA_MECVV['problsueño'] == 1.0).mean() * 100\n",
    "print(f\"Percentatge de trastorns del son: {ts_AMB_PA_MECVV:.2f}%\")"
   ],
   "id": "2879ba619f21dd9",
   "outputs": [
    {
     "name": "stdout",
     "output_type": "stream",
     "text": [
      "Percentatge de trastorns del son: 0.00%\n"
     ]
    }
   ],
   "execution_count": 86
  },
  {
   "metadata": {
    "ExecuteTime": {
     "end_time": "2024-04-22T07:40:33.223462Z",
     "start_time": "2024-04-22T07:40:33.218672Z"
    }
   },
   "cell_type": "code",
   "source": [
    "ts_SENSE_PA= (SENSE_PA['problsueño'] == 1.0).mean() * 100\n",
    "print(f\"Percentatge de trastorns del son: {ts_SENSE_PA:.2f}%\")"
   ],
   "id": "dd0194dec4acdb86",
   "outputs": [
    {
     "name": "stdout",
     "output_type": "stream",
     "text": [
      "Percentatge de trastorns del son: 0.00%\n"
     ]
    }
   ],
   "execution_count": 87
  },
  {
   "metadata": {},
   "cell_type": "markdown",
   "source": "#### Pvalor",
   "id": "19dac29e093145f8"
  },
  {
   "metadata": {},
   "cell_type": "markdown",
   "source": "##### Normalitat",
   "id": "a0e8b431b959bbf1"
  },
  {
   "metadata": {
    "ExecuteTime": {
     "end_time": "2024-04-22T08:05:10.252651Z",
     "start_time": "2024-04-22T08:05:10.244267Z"
    }
   },
   "cell_type": "code",
   "source": [
    "stat, p_value = shapiro(AMB_PA['problsueño'])\n",
    "print(f\"Estadístic W = {stat:.4f}\")\n",
    "print(f\"Valor p = {p_value:.4f}\")\n",
    "\n",
    "alpha = 0.05\n",
    "if p_value < alpha:\n",
    "    print(\"El nombre de files no segueix una distribució normal.\")\n",
    "else:\n",
    "    print(\"El nombre de files segueix una distribució normal\")"
   ],
   "id": "16296bc5aaed316f",
   "outputs": [
    {
     "name": "stdout",
     "output_type": "stream",
     "text": [
      "Estadístic W = 1.0000\n",
      "Valor p = 1.0000\n",
      "El nombre de files segueix una distribució normal\n"
     ]
    },
    {
     "name": "stderr",
     "output_type": "stream",
     "text": [
      "C:\\Users\\maria\\PycharmProjects\\practicum\\.venv\\Lib\\site-packages\\scipy\\stats\\_axis_nan_policy.py:531: UserWarning: scipy.stats.shapiro: Input data has range zero. The results may not be accurate.\n",
      "  res = hypotest_fun_out(*samples, **kwds)\n"
     ]
    }
   ],
   "execution_count": 217
  },
  {
   "metadata": {
    "ExecuteTime": {
     "end_time": "2024-04-22T08:05:19.874719Z",
     "start_time": "2024-04-22T08:05:19.864973Z"
    }
   },
   "cell_type": "code",
   "source": [
    "stat, p_value = shapiro(AMB_PA_MECVV['problsueño'])\n",
    "print(f\"Estadístic W = {stat:.4f}\")\n",
    "print(f\"Valor p = {p_value:.4f}\")\n",
    "\n",
    "alpha = 0.05\n",
    "if p_value < alpha:\n",
    "    print(\"El nombre de files no segueix una distribució normal.\")\n",
    "else:\n",
    "    print(\"El nombre de files segueix una distribució normal\")"
   ],
   "id": "f8e7ea2d4eb04180",
   "outputs": [
    {
     "name": "stdout",
     "output_type": "stream",
     "text": [
      "Estadístic W = 1.0000\n",
      "Valor p = 1.0000\n",
      "El nombre de files segueix una distribució normal\n"
     ]
    },
    {
     "name": "stderr",
     "output_type": "stream",
     "text": [
      "C:\\Users\\maria\\PycharmProjects\\practicum\\.venv\\Lib\\site-packages\\scipy\\stats\\_axis_nan_policy.py:531: UserWarning: scipy.stats.shapiro: Input data has range zero. The results may not be accurate.\n",
      "  res = hypotest_fun_out(*samples, **kwds)\n"
     ]
    }
   ],
   "execution_count": 218
  },
  {
   "metadata": {
    "ExecuteTime": {
     "end_time": "2024-04-22T08:05:33.989427Z",
     "start_time": "2024-04-22T08:05:33.979426Z"
    }
   },
   "cell_type": "code",
   "source": [
    "stat, p_value = shapiro(SENSE_PA['problsueño'])\n",
    "print(f\"Estadístic W = {stat:.4f}\")\n",
    "print(f\"Valor p = {p_value:.4f}\")\n",
    "\n",
    "alpha = 0.05\n",
    "if p_value < alpha:\n",
    "    print(\"El nombre de files no segueix una distribució normal.\")\n",
    "else:\n",
    "    print(\"El nombre de files segueix una distribució normal\")"
   ],
   "id": "f33fd2e6c17c27b6",
   "outputs": [
    {
     "name": "stdout",
     "output_type": "stream",
     "text": [
      "Estadístic W = 1.0000\n",
      "Valor p = 1.0000\n",
      "El nombre de files segueix una distribució normal\n"
     ]
    },
    {
     "name": "stderr",
     "output_type": "stream",
     "text": [
      "C:\\Users\\maria\\PycharmProjects\\practicum\\.venv\\Lib\\site-packages\\scipy\\stats\\_axis_nan_policy.py:531: UserWarning: scipy.stats.shapiro: Input data has range zero. The results may not be accurate.\n",
      "  res = hypotest_fun_out(*samples, **kwds)\n"
     ]
    }
   ],
   "execution_count": 219
  },
  {
   "metadata": {
    "ExecuteTime": {
     "end_time": "2024-04-22T08:19:51.639239Z",
     "start_time": "2024-04-22T08:19:51.626548Z"
    }
   },
   "cell_type": "code",
   "source": [
    "stat, p_value_12 = ttest_ind(AMB_PA['problsueño'], AMB_PA_MECVV['problsueño'], equal_var=False)\n",
    "print(\"P-valor entre AMB_PA i AMB_PA_MECVV\", p_value_12)"
   ],
   "id": "99f759bffcb3e331",
   "outputs": [
    {
     "name": "stdout",
     "output_type": "stream",
     "text": [
      "P-valor entre AMB_PA i AMB_PA_MECVV nan\n"
     ]
    }
   ],
   "execution_count": 252
  },
  {
   "metadata": {
    "ExecuteTime": {
     "end_time": "2024-04-22T08:19:56.336057Z",
     "start_time": "2024-04-22T08:19:56.325515Z"
    }
   },
   "cell_type": "code",
   "source": [
    "stat, p_value_13 = ttest_ind(AMB_PA['problsueño'], SENSE_PA['problsueño'], equal_var=False)\n",
    "print(\"P-valor entre AMB_PA i SENSE_PA\", p_value_13)"
   ],
   "id": "5c985a181a2de62f",
   "outputs": [
    {
     "name": "stdout",
     "output_type": "stream",
     "text": [
      "P-valor entre AMB_PA i SENSE_PA nan\n"
     ]
    }
   ],
   "execution_count": 253
  },
  {
   "metadata": {
    "ExecuteTime": {
     "end_time": "2024-04-22T08:20:02.655341Z",
     "start_time": "2024-04-22T08:20:02.643704Z"
    }
   },
   "cell_type": "code",
   "source": [
    "stat, p_value_23 = ttest_ind(AMB_PA_MECVV['problsueño'], SENSE_PA['problsueño'], equal_var=False)\n",
    "print(\"P-valor entre AMB_PA_MECVV i SENSE_PA\", p_value_23)"
   ],
   "id": "81a2ca03796461ce",
   "outputs": [
    {
     "name": "stdout",
     "output_type": "stream",
     "text": [
      "P-valor entre AMB_PA_MECVV i SENSE_PA nan\n"
     ]
    }
   ],
   "execution_count": 254
  },
  {
   "metadata": {},
   "cell_type": "markdown",
   "source": "## Dolor crònic",
   "id": "e9f22902aac5d32c"
  },
  {
   "metadata": {
    "ExecuteTime": {
     "end_time": "2024-04-22T07:40:33.417005Z",
     "start_time": "2024-04-22T07:40:33.410809Z"
    }
   },
   "cell_type": "code",
   "source": [
    "dc_AMB_PA= (AMB_PA['dolor_cron'] == 1.0).mean() * 100\n",
    "print(f\"Percentatge de dolor crònic: {dc_AMB_PA:.2f}%\")"
   ],
   "id": "f05d2f7a214d0e82",
   "outputs": [
    {
     "name": "stdout",
     "output_type": "stream",
     "text": [
      "Percentatge de dolor crònic: 0.00%\n"
     ]
    }
   ],
   "execution_count": 88
  },
  {
   "metadata": {
    "ExecuteTime": {
     "end_time": "2024-04-22T07:40:33.738619Z",
     "start_time": "2024-04-22T07:40:33.732063Z"
    }
   },
   "cell_type": "code",
   "source": [
    "dc_AMB_PA_MECVV= (AMB_PA_MECVV['dolor_cron'] == 1.0).mean() * 100\n",
    "print(f\"Percentatge de dolor crònic: {dc_AMB_PA_MECVV:.2f}%\")"
   ],
   "id": "f30beb6300be5f9c",
   "outputs": [
    {
     "name": "stdout",
     "output_type": "stream",
     "text": [
      "Percentatge de dolor crònic: 0.00%\n"
     ]
    }
   ],
   "execution_count": 89
  },
  {
   "metadata": {
    "ExecuteTime": {
     "end_time": "2024-04-22T07:40:33.913094Z",
     "start_time": "2024-04-22T07:40:33.907060Z"
    }
   },
   "cell_type": "code",
   "source": [
    "dc_SENSE_PA= (SENSE_PA['dolor_cron'] == 1.0).mean() * 100\n",
    "print(f\"Percentatge de dolor crònic: {dc_SENSE_PA:.2f}%\")"
   ],
   "id": "1ac2254ca76f0a08",
   "outputs": [
    {
     "name": "stdout",
     "output_type": "stream",
     "text": [
      "Percentatge de dolor crònic: 0.00%\n"
     ]
    }
   ],
   "execution_count": 90
  },
  {
   "metadata": {},
   "cell_type": "markdown",
   "source": "#### Pvalor",
   "id": "33b7bb39e9421e38"
  },
  {
   "metadata": {},
   "cell_type": "markdown",
   "source": "##### Normalitat",
   "id": "88c69d09418d53ea"
  },
  {
   "metadata": {
    "ExecuteTime": {
     "end_time": "2024-04-22T08:08:23.888466Z",
     "start_time": "2024-04-22T08:08:23.878602Z"
    }
   },
   "cell_type": "code",
   "source": [
    "stat, p_value = shapiro(AMB_PA['dolor_cron'])\n",
    "print(f\"Estadístic W = {stat:.4f}\")\n",
    "print(f\"Valor p = {p_value:.4f}\")\n",
    "\n",
    "alpha = 0.05\n",
    "if p_value < alpha:\n",
    "    print(\"El nombre de files no segueix una distribució normal.\")\n",
    "else:\n",
    "    print(\"El nombre de files segueix una distribució normal\")"
   ],
   "id": "34909e3d61ed7d9c",
   "outputs": [
    {
     "name": "stdout",
     "output_type": "stream",
     "text": [
      "Estadístic W = 1.0000\n",
      "Valor p = 1.0000\n",
      "El nombre de files segueix una distribució normal\n"
     ]
    },
    {
     "name": "stderr",
     "output_type": "stream",
     "text": [
      "C:\\Users\\maria\\PycharmProjects\\practicum\\.venv\\Lib\\site-packages\\scipy\\stats\\_axis_nan_policy.py:531: UserWarning: scipy.stats.shapiro: Input data has range zero. The results may not be accurate.\n",
      "  res = hypotest_fun_out(*samples, **kwds)\n"
     ]
    }
   ],
   "execution_count": 223
  },
  {
   "metadata": {
    "ExecuteTime": {
     "end_time": "2024-04-22T08:08:45.123314Z",
     "start_time": "2024-04-22T08:08:45.111436Z"
    }
   },
   "cell_type": "code",
   "source": [
    "stat, p_value = shapiro(AMB_PA_MECVV['dolor_cron'])\n",
    "print(f\"Estadístic W = {stat:.4f}\")\n",
    "print(f\"Valor p = {p_value:.4f}\")\n",
    "\n",
    "alpha = 0.05\n",
    "if p_value < alpha:\n",
    "    print(\"El nombre de files no segueix una distribució normal.\")\n",
    "else:\n",
    "    print(\"El nombre de files segueix una distribució normal\")"
   ],
   "id": "72922e2c002b15f1",
   "outputs": [
    {
     "name": "stdout",
     "output_type": "stream",
     "text": [
      "Estadístic W = 1.0000\n",
      "Valor p = 1.0000\n",
      "El nombre de files segueix una distribució normal\n"
     ]
    },
    {
     "name": "stderr",
     "output_type": "stream",
     "text": [
      "C:\\Users\\maria\\PycharmProjects\\practicum\\.venv\\Lib\\site-packages\\scipy\\stats\\_axis_nan_policy.py:531: UserWarning: scipy.stats.shapiro: Input data has range zero. The results may not be accurate.\n",
      "  res = hypotest_fun_out(*samples, **kwds)\n"
     ]
    }
   ],
   "execution_count": 224
  },
  {
   "metadata": {
    "ExecuteTime": {
     "end_time": "2024-04-22T08:08:52.936393Z",
     "start_time": "2024-04-22T08:08:52.924832Z"
    }
   },
   "cell_type": "code",
   "source": [
    "stat, p_value = shapiro(SENSE_PA['dolor_cron'])\n",
    "print(f\"Estadístic W = {stat:.4f}\")\n",
    "print(f\"Valor p = {p_value:.4f}\")\n",
    "\n",
    "alpha = 0.05\n",
    "if p_value < alpha:\n",
    "    print(\"El nombre de files no segueix una distribució normal.\")\n",
    "else:\n",
    "    print(\"El nombre de files segueix una distribució normal\")"
   ],
   "id": "c6125b891a3e9c4c",
   "outputs": [
    {
     "name": "stdout",
     "output_type": "stream",
     "text": [
      "Estadístic W = 1.0000\n",
      "Valor p = 1.0000\n",
      "El nombre de files segueix una distribució normal\n"
     ]
    },
    {
     "name": "stderr",
     "output_type": "stream",
     "text": [
      "C:\\Users\\maria\\PycharmProjects\\practicum\\.venv\\Lib\\site-packages\\scipy\\stats\\_axis_nan_policy.py:531: UserWarning: scipy.stats.shapiro: Input data has range zero. The results may not be accurate.\n",
      "  res = hypotest_fun_out(*samples, **kwds)\n"
     ]
    }
   ],
   "execution_count": 225
  },
  {
   "metadata": {
    "ExecuteTime": {
     "end_time": "2024-04-22T08:19:27.061575Z",
     "start_time": "2024-04-22T08:19:27.050228Z"
    }
   },
   "cell_type": "code",
   "source": [
    "stat, p_value_12 = ttest_ind(AMB_PA['dolor_cron'], AMB_PA_MECVV['dolor_cron'], equal_var=False)\n",
    "print(\"P-valor entre AMB_PA i AMB_PA_MECVV\", p_value_12)"
   ],
   "id": "19fc73c2a012e9ae",
   "outputs": [
    {
     "name": "stdout",
     "output_type": "stream",
     "text": [
      "P-valor entre AMB_PA i AMB_PA_MECVV nan\n"
     ]
    }
   ],
   "execution_count": 249
  },
  {
   "metadata": {
    "ExecuteTime": {
     "end_time": "2024-04-22T08:19:31.436952Z",
     "start_time": "2024-04-22T08:19:31.424810Z"
    }
   },
   "cell_type": "code",
   "source": [
    "stat, p_value_13 = ttest_ind(AMB_PA['dolor_cron'], SENSE_PA['dolor_cron'], equal_var=False)\n",
    "print(\"P-valor entre AMB_PA i SENSE_PA\", p_value_13)"
   ],
   "id": "d21a4b80d01ac7ea",
   "outputs": [
    {
     "name": "stdout",
     "output_type": "stream",
     "text": [
      "P-valor entre AMB_PA i SENSE_PA nan\n"
     ]
    }
   ],
   "execution_count": 250
  },
  {
   "metadata": {
    "ExecuteTime": {
     "end_time": "2024-04-22T08:19:36.921033Z",
     "start_time": "2024-04-22T08:19:36.907367Z"
    }
   },
   "cell_type": "code",
   "source": [
    "stat, p_value_23 = ttest_ind(AMB_PA_MECVV['dolor_cron'], SENSE_PA['dolor_cron'], equal_var=False)\n",
    "print(\"P-valor entre AMB_PA_MECVV i SENSE_PA\", p_value_23)"
   ],
   "id": "48fefb00c2ae1d40",
   "outputs": [
    {
     "name": "stdout",
     "output_type": "stream",
     "text": [
      "P-valor entre AMB_PA_MECVV i SENSE_PA nan\n"
     ]
    }
   ],
   "execution_count": 251
  },
  {
   "metadata": {},
   "cell_type": "markdown",
   "source": "## Iatrogènic",
   "id": "e4a4ace86ca41600"
  },
  {
   "metadata": {
    "ExecuteTime": {
     "end_time": "2024-04-22T07:40:34.218684Z",
     "start_time": "2024-04-22T07:40:34.210688Z"
    }
   },
   "cell_type": "code",
   "source": [
    "iatr_AMB_PA= (AMB_PA['iatrogenico'] == 1.0).mean() * 100\n",
    "print(f\"Percentatge de iatrogènic: {iatr_AMB_PA:.2f}%\")"
   ],
   "id": "ce5326efc8d1cbef",
   "outputs": [
    {
     "name": "stdout",
     "output_type": "stream",
     "text": [
      "Percentatge de iatrogènic: 0.00%\n"
     ]
    }
   ],
   "execution_count": 91
  },
  {
   "metadata": {
    "ExecuteTime": {
     "end_time": "2024-04-22T07:40:34.393206Z",
     "start_time": "2024-04-22T07:40:34.385712Z"
    }
   },
   "cell_type": "code",
   "source": [
    "iatr_AMB_PA_MECVV= (AMB_PA_MECVV['iatrogenico'] == 1.0).mean() * 100\n",
    "print(f\"Percentatge de iatrogènic: {iatr_AMB_PA_MECVV:.2f}%\")"
   ],
   "id": "3b93f7c7a1f8390a",
   "outputs": [
    {
     "name": "stdout",
     "output_type": "stream",
     "text": [
      "Percentatge de iatrogènic: 0.00%\n"
     ]
    }
   ],
   "execution_count": 92
  },
  {
   "metadata": {
    "ExecuteTime": {
     "end_time": "2024-04-22T07:40:34.686118Z",
     "start_time": "2024-04-22T07:40:34.677730Z"
    }
   },
   "cell_type": "code",
   "source": [
    "iatr_SENSE_PA= (SENSE_PA['iatrogenico'] == 1.0).mean() * 100\n",
    "print(f\"Percentatge de iatrogènic: {iatr_SENSE_PA:.2f}%\")"
   ],
   "id": "6e91605bdf68ebe6",
   "outputs": [
    {
     "name": "stdout",
     "output_type": "stream",
     "text": [
      "Percentatge de iatrogènic: 0.00%\n"
     ]
    }
   ],
   "execution_count": 93
  },
  {
   "metadata": {},
   "cell_type": "markdown",
   "source": "#### Pvalor",
   "id": "c7c4fb9f8288c644"
  },
  {
   "metadata": {},
   "cell_type": "markdown",
   "source": "##### Normalitat",
   "id": "81f5e86f8857903f"
  },
  {
   "metadata": {
    "ExecuteTime": {
     "end_time": "2024-04-22T08:11:45.072155Z",
     "start_time": "2024-04-22T08:11:45.060249Z"
    }
   },
   "cell_type": "code",
   "source": [
    "stat, p_value = shapiro(AMB_PA['iatrogenico'])\n",
    "print(f\"Estadístic W = {stat:.4f}\")\n",
    "print(f\"Valor p = {p_value:.4f}\")\n",
    "\n",
    "alpha = 0.05\n",
    "if p_value < alpha:\n",
    "    print(\"El nombre de files no segueix una distribució normal.\")\n",
    "else:\n",
    "    print(\"El nombre de files segueix una distribució normal\")"
   ],
   "id": "6c64b9df4158a914",
   "outputs": [
    {
     "name": "stdout",
     "output_type": "stream",
     "text": [
      "Estadístic W = 1.0000\n",
      "Valor p = 1.0000\n",
      "El nombre de files segueix una distribució normal\n"
     ]
    },
    {
     "name": "stderr",
     "output_type": "stream",
     "text": [
      "C:\\Users\\maria\\PycharmProjects\\practicum\\.venv\\Lib\\site-packages\\scipy\\stats\\_axis_nan_policy.py:531: UserWarning: scipy.stats.shapiro: Input data has range zero. The results may not be accurate.\n",
      "  res = hypotest_fun_out(*samples, **kwds)\n"
     ]
    }
   ],
   "execution_count": 231
  },
  {
   "metadata": {
    "ExecuteTime": {
     "end_time": "2024-04-22T08:11:55.790417Z",
     "start_time": "2024-04-22T08:11:55.779141Z"
    }
   },
   "cell_type": "code",
   "source": [
    "stat, p_value = shapiro(AMB_PA_MECVV['iatrogenico'])\n",
    "print(f\"Estadístic W = {stat:.4f}\")\n",
    "print(f\"Valor p = {p_value:.4f}\")\n",
    "\n",
    "alpha = 0.05\n",
    "if p_value < alpha:\n",
    "    print(\"El nombre de files no segueix una distribució normal.\")\n",
    "else:\n",
    "    print(\"El nombre de files segueix una distribució normal\")"
   ],
   "id": "7c2fd9546399c925",
   "outputs": [
    {
     "name": "stdout",
     "output_type": "stream",
     "text": [
      "Estadístic W = 1.0000\n",
      "Valor p = 1.0000\n",
      "El nombre de files segueix una distribució normal\n"
     ]
    },
    {
     "name": "stderr",
     "output_type": "stream",
     "text": [
      "C:\\Users\\maria\\PycharmProjects\\practicum\\.venv\\Lib\\site-packages\\scipy\\stats\\_axis_nan_policy.py:531: UserWarning: scipy.stats.shapiro: Input data has range zero. The results may not be accurate.\n",
      "  res = hypotest_fun_out(*samples, **kwds)\n"
     ]
    }
   ],
   "execution_count": 232
  },
  {
   "metadata": {
    "ExecuteTime": {
     "end_time": "2024-04-22T08:12:02.943785Z",
     "start_time": "2024-04-22T08:12:02.937278Z"
    }
   },
   "cell_type": "code",
   "source": [
    "stat, p_value = shapiro(SENSE_PA['iatrogenico'])\n",
    "print(f\"Estadístic W = {stat:.4f}\")\n",
    "print(f\"Valor p = {p_value:.4f}\")\n",
    "\n",
    "alpha = 0.05\n",
    "if p_value < alpha:\n",
    "    print(\"El nombre de files no segueix una distribució normal.\")\n",
    "else:\n",
    "    print(\"El nombre de files segueix una distribució normal\")"
   ],
   "id": "2b2499f9f45f6b7e",
   "outputs": [
    {
     "name": "stdout",
     "output_type": "stream",
     "text": [
      "Estadístic W = 1.0000\n",
      "Valor p = 1.0000\n",
      "El nombre de files segueix una distribució normal\n"
     ]
    },
    {
     "name": "stderr",
     "output_type": "stream",
     "text": [
      "C:\\Users\\maria\\PycharmProjects\\practicum\\.venv\\Lib\\site-packages\\scipy\\stats\\_axis_nan_policy.py:531: UserWarning: scipy.stats.shapiro: Input data has range zero. The results may not be accurate.\n",
      "  res = hypotest_fun_out(*samples, **kwds)\n"
     ]
    }
   ],
   "execution_count": 233
  },
  {
   "metadata": {
    "ExecuteTime": {
     "end_time": "2024-04-22T08:18:55.832692Z",
     "start_time": "2024-04-22T08:18:55.823996Z"
    }
   },
   "cell_type": "code",
   "source": [
    "stat, p_value_12 = ttest_ind(AMB_PA['iatrogenico'], AMB_PA_MECVV['iatrogenico'], equal_var=False)\n",
    "print(\"P-valor entre AMB_PA i AMB_PA_MECVV\", p_value_12)"
   ],
   "id": "a6d4581f66ee1955",
   "outputs": [
    {
     "name": "stdout",
     "output_type": "stream",
     "text": [
      "P-valor entre AMB_PA i AMB_PA_MECVV nan\n"
     ]
    }
   ],
   "execution_count": 246
  },
  {
   "metadata": {
    "ExecuteTime": {
     "end_time": "2024-04-22T08:19:06.010762Z",
     "start_time": "2024-04-22T08:19:05.997775Z"
    }
   },
   "cell_type": "code",
   "source": [
    "stat, p_value_13 = ttest_ind(AMB_PA['iatrogenico'], SENSE_PA['iatrogenico'], equal_var=False)\n",
    "print(\"P-valor entre AMB_PA i SENSE_PA\", p_value_13)"
   ],
   "id": "a040639471d4f4cf",
   "outputs": [
    {
     "name": "stdout",
     "output_type": "stream",
     "text": [
      "P-valor entre AMB_PA i SENSE_PA nan\n"
     ]
    }
   ],
   "execution_count": 247
  },
  {
   "metadata": {
    "ExecuteTime": {
     "end_time": "2024-04-22T08:19:12.298686Z",
     "start_time": "2024-04-22T08:19:12.288177Z"
    }
   },
   "cell_type": "code",
   "source": [
    "stat, p_value_23 = ttest_ind(AMB_PA_MECVV['iatrogenico'], SENSE_PA['iatrogenico'], equal_var=False)\n",
    "print(\"P-valor entre AMB_PA_MECVV i SENSE_PA\", p_value_23)"
   ],
   "id": "31e55ef13ee10972",
   "outputs": [
    {
     "name": "stdout",
     "output_type": "stream",
     "text": [
      "P-valor entre AMB_PA_MECVV i SENSE_PA nan\n"
     ]
    }
   ],
   "execution_count": 248
  },
  {
   "metadata": {},
   "cell_type": "markdown",
   "source": "## Restrenyiment",
   "id": "db8d96a1cf0b32f4"
  },
  {
   "metadata": {
    "ExecuteTime": {
     "end_time": "2024-04-22T07:40:34.885927Z",
     "start_time": "2024-04-22T07:40:34.876357Z"
    }
   },
   "cell_type": "code",
   "source": [
    "est_AMB_PA= (AMB_PA['estreñimiento'] == 1.0).mean() * 100\n",
    "print(f\"Percentatge de restrenyiment: {est_AMB_PA:.2f}%\")"
   ],
   "id": "dc16c6f9e735fbb2",
   "outputs": [
    {
     "name": "stdout",
     "output_type": "stream",
     "text": [
      "Percentatge de restrenyiment: 0.00%\n"
     ]
    }
   ],
   "execution_count": 94
  },
  {
   "metadata": {
    "ExecuteTime": {
     "end_time": "2024-04-22T07:40:35.198720Z",
     "start_time": "2024-04-22T07:40:35.191740Z"
    }
   },
   "cell_type": "code",
   "source": [
    "est_AMB_PA_MECVV= (AMB_PA_MECVV['estreñimiento'] == 1.0).mean() * 100\n",
    "print(f\"Percentatge de restrenyiment: {est_AMB_PA_MECVV:.2f}%\")"
   ],
   "id": "b3bf84a44b2be1a",
   "outputs": [
    {
     "name": "stdout",
     "output_type": "stream",
     "text": [
      "Percentatge de restrenyiment: 0.00%\n"
     ]
    }
   ],
   "execution_count": 95
  },
  {
   "metadata": {
    "ExecuteTime": {
     "end_time": "2024-04-22T07:40:35.419805Z",
     "start_time": "2024-04-22T07:40:35.412428Z"
    }
   },
   "cell_type": "code",
   "source": [
    "est_SENSE_PA= (SENSE_PA['estreñimiento'] == 1.0).mean() * 100\n",
    "print(f\"Percentatge de restrenyiment: {est_SENSE_PA:.2f}%\")"
   ],
   "id": "a2ac461b783cef25",
   "outputs": [
    {
     "name": "stdout",
     "output_type": "stream",
     "text": [
      "Percentatge de restrenyiment: 0.00%\n"
     ]
    }
   ],
   "execution_count": 96
  },
  {
   "metadata": {},
   "cell_type": "markdown",
   "source": "#### Pvalor",
   "id": "807133bfa1d01063"
  },
  {
   "metadata": {},
   "cell_type": "markdown",
   "source": "##### Normalitat",
   "id": "2ce2df8492540a53"
  },
  {
   "metadata": {
    "ExecuteTime": {
     "end_time": "2024-04-22T08:16:22.251720Z",
     "start_time": "2024-04-22T08:16:22.241440Z"
    }
   },
   "cell_type": "code",
   "source": [
    "stat, p_value = shapiro(AMB_PA['estreñimiento'])\n",
    "print(f\"Estadístic W = {stat:.4f}\")\n",
    "print(f\"Valor p = {p_value:.4f}\")\n",
    "\n",
    "alpha = 0.05\n",
    "if p_value < alpha:\n",
    "    print(\"El nombre de files no segueix una distribució normal.\")\n",
    "else:\n",
    "    print(\"El nombre de files segueix una distribució normal\")"
   ],
   "id": "6ec0f291391c189",
   "outputs": [
    {
     "name": "stdout",
     "output_type": "stream",
     "text": [
      "Estadístic W = 1.0000\n",
      "Valor p = 1.0000\n",
      "El nombre de files segueix una distribució normal\n"
     ]
    },
    {
     "name": "stderr",
     "output_type": "stream",
     "text": [
      "C:\\Users\\maria\\PycharmProjects\\practicum\\.venv\\Lib\\site-packages\\scipy\\stats\\_axis_nan_policy.py:531: UserWarning: scipy.stats.shapiro: Input data has range zero. The results may not be accurate.\n",
      "  res = hypotest_fun_out(*samples, **kwds)\n"
     ]
    }
   ],
   "execution_count": 240
  },
  {
   "metadata": {
    "ExecuteTime": {
     "end_time": "2024-04-22T08:16:36.945650Z",
     "start_time": "2024-04-22T08:16:36.934721Z"
    }
   },
   "cell_type": "code",
   "source": [
    "stat, p_value = shapiro(AMB_PA_MECVV['estreñimiento'])\n",
    "print(f\"Estadístic W = {stat:.4f}\")\n",
    "print(f\"Valor p = {p_value:.4f}\")\n",
    "\n",
    "alpha = 0.05\n",
    "if p_value < alpha:\n",
    "    print(\"El nombre de files no segueix una distribució normal.\")\n",
    "else:\n",
    "    print(\"El nombre de files segueix una distribució normal\")"
   ],
   "id": "1b0f666c49086302",
   "outputs": [
    {
     "name": "stdout",
     "output_type": "stream",
     "text": [
      "Estadístic W = 1.0000\n",
      "Valor p = 1.0000\n",
      "El nombre de files segueix una distribució normal\n"
     ]
    },
    {
     "name": "stderr",
     "output_type": "stream",
     "text": [
      "C:\\Users\\maria\\PycharmProjects\\practicum\\.venv\\Lib\\site-packages\\scipy\\stats\\_axis_nan_policy.py:531: UserWarning: scipy.stats.shapiro: Input data has range zero. The results may not be accurate.\n",
      "  res = hypotest_fun_out(*samples, **kwds)\n"
     ]
    }
   ],
   "execution_count": 241
  },
  {
   "metadata": {
    "ExecuteTime": {
     "end_time": "2024-04-22T08:16:47.324662Z",
     "start_time": "2024-04-22T08:16:47.277978Z"
    }
   },
   "cell_type": "code",
   "source": [
    "stat, p_value = shapiro(SENSE_PA['estreñimiento'])\n",
    "print(f\"Estadístic W = {stat:.4f}\")\n",
    "print(f\"Valor p = {p_value:.4f}\")\n",
    "\n",
    "alpha = 0.05\n",
    "if p_value < alpha:\n",
    "    print(\"El nombre de files no segueix una distribució normal.\")\n",
    "else:\n",
    "    print(\"El nombre de files segueix una distribució normal\")"
   ],
   "id": "b8d586794cba259c",
   "outputs": [
    {
     "name": "stdout",
     "output_type": "stream",
     "text": [
      "Estadístic W = 1.0000\n",
      "Valor p = 1.0000\n",
      "El nombre de files segueix una distribució normal\n"
     ]
    },
    {
     "name": "stderr",
     "output_type": "stream",
     "text": [
      "C:\\Users\\maria\\PycharmProjects\\practicum\\.venv\\Lib\\site-packages\\scipy\\stats\\_axis_nan_policy.py:531: UserWarning: scipy.stats.shapiro: Input data has range zero. The results may not be accurate.\n",
      "  res = hypotest_fun_out(*samples, **kwds)\n"
     ]
    }
   ],
   "execution_count": 242
  },
  {
   "metadata": {
    "ExecuteTime": {
     "end_time": "2024-04-22T08:22:02.880272Z",
     "start_time": "2024-04-22T08:22:02.871130Z"
    }
   },
   "cell_type": "code",
   "source": [
    "stat, p_value_12 = ttest_ind(AMB_PA['estreñimiento'], AMB_PA_MECVV['estreñimiento'], equal_var=False)\n",
    "print(\"P-valor entre AMB_PA i AMB_PA_MECVV\", p_value_12)"
   ],
   "id": "f12edefe2b75294c",
   "outputs": [
    {
     "name": "stdout",
     "output_type": "stream",
     "text": [
      "P-valor entre AMB_PA i AMB_PA_MECVV nan\n"
     ]
    }
   ],
   "execution_count": 255
  },
  {
   "metadata": {
    "ExecuteTime": {
     "end_time": "2024-04-22T08:22:07.903972Z",
     "start_time": "2024-04-22T08:22:07.896348Z"
    }
   },
   "cell_type": "code",
   "source": [
    "stat, p_value_13 = ttest_ind(AMB_PA['estreñimiento'], SENSE_PA['estreñimiento'], equal_var=False)\n",
    "print(\"P-valor entre AMB_PA i SENSE_PA\", p_value_13)"
   ],
   "id": "50efaeac794ce53",
   "outputs": [
    {
     "name": "stdout",
     "output_type": "stream",
     "text": [
      "P-valor entre AMB_PA i SENSE_PA nan\n"
     ]
    }
   ],
   "execution_count": 256
  },
  {
   "metadata": {
    "ExecuteTime": {
     "end_time": "2024-04-22T08:22:14.459315Z",
     "start_time": "2024-04-22T08:22:14.453981Z"
    }
   },
   "cell_type": "code",
   "source": [
    "stat, p_value_23 = ttest_ind(AMB_PA_MECVV['estreñimiento'], SENSE_PA['estreñimiento'], equal_var=False)\n",
    "print(\"P-valor entre AMB_PA_MECVV i SENSE_PA\", p_value_23)"
   ],
   "id": "90d8d05f36d1bd2f",
   "outputs": [
    {
     "name": "stdout",
     "output_type": "stream",
     "text": [
      "P-valor entre AMB_PA_MECVV i SENSE_PA nan\n"
     ]
    }
   ],
   "execution_count": 257
  },
  {
   "metadata": {},
   "cell_type": "markdown",
   "source": "# Historial mèdic/comorbilitats",
   "id": "d311da4873623a2b"
  },
  {
   "metadata": {},
   "cell_type": "markdown",
   "source": "## Malalties CV",
   "id": "3d8f9f8d375849e3"
  },
  {
   "metadata": {
    "ExecuteTime": {
     "end_time": "2024-04-22T07:40:35.690661Z",
     "start_time": "2024-04-22T07:40:35.681761Z"
    }
   },
   "cell_type": "code",
   "source": [
    "cv_AMB_PA= (AMB_PA['CV'] == 1.0).mean() * 100\n",
    "print(f\"Percentatge de problemes CV: {cv_AMB_PA:.2f}%\")"
   ],
   "id": "e32cfa2a884f35ec",
   "outputs": [
    {
     "name": "stdout",
     "output_type": "stream",
     "text": [
      "Percentatge de problemes CV: 5.88%\n"
     ]
    }
   ],
   "execution_count": 97
  },
  {
   "metadata": {
    "ExecuteTime": {
     "end_time": "2024-04-22T07:40:35.905823Z",
     "start_time": "2024-04-22T07:40:35.899139Z"
    }
   },
   "cell_type": "code",
   "source": [
    "cv_AMB_PA_MECVV= (AMB_PA_MECVV['CV'] == 1.0).mean() * 100\n",
    "print(f\"Percentatge de problemes CV: {cv_AMB_PA_MECVV:.2f}%\")"
   ],
   "id": "88b79facc46de5ee",
   "outputs": [
    {
     "name": "stdout",
     "output_type": "stream",
     "text": [
      "Percentatge de problemes CV: 10.00%\n"
     ]
    }
   ],
   "execution_count": 98
  },
  {
   "metadata": {
    "ExecuteTime": {
     "end_time": "2024-04-22T07:40:36.191101Z",
     "start_time": "2024-04-22T07:40:36.182950Z"
    }
   },
   "cell_type": "code",
   "source": [
    "cv_SENSE_PA= (SENSE_PA['CV'] == 1.0).mean() * 100\n",
    "print(f\"Percentatge de problemes CV: {cv_SENSE_PA:.2f}%\")"
   ],
   "id": "69cd26f61d232d64",
   "outputs": [
    {
     "name": "stdout",
     "output_type": "stream",
     "text": [
      "Percentatge de problemes CV: 6.12%\n"
     ]
    }
   ],
   "execution_count": 99
  },
  {
   "metadata": {},
   "cell_type": "markdown",
   "source": "#### Pvalor",
   "id": "4cd96e9749196e1e"
  },
  {
   "metadata": {},
   "cell_type": "markdown",
   "source": "##### Normalitat ",
   "id": "7cdc03afbe142fec"
  },
  {
   "metadata": {
    "ExecuteTime": {
     "end_time": "2024-04-22T07:40:36.374169Z",
     "start_time": "2024-04-22T07:40:36.364832Z"
    }
   },
   "cell_type": "code",
   "source": [
    "stat, p_value = shapiro(AMB_PA['CV'])\n",
    "print(f\"Estadístic W = {stat:.4f}\")\n",
    "print(f\"Valor p = {p_value:.4f}\")\n",
    "\n",
    "alpha = 0.05\n",
    "if p_value < alpha:\n",
    "    print(\"El nombre de files no segueix una distribució normal.\")\n",
    "else:\n",
    "    print(\"El nombre de files segueix una distribució normal\")"
   ],
   "id": "50ac2eecc28b5527",
   "outputs": [
    {
     "name": "stdout",
     "output_type": "stream",
     "text": [
      "Estadístic W = 0.2622\n",
      "Valor p = 0.0000\n",
      "El nombre de files no segueix una distribució normal.\n"
     ]
    }
   ],
   "execution_count": 100
  },
  {
   "metadata": {
    "ExecuteTime": {
     "end_time": "2024-04-22T07:40:36.686998Z",
     "start_time": "2024-04-22T07:40:36.676145Z"
    }
   },
   "cell_type": "code",
   "source": [
    "stat, p_value = shapiro(AMB_PA_MECVV['CV'])\n",
    "print(f\"Estadístic W = {stat:.4f}\")\n",
    "print(f\"Valor p = {p_value:.4f}\")\n",
    "\n",
    "alpha = 0.05\n",
    "if p_value < alpha:\n",
    "    print(\"El nombre de files no segueix una distribució normal.\")\n",
    "else:\n",
    "    print(\"El nombre de files segueix una distribució normal\")"
   ],
   "id": "22011b4c30d26edb",
   "outputs": [
    {
     "name": "stdout",
     "output_type": "stream",
     "text": [
      "Estadístic W = 0.3657\n",
      "Valor p = 0.0000\n",
      "El nombre de files no segueix una distribució normal.\n"
     ]
    }
   ],
   "execution_count": 101
  },
  {
   "metadata": {
    "ExecuteTime": {
     "end_time": "2024-04-22T07:40:36.862255Z",
     "start_time": "2024-04-22T07:40:36.853911Z"
    }
   },
   "cell_type": "code",
   "source": [
    "stat, p_value = shapiro(SENSE_PA['CV'])\n",
    "print(f\"Estadístic W = {stat:.4f}\")\n",
    "print(f\"Valor p = {p_value:.4f}\")\n",
    "\n",
    "alpha = 0.05\n",
    "if p_value < alpha:\n",
    "    print(\"El nombre de files no segueix una distribució normal.\")\n",
    "else:\n",
    "    print(\"El nombre de files segueix una distribució normal\")"
   ],
   "id": "e1db160804e3a620",
   "outputs": [
    {
     "name": "stdout",
     "output_type": "stream",
     "text": [
      "Estadístic W = 0.2580\n",
      "Valor p = 0.0000\n",
      "El nombre de files no segueix una distribució normal.\n"
     ]
    }
   ],
   "execution_count": 102
  },
  {
   "metadata": {
    "ExecuteTime": {
     "end_time": "2024-04-22T07:40:37.165136Z",
     "start_time": "2024-04-22T07:40:37.155931Z"
    }
   },
   "cell_type": "code",
   "source": [
    "stat, p_value_12 = mannwhitneyu(AMB_PA['CV'], AMB_PA_MECVV['CV'], alternative='two-sided')\n",
    "print(\"P-valor entre AMB_PA i AMB_PA_MECVV\", p_value_12)"
   ],
   "id": "5f10fd063b9b5044",
   "outputs": [
    {
     "name": "stdout",
     "output_type": "stream",
     "text": [
      "P-valor entre AMB_PA i AMB_PA_MECVV 0.7400102360583588\n"
     ]
    }
   ],
   "execution_count": 103
  },
  {
   "metadata": {
    "ExecuteTime": {
     "end_time": "2024-04-22T07:40:37.351738Z",
     "start_time": "2024-04-22T07:40:37.345081Z"
    }
   },
   "cell_type": "code",
   "source": [
    "stat, p_value_13 = mannwhitneyu(AMB_PA['CV'], SENSE_PA['CV'], alternative='two-sided')\n",
    "print(\"P-valor entre AMB_PA i SENSE_PA\", p_value_13)"
   ],
   "id": "3e6ab47f2f7f38d6",
   "outputs": [
    {
     "name": "stdout",
     "output_type": "stream",
     "text": [
      "P-valor entre AMB_PA i SENSE_PA 0.9858477456716862\n"
     ]
    }
   ],
   "execution_count": 104
  },
  {
   "metadata": {
    "ExecuteTime": {
     "end_time": "2024-04-22T07:40:37.622790Z",
     "start_time": "2024-04-22T07:40:37.614967Z"
    }
   },
   "cell_type": "code",
   "source": [
    "stat, p_value_23 = mannwhitneyu(AMB_PA_MECVV['CV'], SENSE_PA['CV'], alternative='two-sided')\n",
    "print(\"P-valor entre AMB_PA_MECVV i SENSE_PA\", p_value_23)"
   ],
   "id": "c9c3b2baeeea6423",
   "outputs": [
    {
     "name": "stdout",
     "output_type": "stream",
     "text": [
      "P-valor entre AMB_PA_MECVV i SENSE_PA 0.6762982127217047\n"
     ]
    }
   ],
   "execution_count": 105
  },
  {
   "metadata": {},
   "cell_type": "markdown",
   "source": "## Malalties del cor",
   "id": "ccb034e70398680a"
  },
  {
   "metadata": {
    "ExecuteTime": {
     "end_time": "2024-04-22T07:40:37.861724Z",
     "start_time": "2024-04-22T07:40:37.856296Z"
    }
   },
   "cell_type": "code",
   "source": [
    "cora_AMB_PA= (AMB_PA['probl_corazon'] == 1.0).mean() * 100\n",
    "print(f\"Percentatge de malalties de cor: {cora_AMB_PA:.2f}%\")"
   ],
   "id": "83445fc0eafd0407",
   "outputs": [
    {
     "name": "stdout",
     "output_type": "stream",
     "text": [
      "Percentatge de malalties de cor: 11.76%\n"
     ]
    }
   ],
   "execution_count": 106
  },
  {
   "metadata": {
    "ExecuteTime": {
     "end_time": "2024-04-22T07:40:38.184068Z",
     "start_time": "2024-04-22T07:40:38.177818Z"
    }
   },
   "cell_type": "code",
   "source": [
    "cora_AMB_PA_MECVV= (AMB_PA_MECVV['probl_corazon'] == 1.0).mean() * 100\n",
    "print(f\"Percentatge de malalties de cor: {cora_AMB_PA_MECVV:.2f}%\")"
   ],
   "id": "bd7136466bd809e1",
   "outputs": [
    {
     "name": "stdout",
     "output_type": "stream",
     "text": [
      "Percentatge de malalties de cor: 10.00%\n"
     ]
    }
   ],
   "execution_count": 107
  },
  {
   "metadata": {
    "ExecuteTime": {
     "end_time": "2024-04-22T07:40:38.411768Z",
     "start_time": "2024-04-22T07:40:38.403006Z"
    }
   },
   "cell_type": "code",
   "source": [
    "cora_SENSE_PA= (SENSE_PA['probl_corazon'] == 1.0).mean() * 100\n",
    "print(f\"Percentatge de malalties de cor: {cora_SENSE_PA:.2f}%\")"
   ],
   "id": "f5a394abf4441af0",
   "outputs": [
    {
     "name": "stdout",
     "output_type": "stream",
     "text": [
      "Percentatge de malalties de cor: 14.29%\n"
     ]
    }
   ],
   "execution_count": 108
  },
  {
   "metadata": {},
   "cell_type": "markdown",
   "source": "#### Pvalor",
   "id": "a6c0069e93bb4b47"
  },
  {
   "metadata": {},
   "cell_type": "markdown",
   "source": "##### Normalitat",
   "id": "a72ee98e29b732e6"
  },
  {
   "metadata": {
    "ExecuteTime": {
     "end_time": "2024-04-22T07:40:38.671180Z",
     "start_time": "2024-04-22T07:40:38.660339Z"
    }
   },
   "cell_type": "code",
   "source": [
    "stat, p_value = shapiro(AMB_PA['probl_corazon'])\n",
    "print(f\"Estadístic W = {stat:.4f}\")\n",
    "print(f\"Valor p = {p_value:.4f}\")\n",
    "\n",
    "alpha = 0.05\n",
    "if p_value < alpha:\n",
    "    print(\"El nombre de files no segueix una distribució normal.\")\n",
    "else:\n",
    "    print(\"El nombre de files segueix una distribució normal\")"
   ],
   "id": "70125a59e92a41c9",
   "outputs": [
    {
     "name": "stdout",
     "output_type": "stream",
     "text": [
      "Estadístic W = 0.3853\n",
      "Valor p = 0.0000\n",
      "El nombre de files no segueix una distribució normal.\n"
     ]
    }
   ],
   "execution_count": 109
  },
  {
   "metadata": {
    "ExecuteTime": {
     "end_time": "2024-04-22T07:40:38.884969Z",
     "start_time": "2024-04-22T07:40:38.877574Z"
    }
   },
   "cell_type": "code",
   "source": [
    "stat, p_value = shapiro(AMB_PA_MECVV['probl_corazon'])\n",
    "print(f\"Estadístic W = {stat:.4f}\")\n",
    "print(f\"Valor p = {p_value:.4f}\")\n",
    "\n",
    "alpha = 0.05\n",
    "if p_value < alpha:\n",
    "    print(\"El nombre de files no segueix una distribució normal.\")\n",
    "else:\n",
    "    print(\"El nombre de files segueix una distribució normal\")"
   ],
   "id": "74329b3c356ab930",
   "outputs": [
    {
     "name": "stdout",
     "output_type": "stream",
     "text": [
      "Estadístic W = 0.3657\n",
      "Valor p = 0.0000\n",
      "El nombre de files no segueix una distribució normal.\n"
     ]
    }
   ],
   "execution_count": 110
  },
  {
   "metadata": {
    "ExecuteTime": {
     "end_time": "2024-04-22T07:40:39.161943Z",
     "start_time": "2024-04-22T07:40:39.154697Z"
    }
   },
   "cell_type": "code",
   "source": [
    "stat, p_value = shapiro(SENSE_PA['probl_corazon'])\n",
    "print(f\"Estadístic W = {stat:.4f}\")\n",
    "print(f\"Valor p = {p_value:.4f}\")\n",
    "\n",
    "alpha = 0.05\n",
    "if p_value < alpha:\n",
    "    print(\"El nombre de files no segueix una distribució normal.\")\n",
    "else:\n",
    "    print(\"El nombre de files segueix una distribució normal\")"
   ],
   "id": "c5eb2d33fd46a0dd",
   "outputs": [
    {
     "name": "stdout",
     "output_type": "stream",
     "text": [
      "Estadístic W = 0.4168\n",
      "Valor p = 0.0000\n",
      "El nombre de files no segueix una distribució normal.\n"
     ]
    }
   ],
   "execution_count": 111
  },
  {
   "metadata": {
    "ExecuteTime": {
     "end_time": "2024-04-22T07:40:39.378470Z",
     "start_time": "2024-04-22T07:40:39.369832Z"
    }
   },
   "cell_type": "code",
   "source": [
    "stat, p_value_12 = mannwhitneyu(AMB_PA['probl_corazon'], AMB_PA_MECVV['probl_corazon'], alternative='two-sided')\n",
    "print(\"P-valor entre AMB_PA i AMB_PA_MECVV\", p_value_12)"
   ],
   "id": "dd41146095c973e6",
   "outputs": [
    {
     "name": "stdout",
     "output_type": "stream",
     "text": [
      "P-valor entre AMB_PA i AMB_PA_MECVV 0.9265568396984611\n"
     ]
    }
   ],
   "execution_count": 112
  },
  {
   "metadata": {
    "ExecuteTime": {
     "end_time": "2024-04-22T07:40:39.654666Z",
     "start_time": "2024-04-22T07:40:39.645502Z"
    }
   },
   "cell_type": "code",
   "source": [
    "stat, p_value_13 = mannwhitneyu(AMB_PA['CV'], SENSE_PA['CV'], alternative='two-sided')\n",
    "print(\"P-valor entre AMB_PA i SENSE_PA\", p_value_13)"
   ],
   "id": "51f94835fcff1281",
   "outputs": [
    {
     "name": "stdout",
     "output_type": "stream",
     "text": [
      "P-valor entre AMB_PA i SENSE_PA 0.9858477456716862\n"
     ]
    }
   ],
   "execution_count": 113
  },
  {
   "metadata": {
    "ExecuteTime": {
     "end_time": "2024-04-22T07:40:39.835508Z",
     "start_time": "2024-04-22T07:40:39.829523Z"
    }
   },
   "cell_type": "code",
   "source": [
    "stat, p_value_23 = mannwhitneyu(AMB_PA_MECVV['CV'], SENSE_PA['CV'], alternative='two-sided')\n",
    "print(\"P-valor entre AMB_PA_MECVV i SENSE_PA\", p_value_23)"
   ],
   "id": "91d8fe72b61842",
   "outputs": [
    {
     "name": "stdout",
     "output_type": "stream",
     "text": [
      "P-valor entre AMB_PA_MECVV i SENSE_PA 0.6762982127217047\n"
     ]
    }
   ],
   "execution_count": 114
  },
  {
   "metadata": {},
   "cell_type": "markdown",
   "source": "## Malalties neurodegeneratives",
   "id": "18c9cce147e62274"
  },
  {
   "metadata": {
    "ExecuteTime": {
     "end_time": "2024-04-22T07:40:40.137368Z",
     "start_time": "2024-04-22T07:40:40.131598Z"
    }
   },
   "cell_type": "code",
   "source": [
    "nd_AMB_PA= (AMB_PA['neurodegenerativas'] == 1.0).mean() * 100\n",
    "print(f\"Percentatge de malalties neurodegeneratives: {nd_AMB_PA:.2f}%\")"
   ],
   "id": "1b290be0c970c5fe",
   "outputs": [
    {
     "name": "stdout",
     "output_type": "stream",
     "text": [
      "Percentatge de malalties neurodegeneratives: 0.00%\n"
     ]
    }
   ],
   "execution_count": 115
  },
  {
   "metadata": {
    "ExecuteTime": {
     "end_time": "2024-04-22T07:40:40.325267Z",
     "start_time": "2024-04-22T07:40:40.313505Z"
    }
   },
   "cell_type": "code",
   "source": [
    "nd_AMB_PA_MECVV= (AMB_PA_MECVV['neurodegenerativas'] == 1.0).mean() * 100\n",
    "print(f\"Percentatge de malalties neurodegeneratives: {nd_AMB_PA_MECVV:.2f}%\")"
   ],
   "id": "d7a46cc9000b68a9",
   "outputs": [
    {
     "name": "stdout",
     "output_type": "stream",
     "text": [
      "Percentatge de malalties neurodegeneratives: 10.00%\n"
     ]
    }
   ],
   "execution_count": 116
  },
  {
   "metadata": {
    "ExecuteTime": {
     "end_time": "2024-04-22T07:40:40.647263Z",
     "start_time": "2024-04-22T07:40:40.638761Z"
    }
   },
   "cell_type": "code",
   "source": [
    "nd_SENSE_PA= (SENSE_PA['neurodegenerativas'] == 1.0).mean() * 100\n",
    "print(f\"Percentatge de malalties neurodegeneratives: {nd_SENSE_PA:.2f}%\")"
   ],
   "id": "fef909050dd582f3",
   "outputs": [
    {
     "name": "stdout",
     "output_type": "stream",
     "text": [
      "Percentatge de malalties neurodegeneratives: 4.08%\n"
     ]
    }
   ],
   "execution_count": 117
  },
  {
   "metadata": {},
   "cell_type": "markdown",
   "source": "#### Pvalor",
   "id": "13d4492161572489"
  },
  {
   "metadata": {},
   "cell_type": "markdown",
   "source": "##### Normalitat",
   "id": "e98b267abe8ec4da"
  },
  {
   "metadata": {
    "ExecuteTime": {
     "end_time": "2024-04-22T07:40:40.921578Z",
     "start_time": "2024-04-22T07:40:40.914345Z"
    }
   },
   "cell_type": "code",
   "source": [
    "stat, p_value = shapiro(AMB_PA['neurodegenerativas'])\n",
    "print(f\"Estadístic W = {stat:.4f}\")\n",
    "print(f\"Valor p = {p_value:.4f}\")\n",
    "\n",
    "alpha = 0.05\n",
    "if p_value < alpha:\n",
    "    print(\"El nombre de files no segueix una distribució normal.\")\n",
    "else:\n",
    "    print(\"El nombre de files segueix una distribució normal\")"
   ],
   "id": "8d87943002876acb",
   "outputs": [
    {
     "name": "stdout",
     "output_type": "stream",
     "text": [
      "Estadístic W = 1.0000\n",
      "Valor p = 1.0000\n",
      "El nombre de files segueix una distribució normal\n"
     ]
    }
   ],
   "execution_count": 118
  },
  {
   "metadata": {
    "ExecuteTime": {
     "end_time": "2024-04-22T07:40:41.166565Z",
     "start_time": "2024-04-22T07:40:41.155971Z"
    }
   },
   "cell_type": "code",
   "source": [
    "stat, p_value = shapiro(AMB_PA_MECVV['neurodegenerativas'])\n",
    "print(f\"Estadístic W = {stat:.4f}\")\n",
    "print(f\"Valor p = {p_value:.4f}\")\n",
    "\n",
    "alpha = 0.05\n",
    "if p_value < alpha:\n",
    "    print(\"El nombre de files no segueix una distribució normal.\")\n",
    "else:\n",
    "    print(\"El nombre de files segueix una distribució normal\")"
   ],
   "id": "6982f3d36ccde172",
   "outputs": [
    {
     "name": "stdout",
     "output_type": "stream",
     "text": [
      "Estadístic W = 0.3657\n",
      "Valor p = 0.0000\n",
      "El nombre de files no segueix una distribució normal.\n"
     ]
    }
   ],
   "execution_count": 119
  },
  {
   "metadata": {
    "ExecuteTime": {
     "end_time": "2024-04-22T07:40:41.336343Z",
     "start_time": "2024-04-22T07:40:41.327924Z"
    }
   },
   "cell_type": "code",
   "source": [
    "stat, p_value = shapiro(SENSE_PA['neurodegenerativas'])\n",
    "print(f\"Estadístic W = {stat:.4f}\")\n",
    "print(f\"Valor p = {p_value:.4f}\")\n",
    "\n",
    "alpha = 0.05\n",
    "if p_value < alpha:\n",
    "    print(\"El nombre de files no segueix una distribució normal.\")\n",
    "else:\n",
    "    print(\"El nombre de files segueix una distribució normal\")"
   ],
   "id": "4a33f042367e4f46",
   "outputs": [
    {
     "name": "stdout",
     "output_type": "stream",
     "text": [
      "Estadístic W = 0.2008\n",
      "Valor p = 0.0000\n",
      "El nombre de files no segueix una distribució normal.\n"
     ]
    }
   ],
   "execution_count": 120
  },
  {
   "metadata": {
    "ExecuteTime": {
     "end_time": "2024-04-22T07:40:41.598760Z",
     "start_time": "2024-04-22T07:40:41.591022Z"
    }
   },
   "cell_type": "code",
   "source": [
    "stat, p_value_12 = mannwhitneyu(AMB_PA['neurodegenerativas'], AMB_PA_MECVV['neurodegenerativas'], alternative='two-sided')\n",
    "print(\"P-valor entre AMB_PA i AMB_PA_MECVV\", p_value_12)"
   ],
   "id": "7ea74d2a49cec4ac",
   "outputs": [
    {
     "name": "stdout",
     "output_type": "stream",
     "text": [
      "P-valor entre AMB_PA i AMB_PA_MECVV 0.21976847950216105\n"
     ]
    }
   ],
   "execution_count": 121
  },
  {
   "metadata": {
    "ExecuteTime": {
     "end_time": "2024-04-22T07:40:41.802258Z",
     "start_time": "2024-04-22T07:40:41.792826Z"
    }
   },
   "cell_type": "code",
   "source": [
    "stat, p_value_13 = mannwhitneyu(AMB_PA['neurodegenerativas'], SENSE_PA['neurodegenerativas'], alternative='two-sided')\n",
    "print(\"P-valor entre AMB_PA i SENSE_PA\", p_value_13)"
   ],
   "id": "fedde2b245d34d1",
   "outputs": [
    {
     "name": "stdout",
     "output_type": "stream",
     "text": [
      "P-valor entre AMB_PA i SENSE_PA 0.41519527301502746\n"
     ]
    }
   ],
   "execution_count": 122
  },
  {
   "metadata": {
    "ExecuteTime": {
     "end_time": "2024-04-22T07:40:42.075347Z",
     "start_time": "2024-04-22T07:40:42.064709Z"
    }
   },
   "cell_type": "code",
   "source": [
    "stat, p_value_23 = mannwhitneyu(AMB_PA_MECVV['neurodegenerativas'], SENSE_PA['neurodegenerativas'], alternative='two-sided')\n",
    "print(\"P-valor entre AMB_PA_MECVV i SENSE_PA\", p_value_23)"
   ],
   "id": "2329b5f7f410f0fb",
   "outputs": [
    {
     "name": "stdout",
     "output_type": "stream",
     "text": [
      "P-valor entre AMB_PA_MECVV i SENSE_PA 0.45734646700671056\n"
     ]
    }
   ],
   "execution_count": 123
  },
  {
   "metadata": {},
   "cell_type": "markdown",
   "source": "## Diabetes mellitus",
   "id": "42b942e8587dc0c3"
  },
  {
   "metadata": {
    "ExecuteTime": {
     "end_time": "2024-04-22T07:40:42.298994Z",
     "start_time": "2024-04-22T07:40:42.294252Z"
    }
   },
   "cell_type": "code",
   "source": [
    "dm_AMB_PA= (AMB_PA['DM'] == 1.0).mean() * 100\n",
    "print(f\"Percentatge de diabetes mellitus: {dm_AMB_PA:.2f}%\")"
   ],
   "id": "698511ef1e3136bc",
   "outputs": [
    {
     "name": "stdout",
     "output_type": "stream",
     "text": [
      "Percentatge de diabetes mellitus: 23.53%\n"
     ]
    }
   ],
   "execution_count": 124
  },
  {
   "metadata": {
    "ExecuteTime": {
     "end_time": "2024-04-22T07:40:42.617403Z",
     "start_time": "2024-04-22T07:40:42.611146Z"
    }
   },
   "cell_type": "code",
   "source": [
    "dm_AMB_PA_MECVV= (AMB_PA_MECVV['DM'] == 1.0).mean() * 100\n",
    "print(f\"Percentatge de diabetes mellitus: {dm_AMB_PA_MECVV:.2f}%\")"
   ],
   "id": "80ed95bb2fa57c00",
   "outputs": [
    {
     "name": "stdout",
     "output_type": "stream",
     "text": [
      "Percentatge de diabetes mellitus: 10.00%\n"
     ]
    }
   ],
   "execution_count": 125
  },
  {
   "metadata": {
    "ExecuteTime": {
     "end_time": "2024-04-22T07:40:42.822189Z",
     "start_time": "2024-04-22T07:40:42.816557Z"
    }
   },
   "cell_type": "code",
   "source": [
    "dm_SENSE_PA= (SENSE_PA['DM'] == 1.0).mean() * 100\n",
    "print(f\"Percentatge de diabetes mellitus: {dm_SENSE_PA:.2f}%\")"
   ],
   "id": "2de37780f8d2b591",
   "outputs": [
    {
     "name": "stdout",
     "output_type": "stream",
     "text": [
      "Percentatge de diabetes mellitus: 26.53%\n"
     ]
    }
   ],
   "execution_count": 126
  },
  {
   "metadata": {},
   "cell_type": "markdown",
   "source": "#### Pvalor ",
   "id": "39c5da893c7deb9c"
  },
  {
   "metadata": {},
   "cell_type": "markdown",
   "source": "##### Normalitat",
   "id": "ebee9ab25c7f5d27"
  },
  {
   "metadata": {
    "ExecuteTime": {
     "end_time": "2024-04-22T07:40:43.133669Z",
     "start_time": "2024-04-22T07:40:43.126088Z"
    }
   },
   "cell_type": "code",
   "source": [
    "stat, p_value = shapiro(AMB_PA['DM'])\n",
    "print(f\"Estadístic W = {stat:.4f}\")\n",
    "print(f\"Valor p = {p_value:.4f}\")\n",
    "\n",
    "alpha = 0.05\n",
    "if p_value < alpha:\n",
    "    print(\"El nombre de files no segueix una distribució normal.\")\n",
    "else:\n",
    "    print(\"El nombre de files segueix una distribució normal\")"
   ],
   "id": "873e8801ed67f9de",
   "outputs": [
    {
     "name": "stdout",
     "output_type": "stream",
     "text": [
      "Estadístic W = 0.5327\n",
      "Valor p = 0.0000\n",
      "El nombre de files no segueix una distribució normal.\n"
     ]
    }
   ],
   "execution_count": 127
  },
  {
   "metadata": {
    "ExecuteTime": {
     "end_time": "2024-04-22T07:40:43.332793Z",
     "start_time": "2024-04-22T07:40:43.325315Z"
    }
   },
   "cell_type": "code",
   "source": [
    "stat, p_value = shapiro(AMB_PA_MECVV['DM'])\n",
    "print(f\"Estadístic W = {stat:.4f}\")\n",
    "print(f\"Valor p = {p_value:.4f}\")\n",
    "\n",
    "alpha = 0.05\n",
    "if p_value < alpha:\n",
    "    print(\"El nombre de files no segueix una distribució normal.\")\n",
    "else:\n",
    "    print(\"El nombre de files segueix una distribució normal\")"
   ],
   "id": "45d49dc27d20b1a8",
   "outputs": [
    {
     "name": "stdout",
     "output_type": "stream",
     "text": [
      "Estadístic W = 0.3657\n",
      "Valor p = 0.0000\n",
      "El nombre de files no segueix una distribució normal.\n"
     ]
    }
   ],
   "execution_count": 128
  },
  {
   "metadata": {
    "ExecuteTime": {
     "end_time": "2024-04-22T07:40:43.691858Z",
     "start_time": "2024-04-22T07:40:43.683360Z"
    }
   },
   "cell_type": "code",
   "source": [
    "stat, p_value = shapiro(SENSE_PA['DM'])\n",
    "print(f\"Estadístic W = {stat:.4f}\")\n",
    "print(f\"Valor p = {p_value:.4f}\")\n",
    "\n",
    "alpha = 0.05\n",
    "if p_value < alpha:\n",
    "    print(\"El nombre de files no segueix una distribució normal.\")\n",
    "else:\n",
    "    print(\"El nombre de files segueix una distribució normal\")"
   ],
   "id": "7d5c39dae28b5115",
   "outputs": [
    {
     "name": "stdout",
     "output_type": "stream",
     "text": [
      "Estadístic W = 0.5514\n",
      "Valor p = 0.0000\n",
      "El nombre de files no segueix una distribució normal.\n"
     ]
    }
   ],
   "execution_count": 129
  },
  {
   "metadata": {
    "ExecuteTime": {
     "end_time": "2024-04-22T07:40:43.892028Z",
     "start_time": "2024-04-22T07:40:43.879981Z"
    }
   },
   "cell_type": "code",
   "source": [
    "stat, p_value_12 = mannwhitneyu(AMB_PA['DM'], AMB_PA_MECVV['DM'], alternative='two-sided')\n",
    "print(\"P-valor entre AMB_PA i AMB_PA_MECVV\", p_value_12)"
   ],
   "id": "b76e252fda353c31",
   "outputs": [
    {
     "name": "stdout",
     "output_type": "stream",
     "text": [
      "P-valor entre AMB_PA i AMB_PA_MECVV 0.4120280546315189\n"
     ]
    }
   ],
   "execution_count": 130
  },
  {
   "metadata": {
    "ExecuteTime": {
     "end_time": "2024-04-22T07:40:44.153856Z",
     "start_time": "2024-04-22T07:40:44.135917Z"
    }
   },
   "cell_type": "code",
   "source": [
    "stat, p_value_13 = mannwhitneyu(AMB_PA['DM'], SENSE_PA['DM'], alternative='two-sided')\n",
    "print(\"P-valor entre AMB_PA i SENSE_PAN\", p_value_13)"
   ],
   "id": "4cfaeae595eb594b",
   "outputs": [
    {
     "name": "stdout",
     "output_type": "stream",
     "text": [
      "P-valor entre AMB_PA i SENSE_PAN 0.8163159339942008\n"
     ]
    }
   ],
   "execution_count": 131
  },
  {
   "metadata": {
    "ExecuteTime": {
     "end_time": "2024-04-22T07:40:44.350425Z",
     "start_time": "2024-04-22T07:40:44.340555Z"
    }
   },
   "cell_type": "code",
   "source": [
    "stat, p_value_23 = mannwhitneyu(AMB_PA_MECVV['DM'], SENSE_PA['DM'], alternative='two-sided')\n",
    "print(\"P-valor entre AMB_PA_MECVV i SENSE_PAN\", p_value_23)"
   ],
   "id": "372c60185966ee23",
   "outputs": [
    {
     "name": "stdout",
     "output_type": "stream",
     "text": [
      "P-valor entre AMB_PA_MECVV i SENSE_PAN 0.2728301710651724\n"
     ]
    }
   ],
   "execution_count": 132
  },
  {
   "metadata": {},
   "cell_type": "markdown",
   "source": "## Hepatopaties",
   "id": "772c1f476c2f3d43"
  },
  {
   "metadata": {
    "ExecuteTime": {
     "end_time": "2024-04-22T07:40:44.609243Z",
     "start_time": "2024-04-22T07:40:44.600476Z"
    }
   },
   "cell_type": "code",
   "source": [
    "hp_AMB_PA= (AMB_PA['hepatopatias'] == 1.0).mean() * 100\n",
    "print(f\"Percentatge de hepatopaties: {hp_AMB_PA:.2f}%\")"
   ],
   "id": "5cfced98e5d59960",
   "outputs": [
    {
     "name": "stdout",
     "output_type": "stream",
     "text": [
      "Percentatge de hepatopaties: 11.76%\n"
     ]
    }
   ],
   "execution_count": 133
  },
  {
   "metadata": {
    "ExecuteTime": {
     "end_time": "2024-04-22T07:40:44.843798Z",
     "start_time": "2024-04-22T07:40:44.832486Z"
    }
   },
   "cell_type": "code",
   "source": [
    "hp_AMB_PA_MECVV= (AMB_PA_MECVV['hepatopatias'] == 1.0).mean() * 100\n",
    "print(f\"Percentatge de hepatopaties: {hp_AMB_PA_MECVV:.2f}%\")"
   ],
   "id": "ffeb2d3f7c6163ad",
   "outputs": [
    {
     "name": "stdout",
     "output_type": "stream",
     "text": [
      "Percentatge de hepatopaties: 10.00%\n"
     ]
    }
   ],
   "execution_count": 134
  },
  {
   "metadata": {
    "ExecuteTime": {
     "end_time": "2024-04-22T07:40:45.159263Z",
     "start_time": "2024-04-22T07:40:45.147974Z"
    }
   },
   "cell_type": "code",
   "source": [
    "hp_SENSE_PA= (SENSE_PA['hepatopatias'] == 1.0).mean() * 100\n",
    "print(f\"Percentatge de hepatopaties: {hp_SENSE_PA:.2f}%\")"
   ],
   "id": "23ccf77254538573",
   "outputs": [
    {
     "name": "stdout",
     "output_type": "stream",
     "text": [
      "Percentatge de hepatopaties: 6.12%\n"
     ]
    }
   ],
   "execution_count": 135
  },
  {
   "metadata": {},
   "cell_type": "markdown",
   "source": "#### Pvalor",
   "id": "ee084e9b17270c10"
  },
  {
   "metadata": {},
   "cell_type": "markdown",
   "source": "##### Normalitat",
   "id": "b932958d65d9e455"
  },
  {
   "metadata": {
    "ExecuteTime": {
     "end_time": "2024-04-22T07:40:45.456303Z",
     "start_time": "2024-04-22T07:40:45.448710Z"
    }
   },
   "cell_type": "code",
   "source": [
    "stat, p_value = shapiro(AMB_PA['hepatopatias'])\n",
    "print(f\"Estadístic W = {stat:.4f}\")\n",
    "print(f\"Valor p = {p_value:.4f}\")\n",
    "\n",
    "alpha = 0.05\n",
    "if p_value < alpha:\n",
    "    print(\"El nombre de files no segueix una distribució normal.\")\n",
    "else:\n",
    "    print(\"El nombre de files segueix una distribució normal\")"
   ],
   "id": "de51f01ce1362aab",
   "outputs": [
    {
     "name": "stdout",
     "output_type": "stream",
     "text": [
      "Estadístic W = 0.3853\n",
      "Valor p = 0.0000\n",
      "El nombre de files no segueix una distribució normal.\n"
     ]
    }
   ],
   "execution_count": 136
  },
  {
   "metadata": {
    "ExecuteTime": {
     "end_time": "2024-04-22T07:40:45.866283Z",
     "start_time": "2024-04-22T07:40:45.859365Z"
    }
   },
   "cell_type": "code",
   "source": [
    "stat, p_value = shapiro(AMB_PA_MECVV['hepatopatias'])\n",
    "print(f\"Estadístic W = {stat:.4f}\")\n",
    "print(f\"Valor p = {p_value:.4f}\")\n",
    "\n",
    "alpha = 0.05\n",
    "if p_value < alpha:\n",
    "    print(\"El nombre de files no segueix una distribució normal.\")\n",
    "else:\n",
    "    print(\"El nombre de files segueix una distribució normal\")"
   ],
   "id": "343a308a86ecb20b",
   "outputs": [
    {
     "name": "stdout",
     "output_type": "stream",
     "text": [
      "Estadístic W = 0.3657\n",
      "Valor p = 0.0000\n",
      "El nombre de files no segueix una distribució normal.\n"
     ]
    }
   ],
   "execution_count": 137
  },
  {
   "metadata": {
    "ExecuteTime": {
     "end_time": "2024-04-22T07:40:46.116139Z",
     "start_time": "2024-04-22T07:40:46.107041Z"
    }
   },
   "cell_type": "code",
   "source": [
    "stat, p_value = shapiro(SENSE_PA['hepatopatias'])\n",
    "print(f\"Estadístic W = {stat:.4f}\")\n",
    "print(f\"Valor p = {p_value:.4f}\")\n",
    "\n",
    "alpha = 0.05\n",
    "if p_value < alpha:\n",
    "    print(\"El nombre de files no segueix una distribució normal.\")\n",
    "else:\n",
    "    print(\"El nombre de files segueix una distribució normal\")"
   ],
   "id": "94bfe6f6b1e080e3",
   "outputs": [
    {
     "name": "stdout",
     "output_type": "stream",
     "text": [
      "Estadístic W = 0.2580\n",
      "Valor p = 0.0000\n",
      "El nombre de files no segueix una distribució normal.\n"
     ]
    }
   ],
   "execution_count": 138
  },
  {
   "metadata": {
    "ExecuteTime": {
     "end_time": "2024-04-22T07:40:46.495003Z",
     "start_time": "2024-04-22T07:40:46.484155Z"
    }
   },
   "cell_type": "code",
   "source": [
    "stat, p_value_12 = mannwhitneyu(AMB_PA['hepatopatias'], AMB_PA_MECVV['hepatopatias'], alternative='two-sided')\n",
    "print(\"P-valor entre AMB_PA i AMB_PA_MECVV\", p_value_12)"
   ],
   "id": "f1d399767dab3eeb",
   "outputs": [
    {
     "name": "stdout",
     "output_type": "stream",
     "text": [
      "P-valor entre AMB_PA i AMB_PA_MECVV 0.9265568396984611\n"
     ]
    }
   ],
   "execution_count": 139
  },
  {
   "metadata": {
    "ExecuteTime": {
     "end_time": "2024-04-22T07:40:46.734230Z",
     "start_time": "2024-04-22T07:40:46.724679Z"
    }
   },
   "cell_type": "code",
   "source": [
    "stat, p_value_13 = mannwhitneyu(AMB_PA['hepatopatias'], SENSE_PA['hepatopatias'], alternative='two-sided')\n",
    "print(\"P-valor entre AMB_PA i SENSE_PA\", p_value_13)"
   ],
   "id": "e5ae22e928d63a0f",
   "outputs": [
    {
     "name": "stdout",
     "output_type": "stream",
     "text": [
      "P-valor entre AMB_PA i SENSE_PA 0.4618706673466527\n"
     ]
    }
   ],
   "execution_count": 140
  },
  {
   "metadata": {
    "ExecuteTime": {
     "end_time": "2024-04-22T07:40:47.068806Z",
     "start_time": "2024-04-22T07:40:47.060804Z"
    }
   },
   "cell_type": "code",
   "source": [
    "stat, p_value_23 = mannwhitneyu(AMB_PA_MECVV['hepatopatias'], SENSE_PA['hepatopatias'], alternative='two-sided')\n",
    "print(\"P-valor entre AMB_PA_MECVV i SENSE_PA\", p_value_23)"
   ],
   "id": "c8e4bb6c92eae392",
   "outputs": [
    {
     "name": "stdout",
     "output_type": "stream",
     "text": [
      "P-valor entre AMB_PA_MECVV i SENSE_PA 0.6762982127217047\n"
     ]
    }
   ],
   "execution_count": 141
  },
  {
   "metadata": {},
   "cell_type": "markdown",
   "source": "## Neoplàsia",
   "id": "959b58aaaaab994b"
  },
  {
   "metadata": {
    "ExecuteTime": {
     "end_time": "2024-04-22T07:40:47.302909Z",
     "start_time": "2024-04-22T07:40:47.296619Z"
    }
   },
   "cell_type": "code",
   "source": [
    "neopl_AMB_PA= (AMB_PA['neoplasias'] == 1.0).mean() * 100\n",
    "print(f\"Percentatge de neoplàsia: {neopl_AMB_PA:.2f}%\")"
   ],
   "id": "6bbefcc81da003fc",
   "outputs": [
    {
     "name": "stdout",
     "output_type": "stream",
     "text": [
      "Percentatge de neoplàsia: 0.00%\n"
     ]
    }
   ],
   "execution_count": 142
  },
  {
   "metadata": {
    "ExecuteTime": {
     "end_time": "2024-04-22T07:40:47.660344Z",
     "start_time": "2024-04-22T07:40:47.651771Z"
    }
   },
   "cell_type": "code",
   "source": [
    "neopl_AMB_PA_MECVV= (AMB_PA_MECVV['neoplasias'] == 1.0).mean() * 100\n",
    "print(f\"Percentatge de neoplàsia: {neopl_AMB_PA_MECVV:.2f}%\")"
   ],
   "id": "216d7eebaa16abc0",
   "outputs": [
    {
     "name": "stdout",
     "output_type": "stream",
     "text": [
      "Percentatge de neoplàsia: 0.00%\n"
     ]
    }
   ],
   "execution_count": 143
  },
  {
   "metadata": {
    "ExecuteTime": {
     "end_time": "2024-04-22T07:40:47.901009Z",
     "start_time": "2024-04-22T07:40:47.892240Z"
    }
   },
   "cell_type": "code",
   "source": [
    "neopl_SENSE_PA= (SENSE_PA['neoplasias'] == 1.0).mean() * 100\n",
    "print(f\"Percentatge de neoplàsia: {neopl_SENSE_PA:.2f}%\")"
   ],
   "id": "380e87c3db7e8b7a",
   "outputs": [
    {
     "name": "stdout",
     "output_type": "stream",
     "text": [
      "Percentatge de neoplàsia: 6.12%\n"
     ]
    }
   ],
   "execution_count": 144
  },
  {
   "metadata": {},
   "cell_type": "markdown",
   "source": "#### Pvalor",
   "id": "338c0f6458d8be19"
  },
  {
   "metadata": {},
   "cell_type": "markdown",
   "source": "##### Normalitat",
   "id": "9377ac1a9f6dd002"
  },
  {
   "metadata": {
    "ExecuteTime": {
     "end_time": "2024-04-22T07:40:48.217620Z",
     "start_time": "2024-04-22T07:40:48.211722Z"
    }
   },
   "cell_type": "code",
   "source": [
    "stat, p_value = shapiro(AMB_PA['neoplasias'])\n",
    "print(f\"Estadístic W = {stat:.4f}\")\n",
    "print(f\"Valor p = {p_value:.4f}\")\n",
    "\n",
    "alpha = 0.05\n",
    "if p_value < alpha:\n",
    "    print(\"El nombre de files no segueix una distribució normal.\")\n",
    "else:\n",
    "    print(\"El nombre de files segueix una distribució normal\")"
   ],
   "id": "7c858ee47d54bc43",
   "outputs": [
    {
     "name": "stdout",
     "output_type": "stream",
     "text": [
      "Estadístic W = 1.0000\n",
      "Valor p = 1.0000\n",
      "El nombre de files segueix una distribució normal\n"
     ]
    }
   ],
   "execution_count": 145
  },
  {
   "metadata": {
    "ExecuteTime": {
     "end_time": "2024-04-22T07:40:48.416154Z",
     "start_time": "2024-04-22T07:40:48.407638Z"
    }
   },
   "cell_type": "code",
   "source": [
    "stat, p_value = shapiro(AMB_PA_MECVV['hepatopatias'])\n",
    "print(f\"Estadístic W = {stat:.4f}\")\n",
    "print(f\"Valor p = {p_value:.4f}\")\n",
    "\n",
    "alpha = 0.05\n",
    "if p_value < alpha:\n",
    "    print(\"El nombre de files no segueix una distribució normal.\")\n",
    "else:\n",
    "    print(\"El nombre de files segueix una distribució normal\")"
   ],
   "id": "dde37d63a9b667d",
   "outputs": [
    {
     "name": "stdout",
     "output_type": "stream",
     "text": [
      "Estadístic W = 0.3657\n",
      "Valor p = 0.0000\n",
      "El nombre de files no segueix una distribució normal.\n"
     ]
    }
   ],
   "execution_count": 146
  },
  {
   "metadata": {
    "ExecuteTime": {
     "end_time": "2024-04-22T07:40:48.691668Z",
     "start_time": "2024-04-22T07:40:48.683343Z"
    }
   },
   "cell_type": "code",
   "source": [
    "stat, p_value = shapiro(SENSE_PA['hepatopatias'])\n",
    "print(f\"Estadístic W = {stat:.4f}\")\n",
    "print(f\"Valor p = {p_value:.4f}\")\n",
    "\n",
    "alpha = 0.05\n",
    "if p_value < alpha:\n",
    "    print(\"El nombre de files no segueix una distribució normal.\")\n",
    "else:\n",
    "    print(\"El nombre de files segueix una distribució normal\")"
   ],
   "id": "6bb78df14856b8f9",
   "outputs": [
    {
     "name": "stdout",
     "output_type": "stream",
     "text": [
      "Estadístic W = 0.2580\n",
      "Valor p = 0.0000\n",
      "El nombre de files no segueix una distribució normal.\n"
     ]
    }
   ],
   "execution_count": 147
  },
  {
   "metadata": {
    "ExecuteTime": {
     "end_time": "2024-04-22T07:40:48.916219Z",
     "start_time": "2024-04-22T07:40:48.909462Z"
    }
   },
   "cell_type": "code",
   "source": [
    "stat, p_value_12 = mannwhitneyu(AMB_PA['neoplasias'], AMB_PA_MECVV['neoplasias'], alternative='two-sided')\n",
    "print(\"P-valor entre AMB_PA i AMB_PA_MECVV\", p_value_12)"
   ],
   "id": "7e49acda243ca033",
   "outputs": [
    {
     "name": "stdout",
     "output_type": "stream",
     "text": [
      "P-valor entre AMB_PA i AMB_PA_MECVV 1.0\n"
     ]
    }
   ],
   "execution_count": 148
  },
  {
   "metadata": {
    "ExecuteTime": {
     "end_time": "2024-04-22T07:40:49.193974Z",
     "start_time": "2024-04-22T07:40:49.184595Z"
    }
   },
   "cell_type": "code",
   "source": [
    "stat, p_value_13 = mannwhitneyu(AMB_PA['neoplasias'], SENSE_PA['neoplasias'], alternative='two-sided')\n",
    "print(\"P-valor entre AMB_PA i SENSE_PA\", p_value_12)"
   ],
   "id": "19de53eaca6faf46",
   "outputs": [
    {
     "name": "stdout",
     "output_type": "stream",
     "text": [
      "P-valor entre AMB_PA i SENSE_PA 1.0\n"
     ]
    }
   ],
   "execution_count": 149
  },
  {
   "metadata": {
    "ExecuteTime": {
     "end_time": "2024-04-22T07:40:49.462084Z",
     "start_time": "2024-04-22T07:40:49.452811Z"
    }
   },
   "cell_type": "code",
   "source": [
    "stat, p_value_23 = mannwhitneyu(AMB_PA_MECVV['neoplasias'], SENSE_PA['neoplasias'], alternative='two-sided')\n",
    "print(\"P-valor entre AMB_PA_MECVV i SENSE_PA\", p_value_23)"
   ],
   "id": "d041e42afd281dba",
   "outputs": [
    {
     "name": "stdout",
     "output_type": "stream",
     "text": [
      "P-valor entre AMB_PA_MECVV i SENSE_PA 0.44143809205435813\n"
     ]
    }
   ],
   "execution_count": 150
  },
  {
   "metadata": {},
   "cell_type": "markdown",
   "source": "## Malaltia crònica renal (creatinina > 1.5mg/dL)",
   "id": "be977a70d2e9a7c"
  },
  {
   "metadata": {},
   "cell_type": "markdown",
   "source": "Donat que aquesta columna és de tipus objecte, primer la passaré a tipus numèric per poder operar amb ella",
   "id": "104b74d04d4f6f25"
  },
  {
   "metadata": {
    "ExecuteTime": {
     "end_time": "2024-04-22T07:40:49.739498Z",
     "start_time": "2024-04-22T07:40:49.728837Z"
    }
   },
   "cell_type": "code",
   "source": [
    "AMB_PA.loc[:, 'creatinina'] = pd.to_numeric(AMB_PA['creatinina'], errors='coerce')\n",
    "AMB_PA_MECVV.loc[:, 'creatinina'] = pd.to_numeric(AMB_PA_MECVV['creatinina'], errors='coerce')\n",
    "SENSE_PA.loc[:, 'creatinina'] = pd.to_numeric(SENSE_PA['creatinina'], errors='coerce')"
   ],
   "id": "44a54bc94beb324a",
   "outputs": [],
   "execution_count": 151
  },
  {
   "metadata": {
    "ExecuteTime": {
     "end_time": "2024-04-22T07:40:49.969473Z",
     "start_time": "2024-04-22T07:40:49.963514Z"
    }
   },
   "cell_type": "code",
   "source": [
    "ecr_AMB_PA= (AMB_PA['creatinina'] >= 1.5).mean() * 100\n",
    "print(f\"Percentatge de malaltia crònica renal amb creatinina >1.5: {ecr_AMB_PA:.2f}%\")"
   ],
   "id": "1220b795ea747457",
   "outputs": [
    {
     "name": "stdout",
     "output_type": "stream",
     "text": [
      "Percentatge de malaltia crònica renal amb creatinina >1.5: 0.00%\n"
     ]
    }
   ],
   "execution_count": 152
  },
  {
   "metadata": {
    "ExecuteTime": {
     "end_time": "2024-04-22T07:40:50.267764Z",
     "start_time": "2024-04-22T07:40:50.260986Z"
    }
   },
   "cell_type": "code",
   "source": [
    "ecr_AMB_PA_MECVV= (AMB_PA_MECVV['creatinina'] > 1.5).mean() * 100\n",
    "print(f\"Percentatge de malaltia crònica renal amb creatinina >1.5: {ecr_AMB_PA_MECVV:.2f}%\")"
   ],
   "id": "f33ab01070f387e4",
   "outputs": [
    {
     "name": "stdout",
     "output_type": "stream",
     "text": [
      "Percentatge de malaltia crònica renal amb creatinina >1.5: 0.00%\n"
     ]
    }
   ],
   "execution_count": 153
  },
  {
   "metadata": {
    "ExecuteTime": {
     "end_time": "2024-04-22T07:40:50.441852Z",
     "start_time": "2024-04-22T07:40:50.429168Z"
    }
   },
   "cell_type": "code",
   "source": [
    "ecr_SENSE_PA= (SENSE_PA['creatinina'] > 1.5).mean() * 100\n",
    "print(f\"Percentatge de malaltia crònica renal amb creatinina >1.5: {ecr_SENSE_PA:.2f}%\")"
   ],
   "id": "f2a96ab467d4fa20",
   "outputs": [
    {
     "name": "stdout",
     "output_type": "stream",
     "text": [
      "Percentatge de malaltia crònica renal amb creatinina >1.5: 6.12%\n"
     ]
    }
   ],
   "execution_count": 154
  },
  {
   "metadata": {},
   "cell_type": "markdown",
   "source": "#### Pvalor",
   "id": "9a0ec8b221656a8a"
  },
  {
   "metadata": {},
   "cell_type": "markdown",
   "source": "##### Normalitat",
   "id": "d6ffad4c820486ed"
  },
  {
   "metadata": {
    "ExecuteTime": {
     "end_time": "2024-04-22T07:40:50.762684Z",
     "start_time": "2024-04-22T07:40:50.752328Z"
    }
   },
   "cell_type": "code",
   "source": [
    "stat, p_value = shapiro(AMB_PA['creatinina'].dropna())\n",
    "print(f\"Estadístic W = {stat:.4f}\")\n",
    "print(f\"Valor p = {p_value:.4f}\")\n",
    "\n",
    "alpha = 0.05\n",
    "if p_value < alpha:\n",
    "    print(\"El nombre de files no segueix una distribució normal.\")\n",
    "else:\n",
    "    print(\"El nombre de files segueix una distribució normal\")"
   ],
   "id": "1f63051648a84697",
   "outputs": [
    {
     "name": "stdout",
     "output_type": "stream",
     "text": [
      "Estadístic W = 0.9549\n",
      "Valor p = 0.7439\n",
      "El nombre de files segueix una distribució normal\n"
     ]
    }
   ],
   "execution_count": 155
  },
  {
   "metadata": {
    "ExecuteTime": {
     "end_time": "2024-04-22T07:40:50.983813Z",
     "start_time": "2024-04-22T07:40:50.977242Z"
    }
   },
   "cell_type": "code",
   "source": [
    "stat, p_value = shapiro(AMB_PA_MECVV['creatinina'].dropna())\n",
    "print(f\"Estadístic W = {stat:.4f}\")\n",
    "print(f\"Valor p = {p_value:.4f}\")\n",
    "\n",
    "alpha = 0.05\n",
    "if p_value < alpha:\n",
    "    print(\"El nombre de files no segueix una distribució normal.\")\n",
    "else:\n",
    "    print(\"El nombre de files segueix una distribució normal\")"
   ],
   "id": "dd791706071019a6",
   "outputs": [
    {
     "name": "stdout",
     "output_type": "stream",
     "text": [
      "Estadístic W = 0.9815\n",
      "Valor p = 0.9110\n",
      "El nombre de files segueix una distribució normal\n"
     ]
    }
   ],
   "execution_count": 156
  },
  {
   "metadata": {
    "ExecuteTime": {
     "end_time": "2024-04-22T07:40:51.341854Z",
     "start_time": "2024-04-22T07:40:51.334511Z"
    }
   },
   "cell_type": "code",
   "source": [
    "stat, p_value = shapiro(SENSE_PA['creatinina'].dropna())\n",
    "print(f\"Estadístic W = {stat:.4f}\")\n",
    "print(f\"Valor p = {p_value:.4f}\")\n",
    "\n",
    "alpha = 0.05\n",
    "if p_value < alpha:\n",
    "    print(\"El nombre de files no segueix una distribució normal.\")\n",
    "else:\n",
    "    print(\"El nombre de files segueix una distribució normal\")"
   ],
   "id": "85df00a80ed67583",
   "outputs": [
    {
     "name": "stdout",
     "output_type": "stream",
     "text": [
      "Estadístic W = 0.7235\n",
      "Valor p = 0.0000\n",
      "El nombre de files no segueix una distribució normal.\n"
     ]
    }
   ],
   "execution_count": 157
  },
  {
   "metadata": {
    "ExecuteTime": {
     "end_time": "2024-04-22T07:40:51.529578Z",
     "start_time": "2024-04-22T07:40:51.522111Z"
    }
   },
   "cell_type": "code",
   "source": [
    "stat, p_value_12 = ttest_ind(AMB_PA['creatinina'], AMB_PA_MECVV['creatinina'], equal_var=False)\n",
    "print(\"P-valor entre AMB_PA i AMB_PA_MECVV\", p_value_12)"
   ],
   "id": "cf20863e3c24d450",
   "outputs": [
    {
     "name": "stdout",
     "output_type": "stream",
     "text": [
      "P-valor entre AMB_PA i AMB_PA_MECVV nan\n"
     ]
    }
   ],
   "execution_count": 158
  },
  {
   "metadata": {
    "ExecuteTime": {
     "end_time": "2024-04-22T07:40:51.846981Z",
     "start_time": "2024-04-22T07:40:51.838296Z"
    }
   },
   "cell_type": "code",
   "source": [
    "stat, p_value_13 = mannwhitneyu(AMB_PA['creatinina'], SENSE_PA['creatinina'], alternative='two-sided')\n",
    "print(\"P-valor entre AMB_PA i SENSE_PA\", p_value_13)"
   ],
   "id": "17e378b6adaccd52",
   "outputs": [
    {
     "name": "stdout",
     "output_type": "stream",
     "text": [
      "P-valor entre AMB_PA i SENSE_PA nan\n"
     ]
    }
   ],
   "execution_count": 159
  },
  {
   "metadata": {
    "ExecuteTime": {
     "end_time": "2024-04-22T07:40:52.068803Z",
     "start_time": "2024-04-22T07:40:52.060032Z"
    }
   },
   "cell_type": "code",
   "source": [
    "stat, p_value_23 = mannwhitneyu(AMB_PA_MECVV['creatinina'], SENSE_PA['creatinina'], alternative='two-sided')\n",
    "print(\"P-valor entre AMB_PA_MECVV i SENSE_PA\", p_value_23)"
   ],
   "id": "4d738444b5cc0416",
   "outputs": [
    {
     "name": "stdout",
     "output_type": "stream",
     "text": [
      "P-valor entre AMB_PA_MECVV i SENSE_PA nan\n"
     ]
    }
   ],
   "execution_count": 160
  },
  {
   "metadata": {},
   "cell_type": "markdown",
   "source": "## Fallida renal aguda (o insuficiència renal aguda)",
   "id": "2a45b7c462b693cc"
  },
  {
   "metadata": {
    "ExecuteTime": {
     "end_time": "2024-04-22T07:40:52.369273Z",
     "start_time": "2024-04-22T07:40:52.362875Z"
    }
   },
   "cell_type": "code",
   "source": [
    "ira_AMB_PA= (AMB_PA['ARF'] == 1.0).mean() * 100\n",
    "print(f\"Percentatge de fallida renal aguda: {ira_AMB_PA:.2f}%\")"
   ],
   "id": "bf4cb3020f4ab65",
   "outputs": [
    {
     "name": "stdout",
     "output_type": "stream",
     "text": [
      "Percentatge de fallida renal aguda: 23.53%\n"
     ]
    }
   ],
   "execution_count": 161
  },
  {
   "metadata": {
    "ExecuteTime": {
     "end_time": "2024-04-22T07:40:52.640709Z",
     "start_time": "2024-04-22T07:40:52.628614Z"
    }
   },
   "cell_type": "code",
   "source": [
    "ira_AMB_PA_MECVV= (AMB_PA_MECVV['ARF'] == 1.0).mean() * 100\n",
    "print(f\"Percentatge de fallida renal aguda: {ira_AMB_PA_MECVV:.2f}%\")"
   ],
   "id": "694f049952ae8d4f",
   "outputs": [
    {
     "name": "stdout",
     "output_type": "stream",
     "text": [
      "Percentatge de fallida renal aguda: 50.00%\n"
     ]
    }
   ],
   "execution_count": 162
  },
  {
   "metadata": {
    "ExecuteTime": {
     "end_time": "2024-04-22T07:40:53.009090Z",
     "start_time": "2024-04-22T07:40:52.997521Z"
    }
   },
   "cell_type": "code",
   "source": [
    "ira_SENSE_PA= (SENSE_PA['ARF'] == 1.0).mean() * 100\n",
    "print(f\"Percentatge de fallida renal aguda: {ira_SENSE_PA:.2f}%\")"
   ],
   "id": "d9da03942f97e9ff",
   "outputs": [
    {
     "name": "stdout",
     "output_type": "stream",
     "text": [
      "Percentatge de fallida renal aguda: 26.53%\n"
     ]
    }
   ],
   "execution_count": 163
  },
  {
   "metadata": {},
   "cell_type": "markdown",
   "source": "#### Pvalor",
   "id": "fa90e43bd79a9017"
  },
  {
   "metadata": {},
   "cell_type": "markdown",
   "source": "##### Normalitat",
   "id": "ab080f83d40e2433"
  },
  {
   "metadata": {
    "ExecuteTime": {
     "end_time": "2024-04-22T07:40:53.215052Z",
     "start_time": "2024-04-22T07:40:53.207233Z"
    }
   },
   "cell_type": "code",
   "source": [
    "stat, p_value = shapiro(AMB_PA['ARF'])\n",
    "print(f\"Estadístic W = {stat:.4f}\")\n",
    "print(f\"Valor p = {p_value:.4f}\")\n",
    "\n",
    "alpha = 0.05\n",
    "if p_value < alpha:\n",
    "    print(\"El nombre de files no segueix una distribució normal.\")\n",
    "else:\n",
    "    print(\"El nombre de files segueix una distribució normal\")"
   ],
   "id": "889a0951b2fe1cd5",
   "outputs": [
    {
     "name": "stdout",
     "output_type": "stream",
     "text": [
      "Estadístic W = 0.5327\n",
      "Valor p = 0.0000\n",
      "El nombre de files no segueix una distribució normal.\n"
     ]
    }
   ],
   "execution_count": 164
  },
  {
   "metadata": {
    "ExecuteTime": {
     "end_time": "2024-04-22T07:40:53.548205Z",
     "start_time": "2024-04-22T07:40:53.539530Z"
    }
   },
   "cell_type": "code",
   "source": [
    "stat, p_value = shapiro(AMB_PA_MECVV['ARF'])\n",
    "print(f\"Estadístic W = {stat:.4f}\")\n",
    "print(f\"Valor p = {p_value:.4f}\")\n",
    "\n",
    "alpha = 0.05\n",
    "if p_value < alpha:\n",
    "    print(\"El nombre de files no segueix una distribució normal.\")\n",
    "else:\n",
    "    print(\"El nombre de files segueix una distribució normal\")"
   ],
   "id": "d9b63b5fd8da70fb",
   "outputs": [
    {
     "name": "stdout",
     "output_type": "stream",
     "text": [
      "Estadístic W = 0.6553\n",
      "Valor p = 0.0003\n",
      "El nombre de files no segueix una distribució normal.\n"
     ]
    }
   ],
   "execution_count": 165
  },
  {
   "metadata": {
    "ExecuteTime": {
     "end_time": "2024-04-22T07:40:53.737123Z",
     "start_time": "2024-04-22T07:40:53.727330Z"
    }
   },
   "cell_type": "code",
   "source": [
    "stat, p_value = shapiro(SENSE_PA['ARF'])\n",
    "print(f\"Estadístic W = {stat:.4f}\")\n",
    "print(f\"Valor p = {p_value:.4f}\")\n",
    "\n",
    "alpha = 0.05\n",
    "if p_value < alpha:\n",
    "    print(\"El nombre de files no segueix una distribució normal.\")\n",
    "else:\n",
    "    print(\"El nombre de files segueix una distribució normal\")"
   ],
   "id": "c346c65e6b676207",
   "outputs": [
    {
     "name": "stdout",
     "output_type": "stream",
     "text": [
      "Estadístic W = 0.5514\n",
      "Valor p = 0.0000\n",
      "El nombre de files no segueix una distribució normal.\n"
     ]
    }
   ],
   "execution_count": 166
  },
  {
   "metadata": {
    "ExecuteTime": {
     "end_time": "2024-04-22T07:40:54.003759Z",
     "start_time": "2024-04-22T07:40:53.994029Z"
    }
   },
   "cell_type": "code",
   "source": [
    "stat, p_value_12 = mannwhitneyu(AMB_PA['ARF'], AMB_PA_MECVV['ARF'], alternative='two-sided')\n",
    "print(\"P-valor entre AMB_PA i AMB_PA_MECVV\", p_value_12)"
   ],
   "id": "a11f6f5322e507d3",
   "outputs": [
    {
     "name": "stdout",
     "output_type": "stream",
     "text": [
      "P-valor entre AMB_PA i AMB_PA_MECVV 0.17639454522781728\n"
     ]
    }
   ],
   "execution_count": 167
  },
  {
   "metadata": {
    "ExecuteTime": {
     "end_time": "2024-04-22T07:40:54.245791Z",
     "start_time": "2024-04-22T07:40:54.236818Z"
    }
   },
   "cell_type": "code",
   "source": [
    "stat, p_value_13 = mannwhitneyu(AMB_PA['ARF'], SENSE_PA['ARF'], alternative='two-sided')\n",
    "print(\"P-valor entre AMB_PA i SENSE_PA\", p_value_13)"
   ],
   "id": "9a5bbf6808c79243",
   "outputs": [
    {
     "name": "stdout",
     "output_type": "stream",
     "text": [
      "P-valor entre AMB_PA i SENSE_PA 0.8163159339942008\n"
     ]
    }
   ],
   "execution_count": 168
  },
  {
   "metadata": {
    "ExecuteTime": {
     "end_time": "2024-04-22T07:40:54.538571Z",
     "start_time": "2024-04-22T07:40:54.523510Z"
    }
   },
   "cell_type": "code",
   "source": [
    "stat, p_value_23 = mannwhitneyu(AMB_PA_MECVV['ARF'], SENSE_PA['ARF'], alternative='two-sided')\n",
    "print(\"P-valor entre AMB_PA i SENSE_PA\", p_value_23)"
   ],
   "id": "3825dfecd1188df7",
   "outputs": [
    {
     "name": "stdout",
     "output_type": "stream",
     "text": [
      "P-valor entre AMB_PA i SENSE_PA 0.14880872192595962\n"
     ]
    }
   ],
   "execution_count": 169
  },
  {
   "metadata": {},
   "cell_type": "markdown",
   "source": "## Marejos/síncope/lipotímia/reacció vasovagal",
   "id": "b569dbe66e8fcbe9"
  },
  {
   "metadata": {
    "ExecuteTime": {
     "end_time": "2024-04-22T07:40:54.789874Z",
     "start_time": "2024-04-22T07:40:54.780373Z"
    }
   },
   "cell_type": "code",
   "source": [
    "dizsyn_AMB_PA= (AMB_PA['mareos'] == 1.0).mean() * 100\n",
    "print(f\"Percentatge de marejos/síncope/lipotímia/reacció vasovagal: {dizsyn_AMB_PA:.2f}%\")"
   ],
   "id": "50900335d331ab2",
   "outputs": [
    {
     "name": "stdout",
     "output_type": "stream",
     "text": [
      "Percentatge de marejos/síncope/lipotímia/reacció vasovagal: 0.00%\n"
     ]
    }
   ],
   "execution_count": 170
  },
  {
   "metadata": {
    "ExecuteTime": {
     "end_time": "2024-04-22T07:40:55.133882Z",
     "start_time": "2024-04-22T07:40:55.125117Z"
    }
   },
   "cell_type": "code",
   "source": [
    "dizsyn_AMB_PA_MECVV= (AMB_PA_MECVV['mareos'] == 1.0).mean() * 100\n",
    "print(f\"Percentatge de marejos/síncope/lipotímia/reacció vasovagal: {dizsyn_AMB_PA_MECVV:.2f}%\")"
   ],
   "id": "9dc25d01f5293c9c",
   "outputs": [
    {
     "name": "stdout",
     "output_type": "stream",
     "text": [
      "Percentatge de marejos/síncope/lipotímia/reacció vasovagal: 0.00%\n"
     ]
    }
   ],
   "execution_count": 171
  },
  {
   "metadata": {
    "ExecuteTime": {
     "end_time": "2024-04-22T07:40:55.396552Z",
     "start_time": "2024-04-22T07:40:55.387191Z"
    }
   },
   "cell_type": "code",
   "source": [
    "dizsyn_SENSE_PA= (SENSE_PA['mareos'] == 1.0).mean() * 100\n",
    "print(f\"Percentatge de marejos/síncope/lipotímia/reacció vasovagal: {dizsyn_SENSE_PA:.2f}%\")"
   ],
   "id": "6b9c3e73228189d5",
   "outputs": [
    {
     "name": "stdout",
     "output_type": "stream",
     "text": [
      "Percentatge de marejos/síncope/lipotímia/reacció vasovagal: 2.04%\n"
     ]
    }
   ],
   "execution_count": 172
  },
  {
   "metadata": {},
   "cell_type": "markdown",
   "source": "#### Pvalor",
   "id": "c2ea9a79012bd56"
  },
  {
   "metadata": {},
   "cell_type": "markdown",
   "source": "##### Normalitat",
   "id": "fd33a284918ec484"
  },
  {
   "metadata": {
    "ExecuteTime": {
     "end_time": "2024-04-22T07:40:55.690153Z",
     "start_time": "2024-04-22T07:40:55.681414Z"
    }
   },
   "cell_type": "code",
   "source": [
    "stat, p_value = shapiro(AMB_PA['mareos'])\n",
    "print(f\"Estadístic W = {stat:.4f}\")\n",
    "print(f\"Valor p = {p_value:.4f}\")\n",
    "\n",
    "alpha = 0.05\n",
    "if p_value < alpha:\n",
    "    print(\"El nombre de files no segueix una distribució normal.\")\n",
    "else:\n",
    "    print(\"El nombre de files segueix una distribució normal\")"
   ],
   "id": "a0a14b919495d927",
   "outputs": [
    {
     "name": "stdout",
     "output_type": "stream",
     "text": [
      "Estadístic W = 1.0000\n",
      "Valor p = 1.0000\n",
      "El nombre de files segueix una distribució normal\n"
     ]
    }
   ],
   "execution_count": 173
  },
  {
   "metadata": {
    "ExecuteTime": {
     "end_time": "2024-04-22T07:40:55.920073Z",
     "start_time": "2024-04-22T07:40:55.912625Z"
    }
   },
   "cell_type": "code",
   "source": [
    "stat, p_value = shapiro(AMB_PA_MECVV['mareos'])\n",
    "print(f\"Estadístic W = {stat:.4f}\")\n",
    "print(f\"Valor p = {p_value:.4f}\")\n",
    "\n",
    "alpha = 0.05\n",
    "if p_value < alpha:\n",
    "    print(\"El nombre de files no segueix una distribució normal.\")\n",
    "else:\n",
    "    print(\"El nombre de files segueix una distribució normal\")"
   ],
   "id": "f068a365916fbd97",
   "outputs": [
    {
     "name": "stdout",
     "output_type": "stream",
     "text": [
      "Estadístic W = 1.0000\n",
      "Valor p = 1.0000\n",
      "El nombre de files segueix una distribució normal\n"
     ]
    }
   ],
   "execution_count": 174
  },
  {
   "metadata": {
    "ExecuteTime": {
     "end_time": "2024-04-22T07:40:56.244067Z",
     "start_time": "2024-04-22T07:40:56.235495Z"
    }
   },
   "cell_type": "code",
   "source": [
    "stat, p_value = shapiro(SENSE_PA['mareos'])\n",
    "print(f\"Estadístic W = {stat:.4f}\")\n",
    "print(f\"Valor p = {p_value:.4f}\")\n",
    "\n",
    "alpha = 0.05\n",
    "if p_value < alpha:\n",
    "    print(\"El nombre de files no segueix una distribució normal.\")\n",
    "else:\n",
    "    print(\"El nombre de files segueix una distribució normal\")"
   ],
   "id": "e1bac964bed45016",
   "outputs": [
    {
     "name": "stdout",
     "output_type": "stream",
     "text": [
      "Estadístic W = 0.1273\n",
      "Valor p = 0.0000\n",
      "El nombre de files no segueix una distribució normal.\n"
     ]
    }
   ],
   "execution_count": 175
  },
  {
   "metadata": {
    "ExecuteTime": {
     "end_time": "2024-04-22T07:40:56.481803Z",
     "start_time": "2024-04-22T07:40:56.471322Z"
    }
   },
   "cell_type": "code",
   "source": [
    "stat, p_value_12 = ttest_ind(AMB_PA['mareos'], AMB_PA_MECVV['mareos'], equal_var=False)\n",
    "print(\"P-valor entre AMB_PA i AMB_PA_MECVV\", p_value_12)"
   ],
   "id": "4426d7b16a9b9291",
   "outputs": [
    {
     "name": "stdout",
     "output_type": "stream",
     "text": [
      "P-valor entre AMB_PA i AMB_PA_MECVV nan\n"
     ]
    }
   ],
   "execution_count": 176
  },
  {
   "metadata": {
    "ExecuteTime": {
     "end_time": "2024-04-22T07:40:56.794806Z",
     "start_time": "2024-04-22T07:40:56.785903Z"
    }
   },
   "cell_type": "code",
   "source": [
    "stat, p_value_12 = mannwhitneyu(AMB_PA['mareos'], AMB_PA_MECVV['mareos'], alternative='two-sided')\n",
    "print(\"P-valor entre AMB_PA i AMB_PA_MECVV\", p_value_12)"
   ],
   "id": "84eb59ba6043afcb",
   "outputs": [
    {
     "name": "stdout",
     "output_type": "stream",
     "text": [
      "P-valor entre AMB_PA i AMB_PA_MECVV 1.0\n"
     ]
    }
   ],
   "execution_count": 177
  },
  {
   "metadata": {
    "ExecuteTime": {
     "end_time": "2024-04-22T07:40:57.043345Z",
     "start_time": "2024-04-22T07:40:57.036504Z"
    }
   },
   "cell_type": "code",
   "source": [
    "stat, p_value_13 = mannwhitneyu(AMB_PA['mareos'], SENSE_PA['mareos'], alternative='two-sided')\n",
    "print(\"P-valor entre AMB_PA i SENSE_PA\", p_value_13)"
   ],
   "id": "8f94410e3226384d",
   "outputs": [
    {
     "name": "stdout",
     "output_type": "stream",
     "text": [
      "P-valor entre AMB_PA i SENSE_PA 0.5793276078637376\n"
     ]
    }
   ],
   "execution_count": 178
  },
  {
   "metadata": {
    "ExecuteTime": {
     "end_time": "2024-04-22T07:40:57.357907Z",
     "start_time": "2024-04-22T07:40:57.350537Z"
    }
   },
   "cell_type": "code",
   "source": [
    "stat, p_value_23 = mannwhitneyu(AMB_PA_MECVV['mareos'], SENSE_PA['mareos'], alternative='two-sided')\n",
    "print(\"P-valor entre AMB_PA_MECVV i SENSE_PA\", p_value_23)"
   ],
   "id": "566ddfe9c415adf4",
   "outputs": [
    {
     "name": "stdout",
     "output_type": "stream",
     "text": [
      "P-valor entre AMB_PA_MECVV i SENSE_PA 0.6843175494727258\n"
     ]
    }
   ],
   "execution_count": 179
  },
  {
   "metadata": {},
   "cell_type": "markdown",
   "source": "## VIH",
   "id": "3e66ec61ceed6da8"
  },
  {
   "metadata": {
    "ExecuteTime": {
     "end_time": "2024-04-22T07:40:57.619326Z",
     "start_time": "2024-04-22T07:40:57.610843Z"
    }
   },
   "cell_type": "code",
   "source": [
    "vih_AMB_PA= (AMB_PA['VIH'] == 1.0).mean() * 100\n",
    "print(f\"Percentatge de VIH: {vih_AMB_PA:.2f}%\")"
   ],
   "id": "6a922f8a8c8ce111",
   "outputs": [
    {
     "name": "stdout",
     "output_type": "stream",
     "text": [
      "Percentatge de VIH: 0.00%\n"
     ]
    }
   ],
   "execution_count": 180
  },
  {
   "metadata": {
    "ExecuteTime": {
     "end_time": "2024-04-22T07:40:57.949108Z",
     "start_time": "2024-04-22T07:40:57.939108Z"
    }
   },
   "cell_type": "code",
   "source": [
    "vih_AMB_PA_MECVV= (AMB_PA_MECVV['VIH'] == 1.0).mean() * 100\n",
    "print(f\"Percentatge de VIH: {vih_AMB_PA_MECVV:.2f}%\")"
   ],
   "id": "aed182bc8140a8b3",
   "outputs": [
    {
     "name": "stdout",
     "output_type": "stream",
     "text": [
      "Percentatge de VIH: 0.00%\n"
     ]
    }
   ],
   "execution_count": 181
  },
  {
   "metadata": {
    "ExecuteTime": {
     "end_time": "2024-04-22T07:40:58.198778Z",
     "start_time": "2024-04-22T07:40:58.189679Z"
    }
   },
   "cell_type": "code",
   "source": [
    "vih_SENSE_PA= (SENSE_PA['VIH'] == 1.0).mean() * 100\n",
    "print(f\"Percentatge de VIH: {vih_SENSE_PA:.2f}%\")"
   ],
   "id": "aa406ac4d4a53dc9",
   "outputs": [
    {
     "name": "stdout",
     "output_type": "stream",
     "text": [
      "Percentatge de VIH: 0.00%\n"
     ]
    }
   ],
   "execution_count": 182
  },
  {
   "metadata": {},
   "cell_type": "markdown",
   "source": "#### Pvalor",
   "id": "803ff9173540722b"
  },
  {
   "metadata": {},
   "cell_type": "markdown",
   "source": "##### Normalitat",
   "id": "b4620b0bb5bfa7f1"
  },
  {
   "metadata": {
    "ExecuteTime": {
     "end_time": "2024-04-22T07:40:58.518727Z",
     "start_time": "2024-04-22T07:40:58.509695Z"
    }
   },
   "cell_type": "code",
   "source": [
    "stat, p_value = shapiro(AMB_PA['VIH'])\n",
    "print(f\"Estadístic W = {stat:.4f}\")\n",
    "print(f\"Valor p = {p_value:.4f}\")\n",
    "\n",
    "alpha = 0.05\n",
    "if p_value < alpha:\n",
    "    print(\"El nombre de files no segueix una distribució normal\")\n",
    "else:\n",
    "    print(\"El nombre de files segueix una distribució normal\")"
   ],
   "id": "9b5c458fd6b6ae37",
   "outputs": [
    {
     "name": "stdout",
     "output_type": "stream",
     "text": [
      "Estadístic W = 1.0000\n",
      "Valor p = 1.0000\n",
      "El nombre de files segueix una distribució normal\n"
     ]
    }
   ],
   "execution_count": 183
  },
  {
   "metadata": {
    "ExecuteTime": {
     "end_time": "2024-04-22T07:40:58.715777Z",
     "start_time": "2024-04-22T07:40:58.704581Z"
    }
   },
   "cell_type": "code",
   "source": [
    "stat, p_value = shapiro(AMB_PA_MECVV['VIH'])\n",
    "print(f\"Estadístic W = {stat:.4f}\")\n",
    "print(f\"Valor p = {p_value:.4f}\")\n",
    "\n",
    "alpha = 0.05\n",
    "if p_value < alpha:\n",
    "    print(\"El nombre de files no segueix una distribució normal\")\n",
    "else:\n",
    "    print(\"El nombre de files segueix una distribució normal\")"
   ],
   "id": "9d0b581b09ddd6cc",
   "outputs": [
    {
     "name": "stdout",
     "output_type": "stream",
     "text": [
      "Estadístic W = 1.0000\n",
      "Valor p = 1.0000\n",
      "El nombre de files segueix una distribució normal\n"
     ]
    }
   ],
   "execution_count": 184
  },
  {
   "metadata": {
    "ExecuteTime": {
     "end_time": "2024-04-22T07:40:59.106058Z",
     "start_time": "2024-04-22T07:40:59.098483Z"
    }
   },
   "cell_type": "code",
   "source": [
    "stat, p_value = shapiro(SENSE_PA['VIH'])\n",
    "print(f\"Estadístic W = {stat:.4f}\")\n",
    "print(f\"Valor p = {p_value:.4f}\")\n",
    "\n",
    "alpha = 0.05\n",
    "if p_value < alpha:\n",
    "    print(\"El nombre de files no segueix una distribució normal\")\n",
    "else:\n",
    "    print(\"El nombre de files segueix una distribució normal\")"
   ],
   "id": "5a093d029a89e644",
   "outputs": [
    {
     "name": "stdout",
     "output_type": "stream",
     "text": [
      "Estadístic W = 1.0000\n",
      "Valor p = 1.0000\n",
      "El nombre de files segueix una distribució normal\n"
     ]
    }
   ],
   "execution_count": 185
  },
  {
   "metadata": {
    "ExecuteTime": {
     "end_time": "2024-04-22T08:28:24.352183Z",
     "start_time": "2024-04-22T08:28:24.342062Z"
    }
   },
   "cell_type": "code",
   "source": [
    "stat, p_value_12 = ttest_ind(AMB_PA['VIH'], AMB_PA_MECVV['VIH'], equal_var=False)\n",
    "print(\"P-valor entre AMB_PA i AMB_PA_MECVV\", p_value_12)"
   ],
   "id": "ee8189c633ccd0bb",
   "outputs": [
    {
     "name": "stdout",
     "output_type": "stream",
     "text": [
      "P-valor entre AMB_PA i AMB_PA_MECVV nan\n"
     ]
    }
   ],
   "execution_count": 258
  },
  {
   "metadata": {
    "ExecuteTime": {
     "end_time": "2024-04-22T08:28:47.166244Z",
     "start_time": "2024-04-22T08:28:47.159335Z"
    }
   },
   "cell_type": "code",
   "source": [
    "stat, p_value_13 = ttest_ind(AMB_PA['VIH'], SENSE_PA['VIH'], equal_var=False)\n",
    "print(\"P-valor entre AMB_PA i SENSE_PA\", p_value_13)"
   ],
   "id": "ba89921208864d5f",
   "outputs": [
    {
     "name": "stdout",
     "output_type": "stream",
     "text": [
      "P-valor entre AMB_PA i SENSE_PA nan\n"
     ]
    }
   ],
   "execution_count": 259
  },
  {
   "metadata": {
    "ExecuteTime": {
     "end_time": "2024-04-22T08:29:07.297620Z",
     "start_time": "2024-04-22T08:29:07.292499Z"
    }
   },
   "cell_type": "code",
   "source": [
    "stat, p_value_23 = ttest_ind(AMB_PA_MECVV['VIH'], SENSE_PA['VIH'], equal_var=False)\n",
    "print(\"P-valor entre AMB_PA_MECVV i SENSE_PA\", p_value_23)"
   ],
   "id": "6bcc985f8b1b99e7",
   "outputs": [
    {
     "name": "stdout",
     "output_type": "stream",
     "text": [
      "P-valor entre AMB_PA_MECVV i SENSE_PA nan\n"
     ]
    }
   ],
   "execution_count": 260
  },
  {
   "metadata": {},
   "cell_type": "markdown",
   "source": "## Psicosi",
   "id": "8e295a7fd16fa508"
  },
  {
   "metadata": {
    "ExecuteTime": {
     "end_time": "2024-04-22T07:41:00.150441Z",
     "start_time": "2024-04-22T07:41:00.141692Z"
    }
   },
   "cell_type": "code",
   "source": [
    "psi_AMB_PA= (AMB_PA['psicosis'] == 1.0).mean() * 100\n",
    "print(f\"Percentatge de psicosi: {vih_AMB_PA:.2f}%\")"
   ],
   "id": "c159ff1483bdafb0",
   "outputs": [
    {
     "name": "stdout",
     "output_type": "stream",
     "text": [
      "Percentatge de psicosi: 0.00%\n"
     ]
    }
   ],
   "execution_count": 186
  },
  {
   "metadata": {
    "ExecuteTime": {
     "end_time": "2024-04-22T07:41:00.323358Z",
     "start_time": "2024-04-22T07:41:00.314715Z"
    }
   },
   "cell_type": "code",
   "source": [
    "psi_AMB_PA_MECVV= (AMB_PA_MECVV['psicosis'] == 1.0).mean() * 100\n",
    "print(f\"Percentatge de psicosi: {psi_AMB_PA_MECVV:.2f}%\")"
   ],
   "id": "88916ff77b5a3557",
   "outputs": [
    {
     "name": "stdout",
     "output_type": "stream",
     "text": [
      "Percentatge de psicosi: 0.00%\n"
     ]
    }
   ],
   "execution_count": 187
  },
  {
   "metadata": {
    "ExecuteTime": {
     "end_time": "2024-04-22T07:41:00.608196Z",
     "start_time": "2024-04-22T07:41:00.600455Z"
    }
   },
   "cell_type": "code",
   "source": [
    "psi_SENSE_PA= (SENSE_PA['psicosis'] == 1.0).mean() * 100\n",
    "print(f\"Percentatge de psicosi: {psi_SENSE_PA:.2f}%\")"
   ],
   "id": "7ce0057ef942886",
   "outputs": [
    {
     "name": "stdout",
     "output_type": "stream",
     "text": [
      "Percentatge de psicosi: 0.00%\n"
     ]
    }
   ],
   "execution_count": 188
  },
  {
   "metadata": {},
   "cell_type": "markdown",
   "source": "#### Pvalor ",
   "id": "f7e56f1eaa4a1121"
  },
  {
   "metadata": {},
   "cell_type": "markdown",
   "source": "##### Normalitat",
   "id": "d5743908cae5ebcb"
  },
  {
   "metadata": {
    "ExecuteTime": {
     "end_time": "2024-04-22T08:31:24.717820Z",
     "start_time": "2024-04-22T08:31:24.708789Z"
    }
   },
   "cell_type": "code",
   "source": [
    "stat, p_value = shapiro(AMB_PA['psicosis'])\n",
    "print(f\"Estadístic W = {stat:.4f}\")\n",
    "print(f\"Valor p = {p_value:.4f}\")\n",
    "\n",
    "alpha = 0.05\n",
    "if p_value < alpha:\n",
    "    print(\"El nombre de files no segueix una distribució normal\")\n",
    "else:\n",
    "    print(\"El nombre de files segueix una distribució normal\")"
   ],
   "id": "998491744b8998d1",
   "outputs": [
    {
     "name": "stdout",
     "output_type": "stream",
     "text": [
      "Estadístic W = 1.0000\n",
      "Valor p = 1.0000\n",
      "El nombre de files segueix una distribució normal\n"
     ]
    },
    {
     "name": "stderr",
     "output_type": "stream",
     "text": [
      "C:\\Users\\maria\\PycharmProjects\\practicum\\.venv\\Lib\\site-packages\\scipy\\stats\\_axis_nan_policy.py:531: UserWarning: scipy.stats.shapiro: Input data has range zero. The results may not be accurate.\n",
      "  res = hypotest_fun_out(*samples, **kwds)\n"
     ]
    }
   ],
   "execution_count": 262
  },
  {
   "metadata": {
    "ExecuteTime": {
     "end_time": "2024-04-22T08:31:36.224386Z",
     "start_time": "2024-04-22T08:31:36.218309Z"
    }
   },
   "cell_type": "code",
   "source": [
    "stat, p_value = shapiro(AMB_PA_MECVV['psicosis'])\n",
    "print(f\"Estadístic W = {stat:.4f}\")\n",
    "print(f\"Valor p = {p_value:.4f}\")\n",
    "\n",
    "alpha = 0.05\n",
    "if p_value < alpha:\n",
    "    print(\"El nombre de files no segueix una distribució normal\")\n",
    "else:\n",
    "    print(\"El nombre de files segueix una distribució normal\")"
   ],
   "id": "96b9bb0d7394814",
   "outputs": [
    {
     "name": "stdout",
     "output_type": "stream",
     "text": [
      "Estadístic W = 1.0000\n",
      "Valor p = 1.0000\n",
      "El nombre de files segueix una distribució normal\n"
     ]
    },
    {
     "name": "stderr",
     "output_type": "stream",
     "text": [
      "C:\\Users\\maria\\PycharmProjects\\practicum\\.venv\\Lib\\site-packages\\scipy\\stats\\_axis_nan_policy.py:531: UserWarning: scipy.stats.shapiro: Input data has range zero. The results may not be accurate.\n",
      "  res = hypotest_fun_out(*samples, **kwds)\n"
     ]
    }
   ],
   "execution_count": 263
  },
  {
   "metadata": {
    "ExecuteTime": {
     "end_time": "2024-04-22T08:31:41.922398Z",
     "start_time": "2024-04-22T08:31:41.916615Z"
    }
   },
   "cell_type": "code",
   "source": [
    "stat, p_value = shapiro(SENSE_PA['psicosis'])\n",
    "print(f\"Estadístic W = {stat:.4f}\")\n",
    "print(f\"Valor p = {p_value:.4f}\")\n",
    "\n",
    "alpha = 0.05\n",
    "if p_value < alpha:\n",
    "    print(\"El nombre de files no segueix una distribució normal\")\n",
    "else:\n",
    "    print(\"El nombre de files segueix una distribució normal\")"
   ],
   "id": "35f8362ddbdf1d48",
   "outputs": [
    {
     "name": "stdout",
     "output_type": "stream",
     "text": [
      "Estadístic W = 1.0000\n",
      "Valor p = 1.0000\n",
      "El nombre de files segueix una distribució normal\n"
     ]
    },
    {
     "name": "stderr",
     "output_type": "stream",
     "text": [
      "C:\\Users\\maria\\PycharmProjects\\practicum\\.venv\\Lib\\site-packages\\scipy\\stats\\_axis_nan_policy.py:531: UserWarning: scipy.stats.shapiro: Input data has range zero. The results may not be accurate.\n",
      "  res = hypotest_fun_out(*samples, **kwds)\n"
     ]
    }
   ],
   "execution_count": 264
  },
  {
   "metadata": {
    "ExecuteTime": {
     "end_time": "2024-04-22T08:32:27.417069Z",
     "start_time": "2024-04-22T08:32:27.410671Z"
    }
   },
   "cell_type": "code",
   "source": [
    "stat, p_value_12 = ttest_ind(AMB_PA['psicosis'], AMB_PA_MECVV['psicosis'], equal_var=False)\n",
    "print(\"P-valor entre AMB_PA i AMB_PA_MECVV\", p_value_12)"
   ],
   "id": "442c95770e6ba861",
   "outputs": [
    {
     "name": "stdout",
     "output_type": "stream",
     "text": [
      "P-valor entre AMB_PA i AMB_PA_MECVV nan\n"
     ]
    }
   ],
   "execution_count": 265
  },
  {
   "metadata": {
    "ExecuteTime": {
     "end_time": "2024-04-22T08:32:45.176793Z",
     "start_time": "2024-04-22T08:32:45.167630Z"
    }
   },
   "cell_type": "code",
   "source": [
    "stat, p_value_13 = ttest_ind(AMB_PA['psicosis'], SENSE_PA['psicosis'], equal_var=False)\n",
    "print(\"P-valor entre AMB_PA i SENSE_PA\", p_value_13)"
   ],
   "id": "f0792113c35b5010",
   "outputs": [
    {
     "name": "stdout",
     "output_type": "stream",
     "text": [
      "P-valor entre AMB_PA i SENSE_PA nan\n"
     ]
    }
   ],
   "execution_count": 266
  },
  {
   "metadata": {
    "ExecuteTime": {
     "end_time": "2024-04-22T08:33:08.684492Z",
     "start_time": "2024-04-22T08:33:08.678579Z"
    }
   },
   "cell_type": "code",
   "source": [
    "stat, p_value_23 = ttest_ind(AMB_PA_MECVV['psicosis'], SENSE_PA['psicosis'], equal_var=False)\n",
    "print(\"P-valor entre AMB_PA_MECVV i SENSE_PA\", p_value_23)"
   ],
   "id": "9b79bbe3afa56094",
   "outputs": [
    {
     "name": "stdout",
     "output_type": "stream",
     "text": [
      "P-valor entre AMB_PA_MECVV i SENSE_PA nan\n"
     ]
    }
   ],
   "execution_count": 269
  },
  {
   "metadata": {},
   "cell_type": "markdown",
   "source": "## Deficiències nutricionals",
   "id": "fd2da9ae3b318047"
  },
  {
   "metadata": {
    "ExecuteTime": {
     "end_time": "2024-04-22T07:41:01.122878Z",
     "start_time": "2024-04-22T07:41:01.117503Z"
    }
   },
   "cell_type": "code",
   "source": [
    "nutri_AMB_PA= (AMB_PA['def_nutri'] == 1.0).mean() * 100\n",
    "print(f\"Percentatge de deficiències nutricionals: {nutri_AMB_PA:.2f}%\")"
   ],
   "id": "e841eb27b0ef04d7",
   "outputs": [
    {
     "name": "stdout",
     "output_type": "stream",
     "text": [
      "Percentatge de deficiències nutricionals: 0.00%\n"
     ]
    }
   ],
   "execution_count": 189
  },
  {
   "metadata": {
    "ExecuteTime": {
     "end_time": "2024-04-22T07:41:01.382894Z",
     "start_time": "2024-04-22T07:41:01.375002Z"
    }
   },
   "cell_type": "code",
   "source": [
    "nutri_AMB_PA_MECVV= (AMB_PA_MECVV['def_nutri'] == 1.0).mean() * 100\n",
    "print(f\"Percentatge de deficiències nutricionals: {nutri_AMB_PA_MECVV:.2f}%\")"
   ],
   "id": "8776557d38ef8059",
   "outputs": [
    {
     "name": "stdout",
     "output_type": "stream",
     "text": [
      "Percentatge de deficiències nutricionals: 0.00%\n"
     ]
    }
   ],
   "execution_count": 190
  },
  {
   "metadata": {
    "ExecuteTime": {
     "end_time": "2024-04-22T07:41:01.670869Z",
     "start_time": "2024-04-22T07:41:01.662919Z"
    }
   },
   "cell_type": "code",
   "source": [
    "nutri_SENSE_PA= (SENSE_PA['def_nutri'] == 1.0).mean() * 100\n",
    "print(f\"Percentatge de deficiències nutricionals: {nutri_SENSE_PA:.2f}%\")"
   ],
   "id": "958e8bc2ca4584c3",
   "outputs": [
    {
     "name": "stdout",
     "output_type": "stream",
     "text": [
      "Percentatge de deficiències nutricionals: 0.00%\n"
     ]
    }
   ],
   "execution_count": 191
  },
  {
   "metadata": {},
   "cell_type": "markdown",
   "source": "#### Pvalor",
   "id": "d4bc9fe19efb8762"
  },
  {
   "metadata": {},
   "cell_type": "markdown",
   "source": "##### Normalitat",
   "id": "5316510b823b671e"
  },
  {
   "metadata": {
    "ExecuteTime": {
     "end_time": "2024-04-22T08:34:30.190747Z",
     "start_time": "2024-04-22T08:34:30.183255Z"
    }
   },
   "cell_type": "code",
   "source": [
    "stat, p_value = shapiro(AMB_PA['def_nutri'])\n",
    "print(f\"Estadístic W = {stat:.4f}\")\n",
    "print(f\"Valor p = {p_value:.4f}\")\n",
    "\n",
    "alpha = 0.05\n",
    "if p_value < alpha:\n",
    "    print(\"El nombre de files no segueix una distribució normal\")\n",
    "else:\n",
    "    print(\"El nombre de files segueix una distribució normal\")"
   ],
   "id": "e85abc69d2b521d3",
   "outputs": [
    {
     "name": "stdout",
     "output_type": "stream",
     "text": [
      "Estadístic W = 1.0000\n",
      "Valor p = 1.0000\n",
      "El nombre de files segueix una distribució normal\n"
     ]
    },
    {
     "name": "stderr",
     "output_type": "stream",
     "text": [
      "C:\\Users\\maria\\PycharmProjects\\practicum\\.venv\\Lib\\site-packages\\scipy\\stats\\_axis_nan_policy.py:531: UserWarning: scipy.stats.shapiro: Input data has range zero. The results may not be accurate.\n",
      "  res = hypotest_fun_out(*samples, **kwds)\n"
     ]
    }
   ],
   "execution_count": 270
  },
  {
   "metadata": {
    "ExecuteTime": {
     "end_time": "2024-04-22T08:34:44.175555Z",
     "start_time": "2024-04-22T08:34:44.169873Z"
    }
   },
   "cell_type": "code",
   "source": [
    "stat, p_value = shapiro(AMB_PA_MECVV['def_nutri'])\n",
    "print(f\"Estadístic W = {stat:.4f}\")\n",
    "print(f\"Valor p = {p_value:.4f}\")\n",
    "\n",
    "alpha = 0.05\n",
    "if p_value < alpha:\n",
    "    print(\"El nombre de files no segueix una distribució normal\")\n",
    "else:\n",
    "    print(\"El nombre de files segueix una distribució normal\")"
   ],
   "id": "7658b9e5f57529c8",
   "outputs": [
    {
     "name": "stdout",
     "output_type": "stream",
     "text": [
      "Estadístic W = 1.0000\n",
      "Valor p = 1.0000\n",
      "El nombre de files segueix una distribució normal\n"
     ]
    },
    {
     "name": "stderr",
     "output_type": "stream",
     "text": [
      "C:\\Users\\maria\\PycharmProjects\\practicum\\.venv\\Lib\\site-packages\\scipy\\stats\\_axis_nan_policy.py:531: UserWarning: scipy.stats.shapiro: Input data has range zero. The results may not be accurate.\n",
      "  res = hypotest_fun_out(*samples, **kwds)\n"
     ]
    }
   ],
   "execution_count": 271
  },
  {
   "metadata": {
    "ExecuteTime": {
     "end_time": "2024-04-22T08:34:49.654633Z",
     "start_time": "2024-04-22T08:34:49.648187Z"
    }
   },
   "cell_type": "code",
   "source": [
    "stat, p_value = shapiro(SENSE_PA['def_nutri'])\n",
    "print(f\"Estadístic W = {stat:.4f}\")\n",
    "print(f\"Valor p = {p_value:.4f}\")\n",
    "\n",
    "alpha = 0.05\n",
    "if p_value < alpha:\n",
    "    print(\"El nombre de files no segueix una distribució normal\")\n",
    "else:\n",
    "    print(\"El nombre de files segueix una distribució normal\")"
   ],
   "id": "822af3a96650acac",
   "outputs": [
    {
     "name": "stdout",
     "output_type": "stream",
     "text": [
      "Estadístic W = 1.0000\n",
      "Valor p = 1.0000\n",
      "El nombre de files segueix una distribució normal\n"
     ]
    },
    {
     "name": "stderr",
     "output_type": "stream",
     "text": [
      "C:\\Users\\maria\\PycharmProjects\\practicum\\.venv\\Lib\\site-packages\\scipy\\stats\\_axis_nan_policy.py:531: UserWarning: scipy.stats.shapiro: Input data has range zero. The results may not be accurate.\n",
      "  res = hypotest_fun_out(*samples, **kwds)\n"
     ]
    }
   ],
   "execution_count": 272
  },
  {
   "metadata": {
    "ExecuteTime": {
     "end_time": "2024-04-22T08:35:16.178316Z",
     "start_time": "2024-04-22T08:35:16.169480Z"
    }
   },
   "cell_type": "code",
   "source": [
    "stat, p_value_12 = ttest_ind(AMB_PA['def_nutri'], AMB_PA_MECVV['def_nutri'], equal_var=False)\n",
    "print(\"P-valor entre AMB_PA i AMB_PA_MECVV\", p_value_12)"
   ],
   "id": "d518ed3fde934b64",
   "outputs": [
    {
     "name": "stdout",
     "output_type": "stream",
     "text": [
      "P-valor entre AMB_PA i AMB_PA_MECVV nan\n"
     ]
    }
   ],
   "execution_count": 273
  },
  {
   "metadata": {
    "ExecuteTime": {
     "end_time": "2024-04-22T08:35:35.908634Z",
     "start_time": "2024-04-22T08:35:35.901341Z"
    }
   },
   "cell_type": "code",
   "source": [
    "stat, p_value_13 = ttest_ind(AMB_PA['def_nutri'], SENSE_PA['def_nutri'], equal_var=False)\n",
    "print(\"P-valor entre AMB_PA i SENSE_PA\", p_value_13)"
   ],
   "id": "1e0de691178e3d02",
   "outputs": [
    {
     "name": "stdout",
     "output_type": "stream",
     "text": [
      "P-valor entre AMB_PA i SENSE_PA nan\n"
     ]
    }
   ],
   "execution_count": 274
  },
  {
   "metadata": {
    "ExecuteTime": {
     "end_time": "2024-04-22T08:35:54.053981Z",
     "start_time": "2024-04-22T08:35:54.046401Z"
    }
   },
   "cell_type": "code",
   "source": [
    "stat, p_value_23 = ttest_ind(AMB_PA_MECVV['def_nutri'], SENSE_PA['def_nutri'], equal_var=False)\n",
    "print(\"P-valor entre AMB_PA_MECVV i SENSE_PA\", p_value_23)"
   ],
   "id": "f40327fa6efbc272",
   "outputs": [
    {
     "name": "stdout",
     "output_type": "stream",
     "text": [
      "P-valor entre AMB_PA_MECVV i SENSE_PA nan\n"
     ]
    }
   ],
   "execution_count": 275
  }
 ],
 "metadata": {
  "kernelspec": {
   "display_name": "Python 3",
   "language": "python",
   "name": "python3"
  },
  "language_info": {
   "codemirror_mode": {
    "name": "ipython",
    "version": 2
   },
   "file_extension": ".py",
   "mimetype": "text/x-python",
   "name": "python",
   "nbconvert_exporter": "python",
   "pygments_lexer": "ipython2",
   "version": "2.7.6"
  }
 },
 "nbformat": 4,
 "nbformat_minor": 5
}
