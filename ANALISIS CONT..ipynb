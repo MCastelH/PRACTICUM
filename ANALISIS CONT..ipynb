{
 "cells": [
  {
   "cell_type": "code",
   "id": "initial_id",
   "metadata": {
    "collapsed": true,
    "ExecuteTime": {
     "end_time": "2024-04-19T12:37:35.353330Z",
     "start_time": "2024-04-19T12:37:33.614412Z"
    }
   },
   "source": [
    "import json\n",
    "import pandas as pd\n",
    "from datetime import datetime\n",
    "from listas import priorfalls_list, delirium_list, dementia_list, depresyndr_list, uriincont_list, fecincont_list, pressulc_list, osteopor_list, sarcopenia_list, sleepdisturb_list, chrpain_list, iatrog_list, constipation_list, CVdisease_list, heartdisease_list, ND_list, DM_list, hepatopat_list, neopl_list, AcuteRenalF_list, dizsyn_list, VIH_list, psicosis_list\n",
    "\n",
    "from auxiliary_functions import valores_codigos, contar_diccionarios, dias_ingreso_total, asignar_intervalo_edad, sumar_barthel, sumar_emina, obtener_ultimo_resultat, obtener_valor_promedio, canadenca_comparada, disfagia_mecvvs, extraer_valor_clave, extraer_valor_clave_simple\n",
    "\n",
    "tabla = pd.read_pickle('./data/processed/dataframe.pkl')\n",
    "import scipy.stats as stats\n",
    "from scipy.stats import ttest_ind\n",
    "from scipy.stats import shapiro\n",
    "from scipy.stats import mannwhitneyu\n",
    "from scipy.stats import chi2_contingency\n"
   ],
   "outputs": [],
   "execution_count": 4
  },
  {
   "metadata": {
    "ExecuteTime": {
     "end_time": "2024-04-19T12:37:41.167516Z",
     "start_time": "2024-04-19T12:37:40.966798Z"
    }
   },
   "cell_type": "code",
   "source": "tabla.head()",
   "id": "d7edd23ab31dcae8",
   "outputs": [
    {
     "data": {
      "text/plain": [
       "   edat sexe  visitaDietista  \\\n",
       "0    89    F               0   \n",
       "1    70    M               0   \n",
       "2    96    M               0   \n",
       "3    85    M               0   \n",
       "4    93    M               0   \n",
       "\n",
       "                                                labs  \\\n",
       "0                                                 []   \n",
       "1  [{'date': '20220524', 'name': 'PCR SARS-CoV2 S...   \n",
       "2                                                 []   \n",
       "3                                                 []   \n",
       "4  [{'date': '20220208', 'name': 'UREA Sèrum', 'l...   \n",
       "\n",
       "                                                 mna  \\\n",
       "0                                                 []   \n",
       "1                                                 []   \n",
       "2                                                 []   \n",
       "3                                                 []   \n",
       "4  [{'imc': '0', 'anorexia': '1', 'perduaPes': '1...   \n",
       "\n",
       "                                               emina canadenca  \\\n",
       "0  [{'activitat': '2', 'estatMental': '1', 'humit...        []   \n",
       "1  [{'activitat': '0', 'estatMental': '0', 'humit...        []   \n",
       "2  [{'activitat': '3', 'estatMental': '0', 'humit...        []   \n",
       "3  [{'activitat': '2', 'estatMental': '1', 'humit...        []   \n",
       "4  [{'activitat': '2', 'estatMental': '1', 'humit...        []   \n",
       "\n",
       "                                                 pes  \\\n",
       "0                                                 []   \n",
       "1  [{'valor': '64.7', 'data': '2022-10-04'}, {'va...   \n",
       "2                                                 []   \n",
       "3                                                 []   \n",
       "4  [{'valor': '49.900', 'data': '2022-06-02'}, {'...   \n",
       "\n",
       "                                                atcs  \\\n",
       "0  [{'codi': 'M01AE', 'dataInici': '2020-06-21 00...   \n",
       "1  [{'codi': 'C09AA', 'dataInici': '2021-05-26 00...   \n",
       "2  [{'codi': 'G04CA', 'dataInici': '2020-07-09 00...   \n",
       "3  [{'codi': 'G04CA', 'dataInici': '2020-07-15 00...   \n",
       "4  [{'codi': 'N02AA', 'dataInici': '2022-02-01 00...   \n",
       "\n",
       "                                              mecvvs  ...  \\\n",
       "0                                                 []  ...   \n",
       "1  [{'data': '20220930', 'pacientNoColabora': '',...  ...   \n",
       "2                                                 []  ...   \n",
       "3  [{'data': '20201204131810', 'disfagia': 'S', '...  ...   \n",
       "4  [{'data': '20220330172303', 'disfagiaConeguda'...  ...   \n",
       "\n",
       "                                            albumina  \\\n",
       "0                                               None   \n",
       "1                                                3.1   \n",
       "2                                               None   \n",
       "3                                               None   \n",
       "4  Proves afegides a un altre petició per extracc...   \n",
       "\n",
       "                                   proteinas totales    Hb  colesterol total  \\\n",
       "0                                               None  None              None   \n",
       "1                                                5.3  14.5             124.7   \n",
       "2                                               None  None              None   \n",
       "3                                               None  None              None   \n",
       "4  Proves afegides a un altre petició per extracc...     X              None   \n",
       "\n",
       "   leucos  limfos  prot C react  \\\n",
       "0    None    None          None   \n",
       "1       X    38.9         19.61   \n",
       "2    None    None          None   \n",
       "3    None    None          None   \n",
       "4       X       X          0.54   \n",
       "\n",
       "                                                urea  \\\n",
       "0                                               None   \n",
       "1                                               25.7   \n",
       "2                                               None   \n",
       "3                                               None   \n",
       "4  Proves afegides a un altre petició per extracc...   \n",
       "\n",
       "                                            FGE MDRD  \\\n",
       "0                                               None   \n",
       "1                                                >60   \n",
       "2                                               None   \n",
       "3                                               None   \n",
       "4  Proves afegides a un altre petició per extracc...   \n",
       "\n",
       "                                         FGE CDK-EPI  \n",
       "0                                               None  \n",
       "1                                                >90  \n",
       "2                                               None  \n",
       "3                                               None  \n",
       "4  Proves afegides a un altre petició per extracc...  \n",
       "\n",
       "[5 rows x 68 columns]"
      ],
      "text/html": [
       "<div>\n",
       "<style scoped>\n",
       "    .dataframe tbody tr th:only-of-type {\n",
       "        vertical-align: middle;\n",
       "    }\n",
       "\n",
       "    .dataframe tbody tr th {\n",
       "        vertical-align: top;\n",
       "    }\n",
       "\n",
       "    .dataframe thead th {\n",
       "        text-align: right;\n",
       "    }\n",
       "</style>\n",
       "<table border=\"1\" class=\"dataframe\">\n",
       "  <thead>\n",
       "    <tr style=\"text-align: right;\">\n",
       "      <th></th>\n",
       "      <th>edat</th>\n",
       "      <th>sexe</th>\n",
       "      <th>visitaDietista</th>\n",
       "      <th>labs</th>\n",
       "      <th>mna</th>\n",
       "      <th>emina</th>\n",
       "      <th>canadenca</th>\n",
       "      <th>pes</th>\n",
       "      <th>atcs</th>\n",
       "      <th>mecvvs</th>\n",
       "      <th>...</th>\n",
       "      <th>albumina</th>\n",
       "      <th>proteinas totales</th>\n",
       "      <th>Hb</th>\n",
       "      <th>colesterol total</th>\n",
       "      <th>leucos</th>\n",
       "      <th>limfos</th>\n",
       "      <th>prot C react</th>\n",
       "      <th>urea</th>\n",
       "      <th>FGE MDRD</th>\n",
       "      <th>FGE CDK-EPI</th>\n",
       "    </tr>\n",
       "  </thead>\n",
       "  <tbody>\n",
       "    <tr>\n",
       "      <th>0</th>\n",
       "      <td>89</td>\n",
       "      <td>F</td>\n",
       "      <td>0</td>\n",
       "      <td>[]</td>\n",
       "      <td>[]</td>\n",
       "      <td>[{'activitat': '2', 'estatMental': '1', 'humit...</td>\n",
       "      <td>[]</td>\n",
       "      <td>[]</td>\n",
       "      <td>[{'codi': 'M01AE', 'dataInici': '2020-06-21 00...</td>\n",
       "      <td>[]</td>\n",
       "      <td>...</td>\n",
       "      <td>None</td>\n",
       "      <td>None</td>\n",
       "      <td>None</td>\n",
       "      <td>None</td>\n",
       "      <td>None</td>\n",
       "      <td>None</td>\n",
       "      <td>None</td>\n",
       "      <td>None</td>\n",
       "      <td>None</td>\n",
       "      <td>None</td>\n",
       "    </tr>\n",
       "    <tr>\n",
       "      <th>1</th>\n",
       "      <td>70</td>\n",
       "      <td>M</td>\n",
       "      <td>0</td>\n",
       "      <td>[{'date': '20220524', 'name': 'PCR SARS-CoV2 S...</td>\n",
       "      <td>[]</td>\n",
       "      <td>[{'activitat': '0', 'estatMental': '0', 'humit...</td>\n",
       "      <td>[]</td>\n",
       "      <td>[{'valor': '64.7', 'data': '2022-10-04'}, {'va...</td>\n",
       "      <td>[{'codi': 'C09AA', 'dataInici': '2021-05-26 00...</td>\n",
       "      <td>[{'data': '20220930', 'pacientNoColabora': '',...</td>\n",
       "      <td>...</td>\n",
       "      <td>3.1</td>\n",
       "      <td>5.3</td>\n",
       "      <td>14.5</td>\n",
       "      <td>124.7</td>\n",
       "      <td>X</td>\n",
       "      <td>38.9</td>\n",
       "      <td>19.61</td>\n",
       "      <td>25.7</td>\n",
       "      <td>&gt;60</td>\n",
       "      <td>&gt;90</td>\n",
       "    </tr>\n",
       "    <tr>\n",
       "      <th>2</th>\n",
       "      <td>96</td>\n",
       "      <td>M</td>\n",
       "      <td>0</td>\n",
       "      <td>[]</td>\n",
       "      <td>[]</td>\n",
       "      <td>[{'activitat': '3', 'estatMental': '0', 'humit...</td>\n",
       "      <td>[]</td>\n",
       "      <td>[]</td>\n",
       "      <td>[{'codi': 'G04CA', 'dataInici': '2020-07-09 00...</td>\n",
       "      <td>[]</td>\n",
       "      <td>...</td>\n",
       "      <td>None</td>\n",
       "      <td>None</td>\n",
       "      <td>None</td>\n",
       "      <td>None</td>\n",
       "      <td>None</td>\n",
       "      <td>None</td>\n",
       "      <td>None</td>\n",
       "      <td>None</td>\n",
       "      <td>None</td>\n",
       "      <td>None</td>\n",
       "    </tr>\n",
       "    <tr>\n",
       "      <th>3</th>\n",
       "      <td>85</td>\n",
       "      <td>M</td>\n",
       "      <td>0</td>\n",
       "      <td>[]</td>\n",
       "      <td>[]</td>\n",
       "      <td>[{'activitat': '2', 'estatMental': '1', 'humit...</td>\n",
       "      <td>[]</td>\n",
       "      <td>[]</td>\n",
       "      <td>[{'codi': 'G04CA', 'dataInici': '2020-07-15 00...</td>\n",
       "      <td>[{'data': '20201204131810', 'disfagia': 'S', '...</td>\n",
       "      <td>...</td>\n",
       "      <td>None</td>\n",
       "      <td>None</td>\n",
       "      <td>None</td>\n",
       "      <td>None</td>\n",
       "      <td>None</td>\n",
       "      <td>None</td>\n",
       "      <td>None</td>\n",
       "      <td>None</td>\n",
       "      <td>None</td>\n",
       "      <td>None</td>\n",
       "    </tr>\n",
       "    <tr>\n",
       "      <th>4</th>\n",
       "      <td>93</td>\n",
       "      <td>M</td>\n",
       "      <td>0</td>\n",
       "      <td>[{'date': '20220208', 'name': 'UREA Sèrum', 'l...</td>\n",
       "      <td>[{'imc': '0', 'anorexia': '1', 'perduaPes': '1...</td>\n",
       "      <td>[{'activitat': '2', 'estatMental': '1', 'humit...</td>\n",
       "      <td>[]</td>\n",
       "      <td>[{'valor': '49.900', 'data': '2022-06-02'}, {'...</td>\n",
       "      <td>[{'codi': 'N02AA', 'dataInici': '2022-02-01 00...</td>\n",
       "      <td>[{'data': '20220330172303', 'disfagiaConeguda'...</td>\n",
       "      <td>...</td>\n",
       "      <td>Proves afegides a un altre petició per extracc...</td>\n",
       "      <td>Proves afegides a un altre petició per extracc...</td>\n",
       "      <td>X</td>\n",
       "      <td>None</td>\n",
       "      <td>X</td>\n",
       "      <td>X</td>\n",
       "      <td>0.54</td>\n",
       "      <td>Proves afegides a un altre petició per extracc...</td>\n",
       "      <td>Proves afegides a un altre petició per extracc...</td>\n",
       "      <td>Proves afegides a un altre petició per extracc...</td>\n",
       "    </tr>\n",
       "  </tbody>\n",
       "</table>\n",
       "<p>5 rows × 68 columns</p>\n",
       "</div>"
      ]
     },
     "execution_count": 5,
     "metadata": {},
     "output_type": "execute_result"
    }
   ],
   "execution_count": 5
  },
  {
   "metadata": {
    "ExecuteTime": {
     "end_time": "2024-04-19T12:37:41.334772Z",
     "start_time": "2024-04-19T12:37:41.317797Z"
    }
   },
   "cell_type": "code",
   "source": [
    "CON_PA = tabla[tabla[\"PA_diagnosticada\"] == 1.0]\n",
    "CON_PA_MECVV = tabla[\n",
    "    (tabla[\"P_diagnosticada\"] == 1.0) & (tabla[\"Dias_totales_ingresado\"] < 30) & (tabla[\"Disfagia_mecvvs\"] == 1.0) & (tabla[\"alteracioEficacia_mecvvs\"] == 1.0) |\n",
    "    (tabla[\"P_diagnosticada\"] == 1.0) & (tabla[\"Dias_totales_ingresado\"] < 30) & (tabla[\"Disfagia_mecvvs\"] == 1.0) & (tabla[\"alteracioSeguretat_mecvvs\"] == 1.0)]   \n",
    "SIN_PA = tabla[\n",
    "          (tabla[\"P_diagnosticada\"] == 1.0) |\n",
    "          (tabla[\"P_diagnosticada\"] == 1.0) & (tabla[\"Disfagia_mecvvs\"] == 1.0) & (tabla[\"alteracioEficacia_mecvvs\"] == 1.0) & (tabla[\"Dias_totales_ingresado\"] > 30) |\n",
    "          (tabla[\"P_diagnosticada\"] == 1.0) & (tabla[\"Disfagia_mecvvs\"] == 1.0) & (tabla[\"alteracioSeguretat_mecvvs\"] == 1.0) & (tabla[\"Dias_totales_ingresado\"] > 30)]"
   ],
   "id": "66ee0565100b2096",
   "outputs": [],
   "execution_count": 6
  },
  {
   "metadata": {},
   "cell_type": "markdown",
   "source": "# Síndromes geriàtrics",
   "id": "89fbabd4869d9b6e"
  },
  {
   "metadata": {},
   "cell_type": "markdown",
   "source": "## Index de Charslton",
   "id": "26d9f063eaf602a8"
  },
  {
   "metadata": {
    "ExecuteTime": {
     "end_time": "2024-04-19T12:37:41.465290Z",
     "start_time": "2024-04-19T12:37:41.459497Z"
    }
   },
   "cell_type": "code",
   "source": "",
   "id": "b5b2205f3b3c898f",
   "outputs": [],
   "execution_count": 6
  },
  {
   "metadata": {},
   "cell_type": "markdown",
   "source": "## Caigudes prèvies",
   "id": "964c785479e0467b"
  },
  {
   "metadata": {
    "ExecuteTime": {
     "end_time": "2024-04-19T12:37:41.825853Z",
     "start_time": "2024-04-19T12:37:41.818571Z"
    }
   },
   "cell_type": "code",
   "source": [
    "caprev_CON_PA= (CON_PA['caidas_previas'] == 1.0).mean() * 100\n",
    "print(f\"Percentatge de caigudes prèvies: {caprev_CON_PA:.2f}%\")"
   ],
   "id": "50df5ada3ce5ed0e",
   "outputs": [
    {
     "name": "stdout",
     "output_type": "stream",
     "text": [
      "Percentatge de caigudes prèvies: 5.88%\n"
     ]
    }
   ],
   "execution_count": 7
  },
  {
   "metadata": {
    "ExecuteTime": {
     "end_time": "2024-04-19T12:37:42.063160Z",
     "start_time": "2024-04-19T12:37:42.056964Z"
    }
   },
   "cell_type": "code",
   "source": [
    "caprev_CON_PA_MECVV= (CON_PA_MECVV['caidas_previas'] == 1.0).mean() * 100\n",
    "print(f\"Percentatge de caigudes prèvies: {caprev_CON_PA_MECVV:.2f}%\")"
   ],
   "id": "1ee91988879aa087",
   "outputs": [
    {
     "name": "stdout",
     "output_type": "stream",
     "text": [
      "Percentatge de caigudes prèvies: 0.00%\n"
     ]
    }
   ],
   "execution_count": 8
  },
  {
   "metadata": {
    "ExecuteTime": {
     "end_time": "2024-04-19T12:37:42.554943Z",
     "start_time": "2024-04-19T12:37:42.548740Z"
    }
   },
   "cell_type": "code",
   "source": [
    "caprev_SIN_PA= (SIN_PA['caidas_previas'] == 1.0).mean() * 100\n",
    "print(f\"Percentatge de caigudes prèvies: {caprev_SIN_PA:.2f}%\")"
   ],
   "id": "4d2cb240e1f7b6f7",
   "outputs": [
    {
     "name": "stdout",
     "output_type": "stream",
     "text": [
      "Percentatge de caigudes prèvies: 6.12%\n"
     ]
    }
   ],
   "execution_count": 9
  },
  {
   "metadata": {},
   "cell_type": "markdown",
   "source": "#### Pvalor",
   "id": "35b8e447e15084e7"
  },
  {
   "metadata": {},
   "cell_type": "markdown",
   "source": "##### Normalitat",
   "id": "bce617253d59df63"
  },
  {
   "metadata": {
    "ExecuteTime": {
     "end_time": "2024-04-19T12:37:42.792936Z",
     "start_time": "2024-04-19T12:37:42.785354Z"
    }
   },
   "cell_type": "code",
   "source": [
    "stat, p_value = shapiro(CON_PA['caidas_previas'])\n",
    "print(f\"Estadístic W = {stat:.4f}\")\n",
    "print(f\"Valor p = {p_value:.4f}\")\n",
    "\n",
    "alpha = 0.05\n",
    "if p_value < alpha:\n",
    "    print(\"El nombre de files no segueix una distribució normal.\")\n",
    "else:\n",
    "    print(\"El nombre de files segueix una distribució normal\")"
   ],
   "id": "ef85d9181f822b14",
   "outputs": [
    {
     "name": "stdout",
     "output_type": "stream",
     "text": [
      "Estadístic W = 0.2622\n",
      "Valor p = 0.0000\n",
      "El nombre de files no segueix una distribució normal.\n"
     ]
    }
   ],
   "execution_count": 10
  },
  {
   "metadata": {
    "ExecuteTime": {
     "end_time": "2024-04-19T12:37:43.256495Z",
     "start_time": "2024-04-19T12:37:43.245784Z"
    }
   },
   "cell_type": "code",
   "source": [
    "stat, p_value = shapiro(CON_PA_MECVV['caidas_previas'])\n",
    "print(f\"Estadístic W = {stat:.4f}\")\n",
    "print(f\"Valor p = {p_value:.4f}\")\n",
    "\n",
    "alpha = 0.05\n",
    "if p_value < alpha:\n",
    "    print(\"El nombre de files no segueix una distribució normal.\")\n",
    "else:\n",
    "    print(\"El nombre de files segueix una distribució normal\")"
   ],
   "id": "73fc0a6f9756c13",
   "outputs": [
    {
     "name": "stdout",
     "output_type": "stream",
     "text": [
      "Estadístic W = 1.0000\n",
      "Valor p = 1.0000\n",
      "El nombre de files segueix una distribució normal\n"
     ]
    },
    {
     "name": "stderr",
     "output_type": "stream",
     "text": [
      "C:\\Users\\maria\\PycharmProjects\\practicum\\.venv\\Lib\\site-packages\\scipy\\stats\\_axis_nan_policy.py:531: UserWarning: scipy.stats.shapiro: Input data has range zero. The results may not be accurate.\n",
      "  res = hypotest_fun_out(*samples, **kwds)\n"
     ]
    }
   ],
   "execution_count": 11
  },
  {
   "metadata": {
    "ExecuteTime": {
     "end_time": "2024-04-19T12:37:43.543206Z",
     "start_time": "2024-04-19T12:37:43.535780Z"
    }
   },
   "cell_type": "code",
   "source": [
    "stat, p_value = shapiro(SIN_PA['DO_diagnosticada'])\n",
    "print(f\"Estadístic W = {stat:.4f}\")\n",
    "print(f\"Valor p = {p_value:.4f}\")\n",
    "\n",
    "alpha = 0.05\n",
    "if p_value < alpha:\n",
    "    print(\"El nombre de files no segueix una distribució normal.\")\n",
    "else:\n",
    "    print(\"El nombre de files segueix una distribució normal\")"
   ],
   "id": "9dd4c0120e9dfe83",
   "outputs": [
    {
     "name": "stdout",
     "output_type": "stream",
     "text": [
      "Estadístic W = 0.4716\n",
      "Valor p = 0.0000\n",
      "El nombre de files no segueix una distribució normal.\n"
     ]
    }
   ],
   "execution_count": 12
  },
  {
   "metadata": {
    "ExecuteTime": {
     "end_time": "2024-04-19T12:37:43.847401Z",
     "start_time": "2024-04-19T12:37:43.840079Z"
    }
   },
   "cell_type": "code",
   "source": [
    "stat, p_value_12 = mannwhitneyu(CON_PA['caidas_previas'], CON_PA_MECVV['caidas_previas'], alternative='two-sided')\n",
    "print(\"P-valor entre CON_PA i CON_PA_MECVV\", p_value_12)"
   ],
   "id": "4c41e8420ecd54f3",
   "outputs": [
    {
     "name": "stdout",
     "output_type": "stream",
     "text": [
      "P-valor entre CON_PA i CON_PA_MECVV 0.49002535950179893\n"
     ]
    }
   ],
   "execution_count": 13
  },
  {
   "metadata": {
    "ExecuteTime": {
     "end_time": "2024-04-19T12:37:44.069087Z",
     "start_time": "2024-04-19T12:37:44.063595Z"
    }
   },
   "cell_type": "code",
   "source": [
    "stat, p_value_13 = mannwhitneyu(CON_PA['caidas_previas'], SIN_PA['caidas_previas'], alternative='two-sided')\n",
    "print(\"P-valor entre CON_PA i SIN_PA\", p_value_13)"
   ],
   "id": "d3a50234b5a6775",
   "outputs": [
    {
     "name": "stdout",
     "output_type": "stream",
     "text": [
      "P-valor entre CON_PA i SIN_PA 0.9858477456716862\n"
     ]
    }
   ],
   "execution_count": 14
  },
  {
   "metadata": {
    "ExecuteTime": {
     "end_time": "2024-04-19T12:37:44.335794Z",
     "start_time": "2024-04-19T12:37:44.328190Z"
    }
   },
   "cell_type": "code",
   "source": [
    "stat, p_value_23 = mannwhitneyu(CON_PA_MECVV['caidas_previas'], SIN_PA['caidas_previas'], alternative='two-sided')\n",
    "print(\"P-valor entre CON_PA_MECVV i SIN_PA\", p_value_23)"
   ],
   "id": "13c44b65ff0399ca",
   "outputs": [
    {
     "name": "stdout",
     "output_type": "stream",
     "text": [
      "P-valor entre CON_PA_MECVV i SIN_PA 0.44143809205435813\n"
     ]
    }
   ],
   "execution_count": 15
  },
  {
   "metadata": {},
   "cell_type": "markdown",
   "source": "## Deliris",
   "id": "c7aad4b1d580111"
  },
  {
   "metadata": {
    "ExecuteTime": {
     "end_time": "2024-04-19T12:37:44.522977Z",
     "start_time": "2024-04-19T12:37:44.518323Z"
    }
   },
   "cell_type": "code",
   "source": [
    "del_CON_PA= (CON_PA['delirios'] == 1.0).mean() * 100\n",
    "print(f\"Percentatge de deliris: {del_CON_PA:.2f}%\")"
   ],
   "id": "4457a2a3dfc7a9de",
   "outputs": [
    {
     "name": "stdout",
     "output_type": "stream",
     "text": [
      "Percentatge de deliris: 23.53%\n"
     ]
    }
   ],
   "execution_count": 16
  },
  {
   "metadata": {
    "ExecuteTime": {
     "end_time": "2024-04-19T12:37:44.725574Z",
     "start_time": "2024-04-19T12:37:44.717367Z"
    }
   },
   "cell_type": "code",
   "source": [
    "del_CON_PA_MECVV= (CON_PA_MECVV['delirios'] == 1.0).mean() * 100\n",
    "print(f\"Percentatge de deliris: {del_CON_PA_MECVV:.2f}%\")"
   ],
   "id": "5ae56c8f83586838",
   "outputs": [
    {
     "name": "stdout",
     "output_type": "stream",
     "text": [
      "Percentatge de deliris: 40.00%\n"
     ]
    }
   ],
   "execution_count": 17
  },
  {
   "metadata": {
    "ExecuteTime": {
     "end_time": "2024-04-19T12:37:44.948902Z",
     "start_time": "2024-04-19T12:37:44.940961Z"
    }
   },
   "cell_type": "code",
   "source": [
    "del_SIN_PA= (SIN_PA['delirios'] == 1.0).mean() * 100\n",
    "print(f\"Percentatge de deliris: {del_SIN_PA:.2f}%\")"
   ],
   "id": "9e44418c6cf03004",
   "outputs": [
    {
     "name": "stdout",
     "output_type": "stream",
     "text": [
      "Percentatge de deliris: 18.37%\n"
     ]
    }
   ],
   "execution_count": 18
  },
  {
   "metadata": {},
   "cell_type": "markdown",
   "source": "#### Pvalor",
   "id": "5fc877d47e55c507"
  },
  {
   "metadata": {},
   "cell_type": "markdown",
   "source": "##### Normalitat",
   "id": "c8d1814752edcd36"
  },
  {
   "metadata": {
    "ExecuteTime": {
     "end_time": "2024-04-19T12:37:45.179227Z",
     "start_time": "2024-04-19T12:37:45.173854Z"
    }
   },
   "cell_type": "code",
   "source": [
    "stat, p_value = shapiro(CON_PA['delirios'])\n",
    "print(f\"Estadístic W = {stat:.4f}\")\n",
    "print(f\"Valor p = {p_value:.4f}\")\n",
    "\n",
    "alpha = 0.05\n",
    "if p_value < alpha:\n",
    "    print(\"El nombre de files no segueix una distribució normal.\")\n",
    "else:\n",
    "    print(\"El nombre de files segueix una distribució normal\")"
   ],
   "id": "d59012cfb049a4b1",
   "outputs": [
    {
     "name": "stdout",
     "output_type": "stream",
     "text": [
      "Estadístic W = 0.5327\n",
      "Valor p = 0.0000\n",
      "El nombre de files no segueix una distribució normal.\n"
     ]
    }
   ],
   "execution_count": 19
  },
  {
   "metadata": {
    "ExecuteTime": {
     "end_time": "2024-04-19T12:37:45.336865Z",
     "start_time": "2024-04-19T12:37:45.330357Z"
    }
   },
   "cell_type": "code",
   "source": [
    "stat, p_value = shapiro(CON_PA_MECVV['delirios'])\n",
    "print(f\"Estadístic W = {stat:.4f}\")\n",
    "print(f\"Valor p = {p_value:.4f}\")\n",
    "\n",
    "alpha = 0.05\n",
    "if p_value < alpha:\n",
    "    print(\"El nombre de files no segueix una distribució normal.\")\n",
    "else:\n",
    "    print(\"El nombre de files segueix una distribució normal\")"
   ],
   "id": "946b43e2ab447ace",
   "outputs": [
    {
     "name": "stdout",
     "output_type": "stream",
     "text": [
      "Estadístic W = 0.6405\n",
      "Valor p = 0.0002\n",
      "El nombre de files no segueix una distribució normal.\n"
     ]
    }
   ],
   "execution_count": 20
  },
  {
   "metadata": {
    "ExecuteTime": {
     "end_time": "2024-04-19T12:37:45.635933Z",
     "start_time": "2024-04-19T12:37:45.629479Z"
    }
   },
   "cell_type": "code",
   "source": [
    "stat, p_value = shapiro(SIN_PA['delirios'])\n",
    "print(f\"Estadístic W = {stat:.4f}\")\n",
    "print(f\"Valor p = {p_value:.4f}\")\n",
    "\n",
    "alpha = 0.05\n",
    "if p_value < alpha:\n",
    "    print(\"El nombre de files no segueix una distribució normal.\")\n",
    "else:\n",
    "    print(\"El nombre de files segueix una distribució normal\")"
   ],
   "id": "268335d184f2afbe",
   "outputs": [
    {
     "name": "stdout",
     "output_type": "stream",
     "text": [
      "Estadístic W = 0.4716\n",
      "Valor p = 0.0000\n",
      "El nombre de files no segueix una distribució normal.\n"
     ]
    }
   ],
   "execution_count": 21
  },
  {
   "metadata": {
    "ExecuteTime": {
     "end_time": "2024-04-19T12:37:45.784494Z",
     "start_time": "2024-04-19T12:37:45.777727Z"
    }
   },
   "cell_type": "code",
   "source": [
    "stat, p_value_12 = mannwhitneyu(CON_PA['delirios'], CON_PA_MECVV['delirios'], alternative='two-sided')\n",
    "print(\"P-valor entre CON_PA i CON_PA_MECVV\", p_value_12)"
   ],
   "id": "1b311cc28de8fcd3",
   "outputs": [
    {
     "name": "stdout",
     "output_type": "stream",
     "text": [
      "P-valor entre CON_PA i CON_PA_MECVV 0.39174655228054167\n"
     ]
    }
   ],
   "execution_count": 22
  },
  {
   "metadata": {
    "ExecuteTime": {
     "end_time": "2024-04-19T12:37:46.028582Z",
     "start_time": "2024-04-19T12:37:46.022420Z"
    }
   },
   "cell_type": "code",
   "source": [
    "stat, p_value_13 = mannwhitneyu(CON_PA['delirios'], SIN_PA['delirios'], alternative='two-sided')\n",
    "print(\"P-valor entre CON_PA i SIN_PA\", p_value_13)"
   ],
   "id": "ea1a6301c3ec1b28",
   "outputs": [
    {
     "name": "stdout",
     "output_type": "stream",
     "text": [
      "P-valor entre CON_PA i SIN_PA 0.6549000779898075\n"
     ]
    }
   ],
   "execution_count": 23
  },
  {
   "metadata": {
    "ExecuteTime": {
     "end_time": "2024-04-19T12:37:46.228751Z",
     "start_time": "2024-04-19T12:37:46.224004Z"
    }
   },
   "cell_type": "code",
   "source": [
    "stat, p_value_23 = mannwhitneyu(CON_PA_MECVV['delirios'], SIN_PA['delirios'], alternative='two-sided')\n",
    "print(\"P-valor entre CON_PA_MECVV i SIN_PA\", p_value_23)"
   ],
   "id": "68c1f5ee2e2f63e3",
   "outputs": [
    {
     "name": "stdout",
     "output_type": "stream",
     "text": [
      "P-valor entre CON_PA_MECVV i SIN_PA 0.13960802912048415\n"
     ]
    }
   ],
   "execution_count": 24
  },
  {
   "metadata": {},
   "cell_type": "markdown",
   "source": "## Demència",
   "id": "16a14a68a193ae88"
  },
  {
   "metadata": {
    "ExecuteTime": {
     "end_time": "2024-04-19T12:37:47.329591Z",
     "start_time": "2024-04-19T12:37:46.502306Z"
    }
   },
   "cell_type": "code",
   "source": [
    "dem_CON_PA= (CON_PA['demència'] == 1.0).mean() * 100\n",
    "print(f\"Percentatge de demència: {dem_CON_PA:.2f}%\")"
   ],
   "id": "89610b223216b432",
   "outputs": [
    {
     "ename": "KeyError",
     "evalue": "'demència'",
     "output_type": "error",
     "traceback": [
      "\u001B[1;31m---------------------------------------------------------------------------\u001B[0m",
      "\u001B[1;31mKeyError\u001B[0m                                  Traceback (most recent call last)",
      "File \u001B[1;32m~\\PycharmProjects\\practicum\\.venv\\Lib\\site-packages\\pandas\\core\\indexes\\base.py:3805\u001B[0m, in \u001B[0;36mIndex.get_loc\u001B[1;34m(self, key)\u001B[0m\n\u001B[0;32m   3804\u001B[0m \u001B[38;5;28;01mtry\u001B[39;00m:\n\u001B[1;32m-> 3805\u001B[0m     \u001B[38;5;28;01mreturn\u001B[39;00m \u001B[38;5;28;43mself\u001B[39;49m\u001B[38;5;241;43m.\u001B[39;49m\u001B[43m_engine\u001B[49m\u001B[38;5;241;43m.\u001B[39;49m\u001B[43mget_loc\u001B[49m\u001B[43m(\u001B[49m\u001B[43mcasted_key\u001B[49m\u001B[43m)\u001B[49m\n\u001B[0;32m   3806\u001B[0m \u001B[38;5;28;01mexcept\u001B[39;00m \u001B[38;5;167;01mKeyError\u001B[39;00m \u001B[38;5;28;01mas\u001B[39;00m err:\n",
      "File \u001B[1;32mindex.pyx:167\u001B[0m, in \u001B[0;36mpandas._libs.index.IndexEngine.get_loc\u001B[1;34m()\u001B[0m\n",
      "File \u001B[1;32mindex.pyx:196\u001B[0m, in \u001B[0;36mpandas._libs.index.IndexEngine.get_loc\u001B[1;34m()\u001B[0m\n",
      "File \u001B[1;32mpandas\\\\_libs\\\\hashtable_class_helper.pxi:7081\u001B[0m, in \u001B[0;36mpandas._libs.hashtable.PyObjectHashTable.get_item\u001B[1;34m()\u001B[0m\n",
      "File \u001B[1;32mpandas\\\\_libs\\\\hashtable_class_helper.pxi:7089\u001B[0m, in \u001B[0;36mpandas._libs.hashtable.PyObjectHashTable.get_item\u001B[1;34m()\u001B[0m\n",
      "\u001B[1;31mKeyError\u001B[0m: 'demència'",
      "\nThe above exception was the direct cause of the following exception:\n",
      "\u001B[1;31mKeyError\u001B[0m                                  Traceback (most recent call last)",
      "Cell \u001B[1;32mIn[25], line 1\u001B[0m\n\u001B[1;32m----> 1\u001B[0m dem_CON_PA\u001B[38;5;241m=\u001B[39m (\u001B[43mCON_PA\u001B[49m\u001B[43m[\u001B[49m\u001B[38;5;124;43m'\u001B[39;49m\u001B[38;5;124;43mdemència\u001B[39;49m\u001B[38;5;124;43m'\u001B[39;49m\u001B[43m]\u001B[49m \u001B[38;5;241m==\u001B[39m \u001B[38;5;241m1.0\u001B[39m)\u001B[38;5;241m.\u001B[39mmean() \u001B[38;5;241m*\u001B[39m \u001B[38;5;241m100\u001B[39m\n\u001B[0;32m      2\u001B[0m \u001B[38;5;28mprint\u001B[39m(\u001B[38;5;124mf\u001B[39m\u001B[38;5;124m\"\u001B[39m\u001B[38;5;124mPercentatge de demència: \u001B[39m\u001B[38;5;132;01m{\u001B[39;00mdem_CON_PA\u001B[38;5;132;01m:\u001B[39;00m\u001B[38;5;124m.2f\u001B[39m\u001B[38;5;132;01m}\u001B[39;00m\u001B[38;5;124m%\u001B[39m\u001B[38;5;124m\"\u001B[39m)\n",
      "File \u001B[1;32m~\\PycharmProjects\\practicum\\.venv\\Lib\\site-packages\\pandas\\core\\frame.py:4090\u001B[0m, in \u001B[0;36mDataFrame.__getitem__\u001B[1;34m(self, key)\u001B[0m\n\u001B[0;32m   4088\u001B[0m \u001B[38;5;28;01mif\u001B[39;00m \u001B[38;5;28mself\u001B[39m\u001B[38;5;241m.\u001B[39mcolumns\u001B[38;5;241m.\u001B[39mnlevels \u001B[38;5;241m>\u001B[39m \u001B[38;5;241m1\u001B[39m:\n\u001B[0;32m   4089\u001B[0m     \u001B[38;5;28;01mreturn\u001B[39;00m \u001B[38;5;28mself\u001B[39m\u001B[38;5;241m.\u001B[39m_getitem_multilevel(key)\n\u001B[1;32m-> 4090\u001B[0m indexer \u001B[38;5;241m=\u001B[39m \u001B[38;5;28;43mself\u001B[39;49m\u001B[38;5;241;43m.\u001B[39;49m\u001B[43mcolumns\u001B[49m\u001B[38;5;241;43m.\u001B[39;49m\u001B[43mget_loc\u001B[49m\u001B[43m(\u001B[49m\u001B[43mkey\u001B[49m\u001B[43m)\u001B[49m\n\u001B[0;32m   4091\u001B[0m \u001B[38;5;28;01mif\u001B[39;00m is_integer(indexer):\n\u001B[0;32m   4092\u001B[0m     indexer \u001B[38;5;241m=\u001B[39m [indexer]\n",
      "File \u001B[1;32m~\\PycharmProjects\\practicum\\.venv\\Lib\\site-packages\\pandas\\core\\indexes\\base.py:3812\u001B[0m, in \u001B[0;36mIndex.get_loc\u001B[1;34m(self, key)\u001B[0m\n\u001B[0;32m   3807\u001B[0m     \u001B[38;5;28;01mif\u001B[39;00m \u001B[38;5;28misinstance\u001B[39m(casted_key, \u001B[38;5;28mslice\u001B[39m) \u001B[38;5;129;01mor\u001B[39;00m (\n\u001B[0;32m   3808\u001B[0m         \u001B[38;5;28misinstance\u001B[39m(casted_key, abc\u001B[38;5;241m.\u001B[39mIterable)\n\u001B[0;32m   3809\u001B[0m         \u001B[38;5;129;01mand\u001B[39;00m \u001B[38;5;28many\u001B[39m(\u001B[38;5;28misinstance\u001B[39m(x, \u001B[38;5;28mslice\u001B[39m) \u001B[38;5;28;01mfor\u001B[39;00m x \u001B[38;5;129;01min\u001B[39;00m casted_key)\n\u001B[0;32m   3810\u001B[0m     ):\n\u001B[0;32m   3811\u001B[0m         \u001B[38;5;28;01mraise\u001B[39;00m InvalidIndexError(key)\n\u001B[1;32m-> 3812\u001B[0m     \u001B[38;5;28;01mraise\u001B[39;00m \u001B[38;5;167;01mKeyError\u001B[39;00m(key) \u001B[38;5;28;01mfrom\u001B[39;00m \u001B[38;5;21;01merr\u001B[39;00m\n\u001B[0;32m   3813\u001B[0m \u001B[38;5;28;01mexcept\u001B[39;00m \u001B[38;5;167;01mTypeError\u001B[39;00m:\n\u001B[0;32m   3814\u001B[0m     \u001B[38;5;66;03m# If we have a listlike key, _check_indexing_error will raise\u001B[39;00m\n\u001B[0;32m   3815\u001B[0m     \u001B[38;5;66;03m#  InvalidIndexError. Otherwise we fall through and re-raise\u001B[39;00m\n\u001B[0;32m   3816\u001B[0m     \u001B[38;5;66;03m#  the TypeError.\u001B[39;00m\n\u001B[0;32m   3817\u001B[0m     \u001B[38;5;28mself\u001B[39m\u001B[38;5;241m.\u001B[39m_check_indexing_error(key)\n",
      "\u001B[1;31mKeyError\u001B[0m: 'demència'"
     ]
    }
   ],
   "execution_count": 25
  },
  {
   "metadata": {
    "ExecuteTime": {
     "end_time": "2024-04-19T12:37:47.330812Z",
     "start_time": "2024-04-19T12:37:47.330812Z"
    }
   },
   "cell_type": "code",
   "source": [
    "dem_CON_PA_MECVV= (CON_PA_MECVV['demència'] == 1.0).mean() * 100\n",
    "print(f\"Percentatge de demència: {dem_CON_PA_MECVV:.2f}%\")"
   ],
   "id": "6973d5742c346036",
   "outputs": [],
   "execution_count": null
  },
  {
   "metadata": {},
   "cell_type": "code",
   "source": [
    "dem_SIN_PA= (SIN_PA['demència'] == 1.0).mean() * 100\n",
    "print(f\"Percentatge de demència: {dem_SIN_PA:.2f}%\")"
   ],
   "id": "3957a273bbf5cf16",
   "outputs": [],
   "execution_count": null
  },
  {
   "metadata": {},
   "cell_type": "markdown",
   "source": "#### Pvalor",
   "id": "2a5e901fb09a4fea"
  },
  {
   "metadata": {},
   "cell_type": "markdown",
   "source": "##### Normalitat",
   "id": "4d9eea90d8ee4a6b"
  },
  {
   "metadata": {},
   "cell_type": "code",
   "source": [
    "stat, p_value = shapiro(CON_PA['demència'])\n",
    "print(f\"Estadístic W = {stat:.4f}\")\n",
    "print(f\"Valor p = {p_value:.4f}\")\n",
    "\n",
    "alpha = 0.05\n",
    "if p_value < alpha:\n",
    "    print(\"El nombre de files no segueix una distribució normal.\")\n",
    "else:\n",
    "    print(\"El nombre de files segueix una distribució normal\")"
   ],
   "id": "5263c8a2a09268c2",
   "outputs": [],
   "execution_count": null
  },
  {
   "metadata": {},
   "cell_type": "code",
   "source": [
    "stat, p_value = shapiro(CON_PA_MECVV['demència'])\n",
    "print(f\"Estadístic W = {stat:.4f}\")\n",
    "print(f\"Valor p = {p_value:.4f}\")\n",
    "\n",
    "alpha = 0.05\n",
    "if p_value < alpha:\n",
    "    print(\"El nombre de files no segueix una distribució normal.\")\n",
    "else:\n",
    "    print(\"El nombre de files segueix una distribució normal\")"
   ],
   "id": "4af93daf881e0e26",
   "outputs": [],
   "execution_count": null
  },
  {
   "metadata": {
    "ExecuteTime": {
     "end_time": "2024-04-19T12:37:47.414006Z",
     "start_time": "2024-04-19T12:37:47.403009Z"
    }
   },
   "cell_type": "code",
   "source": [
    "stat, p_value = shapiro(SIN_PA['delirios'])\n",
    "print(f\"Estadístic W = {stat:.4f}\")\n",
    "print(f\"Valor p = {p_value:.4f}\")\n",
    "\n",
    "alpha = 0.05\n",
    "if p_value < alpha:\n",
    "    print(\"El nombre de files no segueix una distribució normal.\")\n",
    "else:\n",
    "    print(\"El nombre de files segueix una distribució normal\")"
   ],
   "id": "944278fe0f4e6ce4",
   "outputs": [
    {
     "name": "stdout",
     "output_type": "stream",
     "text": [
      "Estadístic W = 0.4716\n",
      "Valor p = 0.0000\n",
      "El nombre de files no segueix una distribució normal.\n"
     ]
    }
   ],
   "execution_count": 26
  },
  {
   "metadata": {
    "ExecuteTime": {
     "end_time": "2024-04-19T12:37:49.108896Z",
     "start_time": "2024-04-19T12:37:49.054483Z"
    }
   },
   "cell_type": "code",
   "source": [
    "stat, p_value_12 = mannwhitneyu(CON_PA['demència'], CON_PA_MECVV['demència'], alternative='two-sided')\n",
    "print(\"P-valor entre CON_PA i CON_PA_MECVV\", p_value_12)"
   ],
   "id": "83f32b06ca57a099",
   "outputs": [
    {
     "ename": "KeyError",
     "evalue": "'demència'",
     "output_type": "error",
     "traceback": [
      "\u001B[1;31m---------------------------------------------------------------------------\u001B[0m",
      "\u001B[1;31mKeyError\u001B[0m                                  Traceback (most recent call last)",
      "File \u001B[1;32m~\\PycharmProjects\\practicum\\.venv\\Lib\\site-packages\\pandas\\core\\indexes\\base.py:3805\u001B[0m, in \u001B[0;36mIndex.get_loc\u001B[1;34m(self, key)\u001B[0m\n\u001B[0;32m   3804\u001B[0m \u001B[38;5;28;01mtry\u001B[39;00m:\n\u001B[1;32m-> 3805\u001B[0m     \u001B[38;5;28;01mreturn\u001B[39;00m \u001B[38;5;28;43mself\u001B[39;49m\u001B[38;5;241;43m.\u001B[39;49m\u001B[43m_engine\u001B[49m\u001B[38;5;241;43m.\u001B[39;49m\u001B[43mget_loc\u001B[49m\u001B[43m(\u001B[49m\u001B[43mcasted_key\u001B[49m\u001B[43m)\u001B[49m\n\u001B[0;32m   3806\u001B[0m \u001B[38;5;28;01mexcept\u001B[39;00m \u001B[38;5;167;01mKeyError\u001B[39;00m \u001B[38;5;28;01mas\u001B[39;00m err:\n",
      "File \u001B[1;32mindex.pyx:167\u001B[0m, in \u001B[0;36mpandas._libs.index.IndexEngine.get_loc\u001B[1;34m()\u001B[0m\n",
      "File \u001B[1;32mindex.pyx:196\u001B[0m, in \u001B[0;36mpandas._libs.index.IndexEngine.get_loc\u001B[1;34m()\u001B[0m\n",
      "File \u001B[1;32mpandas\\\\_libs\\\\hashtable_class_helper.pxi:7081\u001B[0m, in \u001B[0;36mpandas._libs.hashtable.PyObjectHashTable.get_item\u001B[1;34m()\u001B[0m\n",
      "File \u001B[1;32mpandas\\\\_libs\\\\hashtable_class_helper.pxi:7089\u001B[0m, in \u001B[0;36mpandas._libs.hashtable.PyObjectHashTable.get_item\u001B[1;34m()\u001B[0m\n",
      "\u001B[1;31mKeyError\u001B[0m: 'demència'",
      "\nThe above exception was the direct cause of the following exception:\n",
      "\u001B[1;31mKeyError\u001B[0m                                  Traceback (most recent call last)",
      "Cell \u001B[1;32mIn[27], line 1\u001B[0m\n\u001B[1;32m----> 1\u001B[0m stat, p_value_12 \u001B[38;5;241m=\u001B[39m mannwhitneyu(\u001B[43mCON_PA\u001B[49m\u001B[43m[\u001B[49m\u001B[38;5;124;43m'\u001B[39;49m\u001B[38;5;124;43mdemència\u001B[39;49m\u001B[38;5;124;43m'\u001B[39;49m\u001B[43m]\u001B[49m, CON_PA_MECVV[\u001B[38;5;124m'\u001B[39m\u001B[38;5;124mdemència\u001B[39m\u001B[38;5;124m'\u001B[39m], alternative\u001B[38;5;241m=\u001B[39m\u001B[38;5;124m'\u001B[39m\u001B[38;5;124mtwo-sided\u001B[39m\u001B[38;5;124m'\u001B[39m)\n\u001B[0;32m      2\u001B[0m \u001B[38;5;28mprint\u001B[39m(\u001B[38;5;124m\"\u001B[39m\u001B[38;5;124mP-valor entre CON_PA i CON_PA_MECVV\u001B[39m\u001B[38;5;124m\"\u001B[39m, p_value_12)\n",
      "File \u001B[1;32m~\\PycharmProjects\\practicum\\.venv\\Lib\\site-packages\\pandas\\core\\frame.py:4090\u001B[0m, in \u001B[0;36mDataFrame.__getitem__\u001B[1;34m(self, key)\u001B[0m\n\u001B[0;32m   4088\u001B[0m \u001B[38;5;28;01mif\u001B[39;00m \u001B[38;5;28mself\u001B[39m\u001B[38;5;241m.\u001B[39mcolumns\u001B[38;5;241m.\u001B[39mnlevels \u001B[38;5;241m>\u001B[39m \u001B[38;5;241m1\u001B[39m:\n\u001B[0;32m   4089\u001B[0m     \u001B[38;5;28;01mreturn\u001B[39;00m \u001B[38;5;28mself\u001B[39m\u001B[38;5;241m.\u001B[39m_getitem_multilevel(key)\n\u001B[1;32m-> 4090\u001B[0m indexer \u001B[38;5;241m=\u001B[39m \u001B[38;5;28;43mself\u001B[39;49m\u001B[38;5;241;43m.\u001B[39;49m\u001B[43mcolumns\u001B[49m\u001B[38;5;241;43m.\u001B[39;49m\u001B[43mget_loc\u001B[49m\u001B[43m(\u001B[49m\u001B[43mkey\u001B[49m\u001B[43m)\u001B[49m\n\u001B[0;32m   4091\u001B[0m \u001B[38;5;28;01mif\u001B[39;00m is_integer(indexer):\n\u001B[0;32m   4092\u001B[0m     indexer \u001B[38;5;241m=\u001B[39m [indexer]\n",
      "File \u001B[1;32m~\\PycharmProjects\\practicum\\.venv\\Lib\\site-packages\\pandas\\core\\indexes\\base.py:3812\u001B[0m, in \u001B[0;36mIndex.get_loc\u001B[1;34m(self, key)\u001B[0m\n\u001B[0;32m   3807\u001B[0m     \u001B[38;5;28;01mif\u001B[39;00m \u001B[38;5;28misinstance\u001B[39m(casted_key, \u001B[38;5;28mslice\u001B[39m) \u001B[38;5;129;01mor\u001B[39;00m (\n\u001B[0;32m   3808\u001B[0m         \u001B[38;5;28misinstance\u001B[39m(casted_key, abc\u001B[38;5;241m.\u001B[39mIterable)\n\u001B[0;32m   3809\u001B[0m         \u001B[38;5;129;01mand\u001B[39;00m \u001B[38;5;28many\u001B[39m(\u001B[38;5;28misinstance\u001B[39m(x, \u001B[38;5;28mslice\u001B[39m) \u001B[38;5;28;01mfor\u001B[39;00m x \u001B[38;5;129;01min\u001B[39;00m casted_key)\n\u001B[0;32m   3810\u001B[0m     ):\n\u001B[0;32m   3811\u001B[0m         \u001B[38;5;28;01mraise\u001B[39;00m InvalidIndexError(key)\n\u001B[1;32m-> 3812\u001B[0m     \u001B[38;5;28;01mraise\u001B[39;00m \u001B[38;5;167;01mKeyError\u001B[39;00m(key) \u001B[38;5;28;01mfrom\u001B[39;00m \u001B[38;5;21;01merr\u001B[39;00m\n\u001B[0;32m   3813\u001B[0m \u001B[38;5;28;01mexcept\u001B[39;00m \u001B[38;5;167;01mTypeError\u001B[39;00m:\n\u001B[0;32m   3814\u001B[0m     \u001B[38;5;66;03m# If we have a listlike key, _check_indexing_error will raise\u001B[39;00m\n\u001B[0;32m   3815\u001B[0m     \u001B[38;5;66;03m#  InvalidIndexError. Otherwise we fall through and re-raise\u001B[39;00m\n\u001B[0;32m   3816\u001B[0m     \u001B[38;5;66;03m#  the TypeError.\u001B[39;00m\n\u001B[0;32m   3817\u001B[0m     \u001B[38;5;28mself\u001B[39m\u001B[38;5;241m.\u001B[39m_check_indexing_error(key)\n",
      "\u001B[1;31mKeyError\u001B[0m: 'demència'"
     ]
    }
   ],
   "execution_count": 27
  },
  {
   "metadata": {
    "ExecuteTime": {
     "end_time": "2024-04-19T12:37:53.071509Z",
     "start_time": "2024-04-19T12:37:53.018099Z"
    }
   },
   "cell_type": "code",
   "source": [
    "stat, p_value_13 = mannwhitneyu(CON_PA['demència'], SIN_PA['demència'], alternative='two-sided')\n",
    "print(\"P-valor entre CON_PA i SIN_PA\", p_value_13)"
   ],
   "id": "e7b4ff975ef8cd6",
   "outputs": [
    {
     "ename": "KeyError",
     "evalue": "'demència'",
     "output_type": "error",
     "traceback": [
      "\u001B[1;31m---------------------------------------------------------------------------\u001B[0m",
      "\u001B[1;31mKeyError\u001B[0m                                  Traceback (most recent call last)",
      "File \u001B[1;32m~\\PycharmProjects\\practicum\\.venv\\Lib\\site-packages\\pandas\\core\\indexes\\base.py:3805\u001B[0m, in \u001B[0;36mIndex.get_loc\u001B[1;34m(self, key)\u001B[0m\n\u001B[0;32m   3804\u001B[0m \u001B[38;5;28;01mtry\u001B[39;00m:\n\u001B[1;32m-> 3805\u001B[0m     \u001B[38;5;28;01mreturn\u001B[39;00m \u001B[38;5;28;43mself\u001B[39;49m\u001B[38;5;241;43m.\u001B[39;49m\u001B[43m_engine\u001B[49m\u001B[38;5;241;43m.\u001B[39;49m\u001B[43mget_loc\u001B[49m\u001B[43m(\u001B[49m\u001B[43mcasted_key\u001B[49m\u001B[43m)\u001B[49m\n\u001B[0;32m   3806\u001B[0m \u001B[38;5;28;01mexcept\u001B[39;00m \u001B[38;5;167;01mKeyError\u001B[39;00m \u001B[38;5;28;01mas\u001B[39;00m err:\n",
      "File \u001B[1;32mindex.pyx:167\u001B[0m, in \u001B[0;36mpandas._libs.index.IndexEngine.get_loc\u001B[1;34m()\u001B[0m\n",
      "File \u001B[1;32mindex.pyx:196\u001B[0m, in \u001B[0;36mpandas._libs.index.IndexEngine.get_loc\u001B[1;34m()\u001B[0m\n",
      "File \u001B[1;32mpandas\\\\_libs\\\\hashtable_class_helper.pxi:7081\u001B[0m, in \u001B[0;36mpandas._libs.hashtable.PyObjectHashTable.get_item\u001B[1;34m()\u001B[0m\n",
      "File \u001B[1;32mpandas\\\\_libs\\\\hashtable_class_helper.pxi:7089\u001B[0m, in \u001B[0;36mpandas._libs.hashtable.PyObjectHashTable.get_item\u001B[1;34m()\u001B[0m\n",
      "\u001B[1;31mKeyError\u001B[0m: 'demència'",
      "\nThe above exception was the direct cause of the following exception:\n",
      "\u001B[1;31mKeyError\u001B[0m                                  Traceback (most recent call last)",
      "Cell \u001B[1;32mIn[28], line 1\u001B[0m\n\u001B[1;32m----> 1\u001B[0m stat, p_value_13 \u001B[38;5;241m=\u001B[39m mannwhitneyu(\u001B[43mCON_PA\u001B[49m\u001B[43m[\u001B[49m\u001B[38;5;124;43m'\u001B[39;49m\u001B[38;5;124;43mdemència\u001B[39;49m\u001B[38;5;124;43m'\u001B[39;49m\u001B[43m]\u001B[49m, SIN_PA[\u001B[38;5;124m'\u001B[39m\u001B[38;5;124mdemència\u001B[39m\u001B[38;5;124m'\u001B[39m], alternative\u001B[38;5;241m=\u001B[39m\u001B[38;5;124m'\u001B[39m\u001B[38;5;124mtwo-sided\u001B[39m\u001B[38;5;124m'\u001B[39m)\n\u001B[0;32m      2\u001B[0m \u001B[38;5;28mprint\u001B[39m(\u001B[38;5;124m\"\u001B[39m\u001B[38;5;124mP-valor entre CON_PA i SIN_PA\u001B[39m\u001B[38;5;124m\"\u001B[39m, p_value_13)\n",
      "File \u001B[1;32m~\\PycharmProjects\\practicum\\.venv\\Lib\\site-packages\\pandas\\core\\frame.py:4090\u001B[0m, in \u001B[0;36mDataFrame.__getitem__\u001B[1;34m(self, key)\u001B[0m\n\u001B[0;32m   4088\u001B[0m \u001B[38;5;28;01mif\u001B[39;00m \u001B[38;5;28mself\u001B[39m\u001B[38;5;241m.\u001B[39mcolumns\u001B[38;5;241m.\u001B[39mnlevels \u001B[38;5;241m>\u001B[39m \u001B[38;5;241m1\u001B[39m:\n\u001B[0;32m   4089\u001B[0m     \u001B[38;5;28;01mreturn\u001B[39;00m \u001B[38;5;28mself\u001B[39m\u001B[38;5;241m.\u001B[39m_getitem_multilevel(key)\n\u001B[1;32m-> 4090\u001B[0m indexer \u001B[38;5;241m=\u001B[39m \u001B[38;5;28;43mself\u001B[39;49m\u001B[38;5;241;43m.\u001B[39;49m\u001B[43mcolumns\u001B[49m\u001B[38;5;241;43m.\u001B[39;49m\u001B[43mget_loc\u001B[49m\u001B[43m(\u001B[49m\u001B[43mkey\u001B[49m\u001B[43m)\u001B[49m\n\u001B[0;32m   4091\u001B[0m \u001B[38;5;28;01mif\u001B[39;00m is_integer(indexer):\n\u001B[0;32m   4092\u001B[0m     indexer \u001B[38;5;241m=\u001B[39m [indexer]\n",
      "File \u001B[1;32m~\\PycharmProjects\\practicum\\.venv\\Lib\\site-packages\\pandas\\core\\indexes\\base.py:3812\u001B[0m, in \u001B[0;36mIndex.get_loc\u001B[1;34m(self, key)\u001B[0m\n\u001B[0;32m   3807\u001B[0m     \u001B[38;5;28;01mif\u001B[39;00m \u001B[38;5;28misinstance\u001B[39m(casted_key, \u001B[38;5;28mslice\u001B[39m) \u001B[38;5;129;01mor\u001B[39;00m (\n\u001B[0;32m   3808\u001B[0m         \u001B[38;5;28misinstance\u001B[39m(casted_key, abc\u001B[38;5;241m.\u001B[39mIterable)\n\u001B[0;32m   3809\u001B[0m         \u001B[38;5;129;01mand\u001B[39;00m \u001B[38;5;28many\u001B[39m(\u001B[38;5;28misinstance\u001B[39m(x, \u001B[38;5;28mslice\u001B[39m) \u001B[38;5;28;01mfor\u001B[39;00m x \u001B[38;5;129;01min\u001B[39;00m casted_key)\n\u001B[0;32m   3810\u001B[0m     ):\n\u001B[0;32m   3811\u001B[0m         \u001B[38;5;28;01mraise\u001B[39;00m InvalidIndexError(key)\n\u001B[1;32m-> 3812\u001B[0m     \u001B[38;5;28;01mraise\u001B[39;00m \u001B[38;5;167;01mKeyError\u001B[39;00m(key) \u001B[38;5;28;01mfrom\u001B[39;00m \u001B[38;5;21;01merr\u001B[39;00m\n\u001B[0;32m   3813\u001B[0m \u001B[38;5;28;01mexcept\u001B[39;00m \u001B[38;5;167;01mTypeError\u001B[39;00m:\n\u001B[0;32m   3814\u001B[0m     \u001B[38;5;66;03m# If we have a listlike key, _check_indexing_error will raise\u001B[39;00m\n\u001B[0;32m   3815\u001B[0m     \u001B[38;5;66;03m#  InvalidIndexError. Otherwise we fall through and re-raise\u001B[39;00m\n\u001B[0;32m   3816\u001B[0m     \u001B[38;5;66;03m#  the TypeError.\u001B[39;00m\n\u001B[0;32m   3817\u001B[0m     \u001B[38;5;28mself\u001B[39m\u001B[38;5;241m.\u001B[39m_check_indexing_error(key)\n",
      "\u001B[1;31mKeyError\u001B[0m: 'demència'"
     ]
    }
   ],
   "execution_count": 28
  },
  {
   "metadata": {
    "ExecuteTime": {
     "end_time": "2024-04-19T12:37:53.340126Z",
     "start_time": "2024-04-19T12:37:53.289647Z"
    }
   },
   "cell_type": "code",
   "source": [
    "stat, p_value_23 = mannwhitneyu(CON_PA_MECVV['demència'], SIN_PA['demència'], alternative='two-sided')\n",
    "print(\"P-valor entre CON_PA_MECVV i SIN_PA\", p_value_23)"
   ],
   "id": "a1baf61cd15f22ec",
   "outputs": [
    {
     "ename": "KeyError",
     "evalue": "'demència'",
     "output_type": "error",
     "traceback": [
      "\u001B[1;31m---------------------------------------------------------------------------\u001B[0m",
      "\u001B[1;31mKeyError\u001B[0m                                  Traceback (most recent call last)",
      "File \u001B[1;32m~\\PycharmProjects\\practicum\\.venv\\Lib\\site-packages\\pandas\\core\\indexes\\base.py:3805\u001B[0m, in \u001B[0;36mIndex.get_loc\u001B[1;34m(self, key)\u001B[0m\n\u001B[0;32m   3804\u001B[0m \u001B[38;5;28;01mtry\u001B[39;00m:\n\u001B[1;32m-> 3805\u001B[0m     \u001B[38;5;28;01mreturn\u001B[39;00m \u001B[38;5;28;43mself\u001B[39;49m\u001B[38;5;241;43m.\u001B[39;49m\u001B[43m_engine\u001B[49m\u001B[38;5;241;43m.\u001B[39;49m\u001B[43mget_loc\u001B[49m\u001B[43m(\u001B[49m\u001B[43mcasted_key\u001B[49m\u001B[43m)\u001B[49m\n\u001B[0;32m   3806\u001B[0m \u001B[38;5;28;01mexcept\u001B[39;00m \u001B[38;5;167;01mKeyError\u001B[39;00m \u001B[38;5;28;01mas\u001B[39;00m err:\n",
      "File \u001B[1;32mindex.pyx:167\u001B[0m, in \u001B[0;36mpandas._libs.index.IndexEngine.get_loc\u001B[1;34m()\u001B[0m\n",
      "File \u001B[1;32mindex.pyx:196\u001B[0m, in \u001B[0;36mpandas._libs.index.IndexEngine.get_loc\u001B[1;34m()\u001B[0m\n",
      "File \u001B[1;32mpandas\\\\_libs\\\\hashtable_class_helper.pxi:7081\u001B[0m, in \u001B[0;36mpandas._libs.hashtable.PyObjectHashTable.get_item\u001B[1;34m()\u001B[0m\n",
      "File \u001B[1;32mpandas\\\\_libs\\\\hashtable_class_helper.pxi:7089\u001B[0m, in \u001B[0;36mpandas._libs.hashtable.PyObjectHashTable.get_item\u001B[1;34m()\u001B[0m\n",
      "\u001B[1;31mKeyError\u001B[0m: 'demència'",
      "\nThe above exception was the direct cause of the following exception:\n",
      "\u001B[1;31mKeyError\u001B[0m                                  Traceback (most recent call last)",
      "Cell \u001B[1;32mIn[29], line 1\u001B[0m\n\u001B[1;32m----> 1\u001B[0m stat, p_value_23 \u001B[38;5;241m=\u001B[39m mannwhitneyu(\u001B[43mCON_PA_MECVV\u001B[49m\u001B[43m[\u001B[49m\u001B[38;5;124;43m'\u001B[39;49m\u001B[38;5;124;43mdemència\u001B[39;49m\u001B[38;5;124;43m'\u001B[39;49m\u001B[43m]\u001B[49m, SIN_PA[\u001B[38;5;124m'\u001B[39m\u001B[38;5;124mdemència\u001B[39m\u001B[38;5;124m'\u001B[39m], alternative\u001B[38;5;241m=\u001B[39m\u001B[38;5;124m'\u001B[39m\u001B[38;5;124mtwo-sided\u001B[39m\u001B[38;5;124m'\u001B[39m)\n\u001B[0;32m      2\u001B[0m \u001B[38;5;28mprint\u001B[39m(\u001B[38;5;124m\"\u001B[39m\u001B[38;5;124mP-valor entre CON_PA_MECVV i SIN_PA\u001B[39m\u001B[38;5;124m\"\u001B[39m, p_value_23)\n",
      "File \u001B[1;32m~\\PycharmProjects\\practicum\\.venv\\Lib\\site-packages\\pandas\\core\\frame.py:4090\u001B[0m, in \u001B[0;36mDataFrame.__getitem__\u001B[1;34m(self, key)\u001B[0m\n\u001B[0;32m   4088\u001B[0m \u001B[38;5;28;01mif\u001B[39;00m \u001B[38;5;28mself\u001B[39m\u001B[38;5;241m.\u001B[39mcolumns\u001B[38;5;241m.\u001B[39mnlevels \u001B[38;5;241m>\u001B[39m \u001B[38;5;241m1\u001B[39m:\n\u001B[0;32m   4089\u001B[0m     \u001B[38;5;28;01mreturn\u001B[39;00m \u001B[38;5;28mself\u001B[39m\u001B[38;5;241m.\u001B[39m_getitem_multilevel(key)\n\u001B[1;32m-> 4090\u001B[0m indexer \u001B[38;5;241m=\u001B[39m \u001B[38;5;28;43mself\u001B[39;49m\u001B[38;5;241;43m.\u001B[39;49m\u001B[43mcolumns\u001B[49m\u001B[38;5;241;43m.\u001B[39;49m\u001B[43mget_loc\u001B[49m\u001B[43m(\u001B[49m\u001B[43mkey\u001B[49m\u001B[43m)\u001B[49m\n\u001B[0;32m   4091\u001B[0m \u001B[38;5;28;01mif\u001B[39;00m is_integer(indexer):\n\u001B[0;32m   4092\u001B[0m     indexer \u001B[38;5;241m=\u001B[39m [indexer]\n",
      "File \u001B[1;32m~\\PycharmProjects\\practicum\\.venv\\Lib\\site-packages\\pandas\\core\\indexes\\base.py:3812\u001B[0m, in \u001B[0;36mIndex.get_loc\u001B[1;34m(self, key)\u001B[0m\n\u001B[0;32m   3807\u001B[0m     \u001B[38;5;28;01mif\u001B[39;00m \u001B[38;5;28misinstance\u001B[39m(casted_key, \u001B[38;5;28mslice\u001B[39m) \u001B[38;5;129;01mor\u001B[39;00m (\n\u001B[0;32m   3808\u001B[0m         \u001B[38;5;28misinstance\u001B[39m(casted_key, abc\u001B[38;5;241m.\u001B[39mIterable)\n\u001B[0;32m   3809\u001B[0m         \u001B[38;5;129;01mand\u001B[39;00m \u001B[38;5;28many\u001B[39m(\u001B[38;5;28misinstance\u001B[39m(x, \u001B[38;5;28mslice\u001B[39m) \u001B[38;5;28;01mfor\u001B[39;00m x \u001B[38;5;129;01min\u001B[39;00m casted_key)\n\u001B[0;32m   3810\u001B[0m     ):\n\u001B[0;32m   3811\u001B[0m         \u001B[38;5;28;01mraise\u001B[39;00m InvalidIndexError(key)\n\u001B[1;32m-> 3812\u001B[0m     \u001B[38;5;28;01mraise\u001B[39;00m \u001B[38;5;167;01mKeyError\u001B[39;00m(key) \u001B[38;5;28;01mfrom\u001B[39;00m \u001B[38;5;21;01merr\u001B[39;00m\n\u001B[0;32m   3813\u001B[0m \u001B[38;5;28;01mexcept\u001B[39;00m \u001B[38;5;167;01mTypeError\u001B[39;00m:\n\u001B[0;32m   3814\u001B[0m     \u001B[38;5;66;03m# If we have a listlike key, _check_indexing_error will raise\u001B[39;00m\n\u001B[0;32m   3815\u001B[0m     \u001B[38;5;66;03m#  InvalidIndexError. Otherwise we fall through and re-raise\u001B[39;00m\n\u001B[0;32m   3816\u001B[0m     \u001B[38;5;66;03m#  the TypeError.\u001B[39;00m\n\u001B[0;32m   3817\u001B[0m     \u001B[38;5;28mself\u001B[39m\u001B[38;5;241m.\u001B[39m_check_indexing_error(key)\n",
      "\u001B[1;31mKeyError\u001B[0m: 'demència'"
     ]
    }
   ],
   "execution_count": 29
  },
  {
   "metadata": {},
   "cell_type": "markdown",
   "source": "## Síndrome depressiu",
   "id": "ea9bb083b2c8413e"
  },
  {
   "metadata": {
    "ExecuteTime": {
     "end_time": "2024-04-19T12:37:53.599318Z",
     "start_time": "2024-04-19T12:37:53.595042Z"
    }
   },
   "cell_type": "code",
   "source": [
    "depre_CON_PA= (CON_PA['sindrome_depresivo'] == 1.0).mean() * 100\n",
    "print(f\"Percentatge de síndrome depressiu: {depre_CON_PA:.2f}%\")"
   ],
   "id": "5e6af44aba2e2219",
   "outputs": [
    {
     "name": "stdout",
     "output_type": "stream",
     "text": [
      "Percentatge de síndrome depressiu: 23.53%\n"
     ]
    }
   ],
   "execution_count": 30
  },
  {
   "metadata": {
    "ExecuteTime": {
     "end_time": "2024-04-19T12:37:53.754607Z",
     "start_time": "2024-04-19T12:37:53.749894Z"
    }
   },
   "cell_type": "code",
   "source": [
    "depre_CON_PA_MECVV= (CON_PA_MECVV['sindrome_depresivo'] == 1.0).mean() * 100\n",
    "print(f\"Percentatge de síndrome depressiu: {depre_CON_PA_MECVV:.2f}%\")"
   ],
   "id": "6f73b773854e8aac",
   "outputs": [
    {
     "name": "stdout",
     "output_type": "stream",
     "text": [
      "Percentatge de síndrome depressiu: 0.00%\n"
     ]
    }
   ],
   "execution_count": 31
  },
  {
   "metadata": {
    "ExecuteTime": {
     "end_time": "2024-04-19T12:37:54.075740Z",
     "start_time": "2024-04-19T12:37:54.067064Z"
    }
   },
   "cell_type": "code",
   "source": [
    "depre_SIN_PA= (SIN_PA['sindrome_depresivo'] == 1.0).mean() * 100\n",
    "print(f\"Percentatge de síndrome depressiu: {depre_SIN_PA:.2f}%\")"
   ],
   "id": "ed67fa6c2850b5d7",
   "outputs": [
    {
     "name": "stdout",
     "output_type": "stream",
     "text": [
      "Percentatge de síndrome depressiu: 14.29%\n"
     ]
    }
   ],
   "execution_count": 32
  },
  {
   "metadata": {},
   "cell_type": "markdown",
   "source": "#### Pvalor",
   "id": "77048791dbe5c0af"
  },
  {
   "metadata": {},
   "cell_type": "markdown",
   "source": "##### Normalitat",
   "id": "7ae02047e3559f07"
  },
  {
   "metadata": {
    "ExecuteTime": {
     "end_time": "2024-04-19T12:37:54.216222Z",
     "start_time": "2024-04-19T12:37:54.209327Z"
    }
   },
   "cell_type": "code",
   "source": [
    "stat, p_value = shapiro(CON_PA['sindrome_depresivo'])\n",
    "print(f\"Estadístic W = {stat:.4f}\")\n",
    "print(f\"Valor p = {p_value:.4f}\")\n",
    "\n",
    "alpha = 0.05\n",
    "if p_value < alpha:\n",
    "    print(\"El nombre de files no segueix una distribució normal.\")\n",
    "else:\n",
    "    print(\"El nombre de files segueix una distribució normal\")"
   ],
   "id": "eef5277fe8e65edf",
   "outputs": [
    {
     "name": "stdout",
     "output_type": "stream",
     "text": [
      "Estadístic W = 0.5327\n",
      "Valor p = 0.0000\n",
      "El nombre de files no segueix una distribució normal.\n"
     ]
    }
   ],
   "execution_count": 33
  },
  {
   "metadata": {
    "ExecuteTime": {
     "end_time": "2024-04-19T12:37:54.477629Z",
     "start_time": "2024-04-19T12:37:54.471367Z"
    }
   },
   "cell_type": "code",
   "source": [
    "stat, p_value = shapiro(CON_PA_MECVV['sindrome_depresivo'])\n",
    "print(f\"Estadístic W = {stat:.4f}\")\n",
    "print(f\"Valor p = {p_value:.4f}\")\n",
    "\n",
    "alpha = 0.05\n",
    "if p_value < alpha:\n",
    "    print(\"El nombre de files no segueix una distribució normal.\")\n",
    "else:\n",
    "    print(\"El nombre de files segueix una distribució normal\")"
   ],
   "id": "a0665c4b7b02c414",
   "outputs": [
    {
     "name": "stdout",
     "output_type": "stream",
     "text": [
      "Estadístic W = 1.0000\n",
      "Valor p = 1.0000\n",
      "El nombre de files segueix una distribució normal\n"
     ]
    }
   ],
   "execution_count": 34
  },
  {
   "metadata": {
    "ExecuteTime": {
     "end_time": "2024-04-19T12:37:54.660343Z",
     "start_time": "2024-04-19T12:37:54.655279Z"
    }
   },
   "cell_type": "code",
   "source": [
    "stat, p_value = shapiro(SIN_PA['sindrome_depresivo'])\n",
    "print(f\"Estadístic W = {stat:.4f}\")\n",
    "print(f\"Valor p = {p_value:.4f}\")\n",
    "\n",
    "alpha = 0.05\n",
    "if p_value < alpha:\n",
    "    print(\"El nombre de files no segueix una distribució normal.\")\n",
    "else:\n",
    "    print(\"El nombre de files segueix una distribució normal\")"
   ],
   "id": "1efdd4f2ccc72046",
   "outputs": [
    {
     "name": "stdout",
     "output_type": "stream",
     "text": [
      "Estadístic W = 0.4168\n",
      "Valor p = 0.0000\n",
      "El nombre de files no segueix una distribució normal.\n"
     ]
    }
   ],
   "execution_count": 35
  },
  {
   "metadata": {
    "ExecuteTime": {
     "end_time": "2024-04-19T12:37:54.897285Z",
     "start_time": "2024-04-19T12:37:54.892033Z"
    }
   },
   "cell_type": "code",
   "source": [
    "stat, p_value_12 = mannwhitneyu(CON_PA['sindrome_depresivo'], CON_PA_MECVV['sindrome_depresivo'], alternative='two-sided')\n",
    "print(\"P-valor entre CON_PA i CON_PA_MECVV\", p_value_12)"
   ],
   "id": "7adb8a77607c2030",
   "outputs": [
    {
     "name": "stdout",
     "output_type": "stream",
     "text": [
      "P-valor entre CON_PA i CON_PA_MECVV 0.11180527770715322\n"
     ]
    }
   ],
   "execution_count": 36
  },
  {
   "metadata": {
    "ExecuteTime": {
     "end_time": "2024-04-19T12:37:55.066082Z",
     "start_time": "2024-04-19T12:37:55.059276Z"
    }
   },
   "cell_type": "code",
   "source": [
    "stat, p_value_13 = mannwhitneyu(CON_PA['sindrome_depresivo'], SIN_PA['sindrome_depresivo'], alternative='two-sided')\n",
    "print(\"P-valor entre CON_PA i SIN_PA\", p_value_13)"
   ],
   "id": "e47e376705cfa86",
   "outputs": [
    {
     "name": "stdout",
     "output_type": "stream",
     "text": [
      "P-valor entre CON_PA i SIN_PA 0.3880726918610017\n"
     ]
    }
   ],
   "execution_count": 37
  },
  {
   "metadata": {
    "ExecuteTime": {
     "end_time": "2024-04-19T12:37:55.360573Z",
     "start_time": "2024-04-19T12:37:55.353957Z"
    }
   },
   "cell_type": "code",
   "source": [
    "stat, p_value_23 = mannwhitneyu(CON_PA_MECVV['sindrome_depresivo'], SIN_PA['sindrome_depresivo'], alternative='two-sided')\n",
    "print(\"P-valor entre CON_PA_MECVV i SIN_PA\", p_value_23)"
   ],
   "id": "fef192746e282f69",
   "outputs": [
    {
     "name": "stdout",
     "output_type": "stream",
     "text": [
      "P-valor entre CON_PA_MECVV i SIN_PA 0.21340049774345338\n"
     ]
    }
   ],
   "execution_count": 38
  },
  {
   "metadata": {},
   "cell_type": "markdown",
   "source": "## Incontinència urinària",
   "id": "e692abea2c5a0bcf"
  },
  {
   "metadata": {
    "ExecuteTime": {
     "end_time": "2024-04-19T12:37:55.489771Z",
     "start_time": "2024-04-19T12:37:55.484605Z"
    }
   },
   "cell_type": "code",
   "source": [
    "ic_CON_PA= (CON_PA['incont_uri'] == 1.0).mean() * 100\n",
    "print(f\"Percentatge de incontinència urinària: {ic_CON_PA:.2f}%\")"
   ],
   "id": "a10c39264fda8a45",
   "outputs": [
    {
     "name": "stdout",
     "output_type": "stream",
     "text": [
      "Percentatge de incontinència urinària: 29.41%\n"
     ]
    }
   ],
   "execution_count": 39
  },
  {
   "metadata": {
    "ExecuteTime": {
     "end_time": "2024-04-19T12:37:55.759596Z",
     "start_time": "2024-04-19T12:37:55.754786Z"
    }
   },
   "cell_type": "code",
   "source": [
    "ic_CON_PA_MECVV= (CON_PA_MECVV['incont_uri'] == 1.0).mean() * 100\n",
    "print(f\"Percentatge de incontinència urinària: {ic_CON_PA_MECVV:.2f}%\")"
   ],
   "id": "626e726f57f8e3aa",
   "outputs": [
    {
     "name": "stdout",
     "output_type": "stream",
     "text": [
      "Percentatge de incontinència urinària: 30.00%\n"
     ]
    }
   ],
   "execution_count": 40
  },
  {
   "metadata": {
    "ExecuteTime": {
     "end_time": "2024-04-19T12:37:55.930342Z",
     "start_time": "2024-04-19T12:37:55.925137Z"
    }
   },
   "cell_type": "code",
   "source": [
    "ic_SIN_PA= (SIN_PA['incont_uri'] == 1.0).mean() * 100\n",
    "print(f\"Percentatge de incontinència urinària: {ic_SIN_PA:.2f}%\")"
   ],
   "id": "2a4a3c62612b058c",
   "outputs": [
    {
     "name": "stdout",
     "output_type": "stream",
     "text": [
      "Percentatge de incontinència urinària: 14.29%\n"
     ]
    }
   ],
   "execution_count": 41
  },
  {
   "metadata": {},
   "cell_type": "markdown",
   "source": "#### Pvalor",
   "id": "f3d48cd438ce1485"
  },
  {
   "metadata": {},
   "cell_type": "markdown",
   "source": "##### Normalitat",
   "id": "8a88da3553a72086"
  },
  {
   "metadata": {
    "ExecuteTime": {
     "end_time": "2024-04-19T12:37:56.160807Z",
     "start_time": "2024-04-19T12:37:56.154590Z"
    }
   },
   "cell_type": "code",
   "source": [
    "stat, p_value = shapiro(CON_PA['incont_uri'])\n",
    "print(f\"Estadístic W = {stat:.4f}\")\n",
    "print(f\"Valor p = {p_value:.4f}\")\n",
    "\n",
    "alpha = 0.05\n",
    "if p_value < alpha:\n",
    "    print(\"El nombre de files no segueix una distribució normal.\")\n",
    "else:\n",
    "    print(\"El nombre de files segueix una distribució normal\")"
   ],
   "id": "2cf0004f848a0a3d",
   "outputs": [
    {
     "name": "stdout",
     "output_type": "stream",
     "text": [
      "Estadístic W = 0.5785\n",
      "Valor p = 0.0000\n",
      "El nombre de files no segueix una distribució normal.\n"
     ]
    }
   ],
   "execution_count": 42
  },
  {
   "metadata": {
    "ExecuteTime": {
     "end_time": "2024-04-19T12:37:56.304456Z",
     "start_time": "2024-04-19T12:37:56.298033Z"
    }
   },
   "cell_type": "code",
   "source": [
    "stat, p_value = shapiro(CON_PA_MECVV['incont_uri'])\n",
    "print(f\"Estadístic W = {stat:.4f}\")\n",
    "print(f\"Valor p = {p_value:.4f}\")\n",
    "\n",
    "alpha = 0.05\n",
    "if p_value < alpha:\n",
    "    print(\"El nombre de files no segueix una distribució normal.\")\n",
    "else:\n",
    "    print(\"El nombre de files segueix una distribució normal\")"
   ],
   "id": "2615ad7db3f0c1ea",
   "outputs": [
    {
     "name": "stdout",
     "output_type": "stream",
     "text": [
      "Estadístic W = 0.5942\n",
      "Valor p = 0.0000\n",
      "El nombre de files no segueix una distribució normal.\n"
     ]
    }
   ],
   "execution_count": 43
  },
  {
   "metadata": {
    "ExecuteTime": {
     "end_time": "2024-04-19T12:37:56.612737Z",
     "start_time": "2024-04-19T12:37:56.607184Z"
    }
   },
   "cell_type": "code",
   "source": [
    "stat, p_value = shapiro(SIN_PA['incont_uri'])\n",
    "print(f\"Estadístic W = {stat:.4f}\")\n",
    "print(f\"Valor p = {p_value:.4f}\")\n",
    "\n",
    "alpha = 0.05\n",
    "if p_value < alpha:\n",
    "    print(\"El nombre de files no segueix una distribució normal.\")\n",
    "else:\n",
    "    print(\"El nombre de files segueix una distribució normal\")"
   ],
   "id": "1bb13adec047e9a0",
   "outputs": [
    {
     "name": "stdout",
     "output_type": "stream",
     "text": [
      "Estadístic W = 0.4168\n",
      "Valor p = 0.0000\n",
      "El nombre de files no segueix una distribució normal.\n"
     ]
    }
   ],
   "execution_count": 44
  },
  {
   "metadata": {
    "ExecuteTime": {
     "end_time": "2024-04-19T12:37:56.758078Z",
     "start_time": "2024-04-19T12:37:56.751037Z"
    }
   },
   "cell_type": "code",
   "source": [
    "stat, p_value_12 = mannwhitneyu(CON_PA['incont_uri'], CON_PA_MECVV['incont_uri'], alternative='two-sided')\n",
    "print(\"P-valor entre CON_PA i CON_PA_MECVV\", p_value_12)"
   ],
   "id": "65960e4e13cab2cb",
   "outputs": [
    {
     "name": "stdout",
     "output_type": "stream",
     "text": [
      "P-valor entre CON_PA i CON_PA_MECVV 1.0\n"
     ]
    }
   ],
   "execution_count": 45
  },
  {
   "metadata": {
    "ExecuteTime": {
     "end_time": "2024-04-19T12:37:57.087027Z",
     "start_time": "2024-04-19T12:37:57.079854Z"
    }
   },
   "cell_type": "code",
   "source": [
    "stat, p_value_13 = mannwhitneyu(CON_PA['incont_uri'], SIN_PA['incont_uri'], alternative='two-sided')\n",
    "print(\"P-valor entre CON_PA i SIN_PA\", p_value_13)"
   ],
   "id": "5ae80fc41bf7cab2",
   "outputs": [
    {
     "name": "stdout",
     "output_type": "stream",
     "text": [
      "P-valor entre CON_PA i SIN_PA 0.17015925929193942\n"
     ]
    }
   ],
   "execution_count": 46
  },
  {
   "metadata": {
    "ExecuteTime": {
     "end_time": "2024-04-19T12:37:57.246571Z",
     "start_time": "2024-04-19T12:37:57.240048Z"
    }
   },
   "cell_type": "code",
   "source": [
    "stat, p_value_23 = mannwhitneyu(CON_PA_MECVV['incont_uri'], SIN_PA['incont_uri'], alternative='two-sided')\n",
    "print(\"P-valor entre CON_PA_MECVV i SIN_PA\", p_value_23)"
   ],
   "id": "7d19627ed95c9830",
   "outputs": [
    {
     "name": "stdout",
     "output_type": "stream",
     "text": [
      "P-valor entre CON_PA_MECVV i SIN_PA 0.237514563226218\n"
     ]
    }
   ],
   "execution_count": 47
  },
  {
   "metadata": {},
   "cell_type": "markdown",
   "source": "## Incontinència fecal ",
   "id": "ef750cb6e374d153"
  },
  {
   "metadata": {
    "ExecuteTime": {
     "end_time": "2024-04-19T12:37:57.486606Z",
     "start_time": "2024-04-19T12:37:57.481325Z"
    }
   },
   "cell_type": "code",
   "source": [
    "ifec_CON_PA= (CON_PA['incont_fec'] == 1.0).mean() * 100\n",
    "print(f\"Percentatge de incontinència fecal: {ifec_CON_PA:.2f}%\")"
   ],
   "id": "f200aaa97ddfb132",
   "outputs": [
    {
     "name": "stdout",
     "output_type": "stream",
     "text": [
      "Percentatge de incontinència fecal: 29.41%\n"
     ]
    }
   ],
   "execution_count": 48
  },
  {
   "metadata": {
    "ExecuteTime": {
     "end_time": "2024-04-19T12:37:57.673538Z",
     "start_time": "2024-04-19T12:37:57.667857Z"
    }
   },
   "cell_type": "code",
   "source": [
    "ifec_CON_PA_MECVV= (CON_PA_MECVV['incont_fec'] == 1.0).mean() * 100\n",
    "print(f\"Percentatge de incontinència fecal: {ifec_CON_PA_MECVV:.2f}%\")"
   ],
   "id": "508afd800ecbb722",
   "outputs": [
    {
     "name": "stdout",
     "output_type": "stream",
     "text": [
      "Percentatge de incontinència fecal: 10.00%\n"
     ]
    }
   ],
   "execution_count": 49
  },
  {
   "metadata": {
    "ExecuteTime": {
     "end_time": "2024-04-19T12:37:57.927362Z",
     "start_time": "2024-04-19T12:37:57.922558Z"
    }
   },
   "cell_type": "code",
   "source": [
    "ifec_SIN_PA= (SIN_PA['incont_fec'] == 1.0).mean() * 100\n",
    "print(f\"Percentatge de incontinència fecal: {ifec_SIN_PA:.2f}%\")"
   ],
   "id": "e7d0045ab7ee995b",
   "outputs": [
    {
     "name": "stdout",
     "output_type": "stream",
     "text": [
      "Percentatge de incontinència fecal: 12.24%\n"
     ]
    }
   ],
   "execution_count": 50
  },
  {
   "metadata": {},
   "cell_type": "markdown",
   "source": "#### Pvalor",
   "id": "f57e9c2b1011455f"
  },
  {
   "metadata": {},
   "cell_type": "markdown",
   "source": "##### Normalitat",
   "id": "a09c93982467480a"
  },
  {
   "metadata": {
    "ExecuteTime": {
     "end_time": "2024-04-19T12:37:58.088199Z",
     "start_time": "2024-04-19T12:37:58.081489Z"
    }
   },
   "cell_type": "code",
   "source": [
    "stat, p_value = shapiro(CON_PA['incont_fec'])\n",
    "print(f\"Estadístic W = {stat:.4f}\")\n",
    "print(f\"Valor p = {p_value:.4f}\")\n",
    "\n",
    "alpha = 0.05\n",
    "if p_value < alpha:\n",
    "    print(\"El nombre de files no segueix una distribució normal.\")\n",
    "else:\n",
    "    print(\"El nombre de files segueix una distribució normal\")"
   ],
   "id": "fe0a97831b34aa2b",
   "outputs": [
    {
     "name": "stdout",
     "output_type": "stream",
     "text": [
      "Estadístic W = 0.5785\n",
      "Valor p = 0.0000\n",
      "El nombre de files no segueix una distribució normal.\n"
     ]
    }
   ],
   "execution_count": 51
  },
  {
   "metadata": {
    "ExecuteTime": {
     "end_time": "2024-04-19T12:37:58.377082Z",
     "start_time": "2024-04-19T12:37:58.371665Z"
    }
   },
   "cell_type": "code",
   "source": [
    "stat, p_value = shapiro(CON_PA_MECVV['incont_fec'])\n",
    "print(f\"Estadístic W = {stat:.4f}\")\n",
    "print(f\"Valor p = {p_value:.4f}\")\n",
    "\n",
    "alpha = 0.05\n",
    "if p_value < alpha:\n",
    "    print(\"El nombre de files no segueix una distribució normal.\")\n",
    "else:\n",
    "    print(\"El nombre de files segueix una distribució normal\")"
   ],
   "id": "514cf02fbf65b3d2",
   "outputs": [
    {
     "name": "stdout",
     "output_type": "stream",
     "text": [
      "Estadístic W = 0.3657\n",
      "Valor p = 0.0000\n",
      "El nombre de files no segueix una distribució normal.\n"
     ]
    }
   ],
   "execution_count": 52
  },
  {
   "metadata": {
    "ExecuteTime": {
     "end_time": "2024-04-19T12:37:58.545952Z",
     "start_time": "2024-04-19T12:37:58.540307Z"
    }
   },
   "cell_type": "code",
   "source": [
    "stat, p_value = shapiro(SIN_PA['incont_fec'])\n",
    "print(f\"Estadístic W = {stat:.4f}\")\n",
    "print(f\"Valor p = {p_value:.4f}\")\n",
    "\n",
    "alpha = 0.05\n",
    "if p_value < alpha:\n",
    "    print(\"El nombre de files no segueix una distribució normal.\")\n",
    "else:\n",
    "    print(\"El nombre de files segueix una distribució normal\")"
   ],
   "id": "292234fc524f36f",
   "outputs": [
    {
     "name": "stdout",
     "output_type": "stream",
     "text": [
      "Estadístic W = 0.3844\n",
      "Valor p = 0.0000\n",
      "El nombre de files no segueix una distribució normal.\n"
     ]
    }
   ],
   "execution_count": 53
  },
  {
   "metadata": {
    "ExecuteTime": {
     "end_time": "2024-04-19T12:37:58.762435Z",
     "start_time": "2024-04-19T12:37:58.756645Z"
    }
   },
   "cell_type": "code",
   "source": [
    "stat, p_value_12 = mannwhitneyu(CON_PA['incont_fec'], CON_PA_MECVV['incont_fec'], alternative='two-sided')\n",
    "print(\"P-valor entre CON_PA i CON_PA_MECVV\", p_value_12)"
   ],
   "id": "a06cd69ec62e5411",
   "outputs": [
    {
     "name": "stdout",
     "output_type": "stream",
     "text": [
      "P-valor entre CON_PA i CON_PA_MECVV 0.2649031747093591\n"
     ]
    }
   ],
   "execution_count": 54
  },
  {
   "metadata": {
    "ExecuteTime": {
     "end_time": "2024-04-19T12:37:58.947134Z",
     "start_time": "2024-04-19T12:37:58.941210Z"
    }
   },
   "cell_type": "code",
   "source": [
    "stat, p_value_13 = mannwhitneyu(CON_PA['incont_fec'], SIN_PA['incont_fec'], alternative='two-sided')\n",
    "print(\"P-valor entre CON_PA i SIN_PA\", p_value_13)"
   ],
   "id": "864ff584027489f6",
   "outputs": [
    {
     "name": "stdout",
     "output_type": "stream",
     "text": [
      "P-valor entre CON_PA i SIN_PA 0.10681676423525503\n"
     ]
    }
   ],
   "execution_count": 55
  },
  {
   "metadata": {
    "ExecuteTime": {
     "end_time": "2024-04-19T12:37:59.263414Z",
     "start_time": "2024-04-19T12:37:59.256968Z"
    }
   },
   "cell_type": "code",
   "source": [
    "stat, p_value_23 = mannwhitneyu(CON_PA_MECVV['incont_fec'], SIN_PA['incont_fec'], alternative='two-sided')\n",
    "print(\"P-valor entre CON_PA_MECVV i SIN_PA\", p_value_23)"
   ],
   "id": "2a73a088a4149351",
   "outputs": [
    {
     "name": "stdout",
     "output_type": "stream",
     "text": [
      "P-valor entre CON_PA_MECVV i SIN_PA 0.8568943909879498\n"
     ]
    }
   ],
   "execution_count": 56
  },
  {
   "metadata": {},
   "cell_type": "markdown",
   "source": "## Úlceres de pressió",
   "id": "65897a5e1d05b6b6"
  },
  {
   "metadata": {
    "ExecuteTime": {
     "end_time": "2024-04-19T12:37:59.419264Z",
     "start_time": "2024-04-19T12:37:59.411186Z"
    }
   },
   "cell_type": "code",
   "source": [
    "up_CON_PA= (CON_PA['ulceras_presion'] == 1.0).mean() * 100\n",
    "print(f\"Percentatge de úlceres de pressió: {up_CON_PA:.2f}%\")"
   ],
   "id": "bcd7bdbcf538274a",
   "outputs": [
    {
     "name": "stdout",
     "output_type": "stream",
     "text": [
      "Percentatge de úlceres de pressió: 5.88%\n"
     ]
    }
   ],
   "execution_count": 57
  },
  {
   "metadata": {
    "ExecuteTime": {
     "end_time": "2024-04-19T12:37:59.686989Z",
     "start_time": "2024-04-19T12:37:59.680293Z"
    }
   },
   "cell_type": "code",
   "source": [
    "up_CON_PA_MECVV= (CON_PA_MECVV['ulceras_presion'] == 1.0).mean() * 100\n",
    "print(f\"Percentatge de úlceres de pressió: {up_CON_PA_MECVV:.2f}%\")"
   ],
   "id": "60a8a4eb517c269e",
   "outputs": [
    {
     "name": "stdout",
     "output_type": "stream",
     "text": [
      "Percentatge de úlceres de pressió: 0.00%\n"
     ]
    }
   ],
   "execution_count": 58
  },
  {
   "metadata": {
    "ExecuteTime": {
     "end_time": "2024-04-19T12:37:59.837268Z",
     "start_time": "2024-04-19T12:37:59.831955Z"
    }
   },
   "cell_type": "code",
   "source": [
    "up_SIN_PA= (SIN_PA['ulceras_presion'] == 1.0).mean() * 100\n",
    "print(f\"Percentatge de úlceres de pressió: {up_SIN_PA:.2f}%\")"
   ],
   "id": "4f223a88742c194a",
   "outputs": [
    {
     "name": "stdout",
     "output_type": "stream",
     "text": [
      "Percentatge de úlceres de pressió: 2.04%\n"
     ]
    }
   ],
   "execution_count": 59
  },
  {
   "metadata": {},
   "cell_type": "markdown",
   "source": "#### Pvalor",
   "id": "c3fe3f599bce65ef"
  },
  {
   "metadata": {},
   "cell_type": "markdown",
   "source": "##### Normalitat",
   "id": "930dd9949adee28b"
  },
  {
   "metadata": {
    "ExecuteTime": {
     "end_time": "2024-04-19T12:38:00.154334Z",
     "start_time": "2024-04-19T12:38:00.147897Z"
    }
   },
   "cell_type": "code",
   "source": [
    "stat, p_value = shapiro(CON_PA['ulceras_presion'])\n",
    "print(f\"Estadístic W = {stat:.4f}\")\n",
    "print(f\"Valor p = {p_value:.4f}\")\n",
    "\n",
    "alpha = 0.05\n",
    "if p_value < alpha:\n",
    "    print(\"El nombre de files no segueix una distribució normal.\")\n",
    "else:\n",
    "    print(\"El nombre de files segueix una distribució normal\")"
   ],
   "id": "d50787664b68bc94",
   "outputs": [
    {
     "name": "stdout",
     "output_type": "stream",
     "text": [
      "Estadístic W = 0.2622\n",
      "Valor p = 0.0000\n",
      "El nombre de files no segueix una distribució normal.\n"
     ]
    }
   ],
   "execution_count": 60
  },
  {
   "metadata": {
    "ExecuteTime": {
     "end_time": "2024-04-19T12:38:01.378288Z",
     "start_time": "2024-04-19T12:38:01.371780Z"
    }
   },
   "cell_type": "code",
   "source": [
    "stat, p_value = shapiro(CON_PA_MECVV['ulceras_presion'])\n",
    "print(f\"Estadístic W = {stat:.4f}\")\n",
    "print(f\"Valor p = {p_value:.4f}\")\n",
    "\n",
    "alpha = 0.05\n",
    "if p_value < alpha:\n",
    "    print(\"El nombre de files no segueix una distribució normal.\")\n",
    "else:\n",
    "    print(\"El nombre de files segueix una distribució normal\")"
   ],
   "id": "19799093c5abeaea",
   "outputs": [
    {
     "name": "stdout",
     "output_type": "stream",
     "text": [
      "Estadístic W = 1.0000\n",
      "Valor p = 1.0000\n",
      "El nombre de files segueix una distribució normal\n"
     ]
    }
   ],
   "execution_count": 61
  },
  {
   "metadata": {
    "ExecuteTime": {
     "end_time": "2024-04-19T12:38:01.786257Z",
     "start_time": "2024-04-19T12:38:01.778804Z"
    }
   },
   "cell_type": "code",
   "source": [
    "stat, p_value = shapiro(SIN_PA['ulceras_presion'])\n",
    "print(f\"Estadístic W = {stat:.4f}\")\n",
    "print(f\"Valor p = {p_value:.4f}\")\n",
    "\n",
    "alpha = 0.05\n",
    "if p_value < alpha:\n",
    "    print(\"El nombre de files no segueix una distribució normal.\")\n",
    "else:\n",
    "    print(\"El nombre de files segueix una distribució normal\")"
   ],
   "id": "3cca1f862eaa0767",
   "outputs": [
    {
     "name": "stdout",
     "output_type": "stream",
     "text": [
      "Estadístic W = 0.1273\n",
      "Valor p = 0.0000\n",
      "El nombre de files no segueix una distribució normal.\n"
     ]
    }
   ],
   "execution_count": 62
  },
  {
   "metadata": {
    "ExecuteTime": {
     "end_time": "2024-04-19T12:38:01.945985Z",
     "start_time": "2024-04-19T12:38:01.939717Z"
    }
   },
   "cell_type": "code",
   "source": [
    "stat, p_value_12 = mannwhitneyu(CON_PA['ulceras_presion'], CON_PA_MECVV['ulceras_presion'], alternative='two-sided')\n",
    "print(\"P-valor entre CON_PA i CON_PA_MECVV\", p_value_12)"
   ],
   "id": "6293a3abfe3649ba",
   "outputs": [
    {
     "name": "stdout",
     "output_type": "stream",
     "text": [
      "P-valor entre CON_PA i CON_PA_MECVV 0.49002535950179893\n"
     ]
    }
   ],
   "execution_count": 63
  },
  {
   "metadata": {
    "ExecuteTime": {
     "end_time": "2024-04-19T12:38:02.287146Z",
     "start_time": "2024-04-19T12:38:02.280785Z"
    }
   },
   "cell_type": "code",
   "source": [
    "stat, p_value_13 = mannwhitneyu(CON_PA['ulceras_presion'], SIN_PA['ulceras_presion'], alternative='two-sided')\n",
    "print(\"P-valor entre CON_PA i SIN_PA\", p_value_13)"
   ],
   "id": "3ba7e80f539a2cd8",
   "outputs": [
    {
     "name": "stdout",
     "output_type": "stream",
     "text": [
      "P-valor entre CON_PA i SIN_PA 0.4440308448923743\n"
     ]
    }
   ],
   "execution_count": 64
  },
  {
   "metadata": {
    "ExecuteTime": {
     "end_time": "2024-04-19T12:38:02.470162Z",
     "start_time": "2024-04-19T12:38:02.463317Z"
    }
   },
   "cell_type": "code",
   "source": [
    "stat, p_value_23 = mannwhitneyu(CON_PA_MECVV['ulceras_presion'], SIN_PA['ulceras_presion'], alternative='two-sided')\n",
    "print(\"P-valor entre CON_PA_MECVV i SIN_PA\", p_value_23)"
   ],
   "id": "2119f64854a199b9",
   "outputs": [
    {
     "name": "stdout",
     "output_type": "stream",
     "text": [
      "P-valor entre CON_PA_MECVV i SIN_PA 0.6843175494727258\n"
     ]
    }
   ],
   "execution_count": 65
  },
  {
   "metadata": {},
   "cell_type": "markdown",
   "source": "## Immobilitat",
   "id": "9a5af8b151f24d"
  },
  {
   "metadata": {
    "ExecuteTime": {
     "end_time": "2024-04-19T12:38:02.710065Z",
     "start_time": "2024-04-19T12:38:02.707774Z"
    }
   },
   "cell_type": "code",
   "source": "",
   "id": "20403b79d0d107f1",
   "outputs": [],
   "execution_count": 65
  },
  {
   "metadata": {},
   "cell_type": "markdown",
   "source": "## Confusió",
   "id": "8ec2d07541f7c217"
  },
  {
   "metadata": {
    "ExecuteTime": {
     "end_time": "2024-04-19T12:38:02.940276Z",
     "start_time": "2024-04-19T12:38:02.937770Z"
    }
   },
   "cell_type": "code",
   "source": "",
   "id": "c2abcafcb2c060aa",
   "outputs": [],
   "execution_count": 65
  },
  {
   "metadata": {},
   "cell_type": "markdown",
   "source": "## Osteoporosi",
   "id": "61e6ce410e08b94f"
  },
  {
   "metadata": {
    "ExecuteTime": {
     "end_time": "2024-04-19T12:38:03.262115Z",
     "start_time": "2024-04-19T12:38:03.257757Z"
    }
   },
   "cell_type": "code",
   "source": [
    "ost_CON_PA= (CON_PA['osteoporosis'] == 1.0).mean() * 100\n",
    "print(f\"Percentatge de osteoporosi: {ost_CON_PA:.2f}%\")"
   ],
   "id": "8247aa43b86f14e2",
   "outputs": [
    {
     "name": "stdout",
     "output_type": "stream",
     "text": [
      "Percentatge de osteoporosi: 0.00%\n"
     ]
    }
   ],
   "execution_count": 66
  },
  {
   "metadata": {
    "ExecuteTime": {
     "end_time": "2024-04-19T12:38:03.439323Z",
     "start_time": "2024-04-19T12:38:03.428143Z"
    }
   },
   "cell_type": "code",
   "source": [
    "ost_CON_PA_MECVV= (CON_PA_MECVV['osteoporosis'] == 1.0).mean() * 100\n",
    "print(f\"Percentatge de osteoporosi: {ost_CON_PA_MECVV:.2f}%\")"
   ],
   "id": "88c46ee4b5d48d49",
   "outputs": [
    {
     "name": "stdout",
     "output_type": "stream",
     "text": [
      "Percentatge de osteoporosi: 0.00%\n"
     ]
    }
   ],
   "execution_count": 67
  },
  {
   "metadata": {
    "ExecuteTime": {
     "end_time": "2024-04-19T12:38:03.716464Z",
     "start_time": "2024-04-19T12:38:03.706093Z"
    }
   },
   "cell_type": "code",
   "source": [
    "ost_SIN_PA= (SIN_PA['osteoporosis'] == 1.0).mean() * 100\n",
    "print(f\"Percentatge de osteoporosi: {ost_SIN_PA:.2f}%\")"
   ],
   "id": "404e37bc3d19820d",
   "outputs": [
    {
     "name": "stdout",
     "output_type": "stream",
     "text": [
      "Percentatge de osteoporosi: 0.00%\n"
     ]
    }
   ],
   "execution_count": 68
  },
  {
   "metadata": {},
   "cell_type": "markdown",
   "source": "#### Pvalor",
   "id": "2be6f72ad24818dd"
  },
  {
   "metadata": {},
   "cell_type": "markdown",
   "source": "##### Normalitat",
   "id": "465cf19b84b0b450"
  },
  {
   "metadata": {
    "ExecuteTime": {
     "end_time": "2024-04-19T12:38:03.862289Z",
     "start_time": "2024-04-19T12:38:03.856871Z"
    }
   },
   "cell_type": "code",
   "source": [
    "stat, p_value = shapiro(CON_PA['osteoporosis'])\n",
    "print(f\"Estadístic W = {stat:.4f}\")\n",
    "print(f\"Valor p = {p_value:.4f}\")\n",
    "\n",
    "alpha = 0.05\n",
    "if p_value < alpha:\n",
    "    print(\"El nombre de files no segueix una distribució normal.\")\n",
    "else:\n",
    "    print(\"El nombre de files segueix una distribució normal\")"
   ],
   "id": "ef867fa51d21b4e0",
   "outputs": [
    {
     "name": "stdout",
     "output_type": "stream",
     "text": [
      "Estadístic W = 1.0000\n",
      "Valor p = 1.0000\n",
      "El nombre de files segueix una distribució normal\n"
     ]
    }
   ],
   "execution_count": 69
  },
  {
   "metadata": {
    "ExecuteTime": {
     "end_time": "2024-04-19T12:38:04.180400Z",
     "start_time": "2024-04-19T12:38:04.173055Z"
    }
   },
   "cell_type": "code",
   "source": [
    "stat, p_value_12 = mannwhitneyu(CON_PA['osteoporosis'], CON_PA_MECVV['osteoporosis'], alternative='two-sided')\n",
    "print(\"P-valor entre CON_PA i CON_PA_MECVV\", p_value_12)"
   ],
   "id": "8c14505ff3b3c8c8",
   "outputs": [
    {
     "name": "stdout",
     "output_type": "stream",
     "text": [
      "P-valor entre CON_PA i CON_PA_MECVV 1.0\n"
     ]
    }
   ],
   "execution_count": 70
  },
  {
   "metadata": {
    "ExecuteTime": {
     "end_time": "2024-04-19T12:38:04.367986Z",
     "start_time": "2024-04-19T12:38:04.360271Z"
    }
   },
   "cell_type": "code",
   "source": [
    "stat, p_value_12 = ttest_ind(CON_PA['osteoporosis'], CON_PA_MECVV['osteoporosis'], equal_var= False)\n",
    "print(\"P-valor entre CON_PA i CON_PA_MECVV\", p_value_12)"
   ],
   "id": "b5cf3824f0cfce6",
   "outputs": [
    {
     "name": "stdout",
     "output_type": "stream",
     "text": [
      "P-valor entre CON_PA i CON_PA_MECVV nan\n"
     ]
    }
   ],
   "execution_count": 71
  },
  {
   "metadata": {},
   "cell_type": "markdown",
   "source": "## Sarcopènia",
   "id": "35ba4b3163204f8f"
  },
  {
   "metadata": {
    "ExecuteTime": {
     "end_time": "2024-04-19T12:38:04.612560Z",
     "start_time": "2024-04-19T12:38:04.607779Z"
    }
   },
   "cell_type": "code",
   "source": [
    "sarc_CON_PA= (CON_PA['sarcopenia'] == 1.0).mean() * 100\n",
    "print(f\"Percentatge de sarcopènia: {sarc_CON_PA:.2f}%\")"
   ],
   "id": "2dc59c7080dd50bc",
   "outputs": [
    {
     "name": "stdout",
     "output_type": "stream",
     "text": [
      "Percentatge de sarcopènia: 0.00%\n"
     ]
    }
   ],
   "execution_count": 72
  },
  {
   "metadata": {
    "ExecuteTime": {
     "end_time": "2024-04-19T12:38:04.827912Z",
     "start_time": "2024-04-19T12:38:04.821697Z"
    }
   },
   "cell_type": "code",
   "source": [
    "sarc_CON_PA_MECVV= (CON_PA_MECVV['sarcopenia'] == 1.0).mean() * 100\n",
    "print(f\"Percentatge de sarcopènia: {sarc_CON_PA_MECVV:.2f}%\")"
   ],
   "id": "f4cd16f08eac0ddb",
   "outputs": [
    {
     "name": "stdout",
     "output_type": "stream",
     "text": [
      "Percentatge de sarcopènia: 10.00%\n"
     ]
    }
   ],
   "execution_count": 73
  },
  {
   "metadata": {
    "ExecuteTime": {
     "end_time": "2024-04-19T12:38:05.080282Z",
     "start_time": "2024-04-19T12:38:05.072330Z"
    }
   },
   "cell_type": "code",
   "source": [
    "sarc_SIN_PA= (SIN_PA['sarcopenia'] == 1.0).mean() * 100\n",
    "print(f\"Percentatge de sarcopènia: {sarc_SIN_PA:.2f}%\")"
   ],
   "id": "244c4f6987003814",
   "outputs": [
    {
     "name": "stdout",
     "output_type": "stream",
     "text": [
      "Percentatge de sarcopènia: 4.08%\n"
     ]
    }
   ],
   "execution_count": 74
  },
  {
   "metadata": {},
   "cell_type": "markdown",
   "source": "#### Pvalor",
   "id": "89f3f7bdbee9d96d"
  },
  {
   "metadata": {},
   "cell_type": "markdown",
   "source": "##### Normalitat",
   "id": "211f5c215b14bcfb"
  },
  {
   "metadata": {
    "ExecuteTime": {
     "end_time": "2024-04-19T12:38:05.308441Z",
     "start_time": "2024-04-19T12:38:05.301723Z"
    }
   },
   "cell_type": "code",
   "source": [
    "stat, p_value = shapiro(CON_PA['sarcopenia'])\n",
    "print(f\"Estadístic W = {stat:.4f}\")\n",
    "print(f\"Valor p = {p_value:.4f}\")\n",
    "\n",
    "alpha = 0.05\n",
    "if p_value < alpha:\n",
    "    print(\"El nombre de files no segueix una distribució normal.\")\n",
    "else:\n",
    "    print(\"El nombre de files segueix una distribució normal\")"
   ],
   "id": "41853aa064104ee9",
   "outputs": [
    {
     "name": "stdout",
     "output_type": "stream",
     "text": [
      "Estadístic W = 1.0000\n",
      "Valor p = 1.0000\n",
      "El nombre de files segueix una distribució normal\n"
     ]
    }
   ],
   "execution_count": 75
  },
  {
   "metadata": {
    "ExecuteTime": {
     "end_time": "2024-04-19T12:38:05.586876Z",
     "start_time": "2024-04-19T12:38:05.579086Z"
    }
   },
   "cell_type": "code",
   "source": [
    "stat, p_value = shapiro(CON_PA_MECVV['sarcopenia'])\n",
    "print(f\"Estadístic W = {stat:.4f}\")\n",
    "print(f\"Valor p = {p_value:.4f}\")\n",
    "\n",
    "alpha = 0.05\n",
    "if p_value < alpha:\n",
    "    print(\"El nombre de files no segueix una distribució normal.\")\n",
    "else:\n",
    "    print(\"El nombre de files segueix una distribució normal\")"
   ],
   "id": "819daed34f463c5d",
   "outputs": [
    {
     "name": "stdout",
     "output_type": "stream",
     "text": [
      "Estadístic W = 0.3657\n",
      "Valor p = 0.0000\n",
      "El nombre de files no segueix una distribució normal.\n"
     ]
    }
   ],
   "execution_count": 76
  },
  {
   "metadata": {
    "ExecuteTime": {
     "end_time": "2024-04-19T12:38:05.762781Z",
     "start_time": "2024-04-19T12:38:05.755785Z"
    }
   },
   "cell_type": "code",
   "source": [
    "stat, p_value = shapiro(SIN_PA['sarcopenia'])\n",
    "print(f\"Estadístic W = {stat:.4f}\")\n",
    "print(f\"Valor p = {p_value:.4f}\")\n",
    "\n",
    "alpha = 0.05\n",
    "if p_value < alpha:\n",
    "    print(\"El nombre de files no segueix una distribució normal.\")\n",
    "else:\n",
    "    print(\"El nombre de files segueix una distribució normal\")"
   ],
   "id": "6cba774cd30a32c1",
   "outputs": [
    {
     "name": "stdout",
     "output_type": "stream",
     "text": [
      "Estadístic W = 0.2008\n",
      "Valor p = 0.0000\n",
      "El nombre de files no segueix una distribució normal.\n"
     ]
    }
   ],
   "execution_count": 77
  },
  {
   "metadata": {
    "ExecuteTime": {
     "end_time": "2024-04-19T12:38:06.055641Z",
     "start_time": "2024-04-19T12:38:06.049613Z"
    }
   },
   "cell_type": "code",
   "source": [
    "stat, p_value_12 = mannwhitneyu(CON_PA['sarcopenia'], CON_PA_MECVV['sarcopenia'], alternative='two-sided')\n",
    "print(\"P-valor entre CON_PA i CON_PA_MECVV\", p_value_12)"
   ],
   "id": "313be6964130b7aa",
   "outputs": [
    {
     "name": "stdout",
     "output_type": "stream",
     "text": [
      "P-valor entre CON_PA i CON_PA_MECVV 0.21976847950216105\n"
     ]
    }
   ],
   "execution_count": 78
  },
  {
   "metadata": {
    "ExecuteTime": {
     "end_time": "2024-04-19T12:38:06.217469Z",
     "start_time": "2024-04-19T12:38:06.211527Z"
    }
   },
   "cell_type": "code",
   "source": [
    "stat, p_value_13 = mannwhitneyu(CON_PA['sarcopenia'], SIN_PA['sarcopenia'], alternative='two-sided')\n",
    "print(\"P-valor entre CON_PA i SIN_PA\", p_value_13)"
   ],
   "id": "311f77406d30370b",
   "outputs": [
    {
     "name": "stdout",
     "output_type": "stream",
     "text": [
      "P-valor entre CON_PA i SIN_PA 0.41519527301502746\n"
     ]
    }
   ],
   "execution_count": 79
  },
  {
   "metadata": {
    "ExecuteTime": {
     "end_time": "2024-04-19T12:38:06.467603Z",
     "start_time": "2024-04-19T12:38:06.456896Z"
    }
   },
   "cell_type": "code",
   "source": [
    "stat, p_value_23 = mannwhitneyu(CON_PA_MECVV['sarcopenia'], SIN_PA['sarcopenia'], alternative='two-sided')\n",
    "print(\"P-valor entre CON_PA_MECVV i SIN_PA\", p_value_23)"
   ],
   "id": "2fd5fff672c1e53",
   "outputs": [
    {
     "name": "stdout",
     "output_type": "stream",
     "text": [
      "P-valor entre CON_PA_MECVV i SIN_PA 0.45734646700671056\n"
     ]
    }
   ],
   "execution_count": 80
  },
  {
   "metadata": {},
   "cell_type": "markdown",
   "source": "## Trastorns del son",
   "id": "f41eecfcc7117fb8"
  },
  {
   "metadata": {
    "ExecuteTime": {
     "end_time": "2024-04-19T12:38:06.689332Z",
     "start_time": "2024-04-19T12:38:06.684223Z"
    }
   },
   "cell_type": "code",
   "source": [
    "ts_CON_PA= (CON_PA['problsueño'] == 1.0).mean() * 100\n",
    "print(f\"Percentatge de trastorns del son: {ts_CON_PA:.2f}%\")"
   ],
   "id": "cb850aac92c63822",
   "outputs": [
    {
     "name": "stdout",
     "output_type": "stream",
     "text": [
      "Percentatge de trastorns del son: 0.00%\n"
     ]
    }
   ],
   "execution_count": 81
  },
  {
   "metadata": {
    "ExecuteTime": {
     "end_time": "2024-04-19T12:38:06.967683Z",
     "start_time": "2024-04-19T12:38:06.959570Z"
    }
   },
   "cell_type": "code",
   "source": [
    "ts_CON_PA_MECVV= (CON_PA_MECVV['problsueño'] == 1.0).mean() * 100\n",
    "print(f\"Percentatge de trastorns del son: {ts_CON_PA_MECVV:.2f}%\")"
   ],
   "id": "2879ba619f21dd9",
   "outputs": [
    {
     "name": "stdout",
     "output_type": "stream",
     "text": [
      "Percentatge de trastorns del son: 0.00%\n"
     ]
    }
   ],
   "execution_count": 82
  },
  {
   "metadata": {
    "ExecuteTime": {
     "end_time": "2024-04-19T12:38:07.173125Z",
     "start_time": "2024-04-19T12:38:07.164132Z"
    }
   },
   "cell_type": "code",
   "source": [
    "ts_SIN_PA= (SIN_PA['problsueño'] == 1.0).mean() * 100\n",
    "print(f\"Percentatge de trastorns del son: {ts_SIN_PA:.2f}%\")"
   ],
   "id": "dd0194dec4acdb86",
   "outputs": [
    {
     "name": "stdout",
     "output_type": "stream",
     "text": [
      "Percentatge de trastorns del son: 0.00%\n"
     ]
    }
   ],
   "execution_count": 83
  },
  {
   "metadata": {},
   "cell_type": "markdown",
   "source": "## Dolor crònic",
   "id": "e9f22902aac5d32c"
  },
  {
   "metadata": {
    "ExecuteTime": {
     "end_time": "2024-04-19T12:38:07.486813Z",
     "start_time": "2024-04-19T12:38:07.482515Z"
    }
   },
   "cell_type": "code",
   "source": [
    "dc_CON_PA= (CON_PA['dolor_cron'] == 1.0).mean() * 100\n",
    "print(f\"Percentatge de dolor crònic: {dc_CON_PA:.2f}%\")"
   ],
   "id": "f05d2f7a214d0e82",
   "outputs": [
    {
     "name": "stdout",
     "output_type": "stream",
     "text": [
      "Percentatge de dolor crònic: 0.00%\n"
     ]
    }
   ],
   "execution_count": 84
  },
  {
   "metadata": {
    "ExecuteTime": {
     "end_time": "2024-04-19T12:38:07.609481Z",
     "start_time": "2024-04-19T12:38:07.604251Z"
    }
   },
   "cell_type": "code",
   "source": [
    "dc_CON_PA_MECVV= (CON_PA_MECVV['dolor_cron'] == 1.0).mean() * 100\n",
    "print(f\"Percentatge de dolor crònic: {dc_CON_PA_MECVV:.2f}%\")"
   ],
   "id": "f30beb6300be5f9c",
   "outputs": [
    {
     "name": "stdout",
     "output_type": "stream",
     "text": [
      "Percentatge de dolor crònic: 0.00%\n"
     ]
    }
   ],
   "execution_count": 85
  },
  {
   "metadata": {
    "ExecuteTime": {
     "end_time": "2024-04-19T12:38:12.568140Z",
     "start_time": "2024-04-19T12:38:12.562599Z"
    }
   },
   "cell_type": "code",
   "source": [
    "dc_SIN_PA= (SIN_PA['dolor_cron'] == 1.0).mean() * 100\n",
    "print(f\"Percentatge de dolor crònic: {dc_SIN_PA:.2f}%\")"
   ],
   "id": "1ac2254ca76f0a08",
   "outputs": [
    {
     "name": "stdout",
     "output_type": "stream",
     "text": [
      "Percentatge de dolor crònic: 0.00%\n"
     ]
    }
   ],
   "execution_count": 86
  },
  {
   "metadata": {},
   "cell_type": "markdown",
   "source": "## Iatrogènic",
   "id": "e4a4ace86ca41600"
  },
  {
   "metadata": {
    "ExecuteTime": {
     "end_time": "2024-04-19T12:38:15.844393Z",
     "start_time": "2024-04-19T12:38:15.838542Z"
    }
   },
   "cell_type": "code",
   "source": [
    "iatr_CON_PA= (CON_PA['iatrogenico'] == 1.0).mean() * 100\n",
    "print(f\"Percentatge de iatrogènic: {iatr_CON_PA:.2f}%\")"
   ],
   "id": "ce5326efc8d1cbef",
   "outputs": [
    {
     "name": "stdout",
     "output_type": "stream",
     "text": [
      "Percentatge de iatrogènic: 0.00%\n"
     ]
    }
   ],
   "execution_count": 87
  },
  {
   "metadata": {
    "ExecuteTime": {
     "end_time": "2024-04-19T12:38:17.024057Z",
     "start_time": "2024-04-19T12:38:17.018059Z"
    }
   },
   "cell_type": "code",
   "source": [
    "iatr_CON_PA_MECVV= (CON_PA_MECVV['iatrogenico'] == 1.0).mean() * 100\n",
    "print(f\"Percentatge de iatrogènic: {iatr_CON_PA_MECVV:.2f}%\")"
   ],
   "id": "3b93f7c7a1f8390a",
   "outputs": [
    {
     "name": "stdout",
     "output_type": "stream",
     "text": [
      "Percentatge de iatrogènic: 0.00%\n"
     ]
    }
   ],
   "execution_count": 88
  },
  {
   "metadata": {
    "ExecuteTime": {
     "end_time": "2024-04-19T12:38:17.273606Z",
     "start_time": "2024-04-19T12:38:17.268069Z"
    }
   },
   "cell_type": "code",
   "source": [
    "iatr_SIN_PA= (SIN_PA['iatrogenico'] == 1.0).mean() * 100\n",
    "print(f\"Percentatge de iatrogènic: {iatr_SIN_PA:.2f}%\")"
   ],
   "id": "6e91605bdf68ebe6",
   "outputs": [
    {
     "name": "stdout",
     "output_type": "stream",
     "text": [
      "Percentatge de iatrogènic: 0.00%\n"
     ]
    }
   ],
   "execution_count": 89
  },
  {
   "metadata": {},
   "cell_type": "markdown",
   "source": "## Restrenyiment",
   "id": "db8d96a1cf0b32f4"
  },
  {
   "metadata": {
    "ExecuteTime": {
     "end_time": "2024-04-19T12:38:17.387363Z",
     "start_time": "2024-04-19T12:38:17.382103Z"
    }
   },
   "cell_type": "code",
   "source": [
    "est_CON_PA= (CON_PA['estreñimiento'] == 1.0).mean() * 100\n",
    "print(f\"Percentatge de restrenyiment: {est_CON_PA:.2f}%\")"
   ],
   "id": "dc16c6f9e735fbb2",
   "outputs": [
    {
     "name": "stdout",
     "output_type": "stream",
     "text": [
      "Percentatge de restrenyiment: 0.00%\n"
     ]
    }
   ],
   "execution_count": 90
  },
  {
   "metadata": {
    "ExecuteTime": {
     "end_time": "2024-04-19T12:38:17.504590Z",
     "start_time": "2024-04-19T12:38:17.499580Z"
    }
   },
   "cell_type": "code",
   "source": [
    "est_CON_PA_MECVV= (CON_PA_MECVV['estreñimiento'] == 1.0).mean() * 100\n",
    "print(f\"Percentatge de restrenyiment: {est_CON_PA_MECVV:.2f}%\")"
   ],
   "id": "b3bf84a44b2be1a",
   "outputs": [
    {
     "name": "stdout",
     "output_type": "stream",
     "text": [
      "Percentatge de restrenyiment: 0.00%\n"
     ]
    }
   ],
   "execution_count": 91
  },
  {
   "metadata": {
    "ExecuteTime": {
     "end_time": "2024-04-19T12:38:17.626988Z",
     "start_time": "2024-04-19T12:38:17.623115Z"
    }
   },
   "cell_type": "code",
   "source": [
    "est_SIN_PA= (SIN_PA['estreñimiento'] == 1.0).mean() * 100\n",
    "print(f\"Percentatge de restrenyiment: {est_SIN_PA:.2f}%\")"
   ],
   "id": "a2ac461b783cef25",
   "outputs": [
    {
     "name": "stdout",
     "output_type": "stream",
     "text": [
      "Percentatge de restrenyiment: 0.00%\n"
     ]
    }
   ],
   "execution_count": 92
  },
  {
   "metadata": {},
   "cell_type": "markdown",
   "source": "# Historial mèdic/comorbilitats",
   "id": "d311da4873623a2b"
  },
  {
   "metadata": {},
   "cell_type": "markdown",
   "source": "## Malalties CV",
   "id": "3d8f9f8d375849e3"
  },
  {
   "metadata": {
    "ExecuteTime": {
     "end_time": "2024-04-19T12:38:17.737445Z",
     "start_time": "2024-04-19T12:38:17.731641Z"
    }
   },
   "cell_type": "code",
   "source": [
    "cv_CON_PA= (CON_PA['CV'] == 1.0).mean() * 100\n",
    "print(f\"Percentatge de problemes CV: {cv_CON_PA:.2f}%\")"
   ],
   "id": "e32cfa2a884f35ec",
   "outputs": [
    {
     "name": "stdout",
     "output_type": "stream",
     "text": [
      "Percentatge de problemes CV: 5.88%\n"
     ]
    }
   ],
   "execution_count": 93
  },
  {
   "metadata": {
    "ExecuteTime": {
     "end_time": "2024-04-19T12:38:17.905101Z",
     "start_time": "2024-04-19T12:38:17.899871Z"
    }
   },
   "cell_type": "code",
   "source": [
    "cv_CON_PA_MECVV= (CON_PA_MECVV['CV'] == 1.0).mean() * 100\n",
    "print(f\"Percentatge de problemes CV: {cv_CON_PA_MECVV:.2f}%\")"
   ],
   "id": "88b79facc46de5ee",
   "outputs": [
    {
     "name": "stdout",
     "output_type": "stream",
     "text": [
      "Percentatge de problemes CV: 10.00%\n"
     ]
    }
   ],
   "execution_count": 94
  },
  {
   "metadata": {
    "ExecuteTime": {
     "end_time": "2024-04-19T12:38:18.004285Z",
     "start_time": "2024-04-19T12:38:17.995898Z"
    }
   },
   "cell_type": "code",
   "source": [
    "cv_SIN_PA= (SIN_PA['CV'] == 1.0).mean() * 100\n",
    "print(f\"Percentatge de problemes CV: {cv_SIN_PA:.2f}%\")"
   ],
   "id": "69cd26f61d232d64",
   "outputs": [
    {
     "name": "stdout",
     "output_type": "stream",
     "text": [
      "Percentatge de problemes CV: 6.12%\n"
     ]
    }
   ],
   "execution_count": 95
  },
  {
   "metadata": {},
   "cell_type": "markdown",
   "source": "#### Pvalor",
   "id": "4cd96e9749196e1e"
  },
  {
   "metadata": {},
   "cell_type": "markdown",
   "source": "##### Normalitat ",
   "id": "7cdc03afbe142fec"
  },
  {
   "metadata": {
    "ExecuteTime": {
     "end_time": "2024-04-19T12:38:18.146364Z",
     "start_time": "2024-04-19T12:38:18.141162Z"
    }
   },
   "cell_type": "code",
   "source": [
    "stat, p_value = shapiro(CON_PA['CV'])\n",
    "print(f\"Estadístic W = {stat:.4f}\")\n",
    "print(f\"Valor p = {p_value:.4f}\")\n",
    "\n",
    "alpha = 0.05\n",
    "if p_value < alpha:\n",
    "    print(\"El nombre de files no segueix una distribució normal.\")\n",
    "else:\n",
    "    print(\"El nombre de files segueix una distribució normal\")"
   ],
   "id": "50ac2eecc28b5527",
   "outputs": [
    {
     "name": "stdout",
     "output_type": "stream",
     "text": [
      "Estadístic W = 0.2622\n",
      "Valor p = 0.0000\n",
      "El nombre de files no segueix una distribució normal.\n"
     ]
    }
   ],
   "execution_count": 96
  },
  {
   "metadata": {
    "ExecuteTime": {
     "end_time": "2024-04-19T12:38:18.267348Z",
     "start_time": "2024-04-19T12:38:18.260687Z"
    }
   },
   "cell_type": "code",
   "source": [
    "stat, p_value = shapiro(CON_PA_MECVV['CV'])\n",
    "print(f\"Estadístic W = {stat:.4f}\")\n",
    "print(f\"Valor p = {p_value:.4f}\")\n",
    "\n",
    "alpha = 0.05\n",
    "if p_value < alpha:\n",
    "    print(\"El nombre de files no segueix una distribució normal.\")\n",
    "else:\n",
    "    print(\"El nombre de files segueix una distribució normal\")"
   ],
   "id": "22011b4c30d26edb",
   "outputs": [
    {
     "name": "stdout",
     "output_type": "stream",
     "text": [
      "Estadístic W = 0.3657\n",
      "Valor p = 0.0000\n",
      "El nombre de files no segueix una distribució normal.\n"
     ]
    }
   ],
   "execution_count": 97
  },
  {
   "metadata": {
    "ExecuteTime": {
     "end_time": "2024-04-19T12:38:18.424265Z",
     "start_time": "2024-04-19T12:38:18.412664Z"
    }
   },
   "cell_type": "code",
   "source": [
    "stat, p_value = shapiro(SIN_PA['CV'])\n",
    "print(f\"Estadístic W = {stat:.4f}\")\n",
    "print(f\"Valor p = {p_value:.4f}\")\n",
    "\n",
    "alpha = 0.05\n",
    "if p_value < alpha:\n",
    "    print(\"El nombre de files no segueix una distribució normal.\")\n",
    "else:\n",
    "    print(\"El nombre de files segueix una distribució normal\")"
   ],
   "id": "e1db160804e3a620",
   "outputs": [
    {
     "name": "stdout",
     "output_type": "stream",
     "text": [
      "Estadístic W = 0.2580\n",
      "Valor p = 0.0000\n",
      "El nombre de files no segueix una distribució normal.\n"
     ]
    }
   ],
   "execution_count": 98
  },
  {
   "metadata": {
    "ExecuteTime": {
     "end_time": "2024-04-19T12:38:18.525625Z",
     "start_time": "2024-04-19T12:38:18.518701Z"
    }
   },
   "cell_type": "code",
   "source": [
    "stat, p_value_12 = mannwhitneyu(CON_PA['CV'], CON_PA_MECVV['CV'], alternative='two-sided')\n",
    "print(\"P-valor entre CON_PA i CON_PA_MECVV\", p_value_12)"
   ],
   "id": "5f10fd063b9b5044",
   "outputs": [
    {
     "name": "stdout",
     "output_type": "stream",
     "text": [
      "P-valor entre CON_PA i CON_PA_MECVV 0.7400102360583588\n"
     ]
    }
   ],
   "execution_count": 99
  },
  {
   "metadata": {
    "ExecuteTime": {
     "end_time": "2024-04-19T12:38:18.648386Z",
     "start_time": "2024-04-19T12:38:18.643165Z"
    }
   },
   "cell_type": "code",
   "source": [
    "stat, p_value_13 = mannwhitneyu(CON_PA['CV'], SIN_PA['CV'], alternative='two-sided')\n",
    "print(\"P-valor entre CON_PA i SIN_PA\", p_value_13)"
   ],
   "id": "3e6ab47f2f7f38d6",
   "outputs": [
    {
     "name": "stdout",
     "output_type": "stream",
     "text": [
      "P-valor entre CON_PA i SIN_PA 0.9858477456716862\n"
     ]
    }
   ],
   "execution_count": 100
  },
  {
   "metadata": {
    "ExecuteTime": {
     "end_time": "2024-04-19T12:38:18.751528Z",
     "start_time": "2024-04-19T12:38:18.745924Z"
    }
   },
   "cell_type": "code",
   "source": [
    "stat, p_value_23 = mannwhitneyu(CON_PA_MECVV['CV'], SIN_PA['CV'], alternative='two-sided')\n",
    "print(\"P-valor entre CON_PA_MECVV i SIN_PA\", p_value_23)"
   ],
   "id": "c9c3b2baeeea6423",
   "outputs": [
    {
     "name": "stdout",
     "output_type": "stream",
     "text": [
      "P-valor entre CON_PA_MECVV i SIN_PA 0.6762982127217047\n"
     ]
    }
   ],
   "execution_count": 101
  },
  {
   "metadata": {},
   "cell_type": "markdown",
   "source": "## Malalties del cor",
   "id": "ccb034e70398680a"
  },
  {
   "metadata": {
    "ExecuteTime": {
     "end_time": "2024-04-19T12:38:18.862485Z",
     "start_time": "2024-04-19T12:38:18.857640Z"
    }
   },
   "cell_type": "code",
   "source": [
    "cora_CON_PA= (CON_PA['probl_corazon'] == 1.0).mean() * 100\n",
    "print(f\"Percentatge de malalties de cor: {cora_CON_PA:.2f}%\")"
   ],
   "id": "83445fc0eafd0407",
   "outputs": [
    {
     "name": "stdout",
     "output_type": "stream",
     "text": [
      "Percentatge de malalties de cor: 11.76%\n"
     ]
    }
   ],
   "execution_count": 102
  },
  {
   "metadata": {
    "ExecuteTime": {
     "end_time": "2024-04-19T12:38:18.983885Z",
     "start_time": "2024-04-19T12:38:18.978155Z"
    }
   },
   "cell_type": "code",
   "source": [
    "cora_CON_PA_MECVV= (CON_PA_MECVV['probl_corazon'] == 1.0).mean() * 100\n",
    "print(f\"Percentatge de malalties de cor: {cora_CON_PA_MECVV:.2f}%\")"
   ],
   "id": "bd7136466bd809e1",
   "outputs": [
    {
     "name": "stdout",
     "output_type": "stream",
     "text": [
      "Percentatge de malalties de cor: 10.00%\n"
     ]
    }
   ],
   "execution_count": 103
  },
  {
   "metadata": {
    "ExecuteTime": {
     "end_time": "2024-04-19T12:38:19.107044Z",
     "start_time": "2024-04-19T12:38:19.102413Z"
    }
   },
   "cell_type": "code",
   "source": [
    "cora_SIN_PA= (SIN_PA['probl_corazon'] == 1.0).mean() * 100\n",
    "print(f\"Percentatge de malalties de cor: {cora_SIN_PA:.2f}%\")"
   ],
   "id": "f5a394abf4441af0",
   "outputs": [
    {
     "name": "stdout",
     "output_type": "stream",
     "text": [
      "Percentatge de malalties de cor: 14.29%\n"
     ]
    }
   ],
   "execution_count": 104
  },
  {
   "metadata": {},
   "cell_type": "markdown",
   "source": "#### Pvalor",
   "id": "a6c0069e93bb4b47"
  },
  {
   "metadata": {},
   "cell_type": "markdown",
   "source": "##### Normalitat",
   "id": "a72ee98e29b732e6"
  },
  {
   "metadata": {
    "ExecuteTime": {
     "end_time": "2024-04-19T12:38:19.198588Z",
     "start_time": "2024-04-19T12:38:19.193088Z"
    }
   },
   "cell_type": "code",
   "source": [
    "stat, p_value = shapiro(CON_PA['probl_corazon'])\n",
    "print(f\"Estadístic W = {stat:.4f}\")\n",
    "print(f\"Valor p = {p_value:.4f}\")\n",
    "\n",
    "alpha = 0.05\n",
    "if p_value < alpha:\n",
    "    print(\"El nombre de files no segueix una distribució normal.\")\n",
    "else:\n",
    "    print(\"El nombre de files segueix una distribució normal\")"
   ],
   "id": "70125a59e92a41c9",
   "outputs": [
    {
     "name": "stdout",
     "output_type": "stream",
     "text": [
      "Estadístic W = 0.3853\n",
      "Valor p = 0.0000\n",
      "El nombre de files no segueix una distribució normal.\n"
     ]
    }
   ],
   "execution_count": 105
  },
  {
   "metadata": {
    "ExecuteTime": {
     "end_time": "2024-04-19T12:38:19.305745Z",
     "start_time": "2024-04-19T12:38:19.300706Z"
    }
   },
   "cell_type": "code",
   "source": [
    "stat, p_value = shapiro(CON_PA_MECVV['probl_corazon'])\n",
    "print(f\"Estadístic W = {stat:.4f}\")\n",
    "print(f\"Valor p = {p_value:.4f}\")\n",
    "\n",
    "alpha = 0.05\n",
    "if p_value < alpha:\n",
    "    print(\"El nombre de files no segueix una distribució normal.\")\n",
    "else:\n",
    "    print(\"El nombre de files segueix una distribució normal\")"
   ],
   "id": "74329b3c356ab930",
   "outputs": [
    {
     "name": "stdout",
     "output_type": "stream",
     "text": [
      "Estadístic W = 0.3657\n",
      "Valor p = 0.0000\n",
      "El nombre de files no segueix una distribució normal.\n"
     ]
    }
   ],
   "execution_count": 106
  },
  {
   "metadata": {
    "ExecuteTime": {
     "end_time": "2024-04-19T12:38:19.430617Z",
     "start_time": "2024-04-19T12:38:19.409010Z"
    }
   },
   "cell_type": "code",
   "source": [
    "stat, p_value = shapiro(SIN_PA['probl_corazon'])\n",
    "print(f\"Estadístic W = {stat:.4f}\")\n",
    "print(f\"Valor p = {p_value:.4f}\")\n",
    "\n",
    "alpha = 0.05\n",
    "if p_value < alpha:\n",
    "    print(\"El nombre de files no segueix una distribució normal.\")\n",
    "else:\n",
    "    print(\"El nombre de files segueix una distribució normal\")"
   ],
   "id": "c5eb2d33fd46a0dd",
   "outputs": [
    {
     "name": "stdout",
     "output_type": "stream",
     "text": [
      "Estadístic W = 0.4168\n",
      "Valor p = 0.0000\n",
      "El nombre de files no segueix una distribució normal.\n"
     ]
    }
   ],
   "execution_count": 107
  },
  {
   "metadata": {
    "ExecuteTime": {
     "end_time": "2024-04-19T12:38:19.628320Z",
     "start_time": "2024-04-19T12:38:19.621872Z"
    }
   },
   "cell_type": "code",
   "source": [
    "stat, p_value_12 = mannwhitneyu(CON_PA['probl_corazon'], CON_PA_MECVV['probl_corazon'], alternative='two-sided')\n",
    "print(\"P-valor entre CON_PA i CON_PA_MECVV\", p_value_12)"
   ],
   "id": "dd41146095c973e6",
   "outputs": [
    {
     "name": "stdout",
     "output_type": "stream",
     "text": [
      "P-valor entre CON_PA i CON_PA_MECVV 0.9265568396984611\n"
     ]
    }
   ],
   "execution_count": 108
  },
  {
   "metadata": {
    "ExecuteTime": {
     "end_time": "2024-04-19T12:38:19.755849Z",
     "start_time": "2024-04-19T12:38:19.749369Z"
    }
   },
   "cell_type": "code",
   "source": [
    "stat, p_value_13 = mannwhitneyu(CON_PA['CV'], SIN_PA['CV'], alternative='two-sided')\n",
    "print(\"P-valor entre CON_PA i SIN_PA\", p_value_13)"
   ],
   "id": "51f94835fcff1281",
   "outputs": [
    {
     "name": "stdout",
     "output_type": "stream",
     "text": [
      "P-valor entre CON_PA i SIN_PA 0.9858477456716862\n"
     ]
    }
   ],
   "execution_count": 109
  },
  {
   "metadata": {
    "ExecuteTime": {
     "end_time": "2024-04-19T12:38:19.890458Z",
     "start_time": "2024-04-19T12:38:19.884971Z"
    }
   },
   "cell_type": "code",
   "source": [
    "stat, p_value_23 = mannwhitneyu(CON_PA_MECVV['CV'], SIN_PA['CV'], alternative='two-sided')\n",
    "print(\"P-valor entre CON_PA_MECVV i SIN_PA\", p_value_23)"
   ],
   "id": "91d8fe72b61842",
   "outputs": [
    {
     "name": "stdout",
     "output_type": "stream",
     "text": [
      "P-valor entre CON_PA_MECVV i SIN_PA 0.6762982127217047\n"
     ]
    }
   ],
   "execution_count": 110
  },
  {
   "metadata": {},
   "cell_type": "markdown",
   "source": "## Malalties neurodegeneratives",
   "id": "18c9cce147e62274"
  },
  {
   "metadata": {
    "ExecuteTime": {
     "end_time": "2024-04-19T12:38:20.027627Z",
     "start_time": "2024-04-19T12:38:20.023143Z"
    }
   },
   "cell_type": "code",
   "source": [
    "nd_CON_PA= (CON_PA['neurodegenerativas'] == 1.0).mean() * 100\n",
    "print(f\"Percentatge de malalties neurodegeneratives: {nd_CON_PA:.2f}%\")"
   ],
   "id": "1b290be0c970c5fe",
   "outputs": [
    {
     "name": "stdout",
     "output_type": "stream",
     "text": [
      "Percentatge de malalties neurodegeneratives: 0.00%\n"
     ]
    }
   ],
   "execution_count": 111
  },
  {
   "metadata": {
    "ExecuteTime": {
     "end_time": "2024-04-19T12:38:20.215364Z",
     "start_time": "2024-04-19T12:38:20.207276Z"
    }
   },
   "cell_type": "code",
   "source": [
    "nd_CON_PA_MECVV= (CON_PA_MECVV['neurodegenerativas'] == 1.0).mean() * 100\n",
    "print(f\"Percentatge de malalties neurodegeneratives: {nd_CON_PA_MECVV:.2f}%\")"
   ],
   "id": "d7a46cc9000b68a9",
   "outputs": [
    {
     "name": "stdout",
     "output_type": "stream",
     "text": [
      "Percentatge de malalties neurodegeneratives: 10.00%\n"
     ]
    }
   ],
   "execution_count": 112
  },
  {
   "metadata": {
    "ExecuteTime": {
     "end_time": "2024-04-19T12:38:20.395884Z",
     "start_time": "2024-04-19T12:38:20.391556Z"
    }
   },
   "cell_type": "code",
   "source": [
    "nd_SIN_PA= (SIN_PA['neurodegenerativas'] == 1.0).mean() * 100\n",
    "print(f\"Percentatge de malalties neurodegeneratives: {nd_SIN_PA:.2f}%\")"
   ],
   "id": "fef909050dd582f3",
   "outputs": [
    {
     "name": "stdout",
     "output_type": "stream",
     "text": [
      "Percentatge de malalties neurodegeneratives: 4.08%\n"
     ]
    }
   ],
   "execution_count": 113
  },
  {
   "metadata": {},
   "cell_type": "markdown",
   "source": "#### Pvalor",
   "id": "13d4492161572489"
  },
  {
   "metadata": {},
   "cell_type": "markdown",
   "source": "##### Normalitat",
   "id": "e98b267abe8ec4da"
  },
  {
   "metadata": {
    "ExecuteTime": {
     "end_time": "2024-04-19T12:38:20.550771Z",
     "start_time": "2024-04-19T12:38:20.544850Z"
    }
   },
   "cell_type": "code",
   "source": [
    "stat, p_value = shapiro(CON_PA['neurodegenerativas'])\n",
    "print(f\"Estadístic W = {stat:.4f}\")\n",
    "print(f\"Valor p = {p_value:.4f}\")\n",
    "\n",
    "alpha = 0.05\n",
    "if p_value < alpha:\n",
    "    print(\"El nombre de files no segueix una distribució normal.\")\n",
    "else:\n",
    "    print(\"El nombre de files segueix una distribució normal\")"
   ],
   "id": "8d87943002876acb",
   "outputs": [
    {
     "name": "stdout",
     "output_type": "stream",
     "text": [
      "Estadístic W = 1.0000\n",
      "Valor p = 1.0000\n",
      "El nombre de files segueix una distribució normal\n"
     ]
    }
   ],
   "execution_count": 114
  },
  {
   "metadata": {
    "ExecuteTime": {
     "end_time": "2024-04-19T12:38:20.721482Z",
     "start_time": "2024-04-19T12:38:20.716091Z"
    }
   },
   "cell_type": "code",
   "source": [
    "stat, p_value = shapiro(CON_PA_MECVV['neurodegenerativas'])\n",
    "print(f\"Estadístic W = {stat:.4f}\")\n",
    "print(f\"Valor p = {p_value:.4f}\")\n",
    "\n",
    "alpha = 0.05\n",
    "if p_value < alpha:\n",
    "    print(\"El nombre de files no segueix una distribució normal.\")\n",
    "else:\n",
    "    print(\"El nombre de files segueix una distribució normal\")"
   ],
   "id": "6982f3d36ccde172",
   "outputs": [
    {
     "name": "stdout",
     "output_type": "stream",
     "text": [
      "Estadístic W = 0.3657\n",
      "Valor p = 0.0000\n",
      "El nombre de files no segueix una distribució normal.\n"
     ]
    }
   ],
   "execution_count": 115
  },
  {
   "metadata": {
    "ExecuteTime": {
     "end_time": "2024-04-19T12:38:20.913883Z",
     "start_time": "2024-04-19T12:38:20.908650Z"
    }
   },
   "cell_type": "code",
   "source": [
    "stat, p_value = shapiro(SIN_PA['neurodegenerativas'])\n",
    "print(f\"Estadístic W = {stat:.4f}\")\n",
    "print(f\"Valor p = {p_value:.4f}\")\n",
    "\n",
    "alpha = 0.05\n",
    "if p_value < alpha:\n",
    "    print(\"El nombre de files no segueix una distribució normal.\")\n",
    "else:\n",
    "    print(\"El nombre de files segueix una distribució normal\")"
   ],
   "id": "4a33f042367e4f46",
   "outputs": [
    {
     "name": "stdout",
     "output_type": "stream",
     "text": [
      "Estadístic W = 0.2008\n",
      "Valor p = 0.0000\n",
      "El nombre de files no segueix una distribució normal.\n"
     ]
    }
   ],
   "execution_count": 116
  },
  {
   "metadata": {
    "ExecuteTime": {
     "end_time": "2024-04-19T12:38:21.040913Z",
     "start_time": "2024-04-19T12:38:21.032862Z"
    }
   },
   "cell_type": "code",
   "source": [
    "stat, p_value_12 = mannwhitneyu(CON_PA['neurodegenerativas'], CON_PA_MECVV['neurodegenerativas'], alternative='two-sided')\n",
    "print(\"P-valor entre CON_PA i CON_PA_MECVV\", p_value_12)"
   ],
   "id": "7ea74d2a49cec4ac",
   "outputs": [
    {
     "name": "stdout",
     "output_type": "stream",
     "text": [
      "P-valor entre CON_PA i CON_PA_MECVV 0.21976847950216105\n"
     ]
    }
   ],
   "execution_count": 117
  },
  {
   "metadata": {
    "ExecuteTime": {
     "end_time": "2024-04-19T12:38:21.175358Z",
     "start_time": "2024-04-19T12:38:21.169110Z"
    }
   },
   "cell_type": "code",
   "source": [
    "stat, p_value_13 = mannwhitneyu(CON_PA['neurodegenerativas'], SIN_PA['neurodegenerativas'], alternative='two-sided')\n",
    "print(\"P-valor entre CON_PA i SIN_PA\", p_value_13)"
   ],
   "id": "fedde2b245d34d1",
   "outputs": [
    {
     "name": "stdout",
     "output_type": "stream",
     "text": [
      "P-valor entre CON_PA i SIN_PA 0.41519527301502746\n"
     ]
    }
   ],
   "execution_count": 118
  },
  {
   "metadata": {
    "ExecuteTime": {
     "end_time": "2024-04-19T12:38:21.402721Z",
     "start_time": "2024-04-19T12:38:21.396529Z"
    }
   },
   "cell_type": "code",
   "source": [
    "stat, p_value_23 = mannwhitneyu(CON_PA_MECVV['neurodegenerativas'], SIN_PA['neurodegenerativas'], alternative='two-sided')\n",
    "print(\"P-valor entre CON_PA_MECVV i SIN_PA\", p_value_23)"
   ],
   "id": "2329b5f7f410f0fb",
   "outputs": [
    {
     "name": "stdout",
     "output_type": "stream",
     "text": [
      "P-valor entre CON_PA_MECVV i SIN_PA 0.45734646700671056\n"
     ]
    }
   ],
   "execution_count": 119
  },
  {
   "metadata": {},
   "cell_type": "markdown",
   "source": "## Diabetes mellitus",
   "id": "42b942e8587dc0c3"
  },
  {
   "metadata": {
    "ExecuteTime": {
     "end_time": "2024-04-19T12:38:21.585123Z",
     "start_time": "2024-04-19T12:38:21.579835Z"
    }
   },
   "cell_type": "code",
   "source": [
    "dm_CON_PA= (CON_PA['DM'] == 1.0).mean() * 100\n",
    "print(f\"Percentatge de diabetes mellitus: {dm_CON_PA:.2f}%\")"
   ],
   "id": "698511ef1e3136bc",
   "outputs": [
    {
     "name": "stdout",
     "output_type": "stream",
     "text": [
      "Percentatge de diabetes mellitus: 23.53%\n"
     ]
    }
   ],
   "execution_count": 120
  },
  {
   "metadata": {
    "ExecuteTime": {
     "end_time": "2024-04-19T12:38:21.781865Z",
     "start_time": "2024-04-19T12:38:21.776628Z"
    }
   },
   "cell_type": "code",
   "source": [
    "dm_CON_PA_MECVV= (CON_PA_MECVV['DM'] == 1.0).mean() * 100\n",
    "print(f\"Percentatge de diabetes mellitus: {dm_CON_PA_MECVV:.2f}%\")"
   ],
   "id": "80ed95bb2fa57c00",
   "outputs": [
    {
     "name": "stdout",
     "output_type": "stream",
     "text": [
      "Percentatge de diabetes mellitus: 10.00%\n"
     ]
    }
   ],
   "execution_count": 121
  },
  {
   "metadata": {
    "ExecuteTime": {
     "end_time": "2024-04-19T12:38:21.977363Z",
     "start_time": "2024-04-19T12:38:21.971707Z"
    }
   },
   "cell_type": "code",
   "source": [
    "dm_SIN_PA= (SIN_PA['DM'] == 1.0).mean() * 100\n",
    "print(f\"Percentatge de diabetes mellitus: {dm_SIN_PA:.2f}%\")"
   ],
   "id": "2de37780f8d2b591",
   "outputs": [
    {
     "name": "stdout",
     "output_type": "stream",
     "text": [
      "Percentatge de diabetes mellitus: 26.53%\n"
     ]
    }
   ],
   "execution_count": 122
  },
  {
   "metadata": {},
   "cell_type": "markdown",
   "source": "#### Pvalor ",
   "id": "39c5da893c7deb9c"
  },
  {
   "metadata": {},
   "cell_type": "markdown",
   "source": "##### Normalitat",
   "id": "ebee9ab25c7f5d27"
  },
  {
   "metadata": {
    "ExecuteTime": {
     "end_time": "2024-04-19T12:38:22.176447Z",
     "start_time": "2024-04-19T12:38:22.171211Z"
    }
   },
   "cell_type": "code",
   "source": [
    "stat, p_value = shapiro(CON_PA['DM'])\n",
    "print(f\"Estadístic W = {stat:.4f}\")\n",
    "print(f\"Valor p = {p_value:.4f}\")\n",
    "\n",
    "alpha = 0.05\n",
    "if p_value < alpha:\n",
    "    print(\"El nombre de files no segueix una distribució normal.\")\n",
    "else:\n",
    "    print(\"El nombre de files segueix una distribució normal\")"
   ],
   "id": "873e8801ed67f9de",
   "outputs": [
    {
     "name": "stdout",
     "output_type": "stream",
     "text": [
      "Estadístic W = 0.5327\n",
      "Valor p = 0.0000\n",
      "El nombre de files no segueix una distribució normal.\n"
     ]
    }
   ],
   "execution_count": 123
  },
  {
   "metadata": {
    "ExecuteTime": {
     "end_time": "2024-04-19T12:38:22.316279Z",
     "start_time": "2024-04-19T12:38:22.309778Z"
    }
   },
   "cell_type": "code",
   "source": [
    "stat, p_value = shapiro(CON_PA_MECVV['DM'])\n",
    "print(f\"Estadístic W = {stat:.4f}\")\n",
    "print(f\"Valor p = {p_value:.4f}\")\n",
    "\n",
    "alpha = 0.05\n",
    "if p_value < alpha:\n",
    "    print(\"El nombre de files no segueix una distribució normal.\")\n",
    "else:\n",
    "    print(\"El nombre de files segueix una distribució normal\")"
   ],
   "id": "45d49dc27d20b1a8",
   "outputs": [
    {
     "name": "stdout",
     "output_type": "stream",
     "text": [
      "Estadístic W = 0.3657\n",
      "Valor p = 0.0000\n",
      "El nombre de files no segueix una distribució normal.\n"
     ]
    }
   ],
   "execution_count": 124
  },
  {
   "metadata": {
    "ExecuteTime": {
     "end_time": "2024-04-19T12:38:22.532878Z",
     "start_time": "2024-04-19T12:38:22.526053Z"
    }
   },
   "cell_type": "code",
   "source": [
    "stat, p_value = shapiro(SIN_PA['DM'])\n",
    "print(f\"Estadístic W = {stat:.4f}\")\n",
    "print(f\"Valor p = {p_value:.4f}\")\n",
    "\n",
    "alpha = 0.05\n",
    "if p_value < alpha:\n",
    "    print(\"El nombre de files no segueix una distribució normal.\")\n",
    "else:\n",
    "    print(\"El nombre de files segueix una distribució normal\")"
   ],
   "id": "7d5c39dae28b5115",
   "outputs": [
    {
     "name": "stdout",
     "output_type": "stream",
     "text": [
      "Estadístic W = 0.5514\n",
      "Valor p = 0.0000\n",
      "El nombre de files no segueix una distribució normal.\n"
     ]
    }
   ],
   "execution_count": 125
  },
  {
   "metadata": {
    "ExecuteTime": {
     "end_time": "2024-04-19T12:38:22.671021Z",
     "start_time": "2024-04-19T12:38:22.665130Z"
    }
   },
   "cell_type": "code",
   "source": [
    "stat, p_value_12 = mannwhitneyu(CON_PA['DM'], CON_PA_MECVV['DM'], alternative='two-sided')\n",
    "print(\"P-valor entre CON_PA i CON_PA_MECVV\", p_value_12)"
   ],
   "id": "b76e252fda353c31",
   "outputs": [
    {
     "name": "stdout",
     "output_type": "stream",
     "text": [
      "P-valor entre CON_PA i CON_PA_MECVV 0.4120280546315189\n"
     ]
    }
   ],
   "execution_count": 126
  },
  {
   "metadata": {
    "ExecuteTime": {
     "end_time": "2024-04-19T12:38:22.854338Z",
     "start_time": "2024-04-19T12:38:22.843478Z"
    }
   },
   "cell_type": "code",
   "source": [
    "stat, p_value_13 = mannwhitneyu(CON_PA['DM'], SIN_PA['DM'], alternative='two-sided')\n",
    "print(\"P-valor entre CON_PA i SIN_PAN\", p_value_13)"
   ],
   "id": "4cfaeae595eb594b",
   "outputs": [
    {
     "name": "stdout",
     "output_type": "stream",
     "text": [
      "P-valor entre CON_PA i SIN_PAN 0.8163159339942008\n"
     ]
    }
   ],
   "execution_count": 127
  },
  {
   "metadata": {
    "ExecuteTime": {
     "end_time": "2024-04-19T12:38:23.034939Z",
     "start_time": "2024-04-19T12:38:23.029445Z"
    }
   },
   "cell_type": "code",
   "source": [
    "stat, p_value_23 = mannwhitneyu(CON_PA_MECVV['DM'], SIN_PA['DM'], alternative='two-sided')\n",
    "print(\"P-valor entre CON_PA_MECVV i SIN_PAN\", p_value_23)"
   ],
   "id": "372c60185966ee23",
   "outputs": [
    {
     "name": "stdout",
     "output_type": "stream",
     "text": [
      "P-valor entre CON_PA_MECVV i SIN_PAN 0.2728301710651724\n"
     ]
    }
   ],
   "execution_count": 128
  },
  {
   "metadata": {},
   "cell_type": "markdown",
   "source": "## Hepatopaties",
   "id": "772c1f476c2f3d43"
  },
  {
   "metadata": {
    "ExecuteTime": {
     "end_time": "2024-04-19T12:38:23.232465Z",
     "start_time": "2024-04-19T12:38:23.227206Z"
    }
   },
   "cell_type": "code",
   "source": [
    "hp_CON_PA= (CON_PA['hepatopatias'] == 1.0).mean() * 100\n",
    "print(f\"Percentatge de hepatopaties: {hp_CON_PA:.2f}%\")"
   ],
   "id": "5cfced98e5d59960",
   "outputs": [
    {
     "name": "stdout",
     "output_type": "stream",
     "text": [
      "Percentatge de hepatopaties: 11.76%\n"
     ]
    }
   ],
   "execution_count": 129
  },
  {
   "metadata": {
    "ExecuteTime": {
     "end_time": "2024-04-19T12:38:23.418509Z",
     "start_time": "2024-04-19T12:38:23.412675Z"
    }
   },
   "cell_type": "code",
   "source": [
    "hp_CON_PA_MECVV= (CON_PA_MECVV['hepatopatias'] == 1.0).mean() * 100\n",
    "print(f\"Percentatge de hepatopaties: {hp_CON_PA_MECVV:.2f}%\")"
   ],
   "id": "ffeb2d3f7c6163ad",
   "outputs": [
    {
     "name": "stdout",
     "output_type": "stream",
     "text": [
      "Percentatge de hepatopaties: 10.00%\n"
     ]
    }
   ],
   "execution_count": 130
  },
  {
   "metadata": {
    "ExecuteTime": {
     "end_time": "2024-04-19T12:38:23.595539Z",
     "start_time": "2024-04-19T12:38:23.590323Z"
    }
   },
   "cell_type": "code",
   "source": [
    "hp_SIN_PA= (SIN_PA['hepatopatias'] == 1.0).mean() * 100\n",
    "print(f\"Percentatge de hepatopaties: {hp_SIN_PA:.2f}%\")"
   ],
   "id": "23ccf77254538573",
   "outputs": [
    {
     "name": "stdout",
     "output_type": "stream",
     "text": [
      "Percentatge de hepatopaties: 6.12%\n"
     ]
    }
   ],
   "execution_count": 131
  },
  {
   "metadata": {},
   "cell_type": "markdown",
   "source": "#### Pvalor",
   "id": "ee084e9b17270c10"
  },
  {
   "metadata": {},
   "cell_type": "markdown",
   "source": "##### Normalitat",
   "id": "b932958d65d9e455"
  },
  {
   "metadata": {
    "ExecuteTime": {
     "end_time": "2024-04-19T12:38:23.804090Z",
     "start_time": "2024-04-19T12:38:23.797418Z"
    }
   },
   "cell_type": "code",
   "source": [
    "stat, p_value = shapiro(CON_PA['hepatopatias'])\n",
    "print(f\"Estadístic W = {stat:.4f}\")\n",
    "print(f\"Valor p = {p_value:.4f}\")\n",
    "\n",
    "alpha = 0.05\n",
    "if p_value < alpha:\n",
    "    print(\"El nombre de files no segueix una distribució normal.\")\n",
    "else:\n",
    "    print(\"El nombre de files segueix una distribució normal\")"
   ],
   "id": "de51f01ce1362aab",
   "outputs": [
    {
     "name": "stdout",
     "output_type": "stream",
     "text": [
      "Estadístic W = 0.3853\n",
      "Valor p = 0.0000\n",
      "El nombre de files no segueix una distribució normal.\n"
     ]
    }
   ],
   "execution_count": 132
  },
  {
   "metadata": {
    "ExecuteTime": {
     "end_time": "2024-04-19T12:38:23.941706Z",
     "start_time": "2024-04-19T12:38:23.934688Z"
    }
   },
   "cell_type": "code",
   "source": [
    "stat, p_value = shapiro(CON_PA_MECVV['hepatopatias'])\n",
    "print(f\"Estadístic W = {stat:.4f}\")\n",
    "print(f\"Valor p = {p_value:.4f}\")\n",
    "\n",
    "alpha = 0.05\n",
    "if p_value < alpha:\n",
    "    print(\"El nombre de files no segueix una distribució normal.\")\n",
    "else:\n",
    "    print(\"El nombre de files segueix una distribució normal\")"
   ],
   "id": "343a308a86ecb20b",
   "outputs": [
    {
     "name": "stdout",
     "output_type": "stream",
     "text": [
      "Estadístic W = 0.3657\n",
      "Valor p = 0.0000\n",
      "El nombre de files no segueix una distribució normal.\n"
     ]
    }
   ],
   "execution_count": 133
  },
  {
   "metadata": {
    "ExecuteTime": {
     "end_time": "2024-04-19T12:38:24.234730Z",
     "start_time": "2024-04-19T12:38:24.228021Z"
    }
   },
   "cell_type": "code",
   "source": [
    "stat, p_value = shapiro(SIN_PA['hepatopatias'])\n",
    "print(f\"Estadístic W = {stat:.4f}\")\n",
    "print(f\"Valor p = {p_value:.4f}\")\n",
    "\n",
    "alpha = 0.05\n",
    "if p_value < alpha:\n",
    "    print(\"El nombre de files no segueix una distribució normal.\")\n",
    "else:\n",
    "    print(\"El nombre de files segueix una distribució normal\")"
   ],
   "id": "94bfe6f6b1e080e3",
   "outputs": [
    {
     "name": "stdout",
     "output_type": "stream",
     "text": [
      "Estadístic W = 0.2580\n",
      "Valor p = 0.0000\n",
      "El nombre de files no segueix una distribució normal.\n"
     ]
    }
   ],
   "execution_count": 134
  },
  {
   "metadata": {
    "ExecuteTime": {
     "end_time": "2024-04-19T12:38:24.470719Z",
     "start_time": "2024-04-19T12:38:24.464561Z"
    }
   },
   "cell_type": "code",
   "source": [
    "stat, p_value_12 = mannwhitneyu(CON_PA['hepatopatias'], CON_PA_MECVV['hepatopatias'], alternative='two-sided')\n",
    "print(\"P-valor entre CON_PA i CON_PA_MECVV\", p_value_12)"
   ],
   "id": "f1d399767dab3eeb",
   "outputs": [
    {
     "name": "stdout",
     "output_type": "stream",
     "text": [
      "P-valor entre CON_PA i CON_PA_MECVV 0.9265568396984611\n"
     ]
    }
   ],
   "execution_count": 135
  },
  {
   "metadata": {
    "ExecuteTime": {
     "end_time": "2024-04-19T12:38:24.706263Z",
     "start_time": "2024-04-19T12:38:24.699135Z"
    }
   },
   "cell_type": "code",
   "source": [
    "stat, p_value_13 = mannwhitneyu(CON_PA['hepatopatias'], SIN_PA['hepatopatias'], alternative='two-sided')\n",
    "print(\"P-valor entre CON_PA i SIN_PA\", p_value_13)"
   ],
   "id": "e5ae22e928d63a0f",
   "outputs": [
    {
     "name": "stdout",
     "output_type": "stream",
     "text": [
      "P-valor entre CON_PA i SIN_PA 0.4618706673466527\n"
     ]
    }
   ],
   "execution_count": 136
  },
  {
   "metadata": {
    "ExecuteTime": {
     "end_time": "2024-04-19T12:38:24.834495Z",
     "start_time": "2024-04-19T12:38:24.829506Z"
    }
   },
   "cell_type": "code",
   "source": [
    "stat, p_value_23 = mannwhitneyu(CON_PA_MECVV['hepatopatias'], SIN_PA['hepatopatias'], alternative='two-sided')\n",
    "print(\"P-valor entre CON_PA_MECVV i SIN_PA\", p_value_23)"
   ],
   "id": "c8e4bb6c92eae392",
   "outputs": [
    {
     "name": "stdout",
     "output_type": "stream",
     "text": [
      "P-valor entre CON_PA_MECVV i SIN_PA 0.6762982127217047\n"
     ]
    }
   ],
   "execution_count": 137
  },
  {
   "metadata": {},
   "cell_type": "markdown",
   "source": "## Neoplàsia",
   "id": "959b58aaaaab994b"
  },
  {
   "metadata": {
    "ExecuteTime": {
     "end_time": "2024-04-19T12:38:24.972970Z",
     "start_time": "2024-04-19T12:38:24.967840Z"
    }
   },
   "cell_type": "code",
   "source": [
    "neopl_CON_PA= (CON_PA['neoplasias'] == 1.0).mean() * 100\n",
    "print(f\"Percentatge de neoplàsia: {neopl_CON_PA:.2f}%\")"
   ],
   "id": "6bbefcc81da003fc",
   "outputs": [
    {
     "name": "stdout",
     "output_type": "stream",
     "text": [
      "Percentatge de neoplàsia: 0.00%\n"
     ]
    }
   ],
   "execution_count": 138
  },
  {
   "metadata": {
    "ExecuteTime": {
     "end_time": "2024-04-19T12:38:25.157780Z",
     "start_time": "2024-04-19T12:38:25.153095Z"
    }
   },
   "cell_type": "code",
   "source": [
    "neopl_CON_PA_MECVV= (CON_PA_MECVV['neoplasias'] == 1.0).mean() * 100\n",
    "print(f\"Percentatge de neoplàsia: {neopl_CON_PA_MECVV:.2f}%\")"
   ],
   "id": "216d7eebaa16abc0",
   "outputs": [
    {
     "name": "stdout",
     "output_type": "stream",
     "text": [
      "Percentatge de neoplàsia: 0.00%\n"
     ]
    }
   ],
   "execution_count": 139
  },
  {
   "metadata": {
    "ExecuteTime": {
     "end_time": "2024-04-19T12:38:25.372239Z",
     "start_time": "2024-04-19T12:38:25.362124Z"
    }
   },
   "cell_type": "code",
   "source": [
    "neopl_SIN_PA= (SIN_PA['neoplasias'] == 1.0).mean() * 100\n",
    "print(f\"Percentatge de neoplàsia: {neopl_SIN_PA:.2f}%\")"
   ],
   "id": "380e87c3db7e8b7a",
   "outputs": [
    {
     "name": "stdout",
     "output_type": "stream",
     "text": [
      "Percentatge de neoplàsia: 6.12%\n"
     ]
    }
   ],
   "execution_count": 140
  },
  {
   "metadata": {},
   "cell_type": "markdown",
   "source": "#### Pvalor",
   "id": "338c0f6458d8be19"
  },
  {
   "metadata": {},
   "cell_type": "markdown",
   "source": "##### Normalitat",
   "id": "9377ac1a9f6dd002"
  },
  {
   "metadata": {
    "ExecuteTime": {
     "end_time": "2024-04-19T12:38:25.547811Z",
     "start_time": "2024-04-19T12:38:25.540793Z"
    }
   },
   "cell_type": "code",
   "source": [
    "stat, p_value = shapiro(CON_PA['neoplasias'])\n",
    "print(f\"Estadístic W = {stat:.4f}\")\n",
    "print(f\"Valor p = {p_value:.4f}\")\n",
    "\n",
    "alpha = 0.05\n",
    "if p_value < alpha:\n",
    "    print(\"El nombre de files no segueix una distribució normal.\")\n",
    "else:\n",
    "    print(\"El nombre de files segueix una distribució normal\")"
   ],
   "id": "7c858ee47d54bc43",
   "outputs": [
    {
     "name": "stdout",
     "output_type": "stream",
     "text": [
      "Estadístic W = 1.0000\n",
      "Valor p = 1.0000\n",
      "El nombre de files segueix una distribució normal\n"
     ]
    }
   ],
   "execution_count": 141
  },
  {
   "metadata": {
    "ExecuteTime": {
     "end_time": "2024-04-19T12:38:25.733889Z",
     "start_time": "2024-04-19T12:38:25.726616Z"
    }
   },
   "cell_type": "code",
   "source": [
    "stat, p_value = shapiro(CON_PA_MECVV['hepatopatias'])\n",
    "print(f\"Estadístic W = {stat:.4f}\")\n",
    "print(f\"Valor p = {p_value:.4f}\")\n",
    "\n",
    "alpha = 0.05\n",
    "if p_value < alpha:\n",
    "    print(\"El nombre de files no segueix una distribució normal.\")\n",
    "else:\n",
    "    print(\"El nombre de files segueix una distribució normal\")"
   ],
   "id": "dde37d63a9b667d",
   "outputs": [
    {
     "name": "stdout",
     "output_type": "stream",
     "text": [
      "Estadístic W = 0.3657\n",
      "Valor p = 0.0000\n",
      "El nombre de files no segueix una distribució normal.\n"
     ]
    }
   ],
   "execution_count": 142
  },
  {
   "metadata": {
    "ExecuteTime": {
     "end_time": "2024-04-19T12:38:25.904861Z",
     "start_time": "2024-04-19T12:38:25.899312Z"
    }
   },
   "cell_type": "code",
   "source": [
    "stat, p_value = shapiro(SIN_PA['hepatopatias'])\n",
    "print(f\"Estadístic W = {stat:.4f}\")\n",
    "print(f\"Valor p = {p_value:.4f}\")\n",
    "\n",
    "alpha = 0.05\n",
    "if p_value < alpha:\n",
    "    print(\"El nombre de files no segueix una distribució normal.\")\n",
    "else:\n",
    "    print(\"El nombre de files segueix una distribució normal\")"
   ],
   "id": "6bb78df14856b8f9",
   "outputs": [
    {
     "name": "stdout",
     "output_type": "stream",
     "text": [
      "Estadístic W = 0.2580\n",
      "Valor p = 0.0000\n",
      "El nombre de files no segueix una distribució normal.\n"
     ]
    }
   ],
   "execution_count": 143
  },
  {
   "metadata": {
    "ExecuteTime": {
     "end_time": "2024-04-19T12:38:26.068998Z",
     "start_time": "2024-04-19T12:38:26.060773Z"
    }
   },
   "cell_type": "code",
   "source": [
    "stat, p_value_12 = mannwhitneyu(CON_PA['neoplasias'], CON_PA_MECVV['neoplasias'], alternative='two-sided')\n",
    "print(\"P-valor entre CON_PA i CON_PA_MECVV\", p_value_12)"
   ],
   "id": "7e49acda243ca033",
   "outputs": [
    {
     "name": "stdout",
     "output_type": "stream",
     "text": [
      "P-valor entre CON_PA i CON_PA_MECVV 1.0\n"
     ]
    }
   ],
   "execution_count": 144
  },
  {
   "metadata": {
    "ExecuteTime": {
     "end_time": "2024-04-19T12:38:26.287763Z",
     "start_time": "2024-04-19T12:38:26.282096Z"
    }
   },
   "cell_type": "code",
   "source": [
    "stat, p_value_13 = mannwhitneyu(CON_PA['neoplasias'], SIN_PA['neoplasias'], alternative='two-sided')\n",
    "print(\"P-valor entre CON_PA i SIN_PA\", p_value_12)"
   ],
   "id": "19de53eaca6faf46",
   "outputs": [
    {
     "name": "stdout",
     "output_type": "stream",
     "text": [
      "P-valor entre CON_PA i SIN_PA 1.0\n"
     ]
    }
   ],
   "execution_count": 145
  },
  {
   "metadata": {
    "ExecuteTime": {
     "end_time": "2024-04-19T12:38:26.474344Z",
     "start_time": "2024-04-19T12:38:26.467025Z"
    }
   },
   "cell_type": "code",
   "source": [
    "stat, p_value_23 = mannwhitneyu(CON_PA_MECVV['neoplasias'], SIN_PA['neoplasias'], alternative='two-sided')\n",
    "print(\"P-valor entre CON_PA_MECVV i SIN_PA\", p_value_23)"
   ],
   "id": "d041e42afd281dba",
   "outputs": [
    {
     "name": "stdout",
     "output_type": "stream",
     "text": [
      "P-valor entre CON_PA_MECVV i SIN_PA 0.44143809205435813\n"
     ]
    }
   ],
   "execution_count": 146
  },
  {
   "metadata": {},
   "cell_type": "markdown",
   "source": "## Malaltia crònica renal (creatinina > 1.5mg/dL)",
   "id": "be977a70d2e9a7c"
  },
  {
   "metadata": {},
   "cell_type": "markdown",
   "source": "Donat que aquesta columna és de tipus objecte, primer la passaré a tipus numèric per poder operar amb ella",
   "id": "104b74d04d4f6f25"
  },
  {
   "metadata": {
    "ExecuteTime": {
     "end_time": "2024-04-19T12:38:26.685128Z",
     "start_time": "2024-04-19T12:38:26.677892Z"
    }
   },
   "cell_type": "code",
   "source": [
    "CON_PA.loc[:, 'creatinina'] = pd.to_numeric(CON_PA['creatinina'], errors='coerce')\n",
    "CON_PA_MECVV.loc[:, 'creatinina'] = pd.to_numeric(CON_PA_MECVV['creatinina'], errors='coerce')\n",
    "SIN_PA.loc[:, 'creatinina'] = pd.to_numeric(SIN_PA['creatinina'], errors='coerce')"
   ],
   "id": "44a54bc94beb324a",
   "outputs": [],
   "execution_count": 147
  },
  {
   "metadata": {
    "ExecuteTime": {
     "end_time": "2024-04-19T12:38:26.820272Z",
     "start_time": "2024-04-19T12:38:26.815300Z"
    }
   },
   "cell_type": "code",
   "source": [
    "ecr_CON_PA= (CON_PA['creatinina'] >= 1.5).mean() * 100\n",
    "print(f\"Percentatge de malaltia crònica renal amb creatinina >1.5: {ecr_CON_PA:.2f}%\")"
   ],
   "id": "1220b795ea747457",
   "outputs": [
    {
     "name": "stdout",
     "output_type": "stream",
     "text": [
      "Percentatge de malaltia crònica renal amb creatinina >1.5: 0.00%\n"
     ]
    }
   ],
   "execution_count": 148
  },
  {
   "metadata": {
    "ExecuteTime": {
     "end_time": "2024-04-19T12:38:27.021671Z",
     "start_time": "2024-04-19T12:38:27.015857Z"
    }
   },
   "cell_type": "code",
   "source": [
    "ecr_CON_PA_MECVV= (CON_PA_MECVV['creatinina'] > 1.5).mean() * 100\n",
    "print(f\"Percentatge de malaltia crònica renal amb creatinina >1.5: {ecr_CON_PA_MECVV:.2f}%\")"
   ],
   "id": "f33ab01070f387e4",
   "outputs": [
    {
     "name": "stdout",
     "output_type": "stream",
     "text": [
      "Percentatge de malaltia crònica renal amb creatinina >1.5: 0.00%\n"
     ]
    }
   ],
   "execution_count": 149
  },
  {
   "metadata": {
    "ExecuteTime": {
     "end_time": "2024-04-19T12:38:27.205564Z",
     "start_time": "2024-04-19T12:38:27.200666Z"
    }
   },
   "cell_type": "code",
   "source": [
    "ecr_SIN_PA= (SIN_PA['creatinina'] > 1.5).mean() * 100\n",
    "print(f\"Percentatge de malaltia crònica renal amb creatinina >1.5: {ecr_SIN_PA:.2f}%\")"
   ],
   "id": "f2a96ab467d4fa20",
   "outputs": [
    {
     "name": "stdout",
     "output_type": "stream",
     "text": [
      "Percentatge de malaltia crònica renal amb creatinina >1.5: 6.12%\n"
     ]
    }
   ],
   "execution_count": 150
  },
  {
   "metadata": {},
   "cell_type": "markdown",
   "source": "#### Pvalor",
   "id": "9a0ec8b221656a8a"
  },
  {
   "metadata": {},
   "cell_type": "markdown",
   "source": "##### Normalitat",
   "id": "d6ffad4c820486ed"
  },
  {
   "metadata": {
    "ExecuteTime": {
     "end_time": "2024-04-19T12:38:27.336526Z",
     "start_time": "2024-04-19T12:38:27.330089Z"
    }
   },
   "cell_type": "code",
   "source": [
    "stat, p_value = shapiro(CON_PA['creatinina'].dropna())\n",
    "print(f\"Estadístic W = {stat:.4f}\")\n",
    "print(f\"Valor p = {p_value:.4f}\")\n",
    "\n",
    "alpha = 0.05\n",
    "if p_value < alpha:\n",
    "    print(\"El nombre de files no segueix una distribució normal.\")\n",
    "else:\n",
    "    print(\"El nombre de files segueix una distribució normal\")"
   ],
   "id": "1f63051648a84697",
   "outputs": [
    {
     "name": "stdout",
     "output_type": "stream",
     "text": [
      "Estadístic W = 0.9549\n",
      "Valor p = 0.7439\n",
      "El nombre de files segueix una distribució normal\n"
     ]
    }
   ],
   "execution_count": 151
  },
  {
   "metadata": {
    "ExecuteTime": {
     "end_time": "2024-04-19T12:38:27.580912Z",
     "start_time": "2024-04-19T12:38:27.570613Z"
    }
   },
   "cell_type": "code",
   "source": [
    "stat, p_value = shapiro(CON_PA_MECVV['creatinina'].dropna())\n",
    "print(f\"Estadístic W = {stat:.4f}\")\n",
    "print(f\"Valor p = {p_value:.4f}\")\n",
    "\n",
    "alpha = 0.05\n",
    "if p_value < alpha:\n",
    "    print(\"El nombre de files no segueix una distribució normal.\")\n",
    "else:\n",
    "    print(\"El nombre de files segueix una distribució normal\")"
   ],
   "id": "dd791706071019a6",
   "outputs": [
    {
     "name": "stdout",
     "output_type": "stream",
     "text": [
      "Estadístic W = 0.9815\n",
      "Valor p = 0.9110\n",
      "El nombre de files segueix una distribució normal\n"
     ]
    }
   ],
   "execution_count": 152
  },
  {
   "metadata": {
    "ExecuteTime": {
     "end_time": "2024-04-19T12:38:27.732820Z",
     "start_time": "2024-04-19T12:38:27.726017Z"
    }
   },
   "cell_type": "code",
   "source": [
    "stat, p_value = shapiro(SIN_PA['creatinina'].dropna())\n",
    "print(f\"Estadístic W = {stat:.4f}\")\n",
    "print(f\"Valor p = {p_value:.4f}\")\n",
    "\n",
    "alpha = 0.05\n",
    "if p_value < alpha:\n",
    "    print(\"El nombre de files no segueix una distribució normal.\")\n",
    "else:\n",
    "    print(\"El nombre de files segueix una distribució normal\")"
   ],
   "id": "85df00a80ed67583",
   "outputs": [
    {
     "name": "stdout",
     "output_type": "stream",
     "text": [
      "Estadístic W = 0.7235\n",
      "Valor p = 0.0000\n",
      "El nombre de files no segueix una distribució normal.\n"
     ]
    }
   ],
   "execution_count": 153
  },
  {
   "metadata": {
    "ExecuteTime": {
     "end_time": "2024-04-19T12:38:27.878391Z",
     "start_time": "2024-04-19T12:38:27.872801Z"
    }
   },
   "cell_type": "code",
   "source": [
    "stat, p_value_12 = ttest_ind(CON_PA['creatinina'], CON_PA_MECVV['creatinina'], equal_var=False)\n",
    "print(\"P-valor entre CON_PA i CON_PA_MECVV\", p_value_12)"
   ],
   "id": "cf20863e3c24d450",
   "outputs": [
    {
     "name": "stdout",
     "output_type": "stream",
     "text": [
      "P-valor entre CON_PA i CON_PA_MECVV nan\n"
     ]
    }
   ],
   "execution_count": 154
  },
  {
   "metadata": {
    "ExecuteTime": {
     "end_time": "2024-04-19T12:38:27.985818Z",
     "start_time": "2024-04-19T12:38:27.980363Z"
    }
   },
   "cell_type": "code",
   "source": [
    "stat, p_value_13 = mannwhitneyu(CON_PA['creatinina'], SIN_PA['creatinina'], alternative='two-sided')\n",
    "print(\"P-valor entre CON_PA i SIN_PA\", p_value_13)"
   ],
   "id": "17e378b6adaccd52",
   "outputs": [
    {
     "name": "stdout",
     "output_type": "stream",
     "text": [
      "P-valor entre CON_PA i SIN_PA nan\n"
     ]
    }
   ],
   "execution_count": 155
  },
  {
   "metadata": {
    "ExecuteTime": {
     "end_time": "2024-04-19T12:38:28.233911Z",
     "start_time": "2024-04-19T12:38:28.223509Z"
    }
   },
   "cell_type": "code",
   "source": [
    "stat, p_value_23 = mannwhitneyu(CON_PA_MECVV['creatinina'], SIN_PA['creatinina'], alternative='two-sided')\n",
    "print(\"P-valor entre CON_PA_MECVV i SIN_PA\", p_value_23)"
   ],
   "id": "4d738444b5cc0416",
   "outputs": [
    {
     "name": "stdout",
     "output_type": "stream",
     "text": [
      "P-valor entre CON_PA_MECVV i SIN_PA nan\n"
     ]
    }
   ],
   "execution_count": 156
  },
  {
   "metadata": {},
   "cell_type": "markdown",
   "source": "## Fallida renal aguda (o insuficiència renal aguda)",
   "id": "2a45b7c462b693cc"
  },
  {
   "metadata": {
    "ExecuteTime": {
     "end_time": "2024-04-19T12:38:28.357411Z",
     "start_time": "2024-04-19T12:38:28.349852Z"
    }
   },
   "cell_type": "code",
   "source": [
    "ira_CON_PA= (CON_PA['ARF'] == 1.0).mean() * 100\n",
    "print(f\"Percentatge de fallida renal aguda: {ira_CON_PA:.2f}%\")"
   ],
   "id": "bf4cb3020f4ab65",
   "outputs": [
    {
     "name": "stdout",
     "output_type": "stream",
     "text": [
      "Percentatge de fallida renal aguda: 23.53%\n"
     ]
    }
   ],
   "execution_count": 157
  },
  {
   "metadata": {
    "ExecuteTime": {
     "end_time": "2024-04-19T12:38:28.552818Z",
     "start_time": "2024-04-19T12:38:28.548115Z"
    }
   },
   "cell_type": "code",
   "source": [
    "ira_CON_PA_MECVV= (CON_PA_MECVV['ARF'] == 1.0).mean() * 100\n",
    "print(f\"Percentatge de fallida renal aguda: {ira_CON_PA_MECVV:.2f}%\")"
   ],
   "id": "694f049952ae8d4f",
   "outputs": [
    {
     "name": "stdout",
     "output_type": "stream",
     "text": [
      "Percentatge de fallida renal aguda: 50.00%\n"
     ]
    }
   ],
   "execution_count": 158
  },
  {
   "metadata": {
    "ExecuteTime": {
     "end_time": "2024-04-19T12:38:28.724328Z",
     "start_time": "2024-04-19T12:38:28.718634Z"
    }
   },
   "cell_type": "code",
   "source": [
    "ira_SIN_PA= (SIN_PA['ARF'] == 1.0).mean() * 100\n",
    "print(f\"Percentatge de fallida renal aguda: {ira_SIN_PA:.2f}%\")"
   ],
   "id": "d9da03942f97e9ff",
   "outputs": [
    {
     "name": "stdout",
     "output_type": "stream",
     "text": [
      "Percentatge de fallida renal aguda: 26.53%\n"
     ]
    }
   ],
   "execution_count": 159
  },
  {
   "metadata": {},
   "cell_type": "markdown",
   "source": "#### Pvalor",
   "id": "fa90e43bd79a9017"
  },
  {
   "metadata": {},
   "cell_type": "markdown",
   "source": "##### Normalitat",
   "id": "ab080f83d40e2433"
  },
  {
   "metadata": {
    "ExecuteTime": {
     "end_time": "2024-04-19T12:38:28.910926Z",
     "start_time": "2024-04-19T12:38:28.904399Z"
    }
   },
   "cell_type": "code",
   "source": [
    "stat, p_value = shapiro(CON_PA['ARF'])\n",
    "print(f\"Estadístic W = {stat:.4f}\")\n",
    "print(f\"Valor p = {p_value:.4f}\")\n",
    "\n",
    "alpha = 0.05\n",
    "if p_value < alpha:\n",
    "    print(\"El nombre de files no segueix una distribució normal.\")\n",
    "else:\n",
    "    print(\"El nombre de files segueix una distribució normal\")"
   ],
   "id": "889a0951b2fe1cd5",
   "outputs": [
    {
     "name": "stdout",
     "output_type": "stream",
     "text": [
      "Estadístic W = 0.5327\n",
      "Valor p = 0.0000\n",
      "El nombre de files no segueix una distribució normal.\n"
     ]
    }
   ],
   "execution_count": 160
  },
  {
   "metadata": {
    "ExecuteTime": {
     "end_time": "2024-04-19T12:38:29.050769Z",
     "start_time": "2024-04-19T12:38:29.045055Z"
    }
   },
   "cell_type": "code",
   "source": [
    "stat, p_value = shapiro(CON_PA_MECVV['ARF'])\n",
    "print(f\"Estadístic W = {stat:.4f}\")\n",
    "print(f\"Valor p = {p_value:.4f}\")\n",
    "\n",
    "alpha = 0.05\n",
    "if p_value < alpha:\n",
    "    print(\"El nombre de files no segueix una distribució normal.\")\n",
    "else:\n",
    "    print(\"El nombre de files segueix una distribució normal\")"
   ],
   "id": "d9b63b5fd8da70fb",
   "outputs": [
    {
     "name": "stdout",
     "output_type": "stream",
     "text": [
      "Estadístic W = 0.6553\n",
      "Valor p = 0.0003\n",
      "El nombre de files no segueix una distribució normal.\n"
     ]
    }
   ],
   "execution_count": 161
  },
  {
   "metadata": {
    "ExecuteTime": {
     "end_time": "2024-04-19T12:38:29.288444Z",
     "start_time": "2024-04-19T12:38:29.279682Z"
    }
   },
   "cell_type": "code",
   "source": [
    "stat, p_value = shapiro(SIN_PA['ARF'])\n",
    "print(f\"Estadístic W = {stat:.4f}\")\n",
    "print(f\"Valor p = {p_value:.4f}\")\n",
    "\n",
    "alpha = 0.05\n",
    "if p_value < alpha:\n",
    "    print(\"El nombre de files no segueix una distribució normal.\")\n",
    "else:\n",
    "    print(\"El nombre de files segueix una distribució normal\")"
   ],
   "id": "c346c65e6b676207",
   "outputs": [
    {
     "name": "stdout",
     "output_type": "stream",
     "text": [
      "Estadístic W = 0.5514\n",
      "Valor p = 0.0000\n",
      "El nombre de files no segueix una distribució normal.\n"
     ]
    }
   ],
   "execution_count": 162
  },
  {
   "metadata": {
    "ExecuteTime": {
     "end_time": "2024-04-19T12:38:29.422812Z",
     "start_time": "2024-04-19T12:38:29.416238Z"
    }
   },
   "cell_type": "code",
   "source": [
    "stat, p_value_12 = mannwhitneyu(CON_PA['ARF'], CON_PA_MECVV['ARF'], alternative='two-sided')\n",
    "print(\"P-valor entre CON_PA i CON_PA_MECVV\", p_value_12)"
   ],
   "id": "a11f6f5322e507d3",
   "outputs": [
    {
     "name": "stdout",
     "output_type": "stream",
     "text": [
      "P-valor entre CON_PA i CON_PA_MECVV 0.17639454522781728\n"
     ]
    }
   ],
   "execution_count": 163
  },
  {
   "metadata": {
    "ExecuteTime": {
     "end_time": "2024-04-19T12:38:29.587337Z",
     "start_time": "2024-04-19T12:38:29.581866Z"
    }
   },
   "cell_type": "code",
   "source": [
    "stat, p_value_13 = mannwhitneyu(CON_PA['ARF'], SIN_PA['ARF'], alternative='two-sided')\n",
    "print(\"P-valor entre CON_PA i SIN_PA\", p_value_13)"
   ],
   "id": "9a5bbf6808c79243",
   "outputs": [
    {
     "name": "stdout",
     "output_type": "stream",
     "text": [
      "P-valor entre CON_PA i SIN_PA 0.8163159339942008\n"
     ]
    }
   ],
   "execution_count": 164
  },
  {
   "metadata": {
    "ExecuteTime": {
     "end_time": "2024-04-19T12:38:29.711410Z",
     "start_time": "2024-04-19T12:38:29.704869Z"
    }
   },
   "cell_type": "code",
   "source": [
    "stat, p_value_23 = mannwhitneyu(CON_PA_MECVV['ARF'], SIN_PA['ARF'], alternative='two-sided')\n",
    "print(\"P-valor entre CON_PA i SIN_PA\", p_value_23)"
   ],
   "id": "3825dfecd1188df7",
   "outputs": [
    {
     "name": "stdout",
     "output_type": "stream",
     "text": [
      "P-valor entre CON_PA i SIN_PA 0.14880872192595962\n"
     ]
    }
   ],
   "execution_count": 165
  },
  {
   "metadata": {},
   "cell_type": "markdown",
   "source": "## Marejos/síncope/lipotímia/reacció vasovagal",
   "id": "b569dbe66e8fcbe9"
  },
  {
   "metadata": {
    "ExecuteTime": {
     "end_time": "2024-04-19T12:38:29.861440Z",
     "start_time": "2024-04-19T12:38:29.855734Z"
    }
   },
   "cell_type": "code",
   "source": [
    "dizsyn_CON_PA= (CON_PA['mareos'] == 1.0).mean() * 100\n",
    "print(f\"Percentatge de marejos/síncope/lipotímia/reacció vasovagal: {dizsyn_CON_PA:.2f}%\")"
   ],
   "id": "50900335d331ab2",
   "outputs": [
    {
     "name": "stdout",
     "output_type": "stream",
     "text": [
      "Percentatge de marejos/síncope/lipotímia/reacció vasovagal: 0.00%\n"
     ]
    }
   ],
   "execution_count": 166
  },
  {
   "metadata": {
    "ExecuteTime": {
     "end_time": "2024-04-19T12:38:29.988272Z",
     "start_time": "2024-04-19T12:38:29.982269Z"
    }
   },
   "cell_type": "code",
   "source": [
    "dizsyn_CON_PA_MECVV= (CON_PA_MECVV['mareos'] == 1.0).mean() * 100\n",
    "print(f\"Percentatge de marejos/síncope/lipotímia/reacció vasovagal: {dizsyn_CON_PA_MECVV:.2f}%\")"
   ],
   "id": "9dc25d01f5293c9c",
   "outputs": [
    {
     "name": "stdout",
     "output_type": "stream",
     "text": [
      "Percentatge de marejos/síncope/lipotímia/reacció vasovagal: 0.00%\n"
     ]
    }
   ],
   "execution_count": 167
  },
  {
   "metadata": {
    "ExecuteTime": {
     "end_time": "2024-04-19T12:38:30.151850Z",
     "start_time": "2024-04-19T12:38:30.146789Z"
    }
   },
   "cell_type": "code",
   "source": [
    "dizsyn_SIN_PA= (SIN_PA['mareos'] == 1.0).mean() * 100\n",
    "print(f\"Percentatge de marejos/síncope/lipotímia/reacció vasovagal: {dizsyn_SIN_PA:.2f}%\")"
   ],
   "id": "6b9c3e73228189d5",
   "outputs": [
    {
     "name": "stdout",
     "output_type": "stream",
     "text": [
      "Percentatge de marejos/síncope/lipotímia/reacció vasovagal: 2.04%\n"
     ]
    }
   ],
   "execution_count": 168
  },
  {
   "metadata": {},
   "cell_type": "markdown",
   "source": "#### Pvalor",
   "id": "c2ea9a79012bd56"
  },
  {
   "metadata": {},
   "cell_type": "markdown",
   "source": "##### Normalitat",
   "id": "fd33a284918ec484"
  },
  {
   "metadata": {
    "ExecuteTime": {
     "end_time": "2024-04-19T12:38:30.243926Z",
     "start_time": "2024-04-19T12:38:30.237817Z"
    }
   },
   "cell_type": "code",
   "source": [
    "stat, p_value = shapiro(CON_PA['mareos'])\n",
    "print(f\"Estadístic W = {stat:.4f}\")\n",
    "print(f\"Valor p = {p_value:.4f}\")\n",
    "\n",
    "alpha = 0.05\n",
    "if p_value < alpha:\n",
    "    print(\"El nombre de files no segueix una distribució normal.\")\n",
    "else:\n",
    "    print(\"El nombre de files segueix una distribució normal\")"
   ],
   "id": "a0a14b919495d927",
   "outputs": [
    {
     "name": "stdout",
     "output_type": "stream",
     "text": [
      "Estadístic W = 1.0000\n",
      "Valor p = 1.0000\n",
      "El nombre de files segueix una distribució normal\n"
     ]
    }
   ],
   "execution_count": 169
  },
  {
   "metadata": {
    "ExecuteTime": {
     "end_time": "2024-04-19T12:38:30.351265Z",
     "start_time": "2024-04-19T12:38:30.345808Z"
    }
   },
   "cell_type": "code",
   "source": [
    "stat, p_value = shapiro(CON_PA_MECVV['mareos'])\n",
    "print(f\"Estadístic W = {stat:.4f}\")\n",
    "print(f\"Valor p = {p_value:.4f}\")\n",
    "\n",
    "alpha = 0.05\n",
    "if p_value < alpha:\n",
    "    print(\"El nombre de files no segueix una distribució normal.\")\n",
    "else:\n",
    "    print(\"El nombre de files segueix una distribució normal\")"
   ],
   "id": "f068a365916fbd97",
   "outputs": [
    {
     "name": "stdout",
     "output_type": "stream",
     "text": [
      "Estadístic W = 1.0000\n",
      "Valor p = 1.0000\n",
      "El nombre de files segueix una distribució normal\n"
     ]
    }
   ],
   "execution_count": 170
  },
  {
   "metadata": {
    "ExecuteTime": {
     "end_time": "2024-04-19T12:38:30.481279Z",
     "start_time": "2024-04-19T12:38:30.474888Z"
    }
   },
   "cell_type": "code",
   "source": [
    "stat, p_value = shapiro(SIN_PA['mareos'])\n",
    "print(f\"Estadístic W = {stat:.4f}\")\n",
    "print(f\"Valor p = {p_value:.4f}\")\n",
    "\n",
    "alpha = 0.05\n",
    "if p_value < alpha:\n",
    "    print(\"El nombre de files no segueix una distribució normal.\")\n",
    "else:\n",
    "    print(\"El nombre de files segueix una distribució normal\")"
   ],
   "id": "e1bac964bed45016",
   "outputs": [
    {
     "name": "stdout",
     "output_type": "stream",
     "text": [
      "Estadístic W = 0.1273\n",
      "Valor p = 0.0000\n",
      "El nombre de files no segueix una distribució normal.\n"
     ]
    }
   ],
   "execution_count": 171
  },
  {
   "metadata": {
    "ExecuteTime": {
     "end_time": "2024-04-19T12:38:30.605896Z",
     "start_time": "2024-04-19T12:38:30.598924Z"
    }
   },
   "cell_type": "code",
   "source": [
    "stat, p_value_12 = ttest_ind(CON_PA['mareos'], CON_PA_MECVV['mareos'], equal_var=False)\n",
    "print(\"P-valor entre CON_PA i CON_PA_MECVV\", p_value_12)"
   ],
   "id": "4426d7b16a9b9291",
   "outputs": [
    {
     "name": "stdout",
     "output_type": "stream",
     "text": [
      "P-valor entre CON_PA i CON_PA_MECVV nan\n"
     ]
    }
   ],
   "execution_count": 172
  },
  {
   "metadata": {
    "ExecuteTime": {
     "end_time": "2024-04-19T12:38:30.680379Z",
     "start_time": "2024-04-19T12:38:30.674416Z"
    }
   },
   "cell_type": "code",
   "source": [
    "stat, p_value_12 = mannwhitneyu(CON_PA['mareos'], CON_PA_MECVV['mareos'], alternative='two-sided')\n",
    "print(\"P-valor entre CON_PA i CON_PA_MECVV\", p_value_12)"
   ],
   "id": "84eb59ba6043afcb",
   "outputs": [
    {
     "name": "stdout",
     "output_type": "stream",
     "text": [
      "P-valor entre CON_PA i CON_PA_MECVV 1.0\n"
     ]
    }
   ],
   "execution_count": 173
  },
  {
   "metadata": {
    "ExecuteTime": {
     "end_time": "2024-04-19T12:38:30.830149Z",
     "start_time": "2024-04-19T12:38:30.823510Z"
    }
   },
   "cell_type": "code",
   "source": [
    "stat, p_value_13 = mannwhitneyu(CON_PA['mareos'], SIN_PA['mareos'], alternative='two-sided')\n",
    "print(\"P-valor entre CON_PA i SIN_PA\", p_value_13)"
   ],
   "id": "8f94410e3226384d",
   "outputs": [
    {
     "name": "stdout",
     "output_type": "stream",
     "text": [
      "P-valor entre CON_PA i SIN_PA 0.5793276078637376\n"
     ]
    }
   ],
   "execution_count": 174
  },
  {
   "metadata": {
    "ExecuteTime": {
     "end_time": "2024-04-19T12:38:30.937310Z",
     "start_time": "2024-04-19T12:38:30.929405Z"
    }
   },
   "cell_type": "code",
   "source": [
    "stat, p_value_23 = mannwhitneyu(CON_PA_MECVV['mareos'], SIN_PA['mareos'], alternative='two-sided')\n",
    "print(\"P-valor entre CON_PA_MECVV i SIN_PA\", p_value_23)"
   ],
   "id": "566ddfe9c415adf4",
   "outputs": [
    {
     "name": "stdout",
     "output_type": "stream",
     "text": [
      "P-valor entre CON_PA_MECVV i SIN_PA 0.6843175494727258\n"
     ]
    }
   ],
   "execution_count": 175
  },
  {
   "metadata": {},
   "cell_type": "markdown",
   "source": "## VIH",
   "id": "3e66ec61ceed6da8"
  },
  {
   "metadata": {
    "ExecuteTime": {
     "end_time": "2024-04-19T12:38:31.087438Z",
     "start_time": "2024-04-19T12:38:31.081970Z"
    }
   },
   "cell_type": "code",
   "source": [
    "vih_CON_PA= (CON_PA['VIH'] == 1.0).mean() * 100\n",
    "print(f\"Percentatge de VIH: {vih_CON_PA:.2f}%\")"
   ],
   "id": "6a922f8a8c8ce111",
   "outputs": [
    {
     "name": "stdout",
     "output_type": "stream",
     "text": [
      "Percentatge de VIH: 0.00%\n"
     ]
    }
   ],
   "execution_count": 176
  },
  {
   "metadata": {
    "ExecuteTime": {
     "end_time": "2024-04-19T12:38:31.180663Z",
     "start_time": "2024-04-19T12:38:31.175025Z"
    }
   },
   "cell_type": "code",
   "source": [
    "vih_CON_PA_MECVV= (CON_PA_MECVV['VIH'] == 1.0).mean() * 100\n",
    "print(f\"Percentatge de VIH: {vih_CON_PA_MECVV:.2f}%\")"
   ],
   "id": "aed182bc8140a8b3",
   "outputs": [
    {
     "name": "stdout",
     "output_type": "stream",
     "text": [
      "Percentatge de VIH: 0.00%\n"
     ]
    }
   ],
   "execution_count": 177
  },
  {
   "metadata": {
    "ExecuteTime": {
     "end_time": "2024-04-19T12:38:31.313108Z",
     "start_time": "2024-04-19T12:38:31.307114Z"
    }
   },
   "cell_type": "code",
   "source": [
    "vih_SIN_PA= (SIN_PA['VIH'] == 1.0).mean() * 100\n",
    "print(f\"Percentatge de VIH: {vih_SIN_PA:.2f}%\")"
   ],
   "id": "aa406ac4d4a53dc9",
   "outputs": [
    {
     "name": "stdout",
     "output_type": "stream",
     "text": [
      "Percentatge de VIH: 0.00%\n"
     ]
    }
   ],
   "execution_count": 178
  },
  {
   "metadata": {},
   "cell_type": "markdown",
   "source": "#### Pvalor",
   "id": "803ff9173540722b"
  },
  {
   "metadata": {},
   "cell_type": "markdown",
   "source": "##### Normalitat",
   "id": "b4620b0bb5bfa7f1"
  },
  {
   "metadata": {
    "ExecuteTime": {
     "end_time": "2024-04-19T12:38:31.394128Z",
     "start_time": "2024-04-19T12:38:31.388790Z"
    }
   },
   "cell_type": "code",
   "source": [
    "stat, p_value = shapiro(CON_PA['VIH'])\n",
    "print(f\"Estadístic W = {stat:.4f}\")\n",
    "print(f\"Valor p = {p_value:.4f}\")\n",
    "\n",
    "alpha = 0.05\n",
    "if p_value < alpha:\n",
    "    print(\"El nombre de files no segueix una distribució normal\")\n",
    "else:\n",
    "    print(\"El nombre de files segueix una distribució normal\")"
   ],
   "id": "9b5c458fd6b6ae37",
   "outputs": [
    {
     "name": "stdout",
     "output_type": "stream",
     "text": [
      "Estadístic W = 1.0000\n",
      "Valor p = 1.0000\n",
      "El nombre de files segueix una distribució normal\n"
     ]
    }
   ],
   "execution_count": 179
  },
  {
   "metadata": {
    "ExecuteTime": {
     "end_time": "2024-04-19T12:38:31.592311Z",
     "start_time": "2024-04-19T12:38:31.586151Z"
    }
   },
   "cell_type": "code",
   "source": [
    "stat, p_value = shapiro(CON_PA_MECVV['VIH'])\n",
    "print(f\"Estadístic W = {stat:.4f}\")\n",
    "print(f\"Valor p = {p_value:.4f}\")\n",
    "\n",
    "alpha = 0.05\n",
    "if p_value < alpha:\n",
    "    print(\"El nombre de files no segueix una distribució normal\")\n",
    "else:\n",
    "    print(\"El nombre de files segueix una distribució normal\")"
   ],
   "id": "9d0b581b09ddd6cc",
   "outputs": [
    {
     "name": "stdout",
     "output_type": "stream",
     "text": [
      "Estadístic W = 1.0000\n",
      "Valor p = 1.0000\n",
      "El nombre de files segueix una distribució normal\n"
     ]
    }
   ],
   "execution_count": 180
  },
  {
   "metadata": {
    "ExecuteTime": {
     "end_time": "2024-04-19T12:38:31.697879Z",
     "start_time": "2024-04-19T12:38:31.692709Z"
    }
   },
   "cell_type": "code",
   "source": [
    "stat, p_value = shapiro(SIN_PA['VIH'])\n",
    "print(f\"Estadístic W = {stat:.4f}\")\n",
    "print(f\"Valor p = {p_value:.4f}\")\n",
    "\n",
    "alpha = 0.05\n",
    "if p_value < alpha:\n",
    "    print(\"El nombre de files no segueix una distribució normal\")\n",
    "else:\n",
    "    print(\"El nombre de files segueix una distribució normal\")"
   ],
   "id": "5a093d029a89e644",
   "outputs": [
    {
     "name": "stdout",
     "output_type": "stream",
     "text": [
      "Estadístic W = 1.0000\n",
      "Valor p = 1.0000\n",
      "El nombre de files segueix una distribució normal\n"
     ]
    }
   ],
   "execution_count": 181
  },
  {
   "metadata": {
    "ExecuteTime": {
     "end_time": "2024-04-19T12:38:31.790746Z",
     "start_time": "2024-04-19T12:38:31.785099Z"
    }
   },
   "cell_type": "code",
   "source": "",
   "id": "ee8189c633ccd0bb",
   "outputs": [],
   "execution_count": 181
  },
  {
   "metadata": {
    "ExecuteTime": {
     "end_time": "2024-04-19T12:38:31.895273Z",
     "start_time": "2024-04-19T12:38:31.892585Z"
    }
   },
   "cell_type": "code",
   "source": "",
   "id": "ba89921208864d5f",
   "outputs": [],
   "execution_count": 181
  },
  {
   "metadata": {
    "ExecuteTime": {
     "end_time": "2024-04-19T12:38:31.972645Z",
     "start_time": "2024-04-19T12:38:31.969745Z"
    }
   },
   "cell_type": "code",
   "source": "",
   "id": "6bcc985f8b1b99e7",
   "outputs": [],
   "execution_count": 181
  },
  {
   "metadata": {},
   "cell_type": "markdown",
   "source": "## Psicosi",
   "id": "8e295a7fd16fa508"
  },
  {
   "metadata": {
    "ExecuteTime": {
     "end_time": "2024-04-19T12:38:32.066660Z",
     "start_time": "2024-04-19T12:38:32.061634Z"
    }
   },
   "cell_type": "code",
   "source": [
    "psi_CON_PA= (CON_PA['psicosis'] == 1.0).mean() * 100\n",
    "print(f\"Percentatge de psicosi: {vih_CON_PA:.2f}%\")"
   ],
   "id": "c159ff1483bdafb0",
   "outputs": [
    {
     "name": "stdout",
     "output_type": "stream",
     "text": [
      "Percentatge de psicosi: 0.00%\n"
     ]
    }
   ],
   "execution_count": 182
  },
  {
   "metadata": {
    "ExecuteTime": {
     "end_time": "2024-04-19T12:38:32.200005Z",
     "start_time": "2024-04-19T12:38:32.193210Z"
    }
   },
   "cell_type": "code",
   "source": [
    "psi_CON_PA_MECVV= (CON_PA_MECVV['psicosis'] == 1.0).mean() * 100\n",
    "print(f\"Percentatge de psicosi: {psi_CON_PA_MECVV:.2f}%\")"
   ],
   "id": "88916ff77b5a3557",
   "outputs": [
    {
     "name": "stdout",
     "output_type": "stream",
     "text": [
      "Percentatge de psicosi: 0.00%\n"
     ]
    }
   ],
   "execution_count": 183
  },
  {
   "metadata": {
    "ExecuteTime": {
     "end_time": "2024-04-19T12:38:32.291018Z",
     "start_time": "2024-04-19T12:38:32.285958Z"
    }
   },
   "cell_type": "code",
   "source": [
    "psi_SIN_PA= (SIN_PA['psicosis'] == 1.0).mean() * 100\n",
    "print(f\"Percentatge de psicosi: {psi_SIN_PA:.2f}%\")"
   ],
   "id": "7ce0057ef942886",
   "outputs": [
    {
     "name": "stdout",
     "output_type": "stream",
     "text": [
      "Percentatge de psicosi: 0.00%\n"
     ]
    }
   ],
   "execution_count": 184
  },
  {
   "metadata": {
    "ExecuteTime": {
     "end_time": "2024-04-19T12:38:32.402595Z",
     "start_time": "2024-04-19T12:38:32.399411Z"
    }
   },
   "cell_type": "code",
   "source": "",
   "id": "998491744b8998d1",
   "outputs": [],
   "execution_count": 184
  },
  {
   "metadata": {},
   "cell_type": "markdown",
   "source": "## Deficiències nutricionals",
   "id": "fd2da9ae3b318047"
  },
  {
   "metadata": {
    "ExecuteTime": {
     "end_time": "2024-04-19T12:38:32.495735Z",
     "start_time": "2024-04-19T12:38:32.491022Z"
    }
   },
   "cell_type": "code",
   "source": [
    "nutri_CON_PA= (CON_PA['def_nutri'] == 1.0).mean() * 100\n",
    "print(f\"Percentatge de deficiències nutricionals: {nutri_CON_PA:.2f}%\")"
   ],
   "id": "e841eb27b0ef04d7",
   "outputs": [
    {
     "name": "stdout",
     "output_type": "stream",
     "text": [
      "Percentatge de deficiències nutricionals: 0.00%\n"
     ]
    }
   ],
   "execution_count": 185
  },
  {
   "metadata": {
    "ExecuteTime": {
     "end_time": "2024-04-19T12:38:32.620673Z",
     "start_time": "2024-04-19T12:38:32.615336Z"
    }
   },
   "cell_type": "code",
   "source": [
    "nutri_CON_PA_MECVV= (CON_PA_MECVV['def_nutri'] == 1.0).mean() * 100\n",
    "print(f\"Percentatge de deficiències nutricionals: {nutri_CON_PA_MECVV:.2f}%\")"
   ],
   "id": "8776557d38ef8059",
   "outputs": [
    {
     "name": "stdout",
     "output_type": "stream",
     "text": [
      "Percentatge de deficiències nutricionals: 0.00%\n"
     ]
    }
   ],
   "execution_count": 186
  },
  {
   "metadata": {
    "ExecuteTime": {
     "end_time": "2024-04-19T12:38:32.750027Z",
     "start_time": "2024-04-19T12:38:32.745271Z"
    }
   },
   "cell_type": "code",
   "source": [
    "nutri_SIN_PA= (SIN_PA['def_nutri'] == 1.0).mean() * 100\n",
    "print(f\"Percentatge de deficiències nutricionals: {nutri_SIN_PA:.2f}%\")"
   ],
   "id": "958e8bc2ca4584c3",
   "outputs": [
    {
     "name": "stdout",
     "output_type": "stream",
     "text": [
      "Percentatge de deficiències nutricionals: 0.00%\n"
     ]
    }
   ],
   "execution_count": 187
  },
  {
   "metadata": {
    "ExecuteTime": {
     "end_time": "2024-04-19T12:38:32.904722Z",
     "start_time": "2024-04-19T12:38:32.902409Z"
    }
   },
   "cell_type": "code",
   "source": "",
   "id": "5cf9966775ed20fb",
   "outputs": [],
   "execution_count": 187
  }
 ],
 "metadata": {
  "kernelspec": {
   "display_name": "Python 3",
   "language": "python",
   "name": "python3"
  },
  "language_info": {
   "codemirror_mode": {
    "name": "ipython",
    "version": 2
   },
   "file_extension": ".py",
   "mimetype": "text/x-python",
   "name": "python",
   "nbconvert_exporter": "python",
   "pygments_lexer": "ipython2",
   "version": "2.7.6"
  }
 },
 "nbformat": 4,
 "nbformat_minor": 5
}
