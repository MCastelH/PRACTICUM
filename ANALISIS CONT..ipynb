{
 "cells": [
  {
   "cell_type": "code",
   "id": "initial_id",
   "metadata": {
    "collapsed": true,
    "ExecuteTime": {
     "end_time": "2024-04-19T11:37:41.411303Z",
     "start_time": "2024-04-19T11:37:41.244131Z"
    }
   },
   "source": [
    "import json\n",
    "import pandas as pd\n",
    "from datetime import datetime\n",
    "from listas import priorfalls_list, delirium_list, dementia_list, depresyndr_list, uriincont_list, fecincont_list, pressulc_list, osteopor_list, sarcopenia_list, sleepdisturb_list, chrpain_list, iatrog_list, constipation_list, CVdisease_list, heartdisease_list, ND_list, DM_list, hepatopat_list, neopl_list, AcuteRenalF_list, dizsyn_list, VIH_list, psicosis_list\n",
    "\n",
    "from auxiliary_functions import valores_codigos, contar_diccionarios, dias_ingreso_total, asignar_intervalo_edad, sumar_barthel, sumar_emina, obtener_ultimo_resultat, obtener_valor_promedio, canadenca_comparada, disfagia_mecvvs, extraer_valor_clave, extraer_valor_clave_simple\n",
    "\n",
    "tabla = pd.read_pickle('./data/processed/dataframe.pkl')\n",
    "import scipy.stats as stats\n",
    "from scipy.stats import ttest_ind\n",
    "from scipy.stats import shapiro\n",
    "from scipy.stats import mannwhitneyu\n",
    "from scipy.stats import chi2_contingency\n"
   ],
   "outputs": [],
   "execution_count": 523
  },
  {
   "metadata": {
    "ExecuteTime": {
     "end_time": "2024-04-19T11:37:42.597443Z",
     "start_time": "2024-04-19T11:37:42.395072Z"
    }
   },
   "cell_type": "code",
   "source": "tabla.head()",
   "id": "d7edd23ab31dcae8",
   "outputs": [
    {
     "data": {
      "text/plain": [
       "   edat sexe  visitaDietista  \\\n",
       "0    89    F               0   \n",
       "1    70    M               0   \n",
       "2    96    M               0   \n",
       "3    85    M               0   \n",
       "4    93    M               0   \n",
       "\n",
       "                                                labs  \\\n",
       "0                                                 []   \n",
       "1  [{'date': '20220524', 'name': 'PCR SARS-CoV2 S...   \n",
       "2                                                 []   \n",
       "3                                                 []   \n",
       "4  [{'date': '20220208', 'name': 'UREA Sèrum', 'l...   \n",
       "\n",
       "                                                 mna  \\\n",
       "0                                                 []   \n",
       "1                                                 []   \n",
       "2                                                 []   \n",
       "3                                                 []   \n",
       "4  [{'imc': '0', 'anorexia': '1', 'perduaPes': '1...   \n",
       "\n",
       "                                               emina canadenca  \\\n",
       "0  [{'activitat': '2', 'estatMental': '1', 'humit...        []   \n",
       "1  [{'activitat': '0', 'estatMental': '0', 'humit...        []   \n",
       "2  [{'activitat': '3', 'estatMental': '0', 'humit...        []   \n",
       "3  [{'activitat': '2', 'estatMental': '1', 'humit...        []   \n",
       "4  [{'activitat': '2', 'estatMental': '1', 'humit...        []   \n",
       "\n",
       "                                                 pes  \\\n",
       "0                                                 []   \n",
       "1  [{'valor': '64.7', 'data': '2022-10-04'}, {'va...   \n",
       "2                                                 []   \n",
       "3                                                 []   \n",
       "4  [{'valor': '49.900', 'data': '2022-06-02'}, {'...   \n",
       "\n",
       "                                                atcs  \\\n",
       "0  [{'codi': 'M01AE', 'dataInici': '2020-06-21 00...   \n",
       "1  [{'codi': 'C09AA', 'dataInici': '2021-05-26 00...   \n",
       "2  [{'codi': 'G04CA', 'dataInici': '2020-07-09 00...   \n",
       "3  [{'codi': 'G04CA', 'dataInici': '2020-07-15 00...   \n",
       "4  [{'codi': 'N02AA', 'dataInici': '2022-02-01 00...   \n",
       "\n",
       "                                              mecvvs  ...  \\\n",
       "0                                                 []  ...   \n",
       "1  [{'data': '20220930', 'pacientNoColabora': '',...  ...   \n",
       "2                                                 []  ...   \n",
       "3  [{'data': '20201204131810', 'disfagia': 'S', '...  ...   \n",
       "4  [{'data': '20220330172303', 'disfagiaConeguda'...  ...   \n",
       "\n",
       "                                            albumina  \\\n",
       "0                                               None   \n",
       "1                                                3.1   \n",
       "2                                               None   \n",
       "3                                               None   \n",
       "4  Proves afegides a un altre petició per extracc...   \n",
       "\n",
       "                                   proteinas totales    Hb  colesterol total  \\\n",
       "0                                               None  None              None   \n",
       "1                                                5.3  14.5             124.7   \n",
       "2                                               None  None              None   \n",
       "3                                               None  None              None   \n",
       "4  Proves afegides a un altre petició per extracc...     X              None   \n",
       "\n",
       "   leucos  limfos  prot C react  \\\n",
       "0    None    None          None   \n",
       "1       X    38.9         19.61   \n",
       "2    None    None          None   \n",
       "3    None    None          None   \n",
       "4       X       X          0.54   \n",
       "\n",
       "                                                urea  \\\n",
       "0                                               None   \n",
       "1                                               25.7   \n",
       "2                                               None   \n",
       "3                                               None   \n",
       "4  Proves afegides a un altre petició per extracc...   \n",
       "\n",
       "                                            FGE MDRD  \\\n",
       "0                                               None   \n",
       "1                                                >60   \n",
       "2                                               None   \n",
       "3                                               None   \n",
       "4  Proves afegides a un altre petició per extracc...   \n",
       "\n",
       "                                         FGE CDK-EPI  \n",
       "0                                               None  \n",
       "1                                                >90  \n",
       "2                                               None  \n",
       "3                                               None  \n",
       "4  Proves afegides a un altre petició per extracc...  \n",
       "\n",
       "[5 rows x 68 columns]"
      ],
      "text/html": [
       "<div>\n",
       "<style scoped>\n",
       "    .dataframe tbody tr th:only-of-type {\n",
       "        vertical-align: middle;\n",
       "    }\n",
       "\n",
       "    .dataframe tbody tr th {\n",
       "        vertical-align: top;\n",
       "    }\n",
       "\n",
       "    .dataframe thead th {\n",
       "        text-align: right;\n",
       "    }\n",
       "</style>\n",
       "<table border=\"1\" class=\"dataframe\">\n",
       "  <thead>\n",
       "    <tr style=\"text-align: right;\">\n",
       "      <th></th>\n",
       "      <th>edat</th>\n",
       "      <th>sexe</th>\n",
       "      <th>visitaDietista</th>\n",
       "      <th>labs</th>\n",
       "      <th>mna</th>\n",
       "      <th>emina</th>\n",
       "      <th>canadenca</th>\n",
       "      <th>pes</th>\n",
       "      <th>atcs</th>\n",
       "      <th>mecvvs</th>\n",
       "      <th>...</th>\n",
       "      <th>albumina</th>\n",
       "      <th>proteinas totales</th>\n",
       "      <th>Hb</th>\n",
       "      <th>colesterol total</th>\n",
       "      <th>leucos</th>\n",
       "      <th>limfos</th>\n",
       "      <th>prot C react</th>\n",
       "      <th>urea</th>\n",
       "      <th>FGE MDRD</th>\n",
       "      <th>FGE CDK-EPI</th>\n",
       "    </tr>\n",
       "  </thead>\n",
       "  <tbody>\n",
       "    <tr>\n",
       "      <th>0</th>\n",
       "      <td>89</td>\n",
       "      <td>F</td>\n",
       "      <td>0</td>\n",
       "      <td>[]</td>\n",
       "      <td>[]</td>\n",
       "      <td>[{'activitat': '2', 'estatMental': '1', 'humit...</td>\n",
       "      <td>[]</td>\n",
       "      <td>[]</td>\n",
       "      <td>[{'codi': 'M01AE', 'dataInici': '2020-06-21 00...</td>\n",
       "      <td>[]</td>\n",
       "      <td>...</td>\n",
       "      <td>None</td>\n",
       "      <td>None</td>\n",
       "      <td>None</td>\n",
       "      <td>None</td>\n",
       "      <td>None</td>\n",
       "      <td>None</td>\n",
       "      <td>None</td>\n",
       "      <td>None</td>\n",
       "      <td>None</td>\n",
       "      <td>None</td>\n",
       "    </tr>\n",
       "    <tr>\n",
       "      <th>1</th>\n",
       "      <td>70</td>\n",
       "      <td>M</td>\n",
       "      <td>0</td>\n",
       "      <td>[{'date': '20220524', 'name': 'PCR SARS-CoV2 S...</td>\n",
       "      <td>[]</td>\n",
       "      <td>[{'activitat': '0', 'estatMental': '0', 'humit...</td>\n",
       "      <td>[]</td>\n",
       "      <td>[{'valor': '64.7', 'data': '2022-10-04'}, {'va...</td>\n",
       "      <td>[{'codi': 'C09AA', 'dataInici': '2021-05-26 00...</td>\n",
       "      <td>[{'data': '20220930', 'pacientNoColabora': '',...</td>\n",
       "      <td>...</td>\n",
       "      <td>3.1</td>\n",
       "      <td>5.3</td>\n",
       "      <td>14.5</td>\n",
       "      <td>124.7</td>\n",
       "      <td>X</td>\n",
       "      <td>38.9</td>\n",
       "      <td>19.61</td>\n",
       "      <td>25.7</td>\n",
       "      <td>&gt;60</td>\n",
       "      <td>&gt;90</td>\n",
       "    </tr>\n",
       "    <tr>\n",
       "      <th>2</th>\n",
       "      <td>96</td>\n",
       "      <td>M</td>\n",
       "      <td>0</td>\n",
       "      <td>[]</td>\n",
       "      <td>[]</td>\n",
       "      <td>[{'activitat': '3', 'estatMental': '0', 'humit...</td>\n",
       "      <td>[]</td>\n",
       "      <td>[]</td>\n",
       "      <td>[{'codi': 'G04CA', 'dataInici': '2020-07-09 00...</td>\n",
       "      <td>[]</td>\n",
       "      <td>...</td>\n",
       "      <td>None</td>\n",
       "      <td>None</td>\n",
       "      <td>None</td>\n",
       "      <td>None</td>\n",
       "      <td>None</td>\n",
       "      <td>None</td>\n",
       "      <td>None</td>\n",
       "      <td>None</td>\n",
       "      <td>None</td>\n",
       "      <td>None</td>\n",
       "    </tr>\n",
       "    <tr>\n",
       "      <th>3</th>\n",
       "      <td>85</td>\n",
       "      <td>M</td>\n",
       "      <td>0</td>\n",
       "      <td>[]</td>\n",
       "      <td>[]</td>\n",
       "      <td>[{'activitat': '2', 'estatMental': '1', 'humit...</td>\n",
       "      <td>[]</td>\n",
       "      <td>[]</td>\n",
       "      <td>[{'codi': 'G04CA', 'dataInici': '2020-07-15 00...</td>\n",
       "      <td>[{'data': '20201204131810', 'disfagia': 'S', '...</td>\n",
       "      <td>...</td>\n",
       "      <td>None</td>\n",
       "      <td>None</td>\n",
       "      <td>None</td>\n",
       "      <td>None</td>\n",
       "      <td>None</td>\n",
       "      <td>None</td>\n",
       "      <td>None</td>\n",
       "      <td>None</td>\n",
       "      <td>None</td>\n",
       "      <td>None</td>\n",
       "    </tr>\n",
       "    <tr>\n",
       "      <th>4</th>\n",
       "      <td>93</td>\n",
       "      <td>M</td>\n",
       "      <td>0</td>\n",
       "      <td>[{'date': '20220208', 'name': 'UREA Sèrum', 'l...</td>\n",
       "      <td>[{'imc': '0', 'anorexia': '1', 'perduaPes': '1...</td>\n",
       "      <td>[{'activitat': '2', 'estatMental': '1', 'humit...</td>\n",
       "      <td>[]</td>\n",
       "      <td>[{'valor': '49.900', 'data': '2022-06-02'}, {'...</td>\n",
       "      <td>[{'codi': 'N02AA', 'dataInici': '2022-02-01 00...</td>\n",
       "      <td>[{'data': '20220330172303', 'disfagiaConeguda'...</td>\n",
       "      <td>...</td>\n",
       "      <td>Proves afegides a un altre petició per extracc...</td>\n",
       "      <td>Proves afegides a un altre petició per extracc...</td>\n",
       "      <td>X</td>\n",
       "      <td>None</td>\n",
       "      <td>X</td>\n",
       "      <td>X</td>\n",
       "      <td>0.54</td>\n",
       "      <td>Proves afegides a un altre petició per extracc...</td>\n",
       "      <td>Proves afegides a un altre petició per extracc...</td>\n",
       "      <td>Proves afegides a un altre petició per extracc...</td>\n",
       "    </tr>\n",
       "  </tbody>\n",
       "</table>\n",
       "<p>5 rows × 68 columns</p>\n",
       "</div>"
      ]
     },
     "execution_count": 524,
     "metadata": {},
     "output_type": "execute_result"
    }
   ],
   "execution_count": 524
  },
  {
   "metadata": {
    "ExecuteTime": {
     "end_time": "2024-04-19T11:37:43.277457Z",
     "start_time": "2024-04-19T11:37:43.222026Z"
    }
   },
   "cell_type": "code",
   "source": [
    "CON_PA = tabla[tabla[\"PA_diagnosticada\"] == 1.0]\n",
    "CON_PA_MECVV = tabla[\n",
    "    (tabla[\"P_diagnosticada\"] == 1.0) & (tabla[\"Dias_totales_ingresado\"] < 30) & (tabla[\"Disfagia_mecvvs\"] == 1.0) & (tabla[\"alteracioEficacia_mecvvs\"] == 1.0) |\n",
    "    (tabla[\"P_diagnosticada\"] == 1.0) & (tabla[\"Dias_totales_ingresado\"] < 30) & (tabla[\"Disfagia_mecvvs\"] == 1.0) & (tabla[\"alteracioSeguretat_mecvvs\"] == 1.0)]   \n",
    "SIN_PA = tabla[\n",
    "          (tabla[\"P_diagnosticada\"] == 1.0) |\n",
    "          (tabla[\"P_diagnosticada\"] == 1.0) & (tabla[\"Disfagia_mecvvs\"] == 1.0) & (tabla[\"alteracioEficacia_mecvvs\"] == 1.0) & (tabla[\"Dias_totales_ingresado\"] > 30) |\n",
    "          (tabla[\"P_diagnosticada\"] == 1.0) & (tabla[\"Disfagia_mecvvs\"] == 1.0) & (tabla[\"alteracioSeguretat_mecvvs\"] == 1.0) & (tabla[\"Dias_totales_ingresado\"] > 30)]"
   ],
   "id": "66ee0565100b2096",
   "outputs": [],
   "execution_count": 525
  },
  {
   "metadata": {},
   "cell_type": "markdown",
   "source": "# Síndromes geriàtrics",
   "id": "89fbabd4869d9b6e"
  },
  {
   "metadata": {},
   "cell_type": "markdown",
   "source": "## Index de Charslton",
   "id": "26d9f063eaf602a8"
  },
  {
   "metadata": {},
   "cell_type": "code",
   "outputs": [],
   "execution_count": null,
   "source": "",
   "id": "b5b2205f3b3c898f"
  },
  {
   "metadata": {},
   "cell_type": "markdown",
   "source": "## Caigudes prèvies",
   "id": "964c785479e0467b"
  },
  {
   "metadata": {
    "ExecuteTime": {
     "end_time": "2024-04-19T11:37:43.865624Z",
     "start_time": "2024-04-19T11:37:43.823356Z"
    }
   },
   "cell_type": "code",
   "source": [
    "caprev_CON_PA= (CON_PA['caidas_previas'] == 1.0).mean() * 100\n",
    "print(f\"Percentatge de caigudes prèvies: {caprev_CON_PA:.2f}%\")"
   ],
   "id": "50df5ada3ce5ed0e",
   "outputs": [
    {
     "name": "stdout",
     "output_type": "stream",
     "text": [
      "Percentatge de caidas previas: 5.88%\n"
     ]
    }
   ],
   "execution_count": 526
  },
  {
   "metadata": {
    "ExecuteTime": {
     "end_time": "2024-04-19T11:37:44.753711Z",
     "start_time": "2024-04-19T11:37:44.747285Z"
    }
   },
   "cell_type": "code",
   "source": [
    "caprev_CON_PA_MECVV= (CON_PA_MECVV['caidas_previas'] == 1.0).mean() * 100\n",
    "print(f\"Percentatge de caigudes prèvies: {caprev_CON_PA_MECVV:.2f}%\")"
   ],
   "id": "1ee91988879aa087",
   "outputs": [
    {
     "name": "stdout",
     "output_type": "stream",
     "text": [
      "Percentatge de caidas previas: 0.00%\n"
     ]
    }
   ],
   "execution_count": 527
  },
  {
   "metadata": {
    "ExecuteTime": {
     "end_time": "2024-04-19T11:37:45.623134Z",
     "start_time": "2024-04-19T11:37:45.615889Z"
    }
   },
   "cell_type": "code",
   "source": [
    "caprev_SIN_PA= (SIN_PA['caidas_previas'] == 1.0).mean() * 100\n",
    "print(f\"Percentatge de caigudes prèvies: {caprev_SIN_PA:.2f}%\")"
   ],
   "id": "4d2cb240e1f7b6f7",
   "outputs": [
    {
     "name": "stdout",
     "output_type": "stream",
     "text": [
      "Percentatge de caidas previas: 6.12%\n"
     ]
    }
   ],
   "execution_count": 528
  },
  {
   "metadata": {},
   "cell_type": "markdown",
   "source": "#### Pvalor",
   "id": "35b8e447e15084e7"
  },
  {
   "metadata": {},
   "cell_type": "markdown",
   "source": "##### Normalitat",
   "id": "bce617253d59df63"
  },
  {
   "metadata": {
    "ExecuteTime": {
     "end_time": "2024-04-19T11:37:46.631938Z",
     "start_time": "2024-04-19T11:37:46.618539Z"
    }
   },
   "cell_type": "code",
   "source": [
    "stat, p_value = shapiro(CON_PA['caidas_previas'])\n",
    "print(f\"Estadístic W = {stat:.4f}\")\n",
    "print(f\"Valor p = {p_value:.4f}\")\n",
    "\n",
    "alpha = 0.05\n",
    "if p_value < alpha:\n",
    "    print(\"El nombre de files no segueix una distribució normal.\")\n",
    "else:\n",
    "    print(\"El nombre de files segueix una distribució normal\")"
   ],
   "id": "ef85d9181f822b14",
   "outputs": [
    {
     "name": "stdout",
     "output_type": "stream",
     "text": [
      "Estadístico W = 0.2622\n",
      "Valor p = 0.0000\n",
      "El número de filas no sigue una distribución normal (rechazar H0).\n"
     ]
    }
   ],
   "execution_count": 529
  },
  {
   "metadata": {
    "ExecuteTime": {
     "end_time": "2024-04-19T11:37:47.201666Z",
     "start_time": "2024-04-19T11:37:47.186730Z"
    }
   },
   "cell_type": "code",
   "source": [
    "stat, p_value = shapiro(CON_PA_MECVV['caidas_previas'])\n",
    "print(f\"Estadístic W = {stat:.4f}\")\n",
    "print(f\"Valor p = {p_value:.4f}\")\n",
    "\n",
    "alpha = 0.05\n",
    "if p_value < alpha:\n",
    "    print(\"El nombre de files no segueix una distribució normal.\")\n",
    "else:\n",
    "    print(\"El nombre de files segueix una distribució normal\")"
   ],
   "id": "73fc0a6f9756c13",
   "outputs": [
    {
     "name": "stdout",
     "output_type": "stream",
     "text": [
      "Estadístico W = 1.0000\n",
      "Valor p = 1.0000\n",
      "El número de filas sigue una distribución normal (aceptar H0).\n"
     ]
    },
    {
     "name": "stderr",
     "output_type": "stream",
     "text": [
      "C:\\Users\\maria\\PycharmProjects\\practicum\\.venv\\Lib\\site-packages\\scipy\\stats\\_axis_nan_policy.py:531: UserWarning: scipy.stats.shapiro: Input data has range zero. The results may not be accurate.\n",
      "  res = hypotest_fun_out(*samples, **kwds)\n"
     ]
    }
   ],
   "execution_count": 530
  },
  {
   "metadata": {
    "ExecuteTime": {
     "end_time": "2024-04-19T11:37:47.912250Z",
     "start_time": "2024-04-19T11:37:47.904688Z"
    }
   },
   "cell_type": "code",
   "source": [
    "stat, p_value = shapiro(SIN_PA['DO_diagnosticada'])\n",
    "print(f\"Estadístic W = {stat:.4f}\")\n",
    "print(f\"Valor p = {p_value:.4f}\")\n",
    "\n",
    "alpha = 0.05\n",
    "if p_value < alpha:\n",
    "    print(\"El nombre de files no segueix una distribució normal.\")\n",
    "else:\n",
    "    print(\"El nombre de files segueix una distribució normal\")"
   ],
   "id": "9dd4c0120e9dfe83",
   "outputs": [
    {
     "name": "stdout",
     "output_type": "stream",
     "text": [
      "Estadístico W = 0.4716\n",
      "Valor p = 0.0000\n",
      "El número de filas no sigue una distribución normal (rechazar H0).\n"
     ]
    }
   ],
   "execution_count": 531
  },
  {
   "metadata": {
    "ExecuteTime": {
     "end_time": "2024-04-19T11:37:48.518955Z",
     "start_time": "2024-04-19T11:37:48.452245Z"
    }
   },
   "cell_type": "code",
   "source": [
    "stat, p_value_12 = mannwhitneyu(CON_PA['caidas_previas'], CON_PA_MECVV['caidas_previas'], alternative='two-sided')\n",
    "print(\"P-valor entre CON_PA i CON_PA_MECVV\", p_value_12)"
   ],
   "id": "4c41e8420ecd54f3",
   "outputs": [
    {
     "name": "stdout",
     "output_type": "stream",
     "text": [
      "P-valor entre CON_PA i CON_PA_MECVV 0.49002535950179893\n"
     ]
    }
   ],
   "execution_count": 532
  },
  {
   "metadata": {
    "ExecuteTime": {
     "end_time": "2024-04-19T11:37:49.182104Z",
     "start_time": "2024-04-19T11:37:49.175721Z"
    }
   },
   "cell_type": "code",
   "source": [
    "stat, p_value_13 = mannwhitneyu(CON_PA['caidas_previas'], SIN_PA['caidas_previas'], alternative='two-sided')\n",
    "print(\"P-valor entre CON_PA i SIN_PA\", p_value_13)"
   ],
   "id": "d3a50234b5a6775",
   "outputs": [
    {
     "name": "stdout",
     "output_type": "stream",
     "text": [
      "P-valor entre CON_PA i SIN_PA 0.9858477456716862\n"
     ]
    }
   ],
   "execution_count": 533
  },
  {
   "metadata": {
    "ExecuteTime": {
     "end_time": "2024-04-19T11:37:49.765226Z",
     "start_time": "2024-04-19T11:37:49.719911Z"
    }
   },
   "cell_type": "code",
   "source": [
    "stat, p_value_23 = mannwhitneyu(CON_PA_MECVV['caidas_previas'], SIN_PA['caidas_previas'], alternative='two-sided')\n",
    "print(\"P-valor entre CON_PA_MECVV i SIN_PA\", p_value_23)"
   ],
   "id": "13c44b65ff0399ca",
   "outputs": [
    {
     "name": "stdout",
     "output_type": "stream",
     "text": [
      "P-valor entre CON_PA_MECVV i SIN_PA 0.44143809205435813\n"
     ]
    }
   ],
   "execution_count": 534
  },
  {
   "metadata": {},
   "cell_type": "markdown",
   "source": "## Deliris",
   "id": "c7aad4b1d580111"
  },
  {
   "metadata": {
    "ExecuteTime": {
     "end_time": "2024-04-19T11:37:50.607494Z",
     "start_time": "2024-04-19T11:37:50.601211Z"
    }
   },
   "cell_type": "code",
   "source": [
    "del_CON_PA= (CON_PA['delirios'] == 1.0).mean() * 100\n",
    "print(f\"Percentatge de deliris: {del_CON_PA:.2f}%\")"
   ],
   "id": "4457a2a3dfc7a9de",
   "outputs": [
    {
     "name": "stdout",
     "output_type": "stream",
     "text": [
      "Percentatge de delirios: 23.53%\n"
     ]
    }
   ],
   "execution_count": 535
  },
  {
   "metadata": {
    "ExecuteTime": {
     "end_time": "2024-04-19T11:37:51.474732Z",
     "start_time": "2024-04-19T11:37:51.467520Z"
    }
   },
   "cell_type": "code",
   "source": [
    "del_CON_PA_MECVV= (CON_PA_MECVV['delirios'] == 1.0).mean() * 100\n",
    "print(f\"Percentatge de deliris: {del_CON_PA_MECVV:.2f}%\")"
   ],
   "id": "5ae56c8f83586838",
   "outputs": [
    {
     "name": "stdout",
     "output_type": "stream",
     "text": [
      "Percentatge de delirios: 40.00%\n"
     ]
    }
   ],
   "execution_count": 536
  },
  {
   "metadata": {
    "ExecuteTime": {
     "end_time": "2024-04-19T11:37:52.033403Z",
     "start_time": "2024-04-19T11:37:52.023394Z"
    }
   },
   "cell_type": "code",
   "source": [
    "del_SIN_PA= (SIN_PA['delirios'] == 1.0).mean() * 100\n",
    "print(f\"Percentatge de deliris: {del_SIN_PA:.2f}%\")"
   ],
   "id": "9e44418c6cf03004",
   "outputs": [
    {
     "name": "stdout",
     "output_type": "stream",
     "text": [
      "Percentatge de delirios: 18.37%\n"
     ]
    }
   ],
   "execution_count": 537
  },
  {
   "metadata": {},
   "cell_type": "markdown",
   "source": "#### Pvalor",
   "id": "5fc877d47e55c507"
  },
  {
   "metadata": {},
   "cell_type": "markdown",
   "source": "##### Normalitat",
   "id": "c8d1814752edcd36"
  },
  {
   "metadata": {
    "ExecuteTime": {
     "end_time": "2024-04-19T11:37:52.835388Z",
     "start_time": "2024-04-19T11:37:52.826435Z"
    }
   },
   "cell_type": "code",
   "source": [
    "stat, p_value = shapiro(CON_PA['delirios'])\n",
    "print(f\"Estadístic W = {stat:.4f}\")\n",
    "print(f\"Valor p = {p_value:.4f}\")\n",
    "\n",
    "alpha = 0.05\n",
    "if p_value < alpha:\n",
    "    print(\"El nombre de files no segueix una distribució normal.\")\n",
    "else:\n",
    "    print(\"El nombre de files segueix una distribució normal\")"
   ],
   "id": "d59012cfb049a4b1",
   "outputs": [
    {
     "name": "stdout",
     "output_type": "stream",
     "text": [
      "Estadístico W = 0.5327\n",
      "Valor p = 0.0000\n",
      "El número de filas no sigue una distribución normal (rechazar H0).\n"
     ]
    }
   ],
   "execution_count": 538
  },
  {
   "metadata": {
    "ExecuteTime": {
     "end_time": "2024-04-19T11:37:55.426377Z",
     "start_time": "2024-04-19T11:37:55.418859Z"
    }
   },
   "cell_type": "code",
   "source": [
    "stat, p_value = shapiro(CON_PA_MECVV['delirios'])\n",
    "print(f\"Estadístic W = {stat:.4f}\")\n",
    "print(f\"Valor p = {p_value:.4f}\")\n",
    "\n",
    "alpha = 0.05\n",
    "if p_value < alpha:\n",
    "    print(\"El nombre de files no segueix una distribució normal.\")\n",
    "else:\n",
    "    print(\"El nombre de files segueix una distribució normal\")"
   ],
   "id": "946b43e2ab447ace",
   "outputs": [
    {
     "name": "stdout",
     "output_type": "stream",
     "text": [
      "Estadístico W = 0.6405\n",
      "Valor p = 0.0002\n",
      "El número de filas no sigue una distribución normal (rechazar H0).\n"
     ]
    }
   ],
   "execution_count": 539
  },
  {
   "metadata": {
    "ExecuteTime": {
     "end_time": "2024-04-19T11:37:56.216987Z",
     "start_time": "2024-04-19T11:37:56.211048Z"
    }
   },
   "cell_type": "code",
   "source": [
    "stat, p_value = shapiro(SIN_PA['delirios'])\n",
    "print(f\"Estadístic W = {stat:.4f}\")\n",
    "print(f\"Valor p = {p_value:.4f}\")\n",
    "\n",
    "alpha = 0.05\n",
    "if p_value < alpha:\n",
    "    print(\"El nombre de files no segueix una distribució normal.\")\n",
    "else:\n",
    "    print(\"El nombre de files segueix una distribució normal\")"
   ],
   "id": "268335d184f2afbe",
   "outputs": [
    {
     "name": "stdout",
     "output_type": "stream",
     "text": [
      "Estadístico W = 0.4716\n",
      "Valor p = 0.0000\n",
      "El número de filas no sigue una distribución normal (rechazar H0).\n"
     ]
    }
   ],
   "execution_count": 540
  },
  {
   "metadata": {
    "ExecuteTime": {
     "end_time": "2024-04-19T11:37:57.115351Z",
     "start_time": "2024-04-19T11:37:57.071687Z"
    }
   },
   "cell_type": "code",
   "source": [
    "stat, p_value_12 = mannwhitneyu(CON_PA['delirios'], CON_PA_MECVV['delirios'], alternative='two-sided')\n",
    "print(\"P-valor entre CON_PA i CON_PA_MECVV\", p_value_12)"
   ],
   "id": "1b311cc28de8fcd3",
   "outputs": [
    {
     "name": "stdout",
     "output_type": "stream",
     "text": [
      "P-valor entre CON_PA i CON_PA_MECVV 0.39174655228054167\n"
     ]
    }
   ],
   "execution_count": 541
  },
  {
   "metadata": {
    "ExecuteTime": {
     "end_time": "2024-04-19T11:37:57.672313Z",
     "start_time": "2024-04-19T11:37:57.664853Z"
    }
   },
   "cell_type": "code",
   "source": [
    "stat, p_value_13 = mannwhitneyu(CON_PA['delirios'], SIN_PA['delirios'], alternative='two-sided')\n",
    "print(\"P-valor entre CON_PA i SIN_PA\", p_value_13)"
   ],
   "id": "ea1a6301c3ec1b28",
   "outputs": [
    {
     "name": "stdout",
     "output_type": "stream",
     "text": [
      "P-valor entre CON_PA i SIN_PA 0.6549000779898075\n"
     ]
    }
   ],
   "execution_count": 542
  },
  {
   "metadata": {
    "ExecuteTime": {
     "end_time": "2024-04-19T11:37:58.372991Z",
     "start_time": "2024-04-19T11:37:58.363972Z"
    }
   },
   "cell_type": "code",
   "source": [
    "stat, p_value_23 = mannwhitneyu(CON_PA_MECVV['delirios'], SIN_PA['delirios'], alternative='two-sided')\n",
    "print(\"P-valor entre CON_PA_MECVV i SIN_PA\", p_value_23)"
   ],
   "id": "68c1f5ee2e2f63e3",
   "outputs": [
    {
     "name": "stdout",
     "output_type": "stream",
     "text": [
      "P-valor entre CON_PA_MECVV i SIN_PA 0.13960802912048415\n"
     ]
    }
   ],
   "execution_count": 543
  },
  {
   "metadata": {},
   "cell_type": "markdown",
   "source": "## Demència",
   "id": "16a14a68a193ae88"
  },
  {
   "metadata": {
    "ExecuteTime": {
     "end_time": "2024-04-19T11:37:58.935036Z",
     "start_time": "2024-04-19T11:37:58.928459Z"
    }
   },
   "cell_type": "code",
   "source": [
    "dem_CON_PA= (CON_PA['demència'] == 1.0).mean() * 100\n",
    "print(f\"Percentatge de demència: {dem_CON_PA:.2f}%\")"
   ],
   "id": "89610b223216b432",
   "outputs": [
    {
     "name": "stdout",
     "output_type": "stream",
     "text": [
      "Percentatge de demencia: 47.06%\n"
     ]
    }
   ],
   "execution_count": 544
  },
  {
   "metadata": {
    "ExecuteTime": {
     "end_time": "2024-04-19T11:37:59.428252Z",
     "start_time": "2024-04-19T11:37:59.382545Z"
    }
   },
   "cell_type": "code",
   "source": [
    "dem_CON_PA_MECVV= (CON_PA_MECVV['demència'] == 1.0).mean() * 100\n",
    "print(f\"Percentatge de demència: {dem_CON_PA_MECVV:.2f}%\")"
   ],
   "id": "6973d5742c346036",
   "outputs": [
    {
     "name": "stdout",
     "output_type": "stream",
     "text": [
      "Percentatge de demencia: 40.00%\n"
     ]
    }
   ],
   "execution_count": 545
  },
  {
   "metadata": {
    "ExecuteTime": {
     "end_time": "2024-04-19T11:38:00.043121Z",
     "start_time": "2024-04-19T11:38:00.036866Z"
    }
   },
   "cell_type": "code",
   "source": [
    "dem_SIN_PA= (SIN_PA['demència'] == 1.0).mean() * 100\n",
    "print(f\"Percentatge de demència: {dem_SIN_PA:.2f}%\")"
   ],
   "id": "3957a273bbf5cf16",
   "outputs": [
    {
     "name": "stdout",
     "output_type": "stream",
     "text": [
      "Percentatge de demencia: 30.61%\n"
     ]
    }
   ],
   "execution_count": 546
  },
  {
   "metadata": {},
   "cell_type": "markdown",
   "source": "#### Pvalor",
   "id": "2a5e901fb09a4fea"
  },
  {
   "metadata": {},
   "cell_type": "markdown",
   "source": "##### Normalitat",
   "id": "4d9eea90d8ee4a6b"
  },
  {
   "metadata": {
    "ExecuteTime": {
     "end_time": "2024-04-19T11:38:00.954581Z",
     "start_time": "2024-04-19T11:38:00.947370Z"
    }
   },
   "cell_type": "code",
   "source": [
    "stat, p_value = shapiro(CON_PA['demència'])\n",
    "print(f\"Estadístic W = {stat:.4f}\")\n",
    "print(f\"Valor p = {p_value:.4f}\")\n",
    "\n",
    "alpha = 0.05\n",
    "if p_value < alpha:\n",
    "    print(\"El nombre de files no segueix una distribució normal.\")\n",
    "else:\n",
    "    print(\"El nombre de files segueix una distribució normal\")"
   ],
   "id": "5263c8a2a09268c2",
   "outputs": [
    {
     "name": "stdout",
     "output_type": "stream",
     "text": [
      "Estadístico W = 0.6418\n",
      "Valor p = 0.0000\n",
      "El número de filas no sigue una distribución normal (rechazar H0).\n"
     ]
    }
   ],
   "execution_count": 547
  },
  {
   "metadata": {
    "ExecuteTime": {
     "end_time": "2024-04-19T11:38:01.760010Z",
     "start_time": "2024-04-19T11:38:01.751474Z"
    }
   },
   "cell_type": "code",
   "source": [
    "stat, p_value = shapiro(CON_PA_MECVV['demència'])\n",
    "print(f\"Estadístic W = {stat:.4f}\")\n",
    "print(f\"Valor p = {p_value:.4f}\")\n",
    "\n",
    "alpha = 0.05\n",
    "if p_value < alpha:\n",
    "    print(\"El nombre de files no segueix una distribució normal.\")\n",
    "else:\n",
    "    print(\"El nombre de files segueix una distribució normal\")"
   ],
   "id": "4af93daf881e0e26",
   "outputs": [
    {
     "name": "stdout",
     "output_type": "stream",
     "text": [
      "Estadístico W = 0.6405\n",
      "Valor p = 0.0002\n",
      "El número de filas no sigue una distribución normal (rechazar H0).\n"
     ]
    }
   ],
   "execution_count": 548
  },
  {
   "metadata": {
    "ExecuteTime": {
     "end_time": "2024-04-19T11:38:02.409960Z",
     "start_time": "2024-04-19T11:38:02.403328Z"
    }
   },
   "cell_type": "code",
   "source": [
    "stat, p_value = shapiro(SIN_PA['delirios'])\n",
    "print(f\"Estadístic W = {stat:.4f}\")\n",
    "print(f\"Valor p = {p_value:.4f}\")\n",
    "\n",
    "alpha = 0.05\n",
    "if p_value < alpha:\n",
    "    print(\"El nombre de files no segueix una distribució normal.\")\n",
    "else:\n",
    "    print(\"El nombre de files segueix una distribució normal\")"
   ],
   "id": "944278fe0f4e6ce4",
   "outputs": [
    {
     "name": "stdout",
     "output_type": "stream",
     "text": [
      "Estadístico W = 0.4716\n",
      "Valor p = 0.0000\n",
      "El número de filas no sigue una distribución normal (rechazar H0).\n"
     ]
    }
   ],
   "execution_count": 549
  },
  {
   "metadata": {
    "ExecuteTime": {
     "end_time": "2024-04-19T11:38:02.972065Z",
     "start_time": "2024-04-19T11:38:02.918412Z"
    }
   },
   "cell_type": "code",
   "source": [
    "stat, p_value_12 = mannwhitneyu(CON_PA['demència'], CON_PA_MECVV['demència'], alternative='two-sided')\n",
    "print(\"P-valor entre CON_PA i CON_PA_MECVV\", p_value_12)"
   ],
   "id": "83f32b06ca57a099",
   "outputs": [
    {
     "name": "stdout",
     "output_type": "stream",
     "text": [
      "P-valor entre CON_PA i CON_PA_MECVV 0.7484826918143946\n"
     ]
    }
   ],
   "execution_count": 550
  },
  {
   "metadata": {
    "ExecuteTime": {
     "end_time": "2024-04-19T11:38:03.595977Z",
     "start_time": "2024-04-19T11:38:03.587266Z"
    }
   },
   "cell_type": "code",
   "source": [
    "stat, p_value_13 = mannwhitneyu(CON_PA['demència'], SIN_PA['demència'], alternative='two-sided')\n",
    "print(\"P-valor entre CON_PA i SIN_PA\", p_value_13)"
   ],
   "id": "e7b4ff975ef8cd6",
   "outputs": [
    {
     "name": "stdout",
     "output_type": "stream",
     "text": [
      "P-valor entre CON_PA i SIN_PA 0.22703869678020527\n"
     ]
    }
   ],
   "execution_count": 551
  },
  {
   "metadata": {
    "ExecuteTime": {
     "end_time": "2024-04-19T11:38:04.100819Z",
     "start_time": "2024-04-19T11:38:04.092918Z"
    }
   },
   "cell_type": "code",
   "source": [
    "stat, p_value_23 = mannwhitneyu(CON_PA_MECVV['demència'], SIN_PA['demència'], alternative='two-sided')\n",
    "print(\"P-valor entre CON_PA_MECVV i SIN_PA\", p_value_23)"
   ],
   "id": "a1baf61cd15f22ec",
   "outputs": [
    {
     "name": "stdout",
     "output_type": "stream",
     "text": [
      "P-valor entre CON_PA_MECVV i SIN_PA 0.5743933608939569\n"
     ]
    }
   ],
   "execution_count": 552
  },
  {
   "metadata": {},
   "cell_type": "markdown",
   "source": "## Síndrome depressiu",
   "id": "ea9bb083b2c8413e"
  },
  {
   "metadata": {
    "ExecuteTime": {
     "end_time": "2024-04-19T11:38:04.547963Z",
     "start_time": "2024-04-19T11:38:04.541425Z"
    }
   },
   "cell_type": "code",
   "source": [
    "depre_CON_PA= (CON_PA['sindrome_depresivo'] == 1.0).mean() * 100\n",
    "print(f\"Percentatge de síndrome depressiu: {depre_CON_PA:.2f}%\")"
   ],
   "id": "5e6af44aba2e2219",
   "outputs": [
    {
     "name": "stdout",
     "output_type": "stream",
     "text": [
      "Percentatge de sindrome depresivo: 23.53%\n"
     ]
    }
   ],
   "execution_count": 553
  },
  {
   "metadata": {
    "ExecuteTime": {
     "end_time": "2024-04-19T11:38:05.346208Z",
     "start_time": "2024-04-19T11:38:05.338756Z"
    }
   },
   "cell_type": "code",
   "source": [
    "depre_CON_PA_MECVV= (CON_PA_MECVV['sindrome_depresivo'] == 1.0).mean() * 100\n",
    "print(f\"Percentatge de síndrome depressiu: {depre_CON_PA_MECVV:.2f}%\")"
   ],
   "id": "6f73b773854e8aac",
   "outputs": [
    {
     "name": "stdout",
     "output_type": "stream",
     "text": [
      "Percentatge de sindrome depresivo: 0.00%\n"
     ]
    }
   ],
   "execution_count": 554
  },
  {
   "metadata": {
    "ExecuteTime": {
     "end_time": "2024-04-19T11:38:06.011199Z",
     "start_time": "2024-04-19T11:38:06.003852Z"
    }
   },
   "cell_type": "code",
   "source": [
    "depre_SIN_PA= (SIN_PA['sindrome_depresivo'] == 1.0).mean() * 100\n",
    "print(f\"Percentatge de síndrome depressiu: {depre_SIN_PA:.2f}%\")"
   ],
   "id": "ed67fa6c2850b5d7",
   "outputs": [
    {
     "name": "stdout",
     "output_type": "stream",
     "text": [
      "Percentatge de sindrome depresivo: 14.29%\n"
     ]
    }
   ],
   "execution_count": 555
  },
  {
   "metadata": {},
   "cell_type": "markdown",
   "source": "#### Pvalor",
   "id": "77048791dbe5c0af"
  },
  {
   "metadata": {},
   "cell_type": "markdown",
   "source": "##### Normalitat",
   "id": "7ae02047e3559f07"
  },
  {
   "metadata": {
    "ExecuteTime": {
     "end_time": "2024-04-19T11:38:07.087445Z",
     "start_time": "2024-04-19T11:38:07.079252Z"
    }
   },
   "cell_type": "code",
   "source": [
    "stat, p_value = shapiro(CON_PA['sindrome_depresivo'])\n",
    "print(f\"Estadístic W = {stat:.4f}\")\n",
    "print(f\"Valor p = {p_value:.4f}\")\n",
    "\n",
    "alpha = 0.05\n",
    "if p_value < alpha:\n",
    "    print(\"El nombre de files no segueix una distribució normal.\")\n",
    "else:\n",
    "    print(\"El nombre de files segueix una distribució normal\")"
   ],
   "id": "eef5277fe8e65edf",
   "outputs": [
    {
     "name": "stdout",
     "output_type": "stream",
     "text": [
      "Estadístico W = 0.5327\n",
      "Valor p = 0.0000\n",
      "El número de filas no sigue una distribución normal (rechazar H0).\n"
     ]
    }
   ],
   "execution_count": 556
  },
  {
   "metadata": {
    "ExecuteTime": {
     "end_time": "2024-04-19T11:38:07.845431Z",
     "start_time": "2024-04-19T11:38:07.837634Z"
    }
   },
   "cell_type": "code",
   "source": [
    "stat, p_value = shapiro(CON_PA_MECVV['sindrome_depresivo'])\n",
    "print(f\"Estadístic W = {stat:.4f}\")\n",
    "print(f\"Valor p = {p_value:.4f}\")\n",
    "\n",
    "alpha = 0.05\n",
    "if p_value < alpha:\n",
    "    print(\"El nombre de files no segueix una distribució normal.\")\n",
    "else:\n",
    "    print(\"El nombre de files segueix una distribució normal\")"
   ],
   "id": "a0665c4b7b02c414",
   "outputs": [
    {
     "name": "stdout",
     "output_type": "stream",
     "text": [
      "Estadístico W = 1.0000\n",
      "Valor p = 1.0000\n",
      "El número de filas sigue una distribución normal (aceptar H0).\n"
     ]
    }
   ],
   "execution_count": 557
  },
  {
   "metadata": {
    "ExecuteTime": {
     "end_time": "2024-04-19T11:38:18.958258Z",
     "start_time": "2024-04-19T11:38:18.948191Z"
    }
   },
   "cell_type": "code",
   "source": [
    "stat, p_value = shapiro(SIN_PA['sindrome_depresivo'])\n",
    "print(f\"Estadístic W = {stat:.4f}\")\n",
    "print(f\"Valor p = {p_value:.4f}\")\n",
    "\n",
    "alpha = 0.05\n",
    "if p_value < alpha:\n",
    "    print(\"El nombre de files no segueix una distribució normal.\")\n",
    "else:\n",
    "    print(\"El nombre de files segueix una distribució normal\")"
   ],
   "id": "1efdd4f2ccc72046",
   "outputs": [
    {
     "name": "stdout",
     "output_type": "stream",
     "text": [
      "Estadístico W = 0.4168\n",
      "Valor p = 0.0000\n",
      "El número de filas no sigue una distribución normal (rechazar H0).\n"
     ]
    }
   ],
   "execution_count": 558
  },
  {
   "metadata": {
    "ExecuteTime": {
     "end_time": "2024-04-19T11:38:29.867145Z",
     "start_time": "2024-04-19T11:38:29.856514Z"
    }
   },
   "cell_type": "code",
   "source": [
    "stat, p_value_12 = mannwhitneyu(CON_PA['sindrome_depresivo'], CON_PA_MECVV['sindrome_depresivo'], alternative='two-sided')\n",
    "print(\"P-valor entre CON_PA i CON_PA_MECVV\", p_value_12)"
   ],
   "id": "7adb8a77607c2030",
   "outputs": [
    {
     "name": "stdout",
     "output_type": "stream",
     "text": [
      "P-valor entre CON_PA i CON_PA_MECVV 0.11180527770715322\n"
     ]
    }
   ],
   "execution_count": 559
  },
  {
   "metadata": {
    "ExecuteTime": {
     "end_time": "2024-04-19T11:38:32.534774Z",
     "start_time": "2024-04-19T11:38:32.526039Z"
    }
   },
   "cell_type": "code",
   "source": [
    "stat, p_value_13 = mannwhitneyu(CON_PA['sindrome_depresivo'], SIN_PA['sindrome_depresivo'], alternative='two-sided')\n",
    "print(\"P-valor entre CON_PA i SIN_PA\", p_value_13)"
   ],
   "id": "e47e376705cfa86",
   "outputs": [
    {
     "name": "stdout",
     "output_type": "stream",
     "text": [
      "P-valor entre CON_PA i SIN_PA 0.3880726918610017\n"
     ]
    }
   ],
   "execution_count": 560
  },
  {
   "metadata": {
    "ExecuteTime": {
     "end_time": "2024-04-19T11:39:09.354916Z",
     "start_time": "2024-04-19T11:39:09.347908Z"
    }
   },
   "cell_type": "code",
   "source": [
    "stat, p_value_23 = mannwhitneyu(CON_PA_MECVV['sindrome_depresivo'], SIN_PA['sindrome_depresivo'], alternative='two-sided')\n",
    "print(\"P-valor entre CON_PA_MECVV i SIN_PA\", p_value_23)"
   ],
   "id": "fef192746e282f69",
   "outputs": [
    {
     "name": "stdout",
     "output_type": "stream",
     "text": [
      "P-valor entre CON_PA_MECVV i SIN_PA 0.21340049774345338\n"
     ]
    }
   ],
   "execution_count": 561
  },
  {
   "metadata": {},
   "cell_type": "markdown",
   "source": "## Incontinència urinària",
   "id": "e692abea2c5a0bcf"
  },
  {
   "metadata": {
    "ExecuteTime": {
     "end_time": "2024-04-19T11:39:19.004260Z",
     "start_time": "2024-04-19T11:39:18.958377Z"
    }
   },
   "cell_type": "code",
   "source": [
    "ic_CON_PA= (CON_PA['incont_uri'] == 1.0).mean() * 100\n",
    "print(f\"Percentatge de incontinència urinària: {ic_CON_PA:.2f}%\")"
   ],
   "id": "a10c39264fda8a45",
   "outputs": [
    {
     "name": "stdout",
     "output_type": "stream",
     "text": [
      "Percentatge de incontinencia urinaria: 29.41%\n"
     ]
    }
   ],
   "execution_count": 562
  },
  {
   "metadata": {
    "ExecuteTime": {
     "end_time": "2024-04-19T11:39:32.545366Z",
     "start_time": "2024-04-19T11:39:32.540041Z"
    }
   },
   "cell_type": "code",
   "source": [
    "ic_CON_PA_MECVV= (CON_PA_MECVV['incont_uri'] == 1.0).mean() * 100\n",
    "print(f\"Percentatge de incontinència urinària: {ic_CON_PA_MECVV:.2f}%\")"
   ],
   "id": "626e726f57f8e3aa",
   "outputs": [
    {
     "name": "stdout",
     "output_type": "stream",
     "text": [
      "Percentatge de incontinencia urinaria: 30.00%\n"
     ]
    }
   ],
   "execution_count": 563
  },
  {
   "metadata": {
    "ExecuteTime": {
     "end_time": "2024-04-19T11:40:19.011556Z",
     "start_time": "2024-04-19T11:40:19.004035Z"
    }
   },
   "cell_type": "code",
   "source": [
    "ic_SIN_PA= (SIN_PA['incont_uri'] == 1.0).mean() * 100\n",
    "print(f\"Percentatge de incontinència urinària: {ic_SIN_PA:.2f}%\")"
   ],
   "id": "2a4a3c62612b058c",
   "outputs": [
    {
     "name": "stdout",
     "output_type": "stream",
     "text": [
      "Percentatge de incontinencia urinaria: 14.29%\n"
     ]
    }
   ],
   "execution_count": 564
  },
  {
   "metadata": {},
   "cell_type": "markdown",
   "source": "#### Pvalor",
   "id": "f3d48cd438ce1485"
  },
  {
   "metadata": {},
   "cell_type": "markdown",
   "source": "##### Normalitat",
   "id": "8a88da3553a72086"
  },
  {
   "metadata": {
    "ExecuteTime": {
     "end_time": "2024-04-19T11:40:32.604495Z",
     "start_time": "2024-04-19T11:40:32.586602Z"
    }
   },
   "cell_type": "code",
   "source": [
    "stat, p_value = shapiro(CON_PA['incont_uri'])\n",
    "print(f\"Estadístic W = {stat:.4f}\")\n",
    "print(f\"Valor p = {p_value:.4f}\")\n",
    "\n",
    "alpha = 0.05\n",
    "if p_value < alpha:\n",
    "    print(\"El nombre de files no segueix una distribució normal.\")\n",
    "else:\n",
    "    print(\"El nombre de files segueix una distribució normal\")"
   ],
   "id": "2cf0004f848a0a3d",
   "outputs": [
    {
     "name": "stdout",
     "output_type": "stream",
     "text": [
      "Estadístico W = 0.5785\n",
      "Valor p = 0.0000\n",
      "El número de filas no sigue una distribución normal (rechazar H0).\n"
     ]
    }
   ],
   "execution_count": 565
  },
  {
   "metadata": {
    "ExecuteTime": {
     "end_time": "2024-04-19T11:41:19.090308Z",
     "start_time": "2024-04-19T11:41:19.084566Z"
    }
   },
   "cell_type": "code",
   "source": [
    "stat, p_value = shapiro(CON_PA_MECVV['incont_uri'])\n",
    "print(f\"Estadístic W = {stat:.4f}\")\n",
    "print(f\"Valor p = {p_value:.4f}\")\n",
    "\n",
    "alpha = 0.05\n",
    "if p_value < alpha:\n",
    "    print(\"El nombre de files no segueix una distribució normal.\")\n",
    "else:\n",
    "    print(\"El nombre de files segueix una distribució normal\")"
   ],
   "id": "2615ad7db3f0c1ea",
   "outputs": [
    {
     "name": "stdout",
     "output_type": "stream",
     "text": [
      "Estadístico W = 0.5942\n",
      "Valor p = 0.0000\n",
      "El número de filas no sigue una distribución normal (rechazar H0).\n"
     ]
    }
   ],
   "execution_count": 566
  },
  {
   "metadata": {
    "ExecuteTime": {
     "end_time": "2024-04-19T11:41:32.679748Z",
     "start_time": "2024-04-19T11:41:32.670016Z"
    }
   },
   "cell_type": "code",
   "source": [
    "stat, p_value = shapiro(SIN_PA['incont_uri'])\n",
    "print(f\"Estadístic W = {stat:.4f}\")\n",
    "print(f\"Valor p = {p_value:.4f}\")\n",
    "\n",
    "alpha = 0.05\n",
    "if p_value < alpha:\n",
    "    print(\"El nombre de files no segueix una distribució normal.\")\n",
    "else:\n",
    "    print(\"El nombre de files segueix una distribució normal\")"
   ],
   "id": "1bb13adec047e9a0",
   "outputs": [
    {
     "name": "stdout",
     "output_type": "stream",
     "text": [
      "Estadístico W = 0.4168\n",
      "Valor p = 0.0000\n",
      "El número de filas no sigue una distribución normal (rechazar H0).\n"
     ]
    }
   ],
   "execution_count": 567
  },
  {
   "metadata": {
    "ExecuteTime": {
     "end_time": "2024-04-19T11:42:19.139008Z",
     "start_time": "2024-04-19T11:42:19.129825Z"
    }
   },
   "cell_type": "code",
   "source": [
    "stat, p_value_12 = mannwhitneyu(CON_PA['incont_uri'], CON_PA_MECVV['incont_uri'], alternative='two-sided')\n",
    "print(\"P-valor entre CON_PA i CON_PA_MECVV\", p_value_12)"
   ],
   "id": "65960e4e13cab2cb",
   "outputs": [
    {
     "name": "stdout",
     "output_type": "stream",
     "text": [
      "P-valor entre CON_PA i CON_PA_MECVV 1.0\n"
     ]
    }
   ],
   "execution_count": 568
  },
  {
   "metadata": {
    "ExecuteTime": {
     "end_time": "2024-04-19T11:42:32.706302Z",
     "start_time": "2024-04-19T11:42:32.689981Z"
    }
   },
   "cell_type": "code",
   "source": [
    "stat, p_value_13 = mannwhitneyu(CON_PA['incont_uri'], SIN_PA['incont_uri'], alternative='two-sided')\n",
    "print(\"P-valor entre CON_PA i SIN_PA\", p_value_13)"
   ],
   "id": "5ae80fc41bf7cab2",
   "outputs": [
    {
     "name": "stdout",
     "output_type": "stream",
     "text": [
      "P-valor entre CON_PA i SIN_PA 0.17015925929193942\n"
     ]
    }
   ],
   "execution_count": 569
  },
  {
   "metadata": {
    "ExecuteTime": {
     "end_time": "2024-04-19T11:43:09.436056Z",
     "start_time": "2024-04-19T11:43:09.424501Z"
    }
   },
   "cell_type": "code",
   "source": [
    "stat, p_value_23 = mannwhitneyu(CON_PA_MECVV['incont_uri'], SIN_PA['incont_uri'], alternative='two-sided')\n",
    "print(\"P-valor entre CON_PA_MECVV i SIN_PA\", p_value_23)"
   ],
   "id": "7d19627ed95c9830",
   "outputs": [
    {
     "name": "stdout",
     "output_type": "stream",
     "text": [
      "P-valor entre CON_PA_MECVV i SIN_PA 0.237514563226218\n"
     ]
    }
   ],
   "execution_count": 570
  },
  {
   "metadata": {},
   "cell_type": "markdown",
   "source": "## Incontinència fecal ",
   "id": "ef750cb6e374d153"
  },
  {
   "metadata": {
    "ExecuteTime": {
     "end_time": "2024-04-19T11:43:19.200095Z",
     "start_time": "2024-04-19T11:43:19.191997Z"
    }
   },
   "cell_type": "code",
   "source": [
    "ifec_CON_PA= (CON_PA['incont_fec'] == 1.0).mean() * 100\n",
    "print(f\"Percentatge de incontinència fecal: {ifec_CON_PA:.2f}%\")"
   ],
   "id": "f200aaa97ddfb132",
   "outputs": [
    {
     "name": "stdout",
     "output_type": "stream",
     "text": [
      "Percentatge de incontinencia fecal: 29.41%\n"
     ]
    }
   ],
   "execution_count": 571
  },
  {
   "metadata": {
    "ExecuteTime": {
     "end_time": "2024-04-19T11:43:29.950407Z",
     "start_time": "2024-04-19T11:43:29.940749Z"
    }
   },
   "cell_type": "code",
   "source": [
    "ifec_CON_PA_MECVV= (CON_PA_MECVV['incont_fec'] == 1.0).mean() * 100\n",
    "print(f\"Percentatge de incontinència fecal: {ifec_CON_PA_MECVV:.2f}%\")"
   ],
   "id": "508afd800ecbb722",
   "outputs": [
    {
     "name": "stdout",
     "output_type": "stream",
     "text": [
      "Percentatge de incontinencia fecal: 10.00%\n"
     ]
    }
   ],
   "execution_count": 572
  },
  {
   "metadata": {
    "ExecuteTime": {
     "end_time": "2024-04-19T11:43:32.810329Z",
     "start_time": "2024-04-19T11:43:32.800051Z"
    }
   },
   "cell_type": "code",
   "source": [
    "ifec_SIN_PA= (SIN_PA['incont_fec'] == 1.0).mean() * 100\n",
    "print(f\"Percentatge de incontinència fecal: {ifec_SIN_PA:.2f}%\")"
   ],
   "id": "e7d0045ab7ee995b",
   "outputs": [
    {
     "name": "stdout",
     "output_type": "stream",
     "text": [
      "Percentatge de incontinencia fecal: 12.24%\n"
     ]
    }
   ],
   "execution_count": 573
  },
  {
   "metadata": {},
   "cell_type": "markdown",
   "source": "#### Pvalor",
   "id": "f57e9c2b1011455f"
  },
  {
   "metadata": {},
   "cell_type": "markdown",
   "source": "##### Normalitat",
   "id": "a09c93982467480a"
  },
  {
   "metadata": {
    "ExecuteTime": {
     "end_time": "2024-04-19T11:44:09.611883Z",
     "start_time": "2024-04-19T11:44:09.452881Z"
    }
   },
   "cell_type": "code",
   "source": [
    "stat, p_value = shapiro(CON_PA['incont_fec'])\n",
    "print(f\"Estadístic W = {stat:.4f}\")\n",
    "print(f\"Valor p = {p_value:.4f}\")\n",
    "\n",
    "alpha = 0.05\n",
    "if p_value < alpha:\n",
    "    print(\"El nombre de files no segueix una distribució normal.\")\n",
    "else:\n",
    "    print(\"El nombre de files segueix una distribució normal\")"
   ],
   "id": "fe0a97831b34aa2b",
   "outputs": [
    {
     "name": "stdout",
     "output_type": "stream",
     "text": [
      "Estadístico W = 0.5785\n",
      "Valor p = 0.0000\n",
      "El número de filas no sigue una distribución normal (rechazar H0).\n"
     ]
    }
   ],
   "execution_count": 574
  },
  {
   "metadata": {
    "ExecuteTime": {
     "end_time": "2024-04-19T11:44:19.197852Z",
     "start_time": "2024-04-19T11:44:19.184840Z"
    }
   },
   "cell_type": "code",
   "source": [
    "stat, p_value = shapiro(CON_PA_MECVV['incont_fec'])\n",
    "print(f\"Estadístic W = {stat:.4f}\")\n",
    "print(f\"Valor p = {p_value:.4f}\")\n",
    "\n",
    "alpha = 0.05\n",
    "if p_value < alpha:\n",
    "    print(\"El nombre de files no segueix una distribució normal.\")\n",
    "else:\n",
    "    print(\"El nombre de files segueix una distribució normal\")"
   ],
   "id": "514cf02fbf65b3d2",
   "outputs": [
    {
     "name": "stdout",
     "output_type": "stream",
     "text": [
      "Estadístico W = 0.3657\n",
      "Valor p = 0.0000\n",
      "El número de filas no sigue una distribución normal (rechazar H0).\n"
     ]
    }
   ],
   "execution_count": 575
  },
  {
   "metadata": {
    "ExecuteTime": {
     "end_time": "2024-04-19T11:44:29.969449Z",
     "start_time": "2024-04-19T11:44:29.961378Z"
    }
   },
   "cell_type": "code",
   "source": [
    "stat, p_value = shapiro(SIN_PA['incont_fec'])\n",
    "print(f\"Estadístic W = {stat:.4f}\")\n",
    "print(f\"Valor p = {p_value:.4f}\")\n",
    "\n",
    "alpha = 0.05\n",
    "if p_value < alpha:\n",
    "    print(\"El nombre de files no segueix una distribució normal.\")\n",
    "else:\n",
    "    print(\"El nombre de files segueix una distribució normal\")"
   ],
   "id": "292234fc524f36f",
   "outputs": [
    {
     "name": "stdout",
     "output_type": "stream",
     "text": [
      "Estadístico W = 0.3844\n",
      "Valor p = 0.0000\n",
      "El número de filas no sigue una distribución normal (rechazar H0).\n"
     ]
    }
   ],
   "execution_count": 576
  },
  {
   "metadata": {
    "ExecuteTime": {
     "end_time": "2024-04-19T11:44:37.466938Z",
     "start_time": "2024-04-19T11:44:37.456754Z"
    }
   },
   "cell_type": "code",
   "source": [
    "stat, p_value_12 = mannwhitneyu(CON_PA['incont_fec'], CON_PA_MECVV['incont_fec'], alternative='two-sided')\n",
    "print(\"P-valor entre CON_PA i CON_PA_MECVV\", p_value_12)"
   ],
   "id": "a06cd69ec62e5411",
   "outputs": [
    {
     "name": "stdout",
     "output_type": "stream",
     "text": [
      "P-valor entre CON_PA i CON_PA_MECVV 0.2649031747093591\n"
     ]
    }
   ],
   "execution_count": 577
  },
  {
   "metadata": {
    "ExecuteTime": {
     "end_time": "2024-04-19T11:45:09.507636Z",
     "start_time": "2024-04-19T11:45:09.500031Z"
    }
   },
   "cell_type": "code",
   "source": [
    "stat, p_value_13 = mannwhitneyu(CON_PA['incont_fec'], SIN_PA['incont_fec'], alternative='two-sided')\n",
    "print(\"P-valor entre CON_PA i SIN_PA\", p_value_13)"
   ],
   "id": "864ff584027489f6",
   "outputs": [
    {
     "name": "stdout",
     "output_type": "stream",
     "text": [
      "P-valor entre CON_PA i SIN_PA 0.10681676423525503\n"
     ]
    }
   ],
   "execution_count": 578
  },
  {
   "metadata": {
    "ExecuteTime": {
     "end_time": "2024-04-19T11:45:19.321323Z",
     "start_time": "2024-04-19T11:45:19.305522Z"
    }
   },
   "cell_type": "code",
   "source": [
    "stat, p_value_23 = mannwhitneyu(CON_PA_MECVV['incont_fec'], SIN_PA['incont_fec'], alternative='two-sided')\n",
    "print(\"P-valor entre CON_PA_MECVV i SIN_PA\", p_value_23)"
   ],
   "id": "2a73a088a4149351",
   "outputs": [
    {
     "name": "stdout",
     "output_type": "stream",
     "text": [
      "P-valor entre CON_PA_MECVV i SIN_PA 0.8568943909879498\n"
     ]
    }
   ],
   "execution_count": 579
  },
  {
   "metadata": {},
   "cell_type": "markdown",
   "source": "## Úlceres de pressió",
   "id": "65897a5e1d05b6b6"
  },
  {
   "metadata": {
    "ExecuteTime": {
     "end_time": "2024-04-19T11:45:29.980340Z",
     "start_time": "2024-04-19T11:45:29.972745Z"
    }
   },
   "cell_type": "code",
   "source": [
    "up_CON_PA= (CON_PA['ulceras_presion'] == 1.0).mean() * 100\n",
    "print(f\"Percentatge de úlceres de pressió: {up_CON_PA:.2f}%\")"
   ],
   "id": "bcd7bdbcf538274a",
   "outputs": [
    {
     "name": "stdout",
     "output_type": "stream",
     "text": [
      "Percentatge de ulceras de presion: 5.88%\n"
     ]
    }
   ],
   "execution_count": 580
  },
  {
   "metadata": {
    "ExecuteTime": {
     "end_time": "2024-04-19T11:45:37.480324Z",
     "start_time": "2024-04-19T11:45:37.472745Z"
    }
   },
   "cell_type": "code",
   "source": [
    "up_CON_PA_MECVV= (CON_PA_MECVV['ulceras_presion'] == 1.0).mean() * 100\n",
    "print(f\"Percentatge de úlceres de pressió: {up_CON_PA_MECVV:.2f}%\")"
   ],
   "id": "60a8a4eb517c269e",
   "outputs": [
    {
     "name": "stdout",
     "output_type": "stream",
     "text": [
      "Percentatge de ulceras de presion: 0.00%\n"
     ]
    }
   ],
   "execution_count": 581
  },
  {
   "metadata": {
    "ExecuteTime": {
     "end_time": "2024-04-19T11:46:09.513871Z",
     "start_time": "2024-04-19T11:46:09.508597Z"
    }
   },
   "cell_type": "code",
   "source": [
    "up_SIN_PA= (SIN_PA['ulceras_presion'] == 1.0).mean() * 100\n",
    "print(f\"Percentatge de úlceres de pressió: {up_SIN_PA:.2f}%\")"
   ],
   "id": "4f223a88742c194a",
   "outputs": [
    {
     "name": "stdout",
     "output_type": "stream",
     "text": [
      "Percentatge de ulceras de presion: 2.04%\n"
     ]
    }
   ],
   "execution_count": 582
  },
  {
   "metadata": {},
   "cell_type": "markdown",
   "source": "#### Pvalor",
   "id": "c3fe3f599bce65ef"
  },
  {
   "metadata": {},
   "cell_type": "markdown",
   "source": "##### Normalitat",
   "id": "930dd9949adee28b"
  },
  {
   "metadata": {
    "ExecuteTime": {
     "end_time": "2024-04-19T11:46:19.313061Z",
     "start_time": "2024-04-19T11:46:19.297103Z"
    }
   },
   "cell_type": "code",
   "source": [
    "stat, p_value = shapiro(CON_PA['ulceras_presion'])\n",
    "print(f\"Estadístic W = {stat:.4f}\")\n",
    "print(f\"Valor p = {p_value:.4f}\")\n",
    "\n",
    "alpha = 0.05\n",
    "if p_value < alpha:\n",
    "    print(\"El nombre de files no segueix una distribució normal.\")\n",
    "else:\n",
    "    print(\"El nombre de files segueix una distribució normal\")"
   ],
   "id": "d50787664b68bc94",
   "outputs": [
    {
     "name": "stdout",
     "output_type": "stream",
     "text": [
      "Estadístico W = 0.2622\n",
      "Valor p = 0.0000\n",
      "El número de filas no sigue una distribución normal (rechazar H0).\n"
     ]
    }
   ],
   "execution_count": 583
  },
  {
   "metadata": {
    "ExecuteTime": {
     "end_time": "2024-04-19T11:46:29.984412Z",
     "start_time": "2024-04-19T11:46:29.974762Z"
    }
   },
   "cell_type": "code",
   "source": [
    "stat, p_value = shapiro(CON_PA_MECVV['ulceras_presion'])\n",
    "print(f\"Estadístic W = {stat:.4f}\")\n",
    "print(f\"Valor p = {p_value:.4f}\")\n",
    "\n",
    "alpha = 0.05\n",
    "if p_value < alpha:\n",
    "    print(\"El nombre de files no segueix una distribució normal.\")\n",
    "else:\n",
    "    print(\"El nombre de files segueix una distribució normal\")"
   ],
   "id": "19799093c5abeaea",
   "outputs": [
    {
     "name": "stdout",
     "output_type": "stream",
     "text": [
      "Estadístico W = 1.0000\n",
      "Valor p = 1.0000\n",
      "El número de filas sigue una distribución normal (aceptar H0).\n"
     ]
    }
   ],
   "execution_count": 584
  },
  {
   "metadata": {
    "ExecuteTime": {
     "end_time": "2024-04-19T11:47:09.742753Z",
     "start_time": "2024-04-19T11:47:09.731783Z"
    }
   },
   "cell_type": "code",
   "source": [
    "stat, p_value = shapiro(SIN_PA['ulceras_presion'])\n",
    "print(f\"Estadístic W = {stat:.4f}\")\n",
    "print(f\"Valor p = {p_value:.4f}\")\n",
    "\n",
    "alpha = 0.05\n",
    "if p_value < alpha:\n",
    "    print(\"El nombre de files no segueix una distribució normal.\")\n",
    "else:\n",
    "    print(\"El nombre de files segueix una distribució normal\")"
   ],
   "id": "3cca1f862eaa0767",
   "outputs": [
    {
     "name": "stdout",
     "output_type": "stream",
     "text": [
      "Estadístico W = 0.1273\n",
      "Valor p = 0.0000\n",
      "El número de filas no sigue una distribución normal (rechazar H0).\n"
     ]
    }
   ],
   "execution_count": 585
  },
  {
   "metadata": {
    "ExecuteTime": {
     "end_time": "2024-04-19T11:47:30.068635Z",
     "start_time": "2024-04-19T11:47:30.060222Z"
    }
   },
   "cell_type": "code",
   "source": [
    "stat, p_value_12 = mannwhitneyu(CON_PA['ulceras_presion'], CON_PA_MECVV['ulceras_presion'], alternative='two-sided')\n",
    "print(\"P-valor entre CON_PA i CON_PA_MECVV\", p_value_12)"
   ],
   "id": "6293a3abfe3649ba",
   "outputs": [
    {
     "name": "stdout",
     "output_type": "stream",
     "text": [
      "P-valor entre CON_PA i CON_PA_MECVV 0.49002535950179893\n"
     ]
    }
   ],
   "execution_count": 586
  },
  {
   "metadata": {
    "ExecuteTime": {
     "end_time": "2024-04-19T11:48:19.365847Z",
     "start_time": "2024-04-19T11:48:19.352082Z"
    }
   },
   "cell_type": "code",
   "source": [
    "stat, p_value_13 = mannwhitneyu(CON_PA['ulceras_presion'], SIN_PA['ulceras_presion'], alternative='two-sided')\n",
    "print(\"P-valor entre CON_PA i SIN_PA\", p_value_13)"
   ],
   "id": "3ba7e80f539a2cd8",
   "outputs": [
    {
     "name": "stdout",
     "output_type": "stream",
     "text": [
      "P-valor entre CON_PA i SIN_PA 0.4440308448923743\n"
     ]
    }
   ],
   "execution_count": 587
  },
  {
   "metadata": {
    "ExecuteTime": {
     "end_time": "2024-04-19T11:48:37.582239Z",
     "start_time": "2024-04-19T11:48:37.573210Z"
    }
   },
   "cell_type": "code",
   "source": [
    "stat, p_value_23 = mannwhitneyu(CON_PA_MECVV['ulceras_presion'], SIN_PA['ulceras_presion'], alternative='two-sided')\n",
    "print(\"P-valor entre CON_PA_MECVV i SIN_PA\", p_value_23)"
   ],
   "id": "2119f64854a199b9",
   "outputs": [
    {
     "name": "stdout",
     "output_type": "stream",
     "text": [
      "P-valor entre CON_PA_MECVV i SIN_PA 0.6843175494727258\n"
     ]
    }
   ],
   "execution_count": 588
  },
  {
   "metadata": {},
   "cell_type": "markdown",
   "source": "## Immobilitat",
   "id": "9a5af8b151f24d"
  },
  {
   "metadata": {
    "ExecuteTime": {
     "end_time": "2024-04-19T11:49:19.382264Z",
     "start_time": "2024-04-19T11:49:19.347137Z"
    }
   },
   "cell_type": "code",
   "source": "",
   "id": "20403b79d0d107f1",
   "outputs": [],
   "execution_count": 588
  },
  {
   "metadata": {},
   "cell_type": "markdown",
   "source": "## Confusió",
   "id": "8ec2d07541f7c217"
  },
  {
   "metadata": {
    "ExecuteTime": {
     "end_time": "2024-04-19T11:49:37.621106Z",
     "start_time": "2024-04-19T11:49:37.580406Z"
    }
   },
   "cell_type": "code",
   "source": "",
   "id": "c2abcafcb2c060aa",
   "outputs": [],
   "execution_count": 588
  },
  {
   "metadata": {},
   "cell_type": "markdown",
   "source": "## Osteoporosi",
   "id": "61e6ce410e08b94f"
  },
  {
   "metadata": {
    "ExecuteTime": {
     "end_time": "2024-04-19T11:50:19.405242Z",
     "start_time": "2024-04-19T11:50:19.360088Z"
    }
   },
   "cell_type": "code",
   "source": [
    "ost_CON_PA= (CON_PA['osteoporosis'] == 1.0).mean() * 100\n",
    "print(f\"Percentatge de osteoporosi: {ost_CON_PA:.2f}%\")"
   ],
   "id": "8247aa43b86f14e2",
   "outputs": [
    {
     "name": "stdout",
     "output_type": "stream",
     "text": [
      "Percentatge de osteoporosis: 0.00%\n"
     ]
    }
   ],
   "execution_count": 589
  },
  {
   "metadata": {
    "ExecuteTime": {
     "end_time": "2024-04-19T11:50:37.637977Z",
     "start_time": "2024-04-19T11:50:37.630711Z"
    }
   },
   "cell_type": "code",
   "source": [
    "ost_CON_PA_MECVV= (CON_PA_MECVV['osteoporosis'] == 1.0).mean() * 100\n",
    "print(f\"Percentatge de osteoporosi: {ost_CON_PA_MECVV:.2f}%\")"
   ],
   "id": "88c46ee4b5d48d49",
   "outputs": [
    {
     "name": "stdout",
     "output_type": "stream",
     "text": [
      "Percentatge de osteoporosis: 0.00%\n"
     ]
    }
   ],
   "execution_count": 590
  },
  {
   "metadata": {
    "ExecuteTime": {
     "end_time": "2024-04-19T11:51:19.418620Z",
     "start_time": "2024-04-19T11:51:19.405992Z"
    }
   },
   "cell_type": "code",
   "source": [
    "ost_SIN_PA= (SIN_PA['osteoporosis'] == 1.0).mean() * 100\n",
    "print(f\"Percentatge de osteoporosi: {ost_SIN_PA:.2f}%\")"
   ],
   "id": "404e37bc3d19820d",
   "outputs": [
    {
     "name": "stdout",
     "output_type": "stream",
     "text": [
      "Percentatge de osteoporosis: 0.00%\n"
     ]
    }
   ],
   "execution_count": 591
  },
  {
   "metadata": {},
   "cell_type": "markdown",
   "source": "#### Pvalor",
   "id": "2be6f72ad24818dd"
  },
  {
   "metadata": {},
   "cell_type": "markdown",
   "source": "##### Normalitat",
   "id": "465cf19b84b0b450"
  },
  {
   "metadata": {
    "ExecuteTime": {
     "end_time": "2024-04-19T11:51:37.624451Z",
     "start_time": "2024-04-19T11:51:37.607909Z"
    }
   },
   "cell_type": "code",
   "source": [
    "stat, p_value = shapiro(CON_PA['osteoporosis'])\n",
    "print(f\"Estadístic W = {stat:.4f}\")\n",
    "print(f\"Valor p = {p_value:.4f}\")\n",
    "\n",
    "alpha = 0.05\n",
    "if p_value < alpha:\n",
    "    print(\"El nombre de files no segueix una distribució normal.\")\n",
    "else:\n",
    "    print(\"El nombre de files segueix una distribució normal\")"
   ],
   "id": "ef867fa51d21b4e0",
   "outputs": [
    {
     "name": "stdout",
     "output_type": "stream",
     "text": [
      "Estadístico W = 1.0000\n",
      "Valor p = 1.0000\n",
      "El número de filas sigue una distribución normal (aceptar H0).\n"
     ]
    }
   ],
   "execution_count": 592
  },
  {
   "metadata": {
    "ExecuteTime": {
     "end_time": "2024-04-19T11:52:19.386845Z",
     "start_time": "2024-04-19T11:52:19.369420Z"
    }
   },
   "cell_type": "code",
   "source": [
    "stat, p_value_12 = mannwhitneyu(CON_PA['osteoporosis'], CON_PA_MECVV['osteoporosis'], alternative='two-sided')\n",
    "print(\"P-valor entre CON_PA i CON_PA_MECVV\", p_value_12)"
   ],
   "id": "8c14505ff3b3c8c8",
   "outputs": [
    {
     "name": "stdout",
     "output_type": "stream",
     "text": [
      "P-valor entre CON_PA i CON_PA_MECVV 1.0\n"
     ]
    }
   ],
   "execution_count": 593
  },
  {
   "metadata": {
    "ExecuteTime": {
     "end_time": "2024-04-19T11:52:37.753087Z",
     "start_time": "2024-04-19T11:52:37.679150Z"
    }
   },
   "cell_type": "code",
   "source": [
    "stat, p_value_12 = ttest_ind(CON_PA['osteoporosis'], CON_PA_MECVV['osteoporosis'], equal_var= False)\n",
    "print(\"P-valor entre CON_PA i CON_PA_MECVV\", p_value_12)"
   ],
   "id": "b5cf3824f0cfce6",
   "outputs": [
    {
     "name": "stdout",
     "output_type": "stream",
     "text": [
      "P-valor entre CON_PA i CON_PA_MECVV nan\n"
     ]
    }
   ],
   "execution_count": 594
  },
  {
   "metadata": {},
   "cell_type": "markdown",
   "source": "## Sarcopènia",
   "id": "35ba4b3163204f8f"
  },
  {
   "metadata": {
    "ExecuteTime": {
     "end_time": "2024-04-19T11:53:19.408271Z",
     "start_time": "2024-04-19T11:53:19.396170Z"
    }
   },
   "cell_type": "code",
   "source": [
    "sarc_CON_PA= (CON_PA['sarcopenia'] == 1.0).mean() * 100\n",
    "print(f\"Percentatge de sarcopènia: {sarc_CON_PA:.2f}%\")"
   ],
   "id": "2dc59c7080dd50bc",
   "outputs": [
    {
     "name": "stdout",
     "output_type": "stream",
     "text": [
      "Percentatge de sarcopenia: 0.00%\n"
     ]
    }
   ],
   "execution_count": 595
  },
  {
   "metadata": {
    "ExecuteTime": {
     "end_time": "2024-04-19T11:53:37.758253Z",
     "start_time": "2024-04-19T11:53:37.749438Z"
    }
   },
   "cell_type": "code",
   "source": [
    "sarc_CON_PA_MECVV= (CON_PA_MECVV['sarcopenia'] == 1.0).mean() * 100\n",
    "print(f\"Percentatge de sarcopènia: {sarc_CON_PA_MECVV:.2f}%\")"
   ],
   "id": "f4cd16f08eac0ddb",
   "outputs": [
    {
     "name": "stdout",
     "output_type": "stream",
     "text": [
      "Percentatge de sarcopenia: 10.00%\n"
     ]
    }
   ],
   "execution_count": 596
  },
  {
   "metadata": {
    "ExecuteTime": {
     "end_time": "2024-04-19T11:54:19.456150Z",
     "start_time": "2024-04-19T11:54:19.436673Z"
    }
   },
   "cell_type": "code",
   "source": [
    "sarc_SIN_PA= (SIN_PA['sarcopenia'] == 1.0).mean() * 100\n",
    "print(f\"Percentatge de sarcopènia: {sarc_SIN_PA:.2f}%\")"
   ],
   "id": "244c4f6987003814",
   "outputs": [
    {
     "name": "stdout",
     "output_type": "stream",
     "text": [
      "Percentatge de sarcopenia: 4.08%\n"
     ]
    }
   ],
   "execution_count": 597
  },
  {
   "metadata": {},
   "cell_type": "markdown",
   "source": "#### Pvalor",
   "id": "89f3f7bdbee9d96d"
  },
  {
   "metadata": {},
   "cell_type": "markdown",
   "source": "##### Normalitat",
   "id": "211f5c215b14bcfb"
  },
  {
   "metadata": {
    "ExecuteTime": {
     "end_time": "2024-04-19T11:54:37.803493Z",
     "start_time": "2024-04-19T11:54:37.794392Z"
    }
   },
   "cell_type": "code",
   "source": [
    "stat, p_value = shapiro(CON_PA['sarcopenia'])\n",
    "print(f\"Estadístic W = {stat:.4f}\")\n",
    "print(f\"Valor p = {p_value:.4f}\")\n",
    "\n",
    "alpha = 0.05\n",
    "if p_value < alpha:\n",
    "    print(\"El nombre de files no segueix una distribució normal.\")\n",
    "else:\n",
    "    print(\"El nombre de files segueix una distribució normal\")"
   ],
   "id": "41853aa064104ee9",
   "outputs": [
    {
     "name": "stdout",
     "output_type": "stream",
     "text": [
      "Estadístico W = 1.0000\n",
      "Valor p = 1.0000\n",
      "El número de filas sigue una distribución normal (aceptar H0).\n"
     ]
    }
   ],
   "execution_count": 598
  },
  {
   "metadata": {
    "ExecuteTime": {
     "end_time": "2024-04-19T11:55:19.484385Z",
     "start_time": "2024-04-19T11:55:19.474096Z"
    }
   },
   "cell_type": "code",
   "source": [
    "stat, p_value = shapiro(CON_PA_MECVV['sarcopenia'])\n",
    "print(f\"Estadístic W = {stat:.4f}\")\n",
    "print(f\"Valor p = {p_value:.4f}\")\n",
    "\n",
    "alpha = 0.05\n",
    "if p_value < alpha:\n",
    "    print(\"El nombre de files no segueix una distribució normal.\")\n",
    "else:\n",
    "    print(\"El nombre de files segueix una distribució normal\")"
   ],
   "id": "819daed34f463c5d",
   "outputs": [
    {
     "name": "stdout",
     "output_type": "stream",
     "text": [
      "Estadístico W = 0.3657\n",
      "Valor p = 0.0000\n",
      "El número de filas no sigue una distribución normal (rechazar H0).\n"
     ]
    }
   ],
   "execution_count": 599
  },
  {
   "metadata": {
    "ExecuteTime": {
     "end_time": "2024-04-19T11:55:37.846972Z",
     "start_time": "2024-04-19T11:55:37.811441Z"
    }
   },
   "cell_type": "code",
   "source": [
    "stat, p_value = shapiro(SIN_PA['sarcopenia'])\n",
    "print(f\"Estadístic W = {stat:.4f}\")\n",
    "print(f\"Valor p = {p_value:.4f}\")\n",
    "\n",
    "alpha = 0.05\n",
    "if p_value < alpha:\n",
    "    print(\"El nombre de files no segueix una distribució normal.\")\n",
    "else:\n",
    "    print(\"El nombre de files segueix una distribució normal\")"
   ],
   "id": "6cba774cd30a32c1",
   "outputs": [
    {
     "name": "stdout",
     "output_type": "stream",
     "text": [
      "Estadístico W = 0.2008\n",
      "Valor p = 0.0000\n",
      "El número de filas no sigue una distribución normal (rechazar H0).\n"
     ]
    }
   ],
   "execution_count": 600
  },
  {
   "metadata": {
    "ExecuteTime": {
     "end_time": "2024-04-19T11:56:19.530059Z",
     "start_time": "2024-04-19T11:56:19.517295Z"
    }
   },
   "cell_type": "code",
   "source": [
    "stat, p_value_12 = mannwhitneyu(CON_PA['sarcopenia'], CON_PA_MECVV['sarcopenia'], alternative='two-sided')\n",
    "print(\"P-valor entre CON_PA i CON_PA_MECVV\", p_value_12)"
   ],
   "id": "313be6964130b7aa",
   "outputs": [
    {
     "name": "stdout",
     "output_type": "stream",
     "text": [
      "P-valor entre CON_PA i CON_PA_MECVV 0.21976847950216105\n"
     ]
    }
   ],
   "execution_count": 601
  },
  {
   "metadata": {
    "ExecuteTime": {
     "end_time": "2024-04-19T11:56:37.952371Z",
     "start_time": "2024-04-19T11:56:37.942183Z"
    }
   },
   "cell_type": "code",
   "source": [
    "stat, p_value_13 = mannwhitneyu(CON_PA['sarcopenia'], SIN_PA['sarcopenia'], alternative='two-sided')\n",
    "print(\"P-valor entre CON_PA i SIN_PA\", p_value_13)"
   ],
   "id": "311f77406d30370b",
   "outputs": [
    {
     "name": "stdout",
     "output_type": "stream",
     "text": [
      "P-valor entre CON_PA i SIN_PA 0.41519527301502746\n"
     ]
    }
   ],
   "execution_count": 602
  },
  {
   "metadata": {
    "ExecuteTime": {
     "end_time": "2024-04-19T11:57:19.747826Z",
     "start_time": "2024-04-19T11:57:19.735175Z"
    }
   },
   "cell_type": "code",
   "source": [
    "stat, p_value_23 = mannwhitneyu(CON_PA_MECVV['sarcopenia'], SIN_PA['sarcopenia'], alternative='two-sided')\n",
    "print(\"P-valor entre CON_PA_MECVV i SIN_PA\", p_value_23)"
   ],
   "id": "2fd5fff672c1e53",
   "outputs": [
    {
     "name": "stdout",
     "output_type": "stream",
     "text": [
      "P-valor entre CON_PA_MECVV i SIN_PA 0.45734646700671056\n"
     ]
    }
   ],
   "execution_count": 603
  },
  {
   "metadata": {},
   "cell_type": "markdown",
   "source": "## Trastorns del son",
   "id": "f41eecfcc7117fb8"
  },
  {
   "metadata": {
    "ExecuteTime": {
     "end_time": "2024-04-19T11:57:38.045042Z",
     "start_time": "2024-04-19T11:57:38.036723Z"
    }
   },
   "cell_type": "code",
   "source": [
    "ts_CON_PA= (CON_PA['problsueño'] == 1.0).mean() * 100\n",
    "print(f\"Percentatge de trastorns del son: {ts_CON_PA:.2f}%\")"
   ],
   "id": "cb850aac92c63822",
   "outputs": [
    {
     "name": "stdout",
     "output_type": "stream",
     "text": [
      "Percentatge de trastornos del sueño: 0.00%\n"
     ]
    }
   ],
   "execution_count": 604
  },
  {
   "metadata": {
    "ExecuteTime": {
     "end_time": "2024-04-19T11:58:19.749498Z",
     "start_time": "2024-04-19T11:58:19.741420Z"
    }
   },
   "cell_type": "code",
   "source": [
    "ts_CON_PA_MECVV= (CON_PA_MECVV['problsueño'] == 1.0).mean() * 100\n",
    "print(f\"Percentatge de trastorns del son: {ts_CON_PA_MECVV:.2f}%\")"
   ],
   "id": "2879ba619f21dd9",
   "outputs": [
    {
     "name": "stdout",
     "output_type": "stream",
     "text": [
      "Percentatge de trastornos del sueño: 0.00%\n"
     ]
    }
   ],
   "execution_count": 605
  },
  {
   "metadata": {
    "ExecuteTime": {
     "end_time": "2024-04-19T11:58:38.293101Z",
     "start_time": "2024-04-19T11:58:38.245923Z"
    }
   },
   "cell_type": "code",
   "source": [
    "ts_SIN_PA= (SIN_PA['problsueño'] == 1.0).mean() * 100\n",
    "print(f\"Percentatge de trastorns del son: {ts_SIN_PA:.2f}%\")"
   ],
   "id": "dd0194dec4acdb86",
   "outputs": [
    {
     "name": "stdout",
     "output_type": "stream",
     "text": [
      "Percentatge de trastornos del sueño: 0.00%\n"
     ]
    }
   ],
   "execution_count": 606
  },
  {
   "metadata": {},
   "cell_type": "markdown",
   "source": "## Dolor crònic",
   "id": "e9f22902aac5d32c"
  },
  {
   "metadata": {
    "ExecuteTime": {
     "end_time": "2024-04-19T11:59:20.016300Z",
     "start_time": "2024-04-19T11:59:19.966703Z"
    }
   },
   "cell_type": "code",
   "source": [
    "dc_CON_PA= (CON_PA['dolor_cron'] == 1.0).mean() * 100\n",
    "print(f\"Percentatge de dolor crònic: {dc_CON_PA:.2f}%\")"
   ],
   "id": "f05d2f7a214d0e82",
   "outputs": [
    {
     "name": "stdout",
     "output_type": "stream",
     "text": [
      "Percentatge de dolor cronico: 0.00%\n"
     ]
    }
   ],
   "execution_count": 607
  },
  {
   "metadata": {
    "ExecuteTime": {
     "end_time": "2024-04-19T11:59:38.316838Z",
     "start_time": "2024-04-19T11:59:38.300389Z"
    }
   },
   "cell_type": "code",
   "source": [
    "dc_CON_PA_MECVV= (CON_PA_MECVV['dolor_cron'] == 1.0).mean() * 100\n",
    "print(f\"Percentatge de dolor crònic: {dc_CON_PA_MECVV:.2f}%\")"
   ],
   "id": "f30beb6300be5f9c",
   "outputs": [
    {
     "name": "stdout",
     "output_type": "stream",
     "text": [
      "Percentatge de dolor cronico: 0.00%\n"
     ]
    }
   ],
   "execution_count": 608
  },
  {
   "metadata": {
    "ExecuteTime": {
     "end_time": "2024-04-19T12:00:24.330099Z",
     "start_time": "2024-04-19T12:00:24.321747Z"
    }
   },
   "cell_type": "code",
   "source": [
    "dc_SIN_PA= (SIN_PA['dolor_cron'] == 1.0).mean() * 100\n",
    "print(f\"Percentatge de dolor crònic: {dc_SIN_PA:.2f}%\")"
   ],
   "id": "1ac2254ca76f0a08",
   "outputs": [
    {
     "name": "stdout",
     "output_type": "stream",
     "text": [
      "Percentatge de dolor cronico: 0.00%\n"
     ]
    }
   ],
   "execution_count": 609
  },
  {
   "metadata": {},
   "cell_type": "markdown",
   "source": "## Iatrogènic",
   "id": "e4a4ace86ca41600"
  },
  {
   "metadata": {
    "ExecuteTime": {
     "end_time": "2024-04-19T12:00:38.369668Z",
     "start_time": "2024-04-19T12:00:38.316410Z"
    }
   },
   "cell_type": "code",
   "source": [
    "iatr_CON_PA= (CON_PA['iatrogenico'] == 1.0).mean() * 100\n",
    "print(f\"Percentatge de iatrogènic: {iatr_CON_PA:.2f}%\")"
   ],
   "id": "ce5326efc8d1cbef",
   "outputs": [
    {
     "name": "stdout",
     "output_type": "stream",
     "text": [
      "Percentatge de iatrogenico: 0.00%\n"
     ]
    }
   ],
   "execution_count": 610
  },
  {
   "metadata": {
    "ExecuteTime": {
     "end_time": "2024-04-19T12:01:24.313960Z",
     "start_time": "2024-04-19T12:01:24.301196Z"
    }
   },
   "cell_type": "code",
   "source": [
    "iatr_CON_PA_MECVV= (CON_PA_MECVV['iatrogenico'] == 1.0).mean() * 100\n",
    "print(f\"Percentatge de iatrogènic: {iatr_CON_PA_MECVV:.2f}%\")"
   ],
   "id": "3b93f7c7a1f8390a",
   "outputs": [
    {
     "name": "stdout",
     "output_type": "stream",
     "text": [
      "Percentatge de iatrogenico: 0.00%\n"
     ]
    }
   ],
   "execution_count": 611
  },
  {
   "metadata": {
    "ExecuteTime": {
     "end_time": "2024-04-19T12:01:38.383368Z",
     "start_time": "2024-04-19T12:01:38.373740Z"
    }
   },
   "cell_type": "code",
   "source": [
    "iatr_SIN_PA= (SIN_PA['iatrogenico'] == 1.0).mean() * 100\n",
    "print(f\"Percentatge de iatrogènic: {iatr_SIN_PA:.2f}%\")"
   ],
   "id": "6e91605bdf68ebe6",
   "outputs": [
    {
     "name": "stdout",
     "output_type": "stream",
     "text": [
      "Percentatge de iatrogenico: 0.00%\n"
     ]
    }
   ],
   "execution_count": 612
  },
  {
   "metadata": {},
   "cell_type": "markdown",
   "source": "## Restrenyiment",
   "id": "db8d96a1cf0b32f4"
  },
  {
   "metadata": {
    "ExecuteTime": {
     "end_time": "2024-04-19T12:02:24.363547Z",
     "start_time": "2024-04-19T12:02:24.353784Z"
    }
   },
   "cell_type": "code",
   "source": [
    "est_CON_PA= (CON_PA['estreñimiento'] == 1.0).mean() * 100\n",
    "print(f\"Percentatge de restrenyiment: {est_CON_PA:.2f}%\")"
   ],
   "id": "dc16c6f9e735fbb2",
   "outputs": [
    {
     "name": "stdout",
     "output_type": "stream",
     "text": [
      "Percentatge de estreñimiento: 0.00%\n"
     ]
    }
   ],
   "execution_count": 613
  },
  {
   "metadata": {
    "ExecuteTime": {
     "end_time": "2024-04-19T12:02:38.389289Z",
     "start_time": "2024-04-19T12:02:38.381840Z"
    }
   },
   "cell_type": "code",
   "source": [
    "est_CON_PA_MECVV= (CON_PA_MECVV['estreñimiento'] == 1.0).mean() * 100\n",
    "print(f\"Percentatge de restrenyiment: {est_CON_PA_MECVV:.2f}%\")"
   ],
   "id": "b3bf84a44b2be1a",
   "outputs": [
    {
     "name": "stdout",
     "output_type": "stream",
     "text": [
      "Percentatge de estreñimiento: 0.00%\n"
     ]
    }
   ],
   "execution_count": 614
  },
  {
   "metadata": {
    "ExecuteTime": {
     "end_time": "2024-04-19T12:03:24.382779Z",
     "start_time": "2024-04-19T12:03:24.346227Z"
    }
   },
   "cell_type": "code",
   "source": [
    "est_SIN_PA= (SIN_PA['estreñimiento'] == 1.0).mean() * 100\n",
    "print(f\"Percentatge de restrenyiment: {est_SIN_PA:.2f}%\")"
   ],
   "id": "a2ac461b783cef25",
   "outputs": [
    {
     "name": "stdout",
     "output_type": "stream",
     "text": [
      "Percentatge de estreñimiento: 0.00%\n"
     ]
    }
   ],
   "execution_count": 615
  },
  {
   "metadata": {},
   "cell_type": "markdown",
   "source": "# Historial mèdic/comorbilitats",
   "id": "d311da4873623a2b"
  },
  {
   "metadata": {},
   "cell_type": "markdown",
   "source": "## Malalties CV",
   "id": "3d8f9f8d375849e3"
  },
  {
   "metadata": {
    "ExecuteTime": {
     "end_time": "2024-04-19T12:03:38.388809Z",
     "start_time": "2024-04-19T12:03:38.351147Z"
    }
   },
   "cell_type": "code",
   "source": [
    "cv_CON_PA= (CON_PA['CV'] == 1.0).mean() * 100\n",
    "print(f\"Percentatge de problemes CV: {cv_CON_PA:.2f}%\")"
   ],
   "id": "e32cfa2a884f35ec",
   "outputs": [
    {
     "name": "stdout",
     "output_type": "stream",
     "text": [
      "Percentatge de problemas CV: 5.88%\n"
     ]
    }
   ],
   "execution_count": 616
  },
  {
   "metadata": {
    "ExecuteTime": {
     "end_time": "2024-04-19T12:04:24.369023Z",
     "start_time": "2024-04-19T12:04:24.357139Z"
    }
   },
   "cell_type": "code",
   "source": [
    "cv_CON_PA_MECVV= (CON_PA_MECVV['CV'] == 1.0).mean() * 100\n",
    "print(f\"Percentatge de problemes CV: {cv_CON_PA_MECVV:.2f}%\")"
   ],
   "id": "88b79facc46de5ee",
   "outputs": [
    {
     "name": "stdout",
     "output_type": "stream",
     "text": [
      "Percentatge de problemas CV: 10.00%\n"
     ]
    }
   ],
   "execution_count": 617
  },
  {
   "metadata": {
    "ExecuteTime": {
     "end_time": "2024-04-19T12:04:38.407316Z",
     "start_time": "2024-04-19T12:04:38.364286Z"
    }
   },
   "cell_type": "code",
   "source": [
    "cv_SIN_PA= (SIN_PA['CV'] == 1.0).mean() * 100\n",
    "print(f\"Percentatge de problemes CV: {cv_SIN_PA:.2f}%\")"
   ],
   "id": "69cd26f61d232d64",
   "outputs": [
    {
     "name": "stdout",
     "output_type": "stream",
     "text": [
      "Percentatge de problemas CV: 6.12%\n"
     ]
    }
   ],
   "execution_count": 618
  },
  {
   "metadata": {},
   "cell_type": "markdown",
   "source": "#### Pvalor",
   "id": "4cd96e9749196e1e"
  },
  {
   "metadata": {},
   "cell_type": "markdown",
   "source": "##### Normalitat ",
   "id": "7cdc03afbe142fec"
  },
  {
   "metadata": {
    "ExecuteTime": {
     "end_time": "2024-04-19T12:05:24.411092Z",
     "start_time": "2024-04-19T12:05:24.401694Z"
    }
   },
   "cell_type": "code",
   "source": [
    "stat, p_value = shapiro(CON_PA['CV'])\n",
    "print(f\"Estadístic W = {stat:.4f}\")\n",
    "print(f\"Valor p = {p_value:.4f}\")\n",
    "\n",
    "alpha = 0.05\n",
    "if p_value < alpha:\n",
    "    print(\"El nombre de files no segueix una distribució normal.\")\n",
    "else:\n",
    "    print(\"El nombre de files segueix una distribució normal\")"
   ],
   "id": "50ac2eecc28b5527",
   "outputs": [
    {
     "name": "stdout",
     "output_type": "stream",
     "text": [
      "Estadístico W = 0.2622\n",
      "Valor p = 0.0000\n",
      "El número de filas no sigue una distribución normal (rechazar H0).\n"
     ]
    }
   ],
   "execution_count": 619
  },
  {
   "metadata": {
    "ExecuteTime": {
     "end_time": "2024-04-19T12:05:38.425361Z",
     "start_time": "2024-04-19T12:05:38.374309Z"
    }
   },
   "cell_type": "code",
   "source": [
    "stat, p_value = shapiro(CON_PA_MECVV['CV'])\n",
    "print(f\"Estadístic W = {stat:.4f}\")\n",
    "print(f\"Valor p = {p_value:.4f}\")\n",
    "\n",
    "alpha = 0.05\n",
    "if p_value < alpha:\n",
    "    print(\"El nombre de files no segueix una distribució normal.\")\n",
    "else:\n",
    "    print(\"El nombre de files segueix una distribució normal\")"
   ],
   "id": "22011b4c30d26edb",
   "outputs": [
    {
     "name": "stdout",
     "output_type": "stream",
     "text": [
      "Estadístico W = 0.3657\n",
      "Valor p = 0.0000\n",
      "El número de filas no sigue una distribución normal (rechazar H0).\n"
     ]
    }
   ],
   "execution_count": 620
  },
  {
   "metadata": {
    "ExecuteTime": {
     "end_time": "2024-04-19T12:06:24.421933Z",
     "start_time": "2024-04-19T12:06:24.413263Z"
    }
   },
   "cell_type": "code",
   "source": [
    "stat, p_value = shapiro(SIN_PA['CV'])\n",
    "print(f\"Estadístic W = {stat:.4f}\")\n",
    "print(f\"Valor p = {p_value:.4f}\")\n",
    "\n",
    "alpha = 0.05\n",
    "if p_value < alpha:\n",
    "    print(\"El nombre de files no segueix una distribució normal.\")\n",
    "else:\n",
    "    print(\"El nombre de files segueix una distribució normal\")"
   ],
   "id": "e1db160804e3a620",
   "outputs": [
    {
     "name": "stdout",
     "output_type": "stream",
     "text": [
      "Estadístico W = 0.2580\n",
      "Valor p = 0.0000\n",
      "El número de filas no sigue una distribución normal (rechazar H0).\n"
     ]
    }
   ],
   "execution_count": 621
  },
  {
   "metadata": {
    "ExecuteTime": {
     "end_time": "2024-04-19T12:06:38.406357Z",
     "start_time": "2024-04-19T12:06:38.399205Z"
    }
   },
   "cell_type": "code",
   "source": [
    "stat, p_value_12 = mannwhitneyu(CON_PA['CV'], CON_PA_MECVV['CV'], alternative='two-sided')\n",
    "print(\"P-valor entre CON_PA i CON_PA_MECVV\", p_value_12)"
   ],
   "id": "5f10fd063b9b5044",
   "outputs": [
    {
     "name": "stdout",
     "output_type": "stream",
     "text": [
      "P-valor entre CON_PA i CON_PA_MECVV 0.7400102360583588\n"
     ]
    }
   ],
   "execution_count": 622
  },
  {
   "metadata": {
    "ExecuteTime": {
     "end_time": "2024-04-19T12:07:24.462048Z",
     "start_time": "2024-04-19T12:07:24.424069Z"
    }
   },
   "cell_type": "code",
   "source": [
    "stat, p_value_13 = mannwhitneyu(CON_PA['CV'], SIN_PA['CV'], alternative='two-sided')\n",
    "print(\"P-valor entre CON_PA i SIN_PA\", p_value_13)"
   ],
   "id": "3e6ab47f2f7f38d6",
   "outputs": [
    {
     "name": "stdout",
     "output_type": "stream",
     "text": [
      "P-valor entre CON_PA i SIN_PA 0.9858477456716862\n"
     ]
    }
   ],
   "execution_count": 623
  },
  {
   "metadata": {
    "ExecuteTime": {
     "end_time": "2024-04-19T12:07:38.461532Z",
     "start_time": "2024-04-19T12:07:38.422153Z"
    }
   },
   "cell_type": "code",
   "source": [
    "stat, p_value_23 = mannwhitneyu(CON_PA_MECVV['CV'], SIN_PA['CV'], alternative='two-sided')\n",
    "print(\"P-valor entre CON_PA_MECVV i SIN_PA\", p_value_23)"
   ],
   "id": "c9c3b2baeeea6423",
   "outputs": [
    {
     "name": "stdout",
     "output_type": "stream",
     "text": [
      "P-valor entre CON_PA_MECVV i SIN_PA 0.6762982127217047\n"
     ]
    }
   ],
   "execution_count": 624
  },
  {
   "metadata": {},
   "cell_type": "markdown",
   "source": "## Malalties del cor",
   "id": "ccb034e70398680a"
  },
  {
   "metadata": {
    "ExecuteTime": {
     "end_time": "2024-04-19T12:08:24.486316Z",
     "start_time": "2024-04-19T12:08:24.451842Z"
    }
   },
   "cell_type": "code",
   "source": [
    "cora_CON_PA= (CON_PA['probl_corazon'] == 1.0).mean() * 100\n",
    "print(f\"Percentatge de malalties de cor: {cora_CON_PA:.2f}%\")"
   ],
   "id": "83445fc0eafd0407",
   "outputs": [
    {
     "name": "stdout",
     "output_type": "stream",
     "text": [
      "Percentatge de enfermedades del corazon: 11.76%\n"
     ]
    }
   ],
   "execution_count": 625
  },
  {
   "metadata": {
    "ExecuteTime": {
     "end_time": "2024-04-19T12:08:38.435678Z",
     "start_time": "2024-04-19T12:08:38.429048Z"
    }
   },
   "cell_type": "code",
   "source": [
    "cora_CON_PA_MECVV= (CON_PA_MECVV['probl_corazon'] == 1.0).mean() * 100\n",
    "print(f\"Percentatge de malalties de cor: {cora_CON_PA_MECVV:.2f}%\")"
   ],
   "id": "bd7136466bd809e1",
   "outputs": [
    {
     "name": "stdout",
     "output_type": "stream",
     "text": [
      "Percentatge de enfermedades del corazon: 10.00%\n"
     ]
    }
   ],
   "execution_count": 626
  },
  {
   "metadata": {
    "ExecuteTime": {
     "end_time": "2024-04-19T12:09:24.474078Z",
     "start_time": "2024-04-19T12:09:24.467377Z"
    }
   },
   "cell_type": "code",
   "source": [
    "cora_SIN_PA= (SIN_PA['probl_corazon'] == 1.0).mean() * 100\n",
    "print(f\"Percentatge de malalties de cor: {cora_SIN_PA:.2f}%\")"
   ],
   "id": "f5a394abf4441af0",
   "outputs": [
    {
     "name": "stdout",
     "output_type": "stream",
     "text": [
      "Percentatge de enfermedades del corazon: 14.29%\n"
     ]
    }
   ],
   "execution_count": 627
  },
  {
   "metadata": {},
   "cell_type": "markdown",
   "source": "#### Pvalor",
   "id": "a6c0069e93bb4b47"
  },
  {
   "metadata": {},
   "cell_type": "markdown",
   "source": "##### Normalitat",
   "id": "a72ee98e29b732e6"
  },
  {
   "metadata": {
    "ExecuteTime": {
     "end_time": "2024-04-19T12:09:38.484617Z",
     "start_time": "2024-04-19T12:09:38.431357Z"
    }
   },
   "cell_type": "code",
   "source": [
    "stat, p_value = shapiro(CON_PA['probl_corazon'])\n",
    "print(f\"Estadístic W = {stat:.4f}\")\n",
    "print(f\"Valor p = {p_value:.4f}\")\n",
    "\n",
    "alpha = 0.05\n",
    "if p_value < alpha:\n",
    "    print(\"El nombre de files no segueix una distribució normal.\")\n",
    "else:\n",
    "    print(\"El nombre de files segueix una distribució normal\")"
   ],
   "id": "70125a59e92a41c9",
   "outputs": [
    {
     "name": "stdout",
     "output_type": "stream",
     "text": [
      "Estadístico W = 0.3853\n",
      "Valor p = 0.0000\n",
      "El número de filas no sigue una distribución normal (rechazar H0).\n"
     ]
    }
   ],
   "execution_count": 628
  },
  {
   "metadata": {
    "ExecuteTime": {
     "end_time": "2024-04-19T12:10:24.576627Z",
     "start_time": "2024-04-19T12:10:24.521619Z"
    }
   },
   "cell_type": "code",
   "source": [
    "stat, p_value = shapiro(CON_PA_MECVV['probl_corazon'])\n",
    "print(f\"Estadístic W = {stat:.4f}\")\n",
    "print(f\"Valor p = {p_value:.4f}\")\n",
    "\n",
    "alpha = 0.05\n",
    "if p_value < alpha:\n",
    "    print(\"El nombre de files no segueix una distribució normal.\")\n",
    "else:\n",
    "    print(\"El nombre de files segueix una distribució normal\")"
   ],
   "id": "74329b3c356ab930",
   "outputs": [
    {
     "name": "stdout",
     "output_type": "stream",
     "text": [
      "Estadístico W = 0.3657\n",
      "Valor p = 0.0000\n",
      "El número de filas no sigue una distribución normal (rechazar H0).\n"
     ]
    }
   ],
   "execution_count": 629
  },
  {
   "metadata": {
    "ExecuteTime": {
     "end_time": "2024-04-19T12:10:38.501664Z",
     "start_time": "2024-04-19T12:10:38.494971Z"
    }
   },
   "cell_type": "code",
   "source": [
    "stat, p_value = shapiro(SIN_PA['probl_corazon'])\n",
    "print(f\"Estadístic W = {stat:.4f}\")\n",
    "print(f\"Valor p = {p_value:.4f}\")\n",
    "\n",
    "alpha = 0.05\n",
    "if p_value < alpha:\n",
    "    print(\"El nombre de files no segueix una distribució normal.\")\n",
    "else:\n",
    "    print(\"El nombre de files segueix una distribució normal\")"
   ],
   "id": "c5eb2d33fd46a0dd",
   "outputs": [
    {
     "name": "stdout",
     "output_type": "stream",
     "text": [
      "Estadístico W = 0.4168\n",
      "Valor p = 0.0000\n",
      "El número de filas no sigue una distribución normal (rechazar H0).\n"
     ]
    }
   ],
   "execution_count": 630
  },
  {
   "metadata": {
    "ExecuteTime": {
     "end_time": "2024-04-19T12:11:24.515857Z",
     "start_time": "2024-04-19T12:11:24.504180Z"
    }
   },
   "cell_type": "code",
   "source": [
    "stat, p_value_12 = mannwhitneyu(CON_PA['probl_corazon'], CON_PA_MECVV['probl_corazon'], alternative='two-sided')\n",
    "print(\"P-valor entre CON_PA i CON_PA_MECVV\", p_value_12)"
   ],
   "id": "dd41146095c973e6",
   "outputs": [
    {
     "name": "stdout",
     "output_type": "stream",
     "text": [
      "P-valor entre CON_PA i CON_PA_MECVV 0.9265568396984611\n"
     ]
    }
   ],
   "execution_count": 631
  },
  {
   "metadata": {
    "ExecuteTime": {
     "end_time": "2024-04-19T12:11:38.667490Z",
     "start_time": "2024-04-19T12:11:38.626033Z"
    }
   },
   "cell_type": "code",
   "source": [
    "stat, p_value_13 = mannwhitneyu(CON_PA['CV'], SIN_PA['CV'], alternative='two-sided')\n",
    "print(\"P-valor entre CON_PA i SIN_PA\", p_value_13)"
   ],
   "id": "51f94835fcff1281",
   "outputs": [
    {
     "name": "stdout",
     "output_type": "stream",
     "text": [
      "P-valor entre CON_PA i SIN_PA 0.9858477456716862\n"
     ]
    }
   ],
   "execution_count": 632
  },
  {
   "metadata": {
    "ExecuteTime": {
     "end_time": "2024-04-19T12:12:24.536499Z",
     "start_time": "2024-04-19T12:12:24.529445Z"
    }
   },
   "cell_type": "code",
   "source": [
    "stat, p_value_23 = mannwhitneyu(CON_PA_MECVV['CV'], SIN_PA['CV'], alternative='two-sided')\n",
    "print(\"P-valor entre CON_PA_MECVV i SIN_PA\", p_value_23)"
   ],
   "id": "91d8fe72b61842",
   "outputs": [
    {
     "name": "stdout",
     "output_type": "stream",
     "text": [
      "P-valor entre CON_PA_MECVV i SIN_PA 0.6762982127217047\n"
     ]
    }
   ],
   "execution_count": 633
  },
  {
   "metadata": {},
   "cell_type": "markdown",
   "source": "## Enfermedades neurodegenerativas",
   "id": "18c9cce147e62274"
  },
  {
   "metadata": {
    "ExecuteTime": {
     "end_time": "2024-04-19T12:12:38.702714Z",
     "start_time": "2024-04-19T12:12:38.686808Z"
    }
   },
   "cell_type": "code",
   "source": [
    "nd_CON_PA= (CON_PA['neurodegenerativas'] == 1.0).mean() * 100\n",
    "print(f\"Percentatge de enfermedades neurodegenerativas: {nd_CON_PA:.2f}%\")"
   ],
   "id": "1b290be0c970c5fe",
   "outputs": [
    {
     "name": "stdout",
     "output_type": "stream",
     "text": [
      "Percentatge de enfermedades neurodegenerativas: 0.00%\n"
     ]
    }
   ],
   "execution_count": 634
  },
  {
   "metadata": {
    "ExecuteTime": {
     "end_time": "2024-04-19T12:13:24.552630Z",
     "start_time": "2024-04-19T12:13:24.545042Z"
    }
   },
   "cell_type": "code",
   "source": [
    "nd_CON_PA_MECVV= (CON_PA_MECVV['neurodegenerativas'] == 1.0).mean() * 100\n",
    "print(f\"Percentatge de enfermedades neurodegenerativas: {nd_CON_PA_MECVV:.2f}%\")"
   ],
   "id": "d7a46cc9000b68a9",
   "outputs": [
    {
     "name": "stdout",
     "output_type": "stream",
     "text": [
      "Percentatge de enfermedades neurodegenerativas: 10.00%\n"
     ]
    }
   ],
   "execution_count": 635
  },
  {
   "metadata": {
    "ExecuteTime": {
     "end_time": "2024-04-19T12:13:38.704243Z",
     "start_time": "2024-04-19T12:13:38.684905Z"
    }
   },
   "cell_type": "code",
   "source": [
    "nd_SIN_PA= (SIN_PA['neurodegenerativas'] == 1.0).mean() * 100\n",
    "print(f\"Percentatge de enfermedades neurodegenerativas: {nd_SIN_PA:.2f}%\")"
   ],
   "id": "fef909050dd582f3",
   "outputs": [
    {
     "name": "stdout",
     "output_type": "stream",
     "text": [
      "Percentatge de enfermedades neurodegenerativas: 4.08%\n"
     ]
    }
   ],
   "execution_count": 636
  },
  {
   "metadata": {},
   "cell_type": "markdown",
   "source": "#### Pvalor",
   "id": "13d4492161572489"
  },
  {
   "metadata": {},
   "cell_type": "markdown",
   "source": "##### Normalitat",
   "id": "e98b267abe8ec4da"
  },
  {
   "metadata": {
    "ExecuteTime": {
     "end_time": "2024-04-19T12:14:24.608480Z",
     "start_time": "2024-04-19T12:14:24.596786Z"
    }
   },
   "cell_type": "code",
   "source": [
    "stat, p_value = shapiro(CON_PA['neurodegenerativas'])\n",
    "print(f\"Estadístic W = {stat:.4f}\")\n",
    "print(f\"Valor p = {p_value:.4f}\")\n",
    "\n",
    "alpha = 0.05\n",
    "if p_value < alpha:\n",
    "    print(\"El nombre de files no segueix una distribució normal.\")\n",
    "else:\n",
    "    print(\"El nombre de files segueix una distribució normal\")"
   ],
   "id": "8d87943002876acb",
   "outputs": [
    {
     "name": "stdout",
     "output_type": "stream",
     "text": [
      "Estadístico W = 1.0000\n",
      "Valor p = 1.0000\n",
      "El número de filas sigue una distribución normal (aceptar H0).\n"
     ]
    }
   ],
   "execution_count": 637
  },
  {
   "metadata": {
    "ExecuteTime": {
     "end_time": "2024-04-19T12:14:38.752625Z",
     "start_time": "2024-04-19T12:14:38.703533Z"
    }
   },
   "cell_type": "code",
   "source": [
    "stat, p_value = shapiro(CON_PA_MECVV['neurodegenerativas'])\n",
    "print(f\"Estadístic W = {stat:.4f}\")\n",
    "print(f\"Valor p = {p_value:.4f}\")\n",
    "\n",
    "alpha = 0.05\n",
    "if p_value < alpha:\n",
    "    print(\"El nombre de files no segueix una distribució normal.\")\n",
    "else:\n",
    "    print(\"El nombre de files segueix una distribució normal\")"
   ],
   "id": "6982f3d36ccde172",
   "outputs": [
    {
     "name": "stdout",
     "output_type": "stream",
     "text": [
      "Estadístico W = 0.3657\n",
      "Valor p = 0.0000\n",
      "El número de filas no sigue una distribución normal (rechazar H0).\n"
     ]
    }
   ],
   "execution_count": 638
  },
  {
   "metadata": {
    "ExecuteTime": {
     "end_time": "2024-04-19T12:15:24.672535Z",
     "start_time": "2024-04-19T12:15:24.611058Z"
    }
   },
   "cell_type": "code",
   "source": [
    "stat, p_value = shapiro(SIN_PA['neurodegenerativas'])\n",
    "print(f\"Estadístic W = {stat:.4f}\")\n",
    "print(f\"Valor p = {p_value:.4f}\")\n",
    "\n",
    "alpha = 0.05\n",
    "if p_value < alpha:\n",
    "    print(\"El nombre de files no segueix una distribució normal.\")\n",
    "else:\n",
    "    print(\"El nombre de files segueix una distribució normal\")"
   ],
   "id": "4a33f042367e4f46",
   "outputs": [
    {
     "name": "stdout",
     "output_type": "stream",
     "text": [
      "Estadístico W = 0.2008\n",
      "Valor p = 0.0000\n",
      "El número de filas no sigue una distribución normal (rechazar H0).\n"
     ]
    }
   ],
   "execution_count": 639
  },
  {
   "metadata": {
    "ExecuteTime": {
     "end_time": "2024-04-19T12:15:43.795343Z",
     "start_time": "2024-04-19T12:15:43.784827Z"
    }
   },
   "cell_type": "code",
   "source": [
    "stat, p_value_12 = mannwhitneyu(CON_PA['neurodegenerativas'], CON_PA_MECVV['neurodegenerativas'], alternative='two-sided')\n",
    "print(\"P-valor entre CON_PA i CON_PA_MECVV\", p_value_12)"
   ],
   "id": "7ea74d2a49cec4ac",
   "outputs": [
    {
     "name": "stdout",
     "output_type": "stream",
     "text": [
      "P-valor entre CON_PA i CON_PA_MECVV 0.21976847950216105\n"
     ]
    }
   ],
   "execution_count": 640
  },
  {
   "metadata": {
    "ExecuteTime": {
     "end_time": "2024-04-19T12:16:24.670930Z",
     "start_time": "2024-04-19T12:16:24.663953Z"
    }
   },
   "cell_type": "code",
   "source": [
    "stat, p_value_13 = mannwhitneyu(CON_PA['neurodegenerativas'], SIN_PA['neurodegenerativas'], alternative='two-sided')\n",
    "print(\"P-valor entre CON_PA i SIN_PA\", p_value_13)"
   ],
   "id": "fedde2b245d34d1",
   "outputs": [
    {
     "name": "stdout",
     "output_type": "stream",
     "text": [
      "P-valor entre CON_PA i SIN_PA 0.41519527301502746\n"
     ]
    }
   ],
   "execution_count": 641
  },
  {
   "metadata": {
    "ExecuteTime": {
     "end_time": "2024-04-19T12:16:43.843190Z",
     "start_time": "2024-04-19T12:16:43.799767Z"
    }
   },
   "cell_type": "code",
   "source": [
    "stat, p_value_23 = mannwhitneyu(CON_PA_MECVV['neurodegenerativas'], SIN_PA['neurodegenerativas'], alternative='two-sided')\n",
    "print(\"P-valor entre CON_PA_MECVV i SIN_PA\", p_value_23)"
   ],
   "id": "2329b5f7f410f0fb",
   "outputs": [
    {
     "name": "stdout",
     "output_type": "stream",
     "text": [
      "P-valor entre CON_PA_MECVV i SIN_PA 0.45734646700671056\n"
     ]
    }
   ],
   "execution_count": 642
  },
  {
   "metadata": {},
   "cell_type": "markdown",
   "source": "## Diabetes mellitus",
   "id": "42b942e8587dc0c3"
  },
  {
   "metadata": {
    "ExecuteTime": {
     "end_time": "2024-04-19T12:17:24.675722Z",
     "start_time": "2024-04-19T12:17:24.669911Z"
    }
   },
   "cell_type": "code",
   "source": [
    "dm_CON_PA= (CON_PA['DM'] == 1.0).mean() * 100\n",
    "print(f\"Percentatge de diabetes mellitus: {dm_CON_PA:.2f}%\")"
   ],
   "id": "698511ef1e3136bc",
   "outputs": [
    {
     "name": "stdout",
     "output_type": "stream",
     "text": [
      "Percentatge de diabetes mellitus: 23.53%\n"
     ]
    }
   ],
   "execution_count": 643
  },
  {
   "metadata": {
    "ExecuteTime": {
     "end_time": "2024-04-19T12:17:43.822772Z",
     "start_time": "2024-04-19T12:17:43.816012Z"
    }
   },
   "cell_type": "code",
   "source": [
    "dm_CON_PA_MECVV= (CON_PA_MECVV['DM'] == 1.0).mean() * 100\n",
    "print(f\"Percentatge de diabetes mellitus: {dm_CON_PA_MECVV:.2f}%\")"
   ],
   "id": "80ed95bb2fa57c00",
   "outputs": [
    {
     "name": "stdout",
     "output_type": "stream",
     "text": [
      "Percentatge de diabetes mellitus: 10.00%\n"
     ]
    }
   ],
   "execution_count": 644
  },
  {
   "metadata": {
    "ExecuteTime": {
     "end_time": "2024-04-19T12:18:24.695205Z",
     "start_time": "2024-04-19T12:18:24.681Z"
    }
   },
   "cell_type": "code",
   "source": [
    "dm_SIN_PA= (SIN_PA['DM'] == 1.0).mean() * 100\n",
    "print(f\"Percentatge de diabetes mellitus: {dm_SIN_PA:.2f}%\")"
   ],
   "id": "2de37780f8d2b591",
   "outputs": [
    {
     "name": "stdout",
     "output_type": "stream",
     "text": [
      "Percentatge de diabetes mellitus: 26.53%\n"
     ]
    }
   ],
   "execution_count": 645
  },
  {
   "metadata": {},
   "cell_type": "markdown",
   "source": "#### Pvalor ",
   "id": "39c5da893c7deb9c"
  },
  {
   "metadata": {},
   "cell_type": "markdown",
   "source": "##### Normalitat",
   "id": "ebee9ab25c7f5d27"
  },
  {
   "metadata": {
    "ExecuteTime": {
     "end_time": "2024-04-19T12:18:43.855390Z",
     "start_time": "2024-04-19T12:18:43.842809Z"
    }
   },
   "cell_type": "code",
   "source": [
    "stat, p_value = shapiro(CON_PA['DM'])\n",
    "print(f\"Estadístic W = {stat:.4f}\")\n",
    "print(f\"Valor p = {p_value:.4f}\")\n",
    "\n",
    "alpha = 0.05\n",
    "if p_value < alpha:\n",
    "    print(\"El nombre de files no segueix una distribució normal.\")\n",
    "else:\n",
    "    print(\"El nombre de files segueix una distribució normal\")"
   ],
   "id": "873e8801ed67f9de",
   "outputs": [
    {
     "name": "stdout",
     "output_type": "stream",
     "text": [
      "Estadístico W = 0.5327\n",
      "Valor p = 0.0000\n",
      "El número de filas no sigue una distribución normal (rechazar H0).\n"
     ]
    }
   ],
   "execution_count": 646
  },
  {
   "metadata": {
    "ExecuteTime": {
     "end_time": "2024-04-19T12:19:24.702121Z",
     "start_time": "2024-04-19T12:19:24.691588Z"
    }
   },
   "cell_type": "code",
   "source": [
    "stat, p_value = shapiro(CON_PA_MECVV['DM'])\n",
    "print(f\"Estadístic W = {stat:.4f}\")\n",
    "print(f\"Valor p = {p_value:.4f}\")\n",
    "\n",
    "alpha = 0.05\n",
    "if p_value < alpha:\n",
    "    print(\"El nombre de files no segueix una distribució normal.\")\n",
    "else:\n",
    "    print(\"El nombre de files segueix una distribució normal\")"
   ],
   "id": "45d49dc27d20b1a8",
   "outputs": [
    {
     "name": "stdout",
     "output_type": "stream",
     "text": [
      "Estadístico W = 0.3657\n",
      "Valor p = 0.0000\n",
      "El número de filas no sigue una distribución normal (rechazar H0).\n"
     ]
    }
   ],
   "execution_count": 647
  },
  {
   "metadata": {
    "ExecuteTime": {
     "end_time": "2024-04-19T12:19:43.867001Z",
     "start_time": "2024-04-19T12:19:43.857084Z"
    }
   },
   "cell_type": "code",
   "source": [
    "stat, p_value = shapiro(SIN_PA['DM'])\n",
    "print(f\"Estadístic W = {stat:.4f}\")\n",
    "print(f\"Valor p = {p_value:.4f}\")\n",
    "\n",
    "alpha = 0.05\n",
    "if p_value < alpha:\n",
    "    print(\"El nombre de files no segueix una distribució normal.\")\n",
    "else:\n",
    "    print(\"El nombre de files segueix una distribució normal\")"
   ],
   "id": "7d5c39dae28b5115",
   "outputs": [
    {
     "name": "stdout",
     "output_type": "stream",
     "text": [
      "Estadístico W = 0.5514\n",
      "Valor p = 0.0000\n",
      "El número de filas no sigue una distribución normal (rechazar H0).\n"
     ]
    }
   ],
   "execution_count": 648
  },
  {
   "metadata": {
    "ExecuteTime": {
     "end_time": "2024-04-19T12:20:24.738319Z",
     "start_time": "2024-04-19T12:20:24.729380Z"
    }
   },
   "cell_type": "code",
   "source": [
    "stat, p_value_12 = mannwhitneyu(CON_PA['DM'], CON_PA_MECVV['DM'], alternative='two-sided')\n",
    "print(\"P-valor entre CON_PA i CON_PA_MECVV\", p_value_12)"
   ],
   "id": "b76e252fda353c31",
   "outputs": [
    {
     "name": "stdout",
     "output_type": "stream",
     "text": [
      "P-valor entre CON_PA i CON_PA_MECVV 0.4120280546315189\n"
     ]
    }
   ],
   "execution_count": 649
  },
  {
   "metadata": {
    "ExecuteTime": {
     "end_time": "2024-04-19T12:20:43.865508Z",
     "start_time": "2024-04-19T12:20:43.858590Z"
    }
   },
   "cell_type": "code",
   "source": [
    "stat, p_value_13 = mannwhitneyu(CON_PA['DM'], SIN_PA['DM'], alternative='two-sided')\n",
    "print(\"P-valor entre CON_PA i SIN_PAN\", p_value_13)"
   ],
   "id": "4cfaeae595eb594b",
   "outputs": [
    {
     "name": "stdout",
     "output_type": "stream",
     "text": [
      "P-valor entre CON_PA i SIN_PAN 0.8163159339942008\n"
     ]
    }
   ],
   "execution_count": 650
  },
  {
   "metadata": {
    "ExecuteTime": {
     "end_time": "2024-04-19T12:21:24.902138Z",
     "start_time": "2024-04-19T12:21:24.889986Z"
    }
   },
   "cell_type": "code",
   "source": [
    "stat, p_value_23 = mannwhitneyu(CON_PA_MECVV['DM'], SIN_PA['DM'], alternative='two-sided')\n",
    "print(\"P-valor entre CON_PA_MECVV i SIN_PAN\", p_value_23)"
   ],
   "id": "372c60185966ee23",
   "outputs": [
    {
     "name": "stdout",
     "output_type": "stream",
     "text": [
      "P-valor entre CON_PA_MECVV i SIN_PAN 0.2728301710651724\n"
     ]
    }
   ],
   "execution_count": 651
  },
  {
   "metadata": {},
   "cell_type": "markdown",
   "source": "## Hepatopatias",
   "id": "772c1f476c2f3d43"
  },
  {
   "metadata": {
    "ExecuteTime": {
     "end_time": "2024-04-19T12:22:27.483399Z",
     "start_time": "2024-04-19T12:22:27.439192Z"
    }
   },
   "cell_type": "code",
   "source": [
    "hp_CON_PA= (CON_PA['hepatopatias'] == 1.0).mean() * 100\n",
    "print(f\"Percentatge de hepatopatias: {hp_CON_PA:.2f}%\")"
   ],
   "id": "5cfced98e5d59960",
   "outputs": [
    {
     "name": "stdout",
     "output_type": "stream",
     "text": [
      "Percentatge de hepatopatias: 11.76%\n"
     ]
    }
   ],
   "execution_count": 652
  },
  {
   "metadata": {
    "ExecuteTime": {
     "end_time": "2024-04-19T12:23:24.266505Z",
     "start_time": "2024-04-19T12:23:24.254370Z"
    }
   },
   "cell_type": "code",
   "source": [
    "hp_CON_PA_MECVV= (CON_PA_MECVV['hepatopatias'] == 1.0).mean() * 100\n",
    "print(f\"Percentatge de hepatopatias: {hp_CON_PA_MECVV:.2f}%\")"
   ],
   "id": "ffeb2d3f7c6163ad",
   "outputs": [
    {
     "name": "stdout",
     "output_type": "stream",
     "text": [
      "Percentatge de hepatopatias: 10.00%\n"
     ]
    }
   ],
   "execution_count": 653
  },
  {
   "metadata": {
    "ExecuteTime": {
     "end_time": "2024-04-19T12:23:25.048760Z",
     "start_time": "2024-04-19T12:23:25.038307Z"
    }
   },
   "cell_type": "code",
   "source": [
    "hp_SIN_PA= (SIN_PA['hepatopatias'] == 1.0).mean() * 100\n",
    "print(f\"Percentatge de hepatopatias: {hp_SIN_PA:.2f}%\")"
   ],
   "id": "23ccf77254538573",
   "outputs": [
    {
     "name": "stdout",
     "output_type": "stream",
     "text": [
      "Percentatge de hepatopatias: 6.12%\n"
     ]
    }
   ],
   "execution_count": 654
  },
  {
   "metadata": {},
   "cell_type": "markdown",
   "source": "#### Pvalor",
   "id": "ee084e9b17270c10"
  },
  {
   "metadata": {},
   "cell_type": "markdown",
   "source": "##### Normalitat",
   "id": "b932958d65d9e455"
  },
  {
   "metadata": {
    "ExecuteTime": {
     "end_time": "2024-04-19T12:23:26.106262Z",
     "start_time": "2024-04-19T12:23:26.096201Z"
    }
   },
   "cell_type": "code",
   "source": [
    "stat, p_value = shapiro(CON_PA['hepatopatias'])\n",
    "print(f\"Estadístic W = {stat:.4f}\")\n",
    "print(f\"Valor p = {p_value:.4f}\")\n",
    "\n",
    "alpha = 0.05\n",
    "if p_value < alpha:\n",
    "    print(\"El nombre de files no segueix una distribució normal.\")\n",
    "else:\n",
    "    print(\"El nombre de files segueix una distribució normal\")"
   ],
   "id": "de51f01ce1362aab",
   "outputs": [
    {
     "name": "stdout",
     "output_type": "stream",
     "text": [
      "Estadístico W = 0.3853\n",
      "Valor p = 0.0000\n",
      "El número de filas no sigue una distribución normal (rechazar H0).\n"
     ]
    }
   ],
   "execution_count": 655
  },
  {
   "metadata": {
    "jupyter": {
     "is_executing": true
    }
   },
   "cell_type": "code",
   "source": [
    "stat, p_value = shapiro(CON_PA_MECVV['hepatopatias'])\n",
    "print(f\"Estadístic W = {stat:.4f}\")\n",
    "print(f\"Valor p = {p_value:.4f}\")\n",
    "\n",
    "alpha = 0.05\n",
    "if p_value < alpha:\n",
    "    print(\"El nombre de files no segueix una distribució normal.\")\n",
    "else:\n",
    "    print(\"El nombre de files segueix una distribució normal\")"
   ],
   "id": "343a308a86ecb20b",
   "outputs": [],
   "execution_count": null
  },
  {
   "metadata": {
    "ExecuteTime": {
     "end_time": "2024-04-19T08:04:48.761280Z",
     "start_time": "2024-04-19T08:04:48.749505Z"
    }
   },
   "cell_type": "code",
   "source": [
    "stat, p_value = shapiro(SIN_PA['hepatopatias'])\n",
    "print(f\"Estadístic W = {stat:.4f}\")\n",
    "print(f\"Valor p = {p_value:.4f}\")\n",
    "\n",
    "alpha = 0.05\n",
    "if p_value < alpha:\n",
    "    print(\"El nombre de files no segueix una distribució normal.\")\n",
    "else:\n",
    "    print(\"El nombre de files segueix una distribució normal\")"
   ],
   "id": "94bfe6f6b1e080e3",
   "outputs": [
    {
     "name": "stdout",
     "output_type": "stream",
     "text": [
      "Estadístico W = 0.2580\n",
      "Valor p = 0.0000\n",
      "El número de filas no sigue una distribución normal (rechazar H0).\n"
     ]
    }
   ],
   "execution_count": 450
  },
  {
   "metadata": {
    "ExecuteTime": {
     "end_time": "2024-04-19T08:04:48.967377Z",
     "start_time": "2024-04-19T08:04:48.957760Z"
    }
   },
   "cell_type": "code",
   "source": [
    "stat, p_value_12 = mannwhitneyu(CON_PA['hepatopatias'], CON_PA_MECVV['hepatopatias'], alternative='two-sided')\n",
    "print(\"P-valor entre CON_PA i CON_PA_MECVV\", p_value_12)"
   ],
   "id": "f1d399767dab3eeb",
   "outputs": [
    {
     "name": "stdout",
     "output_type": "stream",
     "text": [
      "P-valor entre CON_PA y CON_PA_MECVV 0.9265568396984611\n"
     ]
    }
   ],
   "execution_count": 451
  },
  {
   "metadata": {
    "ExecuteTime": {
     "end_time": "2024-04-19T08:04:49.110103Z",
     "start_time": "2024-04-19T08:04:49.100271Z"
    }
   },
   "cell_type": "code",
   "source": [
    "stat, p_value_13 = mannwhitneyu(CON_PA['hepatopatias'], SIN_PA['hepatopatias'], alternative='two-sided')\n",
    "print(\"P-valor entre CON_PA i SIN_PA\", p_value_13)"
   ],
   "id": "e5ae22e928d63a0f",
   "outputs": [
    {
     "name": "stdout",
     "output_type": "stream",
     "text": [
      "P-valor entre CON_PA y SIN_PA 0.4618706673466527\n"
     ]
    }
   ],
   "execution_count": 452
  },
  {
   "metadata": {
    "ExecuteTime": {
     "end_time": "2024-04-19T08:04:49.332914Z",
     "start_time": "2024-04-19T08:04:49.324631Z"
    }
   },
   "cell_type": "code",
   "source": [
    "stat, p_value_23 = mannwhitneyu(CON_PA_MECVV['hepatopatias'], SIN_PA['hepatopatias'], alternative='two-sided')\n",
    "print(\"P-valor entre CON_PA_MECVV i SIN_PA\", p_value_23)"
   ],
   "id": "c8e4bb6c92eae392",
   "outputs": [
    {
     "name": "stdout",
     "output_type": "stream",
     "text": [
      "P-valor entre CON_PA_MECVV y SIN_PA 0.6762982127217047\n"
     ]
    }
   ],
   "execution_count": 453
  },
  {
   "metadata": {},
   "cell_type": "markdown",
   "source": "## Neoplasia",
   "id": "959b58aaaaab994b"
  },
  {
   "metadata": {
    "ExecuteTime": {
     "end_time": "2024-04-19T08:04:49.486674Z",
     "start_time": "2024-04-19T08:04:49.478036Z"
    }
   },
   "cell_type": "code",
   "source": [
    "neopl_CON_PA= (CON_PA['neoplasias'] == 1.0).mean() * 100\n",
    "print(f\"Percentatge de neoplasia: {neopl_CON_PA:.2f}%\")"
   ],
   "id": "6bbefcc81da003fc",
   "outputs": [
    {
     "name": "stdout",
     "output_type": "stream",
     "text": [
      "Porcentaje de neoplasia: 0.00%\n"
     ]
    }
   ],
   "execution_count": 454
  },
  {
   "metadata": {
    "ExecuteTime": {
     "end_time": "2024-04-19T08:04:49.721259Z",
     "start_time": "2024-04-19T08:04:49.715056Z"
    }
   },
   "cell_type": "code",
   "source": [
    "neopl_CON_PA_MECVV= (CON_PA_MECVV['neoplasias'] == 1.0).mean() * 100\n",
    "print(f\"Percentatge de neoplasia: {neopl_CON_PA_MECVV:.2f}%\")"
   ],
   "id": "216d7eebaa16abc0",
   "outputs": [
    {
     "name": "stdout",
     "output_type": "stream",
     "text": [
      "Porcentaje de neoplasia: 0.00%\n"
     ]
    }
   ],
   "execution_count": 455
  },
  {
   "metadata": {
    "ExecuteTime": {
     "end_time": "2024-04-19T08:04:49.880585Z",
     "start_time": "2024-04-19T08:04:49.874877Z"
    }
   },
   "cell_type": "code",
   "source": [
    "neopl_SIN_PA= (SIN_PA['neoplasias'] == 1.0).mean() * 100\n",
    "print(f\"Percentatge de neoplasia: {neopl_SIN_PA:.2f}%\")"
   ],
   "id": "380e87c3db7e8b7a",
   "outputs": [
    {
     "name": "stdout",
     "output_type": "stream",
     "text": [
      "Porcentaje de neoplasia: 6.12%\n"
     ]
    }
   ],
   "execution_count": 456
  },
  {
   "metadata": {},
   "cell_type": "markdown",
   "source": "#### Pvalor",
   "id": "338c0f6458d8be19"
  },
  {
   "metadata": {},
   "cell_type": "markdown",
   "source": "##### Normalitat",
   "id": "9377ac1a9f6dd002"
  },
  {
   "metadata": {
    "ExecuteTime": {
     "end_time": "2024-04-19T08:04:50.104720Z",
     "start_time": "2024-04-19T08:04:50.089346Z"
    }
   },
   "cell_type": "code",
   "source": [
    "stat, p_value = shapiro(CON_PA['neoplasias'])\n",
    "print(f\"Estadístic W = {stat:.4f}\")\n",
    "print(f\"Valor p = {p_value:.4f}\")\n",
    "\n",
    "alpha = 0.05\n",
    "if p_value < alpha:\n",
    "    print(\"El nombre de files no segueix una distribució normal.\")\n",
    "else:\n",
    "    print(\"El nombre de files segueix una distribució normal\")"
   ],
   "id": "7c858ee47d54bc43",
   "outputs": [
    {
     "name": "stdout",
     "output_type": "stream",
     "text": [
      "Estadístico W = 1.0000\n",
      "Valor p = 1.0000\n",
      "El número de filas sigue una distribución normal (aceptar H0).\n"
     ]
    }
   ],
   "execution_count": 457
  },
  {
   "metadata": {
    "ExecuteTime": {
     "end_time": "2024-04-19T08:04:50.248334Z",
     "start_time": "2024-04-19T08:04:50.240563Z"
    }
   },
   "cell_type": "code",
   "source": [
    "stat, p_value = shapiro(CON_PA_MECVV['hepatopatias'])\n",
    "print(f\"Estadístic W = {stat:.4f}\")\n",
    "print(f\"Valor p = {p_value:.4f}\")\n",
    "\n",
    "alpha = 0.05\n",
    "if p_value < alpha:\n",
    "    print(\"El nombre de files no segueix una distribució normal.\")\n",
    "else:\n",
    "    print(\"El nombre de files segueix una distribució normal\")"
   ],
   "id": "dde37d63a9b667d",
   "outputs": [
    {
     "name": "stdout",
     "output_type": "stream",
     "text": [
      "Estadístico W = 0.3657\n",
      "Valor p = 0.0000\n",
      "El número de filas no sigue una distribución normal (rechazar H0).\n"
     ]
    }
   ],
   "execution_count": 458
  },
  {
   "metadata": {
    "ExecuteTime": {
     "end_time": "2024-04-19T08:04:50.525239Z",
     "start_time": "2024-04-19T08:04:50.516392Z"
    }
   },
   "cell_type": "code",
   "source": [
    "stat, p_value = shapiro(SIN_PA['hepatopatias'])\n",
    "print(f\"Estadístic W = {stat:.4f}\")\n",
    "print(f\"Valor p = {p_value:.4f}\")\n",
    "\n",
    "alpha = 0.05\n",
    "if p_value < alpha:\n",
    "    print(\"El nombre de files no segueix una distribució normal.\")\n",
    "else:\n",
    "    print(\"El nombre de files segueix una distribució normal\")"
   ],
   "id": "6bb78df14856b8f9",
   "outputs": [
    {
     "name": "stdout",
     "output_type": "stream",
     "text": [
      "Estadístico W = 0.2580\n",
      "Valor p = 0.0000\n",
      "El número de filas no sigue una distribución normal (rechazar H0).\n"
     ]
    }
   ],
   "execution_count": 459
  },
  {
   "metadata": {
    "ExecuteTime": {
     "end_time": "2024-04-19T08:04:50.691001Z",
     "start_time": "2024-04-19T08:04:50.680564Z"
    }
   },
   "cell_type": "code",
   "source": [
    "stat, p_value_12 = mannwhitneyu(CON_PA['neoplasias'], CON_PA_MECVV['neoplasias'], alternative='two-sided')\n",
    "print(\"P-valor entre CON_PA i CON_PA_MECVV\", p_value_12)"
   ],
   "id": "7e49acda243ca033",
   "outputs": [
    {
     "name": "stdout",
     "output_type": "stream",
     "text": [
      "P-valor entre CON_PA y CON_PA_MECVV 1.0\n"
     ]
    }
   ],
   "execution_count": 460
  },
  {
   "metadata": {
    "ExecuteTime": {
     "end_time": "2024-04-19T08:04:50.907712Z",
     "start_time": "2024-04-19T08:04:50.897344Z"
    }
   },
   "cell_type": "code",
   "source": [
    "stat, p_value_13 = mannwhitneyu(CON_PA['neoplasias'], SIN_PA['neoplasias'], alternative='two-sided')\n",
    "print(\"P-valor entre CON_PA i SIN_PA\", p_value_12)"
   ],
   "id": "19de53eaca6faf46",
   "outputs": [
    {
     "name": "stdout",
     "output_type": "stream",
     "text": [
      "P-valor entre CON_PA y SIN_PA 1.0\n"
     ]
    }
   ],
   "execution_count": 461
  },
  {
   "metadata": {
    "ExecuteTime": {
     "end_time": "2024-04-19T08:04:51.073845Z",
     "start_time": "2024-04-19T08:04:51.062098Z"
    }
   },
   "cell_type": "code",
   "source": [
    "stat, p_value_23 = mannwhitneyu(CON_PA_MECVV['neoplasias'], SIN_PA['neoplasias'], alternative='two-sided')\n",
    "print(\"P-valor entre CON_PA_MECVV i SIN_PA\", p_value_23)"
   ],
   "id": "d041e42afd281dba",
   "outputs": [
    {
     "name": "stdout",
     "output_type": "stream",
     "text": [
      "P-valor entre CON_PA_MECVV y SIN_PA 0.44143809205435813\n"
     ]
    }
   ],
   "execution_count": 462
  },
  {
   "metadata": {},
   "cell_type": "markdown",
   "source": "## Enfermedad cronica renal (creatinina > 1.5mg/dL)",
   "id": "be977a70d2e9a7c"
  },
  {
   "metadata": {},
   "cell_type": "markdown",
   "source": "Dado que esta columna es de tipo objeto primero la pasaré a tipo numerico para poder operar con ella. ",
   "id": "104b74d04d4f6f25"
  },
  {
   "metadata": {
    "ExecuteTime": {
     "end_time": "2024-04-19T08:04:51.281663Z",
     "start_time": "2024-04-19T08:04:51.272209Z"
    }
   },
   "cell_type": "code",
   "source": [
    "CON_PA.loc[:, 'creatinina'] = pd.to_numeric(CON_PA['creatinina'], errors='coerce')\n",
    "CON_PA_MECVV.loc[:, 'creatinina'] = pd.to_numeric(CON_PA_MECVV['creatinina'], errors='coerce')\n",
    "SIN_PA.loc[:, 'creatinina'] = pd.to_numeric(SIN_PA['creatinina'], errors='coerce')"
   ],
   "id": "44a54bc94beb324a",
   "outputs": [],
   "execution_count": 463
  },
  {
   "metadata": {
    "ExecuteTime": {
     "end_time": "2024-04-19T08:04:51.438338Z",
     "start_time": "2024-04-19T08:04:51.430157Z"
    }
   },
   "cell_type": "code",
   "source": [
    "ecr_CON_PA= (CON_PA['creatinina'] >= 1.5).mean() * 100\n",
    "print(f\"Percentatge de enfermedad cronica renal con creatinina >1.5: {ecr_CON_PA:.2f}%\")"
   ],
   "id": "1220b795ea747457",
   "outputs": [
    {
     "name": "stdout",
     "output_type": "stream",
     "text": [
      "Porcentaje de enfermedad cronica renal con creatinina >1.5: 0.00%\n"
     ]
    }
   ],
   "execution_count": 464
  },
  {
   "metadata": {
    "ExecuteTime": {
     "end_time": "2024-04-19T08:04:51.700642Z",
     "start_time": "2024-04-19T08:04:51.687976Z"
    }
   },
   "cell_type": "code",
   "source": [
    "ecr_CON_PA_MECVV= (CON_PA_MECVV['creatinina'] > 1.5).mean() * 100\n",
    "print(f\"Percentatge de enfermedad cronica renal con creatinina >1.5: {ecr_CON_PA_MECVV:.2f}%\")"
   ],
   "id": "f33ab01070f387e4",
   "outputs": [
    {
     "name": "stdout",
     "output_type": "stream",
     "text": [
      "Porcentaje de enfermedad cronica renal con creatinina >1.5: 0.00%\n"
     ]
    }
   ],
   "execution_count": 465
  },
  {
   "metadata": {
    "ExecuteTime": {
     "end_time": "2024-04-19T08:04:51.850016Z",
     "start_time": "2024-04-19T08:04:51.838079Z"
    }
   },
   "cell_type": "code",
   "source": [
    "ecr_SIN_PA= (SIN_PA['creatinina'] > 1.5).mean() * 100\n",
    "print(f\"Percentatge de enfermedad cronica renal con creatinina >1.5: {ecr_SIN_PA:.2f}%\")"
   ],
   "id": "f2a96ab467d4fa20",
   "outputs": [
    {
     "name": "stdout",
     "output_type": "stream",
     "text": [
      "Porcentaje de enfermedad cronica renal con creatinina >1.5: 6.12%\n"
     ]
    }
   ],
   "execution_count": 466
  },
  {
   "metadata": {},
   "cell_type": "markdown",
   "source": "#### Pvalor",
   "id": "9a0ec8b221656a8a"
  },
  {
   "metadata": {},
   "cell_type": "markdown",
   "source": "##### Normalitat",
   "id": "d6ffad4c820486ed"
  },
  {
   "metadata": {
    "ExecuteTime": {
     "end_time": "2024-04-19T08:04:52.059123Z",
     "start_time": "2024-04-19T08:04:52.045994Z"
    }
   },
   "cell_type": "code",
   "source": [
    "stat, p_value = shapiro(CON_PA['creatinina'].dropna())\n",
    "print(f\"Estadístic W = {stat:.4f}\")\n",
    "print(f\"Valor p = {p_value:.4f}\")\n",
    "\n",
    "alpha = 0.05\n",
    "if p_value < alpha:\n",
    "    print(\"El nombre de files no segueix una distribució normal.\")\n",
    "else:\n",
    "    print(\"El nombre de files segueix una distribució normal\")"
   ],
   "id": "1f63051648a84697",
   "outputs": [
    {
     "name": "stdout",
     "output_type": "stream",
     "text": [
      "Estadístico W = 0.9549\n",
      "Valor p = 0.7439\n",
      "El número de filas sigue una distribución normal (aceptar H0).\n"
     ]
    }
   ],
   "execution_count": 467
  },
  {
   "metadata": {
    "ExecuteTime": {
     "end_time": "2024-04-19T08:04:52.238355Z",
     "start_time": "2024-04-19T08:04:52.229010Z"
    }
   },
   "cell_type": "code",
   "source": [
    "stat, p_value = shapiro(CON_PA_MECVV['creatinina'].dropna())\n",
    "print(f\"Estadístic W = {stat:.4f}\")\n",
    "print(f\"Valor p = {p_value:.4f}\")\n",
    "\n",
    "alpha = 0.05\n",
    "if p_value < alpha:\n",
    "    print(\"El nombre de files no segueix una distribució normal.\")\n",
    "else:\n",
    "    print(\"El nombre de files segueix una distribució normal\")"
   ],
   "id": "dd791706071019a6",
   "outputs": [
    {
     "name": "stdout",
     "output_type": "stream",
     "text": [
      "Estadístico W = 0.9815\n",
      "Valor p = 0.9110\n",
      "El número de filas sigue una distribución normal (aceptar H0).\n"
     ]
    }
   ],
   "execution_count": 468
  },
  {
   "metadata": {
    "ExecuteTime": {
     "end_time": "2024-04-19T08:04:52.506022Z",
     "start_time": "2024-04-19T08:04:52.497839Z"
    }
   },
   "cell_type": "code",
   "source": [
    "stat, p_value = shapiro(SIN_PA['creatinina'].dropna())\n",
    "print(f\"Estadístic W = {stat:.4f}\")\n",
    "print(f\"Valor p = {p_value:.4f}\")\n",
    "\n",
    "alpha = 0.05\n",
    "if p_value < alpha:\n",
    "    print(\"El nombre de files no segueix una distribució normal.\")\n",
    "else:\n",
    "    print(\"El nombre de files segueix una distribució normal\")"
   ],
   "id": "85df00a80ed67583",
   "outputs": [
    {
     "name": "stdout",
     "output_type": "stream",
     "text": [
      "Estadístico W = 0.7235\n",
      "Valor p = 0.0000\n",
      "El número de filas no sigue una distribución normal (rechazar H0).\n"
     ]
    }
   ],
   "execution_count": 469
  },
  {
   "metadata": {
    "ExecuteTime": {
     "end_time": "2024-04-19T08:04:52.693298Z",
     "start_time": "2024-04-19T08:04:52.686480Z"
    }
   },
   "cell_type": "code",
   "source": [
    "stat, p_value_12 = ttest_ind(CON_PA['creatinina'], CON_PA_MECVV['creatinina'], equal_var=False)\n",
    "print(\"P-valor entre CON_PA i CON_PA_MECVV\", p_value_12)"
   ],
   "id": "cf20863e3c24d450",
   "outputs": [
    {
     "name": "stdout",
     "output_type": "stream",
     "text": [
      "P-valor entre CON_PA y CON_PA_MECVV nan\n"
     ]
    }
   ],
   "execution_count": 470
  },
  {
   "metadata": {
    "ExecuteTime": {
     "end_time": "2024-04-19T08:04:52.901420Z",
     "start_time": "2024-04-19T08:04:52.895546Z"
    }
   },
   "cell_type": "code",
   "source": [
    "stat, p_value_13 = mannwhitneyu(CON_PA['creatinina'], SIN_PA['creatinina'], alternative='two-sided')\n",
    "print(\"P-valor entre CON_PA i SIN_PA\", p_value_13)"
   ],
   "id": "17e378b6adaccd52",
   "outputs": [
    {
     "name": "stdout",
     "output_type": "stream",
     "text": [
      "P-valor entre CON_PA y SIN_PA nan\n"
     ]
    }
   ],
   "execution_count": 471
  },
  {
   "metadata": {
    "ExecuteTime": {
     "end_time": "2024-04-19T08:04:53.071533Z",
     "start_time": "2024-04-19T08:04:53.062071Z"
    }
   },
   "cell_type": "code",
   "source": [
    "stat, p_value_23 = mannwhitneyu(CON_PA_MECVV['creatinina'], SIN_PA['creatinina'], alternative='two-sided')\n",
    "print(\"P-valor entre CON_PA_MECVV i SIN_PA\", p_value_23)"
   ],
   "id": "4d738444b5cc0416",
   "outputs": [
    {
     "name": "stdout",
     "output_type": "stream",
     "text": [
      "P-valor entre CON_PA_MECVV y SIN_PA nan\n"
     ]
    }
   ],
   "execution_count": 472
  },
  {
   "metadata": {},
   "cell_type": "markdown",
   "source": "## Fallo renal agudo (o insuficiencia renal aguda)",
   "id": "2a45b7c462b693cc"
  },
  {
   "metadata": {
    "ExecuteTime": {
     "end_time": "2024-04-19T08:21:09.829307Z",
     "start_time": "2024-04-19T08:21:09.822520Z"
    }
   },
   "cell_type": "code",
   "source": [
    "ira_CON_PA= (CON_PA['ARF'] == 1.0).mean() * 100\n",
    "print(f\"Percentatge de fallo renal agudo: {ira_CON_PA:.2f}%\")"
   ],
   "id": "bf4cb3020f4ab65",
   "outputs": [
    {
     "name": "stdout",
     "output_type": "stream",
     "text": [
      "Porcentaje de fallo renal agudo: 23.53%\n"
     ]
    }
   ],
   "execution_count": 473
  },
  {
   "metadata": {
    "ExecuteTime": {
     "end_time": "2024-04-19T08:21:25.080922Z",
     "start_time": "2024-04-19T08:21:25.074943Z"
    }
   },
   "cell_type": "code",
   "source": [
    "ira_CON_PA_MECVV= (CON_PA_MECVV['ARF'] == 1.0).mean() * 100\n",
    "print(f\"Percentatge de fallo renal agudo: {ira_CON_PA_MECVV:.2f}%\")"
   ],
   "id": "694f049952ae8d4f",
   "outputs": [
    {
     "name": "stdout",
     "output_type": "stream",
     "text": [
      "Porcentaje de fallo renal agudo: 50.00%\n"
     ]
    }
   ],
   "execution_count": 474
  },
  {
   "metadata": {
    "ExecuteTime": {
     "end_time": "2024-04-19T08:21:36.300841Z",
     "start_time": "2024-04-19T08:21:36.294487Z"
    }
   },
   "cell_type": "code",
   "source": [
    "ira_SIN_PA= (SIN_PA['ARF'] == 1.0).mean() * 100\n",
    "print(f\"Percentatge de fallo renal agudo: {ira_SIN_PA:.2f}%\")"
   ],
   "id": "d9da03942f97e9ff",
   "outputs": [
    {
     "name": "stdout",
     "output_type": "stream",
     "text": [
      "Porcentaje de fallo renal agudo: 26.53%\n"
     ]
    }
   ],
   "execution_count": 475
  },
  {
   "metadata": {},
   "cell_type": "markdown",
   "source": "#### Pvalor",
   "id": "fa90e43bd79a9017"
  },
  {
   "metadata": {},
   "cell_type": "markdown",
   "source": "##### Normalitat",
   "id": "ab080f83d40e2433"
  },
  {
   "metadata": {
    "ExecuteTime": {
     "end_time": "2024-04-19T08:33:41.183135Z",
     "start_time": "2024-04-19T08:33:41.171609Z"
    }
   },
   "cell_type": "code",
   "source": [
    "stat, p_value = shapiro(CON_PA['ARF'])\n",
    "print(f\"Estadístic W = {stat:.4f}\")\n",
    "print(f\"Valor p = {p_value:.4f}\")\n",
    "\n",
    "alpha = 0.05\n",
    "if p_value < alpha:\n",
    "    print(\"El nombre de files no segueix una distribució normal.\")\n",
    "else:\n",
    "    print(\"El nombre de files segueix una distribució normal\")"
   ],
   "id": "889a0951b2fe1cd5",
   "outputs": [
    {
     "name": "stdout",
     "output_type": "stream",
     "text": [
      "Estadístico W = 0.5327\n",
      "Valor p = 0.0000\n",
      "El número de filas no sigue una distribución normal (rechazar H0).\n"
     ]
    }
   ],
   "execution_count": 493
  },
  {
   "metadata": {
    "ExecuteTime": {
     "end_time": "2024-04-19T08:23:33.926618Z",
     "start_time": "2024-04-19T08:23:33.914698Z"
    }
   },
   "cell_type": "code",
   "source": [
    "stat, p_value = shapiro(CON_PA_MECVV['ARF'])\n",
    "print(f\"Estadístic W = {stat:.4f}\")\n",
    "print(f\"Valor p = {p_value:.4f}\")\n",
    "\n",
    "alpha = 0.05\n",
    "if p_value < alpha:\n",
    "    print(\"El nombre de files no segueix una distribució normal.\")\n",
    "else:\n",
    "    print(\"El nombre de files segueix una distribució normal\")"
   ],
   "id": "d9b63b5fd8da70fb",
   "outputs": [
    {
     "name": "stdout",
     "output_type": "stream",
     "text": [
      "Estadístico W = 0.6553\n",
      "Valor p = 0.0003\n",
      "El número de filas no sigue una distribución normal (rechazar H0).\n"
     ]
    }
   ],
   "execution_count": 481
  },
  {
   "metadata": {
    "ExecuteTime": {
     "end_time": "2024-04-19T08:23:39.020423Z",
     "start_time": "2024-04-19T08:23:39.007302Z"
    }
   },
   "cell_type": "code",
   "source": [
    "stat, p_value = shapiro(SIN_PA['ARF'])\n",
    "print(f\"Estadístic W = {stat:.4f}\")\n",
    "print(f\"Valor p = {p_value:.4f}\")\n",
    "\n",
    "alpha = 0.05\n",
    "if p_value < alpha:\n",
    "    print(\"El nombre de files no segueix una distribució normal.\")\n",
    "else:\n",
    "    print(\"El nombre de files segueix una distribució normal\")"
   ],
   "id": "c346c65e6b676207",
   "outputs": [
    {
     "name": "stdout",
     "output_type": "stream",
     "text": [
      "Estadístico W = 0.5514\n",
      "Valor p = 0.0000\n",
      "El número de filas no sigue una distribución normal (rechazar H0).\n"
     ]
    }
   ],
   "execution_count": 482
  },
  {
   "metadata": {
    "ExecuteTime": {
     "end_time": "2024-04-19T08:37:34.753205Z",
     "start_time": "2024-04-19T08:37:34.729795Z"
    }
   },
   "cell_type": "code",
   "source": [
    "stat, p_value_12 = mannwhitneyu(CON_PA['ARF'], CON_PA_MECVV['ARF'], alternative='two-sided')\n",
    "print(\"P-valor entre CON_PA i CON_PA_MECVV\", p_value_12)"
   ],
   "id": "a11f6f5322e507d3",
   "outputs": [
    {
     "name": "stdout",
     "output_type": "stream",
     "text": [
      "P-valor entre CON_PA y CON_PA_MECVV 0.17639454522781728\n"
     ]
    }
   ],
   "execution_count": 497
  },
  {
   "metadata": {
    "ExecuteTime": {
     "end_time": "2024-04-19T08:37:55.562854Z",
     "start_time": "2024-04-19T08:37:55.547549Z"
    }
   },
   "cell_type": "code",
   "source": [
    "stat, p_value_13 = mannwhitneyu(CON_PA['ARF'], SIN_PA['ARF'], alternative='two-sided')\n",
    "print(\"P-valor entre CON_PA i SIN_PA\", p_value_13)"
   ],
   "id": "9a5bbf6808c79243",
   "outputs": [
    {
     "name": "stdout",
     "output_type": "stream",
     "text": [
      "P-valor entre CON_PA y SIN_PA 0.8163159339942008\n"
     ]
    }
   ],
   "execution_count": 498
  },
  {
   "metadata": {
    "ExecuteTime": {
     "end_time": "2024-04-19T08:39:30.243322Z",
     "start_time": "2024-04-19T08:39:30.229973Z"
    }
   },
   "cell_type": "code",
   "source": [
    "stat, p_value_23 = mannwhitneyu(CON_PA_MECVV['ARF'], SIN_PA['ARF'], alternative='two-sided')\n",
    "print(\"P-valor entre CON_PA i SIN_PA\", p_value_23)"
   ],
   "id": "3825dfecd1188df7",
   "outputs": [
    {
     "name": "stdout",
     "output_type": "stream",
     "text": [
      "P-valor entre CON_PA y SIN_PA 0.14880872192595962\n"
     ]
    }
   ],
   "execution_count": 500
  },
  {
   "metadata": {},
   "cell_type": "markdown",
   "source": "## Mareos/sincope/lipotimia/reaccion vasovagal",
   "id": "b569dbe66e8fcbe9"
  },
  {
   "metadata": {
    "ExecuteTime": {
     "end_time": "2024-04-19T08:31:46.945365Z",
     "start_time": "2024-04-19T08:31:46.933507Z"
    }
   },
   "cell_type": "code",
   "source": [
    "dizsyn_CON_PA= (CON_PA['mareos'] == 1.0).mean() * 100\n",
    "print(f\"Percentatge de mareos/sincope/lipotimia/reaccion vasovagal: {dizsyn_CON_PA:.2f}%\")"
   ],
   "id": "50900335d331ab2",
   "outputs": [
    {
     "name": "stdout",
     "output_type": "stream",
     "text": [
      "Porcentaje de mareos/sincope/lipotimia/reaccion vasovagal: 0.00%\n"
     ]
    }
   ],
   "execution_count": 489
  },
  {
   "metadata": {
    "ExecuteTime": {
     "end_time": "2024-04-19T08:32:07.412901Z",
     "start_time": "2024-04-19T08:32:07.404036Z"
    }
   },
   "cell_type": "code",
   "source": [
    "dizsyn_CON_PA_MECVV= (CON_PA_MECVV['mareos'] == 1.0).mean() * 100\n",
    "print(f\"Percentatge de mareos/sincope/lipotimia/reaccion vasovagal: {dizsyn_CON_PA_MECVV:.2f}%\")"
   ],
   "id": "9dc25d01f5293c9c",
   "outputs": [
    {
     "name": "stdout",
     "output_type": "stream",
     "text": [
      "Porcentaje de mareos/sincope/lipotimia/reaccion vasovagal: 0.00%\n"
     ]
    }
   ],
   "execution_count": 490
  },
  {
   "metadata": {
    "ExecuteTime": {
     "end_time": "2024-04-19T08:32:19.727075Z",
     "start_time": "2024-04-19T08:32:19.719892Z"
    }
   },
   "cell_type": "code",
   "source": [
    "dizsyn_SIN_PA= (SIN_PA['mareos'] == 1.0).mean() * 100\n",
    "print(f\"Percentatge de mareos/sincope/lipotimia/reaccion vasovagal: {dizsyn_SIN_PA:.2f}%\")"
   ],
   "id": "6b9c3e73228189d5",
   "outputs": [
    {
     "name": "stdout",
     "output_type": "stream",
     "text": [
      "Porcentaje de mareos/sincope/lipotimia/reaccion vasovagal: 2.04%\n"
     ]
    }
   ],
   "execution_count": 491
  },
  {
   "metadata": {},
   "cell_type": "markdown",
   "source": "#### Pvalor",
   "id": "c2ea9a79012bd56"
  },
  {
   "metadata": {},
   "cell_type": "markdown",
   "source": "##### Normalitat",
   "id": "fd33a284918ec484"
  },
  {
   "metadata": {
    "ExecuteTime": {
     "end_time": "2024-04-19T08:33:53.098458Z",
     "start_time": "2024-04-19T08:33:53.089903Z"
    }
   },
   "cell_type": "code",
   "source": [
    "stat, p_value = shapiro(CON_PA['mareos'])\n",
    "print(f\"Estadístic W = {stat:.4f}\")\n",
    "print(f\"Valor p = {p_value:.4f}\")\n",
    "\n",
    "alpha = 0.05\n",
    "if p_value < alpha:\n",
    "    print(\"El nombre de files no segueix una distribució normal.\")\n",
    "else:\n",
    "    print(\"El nombre de files segueix una distribució normal\")"
   ],
   "id": "a0a14b919495d927",
   "outputs": [
    {
     "name": "stdout",
     "output_type": "stream",
     "text": [
      "Estadístico W = 1.0000\n",
      "Valor p = 1.0000\n",
      "El número de filas sigue una distribución normal (aceptar H0).\n"
     ]
    },
    {
     "name": "stderr",
     "output_type": "stream",
     "text": [
      "C:\\Users\\maria\\PycharmProjects\\practicum\\.venv\\Lib\\site-packages\\scipy\\stats\\_axis_nan_policy.py:531: UserWarning: scipy.stats.shapiro: Input data has range zero. The results may not be accurate.\n",
      "  res = hypotest_fun_out(*samples, **kwds)\n"
     ]
    }
   ],
   "execution_count": 494
  },
  {
   "metadata": {
    "ExecuteTime": {
     "end_time": "2024-04-19T08:34:06.209061Z",
     "start_time": "2024-04-19T08:34:06.198577Z"
    }
   },
   "cell_type": "code",
   "source": [
    "stat, p_value = shapiro(CON_PA_MECVV['mareos'])\n",
    "print(f\"Estadístic W = {stat:.4f}\")\n",
    "print(f\"Valor p = {p_value:.4f}\")\n",
    "\n",
    "alpha = 0.05\n",
    "if p_value < alpha:\n",
    "    print(\"El nombre de files no segueix una distribució normal.\")\n",
    "else:\n",
    "    print(\"El nombre de files segueix una distribució normal\")"
   ],
   "id": "f068a365916fbd97",
   "outputs": [
    {
     "name": "stdout",
     "output_type": "stream",
     "text": [
      "Estadístico W = 1.0000\n",
      "Valor p = 1.0000\n",
      "El número de filas sigue una distribución normal (aceptar H0).\n"
     ]
    },
    {
     "name": "stderr",
     "output_type": "stream",
     "text": [
      "C:\\Users\\maria\\PycharmProjects\\practicum\\.venv\\Lib\\site-packages\\scipy\\stats\\_axis_nan_policy.py:531: UserWarning: scipy.stats.shapiro: Input data has range zero. The results may not be accurate.\n",
      "  res = hypotest_fun_out(*samples, **kwds)\n"
     ]
    }
   ],
   "execution_count": 495
  },
  {
   "metadata": {
    "ExecuteTime": {
     "end_time": "2024-04-19T08:34:15.808734Z",
     "start_time": "2024-04-19T08:34:15.801848Z"
    }
   },
   "cell_type": "code",
   "source": [
    "stat, p_value = shapiro(SIN_PA['mareos'])\n",
    "print(f\"Estadístic W = {stat:.4f}\")\n",
    "print(f\"Valor p = {p_value:.4f}\")\n",
    "\n",
    "alpha = 0.05\n",
    "if p_value < alpha:\n",
    "    print(\"El nombre de files no segueix una distribució normal.\")\n",
    "else:\n",
    "    print(\"El nombre de files segueix una distribució normal\")"
   ],
   "id": "e1bac964bed45016",
   "outputs": [
    {
     "name": "stdout",
     "output_type": "stream",
     "text": [
      "Estadístico W = 0.1273\n",
      "Valor p = 0.0000\n",
      "El número de filas no sigue una distribución normal (rechazar H0).\n"
     ]
    }
   ],
   "execution_count": 496
  },
  {
   "metadata": {
    "ExecuteTime": {
     "end_time": "2024-04-19T08:40:49.715033Z",
     "start_time": "2024-04-19T08:40:49.701794Z"
    }
   },
   "cell_type": "code",
   "source": [
    "stat, p_value_12 = ttest_ind(CON_PA['mareos'], CON_PA_MECVV['mareos'], equal_var=False)\n",
    "print(\"P-valor entre CON_PA i CON_PA_MECVV\", p_value_12)"
   ],
   "id": "4426d7b16a9b9291",
   "outputs": [
    {
     "name": "stdout",
     "output_type": "stream",
     "text": [
      "P-valor entre CON_PA y CON_PA_MECVV nan\n"
     ]
    }
   ],
   "execution_count": 502
  },
  {
   "metadata": {
    "ExecuteTime": {
     "end_time": "2024-04-19T08:42:47.431321Z",
     "start_time": "2024-04-19T08:42:47.421818Z"
    }
   },
   "cell_type": "code",
   "source": [
    "stat, p_value_12 = mannwhitneyu(CON_PA['mareos'], CON_PA_MECVV['mareos'], alternative='two-sided')\n",
    "print(\"P-valor entre CON_PA i CON_PA_MECVV\", p_value_12)"
   ],
   "id": "84eb59ba6043afcb",
   "outputs": [
    {
     "name": "stdout",
     "output_type": "stream",
     "text": [
      "P-valor entre CON_PA y CON_PA_MECVV 1.0\n"
     ]
    }
   ],
   "execution_count": 505
  },
  {
   "metadata": {
    "ExecuteTime": {
     "end_time": "2024-04-19T08:41:34.192549Z",
     "start_time": "2024-04-19T08:41:34.182381Z"
    }
   },
   "cell_type": "code",
   "source": [
    "stat, p_value_13 = mannwhitneyu(CON_PA['mareos'], SIN_PA['mareos'], alternative='two-sided')\n",
    "print(\"P-valor entre CON_PA i SIN_PA\", p_value_13)"
   ],
   "id": "8f94410e3226384d",
   "outputs": [
    {
     "name": "stdout",
     "output_type": "stream",
     "text": [
      "P-valor entre CON_PA y SIN_PA 0.5793276078637376\n"
     ]
    }
   ],
   "execution_count": 503
  },
  {
   "metadata": {
    "ExecuteTime": {
     "end_time": "2024-04-19T08:41:58.567523Z",
     "start_time": "2024-04-19T08:41:58.555686Z"
    }
   },
   "cell_type": "code",
   "source": [
    "stat, p_value_23 = mannwhitneyu(CON_PA_MECVV['mareos'], SIN_PA['mareos'], alternative='two-sided')\n",
    "print(\"P-valor entre CON_PA_MECVV i SIN_PA\", p_value_23)"
   ],
   "id": "566ddfe9c415adf4",
   "outputs": [
    {
     "name": "stdout",
     "output_type": "stream",
     "text": [
      "P-valor entre CON_PA_MECVV y SIN_PA 0.6843175494727258\n"
     ]
    }
   ],
   "execution_count": 504
  },
  {
   "metadata": {},
   "cell_type": "markdown",
   "source": "## VIH",
   "id": "3e66ec61ceed6da8"
  },
  {
   "metadata": {
    "ExecuteTime": {
     "end_time": "2024-04-19T08:48:52.872174Z",
     "start_time": "2024-04-19T08:48:52.861988Z"
    }
   },
   "cell_type": "code",
   "source": [
    "vih_CON_PA= (CON_PA['VIH'] == 1.0).mean() * 100\n",
    "print(f\"Percentatge de VIH: {vih_CON_PA:.2f}%\")"
   ],
   "id": "6a922f8a8c8ce111",
   "outputs": [
    {
     "name": "stdout",
     "output_type": "stream",
     "text": [
      "Porcentaje de VIH: 0.00%\n"
     ]
    }
   ],
   "execution_count": 507
  },
  {
   "metadata": {
    "ExecuteTime": {
     "end_time": "2024-04-19T08:50:11.227338Z",
     "start_time": "2024-04-19T08:50:11.221075Z"
    }
   },
   "cell_type": "code",
   "source": [
    "vih_CON_PA_MECVV= (CON_PA_MECVV['VIH'] == 1.0).mean() * 100\n",
    "print(f\"Percentatge de VIH: {vih_CON_PA_MECVV:.2f}%\")"
   ],
   "id": "aed182bc8140a8b3",
   "outputs": [
    {
     "name": "stdout",
     "output_type": "stream",
     "text": [
      "Porcentaje de VIH: 0.00%\n"
     ]
    }
   ],
   "execution_count": 508
  },
  {
   "metadata": {
    "ExecuteTime": {
     "end_time": "2024-04-19T08:50:29.039722Z",
     "start_time": "2024-04-19T08:50:29.034207Z"
    }
   },
   "cell_type": "code",
   "source": [
    "vih_SIN_PA= (SIN_PA['VIH'] == 1.0).mean() * 100\n",
    "print(f\"Percentatge de VIH: {vih_SIN_PA:.2f}%\")"
   ],
   "id": "aa406ac4d4a53dc9",
   "outputs": [
    {
     "name": "stdout",
     "output_type": "stream",
     "text": [
      "Porcentaje de VIH: 0.00%\n"
     ]
    }
   ],
   "execution_count": 509
  },
  {
   "metadata": {},
   "cell_type": "markdown",
   "source": "#### Pvalor",
   "id": "803ff9173540722b"
  },
  {
   "metadata": {},
   "cell_type": "markdown",
   "source": "##### Normalitat",
   "id": "b4620b0bb5bfa7f1"
  },
  {
   "metadata": {
    "ExecuteTime": {
     "end_time": "2024-04-19T09:09:36.880517Z",
     "start_time": "2024-04-19T09:09:36.863246Z"
    }
   },
   "cell_type": "code",
   "source": [
    "stat, p_value = shapiro(CON_PA['VIH'])\n",
    "print(f\"Estadístic W = {stat:.4f}\")\n",
    "print(f\"Valor p = {p_value:.4f}\")\n",
    "\n",
    "alpha = 0.05\n",
    "if p_value < alpha:\n",
    "    print(\"El nombre de files no segueix una distribució normal\")\n",
    "else:\n",
    "    print(\"El nombre de files segueix una distribució normal\")"
   ],
   "id": "9b5c458fd6b6ae37",
   "outputs": [
    {
     "name": "stdout",
     "output_type": "stream",
     "text": [
      "Estadístico W = 1.0000\n",
      "Valor p = 1.0000\n",
      "El número de filas sigue una distribución normal (aceptar H0).\n"
     ]
    },
    {
     "name": "stderr",
     "output_type": "stream",
     "text": [
      "C:\\Users\\maria\\PycharmProjects\\practicum\\.venv\\Lib\\site-packages\\scipy\\stats\\_axis_nan_policy.py:531: UserWarning: scipy.stats.shapiro: Input data has range zero. The results may not be accurate.\n",
      "  res = hypotest_fun_out(*samples, **kwds)\n"
     ]
    }
   ],
   "execution_count": 511
  },
  {
   "metadata": {
    "ExecuteTime": {
     "end_time": "2024-04-19T08:45:42.439906Z",
     "start_time": "2024-04-19T08:45:42.432974Z"
    }
   },
   "cell_type": "code",
   "source": [
    "stat, p_value = shapiro(CON_PA_MECVV['VIH'])\n",
    "print(f\"Estadístic W = {stat:.4f}\")\n",
    "print(f\"Valor p = {p_value:.4f}\")\n",
    "\n",
    "alpha = 0.05\n",
    "if p_value < alpha:\n",
    "    print(\"El nombre de files no segueix una distribució normal\")\n",
    "else:\n",
    "    print(\"El nombre de files segueix una distribució normal\")"
   ],
   "id": "9d0b581b09ddd6cc",
   "outputs": [],
   "execution_count": 506
  },
  {
   "metadata": {
    "ExecuteTime": {
     "end_time": "2024-04-19T09:11:03.291580Z",
     "start_time": "2024-04-19T09:11:03.283688Z"
    }
   },
   "cell_type": "code",
   "source": [
    "stat, p_value = shapiro(SIN_PA['VIH'])\n",
    "print(f\"Estadístic W = {stat:.4f}\")\n",
    "print(f\"Valor p = {p_value:.4f}\")\n",
    "\n",
    "alpha = 0.05\n",
    "if p_value < alpha:\n",
    "    print(\"El nombre de files no segueix una distribució normal\")\n",
    "else:\n",
    "    print(\"El nombre de files segueix una distribució normal\")"
   ],
   "id": "5a093d029a89e644",
   "outputs": [
    {
     "name": "stdout",
     "output_type": "stream",
     "text": [
      "Estadístico W = 1.0000\n",
      "Valor p = 1.0000\n",
      "El número de filas sigue una distribución normal (aceptar H0).\n"
     ]
    },
    {
     "name": "stderr",
     "output_type": "stream",
     "text": [
      "C:\\Users\\maria\\PycharmProjects\\practicum\\.venv\\Lib\\site-packages\\scipy\\stats\\_axis_nan_policy.py:531: UserWarning: scipy.stats.shapiro: Input data has range zero. The results may not be accurate.\n",
      "  res = hypotest_fun_out(*samples, **kwds)\n"
     ]
    }
   ],
   "execution_count": 512
  },
  {
   "metadata": {
    "ExecuteTime": {
     "end_time": "2024-04-19T08:45:43.312280Z",
     "start_time": "2024-04-19T08:45:43.305797Z"
    }
   },
   "cell_type": "code",
   "source": "",
   "id": "ee8189c633ccd0bb",
   "outputs": [],
   "execution_count": 506
  },
  {
   "metadata": {
    "ExecuteTime": {
     "end_time": "2024-04-19T08:45:43.609195Z",
     "start_time": "2024-04-19T08:45:43.597924Z"
    }
   },
   "cell_type": "code",
   "source": "",
   "id": "ba89921208864d5f",
   "outputs": [],
   "execution_count": 506
  },
  {
   "metadata": {},
   "cell_type": "code",
   "outputs": [],
   "execution_count": null,
   "source": "",
   "id": "6bcc985f8b1b99e7"
  },
  {
   "metadata": {},
   "cell_type": "markdown",
   "source": "## Psicosi",
   "id": "8e295a7fd16fa508"
  },
  {
   "metadata": {
    "ExecuteTime": {
     "end_time": "2024-04-19T09:12:59.995072Z",
     "start_time": "2024-04-19T09:12:59.979257Z"
    }
   },
   "cell_type": "code",
   "source": [
    "psi_CON_PA= (CON_PA['psicosis'] == 1.0).mean() * 100\n",
    "print(f\"Percentatge de psicosi: {vih_CON_PA:.2f}%\")"
   ],
   "id": "c159ff1483bdafb0",
   "outputs": [
    {
     "name": "stdout",
     "output_type": "stream",
     "text": [
      "Percentatge de psicosi: 0.00%\n"
     ]
    }
   ],
   "execution_count": 513
  },
  {
   "metadata": {
    "ExecuteTime": {
     "end_time": "2024-04-19T09:14:44.053668Z",
     "start_time": "2024-04-19T09:14:44.047204Z"
    }
   },
   "cell_type": "code",
   "source": [
    "psi_CON_PA_MECVV= (CON_PA_MECVV['psicosis'] == 1.0).mean() * 100\n",
    "print(f\"Percentatge de psicosi: {psi_CON_PA_MECVV:.2f}%\")"
   ],
   "id": "88916ff77b5a3557",
   "outputs": [],
   "execution_count": 516
  },
  {
   "metadata": {
    "ExecuteTime": {
     "end_time": "2024-04-19T09:15:01.589533Z",
     "start_time": "2024-04-19T09:15:01.583974Z"
    }
   },
   "cell_type": "code",
   "source": [
    "psi_SIN_PA= (SIN_PA['psicosis'] == 1.0).mean() * 100\n",
    "print(f\"Percentatge de psicosi: {psi_SIN_PA:.2f}%\")"
   ],
   "id": "7ce0057ef942886",
   "outputs": [
    {
     "name": "stdout",
     "output_type": "stream",
     "text": [
      "Percentatge de psicosi: 0.00%\n"
     ]
    }
   ],
   "execution_count": 518
  },
  {
   "metadata": {
    "ExecuteTime": {
     "end_time": "2024-04-19T09:15:23.925755Z",
     "start_time": "2024-04-19T09:15:23.923200Z"
    }
   },
   "cell_type": "code",
   "source": "",
   "id": "998491744b8998d1",
   "outputs": [],
   "execution_count": 518
  },
  {
   "metadata": {},
   "cell_type": "markdown",
   "source": "## Deficiències nutricionals",
   "id": "fd2da9ae3b318047"
  },
  {
   "metadata": {
    "ExecuteTime": {
     "end_time": "2024-04-19T09:16:28.826578Z",
     "start_time": "2024-04-19T09:16:28.819591Z"
    }
   },
   "cell_type": "code",
   "source": [
    "nutri_CON_PA= (CON_PA['def_nutri'] == 1.0).mean() * 100\n",
    "print(f\"Percentatge de deficiència nutricional: {nutri_CON_PA:.2f}%\")"
   ],
   "id": "e841eb27b0ef04d7",
   "outputs": [
    {
     "name": "stdout",
     "output_type": "stream",
     "text": [
      "Percentatge de deficiència nutricional: 0.00%\n"
     ]
    }
   ],
   "execution_count": 520
  },
  {
   "metadata": {
    "ExecuteTime": {
     "end_time": "2024-04-19T09:16:49.607597Z",
     "start_time": "2024-04-19T09:16:49.602118Z"
    }
   },
   "cell_type": "code",
   "source": [
    "nutri_CON_PA_MECVV= (CON_PA_MECVV['def_nutri'] == 1.0).mean() * 100\n",
    "print(f\"Percentatge de deficiència nutricional: {nutri_CON_PA_MECVV:.2f}%\")"
   ],
   "id": "8776557d38ef8059",
   "outputs": [
    {
     "name": "stdout",
     "output_type": "stream",
     "text": [
      "Percentatge de deficiència nutricional: 0.00%\n"
     ]
    }
   ],
   "execution_count": 521
  },
  {
   "metadata": {
    "ExecuteTime": {
     "end_time": "2024-04-19T09:16:58.332660Z",
     "start_time": "2024-04-19T09:16:58.325165Z"
    }
   },
   "cell_type": "code",
   "source": [
    "nutri_SIN_PA= (SIN_PA['def_nutri'] == 1.0).mean() * 100\n",
    "print(f\"Percentatge de deficiència nutricional: {nutri_SIN_PA:.2f}%\")"
   ],
   "id": "958e8bc2ca4584c3",
   "outputs": [
    {
     "name": "stdout",
     "output_type": "stream",
     "text": [
      "Percentatge de deficiència nutricional: 0.00%\n"
     ]
    }
   ],
   "execution_count": 522
  },
  {
   "metadata": {
    "ExecuteTime": {
     "end_time": "2024-04-19T09:17:00.803316Z",
     "start_time": "2024-04-19T09:17:00.798207Z"
    }
   },
   "cell_type": "code",
   "source": "",
   "id": "5cf9966775ed20fb",
   "outputs": [],
   "execution_count": 522
  },
  {
   "metadata": {},
   "cell_type": "code",
   "outputs": [],
   "execution_count": null,
   "source": "",
   "id": "874ddc2f0332266f"
  }
 ],
 "metadata": {
  "kernelspec": {
   "display_name": "Python 3",
   "language": "python",
   "name": "python3"
  },
  "language_info": {
   "codemirror_mode": {
    "name": "ipython",
    "version": 2
   },
   "file_extension": ".py",
   "mimetype": "text/x-python",
   "name": "python",
   "nbconvert_exporter": "python",
   "pygments_lexer": "ipython2",
   "version": "2.7.6"
  }
 },
 "nbformat": 4,
 "nbformat_minor": 5
}
