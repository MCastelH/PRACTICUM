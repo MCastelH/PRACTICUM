{
 "cells": [
  {
   "cell_type": "code",
   "id": "initial_id",
   "metadata": {
    "collapsed": true,
    "ExecuteTime": {
     "end_time": "2024-04-18T10:26:31.730491Z",
     "start_time": "2024-04-18T10:26:31.631941Z"
    }
   },
   "source": [
    "import json\n",
    "import pandas as pd\n",
    "from datetime import datetime\n",
    "from listas import priorfalls_list, delirium_list, dementia_list, depresyndr_list, uriincont_list, fecincont_list, pressulc_list, osteopor_list, sarcopenia_list, sleepdisturb_list, chrpain_list, iatrog_list, constipation_list, CVdisease_list, heartdisease_list, ND_list, DM_list, hepatopat_list, neopl_list, AcuteRenalF_list, dizsyn_list, VIH_list, psicosis_list\n",
    "\n",
    "from auxiliary_functions import valores_codigos, contar_diccionarios, dias_ingreso_total, asignar_intervalo_edad, sumar_barthel, sumar_emina, obtener_ultimo_resultat, obtener_valor_promedio, canadenca_comparada, disfagia_mecvvs, extraer_valor_clave, extraer_valor_clave_simple\n",
    "\n",
    "tabla = pd.read_pickle('./data/processed/dataframe.pkl')\n",
    "import scipy.stats as stats\n",
    "from scipy.stats import ttest_ind\n",
    "from scipy.stats import shapiro\n",
    "from scipy.stats import mannwhitneyu\n",
    "from scipy.stats import chi2_contingency\n"
   ],
   "outputs": [],
   "execution_count": 224
  },
  {
   "metadata": {
    "ExecuteTime": {
     "end_time": "2024-04-18T10:26:33.875695Z",
     "start_time": "2024-04-18T10:26:33.739072Z"
    }
   },
   "cell_type": "code",
   "source": "tabla.head()",
   "id": "d7edd23ab31dcae8",
   "outputs": [
    {
     "data": {
      "text/plain": [
       "   edat sexe  visitaDietista  \\\n",
       "0    89    F               0   \n",
       "1    70    M               0   \n",
       "2    96    M               0   \n",
       "3    85    M               0   \n",
       "4    93    M               0   \n",
       "\n",
       "                                                labs  \\\n",
       "0                                                 []   \n",
       "1  [{'date': '20220524', 'name': 'PCR SARS-CoV2 S...   \n",
       "2                                                 []   \n",
       "3                                                 []   \n",
       "4  [{'date': '20220208', 'name': 'UREA Sèrum', 'l...   \n",
       "\n",
       "                                                 mna  \\\n",
       "0                                                 []   \n",
       "1                                                 []   \n",
       "2                                                 []   \n",
       "3                                                 []   \n",
       "4  [{'imc': '0', 'anorexia': '1', 'perduaPes': '1...   \n",
       "\n",
       "                                               emina canadenca  \\\n",
       "0  [{'activitat': '2', 'estatMental': '1', 'humit...        []   \n",
       "1  [{'activitat': '0', 'estatMental': '0', 'humit...        []   \n",
       "2  [{'activitat': '3', 'estatMental': '0', 'humit...        []   \n",
       "3  [{'activitat': '2', 'estatMental': '1', 'humit...        []   \n",
       "4  [{'activitat': '2', 'estatMental': '1', 'humit...        []   \n",
       "\n",
       "                                                 pes  \\\n",
       "0                                                 []   \n",
       "1  [{'valor': '64.7', 'data': '2022-10-04'}, {'va...   \n",
       "2                                                 []   \n",
       "3                                                 []   \n",
       "4  [{'valor': '49.900', 'data': '2022-06-02'}, {'...   \n",
       "\n",
       "                                                atcs  \\\n",
       "0  [{'codi': 'M01AE', 'dataInici': '2020-06-21 00...   \n",
       "1  [{'codi': 'C09AA', 'dataInici': '2021-05-26 00...   \n",
       "2  [{'codi': 'G04CA', 'dataInici': '2020-07-09 00...   \n",
       "3  [{'codi': 'G04CA', 'dataInici': '2020-07-15 00...   \n",
       "4  [{'codi': 'N02AA', 'dataInici': '2022-02-01 00...   \n",
       "\n",
       "                                              mecvvs  ...  \\\n",
       "0                                                 []  ...   \n",
       "1  [{'data': '20220930', 'pacientNoColabora': '',...  ...   \n",
       "2                                                 []  ...   \n",
       "3  [{'data': '20201204131810', 'disfagia': 'S', '...  ...   \n",
       "4  [{'data': '20220330172303', 'disfagiaConeguda'...  ...   \n",
       "\n",
       "                                            albumina  \\\n",
       "0                                               None   \n",
       "1                                                3.1   \n",
       "2                                               None   \n",
       "3                                               None   \n",
       "4  Proves afegides a un altre petició per extracc...   \n",
       "\n",
       "                                   proteinas totales    Hb  colesterol total  \\\n",
       "0                                               None  None              None   \n",
       "1                                                5.3  14.5             124.7   \n",
       "2                                               None  None              None   \n",
       "3                                               None  None              None   \n",
       "4  Proves afegides a un altre petició per extracc...     X              None   \n",
       "\n",
       "   leucos  limfos  prot C react  \\\n",
       "0    None    None          None   \n",
       "1       X    38.9         19.61   \n",
       "2    None    None          None   \n",
       "3    None    None          None   \n",
       "4       X       X          0.54   \n",
       "\n",
       "                                                urea  \\\n",
       "0                                               None   \n",
       "1                                               25.7   \n",
       "2                                               None   \n",
       "3                                               None   \n",
       "4  Proves afegides a un altre petició per extracc...   \n",
       "\n",
       "                                            FGE MDRD  \\\n",
       "0                                               None   \n",
       "1                                                >60   \n",
       "2                                               None   \n",
       "3                                               None   \n",
       "4  Proves afegides a un altre petició per extracc...   \n",
       "\n",
       "                                         FGE CDK-EPI  \n",
       "0                                               None  \n",
       "1                                                >90  \n",
       "2                                               None  \n",
       "3                                               None  \n",
       "4  Proves afegides a un altre petició per extracc...  \n",
       "\n",
       "[5 rows x 68 columns]"
      ],
      "text/html": [
       "<div>\n",
       "<style scoped>\n",
       "    .dataframe tbody tr th:only-of-type {\n",
       "        vertical-align: middle;\n",
       "    }\n",
       "\n",
       "    .dataframe tbody tr th {\n",
       "        vertical-align: top;\n",
       "    }\n",
       "\n",
       "    .dataframe thead th {\n",
       "        text-align: right;\n",
       "    }\n",
       "</style>\n",
       "<table border=\"1\" class=\"dataframe\">\n",
       "  <thead>\n",
       "    <tr style=\"text-align: right;\">\n",
       "      <th></th>\n",
       "      <th>edat</th>\n",
       "      <th>sexe</th>\n",
       "      <th>visitaDietista</th>\n",
       "      <th>labs</th>\n",
       "      <th>mna</th>\n",
       "      <th>emina</th>\n",
       "      <th>canadenca</th>\n",
       "      <th>pes</th>\n",
       "      <th>atcs</th>\n",
       "      <th>mecvvs</th>\n",
       "      <th>...</th>\n",
       "      <th>albumina</th>\n",
       "      <th>proteinas totales</th>\n",
       "      <th>Hb</th>\n",
       "      <th>colesterol total</th>\n",
       "      <th>leucos</th>\n",
       "      <th>limfos</th>\n",
       "      <th>prot C react</th>\n",
       "      <th>urea</th>\n",
       "      <th>FGE MDRD</th>\n",
       "      <th>FGE CDK-EPI</th>\n",
       "    </tr>\n",
       "  </thead>\n",
       "  <tbody>\n",
       "    <tr>\n",
       "      <th>0</th>\n",
       "      <td>89</td>\n",
       "      <td>F</td>\n",
       "      <td>0</td>\n",
       "      <td>[]</td>\n",
       "      <td>[]</td>\n",
       "      <td>[{'activitat': '2', 'estatMental': '1', 'humit...</td>\n",
       "      <td>[]</td>\n",
       "      <td>[]</td>\n",
       "      <td>[{'codi': 'M01AE', 'dataInici': '2020-06-21 00...</td>\n",
       "      <td>[]</td>\n",
       "      <td>...</td>\n",
       "      <td>None</td>\n",
       "      <td>None</td>\n",
       "      <td>None</td>\n",
       "      <td>None</td>\n",
       "      <td>None</td>\n",
       "      <td>None</td>\n",
       "      <td>None</td>\n",
       "      <td>None</td>\n",
       "      <td>None</td>\n",
       "      <td>None</td>\n",
       "    </tr>\n",
       "    <tr>\n",
       "      <th>1</th>\n",
       "      <td>70</td>\n",
       "      <td>M</td>\n",
       "      <td>0</td>\n",
       "      <td>[{'date': '20220524', 'name': 'PCR SARS-CoV2 S...</td>\n",
       "      <td>[]</td>\n",
       "      <td>[{'activitat': '0', 'estatMental': '0', 'humit...</td>\n",
       "      <td>[]</td>\n",
       "      <td>[{'valor': '64.7', 'data': '2022-10-04'}, {'va...</td>\n",
       "      <td>[{'codi': 'C09AA', 'dataInici': '2021-05-26 00...</td>\n",
       "      <td>[{'data': '20220930', 'pacientNoColabora': '',...</td>\n",
       "      <td>...</td>\n",
       "      <td>3.1</td>\n",
       "      <td>5.3</td>\n",
       "      <td>14.5</td>\n",
       "      <td>124.7</td>\n",
       "      <td>X</td>\n",
       "      <td>38.9</td>\n",
       "      <td>19.61</td>\n",
       "      <td>25.7</td>\n",
       "      <td>&gt;60</td>\n",
       "      <td>&gt;90</td>\n",
       "    </tr>\n",
       "    <tr>\n",
       "      <th>2</th>\n",
       "      <td>96</td>\n",
       "      <td>M</td>\n",
       "      <td>0</td>\n",
       "      <td>[]</td>\n",
       "      <td>[]</td>\n",
       "      <td>[{'activitat': '3', 'estatMental': '0', 'humit...</td>\n",
       "      <td>[]</td>\n",
       "      <td>[]</td>\n",
       "      <td>[{'codi': 'G04CA', 'dataInici': '2020-07-09 00...</td>\n",
       "      <td>[]</td>\n",
       "      <td>...</td>\n",
       "      <td>None</td>\n",
       "      <td>None</td>\n",
       "      <td>None</td>\n",
       "      <td>None</td>\n",
       "      <td>None</td>\n",
       "      <td>None</td>\n",
       "      <td>None</td>\n",
       "      <td>None</td>\n",
       "      <td>None</td>\n",
       "      <td>None</td>\n",
       "    </tr>\n",
       "    <tr>\n",
       "      <th>3</th>\n",
       "      <td>85</td>\n",
       "      <td>M</td>\n",
       "      <td>0</td>\n",
       "      <td>[]</td>\n",
       "      <td>[]</td>\n",
       "      <td>[{'activitat': '2', 'estatMental': '1', 'humit...</td>\n",
       "      <td>[]</td>\n",
       "      <td>[]</td>\n",
       "      <td>[{'codi': 'G04CA', 'dataInici': '2020-07-15 00...</td>\n",
       "      <td>[{'data': '20201204131810', 'disfagia': 'S', '...</td>\n",
       "      <td>...</td>\n",
       "      <td>None</td>\n",
       "      <td>None</td>\n",
       "      <td>None</td>\n",
       "      <td>None</td>\n",
       "      <td>None</td>\n",
       "      <td>None</td>\n",
       "      <td>None</td>\n",
       "      <td>None</td>\n",
       "      <td>None</td>\n",
       "      <td>None</td>\n",
       "    </tr>\n",
       "    <tr>\n",
       "      <th>4</th>\n",
       "      <td>93</td>\n",
       "      <td>M</td>\n",
       "      <td>0</td>\n",
       "      <td>[{'date': '20220208', 'name': 'UREA Sèrum', 'l...</td>\n",
       "      <td>[{'imc': '0', 'anorexia': '1', 'perduaPes': '1...</td>\n",
       "      <td>[{'activitat': '2', 'estatMental': '1', 'humit...</td>\n",
       "      <td>[]</td>\n",
       "      <td>[{'valor': '49.900', 'data': '2022-06-02'}, {'...</td>\n",
       "      <td>[{'codi': 'N02AA', 'dataInici': '2022-02-01 00...</td>\n",
       "      <td>[{'data': '20220330172303', 'disfagiaConeguda'...</td>\n",
       "      <td>...</td>\n",
       "      <td>Proves afegides a un altre petició per extracc...</td>\n",
       "      <td>Proves afegides a un altre petició per extracc...</td>\n",
       "      <td>X</td>\n",
       "      <td>None</td>\n",
       "      <td>X</td>\n",
       "      <td>X</td>\n",
       "      <td>0.54</td>\n",
       "      <td>Proves afegides a un altre petició per extracc...</td>\n",
       "      <td>Proves afegides a un altre petició per extracc...</td>\n",
       "      <td>Proves afegides a un altre petició per extracc...</td>\n",
       "    </tr>\n",
       "  </tbody>\n",
       "</table>\n",
       "<p>5 rows × 68 columns</p>\n",
       "</div>"
      ]
     },
     "execution_count": 225,
     "metadata": {},
     "output_type": "execute_result"
    }
   ],
   "execution_count": 225
  },
  {
   "metadata": {
    "ExecuteTime": {
     "end_time": "2024-04-18T10:26:33.894941Z",
     "start_time": "2024-04-18T10:26:33.876698Z"
    }
   },
   "cell_type": "code",
   "source": [
    "CON_PA = tabla[tabla[\"PA_diagnosticada\"] == 1.0]\n",
    "CON_PA_MECVV = tabla[(tabla[\"P_diagnosticada\"] == 1.0) & (tabla[\"Disfagia_mecvvs\"] == 1.0) & (tabla[\"Dias_totales_ingresado\"] < 30)]\n",
    "SIN_PA = tabla[(tabla[\"P_diagnosticada\"] == 1.0) & (tabla[\"Disfagia_mecvvs\"] == 1.0) & (tabla[\"Dias_totales_ingresado\"] > 30) | (tabla[\"P_diagnosticada\"] == 1.0)]"
   ],
   "id": "66ee0565100b2096",
   "outputs": [],
   "execution_count": 226
  },
  {
   "metadata": {},
   "cell_type": "markdown",
   "source": "# Sindromes geriatricos",
   "id": "89fbabd4869d9b6e"
  },
  {
   "metadata": {},
   "cell_type": "markdown",
   "source": "## Indice de Charslton",
   "id": "26d9f063eaf602a8"
  },
  {
   "metadata": {},
   "cell_type": "markdown",
   "source": "## Caidas previas",
   "id": "964c785479e0467b"
  },
  {
   "metadata": {
    "ExecuteTime": {
     "end_time": "2024-04-18T10:26:33.930904Z",
     "start_time": "2024-04-18T10:26:33.926413Z"
    }
   },
   "cell_type": "code",
   "source": [
    "caprev_CON_PA= (CON_PA['caidas_previas'] == 1.0).mean() * 100\n",
    "print(f\"Porcentaje de caidas previas: {caprev_CON_PA:.2f}%\")"
   ],
   "id": "50df5ada3ce5ed0e",
   "outputs": [
    {
     "name": "stdout",
     "output_type": "stream",
     "text": [
      "Porcentaje de caidas previas: 5.88%\n"
     ]
    }
   ],
   "execution_count": 227
  },
  {
   "metadata": {
    "ExecuteTime": {
     "end_time": "2024-04-18T10:26:33.997116Z",
     "start_time": "2024-04-18T10:26:33.991098Z"
    }
   },
   "cell_type": "code",
   "source": [
    "caprev_CON_PA_MECVV= (CON_PA_MECVV['caidas_previas'] == 1.0).mean() * 100\n",
    "print(f\"Porcentaje de caidas previas: {caprev_CON_PA_MECVV:.2f}%\")"
   ],
   "id": "1ee91988879aa087",
   "outputs": [
    {
     "name": "stdout",
     "output_type": "stream",
     "text": [
      "Porcentaje de caidas previas: 0.00%\n"
     ]
    }
   ],
   "execution_count": 228
  },
  {
   "metadata": {
    "ExecuteTime": {
     "end_time": "2024-04-18T10:26:34.230591Z",
     "start_time": "2024-04-18T10:26:34.225050Z"
    }
   },
   "cell_type": "code",
   "source": [
    "caprev_SIN_PA= (SIN_PA['caidas_previas'] == 1.0).mean() * 100\n",
    "print(f\"Porcentaje de caidas previas: {caprev_SIN_PA:.2f}%\")"
   ],
   "id": "4d2cb240e1f7b6f7",
   "outputs": [
    {
     "name": "stdout",
     "output_type": "stream",
     "text": [
      "Porcentaje de caidas previas: 6.12%\n"
     ]
    }
   ],
   "execution_count": 229
  },
  {
   "metadata": {},
   "cell_type": "markdown",
   "source": "#### Pvalor",
   "id": "35b8e447e15084e7"
  },
  {
   "metadata": {},
   "cell_type": "markdown",
   "source": "##### Normalidad",
   "id": "bce617253d59df63"
  },
  {
   "metadata": {
    "ExecuteTime": {
     "end_time": "2024-04-18T10:26:34.372899Z",
     "start_time": "2024-04-18T10:26:34.366443Z"
    }
   },
   "cell_type": "code",
   "source": [
    "stat, p_value = shapiro(CON_PA['caidas_previas'])\n",
    "print(f\"Estadístico W = {stat:.4f}\")\n",
    "print(f\"Valor p = {p_value:.4f}\")\n",
    "\n",
    "alpha = 0.05\n",
    "if p_value < alpha:\n",
    "    print(\"El número de filas no sigue una distribución normal (rechazar H0).\")\n",
    "else:\n",
    "    print(\"El número de filas sigue una distribución normal (aceptar H0).\")"
   ],
   "id": "ef85d9181f822b14",
   "outputs": [
    {
     "name": "stdout",
     "output_type": "stream",
     "text": [
      "Estadístico W = 0.2622\n",
      "Valor p = 0.0000\n",
      "El número de filas no sigue una distribución normal (rechazar H0).\n"
     ]
    }
   ],
   "execution_count": 230
  },
  {
   "metadata": {
    "ExecuteTime": {
     "end_time": "2024-04-18T10:26:34.638548Z",
     "start_time": "2024-04-18T10:26:34.629381Z"
    }
   },
   "cell_type": "code",
   "source": [
    "stat, p_value = shapiro(CON_PA_MECVV['caidas_previas'])\n",
    "print(f\"Estadístico W = {stat:.4f}\")\n",
    "print(f\"Valor p = {p_value:.4f}\")\n",
    "\n",
    "alpha = 0.05\n",
    "if p_value < alpha:\n",
    "    print(\"El número de filas no sigue una distribución normal (rechazar H0).\")\n",
    "else:\n",
    "    print(\"El número de filas sigue una distribución normal (aceptar H0).\")"
   ],
   "id": "73fc0a6f9756c13",
   "outputs": [
    {
     "name": "stdout",
     "output_type": "stream",
     "text": [
      "Estadístico W = 1.0000\n",
      "Valor p = 1.0000\n",
      "El número de filas sigue una distribución normal (aceptar H0).\n"
     ]
    },
    {
     "name": "stderr",
     "output_type": "stream",
     "text": [
      "C:\\Users\\maria\\PycharmProjects\\practicum\\.venv\\Lib\\site-packages\\scipy\\stats\\_axis_nan_policy.py:531: UserWarning: scipy.stats.shapiro: Input data has range zero. The results may not be accurate.\n",
      "  res = hypotest_fun_out(*samples, **kwds)\n"
     ]
    }
   ],
   "execution_count": 231
  },
  {
   "metadata": {
    "ExecuteTime": {
     "end_time": "2024-04-18T10:26:34.741382Z",
     "start_time": "2024-04-18T10:26:34.734820Z"
    }
   },
   "cell_type": "code",
   "source": [
    "stat, p_value = shapiro(SIN_PA['DO_diagnosticada'])\n",
    "print(f\"Estadístico W = {stat:.4f}\")\n",
    "print(f\"Valor p = {p_value:.4f}\")\n",
    "\n",
    "alpha = 0.05\n",
    "if p_value < alpha:\n",
    "    print(\"El número de filas no sigue una distribución normal (rechazar H0).\")\n",
    "else:\n",
    "    print(\"El número de filas sigue una distribución normal (aceptar H0).\")"
   ],
   "id": "9dd4c0120e9dfe83",
   "outputs": [
    {
     "name": "stdout",
     "output_type": "stream",
     "text": [
      "Estadístico W = 0.4716\n",
      "Valor p = 0.0000\n",
      "El número de filas no sigue una distribución normal (rechazar H0).\n"
     ]
    }
   ],
   "execution_count": 232
  },
  {
   "metadata": {
    "ExecuteTime": {
     "end_time": "2024-04-18T10:26:34.898418Z",
     "start_time": "2024-04-18T10:26:34.891255Z"
    }
   },
   "cell_type": "code",
   "source": [
    "stat, p_value_12 = mannwhitneyu(CON_PA['caidas_previas'], CON_PA_MECVV['caidas_previas'], alternative='two-sided')\n",
    "print(\"P-valor entre CON_PA y CON_PA_MECVV\", p_value_12)"
   ],
   "id": "4c41e8420ecd54f3",
   "outputs": [
    {
     "name": "stdout",
     "output_type": "stream",
     "text": [
      "P-valor entre CON_PA y CON_PA_MECVV 0.49002535950179893\n"
     ]
    }
   ],
   "execution_count": 233
  },
  {
   "metadata": {
    "ExecuteTime": {
     "end_time": "2024-04-18T10:26:35.092587Z",
     "start_time": "2024-04-18T10:26:35.086961Z"
    }
   },
   "cell_type": "code",
   "source": [
    "stat, p_value_13 = mannwhitneyu(CON_PA['caidas_previas'], SIN_PA['caidas_previas'], alternative='two-sided')\n",
    "print(\"P-valor entre CON_PA y SIN_PA\", p_value_13)"
   ],
   "id": "d3a50234b5a6775",
   "outputs": [
    {
     "name": "stdout",
     "output_type": "stream",
     "text": [
      "P-valor entre CON_PA y SIN_PA 0.9858477456716862\n"
     ]
    }
   ],
   "execution_count": 234
  },
  {
   "metadata": {
    "ExecuteTime": {
     "end_time": "2024-04-18T10:26:35.265240Z",
     "start_time": "2024-04-18T10:26:35.257888Z"
    }
   },
   "cell_type": "code",
   "source": [
    "stat, p_value_23 = mannwhitneyu(CON_PA_MECVV['caidas_previas'], SIN_PA['caidas_previas'], alternative='two-sided')\n",
    "print(\"P-valor entre CON_PA_MECVV y SIN_PA\", p_value_23)"
   ],
   "id": "13c44b65ff0399ca",
   "outputs": [
    {
     "name": "stdout",
     "output_type": "stream",
     "text": [
      "P-valor entre CON_PA_MECVV y SIN_PA 0.44143809205435813\n"
     ]
    }
   ],
   "execution_count": 235
  },
  {
   "metadata": {},
   "cell_type": "markdown",
   "source": "## Delirios",
   "id": "c7aad4b1d580111"
  },
  {
   "metadata": {
    "ExecuteTime": {
     "end_time": "2024-04-18T10:26:35.368388Z",
     "start_time": "2024-04-18T10:26:35.362684Z"
    }
   },
   "cell_type": "code",
   "source": [
    "del_CON_PA= (CON_PA['delirios'] == 1.0).mean() * 100\n",
    "print(f\"Porcentaje de delirios: {del_CON_PA:.2f}%\")"
   ],
   "id": "4457a2a3dfc7a9de",
   "outputs": [
    {
     "name": "stdout",
     "output_type": "stream",
     "text": [
      "Porcentaje de delirios: 23.53%\n"
     ]
    }
   ],
   "execution_count": 236
  },
  {
   "metadata": {
    "ExecuteTime": {
     "end_time": "2024-04-18T10:26:35.529294Z",
     "start_time": "2024-04-18T10:26:35.524749Z"
    }
   },
   "cell_type": "code",
   "source": [
    "del_CON_PA_MECVV= (CON_PA_MECVV['delirios'] == 1.0).mean() * 100\n",
    "print(f\"Porcentaje de delirios: {del_CON_PA_MECVV:.2f}%\")"
   ],
   "id": "5ae56c8f83586838",
   "outputs": [
    {
     "name": "stdout",
     "output_type": "stream",
     "text": [
      "Porcentaje de delirios: 40.00%\n"
     ]
    }
   ],
   "execution_count": 237
  },
  {
   "metadata": {
    "ExecuteTime": {
     "end_time": "2024-04-18T10:26:35.646267Z",
     "start_time": "2024-04-18T10:26:35.642073Z"
    }
   },
   "cell_type": "code",
   "source": [
    "del_SIN_PA= (SIN_PA['delirios'] == 1.0).mean() * 100\n",
    "print(f\"Porcentaje de delirios: {del_SIN_PA:.2f}%\")"
   ],
   "id": "9e44418c6cf03004",
   "outputs": [
    {
     "name": "stdout",
     "output_type": "stream",
     "text": [
      "Porcentaje de delirios: 18.37%\n"
     ]
    }
   ],
   "execution_count": 238
  },
  {
   "metadata": {},
   "cell_type": "markdown",
   "source": "#### Pvalor",
   "id": "5fc877d47e55c507"
  },
  {
   "metadata": {},
   "cell_type": "markdown",
   "source": "##### Normalidad",
   "id": "c8d1814752edcd36"
  },
  {
   "metadata": {
    "ExecuteTime": {
     "end_time": "2024-04-18T10:26:35.797413Z",
     "start_time": "2024-04-18T10:26:35.790804Z"
    }
   },
   "cell_type": "code",
   "source": [
    "stat, p_value = shapiro(CON_PA['delirios'])\n",
    "print(f\"Estadístico W = {stat:.4f}\")\n",
    "print(f\"Valor p = {p_value:.4f}\")\n",
    "\n",
    "alpha = 0.05\n",
    "if p_value < alpha:\n",
    "    print(\"El número de filas no sigue una distribución normal (rechazar H0).\")\n",
    "else:\n",
    "    print(\"El número de filas sigue una distribución normal (aceptar H0).\")"
   ],
   "id": "d59012cfb049a4b1",
   "outputs": [
    {
     "name": "stdout",
     "output_type": "stream",
     "text": [
      "Estadístico W = 0.5327\n",
      "Valor p = 0.0000\n",
      "El número de filas no sigue una distribución normal (rechazar H0).\n"
     ]
    }
   ],
   "execution_count": 239
  },
  {
   "metadata": {
    "ExecuteTime": {
     "end_time": "2024-04-18T10:26:35.907524Z",
     "start_time": "2024-04-18T10:26:35.900429Z"
    }
   },
   "cell_type": "code",
   "source": [
    "stat, p_value = shapiro(CON_PA_MECVV['delirios'])\n",
    "print(f\"Estadístico W = {stat:.4f}\")\n",
    "print(f\"Valor p = {p_value:.4f}\")\n",
    "\n",
    "alpha = 0.05\n",
    "if p_value < alpha:\n",
    "    print(\"El número de filas no sigue una distribución normal (rechazar H0).\")\n",
    "else:\n",
    "    print(\"El número de filas sigue una distribución normal (aceptar H0).\")"
   ],
   "id": "946b43e2ab447ace",
   "outputs": [
    {
     "name": "stdout",
     "output_type": "stream",
     "text": [
      "Estadístico W = 0.6405\n",
      "Valor p = 0.0002\n",
      "El número de filas no sigue una distribución normal (rechazar H0).\n"
     ]
    }
   ],
   "execution_count": 240
  },
  {
   "metadata": {
    "ExecuteTime": {
     "end_time": "2024-04-18T10:26:36.082513Z",
     "start_time": "2024-04-18T10:26:36.076570Z"
    }
   },
   "cell_type": "code",
   "source": [
    "stat, p_value = shapiro(SIN_PA['delirios'])\n",
    "print(f\"Estadístico W = {stat:.4f}\")\n",
    "print(f\"Valor p = {p_value:.4f}\")\n",
    "\n",
    "alpha = 0.05\n",
    "if p_value < alpha:\n",
    "    print(\"El número de filas no sigue una distribución normal (rechazar H0).\")\n",
    "else:\n",
    "    print(\"El número de filas sigue una distribución normal (aceptar H0).\")"
   ],
   "id": "268335d184f2afbe",
   "outputs": [
    {
     "name": "stdout",
     "output_type": "stream",
     "text": [
      "Estadístico W = 0.4716\n",
      "Valor p = 0.0000\n",
      "El número de filas no sigue una distribución normal (rechazar H0).\n"
     ]
    }
   ],
   "execution_count": 241
  },
  {
   "metadata": {
    "ExecuteTime": {
     "end_time": "2024-04-18T10:26:36.192780Z",
     "start_time": "2024-04-18T10:26:36.186476Z"
    }
   },
   "cell_type": "code",
   "source": [
    "stat, p_value_12 = mannwhitneyu(CON_PA['delirios'], CON_PA_MECVV['delirios'], alternative='two-sided')\n",
    "print(\"P-valor entre CON_PA y CON_PA_MECVV\", p_value_12)"
   ],
   "id": "1b311cc28de8fcd3",
   "outputs": [
    {
     "name": "stdout",
     "output_type": "stream",
     "text": [
      "P-valor entre CON_PA y CON_PA_MECVV 0.39174655228054167\n"
     ]
    }
   ],
   "execution_count": 242
  },
  {
   "metadata": {
    "ExecuteTime": {
     "end_time": "2024-04-18T10:26:36.326064Z",
     "start_time": "2024-04-18T10:26:36.320691Z"
    }
   },
   "cell_type": "code",
   "source": [
    "stat, p_value_13 = mannwhitneyu(CON_PA['delirios'], SIN_PA['delirios'], alternative='two-sided')\n",
    "print(\"P-valor entre CON_PA y SIN_PA\", p_value_13)"
   ],
   "id": "ea1a6301c3ec1b28",
   "outputs": [
    {
     "name": "stdout",
     "output_type": "stream",
     "text": [
      "P-valor entre CON_PA y SIN_PA 0.6549000779898075\n"
     ]
    }
   ],
   "execution_count": 243
  },
  {
   "metadata": {
    "ExecuteTime": {
     "end_time": "2024-04-18T10:26:36.437251Z",
     "start_time": "2024-04-18T10:26:36.429615Z"
    }
   },
   "cell_type": "code",
   "source": [
    "stat, p_value_23 = mannwhitneyu(CON_PA_MECVV['delirios'], SIN_PA['delirios'], alternative='two-sided')\n",
    "print(\"P-valor entre CON_PA_MECVV y SIN_PA\", p_value_23)"
   ],
   "id": "68c1f5ee2e2f63e3",
   "outputs": [
    {
     "name": "stdout",
     "output_type": "stream",
     "text": [
      "P-valor entre CON_PA_MECVV y SIN_PA 0.13960802912048415\n"
     ]
    }
   ],
   "execution_count": 244
  },
  {
   "metadata": {},
   "cell_type": "markdown",
   "source": "## Demencia",
   "id": "16a14a68a193ae88"
  },
  {
   "metadata": {
    "ExecuteTime": {
     "end_time": "2024-04-18T10:26:36.567815Z",
     "start_time": "2024-04-18T10:26:36.562464Z"
    }
   },
   "cell_type": "code",
   "source": [
    "dem_CON_PA= (CON_PA['demencia'] == 1.0).mean() * 100\n",
    "print(f\"Porcentaje de demencia: {dem_CON_PA:.2f}%\")"
   ],
   "id": "89610b223216b432",
   "outputs": [
    {
     "name": "stdout",
     "output_type": "stream",
     "text": [
      "Porcentaje de demencia: 47.06%\n"
     ]
    }
   ],
   "execution_count": 245
  },
  {
   "metadata": {
    "ExecuteTime": {
     "end_time": "2024-04-18T10:26:36.654814Z",
     "start_time": "2024-04-18T10:26:36.650645Z"
    }
   },
   "cell_type": "code",
   "source": [
    "dem_CON_PA_MECVV= (CON_PA_MECVV['demencia'] == 1.0).mean() * 100\n",
    "print(f\"Porcentaje de demencia: {dem_CON_PA_MECVV:.2f}%\")"
   ],
   "id": "6973d5742c346036",
   "outputs": [
    {
     "name": "stdout",
     "output_type": "stream",
     "text": [
      "Porcentaje de demencia: 40.00%\n"
     ]
    }
   ],
   "execution_count": 246
  },
  {
   "metadata": {
    "ExecuteTime": {
     "end_time": "2024-04-18T10:26:36.834850Z",
     "start_time": "2024-04-18T10:26:36.829588Z"
    }
   },
   "cell_type": "code",
   "source": [
    "dem_SIN_PA= (SIN_PA['demencia'] == 1.0).mean() * 100\n",
    "print(f\"Porcentaje de demencia: {dem_SIN_PA:.2f}%\")"
   ],
   "id": "3957a273bbf5cf16",
   "outputs": [
    {
     "name": "stdout",
     "output_type": "stream",
     "text": [
      "Porcentaje de demencia: 30.61%\n"
     ]
    }
   ],
   "execution_count": 247
  },
  {
   "metadata": {},
   "cell_type": "markdown",
   "source": "#### Pvalor",
   "id": "2a5e901fb09a4fea"
  },
  {
   "metadata": {},
   "cell_type": "markdown",
   "source": "##### Normalidad",
   "id": "4d9eea90d8ee4a6b"
  },
  {
   "metadata": {
    "ExecuteTime": {
     "end_time": "2024-04-18T10:26:36.949763Z",
     "start_time": "2024-04-18T10:26:36.942425Z"
    }
   },
   "cell_type": "code",
   "source": [
    "stat, p_value = shapiro(CON_PA['demencia'])\n",
    "print(f\"Estadístico W = {stat:.4f}\")\n",
    "print(f\"Valor p = {p_value:.4f}\")\n",
    "\n",
    "alpha = 0.05\n",
    "if p_value < alpha:\n",
    "    print(\"El número de filas no sigue una distribución normal (rechazar H0).\")\n",
    "else:\n",
    "    print(\"El número de filas sigue una distribución normal (aceptar H0).\")"
   ],
   "id": "5263c8a2a09268c2",
   "outputs": [
    {
     "name": "stdout",
     "output_type": "stream",
     "text": [
      "Estadístico W = 0.6418\n",
      "Valor p = 0.0000\n",
      "El número de filas no sigue una distribución normal (rechazar H0).\n"
     ]
    }
   ],
   "execution_count": 248
  },
  {
   "metadata": {
    "ExecuteTime": {
     "end_time": "2024-04-18T10:26:37.100507Z",
     "start_time": "2024-04-18T10:26:37.095726Z"
    }
   },
   "cell_type": "code",
   "source": [
    "stat, p_value = shapiro(CON_PA_MECVV['demencia'])\n",
    "print(f\"Estadístico W = {stat:.4f}\")\n",
    "print(f\"Valor p = {p_value:.4f}\")\n",
    "\n",
    "alpha = 0.05\n",
    "if p_value < alpha:\n",
    "    print(\"El número de filas no sigue una distribución normal (rechazar H0).\")\n",
    "else:\n",
    "    print(\"El número de filas sigue una distribución normal (aceptar H0).\")"
   ],
   "id": "4af93daf881e0e26",
   "outputs": [
    {
     "name": "stdout",
     "output_type": "stream",
     "text": [
      "Estadístico W = 0.6405\n",
      "Valor p = 0.0002\n",
      "El número de filas no sigue una distribución normal (rechazar H0).\n"
     ]
    }
   ],
   "execution_count": 249
  },
  {
   "metadata": {
    "ExecuteTime": {
     "end_time": "2024-04-18T10:26:37.237838Z",
     "start_time": "2024-04-18T10:26:37.231927Z"
    }
   },
   "cell_type": "code",
   "source": [
    "stat, p_value = shapiro(SIN_PA['delirios'])\n",
    "print(f\"Estadístico W = {stat:.4f}\")\n",
    "print(f\"Valor p = {p_value:.4f}\")\n",
    "\n",
    "alpha = 0.05\n",
    "if p_value < alpha:\n",
    "    print(\"El número de filas no sigue una distribución normal (rechazar H0).\")\n",
    "else:\n",
    "    print(\"El número de filas sigue una distribución normal (aceptar H0).\")"
   ],
   "id": "944278fe0f4e6ce4",
   "outputs": [
    {
     "name": "stdout",
     "output_type": "stream",
     "text": [
      "Estadístico W = 0.4716\n",
      "Valor p = 0.0000\n",
      "El número de filas no sigue una distribución normal (rechazar H0).\n"
     ]
    }
   ],
   "execution_count": 250
  },
  {
   "metadata": {
    "ExecuteTime": {
     "end_time": "2024-04-18T10:26:37.369836Z",
     "start_time": "2024-04-18T10:26:37.363252Z"
    }
   },
   "cell_type": "code",
   "source": [
    "stat, p_value_12 = mannwhitneyu(CON_PA['demencia'], CON_PA_MECVV['demencia'], alternative='two-sided')\n",
    "print(\"P-valor entre CON_PA y CON_PA_MECVV\", p_value_12)"
   ],
   "id": "83f32b06ca57a099",
   "outputs": [
    {
     "name": "stdout",
     "output_type": "stream",
     "text": [
      "P-valor entre CON_PA y CON_PA_MECVV 0.7484826918143946\n"
     ]
    }
   ],
   "execution_count": 251
  },
  {
   "metadata": {
    "ExecuteTime": {
     "end_time": "2024-04-18T10:26:37.472254Z",
     "start_time": "2024-04-18T10:26:37.465343Z"
    }
   },
   "cell_type": "code",
   "source": [
    "stat, p_value_13 = mannwhitneyu(CON_PA['demencia'], SIN_PA['demencia'], alternative='two-sided')\n",
    "print(\"P-valor entre CON_PA y SIN_PA\", p_value_13)"
   ],
   "id": "e7b4ff975ef8cd6",
   "outputs": [
    {
     "name": "stdout",
     "output_type": "stream",
     "text": [
      "P-valor entre CON_PA y SIN_PA 0.22703869678020527\n"
     ]
    }
   ],
   "execution_count": 252
  },
  {
   "metadata": {
    "ExecuteTime": {
     "end_time": "2024-04-18T10:26:37.677281Z",
     "start_time": "2024-04-18T10:26:37.671439Z"
    }
   },
   "cell_type": "code",
   "source": [
    "stat, p_value_23 = mannwhitneyu(CON_PA_MECVV['demencia'], SIN_PA['demencia'], alternative='two-sided')\n",
    "print(\"P-valor entre CON_PA_MECVV y SIN_PA\", p_value_23)"
   ],
   "id": "a1baf61cd15f22ec",
   "outputs": [
    {
     "name": "stdout",
     "output_type": "stream",
     "text": [
      "P-valor entre CON_PA_MECVV y SIN_PA 0.5743933608939569\n"
     ]
    }
   ],
   "execution_count": 253
  },
  {
   "metadata": {},
   "cell_type": "markdown",
   "source": "## Sindrome depresivo ",
   "id": "ea9bb083b2c8413e"
  },
  {
   "metadata": {
    "ExecuteTime": {
     "end_time": "2024-04-18T10:26:37.787270Z",
     "start_time": "2024-04-18T10:26:37.780935Z"
    }
   },
   "cell_type": "code",
   "source": [
    "depre_CON_PA= (CON_PA['sindrome_depresivo'] == 1.0).mean() * 100\n",
    "print(f\"Porcentaje de sindrome depresivo: {depre_CON_PA:.2f}%\")"
   ],
   "id": "5e6af44aba2e2219",
   "outputs": [
    {
     "name": "stdout",
     "output_type": "stream",
     "text": [
      "Porcentaje de sindrome depresivo: 23.53%\n"
     ]
    }
   ],
   "execution_count": 254
  },
  {
   "metadata": {
    "ExecuteTime": {
     "end_time": "2024-04-18T10:26:38.003363Z",
     "start_time": "2024-04-18T10:26:37.998867Z"
    }
   },
   "cell_type": "code",
   "source": [
    "depre_CON_PA_MECVV= (CON_PA_MECVV['sindrome_depresivo'] == 1.0).mean() * 100\n",
    "print(f\"Porcentaje de sindrome depresivo: {depre_CON_PA_MECVV:.2f}%\")"
   ],
   "id": "6f73b773854e8aac",
   "outputs": [
    {
     "name": "stdout",
     "output_type": "stream",
     "text": [
      "Porcentaje de sindrome depresivo: 0.00%\n"
     ]
    }
   ],
   "execution_count": 255
  },
  {
   "metadata": {
    "ExecuteTime": {
     "end_time": "2024-04-18T10:26:38.098911Z",
     "start_time": "2024-04-18T10:26:38.092291Z"
    }
   },
   "cell_type": "code",
   "source": [
    "depre_SIN_PA= (SIN_PA['sindrome_depresivo'] == 1.0).mean() * 100\n",
    "print(f\"Porcentaje de sindrome depresivo: {depre_SIN_PA:.2f}%\")"
   ],
   "id": "ed67fa6c2850b5d7",
   "outputs": [
    {
     "name": "stdout",
     "output_type": "stream",
     "text": [
      "Porcentaje de sindrome depresivo: 14.29%\n"
     ]
    }
   ],
   "execution_count": 256
  },
  {
   "metadata": {},
   "cell_type": "markdown",
   "source": "#### Pvalor",
   "id": "77048791dbe5c0af"
  },
  {
   "metadata": {},
   "cell_type": "markdown",
   "source": "##### Normalidad",
   "id": "7ae02047e3559f07"
  },
  {
   "metadata": {
    "ExecuteTime": {
     "end_time": "2024-04-18T10:26:38.359238Z",
     "start_time": "2024-04-18T10:26:38.353364Z"
    }
   },
   "cell_type": "code",
   "source": [
    "stat, p_value = shapiro(CON_PA['sindrome_depresivo'])\n",
    "print(f\"Estadístico W = {stat:.4f}\")\n",
    "print(f\"Valor p = {p_value:.4f}\")\n",
    "\n",
    "alpha = 0.05\n",
    "if p_value < alpha:\n",
    "    print(\"El número de filas no sigue una distribución normal (rechazar H0).\")\n",
    "else:\n",
    "    print(\"El número de filas sigue una distribución normal (aceptar H0).\")"
   ],
   "id": "eef5277fe8e65edf",
   "outputs": [
    {
     "name": "stdout",
     "output_type": "stream",
     "text": [
      "Estadístico W = 0.5327\n",
      "Valor p = 0.0000\n",
      "El número de filas no sigue una distribución normal (rechazar H0).\n"
     ]
    }
   ],
   "execution_count": 257
  },
  {
   "metadata": {
    "ExecuteTime": {
     "end_time": "2024-04-18T10:26:38.488303Z",
     "start_time": "2024-04-18T10:26:38.482684Z"
    }
   },
   "cell_type": "code",
   "source": [
    "stat, p_value = shapiro(CON_PA_MECVV['sindrome_depresivo'])\n",
    "print(f\"Estadístico W = {stat:.4f}\")\n",
    "print(f\"Valor p = {p_value:.4f}\")\n",
    "\n",
    "alpha = 0.05\n",
    "if p_value < alpha:\n",
    "    print(\"El número de filas no sigue una distribución normal (rechazar H0).\")\n",
    "else:\n",
    "    print(\"El número de filas sigue una distribución normal (aceptar H0).\")"
   ],
   "id": "a0665c4b7b02c414",
   "outputs": [
    {
     "name": "stdout",
     "output_type": "stream",
     "text": [
      "Estadístico W = 1.0000\n",
      "Valor p = 1.0000\n",
      "El número de filas sigue una distribución normal (aceptar H0).\n"
     ]
    }
   ],
   "execution_count": 258
  },
  {
   "metadata": {
    "ExecuteTime": {
     "end_time": "2024-04-18T10:26:38.729244Z",
     "start_time": "2024-04-18T10:26:38.721749Z"
    }
   },
   "cell_type": "code",
   "source": [
    "stat, p_value = shapiro(SIN_PA['sindrome_depresivo'])\n",
    "print(f\"Estadístico W = {stat:.4f}\")\n",
    "print(f\"Valor p = {p_value:.4f}\")\n",
    "\n",
    "alpha = 0.05\n",
    "if p_value < alpha:\n",
    "    print(\"El número de filas no sigue una distribución normal (rechazar H0).\")\n",
    "else:\n",
    "    print(\"El número de filas sigue una distribución normal (aceptar H0).\")"
   ],
   "id": "1efdd4f2ccc72046",
   "outputs": [
    {
     "name": "stdout",
     "output_type": "stream",
     "text": [
      "Estadístico W = 0.4168\n",
      "Valor p = 0.0000\n",
      "El número de filas no sigue una distribución normal (rechazar H0).\n"
     ]
    }
   ],
   "execution_count": 259
  },
  {
   "metadata": {
    "ExecuteTime": {
     "end_time": "2024-04-18T10:26:38.834069Z",
     "start_time": "2024-04-18T10:26:38.828423Z"
    }
   },
   "cell_type": "code",
   "source": [
    "stat, p_value_12 = mannwhitneyu(CON_PA['sindrome_depresivo'], CON_PA_MECVV['sindrome_depresivo'], alternative='two-sided')\n",
    "print(\"P-valor entre CON_PA y CON_PA_MECVV\", p_value_12)"
   ],
   "id": "7adb8a77607c2030",
   "outputs": [
    {
     "name": "stdout",
     "output_type": "stream",
     "text": [
      "P-valor entre CON_PA y CON_PA_MECVV 0.11180527770715322\n"
     ]
    }
   ],
   "execution_count": 260
  },
  {
   "metadata": {
    "ExecuteTime": {
     "end_time": "2024-04-18T10:26:39.070386Z",
     "start_time": "2024-04-18T10:26:39.064109Z"
    }
   },
   "cell_type": "code",
   "source": [
    "stat, p_value_13 = mannwhitneyu(CON_PA['sindrome_depresivo'], SIN_PA['sindrome_depresivo'], alternative='two-sided')\n",
    "print(\"P-valor entre CON_PA y SIN_PA\", p_value_13)"
   ],
   "id": "e47e376705cfa86",
   "outputs": [
    {
     "name": "stdout",
     "output_type": "stream",
     "text": [
      "P-valor entre CON_PA y SIN_PA 0.3880726918610017\n"
     ]
    }
   ],
   "execution_count": 261
  },
  {
   "metadata": {
    "ExecuteTime": {
     "end_time": "2024-04-18T10:26:39.185146Z",
     "start_time": "2024-04-18T10:26:39.179441Z"
    }
   },
   "cell_type": "code",
   "source": [
    "stat, p_value_23 = mannwhitneyu(CON_PA_MECVV['sindrome_depresivo'], SIN_PA['sindrome_depresivo'], alternative='two-sided')\n",
    "print(\"P-valor entre CON_PA_MECVV y SIN_PA\", p_value_23)"
   ],
   "id": "fef192746e282f69",
   "outputs": [
    {
     "name": "stdout",
     "output_type": "stream",
     "text": [
      "P-valor entre CON_PA_MECVV y SIN_PA 0.21340049774345338\n"
     ]
    }
   ],
   "execution_count": 262
  },
  {
   "metadata": {},
   "cell_type": "markdown",
   "source": "## Incontinencia urinaria",
   "id": "e692abea2c5a0bcf"
  },
  {
   "metadata": {
    "ExecuteTime": {
     "end_time": "2024-04-18T10:26:39.351661Z",
     "start_time": "2024-04-18T10:26:39.345655Z"
    }
   },
   "cell_type": "code",
   "source": [
    "ic_CON_PA= (CON_PA['incont_uri'] == 1.0).mean() * 100\n",
    "print(f\"Porcentaje de incontinencia urinaria: {ic_CON_PA:.2f}%\")"
   ],
   "id": "a10c39264fda8a45",
   "outputs": [
    {
     "name": "stdout",
     "output_type": "stream",
     "text": [
      "Porcentaje de incontinencia urinaria: 29.41%\n"
     ]
    }
   ],
   "execution_count": 263
  },
  {
   "metadata": {
    "ExecuteTime": {
     "end_time": "2024-04-18T10:26:39.473886Z",
     "start_time": "2024-04-18T10:26:39.468568Z"
    }
   },
   "cell_type": "code",
   "source": [
    "ic_CON_PA_MECVV= (CON_PA_MECVV['incont_uri'] == 1.0).mean() * 100\n",
    "print(f\"Porcentaje de incontinencia urinaria: {ic_CON_PA_MECVV:.2f}%\")"
   ],
   "id": "626e726f57f8e3aa",
   "outputs": [
    {
     "name": "stdout",
     "output_type": "stream",
     "text": [
      "Porcentaje de incontinencia urinaria: 30.00%\n"
     ]
    }
   ],
   "execution_count": 264
  },
  {
   "metadata": {
    "ExecuteTime": {
     "end_time": "2024-04-18T10:26:39.652871Z",
     "start_time": "2024-04-18T10:26:39.648920Z"
    }
   },
   "cell_type": "code",
   "source": [
    "ic_SIN_PA= (SIN_PA['incont_uri'] == 1.0).mean() * 100\n",
    "print(f\"Porcentaje de incontinencia urinaria: {ic_SIN_PA:.2f}%\")"
   ],
   "id": "2a4a3c62612b058c",
   "outputs": [
    {
     "name": "stdout",
     "output_type": "stream",
     "text": [
      "Porcentaje de incontinencia urinaria: 14.29%\n"
     ]
    }
   ],
   "execution_count": 265
  },
  {
   "metadata": {},
   "cell_type": "markdown",
   "source": "#### Pvalor",
   "id": "f3d48cd438ce1485"
  },
  {
   "metadata": {},
   "cell_type": "markdown",
   "source": "##### Normalidad",
   "id": "8a88da3553a72086"
  },
  {
   "metadata": {
    "ExecuteTime": {
     "end_time": "2024-04-18T10:26:39.749555Z",
     "start_time": "2024-04-18T10:26:39.744211Z"
    }
   },
   "cell_type": "code",
   "source": [
    "stat, p_value = shapiro(CON_PA['incont_uri'])\n",
    "print(f\"Estadístico W = {stat:.4f}\")\n",
    "print(f\"Valor p = {p_value:.4f}\")\n",
    "\n",
    "alpha = 0.05\n",
    "if p_value < alpha:\n",
    "    print(\"El número de filas no sigue una distribución normal (rechazar H0).\")\n",
    "else:\n",
    "    print(\"El número de filas sigue una distribución normal (aceptar H0).\")"
   ],
   "id": "2cf0004f848a0a3d",
   "outputs": [
    {
     "name": "stdout",
     "output_type": "stream",
     "text": [
      "Estadístico W = 0.5785\n",
      "Valor p = 0.0000\n",
      "El número de filas no sigue una distribución normal (rechazar H0).\n"
     ]
    }
   ],
   "execution_count": 266
  },
  {
   "metadata": {
    "ExecuteTime": {
     "end_time": "2024-04-18T10:26:39.907783Z",
     "start_time": "2024-04-18T10:26:39.901368Z"
    }
   },
   "cell_type": "code",
   "source": [
    "stat, p_value = shapiro(CON_PA_MECVV['incont_uri'])\n",
    "print(f\"Estadístico W = {stat:.4f}\")\n",
    "print(f\"Valor p = {p_value:.4f}\")\n",
    "\n",
    "alpha = 0.05\n",
    "if p_value < alpha:\n",
    "    print(\"El número de filas no sigue una distribución normal (rechazar H0).\")\n",
    "else:\n",
    "    print(\"El número de filas sigue una distribución normal (aceptar H0).\")"
   ],
   "id": "2615ad7db3f0c1ea",
   "outputs": [
    {
     "name": "stdout",
     "output_type": "stream",
     "text": [
      "Estadístico W = 0.5942\n",
      "Valor p = 0.0000\n",
      "El número de filas no sigue una distribución normal (rechazar H0).\n"
     ]
    }
   ],
   "execution_count": 267
  },
  {
   "metadata": {
    "ExecuteTime": {
     "end_time": "2024-04-18T10:26:40.020918Z",
     "start_time": "2024-04-18T10:26:40.016102Z"
    }
   },
   "cell_type": "code",
   "source": [
    "stat, p_value = shapiro(SIN_PA['incont_uri'])\n",
    "print(f\"Estadístico W = {stat:.4f}\")\n",
    "print(f\"Valor p = {p_value:.4f}\")\n",
    "\n",
    "alpha = 0.05\n",
    "if p_value < alpha:\n",
    "    print(\"El número de filas no sigue una distribución normal (rechazar H0).\")\n",
    "else:\n",
    "    print(\"El número de filas sigue una distribución normal (aceptar H0).\")"
   ],
   "id": "1bb13adec047e9a0",
   "outputs": [
    {
     "name": "stdout",
     "output_type": "stream",
     "text": [
      "Estadístico W = 0.4168\n",
      "Valor p = 0.0000\n",
      "El número de filas no sigue una distribución normal (rechazar H0).\n"
     ]
    }
   ],
   "execution_count": 268
  },
  {
   "metadata": {
    "ExecuteTime": {
     "end_time": "2024-04-18T10:26:40.168689Z",
     "start_time": "2024-04-18T10:26:40.161962Z"
    }
   },
   "cell_type": "code",
   "source": [
    "stat, p_value_12 = mannwhitneyu(CON_PA['incont_uri'], CON_PA_MECVV['incont_uri'], alternative='two-sided')\n",
    "print(\"P-valor entre CON_PA y CON_PA_MECVV\", p_value_12)"
   ],
   "id": "65960e4e13cab2cb",
   "outputs": [
    {
     "name": "stdout",
     "output_type": "stream",
     "text": [
      "P-valor entre CON_PA y CON_PA_MECVV 1.0\n"
     ]
    }
   ],
   "execution_count": 269
  },
  {
   "metadata": {
    "ExecuteTime": {
     "end_time": "2024-04-18T10:26:40.254595Z",
     "start_time": "2024-04-18T10:26:40.248524Z"
    }
   },
   "cell_type": "code",
   "source": [
    "stat, p_value_13 = mannwhitneyu(CON_PA['incont_uri'], SIN_PA['incont_uri'], alternative='two-sided')\n",
    "print(\"P-valor entre CON_PA y SIN_PA\", p_value_13)"
   ],
   "id": "5ae80fc41bf7cab2",
   "outputs": [
    {
     "name": "stdout",
     "output_type": "stream",
     "text": [
      "P-valor entre CON_PA y SIN_PA 0.17015925929193942\n"
     ]
    }
   ],
   "execution_count": 270
  },
  {
   "metadata": {
    "ExecuteTime": {
     "end_time": "2024-04-18T10:26:40.405497Z",
     "start_time": "2024-04-18T10:26:40.389706Z"
    }
   },
   "cell_type": "code",
   "source": [
    "stat, p_value_23 = mannwhitneyu(CON_PA_MECVV['incont_uri'], SIN_PA['incont_uri'], alternative='two-sided')\n",
    "print(\"P-valor entre CON_PA_MECVV y SIN_PA\", p_value_23)"
   ],
   "id": "7d19627ed95c9830",
   "outputs": [
    {
     "name": "stdout",
     "output_type": "stream",
     "text": [
      "P-valor entre CON_PA_MECVV y SIN_PA 0.237514563226218\n"
     ]
    }
   ],
   "execution_count": 271
  },
  {
   "metadata": {},
   "cell_type": "markdown",
   "source": "## Incontinencia fecal ",
   "id": "ef750cb6e374d153"
  },
  {
   "metadata": {
    "ExecuteTime": {
     "end_time": "2024-04-18T10:26:40.486761Z",
     "start_time": "2024-04-18T10:26:40.481756Z"
    }
   },
   "cell_type": "code",
   "source": [
    "ifec_CON_PA= (CON_PA['incont_fec'] == 1.0).mean() * 100\n",
    "print(f\"Porcentaje de incontinencia fecal: {ifec_CON_PA:.2f}%\")"
   ],
   "id": "f200aaa97ddfb132",
   "outputs": [
    {
     "name": "stdout",
     "output_type": "stream",
     "text": [
      "Porcentaje de incontinencia fecal: 29.41%\n"
     ]
    }
   ],
   "execution_count": 272
  },
  {
   "metadata": {
    "ExecuteTime": {
     "end_time": "2024-04-18T10:26:40.687417Z",
     "start_time": "2024-04-18T10:26:40.682964Z"
    }
   },
   "cell_type": "code",
   "source": [
    "ifec_CON_PA_MECVV= (CON_PA_MECVV['incont_fec'] == 1.0).mean() * 100\n",
    "print(f\"Porcentaje de incontinencia fecal: {ifec_CON_PA_MECVV:.2f}%\")"
   ],
   "id": "508afd800ecbb722",
   "outputs": [
    {
     "name": "stdout",
     "output_type": "stream",
     "text": [
      "Porcentaje de incontinencia fecal: 10.00%\n"
     ]
    }
   ],
   "execution_count": 273
  },
  {
   "metadata": {
    "ExecuteTime": {
     "end_time": "2024-04-18T10:26:40.796868Z",
     "start_time": "2024-04-18T10:26:40.792634Z"
    }
   },
   "cell_type": "code",
   "source": [
    "ifec_SIN_PA= (SIN_PA['incont_fec'] == 1.0).mean() * 100\n",
    "print(f\"Porcentaje de incontinencia fecal: {ifec_SIN_PA:.2f}%\")"
   ],
   "id": "e7d0045ab7ee995b",
   "outputs": [
    {
     "name": "stdout",
     "output_type": "stream",
     "text": [
      "Porcentaje de incontinencia fecal: 12.24%\n"
     ]
    }
   ],
   "execution_count": 274
  },
  {
   "metadata": {},
   "cell_type": "markdown",
   "source": "#### Pvalor",
   "id": "f57e9c2b1011455f"
  },
  {
   "metadata": {},
   "cell_type": "markdown",
   "source": "##### Normalidad",
   "id": "a09c93982467480a"
  },
  {
   "metadata": {
    "ExecuteTime": {
     "end_time": "2024-04-18T10:26:40.961636Z",
     "start_time": "2024-04-18T10:26:40.955376Z"
    }
   },
   "cell_type": "code",
   "source": [
    "stat, p_value = shapiro(CON_PA['incont_fec'])\n",
    "print(f\"Estadístico W = {stat:.4f}\")\n",
    "print(f\"Valor p = {p_value:.4f}\")\n",
    "\n",
    "alpha = 0.05\n",
    "if p_value < alpha:\n",
    "    print(\"El número de filas no sigue una distribución normal (rechazar H0).\")\n",
    "else:\n",
    "    print(\"El número de filas sigue una distribución normal (aceptar H0).\")"
   ],
   "id": "fe0a97831b34aa2b",
   "outputs": [
    {
     "name": "stdout",
     "output_type": "stream",
     "text": [
      "Estadístico W = 0.5785\n",
      "Valor p = 0.0000\n",
      "El número de filas no sigue una distribución normal (rechazar H0).\n"
     ]
    }
   ],
   "execution_count": 275
  },
  {
   "metadata": {
    "ExecuteTime": {
     "end_time": "2024-04-18T10:26:41.048524Z",
     "start_time": "2024-04-18T10:26:41.038786Z"
    }
   },
   "cell_type": "code",
   "source": [
    "stat, p_value = shapiro(CON_PA_MECVV['incont_fec'])\n",
    "print(f\"Estadístico W = {stat:.4f}\")\n",
    "print(f\"Valor p = {p_value:.4f}\")\n",
    "\n",
    "alpha = 0.05\n",
    "if p_value < alpha:\n",
    "    print(\"El número de filas no sigue una distribución normal (rechazar H0).\")\n",
    "else:\n",
    "    print(\"El número de filas sigue una distribución normal (aceptar H0).\")"
   ],
   "id": "514cf02fbf65b3d2",
   "outputs": [
    {
     "name": "stdout",
     "output_type": "stream",
     "text": [
      "Estadístico W = 0.3657\n",
      "Valor p = 0.0000\n",
      "El número de filas no sigue una distribución normal (rechazar H0).\n"
     ]
    }
   ],
   "execution_count": 276
  },
  {
   "metadata": {
    "ExecuteTime": {
     "end_time": "2024-04-18T10:26:41.239899Z",
     "start_time": "2024-04-18T10:26:41.233543Z"
    }
   },
   "cell_type": "code",
   "source": [
    "stat, p_value = shapiro(SIN_PA['incont_fec'])\n",
    "print(f\"Estadístico W = {stat:.4f}\")\n",
    "print(f\"Valor p = {p_value:.4f}\")\n",
    "\n",
    "alpha = 0.05\n",
    "if p_value < alpha:\n",
    "    print(\"El número de filas no sigue una distribución normal (rechazar H0).\")\n",
    "else:\n",
    "    print(\"El número de filas sigue una distribución normal (aceptar H0).\")"
   ],
   "id": "292234fc524f36f",
   "outputs": [
    {
     "name": "stdout",
     "output_type": "stream",
     "text": [
      "Estadístico W = 0.3844\n",
      "Valor p = 0.0000\n",
      "El número de filas no sigue una distribución normal (rechazar H0).\n"
     ]
    }
   ],
   "execution_count": 277
  },
  {
   "metadata": {
    "ExecuteTime": {
     "end_time": "2024-04-18T10:26:41.340737Z",
     "start_time": "2024-04-18T10:26:41.334226Z"
    }
   },
   "cell_type": "code",
   "source": [
    "stat, p_value_12 = mannwhitneyu(CON_PA['incont_fec'], CON_PA_MECVV['incont_fec'], alternative='two-sided')\n",
    "print(\"P-valor entre CON_PA y CON_PA_MECVV\", p_value_12)"
   ],
   "id": "a06cd69ec62e5411",
   "outputs": [
    {
     "name": "stdout",
     "output_type": "stream",
     "text": [
      "P-valor entre CON_PA y CON_PA_MECVV 0.2649031747093591\n"
     ]
    }
   ],
   "execution_count": 278
  },
  {
   "metadata": {
    "ExecuteTime": {
     "end_time": "2024-04-18T10:26:41.495289Z",
     "start_time": "2024-04-18T10:26:41.489697Z"
    }
   },
   "cell_type": "code",
   "source": [
    "stat, p_value_13 = mannwhitneyu(CON_PA['incont_fec'], SIN_PA['incont_fec'], alternative='two-sided')\n",
    "print(\"P-valor entre CON_PA y SIN_PA\", p_value_13)"
   ],
   "id": "864ff584027489f6",
   "outputs": [
    {
     "name": "stdout",
     "output_type": "stream",
     "text": [
      "P-valor entre CON_PA y SIN_PA 0.10681676423525503\n"
     ]
    }
   ],
   "execution_count": 279
  },
  {
   "metadata": {
    "ExecuteTime": {
     "end_time": "2024-04-18T10:26:41.586503Z",
     "start_time": "2024-04-18T10:26:41.580672Z"
    }
   },
   "cell_type": "code",
   "source": [
    "stat, p_value_23 = mannwhitneyu(CON_PA_MECVV['incont_fec'], SIN_PA['incont_fec'], alternative='two-sided')\n",
    "print(\"P-valor entre CON_PA_MECVV y SIN_PA\", p_value_23)"
   ],
   "id": "2a73a088a4149351",
   "outputs": [
    {
     "name": "stdout",
     "output_type": "stream",
     "text": [
      "P-valor entre CON_PA_MECVV y SIN_PA 0.8568943909879498\n"
     ]
    }
   ],
   "execution_count": 280
  },
  {
   "metadata": {},
   "cell_type": "markdown",
   "source": "## Ulceras de presion",
   "id": "65897a5e1d05b6b6"
  },
  {
   "metadata": {
    "ExecuteTime": {
     "end_time": "2024-04-18T10:26:41.745601Z",
     "start_time": "2024-04-18T10:26:41.739153Z"
    }
   },
   "cell_type": "code",
   "source": [
    "up_CON_PA= (CON_PA['ulceras_presion'] == 1.0).mean() * 100\n",
    "print(f\"Porcentaje de ulceras de presion: {up_CON_PA:.2f}%\")"
   ],
   "id": "bcd7bdbcf538274a",
   "outputs": [
    {
     "name": "stdout",
     "output_type": "stream",
     "text": [
      "Porcentaje de ulceras de presion: 5.88%\n"
     ]
    }
   ],
   "execution_count": 281
  },
  {
   "metadata": {
    "ExecuteTime": {
     "end_time": "2024-04-18T10:26:41.842076Z",
     "start_time": "2024-04-18T10:26:41.836829Z"
    }
   },
   "cell_type": "code",
   "source": [
    "up_CON_PA_MECVV= (CON_PA_MECVV['ulceras_presion'] == 1.0).mean() * 100\n",
    "print(f\"Porcentaje de ulceras de presion: {up_CON_PA_MECVV:.2f}%\")"
   ],
   "id": "60a8a4eb517c269e",
   "outputs": [
    {
     "name": "stdout",
     "output_type": "stream",
     "text": [
      "Porcentaje de ulceras de presion: 0.00%\n"
     ]
    }
   ],
   "execution_count": 282
  },
  {
   "metadata": {
    "ExecuteTime": {
     "end_time": "2024-04-18T10:26:41.995784Z",
     "start_time": "2024-04-18T10:26:41.991150Z"
    }
   },
   "cell_type": "code",
   "source": [
    "up_SIN_PA= (SIN_PA['ulceras_presion'] == 1.0).mean() * 100\n",
    "print(f\"Porcentaje de ulceras de presion: {up_SIN_PA:.2f}%\")"
   ],
   "id": "4f223a88742c194a",
   "outputs": [
    {
     "name": "stdout",
     "output_type": "stream",
     "text": [
      "Porcentaje de ulceras de presion: 2.04%\n"
     ]
    }
   ],
   "execution_count": 283
  },
  {
   "metadata": {},
   "cell_type": "markdown",
   "source": "#### Pvalor",
   "id": "c3fe3f599bce65ef"
  },
  {
   "metadata": {},
   "cell_type": "markdown",
   "source": "##### Normalidad",
   "id": "930dd9949adee28b"
  },
  {
   "metadata": {
    "ExecuteTime": {
     "end_time": "2024-04-18T10:26:42.129338Z",
     "start_time": "2024-04-18T10:26:42.123553Z"
    }
   },
   "cell_type": "code",
   "source": [
    "stat, p_value = shapiro(CON_PA['ulceras_presion'])\n",
    "print(f\"Estadístico W = {stat:.4f}\")\n",
    "print(f\"Valor p = {p_value:.4f}\")\n",
    "\n",
    "alpha = 0.05\n",
    "if p_value < alpha:\n",
    "    print(\"El número de filas no sigue una distribución normal (rechazar H0).\")\n",
    "else:\n",
    "    print(\"El número de filas sigue una distribución normal (aceptar H0).\")"
   ],
   "id": "d50787664b68bc94",
   "outputs": [
    {
     "name": "stdout",
     "output_type": "stream",
     "text": [
      "Estadístico W = 0.2622\n",
      "Valor p = 0.0000\n",
      "El número de filas no sigue una distribución normal (rechazar H0).\n"
     ]
    }
   ],
   "execution_count": 284
  },
  {
   "metadata": {
    "ExecuteTime": {
     "end_time": "2024-04-18T10:26:42.299322Z",
     "start_time": "2024-04-18T10:26:42.293141Z"
    }
   },
   "cell_type": "code",
   "source": [
    "stat, p_value = shapiro(CON_PA_MECVV['ulceras_presion'])\n",
    "print(f\"Estadístico W = {stat:.4f}\")\n",
    "print(f\"Valor p = {p_value:.4f}\")\n",
    "\n",
    "alpha = 0.05\n",
    "if p_value < alpha:\n",
    "    print(\"El número de filas no sigue una distribución normal (rechazar H0).\")\n",
    "else:\n",
    "    print(\"El número de filas sigue una distribución normal (aceptar H0).\")"
   ],
   "id": "19799093c5abeaea",
   "outputs": [
    {
     "name": "stdout",
     "output_type": "stream",
     "text": [
      "Estadístico W = 1.0000\n",
      "Valor p = 1.0000\n",
      "El número de filas sigue una distribución normal (aceptar H0).\n"
     ]
    }
   ],
   "execution_count": 285
  },
  {
   "metadata": {
    "ExecuteTime": {
     "end_time": "2024-04-18T10:26:42.455715Z",
     "start_time": "2024-04-18T10:26:42.449498Z"
    }
   },
   "cell_type": "code",
   "source": [
    "stat, p_value = shapiro(SIN_PA['ulceras_presion'])\n",
    "print(f\"Estadístico W = {stat:.4f}\")\n",
    "print(f\"Valor p = {p_value:.4f}\")\n",
    "\n",
    "alpha = 0.05\n",
    "if p_value < alpha:\n",
    "    print(\"El número de filas no sigue una distribución normal (rechazar H0).\")\n",
    "else:\n",
    "    print(\"El número de filas sigue una distribución normal (aceptar H0).\")"
   ],
   "id": "3cca1f862eaa0767",
   "outputs": [
    {
     "name": "stdout",
     "output_type": "stream",
     "text": [
      "Estadístico W = 0.1273\n",
      "Valor p = 0.0000\n",
      "El número de filas no sigue una distribución normal (rechazar H0).\n"
     ]
    }
   ],
   "execution_count": 286
  },
  {
   "metadata": {
    "ExecuteTime": {
     "end_time": "2024-04-18T10:26:42.596760Z",
     "start_time": "2024-04-18T10:26:42.590384Z"
    }
   },
   "cell_type": "code",
   "source": [
    "stat, p_value_12 = mannwhitneyu(CON_PA['ulceras_presion'], CON_PA_MECVV['ulceras_presion'], alternative='two-sided')\n",
    "print(\"P-valor entre CON_PA y CON_PA_MECVV\", p_value_12)"
   ],
   "id": "6293a3abfe3649ba",
   "outputs": [
    {
     "name": "stdout",
     "output_type": "stream",
     "text": [
      "P-valor entre CON_PA y CON_PA_MECVV 0.49002535950179893\n"
     ]
    }
   ],
   "execution_count": 287
  },
  {
   "metadata": {
    "ExecuteTime": {
     "end_time": "2024-04-18T10:26:42.763180Z",
     "start_time": "2024-04-18T10:26:42.757369Z"
    }
   },
   "cell_type": "code",
   "source": [
    "stat, p_value_13 = mannwhitneyu(CON_PA['ulceras_presion'], SIN_PA['ulceras_presion'], alternative='two-sided')\n",
    "print(\"P-valor entre CON_PA y SIN_PA\", p_value_13)"
   ],
   "id": "3ba7e80f539a2cd8",
   "outputs": [
    {
     "name": "stdout",
     "output_type": "stream",
     "text": [
      "P-valor entre CON_PA y SIN_PA 0.4440308448923743\n"
     ]
    }
   ],
   "execution_count": 288
  },
  {
   "metadata": {
    "ExecuteTime": {
     "end_time": "2024-04-18T10:26:42.905661Z",
     "start_time": "2024-04-18T10:26:42.898671Z"
    }
   },
   "cell_type": "code",
   "source": [
    "stat, p_value_23 = mannwhitneyu(CON_PA_MECVV['ulceras_presion'], SIN_PA['ulceras_presion'], alternative='two-sided')\n",
    "print(\"P-valor entre CON_PA_MECVV y SIN_PA\", p_value_23)"
   ],
   "id": "2119f64854a199b9",
   "outputs": [
    {
     "name": "stdout",
     "output_type": "stream",
     "text": [
      "P-valor entre CON_PA_MECVV y SIN_PA 0.6843175494727258\n"
     ]
    }
   ],
   "execution_count": 289
  },
  {
   "metadata": {},
   "cell_type": "markdown",
   "source": "## Immobilidad",
   "id": "9a5af8b151f24d"
  },
  {
   "metadata": {
    "ExecuteTime": {
     "end_time": "2024-04-18T10:26:43.094138Z",
     "start_time": "2024-04-18T10:26:43.091588Z"
    }
   },
   "cell_type": "code",
   "source": "",
   "id": "20403b79d0d107f1",
   "outputs": [],
   "execution_count": 289
  },
  {
   "metadata": {},
   "cell_type": "markdown",
   "source": "## Confusion",
   "id": "8ec2d07541f7c217"
  },
  {
   "metadata": {
    "ExecuteTime": {
     "end_time": "2024-04-18T10:26:43.326592Z",
     "start_time": "2024-04-18T10:26:43.323888Z"
    }
   },
   "cell_type": "code",
   "source": "",
   "id": "c2abcafcb2c060aa",
   "outputs": [],
   "execution_count": 289
  },
  {
   "metadata": {},
   "cell_type": "markdown",
   "source": "## Osteoporosis",
   "id": "61e6ce410e08b94f"
  },
  {
   "metadata": {
    "ExecuteTime": {
     "end_time": "2024-04-18T10:26:43.478631Z",
     "start_time": "2024-04-18T10:26:43.473585Z"
    }
   },
   "cell_type": "code",
   "source": [
    "ost_CON_PA= (CON_PA['osteoporosis'] == 1.0).mean() * 100\n",
    "print(f\"Porcentaje de osteoporosis: {ost_CON_PA:.2f}%\")"
   ],
   "id": "8247aa43b86f14e2",
   "outputs": [
    {
     "name": "stdout",
     "output_type": "stream",
     "text": [
      "Porcentaje de osteoporosis: 0.00%\n"
     ]
    }
   ],
   "execution_count": 290
  },
  {
   "metadata": {
    "ExecuteTime": {
     "end_time": "2024-04-18T10:26:43.643547Z",
     "start_time": "2024-04-18T10:26:43.637072Z"
    }
   },
   "cell_type": "code",
   "source": [
    "ost_CON_PA_MECVV= (CON_PA_MECVV['osteoporosis'] == 1.0).mean() * 100\n",
    "print(f\"Porcentaje de osteoporosis: {ost_CON_PA_MECVV:.2f}%\")"
   ],
   "id": "88c46ee4b5d48d49",
   "outputs": [
    {
     "name": "stdout",
     "output_type": "stream",
     "text": [
      "Porcentaje de osteoporosis: 0.00%\n"
     ]
    }
   ],
   "execution_count": 291
  },
  {
   "metadata": {
    "ExecuteTime": {
     "end_time": "2024-04-18T10:26:43.777038Z",
     "start_time": "2024-04-18T10:26:43.770275Z"
    }
   },
   "cell_type": "code",
   "source": [
    "ost_SIN_PA= (SIN_PA['osteoporosis'] == 1.0).mean() * 100\n",
    "print(f\"Porcentaje de osteoporosis: {ost_SIN_PA:.2f}%\")"
   ],
   "id": "404e37bc3d19820d",
   "outputs": [
    {
     "name": "stdout",
     "output_type": "stream",
     "text": [
      "Porcentaje de osteoporosis: 0.00%\n"
     ]
    }
   ],
   "execution_count": 292
  },
  {
   "metadata": {},
   "cell_type": "markdown",
   "source": "#### Pvalor",
   "id": "2be6f72ad24818dd"
  },
  {
   "metadata": {},
   "cell_type": "markdown",
   "source": "##### Normalidad",
   "id": "465cf19b84b0b450"
  },
  {
   "metadata": {
    "ExecuteTime": {
     "end_time": "2024-04-18T10:26:43.946256Z",
     "start_time": "2024-04-18T10:26:43.939440Z"
    }
   },
   "cell_type": "code",
   "source": [
    "stat, p_value = shapiro(CON_PA['osteoporosis'])\n",
    "print(f\"Estadístico W = {stat:.4f}\")\n",
    "print(f\"Valor p = {p_value:.4f}\")\n",
    "\n",
    "alpha = 0.05\n",
    "if p_value < alpha:\n",
    "    print(\"El número de filas no sigue una distribución normal (rechazar H0).\")\n",
    "else:\n",
    "    print(\"El número de filas sigue una distribución normal (aceptar H0).\")"
   ],
   "id": "ef867fa51d21b4e0",
   "outputs": [
    {
     "name": "stdout",
     "output_type": "stream",
     "text": [
      "Estadístico W = 1.0000\n",
      "Valor p = 1.0000\n",
      "El número de filas sigue una distribución normal (aceptar H0).\n"
     ]
    }
   ],
   "execution_count": 293
  },
  {
   "metadata": {
    "ExecuteTime": {
     "end_time": "2024-04-18T10:26:44.095077Z",
     "start_time": "2024-04-18T10:26:44.090092Z"
    }
   },
   "cell_type": "code",
   "source": [
    "stat, p_value_12 = mannwhitneyu(CON_PA['osteoporosis'], CON_PA_MECVV['osteoporosis'], alternative='two-sided')\n",
    "print(\"P-valor entre CON_PA y CON_PA_MECVV\", p_value_12)"
   ],
   "id": "8c14505ff3b3c8c8",
   "outputs": [
    {
     "name": "stdout",
     "output_type": "stream",
     "text": [
      "P-valor entre CON_PA y CON_PA_MECVV 1.0\n"
     ]
    }
   ],
   "execution_count": 294
  },
  {
   "metadata": {
    "ExecuteTime": {
     "end_time": "2024-04-18T10:26:44.246664Z",
     "start_time": "2024-04-18T10:26:44.224586Z"
    }
   },
   "cell_type": "code",
   "source": [
    "stat, p_value_12 = ttest_ind(CON_PA['osteoporosis'], CON_PA_MECVV['osteoporosis'], equal_var= False)\n",
    "print(\"P-valor entre CON_PA y CON_PA_MECVV\", p_value_12)"
   ],
   "id": "b5cf3824f0cfce6",
   "outputs": [
    {
     "name": "stdout",
     "output_type": "stream",
     "text": [
      "P-valor entre CON_PA y CON_PA_MECVV nan\n"
     ]
    }
   ],
   "execution_count": 295
  },
  {
   "metadata": {},
   "cell_type": "markdown",
   "source": "## Sarcopenia",
   "id": "35ba4b3163204f8f"
  },
  {
   "metadata": {
    "ExecuteTime": {
     "end_time": "2024-04-18T10:26:44.422207Z",
     "start_time": "2024-04-18T10:26:44.417197Z"
    }
   },
   "cell_type": "code",
   "source": [
    "sarc_CON_PA= (CON_PA['sarcopenia'] == 1.0).mean() * 100\n",
    "print(f\"Porcentaje de sarcopenia: {sarc_CON_PA:.2f}%\")"
   ],
   "id": "2dc59c7080dd50bc",
   "outputs": [
    {
     "name": "stdout",
     "output_type": "stream",
     "text": [
      "Porcentaje de sarcopenia: 0.00%\n"
     ]
    }
   ],
   "execution_count": 296
  },
  {
   "metadata": {
    "ExecuteTime": {
     "end_time": "2024-04-18T10:26:44.597851Z",
     "start_time": "2024-04-18T10:26:44.592271Z"
    }
   },
   "cell_type": "code",
   "source": [
    "sarc_CON_PA_MECVV= (CON_PA_MECVV['sarcopenia'] == 1.0).mean() * 100\n",
    "print(f\"Porcentaje de sarcopenia: {sarc_CON_PA_MECVV:.2f}%\")"
   ],
   "id": "f4cd16f08eac0ddb",
   "outputs": [
    {
     "name": "stdout",
     "output_type": "stream",
     "text": [
      "Porcentaje de sarcopenia: 10.00%\n"
     ]
    }
   ],
   "execution_count": 297
  },
  {
   "metadata": {
    "ExecuteTime": {
     "end_time": "2024-04-18T10:26:44.766863Z",
     "start_time": "2024-04-18T10:26:44.762314Z"
    }
   },
   "cell_type": "code",
   "source": [
    "sarc_SIN_PA= (SIN_PA['sarcopenia'] == 1.0).mean() * 100\n",
    "print(f\"Porcentaje de sarcopenia: {sarc_SIN_PA:.2f}%\")"
   ],
   "id": "244c4f6987003814",
   "outputs": [
    {
     "name": "stdout",
     "output_type": "stream",
     "text": [
      "Porcentaje de sarcopenia: 4.08%\n"
     ]
    }
   ],
   "execution_count": 298
  },
  {
   "metadata": {},
   "cell_type": "markdown",
   "source": "#### Pvalor",
   "id": "89f3f7bdbee9d96d"
  },
  {
   "metadata": {},
   "cell_type": "markdown",
   "source": "##### Normalidad",
   "id": "211f5c215b14bcfb"
  },
  {
   "metadata": {
    "ExecuteTime": {
     "end_time": "2024-04-18T10:26:44.891112Z",
     "start_time": "2024-04-18T10:26:44.884648Z"
    }
   },
   "cell_type": "code",
   "source": [
    "stat, p_value = shapiro(CON_PA['sarcopenia'])\n",
    "print(f\"Estadístico W = {stat:.4f}\")\n",
    "print(f\"Valor p = {p_value:.4f}\")\n",
    "\n",
    "alpha = 0.05\n",
    "if p_value < alpha:\n",
    "    print(\"El número de filas no sigue una distribución normal (rechazar H0).\")\n",
    "else:\n",
    "    print(\"El número de filas sigue una distribución normal (aceptar H0).\")"
   ],
   "id": "41853aa064104ee9",
   "outputs": [
    {
     "name": "stdout",
     "output_type": "stream",
     "text": [
      "Estadístico W = 1.0000\n",
      "Valor p = 1.0000\n",
      "El número de filas sigue una distribución normal (aceptar H0).\n"
     ]
    }
   ],
   "execution_count": 299
  },
  {
   "metadata": {
    "ExecuteTime": {
     "end_time": "2024-04-18T10:26:45.078845Z",
     "start_time": "2024-04-18T10:26:45.072770Z"
    }
   },
   "cell_type": "code",
   "source": [
    "stat, p_value = shapiro(CON_PA_MECVV['sarcopenia'])\n",
    "print(f\"Estadístico W = {stat:.4f}\")\n",
    "print(f\"Valor p = {p_value:.4f}\")\n",
    "\n",
    "alpha = 0.05\n",
    "if p_value < alpha:\n",
    "    print(\"El número de filas no sigue una distribución normal (rechazar H0).\")\n",
    "else:\n",
    "    print(\"El número de filas sigue una distribución normal (aceptar H0).\")"
   ],
   "id": "819daed34f463c5d",
   "outputs": [
    {
     "name": "stdout",
     "output_type": "stream",
     "text": [
      "Estadístico W = 0.3657\n",
      "Valor p = 0.0000\n",
      "El número de filas no sigue una distribución normal (rechazar H0).\n"
     ]
    }
   ],
   "execution_count": 300
  },
  {
   "metadata": {
    "ExecuteTime": {
     "end_time": "2024-04-18T10:26:45.196722Z",
     "start_time": "2024-04-18T10:26:45.190720Z"
    }
   },
   "cell_type": "code",
   "source": [
    "stat, p_value = shapiro(SIN_PA['sarcopenia'])\n",
    "print(f\"Estadístico W = {stat:.4f}\")\n",
    "print(f\"Valor p = {p_value:.4f}\")\n",
    "\n",
    "alpha = 0.05\n",
    "if p_value < alpha:\n",
    "    print(\"El número de filas no sigue una distribución normal (rechazar H0).\")\n",
    "else:\n",
    "    print(\"El número de filas sigue una distribución normal (aceptar H0).\")"
   ],
   "id": "6cba774cd30a32c1",
   "outputs": [
    {
     "name": "stdout",
     "output_type": "stream",
     "text": [
      "Estadístico W = 0.2008\n",
      "Valor p = 0.0000\n",
      "El número de filas no sigue una distribución normal (rechazar H0).\n"
     ]
    }
   ],
   "execution_count": 301
  },
  {
   "metadata": {
    "ExecuteTime": {
     "end_time": "2024-04-18T10:26:45.345401Z",
     "start_time": "2024-04-18T10:26:45.339282Z"
    }
   },
   "cell_type": "code",
   "source": [
    "stat, p_value_12 = mannwhitneyu(CON_PA['sarcopenia'], CON_PA_MECVV['sarcopenia'], alternative='two-sided')\n",
    "print(\"P-valor entre CON_PA y CON_PA_MECVV\", p_value_12)"
   ],
   "id": "313be6964130b7aa",
   "outputs": [
    {
     "name": "stdout",
     "output_type": "stream",
     "text": [
      "P-valor entre CON_PA y CON_PA_MECVV 0.21976847950216105\n"
     ]
    }
   ],
   "execution_count": 302
  },
  {
   "metadata": {
    "ExecuteTime": {
     "end_time": "2024-04-18T10:26:45.456136Z",
     "start_time": "2024-04-18T10:26:45.447727Z"
    }
   },
   "cell_type": "code",
   "source": [
    "stat, p_value_13 = mannwhitneyu(CON_PA['sarcopenia'], SIN_PA['sarcopenia'], alternative='two-sided')\n",
    "print(\"P-valor entre CON_PA y SIN_PA\", p_value_13)"
   ],
   "id": "311f77406d30370b",
   "outputs": [
    {
     "name": "stdout",
     "output_type": "stream",
     "text": [
      "P-valor entre CON_PA y SIN_PA 0.41519527301502746\n"
     ]
    }
   ],
   "execution_count": 303
  },
  {
   "metadata": {
    "ExecuteTime": {
     "end_time": "2024-04-18T10:26:45.646277Z",
     "start_time": "2024-04-18T10:26:45.640941Z"
    }
   },
   "cell_type": "code",
   "source": [
    "stat, p_value_23 = mannwhitneyu(CON_PA_MECVV['sarcopenia'], SIN_PA['sarcopenia'], alternative='two-sided')\n",
    "print(\"P-valor entre CON_PA_MECVV y SIN_PA\", p_value_23)"
   ],
   "id": "2fd5fff672c1e53",
   "outputs": [
    {
     "name": "stdout",
     "output_type": "stream",
     "text": [
      "P-valor entre CON_PA_MECVV y SIN_PA 0.45734646700671056\n"
     ]
    }
   ],
   "execution_count": 304
  },
  {
   "metadata": {},
   "cell_type": "markdown",
   "source": "## Trastorno del sueño",
   "id": "f41eecfcc7117fb8"
  },
  {
   "metadata": {
    "ExecuteTime": {
     "end_time": "2024-04-18T10:26:45.748201Z",
     "start_time": "2024-04-18T10:26:45.738556Z"
    }
   },
   "cell_type": "code",
   "source": [
    "ts_CON_PA= (CON_PA['problsueño'] == 1.0).mean() * 100\n",
    "print(f\"Porcentaje de trastornos del sueño: {ts_CON_PA:.2f}%\")"
   ],
   "id": "cb850aac92c63822",
   "outputs": [
    {
     "name": "stdout",
     "output_type": "stream",
     "text": [
      "Porcentaje de trastornos del sueño: 0.00%\n"
     ]
    }
   ],
   "execution_count": 305
  },
  {
   "metadata": {
    "ExecuteTime": {
     "end_time": "2024-04-18T10:26:45.925185Z",
     "start_time": "2024-04-18T10:26:45.919541Z"
    }
   },
   "cell_type": "code",
   "source": [
    "ts_CON_PA_MECVV= (CON_PA_MECVV['problsueño'] == 1.0).mean() * 100\n",
    "print(f\"Porcentaje de trastornos del sueño: {ts_CON_PA_MECVV:.2f}%\")"
   ],
   "id": "2879ba619f21dd9",
   "outputs": [
    {
     "name": "stdout",
     "output_type": "stream",
     "text": [
      "Porcentaje de trastornos del sueño: 0.00%\n"
     ]
    }
   ],
   "execution_count": 306
  },
  {
   "metadata": {
    "ExecuteTime": {
     "end_time": "2024-04-18T10:26:45.993708Z",
     "start_time": "2024-04-18T10:26:45.989074Z"
    }
   },
   "cell_type": "code",
   "source": [
    "ts_SIN_PA= (SIN_PA['problsueño'] == 1.0).mean() * 100\n",
    "print(f\"Porcentaje de trastornos del sueño: {ts_SIN_PA:.2f}%\")"
   ],
   "id": "dd0194dec4acdb86",
   "outputs": [
    {
     "name": "stdout",
     "output_type": "stream",
     "text": [
      "Porcentaje de trastornos del sueño: 0.00%\n"
     ]
    }
   ],
   "execution_count": 307
  },
  {
   "metadata": {},
   "cell_type": "markdown",
   "source": "## Dolor cronico",
   "id": "e9f22902aac5d32c"
  },
  {
   "metadata": {
    "ExecuteTime": {
     "end_time": "2024-04-18T10:26:46.158135Z",
     "start_time": "2024-04-18T10:26:46.151778Z"
    }
   },
   "cell_type": "code",
   "source": [
    "dc_CON_PA= (CON_PA['dolor_cron'] == 1.0).mean() * 100\n",
    "print(f\"Porcentaje de dolor cronico: {dc_CON_PA:.2f}%\")"
   ],
   "id": "f05d2f7a214d0e82",
   "outputs": [
    {
     "name": "stdout",
     "output_type": "stream",
     "text": [
      "Porcentaje de dolor cronico: 0.00%\n"
     ]
    }
   ],
   "execution_count": 308
  },
  {
   "metadata": {
    "ExecuteTime": {
     "end_time": "2024-04-18T10:26:46.229490Z",
     "start_time": "2024-04-18T10:26:46.224252Z"
    }
   },
   "cell_type": "code",
   "source": [
    "dc_CON_PA_MECVV= (CON_PA_MECVV['dolor_cron'] == 1.0).mean() * 100\n",
    "print(f\"Porcentaje de dolor cronico: {dc_CON_PA_MECVV:.2f}%\")"
   ],
   "id": "f30beb6300be5f9c",
   "outputs": [
    {
     "name": "stdout",
     "output_type": "stream",
     "text": [
      "Porcentaje de dolor cronico: 0.00%\n"
     ]
    }
   ],
   "execution_count": 309
  },
  {
   "metadata": {
    "ExecuteTime": {
     "end_time": "2024-04-18T10:26:46.364846Z",
     "start_time": "2024-04-18T10:26:46.360422Z"
    }
   },
   "cell_type": "code",
   "source": [
    "dc_SIN_PA= (SIN_PA['dolor_cron'] == 1.0).mean() * 100\n",
    "print(f\"Porcentaje de dolor cronico: {dc_SIN_PA:.2f}%\")"
   ],
   "id": "1ac2254ca76f0a08",
   "outputs": [
    {
     "name": "stdout",
     "output_type": "stream",
     "text": [
      "Porcentaje de dolor cronico: 0.00%\n"
     ]
    }
   ],
   "execution_count": 310
  },
  {
   "metadata": {},
   "cell_type": "markdown",
   "source": "## Iatrogenico",
   "id": "e4a4ace86ca41600"
  },
  {
   "metadata": {
    "ExecuteTime": {
     "end_time": "2024-04-18T10:26:46.436799Z",
     "start_time": "2024-04-18T10:26:46.430549Z"
    }
   },
   "cell_type": "code",
   "source": [
    "iatr_CON_PA= (CON_PA['iatrogenico'] == 1.0).mean() * 100\n",
    "print(f\"Porcentaje de iatrogenico: {iatr_CON_PA:.2f}%\")"
   ],
   "id": "ce5326efc8d1cbef",
   "outputs": [
    {
     "name": "stdout",
     "output_type": "stream",
     "text": [
      "Porcentaje de iatrogenico: 0.00%\n"
     ]
    }
   ],
   "execution_count": 311
  },
  {
   "metadata": {
    "ExecuteTime": {
     "end_time": "2024-04-18T10:26:46.574666Z",
     "start_time": "2024-04-18T10:26:46.570606Z"
    }
   },
   "cell_type": "code",
   "source": [
    "iatr_CON_PA_MECVV= (CON_PA_MECVV['iatrogenico'] == 1.0).mean() * 100\n",
    "print(f\"Porcentaje de iatrogenico: {iatr_CON_PA_MECVV:.2f}%\")"
   ],
   "id": "3b93f7c7a1f8390a",
   "outputs": [
    {
     "name": "stdout",
     "output_type": "stream",
     "text": [
      "Porcentaje de iatrogenico: 0.00%\n"
     ]
    }
   ],
   "execution_count": 312
  },
  {
   "metadata": {
    "ExecuteTime": {
     "end_time": "2024-04-18T10:26:46.629090Z",
     "start_time": "2024-04-18T10:26:46.624033Z"
    }
   },
   "cell_type": "code",
   "source": [
    "iatr_SIN_PA= (SIN_PA['iatrogenico'] == 1.0).mean() * 100\n",
    "print(f\"Porcentaje de iatrogenico: {iatr_SIN_PA:.2f}%\")"
   ],
   "id": "6e91605bdf68ebe6",
   "outputs": [
    {
     "name": "stdout",
     "output_type": "stream",
     "text": [
      "Porcentaje de iatrogenico: 0.00%\n"
     ]
    }
   ],
   "execution_count": 313
  },
  {
   "metadata": {},
   "cell_type": "markdown",
   "source": "## Estreñimiento",
   "id": "db8d96a1cf0b32f4"
  },
  {
   "metadata": {
    "ExecuteTime": {
     "end_time": "2024-04-18T10:26:46.774331Z",
     "start_time": "2024-04-18T10:26:46.768902Z"
    }
   },
   "cell_type": "code",
   "source": [
    "est_CON_PA= (CON_PA['estreñimiento'] == 1.0).mean() * 100\n",
    "print(f\"Porcentaje de estreñimiento: {est_CON_PA:.2f}%\")"
   ],
   "id": "dc16c6f9e735fbb2",
   "outputs": [
    {
     "name": "stdout",
     "output_type": "stream",
     "text": [
      "Porcentaje de estreñimiento: 0.00%\n"
     ]
    }
   ],
   "execution_count": 314
  },
  {
   "metadata": {
    "ExecuteTime": {
     "end_time": "2024-04-18T10:26:46.828643Z",
     "start_time": "2024-04-18T10:26:46.823509Z"
    }
   },
   "cell_type": "code",
   "source": [
    "est_CON_PA_MECVV= (CON_PA_MECVV['estreñimiento'] == 1.0).mean() * 100\n",
    "print(f\"Porcentaje de estreñimiento: {est_CON_PA_MECVV:.2f}%\")"
   ],
   "id": "b3bf84a44b2be1a",
   "outputs": [
    {
     "name": "stdout",
     "output_type": "stream",
     "text": [
      "Porcentaje de estreñimiento: 0.00%\n"
     ]
    }
   ],
   "execution_count": 315
  },
  {
   "metadata": {
    "ExecuteTime": {
     "end_time": "2024-04-18T10:26:46.980655Z",
     "start_time": "2024-04-18T10:26:46.975679Z"
    }
   },
   "cell_type": "code",
   "source": [
    "est_SIN_PA= (SIN_PA['estreñimiento'] == 1.0).mean() * 100\n",
    "print(f\"Porcentaje de estreñimiento: {est_SIN_PA:.2f}%\")"
   ],
   "id": "a2ac461b783cef25",
   "outputs": [
    {
     "name": "stdout",
     "output_type": "stream",
     "text": [
      "Porcentaje de estreñimiento: 0.00%\n"
     ]
    }
   ],
   "execution_count": 316
  },
  {
   "metadata": {},
   "cell_type": "markdown",
   "source": "# Historial medico/comorbilidades",
   "id": "d311da4873623a2b"
  },
  {
   "metadata": {},
   "cell_type": "markdown",
   "source": "## Enfermedades CV",
   "id": "3d8f9f8d375849e3"
  },
  {
   "metadata": {
    "ExecuteTime": {
     "end_time": "2024-04-18T10:26:47.043835Z",
     "start_time": "2024-04-18T10:26:47.039217Z"
    }
   },
   "cell_type": "code",
   "source": [
    "cv_CON_PA= (CON_PA['CV'] == 1.0).mean() * 100\n",
    "print(f\"Porcentaje de problemas CV: {cv_CON_PA:.2f}%\")"
   ],
   "id": "e32cfa2a884f35ec",
   "outputs": [
    {
     "name": "stdout",
     "output_type": "stream",
     "text": [
      "Porcentaje de problemas CV: 5.88%\n"
     ]
    }
   ],
   "execution_count": 317
  },
  {
   "metadata": {
    "ExecuteTime": {
     "end_time": "2024-04-18T10:26:47.211357Z",
     "start_time": "2024-04-18T10:26:47.207043Z"
    }
   },
   "cell_type": "code",
   "source": [
    "cv_CON_PA_MECVV= (CON_PA_MECVV['CV'] == 1.0).mean() * 100\n",
    "print(f\"Porcentaje de problemas CV: {cv_CON_PA_MECVV:.2f}%\")"
   ],
   "id": "88b79facc46de5ee",
   "outputs": [
    {
     "name": "stdout",
     "output_type": "stream",
     "text": [
      "Porcentaje de problemas CV: 10.00%\n"
     ]
    }
   ],
   "execution_count": 318
  },
  {
   "metadata": {
    "ExecuteTime": {
     "end_time": "2024-04-18T10:26:47.292898Z",
     "start_time": "2024-04-18T10:26:47.288272Z"
    }
   },
   "cell_type": "code",
   "source": [
    "cv_SIN_PA= (SIN_PA['CV'] == 1.0).mean() * 100\n",
    "print(f\"Porcentaje de problemas CV: {cv_SIN_PA:.2f}%\")"
   ],
   "id": "69cd26f61d232d64",
   "outputs": [
    {
     "name": "stdout",
     "output_type": "stream",
     "text": [
      "Porcentaje de problemas CV: 6.12%\n"
     ]
    }
   ],
   "execution_count": 319
  },
  {
   "metadata": {},
   "cell_type": "markdown",
   "source": "#### Pvalor",
   "id": "4cd96e9749196e1e"
  },
  {
   "metadata": {},
   "cell_type": "markdown",
   "source": "##### Normalidad ",
   "id": "7cdc03afbe142fec"
  },
  {
   "metadata": {
    "ExecuteTime": {
     "end_time": "2024-04-18T10:26:47.426953Z",
     "start_time": "2024-04-18T10:26:47.420626Z"
    }
   },
   "cell_type": "code",
   "source": [
    "stat, p_value = shapiro(CON_PA['CV'])\n",
    "print(f\"Estadístico W = {stat:.4f}\")\n",
    "print(f\"Valor p = {p_value:.4f}\")\n",
    "\n",
    "alpha = 0.05\n",
    "if p_value < alpha:\n",
    "    print(\"El número de filas no sigue una distribución normal (rechazar H0).\")\n",
    "else:\n",
    "    print(\"El número de filas sigue una distribución normal (aceptar H0).\")"
   ],
   "id": "50ac2eecc28b5527",
   "outputs": [
    {
     "name": "stdout",
     "output_type": "stream",
     "text": [
      "Estadístico W = 0.2622\n",
      "Valor p = 0.0000\n",
      "El número de filas no sigue una distribución normal (rechazar H0).\n"
     ]
    }
   ],
   "execution_count": 320
  },
  {
   "metadata": {
    "ExecuteTime": {
     "end_time": "2024-04-18T10:26:47.499808Z",
     "start_time": "2024-04-18T10:26:47.494484Z"
    }
   },
   "cell_type": "code",
   "source": [
    "stat, p_value = shapiro(CON_PA_MECVV['CV'])\n",
    "print(f\"Estadístico W = {stat:.4f}\")\n",
    "print(f\"Valor p = {p_value:.4f}\")\n",
    "\n",
    "alpha = 0.05\n",
    "if p_value < alpha:\n",
    "    print(\"El número de filas no sigue una distribución normal (rechazar H0).\")\n",
    "else:\n",
    "    print(\"El número de filas sigue una distribución normal (aceptar H0).\")"
   ],
   "id": "22011b4c30d26edb",
   "outputs": [
    {
     "name": "stdout",
     "output_type": "stream",
     "text": [
      "Estadístico W = 0.3657\n",
      "Valor p = 0.0000\n",
      "El número de filas no sigue una distribución normal (rechazar H0).\n"
     ]
    }
   ],
   "execution_count": 321
  },
  {
   "metadata": {
    "ExecuteTime": {
     "end_time": "2024-04-18T10:26:47.625838Z",
     "start_time": "2024-04-18T10:26:47.619386Z"
    }
   },
   "cell_type": "code",
   "source": [
    "stat, p_value = shapiro(SIN_PA['CV'])\n",
    "print(f\"Estadístico W = {stat:.4f}\")\n",
    "print(f\"Valor p = {p_value:.4f}\")\n",
    "\n",
    "alpha = 0.05\n",
    "if p_value < alpha:\n",
    "    print(\"El número de filas no sigue una distribución normal (rechazar H0).\")\n",
    "else:\n",
    "    print(\"El número de filas sigue una distribución normal (aceptar H0).\")"
   ],
   "id": "e1db160804e3a620",
   "outputs": [
    {
     "name": "stdout",
     "output_type": "stream",
     "text": [
      "Estadístico W = 0.2580\n",
      "Valor p = 0.0000\n",
      "El número de filas no sigue una distribución normal (rechazar H0).\n"
     ]
    }
   ],
   "execution_count": 322
  },
  {
   "metadata": {
    "ExecuteTime": {
     "end_time": "2024-04-18T10:26:47.706545Z",
     "start_time": "2024-04-18T10:26:47.699497Z"
    }
   },
   "cell_type": "code",
   "source": [
    "stat, p_value_12 = mannwhitneyu(CON_PA['CV'], CON_PA_MECVV['CV'], alternative='two-sided')\n",
    "print(\"P-valor entre CON_PA y CON_PA_MECVV\", p_value_12)"
   ],
   "id": "5f10fd063b9b5044",
   "outputs": [
    {
     "name": "stdout",
     "output_type": "stream",
     "text": [
      "P-valor entre CON_PA y CON_PA_MECVV 0.7400102360583588\n"
     ]
    }
   ],
   "execution_count": 323
  },
  {
   "metadata": {
    "ExecuteTime": {
     "end_time": "2024-04-18T10:26:47.876975Z",
     "start_time": "2024-04-18T10:26:47.871032Z"
    }
   },
   "cell_type": "code",
   "source": [
    "stat, p_value_13 = mannwhitneyu(CON_PA['CV'], SIN_PA['CV'], alternative='two-sided')\n",
    "print(\"P-valor entre CON_PA y SIN_PA\", p_value_13)"
   ],
   "id": "3e6ab47f2f7f38d6",
   "outputs": [
    {
     "name": "stdout",
     "output_type": "stream",
     "text": [
      "P-valor entre CON_PA y SIN_PA 0.9858477456716862\n"
     ]
    }
   ],
   "execution_count": 324
  },
  {
   "metadata": {
    "ExecuteTime": {
     "end_time": "2024-04-18T10:26:47.981037Z",
     "start_time": "2024-04-18T10:26:47.975885Z"
    }
   },
   "cell_type": "code",
   "source": [
    "stat, p_value_23 = mannwhitneyu(CON_PA_MECVV['CV'], SIN_PA['CV'], alternative='two-sided')\n",
    "print(\"P-valor entre CON_PA_MECVV y SIN_PA\", p_value_23)"
   ],
   "id": "c9c3b2baeeea6423",
   "outputs": [
    {
     "name": "stdout",
     "output_type": "stream",
     "text": [
      "P-valor entre CON_PA_MECVV y SIN_PA 0.6762982127217047\n"
     ]
    }
   ],
   "execution_count": 325
  },
  {
   "metadata": {},
   "cell_type": "markdown",
   "source": "## Enfermedades del corazon",
   "id": "ccb034e70398680a"
  },
  {
   "metadata": {
    "ExecuteTime": {
     "end_time": "2024-04-18T10:28:18.516641Z",
     "start_time": "2024-04-18T10:28:18.511596Z"
    }
   },
   "cell_type": "code",
   "source": [
    "cora_CON_PA= (CON_PA['probl_corazon'] == 1.0).mean() * 100\n",
    "print(f\"Porcentaje de enfermedades del corazon: {cora_CON_PA:.2f}%\")"
   ],
   "id": "83445fc0eafd0407",
   "outputs": [
    {
     "name": "stdout",
     "output_type": "stream",
     "text": [
      "Porcentaje de enfermedades del corazon: 11.76%\n"
     ]
    }
   ],
   "execution_count": 327
  },
  {
   "metadata": {
    "ExecuteTime": {
     "end_time": "2024-04-18T10:28:47.606264Z",
     "start_time": "2024-04-18T10:28:47.598416Z"
    }
   },
   "cell_type": "code",
   "source": [
    "cora_CON_PA_MECVV= (CON_PA_MECVV['probl_corazon'] == 1.0).mean() * 100\n",
    "print(f\"Porcentaje de enfermedades del corazon: {cora_CON_PA_MECVV:.2f}%\")"
   ],
   "id": "bd7136466bd809e1",
   "outputs": [
    {
     "name": "stdout",
     "output_type": "stream",
     "text": [
      "Porcentaje de enfermedades del corazon: 10.00%\n"
     ]
    }
   ],
   "execution_count": 328
  },
  {
   "metadata": {
    "ExecuteTime": {
     "end_time": "2024-04-18T10:29:01.446093Z",
     "start_time": "2024-04-18T10:29:01.440682Z"
    }
   },
   "cell_type": "code",
   "source": [
    "cora_SIN_PA= (SIN_PA['probl_corazon'] == 1.0).mean() * 100\n",
    "print(f\"Porcentaje de enfermedades del corazon: {cora_SIN_PA:.2f}%\")"
   ],
   "id": "f5a394abf4441af0",
   "outputs": [
    {
     "name": "stdout",
     "output_type": "stream",
     "text": [
      "Porcentaje de enfermedades del corazon: 14.29%\n"
     ]
    }
   ],
   "execution_count": 329
  },
  {
   "metadata": {},
   "cell_type": "markdown",
   "source": "#### Pvalor",
   "id": "a6c0069e93bb4b47"
  },
  {
   "metadata": {},
   "cell_type": "markdown",
   "source": "##### Normalidad",
   "id": "a72ee98e29b732e6"
  },
  {
   "metadata": {
    "ExecuteTime": {
     "end_time": "2024-04-18T10:30:03.832612Z",
     "start_time": "2024-04-18T10:30:03.826576Z"
    }
   },
   "cell_type": "code",
   "source": [
    "stat, p_value = shapiro(CON_PA['probl_corazon'])\n",
    "print(f\"Estadístico W = {stat:.4f}\")\n",
    "print(f\"Valor p = {p_value:.4f}\")\n",
    "\n",
    "alpha = 0.05\n",
    "if p_value < alpha:\n",
    "    print(\"El número de filas no sigue una distribución normal (rechazar H0).\")\n",
    "else:\n",
    "    print(\"El número de filas sigue una distribución normal (aceptar H0).\")"
   ],
   "id": "70125a59e92a41c9",
   "outputs": [
    {
     "name": "stdout",
     "output_type": "stream",
     "text": [
      "Estadístico W = 0.3853\n",
      "Valor p = 0.0000\n",
      "El número de filas no sigue una distribución normal (rechazar H0).\n"
     ]
    }
   ],
   "execution_count": 332
  },
  {
   "metadata": {
    "ExecuteTime": {
     "end_time": "2024-04-18T10:30:14.950824Z",
     "start_time": "2024-04-18T10:30:14.939070Z"
    }
   },
   "cell_type": "code",
   "source": [
    "stat, p_value = shapiro(CON_PA_MECVV['probl_corazon'])\n",
    "print(f\"Estadístico W = {stat:.4f}\")\n",
    "print(f\"Valor p = {p_value:.4f}\")\n",
    "\n",
    "alpha = 0.05\n",
    "if p_value < alpha:\n",
    "    print(\"El número de filas no sigue una distribución normal (rechazar H0).\")\n",
    "else:\n",
    "    print(\"El número de filas sigue una distribución normal (aceptar H0).\")"
   ],
   "id": "74329b3c356ab930",
   "outputs": [
    {
     "name": "stdout",
     "output_type": "stream",
     "text": [
      "Estadístico W = 0.3657\n",
      "Valor p = 0.0000\n",
      "El número de filas no sigue una distribución normal (rechazar H0).\n"
     ]
    }
   ],
   "execution_count": 333
  },
  {
   "metadata": {
    "ExecuteTime": {
     "end_time": "2024-04-18T10:30:18.788811Z",
     "start_time": "2024-04-18T10:30:18.782771Z"
    }
   },
   "cell_type": "code",
   "source": [
    "stat, p_value = shapiro(SIN_PA['probl_corazon'])\n",
    "print(f\"Estadístico W = {stat:.4f}\")\n",
    "print(f\"Valor p = {p_value:.4f}\")\n",
    "\n",
    "alpha = 0.05\n",
    "if p_value < alpha:\n",
    "    print(\"El número de filas no sigue una distribución normal (rechazar H0).\")\n",
    "else:\n",
    "    print(\"El número de filas sigue una distribución normal (aceptar H0).\")"
   ],
   "id": "c5eb2d33fd46a0dd",
   "outputs": [
    {
     "name": "stdout",
     "output_type": "stream",
     "text": [
      "Estadístico W = 0.4168\n",
      "Valor p = 0.0000\n",
      "El número de filas no sigue una distribución normal (rechazar H0).\n"
     ]
    }
   ],
   "execution_count": 334
  },
  {
   "metadata": {
    "ExecuteTime": {
     "end_time": "2024-04-18T10:30:50.108625Z",
     "start_time": "2024-04-18T10:30:50.102604Z"
    }
   },
   "cell_type": "code",
   "source": [
    "stat, p_value_12 = mannwhitneyu(CON_PA['probl_corazon'], CON_PA_MECVV['probl_corazon'], alternative='two-sided')\n",
    "print(\"P-valor entre CON_PA y CON_PA_MECVV\", p_value_12)"
   ],
   "id": "dd41146095c973e6",
   "outputs": [
    {
     "name": "stdout",
     "output_type": "stream",
     "text": [
      "P-valor entre CON_PA y CON_PA_MECVV 0.9265568396984611\n"
     ]
    }
   ],
   "execution_count": 335
  },
  {
   "metadata": {
    "ExecuteTime": {
     "end_time": "2024-04-18T10:31:20.402377Z",
     "start_time": "2024-04-18T10:31:20.397014Z"
    }
   },
   "cell_type": "code",
   "source": [
    "stat, p_value_13 = mannwhitneyu(CON_PA['CV'], SIN_PA['CV'], alternative='two-sided')\n",
    "print(\"P-valor entre CON_PA y SIN_PA\", p_value_13)"
   ],
   "id": "51f94835fcff1281",
   "outputs": [
    {
     "name": "stdout",
     "output_type": "stream",
     "text": [
      "P-valor entre CON_PA y SIN_PA 0.9858477456716862\n"
     ]
    }
   ],
   "execution_count": 336
  },
  {
   "metadata": {
    "ExecuteTime": {
     "end_time": "2024-04-18T10:31:39.414099Z",
     "start_time": "2024-04-18T10:31:39.407526Z"
    }
   },
   "cell_type": "code",
   "source": [
    "stat, p_value_23 = mannwhitneyu(CON_PA_MECVV['CV'], SIN_PA['CV'], alternative='two-sided')\n",
    "print(\"P-valor entre CON_PA_MECVV y SIN_PA\", p_value_23)"
   ],
   "id": "91d8fe72b61842",
   "outputs": [
    {
     "name": "stdout",
     "output_type": "stream",
     "text": [
      "P-valor entre CON_PA_MECVV y SIN_PA 0.6762982127217047\n"
     ]
    }
   ],
   "execution_count": 337
  },
  {
   "metadata": {},
   "cell_type": "markdown",
   "source": "## Enfermedades neurodegenerativas",
   "id": "18c9cce147e62274"
  },
  {
   "metadata": {
    "ExecuteTime": {
     "end_time": "2024-04-18T10:41:53.072310Z",
     "start_time": "2024-04-18T10:41:53.064405Z"
    }
   },
   "cell_type": "code",
   "source": [
    "nd_CON_PA= (CON_PA['neurodegenerativas'] == 1.0).mean() * 100\n",
    "print(f\"Porcentaje de enfermedades neurodegenerativas: {nd_CON_PA:.2f}%\")"
   ],
   "id": "1b290be0c970c5fe",
   "outputs": [
    {
     "name": "stdout",
     "output_type": "stream",
     "text": [
      "Porcentaje de enfermedades neurodegenerativas: 0.00%\n"
     ]
    }
   ],
   "execution_count": 340
  },
  {
   "metadata": {
    "ExecuteTime": {
     "end_time": "2024-04-18T10:42:10.457394Z",
     "start_time": "2024-04-18T10:42:10.451527Z"
    }
   },
   "cell_type": "code",
   "source": [
    "nd_CON_PA_MECVV= (CON_PA_MECVV['neurodegenerativas'] == 1.0).mean() * 100\n",
    "print(f\"Porcentaje de enfermedades neurodegenerativas: {nd_CON_PA_MECVV:.2f}%\")"
   ],
   "id": "d7a46cc9000b68a9",
   "outputs": [
    {
     "name": "stdout",
     "output_type": "stream",
     "text": [
      "Porcentaje de enfermedades neurodegenerativas: 10.00%\n"
     ]
    }
   ],
   "execution_count": 341
  },
  {
   "metadata": {
    "ExecuteTime": {
     "end_time": "2024-04-18T10:42:21.339245Z",
     "start_time": "2024-04-18T10:42:21.321112Z"
    }
   },
   "cell_type": "code",
   "source": [
    "nd_SIN_PA= (SIN_PA['neurodegenerativas'] == 1.0).mean() * 100\n",
    "print(f\"Porcentaje de enfermedades neurodegenerativas: {nd_SIN_PA:.2f}%\")"
   ],
   "id": "fef909050dd582f3",
   "outputs": [
    {
     "name": "stdout",
     "output_type": "stream",
     "text": [
      "Porcentaje de enfermedades neurodegenerativas: 4.08%\n"
     ]
    }
   ],
   "execution_count": 342
  },
  {
   "metadata": {},
   "cell_type": "markdown",
   "source": "#### Pvalor",
   "id": "13d4492161572489"
  },
  {
   "metadata": {},
   "cell_type": "markdown",
   "source": "##### Normalidad",
   "id": "e98b267abe8ec4da"
  },
  {
   "metadata": {
    "ExecuteTime": {
     "end_time": "2024-04-18T10:43:28.763250Z",
     "start_time": "2024-04-18T10:43:28.751090Z"
    }
   },
   "cell_type": "code",
   "source": [
    "stat, p_value = shapiro(CON_PA['neurodegenerativas'])\n",
    "print(f\"Estadístico W = {stat:.4f}\")\n",
    "print(f\"Valor p = {p_value:.4f}\")\n",
    "\n",
    "alpha = 0.05\n",
    "if p_value < alpha:\n",
    "    print(\"El número de filas no sigue una distribución normal (rechazar H0).\")\n",
    "else:\n",
    "    print(\"El número de filas sigue una distribución normal (aceptar H0).\")"
   ],
   "id": "8d87943002876acb",
   "outputs": [
    {
     "name": "stdout",
     "output_type": "stream",
     "text": [
      "Estadístico W = 1.0000\n",
      "Valor p = 1.0000\n",
      "El número de filas sigue una distribución normal (aceptar H0).\n"
     ]
    },
    {
     "name": "stderr",
     "output_type": "stream",
     "text": [
      "C:\\Users\\maria\\PycharmProjects\\practicum\\.venv\\Lib\\site-packages\\scipy\\stats\\_axis_nan_policy.py:531: UserWarning: scipy.stats.shapiro: Input data has range zero. The results may not be accurate.\n",
      "  res = hypotest_fun_out(*samples, **kwds)\n"
     ]
    }
   ],
   "execution_count": 345
  },
  {
   "metadata": {
    "ExecuteTime": {
     "end_time": "2024-04-18T10:43:42.750391Z",
     "start_time": "2024-04-18T10:43:42.744312Z"
    }
   },
   "cell_type": "code",
   "source": [
    "stat, p_value = shapiro(CON_PA_MECVV['neurodegenerativas'])\n",
    "print(f\"Estadístico W = {stat:.4f}\")\n",
    "print(f\"Valor p = {p_value:.4f}\")\n",
    "\n",
    "alpha = 0.05\n",
    "if p_value < alpha:\n",
    "    print(\"El número de filas no sigue una distribución normal (rechazar H0).\")\n",
    "else:\n",
    "    print(\"El número de filas sigue una distribución normal (aceptar H0).\")"
   ],
   "id": "6982f3d36ccde172",
   "outputs": [
    {
     "name": "stdout",
     "output_type": "stream",
     "text": [
      "Estadístico W = 0.3657\n",
      "Valor p = 0.0000\n",
      "El número de filas no sigue una distribución normal (rechazar H0).\n"
     ]
    }
   ],
   "execution_count": 346
  },
  {
   "metadata": {
    "ExecuteTime": {
     "end_time": "2024-04-18T10:43:52.376853Z",
     "start_time": "2024-04-18T10:43:52.367564Z"
    }
   },
   "cell_type": "code",
   "source": [
    "stat, p_value = shapiro(SIN_PA['neurodegenerativas'])\n",
    "print(f\"Estadístico W = {stat:.4f}\")\n",
    "print(f\"Valor p = {p_value:.4f}\")\n",
    "\n",
    "alpha = 0.05\n",
    "if p_value < alpha:\n",
    "    print(\"El número de filas no sigue una distribución normal (rechazar H0).\")\n",
    "else:\n",
    "    print(\"El número de filas sigue una distribución normal (aceptar H0).\")"
   ],
   "id": "4a33f042367e4f46",
   "outputs": [
    {
     "name": "stdout",
     "output_type": "stream",
     "text": [
      "Estadístico W = 0.2008\n",
      "Valor p = 0.0000\n",
      "El número de filas no sigue una distribución normal (rechazar H0).\n"
     ]
    }
   ],
   "execution_count": 347
  },
  {
   "metadata": {
    "ExecuteTime": {
     "end_time": "2024-04-18T10:44:39.875637Z",
     "start_time": "2024-04-18T10:44:39.864693Z"
    }
   },
   "cell_type": "code",
   "source": [
    "stat, p_value_12 = mannwhitneyu(CON_PA['neurodegenerativas'], CON_PA_MECVV['neurodegenerativas'], alternative='two-sided')\n",
    "print(\"P-valor entre CON_PA y CON_PA_MECVV\", p_value_12)"
   ],
   "id": "7ea74d2a49cec4ac",
   "outputs": [
    {
     "name": "stdout",
     "output_type": "stream",
     "text": [
      "P-valor entre CON_PA y CON_PA_MECVV 0.21976847950216105\n"
     ]
    }
   ],
   "execution_count": 348
  },
  {
   "metadata": {
    "ExecuteTime": {
     "end_time": "2024-04-18T10:45:09.071152Z",
     "start_time": "2024-04-18T10:45:09.064820Z"
    }
   },
   "cell_type": "code",
   "source": [
    "stat, p_value_13 = mannwhitneyu(CON_PA['neurodegenerativas'], SIN_PA['neurodegenerativas'], alternative='two-sided')\n",
    "print(\"P-valor entre CON_PA y SIN_PA\", p_value_13)"
   ],
   "id": "fedde2b245d34d1",
   "outputs": [
    {
     "name": "stdout",
     "output_type": "stream",
     "text": [
      "P-valor entre CON_PA y SIN_PA 0.41519527301502746\n"
     ]
    }
   ],
   "execution_count": 349
  },
  {
   "metadata": {
    "ExecuteTime": {
     "end_time": "2024-04-18T10:45:40.262518Z",
     "start_time": "2024-04-18T10:45:40.254661Z"
    }
   },
   "cell_type": "code",
   "source": [
    "stat, p_value_23 = mannwhitneyu(CON_PA_MECVV['neurodegenerativas'], SIN_PA['neurodegenerativas'], alternative='two-sided')\n",
    "print(\"P-valor entre CON_PA_MECVV y SIN_PA\", p_value_23)"
   ],
   "id": "2329b5f7f410f0fb",
   "outputs": [
    {
     "name": "stdout",
     "output_type": "stream",
     "text": [
      "P-valor entre CON_PA_MECVV y SIN_PA 0.45734646700671056\n"
     ]
    }
   ],
   "execution_count": 350
  },
  {
   "metadata": {},
   "cell_type": "markdown",
   "source": "## Diabetes mellitus",
   "id": "42b942e8587dc0c3"
  },
  {
   "metadata": {
    "ExecuteTime": {
     "end_time": "2024-04-18T10:48:38.058301Z",
     "start_time": "2024-04-18T10:48:38.052985Z"
    }
   },
   "cell_type": "code",
   "source": [
    "dm_CON_PA= (CON_PA['DM'] == 1.0).mean() * 100\n",
    "print(f\"Porcentaje de diabetes mellitus: {dm_CON_PA:.2f}%\")"
   ],
   "id": "698511ef1e3136bc",
   "outputs": [
    {
     "name": "stdout",
     "output_type": "stream",
     "text": [
      "Porcentaje de diabetes mellitus: 23.53%\n"
     ]
    }
   ],
   "execution_count": 352
  },
  {
   "metadata": {
    "ExecuteTime": {
     "end_time": "2024-04-18T10:48:52.526501Z",
     "start_time": "2024-04-18T10:48:52.520169Z"
    }
   },
   "cell_type": "code",
   "source": [
    "dm_CON_PA_MECVV= (CON_PA_MECVV['DM'] == 1.0).mean() * 100\n",
    "print(f\"Porcentaje de diabetes mellitus: {dm_CON_PA_MECVV:.2f}%\")"
   ],
   "id": "80ed95bb2fa57c00",
   "outputs": [
    {
     "name": "stdout",
     "output_type": "stream",
     "text": [
      "Porcentaje de diabetes mellitus: 10.00%\n"
     ]
    }
   ],
   "execution_count": 353
  },
  {
   "metadata": {
    "ExecuteTime": {
     "end_time": "2024-04-18T10:49:10.348248Z",
     "start_time": "2024-04-18T10:49:10.343509Z"
    }
   },
   "cell_type": "code",
   "source": [
    "dm_SIN_PA= (SIN_PA['DM'] == 1.0).mean() * 100\n",
    "print(f\"Porcentaje de diabetes mellitus: {dm_SIN_PA:.2f}%\")"
   ],
   "id": "2de37780f8d2b591",
   "outputs": [
    {
     "name": "stdout",
     "output_type": "stream",
     "text": [
      "Porcentaje de diabetes mellitus: 26.53%\n"
     ]
    }
   ],
   "execution_count": 354
  },
  {
   "metadata": {},
   "cell_type": "markdown",
   "source": "#### Pvalor ",
   "id": "39c5da893c7deb9c"
  },
  {
   "metadata": {},
   "cell_type": "markdown",
   "source": "##### Normalidad",
   "id": "ebee9ab25c7f5d27"
  },
  {
   "metadata": {
    "ExecuteTime": {
     "end_time": "2024-04-18T10:50:40.369088Z",
     "start_time": "2024-04-18T10:50:40.362187Z"
    }
   },
   "cell_type": "code",
   "source": [
    "stat, p_value = shapiro(CON_PA['DM'])\n",
    "print(f\"Estadístico W = {stat:.4f}\")\n",
    "print(f\"Valor p = {p_value:.4f}\")\n",
    "\n",
    "alpha = 0.05\n",
    "if p_value < alpha:\n",
    "    print(\"El número de filas no sigue una distribución normal (rechazar H0).\")\n",
    "else:\n",
    "    print(\"El número de filas sigue una distribución normal (aceptar H0).\")"
   ],
   "id": "873e8801ed67f9de",
   "outputs": [
    {
     "name": "stdout",
     "output_type": "stream",
     "text": [
      "Estadístico W = 0.5327\n",
      "Valor p = 0.0000\n",
      "El número de filas no sigue una distribución normal (rechazar H0).\n"
     ]
    }
   ],
   "execution_count": 357
  },
  {
   "metadata": {
    "ExecuteTime": {
     "end_time": "2024-04-18T10:50:47.420417Z",
     "start_time": "2024-04-18T10:50:47.414041Z"
    }
   },
   "cell_type": "code",
   "source": [
    "stat, p_value = shapiro(CON_PA_MECVV['DM'])\n",
    "print(f\"Estadístico W = {stat:.4f}\")\n",
    "print(f\"Valor p = {p_value:.4f}\")\n",
    "\n",
    "alpha = 0.05\n",
    "if p_value < alpha:\n",
    "    print(\"El número de filas no sigue una distribución normal (rechazar H0).\")\n",
    "else:\n",
    "    print(\"El número de filas sigue una distribución normal (aceptar H0).\")"
   ],
   "id": "45d49dc27d20b1a8",
   "outputs": [
    {
     "name": "stdout",
     "output_type": "stream",
     "text": [
      "Estadístico W = 0.3657\n",
      "Valor p = 0.0000\n",
      "El número de filas no sigue una distribución normal (rechazar H0).\n"
     ]
    }
   ],
   "execution_count": 358
  },
  {
   "metadata": {
    "ExecuteTime": {
     "end_time": "2024-04-18T10:50:53.167692Z",
     "start_time": "2024-04-18T10:50:53.161449Z"
    }
   },
   "cell_type": "code",
   "source": [
    "stat, p_value = shapiro(SIN_PA['DM'])\n",
    "print(f\"Estadístico W = {stat:.4f}\")\n",
    "print(f\"Valor p = {p_value:.4f}\")\n",
    "\n",
    "alpha = 0.05\n",
    "if p_value < alpha:\n",
    "    print(\"El número de filas no sigue una distribución normal (rechazar H0).\")\n",
    "else:\n",
    "    print(\"El número de filas sigue una distribución normal (aceptar H0).\")"
   ],
   "id": "7d5c39dae28b5115",
   "outputs": [
    {
     "name": "stdout",
     "output_type": "stream",
     "text": [
      "Estadístico W = 0.5514\n",
      "Valor p = 0.0000\n",
      "El número de filas no sigue una distribución normal (rechazar H0).\n"
     ]
    }
   ],
   "execution_count": 359
  },
  {
   "metadata": {
    "ExecuteTime": {
     "end_time": "2024-04-18T10:51:14.166967Z",
     "start_time": "2024-04-18T10:51:14.161174Z"
    }
   },
   "cell_type": "code",
   "source": [
    "stat, p_value_12 = mannwhitneyu(CON_PA['DM'], CON_PA_MECVV['DM'], alternative='two-sided')\n",
    "print(\"P-valor entre CON_PA y CON_PA_MECVV\", p_value_12)"
   ],
   "id": "b76e252fda353c31",
   "outputs": [
    {
     "name": "stdout",
     "output_type": "stream",
     "text": [
      "P-valor entre CON_PA y CON_PA_MECVV 0.4120280546315189\n"
     ]
    }
   ],
   "execution_count": 360
  },
  {
   "metadata": {
    "ExecuteTime": {
     "end_time": "2024-04-18T10:51:32.264575Z",
     "start_time": "2024-04-18T10:51:32.258504Z"
    }
   },
   "cell_type": "code",
   "source": [
    "stat, p_value_13 = mannwhitneyu(CON_PA['DM'], SIN_PA['DM'], alternative='two-sided')\n",
    "print(\"P-valor entre CON_PA y SIN_PAN\", p_value_13)"
   ],
   "id": "4cfaeae595eb594b",
   "outputs": [
    {
     "name": "stdout",
     "output_type": "stream",
     "text": [
      "P-valor entre CON_PA y SIN_PAN 0.8163159339942008\n"
     ]
    }
   ],
   "execution_count": 361
  },
  {
   "metadata": {
    "ExecuteTime": {
     "end_time": "2024-04-18T10:51:49.244504Z",
     "start_time": "2024-04-18T10:51:49.238908Z"
    }
   },
   "cell_type": "code",
   "source": [
    "stat, p_value_23 = mannwhitneyu(CON_PA_MECVV['DM'], SIN_PA['DM'], alternative='two-sided')\n",
    "print(\"P-valor entre CON_PA_MECVV y SIN_PAN\", p_value_23)"
   ],
   "id": "372c60185966ee23",
   "outputs": [
    {
     "name": "stdout",
     "output_type": "stream",
     "text": [
      "P-valor entre CON_PA_MECVV y SIN_PAN 0.2728301710651724\n"
     ]
    }
   ],
   "execution_count": 362
  },
  {
   "metadata": {},
   "cell_type": "markdown",
   "source": "## Hepatopatias",
   "id": "772c1f476c2f3d43"
  },
  {
   "metadata": {
    "ExecuteTime": {
     "end_time": "2024-04-18T10:55:13.765137Z",
     "start_time": "2024-04-18T10:55:13.757440Z"
    }
   },
   "cell_type": "code",
   "source": [
    "hp_CON_PA= (CON_PA['hepatopatias'] == 1.0).mean() * 100\n",
    "print(f\"Porcentaje de hepatopatias: {hp_CON_PA:.2f}%\")"
   ],
   "id": "5cfced98e5d59960",
   "outputs": [
    {
     "name": "stdout",
     "output_type": "stream",
     "text": [
      "Porcentaje de hepatopatias: 11.76%\n"
     ]
    }
   ],
   "execution_count": 363
  },
  {
   "metadata": {
    "ExecuteTime": {
     "end_time": "2024-04-18T10:55:29.412809Z",
     "start_time": "2024-04-18T10:55:29.407038Z"
    }
   },
   "cell_type": "code",
   "source": [
    "hp_CON_PA_MECVV= (CON_PA_MECVV['hepatopatias'] == 1.0).mean() * 100\n",
    "print(f\"Porcentaje de hepatopatias: {hp_CON_PA_MECVV:.2f}%\")"
   ],
   "id": "ffeb2d3f7c6163ad",
   "outputs": [
    {
     "name": "stdout",
     "output_type": "stream",
     "text": [
      "Porcentaje de hepatopatias: 10.00%\n"
     ]
    }
   ],
   "execution_count": 364
  },
  {
   "metadata": {
    "ExecuteTime": {
     "end_time": "2024-04-18T10:55:48.674574Z",
     "start_time": "2024-04-18T10:55:48.669423Z"
    }
   },
   "cell_type": "code",
   "source": [
    "hp_SIN_PA= (SIN_PA['hepatopatias'] == 1.0).mean() * 100\n",
    "print(f\"Porcentaje de hepatopatias: {hp_SIN_PA:.2f}%\")"
   ],
   "id": "23ccf77254538573",
   "outputs": [
    {
     "name": "stdout",
     "output_type": "stream",
     "text": [
      "Porcentaje de hepatopatias: 6.12%\n"
     ]
    }
   ],
   "execution_count": 365
  },
  {
   "metadata": {},
   "cell_type": "markdown",
   "source": "#### Pvalor",
   "id": "ee084e9b17270c10"
  },
  {
   "metadata": {},
   "cell_type": "markdown",
   "source": "##### Normalidad",
   "id": "b932958d65d9e455"
  },
  {
   "metadata": {
    "ExecuteTime": {
     "end_time": "2024-04-18T10:56:32.044561Z",
     "start_time": "2024-04-18T10:56:32.039174Z"
    }
   },
   "cell_type": "code",
   "source": [
    "stat, p_value = shapiro(CON_PA['hepatopatias'])\n",
    "print(f\"Estadístico W = {stat:.4f}\")\n",
    "print(f\"Valor p = {p_value:.4f}\")\n",
    "\n",
    "alpha = 0.05\n",
    "if p_value < alpha:\n",
    "    print(\"El número de filas no sigue una distribución normal (rechazar H0).\")\n",
    "else:\n",
    "    print(\"El número de filas sigue una distribución normal (aceptar H0).\")"
   ],
   "id": "de51f01ce1362aab",
   "outputs": [
    {
     "name": "stdout",
     "output_type": "stream",
     "text": [
      "Estadístico W = 0.3853\n",
      "Valor p = 0.0000\n",
      "El número de filas no sigue una distribución normal (rechazar H0).\n"
     ]
    }
   ],
   "execution_count": 368
  },
  {
   "metadata": {
    "ExecuteTime": {
     "end_time": "2024-04-18T10:56:40.896862Z",
     "start_time": "2024-04-18T10:56:40.891994Z"
    }
   },
   "cell_type": "code",
   "source": [
    "stat, p_value = shapiro(CON_PA_MECVV['hepatopatias'])\n",
    "print(f\"Estadístico W = {stat:.4f}\")\n",
    "print(f\"Valor p = {p_value:.4f}\")\n",
    "\n",
    "alpha = 0.05\n",
    "if p_value < alpha:\n",
    "    print(\"El número de filas no sigue una distribución normal (rechazar H0).\")\n",
    "else:\n",
    "    print(\"El número de filas sigue una distribución normal (aceptar H0).\")"
   ],
   "id": "343a308a86ecb20b",
   "outputs": [
    {
     "name": "stdout",
     "output_type": "stream",
     "text": [
      "Estadístico W = 0.3657\n",
      "Valor p = 0.0000\n",
      "El número de filas no sigue una distribución normal (rechazar H0).\n"
     ]
    }
   ],
   "execution_count": 369
  },
  {
   "metadata": {
    "ExecuteTime": {
     "end_time": "2024-04-18T10:56:45.519371Z",
     "start_time": "2024-04-18T10:56:45.513369Z"
    }
   },
   "cell_type": "code",
   "source": [
    "stat, p_value = shapiro(SIN_PA['hepatopatias'])\n",
    "print(f\"Estadístico W = {stat:.4f}\")\n",
    "print(f\"Valor p = {p_value:.4f}\")\n",
    "\n",
    "alpha = 0.05\n",
    "if p_value < alpha:\n",
    "    print(\"El número de filas no sigue una distribución normal (rechazar H0).\")\n",
    "else:\n",
    "    print(\"El número de filas sigue una distribución normal (aceptar H0).\")"
   ],
   "id": "94bfe6f6b1e080e3",
   "outputs": [
    {
     "name": "stdout",
     "output_type": "stream",
     "text": [
      "Estadístico W = 0.2580\n",
      "Valor p = 0.0000\n",
      "El número de filas no sigue una distribución normal (rechazar H0).\n"
     ]
    }
   ],
   "execution_count": 370
  },
  {
   "metadata": {
    "ExecuteTime": {
     "end_time": "2024-04-18T10:57:21.775455Z",
     "start_time": "2024-04-18T10:57:21.769024Z"
    }
   },
   "cell_type": "code",
   "source": [
    "stat, p_value_12 = mannwhitneyu(CON_PA['hepatopatias'], CON_PA_MECVV['hepatopatias'], alternative='two-sided')\n",
    "print(\"P-valor entre CON_PA y CON_PA_MECVV\", p_value_12)"
   ],
   "id": "f1d399767dab3eeb",
   "outputs": [
    {
     "name": "stdout",
     "output_type": "stream",
     "text": [
      "P-valor entre CON_PA y CON_PA_MECVV 0.9265568396984611\n"
     ]
    }
   ],
   "execution_count": 371
  },
  {
   "metadata": {
    "ExecuteTime": {
     "end_time": "2024-04-18T10:59:21.532811Z",
     "start_time": "2024-04-18T10:59:21.526408Z"
    }
   },
   "cell_type": "code",
   "source": [
    "stat, p_value_13 = mannwhitneyu(CON_PA['hepatopatias'], SIN_PA['hepatopatias'], alternative='two-sided')\n",
    "print(\"P-valor entre CON_PA y SIN_PA\", p_value_13)"
   ],
   "id": "e5ae22e928d63a0f",
   "outputs": [
    {
     "name": "stdout",
     "output_type": "stream",
     "text": [
      "P-valor entre CON_PA y SIN_PA 0.4618706673466527\n"
     ]
    }
   ],
   "execution_count": 375
  },
  {
   "metadata": {
    "ExecuteTime": {
     "end_time": "2024-04-18T10:59:40.691259Z",
     "start_time": "2024-04-18T10:59:40.685513Z"
    }
   },
   "cell_type": "code",
   "source": [
    "stat, p_value_23 = mannwhitneyu(CON_PA_MECVV['hepatopatias'], SIN_PA['hepatopatias'], alternative='two-sided')\n",
    "print(\"P-valor entre CON_PA_MECVV y SIN_PA\", p_value_23)"
   ],
   "id": "c8e4bb6c92eae392",
   "outputs": [
    {
     "name": "stdout",
     "output_type": "stream",
     "text": [
      "P-valor entre CON_PA_MECVV y SIN_PA 0.6762982127217047\n"
     ]
    }
   ],
   "execution_count": 377
  },
  {
   "metadata": {},
   "cell_type": "markdown",
   "source": "## Neoplasia",
   "id": "959b58aaaaab994b"
  },
  {
   "metadata": {
    "ExecuteTime": {
     "end_time": "2024-04-18T11:01:43.954871Z",
     "start_time": "2024-04-18T11:01:43.946720Z"
    }
   },
   "cell_type": "code",
   "source": [
    "neopl_CON_PA= (CON_PA['neoplasias'] == 1.0).mean() * 100\n",
    "print(f\"Porcentaje de neoplasia: {neopl_CON_PA:.2f}%\")"
   ],
   "id": "6bbefcc81da003fc",
   "outputs": [
    {
     "name": "stdout",
     "output_type": "stream",
     "text": [
      "Porcentaje de neoplasia: 0.00%\n"
     ]
    }
   ],
   "execution_count": 378
  },
  {
   "metadata": {
    "ExecuteTime": {
     "end_time": "2024-04-18T11:01:58.073756Z",
     "start_time": "2024-04-18T11:01:58.067024Z"
    }
   },
   "cell_type": "code",
   "source": [
    "neopl_CON_PA_MECVV= (CON_PA_MECVV['neoplasias'] == 1.0).mean() * 100\n",
    "print(f\"Porcentaje de neoplasia: {neopl_CON_PA_MECVV:.2f}%\")"
   ],
   "id": "216d7eebaa16abc0",
   "outputs": [
    {
     "name": "stdout",
     "output_type": "stream",
     "text": [
      "Porcentaje de neoplasia: 0.00%\n"
     ]
    }
   ],
   "execution_count": 379
  },
  {
   "metadata": {
    "ExecuteTime": {
     "end_time": "2024-04-18T11:02:41.453910Z",
     "start_time": "2024-04-18T11:02:41.448162Z"
    }
   },
   "cell_type": "code",
   "source": [
    "neopl_SIN_PA= (SIN_PA['neoplasias'] == 1.0).mean() * 100\n",
    "print(f\"Porcentaje de neoplasia: {neopl_SIN_PA:.2f}%\")"
   ],
   "id": "380e87c3db7e8b7a",
   "outputs": [
    {
     "name": "stdout",
     "output_type": "stream",
     "text": [
      "Porcentaje de neoplasia: 6.12%\n"
     ]
    }
   ],
   "execution_count": 382
  },
  {
   "metadata": {},
   "cell_type": "markdown",
   "source": "#### Pvalor",
   "id": "338c0f6458d8be19"
  },
  {
   "metadata": {},
   "cell_type": "markdown",
   "source": "##### Normalidad",
   "id": "9377ac1a9f6dd002"
  },
  {
   "metadata": {
    "ExecuteTime": {
     "end_time": "2024-04-18T11:41:27.358906Z",
     "start_time": "2024-04-18T11:41:27.349990Z"
    }
   },
   "cell_type": "code",
   "source": [
    "stat, p_value = shapiro(CON_PA['neoplasias'])\n",
    "print(f\"Estadístico W = {stat:.4f}\")\n",
    "print(f\"Valor p = {p_value:.4f}\")\n",
    "\n",
    "alpha = 0.05\n",
    "if p_value < alpha:\n",
    "    print(\"El número de filas no sigue una distribución normal (rechazar H0).\")\n",
    "else:\n",
    "    print(\"El número de filas sigue una distribución normal (aceptar H0).\")"
   ],
   "id": "7c858ee47d54bc43",
   "outputs": [
    {
     "name": "stdout",
     "output_type": "stream",
     "text": [
      "Estadístico W = 1.0000\n",
      "Valor p = 1.0000\n",
      "El número de filas sigue una distribución normal (aceptar H0).\n"
     ]
    },
    {
     "name": "stderr",
     "output_type": "stream",
     "text": [
      "C:\\Users\\maria\\PycharmProjects\\practicum\\.venv\\Lib\\site-packages\\scipy\\stats\\_axis_nan_policy.py:531: UserWarning: scipy.stats.shapiro: Input data has range zero. The results may not be accurate.\n",
      "  res = hypotest_fun_out(*samples, **kwds)\n"
     ]
    }
   ],
   "execution_count": 433
  },
  {
   "metadata": {
    "ExecuteTime": {
     "end_time": "2024-04-18T11:04:58.653841Z",
     "start_time": "2024-04-18T11:04:58.647996Z"
    }
   },
   "cell_type": "code",
   "source": [
    "stat, p_value = shapiro(CON_PA_MECVV['hepatopatias'])\n",
    "print(f\"Estadístico W = {stat:.4f}\")\n",
    "print(f\"Valor p = {p_value:.4f}\")\n",
    "\n",
    "alpha = 0.05\n",
    "if p_value < alpha:\n",
    "    print(\"El número de filas no sigue una distribución normal (rechazar H0).\")\n",
    "else:\n",
    "    print(\"El número de filas sigue una distribución normal (aceptar H0).\")"
   ],
   "id": "dde37d63a9b667d",
   "outputs": [
    {
     "name": "stdout",
     "output_type": "stream",
     "text": [
      "Estadístico W = 0.3657\n",
      "Valor p = 0.0000\n",
      "El número de filas no sigue una distribución normal (rechazar H0).\n"
     ]
    }
   ],
   "execution_count": 387
  },
  {
   "metadata": {
    "ExecuteTime": {
     "end_time": "2024-04-18T11:05:42.594838Z",
     "start_time": "2024-04-18T11:05:42.587703Z"
    }
   },
   "cell_type": "code",
   "source": [
    "stat, p_value = shapiro(SIN_PA['hepatopatias'])\n",
    "print(f\"Estadístico W = {stat:.4f}\")\n",
    "print(f\"Valor p = {p_value:.4f}\")\n",
    "\n",
    "alpha = 0.05\n",
    "if p_value < alpha:\n",
    "    print(\"El número de filas no sigue una distribución normal (rechazar H0).\")\n",
    "else:\n",
    "    print(\"El número de filas sigue una distribución normal (aceptar H0).\")"
   ],
   "id": "6bb78df14856b8f9",
   "outputs": [
    {
     "name": "stdout",
     "output_type": "stream",
     "text": [
      "Estadístico W = 0.2580\n",
      "Valor p = 0.0000\n",
      "El número de filas no sigue una distribución normal (rechazar H0).\n"
     ]
    }
   ],
   "execution_count": 388
  },
  {
   "metadata": {
    "ExecuteTime": {
     "end_time": "2024-04-18T11:06:09.854265Z",
     "start_time": "2024-04-18T11:06:09.848634Z"
    }
   },
   "cell_type": "code",
   "source": [
    "stat, p_value_12 = mannwhitneyu(CON_PA['neoplasias'], CON_PA_MECVV['neoplasias'], alternative='two-sided')\n",
    "print(\"P-valor entre CON_PA y CON_PA_MECVV\", p_value_12)"
   ],
   "id": "7e49acda243ca033",
   "outputs": [
    {
     "name": "stdout",
     "output_type": "stream",
     "text": [
      "P-valor entre CON_PA y CON_PA_MECVV 1.0\n"
     ]
    }
   ],
   "execution_count": 389
  },
  {
   "metadata": {
    "ExecuteTime": {
     "end_time": "2024-04-18T11:06:34.330254Z",
     "start_time": "2024-04-18T11:06:34.324231Z"
    }
   },
   "cell_type": "code",
   "source": [
    "stat, p_value_13 = mannwhitneyu(CON_PA['neoplasias'], SIN_PA['neoplasias'], alternative='two-sided')\n",
    "print(\"P-valor entre CON_PA y SIN_PA\", p_value_12)"
   ],
   "id": "19de53eaca6faf46",
   "outputs": [
    {
     "name": "stdout",
     "output_type": "stream",
     "text": [
      "P-valor entre CON_PA y SIN_PA 1.0\n"
     ]
    }
   ],
   "execution_count": 390
  },
  {
   "metadata": {
    "ExecuteTime": {
     "end_time": "2024-04-18T11:07:03.993862Z",
     "start_time": "2024-04-18T11:07:03.982759Z"
    }
   },
   "cell_type": "code",
   "source": [
    "stat, p_value_23 = mannwhitneyu(CON_PA_MECVV['neoplasias'], SIN_PA['neoplasias'], alternative='two-sided')\n",
    "print(\"P-valor entre CON_PA_MECVV y SIN_PA\", p_value_23)"
   ],
   "id": "d041e42afd281dba",
   "outputs": [
    {
     "name": "stdout",
     "output_type": "stream",
     "text": [
      "P-valor entre CON_PA_MECVV y SIN_PA 0.44143809205435813\n"
     ]
    }
   ],
   "execution_count": 391
  },
  {
   "metadata": {},
   "cell_type": "markdown",
   "source": "## Enfermedad cronica renal (creatinina > 1.5mg/dL)",
   "id": "be977a70d2e9a7c"
  },
  {
   "metadata": {},
   "cell_type": "markdown",
   "source": "Dado que esta columna es de tipo object primero la pasaré a tipo numerico para poder operar con ella. ",
   "id": "104b74d04d4f6f25"
  },
  {
   "metadata": {
    "ExecuteTime": {
     "end_time": "2024-04-18T12:37:41.299245Z",
     "start_time": "2024-04-18T12:37:41.292257Z"
    }
   },
   "cell_type": "code",
   "source": [
    "# Convertir la columna 'creatinina' a numérica en ambos DataFrames\n",
    "CON_PA.loc[:, 'creatinina'] = pd.to_numeric(CON_PA['creatinina'], errors='coerce')\n",
    "CON_PA_MECVV.loc[:, 'creatinina'] = pd.to_numeric(CON_PA_MECVV['creatinina'], errors='coerce')\n",
    "SIN_PA.loc[:, 'creatinina'] = pd.to_numeric(SIN_PA['creatinina'], errors='coerce')"
   ],
   "id": "44a54bc94beb324a",
   "outputs": [],
   "execution_count": 504
  },
  {
   "metadata": {
    "ExecuteTime": {
     "end_time": "2024-04-18T12:26:25.084806Z",
     "start_time": "2024-04-18T12:26:25.078742Z"
    }
   },
   "cell_type": "code",
   "source": [
    "ecr_CON_PA= (CON_PA['creatinina'] >= 1.5).mean() * 100\n",
    "print(f\"Porcentaje de enfermedad cronica renal con creatinina >1.5: {ecr_CON_PA:.2f}%\")"
   ],
   "id": "1220b795ea747457",
   "outputs": [
    {
     "name": "stdout",
     "output_type": "stream",
     "text": [
      "Porcentaje de enfermedad cronica renal con creatinina >1.5: 0.00%\n"
     ]
    }
   ],
   "execution_count": 479
  },
  {
   "metadata": {
    "ExecuteTime": {
     "end_time": "2024-04-18T12:26:13.396480Z",
     "start_time": "2024-04-18T12:26:13.390158Z"
    }
   },
   "cell_type": "code",
   "source": [
    "ecr_CON_PA_MECVV= (CON_PA_MECVV['creatinina'] > 1.5).mean() * 100\n",
    "print(f\"Porcentaje de enfermedad cronica renal con creatinina >1.5: {ecr_CON_PA_MECVV:.2f}%\")"
   ],
   "id": "f33ab01070f387e4",
   "outputs": [
    {
     "name": "stdout",
     "output_type": "stream",
     "text": [
      "Porcentaje de enfermedad cronica renal con creatinina >1.5: 0.00%\n"
     ]
    }
   ],
   "execution_count": 478
  },
  {
   "metadata": {
    "ExecuteTime": {
     "end_time": "2024-04-18T12:37:34.687912Z",
     "start_time": "2024-04-18T12:37:34.673861Z"
    }
   },
   "cell_type": "code",
   "source": [
    "ecr_SIN_PA= (SIN_PA['creatinina'] > 1.5).mean() * 100\n",
    "print(f\"Porcentaje de enfermedad cronica renal con creatinina >1.5: {ecr_SIN_PA:.2f}%\")"
   ],
   "id": "f2a96ab467d4fa20",
   "outputs": [
    {
     "name": "stdout",
     "output_type": "stream",
     "text": [
      "Porcentaje de enfermedad cronica renal con creatinina >1.5: 6.00%\n"
     ]
    }
   ],
   "execution_count": 503
  },
  {
   "metadata": {},
   "cell_type": "markdown",
   "source": "#### Pvalor",
   "id": "9a0ec8b221656a8a"
  },
  {
   "metadata": {},
   "cell_type": "markdown",
   "source": "##### Normalidad",
   "id": "d6ffad4c820486ed"
  },
  {
   "metadata": {
    "ExecuteTime": {
     "end_time": "2024-04-18T12:37:48.320484Z",
     "start_time": "2024-04-18T12:37:48.312899Z"
    }
   },
   "cell_type": "code",
   "source": [
    "stat, p_value = shapiro(CON_PA['creatinina'].dropna())\n",
    "print(f\"Estadístico W = {stat:.4f}\")\n",
    "print(f\"Valor p = {p_value:.4f}\")\n",
    "\n",
    "alpha = 0.05\n",
    "if p_value < alpha:\n",
    "    print(\"El número de filas no sigue una distribución normal (rechazar H0).\")\n",
    "else:\n",
    "    print(\"El número de filas sigue una distribución normal (aceptar H0).\")"
   ],
   "id": "1f63051648a84697",
   "execution_count": 505,
   "outputs": [
    {
     "name": "stdout",
     "output_type": "stream",
     "text": [
      "Estadístico W = 0.9549\n",
      "Valor p = 0.7439\n",
      "El número de filas sigue una distribución normal (aceptar H0).\n"
     ]
    }
   ]
  },
  {
   "metadata": {
    "ExecuteTime": {
     "end_time": "2024-04-18T12:37:52.543824Z",
     "start_time": "2024-04-18T12:37:52.536847Z"
    }
   },
   "cell_type": "code",
   "source": [
    "stat, p_value = shapiro(CON_PA_MECVV['creatinina'].dropna())\n",
    "print(f\"Estadístico W = {stat:.4f}\")\n",
    "print(f\"Valor p = {p_value:.4f}\")\n",
    "\n",
    "alpha = 0.05\n",
    "if p_value < alpha:\n",
    "    print(\"El número de filas no sigue una distribución normal (rechazar H0).\")\n",
    "else:\n",
    "    print(\"El número de filas sigue una distribución normal (aceptar H0).\")"
   ],
   "id": "dd791706071019a6",
   "outputs": [
    {
     "name": "stdout",
     "output_type": "stream",
     "text": [
      "Estadístico W = 0.9815\n",
      "Valor p = 0.9110\n",
      "El número de filas sigue una distribución normal (aceptar H0).\n"
     ]
    }
   ],
   "execution_count": 506
  },
  {
   "metadata": {
    "ExecuteTime": {
     "end_time": "2024-04-18T12:37:56.458806Z",
     "start_time": "2024-04-18T12:37:56.451022Z"
    }
   },
   "cell_type": "code",
   "source": [
    "stat, p_value = shapiro(SIN_PA['creatinina'].dropna())\n",
    "print(f\"Estadístico W = {stat:.4f}\")\n",
    "print(f\"Valor p = {p_value:.4f}\")\n",
    "\n",
    "alpha = 0.05\n",
    "if p_value < alpha:\n",
    "    print(\"El número de filas no sigue una distribución normal (rechazar H0).\")\n",
    "else:\n",
    "    print(\"El número de filas sigue una distribución normal (aceptar H0).\")"
   ],
   "id": "85df00a80ed67583",
   "outputs": [
    {
     "name": "stdout",
     "output_type": "stream",
     "text": [
      "Estadístico W = 0.7235\n",
      "Valor p = 0.0000\n",
      "El número de filas no sigue una distribución normal (rechazar H0).\n"
     ]
    }
   ],
   "execution_count": 507
  },
  {
   "metadata": {
    "ExecuteTime": {
     "end_time": "2024-04-18T12:38:01.283439Z",
     "start_time": "2024-04-18T12:38:01.277426Z"
    }
   },
   "cell_type": "code",
   "source": [
    "stat, p_value_12 = ttest_ind(CON_PA['creatinina'], CON_PA_MECVV['creatinina'], equal_var=False)\n",
    "print(\"P-valor entre CON_PA y CON_PA_MECVV\", p_value_12)"
   ],
   "id": "cf20863e3c24d450",
   "outputs": [
    {
     "name": "stdout",
     "output_type": "stream",
     "text": [
      "P-valor entre CON_PA y CON_PA_MECVV nan\n"
     ]
    }
   ],
   "execution_count": 508
  },
  {
   "metadata": {
    "ExecuteTime": {
     "end_time": "2024-04-18T12:39:55.676539Z",
     "start_time": "2024-04-18T12:39:55.670593Z"
    }
   },
   "cell_type": "code",
   "source": [
    "stat, p_value_13 = mannwhitneyu(CON_PA['creatinina'], SIN_PA['creatinina'], alternative='two-sided')\n",
    "print(\"P-valor entre CON_PA y SIN_PA\", p_value_13)"
   ],
   "id": "17e378b6adaccd52",
   "outputs": [
    {
     "name": "stdout",
     "output_type": "stream",
     "text": [
      "P-valor entre CON_PA y SIN_PA nan\n"
     ]
    }
   ],
   "execution_count": 517
  },
  {
   "metadata": {
    "ExecuteTime": {
     "end_time": "2024-04-18T12:39:43.782033Z",
     "start_time": "2024-04-18T12:39:43.772952Z"
    }
   },
   "cell_type": "code",
   "source": [
    "stat, p_value_23 = mannwhitneyu(CON_PA_MECVV['creatinina'], SIN_PA['creatinina'], alternative='two-sided')\n",
    "print(\"P-valor entre CON_PA_MECVV y SIN_PA\", p_value_23)"
   ],
   "id": "4d738444b5cc0416",
   "outputs": [
    {
     "name": "stdout",
     "output_type": "stream",
     "text": [
      "P-valor entre CON_PA_MECVV y SIN_PA nan\n"
     ]
    }
   ],
   "execution_count": 516
  },
  {
   "metadata": {},
   "cell_type": "code",
   "outputs": [],
   "execution_count": null,
   "source": "",
   "id": "68904320d381355f"
  }
 ],
 "metadata": {
  "kernelspec": {
   "display_name": "Python 3",
   "language": "python",
   "name": "python3"
  },
  "language_info": {
   "codemirror_mode": {
    "name": "ipython",
    "version": 2
   },
   "file_extension": ".py",
   "mimetype": "text/x-python",
   "name": "python",
   "nbconvert_exporter": "python",
   "pygments_lexer": "ipython2",
   "version": "2.7.6"
  }
 },
 "nbformat": 4,
 "nbformat_minor": 5
}
