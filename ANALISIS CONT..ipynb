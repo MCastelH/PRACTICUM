{
 "cells": [
  {
   "cell_type": "code",
   "id": "initial_id",
   "metadata": {
    "collapsed": true,
    "ExecuteTime": {
     "end_time": "2024-04-22T11:27:15.048968Z",
     "start_time": "2024-04-22T11:27:14.959709Z"
    }
   },
   "source": [
    "import json\n",
    "import pandas as pd\n",
    "from datetime import datetime\n",
    "from listas import charlson_dict, delirium_list, dementia_list, depresyndr_list, uriincont_list, fecincont_list, pressulc_list, immob_list, conf_list, osteopor_list, sarcopenia_list, sleepdisturb_list, chrpain_list, iatrog_list, constipation_list, CVdisease_list, heartdisease_list, ND_list, DM_list, hepatopat_list, neopl_list, AcuteRenalF_list, dizsyn_list, VIH_list, psicosis_list\n",
    "\n",
    "from auxiliary_functions import valores_codigos, contar_diccionarios, dias_ingreso_total, asignar_intervalo_edad, sumar_barthel, sumar_emina, obtener_ultimo_resultat, obtener_valor_promedio, canadenca_comparada, disfagia_mecvvs, extraer_valor_clave, extraer_valor_clave_simple\n",
    "\n",
    "taula = pd.read_pickle('./data/processed/dataframe.pkl')\n",
    "import scipy.stats as stats\n",
    "from scipy.stats import ttest_ind\n",
    "from scipy.stats import shapiro\n",
    "from scipy.stats import mannwhitneyu\n",
    "from scipy.stats import chi2_contingency\n"
   ],
   "outputs": [],
   "execution_count": 445
  },
  {
   "metadata": {
    "ExecuteTime": {
     "end_time": "2024-04-22T11:27:28.991439Z",
     "start_time": "2024-04-22T11:27:28.808933Z"
    }
   },
   "cell_type": "code",
   "source": "taula.head()",
   "id": "d7edd23ab31dcae8",
   "outputs": [
    {
     "data": {
      "text/plain": [
       "   edat sexe  visitaDietista  \\\n",
       "0    89    F               0   \n",
       "1    70    M               0   \n",
       "2    96    M               0   \n",
       "3    85    M               0   \n",
       "4    93    M               0   \n",
       "\n",
       "                                                labs  \\\n",
       "0                                                 []   \n",
       "1  [{'date': '20220524', 'name': 'PCR SARS-CoV2 S...   \n",
       "2                                                 []   \n",
       "3                                                 []   \n",
       "4  [{'date': '20220208', 'name': 'UREA Sèrum', 'l...   \n",
       "\n",
       "                                                 mna  \\\n",
       "0                                                 []   \n",
       "1                                                 []   \n",
       "2                                                 []   \n",
       "3                                                 []   \n",
       "4  [{'imc': '0', 'anorexia': '1', 'perduaPes': '1...   \n",
       "\n",
       "                                               emina canadenca  \\\n",
       "0  [{'activitat': '2', 'estatMental': '1', 'humit...        []   \n",
       "1  [{'activitat': '0', 'estatMental': '0', 'humit...        []   \n",
       "2  [{'activitat': '3', 'estatMental': '0', 'humit...        []   \n",
       "3  [{'activitat': '2', 'estatMental': '1', 'humit...        []   \n",
       "4  [{'activitat': '2', 'estatMental': '1', 'humit...        []   \n",
       "\n",
       "                                                 pes  \\\n",
       "0                                                 []   \n",
       "1  [{'valor': '64.7', 'data': '2022-10-04'}, {'va...   \n",
       "2                                                 []   \n",
       "3                                                 []   \n",
       "4  [{'valor': '49.900', 'data': '2022-06-02'}, {'...   \n",
       "\n",
       "                                                atcs  \\\n",
       "0  [{'codi': 'M01AE', 'dataInici': '2020-06-21 00...   \n",
       "1  [{'codi': 'C09AA', 'dataInici': '2021-05-26 00...   \n",
       "2  [{'codi': 'G04CA', 'dataInici': '2020-07-09 00...   \n",
       "3  [{'codi': 'G04CA', 'dataInici': '2020-07-15 00...   \n",
       "4  [{'codi': 'N02AA', 'dataInici': '2022-02-01 00...   \n",
       "\n",
       "                                              mecvvs  ...  \\\n",
       "0                                                 []  ...   \n",
       "1  [{'data': '20220930', 'pacientNoColabora': '',...  ...   \n",
       "2                                                 []  ...   \n",
       "3  [{'data': '20201204131810', 'disfagia': 'S', '...  ...   \n",
       "4  [{'data': '20220330172303', 'disfagiaConeguda'...  ...   \n",
       "\n",
       "                                            albumina  \\\n",
       "0                                               None   \n",
       "1                                                3.1   \n",
       "2                                               None   \n",
       "3                                               None   \n",
       "4  Proves afegides a un altre petició per extracc...   \n",
       "\n",
       "                                   proteinas totales    Hb  colesterol total  \\\n",
       "0                                               None  None              None   \n",
       "1                                                5.3  14.5             124.7   \n",
       "2                                               None  None              None   \n",
       "3                                               None  None              None   \n",
       "4  Proves afegides a un altre petició per extracc...     X              None   \n",
       "\n",
       "   leucos  limfos  prot C react  \\\n",
       "0    None    None          None   \n",
       "1       X    38.9         19.61   \n",
       "2    None    None          None   \n",
       "3    None    None          None   \n",
       "4       X       X          0.54   \n",
       "\n",
       "                                                urea  \\\n",
       "0                                               None   \n",
       "1                                               25.7   \n",
       "2                                               None   \n",
       "3                                               None   \n",
       "4  Proves afegides a un altre petició per extracc...   \n",
       "\n",
       "                                            FGE MDRD  \\\n",
       "0                                               None   \n",
       "1                                                >60   \n",
       "2                                               None   \n",
       "3                                               None   \n",
       "4  Proves afegides a un altre petició per extracc...   \n",
       "\n",
       "                                         FGE CDK-EPI  \n",
       "0                                               None  \n",
       "1                                                >90  \n",
       "2                                               None  \n",
       "3                                               None  \n",
       "4  Proves afegides a un altre petició per extracc...  \n",
       "\n",
       "[5 rows x 71 columns]"
      ],
      "text/html": [
       "<div>\n",
       "<style scoped>\n",
       "    .dataframe tbody tr th:only-of-type {\n",
       "        vertical-align: middle;\n",
       "    }\n",
       "\n",
       "    .dataframe tbody tr th {\n",
       "        vertical-align: top;\n",
       "    }\n",
       "\n",
       "    .dataframe thead th {\n",
       "        text-align: right;\n",
       "    }\n",
       "</style>\n",
       "<table border=\"1\" class=\"dataframe\">\n",
       "  <thead>\n",
       "    <tr style=\"text-align: right;\">\n",
       "      <th></th>\n",
       "      <th>edat</th>\n",
       "      <th>sexe</th>\n",
       "      <th>visitaDietista</th>\n",
       "      <th>labs</th>\n",
       "      <th>mna</th>\n",
       "      <th>emina</th>\n",
       "      <th>canadenca</th>\n",
       "      <th>pes</th>\n",
       "      <th>atcs</th>\n",
       "      <th>mecvvs</th>\n",
       "      <th>...</th>\n",
       "      <th>albumina</th>\n",
       "      <th>proteinas totales</th>\n",
       "      <th>Hb</th>\n",
       "      <th>colesterol total</th>\n",
       "      <th>leucos</th>\n",
       "      <th>limfos</th>\n",
       "      <th>prot C react</th>\n",
       "      <th>urea</th>\n",
       "      <th>FGE MDRD</th>\n",
       "      <th>FGE CDK-EPI</th>\n",
       "    </tr>\n",
       "  </thead>\n",
       "  <tbody>\n",
       "    <tr>\n",
       "      <th>0</th>\n",
       "      <td>89</td>\n",
       "      <td>F</td>\n",
       "      <td>0</td>\n",
       "      <td>[]</td>\n",
       "      <td>[]</td>\n",
       "      <td>[{'activitat': '2', 'estatMental': '1', 'humit...</td>\n",
       "      <td>[]</td>\n",
       "      <td>[]</td>\n",
       "      <td>[{'codi': 'M01AE', 'dataInici': '2020-06-21 00...</td>\n",
       "      <td>[]</td>\n",
       "      <td>...</td>\n",
       "      <td>None</td>\n",
       "      <td>None</td>\n",
       "      <td>None</td>\n",
       "      <td>None</td>\n",
       "      <td>None</td>\n",
       "      <td>None</td>\n",
       "      <td>None</td>\n",
       "      <td>None</td>\n",
       "      <td>None</td>\n",
       "      <td>None</td>\n",
       "    </tr>\n",
       "    <tr>\n",
       "      <th>1</th>\n",
       "      <td>70</td>\n",
       "      <td>M</td>\n",
       "      <td>0</td>\n",
       "      <td>[{'date': '20220524', 'name': 'PCR SARS-CoV2 S...</td>\n",
       "      <td>[]</td>\n",
       "      <td>[{'activitat': '0', 'estatMental': '0', 'humit...</td>\n",
       "      <td>[]</td>\n",
       "      <td>[{'valor': '64.7', 'data': '2022-10-04'}, {'va...</td>\n",
       "      <td>[{'codi': 'C09AA', 'dataInici': '2021-05-26 00...</td>\n",
       "      <td>[{'data': '20220930', 'pacientNoColabora': '',...</td>\n",
       "      <td>...</td>\n",
       "      <td>3.1</td>\n",
       "      <td>5.3</td>\n",
       "      <td>14.5</td>\n",
       "      <td>124.7</td>\n",
       "      <td>X</td>\n",
       "      <td>38.9</td>\n",
       "      <td>19.61</td>\n",
       "      <td>25.7</td>\n",
       "      <td>&gt;60</td>\n",
       "      <td>&gt;90</td>\n",
       "    </tr>\n",
       "    <tr>\n",
       "      <th>2</th>\n",
       "      <td>96</td>\n",
       "      <td>M</td>\n",
       "      <td>0</td>\n",
       "      <td>[]</td>\n",
       "      <td>[]</td>\n",
       "      <td>[{'activitat': '3', 'estatMental': '0', 'humit...</td>\n",
       "      <td>[]</td>\n",
       "      <td>[]</td>\n",
       "      <td>[{'codi': 'G04CA', 'dataInici': '2020-07-09 00...</td>\n",
       "      <td>[]</td>\n",
       "      <td>...</td>\n",
       "      <td>None</td>\n",
       "      <td>None</td>\n",
       "      <td>None</td>\n",
       "      <td>None</td>\n",
       "      <td>None</td>\n",
       "      <td>None</td>\n",
       "      <td>None</td>\n",
       "      <td>None</td>\n",
       "      <td>None</td>\n",
       "      <td>None</td>\n",
       "    </tr>\n",
       "    <tr>\n",
       "      <th>3</th>\n",
       "      <td>85</td>\n",
       "      <td>M</td>\n",
       "      <td>0</td>\n",
       "      <td>[]</td>\n",
       "      <td>[]</td>\n",
       "      <td>[{'activitat': '2', 'estatMental': '1', 'humit...</td>\n",
       "      <td>[]</td>\n",
       "      <td>[]</td>\n",
       "      <td>[{'codi': 'G04CA', 'dataInici': '2020-07-15 00...</td>\n",
       "      <td>[{'data': '20201204131810', 'disfagia': 'S', '...</td>\n",
       "      <td>...</td>\n",
       "      <td>None</td>\n",
       "      <td>None</td>\n",
       "      <td>None</td>\n",
       "      <td>None</td>\n",
       "      <td>None</td>\n",
       "      <td>None</td>\n",
       "      <td>None</td>\n",
       "      <td>None</td>\n",
       "      <td>None</td>\n",
       "      <td>None</td>\n",
       "    </tr>\n",
       "    <tr>\n",
       "      <th>4</th>\n",
       "      <td>93</td>\n",
       "      <td>M</td>\n",
       "      <td>0</td>\n",
       "      <td>[{'date': '20220208', 'name': 'UREA Sèrum', 'l...</td>\n",
       "      <td>[{'imc': '0', 'anorexia': '1', 'perduaPes': '1...</td>\n",
       "      <td>[{'activitat': '2', 'estatMental': '1', 'humit...</td>\n",
       "      <td>[]</td>\n",
       "      <td>[{'valor': '49.900', 'data': '2022-06-02'}, {'...</td>\n",
       "      <td>[{'codi': 'N02AA', 'dataInici': '2022-02-01 00...</td>\n",
       "      <td>[{'data': '20220330172303', 'disfagiaConeguda'...</td>\n",
       "      <td>...</td>\n",
       "      <td>Proves afegides a un altre petició per extracc...</td>\n",
       "      <td>Proves afegides a un altre petició per extracc...</td>\n",
       "      <td>X</td>\n",
       "      <td>None</td>\n",
       "      <td>X</td>\n",
       "      <td>X</td>\n",
       "      <td>0.54</td>\n",
       "      <td>Proves afegides a un altre petició per extracc...</td>\n",
       "      <td>Proves afegides a un altre petició per extracc...</td>\n",
       "      <td>Proves afegides a un altre petició per extracc...</td>\n",
       "    </tr>\n",
       "  </tbody>\n",
       "</table>\n",
       "<p>5 rows × 71 columns</p>\n",
       "</div>"
      ]
     },
     "execution_count": 446,
     "metadata": {},
     "output_type": "execute_result"
    }
   ],
   "execution_count": 446
  },
  {
   "metadata": {
    "ExecuteTime": {
     "end_time": "2024-04-22T11:27:29.048678Z",
     "start_time": "2024-04-22T11:27:29.002279Z"
    }
   },
   "cell_type": "code",
   "source": [
    "AMB_PA = taula[taula[\"PA_diagnosticada\"] == 1.0]\n",
    "AMB_PA_MECVV = taula[\n",
    "    (taula[\"P_diagnosticada\"] == 1.0) & (taula[\"Dias_totales_ingresado\"] < 30) & (taula[\"Disfagia_mecvvs\"] == 1.0) & (taula[\"alteracioEficacia_mecvvs\"] == 1.0) |\n",
    "    (taula[\"P_diagnosticada\"] == 1.0) & (taula[\"Dias_totales_ingresado\"] < 30) & (taula[\"Disfagia_mecvvs\"] == 1.0) & (taula[\"alteracioSeguretat_mecvvs\"] == 1.0)]   \n",
    "SENSE_PA = taula[\n",
    "          (taula[\"P_diagnosticada\"] == 1.0) |\n",
    "          (taula[\"P_diagnosticada\"] == 1.0) & (taula[\"Disfagia_mecvvs\"] == 1.0) & (taula[\"alteracioEficacia_mecvvs\"] == 1.0) & (taula[\"Dias_totales_ingresado\"] > 30) |\n",
    "          (taula[\"P_diagnosticada\"] == 1.0) & (taula[\"Disfagia_mecvvs\"] == 1.0) & (taula[\"alteracioSeguretat_mecvvs\"] == 1.0) & (taula[\"Dias_totales_ingresado\"] > 30)]"
   ],
   "id": "66ee0565100b2096",
   "outputs": [],
   "execution_count": 447
  },
  {
   "metadata": {},
   "cell_type": "markdown",
   "source": "# Síndromes geriàtrics",
   "id": "89fbabd4869d9b6e"
  },
  {
   "metadata": {},
   "cell_type": "markdown",
   "source": "## Index de Charlson",
   "id": "26d9f063eaf602a8"
  },
  {
   "metadata": {
    "ExecuteTime": {
     "end_time": "2024-04-22T11:31:15.228879Z",
     "start_time": "2024-04-22T11:31:15.221589Z"
    }
   },
   "cell_type": "code",
   "source": [
    "promedio_charlson = AMB_PA['charlson'].mean()\n",
    "desviacion_estandar_charlson = AMB_PA['charlson'].std()\n",
    "\n",
    "resultado = f\"{promedio_charlson:.2f} ± {desviacion_estandar_charlson:.2f}\"\n",
    "print(\"Mitjana ± Desviació Estàndard de l'índex de Charlson:\", resultado)"
   ],
   "id": "b5b2205f3b3c898f",
   "outputs": [
    {
     "name": "stdout",
     "output_type": "stream",
     "text": [
      "Mitjana ± Desviació Estàndard de l'índex de Charlson: 10.24 ± 10.73\n"
     ]
    }
   ],
   "execution_count": 698
  },
  {
   "metadata": {
    "ExecuteTime": {
     "end_time": "2024-04-22T11:31:20.234084Z",
     "start_time": "2024-04-22T11:31:20.226655Z"
    }
   },
   "cell_type": "code",
   "source": [
    "promedio_charlson = AMB_PA_MECVV['charlson'].mean()\n",
    "desviacion_estandar_charlson = AMB_PA_MECVV['charlson'].std()\n",
    "\n",
    "resultado = f\"{promedio_charlson:.2f} ± {desviacion_estandar_charlson:.2f}\"\n",
    "print(\"Mitjana ± Desviació Estàndard de l'índex de Charlson:\", resultado)"
   ],
   "id": "7b8479957609a4b3",
   "outputs": [
    {
     "name": "stdout",
     "output_type": "stream",
     "text": [
      "Mitjana ± Desviació Estàndard de l'índex de Charlson: 13.60 ± 10.91\n"
     ]
    }
   ],
   "execution_count": 699
  },
  {
   "metadata": {
    "ExecuteTime": {
     "end_time": "2024-04-22T11:31:28.719891Z",
     "start_time": "2024-04-22T11:31:28.712924Z"
    }
   },
   "cell_type": "code",
   "source": [
    "promedio_charlson = SENSE_PA['charlson'].mean()\n",
    "desviacion_estandar_charlson = SENSE_PA['charlson'].std()\n",
    "\n",
    "resultado = f\"{promedio_charlson:.2f} ± {desviacion_estandar_charlson:.2f}\"\n",
    "print(\"Mitjana ± Desviació Estàndard de l'índex de Charlson:\", resultado)"
   ],
   "id": "a0991a7e2863cf1",
   "outputs": [
    {
     "name": "stdout",
     "output_type": "stream",
     "text": [
      "Mitjana ± Desviació Estàndard de l'índex de Charlson: 11.73 ± 13.27\n"
     ]
    }
   ],
   "execution_count": 700
  },
  {
   "metadata": {},
   "cell_type": "markdown",
   "source": "#### Pvalor",
   "id": "7759f395ce8c1a34"
  },
  {
   "metadata": {},
   "cell_type": "markdown",
   "source": "##### Normalitat",
   "id": "9e4a7fb9f900e9e1"
  },
  {
   "metadata": {
    "ExecuteTime": {
     "end_time": "2024-04-22T11:35:52.817185Z",
     "start_time": "2024-04-22T11:35:52.806858Z"
    }
   },
   "cell_type": "code",
   "source": [
    "stat, p_value = shapiro(AMB_PA['charlson'])\n",
    "print(f\"Estadístic W = {stat:.4f}\")\n",
    "print(f\"Valor p = {p_value:.4f}\")\n",
    "\n",
    "alpha = 0.05\n",
    "if p_value < alpha:\n",
    "    print(\"El nombre de files no segueix una distribució normal.\")\n",
    "else:\n",
    "    print(\"El nombre de files segueix una distribució normal\")"
   ],
   "id": "b5a4f7ca52e855c7",
   "outputs": [
    {
     "name": "stdout",
     "output_type": "stream",
     "text": [
      "Estadístic W = 0.7994\n",
      "Valor p = 0.0020\n",
      "El nombre de files no segueix una distribució normal.\n"
     ]
    }
   ],
   "execution_count": 701
  },
  {
   "metadata": {
    "ExecuteTime": {
     "end_time": "2024-04-22T11:36:00.849059Z",
     "start_time": "2024-04-22T11:36:00.837028Z"
    }
   },
   "cell_type": "code",
   "source": [
    "stat, p_value = shapiro(AMB_PA_MECVV['charlson'])\n",
    "print(f\"Estadístic W = {stat:.4f}\")\n",
    "print(f\"Valor p = {p_value:.4f}\")\n",
    "\n",
    "alpha = 0.05\n",
    "if p_value < alpha:\n",
    "    print(\"El nombre de files no segueix una distribució normal.\")\n",
    "else:\n",
    "    print(\"El nombre de files segueix una distribució normal\")"
   ],
   "id": "dbadd3060fdf4918",
   "outputs": [
    {
     "name": "stdout",
     "output_type": "stream",
     "text": [
      "Estadístic W = 0.9380\n",
      "Valor p = 0.5307\n",
      "El nombre de files segueix una distribució normal\n"
     ]
    }
   ],
   "execution_count": 702
  },
  {
   "metadata": {
    "ExecuteTime": {
     "end_time": "2024-04-22T11:36:11.574816Z",
     "start_time": "2024-04-22T11:36:11.565632Z"
    }
   },
   "cell_type": "code",
   "source": [
    "stat, p_value = shapiro(SENSE_PA['charlson'])\n",
    "print(f\"Estadístic W = {stat:.4f}\")\n",
    "print(f\"Valor p = {p_value:.4f}\")\n",
    "\n",
    "alpha = 0.05\n",
    "if p_value < alpha:\n",
    "    print(\"El nombre de files no segueix una distribució normal.\")\n",
    "else:\n",
    "    print(\"El nombre de files segueix una distribució normal\")"
   ],
   "id": "c3a71f3c80fb8c48",
   "outputs": [
    {
     "name": "stdout",
     "output_type": "stream",
     "text": [
      "Estadístic W = 0.7879\n",
      "Valor p = 0.0000\n",
      "El nombre de files no segueix una distribució normal.\n"
     ]
    }
   ],
   "execution_count": 703
  },
  {
   "metadata": {
    "ExecuteTime": {
     "end_time": "2024-04-22T11:37:02.229711Z",
     "start_time": "2024-04-22T11:37:02.185150Z"
    }
   },
   "cell_type": "code",
   "source": [
    "stat, p_value_12 = mannwhitneyu(AMB_PA['charlson'], AMB_PA_MECVV['charlson'], alternative='two-sided')\n",
    "print(\"P-valor entre AMB_PA i AMB_PA_MECVV\", p_value_12)"
   ],
   "id": "b39e3bdbb4c23405",
   "outputs": [
    {
     "name": "stdout",
     "output_type": "stream",
     "text": [
      "P-valor entre AMB_PA i AMB_PA_MECVV 0.4197045980559335\n"
     ]
    }
   ],
   "execution_count": 704
  },
  {
   "metadata": {
    "ExecuteTime": {
     "end_time": "2024-04-22T11:37:33.129567Z",
     "start_time": "2024-04-22T11:37:33.118561Z"
    }
   },
   "cell_type": "code",
   "source": [
    "stat, p_value_13 = mannwhitneyu(AMB_PA['charlson'], SENSE_PA['charlson'], alternative='two-sided')\n",
    "print(\"P-valor entre AMB_PA i SENSE_PA\", p_value_13)"
   ],
   "id": "c651a55b0ce2b6d4",
   "outputs": [
    {
     "name": "stdout",
     "output_type": "stream",
     "text": [
      "P-valor entre AMB_PA i SENSE_PA 0.8657225966560429\n"
     ]
    }
   ],
   "execution_count": 705
  },
  {
   "metadata": {
    "ExecuteTime": {
     "end_time": "2024-04-22T11:38:02.748277Z",
     "start_time": "2024-04-22T11:38:02.703363Z"
    }
   },
   "cell_type": "code",
   "source": [
    "stat, p_value_23 = mannwhitneyu(AMB_PA_MECVV['charlson'], SENSE_PA['charlson'], alternative='two-sided')\n",
    "print(\"P-valor entre AMB_PA_MECVV i SENSE_PA\", p_value_23)"
   ],
   "id": "82cc38e98756a5fc",
   "outputs": [
    {
     "name": "stdout",
     "output_type": "stream",
     "text": [
      "P-valor entre AMB_PA_MECVV i SENSE_PA 0.4062768013065785\n"
     ]
    }
   ],
   "execution_count": 706
  },
  {
   "metadata": {},
   "cell_type": "markdown",
   "source": "## Caigudes prèvies",
   "id": "964c785479e0467b"
  },
  {
   "metadata": {
    "ExecuteTime": {
     "end_time": "2024-04-22T11:27:31.296761Z",
     "start_time": "2024-04-22T11:27:31.288235Z"
    }
   },
   "cell_type": "code",
   "source": [
    "caprev_AMB_PA= (AMB_PA['caidas_previas'] == 1.0).mean() * 100\n",
    "print(f\"Percentatge de caigudes prèvies: {caprev_AMB_PA:.2f}%\")"
   ],
   "id": "50df5ada3ce5ed0e",
   "outputs": [
    {
     "name": "stdout",
     "output_type": "stream",
     "text": [
      "Percentatge de caigudes prèvies: 5.88%\n"
     ]
    }
   ],
   "execution_count": 451
  },
  {
   "metadata": {
    "ExecuteTime": {
     "end_time": "2024-04-22T11:27:31.957566Z",
     "start_time": "2024-04-22T11:27:31.950753Z"
    }
   },
   "cell_type": "code",
   "source": [
    "caprev_AMB_PA_MECVV= (AMB_PA_MECVV['caidas_previas'] == 1.0).mean() * 100\n",
    "print(f\"Percentatge de caigudes prèvies: {caprev_AMB_PA_MECVV:.2f}%\")"
   ],
   "id": "1ee91988879aa087",
   "outputs": [
    {
     "name": "stdout",
     "output_type": "stream",
     "text": [
      "Percentatge de caigudes prèvies: 0.00%\n"
     ]
    }
   ],
   "execution_count": 452
  },
  {
   "metadata": {
    "ExecuteTime": {
     "end_time": "2024-04-22T11:27:32.419439Z",
     "start_time": "2024-04-22T11:27:32.408644Z"
    }
   },
   "cell_type": "code",
   "source": [
    "caprev_SENSE_PA= (SENSE_PA['caidas_previas'] == 1.0).mean() * 100\n",
    "print(f\"Percentatge de caigudes prèvies: {caprev_SENSE_PA:.2f}%\")"
   ],
   "id": "4d2cb240e1f7b6f7",
   "outputs": [
    {
     "name": "stdout",
     "output_type": "stream",
     "text": [
      "Percentatge de caigudes prèvies: 6.12%\n"
     ]
    }
   ],
   "execution_count": 453
  },
  {
   "metadata": {},
   "cell_type": "markdown",
   "source": "#### Pvalor",
   "id": "35b8e447e15084e7"
  },
  {
   "metadata": {},
   "cell_type": "markdown",
   "source": "##### Normalitat",
   "id": "bce617253d59df63"
  },
  {
   "metadata": {
    "ExecuteTime": {
     "end_time": "2024-04-22T11:27:32.991052Z",
     "start_time": "2024-04-22T11:27:32.969019Z"
    }
   },
   "cell_type": "code",
   "source": [
    "stat, p_value = shapiro(AMB_PA['caidas_previas'])\n",
    "print(f\"Estadístic W = {stat:.4f}\")\n",
    "print(f\"Valor p = {p_value:.4f}\")\n",
    "\n",
    "alpha = 0.05\n",
    "if p_value < alpha:\n",
    "    print(\"El nombre de files no segueix una distribució normal.\")\n",
    "else:\n",
    "    print(\"El nombre de files segueix una distribució normal\")"
   ],
   "id": "ef85d9181f822b14",
   "outputs": [
    {
     "name": "stdout",
     "output_type": "stream",
     "text": [
      "Estadístic W = 0.2622\n",
      "Valor p = 0.0000\n",
      "El nombre de files no segueix una distribució normal.\n"
     ]
    }
   ],
   "execution_count": 454
  },
  {
   "metadata": {
    "ExecuteTime": {
     "end_time": "2024-04-22T11:27:33.717520Z",
     "start_time": "2024-04-22T11:27:33.707060Z"
    }
   },
   "cell_type": "code",
   "source": [
    "stat, p_value = shapiro(AMB_PA_MECVV['caidas_previas'])\n",
    "print(f\"Estadístic W = {stat:.4f}\")\n",
    "print(f\"Valor p = {p_value:.4f}\")\n",
    "\n",
    "alpha = 0.05\n",
    "if p_value < alpha:\n",
    "    print(\"El nombre de files no segueix una distribució normal.\")\n",
    "else:\n",
    "    print(\"El nombre de files segueix una distribució normal\")"
   ],
   "id": "73fc0a6f9756c13",
   "outputs": [
    {
     "name": "stdout",
     "output_type": "stream",
     "text": [
      "Estadístic W = 1.0000\n",
      "Valor p = 1.0000\n",
      "El nombre de files segueix una distribució normal\n"
     ]
    },
    {
     "name": "stderr",
     "output_type": "stream",
     "text": [
      "C:\\Users\\maria\\PycharmProjects\\practicum\\.venv\\Lib\\site-packages\\scipy\\stats\\_axis_nan_policy.py:531: UserWarning: scipy.stats.shapiro: Input data has range zero. The results may not be accurate.\n",
      "  res = hypotest_fun_out(*samples, **kwds)\n"
     ]
    }
   ],
   "execution_count": 455
  },
  {
   "metadata": {
    "ExecuteTime": {
     "end_time": "2024-04-22T11:27:34.098175Z",
     "start_time": "2024-04-22T11:27:34.089911Z"
    }
   },
   "cell_type": "code",
   "source": [
    "stat, p_value = shapiro(SENSE_PA['DO_diagnosticada'])\n",
    "print(f\"Estadístic W = {stat:.4f}\")\n",
    "print(f\"Valor p = {p_value:.4f}\")\n",
    "\n",
    "alpha = 0.05\n",
    "if p_value < alpha:\n",
    "    print(\"El nombre de files no segueix una distribució normal.\")\n",
    "else:\n",
    "    print(\"El nombre de files segueix una distribució normal\")"
   ],
   "id": "9dd4c0120e9dfe83",
   "outputs": [
    {
     "name": "stdout",
     "output_type": "stream",
     "text": [
      "Estadístic W = 0.4716\n",
      "Valor p = 0.0000\n",
      "El nombre de files no segueix una distribució normal.\n"
     ]
    }
   ],
   "execution_count": 456
  },
  {
   "metadata": {
    "ExecuteTime": {
     "end_time": "2024-04-22T11:27:34.947562Z",
     "start_time": "2024-04-22T11:27:34.889398Z"
    }
   },
   "cell_type": "code",
   "source": [
    "stat, p_value_12 = mannwhitneyu(AMB_PA['caidas_previas'], AMB_PA_MECVV['caidas_previas'], alternative='two-sided')\n",
    "print(\"P-valor entre AMB_PA i AMB_PA_MECVV\", p_value_12)"
   ],
   "id": "4c41e8420ecd54f3",
   "outputs": [
    {
     "name": "stdout",
     "output_type": "stream",
     "text": [
      "P-valor entre AMB_PA i AMB_PA_MECVV 0.49002535950179893\n"
     ]
    }
   ],
   "execution_count": 457
  },
  {
   "metadata": {
    "ExecuteTime": {
     "end_time": "2024-04-22T11:27:35.275527Z",
     "start_time": "2024-04-22T11:27:35.263765Z"
    }
   },
   "cell_type": "code",
   "source": [
    "stat, p_value_13 = mannwhitneyu(AMB_PA['caidas_previas'], SENSE_PA['caidas_previas'], alternative='two-sided')\n",
    "print(\"P-valor entre AMB_PA i SENSE_PA\", p_value_13)"
   ],
   "id": "d3a50234b5a6775",
   "outputs": [
    {
     "name": "stdout",
     "output_type": "stream",
     "text": [
      "P-valor entre AMB_PA i SENSE_PA 0.9858477456716862\n"
     ]
    }
   ],
   "execution_count": 458
  },
  {
   "metadata": {
    "ExecuteTime": {
     "end_time": "2024-04-22T11:27:35.680083Z",
     "start_time": "2024-04-22T11:27:35.628402Z"
    }
   },
   "cell_type": "code",
   "source": [
    "stat, p_value_23 = mannwhitneyu(AMB_PA_MECVV['caidas_previas'], SENSE_PA['caidas_previas'], alternative='two-sided')\n",
    "print(\"P-valor entre AMB_PA_MECVV i SENSE_PA\", p_value_23)"
   ],
   "id": "13c44b65ff0399ca",
   "outputs": [
    {
     "name": "stdout",
     "output_type": "stream",
     "text": [
      "P-valor entre AMB_PA_MECVV i SENSE_PA 0.44143809205435813\n"
     ]
    }
   ],
   "execution_count": 459
  },
  {
   "metadata": {},
   "cell_type": "markdown",
   "source": "## Deliris",
   "id": "c7aad4b1d580111"
  },
  {
   "metadata": {
    "ExecuteTime": {
     "end_time": "2024-04-22T11:27:36.265267Z",
     "start_time": "2024-04-22T11:27:36.232707Z"
    }
   },
   "cell_type": "code",
   "source": [
    "del_AMB_PA= (AMB_PA['delirios'] == 1.0).mean() * 100\n",
    "print(f\"Percentatge de deliris: {del_AMB_PA:.2f}%\")"
   ],
   "id": "4457a2a3dfc7a9de",
   "outputs": [
    {
     "name": "stdout",
     "output_type": "stream",
     "text": [
      "Percentatge de deliris: 23.53%\n"
     ]
    }
   ],
   "execution_count": 460
  },
  {
   "metadata": {
    "ExecuteTime": {
     "end_time": "2024-04-22T11:27:36.576244Z",
     "start_time": "2024-04-22T11:27:36.527075Z"
    }
   },
   "cell_type": "code",
   "source": [
    "del_AMB_PA_MECVV= (AMB_PA_MECVV['delirios'] == 1.0).mean() * 100\n",
    "print(f\"Percentatge de deliris: {del_AMB_PA_MECVV:.2f}%\")"
   ],
   "id": "5ae56c8f83586838",
   "outputs": [
    {
     "name": "stdout",
     "output_type": "stream",
     "text": [
      "Percentatge de deliris: 40.00%\n"
     ]
    }
   ],
   "execution_count": 461
  },
  {
   "metadata": {
    "ExecuteTime": {
     "end_time": "2024-04-22T11:27:37.047732Z",
     "start_time": "2024-04-22T11:27:37.002137Z"
    }
   },
   "cell_type": "code",
   "source": [
    "del_SENSE_PA= (SENSE_PA['delirios'] == 1.0).mean() * 100\n",
    "print(f\"Percentatge de deliris: {del_SENSE_PA:.2f}%\")"
   ],
   "id": "9e44418c6cf03004",
   "outputs": [
    {
     "name": "stdout",
     "output_type": "stream",
     "text": [
      "Percentatge de deliris: 18.37%\n"
     ]
    }
   ],
   "execution_count": 462
  },
  {
   "metadata": {},
   "cell_type": "markdown",
   "source": "#### Pvalor",
   "id": "5fc877d47e55c507"
  },
  {
   "metadata": {},
   "cell_type": "markdown",
   "source": "##### Normalitat",
   "id": "c8d1814752edcd36"
  },
  {
   "metadata": {
    "ExecuteTime": {
     "end_time": "2024-04-22T11:27:37.422718Z",
     "start_time": "2024-04-22T11:27:37.414233Z"
    }
   },
   "cell_type": "code",
   "source": [
    "stat, p_value = shapiro(AMB_PA['delirios'])\n",
    "print(f\"Estadístic W = {stat:.4f}\")\n",
    "print(f\"Valor p = {p_value:.4f}\")\n",
    "\n",
    "alpha = 0.05\n",
    "if p_value < alpha:\n",
    "    print(\"El nombre de files no segueix una distribució normal.\")\n",
    "else:\n",
    "    print(\"El nombre de files segueix una distribució normal\")"
   ],
   "id": "d59012cfb049a4b1",
   "outputs": [
    {
     "name": "stdout",
     "output_type": "stream",
     "text": [
      "Estadístic W = 0.5327\n",
      "Valor p = 0.0000\n",
      "El nombre de files no segueix una distribució normal.\n"
     ]
    }
   ],
   "execution_count": 463
  },
  {
   "metadata": {
    "ExecuteTime": {
     "end_time": "2024-04-22T11:27:37.727859Z",
     "start_time": "2024-04-22T11:27:37.719280Z"
    }
   },
   "cell_type": "code",
   "source": [
    "stat, p_value = shapiro(AMB_PA_MECVV['delirios'])\n",
    "print(f\"Estadístic W = {stat:.4f}\")\n",
    "print(f\"Valor p = {p_value:.4f}\")\n",
    "\n",
    "alpha = 0.05\n",
    "if p_value < alpha:\n",
    "    print(\"El nombre de files no segueix una distribució normal.\")\n",
    "else:\n",
    "    print(\"El nombre de files segueix una distribució normal\")"
   ],
   "id": "946b43e2ab447ace",
   "outputs": [
    {
     "name": "stdout",
     "output_type": "stream",
     "text": [
      "Estadístic W = 0.6405\n",
      "Valor p = 0.0002\n",
      "El nombre de files no segueix una distribució normal.\n"
     ]
    }
   ],
   "execution_count": 464
  },
  {
   "metadata": {
    "ExecuteTime": {
     "end_time": "2024-04-22T11:27:38.309048Z",
     "start_time": "2024-04-22T11:27:38.300027Z"
    }
   },
   "cell_type": "code",
   "source": [
    "stat, p_value = shapiro(SENSE_PA['delirios'])\n",
    "print(f\"Estadístic W = {stat:.4f}\")\n",
    "print(f\"Valor p = {p_value:.4f}\")\n",
    "\n",
    "alpha = 0.05\n",
    "if p_value < alpha:\n",
    "    print(\"El nombre de files no segueix una distribució normal.\")\n",
    "else:\n",
    "    print(\"El nombre de files segueix una distribució normal\")"
   ],
   "id": "268335d184f2afbe",
   "outputs": [
    {
     "name": "stdout",
     "output_type": "stream",
     "text": [
      "Estadístic W = 0.4716\n",
      "Valor p = 0.0000\n",
      "El nombre de files no segueix una distribució normal.\n"
     ]
    }
   ],
   "execution_count": 465
  },
  {
   "metadata": {
    "ExecuteTime": {
     "end_time": "2024-04-22T11:27:38.719775Z",
     "start_time": "2024-04-22T11:27:38.711484Z"
    }
   },
   "cell_type": "code",
   "source": [
    "stat, p_value_12 = mannwhitneyu(AMB_PA['delirios'], AMB_PA_MECVV['delirios'], alternative='two-sided')\n",
    "print(\"P-valor entre AMB_PA i AMB_PA_MECVV\", p_value_12)"
   ],
   "id": "1b311cc28de8fcd3",
   "outputs": [
    {
     "name": "stdout",
     "output_type": "stream",
     "text": [
      "P-valor entre AMB_PA i AMB_PA_MECVV 0.39174655228054167\n"
     ]
    }
   ],
   "execution_count": 466
  },
  {
   "metadata": {
    "ExecuteTime": {
     "end_time": "2024-04-22T11:27:39.282467Z",
     "start_time": "2024-04-22T11:27:39.274722Z"
    }
   },
   "cell_type": "code",
   "source": [
    "stat, p_value_13 = mannwhitneyu(AMB_PA['delirios'], SENSE_PA['delirios'], alternative='two-sided')\n",
    "print(\"P-valor entre AMB_PA i SENSE_PA\", p_value_13)"
   ],
   "id": "ea1a6301c3ec1b28",
   "outputs": [
    {
     "name": "stdout",
     "output_type": "stream",
     "text": [
      "P-valor entre AMB_PA i SENSE_PA 0.6549000779898075\n"
     ]
    }
   ],
   "execution_count": 467
  },
  {
   "metadata": {
    "ExecuteTime": {
     "end_time": "2024-04-22T11:27:39.748464Z",
     "start_time": "2024-04-22T11:27:39.733547Z"
    }
   },
   "cell_type": "code",
   "source": [
    "stat, p_value_23 = mannwhitneyu(AMB_PA_MECVV['delirios'], SENSE_PA['delirios'], alternative='two-sided')\n",
    "print(\"P-valor entre AMB_PA_MECVV i SENSE_PA\", p_value_23)"
   ],
   "id": "68c1f5ee2e2f63e3",
   "outputs": [
    {
     "name": "stdout",
     "output_type": "stream",
     "text": [
      "P-valor entre AMB_PA_MECVV i SENSE_PA 0.13960802912048415\n"
     ]
    }
   ],
   "execution_count": 468
  },
  {
   "metadata": {},
   "cell_type": "markdown",
   "source": "## Demència",
   "id": "16a14a68a193ae88"
  },
  {
   "metadata": {
    "ExecuteTime": {
     "end_time": "2024-04-22T11:27:40.332901Z",
     "start_time": "2024-04-22T11:27:40.326562Z"
    }
   },
   "cell_type": "code",
   "source": [
    "dem_AMB_PA= (AMB_PA['demencia'] == 1.0).mean() * 100\n",
    "print(f\"Percentatge de demencia: {dem_AMB_PA:.2f}%\")"
   ],
   "id": "89610b223216b432",
   "outputs": [
    {
     "name": "stdout",
     "output_type": "stream",
     "text": [
      "Percentatge de demencia: 47.06%\n"
     ]
    }
   ],
   "execution_count": 469
  },
  {
   "metadata": {
    "ExecuteTime": {
     "end_time": "2024-04-22T11:27:40.797364Z",
     "start_time": "2024-04-22T11:27:40.788394Z"
    }
   },
   "cell_type": "code",
   "source": [
    "dem_AMB_PA_MECVV= (AMB_PA_MECVV['demencia'] == 1.0).mean() * 100\n",
    "print(f\"Percentatge de demencia: {dem_AMB_PA_MECVV:.2f}%\")"
   ],
   "id": "6973d5742c346036",
   "outputs": [
    {
     "name": "stdout",
     "output_type": "stream",
     "text": [
      "Percentatge de demencia: 40.00%\n"
     ]
    }
   ],
   "execution_count": 470
  },
  {
   "metadata": {
    "ExecuteTime": {
     "end_time": "2024-04-22T11:27:41.055199Z",
     "start_time": "2024-04-22T11:27:41.047458Z"
    }
   },
   "cell_type": "code",
   "source": [
    "dem_SENSE_PA= (SENSE_PA['demencia'] == 1.0).mean() * 100\n",
    "print(f\"Percentatge de demencia: {dem_SENSE_PA:.2f}%\")"
   ],
   "id": "3957a273bbf5cf16",
   "outputs": [
    {
     "name": "stdout",
     "output_type": "stream",
     "text": [
      "Percentatge de demencia: 30.61%\n"
     ]
    }
   ],
   "execution_count": 471
  },
  {
   "metadata": {},
   "cell_type": "markdown",
   "source": "#### Pvalor",
   "id": "2a5e901fb09a4fea"
  },
  {
   "metadata": {},
   "cell_type": "markdown",
   "source": "##### Normalitat",
   "id": "4d9eea90d8ee4a6b"
  },
  {
   "metadata": {
    "ExecuteTime": {
     "end_time": "2024-04-22T11:27:41.510505Z",
     "start_time": "2024-04-22T11:27:41.464106Z"
    }
   },
   "cell_type": "code",
   "source": [
    "stat, p_value = shapiro(AMB_PA['demencia'])\n",
    "print(f\"Estadístic W = {stat:.4f}\")\n",
    "print(f\"Valor p = {p_value:.4f}\")\n",
    "\n",
    "alpha = 0.05\n",
    "if p_value < alpha:\n",
    "    print(\"El nombre de files no segueix una distribució normal.\")\n",
    "else:\n",
    "    print(\"El nombre de files segueix una distribució normal\")"
   ],
   "id": "5263c8a2a09268c2",
   "outputs": [
    {
     "name": "stdout",
     "output_type": "stream",
     "text": [
      "Estadístic W = 0.6418\n",
      "Valor p = 0.0000\n",
      "El nombre de files no segueix una distribució normal.\n"
     ]
    }
   ],
   "execution_count": 472
  },
  {
   "metadata": {
    "ExecuteTime": {
     "end_time": "2024-04-22T11:27:41.857779Z",
     "start_time": "2024-04-22T11:27:41.847505Z"
    }
   },
   "cell_type": "code",
   "source": [
    "stat, p_value = shapiro(AMB_PA_MECVV['demencia'])\n",
    "print(f\"Estadístic W = {stat:.4f}\")\n",
    "print(f\"Valor p = {p_value:.4f}\")\n",
    "\n",
    "alpha = 0.05\n",
    "if p_value < alpha:\n",
    "    print(\"El nombre de files no segueix una distribució normal.\")\n",
    "else:\n",
    "    print(\"El nombre de files segueix una distribució normal\")"
   ],
   "id": "4af93daf881e0e26",
   "outputs": [
    {
     "name": "stdout",
     "output_type": "stream",
     "text": [
      "Estadístic W = 0.6405\n",
      "Valor p = 0.0002\n",
      "El nombre de files no segueix una distribució normal.\n"
     ]
    }
   ],
   "execution_count": 473
  },
  {
   "metadata": {
    "ExecuteTime": {
     "end_time": "2024-04-22T11:27:42.277318Z",
     "start_time": "2024-04-22T11:27:42.272441Z"
    }
   },
   "cell_type": "code",
   "source": [
    "stat, p_value = shapiro(SENSE_PA['delirios'])\n",
    "print(f\"Estadístic W = {stat:.4f}\")\n",
    "print(f\"Valor p = {p_value:.4f}\")\n",
    "\n",
    "alpha = 0.05\n",
    "if p_value < alpha:\n",
    "    print(\"El nombre de files no segueix una distribució normal.\")\n",
    "else:\n",
    "    print(\"El nombre de files segueix una distribució normal\")"
   ],
   "id": "944278fe0f4e6ce4",
   "outputs": [
    {
     "name": "stdout",
     "output_type": "stream",
     "text": [
      "Estadístic W = 0.4716\n",
      "Valor p = 0.0000\n",
      "El nombre de files no segueix una distribució normal.\n"
     ]
    }
   ],
   "execution_count": 474
  },
  {
   "metadata": {
    "ExecuteTime": {
     "end_time": "2024-04-22T11:27:42.857122Z",
     "start_time": "2024-04-22T11:27:42.849674Z"
    }
   },
   "cell_type": "code",
   "source": [
    "stat, p_value_12 = mannwhitneyu(AMB_PA['demencia'], AMB_PA_MECVV['demencia'], alternative='two-sided')\n",
    "print(\"P-valor entre AMB_PA i AMB_PA_MECVV\", p_value_12)"
   ],
   "id": "83f32b06ca57a099",
   "outputs": [
    {
     "name": "stdout",
     "output_type": "stream",
     "text": [
      "P-valor entre AMB_PA i AMB_PA_MECVV 0.7484826918143946\n"
     ]
    }
   ],
   "execution_count": 475
  },
  {
   "metadata": {
    "ExecuteTime": {
     "end_time": "2024-04-22T11:27:43.249124Z",
     "start_time": "2024-04-22T11:27:43.239520Z"
    }
   },
   "cell_type": "code",
   "source": [
    "stat, p_value_13 = mannwhitneyu(AMB_PA['demencia'], SENSE_PA['demencia'], alternative='two-sided')\n",
    "print(\"P-valor entre AMB_PA i SENSE_PA\", p_value_13)"
   ],
   "id": "e7b4ff975ef8cd6",
   "outputs": [
    {
     "name": "stdout",
     "output_type": "stream",
     "text": [
      "P-valor entre AMB_PA i SENSE_PA 0.22703869678020527\n"
     ]
    }
   ],
   "execution_count": 476
  },
  {
   "metadata": {
    "ExecuteTime": {
     "end_time": "2024-04-22T11:27:43.693331Z",
     "start_time": "2024-04-22T11:27:43.681111Z"
    }
   },
   "cell_type": "code",
   "source": [
    "stat, p_value_23 = mannwhitneyu(AMB_PA_MECVV['demencia'], SENSE_PA['demencia'], alternative='two-sided')\n",
    "print(\"P-valor entre AMB_PA_MECVV i SENSE_PA\", p_value_23)"
   ],
   "id": "a1baf61cd15f22ec",
   "outputs": [
    {
     "name": "stdout",
     "output_type": "stream",
     "text": [
      "P-valor entre AMB_PA_MECVV i SENSE_PA 0.5743933608939569\n"
     ]
    }
   ],
   "execution_count": 477
  },
  {
   "metadata": {},
   "cell_type": "markdown",
   "source": "## Síndrome depressiu",
   "id": "ea9bb083b2c8413e"
  },
  {
   "metadata": {
    "ExecuteTime": {
     "end_time": "2024-04-22T11:27:43.945507Z",
     "start_time": "2024-04-22T11:27:43.938325Z"
    }
   },
   "cell_type": "code",
   "source": [
    "depre_AMB_PA= (AMB_PA['sindrome_depresivo'] == 1.0).mean() * 100\n",
    "print(f\"Percentatge de síndrome depressiu: {depre_AMB_PA:.2f}%\")"
   ],
   "id": "5e6af44aba2e2219",
   "outputs": [
    {
     "name": "stdout",
     "output_type": "stream",
     "text": [
      "Percentatge de síndrome depressiu: 23.53%\n"
     ]
    }
   ],
   "execution_count": 478
  },
  {
   "metadata": {
    "ExecuteTime": {
     "end_time": "2024-04-22T11:27:44.416915Z",
     "start_time": "2024-04-22T11:27:44.372001Z"
    }
   },
   "cell_type": "code",
   "source": [
    "depre_AMB_PA_MECVV= (AMB_PA_MECVV['sindrome_depresivo'] == 1.0).mean() * 100\n",
    "print(f\"Percentatge de síndrome depressiu: {depre_AMB_PA_MECVV:.2f}%\")"
   ],
   "id": "6f73b773854e8aac",
   "outputs": [
    {
     "name": "stdout",
     "output_type": "stream",
     "text": [
      "Percentatge de síndrome depressiu: 0.00%\n"
     ]
    }
   ],
   "execution_count": 479
  },
  {
   "metadata": {
    "ExecuteTime": {
     "end_time": "2024-04-22T11:27:44.912513Z",
     "start_time": "2024-04-22T11:27:44.865580Z"
    }
   },
   "cell_type": "code",
   "source": [
    "depre_SENSE_PA= (SENSE_PA['sindrome_depresivo'] == 1.0).mean() * 100\n",
    "print(f\"Percentatge de síndrome depressiu: {depre_SENSE_PA:.2f}%\")"
   ],
   "id": "ed67fa6c2850b5d7",
   "outputs": [
    {
     "name": "stdout",
     "output_type": "stream",
     "text": [
      "Percentatge de síndrome depressiu: 14.29%\n"
     ]
    }
   ],
   "execution_count": 480
  },
  {
   "metadata": {},
   "cell_type": "markdown",
   "source": "#### Pvalor",
   "id": "77048791dbe5c0af"
  },
  {
   "metadata": {},
   "cell_type": "markdown",
   "source": "##### Normalitat",
   "id": "7ae02047e3559f07"
  },
  {
   "metadata": {
    "ExecuteTime": {
     "end_time": "2024-04-22T11:27:45.201121Z",
     "start_time": "2024-04-22T11:27:45.158623Z"
    }
   },
   "cell_type": "code",
   "source": [
    "stat, p_value = shapiro(AMB_PA['sindrome_depresivo'])\n",
    "print(f\"Estadístic W = {stat:.4f}\")\n",
    "print(f\"Valor p = {p_value:.4f}\")\n",
    "\n",
    "alpha = 0.05\n",
    "if p_value < alpha:\n",
    "    print(\"El nombre de files no segueix una distribució normal.\")\n",
    "else:\n",
    "    print(\"El nombre de files segueix una distribució normal\")"
   ],
   "id": "eef5277fe8e65edf",
   "outputs": [
    {
     "name": "stdout",
     "output_type": "stream",
     "text": [
      "Estadístic W = 0.5327\n",
      "Valor p = 0.0000\n",
      "El nombre de files no segueix una distribució normal.\n"
     ]
    }
   ],
   "execution_count": 481
  },
  {
   "metadata": {
    "ExecuteTime": {
     "end_time": "2024-04-22T11:27:45.624013Z",
     "start_time": "2024-04-22T11:27:45.613433Z"
    }
   },
   "cell_type": "code",
   "source": [
    "stat, p_value = shapiro(AMB_PA_MECVV['sindrome_depresivo'])\n",
    "print(f\"Estadístic W = {stat:.4f}\")\n",
    "print(f\"Valor p = {p_value:.4f}\")\n",
    "\n",
    "alpha = 0.05\n",
    "if p_value < alpha:\n",
    "    print(\"El nombre de files no segueix una distribució normal.\")\n",
    "else:\n",
    "    print(\"El nombre de files segueix una distribució normal\")"
   ],
   "id": "a0665c4b7b02c414",
   "outputs": [
    {
     "name": "stdout",
     "output_type": "stream",
     "text": [
      "Estadístic W = 1.0000\n",
      "Valor p = 1.0000\n",
      "El nombre de files segueix una distribució normal\n"
     ]
    }
   ],
   "execution_count": 482
  },
  {
   "metadata": {
    "ExecuteTime": {
     "end_time": "2024-04-22T11:27:46.089420Z",
     "start_time": "2024-04-22T11:27:46.081675Z"
    }
   },
   "cell_type": "code",
   "source": [
    "stat, p_value = shapiro(SENSE_PA['sindrome_depresivo'])\n",
    "print(f\"Estadístic W = {stat:.4f}\")\n",
    "print(f\"Valor p = {p_value:.4f}\")\n",
    "\n",
    "alpha = 0.05\n",
    "if p_value < alpha:\n",
    "    print(\"El nombre de files no segueix una distribució normal.\")\n",
    "else:\n",
    "    print(\"El nombre de files segueix una distribució normal\")"
   ],
   "id": "1efdd4f2ccc72046",
   "outputs": [
    {
     "name": "stdout",
     "output_type": "stream",
     "text": [
      "Estadístic W = 0.4168\n",
      "Valor p = 0.0000\n",
      "El nombre de files no segueix una distribució normal.\n"
     ]
    }
   ],
   "execution_count": 483
  },
  {
   "metadata": {
    "ExecuteTime": {
     "end_time": "2024-04-22T11:27:46.393054Z",
     "start_time": "2024-04-22T11:27:46.384439Z"
    }
   },
   "cell_type": "code",
   "source": [
    "stat, p_value_12 = mannwhitneyu(AMB_PA['sindrome_depresivo'], AMB_PA_MECVV['sindrome_depresivo'], alternative='two-sided')\n",
    "print(\"P-valor entre AMB_PA i AMB_PA_MECVV\", p_value_12)"
   ],
   "id": "7adb8a77607c2030",
   "outputs": [
    {
     "name": "stdout",
     "output_type": "stream",
     "text": [
      "P-valor entre AMB_PA i AMB_PA_MECVV 0.11180527770715322\n"
     ]
    }
   ],
   "execution_count": 484
  },
  {
   "metadata": {
    "ExecuteTime": {
     "end_time": "2024-04-22T11:27:46.861390Z",
     "start_time": "2024-04-22T11:27:46.854749Z"
    }
   },
   "cell_type": "code",
   "source": [
    "stat, p_value_13 = mannwhitneyu(AMB_PA['sindrome_depresivo'], SENSE_PA['sindrome_depresivo'], alternative='two-sided')\n",
    "print(\"P-valor entre AMB_PA i SENSE_PA\", p_value_13)"
   ],
   "id": "e47e376705cfa86",
   "outputs": [
    {
     "name": "stdout",
     "output_type": "stream",
     "text": [
      "P-valor entre AMB_PA i SENSE_PA 0.3880726918610017\n"
     ]
    }
   ],
   "execution_count": 485
  },
  {
   "metadata": {
    "ExecuteTime": {
     "end_time": "2024-04-22T11:27:47.215054Z",
     "start_time": "2024-04-22T11:27:47.205952Z"
    }
   },
   "cell_type": "code",
   "source": [
    "stat, p_value_23 = mannwhitneyu(AMB_PA_MECVV['sindrome_depresivo'], SENSE_PA['sindrome_depresivo'], alternative='two-sided')\n",
    "print(\"P-valor entre AMB_PA_MECVV i SENSE_PA\", p_value_23)"
   ],
   "id": "fef192746e282f69",
   "outputs": [
    {
     "name": "stdout",
     "output_type": "stream",
     "text": [
      "P-valor entre AMB_PA_MECVV i SENSE_PA 0.21340049774345338\n"
     ]
    }
   ],
   "execution_count": 486
  },
  {
   "metadata": {},
   "cell_type": "markdown",
   "source": "## Incontinència urinària",
   "id": "e692abea2c5a0bcf"
  },
  {
   "metadata": {
    "ExecuteTime": {
     "end_time": "2024-04-22T11:27:47.774491Z",
     "start_time": "2024-04-22T11:27:47.731149Z"
    }
   },
   "cell_type": "code",
   "source": [
    "ic_AMB_PA= (AMB_PA['incont_uri'] == 1.0).mean() * 100\n",
    "print(f\"Percentatge de incontinència urinària: {ic_AMB_PA:.2f}%\")"
   ],
   "id": "a10c39264fda8a45",
   "outputs": [
    {
     "name": "stdout",
     "output_type": "stream",
     "text": [
      "Percentatge de incontinència urinària: 29.41%\n"
     ]
    }
   ],
   "execution_count": 487
  },
  {
   "metadata": {
    "ExecuteTime": {
     "end_time": "2024-04-22T11:27:48.276965Z",
     "start_time": "2024-04-22T11:27:48.270119Z"
    }
   },
   "cell_type": "code",
   "source": [
    "ic_AMB_PA_MECVV= (AMB_PA_MECVV['incont_uri'] == 1.0).mean() * 100\n",
    "print(f\"Percentatge de incontinència urinària: {ic_AMB_PA_MECVV:.2f}%\")"
   ],
   "id": "626e726f57f8e3aa",
   "outputs": [
    {
     "name": "stdout",
     "output_type": "stream",
     "text": [
      "Percentatge de incontinència urinària: 30.00%\n"
     ]
    }
   ],
   "execution_count": 488
  },
  {
   "metadata": {
    "ExecuteTime": {
     "end_time": "2024-04-22T11:27:48.808982Z",
     "start_time": "2024-04-22T11:27:48.791435Z"
    }
   },
   "cell_type": "code",
   "source": [
    "ic_SENSE_PA= (SENSE_PA['incont_uri'] == 1.0).mean() * 100\n",
    "print(f\"Percentatge de incontinència urinària: {ic_SENSE_PA:.2f}%\")"
   ],
   "id": "2a4a3c62612b058c",
   "outputs": [
    {
     "name": "stdout",
     "output_type": "stream",
     "text": [
      "Percentatge de incontinència urinària: 14.29%\n"
     ]
    }
   ],
   "execution_count": 489
  },
  {
   "metadata": {},
   "cell_type": "markdown",
   "source": "#### Pvalor",
   "id": "f3d48cd438ce1485"
  },
  {
   "metadata": {},
   "cell_type": "markdown",
   "source": "##### Normalitat",
   "id": "8a88da3553a72086"
  },
  {
   "metadata": {
    "ExecuteTime": {
     "end_time": "2024-04-22T11:27:49.307769Z",
     "start_time": "2024-04-22T11:27:49.264409Z"
    }
   },
   "cell_type": "code",
   "source": [
    "stat, p_value = shapiro(AMB_PA['incont_uri'])\n",
    "print(f\"Estadístic W = {stat:.4f}\")\n",
    "print(f\"Valor p = {p_value:.4f}\")\n",
    "\n",
    "alpha = 0.05\n",
    "if p_value < alpha:\n",
    "    print(\"El nombre de files no segueix una distribució normal.\")\n",
    "else:\n",
    "    print(\"El nombre de files segueix una distribució normal\")"
   ],
   "id": "2cf0004f848a0a3d",
   "outputs": [
    {
     "name": "stdout",
     "output_type": "stream",
     "text": [
      "Estadístic W = 0.5785\n",
      "Valor p = 0.0000\n",
      "El nombre de files no segueix una distribució normal.\n"
     ]
    }
   ],
   "execution_count": 490
  },
  {
   "metadata": {
    "ExecuteTime": {
     "end_time": "2024-04-22T11:27:49.605051Z",
     "start_time": "2024-04-22T11:27:49.557966Z"
    }
   },
   "cell_type": "code",
   "source": [
    "stat, p_value = shapiro(AMB_PA_MECVV['incont_uri'])\n",
    "print(f\"Estadístic W = {stat:.4f}\")\n",
    "print(f\"Valor p = {p_value:.4f}\")\n",
    "\n",
    "alpha = 0.05\n",
    "if p_value < alpha:\n",
    "    print(\"El nombre de files no segueix una distribució normal.\")\n",
    "else:\n",
    "    print(\"El nombre de files segueix una distribució normal\")"
   ],
   "id": "2615ad7db3f0c1ea",
   "outputs": [
    {
     "name": "stdout",
     "output_type": "stream",
     "text": [
      "Estadístic W = 0.5942\n",
      "Valor p = 0.0000\n",
      "El nombre de files no segueix una distribució normal.\n"
     ]
    }
   ],
   "execution_count": 491
  },
  {
   "metadata": {
    "ExecuteTime": {
     "end_time": "2024-04-22T11:27:49.994440Z",
     "start_time": "2024-04-22T11:27:49.987350Z"
    }
   },
   "cell_type": "code",
   "source": [
    "stat, p_value = shapiro(SENSE_PA['incont_uri'])\n",
    "print(f\"Estadístic W = {stat:.4f}\")\n",
    "print(f\"Valor p = {p_value:.4f}\")\n",
    "\n",
    "alpha = 0.05\n",
    "if p_value < alpha:\n",
    "    print(\"El nombre de files no segueix una distribució normal.\")\n",
    "else:\n",
    "    print(\"El nombre de files segueix una distribució normal\")"
   ],
   "id": "1bb13adec047e9a0",
   "outputs": [
    {
     "name": "stdout",
     "output_type": "stream",
     "text": [
      "Estadístic W = 0.4168\n",
      "Valor p = 0.0000\n",
      "El nombre de files no segueix una distribució normal.\n"
     ]
    }
   ],
   "execution_count": 492
  },
  {
   "metadata": {
    "ExecuteTime": {
     "end_time": "2024-04-22T11:27:50.544914Z",
     "start_time": "2024-04-22T11:27:50.535225Z"
    }
   },
   "cell_type": "code",
   "source": [
    "stat, p_value_12 = mannwhitneyu(AMB_PA['incont_uri'], AMB_PA_MECVV['incont_uri'], alternative='two-sided')\n",
    "print(\"P-valor entre AMB_PA i AMB_PA_MECVV\", p_value_12)"
   ],
   "id": "65960e4e13cab2cb",
   "outputs": [
    {
     "name": "stdout",
     "output_type": "stream",
     "text": [
      "P-valor entre AMB_PA i AMB_PA_MECVV 1.0\n"
     ]
    }
   ],
   "execution_count": 493
  },
  {
   "metadata": {
    "ExecuteTime": {
     "end_time": "2024-04-22T11:27:50.815244Z",
     "start_time": "2024-04-22T11:27:50.808134Z"
    }
   },
   "cell_type": "code",
   "source": [
    "stat, p_value_13 = mannwhitneyu(AMB_PA['incont_uri'], SENSE_PA['incont_uri'], alternative='two-sided')\n",
    "print(\"P-valor entre AMB_PA i SENSE_PA\", p_value_13)"
   ],
   "id": "5ae80fc41bf7cab2",
   "outputs": [
    {
     "name": "stdout",
     "output_type": "stream",
     "text": [
      "P-valor entre AMB_PA i SENSE_PA 0.17015925929193942\n"
     ]
    }
   ],
   "execution_count": 494
  },
  {
   "metadata": {
    "ExecuteTime": {
     "end_time": "2024-04-22T11:27:51.221745Z",
     "start_time": "2024-04-22T11:27:51.173693Z"
    }
   },
   "cell_type": "code",
   "source": [
    "stat, p_value_23 = mannwhitneyu(AMB_PA_MECVV['incont_uri'], SENSE_PA['incont_uri'], alternative='two-sided')\n",
    "print(\"P-valor entre AMB_PA_MECVV i SENSE_PA\", p_value_23)"
   ],
   "id": "7d19627ed95c9830",
   "outputs": [
    {
     "name": "stdout",
     "output_type": "stream",
     "text": [
      "P-valor entre AMB_PA_MECVV i SENSE_PA 0.237514563226218\n"
     ]
    }
   ],
   "execution_count": 495
  },
  {
   "metadata": {},
   "cell_type": "markdown",
   "source": "## Incontinència fecal ",
   "id": "ef750cb6e374d153"
  },
  {
   "metadata": {
    "ExecuteTime": {
     "end_time": "2024-04-22T11:27:51.499119Z",
     "start_time": "2024-04-22T11:27:51.453818Z"
    }
   },
   "cell_type": "code",
   "source": [
    "ifec_AMB_PA= (AMB_PA['incont_fec'] == 1.0).mean() * 100\n",
    "print(f\"Percentatge de incontinència fecal: {ifec_AMB_PA:.2f}%\")"
   ],
   "id": "f200aaa97ddfb132",
   "outputs": [
    {
     "name": "stdout",
     "output_type": "stream",
     "text": [
      "Percentatge de incontinència fecal: 29.41%\n"
     ]
    }
   ],
   "execution_count": 496
  },
  {
   "metadata": {
    "ExecuteTime": {
     "end_time": "2024-04-22T11:27:51.930972Z",
     "start_time": "2024-04-22T11:27:51.922579Z"
    }
   },
   "cell_type": "code",
   "source": [
    "ifec_AMB_PA_MECVV= (AMB_PA_MECVV['incont_fec'] == 1.0).mean() * 100\n",
    "print(f\"Percentatge de incontinència fecal: {ifec_AMB_PA_MECVV:.2f}%\")"
   ],
   "id": "508afd800ecbb722",
   "outputs": [
    {
     "name": "stdout",
     "output_type": "stream",
     "text": [
      "Percentatge de incontinència fecal: 10.00%\n"
     ]
    }
   ],
   "execution_count": 497
  },
  {
   "metadata": {
    "ExecuteTime": {
     "end_time": "2024-04-22T11:27:52.405097Z",
     "start_time": "2024-04-22T11:27:52.359243Z"
    }
   },
   "cell_type": "code",
   "source": [
    "ifec_SENSE_PA= (SENSE_PA['incont_fec'] == 1.0).mean() * 100\n",
    "print(f\"Percentatge de incontinència fecal: {ifec_SENSE_PA:.2f}%\")"
   ],
   "id": "e7d0045ab7ee995b",
   "outputs": [
    {
     "name": "stdout",
     "output_type": "stream",
     "text": [
      "Percentatge de incontinència fecal: 12.24%\n"
     ]
    }
   ],
   "execution_count": 498
  },
  {
   "metadata": {},
   "cell_type": "markdown",
   "source": "#### Pvalor",
   "id": "f57e9c2b1011455f"
  },
  {
   "metadata": {},
   "cell_type": "markdown",
   "source": "##### Normalitat",
   "id": "a09c93982467480a"
  },
  {
   "metadata": {
    "ExecuteTime": {
     "end_time": "2024-04-22T11:27:52.684610Z",
     "start_time": "2024-04-22T11:27:52.666178Z"
    }
   },
   "cell_type": "code",
   "source": [
    "stat, p_value = shapiro(AMB_PA['incont_fec'])\n",
    "print(f\"Estadístic W = {stat:.4f}\")\n",
    "print(f\"Valor p = {p_value:.4f}\")\n",
    "\n",
    "alpha = 0.05\n",
    "if p_value < alpha:\n",
    "    print(\"El nombre de files no segueix una distribució normal.\")\n",
    "else:\n",
    "    print(\"El nombre de files segueix una distribució normal\")"
   ],
   "id": "fe0a97831b34aa2b",
   "outputs": [
    {
     "name": "stdout",
     "output_type": "stream",
     "text": [
      "Estadístic W = 0.5785\n",
      "Valor p = 0.0000\n",
      "El nombre de files no segueix una distribució normal.\n"
     ]
    }
   ],
   "execution_count": 499
  },
  {
   "metadata": {
    "ExecuteTime": {
     "end_time": "2024-04-22T11:27:53.131694Z",
     "start_time": "2024-04-22T11:27:53.124814Z"
    }
   },
   "cell_type": "code",
   "source": [
    "stat, p_value = shapiro(AMB_PA_MECVV['incont_fec'])\n",
    "print(f\"Estadístic W = {stat:.4f}\")\n",
    "print(f\"Valor p = {p_value:.4f}\")\n",
    "\n",
    "alpha = 0.05\n",
    "if p_value < alpha:\n",
    "    print(\"El nombre de files no segueix una distribució normal.\")\n",
    "else:\n",
    "    print(\"El nombre de files segueix una distribució normal\")"
   ],
   "id": "514cf02fbf65b3d2",
   "outputs": [
    {
     "name": "stdout",
     "output_type": "stream",
     "text": [
      "Estadístic W = 0.3657\n",
      "Valor p = 0.0000\n",
      "El nombre de files no segueix una distribució normal.\n"
     ]
    }
   ],
   "execution_count": 500
  },
  {
   "metadata": {
    "ExecuteTime": {
     "end_time": "2024-04-22T11:27:53.644882Z",
     "start_time": "2024-04-22T11:27:53.634127Z"
    }
   },
   "cell_type": "code",
   "source": [
    "stat, p_value = shapiro(SENSE_PA['incont_fec'])\n",
    "print(f\"Estadístic W = {stat:.4f}\")\n",
    "print(f\"Valor p = {p_value:.4f}\")\n",
    "\n",
    "alpha = 0.05\n",
    "if p_value < alpha:\n",
    "    print(\"El nombre de files no segueix una distribució normal.\")\n",
    "else:\n",
    "    print(\"El nombre de files segueix una distribució normal\")"
   ],
   "id": "292234fc524f36f",
   "outputs": [
    {
     "name": "stdout",
     "output_type": "stream",
     "text": [
      "Estadístic W = 0.3844\n",
      "Valor p = 0.0000\n",
      "El nombre de files no segueix una distribució normal.\n"
     ]
    }
   ],
   "execution_count": 501
  },
  {
   "metadata": {
    "ExecuteTime": {
     "end_time": "2024-04-22T11:27:53.891877Z",
     "start_time": "2024-04-22T11:27:53.883098Z"
    }
   },
   "cell_type": "code",
   "source": [
    "stat, p_value_12 = mannwhitneyu(AMB_PA['incont_fec'], AMB_PA_MECVV['incont_fec'], alternative='two-sided')\n",
    "print(\"P-valor entre AMB_PA i AMB_PA_MECVV\", p_value_12)"
   ],
   "id": "a06cd69ec62e5411",
   "outputs": [
    {
     "name": "stdout",
     "output_type": "stream",
     "text": [
      "P-valor entre AMB_PA i AMB_PA_MECVV 0.2649031747093591\n"
     ]
    }
   ],
   "execution_count": 502
  },
  {
   "metadata": {
    "ExecuteTime": {
     "end_time": "2024-04-22T11:27:54.325067Z",
     "start_time": "2024-04-22T11:27:54.315618Z"
    }
   },
   "cell_type": "code",
   "source": [
    "stat, p_value_13 = mannwhitneyu(AMB_PA['incont_fec'], SENSE_PA['incont_fec'], alternative='two-sided')\n",
    "print(\"P-valor entre AMB_PA i SENSE_PA\", p_value_13)"
   ],
   "id": "864ff584027489f6",
   "outputs": [
    {
     "name": "stdout",
     "output_type": "stream",
     "text": [
      "P-valor entre AMB_PA i SENSE_PA 0.10681676423525503\n"
     ]
    }
   ],
   "execution_count": 503
  },
  {
   "metadata": {
    "ExecuteTime": {
     "end_time": "2024-04-22T11:27:54.601618Z",
     "start_time": "2024-04-22T11:27:54.594445Z"
    }
   },
   "cell_type": "code",
   "source": [
    "stat, p_value_23 = mannwhitneyu(AMB_PA_MECVV['incont_fec'], SENSE_PA['incont_fec'], alternative='two-sided')\n",
    "print(\"P-valor entre AMB_PA_MECVV i SENSE_PA\", p_value_23)"
   ],
   "id": "2a73a088a4149351",
   "outputs": [
    {
     "name": "stdout",
     "output_type": "stream",
     "text": [
      "P-valor entre AMB_PA_MECVV i SENSE_PA 0.8568943909879498\n"
     ]
    }
   ],
   "execution_count": 504
  },
  {
   "metadata": {},
   "cell_type": "markdown",
   "source": "## Úlceres de pressió",
   "id": "65897a5e1d05b6b6"
  },
  {
   "metadata": {
    "ExecuteTime": {
     "end_time": "2024-04-22T11:27:55.030520Z",
     "start_time": "2024-04-22T11:27:55.023679Z"
    }
   },
   "cell_type": "code",
   "source": [
    "up_AMB_PA= (AMB_PA['ulceras_presion'] == 1.0).mean() * 100\n",
    "print(f\"Percentatge de úlceres de pressió: {up_AMB_PA:.2f}%\")"
   ],
   "id": "bcd7bdbcf538274a",
   "outputs": [
    {
     "name": "stdout",
     "output_type": "stream",
     "text": [
      "Percentatge de úlceres de pressió: 5.88%\n"
     ]
    }
   ],
   "execution_count": 505
  },
  {
   "metadata": {
    "ExecuteTime": {
     "end_time": "2024-04-22T11:27:55.329634Z",
     "start_time": "2024-04-22T11:27:55.323319Z"
    }
   },
   "cell_type": "code",
   "source": [
    "up_AMB_PA_MECVV= (AMB_PA_MECVV['ulceras_presion'] == 1.0).mean() * 100\n",
    "print(f\"Percentatge de úlceres de pressió: {up_AMB_PA_MECVV:.2f}%\")"
   ],
   "id": "60a8a4eb517c269e",
   "outputs": [
    {
     "name": "stdout",
     "output_type": "stream",
     "text": [
      "Percentatge de úlceres de pressió: 0.00%\n"
     ]
    }
   ],
   "execution_count": 506
  },
  {
   "metadata": {
    "ExecuteTime": {
     "end_time": "2024-04-22T11:27:55.933082Z",
     "start_time": "2024-04-22T11:27:55.928103Z"
    }
   },
   "cell_type": "code",
   "source": [
    "up_SENSE_PA= (SENSE_PA['ulceras_presion'] == 1.0).mean() * 100\n",
    "print(f\"Percentatge de úlceres de pressió: {up_SENSE_PA:.2f}%\")"
   ],
   "id": "4f223a88742c194a",
   "outputs": [
    {
     "name": "stdout",
     "output_type": "stream",
     "text": [
      "Percentatge de úlceres de pressió: 2.04%\n"
     ]
    }
   ],
   "execution_count": 507
  },
  {
   "metadata": {},
   "cell_type": "markdown",
   "source": "#### Pvalor",
   "id": "c3fe3f599bce65ef"
  },
  {
   "metadata": {},
   "cell_type": "markdown",
   "source": "##### Normalitat",
   "id": "930dd9949adee28b"
  },
  {
   "metadata": {
    "ExecuteTime": {
     "end_time": "2024-04-22T11:27:56.419965Z",
     "start_time": "2024-04-22T11:27:56.413132Z"
    }
   },
   "cell_type": "code",
   "source": [
    "stat, p_value = shapiro(AMB_PA['ulceras_presion'])\n",
    "print(f\"Estadístic W = {stat:.4f}\")\n",
    "print(f\"Valor p = {p_value:.4f}\")\n",
    "\n",
    "alpha = 0.05\n",
    "if p_value < alpha:\n",
    "    print(\"El nombre de files no segueix una distribució normal.\")\n",
    "else:\n",
    "    print(\"El nombre de files segueix una distribució normal\")"
   ],
   "id": "d50787664b68bc94",
   "outputs": [
    {
     "name": "stdout",
     "output_type": "stream",
     "text": [
      "Estadístic W = 0.2622\n",
      "Valor p = 0.0000\n",
      "El nombre de files no segueix una distribució normal.\n"
     ]
    }
   ],
   "execution_count": 508
  },
  {
   "metadata": {
    "ExecuteTime": {
     "end_time": "2024-04-22T11:27:57.112926Z",
     "start_time": "2024-04-22T11:27:57.062726Z"
    }
   },
   "cell_type": "code",
   "source": [
    "stat, p_value = shapiro(AMB_PA_MECVV['ulceras_presion'])\n",
    "print(f\"Estadístic W = {stat:.4f}\")\n",
    "print(f\"Valor p = {p_value:.4f}\")\n",
    "\n",
    "alpha = 0.05\n",
    "if p_value < alpha:\n",
    "    print(\"El nombre de files no segueix una distribució normal.\")\n",
    "else:\n",
    "    print(\"El nombre de files segueix una distribució normal\")"
   ],
   "id": "19799093c5abeaea",
   "outputs": [
    {
     "name": "stdout",
     "output_type": "stream",
     "text": [
      "Estadístic W = 1.0000\n",
      "Valor p = 1.0000\n",
      "El nombre de files segueix una distribució normal\n"
     ]
    }
   ],
   "execution_count": 509
  },
  {
   "metadata": {
    "ExecuteTime": {
     "end_time": "2024-04-22T11:27:57.505633Z",
     "start_time": "2024-04-22T11:27:57.492412Z"
    }
   },
   "cell_type": "code",
   "source": [
    "stat, p_value = shapiro(SENSE_PA['ulceras_presion'])\n",
    "print(f\"Estadístic W = {stat:.4f}\")\n",
    "print(f\"Valor p = {p_value:.4f}\")\n",
    "\n",
    "alpha = 0.05\n",
    "if p_value < alpha:\n",
    "    print(\"El nombre de files no segueix una distribució normal.\")\n",
    "else:\n",
    "    print(\"El nombre de files segueix una distribució normal\")"
   ],
   "id": "3cca1f862eaa0767",
   "outputs": [
    {
     "name": "stdout",
     "output_type": "stream",
     "text": [
      "Estadístic W = 0.1273\n",
      "Valor p = 0.0000\n",
      "El nombre de files no segueix una distribució normal.\n"
     ]
    }
   ],
   "execution_count": 510
  },
  {
   "metadata": {
    "ExecuteTime": {
     "end_time": "2024-04-22T11:27:57.967457Z",
     "start_time": "2024-04-22T11:27:57.959841Z"
    }
   },
   "cell_type": "code",
   "source": [
    "stat, p_value_12 = mannwhitneyu(AMB_PA['ulceras_presion'], AMB_PA_MECVV['ulceras_presion'], alternative='two-sided')\n",
    "print(\"P-valor entre AMB_PA i AMB_PA_MECVV\", p_value_12)"
   ],
   "id": "6293a3abfe3649ba",
   "outputs": [
    {
     "name": "stdout",
     "output_type": "stream",
     "text": [
      "P-valor entre AMB_PA i AMB_PA_MECVV 0.49002535950179893\n"
     ]
    }
   ],
   "execution_count": 511
  },
  {
   "metadata": {
    "ExecuteTime": {
     "end_time": "2024-04-22T11:27:58.471219Z",
     "start_time": "2024-04-22T11:27:58.463700Z"
    }
   },
   "cell_type": "code",
   "source": [
    "stat, p_value_13 = mannwhitneyu(AMB_PA['ulceras_presion'], SENSE_PA['ulceras_presion'], alternative='two-sided')\n",
    "print(\"P-valor entre AMB_PA i SENSE_PA\", p_value_13)"
   ],
   "id": "3ba7e80f539a2cd8",
   "outputs": [
    {
     "name": "stdout",
     "output_type": "stream",
     "text": [
      "P-valor entre AMB_PA i SENSE_PA 0.4440308448923743\n"
     ]
    }
   ],
   "execution_count": 512
  },
  {
   "metadata": {
    "ExecuteTime": {
     "end_time": "2024-04-22T11:27:58.788366Z",
     "start_time": "2024-04-22T11:27:58.774195Z"
    }
   },
   "cell_type": "code",
   "source": [
    "stat, p_value_23 = mannwhitneyu(AMB_PA_MECVV['ulceras_presion'], SENSE_PA['ulceras_presion'], alternative='two-sided')\n",
    "print(\"P-valor entre AMB_PA_MECVV i SENSE_PA\", p_value_23)"
   ],
   "id": "2119f64854a199b9",
   "outputs": [
    {
     "name": "stdout",
     "output_type": "stream",
     "text": [
      "P-valor entre AMB_PA_MECVV i SENSE_PA 0.6843175494727258\n"
     ]
    }
   ],
   "execution_count": 513
  },
  {
   "metadata": {},
   "cell_type": "markdown",
   "source": "## Immobilitat",
   "id": "9a5af8b151f24d"
  },
  {
   "metadata": {
    "ExecuteTime": {
     "end_time": "2024-04-22T11:27:59.185980Z",
     "start_time": "2024-04-22T11:27:59.180666Z"
    }
   },
   "cell_type": "code",
   "source": [
    "imm_AMB_PA= (AMB_PA['immobilitat'] == 1.0).mean() * 100\n",
    "print(f\"Percentatge d'immobilitat : {imm_AMB_PA:.2f}%\")"
   ],
   "id": "20403b79d0d107f1",
   "outputs": [
    {
     "name": "stdout",
     "output_type": "stream",
     "text": [
      "Percentatge d'immobilitat : 0.00%\n"
     ]
    }
   ],
   "execution_count": 514
  },
  {
   "metadata": {
    "ExecuteTime": {
     "end_time": "2024-04-22T11:27:59.637229Z",
     "start_time": "2024-04-22T11:27:59.629048Z"
    }
   },
   "cell_type": "code",
   "source": [
    "imm_AMB_PA_MECVV= (AMB_PA_MECVV['immobilitat'] == 1.0).mean() * 100\n",
    "print(f\"Percentatge d'immobilitat : {imm_AMB_PA_MECVV:.2f}%\")"
   ],
   "id": "c0213526b1aa2176",
   "outputs": [
    {
     "name": "stdout",
     "output_type": "stream",
     "text": [
      "Percentatge d'immobilitat : 0.00%\n"
     ]
    }
   ],
   "execution_count": 515
  },
  {
   "metadata": {
    "ExecuteTime": {
     "end_time": "2024-04-22T11:27:59.986854Z",
     "start_time": "2024-04-22T11:27:59.942805Z"
    }
   },
   "cell_type": "code",
   "source": [
    "imm_SENSE_PA= (SENSE_PA['immobilitat'] == 1.0).mean() * 100\n",
    "print(f\"Percentatge d'immobilitat : {imm_SENSE_PA:.2f}%\")"
   ],
   "id": "74a797ae927f6554",
   "outputs": [
    {
     "name": "stdout",
     "output_type": "stream",
     "text": [
      "Percentatge d'immobilitat : 0.00%\n"
     ]
    }
   ],
   "execution_count": 516
  },
  {
   "metadata": {},
   "cell_type": "markdown",
   "source": "#### Pvalor",
   "id": "be6caeebf7499d9b"
  },
  {
   "metadata": {},
   "cell_type": "markdown",
   "source": "##### Normalitat",
   "id": "aa4a2989248ba61e"
  },
  {
   "metadata": {
    "ExecuteTime": {
     "end_time": "2024-04-22T11:28:00.496290Z",
     "start_time": "2024-04-22T11:28:00.488790Z"
    }
   },
   "cell_type": "code",
   "source": [
    "stat, p_value = shapiro(AMB_PA['immobilitat'])\n",
    "print(f\"Estadístic W = {stat:.4f}\")\n",
    "print(f\"Valor p = {p_value:.4f}\")\n",
    "\n",
    "alpha = 0.05\n",
    "if p_value < alpha:\n",
    "    print(\"El nombre de files no segueix una distribució normal.\")\n",
    "else:\n",
    "    print(\"El nombre de files segueix una distribució normal\")"
   ],
   "id": "ce59d8aa3cdde852",
   "outputs": [
    {
     "name": "stdout",
     "output_type": "stream",
     "text": [
      "Estadístic W = 1.0000\n",
      "Valor p = 1.0000\n",
      "El nombre de files segueix una distribució normal\n"
     ]
    }
   ],
   "execution_count": 517
  },
  {
   "metadata": {
    "ExecuteTime": {
     "end_time": "2024-04-22T11:28:00.872131Z",
     "start_time": "2024-04-22T11:28:00.866809Z"
    }
   },
   "cell_type": "code",
   "source": [
    "stat, p_value = shapiro(AMB_PA_MECVV['immobilitat'])\n",
    "print(f\"Estadístic W = {stat:.4f}\")\n",
    "print(f\"Valor p = {p_value:.4f}\")\n",
    "\n",
    "alpha = 0.05\n",
    "if p_value < alpha:\n",
    "    print(\"El nombre de files no segueix una distribució normal.\")\n",
    "else:\n",
    "    print(\"El nombre de files segueix una distribució normal\")"
   ],
   "id": "2b043412d8910c5f",
   "outputs": [
    {
     "name": "stdout",
     "output_type": "stream",
     "text": [
      "Estadístic W = 1.0000\n",
      "Valor p = 1.0000\n",
      "El nombre de files segueix una distribució normal\n"
     ]
    }
   ],
   "execution_count": 518
  },
  {
   "metadata": {
    "ExecuteTime": {
     "end_time": "2024-04-22T11:28:01.332217Z",
     "start_time": "2024-04-22T11:28:01.324558Z"
    }
   },
   "cell_type": "code",
   "source": [
    "stat, p_value = shapiro(SENSE_PA['immobilitat'])\n",
    "print(f\"Estadístic W = {stat:.4f}\")\n",
    "print(f\"Valor p = {p_value:.4f}\")\n",
    "\n",
    "alpha = 0.05\n",
    "if p_value < alpha:\n",
    "    print(\"El nombre de files no segueix una distribució normal.\")\n",
    "else:\n",
    "    print(\"El nombre de files segueix una distribució normal\")"
   ],
   "id": "2ca3e52029b48710",
   "outputs": [
    {
     "name": "stdout",
     "output_type": "stream",
     "text": [
      "Estadístic W = 1.0000\n",
      "Valor p = 1.0000\n",
      "El nombre de files segueix una distribució normal\n"
     ]
    }
   ],
   "execution_count": 519
  },
  {
   "metadata": {
    "ExecuteTime": {
     "end_time": "2024-04-22T11:28:01.629900Z",
     "start_time": "2024-04-22T11:28:01.595556Z"
    }
   },
   "cell_type": "code",
   "source": [
    "stat, p_value_12 = ttest_ind(AMB_PA['immobilitat'], AMB_PA_MECVV['immobilitat'], equal_var=False)\n",
    "print(\"P-valor entre AMB_PA i AMB_PA_MECVV\", p_value_12)"
   ],
   "id": "105064a7aa9dc9d8",
   "outputs": [
    {
     "name": "stdout",
     "output_type": "stream",
     "text": [
      "P-valor entre AMB_PA i AMB_PA_MECVV nan\n"
     ]
    }
   ],
   "execution_count": 520
  },
  {
   "metadata": {
    "ExecuteTime": {
     "end_time": "2024-04-22T11:28:02.241200Z",
     "start_time": "2024-04-22T11:28:02.226080Z"
    }
   },
   "cell_type": "code",
   "source": [
    "stat, p_value_13 = ttest_ind(AMB_PA['immobilitat'], SENSE_PA['immobilitat'], equal_var=False)\n",
    "print(\"P-valor entre AMB_PA i SENSE_PA\", p_value_13)"
   ],
   "id": "2d3377e567434550",
   "outputs": [
    {
     "name": "stdout",
     "output_type": "stream",
     "text": [
      "P-valor entre AMB_PA i SENSE_PA nan\n"
     ]
    }
   ],
   "execution_count": 521
  },
  {
   "metadata": {
    "ExecuteTime": {
     "end_time": "2024-04-22T11:28:02.737067Z",
     "start_time": "2024-04-22T11:28:02.703565Z"
    }
   },
   "cell_type": "code",
   "source": [
    "stat, p_value_23 = ttest_ind(AMB_PA_MECVV['immobilitat'], SENSE_PA['immobilitat'], equal_var=False)\n",
    "print(\"P-valor entre AMB_PA_MECVV i SENSE_PA\", p_value_23)"
   ],
   "id": "e1b737f2b2eb5d6a",
   "outputs": [
    {
     "name": "stdout",
     "output_type": "stream",
     "text": [
      "P-valor entre AMB_PA_MECVV i SENSE_PA nan\n"
     ]
    }
   ],
   "execution_count": 522
  },
  {
   "metadata": {},
   "cell_type": "markdown",
   "source": "## Confusió",
   "id": "8ec2d07541f7c217"
  },
  {
   "metadata": {
    "ExecuteTime": {
     "end_time": "2024-04-22T11:28:03.176599Z",
     "start_time": "2024-04-22T11:28:03.170977Z"
    }
   },
   "cell_type": "code",
   "source": [
    "conf_AMB_PA= (AMB_PA['confusio'] == 1.0).mean() * 100\n",
    "print(f\"Percentatge de confusió : {conf_AMB_PA:.2f}%\")"
   ],
   "id": "c2abcafcb2c060aa",
   "outputs": [
    {
     "name": "stdout",
     "output_type": "stream",
     "text": [
      "Percentatge de confusió : 23.53%\n"
     ]
    }
   ],
   "execution_count": 523
  },
  {
   "metadata": {
    "ExecuteTime": {
     "end_time": "2024-04-22T11:28:03.643605Z",
     "start_time": "2024-04-22T11:28:03.637180Z"
    }
   },
   "cell_type": "code",
   "source": [
    "conf_AMB_PA_MECVV= (AMB_PA_MECVV['confusio'] == 1.0).mean() * 100\n",
    "print(f\"Percentatge de confusió : {conf_AMB_PA_MECVV:.2f}%\")"
   ],
   "id": "941d58bd902a33ba",
   "outputs": [
    {
     "name": "stdout",
     "output_type": "stream",
     "text": [
      "Percentatge de confusió : 40.00%\n"
     ]
    }
   ],
   "execution_count": 524
  },
  {
   "metadata": {
    "ExecuteTime": {
     "end_time": "2024-04-22T11:28:04.463779Z",
     "start_time": "2024-04-22T11:28:04.452699Z"
    }
   },
   "cell_type": "code",
   "source": [
    "conf_SENSE_PA= (SENSE_PA['confusio'] == 1.0).mean() * 100\n",
    "print(f\"Percentatge de confusió : {conf_SENSE_PA:.2f}%\")"
   ],
   "id": "c0af511c6c97d577",
   "outputs": [
    {
     "name": "stdout",
     "output_type": "stream",
     "text": [
      "Percentatge de confusió : 18.37%\n"
     ]
    }
   ],
   "execution_count": 525
  },
  {
   "metadata": {},
   "cell_type": "markdown",
   "source": "#### Pvalor",
   "id": "9e49773c6fbd88f"
  },
  {
   "metadata": {},
   "cell_type": "markdown",
   "source": "##### Normalitat",
   "id": "ea0b0c90affa5182"
  },
  {
   "metadata": {
    "ExecuteTime": {
     "end_time": "2024-04-22T11:28:04.971992Z",
     "start_time": "2024-04-22T11:28:04.964373Z"
    }
   },
   "cell_type": "code",
   "source": [
    "stat, p_value = shapiro(AMB_PA['confusio'])\n",
    "print(f\"Estadístic W = {stat:.4f}\")\n",
    "print(f\"Valor p = {p_value:.4f}\")\n",
    "\n",
    "alpha = 0.05\n",
    "if p_value < alpha:\n",
    "    print(\"El nombre de files no segueix una distribució normal.\")\n",
    "else:\n",
    "    print(\"El nombre de files segueix una distribució normal\")"
   ],
   "id": "78e2674a568bf995",
   "outputs": [
    {
     "name": "stdout",
     "output_type": "stream",
     "text": [
      "Estadístic W = 0.5327\n",
      "Valor p = 0.0000\n",
      "El nombre de files no segueix una distribució normal.\n"
     ]
    }
   ],
   "execution_count": 526
  },
  {
   "metadata": {
    "ExecuteTime": {
     "end_time": "2024-04-22T11:28:05.556455Z",
     "start_time": "2024-04-22T11:28:05.547487Z"
    }
   },
   "cell_type": "code",
   "source": [
    "stat, p_value = shapiro(AMB_PA_MECVV['confusio'])\n",
    "print(f\"Estadístic W = {stat:.4f}\")\n",
    "print(f\"Valor p = {p_value:.4f}\")\n",
    "\n",
    "alpha = 0.05\n",
    "if p_value < alpha:\n",
    "    print(\"El nombre de files no segueix una distribució normal.\")\n",
    "else:\n",
    "    print(\"El nombre de files segueix una distribució normal\")"
   ],
   "id": "d1e12db663b6a610",
   "outputs": [
    {
     "name": "stdout",
     "output_type": "stream",
     "text": [
      "Estadístic W = 0.6405\n",
      "Valor p = 0.0002\n",
      "El nombre de files no segueix una distribució normal.\n"
     ]
    }
   ],
   "execution_count": 527
  },
  {
   "metadata": {
    "ExecuteTime": {
     "end_time": "2024-04-22T11:28:05.991850Z",
     "start_time": "2024-04-22T11:28:05.984902Z"
    }
   },
   "cell_type": "code",
   "source": [
    "stat, p_value = shapiro(SENSE_PA['confusio'])\n",
    "print(f\"Estadístic W = {stat:.4f}\")\n",
    "print(f\"Valor p = {p_value:.4f}\")\n",
    "\n",
    "alpha = 0.05\n",
    "if p_value < alpha:\n",
    "    print(\"El nombre de files no segueix una distribució normal.\")\n",
    "else:\n",
    "    print(\"El nombre de files segueix una distribució normal\")"
   ],
   "id": "9d32a0a86340661f",
   "outputs": [
    {
     "name": "stdout",
     "output_type": "stream",
     "text": [
      "Estadístic W = 0.4716\n",
      "Valor p = 0.0000\n",
      "El nombre de files no segueix una distribució normal.\n"
     ]
    }
   ],
   "execution_count": 528
  },
  {
   "metadata": {
    "ExecuteTime": {
     "end_time": "2024-04-22T11:28:06.475332Z",
     "start_time": "2024-04-22T11:28:06.467786Z"
    }
   },
   "cell_type": "code",
   "source": [
    "stat, p_value_12 = mannwhitneyu(AMB_PA['confusio'], AMB_PA_MECVV['confusio'], alternative='two-sided')\n",
    "print(\"P-valor entre AMB_PA i AMB_PA_MECVV\", p_value_12)"
   ],
   "id": "ce8a928d50430780",
   "outputs": [
    {
     "name": "stdout",
     "output_type": "stream",
     "text": [
      "P-valor entre AMB_PA i AMB_PA_MECVV 0.39174655228054167\n"
     ]
    }
   ],
   "execution_count": 529
  },
  {
   "metadata": {
    "ExecuteTime": {
     "end_time": "2024-04-22T11:28:06.905540Z",
     "start_time": "2024-04-22T11:28:06.893505Z"
    }
   },
   "cell_type": "code",
   "source": [
    "stat, p_value_13 = mannwhitneyu(AMB_PA['confusio'], SENSE_PA['confusio'], alternative='two-sided')\n",
    "print(\"P-valor entre AMB_PA i SENSE_PA\", p_value_13)"
   ],
   "id": "3d8f238d6f85d411",
   "outputs": [
    {
     "name": "stdout",
     "output_type": "stream",
     "text": [
      "P-valor entre AMB_PA i SENSE_PA 0.6549000779898075\n"
     ]
    }
   ],
   "execution_count": 530
  },
  {
   "metadata": {
    "ExecuteTime": {
     "end_time": "2024-04-22T11:28:07.293607Z",
     "start_time": "2024-04-22T11:28:07.284065Z"
    }
   },
   "cell_type": "code",
   "source": [
    "stat, p_value_23 = mannwhitneyu(AMB_PA_MECVV['confusio'], SENSE_PA['confusio'], alternative='two-sided')\n",
    "print(\"P-valor entre AMB_PA_MECVV i SENSE_PA\", p_value_23)"
   ],
   "id": "e607639569d3f433",
   "outputs": [
    {
     "name": "stdout",
     "output_type": "stream",
     "text": [
      "P-valor entre AMB_PA_MECVV i SENSE_PA 0.13960802912048415\n"
     ]
    }
   ],
   "execution_count": 531
  },
  {
   "metadata": {},
   "cell_type": "markdown",
   "source": "## Osteoporosi",
   "id": "61e6ce410e08b94f"
  },
  {
   "metadata": {
    "ExecuteTime": {
     "end_time": "2024-04-22T11:28:07.630354Z",
     "start_time": "2024-04-22T11:28:07.583621Z"
    }
   },
   "cell_type": "code",
   "source": [
    "ost_AMB_PA= (AMB_PA['osteoporosis'] == 1.0).mean() * 100\n",
    "print(f\"Percentatge d'osteoporosi: {ost_AMB_PA:.2f}%\")"
   ],
   "id": "8247aa43b86f14e2",
   "outputs": [
    {
     "name": "stdout",
     "output_type": "stream",
     "text": [
      "Percentatge d'osteoporosi: 0.00%\n"
     ]
    }
   ],
   "execution_count": 532
  },
  {
   "metadata": {
    "ExecuteTime": {
     "end_time": "2024-04-22T11:28:08.078562Z",
     "start_time": "2024-04-22T11:28:08.032774Z"
    }
   },
   "cell_type": "code",
   "source": [
    "ost_AMB_PA_MECVV= (AMB_PA_MECVV['osteoporosis'] == 1.0).mean() * 100\n",
    "print(f\"Percentatge d'osteoporosi: {ost_AMB_PA_MECVV:.2f}%\")"
   ],
   "id": "88c46ee4b5d48d49",
   "outputs": [
    {
     "name": "stdout",
     "output_type": "stream",
     "text": [
      "Percentatge d'osteoporosi: 0.00%\n"
     ]
    }
   ],
   "execution_count": 533
  },
  {
   "metadata": {
    "ExecuteTime": {
     "end_time": "2024-04-22T11:28:08.353011Z",
     "start_time": "2024-04-22T11:28:08.345372Z"
    }
   },
   "cell_type": "code",
   "source": [
    "ost_SENSE_PA= (SENSE_PA['osteoporosis'] == 1.0).mean() * 100\n",
    "print(f\"Percentatge d'osteoporosi: {ost_SENSE_PA:.2f}%\")"
   ],
   "id": "404e37bc3d19820d",
   "outputs": [
    {
     "name": "stdout",
     "output_type": "stream",
     "text": [
      "Percentatge d'osteoporosi: 0.00%\n"
     ]
    }
   ],
   "execution_count": 534
  },
  {
   "metadata": {},
   "cell_type": "markdown",
   "source": "#### Pvalor",
   "id": "2be6f72ad24818dd"
  },
  {
   "metadata": {},
   "cell_type": "markdown",
   "source": "##### Normalitat",
   "id": "465cf19b84b0b450"
  },
  {
   "metadata": {
    "ExecuteTime": {
     "end_time": "2024-04-22T11:28:08.811259Z",
     "start_time": "2024-04-22T11:28:08.738046Z"
    }
   },
   "cell_type": "code",
   "source": [
    "stat, p_value = shapiro(AMB_PA['osteoporosis'])\n",
    "print(f\"Estadístic W = {stat:.4f}\")\n",
    "print(f\"Valor p = {p_value:.4f}\")\n",
    "\n",
    "alpha = 0.05\n",
    "if p_value < alpha:\n",
    "    print(\"El nombre de files no segueix una distribució normal.\")\n",
    "else:\n",
    "    print(\"El nombre de files segueix una distribució normal\")"
   ],
   "id": "ef867fa51d21b4e0",
   "outputs": [
    {
     "name": "stdout",
     "output_type": "stream",
     "text": [
      "Estadístic W = 1.0000\n",
      "Valor p = 1.0000\n",
      "El nombre de files segueix una distribució normal\n"
     ]
    }
   ],
   "execution_count": 535
  },
  {
   "metadata": {
    "ExecuteTime": {
     "end_time": "2024-04-22T11:28:09.205912Z",
     "start_time": "2024-04-22T11:28:09.161129Z"
    }
   },
   "cell_type": "code",
   "source": [
    "stat, p_value = shapiro(AMB_PA_MECVV['osteoporosis'])\n",
    "print(f\"Estadístic W = {stat:.4f}\")\n",
    "print(f\"Valor p = {p_value:.4f}\")\n",
    "\n",
    "alpha = 0.05\n",
    "if p_value < alpha:\n",
    "    print(\"El nombre de files no segueix una distribució normal.\")\n",
    "else:\n",
    "    print(\"El nombre de files segueix una distribució normal\")"
   ],
   "id": "10810e448414918c",
   "outputs": [
    {
     "name": "stdout",
     "output_type": "stream",
     "text": [
      "Estadístic W = 1.0000\n",
      "Valor p = 1.0000\n",
      "El nombre de files segueix una distribució normal\n"
     ]
    }
   ],
   "execution_count": 536
  },
  {
   "metadata": {
    "ExecuteTime": {
     "end_time": "2024-04-22T11:28:09.469511Z",
     "start_time": "2024-04-22T11:28:09.422867Z"
    }
   },
   "cell_type": "code",
   "source": [
    "stat, p_value = shapiro(SENSE_PA['osteoporosis'])\n",
    "print(f\"Estadístic W = {stat:.4f}\")\n",
    "print(f\"Valor p = {p_value:.4f}\")\n",
    "\n",
    "alpha = 0.05\n",
    "if p_value < alpha:\n",
    "    print(\"El nombre de files no segueix una distribució normal.\")\n",
    "else:\n",
    "    print(\"El nombre de files segueix una distribució normal\")"
   ],
   "id": "b87bbe8eefd9cb40",
   "outputs": [
    {
     "name": "stdout",
     "output_type": "stream",
     "text": [
      "Estadístic W = 1.0000\n",
      "Valor p = 1.0000\n",
      "El nombre de files segueix una distribució normal\n"
     ]
    }
   ],
   "execution_count": 537
  },
  {
   "metadata": {
    "ExecuteTime": {
     "end_time": "2024-04-22T11:28:09.900199Z",
     "start_time": "2024-04-22T11:28:09.890570Z"
    }
   },
   "cell_type": "code",
   "source": [
    "stat, p_value_12 = ttest_ind(AMB_PA['osteoporosis'], AMB_PA_MECVV['osteoporosis'], equal_var= False)\n",
    "print(\"P-valor entre AMB_PA i AMB_PA_MECVV\", p_value_12)"
   ],
   "id": "8c14505ff3b3c8c8",
   "outputs": [
    {
     "name": "stdout",
     "output_type": "stream",
     "text": [
      "P-valor entre AMB_PA i AMB_PA_MECVV nan\n"
     ]
    }
   ],
   "execution_count": 538
  },
  {
   "metadata": {
    "ExecuteTime": {
     "end_time": "2024-04-22T11:28:10.343360Z",
     "start_time": "2024-04-22T11:28:10.331751Z"
    }
   },
   "cell_type": "code",
   "source": [
    "stat, p_value_13 = ttest_ind(AMB_PA['osteoporosis'], SENSE_PA['osteoporosis'], equal_var= False)\n",
    "print(\"P-valor entre AMB_PA i SENSE_PA\", p_value_13)"
   ],
   "id": "b5cf3824f0cfce6",
   "outputs": [
    {
     "name": "stdout",
     "output_type": "stream",
     "text": [
      "P-valor entre AMB_PA i SENSE_PA nan\n"
     ]
    }
   ],
   "execution_count": 539
  },
  {
   "metadata": {
    "ExecuteTime": {
     "end_time": "2024-04-22T11:28:10.564949Z",
     "start_time": "2024-04-22T11:28:10.556703Z"
    }
   },
   "cell_type": "code",
   "source": [
    "stat, p_value_23 = ttest_ind(AMB_PA_MECVV['osteoporosis'], SENSE_PA['osteoporosis'], equal_var= False)\n",
    "print(\"P-valor entre AMB_PA_MECVV i SENSE_PA\", p_value_23)"
   ],
   "id": "8e5be9d9391c1f70",
   "outputs": [
    {
     "name": "stdout",
     "output_type": "stream",
     "text": [
      "P-valor entre AMB_PA_MECVV i SENSE_PA nan\n"
     ]
    }
   ],
   "execution_count": 540
  },
  {
   "metadata": {},
   "cell_type": "markdown",
   "source": "## Sarcopènia",
   "id": "35ba4b3163204f8f"
  },
  {
   "metadata": {
    "ExecuteTime": {
     "end_time": "2024-04-22T11:28:10.986777Z",
     "start_time": "2024-04-22T11:28:10.977091Z"
    }
   },
   "cell_type": "code",
   "source": [
    "sarc_AMB_PA= (AMB_PA['sarcopenia'] == 1.0).mean() * 100\n",
    "print(f\"Percentatge de sarcopènia: {sarc_AMB_PA:.2f}%\")"
   ],
   "id": "2dc59c7080dd50bc",
   "outputs": [
    {
     "name": "stdout",
     "output_type": "stream",
     "text": [
      "Percentatge de sarcopènia: 0.00%\n"
     ]
    }
   ],
   "execution_count": 541
  },
  {
   "metadata": {
    "ExecuteTime": {
     "end_time": "2024-04-22T11:28:11.258137Z",
     "start_time": "2024-04-22T11:28:11.249520Z"
    }
   },
   "cell_type": "code",
   "source": [
    "sarc_AMB_PA_MECVV= (AMB_PA_MECVV['sarcopenia'] == 1.0).mean() * 100\n",
    "print(f\"Percentatge de sarcopènia: {sarc_AMB_PA_MECVV:.2f}%\")"
   ],
   "id": "f4cd16f08eac0ddb",
   "outputs": [
    {
     "name": "stdout",
     "output_type": "stream",
     "text": [
      "Percentatge de sarcopènia: 10.00%\n"
     ]
    }
   ],
   "execution_count": 542
  },
  {
   "metadata": {
    "ExecuteTime": {
     "end_time": "2024-04-22T11:28:11.727426Z",
     "start_time": "2024-04-22T11:28:11.684362Z"
    }
   },
   "cell_type": "code",
   "source": [
    "sarc_SENSE_PA= (SENSE_PA['sarcopenia'] == 1.0).mean() * 100\n",
    "print(f\"Percentatge de sarcopènia: {sarc_SENSE_PA:.2f}%\")"
   ],
   "id": "244c4f6987003814",
   "outputs": [
    {
     "name": "stdout",
     "output_type": "stream",
     "text": [
      "Percentatge de sarcopènia: 4.08%\n"
     ]
    }
   ],
   "execution_count": 543
  },
  {
   "metadata": {},
   "cell_type": "markdown",
   "source": "#### Pvalor",
   "id": "89f3f7bdbee9d96d"
  },
  {
   "metadata": {},
   "cell_type": "markdown",
   "source": "##### Normalitat",
   "id": "211f5c215b14bcfb"
  },
  {
   "metadata": {
    "ExecuteTime": {
     "end_time": "2024-04-22T11:28:11.975425Z",
     "start_time": "2024-04-22T11:28:11.966130Z"
    }
   },
   "cell_type": "code",
   "source": [
    "stat, p_value = shapiro(AMB_PA['sarcopenia'])\n",
    "print(f\"Estadístic W = {stat:.4f}\")\n",
    "print(f\"Valor p = {p_value:.4f}\")\n",
    "\n",
    "alpha = 0.05\n",
    "if p_value < alpha:\n",
    "    print(\"El nombre de files no segueix una distribució normal.\")\n",
    "else:\n",
    "    print(\"El nombre de files segueix una distribució normal\")"
   ],
   "id": "41853aa064104ee9",
   "outputs": [
    {
     "name": "stdout",
     "output_type": "stream",
     "text": [
      "Estadístic W = 1.0000\n",
      "Valor p = 1.0000\n",
      "El nombre de files segueix una distribució normal\n"
     ]
    }
   ],
   "execution_count": 544
  },
  {
   "metadata": {
    "ExecuteTime": {
     "end_time": "2024-04-22T11:28:12.430704Z",
     "start_time": "2024-04-22T11:28:12.424141Z"
    }
   },
   "cell_type": "code",
   "source": [
    "stat, p_value = shapiro(AMB_PA_MECVV['sarcopenia'])\n",
    "print(f\"Estadístic W = {stat:.4f}\")\n",
    "print(f\"Valor p = {p_value:.4f}\")\n",
    "\n",
    "alpha = 0.05\n",
    "if p_value < alpha:\n",
    "    print(\"El nombre de files no segueix una distribució normal.\")\n",
    "else:\n",
    "    print(\"El nombre de files segueix una distribució normal\")"
   ],
   "id": "819daed34f463c5d",
   "outputs": [
    {
     "name": "stdout",
     "output_type": "stream",
     "text": [
      "Estadístic W = 0.3657\n",
      "Valor p = 0.0000\n",
      "El nombre de files no segueix una distribució normal.\n"
     ]
    }
   ],
   "execution_count": 545
  },
  {
   "metadata": {
    "ExecuteTime": {
     "end_time": "2024-04-22T11:28:12.983411Z",
     "start_time": "2024-04-22T11:28:12.977745Z"
    }
   },
   "cell_type": "code",
   "source": [
    "stat, p_value = shapiro(SENSE_PA['sarcopenia'])\n",
    "print(f\"Estadístic W = {stat:.4f}\")\n",
    "print(f\"Valor p = {p_value:.4f}\")\n",
    "\n",
    "alpha = 0.05\n",
    "if p_value < alpha:\n",
    "    print(\"El nombre de files no segueix una distribució normal.\")\n",
    "else:\n",
    "    print(\"El nombre de files segueix una distribució normal\")"
   ],
   "id": "6cba774cd30a32c1",
   "outputs": [
    {
     "name": "stdout",
     "output_type": "stream",
     "text": [
      "Estadístic W = 0.2008\n",
      "Valor p = 0.0000\n",
      "El nombre de files no segueix una distribució normal.\n"
     ]
    }
   ],
   "execution_count": 546
  },
  {
   "metadata": {
    "ExecuteTime": {
     "end_time": "2024-04-22T11:28:13.377554Z",
     "start_time": "2024-04-22T11:28:13.369062Z"
    }
   },
   "cell_type": "code",
   "source": [
    "stat, p_value_12 = mannwhitneyu(AMB_PA['sarcopenia'], AMB_PA_MECVV['sarcopenia'], alternative='two-sided')\n",
    "print(\"P-valor entre AMB_PA i AMB_PA_MECVV\", p_value_12)"
   ],
   "id": "313be6964130b7aa",
   "outputs": [
    {
     "name": "stdout",
     "output_type": "stream",
     "text": [
      "P-valor entre AMB_PA i AMB_PA_MECVV 0.21976847950216105\n"
     ]
    }
   ],
   "execution_count": 547
  },
  {
   "metadata": {
    "ExecuteTime": {
     "end_time": "2024-04-22T11:28:13.818998Z",
     "start_time": "2024-04-22T11:28:13.811399Z"
    }
   },
   "cell_type": "code",
   "source": [
    "stat, p_value_13 = mannwhitneyu(AMB_PA['sarcopenia'], SENSE_PA['sarcopenia'], alternative='two-sided')\n",
    "print(\"P-valor entre AMB_PA i SENSE_PA\", p_value_13)"
   ],
   "id": "311f77406d30370b",
   "outputs": [
    {
     "name": "stdout",
     "output_type": "stream",
     "text": [
      "P-valor entre AMB_PA i SENSE_PA 0.41519527301502746\n"
     ]
    }
   ],
   "execution_count": 548
  },
  {
   "metadata": {
    "ExecuteTime": {
     "end_time": "2024-04-22T11:28:14.201193Z",
     "start_time": "2024-04-22T11:28:14.192373Z"
    }
   },
   "cell_type": "code",
   "source": [
    "stat, p_value_23 = mannwhitneyu(AMB_PA_MECVV['sarcopenia'], SENSE_PA['sarcopenia'], alternative='two-sided')\n",
    "print(\"P-valor entre AMB_PA_MECVV i SENSE_PA\", p_value_23)"
   ],
   "id": "2fd5fff672c1e53",
   "outputs": [
    {
     "name": "stdout",
     "output_type": "stream",
     "text": [
      "P-valor entre AMB_PA_MECVV i SENSE_PA 0.45734646700671056\n"
     ]
    }
   ],
   "execution_count": 549
  },
  {
   "metadata": {},
   "cell_type": "markdown",
   "source": "## Trastorns del son",
   "id": "f41eecfcc7117fb8"
  },
  {
   "metadata": {
    "ExecuteTime": {
     "end_time": "2024-04-22T11:28:14.679420Z",
     "start_time": "2024-04-22T11:28:14.671187Z"
    }
   },
   "cell_type": "code",
   "source": [
    "ts_AMB_PA= (AMB_PA['problsueño'] == 1.0).mean() * 100\n",
    "print(f\"Percentatge de trastorns del son: {ts_AMB_PA:.2f}%\")"
   ],
   "id": "cb850aac92c63822",
   "outputs": [
    {
     "name": "stdout",
     "output_type": "stream",
     "text": [
      "Percentatge de trastorns del son: 0.00%\n"
     ]
    }
   ],
   "execution_count": 550
  },
  {
   "metadata": {
    "ExecuteTime": {
     "end_time": "2024-04-22T11:28:15.042933Z",
     "start_time": "2024-04-22T11:28:15.038296Z"
    }
   },
   "cell_type": "code",
   "source": [
    "ts_AMB_PA_MECVV= (AMB_PA_MECVV['problsueño'] == 1.0).mean() * 100\n",
    "print(f\"Percentatge de trastorns del son: {ts_AMB_PA_MECVV:.2f}%\")"
   ],
   "id": "2879ba619f21dd9",
   "outputs": [
    {
     "name": "stdout",
     "output_type": "stream",
     "text": [
      "Percentatge de trastorns del son: 0.00%\n"
     ]
    }
   ],
   "execution_count": 551
  },
  {
   "metadata": {
    "ExecuteTime": {
     "end_time": "2024-04-22T11:28:15.538006Z",
     "start_time": "2024-04-22T11:28:15.531752Z"
    }
   },
   "cell_type": "code",
   "source": [
    "ts_SENSE_PA= (SENSE_PA['problsueño'] == 1.0).mean() * 100\n",
    "print(f\"Percentatge de trastorns del son: {ts_SENSE_PA:.2f}%\")"
   ],
   "id": "dd0194dec4acdb86",
   "outputs": [
    {
     "name": "stdout",
     "output_type": "stream",
     "text": [
      "Percentatge de trastorns del son: 0.00%\n"
     ]
    }
   ],
   "execution_count": 552
  },
  {
   "metadata": {},
   "cell_type": "markdown",
   "source": "#### Pvalor",
   "id": "19dac29e093145f8"
  },
  {
   "metadata": {},
   "cell_type": "markdown",
   "source": "##### Normalitat",
   "id": "a0e8b431b959bbf1"
  },
  {
   "metadata": {
    "ExecuteTime": {
     "end_time": "2024-04-22T11:28:15.822632Z",
     "start_time": "2024-04-22T11:28:15.814292Z"
    }
   },
   "cell_type": "code",
   "source": [
    "stat, p_value = shapiro(AMB_PA['problsueño'])\n",
    "print(f\"Estadístic W = {stat:.4f}\")\n",
    "print(f\"Valor p = {p_value:.4f}\")\n",
    "\n",
    "alpha = 0.05\n",
    "if p_value < alpha:\n",
    "    print(\"El nombre de files no segueix una distribució normal.\")\n",
    "else:\n",
    "    print(\"El nombre de files segueix una distribució normal\")"
   ],
   "id": "16296bc5aaed316f",
   "outputs": [
    {
     "name": "stdout",
     "output_type": "stream",
     "text": [
      "Estadístic W = 1.0000\n",
      "Valor p = 1.0000\n",
      "El nombre de files segueix una distribució normal\n"
     ]
    }
   ],
   "execution_count": 553
  },
  {
   "metadata": {
    "ExecuteTime": {
     "end_time": "2024-04-22T11:28:16.233354Z",
     "start_time": "2024-04-22T11:28:16.221527Z"
    }
   },
   "cell_type": "code",
   "source": [
    "stat, p_value = shapiro(AMB_PA_MECVV['problsueño'])\n",
    "print(f\"Estadístic W = {stat:.4f}\")\n",
    "print(f\"Valor p = {p_value:.4f}\")\n",
    "\n",
    "alpha = 0.05\n",
    "if p_value < alpha:\n",
    "    print(\"El nombre de files no segueix una distribució normal.\")\n",
    "else:\n",
    "    print(\"El nombre de files segueix una distribució normal\")"
   ],
   "id": "f8e7ea2d4eb04180",
   "outputs": [
    {
     "name": "stdout",
     "output_type": "stream",
     "text": [
      "Estadístic W = 1.0000\n",
      "Valor p = 1.0000\n",
      "El nombre de files segueix una distribució normal\n"
     ]
    }
   ],
   "execution_count": 554
  },
  {
   "metadata": {
    "ExecuteTime": {
     "end_time": "2024-04-22T11:28:16.622798Z",
     "start_time": "2024-04-22T11:28:16.614803Z"
    }
   },
   "cell_type": "code",
   "source": [
    "stat, p_value = shapiro(SENSE_PA['problsueño'])\n",
    "print(f\"Estadístic W = {stat:.4f}\")\n",
    "print(f\"Valor p = {p_value:.4f}\")\n",
    "\n",
    "alpha = 0.05\n",
    "if p_value < alpha:\n",
    "    print(\"El nombre de files no segueix una distribució normal.\")\n",
    "else:\n",
    "    print(\"El nombre de files segueix una distribució normal\")"
   ],
   "id": "f33fd2e6c17c27b6",
   "outputs": [
    {
     "name": "stdout",
     "output_type": "stream",
     "text": [
      "Estadístic W = 1.0000\n",
      "Valor p = 1.0000\n",
      "El nombre de files segueix una distribució normal\n"
     ]
    }
   ],
   "execution_count": 555
  },
  {
   "metadata": {
    "ExecuteTime": {
     "end_time": "2024-04-22T11:28:17.044039Z",
     "start_time": "2024-04-22T11:28:16.997099Z"
    }
   },
   "cell_type": "code",
   "source": [
    "stat, p_value_12 = ttest_ind(AMB_PA['problsueño'], AMB_PA_MECVV['problsueño'], equal_var=False)\n",
    "print(\"P-valor entre AMB_PA i AMB_PA_MECVV\", p_value_12)"
   ],
   "id": "99f759bffcb3e331",
   "outputs": [
    {
     "name": "stdout",
     "output_type": "stream",
     "text": [
      "P-valor entre AMB_PA i AMB_PA_MECVV nan\n"
     ]
    }
   ],
   "execution_count": 556
  },
  {
   "metadata": {
    "ExecuteTime": {
     "end_time": "2024-04-22T11:28:17.328813Z",
     "start_time": "2024-04-22T11:28:17.280969Z"
    }
   },
   "cell_type": "code",
   "source": [
    "stat, p_value_13 = ttest_ind(AMB_PA['problsueño'], SENSE_PA['problsueño'], equal_var=False)\n",
    "print(\"P-valor entre AMB_PA i SENSE_PA\", p_value_13)"
   ],
   "id": "5c985a181a2de62f",
   "outputs": [
    {
     "name": "stdout",
     "output_type": "stream",
     "text": [
      "P-valor entre AMB_PA i SENSE_PA nan\n"
     ]
    }
   ],
   "execution_count": 557
  },
  {
   "metadata": {
    "ExecuteTime": {
     "end_time": "2024-04-22T11:28:17.664270Z",
     "start_time": "2024-04-22T11:28:17.616012Z"
    }
   },
   "cell_type": "code",
   "source": [
    "stat, p_value_23 = ttest_ind(AMB_PA_MECVV['problsueño'], SENSE_PA['problsueño'], equal_var=False)\n",
    "print(\"P-valor entre AMB_PA_MECVV i SENSE_PA\", p_value_23)"
   ],
   "id": "81a2ca03796461ce",
   "outputs": [
    {
     "name": "stdout",
     "output_type": "stream",
     "text": [
      "P-valor entre AMB_PA_MECVV i SENSE_PA nan\n"
     ]
    }
   ],
   "execution_count": 558
  },
  {
   "metadata": {},
   "cell_type": "markdown",
   "source": "## Dolor crònic",
   "id": "e9f22902aac5d32c"
  },
  {
   "metadata": {
    "ExecuteTime": {
     "end_time": "2024-04-22T11:28:18.119323Z",
     "start_time": "2024-04-22T11:28:18.107936Z"
    }
   },
   "cell_type": "code",
   "source": [
    "dc_AMB_PA= (AMB_PA['dolor_cron'] == 1.0).mean() * 100\n",
    "print(f\"Percentatge de dolor crònic: {dc_AMB_PA:.2f}%\")"
   ],
   "id": "f05d2f7a214d0e82",
   "outputs": [
    {
     "name": "stdout",
     "output_type": "stream",
     "text": [
      "Percentatge de dolor crònic: 0.00%\n"
     ]
    }
   ],
   "execution_count": 559
  },
  {
   "metadata": {
    "ExecuteTime": {
     "end_time": "2024-04-22T11:28:18.426798Z",
     "start_time": "2024-04-22T11:28:18.380307Z"
    }
   },
   "cell_type": "code",
   "source": [
    "dc_AMB_PA_MECVV= (AMB_PA_MECVV['dolor_cron'] == 1.0).mean() * 100\n",
    "print(f\"Percentatge de dolor crònic: {dc_AMB_PA_MECVV:.2f}%\")"
   ],
   "id": "f30beb6300be5f9c",
   "outputs": [
    {
     "name": "stdout",
     "output_type": "stream",
     "text": [
      "Percentatge de dolor crònic: 0.00%\n"
     ]
    }
   ],
   "execution_count": 560
  },
  {
   "metadata": {
    "ExecuteTime": {
     "end_time": "2024-04-22T11:28:18.805774Z",
     "start_time": "2024-04-22T11:28:18.793306Z"
    }
   },
   "cell_type": "code",
   "source": [
    "dc_SENSE_PA= (SENSE_PA['dolor_cron'] == 1.0).mean() * 100\n",
    "print(f\"Percentatge de dolor crònic: {dc_SENSE_PA:.2f}%\")"
   ],
   "id": "1ac2254ca76f0a08",
   "outputs": [
    {
     "name": "stdout",
     "output_type": "stream",
     "text": [
      "Percentatge de dolor crònic: 0.00%\n"
     ]
    }
   ],
   "execution_count": 561
  },
  {
   "metadata": {},
   "cell_type": "markdown",
   "source": "#### Pvalor",
   "id": "33b7bb39e9421e38"
  },
  {
   "metadata": {},
   "cell_type": "markdown",
   "source": "##### Normalitat",
   "id": "88c69d09418d53ea"
  },
  {
   "metadata": {
    "ExecuteTime": {
     "end_time": "2024-04-22T11:28:19.126641Z",
     "start_time": "2024-04-22T11:28:19.087667Z"
    }
   },
   "cell_type": "code",
   "source": [
    "stat, p_value = shapiro(AMB_PA['dolor_cron'])\n",
    "print(f\"Estadístic W = {stat:.4f}\")\n",
    "print(f\"Valor p = {p_value:.4f}\")\n",
    "\n",
    "alpha = 0.05\n",
    "if p_value < alpha:\n",
    "    print(\"El nombre de files no segueix una distribució normal.\")\n",
    "else:\n",
    "    print(\"El nombre de files segueix una distribució normal\")"
   ],
   "id": "34909e3d61ed7d9c",
   "outputs": [
    {
     "name": "stdout",
     "output_type": "stream",
     "text": [
      "Estadístic W = 1.0000\n",
      "Valor p = 1.0000\n",
      "El nombre de files segueix una distribució normal\n"
     ]
    }
   ],
   "execution_count": 562
  },
  {
   "metadata": {
    "ExecuteTime": {
     "end_time": "2024-04-22T11:28:19.590782Z",
     "start_time": "2024-04-22T11:28:19.581579Z"
    }
   },
   "cell_type": "code",
   "source": [
    "stat, p_value = shapiro(AMB_PA_MECVV['dolor_cron'])\n",
    "print(f\"Estadístic W = {stat:.4f}\")\n",
    "print(f\"Valor p = {p_value:.4f}\")\n",
    "\n",
    "alpha = 0.05\n",
    "if p_value < alpha:\n",
    "    print(\"El nombre de files no segueix una distribució normal.\")\n",
    "else:\n",
    "    print(\"El nombre de files segueix una distribució normal\")"
   ],
   "id": "72922e2c002b15f1",
   "outputs": [
    {
     "name": "stdout",
     "output_type": "stream",
     "text": [
      "Estadístic W = 1.0000\n",
      "Valor p = 1.0000\n",
      "El nombre de files segueix una distribució normal\n"
     ]
    }
   ],
   "execution_count": 563
  },
  {
   "metadata": {
    "ExecuteTime": {
     "end_time": "2024-04-22T11:28:19.838451Z",
     "start_time": "2024-04-22T11:28:19.831659Z"
    }
   },
   "cell_type": "code",
   "source": [
    "stat, p_value = shapiro(SENSE_PA['dolor_cron'])\n",
    "print(f\"Estadístic W = {stat:.4f}\")\n",
    "print(f\"Valor p = {p_value:.4f}\")\n",
    "\n",
    "alpha = 0.05\n",
    "if p_value < alpha:\n",
    "    print(\"El nombre de files no segueix una distribució normal.\")\n",
    "else:\n",
    "    print(\"El nombre de files segueix una distribució normal\")"
   ],
   "id": "c6125b891a3e9c4c",
   "outputs": [
    {
     "name": "stdout",
     "output_type": "stream",
     "text": [
      "Estadístic W = 1.0000\n",
      "Valor p = 1.0000\n",
      "El nombre de files segueix una distribució normal\n"
     ]
    }
   ],
   "execution_count": 564
  },
  {
   "metadata": {
    "ExecuteTime": {
     "end_time": "2024-04-22T11:28:20.251480Z",
     "start_time": "2024-04-22T11:28:20.241483Z"
    }
   },
   "cell_type": "code",
   "source": [
    "stat, p_value_12 = ttest_ind(AMB_PA['dolor_cron'], AMB_PA_MECVV['dolor_cron'], equal_var=False)\n",
    "print(\"P-valor entre AMB_PA i AMB_PA_MECVV\", p_value_12)"
   ],
   "id": "19fc73c2a012e9ae",
   "outputs": [
    {
     "name": "stdout",
     "output_type": "stream",
     "text": [
      "P-valor entre AMB_PA i AMB_PA_MECVV nan\n"
     ]
    }
   ],
   "execution_count": 565
  },
  {
   "metadata": {
    "ExecuteTime": {
     "end_time": "2024-04-22T11:28:20.509188Z",
     "start_time": "2024-04-22T11:28:20.498635Z"
    }
   },
   "cell_type": "code",
   "source": [
    "stat, p_value_13 = ttest_ind(AMB_PA['dolor_cron'], SENSE_PA['dolor_cron'], equal_var=False)\n",
    "print(\"P-valor entre AMB_PA i SENSE_PA\", p_value_13)"
   ],
   "id": "d21a4b80d01ac7ea",
   "outputs": [
    {
     "name": "stdout",
     "output_type": "stream",
     "text": [
      "P-valor entre AMB_PA i SENSE_PA nan\n"
     ]
    }
   ],
   "execution_count": 566
  },
  {
   "metadata": {
    "ExecuteTime": {
     "end_time": "2024-04-22T11:28:20.898771Z",
     "start_time": "2024-04-22T11:28:20.888574Z"
    }
   },
   "cell_type": "code",
   "source": [
    "stat, p_value_23 = ttest_ind(AMB_PA_MECVV['dolor_cron'], SENSE_PA['dolor_cron'], equal_var=False)\n",
    "print(\"P-valor entre AMB_PA_MECVV i SENSE_PA\", p_value_23)"
   ],
   "id": "48fefb00c2ae1d40",
   "outputs": [
    {
     "name": "stdout",
     "output_type": "stream",
     "text": [
      "P-valor entre AMB_PA_MECVV i SENSE_PA nan\n"
     ]
    }
   ],
   "execution_count": 567
  },
  {
   "metadata": {},
   "cell_type": "markdown",
   "source": "## Iatrogènic",
   "id": "e4a4ace86ca41600"
  },
  {
   "metadata": {
    "ExecuteTime": {
     "end_time": "2024-04-22T11:28:21.270632Z",
     "start_time": "2024-04-22T11:28:21.260722Z"
    }
   },
   "cell_type": "code",
   "source": [
    "iatr_AMB_PA= (AMB_PA['iatrogenico'] == 1.0).mean() * 100\n",
    "print(f\"Percentatge de iatrogènic: {iatr_AMB_PA:.2f}%\")"
   ],
   "id": "ce5326efc8d1cbef",
   "outputs": [
    {
     "name": "stdout",
     "output_type": "stream",
     "text": [
      "Percentatge de iatrogènic: 0.00%\n"
     ]
    }
   ],
   "execution_count": 568
  },
  {
   "metadata": {
    "ExecuteTime": {
     "end_time": "2024-04-22T11:28:21.789189Z",
     "start_time": "2024-04-22T11:28:21.783367Z"
    }
   },
   "cell_type": "code",
   "source": [
    "iatr_AMB_PA_MECVV= (AMB_PA_MECVV['iatrogenico'] == 1.0).mean() * 100\n",
    "print(f\"Percentatge de iatrogènic: {iatr_AMB_PA_MECVV:.2f}%\")"
   ],
   "id": "3b93f7c7a1f8390a",
   "outputs": [
    {
     "name": "stdout",
     "output_type": "stream",
     "text": [
      "Percentatge de iatrogènic: 0.00%\n"
     ]
    }
   ],
   "execution_count": 569
  },
  {
   "metadata": {
    "ExecuteTime": {
     "end_time": "2024-04-22T11:28:22.230202Z",
     "start_time": "2024-04-22T11:28:22.221413Z"
    }
   },
   "cell_type": "code",
   "source": [
    "iatr_SENSE_PA= (SENSE_PA['iatrogenico'] == 1.0).mean() * 100\n",
    "print(f\"Percentatge de iatrogènic: {iatr_SENSE_PA:.2f}%\")"
   ],
   "id": "6e91605bdf68ebe6",
   "outputs": [
    {
     "name": "stdout",
     "output_type": "stream",
     "text": [
      "Percentatge de iatrogènic: 0.00%\n"
     ]
    }
   ],
   "execution_count": 570
  },
  {
   "metadata": {},
   "cell_type": "markdown",
   "source": "#### Pvalor",
   "id": "c7c4fb9f8288c644"
  },
  {
   "metadata": {},
   "cell_type": "markdown",
   "source": "##### Normalitat",
   "id": "81f5e86f8857903f"
  },
  {
   "metadata": {
    "ExecuteTime": {
     "end_time": "2024-04-22T11:28:22.801054Z",
     "start_time": "2024-04-22T11:28:22.795170Z"
    }
   },
   "cell_type": "code",
   "source": [
    "stat, p_value = shapiro(AMB_PA['iatrogenico'])\n",
    "print(f\"Estadístic W = {stat:.4f}\")\n",
    "print(f\"Valor p = {p_value:.4f}\")\n",
    "\n",
    "alpha = 0.05\n",
    "if p_value < alpha:\n",
    "    print(\"El nombre de files no segueix una distribució normal.\")\n",
    "else:\n",
    "    print(\"El nombre de files segueix una distribució normal\")"
   ],
   "id": "6c64b9df4158a914",
   "outputs": [
    {
     "name": "stdout",
     "output_type": "stream",
     "text": [
      "Estadístic W = 1.0000\n",
      "Valor p = 1.0000\n",
      "El nombre de files segueix una distribució normal\n"
     ]
    }
   ],
   "execution_count": 571
  },
  {
   "metadata": {
    "ExecuteTime": {
     "end_time": "2024-04-22T11:28:23.113614Z",
     "start_time": "2024-04-22T11:28:23.107326Z"
    }
   },
   "cell_type": "code",
   "source": [
    "stat, p_value = shapiro(AMB_PA_MECVV['iatrogenico'])\n",
    "print(f\"Estadístic W = {stat:.4f}\")\n",
    "print(f\"Valor p = {p_value:.4f}\")\n",
    "\n",
    "alpha = 0.05\n",
    "if p_value < alpha:\n",
    "    print(\"El nombre de files no segueix una distribució normal.\")\n",
    "else:\n",
    "    print(\"El nombre de files segueix una distribució normal\")"
   ],
   "id": "7c2fd9546399c925",
   "outputs": [
    {
     "name": "stdout",
     "output_type": "stream",
     "text": [
      "Estadístic W = 1.0000\n",
      "Valor p = 1.0000\n",
      "El nombre de files segueix una distribució normal\n"
     ]
    }
   ],
   "execution_count": 572
  },
  {
   "metadata": {
    "ExecuteTime": {
     "end_time": "2024-04-22T11:28:23.526100Z",
     "start_time": "2024-04-22T11:28:23.514963Z"
    }
   },
   "cell_type": "code",
   "source": [
    "stat, p_value = shapiro(SENSE_PA['iatrogenico'])\n",
    "print(f\"Estadístic W = {stat:.4f}\")\n",
    "print(f\"Valor p = {p_value:.4f}\")\n",
    "\n",
    "alpha = 0.05\n",
    "if p_value < alpha:\n",
    "    print(\"El nombre de files no segueix una distribució normal.\")\n",
    "else:\n",
    "    print(\"El nombre de files segueix una distribució normal\")"
   ],
   "id": "2b2499f9f45f6b7e",
   "outputs": [
    {
     "name": "stdout",
     "output_type": "stream",
     "text": [
      "Estadístic W = 1.0000\n",
      "Valor p = 1.0000\n",
      "El nombre de files segueix una distribució normal\n"
     ]
    }
   ],
   "execution_count": 573
  },
  {
   "metadata": {
    "ExecuteTime": {
     "end_time": "2024-04-22T11:28:24.005198Z",
     "start_time": "2024-04-22T11:28:23.960800Z"
    }
   },
   "cell_type": "code",
   "source": [
    "stat, p_value_12 = ttest_ind(AMB_PA['iatrogenico'], AMB_PA_MECVV['iatrogenico'], equal_var=False)\n",
    "print(\"P-valor entre AMB_PA i AMB_PA_MECVV\", p_value_12)"
   ],
   "id": "a6d4581f66ee1955",
   "outputs": [
    {
     "name": "stdout",
     "output_type": "stream",
     "text": [
      "P-valor entre AMB_PA i AMB_PA_MECVV nan\n"
     ]
    }
   ],
   "execution_count": 574
  },
  {
   "metadata": {
    "ExecuteTime": {
     "end_time": "2024-04-22T11:28:24.222426Z",
     "start_time": "2024-04-22T11:28:24.209913Z"
    }
   },
   "cell_type": "code",
   "source": [
    "stat, p_value_13 = ttest_ind(AMB_PA['iatrogenico'], SENSE_PA['iatrogenico'], equal_var=False)\n",
    "print(\"P-valor entre AMB_PA i SENSE_PA\", p_value_13)"
   ],
   "id": "a040639471d4f4cf",
   "outputs": [
    {
     "name": "stdout",
     "output_type": "stream",
     "text": [
      "P-valor entre AMB_PA i SENSE_PA nan\n"
     ]
    }
   ],
   "execution_count": 575
  },
  {
   "metadata": {
    "ExecuteTime": {
     "end_time": "2024-04-22T11:28:24.702556Z",
     "start_time": "2024-04-22T11:28:24.689713Z"
    }
   },
   "cell_type": "code",
   "source": [
    "stat, p_value_23 = ttest_ind(AMB_PA_MECVV['iatrogenico'], SENSE_PA['iatrogenico'], equal_var=False)\n",
    "print(\"P-valor entre AMB_PA_MECVV i SENSE_PA\", p_value_23)"
   ],
   "id": "31e55ef13ee10972",
   "outputs": [
    {
     "name": "stdout",
     "output_type": "stream",
     "text": [
      "P-valor entre AMB_PA_MECVV i SENSE_PA nan\n"
     ]
    }
   ],
   "execution_count": 576
  },
  {
   "metadata": {},
   "cell_type": "markdown",
   "source": "## Restrenyiment",
   "id": "db8d96a1cf0b32f4"
  },
  {
   "metadata": {
    "ExecuteTime": {
     "end_time": "2024-04-22T11:28:25.085464Z",
     "start_time": "2024-04-22T11:28:25.077169Z"
    }
   },
   "cell_type": "code",
   "source": [
    "est_AMB_PA= (AMB_PA['estreñimiento'] == 1.0).mean() * 100\n",
    "print(f\"Percentatge de restrenyiment: {est_AMB_PA:.2f}%\")"
   ],
   "id": "dc16c6f9e735fbb2",
   "outputs": [
    {
     "name": "stdout",
     "output_type": "stream",
     "text": [
      "Percentatge de restrenyiment: 0.00%\n"
     ]
    }
   ],
   "execution_count": 577
  },
  {
   "metadata": {
    "ExecuteTime": {
     "end_time": "2024-04-22T11:28:25.377262Z",
     "start_time": "2024-04-22T11:28:25.368666Z"
    }
   },
   "cell_type": "code",
   "source": [
    "est_AMB_PA_MECVV= (AMB_PA_MECVV['estreñimiento'] == 1.0).mean() * 100\n",
    "print(f\"Percentatge de restrenyiment: {est_AMB_PA_MECVV:.2f}%\")"
   ],
   "id": "b3bf84a44b2be1a",
   "outputs": [
    {
     "name": "stdout",
     "output_type": "stream",
     "text": [
      "Percentatge de restrenyiment: 0.00%\n"
     ]
    }
   ],
   "execution_count": 578
  },
  {
   "metadata": {
    "ExecuteTime": {
     "end_time": "2024-04-22T11:28:25.825862Z",
     "start_time": "2024-04-22T11:28:25.816114Z"
    }
   },
   "cell_type": "code",
   "source": [
    "est_SENSE_PA= (SENSE_PA['estreñimiento'] == 1.0).mean() * 100\n",
    "print(f\"Percentatge de restrenyiment: {est_SENSE_PA:.2f}%\")"
   ],
   "id": "a2ac461b783cef25",
   "outputs": [
    {
     "name": "stdout",
     "output_type": "stream",
     "text": [
      "Percentatge de restrenyiment: 0.00%\n"
     ]
    }
   ],
   "execution_count": 579
  },
  {
   "metadata": {},
   "cell_type": "markdown",
   "source": "#### Pvalor",
   "id": "807133bfa1d01063"
  },
  {
   "metadata": {},
   "cell_type": "markdown",
   "source": "##### Normalitat",
   "id": "2ce2df8492540a53"
  },
  {
   "metadata": {
    "ExecuteTime": {
     "end_time": "2024-04-22T11:28:26.125788Z",
     "start_time": "2024-04-22T11:28:26.117907Z"
    }
   },
   "cell_type": "code",
   "source": [
    "stat, p_value = shapiro(AMB_PA['estreñimiento'])\n",
    "print(f\"Estadístic W = {stat:.4f}\")\n",
    "print(f\"Valor p = {p_value:.4f}\")\n",
    "\n",
    "alpha = 0.05\n",
    "if p_value < alpha:\n",
    "    print(\"El nombre de files no segueix una distribució normal.\")\n",
    "else:\n",
    "    print(\"El nombre de files segueix una distribució normal\")"
   ],
   "id": "6ec0f291391c189",
   "outputs": [
    {
     "name": "stdout",
     "output_type": "stream",
     "text": [
      "Estadístic W = 1.0000\n",
      "Valor p = 1.0000\n",
      "El nombre de files segueix una distribució normal\n"
     ]
    }
   ],
   "execution_count": 580
  },
  {
   "metadata": {
    "ExecuteTime": {
     "end_time": "2024-04-22T11:28:26.577265Z",
     "start_time": "2024-04-22T11:28:26.566622Z"
    }
   },
   "cell_type": "code",
   "source": [
    "stat, p_value = shapiro(AMB_PA_MECVV['estreñimiento'])\n",
    "print(f\"Estadístic W = {stat:.4f}\")\n",
    "print(f\"Valor p = {p_value:.4f}\")\n",
    "\n",
    "alpha = 0.05\n",
    "if p_value < alpha:\n",
    "    print(\"El nombre de files no segueix una distribució normal.\")\n",
    "else:\n",
    "    print(\"El nombre de files segueix una distribució normal\")"
   ],
   "id": "1b0f666c49086302",
   "outputs": [
    {
     "name": "stdout",
     "output_type": "stream",
     "text": [
      "Estadístic W = 1.0000\n",
      "Valor p = 1.0000\n",
      "El nombre de files segueix una distribució normal\n"
     ]
    }
   ],
   "execution_count": 581
  },
  {
   "metadata": {
    "ExecuteTime": {
     "end_time": "2024-04-22T11:28:26.839619Z",
     "start_time": "2024-04-22T11:28:26.832595Z"
    }
   },
   "cell_type": "code",
   "source": [
    "stat, p_value = shapiro(SENSE_PA['estreñimiento'])\n",
    "print(f\"Estadístic W = {stat:.4f}\")\n",
    "print(f\"Valor p = {p_value:.4f}\")\n",
    "\n",
    "alpha = 0.05\n",
    "if p_value < alpha:\n",
    "    print(\"El nombre de files no segueix una distribució normal.\")\n",
    "else:\n",
    "    print(\"El nombre de files segueix una distribució normal\")"
   ],
   "id": "b8d586794cba259c",
   "outputs": [
    {
     "name": "stdout",
     "output_type": "stream",
     "text": [
      "Estadístic W = 1.0000\n",
      "Valor p = 1.0000\n",
      "El nombre de files segueix una distribució normal\n"
     ]
    }
   ],
   "execution_count": 582
  },
  {
   "metadata": {
    "ExecuteTime": {
     "end_time": "2024-04-22T11:28:27.233600Z",
     "start_time": "2024-04-22T11:28:27.223628Z"
    }
   },
   "cell_type": "code",
   "source": [
    "stat, p_value_12 = ttest_ind(AMB_PA['estreñimiento'], AMB_PA_MECVV['estreñimiento'], equal_var=False)\n",
    "print(\"P-valor entre AMB_PA i AMB_PA_MECVV\", p_value_12)"
   ],
   "id": "f12edefe2b75294c",
   "outputs": [
    {
     "name": "stdout",
     "output_type": "stream",
     "text": [
      "P-valor entre AMB_PA i AMB_PA_MECVV nan\n"
     ]
    }
   ],
   "execution_count": 583
  },
  {
   "metadata": {
    "ExecuteTime": {
     "end_time": "2024-04-22T11:28:27.501248Z",
     "start_time": "2024-04-22T11:28:27.489837Z"
    }
   },
   "cell_type": "code",
   "source": [
    "stat, p_value_13 = ttest_ind(AMB_PA['estreñimiento'], SENSE_PA['estreñimiento'], equal_var=False)\n",
    "print(\"P-valor entre AMB_PA i SENSE_PA\", p_value_13)"
   ],
   "id": "50efaeac794ce53",
   "outputs": [
    {
     "name": "stdout",
     "output_type": "stream",
     "text": [
      "P-valor entre AMB_PA i SENSE_PA nan\n"
     ]
    }
   ],
   "execution_count": 584
  },
  {
   "metadata": {
    "ExecuteTime": {
     "end_time": "2024-04-22T11:28:27.899189Z",
     "start_time": "2024-04-22T11:28:27.891473Z"
    }
   },
   "cell_type": "code",
   "source": [
    "stat, p_value_23 = ttest_ind(AMB_PA_MECVV['estreñimiento'], SENSE_PA['estreñimiento'], equal_var=False)\n",
    "print(\"P-valor entre AMB_PA_MECVV i SENSE_PA\", p_value_23)"
   ],
   "id": "90d8d05f36d1bd2f",
   "outputs": [
    {
     "name": "stdout",
     "output_type": "stream",
     "text": [
      "P-valor entre AMB_PA_MECVV i SENSE_PA nan\n"
     ]
    }
   ],
   "execution_count": 585
  },
  {
   "metadata": {},
   "cell_type": "markdown",
   "source": "# Historial mèdic/comorbilitats",
   "id": "d311da4873623a2b"
  },
  {
   "metadata": {},
   "cell_type": "markdown",
   "source": "## Malalties CV",
   "id": "3d8f9f8d375849e3"
  },
  {
   "metadata": {
    "ExecuteTime": {
     "end_time": "2024-04-22T11:28:28.206572Z",
     "start_time": "2024-04-22T11:28:28.197493Z"
    }
   },
   "cell_type": "code",
   "source": [
    "cv_AMB_PA= (AMB_PA['CV'] == 1.0).mean() * 100\n",
    "print(f\"Percentatge de problemes CV: {cv_AMB_PA:.2f}%\")"
   ],
   "id": "e32cfa2a884f35ec",
   "outputs": [
    {
     "name": "stdout",
     "output_type": "stream",
     "text": [
      "Percentatge de problemes CV: 5.88%\n"
     ]
    }
   ],
   "execution_count": 586
  },
  {
   "metadata": {
    "ExecuteTime": {
     "end_time": "2024-04-22T11:28:28.592440Z",
     "start_time": "2024-04-22T11:28:28.587091Z"
    }
   },
   "cell_type": "code",
   "source": [
    "cv_AMB_PA_MECVV= (AMB_PA_MECVV['CV'] == 1.0).mean() * 100\n",
    "print(f\"Percentatge de problemes CV: {cv_AMB_PA_MECVV:.2f}%\")"
   ],
   "id": "88b79facc46de5ee",
   "outputs": [
    {
     "name": "stdout",
     "output_type": "stream",
     "text": [
      "Percentatge de problemes CV: 10.00%\n"
     ]
    }
   ],
   "execution_count": 587
  },
  {
   "metadata": {
    "ExecuteTime": {
     "end_time": "2024-04-22T11:28:28.875770Z",
     "start_time": "2024-04-22T11:28:28.869250Z"
    }
   },
   "cell_type": "code",
   "source": [
    "cv_SENSE_PA= (SENSE_PA['CV'] == 1.0).mean() * 100\n",
    "print(f\"Percentatge de problemes CV: {cv_SENSE_PA:.2f}%\")"
   ],
   "id": "69cd26f61d232d64",
   "outputs": [
    {
     "name": "stdout",
     "output_type": "stream",
     "text": [
      "Percentatge de problemes CV: 6.12%\n"
     ]
    }
   ],
   "execution_count": 588
  },
  {
   "metadata": {},
   "cell_type": "markdown",
   "source": "#### Pvalor",
   "id": "4cd96e9749196e1e"
  },
  {
   "metadata": {},
   "cell_type": "markdown",
   "source": "##### Normalitat ",
   "id": "7cdc03afbe142fec"
  },
  {
   "metadata": {
    "ExecuteTime": {
     "end_time": "2024-04-22T11:28:29.401359Z",
     "start_time": "2024-04-22T11:28:29.356584Z"
    }
   },
   "cell_type": "code",
   "source": [
    "stat, p_value = shapiro(AMB_PA['CV'])\n",
    "print(f\"Estadístic W = {stat:.4f}\")\n",
    "print(f\"Valor p = {p_value:.4f}\")\n",
    "\n",
    "alpha = 0.05\n",
    "if p_value < alpha:\n",
    "    print(\"El nombre de files no segueix una distribució normal.\")\n",
    "else:\n",
    "    print(\"El nombre de files segueix una distribució normal\")"
   ],
   "id": "50ac2eecc28b5527",
   "outputs": [
    {
     "name": "stdout",
     "output_type": "stream",
     "text": [
      "Estadístic W = 0.2622\n",
      "Valor p = 0.0000\n",
      "El nombre de files no segueix una distribució normal.\n"
     ]
    }
   ],
   "execution_count": 589
  },
  {
   "metadata": {
    "ExecuteTime": {
     "end_time": "2024-04-22T11:28:29.707930Z",
     "start_time": "2024-04-22T11:28:29.699668Z"
    }
   },
   "cell_type": "code",
   "source": [
    "stat, p_value = shapiro(AMB_PA_MECVV['CV'])\n",
    "print(f\"Estadístic W = {stat:.4f}\")\n",
    "print(f\"Valor p = {p_value:.4f}\")\n",
    "\n",
    "alpha = 0.05\n",
    "if p_value < alpha:\n",
    "    print(\"El nombre de files no segueix una distribució normal.\")\n",
    "else:\n",
    "    print(\"El nombre de files segueix una distribució normal\")"
   ],
   "id": "22011b4c30d26edb",
   "outputs": [
    {
     "name": "stdout",
     "output_type": "stream",
     "text": [
      "Estadístic W = 0.3657\n",
      "Valor p = 0.0000\n",
      "El nombre de files no segueix una distribució normal.\n"
     ]
    }
   ],
   "execution_count": 590
  },
  {
   "metadata": {
    "ExecuteTime": {
     "end_time": "2024-04-22T11:28:30.239194Z",
     "start_time": "2024-04-22T11:28:30.231902Z"
    }
   },
   "cell_type": "code",
   "source": [
    "stat, p_value = shapiro(SENSE_PA['CV'])\n",
    "print(f\"Estadístic W = {stat:.4f}\")\n",
    "print(f\"Valor p = {p_value:.4f}\")\n",
    "\n",
    "alpha = 0.05\n",
    "if p_value < alpha:\n",
    "    print(\"El nombre de files no segueix una distribució normal.\")\n",
    "else:\n",
    "    print(\"El nombre de files segueix una distribució normal\")"
   ],
   "id": "e1db160804e3a620",
   "outputs": [
    {
     "name": "stdout",
     "output_type": "stream",
     "text": [
      "Estadístic W = 0.2580\n",
      "Valor p = 0.0000\n",
      "El nombre de files no segueix una distribució normal.\n"
     ]
    }
   ],
   "execution_count": 591
  },
  {
   "metadata": {
    "ExecuteTime": {
     "end_time": "2024-04-22T11:28:31.057580Z",
     "start_time": "2024-04-22T11:28:31.042922Z"
    }
   },
   "cell_type": "code",
   "source": [
    "stat, p_value_12 = mannwhitneyu(AMB_PA['CV'], AMB_PA_MECVV['CV'], alternative='two-sided')\n",
    "print(\"P-valor entre AMB_PA i AMB_PA_MECVV\", p_value_12)"
   ],
   "id": "5f10fd063b9b5044",
   "outputs": [
    {
     "name": "stdout",
     "output_type": "stream",
     "text": [
      "P-valor entre AMB_PA i AMB_PA_MECVV 0.7400102360583588\n"
     ]
    }
   ],
   "execution_count": 592
  },
  {
   "metadata": {
    "ExecuteTime": {
     "end_time": "2024-04-22T11:28:31.307828Z",
     "start_time": "2024-04-22T11:28:31.260921Z"
    }
   },
   "cell_type": "code",
   "source": [
    "stat, p_value_13 = mannwhitneyu(AMB_PA['CV'], SENSE_PA['CV'], alternative='two-sided')\n",
    "print(\"P-valor entre AMB_PA i SENSE_PA\", p_value_13)"
   ],
   "id": "3e6ab47f2f7f38d6",
   "outputs": [
    {
     "name": "stdout",
     "output_type": "stream",
     "text": [
      "P-valor entre AMB_PA i SENSE_PA 0.9858477456716862\n"
     ]
    }
   ],
   "execution_count": 593
  },
  {
   "metadata": {
    "ExecuteTime": {
     "end_time": "2024-04-22T11:28:31.673751Z",
     "start_time": "2024-04-22T11:28:31.667096Z"
    }
   },
   "cell_type": "code",
   "source": [
    "stat, p_value_23 = mannwhitneyu(AMB_PA_MECVV['CV'], SENSE_PA['CV'], alternative='two-sided')\n",
    "print(\"P-valor entre AMB_PA_MECVV i SENSE_PA\", p_value_23)"
   ],
   "id": "c9c3b2baeeea6423",
   "outputs": [
    {
     "name": "stdout",
     "output_type": "stream",
     "text": [
      "P-valor entre AMB_PA_MECVV i SENSE_PA 0.6762982127217047\n"
     ]
    }
   ],
   "execution_count": 594
  },
  {
   "metadata": {},
   "cell_type": "markdown",
   "source": "## Malalties del cor",
   "id": "ccb034e70398680a"
  },
  {
   "metadata": {
    "ExecuteTime": {
     "end_time": "2024-04-22T11:28:31.974441Z",
     "start_time": "2024-04-22T11:28:31.967931Z"
    }
   },
   "cell_type": "code",
   "source": [
    "cora_AMB_PA= (AMB_PA['probl_corazon'] == 1.0).mean() * 100\n",
    "print(f\"Percentatge de malalties de cor: {cora_AMB_PA:.2f}%\")"
   ],
   "id": "83445fc0eafd0407",
   "outputs": [
    {
     "name": "stdout",
     "output_type": "stream",
     "text": [
      "Percentatge de malalties de cor: 11.76%\n"
     ]
    }
   ],
   "execution_count": 595
  },
  {
   "metadata": {
    "ExecuteTime": {
     "end_time": "2024-04-22T11:28:32.443073Z",
     "start_time": "2024-04-22T11:28:32.436726Z"
    }
   },
   "cell_type": "code",
   "source": [
    "cora_AMB_PA_MECVV= (AMB_PA_MECVV['probl_corazon'] == 1.0).mean() * 100\n",
    "print(f\"Percentatge de malalties de cor: {cora_AMB_PA_MECVV:.2f}%\")"
   ],
   "id": "bd7136466bd809e1",
   "outputs": [
    {
     "name": "stdout",
     "output_type": "stream",
     "text": [
      "Percentatge de malalties de cor: 10.00%\n"
     ]
    }
   ],
   "execution_count": 596
  },
  {
   "metadata": {
    "ExecuteTime": {
     "end_time": "2024-04-22T11:28:32.778867Z",
     "start_time": "2024-04-22T11:28:32.772622Z"
    }
   },
   "cell_type": "code",
   "source": [
    "cora_SENSE_PA= (SENSE_PA['probl_corazon'] == 1.0).mean() * 100\n",
    "print(f\"Percentatge de malalties de cor: {cora_SENSE_PA:.2f}%\")"
   ],
   "id": "f5a394abf4441af0",
   "outputs": [
    {
     "name": "stdout",
     "output_type": "stream",
     "text": [
      "Percentatge de malalties de cor: 14.29%\n"
     ]
    }
   ],
   "execution_count": 597
  },
  {
   "metadata": {},
   "cell_type": "markdown",
   "source": "#### Pvalor",
   "id": "a6c0069e93bb4b47"
  },
  {
   "metadata": {},
   "cell_type": "markdown",
   "source": "##### Normalitat",
   "id": "a72ee98e29b732e6"
  },
  {
   "metadata": {
    "ExecuteTime": {
     "end_time": "2024-04-22T11:28:33.185744Z",
     "start_time": "2024-04-22T11:28:33.179775Z"
    }
   },
   "cell_type": "code",
   "source": [
    "stat, p_value = shapiro(AMB_PA['probl_corazon'])\n",
    "print(f\"Estadístic W = {stat:.4f}\")\n",
    "print(f\"Valor p = {p_value:.4f}\")\n",
    "\n",
    "alpha = 0.05\n",
    "if p_value < alpha:\n",
    "    print(\"El nombre de files no segueix una distribució normal.\")\n",
    "else:\n",
    "    print(\"El nombre de files segueix una distribució normal\")"
   ],
   "id": "70125a59e92a41c9",
   "outputs": [
    {
     "name": "stdout",
     "output_type": "stream",
     "text": [
      "Estadístic W = 0.3853\n",
      "Valor p = 0.0000\n",
      "El nombre de files no segueix una distribució normal.\n"
     ]
    }
   ],
   "execution_count": 598
  },
  {
   "metadata": {
    "ExecuteTime": {
     "end_time": "2024-04-22T11:28:33.558424Z",
     "start_time": "2024-04-22T11:28:33.550445Z"
    }
   },
   "cell_type": "code",
   "source": [
    "stat, p_value = shapiro(AMB_PA_MECVV['probl_corazon'])\n",
    "print(f\"Estadístic W = {stat:.4f}\")\n",
    "print(f\"Valor p = {p_value:.4f}\")\n",
    "\n",
    "alpha = 0.05\n",
    "if p_value < alpha:\n",
    "    print(\"El nombre de files no segueix una distribució normal.\")\n",
    "else:\n",
    "    print(\"El nombre de files segueix una distribució normal\")"
   ],
   "id": "74329b3c356ab930",
   "outputs": [
    {
     "name": "stdout",
     "output_type": "stream",
     "text": [
      "Estadístic W = 0.3657\n",
      "Valor p = 0.0000\n",
      "El nombre de files no segueix una distribució normal.\n"
     ]
    }
   ],
   "execution_count": 599
  },
  {
   "metadata": {
    "ExecuteTime": {
     "end_time": "2024-04-22T11:28:33.862576Z",
     "start_time": "2024-04-22T11:28:33.855540Z"
    }
   },
   "cell_type": "code",
   "source": [
    "stat, p_value = shapiro(SENSE_PA['probl_corazon'])\n",
    "print(f\"Estadístic W = {stat:.4f}\")\n",
    "print(f\"Valor p = {p_value:.4f}\")\n",
    "\n",
    "alpha = 0.05\n",
    "if p_value < alpha:\n",
    "    print(\"El nombre de files no segueix una distribució normal.\")\n",
    "else:\n",
    "    print(\"El nombre de files segueix una distribució normal\")"
   ],
   "id": "c5eb2d33fd46a0dd",
   "outputs": [
    {
     "name": "stdout",
     "output_type": "stream",
     "text": [
      "Estadístic W = 0.4168\n",
      "Valor p = 0.0000\n",
      "El nombre de files no segueix una distribució normal.\n"
     ]
    }
   ],
   "execution_count": 600
  },
  {
   "metadata": {
    "ExecuteTime": {
     "end_time": "2024-04-22T11:28:34.246699Z",
     "start_time": "2024-04-22T11:28:34.236900Z"
    }
   },
   "cell_type": "code",
   "source": [
    "stat, p_value_12 = mannwhitneyu(AMB_PA['probl_corazon'], AMB_PA_MECVV['probl_corazon'], alternative='two-sided')\n",
    "print(\"P-valor entre AMB_PA i AMB_PA_MECVV\", p_value_12)"
   ],
   "id": "dd41146095c973e6",
   "outputs": [
    {
     "name": "stdout",
     "output_type": "stream",
     "text": [
      "P-valor entre AMB_PA i AMB_PA_MECVV 0.9265568396984611\n"
     ]
    }
   ],
   "execution_count": 601
  },
  {
   "metadata": {
    "ExecuteTime": {
     "end_time": "2024-04-22T11:28:34.569753Z",
     "start_time": "2024-04-22T11:28:34.524497Z"
    }
   },
   "cell_type": "code",
   "source": [
    "stat, p_value_13 = mannwhitneyu(AMB_PA['CV'], SENSE_PA['CV'], alternative='two-sided')\n",
    "print(\"P-valor entre AMB_PA i SENSE_PA\", p_value_13)"
   ],
   "id": "51f94835fcff1281",
   "outputs": [
    {
     "name": "stdout",
     "output_type": "stream",
     "text": [
      "P-valor entre AMB_PA i SENSE_PA 0.9858477456716862\n"
     ]
    }
   ],
   "execution_count": 602
  },
  {
   "metadata": {
    "ExecuteTime": {
     "end_time": "2024-04-22T11:28:34.957760Z",
     "start_time": "2024-04-22T11:28:34.943997Z"
    }
   },
   "cell_type": "code",
   "source": [
    "stat, p_value_23 = mannwhitneyu(AMB_PA_MECVV['CV'], SENSE_PA['CV'], alternative='two-sided')\n",
    "print(\"P-valor entre AMB_PA_MECVV i SENSE_PA\", p_value_23)"
   ],
   "id": "91d8fe72b61842",
   "outputs": [
    {
     "name": "stdout",
     "output_type": "stream",
     "text": [
      "P-valor entre AMB_PA_MECVV i SENSE_PA 0.6762982127217047\n"
     ]
    }
   ],
   "execution_count": 603
  },
  {
   "metadata": {},
   "cell_type": "markdown",
   "source": "## Malalties neurodegeneratives",
   "id": "18c9cce147e62274"
  },
  {
   "metadata": {
    "ExecuteTime": {
     "end_time": "2024-04-22T11:28:35.239508Z",
     "start_time": "2024-04-22T11:28:35.224822Z"
    }
   },
   "cell_type": "code",
   "source": [
    "nd_AMB_PA= (AMB_PA['neurodegenerativas'] == 1.0).mean() * 100\n",
    "print(f\"Percentatge de malalties neurodegeneratives: {nd_AMB_PA:.2f}%\")"
   ],
   "id": "1b290be0c970c5fe",
   "outputs": [
    {
     "name": "stdout",
     "output_type": "stream",
     "text": [
      "Percentatge de malalties neurodegeneratives: 0.00%\n"
     ]
    }
   ],
   "execution_count": 604
  },
  {
   "metadata": {
    "ExecuteTime": {
     "end_time": "2024-04-22T11:28:35.724264Z",
     "start_time": "2024-04-22T11:28:35.679149Z"
    }
   },
   "cell_type": "code",
   "source": [
    "nd_AMB_PA_MECVV= (AMB_PA_MECVV['neurodegenerativas'] == 1.0).mean() * 100\n",
    "print(f\"Percentatge de malalties neurodegeneratives: {nd_AMB_PA_MECVV:.2f}%\")"
   ],
   "id": "d7a46cc9000b68a9",
   "outputs": [
    {
     "name": "stdout",
     "output_type": "stream",
     "text": [
      "Percentatge de malalties neurodegeneratives: 10.00%\n"
     ]
    }
   ],
   "execution_count": 605
  },
  {
   "metadata": {
    "ExecuteTime": {
     "end_time": "2024-04-22T11:28:36.018617Z",
     "start_time": "2024-04-22T11:28:35.975043Z"
    }
   },
   "cell_type": "code",
   "source": [
    "nd_SENSE_PA= (SENSE_PA['neurodegenerativas'] == 1.0).mean() * 100\n",
    "print(f\"Percentatge de malalties neurodegeneratives: {nd_SENSE_PA:.2f}%\")"
   ],
   "id": "fef909050dd582f3",
   "outputs": [
    {
     "name": "stdout",
     "output_type": "stream",
     "text": [
      "Percentatge de malalties neurodegeneratives: 4.08%\n"
     ]
    }
   ],
   "execution_count": 606
  },
  {
   "metadata": {},
   "cell_type": "markdown",
   "source": "#### Pvalor",
   "id": "13d4492161572489"
  },
  {
   "metadata": {},
   "cell_type": "markdown",
   "source": "##### Normalitat",
   "id": "e98b267abe8ec4da"
  },
  {
   "metadata": {
    "ExecuteTime": {
     "end_time": "2024-04-22T11:28:36.379502Z",
     "start_time": "2024-04-22T11:28:36.371923Z"
    }
   },
   "cell_type": "code",
   "source": [
    "stat, p_value = shapiro(AMB_PA['neurodegenerativas'])\n",
    "print(f\"Estadístic W = {stat:.4f}\")\n",
    "print(f\"Valor p = {p_value:.4f}\")\n",
    "\n",
    "alpha = 0.05\n",
    "if p_value < alpha:\n",
    "    print(\"El nombre de files no segueix una distribució normal.\")\n",
    "else:\n",
    "    print(\"El nombre de files segueix una distribució normal\")"
   ],
   "id": "8d87943002876acb",
   "outputs": [
    {
     "name": "stdout",
     "output_type": "stream",
     "text": [
      "Estadístic W = 1.0000\n",
      "Valor p = 1.0000\n",
      "El nombre de files segueix una distribució normal\n"
     ]
    }
   ],
   "execution_count": 607
  },
  {
   "metadata": {
    "ExecuteTime": {
     "end_time": "2024-04-22T11:28:36.810910Z",
     "start_time": "2024-04-22T11:28:36.805083Z"
    }
   },
   "cell_type": "code",
   "source": [
    "stat, p_value = shapiro(AMB_PA_MECVV['neurodegenerativas'])\n",
    "print(f\"Estadístic W = {stat:.4f}\")\n",
    "print(f\"Valor p = {p_value:.4f}\")\n",
    "\n",
    "alpha = 0.05\n",
    "if p_value < alpha:\n",
    "    print(\"El nombre de files no segueix una distribució normal.\")\n",
    "else:\n",
    "    print(\"El nombre de files segueix una distribució normal\")"
   ],
   "id": "6982f3d36ccde172",
   "outputs": [
    {
     "name": "stdout",
     "output_type": "stream",
     "text": [
      "Estadístic W = 0.3657\n",
      "Valor p = 0.0000\n",
      "El nombre de files no segueix una distribució normal.\n"
     ]
    }
   ],
   "execution_count": 608
  },
  {
   "metadata": {
    "ExecuteTime": {
     "end_time": "2024-04-22T11:28:37.197006Z",
     "start_time": "2024-04-22T11:28:37.190452Z"
    }
   },
   "cell_type": "code",
   "source": [
    "stat, p_value = shapiro(SENSE_PA['neurodegenerativas'])\n",
    "print(f\"Estadístic W = {stat:.4f}\")\n",
    "print(f\"Valor p = {p_value:.4f}\")\n",
    "\n",
    "alpha = 0.05\n",
    "if p_value < alpha:\n",
    "    print(\"El nombre de files no segueix una distribució normal.\")\n",
    "else:\n",
    "    print(\"El nombre de files segueix una distribució normal\")"
   ],
   "id": "4a33f042367e4f46",
   "outputs": [
    {
     "name": "stdout",
     "output_type": "stream",
     "text": [
      "Estadístic W = 0.2008\n",
      "Valor p = 0.0000\n",
      "El nombre de files no segueix una distribució normal.\n"
     ]
    }
   ],
   "execution_count": 609
  },
  {
   "metadata": {
    "ExecuteTime": {
     "end_time": "2024-04-22T11:28:37.558168Z",
     "start_time": "2024-04-22T11:28:37.548144Z"
    }
   },
   "cell_type": "code",
   "source": [
    "stat, p_value_12 = mannwhitneyu(AMB_PA['neurodegenerativas'], AMB_PA_MECVV['neurodegenerativas'], alternative='two-sided')\n",
    "print(\"P-valor entre AMB_PA i AMB_PA_MECVV\", p_value_12)"
   ],
   "id": "7ea74d2a49cec4ac",
   "outputs": [
    {
     "name": "stdout",
     "output_type": "stream",
     "text": [
      "P-valor entre AMB_PA i AMB_PA_MECVV 0.21976847950216105\n"
     ]
    }
   ],
   "execution_count": 610
  },
  {
   "metadata": {
    "ExecuteTime": {
     "end_time": "2024-04-22T11:28:37.866291Z",
     "start_time": "2024-04-22T11:28:37.858596Z"
    }
   },
   "cell_type": "code",
   "source": [
    "stat, p_value_13 = mannwhitneyu(AMB_PA['neurodegenerativas'], SENSE_PA['neurodegenerativas'], alternative='two-sided')\n",
    "print(\"P-valor entre AMB_PA i SENSE_PA\", p_value_13)"
   ],
   "id": "fedde2b245d34d1",
   "outputs": [
    {
     "name": "stdout",
     "output_type": "stream",
     "text": [
      "P-valor entre AMB_PA i SENSE_PA 0.41519527301502746\n"
     ]
    }
   ],
   "execution_count": 611
  },
  {
   "metadata": {
    "ExecuteTime": {
     "end_time": "2024-04-22T11:28:38.507266Z",
     "start_time": "2024-04-22T11:28:38.497459Z"
    }
   },
   "cell_type": "code",
   "source": [
    "stat, p_value_23 = mannwhitneyu(AMB_PA_MECVV['neurodegenerativas'], SENSE_PA['neurodegenerativas'], alternative='two-sided')\n",
    "print(\"P-valor entre AMB_PA_MECVV i SENSE_PA\", p_value_23)"
   ],
   "id": "2329b5f7f410f0fb",
   "outputs": [
    {
     "name": "stdout",
     "output_type": "stream",
     "text": [
      "P-valor entre AMB_PA_MECVV i SENSE_PA 0.45734646700671056\n"
     ]
    }
   ],
   "execution_count": 612
  },
  {
   "metadata": {},
   "cell_type": "markdown",
   "source": "## Diabetes mellitus",
   "id": "42b942e8587dc0c3"
  },
  {
   "metadata": {
    "ExecuteTime": {
     "end_time": "2024-04-22T11:28:38.875119Z",
     "start_time": "2024-04-22T11:28:38.869027Z"
    }
   },
   "cell_type": "code",
   "source": [
    "dm_AMB_PA= (AMB_PA['DM'] == 1.0).mean() * 100\n",
    "print(f\"Percentatge de diabetes mellitus: {dm_AMB_PA:.2f}%\")"
   ],
   "id": "698511ef1e3136bc",
   "outputs": [
    {
     "name": "stdout",
     "output_type": "stream",
     "text": [
      "Percentatge de diabetes mellitus: 23.53%\n"
     ]
    }
   ],
   "execution_count": 613
  },
  {
   "metadata": {
    "ExecuteTime": {
     "end_time": "2024-04-22T11:28:39.545902Z",
     "start_time": "2024-04-22T11:28:39.539933Z"
    }
   },
   "cell_type": "code",
   "source": [
    "dm_AMB_PA_MECVV= (AMB_PA_MECVV['DM'] == 1.0).mean() * 100\n",
    "print(f\"Percentatge de diabetes mellitus: {dm_AMB_PA_MECVV:.2f}%\")"
   ],
   "id": "80ed95bb2fa57c00",
   "outputs": [
    {
     "name": "stdout",
     "output_type": "stream",
     "text": [
      "Percentatge de diabetes mellitus: 10.00%\n"
     ]
    }
   ],
   "execution_count": 614
  },
  {
   "metadata": {
    "ExecuteTime": {
     "end_time": "2024-04-22T11:28:39.815322Z",
     "start_time": "2024-04-22T11:28:39.809022Z"
    }
   },
   "cell_type": "code",
   "source": [
    "dm_SENSE_PA= (SENSE_PA['DM'] == 1.0).mean() * 100\n",
    "print(f\"Percentatge de diabetes mellitus: {dm_SENSE_PA:.2f}%\")"
   ],
   "id": "2de37780f8d2b591",
   "outputs": [
    {
     "name": "stdout",
     "output_type": "stream",
     "text": [
      "Percentatge de diabetes mellitus: 26.53%\n"
     ]
    }
   ],
   "execution_count": 615
  },
  {
   "metadata": {},
   "cell_type": "markdown",
   "source": "#### Pvalor ",
   "id": "39c5da893c7deb9c"
  },
  {
   "metadata": {},
   "cell_type": "markdown",
   "source": "##### Normalitat",
   "id": "ebee9ab25c7f5d27"
  },
  {
   "metadata": {
    "ExecuteTime": {
     "end_time": "2024-04-22T11:28:40.231872Z",
     "start_time": "2024-04-22T11:28:40.223623Z"
    }
   },
   "cell_type": "code",
   "source": [
    "stat, p_value = shapiro(AMB_PA['DM'])\n",
    "print(f\"Estadístic W = {stat:.4f}\")\n",
    "print(f\"Valor p = {p_value:.4f}\")\n",
    "\n",
    "alpha = 0.05\n",
    "if p_value < alpha:\n",
    "    print(\"El nombre de files no segueix una distribució normal.\")\n",
    "else:\n",
    "    print(\"El nombre de files segueix una distribució normal\")"
   ],
   "id": "873e8801ed67f9de",
   "outputs": [
    {
     "name": "stdout",
     "output_type": "stream",
     "text": [
      "Estadístic W = 0.5327\n",
      "Valor p = 0.0000\n",
      "El nombre de files no segueix una distribució normal.\n"
     ]
    }
   ],
   "execution_count": 616
  },
  {
   "metadata": {
    "ExecuteTime": {
     "end_time": "2024-04-22T11:28:40.473049Z",
     "start_time": "2024-04-22T11:28:40.463900Z"
    }
   },
   "cell_type": "code",
   "source": [
    "stat, p_value = shapiro(AMB_PA_MECVV['DM'])\n",
    "print(f\"Estadístic W = {stat:.4f}\")\n",
    "print(f\"Valor p = {p_value:.4f}\")\n",
    "\n",
    "alpha = 0.05\n",
    "if p_value < alpha:\n",
    "    print(\"El nombre de files no segueix una distribució normal.\")\n",
    "else:\n",
    "    print(\"El nombre de files segueix una distribució normal\")"
   ],
   "id": "45d49dc27d20b1a8",
   "outputs": [
    {
     "name": "stdout",
     "output_type": "stream",
     "text": [
      "Estadístic W = 0.3657\n",
      "Valor p = 0.0000\n",
      "El nombre de files no segueix una distribució normal.\n"
     ]
    }
   ],
   "execution_count": 617
  },
  {
   "metadata": {
    "ExecuteTime": {
     "end_time": "2024-04-22T11:28:40.891571Z",
     "start_time": "2024-04-22T11:28:40.885019Z"
    }
   },
   "cell_type": "code",
   "source": [
    "stat, p_value = shapiro(SENSE_PA['DM'])\n",
    "print(f\"Estadístic W = {stat:.4f}\")\n",
    "print(f\"Valor p = {p_value:.4f}\")\n",
    "\n",
    "alpha = 0.05\n",
    "if p_value < alpha:\n",
    "    print(\"El nombre de files no segueix una distribució normal.\")\n",
    "else:\n",
    "    print(\"El nombre de files segueix una distribució normal\")"
   ],
   "id": "7d5c39dae28b5115",
   "outputs": [
    {
     "name": "stdout",
     "output_type": "stream",
     "text": [
      "Estadístic W = 0.5514\n",
      "Valor p = 0.0000\n",
      "El nombre de files no segueix una distribució normal.\n"
     ]
    }
   ],
   "execution_count": 618
  },
  {
   "metadata": {
    "ExecuteTime": {
     "end_time": "2024-04-22T11:28:41.180207Z",
     "start_time": "2024-04-22T11:28:41.171799Z"
    }
   },
   "cell_type": "code",
   "source": [
    "stat, p_value_12 = mannwhitneyu(AMB_PA['DM'], AMB_PA_MECVV['DM'], alternative='two-sided')\n",
    "print(\"P-valor entre AMB_PA i AMB_PA_MECVV\", p_value_12)"
   ],
   "id": "b76e252fda353c31",
   "outputs": [
    {
     "name": "stdout",
     "output_type": "stream",
     "text": [
      "P-valor entre AMB_PA i AMB_PA_MECVV 0.4120280546315189\n"
     ]
    }
   ],
   "execution_count": 619
  },
  {
   "metadata": {
    "ExecuteTime": {
     "end_time": "2024-04-22T11:28:41.561851Z",
     "start_time": "2024-04-22T11:28:41.552453Z"
    }
   },
   "cell_type": "code",
   "source": [
    "stat, p_value_13 = mannwhitneyu(AMB_PA['DM'], SENSE_PA['DM'], alternative='two-sided')\n",
    "print(\"P-valor entre AMB_PA i SENSE_PAN\", p_value_13)"
   ],
   "id": "4cfaeae595eb594b",
   "outputs": [
    {
     "name": "stdout",
     "output_type": "stream",
     "text": [
      "P-valor entre AMB_PA i SENSE_PAN 0.8163159339942008\n"
     ]
    }
   ],
   "execution_count": 620
  },
  {
   "metadata": {
    "ExecuteTime": {
     "end_time": "2024-04-22T11:28:41.824175Z",
     "start_time": "2024-04-22T11:28:41.815800Z"
    }
   },
   "cell_type": "code",
   "source": [
    "stat, p_value_23 = mannwhitneyu(AMB_PA_MECVV['DM'], SENSE_PA['DM'], alternative='two-sided')\n",
    "print(\"P-valor entre AMB_PA_MECVV i SENSE_PAN\", p_value_23)"
   ],
   "id": "372c60185966ee23",
   "outputs": [
    {
     "name": "stdout",
     "output_type": "stream",
     "text": [
      "P-valor entre AMB_PA_MECVV i SENSE_PAN 0.2728301710651724\n"
     ]
    }
   ],
   "execution_count": 621
  },
  {
   "metadata": {},
   "cell_type": "markdown",
   "source": "## Hepatopaties",
   "id": "772c1f476c2f3d43"
  },
  {
   "metadata": {
    "ExecuteTime": {
     "end_time": "2024-04-22T11:28:42.218164Z",
     "start_time": "2024-04-22T11:28:42.210046Z"
    }
   },
   "cell_type": "code",
   "source": [
    "hp_AMB_PA= (AMB_PA['hepatopatias'] == 1.0).mean() * 100\n",
    "print(f\"Percentatge de hepatopaties: {hp_AMB_PA:.2f}%\")"
   ],
   "id": "5cfced98e5d59960",
   "outputs": [
    {
     "name": "stdout",
     "output_type": "stream",
     "text": [
      "Percentatge de hepatopaties: 11.76%\n"
     ]
    }
   ],
   "execution_count": 622
  },
  {
   "metadata": {
    "ExecuteTime": {
     "end_time": "2024-04-22T11:28:42.513391Z",
     "start_time": "2024-04-22T11:28:42.504363Z"
    }
   },
   "cell_type": "code",
   "source": [
    "hp_AMB_PA_MECVV= (AMB_PA_MECVV['hepatopatias'] == 1.0).mean() * 100\n",
    "print(f\"Percentatge de hepatopaties: {hp_AMB_PA_MECVV:.2f}%\")"
   ],
   "id": "ffeb2d3f7c6163ad",
   "outputs": [
    {
     "name": "stdout",
     "output_type": "stream",
     "text": [
      "Percentatge de hepatopaties: 10.00%\n"
     ]
    }
   ],
   "execution_count": 623
  },
  {
   "metadata": {
    "ExecuteTime": {
     "end_time": "2024-04-22T11:28:43.061339Z",
     "start_time": "2024-04-22T11:28:43.055367Z"
    }
   },
   "cell_type": "code",
   "source": [
    "hp_SENSE_PA= (SENSE_PA['hepatopatias'] == 1.0).mean() * 100\n",
    "print(f\"Percentatge de hepatopaties: {hp_SENSE_PA:.2f}%\")"
   ],
   "id": "23ccf77254538573",
   "outputs": [
    {
     "name": "stdout",
     "output_type": "stream",
     "text": [
      "Percentatge de hepatopaties: 6.12%\n"
     ]
    }
   ],
   "execution_count": 624
  },
  {
   "metadata": {},
   "cell_type": "markdown",
   "source": "#### Pvalor",
   "id": "ee084e9b17270c10"
  },
  {
   "metadata": {},
   "cell_type": "markdown",
   "source": "##### Normalitat",
   "id": "b932958d65d9e455"
  },
  {
   "metadata": {
    "ExecuteTime": {
     "end_time": "2024-04-22T11:28:43.388187Z",
     "start_time": "2024-04-22T11:28:43.379010Z"
    }
   },
   "cell_type": "code",
   "source": [
    "stat, p_value = shapiro(AMB_PA['hepatopatias'])\n",
    "print(f\"Estadístic W = {stat:.4f}\")\n",
    "print(f\"Valor p = {p_value:.4f}\")\n",
    "\n",
    "alpha = 0.05\n",
    "if p_value < alpha:\n",
    "    print(\"El nombre de files no segueix una distribució normal.\")\n",
    "else:\n",
    "    print(\"El nombre de files segueix una distribució normal\")"
   ],
   "id": "de51f01ce1362aab",
   "outputs": [
    {
     "name": "stdout",
     "output_type": "stream",
     "text": [
      "Estadístic W = 0.3853\n",
      "Valor p = 0.0000\n",
      "El nombre de files no segueix una distribució normal.\n"
     ]
    }
   ],
   "execution_count": 625
  },
  {
   "metadata": {
    "ExecuteTime": {
     "end_time": "2024-04-22T11:28:43.762087Z",
     "start_time": "2024-04-22T11:28:43.752914Z"
    }
   },
   "cell_type": "code",
   "source": [
    "stat, p_value = shapiro(AMB_PA_MECVV['hepatopatias'])\n",
    "print(f\"Estadístic W = {stat:.4f}\")\n",
    "print(f\"Valor p = {p_value:.4f}\")\n",
    "\n",
    "alpha = 0.05\n",
    "if p_value < alpha:\n",
    "    print(\"El nombre de files no segueix una distribució normal.\")\n",
    "else:\n",
    "    print(\"El nombre de files segueix una distribució normal\")"
   ],
   "id": "343a308a86ecb20b",
   "outputs": [
    {
     "name": "stdout",
     "output_type": "stream",
     "text": [
      "Estadístic W = 0.3657\n",
      "Valor p = 0.0000\n",
      "El nombre de files no segueix una distribució normal.\n"
     ]
    }
   ],
   "execution_count": 626
  },
  {
   "metadata": {
    "ExecuteTime": {
     "end_time": "2024-04-22T11:28:44.061975Z",
     "start_time": "2024-04-22T11:28:44.052768Z"
    }
   },
   "cell_type": "code",
   "source": [
    "stat, p_value = shapiro(SENSE_PA['hepatopatias'])\n",
    "print(f\"Estadístic W = {stat:.4f}\")\n",
    "print(f\"Valor p = {p_value:.4f}\")\n",
    "\n",
    "alpha = 0.05\n",
    "if p_value < alpha:\n",
    "    print(\"El nombre de files no segueix una distribució normal.\")\n",
    "else:\n",
    "    print(\"El nombre de files segueix una distribució normal\")"
   ],
   "id": "94bfe6f6b1e080e3",
   "outputs": [
    {
     "name": "stdout",
     "output_type": "stream",
     "text": [
      "Estadístic W = 0.2580\n",
      "Valor p = 0.0000\n",
      "El nombre de files no segueix una distribució normal.\n"
     ]
    }
   ],
   "execution_count": 627
  },
  {
   "metadata": {
    "ExecuteTime": {
     "end_time": "2024-04-22T11:28:44.618743Z",
     "start_time": "2024-04-22T11:28:44.609239Z"
    }
   },
   "cell_type": "code",
   "source": [
    "stat, p_value_12 = mannwhitneyu(AMB_PA['hepatopatias'], AMB_PA_MECVV['hepatopatias'], alternative='two-sided')\n",
    "print(\"P-valor entre AMB_PA i AMB_PA_MECVV\", p_value_12)"
   ],
   "id": "f1d399767dab3eeb",
   "outputs": [
    {
     "name": "stdout",
     "output_type": "stream",
     "text": [
      "P-valor entre AMB_PA i AMB_PA_MECVV 0.9265568396984611\n"
     ]
    }
   ],
   "execution_count": 628
  },
  {
   "metadata": {
    "ExecuteTime": {
     "end_time": "2024-04-22T11:28:45.001095Z",
     "start_time": "2024-04-22T11:28:44.995505Z"
    }
   },
   "cell_type": "code",
   "source": [
    "stat, p_value_13 = mannwhitneyu(AMB_PA['hepatopatias'], SENSE_PA['hepatopatias'], alternative='two-sided')\n",
    "print(\"P-valor entre AMB_PA i SENSE_PA\", p_value_13)"
   ],
   "id": "e5ae22e928d63a0f",
   "outputs": [
    {
     "name": "stdout",
     "output_type": "stream",
     "text": [
      "P-valor entre AMB_PA i SENSE_PA 0.4618706673466527\n"
     ]
    }
   ],
   "execution_count": 629
  },
  {
   "metadata": {
    "ExecuteTime": {
     "end_time": "2024-04-22T11:28:45.665259Z",
     "start_time": "2024-04-22T11:28:45.657293Z"
    }
   },
   "cell_type": "code",
   "source": [
    "stat, p_value_23 = mannwhitneyu(AMB_PA_MECVV['hepatopatias'], SENSE_PA['hepatopatias'], alternative='two-sided')\n",
    "print(\"P-valor entre AMB_PA_MECVV i SENSE_PA\", p_value_23)"
   ],
   "id": "c8e4bb6c92eae392",
   "outputs": [
    {
     "name": "stdout",
     "output_type": "stream",
     "text": [
      "P-valor entre AMB_PA_MECVV i SENSE_PA 0.6762982127217047\n"
     ]
    }
   ],
   "execution_count": 630
  },
  {
   "metadata": {},
   "cell_type": "markdown",
   "source": "## Neoplàsia",
   "id": "959b58aaaaab994b"
  },
  {
   "metadata": {
    "ExecuteTime": {
     "end_time": "2024-04-22T11:28:46.106926Z",
     "start_time": "2024-04-22T11:28:46.101767Z"
    }
   },
   "cell_type": "code",
   "source": [
    "neopl_AMB_PA= (AMB_PA['neoplasias'] == 1.0).mean() * 100\n",
    "print(f\"Percentatge de neoplàsia: {neopl_AMB_PA:.2f}%\")"
   ],
   "id": "6bbefcc81da003fc",
   "outputs": [
    {
     "name": "stdout",
     "output_type": "stream",
     "text": [
      "Percentatge de neoplàsia: 0.00%\n"
     ]
    }
   ],
   "execution_count": 631
  },
  {
   "metadata": {
    "ExecuteTime": {
     "end_time": "2024-04-22T11:28:46.675868Z",
     "start_time": "2024-04-22T11:28:46.662206Z"
    }
   },
   "cell_type": "code",
   "source": [
    "neopl_AMB_PA_MECVV= (AMB_PA_MECVV['neoplasias'] == 1.0).mean() * 100\n",
    "print(f\"Percentatge de neoplàsia: {neopl_AMB_PA_MECVV:.2f}%\")"
   ],
   "id": "216d7eebaa16abc0",
   "outputs": [
    {
     "name": "stdout",
     "output_type": "stream",
     "text": [
      "Percentatge de neoplàsia: 0.00%\n"
     ]
    }
   ],
   "execution_count": 632
  },
  {
   "metadata": {
    "ExecuteTime": {
     "end_time": "2024-04-22T11:28:46.992160Z",
     "start_time": "2024-04-22T11:28:46.948297Z"
    }
   },
   "cell_type": "code",
   "source": [
    "neopl_SENSE_PA= (SENSE_PA['neoplasias'] == 1.0).mean() * 100\n",
    "print(f\"Percentatge de neoplàsia: {neopl_SENSE_PA:.2f}%\")"
   ],
   "id": "380e87c3db7e8b7a",
   "outputs": [
    {
     "name": "stdout",
     "output_type": "stream",
     "text": [
      "Percentatge de neoplàsia: 6.12%\n"
     ]
    }
   ],
   "execution_count": 633
  },
  {
   "metadata": {},
   "cell_type": "markdown",
   "source": "#### Pvalor",
   "id": "338c0f6458d8be19"
  },
  {
   "metadata": {},
   "cell_type": "markdown",
   "source": "##### Normalitat",
   "id": "9377ac1a9f6dd002"
  },
  {
   "metadata": {
    "ExecuteTime": {
     "end_time": "2024-04-22T11:28:48.260974Z",
     "start_time": "2024-04-22T11:28:48.254024Z"
    }
   },
   "cell_type": "code",
   "source": [
    "stat, p_value = shapiro(AMB_PA['neoplasias'])\n",
    "print(f\"Estadístic W = {stat:.4f}\")\n",
    "print(f\"Valor p = {p_value:.4f}\")\n",
    "\n",
    "alpha = 0.05\n",
    "if p_value < alpha:\n",
    "    print(\"El nombre de files no segueix una distribució normal.\")\n",
    "else:\n",
    "    print(\"El nombre de files segueix una distribució normal\")"
   ],
   "id": "7c858ee47d54bc43",
   "outputs": [
    {
     "name": "stdout",
     "output_type": "stream",
     "text": [
      "Estadístic W = 1.0000\n",
      "Valor p = 1.0000\n",
      "El nombre de files segueix una distribució normal\n"
     ]
    }
   ],
   "execution_count": 634
  },
  {
   "metadata": {
    "ExecuteTime": {
     "end_time": "2024-04-22T11:28:48.679703Z",
     "start_time": "2024-04-22T11:28:48.668717Z"
    }
   },
   "cell_type": "code",
   "source": [
    "stat, p_value = shapiro(AMB_PA_MECVV['hepatopatias'])\n",
    "print(f\"Estadístic W = {stat:.4f}\")\n",
    "print(f\"Valor p = {p_value:.4f}\")\n",
    "\n",
    "alpha = 0.05\n",
    "if p_value < alpha:\n",
    "    print(\"El nombre de files no segueix una distribució normal.\")\n",
    "else:\n",
    "    print(\"El nombre de files segueix una distribució normal\")"
   ],
   "id": "dde37d63a9b667d",
   "outputs": [
    {
     "name": "stdout",
     "output_type": "stream",
     "text": [
      "Estadístic W = 0.3657\n",
      "Valor p = 0.0000\n",
      "El nombre de files no segueix una distribució normal.\n"
     ]
    }
   ],
   "execution_count": 635
  },
  {
   "metadata": {
    "ExecuteTime": {
     "end_time": "2024-04-22T11:28:49.147376Z",
     "start_time": "2024-04-22T11:28:49.138735Z"
    }
   },
   "cell_type": "code",
   "source": [
    "stat, p_value = shapiro(SENSE_PA['hepatopatias'])\n",
    "print(f\"Estadístic W = {stat:.4f}\")\n",
    "print(f\"Valor p = {p_value:.4f}\")\n",
    "\n",
    "alpha = 0.05\n",
    "if p_value < alpha:\n",
    "    print(\"El nombre de files no segueix una distribució normal.\")\n",
    "else:\n",
    "    print(\"El nombre de files segueix una distribució normal\")"
   ],
   "id": "6bb78df14856b8f9",
   "outputs": [
    {
     "name": "stdout",
     "output_type": "stream",
     "text": [
      "Estadístic W = 0.2580\n",
      "Valor p = 0.0000\n",
      "El nombre de files no segueix una distribució normal.\n"
     ]
    }
   ],
   "execution_count": 636
  },
  {
   "metadata": {
    "ExecuteTime": {
     "end_time": "2024-04-22T11:28:49.405676Z",
     "start_time": "2024-04-22T11:28:49.397707Z"
    }
   },
   "cell_type": "code",
   "source": [
    "stat, p_value_12 = mannwhitneyu(AMB_PA['neoplasias'], AMB_PA_MECVV['neoplasias'], alternative='two-sided')\n",
    "print(\"P-valor entre AMB_PA i AMB_PA_MECVV\", p_value_12)"
   ],
   "id": "7e49acda243ca033",
   "outputs": [
    {
     "name": "stdout",
     "output_type": "stream",
     "text": [
      "P-valor entre AMB_PA i AMB_PA_MECVV 1.0\n"
     ]
    }
   ],
   "execution_count": 637
  },
  {
   "metadata": {
    "ExecuteTime": {
     "end_time": "2024-04-22T11:28:49.826419Z",
     "start_time": "2024-04-22T11:28:49.819699Z"
    }
   },
   "cell_type": "code",
   "source": [
    "stat, p_value_13 = mannwhitneyu(AMB_PA['neoplasias'], SENSE_PA['neoplasias'], alternative='two-sided')\n",
    "print(\"P-valor entre AMB_PA i SENSE_PA\", p_value_12)"
   ],
   "id": "19de53eaca6faf46",
   "outputs": [
    {
     "name": "stdout",
     "output_type": "stream",
     "text": [
      "P-valor entre AMB_PA i SENSE_PA 1.0\n"
     ]
    }
   ],
   "execution_count": 638
  },
  {
   "metadata": {
    "ExecuteTime": {
     "end_time": "2024-04-22T11:28:50.160903Z",
     "start_time": "2024-04-22T11:28:50.153242Z"
    }
   },
   "cell_type": "code",
   "source": [
    "stat, p_value_23 = mannwhitneyu(AMB_PA_MECVV['neoplasias'], SENSE_PA['neoplasias'], alternative='two-sided')\n",
    "print(\"P-valor entre AMB_PA_MECVV i SENSE_PA\", p_value_23)"
   ],
   "id": "d041e42afd281dba",
   "outputs": [
    {
     "name": "stdout",
     "output_type": "stream",
     "text": [
      "P-valor entre AMB_PA_MECVV i SENSE_PA 0.44143809205435813\n"
     ]
    }
   ],
   "execution_count": 639
  },
  {
   "metadata": {},
   "cell_type": "markdown",
   "source": "## Malaltia crònica renal (creatinina > 1.5mg/dL)",
   "id": "be977a70d2e9a7c"
  },
  {
   "metadata": {},
   "cell_type": "markdown",
   "source": "Donat que aquesta columna és de tipus objecte, primer la passaré a tipus numèric per poder operar amb ella",
   "id": "104b74d04d4f6f25"
  },
  {
   "metadata": {
    "ExecuteTime": {
     "end_time": "2024-04-22T11:28:50.638356Z",
     "start_time": "2024-04-22T11:28:50.585838Z"
    }
   },
   "cell_type": "code",
   "source": [
    "AMB_PA.loc[:, 'creatinina'] = pd.to_numeric(AMB_PA['creatinina'], errors='coerce')\n",
    "AMB_PA_MECVV.loc[:, 'creatinina'] = pd.to_numeric(AMB_PA_MECVV['creatinina'], errors='coerce')\n",
    "SENSE_PA.loc[:, 'creatinina'] = pd.to_numeric(SENSE_PA['creatinina'], errors='coerce')"
   ],
   "id": "44a54bc94beb324a",
   "outputs": [],
   "execution_count": 640
  },
  {
   "metadata": {
    "ExecuteTime": {
     "end_time": "2024-04-22T11:28:50.928843Z",
     "start_time": "2024-04-22T11:28:50.883834Z"
    }
   },
   "cell_type": "code",
   "source": [
    "ecr_AMB_PA= (AMB_PA['creatinina'] >= 1.5).mean() * 100\n",
    "print(f\"Percentatge de malaltia crònica renal amb creatinina >1.5: {ecr_AMB_PA:.2f}%\")"
   ],
   "id": "1220b795ea747457",
   "outputs": [
    {
     "name": "stdout",
     "output_type": "stream",
     "text": [
      "Percentatge de malaltia crònica renal amb creatinina >1.5: 0.00%\n"
     ]
    }
   ],
   "execution_count": 641
  },
  {
   "metadata": {
    "ExecuteTime": {
     "end_time": "2024-04-22T11:28:51.302211Z",
     "start_time": "2024-04-22T11:28:51.292225Z"
    }
   },
   "cell_type": "code",
   "source": [
    "ecr_AMB_PA_MECVV= (AMB_PA_MECVV['creatinina'] > 1.5).mean() * 100\n",
    "print(f\"Percentatge de malaltia crònica renal amb creatinina >1.5: {ecr_AMB_PA_MECVV:.2f}%\")"
   ],
   "id": "f33ab01070f387e4",
   "outputs": [
    {
     "name": "stdout",
     "output_type": "stream",
     "text": [
      "Percentatge de malaltia crònica renal amb creatinina >1.5: 0.00%\n"
     ]
    }
   ],
   "execution_count": 642
  },
  {
   "metadata": {
    "ExecuteTime": {
     "end_time": "2024-04-22T11:28:51.682232Z",
     "start_time": "2024-04-22T11:28:51.673777Z"
    }
   },
   "cell_type": "code",
   "source": [
    "ecr_SENSE_PA= (SENSE_PA['creatinina'] > 1.5).mean() * 100\n",
    "print(f\"Percentatge de malaltia crònica renal amb creatinina >1.5: {ecr_SENSE_PA:.2f}%\")"
   ],
   "id": "f2a96ab467d4fa20",
   "outputs": [
    {
     "name": "stdout",
     "output_type": "stream",
     "text": [
      "Percentatge de malaltia crònica renal amb creatinina >1.5: 6.12%\n"
     ]
    }
   ],
   "execution_count": 643
  },
  {
   "metadata": {},
   "cell_type": "markdown",
   "source": "#### Pvalor",
   "id": "9a0ec8b221656a8a"
  },
  {
   "metadata": {},
   "cell_type": "markdown",
   "source": "##### Normalitat",
   "id": "d6ffad4c820486ed"
  },
  {
   "metadata": {
    "ExecuteTime": {
     "end_time": "2024-04-22T11:28:52.010774Z",
     "start_time": "2024-04-22T11:28:51.957275Z"
    }
   },
   "cell_type": "code",
   "source": [
    "stat, p_value = shapiro(AMB_PA['creatinina'].dropna())\n",
    "print(f\"Estadístic W = {stat:.4f}\")\n",
    "print(f\"Valor p = {p_value:.4f}\")\n",
    "\n",
    "alpha = 0.05\n",
    "if p_value < alpha:\n",
    "    print(\"El nombre de files no segueix una distribució normal.\")\n",
    "else:\n",
    "    print(\"El nombre de files segueix una distribució normal\")"
   ],
   "id": "1f63051648a84697",
   "outputs": [
    {
     "name": "stdout",
     "output_type": "stream",
     "text": [
      "Estadístic W = 0.9549\n",
      "Valor p = 0.7439\n",
      "El nombre de files segueix una distribució normal\n"
     ]
    }
   ],
   "execution_count": 644
  },
  {
   "metadata": {
    "ExecuteTime": {
     "end_time": "2024-04-22T11:28:52.549853Z",
     "start_time": "2024-04-22T11:28:52.542597Z"
    }
   },
   "cell_type": "code",
   "source": [
    "stat, p_value = shapiro(AMB_PA_MECVV['creatinina'].dropna())\n",
    "print(f\"Estadístic W = {stat:.4f}\")\n",
    "print(f\"Valor p = {p_value:.4f}\")\n",
    "\n",
    "alpha = 0.05\n",
    "if p_value < alpha:\n",
    "    print(\"El nombre de files no segueix una distribució normal.\")\n",
    "else:\n",
    "    print(\"El nombre de files segueix una distribució normal\")"
   ],
   "id": "dd791706071019a6",
   "outputs": [
    {
     "name": "stdout",
     "output_type": "stream",
     "text": [
      "Estadístic W = 0.9815\n",
      "Valor p = 0.9110\n",
      "El nombre de files segueix una distribució normal\n"
     ]
    }
   ],
   "execution_count": 645
  },
  {
   "metadata": {
    "ExecuteTime": {
     "end_time": "2024-04-22T11:28:53.039226Z",
     "start_time": "2024-04-22T11:28:53.031628Z"
    }
   },
   "cell_type": "code",
   "source": [
    "stat, p_value = shapiro(SENSE_PA['creatinina'].dropna())\n",
    "print(f\"Estadístic W = {stat:.4f}\")\n",
    "print(f\"Valor p = {p_value:.4f}\")\n",
    "\n",
    "alpha = 0.05\n",
    "if p_value < alpha:\n",
    "    print(\"El nombre de files no segueix una distribució normal.\")\n",
    "else:\n",
    "    print(\"El nombre de files segueix una distribució normal\")"
   ],
   "id": "85df00a80ed67583",
   "outputs": [
    {
     "name": "stdout",
     "output_type": "stream",
     "text": [
      "Estadístic W = 0.7235\n",
      "Valor p = 0.0000\n",
      "El nombre de files no segueix una distribució normal.\n"
     ]
    }
   ],
   "execution_count": 646
  },
  {
   "metadata": {
    "ExecuteTime": {
     "end_time": "2024-04-22T11:28:53.574852Z",
     "start_time": "2024-04-22T11:28:53.568381Z"
    }
   },
   "cell_type": "code",
   "source": [
    "stat, p_value_12 = ttest_ind(AMB_PA['creatinina'], AMB_PA_MECVV['creatinina'], equal_var=False)\n",
    "print(\"P-valor entre AMB_PA i AMB_PA_MECVV\", p_value_12)"
   ],
   "id": "cf20863e3c24d450",
   "outputs": [
    {
     "name": "stdout",
     "output_type": "stream",
     "text": [
      "P-valor entre AMB_PA i AMB_PA_MECVV nan\n"
     ]
    }
   ],
   "execution_count": 647
  },
  {
   "metadata": {
    "ExecuteTime": {
     "end_time": "2024-04-22T11:28:53.935579Z",
     "start_time": "2024-04-22T11:28:53.925796Z"
    }
   },
   "cell_type": "code",
   "source": [
    "stat, p_value_13 = mannwhitneyu(AMB_PA['creatinina'], SENSE_PA['creatinina'], alternative='two-sided')\n",
    "print(\"P-valor entre AMB_PA i SENSE_PA\", p_value_13)"
   ],
   "id": "17e378b6adaccd52",
   "outputs": [
    {
     "name": "stdout",
     "output_type": "stream",
     "text": [
      "P-valor entre AMB_PA i SENSE_PA nan\n"
     ]
    }
   ],
   "execution_count": 648
  },
  {
   "metadata": {
    "ExecuteTime": {
     "end_time": "2024-04-22T11:28:54.601666Z",
     "start_time": "2024-04-22T11:28:54.593092Z"
    }
   },
   "cell_type": "code",
   "source": [
    "stat, p_value_23 = mannwhitneyu(AMB_PA_MECVV['creatinina'], SENSE_PA['creatinina'], alternative='two-sided')\n",
    "print(\"P-valor entre AMB_PA_MECVV i SENSE_PA\", p_value_23)"
   ],
   "id": "4d738444b5cc0416",
   "outputs": [
    {
     "name": "stdout",
     "output_type": "stream",
     "text": [
      "P-valor entre AMB_PA_MECVV i SENSE_PA nan\n"
     ]
    }
   ],
   "execution_count": 649
  },
  {
   "metadata": {},
   "cell_type": "markdown",
   "source": "## Fallida renal aguda (o insuficiència renal aguda)",
   "id": "2a45b7c462b693cc"
  },
  {
   "metadata": {
    "ExecuteTime": {
     "end_time": "2024-04-22T11:28:55.058283Z",
     "start_time": "2024-04-22T11:28:55.045545Z"
    }
   },
   "cell_type": "code",
   "source": [
    "ira_AMB_PA= (AMB_PA['ARF'] == 1.0).mean() * 100\n",
    "print(f\"Percentatge de fallida renal aguda: {ira_AMB_PA:.2f}%\")"
   ],
   "id": "bf4cb3020f4ab65",
   "outputs": [
    {
     "name": "stdout",
     "output_type": "stream",
     "text": [
      "Percentatge de fallida renal aguda: 23.53%\n"
     ]
    }
   ],
   "execution_count": 650
  },
  {
   "metadata": {
    "ExecuteTime": {
     "end_time": "2024-04-22T11:28:55.721821Z",
     "start_time": "2024-04-22T11:28:55.711641Z"
    }
   },
   "cell_type": "code",
   "source": [
    "ira_AMB_PA_MECVV= (AMB_PA_MECVV['ARF'] == 1.0).mean() * 100\n",
    "print(f\"Percentatge de fallida renal aguda: {ira_AMB_PA_MECVV:.2f}%\")"
   ],
   "id": "694f049952ae8d4f",
   "outputs": [
    {
     "name": "stdout",
     "output_type": "stream",
     "text": [
      "Percentatge de fallida renal aguda: 50.00%\n"
     ]
    }
   ],
   "execution_count": 651
  },
  {
   "metadata": {
    "ExecuteTime": {
     "end_time": "2024-04-22T11:28:55.986279Z",
     "start_time": "2024-04-22T11:28:55.980972Z"
    }
   },
   "cell_type": "code",
   "source": [
    "ira_SENSE_PA= (SENSE_PA['ARF'] == 1.0).mean() * 100\n",
    "print(f\"Percentatge de fallida renal aguda: {ira_SENSE_PA:.2f}%\")"
   ],
   "id": "d9da03942f97e9ff",
   "outputs": [
    {
     "name": "stdout",
     "output_type": "stream",
     "text": [
      "Percentatge de fallida renal aguda: 26.53%\n"
     ]
    }
   ],
   "execution_count": 652
  },
  {
   "metadata": {},
   "cell_type": "markdown",
   "source": "#### Pvalor",
   "id": "fa90e43bd79a9017"
  },
  {
   "metadata": {},
   "cell_type": "markdown",
   "source": "##### Normalitat",
   "id": "ab080f83d40e2433"
  },
  {
   "metadata": {
    "ExecuteTime": {
     "end_time": "2024-04-22T11:28:56.436962Z",
     "start_time": "2024-04-22T11:28:56.429702Z"
    }
   },
   "cell_type": "code",
   "source": [
    "stat, p_value = shapiro(AMB_PA['ARF'])\n",
    "print(f\"Estadístic W = {stat:.4f}\")\n",
    "print(f\"Valor p = {p_value:.4f}\")\n",
    "\n",
    "alpha = 0.05\n",
    "if p_value < alpha:\n",
    "    print(\"El nombre de files no segueix una distribució normal.\")\n",
    "else:\n",
    "    print(\"El nombre de files segueix una distribució normal\")"
   ],
   "id": "889a0951b2fe1cd5",
   "outputs": [
    {
     "name": "stdout",
     "output_type": "stream",
     "text": [
      "Estadístic W = 0.5327\n",
      "Valor p = 0.0000\n",
      "El nombre de files no segueix una distribució normal.\n"
     ]
    }
   ],
   "execution_count": 653
  },
  {
   "metadata": {
    "ExecuteTime": {
     "end_time": "2024-04-22T11:28:56.723887Z",
     "start_time": "2024-04-22T11:28:56.716694Z"
    }
   },
   "cell_type": "code",
   "source": [
    "stat, p_value = shapiro(AMB_PA_MECVV['ARF'])\n",
    "print(f\"Estadístic W = {stat:.4f}\")\n",
    "print(f\"Valor p = {p_value:.4f}\")\n",
    "\n",
    "alpha = 0.05\n",
    "if p_value < alpha:\n",
    "    print(\"El nombre de files no segueix una distribució normal.\")\n",
    "else:\n",
    "    print(\"El nombre de files segueix una distribució normal\")"
   ],
   "id": "d9b63b5fd8da70fb",
   "outputs": [
    {
     "name": "stdout",
     "output_type": "stream",
     "text": [
      "Estadístic W = 0.6553\n",
      "Valor p = 0.0003\n",
      "El nombre de files no segueix una distribució normal.\n"
     ]
    }
   ],
   "execution_count": 654
  },
  {
   "metadata": {
    "ExecuteTime": {
     "end_time": "2024-04-22T11:28:57.163475Z",
     "start_time": "2024-04-22T11:28:57.154308Z"
    }
   },
   "cell_type": "code",
   "source": [
    "stat, p_value = shapiro(SENSE_PA['ARF'])\n",
    "print(f\"Estadístic W = {stat:.4f}\")\n",
    "print(f\"Valor p = {p_value:.4f}\")\n",
    "\n",
    "alpha = 0.05\n",
    "if p_value < alpha:\n",
    "    print(\"El nombre de files no segueix una distribució normal.\")\n",
    "else:\n",
    "    print(\"El nombre de files segueix una distribució normal\")"
   ],
   "id": "c346c65e6b676207",
   "outputs": [
    {
     "name": "stdout",
     "output_type": "stream",
     "text": [
      "Estadístic W = 0.5514\n",
      "Valor p = 0.0000\n",
      "El nombre de files no segueix una distribució normal.\n"
     ]
    }
   ],
   "execution_count": 655
  },
  {
   "metadata": {
    "ExecuteTime": {
     "end_time": "2024-04-22T11:28:57.533810Z",
     "start_time": "2024-04-22T11:28:57.524817Z"
    }
   },
   "cell_type": "code",
   "source": [
    "stat, p_value_12 = mannwhitneyu(AMB_PA['ARF'], AMB_PA_MECVV['ARF'], alternative='two-sided')\n",
    "print(\"P-valor entre AMB_PA i AMB_PA_MECVV\", p_value_12)"
   ],
   "id": "a11f6f5322e507d3",
   "outputs": [
    {
     "name": "stdout",
     "output_type": "stream",
     "text": [
      "P-valor entre AMB_PA i AMB_PA_MECVV 0.17639454522781728\n"
     ]
    }
   ],
   "execution_count": 656
  },
  {
   "metadata": {
    "ExecuteTime": {
     "end_time": "2024-04-22T11:28:57.929241Z",
     "start_time": "2024-04-22T11:28:57.923191Z"
    }
   },
   "cell_type": "code",
   "source": [
    "stat, p_value_13 = mannwhitneyu(AMB_PA['ARF'], SENSE_PA['ARF'], alternative='two-sided')\n",
    "print(\"P-valor entre AMB_PA i SENSE_PA\", p_value_13)"
   ],
   "id": "9a5bbf6808c79243",
   "outputs": [
    {
     "name": "stdout",
     "output_type": "stream",
     "text": [
      "P-valor entre AMB_PA i SENSE_PA 0.8163159339942008\n"
     ]
    }
   ],
   "execution_count": 657
  },
  {
   "metadata": {
    "ExecuteTime": {
     "end_time": "2024-04-22T11:28:58.220224Z",
     "start_time": "2024-04-22T11:28:58.206663Z"
    }
   },
   "cell_type": "code",
   "source": [
    "stat, p_value_23 = mannwhitneyu(AMB_PA_MECVV['ARF'], SENSE_PA['ARF'], alternative='two-sided')\n",
    "print(\"P-valor entre AMB_PA i SENSE_PA\", p_value_23)"
   ],
   "id": "3825dfecd1188df7",
   "outputs": [
    {
     "name": "stdout",
     "output_type": "stream",
     "text": [
      "P-valor entre AMB_PA i SENSE_PA 0.14880872192595962\n"
     ]
    }
   ],
   "execution_count": 658
  },
  {
   "metadata": {},
   "cell_type": "markdown",
   "source": "## Marejos/síncope/lipotímia/reacció vasovagal",
   "id": "b569dbe66e8fcbe9"
  },
  {
   "metadata": {
    "ExecuteTime": {
     "end_time": "2024-04-22T11:28:58.585900Z",
     "start_time": "2024-04-22T11:28:58.574207Z"
    }
   },
   "cell_type": "code",
   "source": [
    "dizsyn_AMB_PA= (AMB_PA['mareos'] == 1.0).mean() * 100\n",
    "print(f\"Percentatge de marejos/síncope/lipotímia/reacció vasovagal: {dizsyn_AMB_PA:.2f}%\")"
   ],
   "id": "50900335d331ab2",
   "outputs": [
    {
     "name": "stdout",
     "output_type": "stream",
     "text": [
      "Percentatge de marejos/síncope/lipotímia/reacció vasovagal: 0.00%\n"
     ]
    }
   ],
   "execution_count": 659
  },
  {
   "metadata": {
    "ExecuteTime": {
     "end_time": "2024-04-22T11:28:58.918860Z",
     "start_time": "2024-04-22T11:28:58.910126Z"
    }
   },
   "cell_type": "code",
   "source": [
    "dizsyn_AMB_PA_MECVV= (AMB_PA_MECVV['mareos'] == 1.0).mean() * 100\n",
    "print(f\"Percentatge de marejos/síncope/lipotímia/reacció vasovagal: {dizsyn_AMB_PA_MECVV:.2f}%\")"
   ],
   "id": "9dc25d01f5293c9c",
   "outputs": [
    {
     "name": "stdout",
     "output_type": "stream",
     "text": [
      "Percentatge de marejos/síncope/lipotímia/reacció vasovagal: 0.00%\n"
     ]
    }
   ],
   "execution_count": 660
  },
  {
   "metadata": {
    "ExecuteTime": {
     "end_time": "2024-04-22T11:28:59.306388Z",
     "start_time": "2024-04-22T11:28:59.295083Z"
    }
   },
   "cell_type": "code",
   "source": [
    "dizsyn_SENSE_PA= (SENSE_PA['mareos'] == 1.0).mean() * 100\n",
    "print(f\"Percentatge de marejos/síncope/lipotímia/reacció vasovagal: {dizsyn_SENSE_PA:.2f}%\")"
   ],
   "id": "6b9c3e73228189d5",
   "outputs": [
    {
     "name": "stdout",
     "output_type": "stream",
     "text": [
      "Percentatge de marejos/síncope/lipotímia/reacció vasovagal: 2.04%\n"
     ]
    }
   ],
   "execution_count": 661
  },
  {
   "metadata": {},
   "cell_type": "markdown",
   "source": "#### Pvalor",
   "id": "c2ea9a79012bd56"
  },
  {
   "metadata": {},
   "cell_type": "markdown",
   "source": "##### Normalitat",
   "id": "fd33a284918ec484"
  },
  {
   "metadata": {
    "ExecuteTime": {
     "end_time": "2024-04-22T11:28:59.720753Z",
     "start_time": "2024-04-22T11:28:59.672636Z"
    }
   },
   "cell_type": "code",
   "source": [
    "stat, p_value = shapiro(AMB_PA['mareos'])\n",
    "print(f\"Estadístic W = {stat:.4f}\")\n",
    "print(f\"Valor p = {p_value:.4f}\")\n",
    "\n",
    "alpha = 0.05\n",
    "if p_value < alpha:\n",
    "    print(\"El nombre de files no segueix una distribució normal.\")\n",
    "else:\n",
    "    print(\"El nombre de files segueix una distribució normal\")"
   ],
   "id": "a0a14b919495d927",
   "outputs": [
    {
     "name": "stdout",
     "output_type": "stream",
     "text": [
      "Estadístic W = 1.0000\n",
      "Valor p = 1.0000\n",
      "El nombre de files segueix una distribució normal\n"
     ]
    }
   ],
   "execution_count": 662
  },
  {
   "metadata": {
    "ExecuteTime": {
     "end_time": "2024-04-22T11:29:00.028075Z",
     "start_time": "2024-04-22T11:29:00.019746Z"
    }
   },
   "cell_type": "code",
   "source": [
    "stat, p_value = shapiro(AMB_PA_MECVV['mareos'])\n",
    "print(f\"Estadístic W = {stat:.4f}\")\n",
    "print(f\"Valor p = {p_value:.4f}\")\n",
    "\n",
    "alpha = 0.05\n",
    "if p_value < alpha:\n",
    "    print(\"El nombre de files no segueix una distribució normal.\")\n",
    "else:\n",
    "    print(\"El nombre de files segueix una distribució normal\")"
   ],
   "id": "f068a365916fbd97",
   "outputs": [
    {
     "name": "stdout",
     "output_type": "stream",
     "text": [
      "Estadístic W = 1.0000\n",
      "Valor p = 1.0000\n",
      "El nombre de files segueix una distribució normal\n"
     ]
    }
   ],
   "execution_count": 663
  },
  {
   "metadata": {
    "ExecuteTime": {
     "end_time": "2024-04-22T11:29:00.439275Z",
     "start_time": "2024-04-22T11:29:00.430589Z"
    }
   },
   "cell_type": "code",
   "source": [
    "stat, p_value = shapiro(SENSE_PA['mareos'])\n",
    "print(f\"Estadístic W = {stat:.4f}\")\n",
    "print(f\"Valor p = {p_value:.4f}\")\n",
    "\n",
    "alpha = 0.05\n",
    "if p_value < alpha:\n",
    "    print(\"El nombre de files no segueix una distribució normal.\")\n",
    "else:\n",
    "    print(\"El nombre de files segueix una distribució normal\")"
   ],
   "id": "e1bac964bed45016",
   "outputs": [
    {
     "name": "stdout",
     "output_type": "stream",
     "text": [
      "Estadístic W = 0.1273\n",
      "Valor p = 0.0000\n",
      "El nombre de files no segueix una distribució normal.\n"
     ]
    }
   ],
   "execution_count": 664
  },
  {
   "metadata": {
    "ExecuteTime": {
     "end_time": "2024-04-22T11:29:00.944864Z",
     "start_time": "2024-04-22T11:29:00.896769Z"
    }
   },
   "cell_type": "code",
   "source": [
    "stat, p_value_12 = ttest_ind(AMB_PA['mareos'], AMB_PA_MECVV['mareos'], equal_var=False)\n",
    "print(\"P-valor entre AMB_PA i AMB_PA_MECVV\", p_value_12)"
   ],
   "id": "4426d7b16a9b9291",
   "outputs": [
    {
     "name": "stdout",
     "output_type": "stream",
     "text": [
      "P-valor entre AMB_PA i AMB_PA_MECVV nan\n"
     ]
    }
   ],
   "execution_count": 665
  },
  {
   "metadata": {
    "ExecuteTime": {
     "end_time": "2024-04-22T11:29:01.283466Z",
     "start_time": "2024-04-22T11:29:01.238442Z"
    }
   },
   "cell_type": "code",
   "source": [
    "stat, p_value_12 = mannwhitneyu(AMB_PA['mareos'], AMB_PA_MECVV['mareos'], alternative='two-sided')\n",
    "print(\"P-valor entre AMB_PA i AMB_PA_MECVV\", p_value_12)"
   ],
   "id": "84eb59ba6043afcb",
   "outputs": [
    {
     "name": "stdout",
     "output_type": "stream",
     "text": [
      "P-valor entre AMB_PA i AMB_PA_MECVV 1.0\n"
     ]
    }
   ],
   "execution_count": 666
  },
  {
   "metadata": {
    "ExecuteTime": {
     "end_time": "2024-04-22T11:29:01.695502Z",
     "start_time": "2024-04-22T11:29:01.679398Z"
    }
   },
   "cell_type": "code",
   "source": [
    "stat, p_value_13 = mannwhitneyu(AMB_PA['mareos'], SENSE_PA['mareos'], alternative='two-sided')\n",
    "print(\"P-valor entre AMB_PA i SENSE_PA\", p_value_13)"
   ],
   "id": "8f94410e3226384d",
   "outputs": [
    {
     "name": "stdout",
     "output_type": "stream",
     "text": [
      "P-valor entre AMB_PA i SENSE_PA 0.5793276078637376\n"
     ]
    }
   ],
   "execution_count": 667
  },
  {
   "metadata": {
    "ExecuteTime": {
     "end_time": "2024-04-22T11:29:02.214149Z",
     "start_time": "2024-04-22T11:29:02.207627Z"
    }
   },
   "cell_type": "code",
   "source": [
    "stat, p_value_23 = mannwhitneyu(AMB_PA_MECVV['mareos'], SENSE_PA['mareos'], alternative='two-sided')\n",
    "print(\"P-valor entre AMB_PA_MECVV i SENSE_PA\", p_value_23)"
   ],
   "id": "566ddfe9c415adf4",
   "outputs": [
    {
     "name": "stdout",
     "output_type": "stream",
     "text": [
      "P-valor entre AMB_PA_MECVV i SENSE_PA 0.6843175494727258\n"
     ]
    }
   ],
   "execution_count": 668
  },
  {
   "metadata": {},
   "cell_type": "markdown",
   "source": "## VIH",
   "id": "3e66ec61ceed6da8"
  },
  {
   "metadata": {
    "ExecuteTime": {
     "end_time": "2024-04-22T11:29:02.605760Z",
     "start_time": "2024-04-22T11:29:02.560753Z"
    }
   },
   "cell_type": "code",
   "source": [
    "vih_AMB_PA= (AMB_PA['VIH'] == 1.0).mean() * 100\n",
    "print(f\"Percentatge de VIH: {vih_AMB_PA:.2f}%\")"
   ],
   "id": "6a922f8a8c8ce111",
   "outputs": [
    {
     "name": "stdout",
     "output_type": "stream",
     "text": [
      "Percentatge de VIH: 0.00%\n"
     ]
    }
   ],
   "execution_count": 669
  },
  {
   "metadata": {
    "ExecuteTime": {
     "end_time": "2024-04-22T11:29:03.213863Z",
     "start_time": "2024-04-22T11:29:03.207745Z"
    }
   },
   "cell_type": "code",
   "source": [
    "vih_AMB_PA_MECVV= (AMB_PA_MECVV['VIH'] == 1.0).mean() * 100\n",
    "print(f\"Percentatge de VIH: {vih_AMB_PA_MECVV:.2f}%\")"
   ],
   "id": "aed182bc8140a8b3",
   "outputs": [
    {
     "name": "stdout",
     "output_type": "stream",
     "text": [
      "Percentatge de VIH: 0.00%\n"
     ]
    }
   ],
   "execution_count": 670
  },
  {
   "metadata": {
    "ExecuteTime": {
     "end_time": "2024-04-22T11:29:03.660908Z",
     "start_time": "2024-04-22T11:29:03.655269Z"
    }
   },
   "cell_type": "code",
   "source": [
    "vih_SENSE_PA= (SENSE_PA['VIH'] == 1.0).mean() * 100\n",
    "print(f\"Percentatge de VIH: {vih_SENSE_PA:.2f}%\")"
   ],
   "id": "aa406ac4d4a53dc9",
   "outputs": [
    {
     "name": "stdout",
     "output_type": "stream",
     "text": [
      "Percentatge de VIH: 0.00%\n"
     ]
    }
   ],
   "execution_count": 671
  },
  {
   "metadata": {},
   "cell_type": "markdown",
   "source": "#### Pvalor",
   "id": "803ff9173540722b"
  },
  {
   "metadata": {},
   "cell_type": "markdown",
   "source": "##### Normalitat",
   "id": "b4620b0bb5bfa7f1"
  },
  {
   "metadata": {
    "ExecuteTime": {
     "end_time": "2024-04-22T11:29:04.171366Z",
     "start_time": "2024-04-22T11:29:04.162630Z"
    }
   },
   "cell_type": "code",
   "source": [
    "stat, p_value = shapiro(AMB_PA['VIH'])\n",
    "print(f\"Estadístic W = {stat:.4f}\")\n",
    "print(f\"Valor p = {p_value:.4f}\")\n",
    "\n",
    "alpha = 0.05\n",
    "if p_value < alpha:\n",
    "    print(\"El nombre de files no segueix una distribució normal\")\n",
    "else:\n",
    "    print(\"El nombre de files segueix una distribució normal\")"
   ],
   "id": "9b5c458fd6b6ae37",
   "outputs": [
    {
     "name": "stdout",
     "output_type": "stream",
     "text": [
      "Estadístic W = 1.0000\n",
      "Valor p = 1.0000\n",
      "El nombre de files segueix una distribució normal\n"
     ]
    }
   ],
   "execution_count": 672
  },
  {
   "metadata": {
    "ExecuteTime": {
     "end_time": "2024-04-22T11:29:04.461859Z",
     "start_time": "2024-04-22T11:29:04.454144Z"
    }
   },
   "cell_type": "code",
   "source": [
    "stat, p_value = shapiro(AMB_PA_MECVV['VIH'])\n",
    "print(f\"Estadístic W = {stat:.4f}\")\n",
    "print(f\"Valor p = {p_value:.4f}\")\n",
    "\n",
    "alpha = 0.05\n",
    "if p_value < alpha:\n",
    "    print(\"El nombre de files no segueix una distribució normal\")\n",
    "else:\n",
    "    print(\"El nombre de files segueix una distribució normal\")"
   ],
   "id": "9d0b581b09ddd6cc",
   "outputs": [
    {
     "name": "stdout",
     "output_type": "stream",
     "text": [
      "Estadístic W = 1.0000\n",
      "Valor p = 1.0000\n",
      "El nombre de files segueix una distribució normal\n"
     ]
    }
   ],
   "execution_count": 673
  },
  {
   "metadata": {
    "ExecuteTime": {
     "end_time": "2024-04-22T11:29:04.924989Z",
     "start_time": "2024-04-22T11:29:04.878664Z"
    }
   },
   "cell_type": "code",
   "source": [
    "stat, p_value = shapiro(SENSE_PA['VIH'])\n",
    "print(f\"Estadístic W = {stat:.4f}\")\n",
    "print(f\"Valor p = {p_value:.4f}\")\n",
    "\n",
    "alpha = 0.05\n",
    "if p_value < alpha:\n",
    "    print(\"El nombre de files no segueix una distribució normal\")\n",
    "else:\n",
    "    print(\"El nombre de files segueix una distribució normal\")"
   ],
   "id": "5a093d029a89e644",
   "outputs": [
    {
     "name": "stdout",
     "output_type": "stream",
     "text": [
      "Estadístic W = 1.0000\n",
      "Valor p = 1.0000\n",
      "El nombre de files segueix una distribució normal\n"
     ]
    }
   ],
   "execution_count": 674
  },
  {
   "metadata": {
    "ExecuteTime": {
     "end_time": "2024-04-22T11:29:05.189384Z",
     "start_time": "2024-04-22T11:29:05.179415Z"
    }
   },
   "cell_type": "code",
   "source": [
    "stat, p_value_12 = ttest_ind(AMB_PA['VIH'], AMB_PA_MECVV['VIH'], equal_var=False)\n",
    "print(\"P-valor entre AMB_PA i AMB_PA_MECVV\", p_value_12)"
   ],
   "id": "ee8189c633ccd0bb",
   "outputs": [
    {
     "name": "stdout",
     "output_type": "stream",
     "text": [
      "P-valor entre AMB_PA i AMB_PA_MECVV nan\n"
     ]
    }
   ],
   "execution_count": 675
  },
  {
   "metadata": {
    "ExecuteTime": {
     "end_time": "2024-04-22T11:29:05.610309Z",
     "start_time": "2024-04-22T11:29:05.600065Z"
    }
   },
   "cell_type": "code",
   "source": [
    "stat, p_value_13 = ttest_ind(AMB_PA['VIH'], SENSE_PA['VIH'], equal_var=False)\n",
    "print(\"P-valor entre AMB_PA i SENSE_PA\", p_value_13)"
   ],
   "id": "ba89921208864d5f",
   "outputs": [
    {
     "name": "stdout",
     "output_type": "stream",
     "text": [
      "P-valor entre AMB_PA i SENSE_PA nan\n"
     ]
    }
   ],
   "execution_count": 676
  },
  {
   "metadata": {
    "ExecuteTime": {
     "end_time": "2024-04-22T11:29:06.070337Z",
     "start_time": "2024-04-22T11:29:06.061050Z"
    }
   },
   "cell_type": "code",
   "source": [
    "stat, p_value_23 = ttest_ind(AMB_PA_MECVV['VIH'], SENSE_PA['VIH'], equal_var=False)\n",
    "print(\"P-valor entre AMB_PA_MECVV i SENSE_PA\", p_value_23)"
   ],
   "id": "6bcc985f8b1b99e7",
   "outputs": [
    {
     "name": "stdout",
     "output_type": "stream",
     "text": [
      "P-valor entre AMB_PA_MECVV i SENSE_PA nan\n"
     ]
    }
   ],
   "execution_count": 677
  },
  {
   "metadata": {},
   "cell_type": "markdown",
   "source": "## Psicosi",
   "id": "8e295a7fd16fa508"
  },
  {
   "metadata": {
    "ExecuteTime": {
     "end_time": "2024-04-22T11:29:06.305576Z",
     "start_time": "2024-04-22T11:29:06.296638Z"
    }
   },
   "cell_type": "code",
   "source": [
    "psi_AMB_PA= (AMB_PA['psicosis'] == 1.0).mean() * 100\n",
    "print(f\"Percentatge de psicosi: {vih_AMB_PA:.2f}%\")"
   ],
   "id": "c159ff1483bdafb0",
   "outputs": [
    {
     "name": "stdout",
     "output_type": "stream",
     "text": [
      "Percentatge de psicosi: 0.00%\n"
     ]
    }
   ],
   "execution_count": 678
  },
  {
   "metadata": {
    "ExecuteTime": {
     "end_time": "2024-04-22T11:29:06.716037Z",
     "start_time": "2024-04-22T11:29:06.709327Z"
    }
   },
   "cell_type": "code",
   "source": [
    "psi_AMB_PA_MECVV= (AMB_PA_MECVV['psicosis'] == 1.0).mean() * 100\n",
    "print(f\"Percentatge de psicosi: {psi_AMB_PA_MECVV:.2f}%\")"
   ],
   "id": "88916ff77b5a3557",
   "outputs": [
    {
     "name": "stdout",
     "output_type": "stream",
     "text": [
      "Percentatge de psicosi: 0.00%\n"
     ]
    }
   ],
   "execution_count": 679
  },
  {
   "metadata": {
    "ExecuteTime": {
     "end_time": "2024-04-22T11:29:07.121749Z",
     "start_time": "2024-04-22T11:29:07.114349Z"
    }
   },
   "cell_type": "code",
   "source": [
    "psi_SENSE_PA= (SENSE_PA['psicosis'] == 1.0).mean() * 100\n",
    "print(f\"Percentatge de psicosi: {psi_SENSE_PA:.2f}%\")"
   ],
   "id": "7ce0057ef942886",
   "outputs": [
    {
     "name": "stdout",
     "output_type": "stream",
     "text": [
      "Percentatge de psicosi: 0.00%\n"
     ]
    }
   ],
   "execution_count": 680
  },
  {
   "metadata": {},
   "cell_type": "markdown",
   "source": "#### Pvalor ",
   "id": "f7e56f1eaa4a1121"
  },
  {
   "metadata": {},
   "cell_type": "markdown",
   "source": "##### Normalitat",
   "id": "d5743908cae5ebcb"
  },
  {
   "metadata": {
    "ExecuteTime": {
     "end_time": "2024-04-22T11:29:07.390396Z",
     "start_time": "2024-04-22T11:29:07.381030Z"
    }
   },
   "cell_type": "code",
   "source": [
    "stat, p_value = shapiro(AMB_PA['psicosis'])\n",
    "print(f\"Estadístic W = {stat:.4f}\")\n",
    "print(f\"Valor p = {p_value:.4f}\")\n",
    "\n",
    "alpha = 0.05\n",
    "if p_value < alpha:\n",
    "    print(\"El nombre de files no segueix una distribució normal\")\n",
    "else:\n",
    "    print(\"El nombre de files segueix una distribució normal\")"
   ],
   "id": "998491744b8998d1",
   "outputs": [
    {
     "name": "stdout",
     "output_type": "stream",
     "text": [
      "Estadístic W = 1.0000\n",
      "Valor p = 1.0000\n",
      "El nombre de files segueix una distribució normal\n"
     ]
    }
   ],
   "execution_count": 681
  },
  {
   "metadata": {
    "ExecuteTime": {
     "end_time": "2024-04-22T11:29:07.833498Z",
     "start_time": "2024-04-22T11:29:07.826143Z"
    }
   },
   "cell_type": "code",
   "source": [
    "stat, p_value = shapiro(AMB_PA_MECVV['psicosis'])\n",
    "print(f\"Estadístic W = {stat:.4f}\")\n",
    "print(f\"Valor p = {p_value:.4f}\")\n",
    "\n",
    "alpha = 0.05\n",
    "if p_value < alpha:\n",
    "    print(\"El nombre de files no segueix una distribució normal\")\n",
    "else:\n",
    "    print(\"El nombre de files segueix una distribució normal\")"
   ],
   "id": "96b9bb0d7394814",
   "outputs": [
    {
     "name": "stdout",
     "output_type": "stream",
     "text": [
      "Estadístic W = 1.0000\n",
      "Valor p = 1.0000\n",
      "El nombre de files segueix una distribució normal\n"
     ]
    }
   ],
   "execution_count": 682
  },
  {
   "metadata": {
    "ExecuteTime": {
     "end_time": "2024-04-22T11:29:08.081275Z",
     "start_time": "2024-04-22T11:29:08.073106Z"
    }
   },
   "cell_type": "code",
   "source": [
    "stat, p_value = shapiro(SENSE_PA['psicosis'])\n",
    "print(f\"Estadístic W = {stat:.4f}\")\n",
    "print(f\"Valor p = {p_value:.4f}\")\n",
    "\n",
    "alpha = 0.05\n",
    "if p_value < alpha:\n",
    "    print(\"El nombre de files no segueix una distribució normal\")\n",
    "else:\n",
    "    print(\"El nombre de files segueix una distribució normal\")"
   ],
   "id": "35f8362ddbdf1d48",
   "outputs": [
    {
     "name": "stdout",
     "output_type": "stream",
     "text": [
      "Estadístic W = 1.0000\n",
      "Valor p = 1.0000\n",
      "El nombre de files segueix una distribució normal\n"
     ]
    }
   ],
   "execution_count": 683
  },
  {
   "metadata": {
    "ExecuteTime": {
     "end_time": "2024-04-22T11:29:08.460747Z",
     "start_time": "2024-04-22T11:29:08.452343Z"
    }
   },
   "cell_type": "code",
   "source": [
    "stat, p_value_12 = ttest_ind(AMB_PA['psicosis'], AMB_PA_MECVV['psicosis'], equal_var=False)\n",
    "print(\"P-valor entre AMB_PA i AMB_PA_MECVV\", p_value_12)"
   ],
   "id": "442c95770e6ba861",
   "outputs": [
    {
     "name": "stdout",
     "output_type": "stream",
     "text": [
      "P-valor entre AMB_PA i AMB_PA_MECVV nan\n"
     ]
    }
   ],
   "execution_count": 684
  },
  {
   "metadata": {
    "ExecuteTime": {
     "end_time": "2024-04-22T11:29:08.742372Z",
     "start_time": "2024-04-22T11:29:08.733176Z"
    }
   },
   "cell_type": "code",
   "source": [
    "stat, p_value_13 = ttest_ind(AMB_PA['psicosis'], SENSE_PA['psicosis'], equal_var=False)\n",
    "print(\"P-valor entre AMB_PA i SENSE_PA\", p_value_13)"
   ],
   "id": "f0792113c35b5010",
   "outputs": [
    {
     "name": "stdout",
     "output_type": "stream",
     "text": [
      "P-valor entre AMB_PA i SENSE_PA nan\n"
     ]
    }
   ],
   "execution_count": 685
  },
  {
   "metadata": {
    "ExecuteTime": {
     "end_time": "2024-04-22T11:29:09.104246Z",
     "start_time": "2024-04-22T11:29:09.092117Z"
    }
   },
   "cell_type": "code",
   "source": [
    "stat, p_value_23 = ttest_ind(AMB_PA_MECVV['psicosis'], SENSE_PA['psicosis'], equal_var=False)\n",
    "print(\"P-valor entre AMB_PA_MECVV i SENSE_PA\", p_value_23)"
   ],
   "id": "9b79bbe3afa56094",
   "outputs": [
    {
     "name": "stdout",
     "output_type": "stream",
     "text": [
      "P-valor entre AMB_PA_MECVV i SENSE_PA nan\n"
     ]
    }
   ],
   "execution_count": 686
  },
  {
   "metadata": {},
   "cell_type": "markdown",
   "source": "## Deficiències nutricionals",
   "id": "fd2da9ae3b318047"
  },
  {
   "metadata": {
    "ExecuteTime": {
     "end_time": "2024-04-22T11:29:09.359438Z",
     "start_time": "2024-04-22T11:29:09.346513Z"
    }
   },
   "cell_type": "code",
   "source": [
    "nutri_AMB_PA= (AMB_PA['def_nutri'] == 1.0).mean() * 100\n",
    "print(f\"Percentatge de deficiències nutricionals: {nutri_AMB_PA:.2f}%\")"
   ],
   "id": "e841eb27b0ef04d7",
   "outputs": [
    {
     "name": "stdout",
     "output_type": "stream",
     "text": [
      "Percentatge de deficiències nutricionals: 0.00%\n"
     ]
    }
   ],
   "execution_count": 687
  },
  {
   "metadata": {
    "ExecuteTime": {
     "end_time": "2024-04-22T11:29:09.792558Z",
     "start_time": "2024-04-22T11:29:09.747907Z"
    }
   },
   "cell_type": "code",
   "source": [
    "nutri_AMB_PA_MECVV= (AMB_PA_MECVV['def_nutri'] == 1.0).mean() * 100\n",
    "print(f\"Percentatge de deficiències nutricionals: {nutri_AMB_PA_MECVV:.2f}%\")"
   ],
   "id": "8776557d38ef8059",
   "outputs": [
    {
     "name": "stdout",
     "output_type": "stream",
     "text": [
      "Percentatge de deficiències nutricionals: 0.00%\n"
     ]
    }
   ],
   "execution_count": 688
  },
  {
   "metadata": {
    "ExecuteTime": {
     "end_time": "2024-04-22T11:29:10.049694Z",
     "start_time": "2024-04-22T11:29:10.039597Z"
    }
   },
   "cell_type": "code",
   "source": [
    "nutri_SENSE_PA= (SENSE_PA['def_nutri'] == 1.0).mean() * 100\n",
    "print(f\"Percentatge de deficiències nutricionals: {nutri_SENSE_PA:.2f}%\")"
   ],
   "id": "958e8bc2ca4584c3",
   "outputs": [
    {
     "name": "stdout",
     "output_type": "stream",
     "text": [
      "Percentatge de deficiències nutricionals: 0.00%\n"
     ]
    }
   ],
   "execution_count": 689
  },
  {
   "metadata": {},
   "cell_type": "markdown",
   "source": "#### Pvalor",
   "id": "d4bc9fe19efb8762"
  },
  {
   "metadata": {},
   "cell_type": "markdown",
   "source": "##### Normalitat",
   "id": "5316510b823b671e"
  },
  {
   "metadata": {
    "ExecuteTime": {
     "end_time": "2024-04-22T11:29:10.524319Z",
     "start_time": "2024-04-22T11:29:10.517716Z"
    }
   },
   "cell_type": "code",
   "source": [
    "stat, p_value = shapiro(AMB_PA['def_nutri'])\n",
    "print(f\"Estadístic W = {stat:.4f}\")\n",
    "print(f\"Valor p = {p_value:.4f}\")\n",
    "\n",
    "alpha = 0.05\n",
    "if p_value < alpha:\n",
    "    print(\"El nombre de files no segueix una distribució normal\")\n",
    "else:\n",
    "    print(\"El nombre de files segueix una distribució normal\")"
   ],
   "id": "e85abc69d2b521d3",
   "outputs": [
    {
     "name": "stdout",
     "output_type": "stream",
     "text": [
      "Estadístic W = 1.0000\n",
      "Valor p = 1.0000\n",
      "El nombre de files segueix una distribució normal\n"
     ]
    }
   ],
   "execution_count": 690
  },
  {
   "metadata": {
    "ExecuteTime": {
     "end_time": "2024-04-22T11:29:11.009153Z",
     "start_time": "2024-04-22T11:29:10.998510Z"
    }
   },
   "cell_type": "code",
   "source": [
    "stat, p_value = shapiro(AMB_PA_MECVV['def_nutri'])\n",
    "print(f\"Estadístic W = {stat:.4f}\")\n",
    "print(f\"Valor p = {p_value:.4f}\")\n",
    "\n",
    "alpha = 0.05\n",
    "if p_value < alpha:\n",
    "    print(\"El nombre de files no segueix una distribució normal\")\n",
    "else:\n",
    "    print(\"El nombre de files segueix una distribució normal\")"
   ],
   "id": "7658b9e5f57529c8",
   "outputs": [
    {
     "name": "stdout",
     "output_type": "stream",
     "text": [
      "Estadístic W = 1.0000\n",
      "Valor p = 1.0000\n",
      "El nombre de files segueix una distribució normal\n"
     ]
    }
   ],
   "execution_count": 691
  },
  {
   "metadata": {
    "ExecuteTime": {
     "end_time": "2024-04-22T11:29:11.319721Z",
     "start_time": "2024-04-22T11:29:11.314335Z"
    }
   },
   "cell_type": "code",
   "source": [
    "stat, p_value = shapiro(SENSE_PA['def_nutri'])\n",
    "print(f\"Estadístic W = {stat:.4f}\")\n",
    "print(f\"Valor p = {p_value:.4f}\")\n",
    "\n",
    "alpha = 0.05\n",
    "if p_value < alpha:\n",
    "    print(\"El nombre de files no segueix una distribució normal\")\n",
    "else:\n",
    "    print(\"El nombre de files segueix una distribució normal\")"
   ],
   "id": "822af3a96650acac",
   "outputs": [
    {
     "name": "stdout",
     "output_type": "stream",
     "text": [
      "Estadístic W = 1.0000\n",
      "Valor p = 1.0000\n",
      "El nombre de files segueix una distribució normal\n"
     ]
    }
   ],
   "execution_count": 692
  },
  {
   "metadata": {
    "ExecuteTime": {
     "end_time": "2024-04-22T11:29:11.807411Z",
     "start_time": "2024-04-22T11:29:11.754282Z"
    }
   },
   "cell_type": "code",
   "source": [
    "stat, p_value_12 = ttest_ind(AMB_PA['def_nutri'], AMB_PA_MECVV['def_nutri'], equal_var=False)\n",
    "print(\"P-valor entre AMB_PA i AMB_PA_MECVV\", p_value_12)"
   ],
   "id": "d518ed3fde934b64",
   "outputs": [
    {
     "name": "stdout",
     "output_type": "stream",
     "text": [
      "P-valor entre AMB_PA i AMB_PA_MECVV nan\n"
     ]
    }
   ],
   "execution_count": 693
  },
  {
   "metadata": {
    "ExecuteTime": {
     "end_time": "2024-04-22T11:29:12.236099Z",
     "start_time": "2024-04-22T11:29:12.226145Z"
    }
   },
   "cell_type": "code",
   "source": [
    "stat, p_value_13 = ttest_ind(AMB_PA['def_nutri'], SENSE_PA['def_nutri'], equal_var=False)\n",
    "print(\"P-valor entre AMB_PA i SENSE_PA\", p_value_13)"
   ],
   "id": "1e0de691178e3d02",
   "outputs": [
    {
     "name": "stdout",
     "output_type": "stream",
     "text": [
      "P-valor entre AMB_PA i SENSE_PA nan\n"
     ]
    }
   ],
   "execution_count": 694
  },
  {
   "metadata": {
    "ExecuteTime": {
     "end_time": "2024-04-22T11:29:12.487788Z",
     "start_time": "2024-04-22T11:29:12.479305Z"
    }
   },
   "cell_type": "code",
   "source": [
    "stat, p_value_23 = ttest_ind(AMB_PA_MECVV['def_nutri'], SENSE_PA['def_nutri'], equal_var=False)\n",
    "print(\"P-valor entre AMB_PA_MECVV i SENSE_PA\", p_value_23)"
   ],
   "id": "f40327fa6efbc272",
   "outputs": [
    {
     "name": "stdout",
     "output_type": "stream",
     "text": [
      "P-valor entre AMB_PA_MECVV i SENSE_PA nan\n"
     ]
    }
   ],
   "execution_count": 695
  },
  {
   "metadata": {},
   "cell_type": "markdown",
   "source": "# continuar en otro docu mejor",
   "id": "fa96541e05fbd1ca"
  },
  {
   "metadata": {},
   "cell_type": "code",
   "outputs": [],
   "execution_count": null,
   "source": "",
   "id": "3ec8cce69414292b"
  }
 ],
 "metadata": {
  "kernelspec": {
   "display_name": "Python 3",
   "language": "python",
   "name": "python3"
  },
  "language_info": {
   "codemirror_mode": {
    "name": "ipython",
    "version": 2
   },
   "file_extension": ".py",
   "mimetype": "text/x-python",
   "name": "python",
   "nbconvert_exporter": "python",
   "pygments_lexer": "ipython2",
   "version": "2.7.6"
  }
 },
 "nbformat": 4,
 "nbformat_minor": 5
}
