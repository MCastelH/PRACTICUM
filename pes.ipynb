{
 "cells": [
  {
   "cell_type": "code",
   "id": "initial_id",
   "metadata": {
    "collapsed": true,
    "jupyter": {
     "is_executing": true
    }
   },
   "source": [
    "import pandas as pd\n",
    "taula = pd.read_pickle('./data/processed/dataframe.pkl')\n",
    "from auxiliary_functions import test_indepe_plot, test_indepe_bin_plot, comptatge_i_percentatge_cat, mitjana_i_std_num\n",
    "from listas import num_var_pes, cat_var_pes"
   ],
   "outputs": [],
   "execution_count": null
  },
  {
   "metadata": {
    "ExecuteTime": {
     "end_time": "2024-06-14T07:41:35.268780Z",
     "start_time": "2024-06-14T07:41:34.998747Z"
    }
   },
   "cell_type": "code",
   "source": [
    "AMB_PA = taula[taula[\"PA diagnosticada\"] == 1.0]\n",
    "AMB_PA_MECVV = taula[\n",
    "    (taula[\"Dies entre primer ICD pneumònia i primer MECVV positiu\"] < 30)]\n",
    "SENSE_PA = taula[\n",
    "           (taula[\"Dies entre primer ICD pneumònia i primer MECVV positiu\"] > 30) &\n",
    "           (taula['P diagnosticada'] == 1.0)]\n",
    "TOTAL = taula"
   ],
   "id": "78643956fe9047dd",
   "outputs": [
    {
     "ename": "NameError",
     "evalue": "name 'taula' is not defined",
     "output_type": "error",
     "traceback": [
      "\u001B[1;31m---------------------------------------------------------------------------\u001B[0m",
      "\u001B[1;31mNameError\u001B[0m                                 Traceback (most recent call last)",
      "Cell \u001B[1;32mIn[1], line 1\u001B[0m\n\u001B[1;32m----> 1\u001B[0m AMB_PA \u001B[38;5;241m=\u001B[39m \u001B[43mtaula\u001B[49m[taula[\u001B[38;5;124m\"\u001B[39m\u001B[38;5;124mPA diagnosticada\u001B[39m\u001B[38;5;124m\"\u001B[39m] \u001B[38;5;241m==\u001B[39m \u001B[38;5;241m1.0\u001B[39m]\n\u001B[0;32m      2\u001B[0m AMB_PA_MECVV \u001B[38;5;241m=\u001B[39m taula[\n\u001B[0;32m      3\u001B[0m     (taula[\u001B[38;5;124m\"\u001B[39m\u001B[38;5;124mDies entre primer ICD pneumònia i primer MECVV positiu\u001B[39m\u001B[38;5;124m\"\u001B[39m] \u001B[38;5;241m<\u001B[39m \u001B[38;5;241m30\u001B[39m)]\n\u001B[0;32m      4\u001B[0m SENSE_PA \u001B[38;5;241m=\u001B[39m taula[\n\u001B[0;32m      5\u001B[0m            (taula[\u001B[38;5;124m\"\u001B[39m\u001B[38;5;124mDies entre primer ICD pneumònia i primer MECVV positiu\u001B[39m\u001B[38;5;124m\"\u001B[39m] \u001B[38;5;241m>\u001B[39m \u001B[38;5;241m30\u001B[39m) \u001B[38;5;241m&\u001B[39m\n\u001B[0;32m      6\u001B[0m            (taula[\u001B[38;5;124m'\u001B[39m\u001B[38;5;124mP diagnosticada\u001B[39m\u001B[38;5;124m'\u001B[39m] \u001B[38;5;241m==\u001B[39m \u001B[38;5;241m1.0\u001B[39m)]\n",
      "\u001B[1;31mNameError\u001B[0m: name 'taula' is not defined"
     ]
    }
   ],
   "execution_count": 1
  },
  {
   "metadata": {},
   "cell_type": "markdown",
   "source": "## Anàlisi descriptiva de les dades ",
   "id": "6fdd81104883fe36"
  },
  {
   "metadata": {},
   "cell_type": "markdown",
   "source": "### Comptatges i percentatges de variables categòriques per grup\n",
   "id": "573992f66d509eba"
  },
  {
   "metadata": {
    "ExecuteTime": {
     "end_time": "2024-06-14T07:41:35.268780Z",
     "start_time": "2024-06-14T07:41:35.268780Z"
    }
   },
   "cell_type": "code",
   "source": [
    "llista_dfs = [('AMB_PA', AMB_PA), ('AMB_PA_MECVV', AMB_PA_MECVV), ('SENSE_PA', SENSE_PA), ('TOTAL', TOTAL)]\n",
    "\n",
    "comptatge_i_percentatge_cat(llista_dfs, cat_var_pes)"
   ],
   "id": "14ea6b9af899dde6",
   "outputs": [],
   "execution_count": null
  },
  {
   "metadata": {},
   "cell_type": "markdown",
   "source": "### Mitjanes i desviacions estàndard de variables numèriques per grup",
   "id": "12c3cda5eff88265"
  },
  {
   "metadata": {
    "ExecuteTime": {
     "end_time": "2024-06-14T07:41:35.268780Z",
     "start_time": "2024-06-14T07:41:35.268780Z"
    }
   },
   "cell_type": "code",
   "source": [
    "llista_dfs = [('AMB_PA', AMB_PA), ('AMB_PA_MECVV', AMB_PA_MECVV), ('SENSE_PA', SENSE_PA), ('TOTAL', TOTAL)]\n",
    "\n",
    "mitjana_i_std_num(llista_dfs, num_var_pes)"
   ],
   "id": "a8cd8ada616379d8",
   "outputs": [],
   "execution_count": null
  },
  {
   "metadata": {},
   "cell_type": "markdown",
   "source": "## Pèrdua de pes entre ingressos (%)",
   "id": "f2da7e559c7e5b1a"
  },
  {
   "metadata": {},
   "cell_type": "markdown",
   "source": "#### Comparació distributiva. Test d'independència",
   "id": "3e7e1c2fbd2de252"
  },
  {
   "metadata": {},
   "cell_type": "code",
   "source": "test_indepe_bin_plot(taula, 'Pèrdua pes entre ingressos categòrica')",
   "id": "e7be42c51349fcce",
   "outputs": [],
   "execution_count": null
  },
  {
   "metadata": {},
   "cell_type": "markdown",
   "source": "## Pèrdua de pes entre ingressos (mitjana i SD)",
   "id": "45c98fba65b57695"
  },
  {
   "metadata": {},
   "cell_type": "markdown",
   "source": "#### Comparació distributiva. Test d'independència",
   "id": "fe63e69790cccd1e"
  },
  {
   "metadata": {
    "ExecuteTime": {
     "end_time": "2024-06-14T07:41:35.279521Z",
     "start_time": "2024-06-14T07:41:35.279032Z"
    }
   },
   "cell_type": "code",
   "source": "test_indepe_plot({'AMB_PA': AMB_PA['Pèrdua pes entre ingressos'], 'AMB_PA_MECVV': AMB_PA_MECVV['Pèrdua pes entre ingressos'], 'SENSE_PA': SENSE_PA['Pèrdua pes entre ingressos'], 'TOTAL': TOTAL['Pèrdua pes entre ingressos']})",
   "id": "aa9beb02232c4429",
   "outputs": [],
   "execution_count": null
  },
  {
   "metadata": {},
   "cell_type": "markdown",
   "source": "## Pèrdua de pes total",
   "id": "9477750ecfe6e87d"
  },
  {
   "metadata": {},
   "cell_type": "markdown",
   "source": "#### Comparació distributiva. Test d'independència",
   "id": "1bf41853e12bb424"
  },
  {
   "metadata": {
    "ExecuteTime": {
     "end_time": "2024-06-14T07:41:35.287613Z",
     "start_time": "2024-06-14T07:41:35.287613Z"
    }
   },
   "cell_type": "code",
   "source": "test_indepe_plot(test_indepe_plot({'AMB_PA': AMB_PA['Pèrdua pes total'], 'AMB_PA_MECVV': AMB_PA_MECVV['Pèrdua pes total'], 'SENSE_PA': SENSE_PA['Pèrdua pes total'], 'TOTAL': TOTAL['Pèrdua pes total']}))",
   "id": "7358237f82fedff9",
   "outputs": [],
   "execution_count": null
  },
  {
   "metadata": {},
   "cell_type": "code",
   "source": "",
   "id": "cd77e335edeabf1d",
   "outputs": [],
   "execution_count": null
  }
 ],
 "metadata": {
  "kernelspec": {
   "display_name": "Python 3",
   "language": "python",
   "name": "python3"
  },
  "language_info": {
   "codemirror_mode": {
    "name": "ipython",
    "version": 2
   },
   "file_extension": ".py",
   "mimetype": "text/x-python",
   "name": "python",
   "nbconvert_exporter": "python",
   "pygments_lexer": "ipython2",
   "version": "2.7.6"
  }
 },
 "nbformat": 4,
 "nbformat_minor": 5
}
