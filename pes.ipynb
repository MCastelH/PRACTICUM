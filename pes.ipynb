{
 "cells": [
  {
   "metadata": {},
   "cell_type": "markdown",
   "source": "## Importació de llibreries i funcions pròpies",
   "id": "a344fbaf564843cd"
  },
  {
   "metadata": {},
   "cell_type": "code",
   "source": [
    "import pandas as pd\n",
    "from auxiliary_functions import test_indepe_plot, test_indepe_bin_plot, comptatge_i_percentatge_cat, mitjana_i_std_num\n",
    "from listas import num_var_pes, cat_var_pes"
   ],
   "id": "7c01a71d31f38af6",
   "outputs": [],
   "execution_count": null
  },
  {
   "metadata": {},
   "cell_type": "markdown",
   "source": "## Càrrega i segmentació de les dades",
   "id": "6ca6a7ce66e34c27"
  },
  {
   "metadata": {},
   "cell_type": "code",
   "source": [
    "taula = pd.read_pickle('./data/processed/dataframe.pkl')\n",
    "\n",
    "AMB_PA = taula[taula[\"PA diagnosticada\"] == 1.0]\n",
    "AMB_PA_MECVV = taula[\n",
    "    (taula[\"Dies entre primer ICD pneumònia i primer MECVV positiu\"] < 30)]\n",
    "SENSE_PA = taula[\n",
    "           (taula[\"Dies entre primer ICD pneumònia i primer MECVV positiu\"] > 30) &\n",
    "           (taula['P diagnosticada'] == 1.0)]\n",
    "TOTAL = taula"
   ],
   "id": "78643956fe9047dd",
   "outputs": [],
   "execution_count": null
  },
  {
   "metadata": {},
   "cell_type": "markdown",
   "source": "## Anàlisi descriptiva de les dades ",
   "id": "6fdd81104883fe36"
  },
  {
   "metadata": {},
   "cell_type": "markdown",
   "source": "### Comptatges i percentatges de variables categòriques per grup\n",
   "id": "573992f66d509eba"
  },
  {
   "metadata": {},
   "cell_type": "code",
   "source": [
    "llista_dfs = [('AMB_PA', AMB_PA), ('AMB_PA_MECVV', AMB_PA_MECVV), ('SENSE_PA', SENSE_PA), ('TOTAL', TOTAL)]\n",
    "\n",
    "comptatge_i_percentatge_cat(llista_dfs, cat_var_pes)"
   ],
   "id": "14ea6b9af899dde6",
   "outputs": [],
   "execution_count": null
  },
  {
   "metadata": {},
   "cell_type": "markdown",
   "source": "### Mitjanes i desviacions estàndard de variables numèriques per grup",
   "id": "12c3cda5eff88265"
  },
  {
   "metadata": {},
   "cell_type": "code",
   "source": [
    "llista_dfs = [('AMB_PA', AMB_PA), ('AMB_PA_MECVV', AMB_PA_MECVV), ('SENSE_PA', SENSE_PA), ('TOTAL', TOTAL)]\n",
    "\n",
    "mitjana_i_std_num(llista_dfs, num_var_pes)"
   ],
   "id": "a8cd8ada616379d8",
   "outputs": [],
   "execution_count": null
  },
  {
   "metadata": {},
   "cell_type": "markdown",
   "source": "## Pèrdua de pes entre ingressos (%)",
   "id": "f2da7e559c7e5b1a"
  },
  {
   "metadata": {},
   "cell_type": "markdown",
   "source": "#### Comparació distributiva. Test d'independència",
   "id": "3e7e1c2fbd2de252"
  },
  {
   "metadata": {},
   "cell_type": "code",
   "source": "test_indepe_bin_plot(data_1= TOTAL['split_database'], data_2= TOTAL['Pèrdua pes entre ingressos categòrica'])",
   "id": "e7be42c51349fcce",
   "outputs": [],
   "execution_count": null
  },
  {
   "metadata": {},
   "cell_type": "markdown",
   "source": "## Pèrdua de pes entre ingressos (mitjana i SD)",
   "id": "45c98fba65b57695"
  },
  {
   "metadata": {},
   "cell_type": "markdown",
   "source": "#### Comparació distributiva. Test d'independència",
   "id": "fe63e69790cccd1e"
  },
  {
   "metadata": {},
   "cell_type": "code",
   "source": "test_indepe_plot({'AMB_PA': AMB_PA['Pèrdua pes entre ingressos'], 'AMB_PA_MECVV': AMB_PA_MECVV['Pèrdua pes entre ingressos'], 'SENSE_PA': SENSE_PA['Pèrdua pes entre ingressos'], 'TOTAL': TOTAL['Pèrdua pes entre ingressos']})",
   "id": "aa9beb02232c4429",
   "outputs": [],
   "execution_count": null
  },
  {
   "metadata": {},
   "cell_type": "markdown",
   "source": "## Pèrdua de pes total",
   "id": "9477750ecfe6e87d"
  },
  {
   "metadata": {},
   "cell_type": "markdown",
   "source": "#### Comparació distributiva. Test d'independència",
   "id": "1bf41853e12bb424"
  },
  {
   "metadata": {},
   "cell_type": "code",
   "source": "test_indepe_plot(test_indepe_plot({'AMB_PA': AMB_PA['Pèrdua pes total'], 'AMB_PA_MECVV': AMB_PA_MECVV['Pèrdua pes total'], 'SENSE_PA': SENSE_PA['Pèrdua pes total'], 'TOTAL': TOTAL['Pèrdua pes total']}))",
   "id": "7358237f82fedff9",
   "outputs": [],
   "execution_count": null
  }
 ],
 "metadata": {
  "kernelspec": {
   "display_name": "Python 3",
   "language": "python",
   "name": "python3"
  },
  "language_info": {
   "codemirror_mode": {
    "name": "ipython",
    "version": 2
   },
   "file_extension": ".py",
   "mimetype": "text/x-python",
   "name": "python",
   "nbconvert_exporter": "python",
   "pygments_lexer": "ipython2",
   "version": "2.7.6"
  }
 },
 "nbformat": 4,
 "nbformat_minor": 5
}
