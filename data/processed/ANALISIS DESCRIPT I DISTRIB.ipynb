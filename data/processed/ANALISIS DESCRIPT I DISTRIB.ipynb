{
 "cells": [
  {
   "cell_type": "markdown",
   "source": [
    " # Listas de los codigos "
   ],
   "metadata": {
    "collapsed": false
   },
   "id": "68940808ceb9153f"
  },
  {
   "cell_type": "code",
   "outputs": [],
   "source": [
    "P_list = ['J09.X1', 'J10.00', 'J10.01', 'J10.02', 'J10.03', 'J10.04', 'J10.05', 'J10.06', 'J10.07', 'J10.08', 'J11.01',\n",
    "          'J11.02', 'J11.03', 'J11.04', 'J11.05', 'J11.06', 'J11.07', 'J11.08', 'J95.851', 'J95.4', 'A15.0', 'J12', 'J12.0',\n",
    "          'J12.1', 'J12.2', 'J12.3', 'J12.8', 'J12.81', 'J12.82', 'J12.89', 'J12.9', 'J13', 'J14', 'J15', 'J15.0', 'J15.1',\n",
    "          'J15.2', 'J15.3', 'J15.4', 'J15.5', 'J15.6', 'J15.7', 'J15.8', 'J15.9', 'J16', 'J16.0', 'J16.8', 'J17', 'J18', 'J18.0',\n",
    "          'J18.1', 'J18.2', 'J18.8', 'J18.9']\n",
    "\n",
    "PA_list = ['J69.0', 'J69.1', 'J69.2', 'J69.3', 'J69.4', 'J69.5', 'J69.6', 'J69.7', 'J69.8']\n",
    "\n",
    "disfagia_list = ['787.20', 'R13.0', 'R13.1', 'R13.10', 'R13.11', 'R13.12', 'R13.13', 'R13.14', 'R13.19']\n"
   ],
   "metadata": {
    "collapsed": false
   },
   "id": "1eeb30f40ed5ab2d"
  },
  {
   "cell_type": "markdown",
   "source": [
    "# Paquetes y datos originales"
   ],
   "metadata": {
    "collapsed": false
   },
   "id": "56adfe3014ecabc7"
  },
  {
   "cell_type": "code",
   "outputs": [],
   "source": [
    "import json\n",
    "import pandas as pd\n",
    "from datetime import datetime\n",
    "\n"
   ],
   "metadata": {
    "collapsed": false
   },
   "id": "34dba1a0fd28236e",
   "execution_count": null
  },
  {
   "cell_type": "code",
   "outputs": [],
   "source": [],
   "metadata": {
    "collapsed": false
   },
   "id": "aa2554a079d8240"
  }
 ],
 "metadata": {
  "kernelspec": {
   "display_name": "Python 3",
   "language": "python",
   "name": "python3"
  },
  "language_info": {
   "codemirror_mode": {
    "name": "ipython",
    "version": 2
   },
   "file_extension": ".py",
   "mimetype": "text/x-python",
   "name": "python",
   "nbconvert_exporter": "python",
   "pygments_lexer": "ipython2",
   "version": "2.7.6"
  }
 },
 "nbformat": 4,
 "nbformat_minor": 5
}
