{
 "cells": [
  {
   "cell_type": "code",
   "id": "initial_id",
   "metadata": {
    "collapsed": true,
    "ExecuteTime": {
     "end_time": "2024-05-08T09:04:13.028855Z",
     "start_time": "2024-05-08T09:04:10.907994Z"
    }
   },
   "source": [
    "import pandas as pd\n",
    "\n",
    "taula = pd.read_pickle('./data/processed/dataframe.pkl')\n",
    "\n",
    "from scipy.stats import ttest_ind\n",
    "from scipy.stats import shapiro\n",
    "from scipy.stats import mannwhitneyu\n",
    "from scipy.stats import chi2_contingency"
   ],
   "outputs": [],
   "execution_count": 2
  },
  {
   "metadata": {
    "ExecuteTime": {
     "end_time": "2024-05-08T09:04:30.399938Z",
     "start_time": "2024-05-08T09:04:30.165384Z"
    }
   },
   "cell_type": "code",
   "source": [
    "taula.head()"
   ],
   "id": "d7edd23ab31dcae8",
   "outputs": [
    {
     "data": {
      "text/plain": [
       "   edat sexe  visitaDietista  \\\n",
       "0    89    F               0   \n",
       "1    70    M               0   \n",
       "2    96    M               0   \n",
       "3    85    M               0   \n",
       "4    93    M               0   \n",
       "\n",
       "                                                labs  \\\n",
       "0                                                 []   \n",
       "1  [{'date': '20220524', 'name': 'PCR SARS-CoV2 S...   \n",
       "2                                                 []   \n",
       "3                                                 []   \n",
       "4  [{'date': '20220208', 'name': 'UREA Sèrum', 'l...   \n",
       "\n",
       "                                                 mna  \\\n",
       "0                                                 []   \n",
       "1                                                 []   \n",
       "2                                                 []   \n",
       "3                                                 []   \n",
       "4  [{'imc': '0', 'anorexia': '1', 'perduaPes': '1...   \n",
       "\n",
       "                                               emina canadenca  \\\n",
       "0  [{'activitat': '2', 'estatMental': '1', 'humit...        []   \n",
       "1  [{'activitat': '0', 'estatMental': '0', 'humit...        []   \n",
       "2  [{'activitat': '3', 'estatMental': '0', 'humit...        []   \n",
       "3  [{'activitat': '2', 'estatMental': '1', 'humit...        []   \n",
       "4  [{'activitat': '2', 'estatMental': '1', 'humit...        []   \n",
       "\n",
       "                                                 pes  \\\n",
       "0                                                 []   \n",
       "1  [{'valor': '64.7', 'data': '2022-10-04'}, {'va...   \n",
       "2                                                 []   \n",
       "3                                                 []   \n",
       "4  [{'valor': '49.900', 'data': '2022-06-02'}, {'...   \n",
       "\n",
       "                                                atcs  \\\n",
       "0  [{'codi': 'M01AE', 'dataInici': '2020-06-21 00...   \n",
       "1  [{'codi': 'C09AA', 'dataInici': '2021-05-26 00...   \n",
       "2  [{'codi': 'G04CA', 'dataInici': '2020-07-09 00...   \n",
       "3  [{'codi': 'G04CA', 'dataInici': '2020-07-15 00...   \n",
       "4  [{'codi': 'N02AA', 'dataInici': '2022-02-01 00...   \n",
       "\n",
       "                                              mecvvs  ...  \\\n",
       "0                                                 []  ...   \n",
       "1  [{'data': '20220930', 'pacientNoColabora': '',...  ...   \n",
       "2                                                 []  ...   \n",
       "3  [{'data': '20201204131810', 'disfagia': 'S', '...  ...   \n",
       "4  [{'data': '20220330172303', 'disfagiaConeguda'...  ...   \n",
       "\n",
       "  Creatinina >1.5 binària Pes més antic  Pes més nou  Data pes més antic  \\\n",
       "0                       0          None         None                None   \n",
       "1                       0            70         53.7          2022-07-06   \n",
       "2                       0          None         None                None   \n",
       "3                       0          None         None                None   \n",
       "4                       0        49.900       49.900          2022-06-02   \n",
       "\n",
       "   Data primer MECVV  Pes coincident primer MECVV  Pèrdua pes entre ingressos  \\\n",
       "0                NaT                         None                        None   \n",
       "1                NaT                         None                        None   \n",
       "2                NaT                         None                        None   \n",
       "3         2020-12-04                         None                        None   \n",
       "4                NaT                         None                        None   \n",
       "\n",
       "   Pèrdua pes total  Data més antiga pneumònia  \\\n",
       "0              None                 2020-06-18   \n",
       "1              16.3                 2022-09-29   \n",
       "2              None                 2020-07-08   \n",
       "3              None                 2020-12-02   \n",
       "4               0.0                 2022-08-07   \n",
       "\n",
       "   Dies entre primer ICD pneumònia i primer MECVV positiu  \n",
       "0                                                NaN       \n",
       "1                                                NaN       \n",
       "2                                                NaN       \n",
       "3                                                2.0       \n",
       "4                                                NaN       \n",
       "\n",
       "[5 rows x 78 columns]"
      ],
      "text/html": [
       "<div>\n",
       "<style scoped>\n",
       "    .dataframe tbody tr th:only-of-type {\n",
       "        vertical-align: middle;\n",
       "    }\n",
       "\n",
       "    .dataframe tbody tr th {\n",
       "        vertical-align: top;\n",
       "    }\n",
       "\n",
       "    .dataframe thead th {\n",
       "        text-align: right;\n",
       "    }\n",
       "</style>\n",
       "<table border=\"1\" class=\"dataframe\">\n",
       "  <thead>\n",
       "    <tr style=\"text-align: right;\">\n",
       "      <th></th>\n",
       "      <th>edat</th>\n",
       "      <th>sexe</th>\n",
       "      <th>visitaDietista</th>\n",
       "      <th>labs</th>\n",
       "      <th>mna</th>\n",
       "      <th>emina</th>\n",
       "      <th>canadenca</th>\n",
       "      <th>pes</th>\n",
       "      <th>atcs</th>\n",
       "      <th>mecvvs</th>\n",
       "      <th>...</th>\n",
       "      <th>Creatinina &gt;1.5 binària</th>\n",
       "      <th>Pes més antic</th>\n",
       "      <th>Pes més nou</th>\n",
       "      <th>Data pes més antic</th>\n",
       "      <th>Data primer MECVV</th>\n",
       "      <th>Pes coincident primer MECVV</th>\n",
       "      <th>Pèrdua pes entre ingressos</th>\n",
       "      <th>Pèrdua pes total</th>\n",
       "      <th>Data més antiga pneumònia</th>\n",
       "      <th>Dies entre primer ICD pneumònia i primer MECVV positiu</th>\n",
       "    </tr>\n",
       "  </thead>\n",
       "  <tbody>\n",
       "    <tr>\n",
       "      <th>0</th>\n",
       "      <td>89</td>\n",
       "      <td>F</td>\n",
       "      <td>0</td>\n",
       "      <td>[]</td>\n",
       "      <td>[]</td>\n",
       "      <td>[{'activitat': '2', 'estatMental': '1', 'humit...</td>\n",
       "      <td>[]</td>\n",
       "      <td>[]</td>\n",
       "      <td>[{'codi': 'M01AE', 'dataInici': '2020-06-21 00...</td>\n",
       "      <td>[]</td>\n",
       "      <td>...</td>\n",
       "      <td>0</td>\n",
       "      <td>None</td>\n",
       "      <td>None</td>\n",
       "      <td>None</td>\n",
       "      <td>NaT</td>\n",
       "      <td>None</td>\n",
       "      <td>None</td>\n",
       "      <td>None</td>\n",
       "      <td>2020-06-18</td>\n",
       "      <td>NaN</td>\n",
       "    </tr>\n",
       "    <tr>\n",
       "      <th>1</th>\n",
       "      <td>70</td>\n",
       "      <td>M</td>\n",
       "      <td>0</td>\n",
       "      <td>[{'date': '20220524', 'name': 'PCR SARS-CoV2 S...</td>\n",
       "      <td>[]</td>\n",
       "      <td>[{'activitat': '0', 'estatMental': '0', 'humit...</td>\n",
       "      <td>[]</td>\n",
       "      <td>[{'valor': '64.7', 'data': '2022-10-04'}, {'va...</td>\n",
       "      <td>[{'codi': 'C09AA', 'dataInici': '2021-05-26 00...</td>\n",
       "      <td>[{'data': '20220930', 'pacientNoColabora': '',...</td>\n",
       "      <td>...</td>\n",
       "      <td>0</td>\n",
       "      <td>70</td>\n",
       "      <td>53.7</td>\n",
       "      <td>2022-07-06</td>\n",
       "      <td>NaT</td>\n",
       "      <td>None</td>\n",
       "      <td>None</td>\n",
       "      <td>16.3</td>\n",
       "      <td>2022-09-29</td>\n",
       "      <td>NaN</td>\n",
       "    </tr>\n",
       "    <tr>\n",
       "      <th>2</th>\n",
       "      <td>96</td>\n",
       "      <td>M</td>\n",
       "      <td>0</td>\n",
       "      <td>[]</td>\n",
       "      <td>[]</td>\n",
       "      <td>[{'activitat': '3', 'estatMental': '0', 'humit...</td>\n",
       "      <td>[]</td>\n",
       "      <td>[]</td>\n",
       "      <td>[{'codi': 'G04CA', 'dataInici': '2020-07-09 00...</td>\n",
       "      <td>[]</td>\n",
       "      <td>...</td>\n",
       "      <td>0</td>\n",
       "      <td>None</td>\n",
       "      <td>None</td>\n",
       "      <td>None</td>\n",
       "      <td>NaT</td>\n",
       "      <td>None</td>\n",
       "      <td>None</td>\n",
       "      <td>None</td>\n",
       "      <td>2020-07-08</td>\n",
       "      <td>NaN</td>\n",
       "    </tr>\n",
       "    <tr>\n",
       "      <th>3</th>\n",
       "      <td>85</td>\n",
       "      <td>M</td>\n",
       "      <td>0</td>\n",
       "      <td>[]</td>\n",
       "      <td>[]</td>\n",
       "      <td>[{'activitat': '2', 'estatMental': '1', 'humit...</td>\n",
       "      <td>[]</td>\n",
       "      <td>[]</td>\n",
       "      <td>[{'codi': 'G04CA', 'dataInici': '2020-07-15 00...</td>\n",
       "      <td>[{'data': '20201204131810', 'disfagia': 'S', '...</td>\n",
       "      <td>...</td>\n",
       "      <td>0</td>\n",
       "      <td>None</td>\n",
       "      <td>None</td>\n",
       "      <td>None</td>\n",
       "      <td>2020-12-04</td>\n",
       "      <td>None</td>\n",
       "      <td>None</td>\n",
       "      <td>None</td>\n",
       "      <td>2020-12-02</td>\n",
       "      <td>2.0</td>\n",
       "    </tr>\n",
       "    <tr>\n",
       "      <th>4</th>\n",
       "      <td>93</td>\n",
       "      <td>M</td>\n",
       "      <td>0</td>\n",
       "      <td>[{'date': '20220208', 'name': 'UREA Sèrum', 'l...</td>\n",
       "      <td>[{'imc': '0', 'anorexia': '1', 'perduaPes': '1...</td>\n",
       "      <td>[{'activitat': '2', 'estatMental': '1', 'humit...</td>\n",
       "      <td>[]</td>\n",
       "      <td>[{'valor': '49.900', 'data': '2022-06-02'}, {'...</td>\n",
       "      <td>[{'codi': 'N02AA', 'dataInici': '2022-02-01 00...</td>\n",
       "      <td>[{'data': '20220330172303', 'disfagiaConeguda'...</td>\n",
       "      <td>...</td>\n",
       "      <td>0</td>\n",
       "      <td>49.900</td>\n",
       "      <td>49.900</td>\n",
       "      <td>2022-06-02</td>\n",
       "      <td>NaT</td>\n",
       "      <td>None</td>\n",
       "      <td>None</td>\n",
       "      <td>0.0</td>\n",
       "      <td>2022-08-07</td>\n",
       "      <td>NaN</td>\n",
       "    </tr>\n",
       "  </tbody>\n",
       "</table>\n",
       "<p>5 rows × 78 columns</p>\n",
       "</div>"
      ]
     },
     "execution_count": 3,
     "metadata": {},
     "output_type": "execute_result"
    }
   ],
   "execution_count": 3
  },
  {
   "metadata": {
    "ExecuteTime": {
     "end_time": "2024-05-08T09:04:30.668683Z",
     "start_time": "2024-05-08T09:04:30.652639Z"
    }
   },
   "cell_type": "code",
   "source": [
    "AMB_PA = taula[taula[\"PA diagnosticada\"] == 1.0]\n",
    "AMB_PA_MECVV = taula[\n",
    "    (taula[\"Dies entre primer ICD pneumònia i primer MECVV positiu\"] < 30)]\n",
    "SENSE_PA = taula[\n",
    "           (taula[\"Dies entre primer ICD pneumònia i primer MECVV positiu\"] > 30) &\n",
    "           (taula['P diagnosticada'] == 1.0)]\n",
    "TOTAL = taula"
   ],
   "id": "66ee0565100b2096",
   "outputs": [],
   "execution_count": 4
  },
  {
   "metadata": {},
   "cell_type": "markdown",
   "source": [
    "# Síndromes geriàtrics"
   ],
   "id": "89fbabd4869d9b6e"
  },
  {
   "metadata": {},
   "cell_type": "markdown",
   "source": [
    "## Index de Charlson"
   ],
   "id": "26d9f063eaf602a8"
  },
  {
   "metadata": {
    "ExecuteTime": {
     "end_time": "2024-05-08T09:04:31.283574Z",
     "start_time": "2024-05-08T09:04:31.276969Z"
    }
   },
   "cell_type": "code",
   "source": [
    "Mitjana_charlson = AMB_PA['Charlson'].mean()\n",
    "desviacio_estandard_charlson = AMB_PA['Charlson'].std()\n",
    "\n",
    "resultat = f\"{Mitjana_charlson:.2f} ± {desviacio_estandard_charlson:.2f}\"\n",
    "print(\"Mitjana ± Desviació Estàndard de l'índex de Charlson:\", resultat)"
   ],
   "id": "b5b2205f3b3c898f",
   "outputs": [
    {
     "name": "stdout",
     "output_type": "stream",
     "text": [
      "Mitjana ± Desviació Estàndard de l'índex de Charlson: 10.24 ± 10.73\n"
     ]
    }
   ],
   "execution_count": 5
  },
  {
   "metadata": {
    "ExecuteTime": {
     "end_time": "2024-05-08T09:04:32.092735Z",
     "start_time": "2024-05-08T09:04:32.085432Z"
    }
   },
   "cell_type": "code",
   "source": [
    "Mitjana_charlson = AMB_PA_MECVV['Charlson'].mean()\n",
    "desviacio_estandard_charlson = AMB_PA_MECVV['Charlson'].std()\n",
    "\n",
    "resultat = f\"{Mitjana_charlson:.2f} ± {desviacio_estandard_charlson:.2f}\"\n",
    "print(\"Mitjana ± Desviació Estàndard de l'índex de Charlson:\", resultat)"
   ],
   "id": "7b8479957609a4b3",
   "outputs": [
    {
     "name": "stdout",
     "output_type": "stream",
     "text": [
      "Mitjana ± Desviació Estàndard de l'índex de Charlson: 16.00 ± 11.60\n"
     ]
    }
   ],
   "execution_count": 6
  },
  {
   "metadata": {
    "ExecuteTime": {
     "end_time": "2024-05-08T09:04:32.675350Z",
     "start_time": "2024-05-08T09:04:32.664670Z"
    }
   },
   "cell_type": "code",
   "source": [
    "Mitjana_charlson = SENSE_PA['Charlson'].mean()\n",
    "desviacio_estandard_charlson = SENSE_PA['Charlson'].std()\n",
    "\n",
    "resultat = f\"{Mitjana_charlson:.2f} ± {desviacio_estandard_charlson:.2f}\"\n",
    "print(\"Mitjana ± Desviació Estàndard de l'índex de Charlson:\", resultat)"
   ],
   "id": "a0991a7e2863cf1",
   "outputs": [
    {
     "name": "stdout",
     "output_type": "stream",
     "text": [
      "Mitjana ± Desviació Estàndard de l'índex de Charlson: 16.50 ± 12.83\n"
     ]
    }
   ],
   "execution_count": 7
  },
  {
   "metadata": {
    "ExecuteTime": {
     "end_time": "2024-05-08T09:04:33.530819Z",
     "start_time": "2024-05-08T09:04:33.516658Z"
    }
   },
   "cell_type": "code",
   "source": [
    "Mitjana_charlson = TOTAL['Charlson'].mean()\n",
    "desviacio_estandard_charlson = TOTAL['Charlson'].std()\n",
    "\n",
    "resultat = f\"{Mitjana_charlson:.2f} ± {desviacio_estandard_charlson:.2f}\"\n",
    "print(\"Mitjana ± Desviació Estàndard de l'índex de Charlson:\", resultat)"
   ],
   "id": "7493edc5cf7aeb5",
   "outputs": [
    {
     "name": "stdout",
     "output_type": "stream",
     "text": [
      "Mitjana ± Desviació Estàndard de l'índex de Charlson: 11.62 ± 13.16\n"
     ]
    }
   ],
   "execution_count": 8
  },
  {
   "metadata": {},
   "cell_type": "markdown",
   "source": "#### Comparació distributiva",
   "id": "7759f395ce8c1a34"
  },
  {
   "metadata": {},
   "cell_type": "markdown",
   "source": "##### Normalitat i p-valor",
   "id": "9e4a7fb9f900e9e1"
  },
  {
   "cell_type": "code",
   "outputs": [],
   "source": [
    "stat, p_value = shapiro(AMB_PA['Charlson'])\n",
    "print(f\"Estadístic W = {stat:.4f}\")\n",
    "print(f\"Valor p = {p_value:.4f}\")\n",
    "\n",
    "alpha = 0.05\n",
    "if p_value < alpha:\n",
    "    print(\"El nombre de files no segueix una distribució normal.\")\n",
    "else:\n",
    "    print(\"El nombre de files segueix una distribució normal\")"
   ],
   "metadata": {
    "collapsed": false
   },
   "id": "abe9d625694898dd"
  },
  {
   "cell_type": "code",
   "outputs": [],
   "source": [
    "stat, p_value = shapiro(AMB_PA_MECVV['Charlson'])\n",
    "print(f\"Estadístic W = {stat:.4f}\")\n",
    "print(f\"Valor p = {p_value:.4f}\")\n",
    "\n",
    "alpha = 0.05\n",
    "if p_value < alpha:\n",
    "    print(\"El nombre de files no segueix una distribució normal.\")\n",
    "else:\n",
    "    print(\"El nombre de files segueix una distribució normal\")"
   ],
   "metadata": {
    "collapsed": false
   },
   "id": "1cd7fb47d9ea4046"
  },
  {
   "cell_type": "code",
   "outputs": [],
   "source": [
    "stat, p_value = shapiro(SENSE_PA['Charlson'])\n",
    "print(f\"Estadístic W = {stat:.4f}\")\n",
    "print(f\"Valor p = {p_value:.4f}\")\n",
    "\n",
    "alpha = 0.05\n",
    "if p_value < alpha:\n",
    "    print(\"El nombre de files no segueix una distribució normal.\")\n",
    "else:\n",
    "    print(\"El nombre de files segueix una distribució normal\")"
   ],
   "metadata": {
    "collapsed": false
   },
   "id": "e9aa89fc75d67db"
  },
  {
   "cell_type": "code",
   "outputs": [],
   "source": [
    "stat, p_value = shapiro(TOTAL['Charlson'])\n",
    "print(f\"Estadístic W = {stat:.4f}\")\n",
    "print(f\"Valor p = {p_value:.4f}\")\n",
    "\n",
    "alpha = 0.05\n",
    "if p_value < alpha:\n",
    "    print(\"El nombre de files no segueix una distribució normal.\")\n",
    "else:\n",
    "    print(\"El nombre de files segueix una distribució normal\")"
   ],
   "metadata": {
    "collapsed": false
   },
   "id": "41bc7572ce6657a0"
  },
  {
   "cell_type": "markdown",
   "source": [
    "NORMALITAT: Només segueixen una distribució normal el segon (AMB_PA_MECVV) i tercer (SENSE_PA) grup"
   ],
   "metadata": {
    "collapsed": false
   },
   "id": "41ef4f753dd84cdd"
  },
  {
   "cell_type": "code",
   "outputs": [],
   "source": [
    "stat, p_value_12 = mannwhitneyu(AMB_PA['Charlson'], AMB_PA_MECVV['Charlson'], alternative='two-sided')\n",
    "print(\"P-valor entre AMB_PA i AMB_PA_MECVV\", p_value_12)"
   ],
   "metadata": {
    "collapsed": false
   },
   "id": "1ec0541829140b8a"
  },
  {
   "cell_type": "code",
   "outputs": [],
   "source": [
    "stat, p_value_13 = mannwhitneyu(AMB_PA['Charlson'], SENSE_PA['Charlson'], alternative='two-sided')\n",
    "print(\"P-valor entre AMB_PA i SENSE_PA\", p_value_13)"
   ],
   "metadata": {
    "collapsed": false
   },
   "id": "d695885e6d03ad11"
  },
  {
   "cell_type": "code",
   "outputs": [],
   "source": [
    "stat, p_value_23 = ttest_ind(AMB_PA_MECVV['Charlson'], SENSE_PA['Charlson'], equal_var=False)\n",
    "print(\"P-valor entre AMB_PA_MECVV i SENSE_PA\", p_value_23)"
   ],
   "metadata": {
    "collapsed": false
   },
   "id": "c99806da274c1af8"
  },
  {
   "cell_type": "code",
   "outputs": [],
   "source": [
    "stat, p_value_14 = mannwhitneyu(AMB_PA['Charlson'], TOTAL['Charlson'], alternative='two-sided')\n",
    "print(\"P-valor entre AMB_PA i TOTAL\", p_value_14)"
   ],
   "metadata": {
    "collapsed": false
   },
   "id": "2cd683f16741bc4c"
  },
  {
   "cell_type": "code",
   "outputs": [],
   "source": [
    "stat, p_value_24 = mannwhitneyu(AMB_PA_MECVV['Charlson'], TOTAL['Charlson'], alternative='two-sided')\n",
    "print(\"P-valor entre AMB_PA_MECVV i TOTAL\", p_value_24)"
   ],
   "metadata": {
    "collapsed": false
   },
   "id": "2d12a4d8aecfa343"
  },
  {
   "cell_type": "code",
   "outputs": [],
   "source": [
    "stat, p_value_34 = mannwhitneyu(SENSE_PA['Charlson'], TOTAL['Charlson'], alternative='two-sided')\n",
    "print(\"P-valor entre SENSE_PA i TOTAL\", p_value_34)"
   ],
   "metadata": {
    "collapsed": false
   },
   "id": "9432d6033b10b1e1"
  },
  {
   "cell_type": "markdown",
   "source": [
    "## Caigudes prèvies"
   ],
   "metadata": {
    "collapsed": false
   },
   "id": "baf384c932f5317a"
  },
  {
   "cell_type": "code",
   "outputs": [],
   "source": [
    "caprev_AMB_PA= (AMB_PA['Caigudes prèvies'] == 1.0).mean() * 100\n",
    "print(f\"Percentatge de caigudes prèvies: {caprev_AMB_PA:.2f}%\")"
   ],
   "metadata": {
    "collapsed": false
   },
   "id": "11c9d718ad5f8ca9"
  },
  {
   "cell_type": "code",
   "outputs": [],
   "source": [
    "caprev_AMB_PA_MECVV= (AMB_PA_MECVV['Caigudes prèvies'] == 1.0).mean() * 100\n",
    "print(f\"Percentatge de caigudes prèvies: {caprev_AMB_PA_MECVV:.2f}%\")"
   ],
   "metadata": {
    "collapsed": false
   },
   "id": "9cee27f734dce74a"
  },
  {
   "cell_type": "code",
   "outputs": [],
   "source": [
    "caprev_SENSE_PA= (SENSE_PA['Caigudes prèvies'] == 1.0).mean() * 100\n",
    "print(f\"Percentatge de caigudes prèvies: {caprev_SENSE_PA:.2f}%\")"
   ],
   "metadata": {
    "collapsed": false
   },
   "id": "89b3bad0a2bd138"
  },
  {
   "cell_type": "code",
   "outputs": [],
   "source": [
    "caprev_TOTAL= (TOTAL['Caigudes prèvies'] == 1.0).mean() * 100\n",
    "print(f\"Percentatge de caigudes prèvies: {caprev_TOTAL:.2f}%\")"
   ],
   "metadata": {
    "collapsed": false
   },
   "id": "2b68011ac94f8713"
  },
  {
   "cell_type": "markdown",
   "source": [
    "#### Comparació distributiva"
   ],
   "metadata": {
    "collapsed": false
   },
   "id": "a1200410af953af1"
  },
  {
   "cell_type": "markdown",
   "source": [
    "##### Normalitat i p-valor"
   ],
   "metadata": {
    "collapsed": false
   },
   "id": "e507acc313f865b4"
  },
  {
   "cell_type": "markdown",
   "source": [
    "Torno a tenir variables categòriques pel que no fa falta calcular la normalitat"
   ],
   "metadata": {
    "collapsed": false
   },
   "id": "52064bf930caaefa"
  },
  {
   "cell_type": "code",
   "outputs": [],
   "source": [
    "contingency_table_12 = pd.crosstab(index=AMB_PA['Caigudes prèvies'], columns=AMB_PA_MECVV['Caigudes prèvies'])\n",
    "\n",
    "chi2_12, p_value_12, dof_12, expected_12 = chi2_contingency(contingency_table_12)\n",
    "\n",
    "print(\"Estadístic xi-quadrat entre AMB_PA i AMB_PA_MECVV:\", chi2_12)\n",
    "print(\"P-valor entre AMB_PA i AMB_PA_MECVV:\", p_value_12)\n",
    "\n",
    "if p_value_12 < 0.05:\n",
    "    print(\"Hi ha diferències significatives entre les distribucions de caigudes prèvies en AMB_PA i AMB_PA_MECVV.\")\n",
    "else:\n",
    "    print(\"No hi ha diferències significatives entre les distribucions de caigudes prèvies en AMB_PA i AMB_PA_MECVV.\")"
   ],
   "metadata": {
    "collapsed": false
   },
   "id": "595eda9b81fda996"
  },
  {
   "cell_type": "code",
   "outputs": [],
   "source": [
    "contingency_table_13 = pd.crosstab(index=AMB_PA['Caigudes prèvies'], columns=SENSE_PA['Caigudes prèvies'])\n",
    "\n",
    "chi2_13, p_value_13, dof_13, expected_13 = chi2_contingency(contingency_table_13)\n",
    "\n",
    "print(\"Estadístic xi-quadrat entre AMB_PA i SENSE_PA:\", chi2_13)\n",
    "print(\"P-valor entre AMB_PA i SENSE_PA:\", p_value_13)\n",
    "\n",
    "if p_value_13 < 0.05:\n",
    "    print(\"Hi ha diferències significatives entre les distribucions de caigudes prèvies en AMB_PA i SENSE_PA.\")\n",
    "else:\n",
    "    print(\"No hi ha diferències significatives entre les distribucions de caigudes prèvies en AMB_PA i SENSE_PA.\")"
   ],
   "metadata": {
    "collapsed": false
   },
   "id": "c2c073f61237c646"
  },
  {
   "cell_type": "code",
   "outputs": [],
   "source": [
    "contingency_table_23 = pd.crosstab(index=AMB_PA_MECVV['Caigudes prèvies'], columns=SENSE_PA['Caigudes prèvies'])\n",
    "\n",
    "chi2_23, p_value_23, dof_23, expected_23 = chi2_contingency(contingency_table_23)\n",
    "\n",
    "print(\"Estadístic xi-quadrat entre AMB_PA_MECVV i SENSE_PA:\", chi2_23)\n",
    "print(\"P-valor entre AMB_PA_MECVV i SENSE_PA:\", p_value_23)\n",
    "\n",
    "if p_value_23 < 0.05:\n",
    "    print(\"Hi ha diferències significatives entre les distribucions de caigudes prèvies en AMB_PA_MECVV i SENSE_PA.\")\n",
    "else:\n",
    "    print(\"No hi ha diferències significatives entre les distribucions de caigudes prèvies en AMB_PA_MECVV i SENSE_PA.\")"
   ],
   "metadata": {
    "collapsed": false
   },
   "id": "449106e19c4c7068"
  },
  {
   "cell_type": "code",
   "outputs": [],
   "source": [
    "contingency_table_14 = pd.crosstab(index=AMB_PA['Caigudes prèvies'], columns=TOTAL['Caigudes prèvies'])\n",
    "\n",
    "chi2_14, p_value_14, dof_14, expected_14 = chi2_contingency(contingency_table_14)\n",
    "\n",
    "print(\"Estadístic xi-quadrat entre AMB_PA i TOTAL:\", chi2_14)\n",
    "print(\"P-valor entre AMB_PA i TOTAL:\", p_value_14)\n",
    "\n",
    "if p_value_14 < 0.05:\n",
    "    print(\"Hi ha diferències significatives entre les distribucions de caigudes prèvies en AMB_PA i TOTAL.\")\n",
    "else:\n",
    "    print(\"No hi ha diferències significatives entre les distribucions de caigudes prèvies en AMB_PA i TOTAL.\")"
   ],
   "metadata": {
    "collapsed": false
   },
   "id": "6f49e507878e129"
  },
  {
   "cell_type": "code",
   "outputs": [],
   "source": [
    "contingency_table_24 = pd.crosstab(index=AMB_PA_MECVV['Caigudes prèvies'], columns=TOTAL['Caigudes prèvies'])\n",
    "\n",
    "chi2_24, p_value_24, dof_24, expected_24 = chi2_contingency(contingency_table_24)\n",
    "\n",
    "print(\"Estadístic xi-quadrat entre AMB_PA_MECVV i TOTAL:\", chi2_24)\n",
    "print(\"P-valor entre AMB_PA_MECVV i TOTAL:\", p_value_24)\n",
    "\n",
    "if p_value_24 < 0.05:\n",
    "    print(\"Hi ha diferències significatives entre les distribucions de caigudes prèvies en AMB_PA_MECVV i TOTAL.\")\n",
    "else:\n",
    "    print(\"No hi ha diferències significatives entre les distribucions de caigudes prèvies en AMB_PA_MECVV i TOTAL.\")"
   ],
   "metadata": {
    "collapsed": false
   },
   "id": "4192f5105255878a"
  },
  {
   "cell_type": "code",
   "outputs": [],
   "source": [
    "contingency_table_34 = pd.crosstab(index=SENSE_PA['Caigudes prèvies'], columns=TOTAL['Caigudes prèvies'])\n",
    "\n",
    "chi2_34, p_value_34, dof_34, expected_34 = chi2_contingency(contingency_table_34)\n",
    "\n",
    "print(\"Estadístic xi-quadrat entre SENSE_PA i TOTAL:\", chi2_34)\n",
    "print(\"P-valor entre SENSE_PA i TOTAL:\", p_value_34)\n",
    "\n",
    "if p_value_34 < 0.05:\n",
    "    print(\"Hi ha diferències significatives entre les distribucions de caigudes prèvies en SENSE_PA i TOTAL.\")\n",
    "else:\n",
    "    print(\"No hi ha diferències significatives entre les distribucions de caigudes prèvies en SENSE_PA i TOTAL.\")"
   ],
   "metadata": {
    "collapsed": false
   },
   "id": "4b98a557c23433a"
  },
  {
   "cell_type": "markdown",
   "source": [
    "## Deliris"
   ],
   "metadata": {
    "collapsed": false
   },
   "id": "5eb47a8ac5ba5756"
  },
  {
   "cell_type": "code",
   "outputs": [],
   "source": [
    "del_AMB_PA= (AMB_PA['Deliris'] == 1.0).mean() * 100\n",
    "print(f\"Percentatge de deliris: {del_AMB_PA:.2f}%\")"
   ],
   "metadata": {
    "collapsed": false
   },
   "id": "5ceab0b964a9fbda"
  },
  {
   "cell_type": "code",
   "outputs": [],
   "source": [
    "del_AMB_PA_MECVV= (AMB_PA_MECVV['Deliris'] == 1.0).mean() * 100\n",
    "print(f\"Percentatge de deliris: {del_AMB_PA_MECVV:.2f}%\")"
   ],
   "metadata": {
    "collapsed": false
   },
   "id": "5e6e16d6a7056a1c"
  },
  {
   "cell_type": "code",
   "outputs": [],
   "source": [
    "del_SENSE_PA= (SENSE_PA['Deliris'] == 1.0).mean() * 100\n",
    "print(f\"Percentatge de deliris: {del_SENSE_PA:.2f}%\")"
   ],
   "metadata": {
    "collapsed": false
   },
   "id": "dfb5c917351cc37f"
  },
  {
   "cell_type": "code",
   "outputs": [],
   "source": [
    "del_TOTAL= (TOTAL['Deliris'] == 1.0).mean() * 100\n",
    "print(f\"Percentatge de deliris: {del_TOTAL:.2f}%\")"
   ],
   "metadata": {
    "collapsed": false
   },
   "id": "b75fba55d57b47b8"
  },
  {
   "cell_type": "markdown",
   "source": [
    "#### Comparació distributiva"
   ],
   "metadata": {
    "collapsed": false
   },
   "id": "4accacd3cfb9357a"
  },
  {
   "cell_type": "markdown",
   "source": [
    "##### Normalitat i p-valor"
   ],
   "metadata": {
    "collapsed": false
   },
   "id": "461739e62da73ef9"
  },
  {
   "cell_type": "code",
   "outputs": [],
   "source": [
    "contingency_table_12 = pd.crosstab(index=AMB_PA['Deliris'], columns=AMB_PA_MECVV['Deliris'])\n",
    "\n",
    "chi2_12, p_value_12, dof_12, expected_12 = chi2_contingency(contingency_table_12)\n",
    "\n",
    "print(\"Estadístic xi-quadrat entre AMB_PA i AMB_PA_MECVV:\", chi2_12)\n",
    "print(\"P-valor entre AMB_PA i AMB_PA_MECVV:\", p_value_12)\n",
    "\n",
    "if p_value_12 < 0.05:\n",
    "    print(\"Hi ha diferències significatives entre les distribucions de deliris en AMB_PA i AMB_PA_MECVV.\")\n",
    "else:\n",
    "    print(\"No hi ha diferències significatives entre les distribucions de deliris en AMB_PA i AMB_PA_MECVV.\")"
   ],
   "metadata": {
    "collapsed": false
   },
   "id": "2113a3a0c2a9bcca"
  },
  {
   "cell_type": "code",
   "outputs": [],
   "source": [
    "contingency_table_13 = pd.crosstab(index=AMB_PA['Deliris'], columns=SENSE_PA['Deliris'])\n",
    "\n",
    "chi2_13, p_value_13, dof_13, expected_13 = chi2_contingency(contingency_table_13)\n",
    "\n",
    "print(\"Estadístic xi-quadrat entre AMB_PA i SENSE_PA:\", chi2_13)\n",
    "print(\"P-valor entre AMB_PA i SENSE_PA:\", p_value_13)\n",
    "\n",
    "if p_value_13 < 0.05:\n",
    "    print(\"Hi ha diferències significatives entre les distribucions de deliris en AMB_PA i SENSE_PA.\")\n",
    "else:\n",
    "    print(\"No hi ha diferències significatives entre les distribucions de deliris en AMB_PA i SENSE_PA.\")"
   ],
   "metadata": {
    "collapsed": false
   },
   "id": "941ae96dfdf0fc6d"
  },
  {
   "cell_type": "code",
   "outputs": [],
   "source": [
    "contingency_table_23 = pd.crosstab(index=AMB_PA_MECVV['Deliris'], columns=SENSE_PA['Deliris'])\n",
    "\n",
    "chi2_23, p_value_23, dof_23, expected_23 = chi2_contingency(contingency_table_23)\n",
    "\n",
    "print(\"Estadístic xi-quadrat entre AMB_PA_MECVV i SENSE_PA:\", chi2_23)\n",
    "print(\"P-valor entre AMB_PA_MECVV i SENSE_PA:\", p_value_23)\n",
    "\n",
    "if p_value_23 < 0.05:\n",
    "    print(\"Hi ha diferències significatives entre les distribucions de deliris en AMB_PA_MECVV i SENSE_PA.\")\n",
    "else:\n",
    "    print(\"No hi ha diferències significatives entre les distribucions de deliris en AMB_PA_MECVV i SENSE_PA.\")"
   ],
   "metadata": {
    "collapsed": false
   },
   "id": "ebb361a2f17cc97d"
  },
  {
   "cell_type": "code",
   "outputs": [],
   "source": [
    "contingency_table_14 = pd.crosstab(index=AMB_PA['Deliris'], columns=TOTAL['Deliris'])\n",
    "\n",
    "chi2_14, p_value_14, dof_14, expected_14 = chi2_contingency(contingency_table_14)\n",
    "\n",
    "print(\"Estadístic xi-quadrat entre AMB_PA i TOTAL:\", chi2_14)\n",
    "print(\"P-valor entre AMB_PA i TOTAL:\", p_value_14)\n",
    "\n",
    "if p_value_14 < 0.05:\n",
    "    print(\"Hi ha diferències significatives entre les distribucions de deliris en AMB_PA i TOTAL.\")\n",
    "else:\n",
    "    print(\"No hi ha diferències significatives entre les distribucions de deliris en AMB_PA i TOTAL.\")"
   ],
   "metadata": {
    "collapsed": false
   },
   "id": "c310c9549aa831cc"
  },
  {
   "cell_type": "code",
   "outputs": [],
   "source": [
    "contingency_table_24 = pd.crosstab(index=AMB_PA_MECVV['Deliris'], columns=TOTAL['Deliris'])\n",
    "\n",
    "chi2_24, p_value_24, dof_24, expected_24 = chi2_contingency(contingency_table_24)\n",
    "\n",
    "print(\"Estadístic xi-quadrat entre AMB_PA_MECVV i TOTAL:\", chi2_24)\n",
    "print(\"P-valor entre AMB_PA_MECVV i TOTAL:\", p_value_24)\n",
    "\n",
    "if p_value_24 < 0.05:\n",
    "    print(\"Hi ha diferències significatives entre les distribucions de deliris en AMB_PA_MECVV i TOTAL.\")\n",
    "else:\n",
    "    print(\"No hi ha diferències significatives entre les distribucions de deliris en AMB_PA_MECVV i TOTAL.\")"
   ],
   "metadata": {
    "collapsed": false
   },
   "id": "4d95304c3098120d"
  },
  {
   "cell_type": "code",
   "outputs": [],
   "source": [
    "contingency_table_34 = pd.crosstab(index=SENSE_PA['Deliris'], columns=TOTAL['Deliris'])\n",
    "\n",
    "chi2_34, p_value_34, dof_34, expected_34 = chi2_contingency(contingency_table_34)\n",
    "\n",
    "print(\"Estadístic xi-quadrat entre SENSE_PA i TOTAL:\", chi2_34)\n",
    "print(\"P-valor entre SENSE_PA i TOTAL:\", p_value_34)\n",
    "\n",
    "if p_value_34 < 0.05:\n",
    "    print(\"Hi ha diferències significatives entre les distribucions de deliris en SENSE_PA i TOTAL.\")\n",
    "else:\n",
    "    print(\"No hi ha diferències significatives entre les distribucions de deliris en SENSE_PA i TOTAL.\")"
   ],
   "metadata": {
    "collapsed": false
   },
   "id": "6b00e16aab85dd06"
  },
  {
   "cell_type": "markdown",
   "source": [
    "## Demència"
   ],
   "metadata": {
    "collapsed": false
   },
   "id": "60e0af1c3171bb18"
  },
  {
   "cell_type": "code",
   "outputs": [],
   "source": [
    "dem_AMB_PA= (AMB_PA['Demència'] == 1.0).mean() * 100\n",
    "print(f\"Percentatge de demència: {dem_AMB_PA:.2f}%\")"
   ],
   "metadata": {
    "collapsed": false
   },
   "id": "35dc64335219c4fd"
  },
  {
   "cell_type": "code",
   "outputs": [],
   "source": [
    "dem_AMB_PA_MECVV= (AMB_PA_MECVV['Demència'] == 1.0).mean() * 100\n",
    "print(f\"Percentatge de demència: {dem_AMB_PA_MECVV:.2f}%\")"
   ],
   "metadata": {
    "collapsed": false
   },
   "id": "4e19671f78a81412"
  },
  {
   "cell_type": "code",
   "outputs": [],
   "source": [
    "dem_SENSE_PA= (SENSE_PA['Demència'] == 1.0).mean() * 100\n",
    "print(f\"Percentatge de demència: {dem_SENSE_PA:.2f}%\")"
   ],
   "metadata": {
    "collapsed": false
   },
   "id": "2fa387983c409a60"
  },
  {
   "cell_type": "code",
   "outputs": [],
   "source": [
    "dem_TOTAL= (TOTAL['Demència'] == 1.0).mean() * 100\n",
    "print(f\"Percentatge de demència: {dem_TOTAL:.2f}%\")"
   ],
   "metadata": {
    "collapsed": false
   },
   "id": "5731ab78f2789fb1"
  },
  {
   "cell_type": "markdown",
   "source": [
    "#### Comparació distributiva"
   ],
   "metadata": {
    "collapsed": false
   },
   "id": "f4552bcf1fdce5bc"
  },
  {
   "cell_type": "markdown",
   "source": [
    "##### Normalitat i p-valor"
   ],
   "metadata": {
    "collapsed": false
   },
   "id": "cbf4b7ba94b52086"
  },
  {
   "cell_type": "code",
   "outputs": [],
   "source": [
    "contingency_table_12 = pd.crosstab(index=AMB_PA['Demència'], columns=AMB_PA_MECVV['Demència'])\n",
    "\n",
    "chi2_12, p_value_12, dof_12, expected_12 = chi2_contingency(contingency_table_12)\n",
    "\n",
    "print(\"Estadístic xi-quadrat entre AMB_PA i AMB_PA_MECVV:\", chi2_12)\n",
    "print(\"P-valor entre AMB_PA i AMB_PA_MECVV:\", p_value_12)\n",
    "\n",
    "if p_value_12 < 0.05:\n",
    "    print(\"Hi ha diferències significatives entre les distribucions de demència en AMB_PA i AMB_PA_MECVV.\")\n",
    "else:\n",
    "    print(\"No hi ha diferències significatives entre les distribucions de demència en AMB_PA i AMB_PA_MECVV.\")"
   ],
   "metadata": {
    "collapsed": false
   },
   "id": "eab56ea0e3f4f621"
  },
  {
   "cell_type": "code",
   "outputs": [],
   "source": [
    "contingency_table_13 = pd.crosstab(index=AMB_PA['Demència'], columns=SENSE_PA['Demència'])\n",
    "\n",
    "chi2_13, p_value_13, dof_13, expected_13 = chi2_contingency(contingency_table_13)\n",
    "\n",
    "print(\"Estadístic xi-quadrat entre AMB_PA i SENSE_PA:\", chi2_13)\n",
    "print(\"P-valor entre AMB_PA i SENSE_PA:\", p_value_13)\n",
    "\n",
    "if p_value_13 < 0.05:\n",
    "    print(\"Hi ha diferències significatives entre les distribucions de demència en AMB_PA i SENSE_PA.\")\n",
    "else:\n",
    "    print(\"No hi ha diferències significatives entre les distribucions de demència en AMB_PA i SENSE_PA.\")"
   ],
   "metadata": {
    "collapsed": false
   },
   "id": "bce1b2c0f4c3a5d8"
  },
  {
   "cell_type": "code",
   "outputs": [],
   "source": [
    "contingency_table_23 = pd.crosstab(index=AMB_PA_MECVV['Demència'], columns=SENSE_PA['Demència'])\n",
    "\n",
    "chi2_23, p_value_23, dof_23, expected_23 = chi2_contingency(contingency_table_23)\n",
    "\n",
    "print(\"Estadístic xi-quadrat entre AMB_PA_MECVV i SENSE_PA:\", chi2_23)\n",
    "print(\"P-valor entre AMB_PA_MECVV i SENSE_PA:\", p_value_23)\n",
    "\n",
    "if p_value_23 < 0.05:\n",
    "    print(\"Hi ha diferències significatives entre les distribucions de demència en AMB_PA_MECVV i SENSE_PA.\")\n",
    "else:\n",
    "    print(\"No hi ha diferències significatives entre les distribucions de demència en AMB_PA_MECVV i SENSE_PA.\")"
   ],
   "metadata": {
    "collapsed": false
   },
   "id": "1195a5c97ffb43b4"
  },
  {
   "cell_type": "code",
   "outputs": [],
   "source": [
    "contingency_table_14 = pd.crosstab(index=AMB_PA['Demència'], columns=TOTAL['Demència'])\n",
    "\n",
    "chi2_14, p_value_14, dof_14, expected_14 = chi2_contingency(contingency_table_14)\n",
    "\n",
    "print(\"Estadístic xi-quadrat entre AMB_PA i TOTAL:\", chi2_14)\n",
    "print(\"P-valor entre AMB_PA i TOTAL:\", p_value_14)\n",
    "\n",
    "if p_value_14 < 0.05:\n",
    "    print(\"Hi ha diferències significatives entre les distribucions de demència en AMB_PA i TOTAL.\")\n",
    "else:\n",
    "    print(\"No hi ha diferències significatives entre les distribucions de demència en AMB_PA i TOTAL.\")"
   ],
   "metadata": {
    "collapsed": false
   },
   "id": "72413f4b96b9ea05"
  },
  {
   "cell_type": "code",
   "outputs": [],
   "source": [
    "contingency_table_24 = pd.crosstab(index=AMB_PA_MECVV['Demència'], columns=TOTAL['Demència'])\n",
    "\n",
    "chi2_24, p_value_24, dof_24, expected_24 = chi2_contingency(contingency_table_24)\n",
    "\n",
    "print(\"Estadístic xi-quadrat entre AMB_PA_MECVV i TOTAL:\", chi2_24)\n",
    "print(\"P-valor entre AMB_PA_MECVV i TOTAL:\", p_value_24)\n",
    "\n",
    "if p_value_24 < 0.05:\n",
    "    print(\"Hi ha diferències significatives entre les distribucions de demència en AMB_PA_MECVV i TOTAL.\")\n",
    "else:\n",
    "    print(\"No hi ha diferències significatives entre les distribucions de demència en AMB_PA_MECVV i TOTAL.\")"
   ],
   "metadata": {
    "collapsed": false
   },
   "id": "35e8423815fc7362"
  },
  {
   "cell_type": "code",
   "outputs": [],
   "source": [
    "contingency_table_34 = pd.crosstab(index=SENSE_PA['Demència'], columns=TOTAL['Demència'])\n",
    "\n",
    "chi2_34, p_value_34, dof_34, expected_34 = chi2_contingency(contingency_table_34)\n",
    "\n",
    "print(\"Estadístic xi-quadrat entre SENSE_PA i TOTAL:\", chi2_34)\n",
    "print(\"P-valor entre SENSE_PA i TOTAL:\", p_value_34)\n",
    "\n",
    "if p_value_34 < 0.05:\n",
    "    print(\"Hi ha diferències significatives entre les distribucions de demència en SENSE_PA i TOTAL.\")\n",
    "else:\n",
    "    print(\"No hi ha diferències significatives entre les distribucions de demència en SENSE_PA i TOTAL.\")"
   ],
   "metadata": {
    "collapsed": false
   },
   "id": "458f25d3a52ce25d"
  },
  {
   "cell_type": "markdown",
   "source": [
    "## Síndrome depressiu"
   ],
   "metadata": {
    "collapsed": false
   },
   "id": "9a7aabdb0bd2d70"
  },
  {
   "cell_type": "code",
   "outputs": [],
   "source": [
    "depre_AMB_PA= (AMB_PA['Síndrome depressiu'] == 1.0).mean() * 100\n",
    "print(f\"Percentatge de síndrome depressiu: {depre_AMB_PA:.2f}%\")"
   ],
   "metadata": {
    "collapsed": false
   },
   "id": "b71cd86b0d646253"
  },
  {
   "cell_type": "code",
   "outputs": [],
   "source": [
    "depre_AMB_PA_MECVV= (AMB_PA_MECVV['Síndrome depressiu'] == 1.0).mean() * 100\n",
    "print(f\"Percentatge de síndrome depressiu: {depre_AMB_PA_MECVV:.2f}%\")"
   ],
   "metadata": {
    "collapsed": false
   },
   "id": "97222a75c6a0c43d"
  },
  {
   "cell_type": "code",
   "outputs": [],
   "source": [
    "depre_SENSE_PA= (SENSE_PA['Síndrome depressiu'] == 1.0).mean() * 100\n",
    "print(f\"Percentatge de síndrome depressiu: {depre_SENSE_PA:.2f}%\")"
   ],
   "metadata": {
    "collapsed": false
   },
   "id": "28866fb6acf82b6f"
  },
  {
   "cell_type": "code",
   "outputs": [],
   "source": [
    "depre_TOTAL= (TOTAL['Síndrome depressiu'] == 1.0).mean() * 100\n",
    "print(f\"Percentatge de síndrome depressiu: {depre_TOTAL:.2f}%\")"
   ],
   "metadata": {
    "collapsed": false
   },
   "id": "59893d9163538802"
  },
  {
   "cell_type": "markdown",
   "source": [
    "#### Comparació distributiva"
   ],
   "metadata": {
    "collapsed": false
   },
   "id": "88c3ba181b1e87d6"
  },
  {
   "cell_type": "markdown",
   "source": [
    "##### Normalitat i p-valor"
   ],
   "metadata": {
    "collapsed": false
   },
   "id": "333c16a5e6fcaf98"
  },
  {
   "cell_type": "code",
   "outputs": [],
   "source": [
    "contingency_table_12 = pd.crosstab(index=AMB_PA['Síndrome depressiu'], columns=AMB_PA_MECVV['Síndrome depressiu'])\n",
    "\n",
    "chi2_12, p_value_12, dof_12, expected_12 = chi2_contingency(contingency_table_12)\n",
    "\n",
    "print(\"Estadístic xi-quadrat entre AMB_PA i AMB_PA_MECVV:\", chi2_12)\n",
    "print(\"P-valor entre AMB_PA i AMB_PA_MECVV:\", p_value_12)\n",
    "\n",
    "if p_value_12 < 0.05:\n",
    "    print(\"Hi ha diferències significatives entre les distribucions de síndrome depressiu en AMB_PA i AMB_PA_MECVV.\")\n",
    "else:\n",
    "    print(\"No hi ha diferències significatives entre les distribucions de síndrome depressiu en AMB_PA i AMB_PA_MECVV.\")"
   ],
   "metadata": {
    "collapsed": false
   },
   "id": "9f7ed864fa12f9f5"
  },
  {
   "cell_type": "code",
   "outputs": [],
   "source": [
    "contingency_table_13 = pd.crosstab(index=AMB_PA['Síndrome depressiu'], columns=SENSE_PA['Síndrome depressiu'])\n",
    "\n",
    "chi2_13, p_value_13, dof_13, expected_13 = chi2_contingency(contingency_table_13)\n",
    "\n",
    "print(\"Estadístic xi-quadrat entre AMB_PA i SENSE_PA:\", chi2_13)\n",
    "print(\"P-valor entre AMB_PA i SENSE_PA:\", p_value_13)\n",
    "\n",
    "if p_value_13 < 0.05:\n",
    "    print(\"Hi ha diferències significatives entre les distribucions de síndrome depressiu en AMB_PA i SENSE_PA.\")\n",
    "else:\n",
    "    print(\"No hi ha diferències significatives entre les distribucions de síndrome depressiu en AMB_PA i SENSE_PA.\")"
   ],
   "metadata": {
    "collapsed": false
   },
   "id": "680ea201c8206"
  },
  {
   "cell_type": "code",
   "outputs": [],
   "source": [
    "contingency_table_23 = pd.crosstab(index=AMB_PA_MECVV['Síndrome depressiu'], columns=SENSE_PA['Síndrome depressiu'])\n",
    "\n",
    "chi2_23, p_value_23, dof_23, expected_23 = chi2_contingency(contingency_table_23)\n",
    "\n",
    "print(\"Estadístic xi-quadrat entre AMB_PA_MECVV i SENSE_PA:\", chi2_23)\n",
    "print(\"P-valor entre AMB_PA_MECVV i SENSE_PA:\", p_value_23)\n",
    "\n",
    "if p_value_23 < 0.05:\n",
    "    print(\"Hi ha diferències significatives entre les distribucions de síndrome depressiu en AMB_PA_MECVV i SENSE_PA.\")\n",
    "else:\n",
    "    print(\"No hi ha diferències significatives entre les distribucions de síndrome depressiu en AMB_PA_MECVV i SENSE_PA.\")"
   ],
   "metadata": {
    "collapsed": false
   },
   "id": "e1c3438aae2916c1"
  },
  {
   "cell_type": "code",
   "outputs": [],
   "source": [
    "contingency_table_14 = pd.crosstab(index=AMB_PA['Síndrome depressiu'], columns=TOTAL['Síndrome depressiu'])\n",
    "\n",
    "chi2_14, p_value_14, dof_14, expected_14 = chi2_contingency(contingency_table_14)\n",
    "\n",
    "print(\"Estadístic xi-quadrat entre AMB_PA i TOTAL:\", chi2_14)\n",
    "print(\"P-valor entre AMB_PA i TOTAL:\", p_value_14)\n",
    "\n",
    "if p_value_14 < 0.05:\n",
    "    print(\"Hi ha diferències significatives entre les distribucions de síndrome depressiu en AMB_PA i TOTAL.\")\n",
    "else:\n",
    "    print(\"No hi ha diferències significatives entre les distribucions de síndrome depressiu en AMB_PA i TOTAL.\")"
   ],
   "metadata": {
    "collapsed": false
   },
   "id": "81cf36a7e46011a5"
  },
  {
   "cell_type": "code",
   "outputs": [],
   "source": [
    "contingency_table_24 = pd.crosstab(index=AMB_PA_MECVV['Síndrome depressiu'], columns=TOTAL['Síndrome depressiu'])\n",
    "\n",
    "chi2_24, p_value_24, dof_24, expected_24 = chi2_contingency(contingency_table_24)\n",
    "\n",
    "print(\"Estadístic xi-quadrat entre AMB_PA_MECVV i TOTAL:\", chi2_24)\n",
    "print(\"P-valor entre AMB_PA_MECVV i TOTAL:\", p_value_24)\n",
    "\n",
    "if p_value_24 < 0.05:\n",
    "    print(\"Hi ha diferències significatives entre les distribucions de síndrome depressiu en AMB_PA_MECVV i TOTAL.\")\n",
    "else:\n",
    "    print(\"No hi ha diferències significatives entre les distribucions de síndrome depressiu en AMB_PA_MECVV i TOTAL.\")"
   ],
   "metadata": {
    "collapsed": false
   },
   "id": "688ba1be570d16af"
  },
  {
   "cell_type": "code",
   "outputs": [],
   "source": [
    "contingency_table_34 = pd.crosstab(index=SENSE_PA['Síndrome depressiu'], columns=TOTAL['Síndrome depressiu'])\n",
    "\n",
    "chi2_34, p_value_34, dof_34, expected_34 = chi2_contingency(contingency_table_34)\n",
    "\n",
    "print(\"Estadístic xi-quadrat entre SENSE_PA i TOTAL:\", chi2_34)\n",
    "print(\"P-valor entre SENSE_PA i TOTAL:\", p_value_34)\n",
    "\n",
    "if p_value_34 < 0.05:\n",
    "    print(\"Hi ha diferències significatives entre les distribucions de síndrome depressiu en SENSE_PA i TOTAL.\")\n",
    "else:\n",
    "    print(\"No hi ha diferències significatives entre les distribucions de síndrome depressiu en SENSE_PA i TOTAL.\")"
   ],
   "metadata": {
    "collapsed": false
   },
   "id": "f980f523180dbefb"
  },
  {
   "cell_type": "markdown",
   "source": [
    "## Incontinència urinària"
   ],
   "metadata": {
    "collapsed": false
   },
   "id": "53bd08a502843f33"
  },
  {
   "cell_type": "code",
   "outputs": [],
   "source": [
    "ic_AMB_PA= (AMB_PA['Incont.uri'] == 1.0).mean() * 100\n",
    "print(f\"Percentatge d'incontinència urinària: {ic_AMB_PA:.2f}%\")"
   ],
   "metadata": {
    "collapsed": false
   },
   "id": "43c94af98191aaab"
  },
  {
   "cell_type": "code",
   "outputs": [],
   "source": [
    "ic_AMB_PA_MECVV= (AMB_PA_MECVV['Incont.uri'] == 1.0).mean() * 100\n",
    "print(f\"Percentatge d'incontinència urinària: {ic_AMB_PA_MECVV:.2f}%\")"
   ],
   "metadata": {
    "collapsed": false
   },
   "id": "33a21f2d558d3471"
  },
  {
   "cell_type": "code",
   "outputs": [],
   "source": [
    "ic_SENSE_PA= (SENSE_PA['Incont.uri'] == 1.0).mean() * 100\n",
    "print(f\"Percentatge d'incontinència urinària: {ic_SENSE_PA:.2f}%\")"
   ],
   "metadata": {
    "collapsed": false
   },
   "id": "15bc7631efd59f66"
  },
  {
   "cell_type": "code",
   "outputs": [],
   "source": [
    "ic_TOTAL= (TOTAL['Incont.uri'] == 1.0).mean() * 100\n",
    "print(f\"Percentatge d'incontinència urinària: {ic_TOTAL:.2f}%\")"
   ],
   "metadata": {
    "collapsed": false
   },
   "id": "2ec6af2b22808248"
  },
  {
   "cell_type": "markdown",
   "source": [
    "#### Comparació distributiva"
   ],
   "metadata": {
    "collapsed": false
   },
   "id": "d3caedfbd910cdc8"
  },
  {
   "cell_type": "markdown",
   "source": [
    "##### Normalitat i p-valor"
   ],
   "metadata": {
    "collapsed": false
   },
   "id": "cdc01e97162c13a1"
  },
  {
   "cell_type": "code",
   "outputs": [],
   "source": [
    "stat, p_value = shapiro(AMB_PA['Incont.uri'])\n",
    "print(f\"Estadístic W = {stat:.4f}\")\n",
    "print(f\"Valor p = {p_value:.4f}\")\n",
    "\n",
    "alpha = 0.05\n",
    "if p_value < alpha:\n",
    "    print(\"El nombre de files no segueix una distribució normal.\")\n",
    "else:\n",
    "    print(\"El nombre de files segueix una distribució normal\")"
   ],
   "metadata": {
    "collapsed": false
   },
   "id": "d0e0346b951c9ac4"
  },
  {
   "cell_type": "code",
   "outputs": [],
   "source": [
    "stat, p_value = shapiro(AMB_PA_MECVV['Incont.uri'])\n",
    "print(f\"Estadístic W = {stat:.4f}\")\n",
    "print(f\"Valor p = {p_value:.4f}\")\n",
    "\n",
    "alpha = 0.05\n",
    "if p_value < alpha:\n",
    "    print(\"El nombre de files no segueix una distribució normal.\")\n",
    "else:\n",
    "    print(\"El nombre de files segueix una distribució normal\")"
   ],
   "metadata": {
    "collapsed": false
   },
   "id": "2e1bce18f684fe60"
  },
  {
   "cell_type": "code",
   "outputs": [],
   "source": [
    "stat, p_value = shapiro(SENSE_PA['Incont.uri'])\n",
    "print(f\"Estadístic W = {stat:.4f}\")\n",
    "print(f\"Valor p = {p_value:.4f}\")\n",
    "\n",
    "alpha = 0.05\n",
    "if p_value < alpha:\n",
    "    print(\"El nombre de files no segueix una distribució normal.\")\n",
    "else:\n",
    "    print(\"El nombre de files segueix una distribució normal\")"
   ],
   "metadata": {
    "collapsed": false
   },
   "id": "d073fee60c31e649"
  },
  {
   "cell_type": "code",
   "outputs": [],
   "source": [
    "stat, p_value = shapiro(TOTAL['Incont.uri'])\n",
    "print(f\"Estadístic W = {stat:.4f}\")\n",
    "print(f\"Valor p = {p_value:.4f}\")\n",
    "\n",
    "alpha = 0.05\n",
    "if p_value < alpha:\n",
    "    print(\"El nombre de files no segueix una distribució normal.\")\n",
    "else:\n",
    "    print(\"El nombre de files segueix una distribució normal\")"
   ],
   "metadata": {
    "collapsed": false
   },
   "id": "256962e1b3b3fb52"
  },
  {
   "cell_type": "code",
   "outputs": [],
   "source": [
    "contingency_table_12 = pd.crosstab(index=AMB_PA['Incont.uri'], columns=AMB_PA_MECVV['Incont.uri'])\n",
    "\n",
    "chi2_12, p_value_12, dof_12, expected_12 = chi2_contingency(contingency_table_12)\n",
    "\n",
    "print(\"Estadístic xi-quadrat entre AMB_PA i AMB_PA_MECVV:\", chi2_12)\n",
    "print(\"P-valor entre AMB_PA i AMB_PA_MECVV:\", p_value_12)\n",
    "\n",
    "if p_value_12 < 0.05:\n",
    "    print(\"Hi ha diferències significatives entre les distribucions d'incontinència urinària en AMB_PA i AMB_PA_MECVV.\")\n",
    "else:\n",
    "    print(\"No hi ha diferències significatives entre les distribucions d'incontinència urinària en AMB_PA i AMB_PA_MECVV.\")"
   ],
   "metadata": {
    "collapsed": false
   },
   "id": "8416ea6b748bdd51"
  },
  {
   "cell_type": "code",
   "outputs": [],
   "source": [
    "contingency_table_13 = pd.crosstab(index=AMB_PA['Incont.uri'], columns=SENSE_PA['Incont.uri'])\n",
    "\n",
    "chi2_13, p_value_13, dof_13, expected_13 = chi2_contingency(contingency_table_13)\n",
    "\n",
    "print(\"Estadístic xi-quadrat entre AMB_PA i SENSE_PA:\", chi2_13)\n",
    "print(\"P-valor entre AMB_PA i SENSE_PA:\", p_value_13)\n",
    "\n",
    "if p_value_13 < 0.05:\n",
    "    print(\"Hi ha diferències significatives entre les distribucions d'incontinència urinària en AMB_PA i AMB_PA_MECVV.\")\n",
    "else:\n",
    "    print(\"No hi ha diferències significatives entre les distribucions d'incontinència urinària en AMB_PA i AMB_PA_MECVV.\")"
   ],
   "metadata": {
    "collapsed": false
   },
   "id": "969a8a69a47fe87"
  },
  {
   "cell_type": "code",
   "outputs": [],
   "source": [
    "contingency_table_23 = pd.crosstab(index=AMB_PA_MECVV['Incont.uri'], columns=SENSE_PA['Incont.uri'])\n",
    "\n",
    "chi2_23, p_value_23, dof_23, expected_23 = chi2_contingency(contingency_table_23)\n",
    "\n",
    "print(\"Estadístic xi-quadrat entre AMB_PA_MECVV i SENSE_PA:\", chi2_23)\n",
    "print(\"P-valor entre AMB_PA_MECVV i SENSE_PA:\", p_value_23)\n",
    "\n",
    "if p_value_23 < 0.05:\n",
    "    print(\"Hi ha diferències significatives entre les distribucions d'incontinència urinària en AMB_PA_MECVV i SENSE_PA.\")\n",
    "else:\n",
    "    print(\"No hi ha diferències significatives entre les distribucions d'incontinència urinària en AMB_PA_MECVV i SENSE_PA.\")"
   ],
   "metadata": {
    "collapsed": false
   },
   "id": "cf5827138c488d11"
  },
  {
   "cell_type": "code",
   "outputs": [],
   "source": [
    "contingency_table_14 = pd.crosstab(index=AMB_PA['Incont.uri'], columns=TOTAL['Incont.uri'])\n",
    "\n",
    "chi2_14, p_value_14, dof_14, expected_14 = chi2_contingency(contingency_table_14)\n",
    "\n",
    "print(\"Estadístic xi-quadrat entre AMB_PA i TOTAL:\", chi2_14)\n",
    "print(\"P-valor entre AMB_PA i TOTAL:\", p_value_14)\n",
    "\n",
    "if p_value_14 < 0.05:\n",
    "    print(\"Hi ha diferències significatives entre les distribucions d'incontinència urinària en AMB_PA i TOTAL.\")\n",
    "else:\n",
    "    print(\"No hi ha diferències significatives entre les distribucions d'incontinència urinària en AMB_PA i TOTAL.\")"
   ],
   "metadata": {
    "collapsed": false
   },
   "id": "b03ba3ca4bb83f15"
  },
  {
   "cell_type": "code",
   "outputs": [],
   "source": [
    "contingency_table_24 = pd.crosstab(index=AMB_PA_MECVV['Incont.uri'], columns=TOTAL['Incont.uri'])\n",
    "\n",
    "chi2_24, p_value_24, dof_24, expected_24 = chi2_contingency(contingency_table_24)\n",
    "\n",
    "print(\"Estadístic xi-quadrat entre AMB_PA_MECVV i TOTAL:\", chi2_24)\n",
    "print(\"P-valor entre AMB_PA_MECVV i TOTAL:\", p_value_24)\n",
    "\n",
    "if p_value_24 < 0.05:\n",
    "    print(\"Hi ha diferències significatives entre les distribucions d'incontinència urinària en AMB_PA_MECVV i TOTAL.\")\n",
    "else:\n",
    "    print(\"No hi ha diferències significatives entre les distribucions d'incontinència urinària en AMB_PA_MECVV i TOTAL.\")"
   ],
   "metadata": {
    "collapsed": false
   },
   "id": "65204a0469ee8e84"
  },
  {
   "cell_type": "code",
   "outputs": [],
   "source": [
    "contingency_table_34 = pd.crosstab(index=SENSE_PA['Incont.uri'], columns=TOTAL['Incont.uri'])\n",
    "\n",
    "chi2_34, p_value_34, dof_34, expected_34 = chi2_contingency(contingency_table_34)\n",
    "\n",
    "print(\"Estadístic xi-quadrat entre SENSE_PA i TOTAL:\", chi2_34)\n",
    "print(\"P-valor entre SENSE_PA i TOTAL:\", p_value_34)\n",
    "\n",
    "if p_value_34 < 0.05:\n",
    "    print(\"Hi ha diferències significatives entre les distribucions d'incontinència urinària en SENSE_PA i TOTAL.\")\n",
    "else:\n",
    "    print(\"No hi ha diferències significatives entre les distribucions d'incontinència urinària en SENSE_PA i TOTAL.\")"
   ],
   "metadata": {
    "collapsed": false
   },
   "id": "e25ad0b594d06be5"
  },
  {
   "cell_type": "markdown",
   "source": [
    "## Incontinència fecal "
   ],
   "metadata": {
    "collapsed": false
   },
   "id": "b1c0e810fed95762"
  },
  {
   "cell_type": "code",
   "outputs": [],
   "source": [
    "ifec_AMB_PA= (AMB_PA['Incont.fec'] == 1.0).mean() * 100\n",
    "print(f\"Percentatge d'incontinència fecal: {ifec_AMB_PA:.2f}%\")"
   ],
   "metadata": {
    "collapsed": false
   },
   "id": "d77b12243669f40a"
  },
  {
   "cell_type": "code",
   "outputs": [],
   "source": [
    "ifec_AMB_PA_MECVV= (AMB_PA_MECVV['Incont.fec'] == 1.0).mean() * 100\n",
    "print(f\"Percentatge d'incontinència fecal: {ifec_AMB_PA_MECVV:.2f}%\")"
   ],
   "metadata": {
    "collapsed": false
   },
   "id": "db578c2e71a39287"
  },
  {
   "cell_type": "code",
   "outputs": [],
   "source": [
    "ifec_SENSE_PA= (SENSE_PA['Incont.fec'] == 1.0).mean() * 100\n",
    "print(f\"Percentatge d'incontinència fecal: {ifec_SENSE_PA:.2f}%\")"
   ],
   "metadata": {
    "collapsed": false
   },
   "id": "eb5ede02205e032a"
  },
  {
   "cell_type": "code",
   "outputs": [],
   "source": [
    "ifec_TOTAL= (TOTAL['Incont.fec'] == 1.0).mean() * 100\n",
    "print(f\"Percentatge d'incontinència fecal: {ifec_TOTAL:.2f}%\")"
   ],
   "metadata": {
    "collapsed": false
   },
   "id": "33c86b2f1e6c954e"
  },
  {
   "cell_type": "markdown",
   "source": [
    "#### Comparació distributiva"
   ],
   "metadata": {
    "collapsed": false
   },
   "id": "be3f9150be80509c"
  },
  {
   "cell_type": "markdown",
   "source": [
    "##### Normalitat i p-valor"
   ],
   "metadata": {
    "collapsed": false
   },
   "id": "ce2d681a11ec2d59"
  },
  {
   "cell_type": "code",
   "outputs": [],
   "source": [
    "contingency_table_12 = pd.crosstab(index=AMB_PA['Incont.fec'], columns=AMB_PA_MECVV['Incont.fec'])\n",
    "\n",
    "chi2_12, p_value_12, dof_12, expected_12 = chi2_contingency(contingency_table_12)\n",
    "\n",
    "print(\"Estadístic xi-quadrat entre AMB_PA i AMB_PA_MECVV:\", chi2_12)\n",
    "print(\"P-valor entre AMB_PA i AMB_PA_MECVV:\", p_value_12)\n",
    "\n",
    "if p_value_12 < 0.05:\n",
    "    print(\"Hi ha diferències significatives entre les distribucions d'incontinència fecal en AMB_PA i AMB_PA_MECVV.\")\n",
    "else:\n",
    "    print(\"No hi ha diferències significatives entre les distribucions d'incontinència fecal en AMB_PA i AMB_PA_MECVV.\")"
   ],
   "metadata": {
    "collapsed": false
   },
   "id": "2a38b79150f30d63"
  },
  {
   "cell_type": "code",
   "outputs": [],
   "source": [
    "contingency_table_13 = pd.crosstab(index=AMB_PA['Incont.fec'], columns=SENSE_PA['Incont.fec'])\n",
    "\n",
    "chi2_13, p_value_13, dof_13, expected_13 = chi2_contingency(contingency_table_13)\n",
    "\n",
    "print(\"Estadístic xi-quadrat entre AMB_PA i SENSE_PA:\", chi2_13)\n",
    "print(\"P-valor entre AMB_PA i SENSE_PA:\", p_value_13)\n",
    "\n",
    "if p_value_13 < 0.05:\n",
    "    print(\"Hi ha diferències significatives entre les distribucions d'incontinència fecal en AMB_PA i SENSE_PA.\")\n",
    "else:\n",
    "    print(\"No hi ha diferències significatives entre les distribucions d'incontinència fecal en AMB_PA i SENSE_PA.\")"
   ],
   "metadata": {
    "collapsed": false
   },
   "id": "de567350be7400d2"
  },
  {
   "cell_type": "code",
   "outputs": [],
   "source": [
    "contingency_table_23 = pd.crosstab(index=AMB_PA_MECVV['Incont.fec'], columns=SENSE_PA['Incont.fec'])\n",
    "\n",
    "chi2_23, p_value_23, dof_23, expected_13 = chi2_contingency(contingency_table_23)\n",
    "\n",
    "print(\"Estadístic xi-quadrat entre AMB_PA_MECCV i SENSE_PA:\", chi2_23)\n",
    "print(\"P-valor entre AMB_PA_MECVV i SENSE_PA:\", p_value_23)\n",
    "\n",
    "if p_value_23 < 0.05:\n",
    "    print(\"Hi ha diferències significatives entre les distribucions d'incontinència fecal en AMB_PA_MECVV i SENSE_PA.\")\n",
    "else:\n",
    "    print(\"No hi ha diferències significatives entre les distribucions d'incontinència fecal en AMB_PA_MECVV i SENSE_PA.\")"
   ],
   "metadata": {
    "collapsed": false
   },
   "id": "2168f462f4c3b0d9"
  },
  {
   "cell_type": "code",
   "outputs": [],
   "source": [
    "contingency_table_14 = pd.crosstab(index=AMB_PA['Incont.fec'], columns=TOTAL['Incont.fec'])\n",
    "\n",
    "chi2_14, p_value_14, dof_14, expected_14 = chi2_contingency(contingency_table_14)\n",
    "\n",
    "print(\"Estadístic xi-quadrat entre AMB_PA i TOTAL:\", chi2_14)\n",
    "print(\"P-valor entre AMB_PA i TOTAL:\", p_value_14)\n",
    "\n",
    "if p_value_14 < 0.05:\n",
    "    print(\"Hi ha diferències significatives entre les distribucions d'incontinència fecal en AMB_PA i TOTAL.\")\n",
    "else:\n",
    "    print(\"No hi ha diferències significatives entre les distribucions d'incontinència fecal en AMB_PA i TOTAL.\")"
   ],
   "metadata": {
    "collapsed": false
   },
   "id": "bfc1bbb66885c19c"
  },
  {
   "cell_type": "code",
   "outputs": [],
   "source": [
    "contingency_table_24 = pd.crosstab(index=AMB_PA_MECVV['Incont.fec'], columns=TOTAL['Incont.fec'])\n",
    "\n",
    "chi2_24, p_value_24, dof_24, expected_24 = chi2_contingency(contingency_table_24)\n",
    "\n",
    "print(\"Estadístic xi-quadrat entre AMB_PA_MECVV i TOTAL:\", chi2_24)\n",
    "print(\"P-valor entre AMB_PA_MECVV i TOTAL:\", p_value_24)\n",
    "\n",
    "if p_value_24 < 0.05:\n",
    "    print(\"Hi ha diferències significatives entre les distribucions d'incontinència fecal en AMB_PA_MECVV i TOTAL.\")\n",
    "else:\n",
    "    print(\"No hi ha diferències significatives entre les distribucions d'incontinència fecal en AMB_PA_MECVV i TOTAL.\")"
   ],
   "metadata": {
    "collapsed": false
   },
   "id": "416dbb97b6b5f64c"
  },
  {
   "cell_type": "code",
   "outputs": [],
   "source": [
    "contingency_table_34 = pd.crosstab(index=SENSE_PA['Incont.fec'], columns=TOTAL['Incont.fec'])\n",
    "\n",
    "chi2_34, p_value_34, dof_34, expected_34 = chi2_contingency(contingency_table_34)\n",
    "\n",
    "print(\"Estadístic xi-quadrat entre SENSE_PA i TOTAL:\", chi2_34)\n",
    "print(\"P-valor entre SENSE_PA i TOTAL:\", p_value_34)\n",
    "\n",
    "if p_value_34 < 0.05:\n",
    "    print(\"Hi ha diferències significatives entre les distribucions d'incontinència fecal en SENSE_PA i TOTAL.\")\n",
    "else:\n",
    "    print(\"No hi ha diferències significatives entre les distribucions d'incontinència fecal en SENSE_PA i TOTAL.\")"
   ],
   "metadata": {
    "collapsed": false
   },
   "id": "9a828ee1ffd8e81c"
  },
  {
   "cell_type": "markdown",
   "source": [
    "## Úlceres de pressió"
   ],
   "metadata": {
    "collapsed": false
   },
   "id": "12fb2d52f45768f0"
  },
  {
   "cell_type": "code",
   "outputs": [],
   "source": [
    "up_AMB_PA= (AMB_PA['Úlceres pressió'] == 1.0).mean() * 100\n",
    "print(f\"Percentatge de úlceres de pressió: {up_AMB_PA:.2f}%\")"
   ],
   "metadata": {
    "collapsed": false
   },
   "id": "986ae918aab746f3"
  },
  {
   "cell_type": "code",
   "outputs": [],
   "source": [
    "up_AMB_PA_MECVV= (AMB_PA_MECVV['Úlceres pressió'] == 1.0).mean() * 100\n",
    "print(f\"Percentatge de úlceres de pressió: {up_AMB_PA_MECVV:.2f}%\")"
   ],
   "metadata": {
    "collapsed": false
   },
   "id": "e1d5d307c418f6c0"
  },
  {
   "cell_type": "code",
   "outputs": [],
   "source": [
    "up_SENSE_PA= (SENSE_PA['Úlceres pressió'] == 1.0).mean() * 100\n",
    "print(f\"Percentatge de úlceres de pressió: {up_SENSE_PA:.2f}%\")"
   ],
   "metadata": {
    "collapsed": false
   },
   "id": "95a0307632fc274d"
  },
  {
   "cell_type": "code",
   "outputs": [],
   "source": [
    "up_TOTAL= (TOTAL['Úlceres pressió'] == 1.0).mean() * 100\n",
    "print(f\"Percentatge de úlceres de pressió: {up_TOTAL:.2f}%\")"
   ],
   "metadata": {
    "collapsed": false
   },
   "id": "490d9f3f7687ee59"
  },
  {
   "cell_type": "markdown",
   "source": [
    "#### Comparació distributiva"
   ],
   "metadata": {
    "collapsed": false
   },
   "id": "c31f7a0ad909ff1a"
  },
  {
   "cell_type": "markdown",
   "source": [
    "##### Normalitat i p-valor"
   ],
   "metadata": {
    "collapsed": false
   },
   "id": "c400271ad3dba80b"
  },
  {
   "cell_type": "code",
   "outputs": [],
   "source": [
    "contingency_table_12 = pd.crosstab(index=AMB_PA['Úlceres pressió'], columns=AMB_PA_MECVV['Úlceres pressió'])\n",
    "\n",
    "chi2_12, p_value_12, dof_12, expected_12 = chi2_contingency(contingency_table_12)\n",
    "\n",
    "print(\"Estadístic xi-quadrat entre AMB_PA i AMB_PA_MECVV:\", chi2_12)\n",
    "print(\"P-valor entre AMB_PA i AMB_PA_MECVV:\", p_value_12)\n",
    "\n",
    "if p_value_12 < 0.05:\n",
    "    print(\"Hi ha diferències significatives entre les distribucions d'úlceres de pressió en AMB_PA i AMB_PA_MECVV.\")\n",
    "else:\n",
    "    print(\"No hi ha diferències significatives entre les distribucions d'úlceres de pressió en AMB_PA i AMB_PA_MECVV.\")\n"
   ],
   "metadata": {
    "collapsed": false
   },
   "id": "af3d43b40d286167"
  },
  {
   "cell_type": "code",
   "outputs": [],
   "source": [
    "contingency_table_13 = pd.crosstab(index=AMB_PA['Úlceres pressió'], columns=SENSE_PA['Úlceres pressió'])\n",
    "\n",
    "chi2_13, p_value_13, dof_13, expected_13 = chi2_contingency(contingency_table_13)\n",
    "\n",
    "print(\"Estadístic xi-quadrat entre AMB_PA i SENSE_PA:\", chi2_13)\n",
    "print(\"P-valor entre AMB_PA i SENSE_PA:\", p_value_13)\n",
    "\n",
    "if p_value_13 < 0.05:\n",
    "    print(\"Hi ha diferències significatives entre les distribucions d'úlceres de pressió en AMB_PA i SENSE_PA.\")\n",
    "else:\n",
    "    print(\"No hi ha diferències significatives entre les distribucions d'úlceres de pressió en AMB_PA i SENSE_PA.\")\n"
   ],
   "metadata": {
    "collapsed": false
   },
   "id": "b406a786e0767d2c"
  },
  {
   "cell_type": "code",
   "outputs": [],
   "source": [
    "contingency_table_23 = pd.crosstab(index=AMB_PA_MECVV['Úlceres pressió'], columns=SENSE_PA['Úlceres pressió'])\n",
    "\n",
    "chi2_23, p_value_23, dof_23, expected_23 = chi2_contingency(contingency_table_23)\n",
    "\n",
    "print(\"Estadístic xi-quadrat entre AMB_PA_MECCV i SENSE_PA:\", chi2_23)\n",
    "print(\"P-valor entre AMB_PA_MECVV i SENSE_PA:\", p_value_23)\n",
    "\n",
    "if p_value_23 < 0.05:\n",
    "    print(\"Hi ha diferències significatives entre les distribucions d'úlceres de pressió en AMB_PA_MECVV i SENSE_PA.\")\n",
    "else:\n",
    "    print(\"No hi ha diferències significatives entre les distribucions d'úlceres de pressió en AMB_PA_MECVV i SENSE_PA.\")"
   ],
   "metadata": {
    "collapsed": false
   },
   "id": "c53efd5315910be6"
  },
  {
   "cell_type": "code",
   "outputs": [],
   "source": [
    "contingency_table_14 = pd.crosstab(index=AMB_PA['Úlceres pressió'], columns=TOTAL['Úlceres pressió'])\n",
    "\n",
    "chi2_14, p_value_14, dof_14, expected_14 = chi2_contingency(contingency_table_14)\n",
    "\n",
    "print(\"Estadístic xi-quadrat entre AMB_PA i TOTAL:\", chi2_14)\n",
    "print(\"P-valor entre AMB_PA i TOTAL:\", p_value_14)\n",
    "\n",
    "if p_value_14 < 0.05:\n",
    "    print(\"Hi ha diferències significatives entre les distribucions d'úlceres de pressió en AMB_PA i TOTAL.\")\n",
    "else:\n",
    "    print(\"No hi ha diferències significatives entre les distribucions d'úlceres de pressió en AMB_PA i TOTAL.\")\n"
   ],
   "metadata": {
    "collapsed": false
   },
   "id": "f0487e6243654374"
  },
  {
   "cell_type": "code",
   "outputs": [],
   "source": [
    "contingency_table_24 = pd.crosstab(index=AMB_PA_MECVV['Úlceres pressió'], columns=TOTAL['Úlceres pressió'])\n",
    "\n",
    "chi2_24, p_value_24, dof_24, expected_24 = chi2_contingency(contingency_table_24)\n",
    "\n",
    "print(\"Estadístic xi-quadrat entre AMB_PA_MECVV i TOTAL:\", chi2_24)\n",
    "print(\"P-valor entre AMB_PA_MECVV i TOTAL:\", p_value_24)\n",
    "\n",
    "if p_value_24 < 0.05:\n",
    "    print(\"Hi ha diferències significatives entre les distribucions d'úlceres de pressió en AMB_PA_MECVV i TOTAL.\")\n",
    "else:\n",
    "    print(\"No hi ha diferències significatives entre les distribucions d'úlceres de pressió en AMB_PA_MECVV i TOTAL.\")\n"
   ],
   "metadata": {
    "collapsed": false
   },
   "id": "4ddef94ca55544d2"
  },
  {
   "cell_type": "code",
   "outputs": [],
   "source": [
    "contingency_table_34 = pd.crosstab(index=SENSE_PA['Úlceres pressió'], columns=TOTAL['Úlceres pressió'])\n",
    "\n",
    "chi2_34, p_value_34, dof_34, expected_34 = chi2_contingency(contingency_table_34)\n",
    "\n",
    "print(\"Estadístic xi-quadrat entre SENSE_PA i TOTAL:\", chi2_34)\n",
    "print(\"P-valor entre SENSE_PA i TOTAL:\", p_value_34)\n",
    "\n",
    "if p_value_34 < 0.05:\n",
    "    print(\"Hi ha diferències significatives entre les distribucions d'úlceres de pressió en SENSE_PA i TOTAL.\")\n",
    "else:\n",
    "    print(\"No hi ha diferències significatives entre les distribucions d'úlceres de pressió en SENSE_PA i TOTAL.\")\n"
   ],
   "metadata": {
    "collapsed": false
   },
   "id": "844300fe32257274"
  },
  {
   "cell_type": "markdown",
   "source": [
    "## Immobilitat"
   ],
   "metadata": {
    "collapsed": false
   },
   "id": "10103f3571c08987"
  },
  {
   "cell_type": "code",
   "outputs": [],
   "source": [
    "imm_AMB_PA= (AMB_PA['Immobilitat'] == 1.0).mean() * 100\n",
    "print(f\"Percentatge d'immobilitat : {imm_AMB_PA:.2f}%\")"
   ],
   "metadata": {
    "collapsed": false
   },
   "id": "f3d1ad927004af4b"
  },
  {
   "cell_type": "code",
   "outputs": [],
   "source": [
    "imm_AMB_PA_MECVV= (AMB_PA_MECVV['Immobilitat'] == 1.0).mean() * 100\n",
    "print(f\"Percentatge d'immobilitat : {imm_AMB_PA_MECVV:.2f}%\")"
   ],
   "metadata": {
    "collapsed": false
   },
   "id": "9c33375ada526dd6"
  },
  {
   "cell_type": "code",
   "outputs": [],
   "source": [
    "imm_SENSE_PA= (SENSE_PA['Immobilitat'] == 1.0).mean() * 100\n",
    "print(f\"Percentatge d'immobilitat : {imm_SENSE_PA:.2f}%\")"
   ],
   "metadata": {
    "collapsed": false
   },
   "id": "8fc310dbb2511f30"
  },
  {
   "cell_type": "code",
   "outputs": [],
   "source": [
    "imm_TOTAL= (TOTAL['Immobilitat'] == 1.0).mean() * 100\n",
    "print(f\"Percentatge d'immobilitat : {imm_TOTAL:.2f}%\")"
   ],
   "metadata": {
    "collapsed": false
   },
   "id": "31e40dd91318aa98"
  },
  {
   "cell_type": "markdown",
   "source": [
    "#### Comparació distributiva"
   ],
   "metadata": {
    "collapsed": false
   },
   "id": "e60144e1515572bf"
  },
  {
   "cell_type": "markdown",
   "source": [
    "##### Normalitat i p-valor "
   ],
   "metadata": {
    "collapsed": false
   },
   "id": "ae318ffeb322e310"
  },
  {
   "cell_type": "code",
   "outputs": [],
   "source": [
    "contingency_table_12 = pd.crosstab(index=AMB_PA['Immobilitat'], columns=AMB_PA_MECVV['Immobilitat']) \n",
    " \n",
    "chi2_12, p_value_12, dof_12, expected_12 = chi2_contingency(contingency_table_12) \n",
    " \n",
    "print(\"Estadístic xi-quadrat entre AMB_PA i AMB_PA_MECVV:\", chi2_12) \n",
    "print(\"P-valor entre AMB_PA i AMB_PA_MECVV:\", p_value_12) \n",
    " \n",
    "if p_value_12 < 0.05: \n",
    "    print(\"Hi ha diferències significatives entre les distribucions d'immobilitat en AMB_PA i AMB_PA_MECVV.\") \n",
    "else: \n",
    "    print(\"No hi ha diferències significatives entre les distribucions d'immobilitat en AMB_PA i AMB_PA_MECVV.\") "
   ],
   "metadata": {
    "collapsed": false
   },
   "id": "4bdafe1d65094bf6"
  },
  {
   "cell_type": "code",
   "outputs": [],
   "source": [
    "contingency_table_13 = pd.crosstab(index=AMB_PA['Immobilitat'], columns=SENSE_PA['Immobilitat']) \n",
    " \n",
    "chi2_13, p_value_13, dof_13, expected_13 = chi2_contingency(contingency_table_13) \n",
    " \n",
    "print(\"Estadístic xi-quadrat entre AMB_PA i SENSE_PA:\", chi2_13) \n",
    "print(\"P-valor entre AMB_PA i SENSE_PA:\", p_value_13) \n",
    " \n",
    "if p_value_13 < 0.05: \n",
    "    print(\"Hi ha diferències significatives entre les distribucions d'immobilitat en AMB_PA i SENSE_PA.\") \n",
    "else: \n",
    "    print(\"No hi ha diferències significatives entre les distribucions d'immobilitat en AMB_PA i SENSE_PA.\") "
   ],
   "metadata": {
    "collapsed": false
   },
   "id": "be9b12761eb1c268"
  },
  {
   "cell_type": "code",
   "outputs": [],
   "source": [
    "contingency_table_23 = pd.crosstab(index=AMB_PA_MECVV['Immobilitat'], columns=SENSE_PA['Immobilitat']) \n",
    " \n",
    "chi2_23, p_value_23, dof_23, expected_23 = chi2_contingency(contingency_table_23) \n",
    " \n",
    "print(\"Estadístic xi-quadrat entre AMB_PA_MECCV i SENSE_PA:\", chi2_23) \n",
    "print(\"P-valor entre AMB_PA_MECVV i SENSE_PA:\", p_value_23) \n",
    " \n",
    "if p_value_23 < 0.05: \n",
    "    print(\"Hi ha diferències significatives entre les distribucions d'immobilitat en AMB_PA_MECVV i SENSE_PA.\") \n",
    "else: \n",
    "    print(\"No hi ha diferències significatives entre les distribucions d'immobilitat en AMB_PA_MECVV i SENSE_PA.\") \n"
   ],
   "metadata": {
    "collapsed": false
   },
   "id": "dc356a85135d525f"
  },
  {
   "cell_type": "code",
   "outputs": [],
   "source": [
    "contingency_table_14 = pd.crosstab(index=AMB_PA['Immobilitat'], columns=TOTAL['Immobilitat']) \n",
    " \n",
    "chi2_14, p_value_14, dof_14, expected_14 = chi2_contingency(contingency_table_14) \n",
    " \n",
    "print(\"Estadístic xi-quadrat entre AMB_PA i TOTAL:\", chi2_14) \n",
    "print(\"P-valor entre AMB_PA i TOTAL:\", p_value_14) \n",
    " \n",
    "if p_value_14 < 0.05: \n",
    "    print(\"Hi ha diferències significatives entre les distribucions d'immobilitat en AMB_PA i TOTAL.\") \n",
    "else: \n",
    "    print(\"No hi ha diferències significatives entre les distribucions d'immobilitat en AMB_PA i TOTAL.\") "
   ],
   "metadata": {
    "collapsed": false
   },
   "id": "89fa9477333ccaef"
  },
  {
   "cell_type": "code",
   "outputs": [],
   "source": [
    "contingency_table_24 = pd.crosstab(index=AMB_PA_MECVV['Immobilitat'], columns=TOTAL['Immobilitat']) \n",
    " \n",
    "chi2_24, p_value_24, dof_24, expected_24 = chi2_contingency(contingency_table_24) \n",
    " \n",
    "print(\"Estadístic xi-quadrat entre AMB_PA_MECVV i TOTAL:\", chi2_24) \n",
    "print(\"P-valor entre AMB_PA_MECVV i TOTAL:\", p_value_24) \n",
    " \n",
    "if p_value_24 < 0.05: \n",
    "    print(\"Hi ha diferències significatives entre les distribucions d'immobilitat en AMB_PA_MECVV i TOTAL.\") \n",
    "else: \n",
    "    print(\"No hi ha diferències significatives entre les distribucions d'immobilitat en AMB_PA_MECVV i TOTAL.\") "
   ],
   "metadata": {
    "collapsed": false
   },
   "id": "27bb6aa69ca34ab8"
  },
  {
   "cell_type": "code",
   "outputs": [],
   "source": [
    "contingency_table_34 = pd.crosstab(index=SENSE_PA['Immobilitat'], columns=TOTAL['Immobilitat']) \n",
    " \n",
    "chi2_34, p_value_34, dof_34, expected_34 = chi2_contingency(contingency_table_34) \n",
    " \n",
    "print(\"Estadístic xi-quadrat entre SENSE_PA i TOTAL:\", chi2_34) \n",
    "print(\"P-valor entre SENSE_PA i TOTAL:\", p_value_34) \n",
    " \n",
    "if p_value_34 < 0.05: \n",
    "    print(\"Hi ha diferències significatives entre les distribucions d'immobilitat en SENSE_PA i TOTAL.\") \n",
    "else: \n",
    "    print(\"No hi ha diferències significatives entre les distribucions d'immobilitat en SENSE_PA i TOTAL.\") "
   ],
   "metadata": {
    "collapsed": false
   },
   "id": "2e033136a2fc2695"
  },
  {
   "cell_type": "markdown",
   "source": [
    "## Confusió"
   ],
   "metadata": {
    "collapsed": false
   },
   "id": "4029b427d6121536"
  },
  {
   "cell_type": "code",
   "outputs": [],
   "source": [
    "conf_AMB_PA= (AMB_PA['Confusió'] == 1.0).mean() * 100\n",
    "print(f\"Percentatge de confusió : {conf_AMB_PA:.2f}%\")"
   ],
   "metadata": {
    "collapsed": false
   },
   "id": "fb1f9121dbe30e89"
  },
  {
   "cell_type": "code",
   "outputs": [],
   "source": [
    "conf_AMB_PA_MECVV= (AMB_PA_MECVV['Confusió'] == 1.0).mean() * 100\n",
    "print(f\"Percentatge de confusió : {conf_AMB_PA_MECVV:.2f}%\")"
   ],
   "metadata": {
    "collapsed": false
   },
   "id": "fd129c47f0214b28"
  },
  {
   "cell_type": "code",
   "outputs": [],
   "source": [
    "conf_SENSE_PA= (SENSE_PA['Confusió'] == 1.0).mean() * 100\n",
    "print(f\"Percentatge de confusió : {conf_SENSE_PA:.2f}%\")"
   ],
   "metadata": {
    "collapsed": false
   },
   "id": "2685b7f99f24b363"
  },
  {
   "cell_type": "code",
   "outputs": [],
   "source": [
    "conf_TOTAL= (TOTAL['Confusió'] == 1.0).mean() * 100\n",
    "print(f\"Percentatge de confusió : {conf_TOTAL:.2f}%\")"
   ],
   "metadata": {
    "collapsed": false
   },
   "id": "c45500949c196644"
  },
  {
   "cell_type": "markdown",
   "source": [
    "#### Comparació distributiva"
   ],
   "metadata": {
    "collapsed": false
   },
   "id": "922a3afd76f83e32"
  },
  {
   "cell_type": "markdown",
   "source": [
    "##### Normalitat i p-valor "
   ],
   "metadata": {
    "collapsed": false
   },
   "id": "326dd03129f3fa2f"
  },
  {
   "cell_type": "code",
   "outputs": [],
   "source": [
    "contingency_table_12 = pd.crosstab(index=AMB_PA['Confusió'], columns=AMB_PA_MECVV['Confusió']) \n",
    " \n",
    "chi2_12, p_value_12, dof_12, expected_12 = chi2_contingency(contingency_table_12) \n",
    " \n",
    "print(\"Estadístic xi-quadrat entre AMB_PA i AMB_PA_MECVV:\", chi2_12) \n",
    "print(\"P-valor entre AMB_PA i AMB_PA_MECVV:\", p_value_12) \n",
    " \n",
    "if p_value_12 < 0.05: \n",
    "    print(\"Hi ha diferències significatives entre les distribucions de confusió en AMB_PA i AMB_PA_MECVV.\") \n",
    "else: \n",
    "    print(\"No hi ha diferències significatives entre les distribucions de confusió en AMB_PA i AMB_PA_MECVV.\") "
   ],
   "metadata": {
    "collapsed": false
   },
   "id": "5d27220abd92c501"
  },
  {
   "cell_type": "code",
   "outputs": [],
   "source": [
    "contingency_table_13 = pd.crosstab(index=AMB_PA['Confusió'], columns=SENSE_PA['Confusió']) \n",
    " \n",
    "chi2_13, p_value_13, dof_13, expected_13 = chi2_contingency(contingency_table_13) \n",
    " \n",
    "print(\"Estadístic xi-quadrat entre AMB_PA i SENSE_PA:\", chi2_13) \n",
    "print(\"P-valor entre AMB_PA i SENSE_PA:\", p_value_13) \n",
    " \n",
    "if p_value_13 < 0.05: \n",
    "    print(\"Hi ha diferències significatives entre les distribucions de confusió en AMB_PA i SENSE_PA.\") \n",
    "else: \n",
    "    print(\"No hi ha diferències significatives entre les distribucions de confusió en AMB_PA i SENSE_PA.\") "
   ],
   "metadata": {
    "collapsed": false
   },
   "id": "ba99ab927356e79c"
  },
  {
   "cell_type": "code",
   "outputs": [],
   "source": [
    "contingency_table_23 = pd.crosstab(index=AMB_PA_MECVV['Confusió'], columns=SENSE_PA['Confusió']) \n",
    " \n",
    "chi2_23, p_value_23, dof_23, expected_23 = chi2_contingency(contingency_table_23) \n",
    " \n",
    "print(\"Estadístic xi-quadrat entre AMB_PA_MECCV i SENSE_PA:\", chi2_23) \n",
    "print(\"P-valor entre AMB_PA_MECVV i SENSE_PA:\", p_value_23) \n",
    " \n",
    "if p_value_23 < 0.05: \n",
    "    print(\"Hi ha diferències significatives entre les distribucions de confusió en AMB_PA_MECVV i SENSE_PA.\") \n",
    "else: \n",
    "    print(\"No hi ha diferències significatives entre les distribucions de confusió en AMB_PA_MECVV i SENSE_PA.\") "
   ],
   "metadata": {
    "collapsed": false
   },
   "id": "4412e7fc95662eb5"
  },
  {
   "cell_type": "code",
   "outputs": [],
   "source": [
    "contingency_table_14 = pd.crosstab(index=AMB_PA['Confusió'], columns=TOTAL['Confusió']) \n",
    " \n",
    "chi2_14, p_value_14, dof_14, expected_14 = chi2_contingency(contingency_table_14) \n",
    " \n",
    "print(\"Estadístic xi-quadrat entre AMB_PA i TOTAL:\", chi2_14) \n",
    "print(\"P-valor entre AMB_PA i TOTAL:\", p_value_14) \n",
    " \n",
    "if p_value_14 < 0.05: \n",
    "    print(\"Hi ha diferències significatives entre les distribucions de confusió en AMB_PA i TOTAL.\") \n",
    "else: \n",
    "    print(\"No hi ha diferències significatives entre les distribucions de confusió en AMB_PA i TOTAL.\") "
   ],
   "metadata": {
    "collapsed": false
   },
   "id": "d5dd48231a1690c2"
  },
  {
   "cell_type": "code",
   "outputs": [],
   "source": [
    "contingency_table_24 = pd.crosstab(index=AMB_PA_MECVV['Confusió'], columns=TOTAL['Confusió']) \n",
    " \n",
    "chi2_24, p_value_24, dof_24, expected_24 = chi2_contingency(contingency_table_24) \n",
    " \n",
    "print(\"Estadístic xi-quadrat entre AMB_PA_MECVV i TOTAL:\", chi2_24) \n",
    "print(\"P-valor entre AMB_PA_MECVV i TOTAL:\", p_value_24) \n",
    " \n",
    "if p_value_24 < 0.05: \n",
    "    print(\"Hi ha diferències significatives entre les distribucions de confusió en AMB_PA_MECVV i TOTAL.\") \n",
    "else: \n",
    "    print(\"No hi ha diferències significatives entre les distribucions de confusió en AMB_PA_MECVV i TOTAL.\") "
   ],
   "metadata": {
    "collapsed": false
   },
   "id": "66312fbd09998ed3"
  },
  {
   "cell_type": "code",
   "outputs": [],
   "source": [
    "contingency_table_34 = pd.crosstab(index=SENSE_PA['Confusió'], columns=TOTAL['Confusió']) \n",
    " \n",
    "chi2_34, p_value_34, dof_34, expected_34 = chi2_contingency(contingency_table_34) \n",
    " \n",
    "print(\"Estadístic xi-quadrat entre SENSE_PA i TOTAL:\", chi2_34) \n",
    "print(\"P-valor entre SENSE_PA i TOTAL:\", p_value_34) \n",
    " \n",
    "if p_value_34 < 0.05: \n",
    "    print(\"Hi ha diferències significatives entre les distribucions de confusió en SENSE_PA i TOTAL.\") \n",
    "else: \n",
    "    print(\"No hi ha diferències significatives entre les distribucions de confusió en SENSE_PA i TOTAL.\") "
   ],
   "metadata": {
    "collapsed": false
   },
   "id": "df9f8a3d3f0ac179"
  },
  {
   "cell_type": "markdown",
   "source": [
    "## Osteoporosi"
   ],
   "metadata": {
    "collapsed": false
   },
   "id": "a911fc42fee33a3f"
  },
  {
   "cell_type": "code",
   "outputs": [],
   "source": [
    "ost_AMB_PA= (AMB_PA['Osteoporosi'] == 1.0).mean() * 100\n",
    "print(f\"Percentatge d'osteoporosi: {ost_AMB_PA:.2f}%\")"
   ],
   "metadata": {
    "collapsed": false
   },
   "id": "c776befea1fa10d1"
  },
  {
   "cell_type": "code",
   "outputs": [],
   "source": [
    "ost_AMB_PA_MECVV= (AMB_PA_MECVV['Osteoporosi'] == 1.0).mean() * 100\n",
    "print(f\"Percentatge d'osteoporosi: {ost_AMB_PA_MECVV:.2f}%\")"
   ],
   "metadata": {
    "collapsed": false
   },
   "id": "6559b7e3c8b33cd9"
  },
  {
   "cell_type": "code",
   "outputs": [],
   "source": [
    "ost_SENSE_PA= (SENSE_PA['Osteoporosi'] == 1.0).mean() * 100\n",
    "print(f\"Percentatge d'osteoporosi: {ost_SENSE_PA:.2f}%\")"
   ],
   "metadata": {
    "collapsed": false
   },
   "id": "afe4f82844294e97"
  },
  {
   "cell_type": "code",
   "outputs": [],
   "source": [
    "ost_TOTAL= (TOTAL['Osteoporosi'] == 1.0).mean() * 100\n",
    "print(f\"Percentatge d'osteoporosi: {ost_TOTAL:.2f}%\")"
   ],
   "metadata": {
    "collapsed": false
   },
   "id": "29cfc94015a9fa26"
  },
  {
   "cell_type": "markdown",
   "source": [
    "#### Comparació distributiva"
   ],
   "metadata": {
    "collapsed": false
   },
   "id": "5e02314a517b0324"
  },
  {
   "cell_type": "markdown",
   "source": [
    "##### Normalitat i p-valor"
   ],
   "metadata": {
    "collapsed": false
   },
   "id": "3fa240d625ff05b4"
  },
  {
   "cell_type": "code",
   "outputs": [],
   "source": [
    "contingency_table_12 = pd.crosstab(index=AMB_PA['Osteoporosi'], columns=AMB_PA_MECVV['Osteoporosi']) \n",
    " \n",
    "chi2_12, p_value_12, dof_12, expected_12 = chi2_contingency(contingency_table_12) \n",
    " \n",
    "print(\"Estadístic xi-quadrat entre AMB_PA i AMB_PA_MECVV:\", chi2_12) \n",
    "print(\"P-valor entre AMB_PA i AMB_PA_MECVV:\", p_value_12) \n",
    " \n",
    "if p_value_12 < 0.05: \n",
    "    print(\"Hi ha diferències significatives entre les distribucions d'osteoporosi en AMB_PA i AMB_PA_MECVV.\") \n",
    "else: \n",
    "    print(\"No hi ha diferències significatives entre les distribucions d'osteoporosi en AMB_PA i AMB_PA_MECVV.\") "
   ],
   "metadata": {
    "collapsed": false
   },
   "id": "5a0a7fc3dfb004f9"
  },
  {
   "cell_type": "code",
   "outputs": [],
   "source": [
    "contingency_table_13 = pd.crosstab(index=AMB_PA['Osteoporosi'], columns=SENSE_PA['Osteoporosi']) \n",
    " \n",
    "chi2_13, p_value_13, dof_13, expected_13 = chi2_contingency(contingency_table_13) \n",
    " \n",
    "print(\"Estadístic xi-quadrat entre AMB_PA i SENSE_PA:\", chi2_13) \n",
    "print(\"P-valor entre AMB_PA i SENSE_PA:\", p_value_13) \n",
    " \n",
    "if p_value_13 < 0.05: \n",
    "    print(\"Hi ha diferències significatives entre les distribucions d'osteoporosi en AMB_PA i SENSE_PA.\") \n",
    "else: \n",
    "    print(\"No hi ha diferències significatives entre les distribucions d'osteoporosi en AMB_PA i SENSE_PA.\") "
   ],
   "metadata": {
    "collapsed": false
   },
   "id": "2c4b2088ae62a2c9"
  },
  {
   "cell_type": "code",
   "outputs": [],
   "source": [
    "contingency_table_23 = pd.crosstab(index=AMB_PA_MECVV['Osteoporosi'], columns=SENSE_PA['Osteoporosi']) \n",
    " \n",
    "chi2_23, p_value_23, dof_23, expected_23 = chi2_contingency(contingency_table_23) \n",
    " \n",
    "print(\"Estadístic xi-quadrat entre AMB_PA_MECCV i SENSE_PA:\", chi2_23) \n",
    "print(\"P-valor entre AMB_PA_MECVV i SENSE_PA:\", p_value_23) \n",
    " \n",
    "if p_value_23 < 0.05: \n",
    "    print(\"Hi ha diferències significatives entre les distribucions d'osteoporosi en AMB_PA_MECVV i SENSE_PA.\") \n",
    "else: \n",
    "    print(\"No hi ha diferències significatives entre les distribucions d'osteoporosi  en AMB_PA_MECVV i SENSE_PA.\") "
   ],
   "metadata": {
    "collapsed": false
   },
   "id": "4ef4df23f6a35219"
  },
  {
   "cell_type": "code",
   "outputs": [],
   "source": [
    "contingency_table_14 = pd.crosstab(index=AMB_PA['Osteoporosi'], columns=TOTAL['Osteoporosi']) \n",
    " \n",
    "chi2_14, p_value_14, dof_14, expected_14 = chi2_contingency(contingency_table_14) \n",
    " \n",
    "print(\"Estadístic xi-quadrat entre AMB_PA i TOTAL:\", chi2_14) \n",
    "print(\"P-valor entre AMB_PA i TOTAL:\", p_value_14) \n",
    " \n",
    "if p_value_14 < 0.05: \n",
    "    print(\"Hi ha diferències significatives entre les distribucions d'osteoporosi en AMB_PA i TOTAL.\") \n",
    "else: \n",
    "    print(\"No hi ha diferències significatives entre les distribucions d'osteoporosi en AMB_PA i TOTAL.\") "
   ],
   "metadata": {
    "collapsed": false
   },
   "id": "73a48931efc2020e"
  },
  {
   "cell_type": "code",
   "outputs": [],
   "source": [
    "contingency_table_24 = pd.crosstab(index=AMB_PA_MECVV['Osteoporosi'], columns=TOTAL['Osteoporosi']) \n",
    " \n",
    "chi2_24, p_value_24, dof_24, expected_24 = chi2_contingency(contingency_table_24) \n",
    " \n",
    "print(\"Estadístic xi-quadrat entre AMB_PA_MECVV i TOTAL:\", chi2_24) \n",
    "print(\"P-valor entre AMB_PA_MECVV i TOTAL:\", p_value_24) \n",
    " \n",
    "if p_value_24 < 0.05: \n",
    "    print(\"Hi ha diferències significatives entre les distribucions d'osteoporosi en AMB_PA_MECVV i TOTAL.\") \n",
    "else: \n",
    "    print(\"No hi ha diferències significatives entre les distribucions d'osteoporosi en AMB_PA_MECVV i TOTAL.\") "
   ],
   "metadata": {
    "collapsed": false
   },
   "id": "ff47c0dca86a594f"
  },
  {
   "cell_type": "code",
   "outputs": [],
   "source": [
    "contingency_table_34 = pd.crosstab(index=SENSE_PA['Osteoporosi'], columns=TOTAL['Osteoporosi']) \n",
    " \n",
    "chi2_34, p_value_34, dof_34, expected_34 = chi2_contingency(contingency_table_34) \n",
    " \n",
    "print(\"Estadístic xi-quadrat entre SENSE_PA i TOTAL:\", chi2_34) \n",
    "print(\"P-valor entre SENSE_PA i TOTAL:\", p_value_34) \n",
    " \n",
    "if p_value_34 < 0.05: \n",
    "    print(\"Hi ha diferències significatives entre les distribucions d'osteoporosi en SENSE_PA i TOTAL.\") \n",
    "else: \n",
    "    print(\"No hi ha diferències significatives entre les distribucions d'osteoporosi en SENSE_PA i TOTAL.\") "
   ],
   "metadata": {
    "collapsed": false
   },
   "id": "180ce52b2d46d408"
  },
  {
   "cell_type": "markdown",
   "source": [
    "## Sarcopènia"
   ],
   "metadata": {
    "collapsed": false
   },
   "id": "a4ceccc28829bbf8"
  },
  {
   "cell_type": "code",
   "outputs": [],
   "source": [
    "sarc_AMB_PA= (AMB_PA['Sarcopènia'] == 1.0).mean() * 100\n",
    "print(f\"Percentatge de sarcopènia: {sarc_AMB_PA:.2f}%\")"
   ],
   "metadata": {
    "collapsed": false
   },
   "id": "b08271a2b2dc07ad"
  },
  {
   "cell_type": "code",
   "outputs": [],
   "source": [
    "sarc_AMB_PA_MECVV= (AMB_PA_MECVV['Sarcopènia'] == 1.0).mean() * 100\n",
    "print(f\"Percentatge de sarcopènia: {sarc_AMB_PA_MECVV:.2f}%\")"
   ],
   "metadata": {
    "collapsed": false
   },
   "id": "bfb7283cb03dbe98"
  },
  {
   "cell_type": "code",
   "outputs": [],
   "source": [
    "sarc_SENSE_PA= (SENSE_PA['Sarcopènia'] == 1.0).mean() * 100\n",
    "print(f\"Percentatge de sarcopènia: {sarc_SENSE_PA:.2f}%\")"
   ],
   "metadata": {
    "collapsed": false
   },
   "id": "47dd3243b7e2f1bf"
  },
  {
   "cell_type": "code",
   "outputs": [],
   "source": [
    "sarc_TOTAL= (TOTAL['Sarcopènia'] == 1.0).mean() * 100\n",
    "print(f\"Percentatge de sarcopènia: {sarc_TOTAL:.2f}%\")"
   ],
   "metadata": {
    "collapsed": false
   },
   "id": "4bea5ef7ffa888d5"
  },
  {
   "cell_type": "markdown",
   "source": [
    "#### Comparació distributiva"
   ],
   "metadata": {
    "collapsed": false
   },
   "id": "8b6bac2184c4e4fe"
  },
  {
   "cell_type": "markdown",
   "source": [
    "##### Normalitat i p-valor"
   ],
   "metadata": {
    "collapsed": false
   },
   "id": "9acddc09faa77335"
  },
  {
   "cell_type": "code",
   "outputs": [],
   "source": [
    "contingency_table_12 = pd.crosstab(index=AMB_PA['Sarcopènia'], columns=AMB_PA_MECVV['Sarcopènia']) \n",
    " \n",
    "chi2_12, p_value_12, dof_12, expected_12 = chi2_contingency(contingency_table_12) \n",
    " \n",
    "print(\"Estadístic xi-quadrat entre AMB_PA i AMB_PA_MECVV:\", chi2_12) \n",
    "print(\"P-valor entre AMB_PA i AMB_PA_MECVV:\", p_value_12) \n",
    " \n",
    "if p_value_12 < 0.05: \n",
    "    print(\"Hi ha diferències significatives entre les distribucions de sarcopènia en AMB_PA i AMB_PA_MECVV.\") \n",
    "else: \n",
    "    print(\"No hi ha diferències significatives entre les distribucions de sarcopènia en AMB_PA i AMB_PA_MECVV.\") "
   ],
   "metadata": {
    "collapsed": false
   },
   "id": "7f5e42ecc56fa37e"
  },
  {
   "cell_type": "code",
   "outputs": [],
   "source": [
    "contingency_table_13 = pd.crosstab(index=AMB_PA['Sarcopènia'], columns=SENSE_PA['Sarcopènia']) \n",
    " \n",
    "chi2_13, p_value_13, dof_13, expected_13 = chi2_contingency(contingency_table_13) \n",
    " \n",
    "print(\"Estadístic xi-quadrat entre AMB_PA i SENSE_PA:\", chi2_13) \n",
    "print(\"P-valor entre AMB_PA i SENSE_PA:\", p_value_13) \n",
    " \n",
    "if p_value_13 < 0.05: \n",
    "    print(\"Hi ha diferències significatives entre les distribucions de sarcopènia en AMB_PA i SENSE_PA.\") \n",
    "else: \n",
    "    print(\"No hi ha diferències significatives entre les distribucions de sarcopènia AMB_PA i SENSE_PA.\") "
   ],
   "metadata": {
    "collapsed": false
   },
   "id": "f185df4d1b1e8d4f"
  },
  {
   "cell_type": "code",
   "outputs": [],
   "source": [
    "contingency_table_23 = pd.crosstab(index=AMB_PA_MECVV['Sarcopènia'], columns=SENSE_PA['Sarcopènia']) \n",
    " \n",
    "chi2_23, p_value_23, dof_23, expected_23 = chi2_contingency(contingency_table_23) \n",
    " \n",
    "print(\"Estadístic xi-quadrat entre AMB_PA_MECCV i SENSE_PA:\", chi2_23) \n",
    "print(\"P-valor entre AMB_PA_MECVV i SENSE_PA:\", p_value_23) \n",
    " \n",
    "if p_value_23 < 0.05: \n",
    "    print(\"Hi ha diferències significatives entre les distribucions de sarcopènia en AMB_PA_MECVV i SENSE_PA.\") \n",
    "else: \n",
    "    print(\"No hi ha diferències significatives entre les distribucions de sarcopènia en AMB_PA_MECVV i SENSE_PA.\") "
   ],
   "metadata": {
    "collapsed": false
   },
   "id": "e009a1cddfcf1bb8"
  },
  {
   "cell_type": "code",
   "outputs": [],
   "source": [
    "contingency_table_14 = pd.crosstab(index=AMB_PA['Sarcopènia'], columns=TOTAL['Sarcopènia']) \n",
    " \n",
    "chi2_14, p_value_14, dof_14, expected_14 = chi2_contingency(contingency_table_14) \n",
    " \n",
    "print(\"Estadístic xi-quadrat entre AMB_PA i TOTAL:\", chi2_14) \n",
    "print(\"P-valor entre AMB_PA i TOTAL:\", p_value_14) \n",
    " \n",
    "if p_value_14 < 0.05: \n",
    "    print(\"Hi ha diferències significatives entre les distribucions de sarcopènia en AMB_PA i TOTAL.\") \n",
    "else: \n",
    "    print(\"No hi ha diferències significatives entre les distribucions de sarcopènia en AMB_PA i TOTAL.\") "
   ],
   "metadata": {
    "collapsed": false
   },
   "id": "17f2640bbba2fff"
  },
  {
   "cell_type": "code",
   "outputs": [],
   "source": [
    "contingency_table_24 = pd.crosstab(index=AMB_PA_MECVV['Sarcopènia'], columns=TOTAL['Sarcopènia']) \n",
    " \n",
    "chi2_24, p_value_24, dof_24, expected_24 = chi2_contingency(contingency_table_24) \n",
    " \n",
    "print(\"Estadístic xi-quadrat entre AMB_PA_MECVV i TOTAL:\", chi2_24) \n",
    "print(\"P-valor entre AMB_PA_MECVV i TOTAL:\", p_value_24) \n",
    " \n",
    "if p_value_24 < 0.05: \n",
    "    print(\"Hi ha diferències significatives entre les distribucions de sarcopènia en AMB_PA_MECVV i TOTAL.\") \n",
    "else: \n",
    "    print(\"No hi ha diferències significatives entre les distribucions de sarcopènia en AMB_PA_MECVV i TOTAL.\") "
   ],
   "metadata": {
    "collapsed": false
   },
   "id": "51e453fb793b890a"
  },
  {
   "cell_type": "code",
   "outputs": [],
   "source": [
    "contingency_table_34 = pd.crosstab(index=SENSE_PA['Sarcopènia'], columns=TOTAL['Sarcopènia']) \n",
    " \n",
    "chi2_34, p_value_34, dof_34, expected_34 = chi2_contingency(contingency_table_34) \n",
    " \n",
    "print(\"Estadístic xi-quadrat entre SENSE_PA i TOTAL:\", chi2_34) \n",
    "print(\"P-valor entre SENSE_PA i TOTAL:\", p_value_34) \n",
    " \n",
    "if p_value_34 < 0.05: \n",
    "    print(\"Hi ha diferències significatives entre les distribucions de sarcopènia en SENSE_PA i TOTAL.\") \n",
    "else: \n",
    "    print(\"No hi ha diferències significatives entre les distribucions de sarcopènia en SENSE_PA i TOTAL.\") "
   ],
   "metadata": {
    "collapsed": false
   },
   "id": "5474ff6d0f22697c"
  },
  {
   "cell_type": "markdown",
   "source": [
    "## Trastorns del son"
   ],
   "metadata": {
    "collapsed": false
   },
   "id": "42407b04d7e606fe"
  },
  {
   "cell_type": "code",
   "outputs": [],
   "source": [
    "ts_AMB_PA= (AMB_PA['Probl.son'] == 1.0).mean() * 100\n",
    "print(f\"Percentatge de trastorns del son: {ts_AMB_PA:.2f}%\")"
   ],
   "metadata": {
    "collapsed": false
   },
   "id": "36682dc3d15adda3"
  },
  {
   "cell_type": "code",
   "outputs": [],
   "source": [
    "ts_AMB_PA_MECVV= (AMB_PA_MECVV['Probl.son'] == 1.0).mean() * 100\n",
    "print(f\"Percentatge de trastorns del son: {ts_AMB_PA_MECVV:.2f}%\")"
   ],
   "metadata": {
    "collapsed": false
   },
   "id": "efe60336dbab33f"
  },
  {
   "cell_type": "code",
   "outputs": [],
   "source": [
    "ts_SENSE_PA= (SENSE_PA['Probl.son'] == 1.0).mean() * 100\n",
    "print(f\"Percentatge de trastorns del son: {ts_SENSE_PA:.2f}%\")"
   ],
   "metadata": {
    "collapsed": false
   },
   "id": "46de4b838333d1b9"
  },
  {
   "cell_type": "code",
   "outputs": [],
   "source": [
    "ts_TOTAL= (TOTAL['Probl.son'] == 1.0).mean() * 100\n",
    "print(f\"Percentatge de trastorns del son: {ts_TOTAL:.2f}%\")"
   ],
   "metadata": {
    "collapsed": false
   },
   "id": "d2ffd15edb8226bd"
  },
  {
   "cell_type": "markdown",
   "source": [
    "#### Comparació distributiva"
   ],
   "metadata": {
    "collapsed": false
   },
   "id": "d256df3e410a114a"
  },
  {
   "cell_type": "markdown",
   "source": [
    "##### Normalitat i p-valor"
   ],
   "metadata": {
    "collapsed": false
   },
   "id": "8ca613c9a107d6f5"
  },
  {
   "cell_type": "code",
   "outputs": [],
   "source": [
    "contingency_table_12 = pd.crosstab(index=AMB_PA['Probl.son'], columns=AMB_PA_MECVV['Probl.son']) \n",
    " \n",
    "chi2_12, p_value_12, dof_12, expected_12 = chi2_contingency(contingency_table_12) \n",
    " \n",
    "print(\"Estadístic xi-quadrat entre AMB_PA i AMB_PA_MECVV:\", chi2_12) \n",
    "print(\"P-valor entre AMB_PA i AMB_PA_MECVV:\", p_value_12) \n",
    " \n",
    "if p_value_12 < 0.05: \n",
    "    print(\"Hi ha diferències significatives entre les distribucions de problemes de son en AMB_PA i AMB_PA_MECVV.\") \n",
    "else: \n",
    "    print(\"No hi ha diferències significatives entre les distribucions de problemes de son en AMB_PA i AMB_PA_MECVV.\")"
   ],
   "metadata": {
    "collapsed": false
   },
   "id": "27f189ef52d864b4"
  },
  {
   "cell_type": "code",
   "outputs": [],
   "source": [
    "contingency_table_13 = pd.crosstab(index=AMB_PA['Probl.son'], columns=SENSE_PA['Probl.son']) \n",
    " \n",
    "chi2_13, p_value_13, dof_13, expected_13 = chi2_contingency(contingency_table_13) \n",
    " \n",
    "print(\"Estadístic xi-quadrat entre AMB_PA i SENSE_PA:\", chi2_13) \n",
    "print(\"P-valor entre AMB_PA i SENSE_PA:\", p_value_13) \n",
    " \n",
    "if p_value_13 < 0.05: \n",
    "    print(\"Hi ha diferències significatives entre les distribucions de problemes de son en AMB_PA i SENSE_PA.\") \n",
    "else: \n",
    "    print(\"No hi ha diferències significatives entre les distribucions de problemes de son en AMB_PA i SENSE_PA.\") "
   ],
   "metadata": {
    "collapsed": false
   },
   "id": "fdf27f38d6a7f79"
  },
  {
   "cell_type": "code",
   "outputs": [],
   "source": [
    "contingency_table_23 = pd.crosstab(index=AMB_PA_MECVV['Probl.son'], columns=SENSE_PA['Probl.son']) \n",
    " \n",
    "chi2_23, p_value_23, dof_23, expected_23 = chi2_contingency(contingency_table_23) \n",
    " \n",
    "print(\"Estadístic xi-quadrat entre AMB_PA_MECCV i SENSE_PA:\", chi2_23) \n",
    "print(\"P-valor entre AMB_PA_MECVV i SENSE_PA:\", p_value_23) \n",
    " \n",
    "if p_value_23 < 0.05: \n",
    "    print(\"Hi ha diferències significatives entre les distribucions de problemes de son en AMB_PA_MECVV i SENSE_PA.\") \n",
    "else: \n",
    "    print(\"No hi ha diferències significatives entre les distribucions de problemes de son en AMB_PA_MECVV i SENSE_PA.\") "
   ],
   "metadata": {
    "collapsed": false
   },
   "id": "3130f0b5dfe97b77"
  },
  {
   "cell_type": "code",
   "outputs": [],
   "source": [
    "contingency_table_14 = pd.crosstab(index=AMB_PA['Probl.son'], columns=TOTAL['Probl.son']) \n",
    " \n",
    "chi2_14, p_value_14, dof_14, expected_14 = chi2_contingency(contingency_table_14) \n",
    " \n",
    "print(\"Estadístic xi-quadrat entre AMB_PA i TOTAL:\", chi2_14) \n",
    "print(\"P-valor entre AMB_PA i TOTAL:\", p_value_14) \n",
    " \n",
    "if p_value_14 < 0.05: \n",
    "    print(\"Hi ha diferències significatives entre les distribucions de problemes de son en AMB_PA i TOTAL.\") \n",
    "else: \n",
    "    print(\"No hi ha diferències significatives entre les distribucions de problemes de son en AMB_PA i TOTAL.\") "
   ],
   "metadata": {
    "collapsed": false
   },
   "id": "971bce84a6b3b1cc"
  },
  {
   "cell_type": "code",
   "outputs": [],
   "source": [
    "contingency_table_24 = pd.crosstab(index=AMB_PA_MECVV['Probl.son'], columns=TOTAL['Probl.son']) \n",
    " \n",
    "chi2_24, p_value_24, dof_24, expected_24 = chi2_contingency(contingency_table_24) \n",
    " \n",
    "print(\"Estadístic xi-quadrat entre AMB_PA_MECVV i TOTAL:\", chi2_24) \n",
    "print(\"P-valor entre AMB_PA_MECVV i TOTAL:\", p_value_24) \n",
    " \n",
    "if p_value_24 < 0.05: \n",
    "    print(\"Hi ha diferències significatives entre les distribucions de problemes de son en AMB_PA_MECVV i TOTAL.\") \n",
    "else: \n",
    "    print(\"No hi ha diferències significatives entre les distribucions de problemes de son en AMB_PA_MECVV i TOTAL.\") "
   ],
   "metadata": {
    "collapsed": false
   },
   "id": "f17877667d80ec3"
  },
  {
   "cell_type": "code",
   "outputs": [],
   "source": [
    "contingency_table_34 = pd.crosstab(index=SENSE_PA['Probl.son'], columns=TOTAL['Probl.son']) \n",
    " \n",
    "chi2_34, p_value_34, dof_34, expected_34 = chi2_contingency(contingency_table_34) \n",
    " \n",
    "print(\"Estadístic xi-quadrat entre SENSE_PA i TOTAL:\", chi2_34) \n",
    "print(\"P-valor entre SENSE_PA i TOTAL:\", p_value_34) \n",
    " \n",
    "if p_value_34 < 0.05: \n",
    "    print(\"Hi ha diferències significatives entre les distribucions de problemes de son en SENSE_PA i TOTAL.\") \n",
    "else: \n",
    "    print(\"No hi ha diferències significatives entre les distribucions de problemes de son en SENSE_PA i TOTAL.\") "
   ],
   "metadata": {
    "collapsed": false
   },
   "id": "917073c2e7a2ff2"
  },
  {
   "cell_type": "markdown",
   "source": [
    "## Dolor crònic"
   ],
   "metadata": {
    "collapsed": false
   },
   "id": "db09148e693d9533"
  },
  {
   "cell_type": "code",
   "outputs": [],
   "source": [
    "dc_AMB_PA= (AMB_PA['Dolor crònic'] == 1.0).mean() * 100\n",
    "print(f\"Percentatge de dolor crònic: {dc_AMB_PA:.2f}%\")"
   ],
   "metadata": {
    "collapsed": false
   },
   "id": "5f063dfa134b729d"
  },
  {
   "cell_type": "code",
   "outputs": [],
   "source": [
    "dc_AMB_PA_MECVV= (AMB_PA_MECVV['Dolor crònic'] == 1.0).mean() * 100\n",
    "print(f\"Percentatge de dolor crònic: {dc_AMB_PA_MECVV:.2f}%\")"
   ],
   "metadata": {
    "collapsed": false
   },
   "id": "c9748eaefae8195f"
  },
  {
   "cell_type": "code",
   "outputs": [],
   "source": [
    "dc_SENSE_PA= (SENSE_PA['Dolor crònic'] == 1.0).mean() * 100\n",
    "print(f\"Percentatge de dolor crònic: {dc_SENSE_PA:.2f}%\")"
   ],
   "metadata": {
    "collapsed": false
   },
   "id": "6016636105aab814"
  },
  {
   "cell_type": "code",
   "outputs": [],
   "source": [
    "dc_TOTAL= (TOTAL['Dolor crònic'] == 1.0).mean() * 100\n",
    "print(f\"Percentatge de dolor crònic: {dc_TOTAL:.2f}%\")"
   ],
   "metadata": {
    "collapsed": false
   },
   "id": "17fc0faae2582c17"
  },
  {
   "cell_type": "markdown",
   "source": [
    "#### Comparació distributiva"
   ],
   "metadata": {
    "collapsed": false
   },
   "id": "585bf20aac216d98"
  },
  {
   "cell_type": "markdown",
   "source": [
    "##### Normalitat i p-valor"
   ],
   "metadata": {
    "collapsed": false
   },
   "id": "ab1b42f859d1a5b3"
  },
  {
   "cell_type": "code",
   "outputs": [],
   "source": [
    "contingency_table_12 = pd.crosstab(index=AMB_PA['Dolor crònic'], columns=AMB_PA_MECVV['Dolor crònic']) \n",
    " \n",
    "chi2_12, p_value_12, dof_12, expected_12 = chi2_contingency(contingency_table_12) \n",
    " \n",
    "print(\"Estadístic xi-quadrat entre AMB_PA i AMB_PA_MECVV:\", chi2_12) \n",
    "print(\"P-valor entre AMB_PA i AMB_PA_MECVV:\", p_value_12) \n",
    " \n",
    "if p_value_12 < 0.05: \n",
    "    print(\"Hi ha diferències significatives entre les distribucions de dolor crònic en AMB_PA i AMB_PA_MECVV.\") \n",
    "else: \n",
    "    print(\"No hi ha diferències significatives entre les distribucions de dolor crònic en AMB_PA i AMB_PA_MECVV.\") "
   ],
   "metadata": {
    "collapsed": false
   },
   "id": "9a8c064fe5044432"
  },
  {
   "cell_type": "code",
   "outputs": [],
   "source": [
    "contingency_table_13 = pd.crosstab(index=AMB_PA['Dolor crònic'], columns=SENSE_PA['Dolor crònic']) \n",
    " \n",
    "chi2_13, p_value_13, dof_13, expected_13 = chi2_contingency(contingency_table_13) \n",
    " \n",
    "print(\"Estadístic xi-quadrat entre AMB_PA i SENSE_PA:\", chi2_13) \n",
    "print(\"P-valor entre AMB_PA i SENSE_PA:\", p_value_13) \n",
    " \n",
    "if p_value_13 < 0.05: \n",
    "    print(\"Hi ha diferències significatives entre les distribucions de dolor crònic en AMB_PA i SENSE_PA.\") \n",
    "else: \n",
    "    print(\"No hi ha diferències significatives entre les distribucions de dolor crònic en AMB_PA i SENSE_PA.\") "
   ],
   "metadata": {
    "collapsed": false
   },
   "id": "719dd51bcdea7b61"
  },
  {
   "cell_type": "code",
   "outputs": [],
   "source": [
    "contingency_table_23 = pd.crosstab(index=AMB_PA_MECVV['Dolor crònic'], columns=SENSE_PA['Dolor crònic']) \n",
    " \n",
    "chi2_23, p_value_23, dof_23, expected_23 = chi2_contingency(contingency_table_23) \n",
    " \n",
    "print(\"Estadístic xi-quadrat entre AMB_PA_MECCV i SENSE_PA:\", chi2_23) \n",
    "print(\"P-valor entre AMB_PA_MECVV i SENSE_PA:\", p_value_23) \n",
    " \n",
    "if p_value_23 < 0.05: \n",
    "    print(\"Hi ha diferències significatives entre les distribucions de dolor crònic en AMB_PA_MECVV i SENSE_PA.\") \n",
    "else: \n",
    "    print(\"No hi ha diferències significatives entre les distribucions de dolor crònic en AMB_PA_MECVV i SENSE_PA.\") "
   ],
   "metadata": {
    "collapsed": false
   },
   "id": "18a310ae64f6084"
  },
  {
   "cell_type": "code",
   "outputs": [],
   "source": [
    "contingency_table_14 = pd.crosstab(index=AMB_PA['Dolor crònic'], columns=TOTAL['Dolor crònic']) \n",
    " \n",
    "chi2_14, p_value_14, dof_14, expected_14 = chi2_contingency(contingency_table_14) \n",
    " \n",
    "print(\"Estadístic xi-quadrat entre AMB_PA i TOTAL:\", chi2_14) \n",
    "print(\"P-valor entre AMB_PA i TOTAL:\", p_value_14) \n",
    " \n",
    "if p_value_14 < 0.05: \n",
    "    print(\"Hi ha diferències significatives entre les distribucions de dolor crònic en AMB_PA i TOTAL.\") \n",
    "else: \n",
    "    print(\"No hi ha diferències significatives entre les distribucions de dolor crònic en AMB_PA i TOTAL.\") "
   ],
   "metadata": {
    "collapsed": false
   },
   "id": "4f2e5bd5e7e5b2c7"
  },
  {
   "cell_type": "code",
   "outputs": [],
   "source": [
    "contingency_table_24 = pd.crosstab(index=AMB_PA_MECVV['Dolor crònic'], columns=TOTAL['Dolor crònic']) \n",
    " \n",
    "chi2_24, p_value_24, dof_24, expected_24 = chi2_contingency(contingency_table_24) \n",
    " \n",
    "print(\"Estadístic xi-quadrat entre AMB_PA_MECVV i TOTAL:\", chi2_24) \n",
    "print(\"P-valor entre AMB_PA_MECVV i TOTAL:\", p_value_24) \n",
    " \n",
    "if p_value_24 < 0.05: \n",
    "    print(\"Hi ha diferències significatives entre les distribucions de dolor crònic en AMB_PA_MECVV i TOTAL.\") \n",
    "else: \n",
    "    print(\"No hi ha diferències significatives entre les distribucions de dolor crònic en AMB_PA_MECVV i TOTAL.\") "
   ],
   "metadata": {
    "collapsed": false
   },
   "id": "94f0e0652dad0db0"
  },
  {
   "cell_type": "code",
   "outputs": [],
   "source": [
    "contingency_table_34 = pd.crosstab(index=SENSE_PA['Dolor crònic'], columns=TOTAL['Dolor crònic']) \n",
    " \n",
    "chi2_34, p_value_34, dof_34, expected_34 = chi2_contingency(contingency_table_34) \n",
    " \n",
    "print(\"Estadístic xi-quadrat entre SENSE_PA i TOTAL:\", chi2_34) \n",
    "print(\"P-valor entre SENSE_PA i TOTAL:\", p_value_34) \n",
    " \n",
    "if p_value_34 < 0.05: \n",
    "    print(\"Hi ha diferències significatives entre les distribucions de dolor crònic en SENSE_PA i TOTAL.\") \n",
    "else: \n",
    "    print(\"No hi ha diferències significatives entre les distribucions de dolor crònic en SENSE_PA i TOTAL.\") "
   ],
   "metadata": {
    "collapsed": false
   },
   "id": "5deb05dd79e57828"
  },
  {
   "cell_type": "markdown",
   "source": [
    "## Iatrogènic"
   ],
   "metadata": {
    "collapsed": false
   },
   "id": "696cb8980ad9a236"
  },
  {
   "cell_type": "code",
   "outputs": [],
   "source": [
    "iatr_AMB_PA= (AMB_PA['Iatrogènic'] == 1.0).mean() * 100\n",
    "print(f\"Percentatge de iatrogènic: {iatr_AMB_PA:.2f}%\")"
   ],
   "metadata": {
    "collapsed": false
   },
   "id": "bc0589b162e442e"
  },
  {
   "cell_type": "code",
   "outputs": [],
   "source": [
    "iatr_AMB_PA_MECVV= (AMB_PA_MECVV['Iatrogènic'] == 1.0).mean() * 100\n",
    "print(f\"Percentatge de iatrogènic: {iatr_AMB_PA_MECVV:.2f}%\")"
   ],
   "metadata": {
    "collapsed": false
   },
   "id": "d5458b85f369e8ad"
  },
  {
   "cell_type": "code",
   "outputs": [],
   "source": [
    "iatr_SENSE_PA= (SENSE_PA['Iatrogènic'] == 1.0).mean() * 100\n",
    "print(f\"Percentatge de iatrogènic: {iatr_SENSE_PA:.2f}%\")"
   ],
   "metadata": {
    "collapsed": false
   },
   "id": "f782ce6ada91bc91"
  },
  {
   "cell_type": "code",
   "outputs": [],
   "source": [
    "iatr_TOTAL= (TOTAL['Iatrogènic'] == 1.0).mean() * 100\n",
    "print(f\"Percentatge de iatrogènic: {iatr_TOTAL:.2f}%\")"
   ],
   "metadata": {
    "collapsed": false
   },
   "id": "840fb3a2a872d2f4"
  },
  {
   "cell_type": "markdown",
   "source": [
    "#### Comparació distributiva"
   ],
   "metadata": {
    "collapsed": false
   },
   "id": "9350c5136b23c7eb"
  },
  {
   "cell_type": "markdown",
   "source": [
    "##### Normalitat i p-valor"
   ],
   "metadata": {
    "collapsed": false
   },
   "id": "914cee1b48990c5a"
  },
  {
   "cell_type": "code",
   "outputs": [],
   "source": [
    "contingency_table_12 = pd.crosstab(index=AMB_PA['Iatrogènic'], columns=AMB_PA_MECVV['Iatrogènic']) \n",
    " \n",
    "chi2_12, p_value_12, dof_12, expected_12 = chi2_contingency(contingency_table_12) \n",
    " \n",
    "print(\"Estadístic xi-quadrat entre AMB_PA i AMB_PA_MECVV:\", chi2_12) \n",
    "print(\"P-valor entre AMB_PA i AMB_PA_MECVV:\", p_value_12) \n",
    " \n",
    "if p_value_12 < 0.05: \n",
    "    print(\"Hi ha diferències significatives entre les distribucions d'iatrogènic en AMB_PA i AMB_PA_MECVV.\") \n",
    "else: \n",
    "    print(\"No hi ha diferències significatives entre les distribucions d'iatrogènic en AMB_PA i AMB_PA_MECVV.\") "
   ],
   "metadata": {
    "collapsed": false
   },
   "id": "1b9aa163922c8cee"
  },
  {
   "cell_type": "code",
   "outputs": [],
   "source": [
    "contingency_table_13 = pd.crosstab(index=AMB_PA['Iatrogènic'], columns=SENSE_PA['Iatrogènic']) \n",
    " \n",
    "chi2_13, p_value_13, dof_13, expected_13 = chi2_contingency(contingency_table_13) \n",
    " \n",
    "print(\"Estadístic xi-quadrat entre AMB_PA i SENSE_PA:\", chi2_13) \n",
    "print(\"P-valor entre AMB_PA i SENSE_PA:\", p_value_13) \n",
    " \n",
    "if p_value_13 < 0.05: \n",
    "    print(\"Hi ha diferències significatives entre les distribucions d'iatrogènic en AMB_PA i SENSE_PA.\") \n",
    "else: \n",
    "    print(\"No hi ha diferències significatives entre les distribucions d'iatrogènic en AMB_PA i SENSE_PA.\") "
   ],
   "metadata": {
    "collapsed": false
   },
   "id": "a81308a5f6f9010a"
  },
  {
   "cell_type": "code",
   "outputs": [],
   "source": [
    "contingency_table_23 = pd.crosstab(index=AMB_PA_MECVV['Iatrogènic'], columns=SENSE_PA['Iatrogènic']) \n",
    " \n",
    "chi2_23, p_value_23, dof_23, expected_23 = chi2_contingency(contingency_table_23) \n",
    " \n",
    "print(\"Estadístic xi-quadrat entre AMB_PA_MECCV i SENSE_PA:\", chi2_23) \n",
    "print(\"P-valor entre AMB_PA_MECVV i SENSE_PA:\", p_value_23) \n",
    " \n",
    "if p_value_23 < 0.05: \n",
    "    print(\"Hi ha diferències significatives entre les distribucions d'iatrogènic en AMB_PA_MECVV i SENSE_PA.\") \n",
    "else: \n",
    "    print(\"No hi ha diferències significatives entre les distribucions d'iatrogènic en AMB_PA_MECVV i SENSE_PA.\") "
   ],
   "metadata": {
    "collapsed": false
   },
   "id": "80afffeda36f3529"
  },
  {
   "cell_type": "code",
   "outputs": [],
   "source": [
    "contingency_table_14 = pd.crosstab(index=AMB_PA['Iatrogènic'], columns=TOTAL['Iatrogènic']) \n",
    " \n",
    "chi2_14, p_value_14, dof_14, expected_14 = chi2_contingency(contingency_table_14) \n",
    " \n",
    "print(\"Estadístic xi-quadrat entre AMB_PA i TOTAL:\", chi2_14) \n",
    "print(\"P-valor entre AMB_PA i TOTAL:\", p_value_14) \n",
    " \n",
    "if p_value_14 < 0.05: \n",
    "    print(\"Hi ha diferències significatives entre les distribucions d'iatrogènic en AMB_PA i TOTAL.\") \n",
    "else: \n",
    "    print(\"No hi ha diferències significatives entre les distribucions d'iatrogènic en AMB_PA i TOTAL.\") "
   ],
   "metadata": {
    "collapsed": false
   },
   "id": "e2459b9b99949abf"
  },
  {
   "cell_type": "code",
   "outputs": [],
   "source": [
    "contingency_table_24 = pd.crosstab(index=AMB_PA_MECVV['Iatrogènic'], columns=TOTAL['Iatrogènic']) \n",
    " \n",
    "chi2_24, p_value_24, dof_24, expected_24 = chi2_contingency(contingency_table_24) \n",
    " \n",
    "print(\"Estadístic xi-quadrat entre AMB_PA_MECVV i TOTAL:\", chi2_24) \n",
    "print(\"P-valor entre AMB_PA_MECVV i TOTAL:\", p_value_24) \n",
    " \n",
    "if p_value_24 < 0.05: \n",
    "    print(\"Hi ha diferències significatives entre les distribucions d'iatrogènic en AMB_PA_MECVV i TOTAL.\") \n",
    "else: \n",
    "    print(\"No hi ha diferències significatives entre les distribucions d'iatrogènic en AMB_PA_MECVV i TOTAL.\") "
   ],
   "metadata": {
    "collapsed": false
   },
   "id": "b35ec78125c40293"
  },
  {
   "cell_type": "code",
   "outputs": [],
   "source": [
    "contingency_table_34 = pd.crosstab(index=SENSE_PA['Iatrogènic'], columns=TOTAL['Iatrogènic']) \n",
    " \n",
    "chi2_34, p_value_34, dof_34, expected_34 = chi2_contingency(contingency_table_34) \n",
    " \n",
    "print(\"Estadístic xi-quadrat entre SENSE_PA i TOTAL:\", chi2_34) \n",
    "print(\"P-valor entre SENSE_PA i TOTAL:\", p_value_34) \n",
    " \n",
    "if p_value_34 < 0.05: \n",
    "    print(\"Hi ha diferències significatives entre les distribucions d'iatrogènic en SENSE_PA i TOTAL.\") \n",
    "else: \n",
    "    print(\"No hi ha diferències significatives entre les distribucions d'iatrogènic en SENSE_PA i TOTAL.\") "
   ],
   "metadata": {
    "collapsed": false
   },
   "id": "b69c3b8c0242d64a"
  },
  {
   "cell_type": "markdown",
   "source": [
    "## Restrenyiment"
   ],
   "metadata": {
    "collapsed": false
   },
   "id": "ea5901b91abf6735"
  },
  {
   "cell_type": "code",
   "outputs": [],
   "source": [
    "est_AMB_PA= (AMB_PA['Restrenyiment'] == 1.0).mean() * 100\n",
    "print(f\"Percentatge de restrenyiment: {est_AMB_PA:.2f}%\")"
   ],
   "metadata": {
    "collapsed": false
   },
   "id": "de132ce5d38d6eae"
  },
  {
   "cell_type": "code",
   "outputs": [],
   "source": [
    "est_AMB_PA_MECVV= (AMB_PA_MECVV['Restrenyiment'] == 1.0).mean() * 100\n",
    "print(f\"Percentatge de restrenyiment: {est_AMB_PA_MECVV:.2f}%\")"
   ],
   "metadata": {
    "collapsed": false
   },
   "id": "2dc607881088ff06"
  },
  {
   "cell_type": "code",
   "outputs": [],
   "source": [
    "est_SENSE_PA= (SENSE_PA['Restrenyiment'] == 1.0).mean() * 100\n",
    "print(f\"Percentatge de restrenyiment: {est_SENSE_PA:.2f}%\")"
   ],
   "metadata": {
    "collapsed": false
   },
   "id": "7dbb81172ff0ae06"
  },
  {
   "cell_type": "code",
   "outputs": [],
   "source": [
    "est_TOTAL= (TOTAL['Restrenyiment'] == 1.0).mean() * 100\n",
    "print(f\"Percentatge de restrenyiment: {est_TOTAL:.2f}%\")"
   ],
   "metadata": {
    "collapsed": false
   },
   "id": "e77f4f7b6ff4a813"
  },
  {
   "cell_type": "markdown",
   "source": [
    "#### Comparació distributiva"
   ],
   "metadata": {
    "collapsed": false
   },
   "id": "3691bfe5f1501d8"
  },
  {
   "cell_type": "markdown",
   "source": [
    "##### Normalitat i p-valor"
   ],
   "metadata": {
    "collapsed": false
   },
   "id": "373d80e06502ef7c"
  },
  {
   "cell_type": "code",
   "outputs": [],
   "source": [
    "contingency_table_12 = pd.crosstab(index=AMB_PA['Restrenyiment'], columns=AMB_PA_MECVV['Restrenyiment']) \n",
    " \n",
    "chi2_12, p_value_12, dof_12, expected_12 = chi2_contingency(contingency_table_12) \n",
    " \n",
    "print(\"Estadístic xi-quadrat entre AMB_PA i AMB_PA_MECVV:\", chi2_12) \n",
    "print(\"P-valor entre AMB_PA i AMB_PA_MECVV:\", p_value_12) \n",
    " \n",
    "if p_value_12 < 0.05: \n",
    "    print(\"Hi ha diferències significatives entre les distribucions de restrenyiment en AMB_PA i AMB_PA_MECVV.\") \n",
    "else: \n",
    "    print(\"No hi ha diferències significatives entre les distribucions de restrenyiment en AMB_PA i AMB_PA_MECVV.\") "
   ],
   "metadata": {
    "collapsed": false
   },
   "id": "992cb710bc194583"
  },
  {
   "cell_type": "code",
   "outputs": [],
   "source": [
    "contingency_table_13 = pd.crosstab(index=AMB_PA['Restrenyiment'], columns=SENSE_PA['Restrenyiment']) \n",
    " \n",
    "chi2_13, p_value_13, dof_13, expected_13 = chi2_contingency(contingency_table_13) \n",
    " \n",
    "print(\"Estadístic xi-quadrat entre AMB_PA i SENSE_PA:\", chi2_13) \n",
    "print(\"P-valor entre AMB_PA i SENSE_PA:\", p_value_13) \n",
    " \n",
    "if p_value_13 < 0.05: \n",
    "    print(\"Hi ha diferències significatives entre les distribucions de restrenyiment en AMB_PA i SENSE_PA.\") \n",
    "else: \n",
    "    print(\"No hi ha diferències significatives entre les distribucions de restrenyiment en AMB_PA i SENSE_PA.\") "
   ],
   "metadata": {
    "collapsed": false
   },
   "id": "6e5fd2bd056d5251"
  },
  {
   "cell_type": "code",
   "outputs": [],
   "source": [
    "contingency_table_23 = pd.crosstab(index=AMB_PA_MECVV['Restrenyiment'], columns=SENSE_PA['Restrenyiment']) \n",
    " \n",
    "chi2_23, p_value_23, dof_23, expected_23 = chi2_contingency(contingency_table_23) \n",
    " \n",
    "print(\"Estadístic xi-quadrat entre AMB_PA_MECCV i SENSE_PA:\", chi2_23) \n",
    "print(\"P-valor entre AMB_PA_MECVV i SENSE_PA:\", p_value_23) \n",
    " \n",
    "if p_value_23 < 0.05: \n",
    "    print(\"Hi ha diferències significatives entre les distribucions de restrenyiment en AMB_PA_MECVV i SENSE_PA.\") \n",
    "else: \n",
    "    print(\"No hi ha diferències significatives entre les distribucions de restrenyiment en AMB_PA_MECVV i SENSE_PA.\") "
   ],
   "metadata": {
    "collapsed": false
   },
   "id": "cf639ba0d8f0cd6d"
  },
  {
   "cell_type": "code",
   "outputs": [],
   "source": [
    "contingency_table_14 = pd.crosstab(index=AMB_PA['Restrenyiment'], columns=TOTAL['Restrenyiment']) \n",
    " \n",
    "chi2_14, p_value_14, dof_14, expected_14 = chi2_contingency(contingency_table_14) \n",
    " \n",
    "print(\"Estadístic xi-quadrat entre AMB_PA i TOTAL:\", chi2_14) \n",
    "print(\"P-valor entre AMB_PA i TOTAL:\", p_value_14) \n",
    " \n",
    "if p_value_14 < 0.05: \n",
    "    print(\"Hi ha diferències significatives entre les distribucions de restrenyiment en AMB_PA i TOTAL.\") \n",
    "else: \n",
    "    print(\"No hi ha diferències significatives entre les distribucions de restrenyiment en AMB_PA i TOTAL.\") "
   ],
   "metadata": {
    "collapsed": false
   },
   "id": "20140851153718ee"
  },
  {
   "cell_type": "code",
   "outputs": [],
   "source": [
    "contingency_table_24 = pd.crosstab(index=AMB_PA_MECVV['Restrenyiment'], columns=TOTAL['Restrenyiment']) \n",
    " \n",
    "chi2_24, p_value_24, dof_24, expected_24 = chi2_contingency(contingency_table_24) \n",
    " \n",
    "print(\"Estadístic xi-quadrat entre AMB_PA_MECVV i TOTAL:\", chi2_24) \n",
    "print(\"P-valor entre AMB_PA_MECVV i TOTAL:\", p_value_24) \n",
    " \n",
    "if p_value_24 < 0.05: \n",
    "    print(\"Hi ha diferències significatives entre les distribucions de restrenyiment en AMB_PA_MECVV i TOTAL.\") \n",
    "else: \n",
    "    print(\"No hi ha diferències significatives entre les distribucions de restrenyiment en AMB_PA_MECVV i TOTAL.\") "
   ],
   "metadata": {
    "collapsed": false
   },
   "id": "a0d1cf87a4783f7a"
  },
  {
   "cell_type": "code",
   "outputs": [],
   "source": [
    "contingency_table_34 = pd.crosstab(index=SENSE_PA['Restrenyiment'], columns=TOTAL['Restrenyiment']) \n",
    " \n",
    "chi2_34, p_value_34, dof_34, expected_34 = chi2_contingency(contingency_table_34) \n",
    " \n",
    "print(\"Estadístic xi-quadrat entre SENSE_PA i TOTAL:\", chi2_34) \n",
    "print(\"P-valor entre SENSE_PA i TOTAL:\", p_value_34) \n",
    " \n",
    "if p_value_34 < 0.05: \n",
    "    print(\"Hi ha diferències significatives entre les distribucions de restrenyiment en SENSE_PA i TOTAL.\") \n",
    "else: \n",
    "    print(\"No hi ha diferències significatives entre les distribucions de restrenyiment en SENSE_PA i TOTAL.\") "
   ],
   "metadata": {
    "collapsed": false
   },
   "id": "b4c7a022e0787001"
  },
  {
   "cell_type": "markdown",
   "source": [
    "# Historial mèdic/comorbilitats"
   ],
   "metadata": {
    "collapsed": false
   },
   "id": "cfd2024c6d949f31"
  },
  {
   "cell_type": "markdown",
   "source": [
    "## Malalties CV"
   ],
   "metadata": {
    "collapsed": false
   },
   "id": "50f5349d245209c8"
  },
  {
   "cell_type": "code",
   "outputs": [],
   "source": [
    "cv_AMB_PA= (AMB_PA['CV'] == 1.0).mean() * 100\n",
    "print(f\"Percentatge de problemes CV: {cv_AMB_PA:.2f}%\")"
   ],
   "metadata": {
    "collapsed": false
   },
   "id": "a48e8cb1b579bd66"
  },
  {
   "cell_type": "code",
   "outputs": [],
   "source": [
    "cv_AMB_PA_MECVV= (AMB_PA_MECVV['CV'] == 1.0).mean() * 100\n",
    "print(f\"Percentatge de problemes CV: {cv_AMB_PA_MECVV:.2f}%\")"
   ],
   "metadata": {
    "collapsed": false
   },
   "id": "5815f29a11278738"
  },
  {
   "cell_type": "code",
   "outputs": [],
   "source": [
    "cv_SENSE_PA= (SENSE_PA['CV'] == 1.0).mean() * 100\n",
    "print(f\"Percentatge de problemes CV: {cv_SENSE_PA:.2f}%\")"
   ],
   "metadata": {
    "collapsed": false
   },
   "id": "b6681372f511f1f9"
  },
  {
   "cell_type": "code",
   "outputs": [],
   "source": [
    "cv_TOTAL= (TOTAL['CV'] == 1.0).mean() * 100\n",
    "print(f\"Percentatge de problemes CV: {cv_TOTAL:.2f}%\")"
   ],
   "metadata": {
    "collapsed": false
   },
   "id": "b7b61cbda33ff3b3"
  },
  {
   "cell_type": "markdown",
   "source": [
    "#### Comparació distributiva"
   ],
   "metadata": {
    "collapsed": false
   },
   "id": "9356a2dc24397671"
  },
  {
   "cell_type": "markdown",
   "source": [
    "##### Normalitat i p-valor"
   ],
   "metadata": {
    "collapsed": false
   },
   "id": "665fa19c3719f32b"
  },
  {
   "metadata": {
    "ExecuteTime": {
     "end_time": "2024-05-08T09:06:20.398622Z",
     "start_time": "2024-05-08T09:06:20.382265Z"
    }
   },
   "cell_type": "code",
   "source": [
    "contingency_table_12 = pd.crosstab(index=AMB_PA['CV'], columns=AMB_PA_MECVV['CV'])  \n",
    " \n",
    "chi2_12, p_value_12, dof_12, expected_12 = chi2_contingency(contingency_table_12)  \n",
    " \n",
    "print(\"Estadístic xi-quadrat entre AMB_PA i AMB_PA_MECVV:\", chi2_12)  \n",
    "print(\"P-valor entre AMB_PA i AMB_PA_MECVV:\", p_value_12)  \n",
    " \n",
    "if p_value_12 < 0.05:  \n",
    "   print(\"Hi ha diferències significatives entre les distribucions de malalties cardiovasculars en AMB_PA i AMB_PA_MECVV.\")  \n",
    "else:  \n",
    "   print(\"No hi ha diferències significatives entre les distribucions de malalties cardiovasculars en AMB_PA i AMB_PA_MECVV.\") "
   ],
   "id": "5f10fd063b9b5044",
   "outputs": [
    {
     "name": "stdout",
     "output_type": "stream",
     "text": [
      "Estadístic xi-quadrat entre AMB_PA i AMB_PA_MECVV: 0.0\n",
      "P-valor entre AMB_PA i AMB_PA_MECVV: 1.0\n",
      "No hi ha diferències significatives entre les distribucions de malalties cardiovasculars en AMB_PA i AMB_PA_MECVV.\n"
     ]
    }
   ],
   "execution_count": 177
  },
  {
   "metadata": {
    "ExecuteTime": {
     "end_time": "2024-05-08T09:06:20.759959Z",
     "start_time": "2024-05-08T09:06:20.744097Z"
    }
   },
   "cell_type": "code",
   "source": [
    "contingency_table_13 = pd.crosstab(index=AMB_PA['CV'], columns=SENSE_PA['CV'])  \n",
    " \n",
    "chi2_13, p_value_13, dof_13, expected_13 = chi2_contingency(contingency_table_13)  \n",
    " \n",
    "print(\"Estadístic xi-quadrat entre AMB_PA i SENSE_PA:\", chi2_13)  \n",
    "print(\"P-valor entre AMB_PA i SENSE_PA:\", p_value_13)  \n",
    " \n",
    "if p_value_13 < 0.05:  \n",
    "   print(\"Hi ha diferències significatives entre les distribucions de malalties cardiovasculars en AMB_PA i SENSE_PA.\")  \n",
    "else:  \n",
    "   print(\"No hi ha diferències significatives entre les distribucions de malalties cardiovasculars en AMB_PA i SENSE_PA.\") "
   ],
   "id": "3e6ab47f2f7f38d6",
   "outputs": [
    {
     "name": "stdout",
     "output_type": "stream",
     "text": [
      "Estadístic xi-quadrat entre AMB_PA i SENSE_PA: 0.1875\n",
      "P-valor entre AMB_PA i SENSE_PA: 0.6650055421020291\n",
      "No hi ha diferències significatives entre les distribucions de malalties cardiovasculars en AMB_PA i SENSE_PA.\n"
     ]
    }
   ],
   "execution_count": 178
  },
  {
   "metadata": {
    "ExecuteTime": {
     "end_time": "2024-05-08T09:06:21.439082Z",
     "start_time": "2024-05-08T09:06:21.385970Z"
    }
   },
   "cell_type": "code",
   "source": [
    "contingency_table_23 = pd.crosstab(index=AMB_PA_MECVV['CV'], columns=SENSE_PA['CV'])  \n",
    " \n",
    "chi2_23, p_value_23, dof_23, expected_23 = chi2_contingency(contingency_table_23)  \n",
    " \n",
    "print(\"Estadístic xi-quadrat entre AMB_PA_MECCV i SENSE_PA:\", chi2_23)  \n",
    "print(\"P-valor entre AMB_PA_MECVV i SENSE_PA:\", p_value_23)  \n",
    " \n",
    "if p_value_23 < 0.05:  \n",
    "   print(\"Hi ha diferències significatives entre les distribucions de malalties cardiovasculars en AMB_PA_MECVV i SENSE_PA.\")  \n",
    "else:  \n",
    "   print(\"No hi ha diferències significatives entre les distribucions de malalties cardiovasculars en AMB_PA_MECVV i SENSE_PA.\") "
   ],
   "id": "c9c3b2baeeea6423",
   "outputs": [
    {
     "ename": "ValueError",
     "evalue": "No data; `observed` has size 0.",
     "output_type": "error",
     "traceback": [
      "\u001B[1;31m---------------------------------------------------------------------------\u001B[0m",
      "\u001B[1;31mValueError\u001B[0m                                Traceback (most recent call last)",
      "Cell \u001B[1;32mIn[179], line 3\u001B[0m\n\u001B[0;32m      1\u001B[0m contingency_table_23 \u001B[38;5;241m=\u001B[39m pd\u001B[38;5;241m.\u001B[39mcrosstab(index\u001B[38;5;241m=\u001B[39mAMB_PA_MECVV[\u001B[38;5;124m'\u001B[39m\u001B[38;5;124mCV\u001B[39m\u001B[38;5;124m'\u001B[39m], columns\u001B[38;5;241m=\u001B[39mSENSE_PA[\u001B[38;5;124m'\u001B[39m\u001B[38;5;124mCV\u001B[39m\u001B[38;5;124m'\u001B[39m])  \n\u001B[1;32m----> 3\u001B[0m chi2_23, p_value_23, dof_23, expected_23 \u001B[38;5;241m=\u001B[39m \u001B[43mchi2_contingency\u001B[49m\u001B[43m(\u001B[49m\u001B[43mcontingency_table_23\u001B[49m\u001B[43m)\u001B[49m  \n\u001B[0;32m      5\u001B[0m \u001B[38;5;28mprint\u001B[39m(\u001B[38;5;124m\"\u001B[39m\u001B[38;5;124mEstadístic xi-quadrat entre AMB_PA_MECCV i SENSE_PA:\u001B[39m\u001B[38;5;124m\"\u001B[39m, chi2_23)  \n\u001B[0;32m      6\u001B[0m \u001B[38;5;28mprint\u001B[39m(\u001B[38;5;124m\"\u001B[39m\u001B[38;5;124mP-valor entre AMB_PA_MECVV i SENSE_PA:\u001B[39m\u001B[38;5;124m\"\u001B[39m, p_value_23)  \n",
      "File \u001B[1;32m~\\PycharmProjects\\practicum\\.venv\\Lib\\site-packages\\scipy\\stats\\contingency.py:333\u001B[0m, in \u001B[0;36mchi2_contingency\u001B[1;34m(observed, correction, lambda_)\u001B[0m\n\u001B[0;32m    331\u001B[0m     \u001B[38;5;28;01mraise\u001B[39;00m \u001B[38;5;167;01mValueError\u001B[39;00m(\u001B[38;5;124m\"\u001B[39m\u001B[38;5;124mAll values in `observed` must be nonnegative.\u001B[39m\u001B[38;5;124m\"\u001B[39m)\n\u001B[0;32m    332\u001B[0m \u001B[38;5;28;01mif\u001B[39;00m observed\u001B[38;5;241m.\u001B[39msize \u001B[38;5;241m==\u001B[39m \u001B[38;5;241m0\u001B[39m:\n\u001B[1;32m--> 333\u001B[0m     \u001B[38;5;28;01mraise\u001B[39;00m \u001B[38;5;167;01mValueError\u001B[39;00m(\u001B[38;5;124m\"\u001B[39m\u001B[38;5;124mNo data; `observed` has size 0.\u001B[39m\u001B[38;5;124m\"\u001B[39m)\n\u001B[0;32m    335\u001B[0m expected \u001B[38;5;241m=\u001B[39m expected_freq(observed)\n\u001B[0;32m    336\u001B[0m \u001B[38;5;28;01mif\u001B[39;00m np\u001B[38;5;241m.\u001B[39many(expected \u001B[38;5;241m==\u001B[39m \u001B[38;5;241m0\u001B[39m):\n\u001B[0;32m    337\u001B[0m     \u001B[38;5;66;03m# Include one of the positions where expected is zero in\u001B[39;00m\n\u001B[0;32m    338\u001B[0m     \u001B[38;5;66;03m# the exception message.\u001B[39;00m\n",
      "\u001B[1;31mValueError\u001B[0m: No data; `observed` has size 0."
     ]
    }
   ],
   "execution_count": 179
  },
  {
   "metadata": {
    "ExecuteTime": {
     "end_time": "2024-05-08T09:06:21.853122Z",
     "start_time": "2024-05-08T09:06:21.835959Z"
    }
   },
   "cell_type": "code",
   "source": [
    "contingency_table_14 = pd.crosstab(index=AMB_PA['CV'], columns=TOTAL['CV'])  \n",
    " \n",
    "chi2_14, p_value_14, dof_14, expected_14 = chi2_contingency(contingency_table_14)  \n",
    " \n",
    "print(\"Estadístic xi-quadrat entre AMB_PA i TOTAL:\", chi2_14)  \n",
    "print(\"P-valor entre AMB_PA i TOTAL:\", p_value_14)  \n",
    " \n",
    "if p_value_14 < 0.05:  \n",
    "   print(\"Hi ha diferències significatives entre les distribucions de malalties cardiovasculars en AMB_PA i TOTAL.\")  \n",
    "else:  \n",
    "   print(\"No hi ha diferències significatives entre les distribucions de malalties cardiovasculars en AMB_PA i TOTAL.\") "
   ],
   "id": "fe22c31fb55e885e",
   "outputs": [
    {
     "name": "stdout",
     "output_type": "stream",
     "text": [
      "Estadístic xi-quadrat entre AMB_PA i TOTAL: 3.7353515625\n",
      "P-valor entre AMB_PA i TOTAL: 0.053272454982386926\n",
      "No hi ha diferències significatives entre les distribucions de malalties cardiovasculars en AMB_PA i TOTAL.\n"
     ]
    }
   ],
   "execution_count": 180
  },
  {
   "metadata": {
    "ExecuteTime": {
     "end_time": "2024-05-08T09:06:22.362678Z",
     "start_time": "2024-05-08T09:06:22.347374Z"
    }
   },
   "cell_type": "code",
   "source": [
    "contingency_table_24 = pd.crosstab(index=AMB_PA_MECVV['CV'], columns=TOTAL['CV'])  \n",
    " \n",
    "chi2_24, p_value_24, dof_24, expected_24 = chi2_contingency(contingency_table_24)  \n",
    " \n",
    "print(\"Estadístic xi-quadrat entre AMB_PA_MECVV i TOTAL:\", chi2_24)  \n",
    "print(\"P-valor entre AMB_PA_MECVV i TOTAL:\", p_value_24)  \n",
    " \n",
    "if p_value_24 < 0.05:  \n",
    "   print(\"Hi ha diferències significatives entre les distribucions de malalties cardiovasculars en AMB_PA_MECVV i TOTAL.\")  \n",
    "else:  \n",
    "   print(\"No hi ha diferències significatives entre les distribucions de malalties cardiovasculars en AMB_PA_MECVV i TOTAL.\") "
   ],
   "id": "ec61182aae1059b4",
   "outputs": [
    {
     "name": "stdout",
     "output_type": "stream",
     "text": [
      "Estadístic xi-quadrat entre AMB_PA_MECVV i TOTAL: 0.0\n",
      "P-valor entre AMB_PA_MECVV i TOTAL: 1.0\n",
      "No hi ha diferències significatives entre les distribucions de malalties cardiovasculars en AMB_PA_MECVV i TOTAL.\n"
     ]
    }
   ],
   "execution_count": 181
  },
  {
   "metadata": {
    "ExecuteTime": {
     "end_time": "2024-05-08T09:06:22.916642Z",
     "start_time": "2024-05-08T09:06:22.896269Z"
    }
   },
   "cell_type": "code",
   "source": [
    "contingency_table_34 = pd.crosstab(index=SENSE_PA['CV'], columns=TOTAL['CV'])  \n",
    " \n",
    "chi2_34, p_value_34, dof_34, expected_34 = chi2_contingency(contingency_table_34)  \n",
    " \n",
    "print(\"Estadístic xi-quadrat entre SENSE_PA i TOTAL:\", chi2_34)  \n",
    "print(\"P-valor entre SENSE_PA i TOTAL:\", p_value_34)  \n",
    " \n",
    "if p_value_34 < 0.05:  \n",
    "   print(\"Hi ha diferències significatives entre les distribucions de malalties cardiovasculars en SENSE_PA i TOTAL.\")  \n",
    "else:  \n",
    "   print(\"No hi ha diferències significatives entre les distribucions de malalties cardiovasculars en SENSE_PA i TOTAL.\") "
   ],
   "id": "1521e32680963276",
   "outputs": [
    {
     "name": "stdout",
     "output_type": "stream",
     "text": [
      "Estadístic xi-quadrat entre SENSE_PA i TOTAL: 3.5555555555555554\n",
      "P-valor entre SENSE_PA i TOTAL: 0.05934643879191998\n",
      "No hi ha diferències significatives entre les distribucions de malalties cardiovasculars en SENSE_PA i TOTAL.\n"
     ]
    }
   ],
   "execution_count": 182
  },
  {
   "metadata": {},
   "cell_type": "markdown",
   "source": [
    "## Malalties del cor"
   ],
   "id": "ccb034e70398680a"
  },
  {
   "metadata": {
    "ExecuteTime": {
     "end_time": "2024-05-08T09:06:23.282535Z",
     "start_time": "2024-05-08T09:06:23.273679Z"
    }
   },
   "cell_type": "code",
   "source": [
    "cora_AMB_PA= (AMB_PA['Probl.cor'] == 1.0).mean() * 100\n",
    "print(f\"Percentatge de malalties del cor: {cora_AMB_PA:.2f}%\")"
   ],
   "id": "83445fc0eafd0407",
   "outputs": [
    {
     "name": "stdout",
     "output_type": "stream",
     "text": [
      "Percentatge de malalties del cor: 11.76%\n"
     ]
    }
   ],
   "execution_count": 183
  },
  {
   "metadata": {
    "ExecuteTime": {
     "end_time": "2024-05-08T09:06:23.805544Z",
     "start_time": "2024-05-08T09:06:23.795627Z"
    }
   },
   "cell_type": "code",
   "source": [
    "cora_AMB_PA_MECVV= (AMB_PA_MECVV['Probl.cor'] == 1.0).mean() * 100\n",
    "print(f\"Percentatge de malalties del cor: {cora_AMB_PA_MECVV:.2f}%\")"
   ],
   "id": "bd7136466bd809e1",
   "outputs": [
    {
     "name": "stdout",
     "output_type": "stream",
     "text": [
      "Percentatge de malalties del cor: 0.00%\n"
     ]
    }
   ],
   "execution_count": 184
  },
  {
   "metadata": {
    "ExecuteTime": {
     "end_time": "2024-05-08T09:06:24.159131Z",
     "start_time": "2024-05-08T09:06:24.151836Z"
    }
   },
   "cell_type": "code",
   "source": [
    "cora_SENSE_PA= (SENSE_PA['Probl.cor'] == 1.0).mean() * 100\n",
    "print(f\"Percentatge de malalties del cor: {cora_SENSE_PA:.2f}%\")"
   ],
   "id": "f5a394abf4441af0",
   "outputs": [
    {
     "name": "stdout",
     "output_type": "stream",
     "text": [
      "Percentatge de malalties del cor: 37.50%\n"
     ]
    }
   ],
   "execution_count": 185
  },
  {
   "metadata": {
    "ExecuteTime": {
     "end_time": "2024-05-08T09:06:24.699595Z",
     "start_time": "2024-05-08T09:06:24.693231Z"
    }
   },
   "cell_type": "code",
   "source": [
    "cora_TOTAL= (TOTAL['Probl.cor'] == 1.0).mean() * 100\n",
    "print(f\"Percentatge de malalties del cor: {cora_TOTAL:.2f}%\")"
   ],
   "id": "b48c6258937fd780",
   "outputs": [
    {
     "name": "stdout",
     "output_type": "stream",
     "text": [
      "Percentatge de malalties del cor: 14.00%\n"
     ]
    }
   ],
   "execution_count": 186
  },
  {
   "metadata": {},
   "cell_type": "markdown",
   "source": "#### Comparació distributiva",
   "id": "a6c0069e93bb4b47"
  },
  {
   "metadata": {},
   "cell_type": "markdown",
   "source": "##### Normalitat i p-valor ",
   "id": "a72ee98e29b732e6"
  },
  {
   "metadata": {
    "ExecuteTime": {
     "end_time": "2024-05-08T09:06:25.230283Z",
     "start_time": "2024-05-08T09:06:25.214576Z"
    }
   },
   "cell_type": "code",
   "source": [
    "contingency_table_12 = pd.crosstab(index=AMB_PA['Probl.cor'], columns=AMB_PA_MECVV['Probl.cor'])  \n",
    " \n",
    "chi2_12, p_value_12, dof_12, expected_12 = chi2_contingency(contingency_table_12)  \n",
    " \n",
    "print(\"Estadístic xi-quadrat entre AMB_PA i AMB_PA_MECVV:\", chi2_12)  \n",
    "print(\"P-valor entre AMB_PA i AMB_PA_MECVV:\", p_value_12)  \n",
    " \n",
    "if p_value_12 < 0.05:  \n",
    "   print(\"Hi ha diferències significatives entre les distribucions de malalties del cor en AMB_PA i AMB_PA_MECVV.\")  \n",
    "else:  \n",
    "   print(\"No hi ha diferències significatives entre les distribucions de malalties del cor en AMB_PA i AMB_PA_MECVV.\") "
   ],
   "id": "dd41146095c973e6",
   "outputs": [
    {
     "name": "stdout",
     "output_type": "stream",
     "text": [
      "Estadístic xi-quadrat entre AMB_PA i AMB_PA_MECVV: 0.0\n",
      "P-valor entre AMB_PA i AMB_PA_MECVV: 1.0\n",
      "No hi ha diferències significatives entre les distribucions de malalties del cor en AMB_PA i AMB_PA_MECVV.\n"
     ]
    }
   ],
   "execution_count": 187
  },
  {
   "metadata": {
    "ExecuteTime": {
     "end_time": "2024-05-08T09:06:25.969925Z",
     "start_time": "2024-05-08T09:06:25.953327Z"
    }
   },
   "cell_type": "code",
   "source": [
    "contingency_table_13 = pd.crosstab(index=AMB_PA['Probl.cor'], columns=SENSE_PA['Probl.cor'])  \n",
    " \n",
    "chi2_13, p_value_13, dof_13, expected_13 = chi2_contingency(contingency_table_13)  \n",
    " \n",
    "print(\"Estadístic xi-quadrat entre AMB_PA i SENSE_PA:\", chi2_13)  \n",
    "print(\"P-valor entre AMB_PA i SENSE_PA:\", p_value_13)  \n",
    " \n",
    "if p_value_13 < 0.05:  \n",
    "   print(\"Hi ha diferències significatives entre les distribucions de malalties del cor en AMB_PA i SENSE_PA.\")  \n",
    "else:  \n",
    "   print(\"No hi ha diferències significatives entre les distribucions de malalties del cor en AMB_PA i SENSE_PA.\") "
   ],
   "id": "51f94835fcff1281",
   "outputs": [
    {
     "name": "stdout",
     "output_type": "stream",
     "text": [
      "Estadístic xi-quadrat entre AMB_PA i SENSE_PA: 0.0\n",
      "P-valor entre AMB_PA i SENSE_PA: 1.0\n",
      "No hi ha diferències significatives entre les distribucions de malalties del cor en AMB_PA i SENSE_PA.\n"
     ]
    }
   ],
   "execution_count": 188
  },
  {
   "metadata": {
    "ExecuteTime": {
     "end_time": "2024-05-08T09:06:26.314396Z",
     "start_time": "2024-05-08T09:06:26.255809Z"
    }
   },
   "cell_type": "code",
   "source": [
    "contingency_table_23 = pd.crosstab(index=AMB_PA_MECVV['Probl.cor'], columns=SENSE_PA['Probl.cor'])  \n",
    " \n",
    "chi2_23, p_value_23, dof_23, expected_23 = chi2_contingency(contingency_table_23)  \n",
    " \n",
    "print(\"Estadístic xi-quadrat entre AMB_PA_MECCV i SENSE_PA:\", chi2_23)  \n",
    "print(\"P-valor entre AMB_PA_MECVV i SENSE_PA:\", p_value_23)  \n",
    " \n",
    "if p_value_23 < 0.05:  \n",
    "   print(\"Hi ha diferències significatives entre les distribucions de malalties del cor en AMB_PA_MECVV i SENSE_PA.\")  \n",
    "else:  \n",
    "   print(\"No hi ha diferències significatives entre les distribucions de malalties del cor en AMB_PA_MECVV i SENSE_PA.\") "
   ],
   "id": "91d8fe72b61842",
   "outputs": [
    {
     "ename": "ValueError",
     "evalue": "No data; `observed` has size 0.",
     "output_type": "error",
     "traceback": [
      "\u001B[1;31m---------------------------------------------------------------------------\u001B[0m",
      "\u001B[1;31mValueError\u001B[0m                                Traceback (most recent call last)",
      "Cell \u001B[1;32mIn[189], line 3\u001B[0m\n\u001B[0;32m      1\u001B[0m contingency_table_23 \u001B[38;5;241m=\u001B[39m pd\u001B[38;5;241m.\u001B[39mcrosstab(index\u001B[38;5;241m=\u001B[39mAMB_PA_MECVV[\u001B[38;5;124m'\u001B[39m\u001B[38;5;124mProbl.cor\u001B[39m\u001B[38;5;124m'\u001B[39m], columns\u001B[38;5;241m=\u001B[39mSENSE_PA[\u001B[38;5;124m'\u001B[39m\u001B[38;5;124mProbl.cor\u001B[39m\u001B[38;5;124m'\u001B[39m])  \n\u001B[1;32m----> 3\u001B[0m chi2_23, p_value_23, dof_23, expected_23 \u001B[38;5;241m=\u001B[39m \u001B[43mchi2_contingency\u001B[49m\u001B[43m(\u001B[49m\u001B[43mcontingency_table_23\u001B[49m\u001B[43m)\u001B[49m  \n\u001B[0;32m      5\u001B[0m \u001B[38;5;28mprint\u001B[39m(\u001B[38;5;124m\"\u001B[39m\u001B[38;5;124mEstadístic xi-quadrat entre AMB_PA_MECCV i SENSE_PA:\u001B[39m\u001B[38;5;124m\"\u001B[39m, chi2_23)  \n\u001B[0;32m      6\u001B[0m \u001B[38;5;28mprint\u001B[39m(\u001B[38;5;124m\"\u001B[39m\u001B[38;5;124mP-valor entre AMB_PA_MECVV i SENSE_PA:\u001B[39m\u001B[38;5;124m\"\u001B[39m, p_value_23)  \n",
      "File \u001B[1;32m~\\PycharmProjects\\practicum\\.venv\\Lib\\site-packages\\scipy\\stats\\contingency.py:333\u001B[0m, in \u001B[0;36mchi2_contingency\u001B[1;34m(observed, correction, lambda_)\u001B[0m\n\u001B[0;32m    331\u001B[0m     \u001B[38;5;28;01mraise\u001B[39;00m \u001B[38;5;167;01mValueError\u001B[39;00m(\u001B[38;5;124m\"\u001B[39m\u001B[38;5;124mAll values in `observed` must be nonnegative.\u001B[39m\u001B[38;5;124m\"\u001B[39m)\n\u001B[0;32m    332\u001B[0m \u001B[38;5;28;01mif\u001B[39;00m observed\u001B[38;5;241m.\u001B[39msize \u001B[38;5;241m==\u001B[39m \u001B[38;5;241m0\u001B[39m:\n\u001B[1;32m--> 333\u001B[0m     \u001B[38;5;28;01mraise\u001B[39;00m \u001B[38;5;167;01mValueError\u001B[39;00m(\u001B[38;5;124m\"\u001B[39m\u001B[38;5;124mNo data; `observed` has size 0.\u001B[39m\u001B[38;5;124m\"\u001B[39m)\n\u001B[0;32m    335\u001B[0m expected \u001B[38;5;241m=\u001B[39m expected_freq(observed)\n\u001B[0;32m    336\u001B[0m \u001B[38;5;28;01mif\u001B[39;00m np\u001B[38;5;241m.\u001B[39many(expected \u001B[38;5;241m==\u001B[39m \u001B[38;5;241m0\u001B[39m):\n\u001B[0;32m    337\u001B[0m     \u001B[38;5;66;03m# Include one of the positions where expected is zero in\u001B[39;00m\n\u001B[0;32m    338\u001B[0m     \u001B[38;5;66;03m# the exception message.\u001B[39;00m\n",
      "\u001B[1;31mValueError\u001B[0m: No data; `observed` has size 0."
     ]
    }
   ],
   "execution_count": 189
  },
  {
   "metadata": {
    "ExecuteTime": {
     "end_time": "2024-05-08T09:06:26.865493Z",
     "start_time": "2024-05-08T09:06:26.848534Z"
    }
   },
   "cell_type": "code",
   "source": [
    "contingency_table_14 = pd.crosstab(index=AMB_PA['Probl.cor'], columns=TOTAL['Probl.cor'])  \n",
    " \n",
    "chi2_14, p_value_14, dof_14, expected_14 = chi2_contingency(contingency_table_14)  \n",
    " \n",
    "print(\"Estadístic xi-quadrat entre AMB_PA i TOTAL:\", chi2_14)  \n",
    "print(\"P-valor entre AMB_PA i TOTAL:\", p_value_14)  \n",
    " \n",
    "if p_value_14 < 0.05:  \n",
    "   print(\"Hi ha diferències significatives entre les distribucions de malalties del cor en AMB_PA i TOTAL.\")  \n",
    "else:  \n",
    "   print(\"No hi ha diferències significatives entre les distribucions de malalties del cor en AMB_PA i TOTAL.\") "
   ],
   "id": "fb65f1d25a0c1dd0",
   "outputs": [
    {
     "name": "stdout",
     "output_type": "stream",
     "text": [
      "Estadístic xi-quadrat entre AMB_PA i TOTAL: 8.731388888888889\n",
      "P-valor entre AMB_PA i TOTAL: 0.0031277815159609333\n",
      "Hi ha diferències significatives entre les distribucions de malalties del cor en AMB_PA i TOTAL.\n"
     ]
    }
   ],
   "execution_count": 190
  },
  {
   "metadata": {
    "ExecuteTime": {
     "end_time": "2024-05-08T09:06:27.430701Z",
     "start_time": "2024-05-08T09:06:27.416525Z"
    }
   },
   "cell_type": "code",
   "source": [
    "contingency_table_24 = pd.crosstab(index=AMB_PA_MECVV['Probl.cor'], columns=TOTAL['Probl.cor'])  \n",
    " \n",
    "chi2_24, p_value_24, dof_24, expected_24 = chi2_contingency(contingency_table_24)  \n",
    " \n",
    "print(\"Estadístic xi-quadrat entre AMB_PA_MECVV i TOTAL:\", chi2_24)  \n",
    "print(\"P-valor entre AMB_PA_MECVV i TOTAL:\", p_value_24)  \n",
    " \n",
    "if p_value_24 < 0.05:  \n",
    "   print(\"Hi ha diferències significatives entre les distribucions de malalties del cor en AMB_PA_MECVV i TOTAL.\")  \n",
    "else:  \n",
    "   print(\"No hi ha diferències significatives entre les distribucions de malalties del cor en AMB_PA_MECVV i TOTAL.\") "
   ],
   "id": "4059315250e269d7",
   "outputs": [
    {
     "name": "stdout",
     "output_type": "stream",
     "text": [
      "Estadístic xi-quadrat entre AMB_PA_MECVV i TOTAL: 0.0\n",
      "P-valor entre AMB_PA_MECVV i TOTAL: 1.0\n",
      "No hi ha diferències significatives entre les distribucions de malalties del cor en AMB_PA_MECVV i TOTAL.\n"
     ]
    }
   ],
   "execution_count": 191
  },
  {
   "metadata": {
    "ExecuteTime": {
     "end_time": "2024-05-08T09:06:27.781023Z",
     "start_time": "2024-05-08T09:06:27.765865Z"
    }
   },
   "cell_type": "code",
   "source": [
    "contingency_table_34 = pd.crosstab(index=SENSE_PA['Probl.cor'], columns=TOTAL['Probl.cor'])  \n",
    " \n",
    "chi2_34, p_value_34, dof_34, expected_34 = chi2_contingency(contingency_table_34)  \n",
    " \n",
    "print(\"Estadístic xi-quadrat entre SENSE_PA i TOTAL:\", chi2_34)  \n",
    "print(\"P-valor entre SENSE_PA i TOTAL:\", p_value_34)  \n",
    " \n",
    "if p_value_34 < 0.05:  \n",
    "   print(\"Hi ha diferències significatives entre les distribucions de malalties del cor en SENSE_PA i TOTAL.\")  \n",
    "else:  \n",
    "   print(\"No hi ha diferències significatives entre les distribucions de malalties del cor en SENSE_PA i TOTAL.\") "
   ],
   "id": "69c40b42e11ea15c",
   "outputs": [
    {
     "name": "stdout",
     "output_type": "stream",
     "text": [
      "Estadístic xi-quadrat entre SENSE_PA i TOTAL: 4.302222222222222\n",
      "P-valor entre SENSE_PA i TOTAL: 0.0380626070324449\n",
      "Hi ha diferències significatives entre les distribucions de malalties del cor en SENSE_PA i TOTAL.\n"
     ]
    }
   ],
   "execution_count": 192
  },
  {
   "metadata": {},
   "cell_type": "markdown",
   "source": [
    "## Malalties neurodegeneratives"
   ],
   "id": "18c9cce147e62274"
  },
  {
   "metadata": {
    "ExecuteTime": {
     "end_time": "2024-05-08T09:06:28.309112Z",
     "start_time": "2024-05-08T09:06:28.299725Z"
    }
   },
   "cell_type": "code",
   "source": [
    "nd_AMB_PA= (AMB_PA['Neurodegeneratives'] == 1.0).mean() * 100\n",
    "print(f\"Percentatge de malalties neurodegeneratives: {nd_AMB_PA:.2f}%\")"
   ],
   "id": "1b290be0c970c5fe",
   "outputs": [
    {
     "name": "stdout",
     "output_type": "stream",
     "text": [
      "Percentatge de malalties neurodegeneratives: 0.00%\n"
     ]
    }
   ],
   "execution_count": 193
  },
  {
   "metadata": {
    "ExecuteTime": {
     "end_time": "2024-05-08T09:06:28.610221Z",
     "start_time": "2024-05-08T09:06:28.602146Z"
    }
   },
   "cell_type": "code",
   "source": [
    "nd_AMB_PA_MECVV= (AMB_PA_MECVV['Neurodegeneratives'] == 1.0).mean() * 100\n",
    "print(f\"Percentatge de malalties neurodegeneratives: {nd_AMB_PA_MECVV:.2f}%\")"
   ],
   "id": "d7a46cc9000b68a9",
   "outputs": [
    {
     "name": "stdout",
     "output_type": "stream",
     "text": [
      "Percentatge de malalties neurodegeneratives: 12.50%\n"
     ]
    }
   ],
   "execution_count": 194
  },
  {
   "metadata": {
    "ExecuteTime": {
     "end_time": "2024-05-08T09:06:29.181608Z",
     "start_time": "2024-05-08T09:06:29.173196Z"
    }
   },
   "cell_type": "code",
   "source": [
    "nd_SENSE_PA= (SENSE_PA['Neurodegeneratives'] == 1.0).mean() * 100\n",
    "print(f\"Percentatge de malalties neurodegeneratives: {nd_SENSE_PA:.2f}%\")"
   ],
   "id": "fef909050dd582f3",
   "outputs": [
    {
     "name": "stdout",
     "output_type": "stream",
     "text": [
      "Percentatge de malalties neurodegeneratives: 12.50%\n"
     ]
    }
   ],
   "execution_count": 195
  },
  {
   "metadata": {
    "ExecuteTime": {
     "end_time": "2024-05-08T09:06:29.597939Z",
     "start_time": "2024-05-08T09:06:29.584486Z"
    }
   },
   "cell_type": "code",
   "source": [
    "nd_TOTAL= (TOTAL['Neurodegeneratives'] == 1.0).mean() * 100\n",
    "print(f\"Percentatge de malalties neurodegeneratives: {nd_TOTAL:.2f}%\")"
   ],
   "id": "1212802ac90be63b",
   "outputs": [
    {
     "name": "stdout",
     "output_type": "stream",
     "text": [
      "Percentatge de malalties neurodegeneratives: 4.00%\n"
     ]
    }
   ],
   "execution_count": 196
  },
  {
   "metadata": {},
   "cell_type": "markdown",
   "source": "#### Comparació distributiva",
   "id": "13d4492161572489"
  },
  {
   "metadata": {},
   "cell_type": "markdown",
   "source": "##### Normalitat i p-valor",
   "id": "e98b267abe8ec4da"
  },
  {
   "metadata": {
    "ExecuteTime": {
     "end_time": "2024-05-08T09:06:30.096108Z",
     "start_time": "2024-05-08T09:06:30.080111Z"
    }
   },
   "cell_type": "code",
   "source": [
    "contingency_table_12 = pd.crosstab(index=AMB_PA['Neurodegeneratives'], columns=AMB_PA_MECVV['Neurodegeneratives'])  \n",
    " \n",
    "chi2_12, p_value_12, dof_12, expected_12 = chi2_contingency(contingency_table_12)  \n",
    " \n",
    "print(\"Estadístic xi-quadrat entre AMB_PA i AMB_PA_MECVV:\", chi2_12)  \n",
    "print(\"P-valor entre AMB_PA i AMB_PA_MECVV:\", p_value_12)  \n",
    " \n",
    "if p_value_12 < 0.05:  \n",
    "   print(\"Hi ha diferències significatives entre les distribucions de malalties neurodegeneratives en AMB_PA i AMB_PA_MECVV.\")  \n",
    "else:  \n",
    "   print(\"No hi ha diferències significatives entre les distribucions de malalties neurodegeneratives en AMB_PA i AMB_PA_MECVV.\") "
   ],
   "id": "7ea74d2a49cec4ac",
   "outputs": [
    {
     "name": "stdout",
     "output_type": "stream",
     "text": [
      "Estadístic xi-quadrat entre AMB_PA i AMB_PA_MECVV: 0.0\n",
      "P-valor entre AMB_PA i AMB_PA_MECVV: 1.0\n",
      "No hi ha diferències significatives entre les distribucions de malalties neurodegeneratives en AMB_PA i AMB_PA_MECVV.\n"
     ]
    }
   ],
   "execution_count": 197
  },
  {
   "metadata": {
    "ExecuteTime": {
     "end_time": "2024-05-08T09:06:30.505615Z",
     "start_time": "2024-05-08T09:06:30.490001Z"
    }
   },
   "cell_type": "code",
   "source": [
    "contingency_table_13 = pd.crosstab(index=AMB_PA['Neurodegeneratives'], columns=SENSE_PA['Neurodegeneratives'])  \n",
    " \n",
    "chi2_13, p_value_13, dof_13, expected_13 = chi2_contingency(contingency_table_13)  \n",
    " \n",
    "print(\"Estadístic xi-quadrat entre AMB_PA i SENSE_PA:\", chi2_13)  \n",
    "print(\"P-valor entre AMB_PA i SENSE_PA:\", p_value_13)  \n",
    " \n",
    "if p_value_13 < 0.05:  \n",
    "   print(\"Hi ha diferències significatives entre les distribucions de malalties neurodegeneratives en AMB_PA i SENSE_PA.\")  \n",
    "else:  \n",
    "   print(\"No hi ha diferències significatives entre les distribucions de malalties neurodegeneratives en AMB_PA i SENSE_PA.\") "
   ],
   "id": "fedde2b245d34d1",
   "outputs": [
    {
     "name": "stdout",
     "output_type": "stream",
     "text": [
      "Estadístic xi-quadrat entre AMB_PA i SENSE_PA: 0.0\n",
      "P-valor entre AMB_PA i SENSE_PA: 1.0\n",
      "No hi ha diferències significatives entre les distribucions de malalties neurodegeneratives en AMB_PA i SENSE_PA.\n"
     ]
    }
   ],
   "execution_count": 198
  },
  {
   "metadata": {
    "ExecuteTime": {
     "end_time": "2024-05-08T09:06:31.091581Z",
     "start_time": "2024-05-08T09:06:31.044015Z"
    }
   },
   "cell_type": "code",
   "source": [
    "contingency_table_23 = pd.crosstab(index=AMB_PA_MECVV['Neurodegeneratives'], columns=SENSE_PA['Neurodegeneratives'])  \n",
    " \n",
    "chi2_23, p_value_23, dof_23, expected_23 = chi2_contingency(contingency_table_23)  \n",
    " \n",
    "print(\"Estadístic xi-quadrat entre AMB_PA_MECCV i SENSE_PA:\", chi2_23)  \n",
    "print(\"P-valor entre AMB_PA_MECVV i SENSE_PA:\", p_value_23)  \n",
    " \n",
    "if p_value_23 < 0.05:  \n",
    "   print(\"Hi ha diferències significatives entre les distribucions de malalties neurodegeneratives en AMB_PA_MECVV i SENSE_PA.\")  \n",
    "else:  \n",
    "   print(\"No hi ha diferències significatives entre les distribucions de malalties neurodegeneratives en AMB_PA_MECVV i SENSE_PA.\") "
   ],
   "id": "2329b5f7f410f0fb",
   "outputs": [
    {
     "ename": "ValueError",
     "evalue": "No data; `observed` has size 0.",
     "output_type": "error",
     "traceback": [
      "\u001B[1;31m---------------------------------------------------------------------------\u001B[0m",
      "\u001B[1;31mValueError\u001B[0m                                Traceback (most recent call last)",
      "Cell \u001B[1;32mIn[199], line 3\u001B[0m\n\u001B[0;32m      1\u001B[0m contingency_table_23 \u001B[38;5;241m=\u001B[39m pd\u001B[38;5;241m.\u001B[39mcrosstab(index\u001B[38;5;241m=\u001B[39mAMB_PA_MECVV[\u001B[38;5;124m'\u001B[39m\u001B[38;5;124mNeurodegeneratives\u001B[39m\u001B[38;5;124m'\u001B[39m], columns\u001B[38;5;241m=\u001B[39mSENSE_PA[\u001B[38;5;124m'\u001B[39m\u001B[38;5;124mNeurodegeneratives\u001B[39m\u001B[38;5;124m'\u001B[39m])  \n\u001B[1;32m----> 3\u001B[0m chi2_23, p_value_23, dof_23, expected_23 \u001B[38;5;241m=\u001B[39m \u001B[43mchi2_contingency\u001B[49m\u001B[43m(\u001B[49m\u001B[43mcontingency_table_23\u001B[49m\u001B[43m)\u001B[49m  \n\u001B[0;32m      5\u001B[0m \u001B[38;5;28mprint\u001B[39m(\u001B[38;5;124m\"\u001B[39m\u001B[38;5;124mEstadístic xi-quadrat entre AMB_PA_MECCV i SENSE_PA:\u001B[39m\u001B[38;5;124m\"\u001B[39m, chi2_23)  \n\u001B[0;32m      6\u001B[0m \u001B[38;5;28mprint\u001B[39m(\u001B[38;5;124m\"\u001B[39m\u001B[38;5;124mP-valor entre AMB_PA_MECVV i SENSE_PA:\u001B[39m\u001B[38;5;124m\"\u001B[39m, p_value_23)  \n",
      "File \u001B[1;32m~\\PycharmProjects\\practicum\\.venv\\Lib\\site-packages\\scipy\\stats\\contingency.py:333\u001B[0m, in \u001B[0;36mchi2_contingency\u001B[1;34m(observed, correction, lambda_)\u001B[0m\n\u001B[0;32m    331\u001B[0m     \u001B[38;5;28;01mraise\u001B[39;00m \u001B[38;5;167;01mValueError\u001B[39;00m(\u001B[38;5;124m\"\u001B[39m\u001B[38;5;124mAll values in `observed` must be nonnegative.\u001B[39m\u001B[38;5;124m\"\u001B[39m)\n\u001B[0;32m    332\u001B[0m \u001B[38;5;28;01mif\u001B[39;00m observed\u001B[38;5;241m.\u001B[39msize \u001B[38;5;241m==\u001B[39m \u001B[38;5;241m0\u001B[39m:\n\u001B[1;32m--> 333\u001B[0m     \u001B[38;5;28;01mraise\u001B[39;00m \u001B[38;5;167;01mValueError\u001B[39;00m(\u001B[38;5;124m\"\u001B[39m\u001B[38;5;124mNo data; `observed` has size 0.\u001B[39m\u001B[38;5;124m\"\u001B[39m)\n\u001B[0;32m    335\u001B[0m expected \u001B[38;5;241m=\u001B[39m expected_freq(observed)\n\u001B[0;32m    336\u001B[0m \u001B[38;5;28;01mif\u001B[39;00m np\u001B[38;5;241m.\u001B[39many(expected \u001B[38;5;241m==\u001B[39m \u001B[38;5;241m0\u001B[39m):\n\u001B[0;32m    337\u001B[0m     \u001B[38;5;66;03m# Include one of the positions where expected is zero in\u001B[39;00m\n\u001B[0;32m    338\u001B[0m     \u001B[38;5;66;03m# the exception message.\u001B[39;00m\n",
      "\u001B[1;31mValueError\u001B[0m: No data; `observed` has size 0."
     ]
    }
   ],
   "execution_count": 199
  },
  {
   "metadata": {
    "ExecuteTime": {
     "end_time": "2024-05-08T09:06:31.444075Z",
     "start_time": "2024-05-08T09:06:31.428195Z"
    }
   },
   "cell_type": "code",
   "source": [
    "contingency_table_14 = pd.crosstab(index=AMB_PA['Neurodegeneratives'], columns=TOTAL['Neurodegeneratives'])  \n",
    " \n",
    "chi2_14, p_value_14, dof_14, expected_14 = chi2_contingency(contingency_table_14)  \n",
    " \n",
    "print(\"Estadístic xi-quadrat entre AMB_PA i TOTAL:\", chi2_14)  \n",
    "print(\"P-valor entre AMB_PA i TOTAL:\", p_value_14)  \n",
    " \n",
    "if p_value_14 < 0.05:  \n",
    "   print(\"Hi ha diferències significatives entre les distribucions de malalties neurodegeneratives en AMB_PA i TOTAL.\")  \n",
    "else:  \n",
    "   print(\"No hi ha diferències significatives entre les distribucions de malalties neurodegeneratives en AMB_PA i TOTAL.\") "
   ],
   "id": "63f93eb5055124b1",
   "outputs": [
    {
     "name": "stdout",
     "output_type": "stream",
     "text": [
      "Estadístic xi-quadrat entre AMB_PA i TOTAL: 0.0\n",
      "P-valor entre AMB_PA i TOTAL: 1.0\n",
      "No hi ha diferències significatives entre les distribucions de malalties neurodegeneratives en AMB_PA i TOTAL.\n"
     ]
    }
   ],
   "execution_count": 200
  },
  {
   "metadata": {
    "ExecuteTime": {
     "end_time": "2024-05-08T09:06:32.192831Z",
     "start_time": "2024-05-08T09:06:32.177991Z"
    }
   },
   "cell_type": "code",
   "source": [
    "contingency_table_24 = pd.crosstab(index=AMB_PA_MECVV['Neurodegeneratives'], columns=TOTAL['Neurodegeneratives'])  \n",
    " \n",
    "chi2_24, p_value_24, dof_24, expected_24 = chi2_contingency(contingency_table_24)  \n",
    " \n",
    "print(\"Estadístic xi-quadrat entre AMB_PA_MECVV i TOTAL:\", chi2_24)  \n",
    "print(\"P-valor entre AMB_PA_MECVV i TOTAL:\", p_value_24)  \n",
    " \n",
    "if p_value_24 < 0.05:  \n",
    "   print(\"Hi ha diferències significatives entre les distribucions de malalties neurodegeneratives en AMB_PA_MECVV i TOTAL.\")  \n",
    "else:  \n",
    "   print(\"No hi ha diferències significatives entre les distribucions de malalties neurodegeneratives en AMB_PA_MECVV i TOTAL.\") "
   ],
   "id": "cd693aaf83182410",
   "outputs": [
    {
     "name": "stdout",
     "output_type": "stream",
     "text": [
      "Estadístic xi-quadrat entre AMB_PA_MECVV i TOTAL: 1.469387755102041\n",
      "P-valor entre AMB_PA_MECVV i TOTAL: 0.22544231699450956\n",
      "No hi ha diferències significatives entre les distribucions de malalties neurodegeneratives en AMB_PA_MECVV i TOTAL.\n"
     ]
    }
   ],
   "execution_count": 201
  },
  {
   "metadata": {
    "ExecuteTime": {
     "end_time": "2024-05-08T09:06:32.897086Z",
     "start_time": "2024-05-08T09:06:32.880980Z"
    }
   },
   "cell_type": "code",
   "source": [
    "contingency_table_34 = pd.crosstab(index=SENSE_PA['Neurodegeneratives'], columns=TOTAL['Neurodegeneratives'])  \n",
    " \n",
    "chi2_34, p_value_34, dof_34, expected_34 = chi2_contingency(contingency_table_34)  \n",
    " \n",
    "print(\"Estadístic xi-quadrat entre SENSE_PA i TOTAL:\", chi2_34)  \n",
    "print(\"P-valor entre SENSE_PA i TOTAL:\", p_value_34)  \n",
    " \n",
    "if p_value_34 < 0.05:  \n",
    "   print(\"Hi ha diferències significatives entre les distribucions de malalties neurodegeneratives en SENSE_PA i TOTAL.\")  \n",
    "else:  \n",
    "   print(\"No hi ha diferències significatives entre les distribucions de malalties neurodegeneratives en SENSE_PA i TOTAL.\") "
   ],
   "id": "7a9779ed96f27aa0",
   "outputs": [
    {
     "name": "stdout",
     "output_type": "stream",
     "text": [
      "Estadístic xi-quadrat entre SENSE_PA i TOTAL: 1.469387755102041\n",
      "P-valor entre SENSE_PA i TOTAL: 0.22544231699450956\n",
      "No hi ha diferències significatives entre les distribucions de malalties neurodegeneratives en SENSE_PA i TOTAL.\n"
     ]
    }
   ],
   "execution_count": 202
  },
  {
   "metadata": {},
   "cell_type": "markdown",
   "source": "## Diabetis mellitus",
   "id": "42b942e8587dc0c3"
  },
  {
   "metadata": {
    "ExecuteTime": {
     "end_time": "2024-05-08T09:06:33.236884Z",
     "start_time": "2024-05-08T09:06:33.228396Z"
    }
   },
   "cell_type": "code",
   "source": [
    "dm_AMB_PA= (AMB_PA['DM'] == 1.0).mean() * 100\n",
    "print(f\"Percentatge de diabetis mellitus: {dm_AMB_PA:.2f}%\")"
   ],
   "id": "698511ef1e3136bc",
   "outputs": [
    {
     "name": "stdout",
     "output_type": "stream",
     "text": [
      "Percentatge de diabetis mellitus: 23.53%\n"
     ]
    }
   ],
   "execution_count": 203
  },
  {
   "metadata": {
    "ExecuteTime": {
     "end_time": "2024-05-08T09:06:33.751439Z",
     "start_time": "2024-05-08T09:06:33.742201Z"
    }
   },
   "cell_type": "code",
   "source": [
    "dm_AMB_PA_MECVV= (AMB_PA_MECVV['DM'] == 1.0).mean() * 100\n",
    "print(f\"Percentatge de diabetis mellitus: {dm_AMB_PA_MECVV:.2f}%\")"
   ],
   "id": "80ed95bb2fa57c00",
   "outputs": [
    {
     "name": "stdout",
     "output_type": "stream",
     "text": [
      "Percentatge de diabetis mellitus: 25.00%\n"
     ]
    }
   ],
   "execution_count": 204
  },
  {
   "metadata": {
    "ExecuteTime": {
     "end_time": "2024-05-08T09:06:34.094534Z",
     "start_time": "2024-05-08T09:06:34.086301Z"
    }
   },
   "cell_type": "code",
   "source": [
    "dm_SENSE_PA= (SENSE_PA['DM'] == 1.0).mean() * 100\n",
    "print(f\"Percentatge de diabetis mellitus: {dm_SENSE_PA:.2f}%\")"
   ],
   "id": "2de37780f8d2b591",
   "outputs": [
    {
     "name": "stdout",
     "output_type": "stream",
     "text": [
      "Percentatge de diabetis mellitus: 25.00%\n"
     ]
    }
   ],
   "execution_count": 205
  },
  {
   "metadata": {
    "ExecuteTime": {
     "end_time": "2024-05-08T09:06:34.536731Z",
     "start_time": "2024-05-08T09:06:34.526475Z"
    }
   },
   "cell_type": "code",
   "source": [
    "dm_TOTAL= (TOTAL['DM'] == 1.0).mean() * 100\n",
    "print(f\"Percentatge de diabetis mellitus: {dm_TOTAL:.2f}%\")"
   ],
   "id": "3756c541f2d8ac88",
   "outputs": [
    {
     "name": "stdout",
     "output_type": "stream",
     "text": [
      "Percentatge de diabetis mellitus: 26.00%\n"
     ]
    }
   ],
   "execution_count": 206
  },
  {
   "metadata": {},
   "cell_type": "markdown",
   "source": "#### Comparació distributiva",
   "id": "39c5da893c7deb9c"
  },
  {
   "metadata": {},
   "cell_type": "markdown",
   "source": "##### Normalitat i p-valor",
   "id": "ebee9ab25c7f5d27"
  },
  {
   "metadata": {
    "ExecuteTime": {
     "end_time": "2024-05-08T09:06:34.897554Z",
     "start_time": "2024-05-08T09:06:34.886251Z"
    }
   },
   "cell_type": "code",
   "source": [
    "contingency_table_12 = pd.crosstab(index=AMB_PA['Neurodegeneratives'], columns=AMB_PA_MECVV['Neurodegeneratives'])  \n",
    " \n",
    "chi2_12, p_value_12, dof_12, expected_12 = chi2_contingency(contingency_table_12)  \n",
    " \n",
    "print(\"Estadístic xi-quadrat entre AMB_PA i AMB_PA_MECVV:\", chi2_12)  \n",
    "print(\"P-valor entre AMB_PA i AMB_PA_MECVV:\", p_value_12)  \n",
    " \n",
    "if p_value_12 < 0.05:  \n",
    "   print(\"Hi ha diferències significatives entre les distribucions de diabetis mellitus en AMB_PA i AMB_PA_MECVV.\")  \n",
    "else:  \n",
    "   print(\"No hi ha diferències significatives entre les distribucions de diabetis mellitus en AMB_PA i AMB_PA_MECVV.\") "
   ],
   "id": "b76e252fda353c31",
   "outputs": [
    {
     "name": "stdout",
     "output_type": "stream",
     "text": [
      "Estadístic xi-quadrat entre AMB_PA i AMB_PA_MECVV: 0.0\n",
      "P-valor entre AMB_PA i AMB_PA_MECVV: 1.0\n",
      "No hi ha diferències significatives entre les distribucions de diabetis mellitus en AMB_PA i AMB_PA_MECVV.\n"
     ]
    }
   ],
   "execution_count": 207
  },
  {
   "metadata": {
    "ExecuteTime": {
     "end_time": "2024-05-08T09:06:35.397225Z",
     "start_time": "2024-05-08T09:06:35.384182Z"
    }
   },
   "cell_type": "code",
   "source": [
    "contingency_table_13 = pd.crosstab(index=AMB_PA['DM'], columns=SENSE_PA['DM'])  \n",
    " \n",
    "chi2_13, p_value_13, dof_13, expected_13 = chi2_contingency(contingency_table_13)  \n",
    " \n",
    "print(\"Estadístic xi-quadrat entre AMB_PA i SENSE_PA:\", chi2_13)  \n",
    "print(\"P-valor entre AMB_PA i SENSE_PA:\", p_value_13)  \n",
    " \n",
    "if p_value_13 < 0.05:  \n",
    "   print(\"Hi ha diferències significatives entre les distribucions de diabetis mellitus en AMB_PA i SENSE_PA.\")  \n",
    "else:  \n",
    "   print(\"No hi ha diferències significatives entre les distribucions de diabetis mellitus en AMB_PA i SENSE_PA.\") "
   ],
   "id": "4cfaeae595eb594b",
   "outputs": [
    {
     "name": "stdout",
     "output_type": "stream",
     "text": [
      "Estadístic xi-quadrat entre AMB_PA i SENSE_PA: 0.0\n",
      "P-valor entre AMB_PA i SENSE_PA: 1.0\n",
      "No hi ha diferències significatives entre les distribucions de diabetis mellitus en AMB_PA i SENSE_PA.\n"
     ]
    }
   ],
   "execution_count": 208
  },
  {
   "metadata": {
    "ExecuteTime": {
     "end_time": "2024-05-08T09:06:35.733226Z",
     "start_time": "2024-05-08T09:06:35.679151Z"
    }
   },
   "cell_type": "code",
   "source": [
    "contingency_table_23 = pd.crosstab(index=AMB_PA_MECVV['DM'], columns=SENSE_PA['DM'])  \n",
    " \n",
    "chi2_23, p_value_23, dof_23, expected_23 = chi2_contingency(contingency_table_23)  \n",
    " \n",
    "print(\"Estadístic xi-quadrat entre AMB_PA_MECCV i SENSE_PA:\", chi2_23)  \n",
    "print(\"P-valor entre AMB_PA_MECVV i SENSE_PA:\", p_value_23)  \n",
    " \n",
    "if p_value_23 < 0.05:  \n",
    "   print(\"Hi ha diferències significatives entre les distribucions de diabetis mellitus en AMB_PA_MECVV i SENSE_PA.\")  \n",
    "else:  \n",
    "   print(\"No hi ha diferències significatives entre les distribucions de diabetis mellitus en AMB_PA_MECVV i SENSE_PA.\") "
   ],
   "id": "372c60185966ee23",
   "outputs": [
    {
     "ename": "ValueError",
     "evalue": "No data; `observed` has size 0.",
     "output_type": "error",
     "traceback": [
      "\u001B[1;31m---------------------------------------------------------------------------\u001B[0m",
      "\u001B[1;31mValueError\u001B[0m                                Traceback (most recent call last)",
      "Cell \u001B[1;32mIn[209], line 3\u001B[0m\n\u001B[0;32m      1\u001B[0m contingency_table_23 \u001B[38;5;241m=\u001B[39m pd\u001B[38;5;241m.\u001B[39mcrosstab(index\u001B[38;5;241m=\u001B[39mAMB_PA_MECVV[\u001B[38;5;124m'\u001B[39m\u001B[38;5;124mDM\u001B[39m\u001B[38;5;124m'\u001B[39m], columns\u001B[38;5;241m=\u001B[39mSENSE_PA[\u001B[38;5;124m'\u001B[39m\u001B[38;5;124mDM\u001B[39m\u001B[38;5;124m'\u001B[39m])  \n\u001B[1;32m----> 3\u001B[0m chi2_23, p_value_23, dof_23, expected_23 \u001B[38;5;241m=\u001B[39m \u001B[43mchi2_contingency\u001B[49m\u001B[43m(\u001B[49m\u001B[43mcontingency_table_23\u001B[49m\u001B[43m)\u001B[49m  \n\u001B[0;32m      5\u001B[0m \u001B[38;5;28mprint\u001B[39m(\u001B[38;5;124m\"\u001B[39m\u001B[38;5;124mEstadístic xi-quadrat entre AMB_PA_MECCV i SENSE_PA:\u001B[39m\u001B[38;5;124m\"\u001B[39m, chi2_23)  \n\u001B[0;32m      6\u001B[0m \u001B[38;5;28mprint\u001B[39m(\u001B[38;5;124m\"\u001B[39m\u001B[38;5;124mP-valor entre AMB_PA_MECVV i SENSE_PA:\u001B[39m\u001B[38;5;124m\"\u001B[39m, p_value_23)  \n",
      "File \u001B[1;32m~\\PycharmProjects\\practicum\\.venv\\Lib\\site-packages\\scipy\\stats\\contingency.py:333\u001B[0m, in \u001B[0;36mchi2_contingency\u001B[1;34m(observed, correction, lambda_)\u001B[0m\n\u001B[0;32m    331\u001B[0m     \u001B[38;5;28;01mraise\u001B[39;00m \u001B[38;5;167;01mValueError\u001B[39;00m(\u001B[38;5;124m\"\u001B[39m\u001B[38;5;124mAll values in `observed` must be nonnegative.\u001B[39m\u001B[38;5;124m\"\u001B[39m)\n\u001B[0;32m    332\u001B[0m \u001B[38;5;28;01mif\u001B[39;00m observed\u001B[38;5;241m.\u001B[39msize \u001B[38;5;241m==\u001B[39m \u001B[38;5;241m0\u001B[39m:\n\u001B[1;32m--> 333\u001B[0m     \u001B[38;5;28;01mraise\u001B[39;00m \u001B[38;5;167;01mValueError\u001B[39;00m(\u001B[38;5;124m\"\u001B[39m\u001B[38;5;124mNo data; `observed` has size 0.\u001B[39m\u001B[38;5;124m\"\u001B[39m)\n\u001B[0;32m    335\u001B[0m expected \u001B[38;5;241m=\u001B[39m expected_freq(observed)\n\u001B[0;32m    336\u001B[0m \u001B[38;5;28;01mif\u001B[39;00m np\u001B[38;5;241m.\u001B[39many(expected \u001B[38;5;241m==\u001B[39m \u001B[38;5;241m0\u001B[39m):\n\u001B[0;32m    337\u001B[0m     \u001B[38;5;66;03m# Include one of the positions where expected is zero in\u001B[39;00m\n\u001B[0;32m    338\u001B[0m     \u001B[38;5;66;03m# the exception message.\u001B[39;00m\n",
      "\u001B[1;31mValueError\u001B[0m: No data; `observed` has size 0."
     ]
    }
   ],
   "execution_count": 209
  },
  {
   "metadata": {
    "ExecuteTime": {
     "end_time": "2024-05-08T09:06:36.247327Z",
     "start_time": "2024-05-08T09:06:36.228933Z"
    }
   },
   "cell_type": "code",
   "source": [
    "contingency_table_14 = pd.crosstab(index=AMB_PA['DM'], columns=TOTAL['DM'])  \n",
    " \n",
    "chi2_14, p_value_14, dof_14, expected_14 = chi2_contingency(contingency_table_14)  \n",
    " \n",
    "print(\"Estadístic xi-quadrat entre AMB_PA i TOTAL:\", chi2_14)  \n",
    "print(\"P-valor entre AMB_PA i TOTAL:\", p_value_14)  \n",
    " \n",
    "if p_value_14 < 0.05:  \n",
    "   print(\"Hi ha diferències significatives entre les distribucions de diabetis mellitus en AMB_PA i TOTAL.\")  \n",
    "else:  \n",
    "   print(\"No hi ha diferències significatives entre les distribucions de diabetis mellitus en AMB_PA i TOTAL.\") "
   ],
   "id": "1f10bd0d533a11a8",
   "outputs": [
    {
     "name": "stdout",
     "output_type": "stream",
     "text": [
      "Estadístic xi-quadrat entre AMB_PA i TOTAL: 11.89654215976331\n",
      "P-valor entre AMB_PA i TOTAL: 0.0005623824703676534\n",
      "Hi ha diferències significatives entre les distribucions de diabetis mellitus en AMB_PA i TOTAL.\n"
     ]
    }
   ],
   "execution_count": 210
  },
  {
   "metadata": {
    "ExecuteTime": {
     "end_time": "2024-05-08T09:06:36.794900Z",
     "start_time": "2024-05-08T09:06:36.777018Z"
    }
   },
   "cell_type": "code",
   "source": [
    "contingency_table_24 = pd.crosstab(index=AMB_PA_MECVV['DM'], columns=TOTAL['DM'])  \n",
    " \n",
    "chi2_24, p_value_24, dof_24, expected_24 = chi2_contingency(contingency_table_24)  \n",
    " \n",
    "print(\"Estadístic xi-quadrat entre AMB_PA_MECVV i TOTAL:\", chi2_24)  \n",
    "print(\"P-valor entre AMB_PA_MECVV i TOTAL:\", p_value_24)  \n",
    " \n",
    "if p_value_24 < 0.05:  \n",
    "   print(\"Hi ha diferències significatives entre les distribucions de diabetis mellitus en AMB_PA_MECVV i TOTAL.\")  \n",
    "else:  \n",
    "   print(\"No hi ha diferències significatives entre les distribucions de diabetis mellitus en AMB_PA_MECVV i TOTAL.\") "
   ],
   "id": "f3030c97e121feb",
   "outputs": [
    {
     "name": "stdout",
     "output_type": "stream",
     "text": [
      "Estadístic xi-quadrat entre AMB_PA_MECVV i TOTAL: 3.5555555555555554\n",
      "P-valor entre AMB_PA_MECVV i TOTAL: 0.05934643879191998\n",
      "No hi ha diferències significatives entre les distribucions de diabetis mellitus en AMB_PA_MECVV i TOTAL.\n"
     ]
    }
   ],
   "execution_count": 211
  },
  {
   "metadata": {
    "ExecuteTime": {
     "end_time": "2024-05-08T09:06:37.106818Z",
     "start_time": "2024-05-08T09:06:37.088861Z"
    }
   },
   "cell_type": "code",
   "source": [
    "contingency_table_34 = pd.crosstab(index=SENSE_PA['DM'], columns=TOTAL['DM'])  \n",
    " \n",
    "chi2_34, p_value_34, dof_34, expected_34 = chi2_contingency(contingency_table_34)  \n",
    " \n",
    "print(\"Estadístic xi-quadrat entre SENSE_PA i TOTAL:\", chi2_34)  \n",
    "print(\"P-valor entre SENSE_PA i TOTAL:\", p_value_34)  \n",
    " \n",
    "if p_value_34 < 0.05:  \n",
    "   print(\"Hi ha diferències significatives entre les distribucions de diabetis mellitus en SENSE_PA i TOTAL.\")  \n",
    "else:  \n",
    "   print(\"No hi ha diferències significatives entre les distribucions de diabetis mellitus en SENSE_PA i TOTAL.\") "
   ],
   "id": "23433b42464349ab",
   "outputs": [
    {
     "name": "stdout",
     "output_type": "stream",
     "text": [
      "Estadístic xi-quadrat entre SENSE_PA i TOTAL: 3.5555555555555554\n",
      "P-valor entre SENSE_PA i TOTAL: 0.05934643879191998\n",
      "No hi ha diferències significatives entre les distribucions de diabetis mellitus en SENSE_PA i TOTAL.\n"
     ]
    }
   ],
   "execution_count": 212
  },
  {
   "metadata": {},
   "cell_type": "markdown",
   "source": [
    "## Hepatopaties"
   ],
   "id": "772c1f476c2f3d43"
  },
  {
   "metadata": {
    "ExecuteTime": {
     "end_time": "2024-05-08T09:06:37.563043Z",
     "start_time": "2024-05-08T09:06:37.552885Z"
    }
   },
   "cell_type": "code",
   "source": [
    "hp_AMB_PA= (AMB_PA['Hepatopaties'] == 1.0).mean() * 100\n",
    "print(f\"Percentatge de hepatopaties: {hp_AMB_PA:.2f}%\")"
   ],
   "id": "5cfced98e5d59960",
   "outputs": [
    {
     "name": "stdout",
     "output_type": "stream",
     "text": [
      "Percentatge de hepatopaties: 11.76%\n"
     ]
    }
   ],
   "execution_count": 213
  },
  {
   "metadata": {
    "ExecuteTime": {
     "end_time": "2024-05-08T09:06:38.032508Z",
     "start_time": "2024-05-08T09:06:38.026364Z"
    }
   },
   "cell_type": "code",
   "source": [
    "hp_AMB_PA_MECVV= (AMB_PA_MECVV['Hepatopaties'] == 1.0).mean() * 100\n",
    "print(f\"Percentatge de hepatopaties: {hp_AMB_PA_MECVV:.2f}%\")"
   ],
   "id": "ffeb2d3f7c6163ad",
   "outputs": [
    {
     "name": "stdout",
     "output_type": "stream",
     "text": [
      "Percentatge de hepatopaties: 12.50%\n"
     ]
    }
   ],
   "execution_count": 214
  },
  {
   "metadata": {
    "ExecuteTime": {
     "end_time": "2024-05-08T09:06:38.715798Z",
     "start_time": "2024-05-08T09:06:38.708150Z"
    }
   },
   "cell_type": "code",
   "source": [
    "hp_SENSE_PA= (SENSE_PA['Hepatopaties'] == 1.0).mean() * 100\n",
    "print(f\"Percentatge de hepatopaties: {hp_SENSE_PA:.2f}%\")"
   ],
   "id": "23ccf77254538573",
   "outputs": [
    {
     "name": "stdout",
     "output_type": "stream",
     "text": [
      "Percentatge de hepatopaties: 0.00%\n"
     ]
    }
   ],
   "execution_count": 215
  },
  {
   "metadata": {
    "ExecuteTime": {
     "end_time": "2024-05-08T09:06:39.216461Z",
     "start_time": "2024-05-08T09:06:39.209404Z"
    }
   },
   "cell_type": "code",
   "source": [
    "hp_TOTAL= (TOTAL['Hepatopaties'] == 1.0).mean() * 100\n",
    "print(f\"Percentatge de hepatopaties: {hp_TOTAL:.2f}%\")"
   ],
   "id": "bf1ed7d22984b31",
   "outputs": [
    {
     "name": "stdout",
     "output_type": "stream",
     "text": [
      "Percentatge de hepatopaties: 6.00%\n"
     ]
    }
   ],
   "execution_count": 216
  },
  {
   "metadata": {},
   "cell_type": "markdown",
   "source": "#### Comparació distributiva",
   "id": "ee084e9b17270c10"
  },
  {
   "metadata": {},
   "cell_type": "markdown",
   "source": "##### Normalitat i p-valor",
   "id": "b932958d65d9e455"
  },
  {
   "metadata": {
    "ExecuteTime": {
     "end_time": "2024-05-08T09:06:40.168436Z",
     "start_time": "2024-05-08T09:06:40.151045Z"
    }
   },
   "cell_type": "code",
   "source": [
    "contingency_table_12 = pd.crosstab(index=AMB_PA['Hepatopaties'], columns=AMB_PA_MECVV['Hepatopaties'])  \n",
    " \n",
    "chi2_12, p_value_12, dof_12, expected_12 = chi2_contingency(contingency_table_12)  \n",
    " \n",
    "print(\"Estadístic xi-quadrat entre AMB_PA i AMB_PA_MECVV:\", chi2_12)  \n",
    "print(\"P-valor entre AMB_PA i AMB_PA_MECVV:\", p_value_12)  \n",
    " \n",
    "if p_value_12 < 0.05:  \n",
    "   print(\"Hi ha diferències significatives entre les distribucions de hepatopaties en AMB_PA i AMB_PA_MECVV.\")  \n",
    "else:  \n",
    "   print(\"No hi ha diferències significatives entre les distribucions de hepatopaties en AMB_PA i AMB_PA_MECVV.\") "
   ],
   "id": "f1d399767dab3eeb",
   "outputs": [
    {
     "name": "stdout",
     "output_type": "stream",
     "text": [
      "Estadístic xi-quadrat entre AMB_PA i AMB_PA_MECVV: 0.9600000000000002\n",
      "P-valor entre AMB_PA i AMB_PA_MECVV: 0.32718687779030275\n",
      "No hi ha diferències significatives entre les distribucions de hepatopaties en AMB_PA i AMB_PA_MECVV.\n"
     ]
    }
   ],
   "execution_count": 217
  },
  {
   "metadata": {
    "ExecuteTime": {
     "end_time": "2024-05-08T09:06:40.534587Z",
     "start_time": "2024-05-08T09:06:40.516622Z"
    }
   },
   "cell_type": "code",
   "source": [
    "contingency_table_13 = pd.crosstab(index=AMB_PA['Hepatopaties'], columns=SENSE_PA['Hepatopaties'])  \n",
    " \n",
    "chi2_13, p_value_13, dof_13, expected_13 = chi2_contingency(contingency_table_13)  \n",
    " \n",
    "print(\"Estadístic xi-quadrat entre AMB_PA i SENSE_PA:\", chi2_13)  \n",
    "print(\"P-valor entre AMB_PA i SENSE_PA:\", p_value_13)  \n",
    " \n",
    "if p_value_13 < 0.05:  \n",
    "   print(\"Hi ha diferències significatives entre les distribucions de hepatopaties en AMB_PA i SENSE_PA.\")  \n",
    "else:  \n",
    "   print(\"No hi ha diferències significatives entre les distribucions de hepatopaties en AMB_PA i SENSE_PA.\") "
   ],
   "id": "e5ae22e928d63a0f",
   "outputs": [
    {
     "name": "stdout",
     "output_type": "stream",
     "text": [
      "Estadístic xi-quadrat entre AMB_PA i SENSE_PA: 0.0\n",
      "P-valor entre AMB_PA i SENSE_PA: 1.0\n",
      "No hi ha diferències significatives entre les distribucions de hepatopaties en AMB_PA i SENSE_PA.\n"
     ]
    }
   ],
   "execution_count": 218
  },
  {
   "metadata": {
    "ExecuteTime": {
     "end_time": "2024-05-08T09:06:41.257532Z",
     "start_time": "2024-05-08T09:06:41.214121Z"
    }
   },
   "cell_type": "code",
   "source": [
    "contingency_table_23 = pd.crosstab(index=AMB_PA_MECVV['Hepatopaties'], columns=SENSE_PA['Hepatopaties'])  \n",
    " \n",
    "chi2_23, p_value_23, dof_23, expected_23 = chi2_contingency(contingency_table_23)  \n",
    " \n",
    "print(\"Estadístic xi-quadrat entre AMB_PA_MECCV i SENSE_PA:\", chi2_23)  \n",
    "print(\"P-valor entre AMB_PA_MECVV i SENSE_PA:\", p_value_23)  \n",
    " \n",
    "if p_value_23 < 0.05:  \n",
    "   print(\"Hi ha diferències significatives entre les distribucions de hepatopaties en AMB_PA_MECVV i SENSE_PA.\")  \n",
    "else:  \n",
    "   print(\"No hi ha diferències significatives entre les distribucions de hepatopaties en AMB_PA_MECVV i SENSE_PA.\") "
   ],
   "id": "c8e4bb6c92eae392",
   "outputs": [
    {
     "ename": "ValueError",
     "evalue": "No data; `observed` has size 0.",
     "output_type": "error",
     "traceback": [
      "\u001B[1;31m---------------------------------------------------------------------------\u001B[0m",
      "\u001B[1;31mValueError\u001B[0m                                Traceback (most recent call last)",
      "Cell \u001B[1;32mIn[219], line 3\u001B[0m\n\u001B[0;32m      1\u001B[0m contingency_table_23 \u001B[38;5;241m=\u001B[39m pd\u001B[38;5;241m.\u001B[39mcrosstab(index\u001B[38;5;241m=\u001B[39mAMB_PA_MECVV[\u001B[38;5;124m'\u001B[39m\u001B[38;5;124mHepatopaties\u001B[39m\u001B[38;5;124m'\u001B[39m], columns\u001B[38;5;241m=\u001B[39mSENSE_PA[\u001B[38;5;124m'\u001B[39m\u001B[38;5;124mHepatopaties\u001B[39m\u001B[38;5;124m'\u001B[39m])  \n\u001B[1;32m----> 3\u001B[0m chi2_23, p_value_23, dof_23, expected_23 \u001B[38;5;241m=\u001B[39m \u001B[43mchi2_contingency\u001B[49m\u001B[43m(\u001B[49m\u001B[43mcontingency_table_23\u001B[49m\u001B[43m)\u001B[49m  \n\u001B[0;32m      5\u001B[0m \u001B[38;5;28mprint\u001B[39m(\u001B[38;5;124m\"\u001B[39m\u001B[38;5;124mEstadístic xi-quadrat entre AMB_PA_MECCV i SENSE_PA:\u001B[39m\u001B[38;5;124m\"\u001B[39m, chi2_23)  \n\u001B[0;32m      6\u001B[0m \u001B[38;5;28mprint\u001B[39m(\u001B[38;5;124m\"\u001B[39m\u001B[38;5;124mP-valor entre AMB_PA_MECVV i SENSE_PA:\u001B[39m\u001B[38;5;124m\"\u001B[39m, p_value_23)  \n",
      "File \u001B[1;32m~\\PycharmProjects\\practicum\\.venv\\Lib\\site-packages\\scipy\\stats\\contingency.py:333\u001B[0m, in \u001B[0;36mchi2_contingency\u001B[1;34m(observed, correction, lambda_)\u001B[0m\n\u001B[0;32m    331\u001B[0m     \u001B[38;5;28;01mraise\u001B[39;00m \u001B[38;5;167;01mValueError\u001B[39;00m(\u001B[38;5;124m\"\u001B[39m\u001B[38;5;124mAll values in `observed` must be nonnegative.\u001B[39m\u001B[38;5;124m\"\u001B[39m)\n\u001B[0;32m    332\u001B[0m \u001B[38;5;28;01mif\u001B[39;00m observed\u001B[38;5;241m.\u001B[39msize \u001B[38;5;241m==\u001B[39m \u001B[38;5;241m0\u001B[39m:\n\u001B[1;32m--> 333\u001B[0m     \u001B[38;5;28;01mraise\u001B[39;00m \u001B[38;5;167;01mValueError\u001B[39;00m(\u001B[38;5;124m\"\u001B[39m\u001B[38;5;124mNo data; `observed` has size 0.\u001B[39m\u001B[38;5;124m\"\u001B[39m)\n\u001B[0;32m    335\u001B[0m expected \u001B[38;5;241m=\u001B[39m expected_freq(observed)\n\u001B[0;32m    336\u001B[0m \u001B[38;5;28;01mif\u001B[39;00m np\u001B[38;5;241m.\u001B[39many(expected \u001B[38;5;241m==\u001B[39m \u001B[38;5;241m0\u001B[39m):\n\u001B[0;32m    337\u001B[0m     \u001B[38;5;66;03m# Include one of the positions where expected is zero in\u001B[39;00m\n\u001B[0;32m    338\u001B[0m     \u001B[38;5;66;03m# the exception message.\u001B[39;00m\n",
      "\u001B[1;31mValueError\u001B[0m: No data; `observed` has size 0."
     ]
    }
   ],
   "execution_count": 219
  },
  {
   "metadata": {
    "ExecuteTime": {
     "end_time": "2024-05-08T09:06:41.717287Z",
     "start_time": "2024-05-08T09:06:41.699623Z"
    }
   },
   "cell_type": "code",
   "source": [
    "contingency_table_14 = pd.crosstab(index=AMB_PA['Hepatopaties'], columns=TOTAL['Hepatopaties'])  \n",
    " \n",
    "chi2_14, p_value_14, dof_14, expected_14 = chi2_contingency(contingency_table_14)  \n",
    " \n",
    "print(\"Estadístic xi-quadrat entre AMB_PA i TOTAL:\", chi2_14)  \n",
    "print(\"P-valor entre AMB_PA i TOTAL:\", p_value_14)  \n",
    " \n",
    "if p_value_14 < 0.05:  \n",
    "   print(\"Hi ha diferències significatives entre les distribucions de hepatopaties en AMB_PA i TOTAL.\")  \n",
    "else:  \n",
    "   print(\"No hi ha diferències significatives entre les distribucions de hepatopaties en AMB_PA i TOTAL.\") "
   ],
   "id": "b11698f8db6e3226",
   "outputs": [
    {
     "name": "stdout",
     "output_type": "stream",
     "text": [
      "Estadístic xi-quadrat entre AMB_PA i TOTAL: 8.731388888888889\n",
      "P-valor entre AMB_PA i TOTAL: 0.0031277815159609333\n",
      "Hi ha diferències significatives entre les distribucions de hepatopaties en AMB_PA i TOTAL.\n"
     ]
    }
   ],
   "execution_count": 220
  },
  {
   "metadata": {
    "ExecuteTime": {
     "end_time": "2024-05-08T09:06:42.224592Z",
     "start_time": "2024-05-08T09:06:42.207566Z"
    }
   },
   "cell_type": "code",
   "source": [
    "contingency_table_24 = pd.crosstab(index=AMB_PA_MECVV['Hepatopaties'], columns=TOTAL['Hepatopaties'])  \n",
    " \n",
    "chi2_24, p_value_24, dof_24, expected_24 = chi2_contingency(contingency_table_24)  \n",
    " \n",
    "print(\"Estadístic xi-quadrat entre AMB_PA_MECVV i TOTAL:\", chi2_24)  \n",
    "print(\"P-valor entre AMB_PA_MECVV i TOTAL:\", p_value_24)  \n",
    " \n",
    "if p_value_24 < 0.05:  \n",
    "   print(\"Hi ha diferències significatives entre les distribucions de hepatopaties en AMB_PA_MECVV i TOTAL.\")  \n",
    "else:  \n",
    "   print(\"No hi ha diferències significatives entre les distribucions de hepatopaties en AMB_PA_MECVV i TOTAL.\") "
   ],
   "id": "1d9f0b296f41f961",
   "outputs": [
    {
     "name": "stdout",
     "output_type": "stream",
     "text": [
      "Estadístic xi-quadrat entre AMB_PA_MECVV i TOTAL: 1.469387755102041\n",
      "P-valor entre AMB_PA_MECVV i TOTAL: 0.22544231699450956\n",
      "No hi ha diferències significatives entre les distribucions de hepatopaties en AMB_PA_MECVV i TOTAL.\n"
     ]
    }
   ],
   "execution_count": 221
  },
  {
   "metadata": {
    "ExecuteTime": {
     "end_time": "2024-05-08T09:06:42.696854Z",
     "start_time": "2024-05-08T09:06:42.676620Z"
    }
   },
   "cell_type": "code",
   "source": [
    "contingency_table_34 = pd.crosstab(index=SENSE_PA['Hepatopaties'], columns=TOTAL['Hepatopaties'])  \n",
    " \n",
    "chi2_34, p_value_34, dof_34, expected_34 = chi2_contingency(contingency_table_34)  \n",
    " \n",
    "print(\"Estadístic xi-quadrat entre SENSE_PA i TOTAL:\", chi2_34)  \n",
    "print(\"P-valor entre SENSE_PA i TOTAL:\", p_value_34)  \n",
    " \n",
    "if p_value_34 < 0.05:  \n",
    "   print(\"Hi ha diferències significatives entre les distribucions de hepatopaties en SENSE_PA i TOTAL.\")  \n",
    "else:  \n",
    "   print(\"No hi ha diferències significatives entre les distribucions de hepatopaties en SENSE_PA i TOTAL.\") "
   ],
   "id": "aa2a6ecd3965fece",
   "outputs": [
    {
     "name": "stdout",
     "output_type": "stream",
     "text": [
      "Estadístic xi-quadrat entre SENSE_PA i TOTAL: 0.0\n",
      "P-valor entre SENSE_PA i TOTAL: 1.0\n",
      "No hi ha diferències significatives entre les distribucions de hepatopaties en SENSE_PA i TOTAL.\n"
     ]
    }
   ],
   "execution_count": 222
  },
  {
   "metadata": {},
   "cell_type": "markdown",
   "source": "## Neoplàsies",
   "id": "959b58aaaaab994b"
  },
  {
   "metadata": {
    "ExecuteTime": {
     "end_time": "2024-05-08T09:06:42.997688Z",
     "start_time": "2024-05-08T09:06:42.989844Z"
    }
   },
   "cell_type": "code",
   "source": [
    "neopl_AMB_PA= (AMB_PA['Neoplàsies'] == 1.0).mean() * 100\n",
    "print(f\"Percentatge de neoplàsies: {neopl_AMB_PA:.2f}%\")"
   ],
   "id": "6bbefcc81da003fc",
   "outputs": [
    {
     "name": "stdout",
     "output_type": "stream",
     "text": [
      "Percentatge de neoplàsies: 0.00%\n"
     ]
    }
   ],
   "execution_count": 223
  },
  {
   "metadata": {
    "ExecuteTime": {
     "end_time": "2024-05-08T09:06:43.519690Z",
     "start_time": "2024-05-08T09:06:43.512273Z"
    }
   },
   "cell_type": "code",
   "source": [
    "neopl_AMB_PA_MECVV= (AMB_PA_MECVV['Neoplàsies'] == 1.0).mean() * 100\n",
    "print(f\"Percentatge de neoplàsies: {neopl_AMB_PA_MECVV:.2f}%\")"
   ],
   "id": "216d7eebaa16abc0",
   "outputs": [
    {
     "name": "stdout",
     "output_type": "stream",
     "text": [
      "Percentatge de neoplàsies: 0.00%\n"
     ]
    }
   ],
   "execution_count": 224
  },
  {
   "metadata": {
    "ExecuteTime": {
     "end_time": "2024-05-08T09:06:43.820355Z",
     "start_time": "2024-05-08T09:06:43.812829Z"
    }
   },
   "cell_type": "code",
   "source": [
    "neopl_SENSE_PA= (SENSE_PA['Neoplàsies'] == 1.0).mean() * 100\n",
    "print(f\"Percentatge de neoplàsies: {neopl_SENSE_PA:.2f}%\")"
   ],
   "id": "380e87c3db7e8b7a",
   "outputs": [
    {
     "name": "stdout",
     "output_type": "stream",
     "text": [
      "Percentatge de neoplàsies: 12.50%\n"
     ]
    }
   ],
   "execution_count": 225
  },
  {
   "metadata": {
    "ExecuteTime": {
     "end_time": "2024-05-08T09:06:44.314178Z",
     "start_time": "2024-05-08T09:06:44.307892Z"
    }
   },
   "cell_type": "code",
   "source": [
    "neopl_TOTAL= (TOTAL['Neoplàsies'] == 1.0).mean() * 100\n",
    "print(f\"Percentatge de neoplàsies: {neopl_TOTAL:.2f}%\")"
   ],
   "id": "6668eb0b5843499",
   "outputs": [
    {
     "name": "stdout",
     "output_type": "stream",
     "text": [
      "Percentatge de neoplàsies: 6.00%\n"
     ]
    }
   ],
   "execution_count": 226
  },
  {
   "metadata": {},
   "cell_type": "markdown",
   "source": "#### Comparació distributiva",
   "id": "338c0f6458d8be19"
  },
  {
   "metadata": {},
   "cell_type": "markdown",
   "source": "##### Normalitat i p-valor",
   "id": "9377ac1a9f6dd002"
  },
  {
   "metadata": {
    "ExecuteTime": {
     "end_time": "2024-05-08T09:06:44.706431Z",
     "start_time": "2024-05-08T09:06:44.687876Z"
    }
   },
   "cell_type": "code",
   "source": [
    "contingency_table_12 = pd.crosstab(index=AMB_PA['Neoplàsies'], columns=AMB_PA_MECVV['Neoplàsies'])  \n",
    " \n",
    "chi2_12, p_value_12, dof_12, expected_12 = chi2_contingency(contingency_table_12)  \n",
    " \n",
    "print(\"Estadístic xi-quadrat entre AMB_PA i AMB_PA_MECVV:\", chi2_12)  \n",
    "print(\"P-valor entre AMB_PA i AMB_PA_MECVV:\", p_value_12)  \n",
    " \n",
    "if p_value_12 < 0.05:  \n",
    "   print(\"Hi ha diferències significatives entre les distribucions de neoplàsies en AMB_PA i AMB_PA_MECVV.\")  \n",
    "else:  \n",
    "   print(\"No hi ha diferències significatives entre les distribucions de neoplàsies en AMB_PA i AMB_PA_MECVV.\") "
   ],
   "id": "7e49acda243ca033",
   "outputs": [
    {
     "name": "stdout",
     "output_type": "stream",
     "text": [
      "Estadístic xi-quadrat entre AMB_PA i AMB_PA_MECVV: 0.0\n",
      "P-valor entre AMB_PA i AMB_PA_MECVV: 1.0\n",
      "No hi ha diferències significatives entre les distribucions de neoplàsies en AMB_PA i AMB_PA_MECVV.\n"
     ]
    }
   ],
   "execution_count": 227
  },
  {
   "metadata": {
    "ExecuteTime": {
     "end_time": "2024-05-08T09:06:45.464344Z",
     "start_time": "2024-05-08T09:06:45.448286Z"
    }
   },
   "cell_type": "code",
   "source": [
    "contingency_table_13 = pd.crosstab(index=AMB_PA['Neoplàsies'], columns=SENSE_PA['Neoplàsies'])  \n",
    " \n",
    "chi2_13, p_value_13, dof_13, expected_13 = chi2_contingency(contingency_table_13)  \n",
    " \n",
    "print(\"Estadístic xi-quadrat entre AMB_PA i SENSE_PA:\", chi2_13)  \n",
    "print(\"P-valor entre AMB_PA i SENSE_PA:\", p_value_13)  \n",
    " \n",
    "if p_value_13 < 0.05:  \n",
    "   print(\"Hi ha diferències significatives entre les distribucions de neoplàsies en AMB_PA i SENSE_PA.\")  \n",
    "else:  \n",
    "   print(\"No hi ha diferències significatives entre les distribucions de neoplàsies en AMB_PA i SENSE_PA.\") "
   ],
   "id": "19de53eaca6faf46",
   "outputs": [
    {
     "name": "stdout",
     "output_type": "stream",
     "text": [
      "Estadístic xi-quadrat entre AMB_PA i SENSE_PA: 0.0\n",
      "P-valor entre AMB_PA i SENSE_PA: 1.0\n",
      "No hi ha diferències significatives entre les distribucions de neoplàsies en AMB_PA i SENSE_PA.\n"
     ]
    }
   ],
   "execution_count": 228
  },
  {
   "metadata": {
    "ExecuteTime": {
     "end_time": "2024-05-08T09:06:45.894455Z",
     "start_time": "2024-05-08T09:06:45.849513Z"
    }
   },
   "cell_type": "code",
   "source": [
    "contingency_table_23 = pd.crosstab(index=AMB_PA_MECVV['Neoplàsies'], columns=SENSE_PA['Neoplàsies'])  \n",
    " \n",
    "chi2_23, p_value_23, dof_23, expected_23 = chi2_contingency(contingency_table_23)  \n",
    " \n",
    "print(\"Estadístic xi-quadrat entre AMB_PA_MECVV i SENSE_PA:\", chi2_23)  \n",
    "print(\"P-valor entre AMB_PA_MECVV i SENSE_PA:\", p_value_23)  \n",
    " \n",
    "if p_value_23 < 0.05:  \n",
    "   print(\"Hi ha diferències significatives entre les distribucions de neoplàsies en AMB_PA_MECVV i SENSE_PA.\")  \n",
    "else:  \n",
    "   print(\"No hi ha diferències significatives entre les distribucions de neoplàsies en AMB_PA_MECVV i SENSE_PA.\") "
   ],
   "id": "d041e42afd281dba",
   "outputs": [
    {
     "ename": "ValueError",
     "evalue": "No data; `observed` has size 0.",
     "output_type": "error",
     "traceback": [
      "\u001B[1;31m---------------------------------------------------------------------------\u001B[0m",
      "\u001B[1;31mValueError\u001B[0m                                Traceback (most recent call last)",
      "Cell \u001B[1;32mIn[229], line 3\u001B[0m\n\u001B[0;32m      1\u001B[0m contingency_table_23 \u001B[38;5;241m=\u001B[39m pd\u001B[38;5;241m.\u001B[39mcrosstab(index\u001B[38;5;241m=\u001B[39mAMB_PA_MECVV[\u001B[38;5;124m'\u001B[39m\u001B[38;5;124mNeoplàsies\u001B[39m\u001B[38;5;124m'\u001B[39m], columns\u001B[38;5;241m=\u001B[39mSENSE_PA[\u001B[38;5;124m'\u001B[39m\u001B[38;5;124mNeoplàsies\u001B[39m\u001B[38;5;124m'\u001B[39m])  \n\u001B[1;32m----> 3\u001B[0m chi2_23, p_value_23, dof_23, expected_23 \u001B[38;5;241m=\u001B[39m \u001B[43mchi2_contingency\u001B[49m\u001B[43m(\u001B[49m\u001B[43mcontingency_table_23\u001B[49m\u001B[43m)\u001B[49m  \n\u001B[0;32m      5\u001B[0m \u001B[38;5;28mprint\u001B[39m(\u001B[38;5;124m\"\u001B[39m\u001B[38;5;124mEstadístic xi-quadrat entre AMB_PA_MECVV i SENSE_PA:\u001B[39m\u001B[38;5;124m\"\u001B[39m, chi2_23)  \n\u001B[0;32m      6\u001B[0m \u001B[38;5;28mprint\u001B[39m(\u001B[38;5;124m\"\u001B[39m\u001B[38;5;124mP-valor entre AMB_PA_MECVV i SENSE_PA:\u001B[39m\u001B[38;5;124m\"\u001B[39m, p_value_23)  \n",
      "File \u001B[1;32m~\\PycharmProjects\\practicum\\.venv\\Lib\\site-packages\\scipy\\stats\\contingency.py:333\u001B[0m, in \u001B[0;36mchi2_contingency\u001B[1;34m(observed, correction, lambda_)\u001B[0m\n\u001B[0;32m    331\u001B[0m     \u001B[38;5;28;01mraise\u001B[39;00m \u001B[38;5;167;01mValueError\u001B[39;00m(\u001B[38;5;124m\"\u001B[39m\u001B[38;5;124mAll values in `observed` must be nonnegative.\u001B[39m\u001B[38;5;124m\"\u001B[39m)\n\u001B[0;32m    332\u001B[0m \u001B[38;5;28;01mif\u001B[39;00m observed\u001B[38;5;241m.\u001B[39msize \u001B[38;5;241m==\u001B[39m \u001B[38;5;241m0\u001B[39m:\n\u001B[1;32m--> 333\u001B[0m     \u001B[38;5;28;01mraise\u001B[39;00m \u001B[38;5;167;01mValueError\u001B[39;00m(\u001B[38;5;124m\"\u001B[39m\u001B[38;5;124mNo data; `observed` has size 0.\u001B[39m\u001B[38;5;124m\"\u001B[39m)\n\u001B[0;32m    335\u001B[0m expected \u001B[38;5;241m=\u001B[39m expected_freq(observed)\n\u001B[0;32m    336\u001B[0m \u001B[38;5;28;01mif\u001B[39;00m np\u001B[38;5;241m.\u001B[39many(expected \u001B[38;5;241m==\u001B[39m \u001B[38;5;241m0\u001B[39m):\n\u001B[0;32m    337\u001B[0m     \u001B[38;5;66;03m# Include one of the positions where expected is zero in\u001B[39;00m\n\u001B[0;32m    338\u001B[0m     \u001B[38;5;66;03m# the exception message.\u001B[39;00m\n",
      "\u001B[1;31mValueError\u001B[0m: No data; `observed` has size 0."
     ]
    }
   ],
   "execution_count": 229
  },
  {
   "metadata": {
    "ExecuteTime": {
     "end_time": "2024-05-08T09:06:46.478623Z",
     "start_time": "2024-05-08T09:06:46.455813Z"
    }
   },
   "cell_type": "code",
   "source": [
    "contingency_table_14 = pd.crosstab(index=AMB_PA['Neoplàsies'], columns=TOTAL['Neoplàsies'])  \n",
    " \n",
    "chi2_14, p_value_14, dof_14, expected_14 = chi2_contingency(contingency_table_14)  \n",
    " \n",
    "print(\"Estadístic xi-quadrat entre AMB_PA i TOTAL:\", chi2_14)  \n",
    "print(\"P-valor entre AMB_PA i TOTAL:\", p_value_14)  \n",
    " \n",
    "if p_value_14 < 0.05:  \n",
    "   print(\"Hi ha diferències significatives entre les distribucions de neoplàsies en AMB_PA i TOTAL.\")  \n",
    "else:  \n",
    "   print(\"No hi ha diferències significatives entre les distribucions de neoplàsies en AMB_PA i TOTAL.\") "
   ],
   "id": "9f979fb1cd463deb",
   "outputs": [
    {
     "name": "stdout",
     "output_type": "stream",
     "text": [
      "Estadístic xi-quadrat entre AMB_PA i TOTAL: 0.0\n",
      "P-valor entre AMB_PA i TOTAL: 1.0\n",
      "No hi ha diferències significatives entre les distribucions de neoplàsies en AMB_PA i TOTAL.\n"
     ]
    }
   ],
   "execution_count": 230
  },
  {
   "metadata": {
    "ExecuteTime": {
     "end_time": "2024-05-08T09:06:47.057236Z",
     "start_time": "2024-05-08T09:06:47.040567Z"
    }
   },
   "cell_type": "code",
   "source": [
    "contingency_table_24 = pd.crosstab(index=AMB_PA_MECVV['Neoplàsies'], columns=TOTAL['Neoplàsies'])  \n",
    " \n",
    "chi2_24, p_value_24, dof_24, expected_24 = chi2_contingency(contingency_table_24)  \n",
    " \n",
    "print(\"Estadístic xi-quadrat entre AMB_PA_MECVV i TOTAL:\", chi2_24)  \n",
    "print(\"P-valor entre AMB_PA_MECVV i TOTAL:\", p_value_24)  \n",
    " \n",
    "if p_value_24 < 0.05:  \n",
    "   print(\"Hi ha diferències significatives entre les distribucions de neoplàsies en AMB_PA_MECVV i TOTAL.\")  \n",
    "else:  \n",
    "   print(\"No hi ha diferències significatives entre les distribucions de neoplàsies en AMB_PA_MECVV i TOTAL.\") "
   ],
   "id": "bbb7ce1b7cce2215",
   "outputs": [
    {
     "name": "stdout",
     "output_type": "stream",
     "text": [
      "Estadístic xi-quadrat entre AMB_PA_MECVV i TOTAL: 0.0\n",
      "P-valor entre AMB_PA_MECVV i TOTAL: 1.0\n",
      "No hi ha diferències significatives entre les distribucions de neoplàsies en AMB_PA_MECVV i TOTAL.\n"
     ]
    }
   ],
   "execution_count": 231
  },
  {
   "metadata": {
    "ExecuteTime": {
     "end_time": "2024-05-08T09:06:47.392760Z",
     "start_time": "2024-05-08T09:06:47.373118Z"
    }
   },
   "cell_type": "code",
   "source": [
    "contingency_table_34 = pd.crosstab(index=SENSE_PA['Neoplàsies'], columns=TOTAL['Neoplàsies'])  \n",
    " \n",
    "chi2_34, p_value_34, dof_34, expected_34 = chi2_contingency(contingency_table_34)  \n",
    " \n",
    "print(\"Estadístic xi-quadrat entre SENSE_PA i TOTAL:\", chi2_34)  \n",
    "print(\"P-valor entre SENSE_PA i TOTAL:\", p_value_34)  \n",
    " \n",
    "if p_value_34 < 0.05:  \n",
    "   print(\"Hi ha diferències significatives entre les distribucions de neoplàsies en SENSE_PA i TOTAL.\")  \n",
    "else:  \n",
    "   print(\"No hi ha diferències significatives entre les distribucions de neoplàsies en SENSE_PA i TOTAL.\") "
   ],
   "id": "28ff989a55478f46",
   "outputs": [
    {
     "name": "stdout",
     "output_type": "stream",
     "text": [
      "Estadístic xi-quadrat entre SENSE_PA i TOTAL: 1.469387755102041\n",
      "P-valor entre SENSE_PA i TOTAL: 0.22544231699450956\n",
      "No hi ha diferències significatives entre les distribucions de neoplàsies en SENSE_PA i TOTAL.\n"
     ]
    }
   ],
   "execution_count": 232
  },
  {
   "metadata": {},
   "cell_type": "markdown",
   "source": [
    "## Malaltia crònica renal (creatinina > 1.5mg/dL)"
   ],
   "id": "be977a70d2e9a7c"
  },
  {
   "metadata": {},
   "cell_type": "markdown",
   "source": [
    "Donat que aquesta columna és de tipus objecte, primer la passaré a tipus numèric per poder operar amb ella"
   ],
   "id": "104b74d04d4f6f25"
  },
  {
   "metadata": {
    "ExecuteTime": {
     "end_time": "2024-05-08T09:06:47.878933Z",
     "start_time": "2024-05-08T09:06:47.867459Z"
    }
   },
   "cell_type": "code",
   "source": [
    "AMB_PA.loc[:, 'Creatinina >1.5 binària'] = pd.to_numeric(AMB_PA['Creatinina >1.5 binària'], errors='coerce')\n",
    "AMB_PA_MECVV.loc[:, 'Creatinina >1.5 binària'] = pd.to_numeric(AMB_PA_MECVV['Creatinina >1.5 binària'], errors='coerce')\n",
    "SENSE_PA.loc[:, 'Creatinina >1.5 binària'] = pd.to_numeric(SENSE_PA['Creatinina >1.5 binària'], errors='coerce')\n",
    "TOTAL.loc[:, 'Creatinina >1.5 binària'] = pd.to_numeric(TOTAL['Creatinina >1.5 binària'], errors='coerce')"
   ],
   "id": "44a54bc94beb324a",
   "outputs": [],
   "execution_count": 233
  },
  {
   "metadata": {
    "ExecuteTime": {
     "end_time": "2024-05-08T09:06:48.174257Z",
     "start_time": "2024-05-08T09:06:48.165437Z"
    }
   },
   "cell_type": "code",
   "source": [
    "ecr_AMB_PA= (AMB_PA['Creatinina >1.5 binària'] == 1.0).mean() * 100\n",
    "print(f\"Percentatge de malaltia crònica renal amb creatinina >1.5: {ecr_AMB_PA:.2f}%\")"
   ],
   "id": "1220b795ea747457",
   "outputs": [
    {
     "name": "stdout",
     "output_type": "stream",
     "text": [
      "Percentatge de malaltia crònica renal amb creatinina >1.5: 0.00%\n"
     ]
    }
   ],
   "execution_count": 234
  },
  {
   "metadata": {
    "ExecuteTime": {
     "end_time": "2024-05-08T09:06:48.679484Z",
     "start_time": "2024-05-08T09:06:48.672930Z"
    }
   },
   "cell_type": "code",
   "source": [
    "ecr_AMB_PA_MECVV= (AMB_PA_MECVV['Creatinina >1.5 binària'] == 1.0).mean() * 100\n",
    "print(f\"Percentatge de malaltia crònica renal amb creatinina >1.5: {ecr_AMB_PA_MECVV:.2f}%\")"
   ],
   "id": "f33ab01070f387e4",
   "outputs": [
    {
     "name": "stdout",
     "output_type": "stream",
     "text": [
      "Percentatge de malaltia crònica renal amb creatinina >1.5: 0.00%\n"
     ]
    }
   ],
   "execution_count": 235
  },
  {
   "metadata": {
    "ExecuteTime": {
     "end_time": "2024-05-08T09:06:49.008755Z",
     "start_time": "2024-05-08T09:06:48.999695Z"
    }
   },
   "cell_type": "code",
   "source": [
    "ecr_SENSE_PA= (SENSE_PA['Creatinina >1.5 binària'] == 1.0).mean() * 100\n",
    "print(f\"Percentatge de malaltia crònica renal amb creatinina >1.5: {ecr_SENSE_PA:.2f}%\")"
   ],
   "id": "f2a96ab467d4fa20",
   "outputs": [
    {
     "name": "stdout",
     "output_type": "stream",
     "text": [
      "Percentatge de malaltia crònica renal amb creatinina >1.5: 0.00%\n"
     ]
    }
   ],
   "execution_count": 236
  },
  {
   "metadata": {
    "ExecuteTime": {
     "end_time": "2024-05-08T09:06:49.413690Z",
     "start_time": "2024-05-08T09:06:49.406369Z"
    }
   },
   "cell_type": "code",
   "source": [
    "ecr_TOTAL= (TOTAL['Creatinina >1.5 binària'] == 1.0).mean() * 100\n",
    "print(f\"Percentatge de malaltia crònica renal amb creatinina >1.5: {ecr_TOTAL:.2f}%\")"
   ],
   "id": "98afd5369362f6dc",
   "outputs": [
    {
     "name": "stdout",
     "output_type": "stream",
     "text": [
      "Percentatge de malaltia crònica renal amb creatinina >1.5: 6.00%\n"
     ]
    }
   ],
   "execution_count": 237
  },
  {
   "metadata": {},
   "cell_type": "markdown",
   "source": "#### Comparació distributiva",
   "id": "9a0ec8b221656a8a"
  },
  {
   "metadata": {},
   "cell_type": "markdown",
   "source": "##### Normalitat i p-valor",
   "id": "d6ffad4c820486ed"
  },
  {
   "metadata": {
    "ExecuteTime": {
     "end_time": "2024-05-08T09:06:49.778987Z",
     "start_time": "2024-05-08T09:06:49.766420Z"
    }
   },
   "cell_type": "code",
   "source": [
    "contingency_table_12 = pd.crosstab(index=AMB_PA['Creatinina >1.5 binària'], columns=AMB_PA_MECVV['Creatinina >1.5 binària'])  \n",
    " \n",
    "chi2_12, p_value_12, dof_12, expected_12 = chi2_contingency(contingency_table_12)  \n",
    " \n",
    "print(\"Estadístic xi-quadrat entre AMB_PA i AMB_PA_MECVV:\", chi2_12)  \n",
    "print(\"P-valor entre AMB_PA i AMB_PA_MECVV:\", p_value_12)  \n",
    " \n",
    "if p_value_12 < 0.05:  \n",
    "   print(\"Hi ha diferències significatives entre les distribucions de malaltia crònica renal amb creatinina >1.5 en AMB_PA i AMB_PA_MECVV.\")  \n",
    "else:  \n",
    "   print(\"No hi ha diferències significatives entre les distribucions de malaltia crònica renal amb creatinina >1.5 en AMB_PA i AMB_PA_MECVV.\") "
   ],
   "id": "cf20863e3c24d450",
   "outputs": [
    {
     "name": "stdout",
     "output_type": "stream",
     "text": [
      "Estadístic xi-quadrat entre AMB_PA i AMB_PA_MECVV: 0.0\n",
      "P-valor entre AMB_PA i AMB_PA_MECVV: 1.0\n",
      "No hi ha diferències significatives entre les distribucions de malaltia crònica renal amb creatinina >1.5 en AMB_PA i AMB_PA_MECVV.\n"
     ]
    }
   ],
   "execution_count": 238
  },
  {
   "metadata": {
    "ExecuteTime": {
     "end_time": "2024-05-08T09:06:50.293161Z",
     "start_time": "2024-05-08T09:06:50.278693Z"
    }
   },
   "cell_type": "code",
   "source": [
    "contingency_table_13 = pd.crosstab(index=AMB_PA['Creatinina >1.5 binària'], columns=SENSE_PA['Creatinina >1.5 binària'])  \n",
    " \n",
    "chi2_13, p_value_13, dof_13, expected_13 = chi2_contingency(contingency_table_13)  \n",
    " \n",
    "print(\"Estadístic xi-quadrat entre AMB_PA i SENSE_PA:\", chi2_13)  \n",
    "print(\"P-valor entre AMB_PA i SENSE_PA:\", p_value_13)  \n",
    " \n",
    "if p_value_13 < 0.05:  \n",
    "   print(\"Hi ha diferències significatives entre les distribucions de  malaltia crònica renal amb creatinina >1.5 en AMB_PA i SENSE_PA.\")  \n",
    "else:  \n",
    "   print(\"No hi ha diferències significatives entre les distribucions de  malaltia crònica renal amb creatinina >1.5 en AMB_PA i SENSE_PA.\") "
   ],
   "id": "17e378b6adaccd52",
   "outputs": [
    {
     "name": "stdout",
     "output_type": "stream",
     "text": [
      "Estadístic xi-quadrat entre AMB_PA i SENSE_PA: 0.0\n",
      "P-valor entre AMB_PA i SENSE_PA: 1.0\n",
      "No hi ha diferències significatives entre les distribucions de  malaltia crònica renal amb creatinina >1.5 en AMB_PA i SENSE_PA.\n"
     ]
    }
   ],
   "execution_count": 239
  },
  {
   "metadata": {
    "ExecuteTime": {
     "end_time": "2024-05-08T09:06:50.618769Z",
     "start_time": "2024-05-08T09:06:50.577815Z"
    }
   },
   "cell_type": "code",
   "source": [
    "contingency_table_23 = pd.crosstab(index=AMB_PA_MECVV['Creatinina >1.5 binària'], columns=SENSE_PA['Creatinina >1.5 binària'])  \n",
    " \n",
    "chi2_23, p_value_23, dof_23, expected_23 = chi2_contingency(contingency_table_23)  \n",
    " \n",
    "print(\"Estadístic xi-quadrat entre AMB_PA_MECCV i SENSE_PA:\", chi2_23)  \n",
    "print(\"P-valor entre AMB_PA_MECVV i SENSE_PA:\", p_value_23)  \n",
    " \n",
    "if p_value_23 < 0.05:  \n",
    "   print(\"Hi ha diferències significatives entre les distribucions de malaltia crònica renal amb creatinina >1.5 en AMB_PA_MECVV i SENSE_PA.\")  \n",
    "else:  \n",
    "   print(\"No hi ha diferències significatives entre les distribucions de malaltia crònica renal amb creatinina >1.5 en AMB_PA_MECVV i SENSE_PA.\") "
   ],
   "id": "4d738444b5cc0416",
   "outputs": [
    {
     "ename": "ValueError",
     "evalue": "No data; `observed` has size 0.",
     "output_type": "error",
     "traceback": [
      "\u001B[1;31m---------------------------------------------------------------------------\u001B[0m",
      "\u001B[1;31mValueError\u001B[0m                                Traceback (most recent call last)",
      "Cell \u001B[1;32mIn[240], line 3\u001B[0m\n\u001B[0;32m      1\u001B[0m contingency_table_23 \u001B[38;5;241m=\u001B[39m pd\u001B[38;5;241m.\u001B[39mcrosstab(index\u001B[38;5;241m=\u001B[39mAMB_PA_MECVV[\u001B[38;5;124m'\u001B[39m\u001B[38;5;124mCreatinina >1.5 binària\u001B[39m\u001B[38;5;124m'\u001B[39m], columns\u001B[38;5;241m=\u001B[39mSENSE_PA[\u001B[38;5;124m'\u001B[39m\u001B[38;5;124mCreatinina >1.5 binària\u001B[39m\u001B[38;5;124m'\u001B[39m])  \n\u001B[1;32m----> 3\u001B[0m chi2_23, p_value_23, dof_23, expected_23 \u001B[38;5;241m=\u001B[39m \u001B[43mchi2_contingency\u001B[49m\u001B[43m(\u001B[49m\u001B[43mcontingency_table_23\u001B[49m\u001B[43m)\u001B[49m  \n\u001B[0;32m      5\u001B[0m \u001B[38;5;28mprint\u001B[39m(\u001B[38;5;124m\"\u001B[39m\u001B[38;5;124mEstadístic xi-quadrat entre AMB_PA_MECCV i SENSE_PA:\u001B[39m\u001B[38;5;124m\"\u001B[39m, chi2_23)  \n\u001B[0;32m      6\u001B[0m \u001B[38;5;28mprint\u001B[39m(\u001B[38;5;124m\"\u001B[39m\u001B[38;5;124mP-valor entre AMB_PA_MECVV i SENSE_PA:\u001B[39m\u001B[38;5;124m\"\u001B[39m, p_value_23)  \n",
      "File \u001B[1;32m~\\PycharmProjects\\practicum\\.venv\\Lib\\site-packages\\scipy\\stats\\contingency.py:333\u001B[0m, in \u001B[0;36mchi2_contingency\u001B[1;34m(observed, correction, lambda_)\u001B[0m\n\u001B[0;32m    331\u001B[0m     \u001B[38;5;28;01mraise\u001B[39;00m \u001B[38;5;167;01mValueError\u001B[39;00m(\u001B[38;5;124m\"\u001B[39m\u001B[38;5;124mAll values in `observed` must be nonnegative.\u001B[39m\u001B[38;5;124m\"\u001B[39m)\n\u001B[0;32m    332\u001B[0m \u001B[38;5;28;01mif\u001B[39;00m observed\u001B[38;5;241m.\u001B[39msize \u001B[38;5;241m==\u001B[39m \u001B[38;5;241m0\u001B[39m:\n\u001B[1;32m--> 333\u001B[0m     \u001B[38;5;28;01mraise\u001B[39;00m \u001B[38;5;167;01mValueError\u001B[39;00m(\u001B[38;5;124m\"\u001B[39m\u001B[38;5;124mNo data; `observed` has size 0.\u001B[39m\u001B[38;5;124m\"\u001B[39m)\n\u001B[0;32m    335\u001B[0m expected \u001B[38;5;241m=\u001B[39m expected_freq(observed)\n\u001B[0;32m    336\u001B[0m \u001B[38;5;28;01mif\u001B[39;00m np\u001B[38;5;241m.\u001B[39many(expected \u001B[38;5;241m==\u001B[39m \u001B[38;5;241m0\u001B[39m):\n\u001B[0;32m    337\u001B[0m     \u001B[38;5;66;03m# Include one of the positions where expected is zero in\u001B[39;00m\n\u001B[0;32m    338\u001B[0m     \u001B[38;5;66;03m# the exception message.\u001B[39;00m\n",
      "\u001B[1;31mValueError\u001B[0m: No data; `observed` has size 0."
     ]
    }
   ],
   "execution_count": 240
  },
  {
   "metadata": {
    "ExecuteTime": {
     "end_time": "2024-05-08T09:06:51.084130Z",
     "start_time": "2024-05-08T09:06:51.067166Z"
    }
   },
   "cell_type": "code",
   "source": [
    "contingency_table_14 = pd.crosstab(index=AMB_PA['Creatinina >1.5 binària'], columns=TOTAL['Creatinina >1.5 binària'])  \n",
    " \n",
    "chi2_14, p_value_14, dof_14, expected_14 = chi2_contingency(contingency_table_14)  \n",
    " \n",
    "print(\"Estadístic xi-quadrat entre AMB_PA i TOTAL:\", chi2_14)  \n",
    "print(\"P-valor entre AMB_PA i TOTAL:\", p_value_14)  \n",
    " \n",
    "if p_value_14 < 0.05:  \n",
    "   print(\"Hi ha diferències significatives entre les distribucions de malaltia crònica renal amb creatinina >1.5 en AMB_PA i TOTAL.\")  \n",
    "else:  \n",
    "   print(\"No hi ha diferències significatives entre les distribucions de malaltia crònica renal amb creatinina >1.5 en AMB_PA i TOTAL.\") "
   ],
   "id": "826b3ac7289682f9",
   "outputs": [
    {
     "name": "stdout",
     "output_type": "stream",
     "text": [
      "Estadístic xi-quadrat entre AMB_PA i TOTAL: 0.0\n",
      "P-valor entre AMB_PA i TOTAL: 1.0\n",
      "No hi ha diferències significatives entre les distribucions de malaltia crònica renal amb creatinina >1.5 en AMB_PA i TOTAL.\n"
     ]
    }
   ],
   "execution_count": 241
  },
  {
   "metadata": {
    "ExecuteTime": {
     "end_time": "2024-05-08T09:06:51.528907Z",
     "start_time": "2024-05-08T09:06:51.515067Z"
    }
   },
   "cell_type": "code",
   "source": [
    "contingency_table_24 = pd.crosstab(index=AMB_PA_MECVV['Creatinina >1.5 binària'], columns=TOTAL['Creatinina >1.5 binària'])  \n",
    " \n",
    "chi2_24, p_value_24, dof_24, expected_24 = chi2_contingency(contingency_table_24)  \n",
    " \n",
    "print(\"Estadístic xi-quadrat entre AMB_PA_MECVV i TOTAL:\", chi2_24)  \n",
    "print(\"P-valor entre AMB_PA_MECVV i TOTAL:\", p_value_24)  \n",
    " \n",
    "if p_value_24 < 0.05:  \n",
    "   print(\"Hi ha diferències significatives entre les distribucions de malaltia crònica renal amb creatinina >1.5 en AMB_PA_MECVV i TOTAL.\")  \n",
    "else:  \n",
    "   print(\"No hi ha diferències significatives entre les distribucions de malaltia crònica renal amb creatinina >1.5 en AMB_PA_MECVV i TOTAL.\") "
   ],
   "id": "ec0b9cbd0e17e156",
   "outputs": [
    {
     "name": "stdout",
     "output_type": "stream",
     "text": [
      "Estadístic xi-quadrat entre AMB_PA_MECVV i TOTAL: 0.0\n",
      "P-valor entre AMB_PA_MECVV i TOTAL: 1.0\n",
      "No hi ha diferències significatives entre les distribucions de malaltia crònica renal amb creatinina >1.5 en AMB_PA_MECVV i TOTAL.\n"
     ]
    }
   ],
   "execution_count": 242
  },
  {
   "metadata": {
    "ExecuteTime": {
     "end_time": "2024-05-08T09:06:52.230691Z",
     "start_time": "2024-05-08T09:06:52.216784Z"
    }
   },
   "cell_type": "code",
   "source": [
    "contingency_table_34 = pd.crosstab(index=SENSE_PA['Creatinina >1.5 binària'], columns=TOTAL['Creatinina >1.5 binària'])  \n",
    " \n",
    "chi2_34, p_value_34, dof_34, expected_34 = chi2_contingency(contingency_table_34)  \n",
    " \n",
    "print(\"Estadístic xi-quadrat entre SENSE_PA i TOTAL:\", chi2_34)  \n",
    "print(\"P-valor entre SENSE_PA i TOTAL:\", p_value_34)  \n",
    " \n",
    "if p_value_34 < 0.05:  \n",
    "   print(\"Hi ha diferències significatives entre les distribucions de malaltia crònica renal amb creatinina >1.5 en SENSE_PA i TOTAL.\")  \n",
    "else:  \n",
    "   print(\"No hi ha diferències significatives entre les distribucions de malaltia crònica renal amb creatinina >1.5 en SENSE_PA i TOTAL.\") "
   ],
   "id": "64e093026447a7ec",
   "outputs": [
    {
     "name": "stdout",
     "output_type": "stream",
     "text": [
      "Estadístic xi-quadrat entre SENSE_PA i TOTAL: 0.0\n",
      "P-valor entre SENSE_PA i TOTAL: 1.0\n",
      "No hi ha diferències significatives entre les distribucions de malaltia crònica renal amb creatinina >1.5 en SENSE_PA i TOTAL.\n"
     ]
    }
   ],
   "execution_count": 243
  },
  {
   "metadata": {},
   "cell_type": "markdown",
   "source": [
    "## Fallida renal aguda (o insuficiència renal aguda)"
   ],
   "id": "2a45b7c462b693cc"
  },
  {
   "metadata": {
    "ExecuteTime": {
     "end_time": "2024-05-08T09:06:52.593387Z",
     "start_time": "2024-05-08T09:06:52.587618Z"
    }
   },
   "cell_type": "code",
   "source": [
    "ira_AMB_PA= (AMB_PA['ARF'] == 1.0).mean() * 100\n",
    "print(f\"Percentatge de fallida renal aguda: {ira_AMB_PA:.2f}%\")"
   ],
   "id": "bf4cb3020f4ab65",
   "outputs": [
    {
     "name": "stdout",
     "output_type": "stream",
     "text": [
      "Percentatge de fallida renal aguda: 23.53%\n"
     ]
    }
   ],
   "execution_count": 244
  },
  {
   "metadata": {
    "ExecuteTime": {
     "end_time": "2024-05-08T09:06:53.172422Z",
     "start_time": "2024-05-08T09:06:53.166869Z"
    }
   },
   "cell_type": "code",
   "source": [
    "ira_AMB_PA_MECVV= (AMB_PA_MECVV['ARF'] == 1.0).mean() * 100\n",
    "print(f\"Percentatge de fallida renal aguda: {ira_AMB_PA_MECVV:.2f}%\")"
   ],
   "id": "694f049952ae8d4f",
   "outputs": [
    {
     "name": "stdout",
     "output_type": "stream",
     "text": [
      "Percentatge de fallida renal aguda: 50.00%\n"
     ]
    }
   ],
   "execution_count": 245
  },
  {
   "metadata": {
    "ExecuteTime": {
     "end_time": "2024-05-08T09:06:53.741237Z",
     "start_time": "2024-05-08T09:06:53.731676Z"
    }
   },
   "cell_type": "code",
   "source": [
    "ira_SENSE_PA= (SENSE_PA['ARF'] == 1.0).mean() * 100\n",
    "print(f\"Percentatge de fallida renal aguda: {ira_SENSE_PA:.2f}%\")"
   ],
   "id": "d9da03942f97e9ff",
   "outputs": [
    {
     "name": "stdout",
     "output_type": "stream",
     "text": [
      "Percentatge de fallida renal aguda: 50.00%\n"
     ]
    }
   ],
   "execution_count": 246
  },
  {
   "metadata": {
    "ExecuteTime": {
     "end_time": "2024-05-08T09:06:54.033274Z",
     "start_time": "2024-05-08T09:06:54.025635Z"
    }
   },
   "cell_type": "code",
   "source": [
    "ira_TOTAL= (TOTAL['ARF'] == 1.0).mean() * 100\n",
    "print(f\"Percentatge de fallida renal aguda: {ira_TOTAL:.2f}%\")"
   ],
   "id": "e4ad78c38ddcf404",
   "outputs": [
    {
     "name": "stdout",
     "output_type": "stream",
     "text": [
      "Percentatge de fallida renal aguda: 26.00%\n"
     ]
    }
   ],
   "execution_count": 247
  },
  {
   "metadata": {},
   "cell_type": "markdown",
   "source": "#### Comparació distributiva",
   "id": "fa90e43bd79a9017"
  },
  {
   "metadata": {},
   "cell_type": "markdown",
   "source": "##### Normalitat i p-valor ",
   "id": "ab080f83d40e2433"
  },
  {
   "metadata": {
    "ExecuteTime": {
     "end_time": "2024-05-08T09:06:54.502237Z",
     "start_time": "2024-05-08T09:06:54.486041Z"
    }
   },
   "cell_type": "code",
   "source": [
    "contingency_table_12 = pd.crosstab(index=AMB_PA['ARF'], columns=AMB_PA_MECVV['ARF'])  \n",
    " \n",
    "chi2_12, p_value_12, dof_12, expected_12 = chi2_contingency(contingency_table_12)  \n",
    " \n",
    "print(\"Estadístic xi-quadrat entre AMB_PA i AMB_PA_MECVV:\", chi2_12)  \n",
    "print(\"P-valor entre AMB_PA i AMB_PA_MECVV:\", p_value_12)  \n",
    " \n",
    "if p_value_12 < 0.05:  \n",
    "   print(\"Hi ha diferències significatives entre les distribucions de fallida renal aguda en AMB_PA i AMB_PA_MECVV.\")  \n",
    "else:  \n",
    "   print(\"No hi ha diferències significatives entre les distribucions de fallida renal aguda en AMB_PA i AMB_PA_MECVV.\") "
   ],
   "id": "a11f6f5322e507d3",
   "outputs": [
    {
     "name": "stdout",
     "output_type": "stream",
     "text": [
      "Estadístic xi-quadrat entre AMB_PA i AMB_PA_MECVV: 2.6666666666666665\n",
      "P-valor entre AMB_PA i AMB_PA_MECVV: 0.10247043485974942\n",
      "No hi ha diferències significatives entre les distribucions de fallida renal aguda en AMB_PA i AMB_PA_MECVV.\n"
     ]
    }
   ],
   "execution_count": 248
  },
  {
   "metadata": {
    "ExecuteTime": {
     "end_time": "2024-05-08T09:06:54.868871Z",
     "start_time": "2024-05-08T09:06:54.853966Z"
    }
   },
   "cell_type": "code",
   "source": [
    "contingency_table_13 = pd.crosstab(index=AMB_PA['ARF'], columns=SENSE_PA['ARF'])  \n",
    " \n",
    "chi2_13, p_value_13, dof_13, expected_13 = chi2_contingency(contingency_table_13)  \n",
    " \n",
    "print(\"Estadístic xi-quadrat entre AMB_PA i SENSE_PA:\", chi2_13)  \n",
    "print(\"P-valor entre AMB_PA i SENSE_PA:\", p_value_13)  \n",
    " \n",
    "if p_value_13 < 0.05:  \n",
    "   print(\"Hi ha diferències significatives entre les distribucions de fallida renal aguda en AMB_PA i SENSE_PA.\")  \n",
    "else:  \n",
    "   print(\"No hi ha diferències significatives entre les distribucions de fallida renal aguda en AMB_PA i SENSE_PA.\") "
   ],
   "id": "9a5bbf6808c79243",
   "outputs": [
    {
     "name": "stdout",
     "output_type": "stream",
     "text": [
      "Estadístic xi-quadrat entre AMB_PA i SENSE_PA: 0.0\n",
      "P-valor entre AMB_PA i SENSE_PA: 1.0\n",
      "No hi ha diferències significatives entre les distribucions de fallida renal aguda en AMB_PA i SENSE_PA.\n"
     ]
    }
   ],
   "execution_count": 249
  },
  {
   "metadata": {
    "ExecuteTime": {
     "end_time": "2024-05-08T09:06:55.364084Z",
     "start_time": "2024-05-08T09:06:55.323806Z"
    }
   },
   "cell_type": "code",
   "source": [
    "contingency_table_23 = pd.crosstab(index=AMB_PA_MECVV['ARF'], columns=SENSE_PA['ARF'])  \n",
    " \n",
    "chi2_23, p_value_23, dof_23, expected_23 = chi2_contingency(contingency_table_23)  \n",
    " \n",
    "print(\"Estadístic xi-quadrat entre AMB_PA_MECCV i SENSE_PA:\", chi2_23)  \n",
    "print(\"P-valor entre AMB_PA_MECVV i SENSE_PA:\", p_value_23)  \n",
    " \n",
    "if p_value_23 < 0.05:  \n",
    "   print(\"Hi ha diferències significatives entre les distribucions de fallida renal aguda en AMB_PA_MECVV i SENSE_PA.\")  \n",
    "else:  \n",
    "   print(\"No hi ha diferències significatives entre les distribucions de fallida renal aguda en AMB_PA_MECVV i SENSE_PA.\") "
   ],
   "id": "3825dfecd1188df7",
   "outputs": [
    {
     "ename": "ValueError",
     "evalue": "No data; `observed` has size 0.",
     "output_type": "error",
     "traceback": [
      "\u001B[1;31m---------------------------------------------------------------------------\u001B[0m",
      "\u001B[1;31mValueError\u001B[0m                                Traceback (most recent call last)",
      "Cell \u001B[1;32mIn[250], line 3\u001B[0m\n\u001B[0;32m      1\u001B[0m contingency_table_23 \u001B[38;5;241m=\u001B[39m pd\u001B[38;5;241m.\u001B[39mcrosstab(index\u001B[38;5;241m=\u001B[39mAMB_PA_MECVV[\u001B[38;5;124m'\u001B[39m\u001B[38;5;124mARF\u001B[39m\u001B[38;5;124m'\u001B[39m], columns\u001B[38;5;241m=\u001B[39mSENSE_PA[\u001B[38;5;124m'\u001B[39m\u001B[38;5;124mARF\u001B[39m\u001B[38;5;124m'\u001B[39m])  \n\u001B[1;32m----> 3\u001B[0m chi2_23, p_value_23, dof_23, expected_23 \u001B[38;5;241m=\u001B[39m \u001B[43mchi2_contingency\u001B[49m\u001B[43m(\u001B[49m\u001B[43mcontingency_table_23\u001B[49m\u001B[43m)\u001B[49m  \n\u001B[0;32m      5\u001B[0m \u001B[38;5;28mprint\u001B[39m(\u001B[38;5;124m\"\u001B[39m\u001B[38;5;124mEstadístic xi-quadrat entre AMB_PA_MECCV i SENSE_PA:\u001B[39m\u001B[38;5;124m\"\u001B[39m, chi2_23)  \n\u001B[0;32m      6\u001B[0m \u001B[38;5;28mprint\u001B[39m(\u001B[38;5;124m\"\u001B[39m\u001B[38;5;124mP-valor entre AMB_PA_MECVV i SENSE_PA:\u001B[39m\u001B[38;5;124m\"\u001B[39m, p_value_23)  \n",
      "File \u001B[1;32m~\\PycharmProjects\\practicum\\.venv\\Lib\\site-packages\\scipy\\stats\\contingency.py:333\u001B[0m, in \u001B[0;36mchi2_contingency\u001B[1;34m(observed, correction, lambda_)\u001B[0m\n\u001B[0;32m    331\u001B[0m     \u001B[38;5;28;01mraise\u001B[39;00m \u001B[38;5;167;01mValueError\u001B[39;00m(\u001B[38;5;124m\"\u001B[39m\u001B[38;5;124mAll values in `observed` must be nonnegative.\u001B[39m\u001B[38;5;124m\"\u001B[39m)\n\u001B[0;32m    332\u001B[0m \u001B[38;5;28;01mif\u001B[39;00m observed\u001B[38;5;241m.\u001B[39msize \u001B[38;5;241m==\u001B[39m \u001B[38;5;241m0\u001B[39m:\n\u001B[1;32m--> 333\u001B[0m     \u001B[38;5;28;01mraise\u001B[39;00m \u001B[38;5;167;01mValueError\u001B[39;00m(\u001B[38;5;124m\"\u001B[39m\u001B[38;5;124mNo data; `observed` has size 0.\u001B[39m\u001B[38;5;124m\"\u001B[39m)\n\u001B[0;32m    335\u001B[0m expected \u001B[38;5;241m=\u001B[39m expected_freq(observed)\n\u001B[0;32m    336\u001B[0m \u001B[38;5;28;01mif\u001B[39;00m np\u001B[38;5;241m.\u001B[39many(expected \u001B[38;5;241m==\u001B[39m \u001B[38;5;241m0\u001B[39m):\n\u001B[0;32m    337\u001B[0m     \u001B[38;5;66;03m# Include one of the positions where expected is zero in\u001B[39;00m\n\u001B[0;32m    338\u001B[0m     \u001B[38;5;66;03m# the exception message.\u001B[39;00m\n",
      "\u001B[1;31mValueError\u001B[0m: No data; `observed` has size 0."
     ]
    }
   ],
   "execution_count": 250
  },
  {
   "metadata": {
    "ExecuteTime": {
     "end_time": "2024-05-08T09:06:55.727069Z",
     "start_time": "2024-05-08T09:06:55.706916Z"
    }
   },
   "cell_type": "code",
   "source": [
    "contingency_table_14 = pd.crosstab(index=AMB_PA['ARF'], columns=TOTAL['ARF'])  \n",
    " \n",
    "chi2_14, p_value_14, dof_14, expected_14 = chi2_contingency(contingency_table_14)  \n",
    " \n",
    "print(\"Estadístic xi-quadrat entre AMB_PA i TOTAL:\", chi2_14)  \n",
    "print(\"P-valor entre AMB_PA i TOTAL:\", p_value_14)  \n",
    " \n",
    "if p_value_14 < 0.05:  \n",
    "   print(\"Hi ha diferències significatives entre les distribucions de fallida renal aguda en AMB_PA i TOTAL.\")  \n",
    "else:  \n",
    "   print(\"No hi ha diferències significatives entre les distribucions de fallida renal aguda en AMB_PA i TOTAL.\") "
   ],
   "id": "c5d63fe9d047d63a",
   "outputs": [
    {
     "name": "stdout",
     "output_type": "stream",
     "text": [
      "Estadístic xi-quadrat entre AMB_PA i TOTAL: 11.89654215976331\n",
      "P-valor entre AMB_PA i TOTAL: 0.0005623824703676534\n",
      "Hi ha diferències significatives entre les distribucions de fallida renal aguda en AMB_PA i TOTAL.\n"
     ]
    }
   ],
   "execution_count": 251
  },
  {
   "metadata": {
    "ExecuteTime": {
     "end_time": "2024-05-08T09:06:56.230193Z",
     "start_time": "2024-05-08T09:06:56.209526Z"
    }
   },
   "cell_type": "code",
   "source": [
    "contingency_table_24 = pd.crosstab(index=AMB_PA_MECVV['ARF'], columns=TOTAL['ARF'])  \n",
    " \n",
    "chi2_24, p_value_24, dof_24, expected_24 = chi2_contingency(contingency_table_24)  \n",
    " \n",
    "print(\"Estadístic xi-quadrat entre AMB_PA_MECVV i TOTAL:\", chi2_24)  \n",
    "print(\"P-valor entre AMB_PA_MECVV i TOTAL:\", p_value_24)  \n",
    " \n",
    "if p_value_24 < 0.05:  \n",
    "   print(\"Hi ha diferències significatives entre les distribucions de fallida renal aguda en AMB_PA_MECVV i TOTAL.\")  \n",
    "else:  \n",
    "   print(\"No hi ha diferències significatives entre les distribucions de fallida renal aguda en AMB_PA_MECVV i TOTAL.\") "
   ],
   "id": "940040aacb4b023d",
   "outputs": [
    {
     "name": "stdout",
     "output_type": "stream",
     "text": [
      "Estadístic xi-quadrat entre AMB_PA_MECVV i TOTAL: 4.5\n",
      "P-valor entre AMB_PA_MECVV i TOTAL: 0.033894853524689295\n",
      "Hi ha diferències significatives entre les distribucions de fallida renal aguda en AMB_PA_MECVV i TOTAL.\n"
     ]
    }
   ],
   "execution_count": 252
  },
  {
   "metadata": {
    "ExecuteTime": {
     "end_time": "2024-05-08T09:06:56.714507Z",
     "start_time": "2024-05-08T09:06:56.694932Z"
    }
   },
   "cell_type": "code",
   "source": [
    "contingency_table_34 = pd.crosstab(index=SENSE_PA['ARF'], columns=TOTAL['ARF'])  \n",
    " \n",
    "chi2_34, p_value_34, dof_34, expected_34 = chi2_contingency(contingency_table_34)  \n",
    " \n",
    "print(\"Estadístic xi-quadrat entre SENSE_PA i TOTAL:\", chi2_34)  \n",
    "print(\"P-valor entre SENSE_PA i TOTAL:\", p_value_34)  \n",
    " \n",
    "if p_value_34 < 0.05:  \n",
    "   print(\"Hi ha diferències significatives entre les distribucions de fallida renal aguda en SENSE_PA i TOTAL.\")  \n",
    "else:  \n",
    "   print(\"No hi ha diferències significatives entre les distribucions de fallida renal aguda en SENSE_PA i TOTAL.\") "
   ],
   "id": "1cdcabe3e99dc525",
   "outputs": [
    {
     "name": "stdout",
     "output_type": "stream",
     "text": [
      "Estadístic xi-quadrat entre SENSE_PA i TOTAL: 4.5\n",
      "P-valor entre SENSE_PA i TOTAL: 0.033894853524689295\n",
      "Hi ha diferències significatives entre les distribucions de fallida renal aguda en SENSE_PA i TOTAL.\n"
     ]
    }
   ],
   "execution_count": 253
  },
  {
   "metadata": {},
   "cell_type": "markdown",
   "source": [
    "## Marejos/síncope/lipotímia/reacció vasovagal"
   ],
   "id": "b569dbe66e8fcbe9"
  },
  {
   "metadata": {
    "ExecuteTime": {
     "end_time": "2024-05-08T09:06:57.043469Z",
     "start_time": "2024-05-08T09:06:57.038539Z"
    }
   },
   "cell_type": "code",
   "source": [
    "dizsyn_AMB_PA= (AMB_PA['Marejos'] == 1.0).mean() * 100\n",
    "print(f\"Percentatge de marejos/síncope/lipotímia/reacció vasovagal: {dizsyn_AMB_PA:.2f}%\")"
   ],
   "id": "50900335d331ab2",
   "outputs": [
    {
     "name": "stdout",
     "output_type": "stream",
     "text": [
      "Percentatge de marejos/síncope/lipotímia/reacció vasovagal: 0.00%\n"
     ]
    }
   ],
   "execution_count": 254
  },
  {
   "metadata": {
    "ExecuteTime": {
     "end_time": "2024-05-08T09:06:57.541656Z",
     "start_time": "2024-05-08T09:06:57.534009Z"
    }
   },
   "cell_type": "code",
   "source": [
    "dizsyn_AMB_PA_MECVV= (AMB_PA_MECVV['Marejos'] == 1.0).mean() * 100\n",
    "print(f\"Percentatge de marejos/síncope/lipotímia/reacció vasovagal: {dizsyn_AMB_PA_MECVV:.2f}%\")"
   ],
   "id": "9dc25d01f5293c9c",
   "outputs": [
    {
     "name": "stdout",
     "output_type": "stream",
     "text": [
      "Percentatge de marejos/síncope/lipotímia/reacció vasovagal: 0.00%\n"
     ]
    }
   ],
   "execution_count": 255
  },
  {
   "metadata": {
    "ExecuteTime": {
     "end_time": "2024-05-08T09:06:57.899988Z",
     "start_time": "2024-05-08T09:06:57.885142Z"
    }
   },
   "cell_type": "code",
   "source": [
    "dizsyn_SENSE_PA= (SENSE_PA['Marejos'] == 1.0).mean() * 100\n",
    "print(f\"Percentatge de marejos/síncope/lipotímia/reacció vasovagal: {dizsyn_SENSE_PA:.2f}%\")"
   ],
   "id": "6b9c3e73228189d5",
   "outputs": [
    {
     "name": "stdout",
     "output_type": "stream",
     "text": [
      "Percentatge de marejos/síncope/lipotímia/reacció vasovagal: 0.00%\n"
     ]
    }
   ],
   "execution_count": 256
  },
  {
   "metadata": {
    "ExecuteTime": {
     "end_time": "2024-05-08T09:06:58.474929Z",
     "start_time": "2024-05-08T09:06:58.469275Z"
    }
   },
   "cell_type": "code",
   "source": [
    "dizsyn_TOTAL= (TOTAL['Marejos'] == 1.0).mean() * 100\n",
    "print(f\"Percentatge de marejos/síncope/lipotímia/reacció vasovagal: {dizsyn_TOTAL:.2f}%\")"
   ],
   "id": "95bb31977f1b9832",
   "outputs": [
    {
     "name": "stdout",
     "output_type": "stream",
     "text": [
      "Percentatge de marejos/síncope/lipotímia/reacció vasovagal: 2.00%\n"
     ]
    }
   ],
   "execution_count": 257
  },
  {
   "metadata": {},
   "cell_type": "markdown",
   "source": "#### Comparació distributiva",
   "id": "c2ea9a79012bd56"
  },
  {
   "metadata": {},
   "cell_type": "markdown",
   "source": "##### Normalitat i p-valor",
   "id": "fd33a284918ec484"
  },
  {
   "metadata": {
    "ExecuteTime": {
     "end_time": "2024-05-08T09:06:59.027122Z",
     "start_time": "2024-05-08T09:06:59.010542Z"
    }
   },
   "cell_type": "code",
   "source": [
    "contingency_table_12 = pd.crosstab(index=AMB_PA['Marejos'], columns=AMB_PA_MECVV['Marejos'])  \n",
    " \n",
    "chi2_12, p_value_12, dof_12, expected_12 = chi2_contingency(contingency_table_12)  \n",
    " \n",
    "print(\"Estadístic xi-quadrat entre AMB_PA i AMB_PA_MECVV:\", chi2_12)  \n",
    "print(\"P-valor entre AMB_PA i AMB_PA_MECVV:\", p_value_12)  \n",
    " \n",
    "if p_value_12 < 0.05:  \n",
    "   print(\"Hi ha diferències significatives entre les distribucions de marejos/síncope/lipotímia/reacció vasovagal en AMB_PA i AMB_PA_MECVV.\")  \n",
    "else:  \n",
    "   print(\"No hi ha diferències significatives entre les distribucions de marejos/síncope/lipotímia/reacció vasovagal en AMB_PA i AMB_PA_MECVV.\") "
   ],
   "id": "4426d7b16a9b9291",
   "outputs": [
    {
     "name": "stdout",
     "output_type": "stream",
     "text": [
      "Estadístic xi-quadrat entre AMB_PA i AMB_PA_MECVV: 0.0\n",
      "P-valor entre AMB_PA i AMB_PA_MECVV: 1.0\n",
      "No hi ha diferències significatives entre les distribucions de marejos/síncope/lipotímia/reacció vasovagal en AMB_PA i AMB_PA_MECVV.\n"
     ]
    }
   ],
   "execution_count": 258
  },
  {
   "metadata": {
    "ExecuteTime": {
     "end_time": "2024-05-08T09:06:59.589294Z",
     "start_time": "2024-05-08T09:06:59.574201Z"
    }
   },
   "cell_type": "code",
   "source": [
    "contingency_table_13 = pd.crosstab(index=AMB_PA['Marejos'], columns=SENSE_PA['Marejos'])  \n",
    " \n",
    "chi2_13, p_value_13, dof_13, expected_13 = chi2_contingency(contingency_table_13)  \n",
    " \n",
    "print(\"Estadístic xi-quadrat entre AMB_PA i SENSE_PA:\", chi2_13)  \n",
    "print(\"P-valor entre AMB_PA i SENSE_PA:\", p_value_13)  \n",
    " \n",
    "if p_value_13 < 0.05:  \n",
    "   print(\"Hi ha diferències significatives entre les distribucions de marejos/síncope/lipotímia/reacció vasovagal en AMB_PA i SENSE_PA.\")  \n",
    "else:  \n",
    "   print(\"No hi ha diferències significatives entre les distribucions de marejos/síncope/lipotímia/reacció vasovagal en AMB_PA i SENSE_PA.\") "
   ],
   "id": "84eb59ba6043afcb",
   "outputs": [
    {
     "name": "stdout",
     "output_type": "stream",
     "text": [
      "Estadístic xi-quadrat entre AMB_PA i SENSE_PA: 0.0\n",
      "P-valor entre AMB_PA i SENSE_PA: 1.0\n",
      "No hi ha diferències significatives entre les distribucions de marejos/síncope/lipotímia/reacció vasovagal en AMB_PA i SENSE_PA.\n"
     ]
    }
   ],
   "execution_count": 259
  },
  {
   "metadata": {
    "ExecuteTime": {
     "end_time": "2024-05-08T09:06:59.995452Z",
     "start_time": "2024-05-08T09:06:59.956683Z"
    }
   },
   "cell_type": "code",
   "source": [
    "contingency_table_23 = pd.crosstab(index=AMB_PA_MECVV['Marejos'], columns=SENSE_PA['Marejos'])\n",
    " \n",
    "chi2_23, p_value_23, dof_23, expected_23 = chi2_contingency(contingency_table_23)  \n",
    " \n",
    "print(\"Estadístic xi-quadrat entre AMB_PA_MECCV i SENSE_PA:\", chi2_23)  \n",
    "print(\"P-valor entre AMB_PA_MECVV i SENSE_PA:\", p_value_23)  \n",
    " \n",
    "if p_value_23 < 0.05:  \n",
    "   print(\"Hi ha diferències significatives entre les distribucions de marejos/síncope/lipotímia/reacció vasovagal en AMB_PA_MECVV i SENSE_PA.\")  \n",
    "else:  \n",
    "   print(\"No hi ha diferències significatives entre les distribucions de marejos/síncope/lipotímia/reacció vasovagal en AMB_PA_MECVV i SENSE_PA.\") "
   ],
   "id": "8f94410e3226384d",
   "outputs": [
    {
     "ename": "ValueError",
     "evalue": "No data; `observed` has size 0.",
     "output_type": "error",
     "traceback": [
      "\u001B[1;31m---------------------------------------------------------------------------\u001B[0m",
      "\u001B[1;31mValueError\u001B[0m                                Traceback (most recent call last)",
      "Cell \u001B[1;32mIn[260], line 3\u001B[0m\n\u001B[0;32m      1\u001B[0m contingency_table_23 \u001B[38;5;241m=\u001B[39m pd\u001B[38;5;241m.\u001B[39mcrosstab(index\u001B[38;5;241m=\u001B[39mAMB_PA_MECVV[\u001B[38;5;124m'\u001B[39m\u001B[38;5;124mMarejos\u001B[39m\u001B[38;5;124m'\u001B[39m], columns\u001B[38;5;241m=\u001B[39mSENSE_PA[\u001B[38;5;124m'\u001B[39m\u001B[38;5;124mMarejos\u001B[39m\u001B[38;5;124m'\u001B[39m])\n\u001B[1;32m----> 3\u001B[0m chi2_23, p_value_23, dof_23, expected_23 \u001B[38;5;241m=\u001B[39m \u001B[43mchi2_contingency\u001B[49m\u001B[43m(\u001B[49m\u001B[43mcontingency_table_23\u001B[49m\u001B[43m)\u001B[49m  \n\u001B[0;32m      5\u001B[0m \u001B[38;5;28mprint\u001B[39m(\u001B[38;5;124m\"\u001B[39m\u001B[38;5;124mEstadístic xi-quadrat entre AMB_PA_MECCV i SENSE_PA:\u001B[39m\u001B[38;5;124m\"\u001B[39m, chi2_23)  \n\u001B[0;32m      6\u001B[0m \u001B[38;5;28mprint\u001B[39m(\u001B[38;5;124m\"\u001B[39m\u001B[38;5;124mP-valor entre AMB_PA_MECVV i SENSE_PA:\u001B[39m\u001B[38;5;124m\"\u001B[39m, p_value_23)  \n",
      "File \u001B[1;32m~\\PycharmProjects\\practicum\\.venv\\Lib\\site-packages\\scipy\\stats\\contingency.py:333\u001B[0m, in \u001B[0;36mchi2_contingency\u001B[1;34m(observed, correction, lambda_)\u001B[0m\n\u001B[0;32m    331\u001B[0m     \u001B[38;5;28;01mraise\u001B[39;00m \u001B[38;5;167;01mValueError\u001B[39;00m(\u001B[38;5;124m\"\u001B[39m\u001B[38;5;124mAll values in `observed` must be nonnegative.\u001B[39m\u001B[38;5;124m\"\u001B[39m)\n\u001B[0;32m    332\u001B[0m \u001B[38;5;28;01mif\u001B[39;00m observed\u001B[38;5;241m.\u001B[39msize \u001B[38;5;241m==\u001B[39m \u001B[38;5;241m0\u001B[39m:\n\u001B[1;32m--> 333\u001B[0m     \u001B[38;5;28;01mraise\u001B[39;00m \u001B[38;5;167;01mValueError\u001B[39;00m(\u001B[38;5;124m\"\u001B[39m\u001B[38;5;124mNo data; `observed` has size 0.\u001B[39m\u001B[38;5;124m\"\u001B[39m)\n\u001B[0;32m    335\u001B[0m expected \u001B[38;5;241m=\u001B[39m expected_freq(observed)\n\u001B[0;32m    336\u001B[0m \u001B[38;5;28;01mif\u001B[39;00m np\u001B[38;5;241m.\u001B[39many(expected \u001B[38;5;241m==\u001B[39m \u001B[38;5;241m0\u001B[39m):\n\u001B[0;32m    337\u001B[0m     \u001B[38;5;66;03m# Include one of the positions where expected is zero in\u001B[39;00m\n\u001B[0;32m    338\u001B[0m     \u001B[38;5;66;03m# the exception message.\u001B[39;00m\n",
      "\u001B[1;31mValueError\u001B[0m: No data; `observed` has size 0."
     ]
    }
   ],
   "execution_count": 260
  },
  {
   "metadata": {
    "ExecuteTime": {
     "end_time": "2024-05-08T09:07:00.466640Z",
     "start_time": "2024-05-08T09:07:00.448335Z"
    }
   },
   "cell_type": "code",
   "source": [
    "contingency_table_14 = pd.crosstab(index=AMB_PA['Marejos'], columns=TOTAL['Marejos'])  \n",
    " \n",
    "chi2_14, p_value_14, dof_14, expected_14 = chi2_contingency(contingency_table_14)  \n",
    " \n",
    "print(\"Estadístic xi-quadrat entre AMB_PA i TOTAL:\", chi2_14)  \n",
    "print(\"P-valor entre AMB_PA i TOTAL:\", p_value_14)  \n",
    " \n",
    "if p_value_14 < 0.05:  \n",
    "   print(\"Hi ha diferències significatives entre les distribucions de marejos/síncope/lipotímia/reacció en AMB_PA i TOTAL.\")  \n",
    "else:  \n",
    "   print(\"No hi ha diferències significatives entre les distribucions de marejos/síncope/lipotímia/reacció en AMB_PA i TOTAL.\") "
   ],
   "id": "21fb731ddaed6609",
   "outputs": [
    {
     "name": "stdout",
     "output_type": "stream",
     "text": [
      "Estadístic xi-quadrat entre AMB_PA i TOTAL: 0.0\n",
      "P-valor entre AMB_PA i TOTAL: 1.0\n",
      "No hi ha diferències significatives entre les distribucions de marejos/síncope/lipotímia/reacció en AMB_PA i TOTAL.\n"
     ]
    }
   ],
   "execution_count": 261
  },
  {
   "metadata": {
    "ExecuteTime": {
     "end_time": "2024-05-08T09:07:00.874067Z",
     "start_time": "2024-05-08T09:07:00.855892Z"
    }
   },
   "cell_type": "code",
   "source": [
    "contingency_table_24 = pd.crosstab(index=AMB_PA_MECVV['Marejos'], columns=TOTAL['Marejos'])  \n",
    " \n",
    "chi2_24, p_value_24, dof_24, expected_24 = chi2_contingency(contingency_table_24)  \n",
    " \n",
    "print(\"Estadístic xi-quadrat entre AMB_PA_MECVV i TOTAL:\", chi2_24)  \n",
    "print(\"P-valor entre AMB_PA_MECVV i TOTAL:\", p_value_24)  \n",
    " \n",
    "if p_value_24 < 0.05:  \n",
    "   print(\"Hi ha diferències significatives entre les distribucions de marejos/síncope/lipotímia/reacció en AMB_PA_MECVV i TOTAL.\")  \n",
    "else:  \n",
    "   print(\"No hi ha diferències significatives entre les distribucions de marejos/síncope/lipotímia/reacció en AMB_PA_MECVV i TOTAL.\") "
   ],
   "id": "80f36550bcb94533",
   "outputs": [
    {
     "name": "stdout",
     "output_type": "stream",
     "text": [
      "Estadístic xi-quadrat entre AMB_PA_MECVV i TOTAL: 0.0\n",
      "P-valor entre AMB_PA_MECVV i TOTAL: 1.0\n",
      "No hi ha diferències significatives entre les distribucions de marejos/síncope/lipotímia/reacció en AMB_PA_MECVV i TOTAL.\n"
     ]
    }
   ],
   "execution_count": 262
  },
  {
   "metadata": {
    "ExecuteTime": {
     "end_time": "2024-05-08T09:07:01.461095Z",
     "start_time": "2024-05-08T09:07:01.445309Z"
    }
   },
   "cell_type": "code",
   "source": [
    "contingency_table_34 = pd.crosstab(index=SENSE_PA['Marejos'], columns=TOTAL['Marejos'])  \n",
    " \n",
    "chi2_34, p_value_34, dof_34, expected_34 = chi2_contingency(contingency_table_34)  \n",
    " \n",
    "print(\"Estadístic xi-quadrat entre SENSE_PA i TOTAL:\", chi2_34)  \n",
    "print(\"P-valor entre SENSE_PA i TOTAL:\", p_value_34)  \n",
    " \n",
    "if p_value_34 < 0.05:  \n",
    "   print(\"Hi ha diferències significatives entre les distribucions de marejos/síncope/lipotímia/reacció en SENSE_PA i TOTAL.\")  \n",
    "else:  \n",
    "   print(\"No hi ha diferències significatives entre les distribucions de marejos/síncope/lipotímia/reacció en SENSE_PA i TOTAL.\") "
   ],
   "id": "3b9c5bc589eeffde",
   "outputs": [
    {
     "name": "stdout",
     "output_type": "stream",
     "text": [
      "Estadístic xi-quadrat entre SENSE_PA i TOTAL: 0.0\n",
      "P-valor entre SENSE_PA i TOTAL: 1.0\n",
      "No hi ha diferències significatives entre les distribucions de marejos/síncope/lipotímia/reacció en SENSE_PA i TOTAL.\n"
     ]
    }
   ],
   "execution_count": 263
  },
  {
   "metadata": {},
   "cell_type": "markdown",
   "source": [
    "## VIH"
   ],
   "id": "3e66ec61ceed6da8"
  },
  {
   "metadata": {
    "ExecuteTime": {
     "end_time": "2024-05-08T09:07:01.769985Z",
     "start_time": "2024-05-08T09:07:01.762055Z"
    }
   },
   "cell_type": "code",
   "source": [
    "vih_AMB_PA= (AMB_PA['VIH'] == 1.0).mean() * 100\n",
    "print(f\"Percentatge de VIH: {vih_AMB_PA:.2f}%\")"
   ],
   "id": "6a922f8a8c8ce111",
   "outputs": [
    {
     "name": "stdout",
     "output_type": "stream",
     "text": [
      "Percentatge de VIH: 0.00%\n"
     ]
    }
   ],
   "execution_count": 264
  },
  {
   "metadata": {
    "ExecuteTime": {
     "end_time": "2024-05-08T09:07:02.281116Z",
     "start_time": "2024-05-08T09:07:02.272107Z"
    }
   },
   "cell_type": "code",
   "source": [
    "vih_AMB_PA_MECVV= (AMB_PA_MECVV['VIH'] == 1.0).mean() * 100\n",
    "print(f\"Percentatge de VIH: {vih_AMB_PA_MECVV:.2f}%\")"
   ],
   "id": "aed182bc8140a8b3",
   "outputs": [
    {
     "name": "stdout",
     "output_type": "stream",
     "text": [
      "Percentatge de VIH: 0.00%\n"
     ]
    }
   ],
   "execution_count": 265
  },
  {
   "metadata": {
    "ExecuteTime": {
     "end_time": "2024-05-08T09:07:02.626584Z",
     "start_time": "2024-05-08T09:07:02.616665Z"
    }
   },
   "cell_type": "code",
   "source": [
    "vih_SENSE_PA= (SENSE_PA['VIH'] == 1.0).mean() * 100\n",
    "print(f\"Percentatge de VIH: {vih_SENSE_PA:.2f}%\")"
   ],
   "id": "aa406ac4d4a53dc9",
   "outputs": [
    {
     "name": "stdout",
     "output_type": "stream",
     "text": [
      "Percentatge de VIH: 0.00%\n"
     ]
    }
   ],
   "execution_count": 266
  },
  {
   "metadata": {
    "ExecuteTime": {
     "end_time": "2024-05-08T09:07:03.044203Z",
     "start_time": "2024-05-08T09:07:03.036588Z"
    }
   },
   "cell_type": "code",
   "source": [
    "vih_TOTAL= (TOTAL['VIH'] == 1.0).mean() * 100\n",
    "print(f\"Percentatge de VIH: {vih_TOTAL:.2f}%\")"
   ],
   "id": "b5bfe29bfa169155",
   "outputs": [
    {
     "name": "stdout",
     "output_type": "stream",
     "text": [
      "Percentatge de VIH: 0.00%\n"
     ]
    }
   ],
   "execution_count": 267
  },
  {
   "metadata": {},
   "cell_type": "markdown",
   "source": "#### Comparació distributiva",
   "id": "803ff9173540722b"
  },
  {
   "metadata": {},
   "cell_type": "markdown",
   "source": "##### Normalitat i p-valor",
   "id": "b4620b0bb5bfa7f1"
  },
  {
   "metadata": {
    "ExecuteTime": {
     "end_time": "2024-05-08T09:07:03.396531Z",
     "start_time": "2024-05-08T09:07:03.382455Z"
    }
   },
   "cell_type": "code",
   "source": [
    "contingency_table_12 = pd.crosstab(index=AMB_PA['VIH'], columns=AMB_PA_MECVV['VIH'])  \n",
    " \n",
    "chi2_12, p_value_12, dof_12, expected_12 = chi2_contingency(contingency_table_12)  \n",
    " \n",
    "print(\"Estadístic xi-quadrat entre AMB_PA i AMB_PA_MECVV:\", chi2_12)  \n",
    "print(\"P-valor entre AMB_PA i AMB_PA_MECVV:\", p_value_12)  \n",
    " \n",
    "if p_value_12 < 0.05:  \n",
    "   print(\"Hi ha diferències significatives entre les distribucions de VIH en AMB_PA i AMB_PA_MECVV.\")  \n",
    "else:  \n",
    "   print(\"No hi ha diferències significatives entre les distribucions de VIH en AMB_PA i AMB_PA_MECVV.\") "
   ],
   "id": "ee8189c633ccd0bb",
   "outputs": [
    {
     "name": "stdout",
     "output_type": "stream",
     "text": [
      "Estadístic xi-quadrat entre AMB_PA i AMB_PA_MECVV: 0.0\n",
      "P-valor entre AMB_PA i AMB_PA_MECVV: 1.0\n",
      "No hi ha diferències significatives entre les distribucions de VIH en AMB_PA i AMB_PA_MECVV.\n"
     ]
    }
   ],
   "execution_count": 268
  },
  {
   "metadata": {
    "ExecuteTime": {
     "end_time": "2024-05-08T09:07:03.887541Z",
     "start_time": "2024-05-08T09:07:03.873873Z"
    }
   },
   "cell_type": "code",
   "source": [
    "contingency_table_13 = pd.crosstab(index=AMB_PA['VIH'], columns=SENSE_PA['VIH'])  \n",
    " \n",
    "chi2_13, p_value_13, dof_13, expected_13 = chi2_contingency(contingency_table_13)  \n",
    " \n",
    "print(\"Estadístic xi-quadrat entre AMB_PA i SENSE_PA:\", chi2_13)  \n",
    "print(\"P-valor entre AMB_PA i SENSE_PA:\", p_value_13)  \n",
    " \n",
    "if p_value_13 < 0.05:  \n",
    "   print(\"Hi ha diferències significatives entre les distribucions de VIH en AMB_PA i SENSE_PA.\")  \n",
    "else:  \n",
    "   print(\"No hi ha diferències significatives entre les distribucions de VIH en AMB_PA i SENSE_PA.\")"
   ],
   "id": "ba89921208864d5f",
   "outputs": [
    {
     "name": "stdout",
     "output_type": "stream",
     "text": [
      "Estadístic xi-quadrat entre AMB_PA i SENSE_PA: 0.0\n",
      "P-valor entre AMB_PA i SENSE_PA: 1.0\n",
      "No hi ha diferències significatives entre les distribucions de VIH en AMB_PA i SENSE_PA.\n"
     ]
    }
   ],
   "execution_count": 269
  },
  {
   "metadata": {
    "ExecuteTime": {
     "end_time": "2024-05-08T09:07:04.264775Z",
     "start_time": "2024-05-08T09:07:04.222865Z"
    }
   },
   "cell_type": "code",
   "source": [
    "contingency_table_23 = pd.crosstab(index=AMB_PA_MECVV['VIH'], columns=SENSE_PA['VIH'])  \n",
    " \n",
    "chi2_23, p_value_23, dof_23, expected_23 = chi2_contingency(contingency_table_23)  \n",
    " \n",
    "print(\"Estadístic xi-quadrat entre AMB_PA_MECCV i SENSE_PA:\", chi2_23)  \n",
    "print(\"P-valor entre AMB_PA_MECVV i SENSE_PA:\", p_value_23)  \n",
    " \n",
    "if p_value_23 < 0.05:  \n",
    "   print(\"Hi ha diferències significatives entre les distribucions de VIH en AMB_PA_MECVV i SENSE_PA.\")  \n",
    "else:  \n",
    "   print(\"No hi ha diferències significatives entre les distribucions de VIH en AMB_PA_MECVV i SENSE_PA.\") "
   ],
   "id": "6bcc985f8b1b99e7",
   "outputs": [
    {
     "ename": "ValueError",
     "evalue": "No data; `observed` has size 0.",
     "output_type": "error",
     "traceback": [
      "\u001B[1;31m---------------------------------------------------------------------------\u001B[0m",
      "\u001B[1;31mValueError\u001B[0m                                Traceback (most recent call last)",
      "Cell \u001B[1;32mIn[270], line 3\u001B[0m\n\u001B[0;32m      1\u001B[0m contingency_table_23 \u001B[38;5;241m=\u001B[39m pd\u001B[38;5;241m.\u001B[39mcrosstab(index\u001B[38;5;241m=\u001B[39mAMB_PA_MECVV[\u001B[38;5;124m'\u001B[39m\u001B[38;5;124mVIH\u001B[39m\u001B[38;5;124m'\u001B[39m], columns\u001B[38;5;241m=\u001B[39mSENSE_PA[\u001B[38;5;124m'\u001B[39m\u001B[38;5;124mVIH\u001B[39m\u001B[38;5;124m'\u001B[39m])  \n\u001B[1;32m----> 3\u001B[0m chi2_23, p_value_23, dof_23, expected_23 \u001B[38;5;241m=\u001B[39m \u001B[43mchi2_contingency\u001B[49m\u001B[43m(\u001B[49m\u001B[43mcontingency_table_23\u001B[49m\u001B[43m)\u001B[49m  \n\u001B[0;32m      5\u001B[0m \u001B[38;5;28mprint\u001B[39m(\u001B[38;5;124m\"\u001B[39m\u001B[38;5;124mEstadístic xi-quadrat entre AMB_PA_MECCV i SENSE_PA:\u001B[39m\u001B[38;5;124m\"\u001B[39m, chi2_23)  \n\u001B[0;32m      6\u001B[0m \u001B[38;5;28mprint\u001B[39m(\u001B[38;5;124m\"\u001B[39m\u001B[38;5;124mP-valor entre AMB_PA_MECVV i SENSE_PA:\u001B[39m\u001B[38;5;124m\"\u001B[39m, p_value_23)  \n",
      "File \u001B[1;32m~\\PycharmProjects\\practicum\\.venv\\Lib\\site-packages\\scipy\\stats\\contingency.py:333\u001B[0m, in \u001B[0;36mchi2_contingency\u001B[1;34m(observed, correction, lambda_)\u001B[0m\n\u001B[0;32m    331\u001B[0m     \u001B[38;5;28;01mraise\u001B[39;00m \u001B[38;5;167;01mValueError\u001B[39;00m(\u001B[38;5;124m\"\u001B[39m\u001B[38;5;124mAll values in `observed` must be nonnegative.\u001B[39m\u001B[38;5;124m\"\u001B[39m)\n\u001B[0;32m    332\u001B[0m \u001B[38;5;28;01mif\u001B[39;00m observed\u001B[38;5;241m.\u001B[39msize \u001B[38;5;241m==\u001B[39m \u001B[38;5;241m0\u001B[39m:\n\u001B[1;32m--> 333\u001B[0m     \u001B[38;5;28;01mraise\u001B[39;00m \u001B[38;5;167;01mValueError\u001B[39;00m(\u001B[38;5;124m\"\u001B[39m\u001B[38;5;124mNo data; `observed` has size 0.\u001B[39m\u001B[38;5;124m\"\u001B[39m)\n\u001B[0;32m    335\u001B[0m expected \u001B[38;5;241m=\u001B[39m expected_freq(observed)\n\u001B[0;32m    336\u001B[0m \u001B[38;5;28;01mif\u001B[39;00m np\u001B[38;5;241m.\u001B[39many(expected \u001B[38;5;241m==\u001B[39m \u001B[38;5;241m0\u001B[39m):\n\u001B[0;32m    337\u001B[0m     \u001B[38;5;66;03m# Include one of the positions where expected is zero in\u001B[39;00m\n\u001B[0;32m    338\u001B[0m     \u001B[38;5;66;03m# the exception message.\u001B[39;00m\n",
      "\u001B[1;31mValueError\u001B[0m: No data; `observed` has size 0."
     ]
    }
   ],
   "execution_count": 270
  },
  {
   "metadata": {
    "ExecuteTime": {
     "end_time": "2024-05-08T09:07:04.797677Z",
     "start_time": "2024-05-08T09:07:04.784010Z"
    }
   },
   "cell_type": "code",
   "source": [
    "contingency_table_14 = pd.crosstab(index=AMB_PA['VIH'], columns=TOTAL['VIH'])  \n",
    " \n",
    "chi2_14, p_value_14, dof_14, expected_14 = chi2_contingency(contingency_table_14)  \n",
    " \n",
    "print(\"Estadístic xi-quadrat entre AMB_PA i TOTAL:\", chi2_14)  \n",
    "print(\"P-valor entre AMB_PA i TOTAL:\", p_value_14)  \n",
    " \n",
    "if p_value_14 < 0.05:  \n",
    "   print(\"Hi ha diferències significatives entre les distribucions de VIH en AMB_PA i TOTAL.\")  \n",
    "else:  \n",
    "   print(\"No hi ha diferències significatives entre les distribucions de VIH en AMB_PA i TOTAL.\") "
   ],
   "id": "bcaaf8be05d657f9",
   "outputs": [
    {
     "name": "stdout",
     "output_type": "stream",
     "text": [
      "Estadístic xi-quadrat entre AMB_PA i TOTAL: 0.0\n",
      "P-valor entre AMB_PA i TOTAL: 1.0\n",
      "No hi ha diferències significatives entre les distribucions de VIH en AMB_PA i TOTAL.\n"
     ]
    }
   ],
   "execution_count": 271
  },
  {
   "metadata": {
    "ExecuteTime": {
     "end_time": "2024-05-08T09:07:05.320950Z",
     "start_time": "2024-05-08T09:07:05.296682Z"
    }
   },
   "cell_type": "code",
   "source": [
    "contingency_table_24 = pd.crosstab(index=AMB_PA_MECVV['VIH'], columns=TOTAL['VIH'])  \n",
    " \n",
    "chi2_24, p_value_24, dof_24, expected_24 = chi2_contingency(contingency_table_24)  \n",
    " \n",
    "print(\"Estadístic xi-quadrat entre AMB_PA_MECVV i TOTAL:\", chi2_24)  \n",
    "print(\"P-valor entre AMB_PA_MECVV i TOTAL:\", p_value_24)  \n",
    " \n",
    "if p_value_24 < 0.05:  \n",
    "   print(\"Hi ha diferències significatives entre les distribucions de VIH en AMB_PA_MECVV i TOTAL.\")  \n",
    "else:  \n",
    "   print(\"No hi ha diferències significatives entre les distribucions de VIH en AMB_PA_MECVV i TOTAL.\") "
   ],
   "id": "4a6e3c66573585cd",
   "outputs": [
    {
     "name": "stdout",
     "output_type": "stream",
     "text": [
      "Estadístic xi-quadrat entre AMB_PA_MECVV i TOTAL: 0.0\n",
      "P-valor entre AMB_PA_MECVV i TOTAL: 1.0\n",
      "No hi ha diferències significatives entre les distribucions de VIH en AMB_PA_MECVV i TOTAL.\n"
     ]
    }
   ],
   "execution_count": 272
  },
  {
   "metadata": {
    "ExecuteTime": {
     "end_time": "2024-05-08T09:07:05.836805Z",
     "start_time": "2024-05-08T09:07:05.818735Z"
    }
   },
   "cell_type": "code",
   "source": [
    "contingency_table_34 = pd.crosstab(index=SENSE_PA['VIH'], columns=TOTAL['VIH'])  \n",
    " \n",
    "chi2_34, p_value_34, dof_34, expected_34 = chi2_contingency(contingency_table_34)  \n",
    " \n",
    "print(\"Estadístic xi-quadrat entre SENSE_PA i TOTAL:\", chi2_34)  \n",
    "print(\"P-valor entre SENSE_PA i TOTAL:\", p_value_34)  \n",
    " \n",
    "if p_value_34 < 0.05:  \n",
    "   print(\"Hi ha diferències significatives entre les distribucions de VIH en SENSE_PA i TOTAL.\")  \n",
    "else:  \n",
    "   print(\"No hi ha diferències significatives entre les distribucions de VIH en SENSE_PA i TOTAL.\") "
   ],
   "id": "44466ae091025bfa",
   "outputs": [
    {
     "name": "stdout",
     "output_type": "stream",
     "text": [
      "Estadístic xi-quadrat entre SENSE_PA i TOTAL: 0.0\n",
      "P-valor entre SENSE_PA i TOTAL: 1.0\n",
      "No hi ha diferències significatives entre les distribucions de VIH en SENSE_PA i TOTAL.\n"
     ]
    }
   ],
   "execution_count": 273
  },
  {
   "metadata": {},
   "cell_type": "markdown",
   "source": [
    "## Psicosi"
   ],
   "id": "8e295a7fd16fa508"
  },
  {
   "metadata": {
    "ExecuteTime": {
     "end_time": "2024-05-08T09:07:06.161937Z",
     "start_time": "2024-05-08T09:07:06.153005Z"
    }
   },
   "cell_type": "code",
   "source": [
    "psi_AMB_PA= (AMB_PA['Psicosi'] == 1.0).mean() * 100\n",
    "print(f\"Percentatge de psicosi: {vih_AMB_PA:.2f}%\")"
   ],
   "id": "c159ff1483bdafb0",
   "outputs": [
    {
     "name": "stdout",
     "output_type": "stream",
     "text": [
      "Percentatge de psicosi: 0.00%\n"
     ]
    }
   ],
   "execution_count": 274
  },
  {
   "metadata": {
    "ExecuteTime": {
     "end_time": "2024-05-08T09:07:06.645292Z",
     "start_time": "2024-05-08T09:07:06.637064Z"
    }
   },
   "cell_type": "code",
   "source": [
    "psi_AMB_PA_MECVV= (AMB_PA_MECVV['Psicosi'] == 1.0).mean() * 100\n",
    "print(f\"Percentatge de psicosi: {psi_AMB_PA_MECVV:.2f}%\")"
   ],
   "id": "88916ff77b5a3557",
   "outputs": [
    {
     "name": "stdout",
     "output_type": "stream",
     "text": [
      "Percentatge de psicosi: 0.00%\n"
     ]
    }
   ],
   "execution_count": 275
  },
  {
   "metadata": {
    "ExecuteTime": {
     "end_time": "2024-05-08T09:07:06.932547Z",
     "start_time": "2024-05-08T09:07:06.924173Z"
    }
   },
   "cell_type": "code",
   "source": [
    "psi_SENSE_PA= (SENSE_PA['Psicosi'] == 1.0).mean() * 100\n",
    "print(f\"Percentatge de psicosi: {psi_SENSE_PA:.2f}%\")"
   ],
   "id": "7ce0057ef942886",
   "outputs": [
    {
     "name": "stdout",
     "output_type": "stream",
     "text": [
      "Percentatge de psicosi: 0.00%\n"
     ]
    }
   ],
   "execution_count": 276
  },
  {
   "metadata": {
    "ExecuteTime": {
     "end_time": "2024-05-08T09:07:07.433112Z",
     "start_time": "2024-05-08T09:07:07.426183Z"
    }
   },
   "cell_type": "code",
   "source": [
    "psi_TOTAL= (TOTAL['Psicosi'] == 1.0).mean() * 100\n",
    "print(f\"Percentatge de psicosi: {psi_TOTAL:.2f}%\")"
   ],
   "id": "deb7ee11b57593e0",
   "outputs": [
    {
     "name": "stdout",
     "output_type": "stream",
     "text": [
      "Percentatge de psicosi: 0.00%\n"
     ]
    }
   ],
   "execution_count": 277
  },
  {
   "metadata": {},
   "cell_type": "markdown",
   "source": "#### Comparació distributiva ",
   "id": "f7e56f1eaa4a1121"
  },
  {
   "metadata": {},
   "cell_type": "markdown",
   "source": "##### Normalitat i p-valor",
   "id": "d5743908cae5ebcb"
  },
  {
   "metadata": {
    "ExecuteTime": {
     "end_time": "2024-05-08T09:07:07.807941Z",
     "start_time": "2024-05-08T09:07:07.789637Z"
    }
   },
   "cell_type": "code",
   "source": [
    "contingency_table_12 = pd.crosstab(index=AMB_PA['Psicosi'], columns=AMB_PA_MECVV['Psicosi'])  \n",
    " \n",
    "chi2_12, p_value_12, dof_12, expected_12 = chi2_contingency(contingency_table_12)  \n",
    " \n",
    "print(\"Estadístic xi-quadrat entre AMB_PA i AMB_PA_MECVV:\", chi2_12)  \n",
    "print(\"P-valor entre AMB_PA i AMB_PA_MECVV:\", p_value_12)  \n",
    " \n",
    "if p_value_12 < 0.05:  \n",
    "   print(\"Hi ha diferències significatives entre les distribucions de psicosi en AMB_PA i AMB_PA_MECVV.\")  \n",
    "else:  \n",
    "   print(\"No hi ha diferències significatives entre les distribucions de psicosi en AMB_PA i AMB_PA_MECVV.\") "
   ],
   "id": "442c95770e6ba861",
   "outputs": [
    {
     "name": "stdout",
     "output_type": "stream",
     "text": [
      "Estadístic xi-quadrat entre AMB_PA i AMB_PA_MECVV: 0.0\n",
      "P-valor entre AMB_PA i AMB_PA_MECVV: 1.0\n",
      "No hi ha diferències significatives entre les distribucions de psicosi en AMB_PA i AMB_PA_MECVV.\n"
     ]
    }
   ],
   "execution_count": 278
  },
  {
   "metadata": {
    "ExecuteTime": {
     "end_time": "2024-05-08T09:07:08.260607Z",
     "start_time": "2024-05-08T09:07:08.242476Z"
    }
   },
   "cell_type": "code",
   "source": [
    "contingency_table_13 = pd.crosstab(index=AMB_PA['Psicosi'], columns=SENSE_PA['Psicosi'])  \n",
    " \n",
    "chi2_13, p_value_13, dof_13, expected_13 = chi2_contingency(contingency_table_13)  \n",
    " \n",
    "print(\"Estadístic xi-quadrat entre AMB_PA i SENSE_PA:\", chi2_13)  \n",
    "print(\"P-valor entre AMB_PA i SENSE_PA:\", p_value_13)  \n",
    " \n",
    "if p_value_13 < 0.05:  \n",
    "   print(\"Hi ha diferències significatives entre les distribucions de psicosi en AMB_PA i SENSE_PA.\")  \n",
    "else:  \n",
    "   print(\"No hi ha diferències significatives entre les distribucions de psicosi en AMB_PA i SENSE_PA.\") "
   ],
   "id": "f0792113c35b5010",
   "outputs": [
    {
     "name": "stdout",
     "output_type": "stream",
     "text": [
      "Estadístic xi-quadrat entre AMB_PA i SENSE_PA: 0.0\n",
      "P-valor entre AMB_PA i SENSE_PA: 1.0\n",
      "No hi ha diferències significatives entre les distribucions de psicosi en AMB_PA i SENSE_PA.\n"
     ]
    }
   ],
   "execution_count": 279
  },
  {
   "metadata": {
    "ExecuteTime": {
     "end_time": "2024-05-08T09:07:08.632517Z",
     "start_time": "2024-05-08T09:07:08.587212Z"
    }
   },
   "cell_type": "code",
   "source": [
    "contingency_table_23 = pd.crosstab(index=AMB_PA_MECVV['Psicosi'], columns=SENSE_PA['Psicosi'])  \n",
    " \n",
    "chi2_23, p_value_23, dof_23, expected_23 = chi2_contingency(contingency_table_23)  \n",
    " \n",
    "print(\"Estadístic xi-quadrat entre AMB_PA_MECCV i SENSE_PA:\", chi2_23)  \n",
    "print(\"P-valor entre AMB_PA_MECVV i SENSE_PA:\", p_value_23)  \n",
    " \n",
    "if p_value_23 < 0.05:  \n",
    "   print(\"Hi ha diferències significatives entre les distribucions de psicosi en AMB_PA_MECVV i SENSE_PA.\")  \n",
    "else:  \n",
    "   print(\"No hi ha diferències significatives entre les distribucions de psicosi en AMB_PA_MECVV i SENSE_PA.\") "
   ],
   "id": "9b79bbe3afa56094",
   "outputs": [
    {
     "ename": "ValueError",
     "evalue": "No data; `observed` has size 0.",
     "output_type": "error",
     "traceback": [
      "\u001B[1;31m---------------------------------------------------------------------------\u001B[0m",
      "\u001B[1;31mValueError\u001B[0m                                Traceback (most recent call last)",
      "Cell \u001B[1;32mIn[280], line 3\u001B[0m\n\u001B[0;32m      1\u001B[0m contingency_table_23 \u001B[38;5;241m=\u001B[39m pd\u001B[38;5;241m.\u001B[39mcrosstab(index\u001B[38;5;241m=\u001B[39mAMB_PA_MECVV[\u001B[38;5;124m'\u001B[39m\u001B[38;5;124mPsicosi\u001B[39m\u001B[38;5;124m'\u001B[39m], columns\u001B[38;5;241m=\u001B[39mSENSE_PA[\u001B[38;5;124m'\u001B[39m\u001B[38;5;124mPsicosi\u001B[39m\u001B[38;5;124m'\u001B[39m])  \n\u001B[1;32m----> 3\u001B[0m chi2_23, p_value_23, dof_23, expected_23 \u001B[38;5;241m=\u001B[39m \u001B[43mchi2_contingency\u001B[49m\u001B[43m(\u001B[49m\u001B[43mcontingency_table_23\u001B[49m\u001B[43m)\u001B[49m  \n\u001B[0;32m      5\u001B[0m \u001B[38;5;28mprint\u001B[39m(\u001B[38;5;124m\"\u001B[39m\u001B[38;5;124mEstadístic xi-quadrat entre AMB_PA_MECCV i SENSE_PA:\u001B[39m\u001B[38;5;124m\"\u001B[39m, chi2_23)  \n\u001B[0;32m      6\u001B[0m \u001B[38;5;28mprint\u001B[39m(\u001B[38;5;124m\"\u001B[39m\u001B[38;5;124mP-valor entre AMB_PA_MECVV i SENSE_PA:\u001B[39m\u001B[38;5;124m\"\u001B[39m, p_value_23)  \n",
      "File \u001B[1;32m~\\PycharmProjects\\practicum\\.venv\\Lib\\site-packages\\scipy\\stats\\contingency.py:333\u001B[0m, in \u001B[0;36mchi2_contingency\u001B[1;34m(observed, correction, lambda_)\u001B[0m\n\u001B[0;32m    331\u001B[0m     \u001B[38;5;28;01mraise\u001B[39;00m \u001B[38;5;167;01mValueError\u001B[39;00m(\u001B[38;5;124m\"\u001B[39m\u001B[38;5;124mAll values in `observed` must be nonnegative.\u001B[39m\u001B[38;5;124m\"\u001B[39m)\n\u001B[0;32m    332\u001B[0m \u001B[38;5;28;01mif\u001B[39;00m observed\u001B[38;5;241m.\u001B[39msize \u001B[38;5;241m==\u001B[39m \u001B[38;5;241m0\u001B[39m:\n\u001B[1;32m--> 333\u001B[0m     \u001B[38;5;28;01mraise\u001B[39;00m \u001B[38;5;167;01mValueError\u001B[39;00m(\u001B[38;5;124m\"\u001B[39m\u001B[38;5;124mNo data; `observed` has size 0.\u001B[39m\u001B[38;5;124m\"\u001B[39m)\n\u001B[0;32m    335\u001B[0m expected \u001B[38;5;241m=\u001B[39m expected_freq(observed)\n\u001B[0;32m    336\u001B[0m \u001B[38;5;28;01mif\u001B[39;00m np\u001B[38;5;241m.\u001B[39many(expected \u001B[38;5;241m==\u001B[39m \u001B[38;5;241m0\u001B[39m):\n\u001B[0;32m    337\u001B[0m     \u001B[38;5;66;03m# Include one of the positions where expected is zero in\u001B[39;00m\n\u001B[0;32m    338\u001B[0m     \u001B[38;5;66;03m# the exception message.\u001B[39;00m\n",
      "\u001B[1;31mValueError\u001B[0m: No data; `observed` has size 0."
     ]
    }
   ],
   "execution_count": 280
  },
  {
   "metadata": {
    "ExecuteTime": {
     "end_time": "2024-05-08T09:07:09.104303Z",
     "start_time": "2024-05-08T09:07:09.085532Z"
    }
   },
   "cell_type": "code",
   "source": [
    "contingency_table_14 = pd.crosstab(index=AMB_PA['Psicosi'], columns=TOTAL['Psicosi'])  \n",
    " \n",
    "chi2_14, p_value_14, dof_14, expected_14 = chi2_contingency(contingency_table_14)  \n",
    " \n",
    "print(\"Estadístic xi-quadrat entre AMB_PA i TOTAL:\", chi2_14)  \n",
    "print(\"P-valor entre AMB_PA i TOTAL:\", p_value_14)  \n",
    " \n",
    "if p_value_14 < 0.05:  \n",
    "   print(\"Hi ha diferències significatives entre les distribucions de psicosi en AMB_PA i TOTAL.\")  \n",
    "else:  \n",
    "   print(\"No hi ha diferències significatives entre les distribucions de psicosi en AMB_PA i TOTAL.\") "
   ],
   "id": "5cc8d10340943f1c",
   "outputs": [
    {
     "name": "stdout",
     "output_type": "stream",
     "text": [
      "Estadístic xi-quadrat entre AMB_PA i TOTAL: 0.0\n",
      "P-valor entre AMB_PA i TOTAL: 1.0\n",
      "No hi ha diferències significatives entre les distribucions de psicosi en AMB_PA i TOTAL.\n"
     ]
    }
   ],
   "execution_count": 281
  },
  {
   "metadata": {
    "ExecuteTime": {
     "end_time": "2024-05-08T09:07:09.420518Z",
     "start_time": "2024-05-08T09:07:09.403874Z"
    }
   },
   "cell_type": "code",
   "source": [
    "contingency_table_24 = pd.crosstab(index=AMB_PA_MECVV['Psicosi'], columns=TOTAL['Psicosi'])  \n",
    " \n",
    "chi2_24, p_value_24, dof_24, expected_24 = chi2_contingency(contingency_table_24)  \n",
    " \n",
    "print(\"Estadístic xi-quadrat entre AMB_PA_MECVV i TOTAL:\", chi2_24)  \n",
    "print(\"P-valor entre AMB_PA_MECVV i TOTAL:\", p_value_24)  \n",
    " \n",
    "if p_value_24 < 0.05:  \n",
    "   print(\"Hi ha diferències significatives entre les distribucions de psicosi en AMB_PA_MECVV i TOTAL.\")  \n",
    "else:  \n",
    "   print(\"No hi ha diferències significatives entre les distribucions de psicosi en AMB_PA_MECVV i TOTAL.\") "
   ],
   "id": "43c2cd540927d5ba",
   "outputs": [
    {
     "name": "stdout",
     "output_type": "stream",
     "text": [
      "Estadístic xi-quadrat entre AMB_PA_MECVV i TOTAL: 0.0\n",
      "P-valor entre AMB_PA_MECVV i TOTAL: 1.0\n",
      "No hi ha diferències significatives entre les distribucions de psicosi en AMB_PA_MECVV i TOTAL.\n"
     ]
    }
   ],
   "execution_count": 282
  },
  {
   "metadata": {
    "ExecuteTime": {
     "end_time": "2024-05-08T09:07:09.873008Z",
     "start_time": "2024-05-08T09:07:09.855618Z"
    }
   },
   "cell_type": "code",
   "source": [
    "contingency_table_34 = pd.crosstab(index=SENSE_PA['Psicosi'], columns=TOTAL['Psicosi'])  \n",
    " \n",
    "chi2_34, p_value_34, dof_34, expected_34 = chi2_contingency(contingency_table_34)  \n",
    " \n",
    "print(\"Estadístic xi-quadrat entre SENSE_PA i TOTAL:\", chi2_34)  \n",
    "print(\"P-valor entre SENSE_PA i TOTAL:\", p_value_34)  \n",
    " \n",
    "if p_value_34 < 0.05:  \n",
    "   print(\"Hi ha diferències significatives entre les distribucions de psicosi en SENSE_PA i TOTAL.\")  \n",
    "else:  \n",
    "   print(\"No hi ha diferències significatives entre les distribucions de psicosi en SENSE_PA i TOTAL.\") "
   ],
   "id": "fa6dc9d7840f038",
   "outputs": [
    {
     "name": "stdout",
     "output_type": "stream",
     "text": [
      "Estadístic xi-quadrat entre SENSE_PA i TOTAL: 0.0\n",
      "P-valor entre SENSE_PA i TOTAL: 1.0\n",
      "No hi ha diferències significatives entre les distribucions de psicosi en SENSE_PA i TOTAL.\n"
     ]
    }
   ],
   "execution_count": 283
  },
  {
   "metadata": {},
   "cell_type": "markdown",
   "source": [
    "## Deficiències nutricionals"
   ],
   "id": "fd2da9ae3b318047"
  },
  {
   "metadata": {
    "ExecuteTime": {
     "end_time": "2024-05-08T09:07:10.238915Z",
     "start_time": "2024-05-08T09:07:10.232756Z"
    }
   },
   "cell_type": "code",
   "source": [
    "nutri_AMB_PA= (AMB_PA['Def.nutri'] == 1.0).mean() * 100\n",
    "print(f\"Percentatge de deficiències nutricionals: {nutri_AMB_PA:.2f}%\")"
   ],
   "id": "e841eb27b0ef04d7",
   "outputs": [
    {
     "name": "stdout",
     "output_type": "stream",
     "text": [
      "Percentatge de deficiències nutricionals: 0.00%\n"
     ]
    }
   ],
   "execution_count": 284
  },
  {
   "metadata": {
    "ExecuteTime": {
     "end_time": "2024-05-08T09:07:11.013510Z",
     "start_time": "2024-05-08T09:07:11.008724Z"
    }
   },
   "cell_type": "code",
   "source": [
    "nutri_AMB_PA_MECVV= (AMB_PA_MECVV['Def.nutri'] == 1.0).mean() * 100\n",
    "print(f\"Percentatge de deficiències nutricionals: {nutri_AMB_PA_MECVV:.2f}%\")"
   ],
   "id": "8776557d38ef8059",
   "outputs": [
    {
     "name": "stdout",
     "output_type": "stream",
     "text": [
      "Percentatge de deficiències nutricionals: 0.00%\n"
     ]
    }
   ],
   "execution_count": 285
  },
  {
   "metadata": {
    "ExecuteTime": {
     "end_time": "2024-05-08T09:07:11.452887Z",
     "start_time": "2024-05-08T09:07:11.447137Z"
    }
   },
   "cell_type": "code",
   "source": [
    "nutri_SENSE_PA= (SENSE_PA['Def.nutri'] == 1.0).mean() * 100\n",
    "print(f\"Percentatge de deficiències nutricionals: {nutri_SENSE_PA:.2f}%\")"
   ],
   "id": "958e8bc2ca4584c3",
   "outputs": [
    {
     "name": "stdout",
     "output_type": "stream",
     "text": [
      "Percentatge de deficiències nutricionals: 0.00%\n"
     ]
    }
   ],
   "execution_count": 286
  },
  {
   "metadata": {
    "ExecuteTime": {
     "end_time": "2024-05-08T09:07:11.960408Z",
     "start_time": "2024-05-08T09:07:11.953076Z"
    }
   },
   "cell_type": "code",
   "source": [
    "nutri_TOTAL= (TOTAL['Def.nutri'] == 1.0).mean() * 100\n",
    "print(f\"Percentatge de deficiències nutricionals: {nutri_TOTAL:.2f}%\")"
   ],
   "id": "6d7779888783c671",
   "outputs": [
    {
     "name": "stdout",
     "output_type": "stream",
     "text": [
      "Percentatge de deficiències nutricionals: 0.00%\n"
     ]
    }
   ],
   "execution_count": 287
  },
  {
   "metadata": {},
   "cell_type": "markdown",
   "source": "#### Comparació distributiva",
   "id": "d4bc9fe19efb8762"
  },
  {
   "metadata": {},
   "cell_type": "markdown",
   "source": "##### Normalitat i p-valor",
   "id": "5316510b823b671e"
  },
  {
   "metadata": {
    "ExecuteTime": {
     "end_time": "2024-05-08T09:07:12.373687Z",
     "start_time": "2024-05-08T09:07:12.356986Z"
    }
   },
   "cell_type": "code",
   "source": [
    "contingency_table_12 = pd.crosstab(index=AMB_PA['Def.nutri'], columns=AMB_PA_MECVV['Def.nutri'])  \n",
    " \n",
    "chi2_12, p_value_12, dof_12, expected_12 = chi2_contingency(contingency_table_12)  \n",
    " \n",
    "print(\"Estadístic xi-quadrat entre AMB_PA i AMB_PA_MECVV:\", chi2_12)  \n",
    "print(\"P-valor entre AMB_PA i AMB_PA_MECVV:\", p_value_12)  \n",
    " \n",
    "if p_value_12 < 0.05:  \n",
    "   print(\"Hi ha diferències significatives entre les distribucions de deficiències nutricionals en AMB_PA i AMB_PA_MECVV.\")  \n",
    "else:  \n",
    "   print(\"No hi ha diferències significatives entre les distribucions de deficiències nutricionals en AMB_PA i AMB_PA_MECVV.\") "
   ],
   "id": "d518ed3fde934b64",
   "outputs": [
    {
     "name": "stdout",
     "output_type": "stream",
     "text": [
      "Estadístic xi-quadrat entre AMB_PA i AMB_PA_MECVV: 0.0\n",
      "P-valor entre AMB_PA i AMB_PA_MECVV: 1.0\n",
      "No hi ha diferències significatives entre les distribucions de deficiències nutricionals en AMB_PA i AMB_PA_MECVV.\n"
     ]
    }
   ],
   "execution_count": 288
  },
  {
   "metadata": {
    "ExecuteTime": {
     "end_time": "2024-05-08T09:07:12.798840Z",
     "start_time": "2024-05-08T09:07:12.786916Z"
    }
   },
   "cell_type": "code",
   "source": [
    "contingency_table_13 = pd.crosstab(index=AMB_PA['Def.nutri'], columns=SENSE_PA['Def.nutri'])  \n",
    " \n",
    "chi2_13, p_value_13, dof_13, expected_13 = chi2_contingency(contingency_table_13)  \n",
    " \n",
    "print(\"Estadístic xi-quadrat entre AMB_PA i SENSE_PA:\", chi2_13)  \n",
    "print(\"P-valor entre AMB_PA i SENSE_PA:\", p_value_13)  \n",
    " \n",
    "if p_value_13 < 0.05:  \n",
    "   print(\"Hi ha diferències significatives entre les distribucions de deficiències nutricionals en AMB_PA i SENSE_PA.\")  \n",
    "else:  \n",
    "   print(\"No hi ha diferències significatives entre les distribucions de deficiències nutricionals en AMB_PA i SENSE_PA.\") "
   ],
   "id": "1e0de691178e3d02",
   "outputs": [
    {
     "name": "stdout",
     "output_type": "stream",
     "text": [
      "Estadístic xi-quadrat entre AMB_PA i SENSE_PA: 0.0\n",
      "P-valor entre AMB_PA i SENSE_PA: 1.0\n",
      "No hi ha diferències significatives entre les distribucions de deficiències nutricionals en AMB_PA i SENSE_PA.\n"
     ]
    }
   ],
   "execution_count": 289
  },
  {
   "metadata": {
    "ExecuteTime": {
     "end_time": "2024-05-08T09:07:13.190686Z",
     "start_time": "2024-05-08T09:07:13.140848Z"
    }
   },
   "cell_type": "code",
   "source": [
    "contingency_table_23 = pd.crosstab(index=AMB_PA_MECVV['Def.nutri'], columns=SENSE_PA['Def.nutri'])  \n",
    " \n",
    "chi2_23, p_value_23, dof_23, expected_23 = chi2_contingency(contingency_table_23)  \n",
    " \n",
    "print(\"Estadístic xi-quadrat entre AMB_PA_MECCV i SENSE_PA:\", chi2_23)  \n",
    "print(\"P-valor entre AMB_PA_MECVV i SENSE_PA:\", p_value_23)  \n",
    " \n",
    "if p_value_23 < 0.05:  \n",
    "   print(\"Hi ha diferències significatives entre les distribucions de deficiències nutricionals en AMB_PA_MECVV i SENSE_PA.\")  \n",
    "else:  \n",
    "   print(\"No hi ha diferències significatives entre les distribucions de deficiències nutricionals en AMB_PA_MECVV i SENSE_PA.\") "
   ],
   "id": "f40327fa6efbc272",
   "outputs": [
    {
     "ename": "ValueError",
     "evalue": "No data; `observed` has size 0.",
     "output_type": "error",
     "traceback": [
      "\u001B[1;31m---------------------------------------------------------------------------\u001B[0m",
      "\u001B[1;31mValueError\u001B[0m                                Traceback (most recent call last)",
      "Cell \u001B[1;32mIn[290], line 3\u001B[0m\n\u001B[0;32m      1\u001B[0m contingency_table_23 \u001B[38;5;241m=\u001B[39m pd\u001B[38;5;241m.\u001B[39mcrosstab(index\u001B[38;5;241m=\u001B[39mAMB_PA_MECVV[\u001B[38;5;124m'\u001B[39m\u001B[38;5;124mDef.nutri\u001B[39m\u001B[38;5;124m'\u001B[39m], columns\u001B[38;5;241m=\u001B[39mSENSE_PA[\u001B[38;5;124m'\u001B[39m\u001B[38;5;124mDef.nutri\u001B[39m\u001B[38;5;124m'\u001B[39m])  \n\u001B[1;32m----> 3\u001B[0m chi2_23, p_value_23, dof_23, expected_23 \u001B[38;5;241m=\u001B[39m \u001B[43mchi2_contingency\u001B[49m\u001B[43m(\u001B[49m\u001B[43mcontingency_table_23\u001B[49m\u001B[43m)\u001B[49m  \n\u001B[0;32m      5\u001B[0m \u001B[38;5;28mprint\u001B[39m(\u001B[38;5;124m\"\u001B[39m\u001B[38;5;124mEstadístic xi-quadrat entre AMB_PA_MECCV i SENSE_PA:\u001B[39m\u001B[38;5;124m\"\u001B[39m, chi2_23)  \n\u001B[0;32m      6\u001B[0m \u001B[38;5;28mprint\u001B[39m(\u001B[38;5;124m\"\u001B[39m\u001B[38;5;124mP-valor entre AMB_PA_MECVV i SENSE_PA:\u001B[39m\u001B[38;5;124m\"\u001B[39m, p_value_23)  \n",
      "File \u001B[1;32m~\\PycharmProjects\\practicum\\.venv\\Lib\\site-packages\\scipy\\stats\\contingency.py:333\u001B[0m, in \u001B[0;36mchi2_contingency\u001B[1;34m(observed, correction, lambda_)\u001B[0m\n\u001B[0;32m    331\u001B[0m     \u001B[38;5;28;01mraise\u001B[39;00m \u001B[38;5;167;01mValueError\u001B[39;00m(\u001B[38;5;124m\"\u001B[39m\u001B[38;5;124mAll values in `observed` must be nonnegative.\u001B[39m\u001B[38;5;124m\"\u001B[39m)\n\u001B[0;32m    332\u001B[0m \u001B[38;5;28;01mif\u001B[39;00m observed\u001B[38;5;241m.\u001B[39msize \u001B[38;5;241m==\u001B[39m \u001B[38;5;241m0\u001B[39m:\n\u001B[1;32m--> 333\u001B[0m     \u001B[38;5;28;01mraise\u001B[39;00m \u001B[38;5;167;01mValueError\u001B[39;00m(\u001B[38;5;124m\"\u001B[39m\u001B[38;5;124mNo data; `observed` has size 0.\u001B[39m\u001B[38;5;124m\"\u001B[39m)\n\u001B[0;32m    335\u001B[0m expected \u001B[38;5;241m=\u001B[39m expected_freq(observed)\n\u001B[0;32m    336\u001B[0m \u001B[38;5;28;01mif\u001B[39;00m np\u001B[38;5;241m.\u001B[39many(expected \u001B[38;5;241m==\u001B[39m \u001B[38;5;241m0\u001B[39m):\n\u001B[0;32m    337\u001B[0m     \u001B[38;5;66;03m# Include one of the positions where expected is zero in\u001B[39;00m\n\u001B[0;32m    338\u001B[0m     \u001B[38;5;66;03m# the exception message.\u001B[39;00m\n",
      "\u001B[1;31mValueError\u001B[0m: No data; `observed` has size 0."
     ]
    }
   ],
   "execution_count": 290
  },
  {
   "metadata": {
    "ExecuteTime": {
     "end_time": "2024-05-08T09:07:13.659350Z",
     "start_time": "2024-05-08T09:07:13.641163Z"
    }
   },
   "cell_type": "code",
   "source": [
    "contingency_table_14 = pd.crosstab(index=AMB_PA['Def.nutri'], columns=TOTAL['Def.nutri'])  \n",
    " \n",
    "chi2_14, p_value_14, dof_14, expected_14 = chi2_contingency(contingency_table_14)  \n",
    " \n",
    "print(\"Estadístic xi-quadrat entre AMB_PA i TOTAL:\", chi2_14)  \n",
    "print(\"P-valor entre AMB_PA i TOTAL:\", p_value_14)  \n",
    " \n",
    "if p_value_14 < 0.05:  \n",
    "   print(\"Hi ha diferències significatives entre les distribucions de deficiències nutricionals en AMB_PA i TOTAL.\")  \n",
    "else:  \n",
    "   print(\"No hi ha diferències significatives entre les distribucions de deficiències nutricionals en AMB_PA i TOTAL.\") "
   ],
   "id": "e520b60c4f6664f4",
   "outputs": [
    {
     "name": "stdout",
     "output_type": "stream",
     "text": [
      "Estadístic xi-quadrat entre AMB_PA i TOTAL: 0.0\n",
      "P-valor entre AMB_PA i TOTAL: 1.0\n",
      "No hi ha diferències significatives entre les distribucions de deficiències nutricionals en AMB_PA i TOTAL.\n"
     ]
    }
   ],
   "execution_count": 291
  },
  {
   "metadata": {
    "ExecuteTime": {
     "end_time": "2024-05-08T09:07:13.948786Z",
     "start_time": "2024-05-08T09:07:13.933902Z"
    }
   },
   "cell_type": "code",
   "source": [
    "contingency_table_24 = pd.crosstab(index=AMB_PA_MECVV['Def.nutri'], columns=TOTAL['Def.nutri'])  \n",
    " \n",
    "chi2_24, p_value_24, dof_24, expected_24 = chi2_contingency(contingency_table_24)  \n",
    " \n",
    "print(\"Estadístic xi-quadrat entre AMB_PA_MECVV i TOTAL:\", chi2_24)  \n",
    "print(\"P-valor entre AMB_PA_MECVV i TOTAL:\", p_value_24)  \n",
    " \n",
    "if p_value_24 < 0.05:  \n",
    "   print(\"Hi ha diferències significatives entre les distribucions de deficiències nutricionals en AMB_PA_MECVV i TOTAL.\")  \n",
    "else:  \n",
    "   print(\"No hi ha diferències significatives entre les distribucions de deficiències nutricionals en AMB_PA_MECVV i TOTAL.\") "
   ],
   "id": "a32cc09ac99a0dfb",
   "outputs": [
    {
     "name": "stdout",
     "output_type": "stream",
     "text": [
      "Estadístic xi-quadrat entre AMB_PA_MECVV i TOTAL: 0.0\n",
      "P-valor entre AMB_PA_MECVV i TOTAL: 1.0\n",
      "No hi ha diferències significatives entre les distribucions de deficiències nutricionals en AMB_PA_MECVV i TOTAL.\n"
     ]
    }
   ],
   "execution_count": 292
  },
  {
   "metadata": {},
   "cell_type": "code",
   "source": [
    "contingency_table_34 = pd.crosstab(index=SENSE_PA['Def.nutri'], columns=TOTAL['Def.nutri'])  \n",
    " \n",
    "chi2_34, p_value_34, dof_34, expected_34 = chi2_contingency(contingency_table_34)  \n",
    " \n",
    "print(\"Estadístic xi-quadrat entre SENSE_PA i TOTAL:\", chi2_34)  \n",
    "print(\"P-valor entre SENSE_PA i TOTAL:\", p_value_34)  \n",
    " \n",
    "if p_value_34 < 0.05:  \n",
    "   print(\"Hi ha diferències significatives entre les distribucions de deficiències nutricionals en SENSE_PA i TOTAL.\")  \n",
    "else:  \n",
    "   print(\"No hi ha diferències significatives entre les distribucions de deficiències nutricionals en SENSE_PA i TOTAL.\") "
   ],
   "id": "8622d081883aca5c",
   "outputs": [
    {
     "name": "stdout",
     "output_type": "stream",
     "text": [
      "Estadístic xi-quadrat entre SENSE_PA i TOTAL: 0.0\n",
      "P-valor entre SENSE_PA i TOTAL: 1.0\n",
      "No hi ha diferències significatives entre les distribucions de deficiències nutricionals en SENSE_PA i TOTAL.\n"
     ]
    }
   ],
   "execution_count": 293
  }
 ],
 "metadata": {
  "kernelspec": {
   "display_name": "Python 3",
   "language": "python",
   "name": "python3"
  },
  "language_info": {
   "codemirror_mode": {
    "name": "ipython",
    "version": 2
   },
   "file_extension": ".py",
   "mimetype": "text/x-python",
   "name": "python",
   "nbconvert_exporter": "python",
   "pygments_lexer": "ipython2",
   "version": "2.7.6"
  }
 },
 "nbformat": 4,
 "nbformat_minor": 5
}
