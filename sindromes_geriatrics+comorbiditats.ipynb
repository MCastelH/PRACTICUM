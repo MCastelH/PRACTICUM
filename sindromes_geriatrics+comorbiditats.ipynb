{
 "cells": [
  {
   "cell_type": "markdown",
   "id": "872f074b8195e8c9",
   "metadata": {},
   "source": [
    "## Importació de llibreries i funcions pròpies"
   ]
  },
  {
   "cell_type": "code",
   "execution_count": 1,
   "id": "initial_id",
   "metadata": {
    "ExecuteTime": {
     "end_time": "2024-07-11T12:56:44.648825Z",
     "start_time": "2024-07-11T12:56:43.508722Z"
    }
   },
   "outputs": [],
   "source": [
    "import pandas as pd\n",
    "import pandoc\n",
    "from auxiliary_functions import test_indepe_plot, test_indepe_bin_plot, mitjana_i_std_num, comptatge_i_percentatge_cat \n",
    "from listas import cat_var_ger, num_var_ger"
   ]
  },
  {
   "cell_type": "markdown",
   "id": "21391525d0fd73d2",
   "metadata": {},
   "source": [
    "## Càrrega i segmentació de les dades"
   ]
  },
  {
   "cell_type": "code",
   "execution_count": 2,
   "id": "66ee0565100b2096",
   "metadata": {
    "ExecuteTime": {
     "end_time": "2024-07-11T12:56:47.027705Z",
     "start_time": "2024-07-11T12:56:44.650832Z"
    }
   },
   "outputs": [],
   "source": [
    "taula = pd.read_pickle('./data/processed/dataframe.pkl')\n",
    "\n",
    "AMB_PA = taula[taula[\"PA diagnosticada\"] == 1.0]\n",
    "AMB_PA_MECVV = taula[\n",
    "    (taula[\"Dies entre primer ICD pneumònia i primer MECV-V positiu\"] < 30)]\n",
    "SENSE_PA = taula[\n",
    "           (taula[\"Dies entre primer ICD pneumònia i primer MECV-V positiu\"] > 30) &\n",
    "           (taula['P diagnosticada'] == 1.0)]\n",
    "TOTAL = taula"
   ]
  },
  {
   "cell_type": "markdown",
   "id": "680f94430180eb9c",
   "metadata": {},
   "source": [
    "# Anàlisi descriptiva de les dades"
   ]
  },
  {
   "cell_type": "markdown",
   "id": "d11723029315b688",
   "metadata": {},
   "source": [
    "### Comptatges i percentatges de variables categòriques per grup"
   ]
  },
  {
   "cell_type": "code",
   "execution_count": 3,
   "id": "72e101ba082a6994",
   "metadata": {
    "ExecuteTime": {
     "end_time": "2024-07-11T12:56:47.280143Z",
     "start_time": "2024-07-11T12:56:47.028809Z"
    }
   },
   "outputs": [
    {
     "name": "stdout",
     "output_type": "stream",
     "text": [
      "+------------------------+--------------+-------+------------+--------------+\n",
      "|        Columna         |  DataFrame   | Valor | Comptatges | Percentatges |\n",
      "+------------------------+--------------+-------+------------+--------------+\n",
      "|    Caigudes prèvies    |    AMB_PA    |   0   |    2979    |    94.42%    |\n",
      "|                        |              |       |            |              |\n",
      "|    Caigudes prèvies    |    AMB_PA    |   1   |    176     |    5.58%     |\n",
      "|                        |              |       |            |              |\n",
      "|    Caigudes prèvies    | AMB_PA_MECVV |   0   |    227     |    89.37%    |\n",
      "|                        |              |       |            |              |\n",
      "|    Caigudes prèvies    | AMB_PA_MECVV |   1   |     27     |    10.63%    |\n",
      "|                        |              |       |            |              |\n",
      "|    Caigudes prèvies    |   SENSE_PA   |   0   |    975     |    85.38%    |\n",
      "|                        |              |       |            |              |\n",
      "|    Caigudes prèvies    |   SENSE_PA   |   1   |    167     |    14.62%    |\n",
      "|                        |              |       |            |              |\n",
      "|    Caigudes prèvies    |    TOTAL     |   0   |   20739    |    96.29%    |\n",
      "|                        |              |       |            |              |\n",
      "|    Caigudes prèvies    |    TOTAL     |   1   |    799     |    3.71%     |\n",
      "|                        |              |       |            |              |\n",
      "|                        |              |       |            |              |\n",
      "|        Deliris         |    AMB_PA    |   0   |    2729    |    86.50%    |\n",
      "|                        |              |       |            |              |\n",
      "|        Deliris         |    AMB_PA    |   1   |    426     |    13.50%    |\n",
      "|                        |              |       |            |              |\n",
      "|        Deliris         | AMB_PA_MECVV |   0   |    194     |    76.38%    |\n",
      "|                        |              |       |            |              |\n",
      "|        Deliris         | AMB_PA_MECVV |   1   |     60     |    23.62%    |\n",
      "|                        |              |       |            |              |\n",
      "|        Deliris         |   SENSE_PA   |   0   |    819     |    71.72%    |\n",
      "|                        |              |       |            |              |\n",
      "|        Deliris         |   SENSE_PA   |   1   |    323     |    28.28%    |\n",
      "|                        |              |       |            |              |\n",
      "|        Deliris         |    TOTAL     |   0   |   20050    |    93.09%    |\n",
      "|                        |              |       |            |              |\n",
      "|        Deliris         |    TOTAL     |   1   |    1488    |    6.91%     |\n",
      "|                        |              |       |            |              |\n",
      "|                        |              |       |            |              |\n",
      "|        Demència        |    AMB_PA    |   0   |    2346    |    74.36%    |\n",
      "|                        |              |       |            |              |\n",
      "|        Demència        |    AMB_PA    |   1   |    809     |    25.64%    |\n",
      "|                        |              |       |            |              |\n",
      "|        Demència        | AMB_PA_MECVV |   0   |    156     |    61.42%    |\n",
      "|                        |              |       |            |              |\n",
      "|        Demència        | AMB_PA_MECVV |   1   |     98     |    38.58%    |\n",
      "|                        |              |       |            |              |\n",
      "|        Demència        |   SENSE_PA   |   0   |    658     |    57.62%    |\n",
      "|                        |              |       |            |              |\n",
      "|        Demència        |   SENSE_PA   |   1   |    484     |    42.38%    |\n",
      "|                        |              |       |            |              |\n",
      "|        Demència        |    TOTAL     |   0   |   18531    |    86.04%    |\n",
      "|                        |              |       |            |              |\n",
      "|        Demència        |    TOTAL     |   1   |    3007    |    13.96%    |\n",
      "|                        |              |       |            |              |\n",
      "|                        |              |       |            |              |\n",
      "|       Incont.uri       |    AMB_PA    |   0   |    2356    |    74.68%    |\n",
      "|                        |              |       |            |              |\n",
      "|       Incont.uri       |    AMB_PA    |   1   |    799     |    25.32%    |\n",
      "|                        |              |       |            |              |\n",
      "|       Incont.uri       | AMB_PA_MECVV |   0   |    146     |    57.48%    |\n",
      "|                        |              |       |            |              |\n",
      "|       Incont.uri       | AMB_PA_MECVV |   1   |    108     |    42.52%    |\n",
      "|                        |              |       |            |              |\n",
      "|       Incont.uri       |   SENSE_PA   |   1   |    584     |    51.14%    |\n",
      "|                        |              |       |            |              |\n",
      "|       Incont.uri       |   SENSE_PA   |   0   |    558     |    48.86%    |\n",
      "|                        |              |       |            |              |\n",
      "|       Incont.uri       |    TOTAL     |   0   |   18597    |    86.35%    |\n",
      "|                        |              |       |            |              |\n",
      "|       Incont.uri       |    TOTAL     |   1   |    2941    |    13.65%    |\n",
      "|                        |              |       |            |              |\n",
      "|                        |              |       |            |              |\n",
      "|       Incont.fec       |    AMB_PA    |   0   |    2763    |    87.58%    |\n",
      "|                        |              |       |            |              |\n",
      "|       Incont.fec       |    AMB_PA    |   1   |    392     |    12.42%    |\n",
      "|                        |              |       |            |              |\n",
      "|       Incont.fec       | AMB_PA_MECVV |   0   |    212     |    83.46%    |\n",
      "|                        |              |       |            |              |\n",
      "|       Incont.fec       | AMB_PA_MECVV |   1   |     42     |    16.54%    |\n",
      "|                        |              |       |            |              |\n",
      "|       Incont.fec       |   SENSE_PA   |   0   |    977     |    85.55%    |\n",
      "|                        |              |       |            |              |\n",
      "|       Incont.fec       |   SENSE_PA   |   1   |    165     |    14.45%    |\n",
      "|                        |              |       |            |              |\n",
      "|       Incont.fec       |    TOTAL     |   0   |   20672    |    95.98%    |\n",
      "|                        |              |       |            |              |\n",
      "|       Incont.fec       |    TOTAL     |   1   |    866     |    4.02%     |\n",
      "|                        |              |       |            |              |\n",
      "|                        |              |       |            |              |\n",
      "|    Úlceres pressió     |    AMB_PA    |   0   |    3029    |    96.01%    |\n",
      "|                        |              |       |            |              |\n",
      "|    Úlceres pressió     |    AMB_PA    |   1   |    126     |    3.99%     |\n",
      "|                        |              |       |            |              |\n",
      "|    Úlceres pressió     | AMB_PA_MECVV |   0   |    244     |    96.06%    |\n",
      "|                        |              |       |            |              |\n",
      "|    Úlceres pressió     | AMB_PA_MECVV |   1   |     10     |    3.94%     |\n",
      "|                        |              |       |            |              |\n",
      "|    Úlceres pressió     |   SENSE_PA   |   0   |    1074    |    94.05%    |\n",
      "|                        |              |       |            |              |\n",
      "|    Úlceres pressió     |   SENSE_PA   |   1   |     68     |    5.95%     |\n",
      "|                        |              |       |            |              |\n",
      "|    Úlceres pressió     |    TOTAL     |   0   |   21218    |    98.51%    |\n",
      "|                        |              |       |            |              |\n",
      "|    Úlceres pressió     |    TOTAL     |   1   |    320     |    1.49%     |\n",
      "|                        |              |       |            |              |\n",
      "|                        |              |       |            |              |\n",
      "|      Immobilitat       |    AMB_PA    |   0   |    2485    |    78.76%    |\n",
      "|                        |              |       |            |              |\n",
      "|      Immobilitat       |    AMB_PA    |   1   |    670     |    21.24%    |\n",
      "|                        |              |       |            |              |\n",
      "|      Immobilitat       | AMB_PA_MECVV |   0   |    154     |    60.63%    |\n",
      "|                        |              |       |            |              |\n",
      "|      Immobilitat       | AMB_PA_MECVV |   1   |    100     |    39.37%    |\n",
      "|                        |              |       |            |              |\n",
      "|      Immobilitat       |   SENSE_PA   |   0   |    654     |    57.27%    |\n",
      "|                        |              |       |            |              |\n",
      "|      Immobilitat       |   SENSE_PA   |   1   |    488     |    42.73%    |\n",
      "|                        |              |       |            |              |\n",
      "|      Immobilitat       |    TOTAL     |   0   |   19533    |    90.69%    |\n",
      "|                        |              |       |            |              |\n",
      "|      Immobilitat       |    TOTAL     |   1   |    2005    |    9.31%     |\n",
      "|                        |              |       |            |              |\n",
      "|                        |              |       |            |              |\n",
      "|        Confusió        |    AMB_PA    |   0   |    2729    |    86.50%    |\n",
      "|                        |              |       |            |              |\n",
      "|        Confusió        |    AMB_PA    |   1   |    426     |    13.50%    |\n",
      "|                        |              |       |            |              |\n",
      "|        Confusió        | AMB_PA_MECVV |   0   |    194     |    76.38%    |\n",
      "|                        |              |       |            |              |\n",
      "|        Confusió        | AMB_PA_MECVV |   1   |     60     |    23.62%    |\n",
      "|                        |              |       |            |              |\n",
      "|        Confusió        |   SENSE_PA   |   0   |    819     |    71.72%    |\n",
      "|                        |              |       |            |              |\n",
      "|        Confusió        |   SENSE_PA   |   1   |    323     |    28.28%    |\n",
      "|                        |              |       |            |              |\n",
      "|        Confusió        |    TOTAL     |   0   |   20050    |    93.09%    |\n",
      "|                        |              |       |            |              |\n",
      "|        Confusió        |    TOTAL     |   1   |    1488    |    6.91%     |\n",
      "|                        |              |       |            |              |\n",
      "|                        |              |       |            |              |\n",
      "|      Osteoporosi       |    AMB_PA    |   0   |    2866    |    90.84%    |\n",
      "|                        |              |       |            |              |\n",
      "|      Osteoporosi       |    AMB_PA    |   1   |    289     |    9.16%     |\n",
      "|                        |              |       |            |              |\n",
      "|      Osteoporosi       | AMB_PA_MECVV |   0   |    213     |    83.86%    |\n",
      "|                        |              |       |            |              |\n",
      "|      Osteoporosi       | AMB_PA_MECVV |   1   |     41     |    16.14%    |\n",
      "|                        |              |       |            |              |\n",
      "|      Osteoporosi       |   SENSE_PA   |   0   |    932     |    81.61%    |\n",
      "|                        |              |       |            |              |\n",
      "|      Osteoporosi       |   SENSE_PA   |   1   |    210     |    18.39%    |\n",
      "|                        |              |       |            |              |\n",
      "|      Osteoporosi       |    TOTAL     |   0   |   20205    |    93.81%    |\n",
      "|                        |              |       |            |              |\n",
      "|      Osteoporosi       |    TOTAL     |   1   |    1333    |    6.19%     |\n",
      "|                        |              |       |            |              |\n",
      "|                        |              |       |            |              |\n",
      "|       Sarcopènia       |    AMB_PA    |   0   |    3088    |    97.88%    |\n",
      "|                        |              |       |            |              |\n",
      "|       Sarcopènia       |    AMB_PA    |   1   |     67     |    2.12%     |\n",
      "|                        |              |       |            |              |\n",
      "|       Sarcopènia       | AMB_PA_MECVV |   0   |    250     |    98.43%    |\n",
      "|                        |              |       |            |              |\n",
      "|       Sarcopènia       | AMB_PA_MECVV |   1   |     4      |    1.57%     |\n",
      "|                        |              |       |            |              |\n",
      "|       Sarcopènia       |   SENSE_PA   |   0   |    1093    |    95.71%    |\n",
      "|                        |              |       |            |              |\n",
      "|       Sarcopènia       |   SENSE_PA   |   1   |     49     |    4.29%     |\n",
      "|                        |              |       |            |              |\n",
      "|       Sarcopènia       |    TOTAL     |   0   |   21323    |    99.00%    |\n",
      "|                        |              |       |            |              |\n",
      "|       Sarcopènia       |    TOTAL     |   1   |    215     |    1.00%     |\n",
      "|                        |              |       |            |              |\n",
      "|                        |              |       |            |              |\n",
      "|       Probl.son        |    AMB_PA    |   0   |    3020    |    95.72%    |\n",
      "|                        |              |       |            |              |\n",
      "|       Probl.son        |    AMB_PA    |   1   |    135     |    4.28%     |\n",
      "|                        |              |       |            |              |\n",
      "|       Probl.son        | AMB_PA_MECVV |   0   |    223     |    87.80%    |\n",
      "|                        |              |       |            |              |\n",
      "|       Probl.son        | AMB_PA_MECVV |   1   |     31     |    12.20%    |\n",
      "|                        |              |       |            |              |\n",
      "|       Probl.son        |   SENSE_PA   |   0   |    986     |    86.34%    |\n",
      "|                        |              |       |            |              |\n",
      "|       Probl.son        |   SENSE_PA   |   1   |    156     |    13.66%    |\n",
      "|                        |              |       |            |              |\n",
      "|       Probl.son        |    TOTAL     |   0   |   20269    |    94.11%    |\n",
      "|                        |              |       |            |              |\n",
      "|       Probl.son        |    TOTAL     |   1   |    1269    |    5.89%     |\n",
      "|                        |              |       |            |              |\n",
      "|                        |              |       |            |              |\n",
      "|      Dolor crònic      |    AMB_PA    |   0   |    3126    |    99.08%    |\n",
      "|                        |              |       |            |              |\n",
      "|      Dolor crònic      |    AMB_PA    |   1   |     29     |    0.92%     |\n",
      "|                        |              |       |            |              |\n",
      "|      Dolor crònic      | AMB_PA_MECVV |   0   |    247     |    97.24%    |\n",
      "|                        |              |       |            |              |\n",
      "|      Dolor crònic      | AMB_PA_MECVV |   1   |     7      |    2.76%     |\n",
      "|                        |              |       |            |              |\n",
      "|      Dolor crònic      |   SENSE_PA   |   0   |    1111    |    97.29%    |\n",
      "|                        |              |       |            |              |\n",
      "|      Dolor crònic      |   SENSE_PA   |   1   |     31     |    2.71%     |\n",
      "|                        |              |       |            |              |\n",
      "|      Dolor crònic      |    TOTAL     |   0   |   21324    |    99.01%    |\n",
      "|                        |              |       |            |              |\n",
      "|      Dolor crònic      |    TOTAL     |   1   |    214     |    0.99%     |\n",
      "|                        |              |       |            |              |\n",
      "|                        |              |       |            |              |\n",
      "|       Iatrogènia       |    AMB_PA    |   0   |    3154    |    99.97%    |\n",
      "|                        |              |       |            |              |\n",
      "|       Iatrogènia       |    AMB_PA    |   1   |     1      |    0.03%     |\n",
      "|                        |              |       |            |              |\n",
      "|       Iatrogènia       | AMB_PA_MECVV |   0   |    254     |   100.00%    |\n",
      "|                        |              |       |            |              |\n",
      "|       Iatrogènia       |   SENSE_PA   |   0   |    1142    |   100.00%    |\n",
      "|                        |              |       |            |              |\n",
      "|       Iatrogènia       |    TOTAL     |   0   |   21537    |   100.00%    |\n",
      "|                        |              |       |            |              |\n",
      "|       Iatrogènia       |    TOTAL     |   1   |     1      |    0.00%     |\n",
      "|                        |              |       |            |              |\n",
      "|                        |              |       |            |              |\n",
      "|     Restrenyiment      |    AMB_PA    |   0   |    2894    |    91.73%    |\n",
      "|                        |              |       |            |              |\n",
      "|     Restrenyiment      |    AMB_PA    |   1   |    261     |    8.27%     |\n",
      "|                        |              |       |            |              |\n",
      "|     Restrenyiment      | AMB_PA_MECVV |   0   |    218     |    85.83%    |\n",
      "|                        |              |       |            |              |\n",
      "|     Restrenyiment      | AMB_PA_MECVV |   1   |     36     |    14.17%    |\n",
      "|                        |              |       |            |              |\n",
      "|     Restrenyiment      |   SENSE_PA   |   0   |    976     |    85.46%    |\n",
      "|                        |              |       |            |              |\n",
      "|     Restrenyiment      |   SENSE_PA   |   1   |    166     |    14.54%    |\n",
      "|                        |              |       |            |              |\n",
      "|     Restrenyiment      |    TOTAL     |   0   |   20588    |    95.59%    |\n",
      "|                        |              |       |            |              |\n",
      "|     Restrenyiment      |    TOTAL     |   1   |    950     |    4.41%     |\n",
      "|                        |              |       |            |              |\n",
      "|                        |              |       |            |              |\n",
      "|           CV           |    AMB_PA    |   0   |    2963    |    93.91%    |\n",
      "|                        |              |       |            |              |\n",
      "|           CV           |    AMB_PA    |   1   |    192     |    6.09%     |\n",
      "|                        |              |       |            |              |\n",
      "|           CV           | AMB_PA_MECVV |   0   |    215     |    84.65%    |\n",
      "|                        |              |       |            |              |\n",
      "|           CV           | AMB_PA_MECVV |   1   |     39     |    15.35%    |\n",
      "|                        |              |       |            |              |\n",
      "|           CV           |   SENSE_PA   |   0   |    954     |    83.54%    |\n",
      "|                        |              |       |            |              |\n",
      "|           CV           |   SENSE_PA   |   1   |    188     |    16.46%    |\n",
      "|                        |              |       |            |              |\n",
      "|           CV           |    TOTAL     |   0   |   20715    |    96.18%    |\n",
      "|                        |              |       |            |              |\n",
      "|           CV           |    TOTAL     |   1   |    823     |    3.82%     |\n",
      "|                        |              |       |            |              |\n",
      "|                        |              |       |            |              |\n",
      "|       Probl.cor        |    AMB_PA    |   0   |    2857    |    90.55%    |\n",
      "|                        |              |       |            |              |\n",
      "|       Probl.cor        |    AMB_PA    |   1   |    298     |    9.45%     |\n",
      "|                        |              |       |            |              |\n",
      "|       Probl.cor        | AMB_PA_MECVV |   0   |    188     |    74.02%    |\n",
      "|                        |              |       |            |              |\n",
      "|       Probl.cor        | AMB_PA_MECVV |   1   |     66     |    25.98%    |\n",
      "|                        |              |       |            |              |\n",
      "|       Probl.cor        |   SENSE_PA   |   0   |    840     |    73.56%    |\n",
      "|                        |              |       |            |              |\n",
      "|       Probl.cor        |   SENSE_PA   |   1   |    302     |    26.44%    |\n",
      "|                        |              |       |            |              |\n",
      "|       Probl.cor        |    TOTAL     |   0   |   19558    |    90.81%    |\n",
      "|                        |              |       |            |              |\n",
      "|       Probl.cor        |    TOTAL     |   1   |    1980    |    9.19%     |\n",
      "|                        |              |       |            |              |\n",
      "|                        |              |       |            |              |\n",
      "|   Neurodegeneratives   |    AMB_PA    |   0   |    3003    |    95.18%    |\n",
      "|                        |              |       |            |              |\n",
      "|   Neurodegeneratives   |    AMB_PA    |   1   |    152     |    4.82%     |\n",
      "|                        |              |       |            |              |\n",
      "|   Neurodegeneratives   | AMB_PA_MECVV |   0   |    233     |    91.73%    |\n",
      "|                        |              |       |            |              |\n",
      "|   Neurodegeneratives   | AMB_PA_MECVV |   1   |     21     |    8.27%     |\n",
      "|                        |              |       |            |              |\n",
      "|   Neurodegeneratives   |   SENSE_PA   |   0   |    1029    |    90.11%    |\n",
      "|                        |              |       |            |              |\n",
      "|   Neurodegeneratives   |   SENSE_PA   |   1   |    113     |    9.89%     |\n",
      "|                        |              |       |            |              |\n",
      "|   Neurodegeneratives   |    TOTAL     |   0   |   20942    |    97.23%    |\n",
      "|                        |              |       |            |              |\n",
      "|   Neurodegeneratives   |    TOTAL     |   1   |    596     |    2.77%     |\n",
      "|                        |              |       |            |              |\n",
      "|                        |              |       |            |              |\n",
      "|           DM           |    AMB_PA    |   0   |    2621    |    83.07%    |\n",
      "|                        |              |       |            |              |\n",
      "|           DM           |    AMB_PA    |   1   |    534     |    16.93%    |\n",
      "|                        |              |       |            |              |\n",
      "|           DM           | AMB_PA_MECVV |   0   |    173     |    68.11%    |\n",
      "|                        |              |       |            |              |\n",
      "|           DM           | AMB_PA_MECVV |   1   |     81     |    31.89%    |\n",
      "|                        |              |       |            |              |\n",
      "|           DM           |   SENSE_PA   |   0   |    690     |    60.42%    |\n",
      "|                        |              |       |            |              |\n",
      "|           DM           |   SENSE_PA   |   1   |    452     |    39.58%    |\n",
      "|                        |              |       |            |              |\n",
      "|           DM           |    TOTAL     |   0   |   18278    |    84.86%    |\n",
      "|                        |              |       |            |              |\n",
      "|           DM           |    TOTAL     |   1   |    3260    |    15.14%    |\n",
      "|                        |              |       |            |              |\n",
      "|                        |              |       |            |              |\n",
      "|      Hepatopaties      |    AMB_PA    |   0   |    3037    |    96.26%    |\n",
      "|                        |              |       |            |              |\n",
      "|      Hepatopaties      |    AMB_PA    |   1   |    118     |    3.74%     |\n",
      "|                        |              |       |            |              |\n",
      "|      Hepatopaties      | AMB_PA_MECVV |   0   |    233     |    91.73%    |\n",
      "|                        |              |       |            |              |\n",
      "|      Hepatopaties      | AMB_PA_MECVV |   1   |     21     |    8.27%     |\n",
      "|                        |              |       |            |              |\n",
      "|      Hepatopaties      |   SENSE_PA   |   0   |    1000    |    87.57%    |\n",
      "|                        |              |       |            |              |\n",
      "|      Hepatopaties      |   SENSE_PA   |   1   |    142     |    12.43%    |\n",
      "|                        |              |       |            |              |\n",
      "|      Hepatopaties      |    TOTAL     |   0   |   20524    |    95.29%    |\n",
      "|                        |              |       |            |              |\n",
      "|      Hepatopaties      |    TOTAL     |   1   |    1014    |    4.71%     |\n",
      "|                        |              |       |            |              |\n",
      "|                        |              |       |            |              |\n",
      "|       Neoplàsies       |    AMB_PA    |   0   |    2970    |    94.14%    |\n",
      "|                        |              |       |            |              |\n",
      "|       Neoplàsies       |    AMB_PA    |   1   |    185     |    5.86%     |\n",
      "|                        |              |       |            |              |\n",
      "|       Neoplàsies       | AMB_PA_MECVV |   0   |    220     |    86.61%    |\n",
      "|                        |              |       |            |              |\n",
      "|       Neoplàsies       | AMB_PA_MECVV |   1   |     34     |    13.39%    |\n",
      "|                        |              |       |            |              |\n",
      "|       Neoplàsies       |   SENSE_PA   |   0   |    969     |    84.85%    |\n",
      "|                        |              |       |            |              |\n",
      "|       Neoplàsies       |   SENSE_PA   |   1   |    173     |    15.15%    |\n",
      "|                        |              |       |            |              |\n",
      "|       Neoplàsies       |    TOTAL     |   0   |   19933    |    92.55%    |\n",
      "|                        |              |       |            |              |\n",
      "|       Neoplàsies       |    TOTAL     |   1   |    1605    |    7.45%     |\n",
      "|                        |              |       |            |              |\n",
      "|                        |              |       |            |              |\n",
      "| Malaltia renal crònica |    AMB_PA    |   0   |    3062    |    97.05%    |\n",
      "|                        |              |       |            |              |\n",
      "| Malaltia renal crònica |    AMB_PA    |   1   |     93     |    2.95%     |\n",
      "|                        |              |       |            |              |\n",
      "| Malaltia renal crònica | AMB_PA_MECVV |   0   |    223     |    87.80%    |\n",
      "|                        |              |       |            |              |\n",
      "| Malaltia renal crònica | AMB_PA_MECVV |   1   |     31     |    12.20%    |\n",
      "|                        |              |       |            |              |\n",
      "| Malaltia renal crònica |   SENSE_PA   |   0   |    1014    |    88.79%    |\n",
      "|                        |              |       |            |              |\n",
      "| Malaltia renal crònica |   SENSE_PA   |   1   |    128     |    11.21%    |\n",
      "|                        |              |       |            |              |\n",
      "| Malaltia renal crònica |    TOTAL     |   0   |   20798    |    96.56%    |\n",
      "|                        |              |       |            |              |\n",
      "| Malaltia renal crònica |    TOTAL     |   1   |    740     |    3.44%     |\n",
      "|                        |              |       |            |              |\n",
      "|                        |              |       |            |              |\n",
      "|          ARF           |    AMB_PA    |   0   |    2586    |    81.97%    |\n",
      "|                        |              |       |            |              |\n",
      "|          ARF           |    AMB_PA    |   1   |    569     |    18.03%    |\n",
      "|                        |              |       |            |              |\n",
      "|          ARF           | AMB_PA_MECVV |   0   |    165     |    64.96%    |\n",
      "|                        |              |       |            |              |\n",
      "|          ARF           | AMB_PA_MECVV |   1   |     89     |    35.04%    |\n",
      "|                        |              |       |            |              |\n",
      "|          ARF           |   SENSE_PA   |   0   |    646     |    56.57%    |\n",
      "|                        |              |       |            |              |\n",
      "|          ARF           |   SENSE_PA   |   1   |    496     |    43.43%    |\n",
      "|                        |              |       |            |              |\n",
      "|          ARF           |    TOTAL     |   0   |   18855    |    87.54%    |\n",
      "|                        |              |       |            |              |\n",
      "|          ARF           |    TOTAL     |   1   |    2683    |    12.46%    |\n",
      "|                        |              |       |            |              |\n",
      "|                        |              |       |            |              |\n",
      "|        Marejos         |    AMB_PA    |   0   |    3118    |    98.83%    |\n",
      "|                        |              |       |            |              |\n",
      "|        Marejos         |    AMB_PA    |   1   |     37     |    1.17%     |\n",
      "|                        |              |       |            |              |\n",
      "|        Marejos         | AMB_PA_MECVV |   0   |    248     |    97.64%    |\n",
      "|                        |              |       |            |              |\n",
      "|        Marejos         | AMB_PA_MECVV |   1   |     6      |    2.36%     |\n",
      "|                        |              |       |            |              |\n",
      "|        Marejos         |   SENSE_PA   |   0   |    1088    |    95.27%    |\n",
      "|                        |              |       |            |              |\n",
      "|        Marejos         |   SENSE_PA   |   1   |     54     |    4.73%     |\n",
      "|                        |              |       |            |              |\n",
      "|        Marejos         |    TOTAL     |   0   |   21247    |    98.65%    |\n",
      "|                        |              |       |            |              |\n",
      "|        Marejos         |    TOTAL     |   1   |    291     |    1.35%     |\n",
      "|                        |              |       |            |              |\n",
      "|                        |              |       |            |              |\n",
      "|          VIH           |    AMB_PA    |   0   |    3152    |    99.90%    |\n",
      "|                        |              |       |            |              |\n",
      "|          VIH           |    AMB_PA    |   1   |     3      |    0.10%     |\n",
      "|                        |              |       |            |              |\n",
      "|          VIH           | AMB_PA_MECVV |   0   |    254     |   100.00%    |\n",
      "|                        |              |       |            |              |\n",
      "|          VIH           |   SENSE_PA   |   0   |    1137    |    99.56%    |\n",
      "|                        |              |       |            |              |\n",
      "|          VIH           |   SENSE_PA   |   1   |     5      |    0.44%     |\n",
      "|                        |              |       |            |              |\n",
      "|          VIH           |    TOTAL     |   0   |   21521    |    99.92%    |\n",
      "|                        |              |       |            |              |\n",
      "|          VIH           |    TOTAL     |   1   |     17     |    0.08%     |\n",
      "|                        |              |       |            |              |\n",
      "|                        |              |       |            |              |\n",
      "|        Psicosi         |    AMB_PA    |   0   |    3132    |    99.27%    |\n",
      "|                        |              |       |            |              |\n",
      "|        Psicosi         |    AMB_PA    |   1   |     23     |    0.73%     |\n",
      "|                        |              |       |            |              |\n",
      "|        Psicosi         | AMB_PA_MECVV |   0   |    250     |    98.43%    |\n",
      "|                        |              |       |            |              |\n",
      "|        Psicosi         | AMB_PA_MECVV |   1   |     4      |    1.57%     |\n",
      "|                        |              |       |            |              |\n",
      "|        Psicosi         |   SENSE_PA   |   0   |    1132    |    99.12%    |\n",
      "|                        |              |       |            |              |\n",
      "|        Psicosi         |   SENSE_PA   |   1   |     10     |    0.88%     |\n",
      "|                        |              |       |            |              |\n",
      "|        Psicosi         |    TOTAL     |   0   |   21403    |    99.37%    |\n",
      "|                        |              |       |            |              |\n",
      "|        Psicosi         |    TOTAL     |   1   |    135     |    0.63%     |\n",
      "|                        |              |       |            |              |\n",
      "|                        |              |       |            |              |\n",
      "|       Def.nutri        |    AMB_PA    |   0   |    2961    |    93.85%    |\n",
      "|                        |              |       |            |              |\n",
      "|       Def.nutri        |    AMB_PA    |   1   |    194     |    6.15%     |\n",
      "|                        |              |       |            |              |\n",
      "|       Def.nutri        | AMB_PA_MECVV |   0   |    221     |    87.01%    |\n",
      "|                        |              |       |            |              |\n",
      "|       Def.nutri        | AMB_PA_MECVV |   1   |     33     |    12.99%    |\n",
      "|                        |              |       |            |              |\n",
      "|       Def.nutri        |   SENSE_PA   |   0   |    972     |    85.11%    |\n",
      "|                        |              |       |            |              |\n",
      "|       Def.nutri        |   SENSE_PA   |   1   |    170     |    14.89%    |\n",
      "|                        |              |       |            |              |\n",
      "|       Def.nutri        |    TOTAL     |   0   |   20639    |    95.83%    |\n",
      "|                        |              |       |            |              |\n",
      "|       Def.nutri        |    TOTAL     |   1   |    899     |    4.17%     |\n",
      "|                        |              |       |            |              |\n",
      "+------------------------+--------------+-------+------------+--------------+\n"
     ]
    }
   ],
   "source": [
    "llista_dfs = [('AMB_PA', AMB_PA), ('AMB_PA_MECVV', AMB_PA_MECVV), ('SENSE_PA', SENSE_PA), ('TOTAL', TOTAL)]\n",
    "\n",
    "comptatge_i_percentatge_cat(llista_dfs, cat_var_ger)"
   ]
  },
  {
   "cell_type": "markdown",
   "id": "51e761b5c4a999bd",
   "metadata": {},
   "source": [
    "### Mitjanes i desviacions estàndard de variables numèriques per grup"
   ]
  },
  {
   "cell_type": "code",
   "execution_count": 4,
   "id": "901a51185db86fd0",
   "metadata": {
    "ExecuteTime": {
     "end_time": "2024-07-11T12:56:47.288171Z",
     "start_time": "2024-07-11T12:56:47.281156Z"
    }
   },
   "outputs": [
    {
     "name": "stdout",
     "output_type": "stream",
     "text": [
      "+----------+--------------+---------+---------------------+\n",
      "| Columna  |  DataFrame   | Mitjana | Desviació Estàndard |\n",
      "+----------+--------------+---------+---------------------+\n",
      "| Charlson |    AMB_PA    |   7.28  |        13.99        |\n",
      "|          |              |         |                     |\n",
      "| Charlson | AMB_PA_MECVV |  15.89  |        17.87        |\n",
      "|          |              |         |                     |\n",
      "| Charlson |   SENSE_PA   |  23.79  |        24.56        |\n",
      "|          |              |         |                     |\n",
      "| Charlson |    TOTAL     |   6.22  |        14.11        |\n",
      "|          |              |         |                     |\n",
      "|          |              |         |                     |\n",
      "+----------+--------------+---------+---------------------+\n"
     ]
    },
    {
     "name": "stderr",
     "output_type": "stream",
     "text": [
      "C:\\Users\\jmiro\\GitHub\\PRACTICUM\\auxiliary_functions.py:1190: SettingWithCopyWarning: \n",
      "A value is trying to be set on a copy of a slice from a DataFrame.\n",
      "Try using .loc[row_indexer,col_indexer] = value instead\n",
      "\n",
      "See the caveats in the documentation: https://pandas.pydata.org/pandas-docs/stable/user_guide/indexing.html#returning-a-view-versus-a-copy\n",
      "  df[col] = pd.to_numeric(df[col],\n"
     ]
    }
   ],
   "source": [
    "llista_dfs = [('AMB_PA', AMB_PA), ('AMB_PA_MECVV', AMB_PA_MECVV), ('SENSE_PA', SENSE_PA), ('TOTAL', TOTAL)]\n",
    "\n",
    "mitjana_i_std_num(llista_dfs, num_var_ger)"
   ]
  },
  {
   "cell_type": "markdown",
   "id": "89fbabd4869d9b6e",
   "metadata": {},
   "source": [
    "# Síndromes geriàtriques"
   ]
  },
  {
   "cell_type": "markdown",
   "id": "26d9f063eaf602a8",
   "metadata": {},
   "source": [
    "## Index de Charlson"
   ]
  },
  {
   "cell_type": "markdown",
   "id": "7759f395ce8c1a34",
   "metadata": {},
   "source": [
    "#### Comparació distributiva. Test d'independència"
   ]
  },
  {
   "cell_type": "code",
   "execution_count": 5,
   "id": "9432d6033b10b1e1",
   "metadata": {
    "ExecuteTime": {
     "end_time": "2024-07-11T12:56:47.470856Z",
     "start_time": "2024-07-11T12:56:47.289176Z"
    },
    "collapsed": false,
    "jupyter": {
     "outputs_hidden": false
    }
   },
   "outputs": [
    {
     "data": {
      "image/png": "[encoded data removed]",
      "text/plain": [
       "<Figure size 640x480 with 2 Axes>"
      ]
     },
     "metadata": {},
     "output_type": "display_data"
    }
   ],
   "source": [
    "test_indepe_plot(category_labels=TOTAL['Classificació pacient'], numeric_values=TOTAL['Charlson'])"
   ]
  },
  {
   "cell_type": "markdown",
   "id": "baf384c932f5317a",
   "metadata": {
    "collapsed": false,
    "jupyter": {
     "outputs_hidden": false
    }
   },
   "source": [
    "## Caigudes prèvies"
   ]
  },
  {
   "cell_type": "markdown",
   "id": "a1200410af953af1",
   "metadata": {
    "collapsed": false,
    "jupyter": {
     "outputs_hidden": false
    }
   },
   "source": [
    "#### Comparació distributiva. Test d'independència"
   ]
  },
  {
   "cell_type": "code",
   "execution_count": 6,
   "id": "4b98a557c23433a",
   "metadata": {
    "ExecuteTime": {
     "end_time": "2024-07-11T12:56:47.512499Z",
     "start_time": "2024-07-11T12:56:47.472872Z"
    },
    "collapsed": false,
    "jupyter": {
     "outputs_hidden": false
    }
   },
   "outputs": [
    {
     "name": "stdout",
     "output_type": "stream",
     "text": [
      "Chi-squared: 68.9774\n",
      "P-value: 0.0000\n",
      "---\n"
     ]
    },
    {
     "data": {
      "text/plain": [
       "(1.0513492472065528e-15,\n",
       "   Categoria 1   Categoria 2  Chi-squared       P-value\n",
       " 0    SENSE_PA        AMB_PA    38.826403  4.632197e-10\n",
       " 1    SENSE_PA  AMB_PA_MECVV    33.432239  7.379058e-09\n",
       " 2      AMB_PA  AMB_PA_MECVV     9.323809  2.261953e-03)"
      ]
     },
     "execution_count": 6,
     "metadata": {},
     "output_type": "execute_result"
    }
   ],
   "source": [
    "test_indepe_bin_plot(data_1= TOTAL['Classificació pacient'], data_2= TOTAL['Caigudes prèvies'])"
   ]
  },
  {
   "cell_type": "markdown",
   "id": "5eb47a8ac5ba5756",
   "metadata": {
    "collapsed": false,
    "jupyter": {
     "outputs_hidden": false
    }
   },
   "source": [
    "## Deliris"
   ]
  },
  {
   "cell_type": "markdown",
   "id": "4accacd3cfb9357a",
   "metadata": {
    "collapsed": false,
    "jupyter": {
     "outputs_hidden": false
    }
   },
   "source": [
    "#### Comparació distributiva. Test d'independència"
   ]
  },
  {
   "cell_type": "code",
   "execution_count": 7,
   "id": "6b00e16aab85dd06",
   "metadata": {
    "ExecuteTime": {
     "end_time": "2024-07-11T12:56:47.548317Z",
     "start_time": "2024-07-11T12:56:47.512499Z"
    },
    "collapsed": false,
    "jupyter": {
     "outputs_hidden": false
    }
   },
   "outputs": [
    {
     "name": "stdout",
     "output_type": "stream",
     "text": [
      "Chi-squared: 295.5502\n",
      "P-value: 0.0000\n",
      "---\n"
     ]
    },
    {
     "data": {
      "text/plain": [
       "(6.638730218466583e-65,\n",
       "   Categoria 1   Categoria 2  Chi-squared       P-value\n",
       " 0    SENSE_PA        AMB_PA   260.067641  1.658716e-58\n",
       " 1    SENSE_PA  AMB_PA_MECVV    51.662900  6.589624e-13\n",
       " 2      AMB_PA  AMB_PA_MECVV     2.985858  8.399474e-02)"
      ]
     },
     "execution_count": 7,
     "metadata": {},
     "output_type": "execute_result"
    }
   ],
   "source": [
    "test_indepe_bin_plot(data_1= TOTAL['Classificació pacient'], data_2= TOTAL['Deliris'])"
   ]
  },
  {
   "cell_type": "markdown",
   "id": "60e0af1c3171bb18",
   "metadata": {
    "collapsed": false,
    "jupyter": {
     "outputs_hidden": false
    }
   },
   "source": [
    "## Demència"
   ]
  },
  {
   "cell_type": "markdown",
   "id": "f4552bcf1fdce5bc",
   "metadata": {
    "collapsed": false,
    "jupyter": {
     "outputs_hidden": false
    }
   },
   "source": [
    "#### Comparació distributiva. Test d'independència"
   ]
  },
  {
   "cell_type": "code",
   "execution_count": 8,
   "id": "18d05d2a4da9bc6e",
   "metadata": {
    "ExecuteTime": {
     "end_time": "2024-07-11T12:56:47.584096Z",
     "start_time": "2024-07-11T12:56:47.548317Z"
    }
   },
   "outputs": [
    {
     "name": "stdout",
     "output_type": "stream",
     "text": [
      "Chi-squared: 487.7734\n",
      "P-value: 0.0000\n",
      "---\n"
     ]
    },
    {
     "data": {
      "text/plain": [
       "(1.2060309726061119e-106,\n",
       "   Categoria 1   Categoria 2  Chi-squared       P-value\n",
       " 0    SENSE_PA        AMB_PA   435.508117  1.028169e-96\n",
       " 1    SENSE_PA  AMB_PA_MECVV    75.526301  3.605719e-18\n",
       " 2      AMB_PA  AMB_PA_MECVV     4.303369  3.803696e-02)"
      ]
     },
     "execution_count": 8,
     "metadata": {},
     "output_type": "execute_result"
    }
   ],
   "source": [
    "test_indepe_bin_plot(data_1= TOTAL['Classificació pacient'], data_2= TOTAL['Demència'])"
   ]
  },
  {
   "cell_type": "markdown",
   "id": "9a7aabdb0bd2d70",
   "metadata": {
    "collapsed": false,
    "jupyter": {
     "outputs_hidden": false
    }
   },
   "source": [
    "## Síndrome depressiva"
   ]
  },
  {
   "cell_type": "markdown",
   "id": "88c3ba181b1e87d6",
   "metadata": {
    "collapsed": false,
    "jupyter": {
     "outputs_hidden": false
    }
   },
   "source": [
    "#### Comparació distributiva. Test d'independència"
   ]
  },
  {
   "cell_type": "code",
   "execution_count": 9,
   "id": "f980f523180dbefb",
   "metadata": {
    "ExecuteTime": {
     "end_time": "2024-07-11T12:56:47.615249Z",
     "start_time": "2024-07-11T12:56:47.585102Z"
    },
    "collapsed": false,
    "jupyter": {
     "outputs_hidden": false
    }
   },
   "outputs": [
    {
     "name": "stdout",
     "output_type": "stream",
     "text": [
      "Chi-squared: 46.2742\n",
      "P-value: 0.0000\n",
      "---\n"
     ]
    },
    {
     "data": {
      "text/plain": [
       "(8.947115888594285e-11,\n",
       "   Categoria 1   Categoria 2  Chi-squared       P-value\n",
       " 0    SENSE_PA        AMB_PA    14.482073  1.414998e-04\n",
       " 1    SENSE_PA  AMB_PA_MECVV    32.811264  1.015547e-08\n",
       " 2      AMB_PA  AMB_PA_MECVV    17.378681  3.062417e-05)"
      ]
     },
     "execution_count": 9,
     "metadata": {},
     "output_type": "execute_result"
    }
   ],
   "source": [
    "test_indepe_bin_plot(data_1= TOTAL['Classificació pacient'], data_2= TOTAL['Síndrome depressiva'])"
   ]
  },
  {
   "cell_type": "markdown",
   "id": "53bd08a502843f33",
   "metadata": {
    "collapsed": false,
    "jupyter": {
     "outputs_hidden": false
    }
   },
   "source": [
    "## Incontinència urinària"
   ]
  },
  {
   "cell_type": "markdown",
   "id": "d3caedfbd910cdc8",
   "metadata": {
    "collapsed": false,
    "jupyter": {
     "outputs_hidden": false
    }
   },
   "source": [
    "#### Comparació distributiva. Test d'independència"
   ]
  },
  {
   "cell_type": "code",
   "execution_count": 10,
   "id": "f1ed5f99fcafca5",
   "metadata": {
    "ExecuteTime": {
     "end_time": "2024-07-11T12:56:47.647820Z",
     "start_time": "2024-07-11T12:56:47.617252Z"
    }
   },
   "outputs": [
    {
     "name": "stdout",
     "output_type": "stream",
     "text": [
      "Chi-squared: 530.1519\n",
      "P-value: 0.0000\n",
      "---\n"
     ]
    },
    {
     "data": {
      "text/plain": [
       "(7.568107172195669e-116,\n",
       "   Categoria 1   Categoria 2  Chi-squared       P-value\n",
       " 0    SENSE_PA        AMB_PA   447.171288  2.976637e-99\n",
       " 1    SENSE_PA  AMB_PA_MECVV   115.691018  5.554292e-27\n",
       " 2      AMB_PA  AMB_PA_MECVV    12.052452  5.172429e-04)"
      ]
     },
     "execution_count": 10,
     "metadata": {},
     "output_type": "execute_result"
    }
   ],
   "source": [
    "test_indepe_bin_plot(data_1= TOTAL['Classificació pacient'], data_2= TOTAL['Incont.uri'])"
   ]
  },
  {
   "cell_type": "markdown",
   "id": "b1c0e810fed95762",
   "metadata": {
    "collapsed": false,
    "jupyter": {
     "outputs_hidden": false
    }
   },
   "source": [
    "## Incontinència fecal "
   ]
  },
  {
   "cell_type": "markdown",
   "id": "be3f9150be80509c",
   "metadata": {
    "collapsed": false,
    "jupyter": {
     "outputs_hidden": false
    }
   },
   "source": [
    "#### Comparació distributiva. Test d'independència"
   ]
  },
  {
   "cell_type": "code",
   "execution_count": 11,
   "id": "9a828ee1ffd8e81c",
   "metadata": {
    "ExecuteTime": {
     "end_time": "2024-07-11T12:56:47.681067Z",
     "start_time": "2024-07-11T12:56:47.647820Z"
    },
    "collapsed": false,
    "jupyter": {
     "outputs_hidden": false
    }
   },
   "outputs": [
    {
     "name": "stdout",
     "output_type": "stream",
     "text": [
      "Chi-squared: 709.0258\n",
      "P-value: 0.0000\n",
      "---\n"
     ]
    },
    {
     "data": {
      "text/plain": [
       "(1.0889606528994771e-154,\n",
       "   Categoria 1   Categoria 2  Chi-squared        P-value\n",
       " 0    SENSE_PA        AMB_PA   694.128363  5.656371e-153\n",
       " 1    SENSE_PA  AMB_PA_MECVV    46.747729   8.073843e-12\n",
       " 2      AMB_PA  AMB_PA_MECVV     0.312721   5.760155e-01)"
      ]
     },
     "execution_count": 11,
     "metadata": {},
     "output_type": "execute_result"
    }
   ],
   "source": [
    "test_indepe_bin_plot(data_1= TOTAL['Classificació pacient'], data_2= TOTAL['Incont.fec'])"
   ]
  },
  {
   "cell_type": "markdown",
   "id": "12fb2d52f45768f0",
   "metadata": {
    "collapsed": false,
    "jupyter": {
     "outputs_hidden": false
    }
   },
   "source": [
    "## Úlceres de pressió"
   ]
  },
  {
   "cell_type": "markdown",
   "id": "c31f7a0ad909ff1a",
   "metadata": {
    "collapsed": false,
    "jupyter": {
     "outputs_hidden": false
    }
   },
   "source": [
    "#### Comparació distributiva. Test d'independència"
   ]
  },
  {
   "cell_type": "code",
   "execution_count": 12,
   "id": "844300fe32257274",
   "metadata": {
    "ExecuteTime": {
     "end_time": "2024-07-11T12:56:47.711022Z",
     "start_time": "2024-07-11T12:56:47.682075Z"
    },
    "collapsed": false,
    "jupyter": {
     "outputs_hidden": false
    }
   },
   "outputs": [
    {
     "name": "stdout",
     "output_type": "stream",
     "text": [
      "Chi-squared: 164.8916\n",
      "P-value: 0.0000\n",
      "---\n"
     ]
    },
    {
     "data": {
      "text/plain": [
       "(1.564028542913566e-36,\n",
       "   Categoria 1   Categoria 2  Chi-squared       P-value\n",
       " 0    SENSE_PA        AMB_PA   160.608190  8.332353e-37\n",
       " 1    SENSE_PA  AMB_PA_MECVV     6.507594  1.074148e-02\n",
       " 2      AMB_PA  AMB_PA_MECVV     0.108064  7.423594e-01)"
      ]
     },
     "execution_count": 12,
     "metadata": {},
     "output_type": "execute_result"
    }
   ],
   "source": [
    "test_indepe_bin_plot(data_1= TOTAL['Classificació pacient'], data_2= TOTAL['Úlceres pressió'])"
   ]
  },
  {
   "cell_type": "markdown",
   "id": "10103f3571c08987",
   "metadata": {
    "collapsed": false,
    "jupyter": {
     "outputs_hidden": false
    }
   },
   "source": [
    "## Immobilitat"
   ]
  },
  {
   "cell_type": "markdown",
   "id": "e60144e1515572bf",
   "metadata": {
    "collapsed": false,
    "jupyter": {
     "outputs_hidden": false
    }
   },
   "source": [
    "#### Comparació distributiva. Test d'independència"
   ]
  },
  {
   "cell_type": "code",
   "execution_count": 13,
   "id": "7a4f2326df17f1ae",
   "metadata": {
    "ExecuteTime": {
     "end_time": "2024-07-11T12:56:47.746225Z",
     "start_time": "2024-07-11T12:56:47.711022Z"
    }
   },
   "outputs": [
    {
     "name": "stdout",
     "output_type": "stream",
     "text": [
      "Chi-squared: 774.1220\n",
      "P-value: 0.0000\n",
      "---\n"
     ]
    },
    {
     "data": {
      "text/plain": [
       "(7.971659965337803e-169,\n",
       "   Categoria 1   Categoria 2  Chi-squared        P-value\n",
       " 0    SENSE_PA        AMB_PA   657.469655  5.304232e-145\n",
       " 1    SENSE_PA  AMB_PA_MECVV   185.749163   2.693091e-42\n",
       " 2      AMB_PA  AMB_PA_MECVV    14.324842   1.538215e-04)"
      ]
     },
     "execution_count": 13,
     "metadata": {},
     "output_type": "execute_result"
    }
   ],
   "source": [
    "test_indepe_bin_plot(data_1= TOTAL['Classificació pacient'], data_2= TOTAL['Immobilitat'])"
   ]
  },
  {
   "cell_type": "markdown",
   "id": "4029b427d6121536",
   "metadata": {
    "collapsed": false,
    "jupyter": {
     "outputs_hidden": false
    }
   },
   "source": [
    "## Confusió"
   ]
  },
  {
   "cell_type": "markdown",
   "id": "922a3afd76f83e32",
   "metadata": {
    "collapsed": false,
    "jupyter": {
     "outputs_hidden": false
    }
   },
   "source": [
    "#### Comparació distributiva. Test d'independència"
   ]
  },
  {
   "cell_type": "code",
   "execution_count": 14,
   "id": "df9f8a3d3f0ac179",
   "metadata": {
    "ExecuteTime": {
     "end_time": "2024-07-11T12:56:47.783029Z",
     "start_time": "2024-07-11T12:56:47.747233Z"
    },
    "collapsed": false,
    "jupyter": {
     "outputs_hidden": false
    }
   },
   "outputs": [
    {
     "name": "stdout",
     "output_type": "stream",
     "text": [
      "Chi-squared: 295.5502\n",
      "P-value: 0.0000\n",
      "---\n"
     ]
    },
    {
     "data": {
      "text/plain": [
       "(6.638730218466583e-65,\n",
       "   Categoria 1   Categoria 2  Chi-squared       P-value\n",
       " 0    SENSE_PA        AMB_PA   260.067641  1.658716e-58\n",
       " 1    SENSE_PA  AMB_PA_MECVV    51.662900  6.589624e-13\n",
       " 2      AMB_PA  AMB_PA_MECVV     2.985858  8.399474e-02)"
      ]
     },
     "execution_count": 14,
     "metadata": {},
     "output_type": "execute_result"
    }
   ],
   "source": [
    "test_indepe_bin_plot(data_1= TOTAL['Classificació pacient'], data_2= TOTAL['Confusió'])"
   ]
  },
  {
   "cell_type": "markdown",
   "id": "a911fc42fee33a3f",
   "metadata": {
    "collapsed": false,
    "jupyter": {
     "outputs_hidden": false
    }
   },
   "source": [
    "## Osteoporosi"
   ]
  },
  {
   "cell_type": "markdown",
   "id": "5e02314a517b0324",
   "metadata": {
    "collapsed": false,
    "jupyter": {
     "outputs_hidden": false
    }
   },
   "source": [
    "#### Comparació distributiva. Test d'independència"
   ]
  },
  {
   "cell_type": "code",
   "execution_count": 15,
   "id": "5870199b37acf208",
   "metadata": {
    "ExecuteTime": {
     "end_time": "2024-07-11T12:56:47.822492Z",
     "start_time": "2024-07-11T12:56:47.784035Z"
    }
   },
   "outputs": [
    {
     "name": "stdout",
     "output_type": "stream",
     "text": [
      "Chi-squared: 81.4704\n",
      "P-value: 0.0000\n",
      "---\n"
     ]
    },
    {
     "data": {
      "text/plain": [
       "(2.0366589558931237e-18,\n",
       "   Categoria 1   Categoria 2  Chi-squared       P-value\n",
       " 0    SENSE_PA        AMB_PA    59.097332  1.500626e-14\n",
       " 1    SENSE_PA  AMB_PA_MECVV    25.752065  3.882114e-07\n",
       " 2      AMB_PA  AMB_PA_MECVV     5.275118  2.163233e-02)"
      ]
     },
     "execution_count": 15,
     "metadata": {},
     "output_type": "execute_result"
    }
   ],
   "source": [
    "test_indepe_bin_plot(data_1= TOTAL['Classificació pacient'], data_2= TOTAL['Osteoporosi'])"
   ]
  },
  {
   "cell_type": "markdown",
   "id": "a4ceccc28829bbf8",
   "metadata": {
    "collapsed": false,
    "jupyter": {
     "outputs_hidden": false
    }
   },
   "source": [
    "## Sarcopènia"
   ]
  },
  {
   "cell_type": "markdown",
   "id": "8b6bac2184c4e4fe",
   "metadata": {
    "collapsed": false,
    "jupyter": {
     "outputs_hidden": false
    }
   },
   "source": [
    "#### Comparació distributiva. Test d'independència"
   ]
  },
  {
   "cell_type": "code",
   "execution_count": 16,
   "id": "df1356865a2d1d01",
   "metadata": {
    "ExecuteTime": {
     "end_time": "2024-07-11T12:56:47.871663Z",
     "start_time": "2024-07-11T12:56:47.823497Z"
    }
   },
   "outputs": [
    {
     "name": "stdout",
     "output_type": "stream",
     "text": [
      "Chi-squared: 47.5066\n",
      "P-value: 0.0000\n",
      "---\n"
     ]
    },
    {
     "data": {
      "text/plain": [
       "(4.831380429479334e-11,\n",
       "   Categoria 1   Categoria 2  Chi-squared       P-value\n",
       " 0    SENSE_PA        AMB_PA    45.600412  1.450111e-11\n",
       " 1    SENSE_PA  AMB_PA_MECVV     0.000000  1.000000e+00\n",
       " 2      AMB_PA  AMB_PA_MECVV     1.491757  2.219441e-01)"
      ]
     },
     "execution_count": 16,
     "metadata": {},
     "output_type": "execute_result"
    }
   ],
   "source": [
    "test_indepe_bin_plot(data_1= TOTAL['Classificació pacient'], data_2= TOTAL['Sarcopènia'])"
   ]
  },
  {
   "cell_type": "markdown",
   "id": "42407b04d7e606fe",
   "metadata": {
    "collapsed": false,
    "jupyter": {
     "outputs_hidden": false
    }
   },
   "source": [
    "## Trastorns del son"
   ]
  },
  {
   "cell_type": "markdown",
   "id": "d256df3e410a114a",
   "metadata": {
    "collapsed": false,
    "jupyter": {
     "outputs_hidden": false
    }
   },
   "source": [
    "#### Comparació distributiva. Test d'independència"
   ]
  },
  {
   "cell_type": "code",
   "execution_count": 17,
   "id": "1e367dd005ae0ca",
   "metadata": {
    "ExecuteTime": {
     "end_time": "2024-07-11T12:56:47.910188Z",
     "start_time": "2024-07-11T12:56:47.872669Z"
    }
   },
   "outputs": [
    {
     "name": "stdout",
     "output_type": "stream",
     "text": [
      "Chi-squared: 35.2660\n",
      "P-value: 0.0000\n",
      "---\n"
     ]
    },
    {
     "data": {
      "text/plain": [
       "(2.1982902775033917e-08,\n",
       "   Categoria 1   Categoria 2  Chi-squared       P-value\n",
       " 0    SENSE_PA        AMB_PA    15.823153  6.954629e-05\n",
       " 1    SENSE_PA  AMB_PA_MECVV    15.921750  6.601570e-05\n",
       " 2      AMB_PA  AMB_PA_MECVV    30.357378  3.593375e-08)"
      ]
     },
     "execution_count": 17,
     "metadata": {},
     "output_type": "execute_result"
    }
   ],
   "source": [
    "test_indepe_bin_plot(data_1= TOTAL['Classificació pacient'], data_2= TOTAL['Probl.son'])"
   ]
  },
  {
   "cell_type": "markdown",
   "id": "db09148e693d9533",
   "metadata": {
    "collapsed": false,
    "jupyter": {
     "outputs_hidden": false
    }
   },
   "source": [
    "## Dolor crònic"
   ]
  },
  {
   "cell_type": "markdown",
   "id": "585bf20aac216d98",
   "metadata": {
    "collapsed": false,
    "jupyter": {
     "outputs_hidden": false
    }
   },
   "source": [
    "#### Comparació distributiva. Test d'independència"
   ]
  },
  {
   "cell_type": "code",
   "execution_count": 18,
   "id": "e8540e0cc29c39f3",
   "metadata": {
    "ExecuteTime": {
     "end_time": "2024-07-11T12:56:47.928988Z",
     "start_time": "2024-07-11T12:56:47.911197Z"
    }
   },
   "outputs": [
    {
     "name": "stdout",
     "output_type": "stream",
     "text": [
      "Chi-squared: 2.7087\n",
      "P-value: 0.2581\n",
      "---\n"
     ]
    },
    {
     "data": {
      "text/plain": [
       "0.2581180382440347"
      ]
     },
     "execution_count": 18,
     "metadata": {},
     "output_type": "execute_result"
    }
   ],
   "source": [
    "test_indepe_bin_plot(data_1= TOTAL['Classificació pacient'], data_2= TOTAL['Dolor crònic'])"
   ]
  },
  {
   "cell_type": "markdown",
   "id": "696cb8980ad9a236",
   "metadata": {
    "collapsed": false,
    "jupyter": {
     "outputs_hidden": false
    }
   },
   "source": [
    "## Iatrogènia"
   ]
  },
  {
   "cell_type": "markdown",
   "id": "9350c5136b23c7eb",
   "metadata": {
    "collapsed": false,
    "jupyter": {
     "outputs_hidden": false
    }
   },
   "source": [
    "#### Comparació distributiva. Test d'independència"
   ]
  },
  {
   "cell_type": "code",
   "execution_count": 19,
   "id": "838fe68385ca5ca6",
   "metadata": {
    "ExecuteTime": {
     "end_time": "2024-07-11T12:56:47.943388Z",
     "start_time": "2024-07-11T12:56:47.929995Z"
    }
   },
   "outputs": [
    {
     "name": "stdout",
     "output_type": "stream",
     "text": [
      "Chi-squared: 5.8269\n",
      "P-value: 0.0543\n",
      "---\n"
     ]
    },
    {
     "data": {
      "text/plain": [
       "0.054288249615978196"
      ]
     },
     "execution_count": 19,
     "metadata": {},
     "output_type": "execute_result"
    }
   ],
   "source": [
    "test_indepe_bin_plot(data_1= TOTAL['Classificació pacient'], data_2= TOTAL['Iatrogènia'])"
   ]
  },
  {
   "cell_type": "markdown",
   "id": "ea5901b91abf6735",
   "metadata": {
    "collapsed": false,
    "jupyter": {
     "outputs_hidden": false
    }
   },
   "source": [
    "## Restrenyiment"
   ]
  },
  {
   "cell_type": "markdown",
   "id": "3691bfe5f1501d8",
   "metadata": {
    "collapsed": false,
    "jupyter": {
     "outputs_hidden": false
    }
   },
   "source": [
    "#### Comparació distributiva. Test d'independència"
   ]
  },
  {
   "cell_type": "code",
   "execution_count": 20,
   "id": "b4c7a022e0787001",
   "metadata": {
    "ExecuteTime": {
     "end_time": "2024-07-11T12:56:47.982770Z",
     "start_time": "2024-07-11T12:56:47.944395Z"
    },
    "collapsed": false,
    "jupyter": {
     "outputs_hidden": false
    }
   },
   "outputs": [
    {
     "name": "stdout",
     "output_type": "stream",
     "text": [
      "Chi-squared: 205.1246\n",
      "P-value: 0.0000\n",
      "---\n"
     ]
    },
    {
     "data": {
      "text/plain": [
       "(2.869232180662262e-45,\n",
       "   Categoria 1   Categoria 2  Chi-squared       P-value\n",
       " 0    SENSE_PA        AMB_PA   140.427728  2.146251e-32\n",
       " 1    SENSE_PA  AMB_PA_MECVV    83.346209  6.887074e-20\n",
       " 2      AMB_PA  AMB_PA_MECVV    14.481979  1.415068e-04)"
      ]
     },
     "execution_count": 20,
     "metadata": {},
     "output_type": "execute_result"
    }
   ],
   "source": [
    "test_indepe_bin_plot(data_1= TOTAL['Classificació pacient'], data_2= TOTAL['Restrenyiment'])"
   ]
  },
  {
   "cell_type": "markdown",
   "id": "cfd2024c6d949f31",
   "metadata": {
    "collapsed": false,
    "jupyter": {
     "outputs_hidden": false
    }
   },
   "source": [
    "# Historial mèdic/comorbiditats"
   ]
  },
  {
   "cell_type": "markdown",
   "id": "50f5349d245209c8",
   "metadata": {
    "collapsed": false,
    "jupyter": {
     "outputs_hidden": false
    }
   },
   "source": [
    "## Malalties cerebrovasculars"
   ]
  },
  {
   "cell_type": "markdown",
   "id": "9356a2dc24397671",
   "metadata": {
    "collapsed": false,
    "jupyter": {
     "outputs_hidden": false
    }
   },
   "source": [
    "#### Comparació distributiva. Test d'independència"
   ]
  },
  {
   "cell_type": "code",
   "execution_count": 21,
   "id": "f4d4d261c16bb77e",
   "metadata": {
    "ExecuteTime": {
     "end_time": "2024-07-11T12:56:48.018407Z",
     "start_time": "2024-07-11T12:56:47.984776Z"
    }
   },
   "outputs": [
    {
     "name": "stdout",
     "output_type": "stream",
     "text": [
      "Chi-squared: 114.3824\n",
      "P-value: 0.0000\n",
      "---\n"
     ]
    },
    {
     "data": {
      "text/plain": [
       "(1.4527282004533052e-25,\n",
       "   Categoria 1   Categoria 2  Chi-squared       P-value\n",
       " 0    SENSE_PA        AMB_PA    56.564230  5.439234e-14\n",
       " 1    SENSE_PA  AMB_PA_MECVV    66.301302  3.870030e-16\n",
       " 2      AMB_PA  AMB_PA_MECVV    19.027791  1.288284e-05)"
      ]
     },
     "execution_count": 21,
     "metadata": {},
     "output_type": "execute_result"
    }
   ],
   "source": [
    "test_indepe_bin_plot(data_1= TOTAL['Classificació pacient'], data_2= TOTAL['CV'])"
   ]
  },
  {
   "cell_type": "markdown",
   "id": "ccb034e70398680a",
   "metadata": {},
   "source": [
    "## Malalties cardíaques"
   ]
  },
  {
   "cell_type": "markdown",
   "id": "a6c0069e93bb4b47",
   "metadata": {},
   "source": [
    "#### Comparació distributiva. Test d'independència"
   ]
  },
  {
   "cell_type": "code",
   "execution_count": 22,
   "id": "69c40b42e11ea15c",
   "metadata": {
    "ExecuteTime": {
     "end_time": "2024-07-11T12:56:48.061441Z",
     "start_time": "2024-07-11T12:56:48.018407Z"
    }
   },
   "outputs": [
    {
     "name": "stdout",
     "output_type": "stream",
     "text": [
      "Chi-squared: 66.8277\n",
      "P-value: 0.0000\n",
      "---\n"
     ]
    },
    {
     "data": {
      "text/plain": [
       "(3.080043249817629e-15,\n",
       "   Categoria 1   Categoria 2  Chi-squared       P-value\n",
       " 0    SENSE_PA        AMB_PA     0.669959  4.130659e-01\n",
       " 1    SENSE_PA  AMB_PA_MECVV    64.755613  8.478776e-16\n",
       " 2      AMB_PA  AMB_PA_MECVV    52.090790  5.299289e-13)"
      ]
     },
     "execution_count": 22,
     "metadata": {},
     "output_type": "execute_result"
    }
   ],
   "source": [
    "test_indepe_bin_plot(data_1= TOTAL['Classificació pacient'], data_2= TOTAL['Probl.cor'])"
   ]
  },
  {
   "cell_type": "markdown",
   "id": "18c9cce147e62274",
   "metadata": {},
   "source": [
    "## Malalties neurodegeneratives"
   ]
  },
  {
   "cell_type": "markdown",
   "id": "13d4492161572489",
   "metadata": {},
   "source": [
    "#### Comparació distributiva. Test d'independència"
   ]
  },
  {
   "cell_type": "code",
   "execution_count": 23,
   "id": "46de9d9768c30a9f",
   "metadata": {
    "ExecuteTime": {
     "end_time": "2024-07-11T12:56:48.105655Z",
     "start_time": "2024-07-11T12:56:48.062446Z"
    }
   },
   "outputs": [
    {
     "name": "stdout",
     "output_type": "stream",
     "text": [
      "Chi-squared: 89.3452\n",
      "P-value: 0.0000\n",
      "---\n"
     ]
    },
    {
     "data": {
      "text/plain": [
       "(3.97137091455024e-20,\n",
       "   Categoria 1   Categoria 2  Chi-squared       P-value\n",
       " 0    SENSE_PA        AMB_PA    61.308138  4.880588e-15\n",
       " 1    SENSE_PA  AMB_PA_MECVV    33.225140  8.208245e-09\n",
       " 2      AMB_PA  AMB_PA_MECVV     5.961644  1.462040e-02)"
      ]
     },
     "execution_count": 23,
     "metadata": {},
     "output_type": "execute_result"
    }
   ],
   "source": [
    "test_indepe_bin_plot(data_1= TOTAL['Classificació pacient'], data_2= TOTAL['Neurodegeneratives'])"
   ]
  },
  {
   "cell_type": "markdown",
   "id": "42b942e8587dc0c3",
   "metadata": {},
   "source": [
    "## Diabetis mellitus"
   ]
  },
  {
   "cell_type": "markdown",
   "id": "39c5da893c7deb9c",
   "metadata": {},
   "source": [
    "#### Comparació distributiva. Test d'independència"
   ]
  },
  {
   "cell_type": "code",
   "execution_count": 24,
   "id": "23433b42464349ab",
   "metadata": {
    "ExecuteTime": {
     "end_time": "2024-07-11T12:56:48.149338Z",
     "start_time": "2024-07-11T12:56:48.105655Z"
    }
   },
   "outputs": [
    {
     "name": "stdout",
     "output_type": "stream",
     "text": [
      "Chi-squared: 56.4361\n",
      "P-value: 0.0000\n",
      "---\n"
     ]
    },
    {
     "data": {
      "text/plain": [
       "(5.559677689475769e-13,\n",
       "   Categoria 1   Categoria 2  Chi-squared       P-value\n",
       " 0    SENSE_PA        AMB_PA    10.797550  1.016345e-03\n",
       " 1    SENSE_PA  AMB_PA_MECVV    46.598776  8.711466e-12\n",
       " 2      AMB_PA  AMB_PA_MECVV    29.148339  6.704320e-08)"
      ]
     },
     "execution_count": 24,
     "metadata": {},
     "output_type": "execute_result"
    }
   ],
   "source": [
    "test_indepe_bin_plot(data_1= TOTAL['Classificació pacient'], data_2= TOTAL['DM'])"
   ]
  },
  {
   "cell_type": "markdown",
   "id": "772c1f476c2f3d43",
   "metadata": {},
   "source": [
    "## Hepatopaties"
   ]
  },
  {
   "cell_type": "markdown",
   "id": "ee084e9b17270c10",
   "metadata": {},
   "source": [
    "#### Comparació distributiva. Test d'independència"
   ]
  },
  {
   "cell_type": "code",
   "execution_count": 25,
   "id": "aa2a6ecd3965fece",
   "metadata": {
    "ExecuteTime": {
     "end_time": "2024-07-11T12:56:48.193190Z",
     "start_time": "2024-07-11T12:56:48.150342Z"
    }
   },
   "outputs": [
    {
     "name": "stdout",
     "output_type": "stream",
     "text": [
      "Chi-squared: 10.6659\n",
      "P-value: 0.0048\n",
      "---\n"
     ]
    },
    {
     "data": {
      "text/plain": [
       "(0.0048298214097055635,\n",
       "   Categoria 1   Categoria 2  Chi-squared   P-value\n",
       " 0    SENSE_PA        AMB_PA     7.133418  0.007566\n",
       " 1    SENSE_PA  AMB_PA_MECVV     2.303298  0.129100\n",
       " 2      AMB_PA  AMB_PA_MECVV     5.676852  0.017190)"
      ]
     },
     "execution_count": 25,
     "metadata": {},
     "output_type": "execute_result"
    }
   ],
   "source": [
    "test_indepe_bin_plot(data_1= TOTAL['Classificació pacient'], data_2= TOTAL['Hepatopaties'])"
   ]
  },
  {
   "cell_type": "markdown",
   "id": "959b58aaaaab994b",
   "metadata": {},
   "source": [
    "## Neoplàsies"
   ]
  },
  {
   "cell_type": "markdown",
   "id": "338c0f6458d8be19",
   "metadata": {},
   "source": [
    "#### Comparació distributiva. Test d'independència"
   ]
  },
  {
   "cell_type": "code",
   "execution_count": 26,
   "id": "28ff989a55478f46",
   "metadata": {
    "ExecuteTime": {
     "end_time": "2024-07-11T12:56:48.226105Z",
     "start_time": "2024-07-11T12:56:48.194196Z"
    }
   },
   "outputs": [
    {
     "name": "stdout",
     "output_type": "stream",
     "text": [
      "Chi-squared: 24.1764\n",
      "P-value: 0.0000\n",
      "---\n"
     ]
    },
    {
     "data": {
      "text/plain": [
       "(5.6255099137405326e-06,\n",
       "   Categoria 1   Categoria 2  Chi-squared   P-value\n",
       " 0    SENSE_PA        AMB_PA    12.416317  0.000426\n",
       " 1    SENSE_PA  AMB_PA_MECVV     9.443246  0.002119\n",
       " 2      AMB_PA  AMB_PA_MECVV    18.201155  0.000020)"
      ]
     },
     "execution_count": 26,
     "metadata": {},
     "output_type": "execute_result"
    }
   ],
   "source": [
    "test_indepe_bin_plot(data_1= TOTAL['Classificació pacient'], data_2= TOTAL['Neoplàsies'])"
   ]
  },
  {
   "cell_type": "markdown",
   "id": "be977a70d2e9a7c",
   "metadata": {},
   "source": [
    "## Malaltia renal crònica (creatinina > 1.5mg/dL)"
   ]
  },
  {
   "cell_type": "markdown",
   "id": "9a0ec8b221656a8a",
   "metadata": {},
   "source": [
    "#### Comparació distributiva. Test d'independència"
   ]
  },
  {
   "cell_type": "code",
   "execution_count": 27,
   "id": "f4d30539577b7487",
   "metadata": {
    "ExecuteTime": {
     "end_time": "2024-07-11T12:56:48.256712Z",
     "start_time": "2024-07-11T12:56:48.227118Z"
    }
   },
   "outputs": [
    {
     "name": "stdout",
     "output_type": "stream",
     "text": [
      "Chi-squared: 64.6072\n",
      "P-value: 0.0000\n",
      "---\n"
     ]
    },
    {
     "data": {
      "text/plain": [
       "(9.34808880662324e-15,\n",
       "   Categoria 1   Categoria 2  Chi-squared       P-value\n",
       " 0    SENSE_PA        AMB_PA     1.657404  1.979542e-01\n",
       " 1    SENSE_PA  AMB_PA_MECVV    57.459396  3.450290e-14\n",
       " 2      AMB_PA  AMB_PA_MECVV    59.050049  1.537121e-14)"
      ]
     },
     "execution_count": 27,
     "metadata": {},
     "output_type": "execute_result"
    }
   ],
   "source": [
    "test_indepe_bin_plot(data_1= TOTAL['Classificació pacient'], data_2= TOTAL['Malaltia renal crònica'])"
   ]
  },
  {
   "cell_type": "markdown",
   "id": "2a45b7c462b693cc",
   "metadata": {},
   "source": [
    "## Insuficiència renal aguda"
   ]
  },
  {
   "cell_type": "markdown",
   "id": "fa90e43bd79a9017",
   "metadata": {},
   "source": [
    "#### Comparació distributiva. Test d'independència"
   ]
  },
  {
   "cell_type": "code",
   "execution_count": 28,
   "id": "df48bffd92d01d88",
   "metadata": {
    "ExecuteTime": {
     "end_time": "2024-07-11T12:56:48.290796Z",
     "start_time": "2024-07-11T12:56:48.259736Z"
    }
   },
   "outputs": [
    {
     "name": "stdout",
     "output_type": "stream",
     "text": [
      "Chi-squared: 191.6908\n",
      "P-value: 0.0000\n",
      "---\n"
     ]
    },
    {
     "data": {
      "text/plain": [
       "(2.37070254917733e-42,\n",
       "   Categoria 1   Categoria 2  Chi-squared       P-value\n",
       " 0    SENSE_PA        AMB_PA   113.642167  1.560797e-26\n",
       " 1    SENSE_PA  AMB_PA_MECVV    90.193482  2.159724e-21\n",
       " 2      AMB_PA  AMB_PA_MECVV    27.695153  1.420181e-07)"
      ]
     },
     "execution_count": 28,
     "metadata": {},
     "output_type": "execute_result"
    }
   ],
   "source": [
    "test_indepe_bin_plot(data_1= TOTAL['Classificació pacient'], data_2= TOTAL['ARF'])"
   ]
  },
  {
   "cell_type": "markdown",
   "id": "b569dbe66e8fcbe9",
   "metadata": {},
   "source": [
    "## Marejos, síncope, lipotímia i/o reacció vasovagal"
   ]
  },
  {
   "cell_type": "markdown",
   "id": "c2ea9a79012bd56",
   "metadata": {},
   "source": [
    "#### Comparació distributiva. Test d'independència"
   ]
  },
  {
   "cell_type": "code",
   "execution_count": 29,
   "id": "c7a5c926552c45ea",
   "metadata": {
    "ExecuteTime": {
     "end_time": "2024-07-11T12:56:48.305069Z",
     "start_time": "2024-07-11T12:56:48.291801Z"
    }
   },
   "outputs": [
    {
     "name": "stdout",
     "output_type": "stream",
     "text": [
      "Chi-squared: 1.7156\n",
      "P-value: 0.4241\n",
      "---\n"
     ]
    },
    {
     "data": {
      "text/plain": [
       "0.4241004096049771"
      ]
     },
     "execution_count": 29,
     "metadata": {},
     "output_type": "execute_result"
    }
   ],
   "source": [
    "test_indepe_bin_plot(data_1= TOTAL['Classificació pacient'], data_2= TOTAL['Marejos'])"
   ]
  },
  {
   "cell_type": "markdown",
   "id": "3e66ec61ceed6da8",
   "metadata": {},
   "source": [
    "## VIH"
   ]
  },
  {
   "cell_type": "markdown",
   "id": "803ff9173540722b",
   "metadata": {},
   "source": [
    "#### Comparació distributiva. Test d'independència"
   ]
  },
  {
   "cell_type": "code",
   "execution_count": 30,
   "id": "44466ae091025bfa",
   "metadata": {
    "ExecuteTime": {
     "end_time": "2024-07-11T12:56:48.320051Z",
     "start_time": "2024-07-11T12:56:48.306073Z"
    }
   },
   "outputs": [
    {
     "name": "stdout",
     "output_type": "stream",
     "text": [
      "Chi-squared: 0.2605\n",
      "P-value: 0.8779\n",
      "---\n"
     ]
    },
    {
     "data": {
      "text/plain": [
       "0.8778618045050244"
      ]
     },
     "execution_count": 30,
     "metadata": {},
     "output_type": "execute_result"
    }
   ],
   "source": [
    "test_indepe_bin_plot(data_1= TOTAL['Classificació pacient'], data_2= TOTAL['VIH'])"
   ]
  },
  {
   "cell_type": "markdown",
   "id": "8e295a7fd16fa508",
   "metadata": {},
   "source": [
    "## Psicosi"
   ]
  },
  {
   "cell_type": "markdown",
   "id": "f7e56f1eaa4a1121",
   "metadata": {},
   "source": [
    "#### Comparació distributiva. Test d'independència"
   ]
  },
  {
   "cell_type": "code",
   "execution_count": 31,
   "id": "fa6dc9d7840f038",
   "metadata": {
    "ExecuteTime": {
     "end_time": "2024-07-11T12:56:48.332372Z",
     "start_time": "2024-07-11T12:56:48.321056Z"
    }
   },
   "outputs": [
    {
     "name": "stdout",
     "output_type": "stream",
     "text": [
      "Chi-squared: 3.6586\n",
      "P-value: 0.1605\n",
      "---\n"
     ]
    },
    {
     "data": {
      "text/plain": [
       "0.16052461595255818"
      ]
     },
     "execution_count": 31,
     "metadata": {},
     "output_type": "execute_result"
    }
   ],
   "source": [
    "test_indepe_bin_plot(data_1= TOTAL['Classificació pacient'], data_2= TOTAL['Psicosi'])"
   ]
  },
  {
   "cell_type": "markdown",
   "id": "fd2da9ae3b318047",
   "metadata": {},
   "source": [
    "## Deficiències nutricionals"
   ]
  },
  {
   "cell_type": "markdown",
   "id": "d4bc9fe19efb8762",
   "metadata": {},
   "source": [
    "#### Comparació distributiva. Test d'independència"
   ]
  },
  {
   "cell_type": "code",
   "execution_count": 32,
   "id": "8622d081883aca5c",
   "metadata": {
    "ExecuteTime": {
     "end_time": "2024-07-11T12:56:48.369104Z",
     "start_time": "2024-07-11T12:56:48.333379Z"
    }
   },
   "outputs": [
    {
     "name": "stdout",
     "output_type": "stream",
     "text": [
      "Chi-squared: 58.5270\n",
      "P-value: 0.0000\n",
      "---\n"
     ]
    },
    {
     "data": {
      "text/plain": [
       "(1.954400932526513e-13,\n",
       "   Categoria 1   Categoria 2  Chi-squared       P-value\n",
       " 0    SENSE_PA        AMB_PA    38.133203  6.607611e-10\n",
       " 1    SENSE_PA  AMB_PA_MECVV    22.523059  2.076361e-06\n",
       " 2      AMB_PA  AMB_PA_MECVV     5.465429  1.939629e-02)"
      ]
     },
     "execution_count": 32,
     "metadata": {},
     "output_type": "execute_result"
    }
   ],
   "source": [
    "test_indepe_bin_plot(data_1= TOTAL['Classificació pacient'], data_2= TOTAL['Def.nutri'])"
   ]
  }
 ],
 "metadata": {
  "kernelspec": {
   "display_name": "Python 3 (ipykernel)",
   "language": "python",
   "name": "python3"
  },
  "language_info": {
   "codemirror_mode": {
    "name": "ipython",
    "version": 3
   },
   "file_extension": ".py",
   "mimetype": "text/x-python",
   "name": "python",
   "nbconvert_exporter": "python",
   "pygments_lexer": "ipython3",
   "version": "3.12.4"
  }
 },
 "nbformat": 4,
 "nbformat_minor": 5
}
