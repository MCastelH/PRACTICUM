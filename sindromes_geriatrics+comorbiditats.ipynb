{
 "cells": [
  {
   "cell_type": "code",
   "id": "a15ccf288860fa4e",
   "metadata": {
    "collapsed": true,
    "ExecuteTime": {
     "end_time": "2024-06-14T07:36:01.077455Z",
     "start_time": "2024-06-14T07:36:00.254555Z"
    }
   },
   "source": [
    "import pandas as pd\n",
    "taula = pd.read_pickle('./data/processed/dataframe.pkl')\n",
    "\n",
    "from listas import cat_var_ger, num_var_ger"
   ],
   "outputs": [],
   "execution_count": 1
  },
  {
   "metadata": {
    "ExecuteTime": {
     "end_time": "2024-06-14T07:36:02.921160Z",
     "start_time": "2024-06-14T07:36:01.078065Z"
    }
   },
   "cell_type": "code",
   "source": "from auxiliary_functions import test_indepe_plot, test_indepe_bin_plot, mitjana_i_std_num, comptatge_i_percentatge_cat ",
   "id": "initial_id",
   "outputs": [],
   "execution_count": 2
  },
  {
   "metadata": {
    "ExecuteTime": {
     "end_time": "2024-06-14T07:36:02.937803Z",
     "start_time": "2024-06-14T07:36:02.922692Z"
    }
   },
   "cell_type": "code",
   "source": [
    "AMB_PA = taula[taula[\"PA diagnosticada\"] == 1.0]\n",
    "AMB_PA_MECVV = taula[\n",
    "    (taula[\"Dies entre primer ICD pneumònia i primer MECVV positiu\"] < 30)]\n",
    "SENSE_PA = taula[\n",
    "           (taula[\"Dies entre primer ICD pneumònia i primer MECVV positiu\"] > 30) &\n",
    "           (taula['P diagnosticada'] == 1.0)]\n",
    "TOTAL = taula"
   ],
   "id": "66ee0565100b2096",
   "outputs": [],
   "execution_count": 3
  },
  {
   "metadata": {},
   "cell_type": "markdown",
   "source": "# Anàlisi descriptiva de les dades",
   "id": "680f94430180eb9c"
  },
  {
   "metadata": {},
   "cell_type": "markdown",
   "source": "### Comptatges i percentatges de variables categòriques per grup",
   "id": "d11723029315b688"
  },
  {
   "metadata": {
    "ExecuteTime": {
     "end_time": "2024-06-14T07:36:03.054388Z",
     "start_time": "2024-06-14T07:36:02.939563Z"
    }
   },
   "cell_type": "code",
   "source": [
    "llista_dfs = [('AMB_PA', AMB_PA), ('AMB_PA_MECVV', AMB_PA_MECVV), ('SENSE_PA', SENSE_PA), ('TOTAL', TOTAL)]\n",
    "\n",
    "comptatge_i_percentatge_cat(llista_dfs, cat_var_ger)"
   ],
   "id": "72e101ba082a6994",
   "outputs": [
    {
     "name": "stdout",
     "output_type": "stream",
     "text": [
      "+------------------------+--------------+-------+------------+--------------+\n",
      "|        Columna         |  DataFrame   | Valor | Comptatges | Percentatges |\n",
      "+------------------------+--------------+-------+------------+--------------+\n",
      "|    Caigudes prèvies    |    AMB_PA    |  0.0  |     17     |    94.44%    |\n",
      "|                        |              |  1.0  |     1      |    5.56%     |\n",
      "|                        |              |       |            |              |\n",
      "|    Caigudes prèvies    | AMB_PA_MECVV |  0.0  |     6      |   100.00%    |\n",
      "|                        |              |       |            |              |\n",
      "|    Caigudes prèvies    |   SENSE_PA   |  0.0  |     9      |    90.00%    |\n",
      "|                        |              |  1.0  |     1      |    10.00%    |\n",
      "|                        |              |       |            |              |\n",
      "|    Caigudes prèvies    |    TOTAL     |  0.0  |     39     |    92.86%    |\n",
      "|                        |              |  1.0  |     3      |    7.14%     |\n",
      "|                        |              |       |            |              |\n",
      "|        Deliris         |    AMB_PA    |  0.0  |     14     |    77.78%    |\n",
      "|                        |              |  1.0  |     4      |    22.22%    |\n",
      "|                        |              |       |            |              |\n",
      "|        Deliris         | AMB_PA_MECVV |  0.0  |     4      |    66.67%    |\n",
      "|                        |              |  1.0  |     2      |    33.33%    |\n",
      "|                        |              |       |            |              |\n",
      "|        Deliris         |   SENSE_PA   |  0.0  |     5      |    50.00%    |\n",
      "|                        |              |  1.0  |     5      |    50.00%    |\n",
      "|                        |              |       |            |              |\n",
      "|        Deliris         |    TOTAL     |  0.0  |     32     |    76.19%    |\n",
      "|                        |              |  1.0  |     10     |    23.81%    |\n",
      "|                        |              |       |            |              |\n",
      "|        Demència        |    AMB_PA    |  0.0  |     9      |    50.00%    |\n",
      "|                        |              |  1.0  |     9      |    50.00%    |\n",
      "|                        |              |       |            |              |\n",
      "|        Demència        | AMB_PA_MECVV |  0.0  |     5      |    83.33%    |\n",
      "|                        |              |  1.0  |     1      |    16.67%    |\n",
      "|                        |              |       |            |              |\n",
      "|        Demència        |   SENSE_PA   |  1.0  |     6      |    60.00%    |\n",
      "|                        |              |  0.0  |     4      |    40.00%    |\n",
      "|                        |              |       |            |              |\n",
      "|        Demència        |    TOTAL     |  0.0  |     26     |    61.90%    |\n",
      "|                        |              |  1.0  |     16     |    38.10%    |\n",
      "|                        |              |       |            |              |\n",
      "|   Síndrome depressiu   |    AMB_PA    |  0.0  |     14     |    77.78%    |\n",
      "|                        |              |  1.0  |     4      |    22.22%    |\n",
      "|                        |              |       |            |              |\n",
      "|   Síndrome depressiu   | AMB_PA_MECVV |  0.0  |     6      |   100.00%    |\n",
      "|                        |              |       |            |              |\n",
      "|   Síndrome depressiu   |   SENSE_PA   |  0.0  |     8      |    80.00%    |\n",
      "|                        |              |  1.0  |     2      |    20.00%    |\n",
      "|                        |              |       |            |              |\n",
      "|   Síndrome depressiu   |    TOTAL     |  0.0  |     35     |    83.33%    |\n",
      "|                        |              |  1.0  |     7      |    16.67%    |\n",
      "|                        |              |       |            |              |\n",
      "|       Incont.uri       |    AMB_PA    |  0.0  |     13     |    72.22%    |\n",
      "|                        |              |  1.0  |     5      |    27.78%    |\n",
      "|                        |              |       |            |              |\n",
      "|       Incont.uri       | AMB_PA_MECVV |  0.0  |     3      |    50.00%    |\n",
      "|                        |              |  1.0  |     3      |    50.00%    |\n",
      "|                        |              |       |            |              |\n",
      "|       Incont.uri       |   SENSE_PA   |  0.0  |     9      |    90.00%    |\n",
      "|                        |              |  1.0  |     1      |    10.00%    |\n",
      "|                        |              |       |            |              |\n",
      "|       Incont.uri       |    TOTAL     |  0.0  |     34     |    80.95%    |\n",
      "|                        |              |  1.0  |     8      |    19.05%    |\n",
      "|                        |              |       |            |              |\n",
      "|       Incont.fec       |    AMB_PA    |  0.0  |     13     |    72.22%    |\n",
      "|                        |              |  1.0  |     5      |    27.78%    |\n",
      "|                        |              |       |            |              |\n",
      "|       Incont.fec       | AMB_PA_MECVV |  0.0  |     5      |    83.33%    |\n",
      "|                        |              |  1.0  |     1      |    16.67%    |\n",
      "|                        |              |       |            |              |\n",
      "|       Incont.fec       |   SENSE_PA   |  0.0  |     9      |    90.00%    |\n",
      "|                        |              |  1.0  |     1      |    10.00%    |\n",
      "|                        |              |       |            |              |\n",
      "|       Incont.fec       |    TOTAL     |  0.0  |     36     |    85.71%    |\n",
      "|                        |              |  1.0  |     6      |    14.29%    |\n",
      "|                        |              |       |            |              |\n",
      "|    Úlceres pressió     |    AMB_PA    |  0.0  |     17     |    94.44%    |\n",
      "|                        |              |  1.0  |     1      |    5.56%     |\n",
      "|                        |              |       |            |              |\n",
      "|    Úlceres pressió     | AMB_PA_MECVV |  0.0  |     6      |   100.00%    |\n",
      "|                        |              |       |            |              |\n",
      "|    Úlceres pressió     |   SENSE_PA   |  0.0  |     10     |   100.00%    |\n",
      "|                        |              |       |            |              |\n",
      "|    Úlceres pressió     |    TOTAL     |  0.0  |     41     |    97.62%    |\n",
      "|                        |              |  1.0  |     1      |    2.38%     |\n",
      "|                        |              |       |            |              |\n",
      "|      Immobilitat       |    AMB_PA    |  0.0  |     18     |   100.00%    |\n",
      "|                        |              |       |            |              |\n",
      "|      Immobilitat       | AMB_PA_MECVV |  0.0  |     6      |   100.00%    |\n",
      "|                        |              |       |            |              |\n",
      "|      Immobilitat       |   SENSE_PA   |  0.0  |     10     |   100.00%    |\n",
      "|                        |              |       |            |              |\n",
      "|      Immobilitat       |    TOTAL     |  0.0  |     42     |   100.00%    |\n",
      "|                        |              |       |            |              |\n",
      "|        Confusió        |    AMB_PA    |  0.0  |     14     |    77.78%    |\n",
      "|                        |              |  1.0  |     4      |    22.22%    |\n",
      "|                        |              |       |            |              |\n",
      "|        Confusió        | AMB_PA_MECVV |  0.0  |     4      |    66.67%    |\n",
      "|                        |              |  1.0  |     2      |    33.33%    |\n",
      "|                        |              |       |            |              |\n",
      "|        Confusió        |   SENSE_PA   |  0.0  |     5      |    50.00%    |\n",
      "|                        |              |  1.0  |     5      |    50.00%    |\n",
      "|                        |              |       |            |              |\n",
      "|        Confusió        |    TOTAL     |  0.0  |     32     |    76.19%    |\n",
      "|                        |              |  1.0  |     10     |    23.81%    |\n",
      "|                        |              |       |            |              |\n",
      "|      Osteoporosi       |    AMB_PA    |  0.0  |     18     |   100.00%    |\n",
      "|                        |              |       |            |              |\n",
      "|      Osteoporosi       | AMB_PA_MECVV |  0.0  |     6      |   100.00%    |\n",
      "|                        |              |       |            |              |\n",
      "|      Osteoporosi       |   SENSE_PA   |  0.0  |     10     |   100.00%    |\n",
      "|                        |              |       |            |              |\n",
      "|      Osteoporosi       |    TOTAL     |  0.0  |     42     |   100.00%    |\n",
      "|                        |              |       |            |              |\n",
      "|       Sarcopènia       |    AMB_PA    |  0.0  |     18     |   100.00%    |\n",
      "|                        |              |       |            |              |\n",
      "|       Sarcopènia       | AMB_PA_MECVV |  0.0  |     6      |   100.00%    |\n",
      "|                        |              |       |            |              |\n",
      "|       Sarcopènia       |   SENSE_PA   |  0.0  |     9      |    90.00%    |\n",
      "|                        |              |  1.0  |     1      |    10.00%    |\n",
      "|                        |              |       |            |              |\n",
      "|       Sarcopènia       |    TOTAL     |  0.0  |     40     |    95.24%    |\n",
      "|                        |              |  1.0  |     2      |    4.76%     |\n",
      "|                        |              |       |            |              |\n",
      "|       Probl.son        |    AMB_PA    |  0.0  |     18     |   100.00%    |\n",
      "|                        |              |       |            |              |\n",
      "|       Probl.son        | AMB_PA_MECVV |  0.0  |     6      |   100.00%    |\n",
      "|                        |              |       |            |              |\n",
      "|       Probl.son        |   SENSE_PA   |  0.0  |     10     |   100.00%    |\n",
      "|                        |              |       |            |              |\n",
      "|       Probl.son        |    TOTAL     |  0.0  |     42     |   100.00%    |\n",
      "|                        |              |       |            |              |\n",
      "|      Dolor crònic      |    AMB_PA    |  0.0  |     18     |   100.00%    |\n",
      "|                        |              |       |            |              |\n",
      "|      Dolor crònic      | AMB_PA_MECVV |  0.0  |     6      |   100.00%    |\n",
      "|                        |              |       |            |              |\n",
      "|      Dolor crònic      |   SENSE_PA   |  0.0  |     10     |   100.00%    |\n",
      "|                        |              |       |            |              |\n",
      "|      Dolor crònic      |    TOTAL     |  0.0  |     42     |   100.00%    |\n",
      "|                        |              |       |            |              |\n",
      "|       Iatrogènic       |    AMB_PA    |  0.0  |     18     |   100.00%    |\n",
      "|                        |              |       |            |              |\n",
      "|       Iatrogènic       | AMB_PA_MECVV |  0.0  |     6      |   100.00%    |\n",
      "|                        |              |       |            |              |\n",
      "|       Iatrogènic       |   SENSE_PA   |  0.0  |     10     |   100.00%    |\n",
      "|                        |              |       |            |              |\n",
      "|       Iatrogènic       |    TOTAL     |  0.0  |     42     |   100.00%    |\n",
      "|                        |              |       |            |              |\n",
      "|     Restrenyiment      |    AMB_PA    |  0.0  |     18     |   100.00%    |\n",
      "|                        |              |       |            |              |\n",
      "|     Restrenyiment      | AMB_PA_MECVV |  0.0  |     6      |   100.00%    |\n",
      "|                        |              |       |            |              |\n",
      "|     Restrenyiment      |   SENSE_PA   |  0.0  |     10     |   100.00%    |\n",
      "|                        |              |       |            |              |\n",
      "|     Restrenyiment      |    TOTAL     |  0.0  |     42     |   100.00%    |\n",
      "|                        |              |       |            |              |\n",
      "|           CV           |    AMB_PA    |  0.0  |     17     |    94.44%    |\n",
      "|                        |              |  1.0  |     1      |    5.56%     |\n",
      "|                        |              |       |            |              |\n",
      "|           CV           | AMB_PA_MECVV |  0.0  |     6      |   100.00%    |\n",
      "|                        |              |       |            |              |\n",
      "|           CV           |   SENSE_PA   |  0.0  |     8      |    80.00%    |\n",
      "|                        |              |  1.0  |     2      |    20.00%    |\n",
      "|                        |              |       |            |              |\n",
      "|           CV           |    TOTAL     |  0.0  |     39     |    92.86%    |\n",
      "|                        |              |  1.0  |     3      |    7.14%     |\n",
      "|                        |              |       |            |              |\n",
      "|       Probl.cor        |    AMB_PA    |  0.0  |     16     |    88.89%    |\n",
      "|                        |              |  1.0  |     2      |    11.11%    |\n",
      "|                        |              |       |            |              |\n",
      "|       Probl.cor        | AMB_PA_MECVV |  0.0  |     6      |   100.00%    |\n",
      "|                        |              |       |            |              |\n",
      "|       Probl.cor        |   SENSE_PA   |  0.0  |     7      |    70.00%    |\n",
      "|                        |              |  1.0  |     3      |    30.00%    |\n",
      "|                        |              |       |            |              |\n",
      "|       Probl.cor        |    TOTAL     |  0.0  |     35     |    83.33%    |\n",
      "|                        |              |  1.0  |     7      |    16.67%    |\n",
      "|                        |              |       |            |              |\n",
      "|   Neurodegeneratives   |    AMB_PA    |  0.0  |     18     |   100.00%    |\n",
      "|                        |              |       |            |              |\n",
      "|   Neurodegeneratives   | AMB_PA_MECVV |  0.0  |     5      |    83.33%    |\n",
      "|                        |              |  1.0  |     1      |    16.67%    |\n",
      "|                        |              |       |            |              |\n",
      "|   Neurodegeneratives   |   SENSE_PA   |  0.0  |     9      |    90.00%    |\n",
      "|                        |              |  1.0  |     1      |    10.00%    |\n",
      "|                        |              |       |            |              |\n",
      "|   Neurodegeneratives   |    TOTAL     |  0.0  |     40     |    95.24%    |\n",
      "|                        |              |  1.0  |     2      |    4.76%     |\n",
      "|                        |              |       |            |              |\n",
      "|           DM           |    AMB_PA    |  0.0  |     14     |    77.78%    |\n",
      "|                        |              |  1.0  |     4      |    22.22%    |\n",
      "|                        |              |       |            |              |\n",
      "|           DM           | AMB_PA_MECVV |  0.0  |     5      |    83.33%    |\n",
      "|                        |              |  1.0  |     1      |    16.67%    |\n",
      "|                        |              |       |            |              |\n",
      "|           DM           |   SENSE_PA   |  0.0  |     7      |    70.00%    |\n",
      "|                        |              |  1.0  |     3      |    30.00%    |\n",
      "|                        |              |       |            |              |\n",
      "|           DM           |    TOTAL     |  0.0  |     33     |    78.57%    |\n",
      "|                        |              |  1.0  |     9      |    21.43%    |\n",
      "|                        |              |       |            |              |\n",
      "|      Hepatopaties      |    AMB_PA    |  0.0  |     16     |    88.89%    |\n",
      "|                        |              |  1.0  |     2      |    11.11%    |\n",
      "|                        |              |       |            |              |\n",
      "|      Hepatopaties      | AMB_PA_MECVV |  0.0  |     5      |    83.33%    |\n",
      "|                        |              |  1.0  |     1      |    16.67%    |\n",
      "|                        |              |       |            |              |\n",
      "|      Hepatopaties      |   SENSE_PA   |  0.0  |     10     |   100.00%    |\n",
      "|                        |              |       |            |              |\n",
      "|      Hepatopaties      |    TOTAL     |  0.0  |     39     |    92.86%    |\n",
      "|                        |              |  1.0  |     3      |    7.14%     |\n",
      "|                        |              |       |            |              |\n",
      "|       Neoplàsies       |    AMB_PA    |  0.0  |     18     |   100.00%    |\n",
      "|                        |              |       |            |              |\n",
      "|       Neoplàsies       | AMB_PA_MECVV |  0.0  |     6      |   100.00%    |\n",
      "|                        |              |       |            |              |\n",
      "|       Neoplàsies       |   SENSE_PA   |  0.0  |     9      |    90.00%    |\n",
      "|                        |              |  1.0  |     1      |    10.00%    |\n",
      "|                        |              |       |            |              |\n",
      "|       Neoplàsies       |    TOTAL     |  0.0  |     40     |    95.24%    |\n",
      "|                        |              |  1.0  |     2      |    4.76%     |\n",
      "|                        |              |       |            |              |\n",
      "| Malaltia renal crònica |    AMB_PA    |   0   |     18     |   100.00%    |\n",
      "|                        |              |       |            |              |\n",
      "| Malaltia renal crònica | AMB_PA_MECVV |   0   |     6      |   100.00%    |\n",
      "|                        |              |       |            |              |\n",
      "| Malaltia renal crònica |   SENSE_PA   |   0   |     10     |   100.00%    |\n",
      "|                        |              |       |            |              |\n",
      "| Malaltia renal crònica |    TOTAL     |   0   |     39     |    92.86%    |\n",
      "|                        |              |   1   |     3      |    7.14%     |\n",
      "|                        |              |       |            |              |\n",
      "|          ARF           |    AMB_PA    |  0.0  |     14     |    77.78%    |\n",
      "|                        |              |  1.0  |     4      |    22.22%    |\n",
      "|                        |              |       |            |              |\n",
      "|          ARF           | AMB_PA_MECVV |  1.0  |     3      |    50.00%    |\n",
      "|                        |              |  0.0  |     3      |    50.00%    |\n",
      "|                        |              |       |            |              |\n",
      "|          ARF           |   SENSE_PA   |  0.0  |     5      |    50.00%    |\n",
      "|                        |              |  1.0  |     5      |    50.00%    |\n",
      "|                        |              |       |            |              |\n",
      "|          ARF           |    TOTAL     |  0.0  |     30     |    71.43%    |\n",
      "|                        |              |  1.0  |     12     |    28.57%    |\n",
      "|                        |              |       |            |              |\n",
      "|        Marejos         |    AMB_PA    |  0.0  |     18     |   100.00%    |\n",
      "|                        |              |       |            |              |\n",
      "|        Marejos         | AMB_PA_MECVV |  0.0  |     6      |   100.00%    |\n",
      "|                        |              |       |            |              |\n",
      "|        Marejos         |   SENSE_PA   |  0.0  |     10     |   100.00%    |\n",
      "|                        |              |       |            |              |\n",
      "|        Marejos         |    TOTAL     |  0.0  |     41     |    97.62%    |\n",
      "|                        |              |  1.0  |     1      |    2.38%     |\n",
      "|                        |              |       |            |              |\n",
      "|          VIH           |    AMB_PA    |  0.0  |     18     |   100.00%    |\n",
      "|                        |              |       |            |              |\n",
      "|          VIH           | AMB_PA_MECVV |  0.0  |     6      |   100.00%    |\n",
      "|                        |              |       |            |              |\n",
      "|          VIH           |   SENSE_PA   |  0.0  |     10     |   100.00%    |\n",
      "|                        |              |       |            |              |\n",
      "|          VIH           |    TOTAL     |  0.0  |     42     |   100.00%    |\n",
      "|                        |              |       |            |              |\n",
      "|        Psicosi         |    AMB_PA    |  0.0  |     18     |   100.00%    |\n",
      "|                        |              |       |            |              |\n",
      "|        Psicosi         | AMB_PA_MECVV |  0.0  |     6      |   100.00%    |\n",
      "|                        |              |       |            |              |\n",
      "|        Psicosi         |   SENSE_PA   |  0.0  |     10     |   100.00%    |\n",
      "|                        |              |       |            |              |\n",
      "|        Psicosi         |    TOTAL     |  0.0  |     42     |   100.00%    |\n",
      "|                        |              |       |            |              |\n",
      "|       Def.nutri        |    AMB_PA    |  0.0  |     18     |   100.00%    |\n",
      "|                        |              |       |            |              |\n",
      "|       Def.nutri        | AMB_PA_MECVV |  0.0  |     6      |   100.00%    |\n",
      "|                        |              |       |            |              |\n",
      "|       Def.nutri        |   SENSE_PA   |  0.0  |     10     |   100.00%    |\n",
      "|                        |              |       |            |              |\n",
      "|       Def.nutri        |    TOTAL     |  0.0  |     42     |   100.00%    |\n",
      "|                        |              |       |            |              |\n",
      "+------------------------+--------------+-------+------------+--------------+\n"
     ]
    }
   ],
   "execution_count": 4
  },
  {
   "metadata": {},
   "cell_type": "markdown",
   "source": "### Mitjanes i desviacions estàndard de variables numèriques per grup",
   "id": "51e761b5c4a999bd"
  },
  {
   "metadata": {
    "ExecuteTime": {
     "end_time": "2024-06-14T07:36:03.068851Z",
     "start_time": "2024-06-14T07:36:03.054388Z"
    }
   },
   "cell_type": "code",
   "source": [
    "llista_dfs = [('AMB_PA', AMB_PA), ('AMB_PA_MECVV', AMB_PA_MECVV), ('SENSE_PA', SENSE_PA), ('TOTAL', TOTAL)]\n",
    "\n",
    "mitjana_i_std_num(llista_dfs, num_var_ger)"
   ],
   "id": "901a51185db86fd0",
   "outputs": [
    {
     "name": "stdout",
     "output_type": "stream",
     "text": [
      "+----------+--------------+---------+---------------------+\n",
      "| Columna  |  DataFrame   | Mitjana | Desviació Estàndard |\n",
      "+----------+--------------+---------+---------------------+\n",
      "| Charlson |    AMB_PA    |  10.17  |        10.42        |\n",
      "|          |              |         |                     |\n",
      "| Charlson | AMB_PA_MECVV |  15.83  |        12.62        |\n",
      "|          |              |         |                     |\n",
      "| Charlson |   SENSE_PA   |  16.50  |        12.00        |\n",
      "|          |              |         |                     |\n",
      "| Charlson |    TOTAL     |  12.43  |        13.11        |\n",
      "|          |              |         |                     |\n",
      "+----------+--------------+---------+---------------------+\n"
     ]
    },
    {
     "name": "stderr",
     "output_type": "stream",
     "text": [
      "C:\\Users\\maria\\PycharmProjects\\practicum\\auxiliary_functions.py:1110: SettingWithCopyWarning: \n",
      "A value is trying to be set on a copy of a slice from a DataFrame.\n",
      "Try using .loc[row_indexer,col_indexer] = value instead\n",
      "\n",
      "See the caveats in the documentation: https://pandas.pydata.org/pandas-docs/stable/user_guide/indexing.html#returning-a-view-versus-a-copy\n",
      "  df[col] = pd.to_numeric(df[col],\n"
     ]
    }
   ],
   "execution_count": 5
  },
  {
   "metadata": {},
   "cell_type": "markdown",
   "source": [
    "# Síndromes geriàtrics"
   ],
   "id": "89fbabd4869d9b6e"
  },
  {
   "metadata": {},
   "cell_type": "markdown",
   "source": [
    "## Index de Charlson"
   ],
   "id": "26d9f063eaf602a8"
  },
  {
   "metadata": {},
   "cell_type": "markdown",
   "source": "Comparació distributiva. Test d'independència. Test d'independència",
   "id": "7759f395ce8c1a34"
  },
  {
   "cell_type": "code",
   "source": "test_indepe_plot({'AMB_PA': AMB_PA['Charlson'], 'AMB_PA_MECVV': AMB_PA_MECVV['Charlson'], 'SENSE_PA': SENSE_PA['Charlson'], 'TOTAL': TOTAL['Charlson']})",
   "metadata": {
    "collapsed": false,
    "ExecuteTime": {
     "end_time": "2024-06-14T07:36:03.399133Z",
     "start_time": "2024-06-14T07:36:03.068851Z"
    }
   },
   "id": "9432d6033b10b1e1",
   "outputs": [
    {
     "data": {
      "text/plain": [
       "<Figure size 640x480 with 2 Axes>"
      ],
      "image/png": "[encoded data removed]"
     },
     "metadata": {},
     "output_type": "display_data"
    }
   ],
   "execution_count": 6
  },
  {
   "cell_type": "markdown",
   "source": [
    "## Caigudes prèvies"
   ],
   "metadata": {
    "collapsed": false
   },
   "id": "baf384c932f5317a"
  },
  {
   "cell_type": "markdown",
   "source": "Comparació distributiva. Test d'independència. Test d'independència",
   "metadata": {
    "collapsed": false
   },
   "id": "a1200410af953af1"
  },
  {
   "cell_type": "code",
   "source": "test_indepe_bin_plot(taula, 'Caigudes prèvies')",
   "metadata": {
    "collapsed": false,
    "ExecuteTime": {
     "end_time": "2024-06-14T07:36:03.857686Z",
     "start_time": "2024-06-14T07:36:03.399133Z"
    }
   },
   "id": "4b98a557c23433a",
   "outputs": [
    {
     "ename": "AttributeError",
     "evalue": "'DataFrame' object has no attribute 'unique'",
     "output_type": "error",
     "traceback": [
      "\u001B[1;31m---------------------------------------------------------------------------\u001B[0m",
      "\u001B[1;31mAttributeError\u001B[0m                            Traceback (most recent call last)",
      "\u001B[1;32m~\\AppData\\Local\\Temp\\ipykernel_12860\\2784962816.py\u001B[0m in \u001B[0;36m?\u001B[1;34m()\u001B[0m\n\u001B[1;32m----> 1\u001B[1;33m \u001B[0mtest_indepe_bin_plot\u001B[0m\u001B[1;33m(\u001B[0m\u001B[0mtaula\u001B[0m\u001B[1;33m,\u001B[0m \u001B[1;34m'Caigudes prèvies'\u001B[0m\u001B[1;33m)\u001B[0m\u001B[1;33m\u001B[0m\u001B[1;33m\u001B[0m\u001B[0m\n\u001B[0m",
      "\u001B[1;32m~\\PycharmProjects\\practicum\\auxiliary_functions.py\u001B[0m in \u001B[0;36m?\u001B[1;34m(data_1, data_2)\u001B[0m\n\u001B[0;32m   1019\u001B[0m \u001B[1;33m\u001B[0m\u001B[0m\n\u001B[0;32m   1020\u001B[0m     \u001B[0mRetorna\u001B[0m\u001B[1;33m:\u001B[0m\u001B[1;33m\u001B[0m\u001B[1;33m\u001B[0m\u001B[0m\n\u001B[0;32m   1021\u001B[0m     \u001B[0mdict\u001B[0m\u001B[1;33m:\u001B[0m \u001B[0mDiccionario\u001B[0m \u001B[0mdonde\u001B[0m \u001B[0mlas\u001B[0m \u001B[0mclaves\u001B[0m \u001B[0mson\u001B[0m \u001B[0mlas\u001B[0m \u001B[0mcategorías\u001B[0m \u001B[0múnicas\u001B[0m \u001B[0mde\u001B[0m \u001B[0mdata_1\u001B[0m \u001B[0my\u001B[0m \u001B[0mlos\u001B[0m \u001B[0mvalores\u001B[0m \u001B[0mson\u001B[0m \u001B[0mlos\u001B[0m \u001B[0mp\u001B[0m\u001B[1;33m-\u001B[0m\u001B[0mvalores\u001B[0m \u001B[0mcorrespondientes\u001B[0m\u001B[1;33m.\u001B[0m\u001B[1;33m\u001B[0m\u001B[1;33m\u001B[0m\u001B[0m\n\u001B[0;32m   1022\u001B[0m     \"\"\"\n\u001B[1;32m-> 1023\u001B[1;33m     \u001B[0mcategories\u001B[0m \u001B[1;33m=\u001B[0m \u001B[0mdata_1\u001B[0m\u001B[1;33m.\u001B[0m\u001B[0munique\u001B[0m\u001B[1;33m(\u001B[0m\u001B[1;33m)\u001B[0m\u001B[1;33m\u001B[0m\u001B[1;33m\u001B[0m\u001B[0m\n\u001B[0m\u001B[0;32m   1024\u001B[0m     \u001B[0mresults\u001B[0m \u001B[1;33m=\u001B[0m \u001B[1;33m{\u001B[0m\u001B[1;33m}\u001B[0m\u001B[1;33m\u001B[0m\u001B[1;33m\u001B[0m\u001B[0m\n\u001B[0;32m   1025\u001B[0m \u001B[1;33m\u001B[0m\u001B[0m\n\u001B[0;32m   1026\u001B[0m     \u001B[0mp_values_matrix\u001B[0m \u001B[1;33m=\u001B[0m \u001B[1;33m[\u001B[0m\u001B[1;33m]\u001B[0m\u001B[1;33m\u001B[0m\u001B[1;33m\u001B[0m\u001B[0m\n",
      "\u001B[1;32m~\\PycharmProjects\\practicum\\.venv\\Lib\\site-packages\\pandas\\core\\generic.py\u001B[0m in \u001B[0;36m?\u001B[1;34m(self, name)\u001B[0m\n\u001B[0;32m   6292\u001B[0m             \u001B[1;32mand\u001B[0m \u001B[0mname\u001B[0m \u001B[1;32mnot\u001B[0m \u001B[1;32min\u001B[0m \u001B[0mself\u001B[0m\u001B[1;33m.\u001B[0m\u001B[0m_accessors\u001B[0m\u001B[1;33m\u001B[0m\u001B[1;33m\u001B[0m\u001B[0m\n\u001B[0;32m   6293\u001B[0m             \u001B[1;32mand\u001B[0m \u001B[0mself\u001B[0m\u001B[1;33m.\u001B[0m\u001B[0m_info_axis\u001B[0m\u001B[1;33m.\u001B[0m\u001B[0m_can_hold_identifiers_and_holds_name\u001B[0m\u001B[1;33m(\u001B[0m\u001B[0mname\u001B[0m\u001B[1;33m)\u001B[0m\u001B[1;33m\u001B[0m\u001B[1;33m\u001B[0m\u001B[0m\n\u001B[0;32m   6294\u001B[0m         \u001B[1;33m)\u001B[0m\u001B[1;33m:\u001B[0m\u001B[1;33m\u001B[0m\u001B[1;33m\u001B[0m\u001B[0m\n\u001B[0;32m   6295\u001B[0m             \u001B[1;32mreturn\u001B[0m \u001B[0mself\u001B[0m\u001B[1;33m[\u001B[0m\u001B[0mname\u001B[0m\u001B[1;33m]\u001B[0m\u001B[1;33m\u001B[0m\u001B[1;33m\u001B[0m\u001B[0m\n\u001B[1;32m-> 6296\u001B[1;33m         \u001B[1;32mreturn\u001B[0m \u001B[0mobject\u001B[0m\u001B[1;33m.\u001B[0m\u001B[0m__getattribute__\u001B[0m\u001B[1;33m(\u001B[0m\u001B[0mself\u001B[0m\u001B[1;33m,\u001B[0m \u001B[0mname\u001B[0m\u001B[1;33m)\u001B[0m\u001B[1;33m\u001B[0m\u001B[1;33m\u001B[0m\u001B[0m\n\u001B[0m",
      "\u001B[1;31mAttributeError\u001B[0m: 'DataFrame' object has no attribute 'unique'"
     ]
    }
   ],
   "execution_count": 7
  },
  {
   "cell_type": "markdown",
   "source": [
    "## Deliris"
   ],
   "metadata": {
    "collapsed": false
   },
   "id": "5eb47a8ac5ba5756"
  },
  {
   "cell_type": "markdown",
   "source": "#### Comparació distributiva. Test d'independència",
   "metadata": {
    "collapsed": false
   },
   "id": "4accacd3cfb9357a"
  },
  {
   "cell_type": "code",
   "source": "test_indepe_bin_plot(taula, 'Deliris')",
   "metadata": {
    "collapsed": false
   },
   "id": "6b00e16aab85dd06",
   "outputs": [],
   "execution_count": null
  },
  {
   "cell_type": "markdown",
   "source": [
    "## Demència"
   ],
   "metadata": {
    "collapsed": false
   },
   "id": "60e0af1c3171bb18"
  },
  {
   "cell_type": "markdown",
   "source": "#### Comparació distributiva. Test d'independència",
   "metadata": {
    "collapsed": false
   },
   "id": "f4552bcf1fdce5bc"
  },
  {
   "metadata": {},
   "cell_type": "code",
   "source": "test_indepe_bin_plot(taula, 'Demència')",
   "id": "18d05d2a4da9bc6e",
   "outputs": [],
   "execution_count": null
  },
  {
   "cell_type": "markdown",
   "source": [
    "## Síndrome depressiu"
   ],
   "metadata": {
    "collapsed": false
   },
   "id": "9a7aabdb0bd2d70"
  },
  {
   "cell_type": "markdown",
   "source": "#### Comparació distributiva. Test d'independència",
   "metadata": {
    "collapsed": false
   },
   "id": "88c3ba181b1e87d6"
  },
  {
   "cell_type": "code",
   "source": "test_indepe_bin_plot(taula, 'Síndrome depressiu')",
   "metadata": {
    "collapsed": false
   },
   "id": "f980f523180dbefb",
   "outputs": [],
   "execution_count": null
  },
  {
   "cell_type": "markdown",
   "source": [
    "## Incontinència urinària"
   ],
   "metadata": {
    "collapsed": false
   },
   "id": "53bd08a502843f33"
  },
  {
   "cell_type": "markdown",
   "source": "#### Comparació distributiva. Test d'independència",
   "metadata": {
    "collapsed": false
   },
   "id": "d3caedfbd910cdc8"
  },
  {
   "metadata": {},
   "cell_type": "code",
   "source": "test_indepe_bin_plot(taula, 'Incont.uri')",
   "id": "f1ed5f99fcafca5",
   "outputs": [],
   "execution_count": null
  },
  {
   "cell_type": "markdown",
   "source": [
    "## Incontinència fecal "
   ],
   "metadata": {
    "collapsed": false
   },
   "id": "b1c0e810fed95762"
  },
  {
   "cell_type": "markdown",
   "source": "#### Comparació distributiva. Test d'independència",
   "metadata": {
    "collapsed": false
   },
   "id": "be3f9150be80509c"
  },
  {
   "cell_type": "code",
   "source": "test_indepe_bin_plot(taula, 'Incont.fec')",
   "metadata": {
    "collapsed": false
   },
   "id": "9a828ee1ffd8e81c",
   "outputs": [],
   "execution_count": null
  },
  {
   "cell_type": "markdown",
   "source": [
    "## Úlceres de pressió"
   ],
   "metadata": {
    "collapsed": false
   },
   "id": "12fb2d52f45768f0"
  },
  {
   "cell_type": "markdown",
   "source": "#### Comparació distributiva. Test d'independència",
   "metadata": {
    "collapsed": false
   },
   "id": "c31f7a0ad909ff1a"
  },
  {
   "cell_type": "code",
   "source": "test_indepe_bin_plot(taula, 'Úlceres pressió')",
   "metadata": {
    "collapsed": false
   },
   "id": "844300fe32257274",
   "outputs": [],
   "execution_count": null
  },
  {
   "cell_type": "markdown",
   "source": [
    "## Immobilitat"
   ],
   "metadata": {
    "collapsed": false
   },
   "id": "10103f3571c08987"
  },
  {
   "cell_type": "markdown",
   "source": "#### Comparació distributiva. Test d'independència",
   "metadata": {
    "collapsed": false
   },
   "id": "e60144e1515572bf"
  },
  {
   "metadata": {},
   "cell_type": "code",
   "source": "test_indepe_bin_plot(taula, 'Immobilitat')",
   "id": "7a4f2326df17f1ae",
   "outputs": [],
   "execution_count": null
  },
  {
   "cell_type": "markdown",
   "source": [
    "## Confusió"
   ],
   "metadata": {
    "collapsed": false
   },
   "id": "4029b427d6121536"
  },
  {
   "cell_type": "markdown",
   "source": "#### Comparació distributiva. Test d'independència",
   "metadata": {
    "collapsed": false
   },
   "id": "922a3afd76f83e32"
  },
  {
   "cell_type": "code",
   "source": "test_indepe_bin_plot(taula, 'Confusió')",
   "metadata": {
    "collapsed": false
   },
   "id": "df9f8a3d3f0ac179",
   "outputs": [],
   "execution_count": null
  },
  {
   "cell_type": "markdown",
   "source": [
    "## Osteoporosi"
   ],
   "metadata": {
    "collapsed": false
   },
   "id": "a911fc42fee33a3f"
  },
  {
   "cell_type": "markdown",
   "source": "#### Comparació distributiva. Test d'independència",
   "metadata": {
    "collapsed": false
   },
   "id": "5e02314a517b0324"
  },
  {
   "metadata": {},
   "cell_type": "code",
   "source": "test_indepe_bin_plot(taula, 'Osteoporosi')",
   "id": "5870199b37acf208",
   "outputs": [],
   "execution_count": null
  },
  {
   "cell_type": "markdown",
   "source": [
    "## Sarcopènia"
   ],
   "metadata": {
    "collapsed": false
   },
   "id": "a4ceccc28829bbf8"
  },
  {
   "cell_type": "markdown",
   "source": "#### Comparació distributiva. Test d'independència",
   "metadata": {
    "collapsed": false
   },
   "id": "8b6bac2184c4e4fe"
  },
  {
   "metadata": {},
   "cell_type": "code",
   "source": "test_indepe_bin_plot(taula, 'Sarcopènia')",
   "id": "df1356865a2d1d01",
   "outputs": [],
   "execution_count": null
  },
  {
   "cell_type": "markdown",
   "source": [
    "## Trastorns del son"
   ],
   "metadata": {
    "collapsed": false
   },
   "id": "42407b04d7e606fe"
  },
  {
   "cell_type": "markdown",
   "source": "#### Comparació distributiva. Test d'independència",
   "metadata": {
    "collapsed": false
   },
   "id": "d256df3e410a114a"
  },
  {
   "metadata": {},
   "cell_type": "code",
   "source": "test_indepe_bin_plot(taula, 'Probl.son')",
   "id": "1e367dd005ae0ca",
   "outputs": [],
   "execution_count": null
  },
  {
   "cell_type": "markdown",
   "source": [
    "## Dolor crònic"
   ],
   "metadata": {
    "collapsed": false
   },
   "id": "db09148e693d9533"
  },
  {
   "cell_type": "markdown",
   "source": "#### Comparació distributiva. Test d'independència",
   "metadata": {
    "collapsed": false
   },
   "id": "585bf20aac216d98"
  },
  {
   "metadata": {},
   "cell_type": "code",
   "source": "test_indepe_bin_plot(taula, 'Dolor crònic')",
   "id": "e8540e0cc29c39f3",
   "outputs": [],
   "execution_count": null
  },
  {
   "cell_type": "markdown",
   "source": [
    "## Iatrogènic"
   ],
   "metadata": {
    "collapsed": false
   },
   "id": "696cb8980ad9a236"
  },
  {
   "cell_type": "markdown",
   "source": "#### Comparació distributiva. Test d'independència",
   "metadata": {
    "collapsed": false
   },
   "id": "9350c5136b23c7eb"
  },
  {
   "metadata": {},
   "cell_type": "code",
   "source": "test_indepe_bin_plot(taula, 'Iatrogènic')",
   "id": "838fe68385ca5ca6",
   "outputs": [],
   "execution_count": null
  },
  {
   "cell_type": "markdown",
   "source": [
    "## Restrenyiment"
   ],
   "metadata": {
    "collapsed": false
   },
   "id": "ea5901b91abf6735"
  },
  {
   "cell_type": "markdown",
   "source": "#### Comparació distributiva. Test d'independència",
   "metadata": {
    "collapsed": false
   },
   "id": "3691bfe5f1501d8"
  },
  {
   "cell_type": "code",
   "source": "test_indepe_bin_plot(taula, 'Restrenyiment')",
   "metadata": {
    "collapsed": false
   },
   "id": "b4c7a022e0787001",
   "outputs": [],
   "execution_count": null
  },
  {
   "cell_type": "markdown",
   "source": "# Historial mèdic/comorbiditats",
   "metadata": {
    "collapsed": false
   },
   "id": "cfd2024c6d949f31"
  },
  {
   "cell_type": "markdown",
   "source": [
    "## Malalties CV"
   ],
   "metadata": {
    "collapsed": false
   },
   "id": "50f5349d245209c8"
  },
  {
   "cell_type": "markdown",
   "source": "#### Comparació distributiva. Test d'independència",
   "metadata": {
    "collapsed": false
   },
   "id": "9356a2dc24397671"
  },
  {
   "metadata": {},
   "cell_type": "code",
   "source": "test_indepe_bin_plot(taula, 'CV')",
   "id": "f4d4d261c16bb77e",
   "outputs": [],
   "execution_count": null
  },
  {
   "metadata": {},
   "cell_type": "markdown",
   "source": [
    "## Malalties del cor"
   ],
   "id": "ccb034e70398680a"
  },
  {
   "metadata": {},
   "cell_type": "markdown",
   "source": "#### Comparació distributiva. Test d'independència",
   "id": "a6c0069e93bb4b47"
  },
  {
   "metadata": {},
   "cell_type": "code",
   "source": "test_indepe_bin_plot(taula, 'Probl.cor')",
   "id": "69c40b42e11ea15c",
   "outputs": [],
   "execution_count": null
  },
  {
   "metadata": {},
   "cell_type": "markdown",
   "source": [
    "## Malalties neurodegeneratives"
   ],
   "id": "18c9cce147e62274"
  },
  {
   "metadata": {},
   "cell_type": "markdown",
   "source": "#### Comparació distributiva. Test d'independència",
   "id": "13d4492161572489"
  },
  {
   "metadata": {},
   "cell_type": "code",
   "source": "test_indepe_bin_plot(taula, 'Neurodegeneratives')",
   "id": "46de9d9768c30a9f",
   "outputs": [],
   "execution_count": null
  },
  {
   "metadata": {},
   "cell_type": "markdown",
   "source": "## Diabetis mellitus",
   "id": "42b942e8587dc0c3"
  },
  {
   "metadata": {},
   "cell_type": "markdown",
   "source": "#### Comparació distributiva. Test d'independència",
   "id": "39c5da893c7deb9c"
  },
  {
   "metadata": {},
   "cell_type": "code",
   "source": "test_indepe_bin_plot(taula, 'DM')",
   "id": "23433b42464349ab",
   "outputs": [],
   "execution_count": null
  },
  {
   "metadata": {},
   "cell_type": "markdown",
   "source": [
    "## Hepatopaties"
   ],
   "id": "772c1f476c2f3d43"
  },
  {
   "metadata": {},
   "cell_type": "markdown",
   "source": "#### Comparació distributiva. Test d'independència",
   "id": "ee084e9b17270c10"
  },
  {
   "metadata": {},
   "cell_type": "code",
   "source": "test_indepe_bin_plot(taula, 'Hepatopaties')",
   "id": "aa2a6ecd3965fece",
   "outputs": [],
   "execution_count": null
  },
  {
   "metadata": {},
   "cell_type": "markdown",
   "source": "## Neoplàsies",
   "id": "959b58aaaaab994b"
  },
  {
   "metadata": {},
   "cell_type": "markdown",
   "source": "#### Comparació distributiva. Test d'independència",
   "id": "338c0f6458d8be19"
  },
  {
   "metadata": {},
   "cell_type": "code",
   "source": "test_indepe_bin_plot(taula, 'Neoplàsies')",
   "id": "28ff989a55478f46",
   "outputs": [],
   "execution_count": null
  },
  {
   "metadata": {},
   "cell_type": "markdown",
   "source": [
    "## Malaltia crònica renal (creatinina > 1.5mg/dL)"
   ],
   "id": "be977a70d2e9a7c"
  },
  {
   "metadata": {},
   "cell_type": "markdown",
   "source": "#### Comparació distributiva. Test d'independència",
   "id": "9a0ec8b221656a8a"
  },
  {
   "metadata": {},
   "cell_type": "code",
   "source": "test_indepe_bin_plot(taula, 'Malaltia renal crònica')",
   "id": "f4d30539577b7487",
   "outputs": [],
   "execution_count": null
  },
  {
   "metadata": {},
   "cell_type": "markdown",
   "source": [
    "## Fallida renal aguda (o insuficiència renal aguda)"
   ],
   "id": "2a45b7c462b693cc"
  },
  {
   "metadata": {},
   "cell_type": "markdown",
   "source": "#### Comparació distributiva. Test d'independència",
   "id": "fa90e43bd79a9017"
  },
  {
   "metadata": {},
   "cell_type": "code",
   "source": "test_indepe_bin_plot(taula, 'ARF')",
   "id": "df48bffd92d01d88",
   "outputs": [],
   "execution_count": null
  },
  {
   "metadata": {},
   "cell_type": "markdown",
   "source": [
    "## Marejos/síncope/lipotímia/reacció vasovagal"
   ],
   "id": "b569dbe66e8fcbe9"
  },
  {
   "metadata": {},
   "cell_type": "markdown",
   "source": "#### Comparació distributiva. Test d'independència",
   "id": "c2ea9a79012bd56"
  },
  {
   "metadata": {},
   "cell_type": "code",
   "source": "test_indepe_bin_plot(taula, 'Marejos')",
   "id": "c7a5c926552c45ea",
   "outputs": [],
   "execution_count": null
  },
  {
   "metadata": {},
   "cell_type": "markdown",
   "source": [
    "## VIH"
   ],
   "id": "3e66ec61ceed6da8"
  },
  {
   "metadata": {},
   "cell_type": "markdown",
   "source": "#### Comparació distributiva. Test d'independència",
   "id": "803ff9173540722b"
  },
  {
   "metadata": {},
   "cell_type": "code",
   "source": "test_indepe_bin_plot(taula, 'VIH')",
   "id": "44466ae091025bfa",
   "outputs": [],
   "execution_count": null
  },
  {
   "metadata": {},
   "cell_type": "markdown",
   "source": [
    "## Psicosi"
   ],
   "id": "8e295a7fd16fa508"
  },
  {
   "metadata": {},
   "cell_type": "markdown",
   "source": "#### Comparació distributiva. Test d'independència. Test d'independència",
   "id": "f7e56f1eaa4a1121"
  },
  {
   "metadata": {},
   "cell_type": "code",
   "source": "test_indepe_bin_plot(taula, 'Psicosi')",
   "id": "fa6dc9d7840f038",
   "outputs": [],
   "execution_count": null
  },
  {
   "metadata": {},
   "cell_type": "markdown",
   "source": [
    "## Deficiències nutricionals"
   ],
   "id": "fd2da9ae3b318047"
  },
  {
   "metadata": {},
   "cell_type": "markdown",
   "source": "#### Comparació distributiva. Test d'independència",
   "id": "d4bc9fe19efb8762"
  },
  {
   "metadata": {},
   "cell_type": "code",
   "source": "test_indepe_bin_plot(taula, 'Def.nutri')",
   "id": "8622d081883aca5c",
   "outputs": [],
   "execution_count": null
  }
 ],
 "metadata": {
  "kernelspec": {
   "display_name": "Python 3",
   "language": "python",
   "name": "python3"
  },
  "language_info": {
   "codemirror_mode": {
    "name": "ipython",
    "version": 2
   },
   "file_extension": ".py",
   "mimetype": "text/x-python",
   "name": "python",
   "nbconvert_exporter": "python",
   "pygments_lexer": "ipython2",
   "version": "2.7.6"
  }
 },
 "nbformat": 4,
 "nbformat_minor": 5
}
