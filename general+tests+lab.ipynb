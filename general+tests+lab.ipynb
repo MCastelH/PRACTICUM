{
 "cells": [
  {
   "cell_type": "markdown",
   "source": "## Paquets i dades originals ## ",
   "metadata": {
    "collapsed": false
   },
   "id": "56adfe3014ecabc7"
  },
  {
   "cell_type": "code",
   "source": [
    "import pandas as pd\n",
    "\n",
    "taula = pd.read_pickle('./data/processed/dataframe.pkl')\n",
    "from scipy.stats import shapiro\n",
    "from scipy.stats import ttest_ind\n",
    "from scipy.stats import mannwhitneyu\n",
    "from scipy.stats import chi2_contingency\n",
    "from auxiliary_functions import normalitat, t_test_mannwhitney_tests, xi_quadrat_test"
   ],
   "metadata": {
    "collapsed": false,
    "ExecuteTime": {
     "end_time": "2024-05-29T13:06:06.961995Z",
     "start_time": "2024-05-29T13:06:05.174425Z"
    }
   },
   "id": "9d4d551fe0b7e8e4",
   "outputs": [],
   "execution_count": 279
  },
  {
   "metadata": {},
   "cell_type": "markdown",
   "source": "##text justificacio##",
   "id": "7af146c59cecd3b7"
  },
  {
   "cell_type": "markdown",
   "source": [
    "Prèviament, he tractat les dades creant noves columnes que classifiquen millor tota la informació disponible"
   ],
   "metadata": {
    "collapsed": false
   },
   "id": "79bd9354065c0e5d"
  },
  {
   "cell_type": "code",
   "source": [
    "taula.head()"
   ],
   "metadata": {
    "collapsed": false,
    "ExecuteTime": {
     "end_time": "2024-05-29T13:06:07.196068Z",
     "start_time": "2024-05-29T13:06:06.961995Z"
    }
   },
   "id": "839eafe1a0f16ec4",
   "outputs": [
    {
     "data": {
      "text/plain": [
       "   edat sexe  visitaDietista  \\\n",
       "0    89    F               0   \n",
       "1    70    M               0   \n",
       "2    96    M               0   \n",
       "3    85    M               0   \n",
       "4    93    M               0   \n",
       "\n",
       "                                                labs  \\\n",
       "0                                                 []   \n",
       "1  [{'date': '20220524', 'name': 'PCR SARS-CoV2 S...   \n",
       "2                                                 []   \n",
       "3                                                 []   \n",
       "4  [{'date': '20220208', 'name': 'UREA Sèrum', 'l...   \n",
       "\n",
       "                                                 mna  \\\n",
       "0                                                 []   \n",
       "1                                                 []   \n",
       "2                                                 []   \n",
       "3                                                 []   \n",
       "4  [{'imc': '0', 'anorexia': '1', 'perduaPes': '1...   \n",
       "\n",
       "                                               emina canadenca  \\\n",
       "0  [{'activitat': '2', 'estatMental': '1', 'humit...        []   \n",
       "1  [{'activitat': '0', 'estatMental': '0', 'humit...        []   \n",
       "2  [{'activitat': '3', 'estatMental': '0', 'humit...        []   \n",
       "3  [{'activitat': '2', 'estatMental': '1', 'humit...        []   \n",
       "4  [{'activitat': '2', 'estatMental': '1', 'humit...        []   \n",
       "\n",
       "                                                 pes  \\\n",
       "0                                                 []   \n",
       "1  [{'valor': '64.7', 'data': '2022-10-04'}, {'va...   \n",
       "2                                                 []   \n",
       "3                                                 []   \n",
       "4  [{'valor': '49.900', 'data': '2022-06-02'}, {'...   \n",
       "\n",
       "                                                atcs  \\\n",
       "0  [{'codi': 'M01AE', 'dataInici': '2020-06-21 00...   \n",
       "1  [{'codi': 'C09AA', 'dataInici': '2021-05-26 00...   \n",
       "2  [{'codi': 'G04CA', 'dataInici': '2020-07-09 00...   \n",
       "3  [{'codi': 'G04CA', 'dataInici': '2020-07-15 00...   \n",
       "4  [{'codi': 'N02AA', 'dataInici': '2022-02-01 00...   \n",
       "\n",
       "                                              mecvvs  ...  \\\n",
       "0                                                 []  ...   \n",
       "1  [{'data': '20220930', 'pacientNoColabora': '',...  ...   \n",
       "2                                                 []  ...   \n",
       "3  [{'data': '20201204131810', 'disfagia': 'S', '...  ...   \n",
       "4  [{'data': '20220330172303', 'disfagiaConeguda'...  ...   \n",
       "\n",
       "                                 Glomerular Filtrate Pes més antic  \\\n",
       "0                                               None          None   \n",
       "1                                                >90            70   \n",
       "2                                               None          None   \n",
       "3                                               None          None   \n",
       "4  Proves afegides a un altre petició per extracc...        49.900   \n",
       "\n",
       "   Pes més nou  Data pes més antic  Data primer MECVV  \\\n",
       "0         None                None                NaT   \n",
       "1         53.7          2022-07-06                NaT   \n",
       "2         None                None                NaT   \n",
       "3         None                None         2020-12-04   \n",
       "4       49.900          2022-06-02                NaT   \n",
       "\n",
       "   Pes coincident primer MECVV  Pèrdua pes entre ingressos  Pèrdua pes total  \\\n",
       "0                         None                        None              None   \n",
       "1                         None                        None              16.3   \n",
       "2                         None                        None              None   \n",
       "3                         None                        None              None   \n",
       "4                         None                        None               0.0   \n",
       "\n",
       "   Data més antiga pneumònia  \\\n",
       "0                 2020-06-18   \n",
       "1                 2022-09-29   \n",
       "2                 2020-07-08   \n",
       "3                 2020-12-02   \n",
       "4                 2022-08-07   \n",
       "\n",
       "   Dies entre primer ICD pneumònia i primer MECVV positiu  \n",
       "0                                                NaN       \n",
       "1                                                NaN       \n",
       "2                                                NaN       \n",
       "3                                                2.0       \n",
       "4                                                NaN       \n",
       "\n",
       "[5 rows x 76 columns]"
      ],
      "text/html": [
       "<div>\n",
       "<style scoped>\n",
       "    .dataframe tbody tr th:only-of-type {\n",
       "        vertical-align: middle;\n",
       "    }\n",
       "\n",
       "    .dataframe tbody tr th {\n",
       "        vertical-align: top;\n",
       "    }\n",
       "\n",
       "    .dataframe thead th {\n",
       "        text-align: right;\n",
       "    }\n",
       "</style>\n",
       "<table border=\"1\" class=\"dataframe\">\n",
       "  <thead>\n",
       "    <tr style=\"text-align: right;\">\n",
       "      <th></th>\n",
       "      <th>edat</th>\n",
       "      <th>sexe</th>\n",
       "      <th>visitaDietista</th>\n",
       "      <th>labs</th>\n",
       "      <th>mna</th>\n",
       "      <th>emina</th>\n",
       "      <th>canadenca</th>\n",
       "      <th>pes</th>\n",
       "      <th>atcs</th>\n",
       "      <th>mecvvs</th>\n",
       "      <th>...</th>\n",
       "      <th>Glomerular Filtrate</th>\n",
       "      <th>Pes més antic</th>\n",
       "      <th>Pes més nou</th>\n",
       "      <th>Data pes més antic</th>\n",
       "      <th>Data primer MECVV</th>\n",
       "      <th>Pes coincident primer MECVV</th>\n",
       "      <th>Pèrdua pes entre ingressos</th>\n",
       "      <th>Pèrdua pes total</th>\n",
       "      <th>Data més antiga pneumònia</th>\n",
       "      <th>Dies entre primer ICD pneumònia i primer MECVV positiu</th>\n",
       "    </tr>\n",
       "  </thead>\n",
       "  <tbody>\n",
       "    <tr>\n",
       "      <th>0</th>\n",
       "      <td>89</td>\n",
       "      <td>F</td>\n",
       "      <td>0</td>\n",
       "      <td>[]</td>\n",
       "      <td>[]</td>\n",
       "      <td>[{'activitat': '2', 'estatMental': '1', 'humit...</td>\n",
       "      <td>[]</td>\n",
       "      <td>[]</td>\n",
       "      <td>[{'codi': 'M01AE', 'dataInici': '2020-06-21 00...</td>\n",
       "      <td>[]</td>\n",
       "      <td>...</td>\n",
       "      <td>None</td>\n",
       "      <td>None</td>\n",
       "      <td>None</td>\n",
       "      <td>None</td>\n",
       "      <td>NaT</td>\n",
       "      <td>None</td>\n",
       "      <td>None</td>\n",
       "      <td>None</td>\n",
       "      <td>2020-06-18</td>\n",
       "      <td>NaN</td>\n",
       "    </tr>\n",
       "    <tr>\n",
       "      <th>1</th>\n",
       "      <td>70</td>\n",
       "      <td>M</td>\n",
       "      <td>0</td>\n",
       "      <td>[{'date': '20220524', 'name': 'PCR SARS-CoV2 S...</td>\n",
       "      <td>[]</td>\n",
       "      <td>[{'activitat': '0', 'estatMental': '0', 'humit...</td>\n",
       "      <td>[]</td>\n",
       "      <td>[{'valor': '64.7', 'data': '2022-10-04'}, {'va...</td>\n",
       "      <td>[{'codi': 'C09AA', 'dataInici': '2021-05-26 00...</td>\n",
       "      <td>[{'data': '20220930', 'pacientNoColabora': '',...</td>\n",
       "      <td>...</td>\n",
       "      <td>&gt;90</td>\n",
       "      <td>70</td>\n",
       "      <td>53.7</td>\n",
       "      <td>2022-07-06</td>\n",
       "      <td>NaT</td>\n",
       "      <td>None</td>\n",
       "      <td>None</td>\n",
       "      <td>16.3</td>\n",
       "      <td>2022-09-29</td>\n",
       "      <td>NaN</td>\n",
       "    </tr>\n",
       "    <tr>\n",
       "      <th>2</th>\n",
       "      <td>96</td>\n",
       "      <td>M</td>\n",
       "      <td>0</td>\n",
       "      <td>[]</td>\n",
       "      <td>[]</td>\n",
       "      <td>[{'activitat': '3', 'estatMental': '0', 'humit...</td>\n",
       "      <td>[]</td>\n",
       "      <td>[]</td>\n",
       "      <td>[{'codi': 'G04CA', 'dataInici': '2020-07-09 00...</td>\n",
       "      <td>[]</td>\n",
       "      <td>...</td>\n",
       "      <td>None</td>\n",
       "      <td>None</td>\n",
       "      <td>None</td>\n",
       "      <td>None</td>\n",
       "      <td>NaT</td>\n",
       "      <td>None</td>\n",
       "      <td>None</td>\n",
       "      <td>None</td>\n",
       "      <td>2020-07-08</td>\n",
       "      <td>NaN</td>\n",
       "    </tr>\n",
       "    <tr>\n",
       "      <th>3</th>\n",
       "      <td>85</td>\n",
       "      <td>M</td>\n",
       "      <td>0</td>\n",
       "      <td>[]</td>\n",
       "      <td>[]</td>\n",
       "      <td>[{'activitat': '2', 'estatMental': '1', 'humit...</td>\n",
       "      <td>[]</td>\n",
       "      <td>[]</td>\n",
       "      <td>[{'codi': 'G04CA', 'dataInici': '2020-07-15 00...</td>\n",
       "      <td>[{'data': '20201204131810', 'disfagia': 'S', '...</td>\n",
       "      <td>...</td>\n",
       "      <td>None</td>\n",
       "      <td>None</td>\n",
       "      <td>None</td>\n",
       "      <td>None</td>\n",
       "      <td>2020-12-04</td>\n",
       "      <td>None</td>\n",
       "      <td>None</td>\n",
       "      <td>None</td>\n",
       "      <td>2020-12-02</td>\n",
       "      <td>2.0</td>\n",
       "    </tr>\n",
       "    <tr>\n",
       "      <th>4</th>\n",
       "      <td>93</td>\n",
       "      <td>M</td>\n",
       "      <td>0</td>\n",
       "      <td>[{'date': '20220208', 'name': 'UREA Sèrum', 'l...</td>\n",
       "      <td>[{'imc': '0', 'anorexia': '1', 'perduaPes': '1...</td>\n",
       "      <td>[{'activitat': '2', 'estatMental': '1', 'humit...</td>\n",
       "      <td>[]</td>\n",
       "      <td>[{'valor': '49.900', 'data': '2022-06-02'}, {'...</td>\n",
       "      <td>[{'codi': 'N02AA', 'dataInici': '2022-02-01 00...</td>\n",
       "      <td>[{'data': '20220330172303', 'disfagiaConeguda'...</td>\n",
       "      <td>...</td>\n",
       "      <td>Proves afegides a un altre petició per extracc...</td>\n",
       "      <td>49.900</td>\n",
       "      <td>49.900</td>\n",
       "      <td>2022-06-02</td>\n",
       "      <td>NaT</td>\n",
       "      <td>None</td>\n",
       "      <td>None</td>\n",
       "      <td>0.0</td>\n",
       "      <td>2022-08-07</td>\n",
       "      <td>NaN</td>\n",
       "    </tr>\n",
       "  </tbody>\n",
       "</table>\n",
       "<p>5 rows × 76 columns</p>\n",
       "</div>"
      ]
     },
     "execution_count": 280,
     "metadata": {},
     "output_type": "execute_result"
    }
   ],
   "execution_count": 280
  },
  {
   "cell_type": "markdown",
   "source": [
    "Distribuiré les dades en 3 grups (més un grup que conté la totalitat de dades):\n",
    "- **AMB_PA**: aquest grup està compost per pacients que contenen el codi ICD de pneumònia aspirativa al seu historial.\n",
    "- **AMB_PA_MECVV**: aquest grup conté els pacients que compleixen les següents característiques: \n",
    "    - Han donat positiu al MECVV (és a dir, que tenen disfàgia i una alteració en la seguretat o en l'eficàcia)\n",
    "    - Han sigut diagnosticats amb el codi ICD de pneumònia\n",
    "    - Han passat menys de 30 dies entre el diagnòstic amb l'ICD de pneumònia i el resultat positiu al MECVV\n",
    "- **SENSE_PA**: aquest grup està format per pacients que contenen el codi ICD de pneumònia o bé:\n",
    "    - Contenen el codi ICD de pneumònia\n",
    "    - Han donat positiu al MECVV \n",
    "    - Han passat més de 30 dies entre el diagnòstic amb l'ICD de pneumònia i  el resultat positiu del MECVV \n",
    "- **TOTAL**: aquest grup conté tots els pacients de l'estudi *#TODO: hacer descriptiva de este grupo*"
   ],
   "metadata": {
    "collapsed": false
   },
   "id": "278abfba5c4898fd"
  },
  {
   "cell_type": "markdown",
   "source": [
    "# AMB_PA "
   ],
   "metadata": {
    "collapsed": false
   },
   "id": "f658922a2474ceda"
  },
  {
   "cell_type": "code",
   "source": [
    "AMB_PA = taula[taula[\"PA diagnosticada\"] == 1.0]\n",
    "AMB_PA.head()"
   ],
   "metadata": {
    "collapsed": false,
    "ExecuteTime": {
     "end_time": "2024-05-29T13:06:07.583854Z",
     "start_time": "2024-05-29T13:06:07.454862Z"
    }
   },
   "id": "c98086151b5c466c",
   "outputs": [
    {
     "data": {
      "text/plain": [
       "    edat sexe  visitaDietista  \\\n",
       "0     89    F               0   \n",
       "1     70    M               0   \n",
       "3     85    M               0   \n",
       "6    101    F               0   \n",
       "12    86    M               0   \n",
       "\n",
       "                                                 labs mna  \\\n",
       "0                                                  []  []   \n",
       "1   [{'date': '20220524', 'name': 'PCR SARS-CoV2 S...  []   \n",
       "3                                                  []  []   \n",
       "6                                                  []  []   \n",
       "12                                                 []  []   \n",
       "\n",
       "                                                emina canadenca  \\\n",
       "0   [{'activitat': '2', 'estatMental': '1', 'humit...        []   \n",
       "1   [{'activitat': '0', 'estatMental': '0', 'humit...        []   \n",
       "3   [{'activitat': '2', 'estatMental': '1', 'humit...        []   \n",
       "6   [{'activitat': '3', 'estatMental': '1', 'humit...        []   \n",
       "12  [{'activitat': '1', 'estatMental': '1', 'humit...        []   \n",
       "\n",
       "                                                  pes  \\\n",
       "0                                                  []   \n",
       "1   [{'valor': '64.7', 'data': '2022-10-04'}, {'va...   \n",
       "3                                                  []   \n",
       "6                                                  []   \n",
       "12          [{'valor': '46.4', 'data': '2020-09-09'}]   \n",
       "\n",
       "                                                 atcs  \\\n",
       "0   [{'codi': 'M01AE', 'dataInici': '2020-06-21 00...   \n",
       "1   [{'codi': 'C09AA', 'dataInici': '2021-05-26 00...   \n",
       "3   [{'codi': 'G04CA', 'dataInici': '2020-07-15 00...   \n",
       "6   [{'codi': 'C09AA', 'dataInici': '2021-08-21 00...   \n",
       "12  [{'codi': 'G04CA', 'dataInici': '2020-09-04 00...   \n",
       "\n",
       "                                               mecvvs  ...  \\\n",
       "0                                                  []  ...   \n",
       "1   [{'data': '20220930', 'pacientNoColabora': '',...  ...   \n",
       "3   [{'data': '20201204131810', 'disfagia': 'S', '...  ...   \n",
       "6   [{'data': '20210819124116', 'disfagia': 'S', '...  ...   \n",
       "12  [{'data': '20200907110400', 'disfagia': 'S', '...  ...   \n",
       "\n",
       "   Glomerular Filtrate Pes més antic  Pes més nou  Data pes més antic  \\\n",
       "0                 None          None         None                None   \n",
       "1                  >90            70         53.7          2022-07-06   \n",
       "3                 None          None         None                None   \n",
       "6                 None          None         None                None   \n",
       "12                None          46.4         46.4          2020-09-09   \n",
       "\n",
       "    Data primer MECVV  Pes coincident primer MECVV  \\\n",
       "0                 NaT                         None   \n",
       "1                 NaT                         None   \n",
       "3          2020-12-04                         None   \n",
       "6          2021-08-19                         None   \n",
       "12         2020-09-07                         46.4   \n",
       "\n",
       "    Pèrdua pes entre ingressos  Pèrdua pes total  Data més antiga pneumònia  \\\n",
       "0                         None              None                 2020-06-18   \n",
       "1                         None              16.3                 2022-09-29   \n",
       "3                         None              None                 2020-12-02   \n",
       "6                         None              None                 2021-08-17   \n",
       "12                         0.0               0.0                 2020-09-04   \n",
       "\n",
       "    Dies entre primer ICD pneumònia i primer MECVV positiu  \n",
       "0                                                 NaN       \n",
       "1                                                 NaN       \n",
       "3                                                 2.0       \n",
       "6                                                 2.0       \n",
       "12                                                3.0       \n",
       "\n",
       "[5 rows x 76 columns]"
      ],
      "text/html": [
       "<div>\n",
       "<style scoped>\n",
       "    .dataframe tbody tr th:only-of-type {\n",
       "        vertical-align: middle;\n",
       "    }\n",
       "\n",
       "    .dataframe tbody tr th {\n",
       "        vertical-align: top;\n",
       "    }\n",
       "\n",
       "    .dataframe thead th {\n",
       "        text-align: right;\n",
       "    }\n",
       "</style>\n",
       "<table border=\"1\" class=\"dataframe\">\n",
       "  <thead>\n",
       "    <tr style=\"text-align: right;\">\n",
       "      <th></th>\n",
       "      <th>edat</th>\n",
       "      <th>sexe</th>\n",
       "      <th>visitaDietista</th>\n",
       "      <th>labs</th>\n",
       "      <th>mna</th>\n",
       "      <th>emina</th>\n",
       "      <th>canadenca</th>\n",
       "      <th>pes</th>\n",
       "      <th>atcs</th>\n",
       "      <th>mecvvs</th>\n",
       "      <th>...</th>\n",
       "      <th>Glomerular Filtrate</th>\n",
       "      <th>Pes més antic</th>\n",
       "      <th>Pes més nou</th>\n",
       "      <th>Data pes més antic</th>\n",
       "      <th>Data primer MECVV</th>\n",
       "      <th>Pes coincident primer MECVV</th>\n",
       "      <th>Pèrdua pes entre ingressos</th>\n",
       "      <th>Pèrdua pes total</th>\n",
       "      <th>Data més antiga pneumònia</th>\n",
       "      <th>Dies entre primer ICD pneumònia i primer MECVV positiu</th>\n",
       "    </tr>\n",
       "  </thead>\n",
       "  <tbody>\n",
       "    <tr>\n",
       "      <th>0</th>\n",
       "      <td>89</td>\n",
       "      <td>F</td>\n",
       "      <td>0</td>\n",
       "      <td>[]</td>\n",
       "      <td>[]</td>\n",
       "      <td>[{'activitat': '2', 'estatMental': '1', 'humit...</td>\n",
       "      <td>[]</td>\n",
       "      <td>[]</td>\n",
       "      <td>[{'codi': 'M01AE', 'dataInici': '2020-06-21 00...</td>\n",
       "      <td>[]</td>\n",
       "      <td>...</td>\n",
       "      <td>None</td>\n",
       "      <td>None</td>\n",
       "      <td>None</td>\n",
       "      <td>None</td>\n",
       "      <td>NaT</td>\n",
       "      <td>None</td>\n",
       "      <td>None</td>\n",
       "      <td>None</td>\n",
       "      <td>2020-06-18</td>\n",
       "      <td>NaN</td>\n",
       "    </tr>\n",
       "    <tr>\n",
       "      <th>1</th>\n",
       "      <td>70</td>\n",
       "      <td>M</td>\n",
       "      <td>0</td>\n",
       "      <td>[{'date': '20220524', 'name': 'PCR SARS-CoV2 S...</td>\n",
       "      <td>[]</td>\n",
       "      <td>[{'activitat': '0', 'estatMental': '0', 'humit...</td>\n",
       "      <td>[]</td>\n",
       "      <td>[{'valor': '64.7', 'data': '2022-10-04'}, {'va...</td>\n",
       "      <td>[{'codi': 'C09AA', 'dataInici': '2021-05-26 00...</td>\n",
       "      <td>[{'data': '20220930', 'pacientNoColabora': '',...</td>\n",
       "      <td>...</td>\n",
       "      <td>&gt;90</td>\n",
       "      <td>70</td>\n",
       "      <td>53.7</td>\n",
       "      <td>2022-07-06</td>\n",
       "      <td>NaT</td>\n",
       "      <td>None</td>\n",
       "      <td>None</td>\n",
       "      <td>16.3</td>\n",
       "      <td>2022-09-29</td>\n",
       "      <td>NaN</td>\n",
       "    </tr>\n",
       "    <tr>\n",
       "      <th>3</th>\n",
       "      <td>85</td>\n",
       "      <td>M</td>\n",
       "      <td>0</td>\n",
       "      <td>[]</td>\n",
       "      <td>[]</td>\n",
       "      <td>[{'activitat': '2', 'estatMental': '1', 'humit...</td>\n",
       "      <td>[]</td>\n",
       "      <td>[]</td>\n",
       "      <td>[{'codi': 'G04CA', 'dataInici': '2020-07-15 00...</td>\n",
       "      <td>[{'data': '20201204131810', 'disfagia': 'S', '...</td>\n",
       "      <td>...</td>\n",
       "      <td>None</td>\n",
       "      <td>None</td>\n",
       "      <td>None</td>\n",
       "      <td>None</td>\n",
       "      <td>2020-12-04</td>\n",
       "      <td>None</td>\n",
       "      <td>None</td>\n",
       "      <td>None</td>\n",
       "      <td>2020-12-02</td>\n",
       "      <td>2.0</td>\n",
       "    </tr>\n",
       "    <tr>\n",
       "      <th>6</th>\n",
       "      <td>101</td>\n",
       "      <td>F</td>\n",
       "      <td>0</td>\n",
       "      <td>[]</td>\n",
       "      <td>[]</td>\n",
       "      <td>[{'activitat': '3', 'estatMental': '1', 'humit...</td>\n",
       "      <td>[]</td>\n",
       "      <td>[]</td>\n",
       "      <td>[{'codi': 'C09AA', 'dataInici': '2021-08-21 00...</td>\n",
       "      <td>[{'data': '20210819124116', 'disfagia': 'S', '...</td>\n",
       "      <td>...</td>\n",
       "      <td>None</td>\n",
       "      <td>None</td>\n",
       "      <td>None</td>\n",
       "      <td>None</td>\n",
       "      <td>2021-08-19</td>\n",
       "      <td>None</td>\n",
       "      <td>None</td>\n",
       "      <td>None</td>\n",
       "      <td>2021-08-17</td>\n",
       "      <td>2.0</td>\n",
       "    </tr>\n",
       "    <tr>\n",
       "      <th>12</th>\n",
       "      <td>86</td>\n",
       "      <td>M</td>\n",
       "      <td>0</td>\n",
       "      <td>[]</td>\n",
       "      <td>[]</td>\n",
       "      <td>[{'activitat': '1', 'estatMental': '1', 'humit...</td>\n",
       "      <td>[]</td>\n",
       "      <td>[{'valor': '46.4', 'data': '2020-09-09'}]</td>\n",
       "      <td>[{'codi': 'G04CA', 'dataInici': '2020-09-04 00...</td>\n",
       "      <td>[{'data': '20200907110400', 'disfagia': 'S', '...</td>\n",
       "      <td>...</td>\n",
       "      <td>None</td>\n",
       "      <td>46.4</td>\n",
       "      <td>46.4</td>\n",
       "      <td>2020-09-09</td>\n",
       "      <td>2020-09-07</td>\n",
       "      <td>46.4</td>\n",
       "      <td>0.0</td>\n",
       "      <td>0.0</td>\n",
       "      <td>2020-09-04</td>\n",
       "      <td>3.0</td>\n",
       "    </tr>\n",
       "  </tbody>\n",
       "</table>\n",
       "<p>5 rows × 76 columns</p>\n",
       "</div>"
      ]
     },
     "execution_count": 281,
     "metadata": {},
     "output_type": "execute_result"
    }
   ],
   "execution_count": 281
  },
  {
   "cell_type": "markdown",
   "source": [
    "# AMB_PA_MECVV"
   ],
   "metadata": {
    "collapsed": false
   },
   "id": "103613713c5a9646"
  },
  {
   "cell_type": "code",
   "source": [
    "AMB_PA_MECVV = taula[\n",
    "    (taula[\"Dies entre primer ICD pneumònia i primer MECVV positiu\"] < 30)] \n",
    "AMB_PA_MECVV.head()"
   ],
   "metadata": {
    "collapsed": false,
    "ExecuteTime": {
     "end_time": "2024-05-29T13:06:08.299101Z",
     "start_time": "2024-05-29T13:06:08.163558Z"
    }
   },
   "id": "cd7f2059d97e680e",
   "outputs": [
    {
     "data": {
      "text/plain": [
       "    edat sexe  visitaDietista  \\\n",
       "3     85    M               0   \n",
       "6    101    F               0   \n",
       "12    86    M               0   \n",
       "27   100    M               0   \n",
       "28    95    F               0   \n",
       "\n",
       "                                                 labs mna  \\\n",
       "3                                                  []  []   \n",
       "6                                                  []  []   \n",
       "12                                                 []  []   \n",
       "27                                                 []  []   \n",
       "28  [{'date': '20220526', 'name': 'GLUCOSA Sèrum',...  []   \n",
       "\n",
       "                                                emina canadenca  \\\n",
       "3   [{'activitat': '2', 'estatMental': '1', 'humit...        []   \n",
       "6   [{'activitat': '3', 'estatMental': '1', 'humit...        []   \n",
       "12  [{'activitat': '1', 'estatMental': '1', 'humit...        []   \n",
       "27  [{'activitat': '3', 'estatMental': '0', 'humit...        []   \n",
       "28  [{'activitat': '3', 'estatMental': '0', 'humit...        []   \n",
       "\n",
       "                                                  pes  \\\n",
       "3                                                  []   \n",
       "6                                                  []   \n",
       "12          [{'valor': '46.4', 'data': '2020-09-09'}]   \n",
       "27  [{'valor': '0', 'data': '2021-09-14'}, {'valor...   \n",
       "28             [{'valor': '0', 'data': '2022-05-30'}]   \n",
       "\n",
       "                                                 atcs  \\\n",
       "3   [{'codi': 'G04CA', 'dataInici': '2020-07-15 00...   \n",
       "6   [{'codi': 'C09AA', 'dataInici': '2021-08-21 00...   \n",
       "12  [{'codi': 'G04CA', 'dataInici': '2020-09-04 00...   \n",
       "27  [{'codi': 'C08CA', 'dataInici': '2020-11-23 00...   \n",
       "28  [{'codi': 'C10AA', 'dataInici': '2020-11-18 00...   \n",
       "\n",
       "                                               mecvvs  ...  \\\n",
       "3   [{'data': '20201204131810', 'disfagia': 'S', '...  ...   \n",
       "6   [{'data': '20210819124116', 'disfagia': 'S', '...  ...   \n",
       "12  [{'data': '20200907110400', 'disfagia': 'S', '...  ...   \n",
       "27  [{'data': '20201125131827', 'disfagia': 'S', '...  ...   \n",
       "28  [{'data': '20220529115841', 'disfagia': 'S', '...  ...   \n",
       "\n",
       "   Glomerular Filtrate Pes més antic  Pes més nou  Data pes més antic  \\\n",
       "3                 None          None         None                None   \n",
       "6                 None          None         None                None   \n",
       "12                None          46.4         46.4          2020-09-09   \n",
       "27                None        41.100            0          2021-01-20   \n",
       "28                  48             0            0          2022-05-30   \n",
       "\n",
       "    Data primer MECVV  Pes coincident primer MECVV  \\\n",
       "3          2020-12-04                         None   \n",
       "6          2021-08-19                         None   \n",
       "12         2020-09-07                         46.4   \n",
       "27         2020-11-25                         None   \n",
       "28         2022-05-29                            0   \n",
       "\n",
       "    Pèrdua pes entre ingressos  Pèrdua pes total  Data més antiga pneumònia  \\\n",
       "3                         None              None                 2020-12-02   \n",
       "6                         None              None                 2021-08-17   \n",
       "12                         0.0               0.0                 2020-09-04   \n",
       "27                        None              41.1                 2020-12-02   \n",
       "28                         0.0               0.0                 2022-05-23   \n",
       "\n",
       "    Dies entre primer ICD pneumònia i primer MECVV positiu  \n",
       "3                                                 2.0       \n",
       "6                                                 2.0       \n",
       "12                                                3.0       \n",
       "27                                                7.0       \n",
       "28                                                6.0       \n",
       "\n",
       "[5 rows x 76 columns]"
      ],
      "text/html": [
       "<div>\n",
       "<style scoped>\n",
       "    .dataframe tbody tr th:only-of-type {\n",
       "        vertical-align: middle;\n",
       "    }\n",
       "\n",
       "    .dataframe tbody tr th {\n",
       "        vertical-align: top;\n",
       "    }\n",
       "\n",
       "    .dataframe thead th {\n",
       "        text-align: right;\n",
       "    }\n",
       "</style>\n",
       "<table border=\"1\" class=\"dataframe\">\n",
       "  <thead>\n",
       "    <tr style=\"text-align: right;\">\n",
       "      <th></th>\n",
       "      <th>edat</th>\n",
       "      <th>sexe</th>\n",
       "      <th>visitaDietista</th>\n",
       "      <th>labs</th>\n",
       "      <th>mna</th>\n",
       "      <th>emina</th>\n",
       "      <th>canadenca</th>\n",
       "      <th>pes</th>\n",
       "      <th>atcs</th>\n",
       "      <th>mecvvs</th>\n",
       "      <th>...</th>\n",
       "      <th>Glomerular Filtrate</th>\n",
       "      <th>Pes més antic</th>\n",
       "      <th>Pes més nou</th>\n",
       "      <th>Data pes més antic</th>\n",
       "      <th>Data primer MECVV</th>\n",
       "      <th>Pes coincident primer MECVV</th>\n",
       "      <th>Pèrdua pes entre ingressos</th>\n",
       "      <th>Pèrdua pes total</th>\n",
       "      <th>Data més antiga pneumònia</th>\n",
       "      <th>Dies entre primer ICD pneumònia i primer MECVV positiu</th>\n",
       "    </tr>\n",
       "  </thead>\n",
       "  <tbody>\n",
       "    <tr>\n",
       "      <th>3</th>\n",
       "      <td>85</td>\n",
       "      <td>M</td>\n",
       "      <td>0</td>\n",
       "      <td>[]</td>\n",
       "      <td>[]</td>\n",
       "      <td>[{'activitat': '2', 'estatMental': '1', 'humit...</td>\n",
       "      <td>[]</td>\n",
       "      <td>[]</td>\n",
       "      <td>[{'codi': 'G04CA', 'dataInici': '2020-07-15 00...</td>\n",
       "      <td>[{'data': '20201204131810', 'disfagia': 'S', '...</td>\n",
       "      <td>...</td>\n",
       "      <td>None</td>\n",
       "      <td>None</td>\n",
       "      <td>None</td>\n",
       "      <td>None</td>\n",
       "      <td>2020-12-04</td>\n",
       "      <td>None</td>\n",
       "      <td>None</td>\n",
       "      <td>None</td>\n",
       "      <td>2020-12-02</td>\n",
       "      <td>2.0</td>\n",
       "    </tr>\n",
       "    <tr>\n",
       "      <th>6</th>\n",
       "      <td>101</td>\n",
       "      <td>F</td>\n",
       "      <td>0</td>\n",
       "      <td>[]</td>\n",
       "      <td>[]</td>\n",
       "      <td>[{'activitat': '3', 'estatMental': '1', 'humit...</td>\n",
       "      <td>[]</td>\n",
       "      <td>[]</td>\n",
       "      <td>[{'codi': 'C09AA', 'dataInici': '2021-08-21 00...</td>\n",
       "      <td>[{'data': '20210819124116', 'disfagia': 'S', '...</td>\n",
       "      <td>...</td>\n",
       "      <td>None</td>\n",
       "      <td>None</td>\n",
       "      <td>None</td>\n",
       "      <td>None</td>\n",
       "      <td>2021-08-19</td>\n",
       "      <td>None</td>\n",
       "      <td>None</td>\n",
       "      <td>None</td>\n",
       "      <td>2021-08-17</td>\n",
       "      <td>2.0</td>\n",
       "    </tr>\n",
       "    <tr>\n",
       "      <th>12</th>\n",
       "      <td>86</td>\n",
       "      <td>M</td>\n",
       "      <td>0</td>\n",
       "      <td>[]</td>\n",
       "      <td>[]</td>\n",
       "      <td>[{'activitat': '1', 'estatMental': '1', 'humit...</td>\n",
       "      <td>[]</td>\n",
       "      <td>[{'valor': '46.4', 'data': '2020-09-09'}]</td>\n",
       "      <td>[{'codi': 'G04CA', 'dataInici': '2020-09-04 00...</td>\n",
       "      <td>[{'data': '20200907110400', 'disfagia': 'S', '...</td>\n",
       "      <td>...</td>\n",
       "      <td>None</td>\n",
       "      <td>46.4</td>\n",
       "      <td>46.4</td>\n",
       "      <td>2020-09-09</td>\n",
       "      <td>2020-09-07</td>\n",
       "      <td>46.4</td>\n",
       "      <td>0.0</td>\n",
       "      <td>0.0</td>\n",
       "      <td>2020-09-04</td>\n",
       "      <td>3.0</td>\n",
       "    </tr>\n",
       "    <tr>\n",
       "      <th>27</th>\n",
       "      <td>100</td>\n",
       "      <td>M</td>\n",
       "      <td>0</td>\n",
       "      <td>[]</td>\n",
       "      <td>[]</td>\n",
       "      <td>[{'activitat': '3', 'estatMental': '0', 'humit...</td>\n",
       "      <td>[]</td>\n",
       "      <td>[{'valor': '0', 'data': '2021-09-14'}, {'valor...</td>\n",
       "      <td>[{'codi': 'C08CA', 'dataInici': '2020-11-23 00...</td>\n",
       "      <td>[{'data': '20201125131827', 'disfagia': 'S', '...</td>\n",
       "      <td>...</td>\n",
       "      <td>None</td>\n",
       "      <td>41.100</td>\n",
       "      <td>0</td>\n",
       "      <td>2021-01-20</td>\n",
       "      <td>2020-11-25</td>\n",
       "      <td>None</td>\n",
       "      <td>None</td>\n",
       "      <td>41.1</td>\n",
       "      <td>2020-12-02</td>\n",
       "      <td>7.0</td>\n",
       "    </tr>\n",
       "    <tr>\n",
       "      <th>28</th>\n",
       "      <td>95</td>\n",
       "      <td>F</td>\n",
       "      <td>0</td>\n",
       "      <td>[{'date': '20220526', 'name': 'GLUCOSA Sèrum',...</td>\n",
       "      <td>[]</td>\n",
       "      <td>[{'activitat': '3', 'estatMental': '0', 'humit...</td>\n",
       "      <td>[]</td>\n",
       "      <td>[{'valor': '0', 'data': '2022-05-30'}]</td>\n",
       "      <td>[{'codi': 'C10AA', 'dataInici': '2020-11-18 00...</td>\n",
       "      <td>[{'data': '20220529115841', 'disfagia': 'S', '...</td>\n",
       "      <td>...</td>\n",
       "      <td>48</td>\n",
       "      <td>0</td>\n",
       "      <td>0</td>\n",
       "      <td>2022-05-30</td>\n",
       "      <td>2022-05-29</td>\n",
       "      <td>0</td>\n",
       "      <td>0.0</td>\n",
       "      <td>0.0</td>\n",
       "      <td>2022-05-23</td>\n",
       "      <td>6.0</td>\n",
       "    </tr>\n",
       "  </tbody>\n",
       "</table>\n",
       "<p>5 rows × 76 columns</p>\n",
       "</div>"
      ]
     },
     "execution_count": 282,
     "metadata": {},
     "output_type": "execute_result"
    }
   ],
   "execution_count": 282
  },
  {
   "cell_type": "markdown",
   "source": [
    "# SENSE_PA"
   ],
   "metadata": {
    "collapsed": false
   },
   "id": "dec4a6dab210a15"
  },
  {
   "cell_type": "code",
   "source": [
    "SENSE_PA = taula[\n",
    "           (taula[\"Dies entre primer ICD pneumònia i primer MECVV positiu\"] > 30) & \n",
    "           (taula['P diagnosticada'] == 1.0)]\n",
    "SENSE_PA.head()"
   ],
   "metadata": {
    "collapsed": false,
    "ExecuteTime": {
     "end_time": "2024-05-29T13:06:09.687094Z",
     "start_time": "2024-05-29T13:06:09.484602Z"
    }
   },
   "id": "99cb28165725d83b",
   "outputs": [
    {
     "data": {
      "text/plain": [
       "    edat sexe  visitaDietista  \\\n",
       "13    71    F               0   \n",
       "25    83    F               0   \n",
       "31    89    M               0   \n",
       "39    87    F               0   \n",
       "41    93    F               0   \n",
       "\n",
       "                                                 labs  \\\n",
       "13  [{'date': '20220216', 'name': 'CULTIU Esput', ...   \n",
       "25  [{'date': '20220308', 'name': 'UREA Sèrum', 'l...   \n",
       "31  [{'date': '20220318', 'name': 'BILIRUBINA TOTA...   \n",
       "39  [{'date': '20230619', 'name': 'GLUCOSA Sèrum',...   \n",
       "41  [{'date': '20221013', 'name': 'GLUCOSA Sèrum',...   \n",
       "\n",
       "                                                  mna  \\\n",
       "13                                                 []   \n",
       "25  [{'imc': '', 'anorexia': '', 'perduaPes': '', ...   \n",
       "31  [{'imc': '', 'anorexia': '', 'perduaPes': '', ...   \n",
       "39                                                 []   \n",
       "41                                                 []   \n",
       "\n",
       "                                                emina  \\\n",
       "13  [{'activitat': '3', 'estatMental': '0', 'humit...   \n",
       "25  [{'activitat': '0', 'estatMental': '1', 'humit...   \n",
       "31  [{'activitat': '2', 'estatMental': '1', 'humit...   \n",
       "39  [{'activitat': '1', 'estatMental': '0', 'humit...   \n",
       "41  [{'activitat': '1', 'estatMental': '1', 'humit...   \n",
       "\n",
       "                                            canadenca  \\\n",
       "13  [{'dataValoracio': '2020-09-06', 'horaValoraci...   \n",
       "25                                                 []   \n",
       "31                                                 []   \n",
       "39                                                 []   \n",
       "41                                                 []   \n",
       "\n",
       "                                                  pes  \\\n",
       "13                                                 []   \n",
       "25  [{'valor': '57', 'data': '2022-11-03'}, {'valo...   \n",
       "31  [{'valor': '75', 'data': '2022-01-11'}, {'valo...   \n",
       "39                                                 []   \n",
       "41  [{'valor': '0', 'data': '2023-06-02'}, {'valor...   \n",
       "\n",
       "                                                 atcs  \\\n",
       "13  [{'codi': 'C10AA', 'dataInici': '2020-09-06 00...   \n",
       "25  [{'codi': 'C10AA', 'dataInici': '2022-09-27 00...   \n",
       "31  [{'codi': 'C10AA', 'dataInici': '2021-12-23 00...   \n",
       "39  [{'codi': 'N02BE', 'dataInici': '2021-01-17 00...   \n",
       "41  [{'codi': 'C10AA', 'dataInici': '2021-02-05 00...   \n",
       "\n",
       "                                               mecvvs  ...  \\\n",
       "13  [{'data': '20200906175506', 'disfagia': 'N', '...  ...   \n",
       "25  [{'data': '20220929091303', 'disfagia': 'S', '...  ...   \n",
       "31  [{'data': '20220119101523', 'disfagia': 'N', '...  ...   \n",
       "39  [{'data': '20220111085147', 'disfagia': 'S', '...  ...   \n",
       "41  [{'data': '20230530155654', 'disfagia': 'S', '...  ...   \n",
       "\n",
       "   Glomerular Filtrate Pes més antic  Pes més nou  Data pes més antic  \\\n",
       "13                  70          None         None                None   \n",
       "25                  38            57         63.2          2022-11-03   \n",
       "31                  78            75           67          2022-01-11   \n",
       "39                 >90          None         None                None   \n",
       "41                  48             0           60          2023-06-02   \n",
       "\n",
       "    Data primer MECVV  Pes coincident primer MECVV  \\\n",
       "13         2020-09-07                         None   \n",
       "25         2022-09-29                         None   \n",
       "31         2022-02-01                         None   \n",
       "39         2022-01-11                         None   \n",
       "41         2023-05-30                            0   \n",
       "\n",
       "    Pèrdua pes entre ingressos  Pèrdua pes total  Data més antiga pneumònia  \\\n",
       "13                        None              None                 2022-02-14   \n",
       "25                        None              -6.2                 2023-04-09   \n",
       "31                        None               8.0                 2023-05-05   \n",
       "39                        None              None                 2023-06-19   \n",
       "41                         0.0             -60.0                 2023-03-21   \n",
       "\n",
       "    Dies entre primer ICD pneumònia i primer MECVV positiu  \n",
       "13                                              525.0       \n",
       "25                                              192.0       \n",
       "31                                              458.0       \n",
       "39                                              524.0       \n",
       "41                                               70.0       \n",
       "\n",
       "[5 rows x 76 columns]"
      ],
      "text/html": [
       "<div>\n",
       "<style scoped>\n",
       "    .dataframe tbody tr th:only-of-type {\n",
       "        vertical-align: middle;\n",
       "    }\n",
       "\n",
       "    .dataframe tbody tr th {\n",
       "        vertical-align: top;\n",
       "    }\n",
       "\n",
       "    .dataframe thead th {\n",
       "        text-align: right;\n",
       "    }\n",
       "</style>\n",
       "<table border=\"1\" class=\"dataframe\">\n",
       "  <thead>\n",
       "    <tr style=\"text-align: right;\">\n",
       "      <th></th>\n",
       "      <th>edat</th>\n",
       "      <th>sexe</th>\n",
       "      <th>visitaDietista</th>\n",
       "      <th>labs</th>\n",
       "      <th>mna</th>\n",
       "      <th>emina</th>\n",
       "      <th>canadenca</th>\n",
       "      <th>pes</th>\n",
       "      <th>atcs</th>\n",
       "      <th>mecvvs</th>\n",
       "      <th>...</th>\n",
       "      <th>Glomerular Filtrate</th>\n",
       "      <th>Pes més antic</th>\n",
       "      <th>Pes més nou</th>\n",
       "      <th>Data pes més antic</th>\n",
       "      <th>Data primer MECVV</th>\n",
       "      <th>Pes coincident primer MECVV</th>\n",
       "      <th>Pèrdua pes entre ingressos</th>\n",
       "      <th>Pèrdua pes total</th>\n",
       "      <th>Data més antiga pneumònia</th>\n",
       "      <th>Dies entre primer ICD pneumònia i primer MECVV positiu</th>\n",
       "    </tr>\n",
       "  </thead>\n",
       "  <tbody>\n",
       "    <tr>\n",
       "      <th>13</th>\n",
       "      <td>71</td>\n",
       "      <td>F</td>\n",
       "      <td>0</td>\n",
       "      <td>[{'date': '20220216', 'name': 'CULTIU Esput', ...</td>\n",
       "      <td>[]</td>\n",
       "      <td>[{'activitat': '3', 'estatMental': '0', 'humit...</td>\n",
       "      <td>[{'dataValoracio': '2020-09-06', 'horaValoraci...</td>\n",
       "      <td>[]</td>\n",
       "      <td>[{'codi': 'C10AA', 'dataInici': '2020-09-06 00...</td>\n",
       "      <td>[{'data': '20200906175506', 'disfagia': 'N', '...</td>\n",
       "      <td>...</td>\n",
       "      <td>70</td>\n",
       "      <td>None</td>\n",
       "      <td>None</td>\n",
       "      <td>None</td>\n",
       "      <td>2020-09-07</td>\n",
       "      <td>None</td>\n",
       "      <td>None</td>\n",
       "      <td>None</td>\n",
       "      <td>2022-02-14</td>\n",
       "      <td>525.0</td>\n",
       "    </tr>\n",
       "    <tr>\n",
       "      <th>25</th>\n",
       "      <td>83</td>\n",
       "      <td>F</td>\n",
       "      <td>0</td>\n",
       "      <td>[{'date': '20220308', 'name': 'UREA Sèrum', 'l...</td>\n",
       "      <td>[{'imc': '', 'anorexia': '', 'perduaPes': '', ...</td>\n",
       "      <td>[{'activitat': '0', 'estatMental': '1', 'humit...</td>\n",
       "      <td>[]</td>\n",
       "      <td>[{'valor': '57', 'data': '2022-11-03'}, {'valo...</td>\n",
       "      <td>[{'codi': 'C10AA', 'dataInici': '2022-09-27 00...</td>\n",
       "      <td>[{'data': '20220929091303', 'disfagia': 'S', '...</td>\n",
       "      <td>...</td>\n",
       "      <td>38</td>\n",
       "      <td>57</td>\n",
       "      <td>63.2</td>\n",
       "      <td>2022-11-03</td>\n",
       "      <td>2022-09-29</td>\n",
       "      <td>None</td>\n",
       "      <td>None</td>\n",
       "      <td>-6.2</td>\n",
       "      <td>2023-04-09</td>\n",
       "      <td>192.0</td>\n",
       "    </tr>\n",
       "    <tr>\n",
       "      <th>31</th>\n",
       "      <td>89</td>\n",
       "      <td>M</td>\n",
       "      <td>0</td>\n",
       "      <td>[{'date': '20220318', 'name': 'BILIRUBINA TOTA...</td>\n",
       "      <td>[{'imc': '', 'anorexia': '', 'perduaPes': '', ...</td>\n",
       "      <td>[{'activitat': '2', 'estatMental': '1', 'humit...</td>\n",
       "      <td>[]</td>\n",
       "      <td>[{'valor': '75', 'data': '2022-01-11'}, {'valo...</td>\n",
       "      <td>[{'codi': 'C10AA', 'dataInici': '2021-12-23 00...</td>\n",
       "      <td>[{'data': '20220119101523', 'disfagia': 'N', '...</td>\n",
       "      <td>...</td>\n",
       "      <td>78</td>\n",
       "      <td>75</td>\n",
       "      <td>67</td>\n",
       "      <td>2022-01-11</td>\n",
       "      <td>2022-02-01</td>\n",
       "      <td>None</td>\n",
       "      <td>None</td>\n",
       "      <td>8.0</td>\n",
       "      <td>2023-05-05</td>\n",
       "      <td>458.0</td>\n",
       "    </tr>\n",
       "    <tr>\n",
       "      <th>39</th>\n",
       "      <td>87</td>\n",
       "      <td>F</td>\n",
       "      <td>0</td>\n",
       "      <td>[{'date': '20230619', 'name': 'GLUCOSA Sèrum',...</td>\n",
       "      <td>[]</td>\n",
       "      <td>[{'activitat': '1', 'estatMental': '0', 'humit...</td>\n",
       "      <td>[]</td>\n",
       "      <td>[]</td>\n",
       "      <td>[{'codi': 'N02BE', 'dataInici': '2021-01-17 00...</td>\n",
       "      <td>[{'data': '20220111085147', 'disfagia': 'S', '...</td>\n",
       "      <td>...</td>\n",
       "      <td>&gt;90</td>\n",
       "      <td>None</td>\n",
       "      <td>None</td>\n",
       "      <td>None</td>\n",
       "      <td>2022-01-11</td>\n",
       "      <td>None</td>\n",
       "      <td>None</td>\n",
       "      <td>None</td>\n",
       "      <td>2023-06-19</td>\n",
       "      <td>524.0</td>\n",
       "    </tr>\n",
       "    <tr>\n",
       "      <th>41</th>\n",
       "      <td>93</td>\n",
       "      <td>F</td>\n",
       "      <td>0</td>\n",
       "      <td>[{'date': '20221013', 'name': 'GLUCOSA Sèrum',...</td>\n",
       "      <td>[]</td>\n",
       "      <td>[{'activitat': '1', 'estatMental': '1', 'humit...</td>\n",
       "      <td>[]</td>\n",
       "      <td>[{'valor': '0', 'data': '2023-06-02'}, {'valor...</td>\n",
       "      <td>[{'codi': 'C10AA', 'dataInici': '2021-02-05 00...</td>\n",
       "      <td>[{'data': '20230530155654', 'disfagia': 'S', '...</td>\n",
       "      <td>...</td>\n",
       "      <td>48</td>\n",
       "      <td>0</td>\n",
       "      <td>60</td>\n",
       "      <td>2023-06-02</td>\n",
       "      <td>2023-05-30</td>\n",
       "      <td>0</td>\n",
       "      <td>0.0</td>\n",
       "      <td>-60.0</td>\n",
       "      <td>2023-03-21</td>\n",
       "      <td>70.0</td>\n",
       "    </tr>\n",
       "  </tbody>\n",
       "</table>\n",
       "<p>5 rows × 76 columns</p>\n",
       "</div>"
      ]
     },
     "execution_count": 283,
     "metadata": {},
     "output_type": "execute_result"
    }
   ],
   "execution_count": 283
  },
  {
   "cell_type": "markdown",
   "source": [
    "# TOTAL"
   ],
   "metadata": {
    "collapsed": false
   },
   "id": "96e8546f52482484"
  },
  {
   "cell_type": "code",
   "source": [
    "TOTAL = taula\n",
    "taula.head()"
   ],
   "metadata": {
    "collapsed": false,
    "ExecuteTime": {
     "end_time": "2024-05-29T13:06:10.848877Z",
     "start_time": "2024-05-29T13:06:10.641949Z"
    }
   },
   "id": "6f3b6e5a0174bd39",
   "outputs": [
    {
     "data": {
      "text/plain": [
       "   edat sexe  visitaDietista  \\\n",
       "0    89    F               0   \n",
       "1    70    M               0   \n",
       "2    96    M               0   \n",
       "3    85    M               0   \n",
       "4    93    M               0   \n",
       "\n",
       "                                                labs  \\\n",
       "0                                                 []   \n",
       "1  [{'date': '20220524', 'name': 'PCR SARS-CoV2 S...   \n",
       "2                                                 []   \n",
       "3                                                 []   \n",
       "4  [{'date': '20220208', 'name': 'UREA Sèrum', 'l...   \n",
       "\n",
       "                                                 mna  \\\n",
       "0                                                 []   \n",
       "1                                                 []   \n",
       "2                                                 []   \n",
       "3                                                 []   \n",
       "4  [{'imc': '0', 'anorexia': '1', 'perduaPes': '1...   \n",
       "\n",
       "                                               emina canadenca  \\\n",
       "0  [{'activitat': '2', 'estatMental': '1', 'humit...        []   \n",
       "1  [{'activitat': '0', 'estatMental': '0', 'humit...        []   \n",
       "2  [{'activitat': '3', 'estatMental': '0', 'humit...        []   \n",
       "3  [{'activitat': '2', 'estatMental': '1', 'humit...        []   \n",
       "4  [{'activitat': '2', 'estatMental': '1', 'humit...        []   \n",
       "\n",
       "                                                 pes  \\\n",
       "0                                                 []   \n",
       "1  [{'valor': '64.7', 'data': '2022-10-04'}, {'va...   \n",
       "2                                                 []   \n",
       "3                                                 []   \n",
       "4  [{'valor': '49.900', 'data': '2022-06-02'}, {'...   \n",
       "\n",
       "                                                atcs  \\\n",
       "0  [{'codi': 'M01AE', 'dataInici': '2020-06-21 00...   \n",
       "1  [{'codi': 'C09AA', 'dataInici': '2021-05-26 00...   \n",
       "2  [{'codi': 'G04CA', 'dataInici': '2020-07-09 00...   \n",
       "3  [{'codi': 'G04CA', 'dataInici': '2020-07-15 00...   \n",
       "4  [{'codi': 'N02AA', 'dataInici': '2022-02-01 00...   \n",
       "\n",
       "                                              mecvvs  ...  \\\n",
       "0                                                 []  ...   \n",
       "1  [{'data': '20220930', 'pacientNoColabora': '',...  ...   \n",
       "2                                                 []  ...   \n",
       "3  [{'data': '20201204131810', 'disfagia': 'S', '...  ...   \n",
       "4  [{'data': '20220330172303', 'disfagiaConeguda'...  ...   \n",
       "\n",
       "                                 Glomerular Filtrate Pes més antic  \\\n",
       "0                                               None          None   \n",
       "1                                                >90            70   \n",
       "2                                               None          None   \n",
       "3                                               None          None   \n",
       "4  Proves afegides a un altre petició per extracc...        49.900   \n",
       "\n",
       "   Pes més nou  Data pes més antic  Data primer MECVV  \\\n",
       "0         None                None                NaT   \n",
       "1         53.7          2022-07-06                NaT   \n",
       "2         None                None                NaT   \n",
       "3         None                None         2020-12-04   \n",
       "4       49.900          2022-06-02                NaT   \n",
       "\n",
       "   Pes coincident primer MECVV  Pèrdua pes entre ingressos  Pèrdua pes total  \\\n",
       "0                         None                        None              None   \n",
       "1                         None                        None              16.3   \n",
       "2                         None                        None              None   \n",
       "3                         None                        None              None   \n",
       "4                         None                        None               0.0   \n",
       "\n",
       "   Data més antiga pneumònia  \\\n",
       "0                 2020-06-18   \n",
       "1                 2022-09-29   \n",
       "2                 2020-07-08   \n",
       "3                 2020-12-02   \n",
       "4                 2022-08-07   \n",
       "\n",
       "   Dies entre primer ICD pneumònia i primer MECVV positiu  \n",
       "0                                                NaN       \n",
       "1                                                NaN       \n",
       "2                                                NaN       \n",
       "3                                                2.0       \n",
       "4                                                NaN       \n",
       "\n",
       "[5 rows x 76 columns]"
      ],
      "text/html": [
       "<div>\n",
       "<style scoped>\n",
       "    .dataframe tbody tr th:only-of-type {\n",
       "        vertical-align: middle;\n",
       "    }\n",
       "\n",
       "    .dataframe tbody tr th {\n",
       "        vertical-align: top;\n",
       "    }\n",
       "\n",
       "    .dataframe thead th {\n",
       "        text-align: right;\n",
       "    }\n",
       "</style>\n",
       "<table border=\"1\" class=\"dataframe\">\n",
       "  <thead>\n",
       "    <tr style=\"text-align: right;\">\n",
       "      <th></th>\n",
       "      <th>edat</th>\n",
       "      <th>sexe</th>\n",
       "      <th>visitaDietista</th>\n",
       "      <th>labs</th>\n",
       "      <th>mna</th>\n",
       "      <th>emina</th>\n",
       "      <th>canadenca</th>\n",
       "      <th>pes</th>\n",
       "      <th>atcs</th>\n",
       "      <th>mecvvs</th>\n",
       "      <th>...</th>\n",
       "      <th>Glomerular Filtrate</th>\n",
       "      <th>Pes més antic</th>\n",
       "      <th>Pes més nou</th>\n",
       "      <th>Data pes més antic</th>\n",
       "      <th>Data primer MECVV</th>\n",
       "      <th>Pes coincident primer MECVV</th>\n",
       "      <th>Pèrdua pes entre ingressos</th>\n",
       "      <th>Pèrdua pes total</th>\n",
       "      <th>Data més antiga pneumònia</th>\n",
       "      <th>Dies entre primer ICD pneumònia i primer MECVV positiu</th>\n",
       "    </tr>\n",
       "  </thead>\n",
       "  <tbody>\n",
       "    <tr>\n",
       "      <th>0</th>\n",
       "      <td>89</td>\n",
       "      <td>F</td>\n",
       "      <td>0</td>\n",
       "      <td>[]</td>\n",
       "      <td>[]</td>\n",
       "      <td>[{'activitat': '2', 'estatMental': '1', 'humit...</td>\n",
       "      <td>[]</td>\n",
       "      <td>[]</td>\n",
       "      <td>[{'codi': 'M01AE', 'dataInici': '2020-06-21 00...</td>\n",
       "      <td>[]</td>\n",
       "      <td>...</td>\n",
       "      <td>None</td>\n",
       "      <td>None</td>\n",
       "      <td>None</td>\n",
       "      <td>None</td>\n",
       "      <td>NaT</td>\n",
       "      <td>None</td>\n",
       "      <td>None</td>\n",
       "      <td>None</td>\n",
       "      <td>2020-06-18</td>\n",
       "      <td>NaN</td>\n",
       "    </tr>\n",
       "    <tr>\n",
       "      <th>1</th>\n",
       "      <td>70</td>\n",
       "      <td>M</td>\n",
       "      <td>0</td>\n",
       "      <td>[{'date': '20220524', 'name': 'PCR SARS-CoV2 S...</td>\n",
       "      <td>[]</td>\n",
       "      <td>[{'activitat': '0', 'estatMental': '0', 'humit...</td>\n",
       "      <td>[]</td>\n",
       "      <td>[{'valor': '64.7', 'data': '2022-10-04'}, {'va...</td>\n",
       "      <td>[{'codi': 'C09AA', 'dataInici': '2021-05-26 00...</td>\n",
       "      <td>[{'data': '20220930', 'pacientNoColabora': '',...</td>\n",
       "      <td>...</td>\n",
       "      <td>&gt;90</td>\n",
       "      <td>70</td>\n",
       "      <td>53.7</td>\n",
       "      <td>2022-07-06</td>\n",
       "      <td>NaT</td>\n",
       "      <td>None</td>\n",
       "      <td>None</td>\n",
       "      <td>16.3</td>\n",
       "      <td>2022-09-29</td>\n",
       "      <td>NaN</td>\n",
       "    </tr>\n",
       "    <tr>\n",
       "      <th>2</th>\n",
       "      <td>96</td>\n",
       "      <td>M</td>\n",
       "      <td>0</td>\n",
       "      <td>[]</td>\n",
       "      <td>[]</td>\n",
       "      <td>[{'activitat': '3', 'estatMental': '0', 'humit...</td>\n",
       "      <td>[]</td>\n",
       "      <td>[]</td>\n",
       "      <td>[{'codi': 'G04CA', 'dataInici': '2020-07-09 00...</td>\n",
       "      <td>[]</td>\n",
       "      <td>...</td>\n",
       "      <td>None</td>\n",
       "      <td>None</td>\n",
       "      <td>None</td>\n",
       "      <td>None</td>\n",
       "      <td>NaT</td>\n",
       "      <td>None</td>\n",
       "      <td>None</td>\n",
       "      <td>None</td>\n",
       "      <td>2020-07-08</td>\n",
       "      <td>NaN</td>\n",
       "    </tr>\n",
       "    <tr>\n",
       "      <th>3</th>\n",
       "      <td>85</td>\n",
       "      <td>M</td>\n",
       "      <td>0</td>\n",
       "      <td>[]</td>\n",
       "      <td>[]</td>\n",
       "      <td>[{'activitat': '2', 'estatMental': '1', 'humit...</td>\n",
       "      <td>[]</td>\n",
       "      <td>[]</td>\n",
       "      <td>[{'codi': 'G04CA', 'dataInici': '2020-07-15 00...</td>\n",
       "      <td>[{'data': '20201204131810', 'disfagia': 'S', '...</td>\n",
       "      <td>...</td>\n",
       "      <td>None</td>\n",
       "      <td>None</td>\n",
       "      <td>None</td>\n",
       "      <td>None</td>\n",
       "      <td>2020-12-04</td>\n",
       "      <td>None</td>\n",
       "      <td>None</td>\n",
       "      <td>None</td>\n",
       "      <td>2020-12-02</td>\n",
       "      <td>2.0</td>\n",
       "    </tr>\n",
       "    <tr>\n",
       "      <th>4</th>\n",
       "      <td>93</td>\n",
       "      <td>M</td>\n",
       "      <td>0</td>\n",
       "      <td>[{'date': '20220208', 'name': 'UREA Sèrum', 'l...</td>\n",
       "      <td>[{'imc': '0', 'anorexia': '1', 'perduaPes': '1...</td>\n",
       "      <td>[{'activitat': '2', 'estatMental': '1', 'humit...</td>\n",
       "      <td>[]</td>\n",
       "      <td>[{'valor': '49.900', 'data': '2022-06-02'}, {'...</td>\n",
       "      <td>[{'codi': 'N02AA', 'dataInici': '2022-02-01 00...</td>\n",
       "      <td>[{'data': '20220330172303', 'disfagiaConeguda'...</td>\n",
       "      <td>...</td>\n",
       "      <td>Proves afegides a un altre petició per extracc...</td>\n",
       "      <td>49.900</td>\n",
       "      <td>49.900</td>\n",
       "      <td>2022-06-02</td>\n",
       "      <td>NaT</td>\n",
       "      <td>None</td>\n",
       "      <td>None</td>\n",
       "      <td>0.0</td>\n",
       "      <td>2022-08-07</td>\n",
       "      <td>NaN</td>\n",
       "    </tr>\n",
       "  </tbody>\n",
       "</table>\n",
       "<p>5 rows × 76 columns</p>\n",
       "</div>"
      ]
     },
     "execution_count": 284,
     "metadata": {},
     "output_type": "execute_result"
    }
   ],
   "execution_count": 284
  },
  {
   "cell_type": "markdown",
   "source": [
    "Ara que tinc totes les dades classificades en aquests grups, faré una descriptiva. També compararé els diferents grups amb el pvalor mitjançant T-test, test de Mann-Whitney o test Xi-quadrat per mirar la seva distribució, la qual esperaré que sigui similar entre el grup AMB_PA i AMB_PA_MECVV, i diferent entre SENSE_PA i els altres 2 grups. Els criteris que seguiré per utilitzar un test o un altre és, primer, fer un test de Shapiro-Wilk per comprovar si segueixen una distribució normal, si és així, usaré el T-test, si no, utilitzaré el de Mann-Whitney. Finalment, si la columna conté valors categòrics com és el cas del sexe (F/M), faré servir el test Xi-quadrat.\n"
   ],
   "metadata": {
    "collapsed": false
   },
   "id": "7f349a29c092d1bc"
  },
  {
   "cell_type": "markdown",
   "source": [
    "## Nombre de pacients"
   ],
   "metadata": {
    "collapsed": false
   },
   "id": "d2c6e2e4db8a9102"
  },
  {
   "cell_type": "code",
   "source": [
    "num_AMB_PA = len(AMB_PA)\n",
    "num_AMB_PA_MECVV= len(AMB_PA_MECVV)\n",
    "num_SENSE_PA = len(SENSE_PA)\n",
    "num_TOTAL = len(TOTAL)\n",
    "\n",
    "print(num_AMB_PA, num_AMB_PA_MECVV, num_SENSE_PA, num_TOTAL)"
   ],
   "metadata": {
    "collapsed": false,
    "ExecuteTime": {
     "end_time": "2024-05-29T13:06:12.792680Z",
     "start_time": "2024-05-29T13:06:12.785423Z"
    }
   },
   "id": "969666caeac2e84",
   "outputs": [
    {
     "name": "stdout",
     "output_type": "stream",
     "text": [
      "17 8 8 50\n"
     ]
    }
   ],
   "execution_count": 285
  },
  {
   "cell_type": "markdown",
   "source": [
    "#### Comparació distributiva"
   ],
   "metadata": {
    "collapsed": false
   },
   "id": "35b0561ffaa929bb"
  },
  {
   "cell_type": "markdown",
   "source": [
    "##### Normalitat i p-valor"
   ],
   "metadata": {
    "collapsed": false
   },
   "id": "b51d9472cf162838"
  },
  {
   "metadata": {},
   "cell_type": "markdown",
   "source": "No es pot calcular la normalitat perquè només hi ha un valor per grup i tampoc té sentit calcular el p-valor.  ",
   "id": "584f7be13dd001ee"
  },
  {
   "cell_type": "markdown",
   "source": [
    "## Edat"
   ],
   "metadata": {
    "collapsed": false
   },
   "id": "adaf5ac826bbcff0"
  },
  {
   "cell_type": "code",
   "source": [
    "edat_AMB_PA = AMB_PA['edat'].mean()\n",
    "desviacio_estandard_edat = AMB_PA['edat'].std()\n",
    "\n",
    "resultat = f\"{edat_AMB_PA:.2f} ± {desviacio_estandard_edat:.2f}\"\n",
    "print(\"Mitjana ± Desviació Estàndard de l'edat:\", resultat)\n"
   ],
   "metadata": {
    "collapsed": false,
    "ExecuteTime": {
     "end_time": "2024-05-29T13:06:13.966335Z",
     "start_time": "2024-05-29T13:06:13.959666Z"
    }
   },
   "id": "22a0c29cf6ffa1e5",
   "outputs": [
    {
     "name": "stdout",
     "output_type": "stream",
     "text": [
      "Mitjana ± Desviació Estàndard de l'edat: 87.06 ± 8.99\n"
     ]
    }
   ],
   "execution_count": 286
  },
  {
   "cell_type": "code",
   "source": [
    "edat_AMB_PA_MECVV = AMB_PA_MECVV['edat'].mean()\n",
    "desviacio_estandard_edat = AMB_PA_MECVV['edat'].std()\n",
    "\n",
    "resultat = f\"{edat_AMB_PA_MECVV:.2f} ± {desviacio_estandard_edat:.2f}\"\n",
    "print(\"Mitjana ± Desviació Estàndard de l'edat:\", resultat)"
   ],
   "metadata": {
    "collapsed": false,
    "ExecuteTime": {
     "end_time": "2024-05-29T13:06:15.181527Z",
     "start_time": "2024-05-29T13:06:15.173162Z"
    }
   },
   "id": "aee8f58b3aa0487f",
   "outputs": [
    {
     "name": "stdout",
     "output_type": "stream",
     "text": [
      "Mitjana ± Desviació Estàndard de l'edat: 91.50 ± 6.82\n"
     ]
    }
   ],
   "execution_count": 287
  },
  {
   "cell_type": "code",
   "source": [
    "edat_SENSE_PA = SENSE_PA['edat'].mean()\n",
    "desviacio_estandard_edat = SENSE_PA['edat'].std()\n",
    "\n",
    "resultat = f\"{edat_SENSE_PA:.2f} ± {desviacio_estandard_edat:.2f}\"\n",
    "print(\"Mitjana ± Desviació Estàndard de l'edat:\", resultat)"
   ],
   "metadata": {
    "collapsed": false,
    "ExecuteTime": {
     "end_time": "2024-05-29T13:06:16.886389Z",
     "start_time": "2024-05-29T13:06:16.875610Z"
    }
   },
   "id": "61d09e1a47990786",
   "outputs": [
    {
     "name": "stdout",
     "output_type": "stream",
     "text": [
      "Mitjana ± Desviació Estàndard de l'edat: 86.25 ± 6.90\n"
     ]
    }
   ],
   "execution_count": 288
  },
  {
   "cell_type": "code",
   "source": [
    "edat_TOTAL = TOTAL['edat'].mean()\n",
    "desviacio_estandard_TOTAL = TOTAL['edat'].std()\n",
    "\n",
    "resultat = f\"{edat_SENSE_PA:.2f} ± {desviacio_estandard_edat:.2f}\"\n",
    "print(\"Mitjana ± Desviació Estàndard de l'edat:\", resultat)"
   ],
   "metadata": {
    "collapsed": false,
    "ExecuteTime": {
     "end_time": "2024-05-29T13:06:17.526141Z",
     "start_time": "2024-05-29T13:06:17.512815Z"
    }
   },
   "id": "7aced4af97e5877b",
   "outputs": [
    {
     "name": "stdout",
     "output_type": "stream",
     "text": [
      "Mitjana ± Desviació Estàndard de l'edat: 86.25 ± 6.90\n"
     ]
    }
   ],
   "execution_count": 289
  },
  {
   "cell_type": "markdown",
   "source": [
    "#### Comparació distributiva"
   ],
   "metadata": {
    "collapsed": false
   },
   "id": "e09f58a0f71e7f3b"
  },
  {
   "cell_type": "markdown",
   "source": [
    "##### Normalitat i p-valor"
   ],
   "metadata": {
    "collapsed": false
   },
   "id": "67408c85d70856df"
  },
  {
   "metadata": {
    "ExecuteTime": {
     "end_time": "2024-05-29T13:06:18.668686Z",
     "start_time": "2024-05-29T13:06:18.653040Z"
    }
   },
   "cell_type": "code",
   "source": "normalitat({'AMB_PA': AMB_PA['edat'], 'AMB_PA_MECVV': AMB_PA_MECVV['edat'], 'SENSE_PA': SENSE_PA['edat'], 'TOTAL': TOTAL['edat']})",
   "id": "400dd3f4fcf0fe0c",
   "outputs": [
    {
     "name": "stdout",
     "output_type": "stream",
     "text": [
      "Grup AMB_PA:\n",
      "  Estadístic W = 0.9410\n",
      "  P-valor = 0.3297\n",
      "  El grup segueix una distribució normal.\n",
      "\n",
      "Grup AMB_PA_MECVV:\n",
      "  Estadístic W = 0.8304\n",
      "  P-valor = 0.0600\n",
      "  El grup segueix una distribució normal.\n",
      "\n",
      "Grup SENSE_PA:\n",
      "  Estadístic W = 0.8318\n",
      "  P-valor = 0.0619\n",
      "  El grup segueix una distribució normal.\n",
      "\n",
      "Grup TOTAL:\n",
      "  Estadístic W = 0.8491\n",
      "  P-valor = 0.0000\n",
      "  El grup no segueix una distribució normal.\n",
      "\n"
     ]
    }
   ],
   "execution_count": 290
  },
  {
   "cell_type": "markdown",
   "source": [
    "NORMALITAT: Tots els grups, menys el quart (TOTAL), segueixen una distribució normal"
   ],
   "metadata": {
    "collapsed": false
   },
   "id": "c9049788fbd9749b"
  },
  {
   "metadata": {
    "ExecuteTime": {
     "end_time": "2024-05-29T13:06:19.479823Z",
     "start_time": "2024-05-29T13:06:19.457921Z"
    }
   },
   "cell_type": "code",
   "source": [
    "t_test_mannwhitney_tests(grups_ttest={'AMB_PA': AMB_PA['edat'], 'AMB_PA_MECVV': AMB_PA_MECVV['edat'], 'SENSE_PA': SENSE_PA['edat']}, \n",
    "                         grups_mannwhitney= {'TOTAL': TOTAL['edat']})"
   ],
   "id": "2c00c65a5b3b54ee",
   "outputs": [
    {
     "name": "stdout",
     "output_type": "stream",
     "text": [
      "Comparación entre AMB_PA i AMB_PA_MECVV (t-test):\n",
      "  Estadístico de prueba = -1.2347\n",
      "  Valor p = 0.2294\n",
      "  No hay una diferencia significativa entre los grupos.\n",
      "\n",
      "Comparación entre AMB_PA i SENSE_PA (t-test):\n",
      "  Estadístico de prueba = 0.2243\n",
      "  Valor p = 0.8245\n",
      "  No hay una diferencia significativa entre los grupos.\n",
      "\n",
      "Comparación entre AMB_PA_MECVV i AMB_PA (t-test):\n",
      "  Estadístico de prueba = 1.2347\n",
      "  Valor p = 0.2294\n",
      "  No hay una diferencia significativa entre los grupos.\n",
      "\n",
      "Comparación entre AMB_PA_MECVV i SENSE_PA (t-test):\n",
      "  Estadístico de prueba = 1.5298\n",
      "  Valor p = 0.1483\n",
      "  No hay una diferencia significativa entre los grupos.\n",
      "\n",
      "Comparación entre SENSE_PA i AMB_PA (t-test):\n",
      "  Estadístico de prueba = -0.2243\n",
      "  Valor p = 0.8245\n",
      "  No hay una diferencia significativa entre los grupos.\n",
      "\n",
      "Comparación entre SENSE_PA i AMB_PA_MECVV (t-test):\n",
      "  Estadístico de prueba = -1.5298\n",
      "  Valor p = 0.1483\n",
      "  No hay una diferencia significativa entre los grupos.\n",
      "\n",
      "Comparación entre TOTAL i AMB_PA (Mann-Whitney U):\n",
      "  Estadístico de prueba = 66.5000\n",
      "  P-valor = 0.9534\n",
      "  No hay una diferencia significativa entre los grupos.\n",
      "\n",
      "Comparación entre TOTAL i AMB_PA_MECVV (Mann-Whitney U):\n",
      "  Estadístico de prueba = 23.0000\n",
      "  P-valor = 0.3703\n",
      "  No hay una diferencia significativa entre los grupos.\n",
      "\n",
      "Comparación entre TOTAL i SENSE_PA (Mann-Whitney U):\n",
      "  Estadístico de prueba = 32.0000\n",
      "  P-valor = 1.0000\n",
      "  No hay una diferencia significativa entre los grupos.\n",
      "\n"
     ]
    }
   ],
   "execution_count": 291
  },
  {
   "cell_type": "markdown",
   "source": [
    "## Sexe"
   ],
   "metadata": {
    "collapsed": false
   },
   "id": "c6abb73d5fe73b08"
  },
  {
   "cell_type": "code",
   "source": [
    "sexe_AMB_PA = AMB_PA['sexe'].value_counts()\n",
    "sexe_AMB_PA_MECVV = AMB_PA_MECVV['sexe'].value_counts()\n",
    "sexe_SENSE_PA = SENSE_PA['sexe'].value_counts()\n",
    "sexe_TOTAL = TOTAL['sexe'].value_counts()"
   ],
   "metadata": {
    "collapsed": false,
    "ExecuteTime": {
     "end_time": "2024-05-29T13:06:20.498557Z",
     "start_time": "2024-05-29T13:06:20.485133Z"
    }
   },
   "id": "1b09cb076d8fa5d3",
   "outputs": [],
   "execution_count": 292
  },
  {
   "cell_type": "code",
   "source": [
    "if 'F' in sexe_AMB_PA:\n",
    "    percent_female1 = (sexe_AMB_PA['F'] / len(AMB_PA)) * 100\n",
    "    print(f\"Percentatge de sexe femení en AMB_PA: {percent_female1:.2f}%\")\n",
    "else:\n",
    "    print(\"No hi ha dades de sexe femení en AMB_PA\")"
   ],
   "metadata": {
    "collapsed": false,
    "ExecuteTime": {
     "end_time": "2024-05-29T13:06:21.513406Z",
     "start_time": "2024-05-29T13:06:21.506775Z"
    }
   },
   "id": "d5caf8e9b22f322b",
   "outputs": [
    {
     "name": "stdout",
     "output_type": "stream",
     "text": [
      "Percentatge de sexe femení en AMB_PA: 47.06%\n"
     ]
    }
   ],
   "execution_count": 293
  },
  {
   "cell_type": "code",
   "source": [
    "if 'F' in sexe_AMB_PA_MECVV:\n",
    "    percent_female2 = (sexe_AMB_PA_MECVV['F'] / len(AMB_PA)) * 100\n",
    "    print(f\"Percentatge de sexe femení en AMB_PA_MECVV: {percent_female1:.2f}%\")\n",
    "else:\n",
    "    print(\"No hi ha dades de sexe femení en AMB_PA_MECVV\")"
   ],
   "metadata": {
    "collapsed": false,
    "ExecuteTime": {
     "end_time": "2024-05-29T13:06:22.092885Z",
     "start_time": "2024-05-29T13:06:22.083778Z"
    }
   },
   "id": "46c50231b24f4ee0",
   "outputs": [
    {
     "name": "stdout",
     "output_type": "stream",
     "text": [
      "Percentatge de sexe femení en AMB_PA_MECVV: 47.06%\n"
     ]
    }
   ],
   "execution_count": 294
  },
  {
   "cell_type": "code",
   "source": [
    "if 'F' in sexe_SENSE_PA:\n",
    "    percent_female3 = (sexe_SENSE_PA['F'] / len(SENSE_PA)) * 100\n",
    "    print(f\"Percentatge de sexe femení en SENSE_PA: {percent_female1:.2f}%\")\n",
    "else:\n",
    "    print(\"No hi ha dades de sexe femení en SENSE_PA\")\n"
   ],
   "metadata": {
    "collapsed": false,
    "ExecuteTime": {
     "end_time": "2024-05-29T13:06:22.968596Z",
     "start_time": "2024-05-29T13:06:22.956045Z"
    }
   },
   "id": "8f12965d73af924d",
   "outputs": [
    {
     "name": "stdout",
     "output_type": "stream",
     "text": [
      "Percentatge de sexe femení en SENSE_PA: 47.06%\n"
     ]
    }
   ],
   "execution_count": 295
  },
  {
   "cell_type": "code",
   "source": [
    "if 'F' in sexe_TOTAL:\n",
    "    percent_female3 = (sexe_TOTAL['F'] / len(TOTAL)) * 100\n",
    "    print(f\"Percentatge de sexe femení en TOTAL: {percent_female1:.2f}%\")\n",
    "else:\n",
    "    print(\"No hi ha dades de sexe femení en TOTAL\")"
   ],
   "metadata": {
    "collapsed": false,
    "ExecuteTime": {
     "end_time": "2024-05-29T13:06:23.439925Z",
     "start_time": "2024-05-29T13:06:23.429815Z"
    }
   },
   "id": "f498bfc321368860",
   "outputs": [
    {
     "name": "stdout",
     "output_type": "stream",
     "text": [
      "Percentatge de sexe femení en TOTAL: 47.06%\n"
     ]
    }
   ],
   "execution_count": 296
  },
  {
   "cell_type": "markdown",
   "source": [
    "#### Comparació distributiva"
   ],
   "metadata": {
    "collapsed": false
   },
   "id": "55c6eeb430d30a11"
  },
  {
   "cell_type": "markdown",
   "source": [
    "##### Normalitat i p-valor"
   ],
   "metadata": {
    "collapsed": false
   },
   "id": "3bc25023bde3d097"
  },
  {
   "cell_type": "markdown",
   "source": [
    "Al ser una variable categòrica no té sentit comprovar la seva normalitat. Realitzaré directament el test Xi-quadrat"
   ],
   "metadata": {
    "collapsed": false
   },
   "id": "6cace53c4bf9da3b"
  },
  {
   "cell_type": "code",
   "source": [
    "xi_quadrat_test({'AMB_PA': AMB_PA['sexe'],\n",
    "'AMB_PA_MECVV': AMB_PA_MECVV['sexe'],\n",
    "'SENSE_PA': SENSE_PA['sexe'],\n",
    "'TOTAL': TOTAL['sexe']})"
   ],
   "metadata": {
    "collapsed": false,
    "ExecuteTime": {
     "end_time": "2024-05-29T13:06:24.350034Z",
     "start_time": "2024-05-29T13:06:24.335422Z"
    }
   },
   "id": "38b4762f7bd5deb",
   "outputs": [
    {
     "name": "stdout",
     "output_type": "stream",
     "text": [
      "Comparación entre AMB_PA i AMB_PA_MECVV:\n",
      "  Estadístico chi-cuadrado = 0.3753\n",
      "  P-valor = 0.5401\n",
      "  No hay una diferencia significativa entre los grupos.\n",
      "\n",
      "Comparación entre AMB_PA i SENSE_PA:\n",
      "  Estadístico chi-cuadrado = 0.0000\n",
      "  P-valor = 1.0000\n",
      "  No hay una diferencia significativa entre los grupos.\n",
      "\n",
      "Comparación entre AMB_PA i TOTAL:\n",
      "  Estadístico chi-cuadrado = 0.4509\n",
      "  P-valor = 0.5019\n",
      "  No hay una diferencia significativa entre los grupos.\n",
      "\n",
      "Comparación entre AMB_PA_MECVV i AMB_PA:\n",
      "  Estadístico chi-cuadrado = 0.3753\n",
      "  P-valor = 0.5401\n",
      "  No hay una diferencia significativa entre los grupos.\n",
      "\n",
      "Comparación entre AMB_PA_MECVV i SENSE_PA:\n",
      "  Estadístico chi-cuadrado = 0.2667\n",
      "  P-valor = 0.6056\n",
      "  No hay una diferencia significativa entre los grupos.\n",
      "\n",
      "Comparación entre AMB_PA_MECVV i TOTAL:\n",
      "  Estadístico chi-cuadrado = 0.0096\n",
      "  P-valor = 0.9220\n",
      "  No hay una diferencia significativa entre los grupos.\n",
      "\n",
      "Comparación entre SENSE_PA i AMB_PA:\n",
      "  Estadístico chi-cuadrado = 0.0000\n",
      "  P-valor = 1.0000\n",
      "  No hay una diferencia significativa entre los grupos.\n",
      "\n",
      "Comparación entre SENSE_PA i AMB_PA_MECVV:\n",
      "  Estadístico chi-cuadrado = 0.2667\n",
      "  P-valor = 0.6056\n",
      "  No hay una diferencia significativa entre los grupos.\n",
      "\n",
      "Comparación entre SENSE_PA i TOTAL:\n",
      "  Estadístico chi-cuadrado = 0.2286\n",
      "  P-valor = 0.6326\n",
      "  No hay una diferencia significativa entre los grupos.\n",
      "\n",
      "Comparación entre TOTAL i AMB_PA:\n",
      "  Estadístico chi-cuadrado = 0.4509\n",
      "  P-valor = 0.5019\n",
      "  No hay una diferencia significativa entre los grupos.\n",
      "\n",
      "Comparación entre TOTAL i AMB_PA_MECVV:\n",
      "  Estadístico chi-cuadrado = 0.0096\n",
      "  P-valor = 0.9220\n",
      "  No hay una diferencia significativa entre los grupos.\n",
      "\n",
      "Comparación entre TOTAL i SENSE_PA:\n",
      "  Estadístico chi-cuadrado = 0.2286\n",
      "  P-valor = 0.6326\n",
      "  No hay una diferencia significativa entre los grupos.\n",
      "\n"
     ]
    }
   ],
   "execution_count": 297
  },
  {
   "cell_type": "markdown",
   "source": "## Admissions",
   "metadata": {
    "collapsed": false
   },
   "id": "b03c886f6561380"
  },
  {
   "cell_type": "code",
   "source": [
    "Mitjana_ingresos = AMB_PA['Admissions'].mean()\n",
    "desviacio_estandard_ingresos = AMB_PA['Admissions'].std()\n",
    "\n",
    "resultat = f\"{Mitjana_ingresos:.2f} ± {desviacio_estandard_ingresos:.2f}\"\n",
    "print(\"Mitjana ± Desviació Estàndard del nombre d'ingressos:\", resultat)"
   ],
   "metadata": {
    "collapsed": false,
    "ExecuteTime": {
     "end_time": "2024-05-29T13:06:25.175905Z",
     "start_time": "2024-05-29T13:06:25.168418Z"
    }
   },
   "id": "5f5b1ed0601e65e0",
   "outputs": [
    {
     "name": "stdout",
     "output_type": "stream",
     "text": [
      "Mitjana ± Desviació Estàndard del nombre d'ingressos: 2.18 ± 1.51\n"
     ]
    }
   ],
   "execution_count": 298
  },
  {
   "cell_type": "code",
   "source": [
    "Mitjana_ingresos = AMB_PA_MECVV['Admissions'].mean()\n",
    "desviacio_estandard_ingresos = AMB_PA_MECVV['Admissions'].std()\n",
    "\n",
    "resultat = f\"{Mitjana_ingresos:.2f} ± {desviacio_estandard_ingresos:.2f}\"\n",
    "print(\"Mitjana ± Desviació Estàndard del nombre d'ingressos:\", resultat)"
   ],
   "metadata": {
    "collapsed": false,
    "ExecuteTime": {
     "end_time": "2024-05-29T13:06:26.606104Z",
     "start_time": "2024-05-29T13:06:26.597808Z"
    }
   },
   "id": "b7512924ae5f37dd",
   "outputs": [
    {
     "name": "stdout",
     "output_type": "stream",
     "text": [
      "Mitjana ± Desviació Estàndard del nombre d'ingressos: 2.50 ± 1.07\n"
     ]
    }
   ],
   "execution_count": 299
  },
  {
   "cell_type": "code",
   "source": [
    "Mitjana_ingresos = SENSE_PA['Admissions'].mean()\n",
    "desviacio_estandard_ingresos = SENSE_PA['Admissions'].std()\n",
    "\n",
    "resultat = f\"{Mitjana_ingresos:.2f} ± {desviacio_estandard_ingresos:.2f}\"\n",
    "print(\"Mitjana ± Desviació Estàndard del nombre d'ingressos:\", resultat)"
   ],
   "metadata": {
    "collapsed": false,
    "ExecuteTime": {
     "end_time": "2024-05-29T13:06:27.334787Z",
     "start_time": "2024-05-29T13:06:27.325952Z"
    }
   },
   "id": "ca7238314446de9a",
   "outputs": [
    {
     "name": "stdout",
     "output_type": "stream",
     "text": [
      "Mitjana ± Desviació Estàndard del nombre d'ingressos: 3.00 ± 1.20\n"
     ]
    }
   ],
   "execution_count": 300
  },
  {
   "cell_type": "code",
   "source": [
    "Mitjana_ingresos = TOTAL['Admissions'].mean()\n",
    "desviacio_estandard_ingresos = TOTAL['Admissions'].std()\n",
    "\n",
    "resultat = f\"{Mitjana_ingresos:.2f} ± {desviacio_estandard_ingresos:.2f}\"\n",
    "print(\"Mitjana ± Desviació Estàndard del nombre d'ingressos:\", resultat)"
   ],
   "metadata": {
    "collapsed": false,
    "ExecuteTime": {
     "end_time": "2024-05-29T13:06:28.115363Z",
     "start_time": "2024-05-29T13:06:28.106526Z"
    }
   },
   "id": "f03a095c9dea7d7",
   "outputs": [
    {
     "name": "stdout",
     "output_type": "stream",
     "text": [
      "Mitjana ± Desviació Estàndard del nombre d'ingressos: 2.26 ± 1.90\n"
     ]
    }
   ],
   "execution_count": 301
  },
  {
   "cell_type": "markdown",
   "source": [
    "#### Comparació distributiva"
   ],
   "metadata": {
    "collapsed": false
   },
   "id": "f115479b5078ed5d"
  },
  {
   "cell_type": "markdown",
   "source": [
    "##### Normalitat i p-valor"
   ],
   "metadata": {
    "collapsed": false
   },
   "id": "a348275534435732"
  },
  {
   "metadata": {
    "ExecuteTime": {
     "end_time": "2024-05-29T13:06:29.053059Z",
     "start_time": "2024-05-29T13:06:28.834638Z"
    }
   },
   "cell_type": "code",
   "source": "normalitat([AMB_PA['Admissions'], AMB_PA_MECVV['Admissions'], SENSE_PA['Admissions'], TOTAL['Admissions']])",
   "id": "8494bd6ad2c17d35",
   "outputs": [
    {
     "ename": "AttributeError",
     "evalue": "'list' object has no attribute 'items'",
     "output_type": "error",
     "traceback": [
      "\u001B[1;31m---------------------------------------------------------------------------\u001B[0m",
      "\u001B[1;31mAttributeError\u001B[0m                            Traceback (most recent call last)",
      "Cell \u001B[1;32mIn[302], line 1\u001B[0m\n\u001B[1;32m----> 1\u001B[0m \u001B[43mnormalitat\u001B[49m\u001B[43m(\u001B[49m\u001B[43m[\u001B[49m\u001B[43mAMB_PA\u001B[49m\u001B[43m[\u001B[49m\u001B[38;5;124;43m'\u001B[39;49m\u001B[38;5;124;43mAdmissions\u001B[39;49m\u001B[38;5;124;43m'\u001B[39;49m\u001B[43m]\u001B[49m\u001B[43m,\u001B[49m\u001B[43m \u001B[49m\u001B[43mAMB_PA_MECVV\u001B[49m\u001B[43m[\u001B[49m\u001B[38;5;124;43m'\u001B[39;49m\u001B[38;5;124;43mAdmissions\u001B[39;49m\u001B[38;5;124;43m'\u001B[39;49m\u001B[43m]\u001B[49m\u001B[43m,\u001B[49m\u001B[43m \u001B[49m\u001B[43mSENSE_PA\u001B[49m\u001B[43m[\u001B[49m\u001B[38;5;124;43m'\u001B[39;49m\u001B[38;5;124;43mAdmissions\u001B[39;49m\u001B[38;5;124;43m'\u001B[39;49m\u001B[43m]\u001B[49m\u001B[43m,\u001B[49m\u001B[43m \u001B[49m\u001B[43mTOTAL\u001B[49m\u001B[43m[\u001B[49m\u001B[38;5;124;43m'\u001B[39;49m\u001B[38;5;124;43mAdmissions\u001B[39;49m\u001B[38;5;124;43m'\u001B[39;49m\u001B[43m]\u001B[49m\u001B[43m]\u001B[49m\u001B[43m)\u001B[49m\n",
      "File \u001B[1;32m~\\PycharmProjects\\practicum\\auxiliary_functions.py:766\u001B[0m, in \u001B[0;36mnormalitat\u001B[1;34m(grups, alpha)\u001B[0m\n\u001B[0;32m    765\u001B[0m \u001B[38;5;28;01mdef\u001B[39;00m \u001B[38;5;21mnormalitat\u001B[39m(grups: \u001B[38;5;28mdict\u001B[39m, alpha\u001B[38;5;241m=\u001B[39m\u001B[38;5;241m0.05\u001B[39m):\n\u001B[1;32m--> 766\u001B[0m     \u001B[38;5;28;01mfor\u001B[39;00m name, grup \u001B[38;5;129;01min\u001B[39;00m \u001B[43mgrups\u001B[49m\u001B[38;5;241;43m.\u001B[39;49m\u001B[43mitems\u001B[49m():  \u001B[38;5;66;03m# Bucle 'for' per iterar sobre cada grup\u001B[39;00m\n\u001B[0;32m    767\u001B[0m         stat, p_value \u001B[38;5;241m=\u001B[39m shapiro(grup)  \u001B[38;5;66;03m# Realització de la prova de Shapiro-Wilk en cada grup\u001B[39;00m\n\u001B[0;32m    768\u001B[0m         \u001B[38;5;28mprint\u001B[39m(\u001B[38;5;124mf\u001B[39m\u001B[38;5;124m\"\u001B[39m\u001B[38;5;124mGrup \u001B[39m\u001B[38;5;132;01m{\u001B[39;00mname\u001B[38;5;132;01m}\u001B[39;00m\u001B[38;5;124m:\u001B[39m\u001B[38;5;124m\"\u001B[39m)  \u001B[38;5;66;03m# Impresió del nom del grup\u001B[39;00m\n",
      "\u001B[1;31mAttributeError\u001B[0m: 'list' object has no attribute 'items'"
     ]
    }
   ],
   "execution_count": 302
  },
  {
   "cell_type": "markdown",
   "source": "NORMALITAT: Només el segon grup (AMB_PA_MECVV) segueix una distribució normal",
   "metadata": {
    "collapsed": false
   },
   "id": "6c20b863ace14e3a"
  },
  {
   "cell_type": "code",
   "source": [
    "stat, p_value_12 = mannwhitneyu(AMB_PA['Nombre ingressos'], AMB_PA_MECVV['Nombre ingressos'], alternative='two-sided')\n",
    "print(\"P-valor entre AMB_PA i AMB_PA_MECVV\", p_value_12)"
   ],
   "metadata": {
    "collapsed": false,
    "ExecuteTime": {
     "end_time": "2024-05-29T13:06:30.970035Z",
     "start_time": "2024-05-29T13:06:30.025162Z"
    }
   },
   "id": "e8d39f98e9712962",
   "outputs": [
    {
     "ename": "KeyError",
     "evalue": "'Nombre ingressos'",
     "output_type": "error",
     "traceback": [
      "\u001B[1;31m---------------------------------------------------------------------------\u001B[0m",
      "\u001B[1;31mKeyError\u001B[0m                                  Traceback (most recent call last)",
      "File \u001B[1;32m~\\PycharmProjects\\practicum\\.venv\\Lib\\site-packages\\pandas\\core\\indexes\\base.py:3805\u001B[0m, in \u001B[0;36mIndex.get_loc\u001B[1;34m(self, key)\u001B[0m\n\u001B[0;32m   3804\u001B[0m \u001B[38;5;28;01mtry\u001B[39;00m:\n\u001B[1;32m-> 3805\u001B[0m     \u001B[38;5;28;01mreturn\u001B[39;00m \u001B[38;5;28;43mself\u001B[39;49m\u001B[38;5;241;43m.\u001B[39;49m\u001B[43m_engine\u001B[49m\u001B[38;5;241;43m.\u001B[39;49m\u001B[43mget_loc\u001B[49m\u001B[43m(\u001B[49m\u001B[43mcasted_key\u001B[49m\u001B[43m)\u001B[49m\n\u001B[0;32m   3806\u001B[0m \u001B[38;5;28;01mexcept\u001B[39;00m \u001B[38;5;167;01mKeyError\u001B[39;00m \u001B[38;5;28;01mas\u001B[39;00m err:\n",
      "File \u001B[1;32mindex.pyx:167\u001B[0m, in \u001B[0;36mpandas._libs.index.IndexEngine.get_loc\u001B[1;34m()\u001B[0m\n",
      "File \u001B[1;32mindex.pyx:196\u001B[0m, in \u001B[0;36mpandas._libs.index.IndexEngine.get_loc\u001B[1;34m()\u001B[0m\n",
      "File \u001B[1;32mpandas\\\\_libs\\\\hashtable_class_helper.pxi:7081\u001B[0m, in \u001B[0;36mpandas._libs.hashtable.PyObjectHashTable.get_item\u001B[1;34m()\u001B[0m\n",
      "File \u001B[1;32mpandas\\\\_libs\\\\hashtable_class_helper.pxi:7089\u001B[0m, in \u001B[0;36mpandas._libs.hashtable.PyObjectHashTable.get_item\u001B[1;34m()\u001B[0m\n",
      "\u001B[1;31mKeyError\u001B[0m: 'Nombre ingressos'",
      "\nThe above exception was the direct cause of the following exception:\n",
      "\u001B[1;31mKeyError\u001B[0m                                  Traceback (most recent call last)",
      "Cell \u001B[1;32mIn[303], line 1\u001B[0m\n\u001B[1;32m----> 1\u001B[0m stat, p_value_12 \u001B[38;5;241m=\u001B[39m mannwhitneyu(\u001B[43mAMB_PA\u001B[49m\u001B[43m[\u001B[49m\u001B[38;5;124;43m'\u001B[39;49m\u001B[38;5;124;43mNombre ingressos\u001B[39;49m\u001B[38;5;124;43m'\u001B[39;49m\u001B[43m]\u001B[49m, AMB_PA_MECVV[\u001B[38;5;124m'\u001B[39m\u001B[38;5;124mNombre ingressos\u001B[39m\u001B[38;5;124m'\u001B[39m], alternative\u001B[38;5;241m=\u001B[39m\u001B[38;5;124m'\u001B[39m\u001B[38;5;124mtwo-sided\u001B[39m\u001B[38;5;124m'\u001B[39m)\n\u001B[0;32m      2\u001B[0m \u001B[38;5;28mprint\u001B[39m(\u001B[38;5;124m\"\u001B[39m\u001B[38;5;124mP-valor entre AMB_PA i AMB_PA_MECVV\u001B[39m\u001B[38;5;124m\"\u001B[39m, p_value_12)\n",
      "File \u001B[1;32m~\\PycharmProjects\\practicum\\.venv\\Lib\\site-packages\\pandas\\core\\frame.py:4090\u001B[0m, in \u001B[0;36mDataFrame.__getitem__\u001B[1;34m(self, key)\u001B[0m\n\u001B[0;32m   4088\u001B[0m \u001B[38;5;28;01mif\u001B[39;00m \u001B[38;5;28mself\u001B[39m\u001B[38;5;241m.\u001B[39mcolumns\u001B[38;5;241m.\u001B[39mnlevels \u001B[38;5;241m>\u001B[39m \u001B[38;5;241m1\u001B[39m:\n\u001B[0;32m   4089\u001B[0m     \u001B[38;5;28;01mreturn\u001B[39;00m \u001B[38;5;28mself\u001B[39m\u001B[38;5;241m.\u001B[39m_getitem_multilevel(key)\n\u001B[1;32m-> 4090\u001B[0m indexer \u001B[38;5;241m=\u001B[39m \u001B[38;5;28;43mself\u001B[39;49m\u001B[38;5;241;43m.\u001B[39;49m\u001B[43mcolumns\u001B[49m\u001B[38;5;241;43m.\u001B[39;49m\u001B[43mget_loc\u001B[49m\u001B[43m(\u001B[49m\u001B[43mkey\u001B[49m\u001B[43m)\u001B[49m\n\u001B[0;32m   4091\u001B[0m \u001B[38;5;28;01mif\u001B[39;00m is_integer(indexer):\n\u001B[0;32m   4092\u001B[0m     indexer \u001B[38;5;241m=\u001B[39m [indexer]\n",
      "File \u001B[1;32m~\\PycharmProjects\\practicum\\.venv\\Lib\\site-packages\\pandas\\core\\indexes\\base.py:3812\u001B[0m, in \u001B[0;36mIndex.get_loc\u001B[1;34m(self, key)\u001B[0m\n\u001B[0;32m   3807\u001B[0m     \u001B[38;5;28;01mif\u001B[39;00m \u001B[38;5;28misinstance\u001B[39m(casted_key, \u001B[38;5;28mslice\u001B[39m) \u001B[38;5;129;01mor\u001B[39;00m (\n\u001B[0;32m   3808\u001B[0m         \u001B[38;5;28misinstance\u001B[39m(casted_key, abc\u001B[38;5;241m.\u001B[39mIterable)\n\u001B[0;32m   3809\u001B[0m         \u001B[38;5;129;01mand\u001B[39;00m \u001B[38;5;28many\u001B[39m(\u001B[38;5;28misinstance\u001B[39m(x, \u001B[38;5;28mslice\u001B[39m) \u001B[38;5;28;01mfor\u001B[39;00m x \u001B[38;5;129;01min\u001B[39;00m casted_key)\n\u001B[0;32m   3810\u001B[0m     ):\n\u001B[0;32m   3811\u001B[0m         \u001B[38;5;28;01mraise\u001B[39;00m InvalidIndexError(key)\n\u001B[1;32m-> 3812\u001B[0m     \u001B[38;5;28;01mraise\u001B[39;00m \u001B[38;5;167;01mKeyError\u001B[39;00m(key) \u001B[38;5;28;01mfrom\u001B[39;00m \u001B[38;5;21;01merr\u001B[39;00m\n\u001B[0;32m   3813\u001B[0m \u001B[38;5;28;01mexcept\u001B[39;00m \u001B[38;5;167;01mTypeError\u001B[39;00m:\n\u001B[0;32m   3814\u001B[0m     \u001B[38;5;66;03m# If we have a listlike key, _check_indexing_error will raise\u001B[39;00m\n\u001B[0;32m   3815\u001B[0m     \u001B[38;5;66;03m#  InvalidIndexError. Otherwise we fall through and re-raise\u001B[39;00m\n\u001B[0;32m   3816\u001B[0m     \u001B[38;5;66;03m#  the TypeError.\u001B[39;00m\n\u001B[0;32m   3817\u001B[0m     \u001B[38;5;28mself\u001B[39m\u001B[38;5;241m.\u001B[39m_check_indexing_error(key)\n",
      "\u001B[1;31mKeyError\u001B[0m: 'Nombre ingressos'"
     ]
    }
   ],
   "execution_count": 303
  },
  {
   "cell_type": "code",
   "source": [
    "stat, p_value_13 = mannwhitneyu(AMB_PA['Nombre ingressos'], SENSE_PA['Nombre ingressos'], alternative='two-sided')\n",
    "print(\"P-valor entre AMB_PA i SENSE_PA\", p_value_13)"
   ],
   "metadata": {
    "collapsed": false,
    "ExecuteTime": {
     "end_time": "2024-05-29T13:06:31.115914Z",
     "start_time": "2024-05-29T13:06:31.039370Z"
    }
   },
   "id": "4c21824e90ef414a",
   "outputs": [
    {
     "ename": "KeyError",
     "evalue": "'Nombre ingressos'",
     "output_type": "error",
     "traceback": [
      "\u001B[1;31m---------------------------------------------------------------------------\u001B[0m",
      "\u001B[1;31mKeyError\u001B[0m                                  Traceback (most recent call last)",
      "File \u001B[1;32m~\\PycharmProjects\\practicum\\.venv\\Lib\\site-packages\\pandas\\core\\indexes\\base.py:3805\u001B[0m, in \u001B[0;36mIndex.get_loc\u001B[1;34m(self, key)\u001B[0m\n\u001B[0;32m   3804\u001B[0m \u001B[38;5;28;01mtry\u001B[39;00m:\n\u001B[1;32m-> 3805\u001B[0m     \u001B[38;5;28;01mreturn\u001B[39;00m \u001B[38;5;28;43mself\u001B[39;49m\u001B[38;5;241;43m.\u001B[39;49m\u001B[43m_engine\u001B[49m\u001B[38;5;241;43m.\u001B[39;49m\u001B[43mget_loc\u001B[49m\u001B[43m(\u001B[49m\u001B[43mcasted_key\u001B[49m\u001B[43m)\u001B[49m\n\u001B[0;32m   3806\u001B[0m \u001B[38;5;28;01mexcept\u001B[39;00m \u001B[38;5;167;01mKeyError\u001B[39;00m \u001B[38;5;28;01mas\u001B[39;00m err:\n",
      "File \u001B[1;32mindex.pyx:167\u001B[0m, in \u001B[0;36mpandas._libs.index.IndexEngine.get_loc\u001B[1;34m()\u001B[0m\n",
      "File \u001B[1;32mindex.pyx:196\u001B[0m, in \u001B[0;36mpandas._libs.index.IndexEngine.get_loc\u001B[1;34m()\u001B[0m\n",
      "File \u001B[1;32mpandas\\\\_libs\\\\hashtable_class_helper.pxi:7081\u001B[0m, in \u001B[0;36mpandas._libs.hashtable.PyObjectHashTable.get_item\u001B[1;34m()\u001B[0m\n",
      "File \u001B[1;32mpandas\\\\_libs\\\\hashtable_class_helper.pxi:7089\u001B[0m, in \u001B[0;36mpandas._libs.hashtable.PyObjectHashTable.get_item\u001B[1;34m()\u001B[0m\n",
      "\u001B[1;31mKeyError\u001B[0m: 'Nombre ingressos'",
      "\nThe above exception was the direct cause of the following exception:\n",
      "\u001B[1;31mKeyError\u001B[0m                                  Traceback (most recent call last)",
      "Cell \u001B[1;32mIn[304], line 1\u001B[0m\n\u001B[1;32m----> 1\u001B[0m stat, p_value_13 \u001B[38;5;241m=\u001B[39m mannwhitneyu(\u001B[43mAMB_PA\u001B[49m\u001B[43m[\u001B[49m\u001B[38;5;124;43m'\u001B[39;49m\u001B[38;5;124;43mNombre ingressos\u001B[39;49m\u001B[38;5;124;43m'\u001B[39;49m\u001B[43m]\u001B[49m, SENSE_PA[\u001B[38;5;124m'\u001B[39m\u001B[38;5;124mNombre ingressos\u001B[39m\u001B[38;5;124m'\u001B[39m], alternative\u001B[38;5;241m=\u001B[39m\u001B[38;5;124m'\u001B[39m\u001B[38;5;124mtwo-sided\u001B[39m\u001B[38;5;124m'\u001B[39m)\n\u001B[0;32m      2\u001B[0m \u001B[38;5;28mprint\u001B[39m(\u001B[38;5;124m\"\u001B[39m\u001B[38;5;124mP-valor entre AMB_PA i SENSE_PA\u001B[39m\u001B[38;5;124m\"\u001B[39m, p_value_13)\n",
      "File \u001B[1;32m~\\PycharmProjects\\practicum\\.venv\\Lib\\site-packages\\pandas\\core\\frame.py:4090\u001B[0m, in \u001B[0;36mDataFrame.__getitem__\u001B[1;34m(self, key)\u001B[0m\n\u001B[0;32m   4088\u001B[0m \u001B[38;5;28;01mif\u001B[39;00m \u001B[38;5;28mself\u001B[39m\u001B[38;5;241m.\u001B[39mcolumns\u001B[38;5;241m.\u001B[39mnlevels \u001B[38;5;241m>\u001B[39m \u001B[38;5;241m1\u001B[39m:\n\u001B[0;32m   4089\u001B[0m     \u001B[38;5;28;01mreturn\u001B[39;00m \u001B[38;5;28mself\u001B[39m\u001B[38;5;241m.\u001B[39m_getitem_multilevel(key)\n\u001B[1;32m-> 4090\u001B[0m indexer \u001B[38;5;241m=\u001B[39m \u001B[38;5;28;43mself\u001B[39;49m\u001B[38;5;241;43m.\u001B[39;49m\u001B[43mcolumns\u001B[49m\u001B[38;5;241;43m.\u001B[39;49m\u001B[43mget_loc\u001B[49m\u001B[43m(\u001B[49m\u001B[43mkey\u001B[49m\u001B[43m)\u001B[49m\n\u001B[0;32m   4091\u001B[0m \u001B[38;5;28;01mif\u001B[39;00m is_integer(indexer):\n\u001B[0;32m   4092\u001B[0m     indexer \u001B[38;5;241m=\u001B[39m [indexer]\n",
      "File \u001B[1;32m~\\PycharmProjects\\practicum\\.venv\\Lib\\site-packages\\pandas\\core\\indexes\\base.py:3812\u001B[0m, in \u001B[0;36mIndex.get_loc\u001B[1;34m(self, key)\u001B[0m\n\u001B[0;32m   3807\u001B[0m     \u001B[38;5;28;01mif\u001B[39;00m \u001B[38;5;28misinstance\u001B[39m(casted_key, \u001B[38;5;28mslice\u001B[39m) \u001B[38;5;129;01mor\u001B[39;00m (\n\u001B[0;32m   3808\u001B[0m         \u001B[38;5;28misinstance\u001B[39m(casted_key, abc\u001B[38;5;241m.\u001B[39mIterable)\n\u001B[0;32m   3809\u001B[0m         \u001B[38;5;129;01mand\u001B[39;00m \u001B[38;5;28many\u001B[39m(\u001B[38;5;28misinstance\u001B[39m(x, \u001B[38;5;28mslice\u001B[39m) \u001B[38;5;28;01mfor\u001B[39;00m x \u001B[38;5;129;01min\u001B[39;00m casted_key)\n\u001B[0;32m   3810\u001B[0m     ):\n\u001B[0;32m   3811\u001B[0m         \u001B[38;5;28;01mraise\u001B[39;00m InvalidIndexError(key)\n\u001B[1;32m-> 3812\u001B[0m     \u001B[38;5;28;01mraise\u001B[39;00m \u001B[38;5;167;01mKeyError\u001B[39;00m(key) \u001B[38;5;28;01mfrom\u001B[39;00m \u001B[38;5;21;01merr\u001B[39;00m\n\u001B[0;32m   3813\u001B[0m \u001B[38;5;28;01mexcept\u001B[39;00m \u001B[38;5;167;01mTypeError\u001B[39;00m:\n\u001B[0;32m   3814\u001B[0m     \u001B[38;5;66;03m# If we have a listlike key, _check_indexing_error will raise\u001B[39;00m\n\u001B[0;32m   3815\u001B[0m     \u001B[38;5;66;03m#  InvalidIndexError. Otherwise we fall through and re-raise\u001B[39;00m\n\u001B[0;32m   3816\u001B[0m     \u001B[38;5;66;03m#  the TypeError.\u001B[39;00m\n\u001B[0;32m   3817\u001B[0m     \u001B[38;5;28mself\u001B[39m\u001B[38;5;241m.\u001B[39m_check_indexing_error(key)\n",
      "\u001B[1;31mKeyError\u001B[0m: 'Nombre ingressos'"
     ]
    }
   ],
   "execution_count": 304
  },
  {
   "cell_type": "code",
   "source": [
    "stat, p_value_23 = ttest_ind(AMB_PA_MECVV['Nombre ingressos'], SENSE_PA['Nombre ingressos'], equal_var=False)\n",
    "print(\"P-valor entre AMB_PA_MECVV i SENSE_PA\", p_value_23)"
   ],
   "metadata": {
    "collapsed": false,
    "ExecuteTime": {
     "end_time": "2024-05-29T13:06:32.111809Z",
     "start_time": "2024-05-29T13:06:32.053786Z"
    }
   },
   "id": "b6e532718a41dfba",
   "outputs": [
    {
     "ename": "KeyError",
     "evalue": "'Nombre ingressos'",
     "output_type": "error",
     "traceback": [
      "\u001B[1;31m---------------------------------------------------------------------------\u001B[0m",
      "\u001B[1;31mKeyError\u001B[0m                                  Traceback (most recent call last)",
      "File \u001B[1;32m~\\PycharmProjects\\practicum\\.venv\\Lib\\site-packages\\pandas\\core\\indexes\\base.py:3805\u001B[0m, in \u001B[0;36mIndex.get_loc\u001B[1;34m(self, key)\u001B[0m\n\u001B[0;32m   3804\u001B[0m \u001B[38;5;28;01mtry\u001B[39;00m:\n\u001B[1;32m-> 3805\u001B[0m     \u001B[38;5;28;01mreturn\u001B[39;00m \u001B[38;5;28;43mself\u001B[39;49m\u001B[38;5;241;43m.\u001B[39;49m\u001B[43m_engine\u001B[49m\u001B[38;5;241;43m.\u001B[39;49m\u001B[43mget_loc\u001B[49m\u001B[43m(\u001B[49m\u001B[43mcasted_key\u001B[49m\u001B[43m)\u001B[49m\n\u001B[0;32m   3806\u001B[0m \u001B[38;5;28;01mexcept\u001B[39;00m \u001B[38;5;167;01mKeyError\u001B[39;00m \u001B[38;5;28;01mas\u001B[39;00m err:\n",
      "File \u001B[1;32mindex.pyx:167\u001B[0m, in \u001B[0;36mpandas._libs.index.IndexEngine.get_loc\u001B[1;34m()\u001B[0m\n",
      "File \u001B[1;32mindex.pyx:196\u001B[0m, in \u001B[0;36mpandas._libs.index.IndexEngine.get_loc\u001B[1;34m()\u001B[0m\n",
      "File \u001B[1;32mpandas\\\\_libs\\\\hashtable_class_helper.pxi:7081\u001B[0m, in \u001B[0;36mpandas._libs.hashtable.PyObjectHashTable.get_item\u001B[1;34m()\u001B[0m\n",
      "File \u001B[1;32mpandas\\\\_libs\\\\hashtable_class_helper.pxi:7089\u001B[0m, in \u001B[0;36mpandas._libs.hashtable.PyObjectHashTable.get_item\u001B[1;34m()\u001B[0m\n",
      "\u001B[1;31mKeyError\u001B[0m: 'Nombre ingressos'",
      "\nThe above exception was the direct cause of the following exception:\n",
      "\u001B[1;31mKeyError\u001B[0m                                  Traceback (most recent call last)",
      "Cell \u001B[1;32mIn[305], line 1\u001B[0m\n\u001B[1;32m----> 1\u001B[0m stat, p_value_23 \u001B[38;5;241m=\u001B[39m ttest_ind(\u001B[43mAMB_PA_MECVV\u001B[49m\u001B[43m[\u001B[49m\u001B[38;5;124;43m'\u001B[39;49m\u001B[38;5;124;43mNombre ingressos\u001B[39;49m\u001B[38;5;124;43m'\u001B[39;49m\u001B[43m]\u001B[49m, SENSE_PA[\u001B[38;5;124m'\u001B[39m\u001B[38;5;124mNombre ingressos\u001B[39m\u001B[38;5;124m'\u001B[39m], equal_var\u001B[38;5;241m=\u001B[39m\u001B[38;5;28;01mFalse\u001B[39;00m)\n\u001B[0;32m      2\u001B[0m \u001B[38;5;28mprint\u001B[39m(\u001B[38;5;124m\"\u001B[39m\u001B[38;5;124mP-valor entre AMB_PA_MECVV i SENSE_PA\u001B[39m\u001B[38;5;124m\"\u001B[39m, p_value_23)\n",
      "File \u001B[1;32m~\\PycharmProjects\\practicum\\.venv\\Lib\\site-packages\\pandas\\core\\frame.py:4090\u001B[0m, in \u001B[0;36mDataFrame.__getitem__\u001B[1;34m(self, key)\u001B[0m\n\u001B[0;32m   4088\u001B[0m \u001B[38;5;28;01mif\u001B[39;00m \u001B[38;5;28mself\u001B[39m\u001B[38;5;241m.\u001B[39mcolumns\u001B[38;5;241m.\u001B[39mnlevels \u001B[38;5;241m>\u001B[39m \u001B[38;5;241m1\u001B[39m:\n\u001B[0;32m   4089\u001B[0m     \u001B[38;5;28;01mreturn\u001B[39;00m \u001B[38;5;28mself\u001B[39m\u001B[38;5;241m.\u001B[39m_getitem_multilevel(key)\n\u001B[1;32m-> 4090\u001B[0m indexer \u001B[38;5;241m=\u001B[39m \u001B[38;5;28;43mself\u001B[39;49m\u001B[38;5;241;43m.\u001B[39;49m\u001B[43mcolumns\u001B[49m\u001B[38;5;241;43m.\u001B[39;49m\u001B[43mget_loc\u001B[49m\u001B[43m(\u001B[49m\u001B[43mkey\u001B[49m\u001B[43m)\u001B[49m\n\u001B[0;32m   4091\u001B[0m \u001B[38;5;28;01mif\u001B[39;00m is_integer(indexer):\n\u001B[0;32m   4092\u001B[0m     indexer \u001B[38;5;241m=\u001B[39m [indexer]\n",
      "File \u001B[1;32m~\\PycharmProjects\\practicum\\.venv\\Lib\\site-packages\\pandas\\core\\indexes\\base.py:3812\u001B[0m, in \u001B[0;36mIndex.get_loc\u001B[1;34m(self, key)\u001B[0m\n\u001B[0;32m   3807\u001B[0m     \u001B[38;5;28;01mif\u001B[39;00m \u001B[38;5;28misinstance\u001B[39m(casted_key, \u001B[38;5;28mslice\u001B[39m) \u001B[38;5;129;01mor\u001B[39;00m (\n\u001B[0;32m   3808\u001B[0m         \u001B[38;5;28misinstance\u001B[39m(casted_key, abc\u001B[38;5;241m.\u001B[39mIterable)\n\u001B[0;32m   3809\u001B[0m         \u001B[38;5;129;01mand\u001B[39;00m \u001B[38;5;28many\u001B[39m(\u001B[38;5;28misinstance\u001B[39m(x, \u001B[38;5;28mslice\u001B[39m) \u001B[38;5;28;01mfor\u001B[39;00m x \u001B[38;5;129;01min\u001B[39;00m casted_key)\n\u001B[0;32m   3810\u001B[0m     ):\n\u001B[0;32m   3811\u001B[0m         \u001B[38;5;28;01mraise\u001B[39;00m InvalidIndexError(key)\n\u001B[1;32m-> 3812\u001B[0m     \u001B[38;5;28;01mraise\u001B[39;00m \u001B[38;5;167;01mKeyError\u001B[39;00m(key) \u001B[38;5;28;01mfrom\u001B[39;00m \u001B[38;5;21;01merr\u001B[39;00m\n\u001B[0;32m   3813\u001B[0m \u001B[38;5;28;01mexcept\u001B[39;00m \u001B[38;5;167;01mTypeError\u001B[39;00m:\n\u001B[0;32m   3814\u001B[0m     \u001B[38;5;66;03m# If we have a listlike key, _check_indexing_error will raise\u001B[39;00m\n\u001B[0;32m   3815\u001B[0m     \u001B[38;5;66;03m#  InvalidIndexError. Otherwise we fall through and re-raise\u001B[39;00m\n\u001B[0;32m   3816\u001B[0m     \u001B[38;5;66;03m#  the TypeError.\u001B[39;00m\n\u001B[0;32m   3817\u001B[0m     \u001B[38;5;28mself\u001B[39m\u001B[38;5;241m.\u001B[39m_check_indexing_error(key)\n",
      "\u001B[1;31mKeyError\u001B[0m: 'Nombre ingressos'"
     ]
    }
   ],
   "execution_count": 305
  },
  {
   "cell_type": "code",
   "source": [
    "stat, p_value_14 = mannwhitneyu(AMB_PA['Nombre ingressos'], TOTAL['Nombre ingressos'], alternative='two-sided')\n",
    "print(\"P-valor entre AMB_PA i TOTAL\", p_value_14)"
   ],
   "metadata": {
    "collapsed": false,
    "ExecuteTime": {
     "end_time": "2024-05-29T13:06:33.099038Z",
     "start_time": "2024-05-29T13:06:33.013274Z"
    }
   },
   "id": "4283248d600ed2f5",
   "outputs": [
    {
     "ename": "KeyError",
     "evalue": "'Nombre ingressos'",
     "output_type": "error",
     "traceback": [
      "\u001B[1;31m---------------------------------------------------------------------------\u001B[0m",
      "\u001B[1;31mKeyError\u001B[0m                                  Traceback (most recent call last)",
      "File \u001B[1;32m~\\PycharmProjects\\practicum\\.venv\\Lib\\site-packages\\pandas\\core\\indexes\\base.py:3805\u001B[0m, in \u001B[0;36mIndex.get_loc\u001B[1;34m(self, key)\u001B[0m\n\u001B[0;32m   3804\u001B[0m \u001B[38;5;28;01mtry\u001B[39;00m:\n\u001B[1;32m-> 3805\u001B[0m     \u001B[38;5;28;01mreturn\u001B[39;00m \u001B[38;5;28;43mself\u001B[39;49m\u001B[38;5;241;43m.\u001B[39;49m\u001B[43m_engine\u001B[49m\u001B[38;5;241;43m.\u001B[39;49m\u001B[43mget_loc\u001B[49m\u001B[43m(\u001B[49m\u001B[43mcasted_key\u001B[49m\u001B[43m)\u001B[49m\n\u001B[0;32m   3806\u001B[0m \u001B[38;5;28;01mexcept\u001B[39;00m \u001B[38;5;167;01mKeyError\u001B[39;00m \u001B[38;5;28;01mas\u001B[39;00m err:\n",
      "File \u001B[1;32mindex.pyx:167\u001B[0m, in \u001B[0;36mpandas._libs.index.IndexEngine.get_loc\u001B[1;34m()\u001B[0m\n",
      "File \u001B[1;32mindex.pyx:196\u001B[0m, in \u001B[0;36mpandas._libs.index.IndexEngine.get_loc\u001B[1;34m()\u001B[0m\n",
      "File \u001B[1;32mpandas\\\\_libs\\\\hashtable_class_helper.pxi:7081\u001B[0m, in \u001B[0;36mpandas._libs.hashtable.PyObjectHashTable.get_item\u001B[1;34m()\u001B[0m\n",
      "File \u001B[1;32mpandas\\\\_libs\\\\hashtable_class_helper.pxi:7089\u001B[0m, in \u001B[0;36mpandas._libs.hashtable.PyObjectHashTable.get_item\u001B[1;34m()\u001B[0m\n",
      "\u001B[1;31mKeyError\u001B[0m: 'Nombre ingressos'",
      "\nThe above exception was the direct cause of the following exception:\n",
      "\u001B[1;31mKeyError\u001B[0m                                  Traceback (most recent call last)",
      "Cell \u001B[1;32mIn[306], line 1\u001B[0m\n\u001B[1;32m----> 1\u001B[0m stat, p_value_14 \u001B[38;5;241m=\u001B[39m mannwhitneyu(\u001B[43mAMB_PA\u001B[49m\u001B[43m[\u001B[49m\u001B[38;5;124;43m'\u001B[39;49m\u001B[38;5;124;43mNombre ingressos\u001B[39;49m\u001B[38;5;124;43m'\u001B[39;49m\u001B[43m]\u001B[49m, TOTAL[\u001B[38;5;124m'\u001B[39m\u001B[38;5;124mNombre ingressos\u001B[39m\u001B[38;5;124m'\u001B[39m], alternative\u001B[38;5;241m=\u001B[39m\u001B[38;5;124m'\u001B[39m\u001B[38;5;124mtwo-sided\u001B[39m\u001B[38;5;124m'\u001B[39m)\n\u001B[0;32m      2\u001B[0m \u001B[38;5;28mprint\u001B[39m(\u001B[38;5;124m\"\u001B[39m\u001B[38;5;124mP-valor entre AMB_PA i TOTAL\u001B[39m\u001B[38;5;124m\"\u001B[39m, p_value_14)\n",
      "File \u001B[1;32m~\\PycharmProjects\\practicum\\.venv\\Lib\\site-packages\\pandas\\core\\frame.py:4090\u001B[0m, in \u001B[0;36mDataFrame.__getitem__\u001B[1;34m(self, key)\u001B[0m\n\u001B[0;32m   4088\u001B[0m \u001B[38;5;28;01mif\u001B[39;00m \u001B[38;5;28mself\u001B[39m\u001B[38;5;241m.\u001B[39mcolumns\u001B[38;5;241m.\u001B[39mnlevels \u001B[38;5;241m>\u001B[39m \u001B[38;5;241m1\u001B[39m:\n\u001B[0;32m   4089\u001B[0m     \u001B[38;5;28;01mreturn\u001B[39;00m \u001B[38;5;28mself\u001B[39m\u001B[38;5;241m.\u001B[39m_getitem_multilevel(key)\n\u001B[1;32m-> 4090\u001B[0m indexer \u001B[38;5;241m=\u001B[39m \u001B[38;5;28;43mself\u001B[39;49m\u001B[38;5;241;43m.\u001B[39;49m\u001B[43mcolumns\u001B[49m\u001B[38;5;241;43m.\u001B[39;49m\u001B[43mget_loc\u001B[49m\u001B[43m(\u001B[49m\u001B[43mkey\u001B[49m\u001B[43m)\u001B[49m\n\u001B[0;32m   4091\u001B[0m \u001B[38;5;28;01mif\u001B[39;00m is_integer(indexer):\n\u001B[0;32m   4092\u001B[0m     indexer \u001B[38;5;241m=\u001B[39m [indexer]\n",
      "File \u001B[1;32m~\\PycharmProjects\\practicum\\.venv\\Lib\\site-packages\\pandas\\core\\indexes\\base.py:3812\u001B[0m, in \u001B[0;36mIndex.get_loc\u001B[1;34m(self, key)\u001B[0m\n\u001B[0;32m   3807\u001B[0m     \u001B[38;5;28;01mif\u001B[39;00m \u001B[38;5;28misinstance\u001B[39m(casted_key, \u001B[38;5;28mslice\u001B[39m) \u001B[38;5;129;01mor\u001B[39;00m (\n\u001B[0;32m   3808\u001B[0m         \u001B[38;5;28misinstance\u001B[39m(casted_key, abc\u001B[38;5;241m.\u001B[39mIterable)\n\u001B[0;32m   3809\u001B[0m         \u001B[38;5;129;01mand\u001B[39;00m \u001B[38;5;28many\u001B[39m(\u001B[38;5;28misinstance\u001B[39m(x, \u001B[38;5;28mslice\u001B[39m) \u001B[38;5;28;01mfor\u001B[39;00m x \u001B[38;5;129;01min\u001B[39;00m casted_key)\n\u001B[0;32m   3810\u001B[0m     ):\n\u001B[0;32m   3811\u001B[0m         \u001B[38;5;28;01mraise\u001B[39;00m InvalidIndexError(key)\n\u001B[1;32m-> 3812\u001B[0m     \u001B[38;5;28;01mraise\u001B[39;00m \u001B[38;5;167;01mKeyError\u001B[39;00m(key) \u001B[38;5;28;01mfrom\u001B[39;00m \u001B[38;5;21;01merr\u001B[39;00m\n\u001B[0;32m   3813\u001B[0m \u001B[38;5;28;01mexcept\u001B[39;00m \u001B[38;5;167;01mTypeError\u001B[39;00m:\n\u001B[0;32m   3814\u001B[0m     \u001B[38;5;66;03m# If we have a listlike key, _check_indexing_error will raise\u001B[39;00m\n\u001B[0;32m   3815\u001B[0m     \u001B[38;5;66;03m#  InvalidIndexError. Otherwise we fall through and re-raise\u001B[39;00m\n\u001B[0;32m   3816\u001B[0m     \u001B[38;5;66;03m#  the TypeError.\u001B[39;00m\n\u001B[0;32m   3817\u001B[0m     \u001B[38;5;28mself\u001B[39m\u001B[38;5;241m.\u001B[39m_check_indexing_error(key)\n",
      "\u001B[1;31mKeyError\u001B[0m: 'Nombre ingressos'"
     ]
    }
   ],
   "execution_count": 306
  },
  {
   "cell_type": "code",
   "source": [
    "stat, p_value_24 = mannwhitneyu(AMB_PA_MECVV['Nombre ingressos'], TOTAL['Nombre ingressos'], alternative='two-sided')\n",
    "print(\"P-valor entre AMB_PA_MECVV i TOTAL\", p_value_24)"
   ],
   "metadata": {
    "collapsed": false,
    "ExecuteTime": {
     "end_time": "2024-05-29T13:06:33.754143Z",
     "start_time": "2024-05-29T13:06:33.679720Z"
    }
   },
   "id": "a8b203caff207248",
   "outputs": [
    {
     "ename": "KeyError",
     "evalue": "'Nombre ingressos'",
     "output_type": "error",
     "traceback": [
      "\u001B[1;31m---------------------------------------------------------------------------\u001B[0m",
      "\u001B[1;31mKeyError\u001B[0m                                  Traceback (most recent call last)",
      "File \u001B[1;32m~\\PycharmProjects\\practicum\\.venv\\Lib\\site-packages\\pandas\\core\\indexes\\base.py:3805\u001B[0m, in \u001B[0;36mIndex.get_loc\u001B[1;34m(self, key)\u001B[0m\n\u001B[0;32m   3804\u001B[0m \u001B[38;5;28;01mtry\u001B[39;00m:\n\u001B[1;32m-> 3805\u001B[0m     \u001B[38;5;28;01mreturn\u001B[39;00m \u001B[38;5;28;43mself\u001B[39;49m\u001B[38;5;241;43m.\u001B[39;49m\u001B[43m_engine\u001B[49m\u001B[38;5;241;43m.\u001B[39;49m\u001B[43mget_loc\u001B[49m\u001B[43m(\u001B[49m\u001B[43mcasted_key\u001B[49m\u001B[43m)\u001B[49m\n\u001B[0;32m   3806\u001B[0m \u001B[38;5;28;01mexcept\u001B[39;00m \u001B[38;5;167;01mKeyError\u001B[39;00m \u001B[38;5;28;01mas\u001B[39;00m err:\n",
      "File \u001B[1;32mindex.pyx:167\u001B[0m, in \u001B[0;36mpandas._libs.index.IndexEngine.get_loc\u001B[1;34m()\u001B[0m\n",
      "File \u001B[1;32mindex.pyx:196\u001B[0m, in \u001B[0;36mpandas._libs.index.IndexEngine.get_loc\u001B[1;34m()\u001B[0m\n",
      "File \u001B[1;32mpandas\\\\_libs\\\\hashtable_class_helper.pxi:7081\u001B[0m, in \u001B[0;36mpandas._libs.hashtable.PyObjectHashTable.get_item\u001B[1;34m()\u001B[0m\n",
      "File \u001B[1;32mpandas\\\\_libs\\\\hashtable_class_helper.pxi:7089\u001B[0m, in \u001B[0;36mpandas._libs.hashtable.PyObjectHashTable.get_item\u001B[1;34m()\u001B[0m\n",
      "\u001B[1;31mKeyError\u001B[0m: 'Nombre ingressos'",
      "\nThe above exception was the direct cause of the following exception:\n",
      "\u001B[1;31mKeyError\u001B[0m                                  Traceback (most recent call last)",
      "Cell \u001B[1;32mIn[307], line 1\u001B[0m\n\u001B[1;32m----> 1\u001B[0m stat, p_value_24 \u001B[38;5;241m=\u001B[39m mannwhitneyu(\u001B[43mAMB_PA_MECVV\u001B[49m\u001B[43m[\u001B[49m\u001B[38;5;124;43m'\u001B[39;49m\u001B[38;5;124;43mNombre ingressos\u001B[39;49m\u001B[38;5;124;43m'\u001B[39;49m\u001B[43m]\u001B[49m, TOTAL[\u001B[38;5;124m'\u001B[39m\u001B[38;5;124mNombre ingressos\u001B[39m\u001B[38;5;124m'\u001B[39m], alternative\u001B[38;5;241m=\u001B[39m\u001B[38;5;124m'\u001B[39m\u001B[38;5;124mtwo-sided\u001B[39m\u001B[38;5;124m'\u001B[39m)\n\u001B[0;32m      2\u001B[0m \u001B[38;5;28mprint\u001B[39m(\u001B[38;5;124m\"\u001B[39m\u001B[38;5;124mP-valor entre AMB_PA_MECVV i TOTAL\u001B[39m\u001B[38;5;124m\"\u001B[39m, p_value_24)\n",
      "File \u001B[1;32m~\\PycharmProjects\\practicum\\.venv\\Lib\\site-packages\\pandas\\core\\frame.py:4090\u001B[0m, in \u001B[0;36mDataFrame.__getitem__\u001B[1;34m(self, key)\u001B[0m\n\u001B[0;32m   4088\u001B[0m \u001B[38;5;28;01mif\u001B[39;00m \u001B[38;5;28mself\u001B[39m\u001B[38;5;241m.\u001B[39mcolumns\u001B[38;5;241m.\u001B[39mnlevels \u001B[38;5;241m>\u001B[39m \u001B[38;5;241m1\u001B[39m:\n\u001B[0;32m   4089\u001B[0m     \u001B[38;5;28;01mreturn\u001B[39;00m \u001B[38;5;28mself\u001B[39m\u001B[38;5;241m.\u001B[39m_getitem_multilevel(key)\n\u001B[1;32m-> 4090\u001B[0m indexer \u001B[38;5;241m=\u001B[39m \u001B[38;5;28;43mself\u001B[39;49m\u001B[38;5;241;43m.\u001B[39;49m\u001B[43mcolumns\u001B[49m\u001B[38;5;241;43m.\u001B[39;49m\u001B[43mget_loc\u001B[49m\u001B[43m(\u001B[49m\u001B[43mkey\u001B[49m\u001B[43m)\u001B[49m\n\u001B[0;32m   4091\u001B[0m \u001B[38;5;28;01mif\u001B[39;00m is_integer(indexer):\n\u001B[0;32m   4092\u001B[0m     indexer \u001B[38;5;241m=\u001B[39m [indexer]\n",
      "File \u001B[1;32m~\\PycharmProjects\\practicum\\.venv\\Lib\\site-packages\\pandas\\core\\indexes\\base.py:3812\u001B[0m, in \u001B[0;36mIndex.get_loc\u001B[1;34m(self, key)\u001B[0m\n\u001B[0;32m   3807\u001B[0m     \u001B[38;5;28;01mif\u001B[39;00m \u001B[38;5;28misinstance\u001B[39m(casted_key, \u001B[38;5;28mslice\u001B[39m) \u001B[38;5;129;01mor\u001B[39;00m (\n\u001B[0;32m   3808\u001B[0m         \u001B[38;5;28misinstance\u001B[39m(casted_key, abc\u001B[38;5;241m.\u001B[39mIterable)\n\u001B[0;32m   3809\u001B[0m         \u001B[38;5;129;01mand\u001B[39;00m \u001B[38;5;28many\u001B[39m(\u001B[38;5;28misinstance\u001B[39m(x, \u001B[38;5;28mslice\u001B[39m) \u001B[38;5;28;01mfor\u001B[39;00m x \u001B[38;5;129;01min\u001B[39;00m casted_key)\n\u001B[0;32m   3810\u001B[0m     ):\n\u001B[0;32m   3811\u001B[0m         \u001B[38;5;28;01mraise\u001B[39;00m InvalidIndexError(key)\n\u001B[1;32m-> 3812\u001B[0m     \u001B[38;5;28;01mraise\u001B[39;00m \u001B[38;5;167;01mKeyError\u001B[39;00m(key) \u001B[38;5;28;01mfrom\u001B[39;00m \u001B[38;5;21;01merr\u001B[39;00m\n\u001B[0;32m   3813\u001B[0m \u001B[38;5;28;01mexcept\u001B[39;00m \u001B[38;5;167;01mTypeError\u001B[39;00m:\n\u001B[0;32m   3814\u001B[0m     \u001B[38;5;66;03m# If we have a listlike key, _check_indexing_error will raise\u001B[39;00m\n\u001B[0;32m   3815\u001B[0m     \u001B[38;5;66;03m#  InvalidIndexError. Otherwise we fall through and re-raise\u001B[39;00m\n\u001B[0;32m   3816\u001B[0m     \u001B[38;5;66;03m#  the TypeError.\u001B[39;00m\n\u001B[0;32m   3817\u001B[0m     \u001B[38;5;28mself\u001B[39m\u001B[38;5;241m.\u001B[39m_check_indexing_error(key)\n",
      "\u001B[1;31mKeyError\u001B[0m: 'Nombre ingressos'"
     ]
    }
   ],
   "execution_count": 307
  },
  {
   "cell_type": "code",
   "source": [
    "stat, p_value_34 = mannwhitneyu(SENSE_PA['Nombre ingressos'], TOTAL['Nombre ingressos'], alternative='two-sided')\n",
    "print(\"P-valor entre SENSE_PA i TOTAL\", p_value_34)"
   ],
   "metadata": {
    "collapsed": false,
    "ExecuteTime": {
     "end_time": "2024-05-29T13:06:34.905641Z",
     "start_time": "2024-05-29T13:06:34.841850Z"
    }
   },
   "id": "38d18f40128ed8aa",
   "outputs": [
    {
     "ename": "KeyError",
     "evalue": "'Nombre ingressos'",
     "output_type": "error",
     "traceback": [
      "\u001B[1;31m---------------------------------------------------------------------------\u001B[0m",
      "\u001B[1;31mKeyError\u001B[0m                                  Traceback (most recent call last)",
      "File \u001B[1;32m~\\PycharmProjects\\practicum\\.venv\\Lib\\site-packages\\pandas\\core\\indexes\\base.py:3805\u001B[0m, in \u001B[0;36mIndex.get_loc\u001B[1;34m(self, key)\u001B[0m\n\u001B[0;32m   3804\u001B[0m \u001B[38;5;28;01mtry\u001B[39;00m:\n\u001B[1;32m-> 3805\u001B[0m     \u001B[38;5;28;01mreturn\u001B[39;00m \u001B[38;5;28;43mself\u001B[39;49m\u001B[38;5;241;43m.\u001B[39;49m\u001B[43m_engine\u001B[49m\u001B[38;5;241;43m.\u001B[39;49m\u001B[43mget_loc\u001B[49m\u001B[43m(\u001B[49m\u001B[43mcasted_key\u001B[49m\u001B[43m)\u001B[49m\n\u001B[0;32m   3806\u001B[0m \u001B[38;5;28;01mexcept\u001B[39;00m \u001B[38;5;167;01mKeyError\u001B[39;00m \u001B[38;5;28;01mas\u001B[39;00m err:\n",
      "File \u001B[1;32mindex.pyx:167\u001B[0m, in \u001B[0;36mpandas._libs.index.IndexEngine.get_loc\u001B[1;34m()\u001B[0m\n",
      "File \u001B[1;32mindex.pyx:196\u001B[0m, in \u001B[0;36mpandas._libs.index.IndexEngine.get_loc\u001B[1;34m()\u001B[0m\n",
      "File \u001B[1;32mpandas\\\\_libs\\\\hashtable_class_helper.pxi:7081\u001B[0m, in \u001B[0;36mpandas._libs.hashtable.PyObjectHashTable.get_item\u001B[1;34m()\u001B[0m\n",
      "File \u001B[1;32mpandas\\\\_libs\\\\hashtable_class_helper.pxi:7089\u001B[0m, in \u001B[0;36mpandas._libs.hashtable.PyObjectHashTable.get_item\u001B[1;34m()\u001B[0m\n",
      "\u001B[1;31mKeyError\u001B[0m: 'Nombre ingressos'",
      "\nThe above exception was the direct cause of the following exception:\n",
      "\u001B[1;31mKeyError\u001B[0m                                  Traceback (most recent call last)",
      "Cell \u001B[1;32mIn[308], line 1\u001B[0m\n\u001B[1;32m----> 1\u001B[0m stat, p_value_34 \u001B[38;5;241m=\u001B[39m mannwhitneyu(\u001B[43mSENSE_PA\u001B[49m\u001B[43m[\u001B[49m\u001B[38;5;124;43m'\u001B[39;49m\u001B[38;5;124;43mNombre ingressos\u001B[39;49m\u001B[38;5;124;43m'\u001B[39;49m\u001B[43m]\u001B[49m, TOTAL[\u001B[38;5;124m'\u001B[39m\u001B[38;5;124mNombre ingressos\u001B[39m\u001B[38;5;124m'\u001B[39m], alternative\u001B[38;5;241m=\u001B[39m\u001B[38;5;124m'\u001B[39m\u001B[38;5;124mtwo-sided\u001B[39m\u001B[38;5;124m'\u001B[39m)\n\u001B[0;32m      2\u001B[0m \u001B[38;5;28mprint\u001B[39m(\u001B[38;5;124m\"\u001B[39m\u001B[38;5;124mP-valor entre SENSE_PA i TOTAL\u001B[39m\u001B[38;5;124m\"\u001B[39m, p_value_34)\n",
      "File \u001B[1;32m~\\PycharmProjects\\practicum\\.venv\\Lib\\site-packages\\pandas\\core\\frame.py:4090\u001B[0m, in \u001B[0;36mDataFrame.__getitem__\u001B[1;34m(self, key)\u001B[0m\n\u001B[0;32m   4088\u001B[0m \u001B[38;5;28;01mif\u001B[39;00m \u001B[38;5;28mself\u001B[39m\u001B[38;5;241m.\u001B[39mcolumns\u001B[38;5;241m.\u001B[39mnlevels \u001B[38;5;241m>\u001B[39m \u001B[38;5;241m1\u001B[39m:\n\u001B[0;32m   4089\u001B[0m     \u001B[38;5;28;01mreturn\u001B[39;00m \u001B[38;5;28mself\u001B[39m\u001B[38;5;241m.\u001B[39m_getitem_multilevel(key)\n\u001B[1;32m-> 4090\u001B[0m indexer \u001B[38;5;241m=\u001B[39m \u001B[38;5;28;43mself\u001B[39;49m\u001B[38;5;241;43m.\u001B[39;49m\u001B[43mcolumns\u001B[49m\u001B[38;5;241;43m.\u001B[39;49m\u001B[43mget_loc\u001B[49m\u001B[43m(\u001B[49m\u001B[43mkey\u001B[49m\u001B[43m)\u001B[49m\n\u001B[0;32m   4091\u001B[0m \u001B[38;5;28;01mif\u001B[39;00m is_integer(indexer):\n\u001B[0;32m   4092\u001B[0m     indexer \u001B[38;5;241m=\u001B[39m [indexer]\n",
      "File \u001B[1;32m~\\PycharmProjects\\practicum\\.venv\\Lib\\site-packages\\pandas\\core\\indexes\\base.py:3812\u001B[0m, in \u001B[0;36mIndex.get_loc\u001B[1;34m(self, key)\u001B[0m\n\u001B[0;32m   3807\u001B[0m     \u001B[38;5;28;01mif\u001B[39;00m \u001B[38;5;28misinstance\u001B[39m(casted_key, \u001B[38;5;28mslice\u001B[39m) \u001B[38;5;129;01mor\u001B[39;00m (\n\u001B[0;32m   3808\u001B[0m         \u001B[38;5;28misinstance\u001B[39m(casted_key, abc\u001B[38;5;241m.\u001B[39mIterable)\n\u001B[0;32m   3809\u001B[0m         \u001B[38;5;129;01mand\u001B[39;00m \u001B[38;5;28many\u001B[39m(\u001B[38;5;28misinstance\u001B[39m(x, \u001B[38;5;28mslice\u001B[39m) \u001B[38;5;28;01mfor\u001B[39;00m x \u001B[38;5;129;01min\u001B[39;00m casted_key)\n\u001B[0;32m   3810\u001B[0m     ):\n\u001B[0;32m   3811\u001B[0m         \u001B[38;5;28;01mraise\u001B[39;00m InvalidIndexError(key)\n\u001B[1;32m-> 3812\u001B[0m     \u001B[38;5;28;01mraise\u001B[39;00m \u001B[38;5;167;01mKeyError\u001B[39;00m(key) \u001B[38;5;28;01mfrom\u001B[39;00m \u001B[38;5;21;01merr\u001B[39;00m\n\u001B[0;32m   3813\u001B[0m \u001B[38;5;28;01mexcept\u001B[39;00m \u001B[38;5;167;01mTypeError\u001B[39;00m:\n\u001B[0;32m   3814\u001B[0m     \u001B[38;5;66;03m# If we have a listlike key, _check_indexing_error will raise\u001B[39;00m\n\u001B[0;32m   3815\u001B[0m     \u001B[38;5;66;03m#  InvalidIndexError. Otherwise we fall through and re-raise\u001B[39;00m\n\u001B[0;32m   3816\u001B[0m     \u001B[38;5;66;03m#  the TypeError.\u001B[39;00m\n\u001B[0;32m   3817\u001B[0m     \u001B[38;5;28mself\u001B[39m\u001B[38;5;241m.\u001B[39m_check_indexing_error(key)\n",
      "\u001B[1;31mKeyError\u001B[0m: 'Nombre ingressos'"
     ]
    }
   ],
   "execution_count": 308
  },
  {
   "metadata": {},
   "cell_type": "markdown",
   "source": "## Urgències",
   "id": "3a9a48d2ffc7f33a"
  },
  {
   "cell_type": "markdown",
   "source": [
    "## Disfàgia"
   ],
   "metadata": {
    "collapsed": false
   },
   "id": "8dbcff43a6b4856c"
  },
  {
   "cell_type": "code",
   "source": [
    "disf_AMB_PA= (AMB_PA['DO diagnosticada'] == 1.0).mean() * 100\n",
    "print(f\"Percentatge de disfàgia: {disf_AMB_PA:.2f}%\")"
   ],
   "metadata": {
    "collapsed": false,
    "ExecuteTime": {
     "end_time": "2024-05-29T13:06:36.006519Z",
     "start_time": "2024-05-29T13:06:36.000473Z"
    }
   },
   "id": "ae9a604a371b4895",
   "outputs": [
    {
     "name": "stdout",
     "output_type": "stream",
     "text": [
      "Percentatge de disfàgia: 47.06%\n"
     ]
    }
   ],
   "execution_count": 309
  },
  {
   "cell_type": "code",
   "source": [
    "disf_AMB_PA_MECVV = (AMB_PA_MECVV['DO diagnosticada'] == 1.0).mean() * 100\n",
    "print(f\"Percentatge de disfàgia: {disf_AMB_PA_MECVV:.2f}%\")"
   ],
   "metadata": {
    "collapsed": false,
    "ExecuteTime": {
     "end_time": "2024-05-29T13:06:36.665062Z",
     "start_time": "2024-05-29T13:06:36.658331Z"
    }
   },
   "id": "4412619418b553ad",
   "outputs": [
    {
     "name": "stdout",
     "output_type": "stream",
     "text": [
      "Percentatge de disfàgia: 50.00%\n"
     ]
    }
   ],
   "execution_count": 310
  },
  {
   "cell_type": "code",
   "source": [
    "disf_SENSE_PA= (SENSE_PA['DO diagnosticada'] == 1.0).mean() * 100\n",
    "print(f\"Percentatge de disfàgia: {disf_SENSE_PA:.2f}%\")"
   ],
   "metadata": {
    "collapsed": false,
    "ExecuteTime": {
     "end_time": "2024-05-29T13:06:37.644850Z",
     "start_time": "2024-05-29T13:06:37.639195Z"
    }
   },
   "id": "753efc5895def0c3",
   "outputs": [
    {
     "name": "stdout",
     "output_type": "stream",
     "text": [
      "Percentatge de disfàgia: 25.00%\n"
     ]
    }
   ],
   "execution_count": 311
  },
  {
   "cell_type": "code",
   "source": [
    "disf_TOTAL= (TOTAL['DO diagnosticada'] == 1.0).mean() * 100\n",
    "print(f\"Percentatge de disfàgia: {disf_TOTAL:.2f}%\")"
   ],
   "metadata": {
    "collapsed": false,
    "ExecuteTime": {
     "end_time": "2024-05-29T13:06:38.523349Z",
     "start_time": "2024-05-29T13:06:38.511783Z"
    }
   },
   "id": "4b0026d8d94063dd",
   "outputs": [
    {
     "name": "stdout",
     "output_type": "stream",
     "text": [
      "Percentatge de disfàgia: 20.00%\n"
     ]
    }
   ],
   "execution_count": 312
  },
  {
   "cell_type": "markdown",
   "source": [
    "#### Comparació distributiva"
   ],
   "metadata": {
    "collapsed": false
   },
   "id": "f7b1ceac7b699485"
  },
  {
   "cell_type": "markdown",
   "source": [
    "##### Normalitat i p-valor"
   ],
   "metadata": {
    "collapsed": false
   },
   "id": "cd185055fb986a7b"
  },
  {
   "cell_type": "markdown",
   "source": [
    "Al ser una variable categòrica no té sentit comprovar la seva normalitat. Realitzaré directament el test Xi-quadrat"
   ],
   "metadata": {
    "collapsed": false
   },
   "id": "f0738bbeee4a9b20"
  },
  {
   "cell_type": "code",
   "source": [
    "contingency_table_12 = pd.crosstab(index=AMB_PA['DO diagnosticada'], columns=AMB_PA_MECVV['DO diagnosticada'])\n",
    "\n",
    "chi2_AMB_PA_AMB_PA_MECVV, p_value_AMB_PA_AMB_PA_MECVV, dof_AMB_PA_AMB_PA_MECVV, expected_AMB_PA_AMB_PA_MECVV = chi2_contingency(contingency_table_12)\n",
    "\n",
    "print(\"Estadístic xi-quadrat entre AMB_PA i AMB_PA_MECVV:\", chi2_AMB_PA_AMB_PA_MECVV)\n",
    "print(\"P-valor entre AMB_PA i AMB_PA_MECVV:\", p_value_AMB_PA_AMB_PA_MECVV)\n",
    "\n",
    "if p_value_AMB_PA_AMB_PA_MECVV < 0.05:\n",
    "    print(\"Hi ha diferències significatives entre les distribucions de DO en AMB_PA i AMB_PA_MECVV.\")\n",
    "else:\n",
    "    print(\"No hi ha diferències significatives entre les distribucions de DO en AMB_PA i AMB_PA_MECVV.\")"
   ],
   "metadata": {
    "collapsed": false,
    "ExecuteTime": {
     "end_time": "2024-05-29T13:06:39.715496Z",
     "start_time": "2024-05-29T13:06:39.696317Z"
    }
   },
   "id": "b2fdc244f2cacb9f",
   "outputs": [
    {
     "name": "stdout",
     "output_type": "stream",
     "text": [
      "Estadístic xi-quadrat entre AMB_PA i AMB_PA_MECVV: 2.34375\n",
      "P-valor entre AMB_PA i AMB_PA_MECVV: 0.12578642463893994\n",
      "No hi ha diferències significatives entre les distribucions de DO en AMB_PA i AMB_PA_MECVV.\n"
     ]
    }
   ],
   "execution_count": 313
  },
  {
   "cell_type": "code",
   "source": [
    "contingency_table_13 = pd.crosstab(index=AMB_PA['DO diagnosticada'], columns=SENSE_PA['DO diagnosticada'])\n",
    "\n",
    "chi2_AMB_PA_SENSE_PA, p_value_AMB_PA_SENSE_PA, dof_AMB_PA_SENSE_PA, expected_AMB_PA_SENSE_PA = chi2_contingency(contingency_table_13)\n",
    "\n",
    "print(\"Estadístic xi-quadrat entre AMB_PA i SENSE_PA:\", chi2_AMB_PA_SENSE_PA)\n",
    "print(\"P-valor entre AMB_PA i SENSE_PA:\", p_value_AMB_PA_SENSE_PA)\n",
    "\n",
    "if p_value_AMB_PA_SENSE_PA < 0.05:\n",
    "    print(\"Hi ha diferències significatives entre les distribucions de DO en AMB_PA i SENSE_PA.\")\n",
    "else:\n",
    "    print(\"No hi ha diferències significatives entre les distribucions de DO en AMB_PA i SENSE_PA.\")"
   ],
   "metadata": {
    "collapsed": false,
    "ExecuteTime": {
     "end_time": "2024-05-29T13:06:40.351583Z",
     "start_time": "2024-05-29T13:06:40.332194Z"
    }
   },
   "id": "4703bd3048a6572",
   "outputs": [
    {
     "name": "stdout",
     "output_type": "stream",
     "text": [
      "Estadístic xi-quadrat entre AMB_PA i SENSE_PA: 0.1875\n",
      "P-valor entre AMB_PA i SENSE_PA: 0.6650055421020291\n",
      "No hi ha diferències significatives entre les distribucions de DO en AMB_PA i SENSE_PA.\n"
     ]
    }
   ],
   "execution_count": 314
  },
  {
   "cell_type": "code",
   "source": [
    "contingency_table_23 = pd.crosstab(index=AMB_PA_MECVV['DO diagnosticada'], columns=SENSE_PA['DO diagnosticada'])\n",
    "\n",
    "chi2_AMB_PA_MECVV_SENSE_PA, p_value_AMB_PA_MECVV_SENSE_PA, dof_AMB_PA_MECVV_SENSE_PA, expected_AMB_PA_MECVV_SENSE_PA = chi2_contingency(contingency_table_23)\n",
    "\n",
    "print(\"Estadístic xi-quadrat entre AMB_PA_MECVVV i SENSE_PA:\", chi2_AMB_PA_MECVV_SENSE_PA)\n",
    "print(\"P-valor entre AMB_PA_MECVV i SENSE_PA:\", p_value_AMB_PA_MECVV_SENSE_PA)\n",
    "\n",
    "if p_value_AMB_PA_MECVV_SENSE_PA < 0.05:\n",
    "    print(\"Hi ha diferències significatives entre les distribucions de DO en AMB_PA_MECVV i SENSE_PA.\")\n",
    "else:\n",
    "    print(\"No hi ha diferències significatives entre les distribucions de DO en AMB_PA_MECVV i SENSE_PA.\")"
   ],
   "metadata": {
    "collapsed": false,
    "ExecuteTime": {
     "end_time": "2024-05-29T13:06:41.333275Z",
     "start_time": "2024-05-29T13:06:41.273724Z"
    }
   },
   "id": "759784b2de60773a",
   "outputs": [
    {
     "ename": "ValueError",
     "evalue": "No data; `observed` has size 0.",
     "output_type": "error",
     "traceback": [
      "\u001B[1;31m---------------------------------------------------------------------------\u001B[0m",
      "\u001B[1;31mValueError\u001B[0m                                Traceback (most recent call last)",
      "Cell \u001B[1;32mIn[315], line 3\u001B[0m\n\u001B[0;32m      1\u001B[0m contingency_table_23 \u001B[38;5;241m=\u001B[39m pd\u001B[38;5;241m.\u001B[39mcrosstab(index\u001B[38;5;241m=\u001B[39mAMB_PA_MECVV[\u001B[38;5;124m'\u001B[39m\u001B[38;5;124mDO diagnosticada\u001B[39m\u001B[38;5;124m'\u001B[39m], columns\u001B[38;5;241m=\u001B[39mSENSE_PA[\u001B[38;5;124m'\u001B[39m\u001B[38;5;124mDO diagnosticada\u001B[39m\u001B[38;5;124m'\u001B[39m])\n\u001B[1;32m----> 3\u001B[0m chi2_AMB_PA_MECVV_SENSE_PA, p_value_AMB_PA_MECVV_SENSE_PA, dof_AMB_PA_MECVV_SENSE_PA, expected_AMB_PA_MECVV_SENSE_PA \u001B[38;5;241m=\u001B[39m \u001B[43mchi2_contingency\u001B[49m\u001B[43m(\u001B[49m\u001B[43mcontingency_table_23\u001B[49m\u001B[43m)\u001B[49m\n\u001B[0;32m      5\u001B[0m \u001B[38;5;28mprint\u001B[39m(\u001B[38;5;124m\"\u001B[39m\u001B[38;5;124mEstadístic xi-quadrat entre AMB_PA_MECVVV i SENSE_PA:\u001B[39m\u001B[38;5;124m\"\u001B[39m, chi2_AMB_PA_MECVV_SENSE_PA)\n\u001B[0;32m      6\u001B[0m \u001B[38;5;28mprint\u001B[39m(\u001B[38;5;124m\"\u001B[39m\u001B[38;5;124mP-valor entre AMB_PA_MECVV i SENSE_PA:\u001B[39m\u001B[38;5;124m\"\u001B[39m, p_value_AMB_PA_MECVV_SENSE_PA)\n",
      "File \u001B[1;32m~\\PycharmProjects\\practicum\\.venv\\Lib\\site-packages\\scipy\\stats\\contingency.py:333\u001B[0m, in \u001B[0;36mchi2_contingency\u001B[1;34m(observed, correction, lambda_)\u001B[0m\n\u001B[0;32m    331\u001B[0m     \u001B[38;5;28;01mraise\u001B[39;00m \u001B[38;5;167;01mValueError\u001B[39;00m(\u001B[38;5;124m\"\u001B[39m\u001B[38;5;124mAll values in `observed` must be nonnegative.\u001B[39m\u001B[38;5;124m\"\u001B[39m)\n\u001B[0;32m    332\u001B[0m \u001B[38;5;28;01mif\u001B[39;00m observed\u001B[38;5;241m.\u001B[39msize \u001B[38;5;241m==\u001B[39m \u001B[38;5;241m0\u001B[39m:\n\u001B[1;32m--> 333\u001B[0m     \u001B[38;5;28;01mraise\u001B[39;00m \u001B[38;5;167;01mValueError\u001B[39;00m(\u001B[38;5;124m\"\u001B[39m\u001B[38;5;124mNo data; `observed` has size 0.\u001B[39m\u001B[38;5;124m\"\u001B[39m)\n\u001B[0;32m    335\u001B[0m expected \u001B[38;5;241m=\u001B[39m expected_freq(observed)\n\u001B[0;32m    336\u001B[0m \u001B[38;5;28;01mif\u001B[39;00m np\u001B[38;5;241m.\u001B[39many(expected \u001B[38;5;241m==\u001B[39m \u001B[38;5;241m0\u001B[39m):\n\u001B[0;32m    337\u001B[0m     \u001B[38;5;66;03m# Include one of the positions where expected is zero in\u001B[39;00m\n\u001B[0;32m    338\u001B[0m     \u001B[38;5;66;03m# the exception message.\u001B[39;00m\n",
      "\u001B[1;31mValueError\u001B[0m: No data; `observed` has size 0."
     ]
    }
   ],
   "execution_count": 315
  },
  {
   "cell_type": "code",
   "source": [
    "contingency_table_14 = pd.crosstab(index=AMB_PA['DO diagnosticada'], columns=TOTAL['DO diagnosticada'])\n",
    "\n",
    "chi2_AMB_PA_TOTAL, p_value_AMB_PA_TOTAL, dof_AMB_PA_TOTAL, expected_AMB_PA_TOTAL = chi2_contingency(contingency_table_14)\n",
    "\n",
    "print(\"Estadístic xi-quadrat entre AMB_PA i TOTAL:\", chi2_AMB_PA_TOTAL)\n",
    "print(\"P-valor entre AMB_PA i TOTAL:\", p_value_AMB_PA_TOTAL)\n",
    "\n",
    "if p_value_AMB_PA_TOTAL < 0.05:\n",
    "    print(\"Hi ha diferències significatives entre les distribucions de DO en AMB_PA i TOTAL.\")\n",
    "else:\n",
    "    print(\"No hi ha diferències significatives entre les distribucions de DO en AMB_PA i TOTAL.\")"
   ],
   "metadata": {
    "collapsed": false,
    "ExecuteTime": {
     "end_time": "2024-05-29T13:06:42.282077Z",
     "start_time": "2024-05-29T13:06:42.265497Z"
    }
   },
   "id": "4e9ad688a0f24262",
   "outputs": [
    {
     "name": "stdout",
     "output_type": "stream",
     "text": [
      "Estadístic xi-quadrat entre AMB_PA i TOTAL: 13.223042052469136\n",
      "P-valor entre AMB_PA i TOTAL: 0.00027652843917458906\n",
      "Hi ha diferències significatives entre les distribucions de DO en AMB_PA i TOTAL.\n"
     ]
    }
   ],
   "execution_count": 316
  },
  {
   "cell_type": "code",
   "source": [
    "contingency_table_24 = pd.crosstab(index=AMB_PA_MECVV['DO diagnosticada'], columns=TOTAL['DO diagnosticada'])\n",
    "\n",
    "chi2_AMB_PA_MECVV_TOTAL, p_value_AMB_PA_MECVV_TOTAL, dof_AMB_PA_MECVV_TOTAL, expected_AMB_PA_MECVV_TOTAL = chi2_contingency(contingency_table_24)\n",
    "\n",
    "print(\"Estadístic xi-quadrat entre AMB_PA_MECVV i TOTAL:\", chi2_AMB_PA_MECVV_TOTAL)\n",
    "print(\"P-valor entre AMB_PA_MECVV i TOTAL:\", p_value_AMB_PA_MECVV_TOTAL)\n",
    "\n",
    "if p_value_AMB_PA_MECVV_TOTAL < 0.05:\n",
    "    print(\"Hi ha diferències significatives entre les distribucions de DO en AMB_PA_MECVV i TOTAL.\")\n",
    "else:\n",
    "    print(\"No hi ha diferències significatives entre les distribucions de DO en AMB_PA_MECVV i TOTAL.\")"
   ],
   "metadata": {
    "collapsed": false,
    "ExecuteTime": {
     "end_time": "2024-05-29T13:06:42.942521Z",
     "start_time": "2024-05-29T13:06:42.925890Z"
    }
   },
   "id": "ab42ef89a0c6b152",
   "outputs": [
    {
     "name": "stdout",
     "output_type": "stream",
     "text": [
      "Estadístic xi-quadrat entre AMB_PA_MECVV i TOTAL: 4.5\n",
      "P-valor entre AMB_PA_MECVV i TOTAL: 0.033894853524689295\n",
      "Hi ha diferències significatives entre les distribucions de DO en AMB_PA_MECVV i TOTAL.\n"
     ]
    }
   ],
   "execution_count": 317
  },
  {
   "cell_type": "code",
   "source": [
    "contingency_table_34 = pd.crosstab(index=SENSE_PA['DO diagnosticada'], columns=TOTAL['DO diagnosticada'])\n",
    "\n",
    "chi2_SENSE_PA_TOTAL, p_value_SENSE_PA_TOTAL, dof_SENSE_PA_TOTAL, expected_SENSE_PA_TOTAL = chi2_contingency(contingency_table_34)\n",
    "\n",
    "print(\"Estadístic xi-quadrat entre SENSE_PA i TOTAL:\", chi2_SENSE_PA_TOTAL)\n",
    "print(\"P-valor entre SENSE_PA i TOTAL:\", p_value_SENSE_PA_TOTAL)\n",
    "\n",
    "if p_value_SENSE_PA_TOTAL < 0.05:\n",
    "    print(\"Hi ha diferències significatives entre les distribucions de DO en SENSE_PA i TOTAL.\")\n",
    "else:\n",
    "    print(\"No hi ha diferències significatives entre les distribucions de DO en SENSE_PA i TOTAL.\")"
   ],
   "metadata": {
    "collapsed": false,
    "ExecuteTime": {
     "end_time": "2024-05-29T13:06:44.017986Z",
     "start_time": "2024-05-29T13:06:44.004325Z"
    }
   },
   "id": "6360707674f5f15a",
   "outputs": [
    {
     "name": "stdout",
     "output_type": "stream",
     "text": [
      "Estadístic xi-quadrat entre SENSE_PA i TOTAL: 3.5555555555555554\n",
      "P-valor entre SENSE_PA i TOTAL: 0.05934643879191998\n",
      "No hi ha diferències significatives entre les distribucions de DO en SENSE_PA i TOTAL.\n"
     ]
    }
   ],
   "execution_count": 318
  },
  {
   "cell_type": "markdown",
   "source": [
    "## Index de Barthel"
   ],
   "metadata": {
    "collapsed": false
   },
   "id": "4c5396ac60ffa852"
  },
  {
   "cell_type": "markdown",
   "source": [
    "### Mitjana"
   ],
   "metadata": {
    "collapsed": false
   },
   "id": "dd4858798cfda575"
  },
  {
   "cell_type": "code",
   "source": [
    "Mitjana_barthel = AMB_PA['Barthel resultats'].mean()\n",
    "desviacio_estandard_barthel = AMB_PA['Barthel resultats'].std()\n",
    "\n",
    "resultat = f\"{Mitjana_barthel:.2f} ± {desviacio_estandard_barthel:.2f}\"\n",
    "print(\"Mitjana ± Desviació Estàndard del Barthel:\", resultat)"
   ],
   "metadata": {
    "collapsed": false,
    "ExecuteTime": {
     "end_time": "2024-05-29T13:06:44.736506Z",
     "start_time": "2024-05-29T13:06:44.731373Z"
    }
   },
   "id": "c9217ee8a4a7257d",
   "outputs": [
    {
     "name": "stdout",
     "output_type": "stream",
     "text": [
      "Mitjana ± Desviació Estàndard del Barthel: 22.65 ± 24.63\n"
     ]
    }
   ],
   "execution_count": 319
  },
  {
   "cell_type": "code",
   "source": [
    "Mitjana_barthel = AMB_PA_MECVV['Barthel resultats'].mean()\n",
    "desviacio_estandard_barthel = AMB_PA_MECVV['Barthel resultats'].std()\n",
    "\n",
    "resultat = f\"{Mitjana_barthel:.2f} ± {desviacio_estandard_barthel:.2f}\"\n",
    "print(\"Mitjana ± Desviació Estàndard del Barthel:\", resultat)"
   ],
   "metadata": {
    "collapsed": false,
    "ExecuteTime": {
     "end_time": "2024-05-29T13:06:45.765351Z",
     "start_time": "2024-05-29T13:06:45.756003Z"
    }
   },
   "id": "a9a38f8a7779ac97",
   "outputs": [
    {
     "name": "stdout",
     "output_type": "stream",
     "text": [
      "Mitjana ± Desviació Estàndard del Barthel: 13.75 ± 18.27\n"
     ]
    }
   ],
   "execution_count": 320
  },
  {
   "cell_type": "code",
   "source": [
    "Mitjana_barthel = SENSE_PA['Barthel resultats'].mean()\n",
    "desviacio_estandard_barthel = SENSE_PA['Barthel resultats'].std()\n",
    "\n",
    "resultat = f\"{Mitjana_barthel:.2f} ± {desviacio_estandard_barthel:.2f}\"\n",
    "print(\"Mitjana ± Desviació Estàndard del Barthel:\", resultat)"
   ],
   "metadata": {
    "collapsed": false,
    "ExecuteTime": {
     "end_time": "2024-05-29T13:06:46.231932Z",
     "start_time": "2024-05-29T13:06:46.223748Z"
    }
   },
   "id": "51a4a725b000c249",
   "outputs": [
    {
     "name": "stdout",
     "output_type": "stream",
     "text": [
      "Mitjana ± Desviació Estàndard del Barthel: 53.12 ± 21.20\n"
     ]
    }
   ],
   "execution_count": 321
  },
  {
   "cell_type": "markdown",
   "source": [
    "#### Comparació distributiva"
   ],
   "metadata": {
    "collapsed": false
   },
   "id": "52f49b9ab207df3b"
  },
  {
   "cell_type": "markdown",
   "source": [
    "##### Normalitat i p-valor"
   ],
   "metadata": {
    "collapsed": false
   },
   "id": "37e669a836227c18"
  },
  {
   "cell_type": "markdown",
   "source": [
    "NORMALITAT: Només el tercer grup (SENSE_PA) segueix una distribució normal"
   ],
   "metadata": {
    "collapsed": false
   },
   "id": "fdb8c466cba4c471"
  },
  {
   "cell_type": "code",
   "source": [
    "stat_12, p_value_12 = mannwhitneyu(AMB_PA['Barthel resultats'], AMB_PA_MECVV['Barthel resultats'], alternative='two-sided')\n",
    "print(\"P-valor entre AMB_PA i AMB_PA_MECVV:\", p_value_12)"
   ],
   "metadata": {
    "collapsed": false,
    "ExecuteTime": {
     "end_time": "2024-05-29T13:06:47.224590Z",
     "start_time": "2024-05-29T13:06:47.214780Z"
    }
   },
   "id": "766879c118d03b5a",
   "outputs": [
    {
     "name": "stdout",
     "output_type": "stream",
     "text": [
      "P-valor entre AMB_PA i AMB_PA_MECVV: 0.47528505928431597\n"
     ]
    }
   ],
   "execution_count": 322
  },
  {
   "cell_type": "code",
   "source": [
    "stat_13, p_value_13 = mannwhitneyu(AMB_PA['Barthel resultats'], SENSE_PA['Barthel resultats'], alternative='two-sided')\n",
    "print(\"P-valor entre AMB_PA i SENSE_PA:\", p_value_13)"
   ],
   "metadata": {
    "collapsed": false,
    "ExecuteTime": {
     "end_time": "2024-05-29T13:06:47.951099Z",
     "start_time": "2024-05-29T13:06:47.945542Z"
    }
   },
   "id": "c55eed1ea437cc8d",
   "outputs": [
    {
     "name": "stdout",
     "output_type": "stream",
     "text": [
      "P-valor entre AMB_PA i SENSE_PA: 0.00906817282777616\n"
     ]
    }
   ],
   "execution_count": 323
  },
  {
   "cell_type": "code",
   "source": [
    "stat_23, p_value_23 = mannwhitneyu(AMB_PA_MECVV['Barthel resultats'], SENSE_PA['Barthel resultats'], alternative='two-sided')\n",
    "print(\"P-valor entre AMB_PA_MECVV i SENSE_PA:\", p_value_13)"
   ],
   "metadata": {
    "collapsed": false,
    "ExecuteTime": {
     "end_time": "2024-05-29T13:06:49.195810Z",
     "start_time": "2024-05-29T13:06:49.186616Z"
    }
   },
   "id": "48eebeef49d52cc6",
   "outputs": [
    {
     "name": "stdout",
     "output_type": "stream",
     "text": [
      "P-valor entre AMB_PA_MECVV i SENSE_PA: 0.00906817282777616\n"
     ]
    }
   ],
   "execution_count": 324
  },
  {
   "cell_type": "code",
   "source": [
    "stat_14, p_value_14 = mannwhitneyu(AMB_PA['Barthel resultats'], TOTAL['Barthel resultats'], alternative='two-sided')\n",
    "print(\"P-valor entre AMB_PA i TOTAL:\", p_value_13)"
   ],
   "metadata": {
    "collapsed": false,
    "ExecuteTime": {
     "end_time": "2024-05-29T13:06:49.756014Z",
     "start_time": "2024-05-29T13:06:49.745105Z"
    }
   },
   "id": "90566b99f73ced9c",
   "outputs": [
    {
     "name": "stdout",
     "output_type": "stream",
     "text": [
      "P-valor entre AMB_PA i TOTAL: 0.00906817282777616\n"
     ]
    }
   ],
   "execution_count": 325
  },
  {
   "cell_type": "code",
   "source": [
    "stat_24, p_value_24 = mannwhitneyu(AMB_PA_MECVV['Barthel resultats'], TOTAL['Barthel resultats'], alternative='two-sided')\n",
    "print(\"P-valor entre AMB_PA_MECVV i TOTAL:\", p_value_24)"
   ],
   "metadata": {
    "collapsed": false,
    "ExecuteTime": {
     "end_time": "2024-05-29T13:06:50.726370Z",
     "start_time": "2024-05-29T13:06:50.713021Z"
    }
   },
   "id": "640d136c25bbd0b6",
   "outputs": [
    {
     "name": "stdout",
     "output_type": "stream",
     "text": [
      "P-valor entre AMB_PA_MECVV i TOTAL: 0.015133604112910346\n"
     ]
    }
   ],
   "execution_count": 326
  },
  {
   "cell_type": "code",
   "source": [
    "stat_34, p_value_34 = mannwhitneyu(SENSE_PA['Barthel resultats'], TOTAL['Barthel resultats'], alternative='two-sided')\n",
    "print(\"P-valor entre SENSE_PA i TOTAL:\", p_value_34)"
   ],
   "metadata": {
    "collapsed": false,
    "ExecuteTime": {
     "end_time": "2024-05-29T13:06:51.359292Z",
     "start_time": "2024-05-29T13:06:51.350216Z"
    }
   },
   "id": "864ec819792ecf82",
   "outputs": [
    {
     "name": "stdout",
     "output_type": "stream",
     "text": [
      "P-valor entre SENSE_PA i TOTAL: 0.6668885476033475\n"
     ]
    }
   ],
   "execution_count": 327
  },
  {
   "cell_type": "markdown",
   "source": [
    "### Valors de dependència"
   ],
   "metadata": {
    "collapsed": false
   },
   "id": "4781aecb88dc7bea"
  },
  {
   "cell_type": "markdown",
   "source": [
    "##### AMB_PA"
   ],
   "metadata": {
    "collapsed": false
   },
   "id": "d1299c41f52b834d"
  },
  {
   "cell_type": "code",
   "source": [
    "indepe_AMB_PA = (AMB_PA['Barthel resultats'] == 100.0).mean() * 100\n",
    "print(f\"Percentatge de indepe_AMB_PA: {indepe_AMB_PA:.2f}%\")"
   ],
   "metadata": {
    "collapsed": false,
    "ExecuteTime": {
     "end_time": "2024-05-29T13:06:52.194649Z",
     "start_time": "2024-05-29T13:06:52.187098Z"
    }
   },
   "id": "f4b94d47b126b65d",
   "outputs": [
    {
     "name": "stdout",
     "output_type": "stream",
     "text": [
      "Percentatge de indepe_AMB_PA: 0.00%\n"
     ]
    }
   ],
   "execution_count": 328
  },
  {
   "cell_type": "code",
   "source": [
    "mod_AMB_PA = (AMB_PA['Barthel resultats'].between(61, 95)).mean() * 100\n",
    "print(f\"Percentatge de mod_AMB_PA: {mod_AMB_PA:.2f}%\")"
   ],
   "metadata": {
    "collapsed": false,
    "ExecuteTime": {
     "end_time": "2024-05-29T13:06:52.866798Z",
     "start_time": "2024-05-29T13:06:52.861166Z"
    }
   },
   "id": "dc8bc2ca0a242d6d",
   "outputs": [
    {
     "name": "stdout",
     "output_type": "stream",
     "text": [
      "Percentatge de mod_AMB_PA: 5.88%\n"
     ]
    }
   ],
   "execution_count": 329
  },
  {
   "cell_type": "code",
   "source": [
    "sev_AMB_PA = (AMB_PA['Barthel resultats'].between(21, 60)).mean() * 100\n",
    "print(f\"Percentatge de sev_AMB_PA: {sev_AMB_PA:.2f}%\")"
   ],
   "metadata": {
    "collapsed": false,
    "ExecuteTime": {
     "end_time": "2024-05-29T13:06:54.099628Z",
     "start_time": "2024-05-29T13:06:54.093673Z"
    }
   },
   "id": "ba2cc7ce72919b37",
   "outputs": [
    {
     "name": "stdout",
     "output_type": "stream",
     "text": [
      "Percentatge de sev_AMB_PA: 41.18%\n"
     ]
    }
   ],
   "execution_count": 330
  },
  {
   "cell_type": "code",
   "source": [
    "total_AMB_PA = (AMB_PA['Barthel resultats'] <= 20.0 ).mean() * 100\n",
    "print(f\"Percentatge de total_AMB_PA: {total_AMB_PA:.2f}%\")"
   ],
   "metadata": {
    "collapsed": false,
    "ExecuteTime": {
     "end_time": "2024-05-29T13:06:54.914398Z",
     "start_time": "2024-05-29T13:06:54.908625Z"
    }
   },
   "id": "ad176a1db2bce8f1",
   "outputs": [
    {
     "name": "stdout",
     "output_type": "stream",
     "text": [
      "Percentatge de total_AMB_PA: 52.94%\n"
     ]
    }
   ],
   "execution_count": 331
  },
  {
   "cell_type": "markdown",
   "source": [
    "##### AMB_PA_MECVV"
   ],
   "metadata": {
    "collapsed": false
   },
   "id": "57524d2ce6bd06d0"
  },
  {
   "cell_type": "code",
   "source": [
    "indepe_AMB_PA_MECVV = (AMB_PA_MECVV['Barthel resultats'] == 100.0).mean() * 100\n",
    "print(f\"Percentatge de indepe_AMB_PA_MECVV: {indepe_AMB_PA_MECVV:.2f}%\")"
   ],
   "metadata": {
    "collapsed": false,
    "ExecuteTime": {
     "end_time": "2024-05-29T13:06:55.830481Z",
     "start_time": "2024-05-29T13:06:55.815530Z"
    }
   },
   "id": "63e534b9ea7b67f3",
   "outputs": [
    {
     "name": "stdout",
     "output_type": "stream",
     "text": [
      "Percentatge de indepe_AMB_PA_MECVV: 0.00%\n"
     ]
    }
   ],
   "execution_count": 332
  },
  {
   "cell_type": "code",
   "source": [
    "mod_AMB_PA_MECVV = (AMB_PA_MECVV['Barthel resultats'].between(61,95)).mean() * 100\n",
    "print(f\"Percentatge de mod_AMB_PA_MECVV: {mod_AMB_PA_MECVV:.2f}%\")"
   ],
   "metadata": {
    "collapsed": false,
    "ExecuteTime": {
     "end_time": "2024-05-29T13:06:56.357430Z",
     "start_time": "2024-05-29T13:06:56.346886Z"
    }
   },
   "id": "5e1ca3ced54a66d6",
   "outputs": [
    {
     "name": "stdout",
     "output_type": "stream",
     "text": [
      "Percentatge de mod_AMB_PA_MECVV: 0.00%\n"
     ]
    }
   ],
   "execution_count": 333
  },
  {
   "cell_type": "code",
   "source": [
    "sev_AMB_PA_MECVV = (AMB_PA_MECVV['Barthel resultats'].between(21,60)).mean() * 100\n",
    "print(f\"Percentatge de sev_AMB_PA_MECVV: {sev_AMB_PA_MECVV:.2f}%\")"
   ],
   "metadata": {
    "collapsed": false,
    "ExecuteTime": {
     "end_time": "2024-05-29T13:06:57.339233Z",
     "start_time": "2024-05-29T13:06:57.326857Z"
    }
   },
   "id": "1be00f2a68ed2b97",
   "outputs": [
    {
     "name": "stdout",
     "output_type": "stream",
     "text": [
      "Percentatge de sev_AMB_PA_MECVV: 25.00%\n"
     ]
    }
   ],
   "execution_count": 334
  },
  {
   "cell_type": "code",
   "source": [
    "total_AMB_PA_MECVV = (AMB_PA_MECVV['Barthel resultats'] <= 20.0).mean() * 100\n",
    "print(f\"Percentatge de total_AMB_PA_MECVV: {total_AMB_PA_MECVV:.2f}%\")"
   ],
   "metadata": {
    "collapsed": false,
    "ExecuteTime": {
     "end_time": "2024-05-29T13:06:57.974677Z",
     "start_time": "2024-05-29T13:06:57.963644Z"
    }
   },
   "id": "bf05c30b37c19ae1",
   "outputs": [
    {
     "name": "stdout",
     "output_type": "stream",
     "text": [
      "Percentatge de total_AMB_PA_MECVV: 75.00%\n"
     ]
    }
   ],
   "execution_count": 335
  },
  {
   "cell_type": "markdown",
   "source": [
    "##### SENSE_PA"
   ],
   "metadata": {
    "collapsed": false
   },
   "id": "b8a37a297f6c19c2"
  },
  {
   "cell_type": "code",
   "source": [
    "indepe_SENSE_PA = (SENSE_PA['Barthel resultats'] == 100.0).mean() * 100\n",
    "print(f\"Percentatge de indepe_SENSE_PA: {indepe_SENSE_PA:.2f}%\")"
   ],
   "metadata": {
    "collapsed": false,
    "ExecuteTime": {
     "end_time": "2024-05-29T13:06:59.012984Z",
     "start_time": "2024-05-29T13:06:59.004458Z"
    }
   },
   "id": "7f5c24b821c330f7",
   "outputs": [
    {
     "name": "stdout",
     "output_type": "stream",
     "text": [
      "Percentatge de indepe_SENSE_PA: 0.00%\n"
     ]
    }
   ],
   "execution_count": 336
  },
  {
   "cell_type": "code",
   "source": [
    "mod_SENSE_PA = (SENSE_PA['Barthel resultats'].between(61,95)).mean() * 100\n",
    "print(f\"Percentatge de mod_SENSE_PA: {mod_SENSE_PA:.2f}%\")"
   ],
   "metadata": {
    "collapsed": false,
    "ExecuteTime": {
     "end_time": "2024-05-29T13:06:59.994012Z",
     "start_time": "2024-05-29T13:06:59.973877Z"
    }
   },
   "id": "8b89b2f9de1de2c",
   "outputs": [
    {
     "name": "stdout",
     "output_type": "stream",
     "text": [
      "Percentatge de mod_SENSE_PA: 37.50%\n"
     ]
    }
   ],
   "execution_count": 337
  },
  {
   "cell_type": "code",
   "source": [
    "sev_SENSE_PA = (SENSE_PA['Barthel resultats'].between(21,60)).mean() * 100\n",
    "print(f\"Percentatge de sev_SENSE_PA: {sev_SENSE_PA:.2f}%\")"
   ],
   "metadata": {
    "collapsed": false,
    "ExecuteTime": {
     "end_time": "2024-05-29T13:07:01.079243Z",
     "start_time": "2024-05-29T13:07:01.062991Z"
    }
   },
   "id": "d179880107e2bbbb",
   "outputs": [
    {
     "name": "stdout",
     "output_type": "stream",
     "text": [
      "Percentatge de sev_SENSE_PA: 62.50%\n"
     ]
    }
   ],
   "execution_count": 338
  },
  {
   "cell_type": "code",
   "source": [
    "total_SENSE_PA = (SENSE_PA['Barthel resultats'] <= 20).mean() * 100\n",
    "print(f\"Percentatge de total_SENSE_PA: {total_SENSE_PA:.2f}%\")"
   ],
   "metadata": {
    "collapsed": false,
    "ExecuteTime": {
     "end_time": "2024-05-29T13:07:01.720725Z",
     "start_time": "2024-05-29T13:07:01.711502Z"
    }
   },
   "id": "5ddd53dee617199c",
   "outputs": [
    {
     "name": "stdout",
     "output_type": "stream",
     "text": [
      "Percentatge de total_SENSE_PA: 0.00%\n"
     ]
    }
   ],
   "execution_count": 339
  },
  {
   "cell_type": "markdown",
   "source": [
    "#### P-valor"
   ],
   "metadata": {
    "collapsed": false
   },
   "id": "c74fd21a068e31c4"
  },
  {
   "cell_type": "markdown",
   "source": [
    "##### Independència"
   ],
   "metadata": {
    "collapsed": false
   },
   "id": "769d8233758c784"
  },
  {
   "cell_type": "code",
   "source": [
    "contingency_table_12 = pd.crosstab(index=AMB_PA['Barthel resultats'] == 100.0, columns=AMB_PA_MECVV['Barthel resultats'] == 100.0)\n",
    "\n",
    "chi2_12, p_value_12, dof_12, expected_12 = chi2_contingency(contingency_table_12)\n",
    "\n",
    "print(\"Estadístic xi-quadrat entre AMB_PA i AMB_PA_MECVV:\", chi2_12)\n",
    "print(\"P-valor entre AMB_PA i AMB_PA_MECVV:\", p_value_12)\n",
    "\n",
    "if p_value_12 < 0.05:\n",
    "    print(\"Hi ha diferències significatives entre les distribucions de Barthel en AMB_PA i AMB_PA_MECVV.\")\n",
    "else:\n",
    "    print(\"No hi ha diferències significatives entre les distribucions de Barthel en AMB_PA i AMB_PA_MECVV.\")"
   ],
   "metadata": {
    "collapsed": false,
    "ExecuteTime": {
     "end_time": "2024-05-29T13:07:02.659280Z",
     "start_time": "2024-05-29T13:07:02.641089Z"
    }
   },
   "id": "efc6fae42593135c",
   "outputs": [
    {
     "name": "stdout",
     "output_type": "stream",
     "text": [
      "Estadístic xi-quadrat entre AMB_PA i AMB_PA_MECVV: 0.0\n",
      "P-valor entre AMB_PA i AMB_PA_MECVV: 1.0\n",
      "No hi ha diferències significatives entre les distribucions de Barthel en AMB_PA i AMB_PA_MECVV.\n"
     ]
    }
   ],
   "execution_count": 340
  },
  {
   "cell_type": "code",
   "source": [
    "contingency_table_13 = pd.crosstab(index=AMB_PA['Barthel resultats'] == 100.0, columns=SENSE_PA['Barthel resultats'] == 100.0)\n",
    "\n",
    "chi2_13, p_value_13, dof_13, expected_13 = chi2_contingency(contingency_table_13)\n",
    "\n",
    "print(\"Estadístic xi-quadrat entre AMB_PA i SENSE_PA:\", chi2_13)\n",
    "print(\"P-valor entre AMB_PA i SENSE_PA:\", p_value_13)\n",
    "\n",
    "if p_value_13 < 0.05:\n",
    "    print(\"Hi ha diferències significatives entre les distribucions de Barthel en AMB_PA i SENSE_PA.\")\n",
    "else:\n",
    "    print(\"No hi ha diferències significatives entre les distribucions de Barthel en AMB_PA i SENSE_PA.\")"
   ],
   "metadata": {
    "collapsed": false,
    "ExecuteTime": {
     "end_time": "2024-05-29T13:07:03.204588Z",
     "start_time": "2024-05-29T13:07:03.187540Z"
    }
   },
   "id": "42ba444cc6a018",
   "outputs": [
    {
     "name": "stdout",
     "output_type": "stream",
     "text": [
      "Estadístic xi-quadrat entre AMB_PA i SENSE_PA: 0.0\n",
      "P-valor entre AMB_PA i SENSE_PA: 1.0\n",
      "No hi ha diferències significatives entre les distribucions de Barthel en AMB_PA i SENSE_PA.\n"
     ]
    }
   ],
   "execution_count": 341
  },
  {
   "cell_type": "code",
   "source": [
    "contingency_table_23 = pd.crosstab(index=AMB_PA_MECVV['Barthel resultats'] == 100.0, columns=SENSE_PA['Barthel resultats'] == 100.0)\n",
    "\n",
    "chi2_23, p_value_23, dof_23, expected_23 = chi2_contingency(contingency_table_23)\n",
    "\n",
    "print(\"Estadístic xi-quadrat entre AMB_PA_MECVVV i SENSE_PA:\", chi2_23)\n",
    "print(\"P-valor entre AMB_PA_MECVV i SENSE_PA:\", p_value_23)\n",
    "\n",
    "if p_value_23 < 0.05:\n",
    "    print(\"Hi ha diferències significatives entre les distribucions de Barthel en AMB_PA_MECVV i SENSE_PA.\")\n",
    "else:\n",
    "    print(\"No hi ha diferències significatives entre les distribucions Barthel en AMB_PA_MECVV i SENSE_PA.\")"
   ],
   "metadata": {
    "collapsed": false,
    "ExecuteTime": {
     "end_time": "2024-05-29T13:07:04.079936Z",
     "start_time": "2024-05-29T13:07:04.037354Z"
    }
   },
   "id": "fe0b7018b15bfd5f",
   "outputs": [
    {
     "ename": "ValueError",
     "evalue": "No data; `observed` has size 0.",
     "output_type": "error",
     "traceback": [
      "\u001B[1;31m---------------------------------------------------------------------------\u001B[0m",
      "\u001B[1;31mValueError\u001B[0m                                Traceback (most recent call last)",
      "Cell \u001B[1;32mIn[342], line 3\u001B[0m\n\u001B[0;32m      1\u001B[0m contingency_table_23 \u001B[38;5;241m=\u001B[39m pd\u001B[38;5;241m.\u001B[39mcrosstab(index\u001B[38;5;241m=\u001B[39mAMB_PA_MECVV[\u001B[38;5;124m'\u001B[39m\u001B[38;5;124mBarthel resultats\u001B[39m\u001B[38;5;124m'\u001B[39m] \u001B[38;5;241m==\u001B[39m \u001B[38;5;241m100.0\u001B[39m, columns\u001B[38;5;241m=\u001B[39mSENSE_PA[\u001B[38;5;124m'\u001B[39m\u001B[38;5;124mBarthel resultats\u001B[39m\u001B[38;5;124m'\u001B[39m] \u001B[38;5;241m==\u001B[39m \u001B[38;5;241m100.0\u001B[39m)\n\u001B[1;32m----> 3\u001B[0m chi2_23, p_value_23, dof_23, expected_23 \u001B[38;5;241m=\u001B[39m \u001B[43mchi2_contingency\u001B[49m\u001B[43m(\u001B[49m\u001B[43mcontingency_table_23\u001B[49m\u001B[43m)\u001B[49m\n\u001B[0;32m      5\u001B[0m \u001B[38;5;28mprint\u001B[39m(\u001B[38;5;124m\"\u001B[39m\u001B[38;5;124mEstadístic xi-quadrat entre AMB_PA_MECVVV i SENSE_PA:\u001B[39m\u001B[38;5;124m\"\u001B[39m, chi2_23)\n\u001B[0;32m      6\u001B[0m \u001B[38;5;28mprint\u001B[39m(\u001B[38;5;124m\"\u001B[39m\u001B[38;5;124mP-valor entre AMB_PA_MECVV i SENSE_PA:\u001B[39m\u001B[38;5;124m\"\u001B[39m, p_value_23)\n",
      "File \u001B[1;32m~\\PycharmProjects\\practicum\\.venv\\Lib\\site-packages\\scipy\\stats\\contingency.py:333\u001B[0m, in \u001B[0;36mchi2_contingency\u001B[1;34m(observed, correction, lambda_)\u001B[0m\n\u001B[0;32m    331\u001B[0m     \u001B[38;5;28;01mraise\u001B[39;00m \u001B[38;5;167;01mValueError\u001B[39;00m(\u001B[38;5;124m\"\u001B[39m\u001B[38;5;124mAll values in `observed` must be nonnegative.\u001B[39m\u001B[38;5;124m\"\u001B[39m)\n\u001B[0;32m    332\u001B[0m \u001B[38;5;28;01mif\u001B[39;00m observed\u001B[38;5;241m.\u001B[39msize \u001B[38;5;241m==\u001B[39m \u001B[38;5;241m0\u001B[39m:\n\u001B[1;32m--> 333\u001B[0m     \u001B[38;5;28;01mraise\u001B[39;00m \u001B[38;5;167;01mValueError\u001B[39;00m(\u001B[38;5;124m\"\u001B[39m\u001B[38;5;124mNo data; `observed` has size 0.\u001B[39m\u001B[38;5;124m\"\u001B[39m)\n\u001B[0;32m    335\u001B[0m expected \u001B[38;5;241m=\u001B[39m expected_freq(observed)\n\u001B[0;32m    336\u001B[0m \u001B[38;5;28;01mif\u001B[39;00m np\u001B[38;5;241m.\u001B[39many(expected \u001B[38;5;241m==\u001B[39m \u001B[38;5;241m0\u001B[39m):\n\u001B[0;32m    337\u001B[0m     \u001B[38;5;66;03m# Include one of the positions where expected is zero in\u001B[39;00m\n\u001B[0;32m    338\u001B[0m     \u001B[38;5;66;03m# the exception message.\u001B[39;00m\n",
      "\u001B[1;31mValueError\u001B[0m: No data; `observed` has size 0."
     ]
    }
   ],
   "execution_count": 342
  },
  {
   "cell_type": "code",
   "source": [
    "contingency_table_14 = pd.crosstab(index=AMB_PA['Barthel resultats'] == 100.0, columns=TOTAL['Barthel resultats'] == 100.0)\n",
    "\n",
    "chi2_14, p_value_14, dof_14, expected_14 = chi2_contingency(contingency_table_14)\n",
    "\n",
    "print(\"Estadístic xi-quadrat entre AMB_PA i TOTAL:\", chi2_14)\n",
    "print(\"P-valor entre AMB_PA i TOTAL:\", p_value_14)\n",
    "\n",
    "if p_value_14 < 0.05:\n",
    "    print(\"Hi ha diferències significatives entre les distribucions de Barthel en AMB_PA i TOTAL.\")\n",
    "else:\n",
    "    print(\"No hi ha diferències significatives entre les distribucions de Barthel en AMB_PA i TOTAL.\")"
   ],
   "metadata": {
    "collapsed": false,
    "ExecuteTime": {
     "end_time": "2024-05-29T13:07:04.638065Z",
     "start_time": "2024-05-29T13:07:04.622111Z"
    }
   },
   "id": "2bae52cece19ffc3",
   "outputs": [
    {
     "name": "stdout",
     "output_type": "stream",
     "text": [
      "Estadístic xi-quadrat entre AMB_PA i TOTAL: 0.0\n",
      "P-valor entre AMB_PA i TOTAL: 1.0\n",
      "No hi ha diferències significatives entre les distribucions de Barthel en AMB_PA i TOTAL.\n"
     ]
    }
   ],
   "execution_count": 343
  },
  {
   "cell_type": "code",
   "source": [
    "contingency_table_24 = pd.crosstab(index=AMB_PA_MECVV['Barthel resultats'] == 100.0, columns=TOTAL['Barthel resultats'] == 100.0)\n",
    "\n",
    "chi2_24, p_value_24, dof_24, expected_24 = chi2_contingency(contingency_table_24)\n",
    "\n",
    "print(\"Estadístic xi-quadrat entre AMB_PA_MECVVV i TOTAL:\", chi2_24)\n",
    "print(\"P-valor entre AMB_PA_MECVV i TOTAL:\", p_value_24)\n",
    "\n",
    "if p_value_24 < 0.05:\n",
    "    print(\"Hi ha diferències significatives entre les distribucions de Barthel en AMB_PA_MECVV i TOTAL.\")\n",
    "else:\n",
    "    print(\"No hi ha diferències significatives entre les distribucions de Barthel en AMB_PA_MECVV i TOTAL.\")"
   ],
   "metadata": {
    "collapsed": false,
    "ExecuteTime": {
     "end_time": "2024-05-29T13:07:05.735161Z",
     "start_time": "2024-05-29T13:07:05.719915Z"
    }
   },
   "id": "cb709d8c83a412b9",
   "outputs": [
    {
     "name": "stdout",
     "output_type": "stream",
     "text": [
      "Estadístic xi-quadrat entre AMB_PA_MECVVV i TOTAL: 0.0\n",
      "P-valor entre AMB_PA_MECVV i TOTAL: 1.0\n",
      "No hi ha diferències significatives entre les distribucions de Barthel en AMB_PA_MECVV i TOTAL.\n"
     ]
    }
   ],
   "execution_count": 344
  },
  {
   "cell_type": "code",
   "source": [
    "contingency_table_34 = pd.crosstab(index=SENSE_PA['Barthel resultats'] == 100.0, columns=TOTAL['Barthel resultats'] == 100.0)\n",
    "\n",
    "chi2_34, p_value_34, dof_34, expected_34 = chi2_contingency(contingency_table_34)\n",
    "\n",
    "print(\"Estadístic xi-quadrat entre SENSE_PA i TOTAL:\", chi2_34)\n",
    "print(\"P-valor entre SENSE_PA i TOTAL:\", p_value_34)\n",
    "\n",
    "if p_value_34 < 0.05:\n",
    "    print(\"Hi ha diferències significatives entre les distribucions de Barthel en SENSE_PA i TOTAL.\")\n",
    "else:\n",
    "    print(\"No hi ha diferències significatives entre les distribucions de Barthel en SENSE_PA i TOTAL.\")"
   ],
   "metadata": {
    "collapsed": false,
    "jupyter": {
     "is_executing": true
    }
   },
   "id": "135b238595cbe507",
   "outputs": [],
   "execution_count": null
  },
  {
   "cell_type": "markdown",
   "source": [
    "##### Moderada"
   ],
   "metadata": {
    "collapsed": false
   },
   "id": "cc5431c2e499f5ed"
  },
  {
   "cell_type": "code",
   "source": [
    "contingency_table_12 = pd.crosstab(index=AMB_PA['Barthel resultats'].between(61, 95), columns=AMB_PA_MECVV['Barthel resultats'].between(61, 95))\n",
    "\n",
    "chi2_12, p_value_12, dof_12, expected_12 = chi2_contingency(contingency_table_12)\n",
    "\n",
    "print(\"Estadístic xi-quadrat entre AMB_PA i AMB_PA_MECVV:\", chi2_12)\n",
    "print(\"P-valor entre AMB_PA i AMB_PA_MECVV:\", p_value_12)\n",
    "\n",
    "if p_value_12 < 0.05:\n",
    "    print(\"Hi ha diferències significatives entre les distribucions de Barthel en AMB_PA i AMB_PA_MECVV.\")\n",
    "else:\n",
    "    print(\"No hi ha diferències significatives entre les distribucions de Barthel en AMB_PA i AMB_PA_MECVV.\")"
   ],
   "metadata": {
    "collapsed": false,
    "ExecuteTime": {
     "end_time": "2024-05-29T13:01:48.426425Z",
     "start_time": "2024-05-29T13:01:48.393872Z"
    }
   },
   "id": "b8d325105c8061c1",
   "outputs": [
    {
     "ename": "NameError",
     "evalue": "name 'pd' is not defined",
     "output_type": "error",
     "traceback": [
      "\u001B[1;31m---------------------------------------------------------------------------\u001B[0m",
      "\u001B[1;31mNameError\u001B[0m                                 Traceback (most recent call last)",
      "Cell \u001B[1;32mIn[4], line 1\u001B[0m\n\u001B[1;32m----> 1\u001B[0m contingency_table_12 \u001B[38;5;241m=\u001B[39m \u001B[43mpd\u001B[49m\u001B[38;5;241m.\u001B[39mcrosstab(index\u001B[38;5;241m=\u001B[39mAMB_PA[\u001B[38;5;124m'\u001B[39m\u001B[38;5;124mBarthel resultats\u001B[39m\u001B[38;5;124m'\u001B[39m]\u001B[38;5;241m.\u001B[39mbetween(\u001B[38;5;241m61\u001B[39m, \u001B[38;5;241m95\u001B[39m), columns\u001B[38;5;241m=\u001B[39mAMB_PA_MECVV[\u001B[38;5;124m'\u001B[39m\u001B[38;5;124mBarthel resultats\u001B[39m\u001B[38;5;124m'\u001B[39m]\u001B[38;5;241m.\u001B[39mbetween(\u001B[38;5;241m61\u001B[39m, \u001B[38;5;241m95\u001B[39m))\n\u001B[0;32m      3\u001B[0m chi2_12, p_value_12, dof_12, expected_12 \u001B[38;5;241m=\u001B[39m chi2_contingency(contingency_table_12)\n\u001B[0;32m      5\u001B[0m \u001B[38;5;28mprint\u001B[39m(\u001B[38;5;124m\"\u001B[39m\u001B[38;5;124mEstadístic xi-quadrat entre AMB_PA i AMB_PA_MECVV:\u001B[39m\u001B[38;5;124m\"\u001B[39m, chi2_12)\n",
      "\u001B[1;31mNameError\u001B[0m: name 'pd' is not defined"
     ]
    }
   ],
   "execution_count": 4
  },
  {
   "cell_type": "code",
   "source": [
    "contingency_table_13 = pd.crosstab(index=AMB_PA['Barthel resultats'].between(61, 95), columns=SENSE_PA['Barthel resultats'].between(61, 95))\n",
    "\n",
    "chi2_13, p_value_13, dof_13, expected_13 = chi2_contingency(contingency_table_13)\n",
    "\n",
    "print(\"Estadístic xi-quadrat entre AMB_PA i SENSE_PA:\", chi2_13)\n",
    "print(\"P-valor entre AMB_PA i SENSE_PA:\", p_value_13)\n",
    "\n",
    "if p_value_13 < 0.05:\n",
    "    print(\"Hi ha diferències significatives entre les distribucions de Barthel en AMB_PA i SENSE_PA.\")\n",
    "else:\n",
    "    print(\"No hi ha diferències significatives entre les distribucions de Barthel en AMB_PA i SENSE_PA.\")"
   ],
   "metadata": {
    "collapsed": false,
    "ExecuteTime": {
     "end_time": "2024-05-29T13:01:48.979879Z",
     "start_time": "2024-05-29T13:01:48.944661Z"
    }
   },
   "id": "77fbb4807cef7db3",
   "outputs": [
    {
     "ename": "NameError",
     "evalue": "name 'pd' is not defined",
     "output_type": "error",
     "traceback": [
      "\u001B[1;31m---------------------------------------------------------------------------\u001B[0m",
      "\u001B[1;31mNameError\u001B[0m                                 Traceback (most recent call last)",
      "Cell \u001B[1;32mIn[5], line 1\u001B[0m\n\u001B[1;32m----> 1\u001B[0m contingency_table_13 \u001B[38;5;241m=\u001B[39m \u001B[43mpd\u001B[49m\u001B[38;5;241m.\u001B[39mcrosstab(index\u001B[38;5;241m=\u001B[39mAMB_PA[\u001B[38;5;124m'\u001B[39m\u001B[38;5;124mBarthel resultats\u001B[39m\u001B[38;5;124m'\u001B[39m]\u001B[38;5;241m.\u001B[39mbetween(\u001B[38;5;241m61\u001B[39m, \u001B[38;5;241m95\u001B[39m), columns\u001B[38;5;241m=\u001B[39mSENSE_PA[\u001B[38;5;124m'\u001B[39m\u001B[38;5;124mBarthel resultats\u001B[39m\u001B[38;5;124m'\u001B[39m]\u001B[38;5;241m.\u001B[39mbetween(\u001B[38;5;241m61\u001B[39m, \u001B[38;5;241m95\u001B[39m))\n\u001B[0;32m      3\u001B[0m chi2_13, p_value_13, dof_13, expected_13 \u001B[38;5;241m=\u001B[39m chi2_contingency(contingency_table_13)\n\u001B[0;32m      5\u001B[0m \u001B[38;5;28mprint\u001B[39m(\u001B[38;5;124m\"\u001B[39m\u001B[38;5;124mEstadístic xi-quadrat entre AMB_PA i SENSE_PA:\u001B[39m\u001B[38;5;124m\"\u001B[39m, chi2_13)\n",
      "\u001B[1;31mNameError\u001B[0m: name 'pd' is not defined"
     ]
    }
   ],
   "execution_count": 5
  },
  {
   "cell_type": "code",
   "source": [
    "contingency_table_23 = pd.crosstab(index=AMB_PA_MECVV['Barthel resultats'].between(61, 95), columns=SENSE_PA['Barthel resultats'].between(61, 95))\n",
    "\n",
    "chi2_23, p_value_23, dof_23, expected_23 = chi2_contingency(contingency_table_23)\n",
    "\n",
    "print(\"Estadístic xi-quadrat entre AMB_PA_MECVV i SENSE_PA:\", chi2_23)\n",
    "print(\"P-valor entre AMB_PA_MECVV i SENSE_PA:\", p_value_23)\n",
    "\n",
    "if p_value_23 < 0.05:\n",
    "    print(\"Hi ha diferències significatives entre les distribucions de Barthel en AMB_PA_MECVV i SENSE_PA.\")\n",
    "else:\n",
    "    print(\"No hi ha diferències significatives entre les distribucions de Barthel en AMB_PA_MECVV i SENSE_PA.\")"
   ],
   "metadata": {
    "collapsed": false,
    "ExecuteTime": {
     "end_time": "2024-05-29T13:01:49.734813Z",
     "start_time": "2024-05-29T13:01:49.697769Z"
    }
   },
   "id": "2bcd33a93cddbbfc",
   "outputs": [
    {
     "ename": "NameError",
     "evalue": "name 'pd' is not defined",
     "output_type": "error",
     "traceback": [
      "\u001B[1;31m---------------------------------------------------------------------------\u001B[0m",
      "\u001B[1;31mNameError\u001B[0m                                 Traceback (most recent call last)",
      "Cell \u001B[1;32mIn[6], line 1\u001B[0m\n\u001B[1;32m----> 1\u001B[0m contingency_table_23 \u001B[38;5;241m=\u001B[39m \u001B[43mpd\u001B[49m\u001B[38;5;241m.\u001B[39mcrosstab(index\u001B[38;5;241m=\u001B[39mAMB_PA_MECVV[\u001B[38;5;124m'\u001B[39m\u001B[38;5;124mBarthel resultats\u001B[39m\u001B[38;5;124m'\u001B[39m]\u001B[38;5;241m.\u001B[39mbetween(\u001B[38;5;241m61\u001B[39m, \u001B[38;5;241m95\u001B[39m), columns\u001B[38;5;241m=\u001B[39mSENSE_PA[\u001B[38;5;124m'\u001B[39m\u001B[38;5;124mBarthel resultats\u001B[39m\u001B[38;5;124m'\u001B[39m]\u001B[38;5;241m.\u001B[39mbetween(\u001B[38;5;241m61\u001B[39m, \u001B[38;5;241m95\u001B[39m))\n\u001B[0;32m      3\u001B[0m chi2_23, p_value_23, dof_23, expected_23 \u001B[38;5;241m=\u001B[39m chi2_contingency(contingency_table_23)\n\u001B[0;32m      5\u001B[0m \u001B[38;5;28mprint\u001B[39m(\u001B[38;5;124m\"\u001B[39m\u001B[38;5;124mEstadístic xi-quadrat entre AMB_PA_MECVV i SENSE_PA:\u001B[39m\u001B[38;5;124m\"\u001B[39m, chi2_23)\n",
      "\u001B[1;31mNameError\u001B[0m: name 'pd' is not defined"
     ]
    }
   ],
   "execution_count": 6
  },
  {
   "cell_type": "code",
   "source": [
    "contingency_table_14 = pd.crosstab(index=AMB_PA['Barthel resultats'].between(61, 95), columns=TOTAL['Barthel resultats'].between(61, 95))\n",
    "\n",
    "chi2_14, p_value_14, dof_14, expected_14 = chi2_contingency(contingency_table_14)\n",
    "\n",
    "print(\"Estadístic xi-quadrat entre AMB_PA i TOTAL:\", chi2_14)\n",
    "print(\"P-valor entre AMB_PA i TOTAL:\", p_value_14)\n",
    "\n",
    "if p_value_14 < 0.05:\n",
    "    print(\"Hi ha diferències significatives entre les distribucions de Barthel en AMB_PA i TOTAL.\")\n",
    "else:\n",
    "    print(\"No hi ha diferències significatives entre les distribucions de Barthel en AMB_PA i TOTAL.\")"
   ],
   "metadata": {
    "collapsed": false,
    "ExecuteTime": {
     "end_time": "2024-05-29T13:01:50.499348Z",
     "start_time": "2024-05-29T13:01:50.474289Z"
    }
   },
   "id": "35a7113622b4c648",
   "outputs": [
    {
     "ename": "NameError",
     "evalue": "name 'pd' is not defined",
     "output_type": "error",
     "traceback": [
      "\u001B[1;31m---------------------------------------------------------------------------\u001B[0m",
      "\u001B[1;31mNameError\u001B[0m                                 Traceback (most recent call last)",
      "Cell \u001B[1;32mIn[7], line 1\u001B[0m\n\u001B[1;32m----> 1\u001B[0m contingency_table_14 \u001B[38;5;241m=\u001B[39m \u001B[43mpd\u001B[49m\u001B[38;5;241m.\u001B[39mcrosstab(index\u001B[38;5;241m=\u001B[39mAMB_PA[\u001B[38;5;124m'\u001B[39m\u001B[38;5;124mBarthel resultats\u001B[39m\u001B[38;5;124m'\u001B[39m]\u001B[38;5;241m.\u001B[39mbetween(\u001B[38;5;241m61\u001B[39m, \u001B[38;5;241m95\u001B[39m), columns\u001B[38;5;241m=\u001B[39mTOTAL[\u001B[38;5;124m'\u001B[39m\u001B[38;5;124mBarthel resultats\u001B[39m\u001B[38;5;124m'\u001B[39m]\u001B[38;5;241m.\u001B[39mbetween(\u001B[38;5;241m61\u001B[39m, \u001B[38;5;241m95\u001B[39m))\n\u001B[0;32m      3\u001B[0m chi2_14, p_value_14, dof_14, expected_14 \u001B[38;5;241m=\u001B[39m chi2_contingency(contingency_table_14)\n\u001B[0;32m      5\u001B[0m \u001B[38;5;28mprint\u001B[39m(\u001B[38;5;124m\"\u001B[39m\u001B[38;5;124mEstadístic xi-quadrat entre AMB_PA i TOTAL:\u001B[39m\u001B[38;5;124m\"\u001B[39m, chi2_14)\n",
      "\u001B[1;31mNameError\u001B[0m: name 'pd' is not defined"
     ]
    }
   ],
   "execution_count": 7
  },
  {
   "cell_type": "code",
   "source": [
    "contingency_table_24 = pd.crosstab(index=AMB_PA_MECVV['Barthel resultats'].between(61, 95), columns=TOTAL['Barthel resultats'].between(61, 95))\n",
    "\n",
    "chi2_24, p_value_24, dof_24, expected_24 = chi2_contingency(contingency_table_24)\n",
    "\n",
    "print(\"Estadístic xi-quadrat entre AMB_PA_MECVV i TOTAL:\", chi2_24)\n",
    "print(\"P-valor entre AMB_PA_MECVV i TOTAL:\", p_value_24)\n",
    "\n",
    "if p_value_24 < 0.05:\n",
    "    print(\"Hi ha diferències significatives entre les distribucions de Barthel en AMB_PA_MECVV i TOTAL.\")\n",
    "else:\n",
    "    print(\"No hi ha diferències significatives entre les distribucions de Barthel en AMB_PA_MECVV i TOTAL.\")"
   ],
   "metadata": {
    "collapsed": false,
    "ExecuteTime": {
     "end_time": "2024-05-29T13:01:51.142065Z",
     "start_time": "2024-05-29T13:01:51.122566Z"
    }
   },
   "id": "c28d75485df0db84",
   "outputs": [
    {
     "ename": "NameError",
     "evalue": "name 'pd' is not defined",
     "output_type": "error",
     "traceback": [
      "\u001B[1;31m---------------------------------------------------------------------------\u001B[0m",
      "\u001B[1;31mNameError\u001B[0m                                 Traceback (most recent call last)",
      "Cell \u001B[1;32mIn[8], line 1\u001B[0m\n\u001B[1;32m----> 1\u001B[0m contingency_table_24 \u001B[38;5;241m=\u001B[39m \u001B[43mpd\u001B[49m\u001B[38;5;241m.\u001B[39mcrosstab(index\u001B[38;5;241m=\u001B[39mAMB_PA_MECVV[\u001B[38;5;124m'\u001B[39m\u001B[38;5;124mBarthel resultats\u001B[39m\u001B[38;5;124m'\u001B[39m]\u001B[38;5;241m.\u001B[39mbetween(\u001B[38;5;241m61\u001B[39m, \u001B[38;5;241m95\u001B[39m), columns\u001B[38;5;241m=\u001B[39mTOTAL[\u001B[38;5;124m'\u001B[39m\u001B[38;5;124mBarthel resultats\u001B[39m\u001B[38;5;124m'\u001B[39m]\u001B[38;5;241m.\u001B[39mbetween(\u001B[38;5;241m61\u001B[39m, \u001B[38;5;241m95\u001B[39m))\n\u001B[0;32m      3\u001B[0m chi2_24, p_value_24, dof_24, expected_24 \u001B[38;5;241m=\u001B[39m chi2_contingency(contingency_table_24)\n\u001B[0;32m      5\u001B[0m \u001B[38;5;28mprint\u001B[39m(\u001B[38;5;124m\"\u001B[39m\u001B[38;5;124mEstadístic xi-quadrat entre AMB_PA_MECVV i TOTAL:\u001B[39m\u001B[38;5;124m\"\u001B[39m, chi2_24)\n",
      "\u001B[1;31mNameError\u001B[0m: name 'pd' is not defined"
     ]
    }
   ],
   "execution_count": 8
  },
  {
   "cell_type": "code",
   "source": [
    "contingency_table_34 = pd.crosstab(index=SENSE_PA['Barthel resultats'].between(61, 95), columns=TOTAL['Barthel resultats'].between(61, 95))\n",
    "\n",
    "chi2_34, p_value_34, dof_34, expected_34 = chi2_contingency(contingency_table_34)\n",
    "\n",
    "print(\"Estadístic xi-quadrat entre SENSE_PA i TOTAL:\", chi2_34)\n",
    "print(\"P-valor entre SENSE_PA i TOTAL:\", p_value_34)\n",
    "\n",
    "if p_value_34 < 0.05:\n",
    "    print(\"Hi ha diferències significatives entre les distribucions de Barthel en SENSE_PA i TOTAL.\")\n",
    "else:\n",
    "    print(\"No hi ha diferències significatives entre les distribucions de Barthel en SENSE_PA i TOTAL.\")"
   ],
   "metadata": {
    "collapsed": false,
    "ExecuteTime": {
     "end_time": "2024-05-29T13:01:52.269861Z",
     "start_time": "2024-05-29T13:01:52.245426Z"
    }
   },
   "id": "60453aa1cbe0458a",
   "outputs": [
    {
     "ename": "NameError",
     "evalue": "name 'pd' is not defined",
     "output_type": "error",
     "traceback": [
      "\u001B[1;31m---------------------------------------------------------------------------\u001B[0m",
      "\u001B[1;31mNameError\u001B[0m                                 Traceback (most recent call last)",
      "Cell \u001B[1;32mIn[9], line 1\u001B[0m\n\u001B[1;32m----> 1\u001B[0m contingency_table_34 \u001B[38;5;241m=\u001B[39m \u001B[43mpd\u001B[49m\u001B[38;5;241m.\u001B[39mcrosstab(index\u001B[38;5;241m=\u001B[39mSENSE_PA[\u001B[38;5;124m'\u001B[39m\u001B[38;5;124mBarthel resultats\u001B[39m\u001B[38;5;124m'\u001B[39m]\u001B[38;5;241m.\u001B[39mbetween(\u001B[38;5;241m61\u001B[39m, \u001B[38;5;241m95\u001B[39m), columns\u001B[38;5;241m=\u001B[39mTOTAL[\u001B[38;5;124m'\u001B[39m\u001B[38;5;124mBarthel resultats\u001B[39m\u001B[38;5;124m'\u001B[39m]\u001B[38;5;241m.\u001B[39mbetween(\u001B[38;5;241m61\u001B[39m, \u001B[38;5;241m95\u001B[39m))\n\u001B[0;32m      3\u001B[0m chi2_34, p_value_34, dof_34, expected_34 \u001B[38;5;241m=\u001B[39m chi2_contingency(contingency_table_34)\n\u001B[0;32m      5\u001B[0m \u001B[38;5;28mprint\u001B[39m(\u001B[38;5;124m\"\u001B[39m\u001B[38;5;124mEstadístic xi-quadrat entre SENSE_PA i TOTAL:\u001B[39m\u001B[38;5;124m\"\u001B[39m, chi2_34)\n",
      "\u001B[1;31mNameError\u001B[0m: name 'pd' is not defined"
     ]
    }
   ],
   "execution_count": 9
  },
  {
   "cell_type": "markdown",
   "source": [
    "##### Severa"
   ],
   "metadata": {
    "collapsed": false
   },
   "id": "6d39cedda91cfdf"
  },
  {
   "cell_type": "code",
   "source": [
    "contingency_table_12 = pd.crosstab(index=AMB_PA['Barthel resultats'].between(21,60), columns=AMB_PA_MECVV['Barthel resultats'].between(21,60))\n",
    "\n",
    "chi2_12, p_value_12, dof_12, expected_12 = chi2_contingency(contingency_table_12)\n",
    "\n",
    "print(\"Estadístic xi-quadrat entre AMB_PA i AMB_PA_MECVV:\", chi2_12)\n",
    "print(\"P-valor entre AMB_PA i AMB_PA_MECVV:\", p_value_12)\n",
    "\n",
    "if p_value_12 < 0.05:\n",
    "    print(\"Hi ha diferències significatives entre les distribucions de Barthel en AMB_PA i AMB_PA_MECVV.\")\n",
    "else:\n",
    "    print(\"No hi ha diferències significatives entre les distribucions de Barthel en AMB_PA i AMB_PA_MECVV.\")"
   ],
   "metadata": {
    "collapsed": false,
    "ExecuteTime": {
     "end_time": "2024-05-29T13:01:53.434834Z",
     "start_time": "2024-05-29T13:01:53.416604Z"
    }
   },
   "id": "47c3132d335e476e",
   "outputs": [
    {
     "ename": "NameError",
     "evalue": "name 'pd' is not defined",
     "output_type": "error",
     "traceback": [
      "\u001B[1;31m---------------------------------------------------------------------------\u001B[0m",
      "\u001B[1;31mNameError\u001B[0m                                 Traceback (most recent call last)",
      "Cell \u001B[1;32mIn[10], line 1\u001B[0m\n\u001B[1;32m----> 1\u001B[0m contingency_table_12 \u001B[38;5;241m=\u001B[39m \u001B[43mpd\u001B[49m\u001B[38;5;241m.\u001B[39mcrosstab(index\u001B[38;5;241m=\u001B[39mAMB_PA[\u001B[38;5;124m'\u001B[39m\u001B[38;5;124mBarthel resultats\u001B[39m\u001B[38;5;124m'\u001B[39m]\u001B[38;5;241m.\u001B[39mbetween(\u001B[38;5;241m21\u001B[39m,\u001B[38;5;241m60\u001B[39m), columns\u001B[38;5;241m=\u001B[39mAMB_PA_MECVV[\u001B[38;5;124m'\u001B[39m\u001B[38;5;124mBarthel resultats\u001B[39m\u001B[38;5;124m'\u001B[39m]\u001B[38;5;241m.\u001B[39mbetween(\u001B[38;5;241m21\u001B[39m,\u001B[38;5;241m60\u001B[39m))\n\u001B[0;32m      3\u001B[0m chi2_12, p_value_12, dof_12, expected_12 \u001B[38;5;241m=\u001B[39m chi2_contingency(contingency_table_12)\n\u001B[0;32m      5\u001B[0m \u001B[38;5;28mprint\u001B[39m(\u001B[38;5;124m\"\u001B[39m\u001B[38;5;124mEstadístic xi-quadrat entre AMB_PA i AMB_PA_MECVV:\u001B[39m\u001B[38;5;124m\"\u001B[39m, chi2_12)\n",
      "\u001B[1;31mNameError\u001B[0m: name 'pd' is not defined"
     ]
    }
   ],
   "execution_count": 10
  },
  {
   "cell_type": "code",
   "source": [
    "contingency_table_13 = pd.crosstab(index=AMB_PA['Barthel resultats'].between(21,60), columns=SENSE_PA['Barthel resultats'].between(21,60))\n",
    "\n",
    "chi2_13, p_value_13, dof_13, expected_13 = chi2_contingency(contingency_table_13)\n",
    "\n",
    "print(\"Estadístic xi-quadrat entre AMB_PA i SENSE_PA:\", chi2_13)\n",
    "print(\"P-valor entre AMB_PA i SENSE_PA:\", p_value_13)\n",
    "\n",
    "if p_value_13 < 0.05:\n",
    "    print(\"Hi ha diferències significatives entre les distribucions de Barthel en AMB_PA i SENSE_PA.\")\n",
    "else:\n",
    "    print(\"No hi ha diferències significatives entre les distribucions de Barthel en AMB_PA i SENSE_PA.\")"
   ],
   "metadata": {
    "collapsed": false,
    "ExecuteTime": {
     "end_time": "2024-05-29T13:01:54.057648Z",
     "start_time": "2024-05-29T13:01:54.030925Z"
    }
   },
   "id": "9e75f265174c02b6",
   "outputs": [
    {
     "ename": "NameError",
     "evalue": "name 'pd' is not defined",
     "output_type": "error",
     "traceback": [
      "\u001B[1;31m---------------------------------------------------------------------------\u001B[0m",
      "\u001B[1;31mNameError\u001B[0m                                 Traceback (most recent call last)",
      "Cell \u001B[1;32mIn[11], line 1\u001B[0m\n\u001B[1;32m----> 1\u001B[0m contingency_table_13 \u001B[38;5;241m=\u001B[39m \u001B[43mpd\u001B[49m\u001B[38;5;241m.\u001B[39mcrosstab(index\u001B[38;5;241m=\u001B[39mAMB_PA[\u001B[38;5;124m'\u001B[39m\u001B[38;5;124mBarthel resultats\u001B[39m\u001B[38;5;124m'\u001B[39m]\u001B[38;5;241m.\u001B[39mbetween(\u001B[38;5;241m21\u001B[39m,\u001B[38;5;241m60\u001B[39m), columns\u001B[38;5;241m=\u001B[39mSENSE_PA[\u001B[38;5;124m'\u001B[39m\u001B[38;5;124mBarthel resultats\u001B[39m\u001B[38;5;124m'\u001B[39m]\u001B[38;5;241m.\u001B[39mbetween(\u001B[38;5;241m21\u001B[39m,\u001B[38;5;241m60\u001B[39m))\n\u001B[0;32m      3\u001B[0m chi2_13, p_value_13, dof_13, expected_13 \u001B[38;5;241m=\u001B[39m chi2_contingency(contingency_table_13)\n\u001B[0;32m      5\u001B[0m \u001B[38;5;28mprint\u001B[39m(\u001B[38;5;124m\"\u001B[39m\u001B[38;5;124mEstadístic xi-quadrat entre AMB_PA i SENSE_PA:\u001B[39m\u001B[38;5;124m\"\u001B[39m, chi2_13)\n",
      "\u001B[1;31mNameError\u001B[0m: name 'pd' is not defined"
     ]
    }
   ],
   "execution_count": 11
  },
  {
   "cell_type": "code",
   "source": [
    "contingency_table_23 = pd.crosstab(index=AMB_PA_MECVV['Barthel resultats'].between(21,60), columns=SENSE_PA['Barthel resultats'].between(21,60))\n",
    "\n",
    "chi2_23, p_value_23, dof_23, expected_23 = chi2_contingency(contingency_table_23)\n",
    "\n",
    "print(\"Estadístic xi-quadrat entre AMB_PA_MECVV i SENSE_PA:\", chi2_23)\n",
    "print(\"P-valor entre AMB_PA_MECVV i SENSE_PA:\", p_value_23)\n",
    "\n",
    "if p_value_23 < 0.05:\n",
    "    print(\"Hi ha diferències significatives entre les distribucions de Barthel en AMB_PA_MECVV i SENSE_PA.\")\n",
    "else:\n",
    "    print(\"No hi ha diferències significatives entre les distribucions de Barthel en AMB_PA_MECVV i SENSE_PA.\")"
   ],
   "metadata": {
    "collapsed": false,
    "ExecuteTime": {
     "end_time": "2024-05-29T13:01:54.945600Z",
     "start_time": "2024-05-29T13:01:54.920139Z"
    }
   },
   "id": "e3c411f486b35f4f",
   "outputs": [
    {
     "ename": "NameError",
     "evalue": "name 'pd' is not defined",
     "output_type": "error",
     "traceback": [
      "\u001B[1;31m---------------------------------------------------------------------------\u001B[0m",
      "\u001B[1;31mNameError\u001B[0m                                 Traceback (most recent call last)",
      "Cell \u001B[1;32mIn[12], line 1\u001B[0m\n\u001B[1;32m----> 1\u001B[0m contingency_table_23 \u001B[38;5;241m=\u001B[39m \u001B[43mpd\u001B[49m\u001B[38;5;241m.\u001B[39mcrosstab(index\u001B[38;5;241m=\u001B[39mAMB_PA_MECVV[\u001B[38;5;124m'\u001B[39m\u001B[38;5;124mBarthel resultats\u001B[39m\u001B[38;5;124m'\u001B[39m]\u001B[38;5;241m.\u001B[39mbetween(\u001B[38;5;241m21\u001B[39m,\u001B[38;5;241m60\u001B[39m), columns\u001B[38;5;241m=\u001B[39mSENSE_PA[\u001B[38;5;124m'\u001B[39m\u001B[38;5;124mBarthel resultats\u001B[39m\u001B[38;5;124m'\u001B[39m]\u001B[38;5;241m.\u001B[39mbetween(\u001B[38;5;241m21\u001B[39m,\u001B[38;5;241m60\u001B[39m))\n\u001B[0;32m      3\u001B[0m chi2_23, p_value_23, dof_23, expected_23 \u001B[38;5;241m=\u001B[39m chi2_contingency(contingency_table_23)\n\u001B[0;32m      5\u001B[0m \u001B[38;5;28mprint\u001B[39m(\u001B[38;5;124m\"\u001B[39m\u001B[38;5;124mEstadístic xi-quadrat entre AMB_PA_MECVV i SENSE_PA:\u001B[39m\u001B[38;5;124m\"\u001B[39m, chi2_23)\n",
      "\u001B[1;31mNameError\u001B[0m: name 'pd' is not defined"
     ]
    }
   ],
   "execution_count": 12
  },
  {
   "cell_type": "code",
   "source": [
    "contingency_table_14 = pd.crosstab(index=AMB_PA['Barthel resultats'].between(21,60), columns=TOTAL['Barthel resultats'].between(21,60))\n",
    "\n",
    "chi2_14, p_value_14, dof_14, expected_14 = chi2_contingency(contingency_table_14)\n",
    "\n",
    "print(\"Estadístic xi-quadrat entre AMB_PA i TOTAL:\", chi2_14)\n",
    "print(\"P-valor entre AMB_PA i TOTAL:\", p_value_14)\n",
    "\n",
    "if p_value_14 < 0.05:\n",
    "    print(\"Hi ha diferències significatives entre les distribucions de Barthel en AMB_PA i TOTAL.\")\n",
    "else:\n",
    "    print(\"No hi ha diferències significatives entre les distribucions de Barthel en AMB_PA i TOTAL.\")"
   ],
   "metadata": {
    "collapsed": false,
    "ExecuteTime": {
     "end_time": "2024-05-29T13:01:55.675640Z",
     "start_time": "2024-05-29T13:01:55.650564Z"
    }
   },
   "id": "37a935817e4cb238",
   "outputs": [
    {
     "ename": "NameError",
     "evalue": "name 'pd' is not defined",
     "output_type": "error",
     "traceback": [
      "\u001B[1;31m---------------------------------------------------------------------------\u001B[0m",
      "\u001B[1;31mNameError\u001B[0m                                 Traceback (most recent call last)",
      "Cell \u001B[1;32mIn[13], line 1\u001B[0m\n\u001B[1;32m----> 1\u001B[0m contingency_table_14 \u001B[38;5;241m=\u001B[39m \u001B[43mpd\u001B[49m\u001B[38;5;241m.\u001B[39mcrosstab(index\u001B[38;5;241m=\u001B[39mAMB_PA[\u001B[38;5;124m'\u001B[39m\u001B[38;5;124mBarthel resultats\u001B[39m\u001B[38;5;124m'\u001B[39m]\u001B[38;5;241m.\u001B[39mbetween(\u001B[38;5;241m21\u001B[39m,\u001B[38;5;241m60\u001B[39m), columns\u001B[38;5;241m=\u001B[39mTOTAL[\u001B[38;5;124m'\u001B[39m\u001B[38;5;124mBarthel resultats\u001B[39m\u001B[38;5;124m'\u001B[39m]\u001B[38;5;241m.\u001B[39mbetween(\u001B[38;5;241m21\u001B[39m,\u001B[38;5;241m60\u001B[39m))\n\u001B[0;32m      3\u001B[0m chi2_14, p_value_14, dof_14, expected_14 \u001B[38;5;241m=\u001B[39m chi2_contingency(contingency_table_14)\n\u001B[0;32m      5\u001B[0m \u001B[38;5;28mprint\u001B[39m(\u001B[38;5;124m\"\u001B[39m\u001B[38;5;124mEstadístic xi-quadrat entre AMB_PA i TOTAL:\u001B[39m\u001B[38;5;124m\"\u001B[39m, chi2_14)\n",
      "\u001B[1;31mNameError\u001B[0m: name 'pd' is not defined"
     ]
    }
   ],
   "execution_count": 13
  },
  {
   "cell_type": "code",
   "source": [
    "contingency_table_24 = pd.crosstab(index=AMB_PA_MECVV['Barthel resultats'].between(21,60), columns=TOTAL['Barthel resultats'].between(21,60))\n",
    "\n",
    "chi2_24, p_value_24, dof_24, expected_24 = chi2_contingency(contingency_table_24)\n",
    "\n",
    "print(\"Estadístic xi-quadrat entre AMB_PA_MECVV i TOTAL:\", chi2_24)\n",
    "print(\"P-valor entre AMB_PA_MECVV i TOTAL:\", p_value_24)\n",
    "\n",
    "if p_value_24 < 0.05:\n",
    "    print(\"Hi ha diferències significatives entre les distribucions de Barthel en AMB_PA_MECVV i TOTAL.\")\n",
    "else:\n",
    "    print(\"No hi ha diferències significatives entre les distribucions de Barthel en AMB_PA_MECVV i TOTAL.\")"
   ],
   "metadata": {
    "collapsed": false,
    "ExecuteTime": {
     "end_time": "2024-05-29T13:01:56.216158Z",
     "start_time": "2024-05-29T13:01:56.188564Z"
    }
   },
   "id": "86200c02cbc68359",
   "outputs": [
    {
     "ename": "NameError",
     "evalue": "name 'pd' is not defined",
     "output_type": "error",
     "traceback": [
      "\u001B[1;31m---------------------------------------------------------------------------\u001B[0m",
      "\u001B[1;31mNameError\u001B[0m                                 Traceback (most recent call last)",
      "Cell \u001B[1;32mIn[14], line 1\u001B[0m\n\u001B[1;32m----> 1\u001B[0m contingency_table_24 \u001B[38;5;241m=\u001B[39m \u001B[43mpd\u001B[49m\u001B[38;5;241m.\u001B[39mcrosstab(index\u001B[38;5;241m=\u001B[39mAMB_PA_MECVV[\u001B[38;5;124m'\u001B[39m\u001B[38;5;124mBarthel resultats\u001B[39m\u001B[38;5;124m'\u001B[39m]\u001B[38;5;241m.\u001B[39mbetween(\u001B[38;5;241m21\u001B[39m,\u001B[38;5;241m60\u001B[39m), columns\u001B[38;5;241m=\u001B[39mTOTAL[\u001B[38;5;124m'\u001B[39m\u001B[38;5;124mBarthel resultats\u001B[39m\u001B[38;5;124m'\u001B[39m]\u001B[38;5;241m.\u001B[39mbetween(\u001B[38;5;241m21\u001B[39m,\u001B[38;5;241m60\u001B[39m))\n\u001B[0;32m      3\u001B[0m chi2_24, p_value_24, dof_24, expected_24 \u001B[38;5;241m=\u001B[39m chi2_contingency(contingency_table_24)\n\u001B[0;32m      5\u001B[0m \u001B[38;5;28mprint\u001B[39m(\u001B[38;5;124m\"\u001B[39m\u001B[38;5;124mEstadístic xi-quadrat entre AMB_PA_MECVV i TOTAL:\u001B[39m\u001B[38;5;124m\"\u001B[39m, chi2_24)\n",
      "\u001B[1;31mNameError\u001B[0m: name 'pd' is not defined"
     ]
    }
   ],
   "execution_count": 14
  },
  {
   "cell_type": "code",
   "source": [
    "contingency_table_34 = pd.crosstab(index=SENSE_PA['Barthel resultats'].between(21,60), columns=TOTAL['Barthel resultats'].between(21,60))\n",
    "\n",
    "chi2_34, p_value_34, dof_34, expected_34 = chi2_contingency(contingency_table_34)\n",
    "\n",
    "print(\"Estadístic xi-quadrat entre SENSE_PA i TOTAL:\", chi2_34)\n",
    "print(\"P-valor entre SENSE_PA i TOTAL:\", p_value_34)\n",
    "\n",
    "if p_value_34 < 0.05:\n",
    "    print(\"Hi ha diferències significatives entre les distribucions de Barthel en SENSE_PA i TOTAL.\")\n",
    "else:\n",
    "    print(\"No hi ha diferències significatives entre les distribucions de Barthel en SENSE_PA i TOTAL.\")"
   ],
   "metadata": {
    "collapsed": false,
    "ExecuteTime": {
     "end_time": "2024-05-29T13:01:57.003848Z",
     "start_time": "2024-05-29T13:01:56.980675Z"
    }
   },
   "id": "7d8a45532bb68c1e",
   "outputs": [
    {
     "ename": "NameError",
     "evalue": "name 'pd' is not defined",
     "output_type": "error",
     "traceback": [
      "\u001B[1;31m---------------------------------------------------------------------------\u001B[0m",
      "\u001B[1;31mNameError\u001B[0m                                 Traceback (most recent call last)",
      "Cell \u001B[1;32mIn[15], line 1\u001B[0m\n\u001B[1;32m----> 1\u001B[0m contingency_table_34 \u001B[38;5;241m=\u001B[39m \u001B[43mpd\u001B[49m\u001B[38;5;241m.\u001B[39mcrosstab(index\u001B[38;5;241m=\u001B[39mSENSE_PA[\u001B[38;5;124m'\u001B[39m\u001B[38;5;124mBarthel resultats\u001B[39m\u001B[38;5;124m'\u001B[39m]\u001B[38;5;241m.\u001B[39mbetween(\u001B[38;5;241m21\u001B[39m,\u001B[38;5;241m60\u001B[39m), columns\u001B[38;5;241m=\u001B[39mTOTAL[\u001B[38;5;124m'\u001B[39m\u001B[38;5;124mBarthel resultats\u001B[39m\u001B[38;5;124m'\u001B[39m]\u001B[38;5;241m.\u001B[39mbetween(\u001B[38;5;241m21\u001B[39m,\u001B[38;5;241m60\u001B[39m))\n\u001B[0;32m      3\u001B[0m chi2_34, p_value_34, dof_34, expected_34 \u001B[38;5;241m=\u001B[39m chi2_contingency(contingency_table_34)\n\u001B[0;32m      5\u001B[0m \u001B[38;5;28mprint\u001B[39m(\u001B[38;5;124m\"\u001B[39m\u001B[38;5;124mEstadístic xi-quadrat entre SENSE_PA i TOTAL:\u001B[39m\u001B[38;5;124m\"\u001B[39m, chi2_34)\n",
      "\u001B[1;31mNameError\u001B[0m: name 'pd' is not defined"
     ]
    }
   ],
   "execution_count": 15
  },
  {
   "cell_type": "markdown",
   "source": [
    "##### Total"
   ],
   "metadata": {
    "collapsed": false
   },
   "id": "e4e3dee56bc0f61f"
  },
  {
   "cell_type": "code",
   "source": [
    "contingency_table_12 = pd.crosstab(index=AMB_PA['Barthel resultats'] <= 20.0, columns=AMB_PA_MECVV['Barthel resultats'] <= 20.0)\n",
    "\n",
    "chi2_12, p_value_12, dof_12, expected_12 = chi2_contingency(contingency_table_12)\n",
    "\n",
    "print(\"Estadístic xi-quadrat entre AMB_PA i AMB_PA_MECVV:\", chi2_12)\n",
    "print(\"P-valor entre AMB_PA i AMB_PA_MECVV:\", p_value_12)\n",
    "\n",
    "if p_value_12 < 0.05:\n",
    "    print(\"Hi ha diferències significatives entre les distribucions de Barthel en AMB_PA i AMB_PA_MECVV.\")\n",
    "else:\n",
    "    print(\"No hi ha diferències significatives entre les distribucions de Barthel en AMB_PA i AMB_PA_MECVV.\")"
   ],
   "metadata": {
    "collapsed": false,
    "ExecuteTime": {
     "end_time": "2024-05-29T13:01:57.858466Z",
     "start_time": "2024-05-29T13:01:57.832684Z"
    }
   },
   "id": "7397b8be6b4b98e8",
   "outputs": [
    {
     "ename": "NameError",
     "evalue": "name 'pd' is not defined",
     "output_type": "error",
     "traceback": [
      "\u001B[1;31m---------------------------------------------------------------------------\u001B[0m",
      "\u001B[1;31mNameError\u001B[0m                                 Traceback (most recent call last)",
      "Cell \u001B[1;32mIn[16], line 1\u001B[0m\n\u001B[1;32m----> 1\u001B[0m contingency_table_12 \u001B[38;5;241m=\u001B[39m \u001B[43mpd\u001B[49m\u001B[38;5;241m.\u001B[39mcrosstab(index\u001B[38;5;241m=\u001B[39mAMB_PA[\u001B[38;5;124m'\u001B[39m\u001B[38;5;124mBarthel resultats\u001B[39m\u001B[38;5;124m'\u001B[39m] \u001B[38;5;241m<\u001B[39m\u001B[38;5;241m=\u001B[39m \u001B[38;5;241m20.0\u001B[39m, columns\u001B[38;5;241m=\u001B[39mAMB_PA_MECVV[\u001B[38;5;124m'\u001B[39m\u001B[38;5;124mBarthel resultats\u001B[39m\u001B[38;5;124m'\u001B[39m] \u001B[38;5;241m<\u001B[39m\u001B[38;5;241m=\u001B[39m \u001B[38;5;241m20.0\u001B[39m)\n\u001B[0;32m      3\u001B[0m chi2_12, p_value_12, dof_12, expected_12 \u001B[38;5;241m=\u001B[39m chi2_contingency(contingency_table_12)\n\u001B[0;32m      5\u001B[0m \u001B[38;5;28mprint\u001B[39m(\u001B[38;5;124m\"\u001B[39m\u001B[38;5;124mEstadístic xi-quadrat entre AMB_PA i AMB_PA_MECVV:\u001B[39m\u001B[38;5;124m\"\u001B[39m, chi2_12)\n",
      "\u001B[1;31mNameError\u001B[0m: name 'pd' is not defined"
     ]
    }
   ],
   "execution_count": 16
  },
  {
   "cell_type": "code",
   "source": [
    "contingency_table_13 = pd.crosstab(index=AMB_PA['Barthel resultats'] <= 20.0, columns=SENSE_PA['Barthel resultats'] <= 20.0)\n",
    "\n",
    "chi2_13, p_value_13, dof_13, expected_13 = chi2_contingency(contingency_table_13)\n",
    "\n",
    "print(\"Estadístic xi-quadrat entre AMB_PA i SENSE_PA:\", chi2_13)\n",
    "print(\"P-valor entre AMB_PA i SENSE_PA:\", p_value_13)\n",
    "\n",
    "if p_value_13 < 0.05:\n",
    "    print(\"Hi ha diferències significatives entre les distribucions de Barthel en AMB_PA i SENSE_PA.\")\n",
    "else:\n",
    "    print(\"No hi ha diferències significatives entre les distribucions de Barthel en AMB_PA i SENSE_PA.\")"
   ],
   "metadata": {
    "collapsed": false,
    "ExecuteTime": {
     "end_time": "2024-05-29T13:01:58.533879Z",
     "start_time": "2024-05-29T13:01:58.512254Z"
    }
   },
   "id": "9a1e58ef00def8ca",
   "outputs": [
    {
     "ename": "NameError",
     "evalue": "name 'pd' is not defined",
     "output_type": "error",
     "traceback": [
      "\u001B[1;31m---------------------------------------------------------------------------\u001B[0m",
      "\u001B[1;31mNameError\u001B[0m                                 Traceback (most recent call last)",
      "Cell \u001B[1;32mIn[17], line 1\u001B[0m\n\u001B[1;32m----> 1\u001B[0m contingency_table_13 \u001B[38;5;241m=\u001B[39m \u001B[43mpd\u001B[49m\u001B[38;5;241m.\u001B[39mcrosstab(index\u001B[38;5;241m=\u001B[39mAMB_PA[\u001B[38;5;124m'\u001B[39m\u001B[38;5;124mBarthel resultats\u001B[39m\u001B[38;5;124m'\u001B[39m] \u001B[38;5;241m<\u001B[39m\u001B[38;5;241m=\u001B[39m \u001B[38;5;241m20.0\u001B[39m, columns\u001B[38;5;241m=\u001B[39mSENSE_PA[\u001B[38;5;124m'\u001B[39m\u001B[38;5;124mBarthel resultats\u001B[39m\u001B[38;5;124m'\u001B[39m] \u001B[38;5;241m<\u001B[39m\u001B[38;5;241m=\u001B[39m \u001B[38;5;241m20.0\u001B[39m)\n\u001B[0;32m      3\u001B[0m chi2_13, p_value_13, dof_13, expected_13 \u001B[38;5;241m=\u001B[39m chi2_contingency(contingency_table_13)\n\u001B[0;32m      5\u001B[0m \u001B[38;5;28mprint\u001B[39m(\u001B[38;5;124m\"\u001B[39m\u001B[38;5;124mEstadístic xi-quadrat entre AMB_PA i SENSE_PA:\u001B[39m\u001B[38;5;124m\"\u001B[39m, chi2_13)\n",
      "\u001B[1;31mNameError\u001B[0m: name 'pd' is not defined"
     ]
    }
   ],
   "execution_count": 17
  },
  {
   "cell_type": "code",
   "source": [
    "contingency_table_23 = pd.crosstab(index=AMB_PA_MECVV['Barthel resultats'] <= 20.0, columns=SENSE_PA['Barthel resultats'] <= 20.0)\n",
    "\n",
    "chi2_23, p_value_23, dof_23, expected_23 = chi2_contingency(contingency_table_23)\n",
    "\n",
    "print(\"Estadístic xi-quadrat entre AMB_PA_MECVV i SENSE_PA:\", chi2_23)\n",
    "print(\"P-valor entre AMB_PA_MECVV i SENSE_PA:\", p_value_23)\n",
    "\n",
    "if p_value_23 < 0.05:\n",
    "    print(\"Hi ha diferències significatives entre les distribucions de Barthel en AMB_PA_MECVV i SENSE_PA.\")\n",
    "else:\n",
    "    print(\"No hi ha diferències significatives entre les distribucions de Barthel en AMB_PA_MECVV i SENSE_PA.\")"
   ],
   "metadata": {
    "collapsed": false,
    "ExecuteTime": {
     "end_time": "2024-05-29T13:01:59.410944Z",
     "start_time": "2024-05-29T13:01:59.378019Z"
    }
   },
   "id": "1fbdbda09f0ea617",
   "outputs": [
    {
     "ename": "NameError",
     "evalue": "name 'pd' is not defined",
     "output_type": "error",
     "traceback": [
      "\u001B[1;31m---------------------------------------------------------------------------\u001B[0m",
      "\u001B[1;31mNameError\u001B[0m                                 Traceback (most recent call last)",
      "Cell \u001B[1;32mIn[18], line 1\u001B[0m\n\u001B[1;32m----> 1\u001B[0m contingency_table_23 \u001B[38;5;241m=\u001B[39m \u001B[43mpd\u001B[49m\u001B[38;5;241m.\u001B[39mcrosstab(index\u001B[38;5;241m=\u001B[39mAMB_PA_MECVV[\u001B[38;5;124m'\u001B[39m\u001B[38;5;124mBarthel resultats\u001B[39m\u001B[38;5;124m'\u001B[39m] \u001B[38;5;241m<\u001B[39m\u001B[38;5;241m=\u001B[39m \u001B[38;5;241m20.0\u001B[39m, columns\u001B[38;5;241m=\u001B[39mSENSE_PA[\u001B[38;5;124m'\u001B[39m\u001B[38;5;124mBarthel resultats\u001B[39m\u001B[38;5;124m'\u001B[39m] \u001B[38;5;241m<\u001B[39m\u001B[38;5;241m=\u001B[39m \u001B[38;5;241m20.0\u001B[39m)\n\u001B[0;32m      3\u001B[0m chi2_23, p_value_23, dof_23, expected_23 \u001B[38;5;241m=\u001B[39m chi2_contingency(contingency_table_23)\n\u001B[0;32m      5\u001B[0m \u001B[38;5;28mprint\u001B[39m(\u001B[38;5;124m\"\u001B[39m\u001B[38;5;124mEstadístic xi-quadrat entre AMB_PA_MECVV i SENSE_PA:\u001B[39m\u001B[38;5;124m\"\u001B[39m, chi2_23)\n",
      "\u001B[1;31mNameError\u001B[0m: name 'pd' is not defined"
     ]
    }
   ],
   "execution_count": 18
  },
  {
   "cell_type": "code",
   "source": [
    "contingency_table_14 = pd.crosstab(index=AMB_PA['Barthel resultats'] <= 20.0, columns=TOTAL['Barthel resultats'] <= 20.0)\n",
    "\n",
    "chi2_14, p_value_14, dof_14, expected_14 = chi2_contingency(contingency_table_14)\n",
    "\n",
    "print(\"Estadístic xi-quadrat entre AMB_PA i TOTAL:\", chi2_14)\n",
    "print(\"P-valor entre AMB_PA i TOTAL:\", p_value_14)\n",
    "\n",
    "if p_value_14 < 0.05:\n",
    "    print(\"Hi ha diferències significatives entre les distribucions de Barthel en AMB_PA i TOTAL.\")\n",
    "else:\n",
    "    print(\"No hi ha diferències significatives entre les distribucions de Barthel en AMB_PA i TOTAL.\")"
   ],
   "metadata": {
    "collapsed": false,
    "ExecuteTime": {
     "end_time": "2024-05-29T13:02:00.406888Z",
     "start_time": "2024-05-29T13:02:00.377198Z"
    }
   },
   "id": "e2ffb9dcb8839739",
   "outputs": [
    {
     "ename": "NameError",
     "evalue": "name 'pd' is not defined",
     "output_type": "error",
     "traceback": [
      "\u001B[1;31m---------------------------------------------------------------------------\u001B[0m",
      "\u001B[1;31mNameError\u001B[0m                                 Traceback (most recent call last)",
      "Cell \u001B[1;32mIn[19], line 1\u001B[0m\n\u001B[1;32m----> 1\u001B[0m contingency_table_14 \u001B[38;5;241m=\u001B[39m \u001B[43mpd\u001B[49m\u001B[38;5;241m.\u001B[39mcrosstab(index\u001B[38;5;241m=\u001B[39mAMB_PA[\u001B[38;5;124m'\u001B[39m\u001B[38;5;124mBarthel resultats\u001B[39m\u001B[38;5;124m'\u001B[39m] \u001B[38;5;241m<\u001B[39m\u001B[38;5;241m=\u001B[39m \u001B[38;5;241m20.0\u001B[39m, columns\u001B[38;5;241m=\u001B[39mTOTAL[\u001B[38;5;124m'\u001B[39m\u001B[38;5;124mBarthel resultats\u001B[39m\u001B[38;5;124m'\u001B[39m] \u001B[38;5;241m<\u001B[39m\u001B[38;5;241m=\u001B[39m \u001B[38;5;241m20.0\u001B[39m)\n\u001B[0;32m      3\u001B[0m chi2_14, p_value_14, dof_14, expected_14 \u001B[38;5;241m=\u001B[39m chi2_contingency(contingency_table_14)\n\u001B[0;32m      5\u001B[0m \u001B[38;5;28mprint\u001B[39m(\u001B[38;5;124m\"\u001B[39m\u001B[38;5;124mEstadístic xi-quadrat entre AMB_PA i TOTAL:\u001B[39m\u001B[38;5;124m\"\u001B[39m, chi2_14)\n",
      "\u001B[1;31mNameError\u001B[0m: name 'pd' is not defined"
     ]
    }
   ],
   "execution_count": 19
  },
  {
   "cell_type": "code",
   "source": [
    "contingency_table_24 = pd.crosstab(index=AMB_PA_MECVV['Barthel resultats'] <= 20.0, columns=TOTAL['Barthel resultats'] <= 20.0)\n",
    "\n",
    "chi2_24, p_value_24, dof_24, expected_24 = chi2_contingency(contingency_table_24)\n",
    "\n",
    "print(\"Estadístic xi-quadrat entre AMB_PA_MECVV i TOTAL:\", chi2_24)\n",
    "print(\"P-valor entre AMB_PA_MECVV i TOTAL:\", p_value_24)\n",
    "\n",
    "if p_value_24 < 0.05:\n",
    "    print(\"Hi ha diferències significatives entre les distribucions de Barthel en AMB_PA_MECVV i TOTAL.\")\n",
    "else:\n",
    "    print(\"No hi ha diferències significatives entre les distribucions de Barthel en AMB_PA_MECVV i TOTAL.\")"
   ],
   "metadata": {
    "collapsed": false,
    "ExecuteTime": {
     "end_time": "2024-05-29T13:02:01.072912Z",
     "start_time": "2024-05-29T13:02:01.051026Z"
    }
   },
   "id": "f3eb0ac9f0f4657c",
   "outputs": [
    {
     "ename": "NameError",
     "evalue": "name 'pd' is not defined",
     "output_type": "error",
     "traceback": [
      "\u001B[1;31m---------------------------------------------------------------------------\u001B[0m",
      "\u001B[1;31mNameError\u001B[0m                                 Traceback (most recent call last)",
      "Cell \u001B[1;32mIn[20], line 1\u001B[0m\n\u001B[1;32m----> 1\u001B[0m contingency_table_24 \u001B[38;5;241m=\u001B[39m \u001B[43mpd\u001B[49m\u001B[38;5;241m.\u001B[39mcrosstab(index\u001B[38;5;241m=\u001B[39mAMB_PA_MECVV[\u001B[38;5;124m'\u001B[39m\u001B[38;5;124mBarthel resultats\u001B[39m\u001B[38;5;124m'\u001B[39m] \u001B[38;5;241m<\u001B[39m\u001B[38;5;241m=\u001B[39m \u001B[38;5;241m20.0\u001B[39m, columns\u001B[38;5;241m=\u001B[39mTOTAL[\u001B[38;5;124m'\u001B[39m\u001B[38;5;124mBarthel resultats\u001B[39m\u001B[38;5;124m'\u001B[39m] \u001B[38;5;241m<\u001B[39m\u001B[38;5;241m=\u001B[39m \u001B[38;5;241m20.0\u001B[39m)\n\u001B[0;32m      3\u001B[0m chi2_24, p_value_24, dof_24, expected_24 \u001B[38;5;241m=\u001B[39m chi2_contingency(contingency_table_24)\n\u001B[0;32m      5\u001B[0m \u001B[38;5;28mprint\u001B[39m(\u001B[38;5;124m\"\u001B[39m\u001B[38;5;124mEstadístic xi-quadrat entre AMB_PA_MECVV i TOTAL:\u001B[39m\u001B[38;5;124m\"\u001B[39m, chi2_24)\n",
      "\u001B[1;31mNameError\u001B[0m: name 'pd' is not defined"
     ]
    }
   ],
   "execution_count": 20
  },
  {
   "cell_type": "code",
   "source": [
    "contingency_table_34 = pd.crosstab(index=SENSE_PA['Barthel resultats'] <= 20.0, columns=TOTAL['Barthel resultats'] <= 20.0)\n",
    "\n",
    "chi2_34, p_value_34, dof_34, expected_34 = chi2_contingency(contingency_table_34)\n",
    "\n",
    "print(\"Estadístic xi-quadrat entre SENSE_PA i TOTAL:\", chi2_34)\n",
    "print(\"P-valor entre SENSE_PA i TOTAL:\", p_value_34)\n",
    "\n",
    "if p_value_34 < 0.05:\n",
    "    print(\"Hi ha diferències significatives entre les distribucions de Barthel en SENSE_PA i TOTAL.\")\n",
    "else:\n",
    "    print(\"No hi ha diferències significatives entre les distribucions de Barthel en SENSE_PA i TOTAL.\")"
   ],
   "metadata": {
    "collapsed": false,
    "ExecuteTime": {
     "end_time": "2024-05-29T13:02:01.842874Z",
     "start_time": "2024-05-29T13:02:01.823137Z"
    }
   },
   "id": "3e2c5452b760595c",
   "outputs": [
    {
     "ename": "NameError",
     "evalue": "name 'pd' is not defined",
     "output_type": "error",
     "traceback": [
      "\u001B[1;31m---------------------------------------------------------------------------\u001B[0m",
      "\u001B[1;31mNameError\u001B[0m                                 Traceback (most recent call last)",
      "Cell \u001B[1;32mIn[21], line 1\u001B[0m\n\u001B[1;32m----> 1\u001B[0m contingency_table_34 \u001B[38;5;241m=\u001B[39m \u001B[43mpd\u001B[49m\u001B[38;5;241m.\u001B[39mcrosstab(index\u001B[38;5;241m=\u001B[39mSENSE_PA[\u001B[38;5;124m'\u001B[39m\u001B[38;5;124mBarthel resultats\u001B[39m\u001B[38;5;124m'\u001B[39m] \u001B[38;5;241m<\u001B[39m\u001B[38;5;241m=\u001B[39m \u001B[38;5;241m20.0\u001B[39m, columns\u001B[38;5;241m=\u001B[39mTOTAL[\u001B[38;5;124m'\u001B[39m\u001B[38;5;124mBarthel resultats\u001B[39m\u001B[38;5;124m'\u001B[39m] \u001B[38;5;241m<\u001B[39m\u001B[38;5;241m=\u001B[39m \u001B[38;5;241m20.0\u001B[39m)\n\u001B[0;32m      3\u001B[0m chi2_34, p_value_34, dof_34, expected_34 \u001B[38;5;241m=\u001B[39m chi2_contingency(contingency_table_34)\n\u001B[0;32m      5\u001B[0m \u001B[38;5;28mprint\u001B[39m(\u001B[38;5;124m\"\u001B[39m\u001B[38;5;124mEstadístic xi-quadrat entre SENSE_PA i TOTAL:\u001B[39m\u001B[38;5;124m\"\u001B[39m, chi2_34)\n",
      "\u001B[1;31mNameError\u001B[0m: name 'pd' is not defined"
     ]
    }
   ],
   "execution_count": 21
  },
  {
   "cell_type": "markdown",
   "source": [
    "## Index del MNA"
   ],
   "metadata": {
    "collapsed": false
   },
   "id": "3a2982ece2060602"
  },
  {
   "cell_type": "markdown",
   "source": [
    "Primer convertiré la columna a tipus numèric ja que els valors que conté són de tipus objecte i amb aquest tipus no puc calcular la mitjana ni la desviació estàndard."
   ],
   "metadata": {
    "collapsed": false
   },
   "id": "27b3cf58ae525625"
  },
  {
   "cell_type": "code",
   "source": [
    "AMB_PA.loc[:, 'MNA resultats'] = pd.to_numeric(AMB_PA['MNA resultats'], errors='coerce')\n",
    "AMB_PA_MECVV.loc[:, 'MNA resultats'] = pd.to_numeric(AMB_PA_MECVV['MNA resultats'], errors='coerce')\n",
    "SENSE_PA.loc[:, 'MNA resultats'] = pd.to_numeric(SENSE_PA['MNA resultats'], errors='coerce')\n",
    "TOTAL.loc[:, 'MNA resultats'] = pd.to_numeric(TOTAL['MNA resultats'], errors='coerce')"
   ],
   "metadata": {
    "collapsed": false,
    "ExecuteTime": {
     "end_time": "2024-05-29T13:02:02.345406Z",
     "start_time": "2024-05-29T13:02:02.326982Z"
    }
   },
   "id": "3cb291ff29ca93cf",
   "outputs": [
    {
     "ename": "NameError",
     "evalue": "name 'pd' is not defined",
     "output_type": "error",
     "traceback": [
      "\u001B[1;31m---------------------------------------------------------------------------\u001B[0m",
      "\u001B[1;31mNameError\u001B[0m                                 Traceback (most recent call last)",
      "Cell \u001B[1;32mIn[22], line 1\u001B[0m\n\u001B[1;32m----> 1\u001B[0m AMB_PA\u001B[38;5;241m.\u001B[39mloc[:, \u001B[38;5;124m'\u001B[39m\u001B[38;5;124mMNA resultats\u001B[39m\u001B[38;5;124m'\u001B[39m] \u001B[38;5;241m=\u001B[39m \u001B[43mpd\u001B[49m\u001B[38;5;241m.\u001B[39mto_numeric(AMB_PA[\u001B[38;5;124m'\u001B[39m\u001B[38;5;124mMNA resultats\u001B[39m\u001B[38;5;124m'\u001B[39m], errors\u001B[38;5;241m=\u001B[39m\u001B[38;5;124m'\u001B[39m\u001B[38;5;124mcoerce\u001B[39m\u001B[38;5;124m'\u001B[39m)\n\u001B[0;32m      2\u001B[0m AMB_PA_MECVV\u001B[38;5;241m.\u001B[39mloc[:, \u001B[38;5;124m'\u001B[39m\u001B[38;5;124mMNA resultats\u001B[39m\u001B[38;5;124m'\u001B[39m] \u001B[38;5;241m=\u001B[39m pd\u001B[38;5;241m.\u001B[39mto_numeric(AMB_PA_MECVV[\u001B[38;5;124m'\u001B[39m\u001B[38;5;124mMNA resultats\u001B[39m\u001B[38;5;124m'\u001B[39m], errors\u001B[38;5;241m=\u001B[39m\u001B[38;5;124m'\u001B[39m\u001B[38;5;124mcoerce\u001B[39m\u001B[38;5;124m'\u001B[39m)\n\u001B[0;32m      3\u001B[0m SENSE_PA\u001B[38;5;241m.\u001B[39mloc[:, \u001B[38;5;124m'\u001B[39m\u001B[38;5;124mMNA resultats\u001B[39m\u001B[38;5;124m'\u001B[39m] \u001B[38;5;241m=\u001B[39m pd\u001B[38;5;241m.\u001B[39mto_numeric(SENSE_PA[\u001B[38;5;124m'\u001B[39m\u001B[38;5;124mMNA resultats\u001B[39m\u001B[38;5;124m'\u001B[39m], errors\u001B[38;5;241m=\u001B[39m\u001B[38;5;124m'\u001B[39m\u001B[38;5;124mcoerce\u001B[39m\u001B[38;5;124m'\u001B[39m)\n",
      "\u001B[1;31mNameError\u001B[0m: name 'pd' is not defined"
     ]
    }
   ],
   "execution_count": 22
  },
  {
   "cell_type": "markdown",
   "source": [
    "### Mitjana"
   ],
   "metadata": {
    "collapsed": false
   },
   "id": "7a0f5d8b530b950a"
  },
  {
   "cell_type": "code",
   "source": [
    "Mitjana_mna = AMB_PA['MNA resultats'].mean()\n",
    "desviacio_estandard_mna = AMB_PA['MNA resultats'].std()\n",
    "\n",
    "resultat = f\"{Mitjana_mna:.2f} ± {desviacio_estandard_mna:.2f}\"\n",
    "print(\"Mitjana ± Desviació Estándard del mna:\", resultat)"
   ],
   "metadata": {
    "collapsed": false,
    "ExecuteTime": {
     "end_time": "2024-05-29T13:02:03.196483Z",
     "start_time": "2024-05-29T13:02:03.178382Z"
    }
   },
   "id": "c5e706d0d11e484c",
   "outputs": [
    {
     "ename": "NameError",
     "evalue": "name 'AMB_PA' is not defined",
     "output_type": "error",
     "traceback": [
      "\u001B[1;31m---------------------------------------------------------------------------\u001B[0m",
      "\u001B[1;31mNameError\u001B[0m                                 Traceback (most recent call last)",
      "Cell \u001B[1;32mIn[23], line 1\u001B[0m\n\u001B[1;32m----> 1\u001B[0m Mitjana_mna \u001B[38;5;241m=\u001B[39m \u001B[43mAMB_PA\u001B[49m[\u001B[38;5;124m'\u001B[39m\u001B[38;5;124mMNA resultats\u001B[39m\u001B[38;5;124m'\u001B[39m]\u001B[38;5;241m.\u001B[39mmean()\n\u001B[0;32m      2\u001B[0m desviacio_estandard_mna \u001B[38;5;241m=\u001B[39m AMB_PA[\u001B[38;5;124m'\u001B[39m\u001B[38;5;124mMNA resultats\u001B[39m\u001B[38;5;124m'\u001B[39m]\u001B[38;5;241m.\u001B[39mstd()\n\u001B[0;32m      4\u001B[0m resultat \u001B[38;5;241m=\u001B[39m \u001B[38;5;124mf\u001B[39m\u001B[38;5;124m\"\u001B[39m\u001B[38;5;132;01m{\u001B[39;00mMitjana_mna\u001B[38;5;132;01m:\u001B[39;00m\u001B[38;5;124m.2f\u001B[39m\u001B[38;5;132;01m}\u001B[39;00m\u001B[38;5;124m ± \u001B[39m\u001B[38;5;132;01m{\u001B[39;00mdesviacio_estandard_mna\u001B[38;5;132;01m:\u001B[39;00m\u001B[38;5;124m.2f\u001B[39m\u001B[38;5;132;01m}\u001B[39;00m\u001B[38;5;124m\"\u001B[39m\n",
      "\u001B[1;31mNameError\u001B[0m: name 'AMB_PA' is not defined"
     ]
    }
   ],
   "execution_count": 23
  },
  {
   "cell_type": "code",
   "source": [
    "Mitjana_mna = AMB_PA_MECVV['MNA resultats'].mean()\n",
    "desviacio_estandard_mna = AMB_PA_MECVV['MNA resultats'].std()\n",
    "\n",
    "resultat = f\"{Mitjana_mna:.2f} ± {desviacio_estandard_mna:.2f}\"\n",
    "print(\"Mitjana ± Desviació Estándard del mna:\", resultat)"
   ],
   "metadata": {
    "collapsed": false,
    "ExecuteTime": {
     "end_time": "2024-05-29T13:02:03.732250Z",
     "start_time": "2024-05-29T13:02:03.705178Z"
    }
   },
   "id": "1a3a89b9b3c637e5",
   "outputs": [
    {
     "ename": "NameError",
     "evalue": "name 'AMB_PA_MECVV' is not defined",
     "output_type": "error",
     "traceback": [
      "\u001B[1;31m---------------------------------------------------------------------------\u001B[0m",
      "\u001B[1;31mNameError\u001B[0m                                 Traceback (most recent call last)",
      "Cell \u001B[1;32mIn[24], line 1\u001B[0m\n\u001B[1;32m----> 1\u001B[0m Mitjana_mna \u001B[38;5;241m=\u001B[39m \u001B[43mAMB_PA_MECVV\u001B[49m[\u001B[38;5;124m'\u001B[39m\u001B[38;5;124mMNA resultats\u001B[39m\u001B[38;5;124m'\u001B[39m]\u001B[38;5;241m.\u001B[39mmean()\n\u001B[0;32m      2\u001B[0m desviacio_estandard_mna \u001B[38;5;241m=\u001B[39m AMB_PA_MECVV[\u001B[38;5;124m'\u001B[39m\u001B[38;5;124mMNA resultats\u001B[39m\u001B[38;5;124m'\u001B[39m]\u001B[38;5;241m.\u001B[39mstd()\n\u001B[0;32m      4\u001B[0m resultat \u001B[38;5;241m=\u001B[39m \u001B[38;5;124mf\u001B[39m\u001B[38;5;124m\"\u001B[39m\u001B[38;5;132;01m{\u001B[39;00mMitjana_mna\u001B[38;5;132;01m:\u001B[39;00m\u001B[38;5;124m.2f\u001B[39m\u001B[38;5;132;01m}\u001B[39;00m\u001B[38;5;124m ± \u001B[39m\u001B[38;5;132;01m{\u001B[39;00mdesviacio_estandard_mna\u001B[38;5;132;01m:\u001B[39;00m\u001B[38;5;124m.2f\u001B[39m\u001B[38;5;132;01m}\u001B[39;00m\u001B[38;5;124m\"\u001B[39m\n",
      "\u001B[1;31mNameError\u001B[0m: name 'AMB_PA_MECVV' is not defined"
     ]
    }
   ],
   "execution_count": 24
  },
  {
   "cell_type": "code",
   "source": [
    "Mitjana_mna = SENSE_PA['MNA resultats'].mean()\n",
    "desviacio_estandard_mna = SENSE_PA['MNA resultats'].std()\n",
    "\n",
    "resultat = f\"{Mitjana_mna:.2f} ± {desviacio_estandard_mna:.2f}\"\n",
    "print(\"Mitjana ± Desviació Estàndard del mna:\", resultat)"
   ],
   "metadata": {
    "collapsed": false,
    "ExecuteTime": {
     "end_time": "2024-05-29T13:02:04.547195Z",
     "start_time": "2024-05-29T13:02:04.512478Z"
    }
   },
   "id": "76647c274b7a5787",
   "outputs": [
    {
     "ename": "NameError",
     "evalue": "name 'SENSE_PA' is not defined",
     "output_type": "error",
     "traceback": [
      "\u001B[1;31m---------------------------------------------------------------------------\u001B[0m",
      "\u001B[1;31mNameError\u001B[0m                                 Traceback (most recent call last)",
      "Cell \u001B[1;32mIn[25], line 1\u001B[0m\n\u001B[1;32m----> 1\u001B[0m Mitjana_mna \u001B[38;5;241m=\u001B[39m \u001B[43mSENSE_PA\u001B[49m[\u001B[38;5;124m'\u001B[39m\u001B[38;5;124mMNA resultats\u001B[39m\u001B[38;5;124m'\u001B[39m]\u001B[38;5;241m.\u001B[39mmean()\n\u001B[0;32m      2\u001B[0m desviacio_estandard_mna \u001B[38;5;241m=\u001B[39m SENSE_PA[\u001B[38;5;124m'\u001B[39m\u001B[38;5;124mMNA resultats\u001B[39m\u001B[38;5;124m'\u001B[39m]\u001B[38;5;241m.\u001B[39mstd()\n\u001B[0;32m      4\u001B[0m resultat \u001B[38;5;241m=\u001B[39m \u001B[38;5;124mf\u001B[39m\u001B[38;5;124m\"\u001B[39m\u001B[38;5;132;01m{\u001B[39;00mMitjana_mna\u001B[38;5;132;01m:\u001B[39;00m\u001B[38;5;124m.2f\u001B[39m\u001B[38;5;132;01m}\u001B[39;00m\u001B[38;5;124m ± \u001B[39m\u001B[38;5;132;01m{\u001B[39;00mdesviacio_estandard_mna\u001B[38;5;132;01m:\u001B[39;00m\u001B[38;5;124m.2f\u001B[39m\u001B[38;5;132;01m}\u001B[39;00m\u001B[38;5;124m\"\u001B[39m\n",
      "\u001B[1;31mNameError\u001B[0m: name 'SENSE_PA' is not defined"
     ]
    }
   ],
   "execution_count": 25
  },
  {
   "cell_type": "code",
   "source": [
    "Mitjana_mna = TOTAL['MNA resultats'].mean()\n",
    "desviacio_estandard_mna = TOTAL['MNA resultats'].std()\n",
    "\n",
    "resultat = f\"{Mitjana_mna:.2f} ± {desviacio_estandard_mna:.2f}\"\n",
    "print(\"Mitjana ± Desviació Estàndard del mna:\", resultat)"
   ],
   "metadata": {
    "collapsed": false,
    "ExecuteTime": {
     "end_time": "2024-05-29T13:02:05.201526Z",
     "start_time": "2024-05-29T13:02:05.178909Z"
    }
   },
   "id": "76e95ef522d154ab",
   "outputs": [
    {
     "ename": "NameError",
     "evalue": "name 'TOTAL' is not defined",
     "output_type": "error",
     "traceback": [
      "\u001B[1;31m---------------------------------------------------------------------------\u001B[0m",
      "\u001B[1;31mNameError\u001B[0m                                 Traceback (most recent call last)",
      "Cell \u001B[1;32mIn[26], line 1\u001B[0m\n\u001B[1;32m----> 1\u001B[0m Mitjana_mna \u001B[38;5;241m=\u001B[39m \u001B[43mTOTAL\u001B[49m[\u001B[38;5;124m'\u001B[39m\u001B[38;5;124mMNA resultats\u001B[39m\u001B[38;5;124m'\u001B[39m]\u001B[38;5;241m.\u001B[39mmean()\n\u001B[0;32m      2\u001B[0m desviacio_estandard_mna \u001B[38;5;241m=\u001B[39m TOTAL[\u001B[38;5;124m'\u001B[39m\u001B[38;5;124mMNA resultats\u001B[39m\u001B[38;5;124m'\u001B[39m]\u001B[38;5;241m.\u001B[39mstd()\n\u001B[0;32m      4\u001B[0m resultat \u001B[38;5;241m=\u001B[39m \u001B[38;5;124mf\u001B[39m\u001B[38;5;124m\"\u001B[39m\u001B[38;5;132;01m{\u001B[39;00mMitjana_mna\u001B[38;5;132;01m:\u001B[39;00m\u001B[38;5;124m.2f\u001B[39m\u001B[38;5;132;01m}\u001B[39;00m\u001B[38;5;124m ± \u001B[39m\u001B[38;5;132;01m{\u001B[39;00mdesviacio_estandard_mna\u001B[38;5;132;01m:\u001B[39;00m\u001B[38;5;124m.2f\u001B[39m\u001B[38;5;132;01m}\u001B[39;00m\u001B[38;5;124m\"\u001B[39m\n",
      "\u001B[1;31mNameError\u001B[0m: name 'TOTAL' is not defined"
     ]
    }
   ],
   "execution_count": 26
  },
  {
   "cell_type": "markdown",
   "source": [
    "#### Comparació distributiva"
   ],
   "metadata": {
    "collapsed": false
   },
   "id": "2bd55b186af86bb2"
  },
  {
   "cell_type": "markdown",
   "source": [
    "##### Normalitat i p-valor"
   ],
   "metadata": {
    "collapsed": false
   },
   "id": "9fe1f045c2fe0e3d"
  },
  {
   "cell_type": "markdown",
   "source": [
    "NORMALITAT: Tots els grups segueixen una distribució normal"
   ],
   "metadata": {
    "collapsed": false
   },
   "id": "cac22a1e794576ce"
  },
  {
   "cell_type": "code",
   "source": [
    "t_stat_12, p_val_12 = ttest_ind(AMB_PA['MNA resultats'], AMB_PA_MECVV['MNA resultats'], equal_var=False)\n",
    "print(\"P-valor entre AMB_PA i AMB_PA_MECVV:\", p_val_12)"
   ],
   "metadata": {
    "collapsed": false,
    "ExecuteTime": {
     "end_time": "2024-05-29T13:02:06.123104Z",
     "start_time": "2024-05-29T13:02:06.097396Z"
    }
   },
   "id": "28e87d848094c515",
   "outputs": [
    {
     "ename": "NameError",
     "evalue": "name 'ttest_ind' is not defined",
     "output_type": "error",
     "traceback": [
      "\u001B[1;31m---------------------------------------------------------------------------\u001B[0m",
      "\u001B[1;31mNameError\u001B[0m                                 Traceback (most recent call last)",
      "Cell \u001B[1;32mIn[27], line 1\u001B[0m\n\u001B[1;32m----> 1\u001B[0m t_stat_12, p_val_12 \u001B[38;5;241m=\u001B[39m \u001B[43mttest_ind\u001B[49m(AMB_PA[\u001B[38;5;124m'\u001B[39m\u001B[38;5;124mMNA resultats\u001B[39m\u001B[38;5;124m'\u001B[39m], AMB_PA_MECVV[\u001B[38;5;124m'\u001B[39m\u001B[38;5;124mMNA resultats\u001B[39m\u001B[38;5;124m'\u001B[39m], equal_var\u001B[38;5;241m=\u001B[39m\u001B[38;5;28;01mFalse\u001B[39;00m)\n\u001B[0;32m      2\u001B[0m \u001B[38;5;28mprint\u001B[39m(\u001B[38;5;124m\"\u001B[39m\u001B[38;5;124mP-valor entre AMB_PA i AMB_PA_MECVV:\u001B[39m\u001B[38;5;124m\"\u001B[39m, p_val_12)\n",
      "\u001B[1;31mNameError\u001B[0m: name 'ttest_ind' is not defined"
     ]
    }
   ],
   "execution_count": 27
  },
  {
   "cell_type": "code",
   "source": [
    "t_stat_13, p_val_13 = ttest_ind(AMB_PA['MNA resultats'], SENSE_PA['MNA resultats'], equal_var=False)\n",
    "print(\"P-valor entre AMB_PA i SENSE_PA:\", p_val_13)"
   ],
   "metadata": {
    "collapsed": false,
    "ExecuteTime": {
     "end_time": "2024-05-29T13:02:07.022645Z",
     "start_time": "2024-05-29T13:02:06.996628Z"
    }
   },
   "id": "76ce7e242c729ea2",
   "outputs": [
    {
     "ename": "NameError",
     "evalue": "name 'ttest_ind' is not defined",
     "output_type": "error",
     "traceback": [
      "\u001B[1;31m---------------------------------------------------------------------------\u001B[0m",
      "\u001B[1;31mNameError\u001B[0m                                 Traceback (most recent call last)",
      "Cell \u001B[1;32mIn[28], line 1\u001B[0m\n\u001B[1;32m----> 1\u001B[0m t_stat_13, p_val_13 \u001B[38;5;241m=\u001B[39m \u001B[43mttest_ind\u001B[49m(AMB_PA[\u001B[38;5;124m'\u001B[39m\u001B[38;5;124mMNA resultats\u001B[39m\u001B[38;5;124m'\u001B[39m], SENSE_PA[\u001B[38;5;124m'\u001B[39m\u001B[38;5;124mMNA resultats\u001B[39m\u001B[38;5;124m'\u001B[39m], equal_var\u001B[38;5;241m=\u001B[39m\u001B[38;5;28;01mFalse\u001B[39;00m)\n\u001B[0;32m      2\u001B[0m \u001B[38;5;28mprint\u001B[39m(\u001B[38;5;124m\"\u001B[39m\u001B[38;5;124mP-valor entre AMB_PA i SENSE_PA:\u001B[39m\u001B[38;5;124m\"\u001B[39m, p_val_13)\n",
      "\u001B[1;31mNameError\u001B[0m: name 'ttest_ind' is not defined"
     ]
    }
   ],
   "execution_count": 28
  },
  {
   "cell_type": "code",
   "source": [
    "t_stat_23, p_val_23 = ttest_ind(AMB_PA_MECVV['MNA resultats'], SENSE_PA['MNA resultats'], equal_var=False)\n",
    "print(\"P-valor entre AMB_PA_MECVV i SENSE_PA:\", p_val_23)"
   ],
   "metadata": {
    "collapsed": false,
    "ExecuteTime": {
     "end_time": "2024-05-29T13:02:07.542524Z",
     "start_time": "2024-05-29T13:02:07.518677Z"
    }
   },
   "id": "88d75f37f735ae47",
   "outputs": [
    {
     "ename": "NameError",
     "evalue": "name 'ttest_ind' is not defined",
     "output_type": "error",
     "traceback": [
      "\u001B[1;31m---------------------------------------------------------------------------\u001B[0m",
      "\u001B[1;31mNameError\u001B[0m                                 Traceback (most recent call last)",
      "Cell \u001B[1;32mIn[29], line 1\u001B[0m\n\u001B[1;32m----> 1\u001B[0m t_stat_23, p_val_23 \u001B[38;5;241m=\u001B[39m \u001B[43mttest_ind\u001B[49m(AMB_PA_MECVV[\u001B[38;5;124m'\u001B[39m\u001B[38;5;124mMNA resultats\u001B[39m\u001B[38;5;124m'\u001B[39m], SENSE_PA[\u001B[38;5;124m'\u001B[39m\u001B[38;5;124mMNA resultats\u001B[39m\u001B[38;5;124m'\u001B[39m], equal_var\u001B[38;5;241m=\u001B[39m\u001B[38;5;28;01mFalse\u001B[39;00m)\n\u001B[0;32m      2\u001B[0m \u001B[38;5;28mprint\u001B[39m(\u001B[38;5;124m\"\u001B[39m\u001B[38;5;124mP-valor entre AMB_PA_MECVV i SENSE_PA:\u001B[39m\u001B[38;5;124m\"\u001B[39m, p_val_23)\n",
      "\u001B[1;31mNameError\u001B[0m: name 'ttest_ind' is not defined"
     ]
    }
   ],
   "execution_count": 29
  },
  {
   "cell_type": "code",
   "source": [
    "t_stat_14, p_val_14 = ttest_ind(AMB_PA['MNA resultats'], TOTAL['MNA resultats'], equal_var=False)\n",
    "print(\"P-valor entre AMB_PA i TOTAL:\", p_val_14)"
   ],
   "metadata": {
    "collapsed": false,
    "ExecuteTime": {
     "end_time": "2024-05-29T13:02:08.383159Z",
     "start_time": "2024-05-29T13:02:08.346707Z"
    }
   },
   "id": "e68bbefe91351e0a",
   "outputs": [
    {
     "ename": "NameError",
     "evalue": "name 'ttest_ind' is not defined",
     "output_type": "error",
     "traceback": [
      "\u001B[1;31m---------------------------------------------------------------------------\u001B[0m",
      "\u001B[1;31mNameError\u001B[0m                                 Traceback (most recent call last)",
      "Cell \u001B[1;32mIn[30], line 1\u001B[0m\n\u001B[1;32m----> 1\u001B[0m t_stat_14, p_val_14 \u001B[38;5;241m=\u001B[39m \u001B[43mttest_ind\u001B[49m(AMB_PA[\u001B[38;5;124m'\u001B[39m\u001B[38;5;124mMNA resultats\u001B[39m\u001B[38;5;124m'\u001B[39m], TOTAL[\u001B[38;5;124m'\u001B[39m\u001B[38;5;124mMNA resultats\u001B[39m\u001B[38;5;124m'\u001B[39m], equal_var\u001B[38;5;241m=\u001B[39m\u001B[38;5;28;01mFalse\u001B[39;00m)\n\u001B[0;32m      2\u001B[0m \u001B[38;5;28mprint\u001B[39m(\u001B[38;5;124m\"\u001B[39m\u001B[38;5;124mP-valor entre AMB_PA i TOTAL:\u001B[39m\u001B[38;5;124m\"\u001B[39m, p_val_14)\n",
      "\u001B[1;31mNameError\u001B[0m: name 'ttest_ind' is not defined"
     ]
    }
   ],
   "execution_count": 30
  },
  {
   "cell_type": "code",
   "source": [
    "t_stat_24, p_val_24 = ttest_ind(AMB_PA_MECVV['MNA resultats'], TOTAL['MNA resultats'], equal_var=False)\n",
    "print(\"P-valor entre AMB_PA_MECVV i TOTAL:\", p_val_24)"
   ],
   "metadata": {
    "collapsed": false,
    "ExecuteTime": {
     "end_time": "2024-05-29T13:02:09.134501Z",
     "start_time": "2024-05-29T13:02:09.112321Z"
    }
   },
   "id": "1ef6f238c58979c7",
   "outputs": [
    {
     "ename": "NameError",
     "evalue": "name 'ttest_ind' is not defined",
     "output_type": "error",
     "traceback": [
      "\u001B[1;31m---------------------------------------------------------------------------\u001B[0m",
      "\u001B[1;31mNameError\u001B[0m                                 Traceback (most recent call last)",
      "Cell \u001B[1;32mIn[31], line 1\u001B[0m\n\u001B[1;32m----> 1\u001B[0m t_stat_24, p_val_24 \u001B[38;5;241m=\u001B[39m \u001B[43mttest_ind\u001B[49m(AMB_PA_MECVV[\u001B[38;5;124m'\u001B[39m\u001B[38;5;124mMNA resultats\u001B[39m\u001B[38;5;124m'\u001B[39m], TOTAL[\u001B[38;5;124m'\u001B[39m\u001B[38;5;124mMNA resultats\u001B[39m\u001B[38;5;124m'\u001B[39m], equal_var\u001B[38;5;241m=\u001B[39m\u001B[38;5;28;01mFalse\u001B[39;00m)\n\u001B[0;32m      2\u001B[0m \u001B[38;5;28mprint\u001B[39m(\u001B[38;5;124m\"\u001B[39m\u001B[38;5;124mP-valor entre AMB_PA_MECVV i TOTAL:\u001B[39m\u001B[38;5;124m\"\u001B[39m, p_val_24)\n",
      "\u001B[1;31mNameError\u001B[0m: name 'ttest_ind' is not defined"
     ]
    }
   ],
   "execution_count": 31
  },
  {
   "cell_type": "code",
   "source": [
    "t_stat_34, p_val_34 = ttest_ind(SENSE_PA['MNA resultats'], TOTAL['MNA resultats'], equal_var=False)\n",
    "print(\"P-valor entre SENSE_PA i TOTAL:\", p_val_34)"
   ],
   "metadata": {
    "collapsed": false,
    "ExecuteTime": {
     "end_time": "2024-05-29T13:02:09.558448Z",
     "start_time": "2024-05-29T13:02:09.534313Z"
    }
   },
   "id": "37d84d94f2335f2c",
   "outputs": [
    {
     "ename": "NameError",
     "evalue": "name 'ttest_ind' is not defined",
     "output_type": "error",
     "traceback": [
      "\u001B[1;31m---------------------------------------------------------------------------\u001B[0m",
      "\u001B[1;31mNameError\u001B[0m                                 Traceback (most recent call last)",
      "Cell \u001B[1;32mIn[32], line 1\u001B[0m\n\u001B[1;32m----> 1\u001B[0m t_stat_34, p_val_34 \u001B[38;5;241m=\u001B[39m \u001B[43mttest_ind\u001B[49m(SENSE_PA[\u001B[38;5;124m'\u001B[39m\u001B[38;5;124mMNA resultats\u001B[39m\u001B[38;5;124m'\u001B[39m], TOTAL[\u001B[38;5;124m'\u001B[39m\u001B[38;5;124mMNA resultats\u001B[39m\u001B[38;5;124m'\u001B[39m], equal_var\u001B[38;5;241m=\u001B[39m\u001B[38;5;28;01mFalse\u001B[39;00m)\n\u001B[0;32m      2\u001B[0m \u001B[38;5;28mprint\u001B[39m(\u001B[38;5;124m\"\u001B[39m\u001B[38;5;124mP-valor entre SENSE_PA i TOTAL:\u001B[39m\u001B[38;5;124m\"\u001B[39m, p_val_34)\n",
      "\u001B[1;31mNameError\u001B[0m: name 'ttest_ind' is not defined"
     ]
    }
   ],
   "execution_count": 32
  },
  {
   "cell_type": "markdown",
   "source": [
    "### Valors de malnutrició"
   ],
   "metadata": {
    "collapsed": false
   },
   "id": "59ed1f978c595526"
  },
  {
   "cell_type": "markdown",
   "source": [
    "##### AMB_PA"
   ],
   "metadata": {
    "collapsed": false
   },
   "id": "d4c4179eb4156931"
  },
  {
   "cell_type": "code",
   "source": [
    "norm_AMB_PA = AMB_PA['MNA resultats'].between(24, 30)\n",
    "Percentatge_norm_AMB_PA = norm_AMB_PA.mean() * 100\n",
    "num_observaciones_norm_AMB_PA = norm_AMB_PA.sum()\n",
    "\n",
    "print(f\"Percentatge de norm_AMB_PA: {Percentatge_norm_AMB_PA:.2f}%\")\n",
    "print(f\"Nombre d'observacions en norm_AMB_PA: {num_observaciones_norm_AMB_PA}\")"
   ],
   "metadata": {
    "collapsed": false,
    "ExecuteTime": {
     "end_time": "2024-05-29T13:02:10.210196Z",
     "start_time": "2024-05-29T13:02:10.189260Z"
    }
   },
   "id": "839044c52c7e2db5",
   "outputs": [
    {
     "ename": "NameError",
     "evalue": "name 'AMB_PA' is not defined",
     "output_type": "error",
     "traceback": [
      "\u001B[1;31m---------------------------------------------------------------------------\u001B[0m",
      "\u001B[1;31mNameError\u001B[0m                                 Traceback (most recent call last)",
      "Cell \u001B[1;32mIn[33], line 1\u001B[0m\n\u001B[1;32m----> 1\u001B[0m norm_AMB_PA \u001B[38;5;241m=\u001B[39m \u001B[43mAMB_PA\u001B[49m[\u001B[38;5;124m'\u001B[39m\u001B[38;5;124mMNA resultats\u001B[39m\u001B[38;5;124m'\u001B[39m]\u001B[38;5;241m.\u001B[39mbetween(\u001B[38;5;241m24\u001B[39m, \u001B[38;5;241m30\u001B[39m)\n\u001B[0;32m      2\u001B[0m Percentatge_norm_AMB_PA \u001B[38;5;241m=\u001B[39m norm_AMB_PA\u001B[38;5;241m.\u001B[39mmean() \u001B[38;5;241m*\u001B[39m \u001B[38;5;241m100\u001B[39m\n\u001B[0;32m      3\u001B[0m num_observaciones_norm_AMB_PA \u001B[38;5;241m=\u001B[39m norm_AMB_PA\u001B[38;5;241m.\u001B[39msum()\n",
      "\u001B[1;31mNameError\u001B[0m: name 'AMB_PA' is not defined"
     ]
    }
   ],
   "execution_count": 33
  },
  {
   "cell_type": "code",
   "source": [
    "malnutr_AMB_PA = AMB_PA['MNA resultats'].between(17, 23.5)\n",
    "Percentatge_malnutr_AMB_PA = malnutr_AMB_PA.mean() * 100\n",
    "num_observacions_malnutr_AMB_PA = norm_AMB_PA.sum()\n",
    "\n",
    "print(f\"Percentatge de malnutr_AMB_PA: {Percentatge_malnutr_AMB_PA:.2f}%\")\n",
    "print(f\"Nombre d'observacions en norm_AMB_PA: {num_observacions_malnutr_AMB_PA}\")"
   ],
   "metadata": {
    "collapsed": false,
    "ExecuteTime": {
     "end_time": "2024-05-29T13:02:10.708323Z",
     "start_time": "2024-05-29T13:02:10.690023Z"
    }
   },
   "id": "e12bc0c70a06571f",
   "outputs": [
    {
     "ename": "NameError",
     "evalue": "name 'AMB_PA' is not defined",
     "output_type": "error",
     "traceback": [
      "\u001B[1;31m---------------------------------------------------------------------------\u001B[0m",
      "\u001B[1;31mNameError\u001B[0m                                 Traceback (most recent call last)",
      "Cell \u001B[1;32mIn[34], line 1\u001B[0m\n\u001B[1;32m----> 1\u001B[0m malnutr_AMB_PA \u001B[38;5;241m=\u001B[39m \u001B[43mAMB_PA\u001B[49m[\u001B[38;5;124m'\u001B[39m\u001B[38;5;124mMNA resultats\u001B[39m\u001B[38;5;124m'\u001B[39m]\u001B[38;5;241m.\u001B[39mbetween(\u001B[38;5;241m17\u001B[39m, \u001B[38;5;241m23.5\u001B[39m)\n\u001B[0;32m      2\u001B[0m Percentatge_malnutr_AMB_PA \u001B[38;5;241m=\u001B[39m malnutr_AMB_PA\u001B[38;5;241m.\u001B[39mmean() \u001B[38;5;241m*\u001B[39m \u001B[38;5;241m100\u001B[39m\n\u001B[0;32m      3\u001B[0m num_observacions_malnutr_AMB_PA \u001B[38;5;241m=\u001B[39m norm_AMB_PA\u001B[38;5;241m.\u001B[39msum()\n",
      "\u001B[1;31mNameError\u001B[0m: name 'AMB_PA' is not defined"
     ]
    }
   ],
   "execution_count": 34
  },
  {
   "cell_type": "code",
   "source": [
    "malnut_AMB_PA = AMB_PA['MNA resultats'] < 17\n",
    "Percentatge_malnut_AMB_PA = malnut_AMB_PA.mean() * 100\n",
    "num_observacions_malnut_AMB_PA = malnut_AMB_PA.sum()\n",
    "\n",
    "print(f\"Percentatge de malnut_AMB_PA: {Percentatge_malnut_AMB_PA:.2f}%\")\n",
    "print(f\"Nombre d'observacions en malnut_AMB_PA: {num_observacions_malnut_AMB_PA}\")"
   ],
   "metadata": {
    "collapsed": false,
    "ExecuteTime": {
     "end_time": "2024-05-29T13:02:11.507689Z",
     "start_time": "2024-05-29T13:02:11.486624Z"
    }
   },
   "id": "69f5c52244c37877",
   "outputs": [
    {
     "ename": "NameError",
     "evalue": "name 'AMB_PA' is not defined",
     "output_type": "error",
     "traceback": [
      "\u001B[1;31m---------------------------------------------------------------------------\u001B[0m",
      "\u001B[1;31mNameError\u001B[0m                                 Traceback (most recent call last)",
      "Cell \u001B[1;32mIn[35], line 1\u001B[0m\n\u001B[1;32m----> 1\u001B[0m malnut_AMB_PA \u001B[38;5;241m=\u001B[39m \u001B[43mAMB_PA\u001B[49m[\u001B[38;5;124m'\u001B[39m\u001B[38;5;124mMNA resultats\u001B[39m\u001B[38;5;124m'\u001B[39m] \u001B[38;5;241m<\u001B[39m \u001B[38;5;241m17\u001B[39m\n\u001B[0;32m      2\u001B[0m Percentatge_malnut_AMB_PA \u001B[38;5;241m=\u001B[39m malnut_AMB_PA\u001B[38;5;241m.\u001B[39mmean() \u001B[38;5;241m*\u001B[39m \u001B[38;5;241m100\u001B[39m\n\u001B[0;32m      3\u001B[0m num_observacions_malnut_AMB_PA \u001B[38;5;241m=\u001B[39m malnut_AMB_PA\u001B[38;5;241m.\u001B[39msum()\n",
      "\u001B[1;31mNameError\u001B[0m: name 'AMB_PA' is not defined"
     ]
    }
   ],
   "execution_count": 35
  },
  {
   "cell_type": "markdown",
   "source": [
    "##### AMB_PA_MECVV"
   ],
   "metadata": {
    "collapsed": false
   },
   "id": "cb641c82fd2fb034"
  },
  {
   "cell_type": "code",
   "source": [
    "norm_AMB_PA_MECVV = AMB_PA_MECVV['MNA resultats'].between(24, 30)\n",
    "Percentatge_norm_AMB_PA_MECVV = norm_AMB_PA_MECVV.mean() * 100\n",
    "num_observacions_norm_AMB_PA_MECVV = norm_AMB_PA_MECVV.sum()\n",
    "\n",
    "print(f\"Percentatge de norm_AMB_PA_MECVV: {Percentatge_norm_AMB_PA_MECVV:.2f}%\")\n",
    "print(f\"Nombre d'observacions en norm_AMB_PA_MECVV: {num_observacions_norm_AMB_PA_MECVV}\")"
   ],
   "metadata": {
    "collapsed": false,
    "ExecuteTime": {
     "end_time": "2024-05-29T13:02:12.067280Z",
     "start_time": "2024-05-29T13:02:12.045280Z"
    }
   },
   "id": "fcba2f3402c0933b",
   "outputs": [
    {
     "ename": "NameError",
     "evalue": "name 'AMB_PA_MECVV' is not defined",
     "output_type": "error",
     "traceback": [
      "\u001B[1;31m---------------------------------------------------------------------------\u001B[0m",
      "\u001B[1;31mNameError\u001B[0m                                 Traceback (most recent call last)",
      "Cell \u001B[1;32mIn[36], line 1\u001B[0m\n\u001B[1;32m----> 1\u001B[0m norm_AMB_PA_MECVV \u001B[38;5;241m=\u001B[39m \u001B[43mAMB_PA_MECVV\u001B[49m[\u001B[38;5;124m'\u001B[39m\u001B[38;5;124mMNA resultats\u001B[39m\u001B[38;5;124m'\u001B[39m]\u001B[38;5;241m.\u001B[39mbetween(\u001B[38;5;241m24\u001B[39m, \u001B[38;5;241m30\u001B[39m)\n\u001B[0;32m      2\u001B[0m Percentatge_norm_AMB_PA_MECVV \u001B[38;5;241m=\u001B[39m norm_AMB_PA_MECVV\u001B[38;5;241m.\u001B[39mmean() \u001B[38;5;241m*\u001B[39m \u001B[38;5;241m100\u001B[39m\n\u001B[0;32m      3\u001B[0m num_observacions_norm_AMB_PA_MECVV \u001B[38;5;241m=\u001B[39m norm_AMB_PA_MECVV\u001B[38;5;241m.\u001B[39msum()\n",
      "\u001B[1;31mNameError\u001B[0m: name 'AMB_PA_MECVV' is not defined"
     ]
    }
   ],
   "execution_count": 36
  },
  {
   "cell_type": "code",
   "source": [
    "malnutr_AMB_PA_MECVV = AMB_PA_MECVV['MNA resultats'].between(17, 23.5)\n",
    "Percentatge_malnutr_AMB_PA_MECVV = malnutr_AMB_PA_MECVV.mean() * 100\n",
    "num_observacions_malnutr_AMB_PA_MECVV = norm_AMB_PA_MECVV.sum()\n",
    "\n",
    "print(f\"Percentatge de malnutr_AMB_PA_MECVV: {Percentatge_malnutr_AMB_PA_MECVV:.2f}%\")\n",
    "print(f\"Nombre d'observacions en norm_AMB_PA_MECVV: {num_observacions_malnutr_AMB_PA_MECVV}\")"
   ],
   "metadata": {
    "collapsed": false,
    "ExecuteTime": {
     "end_time": "2024-05-29T13:02:13.049310Z",
     "start_time": "2024-05-29T13:02:13.018195Z"
    }
   },
   "id": "ac35cd1b3e55d386",
   "outputs": [
    {
     "ename": "NameError",
     "evalue": "name 'AMB_PA_MECVV' is not defined",
     "output_type": "error",
     "traceback": [
      "\u001B[1;31m---------------------------------------------------------------------------\u001B[0m",
      "\u001B[1;31mNameError\u001B[0m                                 Traceback (most recent call last)",
      "Cell \u001B[1;32mIn[37], line 1\u001B[0m\n\u001B[1;32m----> 1\u001B[0m malnutr_AMB_PA_MECVV \u001B[38;5;241m=\u001B[39m \u001B[43mAMB_PA_MECVV\u001B[49m[\u001B[38;5;124m'\u001B[39m\u001B[38;5;124mMNA resultats\u001B[39m\u001B[38;5;124m'\u001B[39m]\u001B[38;5;241m.\u001B[39mbetween(\u001B[38;5;241m17\u001B[39m, \u001B[38;5;241m23.5\u001B[39m)\n\u001B[0;32m      2\u001B[0m Percentatge_malnutr_AMB_PA_MECVV \u001B[38;5;241m=\u001B[39m malnutr_AMB_PA_MECVV\u001B[38;5;241m.\u001B[39mmean() \u001B[38;5;241m*\u001B[39m \u001B[38;5;241m100\u001B[39m\n\u001B[0;32m      3\u001B[0m num_observacions_malnutr_AMB_PA_MECVV \u001B[38;5;241m=\u001B[39m norm_AMB_PA_MECVV\u001B[38;5;241m.\u001B[39msum()\n",
      "\u001B[1;31mNameError\u001B[0m: name 'AMB_PA_MECVV' is not defined"
     ]
    }
   ],
   "execution_count": 37
  },
  {
   "cell_type": "code",
   "source": [
    "malnut_AMB_PA_MECVV = AMB_PA_MECVV['MNA resultats'] < 17\n",
    "Percentatge_malnut_AMB_PA_MECVV = malnut_AMB_PA_MECVV.mean() * 100\n",
    "num_observacions_malnut_AMB_PA_MECVV = malnut_AMB_PA_MECVV.sum()\n",
    "\n",
    "print(f\"Percentatge de malnut_AMB_PA_MECVV: {Percentatge_malnut_AMB_PA_MECVV:.2f}%\")\n",
    "print(f\"Nombre d'observacions en malnut_AMB_PA_MECVV: {num_observacions_malnut_AMB_PA_MECVV}\")"
   ],
   "metadata": {
    "collapsed": false,
    "ExecuteTime": {
     "end_time": "2024-05-29T13:02:13.689974Z",
     "start_time": "2024-05-29T13:02:13.635304Z"
    }
   },
   "id": "641fa59a621f8c93",
   "outputs": [
    {
     "ename": "NameError",
     "evalue": "name 'AMB_PA_MECVV' is not defined",
     "output_type": "error",
     "traceback": [
      "\u001B[1;31m---------------------------------------------------------------------------\u001B[0m",
      "\u001B[1;31mNameError\u001B[0m                                 Traceback (most recent call last)",
      "Cell \u001B[1;32mIn[38], line 1\u001B[0m\n\u001B[1;32m----> 1\u001B[0m malnut_AMB_PA_MECVV \u001B[38;5;241m=\u001B[39m \u001B[43mAMB_PA_MECVV\u001B[49m[\u001B[38;5;124m'\u001B[39m\u001B[38;5;124mMNA resultats\u001B[39m\u001B[38;5;124m'\u001B[39m] \u001B[38;5;241m<\u001B[39m \u001B[38;5;241m17\u001B[39m\n\u001B[0;32m      2\u001B[0m Percentatge_malnut_AMB_PA_MECVV \u001B[38;5;241m=\u001B[39m malnut_AMB_PA_MECVV\u001B[38;5;241m.\u001B[39mmean() \u001B[38;5;241m*\u001B[39m \u001B[38;5;241m100\u001B[39m\n\u001B[0;32m      3\u001B[0m num_observacions_malnut_AMB_PA_MECVV \u001B[38;5;241m=\u001B[39m malnut_AMB_PA_MECVV\u001B[38;5;241m.\u001B[39msum()\n",
      "\u001B[1;31mNameError\u001B[0m: name 'AMB_PA_MECVV' is not defined"
     ]
    }
   ],
   "execution_count": 38
  },
  {
   "cell_type": "markdown",
   "source": [
    "##### SENSE_PA"
   ],
   "metadata": {
    "collapsed": false
   },
   "id": "815010327300f6d6"
  },
  {
   "cell_type": "code",
   "source": [
    "norm_SENSE_PA = SENSE_PA['MNA resultats'].between(24, 30)\n",
    "Percentatge_norm_SENSE_PA = norm_SENSE_PA.mean() * 100\n",
    "num_observacions_norm_SENSE_PA = norm_SENSE_PA.sum()\n",
    "\n",
    "print(f\"Percentatge de norm_SENSE_PA: {Percentatge_norm_SENSE_PA:.2f}%\")\n",
    "print(f\"Nombre d'observacions en norm_SENSE_PA: {num_observacions_norm_SENSE_PA}\")"
   ],
   "metadata": {
    "collapsed": false,
    "ExecuteTime": {
     "end_time": "2024-05-29T13:02:14.405440Z",
     "start_time": "2024-05-29T13:02:14.386298Z"
    }
   },
   "id": "53857d87c0165620",
   "outputs": [
    {
     "ename": "NameError",
     "evalue": "name 'SENSE_PA' is not defined",
     "output_type": "error",
     "traceback": [
      "\u001B[1;31m---------------------------------------------------------------------------\u001B[0m",
      "\u001B[1;31mNameError\u001B[0m                                 Traceback (most recent call last)",
      "Cell \u001B[1;32mIn[39], line 1\u001B[0m\n\u001B[1;32m----> 1\u001B[0m norm_SENSE_PA \u001B[38;5;241m=\u001B[39m \u001B[43mSENSE_PA\u001B[49m[\u001B[38;5;124m'\u001B[39m\u001B[38;5;124mMNA resultats\u001B[39m\u001B[38;5;124m'\u001B[39m]\u001B[38;5;241m.\u001B[39mbetween(\u001B[38;5;241m24\u001B[39m, \u001B[38;5;241m30\u001B[39m)\n\u001B[0;32m      2\u001B[0m Percentatge_norm_SENSE_PA \u001B[38;5;241m=\u001B[39m norm_SENSE_PA\u001B[38;5;241m.\u001B[39mmean() \u001B[38;5;241m*\u001B[39m \u001B[38;5;241m100\u001B[39m\n\u001B[0;32m      3\u001B[0m num_observacions_norm_SENSE_PA \u001B[38;5;241m=\u001B[39m norm_SENSE_PA\u001B[38;5;241m.\u001B[39msum()\n",
      "\u001B[1;31mNameError\u001B[0m: name 'SENSE_PA' is not defined"
     ]
    }
   ],
   "execution_count": 39
  },
  {
   "cell_type": "code",
   "source": [
    "malnutr_SENSE_PA = SENSE_PA['MNA resultats'].between(17, 23.5)\n",
    "Percentatge_malnutr_SENSE_PA = malnutr_SENSE_PA.mean() * 100\n",
    "num_observacions_malnutr_SENSE_PA = malnutr_SENSE_PA.sum()\n",
    "\n",
    "print(f\"Percentatge de malnutr_SENSE_PA: {Percentatge_malnutr_SENSE_PA:.2f}%\")\n",
    "print(f\"Nombre d'observacions en malnutr_SENSE_PA: {num_observacions_malnutr_SENSE_PA}\")"
   ],
   "metadata": {
    "collapsed": false,
    "ExecuteTime": {
     "end_time": "2024-05-29T13:02:15.296128Z",
     "start_time": "2024-05-29T13:02:15.266370Z"
    }
   },
   "id": "c98653784e4b34a3",
   "outputs": [
    {
     "ename": "NameError",
     "evalue": "name 'SENSE_PA' is not defined",
     "output_type": "error",
     "traceback": [
      "\u001B[1;31m---------------------------------------------------------------------------\u001B[0m",
      "\u001B[1;31mNameError\u001B[0m                                 Traceback (most recent call last)",
      "Cell \u001B[1;32mIn[40], line 1\u001B[0m\n\u001B[1;32m----> 1\u001B[0m malnutr_SENSE_PA \u001B[38;5;241m=\u001B[39m \u001B[43mSENSE_PA\u001B[49m[\u001B[38;5;124m'\u001B[39m\u001B[38;5;124mMNA resultats\u001B[39m\u001B[38;5;124m'\u001B[39m]\u001B[38;5;241m.\u001B[39mbetween(\u001B[38;5;241m17\u001B[39m, \u001B[38;5;241m23.5\u001B[39m)\n\u001B[0;32m      2\u001B[0m Percentatge_malnutr_SENSE_PA \u001B[38;5;241m=\u001B[39m malnutr_SENSE_PA\u001B[38;5;241m.\u001B[39mmean() \u001B[38;5;241m*\u001B[39m \u001B[38;5;241m100\u001B[39m\n\u001B[0;32m      3\u001B[0m num_observacions_malnutr_SENSE_PA \u001B[38;5;241m=\u001B[39m malnutr_SENSE_PA\u001B[38;5;241m.\u001B[39msum()\n",
      "\u001B[1;31mNameError\u001B[0m: name 'SENSE_PA' is not defined"
     ]
    }
   ],
   "execution_count": 40
  },
  {
   "cell_type": "code",
   "source": [
    "malnut_SENSE_PA = SENSE_PA['MNA resultats'] < 17\n",
    "Percentatge_malnut_SENSE_PA = malnut_SENSE_PA.mean() * 100\n",
    "num_observacions_malnut_SENSE_PA = malnut_SENSE_PA.sum()\n",
    "\n",
    "print(f\"Percentatge de malnut_SENSE_PA: {Percentatge_malnut_SENSE_PA:.2f}%\")\n",
    "print(f\"Nombre d'observacions en malnut_SENSE_PA: {num_observacions_malnut_SENSE_PA}\")"
   ],
   "metadata": {
    "collapsed": false,
    "ExecuteTime": {
     "end_time": "2024-05-29T13:02:15.907399Z",
     "start_time": "2024-05-29T13:02:15.885294Z"
    }
   },
   "id": "f4f01d812ca34849",
   "outputs": [
    {
     "ename": "NameError",
     "evalue": "name 'SENSE_PA' is not defined",
     "output_type": "error",
     "traceback": [
      "\u001B[1;31m---------------------------------------------------------------------------\u001B[0m",
      "\u001B[1;31mNameError\u001B[0m                                 Traceback (most recent call last)",
      "Cell \u001B[1;32mIn[41], line 1\u001B[0m\n\u001B[1;32m----> 1\u001B[0m malnut_SENSE_PA \u001B[38;5;241m=\u001B[39m \u001B[43mSENSE_PA\u001B[49m[\u001B[38;5;124m'\u001B[39m\u001B[38;5;124mMNA resultats\u001B[39m\u001B[38;5;124m'\u001B[39m] \u001B[38;5;241m<\u001B[39m \u001B[38;5;241m17\u001B[39m\n\u001B[0;32m      2\u001B[0m Percentatge_malnut_SENSE_PA \u001B[38;5;241m=\u001B[39m malnut_SENSE_PA\u001B[38;5;241m.\u001B[39mmean() \u001B[38;5;241m*\u001B[39m \u001B[38;5;241m100\u001B[39m\n\u001B[0;32m      3\u001B[0m num_observacions_malnut_SENSE_PA \u001B[38;5;241m=\u001B[39m malnut_SENSE_PA\u001B[38;5;241m.\u001B[39msum()\n",
      "\u001B[1;31mNameError\u001B[0m: name 'SENSE_PA' is not defined"
     ]
    }
   ],
   "execution_count": 41
  },
  {
   "cell_type": "markdown",
   "source": [
    "##### TOTAL"
   ],
   "metadata": {
    "collapsed": false
   },
   "id": "7d3d61cd1f278522"
  },
  {
   "cell_type": "code",
   "source": [
    "norm_TOTAL = TOTAL['MNA resultats'].between(24, 30)\n",
    "Percentatge_norm_TOTAL = norm_TOTAL.mean() * 100\n",
    "num_observacions_norm_TOTAL = norm_TOTAL.sum()\n",
    "\n",
    "print(f\"Percentatge de norm_TOTAL: {Percentatge_norm_TOTAL:.2f}%\")\n",
    "print(f\"Nombre d'observacions en norm_TOTAL: {num_observacions_norm_TOTAL}\")"
   ],
   "metadata": {
    "collapsed": false,
    "ExecuteTime": {
     "end_time": "2024-05-29T13:02:16.695224Z",
     "start_time": "2024-05-29T13:02:16.668098Z"
    }
   },
   "id": "a02937127b8262f8",
   "outputs": [
    {
     "ename": "NameError",
     "evalue": "name 'TOTAL' is not defined",
     "output_type": "error",
     "traceback": [
      "\u001B[1;31m---------------------------------------------------------------------------\u001B[0m",
      "\u001B[1;31mNameError\u001B[0m                                 Traceback (most recent call last)",
      "Cell \u001B[1;32mIn[42], line 1\u001B[0m\n\u001B[1;32m----> 1\u001B[0m norm_TOTAL \u001B[38;5;241m=\u001B[39m \u001B[43mTOTAL\u001B[49m[\u001B[38;5;124m'\u001B[39m\u001B[38;5;124mMNA resultats\u001B[39m\u001B[38;5;124m'\u001B[39m]\u001B[38;5;241m.\u001B[39mbetween(\u001B[38;5;241m24\u001B[39m, \u001B[38;5;241m30\u001B[39m)\n\u001B[0;32m      2\u001B[0m Percentatge_norm_TOTAL \u001B[38;5;241m=\u001B[39m norm_TOTAL\u001B[38;5;241m.\u001B[39mmean() \u001B[38;5;241m*\u001B[39m \u001B[38;5;241m100\u001B[39m\n\u001B[0;32m      3\u001B[0m num_observacions_norm_TOTAL \u001B[38;5;241m=\u001B[39m norm_TOTAL\u001B[38;5;241m.\u001B[39msum()\n",
      "\u001B[1;31mNameError\u001B[0m: name 'TOTAL' is not defined"
     ]
    }
   ],
   "execution_count": 42
  },
  {
   "cell_type": "code",
   "source": [
    "malnutr_TOTAL = TOTAL['MNA resultats'].between(17, 23.5)\n",
    "Percentatge_malnutr_TOTAL = malnutr_TOTAL.mean() * 100\n",
    "num_observacions_malnutr_TOTAL = malnutr_TOTAL.sum()\n",
    "\n",
    "print(f\"Percentatge de malnutr_TOTAL: {Percentatge_malnutr_TOTAL:.2f}%\")\n",
    "print(f\"Nombre d'observacions en malnutr_TOTAL: {num_observacions_malnutr_TOTAL}\")"
   ],
   "metadata": {
    "collapsed": false,
    "ExecuteTime": {
     "end_time": "2024-05-29T13:02:17.607872Z",
     "start_time": "2024-05-29T13:02:17.584767Z"
    }
   },
   "id": "54db351fd27a989e",
   "outputs": [
    {
     "ename": "NameError",
     "evalue": "name 'TOTAL' is not defined",
     "output_type": "error",
     "traceback": [
      "\u001B[1;31m---------------------------------------------------------------------------\u001B[0m",
      "\u001B[1;31mNameError\u001B[0m                                 Traceback (most recent call last)",
      "Cell \u001B[1;32mIn[43], line 1\u001B[0m\n\u001B[1;32m----> 1\u001B[0m malnutr_TOTAL \u001B[38;5;241m=\u001B[39m \u001B[43mTOTAL\u001B[49m[\u001B[38;5;124m'\u001B[39m\u001B[38;5;124mMNA resultats\u001B[39m\u001B[38;5;124m'\u001B[39m]\u001B[38;5;241m.\u001B[39mbetween(\u001B[38;5;241m17\u001B[39m, \u001B[38;5;241m23.5\u001B[39m)\n\u001B[0;32m      2\u001B[0m Percentatge_malnutr_TOTAL \u001B[38;5;241m=\u001B[39m malnutr_TOTAL\u001B[38;5;241m.\u001B[39mmean() \u001B[38;5;241m*\u001B[39m \u001B[38;5;241m100\u001B[39m\n\u001B[0;32m      3\u001B[0m num_observacions_malnutr_TOTAL \u001B[38;5;241m=\u001B[39m malnutr_TOTAL\u001B[38;5;241m.\u001B[39msum()\n",
      "\u001B[1;31mNameError\u001B[0m: name 'TOTAL' is not defined"
     ]
    }
   ],
   "execution_count": 43
  },
  {
   "cell_type": "code",
   "source": [
    "malnut_TOTAL = TOTAL['MNA resultats'] < 17\n",
    "Percentatge_malnut_TOTAL = malnut_TOTAL.mean() * 100\n",
    "num_observacions_malnut_TOTAL = malnut_TOTAL.sum()\n",
    "\n",
    "print(f\"Percentatge de malnut_TOTAL: {Percentatge_malnut_TOTAL:.2f}%\")\n",
    "print(f\"Nombre d'observacions en malnut_TOTAL: {num_observacions_malnut_TOTAL}\")"
   ],
   "metadata": {
    "collapsed": false,
    "ExecuteTime": {
     "end_time": "2024-05-29T13:02:18.183285Z",
     "start_time": "2024-05-29T13:02:18.159529Z"
    }
   },
   "id": "cab9c29138a96860",
   "outputs": [
    {
     "ename": "NameError",
     "evalue": "name 'TOTAL' is not defined",
     "output_type": "error",
     "traceback": [
      "\u001B[1;31m---------------------------------------------------------------------------\u001B[0m",
      "\u001B[1;31mNameError\u001B[0m                                 Traceback (most recent call last)",
      "Cell \u001B[1;32mIn[44], line 1\u001B[0m\n\u001B[1;32m----> 1\u001B[0m malnut_TOTAL \u001B[38;5;241m=\u001B[39m \u001B[43mTOTAL\u001B[49m[\u001B[38;5;124m'\u001B[39m\u001B[38;5;124mMNA resultats\u001B[39m\u001B[38;5;124m'\u001B[39m] \u001B[38;5;241m<\u001B[39m \u001B[38;5;241m17\u001B[39m\n\u001B[0;32m      2\u001B[0m Percentatge_malnut_TOTAL \u001B[38;5;241m=\u001B[39m malnut_TOTAL\u001B[38;5;241m.\u001B[39mmean() \u001B[38;5;241m*\u001B[39m \u001B[38;5;241m100\u001B[39m\n\u001B[0;32m      3\u001B[0m num_observacions_malnut_TOTAL \u001B[38;5;241m=\u001B[39m malnut_TOTAL\u001B[38;5;241m.\u001B[39msum()\n",
      "\u001B[1;31mNameError\u001B[0m: name 'TOTAL' is not defined"
     ]
    }
   ],
   "execution_count": 44
  },
  {
   "cell_type": "markdown",
   "source": [
    "#### P-valor"
   ],
   "metadata": {
    "collapsed": false
   },
   "id": "ffa8ca2805a776d9"
  },
  {
   "cell_type": "markdown",
   "source": [
    "##### Normal"
   ],
   "metadata": {
    "collapsed": false
   },
   "id": "c1421ca31b236ad8"
  },
  {
   "cell_type": "code",
   "source": [
    "contingency_table_12 = pd.crosstab(index=AMB_PA['MNA resultats'].between(24, 30), columns=AMB_PA_MECVV['MNA resultats'].between(24, 30))\n",
    "\n",
    "chi2_12, p_value_12, dof_12, expected_12 = chi2_contingency(contingency_table_12)\n",
    "\n",
    "print(\"Estadístic xi-quadrat entre AMB_PA i AMB_PA_MECVV:\", chi2_12)\n",
    "print(\"P-valor entre AMB_PA i AMB_PA_MECVV:\", p_value_12)\n",
    "\n",
    "if p_value_12 < 0.05:\n",
    "    print(\"Hi ha diferències significatives entre les distribucions de MNA en AMB_PA i AMB_PA_MECVV.\")\n",
    "else:\n",
    "    print(\"No hi ha diferències significatives entre les distribucions de MNA en AMB_PA i AMB_PA_MECVV.\")"
   ],
   "metadata": {
    "collapsed": false,
    "ExecuteTime": {
     "end_time": "2024-05-29T13:02:19.500333Z",
     "start_time": "2024-05-29T13:02:19.478292Z"
    }
   },
   "id": "794ade537821f431",
   "outputs": [
    {
     "ename": "NameError",
     "evalue": "name 'pd' is not defined",
     "output_type": "error",
     "traceback": [
      "\u001B[1;31m---------------------------------------------------------------------------\u001B[0m",
      "\u001B[1;31mNameError\u001B[0m                                 Traceback (most recent call last)",
      "Cell \u001B[1;32mIn[45], line 1\u001B[0m\n\u001B[1;32m----> 1\u001B[0m contingency_table_12 \u001B[38;5;241m=\u001B[39m \u001B[43mpd\u001B[49m\u001B[38;5;241m.\u001B[39mcrosstab(index\u001B[38;5;241m=\u001B[39mAMB_PA[\u001B[38;5;124m'\u001B[39m\u001B[38;5;124mMNA resultats\u001B[39m\u001B[38;5;124m'\u001B[39m]\u001B[38;5;241m.\u001B[39mbetween(\u001B[38;5;241m24\u001B[39m, \u001B[38;5;241m30\u001B[39m), columns\u001B[38;5;241m=\u001B[39mAMB_PA_MECVV[\u001B[38;5;124m'\u001B[39m\u001B[38;5;124mMNA resultats\u001B[39m\u001B[38;5;124m'\u001B[39m]\u001B[38;5;241m.\u001B[39mbetween(\u001B[38;5;241m24\u001B[39m, \u001B[38;5;241m30\u001B[39m))\n\u001B[0;32m      3\u001B[0m chi2_12, p_value_12, dof_12, expected_12 \u001B[38;5;241m=\u001B[39m chi2_contingency(contingency_table_12)\n\u001B[0;32m      5\u001B[0m \u001B[38;5;28mprint\u001B[39m(\u001B[38;5;124m\"\u001B[39m\u001B[38;5;124mEstadístic xi-quadrat entre AMB_PA i AMB_PA_MECVV:\u001B[39m\u001B[38;5;124m\"\u001B[39m, chi2_12)\n",
      "\u001B[1;31mNameError\u001B[0m: name 'pd' is not defined"
     ]
    }
   ],
   "execution_count": 45
  },
  {
   "cell_type": "code",
   "source": [
    "contingency_table_13 = pd.crosstab(index=AMB_PA['MNA resultats'].between(24, 30), columns=SENSE_PA['MNA resultats'].between(24, 30))\n",
    "\n",
    "chi2_13, p_value_13, dof_13, expected_13 = chi2_contingency(contingency_table_13)\n",
    "\n",
    "print(\"Estadístic xi-quadrat entre AMB_PA i SENSE_PA:\", chi2_13)\n",
    "print(\"P-valor entre AMB_PA i SENSE_PA:\", p_value_13)\n",
    "\n",
    "if p_value_13 < 0.05:\n",
    "    print(\"Hi ha diferències significatives entre les distribucions de MNA en AMB_PA i SENSE_PA.\")\n",
    "else:\n",
    "    print(\"No hi ha diferències significatives entre les distribucions de MNA en AMB_PA i SENSE_PA.\")"
   ],
   "metadata": {
    "collapsed": false,
    "ExecuteTime": {
     "end_time": "2024-05-29T13:02:20.367444Z",
     "start_time": "2024-05-29T13:02:20.338739Z"
    }
   },
   "id": "89f775679a5e2c83",
   "outputs": [
    {
     "ename": "NameError",
     "evalue": "name 'pd' is not defined",
     "output_type": "error",
     "traceback": [
      "\u001B[1;31m---------------------------------------------------------------------------\u001B[0m",
      "\u001B[1;31mNameError\u001B[0m                                 Traceback (most recent call last)",
      "Cell \u001B[1;32mIn[46], line 1\u001B[0m\n\u001B[1;32m----> 1\u001B[0m contingency_table_13 \u001B[38;5;241m=\u001B[39m \u001B[43mpd\u001B[49m\u001B[38;5;241m.\u001B[39mcrosstab(index\u001B[38;5;241m=\u001B[39mAMB_PA[\u001B[38;5;124m'\u001B[39m\u001B[38;5;124mMNA resultats\u001B[39m\u001B[38;5;124m'\u001B[39m]\u001B[38;5;241m.\u001B[39mbetween(\u001B[38;5;241m24\u001B[39m, \u001B[38;5;241m30\u001B[39m), columns\u001B[38;5;241m=\u001B[39mSENSE_PA[\u001B[38;5;124m'\u001B[39m\u001B[38;5;124mMNA resultats\u001B[39m\u001B[38;5;124m'\u001B[39m]\u001B[38;5;241m.\u001B[39mbetween(\u001B[38;5;241m24\u001B[39m, \u001B[38;5;241m30\u001B[39m))\n\u001B[0;32m      3\u001B[0m chi2_13, p_value_13, dof_13, expected_13 \u001B[38;5;241m=\u001B[39m chi2_contingency(contingency_table_13)\n\u001B[0;32m      5\u001B[0m \u001B[38;5;28mprint\u001B[39m(\u001B[38;5;124m\"\u001B[39m\u001B[38;5;124mEstadístic xi-quadrat entre AMB_PA i SENSE_PA:\u001B[39m\u001B[38;5;124m\"\u001B[39m, chi2_13)\n",
      "\u001B[1;31mNameError\u001B[0m: name 'pd' is not defined"
     ]
    }
   ],
   "execution_count": 46
  },
  {
   "cell_type": "code",
   "source": [
    "contingency_table_23 = pd.crosstab(index=AMB_PA_MECVV['MNA resultats'].between(24, 30), columns=SENSE_PA['MNA resultats'].between(24, 30))\n",
    "\n",
    "chi2_23, p_value_23, dof_23, expected_23 = chi2_contingency(contingency_table_23)\n",
    "\n",
    "print(\"Estadístic xi-quadrat entre AMB_PA_MECVV i SENSE_PA:\", chi2_23)\n",
    "print(\"P-valor entre AMB_PA_MECVV i SENSE_PA:\", p_value_23)\n",
    "\n",
    "if p_value_23 < 0.05:\n",
    "    print(\"Hi ha diferències significatives entre les distribucions de MNA en AMB_PA_MECVV i SENSE_PA.\")\n",
    "else:\n",
    "    print(\"No hi ha diferències significatives entre les distribucions de MNA en AMB_PA_MECVV i SENSE_PA.\")"
   ],
   "metadata": {
    "collapsed": false,
    "ExecuteTime": {
     "end_time": "2024-05-29T13:02:21.520073Z",
     "start_time": "2024-05-29T13:02:21.492039Z"
    }
   },
   "id": "c63e2052edbca169",
   "outputs": [
    {
     "ename": "NameError",
     "evalue": "name 'pd' is not defined",
     "output_type": "error",
     "traceback": [
      "\u001B[1;31m---------------------------------------------------------------------------\u001B[0m",
      "\u001B[1;31mNameError\u001B[0m                                 Traceback (most recent call last)",
      "Cell \u001B[1;32mIn[47], line 1\u001B[0m\n\u001B[1;32m----> 1\u001B[0m contingency_table_23 \u001B[38;5;241m=\u001B[39m \u001B[43mpd\u001B[49m\u001B[38;5;241m.\u001B[39mcrosstab(index\u001B[38;5;241m=\u001B[39mAMB_PA_MECVV[\u001B[38;5;124m'\u001B[39m\u001B[38;5;124mMNA resultats\u001B[39m\u001B[38;5;124m'\u001B[39m]\u001B[38;5;241m.\u001B[39mbetween(\u001B[38;5;241m24\u001B[39m, \u001B[38;5;241m30\u001B[39m), columns\u001B[38;5;241m=\u001B[39mSENSE_PA[\u001B[38;5;124m'\u001B[39m\u001B[38;5;124mMNA resultats\u001B[39m\u001B[38;5;124m'\u001B[39m]\u001B[38;5;241m.\u001B[39mbetween(\u001B[38;5;241m24\u001B[39m, \u001B[38;5;241m30\u001B[39m))\n\u001B[0;32m      3\u001B[0m chi2_23, p_value_23, dof_23, expected_23 \u001B[38;5;241m=\u001B[39m chi2_contingency(contingency_table_23)\n\u001B[0;32m      5\u001B[0m \u001B[38;5;28mprint\u001B[39m(\u001B[38;5;124m\"\u001B[39m\u001B[38;5;124mEstadístic xi-quadrat entre AMB_PA_MECVV i SENSE_PA:\u001B[39m\u001B[38;5;124m\"\u001B[39m, chi2_23)\n",
      "\u001B[1;31mNameError\u001B[0m: name 'pd' is not defined"
     ]
    }
   ],
   "execution_count": 47
  },
  {
   "cell_type": "code",
   "source": [
    "contingency_table_14 = pd.crosstab(index=AMB_PA['MNA resultats'].between(24, 30), columns=TOTAL['MNA resultats'].between(24, 30))\n",
    "\n",
    "chi2_14, p_value_14, dof_14, expected_14 = chi2_contingency(contingency_table_14)\n",
    "\n",
    "print(\"Estadístic xi-quadrat entre AMB_PA i TOTAL:\", chi2_14)\n",
    "print(\"P-valor entre AMB_PA i TOTAL:\", p_value_14)\n",
    "\n",
    "if p_value_14 < 0.05:\n",
    "    print(\"Hi ha diferències significatives entre les distribucions de MNA en AMB_PA i TOTAL.\")\n",
    "else:\n",
    "    print(\"No hi ha diferències significatives entre les distribucions de MNA en AMB_PA i TOTAL.\")"
   ],
   "metadata": {
    "collapsed": false,
    "ExecuteTime": {
     "end_time": "2024-05-29T13:02:22.042185Z",
     "start_time": "2024-05-29T13:02:22.015478Z"
    }
   },
   "id": "3b795f9284e213e6",
   "outputs": [
    {
     "ename": "NameError",
     "evalue": "name 'pd' is not defined",
     "output_type": "error",
     "traceback": [
      "\u001B[1;31m---------------------------------------------------------------------------\u001B[0m",
      "\u001B[1;31mNameError\u001B[0m                                 Traceback (most recent call last)",
      "Cell \u001B[1;32mIn[48], line 1\u001B[0m\n\u001B[1;32m----> 1\u001B[0m contingency_table_14 \u001B[38;5;241m=\u001B[39m \u001B[43mpd\u001B[49m\u001B[38;5;241m.\u001B[39mcrosstab(index\u001B[38;5;241m=\u001B[39mAMB_PA[\u001B[38;5;124m'\u001B[39m\u001B[38;5;124mMNA resultats\u001B[39m\u001B[38;5;124m'\u001B[39m]\u001B[38;5;241m.\u001B[39mbetween(\u001B[38;5;241m24\u001B[39m, \u001B[38;5;241m30\u001B[39m), columns\u001B[38;5;241m=\u001B[39mTOTAL[\u001B[38;5;124m'\u001B[39m\u001B[38;5;124mMNA resultats\u001B[39m\u001B[38;5;124m'\u001B[39m]\u001B[38;5;241m.\u001B[39mbetween(\u001B[38;5;241m24\u001B[39m, \u001B[38;5;241m30\u001B[39m))\n\u001B[0;32m      3\u001B[0m chi2_14, p_value_14, dof_14, expected_14 \u001B[38;5;241m=\u001B[39m chi2_contingency(contingency_table_14)\n\u001B[0;32m      5\u001B[0m \u001B[38;5;28mprint\u001B[39m(\u001B[38;5;124m\"\u001B[39m\u001B[38;5;124mEstadístic xi-quadrat entre AMB_PA i TOTAL:\u001B[39m\u001B[38;5;124m\"\u001B[39m, chi2_14)\n",
      "\u001B[1;31mNameError\u001B[0m: name 'pd' is not defined"
     ]
    }
   ],
   "execution_count": 48
  },
  {
   "cell_type": "code",
   "source": [
    "contingency_table_24 = pd.crosstab(index=AMB_PA_MECVV['MNA resultats'].between(24, 30), columns=TOTAL['MNA resultats'].between(24, 30))\n",
    "\n",
    "chi2_24, p_value_24, dof_24, expected_24 = chi2_contingency(contingency_table_24)\n",
    "\n",
    "print(\"Estadístic xi-quadrat entre AMB_PA_MECVV i TOTAL:\", chi2_24)\n",
    "print(\"P-valor entre AMB_PA_MECVV i TOTAL:\", p_value_24)\n",
    "\n",
    "if p_value_24 < 0.05:\n",
    "    print(\"Hi ha diferències significatives entre les distribucions de MNA en AMB_PA_MECVV i TOTAL.\")\n",
    "else:\n",
    "    print(\"No hi ha diferències significatives entre les distribucions de MNA en AMB_PA_MECVV i TOTAL.\")"
   ],
   "metadata": {
    "collapsed": false,
    "ExecuteTime": {
     "end_time": "2024-05-29T13:02:22.859714Z",
     "start_time": "2024-05-29T13:02:22.837403Z"
    }
   },
   "id": "6f96e878435c702e",
   "outputs": [
    {
     "ename": "NameError",
     "evalue": "name 'pd' is not defined",
     "output_type": "error",
     "traceback": [
      "\u001B[1;31m---------------------------------------------------------------------------\u001B[0m",
      "\u001B[1;31mNameError\u001B[0m                                 Traceback (most recent call last)",
      "Cell \u001B[1;32mIn[49], line 1\u001B[0m\n\u001B[1;32m----> 1\u001B[0m contingency_table_24 \u001B[38;5;241m=\u001B[39m \u001B[43mpd\u001B[49m\u001B[38;5;241m.\u001B[39mcrosstab(index\u001B[38;5;241m=\u001B[39mAMB_PA_MECVV[\u001B[38;5;124m'\u001B[39m\u001B[38;5;124mMNA resultats\u001B[39m\u001B[38;5;124m'\u001B[39m]\u001B[38;5;241m.\u001B[39mbetween(\u001B[38;5;241m24\u001B[39m, \u001B[38;5;241m30\u001B[39m), columns\u001B[38;5;241m=\u001B[39mTOTAL[\u001B[38;5;124m'\u001B[39m\u001B[38;5;124mMNA resultats\u001B[39m\u001B[38;5;124m'\u001B[39m]\u001B[38;5;241m.\u001B[39mbetween(\u001B[38;5;241m24\u001B[39m, \u001B[38;5;241m30\u001B[39m))\n\u001B[0;32m      3\u001B[0m chi2_24, p_value_24, dof_24, expected_24 \u001B[38;5;241m=\u001B[39m chi2_contingency(contingency_table_24)\n\u001B[0;32m      5\u001B[0m \u001B[38;5;28mprint\u001B[39m(\u001B[38;5;124m\"\u001B[39m\u001B[38;5;124mEstadístic xi-quadrat entre AMB_PA_MECVV i TOTAL:\u001B[39m\u001B[38;5;124m\"\u001B[39m, chi2_24)\n",
      "\u001B[1;31mNameError\u001B[0m: name 'pd' is not defined"
     ]
    }
   ],
   "execution_count": 49
  },
  {
   "cell_type": "code",
   "source": [
    "contingency_table_34 = pd.crosstab(index=SENSE_PA['MNA resultats'].between(24, 30), columns=TOTAL['MNA resultats'].between(24, 30))\n",
    "\n",
    "chi2_34, p_value_34, dof_34, expected_34 = chi2_contingency(contingency_table_34)\n",
    "\n",
    "print(\"Estadístic xi-quadrat entre SENSE_PA i TOTAL:\", chi2_34)\n",
    "print(\"P-valor entre SENSE_PA i TOTAL:\", p_value_34)\n",
    "\n",
    "if p_value_34 < 0.05:\n",
    "    print(\"Hi ha diferències significatives entre les distribucions de MNA en SENSE_PA i TOTAL.\")\n",
    "else:\n",
    "    print(\"No hi ha diferències significatives entre les distribucions de MNA en SENSE_PA i TOTAL.\")"
   ],
   "metadata": {
    "collapsed": false,
    "ExecuteTime": {
     "end_time": "2024-05-29T13:02:23.673194Z",
     "start_time": "2024-05-29T13:02:23.647973Z"
    }
   },
   "id": "bd78bd1f257ed46",
   "outputs": [
    {
     "ename": "NameError",
     "evalue": "name 'pd' is not defined",
     "output_type": "error",
     "traceback": [
      "\u001B[1;31m---------------------------------------------------------------------------\u001B[0m",
      "\u001B[1;31mNameError\u001B[0m                                 Traceback (most recent call last)",
      "Cell \u001B[1;32mIn[50], line 1\u001B[0m\n\u001B[1;32m----> 1\u001B[0m contingency_table_34 \u001B[38;5;241m=\u001B[39m \u001B[43mpd\u001B[49m\u001B[38;5;241m.\u001B[39mcrosstab(index\u001B[38;5;241m=\u001B[39mSENSE_PA[\u001B[38;5;124m'\u001B[39m\u001B[38;5;124mMNA resultats\u001B[39m\u001B[38;5;124m'\u001B[39m]\u001B[38;5;241m.\u001B[39mbetween(\u001B[38;5;241m24\u001B[39m, \u001B[38;5;241m30\u001B[39m), columns\u001B[38;5;241m=\u001B[39mTOTAL[\u001B[38;5;124m'\u001B[39m\u001B[38;5;124mMNA resultats\u001B[39m\u001B[38;5;124m'\u001B[39m]\u001B[38;5;241m.\u001B[39mbetween(\u001B[38;5;241m24\u001B[39m, \u001B[38;5;241m30\u001B[39m))\n\u001B[0;32m      3\u001B[0m chi2_34, p_value_34, dof_34, expected_34 \u001B[38;5;241m=\u001B[39m chi2_contingency(contingency_table_34)\n\u001B[0;32m      5\u001B[0m \u001B[38;5;28mprint\u001B[39m(\u001B[38;5;124m\"\u001B[39m\u001B[38;5;124mEstadístic xi-quadrat entre SENSE_PA i TOTAL:\u001B[39m\u001B[38;5;124m\"\u001B[39m, chi2_34)\n",
      "\u001B[1;31mNameError\u001B[0m: name 'pd' is not defined"
     ]
    }
   ],
   "execution_count": 50
  },
  {
   "cell_type": "markdown",
   "source": [
    "##### Risc de malnutrició"
   ],
   "metadata": {
    "collapsed": false
   },
   "id": "2ddd8f880856e5fc"
  },
  {
   "cell_type": "code",
   "source": [
    "contingency_table_12 = pd.crosstab(index=AMB_PA['MNA resultats'].between(17, 23.5), columns=AMB_PA_MECVV['MNA resultats'].between(17, 23.5))\n",
    "\n",
    "chi2_12, p_value_12, dof_12, expected_12 = chi2_contingency(contingency_table_12)\n",
    "\n",
    "print(\"Estadístic xi-quadrat entre AMB_PA i AMB_PA_MECVV:\", chi2_12)\n",
    "print(\"P-valor entre AMB_PA i AMB_PA_MECVV:\", p_value_12)\n",
    "\n",
    "if p_value_12 < 0.05:\n",
    "    print(\"Hi ha diferències significatives entre les distribucions de MNA en AMB_PA i AMB_PA_MECVV.\")\n",
    "else:\n",
    "    print(\"No hi ha diferències significatives entre les distribucions de MNA en AMB_PA i AMB_PA_MECVV.\")"
   ],
   "metadata": {
    "collapsed": false,
    "ExecuteTime": {
     "end_time": "2024-05-29T13:02:24.305421Z",
     "start_time": "2024-05-29T13:02:24.282513Z"
    }
   },
   "id": "bc94b67acd590122",
   "outputs": [
    {
     "ename": "NameError",
     "evalue": "name 'pd' is not defined",
     "output_type": "error",
     "traceback": [
      "\u001B[1;31m---------------------------------------------------------------------------\u001B[0m",
      "\u001B[1;31mNameError\u001B[0m                                 Traceback (most recent call last)",
      "Cell \u001B[1;32mIn[51], line 1\u001B[0m\n\u001B[1;32m----> 1\u001B[0m contingency_table_12 \u001B[38;5;241m=\u001B[39m \u001B[43mpd\u001B[49m\u001B[38;5;241m.\u001B[39mcrosstab(index\u001B[38;5;241m=\u001B[39mAMB_PA[\u001B[38;5;124m'\u001B[39m\u001B[38;5;124mMNA resultats\u001B[39m\u001B[38;5;124m'\u001B[39m]\u001B[38;5;241m.\u001B[39mbetween(\u001B[38;5;241m17\u001B[39m, \u001B[38;5;241m23.5\u001B[39m), columns\u001B[38;5;241m=\u001B[39mAMB_PA_MECVV[\u001B[38;5;124m'\u001B[39m\u001B[38;5;124mMNA resultats\u001B[39m\u001B[38;5;124m'\u001B[39m]\u001B[38;5;241m.\u001B[39mbetween(\u001B[38;5;241m17\u001B[39m, \u001B[38;5;241m23.5\u001B[39m))\n\u001B[0;32m      3\u001B[0m chi2_12, p_value_12, dof_12, expected_12 \u001B[38;5;241m=\u001B[39m chi2_contingency(contingency_table_12)\n\u001B[0;32m      5\u001B[0m \u001B[38;5;28mprint\u001B[39m(\u001B[38;5;124m\"\u001B[39m\u001B[38;5;124mEstadístic xi-quadrat entre AMB_PA i AMB_PA_MECVV:\u001B[39m\u001B[38;5;124m\"\u001B[39m, chi2_12)\n",
      "\u001B[1;31mNameError\u001B[0m: name 'pd' is not defined"
     ]
    }
   ],
   "execution_count": 51
  },
  {
   "cell_type": "code",
   "source": [
    "contingency_table_13 = pd.crosstab(index=AMB_PA['MNA resultats'].between(17, 23.5), columns=SENSE_PA['MNA resultats'].between(17, 23.5))\n",
    "\n",
    "chi2_13, p_value_13, dof_13, expected_13 = chi2_contingency(contingency_table_13)\n",
    "\n",
    "print(\"Estadístic xi-quadrat entre AMB_PA i SENSE_PA:\", chi2_13)\n",
    "print(\"P-valor entre AMB_PA i SENSE_PA:\", p_value_13)\n",
    "\n",
    "if p_value_13 < 0.05:\n",
    "    print(\"Hi ha diferències significatives entre les distribucions de MNA en AMB_PA i SENSE_PA.\")\n",
    "else:\n",
    "    print(\"No hi ha diferències significatives entre les distribucions de MNA en AMB_PA i SENSE_PA.\")"
   ],
   "metadata": {
    "collapsed": false,
    "ExecuteTime": {
     "end_time": "2024-05-29T13:02:25.173944Z",
     "start_time": "2024-05-29T13:02:25.150424Z"
    }
   },
   "id": "bb0f6fc81d8e05c9",
   "outputs": [
    {
     "ename": "NameError",
     "evalue": "name 'pd' is not defined",
     "output_type": "error",
     "traceback": [
      "\u001B[1;31m---------------------------------------------------------------------------\u001B[0m",
      "\u001B[1;31mNameError\u001B[0m                                 Traceback (most recent call last)",
      "Cell \u001B[1;32mIn[52], line 1\u001B[0m\n\u001B[1;32m----> 1\u001B[0m contingency_table_13 \u001B[38;5;241m=\u001B[39m \u001B[43mpd\u001B[49m\u001B[38;5;241m.\u001B[39mcrosstab(index\u001B[38;5;241m=\u001B[39mAMB_PA[\u001B[38;5;124m'\u001B[39m\u001B[38;5;124mMNA resultats\u001B[39m\u001B[38;5;124m'\u001B[39m]\u001B[38;5;241m.\u001B[39mbetween(\u001B[38;5;241m17\u001B[39m, \u001B[38;5;241m23.5\u001B[39m), columns\u001B[38;5;241m=\u001B[39mSENSE_PA[\u001B[38;5;124m'\u001B[39m\u001B[38;5;124mMNA resultats\u001B[39m\u001B[38;5;124m'\u001B[39m]\u001B[38;5;241m.\u001B[39mbetween(\u001B[38;5;241m17\u001B[39m, \u001B[38;5;241m23.5\u001B[39m))\n\u001B[0;32m      3\u001B[0m chi2_13, p_value_13, dof_13, expected_13 \u001B[38;5;241m=\u001B[39m chi2_contingency(contingency_table_13)\n\u001B[0;32m      5\u001B[0m \u001B[38;5;28mprint\u001B[39m(\u001B[38;5;124m\"\u001B[39m\u001B[38;5;124mEstadístic xi-quadrat entre AMB_PA i SENSE_PA:\u001B[39m\u001B[38;5;124m\"\u001B[39m, chi2_13)\n",
      "\u001B[1;31mNameError\u001B[0m: name 'pd' is not defined"
     ]
    }
   ],
   "execution_count": 52
  },
  {
   "cell_type": "code",
   "source": [
    "contingency_table_23 = pd.crosstab(index=AMB_PA_MECVV['MNA resultats'].between(17, 23.5), columns=SENSE_PA['MNA resultats'].between(17, 23.5))\n",
    "\n",
    "chi2_23, p_value_23, dof_23, expected_23 = chi2_contingency(contingency_table_23)\n",
    "\n",
    "print(\"Estadístic xi-quadrat entre AMB_PA_MECVV i SENSE_PA:\", chi2_23)\n",
    "print(\"P-valor entre AMB_PA_MECVV i SENSE_PA:\", p_value_23)\n",
    "\n",
    "if p_value_23 < 0.05:\n",
    "    print(\"Hi ha diferències significatives entre les distribucions de MNA en AMB_PA_MECVV i SENSE_PA.\")\n",
    "else:\n",
    "    print(\"No hi ha diferències significatives entre les distribucions de MNA en AMB_PA_MECVV i SENSE_PA.\")"
   ],
   "metadata": {
    "collapsed": false,
    "ExecuteTime": {
     "end_time": "2024-05-29T13:02:25.828214Z",
     "start_time": "2024-05-29T13:02:25.802203Z"
    }
   },
   "id": "a78406084c580a6",
   "outputs": [
    {
     "ename": "NameError",
     "evalue": "name 'pd' is not defined",
     "output_type": "error",
     "traceback": [
      "\u001B[1;31m---------------------------------------------------------------------------\u001B[0m",
      "\u001B[1;31mNameError\u001B[0m                                 Traceback (most recent call last)",
      "Cell \u001B[1;32mIn[53], line 1\u001B[0m\n\u001B[1;32m----> 1\u001B[0m contingency_table_23 \u001B[38;5;241m=\u001B[39m \u001B[43mpd\u001B[49m\u001B[38;5;241m.\u001B[39mcrosstab(index\u001B[38;5;241m=\u001B[39mAMB_PA_MECVV[\u001B[38;5;124m'\u001B[39m\u001B[38;5;124mMNA resultats\u001B[39m\u001B[38;5;124m'\u001B[39m]\u001B[38;5;241m.\u001B[39mbetween(\u001B[38;5;241m17\u001B[39m, \u001B[38;5;241m23.5\u001B[39m), columns\u001B[38;5;241m=\u001B[39mSENSE_PA[\u001B[38;5;124m'\u001B[39m\u001B[38;5;124mMNA resultats\u001B[39m\u001B[38;5;124m'\u001B[39m]\u001B[38;5;241m.\u001B[39mbetween(\u001B[38;5;241m17\u001B[39m, \u001B[38;5;241m23.5\u001B[39m))\n\u001B[0;32m      3\u001B[0m chi2_23, p_value_23, dof_23, expected_23 \u001B[38;5;241m=\u001B[39m chi2_contingency(contingency_table_23)\n\u001B[0;32m      5\u001B[0m \u001B[38;5;28mprint\u001B[39m(\u001B[38;5;124m\"\u001B[39m\u001B[38;5;124mEstadístic xi-quadrat entre AMB_PA_MECVV i SENSE_PA:\u001B[39m\u001B[38;5;124m\"\u001B[39m, chi2_23)\n",
      "\u001B[1;31mNameError\u001B[0m: name 'pd' is not defined"
     ]
    }
   ],
   "execution_count": 53
  },
  {
   "cell_type": "code",
   "source": [
    "contingency_table_14 = pd.crosstab(index=AMB_PA['MNA resultats'].between(17, 23.5), columns=TOTAL['MNA resultats'].between(17, 23.5))\n",
    "\n",
    "chi2_14, p_value_14, dof_14, expected_14 = chi2_contingency(contingency_table_14)\n",
    "\n",
    "print(\"Estadístic xi-quadrat entre AMB_PA i TOTAL:\", chi2_14)\n",
    "print(\"P-valor entre AMB_PA i TOTAL:\", p_value_14)\n",
    "\n",
    "if p_value_14 < 0.05:\n",
    "    print(\"Hi ha diferències significatives entre les distribucions de MNA en AMB_PA i TOTAL.\")\n",
    "else:\n",
    "    print(\"No hi ha diferències significatives entre les distribucions de MNA en AMB_PA i TOTAL.\")"
   ],
   "metadata": {
    "collapsed": false,
    "ExecuteTime": {
     "end_time": "2024-05-29T13:02:26.743629Z",
     "start_time": "2024-05-29T13:02:26.717132Z"
    }
   },
   "id": "f14343991cd5970",
   "outputs": [
    {
     "ename": "NameError",
     "evalue": "name 'pd' is not defined",
     "output_type": "error",
     "traceback": [
      "\u001B[1;31m---------------------------------------------------------------------------\u001B[0m",
      "\u001B[1;31mNameError\u001B[0m                                 Traceback (most recent call last)",
      "Cell \u001B[1;32mIn[54], line 1\u001B[0m\n\u001B[1;32m----> 1\u001B[0m contingency_table_14 \u001B[38;5;241m=\u001B[39m \u001B[43mpd\u001B[49m\u001B[38;5;241m.\u001B[39mcrosstab(index\u001B[38;5;241m=\u001B[39mAMB_PA[\u001B[38;5;124m'\u001B[39m\u001B[38;5;124mMNA resultats\u001B[39m\u001B[38;5;124m'\u001B[39m]\u001B[38;5;241m.\u001B[39mbetween(\u001B[38;5;241m17\u001B[39m, \u001B[38;5;241m23.5\u001B[39m), columns\u001B[38;5;241m=\u001B[39mTOTAL[\u001B[38;5;124m'\u001B[39m\u001B[38;5;124mMNA resultats\u001B[39m\u001B[38;5;124m'\u001B[39m]\u001B[38;5;241m.\u001B[39mbetween(\u001B[38;5;241m17\u001B[39m, \u001B[38;5;241m23.5\u001B[39m))\n\u001B[0;32m      3\u001B[0m chi2_14, p_value_14, dof_14, expected_14 \u001B[38;5;241m=\u001B[39m chi2_contingency(contingency_table_14)\n\u001B[0;32m      5\u001B[0m \u001B[38;5;28mprint\u001B[39m(\u001B[38;5;124m\"\u001B[39m\u001B[38;5;124mEstadístic xi-quadrat entre AMB_PA i TOTAL:\u001B[39m\u001B[38;5;124m\"\u001B[39m, chi2_14)\n",
      "\u001B[1;31mNameError\u001B[0m: name 'pd' is not defined"
     ]
    }
   ],
   "execution_count": 54
  },
  {
   "cell_type": "code",
   "source": [
    "contingency_table_24 = pd.crosstab(index=AMB_PA_MECVV['MNA resultats'].between(17, 23.5), columns=TOTAL['MNA resultats'].between(17, 23.5))\n",
    "\n",
    "chi2_24, p_value_24, dof_24, expected_24 = chi2_contingency(contingency_table_24)\n",
    "\n",
    "print(\"Estadístic xi-quadrat entre AMB_PA_MECVV i TOTAL:\", chi2_24)\n",
    "print(\"P-valor entre AMB_PA_MECVV i TOTAL:\", p_value_24)\n",
    "\n",
    "if p_value_24 < 0.05:\n",
    "    print(\"Hi ha diferències significatives entre les distribucions de MNA en AMB_PA_MECVV i TOTAL.\")\n",
    "else:\n",
    "    print(\"No hi ha diferències significatives entre les distribucions de MNA en AMB_PA_MECVV i TOTAL.\")"
   ],
   "metadata": {
    "collapsed": false,
    "ExecuteTime": {
     "end_time": "2024-05-29T13:02:27.641800Z",
     "start_time": "2024-05-29T13:02:27.617413Z"
    }
   },
   "id": "ee70d5a68d8bdf85",
   "outputs": [
    {
     "ename": "NameError",
     "evalue": "name 'pd' is not defined",
     "output_type": "error",
     "traceback": [
      "\u001B[1;31m---------------------------------------------------------------------------\u001B[0m",
      "\u001B[1;31mNameError\u001B[0m                                 Traceback (most recent call last)",
      "Cell \u001B[1;32mIn[55], line 1\u001B[0m\n\u001B[1;32m----> 1\u001B[0m contingency_table_24 \u001B[38;5;241m=\u001B[39m \u001B[43mpd\u001B[49m\u001B[38;5;241m.\u001B[39mcrosstab(index\u001B[38;5;241m=\u001B[39mAMB_PA_MECVV[\u001B[38;5;124m'\u001B[39m\u001B[38;5;124mMNA resultats\u001B[39m\u001B[38;5;124m'\u001B[39m]\u001B[38;5;241m.\u001B[39mbetween(\u001B[38;5;241m17\u001B[39m, \u001B[38;5;241m23.5\u001B[39m), columns\u001B[38;5;241m=\u001B[39mTOTAL[\u001B[38;5;124m'\u001B[39m\u001B[38;5;124mMNA resultats\u001B[39m\u001B[38;5;124m'\u001B[39m]\u001B[38;5;241m.\u001B[39mbetween(\u001B[38;5;241m17\u001B[39m, \u001B[38;5;241m23.5\u001B[39m))\n\u001B[0;32m      3\u001B[0m chi2_24, p_value_24, dof_24, expected_24 \u001B[38;5;241m=\u001B[39m chi2_contingency(contingency_table_24)\n\u001B[0;32m      5\u001B[0m \u001B[38;5;28mprint\u001B[39m(\u001B[38;5;124m\"\u001B[39m\u001B[38;5;124mEstadístic xi-quadrat entre AMB_PA_MECVV i TOTAL:\u001B[39m\u001B[38;5;124m\"\u001B[39m, chi2_24)\n",
      "\u001B[1;31mNameError\u001B[0m: name 'pd' is not defined"
     ]
    }
   ],
   "execution_count": 55
  },
  {
   "cell_type": "code",
   "source": [
    "contingency_table_34 = pd.crosstab(index=SENSE_PA['MNA resultats'].between(17, 23.5), columns=TOTAL['MNA resultats'].between(17, 23.5))\n",
    "\n",
    "chi2_34, p_value_34, dof_34, expected_34 = chi2_contingency(contingency_table_34)\n",
    "\n",
    "print(\"Estadístic xi-quadrat entre SENSE_PA i TOTAL:\", chi2_34)\n",
    "print(\"P-valor entre SENSE_PA i TOTAL:\", p_value_34)\n",
    "\n",
    "if p_value_34 < 0.05:\n",
    "    print(\"Hi ha diferències significatives entre les distribucions de MNA en SENSE_PA i TOTAL.\")\n",
    "else:\n",
    "    print(\"No hi ha diferències significatives entre les distribucions de MNA en SENSE_PA i TOTAL.\")"
   ],
   "metadata": {
    "collapsed": false,
    "ExecuteTime": {
     "end_time": "2024-05-29T13:02:28.238416Z",
     "start_time": "2024-05-29T13:02:28.212566Z"
    }
   },
   "id": "91df139eeb58b39b",
   "outputs": [
    {
     "ename": "NameError",
     "evalue": "name 'pd' is not defined",
     "output_type": "error",
     "traceback": [
      "\u001B[1;31m---------------------------------------------------------------------------\u001B[0m",
      "\u001B[1;31mNameError\u001B[0m                                 Traceback (most recent call last)",
      "Cell \u001B[1;32mIn[56], line 1\u001B[0m\n\u001B[1;32m----> 1\u001B[0m contingency_table_34 \u001B[38;5;241m=\u001B[39m \u001B[43mpd\u001B[49m\u001B[38;5;241m.\u001B[39mcrosstab(index\u001B[38;5;241m=\u001B[39mSENSE_PA[\u001B[38;5;124m'\u001B[39m\u001B[38;5;124mMNA resultats\u001B[39m\u001B[38;5;124m'\u001B[39m]\u001B[38;5;241m.\u001B[39mbetween(\u001B[38;5;241m17\u001B[39m, \u001B[38;5;241m23.5\u001B[39m), columns\u001B[38;5;241m=\u001B[39mTOTAL[\u001B[38;5;124m'\u001B[39m\u001B[38;5;124mMNA resultats\u001B[39m\u001B[38;5;124m'\u001B[39m]\u001B[38;5;241m.\u001B[39mbetween(\u001B[38;5;241m17\u001B[39m, \u001B[38;5;241m23.5\u001B[39m))\n\u001B[0;32m      3\u001B[0m chi2_34, p_value_34, dof_34, expected_34 \u001B[38;5;241m=\u001B[39m chi2_contingency(contingency_table_34)\n\u001B[0;32m      5\u001B[0m \u001B[38;5;28mprint\u001B[39m(\u001B[38;5;124m\"\u001B[39m\u001B[38;5;124mEstadístic xi-quadrat entre SENSE_PA i TOTAL:\u001B[39m\u001B[38;5;124m\"\u001B[39m, chi2_34)\n",
      "\u001B[1;31mNameError\u001B[0m: name 'pd' is not defined"
     ]
    }
   ],
   "execution_count": 56
  },
  {
   "cell_type": "markdown",
   "source": [
    "##### Malnutrició"
   ],
   "metadata": {
    "collapsed": false
   },
   "id": "a1cb8f07f51b4c99"
  },
  {
   "cell_type": "code",
   "source": [
    "contingency_table_12 = pd.crosstab(index=AMB_PA['MNA resultats'] < 17, columns=AMB_PA_MECVV['MNA resultats'] < 17)\n",
    "\n",
    "chi2_12, p_value_12, dof_12, expected_12 = chi2_contingency(contingency_table_12)\n",
    "\n",
    "print(\"Estadístic xi-quadrat entre AMB_PA i AMB_PA_MECVV:\", chi2_12)\n",
    "print(\"P-valor entre AMB_PA i AMB_PA_MECVV:\", p_value_12)\n",
    "\n",
    "if p_value_12 < 0.05:\n",
    "    print(\"Hi ha diferències significatives entre les distribucions de MNA en AMB_PA i AMB_PA_MECVV.\")\n",
    "else:\n",
    "    print(\"No hi ha diferències significatives entre les distribucions de MNA en AMB_PA i AMB_PA_MECVV.\")"
   ],
   "metadata": {
    "collapsed": false,
    "ExecuteTime": {
     "end_time": "2024-05-29T13:02:28.935276Z",
     "start_time": "2024-05-29T13:02:28.910790Z"
    }
   },
   "id": "c2774723f40d6461",
   "outputs": [
    {
     "ename": "NameError",
     "evalue": "name 'pd' is not defined",
     "output_type": "error",
     "traceback": [
      "\u001B[1;31m---------------------------------------------------------------------------\u001B[0m",
      "\u001B[1;31mNameError\u001B[0m                                 Traceback (most recent call last)",
      "Cell \u001B[1;32mIn[57], line 1\u001B[0m\n\u001B[1;32m----> 1\u001B[0m contingency_table_12 \u001B[38;5;241m=\u001B[39m \u001B[43mpd\u001B[49m\u001B[38;5;241m.\u001B[39mcrosstab(index\u001B[38;5;241m=\u001B[39mAMB_PA[\u001B[38;5;124m'\u001B[39m\u001B[38;5;124mMNA resultats\u001B[39m\u001B[38;5;124m'\u001B[39m] \u001B[38;5;241m<\u001B[39m \u001B[38;5;241m17\u001B[39m, columns\u001B[38;5;241m=\u001B[39mAMB_PA_MECVV[\u001B[38;5;124m'\u001B[39m\u001B[38;5;124mMNA resultats\u001B[39m\u001B[38;5;124m'\u001B[39m] \u001B[38;5;241m<\u001B[39m \u001B[38;5;241m17\u001B[39m)\n\u001B[0;32m      3\u001B[0m chi2_12, p_value_12, dof_12, expected_12 \u001B[38;5;241m=\u001B[39m chi2_contingency(contingency_table_12)\n\u001B[0;32m      5\u001B[0m \u001B[38;5;28mprint\u001B[39m(\u001B[38;5;124m\"\u001B[39m\u001B[38;5;124mEstadístic xi-quadrat entre AMB_PA i AMB_PA_MECVV:\u001B[39m\u001B[38;5;124m\"\u001B[39m, chi2_12)\n",
      "\u001B[1;31mNameError\u001B[0m: name 'pd' is not defined"
     ]
    }
   ],
   "execution_count": 57
  },
  {
   "cell_type": "code",
   "source": [
    "contingency_table_13 = pd.crosstab(index=AMB_PA['MNA resultats'] < 17, columns=SENSE_PA['MNA resultats'] < 17)\n",
    "\n",
    "chi2_13, p_value_13, dof_13, expected_13 = chi2_contingency(contingency_table_13)\n",
    "\n",
    "print(\"Estadístic xi-quadrat entre AMB_PA i SENSE_PA:\", chi2_13)\n",
    "print(\"P-valor entre AMB_PA i SENSE_PA:\", p_value_13)\n",
    "\n",
    "if p_value_13 < 0.05:\n",
    "    print(\"Hi ha diferències significatives entre les distribucions de MNA en AMB_PA i SENSE_PA.\")\n",
    "else:\n",
    "    print(\"No hi ha diferències significatives entre les distribucions de MNA en AMB_PA i SENSE_PA.\")"
   ],
   "metadata": {
    "collapsed": false,
    "ExecuteTime": {
     "end_time": "2024-05-29T13:02:29.388644Z",
     "start_time": "2024-05-29T13:02:29.361474Z"
    }
   },
   "id": "2a6aa2d700fe116b",
   "outputs": [
    {
     "ename": "NameError",
     "evalue": "name 'pd' is not defined",
     "output_type": "error",
     "traceback": [
      "\u001B[1;31m---------------------------------------------------------------------------\u001B[0m",
      "\u001B[1;31mNameError\u001B[0m                                 Traceback (most recent call last)",
      "Cell \u001B[1;32mIn[58], line 1\u001B[0m\n\u001B[1;32m----> 1\u001B[0m contingency_table_13 \u001B[38;5;241m=\u001B[39m \u001B[43mpd\u001B[49m\u001B[38;5;241m.\u001B[39mcrosstab(index\u001B[38;5;241m=\u001B[39mAMB_PA[\u001B[38;5;124m'\u001B[39m\u001B[38;5;124mMNA resultats\u001B[39m\u001B[38;5;124m'\u001B[39m] \u001B[38;5;241m<\u001B[39m \u001B[38;5;241m17\u001B[39m, columns\u001B[38;5;241m=\u001B[39mSENSE_PA[\u001B[38;5;124m'\u001B[39m\u001B[38;5;124mMNA resultats\u001B[39m\u001B[38;5;124m'\u001B[39m] \u001B[38;5;241m<\u001B[39m \u001B[38;5;241m17\u001B[39m)\n\u001B[0;32m      3\u001B[0m chi2_13, p_value_13, dof_13, expected_13 \u001B[38;5;241m=\u001B[39m chi2_contingency(contingency_table_13)\n\u001B[0;32m      5\u001B[0m \u001B[38;5;28mprint\u001B[39m(\u001B[38;5;124m\"\u001B[39m\u001B[38;5;124mEstadístic xi-quadrat entre AMB_PA i SENSE_PA:\u001B[39m\u001B[38;5;124m\"\u001B[39m, chi2_13)\n",
      "\u001B[1;31mNameError\u001B[0m: name 'pd' is not defined"
     ]
    }
   ],
   "execution_count": 58
  },
  {
   "cell_type": "code",
   "source": [
    "contingency_table_23 = pd.crosstab(index=AMB_PA_MECVV['MNA resultats'] < 17, columns=SENSE_PA['MNA resultats'] < 17)\n",
    "\n",
    "chi2_23, p_value_23, dof_23, expected_23 = chi2_contingency(contingency_table_23)\n",
    "\n",
    "print(\"Estadístic xi-quadrat entre AMB_PA_MECVV i SENSE_PA:\", chi2_23)\n",
    "print(\"P-valor entre AMB_PA_MECVV i SENSE_PA:\", p_value_23)\n",
    "\n",
    "if p_value_23 < 0.05:\n",
    "    print(\"Hi ha diferències significatives entre les distribucions de MNA en AMB_PA_MECVV i SENSE_PA.\")\n",
    "else:\n",
    "    print(\"No hi ha diferències significatives entre les distribucions de MNA en AMB_PA_MECVV i SENSE_PA.\")"
   ],
   "metadata": {
    "collapsed": false,
    "ExecuteTime": {
     "end_time": "2024-05-29T13:02:30.817835Z",
     "start_time": "2024-05-29T13:02:30.788458Z"
    }
   },
   "id": "1ece37670d50ebf3",
   "outputs": [
    {
     "ename": "NameError",
     "evalue": "name 'pd' is not defined",
     "output_type": "error",
     "traceback": [
      "\u001B[1;31m---------------------------------------------------------------------------\u001B[0m",
      "\u001B[1;31mNameError\u001B[0m                                 Traceback (most recent call last)",
      "Cell \u001B[1;32mIn[59], line 1\u001B[0m\n\u001B[1;32m----> 1\u001B[0m contingency_table_23 \u001B[38;5;241m=\u001B[39m \u001B[43mpd\u001B[49m\u001B[38;5;241m.\u001B[39mcrosstab(index\u001B[38;5;241m=\u001B[39mAMB_PA_MECVV[\u001B[38;5;124m'\u001B[39m\u001B[38;5;124mMNA resultats\u001B[39m\u001B[38;5;124m'\u001B[39m] \u001B[38;5;241m<\u001B[39m \u001B[38;5;241m17\u001B[39m, columns\u001B[38;5;241m=\u001B[39mSENSE_PA[\u001B[38;5;124m'\u001B[39m\u001B[38;5;124mMNA resultats\u001B[39m\u001B[38;5;124m'\u001B[39m] \u001B[38;5;241m<\u001B[39m \u001B[38;5;241m17\u001B[39m)\n\u001B[0;32m      3\u001B[0m chi2_23, p_value_23, dof_23, expected_23 \u001B[38;5;241m=\u001B[39m chi2_contingency(contingency_table_23)\n\u001B[0;32m      5\u001B[0m \u001B[38;5;28mprint\u001B[39m(\u001B[38;5;124m\"\u001B[39m\u001B[38;5;124mEstadístic xi-quadrat entre AMB_PA_MECVV i SENSE_PA:\u001B[39m\u001B[38;5;124m\"\u001B[39m, chi2_23)\n",
      "\u001B[1;31mNameError\u001B[0m: name 'pd' is not defined"
     ]
    }
   ],
   "execution_count": 59
  },
  {
   "cell_type": "code",
   "source": [
    "contingency_table_14 = pd.crosstab(index=AMB_PA['MNA resultats'] < 17, columns=TOTAL['MNA resultats'] < 17)\n",
    "\n",
    "chi2_14, p_value_14, dof_14, expected_14 = chi2_contingency(contingency_table_14)\n",
    "\n",
    "print(\"Estadístic xi-quadrat entre AMB_PA i TOTAL:\", chi2_14)\n",
    "print(\"P-valor entre AMB_PA i TOTAL:\", p_value_14)\n",
    "\n",
    "if p_value_14 < 0.05:\n",
    "    print(\"Hi ha diferències significatives entre les distribucions de MNA en AMB_PA i TOTAL.\")\n",
    "else:\n",
    "    print(\"No hi ha diferències significatives entre les distribucions de MNA en AMB_PA i TOTAL.\")"
   ],
   "metadata": {
    "collapsed": false,
    "ExecuteTime": {
     "end_time": "2024-05-29T13:02:32.188827Z",
     "start_time": "2024-05-29T13:02:32.161670Z"
    }
   },
   "id": "435d90b38080687b",
   "outputs": [
    {
     "ename": "NameError",
     "evalue": "name 'pd' is not defined",
     "output_type": "error",
     "traceback": [
      "\u001B[1;31m---------------------------------------------------------------------------\u001B[0m",
      "\u001B[1;31mNameError\u001B[0m                                 Traceback (most recent call last)",
      "Cell \u001B[1;32mIn[60], line 1\u001B[0m\n\u001B[1;32m----> 1\u001B[0m contingency_table_14 \u001B[38;5;241m=\u001B[39m \u001B[43mpd\u001B[49m\u001B[38;5;241m.\u001B[39mcrosstab(index\u001B[38;5;241m=\u001B[39mAMB_PA[\u001B[38;5;124m'\u001B[39m\u001B[38;5;124mMNA resultats\u001B[39m\u001B[38;5;124m'\u001B[39m] \u001B[38;5;241m<\u001B[39m \u001B[38;5;241m17\u001B[39m, columns\u001B[38;5;241m=\u001B[39mTOTAL[\u001B[38;5;124m'\u001B[39m\u001B[38;5;124mMNA resultats\u001B[39m\u001B[38;5;124m'\u001B[39m] \u001B[38;5;241m<\u001B[39m \u001B[38;5;241m17\u001B[39m)\n\u001B[0;32m      3\u001B[0m chi2_14, p_value_14, dof_14, expected_14 \u001B[38;5;241m=\u001B[39m chi2_contingency(contingency_table_14)\n\u001B[0;32m      5\u001B[0m \u001B[38;5;28mprint\u001B[39m(\u001B[38;5;124m\"\u001B[39m\u001B[38;5;124mEstadístic xi-quadrat entre AMB_PA i TOTAL:\u001B[39m\u001B[38;5;124m\"\u001B[39m, chi2_14)\n",
      "\u001B[1;31mNameError\u001B[0m: name 'pd' is not defined"
     ]
    }
   ],
   "execution_count": 60
  },
  {
   "cell_type": "code",
   "source": [
    "contingency_table_24 = pd.crosstab(index=AMB_PA_MECVV['MNA resultats'] < 17, columns=TOTAL['MNA resultats'] < 17)\n",
    "\n",
    "chi2_24, p_value_24, dof_24, expected_24 = chi2_contingency(contingency_table_24)\n",
    "\n",
    "print(\"Estadístic xi-quadrat entre AMB_PA_MECVV i TOTAL:\", chi2_24)\n",
    "print(\"P-valor entre AMB_PA_MECVV i TOTAL:\", p_value_24)\n",
    "\n",
    "if p_value_24 < 0.05:\n",
    "    print(\"Hi ha diferències significatives entre les distribucions de MNA en AMB_PA_MECVV i TOTAL.\")\n",
    "else:\n",
    "    print(\"No hi ha diferències significatives entre les distribucions de MNA en AMB_PA_MECVV i TOTAL.\")"
   ],
   "metadata": {
    "collapsed": false,
    "ExecuteTime": {
     "end_time": "2024-05-29T13:02:32.925994Z",
     "start_time": "2024-05-29T13:02:32.891826Z"
    }
   },
   "id": "92c28e5e679a5d98",
   "outputs": [
    {
     "ename": "NameError",
     "evalue": "name 'pd' is not defined",
     "output_type": "error",
     "traceback": [
      "\u001B[1;31m---------------------------------------------------------------------------\u001B[0m",
      "\u001B[1;31mNameError\u001B[0m                                 Traceback (most recent call last)",
      "Cell \u001B[1;32mIn[61], line 1\u001B[0m\n\u001B[1;32m----> 1\u001B[0m contingency_table_24 \u001B[38;5;241m=\u001B[39m \u001B[43mpd\u001B[49m\u001B[38;5;241m.\u001B[39mcrosstab(index\u001B[38;5;241m=\u001B[39mAMB_PA_MECVV[\u001B[38;5;124m'\u001B[39m\u001B[38;5;124mMNA resultats\u001B[39m\u001B[38;5;124m'\u001B[39m] \u001B[38;5;241m<\u001B[39m \u001B[38;5;241m17\u001B[39m, columns\u001B[38;5;241m=\u001B[39mTOTAL[\u001B[38;5;124m'\u001B[39m\u001B[38;5;124mMNA resultats\u001B[39m\u001B[38;5;124m'\u001B[39m] \u001B[38;5;241m<\u001B[39m \u001B[38;5;241m17\u001B[39m)\n\u001B[0;32m      3\u001B[0m chi2_24, p_value_24, dof_24, expected_24 \u001B[38;5;241m=\u001B[39m chi2_contingency(contingency_table_24)\n\u001B[0;32m      5\u001B[0m \u001B[38;5;28mprint\u001B[39m(\u001B[38;5;124m\"\u001B[39m\u001B[38;5;124mEstadístic xi-quadrat entre AMB_PA_MECVV i TOTAL:\u001B[39m\u001B[38;5;124m\"\u001B[39m, chi2_24)\n",
      "\u001B[1;31mNameError\u001B[0m: name 'pd' is not defined"
     ]
    }
   ],
   "execution_count": 61
  },
  {
   "cell_type": "code",
   "source": [
    "contingency_table_34 = pd.crosstab(index=SENSE_PA['MNA resultats'] < 17, columns=TOTAL['MNA resultats'] < 17)\n",
    "\n",
    "chi2_34, p_value_34, dof_34, expected_34 = chi2_contingency(contingency_table_34)\n",
    "\n",
    "print(\"Estadístic xi-quadrat entre SENSE_PA i TOTAL:\", chi2_34)\n",
    "print(\"P-valor entre SENSE_PA i TOTAL:\", p_value_34)\n",
    "\n",
    "if p_value_34 < 0.05:\n",
    "    print(\"Hi ha diferències significatives entre les distribucions de MNA en SENSE_PA i TOTAL.\")\n",
    "else:\n",
    "    print(\"No hi ha diferències significatives entre les distribucions de MNA en SENSE_PA i TOTAL.\")"
   ],
   "metadata": {
    "collapsed": false,
    "ExecuteTime": {
     "end_time": "2024-05-29T13:02:33.946985Z",
     "start_time": "2024-05-29T13:02:33.911220Z"
    }
   },
   "id": "4e6244cdf49ab839",
   "outputs": [
    {
     "ename": "NameError",
     "evalue": "name 'pd' is not defined",
     "output_type": "error",
     "traceback": [
      "\u001B[1;31m---------------------------------------------------------------------------\u001B[0m",
      "\u001B[1;31mNameError\u001B[0m                                 Traceback (most recent call last)",
      "Cell \u001B[1;32mIn[62], line 1\u001B[0m\n\u001B[1;32m----> 1\u001B[0m contingency_table_34 \u001B[38;5;241m=\u001B[39m \u001B[43mpd\u001B[49m\u001B[38;5;241m.\u001B[39mcrosstab(index\u001B[38;5;241m=\u001B[39mSENSE_PA[\u001B[38;5;124m'\u001B[39m\u001B[38;5;124mMNA resultats\u001B[39m\u001B[38;5;124m'\u001B[39m] \u001B[38;5;241m<\u001B[39m \u001B[38;5;241m17\u001B[39m, columns\u001B[38;5;241m=\u001B[39mTOTAL[\u001B[38;5;124m'\u001B[39m\u001B[38;5;124mMNA resultats\u001B[39m\u001B[38;5;124m'\u001B[39m] \u001B[38;5;241m<\u001B[39m \u001B[38;5;241m17\u001B[39m)\n\u001B[0;32m      3\u001B[0m chi2_34, p_value_34, dof_34, expected_34 \u001B[38;5;241m=\u001B[39m chi2_contingency(contingency_table_34)\n\u001B[0;32m      5\u001B[0m \u001B[38;5;28mprint\u001B[39m(\u001B[38;5;124m\"\u001B[39m\u001B[38;5;124mEstadístic xi-quadrat entre SENSE_PA i TOTAL:\u001B[39m\u001B[38;5;124m\"\u001B[39m, chi2_34)\n",
      "\u001B[1;31mNameError\u001B[0m: name 'pd' is not defined"
     ]
    }
   ],
   "execution_count": 62
  },
  {
   "cell_type": "markdown",
   "source": [
    "## Index de l'EMINA"
   ],
   "metadata": {
    "collapsed": false
   },
   "id": "a9584ed92bbdf853"
  },
  {
   "cell_type": "markdown",
   "source": [
    "### Mitjana"
   ],
   "metadata": {
    "collapsed": false
   },
   "id": "2226cc66d6107574"
  },
  {
   "cell_type": "code",
   "source": [
    "Mitjana_emina = AMB_PA['EMINA sumatoris comparats'].mean()\n",
    "desviacio_estandard_emina = AMB_PA['EMINA sumatoris comparats'].std()\n",
    "\n",
    "resultat = f\"{Mitjana_emina:.2f} ± {desviacio_estandard_emina:.2f}\"\n",
    "print(\"Mitjana ± Desviació Estàndard de l'emina:\", resultat)"
   ],
   "metadata": {
    "collapsed": false,
    "ExecuteTime": {
     "end_time": "2024-05-29T13:02:34.671810Z",
     "start_time": "2024-05-29T13:02:34.647681Z"
    }
   },
   "id": "b73a7ddfbfc5179e",
   "outputs": [
    {
     "ename": "NameError",
     "evalue": "name 'AMB_PA' is not defined",
     "output_type": "error",
     "traceback": [
      "\u001B[1;31m---------------------------------------------------------------------------\u001B[0m",
      "\u001B[1;31mNameError\u001B[0m                                 Traceback (most recent call last)",
      "Cell \u001B[1;32mIn[63], line 1\u001B[0m\n\u001B[1;32m----> 1\u001B[0m Mitjana_emina \u001B[38;5;241m=\u001B[39m \u001B[43mAMB_PA\u001B[49m[\u001B[38;5;124m'\u001B[39m\u001B[38;5;124mEMINA sumatoris comparats\u001B[39m\u001B[38;5;124m'\u001B[39m]\u001B[38;5;241m.\u001B[39mmean()\n\u001B[0;32m      2\u001B[0m desviacio_estandard_emina \u001B[38;5;241m=\u001B[39m AMB_PA[\u001B[38;5;124m'\u001B[39m\u001B[38;5;124mEMINA sumatoris comparats\u001B[39m\u001B[38;5;124m'\u001B[39m]\u001B[38;5;241m.\u001B[39mstd()\n\u001B[0;32m      4\u001B[0m resultat \u001B[38;5;241m=\u001B[39m \u001B[38;5;124mf\u001B[39m\u001B[38;5;124m\"\u001B[39m\u001B[38;5;132;01m{\u001B[39;00mMitjana_emina\u001B[38;5;132;01m:\u001B[39;00m\u001B[38;5;124m.2f\u001B[39m\u001B[38;5;132;01m}\u001B[39;00m\u001B[38;5;124m ± \u001B[39m\u001B[38;5;132;01m{\u001B[39;00mdesviacio_estandard_emina\u001B[38;5;132;01m:\u001B[39;00m\u001B[38;5;124m.2f\u001B[39m\u001B[38;5;132;01m}\u001B[39;00m\u001B[38;5;124m\"\u001B[39m\n",
      "\u001B[1;31mNameError\u001B[0m: name 'AMB_PA' is not defined"
     ]
    }
   ],
   "execution_count": 63
  },
  {
   "cell_type": "code",
   "source": [
    "Mitjana_emina = AMB_PA_MECVV['EMINA sumatoris comparats'].mean()\n",
    "desviacio_estandard_emina = AMB_PA_MECVV['EMINA sumatoris comparats'].std()\n",
    "\n",
    "resultat = f\"{Mitjana_emina:.2f} ± {desviacio_estandard_emina:.2f}\"\n",
    "print(\"Mitjana ± Desviació Estàndard de l'emina:\", resultat)"
   ],
   "metadata": {
    "collapsed": false,
    "ExecuteTime": {
     "end_time": "2024-05-29T13:02:35.562466Z",
     "start_time": "2024-05-29T13:02:35.539021Z"
    }
   },
   "id": "20757f889aae560f",
   "outputs": [
    {
     "ename": "NameError",
     "evalue": "name 'AMB_PA_MECVV' is not defined",
     "output_type": "error",
     "traceback": [
      "\u001B[1;31m---------------------------------------------------------------------------\u001B[0m",
      "\u001B[1;31mNameError\u001B[0m                                 Traceback (most recent call last)",
      "Cell \u001B[1;32mIn[64], line 1\u001B[0m\n\u001B[1;32m----> 1\u001B[0m Mitjana_emina \u001B[38;5;241m=\u001B[39m \u001B[43mAMB_PA_MECVV\u001B[49m[\u001B[38;5;124m'\u001B[39m\u001B[38;5;124mEMINA sumatoris comparats\u001B[39m\u001B[38;5;124m'\u001B[39m]\u001B[38;5;241m.\u001B[39mmean()\n\u001B[0;32m      2\u001B[0m desviacio_estandard_emina \u001B[38;5;241m=\u001B[39m AMB_PA_MECVV[\u001B[38;5;124m'\u001B[39m\u001B[38;5;124mEMINA sumatoris comparats\u001B[39m\u001B[38;5;124m'\u001B[39m]\u001B[38;5;241m.\u001B[39mstd()\n\u001B[0;32m      4\u001B[0m resultat \u001B[38;5;241m=\u001B[39m \u001B[38;5;124mf\u001B[39m\u001B[38;5;124m\"\u001B[39m\u001B[38;5;132;01m{\u001B[39;00mMitjana_emina\u001B[38;5;132;01m:\u001B[39;00m\u001B[38;5;124m.2f\u001B[39m\u001B[38;5;132;01m}\u001B[39;00m\u001B[38;5;124m ± \u001B[39m\u001B[38;5;132;01m{\u001B[39;00mdesviacio_estandard_emina\u001B[38;5;132;01m:\u001B[39;00m\u001B[38;5;124m.2f\u001B[39m\u001B[38;5;132;01m}\u001B[39;00m\u001B[38;5;124m\"\u001B[39m\n",
      "\u001B[1;31mNameError\u001B[0m: name 'AMB_PA_MECVV' is not defined"
     ]
    }
   ],
   "execution_count": 64
  },
  {
   "cell_type": "code",
   "source": [
    "Mitjana_emina = SENSE_PA['EMINA sumatoris comparats'].mean()\n",
    "desviacio_estandard_emina = SENSE_PA['EMINA sumatoris comparats'].std()\n",
    "\n",
    "resultat = f\"{Mitjana_emina:.2f} ± {desviacio_estandard_emina:.2f}\"\n",
    "print(\"Mitjana ± Desviació Estàndard de l'emina:\", resultat)"
   ],
   "metadata": {
    "collapsed": false,
    "ExecuteTime": {
     "end_time": "2024-05-29T13:02:36.677363Z",
     "start_time": "2024-05-29T13:02:36.657097Z"
    }
   },
   "id": "a6badf50b38cc370",
   "outputs": [
    {
     "ename": "NameError",
     "evalue": "name 'SENSE_PA' is not defined",
     "output_type": "error",
     "traceback": [
      "\u001B[1;31m---------------------------------------------------------------------------\u001B[0m",
      "\u001B[1;31mNameError\u001B[0m                                 Traceback (most recent call last)",
      "Cell \u001B[1;32mIn[65], line 1\u001B[0m\n\u001B[1;32m----> 1\u001B[0m Mitjana_emina \u001B[38;5;241m=\u001B[39m \u001B[43mSENSE_PA\u001B[49m[\u001B[38;5;124m'\u001B[39m\u001B[38;5;124mEMINA sumatoris comparats\u001B[39m\u001B[38;5;124m'\u001B[39m]\u001B[38;5;241m.\u001B[39mmean()\n\u001B[0;32m      2\u001B[0m desviacio_estandard_emina \u001B[38;5;241m=\u001B[39m SENSE_PA[\u001B[38;5;124m'\u001B[39m\u001B[38;5;124mEMINA sumatoris comparats\u001B[39m\u001B[38;5;124m'\u001B[39m]\u001B[38;5;241m.\u001B[39mstd()\n\u001B[0;32m      4\u001B[0m resultat \u001B[38;5;241m=\u001B[39m \u001B[38;5;124mf\u001B[39m\u001B[38;5;124m\"\u001B[39m\u001B[38;5;132;01m{\u001B[39;00mMitjana_emina\u001B[38;5;132;01m:\u001B[39;00m\u001B[38;5;124m.2f\u001B[39m\u001B[38;5;132;01m}\u001B[39;00m\u001B[38;5;124m ± \u001B[39m\u001B[38;5;132;01m{\u001B[39;00mdesviacio_estandard_emina\u001B[38;5;132;01m:\u001B[39;00m\u001B[38;5;124m.2f\u001B[39m\u001B[38;5;132;01m}\u001B[39;00m\u001B[38;5;124m\"\u001B[39m\n",
      "\u001B[1;31mNameError\u001B[0m: name 'SENSE_PA' is not defined"
     ]
    }
   ],
   "execution_count": 65
  },
  {
   "cell_type": "code",
   "source": [
    "Mitjana_emina = TOTAL['EMINA sumatoris comparats'].mean()\n",
    "desviacio_estandard_emina = TOTAL['EMINA sumatoris comparats'].std()\n",
    "\n",
    "resultat = f\"{Mitjana_emina:.2f} ± {desviacio_estandard_emina:.2f}\"\n",
    "print(\"Mitjana ± Desviació Estàndard de l'emina:\", resultat)"
   ],
   "metadata": {
    "collapsed": false,
    "ExecuteTime": {
     "end_time": "2024-05-29T13:02:37.407760Z",
     "start_time": "2024-05-29T13:02:37.373280Z"
    }
   },
   "id": "bb2c98736326efe9",
   "outputs": [
    {
     "ename": "NameError",
     "evalue": "name 'TOTAL' is not defined",
     "output_type": "error",
     "traceback": [
      "\u001B[1;31m---------------------------------------------------------------------------\u001B[0m",
      "\u001B[1;31mNameError\u001B[0m                                 Traceback (most recent call last)",
      "Cell \u001B[1;32mIn[66], line 1\u001B[0m\n\u001B[1;32m----> 1\u001B[0m Mitjana_emina \u001B[38;5;241m=\u001B[39m \u001B[43mTOTAL\u001B[49m[\u001B[38;5;124m'\u001B[39m\u001B[38;5;124mEMINA sumatoris comparats\u001B[39m\u001B[38;5;124m'\u001B[39m]\u001B[38;5;241m.\u001B[39mmean()\n\u001B[0;32m      2\u001B[0m desviacio_estandard_emina \u001B[38;5;241m=\u001B[39m TOTAL[\u001B[38;5;124m'\u001B[39m\u001B[38;5;124mEMINA sumatoris comparats\u001B[39m\u001B[38;5;124m'\u001B[39m]\u001B[38;5;241m.\u001B[39mstd()\n\u001B[0;32m      4\u001B[0m resultat \u001B[38;5;241m=\u001B[39m \u001B[38;5;124mf\u001B[39m\u001B[38;5;124m\"\u001B[39m\u001B[38;5;132;01m{\u001B[39;00mMitjana_emina\u001B[38;5;132;01m:\u001B[39;00m\u001B[38;5;124m.2f\u001B[39m\u001B[38;5;132;01m}\u001B[39;00m\u001B[38;5;124m ± \u001B[39m\u001B[38;5;132;01m{\u001B[39;00mdesviacio_estandard_emina\u001B[38;5;132;01m:\u001B[39;00m\u001B[38;5;124m.2f\u001B[39m\u001B[38;5;132;01m}\u001B[39;00m\u001B[38;5;124m\"\u001B[39m\n",
      "\u001B[1;31mNameError\u001B[0m: name 'TOTAL' is not defined"
     ]
    }
   ],
   "execution_count": 66
  },
  {
   "cell_type": "markdown",
   "source": [
    "#### Comparació distributiva"
   ],
   "metadata": {
    "collapsed": false
   },
   "id": "91e1155053eed6eb"
  },
  {
   "cell_type": "markdown",
   "source": [
    "##### Normalitat i p-valor"
   ],
   "metadata": {
    "collapsed": false
   },
   "id": "582955541698492a"
  },
  {
   "cell_type": "markdown",
   "source": [
    "NORMALITAT: Tots els grups segueixen una distribució normal"
   ],
   "metadata": {
    "collapsed": false
   },
   "id": "f08afebeee091e2a"
  },
  {
   "cell_type": "code",
   "source": [
    "t_stat_12, p_val_12 = ttest_ind(AMB_PA['EMINA sumatoris comparats'], AMB_PA_MECVV['EMINA sumatoris comparats'], equal_var=False)\n",
    "print(\"P-valor entre AMB_PA i AMB_PA_MECVV:\", p_val_12)"
   ],
   "metadata": {
    "collapsed": false,
    "ExecuteTime": {
     "end_time": "2024-05-29T13:02:38.249738Z",
     "start_time": "2024-05-29T13:02:38.228786Z"
    }
   },
   "id": "f1106c4312d9cef9",
   "outputs": [
    {
     "ename": "NameError",
     "evalue": "name 'ttest_ind' is not defined",
     "output_type": "error",
     "traceback": [
      "\u001B[1;31m---------------------------------------------------------------------------\u001B[0m",
      "\u001B[1;31mNameError\u001B[0m                                 Traceback (most recent call last)",
      "Cell \u001B[1;32mIn[67], line 1\u001B[0m\n\u001B[1;32m----> 1\u001B[0m t_stat_12, p_val_12 \u001B[38;5;241m=\u001B[39m \u001B[43mttest_ind\u001B[49m(AMB_PA[\u001B[38;5;124m'\u001B[39m\u001B[38;5;124mEMINA sumatoris comparats\u001B[39m\u001B[38;5;124m'\u001B[39m], AMB_PA_MECVV[\u001B[38;5;124m'\u001B[39m\u001B[38;5;124mEMINA sumatoris comparats\u001B[39m\u001B[38;5;124m'\u001B[39m], equal_var\u001B[38;5;241m=\u001B[39m\u001B[38;5;28;01mFalse\u001B[39;00m)\n\u001B[0;32m      2\u001B[0m \u001B[38;5;28mprint\u001B[39m(\u001B[38;5;124m\"\u001B[39m\u001B[38;5;124mP-valor entre AMB_PA i AMB_PA_MECVV:\u001B[39m\u001B[38;5;124m\"\u001B[39m, p_val_12)\n",
      "\u001B[1;31mNameError\u001B[0m: name 'ttest_ind' is not defined"
     ]
    }
   ],
   "execution_count": 67
  },
  {
   "cell_type": "code",
   "source": [
    "t_stat_13, p_val_13 = ttest_ind(AMB_PA['EMINA sumatoris comparats'], SENSE_PA['EMINA sumatoris comparats'], equal_var=False)\n",
    "print(\"P-valor entre AMB_PA i SENSE_PA:\", p_val_13)"
   ],
   "metadata": {
    "collapsed": false,
    "ExecuteTime": {
     "end_time": "2024-05-29T13:02:38.817979Z",
     "start_time": "2024-05-29T13:02:38.796927Z"
    }
   },
   "id": "9771c863223f07",
   "outputs": [
    {
     "ename": "NameError",
     "evalue": "name 'ttest_ind' is not defined",
     "output_type": "error",
     "traceback": [
      "\u001B[1;31m---------------------------------------------------------------------------\u001B[0m",
      "\u001B[1;31mNameError\u001B[0m                                 Traceback (most recent call last)",
      "Cell \u001B[1;32mIn[68], line 1\u001B[0m\n\u001B[1;32m----> 1\u001B[0m t_stat_13, p_val_13 \u001B[38;5;241m=\u001B[39m \u001B[43mttest_ind\u001B[49m(AMB_PA[\u001B[38;5;124m'\u001B[39m\u001B[38;5;124mEMINA sumatoris comparats\u001B[39m\u001B[38;5;124m'\u001B[39m], SENSE_PA[\u001B[38;5;124m'\u001B[39m\u001B[38;5;124mEMINA sumatoris comparats\u001B[39m\u001B[38;5;124m'\u001B[39m], equal_var\u001B[38;5;241m=\u001B[39m\u001B[38;5;28;01mFalse\u001B[39;00m)\n\u001B[0;32m      2\u001B[0m \u001B[38;5;28mprint\u001B[39m(\u001B[38;5;124m\"\u001B[39m\u001B[38;5;124mP-valor entre AMB_PA i SENSE_PA:\u001B[39m\u001B[38;5;124m\"\u001B[39m, p_val_13)\n",
      "\u001B[1;31mNameError\u001B[0m: name 'ttest_ind' is not defined"
     ]
    }
   ],
   "execution_count": 68
  },
  {
   "cell_type": "code",
   "source": [
    "t_stat_23, p_val_23 = ttest_ind(AMB_PA_MECVV['EMINA sumatoris comparats'], SENSE_PA['EMINA sumatoris comparats'], equal_var=False)\n",
    "print(\"P-valor entre AMB_PA_MECVV i SENSE_PA:\", p_val_23)"
   ],
   "metadata": {
    "collapsed": false,
    "ExecuteTime": {
     "end_time": "2024-05-29T13:02:39.807771Z",
     "start_time": "2024-05-29T13:02:39.781528Z"
    }
   },
   "id": "4f63bea0ef204c0e",
   "outputs": [
    {
     "ename": "NameError",
     "evalue": "name 'ttest_ind' is not defined",
     "output_type": "error",
     "traceback": [
      "\u001B[1;31m---------------------------------------------------------------------------\u001B[0m",
      "\u001B[1;31mNameError\u001B[0m                                 Traceback (most recent call last)",
      "Cell \u001B[1;32mIn[69], line 1\u001B[0m\n\u001B[1;32m----> 1\u001B[0m t_stat_23, p_val_23 \u001B[38;5;241m=\u001B[39m \u001B[43mttest_ind\u001B[49m(AMB_PA_MECVV[\u001B[38;5;124m'\u001B[39m\u001B[38;5;124mEMINA sumatoris comparats\u001B[39m\u001B[38;5;124m'\u001B[39m], SENSE_PA[\u001B[38;5;124m'\u001B[39m\u001B[38;5;124mEMINA sumatoris comparats\u001B[39m\u001B[38;5;124m'\u001B[39m], equal_var\u001B[38;5;241m=\u001B[39m\u001B[38;5;28;01mFalse\u001B[39;00m)\n\u001B[0;32m      2\u001B[0m \u001B[38;5;28mprint\u001B[39m(\u001B[38;5;124m\"\u001B[39m\u001B[38;5;124mP-valor entre AMB_PA_MECVV i SENSE_PA:\u001B[39m\u001B[38;5;124m\"\u001B[39m, p_val_23)\n",
      "\u001B[1;31mNameError\u001B[0m: name 'ttest_ind' is not defined"
     ]
    }
   ],
   "execution_count": 69
  },
  {
   "cell_type": "code",
   "source": [
    "t_stat_14, p_val_14 = ttest_ind(AMB_PA['EMINA sumatoris comparats'], TOTAL['EMINA sumatoris comparats'], equal_var=False)\n",
    "print(\"P-valor entre AMB_PA i TOTAL:\", p_val_14)"
   ],
   "metadata": {
    "collapsed": false,
    "ExecuteTime": {
     "end_time": "2024-05-29T13:02:40.504111Z",
     "start_time": "2024-05-29T13:02:40.478920Z"
    }
   },
   "id": "f80e449f6434872",
   "outputs": [
    {
     "ename": "NameError",
     "evalue": "name 'ttest_ind' is not defined",
     "output_type": "error",
     "traceback": [
      "\u001B[1;31m---------------------------------------------------------------------------\u001B[0m",
      "\u001B[1;31mNameError\u001B[0m                                 Traceback (most recent call last)",
      "Cell \u001B[1;32mIn[70], line 1\u001B[0m\n\u001B[1;32m----> 1\u001B[0m t_stat_14, p_val_14 \u001B[38;5;241m=\u001B[39m \u001B[43mttest_ind\u001B[49m(AMB_PA[\u001B[38;5;124m'\u001B[39m\u001B[38;5;124mEMINA sumatoris comparats\u001B[39m\u001B[38;5;124m'\u001B[39m], TOTAL[\u001B[38;5;124m'\u001B[39m\u001B[38;5;124mEMINA sumatoris comparats\u001B[39m\u001B[38;5;124m'\u001B[39m], equal_var\u001B[38;5;241m=\u001B[39m\u001B[38;5;28;01mFalse\u001B[39;00m)\n\u001B[0;32m      2\u001B[0m \u001B[38;5;28mprint\u001B[39m(\u001B[38;5;124m\"\u001B[39m\u001B[38;5;124mP-valor entre AMB_PA i TOTAL:\u001B[39m\u001B[38;5;124m\"\u001B[39m, p_val_14)\n",
      "\u001B[1;31mNameError\u001B[0m: name 'ttest_ind' is not defined"
     ]
    }
   ],
   "execution_count": 70
  },
  {
   "cell_type": "code",
   "source": [
    "t_stat_24, p_val_24 = ttest_ind(AMB_PA_MECVV['EMINA sumatoris comparats'], TOTAL['EMINA sumatoris comparats'], equal_var=False)\n",
    "print(\"P-valor entre AMB_PA_MECVV i TOTAL:\", p_val_24)"
   ],
   "metadata": {
    "collapsed": false,
    "ExecuteTime": {
     "end_time": "2024-05-29T13:02:41.488857Z",
     "start_time": "2024-05-29T13:02:41.460306Z"
    }
   },
   "id": "ff4db1249d076e44",
   "outputs": [
    {
     "ename": "NameError",
     "evalue": "name 'ttest_ind' is not defined",
     "output_type": "error",
     "traceback": [
      "\u001B[1;31m---------------------------------------------------------------------------\u001B[0m",
      "\u001B[1;31mNameError\u001B[0m                                 Traceback (most recent call last)",
      "Cell \u001B[1;32mIn[71], line 1\u001B[0m\n\u001B[1;32m----> 1\u001B[0m t_stat_24, p_val_24 \u001B[38;5;241m=\u001B[39m \u001B[43mttest_ind\u001B[49m(AMB_PA_MECVV[\u001B[38;5;124m'\u001B[39m\u001B[38;5;124mEMINA sumatoris comparats\u001B[39m\u001B[38;5;124m'\u001B[39m], TOTAL[\u001B[38;5;124m'\u001B[39m\u001B[38;5;124mEMINA sumatoris comparats\u001B[39m\u001B[38;5;124m'\u001B[39m], equal_var\u001B[38;5;241m=\u001B[39m\u001B[38;5;28;01mFalse\u001B[39;00m)\n\u001B[0;32m      2\u001B[0m \u001B[38;5;28mprint\u001B[39m(\u001B[38;5;124m\"\u001B[39m\u001B[38;5;124mP-valor entre AMB_PA_MECVV i TOTAL:\u001B[39m\u001B[38;5;124m\"\u001B[39m, p_val_24)\n",
      "\u001B[1;31mNameError\u001B[0m: name 'ttest_ind' is not defined"
     ]
    }
   ],
   "execution_count": 71
  },
  {
   "cell_type": "code",
   "source": [
    "t_stat_34, p_val_34 = ttest_ind(SENSE_PA['EMINA sumatoris comparats'], TOTAL['EMINA sumatoris comparats'], equal_var=False)\n",
    "print(\"P-valor entre SENSE_PA i TOTAL:\", p_val_34)"
   ],
   "metadata": {
    "collapsed": false,
    "ExecuteTime": {
     "end_time": "2024-05-29T13:02:42.503672Z",
     "start_time": "2024-05-29T13:02:42.481011Z"
    }
   },
   "id": "11a665a074f6aa",
   "outputs": [
    {
     "ename": "NameError",
     "evalue": "name 'ttest_ind' is not defined",
     "output_type": "error",
     "traceback": [
      "\u001B[1;31m---------------------------------------------------------------------------\u001B[0m",
      "\u001B[1;31mNameError\u001B[0m                                 Traceback (most recent call last)",
      "Cell \u001B[1;32mIn[72], line 1\u001B[0m\n\u001B[1;32m----> 1\u001B[0m t_stat_34, p_val_34 \u001B[38;5;241m=\u001B[39m \u001B[43mttest_ind\u001B[49m(SENSE_PA[\u001B[38;5;124m'\u001B[39m\u001B[38;5;124mEMINA sumatoris comparats\u001B[39m\u001B[38;5;124m'\u001B[39m], TOTAL[\u001B[38;5;124m'\u001B[39m\u001B[38;5;124mEMINA sumatoris comparats\u001B[39m\u001B[38;5;124m'\u001B[39m], equal_var\u001B[38;5;241m=\u001B[39m\u001B[38;5;28;01mFalse\u001B[39;00m)\n\u001B[0;32m      2\u001B[0m \u001B[38;5;28mprint\u001B[39m(\u001B[38;5;124m\"\u001B[39m\u001B[38;5;124mP-valor entre SENSE_PA i TOTAL:\u001B[39m\u001B[38;5;124m\"\u001B[39m, p_val_34)\n",
      "\u001B[1;31mNameError\u001B[0m: name 'ttest_ind' is not defined"
     ]
    }
   ],
   "execution_count": 72
  },
  {
   "cell_type": "markdown",
   "source": [
    "### Valors EMINA"
   ],
   "metadata": {
    "collapsed": false
   },
   "id": "390a8c9293e89022"
  },
  {
   "cell_type": "markdown",
   "source": [
    "##### AMB_PA"
   ],
   "metadata": {
    "collapsed": false
   },
   "id": "3e7a6c25a79ccad4"
  },
  {
   "cell_type": "code",
   "source": [
    "lowr_AMB_PA = AMB_PA['EMINA sumatoris comparats'].between(0, 5)\n",
    "Percentatge_lowr_AMB_PA = lowr_AMB_PA.mean() * 100\n",
    "num_observacions_lowr_AMB_PA = lowr_AMB_PA.sum()\n",
    "\n",
    "print(f\"Percentatge de lowr_AMB_PA: {Percentatge_lowr_AMB_PA:.2f}%\")\n",
    "print(f\"Nombre d'observacions en lowr_AMB_PA: {num_observacions_lowr_AMB_PA}\")"
   ],
   "metadata": {
    "collapsed": false,
    "ExecuteTime": {
     "end_time": "2024-05-29T13:02:43.104250Z",
     "start_time": "2024-05-29T13:02:43.073217Z"
    }
   },
   "id": "89e8bb8420b1b602",
   "outputs": [
    {
     "ename": "NameError",
     "evalue": "name 'AMB_PA' is not defined",
     "output_type": "error",
     "traceback": [
      "\u001B[1;31m---------------------------------------------------------------------------\u001B[0m",
      "\u001B[1;31mNameError\u001B[0m                                 Traceback (most recent call last)",
      "Cell \u001B[1;32mIn[73], line 1\u001B[0m\n\u001B[1;32m----> 1\u001B[0m lowr_AMB_PA \u001B[38;5;241m=\u001B[39m \u001B[43mAMB_PA\u001B[49m[\u001B[38;5;124m'\u001B[39m\u001B[38;5;124mEMINA sumatoris comparats\u001B[39m\u001B[38;5;124m'\u001B[39m]\u001B[38;5;241m.\u001B[39mbetween(\u001B[38;5;241m0\u001B[39m, \u001B[38;5;241m5\u001B[39m)\n\u001B[0;32m      2\u001B[0m Percentatge_lowr_AMB_PA \u001B[38;5;241m=\u001B[39m lowr_AMB_PA\u001B[38;5;241m.\u001B[39mmean() \u001B[38;5;241m*\u001B[39m \u001B[38;5;241m100\u001B[39m\n\u001B[0;32m      3\u001B[0m num_observacions_lowr_AMB_PA \u001B[38;5;241m=\u001B[39m lowr_AMB_PA\u001B[38;5;241m.\u001B[39msum()\n",
      "\u001B[1;31mNameError\u001B[0m: name 'AMB_PA' is not defined"
     ]
    }
   ],
   "execution_count": 73
  },
  {
   "cell_type": "code",
   "source": [
    "modr_AMB_PA = AMB_PA['EMINA sumatoris comparats'].between(6, 10)\n",
    "Percentatge_modr_AMB_PA = modr_AMB_PA.mean() * 100\n",
    "num_observacions_modr_AMB_PA = modr_AMB_PA.sum()\n",
    "\n",
    "print(f\"Percentatge de modr_AMB_PA: {Percentatge_modr_AMB_PA:.2f}%\")\n",
    "print(f\"Nombre d'observacions en modr_AMB_PA: {num_observacions_modr_AMB_PA}\")"
   ],
   "metadata": {
    "collapsed": false,
    "ExecuteTime": {
     "end_time": "2024-05-29T13:02:43.958509Z",
     "start_time": "2024-05-29T13:02:43.933460Z"
    }
   },
   "id": "6321740fd3a4163c",
   "outputs": [
    {
     "ename": "NameError",
     "evalue": "name 'AMB_PA' is not defined",
     "output_type": "error",
     "traceback": [
      "\u001B[1;31m---------------------------------------------------------------------------\u001B[0m",
      "\u001B[1;31mNameError\u001B[0m                                 Traceback (most recent call last)",
      "Cell \u001B[1;32mIn[74], line 1\u001B[0m\n\u001B[1;32m----> 1\u001B[0m modr_AMB_PA \u001B[38;5;241m=\u001B[39m \u001B[43mAMB_PA\u001B[49m[\u001B[38;5;124m'\u001B[39m\u001B[38;5;124mEMINA sumatoris comparats\u001B[39m\u001B[38;5;124m'\u001B[39m]\u001B[38;5;241m.\u001B[39mbetween(\u001B[38;5;241m6\u001B[39m, \u001B[38;5;241m10\u001B[39m)\n\u001B[0;32m      2\u001B[0m Percentatge_modr_AMB_PA \u001B[38;5;241m=\u001B[39m modr_AMB_PA\u001B[38;5;241m.\u001B[39mmean() \u001B[38;5;241m*\u001B[39m \u001B[38;5;241m100\u001B[39m\n\u001B[0;32m      3\u001B[0m num_observacions_modr_AMB_PA \u001B[38;5;241m=\u001B[39m modr_AMB_PA\u001B[38;5;241m.\u001B[39msum()\n",
      "\u001B[1;31mNameError\u001B[0m: name 'AMB_PA' is not defined"
     ]
    }
   ],
   "execution_count": 74
  },
  {
   "cell_type": "code",
   "source": [
    "highr_AMB_PA = AMB_PA['EMINA sumatoris comparats'].between(11, 15)\n",
    "Percentatge_highr_AMB_PA = highr_AMB_PA.mean() * 100\n",
    "num_observacions_highr_AMB_PA = highr_AMB_PA.sum()\n",
    "\n",
    "print(f\"Percentatge de highr_AMB_PA: {Percentatge_highr_AMB_PA:.2f}%\")\n",
    "print(f\"Nombre d'observacions en highr_AMB_PA: {num_observacions_highr_AMB_PA}\")"
   ],
   "metadata": {
    "collapsed": false,
    "ExecuteTime": {
     "end_time": "2024-05-29T13:02:44.494716Z",
     "start_time": "2024-05-29T13:02:44.465475Z"
    }
   },
   "id": "d06abe01d64ba860",
   "outputs": [
    {
     "ename": "NameError",
     "evalue": "name 'AMB_PA' is not defined",
     "output_type": "error",
     "traceback": [
      "\u001B[1;31m---------------------------------------------------------------------------\u001B[0m",
      "\u001B[1;31mNameError\u001B[0m                                 Traceback (most recent call last)",
      "Cell \u001B[1;32mIn[75], line 1\u001B[0m\n\u001B[1;32m----> 1\u001B[0m highr_AMB_PA \u001B[38;5;241m=\u001B[39m \u001B[43mAMB_PA\u001B[49m[\u001B[38;5;124m'\u001B[39m\u001B[38;5;124mEMINA sumatoris comparats\u001B[39m\u001B[38;5;124m'\u001B[39m]\u001B[38;5;241m.\u001B[39mbetween(\u001B[38;5;241m11\u001B[39m, \u001B[38;5;241m15\u001B[39m)\n\u001B[0;32m      2\u001B[0m Percentatge_highr_AMB_PA \u001B[38;5;241m=\u001B[39m highr_AMB_PA\u001B[38;5;241m.\u001B[39mmean() \u001B[38;5;241m*\u001B[39m \u001B[38;5;241m100\u001B[39m\n\u001B[0;32m      3\u001B[0m num_observacions_highr_AMB_PA \u001B[38;5;241m=\u001B[39m highr_AMB_PA\u001B[38;5;241m.\u001B[39msum()\n",
      "\u001B[1;31mNameError\u001B[0m: name 'AMB_PA' is not defined"
     ]
    }
   ],
   "execution_count": 75
  },
  {
   "cell_type": "markdown",
   "source": [
    "##### AMB_PA_MECVV"
   ],
   "metadata": {
    "collapsed": false
   },
   "id": "65cd51adcc7768fe"
  },
  {
   "cell_type": "code",
   "source": [
    "lowr_AMB_PA_MECVV = AMB_PA_MECVV['EMINA sumatoris comparats'].between(0, 5)\n",
    "Percentatge_lowr_AMB_PA_MECVV = lowr_AMB_PA_MECVV.mean() * 100\n",
    "num_observacions_lowr_AMB_PA_MECVV = lowr_AMB_PA_MECVV.sum()\n",
    "\n",
    "print(f\"Percentatge de lowr_AMB_PA_MECVV: {Percentatge_lowr_AMB_PA_MECVV:.2f}%\")\n",
    "print(f\"Nombre d'observacions en lowr_AMB_PA_MECVV: {num_observacions_lowr_AMB_PA_MECVV}\")"
   ],
   "metadata": {
    "collapsed": false,
    "ExecuteTime": {
     "end_time": "2024-05-29T13:02:45.321809Z",
     "start_time": "2024-05-29T13:02:45.303835Z"
    }
   },
   "id": "9c654bd5fc00ed9b",
   "outputs": [
    {
     "ename": "NameError",
     "evalue": "name 'AMB_PA_MECVV' is not defined",
     "output_type": "error",
     "traceback": [
      "\u001B[1;31m---------------------------------------------------------------------------\u001B[0m",
      "\u001B[1;31mNameError\u001B[0m                                 Traceback (most recent call last)",
      "Cell \u001B[1;32mIn[76], line 1\u001B[0m\n\u001B[1;32m----> 1\u001B[0m lowr_AMB_PA_MECVV \u001B[38;5;241m=\u001B[39m \u001B[43mAMB_PA_MECVV\u001B[49m[\u001B[38;5;124m'\u001B[39m\u001B[38;5;124mEMINA sumatoris comparats\u001B[39m\u001B[38;5;124m'\u001B[39m]\u001B[38;5;241m.\u001B[39mbetween(\u001B[38;5;241m0\u001B[39m, \u001B[38;5;241m5\u001B[39m)\n\u001B[0;32m      2\u001B[0m Percentatge_lowr_AMB_PA_MECVV \u001B[38;5;241m=\u001B[39m lowr_AMB_PA_MECVV\u001B[38;5;241m.\u001B[39mmean() \u001B[38;5;241m*\u001B[39m \u001B[38;5;241m100\u001B[39m\n\u001B[0;32m      3\u001B[0m num_observacions_lowr_AMB_PA_MECVV \u001B[38;5;241m=\u001B[39m lowr_AMB_PA_MECVV\u001B[38;5;241m.\u001B[39msum()\n",
      "\u001B[1;31mNameError\u001B[0m: name 'AMB_PA_MECVV' is not defined"
     ]
    }
   ],
   "execution_count": 76
  },
  {
   "cell_type": "code",
   "source": [
    "modr_AMB_PA_MECVV = AMB_PA_MECVV['EMINA sumatoris comparats'].between(6, 10)\n",
    "Percentatge_modr_AMB_PA_MECVV = modr_AMB_PA_MECVV.mean() * 100\n",
    "num_observacions_modr_AMB_PA_MECVV = modr_AMB_PA_MECVV.sum()\n",
    "\n",
    "print(f\"Percentatge de modr_AMB_PA_MECVV: {Percentatge_modr_AMB_PA_MECVV:.2f}%\")\n",
    "print(f\"Nombre d'observacions en modr_AMB_PA_MECVV: {num_observacions_modr_AMB_PA_MECVV}\")"
   ],
   "metadata": {
    "collapsed": false,
    "ExecuteTime": {
     "end_time": "2024-05-29T13:02:46.010776Z",
     "start_time": "2024-05-29T13:02:45.987161Z"
    }
   },
   "id": "9db757d3983ea0af",
   "outputs": [
    {
     "ename": "NameError",
     "evalue": "name 'AMB_PA_MECVV' is not defined",
     "output_type": "error",
     "traceback": [
      "\u001B[1;31m---------------------------------------------------------------------------\u001B[0m",
      "\u001B[1;31mNameError\u001B[0m                                 Traceback (most recent call last)",
      "Cell \u001B[1;32mIn[77], line 1\u001B[0m\n\u001B[1;32m----> 1\u001B[0m modr_AMB_PA_MECVV \u001B[38;5;241m=\u001B[39m \u001B[43mAMB_PA_MECVV\u001B[49m[\u001B[38;5;124m'\u001B[39m\u001B[38;5;124mEMINA sumatoris comparats\u001B[39m\u001B[38;5;124m'\u001B[39m]\u001B[38;5;241m.\u001B[39mbetween(\u001B[38;5;241m6\u001B[39m, \u001B[38;5;241m10\u001B[39m)\n\u001B[0;32m      2\u001B[0m Percentatge_modr_AMB_PA_MECVV \u001B[38;5;241m=\u001B[39m modr_AMB_PA_MECVV\u001B[38;5;241m.\u001B[39mmean() \u001B[38;5;241m*\u001B[39m \u001B[38;5;241m100\u001B[39m\n\u001B[0;32m      3\u001B[0m num_observacions_modr_AMB_PA_MECVV \u001B[38;5;241m=\u001B[39m modr_AMB_PA_MECVV\u001B[38;5;241m.\u001B[39msum()\n",
      "\u001B[1;31mNameError\u001B[0m: name 'AMB_PA_MECVV' is not defined"
     ]
    }
   ],
   "execution_count": 77
  },
  {
   "cell_type": "code",
   "source": [
    "highr_AMB_PA_MECVV = AMB_PA_MECVV['EMINA sumatoris comparats'].between(11, 15)\n",
    "Percentatge_highr_AMB_PA_MECVV = highr_AMB_PA_MECVV.mean() * 100\n",
    "num_observacions_highr_AMB_PA_MECVV = highr_AMB_PA_MECVV.sum()\n",
    "\n",
    "print(f\"Percentatge de highr_AMB_PA_MECVV: {Percentatge_highr_AMB_PA_MECVV:.2f}%\")\n",
    "print(f\"Nombre d'observacions en highr_AMB_PA_MECVV: {num_observacions_highr_AMB_PA_MECVV}\")"
   ],
   "metadata": {
    "collapsed": false,
    "ExecuteTime": {
     "end_time": "2024-05-29T13:02:47.130972Z",
     "start_time": "2024-05-29T13:02:47.106591Z"
    }
   },
   "id": "197a55d2409932d7",
   "outputs": [
    {
     "ename": "NameError",
     "evalue": "name 'AMB_PA_MECVV' is not defined",
     "output_type": "error",
     "traceback": [
      "\u001B[1;31m---------------------------------------------------------------------------\u001B[0m",
      "\u001B[1;31mNameError\u001B[0m                                 Traceback (most recent call last)",
      "Cell \u001B[1;32mIn[78], line 1\u001B[0m\n\u001B[1;32m----> 1\u001B[0m highr_AMB_PA_MECVV \u001B[38;5;241m=\u001B[39m \u001B[43mAMB_PA_MECVV\u001B[49m[\u001B[38;5;124m'\u001B[39m\u001B[38;5;124mEMINA sumatoris comparats\u001B[39m\u001B[38;5;124m'\u001B[39m]\u001B[38;5;241m.\u001B[39mbetween(\u001B[38;5;241m11\u001B[39m, \u001B[38;5;241m15\u001B[39m)\n\u001B[0;32m      2\u001B[0m Percentatge_highr_AMB_PA_MECVV \u001B[38;5;241m=\u001B[39m highr_AMB_PA_MECVV\u001B[38;5;241m.\u001B[39mmean() \u001B[38;5;241m*\u001B[39m \u001B[38;5;241m100\u001B[39m\n\u001B[0;32m      3\u001B[0m num_observacions_highr_AMB_PA_MECVV \u001B[38;5;241m=\u001B[39m highr_AMB_PA_MECVV\u001B[38;5;241m.\u001B[39msum()\n",
      "\u001B[1;31mNameError\u001B[0m: name 'AMB_PA_MECVV' is not defined"
     ]
    }
   ],
   "execution_count": 78
  },
  {
   "cell_type": "markdown",
   "source": [
    "##### SENSE_PA"
   ],
   "metadata": {
    "collapsed": false
   },
   "id": "1c2022f06ea6ec0f"
  },
  {
   "cell_type": "code",
   "source": [
    "lowr_SENSE_PA = SENSE_PA['EMINA sumatoris comparats'].between(0, 5)\n",
    "Percentatge_lowr_SENSE_PA = lowr_SENSE_PA.mean() * 100\n",
    "num_observacions_lowr_SENSE_PA = lowr_SENSE_PA.sum()\n",
    "\n",
    "print(f\"Percentatge de lowr_SENSE_PA: {Percentatge_lowr_SENSE_PA:.2f}%\")\n",
    "print(f\"Nombre d'observacions en lowr_SENSE_PA: {num_observacions_lowr_SENSE_PA}\")"
   ],
   "metadata": {
    "collapsed": false,
    "ExecuteTime": {
     "end_time": "2024-05-29T13:02:47.814251Z",
     "start_time": "2024-05-29T13:02:47.790629Z"
    }
   },
   "id": "5f0c44256385943a",
   "outputs": [
    {
     "ename": "NameError",
     "evalue": "name 'SENSE_PA' is not defined",
     "output_type": "error",
     "traceback": [
      "\u001B[1;31m---------------------------------------------------------------------------\u001B[0m",
      "\u001B[1;31mNameError\u001B[0m                                 Traceback (most recent call last)",
      "Cell \u001B[1;32mIn[79], line 1\u001B[0m\n\u001B[1;32m----> 1\u001B[0m lowr_SENSE_PA \u001B[38;5;241m=\u001B[39m \u001B[43mSENSE_PA\u001B[49m[\u001B[38;5;124m'\u001B[39m\u001B[38;5;124mEMINA sumatoris comparats\u001B[39m\u001B[38;5;124m'\u001B[39m]\u001B[38;5;241m.\u001B[39mbetween(\u001B[38;5;241m0\u001B[39m, \u001B[38;5;241m5\u001B[39m)\n\u001B[0;32m      2\u001B[0m Percentatge_lowr_SENSE_PA \u001B[38;5;241m=\u001B[39m lowr_SENSE_PA\u001B[38;5;241m.\u001B[39mmean() \u001B[38;5;241m*\u001B[39m \u001B[38;5;241m100\u001B[39m\n\u001B[0;32m      3\u001B[0m num_observacions_lowr_SENSE_PA \u001B[38;5;241m=\u001B[39m lowr_SENSE_PA\u001B[38;5;241m.\u001B[39msum()\n",
      "\u001B[1;31mNameError\u001B[0m: name 'SENSE_PA' is not defined"
     ]
    }
   ],
   "execution_count": 79
  },
  {
   "cell_type": "code",
   "source": [
    "modr_SENSE_PA = SENSE_PA['EMINA sumatoris comparats'].between(6, 10)\n",
    "Percentatge_modr_SENSE_PA = modr_SENSE_PA.mean() * 100\n",
    "num_observacions_modr_SENSE_PA = modr_SENSE_PA.sum()\n",
    "\n",
    "print(f\"Percentatge de modr_SENSE_PA: {Percentatge_modr_SENSE_PA:.2f}%\")\n",
    "print(f\"Nombre d'observacions en modr_SENSE_PA: {num_observacions_modr_SENSE_PA}\")"
   ],
   "metadata": {
    "collapsed": false,
    "ExecuteTime": {
     "end_time": "2024-05-29T13:02:48.763223Z",
     "start_time": "2024-05-29T13:02:48.747140Z"
    }
   },
   "id": "93531228404d51d7",
   "outputs": [
    {
     "ename": "NameError",
     "evalue": "name 'SENSE_PA' is not defined",
     "output_type": "error",
     "traceback": [
      "\u001B[1;31m---------------------------------------------------------------------------\u001B[0m",
      "\u001B[1;31mNameError\u001B[0m                                 Traceback (most recent call last)",
      "Cell \u001B[1;32mIn[80], line 1\u001B[0m\n\u001B[1;32m----> 1\u001B[0m modr_SENSE_PA \u001B[38;5;241m=\u001B[39m \u001B[43mSENSE_PA\u001B[49m[\u001B[38;5;124m'\u001B[39m\u001B[38;5;124mEMINA sumatoris comparats\u001B[39m\u001B[38;5;124m'\u001B[39m]\u001B[38;5;241m.\u001B[39mbetween(\u001B[38;5;241m6\u001B[39m, \u001B[38;5;241m10\u001B[39m)\n\u001B[0;32m      2\u001B[0m Percentatge_modr_SENSE_PA \u001B[38;5;241m=\u001B[39m modr_SENSE_PA\u001B[38;5;241m.\u001B[39mmean() \u001B[38;5;241m*\u001B[39m \u001B[38;5;241m100\u001B[39m\n\u001B[0;32m      3\u001B[0m num_observacions_modr_SENSE_PA \u001B[38;5;241m=\u001B[39m modr_SENSE_PA\u001B[38;5;241m.\u001B[39msum()\n",
      "\u001B[1;31mNameError\u001B[0m: name 'SENSE_PA' is not defined"
     ]
    }
   ],
   "execution_count": 80
  },
  {
   "cell_type": "code",
   "source": [
    "highr_SENSE_PA = SENSE_PA['EMINA sumatoris comparats'].between(11, 15)\n",
    "Percentatge_highr_SENSE_PA = highr_SENSE_PA.mean() * 100\n",
    "num_observacions_highr_SENSE_PA = highr_SENSE_PA.sum()\n",
    "\n",
    "print(f\"Percentatge de highr_SENSE_PA: {Percentatge_highr_SENSE_PA:.2f}%\")\n",
    "print(f\"Nombre d'observacions en highr_SENSE_PA: {num_observacions_highr_SENSE_PA}\")"
   ],
   "metadata": {
    "collapsed": false,
    "ExecuteTime": {
     "end_time": "2024-05-29T13:02:49.747327Z",
     "start_time": "2024-05-29T13:02:49.724719Z"
    }
   },
   "id": "a6054a66f68d8856",
   "outputs": [
    {
     "ename": "NameError",
     "evalue": "name 'SENSE_PA' is not defined",
     "output_type": "error",
     "traceback": [
      "\u001B[1;31m---------------------------------------------------------------------------\u001B[0m",
      "\u001B[1;31mNameError\u001B[0m                                 Traceback (most recent call last)",
      "Cell \u001B[1;32mIn[81], line 1\u001B[0m\n\u001B[1;32m----> 1\u001B[0m highr_SENSE_PA \u001B[38;5;241m=\u001B[39m \u001B[43mSENSE_PA\u001B[49m[\u001B[38;5;124m'\u001B[39m\u001B[38;5;124mEMINA sumatoris comparats\u001B[39m\u001B[38;5;124m'\u001B[39m]\u001B[38;5;241m.\u001B[39mbetween(\u001B[38;5;241m11\u001B[39m, \u001B[38;5;241m15\u001B[39m)\n\u001B[0;32m      2\u001B[0m Percentatge_highr_SENSE_PA \u001B[38;5;241m=\u001B[39m highr_SENSE_PA\u001B[38;5;241m.\u001B[39mmean() \u001B[38;5;241m*\u001B[39m \u001B[38;5;241m100\u001B[39m\n\u001B[0;32m      3\u001B[0m num_observacions_highr_SENSE_PA \u001B[38;5;241m=\u001B[39m highr_SENSE_PA\u001B[38;5;241m.\u001B[39msum()\n",
      "\u001B[1;31mNameError\u001B[0m: name 'SENSE_PA' is not defined"
     ]
    }
   ],
   "execution_count": 81
  },
  {
   "cell_type": "markdown",
   "source": [
    "##### TOTAL"
   ],
   "metadata": {
    "collapsed": false
   },
   "id": "fc31bf6a07698f11"
  },
  {
   "cell_type": "code",
   "source": [
    "lowr_TOTAL = TOTAL['EMINA sumatoris comparats'].between(0, 5)\n",
    "Percentatge_lowr_TOTAL = lowr_TOTAL.mean() * 100\n",
    "num_observacions_lowr_TOTAL = lowr_TOTAL.sum()\n",
    "\n",
    "print(f\"Percentatge de lowr_TOTAL: {Percentatge_lowr_TOTAL:.2f}%\")\n",
    "print(f\"Nombre d'observacions en lowr_TOTAL: {num_observacions_lowr_TOTAL}\")"
   ],
   "metadata": {
    "collapsed": false,
    "ExecuteTime": {
     "end_time": "2024-05-29T13:02:50.336146Z",
     "start_time": "2024-05-29T13:02:50.313494Z"
    }
   },
   "id": "8a0a240762acb6f2",
   "outputs": [
    {
     "ename": "NameError",
     "evalue": "name 'TOTAL' is not defined",
     "output_type": "error",
     "traceback": [
      "\u001B[1;31m---------------------------------------------------------------------------\u001B[0m",
      "\u001B[1;31mNameError\u001B[0m                                 Traceback (most recent call last)",
      "Cell \u001B[1;32mIn[82], line 1\u001B[0m\n\u001B[1;32m----> 1\u001B[0m lowr_TOTAL \u001B[38;5;241m=\u001B[39m \u001B[43mTOTAL\u001B[49m[\u001B[38;5;124m'\u001B[39m\u001B[38;5;124mEMINA sumatoris comparats\u001B[39m\u001B[38;5;124m'\u001B[39m]\u001B[38;5;241m.\u001B[39mbetween(\u001B[38;5;241m0\u001B[39m, \u001B[38;5;241m5\u001B[39m)\n\u001B[0;32m      2\u001B[0m Percentatge_lowr_TOTAL \u001B[38;5;241m=\u001B[39m lowr_TOTAL\u001B[38;5;241m.\u001B[39mmean() \u001B[38;5;241m*\u001B[39m \u001B[38;5;241m100\u001B[39m\n\u001B[0;32m      3\u001B[0m num_observacions_lowr_TOTAL \u001B[38;5;241m=\u001B[39m lowr_TOTAL\u001B[38;5;241m.\u001B[39msum()\n",
      "\u001B[1;31mNameError\u001B[0m: name 'TOTAL' is not defined"
     ]
    }
   ],
   "execution_count": 82
  },
  {
   "cell_type": "code",
   "source": [
    "modr_TOTAL = TOTAL['EMINA sumatoris comparats'].between(6, 10)\n",
    "Percentatge_modr_TOTAL = modr_TOTAL.mean() * 100\n",
    "num_observacions_modr_TOTAL = modr_TOTAL.sum()\n",
    "\n",
    "print(f\"Percentatge de modr_TOTAL: {Percentatge_modr_TOTAL:.2f}%\")\n",
    "print(f\"Nombre d'observacions en modr_TOTAL: {num_observacions_modr_TOTAL}\")"
   ],
   "metadata": {
    "collapsed": false,
    "ExecuteTime": {
     "end_time": "2024-05-29T13:02:51.266858Z",
     "start_time": "2024-05-29T13:02:51.242042Z"
    }
   },
   "id": "b8afa6cff5e1f599",
   "outputs": [
    {
     "ename": "NameError",
     "evalue": "name 'TOTAL' is not defined",
     "output_type": "error",
     "traceback": [
      "\u001B[1;31m---------------------------------------------------------------------------\u001B[0m",
      "\u001B[1;31mNameError\u001B[0m                                 Traceback (most recent call last)",
      "Cell \u001B[1;32mIn[83], line 1\u001B[0m\n\u001B[1;32m----> 1\u001B[0m modr_TOTAL \u001B[38;5;241m=\u001B[39m \u001B[43mTOTAL\u001B[49m[\u001B[38;5;124m'\u001B[39m\u001B[38;5;124mEMINA sumatoris comparats\u001B[39m\u001B[38;5;124m'\u001B[39m]\u001B[38;5;241m.\u001B[39mbetween(\u001B[38;5;241m6\u001B[39m, \u001B[38;5;241m10\u001B[39m)\n\u001B[0;32m      2\u001B[0m Percentatge_modr_TOTAL \u001B[38;5;241m=\u001B[39m modr_TOTAL\u001B[38;5;241m.\u001B[39mmean() \u001B[38;5;241m*\u001B[39m \u001B[38;5;241m100\u001B[39m\n\u001B[0;32m      3\u001B[0m num_observacions_modr_TOTAL \u001B[38;5;241m=\u001B[39m modr_TOTAL\u001B[38;5;241m.\u001B[39msum()\n",
      "\u001B[1;31mNameError\u001B[0m: name 'TOTAL' is not defined"
     ]
    }
   ],
   "execution_count": 83
  },
  {
   "cell_type": "code",
   "source": [
    "highr_TOTAL = TOTAL['EMINA sumatoris comparats'].between(11, 15)\n",
    "Percentatge_highr_TOTAL = highr_TOTAL.mean() * 100\n",
    "num_observacions_highr_TOTAL = highr_TOTAL.sum()\n",
    "\n",
    "print(f\"Percentatge de highr_TOTAL: {Percentatge_highr_TOTAL:.2f}%\")\n",
    "print(f\"Nombre d'observacions en highr_TOTAL: {num_observacions_highr_TOTAL}\")"
   ],
   "metadata": {
    "collapsed": false,
    "ExecuteTime": {
     "end_time": "2024-05-29T13:02:52.287980Z",
     "start_time": "2024-05-29T13:02:52.268055Z"
    }
   },
   "id": "b236874dc884b80c",
   "outputs": [
    {
     "ename": "NameError",
     "evalue": "name 'TOTAL' is not defined",
     "output_type": "error",
     "traceback": [
      "\u001B[1;31m---------------------------------------------------------------------------\u001B[0m",
      "\u001B[1;31mNameError\u001B[0m                                 Traceback (most recent call last)",
      "Cell \u001B[1;32mIn[84], line 1\u001B[0m\n\u001B[1;32m----> 1\u001B[0m highr_TOTAL \u001B[38;5;241m=\u001B[39m \u001B[43mTOTAL\u001B[49m[\u001B[38;5;124m'\u001B[39m\u001B[38;5;124mEMINA sumatoris comparats\u001B[39m\u001B[38;5;124m'\u001B[39m]\u001B[38;5;241m.\u001B[39mbetween(\u001B[38;5;241m11\u001B[39m, \u001B[38;5;241m15\u001B[39m)\n\u001B[0;32m      2\u001B[0m Percentatge_highr_TOTAL \u001B[38;5;241m=\u001B[39m highr_TOTAL\u001B[38;5;241m.\u001B[39mmean() \u001B[38;5;241m*\u001B[39m \u001B[38;5;241m100\u001B[39m\n\u001B[0;32m      3\u001B[0m num_observacions_highr_TOTAL \u001B[38;5;241m=\u001B[39m highr_TOTAL\u001B[38;5;241m.\u001B[39msum()\n",
      "\u001B[1;31mNameError\u001B[0m: name 'TOTAL' is not defined"
     ]
    }
   ],
   "execution_count": 84
  },
  {
   "cell_type": "markdown",
   "source": [
    "#### P-valor"
   ],
   "metadata": {
    "collapsed": false
   },
   "id": "2087f75b39abb3f5"
  },
  {
   "cell_type": "markdown",
   "source": [
    "##### Risc baix"
   ],
   "metadata": {
    "collapsed": false
   },
   "id": "bd9720df400cda6f"
  },
  {
   "cell_type": "code",
   "source": [
    "contingency_table_12 = pd.crosstab(index=AMB_PA['EMINA sumatoris comparats'].between(0,5), columns=AMB_PA_MECVV['EMINA sumatoris comparats'].between(0,5))\n",
    "\n",
    "chi2_12, p_value_12, dof_12, expected_12 = chi2_contingency(contingency_table_12)\n",
    "\n",
    "print(\"Estadístic xi-quadrat entre AMB_PA i AMB_PA_MECVV:\", chi2_12)\n",
    "print(\"P-valor entre AMB_PA i AMB_PA_MECVV:\", p_value_12)\n",
    "\n",
    "if p_value_12 < 0.05:\n",
    "    print(\"Hi ha diferències significatives entre les distribucions d'EMINA en AMB_PA i AMB_PA_MECVV.\")\n",
    "else:\n",
    "    print(\"No hi ha diferències significatives entre les distribucions d'EMINA en AMB_PA i AMB_PA_MECVV.\")"
   ],
   "metadata": {
    "collapsed": false,
    "ExecuteTime": {
     "end_time": "2024-05-29T13:02:52.884961Z",
     "start_time": "2024-05-29T13:02:52.850526Z"
    }
   },
   "id": "62d1a62e19059390",
   "outputs": [
    {
     "ename": "NameError",
     "evalue": "name 'pd' is not defined",
     "output_type": "error",
     "traceback": [
      "\u001B[1;31m---------------------------------------------------------------------------\u001B[0m",
      "\u001B[1;31mNameError\u001B[0m                                 Traceback (most recent call last)",
      "Cell \u001B[1;32mIn[85], line 1\u001B[0m\n\u001B[1;32m----> 1\u001B[0m contingency_table_12 \u001B[38;5;241m=\u001B[39m \u001B[43mpd\u001B[49m\u001B[38;5;241m.\u001B[39mcrosstab(index\u001B[38;5;241m=\u001B[39mAMB_PA[\u001B[38;5;124m'\u001B[39m\u001B[38;5;124mEMINA sumatoris comparats\u001B[39m\u001B[38;5;124m'\u001B[39m]\u001B[38;5;241m.\u001B[39mbetween(\u001B[38;5;241m0\u001B[39m,\u001B[38;5;241m5\u001B[39m), columns\u001B[38;5;241m=\u001B[39mAMB_PA_MECVV[\u001B[38;5;124m'\u001B[39m\u001B[38;5;124mEMINA sumatoris comparats\u001B[39m\u001B[38;5;124m'\u001B[39m]\u001B[38;5;241m.\u001B[39mbetween(\u001B[38;5;241m0\u001B[39m,\u001B[38;5;241m5\u001B[39m))\n\u001B[0;32m      3\u001B[0m chi2_12, p_value_12, dof_12, expected_12 \u001B[38;5;241m=\u001B[39m chi2_contingency(contingency_table_12)\n\u001B[0;32m      5\u001B[0m \u001B[38;5;28mprint\u001B[39m(\u001B[38;5;124m\"\u001B[39m\u001B[38;5;124mEstadístic xi-quadrat entre AMB_PA i AMB_PA_MECVV:\u001B[39m\u001B[38;5;124m\"\u001B[39m, chi2_12)\n",
      "\u001B[1;31mNameError\u001B[0m: name 'pd' is not defined"
     ]
    }
   ],
   "execution_count": 85
  },
  {
   "cell_type": "code",
   "source": [
    "contingency_table_13 = pd.crosstab(index=AMB_PA['EMINA sumatoris comparats'].between(0,5), columns=SENSE_PA['EMINA sumatoris comparats'].between(0,5))\n",
    "\n",
    "chi2_13, p_value_13, dof_13, expected_13 = chi2_contingency(contingency_table_13)\n",
    "\n",
    "print(\"Estadístic xi-quadrat entre AMB_PA i SENSE_PA:\", chi2_13)\n",
    "print(\"P-valor entre AMB_PA i SENSE_PA:\", p_value_13)\n",
    "\n",
    "if p_value_13 < 0.05:\n",
    "    print(\"Hi ha diferències significatives entre les distribucions d'EMINA en AMB_PA i SENSE_PA.\")\n",
    "else:\n",
    "    print(\"No hi ha diferències significatives entre les distribucions d'EMINA en AMB_PA i SENSE_PA.\")"
   ],
   "metadata": {
    "collapsed": false,
    "ExecuteTime": {
     "end_time": "2024-05-29T13:02:53.694043Z",
     "start_time": "2024-05-29T13:02:53.666882Z"
    }
   },
   "id": "54d4dea3b6b5db5f",
   "outputs": [
    {
     "ename": "NameError",
     "evalue": "name 'pd' is not defined",
     "output_type": "error",
     "traceback": [
      "\u001B[1;31m---------------------------------------------------------------------------\u001B[0m",
      "\u001B[1;31mNameError\u001B[0m                                 Traceback (most recent call last)",
      "Cell \u001B[1;32mIn[86], line 1\u001B[0m\n\u001B[1;32m----> 1\u001B[0m contingency_table_13 \u001B[38;5;241m=\u001B[39m \u001B[43mpd\u001B[49m\u001B[38;5;241m.\u001B[39mcrosstab(index\u001B[38;5;241m=\u001B[39mAMB_PA[\u001B[38;5;124m'\u001B[39m\u001B[38;5;124mEMINA sumatoris comparats\u001B[39m\u001B[38;5;124m'\u001B[39m]\u001B[38;5;241m.\u001B[39mbetween(\u001B[38;5;241m0\u001B[39m,\u001B[38;5;241m5\u001B[39m), columns\u001B[38;5;241m=\u001B[39mSENSE_PA[\u001B[38;5;124m'\u001B[39m\u001B[38;5;124mEMINA sumatoris comparats\u001B[39m\u001B[38;5;124m'\u001B[39m]\u001B[38;5;241m.\u001B[39mbetween(\u001B[38;5;241m0\u001B[39m,\u001B[38;5;241m5\u001B[39m))\n\u001B[0;32m      3\u001B[0m chi2_13, p_value_13, dof_13, expected_13 \u001B[38;5;241m=\u001B[39m chi2_contingency(contingency_table_13)\n\u001B[0;32m      5\u001B[0m \u001B[38;5;28mprint\u001B[39m(\u001B[38;5;124m\"\u001B[39m\u001B[38;5;124mEstadístic xi-quadrat entre AMB_PA i SENSE_PA:\u001B[39m\u001B[38;5;124m\"\u001B[39m, chi2_13)\n",
      "\u001B[1;31mNameError\u001B[0m: name 'pd' is not defined"
     ]
    }
   ],
   "execution_count": 86
  },
  {
   "cell_type": "code",
   "source": [
    "contingency_table_23 = pd.crosstab(index=AMB_PA_MECVV['EMINA sumatoris comparats'].between(0,5), columns=SENSE_PA['EMINA sumatoris comparats'].between(0,5))\n",
    "\n",
    "chi2_23, p_value_23, dof_23, expected_23 = chi2_contingency(contingency_table_23)\n",
    "\n",
    "print(\"Estadístic xi-quadrat entre AMB_PA_MECVV i SENSE_PA:\", chi2_23)\n",
    "print(\"P-valor entre AMB_PA_MECVV i SENSE_PA:\", p_value_23)\n",
    "\n",
    "if p_value_23 < 0.05:\n",
    "    print(\"Hi ha diferències significatives entre les distribucions d'EMINA en AMB_PA_MECVV i SENSE_PA.\")\n",
    "else:\n",
    "    print(\"No hi ha diferències significatives entre les distribucions d'EMINA en AMB_PA_MECVV i SENSE_PA.\")"
   ],
   "metadata": {
    "collapsed": false,
    "ExecuteTime": {
     "end_time": "2024-05-29T13:02:54.268780Z",
     "start_time": "2024-05-29T13:02:54.242770Z"
    }
   },
   "id": "a8346b6e6be4efed",
   "outputs": [
    {
     "ename": "NameError",
     "evalue": "name 'pd' is not defined",
     "output_type": "error",
     "traceback": [
      "\u001B[1;31m---------------------------------------------------------------------------\u001B[0m",
      "\u001B[1;31mNameError\u001B[0m                                 Traceback (most recent call last)",
      "Cell \u001B[1;32mIn[87], line 1\u001B[0m\n\u001B[1;32m----> 1\u001B[0m contingency_table_23 \u001B[38;5;241m=\u001B[39m \u001B[43mpd\u001B[49m\u001B[38;5;241m.\u001B[39mcrosstab(index\u001B[38;5;241m=\u001B[39mAMB_PA_MECVV[\u001B[38;5;124m'\u001B[39m\u001B[38;5;124mEMINA sumatoris comparats\u001B[39m\u001B[38;5;124m'\u001B[39m]\u001B[38;5;241m.\u001B[39mbetween(\u001B[38;5;241m0\u001B[39m,\u001B[38;5;241m5\u001B[39m), columns\u001B[38;5;241m=\u001B[39mSENSE_PA[\u001B[38;5;124m'\u001B[39m\u001B[38;5;124mEMINA sumatoris comparats\u001B[39m\u001B[38;5;124m'\u001B[39m]\u001B[38;5;241m.\u001B[39mbetween(\u001B[38;5;241m0\u001B[39m,\u001B[38;5;241m5\u001B[39m))\n\u001B[0;32m      3\u001B[0m chi2_23, p_value_23, dof_23, expected_23 \u001B[38;5;241m=\u001B[39m chi2_contingency(contingency_table_23)\n\u001B[0;32m      5\u001B[0m \u001B[38;5;28mprint\u001B[39m(\u001B[38;5;124m\"\u001B[39m\u001B[38;5;124mEstadístic xi-quadrat entre AMB_PA_MECVV i SENSE_PA:\u001B[39m\u001B[38;5;124m\"\u001B[39m, chi2_23)\n",
      "\u001B[1;31mNameError\u001B[0m: name 'pd' is not defined"
     ]
    }
   ],
   "execution_count": 87
  },
  {
   "cell_type": "code",
   "source": [
    "contingency_table_14 = pd.crosstab(index=AMB_PA['EMINA sumatoris comparats'].between(0,5), columns=TOTAL['EMINA sumatoris comparats'].between(0,5))\n",
    "\n",
    "chi2_14, p_value_14, dof_14, expected_14 = chi2_contingency(contingency_table_14)\n",
    "\n",
    "print(\"Estadístic xi-quadrat entre AMB_PA i TOTAL:\", chi2_14)\n",
    "print(\"P-valor entre AMB_PA i TOTAL:\", p_value_14)\n",
    "\n",
    "if p_value_14 < 0.05:\n",
    "    print(\"Hi ha diferències significatives entre les distribucions d'EMINA en AMB_PA i TOTAL.\")\n",
    "else:\n",
    "    print(\"No hi ha diferències significatives entre les distribucions d'EMINA en AMB_PA i TOTAL.\")"
   ],
   "metadata": {
    "collapsed": false,
    "ExecuteTime": {
     "end_time": "2024-05-29T13:02:55.093397Z",
     "start_time": "2024-05-29T13:02:55.065348Z"
    }
   },
   "id": "26d1101d6125a693",
   "outputs": [
    {
     "ename": "NameError",
     "evalue": "name 'pd' is not defined",
     "output_type": "error",
     "traceback": [
      "\u001B[1;31m---------------------------------------------------------------------------\u001B[0m",
      "\u001B[1;31mNameError\u001B[0m                                 Traceback (most recent call last)",
      "Cell \u001B[1;32mIn[88], line 1\u001B[0m\n\u001B[1;32m----> 1\u001B[0m contingency_table_14 \u001B[38;5;241m=\u001B[39m \u001B[43mpd\u001B[49m\u001B[38;5;241m.\u001B[39mcrosstab(index\u001B[38;5;241m=\u001B[39mAMB_PA[\u001B[38;5;124m'\u001B[39m\u001B[38;5;124mEMINA sumatoris comparats\u001B[39m\u001B[38;5;124m'\u001B[39m]\u001B[38;5;241m.\u001B[39mbetween(\u001B[38;5;241m0\u001B[39m,\u001B[38;5;241m5\u001B[39m), columns\u001B[38;5;241m=\u001B[39mTOTAL[\u001B[38;5;124m'\u001B[39m\u001B[38;5;124mEMINA sumatoris comparats\u001B[39m\u001B[38;5;124m'\u001B[39m]\u001B[38;5;241m.\u001B[39mbetween(\u001B[38;5;241m0\u001B[39m,\u001B[38;5;241m5\u001B[39m))\n\u001B[0;32m      3\u001B[0m chi2_14, p_value_14, dof_14, expected_14 \u001B[38;5;241m=\u001B[39m chi2_contingency(contingency_table_14)\n\u001B[0;32m      5\u001B[0m \u001B[38;5;28mprint\u001B[39m(\u001B[38;5;124m\"\u001B[39m\u001B[38;5;124mEstadístic xi-quadrat entre AMB_PA i TOTAL:\u001B[39m\u001B[38;5;124m\"\u001B[39m, chi2_14)\n",
      "\u001B[1;31mNameError\u001B[0m: name 'pd' is not defined"
     ]
    }
   ],
   "execution_count": 88
  },
  {
   "cell_type": "code",
   "source": [
    "contingency_table_24 = pd.crosstab(index=AMB_PA_MECVV['EMINA sumatoris comparats'].between(0,5), columns=TOTAL['EMINA sumatoris comparats'].between(0,5))\n",
    "\n",
    "chi2_24, p_value_24, dof_24, expected_24 = chi2_contingency(contingency_table_24)\n",
    "\n",
    "print(\"Estadístic xi-quadrat entre AMB_PA_MECVV i TOTAL:\", chi2_24)\n",
    "print(\"P-valor entre AMB_PA_MECVV i TOTAL:\", p_value_24)\n",
    "\n",
    "if p_value_24 < 0.05:\n",
    "    print(\"Hi ha diferències significatives entre les distribucions d'EMINA en AMB_PA_MECVV i TOTAL.\")\n",
    "else:\n",
    "    print(\"No hi ha diferències significatives entre les distribucions d'EMINA en AMB_PA_MECVV i TOTAL.\")"
   ],
   "metadata": {
    "collapsed": false,
    "ExecuteTime": {
     "end_time": "2024-05-29T13:02:56.154061Z",
     "start_time": "2024-05-29T13:02:56.131397Z"
    }
   },
   "id": "5895511b9993422f",
   "outputs": [
    {
     "ename": "NameError",
     "evalue": "name 'pd' is not defined",
     "output_type": "error",
     "traceback": [
      "\u001B[1;31m---------------------------------------------------------------------------\u001B[0m",
      "\u001B[1;31mNameError\u001B[0m                                 Traceback (most recent call last)",
      "Cell \u001B[1;32mIn[89], line 1\u001B[0m\n\u001B[1;32m----> 1\u001B[0m contingency_table_24 \u001B[38;5;241m=\u001B[39m \u001B[43mpd\u001B[49m\u001B[38;5;241m.\u001B[39mcrosstab(index\u001B[38;5;241m=\u001B[39mAMB_PA_MECVV[\u001B[38;5;124m'\u001B[39m\u001B[38;5;124mEMINA sumatoris comparats\u001B[39m\u001B[38;5;124m'\u001B[39m]\u001B[38;5;241m.\u001B[39mbetween(\u001B[38;5;241m0\u001B[39m,\u001B[38;5;241m5\u001B[39m), columns\u001B[38;5;241m=\u001B[39mTOTAL[\u001B[38;5;124m'\u001B[39m\u001B[38;5;124mEMINA sumatoris comparats\u001B[39m\u001B[38;5;124m'\u001B[39m]\u001B[38;5;241m.\u001B[39mbetween(\u001B[38;5;241m0\u001B[39m,\u001B[38;5;241m5\u001B[39m))\n\u001B[0;32m      3\u001B[0m chi2_24, p_value_24, dof_24, expected_24 \u001B[38;5;241m=\u001B[39m chi2_contingency(contingency_table_24)\n\u001B[0;32m      5\u001B[0m \u001B[38;5;28mprint\u001B[39m(\u001B[38;5;124m\"\u001B[39m\u001B[38;5;124mEstadístic xi-quadrat entre AMB_PA_MECVV i TOTAL:\u001B[39m\u001B[38;5;124m\"\u001B[39m, chi2_24)\n",
      "\u001B[1;31mNameError\u001B[0m: name 'pd' is not defined"
     ]
    }
   ],
   "execution_count": 89
  },
  {
   "cell_type": "code",
   "source": [
    "contingency_table_34 = pd.crosstab(index=SENSE_PA['EMINA sumatoris comparats'].between(0,5), columns=TOTAL['EMINA sumatoris comparats'].between(0,5))\n",
    "\n",
    "chi2_34, p_value_34, dof_34, expected_34 = chi2_contingency(contingency_table_34)\n",
    "\n",
    "print(\"Estadístic xi-quadrat entre SENSE_PA i TOTAL:\", chi2_34)\n",
    "print(\"P-valor entre SENSE_PA i TOTAL:\", p_value_34)\n",
    "\n",
    "if p_value_34 < 0.05:\n",
    "    print(\"Hi ha diferències significatives entre les distribucions d'EMINA en SENSE_PA i TOTAL.\")\n",
    "else:\n",
    "    print(\"No hi ha diferències significatives entre les distribucions d'EMINA en SENSE_PA i TOTAL.\")"
   ],
   "metadata": {
    "collapsed": false,
    "ExecuteTime": {
     "end_time": "2024-05-29T13:02:56.932326Z",
     "start_time": "2024-05-29T13:02:56.901506Z"
    }
   },
   "id": "b72c68693583e183",
   "outputs": [
    {
     "ename": "NameError",
     "evalue": "name 'pd' is not defined",
     "output_type": "error",
     "traceback": [
      "\u001B[1;31m---------------------------------------------------------------------------\u001B[0m",
      "\u001B[1;31mNameError\u001B[0m                                 Traceback (most recent call last)",
      "Cell \u001B[1;32mIn[90], line 1\u001B[0m\n\u001B[1;32m----> 1\u001B[0m contingency_table_34 \u001B[38;5;241m=\u001B[39m \u001B[43mpd\u001B[49m\u001B[38;5;241m.\u001B[39mcrosstab(index\u001B[38;5;241m=\u001B[39mSENSE_PA[\u001B[38;5;124m'\u001B[39m\u001B[38;5;124mEMINA sumatoris comparats\u001B[39m\u001B[38;5;124m'\u001B[39m]\u001B[38;5;241m.\u001B[39mbetween(\u001B[38;5;241m0\u001B[39m,\u001B[38;5;241m5\u001B[39m), columns\u001B[38;5;241m=\u001B[39mTOTAL[\u001B[38;5;124m'\u001B[39m\u001B[38;5;124mEMINA sumatoris comparats\u001B[39m\u001B[38;5;124m'\u001B[39m]\u001B[38;5;241m.\u001B[39mbetween(\u001B[38;5;241m0\u001B[39m,\u001B[38;5;241m5\u001B[39m))\n\u001B[0;32m      3\u001B[0m chi2_34, p_value_34, dof_34, expected_34 \u001B[38;5;241m=\u001B[39m chi2_contingency(contingency_table_34)\n\u001B[0;32m      5\u001B[0m \u001B[38;5;28mprint\u001B[39m(\u001B[38;5;124m\"\u001B[39m\u001B[38;5;124mEstadístic xi-quadrat entre SENSE_PA i TOTAL:\u001B[39m\u001B[38;5;124m\"\u001B[39m, chi2_34)\n",
      "\u001B[1;31mNameError\u001B[0m: name 'pd' is not defined"
     ]
    }
   ],
   "execution_count": 90
  },
  {
   "cell_type": "markdown",
   "source": [
    "##### Risc moderat"
   ],
   "metadata": {
    "collapsed": false
   },
   "id": "be49bd7a4f19319c"
  },
  {
   "cell_type": "code",
   "source": [
    "contingency_table_12 = pd.crosstab(index=AMB_PA['EMINA sumatoris comparats'].between(6,10), columns=AMB_PA_MECVV['EMINA sumatoris comparats'].between(6,10))\n",
    "\n",
    "chi2_12, p_value_12, dof_12, expected_12 = chi2_contingency(contingency_table_12)\n",
    "\n",
    "print(\"Estadístic xi-quadrat entre AMB_PA i AMB_PA_MECVV:\", chi2_12)\n",
    "print(\"P-valor entre AMB_PA i AMB_PA_MECVV:\", p_value_12)\n",
    "\n",
    "if p_value_12 < 0.05:\n",
    "    print(\"Hi ha diferències significatives entre les distribucions d'EMINA en AMB_PA i AMB_PA_MECVV.\")\n",
    "else:\n",
    "    print(\"No hi ha diferències significatives entre les distribucions d'EMINA en AMB_PA i AMB_PA_MECVV.\")"
   ],
   "metadata": {
    "collapsed": false,
    "ExecuteTime": {
     "end_time": "2024-05-29T13:02:57.847007Z",
     "start_time": "2024-05-29T13:02:57.814500Z"
    }
   },
   "id": "96c8872fb9bc18d4",
   "outputs": [
    {
     "ename": "NameError",
     "evalue": "name 'pd' is not defined",
     "output_type": "error",
     "traceback": [
      "\u001B[1;31m---------------------------------------------------------------------------\u001B[0m",
      "\u001B[1;31mNameError\u001B[0m                                 Traceback (most recent call last)",
      "Cell \u001B[1;32mIn[91], line 1\u001B[0m\n\u001B[1;32m----> 1\u001B[0m contingency_table_12 \u001B[38;5;241m=\u001B[39m \u001B[43mpd\u001B[49m\u001B[38;5;241m.\u001B[39mcrosstab(index\u001B[38;5;241m=\u001B[39mAMB_PA[\u001B[38;5;124m'\u001B[39m\u001B[38;5;124mEMINA sumatoris comparats\u001B[39m\u001B[38;5;124m'\u001B[39m]\u001B[38;5;241m.\u001B[39mbetween(\u001B[38;5;241m6\u001B[39m,\u001B[38;5;241m10\u001B[39m), columns\u001B[38;5;241m=\u001B[39mAMB_PA_MECVV[\u001B[38;5;124m'\u001B[39m\u001B[38;5;124mEMINA sumatoris comparats\u001B[39m\u001B[38;5;124m'\u001B[39m]\u001B[38;5;241m.\u001B[39mbetween(\u001B[38;5;241m6\u001B[39m,\u001B[38;5;241m10\u001B[39m))\n\u001B[0;32m      3\u001B[0m chi2_12, p_value_12, dof_12, expected_12 \u001B[38;5;241m=\u001B[39m chi2_contingency(contingency_table_12)\n\u001B[0;32m      5\u001B[0m \u001B[38;5;28mprint\u001B[39m(\u001B[38;5;124m\"\u001B[39m\u001B[38;5;124mEstadístic xi-quadrat entre AMB_PA i AMB_PA_MECVV:\u001B[39m\u001B[38;5;124m\"\u001B[39m, chi2_12)\n",
      "\u001B[1;31mNameError\u001B[0m: name 'pd' is not defined"
     ]
    }
   ],
   "execution_count": 91
  },
  {
   "cell_type": "code",
   "source": [
    "contingency_table_13 = pd.crosstab(index=AMB_PA['EMINA sumatoris comparats'].between(6,10), columns=SENSE_PA['EMINA sumatoris comparats'].between(6,10))\n",
    "\n",
    "chi2_13, p_value_13, dof_13, expected_13 = chi2_contingency(contingency_table_13)\n",
    "\n",
    "print(\"Estadístic xi-quadrat entre AMB_PA i SENSE_PA:\", chi2_13)\n",
    "print(\"P-valor entre AMB_PA i SENSE_PA:\", p_value_13)\n",
    "\n",
    "if p_value_13 < 0.05:\n",
    "    print(\"Hi ha diferències significatives entre les distribucions d'EMINA en AMB_PA i SENSE_PA.\")\n",
    "else:\n",
    "    print(\"No hi ha diferències significatives entre les distribucions d'EMINA en AMB_PA i SENSE_PA.\")"
   ],
   "metadata": {
    "collapsed": false,
    "ExecuteTime": {
     "end_time": "2024-05-29T13:02:58.690168Z",
     "start_time": "2024-05-29T13:02:58.661484Z"
    }
   },
   "id": "9fc95bac17d2e9e2",
   "outputs": [
    {
     "ename": "NameError",
     "evalue": "name 'pd' is not defined",
     "output_type": "error",
     "traceback": [
      "\u001B[1;31m---------------------------------------------------------------------------\u001B[0m",
      "\u001B[1;31mNameError\u001B[0m                                 Traceback (most recent call last)",
      "Cell \u001B[1;32mIn[92], line 1\u001B[0m\n\u001B[1;32m----> 1\u001B[0m contingency_table_13 \u001B[38;5;241m=\u001B[39m \u001B[43mpd\u001B[49m\u001B[38;5;241m.\u001B[39mcrosstab(index\u001B[38;5;241m=\u001B[39mAMB_PA[\u001B[38;5;124m'\u001B[39m\u001B[38;5;124mEMINA sumatoris comparats\u001B[39m\u001B[38;5;124m'\u001B[39m]\u001B[38;5;241m.\u001B[39mbetween(\u001B[38;5;241m6\u001B[39m,\u001B[38;5;241m10\u001B[39m), columns\u001B[38;5;241m=\u001B[39mSENSE_PA[\u001B[38;5;124m'\u001B[39m\u001B[38;5;124mEMINA sumatoris comparats\u001B[39m\u001B[38;5;124m'\u001B[39m]\u001B[38;5;241m.\u001B[39mbetween(\u001B[38;5;241m6\u001B[39m,\u001B[38;5;241m10\u001B[39m))\n\u001B[0;32m      3\u001B[0m chi2_13, p_value_13, dof_13, expected_13 \u001B[38;5;241m=\u001B[39m chi2_contingency(contingency_table_13)\n\u001B[0;32m      5\u001B[0m \u001B[38;5;28mprint\u001B[39m(\u001B[38;5;124m\"\u001B[39m\u001B[38;5;124mEstadístic xi-quadrat entre AMB_PA i SENSE_PA:\u001B[39m\u001B[38;5;124m\"\u001B[39m, chi2_13)\n",
      "\u001B[1;31mNameError\u001B[0m: name 'pd' is not defined"
     ]
    }
   ],
   "execution_count": 92
  },
  {
   "cell_type": "code",
   "source": [
    "contingency_table_23 = pd.crosstab(index=AMB_PA_MECVV['EMINA sumatoris comparats'].between(6,10), columns=SENSE_PA['EMINA sumatoris comparats'].between(6,10))\n",
    "\n",
    "chi2_23, p_value_23, dof_23, expected_23 = chi2_contingency(contingency_table_23)\n",
    "\n",
    "print(\"Estadístic xi-quadrat entre AMB_PA_MECVV i SENSE_PA:\", chi2_23)\n",
    "print(\"P-valor entre AMB_PA_MECVV i SENSE_PA:\", p_value_23)\n",
    "\n",
    "if p_value_23 < 0.05:\n",
    "    print(\"Hi ha diferències significatives entre les distribucions d'EMINA en AMB_PA_MECVV i SENSE_PA.\")\n",
    "else:\n",
    "    print(\"No hi ha diferències significatives entre les distribucions d'EMINA en AMB_PA_MECVV i SENSE_PA.\")"
   ],
   "metadata": {
    "collapsed": false,
    "ExecuteTime": {
     "end_time": "2024-05-29T13:02:59.601682Z",
     "start_time": "2024-05-29T13:02:59.579072Z"
    }
   },
   "id": "21ba19ca2b49a897",
   "outputs": [
    {
     "ename": "NameError",
     "evalue": "name 'pd' is not defined",
     "output_type": "error",
     "traceback": [
      "\u001B[1;31m---------------------------------------------------------------------------\u001B[0m",
      "\u001B[1;31mNameError\u001B[0m                                 Traceback (most recent call last)",
      "Cell \u001B[1;32mIn[93], line 1\u001B[0m\n\u001B[1;32m----> 1\u001B[0m contingency_table_23 \u001B[38;5;241m=\u001B[39m \u001B[43mpd\u001B[49m\u001B[38;5;241m.\u001B[39mcrosstab(index\u001B[38;5;241m=\u001B[39mAMB_PA_MECVV[\u001B[38;5;124m'\u001B[39m\u001B[38;5;124mEMINA sumatoris comparats\u001B[39m\u001B[38;5;124m'\u001B[39m]\u001B[38;5;241m.\u001B[39mbetween(\u001B[38;5;241m6\u001B[39m,\u001B[38;5;241m10\u001B[39m), columns\u001B[38;5;241m=\u001B[39mSENSE_PA[\u001B[38;5;124m'\u001B[39m\u001B[38;5;124mEMINA sumatoris comparats\u001B[39m\u001B[38;5;124m'\u001B[39m]\u001B[38;5;241m.\u001B[39mbetween(\u001B[38;5;241m6\u001B[39m,\u001B[38;5;241m10\u001B[39m))\n\u001B[0;32m      3\u001B[0m chi2_23, p_value_23, dof_23, expected_23 \u001B[38;5;241m=\u001B[39m chi2_contingency(contingency_table_23)\n\u001B[0;32m      5\u001B[0m \u001B[38;5;28mprint\u001B[39m(\u001B[38;5;124m\"\u001B[39m\u001B[38;5;124mEstadístic xi-quadrat entre AMB_PA_MECVV i SENSE_PA:\u001B[39m\u001B[38;5;124m\"\u001B[39m, chi2_23)\n",
      "\u001B[1;31mNameError\u001B[0m: name 'pd' is not defined"
     ]
    }
   ],
   "execution_count": 93
  },
  {
   "cell_type": "code",
   "source": [
    "contingency_table_14 = pd.crosstab(index=AMB_PA['EMINA sumatoris comparats'].between(6,10), columns=TOTAL['EMINA sumatoris comparats'].between(6,10))\n",
    "\n",
    "chi2_14, p_value_14, dof_14, expected_14 = chi2_contingency(contingency_table_14)\n",
    "\n",
    "print(\"Estadístic xi-quadrat entre AMB_PA i TOTAL:\", chi2_14)\n",
    "print(\"P-valor entre AMB_PA i TOTAL:\", p_value_14)\n",
    "\n",
    "if p_value_14 < 0.05:\n",
    "    print(\"Hi ha diferències significatives entre les distribucions d'EMINA en AMB_PA i TOTAL.\")\n",
    "else:\n",
    "    print(\"No hi ha diferències significatives entre les distribucions d'EMINA en AMB_PA i TOTAL.\")"
   ],
   "metadata": {
    "collapsed": false,
    "ExecuteTime": {
     "end_time": "2024-05-29T13:03:00.419238Z",
     "start_time": "2024-05-29T13:03:00.386127Z"
    }
   },
   "id": "94a619aac0b9d15f",
   "outputs": [
    {
     "ename": "NameError",
     "evalue": "name 'pd' is not defined",
     "output_type": "error",
     "traceback": [
      "\u001B[1;31m---------------------------------------------------------------------------\u001B[0m",
      "\u001B[1;31mNameError\u001B[0m                                 Traceback (most recent call last)",
      "Cell \u001B[1;32mIn[94], line 1\u001B[0m\n\u001B[1;32m----> 1\u001B[0m contingency_table_14 \u001B[38;5;241m=\u001B[39m \u001B[43mpd\u001B[49m\u001B[38;5;241m.\u001B[39mcrosstab(index\u001B[38;5;241m=\u001B[39mAMB_PA[\u001B[38;5;124m'\u001B[39m\u001B[38;5;124mEMINA sumatoris comparats\u001B[39m\u001B[38;5;124m'\u001B[39m]\u001B[38;5;241m.\u001B[39mbetween(\u001B[38;5;241m6\u001B[39m,\u001B[38;5;241m10\u001B[39m), columns\u001B[38;5;241m=\u001B[39mTOTAL[\u001B[38;5;124m'\u001B[39m\u001B[38;5;124mEMINA sumatoris comparats\u001B[39m\u001B[38;5;124m'\u001B[39m]\u001B[38;5;241m.\u001B[39mbetween(\u001B[38;5;241m6\u001B[39m,\u001B[38;5;241m10\u001B[39m))\n\u001B[0;32m      3\u001B[0m chi2_14, p_value_14, dof_14, expected_14 \u001B[38;5;241m=\u001B[39m chi2_contingency(contingency_table_14)\n\u001B[0;32m      5\u001B[0m \u001B[38;5;28mprint\u001B[39m(\u001B[38;5;124m\"\u001B[39m\u001B[38;5;124mEstadístic xi-quadrat entre AMB_PA i TOTAL:\u001B[39m\u001B[38;5;124m\"\u001B[39m, chi2_14)\n",
      "\u001B[1;31mNameError\u001B[0m: name 'pd' is not defined"
     ]
    }
   ],
   "execution_count": 94
  },
  {
   "cell_type": "code",
   "source": [
    "contingency_table_24 = pd.crosstab(index=AMB_PA_MECVV['EMINA sumatoris comparats'].between(6,10), columns=TOTAL['EMINA sumatoris comparats'].between(6,10))\n",
    "\n",
    "chi2_24, p_value_24, dof_24, expected_24 = chi2_contingency(contingency_table_24)\n",
    "\n",
    "print(\"Estadístic xi-quadrat entre AMB_PA_MECVV i TOTAL:\", chi2_24)\n",
    "print(\"P-valor entre AMB_PA_MECVV i TOTAL:\", p_value_24)\n",
    "\n",
    "if p_value_24 < 0.05:\n",
    "    print(\"Hi ha diferències significatives entre les distribucions d'EMINA en AMB_PA_MECVV i TOTAL.\")\n",
    "else:\n",
    "    print(\"No hi ha diferències significatives entre les distribucions d'EMINA en AMB_PA_MECVV i TOTAL.\")"
   ],
   "metadata": {
    "collapsed": false,
    "ExecuteTime": {
     "end_time": "2024-05-29T13:03:01.088487Z",
     "start_time": "2024-05-29T13:03:01.062478Z"
    }
   },
   "id": "a73f8c05a8e9edb0",
   "outputs": [
    {
     "ename": "NameError",
     "evalue": "name 'pd' is not defined",
     "output_type": "error",
     "traceback": [
      "\u001B[1;31m---------------------------------------------------------------------------\u001B[0m",
      "\u001B[1;31mNameError\u001B[0m                                 Traceback (most recent call last)",
      "Cell \u001B[1;32mIn[95], line 1\u001B[0m\n\u001B[1;32m----> 1\u001B[0m contingency_table_24 \u001B[38;5;241m=\u001B[39m \u001B[43mpd\u001B[49m\u001B[38;5;241m.\u001B[39mcrosstab(index\u001B[38;5;241m=\u001B[39mAMB_PA_MECVV[\u001B[38;5;124m'\u001B[39m\u001B[38;5;124mEMINA sumatoris comparats\u001B[39m\u001B[38;5;124m'\u001B[39m]\u001B[38;5;241m.\u001B[39mbetween(\u001B[38;5;241m6\u001B[39m,\u001B[38;5;241m10\u001B[39m), columns\u001B[38;5;241m=\u001B[39mTOTAL[\u001B[38;5;124m'\u001B[39m\u001B[38;5;124mEMINA sumatoris comparats\u001B[39m\u001B[38;5;124m'\u001B[39m]\u001B[38;5;241m.\u001B[39mbetween(\u001B[38;5;241m6\u001B[39m,\u001B[38;5;241m10\u001B[39m))\n\u001B[0;32m      3\u001B[0m chi2_24, p_value_24, dof_24, expected_24 \u001B[38;5;241m=\u001B[39m chi2_contingency(contingency_table_24)\n\u001B[0;32m      5\u001B[0m \u001B[38;5;28mprint\u001B[39m(\u001B[38;5;124m\"\u001B[39m\u001B[38;5;124mEstadístic xi-quadrat entre AMB_PA_MECVV i TOTAL:\u001B[39m\u001B[38;5;124m\"\u001B[39m, chi2_24)\n",
      "\u001B[1;31mNameError\u001B[0m: name 'pd' is not defined"
     ]
    }
   ],
   "execution_count": 95
  },
  {
   "cell_type": "code",
   "source": [
    "contingency_table_34 = pd.crosstab(index=SENSE_PA['EMINA sumatoris comparats'].between(6,10), columns=TOTAL['EMINA sumatoris comparats'].between(6,10))\n",
    "\n",
    "chi2_34, p_value_34, dof_34, expected_34 = chi2_contingency(contingency_table_34)\n",
    "\n",
    "print(\"Estadístic xi-quadrat entre SENSE_PA i TOTAL:\", chi2_34)\n",
    "print(\"P-valor entre SENSE_PA i TOTAL:\", p_value_34)\n",
    "\n",
    "if p_value_34 < 0.05:\n",
    "    print(\"Hi ha diferències significatives entre les distribucions d'EMINA en SENSE_PA i TOTAL.\")\n",
    "else:\n",
    "    print(\"No hi ha diferències significatives entre les distribucions d'EMINA en SENSE_PA i TOTAL.\")"
   ],
   "metadata": {
    "collapsed": false,
    "ExecuteTime": {
     "end_time": "2024-05-29T13:03:01.997629Z",
     "start_time": "2024-05-29T13:03:01.968296Z"
    }
   },
   "id": "1672e47945619054",
   "outputs": [
    {
     "ename": "NameError",
     "evalue": "name 'pd' is not defined",
     "output_type": "error",
     "traceback": [
      "\u001B[1;31m---------------------------------------------------------------------------\u001B[0m",
      "\u001B[1;31mNameError\u001B[0m                                 Traceback (most recent call last)",
      "Cell \u001B[1;32mIn[96], line 1\u001B[0m\n\u001B[1;32m----> 1\u001B[0m contingency_table_34 \u001B[38;5;241m=\u001B[39m \u001B[43mpd\u001B[49m\u001B[38;5;241m.\u001B[39mcrosstab(index\u001B[38;5;241m=\u001B[39mSENSE_PA[\u001B[38;5;124m'\u001B[39m\u001B[38;5;124mEMINA sumatoris comparats\u001B[39m\u001B[38;5;124m'\u001B[39m]\u001B[38;5;241m.\u001B[39mbetween(\u001B[38;5;241m6\u001B[39m,\u001B[38;5;241m10\u001B[39m), columns\u001B[38;5;241m=\u001B[39mTOTAL[\u001B[38;5;124m'\u001B[39m\u001B[38;5;124mEMINA sumatoris comparats\u001B[39m\u001B[38;5;124m'\u001B[39m]\u001B[38;5;241m.\u001B[39mbetween(\u001B[38;5;241m6\u001B[39m,\u001B[38;5;241m10\u001B[39m))\n\u001B[0;32m      3\u001B[0m chi2_34, p_value_34, dof_34, expected_34 \u001B[38;5;241m=\u001B[39m chi2_contingency(contingency_table_34)\n\u001B[0;32m      5\u001B[0m \u001B[38;5;28mprint\u001B[39m(\u001B[38;5;124m\"\u001B[39m\u001B[38;5;124mEstadístic xi-quadrat entre SENSE_PA i TOTAL:\u001B[39m\u001B[38;5;124m\"\u001B[39m, chi2_34)\n",
      "\u001B[1;31mNameError\u001B[0m: name 'pd' is not defined"
     ]
    }
   ],
   "execution_count": 96
  },
  {
   "cell_type": "markdown",
   "source": [
    "##### Risc alt"
   ],
   "metadata": {
    "collapsed": false
   },
   "id": "e488142beffef25c"
  },
  {
   "cell_type": "code",
   "source": [
    "contingency_table_12 = pd.crosstab(index=AMB_PA['EMINA sumatoris comparats'].between(11,15), columns=AMB_PA_MECVV['EMINA sumatoris comparats'].between(11,15))\n",
    "\n",
    "chi2_12, p_value_12, dof_12, expected_12 = chi2_contingency(contingency_table_12)\n",
    "\n",
    "print(\"Estadístic xi-quadrat entre AMB_PA i AMB_PA_MECVV:\", chi2_12)\n",
    "print(\"P-valor entre AMB_PA i AMB_PA_MECVV:\", p_value_12)\n",
    "\n",
    "if p_value_12 < 0.05:\n",
    "    print(\"Hi ha diferències significatives entre les distribucions d'EMINA en AMB_PA i AMB_PA_MECVV.\")\n",
    "else:\n",
    "    print(\"No hi ha diferències significatives entre les distribucions d'EMINA en AMB_PA i AMB_PA_MECVV.\")"
   ],
   "metadata": {
    "collapsed": false,
    "ExecuteTime": {
     "end_time": "2024-05-29T13:03:03.033118Z",
     "start_time": "2024-05-29T13:03:03.004667Z"
    }
   },
   "id": "6bcbf3b4f94e1a78",
   "outputs": [
    {
     "ename": "NameError",
     "evalue": "name 'pd' is not defined",
     "output_type": "error",
     "traceback": [
      "\u001B[1;31m---------------------------------------------------------------------------\u001B[0m",
      "\u001B[1;31mNameError\u001B[0m                                 Traceback (most recent call last)",
      "Cell \u001B[1;32mIn[97], line 1\u001B[0m\n\u001B[1;32m----> 1\u001B[0m contingency_table_12 \u001B[38;5;241m=\u001B[39m \u001B[43mpd\u001B[49m\u001B[38;5;241m.\u001B[39mcrosstab(index\u001B[38;5;241m=\u001B[39mAMB_PA[\u001B[38;5;124m'\u001B[39m\u001B[38;5;124mEMINA sumatoris comparats\u001B[39m\u001B[38;5;124m'\u001B[39m]\u001B[38;5;241m.\u001B[39mbetween(\u001B[38;5;241m11\u001B[39m,\u001B[38;5;241m15\u001B[39m), columns\u001B[38;5;241m=\u001B[39mAMB_PA_MECVV[\u001B[38;5;124m'\u001B[39m\u001B[38;5;124mEMINA sumatoris comparats\u001B[39m\u001B[38;5;124m'\u001B[39m]\u001B[38;5;241m.\u001B[39mbetween(\u001B[38;5;241m11\u001B[39m,\u001B[38;5;241m15\u001B[39m))\n\u001B[0;32m      3\u001B[0m chi2_12, p_value_12, dof_12, expected_12 \u001B[38;5;241m=\u001B[39m chi2_contingency(contingency_table_12)\n\u001B[0;32m      5\u001B[0m \u001B[38;5;28mprint\u001B[39m(\u001B[38;5;124m\"\u001B[39m\u001B[38;5;124mEstadístic xi-quadrat entre AMB_PA i AMB_PA_MECVV:\u001B[39m\u001B[38;5;124m\"\u001B[39m, chi2_12)\n",
      "\u001B[1;31mNameError\u001B[0m: name 'pd' is not defined"
     ]
    }
   ],
   "execution_count": 97
  },
  {
   "cell_type": "code",
   "source": [
    "contingency_table_13 = pd.crosstab(index=AMB_PA['EMINA sumatoris comparats'].between(11,15), columns=SENSE_PA['EMINA sumatoris comparats'].between(11,15))\n",
    "\n",
    "chi2_13, p_value_13, dof_13, expected_13 = chi2_contingency(contingency_table_13)\n",
    "\n",
    "print(\"Estadístic xi-quadrat entre AMB_PA i SENSE_PA:\", chi2_13)\n",
    "print(\"P-valor entre AMB_PA i SENSE_PA:\", p_value_13)\n",
    "\n",
    "if p_value_13 < 0.05:\n",
    "    print(\"Hi ha diferències significatives entre les distribucions d'EMINA en AMB_PA i SENSE_PA.\")\n",
    "else:\n",
    "    print(\"No hi ha diferències significatives entre les distribucions d'EMINA en AMB_PA i SENSE_PA.\")"
   ],
   "metadata": {
    "collapsed": false,
    "ExecuteTime": {
     "end_time": "2024-05-29T13:03:03.720113Z",
     "start_time": "2024-05-29T13:03:03.691376Z"
    }
   },
   "id": "89258d59b878f650",
   "outputs": [
    {
     "ename": "NameError",
     "evalue": "name 'pd' is not defined",
     "output_type": "error",
     "traceback": [
      "\u001B[1;31m---------------------------------------------------------------------------\u001B[0m",
      "\u001B[1;31mNameError\u001B[0m                                 Traceback (most recent call last)",
      "Cell \u001B[1;32mIn[98], line 1\u001B[0m\n\u001B[1;32m----> 1\u001B[0m contingency_table_13 \u001B[38;5;241m=\u001B[39m \u001B[43mpd\u001B[49m\u001B[38;5;241m.\u001B[39mcrosstab(index\u001B[38;5;241m=\u001B[39mAMB_PA[\u001B[38;5;124m'\u001B[39m\u001B[38;5;124mEMINA sumatoris comparats\u001B[39m\u001B[38;5;124m'\u001B[39m]\u001B[38;5;241m.\u001B[39mbetween(\u001B[38;5;241m11\u001B[39m,\u001B[38;5;241m15\u001B[39m), columns\u001B[38;5;241m=\u001B[39mSENSE_PA[\u001B[38;5;124m'\u001B[39m\u001B[38;5;124mEMINA sumatoris comparats\u001B[39m\u001B[38;5;124m'\u001B[39m]\u001B[38;5;241m.\u001B[39mbetween(\u001B[38;5;241m11\u001B[39m,\u001B[38;5;241m15\u001B[39m))\n\u001B[0;32m      3\u001B[0m chi2_13, p_value_13, dof_13, expected_13 \u001B[38;5;241m=\u001B[39m chi2_contingency(contingency_table_13)\n\u001B[0;32m      5\u001B[0m \u001B[38;5;28mprint\u001B[39m(\u001B[38;5;124m\"\u001B[39m\u001B[38;5;124mEstadístic xi-quadrat entre AMB_PA i SENSE_PA:\u001B[39m\u001B[38;5;124m\"\u001B[39m, chi2_13)\n",
      "\u001B[1;31mNameError\u001B[0m: name 'pd' is not defined"
     ]
    }
   ],
   "execution_count": 98
  },
  {
   "cell_type": "code",
   "source": [
    "contingency_table_23 = pd.crosstab(index=AMB_PA_MECVV['EMINA sumatoris comparats'].between(11,15), columns=SENSE_PA['EMINA sumatoris comparats'].between(11,15))\n",
    "\n",
    "chi2_23, p_value_23, dof_23, expected_23 = chi2_contingency(contingency_table_23)\n",
    "\n",
    "print(\"Estadístic xi-quadrat entre AMB_PA_MECVV i SENSE_PA:\", chi2_23)\n",
    "print(\"P-valor entre AMB_PA_MECVV i SENSE_PA:\", p_value_23)\n",
    "\n",
    "if p_value_23 < 0.05:\n",
    "    print(\"Hi ha diferències significatives entre les distribucions d'EMINA en AMB_PA_MECVV i SENSE_PA.\")\n",
    "else:\n",
    "    print(\"No hi ha diferències significatives entre les distribucions d'EMINA en AMB_PA_MECVV i SENSE_PA.\")"
   ],
   "metadata": {
    "collapsed": false,
    "ExecuteTime": {
     "end_time": "2024-05-29T13:03:04.823914Z",
     "start_time": "2024-05-29T13:03:04.791505Z"
    }
   },
   "id": "3b687be616b16461",
   "outputs": [
    {
     "ename": "NameError",
     "evalue": "name 'pd' is not defined",
     "output_type": "error",
     "traceback": [
      "\u001B[1;31m---------------------------------------------------------------------------\u001B[0m",
      "\u001B[1;31mNameError\u001B[0m                                 Traceback (most recent call last)",
      "Cell \u001B[1;32mIn[99], line 1\u001B[0m\n\u001B[1;32m----> 1\u001B[0m contingency_table_23 \u001B[38;5;241m=\u001B[39m \u001B[43mpd\u001B[49m\u001B[38;5;241m.\u001B[39mcrosstab(index\u001B[38;5;241m=\u001B[39mAMB_PA_MECVV[\u001B[38;5;124m'\u001B[39m\u001B[38;5;124mEMINA sumatoris comparats\u001B[39m\u001B[38;5;124m'\u001B[39m]\u001B[38;5;241m.\u001B[39mbetween(\u001B[38;5;241m11\u001B[39m,\u001B[38;5;241m15\u001B[39m), columns\u001B[38;5;241m=\u001B[39mSENSE_PA[\u001B[38;5;124m'\u001B[39m\u001B[38;5;124mEMINA sumatoris comparats\u001B[39m\u001B[38;5;124m'\u001B[39m]\u001B[38;5;241m.\u001B[39mbetween(\u001B[38;5;241m11\u001B[39m,\u001B[38;5;241m15\u001B[39m))\n\u001B[0;32m      3\u001B[0m chi2_23, p_value_23, dof_23, expected_23 \u001B[38;5;241m=\u001B[39m chi2_contingency(contingency_table_23)\n\u001B[0;32m      5\u001B[0m \u001B[38;5;28mprint\u001B[39m(\u001B[38;5;124m\"\u001B[39m\u001B[38;5;124mEstadístic xi-quadrat entre AMB_PA_MECVV i SENSE_PA:\u001B[39m\u001B[38;5;124m\"\u001B[39m, chi2_23)\n",
      "\u001B[1;31mNameError\u001B[0m: name 'pd' is not defined"
     ]
    }
   ],
   "execution_count": 99
  },
  {
   "cell_type": "code",
   "source": [
    "contingency_table_14 = pd.crosstab(index=AMB_PA['EMINA sumatoris comparats'].between(11,15), columns=TOTAL['EMINA sumatoris comparats'].between(11,15))\n",
    "\n",
    "chi2_14, p_value_14, dof_14, expected_14 = chi2_contingency(contingency_table_14)\n",
    "\n",
    "print(\"Estadístic xi-quadrat entre AMB_PA i TOTAL:\", chi2_14)\n",
    "print(\"P-valor entre AMB_PA i TOTAL:\", p_value_14)\n",
    "\n",
    "if p_value_14 < 0.05:\n",
    "    print(\"Hi ha diferències significatives entre les distribucions d'EMINA en AMB_PA i TOTAL.\")\n",
    "else:\n",
    "    print(\"No hi ha diferències significatives entre les distribucions d'EMINA en AMB_PA i TOTAL.\")"
   ],
   "metadata": {
    "collapsed": false,
    "ExecuteTime": {
     "end_time": "2024-05-29T13:03:05.749300Z",
     "start_time": "2024-05-29T13:03:05.710149Z"
    }
   },
   "id": "10d529154f066318",
   "outputs": [
    {
     "ename": "NameError",
     "evalue": "name 'pd' is not defined",
     "output_type": "error",
     "traceback": [
      "\u001B[1;31m---------------------------------------------------------------------------\u001B[0m",
      "\u001B[1;31mNameError\u001B[0m                                 Traceback (most recent call last)",
      "Cell \u001B[1;32mIn[100], line 1\u001B[0m\n\u001B[1;32m----> 1\u001B[0m contingency_table_14 \u001B[38;5;241m=\u001B[39m \u001B[43mpd\u001B[49m\u001B[38;5;241m.\u001B[39mcrosstab(index\u001B[38;5;241m=\u001B[39mAMB_PA[\u001B[38;5;124m'\u001B[39m\u001B[38;5;124mEMINA sumatoris comparats\u001B[39m\u001B[38;5;124m'\u001B[39m]\u001B[38;5;241m.\u001B[39mbetween(\u001B[38;5;241m11\u001B[39m,\u001B[38;5;241m15\u001B[39m), columns\u001B[38;5;241m=\u001B[39mTOTAL[\u001B[38;5;124m'\u001B[39m\u001B[38;5;124mEMINA sumatoris comparats\u001B[39m\u001B[38;5;124m'\u001B[39m]\u001B[38;5;241m.\u001B[39mbetween(\u001B[38;5;241m11\u001B[39m,\u001B[38;5;241m15\u001B[39m))\n\u001B[0;32m      3\u001B[0m chi2_14, p_value_14, dof_14, expected_14 \u001B[38;5;241m=\u001B[39m chi2_contingency(contingency_table_14)\n\u001B[0;32m      5\u001B[0m \u001B[38;5;28mprint\u001B[39m(\u001B[38;5;124m\"\u001B[39m\u001B[38;5;124mEstadístic xi-quadrat entre AMB_PA i TOTAL:\u001B[39m\u001B[38;5;124m\"\u001B[39m, chi2_14)\n",
      "\u001B[1;31mNameError\u001B[0m: name 'pd' is not defined"
     ]
    }
   ],
   "execution_count": 100
  },
  {
   "cell_type": "code",
   "source": [
    "contingency_table_24 = pd.crosstab(index=AMB_PA_MECVV['EMINA sumatoris comparats'].between(11,15), columns=TOTAL['EMINA sumatoris comparats'].between(11,15))\n",
    "\n",
    "chi2_24, p_value_24, dof_24, expected_24 = chi2_contingency(contingency_table_24)\n",
    "\n",
    "print(\"Estadístic xi-quadrat entre AMB_PA_MECVV i TOTAL:\", chi2_24)\n",
    "print(\"P-valor entre AMB_PA_MECVV i TOTAL:\", p_value_24)\n",
    "\n",
    "if p_value_24 < 0.05:\n",
    "    print(\"Hi ha diferències significatives entre les distribucions d'EMINA en AMB_PA_MECVV i TOTAL.\")\n",
    "else:\n",
    "    print(\"No hi ha diferències significatives entre les distribucions d'EMINA en AMB_PA_MECVV i TOTAL.\")"
   ],
   "metadata": {
    "collapsed": false,
    "ExecuteTime": {
     "end_time": "2024-05-29T13:03:06.448369Z",
     "start_time": "2024-05-29T13:03:06.421545Z"
    }
   },
   "id": "3488eff4a7d12c7b",
   "outputs": [
    {
     "ename": "NameError",
     "evalue": "name 'pd' is not defined",
     "output_type": "error",
     "traceback": [
      "\u001B[1;31m---------------------------------------------------------------------------\u001B[0m",
      "\u001B[1;31mNameError\u001B[0m                                 Traceback (most recent call last)",
      "Cell \u001B[1;32mIn[101], line 1\u001B[0m\n\u001B[1;32m----> 1\u001B[0m contingency_table_24 \u001B[38;5;241m=\u001B[39m \u001B[43mpd\u001B[49m\u001B[38;5;241m.\u001B[39mcrosstab(index\u001B[38;5;241m=\u001B[39mAMB_PA_MECVV[\u001B[38;5;124m'\u001B[39m\u001B[38;5;124mEMINA sumatoris comparats\u001B[39m\u001B[38;5;124m'\u001B[39m]\u001B[38;5;241m.\u001B[39mbetween(\u001B[38;5;241m11\u001B[39m,\u001B[38;5;241m15\u001B[39m), columns\u001B[38;5;241m=\u001B[39mTOTAL[\u001B[38;5;124m'\u001B[39m\u001B[38;5;124mEMINA sumatoris comparats\u001B[39m\u001B[38;5;124m'\u001B[39m]\u001B[38;5;241m.\u001B[39mbetween(\u001B[38;5;241m11\u001B[39m,\u001B[38;5;241m15\u001B[39m))\n\u001B[0;32m      3\u001B[0m chi2_24, p_value_24, dof_24, expected_24 \u001B[38;5;241m=\u001B[39m chi2_contingency(contingency_table_24)\n\u001B[0;32m      5\u001B[0m \u001B[38;5;28mprint\u001B[39m(\u001B[38;5;124m\"\u001B[39m\u001B[38;5;124mEstadístic xi-quadrat entre AMB_PA_MECVV i TOTAL:\u001B[39m\u001B[38;5;124m\"\u001B[39m, chi2_24)\n",
      "\u001B[1;31mNameError\u001B[0m: name 'pd' is not defined"
     ]
    }
   ],
   "execution_count": 101
  },
  {
   "cell_type": "code",
   "source": [
    "contingency_table_34 = pd.crosstab(index=SENSE_PA['EMINA sumatoris comparats'].between(11,15), columns=TOTAL['EMINA sumatoris comparats'].between(11,15))\n",
    "\n",
    "chi2_34, p_value_34, dof_34, expected_34 = chi2_contingency(contingency_table_34)\n",
    "\n",
    "print(\"Estadístic xi-quadrat entre SENSE_PA i TOTAL:\", chi2_34)\n",
    "print(\"P-valor entre SENSE_PA i TOTAL:\", p_value_34)\n",
    "\n",
    "if p_value_34 < 0.05:\n",
    "    print(\"Hi ha diferències significatives entre les distribucions d'EMINA en SENSE_PA i TOTAL.\")\n",
    "else:\n",
    "    print(\"No hi ha diferències significatives entre les distribucions d'EMINA en SENSE_PA i TOTAL.\")"
   ],
   "metadata": {
    "collapsed": false,
    "ExecuteTime": {
     "end_time": "2024-05-29T13:03:07.436018Z",
     "start_time": "2024-05-29T13:03:07.403683Z"
    }
   },
   "id": "2d4749924b1e6162",
   "outputs": [
    {
     "ename": "NameError",
     "evalue": "name 'pd' is not defined",
     "output_type": "error",
     "traceback": [
      "\u001B[1;31m---------------------------------------------------------------------------\u001B[0m",
      "\u001B[1;31mNameError\u001B[0m                                 Traceback (most recent call last)",
      "Cell \u001B[1;32mIn[102], line 1\u001B[0m\n\u001B[1;32m----> 1\u001B[0m contingency_table_34 \u001B[38;5;241m=\u001B[39m \u001B[43mpd\u001B[49m\u001B[38;5;241m.\u001B[39mcrosstab(index\u001B[38;5;241m=\u001B[39mSENSE_PA[\u001B[38;5;124m'\u001B[39m\u001B[38;5;124mEMINA sumatoris comparats\u001B[39m\u001B[38;5;124m'\u001B[39m]\u001B[38;5;241m.\u001B[39mbetween(\u001B[38;5;241m11\u001B[39m,\u001B[38;5;241m15\u001B[39m), columns\u001B[38;5;241m=\u001B[39mTOTAL[\u001B[38;5;124m'\u001B[39m\u001B[38;5;124mEMINA sumatoris comparats\u001B[39m\u001B[38;5;124m'\u001B[39m]\u001B[38;5;241m.\u001B[39mbetween(\u001B[38;5;241m11\u001B[39m,\u001B[38;5;241m15\u001B[39m))\n\u001B[0;32m      3\u001B[0m chi2_34, p_value_34, dof_34, expected_34 \u001B[38;5;241m=\u001B[39m chi2_contingency(contingency_table_34)\n\u001B[0;32m      5\u001B[0m \u001B[38;5;28mprint\u001B[39m(\u001B[38;5;124m\"\u001B[39m\u001B[38;5;124mEstadístic xi-quadrat entre SENSE_PA i TOTAL:\u001B[39m\u001B[38;5;124m\"\u001B[39m, chi2_34)\n",
      "\u001B[1;31mNameError\u001B[0m: name 'pd' is not defined"
     ]
    }
   ],
   "execution_count": 102
  },
  {
   "cell_type": "markdown",
   "source": [
    "## Index de la canadenca (escala neurològica canadenca)"
   ],
   "metadata": {
    "collapsed": false
   },
   "id": "282b8cb64353c318"
  },
  {
   "cell_type": "markdown",
   "source": [
    "### Mitjana"
   ],
   "metadata": {
    "collapsed": false
   },
   "id": "15a24e6c45346c9e"
  },
  {
   "cell_type": "code",
   "source": [
    "Mitjana_canad = AMB_PA['Canadenca sumatoris comparats'].mean()\n",
    "desviacio_estandard_canad = AMB_PA['Canadenca sumatoris comparats'].std()\n",
    "\n",
    "resultat = f\"{Mitjana_canad:.2f} ± {desviacio_estandard_canad:.2f}\"\n",
    "print(\"Mitjana ± Desviació Estàndard de la canadenca:\", resultat)"
   ],
   "metadata": {
    "collapsed": false,
    "ExecuteTime": {
     "end_time": "2024-05-29T13:03:08.600606Z",
     "start_time": "2024-05-29T13:03:08.569107Z"
    }
   },
   "id": "1726c91356b0f3ed",
   "outputs": [
    {
     "ename": "NameError",
     "evalue": "name 'AMB_PA' is not defined",
     "output_type": "error",
     "traceback": [
      "\u001B[1;31m---------------------------------------------------------------------------\u001B[0m",
      "\u001B[1;31mNameError\u001B[0m                                 Traceback (most recent call last)",
      "Cell \u001B[1;32mIn[103], line 1\u001B[0m\n\u001B[1;32m----> 1\u001B[0m Mitjana_canad \u001B[38;5;241m=\u001B[39m \u001B[43mAMB_PA\u001B[49m[\u001B[38;5;124m'\u001B[39m\u001B[38;5;124mCanadenca sumatoris comparats\u001B[39m\u001B[38;5;124m'\u001B[39m]\u001B[38;5;241m.\u001B[39mmean()\n\u001B[0;32m      2\u001B[0m desviacio_estandard_canad \u001B[38;5;241m=\u001B[39m AMB_PA[\u001B[38;5;124m'\u001B[39m\u001B[38;5;124mCanadenca sumatoris comparats\u001B[39m\u001B[38;5;124m'\u001B[39m]\u001B[38;5;241m.\u001B[39mstd()\n\u001B[0;32m      4\u001B[0m resultat \u001B[38;5;241m=\u001B[39m \u001B[38;5;124mf\u001B[39m\u001B[38;5;124m\"\u001B[39m\u001B[38;5;132;01m{\u001B[39;00mMitjana_canad\u001B[38;5;132;01m:\u001B[39;00m\u001B[38;5;124m.2f\u001B[39m\u001B[38;5;132;01m}\u001B[39;00m\u001B[38;5;124m ± \u001B[39m\u001B[38;5;132;01m{\u001B[39;00mdesviacio_estandard_canad\u001B[38;5;132;01m:\u001B[39;00m\u001B[38;5;124m.2f\u001B[39m\u001B[38;5;132;01m}\u001B[39;00m\u001B[38;5;124m\"\u001B[39m\n",
      "\u001B[1;31mNameError\u001B[0m: name 'AMB_PA' is not defined"
     ]
    }
   ],
   "execution_count": 103
  },
  {
   "cell_type": "code",
   "source": [
    "Mitjana_canad = AMB_PA_MECVV['Canadenca sumatoris comparats'].mean()\n",
    "desviacio_estandard_canad = AMB_PA_MECVV['Canadenca sumatoris comparats'].std()\n",
    "\n",
    "resultat = f\"{Mitjana_canad:.2f} ± {desviacio_estandard_canad:.2f}\"\n",
    "print(\"Mitjana ± Desviació Estàndard de la canadenca:\", resultat)"
   ],
   "metadata": {
    "collapsed": false,
    "ExecuteTime": {
     "end_time": "2024-05-29T13:03:09.360590Z",
     "start_time": "2024-05-29T13:03:09.301235Z"
    }
   },
   "id": "fd4816fe534b4e69",
   "outputs": [
    {
     "ename": "NameError",
     "evalue": "name 'AMB_PA_MECVV' is not defined",
     "output_type": "error",
     "traceback": [
      "\u001B[1;31m---------------------------------------------------------------------------\u001B[0m",
      "\u001B[1;31mNameError\u001B[0m                                 Traceback (most recent call last)",
      "Cell \u001B[1;32mIn[104], line 1\u001B[0m\n\u001B[1;32m----> 1\u001B[0m Mitjana_canad \u001B[38;5;241m=\u001B[39m \u001B[43mAMB_PA_MECVV\u001B[49m[\u001B[38;5;124m'\u001B[39m\u001B[38;5;124mCanadenca sumatoris comparats\u001B[39m\u001B[38;5;124m'\u001B[39m]\u001B[38;5;241m.\u001B[39mmean()\n\u001B[0;32m      2\u001B[0m desviacio_estandard_canad \u001B[38;5;241m=\u001B[39m AMB_PA_MECVV[\u001B[38;5;124m'\u001B[39m\u001B[38;5;124mCanadenca sumatoris comparats\u001B[39m\u001B[38;5;124m'\u001B[39m]\u001B[38;5;241m.\u001B[39mstd()\n\u001B[0;32m      4\u001B[0m resultat \u001B[38;5;241m=\u001B[39m \u001B[38;5;124mf\u001B[39m\u001B[38;5;124m\"\u001B[39m\u001B[38;5;132;01m{\u001B[39;00mMitjana_canad\u001B[38;5;132;01m:\u001B[39;00m\u001B[38;5;124m.2f\u001B[39m\u001B[38;5;132;01m}\u001B[39;00m\u001B[38;5;124m ± \u001B[39m\u001B[38;5;132;01m{\u001B[39;00mdesviacio_estandard_canad\u001B[38;5;132;01m:\u001B[39;00m\u001B[38;5;124m.2f\u001B[39m\u001B[38;5;132;01m}\u001B[39;00m\u001B[38;5;124m\"\u001B[39m\n",
      "\u001B[1;31mNameError\u001B[0m: name 'AMB_PA_MECVV' is not defined"
     ]
    }
   ],
   "execution_count": 104
  },
  {
   "cell_type": "code",
   "source": [
    "Mitjana_canad = SENSE_PA['Canadenca sumatoris comparats'].mean()\n",
    "desviacio_estandard_canad = SENSE_PA['Canadenca sumatoris comparats'].std()\n",
    "\n",
    "resultat = f\"{Mitjana_canad:.2f} ± {desviacio_estandard_canad:.2f}\"\n",
    "print(\"Mitjana ± Desviació Estàndard de la canadenca:\", resultat)"
   ],
   "metadata": {
    "collapsed": false,
    "ExecuteTime": {
     "end_time": "2024-05-29T13:03:10.144292Z",
     "start_time": "2024-05-29T13:03:10.120021Z"
    }
   },
   "id": "8d4c7c29bc97322f",
   "outputs": [
    {
     "ename": "NameError",
     "evalue": "name 'SENSE_PA' is not defined",
     "output_type": "error",
     "traceback": [
      "\u001B[1;31m---------------------------------------------------------------------------\u001B[0m",
      "\u001B[1;31mNameError\u001B[0m                                 Traceback (most recent call last)",
      "Cell \u001B[1;32mIn[105], line 1\u001B[0m\n\u001B[1;32m----> 1\u001B[0m Mitjana_canad \u001B[38;5;241m=\u001B[39m \u001B[43mSENSE_PA\u001B[49m[\u001B[38;5;124m'\u001B[39m\u001B[38;5;124mCanadenca sumatoris comparats\u001B[39m\u001B[38;5;124m'\u001B[39m]\u001B[38;5;241m.\u001B[39mmean()\n\u001B[0;32m      2\u001B[0m desviacio_estandard_canad \u001B[38;5;241m=\u001B[39m SENSE_PA[\u001B[38;5;124m'\u001B[39m\u001B[38;5;124mCanadenca sumatoris comparats\u001B[39m\u001B[38;5;124m'\u001B[39m]\u001B[38;5;241m.\u001B[39mstd()\n\u001B[0;32m      4\u001B[0m resultat \u001B[38;5;241m=\u001B[39m \u001B[38;5;124mf\u001B[39m\u001B[38;5;124m\"\u001B[39m\u001B[38;5;132;01m{\u001B[39;00mMitjana_canad\u001B[38;5;132;01m:\u001B[39;00m\u001B[38;5;124m.2f\u001B[39m\u001B[38;5;132;01m}\u001B[39;00m\u001B[38;5;124m ± \u001B[39m\u001B[38;5;132;01m{\u001B[39;00mdesviacio_estandard_canad\u001B[38;5;132;01m:\u001B[39;00m\u001B[38;5;124m.2f\u001B[39m\u001B[38;5;132;01m}\u001B[39;00m\u001B[38;5;124m\"\u001B[39m\n",
      "\u001B[1;31mNameError\u001B[0m: name 'SENSE_PA' is not defined"
     ]
    }
   ],
   "execution_count": 105
  },
  {
   "cell_type": "code",
   "source": [
    "Mitjana_canad = TOTAL['Canadenca sumatoris comparats'].mean()\n",
    "desviacio_estandard_canad = TOTAL['Canadenca sumatoris comparats'].std()\n",
    "\n",
    "resultat = f\"{Mitjana_canad:.2f} ± {desviacio_estandard_canad:.2f}\"\n",
    "print(\"Mitjana ± Desviació Estàndard de la canadenca:\", resultat)"
   ],
   "metadata": {
    "collapsed": false,
    "ExecuteTime": {
     "end_time": "2024-05-29T13:03:11.079153Z",
     "start_time": "2024-05-29T13:03:11.052916Z"
    }
   },
   "id": "2dbcf16d2a34a7d9",
   "outputs": [
    {
     "ename": "NameError",
     "evalue": "name 'TOTAL' is not defined",
     "output_type": "error",
     "traceback": [
      "\u001B[1;31m---------------------------------------------------------------------------\u001B[0m",
      "\u001B[1;31mNameError\u001B[0m                                 Traceback (most recent call last)",
      "Cell \u001B[1;32mIn[106], line 1\u001B[0m\n\u001B[1;32m----> 1\u001B[0m Mitjana_canad \u001B[38;5;241m=\u001B[39m \u001B[43mTOTAL\u001B[49m[\u001B[38;5;124m'\u001B[39m\u001B[38;5;124mCanadenca sumatoris comparats\u001B[39m\u001B[38;5;124m'\u001B[39m]\u001B[38;5;241m.\u001B[39mmean()\n\u001B[0;32m      2\u001B[0m desviacio_estandard_canad \u001B[38;5;241m=\u001B[39m TOTAL[\u001B[38;5;124m'\u001B[39m\u001B[38;5;124mCanadenca sumatoris comparats\u001B[39m\u001B[38;5;124m'\u001B[39m]\u001B[38;5;241m.\u001B[39mstd()\n\u001B[0;32m      4\u001B[0m resultat \u001B[38;5;241m=\u001B[39m \u001B[38;5;124mf\u001B[39m\u001B[38;5;124m\"\u001B[39m\u001B[38;5;132;01m{\u001B[39;00mMitjana_canad\u001B[38;5;132;01m:\u001B[39;00m\u001B[38;5;124m.2f\u001B[39m\u001B[38;5;132;01m}\u001B[39;00m\u001B[38;5;124m ± \u001B[39m\u001B[38;5;132;01m{\u001B[39;00mdesviacio_estandard_canad\u001B[38;5;132;01m:\u001B[39;00m\u001B[38;5;124m.2f\u001B[39m\u001B[38;5;132;01m}\u001B[39;00m\u001B[38;5;124m\"\u001B[39m\n",
      "\u001B[1;31mNameError\u001B[0m: name 'TOTAL' is not defined"
     ]
    }
   ],
   "execution_count": 106
  },
  {
   "cell_type": "markdown",
   "source": [
    "#### Comparació distributiva"
   ],
   "metadata": {
    "collapsed": false
   },
   "id": "92e5ea6014fc5856"
  },
  {
   "cell_type": "markdown",
   "source": [
    "##### Normalitat i p-valor"
   ],
   "metadata": {
    "collapsed": false
   },
   "id": "1ef4f66f1c7a25fa"
  },
  {
   "cell_type": "markdown",
   "source": [
    "NORMALITAT: Tots els grups segueixen una distribució normal"
   ],
   "metadata": {
    "collapsed": false
   },
   "id": "851311fc55b2df16"
  },
  {
   "cell_type": "code",
   "source": [
    "t_stat_12, p_val_12 = ttest_ind(AMB_PA['Canadenca sumatoris comparats'], AMB_PA_MECVV['Canadenca sumatoris comparats'], equal_var=False)\n",
    "print(\"P-valor entre AMB_PA i AMB_PA_MECVV:\", p_val_12)"
   ],
   "metadata": {
    "collapsed": false,
    "ExecuteTime": {
     "end_time": "2024-05-29T13:03:11.647014Z",
     "start_time": "2024-05-29T13:03:11.625870Z"
    }
   },
   "id": "45db572ac843996f",
   "outputs": [
    {
     "ename": "NameError",
     "evalue": "name 'ttest_ind' is not defined",
     "output_type": "error",
     "traceback": [
      "\u001B[1;31m---------------------------------------------------------------------------\u001B[0m",
      "\u001B[1;31mNameError\u001B[0m                                 Traceback (most recent call last)",
      "Cell \u001B[1;32mIn[107], line 1\u001B[0m\n\u001B[1;32m----> 1\u001B[0m t_stat_12, p_val_12 \u001B[38;5;241m=\u001B[39m \u001B[43mttest_ind\u001B[49m(AMB_PA[\u001B[38;5;124m'\u001B[39m\u001B[38;5;124mCanadenca sumatoris comparats\u001B[39m\u001B[38;5;124m'\u001B[39m], AMB_PA_MECVV[\u001B[38;5;124m'\u001B[39m\u001B[38;5;124mCanadenca sumatoris comparats\u001B[39m\u001B[38;5;124m'\u001B[39m], equal_var\u001B[38;5;241m=\u001B[39m\u001B[38;5;28;01mFalse\u001B[39;00m)\n\u001B[0;32m      2\u001B[0m \u001B[38;5;28mprint\u001B[39m(\u001B[38;5;124m\"\u001B[39m\u001B[38;5;124mP-valor entre AMB_PA i AMB_PA_MECVV:\u001B[39m\u001B[38;5;124m\"\u001B[39m, p_val_12)\n",
      "\u001B[1;31mNameError\u001B[0m: name 'ttest_ind' is not defined"
     ]
    }
   ],
   "execution_count": 107
  },
  {
   "cell_type": "code",
   "source": [
    "t_stat_13, p_val_13 = ttest_ind(AMB_PA['Canadenca sumatoris comparats'], SENSE_PA['Canadenca sumatoris comparats'], equal_var=False)\n",
    "print(\"P-valor entre AMB_PA i SENSE_PA:\", p_val_13)"
   ],
   "metadata": {
    "collapsed": false,
    "ExecuteTime": {
     "end_time": "2024-05-29T13:03:12.492474Z",
     "start_time": "2024-05-29T13:03:12.469321Z"
    }
   },
   "id": "782b348d4989da5d",
   "outputs": [
    {
     "ename": "NameError",
     "evalue": "name 'ttest_ind' is not defined",
     "output_type": "error",
     "traceback": [
      "\u001B[1;31m---------------------------------------------------------------------------\u001B[0m",
      "\u001B[1;31mNameError\u001B[0m                                 Traceback (most recent call last)",
      "Cell \u001B[1;32mIn[108], line 1\u001B[0m\n\u001B[1;32m----> 1\u001B[0m t_stat_13, p_val_13 \u001B[38;5;241m=\u001B[39m \u001B[43mttest_ind\u001B[49m(AMB_PA[\u001B[38;5;124m'\u001B[39m\u001B[38;5;124mCanadenca sumatoris comparats\u001B[39m\u001B[38;5;124m'\u001B[39m], SENSE_PA[\u001B[38;5;124m'\u001B[39m\u001B[38;5;124mCanadenca sumatoris comparats\u001B[39m\u001B[38;5;124m'\u001B[39m], equal_var\u001B[38;5;241m=\u001B[39m\u001B[38;5;28;01mFalse\u001B[39;00m)\n\u001B[0;32m      2\u001B[0m \u001B[38;5;28mprint\u001B[39m(\u001B[38;5;124m\"\u001B[39m\u001B[38;5;124mP-valor entre AMB_PA i SENSE_PA:\u001B[39m\u001B[38;5;124m\"\u001B[39m, p_val_13)\n",
      "\u001B[1;31mNameError\u001B[0m: name 'ttest_ind' is not defined"
     ]
    }
   ],
   "execution_count": 108
  },
  {
   "cell_type": "code",
   "source": [
    "t_stat_23, p_val_23 = ttest_ind(AMB_PA_MECVV['Canadenca sumatoris comparats'], SENSE_PA['Canadenca sumatoris comparats'], equal_var=False)\n",
    "print(\"P-valor entre AMB_PA_MECVV i SENSE_PA:\", p_val_23)"
   ],
   "metadata": {
    "collapsed": false,
    "ExecuteTime": {
     "end_time": "2024-05-29T13:03:13.194653Z",
     "start_time": "2024-05-29T13:03:13.170594Z"
    }
   },
   "id": "8ca9809757c8ad47",
   "outputs": [
    {
     "ename": "NameError",
     "evalue": "name 'ttest_ind' is not defined",
     "output_type": "error",
     "traceback": [
      "\u001B[1;31m---------------------------------------------------------------------------\u001B[0m",
      "\u001B[1;31mNameError\u001B[0m                                 Traceback (most recent call last)",
      "Cell \u001B[1;32mIn[109], line 1\u001B[0m\n\u001B[1;32m----> 1\u001B[0m t_stat_23, p_val_23 \u001B[38;5;241m=\u001B[39m \u001B[43mttest_ind\u001B[49m(AMB_PA_MECVV[\u001B[38;5;124m'\u001B[39m\u001B[38;5;124mCanadenca sumatoris comparats\u001B[39m\u001B[38;5;124m'\u001B[39m], SENSE_PA[\u001B[38;5;124m'\u001B[39m\u001B[38;5;124mCanadenca sumatoris comparats\u001B[39m\u001B[38;5;124m'\u001B[39m], equal_var\u001B[38;5;241m=\u001B[39m\u001B[38;5;28;01mFalse\u001B[39;00m)\n\u001B[0;32m      2\u001B[0m \u001B[38;5;28mprint\u001B[39m(\u001B[38;5;124m\"\u001B[39m\u001B[38;5;124mP-valor entre AMB_PA_MECVV i SENSE_PA:\u001B[39m\u001B[38;5;124m\"\u001B[39m, p_val_23)\n",
      "\u001B[1;31mNameError\u001B[0m: name 'ttest_ind' is not defined"
     ]
    }
   ],
   "execution_count": 109
  },
  {
   "cell_type": "code",
   "source": [
    "t_stat_14, p_val_14 = ttest_ind(AMB_PA['Canadenca sumatoris comparats'], TOTAL['Canadenca sumatoris comparats'], equal_var=False)\n",
    "print(\"P-valor entre AMB_PA i TOTAL:\", p_val_14)"
   ],
   "metadata": {
    "collapsed": false,
    "ExecuteTime": {
     "end_time": "2024-05-29T13:03:14.146113Z",
     "start_time": "2024-05-29T13:03:14.033183Z"
    }
   },
   "id": "f9962beaf8f4729e",
   "outputs": [
    {
     "ename": "NameError",
     "evalue": "name 'ttest_ind' is not defined",
     "output_type": "error",
     "traceback": [
      "\u001B[1;31m---------------------------------------------------------------------------\u001B[0m",
      "\u001B[1;31mNameError\u001B[0m                                 Traceback (most recent call last)",
      "Cell \u001B[1;32mIn[110], line 1\u001B[0m\n\u001B[1;32m----> 1\u001B[0m t_stat_14, p_val_14 \u001B[38;5;241m=\u001B[39m \u001B[43mttest_ind\u001B[49m(AMB_PA[\u001B[38;5;124m'\u001B[39m\u001B[38;5;124mCanadenca sumatoris comparats\u001B[39m\u001B[38;5;124m'\u001B[39m], TOTAL[\u001B[38;5;124m'\u001B[39m\u001B[38;5;124mCanadenca sumatoris comparats\u001B[39m\u001B[38;5;124m'\u001B[39m], equal_var\u001B[38;5;241m=\u001B[39m\u001B[38;5;28;01mFalse\u001B[39;00m)\n\u001B[0;32m      2\u001B[0m \u001B[38;5;28mprint\u001B[39m(\u001B[38;5;124m\"\u001B[39m\u001B[38;5;124mP-valor entre AMB_PA i TOTAL:\u001B[39m\u001B[38;5;124m\"\u001B[39m, p_val_14)\n",
      "\u001B[1;31mNameError\u001B[0m: name 'ttest_ind' is not defined"
     ]
    }
   ],
   "execution_count": 110
  },
  {
   "cell_type": "code",
   "source": [
    "t_stat_24, p_val_24 = ttest_ind(AMB_PA_MECVV['Canadenca sumatoris comparats'], TOTAL['Canadenca sumatoris comparats'], equal_var=False)\n",
    "print(\"P-valor entre AMB_PA_MECVV i TOTAL:\", p_val_24)"
   ],
   "metadata": {
    "collapsed": false,
    "ExecuteTime": {
     "end_time": "2024-05-29T13:03:15.166110Z",
     "start_time": "2024-05-29T13:03:15.143106Z"
    }
   },
   "id": "8b784a0f2515ac2b",
   "outputs": [
    {
     "ename": "NameError",
     "evalue": "name 'ttest_ind' is not defined",
     "output_type": "error",
     "traceback": [
      "\u001B[1;31m---------------------------------------------------------------------------\u001B[0m",
      "\u001B[1;31mNameError\u001B[0m                                 Traceback (most recent call last)",
      "Cell \u001B[1;32mIn[111], line 1\u001B[0m\n\u001B[1;32m----> 1\u001B[0m t_stat_24, p_val_24 \u001B[38;5;241m=\u001B[39m \u001B[43mttest_ind\u001B[49m(AMB_PA_MECVV[\u001B[38;5;124m'\u001B[39m\u001B[38;5;124mCanadenca sumatoris comparats\u001B[39m\u001B[38;5;124m'\u001B[39m], TOTAL[\u001B[38;5;124m'\u001B[39m\u001B[38;5;124mCanadenca sumatoris comparats\u001B[39m\u001B[38;5;124m'\u001B[39m], equal_var\u001B[38;5;241m=\u001B[39m\u001B[38;5;28;01mFalse\u001B[39;00m)\n\u001B[0;32m      2\u001B[0m \u001B[38;5;28mprint\u001B[39m(\u001B[38;5;124m\"\u001B[39m\u001B[38;5;124mP-valor entre AMB_PA_MECVV i TOTAL:\u001B[39m\u001B[38;5;124m\"\u001B[39m, p_val_24)\n",
      "\u001B[1;31mNameError\u001B[0m: name 'ttest_ind' is not defined"
     ]
    }
   ],
   "execution_count": 111
  },
  {
   "cell_type": "code",
   "source": [
    "t_stat_34, p_val_34 = ttest_ind(SENSE_PA['Canadenca sumatoris comparats'], TOTAL['Canadenca sumatoris comparats'], equal_var=False)\n",
    "print(\"P-valor entre SENSE_PA i TOTAL:\", p_val_34)"
   ],
   "metadata": {
    "collapsed": false,
    "ExecuteTime": {
     "end_time": "2024-05-29T13:03:15.662977Z",
     "start_time": "2024-05-29T13:03:15.644906Z"
    }
   },
   "id": "9830b01d186c68f",
   "outputs": [
    {
     "ename": "NameError",
     "evalue": "name 'ttest_ind' is not defined",
     "output_type": "error",
     "traceback": [
      "\u001B[1;31m---------------------------------------------------------------------------\u001B[0m",
      "\u001B[1;31mNameError\u001B[0m                                 Traceback (most recent call last)",
      "Cell \u001B[1;32mIn[112], line 1\u001B[0m\n\u001B[1;32m----> 1\u001B[0m t_stat_34, p_val_34 \u001B[38;5;241m=\u001B[39m \u001B[43mttest_ind\u001B[49m(SENSE_PA[\u001B[38;5;124m'\u001B[39m\u001B[38;5;124mCanadenca sumatoris comparats\u001B[39m\u001B[38;5;124m'\u001B[39m], TOTAL[\u001B[38;5;124m'\u001B[39m\u001B[38;5;124mCanadenca sumatoris comparats\u001B[39m\u001B[38;5;124m'\u001B[39m], equal_var\u001B[38;5;241m=\u001B[39m\u001B[38;5;28;01mFalse\u001B[39;00m)\n\u001B[0;32m      2\u001B[0m \u001B[38;5;28mprint\u001B[39m(\u001B[38;5;124m\"\u001B[39m\u001B[38;5;124mP-valor entre SENSE_PA i TOTAL:\u001B[39m\u001B[38;5;124m\"\u001B[39m, p_val_34)\n",
      "\u001B[1;31mNameError\u001B[0m: name 'ttest_ind' is not defined"
     ]
    }
   ],
   "execution_count": 112
  },
  {
   "cell_type": "markdown",
   "source": [
    "### Valors canadenca"
   ],
   "metadata": {
    "collapsed": false
   },
   "id": "8c35d351cc429a41"
  },
  {
   "cell_type": "markdown",
   "source": [
    "##### AMB_PA "
   ],
   "metadata": {
    "collapsed": false
   },
   "id": "d72617365c875937"
  },
  {
   "cell_type": "code",
   "source": [
    "mild_AMB_PA = AMB_PA['Canadenca sumatoris comparats'].between(10.5, 11.5)\n",
    "Percentatge_mild_AMB_PA = mild_AMB_PA.mean() * 100\n",
    "num_observacions_mild_AMB_PA = mild_AMB_PA.sum()\n",
    "\n",
    "print(f\"Percentatge de mild_AMB_PA: {Percentatge_mild_AMB_PA:.2f}%\")\n",
    "print(f\"Nombre d'observacions en mild_AMB_PA: {num_observacions_mild_AMB_PA}\")"
   ],
   "metadata": {
    "collapsed": false,
    "ExecuteTime": {
     "end_time": "2024-05-29T13:03:16.478594Z",
     "start_time": "2024-05-29T13:03:16.451933Z"
    }
   },
   "id": "9b2f741db142b14d",
   "outputs": [
    {
     "ename": "NameError",
     "evalue": "name 'AMB_PA' is not defined",
     "output_type": "error",
     "traceback": [
      "\u001B[1;31m---------------------------------------------------------------------------\u001B[0m",
      "\u001B[1;31mNameError\u001B[0m                                 Traceback (most recent call last)",
      "Cell \u001B[1;32mIn[113], line 1\u001B[0m\n\u001B[1;32m----> 1\u001B[0m mild_AMB_PA \u001B[38;5;241m=\u001B[39m \u001B[43mAMB_PA\u001B[49m[\u001B[38;5;124m'\u001B[39m\u001B[38;5;124mCanadenca sumatoris comparats\u001B[39m\u001B[38;5;124m'\u001B[39m]\u001B[38;5;241m.\u001B[39mbetween(\u001B[38;5;241m10.5\u001B[39m, \u001B[38;5;241m11.5\u001B[39m)\n\u001B[0;32m      2\u001B[0m Percentatge_mild_AMB_PA \u001B[38;5;241m=\u001B[39m mild_AMB_PA\u001B[38;5;241m.\u001B[39mmean() \u001B[38;5;241m*\u001B[39m \u001B[38;5;241m100\u001B[39m\n\u001B[0;32m      3\u001B[0m num_observacions_mild_AMB_PA \u001B[38;5;241m=\u001B[39m mild_AMB_PA\u001B[38;5;241m.\u001B[39msum()\n",
      "\u001B[1;31mNameError\u001B[0m: name 'AMB_PA' is not defined"
     ]
    }
   ],
   "execution_count": 113
  },
  {
   "cell_type": "code",
   "source": [
    "modneu_AMB_PA = AMB_PA['Canadenca sumatoris comparats'].between(5,10)\n",
    "Percentatge_modneu_AMB_PA = modneu_AMB_PA.mean() * 100\n",
    "num_observacions_modneu_AMB_PA = modneu_AMB_PA.sum()\n",
    "\n",
    "print(f\"Percentatge de modneu_AMB_PA: {Percentatge_modneu_AMB_PA:.2f}%\")\n",
    "print(f\"Nombre d'observacions en modneu_AMB_PA: {num_observacions_modneu_AMB_PA}\")"
   ],
   "metadata": {
    "collapsed": false,
    "ExecuteTime": {
     "end_time": "2024-05-29T13:03:17.271205Z",
     "start_time": "2024-05-29T13:03:17.234243Z"
    }
   },
   "id": "fbf43da02ae2eeea",
   "outputs": [
    {
     "ename": "NameError",
     "evalue": "name 'AMB_PA' is not defined",
     "output_type": "error",
     "traceback": [
      "\u001B[1;31m---------------------------------------------------------------------------\u001B[0m",
      "\u001B[1;31mNameError\u001B[0m                                 Traceback (most recent call last)",
      "Cell \u001B[1;32mIn[114], line 1\u001B[0m\n\u001B[1;32m----> 1\u001B[0m modneu_AMB_PA \u001B[38;5;241m=\u001B[39m \u001B[43mAMB_PA\u001B[49m[\u001B[38;5;124m'\u001B[39m\u001B[38;5;124mCanadenca sumatoris comparats\u001B[39m\u001B[38;5;124m'\u001B[39m]\u001B[38;5;241m.\u001B[39mbetween(\u001B[38;5;241m5\u001B[39m,\u001B[38;5;241m10\u001B[39m)\n\u001B[0;32m      2\u001B[0m Percentatge_modneu_AMB_PA \u001B[38;5;241m=\u001B[39m modneu_AMB_PA\u001B[38;5;241m.\u001B[39mmean() \u001B[38;5;241m*\u001B[39m \u001B[38;5;241m100\u001B[39m\n\u001B[0;32m      3\u001B[0m num_observacions_modneu_AMB_PA \u001B[38;5;241m=\u001B[39m modneu_AMB_PA\u001B[38;5;241m.\u001B[39msum()\n",
      "\u001B[1;31mNameError\u001B[0m: name 'AMB_PA' is not defined"
     ]
    }
   ],
   "execution_count": 114
  },
  {
   "cell_type": "code",
   "source": [
    "sevneu_AMB_PA = AMB_PA['Canadenca sumatoris comparats'].between(1.5, 4.5)\n",
    "Percentatge_sevneu_AMB_PA = sevneu_AMB_PA.mean() * 100\n",
    "num_observacions_sevneu_AMB_PA = sevneu_AMB_PA.sum()\n",
    "\n",
    "print(f\"Percentatge de sevneu_AMB_PA: {Percentatge_sevneu_AMB_PA:.2f}%\")\n",
    "print(f\"Nombre d'observacions en sevneu_AMB_PA: {num_observacions_sevneu_AMB_PA}\")"
   ],
   "metadata": {
    "collapsed": false,
    "ExecuteTime": {
     "end_time": "2024-05-29T13:03:17.904825Z",
     "start_time": "2024-05-29T13:03:17.876935Z"
    }
   },
   "id": "ce42acb0a2a0d1b3",
   "outputs": [
    {
     "ename": "NameError",
     "evalue": "name 'AMB_PA' is not defined",
     "output_type": "error",
     "traceback": [
      "\u001B[1;31m---------------------------------------------------------------------------\u001B[0m",
      "\u001B[1;31mNameError\u001B[0m                                 Traceback (most recent call last)",
      "Cell \u001B[1;32mIn[115], line 1\u001B[0m\n\u001B[1;32m----> 1\u001B[0m sevneu_AMB_PA \u001B[38;5;241m=\u001B[39m \u001B[43mAMB_PA\u001B[49m[\u001B[38;5;124m'\u001B[39m\u001B[38;5;124mCanadenca sumatoris comparats\u001B[39m\u001B[38;5;124m'\u001B[39m]\u001B[38;5;241m.\u001B[39mbetween(\u001B[38;5;241m1.5\u001B[39m, \u001B[38;5;241m4.5\u001B[39m)\n\u001B[0;32m      2\u001B[0m Percentatge_sevneu_AMB_PA \u001B[38;5;241m=\u001B[39m sevneu_AMB_PA\u001B[38;5;241m.\u001B[39mmean() \u001B[38;5;241m*\u001B[39m \u001B[38;5;241m100\u001B[39m\n\u001B[0;32m      3\u001B[0m num_observacions_sevneu_AMB_PA \u001B[38;5;241m=\u001B[39m sevneu_AMB_PA\u001B[38;5;241m.\u001B[39msum()\n",
      "\u001B[1;31mNameError\u001B[0m: name 'AMB_PA' is not defined"
     ]
    }
   ],
   "execution_count": 115
  },
  {
   "cell_type": "markdown",
   "source": [
    "##### AMB_PA_MECVV"
   ],
   "metadata": {
    "collapsed": false
   },
   "id": "231b2600f1a1159d"
  },
  {
   "cell_type": "code",
   "source": [
    "mild_AMB_PA_MECVV = AMB_PA_MECVV['Canadenca sumatoris comparats'].between(10.5, 11.5)\n",
    "Percentatge_mild_AMB_PA_MECVV = mild_AMB_PA_MECVV.mean() * 100\n",
    "num_observacions_mild_AMB_PA_MECVV = mild_AMB_PA_MECVV.sum()\n",
    "\n",
    "print(f\"Percentatge de mild_AMB_PA_MECVV: {Percentatge_mild_AMB_PA_MECVV:.2f}%\")\n",
    "print(f\"Nombre d'observacions en mild_AMB_PA_MECVV: {num_observacions_mild_AMB_PA_MECVV}\")"
   ],
   "metadata": {
    "collapsed": false,
    "ExecuteTime": {
     "end_time": "2024-05-29T13:03:18.785490Z",
     "start_time": "2024-05-29T13:03:18.754492Z"
    }
   },
   "id": "34adbe66657bdce7",
   "outputs": [
    {
     "ename": "NameError",
     "evalue": "name 'AMB_PA_MECVV' is not defined",
     "output_type": "error",
     "traceback": [
      "\u001B[1;31m---------------------------------------------------------------------------\u001B[0m",
      "\u001B[1;31mNameError\u001B[0m                                 Traceback (most recent call last)",
      "Cell \u001B[1;32mIn[116], line 1\u001B[0m\n\u001B[1;32m----> 1\u001B[0m mild_AMB_PA_MECVV \u001B[38;5;241m=\u001B[39m \u001B[43mAMB_PA_MECVV\u001B[49m[\u001B[38;5;124m'\u001B[39m\u001B[38;5;124mCanadenca sumatoris comparats\u001B[39m\u001B[38;5;124m'\u001B[39m]\u001B[38;5;241m.\u001B[39mbetween(\u001B[38;5;241m10.5\u001B[39m, \u001B[38;5;241m11.5\u001B[39m)\n\u001B[0;32m      2\u001B[0m Percentatge_mild_AMB_PA_MECVV \u001B[38;5;241m=\u001B[39m mild_AMB_PA_MECVV\u001B[38;5;241m.\u001B[39mmean() \u001B[38;5;241m*\u001B[39m \u001B[38;5;241m100\u001B[39m\n\u001B[0;32m      3\u001B[0m num_observacions_mild_AMB_PA_MECVV \u001B[38;5;241m=\u001B[39m mild_AMB_PA_MECVV\u001B[38;5;241m.\u001B[39msum()\n",
      "\u001B[1;31mNameError\u001B[0m: name 'AMB_PA_MECVV' is not defined"
     ]
    }
   ],
   "execution_count": 116
  },
  {
   "cell_type": "code",
   "source": [
    "modneu_AMB_PA_MECVV = AMB_PA_MECVV['Canadenca sumatoris comparats'].between(5,10)\n",
    "Percentatge_modneu_AMB_PA_MECVV = modneu_AMB_PA_MECVV.mean() * 100\n",
    "num_observacions_modneu_AMB_PA_MECVV = modneu_AMB_PA_MECVV.sum()\n",
    "\n",
    "print(f\"Percentatge de modneu_AMB_PA_MECVV: {Percentatge_modneu_AMB_PA_MECVV:.2f}%\")\n",
    "print(f\"Nombre d'observacions en modneu_AMB_PA_MECVV: {num_observacions_modneu_AMB_PA_MECVV}\")"
   ],
   "metadata": {
    "collapsed": false,
    "ExecuteTime": {
     "end_time": "2024-05-29T13:03:20.570069Z",
     "start_time": "2024-05-29T13:03:20.535329Z"
    }
   },
   "id": "dfbe1e7c6821bd85",
   "outputs": [
    {
     "ename": "NameError",
     "evalue": "name 'AMB_PA_MECVV' is not defined",
     "output_type": "error",
     "traceback": [
      "\u001B[1;31m---------------------------------------------------------------------------\u001B[0m",
      "\u001B[1;31mNameError\u001B[0m                                 Traceback (most recent call last)",
      "Cell \u001B[1;32mIn[117], line 1\u001B[0m\n\u001B[1;32m----> 1\u001B[0m modneu_AMB_PA_MECVV \u001B[38;5;241m=\u001B[39m \u001B[43mAMB_PA_MECVV\u001B[49m[\u001B[38;5;124m'\u001B[39m\u001B[38;5;124mCanadenca sumatoris comparats\u001B[39m\u001B[38;5;124m'\u001B[39m]\u001B[38;5;241m.\u001B[39mbetween(\u001B[38;5;241m5\u001B[39m,\u001B[38;5;241m10\u001B[39m)\n\u001B[0;32m      2\u001B[0m Percentatge_modneu_AMB_PA_MECVV \u001B[38;5;241m=\u001B[39m modneu_AMB_PA_MECVV\u001B[38;5;241m.\u001B[39mmean() \u001B[38;5;241m*\u001B[39m \u001B[38;5;241m100\u001B[39m\n\u001B[0;32m      3\u001B[0m num_observacions_modneu_AMB_PA_MECVV \u001B[38;5;241m=\u001B[39m modneu_AMB_PA_MECVV\u001B[38;5;241m.\u001B[39msum()\n",
      "\u001B[1;31mNameError\u001B[0m: name 'AMB_PA_MECVV' is not defined"
     ]
    }
   ],
   "execution_count": 117
  },
  {
   "cell_type": "code",
   "source": [
    "sevneu_AMB_PA_MECVV = AMB_PA_MECVV['Canadenca sumatoris comparats'].between(1.5, 4.5)\n",
    "Percentatge_sevneu_AMB_PA_MECVV = sevneu_AMB_PA_MECVV.mean() * 100\n",
    "num_observacions_sevneu_AMB_PA_MECVV = sevneu_AMB_PA_MECVV.sum()\n",
    "\n",
    "print(f\"Percentatge de sevneu_AMB_PA_MECVV: {Percentatge_sevneu_AMB_PA_MECVV:.2f}%\")\n",
    "print(f\"Nombre d'observacions en sevneu_AMB_PA_MECVV: {num_observacions_sevneu_AMB_PA_MECVV}\")"
   ],
   "metadata": {
    "collapsed": false,
    "ExecuteTime": {
     "end_time": "2024-05-29T13:03:24.141407Z",
     "start_time": "2024-05-29T13:03:24.109050Z"
    }
   },
   "id": "fae104f6f6eb65f",
   "outputs": [
    {
     "ename": "NameError",
     "evalue": "name 'AMB_PA_MECVV' is not defined",
     "output_type": "error",
     "traceback": [
      "\u001B[1;31m---------------------------------------------------------------------------\u001B[0m",
      "\u001B[1;31mNameError\u001B[0m                                 Traceback (most recent call last)",
      "Cell \u001B[1;32mIn[118], line 1\u001B[0m\n\u001B[1;32m----> 1\u001B[0m sevneu_AMB_PA_MECVV \u001B[38;5;241m=\u001B[39m \u001B[43mAMB_PA_MECVV\u001B[49m[\u001B[38;5;124m'\u001B[39m\u001B[38;5;124mCanadenca sumatoris comparats\u001B[39m\u001B[38;5;124m'\u001B[39m]\u001B[38;5;241m.\u001B[39mbetween(\u001B[38;5;241m1.5\u001B[39m, \u001B[38;5;241m4.5\u001B[39m)\n\u001B[0;32m      2\u001B[0m Percentatge_sevneu_AMB_PA_MECVV \u001B[38;5;241m=\u001B[39m sevneu_AMB_PA_MECVV\u001B[38;5;241m.\u001B[39mmean() \u001B[38;5;241m*\u001B[39m \u001B[38;5;241m100\u001B[39m\n\u001B[0;32m      3\u001B[0m num_observacions_sevneu_AMB_PA_MECVV \u001B[38;5;241m=\u001B[39m sevneu_AMB_PA_MECVV\u001B[38;5;241m.\u001B[39msum()\n",
      "\u001B[1;31mNameError\u001B[0m: name 'AMB_PA_MECVV' is not defined"
     ]
    }
   ],
   "execution_count": 118
  },
  {
   "cell_type": "markdown",
   "source": [
    "##### SENSE_PA"
   ],
   "metadata": {
    "collapsed": false
   },
   "id": "a87dd48ce489bd34"
  },
  {
   "cell_type": "code",
   "source": [
    "mild_SENSE_PA = SENSE_PA['Canadenca sumatoris comparats'].between(10.5, 11.5)\n",
    "Percentatge_mild_SENSE_PA = mild_SENSE_PA.mean() * 100\n",
    "num_observacions_mild_SENSE_PA = mild_SENSE_PA.sum()\n",
    "\n",
    "print(f\"Percentatge de mild_SENSE_PA: {Percentatge_mild_SENSE_PA:.2f}%\")\n",
    "print(f\"Nombre d'observacions en mild_SENSE_PA: {num_observacions_mild_SENSE_PA}\")"
   ],
   "metadata": {
    "collapsed": false,
    "ExecuteTime": {
     "end_time": "2024-05-29T13:03:27.222343Z",
     "start_time": "2024-05-29T13:03:27.189782Z"
    }
   },
   "id": "f6c65d9ee691c80e",
   "outputs": [
    {
     "ename": "NameError",
     "evalue": "name 'SENSE_PA' is not defined",
     "output_type": "error",
     "traceback": [
      "\u001B[1;31m---------------------------------------------------------------------------\u001B[0m",
      "\u001B[1;31mNameError\u001B[0m                                 Traceback (most recent call last)",
      "Cell \u001B[1;32mIn[119], line 1\u001B[0m\n\u001B[1;32m----> 1\u001B[0m mild_SENSE_PA \u001B[38;5;241m=\u001B[39m \u001B[43mSENSE_PA\u001B[49m[\u001B[38;5;124m'\u001B[39m\u001B[38;5;124mCanadenca sumatoris comparats\u001B[39m\u001B[38;5;124m'\u001B[39m]\u001B[38;5;241m.\u001B[39mbetween(\u001B[38;5;241m10.5\u001B[39m, \u001B[38;5;241m11.5\u001B[39m)\n\u001B[0;32m      2\u001B[0m Percentatge_mild_SENSE_PA \u001B[38;5;241m=\u001B[39m mild_SENSE_PA\u001B[38;5;241m.\u001B[39mmean() \u001B[38;5;241m*\u001B[39m \u001B[38;5;241m100\u001B[39m\n\u001B[0;32m      3\u001B[0m num_observacions_mild_SENSE_PA \u001B[38;5;241m=\u001B[39m mild_SENSE_PA\u001B[38;5;241m.\u001B[39msum()\n",
      "\u001B[1;31mNameError\u001B[0m: name 'SENSE_PA' is not defined"
     ]
    }
   ],
   "execution_count": 119
  },
  {
   "cell_type": "code",
   "source": [
    "modneu_SENSE_PA = SENSE_PA['Canadenca sumatoris comparats'].between(5,10)\n",
    "Percentatge_modneu_SENSE_PA = modneu_SENSE_PA.mean() * 100\n",
    "num_observacions_modneu_SENSE_PA = modneu_SENSE_PA.sum()\n",
    "\n",
    "print(f\"Percentatge de modneu_SENSE_PA: {Percentatge_modneu_SENSE_PA:.2f}%\")\n",
    "print(f\"Nombre d'observacions en modneu_SENSE_PA: {num_observacions_modneu_SENSE_PA}\")"
   ],
   "metadata": {
    "collapsed": false,
    "ExecuteTime": {
     "end_time": "2024-05-29T13:03:29.323926Z",
     "start_time": "2024-05-29T13:03:29.286169Z"
    }
   },
   "id": "4a58823de11ee661",
   "outputs": [
    {
     "ename": "NameError",
     "evalue": "name 'SENSE_PA' is not defined",
     "output_type": "error",
     "traceback": [
      "\u001B[1;31m---------------------------------------------------------------------------\u001B[0m",
      "\u001B[1;31mNameError\u001B[0m                                 Traceback (most recent call last)",
      "Cell \u001B[1;32mIn[120], line 1\u001B[0m\n\u001B[1;32m----> 1\u001B[0m modneu_SENSE_PA \u001B[38;5;241m=\u001B[39m \u001B[43mSENSE_PA\u001B[49m[\u001B[38;5;124m'\u001B[39m\u001B[38;5;124mCanadenca sumatoris comparats\u001B[39m\u001B[38;5;124m'\u001B[39m]\u001B[38;5;241m.\u001B[39mbetween(\u001B[38;5;241m5\u001B[39m,\u001B[38;5;241m10\u001B[39m)\n\u001B[0;32m      2\u001B[0m Percentatge_modneu_SENSE_PA \u001B[38;5;241m=\u001B[39m modneu_SENSE_PA\u001B[38;5;241m.\u001B[39mmean() \u001B[38;5;241m*\u001B[39m \u001B[38;5;241m100\u001B[39m\n\u001B[0;32m      3\u001B[0m num_observacions_modneu_SENSE_PA \u001B[38;5;241m=\u001B[39m modneu_SENSE_PA\u001B[38;5;241m.\u001B[39msum()\n",
      "\u001B[1;31mNameError\u001B[0m: name 'SENSE_PA' is not defined"
     ]
    }
   ],
   "execution_count": 120
  },
  {
   "cell_type": "code",
   "source": [
    "sevneu_SENSE_PA = SENSE_PA['Canadenca sumatoris comparats'].between(1.5, 4.5)\n",
    "Percentatge_sevneu_SENSE_PA = sevneu_SENSE_PA.mean() * 100\n",
    "num_observacions_sevneu_SENSE_PA = sevneu_SENSE_PA.sum()\n",
    "\n",
    "print(f\"Percentatge de sevneu_SENSE_PA: {Percentatge_sevneu_SENSE_PA:.2f}%\")\n",
    "print(f\"Nombre d'observacions en sevneu_SENSE_PA: {num_observacions_sevneu_SENSE_PA}\")"
   ],
   "metadata": {
    "collapsed": false,
    "ExecuteTime": {
     "end_time": "2024-05-29T13:03:31.140491Z",
     "start_time": "2024-05-29T13:03:31.092692Z"
    }
   },
   "id": "f5387c68c3197158",
   "outputs": [
    {
     "ename": "NameError",
     "evalue": "name 'SENSE_PA' is not defined",
     "output_type": "error",
     "traceback": [
      "\u001B[1;31m---------------------------------------------------------------------------\u001B[0m",
      "\u001B[1;31mNameError\u001B[0m                                 Traceback (most recent call last)",
      "Cell \u001B[1;32mIn[121], line 1\u001B[0m\n\u001B[1;32m----> 1\u001B[0m sevneu_SENSE_PA \u001B[38;5;241m=\u001B[39m \u001B[43mSENSE_PA\u001B[49m[\u001B[38;5;124m'\u001B[39m\u001B[38;5;124mCanadenca sumatoris comparats\u001B[39m\u001B[38;5;124m'\u001B[39m]\u001B[38;5;241m.\u001B[39mbetween(\u001B[38;5;241m1.5\u001B[39m, \u001B[38;5;241m4.5\u001B[39m)\n\u001B[0;32m      2\u001B[0m Percentatge_sevneu_SENSE_PA \u001B[38;5;241m=\u001B[39m sevneu_SENSE_PA\u001B[38;5;241m.\u001B[39mmean() \u001B[38;5;241m*\u001B[39m \u001B[38;5;241m100\u001B[39m\n\u001B[0;32m      3\u001B[0m num_observacions_sevneu_SENSE_PA \u001B[38;5;241m=\u001B[39m sevneu_SENSE_PA\u001B[38;5;241m.\u001B[39msum()\n",
      "\u001B[1;31mNameError\u001B[0m: name 'SENSE_PA' is not defined"
     ]
    }
   ],
   "execution_count": 121
  },
  {
   "cell_type": "markdown",
   "source": [
    "##### TOTAL"
   ],
   "metadata": {
    "collapsed": false
   },
   "id": "fe41ca918fde43e8"
  },
  {
   "cell_type": "code",
   "source": [
    "mild_TOTAL = TOTAL['Canadenca sumatoris comparats'].between(10.5, 11.5)\n",
    "Percentatge_mild_TOTAL = mild_TOTAL.mean() * 100\n",
    "num_observacions_mild_TOTAL = mild_TOTAL.sum()\n",
    "\n",
    "print(f\"Percentatge de mild_TOTAL: {Percentatge_mild_TOTAL:.2f}%\")\n",
    "print(f\"Nombre d'observacions en mild_TOTAL: {num_observacions_mild_TOTAL}\")"
   ],
   "metadata": {
    "collapsed": false,
    "ExecuteTime": {
     "end_time": "2024-05-29T13:03:34.055142Z",
     "start_time": "2024-05-29T13:03:34.012295Z"
    }
   },
   "id": "f3dba0e5299fa2bf",
   "outputs": [
    {
     "ename": "NameError",
     "evalue": "name 'TOTAL' is not defined",
     "output_type": "error",
     "traceback": [
      "\u001B[1;31m---------------------------------------------------------------------------\u001B[0m",
      "\u001B[1;31mNameError\u001B[0m                                 Traceback (most recent call last)",
      "Cell \u001B[1;32mIn[122], line 1\u001B[0m\n\u001B[1;32m----> 1\u001B[0m mild_TOTAL \u001B[38;5;241m=\u001B[39m \u001B[43mTOTAL\u001B[49m[\u001B[38;5;124m'\u001B[39m\u001B[38;5;124mCanadenca sumatoris comparats\u001B[39m\u001B[38;5;124m'\u001B[39m]\u001B[38;5;241m.\u001B[39mbetween(\u001B[38;5;241m10.5\u001B[39m, \u001B[38;5;241m11.5\u001B[39m)\n\u001B[0;32m      2\u001B[0m Percentatge_mild_TOTAL \u001B[38;5;241m=\u001B[39m mild_TOTAL\u001B[38;5;241m.\u001B[39mmean() \u001B[38;5;241m*\u001B[39m \u001B[38;5;241m100\u001B[39m\n\u001B[0;32m      3\u001B[0m num_observacions_mild_TOTAL \u001B[38;5;241m=\u001B[39m mild_TOTAL\u001B[38;5;241m.\u001B[39msum()\n",
      "\u001B[1;31mNameError\u001B[0m: name 'TOTAL' is not defined"
     ]
    }
   ],
   "execution_count": 122
  },
  {
   "cell_type": "code",
   "source": [
    "modneu_TOTAL = TOTAL['Canadenca sumatoris comparats'].between(5,10)\n",
    "Percentatge_modneu_TOTAL = modneu_TOTAL.mean() * 100\n",
    "num_observacions_modneu_TOTAL = modneu_TOTAL.sum()\n",
    "\n",
    "print(f\"Percentatge de modneu_TOTAL: {Percentatge_modneu_TOTAL:.2f}%\")\n",
    "print(f\"Nombre d'observacions en modneu_TOTAL: {num_observacions_modneu_TOTAL}\")"
   ],
   "metadata": {
    "collapsed": false,
    "ExecuteTime": {
     "end_time": "2024-05-29T13:03:37.583921Z",
     "start_time": "2024-05-29T13:03:37.539362Z"
    }
   },
   "id": "b9410fbc0c772373",
   "outputs": [
    {
     "ename": "NameError",
     "evalue": "name 'TOTAL' is not defined",
     "output_type": "error",
     "traceback": [
      "\u001B[1;31m---------------------------------------------------------------------------\u001B[0m",
      "\u001B[1;31mNameError\u001B[0m                                 Traceback (most recent call last)",
      "Cell \u001B[1;32mIn[123], line 1\u001B[0m\n\u001B[1;32m----> 1\u001B[0m modneu_TOTAL \u001B[38;5;241m=\u001B[39m \u001B[43mTOTAL\u001B[49m[\u001B[38;5;124m'\u001B[39m\u001B[38;5;124mCanadenca sumatoris comparats\u001B[39m\u001B[38;5;124m'\u001B[39m]\u001B[38;5;241m.\u001B[39mbetween(\u001B[38;5;241m5\u001B[39m,\u001B[38;5;241m10\u001B[39m)\n\u001B[0;32m      2\u001B[0m Percentatge_modneu_TOTAL \u001B[38;5;241m=\u001B[39m modneu_TOTAL\u001B[38;5;241m.\u001B[39mmean() \u001B[38;5;241m*\u001B[39m \u001B[38;5;241m100\u001B[39m\n\u001B[0;32m      3\u001B[0m num_observacions_modneu_TOTAL \u001B[38;5;241m=\u001B[39m modneu_TOTAL\u001B[38;5;241m.\u001B[39msum()\n",
      "\u001B[1;31mNameError\u001B[0m: name 'TOTAL' is not defined"
     ]
    }
   ],
   "execution_count": 123
  },
  {
   "cell_type": "code",
   "source": [
    "sevneu_TOTAL = TOTAL['Canadenca sumatoris comparats'].between(1.5, 4.5)\n",
    "Percentatge_sevneu_TOTAL = sevneu_TOTAL.mean() * 100\n",
    "num_observacions_sevneu_TOTAL = sevneu_TOTAL.sum()\n",
    "\n",
    "print(f\"Percentatge de sevneu_TOTAL: {Percentatge_sevneu_TOTAL:.2f}%\")\n",
    "print(f\"Nombre d'observacions en sevneu_TOTAL: {num_observacions_sevneu_TOTAL}\")"
   ],
   "metadata": {
    "collapsed": false,
    "ExecuteTime": {
     "end_time": "2024-05-29T13:03:39.235314Z",
     "start_time": "2024-05-29T13:03:39.203149Z"
    }
   },
   "id": "483fad65925ddc74",
   "outputs": [
    {
     "ename": "NameError",
     "evalue": "name 'TOTAL' is not defined",
     "output_type": "error",
     "traceback": [
      "\u001B[1;31m---------------------------------------------------------------------------\u001B[0m",
      "\u001B[1;31mNameError\u001B[0m                                 Traceback (most recent call last)",
      "Cell \u001B[1;32mIn[124], line 1\u001B[0m\n\u001B[1;32m----> 1\u001B[0m sevneu_TOTAL \u001B[38;5;241m=\u001B[39m \u001B[43mTOTAL\u001B[49m[\u001B[38;5;124m'\u001B[39m\u001B[38;5;124mCanadenca sumatoris comparats\u001B[39m\u001B[38;5;124m'\u001B[39m]\u001B[38;5;241m.\u001B[39mbetween(\u001B[38;5;241m1.5\u001B[39m, \u001B[38;5;241m4.5\u001B[39m)\n\u001B[0;32m      2\u001B[0m Percentatge_sevneu_TOTAL \u001B[38;5;241m=\u001B[39m sevneu_TOTAL\u001B[38;5;241m.\u001B[39mmean() \u001B[38;5;241m*\u001B[39m \u001B[38;5;241m100\u001B[39m\n\u001B[0;32m      3\u001B[0m num_observacions_sevneu_TOTAL \u001B[38;5;241m=\u001B[39m sevneu_TOTAL\u001B[38;5;241m.\u001B[39msum()\n",
      "\u001B[1;31mNameError\u001B[0m: name 'TOTAL' is not defined"
     ]
    }
   ],
   "execution_count": 124
  },
  {
   "cell_type": "markdown",
   "source": [
    "#### P-valor"
   ],
   "metadata": {
    "collapsed": false
   },
   "id": "29e0b2e7767b2e02"
  },
  {
   "cell_type": "markdown",
   "source": [
    "##### Dèficit neurològic lleuger (mild)"
   ],
   "metadata": {
    "collapsed": false
   },
   "id": "78aafcfae072fc35"
  },
  {
   "cell_type": "code",
   "source": [
    "contingency_table_12 = pd.crosstab(index=AMB_PA['Canadenca sumatoris comparats'].between(10.5,11.5), columns=AMB_PA_MECVV['Canadenca sumatoris comparats'].between(10.5,11.5))\n",
    "\n",
    "chi2_12, p_value_12, dof_12, expected_12 = chi2_contingency(contingency_table_12)\n",
    "\n",
    "print(\"Estadístic xi-quadrat entre AMB_PA i AMB_PA_MECVV:\", chi2_12)\n",
    "print(\"P-valor entre AMB_PA i AMB_PA_MECVV:\", p_value_12)\n",
    "\n",
    "if p_value_12 < 0.05:\n",
    "   print(\"Hi ha diferències significatives entre les distribucions de canadenca en AMB_PA i AMB_PA_MECVV.\")\n",
    "else:\n",
    "   print(\"No hi ha diferències significatives entre les distribucions de canadenca en AMB_PA i AMB_PA_MECVV.\")\n"
   ],
   "metadata": {
    "collapsed": false,
    "ExecuteTime": {
     "end_time": "2024-05-29T13:03:41.461454Z",
     "start_time": "2024-05-29T13:03:41.415659Z"
    }
   },
   "id": "7d628f5aab2b35a0",
   "outputs": [
    {
     "ename": "NameError",
     "evalue": "name 'pd' is not defined",
     "output_type": "error",
     "traceback": [
      "\u001B[1;31m---------------------------------------------------------------------------\u001B[0m",
      "\u001B[1;31mNameError\u001B[0m                                 Traceback (most recent call last)",
      "Cell \u001B[1;32mIn[125], line 1\u001B[0m\n\u001B[1;32m----> 1\u001B[0m contingency_table_12 \u001B[38;5;241m=\u001B[39m \u001B[43mpd\u001B[49m\u001B[38;5;241m.\u001B[39mcrosstab(index\u001B[38;5;241m=\u001B[39mAMB_PA[\u001B[38;5;124m'\u001B[39m\u001B[38;5;124mCanadenca sumatoris comparats\u001B[39m\u001B[38;5;124m'\u001B[39m]\u001B[38;5;241m.\u001B[39mbetween(\u001B[38;5;241m10.5\u001B[39m,\u001B[38;5;241m11.5\u001B[39m), columns\u001B[38;5;241m=\u001B[39mAMB_PA_MECVV[\u001B[38;5;124m'\u001B[39m\u001B[38;5;124mCanadenca sumatoris comparats\u001B[39m\u001B[38;5;124m'\u001B[39m]\u001B[38;5;241m.\u001B[39mbetween(\u001B[38;5;241m10.5\u001B[39m,\u001B[38;5;241m11.5\u001B[39m))\n\u001B[0;32m      3\u001B[0m chi2_12, p_value_12, dof_12, expected_12 \u001B[38;5;241m=\u001B[39m chi2_contingency(contingency_table_12)\n\u001B[0;32m      5\u001B[0m \u001B[38;5;28mprint\u001B[39m(\u001B[38;5;124m\"\u001B[39m\u001B[38;5;124mEstadístic xi-quadrat entre AMB_PA i AMB_PA_MECVV:\u001B[39m\u001B[38;5;124m\"\u001B[39m, chi2_12)\n",
      "\u001B[1;31mNameError\u001B[0m: name 'pd' is not defined"
     ]
    }
   ],
   "execution_count": 125
  },
  {
   "cell_type": "code",
   "source": [
    "contingency_table_13 = pd.crosstab(index=AMB_PA['Canadenca sumatoris comparats'].between(10.5,11.5), columns=SENSE_PA['Canadenca sumatoris comparats'].between(10.5,11.5))\n",
    "\n",
    "chi2_13, p_value_13, dof_13, expected_13 = chi2_contingency(contingency_table_13)\n",
    "\n",
    "print(\"Estadístic xi-quadrat entre AMB_PA i SENSE_PA:\", chi2_13)\n",
    "print(\"P-valor entre AMB_PA i SENSE_PA:\", p_value_13)\n",
    "\n",
    "if p_value_13 < 0.05:\n",
    "   print(\"Hi ha diferències significatives entre les distribucions de canadenca en AMB_PA i SENSE_PA.\")\n",
    "else:\n",
    "   print(\"No hi ha diferències significatives entre les distribucions de canadenca en AMB_PA i SENSE_PA.\")"
   ],
   "metadata": {
    "collapsed": false,
    "ExecuteTime": {
     "end_time": "2024-05-29T13:03:42.778721Z",
     "start_time": "2024-05-29T13:03:42.754508Z"
    }
   },
   "id": "b9e244e3c3d23e10",
   "outputs": [
    {
     "ename": "NameError",
     "evalue": "name 'pd' is not defined",
     "output_type": "error",
     "traceback": [
      "\u001B[1;31m---------------------------------------------------------------------------\u001B[0m",
      "\u001B[1;31mNameError\u001B[0m                                 Traceback (most recent call last)",
      "Cell \u001B[1;32mIn[126], line 1\u001B[0m\n\u001B[1;32m----> 1\u001B[0m contingency_table_13 \u001B[38;5;241m=\u001B[39m \u001B[43mpd\u001B[49m\u001B[38;5;241m.\u001B[39mcrosstab(index\u001B[38;5;241m=\u001B[39mAMB_PA[\u001B[38;5;124m'\u001B[39m\u001B[38;5;124mCanadenca sumatoris comparats\u001B[39m\u001B[38;5;124m'\u001B[39m]\u001B[38;5;241m.\u001B[39mbetween(\u001B[38;5;241m10.5\u001B[39m,\u001B[38;5;241m11.5\u001B[39m), columns\u001B[38;5;241m=\u001B[39mSENSE_PA[\u001B[38;5;124m'\u001B[39m\u001B[38;5;124mCanadenca sumatoris comparats\u001B[39m\u001B[38;5;124m'\u001B[39m]\u001B[38;5;241m.\u001B[39mbetween(\u001B[38;5;241m10.5\u001B[39m,\u001B[38;5;241m11.5\u001B[39m))\n\u001B[0;32m      3\u001B[0m chi2_13, p_value_13, dof_13, expected_13 \u001B[38;5;241m=\u001B[39m chi2_contingency(contingency_table_13)\n\u001B[0;32m      5\u001B[0m \u001B[38;5;28mprint\u001B[39m(\u001B[38;5;124m\"\u001B[39m\u001B[38;5;124mEstadístic xi-quadrat entre AMB_PA i SENSE_PA:\u001B[39m\u001B[38;5;124m\"\u001B[39m, chi2_13)\n",
      "\u001B[1;31mNameError\u001B[0m: name 'pd' is not defined"
     ]
    }
   ],
   "execution_count": 126
  },
  {
   "cell_type": "code",
   "source": [
    "contingency_table_23 = pd.crosstab(index=AMB_PA_MECVV['Canadenca sumatoris comparats'].between(10.5,11.5), columns=SENSE_PA['Canadenca sumatoris comparats'].between(10.5,11.5))\n",
    "\n",
    "chi2_23, p_value_23, dof_23, expected_23 = chi2_contingency(contingency_table_23)\n",
    "\n",
    "print(\"Estadístic xi-quadrat entre AMB_PA_MECVV i SENSE_PA:\", chi2_23)\n",
    "print(\"P-valor entre AMB_PA_MECVV i SENSE_PA:\", p_value_23)\n",
    "\n",
    "if p_value_23 < 0.05:\n",
    "   print(\"Hi ha diferències significatives entre les distribucions de canadenca en AMB_PA_MECVV i SENSE_PA.\")\n",
    "else:\n",
    "   print(\"No hi ha diferències significatives entre les distribucions de canadenca en AMB_PA_MECVV i SENSE_PA.\")"
   ],
   "metadata": {
    "collapsed": false,
    "ExecuteTime": {
     "end_time": "2024-05-29T13:03:43.761450Z",
     "start_time": "2024-05-29T13:03:43.730306Z"
    }
   },
   "id": "274c6a2b63438e6a",
   "outputs": [
    {
     "ename": "NameError",
     "evalue": "name 'pd' is not defined",
     "output_type": "error",
     "traceback": [
      "\u001B[1;31m---------------------------------------------------------------------------\u001B[0m",
      "\u001B[1;31mNameError\u001B[0m                                 Traceback (most recent call last)",
      "Cell \u001B[1;32mIn[127], line 1\u001B[0m\n\u001B[1;32m----> 1\u001B[0m contingency_table_23 \u001B[38;5;241m=\u001B[39m \u001B[43mpd\u001B[49m\u001B[38;5;241m.\u001B[39mcrosstab(index\u001B[38;5;241m=\u001B[39mAMB_PA_MECVV[\u001B[38;5;124m'\u001B[39m\u001B[38;5;124mCanadenca sumatoris comparats\u001B[39m\u001B[38;5;124m'\u001B[39m]\u001B[38;5;241m.\u001B[39mbetween(\u001B[38;5;241m10.5\u001B[39m,\u001B[38;5;241m11.5\u001B[39m), columns\u001B[38;5;241m=\u001B[39mSENSE_PA[\u001B[38;5;124m'\u001B[39m\u001B[38;5;124mCanadenca sumatoris comparats\u001B[39m\u001B[38;5;124m'\u001B[39m]\u001B[38;5;241m.\u001B[39mbetween(\u001B[38;5;241m10.5\u001B[39m,\u001B[38;5;241m11.5\u001B[39m))\n\u001B[0;32m      3\u001B[0m chi2_23, p_value_23, dof_23, expected_23 \u001B[38;5;241m=\u001B[39m chi2_contingency(contingency_table_23)\n\u001B[0;32m      5\u001B[0m \u001B[38;5;28mprint\u001B[39m(\u001B[38;5;124m\"\u001B[39m\u001B[38;5;124mEstadístic xi-quadrat entre AMB_PA_MECVV i SENSE_PA:\u001B[39m\u001B[38;5;124m\"\u001B[39m, chi2_23)\n",
      "\u001B[1;31mNameError\u001B[0m: name 'pd' is not defined"
     ]
    }
   ],
   "execution_count": 127
  },
  {
   "cell_type": "code",
   "source": [
    "contingency_table_14 = pd.crosstab(index=AMB_PA['Canadenca sumatoris comparats'].between(10.5,11.5), columns=TOTAL['Canadenca sumatoris comparats'].between(10.5,11.5))\n",
    "\n",
    "chi2_14, p_value_14, dof_14, expected_14 = chi2_contingency(contingency_table_14)\n",
    "\n",
    "print(\"Estadístic xi-quadrat entre AMB_PA i TOTAL:\", chi2_14)\n",
    "print(\"P-valor entre AMB_PA i TOTAL:\", p_value_14)\n",
    "\n",
    "if p_value_14 < 0.05:\n",
    "    print(\"Hi ha diferències significatives entre les distribucions de canadenca en AMB_PA i TOTAL.\")\n",
    "else:\n",
    "    print(\"No hi ha diferències significatives entre les distribucions de canadenca en AMB_PA i TOTAL.\")"
   ],
   "metadata": {
    "collapsed": false,
    "ExecuteTime": {
     "end_time": "2024-05-29T13:03:44.991850Z",
     "start_time": "2024-05-29T13:03:44.964395Z"
    }
   },
   "id": "8a00ba7a9426fe22",
   "outputs": [
    {
     "ename": "NameError",
     "evalue": "name 'pd' is not defined",
     "output_type": "error",
     "traceback": [
      "\u001B[1;31m---------------------------------------------------------------------------\u001B[0m",
      "\u001B[1;31mNameError\u001B[0m                                 Traceback (most recent call last)",
      "Cell \u001B[1;32mIn[128], line 1\u001B[0m\n\u001B[1;32m----> 1\u001B[0m contingency_table_14 \u001B[38;5;241m=\u001B[39m \u001B[43mpd\u001B[49m\u001B[38;5;241m.\u001B[39mcrosstab(index\u001B[38;5;241m=\u001B[39mAMB_PA[\u001B[38;5;124m'\u001B[39m\u001B[38;5;124mCanadenca sumatoris comparats\u001B[39m\u001B[38;5;124m'\u001B[39m]\u001B[38;5;241m.\u001B[39mbetween(\u001B[38;5;241m10.5\u001B[39m,\u001B[38;5;241m11.5\u001B[39m), columns\u001B[38;5;241m=\u001B[39mTOTAL[\u001B[38;5;124m'\u001B[39m\u001B[38;5;124mCanadenca sumatoris comparats\u001B[39m\u001B[38;5;124m'\u001B[39m]\u001B[38;5;241m.\u001B[39mbetween(\u001B[38;5;241m10.5\u001B[39m,\u001B[38;5;241m11.5\u001B[39m))\n\u001B[0;32m      3\u001B[0m chi2_14, p_value_14, dof_14, expected_14 \u001B[38;5;241m=\u001B[39m chi2_contingency(contingency_table_14)\n\u001B[0;32m      5\u001B[0m \u001B[38;5;28mprint\u001B[39m(\u001B[38;5;124m\"\u001B[39m\u001B[38;5;124mEstadístic xi-quadrat entre AMB_PA i TOTAL:\u001B[39m\u001B[38;5;124m\"\u001B[39m, chi2_14)\n",
      "\u001B[1;31mNameError\u001B[0m: name 'pd' is not defined"
     ]
    }
   ],
   "execution_count": 128
  },
  {
   "cell_type": "code",
   "source": [
    "contingency_table_24 = pd.crosstab(index=AMB_PA_MECVV['Canadenca sumatoris comparats'].between(10.5,11.5), columns=TOTAL['Canadenca sumatoris comparats'].between(10.5,11.5))\n",
    "\n",
    "chi2_24, p_value_24, dof_24, expected_24 = chi2_contingency(contingency_table_24)\n",
    "\n",
    "print(\"Estadístic xi-quadrat entre AMB_PA_MECVV i TOTAL:\", chi2_24)\n",
    "print(\"P-valor entre AMB_PA_MECVV i TOTAL:\", p_value_24)\n",
    "\n",
    "if p_value_24 < 0.05:\n",
    "    print(\"Hi ha diferències significatives entre les distribucions de canadenca en AMB_PA_MECVV i TOTAL.\")\n",
    "else:\n",
    "    print(\"No hi ha diferències significatives entre les distribucions de canadenca en AMB_PA_MECVV i TOTAL.\")"
   ],
   "metadata": {
    "collapsed": false,
    "ExecuteTime": {
     "end_time": "2024-05-29T13:03:46.255092Z",
     "start_time": "2024-05-29T13:03:46.230503Z"
    }
   },
   "id": "a63f23f1fb2203c9",
   "outputs": [
    {
     "ename": "NameError",
     "evalue": "name 'pd' is not defined",
     "output_type": "error",
     "traceback": [
      "\u001B[1;31m---------------------------------------------------------------------------\u001B[0m",
      "\u001B[1;31mNameError\u001B[0m                                 Traceback (most recent call last)",
      "Cell \u001B[1;32mIn[129], line 1\u001B[0m\n\u001B[1;32m----> 1\u001B[0m contingency_table_24 \u001B[38;5;241m=\u001B[39m \u001B[43mpd\u001B[49m\u001B[38;5;241m.\u001B[39mcrosstab(index\u001B[38;5;241m=\u001B[39mAMB_PA_MECVV[\u001B[38;5;124m'\u001B[39m\u001B[38;5;124mCanadenca sumatoris comparats\u001B[39m\u001B[38;5;124m'\u001B[39m]\u001B[38;5;241m.\u001B[39mbetween(\u001B[38;5;241m10.5\u001B[39m,\u001B[38;5;241m11.5\u001B[39m), columns\u001B[38;5;241m=\u001B[39mTOTAL[\u001B[38;5;124m'\u001B[39m\u001B[38;5;124mCanadenca sumatoris comparats\u001B[39m\u001B[38;5;124m'\u001B[39m]\u001B[38;5;241m.\u001B[39mbetween(\u001B[38;5;241m10.5\u001B[39m,\u001B[38;5;241m11.5\u001B[39m))\n\u001B[0;32m      3\u001B[0m chi2_24, p_value_24, dof_24, expected_24 \u001B[38;5;241m=\u001B[39m chi2_contingency(contingency_table_24)\n\u001B[0;32m      5\u001B[0m \u001B[38;5;28mprint\u001B[39m(\u001B[38;5;124m\"\u001B[39m\u001B[38;5;124mEstadístic xi-quadrat entre AMB_PA_MECVV i TOTAL:\u001B[39m\u001B[38;5;124m\"\u001B[39m, chi2_24)\n",
      "\u001B[1;31mNameError\u001B[0m: name 'pd' is not defined"
     ]
    }
   ],
   "execution_count": 129
  },
  {
   "cell_type": "code",
   "source": [
    "contingency_table_34 = pd.crosstab(index=SENSE_PA['Canadenca sumatoris comparats'].between(10.5,11.5), columns=TOTAL['Canadenca sumatoris comparats'].between(10.5,11.5))\n",
    "\n",
    "chi2_34, p_value_34, dof_34, expected_34 = chi2_contingency(contingency_table_34)\n",
    "\n",
    "print(\"Estadístic xi-quadrat entre SENSE_PA i TOTAL:\", chi2_34)\n",
    "print(\"P-valor entre SENSE_PA i TOTAL:\", p_value_34)\n",
    "\n",
    "if p_value_34 < 0.05:\n",
    "    print(\"Hi ha diferències significatives entre les distribucions de canadenca en SENSE_PA i TOTAL.\")\n",
    "else:\n",
    "    print(\"No hi ha diferències significatives entre les distribucions de canadenca en SENSE_PA i TOTAL.\")"
   ],
   "metadata": {
    "collapsed": false,
    "ExecuteTime": {
     "end_time": "2024-05-29T13:03:47.322050Z",
     "start_time": "2024-05-29T13:03:47.293687Z"
    }
   },
   "id": "3496639627346d3e",
   "outputs": [
    {
     "ename": "NameError",
     "evalue": "name 'pd' is not defined",
     "output_type": "error",
     "traceback": [
      "\u001B[1;31m---------------------------------------------------------------------------\u001B[0m",
      "\u001B[1;31mNameError\u001B[0m                                 Traceback (most recent call last)",
      "Cell \u001B[1;32mIn[130], line 1\u001B[0m\n\u001B[1;32m----> 1\u001B[0m contingency_table_34 \u001B[38;5;241m=\u001B[39m \u001B[43mpd\u001B[49m\u001B[38;5;241m.\u001B[39mcrosstab(index\u001B[38;5;241m=\u001B[39mSENSE_PA[\u001B[38;5;124m'\u001B[39m\u001B[38;5;124mCanadenca sumatoris comparats\u001B[39m\u001B[38;5;124m'\u001B[39m]\u001B[38;5;241m.\u001B[39mbetween(\u001B[38;5;241m10.5\u001B[39m,\u001B[38;5;241m11.5\u001B[39m), columns\u001B[38;5;241m=\u001B[39mTOTAL[\u001B[38;5;124m'\u001B[39m\u001B[38;5;124mCanadenca sumatoris comparats\u001B[39m\u001B[38;5;124m'\u001B[39m]\u001B[38;5;241m.\u001B[39mbetween(\u001B[38;5;241m10.5\u001B[39m,\u001B[38;5;241m11.5\u001B[39m))\n\u001B[0;32m      3\u001B[0m chi2_34, p_value_34, dof_34, expected_34 \u001B[38;5;241m=\u001B[39m chi2_contingency(contingency_table_34)\n\u001B[0;32m      5\u001B[0m \u001B[38;5;28mprint\u001B[39m(\u001B[38;5;124m\"\u001B[39m\u001B[38;5;124mEstadístic xi-quadrat entre SENSE_PA i TOTAL:\u001B[39m\u001B[38;5;124m\"\u001B[39m, chi2_34)\n",
      "\u001B[1;31mNameError\u001B[0m: name 'pd' is not defined"
     ]
    }
   ],
   "execution_count": 130
  },
  {
   "cell_type": "markdown",
   "source": [
    "##### Dèficit neurològic moderat"
   ],
   "metadata": {
    "collapsed": false
   },
   "id": "27700a473afb6dec"
  },
  {
   "cell_type": "code",
   "source": [
    "contingency_table_12 = pd.crosstab(index=AMB_PA['Canadenca sumatoris comparats'].between(5,10), columns=AMB_PA_MECVV['Canadenca sumatoris comparats'].between(5,10))\n",
    "\n",
    "chi2_12, p_value_12, dof_12, expected_12 = chi2_contingency(contingency_table_12)\n",
    "\n",
    "print(\"Estadístic xi-quadrat entre AMB_PA i AMB_PA_MECVV:\", chi2_12)\n",
    "print(\"P-valor entre AMB_PA i AMB_PA_MECVV:\", p_value_12)\n",
    "\n",
    "if p_value_12 < 0.05:\n",
    "   print(\"Hi ha diferències significatives entre les distribucions de canadenca en AMB_PA i AMB_PA_MECVV.\")\n",
    "else:\n",
    "   print(\"No hi ha diferències significatives entre les distribucions de canadenca en AMB_PA i AMB_PA_MECVV.\")"
   ],
   "metadata": {
    "collapsed": false,
    "ExecuteTime": {
     "end_time": "2024-05-29T13:03:48.844066Z",
     "start_time": "2024-05-29T13:03:48.817418Z"
    }
   },
   "id": "6ceccf1a3a2575f0",
   "outputs": [
    {
     "ename": "NameError",
     "evalue": "name 'pd' is not defined",
     "output_type": "error",
     "traceback": [
      "\u001B[1;31m---------------------------------------------------------------------------\u001B[0m",
      "\u001B[1;31mNameError\u001B[0m                                 Traceback (most recent call last)",
      "Cell \u001B[1;32mIn[131], line 1\u001B[0m\n\u001B[1;32m----> 1\u001B[0m contingency_table_12 \u001B[38;5;241m=\u001B[39m \u001B[43mpd\u001B[49m\u001B[38;5;241m.\u001B[39mcrosstab(index\u001B[38;5;241m=\u001B[39mAMB_PA[\u001B[38;5;124m'\u001B[39m\u001B[38;5;124mCanadenca sumatoris comparats\u001B[39m\u001B[38;5;124m'\u001B[39m]\u001B[38;5;241m.\u001B[39mbetween(\u001B[38;5;241m5\u001B[39m,\u001B[38;5;241m10\u001B[39m), columns\u001B[38;5;241m=\u001B[39mAMB_PA_MECVV[\u001B[38;5;124m'\u001B[39m\u001B[38;5;124mCanadenca sumatoris comparats\u001B[39m\u001B[38;5;124m'\u001B[39m]\u001B[38;5;241m.\u001B[39mbetween(\u001B[38;5;241m5\u001B[39m,\u001B[38;5;241m10\u001B[39m))\n\u001B[0;32m      3\u001B[0m chi2_12, p_value_12, dof_12, expected_12 \u001B[38;5;241m=\u001B[39m chi2_contingency(contingency_table_12)\n\u001B[0;32m      5\u001B[0m \u001B[38;5;28mprint\u001B[39m(\u001B[38;5;124m\"\u001B[39m\u001B[38;5;124mEstadístic xi-quadrat entre AMB_PA i AMB_PA_MECVV:\u001B[39m\u001B[38;5;124m\"\u001B[39m, chi2_12)\n",
      "\u001B[1;31mNameError\u001B[0m: name 'pd' is not defined"
     ]
    }
   ],
   "execution_count": 131
  },
  {
   "cell_type": "code",
   "source": [
    "contingency_table_13 = pd.crosstab(index=AMB_PA['Canadenca sumatoris comparats'].between(5,10), columns=SENSE_PA['Canadenca sumatoris comparats'].between(5,10))\n",
    "\n",
    "chi2_13, p_value_13, dof_13, expected_13 = chi2_contingency(contingency_table_13)\n",
    "\n",
    "print(\"Estadístic xi-quadrat entre AMB_PA i SENSE_PA:\", chi2_13)\n",
    "print(\"P-valor entre AMB_PA i SENSE_PA:\", p_value_13)\n",
    "\n",
    "if p_value_13 < 0.05:\n",
    "   print(\"Hi ha diferències significatives entre les distribucions de canadenca en AMB_PA i SENSE_PA.\")\n",
    "else:\n",
    "   print(\"No hi ha diferències significatives entre les distribucions de canadenca en AMB_PA i SENSE_PA.\")"
   ],
   "metadata": {
    "collapsed": false,
    "ExecuteTime": {
     "end_time": "2024-05-29T13:03:54.356319Z",
     "start_time": "2024-05-29T13:03:54.325426Z"
    }
   },
   "id": "c7307f68ecc921a",
   "outputs": [
    {
     "ename": "NameError",
     "evalue": "name 'pd' is not defined",
     "output_type": "error",
     "traceback": [
      "\u001B[1;31m---------------------------------------------------------------------------\u001B[0m",
      "\u001B[1;31mNameError\u001B[0m                                 Traceback (most recent call last)",
      "Cell \u001B[1;32mIn[132], line 1\u001B[0m\n\u001B[1;32m----> 1\u001B[0m contingency_table_13 \u001B[38;5;241m=\u001B[39m \u001B[43mpd\u001B[49m\u001B[38;5;241m.\u001B[39mcrosstab(index\u001B[38;5;241m=\u001B[39mAMB_PA[\u001B[38;5;124m'\u001B[39m\u001B[38;5;124mCanadenca sumatoris comparats\u001B[39m\u001B[38;5;124m'\u001B[39m]\u001B[38;5;241m.\u001B[39mbetween(\u001B[38;5;241m5\u001B[39m,\u001B[38;5;241m10\u001B[39m), columns\u001B[38;5;241m=\u001B[39mSENSE_PA[\u001B[38;5;124m'\u001B[39m\u001B[38;5;124mCanadenca sumatoris comparats\u001B[39m\u001B[38;5;124m'\u001B[39m]\u001B[38;5;241m.\u001B[39mbetween(\u001B[38;5;241m5\u001B[39m,\u001B[38;5;241m10\u001B[39m))\n\u001B[0;32m      3\u001B[0m chi2_13, p_value_13, dof_13, expected_13 \u001B[38;5;241m=\u001B[39m chi2_contingency(contingency_table_13)\n\u001B[0;32m      5\u001B[0m \u001B[38;5;28mprint\u001B[39m(\u001B[38;5;124m\"\u001B[39m\u001B[38;5;124mEstadístic xi-quadrat entre AMB_PA i SENSE_PA:\u001B[39m\u001B[38;5;124m\"\u001B[39m, chi2_13)\n",
      "\u001B[1;31mNameError\u001B[0m: name 'pd' is not defined"
     ]
    }
   ],
   "execution_count": 132
  },
  {
   "cell_type": "code",
   "source": [
    "contingency_table_23 = pd.crosstab(index=AMB_PA_MECVV['Canadenca sumatoris comparats'].between(5,10), columns=SENSE_PA['Canadenca sumatoris comparats'].between(5,10))\n",
    "\n",
    "chi2_23, p_value_23, dof_23, expected_23 = chi2_contingency(contingency_table_23)\n",
    "\n",
    "print(\"Estadístic xi-quadrat entre AMB_PA_MECVV i SENSE_PA:\", chi2_23)\n",
    "print(\"P-valor entre AMB_PA_MECVV i SENSE_PA:\", p_value_23)\n",
    "\n",
    "if p_value_23 < 0.05:\n",
    "   print(\"Hi ha diferències significatives entre les distribucions de canadenca en AMB_PA_MECVV i SENSE_PA.\")\n",
    "else:\n",
    "   print(\"No hi ha diferències significatives entre les distribucions de canadenca en AMB_PA_MECVV i SENSE_PA.\")"
   ],
   "metadata": {
    "collapsed": false,
    "ExecuteTime": {
     "end_time": "2024-05-29T13:03:55.076238Z",
     "start_time": "2024-05-29T13:03:55.053340Z"
    }
   },
   "id": "784e281efc64e758",
   "outputs": [
    {
     "ename": "NameError",
     "evalue": "name 'pd' is not defined",
     "output_type": "error",
     "traceback": [
      "\u001B[1;31m---------------------------------------------------------------------------\u001B[0m",
      "\u001B[1;31mNameError\u001B[0m                                 Traceback (most recent call last)",
      "Cell \u001B[1;32mIn[133], line 1\u001B[0m\n\u001B[1;32m----> 1\u001B[0m contingency_table_23 \u001B[38;5;241m=\u001B[39m \u001B[43mpd\u001B[49m\u001B[38;5;241m.\u001B[39mcrosstab(index\u001B[38;5;241m=\u001B[39mAMB_PA_MECVV[\u001B[38;5;124m'\u001B[39m\u001B[38;5;124mCanadenca sumatoris comparats\u001B[39m\u001B[38;5;124m'\u001B[39m]\u001B[38;5;241m.\u001B[39mbetween(\u001B[38;5;241m5\u001B[39m,\u001B[38;5;241m10\u001B[39m), columns\u001B[38;5;241m=\u001B[39mSENSE_PA[\u001B[38;5;124m'\u001B[39m\u001B[38;5;124mCanadenca sumatoris comparats\u001B[39m\u001B[38;5;124m'\u001B[39m]\u001B[38;5;241m.\u001B[39mbetween(\u001B[38;5;241m5\u001B[39m,\u001B[38;5;241m10\u001B[39m))\n\u001B[0;32m      3\u001B[0m chi2_23, p_value_23, dof_23, expected_23 \u001B[38;5;241m=\u001B[39m chi2_contingency(contingency_table_23)\n\u001B[0;32m      5\u001B[0m \u001B[38;5;28mprint\u001B[39m(\u001B[38;5;124m\"\u001B[39m\u001B[38;5;124mEstadístic xi-quadrat entre AMB_PA_MECVV i SENSE_PA:\u001B[39m\u001B[38;5;124m\"\u001B[39m, chi2_23)\n",
      "\u001B[1;31mNameError\u001B[0m: name 'pd' is not defined"
     ]
    }
   ],
   "execution_count": 133
  },
  {
   "cell_type": "code",
   "source": [
    "contingency_table_14 = pd.crosstab(index=AMB_PA['Canadenca sumatoris comparats'].between(5,10), columns=TOTAL['Canadenca sumatoris comparats'].between(5,10))\n",
    "\n",
    "chi2_14, p_value_14, dof_14, expected_14 = chi2_contingency(contingency_table_14)\n",
    "\n",
    "print(\"Estadístic xi-quadrat entre AMB_PA i TOTAL:\", chi2_14)\n",
    "print(\"P-valor entre AMB_PA i TOTAL:\", p_value_14)\n",
    "\n",
    "if p_value_14 < 0.05:\n",
    "    print(\"Hi ha diferències significatives entre les distribucions de canadenca en AMB_PA i TOTAL.\")\n",
    "else:\n",
    "    print(\"No hi ha diferències significatives entre les distribucions de canadenca en AMB_PA i TOTAL.\")"
   ],
   "metadata": {
    "collapsed": false,
    "ExecuteTime": {
     "end_time": "2024-05-29T13:03:55.943910Z",
     "start_time": "2024-05-29T13:03:55.913880Z"
    }
   },
   "id": "d99138fc2555b6a3",
   "outputs": [
    {
     "ename": "NameError",
     "evalue": "name 'pd' is not defined",
     "output_type": "error",
     "traceback": [
      "\u001B[1;31m---------------------------------------------------------------------------\u001B[0m",
      "\u001B[1;31mNameError\u001B[0m                                 Traceback (most recent call last)",
      "Cell \u001B[1;32mIn[134], line 1\u001B[0m\n\u001B[1;32m----> 1\u001B[0m contingency_table_14 \u001B[38;5;241m=\u001B[39m \u001B[43mpd\u001B[49m\u001B[38;5;241m.\u001B[39mcrosstab(index\u001B[38;5;241m=\u001B[39mAMB_PA[\u001B[38;5;124m'\u001B[39m\u001B[38;5;124mCanadenca sumatoris comparats\u001B[39m\u001B[38;5;124m'\u001B[39m]\u001B[38;5;241m.\u001B[39mbetween(\u001B[38;5;241m5\u001B[39m,\u001B[38;5;241m10\u001B[39m), columns\u001B[38;5;241m=\u001B[39mTOTAL[\u001B[38;5;124m'\u001B[39m\u001B[38;5;124mCanadenca sumatoris comparats\u001B[39m\u001B[38;5;124m'\u001B[39m]\u001B[38;5;241m.\u001B[39mbetween(\u001B[38;5;241m5\u001B[39m,\u001B[38;5;241m10\u001B[39m))\n\u001B[0;32m      3\u001B[0m chi2_14, p_value_14, dof_14, expected_14 \u001B[38;5;241m=\u001B[39m chi2_contingency(contingency_table_14)\n\u001B[0;32m      5\u001B[0m \u001B[38;5;28mprint\u001B[39m(\u001B[38;5;124m\"\u001B[39m\u001B[38;5;124mEstadístic xi-quadrat entre AMB_PA i TOTAL:\u001B[39m\u001B[38;5;124m\"\u001B[39m, chi2_14)\n",
      "\u001B[1;31mNameError\u001B[0m: name 'pd' is not defined"
     ]
    }
   ],
   "execution_count": 134
  },
  {
   "cell_type": "code",
   "source": [
    "contingency_table_24 = pd.crosstab(index=AMB_PA_MECVV['Canadenca sumatoris comparats'].between(5,10), columns=TOTAL['Canadenca sumatoris comparats'].between(5,10))\n",
    "\n",
    "chi2_24, p_value_24, dof_24, expected_24 = chi2_contingency(contingency_table_24)\n",
    "\n",
    "print(\"Estadístic xi-quadrat entre AMB_PA_MECVV i TOTAL:\", chi2_24)\n",
    "print(\"P-valor entre AMB_PA_MECVV i TOTAL:\", p_value_24)\n",
    "\n",
    "if p_value_24 < 0.05:\n",
    "    print(\"Hi ha diferències significatives entre les distribucions de canadenca en AMB_PA_MECVV i TOTAL.\")\n",
    "else:\n",
    "    print(\"No hi ha diferències significatives entre les distribucions de canadenca en AMB_PA_MECVV i TOTAL.\")"
   ],
   "metadata": {
    "collapsed": false,
    "ExecuteTime": {
     "end_time": "2024-05-29T13:03:56.809299Z",
     "start_time": "2024-05-29T13:03:56.787581Z"
    }
   },
   "id": "9ea60a2b64036dc4",
   "outputs": [
    {
     "ename": "NameError",
     "evalue": "name 'pd' is not defined",
     "output_type": "error",
     "traceback": [
      "\u001B[1;31m---------------------------------------------------------------------------\u001B[0m",
      "\u001B[1;31mNameError\u001B[0m                                 Traceback (most recent call last)",
      "Cell \u001B[1;32mIn[135], line 1\u001B[0m\n\u001B[1;32m----> 1\u001B[0m contingency_table_24 \u001B[38;5;241m=\u001B[39m \u001B[43mpd\u001B[49m\u001B[38;5;241m.\u001B[39mcrosstab(index\u001B[38;5;241m=\u001B[39mAMB_PA_MECVV[\u001B[38;5;124m'\u001B[39m\u001B[38;5;124mCanadenca sumatoris comparats\u001B[39m\u001B[38;5;124m'\u001B[39m]\u001B[38;5;241m.\u001B[39mbetween(\u001B[38;5;241m5\u001B[39m,\u001B[38;5;241m10\u001B[39m), columns\u001B[38;5;241m=\u001B[39mTOTAL[\u001B[38;5;124m'\u001B[39m\u001B[38;5;124mCanadenca sumatoris comparats\u001B[39m\u001B[38;5;124m'\u001B[39m]\u001B[38;5;241m.\u001B[39mbetween(\u001B[38;5;241m5\u001B[39m,\u001B[38;5;241m10\u001B[39m))\n\u001B[0;32m      3\u001B[0m chi2_24, p_value_24, dof_24, expected_24 \u001B[38;5;241m=\u001B[39m chi2_contingency(contingency_table_24)\n\u001B[0;32m      5\u001B[0m \u001B[38;5;28mprint\u001B[39m(\u001B[38;5;124m\"\u001B[39m\u001B[38;5;124mEstadístic xi-quadrat entre AMB_PA_MECVV i TOTAL:\u001B[39m\u001B[38;5;124m\"\u001B[39m, chi2_24)\n",
      "\u001B[1;31mNameError\u001B[0m: name 'pd' is not defined"
     ]
    }
   ],
   "execution_count": 135
  },
  {
   "cell_type": "code",
   "source": [
    "contingency_table_34 = pd.crosstab(index=SENSE_PA['Canadenca sumatoris comparats'].between(5,10), columns=TOTAL['Canadenca sumatoris comparats'].between(5,10))\n",
    "\n",
    "chi2_34, p_value_34, dof_34, expected_34 = chi2_contingency(contingency_table_34)\n",
    "\n",
    "print(\"Estadístic xi-quadrat entre SENSE_PA i TOTAL:\", chi2_34)\n",
    "print(\"P-valor entre SENSE_PA i TOTAL:\", p_value_34)\n",
    "\n",
    "if p_value_34 < 0.05:\n",
    "    print(\"Hi ha diferències significatives entre les distribucions de canadenca en SENSE_PA i TOTAL.\")\n",
    "else:\n",
    "    print(\"No hi ha diferències significatives entre les distribucions de canadenca en SENSE_PA i TOTAL.\")"
   ],
   "metadata": {
    "collapsed": false,
    "ExecuteTime": {
     "end_time": "2024-05-29T13:03:57.467707Z",
     "start_time": "2024-05-29T13:03:57.431963Z"
    }
   },
   "id": "c43da7f541976f8",
   "outputs": [
    {
     "ename": "NameError",
     "evalue": "name 'pd' is not defined",
     "output_type": "error",
     "traceback": [
      "\u001B[1;31m---------------------------------------------------------------------------\u001B[0m",
      "\u001B[1;31mNameError\u001B[0m                                 Traceback (most recent call last)",
      "Cell \u001B[1;32mIn[136], line 1\u001B[0m\n\u001B[1;32m----> 1\u001B[0m contingency_table_34 \u001B[38;5;241m=\u001B[39m \u001B[43mpd\u001B[49m\u001B[38;5;241m.\u001B[39mcrosstab(index\u001B[38;5;241m=\u001B[39mSENSE_PA[\u001B[38;5;124m'\u001B[39m\u001B[38;5;124mCanadenca sumatoris comparats\u001B[39m\u001B[38;5;124m'\u001B[39m]\u001B[38;5;241m.\u001B[39mbetween(\u001B[38;5;241m5\u001B[39m,\u001B[38;5;241m10\u001B[39m), columns\u001B[38;5;241m=\u001B[39mTOTAL[\u001B[38;5;124m'\u001B[39m\u001B[38;5;124mCanadenca sumatoris comparats\u001B[39m\u001B[38;5;124m'\u001B[39m]\u001B[38;5;241m.\u001B[39mbetween(\u001B[38;5;241m5\u001B[39m,\u001B[38;5;241m10\u001B[39m))\n\u001B[0;32m      3\u001B[0m chi2_34, p_value_34, dof_34, expected_34 \u001B[38;5;241m=\u001B[39m chi2_contingency(contingency_table_34)\n\u001B[0;32m      5\u001B[0m \u001B[38;5;28mprint\u001B[39m(\u001B[38;5;124m\"\u001B[39m\u001B[38;5;124mEstadístic xi-quadrat entre SENSE_PA i TOTAL:\u001B[39m\u001B[38;5;124m\"\u001B[39m, chi2_34)\n",
      "\u001B[1;31mNameError\u001B[0m: name 'pd' is not defined"
     ]
    }
   ],
   "execution_count": 136
  },
  {
   "cell_type": "markdown",
   "source": [
    "##### Dèficit neurològic greu (sever)"
   ],
   "metadata": {
    "collapsed": false
   },
   "id": "50d29d392b6143ea"
  },
  {
   "cell_type": "code",
   "source": [
    "contingency_table_12 = pd.crosstab(index=AMB_PA['Canadenca sumatoris comparats'].between(1.5, 4.5), columns=AMB_PA_MECVV['Canadenca sumatoris comparats'].between(1.5, 4.5))\n",
    "\n",
    "chi2_12, p_value_12, dof_12, expected_12 = chi2_contingency(contingency_table_12)\n",
    "\n",
    "print(\"Estadístic xi-quadrat entre AMB_PA i AMB_PA_MECVV:\", chi2_12)\n",
    "print(\"P-valor entre AMB_PA i AMB_PA_MECVV:\", p_value_12)\n",
    "\n",
    "if p_value_12 < 0.05:\n",
    "   print(\"Hi ha diferències significatives entre les distribucions de canadenca en AMB_PA i AMB_PA_MECVV.\")\n",
    "else:\n",
    "   print(\"No hi ha diferències significatives entre les distribucions de canadenca en AMB_PA i AMB_PA_MECVV.\")"
   ],
   "metadata": {
    "collapsed": false,
    "ExecuteTime": {
     "end_time": "2024-05-29T13:03:58.554091Z",
     "start_time": "2024-05-29T13:03:58.526868Z"
    }
   },
   "id": "e6824b26b3522d5d",
   "outputs": [
    {
     "ename": "NameError",
     "evalue": "name 'pd' is not defined",
     "output_type": "error",
     "traceback": [
      "\u001B[1;31m---------------------------------------------------------------------------\u001B[0m",
      "\u001B[1;31mNameError\u001B[0m                                 Traceback (most recent call last)",
      "Cell \u001B[1;32mIn[137], line 1\u001B[0m\n\u001B[1;32m----> 1\u001B[0m contingency_table_12 \u001B[38;5;241m=\u001B[39m \u001B[43mpd\u001B[49m\u001B[38;5;241m.\u001B[39mcrosstab(index\u001B[38;5;241m=\u001B[39mAMB_PA[\u001B[38;5;124m'\u001B[39m\u001B[38;5;124mCanadenca sumatoris comparats\u001B[39m\u001B[38;5;124m'\u001B[39m]\u001B[38;5;241m.\u001B[39mbetween(\u001B[38;5;241m1.5\u001B[39m, \u001B[38;5;241m4.5\u001B[39m), columns\u001B[38;5;241m=\u001B[39mAMB_PA_MECVV[\u001B[38;5;124m'\u001B[39m\u001B[38;5;124mCanadenca sumatoris comparats\u001B[39m\u001B[38;5;124m'\u001B[39m]\u001B[38;5;241m.\u001B[39mbetween(\u001B[38;5;241m1.5\u001B[39m, \u001B[38;5;241m4.5\u001B[39m))\n\u001B[0;32m      3\u001B[0m chi2_12, p_value_12, dof_12, expected_12 \u001B[38;5;241m=\u001B[39m chi2_contingency(contingency_table_12)\n\u001B[0;32m      5\u001B[0m \u001B[38;5;28mprint\u001B[39m(\u001B[38;5;124m\"\u001B[39m\u001B[38;5;124mEstadístic xi-quadrat entre AMB_PA i AMB_PA_MECVV:\u001B[39m\u001B[38;5;124m\"\u001B[39m, chi2_12)\n",
      "\u001B[1;31mNameError\u001B[0m: name 'pd' is not defined"
     ]
    }
   ],
   "execution_count": 137
  },
  {
   "cell_type": "code",
   "source": [
    "contingency_table_13 = pd.crosstab(index=AMB_PA['Canadenca sumatoris comparats'].between(1.5, 4.5), columns=SENSE_PA['Canadenca sumatoris comparats'].between(1.5, 4.5))\n",
    "\n",
    "chi2_13, p_value_13, dof_13, expected_13 = chi2_contingency(contingency_table_13)\n",
    "\n",
    "print(\"Estadístic xi-quadrat entre AMB_PA i SENSE_PA:\", chi2_13)\n",
    "print(\"P-valor entre AMB_PA i SENSE_PA:\", p_value_13)\n",
    "\n",
    "if p_value_13 < 0.05:\n",
    "   print(\"Hi ha diferències significatives entre les distribucions de canadenca en AMB_PA i SENSE_PA.\")\n",
    "else:\n",
    "   print(\"No hi ha diferències significatives entre les distribucions de canadenca en AMB_PA i SENSE_PA.\")"
   ],
   "metadata": {
    "collapsed": false,
    "ExecuteTime": {
     "end_time": "2024-05-29T13:03:59.589665Z",
     "start_time": "2024-05-29T13:03:59.567726Z"
    }
   },
   "id": "1cc0eeef922f3020",
   "outputs": [
    {
     "ename": "NameError",
     "evalue": "name 'pd' is not defined",
     "output_type": "error",
     "traceback": [
      "\u001B[1;31m---------------------------------------------------------------------------\u001B[0m",
      "\u001B[1;31mNameError\u001B[0m                                 Traceback (most recent call last)",
      "Cell \u001B[1;32mIn[138], line 1\u001B[0m\n\u001B[1;32m----> 1\u001B[0m contingency_table_13 \u001B[38;5;241m=\u001B[39m \u001B[43mpd\u001B[49m\u001B[38;5;241m.\u001B[39mcrosstab(index\u001B[38;5;241m=\u001B[39mAMB_PA[\u001B[38;5;124m'\u001B[39m\u001B[38;5;124mCanadenca sumatoris comparats\u001B[39m\u001B[38;5;124m'\u001B[39m]\u001B[38;5;241m.\u001B[39mbetween(\u001B[38;5;241m1.5\u001B[39m, \u001B[38;5;241m4.5\u001B[39m), columns\u001B[38;5;241m=\u001B[39mSENSE_PA[\u001B[38;5;124m'\u001B[39m\u001B[38;5;124mCanadenca sumatoris comparats\u001B[39m\u001B[38;5;124m'\u001B[39m]\u001B[38;5;241m.\u001B[39mbetween(\u001B[38;5;241m1.5\u001B[39m, \u001B[38;5;241m4.5\u001B[39m))\n\u001B[0;32m      3\u001B[0m chi2_13, p_value_13, dof_13, expected_13 \u001B[38;5;241m=\u001B[39m chi2_contingency(contingency_table_13)\n\u001B[0;32m      5\u001B[0m \u001B[38;5;28mprint\u001B[39m(\u001B[38;5;124m\"\u001B[39m\u001B[38;5;124mEstadístic xi-quadrat entre AMB_PA i SENSE_PA:\u001B[39m\u001B[38;5;124m\"\u001B[39m, chi2_13)\n",
      "\u001B[1;31mNameError\u001B[0m: name 'pd' is not defined"
     ]
    }
   ],
   "execution_count": 138
  },
  {
   "cell_type": "code",
   "source": [
    "contingency_table_23 = pd.crosstab(index=AMB_PA_MECVV['Canadenca sumatoris comparats'].between(1.5, 4.5), columns=SENSE_PA['Canadenca sumatoris comparats'].between(1.5, 4.5))\n",
    "\n",
    "chi2_23, p_value_23, dof_23, expected_23 = chi2_contingency(contingency_table_23)\n",
    "\n",
    "print(\"Estadístic xi-quadrat entre AMB_PA_MECVV i SENSE_PA:\", chi2_23)\n",
    "print(\"P-valor entre AMB_PA_MECVV i SENSE_PA:\", p_value_23)\n",
    "\n",
    "if p_value_23 < 0.05:\n",
    "   print(\"Hi ha diferències significatives entre les distribucions de canadenca en AMB_PA_MECVV i SENSE_PA.\")\n",
    "else:\n",
    "   print(\"No hi ha diferències significatives entre les distribucions de canadenca en AMB_PA_MECVV i SENSE_PA.\")"
   ],
   "metadata": {
    "collapsed": false,
    "ExecuteTime": {
     "end_time": "2024-05-29T13:04:00.618687Z",
     "start_time": "2024-05-29T13:04:00.566605Z"
    }
   },
   "id": "c6319c49b83e252",
   "outputs": [
    {
     "ename": "NameError",
     "evalue": "name 'pd' is not defined",
     "output_type": "error",
     "traceback": [
      "\u001B[1;31m---------------------------------------------------------------------------\u001B[0m",
      "\u001B[1;31mNameError\u001B[0m                                 Traceback (most recent call last)",
      "Cell \u001B[1;32mIn[139], line 1\u001B[0m\n\u001B[1;32m----> 1\u001B[0m contingency_table_23 \u001B[38;5;241m=\u001B[39m \u001B[43mpd\u001B[49m\u001B[38;5;241m.\u001B[39mcrosstab(index\u001B[38;5;241m=\u001B[39mAMB_PA_MECVV[\u001B[38;5;124m'\u001B[39m\u001B[38;5;124mCanadenca sumatoris comparats\u001B[39m\u001B[38;5;124m'\u001B[39m]\u001B[38;5;241m.\u001B[39mbetween(\u001B[38;5;241m1.5\u001B[39m, \u001B[38;5;241m4.5\u001B[39m), columns\u001B[38;5;241m=\u001B[39mSENSE_PA[\u001B[38;5;124m'\u001B[39m\u001B[38;5;124mCanadenca sumatoris comparats\u001B[39m\u001B[38;5;124m'\u001B[39m]\u001B[38;5;241m.\u001B[39mbetween(\u001B[38;5;241m1.5\u001B[39m, \u001B[38;5;241m4.5\u001B[39m))\n\u001B[0;32m      3\u001B[0m chi2_23, p_value_23, dof_23, expected_23 \u001B[38;5;241m=\u001B[39m chi2_contingency(contingency_table_23)\n\u001B[0;32m      5\u001B[0m \u001B[38;5;28mprint\u001B[39m(\u001B[38;5;124m\"\u001B[39m\u001B[38;5;124mEstadístic xi-quadrat entre AMB_PA_MECVV i SENSE_PA:\u001B[39m\u001B[38;5;124m\"\u001B[39m, chi2_23)\n",
      "\u001B[1;31mNameError\u001B[0m: name 'pd' is not defined"
     ]
    }
   ],
   "execution_count": 139
  },
  {
   "cell_type": "code",
   "source": [
    "contingency_table_14 = pd.crosstab(index=AMB_PA['Canadenca sumatoris comparats'].between(1.5, 4.5), columns=TOTAL['Canadenca sumatoris comparats'].between(1.5, 4.5))\n",
    "\n",
    "chi2_14, p_value_14, dof_14, expected_14 = chi2_contingency(contingency_table_14)\n",
    "\n",
    "print(\"Estadístic xi-quadrat entre AMB_PA i TOTAL:\", chi2_14)\n",
    "print(\"P-valor entre AMB_PA i TOTAL:\", p_value_14)\n",
    "\n",
    "if p_value_14 < 0.05:\n",
    "    print(\"Hi ha diferències significatives entre les distribucions de canadenca en AMB_PA i TOTAL.\")\n",
    "else:\n",
    "    print(\"No hi ha diferències significatives entre les distribucions de canadenca en AMB_PA i TOTAL.\")"
   ],
   "metadata": {
    "collapsed": false,
    "ExecuteTime": {
     "end_time": "2024-05-29T13:04:01.460069Z",
     "start_time": "2024-05-29T13:04:01.436631Z"
    }
   },
   "id": "48423181b8dfdf58",
   "outputs": [
    {
     "ename": "NameError",
     "evalue": "name 'pd' is not defined",
     "output_type": "error",
     "traceback": [
      "\u001B[1;31m---------------------------------------------------------------------------\u001B[0m",
      "\u001B[1;31mNameError\u001B[0m                                 Traceback (most recent call last)",
      "Cell \u001B[1;32mIn[140], line 1\u001B[0m\n\u001B[1;32m----> 1\u001B[0m contingency_table_14 \u001B[38;5;241m=\u001B[39m \u001B[43mpd\u001B[49m\u001B[38;5;241m.\u001B[39mcrosstab(index\u001B[38;5;241m=\u001B[39mAMB_PA[\u001B[38;5;124m'\u001B[39m\u001B[38;5;124mCanadenca sumatoris comparats\u001B[39m\u001B[38;5;124m'\u001B[39m]\u001B[38;5;241m.\u001B[39mbetween(\u001B[38;5;241m1.5\u001B[39m, \u001B[38;5;241m4.5\u001B[39m), columns\u001B[38;5;241m=\u001B[39mTOTAL[\u001B[38;5;124m'\u001B[39m\u001B[38;5;124mCanadenca sumatoris comparats\u001B[39m\u001B[38;5;124m'\u001B[39m]\u001B[38;5;241m.\u001B[39mbetween(\u001B[38;5;241m1.5\u001B[39m, \u001B[38;5;241m4.5\u001B[39m))\n\u001B[0;32m      3\u001B[0m chi2_14, p_value_14, dof_14, expected_14 \u001B[38;5;241m=\u001B[39m chi2_contingency(contingency_table_14)\n\u001B[0;32m      5\u001B[0m \u001B[38;5;28mprint\u001B[39m(\u001B[38;5;124m\"\u001B[39m\u001B[38;5;124mEstadístic xi-quadrat entre AMB_PA i TOTAL:\u001B[39m\u001B[38;5;124m\"\u001B[39m, chi2_14)\n",
      "\u001B[1;31mNameError\u001B[0m: name 'pd' is not defined"
     ]
    }
   ],
   "execution_count": 140
  },
  {
   "cell_type": "code",
   "source": [
    "contingency_table_24 = pd.crosstab(index=AMB_PA_MECVV['Canadenca sumatoris comparats'].between(1.5, 4.5), columns=TOTAL['Canadenca sumatoris comparats'].between(1.5, 4.5))\n",
    "\n",
    "chi2_24, p_value_24, dof_24, expected_24 = chi2_contingency(contingency_table_24)\n",
    "\n",
    "print(\"Estadístic xi-quadrat entre AMB_PA_MECVV i TOTAL:\", chi2_24)\n",
    "print(\"P-valor entre AMB_PA_MECVV i TOTAL:\", p_value_24)\n",
    "\n",
    "if p_value_24 < 0.05:\n",
    "    print(\"Hi ha diferències significatives entre les distribucions de canadenca en AMB_PA_MECVV i TOTAL.\")\n",
    "else:\n",
    "    print(\"No hi ha diferències significatives entre les distribucions de canadenca en AMB_PA_MECVV i TOTAL.\")"
   ],
   "metadata": {
    "collapsed": false,
    "ExecuteTime": {
     "end_time": "2024-05-29T13:04:02.151932Z",
     "start_time": "2024-05-29T13:04:02.126479Z"
    }
   },
   "id": "4d4147c117e18a43",
   "outputs": [
    {
     "ename": "NameError",
     "evalue": "name 'pd' is not defined",
     "output_type": "error",
     "traceback": [
      "\u001B[1;31m---------------------------------------------------------------------------\u001B[0m",
      "\u001B[1;31mNameError\u001B[0m                                 Traceback (most recent call last)",
      "Cell \u001B[1;32mIn[141], line 1\u001B[0m\n\u001B[1;32m----> 1\u001B[0m contingency_table_24 \u001B[38;5;241m=\u001B[39m \u001B[43mpd\u001B[49m\u001B[38;5;241m.\u001B[39mcrosstab(index\u001B[38;5;241m=\u001B[39mAMB_PA_MECVV[\u001B[38;5;124m'\u001B[39m\u001B[38;5;124mCanadenca sumatoris comparats\u001B[39m\u001B[38;5;124m'\u001B[39m]\u001B[38;5;241m.\u001B[39mbetween(\u001B[38;5;241m1.5\u001B[39m, \u001B[38;5;241m4.5\u001B[39m), columns\u001B[38;5;241m=\u001B[39mTOTAL[\u001B[38;5;124m'\u001B[39m\u001B[38;5;124mCanadenca sumatoris comparats\u001B[39m\u001B[38;5;124m'\u001B[39m]\u001B[38;5;241m.\u001B[39mbetween(\u001B[38;5;241m1.5\u001B[39m, \u001B[38;5;241m4.5\u001B[39m))\n\u001B[0;32m      3\u001B[0m chi2_24, p_value_24, dof_24, expected_24 \u001B[38;5;241m=\u001B[39m chi2_contingency(contingency_table_24)\n\u001B[0;32m      5\u001B[0m \u001B[38;5;28mprint\u001B[39m(\u001B[38;5;124m\"\u001B[39m\u001B[38;5;124mEstadístic xi-quadrat entre AMB_PA_MECVV i TOTAL:\u001B[39m\u001B[38;5;124m\"\u001B[39m, chi2_24)\n",
      "\u001B[1;31mNameError\u001B[0m: name 'pd' is not defined"
     ]
    }
   ],
   "execution_count": 141
  },
  {
   "cell_type": "code",
   "source": [
    "contingency_table_34 = pd.crosstab(index=SENSE_PA['Canadenca sumatoris comparats'].between(1.5, 4.5), columns=TOTAL['Canadenca sumatoris comparats'].between(1.5, 4.5))\n",
    "\n",
    "chi2_34, p_value_34, dof_34, expected_34 = chi2_contingency(contingency_table_34)\n",
    "\n",
    "print(\"Estadístic xi-quadrat entre SENSE_PA i TOTAL:\", chi2_34)\n",
    "print(\"P-valor entre SENSE_PA i TOTAL:\", p_value_34)\n",
    "\n",
    "if p_value_34 < 0.05:\n",
    "    print(\"Hi ha diferències significatives entre les distribucions de canadenca en SENSE_PA i TOTAL.\")\n",
    "else:\n",
    "    print(\"No hi ha diferències significatives entre les distribucions de canadenca en SENSE_PA i TOTAL.\")"
   ],
   "metadata": {
    "collapsed": false,
    "ExecuteTime": {
     "end_time": "2024-05-29T13:04:03.112780Z",
     "start_time": "2024-05-29T13:04:03.088120Z"
    }
   },
   "id": "875638875609985b",
   "outputs": [
    {
     "ename": "NameError",
     "evalue": "name 'pd' is not defined",
     "output_type": "error",
     "traceback": [
      "\u001B[1;31m---------------------------------------------------------------------------\u001B[0m",
      "\u001B[1;31mNameError\u001B[0m                                 Traceback (most recent call last)",
      "Cell \u001B[1;32mIn[142], line 1\u001B[0m\n\u001B[1;32m----> 1\u001B[0m contingency_table_34 \u001B[38;5;241m=\u001B[39m \u001B[43mpd\u001B[49m\u001B[38;5;241m.\u001B[39mcrosstab(index\u001B[38;5;241m=\u001B[39mSENSE_PA[\u001B[38;5;124m'\u001B[39m\u001B[38;5;124mCanadenca sumatoris comparats\u001B[39m\u001B[38;5;124m'\u001B[39m]\u001B[38;5;241m.\u001B[39mbetween(\u001B[38;5;241m1.5\u001B[39m, \u001B[38;5;241m4.5\u001B[39m), columns\u001B[38;5;241m=\u001B[39mTOTAL[\u001B[38;5;124m'\u001B[39m\u001B[38;5;124mCanadenca sumatoris comparats\u001B[39m\u001B[38;5;124m'\u001B[39m]\u001B[38;5;241m.\u001B[39mbetween(\u001B[38;5;241m1.5\u001B[39m, \u001B[38;5;241m4.5\u001B[39m))\n\u001B[0;32m      3\u001B[0m chi2_34, p_value_34, dof_34, expected_34 \u001B[38;5;241m=\u001B[39m chi2_contingency(contingency_table_34)\n\u001B[0;32m      5\u001B[0m \u001B[38;5;28mprint\u001B[39m(\u001B[38;5;124m\"\u001B[39m\u001B[38;5;124mEstadístic xi-quadrat entre SENSE_PA i TOTAL:\u001B[39m\u001B[38;5;124m\"\u001B[39m, chi2_34)\n",
      "\u001B[1;31mNameError\u001B[0m: name 'pd' is not defined"
     ]
    }
   ],
   "execution_count": 142
  },
  {
   "cell_type": "markdown",
   "source": [
    "## Infeccions respiratòries"
   ],
   "metadata": {
    "collapsed": false
   },
   "id": "42caba385c942c42"
  },
  {
   "cell_type": "markdown",
   "source": [
    "##### AMB_PA "
   ],
   "metadata": {
    "collapsed": false
   },
   "id": "1dbd63835e0c551d"
  },
  {
   "cell_type": "code",
   "source": [
    "mainresp_AMB_PA= (AMB_PA['Infeccions respiratòries principals diagnosticades'] == 1.0).mean() * 100\n",
    "print(f\"Percentatge de infeccions respiratòries principals : {mainresp_AMB_PA:.2f}%\")"
   ],
   "metadata": {
    "collapsed": false,
    "ExecuteTime": {
     "end_time": "2024-05-29T13:04:03.960029Z",
     "start_time": "2024-05-29T13:04:03.939885Z"
    }
   },
   "id": "d60b2f748bf07e12",
   "outputs": [
    {
     "ename": "NameError",
     "evalue": "name 'AMB_PA' is not defined",
     "output_type": "error",
     "traceback": [
      "\u001B[1;31m---------------------------------------------------------------------------\u001B[0m",
      "\u001B[1;31mNameError\u001B[0m                                 Traceback (most recent call last)",
      "Cell \u001B[1;32mIn[143], line 1\u001B[0m\n\u001B[1;32m----> 1\u001B[0m mainresp_AMB_PA\u001B[38;5;241m=\u001B[39m (\u001B[43mAMB_PA\u001B[49m[\u001B[38;5;124m'\u001B[39m\u001B[38;5;124mInfeccions respiratòries principals diagnosticades\u001B[39m\u001B[38;5;124m'\u001B[39m] \u001B[38;5;241m==\u001B[39m \u001B[38;5;241m1.0\u001B[39m)\u001B[38;5;241m.\u001B[39mmean() \u001B[38;5;241m*\u001B[39m \u001B[38;5;241m100\u001B[39m\n\u001B[0;32m      2\u001B[0m \u001B[38;5;28mprint\u001B[39m(\u001B[38;5;124mf\u001B[39m\u001B[38;5;124m\"\u001B[39m\u001B[38;5;124mPercentatge de infeccions respiratòries principals : \u001B[39m\u001B[38;5;132;01m{\u001B[39;00mmainresp_AMB_PA\u001B[38;5;132;01m:\u001B[39;00m\u001B[38;5;124m.2f\u001B[39m\u001B[38;5;132;01m}\u001B[39;00m\u001B[38;5;124m%\u001B[39m\u001B[38;5;124m\"\u001B[39m)\n",
      "\u001B[1;31mNameError\u001B[0m: name 'AMB_PA' is not defined"
     ]
    }
   ],
   "execution_count": 143
  },
  {
   "cell_type": "code",
   "source": [
    "LRTI_AMB_PA= (AMB_PA['LRTI diagnosticada'] == 1.0).mean() * 100\n",
    "print(f\"Percentatge de LRTI: {LRTI_AMB_PA:.2f}%\")"
   ],
   "metadata": {
    "collapsed": false,
    "ExecuteTime": {
     "end_time": "2024-05-29T13:04:05.003734Z",
     "start_time": "2024-05-29T13:04:04.981525Z"
    }
   },
   "id": "310bf9b55e2d977d",
   "outputs": [
    {
     "ename": "NameError",
     "evalue": "name 'AMB_PA' is not defined",
     "output_type": "error",
     "traceback": [
      "\u001B[1;31m---------------------------------------------------------------------------\u001B[0m",
      "\u001B[1;31mNameError\u001B[0m                                 Traceback (most recent call last)",
      "Cell \u001B[1;32mIn[144], line 1\u001B[0m\n\u001B[1;32m----> 1\u001B[0m LRTI_AMB_PA\u001B[38;5;241m=\u001B[39m (\u001B[43mAMB_PA\u001B[49m[\u001B[38;5;124m'\u001B[39m\u001B[38;5;124mLRTI diagnosticada\u001B[39m\u001B[38;5;124m'\u001B[39m] \u001B[38;5;241m==\u001B[39m \u001B[38;5;241m1.0\u001B[39m)\u001B[38;5;241m.\u001B[39mmean() \u001B[38;5;241m*\u001B[39m \u001B[38;5;241m100\u001B[39m\n\u001B[0;32m      2\u001B[0m \u001B[38;5;28mprint\u001B[39m(\u001B[38;5;124mf\u001B[39m\u001B[38;5;124m\"\u001B[39m\u001B[38;5;124mPercentatge de LRTI: \u001B[39m\u001B[38;5;132;01m{\u001B[39;00mLRTI_AMB_PA\u001B[38;5;132;01m:\u001B[39;00m\u001B[38;5;124m.2f\u001B[39m\u001B[38;5;132;01m}\u001B[39;00m\u001B[38;5;124m%\u001B[39m\u001B[38;5;124m\"\u001B[39m)\n",
      "\u001B[1;31mNameError\u001B[0m: name 'AMB_PA' is not defined"
     ]
    }
   ],
   "execution_count": 144
  },
  {
   "cell_type": "code",
   "source": [
    "COPD_AMB_PA= (AMB_PA['Exacerbacions de COPD diagnosticades'] == 1.0).mean() * 100\n",
    "print(f\"Percentatge de exacerbacions de COPD: {COPD_AMB_PA:.2f}%\")"
   ],
   "metadata": {
    "collapsed": false,
    "ExecuteTime": {
     "end_time": "2024-05-29T13:04:06.385999Z",
     "start_time": "2024-05-29T13:04:06.362032Z"
    }
   },
   "id": "6ef89cea6f5484e0",
   "outputs": [
    {
     "ename": "NameError",
     "evalue": "name 'AMB_PA' is not defined",
     "output_type": "error",
     "traceback": [
      "\u001B[1;31m---------------------------------------------------------------------------\u001B[0m",
      "\u001B[1;31mNameError\u001B[0m                                 Traceback (most recent call last)",
      "Cell \u001B[1;32mIn[145], line 1\u001B[0m\n\u001B[1;32m----> 1\u001B[0m COPD_AMB_PA\u001B[38;5;241m=\u001B[39m (\u001B[43mAMB_PA\u001B[49m[\u001B[38;5;124m'\u001B[39m\u001B[38;5;124mExacerbacions de COPD diagnosticades\u001B[39m\u001B[38;5;124m'\u001B[39m] \u001B[38;5;241m==\u001B[39m \u001B[38;5;241m1.0\u001B[39m)\u001B[38;5;241m.\u001B[39mmean() \u001B[38;5;241m*\u001B[39m \u001B[38;5;241m100\u001B[39m\n\u001B[0;32m      2\u001B[0m \u001B[38;5;28mprint\u001B[39m(\u001B[38;5;124mf\u001B[39m\u001B[38;5;124m\"\u001B[39m\u001B[38;5;124mPercentatge de exacerbacions de COPD: \u001B[39m\u001B[38;5;132;01m{\u001B[39;00mCOPD_AMB_PA\u001B[38;5;132;01m:\u001B[39;00m\u001B[38;5;124m.2f\u001B[39m\u001B[38;5;132;01m}\u001B[39;00m\u001B[38;5;124m%\u001B[39m\u001B[38;5;124m\"\u001B[39m)\n",
      "\u001B[1;31mNameError\u001B[0m: name 'AMB_PA' is not defined"
     ]
    }
   ],
   "execution_count": 145
  },
  {
   "cell_type": "code",
   "source": [
    "fibro_AMB_PA= (AMB_PA['Fibrosi pulmonar i fibrotòrax diagnosticades'] == 1.0).mean() * 100\n",
    "print(f\"Percentatge de fibrosi pulmonar i fibrotòrax: {fibro_AMB_PA:.2f}%\")"
   ],
   "metadata": {
    "collapsed": false,
    "ExecuteTime": {
     "end_time": "2024-05-29T13:04:07.201315Z",
     "start_time": "2024-05-29T13:04:07.177581Z"
    }
   },
   "id": "be5f6beaf530860a",
   "outputs": [
    {
     "ename": "NameError",
     "evalue": "name 'AMB_PA' is not defined",
     "output_type": "error",
     "traceback": [
      "\u001B[1;31m---------------------------------------------------------------------------\u001B[0m",
      "\u001B[1;31mNameError\u001B[0m                                 Traceback (most recent call last)",
      "Cell \u001B[1;32mIn[146], line 1\u001B[0m\n\u001B[1;32m----> 1\u001B[0m fibro_AMB_PA\u001B[38;5;241m=\u001B[39m (\u001B[43mAMB_PA\u001B[49m[\u001B[38;5;124m'\u001B[39m\u001B[38;5;124mFibrosi pulmonar i fibrotòrax diagnosticades\u001B[39m\u001B[38;5;124m'\u001B[39m] \u001B[38;5;241m==\u001B[39m \u001B[38;5;241m1.0\u001B[39m)\u001B[38;5;241m.\u001B[39mmean() \u001B[38;5;241m*\u001B[39m \u001B[38;5;241m100\u001B[39m\n\u001B[0;32m      2\u001B[0m \u001B[38;5;28mprint\u001B[39m(\u001B[38;5;124mf\u001B[39m\u001B[38;5;124m\"\u001B[39m\u001B[38;5;124mPercentatge de fibrosi pulmonar i fibrotòrax: \u001B[39m\u001B[38;5;132;01m{\u001B[39;00mfibro_AMB_PA\u001B[38;5;132;01m:\u001B[39;00m\u001B[38;5;124m.2f\u001B[39m\u001B[38;5;132;01m}\u001B[39;00m\u001B[38;5;124m%\u001B[39m\u001B[38;5;124m\"\u001B[39m)\n",
      "\u001B[1;31mNameError\u001B[0m: name 'AMB_PA' is not defined"
     ]
    }
   ],
   "execution_count": 146
  },
  {
   "cell_type": "markdown",
   "source": [
    "##### AMB_PA_MECVV"
   ],
   "metadata": {
    "collapsed": false
   },
   "id": "7aa7d3c52cd10e17"
  },
  {
   "cell_type": "code",
   "source": [
    "mainresp_AMB_PA_MECVV= (AMB_PA_MECVV['Infeccions respiratòries principals diagnosticades'] == 1.0).mean() * 100\n",
    "print(f\"Percentatge de infeccions respiratòries principals : {mainresp_AMB_PA_MECVV:.2f}%\")"
   ],
   "metadata": {
    "collapsed": false,
    "ExecuteTime": {
     "end_time": "2024-05-29T13:04:08.295004Z",
     "start_time": "2024-05-29T13:04:08.273316Z"
    }
   },
   "id": "efc8c54dde8b9163",
   "outputs": [
    {
     "ename": "NameError",
     "evalue": "name 'AMB_PA_MECVV' is not defined",
     "output_type": "error",
     "traceback": [
      "\u001B[1;31m---------------------------------------------------------------------------\u001B[0m",
      "\u001B[1;31mNameError\u001B[0m                                 Traceback (most recent call last)",
      "Cell \u001B[1;32mIn[147], line 1\u001B[0m\n\u001B[1;32m----> 1\u001B[0m mainresp_AMB_PA_MECVV\u001B[38;5;241m=\u001B[39m (\u001B[43mAMB_PA_MECVV\u001B[49m[\u001B[38;5;124m'\u001B[39m\u001B[38;5;124mInfeccions respiratòries principals diagnosticades\u001B[39m\u001B[38;5;124m'\u001B[39m] \u001B[38;5;241m==\u001B[39m \u001B[38;5;241m1.0\u001B[39m)\u001B[38;5;241m.\u001B[39mmean() \u001B[38;5;241m*\u001B[39m \u001B[38;5;241m100\u001B[39m\n\u001B[0;32m      2\u001B[0m \u001B[38;5;28mprint\u001B[39m(\u001B[38;5;124mf\u001B[39m\u001B[38;5;124m\"\u001B[39m\u001B[38;5;124mPercentatge de infeccions respiratòries principals : \u001B[39m\u001B[38;5;132;01m{\u001B[39;00mmainresp_AMB_PA_MECVV\u001B[38;5;132;01m:\u001B[39;00m\u001B[38;5;124m.2f\u001B[39m\u001B[38;5;132;01m}\u001B[39;00m\u001B[38;5;124m%\u001B[39m\u001B[38;5;124m\"\u001B[39m)\n",
      "\u001B[1;31mNameError\u001B[0m: name 'AMB_PA_MECVV' is not defined"
     ]
    }
   ],
   "execution_count": 147
  },
  {
   "cell_type": "code",
   "source": [
    "LRTI_AMB_PA_MECVV= (AMB_PA_MECVV['LRTI diagnosticada'] == 1.0).mean() * 100\n",
    "print(f\"Percentatge de LRTI: {LRTI_AMB_PA_MECVV:.2f}%\")"
   ],
   "metadata": {
    "collapsed": false,
    "ExecuteTime": {
     "end_time": "2024-05-29T13:04:09.256424Z",
     "start_time": "2024-05-29T13:04:09.236108Z"
    }
   },
   "id": "4623171d6ff10290",
   "outputs": [
    {
     "ename": "NameError",
     "evalue": "name 'AMB_PA_MECVV' is not defined",
     "output_type": "error",
     "traceback": [
      "\u001B[1;31m---------------------------------------------------------------------------\u001B[0m",
      "\u001B[1;31mNameError\u001B[0m                                 Traceback (most recent call last)",
      "Cell \u001B[1;32mIn[148], line 1\u001B[0m\n\u001B[1;32m----> 1\u001B[0m LRTI_AMB_PA_MECVV\u001B[38;5;241m=\u001B[39m (\u001B[43mAMB_PA_MECVV\u001B[49m[\u001B[38;5;124m'\u001B[39m\u001B[38;5;124mLRTI diagnosticada\u001B[39m\u001B[38;5;124m'\u001B[39m] \u001B[38;5;241m==\u001B[39m \u001B[38;5;241m1.0\u001B[39m)\u001B[38;5;241m.\u001B[39mmean() \u001B[38;5;241m*\u001B[39m \u001B[38;5;241m100\u001B[39m\n\u001B[0;32m      2\u001B[0m \u001B[38;5;28mprint\u001B[39m(\u001B[38;5;124mf\u001B[39m\u001B[38;5;124m\"\u001B[39m\u001B[38;5;124mPercentatge de LRTI: \u001B[39m\u001B[38;5;132;01m{\u001B[39;00mLRTI_AMB_PA_MECVV\u001B[38;5;132;01m:\u001B[39;00m\u001B[38;5;124m.2f\u001B[39m\u001B[38;5;132;01m}\u001B[39;00m\u001B[38;5;124m%\u001B[39m\u001B[38;5;124m\"\u001B[39m)\n",
      "\u001B[1;31mNameError\u001B[0m: name 'AMB_PA_MECVV' is not defined"
     ]
    }
   ],
   "execution_count": 148
  },
  {
   "cell_type": "code",
   "source": [
    "COPD_AMB_PA_MECVV = (AMB_PA_MECVV['Exacerbacions de COPD diagnosticades'] == 1.0).mean() * 100\n",
    "print(f\"Percentatge de exacerbacions de COPD: {COPD_AMB_PA_MECVV:.2f}%\")"
   ],
   "metadata": {
    "collapsed": false,
    "ExecuteTime": {
     "end_time": "2024-05-29T13:04:09.964707Z",
     "start_time": "2024-05-29T13:04:09.934597Z"
    }
   },
   "id": "cfe91528cbec146f",
   "outputs": [
    {
     "ename": "NameError",
     "evalue": "name 'AMB_PA_MECVV' is not defined",
     "output_type": "error",
     "traceback": [
      "\u001B[1;31m---------------------------------------------------------------------------\u001B[0m",
      "\u001B[1;31mNameError\u001B[0m                                 Traceback (most recent call last)",
      "Cell \u001B[1;32mIn[149], line 1\u001B[0m\n\u001B[1;32m----> 1\u001B[0m COPD_AMB_PA_MECVV \u001B[38;5;241m=\u001B[39m (\u001B[43mAMB_PA_MECVV\u001B[49m[\u001B[38;5;124m'\u001B[39m\u001B[38;5;124mExacerbacions de COPD diagnosticades\u001B[39m\u001B[38;5;124m'\u001B[39m] \u001B[38;5;241m==\u001B[39m \u001B[38;5;241m1.0\u001B[39m)\u001B[38;5;241m.\u001B[39mmean() \u001B[38;5;241m*\u001B[39m \u001B[38;5;241m100\u001B[39m\n\u001B[0;32m      2\u001B[0m \u001B[38;5;28mprint\u001B[39m(\u001B[38;5;124mf\u001B[39m\u001B[38;5;124m\"\u001B[39m\u001B[38;5;124mPercentatge de exacerbacions de COPD: \u001B[39m\u001B[38;5;132;01m{\u001B[39;00mCOPD_AMB_PA_MECVV\u001B[38;5;132;01m:\u001B[39;00m\u001B[38;5;124m.2f\u001B[39m\u001B[38;5;132;01m}\u001B[39;00m\u001B[38;5;124m%\u001B[39m\u001B[38;5;124m\"\u001B[39m)\n",
      "\u001B[1;31mNameError\u001B[0m: name 'AMB_PA_MECVV' is not defined"
     ]
    }
   ],
   "execution_count": 149
  },
  {
   "cell_type": "code",
   "source": [
    "fibro_AMB_PA_MECVV = (AMB_PA_MECVV['Fibrosi pulmonar i fibrotòrax diagnosticades'] == 1.0).mean() * 100\n",
    "print(f\"Percentatge de fibrosi pulmonar i fibrotòrax: {fibro_AMB_PA_MECVV:.2f}%\")"
   ],
   "metadata": {
    "collapsed": false,
    "ExecuteTime": {
     "end_time": "2024-05-29T13:04:10.987879Z",
     "start_time": "2024-05-29T13:04:10.965574Z"
    }
   },
   "id": "f973855b36d0a5b8",
   "outputs": [
    {
     "ename": "NameError",
     "evalue": "name 'AMB_PA_MECVV' is not defined",
     "output_type": "error",
     "traceback": [
      "\u001B[1;31m---------------------------------------------------------------------------\u001B[0m",
      "\u001B[1;31mNameError\u001B[0m                                 Traceback (most recent call last)",
      "Cell \u001B[1;32mIn[150], line 1\u001B[0m\n\u001B[1;32m----> 1\u001B[0m fibro_AMB_PA_MECVV \u001B[38;5;241m=\u001B[39m (\u001B[43mAMB_PA_MECVV\u001B[49m[\u001B[38;5;124m'\u001B[39m\u001B[38;5;124mFibrosi pulmonar i fibrotòrax diagnosticades\u001B[39m\u001B[38;5;124m'\u001B[39m] \u001B[38;5;241m==\u001B[39m \u001B[38;5;241m1.0\u001B[39m)\u001B[38;5;241m.\u001B[39mmean() \u001B[38;5;241m*\u001B[39m \u001B[38;5;241m100\u001B[39m\n\u001B[0;32m      2\u001B[0m \u001B[38;5;28mprint\u001B[39m(\u001B[38;5;124mf\u001B[39m\u001B[38;5;124m\"\u001B[39m\u001B[38;5;124mPercentatge de fibrosi pulmonar i fibrotòrax: \u001B[39m\u001B[38;5;132;01m{\u001B[39;00mfibro_AMB_PA_MECVV\u001B[38;5;132;01m:\u001B[39;00m\u001B[38;5;124m.2f\u001B[39m\u001B[38;5;132;01m}\u001B[39;00m\u001B[38;5;124m%\u001B[39m\u001B[38;5;124m\"\u001B[39m)\n",
      "\u001B[1;31mNameError\u001B[0m: name 'AMB_PA_MECVV' is not defined"
     ]
    }
   ],
   "execution_count": 150
  },
  {
   "cell_type": "markdown",
   "source": [
    "##### SENSE_PA"
   ],
   "metadata": {
    "collapsed": false
   },
   "id": "79994852f25a6ea"
  },
  {
   "cell_type": "code",
   "source": [
    "mainresp_SENSE_PA= (SENSE_PA['Infeccions respiratòries principals diagnosticades'] == 1.0).mean() * 100\n",
    "print(f\"Percentatge de infeccions respiratòries principals : {mainresp_SENSE_PA:.2f}%\")"
   ],
   "metadata": {
    "collapsed": false,
    "ExecuteTime": {
     "end_time": "2024-05-29T13:04:11.866742Z",
     "start_time": "2024-05-29T13:04:11.838671Z"
    }
   },
   "id": "9e5222a7e503863f",
   "outputs": [
    {
     "ename": "NameError",
     "evalue": "name 'SENSE_PA' is not defined",
     "output_type": "error",
     "traceback": [
      "\u001B[1;31m---------------------------------------------------------------------------\u001B[0m",
      "\u001B[1;31mNameError\u001B[0m                                 Traceback (most recent call last)",
      "Cell \u001B[1;32mIn[151], line 1\u001B[0m\n\u001B[1;32m----> 1\u001B[0m mainresp_SENSE_PA\u001B[38;5;241m=\u001B[39m (\u001B[43mSENSE_PA\u001B[49m[\u001B[38;5;124m'\u001B[39m\u001B[38;5;124mInfeccions respiratòries principals diagnosticades\u001B[39m\u001B[38;5;124m'\u001B[39m] \u001B[38;5;241m==\u001B[39m \u001B[38;5;241m1.0\u001B[39m)\u001B[38;5;241m.\u001B[39mmean() \u001B[38;5;241m*\u001B[39m \u001B[38;5;241m100\u001B[39m\n\u001B[0;32m      2\u001B[0m \u001B[38;5;28mprint\u001B[39m(\u001B[38;5;124mf\u001B[39m\u001B[38;5;124m\"\u001B[39m\u001B[38;5;124mPercentatge de infeccions respiratòries principals : \u001B[39m\u001B[38;5;132;01m{\u001B[39;00mmainresp_SENSE_PA\u001B[38;5;132;01m:\u001B[39;00m\u001B[38;5;124m.2f\u001B[39m\u001B[38;5;132;01m}\u001B[39;00m\u001B[38;5;124m%\u001B[39m\u001B[38;5;124m\"\u001B[39m)\n",
      "\u001B[1;31mNameError\u001B[0m: name 'SENSE_PA' is not defined"
     ]
    }
   ],
   "execution_count": 151
  },
  {
   "cell_type": "code",
   "source": [
    "LRTI_SENSE_PA= (SENSE_PA['LRTI diagnosticada'] == 1.0).mean() * 100\n",
    "print(f\"Percentatge de LRTI: {LRTI_SENSE_PA:.2f}%\")"
   ],
   "metadata": {
    "collapsed": false,
    "ExecuteTime": {
     "end_time": "2024-05-29T13:04:12.920074Z",
     "start_time": "2024-05-29T13:04:12.892196Z"
    }
   },
   "id": "e49d8eb5a0a8628f",
   "outputs": [
    {
     "ename": "NameError",
     "evalue": "name 'SENSE_PA' is not defined",
     "output_type": "error",
     "traceback": [
      "\u001B[1;31m---------------------------------------------------------------------------\u001B[0m",
      "\u001B[1;31mNameError\u001B[0m                                 Traceback (most recent call last)",
      "Cell \u001B[1;32mIn[152], line 1\u001B[0m\n\u001B[1;32m----> 1\u001B[0m LRTI_SENSE_PA\u001B[38;5;241m=\u001B[39m (\u001B[43mSENSE_PA\u001B[49m[\u001B[38;5;124m'\u001B[39m\u001B[38;5;124mLRTI diagnosticada\u001B[39m\u001B[38;5;124m'\u001B[39m] \u001B[38;5;241m==\u001B[39m \u001B[38;5;241m1.0\u001B[39m)\u001B[38;5;241m.\u001B[39mmean() \u001B[38;5;241m*\u001B[39m \u001B[38;5;241m100\u001B[39m\n\u001B[0;32m      2\u001B[0m \u001B[38;5;28mprint\u001B[39m(\u001B[38;5;124mf\u001B[39m\u001B[38;5;124m\"\u001B[39m\u001B[38;5;124mPercentatge de LRTI: \u001B[39m\u001B[38;5;132;01m{\u001B[39;00mLRTI_SENSE_PA\u001B[38;5;132;01m:\u001B[39;00m\u001B[38;5;124m.2f\u001B[39m\u001B[38;5;132;01m}\u001B[39;00m\u001B[38;5;124m%\u001B[39m\u001B[38;5;124m\"\u001B[39m)\n",
      "\u001B[1;31mNameError\u001B[0m: name 'SENSE_PA' is not defined"
     ]
    }
   ],
   "execution_count": 152
  },
  {
   "cell_type": "code",
   "source": [
    "COPD_SENSE_PA= (SENSE_PA['Exacerbacions de COPD diagnosticades'] == 1.0).mean() * 100\n",
    "print(f\"Percentatge de exacerbacions de COPD: {COPD_SENSE_PA:.2f}%\")"
   ],
   "metadata": {
    "collapsed": false,
    "ExecuteTime": {
     "end_time": "2024-05-29T13:04:13.984665Z",
     "start_time": "2024-05-29T13:04:13.959215Z"
    }
   },
   "id": "a6f3de0b5fc277bb",
   "outputs": [
    {
     "ename": "NameError",
     "evalue": "name 'SENSE_PA' is not defined",
     "output_type": "error",
     "traceback": [
      "\u001B[1;31m---------------------------------------------------------------------------\u001B[0m",
      "\u001B[1;31mNameError\u001B[0m                                 Traceback (most recent call last)",
      "Cell \u001B[1;32mIn[153], line 1\u001B[0m\n\u001B[1;32m----> 1\u001B[0m COPD_SENSE_PA\u001B[38;5;241m=\u001B[39m (\u001B[43mSENSE_PA\u001B[49m[\u001B[38;5;124m'\u001B[39m\u001B[38;5;124mExacerbacions de COPD diagnosticades\u001B[39m\u001B[38;5;124m'\u001B[39m] \u001B[38;5;241m==\u001B[39m \u001B[38;5;241m1.0\u001B[39m)\u001B[38;5;241m.\u001B[39mmean() \u001B[38;5;241m*\u001B[39m \u001B[38;5;241m100\u001B[39m\n\u001B[0;32m      2\u001B[0m \u001B[38;5;28mprint\u001B[39m(\u001B[38;5;124mf\u001B[39m\u001B[38;5;124m\"\u001B[39m\u001B[38;5;124mPercentatge de exacerbacions de COPD: \u001B[39m\u001B[38;5;132;01m{\u001B[39;00mCOPD_SENSE_PA\u001B[38;5;132;01m:\u001B[39;00m\u001B[38;5;124m.2f\u001B[39m\u001B[38;5;132;01m}\u001B[39;00m\u001B[38;5;124m%\u001B[39m\u001B[38;5;124m\"\u001B[39m)\n",
      "\u001B[1;31mNameError\u001B[0m: name 'SENSE_PA' is not defined"
     ]
    }
   ],
   "execution_count": 153
  },
  {
   "cell_type": "code",
   "source": [
    "fibro_SENSE_PA= (SENSE_PA['Fibrosi pulmonar i fibrotòrax diagnosticades'] == 1.0).mean() * 100\n",
    "print(f\"Percentatge de fibrosi pulmonar i fibrotòrax: {fibro_SENSE_PA:.2f}%\")"
   ],
   "metadata": {
    "collapsed": false,
    "ExecuteTime": {
     "end_time": "2024-05-29T13:04:14.604261Z",
     "start_time": "2024-05-29T13:04:14.583289Z"
    }
   },
   "id": "3cd6f897ba88c373",
   "outputs": [
    {
     "ename": "NameError",
     "evalue": "name 'SENSE_PA' is not defined",
     "output_type": "error",
     "traceback": [
      "\u001B[1;31m---------------------------------------------------------------------------\u001B[0m",
      "\u001B[1;31mNameError\u001B[0m                                 Traceback (most recent call last)",
      "Cell \u001B[1;32mIn[154], line 1\u001B[0m\n\u001B[1;32m----> 1\u001B[0m fibro_SENSE_PA\u001B[38;5;241m=\u001B[39m (\u001B[43mSENSE_PA\u001B[49m[\u001B[38;5;124m'\u001B[39m\u001B[38;5;124mFibrosi pulmonar i fibrotòrax diagnosticades\u001B[39m\u001B[38;5;124m'\u001B[39m] \u001B[38;5;241m==\u001B[39m \u001B[38;5;241m1.0\u001B[39m)\u001B[38;5;241m.\u001B[39mmean() \u001B[38;5;241m*\u001B[39m \u001B[38;5;241m100\u001B[39m\n\u001B[0;32m      2\u001B[0m \u001B[38;5;28mprint\u001B[39m(\u001B[38;5;124mf\u001B[39m\u001B[38;5;124m\"\u001B[39m\u001B[38;5;124mPercentatge de fibrosi pulmonar i fibrotòrax: \u001B[39m\u001B[38;5;132;01m{\u001B[39;00mfibro_SENSE_PA\u001B[38;5;132;01m:\u001B[39;00m\u001B[38;5;124m.2f\u001B[39m\u001B[38;5;132;01m}\u001B[39;00m\u001B[38;5;124m%\u001B[39m\u001B[38;5;124m\"\u001B[39m)\n",
      "\u001B[1;31mNameError\u001B[0m: name 'SENSE_PA' is not defined"
     ]
    }
   ],
   "execution_count": 154
  },
  {
   "cell_type": "markdown",
   "source": [
    "#### Comparació distributiva"
   ],
   "metadata": {
    "collapsed": false
   },
   "id": "d758e054f6ca1b41"
  },
  {
   "cell_type": "markdown",
   "source": [
    "##### Normalitat i p-valor"
   ],
   "metadata": {
    "collapsed": false
   },
   "id": "313287ff3feb8294"
  },
  {
   "cell_type": "markdown",
   "source": [
    "No cal calcular la normalitat ja que totes són variables categòriques"
   ],
   "metadata": {
    "collapsed": false
   },
   "id": "41ec4898085a9ae7"
  },
  {
   "cell_type": "markdown",
   "source": [
    "##### Infeccions respiratòries principals"
   ],
   "metadata": {
    "collapsed": false
   },
   "id": "dc48722b5362ae4a"
  },
  {
   "cell_type": "code",
   "source": [
    "contingency_table_12 = pd.crosstab(index=AMB_PA['Infeccions respiratòries principals diagnosticades'], columns=AMB_PA_MECVV['Infeccions respiratòries principals diagnosticades'])\n",
    "\n",
    "chi2_12, p_value_12, dof_12, expected_12 = chi2_contingency(contingency_table_12)\n",
    "\n",
    "print(\"Estadístic xi-quadrat entre AMB_PA i AMB_PA_MECVV:\", chi2_12)\n",
    "print(\"P-valor entre AMB_PA i AMB_PA_MECVV:\", p_value_12)\n",
    "\n",
    "if p_value_12 < 0.05:\n",
    "    print(\"Hi ha diferències significatives entre les distribucions d'infeccions respiratòries en AMB_PA i AMB_PA_MECVV.\")\n",
    "else:\n",
    "    print(\"No hi ha diferències significatives entre les distribucions d'infeccions respiratòries en AMB_PA i AMB_PA_MECVV.\")"
   ],
   "metadata": {
    "collapsed": false,
    "ExecuteTime": {
     "end_time": "2024-05-29T13:04:15.457064Z",
     "start_time": "2024-05-29T13:04:15.423874Z"
    }
   },
   "id": "38d60ac71158421f",
   "outputs": [
    {
     "ename": "NameError",
     "evalue": "name 'pd' is not defined",
     "output_type": "error",
     "traceback": [
      "\u001B[1;31m---------------------------------------------------------------------------\u001B[0m",
      "\u001B[1;31mNameError\u001B[0m                                 Traceback (most recent call last)",
      "Cell \u001B[1;32mIn[155], line 1\u001B[0m\n\u001B[1;32m----> 1\u001B[0m contingency_table_12 \u001B[38;5;241m=\u001B[39m \u001B[43mpd\u001B[49m\u001B[38;5;241m.\u001B[39mcrosstab(index\u001B[38;5;241m=\u001B[39mAMB_PA[\u001B[38;5;124m'\u001B[39m\u001B[38;5;124mInfeccions respiratòries principals diagnosticades\u001B[39m\u001B[38;5;124m'\u001B[39m], columns\u001B[38;5;241m=\u001B[39mAMB_PA_MECVV[\u001B[38;5;124m'\u001B[39m\u001B[38;5;124mInfeccions respiratòries principals diagnosticades\u001B[39m\u001B[38;5;124m'\u001B[39m])\n\u001B[0;32m      3\u001B[0m chi2_12, p_value_12, dof_12, expected_12 \u001B[38;5;241m=\u001B[39m chi2_contingency(contingency_table_12)\n\u001B[0;32m      5\u001B[0m \u001B[38;5;28mprint\u001B[39m(\u001B[38;5;124m\"\u001B[39m\u001B[38;5;124mEstadístic xi-quadrat entre AMB_PA i AMB_PA_MECVV:\u001B[39m\u001B[38;5;124m\"\u001B[39m, chi2_12)\n",
      "\u001B[1;31mNameError\u001B[0m: name 'pd' is not defined"
     ]
    }
   ],
   "execution_count": 155
  },
  {
   "cell_type": "code",
   "source": [
    "contingency_table_13 = pd.crosstab(index=AMB_PA['Infeccions respiratòries principals diagnosticades'], columns=SENSE_PA['Infeccions respiratòries principals diagnosticades'])\n",
    "\n",
    "chi2_13, p_value_13, dof_13, expected_13 = chi2_contingency(contingency_table_13)\n",
    "\n",
    "print(\"Estadístic xi-quadrat entre AMB_PA i SENSE_PA:\", chi2_13)\n",
    "print(\"P-valor entre AMB_PA i SENSE_PA:\", p_value_13)\n",
    "\n",
    "if p_value_13 < 0.05:\n",
    "    print(\"Hi ha diferències significatives entre les distribucions d'infeccions respiratòries en AMB_PA i SENSE_PA.\")\n",
    "else:\n",
    "    print(\"No hi ha diferències significatives entre les distribucions d'infeccions respiratòries en AMB_PA i SENSE_PA.\")"
   ],
   "metadata": {
    "collapsed": false,
    "ExecuteTime": {
     "end_time": "2024-05-29T13:04:16.044695Z",
     "start_time": "2024-05-29T13:04:16.021441Z"
    }
   },
   "id": "12dd2d4c5bb2e5b0",
   "outputs": [
    {
     "ename": "NameError",
     "evalue": "name 'pd' is not defined",
     "output_type": "error",
     "traceback": [
      "\u001B[1;31m---------------------------------------------------------------------------\u001B[0m",
      "\u001B[1;31mNameError\u001B[0m                                 Traceback (most recent call last)",
      "Cell \u001B[1;32mIn[156], line 1\u001B[0m\n\u001B[1;32m----> 1\u001B[0m contingency_table_13 \u001B[38;5;241m=\u001B[39m \u001B[43mpd\u001B[49m\u001B[38;5;241m.\u001B[39mcrosstab(index\u001B[38;5;241m=\u001B[39mAMB_PA[\u001B[38;5;124m'\u001B[39m\u001B[38;5;124mInfeccions respiratòries principals diagnosticades\u001B[39m\u001B[38;5;124m'\u001B[39m], columns\u001B[38;5;241m=\u001B[39mSENSE_PA[\u001B[38;5;124m'\u001B[39m\u001B[38;5;124mInfeccions respiratòries principals diagnosticades\u001B[39m\u001B[38;5;124m'\u001B[39m])\n\u001B[0;32m      3\u001B[0m chi2_13, p_value_13, dof_13, expected_13 \u001B[38;5;241m=\u001B[39m chi2_contingency(contingency_table_13)\n\u001B[0;32m      5\u001B[0m \u001B[38;5;28mprint\u001B[39m(\u001B[38;5;124m\"\u001B[39m\u001B[38;5;124mEstadístic xi-quadrat entre AMB_PA i SENSE_PA:\u001B[39m\u001B[38;5;124m\"\u001B[39m, chi2_13)\n",
      "\u001B[1;31mNameError\u001B[0m: name 'pd' is not defined"
     ]
    }
   ],
   "execution_count": 156
  },
  {
   "cell_type": "code",
   "source": [
    "contingency_table_23 = pd.crosstab(index=AMB_PA_MECVV['Infeccions respiratòries principals diagnosticades'], columns=SENSE_PA['Infeccions respiratòries principals diagnosticades'])\n",
    "\n",
    "chi2_23, p_value_23, dof_23, expected_23 = chi2_contingency(contingency_table_23)\n",
    "\n",
    "print(\"Estadístic xi-quadrat entre AMB_PA_MECVV i SENSE_PA:\", chi2_23)\n",
    "print(\"P-valor entre AMB_PA_MECVV i SENSE_PA:\", p_value_23)\n",
    "\n",
    "if p_value_23 < 0.05:\n",
    "    print(\"Hi ha diferències significatives entre les distribucions d'infeccions respiratòries en AMB_PA i AMB_PA_MECVV.\")\n",
    "else:\n",
    "    print(\"No hi ha diferències significatives entre les distribucions d'infeccions respiratòries en AMB_PA i AMB_PA_MECVV.\")"
   ],
   "metadata": {
    "collapsed": false,
    "ExecuteTime": {
     "end_time": "2024-05-29T13:04:17.116197Z",
     "start_time": "2024-05-29T13:04:17.091567Z"
    }
   },
   "id": "3242fca2e5ec4d6e",
   "outputs": [
    {
     "ename": "NameError",
     "evalue": "name 'pd' is not defined",
     "output_type": "error",
     "traceback": [
      "\u001B[1;31m---------------------------------------------------------------------------\u001B[0m",
      "\u001B[1;31mNameError\u001B[0m                                 Traceback (most recent call last)",
      "Cell \u001B[1;32mIn[157], line 1\u001B[0m\n\u001B[1;32m----> 1\u001B[0m contingency_table_23 \u001B[38;5;241m=\u001B[39m \u001B[43mpd\u001B[49m\u001B[38;5;241m.\u001B[39mcrosstab(index\u001B[38;5;241m=\u001B[39mAMB_PA_MECVV[\u001B[38;5;124m'\u001B[39m\u001B[38;5;124mInfeccions respiratòries principals diagnosticades\u001B[39m\u001B[38;5;124m'\u001B[39m], columns\u001B[38;5;241m=\u001B[39mSENSE_PA[\u001B[38;5;124m'\u001B[39m\u001B[38;5;124mInfeccions respiratòries principals diagnosticades\u001B[39m\u001B[38;5;124m'\u001B[39m])\n\u001B[0;32m      3\u001B[0m chi2_23, p_value_23, dof_23, expected_23 \u001B[38;5;241m=\u001B[39m chi2_contingency(contingency_table_23)\n\u001B[0;32m      5\u001B[0m \u001B[38;5;28mprint\u001B[39m(\u001B[38;5;124m\"\u001B[39m\u001B[38;5;124mEstadístic xi-quadrat entre AMB_PA_MECVV i SENSE_PA:\u001B[39m\u001B[38;5;124m\"\u001B[39m, chi2_23)\n",
      "\u001B[1;31mNameError\u001B[0m: name 'pd' is not defined"
     ]
    }
   ],
   "execution_count": 157
  },
  {
   "cell_type": "code",
   "source": [
    "contingency_table_14 = pd.crosstab(index=AMB_PA['Infeccions respiratòries principals diagnosticades'], columns=TOTAL['Infeccions respiratòries principals diagnosticades'])\n",
    "\n",
    "chi2_14, p_value_14, dof_14, expected_14 = chi2_contingency(contingency_table_14)\n",
    "\n",
    "print(\"Estadístic xi-quadrat entre AMB_PA i AMB_PA_MECVV:\", chi2_14)\n",
    "print(\"P-valor entre AMB_PA i AMB_PA_MECVV:\", p_value_14)\n",
    "\n",
    "if p_value_14 < 0.05:\n",
    "    print(\"Hi ha diferències significatives entre les distribucions d'infeccions respiratòries en AMB_PA i TOTAL.\")\n",
    "else:\n",
    "    print(\"No hi ha diferències significatives entre les distribucions d'infeccions respiratòries en AMB_PA i TOTAL.\")"
   ],
   "metadata": {
    "collapsed": false,
    "ExecuteTime": {
     "end_time": "2024-05-29T13:04:18.276915Z",
     "start_time": "2024-05-29T13:04:18.250859Z"
    }
   },
   "id": "d22933d2399a3efd",
   "outputs": [
    {
     "ename": "NameError",
     "evalue": "name 'pd' is not defined",
     "output_type": "error",
     "traceback": [
      "\u001B[1;31m---------------------------------------------------------------------------\u001B[0m",
      "\u001B[1;31mNameError\u001B[0m                                 Traceback (most recent call last)",
      "Cell \u001B[1;32mIn[158], line 1\u001B[0m\n\u001B[1;32m----> 1\u001B[0m contingency_table_14 \u001B[38;5;241m=\u001B[39m \u001B[43mpd\u001B[49m\u001B[38;5;241m.\u001B[39mcrosstab(index\u001B[38;5;241m=\u001B[39mAMB_PA[\u001B[38;5;124m'\u001B[39m\u001B[38;5;124mInfeccions respiratòries principals diagnosticades\u001B[39m\u001B[38;5;124m'\u001B[39m], columns\u001B[38;5;241m=\u001B[39mTOTAL[\u001B[38;5;124m'\u001B[39m\u001B[38;5;124mInfeccions respiratòries principals diagnosticades\u001B[39m\u001B[38;5;124m'\u001B[39m])\n\u001B[0;32m      3\u001B[0m chi2_14, p_value_14, dof_14, expected_14 \u001B[38;5;241m=\u001B[39m chi2_contingency(contingency_table_14)\n\u001B[0;32m      5\u001B[0m \u001B[38;5;28mprint\u001B[39m(\u001B[38;5;124m\"\u001B[39m\u001B[38;5;124mEstadístic xi-quadrat entre AMB_PA i AMB_PA_MECVV:\u001B[39m\u001B[38;5;124m\"\u001B[39m, chi2_14)\n",
      "\u001B[1;31mNameError\u001B[0m: name 'pd' is not defined"
     ]
    }
   ],
   "execution_count": 158
  },
  {
   "cell_type": "code",
   "source": [
    "contingency_table_24 = pd.crosstab(index=AMB_PA_MECVV['Infeccions respiratòries principals diagnosticades'], columns=TOTAL['Infeccions respiratòries principals diagnosticades'])\n",
    "\n",
    "chi2_24, p_value_24, dof_24, expected_24 = chi2_contingency(contingency_table_24)\n",
    "\n",
    "print(\"Estadístic xi-quadrat entre AMB_PA_MECVV i TOTAL:\", chi2_24)\n",
    "print(\"P-valor entre AMB_PA_MECVV i TOTAL:\", p_value_24)\n",
    "\n",
    "if p_value_24 < 0.05:\n",
    "    print(\"Hi ha diferències significatives entre les distribucions d'infeccions respiratòries en AMB_PA_MECVV i TOTAL.\")\n",
    "else:\n",
    "    print(\"No hi ha diferències significatives entre les distribucions d'infeccions respiratòries en AMB_PA_MECVV i TOTAL.\")"
   ],
   "metadata": {
    "collapsed": false,
    "ExecuteTime": {
     "end_time": "2024-05-29T13:04:19.043309Z",
     "start_time": "2024-05-29T13:04:19.018522Z"
    }
   },
   "id": "5fd0c7f291c7af65",
   "outputs": [
    {
     "ename": "NameError",
     "evalue": "name 'pd' is not defined",
     "output_type": "error",
     "traceback": [
      "\u001B[1;31m---------------------------------------------------------------------------\u001B[0m",
      "\u001B[1;31mNameError\u001B[0m                                 Traceback (most recent call last)",
      "Cell \u001B[1;32mIn[159], line 1\u001B[0m\n\u001B[1;32m----> 1\u001B[0m contingency_table_24 \u001B[38;5;241m=\u001B[39m \u001B[43mpd\u001B[49m\u001B[38;5;241m.\u001B[39mcrosstab(index\u001B[38;5;241m=\u001B[39mAMB_PA_MECVV[\u001B[38;5;124m'\u001B[39m\u001B[38;5;124mInfeccions respiratòries principals diagnosticades\u001B[39m\u001B[38;5;124m'\u001B[39m], columns\u001B[38;5;241m=\u001B[39mTOTAL[\u001B[38;5;124m'\u001B[39m\u001B[38;5;124mInfeccions respiratòries principals diagnosticades\u001B[39m\u001B[38;5;124m'\u001B[39m])\n\u001B[0;32m      3\u001B[0m chi2_24, p_value_24, dof_24, expected_24 \u001B[38;5;241m=\u001B[39m chi2_contingency(contingency_table_24)\n\u001B[0;32m      5\u001B[0m \u001B[38;5;28mprint\u001B[39m(\u001B[38;5;124m\"\u001B[39m\u001B[38;5;124mEstadístic xi-quadrat entre AMB_PA_MECVV i TOTAL:\u001B[39m\u001B[38;5;124m\"\u001B[39m, chi2_24)\n",
      "\u001B[1;31mNameError\u001B[0m: name 'pd' is not defined"
     ]
    }
   ],
   "execution_count": 159
  },
  {
   "cell_type": "code",
   "source": [
    "contingency_table_34 = pd.crosstab(index=SENSE_PA['Infeccions respiratòries principals diagnosticades'], columns=TOTAL['Infeccions respiratòries principals diagnosticades'])\n",
    "\n",
    "chi2_34, p_value_34, dof_4, expected_34 = chi2_contingency(contingency_table_34)\n",
    "\n",
    "print(\"Estadístic xi-quadrat entre SENSE_PA i TOTAL:\", chi2_34)\n",
    "print(\"P-valor entre AMB_PA i TOTAL:\", p_value_34)\n",
    "\n",
    "if p_value_34 < 0.05:\n",
    "    print(\"Hi ha diferències significatives entre les distribucions d'infeccions respiratòries en SENSE_PA i TOTAL.\")\n",
    "else:\n",
    "    print(\"No hi ha diferències significatives entre les distribucions d'infeccions respiratòries en SENSE_PA i TOTAL.\")"
   ],
   "metadata": {
    "collapsed": false,
    "ExecuteTime": {
     "end_time": "2024-05-29T13:04:19.854897Z",
     "start_time": "2024-05-29T13:04:19.832875Z"
    }
   },
   "id": "b35b5affefdc0914",
   "outputs": [
    {
     "ename": "NameError",
     "evalue": "name 'pd' is not defined",
     "output_type": "error",
     "traceback": [
      "\u001B[1;31m---------------------------------------------------------------------------\u001B[0m",
      "\u001B[1;31mNameError\u001B[0m                                 Traceback (most recent call last)",
      "Cell \u001B[1;32mIn[160], line 1\u001B[0m\n\u001B[1;32m----> 1\u001B[0m contingency_table_34 \u001B[38;5;241m=\u001B[39m \u001B[43mpd\u001B[49m\u001B[38;5;241m.\u001B[39mcrosstab(index\u001B[38;5;241m=\u001B[39mSENSE_PA[\u001B[38;5;124m'\u001B[39m\u001B[38;5;124mInfeccions respiratòries principals diagnosticades\u001B[39m\u001B[38;5;124m'\u001B[39m], columns\u001B[38;5;241m=\u001B[39mTOTAL[\u001B[38;5;124m'\u001B[39m\u001B[38;5;124mInfeccions respiratòries principals diagnosticades\u001B[39m\u001B[38;5;124m'\u001B[39m])\n\u001B[0;32m      3\u001B[0m chi2_34, p_value_34, dof_4, expected_34 \u001B[38;5;241m=\u001B[39m chi2_contingency(contingency_table_34)\n\u001B[0;32m      5\u001B[0m \u001B[38;5;28mprint\u001B[39m(\u001B[38;5;124m\"\u001B[39m\u001B[38;5;124mEstadístic xi-quadrat entre SENSE_PA i TOTAL:\u001B[39m\u001B[38;5;124m\"\u001B[39m, chi2_34)\n",
      "\u001B[1;31mNameError\u001B[0m: name 'pd' is not defined"
     ]
    }
   ],
   "execution_count": 160
  },
  {
   "cell_type": "markdown",
   "source": [
    "##### LRTI"
   ],
   "metadata": {
    "collapsed": false
   },
   "id": "3106bdfede1e12b4"
  },
  {
   "cell_type": "code",
   "source": [
    "contingency_table_12 = pd.crosstab(index=AMB_PA['LRTI diagnosticada'], columns=AMB_PA_MECVV['LRTI diagnosticada'])\n",
    "\n",
    "chi2_12, p_value_12, dof_12, expected_12 = chi2_contingency(contingency_table_12)\n",
    "\n",
    "print(\"Estadístic xi-quadrat entre AMB_PA i AMB_PA_MECVV:\", chi2_12)\n",
    "print(\"P-valor entre AMB_PA i AMB_PA_MECVV:\", p_value_12)\n",
    "\n",
    "if p_value_12 < 0.05:\n",
    "    print(\"Hi ha diferències significatives entre les distribucions de LRTI en AMB_PA i AMB_PA_MECVV.\")\n",
    "else:\n",
    "    print(\"No hi ha diferències significatives entre les distribucions de LRTI en AMB_PA i AMB_PA_MECVV.\")"
   ],
   "metadata": {
    "collapsed": false,
    "ExecuteTime": {
     "end_time": "2024-05-29T13:04:20.511155Z",
     "start_time": "2024-05-29T13:04:20.482462Z"
    }
   },
   "id": "1eb18a89771af806",
   "outputs": [
    {
     "ename": "NameError",
     "evalue": "name 'pd' is not defined",
     "output_type": "error",
     "traceback": [
      "\u001B[1;31m---------------------------------------------------------------------------\u001B[0m",
      "\u001B[1;31mNameError\u001B[0m                                 Traceback (most recent call last)",
      "Cell \u001B[1;32mIn[161], line 1\u001B[0m\n\u001B[1;32m----> 1\u001B[0m contingency_table_12 \u001B[38;5;241m=\u001B[39m \u001B[43mpd\u001B[49m\u001B[38;5;241m.\u001B[39mcrosstab(index\u001B[38;5;241m=\u001B[39mAMB_PA[\u001B[38;5;124m'\u001B[39m\u001B[38;5;124mLRTI diagnosticada\u001B[39m\u001B[38;5;124m'\u001B[39m], columns\u001B[38;5;241m=\u001B[39mAMB_PA_MECVV[\u001B[38;5;124m'\u001B[39m\u001B[38;5;124mLRTI diagnosticada\u001B[39m\u001B[38;5;124m'\u001B[39m])\n\u001B[0;32m      3\u001B[0m chi2_12, p_value_12, dof_12, expected_12 \u001B[38;5;241m=\u001B[39m chi2_contingency(contingency_table_12)\n\u001B[0;32m      5\u001B[0m \u001B[38;5;28mprint\u001B[39m(\u001B[38;5;124m\"\u001B[39m\u001B[38;5;124mEstadístic xi-quadrat entre AMB_PA i AMB_PA_MECVV:\u001B[39m\u001B[38;5;124m\"\u001B[39m, chi2_12)\n",
      "\u001B[1;31mNameError\u001B[0m: name 'pd' is not defined"
     ]
    }
   ],
   "execution_count": 161
  },
  {
   "cell_type": "code",
   "source": [
    "contingency_table_13 = pd.crosstab(index=AMB_PA['LRTI diagnosticada'], columns=SENSE_PA['LRTI diagnosticada'])\n",
    "\n",
    "chi2_13, p_value_13, dof_13, expected_13 = chi2_contingency(contingency_table_13)\n",
    "\n",
    "print(\"Estadístic xi-quadrat entre AMB_PA i SENSE_PA:\", chi2_13)\n",
    "print(\"P-valor entre AMB_PA i SENSE_PA:\", p_value_13)\n",
    "\n",
    "if p_value_13 < 0.05:\n",
    "    print(\"Hi ha diferències significatives entre les distribucions de LRTI en AMB_PA i SENSE_PA.\")\n",
    "else:\n",
    "    print(\"No hi ha diferències significatives entre les distribucions de LRTI en AMB_PA i SENSE_PA.\")"
   ],
   "metadata": {
    "collapsed": false,
    "ExecuteTime": {
     "end_time": "2024-05-29T13:04:21.456718Z",
     "start_time": "2024-05-29T13:04:21.425863Z"
    }
   },
   "id": "c8f6ed6f9f5e04ed",
   "outputs": [
    {
     "ename": "NameError",
     "evalue": "name 'pd' is not defined",
     "output_type": "error",
     "traceback": [
      "\u001B[1;31m---------------------------------------------------------------------------\u001B[0m",
      "\u001B[1;31mNameError\u001B[0m                                 Traceback (most recent call last)",
      "Cell \u001B[1;32mIn[162], line 1\u001B[0m\n\u001B[1;32m----> 1\u001B[0m contingency_table_13 \u001B[38;5;241m=\u001B[39m \u001B[43mpd\u001B[49m\u001B[38;5;241m.\u001B[39mcrosstab(index\u001B[38;5;241m=\u001B[39mAMB_PA[\u001B[38;5;124m'\u001B[39m\u001B[38;5;124mLRTI diagnosticada\u001B[39m\u001B[38;5;124m'\u001B[39m], columns\u001B[38;5;241m=\u001B[39mSENSE_PA[\u001B[38;5;124m'\u001B[39m\u001B[38;5;124mLRTI diagnosticada\u001B[39m\u001B[38;5;124m'\u001B[39m])\n\u001B[0;32m      3\u001B[0m chi2_13, p_value_13, dof_13, expected_13 \u001B[38;5;241m=\u001B[39m chi2_contingency(contingency_table_13)\n\u001B[0;32m      5\u001B[0m \u001B[38;5;28mprint\u001B[39m(\u001B[38;5;124m\"\u001B[39m\u001B[38;5;124mEstadístic xi-quadrat entre AMB_PA i SENSE_PA:\u001B[39m\u001B[38;5;124m\"\u001B[39m, chi2_13)\n",
      "\u001B[1;31mNameError\u001B[0m: name 'pd' is not defined"
     ]
    }
   ],
   "execution_count": 162
  },
  {
   "cell_type": "code",
   "source": [
    "contingency_table_23 = pd.crosstab(index=AMB_PA_MECVV['LRTI diagnosticada'], columns=SENSE_PA['LRTI diagnosticada'])\n",
    "\n",
    "chi2_23, p_value_23, dof_23, expected_23 = chi2_contingency(contingency_table_23)\n",
    "\n",
    "print(\"Estadístic xi-quadrat entre AMB_PA_MECVV i SENSE_PA:\", chi2_23)\n",
    "print(\"P-valor entre AMB_PA_MECVV i SENSE_PA:\", p_value_23)\n",
    "\n",
    "if p_value_23 < 0.05:\n",
    "    print(\"Hi ha diferències significatives entre les distribucions de LRTI en AMB_PA_MECVV i SENSE_PA.\")\n",
    "else:\n",
    "    print(\"No hi ha diferències significatives entre les distribucions de LRTI en AMB_PA_MECVV i SENSE_PA.\")"
   ],
   "metadata": {
    "collapsed": false,
    "ExecuteTime": {
     "end_time": "2024-05-29T13:04:22.181196Z",
     "start_time": "2024-05-29T13:04:22.156889Z"
    }
   },
   "id": "fa3cb99bf16933e7",
   "outputs": [
    {
     "ename": "NameError",
     "evalue": "name 'pd' is not defined",
     "output_type": "error",
     "traceback": [
      "\u001B[1;31m---------------------------------------------------------------------------\u001B[0m",
      "\u001B[1;31mNameError\u001B[0m                                 Traceback (most recent call last)",
      "Cell \u001B[1;32mIn[163], line 1\u001B[0m\n\u001B[1;32m----> 1\u001B[0m contingency_table_23 \u001B[38;5;241m=\u001B[39m \u001B[43mpd\u001B[49m\u001B[38;5;241m.\u001B[39mcrosstab(index\u001B[38;5;241m=\u001B[39mAMB_PA_MECVV[\u001B[38;5;124m'\u001B[39m\u001B[38;5;124mLRTI diagnosticada\u001B[39m\u001B[38;5;124m'\u001B[39m], columns\u001B[38;5;241m=\u001B[39mSENSE_PA[\u001B[38;5;124m'\u001B[39m\u001B[38;5;124mLRTI diagnosticada\u001B[39m\u001B[38;5;124m'\u001B[39m])\n\u001B[0;32m      3\u001B[0m chi2_23, p_value_23, dof_23, expected_23 \u001B[38;5;241m=\u001B[39m chi2_contingency(contingency_table_23)\n\u001B[0;32m      5\u001B[0m \u001B[38;5;28mprint\u001B[39m(\u001B[38;5;124m\"\u001B[39m\u001B[38;5;124mEstadístic xi-quadrat entre AMB_PA_MECVV i SENSE_PA:\u001B[39m\u001B[38;5;124m\"\u001B[39m, chi2_23)\n",
      "\u001B[1;31mNameError\u001B[0m: name 'pd' is not defined"
     ]
    }
   ],
   "execution_count": 163
  },
  {
   "cell_type": "code",
   "source": [
    "contingency_table_14 = pd.crosstab(index=AMB_PA['LRTI diagnosticada'], columns=TOTAL['LRTI diagnosticada'])\n",
    "\n",
    "chi2_14, p_value_14, dof_14, expected_14 = chi2_contingency(contingency_table_14)\n",
    "\n",
    "print(\"Estadístic xi-quadrat entre AMB_PA i TOTAL:\", chi2_14)\n",
    "print(\"P-valor entre AMB_PA i TOTAL:\", p_value_14)\n",
    "\n",
    "if p_value_14 < 0.05:\n",
    "    print(\"Hi ha diferències significatives entre les distribucions de LRTI en AMB_PA i TOTAL.\")\n",
    "else:\n",
    "    print(\"No hi ha diferències significatives entre les distribucions de LRTI en AMB_PA i TOTAL.\")"
   ],
   "metadata": {
    "collapsed": false,
    "ExecuteTime": {
     "end_time": "2024-05-29T13:04:23.406632Z",
     "start_time": "2024-05-29T13:04:23.369709Z"
    }
   },
   "id": "77d297d487f56c45",
   "outputs": [
    {
     "ename": "NameError",
     "evalue": "name 'pd' is not defined",
     "output_type": "error",
     "traceback": [
      "\u001B[1;31m---------------------------------------------------------------------------\u001B[0m",
      "\u001B[1;31mNameError\u001B[0m                                 Traceback (most recent call last)",
      "Cell \u001B[1;32mIn[164], line 1\u001B[0m\n\u001B[1;32m----> 1\u001B[0m contingency_table_14 \u001B[38;5;241m=\u001B[39m \u001B[43mpd\u001B[49m\u001B[38;5;241m.\u001B[39mcrosstab(index\u001B[38;5;241m=\u001B[39mAMB_PA[\u001B[38;5;124m'\u001B[39m\u001B[38;5;124mLRTI diagnosticada\u001B[39m\u001B[38;5;124m'\u001B[39m], columns\u001B[38;5;241m=\u001B[39mTOTAL[\u001B[38;5;124m'\u001B[39m\u001B[38;5;124mLRTI diagnosticada\u001B[39m\u001B[38;5;124m'\u001B[39m])\n\u001B[0;32m      3\u001B[0m chi2_14, p_value_14, dof_14, expected_14 \u001B[38;5;241m=\u001B[39m chi2_contingency(contingency_table_14)\n\u001B[0;32m      5\u001B[0m \u001B[38;5;28mprint\u001B[39m(\u001B[38;5;124m\"\u001B[39m\u001B[38;5;124mEstadístic xi-quadrat entre AMB_PA i TOTAL:\u001B[39m\u001B[38;5;124m\"\u001B[39m, chi2_14)\n",
      "\u001B[1;31mNameError\u001B[0m: name 'pd' is not defined"
     ]
    }
   ],
   "execution_count": 164
  },
  {
   "cell_type": "code",
   "source": [
    "contingency_table_24 = pd.crosstab(index=AMB_PA_MECVV['LRTI diagnosticada'], columns=TOTAL['LRTI diagnosticada'])\n",
    "\n",
    "chi2_24, p_value_24, dof_24, expected_24 = chi2_contingency(contingency_table_24)\n",
    "\n",
    "print(\"Estadístic xi-quadrat entre AMB_PA_MECVV i TOTAL:\", chi2_24)\n",
    "print(\"P-valor entre AMB_PA_MECVV i TOTAL:\", p_value_24)\n",
    "\n",
    "if p_value_24 < 0.05:\n",
    "    print(\"Hi ha diferències significatives entre les distribucions de LRTI en AMB_PA_MECVV i TOTAL.\")\n",
    "else:\n",
    "    print(\"No hi ha diferències significatives entre les distribucions de LRTI en AMB_PA_MECVV i TOTAL.\")"
   ],
   "metadata": {
    "collapsed": false,
    "ExecuteTime": {
     "end_time": "2024-05-29T13:04:24.911192Z",
     "start_time": "2024-05-29T13:04:24.877820Z"
    }
   },
   "id": "343e29839436a0b4",
   "outputs": [
    {
     "ename": "NameError",
     "evalue": "name 'pd' is not defined",
     "output_type": "error",
     "traceback": [
      "\u001B[1;31m---------------------------------------------------------------------------\u001B[0m",
      "\u001B[1;31mNameError\u001B[0m                                 Traceback (most recent call last)",
      "Cell \u001B[1;32mIn[165], line 1\u001B[0m\n\u001B[1;32m----> 1\u001B[0m contingency_table_24 \u001B[38;5;241m=\u001B[39m \u001B[43mpd\u001B[49m\u001B[38;5;241m.\u001B[39mcrosstab(index\u001B[38;5;241m=\u001B[39mAMB_PA_MECVV[\u001B[38;5;124m'\u001B[39m\u001B[38;5;124mLRTI diagnosticada\u001B[39m\u001B[38;5;124m'\u001B[39m], columns\u001B[38;5;241m=\u001B[39mTOTAL[\u001B[38;5;124m'\u001B[39m\u001B[38;5;124mLRTI diagnosticada\u001B[39m\u001B[38;5;124m'\u001B[39m])\n\u001B[0;32m      3\u001B[0m chi2_24, p_value_24, dof_24, expected_24 \u001B[38;5;241m=\u001B[39m chi2_contingency(contingency_table_24)\n\u001B[0;32m      5\u001B[0m \u001B[38;5;28mprint\u001B[39m(\u001B[38;5;124m\"\u001B[39m\u001B[38;5;124mEstadístic xi-quadrat entre AMB_PA_MECVV i TOTAL:\u001B[39m\u001B[38;5;124m\"\u001B[39m, chi2_24)\n",
      "\u001B[1;31mNameError\u001B[0m: name 'pd' is not defined"
     ]
    }
   ],
   "execution_count": 165
  },
  {
   "cell_type": "code",
   "source": [
    "contingency_table_34 = pd.crosstab(index=SENSE_PA['LRTI diagnosticada'], columns=TOTAL['LRTI diagnosticada'])\n",
    "\n",
    "chi2_34, p_value_34, dof_34, expected_34 = chi2_contingency(contingency_table_34)\n",
    "\n",
    "print(\"Estadístic xi-quadrat entre SENSE_PA i TOTAL:\", chi2_34)\n",
    "print(\"P-valor entre SNESE_PA i TOTAL:\", p_value_34)\n",
    "\n",
    "if p_value_34 < 0.05:\n",
    "    print(\"Hi ha diferències significatives entre les distribucions de LRTI en SENSE_PA i TOTAL.\")\n",
    "else:\n",
    "    print(\"No hi ha diferències significatives entre les distribucions de LRTI en SENSE_PA i TOTAL.\")"
   ],
   "metadata": {
    "collapsed": false,
    "ExecuteTime": {
     "end_time": "2024-05-29T13:04:25.714326Z",
     "start_time": "2024-05-29T13:04:25.689462Z"
    }
   },
   "id": "cbe00640f912af3",
   "outputs": [
    {
     "ename": "NameError",
     "evalue": "name 'pd' is not defined",
     "output_type": "error",
     "traceback": [
      "\u001B[1;31m---------------------------------------------------------------------------\u001B[0m",
      "\u001B[1;31mNameError\u001B[0m                                 Traceback (most recent call last)",
      "Cell \u001B[1;32mIn[166], line 1\u001B[0m\n\u001B[1;32m----> 1\u001B[0m contingency_table_34 \u001B[38;5;241m=\u001B[39m \u001B[43mpd\u001B[49m\u001B[38;5;241m.\u001B[39mcrosstab(index\u001B[38;5;241m=\u001B[39mSENSE_PA[\u001B[38;5;124m'\u001B[39m\u001B[38;5;124mLRTI diagnosticada\u001B[39m\u001B[38;5;124m'\u001B[39m], columns\u001B[38;5;241m=\u001B[39mTOTAL[\u001B[38;5;124m'\u001B[39m\u001B[38;5;124mLRTI diagnosticada\u001B[39m\u001B[38;5;124m'\u001B[39m])\n\u001B[0;32m      3\u001B[0m chi2_34, p_value_34, dof_34, expected_34 \u001B[38;5;241m=\u001B[39m chi2_contingency(contingency_table_34)\n\u001B[0;32m      5\u001B[0m \u001B[38;5;28mprint\u001B[39m(\u001B[38;5;124m\"\u001B[39m\u001B[38;5;124mEstadístic xi-quadrat entre SENSE_PA i TOTAL:\u001B[39m\u001B[38;5;124m\"\u001B[39m, chi2_34)\n",
      "\u001B[1;31mNameError\u001B[0m: name 'pd' is not defined"
     ]
    }
   ],
   "execution_count": 166
  },
  {
   "cell_type": "markdown",
   "source": [
    "##### Exacerbacions de COPD"
   ],
   "metadata": {
    "collapsed": false
   },
   "id": "b196d7872e104798"
  },
  {
   "cell_type": "code",
   "source": [
    "contingency_table_12 = pd.crosstab(index=AMB_PA['Exacerbacions de COPD diagnosticades'], columns=AMB_PA_MECVV['Exacerbacions de COPD diagnosticades'])\n",
    "\n",
    "chi2_12, p_value_12, dof_12, expected_12 = chi2_contingency(contingency_table_12)\n",
    "\n",
    "print(\"Estadístic xi-quadrat entre AMB_PA i AMB_PA_MECVV:\", chi2_12)\n",
    "print(\"P-valor entre AMB_PA i AMB_PA_MECVV:\", p_value_12)\n",
    "\n",
    "if p_value_12 < 0.05:\n",
    "    print(\"Hi ha diferències significatives entre les distribucions d'exacerbacions de COPD en AMB_PA i AMB_PA_MECV.\")\n",
    "else:\n",
    "    print(\"No hi ha diferències significatives entre les distribucions d'exacerbacions de COPD en AMB_PA i AMB_PA_MECVV.\")"
   ],
   "metadata": {
    "collapsed": false,
    "ExecuteTime": {
     "end_time": "2024-05-29T13:04:26.467931Z",
     "start_time": "2024-05-29T13:04:26.442395Z"
    }
   },
   "id": "773424232ffb0e69",
   "outputs": [
    {
     "ename": "NameError",
     "evalue": "name 'pd' is not defined",
     "output_type": "error",
     "traceback": [
      "\u001B[1;31m---------------------------------------------------------------------------\u001B[0m",
      "\u001B[1;31mNameError\u001B[0m                                 Traceback (most recent call last)",
      "Cell \u001B[1;32mIn[167], line 1\u001B[0m\n\u001B[1;32m----> 1\u001B[0m contingency_table_12 \u001B[38;5;241m=\u001B[39m \u001B[43mpd\u001B[49m\u001B[38;5;241m.\u001B[39mcrosstab(index\u001B[38;5;241m=\u001B[39mAMB_PA[\u001B[38;5;124m'\u001B[39m\u001B[38;5;124mExacerbacions de COPD diagnosticades\u001B[39m\u001B[38;5;124m'\u001B[39m], columns\u001B[38;5;241m=\u001B[39mAMB_PA_MECVV[\u001B[38;5;124m'\u001B[39m\u001B[38;5;124mExacerbacions de COPD diagnosticades\u001B[39m\u001B[38;5;124m'\u001B[39m])\n\u001B[0;32m      3\u001B[0m chi2_12, p_value_12, dof_12, expected_12 \u001B[38;5;241m=\u001B[39m chi2_contingency(contingency_table_12)\n\u001B[0;32m      5\u001B[0m \u001B[38;5;28mprint\u001B[39m(\u001B[38;5;124m\"\u001B[39m\u001B[38;5;124mEstadístic xi-quadrat entre AMB_PA i AMB_PA_MECVV:\u001B[39m\u001B[38;5;124m\"\u001B[39m, chi2_12)\n",
      "\u001B[1;31mNameError\u001B[0m: name 'pd' is not defined"
     ]
    }
   ],
   "execution_count": 167
  },
  {
   "cell_type": "code",
   "source": [
    "contingency_table_13 = pd.crosstab(index=AMB_PA['Exacerbacions de COPD diagnosticades'], columns=SENSE_PA['Exacerbacions de COPD diagnosticades'])\n",
    "\n",
    "chi2_13, p_value_13, dof_13, expected_13 = chi2_contingency(contingency_table_13)\n",
    "\n",
    "print(\"Estadístic xi-quadrat entre AMB_PA i SENSE_PA:\", chi2_13)\n",
    "print(\"P-valor entre AMB_PA i SENSE_PA:\", p_value_13)\n",
    "\n",
    "if p_value_13 < 0.05:\n",
    "    print(\"Hi ha diferències significatives entre les distribucions d'exacerbacions de COPD en AMB_PA i SENSE_PA.\")\n",
    "else:\n",
    "    print(\"No hi ha diferències significatives entre les distribucions d'exacerbacions de COPD en AMB_PA i SENSE_PA.\")"
   ],
   "metadata": {
    "collapsed": false,
    "ExecuteTime": {
     "end_time": "2024-05-29T13:04:27.527877Z",
     "start_time": "2024-05-29T13:04:27.495369Z"
    }
   },
   "id": "1706501c239b2c72",
   "outputs": [
    {
     "ename": "NameError",
     "evalue": "name 'pd' is not defined",
     "output_type": "error",
     "traceback": [
      "\u001B[1;31m---------------------------------------------------------------------------\u001B[0m",
      "\u001B[1;31mNameError\u001B[0m                                 Traceback (most recent call last)",
      "Cell \u001B[1;32mIn[168], line 1\u001B[0m\n\u001B[1;32m----> 1\u001B[0m contingency_table_13 \u001B[38;5;241m=\u001B[39m \u001B[43mpd\u001B[49m\u001B[38;5;241m.\u001B[39mcrosstab(index\u001B[38;5;241m=\u001B[39mAMB_PA[\u001B[38;5;124m'\u001B[39m\u001B[38;5;124mExacerbacions de COPD diagnosticades\u001B[39m\u001B[38;5;124m'\u001B[39m], columns\u001B[38;5;241m=\u001B[39mSENSE_PA[\u001B[38;5;124m'\u001B[39m\u001B[38;5;124mExacerbacions de COPD diagnosticades\u001B[39m\u001B[38;5;124m'\u001B[39m])\n\u001B[0;32m      3\u001B[0m chi2_13, p_value_13, dof_13, expected_13 \u001B[38;5;241m=\u001B[39m chi2_contingency(contingency_table_13)\n\u001B[0;32m      5\u001B[0m \u001B[38;5;28mprint\u001B[39m(\u001B[38;5;124m\"\u001B[39m\u001B[38;5;124mEstadístic xi-quadrat entre AMB_PA i SENSE_PA:\u001B[39m\u001B[38;5;124m\"\u001B[39m, chi2_13)\n",
      "\u001B[1;31mNameError\u001B[0m: name 'pd' is not defined"
     ]
    }
   ],
   "execution_count": 168
  },
  {
   "cell_type": "code",
   "source": [
    "contingency_table_23 = pd.crosstab(index=AMB_PA_MECVV['Exacerbacions de COPD diagnosticades'], columns=SENSE_PA['Exacerbacions de COPD diagnosticades'])\n",
    "\n",
    "chi2_23, p_value_23, dof_23, expected_23 = chi2_contingency(contingency_table_23)\n",
    "\n",
    "print(\"Estadístic xi-quadrat entre AMB_PA_MECVV i SENSE_PA:\", chi2_23)\n",
    "print(\"P-valor entre AMB_PA_MECVV i SENSE_PA:\", p_value_23)\n",
    "\n",
    "if p_value_23 < 0.05:\n",
    "    print(\"Hi ha diferències significatives entre les distribucions d'exacerbacions de COPD en AMB_PA_MECVV i SENSE_PA.\")\n",
    "else:\n",
    "    print(\"No hi ha diferències significatives entre les distribucions d'exacerbacions de COPD en AMB_PA_MECVV i SENSE_PA.\")"
   ],
   "metadata": {
    "collapsed": false,
    "ExecuteTime": {
     "end_time": "2024-05-29T13:04:28.118201Z",
     "start_time": "2024-05-29T13:04:28.087038Z"
    }
   },
   "id": "a0dcd7685953faa6",
   "outputs": [
    {
     "ename": "NameError",
     "evalue": "name 'pd' is not defined",
     "output_type": "error",
     "traceback": [
      "\u001B[1;31m---------------------------------------------------------------------------\u001B[0m",
      "\u001B[1;31mNameError\u001B[0m                                 Traceback (most recent call last)",
      "Cell \u001B[1;32mIn[169], line 1\u001B[0m\n\u001B[1;32m----> 1\u001B[0m contingency_table_23 \u001B[38;5;241m=\u001B[39m \u001B[43mpd\u001B[49m\u001B[38;5;241m.\u001B[39mcrosstab(index\u001B[38;5;241m=\u001B[39mAMB_PA_MECVV[\u001B[38;5;124m'\u001B[39m\u001B[38;5;124mExacerbacions de COPD diagnosticades\u001B[39m\u001B[38;5;124m'\u001B[39m], columns\u001B[38;5;241m=\u001B[39mSENSE_PA[\u001B[38;5;124m'\u001B[39m\u001B[38;5;124mExacerbacions de COPD diagnosticades\u001B[39m\u001B[38;5;124m'\u001B[39m])\n\u001B[0;32m      3\u001B[0m chi2_23, p_value_23, dof_23, expected_23 \u001B[38;5;241m=\u001B[39m chi2_contingency(contingency_table_23)\n\u001B[0;32m      5\u001B[0m \u001B[38;5;28mprint\u001B[39m(\u001B[38;5;124m\"\u001B[39m\u001B[38;5;124mEstadístic xi-quadrat entre AMB_PA_MECVV i SENSE_PA:\u001B[39m\u001B[38;5;124m\"\u001B[39m, chi2_23)\n",
      "\u001B[1;31mNameError\u001B[0m: name 'pd' is not defined"
     ]
    }
   ],
   "execution_count": 169
  },
  {
   "cell_type": "code",
   "source": [
    "contingency_table_14 = pd.crosstab(index=AMB_PA['Exacerbacions de COPD diagnosticades'], columns=TOTAL['Exacerbacions de COPD diagnosticades'])\n",
    "\n",
    "chi2_14, p_value_14, dof_14, expected_14 = chi2_contingency(contingency_table_14)\n",
    "\n",
    "print(\"Estadístic xi-quadrat entre AMB_PA i TOTAL:\", chi2_14)\n",
    "print(\"P-valor entre AMB_PA i TOTAL:\", p_value_14)\n",
    "\n",
    "if p_value_14 < 0.05:\n",
    "    print(\"Hi ha diferències significatives entre les distribucions d'exacerbacions de COPD en AMB_PA i TOTAL.\")\n",
    "else:\n",
    "    print(\"No hi ha diferències significatives entre les distribucions d'exacerbacions de COPD en AMB_PA i TOTAL.\")"
   ],
   "metadata": {
    "collapsed": false,
    "ExecuteTime": {
     "end_time": "2024-05-29T13:04:29.258066Z",
     "start_time": "2024-05-29T13:04:29.226412Z"
    }
   },
   "id": "fd545e84b4c3d035",
   "outputs": [
    {
     "ename": "NameError",
     "evalue": "name 'pd' is not defined",
     "output_type": "error",
     "traceback": [
      "\u001B[1;31m---------------------------------------------------------------------------\u001B[0m",
      "\u001B[1;31mNameError\u001B[0m                                 Traceback (most recent call last)",
      "Cell \u001B[1;32mIn[170], line 1\u001B[0m\n\u001B[1;32m----> 1\u001B[0m contingency_table_14 \u001B[38;5;241m=\u001B[39m \u001B[43mpd\u001B[49m\u001B[38;5;241m.\u001B[39mcrosstab(index\u001B[38;5;241m=\u001B[39mAMB_PA[\u001B[38;5;124m'\u001B[39m\u001B[38;5;124mExacerbacions de COPD diagnosticades\u001B[39m\u001B[38;5;124m'\u001B[39m], columns\u001B[38;5;241m=\u001B[39mTOTAL[\u001B[38;5;124m'\u001B[39m\u001B[38;5;124mExacerbacions de COPD diagnosticades\u001B[39m\u001B[38;5;124m'\u001B[39m])\n\u001B[0;32m      3\u001B[0m chi2_14, p_value_14, dof_14, expected_14 \u001B[38;5;241m=\u001B[39m chi2_contingency(contingency_table_14)\n\u001B[0;32m      5\u001B[0m \u001B[38;5;28mprint\u001B[39m(\u001B[38;5;124m\"\u001B[39m\u001B[38;5;124mEstadístic xi-quadrat entre AMB_PA i TOTAL:\u001B[39m\u001B[38;5;124m\"\u001B[39m, chi2_14)\n",
      "\u001B[1;31mNameError\u001B[0m: name 'pd' is not defined"
     ]
    }
   ],
   "execution_count": 170
  },
  {
   "cell_type": "code",
   "source": [
    "contingency_table_24 = pd.crosstab(index=AMB_PA_MECVV['Exacerbacions de COPD diagnosticades'], columns=TOTAL['Exacerbacions de COPD diagnosticades'])\n",
    "\n",
    "chi2_24, p_value_24, dof_24, expected_24 = chi2_contingency(contingency_table_24)\n",
    "\n",
    "print(\"Estadístic xi-quadrat entre AMB_PA_MECVV i TOTAL:\", chi2_24)\n",
    "print(\"P-valor entre AMB_PA_MECVV i TOTAL:\", p_value_24)\n",
    "\n",
    "if p_value_24 < 0.05:\n",
    "    print(\"Hi ha diferències significatives entre les distribucions d'exacerbacions de COPD en AMB_PA_MECVV i TOTAL.\")\n",
    "else:\n",
    "    print(\"No hi ha diferències significatives entre les distribucions d'exacerbacions de COPD en AMB_PA_MECVV i TOTAL.\")"
   ],
   "metadata": {
    "collapsed": false,
    "ExecuteTime": {
     "end_time": "2024-05-29T13:04:30.317874Z",
     "start_time": "2024-05-29T13:04:30.286293Z"
    }
   },
   "id": "cff79f156b8e5ea6",
   "outputs": [
    {
     "ename": "NameError",
     "evalue": "name 'pd' is not defined",
     "output_type": "error",
     "traceback": [
      "\u001B[1;31m---------------------------------------------------------------------------\u001B[0m",
      "\u001B[1;31mNameError\u001B[0m                                 Traceback (most recent call last)",
      "Cell \u001B[1;32mIn[171], line 1\u001B[0m\n\u001B[1;32m----> 1\u001B[0m contingency_table_24 \u001B[38;5;241m=\u001B[39m \u001B[43mpd\u001B[49m\u001B[38;5;241m.\u001B[39mcrosstab(index\u001B[38;5;241m=\u001B[39mAMB_PA_MECVV[\u001B[38;5;124m'\u001B[39m\u001B[38;5;124mExacerbacions de COPD diagnosticades\u001B[39m\u001B[38;5;124m'\u001B[39m], columns\u001B[38;5;241m=\u001B[39mTOTAL[\u001B[38;5;124m'\u001B[39m\u001B[38;5;124mExacerbacions de COPD diagnosticades\u001B[39m\u001B[38;5;124m'\u001B[39m])\n\u001B[0;32m      3\u001B[0m chi2_24, p_value_24, dof_24, expected_24 \u001B[38;5;241m=\u001B[39m chi2_contingency(contingency_table_24)\n\u001B[0;32m      5\u001B[0m \u001B[38;5;28mprint\u001B[39m(\u001B[38;5;124m\"\u001B[39m\u001B[38;5;124mEstadístic xi-quadrat entre AMB_PA_MECVV i TOTAL:\u001B[39m\u001B[38;5;124m\"\u001B[39m, chi2_24)\n",
      "\u001B[1;31mNameError\u001B[0m: name 'pd' is not defined"
     ]
    }
   ],
   "execution_count": 171
  },
  {
   "cell_type": "code",
   "source": [
    "contingency_table_34 = pd.crosstab(index=SENSE_PA['Exacerbacions de COPD diagnosticades'], columns=TOTAL['Exacerbacions de COPD diagnosticades'])\n",
    "\n",
    "chi2_34, p_value_34, dof_34, expected_34 = chi2_contingency(contingency_table_34)\n",
    "\n",
    "print(\"Estadístic xi-quadrat entre SENSE_PA i TOTAL:\", chi2_34)\n",
    "print(\"P-valor entre SENSE_PA i TOTAL:\", p_value_34)\n",
    "\n",
    "if p_value_34 < 0.05:\n",
    "    print(\"Hi ha diferències significatives entre les distribucions d'exacerbacions de COPD en SENSE_PA i TOTAL.\")\n",
    "else:\n",
    "    print(\"No hi ha diferències significatives entre les distribucions d'exacerbacions de COPD en SENSE_PA i TOTAL.\")"
   ],
   "metadata": {
    "collapsed": false,
    "ExecuteTime": {
     "end_time": "2024-05-29T13:04:31.094682Z",
     "start_time": "2024-05-29T13:04:31.061339Z"
    }
   },
   "id": "ed997f3c6e7b17cb",
   "outputs": [
    {
     "ename": "NameError",
     "evalue": "name 'pd' is not defined",
     "output_type": "error",
     "traceback": [
      "\u001B[1;31m---------------------------------------------------------------------------\u001B[0m",
      "\u001B[1;31mNameError\u001B[0m                                 Traceback (most recent call last)",
      "Cell \u001B[1;32mIn[172], line 1\u001B[0m\n\u001B[1;32m----> 1\u001B[0m contingency_table_34 \u001B[38;5;241m=\u001B[39m \u001B[43mpd\u001B[49m\u001B[38;5;241m.\u001B[39mcrosstab(index\u001B[38;5;241m=\u001B[39mSENSE_PA[\u001B[38;5;124m'\u001B[39m\u001B[38;5;124mExacerbacions de COPD diagnosticades\u001B[39m\u001B[38;5;124m'\u001B[39m], columns\u001B[38;5;241m=\u001B[39mTOTAL[\u001B[38;5;124m'\u001B[39m\u001B[38;5;124mExacerbacions de COPD diagnosticades\u001B[39m\u001B[38;5;124m'\u001B[39m])\n\u001B[0;32m      3\u001B[0m chi2_34, p_value_34, dof_34, expected_34 \u001B[38;5;241m=\u001B[39m chi2_contingency(contingency_table_34)\n\u001B[0;32m      5\u001B[0m \u001B[38;5;28mprint\u001B[39m(\u001B[38;5;124m\"\u001B[39m\u001B[38;5;124mEstadístic xi-quadrat entre SENSE_PA i TOTAL:\u001B[39m\u001B[38;5;124m\"\u001B[39m, chi2_34)\n",
      "\u001B[1;31mNameError\u001B[0m: name 'pd' is not defined"
     ]
    }
   ],
   "execution_count": 172
  },
  {
   "cell_type": "markdown",
   "source": [
    "##### Fibrosi pulmonar i fibrotòrax"
   ],
   "metadata": {
    "collapsed": false
   },
   "id": "a698233ba5344e1f"
  },
  {
   "cell_type": "code",
   "source": [
    "contingency_table_12 = pd.crosstab(index=AMB_PA['Fibrosi pulmonar i fibrotòrax diagnosticades'], columns=AMB_PA_MECVV['Fibrosi pulmonar i fibrotòrax diagnosticades'])\n",
    "\n",
    "chi2_12, p_value_12, dof_12, expected_12 = chi2_contingency(contingency_table_12)\n",
    "\n",
    "print(\"Estadístic xi-quadrat entre AMB_PA i AMB_PA_MECVV:\", chi2_12)\n",
    "print(\"P-valor entre AMB_PA i AMB_PA_MECVV:\", p_value_12)\n",
    "\n",
    "if p_value_12 < 0.05:\n",
    "    print(\"Hi ha diferències significatives entre les distribucions de fibrosi pulmonar i fibrotòrax en AMB_PA i AMB_PA_MECVV.\")\n",
    "else:\n",
    "    print(\"No hi ha diferències significatives entre les distribucions de fibrosi pulmonar i fibrotòrax en AMB_PA i AMB_PA_MECVV.\")"
   ],
   "metadata": {
    "collapsed": false,
    "ExecuteTime": {
     "end_time": "2024-05-29T13:04:31.951124Z",
     "start_time": "2024-05-29T13:04:31.921406Z"
    }
   },
   "id": "58762c5ab24ece62",
   "outputs": [
    {
     "ename": "NameError",
     "evalue": "name 'pd' is not defined",
     "output_type": "error",
     "traceback": [
      "\u001B[1;31m---------------------------------------------------------------------------\u001B[0m",
      "\u001B[1;31mNameError\u001B[0m                                 Traceback (most recent call last)",
      "Cell \u001B[1;32mIn[173], line 1\u001B[0m\n\u001B[1;32m----> 1\u001B[0m contingency_table_12 \u001B[38;5;241m=\u001B[39m \u001B[43mpd\u001B[49m\u001B[38;5;241m.\u001B[39mcrosstab(index\u001B[38;5;241m=\u001B[39mAMB_PA[\u001B[38;5;124m'\u001B[39m\u001B[38;5;124mFibrosi pulmonar i fibrotòrax diagnosticades\u001B[39m\u001B[38;5;124m'\u001B[39m], columns\u001B[38;5;241m=\u001B[39mAMB_PA_MECVV[\u001B[38;5;124m'\u001B[39m\u001B[38;5;124mFibrosi pulmonar i fibrotòrax diagnosticades\u001B[39m\u001B[38;5;124m'\u001B[39m])\n\u001B[0;32m      3\u001B[0m chi2_12, p_value_12, dof_12, expected_12 \u001B[38;5;241m=\u001B[39m chi2_contingency(contingency_table_12)\n\u001B[0;32m      5\u001B[0m \u001B[38;5;28mprint\u001B[39m(\u001B[38;5;124m\"\u001B[39m\u001B[38;5;124mEstadístic xi-quadrat entre AMB_PA i AMB_PA_MECVV:\u001B[39m\u001B[38;5;124m\"\u001B[39m, chi2_12)\n",
      "\u001B[1;31mNameError\u001B[0m: name 'pd' is not defined"
     ]
    }
   ],
   "execution_count": 173
  },
  {
   "cell_type": "code",
   "source": [
    "contingency_table_13 = pd.crosstab(index=AMB_PA['Fibrosi pulmonar i fibrotòrax diagnosticades'], columns=SENSE_PA['Fibrosi pulmonar i fibrotòrax diagnosticades'])\n",
    "\n",
    "chi2_13, p_value_13, dof_13, expected_13 = chi2_contingency(contingency_table_13)\n",
    "\n",
    "print(\"Estadístic xi-quadrat entre AMB_PA i SENSE_PA:\", chi2_13)\n",
    "print(\"P-valor entre AMB_PA i SENSE_PA:\", p_value_13)\n",
    "\n",
    "if p_value_13 < 0.05:\n",
    "    print(\"Hi ha diferències significatives entre les distribucions de fibrosi pulmonar i fibrotòrax en AMB_PA i SENSE_PA.\")\n",
    "else:\n",
    "    print(\"No hi ha diferències significatives entre les distribucions de fibrosi pulmonar i fibrotòrax en AMB_PA i SENSE_PA.\")"
   ],
   "metadata": {
    "collapsed": false,
    "ExecuteTime": {
     "end_time": "2024-05-29T13:04:32.922418Z",
     "start_time": "2024-05-29T13:04:32.886318Z"
    }
   },
   "id": "4a21aebe4ee794d2",
   "outputs": [
    {
     "ename": "NameError",
     "evalue": "name 'pd' is not defined",
     "output_type": "error",
     "traceback": [
      "\u001B[1;31m---------------------------------------------------------------------------\u001B[0m",
      "\u001B[1;31mNameError\u001B[0m                                 Traceback (most recent call last)",
      "Cell \u001B[1;32mIn[174], line 1\u001B[0m\n\u001B[1;32m----> 1\u001B[0m contingency_table_13 \u001B[38;5;241m=\u001B[39m \u001B[43mpd\u001B[49m\u001B[38;5;241m.\u001B[39mcrosstab(index\u001B[38;5;241m=\u001B[39mAMB_PA[\u001B[38;5;124m'\u001B[39m\u001B[38;5;124mFibrosi pulmonar i fibrotòrax diagnosticades\u001B[39m\u001B[38;5;124m'\u001B[39m], columns\u001B[38;5;241m=\u001B[39mSENSE_PA[\u001B[38;5;124m'\u001B[39m\u001B[38;5;124mFibrosi pulmonar i fibrotòrax diagnosticades\u001B[39m\u001B[38;5;124m'\u001B[39m])\n\u001B[0;32m      3\u001B[0m chi2_13, p_value_13, dof_13, expected_13 \u001B[38;5;241m=\u001B[39m chi2_contingency(contingency_table_13)\n\u001B[0;32m      5\u001B[0m \u001B[38;5;28mprint\u001B[39m(\u001B[38;5;124m\"\u001B[39m\u001B[38;5;124mEstadístic xi-quadrat entre AMB_PA i SENSE_PA:\u001B[39m\u001B[38;5;124m\"\u001B[39m, chi2_13)\n",
      "\u001B[1;31mNameError\u001B[0m: name 'pd' is not defined"
     ]
    }
   ],
   "execution_count": 174
  },
  {
   "cell_type": "code",
   "source": [
    "contingency_table_23 = pd.crosstab(index=AMB_PA_MECVV['Fibrosi pulmonar i fibrotòrax diagnosticades'], columns=SENSE_PA['Fibrosi pulmonar i fibrotòrax diagnosticades'])\n",
    "\n",
    "chi2_23, p_value_23, dof_23, expected_23 = chi2_contingency(contingency_table_23)\n",
    "\n",
    "print(\"Estadístic xi-quadrat entre AMB_PA_MECVV i SENSE_PA:\", chi2_23)\n",
    "print(\"P-valor entre AMB_PA_MECVV i SENSE_PA:\", p_value_23)\n",
    "\n",
    "if p_value_23 < 0.05:\n",
    "    print(\"Hi ha diferències significatives entre les distribucions de fibrosi pulmonar i fibrotòrax en AMB_PA_MECVV i SENSE_PA.\")\n",
    "else:\n",
    "    print(\"No hi ha diferències significatives entre les distribucions de fibrosi pulmonar i fibrotòrax en AMB_PA_MECVV i SENSE_PA.\")"
   ],
   "metadata": {
    "collapsed": false,
    "ExecuteTime": {
     "end_time": "2024-05-29T13:04:33.494383Z",
     "start_time": "2024-05-29T13:04:33.470817Z"
    }
   },
   "id": "67849213dc559757",
   "outputs": [
    {
     "ename": "NameError",
     "evalue": "name 'pd' is not defined",
     "output_type": "error",
     "traceback": [
      "\u001B[1;31m---------------------------------------------------------------------------\u001B[0m",
      "\u001B[1;31mNameError\u001B[0m                                 Traceback (most recent call last)",
      "Cell \u001B[1;32mIn[175], line 1\u001B[0m\n\u001B[1;32m----> 1\u001B[0m contingency_table_23 \u001B[38;5;241m=\u001B[39m \u001B[43mpd\u001B[49m\u001B[38;5;241m.\u001B[39mcrosstab(index\u001B[38;5;241m=\u001B[39mAMB_PA_MECVV[\u001B[38;5;124m'\u001B[39m\u001B[38;5;124mFibrosi pulmonar i fibrotòrax diagnosticades\u001B[39m\u001B[38;5;124m'\u001B[39m], columns\u001B[38;5;241m=\u001B[39mSENSE_PA[\u001B[38;5;124m'\u001B[39m\u001B[38;5;124mFibrosi pulmonar i fibrotòrax diagnosticades\u001B[39m\u001B[38;5;124m'\u001B[39m])\n\u001B[0;32m      3\u001B[0m chi2_23, p_value_23, dof_23, expected_23 \u001B[38;5;241m=\u001B[39m chi2_contingency(contingency_table_23)\n\u001B[0;32m      5\u001B[0m \u001B[38;5;28mprint\u001B[39m(\u001B[38;5;124m\"\u001B[39m\u001B[38;5;124mEstadístic xi-quadrat entre AMB_PA_MECVV i SENSE_PA:\u001B[39m\u001B[38;5;124m\"\u001B[39m, chi2_23)\n",
      "\u001B[1;31mNameError\u001B[0m: name 'pd' is not defined"
     ]
    }
   ],
   "execution_count": 175
  },
  {
   "cell_type": "code",
   "source": [
    "contingency_table_14 = pd.crosstab(index=AMB_PA['Fibrosi pulmonar i fibrotòrax diagnosticades'], columns=TOTAL['Fibrosi pulmonar i fibrotòrax diagnosticades'])\n",
    "\n",
    "chi2_14, p_value_14, dof_14, expected_14 = chi2_contingency(contingency_table_14)\n",
    "\n",
    "print(\"Estadístic xi-quadrat entre AMB_PA i TOTAL:\", chi2_14)\n",
    "print(\"P-valor entre AMB_PA i TOTAL:\", p_value_14)\n",
    "\n",
    "if p_value_14 < 0.05:\n",
    "    print(\"Hi ha diferències significatives entre les distribucions de fibrosi pulmonar i fibrotòrax en AMB_PA i TOTAL.\")\n",
    "else:\n",
    "    print(\"No hi ha diferències significatives entre les distribucions de fibrosi pulmonar i fibrotòrax en AMB_PA i TOTAL.\")"
   ],
   "metadata": {
    "collapsed": false,
    "ExecuteTime": {
     "end_time": "2024-05-29T13:04:34.456989Z",
     "start_time": "2024-05-29T13:04:34.433614Z"
    }
   },
   "id": "e29e32492eed5af8",
   "outputs": [
    {
     "ename": "NameError",
     "evalue": "name 'pd' is not defined",
     "output_type": "error",
     "traceback": [
      "\u001B[1;31m---------------------------------------------------------------------------\u001B[0m",
      "\u001B[1;31mNameError\u001B[0m                                 Traceback (most recent call last)",
      "Cell \u001B[1;32mIn[176], line 1\u001B[0m\n\u001B[1;32m----> 1\u001B[0m contingency_table_14 \u001B[38;5;241m=\u001B[39m \u001B[43mpd\u001B[49m\u001B[38;5;241m.\u001B[39mcrosstab(index\u001B[38;5;241m=\u001B[39mAMB_PA[\u001B[38;5;124m'\u001B[39m\u001B[38;5;124mFibrosi pulmonar i fibrotòrax diagnosticades\u001B[39m\u001B[38;5;124m'\u001B[39m], columns\u001B[38;5;241m=\u001B[39mTOTAL[\u001B[38;5;124m'\u001B[39m\u001B[38;5;124mFibrosi pulmonar i fibrotòrax diagnosticades\u001B[39m\u001B[38;5;124m'\u001B[39m])\n\u001B[0;32m      3\u001B[0m chi2_14, p_value_14, dof_14, expected_14 \u001B[38;5;241m=\u001B[39m chi2_contingency(contingency_table_14)\n\u001B[0;32m      5\u001B[0m \u001B[38;5;28mprint\u001B[39m(\u001B[38;5;124m\"\u001B[39m\u001B[38;5;124mEstadístic xi-quadrat entre AMB_PA i TOTAL:\u001B[39m\u001B[38;5;124m\"\u001B[39m, chi2_14)\n",
      "\u001B[1;31mNameError\u001B[0m: name 'pd' is not defined"
     ]
    }
   ],
   "execution_count": 176
  },
  {
   "cell_type": "code",
   "source": [
    "contingency_table_24 = pd.crosstab(index=AMB_PA_MECVV['Fibrosi pulmonar i fibrotòrax diagnosticades'], columns=TOTAL['Fibrosi pulmonar i fibrotòrax diagnosticades'])\n",
    "\n",
    "chi2_24, p_value_24, dof_24, expected_24 = chi2_contingency(contingency_table_24)\n",
    "\n",
    "print(\"Estadístic xi-quadrat entre AMB_PA_MECVV i TOTAL:\", chi2_24)\n",
    "print(\"P-valor entre AMB_PA_MECVV i TOTAL:\", p_value_24)\n",
    "\n",
    "if p_value_24 < 0.05:\n",
    "    print(\"Hi ha diferències significatives entre les distribucions de fibrosi pulmonar i fibrotòrax en AMB_PA_MECVV i TOTAL.\")\n",
    "else:\n",
    "    print(\"No hi ha diferències significatives entre les distribucions de fibrosi pulmonar i fibrotòrax en AMB_PA_MECVV i TOTAL.\")"
   ],
   "metadata": {
    "collapsed": false,
    "ExecuteTime": {
     "end_time": "2024-05-29T13:04:35.375263Z",
     "start_time": "2024-05-29T13:04:35.348850Z"
    }
   },
   "id": "e996d214418c2000",
   "outputs": [
    {
     "ename": "NameError",
     "evalue": "name 'pd' is not defined",
     "output_type": "error",
     "traceback": [
      "\u001B[1;31m---------------------------------------------------------------------------\u001B[0m",
      "\u001B[1;31mNameError\u001B[0m                                 Traceback (most recent call last)",
      "Cell \u001B[1;32mIn[177], line 1\u001B[0m\n\u001B[1;32m----> 1\u001B[0m contingency_table_24 \u001B[38;5;241m=\u001B[39m \u001B[43mpd\u001B[49m\u001B[38;5;241m.\u001B[39mcrosstab(index\u001B[38;5;241m=\u001B[39mAMB_PA_MECVV[\u001B[38;5;124m'\u001B[39m\u001B[38;5;124mFibrosi pulmonar i fibrotòrax diagnosticades\u001B[39m\u001B[38;5;124m'\u001B[39m], columns\u001B[38;5;241m=\u001B[39mTOTAL[\u001B[38;5;124m'\u001B[39m\u001B[38;5;124mFibrosi pulmonar i fibrotòrax diagnosticades\u001B[39m\u001B[38;5;124m'\u001B[39m])\n\u001B[0;32m      3\u001B[0m chi2_24, p_value_24, dof_24, expected_24 \u001B[38;5;241m=\u001B[39m chi2_contingency(contingency_table_24)\n\u001B[0;32m      5\u001B[0m \u001B[38;5;28mprint\u001B[39m(\u001B[38;5;124m\"\u001B[39m\u001B[38;5;124mEstadístic xi-quadrat entre AMB_PA_MECVV i TOTAL:\u001B[39m\u001B[38;5;124m\"\u001B[39m, chi2_24)\n",
      "\u001B[1;31mNameError\u001B[0m: name 'pd' is not defined"
     ]
    }
   ],
   "execution_count": 177
  },
  {
   "cell_type": "code",
   "source": [
    "contingency_table_34 = pd.crosstab(index=SENSE_PA['Fibrosi pulmonar i fibrotòrax diagnosticades'], columns=TOTAL['Fibrosi pulmonar i fibrotòrax diagnosticades'])\n",
    "\n",
    "chi2_34, p_value_34, dof_34, expected_34 = chi2_contingency(contingency_table_34)\n",
    "\n",
    "print(\"Estadístic xi-quadrat entre SENSE_PA i TOTAL:\", chi2_34)\n",
    "print(\"P-valor entre SENSE_PA i TOTAL:\", p_value_34)\n",
    "\n",
    "if p_value_34 < 0.05:\n",
    "    print(\"Hi ha diferències significatives entre les distribucions de fibrosi pulmonar i fibrotòrax en SENSE_PA i TOTAL.\")\n",
    "else:\n",
    "    print(\"No hi ha diferències significatives entre les distribucions de fibrosi pulmonar i fibrotòrax en SENSE_PA i TOTAL.\")"
   ],
   "metadata": {
    "collapsed": false,
    "ExecuteTime": {
     "end_time": "2024-05-29T13:04:36.166804Z",
     "start_time": "2024-05-29T13:04:36.137353Z"
    }
   },
   "id": "1e2f197ed4909615",
   "outputs": [
    {
     "ename": "NameError",
     "evalue": "name 'pd' is not defined",
     "output_type": "error",
     "traceback": [
      "\u001B[1;31m---------------------------------------------------------------------------\u001B[0m",
      "\u001B[1;31mNameError\u001B[0m                                 Traceback (most recent call last)",
      "Cell \u001B[1;32mIn[178], line 1\u001B[0m\n\u001B[1;32m----> 1\u001B[0m contingency_table_34 \u001B[38;5;241m=\u001B[39m \u001B[43mpd\u001B[49m\u001B[38;5;241m.\u001B[39mcrosstab(index\u001B[38;5;241m=\u001B[39mSENSE_PA[\u001B[38;5;124m'\u001B[39m\u001B[38;5;124mFibrosi pulmonar i fibrotòrax diagnosticades\u001B[39m\u001B[38;5;124m'\u001B[39m], columns\u001B[38;5;241m=\u001B[39mTOTAL[\u001B[38;5;124m'\u001B[39m\u001B[38;5;124mFibrosi pulmonar i fibrotòrax diagnosticades\u001B[39m\u001B[38;5;124m'\u001B[39m])\n\u001B[0;32m      3\u001B[0m chi2_34, p_value_34, dof_34, expected_34 \u001B[38;5;241m=\u001B[39m chi2_contingency(contingency_table_34)\n\u001B[0;32m      5\u001B[0m \u001B[38;5;28mprint\u001B[39m(\u001B[38;5;124m\"\u001B[39m\u001B[38;5;124mEstadístic xi-quadrat entre SENSE_PA i TOTAL:\u001B[39m\u001B[38;5;124m\"\u001B[39m, chi2_34)\n",
      "\u001B[1;31mNameError\u001B[0m: name 'pd' is not defined"
     ]
    }
   ],
   "execution_count": 178
  },
  {
   "cell_type": "markdown",
   "source": [
    "## Resultats de laboratori"
   ],
   "metadata": {
    "collapsed": false
   },
   "id": "5a2961231a4a31fe"
  },
  {
   "cell_type": "markdown",
   "source": [
    "Les columnes generades a partir d'aquests resultats contenen valors tipus objecte, per tant, primer els transformaré a tipus numèric per poder realitzar les operacions que neccessitaré fer."
   ],
   "metadata": {
    "collapsed": false
   },
   "id": "f173a383d25aea1b"
  },
  {
   "cell_type": "markdown",
   "source": [
    "### Albúmina"
   ],
   "metadata": {
    "collapsed": false
   },
   "id": "5ec2d8edf2394b27"
  },
  {
   "cell_type": "code",
   "source": [
    "AMB_PA.loc[:, 'Albúmina'] = pd.to_numeric(AMB_PA['Albúmina'], errors='coerce').dropna()\n",
    "\n",
    "Mitjana_alb = AMB_PA['Albúmina'].mean()\n",
    "desviacio_estandard_alb = AMB_PA['Albúmina'].std()\n",
    "\n",
    "resultat = f\"{Mitjana_alb:.2f} ± {desviacio_estandard_alb:.2f}\"\n",
    "print(\"Mitjana ± Desviació Estàndard de l'albúmina:\", resultat)"
   ],
   "metadata": {
    "collapsed": false,
    "ExecuteTime": {
     "end_time": "2024-05-29T13:04:37.135916Z",
     "start_time": "2024-05-29T13:04:37.113648Z"
    }
   },
   "id": "a53e2e906c40b3f5",
   "outputs": [
    {
     "ename": "NameError",
     "evalue": "name 'pd' is not defined",
     "output_type": "error",
     "traceback": [
      "\u001B[1;31m---------------------------------------------------------------------------\u001B[0m",
      "\u001B[1;31mNameError\u001B[0m                                 Traceback (most recent call last)",
      "Cell \u001B[1;32mIn[179], line 1\u001B[0m\n\u001B[1;32m----> 1\u001B[0m AMB_PA\u001B[38;5;241m.\u001B[39mloc[:, \u001B[38;5;124m'\u001B[39m\u001B[38;5;124mAlbúmina\u001B[39m\u001B[38;5;124m'\u001B[39m] \u001B[38;5;241m=\u001B[39m \u001B[43mpd\u001B[49m\u001B[38;5;241m.\u001B[39mto_numeric(AMB_PA[\u001B[38;5;124m'\u001B[39m\u001B[38;5;124mAlbúmina\u001B[39m\u001B[38;5;124m'\u001B[39m], errors\u001B[38;5;241m=\u001B[39m\u001B[38;5;124m'\u001B[39m\u001B[38;5;124mcoerce\u001B[39m\u001B[38;5;124m'\u001B[39m)\u001B[38;5;241m.\u001B[39mdropna()\n\u001B[0;32m      3\u001B[0m Mitjana_alb \u001B[38;5;241m=\u001B[39m AMB_PA[\u001B[38;5;124m'\u001B[39m\u001B[38;5;124mAlbúmina\u001B[39m\u001B[38;5;124m'\u001B[39m]\u001B[38;5;241m.\u001B[39mmean()\n\u001B[0;32m      4\u001B[0m desviacio_estandard_alb \u001B[38;5;241m=\u001B[39m AMB_PA[\u001B[38;5;124m'\u001B[39m\u001B[38;5;124mAlbúmina\u001B[39m\u001B[38;5;124m'\u001B[39m]\u001B[38;5;241m.\u001B[39mstd()\n",
      "\u001B[1;31mNameError\u001B[0m: name 'pd' is not defined"
     ]
    }
   ],
   "execution_count": 179
  },
  {
   "cell_type": "code",
   "source": [
    "AMB_PA_MECVV.loc[:, 'Albúmina'] = pd.to_numeric(AMB_PA_MECVV['Albúmina'], errors='coerce').dropna()\n",
    "\n",
    "Mitjana_alb = AMB_PA_MECVV['Albúmina'].mean()\n",
    "desviacio_estandard_alb = AMB_PA_MECVV['Albúmina'].std()\n",
    "\n",
    "resultat = f\"{Mitjana_alb:.2f} ± {desviacio_estandard_alb:.2f}\"\n",
    "print(\"Mitjana ± Desviació Estàndard de l'albúmina:\", resultat)"
   ],
   "metadata": {
    "collapsed": false,
    "ExecuteTime": {
     "end_time": "2024-05-29T13:04:38.454959Z",
     "start_time": "2024-05-29T13:04:38.428299Z"
    }
   },
   "id": "65ca17d39b892acd",
   "outputs": [
    {
     "ename": "NameError",
     "evalue": "name 'pd' is not defined",
     "output_type": "error",
     "traceback": [
      "\u001B[1;31m---------------------------------------------------------------------------\u001B[0m",
      "\u001B[1;31mNameError\u001B[0m                                 Traceback (most recent call last)",
      "Cell \u001B[1;32mIn[180], line 1\u001B[0m\n\u001B[1;32m----> 1\u001B[0m AMB_PA_MECVV\u001B[38;5;241m.\u001B[39mloc[:, \u001B[38;5;124m'\u001B[39m\u001B[38;5;124mAlbúmina\u001B[39m\u001B[38;5;124m'\u001B[39m] \u001B[38;5;241m=\u001B[39m \u001B[43mpd\u001B[49m\u001B[38;5;241m.\u001B[39mto_numeric(AMB_PA_MECVV[\u001B[38;5;124m'\u001B[39m\u001B[38;5;124mAlbúmina\u001B[39m\u001B[38;5;124m'\u001B[39m], errors\u001B[38;5;241m=\u001B[39m\u001B[38;5;124m'\u001B[39m\u001B[38;5;124mcoerce\u001B[39m\u001B[38;5;124m'\u001B[39m)\u001B[38;5;241m.\u001B[39mdropna()\n\u001B[0;32m      3\u001B[0m Mitjana_alb \u001B[38;5;241m=\u001B[39m AMB_PA_MECVV[\u001B[38;5;124m'\u001B[39m\u001B[38;5;124mAlbúmina\u001B[39m\u001B[38;5;124m'\u001B[39m]\u001B[38;5;241m.\u001B[39mmean()\n\u001B[0;32m      4\u001B[0m desviacio_estandard_alb \u001B[38;5;241m=\u001B[39m AMB_PA_MECVV[\u001B[38;5;124m'\u001B[39m\u001B[38;5;124mAlbúmina\u001B[39m\u001B[38;5;124m'\u001B[39m]\u001B[38;5;241m.\u001B[39mstd()\n",
      "\u001B[1;31mNameError\u001B[0m: name 'pd' is not defined"
     ]
    }
   ],
   "execution_count": 180
  },
  {
   "cell_type": "code",
   "source": [
    "SENSE_PA.loc[:, 'Albúmina'] = pd.to_numeric(SENSE_PA['Albúmina'], errors='coerce').dropna()\n",
    "\n",
    "Mitjana_alb = SENSE_PA['Albúmina'].mean()\n",
    "desviacio_estandard_alb = SENSE_PA['Albúmina'].std()\n",
    "\n",
    "resultat = f\"{Mitjana_alb:.2f} ± {desviacio_estandard_alb:.2f}\"\n",
    "print(\"Mitjana ± Desviació Estàndard de l'albúmina:\", resultat)"
   ],
   "metadata": {
    "collapsed": false,
    "ExecuteTime": {
     "end_time": "2024-05-29T13:04:39.208867Z",
     "start_time": "2024-05-29T13:04:39.177780Z"
    }
   },
   "id": "2d79306fd1a45dca",
   "outputs": [
    {
     "ename": "NameError",
     "evalue": "name 'pd' is not defined",
     "output_type": "error",
     "traceback": [
      "\u001B[1;31m---------------------------------------------------------------------------\u001B[0m",
      "\u001B[1;31mNameError\u001B[0m                                 Traceback (most recent call last)",
      "Cell \u001B[1;32mIn[181], line 1\u001B[0m\n\u001B[1;32m----> 1\u001B[0m SENSE_PA\u001B[38;5;241m.\u001B[39mloc[:, \u001B[38;5;124m'\u001B[39m\u001B[38;5;124mAlbúmina\u001B[39m\u001B[38;5;124m'\u001B[39m] \u001B[38;5;241m=\u001B[39m \u001B[43mpd\u001B[49m\u001B[38;5;241m.\u001B[39mto_numeric(SENSE_PA[\u001B[38;5;124m'\u001B[39m\u001B[38;5;124mAlbúmina\u001B[39m\u001B[38;5;124m'\u001B[39m], errors\u001B[38;5;241m=\u001B[39m\u001B[38;5;124m'\u001B[39m\u001B[38;5;124mcoerce\u001B[39m\u001B[38;5;124m'\u001B[39m)\u001B[38;5;241m.\u001B[39mdropna()\n\u001B[0;32m      3\u001B[0m Mitjana_alb \u001B[38;5;241m=\u001B[39m SENSE_PA[\u001B[38;5;124m'\u001B[39m\u001B[38;5;124mAlbúmina\u001B[39m\u001B[38;5;124m'\u001B[39m]\u001B[38;5;241m.\u001B[39mmean()\n\u001B[0;32m      4\u001B[0m desviacio_estandard_alb \u001B[38;5;241m=\u001B[39m SENSE_PA[\u001B[38;5;124m'\u001B[39m\u001B[38;5;124mAlbúmina\u001B[39m\u001B[38;5;124m'\u001B[39m]\u001B[38;5;241m.\u001B[39mstd()\n",
      "\u001B[1;31mNameError\u001B[0m: name 'pd' is not defined"
     ]
    }
   ],
   "execution_count": 181
  },
  {
   "cell_type": "code",
   "source": [
    "TOTAL.loc[:, 'Albúmina'] = pd.to_numeric(TOTAL['Albúmina'], errors='coerce').dropna()\n",
    "\n",
    "Mitjana_alb = TOTAL['Albúmina'].mean()\n",
    "desviacio_estandard_alb = TOTAL['Albúmina'].std()\n",
    "\n",
    "resultat = f\"{Mitjana_alb:.2f} ± {desviacio_estandard_alb:.2f}\"\n",
    "print(\"Mitjana ± Desviació Estàndard de l'albúmina:\", resultat)"
   ],
   "metadata": {
    "collapsed": false,
    "ExecuteTime": {
     "end_time": "2024-05-29T13:04:40.060343Z",
     "start_time": "2024-05-29T13:04:40.024455Z"
    }
   },
   "id": "3ea5ad01e12a32cd",
   "outputs": [
    {
     "ename": "NameError",
     "evalue": "name 'pd' is not defined",
     "output_type": "error",
     "traceback": [
      "\u001B[1;31m---------------------------------------------------------------------------\u001B[0m",
      "\u001B[1;31mNameError\u001B[0m                                 Traceback (most recent call last)",
      "Cell \u001B[1;32mIn[182], line 1\u001B[0m\n\u001B[1;32m----> 1\u001B[0m TOTAL\u001B[38;5;241m.\u001B[39mloc[:, \u001B[38;5;124m'\u001B[39m\u001B[38;5;124mAlbúmina\u001B[39m\u001B[38;5;124m'\u001B[39m] \u001B[38;5;241m=\u001B[39m \u001B[43mpd\u001B[49m\u001B[38;5;241m.\u001B[39mto_numeric(TOTAL[\u001B[38;5;124m'\u001B[39m\u001B[38;5;124mAlbúmina\u001B[39m\u001B[38;5;124m'\u001B[39m], errors\u001B[38;5;241m=\u001B[39m\u001B[38;5;124m'\u001B[39m\u001B[38;5;124mcoerce\u001B[39m\u001B[38;5;124m'\u001B[39m)\u001B[38;5;241m.\u001B[39mdropna()\n\u001B[0;32m      3\u001B[0m Mitjana_alb \u001B[38;5;241m=\u001B[39m TOTAL[\u001B[38;5;124m'\u001B[39m\u001B[38;5;124mAlbúmina\u001B[39m\u001B[38;5;124m'\u001B[39m]\u001B[38;5;241m.\u001B[39mmean()\n\u001B[0;32m      4\u001B[0m desviacio_estandard_alb \u001B[38;5;241m=\u001B[39m TOTAL[\u001B[38;5;124m'\u001B[39m\u001B[38;5;124mAlbúmina\u001B[39m\u001B[38;5;124m'\u001B[39m]\u001B[38;5;241m.\u001B[39mstd()\n",
      "\u001B[1;31mNameError\u001B[0m: name 'pd' is not defined"
     ]
    }
   ],
   "execution_count": 182
  },
  {
   "cell_type": "markdown",
   "source": [
    "#### Comparació distributiva"
   ],
   "metadata": {
    "collapsed": false
   },
   "id": "3f439f95532c7db6"
  },
  {
   "cell_type": "markdown",
   "source": [
    "##### Normalitat i p-valor"
   ],
   "metadata": {
    "collapsed": false
   },
   "id": "e1e6c3dc49a98f9c"
  },
  {
   "cell_type": "markdown",
   "source": [
    "NORMALITAT: Els 4 grups segueixen una distribució normal"
   ],
   "metadata": {
    "collapsed": false
   },
   "id": "5a2696b186c7bf31"
  },
  {
   "cell_type": "code",
   "source": [
    "t_stat_12, p_val_12 = ttest_ind(AMB_PA['Albúmina'], AMB_PA_MECVV['Albúmina'], equal_var=False)\n",
    "print(\"P-valor entre AMB_PA i AMB_PA_MECVV:\", p_val_12)"
   ],
   "metadata": {
    "collapsed": false,
    "ExecuteTime": {
     "end_time": "2024-05-29T13:04:40.825792Z",
     "start_time": "2024-05-29T13:04:40.804767Z"
    }
   },
   "id": "81917012d437c315",
   "outputs": [
    {
     "ename": "NameError",
     "evalue": "name 'ttest_ind' is not defined",
     "output_type": "error",
     "traceback": [
      "\u001B[1;31m---------------------------------------------------------------------------\u001B[0m",
      "\u001B[1;31mNameError\u001B[0m                                 Traceback (most recent call last)",
      "Cell \u001B[1;32mIn[183], line 1\u001B[0m\n\u001B[1;32m----> 1\u001B[0m t_stat_12, p_val_12 \u001B[38;5;241m=\u001B[39m \u001B[43mttest_ind\u001B[49m(AMB_PA[\u001B[38;5;124m'\u001B[39m\u001B[38;5;124mAlbúmina\u001B[39m\u001B[38;5;124m'\u001B[39m], AMB_PA_MECVV[\u001B[38;5;124m'\u001B[39m\u001B[38;5;124mAlbúmina\u001B[39m\u001B[38;5;124m'\u001B[39m], equal_var\u001B[38;5;241m=\u001B[39m\u001B[38;5;28;01mFalse\u001B[39;00m)\n\u001B[0;32m      2\u001B[0m \u001B[38;5;28mprint\u001B[39m(\u001B[38;5;124m\"\u001B[39m\u001B[38;5;124mP-valor entre AMB_PA i AMB_PA_MECVV:\u001B[39m\u001B[38;5;124m\"\u001B[39m, p_val_12)\n",
      "\u001B[1;31mNameError\u001B[0m: name 'ttest_ind' is not defined"
     ]
    }
   ],
   "execution_count": 183
  },
  {
   "cell_type": "code",
   "source": [
    "t_stat_13, p_val_13 = ttest_ind(AMB_PA['Albúmina'], SENSE_PA['Albúmina'], equal_var=False)\n",
    "print(\"P-valor entre AMB_PA i SENSE_PA:\", p_val_13)"
   ],
   "metadata": {
    "collapsed": false,
    "ExecuteTime": {
     "end_time": "2024-05-29T13:04:41.480071Z",
     "start_time": "2024-05-29T13:04:41.457482Z"
    }
   },
   "id": "755c59751df0a643",
   "outputs": [
    {
     "ename": "NameError",
     "evalue": "name 'ttest_ind' is not defined",
     "output_type": "error",
     "traceback": [
      "\u001B[1;31m---------------------------------------------------------------------------\u001B[0m",
      "\u001B[1;31mNameError\u001B[0m                                 Traceback (most recent call last)",
      "Cell \u001B[1;32mIn[184], line 1\u001B[0m\n\u001B[1;32m----> 1\u001B[0m t_stat_13, p_val_13 \u001B[38;5;241m=\u001B[39m \u001B[43mttest_ind\u001B[49m(AMB_PA[\u001B[38;5;124m'\u001B[39m\u001B[38;5;124mAlbúmina\u001B[39m\u001B[38;5;124m'\u001B[39m], SENSE_PA[\u001B[38;5;124m'\u001B[39m\u001B[38;5;124mAlbúmina\u001B[39m\u001B[38;5;124m'\u001B[39m], equal_var\u001B[38;5;241m=\u001B[39m\u001B[38;5;28;01mFalse\u001B[39;00m)\n\u001B[0;32m      2\u001B[0m \u001B[38;5;28mprint\u001B[39m(\u001B[38;5;124m\"\u001B[39m\u001B[38;5;124mP-valor entre AMB_PA i SENSE_PA:\u001B[39m\u001B[38;5;124m\"\u001B[39m, p_val_13)\n",
      "\u001B[1;31mNameError\u001B[0m: name 'ttest_ind' is not defined"
     ]
    }
   ],
   "execution_count": 184
  },
  {
   "cell_type": "code",
   "source": [
    "t_stat_23, p_val_23 = ttest_ind(AMB_PA_MECVV['Albúmina'], SENSE_PA['Albúmina'], equal_var=False)\n",
    "print(\"P-valor entre AMB_PA_MECVV i SENSE_PA:\", p_val_23)"
   ],
   "metadata": {
    "collapsed": false,
    "ExecuteTime": {
     "end_time": "2024-05-29T13:04:42.391036Z",
     "start_time": "2024-05-29T13:04:42.369637Z"
    }
   },
   "id": "2671c40abe43f177",
   "outputs": [
    {
     "ename": "NameError",
     "evalue": "name 'ttest_ind' is not defined",
     "output_type": "error",
     "traceback": [
      "\u001B[1;31m---------------------------------------------------------------------------\u001B[0m",
      "\u001B[1;31mNameError\u001B[0m                                 Traceback (most recent call last)",
      "Cell \u001B[1;32mIn[185], line 1\u001B[0m\n\u001B[1;32m----> 1\u001B[0m t_stat_23, p_val_23 \u001B[38;5;241m=\u001B[39m \u001B[43mttest_ind\u001B[49m(AMB_PA_MECVV[\u001B[38;5;124m'\u001B[39m\u001B[38;5;124mAlbúmina\u001B[39m\u001B[38;5;124m'\u001B[39m], SENSE_PA[\u001B[38;5;124m'\u001B[39m\u001B[38;5;124mAlbúmina\u001B[39m\u001B[38;5;124m'\u001B[39m], equal_var\u001B[38;5;241m=\u001B[39m\u001B[38;5;28;01mFalse\u001B[39;00m)\n\u001B[0;32m      2\u001B[0m \u001B[38;5;28mprint\u001B[39m(\u001B[38;5;124m\"\u001B[39m\u001B[38;5;124mP-valor entre AMB_PA_MECVV i SENSE_PA:\u001B[39m\u001B[38;5;124m\"\u001B[39m, p_val_23)\n",
      "\u001B[1;31mNameError\u001B[0m: name 'ttest_ind' is not defined"
     ]
    }
   ],
   "execution_count": 185
  },
  {
   "cell_type": "code",
   "source": [
    "t_stat_14, p_val_14 = ttest_ind(AMB_PA['Albúmina'], TOTAL['Albúmina'], equal_var=False)\n",
    "print(\"P-valor entre AMB_PA i TOTAL:\", p_val_14)"
   ],
   "metadata": {
    "collapsed": false,
    "ExecuteTime": {
     "end_time": "2024-05-29T13:04:43.143844Z",
     "start_time": "2024-05-29T13:04:43.113827Z"
    }
   },
   "id": "1f67c17837e49768",
   "outputs": [
    {
     "ename": "NameError",
     "evalue": "name 'ttest_ind' is not defined",
     "output_type": "error",
     "traceback": [
      "\u001B[1;31m---------------------------------------------------------------------------\u001B[0m",
      "\u001B[1;31mNameError\u001B[0m                                 Traceback (most recent call last)",
      "Cell \u001B[1;32mIn[186], line 1\u001B[0m\n\u001B[1;32m----> 1\u001B[0m t_stat_14, p_val_14 \u001B[38;5;241m=\u001B[39m \u001B[43mttest_ind\u001B[49m(AMB_PA[\u001B[38;5;124m'\u001B[39m\u001B[38;5;124mAlbúmina\u001B[39m\u001B[38;5;124m'\u001B[39m], TOTAL[\u001B[38;5;124m'\u001B[39m\u001B[38;5;124mAlbúmina\u001B[39m\u001B[38;5;124m'\u001B[39m], equal_var\u001B[38;5;241m=\u001B[39m\u001B[38;5;28;01mFalse\u001B[39;00m)\n\u001B[0;32m      2\u001B[0m \u001B[38;5;28mprint\u001B[39m(\u001B[38;5;124m\"\u001B[39m\u001B[38;5;124mP-valor entre AMB_PA i TOTAL:\u001B[39m\u001B[38;5;124m\"\u001B[39m, p_val_14)\n",
      "\u001B[1;31mNameError\u001B[0m: name 'ttest_ind' is not defined"
     ]
    }
   ],
   "execution_count": 186
  },
  {
   "cell_type": "code",
   "source": [
    "t_stat_24, p_val_24 = ttest_ind(AMB_PA_MECVV['Albúmina'], TOTAL['Albúmina'], equal_var=False)\n",
    "print(\"P-valor entre AMB_PA_MECVV i TOTAL:\", p_val_24)"
   ],
   "metadata": {
    "collapsed": false,
    "ExecuteTime": {
     "end_time": "2024-05-29T13:04:44.319575Z",
     "start_time": "2024-05-29T13:04:44.293312Z"
    }
   },
   "id": "429af44a29dbf7cd",
   "outputs": [
    {
     "ename": "NameError",
     "evalue": "name 'ttest_ind' is not defined",
     "output_type": "error",
     "traceback": [
      "\u001B[1;31m---------------------------------------------------------------------------\u001B[0m",
      "\u001B[1;31mNameError\u001B[0m                                 Traceback (most recent call last)",
      "Cell \u001B[1;32mIn[187], line 1\u001B[0m\n\u001B[1;32m----> 1\u001B[0m t_stat_24, p_val_24 \u001B[38;5;241m=\u001B[39m \u001B[43mttest_ind\u001B[49m(AMB_PA_MECVV[\u001B[38;5;124m'\u001B[39m\u001B[38;5;124mAlbúmina\u001B[39m\u001B[38;5;124m'\u001B[39m], TOTAL[\u001B[38;5;124m'\u001B[39m\u001B[38;5;124mAlbúmina\u001B[39m\u001B[38;5;124m'\u001B[39m], equal_var\u001B[38;5;241m=\u001B[39m\u001B[38;5;28;01mFalse\u001B[39;00m)\n\u001B[0;32m      2\u001B[0m \u001B[38;5;28mprint\u001B[39m(\u001B[38;5;124m\"\u001B[39m\u001B[38;5;124mP-valor entre AMB_PA_MECVV i TOTAL:\u001B[39m\u001B[38;5;124m\"\u001B[39m, p_val_24)\n",
      "\u001B[1;31mNameError\u001B[0m: name 'ttest_ind' is not defined"
     ]
    }
   ],
   "execution_count": 187
  },
  {
   "cell_type": "code",
   "source": [
    "t_stat_34, p_val_14 = ttest_ind(SENSE_PA['Albúmina'], TOTAL['Albúmina'], equal_var=False)\n",
    "print(\"P-valor entre SENSE_PA i TOTAL:\", p_val_34)"
   ],
   "metadata": {
    "collapsed": false,
    "ExecuteTime": {
     "end_time": "2024-05-29T13:04:45.279844Z",
     "start_time": "2024-05-29T13:04:45.258691Z"
    }
   },
   "id": "a9ea7054a419117",
   "outputs": [
    {
     "ename": "NameError",
     "evalue": "name 'ttest_ind' is not defined",
     "output_type": "error",
     "traceback": [
      "\u001B[1;31m---------------------------------------------------------------------------\u001B[0m",
      "\u001B[1;31mNameError\u001B[0m                                 Traceback (most recent call last)",
      "Cell \u001B[1;32mIn[188], line 1\u001B[0m\n\u001B[1;32m----> 1\u001B[0m t_stat_34, p_val_14 \u001B[38;5;241m=\u001B[39m \u001B[43mttest_ind\u001B[49m(SENSE_PA[\u001B[38;5;124m'\u001B[39m\u001B[38;5;124mAlbúmina\u001B[39m\u001B[38;5;124m'\u001B[39m], TOTAL[\u001B[38;5;124m'\u001B[39m\u001B[38;5;124mAlbúmina\u001B[39m\u001B[38;5;124m'\u001B[39m], equal_var\u001B[38;5;241m=\u001B[39m\u001B[38;5;28;01mFalse\u001B[39;00m)\n\u001B[0;32m      2\u001B[0m \u001B[38;5;28mprint\u001B[39m(\u001B[38;5;124m\"\u001B[39m\u001B[38;5;124mP-valor entre SENSE_PA i TOTAL:\u001B[39m\u001B[38;5;124m\"\u001B[39m, p_val_34)\n",
      "\u001B[1;31mNameError\u001B[0m: name 'ttest_ind' is not defined"
     ]
    }
   ],
   "execution_count": 188
  },
  {
   "cell_type": "markdown",
   "source": [
    "### Proteïnes totals"
   ],
   "metadata": {
    "collapsed": false
   },
   "id": "e04a3845d5bbe702"
  },
  {
   "cell_type": "code",
   "source": [
    "AMB_PA.loc[:, 'Proteïnes totals'] = pd.to_numeric(AMB_PA['Proteïnes totals'], errors='coerce')\n",
    "\n",
    "Mitjana_prot = AMB_PA['Proteïnes totals'].mean()\n",
    "desviacio_estandard_prot = AMB_PA['Proteïnes totals'].std()\n",
    "\n",
    "resultat = f\"{Mitjana_prot:.2f} ± {desviacio_estandard_prot:.2f}\"\n",
    "print(\"Mitjana ± Desviació Estàndard de les proteïnes totals:\", resultat)"
   ],
   "metadata": {
    "collapsed": false,
    "ExecuteTime": {
     "end_time": "2024-05-29T13:04:45.874176Z",
     "start_time": "2024-05-29T13:04:45.848531Z"
    }
   },
   "id": "d813492190913141",
   "outputs": [
    {
     "ename": "NameError",
     "evalue": "name 'pd' is not defined",
     "output_type": "error",
     "traceback": [
      "\u001B[1;31m---------------------------------------------------------------------------\u001B[0m",
      "\u001B[1;31mNameError\u001B[0m                                 Traceback (most recent call last)",
      "Cell \u001B[1;32mIn[189], line 1\u001B[0m\n\u001B[1;32m----> 1\u001B[0m AMB_PA\u001B[38;5;241m.\u001B[39mloc[:, \u001B[38;5;124m'\u001B[39m\u001B[38;5;124mProteïnes totals\u001B[39m\u001B[38;5;124m'\u001B[39m] \u001B[38;5;241m=\u001B[39m \u001B[43mpd\u001B[49m\u001B[38;5;241m.\u001B[39mto_numeric(AMB_PA[\u001B[38;5;124m'\u001B[39m\u001B[38;5;124mProteïnes totals\u001B[39m\u001B[38;5;124m'\u001B[39m], errors\u001B[38;5;241m=\u001B[39m\u001B[38;5;124m'\u001B[39m\u001B[38;5;124mcoerce\u001B[39m\u001B[38;5;124m'\u001B[39m)\n\u001B[0;32m      3\u001B[0m Mitjana_prot \u001B[38;5;241m=\u001B[39m AMB_PA[\u001B[38;5;124m'\u001B[39m\u001B[38;5;124mProteïnes totals\u001B[39m\u001B[38;5;124m'\u001B[39m]\u001B[38;5;241m.\u001B[39mmean()\n\u001B[0;32m      4\u001B[0m desviacio_estandard_prot \u001B[38;5;241m=\u001B[39m AMB_PA[\u001B[38;5;124m'\u001B[39m\u001B[38;5;124mProteïnes totals\u001B[39m\u001B[38;5;124m'\u001B[39m]\u001B[38;5;241m.\u001B[39mstd()\n",
      "\u001B[1;31mNameError\u001B[0m: name 'pd' is not defined"
     ]
    }
   ],
   "execution_count": 189
  },
  {
   "cell_type": "code",
   "source": [
    "AMB_PA_MECVV.loc[:, 'Proteïnes totals'] = pd.to_numeric(AMB_PA_MECVV['Proteïnes totals'], errors='coerce')\n",
    "\n",
    "Mitjana_prot = AMB_PA_MECVV['Proteïnes totals'].mean()\n",
    "desviacio_estandard_prot = AMB_PA_MECVV['Proteïnes totals'].std()\n",
    "\n",
    "resultat = f\"{Mitjana_prot:.2f} ± {desviacio_estandard_prot:.2f}\"\n",
    "print(\"Mitjana ± Desviació Estàndard de les proteïnes totals:\", resultat)"
   ],
   "metadata": {
    "collapsed": false,
    "ExecuteTime": {
     "end_time": "2024-05-29T13:04:46.856930Z",
     "start_time": "2024-05-29T13:04:46.780391Z"
    }
   },
   "id": "d4184f66298659e5",
   "outputs": [
    {
     "ename": "NameError",
     "evalue": "name 'pd' is not defined",
     "output_type": "error",
     "traceback": [
      "\u001B[1;31m---------------------------------------------------------------------------\u001B[0m",
      "\u001B[1;31mNameError\u001B[0m                                 Traceback (most recent call last)",
      "Cell \u001B[1;32mIn[190], line 1\u001B[0m\n\u001B[1;32m----> 1\u001B[0m AMB_PA_MECVV\u001B[38;5;241m.\u001B[39mloc[:, \u001B[38;5;124m'\u001B[39m\u001B[38;5;124mProteïnes totals\u001B[39m\u001B[38;5;124m'\u001B[39m] \u001B[38;5;241m=\u001B[39m \u001B[43mpd\u001B[49m\u001B[38;5;241m.\u001B[39mto_numeric(AMB_PA_MECVV[\u001B[38;5;124m'\u001B[39m\u001B[38;5;124mProteïnes totals\u001B[39m\u001B[38;5;124m'\u001B[39m], errors\u001B[38;5;241m=\u001B[39m\u001B[38;5;124m'\u001B[39m\u001B[38;5;124mcoerce\u001B[39m\u001B[38;5;124m'\u001B[39m)\n\u001B[0;32m      3\u001B[0m Mitjana_prot \u001B[38;5;241m=\u001B[39m AMB_PA_MECVV[\u001B[38;5;124m'\u001B[39m\u001B[38;5;124mProteïnes totals\u001B[39m\u001B[38;5;124m'\u001B[39m]\u001B[38;5;241m.\u001B[39mmean()\n\u001B[0;32m      4\u001B[0m desviacio_estandard_prot \u001B[38;5;241m=\u001B[39m AMB_PA_MECVV[\u001B[38;5;124m'\u001B[39m\u001B[38;5;124mProteïnes totals\u001B[39m\u001B[38;5;124m'\u001B[39m]\u001B[38;5;241m.\u001B[39mstd()\n",
      "\u001B[1;31mNameError\u001B[0m: name 'pd' is not defined"
     ]
    }
   ],
   "execution_count": 190
  },
  {
   "cell_type": "code",
   "source": [
    "SENSE_PA.loc[:, 'Proteïnes totals'] = pd.to_numeric(SENSE_PA['Proteïnes totals'], errors='coerce')\n",
    "\n",
    "Mitjana_prot = SENSE_PA['Proteïnes totals'].mean()\n",
    "desviacio_estandard_prot = SENSE_PA['Proteïnes totals'].std()\n",
    "\n",
    "resultat = f\"{Mitjana_prot:.2f} ± {desviacio_estandard_prot:.2f}\"\n",
    "print(\"Mitjana ± Desviació Estàndard de les proteïnes totals:\", resultat)"
   ],
   "metadata": {
    "collapsed": false,
    "ExecuteTime": {
     "end_time": "2024-05-29T13:04:47.750707Z",
     "start_time": "2024-05-29T13:04:47.730314Z"
    }
   },
   "id": "a0173e5d2d07409d",
   "outputs": [
    {
     "ename": "NameError",
     "evalue": "name 'pd' is not defined",
     "output_type": "error",
     "traceback": [
      "\u001B[1;31m---------------------------------------------------------------------------\u001B[0m",
      "\u001B[1;31mNameError\u001B[0m                                 Traceback (most recent call last)",
      "Cell \u001B[1;32mIn[191], line 1\u001B[0m\n\u001B[1;32m----> 1\u001B[0m SENSE_PA\u001B[38;5;241m.\u001B[39mloc[:, \u001B[38;5;124m'\u001B[39m\u001B[38;5;124mProteïnes totals\u001B[39m\u001B[38;5;124m'\u001B[39m] \u001B[38;5;241m=\u001B[39m \u001B[43mpd\u001B[49m\u001B[38;5;241m.\u001B[39mto_numeric(SENSE_PA[\u001B[38;5;124m'\u001B[39m\u001B[38;5;124mProteïnes totals\u001B[39m\u001B[38;5;124m'\u001B[39m], errors\u001B[38;5;241m=\u001B[39m\u001B[38;5;124m'\u001B[39m\u001B[38;5;124mcoerce\u001B[39m\u001B[38;5;124m'\u001B[39m)\n\u001B[0;32m      3\u001B[0m Mitjana_prot \u001B[38;5;241m=\u001B[39m SENSE_PA[\u001B[38;5;124m'\u001B[39m\u001B[38;5;124mProteïnes totals\u001B[39m\u001B[38;5;124m'\u001B[39m]\u001B[38;5;241m.\u001B[39mmean()\n\u001B[0;32m      4\u001B[0m desviacio_estandard_prot \u001B[38;5;241m=\u001B[39m SENSE_PA[\u001B[38;5;124m'\u001B[39m\u001B[38;5;124mProteïnes totals\u001B[39m\u001B[38;5;124m'\u001B[39m]\u001B[38;5;241m.\u001B[39mstd()\n",
      "\u001B[1;31mNameError\u001B[0m: name 'pd' is not defined"
     ]
    }
   ],
   "execution_count": 191
  },
  {
   "cell_type": "code",
   "source": [
    "TOTAL.loc[:, 'Proteïnes totals'] = pd.to_numeric(TOTAL['Proteïnes totals'], errors='coerce')\n",
    "\n",
    "Mitjana_prot = TOTAL['Proteïnes totals'].mean()\n",
    "desviacio_estandard_prot = TOTAL['Proteïnes totals'].std()\n",
    "\n",
    "resultat = f\"{Mitjana_prot:.2f} ± {desviacio_estandard_prot:.2f}\"\n",
    "print(\"Mitjana ± Desviació Estàndard de les proteïnes totals:\", resultat)"
   ],
   "metadata": {
    "collapsed": false,
    "ExecuteTime": {
     "end_time": "2024-05-29T13:04:48.334024Z",
     "start_time": "2024-05-29T13:04:48.310562Z"
    }
   },
   "id": "3987af7ade8b3edb",
   "outputs": [
    {
     "ename": "NameError",
     "evalue": "name 'pd' is not defined",
     "output_type": "error",
     "traceback": [
      "\u001B[1;31m---------------------------------------------------------------------------\u001B[0m",
      "\u001B[1;31mNameError\u001B[0m                                 Traceback (most recent call last)",
      "Cell \u001B[1;32mIn[192], line 1\u001B[0m\n\u001B[1;32m----> 1\u001B[0m TOTAL\u001B[38;5;241m.\u001B[39mloc[:, \u001B[38;5;124m'\u001B[39m\u001B[38;5;124mProteïnes totals\u001B[39m\u001B[38;5;124m'\u001B[39m] \u001B[38;5;241m=\u001B[39m \u001B[43mpd\u001B[49m\u001B[38;5;241m.\u001B[39mto_numeric(TOTAL[\u001B[38;5;124m'\u001B[39m\u001B[38;5;124mProteïnes totals\u001B[39m\u001B[38;5;124m'\u001B[39m], errors\u001B[38;5;241m=\u001B[39m\u001B[38;5;124m'\u001B[39m\u001B[38;5;124mcoerce\u001B[39m\u001B[38;5;124m'\u001B[39m)\n\u001B[0;32m      3\u001B[0m Mitjana_prot \u001B[38;5;241m=\u001B[39m TOTAL[\u001B[38;5;124m'\u001B[39m\u001B[38;5;124mProteïnes totals\u001B[39m\u001B[38;5;124m'\u001B[39m]\u001B[38;5;241m.\u001B[39mmean()\n\u001B[0;32m      4\u001B[0m desviacio_estandard_prot \u001B[38;5;241m=\u001B[39m TOTAL[\u001B[38;5;124m'\u001B[39m\u001B[38;5;124mProteïnes totals\u001B[39m\u001B[38;5;124m'\u001B[39m]\u001B[38;5;241m.\u001B[39mstd()\n",
      "\u001B[1;31mNameError\u001B[0m: name 'pd' is not defined"
     ]
    }
   ],
   "execution_count": 192
  },
  {
   "cell_type": "markdown",
   "source": [
    "#### Comparació distributiva"
   ],
   "metadata": {
    "collapsed": false
   },
   "id": "e91b989932420350"
  },
  {
   "cell_type": "markdown",
   "source": [
    "##### Normalitat i p-valor"
   ],
   "metadata": {
    "collapsed": false
   },
   "id": "2211d726c57044b6"
  },
  {
   "cell_type": "markdown",
   "source": [
    "NORMALITAT: Els 4 grups segueixen una distribució normal"
   ],
   "metadata": {
    "collapsed": false
   },
   "id": "2e4ced8ebebba5e3"
  },
  {
   "cell_type": "code",
   "source": [
    "t_stat_12, p_val_12 = ttest_ind(AMB_PA['Proteïnes totals'], AMB_PA_MECVV['Proteïnes totals'], equal_var=False)\n",
    "print(\"P-valor entre AMB_PA i AMB_PA_MECVV:\", p_val_12)"
   ],
   "metadata": {
    "collapsed": false,
    "ExecuteTime": {
     "end_time": "2024-05-29T13:04:49.113742Z",
     "start_time": "2024-05-29T13:04:49.092175Z"
    }
   },
   "id": "7719d8e3c01d1889",
   "outputs": [
    {
     "ename": "NameError",
     "evalue": "name 'ttest_ind' is not defined",
     "output_type": "error",
     "traceback": [
      "\u001B[1;31m---------------------------------------------------------------------------\u001B[0m",
      "\u001B[1;31mNameError\u001B[0m                                 Traceback (most recent call last)",
      "Cell \u001B[1;32mIn[193], line 1\u001B[0m\n\u001B[1;32m----> 1\u001B[0m t_stat_12, p_val_12 \u001B[38;5;241m=\u001B[39m \u001B[43mttest_ind\u001B[49m(AMB_PA[\u001B[38;5;124m'\u001B[39m\u001B[38;5;124mProteïnes totals\u001B[39m\u001B[38;5;124m'\u001B[39m], AMB_PA_MECVV[\u001B[38;5;124m'\u001B[39m\u001B[38;5;124mProteïnes totals\u001B[39m\u001B[38;5;124m'\u001B[39m], equal_var\u001B[38;5;241m=\u001B[39m\u001B[38;5;28;01mFalse\u001B[39;00m)\n\u001B[0;32m      2\u001B[0m \u001B[38;5;28mprint\u001B[39m(\u001B[38;5;124m\"\u001B[39m\u001B[38;5;124mP-valor entre AMB_PA i AMB_PA_MECVV:\u001B[39m\u001B[38;5;124m\"\u001B[39m, p_val_12)\n",
      "\u001B[1;31mNameError\u001B[0m: name 'ttest_ind' is not defined"
     ]
    }
   ],
   "execution_count": 193
  },
  {
   "cell_type": "code",
   "source": [
    "t_stat_13, p_val_13 = ttest_ind(AMB_PA['Proteïnes totals'], SENSE_PA['Proteïnes totals'], equal_var=False)\n",
    "print(\"P-valor entre AMB_PA i SENSE_PA:\", p_val_13)"
   ],
   "metadata": {
    "collapsed": false,
    "ExecuteTime": {
     "end_time": "2024-05-29T13:04:49.849939Z",
     "start_time": "2024-05-29T13:04:49.829309Z"
    }
   },
   "id": "2fb51042ad660318",
   "outputs": [
    {
     "ename": "NameError",
     "evalue": "name 'ttest_ind' is not defined",
     "output_type": "error",
     "traceback": [
      "\u001B[1;31m---------------------------------------------------------------------------\u001B[0m",
      "\u001B[1;31mNameError\u001B[0m                                 Traceback (most recent call last)",
      "Cell \u001B[1;32mIn[194], line 1\u001B[0m\n\u001B[1;32m----> 1\u001B[0m t_stat_13, p_val_13 \u001B[38;5;241m=\u001B[39m \u001B[43mttest_ind\u001B[49m(AMB_PA[\u001B[38;5;124m'\u001B[39m\u001B[38;5;124mProteïnes totals\u001B[39m\u001B[38;5;124m'\u001B[39m], SENSE_PA[\u001B[38;5;124m'\u001B[39m\u001B[38;5;124mProteïnes totals\u001B[39m\u001B[38;5;124m'\u001B[39m], equal_var\u001B[38;5;241m=\u001B[39m\u001B[38;5;28;01mFalse\u001B[39;00m)\n\u001B[0;32m      2\u001B[0m \u001B[38;5;28mprint\u001B[39m(\u001B[38;5;124m\"\u001B[39m\u001B[38;5;124mP-valor entre AMB_PA i SENSE_PA:\u001B[39m\u001B[38;5;124m\"\u001B[39m, p_val_13)\n",
      "\u001B[1;31mNameError\u001B[0m: name 'ttest_ind' is not defined"
     ]
    }
   ],
   "execution_count": 194
  },
  {
   "cell_type": "code",
   "source": [
    "t_stat_23, p_val_23 = ttest_ind(AMB_PA_MECVV['Proteïnes totals'], SENSE_PA['Proteïnes totals'], equal_var=False)\n",
    "print(\"P-valor entre AMB_PA_MECVV i SENSE_PA:\", p_val_23)"
   ],
   "metadata": {
    "collapsed": false,
    "ExecuteTime": {
     "end_time": "2024-05-29T13:04:50.903867Z",
     "start_time": "2024-05-29T13:04:50.880738Z"
    }
   },
   "id": "2c0a100b8ab088f9",
   "outputs": [
    {
     "ename": "NameError",
     "evalue": "name 'ttest_ind' is not defined",
     "output_type": "error",
     "traceback": [
      "\u001B[1;31m---------------------------------------------------------------------------\u001B[0m",
      "\u001B[1;31mNameError\u001B[0m                                 Traceback (most recent call last)",
      "Cell \u001B[1;32mIn[195], line 1\u001B[0m\n\u001B[1;32m----> 1\u001B[0m t_stat_23, p_val_23 \u001B[38;5;241m=\u001B[39m \u001B[43mttest_ind\u001B[49m(AMB_PA_MECVV[\u001B[38;5;124m'\u001B[39m\u001B[38;5;124mProteïnes totals\u001B[39m\u001B[38;5;124m'\u001B[39m], SENSE_PA[\u001B[38;5;124m'\u001B[39m\u001B[38;5;124mProteïnes totals\u001B[39m\u001B[38;5;124m'\u001B[39m], equal_var\u001B[38;5;241m=\u001B[39m\u001B[38;5;28;01mFalse\u001B[39;00m)\n\u001B[0;32m      2\u001B[0m \u001B[38;5;28mprint\u001B[39m(\u001B[38;5;124m\"\u001B[39m\u001B[38;5;124mP-valor entre AMB_PA_MECVV i SENSE_PA:\u001B[39m\u001B[38;5;124m\"\u001B[39m, p_val_23)\n",
      "\u001B[1;31mNameError\u001B[0m: name 'ttest_ind' is not defined"
     ]
    }
   ],
   "execution_count": 195
  },
  {
   "cell_type": "code",
   "source": [
    "t_stat_14, p_val_14 = ttest_ind(AMB_PA['Proteïnes totals'], TOTAL['Proteïnes totals'], equal_var=False)\n",
    "print(\"P-valor entre AMB_PA i TOTAL:\", p_val_14)"
   ],
   "metadata": {
    "collapsed": false,
    "ExecuteTime": {
     "end_time": "2024-05-29T13:04:51.810724Z",
     "start_time": "2024-05-29T13:04:51.788244Z"
    }
   },
   "id": "b0adb470407faa2a",
   "outputs": [
    {
     "ename": "NameError",
     "evalue": "name 'ttest_ind' is not defined",
     "output_type": "error",
     "traceback": [
      "\u001B[1;31m---------------------------------------------------------------------------\u001B[0m",
      "\u001B[1;31mNameError\u001B[0m                                 Traceback (most recent call last)",
      "Cell \u001B[1;32mIn[196], line 1\u001B[0m\n\u001B[1;32m----> 1\u001B[0m t_stat_14, p_val_14 \u001B[38;5;241m=\u001B[39m \u001B[43mttest_ind\u001B[49m(AMB_PA[\u001B[38;5;124m'\u001B[39m\u001B[38;5;124mProteïnes totals\u001B[39m\u001B[38;5;124m'\u001B[39m], TOTAL[\u001B[38;5;124m'\u001B[39m\u001B[38;5;124mProteïnes totals\u001B[39m\u001B[38;5;124m'\u001B[39m], equal_var\u001B[38;5;241m=\u001B[39m\u001B[38;5;28;01mFalse\u001B[39;00m)\n\u001B[0;32m      2\u001B[0m \u001B[38;5;28mprint\u001B[39m(\u001B[38;5;124m\"\u001B[39m\u001B[38;5;124mP-valor entre AMB_PA i TOTAL:\u001B[39m\u001B[38;5;124m\"\u001B[39m, p_val_14)\n",
      "\u001B[1;31mNameError\u001B[0m: name 'ttest_ind' is not defined"
     ]
    }
   ],
   "execution_count": 196
  },
  {
   "cell_type": "code",
   "source": [
    "t_stat_24, p_val_24 = ttest_ind(AMB_PA_MECVV['Proteïnes totals'], TOTAL['Proteïnes totals'], equal_var=False)\n",
    "print(\"P-valor entre AMB_PA_MECVV i TOTAL:\", p_val_24)"
   ],
   "metadata": {
    "collapsed": false,
    "ExecuteTime": {
     "end_time": "2024-05-29T13:04:52.735777Z",
     "start_time": "2024-05-29T13:04:52.713563Z"
    }
   },
   "id": "1b09e0fb39f0036f",
   "outputs": [
    {
     "ename": "NameError",
     "evalue": "name 'ttest_ind' is not defined",
     "output_type": "error",
     "traceback": [
      "\u001B[1;31m---------------------------------------------------------------------------\u001B[0m",
      "\u001B[1;31mNameError\u001B[0m                                 Traceback (most recent call last)",
      "Cell \u001B[1;32mIn[197], line 1\u001B[0m\n\u001B[1;32m----> 1\u001B[0m t_stat_24, p_val_24 \u001B[38;5;241m=\u001B[39m \u001B[43mttest_ind\u001B[49m(AMB_PA_MECVV[\u001B[38;5;124m'\u001B[39m\u001B[38;5;124mProteïnes totals\u001B[39m\u001B[38;5;124m'\u001B[39m], TOTAL[\u001B[38;5;124m'\u001B[39m\u001B[38;5;124mProteïnes totals\u001B[39m\u001B[38;5;124m'\u001B[39m], equal_var\u001B[38;5;241m=\u001B[39m\u001B[38;5;28;01mFalse\u001B[39;00m)\n\u001B[0;32m      2\u001B[0m \u001B[38;5;28mprint\u001B[39m(\u001B[38;5;124m\"\u001B[39m\u001B[38;5;124mP-valor entre AMB_PA_MECVV i TOTAL:\u001B[39m\u001B[38;5;124m\"\u001B[39m, p_val_24)\n",
      "\u001B[1;31mNameError\u001B[0m: name 'ttest_ind' is not defined"
     ]
    }
   ],
   "execution_count": 197
  },
  {
   "cell_type": "code",
   "source": [
    "t_stat_34, p_val_34 = ttest_ind(SENSE_PA['Proteïnes totals'], TOTAL['Proteïnes totals'], equal_var=False)\n",
    "print(\"P-valor entre SENSE_PA i TOTAL:\", p_val_34)"
   ],
   "metadata": {
    "collapsed": false,
    "ExecuteTime": {
     "end_time": "2024-05-29T13:04:53.653892Z",
     "start_time": "2024-05-29T13:04:53.622220Z"
    }
   },
   "id": "7337a8521a01a70c",
   "outputs": [
    {
     "ename": "NameError",
     "evalue": "name 'ttest_ind' is not defined",
     "output_type": "error",
     "traceback": [
      "\u001B[1;31m---------------------------------------------------------------------------\u001B[0m",
      "\u001B[1;31mNameError\u001B[0m                                 Traceback (most recent call last)",
      "Cell \u001B[1;32mIn[198], line 1\u001B[0m\n\u001B[1;32m----> 1\u001B[0m t_stat_34, p_val_34 \u001B[38;5;241m=\u001B[39m \u001B[43mttest_ind\u001B[49m(SENSE_PA[\u001B[38;5;124m'\u001B[39m\u001B[38;5;124mProteïnes totals\u001B[39m\u001B[38;5;124m'\u001B[39m], TOTAL[\u001B[38;5;124m'\u001B[39m\u001B[38;5;124mProteïnes totals\u001B[39m\u001B[38;5;124m'\u001B[39m], equal_var\u001B[38;5;241m=\u001B[39m\u001B[38;5;28;01mFalse\u001B[39;00m)\n\u001B[0;32m      2\u001B[0m \u001B[38;5;28mprint\u001B[39m(\u001B[38;5;124m\"\u001B[39m\u001B[38;5;124mP-valor entre SENSE_PA i TOTAL:\u001B[39m\u001B[38;5;124m\"\u001B[39m, p_val_34)\n",
      "\u001B[1;31mNameError\u001B[0m: name 'ttest_ind' is not defined"
     ]
    }
   ],
   "execution_count": 198
  },
  {
   "cell_type": "markdown",
   "source": [
    "### Hemoglobina"
   ],
   "metadata": {
    "collapsed": false
   },
   "id": "83542ac42256ecbc"
  },
  {
   "cell_type": "code",
   "source": [
    "AMB_PA.loc[:, 'Hb'] = pd.to_numeric(AMB_PA['Hb'], errors='coerce')\n",
    "\n",
    "Mitjana_hb = AMB_PA['Hb'].mean()\n",
    "desviacio_estandard_hb = AMB_PA['Hb'].std()\n",
    "\n",
    "resultat = f\"{Mitjana_hb:.2f} ± {desviacio_estandard_hb:.2f}\"\n",
    "print(\"Mitjana ± Desviació Estàndard de l'hemoglobina:\", resultat)"
   ],
   "metadata": {
    "collapsed": false,
    "ExecuteTime": {
     "end_time": "2024-05-29T13:04:54.247234Z",
     "start_time": "2024-05-29T13:04:54.227363Z"
    }
   },
   "id": "ce32d74b2c91ffe0",
   "outputs": [
    {
     "ename": "NameError",
     "evalue": "name 'pd' is not defined",
     "output_type": "error",
     "traceback": [
      "\u001B[1;31m---------------------------------------------------------------------------\u001B[0m",
      "\u001B[1;31mNameError\u001B[0m                                 Traceback (most recent call last)",
      "Cell \u001B[1;32mIn[199], line 1\u001B[0m\n\u001B[1;32m----> 1\u001B[0m AMB_PA\u001B[38;5;241m.\u001B[39mloc[:, \u001B[38;5;124m'\u001B[39m\u001B[38;5;124mHb\u001B[39m\u001B[38;5;124m'\u001B[39m] \u001B[38;5;241m=\u001B[39m \u001B[43mpd\u001B[49m\u001B[38;5;241m.\u001B[39mto_numeric(AMB_PA[\u001B[38;5;124m'\u001B[39m\u001B[38;5;124mHb\u001B[39m\u001B[38;5;124m'\u001B[39m], errors\u001B[38;5;241m=\u001B[39m\u001B[38;5;124m'\u001B[39m\u001B[38;5;124mcoerce\u001B[39m\u001B[38;5;124m'\u001B[39m)\n\u001B[0;32m      3\u001B[0m Mitjana_hb \u001B[38;5;241m=\u001B[39m AMB_PA[\u001B[38;5;124m'\u001B[39m\u001B[38;5;124mHb\u001B[39m\u001B[38;5;124m'\u001B[39m]\u001B[38;5;241m.\u001B[39mmean()\n\u001B[0;32m      4\u001B[0m desviacio_estandard_hb \u001B[38;5;241m=\u001B[39m AMB_PA[\u001B[38;5;124m'\u001B[39m\u001B[38;5;124mHb\u001B[39m\u001B[38;5;124m'\u001B[39m]\u001B[38;5;241m.\u001B[39mstd()\n",
      "\u001B[1;31mNameError\u001B[0m: name 'pd' is not defined"
     ]
    }
   ],
   "execution_count": 199
  },
  {
   "cell_type": "code",
   "source": [
    "AMB_PA_MECVV.loc[:, 'Hb'] = pd.to_numeric(AMB_PA_MECVV['Hb'], errors='coerce')\n",
    "\n",
    "Mitjana_hb = AMB_PA_MECVV['Hb'].mean()\n",
    "desviacio_estandard_hb = AMB_PA_MECVV['Hb'].std()\n",
    "\n",
    "resultat = f\"{Mitjana_hb:.2f} ± {desviacio_estandard_hb:.2f}\"\n",
    "print(\"Mitjana ± Desviació Estàndard de l'hemoglobina:\", resultat)"
   ],
   "metadata": {
    "collapsed": false,
    "ExecuteTime": {
     "end_time": "2024-05-29T13:04:55.167708Z",
     "start_time": "2024-05-29T13:04:55.143700Z"
    }
   },
   "id": "190ab4d9df59e126",
   "outputs": [
    {
     "ename": "NameError",
     "evalue": "name 'pd' is not defined",
     "output_type": "error",
     "traceback": [
      "\u001B[1;31m---------------------------------------------------------------------------\u001B[0m",
      "\u001B[1;31mNameError\u001B[0m                                 Traceback (most recent call last)",
      "Cell \u001B[1;32mIn[200], line 1\u001B[0m\n\u001B[1;32m----> 1\u001B[0m AMB_PA_MECVV\u001B[38;5;241m.\u001B[39mloc[:, \u001B[38;5;124m'\u001B[39m\u001B[38;5;124mHb\u001B[39m\u001B[38;5;124m'\u001B[39m] \u001B[38;5;241m=\u001B[39m \u001B[43mpd\u001B[49m\u001B[38;5;241m.\u001B[39mto_numeric(AMB_PA_MECVV[\u001B[38;5;124m'\u001B[39m\u001B[38;5;124mHb\u001B[39m\u001B[38;5;124m'\u001B[39m], errors\u001B[38;5;241m=\u001B[39m\u001B[38;5;124m'\u001B[39m\u001B[38;5;124mcoerce\u001B[39m\u001B[38;5;124m'\u001B[39m)\n\u001B[0;32m      3\u001B[0m Mitjana_hb \u001B[38;5;241m=\u001B[39m AMB_PA_MECVV[\u001B[38;5;124m'\u001B[39m\u001B[38;5;124mHb\u001B[39m\u001B[38;5;124m'\u001B[39m]\u001B[38;5;241m.\u001B[39mmean()\n\u001B[0;32m      4\u001B[0m desviacio_estandard_hb \u001B[38;5;241m=\u001B[39m AMB_PA_MECVV[\u001B[38;5;124m'\u001B[39m\u001B[38;5;124mHb\u001B[39m\u001B[38;5;124m'\u001B[39m]\u001B[38;5;241m.\u001B[39mstd()\n",
      "\u001B[1;31mNameError\u001B[0m: name 'pd' is not defined"
     ]
    }
   ],
   "execution_count": 200
  },
  {
   "cell_type": "code",
   "source": [
    "SENSE_PA.loc[:, 'Hb'] = pd.to_numeric(SENSE_PA['Hb'], errors='coerce')\n",
    "\n",
    "Mitjana_hb = SENSE_PA['Hb'].mean()\n",
    "desviacio_estandard_hb = SENSE_PA['Hb'].std()\n",
    "\n",
    "resultat = f\"{Mitjana_hb:.2f} ± {desviacio_estandard_hb:.2f}\"\n",
    "print(\"Mitjana ± Desviació Estàndard de l'hemoglobina:\", resultat)"
   ],
   "metadata": {
    "collapsed": false,
    "ExecuteTime": {
     "end_time": "2024-05-29T13:04:56.146108Z",
     "start_time": "2024-05-29T13:04:56.121924Z"
    }
   },
   "id": "9dcff1701b35f0e0",
   "outputs": [
    {
     "ename": "NameError",
     "evalue": "name 'pd' is not defined",
     "output_type": "error",
     "traceback": [
      "\u001B[1;31m---------------------------------------------------------------------------\u001B[0m",
      "\u001B[1;31mNameError\u001B[0m                                 Traceback (most recent call last)",
      "Cell \u001B[1;32mIn[201], line 1\u001B[0m\n\u001B[1;32m----> 1\u001B[0m SENSE_PA\u001B[38;5;241m.\u001B[39mloc[:, \u001B[38;5;124m'\u001B[39m\u001B[38;5;124mHb\u001B[39m\u001B[38;5;124m'\u001B[39m] \u001B[38;5;241m=\u001B[39m \u001B[43mpd\u001B[49m\u001B[38;5;241m.\u001B[39mto_numeric(SENSE_PA[\u001B[38;5;124m'\u001B[39m\u001B[38;5;124mHb\u001B[39m\u001B[38;5;124m'\u001B[39m], errors\u001B[38;5;241m=\u001B[39m\u001B[38;5;124m'\u001B[39m\u001B[38;5;124mcoerce\u001B[39m\u001B[38;5;124m'\u001B[39m)\n\u001B[0;32m      3\u001B[0m Mitjana_hb \u001B[38;5;241m=\u001B[39m SENSE_PA[\u001B[38;5;124m'\u001B[39m\u001B[38;5;124mHb\u001B[39m\u001B[38;5;124m'\u001B[39m]\u001B[38;5;241m.\u001B[39mmean()\n\u001B[0;32m      4\u001B[0m desviacio_estandard_hb \u001B[38;5;241m=\u001B[39m SENSE_PA[\u001B[38;5;124m'\u001B[39m\u001B[38;5;124mHb\u001B[39m\u001B[38;5;124m'\u001B[39m]\u001B[38;5;241m.\u001B[39mstd()\n",
      "\u001B[1;31mNameError\u001B[0m: name 'pd' is not defined"
     ]
    }
   ],
   "execution_count": 201
  },
  {
   "cell_type": "code",
   "source": [
    "TOTAL.loc[:, 'Hb'] = pd.to_numeric(TOTAL['Hb'], errors='coerce')\n",
    "\n",
    "Mitjana_hb = TOTAL['Hb'].mean()\n",
    "desviacio_estandard_hb = TOTAL['Hb'].std()\n",
    "\n",
    "resultat = f\"{Mitjana_hb:.2f} ± {desviacio_estandard_hb:.2f}\"\n",
    "print(\"Mitjana ± Desviació Estàndard de la hemoglobina:\", resultat)"
   ],
   "metadata": {
    "collapsed": false,
    "ExecuteTime": {
     "end_time": "2024-05-29T13:04:57.066915Z",
     "start_time": "2024-05-29T13:04:57.040992Z"
    }
   },
   "id": "9e53de4eaaca1e38",
   "outputs": [
    {
     "ename": "NameError",
     "evalue": "name 'pd' is not defined",
     "output_type": "error",
     "traceback": [
      "\u001B[1;31m---------------------------------------------------------------------------\u001B[0m",
      "\u001B[1;31mNameError\u001B[0m                                 Traceback (most recent call last)",
      "Cell \u001B[1;32mIn[202], line 1\u001B[0m\n\u001B[1;32m----> 1\u001B[0m TOTAL\u001B[38;5;241m.\u001B[39mloc[:, \u001B[38;5;124m'\u001B[39m\u001B[38;5;124mHb\u001B[39m\u001B[38;5;124m'\u001B[39m] \u001B[38;5;241m=\u001B[39m \u001B[43mpd\u001B[49m\u001B[38;5;241m.\u001B[39mto_numeric(TOTAL[\u001B[38;5;124m'\u001B[39m\u001B[38;5;124mHb\u001B[39m\u001B[38;5;124m'\u001B[39m], errors\u001B[38;5;241m=\u001B[39m\u001B[38;5;124m'\u001B[39m\u001B[38;5;124mcoerce\u001B[39m\u001B[38;5;124m'\u001B[39m)\n\u001B[0;32m      3\u001B[0m Mitjana_hb \u001B[38;5;241m=\u001B[39m TOTAL[\u001B[38;5;124m'\u001B[39m\u001B[38;5;124mHb\u001B[39m\u001B[38;5;124m'\u001B[39m]\u001B[38;5;241m.\u001B[39mmean()\n\u001B[0;32m      4\u001B[0m desviacio_estandard_hb \u001B[38;5;241m=\u001B[39m TOTAL[\u001B[38;5;124m'\u001B[39m\u001B[38;5;124mHb\u001B[39m\u001B[38;5;124m'\u001B[39m]\u001B[38;5;241m.\u001B[39mstd()\n",
      "\u001B[1;31mNameError\u001B[0m: name 'pd' is not defined"
     ]
    }
   ],
   "execution_count": 202
  },
  {
   "cell_type": "markdown",
   "source": [
    "#### Comparació distributiva"
   ],
   "metadata": {
    "collapsed": false
   },
   "id": "3698d8eac9285554"
  },
  {
   "cell_type": "markdown",
   "source": [
    "##### Normalitat i p-valor"
   ],
   "metadata": {
    "collapsed": false
   },
   "id": "5cf16ada38b267d6"
  },
  {
   "cell_type": "markdown",
   "source": [
    "NORMALITAT: Els 4 grups segueixen una distribució normal"
   ],
   "metadata": {
    "collapsed": false
   },
   "id": "a1139f6450fb8762"
  },
  {
   "cell_type": "code",
   "source": [
    "t_stat_12, p_val_12 = ttest_ind(AMB_PA['Hb'], AMB_PA_MECVV['Hb'], equal_var=False)\n",
    "print(\"P-valor entre AMB_PA i AMB_PA_MECVV:\", p_val_12)"
   ],
   "metadata": {
    "collapsed": false,
    "ExecuteTime": {
     "end_time": "2024-05-29T13:04:57.840600Z",
     "start_time": "2024-05-29T13:04:57.816102Z"
    }
   },
   "id": "ec450e296e84a944",
   "outputs": [
    {
     "ename": "NameError",
     "evalue": "name 'ttest_ind' is not defined",
     "output_type": "error",
     "traceback": [
      "\u001B[1;31m---------------------------------------------------------------------------\u001B[0m",
      "\u001B[1;31mNameError\u001B[0m                                 Traceback (most recent call last)",
      "Cell \u001B[1;32mIn[203], line 1\u001B[0m\n\u001B[1;32m----> 1\u001B[0m t_stat_12, p_val_12 \u001B[38;5;241m=\u001B[39m \u001B[43mttest_ind\u001B[49m(AMB_PA[\u001B[38;5;124m'\u001B[39m\u001B[38;5;124mHb\u001B[39m\u001B[38;5;124m'\u001B[39m], AMB_PA_MECVV[\u001B[38;5;124m'\u001B[39m\u001B[38;5;124mHb\u001B[39m\u001B[38;5;124m'\u001B[39m], equal_var\u001B[38;5;241m=\u001B[39m\u001B[38;5;28;01mFalse\u001B[39;00m)\n\u001B[0;32m      2\u001B[0m \u001B[38;5;28mprint\u001B[39m(\u001B[38;5;124m\"\u001B[39m\u001B[38;5;124mP-valor entre AMB_PA i AMB_PA_MECVV:\u001B[39m\u001B[38;5;124m\"\u001B[39m, p_val_12)\n",
      "\u001B[1;31mNameError\u001B[0m: name 'ttest_ind' is not defined"
     ]
    }
   ],
   "execution_count": 203
  },
  {
   "cell_type": "code",
   "source": [
    "t_stat_13, p_val_13 = ttest_ind(AMB_PA['Hb'], SENSE_PA['Hb'], equal_var=False)\n",
    "print(\"P-valor entre AMB_PA i SENSE_PA:\", p_val_13)"
   ],
   "metadata": {
    "collapsed": false,
    "ExecuteTime": {
     "end_time": "2024-05-29T13:04:58.937032Z",
     "start_time": "2024-05-29T13:04:58.910259Z"
    }
   },
   "id": "b22b3253ae1a3b4b",
   "outputs": [
    {
     "ename": "NameError",
     "evalue": "name 'ttest_ind' is not defined",
     "output_type": "error",
     "traceback": [
      "\u001B[1;31m---------------------------------------------------------------------------\u001B[0m",
      "\u001B[1;31mNameError\u001B[0m                                 Traceback (most recent call last)",
      "Cell \u001B[1;32mIn[204], line 1\u001B[0m\n\u001B[1;32m----> 1\u001B[0m t_stat_13, p_val_13 \u001B[38;5;241m=\u001B[39m \u001B[43mttest_ind\u001B[49m(AMB_PA[\u001B[38;5;124m'\u001B[39m\u001B[38;5;124mHb\u001B[39m\u001B[38;5;124m'\u001B[39m], SENSE_PA[\u001B[38;5;124m'\u001B[39m\u001B[38;5;124mHb\u001B[39m\u001B[38;5;124m'\u001B[39m], equal_var\u001B[38;5;241m=\u001B[39m\u001B[38;5;28;01mFalse\u001B[39;00m)\n\u001B[0;32m      2\u001B[0m \u001B[38;5;28mprint\u001B[39m(\u001B[38;5;124m\"\u001B[39m\u001B[38;5;124mP-valor entre AMB_PA i SENSE_PA:\u001B[39m\u001B[38;5;124m\"\u001B[39m, p_val_13)\n",
      "\u001B[1;31mNameError\u001B[0m: name 'ttest_ind' is not defined"
     ]
    }
   ],
   "execution_count": 204
  },
  {
   "cell_type": "code",
   "source": [
    "t_stat_23, p_val_23 = ttest_ind(AMB_PA_MECVV['Hb'], SENSE_PA['Hb'], equal_var=False)\n",
    "print(\"P-valor entre AMB_PA_MECVV i SENSE_PA:\", p_val_23)"
   ],
   "metadata": {
    "collapsed": false,
    "ExecuteTime": {
     "end_time": "2024-05-29T13:04:59.510915Z",
     "start_time": "2024-05-29T13:04:59.486144Z"
    }
   },
   "id": "d6cb3871d3bb9404",
   "outputs": [
    {
     "ename": "NameError",
     "evalue": "name 'ttest_ind' is not defined",
     "output_type": "error",
     "traceback": [
      "\u001B[1;31m---------------------------------------------------------------------------\u001B[0m",
      "\u001B[1;31mNameError\u001B[0m                                 Traceback (most recent call last)",
      "Cell \u001B[1;32mIn[205], line 1\u001B[0m\n\u001B[1;32m----> 1\u001B[0m t_stat_23, p_val_23 \u001B[38;5;241m=\u001B[39m \u001B[43mttest_ind\u001B[49m(AMB_PA_MECVV[\u001B[38;5;124m'\u001B[39m\u001B[38;5;124mHb\u001B[39m\u001B[38;5;124m'\u001B[39m], SENSE_PA[\u001B[38;5;124m'\u001B[39m\u001B[38;5;124mHb\u001B[39m\u001B[38;5;124m'\u001B[39m], equal_var\u001B[38;5;241m=\u001B[39m\u001B[38;5;28;01mFalse\u001B[39;00m)\n\u001B[0;32m      2\u001B[0m \u001B[38;5;28mprint\u001B[39m(\u001B[38;5;124m\"\u001B[39m\u001B[38;5;124mP-valor entre AMB_PA_MECVV i SENSE_PA:\u001B[39m\u001B[38;5;124m\"\u001B[39m, p_val_23)\n",
      "\u001B[1;31mNameError\u001B[0m: name 'ttest_ind' is not defined"
     ]
    }
   ],
   "execution_count": 205
  },
  {
   "cell_type": "code",
   "source": [
    "t_stat_14, p_val_14 = ttest_ind(AMB_PA['Hb'], TOTAL['Hb'], equal_var=False)\n",
    "print(\"P-valor entre AMB_PA i TOTAL:\", p_val_14)"
   ],
   "metadata": {
    "collapsed": false,
    "ExecuteTime": {
     "end_time": "2024-05-29T13:05:00.351508Z",
     "start_time": "2024-05-29T13:05:00.323916Z"
    }
   },
   "id": "7cd19e9faaf56cde",
   "outputs": [
    {
     "ename": "NameError",
     "evalue": "name 'ttest_ind' is not defined",
     "output_type": "error",
     "traceback": [
      "\u001B[1;31m---------------------------------------------------------------------------\u001B[0m",
      "\u001B[1;31mNameError\u001B[0m                                 Traceback (most recent call last)",
      "Cell \u001B[1;32mIn[206], line 1\u001B[0m\n\u001B[1;32m----> 1\u001B[0m t_stat_14, p_val_14 \u001B[38;5;241m=\u001B[39m \u001B[43mttest_ind\u001B[49m(AMB_PA[\u001B[38;5;124m'\u001B[39m\u001B[38;5;124mHb\u001B[39m\u001B[38;5;124m'\u001B[39m], TOTAL[\u001B[38;5;124m'\u001B[39m\u001B[38;5;124mHb\u001B[39m\u001B[38;5;124m'\u001B[39m], equal_var\u001B[38;5;241m=\u001B[39m\u001B[38;5;28;01mFalse\u001B[39;00m)\n\u001B[0;32m      2\u001B[0m \u001B[38;5;28mprint\u001B[39m(\u001B[38;5;124m\"\u001B[39m\u001B[38;5;124mP-valor entre AMB_PA i TOTAL:\u001B[39m\u001B[38;5;124m\"\u001B[39m, p_val_14)\n",
      "\u001B[1;31mNameError\u001B[0m: name 'ttest_ind' is not defined"
     ]
    }
   ],
   "execution_count": 206
  },
  {
   "cell_type": "code",
   "source": [
    "t_stat_24, p_val_24 = ttest_ind(AMB_PA_MECVV['Hb'], TOTAL['Hb'], equal_var=False)\n",
    "print(\"P-valor entre AMB_PA_MECVV i TOTAL:\", p_val_24)"
   ],
   "metadata": {
    "collapsed": false,
    "ExecuteTime": {
     "end_time": "2024-05-29T13:05:00.848355Z",
     "start_time": "2024-05-29T13:05:00.827358Z"
    }
   },
   "id": "cd6213fc2f468f10",
   "outputs": [
    {
     "ename": "NameError",
     "evalue": "name 'ttest_ind' is not defined",
     "output_type": "error",
     "traceback": [
      "\u001B[1;31m---------------------------------------------------------------------------\u001B[0m",
      "\u001B[1;31mNameError\u001B[0m                                 Traceback (most recent call last)",
      "Cell \u001B[1;32mIn[207], line 1\u001B[0m\n\u001B[1;32m----> 1\u001B[0m t_stat_24, p_val_24 \u001B[38;5;241m=\u001B[39m \u001B[43mttest_ind\u001B[49m(AMB_PA_MECVV[\u001B[38;5;124m'\u001B[39m\u001B[38;5;124mHb\u001B[39m\u001B[38;5;124m'\u001B[39m], TOTAL[\u001B[38;5;124m'\u001B[39m\u001B[38;5;124mHb\u001B[39m\u001B[38;5;124m'\u001B[39m], equal_var\u001B[38;5;241m=\u001B[39m\u001B[38;5;28;01mFalse\u001B[39;00m)\n\u001B[0;32m      2\u001B[0m \u001B[38;5;28mprint\u001B[39m(\u001B[38;5;124m\"\u001B[39m\u001B[38;5;124mP-valor entre AMB_PA_MECVV i TOTAL:\u001B[39m\u001B[38;5;124m\"\u001B[39m, p_val_24)\n",
      "\u001B[1;31mNameError\u001B[0m: name 'ttest_ind' is not defined"
     ]
    }
   ],
   "execution_count": 207
  },
  {
   "cell_type": "code",
   "source": [
    "t_stat_34, p_val_34 = ttest_ind(SENSE_PA['Hb'], TOTAL['Hb'], equal_var=False)\n",
    "print(\"P-valor entre SENSE_PA i TOTAL:\", p_val_34)"
   ],
   "metadata": {
    "collapsed": false,
    "ExecuteTime": {
     "end_time": "2024-05-29T13:05:01.744437Z",
     "start_time": "2024-05-29T13:05:01.717635Z"
    }
   },
   "id": "f76632e8bd1d0ab9",
   "outputs": [
    {
     "ename": "NameError",
     "evalue": "name 'ttest_ind' is not defined",
     "output_type": "error",
     "traceback": [
      "\u001B[1;31m---------------------------------------------------------------------------\u001B[0m",
      "\u001B[1;31mNameError\u001B[0m                                 Traceback (most recent call last)",
      "Cell \u001B[1;32mIn[208], line 1\u001B[0m\n\u001B[1;32m----> 1\u001B[0m t_stat_34, p_val_34 \u001B[38;5;241m=\u001B[39m \u001B[43mttest_ind\u001B[49m(SENSE_PA[\u001B[38;5;124m'\u001B[39m\u001B[38;5;124mHb\u001B[39m\u001B[38;5;124m'\u001B[39m], TOTAL[\u001B[38;5;124m'\u001B[39m\u001B[38;5;124mHb\u001B[39m\u001B[38;5;124m'\u001B[39m], equal_var\u001B[38;5;241m=\u001B[39m\u001B[38;5;28;01mFalse\u001B[39;00m)\n\u001B[0;32m      2\u001B[0m \u001B[38;5;28mprint\u001B[39m(\u001B[38;5;124m\"\u001B[39m\u001B[38;5;124mP-valor entre SENSE_PA i TOTAL:\u001B[39m\u001B[38;5;124m\"\u001B[39m, p_val_34)\n",
      "\u001B[1;31mNameError\u001B[0m: name 'ttest_ind' is not defined"
     ]
    }
   ],
   "execution_count": 208
  },
  {
   "cell_type": "markdown",
   "source": [
    "### Colesterol "
   ],
   "metadata": {
    "collapsed": false
   },
   "id": "ec1e8177dc1b0583"
  },
  {
   "cell_type": "code",
   "source": [
    "AMB_PA.loc[:, 'Colesterol total'] = pd.to_numeric(AMB_PA['Colesterol total'], errors='coerce')\n",
    "\n",
    "Mitjana_col = AMB_PA['Colesterol total'].mean()\n",
    "desviacio_estandard_col = AMB_PA['Colesterol total'].std()\n",
    "\n",
    "resultat = f\"{Mitjana_col:.2f} ± {desviacio_estandard_col:.2f}\"\n",
    "print(\"Mitjana ± Desviació Estàndard del colesterol total:\", resultat)"
   ],
   "metadata": {
    "collapsed": false,
    "ExecuteTime": {
     "end_time": "2024-05-29T13:05:02.285469Z",
     "start_time": "2024-05-29T13:05:02.253088Z"
    }
   },
   "id": "1466b2fbb6e65695",
   "outputs": [
    {
     "ename": "NameError",
     "evalue": "name 'pd' is not defined",
     "output_type": "error",
     "traceback": [
      "\u001B[1;31m---------------------------------------------------------------------------\u001B[0m",
      "\u001B[1;31mNameError\u001B[0m                                 Traceback (most recent call last)",
      "Cell \u001B[1;32mIn[209], line 1\u001B[0m\n\u001B[1;32m----> 1\u001B[0m AMB_PA\u001B[38;5;241m.\u001B[39mloc[:, \u001B[38;5;124m'\u001B[39m\u001B[38;5;124mColesterol total\u001B[39m\u001B[38;5;124m'\u001B[39m] \u001B[38;5;241m=\u001B[39m \u001B[43mpd\u001B[49m\u001B[38;5;241m.\u001B[39mto_numeric(AMB_PA[\u001B[38;5;124m'\u001B[39m\u001B[38;5;124mColesterol total\u001B[39m\u001B[38;5;124m'\u001B[39m], errors\u001B[38;5;241m=\u001B[39m\u001B[38;5;124m'\u001B[39m\u001B[38;5;124mcoerce\u001B[39m\u001B[38;5;124m'\u001B[39m)\n\u001B[0;32m      3\u001B[0m Mitjana_col \u001B[38;5;241m=\u001B[39m AMB_PA[\u001B[38;5;124m'\u001B[39m\u001B[38;5;124mColesterol total\u001B[39m\u001B[38;5;124m'\u001B[39m]\u001B[38;5;241m.\u001B[39mmean()\n\u001B[0;32m      4\u001B[0m desviacio_estandard_col \u001B[38;5;241m=\u001B[39m AMB_PA[\u001B[38;5;124m'\u001B[39m\u001B[38;5;124mColesterol total\u001B[39m\u001B[38;5;124m'\u001B[39m]\u001B[38;5;241m.\u001B[39mstd()\n",
      "\u001B[1;31mNameError\u001B[0m: name 'pd' is not defined"
     ]
    }
   ],
   "execution_count": 209
  },
  {
   "cell_type": "code",
   "source": [
    "AMB_PA_MECVV.loc[:, 'Colesterol total'] = pd.to_numeric(AMB_PA_MECVV['Colesterol total'], errors='coerce')\n",
    "\n",
    "Mitjana_col = AMB_PA_MECVV['Colesterol total'].mean()\n",
    "desviacio_estandard_col = AMB_PA_MECVV['Colesterol total'].std()\n",
    "\n",
    "resultat = f\"{Mitjana_col:.2f} ± {desviacio_estandard_col:.2f}\"\n",
    "print(\"Mitjana ± Desviació Estàndard del colesterol total:\", resultat)"
   ],
   "metadata": {
    "collapsed": false,
    "ExecuteTime": {
     "end_time": "2024-05-29T13:05:03.259902Z",
     "start_time": "2024-05-29T13:05:03.236171Z"
    }
   },
   "id": "2f70d7de4bc70545",
   "outputs": [
    {
     "ename": "NameError",
     "evalue": "name 'pd' is not defined",
     "output_type": "error",
     "traceback": [
      "\u001B[1;31m---------------------------------------------------------------------------\u001B[0m",
      "\u001B[1;31mNameError\u001B[0m                                 Traceback (most recent call last)",
      "Cell \u001B[1;32mIn[210], line 1\u001B[0m\n\u001B[1;32m----> 1\u001B[0m AMB_PA_MECVV\u001B[38;5;241m.\u001B[39mloc[:, \u001B[38;5;124m'\u001B[39m\u001B[38;5;124mColesterol total\u001B[39m\u001B[38;5;124m'\u001B[39m] \u001B[38;5;241m=\u001B[39m \u001B[43mpd\u001B[49m\u001B[38;5;241m.\u001B[39mto_numeric(AMB_PA_MECVV[\u001B[38;5;124m'\u001B[39m\u001B[38;5;124mColesterol total\u001B[39m\u001B[38;5;124m'\u001B[39m], errors\u001B[38;5;241m=\u001B[39m\u001B[38;5;124m'\u001B[39m\u001B[38;5;124mcoerce\u001B[39m\u001B[38;5;124m'\u001B[39m)\n\u001B[0;32m      3\u001B[0m Mitjana_col \u001B[38;5;241m=\u001B[39m AMB_PA_MECVV[\u001B[38;5;124m'\u001B[39m\u001B[38;5;124mColesterol total\u001B[39m\u001B[38;5;124m'\u001B[39m]\u001B[38;5;241m.\u001B[39mmean()\n\u001B[0;32m      4\u001B[0m desviacio_estandard_col \u001B[38;5;241m=\u001B[39m AMB_PA_MECVV[\u001B[38;5;124m'\u001B[39m\u001B[38;5;124mColesterol total\u001B[39m\u001B[38;5;124m'\u001B[39m]\u001B[38;5;241m.\u001B[39mstd()\n",
      "\u001B[1;31mNameError\u001B[0m: name 'pd' is not defined"
     ]
    }
   ],
   "execution_count": 210
  },
  {
   "cell_type": "code",
   "source": [
    "SENSE_PA.loc[:, 'Colesterol total'] = pd.to_numeric(SENSE_PA['Colesterol total'], errors='coerce')\n",
    "\n",
    "Mitjana_col = SENSE_PA['Colesterol total'].mean()\n",
    "desviacio_estandard_col = SENSE_PA['Colesterol total'].std()\n",
    "\n",
    "resultat = f\"{Mitjana_col:.2f} ± {desviacio_estandard_col:.2f}\"\n",
    "print(\"Mitjana ± Desviació Estàndard del colesterol total:\", resultat)"
   ],
   "metadata": {
    "collapsed": false,
    "ExecuteTime": {
     "end_time": "2024-05-29T13:05:04.199150Z",
     "start_time": "2024-05-29T13:05:04.172161Z"
    }
   },
   "id": "8995f110a2f8af8f",
   "outputs": [
    {
     "ename": "NameError",
     "evalue": "name 'pd' is not defined",
     "output_type": "error",
     "traceback": [
      "\u001B[1;31m---------------------------------------------------------------------------\u001B[0m",
      "\u001B[1;31mNameError\u001B[0m                                 Traceback (most recent call last)",
      "Cell \u001B[1;32mIn[211], line 1\u001B[0m\n\u001B[1;32m----> 1\u001B[0m SENSE_PA\u001B[38;5;241m.\u001B[39mloc[:, \u001B[38;5;124m'\u001B[39m\u001B[38;5;124mColesterol total\u001B[39m\u001B[38;5;124m'\u001B[39m] \u001B[38;5;241m=\u001B[39m \u001B[43mpd\u001B[49m\u001B[38;5;241m.\u001B[39mto_numeric(SENSE_PA[\u001B[38;5;124m'\u001B[39m\u001B[38;5;124mColesterol total\u001B[39m\u001B[38;5;124m'\u001B[39m], errors\u001B[38;5;241m=\u001B[39m\u001B[38;5;124m'\u001B[39m\u001B[38;5;124mcoerce\u001B[39m\u001B[38;5;124m'\u001B[39m)\n\u001B[0;32m      3\u001B[0m Mitjana_col \u001B[38;5;241m=\u001B[39m SENSE_PA[\u001B[38;5;124m'\u001B[39m\u001B[38;5;124mColesterol total\u001B[39m\u001B[38;5;124m'\u001B[39m]\u001B[38;5;241m.\u001B[39mmean()\n\u001B[0;32m      4\u001B[0m desviacio_estandard_col \u001B[38;5;241m=\u001B[39m SENSE_PA[\u001B[38;5;124m'\u001B[39m\u001B[38;5;124mColesterol total\u001B[39m\u001B[38;5;124m'\u001B[39m]\u001B[38;5;241m.\u001B[39mstd()\n",
      "\u001B[1;31mNameError\u001B[0m: name 'pd' is not defined"
     ]
    }
   ],
   "execution_count": 211
  },
  {
   "cell_type": "code",
   "source": [
    "TOTAL.loc[:, 'Colesterol total'] = pd.to_numeric(TOTAL['Colesterol total'], errors='coerce')\n",
    "\n",
    "Mitjana_col = TOTAL['Colesterol total'].mean()\n",
    "desviacio_estandard_col = TOTAL['Colesterol total'].std()\n",
    "\n",
    "resultat = f\"{Mitjana_col:.2f} ± {desviacio_estandard_col:.2f}\"\n",
    "print(\"Mitjana ± Desviació Estàndard del colesterol total:\", resultat)"
   ],
   "metadata": {
    "collapsed": false,
    "ExecuteTime": {
     "end_time": "2024-05-29T13:05:05.038179Z",
     "start_time": "2024-05-29T13:05:05.014367Z"
    }
   },
   "id": "c286a7e506c7f495",
   "outputs": [
    {
     "ename": "NameError",
     "evalue": "name 'pd' is not defined",
     "output_type": "error",
     "traceback": [
      "\u001B[1;31m---------------------------------------------------------------------------\u001B[0m",
      "\u001B[1;31mNameError\u001B[0m                                 Traceback (most recent call last)",
      "Cell \u001B[1;32mIn[212], line 1\u001B[0m\n\u001B[1;32m----> 1\u001B[0m TOTAL\u001B[38;5;241m.\u001B[39mloc[:, \u001B[38;5;124m'\u001B[39m\u001B[38;5;124mColesterol total\u001B[39m\u001B[38;5;124m'\u001B[39m] \u001B[38;5;241m=\u001B[39m \u001B[43mpd\u001B[49m\u001B[38;5;241m.\u001B[39mto_numeric(TOTAL[\u001B[38;5;124m'\u001B[39m\u001B[38;5;124mColesterol total\u001B[39m\u001B[38;5;124m'\u001B[39m], errors\u001B[38;5;241m=\u001B[39m\u001B[38;5;124m'\u001B[39m\u001B[38;5;124mcoerce\u001B[39m\u001B[38;5;124m'\u001B[39m)\n\u001B[0;32m      3\u001B[0m Mitjana_col \u001B[38;5;241m=\u001B[39m TOTAL[\u001B[38;5;124m'\u001B[39m\u001B[38;5;124mColesterol total\u001B[39m\u001B[38;5;124m'\u001B[39m]\u001B[38;5;241m.\u001B[39mmean()\n\u001B[0;32m      4\u001B[0m desviacio_estandard_col \u001B[38;5;241m=\u001B[39m TOTAL[\u001B[38;5;124m'\u001B[39m\u001B[38;5;124mColesterol total\u001B[39m\u001B[38;5;124m'\u001B[39m]\u001B[38;5;241m.\u001B[39mstd()\n",
      "\u001B[1;31mNameError\u001B[0m: name 'pd' is not defined"
     ]
    }
   ],
   "execution_count": 212
  },
  {
   "cell_type": "markdown",
   "source": [
    "#### Comparació distributiva"
   ],
   "metadata": {
    "collapsed": false
   },
   "id": "83a935f3b5fc4891"
  },
  {
   "cell_type": "markdown",
   "source": [
    "##### Normalitat i p-valor\n",
    "\n"
   ],
   "metadata": {
    "collapsed": false
   },
   "id": "a76e28ab361d5d9"
  },
  {
   "cell_type": "markdown",
   "source": [
    "NORMALITAT: Els 4 grups segueixen una distribució normal"
   ],
   "metadata": {
    "collapsed": false
   },
   "id": "5724a46fbbb1b15a"
  },
  {
   "cell_type": "code",
   "source": [
    "t_stat_12, p_val_12 = ttest_ind(AMB_PA['Colesterol total'], AMB_PA_MECVV['Colesterol total'], equal_var=False)\n",
    "print(\"P-valor entre AMB_PA i AMB_PA_MECVV:\", p_val_12)"
   ],
   "metadata": {
    "collapsed": false,
    "ExecuteTime": {
     "end_time": "2024-05-29T13:05:05.985966Z",
     "start_time": "2024-05-29T13:05:05.963675Z"
    }
   },
   "id": "b913589dfb90f2c",
   "outputs": [
    {
     "ename": "NameError",
     "evalue": "name 'ttest_ind' is not defined",
     "output_type": "error",
     "traceback": [
      "\u001B[1;31m---------------------------------------------------------------------------\u001B[0m",
      "\u001B[1;31mNameError\u001B[0m                                 Traceback (most recent call last)",
      "Cell \u001B[1;32mIn[213], line 1\u001B[0m\n\u001B[1;32m----> 1\u001B[0m t_stat_12, p_val_12 \u001B[38;5;241m=\u001B[39m \u001B[43mttest_ind\u001B[49m(AMB_PA[\u001B[38;5;124m'\u001B[39m\u001B[38;5;124mColesterol total\u001B[39m\u001B[38;5;124m'\u001B[39m], AMB_PA_MECVV[\u001B[38;5;124m'\u001B[39m\u001B[38;5;124mColesterol total\u001B[39m\u001B[38;5;124m'\u001B[39m], equal_var\u001B[38;5;241m=\u001B[39m\u001B[38;5;28;01mFalse\u001B[39;00m)\n\u001B[0;32m      2\u001B[0m \u001B[38;5;28mprint\u001B[39m(\u001B[38;5;124m\"\u001B[39m\u001B[38;5;124mP-valor entre AMB_PA i AMB_PA_MECVV:\u001B[39m\u001B[38;5;124m\"\u001B[39m, p_val_12)\n",
      "\u001B[1;31mNameError\u001B[0m: name 'ttest_ind' is not defined"
     ]
    }
   ],
   "execution_count": 213
  },
  {
   "cell_type": "code",
   "source": [
    "t_stat_13, p_val_13 = ttest_ind(AMB_PA['Colesterol total'], SENSE_PA['Colesterol total'], equal_var=False)\n",
    "print(\"P-valor entre AMB_PA i SENSE_PA:\", p_val_13)"
   ],
   "metadata": {
    "collapsed": false,
    "ExecuteTime": {
     "end_time": "2024-05-29T13:05:07.232544Z",
     "start_time": "2024-05-29T13:05:07.206960Z"
    }
   },
   "id": "4cf33bed703b0756",
   "outputs": [
    {
     "ename": "NameError",
     "evalue": "name 'ttest_ind' is not defined",
     "output_type": "error",
     "traceback": [
      "\u001B[1;31m---------------------------------------------------------------------------\u001B[0m",
      "\u001B[1;31mNameError\u001B[0m                                 Traceback (most recent call last)",
      "Cell \u001B[1;32mIn[214], line 1\u001B[0m\n\u001B[1;32m----> 1\u001B[0m t_stat_13, p_val_13 \u001B[38;5;241m=\u001B[39m \u001B[43mttest_ind\u001B[49m(AMB_PA[\u001B[38;5;124m'\u001B[39m\u001B[38;5;124mColesterol total\u001B[39m\u001B[38;5;124m'\u001B[39m], SENSE_PA[\u001B[38;5;124m'\u001B[39m\u001B[38;5;124mColesterol total\u001B[39m\u001B[38;5;124m'\u001B[39m], equal_var\u001B[38;5;241m=\u001B[39m\u001B[38;5;28;01mFalse\u001B[39;00m)\n\u001B[0;32m      2\u001B[0m \u001B[38;5;28mprint\u001B[39m(\u001B[38;5;124m\"\u001B[39m\u001B[38;5;124mP-valor entre AMB_PA i SENSE_PA:\u001B[39m\u001B[38;5;124m\"\u001B[39m, p_val_13)\n",
      "\u001B[1;31mNameError\u001B[0m: name 'ttest_ind' is not defined"
     ]
    }
   ],
   "execution_count": 214
  },
  {
   "cell_type": "code",
   "source": [
    "t_stat_23, p_val_23 = ttest_ind(AMB_PA_MECVV['Colesterol total'], SENSE_PA['Colesterol total'], equal_var=False)\n",
    "print(\"P-valor entre AMB_PA_MECVV i SENSE_PA:\", p_val_23)"
   ],
   "metadata": {
    "collapsed": false,
    "ExecuteTime": {
     "end_time": "2024-05-29T13:05:07.931634Z",
     "start_time": "2024-05-29T13:05:07.908233Z"
    }
   },
   "id": "4b65e11ea9784765",
   "outputs": [
    {
     "ename": "NameError",
     "evalue": "name 'ttest_ind' is not defined",
     "output_type": "error",
     "traceback": [
      "\u001B[1;31m---------------------------------------------------------------------------\u001B[0m",
      "\u001B[1;31mNameError\u001B[0m                                 Traceback (most recent call last)",
      "Cell \u001B[1;32mIn[215], line 1\u001B[0m\n\u001B[1;32m----> 1\u001B[0m t_stat_23, p_val_23 \u001B[38;5;241m=\u001B[39m \u001B[43mttest_ind\u001B[49m(AMB_PA_MECVV[\u001B[38;5;124m'\u001B[39m\u001B[38;5;124mColesterol total\u001B[39m\u001B[38;5;124m'\u001B[39m], SENSE_PA[\u001B[38;5;124m'\u001B[39m\u001B[38;5;124mColesterol total\u001B[39m\u001B[38;5;124m'\u001B[39m], equal_var\u001B[38;5;241m=\u001B[39m\u001B[38;5;28;01mFalse\u001B[39;00m)\n\u001B[0;32m      2\u001B[0m \u001B[38;5;28mprint\u001B[39m(\u001B[38;5;124m\"\u001B[39m\u001B[38;5;124mP-valor entre AMB_PA_MECVV i SENSE_PA:\u001B[39m\u001B[38;5;124m\"\u001B[39m, p_val_23)\n",
      "\u001B[1;31mNameError\u001B[0m: name 'ttest_ind' is not defined"
     ]
    }
   ],
   "execution_count": 215
  },
  {
   "cell_type": "code",
   "source": [
    "t_stat_14, p_val_14 = ttest_ind(AMB_PA['Colesterol total'], TOTAL['Colesterol total'], equal_var=False)\n",
    "print(\"P-valor entre AMB_PA i TOTAL:\", p_val_14)"
   ],
   "metadata": {
    "collapsed": false,
    "ExecuteTime": {
     "end_time": "2024-05-29T13:05:08.705971Z",
     "start_time": "2024-05-29T13:05:08.685066Z"
    }
   },
   "id": "6d5950b08ca17288",
   "outputs": [
    {
     "ename": "NameError",
     "evalue": "name 'ttest_ind' is not defined",
     "output_type": "error",
     "traceback": [
      "\u001B[1;31m---------------------------------------------------------------------------\u001B[0m",
      "\u001B[1;31mNameError\u001B[0m                                 Traceback (most recent call last)",
      "Cell \u001B[1;32mIn[216], line 1\u001B[0m\n\u001B[1;32m----> 1\u001B[0m t_stat_14, p_val_14 \u001B[38;5;241m=\u001B[39m \u001B[43mttest_ind\u001B[49m(AMB_PA[\u001B[38;5;124m'\u001B[39m\u001B[38;5;124mColesterol total\u001B[39m\u001B[38;5;124m'\u001B[39m], TOTAL[\u001B[38;5;124m'\u001B[39m\u001B[38;5;124mColesterol total\u001B[39m\u001B[38;5;124m'\u001B[39m], equal_var\u001B[38;5;241m=\u001B[39m\u001B[38;5;28;01mFalse\u001B[39;00m)\n\u001B[0;32m      2\u001B[0m \u001B[38;5;28mprint\u001B[39m(\u001B[38;5;124m\"\u001B[39m\u001B[38;5;124mP-valor entre AMB_PA i TOTAL:\u001B[39m\u001B[38;5;124m\"\u001B[39m, p_val_14)\n",
      "\u001B[1;31mNameError\u001B[0m: name 'ttest_ind' is not defined"
     ]
    }
   ],
   "execution_count": 216
  },
  {
   "cell_type": "code",
   "source": [
    "t_stat_24, p_val_24 = ttest_ind(AMB_PA_MECVV['Colesterol total'], TOTAL['Colesterol total'], equal_var=False)\n",
    "print(\"P-valor entre AMB_PA_MECVV i TOTAL:\", p_val_24)"
   ],
   "metadata": {
    "collapsed": false,
    "ExecuteTime": {
     "end_time": "2024-05-29T13:05:09.236112Z",
     "start_time": "2024-05-29T13:05:09.217311Z"
    }
   },
   "id": "9480d773ef8d09ef",
   "outputs": [
    {
     "ename": "NameError",
     "evalue": "name 'ttest_ind' is not defined",
     "output_type": "error",
     "traceback": [
      "\u001B[1;31m---------------------------------------------------------------------------\u001B[0m",
      "\u001B[1;31mNameError\u001B[0m                                 Traceback (most recent call last)",
      "Cell \u001B[1;32mIn[217], line 1\u001B[0m\n\u001B[1;32m----> 1\u001B[0m t_stat_24, p_val_24 \u001B[38;5;241m=\u001B[39m \u001B[43mttest_ind\u001B[49m(AMB_PA_MECVV[\u001B[38;5;124m'\u001B[39m\u001B[38;5;124mColesterol total\u001B[39m\u001B[38;5;124m'\u001B[39m], TOTAL[\u001B[38;5;124m'\u001B[39m\u001B[38;5;124mColesterol total\u001B[39m\u001B[38;5;124m'\u001B[39m], equal_var\u001B[38;5;241m=\u001B[39m\u001B[38;5;28;01mFalse\u001B[39;00m)\n\u001B[0;32m      2\u001B[0m \u001B[38;5;28mprint\u001B[39m(\u001B[38;5;124m\"\u001B[39m\u001B[38;5;124mP-valor entre AMB_PA_MECVV i TOTAL:\u001B[39m\u001B[38;5;124m\"\u001B[39m, p_val_24)\n",
      "\u001B[1;31mNameError\u001B[0m: name 'ttest_ind' is not defined"
     ]
    }
   ],
   "execution_count": 217
  },
  {
   "cell_type": "code",
   "source": [
    "t_stat_34, p_val_34 = ttest_ind(SENSE_PA['Colesterol total'], TOTAL['Colesterol total'], equal_var=False)\n",
    "print(\"P-valor entre SENSE_PA i TOTAL:\", p_val_34)"
   ],
   "metadata": {
    "collapsed": false,
    "ExecuteTime": {
     "end_time": "2024-05-29T13:05:10.125744Z",
     "start_time": "2024-05-29T13:05:10.086237Z"
    }
   },
   "id": "b75ca0327d334a97",
   "outputs": [
    {
     "ename": "NameError",
     "evalue": "name 'ttest_ind' is not defined",
     "output_type": "error",
     "traceback": [
      "\u001B[1;31m---------------------------------------------------------------------------\u001B[0m",
      "\u001B[1;31mNameError\u001B[0m                                 Traceback (most recent call last)",
      "Cell \u001B[1;32mIn[218], line 1\u001B[0m\n\u001B[1;32m----> 1\u001B[0m t_stat_34, p_val_34 \u001B[38;5;241m=\u001B[39m \u001B[43mttest_ind\u001B[49m(SENSE_PA[\u001B[38;5;124m'\u001B[39m\u001B[38;5;124mColesterol total\u001B[39m\u001B[38;5;124m'\u001B[39m], TOTAL[\u001B[38;5;124m'\u001B[39m\u001B[38;5;124mColesterol total\u001B[39m\u001B[38;5;124m'\u001B[39m], equal_var\u001B[38;5;241m=\u001B[39m\u001B[38;5;28;01mFalse\u001B[39;00m)\n\u001B[0;32m      2\u001B[0m \u001B[38;5;28mprint\u001B[39m(\u001B[38;5;124m\"\u001B[39m\u001B[38;5;124mP-valor entre SENSE_PA i TOTAL:\u001B[39m\u001B[38;5;124m\"\u001B[39m, p_val_34)\n",
      "\u001B[1;31mNameError\u001B[0m: name 'ttest_ind' is not defined"
     ]
    }
   ],
   "execution_count": 218
  },
  {
   "cell_type": "markdown",
   "source": [
    "### Leucòcits"
   ],
   "metadata": {
    "collapsed": false
   },
   "id": "42dc4ab8a11b6c11"
  },
  {
   "cell_type": "code",
   "source": [
    "AMB_PA.loc[:, 'Leucos'] = pd.to_numeric(AMB_PA['Leucos'], errors='coerce')\n",
    "\n",
    "Mitjana_leu = AMB_PA['Leucos'].mean()\n",
    "desviacio_estandard_leu = AMB_PA['Leucos'].std()\n",
    "\n",
    "resultat = f\"{Mitjana_leu:.2f} ± {desviacio_estandard_leu:.2f}\"\n",
    "print(\"Mitjana ± Desviació Estàndard dels leucòcits:\", resultat)"
   ],
   "metadata": {
    "collapsed": false,
    "ExecuteTime": {
     "end_time": "2024-05-29T13:05:10.802614Z",
     "start_time": "2024-05-29T13:05:10.765624Z"
    }
   },
   "id": "c0bfb45cfe92421a",
   "outputs": [
    {
     "ename": "NameError",
     "evalue": "name 'pd' is not defined",
     "output_type": "error",
     "traceback": [
      "\u001B[1;31m---------------------------------------------------------------------------\u001B[0m",
      "\u001B[1;31mNameError\u001B[0m                                 Traceback (most recent call last)",
      "Cell \u001B[1;32mIn[219], line 1\u001B[0m\n\u001B[1;32m----> 1\u001B[0m AMB_PA\u001B[38;5;241m.\u001B[39mloc[:, \u001B[38;5;124m'\u001B[39m\u001B[38;5;124mLeucos\u001B[39m\u001B[38;5;124m'\u001B[39m] \u001B[38;5;241m=\u001B[39m \u001B[43mpd\u001B[49m\u001B[38;5;241m.\u001B[39mto_numeric(AMB_PA[\u001B[38;5;124m'\u001B[39m\u001B[38;5;124mLeucos\u001B[39m\u001B[38;5;124m'\u001B[39m], errors\u001B[38;5;241m=\u001B[39m\u001B[38;5;124m'\u001B[39m\u001B[38;5;124mcoerce\u001B[39m\u001B[38;5;124m'\u001B[39m)\n\u001B[0;32m      3\u001B[0m Mitjana_leu \u001B[38;5;241m=\u001B[39m AMB_PA[\u001B[38;5;124m'\u001B[39m\u001B[38;5;124mLeucos\u001B[39m\u001B[38;5;124m'\u001B[39m]\u001B[38;5;241m.\u001B[39mmean()\n\u001B[0;32m      4\u001B[0m desviacio_estandard_leu \u001B[38;5;241m=\u001B[39m AMB_PA[\u001B[38;5;124m'\u001B[39m\u001B[38;5;124mLeucos\u001B[39m\u001B[38;5;124m'\u001B[39m]\u001B[38;5;241m.\u001B[39mstd()\n",
      "\u001B[1;31mNameError\u001B[0m: name 'pd' is not defined"
     ]
    }
   ],
   "execution_count": 219
  },
  {
   "cell_type": "code",
   "source": [
    "AMB_PA_MECVV.loc[:, 'Leucos'] = pd.to_numeric(AMB_PA_MECVV['Leucos'], errors='coerce')\n",
    "\n",
    "Mitjana_leu = AMB_PA_MECVV['Leucos'].mean()\n",
    "desviacio_estandard_leu = AMB_PA_MECVV['Leucos'].std()\n",
    "\n",
    "resultat = f\"{Mitjana_leu:.2f} ± {desviacio_estandard_leu:.2f}\"\n",
    "print(\"Mitjana ± Desviació Estàndard dels leucòcits:\", resultat)"
   ],
   "metadata": {
    "collapsed": false,
    "ExecuteTime": {
     "end_time": "2024-05-29T13:05:11.952110Z",
     "start_time": "2024-05-29T13:05:11.880732Z"
    }
   },
   "id": "416f5f6eba9779cc",
   "outputs": [
    {
     "ename": "NameError",
     "evalue": "name 'pd' is not defined",
     "output_type": "error",
     "traceback": [
      "\u001B[1;31m---------------------------------------------------------------------------\u001B[0m",
      "\u001B[1;31mNameError\u001B[0m                                 Traceback (most recent call last)",
      "Cell \u001B[1;32mIn[220], line 1\u001B[0m\n\u001B[1;32m----> 1\u001B[0m AMB_PA_MECVV\u001B[38;5;241m.\u001B[39mloc[:, \u001B[38;5;124m'\u001B[39m\u001B[38;5;124mLeucos\u001B[39m\u001B[38;5;124m'\u001B[39m] \u001B[38;5;241m=\u001B[39m \u001B[43mpd\u001B[49m\u001B[38;5;241m.\u001B[39mto_numeric(AMB_PA_MECVV[\u001B[38;5;124m'\u001B[39m\u001B[38;5;124mLeucos\u001B[39m\u001B[38;5;124m'\u001B[39m], errors\u001B[38;5;241m=\u001B[39m\u001B[38;5;124m'\u001B[39m\u001B[38;5;124mcoerce\u001B[39m\u001B[38;5;124m'\u001B[39m)\n\u001B[0;32m      3\u001B[0m Mitjana_leu \u001B[38;5;241m=\u001B[39m AMB_PA_MECVV[\u001B[38;5;124m'\u001B[39m\u001B[38;5;124mLeucos\u001B[39m\u001B[38;5;124m'\u001B[39m]\u001B[38;5;241m.\u001B[39mmean()\n\u001B[0;32m      4\u001B[0m desviacio_estandard_leu \u001B[38;5;241m=\u001B[39m AMB_PA_MECVV[\u001B[38;5;124m'\u001B[39m\u001B[38;5;124mLeucos\u001B[39m\u001B[38;5;124m'\u001B[39m]\u001B[38;5;241m.\u001B[39mstd()\n",
      "\u001B[1;31mNameError\u001B[0m: name 'pd' is not defined"
     ]
    }
   ],
   "execution_count": 220
  },
  {
   "cell_type": "code",
   "source": [
    "SENSE_PA.loc[:, 'Leucos'] = pd.to_numeric(SENSE_PA['Leucos'], errors='coerce')\n",
    "\n",
    "Mitjana_leu = SENSE_PA['Leucos'].mean()\n",
    "desviacio_estandard_leu = SENSE_PA['Leucos'].std()\n",
    "\n",
    "resultat = f\"{Mitjana_leu:.2f} ± {desviacio_estandard_leu:.2f}\"\n",
    "print(\"Mitjana ± Desviació Estàndard dels leucòcits:\", resultat)"
   ],
   "metadata": {
    "collapsed": false,
    "ExecuteTime": {
     "end_time": "2024-05-29T13:05:13.159015Z",
     "start_time": "2024-05-29T13:05:13.132526Z"
    }
   },
   "id": "56f36c4afd20bb4",
   "outputs": [
    {
     "ename": "NameError",
     "evalue": "name 'pd' is not defined",
     "output_type": "error",
     "traceback": [
      "\u001B[1;31m---------------------------------------------------------------------------\u001B[0m",
      "\u001B[1;31mNameError\u001B[0m                                 Traceback (most recent call last)",
      "Cell \u001B[1;32mIn[221], line 1\u001B[0m\n\u001B[1;32m----> 1\u001B[0m SENSE_PA\u001B[38;5;241m.\u001B[39mloc[:, \u001B[38;5;124m'\u001B[39m\u001B[38;5;124mLeucos\u001B[39m\u001B[38;5;124m'\u001B[39m] \u001B[38;5;241m=\u001B[39m \u001B[43mpd\u001B[49m\u001B[38;5;241m.\u001B[39mto_numeric(SENSE_PA[\u001B[38;5;124m'\u001B[39m\u001B[38;5;124mLeucos\u001B[39m\u001B[38;5;124m'\u001B[39m], errors\u001B[38;5;241m=\u001B[39m\u001B[38;5;124m'\u001B[39m\u001B[38;5;124mcoerce\u001B[39m\u001B[38;5;124m'\u001B[39m)\n\u001B[0;32m      3\u001B[0m Mitjana_leu \u001B[38;5;241m=\u001B[39m SENSE_PA[\u001B[38;5;124m'\u001B[39m\u001B[38;5;124mLeucos\u001B[39m\u001B[38;5;124m'\u001B[39m]\u001B[38;5;241m.\u001B[39mmean()\n\u001B[0;32m      4\u001B[0m desviacio_estandard_leu \u001B[38;5;241m=\u001B[39m SENSE_PA[\u001B[38;5;124m'\u001B[39m\u001B[38;5;124mLeucos\u001B[39m\u001B[38;5;124m'\u001B[39m]\u001B[38;5;241m.\u001B[39mstd()\n",
      "\u001B[1;31mNameError\u001B[0m: name 'pd' is not defined"
     ]
    }
   ],
   "execution_count": 221
  },
  {
   "cell_type": "code",
   "source": [
    "TOTAL.loc[:, 'Leucos'] = pd.to_numeric(TOTAL['Leucos'], errors='coerce')\n",
    "\n",
    "Mitjana_leu = TOTAL['Leucos'].mean()\n",
    "desviacio_estandard_leu = TOTAL['Leucos'].std()\n",
    "\n",
    "resultat = f\"{Mitjana_leu:.2f} ± {desviacio_estandard_leu:.2f}\"\n",
    "print(\"Mitjana ± Desviació Estàndard dels leucòcits:\", resultat)"
   ],
   "metadata": {
    "collapsed": false,
    "ExecuteTime": {
     "end_time": "2024-05-29T13:05:13.897398Z",
     "start_time": "2024-05-29T13:05:13.869218Z"
    }
   },
   "id": "b221d9779ccc9d79",
   "outputs": [
    {
     "ename": "NameError",
     "evalue": "name 'pd' is not defined",
     "output_type": "error",
     "traceback": [
      "\u001B[1;31m---------------------------------------------------------------------------\u001B[0m",
      "\u001B[1;31mNameError\u001B[0m                                 Traceback (most recent call last)",
      "Cell \u001B[1;32mIn[222], line 1\u001B[0m\n\u001B[1;32m----> 1\u001B[0m TOTAL\u001B[38;5;241m.\u001B[39mloc[:, \u001B[38;5;124m'\u001B[39m\u001B[38;5;124mLeucos\u001B[39m\u001B[38;5;124m'\u001B[39m] \u001B[38;5;241m=\u001B[39m \u001B[43mpd\u001B[49m\u001B[38;5;241m.\u001B[39mto_numeric(TOTAL[\u001B[38;5;124m'\u001B[39m\u001B[38;5;124mLeucos\u001B[39m\u001B[38;5;124m'\u001B[39m], errors\u001B[38;5;241m=\u001B[39m\u001B[38;5;124m'\u001B[39m\u001B[38;5;124mcoerce\u001B[39m\u001B[38;5;124m'\u001B[39m)\n\u001B[0;32m      3\u001B[0m Mitjana_leu \u001B[38;5;241m=\u001B[39m TOTAL[\u001B[38;5;124m'\u001B[39m\u001B[38;5;124mLeucos\u001B[39m\u001B[38;5;124m'\u001B[39m]\u001B[38;5;241m.\u001B[39mmean()\n\u001B[0;32m      4\u001B[0m desviacio_estandard_leu \u001B[38;5;241m=\u001B[39m TOTAL[\u001B[38;5;124m'\u001B[39m\u001B[38;5;124mLeucos\u001B[39m\u001B[38;5;124m'\u001B[39m]\u001B[38;5;241m.\u001B[39mstd()\n",
      "\u001B[1;31mNameError\u001B[0m: name 'pd' is not defined"
     ]
    }
   ],
   "execution_count": 222
  },
  {
   "cell_type": "markdown",
   "source": [
    "#### Comparació distributiva"
   ],
   "metadata": {
    "collapsed": false
   },
   "id": "f569479d8863f97a"
  },
  {
   "cell_type": "markdown",
   "source": [
    "##### Normalitat i p-valor"
   ],
   "metadata": {
    "collapsed": false
   },
   "id": "14094a001ff168ed"
  },
  {
   "cell_type": "markdown",
   "source": [
    "NORMALITAT: Els 4 grups segueixen una distribució normal"
   ],
   "metadata": {
    "collapsed": false
   },
   "id": "b0343f06c70c5a5f"
  },
  {
   "cell_type": "code",
   "source": [
    "t_stat_12, p_val_12 = ttest_ind(AMB_PA['Leucos'], AMB_PA_MECVV['Leucos'], equal_var=False)\n",
    "print(\"P-valor entre AMB_PA i AMB_PA_MECVV:\", p_val_12)"
   ],
   "metadata": {
    "collapsed": false,
    "ExecuteTime": {
     "end_time": "2024-05-29T13:05:14.834677Z",
     "start_time": "2024-05-29T13:05:14.817253Z"
    }
   },
   "id": "f1662a4b0309b47c",
   "outputs": [
    {
     "ename": "NameError",
     "evalue": "name 'ttest_ind' is not defined",
     "output_type": "error",
     "traceback": [
      "\u001B[1;31m---------------------------------------------------------------------------\u001B[0m",
      "\u001B[1;31mNameError\u001B[0m                                 Traceback (most recent call last)",
      "Cell \u001B[1;32mIn[223], line 1\u001B[0m\n\u001B[1;32m----> 1\u001B[0m t_stat_12, p_val_12 \u001B[38;5;241m=\u001B[39m \u001B[43mttest_ind\u001B[49m(AMB_PA[\u001B[38;5;124m'\u001B[39m\u001B[38;5;124mLeucos\u001B[39m\u001B[38;5;124m'\u001B[39m], AMB_PA_MECVV[\u001B[38;5;124m'\u001B[39m\u001B[38;5;124mLeucos\u001B[39m\u001B[38;5;124m'\u001B[39m], equal_var\u001B[38;5;241m=\u001B[39m\u001B[38;5;28;01mFalse\u001B[39;00m)\n\u001B[0;32m      2\u001B[0m \u001B[38;5;28mprint\u001B[39m(\u001B[38;5;124m\"\u001B[39m\u001B[38;5;124mP-valor entre AMB_PA i AMB_PA_MECVV:\u001B[39m\u001B[38;5;124m\"\u001B[39m, p_val_12)\n",
      "\u001B[1;31mNameError\u001B[0m: name 'ttest_ind' is not defined"
     ]
    }
   ],
   "execution_count": 223
  },
  {
   "cell_type": "code",
   "source": [
    "t_stat_13, p_val_13 = ttest_ind(AMB_PA['Leucos'], SENSE_PA['Leucos'], equal_var=False)\n",
    "print(\"P-valor entre AMB_PA i SENSE_PA:\", p_val_13)"
   ],
   "metadata": {
    "collapsed": false,
    "ExecuteTime": {
     "end_time": "2024-05-29T13:05:15.724514Z",
     "start_time": "2024-05-29T13:05:15.704223Z"
    }
   },
   "id": "12ab1de7fe3d0eeb",
   "outputs": [
    {
     "ename": "NameError",
     "evalue": "name 'ttest_ind' is not defined",
     "output_type": "error",
     "traceback": [
      "\u001B[1;31m---------------------------------------------------------------------------\u001B[0m",
      "\u001B[1;31mNameError\u001B[0m                                 Traceback (most recent call last)",
      "Cell \u001B[1;32mIn[224], line 1\u001B[0m\n\u001B[1;32m----> 1\u001B[0m t_stat_13, p_val_13 \u001B[38;5;241m=\u001B[39m \u001B[43mttest_ind\u001B[49m(AMB_PA[\u001B[38;5;124m'\u001B[39m\u001B[38;5;124mLeucos\u001B[39m\u001B[38;5;124m'\u001B[39m], SENSE_PA[\u001B[38;5;124m'\u001B[39m\u001B[38;5;124mLeucos\u001B[39m\u001B[38;5;124m'\u001B[39m], equal_var\u001B[38;5;241m=\u001B[39m\u001B[38;5;28;01mFalse\u001B[39;00m)\n\u001B[0;32m      2\u001B[0m \u001B[38;5;28mprint\u001B[39m(\u001B[38;5;124m\"\u001B[39m\u001B[38;5;124mP-valor entre AMB_PA i SENSE_PA:\u001B[39m\u001B[38;5;124m\"\u001B[39m, p_val_13)\n",
      "\u001B[1;31mNameError\u001B[0m: name 'ttest_ind' is not defined"
     ]
    }
   ],
   "execution_count": 224
  },
  {
   "cell_type": "code",
   "source": [
    "t_stat_23, p_val_23 = ttest_ind(AMB_PA_MECVV['Leucos'], SENSE_PA['Leucos'], equal_var=False)\n",
    "print(\"P-valor entre AMB_PA_MECVV i SENSE_PA:\", p_val_23)"
   ],
   "metadata": {
    "collapsed": false,
    "ExecuteTime": {
     "end_time": "2024-05-29T13:05:16.262375Z",
     "start_time": "2024-05-29T13:05:16.237142Z"
    }
   },
   "id": "e35df7239096c248",
   "outputs": [
    {
     "ename": "NameError",
     "evalue": "name 'ttest_ind' is not defined",
     "output_type": "error",
     "traceback": [
      "\u001B[1;31m---------------------------------------------------------------------------\u001B[0m",
      "\u001B[1;31mNameError\u001B[0m                                 Traceback (most recent call last)",
      "Cell \u001B[1;32mIn[225], line 1\u001B[0m\n\u001B[1;32m----> 1\u001B[0m t_stat_23, p_val_23 \u001B[38;5;241m=\u001B[39m \u001B[43mttest_ind\u001B[49m(AMB_PA_MECVV[\u001B[38;5;124m'\u001B[39m\u001B[38;5;124mLeucos\u001B[39m\u001B[38;5;124m'\u001B[39m], SENSE_PA[\u001B[38;5;124m'\u001B[39m\u001B[38;5;124mLeucos\u001B[39m\u001B[38;5;124m'\u001B[39m], equal_var\u001B[38;5;241m=\u001B[39m\u001B[38;5;28;01mFalse\u001B[39;00m)\n\u001B[0;32m      2\u001B[0m \u001B[38;5;28mprint\u001B[39m(\u001B[38;5;124m\"\u001B[39m\u001B[38;5;124mP-valor entre AMB_PA_MECVV i SENSE_PA:\u001B[39m\u001B[38;5;124m\"\u001B[39m, p_val_23)\n",
      "\u001B[1;31mNameError\u001B[0m: name 'ttest_ind' is not defined"
     ]
    }
   ],
   "execution_count": 225
  },
  {
   "cell_type": "code",
   "source": [
    "t_stat_14, p_val_14 = ttest_ind(AMB_PA['Leucos'], TOTAL['Leucos'], equal_var=False)\n",
    "print(\"P-valor entre AMB_PA i TOTAL:\", p_val_14)"
   ],
   "metadata": {
    "collapsed": false,
    "ExecuteTime": {
     "end_time": "2024-05-29T13:05:17.090461Z",
     "start_time": "2024-05-29T13:05:17.067372Z"
    }
   },
   "id": "9a627b623600e8a9",
   "outputs": [
    {
     "ename": "NameError",
     "evalue": "name 'ttest_ind' is not defined",
     "output_type": "error",
     "traceback": [
      "\u001B[1;31m---------------------------------------------------------------------------\u001B[0m",
      "\u001B[1;31mNameError\u001B[0m                                 Traceback (most recent call last)",
      "Cell \u001B[1;32mIn[226], line 1\u001B[0m\n\u001B[1;32m----> 1\u001B[0m t_stat_14, p_val_14 \u001B[38;5;241m=\u001B[39m \u001B[43mttest_ind\u001B[49m(AMB_PA[\u001B[38;5;124m'\u001B[39m\u001B[38;5;124mLeucos\u001B[39m\u001B[38;5;124m'\u001B[39m], TOTAL[\u001B[38;5;124m'\u001B[39m\u001B[38;5;124mLeucos\u001B[39m\u001B[38;5;124m'\u001B[39m], equal_var\u001B[38;5;241m=\u001B[39m\u001B[38;5;28;01mFalse\u001B[39;00m)\n\u001B[0;32m      2\u001B[0m \u001B[38;5;28mprint\u001B[39m(\u001B[38;5;124m\"\u001B[39m\u001B[38;5;124mP-valor entre AMB_PA i TOTAL:\u001B[39m\u001B[38;5;124m\"\u001B[39m, p_val_14)\n",
      "\u001B[1;31mNameError\u001B[0m: name 'ttest_ind' is not defined"
     ]
    }
   ],
   "execution_count": 226
  },
  {
   "cell_type": "code",
   "source": [
    "t_stat_24, p_val_24 = ttest_ind(AMB_PA_MECVV['Leucos'], TOTAL['Leucos'], equal_var=False)\n",
    "print(\"P-valor entre AMB_PA_MECVV i TOTAL:\", p_val_24)"
   ],
   "metadata": {
    "collapsed": false,
    "ExecuteTime": {
     "end_time": "2024-05-29T13:05:17.542572Z",
     "start_time": "2024-05-29T13:05:17.523297Z"
    }
   },
   "id": "9693a8eb4d4657fb",
   "outputs": [
    {
     "ename": "NameError",
     "evalue": "name 'ttest_ind' is not defined",
     "output_type": "error",
     "traceback": [
      "\u001B[1;31m---------------------------------------------------------------------------\u001B[0m",
      "\u001B[1;31mNameError\u001B[0m                                 Traceback (most recent call last)",
      "Cell \u001B[1;32mIn[227], line 1\u001B[0m\n\u001B[1;32m----> 1\u001B[0m t_stat_24, p_val_24 \u001B[38;5;241m=\u001B[39m \u001B[43mttest_ind\u001B[49m(AMB_PA_MECVV[\u001B[38;5;124m'\u001B[39m\u001B[38;5;124mLeucos\u001B[39m\u001B[38;5;124m'\u001B[39m], TOTAL[\u001B[38;5;124m'\u001B[39m\u001B[38;5;124mLeucos\u001B[39m\u001B[38;5;124m'\u001B[39m], equal_var\u001B[38;5;241m=\u001B[39m\u001B[38;5;28;01mFalse\u001B[39;00m)\n\u001B[0;32m      2\u001B[0m \u001B[38;5;28mprint\u001B[39m(\u001B[38;5;124m\"\u001B[39m\u001B[38;5;124mP-valor entre AMB_PA_MECVV i TOTAL:\u001B[39m\u001B[38;5;124m\"\u001B[39m, p_val_24)\n",
      "\u001B[1;31mNameError\u001B[0m: name 'ttest_ind' is not defined"
     ]
    }
   ],
   "execution_count": 227
  },
  {
   "cell_type": "code",
   "source": [
    "t_stat_34, p_val_34 = ttest_ind(SENSE_PA['Leucos'], TOTAL['Leucos'], equal_var=False)\n",
    "print(\"P-valor entre SENSE_PA i TOTAL:\", p_val_34)"
   ],
   "metadata": {
    "collapsed": false,
    "ExecuteTime": {
     "end_time": "2024-05-29T13:05:18.537071Z",
     "start_time": "2024-05-29T13:05:18.515952Z"
    }
   },
   "id": "ff42f9630cc7c6eb",
   "outputs": [
    {
     "ename": "NameError",
     "evalue": "name 'ttest_ind' is not defined",
     "output_type": "error",
     "traceback": [
      "\u001B[1;31m---------------------------------------------------------------------------\u001B[0m",
      "\u001B[1;31mNameError\u001B[0m                                 Traceback (most recent call last)",
      "Cell \u001B[1;32mIn[228], line 1\u001B[0m\n\u001B[1;32m----> 1\u001B[0m t_stat_34, p_val_34 \u001B[38;5;241m=\u001B[39m \u001B[43mttest_ind\u001B[49m(SENSE_PA[\u001B[38;5;124m'\u001B[39m\u001B[38;5;124mLeucos\u001B[39m\u001B[38;5;124m'\u001B[39m], TOTAL[\u001B[38;5;124m'\u001B[39m\u001B[38;5;124mLeucos\u001B[39m\u001B[38;5;124m'\u001B[39m], equal_var\u001B[38;5;241m=\u001B[39m\u001B[38;5;28;01mFalse\u001B[39;00m)\n\u001B[0;32m      2\u001B[0m \u001B[38;5;28mprint\u001B[39m(\u001B[38;5;124m\"\u001B[39m\u001B[38;5;124mP-valor entre SENSE_PA i TOTAL:\u001B[39m\u001B[38;5;124m\"\u001B[39m, p_val_34)\n",
      "\u001B[1;31mNameError\u001B[0m: name 'ttest_ind' is not defined"
     ]
    }
   ],
   "execution_count": 228
  },
  {
   "cell_type": "markdown",
   "source": [
    "### Limfòcits %"
   ],
   "metadata": {
    "collapsed": false
   },
   "id": "bcd5ba404d9c701d"
  },
  {
   "cell_type": "code",
   "source": [
    "AMB_PA.loc[:, 'Limfos'] = pd.to_numeric(AMB_PA['Limfos'], errors='coerce')\n",
    "\n",
    "Mitjana_limf = AMB_PA['Limfos'].mean()\n",
    "desviacio_estandard_limf = AMB_PA['Limfos'].std()\n",
    "\n",
    "resultat = f\"{Mitjana_limf:.2f} ± {desviacio_estandard_limf:.2f}\"\n",
    "print(\"Mitjana ± Desviació Estàndard dels limfòcits %:\", resultat)"
   ],
   "metadata": {
    "collapsed": false,
    "ExecuteTime": {
     "end_time": "2024-05-29T13:05:19.525500Z",
     "start_time": "2024-05-29T13:05:19.497438Z"
    }
   },
   "id": "b5591bfd016baf83",
   "outputs": [
    {
     "ename": "NameError",
     "evalue": "name 'pd' is not defined",
     "output_type": "error",
     "traceback": [
      "\u001B[1;31m---------------------------------------------------------------------------\u001B[0m",
      "\u001B[1;31mNameError\u001B[0m                                 Traceback (most recent call last)",
      "Cell \u001B[1;32mIn[229], line 1\u001B[0m\n\u001B[1;32m----> 1\u001B[0m AMB_PA\u001B[38;5;241m.\u001B[39mloc[:, \u001B[38;5;124m'\u001B[39m\u001B[38;5;124mLimfos\u001B[39m\u001B[38;5;124m'\u001B[39m] \u001B[38;5;241m=\u001B[39m \u001B[43mpd\u001B[49m\u001B[38;5;241m.\u001B[39mto_numeric(AMB_PA[\u001B[38;5;124m'\u001B[39m\u001B[38;5;124mLimfos\u001B[39m\u001B[38;5;124m'\u001B[39m], errors\u001B[38;5;241m=\u001B[39m\u001B[38;5;124m'\u001B[39m\u001B[38;5;124mcoerce\u001B[39m\u001B[38;5;124m'\u001B[39m)\n\u001B[0;32m      3\u001B[0m Mitjana_limf \u001B[38;5;241m=\u001B[39m AMB_PA[\u001B[38;5;124m'\u001B[39m\u001B[38;5;124mLimfos\u001B[39m\u001B[38;5;124m'\u001B[39m]\u001B[38;5;241m.\u001B[39mmean()\n\u001B[0;32m      4\u001B[0m desviacio_estandard_limf \u001B[38;5;241m=\u001B[39m AMB_PA[\u001B[38;5;124m'\u001B[39m\u001B[38;5;124mLimfos\u001B[39m\u001B[38;5;124m'\u001B[39m]\u001B[38;5;241m.\u001B[39mstd()\n",
      "\u001B[1;31mNameError\u001B[0m: name 'pd' is not defined"
     ]
    }
   ],
   "execution_count": 229
  },
  {
   "cell_type": "code",
   "source": [
    "AMB_PA_MECVV.loc[:, 'Limfos'] = pd.to_numeric(AMB_PA_MECVV['Limfos'], errors='coerce')\n",
    "\n",
    "Mitjana_limf = AMB_PA_MECVV['Limfos'].mean()\n",
    "desviacio_estandard_limf = AMB_PA_MECVV['Limfos'].std()\n",
    "\n",
    "resultat = f\"{Mitjana_limf:.2f} ± {desviacio_estandard_limf:.2f}\"\n",
    "print(\"Mitjana ± Desviació Estàndard dels limfòcits %:\", resultat)"
   ],
   "metadata": {
    "collapsed": false,
    "ExecuteTime": {
     "end_time": "2024-05-29T13:05:20.305015Z",
     "start_time": "2024-05-29T13:05:20.275732Z"
    }
   },
   "id": "a938df90647ce2a8",
   "outputs": [
    {
     "ename": "NameError",
     "evalue": "name 'pd' is not defined",
     "output_type": "error",
     "traceback": [
      "\u001B[1;31m---------------------------------------------------------------------------\u001B[0m",
      "\u001B[1;31mNameError\u001B[0m                                 Traceback (most recent call last)",
      "Cell \u001B[1;32mIn[230], line 1\u001B[0m\n\u001B[1;32m----> 1\u001B[0m AMB_PA_MECVV\u001B[38;5;241m.\u001B[39mloc[:, \u001B[38;5;124m'\u001B[39m\u001B[38;5;124mLimfos\u001B[39m\u001B[38;5;124m'\u001B[39m] \u001B[38;5;241m=\u001B[39m \u001B[43mpd\u001B[49m\u001B[38;5;241m.\u001B[39mto_numeric(AMB_PA_MECVV[\u001B[38;5;124m'\u001B[39m\u001B[38;5;124mLimfos\u001B[39m\u001B[38;5;124m'\u001B[39m], errors\u001B[38;5;241m=\u001B[39m\u001B[38;5;124m'\u001B[39m\u001B[38;5;124mcoerce\u001B[39m\u001B[38;5;124m'\u001B[39m)\n\u001B[0;32m      3\u001B[0m Mitjana_limf \u001B[38;5;241m=\u001B[39m AMB_PA_MECVV[\u001B[38;5;124m'\u001B[39m\u001B[38;5;124mLimfos\u001B[39m\u001B[38;5;124m'\u001B[39m]\u001B[38;5;241m.\u001B[39mmean()\n\u001B[0;32m      4\u001B[0m desviacio_estandard_limf \u001B[38;5;241m=\u001B[39m AMB_PA_MECVV[\u001B[38;5;124m'\u001B[39m\u001B[38;5;124mLimfos\u001B[39m\u001B[38;5;124m'\u001B[39m]\u001B[38;5;241m.\u001B[39mstd()\n",
      "\u001B[1;31mNameError\u001B[0m: name 'pd' is not defined"
     ]
    }
   ],
   "execution_count": 230
  },
  {
   "cell_type": "code",
   "source": [
    "SENSE_PA.loc[:, 'Limfos'] = pd.to_numeric(SENSE_PA['Limfos'], errors='coerce')\n",
    "\n",
    "Mitjana_limf = SENSE_PA['Limfos'].mean()\n",
    "desviacio_estandard_limf = SENSE_PA['Limfos'].std()\n",
    "\n",
    "resultat = f\"{Mitjana_limf:.2f} ± {desviacio_estandard_limf:.2f}\"\n",
    "print(\"Mitjana ± Desviació Estàndard dels limfòcits %:\", resultat)"
   ],
   "metadata": {
    "collapsed": false,
    "ExecuteTime": {
     "end_time": "2024-05-29T13:05:21.081816Z",
     "start_time": "2024-05-29T13:05:21.058144Z"
    }
   },
   "id": "5b7e432f91786616",
   "outputs": [
    {
     "ename": "NameError",
     "evalue": "name 'pd' is not defined",
     "output_type": "error",
     "traceback": [
      "\u001B[1;31m---------------------------------------------------------------------------\u001B[0m",
      "\u001B[1;31mNameError\u001B[0m                                 Traceback (most recent call last)",
      "Cell \u001B[1;32mIn[231], line 1\u001B[0m\n\u001B[1;32m----> 1\u001B[0m SENSE_PA\u001B[38;5;241m.\u001B[39mloc[:, \u001B[38;5;124m'\u001B[39m\u001B[38;5;124mLimfos\u001B[39m\u001B[38;5;124m'\u001B[39m] \u001B[38;5;241m=\u001B[39m \u001B[43mpd\u001B[49m\u001B[38;5;241m.\u001B[39mto_numeric(SENSE_PA[\u001B[38;5;124m'\u001B[39m\u001B[38;5;124mLimfos\u001B[39m\u001B[38;5;124m'\u001B[39m], errors\u001B[38;5;241m=\u001B[39m\u001B[38;5;124m'\u001B[39m\u001B[38;5;124mcoerce\u001B[39m\u001B[38;5;124m'\u001B[39m)\n\u001B[0;32m      3\u001B[0m Mitjana_limf \u001B[38;5;241m=\u001B[39m SENSE_PA[\u001B[38;5;124m'\u001B[39m\u001B[38;5;124mLimfos\u001B[39m\u001B[38;5;124m'\u001B[39m]\u001B[38;5;241m.\u001B[39mmean()\n\u001B[0;32m      4\u001B[0m desviacio_estandard_limf \u001B[38;5;241m=\u001B[39m SENSE_PA[\u001B[38;5;124m'\u001B[39m\u001B[38;5;124mLimfos\u001B[39m\u001B[38;5;124m'\u001B[39m]\u001B[38;5;241m.\u001B[39mstd()\n",
      "\u001B[1;31mNameError\u001B[0m: name 'pd' is not defined"
     ]
    }
   ],
   "execution_count": 231
  },
  {
   "cell_type": "code",
   "source": [
    "TOTAL.loc[:, 'Limfos'] = pd.to_numeric(TOTAL['Limfos'], errors='coerce')\n",
    "\n",
    "Mitjana_limf = TOTAL['Limfos'].mean()\n",
    "desviacio_estandard_limf = TOTAL['Limfos'].std()\n",
    "\n",
    "resultat = f\"{Mitjana_limf:.2f} ± {desviacio_estandard_limf:.2f}\"\n",
    "print(\"Mitjana ± Desviació Estàndard dels limfòcits %:\", resultat)"
   ],
   "metadata": {
    "collapsed": false,
    "ExecuteTime": {
     "end_time": "2024-05-29T13:05:21.997889Z",
     "start_time": "2024-05-29T13:05:21.976981Z"
    }
   },
   "id": "7f91fc25cf9a8ff8",
   "outputs": [
    {
     "ename": "NameError",
     "evalue": "name 'pd' is not defined",
     "output_type": "error",
     "traceback": [
      "\u001B[1;31m---------------------------------------------------------------------------\u001B[0m",
      "\u001B[1;31mNameError\u001B[0m                                 Traceback (most recent call last)",
      "Cell \u001B[1;32mIn[232], line 1\u001B[0m\n\u001B[1;32m----> 1\u001B[0m TOTAL\u001B[38;5;241m.\u001B[39mloc[:, \u001B[38;5;124m'\u001B[39m\u001B[38;5;124mLimfos\u001B[39m\u001B[38;5;124m'\u001B[39m] \u001B[38;5;241m=\u001B[39m \u001B[43mpd\u001B[49m\u001B[38;5;241m.\u001B[39mto_numeric(TOTAL[\u001B[38;5;124m'\u001B[39m\u001B[38;5;124mLimfos\u001B[39m\u001B[38;5;124m'\u001B[39m], errors\u001B[38;5;241m=\u001B[39m\u001B[38;5;124m'\u001B[39m\u001B[38;5;124mcoerce\u001B[39m\u001B[38;5;124m'\u001B[39m)\n\u001B[0;32m      3\u001B[0m Mitjana_limf \u001B[38;5;241m=\u001B[39m TOTAL[\u001B[38;5;124m'\u001B[39m\u001B[38;5;124mLimfos\u001B[39m\u001B[38;5;124m'\u001B[39m]\u001B[38;5;241m.\u001B[39mmean()\n\u001B[0;32m      4\u001B[0m desviacio_estandard_limf \u001B[38;5;241m=\u001B[39m TOTAL[\u001B[38;5;124m'\u001B[39m\u001B[38;5;124mLimfos\u001B[39m\u001B[38;5;124m'\u001B[39m]\u001B[38;5;241m.\u001B[39mstd()\n",
      "\u001B[1;31mNameError\u001B[0m: name 'pd' is not defined"
     ]
    }
   ],
   "execution_count": 232
  },
  {
   "cell_type": "markdown",
   "source": [
    "#### Comparació distributiva"
   ],
   "metadata": {
    "collapsed": false
   },
   "id": "b157b909c8bffcd9"
  },
  {
   "cell_type": "markdown",
   "source": [
    "##### Normalitat i p-valor"
   ],
   "metadata": {
    "collapsed": false
   },
   "id": "9ec6bcd30846597f"
  },
  {
   "cell_type": "markdown",
   "source": [
    "NORMALITAT: Tots els grups, menys el primer (AMB_PA), segueixen una distribució normal"
   ],
   "metadata": {
    "collapsed": false
   },
   "id": "239326fafffa003f"
  },
  {
   "cell_type": "code",
   "source": [
    "stat_12, p_val_12 = mannwhitneyu(AMB_PA['Limfos'], AMB_PA_MECVV['Limfos'], alternative='two-sided')\n",
    "print(\"P-valor entre AMB_PA i AMB_PA_MECVV:\", p_val_12)"
   ],
   "metadata": {
    "collapsed": false,
    "ExecuteTime": {
     "end_time": "2024-05-29T13:05:22.821538Z",
     "start_time": "2024-05-29T13:05:22.799494Z"
    }
   },
   "id": "6f13589205648318",
   "outputs": [
    {
     "ename": "NameError",
     "evalue": "name 'mannwhitneyu' is not defined",
     "output_type": "error",
     "traceback": [
      "\u001B[1;31m---------------------------------------------------------------------------\u001B[0m",
      "\u001B[1;31mNameError\u001B[0m                                 Traceback (most recent call last)",
      "Cell \u001B[1;32mIn[233], line 1\u001B[0m\n\u001B[1;32m----> 1\u001B[0m stat_12, p_val_12 \u001B[38;5;241m=\u001B[39m \u001B[43mmannwhitneyu\u001B[49m(AMB_PA[\u001B[38;5;124m'\u001B[39m\u001B[38;5;124mLimfos\u001B[39m\u001B[38;5;124m'\u001B[39m], AMB_PA_MECVV[\u001B[38;5;124m'\u001B[39m\u001B[38;5;124mLimfos\u001B[39m\u001B[38;5;124m'\u001B[39m], alternative\u001B[38;5;241m=\u001B[39m\u001B[38;5;124m'\u001B[39m\u001B[38;5;124mtwo-sided\u001B[39m\u001B[38;5;124m'\u001B[39m)\n\u001B[0;32m      2\u001B[0m \u001B[38;5;28mprint\u001B[39m(\u001B[38;5;124m\"\u001B[39m\u001B[38;5;124mP-valor entre AMB_PA i AMB_PA_MECVV:\u001B[39m\u001B[38;5;124m\"\u001B[39m, p_val_12)\n",
      "\u001B[1;31mNameError\u001B[0m: name 'mannwhitneyu' is not defined"
     ]
    }
   ],
   "execution_count": 233
  },
  {
   "cell_type": "code",
   "source": [
    "t_stat_13, p_val_13 = mannwhitneyu(AMB_PA['Limfos'], SENSE_PA['Limfos'], alternative='two-sided')\n",
    "print(\"P-valor entre AMB_PA i SENSE_PA:\", p_val_13)"
   ],
   "metadata": {
    "collapsed": false,
    "ExecuteTime": {
     "end_time": "2024-05-29T13:05:23.687303Z",
     "start_time": "2024-05-29T13:05:23.668170Z"
    }
   },
   "id": "340e7c25a4472023",
   "outputs": [
    {
     "ename": "NameError",
     "evalue": "name 'mannwhitneyu' is not defined",
     "output_type": "error",
     "traceback": [
      "\u001B[1;31m---------------------------------------------------------------------------\u001B[0m",
      "\u001B[1;31mNameError\u001B[0m                                 Traceback (most recent call last)",
      "Cell \u001B[1;32mIn[234], line 1\u001B[0m\n\u001B[1;32m----> 1\u001B[0m t_stat_13, p_val_13 \u001B[38;5;241m=\u001B[39m \u001B[43mmannwhitneyu\u001B[49m(AMB_PA[\u001B[38;5;124m'\u001B[39m\u001B[38;5;124mLimfos\u001B[39m\u001B[38;5;124m'\u001B[39m], SENSE_PA[\u001B[38;5;124m'\u001B[39m\u001B[38;5;124mLimfos\u001B[39m\u001B[38;5;124m'\u001B[39m], alternative\u001B[38;5;241m=\u001B[39m\u001B[38;5;124m'\u001B[39m\u001B[38;5;124mtwo-sided\u001B[39m\u001B[38;5;124m'\u001B[39m)\n\u001B[0;32m      2\u001B[0m \u001B[38;5;28mprint\u001B[39m(\u001B[38;5;124m\"\u001B[39m\u001B[38;5;124mP-valor entre AMB_PA i SENSE_PA:\u001B[39m\u001B[38;5;124m\"\u001B[39m, p_val_13)\n",
      "\u001B[1;31mNameError\u001B[0m: name 'mannwhitneyu' is not defined"
     ]
    }
   ],
   "execution_count": 234
  },
  {
   "cell_type": "code",
   "source": [
    "stat_23, p_val_23 = ttest_ind(AMB_PA_MECVV['Limfos'], SENSE_PA['Limfos'], equal_var=False)\n",
    "print(\"P-valor entre AMB_PA_MECVV i SENSE_PA:\", p_val_23)"
   ],
   "metadata": {
    "collapsed": false,
    "ExecuteTime": {
     "end_time": "2024-05-29T13:05:24.533890Z",
     "start_time": "2024-05-29T13:05:24.512082Z"
    }
   },
   "id": "7ad7e825f51959ba",
   "outputs": [
    {
     "ename": "NameError",
     "evalue": "name 'ttest_ind' is not defined",
     "output_type": "error",
     "traceback": [
      "\u001B[1;31m---------------------------------------------------------------------------\u001B[0m",
      "\u001B[1;31mNameError\u001B[0m                                 Traceback (most recent call last)",
      "Cell \u001B[1;32mIn[235], line 1\u001B[0m\n\u001B[1;32m----> 1\u001B[0m stat_23, p_val_23 \u001B[38;5;241m=\u001B[39m \u001B[43mttest_ind\u001B[49m(AMB_PA_MECVV[\u001B[38;5;124m'\u001B[39m\u001B[38;5;124mLimfos\u001B[39m\u001B[38;5;124m'\u001B[39m], SENSE_PA[\u001B[38;5;124m'\u001B[39m\u001B[38;5;124mLimfos\u001B[39m\u001B[38;5;124m'\u001B[39m], equal_var\u001B[38;5;241m=\u001B[39m\u001B[38;5;28;01mFalse\u001B[39;00m)\n\u001B[0;32m      2\u001B[0m \u001B[38;5;28mprint\u001B[39m(\u001B[38;5;124m\"\u001B[39m\u001B[38;5;124mP-valor entre AMB_PA_MECVV i SENSE_PA:\u001B[39m\u001B[38;5;124m\"\u001B[39m, p_val_23)\n",
      "\u001B[1;31mNameError\u001B[0m: name 'ttest_ind' is not defined"
     ]
    }
   ],
   "execution_count": 235
  },
  {
   "cell_type": "code",
   "source": [
    "stat_14, p_val_14 = mannwhitneyu(AMB_PA['Limfos'], TOTAL['Limfos'], alternative='two-sided')\n",
    "print(\"P-valor entre AMB_PA i TOTAL:\", p_val_14)"
   ],
   "metadata": {
    "collapsed": false,
    "ExecuteTime": {
     "end_time": "2024-05-29T13:05:25.203238Z",
     "start_time": "2024-05-29T13:05:25.169466Z"
    }
   },
   "id": "6fcab4a8fb5ace29",
   "outputs": [
    {
     "ename": "NameError",
     "evalue": "name 'mannwhitneyu' is not defined",
     "output_type": "error",
     "traceback": [
      "\u001B[1;31m---------------------------------------------------------------------------\u001B[0m",
      "\u001B[1;31mNameError\u001B[0m                                 Traceback (most recent call last)",
      "Cell \u001B[1;32mIn[236], line 1\u001B[0m\n\u001B[1;32m----> 1\u001B[0m stat_14, p_val_14 \u001B[38;5;241m=\u001B[39m \u001B[43mmannwhitneyu\u001B[49m(AMB_PA[\u001B[38;5;124m'\u001B[39m\u001B[38;5;124mLimfos\u001B[39m\u001B[38;5;124m'\u001B[39m], TOTAL[\u001B[38;5;124m'\u001B[39m\u001B[38;5;124mLimfos\u001B[39m\u001B[38;5;124m'\u001B[39m], alternative\u001B[38;5;241m=\u001B[39m\u001B[38;5;124m'\u001B[39m\u001B[38;5;124mtwo-sided\u001B[39m\u001B[38;5;124m'\u001B[39m)\n\u001B[0;32m      2\u001B[0m \u001B[38;5;28mprint\u001B[39m(\u001B[38;5;124m\"\u001B[39m\u001B[38;5;124mP-valor entre AMB_PA i TOTAL:\u001B[39m\u001B[38;5;124m\"\u001B[39m, p_val_14)\n",
      "\u001B[1;31mNameError\u001B[0m: name 'mannwhitneyu' is not defined"
     ]
    }
   ],
   "execution_count": 236
  },
  {
   "cell_type": "code",
   "source": [
    "stat_24, p_val_24 = ttest_ind(AMB_PA_MECVV['Limfos'], TOTAL['Limfos'], equal_var=False)\n",
    "print(\"P-valor entre AMB_PA_MECVV i TOTAL:\", p_val_24)"
   ],
   "metadata": {
    "collapsed": false,
    "ExecuteTime": {
     "end_time": "2024-05-29T13:05:26.228491Z",
     "start_time": "2024-05-29T13:05:26.202620Z"
    }
   },
   "id": "dabd1d0962b7d9fa",
   "outputs": [
    {
     "ename": "NameError",
     "evalue": "name 'ttest_ind' is not defined",
     "output_type": "error",
     "traceback": [
      "\u001B[1;31m---------------------------------------------------------------------------\u001B[0m",
      "\u001B[1;31mNameError\u001B[0m                                 Traceback (most recent call last)",
      "Cell \u001B[1;32mIn[237], line 1\u001B[0m\n\u001B[1;32m----> 1\u001B[0m stat_24, p_val_24 \u001B[38;5;241m=\u001B[39m \u001B[43mttest_ind\u001B[49m(AMB_PA_MECVV[\u001B[38;5;124m'\u001B[39m\u001B[38;5;124mLimfos\u001B[39m\u001B[38;5;124m'\u001B[39m], TOTAL[\u001B[38;5;124m'\u001B[39m\u001B[38;5;124mLimfos\u001B[39m\u001B[38;5;124m'\u001B[39m], equal_var\u001B[38;5;241m=\u001B[39m\u001B[38;5;28;01mFalse\u001B[39;00m)\n\u001B[0;32m      2\u001B[0m \u001B[38;5;28mprint\u001B[39m(\u001B[38;5;124m\"\u001B[39m\u001B[38;5;124mP-valor entre AMB_PA_MECVV i TOTAL:\u001B[39m\u001B[38;5;124m\"\u001B[39m, p_val_24)\n",
      "\u001B[1;31mNameError\u001B[0m: name 'ttest_ind' is not defined"
     ]
    }
   ],
   "execution_count": 237
  },
  {
   "cell_type": "code",
   "source": [
    "stat_34, p_val_34 = ttest_ind(SENSE_PA['Limfos'], TOTAL['Limfos'], equal_var=False)\n",
    "print(\"P-valor entre SNESE_PA i TOTAL:\", p_val_14)"
   ],
   "metadata": {
    "collapsed": false,
    "ExecuteTime": {
     "end_time": "2024-05-29T13:05:27.486303Z",
     "start_time": "2024-05-29T13:05:27.461398Z"
    }
   },
   "id": "6ccf866a07cbeb28",
   "outputs": [
    {
     "ename": "NameError",
     "evalue": "name 'ttest_ind' is not defined",
     "output_type": "error",
     "traceback": [
      "\u001B[1;31m---------------------------------------------------------------------------\u001B[0m",
      "\u001B[1;31mNameError\u001B[0m                                 Traceback (most recent call last)",
      "Cell \u001B[1;32mIn[238], line 1\u001B[0m\n\u001B[1;32m----> 1\u001B[0m stat_34, p_val_34 \u001B[38;5;241m=\u001B[39m \u001B[43mttest_ind\u001B[49m(SENSE_PA[\u001B[38;5;124m'\u001B[39m\u001B[38;5;124mLimfos\u001B[39m\u001B[38;5;124m'\u001B[39m], TOTAL[\u001B[38;5;124m'\u001B[39m\u001B[38;5;124mLimfos\u001B[39m\u001B[38;5;124m'\u001B[39m], equal_var\u001B[38;5;241m=\u001B[39m\u001B[38;5;28;01mFalse\u001B[39;00m)\n\u001B[0;32m      2\u001B[0m \u001B[38;5;28mprint\u001B[39m(\u001B[38;5;124m\"\u001B[39m\u001B[38;5;124mP-valor entre SNESE_PA i TOTAL:\u001B[39m\u001B[38;5;124m\"\u001B[39m, p_val_14)\n",
      "\u001B[1;31mNameError\u001B[0m: name 'ttest_ind' is not defined"
     ]
    }
   ],
   "execution_count": 238
  },
  {
   "cell_type": "markdown",
   "source": [
    "### Proteïna C Reactiva"
   ],
   "metadata": {
    "collapsed": false
   },
   "id": "33798534e24b6df3"
  },
  {
   "cell_type": "code",
   "source": [
    "AMB_PA.loc[:, 'Prot C react'] = pd.to_numeric(AMB_PA['Prot C react'], errors='coerce')\n",
    "\n",
    "Mitjana_protcr = AMB_PA['Prot C react'].mean()\n",
    "desviacio_estandard_protcr = AMB_PA['Prot C react'].std()\n",
    "\n",
    "resultat = f\"{Mitjana_protcr:.2f} ± {desviacio_estandard_protcr:.2f}\"\n",
    "print(\"Mitjana ± Desviació Estàndard de la proteïna C reactiva:\", resultat)"
   ],
   "metadata": {
    "collapsed": false,
    "ExecuteTime": {
     "end_time": "2024-05-29T13:05:28.043570Z",
     "start_time": "2024-05-29T13:05:28.015884Z"
    }
   },
   "id": "8607e374ee99079a",
   "outputs": [
    {
     "ename": "NameError",
     "evalue": "name 'pd' is not defined",
     "output_type": "error",
     "traceback": [
      "\u001B[1;31m---------------------------------------------------------------------------\u001B[0m",
      "\u001B[1;31mNameError\u001B[0m                                 Traceback (most recent call last)",
      "Cell \u001B[1;32mIn[239], line 1\u001B[0m\n\u001B[1;32m----> 1\u001B[0m AMB_PA\u001B[38;5;241m.\u001B[39mloc[:, \u001B[38;5;124m'\u001B[39m\u001B[38;5;124mProt C react\u001B[39m\u001B[38;5;124m'\u001B[39m] \u001B[38;5;241m=\u001B[39m \u001B[43mpd\u001B[49m\u001B[38;5;241m.\u001B[39mto_numeric(AMB_PA[\u001B[38;5;124m'\u001B[39m\u001B[38;5;124mProt C react\u001B[39m\u001B[38;5;124m'\u001B[39m], errors\u001B[38;5;241m=\u001B[39m\u001B[38;5;124m'\u001B[39m\u001B[38;5;124mcoerce\u001B[39m\u001B[38;5;124m'\u001B[39m)\n\u001B[0;32m      3\u001B[0m Mitjana_protcr \u001B[38;5;241m=\u001B[39m AMB_PA[\u001B[38;5;124m'\u001B[39m\u001B[38;5;124mProt C react\u001B[39m\u001B[38;5;124m'\u001B[39m]\u001B[38;5;241m.\u001B[39mmean()\n\u001B[0;32m      4\u001B[0m desviacio_estandard_protcr \u001B[38;5;241m=\u001B[39m AMB_PA[\u001B[38;5;124m'\u001B[39m\u001B[38;5;124mProt C react\u001B[39m\u001B[38;5;124m'\u001B[39m]\u001B[38;5;241m.\u001B[39mstd()\n",
      "\u001B[1;31mNameError\u001B[0m: name 'pd' is not defined"
     ]
    }
   ],
   "execution_count": 239
  },
  {
   "cell_type": "code",
   "source": [
    "AMB_PA_MECVV.loc[:, 'Prot C react'] = pd.to_numeric(AMB_PA_MECVV['Prot C react'], errors='coerce')\n",
    "\n",
    "Mitjana_protcr = AMB_PA_MECVV['Prot C react'].mean()\n",
    "desviacio_estandard_protcr = AMB_PA_MECVV['Prot C react'].std()\n",
    "\n",
    "resultat = f\"{Mitjana_protcr:.2f} ± {desviacio_estandard_protcr:.2f}\"\n",
    "print(\"Mitjana ± Desviació Estàndard de la proteïna C reactiva:\", resultat)"
   ],
   "metadata": {
    "collapsed": false,
    "ExecuteTime": {
     "end_time": "2024-05-29T13:05:29.014167Z",
     "start_time": "2024-05-29T13:05:28.991019Z"
    }
   },
   "id": "665476b79a554c8f",
   "outputs": [
    {
     "ename": "NameError",
     "evalue": "name 'pd' is not defined",
     "output_type": "error",
     "traceback": [
      "\u001B[1;31m---------------------------------------------------------------------------\u001B[0m",
      "\u001B[1;31mNameError\u001B[0m                                 Traceback (most recent call last)",
      "Cell \u001B[1;32mIn[240], line 1\u001B[0m\n\u001B[1;32m----> 1\u001B[0m AMB_PA_MECVV\u001B[38;5;241m.\u001B[39mloc[:, \u001B[38;5;124m'\u001B[39m\u001B[38;5;124mProt C react\u001B[39m\u001B[38;5;124m'\u001B[39m] \u001B[38;5;241m=\u001B[39m \u001B[43mpd\u001B[49m\u001B[38;5;241m.\u001B[39mto_numeric(AMB_PA_MECVV[\u001B[38;5;124m'\u001B[39m\u001B[38;5;124mProt C react\u001B[39m\u001B[38;5;124m'\u001B[39m], errors\u001B[38;5;241m=\u001B[39m\u001B[38;5;124m'\u001B[39m\u001B[38;5;124mcoerce\u001B[39m\u001B[38;5;124m'\u001B[39m)\n\u001B[0;32m      3\u001B[0m Mitjana_protcr \u001B[38;5;241m=\u001B[39m AMB_PA_MECVV[\u001B[38;5;124m'\u001B[39m\u001B[38;5;124mProt C react\u001B[39m\u001B[38;5;124m'\u001B[39m]\u001B[38;5;241m.\u001B[39mmean()\n\u001B[0;32m      4\u001B[0m desviacio_estandard_protcr \u001B[38;5;241m=\u001B[39m AMB_PA_MECVV[\u001B[38;5;124m'\u001B[39m\u001B[38;5;124mProt C react\u001B[39m\u001B[38;5;124m'\u001B[39m]\u001B[38;5;241m.\u001B[39mstd()\n",
      "\u001B[1;31mNameError\u001B[0m: name 'pd' is not defined"
     ]
    }
   ],
   "execution_count": 240
  },
  {
   "cell_type": "code",
   "source": [
    "SENSE_PA.loc[:, 'Prot C react'] = pd.to_numeric(SENSE_PA['Prot C react'], errors='coerce')\n",
    "\n",
    "Mitjana_protcr = SENSE_PA['Prot C react'].mean()\n",
    "desviacio_estandard_protcr = SENSE_PA['Prot C react'].std()\n",
    "\n",
    "resultat = f\"{Mitjana_protcr:.2f} ± {desviacio_estandard_protcr:.2f}\"\n",
    "print(\"Mitjana ± Desviació Estàndard de la proteïna C reactiva:\", resultat)"
   ],
   "metadata": {
    "collapsed": false,
    "ExecuteTime": {
     "end_time": "2024-05-29T13:05:30.109861Z",
     "start_time": "2024-05-29T13:05:30.082154Z"
    }
   },
   "id": "3e20e36b45c32e8f",
   "outputs": [
    {
     "ename": "NameError",
     "evalue": "name 'pd' is not defined",
     "output_type": "error",
     "traceback": [
      "\u001B[1;31m---------------------------------------------------------------------------\u001B[0m",
      "\u001B[1;31mNameError\u001B[0m                                 Traceback (most recent call last)",
      "Cell \u001B[1;32mIn[241], line 1\u001B[0m\n\u001B[1;32m----> 1\u001B[0m SENSE_PA\u001B[38;5;241m.\u001B[39mloc[:, \u001B[38;5;124m'\u001B[39m\u001B[38;5;124mProt C react\u001B[39m\u001B[38;5;124m'\u001B[39m] \u001B[38;5;241m=\u001B[39m \u001B[43mpd\u001B[49m\u001B[38;5;241m.\u001B[39mto_numeric(SENSE_PA[\u001B[38;5;124m'\u001B[39m\u001B[38;5;124mProt C react\u001B[39m\u001B[38;5;124m'\u001B[39m], errors\u001B[38;5;241m=\u001B[39m\u001B[38;5;124m'\u001B[39m\u001B[38;5;124mcoerce\u001B[39m\u001B[38;5;124m'\u001B[39m)\n\u001B[0;32m      3\u001B[0m Mitjana_protcr \u001B[38;5;241m=\u001B[39m SENSE_PA[\u001B[38;5;124m'\u001B[39m\u001B[38;5;124mProt C react\u001B[39m\u001B[38;5;124m'\u001B[39m]\u001B[38;5;241m.\u001B[39mmean()\n\u001B[0;32m      4\u001B[0m desviacio_estandard_protcr \u001B[38;5;241m=\u001B[39m SENSE_PA[\u001B[38;5;124m'\u001B[39m\u001B[38;5;124mProt C react\u001B[39m\u001B[38;5;124m'\u001B[39m]\u001B[38;5;241m.\u001B[39mstd()\n",
      "\u001B[1;31mNameError\u001B[0m: name 'pd' is not defined"
     ]
    }
   ],
   "execution_count": 241
  },
  {
   "cell_type": "code",
   "source": [
    "TOTAL.loc[:, 'Prot C react'] = pd.to_numeric(TOTAL['Prot C react'], errors='coerce')\n",
    "\n",
    "Mitjana_protcr = TOTAL['Prot C react'].mean()\n",
    "desviacio_estandard_protcr = TOTAL['Prot C react'].std()\n",
    "\n",
    "resultat = f\"{Mitjana_protcr:.2f} ± {desviacio_estandard_protcr:.2f}\"\n",
    "print(\"Mitjana ± Desviació Estàndard de la proteïna C reactiva:\", resultat)"
   ],
   "metadata": {
    "collapsed": false,
    "ExecuteTime": {
     "end_time": "2024-05-29T13:05:30.807904Z",
     "start_time": "2024-05-29T13:05:30.782387Z"
    }
   },
   "id": "8ec1dcbbf67306a2",
   "outputs": [
    {
     "ename": "NameError",
     "evalue": "name 'pd' is not defined",
     "output_type": "error",
     "traceback": [
      "\u001B[1;31m---------------------------------------------------------------------------\u001B[0m",
      "\u001B[1;31mNameError\u001B[0m                                 Traceback (most recent call last)",
      "Cell \u001B[1;32mIn[242], line 1\u001B[0m\n\u001B[1;32m----> 1\u001B[0m TOTAL\u001B[38;5;241m.\u001B[39mloc[:, \u001B[38;5;124m'\u001B[39m\u001B[38;5;124mProt C react\u001B[39m\u001B[38;5;124m'\u001B[39m] \u001B[38;5;241m=\u001B[39m \u001B[43mpd\u001B[49m\u001B[38;5;241m.\u001B[39mto_numeric(TOTAL[\u001B[38;5;124m'\u001B[39m\u001B[38;5;124mProt C react\u001B[39m\u001B[38;5;124m'\u001B[39m], errors\u001B[38;5;241m=\u001B[39m\u001B[38;5;124m'\u001B[39m\u001B[38;5;124mcoerce\u001B[39m\u001B[38;5;124m'\u001B[39m)\n\u001B[0;32m      3\u001B[0m Mitjana_protcr \u001B[38;5;241m=\u001B[39m TOTAL[\u001B[38;5;124m'\u001B[39m\u001B[38;5;124mProt C react\u001B[39m\u001B[38;5;124m'\u001B[39m]\u001B[38;5;241m.\u001B[39mmean()\n\u001B[0;32m      4\u001B[0m desviacio_estandard_protcr \u001B[38;5;241m=\u001B[39m TOTAL[\u001B[38;5;124m'\u001B[39m\u001B[38;5;124mProt C react\u001B[39m\u001B[38;5;124m'\u001B[39m]\u001B[38;5;241m.\u001B[39mstd()\n",
      "\u001B[1;31mNameError\u001B[0m: name 'pd' is not defined"
     ]
    }
   ],
   "execution_count": 242
  },
  {
   "cell_type": "markdown",
   "source": [
    "#### Comparació distributiva"
   ],
   "metadata": {
    "collapsed": false
   },
   "id": "17a2618d97df550a"
  },
  {
   "cell_type": "markdown",
   "source": [
    "##### Normalitat i p-valor"
   ],
   "metadata": {
    "collapsed": false
   },
   "id": "9e72e24d3507d681"
  },
  {
   "cell_type": "markdown",
   "source": [
    "NORMALITAT: Tots els grups, menys el quart (TOTAL), segueixen una distribució normal"
   ],
   "metadata": {
    "collapsed": false
   },
   "id": "935035a8ca6d33f4"
  },
  {
   "cell_type": "code",
   "source": [
    "t_stat_12, p_val_12 = ttest_ind(AMB_PA['Prot C react'], AMB_PA_MECVV['Prot C react'], equal_var=False)\n",
    "print(\"P-valor entre AMB_PA i AMB_PA_MECVV:\", p_val_12)"
   ],
   "metadata": {
    "collapsed": false,
    "ExecuteTime": {
     "end_time": "2024-05-29T13:05:32.098684Z",
     "start_time": "2024-05-29T13:05:32.069720Z"
    }
   },
   "id": "8912ea9135073d96",
   "outputs": [
    {
     "ename": "NameError",
     "evalue": "name 'ttest_ind' is not defined",
     "output_type": "error",
     "traceback": [
      "\u001B[1;31m---------------------------------------------------------------------------\u001B[0m",
      "\u001B[1;31mNameError\u001B[0m                                 Traceback (most recent call last)",
      "Cell \u001B[1;32mIn[243], line 1\u001B[0m\n\u001B[1;32m----> 1\u001B[0m t_stat_12, p_val_12 \u001B[38;5;241m=\u001B[39m \u001B[43mttest_ind\u001B[49m(AMB_PA[\u001B[38;5;124m'\u001B[39m\u001B[38;5;124mProt C react\u001B[39m\u001B[38;5;124m'\u001B[39m], AMB_PA_MECVV[\u001B[38;5;124m'\u001B[39m\u001B[38;5;124mProt C react\u001B[39m\u001B[38;5;124m'\u001B[39m], equal_var\u001B[38;5;241m=\u001B[39m\u001B[38;5;28;01mFalse\u001B[39;00m)\n\u001B[0;32m      2\u001B[0m \u001B[38;5;28mprint\u001B[39m(\u001B[38;5;124m\"\u001B[39m\u001B[38;5;124mP-valor entre AMB_PA i AMB_PA_MECVV:\u001B[39m\u001B[38;5;124m\"\u001B[39m, p_val_12)\n",
      "\u001B[1;31mNameError\u001B[0m: name 'ttest_ind' is not defined"
     ]
    }
   ],
   "execution_count": 243
  },
  {
   "cell_type": "code",
   "source": [
    "t_stat_13, p_val_13 = ttest_ind(AMB_PA['Prot C react'], SENSE_PA['Prot C react'], equal_var=False)\n",
    "print(\"P-valor entre AMB_PA i SENSE_PA:\", p_val_13)"
   ],
   "metadata": {
    "collapsed": false,
    "ExecuteTime": {
     "end_time": "2024-05-29T13:05:33.419822Z",
     "start_time": "2024-05-29T13:05:33.395293Z"
    }
   },
   "id": "82fb9a29cf18e86d",
   "outputs": [
    {
     "ename": "NameError",
     "evalue": "name 'ttest_ind' is not defined",
     "output_type": "error",
     "traceback": [
      "\u001B[1;31m---------------------------------------------------------------------------\u001B[0m",
      "\u001B[1;31mNameError\u001B[0m                                 Traceback (most recent call last)",
      "Cell \u001B[1;32mIn[244], line 1\u001B[0m\n\u001B[1;32m----> 1\u001B[0m t_stat_13, p_val_13 \u001B[38;5;241m=\u001B[39m \u001B[43mttest_ind\u001B[49m(AMB_PA[\u001B[38;5;124m'\u001B[39m\u001B[38;5;124mProt C react\u001B[39m\u001B[38;5;124m'\u001B[39m], SENSE_PA[\u001B[38;5;124m'\u001B[39m\u001B[38;5;124mProt C react\u001B[39m\u001B[38;5;124m'\u001B[39m], equal_var\u001B[38;5;241m=\u001B[39m\u001B[38;5;28;01mFalse\u001B[39;00m)\n\u001B[0;32m      2\u001B[0m \u001B[38;5;28mprint\u001B[39m(\u001B[38;5;124m\"\u001B[39m\u001B[38;5;124mP-valor entre AMB_PA i SENSE_PA:\u001B[39m\u001B[38;5;124m\"\u001B[39m, p_val_13)\n",
      "\u001B[1;31mNameError\u001B[0m: name 'ttest_ind' is not defined"
     ]
    }
   ],
   "execution_count": 244
  },
  {
   "cell_type": "code",
   "source": [
    "t_stat_23, p_val_23 = ttest_ind(AMB_PA_MECVV['Prot C react'], SENSE_PA['Prot C react'], equal_var=False)\n",
    "print(\"P-valor entre AMB_PA_MECVV i SENSE_PA:\", p_val_23)"
   ],
   "metadata": {
    "collapsed": false,
    "ExecuteTime": {
     "end_time": "2024-05-29T13:05:34.179066Z",
     "start_time": "2024-05-29T13:05:34.156091Z"
    }
   },
   "id": "7a72be96dd61d0e9",
   "outputs": [
    {
     "ename": "NameError",
     "evalue": "name 'ttest_ind' is not defined",
     "output_type": "error",
     "traceback": [
      "\u001B[1;31m---------------------------------------------------------------------------\u001B[0m",
      "\u001B[1;31mNameError\u001B[0m                                 Traceback (most recent call last)",
      "Cell \u001B[1;32mIn[245], line 1\u001B[0m\n\u001B[1;32m----> 1\u001B[0m t_stat_23, p_val_23 \u001B[38;5;241m=\u001B[39m \u001B[43mttest_ind\u001B[49m(AMB_PA_MECVV[\u001B[38;5;124m'\u001B[39m\u001B[38;5;124mProt C react\u001B[39m\u001B[38;5;124m'\u001B[39m], SENSE_PA[\u001B[38;5;124m'\u001B[39m\u001B[38;5;124mProt C react\u001B[39m\u001B[38;5;124m'\u001B[39m], equal_var\u001B[38;5;241m=\u001B[39m\u001B[38;5;28;01mFalse\u001B[39;00m)\n\u001B[0;32m      2\u001B[0m \u001B[38;5;28mprint\u001B[39m(\u001B[38;5;124m\"\u001B[39m\u001B[38;5;124mP-valor entre AMB_PA_MECVV i SENSE_PA:\u001B[39m\u001B[38;5;124m\"\u001B[39m, p_val_23)\n",
      "\u001B[1;31mNameError\u001B[0m: name 'ttest_ind' is not defined"
     ]
    }
   ],
   "execution_count": 245
  },
  {
   "cell_type": "code",
   "source": [
    "t_stat_14, p_val_14 = mannwhitneyu(AMB_PA['Prot C react'], TOTAL['Prot C react'], alternative='two-sided')\n",
    "print(\"P-valor entre AMB_PA i TOTAL:\", p_val_14)"
   ],
   "metadata": {
    "collapsed": false,
    "ExecuteTime": {
     "end_time": "2024-05-29T13:05:35.420518Z",
     "start_time": "2024-05-29T13:05:35.398911Z"
    }
   },
   "id": "21b06f6cb0bd079a",
   "outputs": [
    {
     "ename": "NameError",
     "evalue": "name 'mannwhitneyu' is not defined",
     "output_type": "error",
     "traceback": [
      "\u001B[1;31m---------------------------------------------------------------------------\u001B[0m",
      "\u001B[1;31mNameError\u001B[0m                                 Traceback (most recent call last)",
      "Cell \u001B[1;32mIn[246], line 1\u001B[0m\n\u001B[1;32m----> 1\u001B[0m t_stat_14, p_val_14 \u001B[38;5;241m=\u001B[39m \u001B[43mmannwhitneyu\u001B[49m(AMB_PA[\u001B[38;5;124m'\u001B[39m\u001B[38;5;124mProt C react\u001B[39m\u001B[38;5;124m'\u001B[39m], TOTAL[\u001B[38;5;124m'\u001B[39m\u001B[38;5;124mProt C react\u001B[39m\u001B[38;5;124m'\u001B[39m], alternative\u001B[38;5;241m=\u001B[39m\u001B[38;5;124m'\u001B[39m\u001B[38;5;124mtwo-sided\u001B[39m\u001B[38;5;124m'\u001B[39m)\n\u001B[0;32m      2\u001B[0m \u001B[38;5;28mprint\u001B[39m(\u001B[38;5;124m\"\u001B[39m\u001B[38;5;124mP-valor entre AMB_PA i TOTAL:\u001B[39m\u001B[38;5;124m\"\u001B[39m, p_val_14)\n",
      "\u001B[1;31mNameError\u001B[0m: name 'mannwhitneyu' is not defined"
     ]
    }
   ],
   "execution_count": 246
  },
  {
   "cell_type": "code",
   "source": [
    "t_stat_24, p_val_24 = mannwhitneyu(AMB_PA_MECVV['Prot C react'], TOTAL['Prot C react'], alternative='two-sided')\n",
    "print(\"P-valor entre AMB_PA_MECVV i TOTAL:\", p_val_24)"
   ],
   "metadata": {
    "collapsed": false,
    "ExecuteTime": {
     "end_time": "2024-05-29T13:05:36.741341Z",
     "start_time": "2024-05-29T13:05:36.720056Z"
    }
   },
   "id": "e4f9984d93a7ae20",
   "outputs": [
    {
     "ename": "NameError",
     "evalue": "name 'mannwhitneyu' is not defined",
     "output_type": "error",
     "traceback": [
      "\u001B[1;31m---------------------------------------------------------------------------\u001B[0m",
      "\u001B[1;31mNameError\u001B[0m                                 Traceback (most recent call last)",
      "Cell \u001B[1;32mIn[247], line 1\u001B[0m\n\u001B[1;32m----> 1\u001B[0m t_stat_24, p_val_24 \u001B[38;5;241m=\u001B[39m \u001B[43mmannwhitneyu\u001B[49m(AMB_PA_MECVV[\u001B[38;5;124m'\u001B[39m\u001B[38;5;124mProt C react\u001B[39m\u001B[38;5;124m'\u001B[39m], TOTAL[\u001B[38;5;124m'\u001B[39m\u001B[38;5;124mProt C react\u001B[39m\u001B[38;5;124m'\u001B[39m], alternative\u001B[38;5;241m=\u001B[39m\u001B[38;5;124m'\u001B[39m\u001B[38;5;124mtwo-sided\u001B[39m\u001B[38;5;124m'\u001B[39m)\n\u001B[0;32m      2\u001B[0m \u001B[38;5;28mprint\u001B[39m(\u001B[38;5;124m\"\u001B[39m\u001B[38;5;124mP-valor entre AMB_PA_MECVV i TOTAL:\u001B[39m\u001B[38;5;124m\"\u001B[39m, p_val_24)\n",
      "\u001B[1;31mNameError\u001B[0m: name 'mannwhitneyu' is not defined"
     ]
    }
   ],
   "execution_count": 247
  },
  {
   "cell_type": "code",
   "source": [
    "t_stat_34, p_val_34 = mannwhitneyu(SENSE_PA['Prot C react'], TOTAL['Prot C react'], alternative='two-sided')\n",
    "print(\"P-valor entre SENSE_PA i TOTAL:\", p_val_34)"
   ],
   "metadata": {
    "collapsed": false,
    "ExecuteTime": {
     "end_time": "2024-05-29T13:05:37.610137Z",
     "start_time": "2024-05-29T13:05:37.576775Z"
    }
   },
   "id": "1076dbaf87a688ee",
   "outputs": [
    {
     "ename": "NameError",
     "evalue": "name 'mannwhitneyu' is not defined",
     "output_type": "error",
     "traceback": [
      "\u001B[1;31m---------------------------------------------------------------------------\u001B[0m",
      "\u001B[1;31mNameError\u001B[0m                                 Traceback (most recent call last)",
      "Cell \u001B[1;32mIn[248], line 1\u001B[0m\n\u001B[1;32m----> 1\u001B[0m t_stat_34, p_val_34 \u001B[38;5;241m=\u001B[39m \u001B[43mmannwhitneyu\u001B[49m(SENSE_PA[\u001B[38;5;124m'\u001B[39m\u001B[38;5;124mProt C react\u001B[39m\u001B[38;5;124m'\u001B[39m], TOTAL[\u001B[38;5;124m'\u001B[39m\u001B[38;5;124mProt C react\u001B[39m\u001B[38;5;124m'\u001B[39m], alternative\u001B[38;5;241m=\u001B[39m\u001B[38;5;124m'\u001B[39m\u001B[38;5;124mtwo-sided\u001B[39m\u001B[38;5;124m'\u001B[39m)\n\u001B[0;32m      2\u001B[0m \u001B[38;5;28mprint\u001B[39m(\u001B[38;5;124m\"\u001B[39m\u001B[38;5;124mP-valor entre SENSE_PA i TOTAL:\u001B[39m\u001B[38;5;124m\"\u001B[39m, p_val_34)\n",
      "\u001B[1;31mNameError\u001B[0m: name 'mannwhitneyu' is not defined"
     ]
    }
   ],
   "execution_count": 248
  },
  {
   "cell_type": "markdown",
   "source": [
    "### Urea "
   ],
   "metadata": {
    "collapsed": false
   },
   "id": "33d3d3507ff40c7a"
  },
  {
   "cell_type": "code",
   "source": [
    "AMB_PA.loc[:, 'Urea'] = pd.to_numeric(AMB_PA['Urea'], errors='coerce')\n",
    "\n",
    "Mitjana_Urea = AMB_PA['Urea'].mean()\n",
    "desviacio_estandard_Urea = AMB_PA['Urea'].std()\n",
    "\n",
    "resultat = f\"{Mitjana_Urea:.2f} ± {desviacio_estandard_Urea:.2f}\"\n",
    "print(\"Mitjana ± Desviació Estàndard de la Urea:\", resultat)"
   ],
   "metadata": {
    "collapsed": false,
    "ExecuteTime": {
     "end_time": "2024-05-29T13:05:38.815893Z",
     "start_time": "2024-05-29T13:05:38.791889Z"
    }
   },
   "id": "55f377e0243f31c3",
   "outputs": [
    {
     "ename": "NameError",
     "evalue": "name 'pd' is not defined",
     "output_type": "error",
     "traceback": [
      "\u001B[1;31m---------------------------------------------------------------------------\u001B[0m",
      "\u001B[1;31mNameError\u001B[0m                                 Traceback (most recent call last)",
      "Cell \u001B[1;32mIn[249], line 1\u001B[0m\n\u001B[1;32m----> 1\u001B[0m AMB_PA\u001B[38;5;241m.\u001B[39mloc[:, \u001B[38;5;124m'\u001B[39m\u001B[38;5;124mUrea\u001B[39m\u001B[38;5;124m'\u001B[39m] \u001B[38;5;241m=\u001B[39m \u001B[43mpd\u001B[49m\u001B[38;5;241m.\u001B[39mto_numeric(AMB_PA[\u001B[38;5;124m'\u001B[39m\u001B[38;5;124mUrea\u001B[39m\u001B[38;5;124m'\u001B[39m], errors\u001B[38;5;241m=\u001B[39m\u001B[38;5;124m'\u001B[39m\u001B[38;5;124mcoerce\u001B[39m\u001B[38;5;124m'\u001B[39m)\n\u001B[0;32m      3\u001B[0m Mitjana_Urea \u001B[38;5;241m=\u001B[39m AMB_PA[\u001B[38;5;124m'\u001B[39m\u001B[38;5;124mUrea\u001B[39m\u001B[38;5;124m'\u001B[39m]\u001B[38;5;241m.\u001B[39mmean()\n\u001B[0;32m      4\u001B[0m desviacio_estandard_Urea \u001B[38;5;241m=\u001B[39m AMB_PA[\u001B[38;5;124m'\u001B[39m\u001B[38;5;124mUrea\u001B[39m\u001B[38;5;124m'\u001B[39m]\u001B[38;5;241m.\u001B[39mstd()\n",
      "\u001B[1;31mNameError\u001B[0m: name 'pd' is not defined"
     ]
    }
   ],
   "execution_count": 249
  },
  {
   "cell_type": "code",
   "source": [
    "AMB_PA_MECVV.loc[:, 'Urea'] = pd.to_numeric(AMB_PA_MECVV['Urea'], errors='coerce')\n",
    "\n",
    "Mitjana_Urea = AMB_PA_MECVV['Urea'].mean()\n",
    "desviacio_estandard_Urea = AMB_PA_MECVV['Urea'].std()\n",
    "\n",
    "resultat = f\"{Mitjana_Urea:.2f} ± {desviacio_estandard_Urea:.2f}\"\n",
    "print(\"Mitjana ± Desviació Estàndard de la Urea:\", resultat)"
   ],
   "metadata": {
    "collapsed": false,
    "ExecuteTime": {
     "end_time": "2024-05-29T13:05:39.434530Z",
     "start_time": "2024-05-29T13:05:39.403618Z"
    }
   },
   "id": "4ec2d39564791913",
   "outputs": [
    {
     "ename": "NameError",
     "evalue": "name 'pd' is not defined",
     "output_type": "error",
     "traceback": [
      "\u001B[1;31m---------------------------------------------------------------------------\u001B[0m",
      "\u001B[1;31mNameError\u001B[0m                                 Traceback (most recent call last)",
      "Cell \u001B[1;32mIn[250], line 1\u001B[0m\n\u001B[1;32m----> 1\u001B[0m AMB_PA_MECVV\u001B[38;5;241m.\u001B[39mloc[:, \u001B[38;5;124m'\u001B[39m\u001B[38;5;124mUrea\u001B[39m\u001B[38;5;124m'\u001B[39m] \u001B[38;5;241m=\u001B[39m \u001B[43mpd\u001B[49m\u001B[38;5;241m.\u001B[39mto_numeric(AMB_PA_MECVV[\u001B[38;5;124m'\u001B[39m\u001B[38;5;124mUrea\u001B[39m\u001B[38;5;124m'\u001B[39m], errors\u001B[38;5;241m=\u001B[39m\u001B[38;5;124m'\u001B[39m\u001B[38;5;124mcoerce\u001B[39m\u001B[38;5;124m'\u001B[39m)\n\u001B[0;32m      3\u001B[0m Mitjana_Urea \u001B[38;5;241m=\u001B[39m AMB_PA_MECVV[\u001B[38;5;124m'\u001B[39m\u001B[38;5;124mUrea\u001B[39m\u001B[38;5;124m'\u001B[39m]\u001B[38;5;241m.\u001B[39mmean()\n\u001B[0;32m      4\u001B[0m desviacio_estandard_Urea \u001B[38;5;241m=\u001B[39m AMB_PA_MECVV[\u001B[38;5;124m'\u001B[39m\u001B[38;5;124mUrea\u001B[39m\u001B[38;5;124m'\u001B[39m]\u001B[38;5;241m.\u001B[39mstd()\n",
      "\u001B[1;31mNameError\u001B[0m: name 'pd' is not defined"
     ]
    }
   ],
   "execution_count": 250
  },
  {
   "cell_type": "code",
   "source": [
    "SENSE_PA.loc[:, 'Urea'] = pd.to_numeric(SENSE_PA['Urea'], errors='coerce')\n",
    "\n",
    "Mitjana_Urea = SENSE_PA['Urea'].mean()\n",
    "desviacio_estandard_Urea = SENSE_PA['Urea'].std()\n",
    "\n",
    "resultat = f\"{Mitjana_Urea:.2f} ± {desviacio_estandard_Urea:.2f}\"\n",
    "print(\"Mitjana ± Desviació Estàndard de la Urea:\", resultat)"
   ],
   "metadata": {
    "collapsed": false,
    "ExecuteTime": {
     "end_time": "2024-05-29T13:05:40.313867Z",
     "start_time": "2024-05-29T13:05:40.286807Z"
    }
   },
   "id": "cf36f76b547674b0",
   "outputs": [
    {
     "ename": "NameError",
     "evalue": "name 'pd' is not defined",
     "output_type": "error",
     "traceback": [
      "\u001B[1;31m---------------------------------------------------------------------------\u001B[0m",
      "\u001B[1;31mNameError\u001B[0m                                 Traceback (most recent call last)",
      "Cell \u001B[1;32mIn[251], line 1\u001B[0m\n\u001B[1;32m----> 1\u001B[0m SENSE_PA\u001B[38;5;241m.\u001B[39mloc[:, \u001B[38;5;124m'\u001B[39m\u001B[38;5;124mUrea\u001B[39m\u001B[38;5;124m'\u001B[39m] \u001B[38;5;241m=\u001B[39m \u001B[43mpd\u001B[49m\u001B[38;5;241m.\u001B[39mto_numeric(SENSE_PA[\u001B[38;5;124m'\u001B[39m\u001B[38;5;124mUrea\u001B[39m\u001B[38;5;124m'\u001B[39m], errors\u001B[38;5;241m=\u001B[39m\u001B[38;5;124m'\u001B[39m\u001B[38;5;124mcoerce\u001B[39m\u001B[38;5;124m'\u001B[39m)\n\u001B[0;32m      3\u001B[0m Mitjana_Urea \u001B[38;5;241m=\u001B[39m SENSE_PA[\u001B[38;5;124m'\u001B[39m\u001B[38;5;124mUrea\u001B[39m\u001B[38;5;124m'\u001B[39m]\u001B[38;5;241m.\u001B[39mmean()\n\u001B[0;32m      4\u001B[0m desviacio_estandard_Urea \u001B[38;5;241m=\u001B[39m SENSE_PA[\u001B[38;5;124m'\u001B[39m\u001B[38;5;124mUrea\u001B[39m\u001B[38;5;124m'\u001B[39m]\u001B[38;5;241m.\u001B[39mstd()\n",
      "\u001B[1;31mNameError\u001B[0m: name 'pd' is not defined"
     ]
    }
   ],
   "execution_count": 251
  },
  {
   "cell_type": "code",
   "source": [
    "TOTAL.loc[:, 'Urea'] = pd.to_numeric(TOTAL['Urea'], errors='coerce')\n",
    "\n",
    "Mitjana_Urea = TOTAL['Urea'].mean()\n",
    "desviacio_estandard_Urea = TOTAL['Urea'].std()\n",
    "\n",
    "resultat = f\"{Mitjana_Urea:.2f} ± {desviacio_estandard_Urea:.2f}\"\n",
    "print(\"Mitjana ± Desviació Estàndard de la Urea:\", resultat)"
   ],
   "metadata": {
    "collapsed": false,
    "ExecuteTime": {
     "end_time": "2024-05-29T13:05:41.093715Z",
     "start_time": "2024-05-29T13:05:41.066127Z"
    }
   },
   "id": "6703685bb0d7477c",
   "outputs": [
    {
     "ename": "NameError",
     "evalue": "name 'pd' is not defined",
     "output_type": "error",
     "traceback": [
      "\u001B[1;31m---------------------------------------------------------------------------\u001B[0m",
      "\u001B[1;31mNameError\u001B[0m                                 Traceback (most recent call last)",
      "Cell \u001B[1;32mIn[252], line 1\u001B[0m\n\u001B[1;32m----> 1\u001B[0m TOTAL\u001B[38;5;241m.\u001B[39mloc[:, \u001B[38;5;124m'\u001B[39m\u001B[38;5;124mUrea\u001B[39m\u001B[38;5;124m'\u001B[39m] \u001B[38;5;241m=\u001B[39m \u001B[43mpd\u001B[49m\u001B[38;5;241m.\u001B[39mto_numeric(TOTAL[\u001B[38;5;124m'\u001B[39m\u001B[38;5;124mUrea\u001B[39m\u001B[38;5;124m'\u001B[39m], errors\u001B[38;5;241m=\u001B[39m\u001B[38;5;124m'\u001B[39m\u001B[38;5;124mcoerce\u001B[39m\u001B[38;5;124m'\u001B[39m)\n\u001B[0;32m      3\u001B[0m Mitjana_Urea \u001B[38;5;241m=\u001B[39m TOTAL[\u001B[38;5;124m'\u001B[39m\u001B[38;5;124mUrea\u001B[39m\u001B[38;5;124m'\u001B[39m]\u001B[38;5;241m.\u001B[39mmean()\n\u001B[0;32m      4\u001B[0m desviacio_estandard_Urea \u001B[38;5;241m=\u001B[39m TOTAL[\u001B[38;5;124m'\u001B[39m\u001B[38;5;124mUrea\u001B[39m\u001B[38;5;124m'\u001B[39m]\u001B[38;5;241m.\u001B[39mstd()\n",
      "\u001B[1;31mNameError\u001B[0m: name 'pd' is not defined"
     ]
    }
   ],
   "execution_count": 252
  },
  {
   "cell_type": "markdown",
   "source": [
    "#### Comparació distributiva"
   ],
   "metadata": {
    "collapsed": false
   },
   "id": "6516f15d748d02e1"
  },
  {
   "cell_type": "markdown",
   "source": [
    "##### Normalitat i p-valor"
   ],
   "metadata": {
    "collapsed": false
   },
   "id": "88b97393af75e335"
  },
  {
   "cell_type": "markdown",
   "source": "NORMALITAT: Tots els grups, menys el quart (TOTAL), segueixen una distribució normal",
   "metadata": {
    "collapsed": false
   },
   "id": "5e33bb993350abcd"
  },
  {
   "cell_type": "code",
   "source": [
    "t_stat_12, p_val_12 = ttest_ind(AMB_PA['Urea'], AMB_PA_MECVV['Urea'], equal_var=False)\n",
    "print(\"P-valor entre AMB_PA i AMB_PA_MECVV:\", p_val_12)"
   ],
   "metadata": {
    "collapsed": false,
    "ExecuteTime": {
     "end_time": "2024-05-29T13:05:42.188615Z",
     "start_time": "2024-05-29T13:05:42.109654Z"
    }
   },
   "id": "20b297397e8e0f88",
   "outputs": [
    {
     "ename": "NameError",
     "evalue": "name 'ttest_ind' is not defined",
     "output_type": "error",
     "traceback": [
      "\u001B[1;31m---------------------------------------------------------------------------\u001B[0m",
      "\u001B[1;31mNameError\u001B[0m                                 Traceback (most recent call last)",
      "Cell \u001B[1;32mIn[253], line 1\u001B[0m\n\u001B[1;32m----> 1\u001B[0m t_stat_12, p_val_12 \u001B[38;5;241m=\u001B[39m \u001B[43mttest_ind\u001B[49m(AMB_PA[\u001B[38;5;124m'\u001B[39m\u001B[38;5;124mUrea\u001B[39m\u001B[38;5;124m'\u001B[39m], AMB_PA_MECVV[\u001B[38;5;124m'\u001B[39m\u001B[38;5;124mUrea\u001B[39m\u001B[38;5;124m'\u001B[39m], equal_var\u001B[38;5;241m=\u001B[39m\u001B[38;5;28;01mFalse\u001B[39;00m)\n\u001B[0;32m      2\u001B[0m \u001B[38;5;28mprint\u001B[39m(\u001B[38;5;124m\"\u001B[39m\u001B[38;5;124mP-valor entre AMB_PA i AMB_PA_MECVV:\u001B[39m\u001B[38;5;124m\"\u001B[39m, p_val_12)\n",
      "\u001B[1;31mNameError\u001B[0m: name 'ttest_ind' is not defined"
     ]
    }
   ],
   "execution_count": 253
  },
  {
   "cell_type": "code",
   "source": [
    "t_stat_13, p_val_13 = ttest_ind(AMB_PA['Urea'], SENSE_PA['Urea'], equal_var=False)\n",
    "print(\"P-valor entre AMB_PA i SENSE_PA:\", p_val_13)"
   ],
   "metadata": {
    "collapsed": false,
    "ExecuteTime": {
     "end_time": "2024-05-29T13:05:43.153910Z",
     "start_time": "2024-05-29T13:05:43.130601Z"
    }
   },
   "id": "a37618d7aa0bd11e",
   "outputs": [
    {
     "ename": "NameError",
     "evalue": "name 'ttest_ind' is not defined",
     "output_type": "error",
     "traceback": [
      "\u001B[1;31m---------------------------------------------------------------------------\u001B[0m",
      "\u001B[1;31mNameError\u001B[0m                                 Traceback (most recent call last)",
      "Cell \u001B[1;32mIn[254], line 1\u001B[0m\n\u001B[1;32m----> 1\u001B[0m t_stat_13, p_val_13 \u001B[38;5;241m=\u001B[39m \u001B[43mttest_ind\u001B[49m(AMB_PA[\u001B[38;5;124m'\u001B[39m\u001B[38;5;124mUrea\u001B[39m\u001B[38;5;124m'\u001B[39m], SENSE_PA[\u001B[38;5;124m'\u001B[39m\u001B[38;5;124mUrea\u001B[39m\u001B[38;5;124m'\u001B[39m], equal_var\u001B[38;5;241m=\u001B[39m\u001B[38;5;28;01mFalse\u001B[39;00m)\n\u001B[0;32m      2\u001B[0m \u001B[38;5;28mprint\u001B[39m(\u001B[38;5;124m\"\u001B[39m\u001B[38;5;124mP-valor entre AMB_PA i SENSE_PA:\u001B[39m\u001B[38;5;124m\"\u001B[39m, p_val_13)\n",
      "\u001B[1;31mNameError\u001B[0m: name 'ttest_ind' is not defined"
     ]
    }
   ],
   "execution_count": 254
  },
  {
   "cell_type": "code",
   "source": [
    "t_stat_23, p_val_23 = ttest_ind(AMB_PA_MECVV['Urea'], SENSE_PA['Urea'], equal_var=False)\n",
    "print(\"P-valor entre AMB_PA_MECVV i SENSE_PA:\", p_val_23)"
   ],
   "metadata": {
    "collapsed": false,
    "ExecuteTime": {
     "end_time": "2024-05-29T13:05:43.754251Z",
     "start_time": "2024-05-29T13:05:43.733166Z"
    }
   },
   "id": "c5e022209cc24b8",
   "outputs": [
    {
     "ename": "NameError",
     "evalue": "name 'ttest_ind' is not defined",
     "output_type": "error",
     "traceback": [
      "\u001B[1;31m---------------------------------------------------------------------------\u001B[0m",
      "\u001B[1;31mNameError\u001B[0m                                 Traceback (most recent call last)",
      "Cell \u001B[1;32mIn[255], line 1\u001B[0m\n\u001B[1;32m----> 1\u001B[0m t_stat_23, p_val_23 \u001B[38;5;241m=\u001B[39m \u001B[43mttest_ind\u001B[49m(AMB_PA_MECVV[\u001B[38;5;124m'\u001B[39m\u001B[38;5;124mUrea\u001B[39m\u001B[38;5;124m'\u001B[39m], SENSE_PA[\u001B[38;5;124m'\u001B[39m\u001B[38;5;124mUrea\u001B[39m\u001B[38;5;124m'\u001B[39m], equal_var\u001B[38;5;241m=\u001B[39m\u001B[38;5;28;01mFalse\u001B[39;00m)\n\u001B[0;32m      2\u001B[0m \u001B[38;5;28mprint\u001B[39m(\u001B[38;5;124m\"\u001B[39m\u001B[38;5;124mP-valor entre AMB_PA_MECVV i SENSE_PA:\u001B[39m\u001B[38;5;124m\"\u001B[39m, p_val_23)\n",
      "\u001B[1;31mNameError\u001B[0m: name 'ttest_ind' is not defined"
     ]
    }
   ],
   "execution_count": 255
  },
  {
   "cell_type": "code",
   "source": [
    "t_stat_14, p_val_14 = mannwhitneyu(AMB_PA['Urea'], TOTAL['Urea'], alternative='two-sided')\n",
    "print(\"P-valor entre AMB_PA i TOTAL:\", p_val_14)"
   ],
   "metadata": {
    "collapsed": false,
    "ExecuteTime": {
     "end_time": "2024-05-29T13:05:44.576028Z",
     "start_time": "2024-05-29T13:05:44.552101Z"
    }
   },
   "id": "e7800c0c0924f30b",
   "outputs": [
    {
     "ename": "NameError",
     "evalue": "name 'mannwhitneyu' is not defined",
     "output_type": "error",
     "traceback": [
      "\u001B[1;31m---------------------------------------------------------------------------\u001B[0m",
      "\u001B[1;31mNameError\u001B[0m                                 Traceback (most recent call last)",
      "Cell \u001B[1;32mIn[256], line 1\u001B[0m\n\u001B[1;32m----> 1\u001B[0m t_stat_14, p_val_14 \u001B[38;5;241m=\u001B[39m \u001B[43mmannwhitneyu\u001B[49m(AMB_PA[\u001B[38;5;124m'\u001B[39m\u001B[38;5;124mUrea\u001B[39m\u001B[38;5;124m'\u001B[39m], TOTAL[\u001B[38;5;124m'\u001B[39m\u001B[38;5;124mUrea\u001B[39m\u001B[38;5;124m'\u001B[39m], alternative\u001B[38;5;241m=\u001B[39m\u001B[38;5;124m'\u001B[39m\u001B[38;5;124mtwo-sided\u001B[39m\u001B[38;5;124m'\u001B[39m)\n\u001B[0;32m      2\u001B[0m \u001B[38;5;28mprint\u001B[39m(\u001B[38;5;124m\"\u001B[39m\u001B[38;5;124mP-valor entre AMB_PA i TOTAL:\u001B[39m\u001B[38;5;124m\"\u001B[39m, p_val_14)\n",
      "\u001B[1;31mNameError\u001B[0m: name 'mannwhitneyu' is not defined"
     ]
    }
   ],
   "execution_count": 256
  },
  {
   "cell_type": "code",
   "source": [
    "t_stat_24, p_val_24 = mannwhitneyu(AMB_PA_MECVV['Urea'], TOTAL['Urea'], alternative='two-sided')\n",
    "print(\"P-valor entre AMB_PA_MECVV i TOTAL:\", p_val_24)"
   ],
   "metadata": {
    "collapsed": false,
    "ExecuteTime": {
     "end_time": "2024-05-29T13:05:45.428679Z",
     "start_time": "2024-05-29T13:05:45.405399Z"
    }
   },
   "id": "502fefaa1e340574",
   "outputs": [
    {
     "ename": "NameError",
     "evalue": "name 'mannwhitneyu' is not defined",
     "output_type": "error",
     "traceback": [
      "\u001B[1;31m---------------------------------------------------------------------------\u001B[0m",
      "\u001B[1;31mNameError\u001B[0m                                 Traceback (most recent call last)",
      "Cell \u001B[1;32mIn[257], line 1\u001B[0m\n\u001B[1;32m----> 1\u001B[0m t_stat_24, p_val_24 \u001B[38;5;241m=\u001B[39m \u001B[43mmannwhitneyu\u001B[49m(AMB_PA_MECVV[\u001B[38;5;124m'\u001B[39m\u001B[38;5;124mUrea\u001B[39m\u001B[38;5;124m'\u001B[39m], TOTAL[\u001B[38;5;124m'\u001B[39m\u001B[38;5;124mUrea\u001B[39m\u001B[38;5;124m'\u001B[39m], alternative\u001B[38;5;241m=\u001B[39m\u001B[38;5;124m'\u001B[39m\u001B[38;5;124mtwo-sided\u001B[39m\u001B[38;5;124m'\u001B[39m)\n\u001B[0;32m      2\u001B[0m \u001B[38;5;28mprint\u001B[39m(\u001B[38;5;124m\"\u001B[39m\u001B[38;5;124mP-valor entre AMB_PA_MECVV i TOTAL:\u001B[39m\u001B[38;5;124m\"\u001B[39m, p_val_24)\n",
      "\u001B[1;31mNameError\u001B[0m: name 'mannwhitneyu' is not defined"
     ]
    }
   ],
   "execution_count": 257
  },
  {
   "cell_type": "code",
   "source": [
    "t_stat_34, p_val_34 = mannwhitneyu(SENSE_PA['Urea'], TOTAL['Urea'], alternative='two-sided')\n",
    "print(\"P-valor entre SENSE_PA i TOTAL:\", p_val_34)"
   ],
   "metadata": {
    "collapsed": false,
    "ExecuteTime": {
     "end_time": "2024-05-29T13:05:46.032906Z",
     "start_time": "2024-05-29T13:05:46.010351Z"
    }
   },
   "id": "346b63fbca7c2216",
   "outputs": [
    {
     "ename": "NameError",
     "evalue": "name 'mannwhitneyu' is not defined",
     "output_type": "error",
     "traceback": [
      "\u001B[1;31m---------------------------------------------------------------------------\u001B[0m",
      "\u001B[1;31mNameError\u001B[0m                                 Traceback (most recent call last)",
      "Cell \u001B[1;32mIn[258], line 1\u001B[0m\n\u001B[1;32m----> 1\u001B[0m t_stat_34, p_val_34 \u001B[38;5;241m=\u001B[39m \u001B[43mmannwhitneyu\u001B[49m(SENSE_PA[\u001B[38;5;124m'\u001B[39m\u001B[38;5;124mUrea\u001B[39m\u001B[38;5;124m'\u001B[39m], TOTAL[\u001B[38;5;124m'\u001B[39m\u001B[38;5;124mUrea\u001B[39m\u001B[38;5;124m'\u001B[39m], alternative\u001B[38;5;241m=\u001B[39m\u001B[38;5;124m'\u001B[39m\u001B[38;5;124mtwo-sided\u001B[39m\u001B[38;5;124m'\u001B[39m)\n\u001B[0;32m      2\u001B[0m \u001B[38;5;28mprint\u001B[39m(\u001B[38;5;124m\"\u001B[39m\u001B[38;5;124mP-valor entre SENSE_PA i TOTAL:\u001B[39m\u001B[38;5;124m\"\u001B[39m, p_val_34)\n",
      "\u001B[1;31mNameError\u001B[0m: name 'mannwhitneyu' is not defined"
     ]
    }
   ],
   "execution_count": 258
  },
  {
   "cell_type": "markdown",
   "source": [
    "### Filtrat glomerular CDK-EPI"
   ],
   "metadata": {
    "collapsed": false
   },
   "id": "5661688318c76771"
  },
  {
   "cell_type": "code",
   "source": [
    "AMB_PA.loc[:, 'FGE CDK-EPI'] = pd.to_numeric(AMB_PA['FGE CDK-EPI'], errors='coerce')\n",
    "\n",
    "Mitjana_fg = AMB_PA['FGE CDK-EPI'].mean()\n",
    "desviacio_estandard_fg = AMB_PA['FGE CDK-EPI'].std()\n",
    "\n",
    "resultat = f\"{Mitjana_fg:.2f} ± {desviacio_estandard_fg:.2f}\"\n",
    "print(\"Mitjana ± Desviació Estàndard de la filtració glomerular CDK-EPI:\", resultat)"
   ],
   "metadata": {
    "collapsed": false,
    "ExecuteTime": {
     "end_time": "2024-05-29T13:05:46.976063Z",
     "start_time": "2024-05-29T13:05:46.951222Z"
    }
   },
   "id": "198c7dd8ae0e766d",
   "outputs": [
    {
     "ename": "NameError",
     "evalue": "name 'pd' is not defined",
     "output_type": "error",
     "traceback": [
      "\u001B[1;31m---------------------------------------------------------------------------\u001B[0m",
      "\u001B[1;31mNameError\u001B[0m                                 Traceback (most recent call last)",
      "Cell \u001B[1;32mIn[259], line 1\u001B[0m\n\u001B[1;32m----> 1\u001B[0m AMB_PA\u001B[38;5;241m.\u001B[39mloc[:, \u001B[38;5;124m'\u001B[39m\u001B[38;5;124mFGE CDK-EPI\u001B[39m\u001B[38;5;124m'\u001B[39m] \u001B[38;5;241m=\u001B[39m \u001B[43mpd\u001B[49m\u001B[38;5;241m.\u001B[39mto_numeric(AMB_PA[\u001B[38;5;124m'\u001B[39m\u001B[38;5;124mFGE CDK-EPI\u001B[39m\u001B[38;5;124m'\u001B[39m], errors\u001B[38;5;241m=\u001B[39m\u001B[38;5;124m'\u001B[39m\u001B[38;5;124mcoerce\u001B[39m\u001B[38;5;124m'\u001B[39m)\n\u001B[0;32m      3\u001B[0m Mitjana_fg \u001B[38;5;241m=\u001B[39m AMB_PA[\u001B[38;5;124m'\u001B[39m\u001B[38;5;124mFGE CDK-EPI\u001B[39m\u001B[38;5;124m'\u001B[39m]\u001B[38;5;241m.\u001B[39mmean()\n\u001B[0;32m      4\u001B[0m desviacio_estandard_fg \u001B[38;5;241m=\u001B[39m AMB_PA[\u001B[38;5;124m'\u001B[39m\u001B[38;5;124mFGE CDK-EPI\u001B[39m\u001B[38;5;124m'\u001B[39m]\u001B[38;5;241m.\u001B[39mstd()\n",
      "\u001B[1;31mNameError\u001B[0m: name 'pd' is not defined"
     ]
    }
   ],
   "execution_count": 259
  },
  {
   "cell_type": "code",
   "source": [
    "AMB_PA_MECVV.loc[:, 'FGE CDK-EPI'] = pd.to_numeric(AMB_PA_MECVV['FGE CDK-EPI'], errors='coerce')\n",
    "\n",
    "Mitjana_fg = AMB_PA_MECVV['FGE CDK-EPI'].mean()\n",
    "desviacio_estandard_fg = AMB_PA_MECVV['FGE CDK-EPI'].std()\n",
    "\n",
    "resultat = f\"{Mitjana_fg:.2f} ± {desviacio_estandard_fg:.2f}\"\n",
    "print(\"Mitjana ± Desviació Estàndard de la filtració glomerular CDK-EPI:\", resultat)"
   ],
   "metadata": {
    "collapsed": false,
    "ExecuteTime": {
     "end_time": "2024-05-29T13:05:47.791112Z",
     "start_time": "2024-05-29T13:05:47.764205Z"
    }
   },
   "id": "466dd2ff245b4841",
   "outputs": [
    {
     "ename": "NameError",
     "evalue": "name 'pd' is not defined",
     "output_type": "error",
     "traceback": [
      "\u001B[1;31m---------------------------------------------------------------------------\u001B[0m",
      "\u001B[1;31mNameError\u001B[0m                                 Traceback (most recent call last)",
      "Cell \u001B[1;32mIn[260], line 1\u001B[0m\n\u001B[1;32m----> 1\u001B[0m AMB_PA_MECVV\u001B[38;5;241m.\u001B[39mloc[:, \u001B[38;5;124m'\u001B[39m\u001B[38;5;124mFGE CDK-EPI\u001B[39m\u001B[38;5;124m'\u001B[39m] \u001B[38;5;241m=\u001B[39m \u001B[43mpd\u001B[49m\u001B[38;5;241m.\u001B[39mto_numeric(AMB_PA_MECVV[\u001B[38;5;124m'\u001B[39m\u001B[38;5;124mFGE CDK-EPI\u001B[39m\u001B[38;5;124m'\u001B[39m], errors\u001B[38;5;241m=\u001B[39m\u001B[38;5;124m'\u001B[39m\u001B[38;5;124mcoerce\u001B[39m\u001B[38;5;124m'\u001B[39m)\n\u001B[0;32m      3\u001B[0m Mitjana_fg \u001B[38;5;241m=\u001B[39m AMB_PA_MECVV[\u001B[38;5;124m'\u001B[39m\u001B[38;5;124mFGE CDK-EPI\u001B[39m\u001B[38;5;124m'\u001B[39m]\u001B[38;5;241m.\u001B[39mmean()\n\u001B[0;32m      4\u001B[0m desviacio_estandard_fg \u001B[38;5;241m=\u001B[39m AMB_PA_MECVV[\u001B[38;5;124m'\u001B[39m\u001B[38;5;124mFGE CDK-EPI\u001B[39m\u001B[38;5;124m'\u001B[39m]\u001B[38;5;241m.\u001B[39mstd()\n",
      "\u001B[1;31mNameError\u001B[0m: name 'pd' is not defined"
     ]
    }
   ],
   "execution_count": 260
  },
  {
   "cell_type": "code",
   "source": [
    "SENSE_PA.loc[:, 'FGE CDK-EPI'] = pd.to_numeric(SENSE_PA['FGE CDK-EPI'], errors='coerce')\n",
    "\n",
    "Mitjana_fg = SENSE_PA['FGE CDK-EPI'].mean()\n",
    "desviacio_estandard_fg = SENSE_PA['FGE CDK-EPI'].std()\n",
    "\n",
    "resultat = f\"{Mitjana_fg:.2f} ± {desviacio_estandard_fg:.2f}\"\n",
    "print(\"Mitjana ± Desviació Estàndard de la filtració glomerular CDK-EPI:\", resultat)"
   ],
   "metadata": {
    "collapsed": false,
    "ExecuteTime": {
     "end_time": "2024-05-29T13:05:48.999097Z",
     "start_time": "2024-05-29T13:05:48.955582Z"
    }
   },
   "id": "b1b17b72c9d927e8",
   "outputs": [
    {
     "ename": "NameError",
     "evalue": "name 'pd' is not defined",
     "output_type": "error",
     "traceback": [
      "\u001B[1;31m---------------------------------------------------------------------------\u001B[0m",
      "\u001B[1;31mNameError\u001B[0m                                 Traceback (most recent call last)",
      "Cell \u001B[1;32mIn[261], line 1\u001B[0m\n\u001B[1;32m----> 1\u001B[0m SENSE_PA\u001B[38;5;241m.\u001B[39mloc[:, \u001B[38;5;124m'\u001B[39m\u001B[38;5;124mFGE CDK-EPI\u001B[39m\u001B[38;5;124m'\u001B[39m] \u001B[38;5;241m=\u001B[39m \u001B[43mpd\u001B[49m\u001B[38;5;241m.\u001B[39mto_numeric(SENSE_PA[\u001B[38;5;124m'\u001B[39m\u001B[38;5;124mFGE CDK-EPI\u001B[39m\u001B[38;5;124m'\u001B[39m], errors\u001B[38;5;241m=\u001B[39m\u001B[38;5;124m'\u001B[39m\u001B[38;5;124mcoerce\u001B[39m\u001B[38;5;124m'\u001B[39m)\n\u001B[0;32m      3\u001B[0m Mitjana_fg \u001B[38;5;241m=\u001B[39m SENSE_PA[\u001B[38;5;124m'\u001B[39m\u001B[38;5;124mFGE CDK-EPI\u001B[39m\u001B[38;5;124m'\u001B[39m]\u001B[38;5;241m.\u001B[39mmean()\n\u001B[0;32m      4\u001B[0m desviacio_estandard_fg \u001B[38;5;241m=\u001B[39m SENSE_PA[\u001B[38;5;124m'\u001B[39m\u001B[38;5;124mFGE CDK-EPI\u001B[39m\u001B[38;5;124m'\u001B[39m]\u001B[38;5;241m.\u001B[39mstd()\n",
      "\u001B[1;31mNameError\u001B[0m: name 'pd' is not defined"
     ]
    }
   ],
   "execution_count": 261
  },
  {
   "cell_type": "code",
   "source": [
    "TOTAL.loc[:, 'FGE CDK-EPI'] = pd.to_numeric(TOTAL['FGE CDK-EPI'], errors='coerce')\n",
    "\n",
    "Mitjana_fg = TOTAL['FGE CDK-EPI'].mean()\n",
    "desviacio_estandard_fg = TOTAL['FGE CDK-EPI'].std()\n",
    "\n",
    "resultat = f\"{Mitjana_fg:.2f} ± {desviacio_estandard_fg:.2f}\"\n",
    "print(\"Mitjana ± Desviació Estàndard de la filtració glomerular CDK-EPI:\", resultat)"
   ],
   "metadata": {
    "collapsed": false,
    "ExecuteTime": {
     "end_time": "2024-05-29T13:05:49.994396Z",
     "start_time": "2024-05-29T13:05:49.972001Z"
    }
   },
   "id": "2cd2f74f9d07f864",
   "outputs": [
    {
     "ename": "NameError",
     "evalue": "name 'pd' is not defined",
     "output_type": "error",
     "traceback": [
      "\u001B[1;31m---------------------------------------------------------------------------\u001B[0m",
      "\u001B[1;31mNameError\u001B[0m                                 Traceback (most recent call last)",
      "Cell \u001B[1;32mIn[262], line 1\u001B[0m\n\u001B[1;32m----> 1\u001B[0m TOTAL\u001B[38;5;241m.\u001B[39mloc[:, \u001B[38;5;124m'\u001B[39m\u001B[38;5;124mFGE CDK-EPI\u001B[39m\u001B[38;5;124m'\u001B[39m] \u001B[38;5;241m=\u001B[39m \u001B[43mpd\u001B[49m\u001B[38;5;241m.\u001B[39mto_numeric(TOTAL[\u001B[38;5;124m'\u001B[39m\u001B[38;5;124mFGE CDK-EPI\u001B[39m\u001B[38;5;124m'\u001B[39m], errors\u001B[38;5;241m=\u001B[39m\u001B[38;5;124m'\u001B[39m\u001B[38;5;124mcoerce\u001B[39m\u001B[38;5;124m'\u001B[39m)\n\u001B[0;32m      3\u001B[0m Mitjana_fg \u001B[38;5;241m=\u001B[39m TOTAL[\u001B[38;5;124m'\u001B[39m\u001B[38;5;124mFGE CDK-EPI\u001B[39m\u001B[38;5;124m'\u001B[39m]\u001B[38;5;241m.\u001B[39mmean()\n\u001B[0;32m      4\u001B[0m desviacio_estandard_fg \u001B[38;5;241m=\u001B[39m TOTAL[\u001B[38;5;124m'\u001B[39m\u001B[38;5;124mFGE CDK-EPI\u001B[39m\u001B[38;5;124m'\u001B[39m]\u001B[38;5;241m.\u001B[39mstd()\n",
      "\u001B[1;31mNameError\u001B[0m: name 'pd' is not defined"
     ]
    }
   ],
   "execution_count": 262
  },
  {
   "cell_type": "markdown",
   "source": [
    "#### Comparació distributiva"
   ],
   "metadata": {
    "collapsed": false
   },
   "id": "dc084fa57b76674e"
  },
  {
   "cell_type": "markdown",
   "source": [
    "##### Normalitat i p-valor"
   ],
   "metadata": {
    "collapsed": false
   },
   "id": "5cadc9f06820cc55"
  },
  {
   "cell_type": "markdown",
   "source": [
    "NORMALITAT: Tots els grups, menys el primer (AMB_PA), segueixen una distribució normal"
   ],
   "metadata": {
    "collapsed": false
   },
   "id": "c406a686ea1b6097"
  },
  {
   "cell_type": "code",
   "source": [
    "t_stat_12, p_val_12 = mannwhitneyu(AMB_PA['FGE CDK-EPI'], AMB_PA_MECVV['FGE CDK-EPI'], alternative='two-sided')\n",
    "print(\"P-valor entre AMB_PA i AMB_PA_MECVV:\", p_val_12)"
   ],
   "metadata": {
    "collapsed": false,
    "ExecuteTime": {
     "end_time": "2024-05-29T13:05:50.671271Z",
     "start_time": "2024-05-29T13:05:50.642995Z"
    }
   },
   "id": "4297e024d17affd3",
   "outputs": [
    {
     "ename": "NameError",
     "evalue": "name 'mannwhitneyu' is not defined",
     "output_type": "error",
     "traceback": [
      "\u001B[1;31m---------------------------------------------------------------------------\u001B[0m",
      "\u001B[1;31mNameError\u001B[0m                                 Traceback (most recent call last)",
      "Cell \u001B[1;32mIn[263], line 1\u001B[0m\n\u001B[1;32m----> 1\u001B[0m t_stat_12, p_val_12 \u001B[38;5;241m=\u001B[39m \u001B[43mmannwhitneyu\u001B[49m(AMB_PA[\u001B[38;5;124m'\u001B[39m\u001B[38;5;124mFGE CDK-EPI\u001B[39m\u001B[38;5;124m'\u001B[39m], AMB_PA_MECVV[\u001B[38;5;124m'\u001B[39m\u001B[38;5;124mFGE CDK-EPI\u001B[39m\u001B[38;5;124m'\u001B[39m], alternative\u001B[38;5;241m=\u001B[39m\u001B[38;5;124m'\u001B[39m\u001B[38;5;124mtwo-sided\u001B[39m\u001B[38;5;124m'\u001B[39m)\n\u001B[0;32m      2\u001B[0m \u001B[38;5;28mprint\u001B[39m(\u001B[38;5;124m\"\u001B[39m\u001B[38;5;124mP-valor entre AMB_PA i AMB_PA_MECVV:\u001B[39m\u001B[38;5;124m\"\u001B[39m, p_val_12)\n",
      "\u001B[1;31mNameError\u001B[0m: name 'mannwhitneyu' is not defined"
     ]
    }
   ],
   "execution_count": 263
  },
  {
   "cell_type": "code",
   "source": [
    "t_stat_13, p_val_13 = mannwhitneyu(AMB_PA['FGE CDK-EPI'], SENSE_PA['FGE CDK-EPI'], alternative='two-sided')\n",
    "print(\"P-valor entre AMB_PA i AMB_PA_MECVV:\", p_val_13)"
   ],
   "metadata": {
    "collapsed": false,
    "ExecuteTime": {
     "end_time": "2024-05-29T13:05:51.956822Z",
     "start_time": "2024-05-29T13:05:51.935392Z"
    }
   },
   "id": "1807a291204b161b",
   "outputs": [
    {
     "ename": "NameError",
     "evalue": "name 'mannwhitneyu' is not defined",
     "output_type": "error",
     "traceback": [
      "\u001B[1;31m---------------------------------------------------------------------------\u001B[0m",
      "\u001B[1;31mNameError\u001B[0m                                 Traceback (most recent call last)",
      "Cell \u001B[1;32mIn[264], line 1\u001B[0m\n\u001B[1;32m----> 1\u001B[0m t_stat_13, p_val_13 \u001B[38;5;241m=\u001B[39m \u001B[43mmannwhitneyu\u001B[49m(AMB_PA[\u001B[38;5;124m'\u001B[39m\u001B[38;5;124mFGE CDK-EPI\u001B[39m\u001B[38;5;124m'\u001B[39m], SENSE_PA[\u001B[38;5;124m'\u001B[39m\u001B[38;5;124mFGE CDK-EPI\u001B[39m\u001B[38;5;124m'\u001B[39m], alternative\u001B[38;5;241m=\u001B[39m\u001B[38;5;124m'\u001B[39m\u001B[38;5;124mtwo-sided\u001B[39m\u001B[38;5;124m'\u001B[39m)\n\u001B[0;32m      2\u001B[0m \u001B[38;5;28mprint\u001B[39m(\u001B[38;5;124m\"\u001B[39m\u001B[38;5;124mP-valor entre AMB_PA i AMB_PA_MECVV:\u001B[39m\u001B[38;5;124m\"\u001B[39m, p_val_13)\n",
      "\u001B[1;31mNameError\u001B[0m: name 'mannwhitneyu' is not defined"
     ]
    }
   ],
   "execution_count": 264
  },
  {
   "cell_type": "code",
   "source": [
    "t_stat_23, p_val_23 = ttest_ind(AMB_PA_MECVV['FGE CDK-EPI'], SENSE_PA['FGE CDK-EPI'], equal_var=False)\n",
    "print(\"P-valor entre AMB_PA_MECVV i SENSE_PA:\", p_val_23)"
   ],
   "metadata": {
    "collapsed": false,
    "ExecuteTime": {
     "end_time": "2024-05-29T13:05:53.154931Z",
     "start_time": "2024-05-29T13:05:53.133512Z"
    }
   },
   "id": "a71507e959d29d8d",
   "outputs": [
    {
     "ename": "NameError",
     "evalue": "name 'ttest_ind' is not defined",
     "output_type": "error",
     "traceback": [
      "\u001B[1;31m---------------------------------------------------------------------------\u001B[0m",
      "\u001B[1;31mNameError\u001B[0m                                 Traceback (most recent call last)",
      "Cell \u001B[1;32mIn[265], line 1\u001B[0m\n\u001B[1;32m----> 1\u001B[0m t_stat_23, p_val_23 \u001B[38;5;241m=\u001B[39m \u001B[43mttest_ind\u001B[49m(AMB_PA_MECVV[\u001B[38;5;124m'\u001B[39m\u001B[38;5;124mFGE CDK-EPI\u001B[39m\u001B[38;5;124m'\u001B[39m], SENSE_PA[\u001B[38;5;124m'\u001B[39m\u001B[38;5;124mFGE CDK-EPI\u001B[39m\u001B[38;5;124m'\u001B[39m], equal_var\u001B[38;5;241m=\u001B[39m\u001B[38;5;28;01mFalse\u001B[39;00m)\n\u001B[0;32m      2\u001B[0m \u001B[38;5;28mprint\u001B[39m(\u001B[38;5;124m\"\u001B[39m\u001B[38;5;124mP-valor entre AMB_PA_MECVV i SENSE_PA:\u001B[39m\u001B[38;5;124m\"\u001B[39m, p_val_23)\n",
      "\u001B[1;31mNameError\u001B[0m: name 'ttest_ind' is not defined"
     ]
    }
   ],
   "execution_count": 265
  },
  {
   "cell_type": "code",
   "source": [
    "t_stat_14, p_val_14 = mannwhitneyu(AMB_PA['FGE CDK-EPI'], TOTAL['FGE CDK-EPI'], alternative='two-sided')\n",
    "print(\"P-valor entre AMB_PA i TOTAL:\", p_val_14)"
   ],
   "metadata": {
    "collapsed": false,
    "ExecuteTime": {
     "end_time": "2024-05-29T13:05:54.019846Z",
     "start_time": "2024-05-29T13:05:53.997183Z"
    }
   },
   "id": "d842d9edb4ad54a5",
   "outputs": [
    {
     "ename": "NameError",
     "evalue": "name 'mannwhitneyu' is not defined",
     "output_type": "error",
     "traceback": [
      "\u001B[1;31m---------------------------------------------------------------------------\u001B[0m",
      "\u001B[1;31mNameError\u001B[0m                                 Traceback (most recent call last)",
      "Cell \u001B[1;32mIn[266], line 1\u001B[0m\n\u001B[1;32m----> 1\u001B[0m t_stat_14, p_val_14 \u001B[38;5;241m=\u001B[39m \u001B[43mmannwhitneyu\u001B[49m(AMB_PA[\u001B[38;5;124m'\u001B[39m\u001B[38;5;124mFGE CDK-EPI\u001B[39m\u001B[38;5;124m'\u001B[39m], TOTAL[\u001B[38;5;124m'\u001B[39m\u001B[38;5;124mFGE CDK-EPI\u001B[39m\u001B[38;5;124m'\u001B[39m], alternative\u001B[38;5;241m=\u001B[39m\u001B[38;5;124m'\u001B[39m\u001B[38;5;124mtwo-sided\u001B[39m\u001B[38;5;124m'\u001B[39m)\n\u001B[0;32m      2\u001B[0m \u001B[38;5;28mprint\u001B[39m(\u001B[38;5;124m\"\u001B[39m\u001B[38;5;124mP-valor entre AMB_PA i TOTAL:\u001B[39m\u001B[38;5;124m\"\u001B[39m, p_val_14)\n",
      "\u001B[1;31mNameError\u001B[0m: name 'mannwhitneyu' is not defined"
     ]
    }
   ],
   "execution_count": 266
  },
  {
   "cell_type": "code",
   "source": [
    "t_stat_24, p_val_24 = ttest_ind(AMB_PA_MECVV['FGE CDK-EPI'], TOTAL['FGE CDK-EPI'], equal_var=False)\n",
    "print(\"P-valor entre AMB_PA_MECVV i TOTAL:\", p_val_24)"
   ],
   "metadata": {
    "collapsed": false,
    "ExecuteTime": {
     "end_time": "2024-05-29T13:05:54.982633Z",
     "start_time": "2024-05-29T13:05:54.953107Z"
    }
   },
   "id": "53f34d371a6fa2e6",
   "outputs": [
    {
     "ename": "NameError",
     "evalue": "name 'ttest_ind' is not defined",
     "output_type": "error",
     "traceback": [
      "\u001B[1;31m---------------------------------------------------------------------------\u001B[0m",
      "\u001B[1;31mNameError\u001B[0m                                 Traceback (most recent call last)",
      "Cell \u001B[1;32mIn[267], line 1\u001B[0m\n\u001B[1;32m----> 1\u001B[0m t_stat_24, p_val_24 \u001B[38;5;241m=\u001B[39m \u001B[43mttest_ind\u001B[49m(AMB_PA_MECVV[\u001B[38;5;124m'\u001B[39m\u001B[38;5;124mFGE CDK-EPI\u001B[39m\u001B[38;5;124m'\u001B[39m], TOTAL[\u001B[38;5;124m'\u001B[39m\u001B[38;5;124mFGE CDK-EPI\u001B[39m\u001B[38;5;124m'\u001B[39m], equal_var\u001B[38;5;241m=\u001B[39m\u001B[38;5;28;01mFalse\u001B[39;00m)\n\u001B[0;32m      2\u001B[0m \u001B[38;5;28mprint\u001B[39m(\u001B[38;5;124m\"\u001B[39m\u001B[38;5;124mP-valor entre AMB_PA_MECVV i TOTAL:\u001B[39m\u001B[38;5;124m\"\u001B[39m, p_val_24)\n",
      "\u001B[1;31mNameError\u001B[0m: name 'ttest_ind' is not defined"
     ]
    }
   ],
   "execution_count": 267
  },
  {
   "cell_type": "code",
   "source": [
    "t_stat_34, p_val_34 = ttest_ind(SENSE_PA['FGE CDK-EPI'], TOTAL['FGE CDK-EPI'], equal_var=False)\n",
    "print(\"P-valor entre SENSE_PA i TOTAL:\", p_val_34)"
   ],
   "metadata": {
    "collapsed": false,
    "ExecuteTime": {
     "end_time": "2024-05-29T13:05:55.973681Z",
     "start_time": "2024-05-29T13:05:55.948264Z"
    }
   },
   "id": "53561c8d7c31074f",
   "outputs": [
    {
     "ename": "NameError",
     "evalue": "name 'ttest_ind' is not defined",
     "output_type": "error",
     "traceback": [
      "\u001B[1;31m---------------------------------------------------------------------------\u001B[0m",
      "\u001B[1;31mNameError\u001B[0m                                 Traceback (most recent call last)",
      "Cell \u001B[1;32mIn[268], line 1\u001B[0m\n\u001B[1;32m----> 1\u001B[0m t_stat_34, p_val_34 \u001B[38;5;241m=\u001B[39m \u001B[43mttest_ind\u001B[49m(SENSE_PA[\u001B[38;5;124m'\u001B[39m\u001B[38;5;124mFGE CDK-EPI\u001B[39m\u001B[38;5;124m'\u001B[39m], TOTAL[\u001B[38;5;124m'\u001B[39m\u001B[38;5;124mFGE CDK-EPI\u001B[39m\u001B[38;5;124m'\u001B[39m], equal_var\u001B[38;5;241m=\u001B[39m\u001B[38;5;28;01mFalse\u001B[39;00m)\n\u001B[0;32m      2\u001B[0m \u001B[38;5;28mprint\u001B[39m(\u001B[38;5;124m\"\u001B[39m\u001B[38;5;124mP-valor entre SENSE_PA i TOTAL:\u001B[39m\u001B[38;5;124m\"\u001B[39m, p_val_34)\n",
      "\u001B[1;31mNameError\u001B[0m: name 'ttest_ind' is not defined"
     ]
    }
   ],
   "execution_count": 268
  },
  {
   "cell_type": "markdown",
   "source": [
    "### Filtrat glomerular MDRD"
   ],
   "metadata": {
    "collapsed": false
   },
   "id": "80f453469d4b3166"
  },
  {
   "cell_type": "code",
   "source": [
    "AMB_PA.loc[:, 'FGE MDRD'] = pd.to_numeric(AMB_PA['FGE MDRD'], errors='coerce')\n",
    "\n",
    "Mitjana_fgmd = AMB_PA['FGE MDRD'].mean()\n",
    "desviacio_estandard_fgmd = AMB_PA['FGE MDRD'].std()\n",
    "\n",
    "resultat = f\"{Mitjana_fgmd:.2f} ± {desviacio_estandard_fgmd:.2f}\"\n",
    "print(\"Mitjana ± Desviació Estàndard de la filtració glomerular MDRD:\", resultat)"
   ],
   "metadata": {
    "collapsed": false,
    "ExecuteTime": {
     "end_time": "2024-05-29T13:05:56.525782Z",
     "start_time": "2024-05-29T13:05:56.504246Z"
    }
   },
   "id": "e8ac47a1e439da48",
   "outputs": [
    {
     "ename": "NameError",
     "evalue": "name 'pd' is not defined",
     "output_type": "error",
     "traceback": [
      "\u001B[1;31m---------------------------------------------------------------------------\u001B[0m",
      "\u001B[1;31mNameError\u001B[0m                                 Traceback (most recent call last)",
      "Cell \u001B[1;32mIn[269], line 1\u001B[0m\n\u001B[1;32m----> 1\u001B[0m AMB_PA\u001B[38;5;241m.\u001B[39mloc[:, \u001B[38;5;124m'\u001B[39m\u001B[38;5;124mFGE MDRD\u001B[39m\u001B[38;5;124m'\u001B[39m] \u001B[38;5;241m=\u001B[39m \u001B[43mpd\u001B[49m\u001B[38;5;241m.\u001B[39mto_numeric(AMB_PA[\u001B[38;5;124m'\u001B[39m\u001B[38;5;124mFGE MDRD\u001B[39m\u001B[38;5;124m'\u001B[39m], errors\u001B[38;5;241m=\u001B[39m\u001B[38;5;124m'\u001B[39m\u001B[38;5;124mcoerce\u001B[39m\u001B[38;5;124m'\u001B[39m)\n\u001B[0;32m      3\u001B[0m Mitjana_fgmd \u001B[38;5;241m=\u001B[39m AMB_PA[\u001B[38;5;124m'\u001B[39m\u001B[38;5;124mFGE MDRD\u001B[39m\u001B[38;5;124m'\u001B[39m]\u001B[38;5;241m.\u001B[39mmean()\n\u001B[0;32m      4\u001B[0m desviacio_estandard_fgmd \u001B[38;5;241m=\u001B[39m AMB_PA[\u001B[38;5;124m'\u001B[39m\u001B[38;5;124mFGE MDRD\u001B[39m\u001B[38;5;124m'\u001B[39m]\u001B[38;5;241m.\u001B[39mstd()\n",
      "\u001B[1;31mNameError\u001B[0m: name 'pd' is not defined"
     ]
    }
   ],
   "execution_count": 269
  },
  {
   "cell_type": "code",
   "source": [
    "AMB_PA_MECVV.loc[:, 'FGE MDRD'] = pd.to_numeric(AMB_PA_MECVV['FGE MDRD'], errors='coerce')\n",
    "\n",
    "Mitjana_fgmd = AMB_PA_MECVV['FGE MDRD'].mean()\n",
    "desviacio_estandard_fgmd = AMB_PA_MECVV['FGE MDRD'].std()\n",
    "\n",
    "resultat = f\"{Mitjana_fgmd:.2f} ± {desviacio_estandard_fgmd:.2f}\"\n",
    "print(\"Mitjana ± Desviació Estàndard de la filtració glomerular MDRD:\", resultat)"
   ],
   "metadata": {
    "collapsed": false,
    "ExecuteTime": {
     "end_time": "2024-05-29T13:05:57.564574Z",
     "start_time": "2024-05-29T13:05:57.528280Z"
    }
   },
   "id": "e9f1d5cc65c1d066",
   "outputs": [
    {
     "ename": "NameError",
     "evalue": "name 'pd' is not defined",
     "output_type": "error",
     "traceback": [
      "\u001B[1;31m---------------------------------------------------------------------------\u001B[0m",
      "\u001B[1;31mNameError\u001B[0m                                 Traceback (most recent call last)",
      "Cell \u001B[1;32mIn[270], line 1\u001B[0m\n\u001B[1;32m----> 1\u001B[0m AMB_PA_MECVV\u001B[38;5;241m.\u001B[39mloc[:, \u001B[38;5;124m'\u001B[39m\u001B[38;5;124mFGE MDRD\u001B[39m\u001B[38;5;124m'\u001B[39m] \u001B[38;5;241m=\u001B[39m \u001B[43mpd\u001B[49m\u001B[38;5;241m.\u001B[39mto_numeric(AMB_PA_MECVV[\u001B[38;5;124m'\u001B[39m\u001B[38;5;124mFGE MDRD\u001B[39m\u001B[38;5;124m'\u001B[39m], errors\u001B[38;5;241m=\u001B[39m\u001B[38;5;124m'\u001B[39m\u001B[38;5;124mcoerce\u001B[39m\u001B[38;5;124m'\u001B[39m)\n\u001B[0;32m      3\u001B[0m Mitjana_fgmd \u001B[38;5;241m=\u001B[39m AMB_PA_MECVV[\u001B[38;5;124m'\u001B[39m\u001B[38;5;124mFGE MDRD\u001B[39m\u001B[38;5;124m'\u001B[39m]\u001B[38;5;241m.\u001B[39mmean()\n\u001B[0;32m      4\u001B[0m desviacio_estandard_fgmd \u001B[38;5;241m=\u001B[39m AMB_PA_MECVV[\u001B[38;5;124m'\u001B[39m\u001B[38;5;124mFGE MDRD\u001B[39m\u001B[38;5;124m'\u001B[39m]\u001B[38;5;241m.\u001B[39mstd()\n",
      "\u001B[1;31mNameError\u001B[0m: name 'pd' is not defined"
     ]
    }
   ],
   "execution_count": 270
  },
  {
   "cell_type": "code",
   "source": [
    "SENSE_PA.loc[:, 'FGE MDRD'] = pd.to_numeric(SENSE_PA['FGE MDRD'], errors='coerce')\n",
    "\n",
    "Mitjana_fgmd = SENSE_PA['FGE MDRD'].mean()\n",
    "desviacio_estandard_fgmd = SENSE_PA['FGE MDRD'].std()\n",
    "\n",
    "resultat = f\"{Mitjana_fgmd:.2f} ± {desviacio_estandard_fgmd:.2f}\"\n",
    "print(\"Mitjana ± Desviació Estàndard de la filtració glomerular MDRD:\", resultat)"
   ],
   "metadata": {
    "collapsed": false,
    "ExecuteTime": {
     "end_time": "2024-05-29T13:05:58.363306Z",
     "start_time": "2024-05-29T13:05:58.328085Z"
    }
   },
   "id": "1e30c54e4f9fb01b",
   "outputs": [
    {
     "ename": "NameError",
     "evalue": "name 'pd' is not defined",
     "output_type": "error",
     "traceback": [
      "\u001B[1;31m---------------------------------------------------------------------------\u001B[0m",
      "\u001B[1;31mNameError\u001B[0m                                 Traceback (most recent call last)",
      "Cell \u001B[1;32mIn[271], line 1\u001B[0m\n\u001B[1;32m----> 1\u001B[0m SENSE_PA\u001B[38;5;241m.\u001B[39mloc[:, \u001B[38;5;124m'\u001B[39m\u001B[38;5;124mFGE MDRD\u001B[39m\u001B[38;5;124m'\u001B[39m] \u001B[38;5;241m=\u001B[39m \u001B[43mpd\u001B[49m\u001B[38;5;241m.\u001B[39mto_numeric(SENSE_PA[\u001B[38;5;124m'\u001B[39m\u001B[38;5;124mFGE MDRD\u001B[39m\u001B[38;5;124m'\u001B[39m], errors\u001B[38;5;241m=\u001B[39m\u001B[38;5;124m'\u001B[39m\u001B[38;5;124mcoerce\u001B[39m\u001B[38;5;124m'\u001B[39m)\n\u001B[0;32m      3\u001B[0m Mitjana_fgmd \u001B[38;5;241m=\u001B[39m SENSE_PA[\u001B[38;5;124m'\u001B[39m\u001B[38;5;124mFGE MDRD\u001B[39m\u001B[38;5;124m'\u001B[39m]\u001B[38;5;241m.\u001B[39mmean()\n\u001B[0;32m      4\u001B[0m desviacio_estandard_fgmd \u001B[38;5;241m=\u001B[39m SENSE_PA[\u001B[38;5;124m'\u001B[39m\u001B[38;5;124mFGE MDRD\u001B[39m\u001B[38;5;124m'\u001B[39m]\u001B[38;5;241m.\u001B[39mstd()\n",
      "\u001B[1;31mNameError\u001B[0m: name 'pd' is not defined"
     ]
    }
   ],
   "execution_count": 271
  },
  {
   "cell_type": "code",
   "source": [
    "TOTAL.loc[:, 'FGE MDRD'] = pd.to_numeric(TOTAL['FGE MDRD'], errors='coerce')\n",
    "\n",
    "Mitjana_fgmd = TOTAL['FGE MDRD'].mean()\n",
    "desviacio_estandard_fgmd = TOTAL['FGE MDRD'].std()\n",
    "\n",
    "resultat = f\"{Mitjana_fgmd:.2f} ± {desviacio_estandard_fgmd:.2f}\"\n",
    "print(\"Mitjana ± Desviació Estàndard de la filtració glomerular MDRD:\", resultat)"
   ],
   "metadata": {
    "collapsed": false,
    "ExecuteTime": {
     "end_time": "2024-05-29T13:05:59.367815Z",
     "start_time": "2024-05-29T13:05:59.339139Z"
    }
   },
   "id": "9dcf6b7613bcabdb",
   "outputs": [
    {
     "ename": "NameError",
     "evalue": "name 'pd' is not defined",
     "output_type": "error",
     "traceback": [
      "\u001B[1;31m---------------------------------------------------------------------------\u001B[0m",
      "\u001B[1;31mNameError\u001B[0m                                 Traceback (most recent call last)",
      "Cell \u001B[1;32mIn[272], line 1\u001B[0m\n\u001B[1;32m----> 1\u001B[0m TOTAL\u001B[38;5;241m.\u001B[39mloc[:, \u001B[38;5;124m'\u001B[39m\u001B[38;5;124mFGE MDRD\u001B[39m\u001B[38;5;124m'\u001B[39m] \u001B[38;5;241m=\u001B[39m \u001B[43mpd\u001B[49m\u001B[38;5;241m.\u001B[39mto_numeric(TOTAL[\u001B[38;5;124m'\u001B[39m\u001B[38;5;124mFGE MDRD\u001B[39m\u001B[38;5;124m'\u001B[39m], errors\u001B[38;5;241m=\u001B[39m\u001B[38;5;124m'\u001B[39m\u001B[38;5;124mcoerce\u001B[39m\u001B[38;5;124m'\u001B[39m)\n\u001B[0;32m      3\u001B[0m Mitjana_fgmd \u001B[38;5;241m=\u001B[39m TOTAL[\u001B[38;5;124m'\u001B[39m\u001B[38;5;124mFGE MDRD\u001B[39m\u001B[38;5;124m'\u001B[39m]\u001B[38;5;241m.\u001B[39mmean()\n\u001B[0;32m      4\u001B[0m desviacio_estandard_fgmd \u001B[38;5;241m=\u001B[39m TOTAL[\u001B[38;5;124m'\u001B[39m\u001B[38;5;124mFGE MDRD\u001B[39m\u001B[38;5;124m'\u001B[39m]\u001B[38;5;241m.\u001B[39mstd()\n",
      "\u001B[1;31mNameError\u001B[0m: name 'pd' is not defined"
     ]
    }
   ],
   "execution_count": 272
  },
  {
   "cell_type": "markdown",
   "source": [
    "#### Comparació distributiva"
   ],
   "metadata": {
    "collapsed": false
   },
   "id": "1d641b075e8fdef6"
  },
  {
   "cell_type": "markdown",
   "source": [
    "##### Normalitat i p-valor"
   ],
   "metadata": {
    "collapsed": false
   },
   "id": "837fe0a73498e87"
  },
  {
   "cell_type": "markdown",
   "source": [
    "NORMALITAT: Els 4 grups segueixen una distribució normal"
   ],
   "metadata": {
    "collapsed": false
   },
   "id": "a106e618ce1099ed"
  },
  {
   "metadata": {
    "ExecuteTime": {
     "end_time": "2024-05-29T13:06:00.544949Z",
     "start_time": "2024-05-29T13:06:00.523704Z"
    }
   },
   "cell_type": "code",
   "source": [
    "t_stat_12, p_val_12 = ttest_ind(AMB_PA['FGE MDRD'], AMB_PA_MECVV['FGE MDRD'], equal_var=False)\n",
    "print(\"P-valor entre AMB_PA i AMB_PA_MECVV:\", p_val_12)"
   ],
   "id": "3350d5aa6006a470",
   "outputs": [
    {
     "ename": "NameError",
     "evalue": "name 'ttest_ind' is not defined",
     "output_type": "error",
     "traceback": [
      "\u001B[1;31m---------------------------------------------------------------------------\u001B[0m",
      "\u001B[1;31mNameError\u001B[0m                                 Traceback (most recent call last)",
      "Cell \u001B[1;32mIn[273], line 1\u001B[0m\n\u001B[1;32m----> 1\u001B[0m t_stat_12, p_val_12 \u001B[38;5;241m=\u001B[39m \u001B[43mttest_ind\u001B[49m(AMB_PA[\u001B[38;5;124m'\u001B[39m\u001B[38;5;124mFGE MDRD\u001B[39m\u001B[38;5;124m'\u001B[39m], AMB_PA_MECVV[\u001B[38;5;124m'\u001B[39m\u001B[38;5;124mFGE MDRD\u001B[39m\u001B[38;5;124m'\u001B[39m], equal_var\u001B[38;5;241m=\u001B[39m\u001B[38;5;28;01mFalse\u001B[39;00m)\n\u001B[0;32m      2\u001B[0m \u001B[38;5;28mprint\u001B[39m(\u001B[38;5;124m\"\u001B[39m\u001B[38;5;124mP-valor entre AMB_PA i AMB_PA_MECVV:\u001B[39m\u001B[38;5;124m\"\u001B[39m, p_val_12)\n",
      "\u001B[1;31mNameError\u001B[0m: name 'ttest_ind' is not defined"
     ]
    }
   ],
   "execution_count": 273
  },
  {
   "metadata": {
    "ExecuteTime": {
     "end_time": "2024-05-29T13:06:01.247086Z",
     "start_time": "2024-05-29T13:06:01.214316Z"
    }
   },
   "cell_type": "code",
   "source": [
    "t_stat_13, p_val_13 = ttest_ind(AMB_PA['FGE MDRD'], SENSE_PA['FGE MDRD'], equal_var=False)\n",
    "print(\"P-valor entre AMB_PA i AMB_PA_MECVV:\", p_val_13)"
   ],
   "id": "b31a6f77e88fd26f",
   "outputs": [
    {
     "ename": "NameError",
     "evalue": "name 'ttest_ind' is not defined",
     "output_type": "error",
     "traceback": [
      "\u001B[1;31m---------------------------------------------------------------------------\u001B[0m",
      "\u001B[1;31mNameError\u001B[0m                                 Traceback (most recent call last)",
      "Cell \u001B[1;32mIn[274], line 1\u001B[0m\n\u001B[1;32m----> 1\u001B[0m t_stat_13, p_val_13 \u001B[38;5;241m=\u001B[39m \u001B[43mttest_ind\u001B[49m(AMB_PA[\u001B[38;5;124m'\u001B[39m\u001B[38;5;124mFGE MDRD\u001B[39m\u001B[38;5;124m'\u001B[39m], SENSE_PA[\u001B[38;5;124m'\u001B[39m\u001B[38;5;124mFGE MDRD\u001B[39m\u001B[38;5;124m'\u001B[39m], equal_var\u001B[38;5;241m=\u001B[39m\u001B[38;5;28;01mFalse\u001B[39;00m)\n\u001B[0;32m      2\u001B[0m \u001B[38;5;28mprint\u001B[39m(\u001B[38;5;124m\"\u001B[39m\u001B[38;5;124mP-valor entre AMB_PA i AMB_PA_MECVV:\u001B[39m\u001B[38;5;124m\"\u001B[39m, p_val_13)\n",
      "\u001B[1;31mNameError\u001B[0m: name 'ttest_ind' is not defined"
     ]
    }
   ],
   "execution_count": 274
  },
  {
   "metadata": {
    "ExecuteTime": {
     "end_time": "2024-05-29T13:06:02.100568Z",
     "start_time": "2024-05-29T13:06:02.082077Z"
    }
   },
   "cell_type": "code",
   "source": [
    "t_stat_23, p_val_23 = ttest_ind(AMB_PA_MECVV['FGE MDRD'], SENSE_PA['FGE MDRD'], equal_var=False)\n",
    "print(\"P-valor entre AMB_PA_MECVV i AMB_PA_MECVV:\", p_val_23)"
   ],
   "id": "36d4f6dfccd6cd98",
   "outputs": [
    {
     "ename": "NameError",
     "evalue": "name 'ttest_ind' is not defined",
     "output_type": "error",
     "traceback": [
      "\u001B[1;31m---------------------------------------------------------------------------\u001B[0m",
      "\u001B[1;31mNameError\u001B[0m                                 Traceback (most recent call last)",
      "Cell \u001B[1;32mIn[275], line 1\u001B[0m\n\u001B[1;32m----> 1\u001B[0m t_stat_23, p_val_23 \u001B[38;5;241m=\u001B[39m \u001B[43mttest_ind\u001B[49m(AMB_PA_MECVV[\u001B[38;5;124m'\u001B[39m\u001B[38;5;124mFGE MDRD\u001B[39m\u001B[38;5;124m'\u001B[39m], SENSE_PA[\u001B[38;5;124m'\u001B[39m\u001B[38;5;124mFGE MDRD\u001B[39m\u001B[38;5;124m'\u001B[39m], equal_var\u001B[38;5;241m=\u001B[39m\u001B[38;5;28;01mFalse\u001B[39;00m)\n\u001B[0;32m      2\u001B[0m \u001B[38;5;28mprint\u001B[39m(\u001B[38;5;124m\"\u001B[39m\u001B[38;5;124mP-valor entre AMB_PA_MECVV i AMB_PA_MECVV:\u001B[39m\u001B[38;5;124m\"\u001B[39m, p_val_23)\n",
      "\u001B[1;31mNameError\u001B[0m: name 'ttest_ind' is not defined"
     ]
    }
   ],
   "execution_count": 275
  },
  {
   "metadata": {
    "ExecuteTime": {
     "end_time": "2024-05-29T13:06:02.752175Z",
     "start_time": "2024-05-29T13:06:02.721466Z"
    }
   },
   "cell_type": "code",
   "source": [
    "t_stat_14, p_val_14 = ttest_ind(AMB_PA['FGE MDRD'], TOTAL['FGE MDRD'], equal_var=False)\n",
    "print(\"P-valor entre AMB_PA i TOTAl:\", p_val_14)"
   ],
   "id": "b364e0f9a128fcfa",
   "outputs": [
    {
     "ename": "NameError",
     "evalue": "name 'ttest_ind' is not defined",
     "output_type": "error",
     "traceback": [
      "\u001B[1;31m---------------------------------------------------------------------------\u001B[0m",
      "\u001B[1;31mNameError\u001B[0m                                 Traceback (most recent call last)",
      "Cell \u001B[1;32mIn[276], line 1\u001B[0m\n\u001B[1;32m----> 1\u001B[0m t_stat_14, p_val_14 \u001B[38;5;241m=\u001B[39m \u001B[43mttest_ind\u001B[49m(AMB_PA[\u001B[38;5;124m'\u001B[39m\u001B[38;5;124mFGE MDRD\u001B[39m\u001B[38;5;124m'\u001B[39m], TOTAL[\u001B[38;5;124m'\u001B[39m\u001B[38;5;124mFGE MDRD\u001B[39m\u001B[38;5;124m'\u001B[39m], equal_var\u001B[38;5;241m=\u001B[39m\u001B[38;5;28;01mFalse\u001B[39;00m)\n\u001B[0;32m      2\u001B[0m \u001B[38;5;28mprint\u001B[39m(\u001B[38;5;124m\"\u001B[39m\u001B[38;5;124mP-valor entre AMB_PA i TOTAl:\u001B[39m\u001B[38;5;124m\"\u001B[39m, p_val_14)\n",
      "\u001B[1;31mNameError\u001B[0m: name 'ttest_ind' is not defined"
     ]
    }
   ],
   "execution_count": 276
  },
  {
   "metadata": {
    "ExecuteTime": {
     "end_time": "2024-05-29T13:06:03.689558Z",
     "start_time": "2024-05-29T13:06:03.654429Z"
    }
   },
   "cell_type": "code",
   "source": [
    "t_stat_24, p_val_24 = ttest_ind(AMB_PA_MECVV['FGE MDRD'], TOTAL['FGE MDRD'], equal_var=False)\n",
    "print(\"P-valor entre AMB_PA_MECVV i TOTAl:\", p_val_24)"
   ],
   "id": "a49592366c475b9f",
   "outputs": [
    {
     "ename": "NameError",
     "evalue": "name 'ttest_ind' is not defined",
     "output_type": "error",
     "traceback": [
      "\u001B[1;31m---------------------------------------------------------------------------\u001B[0m",
      "\u001B[1;31mNameError\u001B[0m                                 Traceback (most recent call last)",
      "Cell \u001B[1;32mIn[277], line 1\u001B[0m\n\u001B[1;32m----> 1\u001B[0m t_stat_24, p_val_24 \u001B[38;5;241m=\u001B[39m \u001B[43mttest_ind\u001B[49m(AMB_PA_MECVV[\u001B[38;5;124m'\u001B[39m\u001B[38;5;124mFGE MDRD\u001B[39m\u001B[38;5;124m'\u001B[39m], TOTAL[\u001B[38;5;124m'\u001B[39m\u001B[38;5;124mFGE MDRD\u001B[39m\u001B[38;5;124m'\u001B[39m], equal_var\u001B[38;5;241m=\u001B[39m\u001B[38;5;28;01mFalse\u001B[39;00m)\n\u001B[0;32m      2\u001B[0m \u001B[38;5;28mprint\u001B[39m(\u001B[38;5;124m\"\u001B[39m\u001B[38;5;124mP-valor entre AMB_PA_MECVV i TOTAl:\u001B[39m\u001B[38;5;124m\"\u001B[39m, p_val_24)\n",
      "\u001B[1;31mNameError\u001B[0m: name 'ttest_ind' is not defined"
     ]
    }
   ],
   "execution_count": 277
  },
  {
   "metadata": {
    "ExecuteTime": {
     "end_time": "2024-05-29T13:06:04.309092Z",
     "start_time": "2024-05-29T13:06:04.286137Z"
    }
   },
   "cell_type": "code",
   "source": [
    "t_stat_34, p_val_34 = ttest_ind(SENSE_PA['FGE MDRD'], TOTAL['FGE MDRD'], equal_var=False)\n",
    "print(\"P-valor entre SENSE_PA i TOTAL:\", p_val_34)"
   ],
   "id": "9f70ca817ee6fe1a",
   "outputs": [
    {
     "ename": "NameError",
     "evalue": "name 'ttest_ind' is not defined",
     "output_type": "error",
     "traceback": [
      "\u001B[1;31m---------------------------------------------------------------------------\u001B[0m",
      "\u001B[1;31mNameError\u001B[0m                                 Traceback (most recent call last)",
      "Cell \u001B[1;32mIn[278], line 1\u001B[0m\n\u001B[1;32m----> 1\u001B[0m t_stat_34, p_val_34 \u001B[38;5;241m=\u001B[39m \u001B[43mttest_ind\u001B[49m(SENSE_PA[\u001B[38;5;124m'\u001B[39m\u001B[38;5;124mFGE MDRD\u001B[39m\u001B[38;5;124m'\u001B[39m], TOTAL[\u001B[38;5;124m'\u001B[39m\u001B[38;5;124mFGE MDRD\u001B[39m\u001B[38;5;124m'\u001B[39m], equal_var\u001B[38;5;241m=\u001B[39m\u001B[38;5;28;01mFalse\u001B[39;00m)\n\u001B[0;32m      2\u001B[0m \u001B[38;5;28mprint\u001B[39m(\u001B[38;5;124m\"\u001B[39m\u001B[38;5;124mP-valor entre SENSE_PA i TOTAL:\u001B[39m\u001B[38;5;124m\"\u001B[39m, p_val_34)\n",
      "\u001B[1;31mNameError\u001B[0m: name 'ttest_ind' is not defined"
     ]
    }
   ],
   "execution_count": 278
  }
 ],
 "metadata": {
  "kernelspec": {
   "display_name": "Python 3",
   "language": "python",
   "name": "python3"
  },
  "language_info": {
   "codemirror_mode": {
    "name": "ipython",
    "version": 2
   },
   "file_extension": ".py",
   "mimetype": "text/x-python",
   "name": "python",
   "nbconvert_exporter": "python",
   "pygments_lexer": "ipython2",
   "version": "2.7.6"
  }
 },
 "nbformat": 4,
 "nbformat_minor": 5
}
