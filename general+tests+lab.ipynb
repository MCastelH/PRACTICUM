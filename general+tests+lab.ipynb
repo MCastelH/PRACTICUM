{
 "cells": [
  {
   "cell_type": "markdown",
   "source": [
    "# Anàlisi de les dades\n",
    "## Nota sobre les limitacions de l'anàlisi \n",
    "Les dades obtingudes poden contenir errors deguts a:\n",
    "- Errors en la recollida de dades a causa d'erros humans\n",
    "- Errors en la classificació de les dades a causa d'errors informàtics\n",
    "No es realitzarà una comprovació de les dades a causa de la magnitud de l'estudi i l'objectiu de l'anàlisi.\n",
    "Tanmateix, en les conclusións de cada anàlisi es tindran en compte aquestes limitacions.\n",
    "\n",
    "## Objectiu de l'anàlisi\n",
    "TODO: Afegir objectiu de l'anàlisi\n",
    "\n",
    "## Importació de llibreries i funcions pròpies"
   ],
   "metadata": {
    "collapsed": false
   },
   "id": "a0123f34feef32a8"
  },
  {
   "cell_type": "code",
   "source": [
    "import pandas as pd\n",
    "from scipy.stats import ttest_ind, chi2_contingency\n",
    "from auxiliary_functions import test_indepe_plot, test_indepe_bin_plot, comptatge_i_percentatge_cat, mitjana_i_std_num\n",
    "from listas import num_var, cat_var, num_tests, cat_tests"
   ],
   "metadata": {
    "collapsed": false,
    "ExecuteTime": {
     "end_time": "2024-06-12T08:18:52.418426Z",
     "start_time": "2024-06-12T08:18:50.326961Z"
    }
   },
   "id": "2f803bba5e235e3b",
   "outputs": [],
   "execution_count": 6
  },
  {
   "cell_type": "markdown",
   "source": [
    "## Càrrega de les dades\n",
    "Les dades s'han tractat prèviament amb l'script 'process_database.py' i s'han guardat en un dataframe de Pandas. Aquestes dades contenen la informació de tots els pacients de l'estudi."
   ],
   "metadata": {
    "collapsed": false
   },
   "id": "f50948d8aa8b8957"
  },
  {
   "cell_type": "code",
   "source": [
    "taula = pd.read_pickle('./data/processed/dataframe.pkl')"
   ],
   "metadata": {
    "collapsed": false,
    "ExecuteTime": {
     "end_time": "2024-06-12T08:18:52.875877Z",
     "start_time": "2024-06-12T08:18:52.838702Z"
    }
   },
   "id": "839eafe1a0f16ec4",
   "outputs": [],
   "execution_count": 7
  },
  {
   "cell_type": "markdown",
   "source": [
    "## Segmentació de les dades\n",
    "Distribuiré les dades en 3 grups (més un grup que conté la totalitat de dades):\n",
    "- **AMB_PA**: aquest grup està compost per pacients que contenen el codi ICD de pneumònia aspirativa al seu historial.\n",
    "- **AMB_PA_MECVV**: aquest grup conté els pacients que compleixen les següents característiques: \n",
    "    - Han donat positiu al MECVV (és a dir, que tenen disfàgia i una alteració en la seguretat o en l'eficàcia)\n",
    "    - Han sigut diagnosticats amb el codi ICD de pneumònia\n",
    "    - Han passat menys de 30 dies entre el diagnòstic amb l'ICD de pneumònia i el resultat positiu al MECVV\n",
    "- **SENSE_PA**: aquest grup està format per pacients que contenen el codi ICD de pneumònia o bé:\n",
    "    - Contenen el codi ICD de pneumònia\n",
    "    - Han donat positiu al MECVV \n",
    "    - Han passat més de 30 dies entre el diagnòstic amb l'ICD de pneumònia i el resultat positiu del MECVV \n",
    "- **TOTAL**: aquest grup conté tots els pacients de l'estudi"
   ],
   "metadata": {
    "collapsed": false
   },
   "id": "278abfba5c4898fd"
  },
  {
   "cell_type": "markdown",
   "source": [
    "### AMB_PA "
   ],
   "metadata": {
    "collapsed": false
   },
   "id": "f658922a2474ceda"
  },
  {
   "cell_type": "code",
   "source": [
    "AMB_PA = taula[taula[\"PA diagnosticada\"] == 1.0]\n",
    "AMB_PA.head()"
   ],
   "metadata": {
    "collapsed": false,
    "ExecuteTime": {
     "end_time": "2024-06-12T08:18:54.921684Z",
     "start_time": "2024-06-12T08:18:54.754549Z"
    }
   },
   "id": "c98086151b5c466c",
   "outputs": [
    {
     "data": {
      "text/plain": [
       "    edat  sexe M  visitaDietista  \\\n",
       "0     89       0               0   \n",
       "1     70       1               0   \n",
       "3     85       1               0   \n",
       "6    101       0               0   \n",
       "12    86       1               0   \n",
       "\n",
       "                                                 labs mna  \\\n",
       "0                                                  []  []   \n",
       "1   [{'date': '20220524', 'name': 'PCR SARS-CoV2 S...  []   \n",
       "3                                                  []  []   \n",
       "6                                                  []  []   \n",
       "12                                                 []  []   \n",
       "\n",
       "                                                emina canadenca  \\\n",
       "0   [{'activitat': '2', 'estatMental': '1', 'humit...        []   \n",
       "1   [{'activitat': '0', 'estatMental': '0', 'humit...        []   \n",
       "3   [{'activitat': '2', 'estatMental': '1', 'humit...        []   \n",
       "6   [{'activitat': '3', 'estatMental': '1', 'humit...        []   \n",
       "12  [{'activitat': '1', 'estatMental': '1', 'humit...        []   \n",
       "\n",
       "                                                  pes  \\\n",
       "0                                                  []   \n",
       "1   [{'valor': '64.7', 'data': '2022-10-04'}, {'va...   \n",
       "3                                                  []   \n",
       "6                                                  []   \n",
       "12          [{'valor': '46.4', 'data': '2020-09-09'}]   \n",
       "\n",
       "                                                 atcs  \\\n",
       "0   [{'codi': 'M01AE', 'dataInici': '2020-06-21 00...   \n",
       "1   [{'codi': 'C09AA', 'dataInici': '2021-05-26 00...   \n",
       "3   [{'codi': 'G04CA', 'dataInici': '2020-07-15 00...   \n",
       "6   [{'codi': 'C09AA', 'dataInici': '2021-08-21 00...   \n",
       "12  [{'codi': 'G04CA', 'dataInici': '2020-09-04 00...   \n",
       "\n",
       "                                               mecvvs  ...  \\\n",
       "0                                                  []  ...   \n",
       "1   [{'data': '20220930', 'pacientNoColabora': '',...  ...   \n",
       "3   [{'data': '20201204131810', 'disfagia': 'S', '...  ...   \n",
       "6   [{'data': '20210819124116', 'disfagia': 'S', '...  ...   \n",
       "12  [{'data': '20200907110400', 'disfagia': 'S', '...  ...   \n",
       "\n",
       "   Pes coincident primer MECVV Pèrdua pes entre ingressos  Pèrdua pes total  \\\n",
       "0                         None                       None              None   \n",
       "1                         None                       None              16.3   \n",
       "3                         None                       None              None   \n",
       "6                         None                       None              None   \n",
       "12                        46.4                        0.0               0.0   \n",
       "\n",
       "    Data més antiga pneumònia  \\\n",
       "0                  2020-06-18   \n",
       "1                  2022-09-29   \n",
       "3                  2020-12-02   \n",
       "6                  2021-08-17   \n",
       "12                 2020-09-04   \n",
       "\n",
       "    Dies entre primer ICD pneumònia i primer MECVV positiu  \\\n",
       "0                                                 NaN        \n",
       "1                                                 NaN        \n",
       "3                                                 2.0        \n",
       "6                                                 2.0        \n",
       "12                                                3.0        \n",
       "\n",
       "     Barthel categòric  MNA categòric  EMINA categòric  Canadenca categòrica  \\\n",
       "0    Dependència total     Desconegut     Risc moderat            Desconegut   \n",
       "1   Dependència severa     Desconegut        Risc baix            Desconegut   \n",
       "3   Dependència severa     Desconegut     Risc moderat            Desconegut   \n",
       "6    Dependència total     Desconegut     Risc moderat            Desconegut   \n",
       "12  Dependència severa     Desconegut     Risc moderat            Desconegut   \n",
       "\n",
       "    Malaltia renal crònica  \n",
       "0                        0  \n",
       "1                        0  \n",
       "3                        0  \n",
       "6                        0  \n",
       "12                       0  \n",
       "\n",
       "[5 rows x 81 columns]"
      ],
      "text/html": [
       "<div>\n",
       "<style scoped>\n",
       "    .dataframe tbody tr th:only-of-type {\n",
       "        vertical-align: middle;\n",
       "    }\n",
       "\n",
       "    .dataframe tbody tr th {\n",
       "        vertical-align: top;\n",
       "    }\n",
       "\n",
       "    .dataframe thead th {\n",
       "        text-align: right;\n",
       "    }\n",
       "</style>\n",
       "<table border=\"1\" class=\"dataframe\">\n",
       "  <thead>\n",
       "    <tr style=\"text-align: right;\">\n",
       "      <th></th>\n",
       "      <th>edat</th>\n",
       "      <th>sexe M</th>\n",
       "      <th>visitaDietista</th>\n",
       "      <th>labs</th>\n",
       "      <th>mna</th>\n",
       "      <th>emina</th>\n",
       "      <th>canadenca</th>\n",
       "      <th>pes</th>\n",
       "      <th>atcs</th>\n",
       "      <th>mecvvs</th>\n",
       "      <th>...</th>\n",
       "      <th>Pes coincident primer MECVV</th>\n",
       "      <th>Pèrdua pes entre ingressos</th>\n",
       "      <th>Pèrdua pes total</th>\n",
       "      <th>Data més antiga pneumònia</th>\n",
       "      <th>Dies entre primer ICD pneumònia i primer MECVV positiu</th>\n",
       "      <th>Barthel categòric</th>\n",
       "      <th>MNA categòric</th>\n",
       "      <th>EMINA categòric</th>\n",
       "      <th>Canadenca categòrica</th>\n",
       "      <th>Malaltia renal crònica</th>\n",
       "    </tr>\n",
       "  </thead>\n",
       "  <tbody>\n",
       "    <tr>\n",
       "      <th>0</th>\n",
       "      <td>89</td>\n",
       "      <td>0</td>\n",
       "      <td>0</td>\n",
       "      <td>[]</td>\n",
       "      <td>[]</td>\n",
       "      <td>[{'activitat': '2', 'estatMental': '1', 'humit...</td>\n",
       "      <td>[]</td>\n",
       "      <td>[]</td>\n",
       "      <td>[{'codi': 'M01AE', 'dataInici': '2020-06-21 00...</td>\n",
       "      <td>[]</td>\n",
       "      <td>...</td>\n",
       "      <td>None</td>\n",
       "      <td>None</td>\n",
       "      <td>None</td>\n",
       "      <td>2020-06-18</td>\n",
       "      <td>NaN</td>\n",
       "      <td>Dependència total</td>\n",
       "      <td>Desconegut</td>\n",
       "      <td>Risc moderat</td>\n",
       "      <td>Desconegut</td>\n",
       "      <td>0</td>\n",
       "    </tr>\n",
       "    <tr>\n",
       "      <th>1</th>\n",
       "      <td>70</td>\n",
       "      <td>1</td>\n",
       "      <td>0</td>\n",
       "      <td>[{'date': '20220524', 'name': 'PCR SARS-CoV2 S...</td>\n",
       "      <td>[]</td>\n",
       "      <td>[{'activitat': '0', 'estatMental': '0', 'humit...</td>\n",
       "      <td>[]</td>\n",
       "      <td>[{'valor': '64.7', 'data': '2022-10-04'}, {'va...</td>\n",
       "      <td>[{'codi': 'C09AA', 'dataInici': '2021-05-26 00...</td>\n",
       "      <td>[{'data': '20220930', 'pacientNoColabora': '',...</td>\n",
       "      <td>...</td>\n",
       "      <td>None</td>\n",
       "      <td>None</td>\n",
       "      <td>16.3</td>\n",
       "      <td>2022-09-29</td>\n",
       "      <td>NaN</td>\n",
       "      <td>Dependència severa</td>\n",
       "      <td>Desconegut</td>\n",
       "      <td>Risc baix</td>\n",
       "      <td>Desconegut</td>\n",
       "      <td>0</td>\n",
       "    </tr>\n",
       "    <tr>\n",
       "      <th>3</th>\n",
       "      <td>85</td>\n",
       "      <td>1</td>\n",
       "      <td>0</td>\n",
       "      <td>[]</td>\n",
       "      <td>[]</td>\n",
       "      <td>[{'activitat': '2', 'estatMental': '1', 'humit...</td>\n",
       "      <td>[]</td>\n",
       "      <td>[]</td>\n",
       "      <td>[{'codi': 'G04CA', 'dataInici': '2020-07-15 00...</td>\n",
       "      <td>[{'data': '20201204131810', 'disfagia': 'S', '...</td>\n",
       "      <td>...</td>\n",
       "      <td>None</td>\n",
       "      <td>None</td>\n",
       "      <td>None</td>\n",
       "      <td>2020-12-02</td>\n",
       "      <td>2.0</td>\n",
       "      <td>Dependència severa</td>\n",
       "      <td>Desconegut</td>\n",
       "      <td>Risc moderat</td>\n",
       "      <td>Desconegut</td>\n",
       "      <td>0</td>\n",
       "    </tr>\n",
       "    <tr>\n",
       "      <th>6</th>\n",
       "      <td>101</td>\n",
       "      <td>0</td>\n",
       "      <td>0</td>\n",
       "      <td>[]</td>\n",
       "      <td>[]</td>\n",
       "      <td>[{'activitat': '3', 'estatMental': '1', 'humit...</td>\n",
       "      <td>[]</td>\n",
       "      <td>[]</td>\n",
       "      <td>[{'codi': 'C09AA', 'dataInici': '2021-08-21 00...</td>\n",
       "      <td>[{'data': '20210819124116', 'disfagia': 'S', '...</td>\n",
       "      <td>...</td>\n",
       "      <td>None</td>\n",
       "      <td>None</td>\n",
       "      <td>None</td>\n",
       "      <td>2021-08-17</td>\n",
       "      <td>2.0</td>\n",
       "      <td>Dependència total</td>\n",
       "      <td>Desconegut</td>\n",
       "      <td>Risc moderat</td>\n",
       "      <td>Desconegut</td>\n",
       "      <td>0</td>\n",
       "    </tr>\n",
       "    <tr>\n",
       "      <th>12</th>\n",
       "      <td>86</td>\n",
       "      <td>1</td>\n",
       "      <td>0</td>\n",
       "      <td>[]</td>\n",
       "      <td>[]</td>\n",
       "      <td>[{'activitat': '1', 'estatMental': '1', 'humit...</td>\n",
       "      <td>[]</td>\n",
       "      <td>[{'valor': '46.4', 'data': '2020-09-09'}]</td>\n",
       "      <td>[{'codi': 'G04CA', 'dataInici': '2020-09-04 00...</td>\n",
       "      <td>[{'data': '20200907110400', 'disfagia': 'S', '...</td>\n",
       "      <td>...</td>\n",
       "      <td>46.4</td>\n",
       "      <td>0.0</td>\n",
       "      <td>0.0</td>\n",
       "      <td>2020-09-04</td>\n",
       "      <td>3.0</td>\n",
       "      <td>Dependència severa</td>\n",
       "      <td>Desconegut</td>\n",
       "      <td>Risc moderat</td>\n",
       "      <td>Desconegut</td>\n",
       "      <td>0</td>\n",
       "    </tr>\n",
       "  </tbody>\n",
       "</table>\n",
       "<p>5 rows × 81 columns</p>\n",
       "</div>"
      ]
     },
     "execution_count": 8,
     "metadata": {},
     "output_type": "execute_result"
    }
   ],
   "execution_count": 8
  },
  {
   "cell_type": "markdown",
   "source": [
    "# AMB_PA_MECVV"
   ],
   "metadata": {
    "collapsed": false
   },
   "id": "103613713c5a9646"
  },
  {
   "cell_type": "code",
   "source": [
    "AMB_PA_MECVV = taula[\n",
    "    (taula[\"Dies entre primer ICD pneumònia i primer MECVV positiu\"] < 30)] \n",
    "AMB_PA_MECVV.head()"
   ],
   "metadata": {
    "collapsed": false,
    "ExecuteTime": {
     "end_time": "2024-06-12T08:18:55.613061Z",
     "start_time": "2024-06-12T08:18:55.477949Z"
    }
   },
   "id": "cd7f2059d97e680e",
   "outputs": [
    {
     "data": {
      "text/plain": [
       "    edat  sexe M  visitaDietista  \\\n",
       "3     85       1               0   \n",
       "6    101       0               0   \n",
       "12    86       1               0   \n",
       "27   100       1               0   \n",
       "28    95       0               0   \n",
       "\n",
       "                                                 labs mna  \\\n",
       "3                                                  []  []   \n",
       "6                                                  []  []   \n",
       "12                                                 []  []   \n",
       "27                                                 []  []   \n",
       "28  [{'date': '20220526', 'name': 'GLUCOSA Sèrum',...  []   \n",
       "\n",
       "                                                emina canadenca  \\\n",
       "3   [{'activitat': '2', 'estatMental': '1', 'humit...        []   \n",
       "6   [{'activitat': '3', 'estatMental': '1', 'humit...        []   \n",
       "12  [{'activitat': '1', 'estatMental': '1', 'humit...        []   \n",
       "27  [{'activitat': '3', 'estatMental': '0', 'humit...        []   \n",
       "28  [{'activitat': '3', 'estatMental': '0', 'humit...        []   \n",
       "\n",
       "                                                  pes  \\\n",
       "3                                                  []   \n",
       "6                                                  []   \n",
       "12          [{'valor': '46.4', 'data': '2020-09-09'}]   \n",
       "27  [{'valor': '0', 'data': '2021-09-14'}, {'valor...   \n",
       "28             [{'valor': '0', 'data': '2022-05-30'}]   \n",
       "\n",
       "                                                 atcs  \\\n",
       "3   [{'codi': 'G04CA', 'dataInici': '2020-07-15 00...   \n",
       "6   [{'codi': 'C09AA', 'dataInici': '2021-08-21 00...   \n",
       "12  [{'codi': 'G04CA', 'dataInici': '2020-09-04 00...   \n",
       "27  [{'codi': 'C08CA', 'dataInici': '2020-11-23 00...   \n",
       "28  [{'codi': 'C10AA', 'dataInici': '2020-11-18 00...   \n",
       "\n",
       "                                               mecvvs  ...  \\\n",
       "3   [{'data': '20201204131810', 'disfagia': 'S', '...  ...   \n",
       "6   [{'data': '20210819124116', 'disfagia': 'S', '...  ...   \n",
       "12  [{'data': '20200907110400', 'disfagia': 'S', '...  ...   \n",
       "27  [{'data': '20201125131827', 'disfagia': 'S', '...  ...   \n",
       "28  [{'data': '20220529115841', 'disfagia': 'S', '...  ...   \n",
       "\n",
       "   Pes coincident primer MECVV Pèrdua pes entre ingressos  Pèrdua pes total  \\\n",
       "3                         None                       None              None   \n",
       "6                         None                       None              None   \n",
       "12                        46.4                        0.0               0.0   \n",
       "27                        None                       None              41.1   \n",
       "28                           0                        0.0               0.0   \n",
       "\n",
       "    Data més antiga pneumònia  \\\n",
       "3                  2020-12-02   \n",
       "6                  2021-08-17   \n",
       "12                 2020-09-04   \n",
       "27                 2020-12-02   \n",
       "28                 2022-05-23   \n",
       "\n",
       "    Dies entre primer ICD pneumònia i primer MECVV positiu  \\\n",
       "3                                                 2.0        \n",
       "6                                                 2.0        \n",
       "12                                                3.0        \n",
       "27                                                7.0        \n",
       "28                                                6.0        \n",
       "\n",
       "     Barthel categòric  MNA categòric  EMINA categòric  Canadenca categòrica  \\\n",
       "3   Dependència severa     Desconegut     Risc moderat            Desconegut   \n",
       "6    Dependència total     Desconegut     Risc moderat            Desconegut   \n",
       "12  Dependència severa     Desconegut     Risc moderat            Desconegut   \n",
       "27   Dependència total     Desconegut     Risc moderat            Desconegut   \n",
       "28   Dependència total     Desconegut     Risc moderat            Desconegut   \n",
       "\n",
       "    Malaltia renal crònica  \n",
       "3                        0  \n",
       "6                        0  \n",
       "12                       0  \n",
       "27                       0  \n",
       "28                       0  \n",
       "\n",
       "[5 rows x 81 columns]"
      ],
      "text/html": [
       "<div>\n",
       "<style scoped>\n",
       "    .dataframe tbody tr th:only-of-type {\n",
       "        vertical-align: middle;\n",
       "    }\n",
       "\n",
       "    .dataframe tbody tr th {\n",
       "        vertical-align: top;\n",
       "    }\n",
       "\n",
       "    .dataframe thead th {\n",
       "        text-align: right;\n",
       "    }\n",
       "</style>\n",
       "<table border=\"1\" class=\"dataframe\">\n",
       "  <thead>\n",
       "    <tr style=\"text-align: right;\">\n",
       "      <th></th>\n",
       "      <th>edat</th>\n",
       "      <th>sexe M</th>\n",
       "      <th>visitaDietista</th>\n",
       "      <th>labs</th>\n",
       "      <th>mna</th>\n",
       "      <th>emina</th>\n",
       "      <th>canadenca</th>\n",
       "      <th>pes</th>\n",
       "      <th>atcs</th>\n",
       "      <th>mecvvs</th>\n",
       "      <th>...</th>\n",
       "      <th>Pes coincident primer MECVV</th>\n",
       "      <th>Pèrdua pes entre ingressos</th>\n",
       "      <th>Pèrdua pes total</th>\n",
       "      <th>Data més antiga pneumònia</th>\n",
       "      <th>Dies entre primer ICD pneumònia i primer MECVV positiu</th>\n",
       "      <th>Barthel categòric</th>\n",
       "      <th>MNA categòric</th>\n",
       "      <th>EMINA categòric</th>\n",
       "      <th>Canadenca categòrica</th>\n",
       "      <th>Malaltia renal crònica</th>\n",
       "    </tr>\n",
       "  </thead>\n",
       "  <tbody>\n",
       "    <tr>\n",
       "      <th>3</th>\n",
       "      <td>85</td>\n",
       "      <td>1</td>\n",
       "      <td>0</td>\n",
       "      <td>[]</td>\n",
       "      <td>[]</td>\n",
       "      <td>[{'activitat': '2', 'estatMental': '1', 'humit...</td>\n",
       "      <td>[]</td>\n",
       "      <td>[]</td>\n",
       "      <td>[{'codi': 'G04CA', 'dataInici': '2020-07-15 00...</td>\n",
       "      <td>[{'data': '20201204131810', 'disfagia': 'S', '...</td>\n",
       "      <td>...</td>\n",
       "      <td>None</td>\n",
       "      <td>None</td>\n",
       "      <td>None</td>\n",
       "      <td>2020-12-02</td>\n",
       "      <td>2.0</td>\n",
       "      <td>Dependència severa</td>\n",
       "      <td>Desconegut</td>\n",
       "      <td>Risc moderat</td>\n",
       "      <td>Desconegut</td>\n",
       "      <td>0</td>\n",
       "    </tr>\n",
       "    <tr>\n",
       "      <th>6</th>\n",
       "      <td>101</td>\n",
       "      <td>0</td>\n",
       "      <td>0</td>\n",
       "      <td>[]</td>\n",
       "      <td>[]</td>\n",
       "      <td>[{'activitat': '3', 'estatMental': '1', 'humit...</td>\n",
       "      <td>[]</td>\n",
       "      <td>[]</td>\n",
       "      <td>[{'codi': 'C09AA', 'dataInici': '2021-08-21 00...</td>\n",
       "      <td>[{'data': '20210819124116', 'disfagia': 'S', '...</td>\n",
       "      <td>...</td>\n",
       "      <td>None</td>\n",
       "      <td>None</td>\n",
       "      <td>None</td>\n",
       "      <td>2021-08-17</td>\n",
       "      <td>2.0</td>\n",
       "      <td>Dependència total</td>\n",
       "      <td>Desconegut</td>\n",
       "      <td>Risc moderat</td>\n",
       "      <td>Desconegut</td>\n",
       "      <td>0</td>\n",
       "    </tr>\n",
       "    <tr>\n",
       "      <th>12</th>\n",
       "      <td>86</td>\n",
       "      <td>1</td>\n",
       "      <td>0</td>\n",
       "      <td>[]</td>\n",
       "      <td>[]</td>\n",
       "      <td>[{'activitat': '1', 'estatMental': '1', 'humit...</td>\n",
       "      <td>[]</td>\n",
       "      <td>[{'valor': '46.4', 'data': '2020-09-09'}]</td>\n",
       "      <td>[{'codi': 'G04CA', 'dataInici': '2020-09-04 00...</td>\n",
       "      <td>[{'data': '20200907110400', 'disfagia': 'S', '...</td>\n",
       "      <td>...</td>\n",
       "      <td>46.4</td>\n",
       "      <td>0.0</td>\n",
       "      <td>0.0</td>\n",
       "      <td>2020-09-04</td>\n",
       "      <td>3.0</td>\n",
       "      <td>Dependència severa</td>\n",
       "      <td>Desconegut</td>\n",
       "      <td>Risc moderat</td>\n",
       "      <td>Desconegut</td>\n",
       "      <td>0</td>\n",
       "    </tr>\n",
       "    <tr>\n",
       "      <th>27</th>\n",
       "      <td>100</td>\n",
       "      <td>1</td>\n",
       "      <td>0</td>\n",
       "      <td>[]</td>\n",
       "      <td>[]</td>\n",
       "      <td>[{'activitat': '3', 'estatMental': '0', 'humit...</td>\n",
       "      <td>[]</td>\n",
       "      <td>[{'valor': '0', 'data': '2021-09-14'}, {'valor...</td>\n",
       "      <td>[{'codi': 'C08CA', 'dataInici': '2020-11-23 00...</td>\n",
       "      <td>[{'data': '20201125131827', 'disfagia': 'S', '...</td>\n",
       "      <td>...</td>\n",
       "      <td>None</td>\n",
       "      <td>None</td>\n",
       "      <td>41.1</td>\n",
       "      <td>2020-12-02</td>\n",
       "      <td>7.0</td>\n",
       "      <td>Dependència total</td>\n",
       "      <td>Desconegut</td>\n",
       "      <td>Risc moderat</td>\n",
       "      <td>Desconegut</td>\n",
       "      <td>0</td>\n",
       "    </tr>\n",
       "    <tr>\n",
       "      <th>28</th>\n",
       "      <td>95</td>\n",
       "      <td>0</td>\n",
       "      <td>0</td>\n",
       "      <td>[{'date': '20220526', 'name': 'GLUCOSA Sèrum',...</td>\n",
       "      <td>[]</td>\n",
       "      <td>[{'activitat': '3', 'estatMental': '0', 'humit...</td>\n",
       "      <td>[]</td>\n",
       "      <td>[{'valor': '0', 'data': '2022-05-30'}]</td>\n",
       "      <td>[{'codi': 'C10AA', 'dataInici': '2020-11-18 00...</td>\n",
       "      <td>[{'data': '20220529115841', 'disfagia': 'S', '...</td>\n",
       "      <td>...</td>\n",
       "      <td>0</td>\n",
       "      <td>0.0</td>\n",
       "      <td>0.0</td>\n",
       "      <td>2022-05-23</td>\n",
       "      <td>6.0</td>\n",
       "      <td>Dependència total</td>\n",
       "      <td>Desconegut</td>\n",
       "      <td>Risc moderat</td>\n",
       "      <td>Desconegut</td>\n",
       "      <td>0</td>\n",
       "    </tr>\n",
       "  </tbody>\n",
       "</table>\n",
       "<p>5 rows × 81 columns</p>\n",
       "</div>"
      ]
     },
     "execution_count": 9,
     "metadata": {},
     "output_type": "execute_result"
    }
   ],
   "execution_count": 9
  },
  {
   "cell_type": "markdown",
   "source": [
    "# SENSE_PA"
   ],
   "metadata": {
    "collapsed": false
   },
   "id": "dec4a6dab210a15"
  },
  {
   "cell_type": "code",
   "source": [
    "SENSE_PA = taula[\n",
    "           (taula[\"Dies entre primer ICD pneumònia i primer MECVV positiu\"] > 30) & \n",
    "           (taula['P diagnosticada'] == 1.0)]\n",
    "SENSE_PA.head()"
   ],
   "metadata": {
    "collapsed": false,
    "ExecuteTime": {
     "end_time": "2024-06-12T08:18:55.874026Z",
     "start_time": "2024-06-12T08:18:55.693567Z"
    }
   },
   "id": "99cb28165725d83b",
   "outputs": [
    {
     "data": {
      "text/plain": [
       "    edat  sexe M  visitaDietista  \\\n",
       "13    71       0               0   \n",
       "25    83       0               0   \n",
       "31    89       1               0   \n",
       "39    87       0               0   \n",
       "41    93       0               0   \n",
       "\n",
       "                                                 labs  \\\n",
       "13  [{'date': '20220216', 'name': 'CULTIU Esput', ...   \n",
       "25  [{'date': '20220308', 'name': 'UREA Sèrum', 'l...   \n",
       "31  [{'date': '20220318', 'name': 'BILIRUBINA TOTA...   \n",
       "39  [{'date': '20230619', 'name': 'GLUCOSA Sèrum',...   \n",
       "41  [{'date': '20221013', 'name': 'GLUCOSA Sèrum',...   \n",
       "\n",
       "                                                  mna  \\\n",
       "13                                                 []   \n",
       "25  [{'imc': '', 'anorexia': '', 'perduaPes': '', ...   \n",
       "31  [{'imc': '', 'anorexia': '', 'perduaPes': '', ...   \n",
       "39                                                 []   \n",
       "41                                                 []   \n",
       "\n",
       "                                                emina  \\\n",
       "13  [{'activitat': '3', 'estatMental': '0', 'humit...   \n",
       "25  [{'activitat': '0', 'estatMental': '1', 'humit...   \n",
       "31  [{'activitat': '2', 'estatMental': '1', 'humit...   \n",
       "39  [{'activitat': '1', 'estatMental': '0', 'humit...   \n",
       "41  [{'activitat': '1', 'estatMental': '1', 'humit...   \n",
       "\n",
       "                                            canadenca  \\\n",
       "13  [{'dataValoracio': '2020-09-06', 'horaValoraci...   \n",
       "25                                                 []   \n",
       "31                                                 []   \n",
       "39                                                 []   \n",
       "41                                                 []   \n",
       "\n",
       "                                                  pes  \\\n",
       "13                                                 []   \n",
       "25  [{'valor': '57', 'data': '2022-11-03'}, {'valo...   \n",
       "31  [{'valor': '75', 'data': '2022-01-11'}, {'valo...   \n",
       "39                                                 []   \n",
       "41  [{'valor': '0', 'data': '2023-06-02'}, {'valor...   \n",
       "\n",
       "                                                 atcs  \\\n",
       "13  [{'codi': 'C10AA', 'dataInici': '2020-09-06 00...   \n",
       "25  [{'codi': 'C10AA', 'dataInici': '2022-09-27 00...   \n",
       "31  [{'codi': 'C10AA', 'dataInici': '2021-12-23 00...   \n",
       "39  [{'codi': 'N02BE', 'dataInici': '2021-01-17 00...   \n",
       "41  [{'codi': 'C10AA', 'dataInici': '2021-02-05 00...   \n",
       "\n",
       "                                               mecvvs  ...  \\\n",
       "13  [{'data': '20200906175506', 'disfagia': 'N', '...  ...   \n",
       "25  [{'data': '20220929091303', 'disfagia': 'S', '...  ...   \n",
       "31  [{'data': '20220119101523', 'disfagia': 'N', '...  ...   \n",
       "39  [{'data': '20220111085147', 'disfagia': 'S', '...  ...   \n",
       "41  [{'data': '20230530155654', 'disfagia': 'S', '...  ...   \n",
       "\n",
       "   Pes coincident primer MECVV Pèrdua pes entre ingressos  Pèrdua pes total  \\\n",
       "13                        None                       None              None   \n",
       "25                        None                       None              -6.2   \n",
       "31                        None                       None               8.0   \n",
       "39                        None                       None              None   \n",
       "41                           0                        0.0             -60.0   \n",
       "\n",
       "    Data més antiga pneumònia  \\\n",
       "13                 2022-02-14   \n",
       "25                 2023-04-09   \n",
       "31                 2023-05-05   \n",
       "39                 2023-06-19   \n",
       "41                 2023-03-21   \n",
       "\n",
       "    Dies entre primer ICD pneumònia i primer MECVV positiu  \\\n",
       "13                                              525.0        \n",
       "25                                              192.0        \n",
       "31                                              458.0        \n",
       "39                                              524.0        \n",
       "41                                               70.0        \n",
       "\n",
       "       Barthel categòric  MNA categòric  EMINA categòric  \\\n",
       "13    Dependència severa     Desconegut     Risc moderat   \n",
       "25  Dependència moderada      Malnodrit        Risc baix   \n",
       "31  Dependència moderada      Malnodrit     Risc moderat   \n",
       "39    Dependència severa     Desconegut        Risc baix   \n",
       "41    Dependència severa     Desconegut        Risc baix   \n",
       "\n",
       "          Canadenca categòrica  Malaltia renal crònica  \n",
       "13  Dèficit neurologic moderat                       0  \n",
       "25                  Desconegut                       0  \n",
       "31                  Desconegut                       0  \n",
       "39                  Desconegut                       0  \n",
       "41                  Desconegut                       0  \n",
       "\n",
       "[5 rows x 81 columns]"
      ],
      "text/html": [
       "<div>\n",
       "<style scoped>\n",
       "    .dataframe tbody tr th:only-of-type {\n",
       "        vertical-align: middle;\n",
       "    }\n",
       "\n",
       "    .dataframe tbody tr th {\n",
       "        vertical-align: top;\n",
       "    }\n",
       "\n",
       "    .dataframe thead th {\n",
       "        text-align: right;\n",
       "    }\n",
       "</style>\n",
       "<table border=\"1\" class=\"dataframe\">\n",
       "  <thead>\n",
       "    <tr style=\"text-align: right;\">\n",
       "      <th></th>\n",
       "      <th>edat</th>\n",
       "      <th>sexe M</th>\n",
       "      <th>visitaDietista</th>\n",
       "      <th>labs</th>\n",
       "      <th>mna</th>\n",
       "      <th>emina</th>\n",
       "      <th>canadenca</th>\n",
       "      <th>pes</th>\n",
       "      <th>atcs</th>\n",
       "      <th>mecvvs</th>\n",
       "      <th>...</th>\n",
       "      <th>Pes coincident primer MECVV</th>\n",
       "      <th>Pèrdua pes entre ingressos</th>\n",
       "      <th>Pèrdua pes total</th>\n",
       "      <th>Data més antiga pneumònia</th>\n",
       "      <th>Dies entre primer ICD pneumònia i primer MECVV positiu</th>\n",
       "      <th>Barthel categòric</th>\n",
       "      <th>MNA categòric</th>\n",
       "      <th>EMINA categòric</th>\n",
       "      <th>Canadenca categòrica</th>\n",
       "      <th>Malaltia renal crònica</th>\n",
       "    </tr>\n",
       "  </thead>\n",
       "  <tbody>\n",
       "    <tr>\n",
       "      <th>13</th>\n",
       "      <td>71</td>\n",
       "      <td>0</td>\n",
       "      <td>0</td>\n",
       "      <td>[{'date': '20220216', 'name': 'CULTIU Esput', ...</td>\n",
       "      <td>[]</td>\n",
       "      <td>[{'activitat': '3', 'estatMental': '0', 'humit...</td>\n",
       "      <td>[{'dataValoracio': '2020-09-06', 'horaValoraci...</td>\n",
       "      <td>[]</td>\n",
       "      <td>[{'codi': 'C10AA', 'dataInici': '2020-09-06 00...</td>\n",
       "      <td>[{'data': '20200906175506', 'disfagia': 'N', '...</td>\n",
       "      <td>...</td>\n",
       "      <td>None</td>\n",
       "      <td>None</td>\n",
       "      <td>None</td>\n",
       "      <td>2022-02-14</td>\n",
       "      <td>525.0</td>\n",
       "      <td>Dependència severa</td>\n",
       "      <td>Desconegut</td>\n",
       "      <td>Risc moderat</td>\n",
       "      <td>Dèficit neurologic moderat</td>\n",
       "      <td>0</td>\n",
       "    </tr>\n",
       "    <tr>\n",
       "      <th>25</th>\n",
       "      <td>83</td>\n",
       "      <td>0</td>\n",
       "      <td>0</td>\n",
       "      <td>[{'date': '20220308', 'name': 'UREA Sèrum', 'l...</td>\n",
       "      <td>[{'imc': '', 'anorexia': '', 'perduaPes': '', ...</td>\n",
       "      <td>[{'activitat': '0', 'estatMental': '1', 'humit...</td>\n",
       "      <td>[]</td>\n",
       "      <td>[{'valor': '57', 'data': '2022-11-03'}, {'valo...</td>\n",
       "      <td>[{'codi': 'C10AA', 'dataInici': '2022-09-27 00...</td>\n",
       "      <td>[{'data': '20220929091303', 'disfagia': 'S', '...</td>\n",
       "      <td>...</td>\n",
       "      <td>None</td>\n",
       "      <td>None</td>\n",
       "      <td>-6.2</td>\n",
       "      <td>2023-04-09</td>\n",
       "      <td>192.0</td>\n",
       "      <td>Dependència moderada</td>\n",
       "      <td>Malnodrit</td>\n",
       "      <td>Risc baix</td>\n",
       "      <td>Desconegut</td>\n",
       "      <td>0</td>\n",
       "    </tr>\n",
       "    <tr>\n",
       "      <th>31</th>\n",
       "      <td>89</td>\n",
       "      <td>1</td>\n",
       "      <td>0</td>\n",
       "      <td>[{'date': '20220318', 'name': 'BILIRUBINA TOTA...</td>\n",
       "      <td>[{'imc': '', 'anorexia': '', 'perduaPes': '', ...</td>\n",
       "      <td>[{'activitat': '2', 'estatMental': '1', 'humit...</td>\n",
       "      <td>[]</td>\n",
       "      <td>[{'valor': '75', 'data': '2022-01-11'}, {'valo...</td>\n",
       "      <td>[{'codi': 'C10AA', 'dataInici': '2021-12-23 00...</td>\n",
       "      <td>[{'data': '20220119101523', 'disfagia': 'N', '...</td>\n",
       "      <td>...</td>\n",
       "      <td>None</td>\n",
       "      <td>None</td>\n",
       "      <td>8.0</td>\n",
       "      <td>2023-05-05</td>\n",
       "      <td>458.0</td>\n",
       "      <td>Dependència moderada</td>\n",
       "      <td>Malnodrit</td>\n",
       "      <td>Risc moderat</td>\n",
       "      <td>Desconegut</td>\n",
       "      <td>0</td>\n",
       "    </tr>\n",
       "    <tr>\n",
       "      <th>39</th>\n",
       "      <td>87</td>\n",
       "      <td>0</td>\n",
       "      <td>0</td>\n",
       "      <td>[{'date': '20230619', 'name': 'GLUCOSA Sèrum',...</td>\n",
       "      <td>[]</td>\n",
       "      <td>[{'activitat': '1', 'estatMental': '0', 'humit...</td>\n",
       "      <td>[]</td>\n",
       "      <td>[]</td>\n",
       "      <td>[{'codi': 'N02BE', 'dataInici': '2021-01-17 00...</td>\n",
       "      <td>[{'data': '20220111085147', 'disfagia': 'S', '...</td>\n",
       "      <td>...</td>\n",
       "      <td>None</td>\n",
       "      <td>None</td>\n",
       "      <td>None</td>\n",
       "      <td>2023-06-19</td>\n",
       "      <td>524.0</td>\n",
       "      <td>Dependència severa</td>\n",
       "      <td>Desconegut</td>\n",
       "      <td>Risc baix</td>\n",
       "      <td>Desconegut</td>\n",
       "      <td>0</td>\n",
       "    </tr>\n",
       "    <tr>\n",
       "      <th>41</th>\n",
       "      <td>93</td>\n",
       "      <td>0</td>\n",
       "      <td>0</td>\n",
       "      <td>[{'date': '20221013', 'name': 'GLUCOSA Sèrum',...</td>\n",
       "      <td>[]</td>\n",
       "      <td>[{'activitat': '1', 'estatMental': '1', 'humit...</td>\n",
       "      <td>[]</td>\n",
       "      <td>[{'valor': '0', 'data': '2023-06-02'}, {'valor...</td>\n",
       "      <td>[{'codi': 'C10AA', 'dataInici': '2021-02-05 00...</td>\n",
       "      <td>[{'data': '20230530155654', 'disfagia': 'S', '...</td>\n",
       "      <td>...</td>\n",
       "      <td>0</td>\n",
       "      <td>0.0</td>\n",
       "      <td>-60.0</td>\n",
       "      <td>2023-03-21</td>\n",
       "      <td>70.0</td>\n",
       "      <td>Dependència severa</td>\n",
       "      <td>Desconegut</td>\n",
       "      <td>Risc baix</td>\n",
       "      <td>Desconegut</td>\n",
       "      <td>0</td>\n",
       "    </tr>\n",
       "  </tbody>\n",
       "</table>\n",
       "<p>5 rows × 81 columns</p>\n",
       "</div>"
      ]
     },
     "execution_count": 10,
     "metadata": {},
     "output_type": "execute_result"
    }
   ],
   "execution_count": 10
  },
  {
   "cell_type": "markdown",
   "source": [
    "# TOTAL"
   ],
   "metadata": {
    "collapsed": false
   },
   "id": "96e8546f52482484"
  },
  {
   "cell_type": "code",
   "source": [
    "TOTAL = taula\n",
    "taula.head()"
   ],
   "metadata": {
    "collapsed": false,
    "ExecuteTime": {
     "end_time": "2024-06-12T08:18:56.560043Z",
     "start_time": "2024-06-12T08:18:56.379755Z"
    }
   },
   "id": "6f3b6e5a0174bd39",
   "outputs": [
    {
     "data": {
      "text/plain": [
       "   edat  sexe M  visitaDietista  \\\n",
       "0    89       0               0   \n",
       "1    70       1               0   \n",
       "2    96       1               0   \n",
       "3    85       1               0   \n",
       "4    93       1               0   \n",
       "\n",
       "                                                labs  \\\n",
       "0                                                 []   \n",
       "1  [{'date': '20220524', 'name': 'PCR SARS-CoV2 S...   \n",
       "2                                                 []   \n",
       "3                                                 []   \n",
       "4  [{'date': '20220208', 'name': 'UREA Sèrum', 'l...   \n",
       "\n",
       "                                                 mna  \\\n",
       "0                                                 []   \n",
       "1                                                 []   \n",
       "2                                                 []   \n",
       "3                                                 []   \n",
       "4  [{'imc': '0', 'anorexia': '1', 'perduaPes': '1...   \n",
       "\n",
       "                                               emina canadenca  \\\n",
       "0  [{'activitat': '2', 'estatMental': '1', 'humit...        []   \n",
       "1  [{'activitat': '0', 'estatMental': '0', 'humit...        []   \n",
       "2  [{'activitat': '3', 'estatMental': '0', 'humit...        []   \n",
       "3  [{'activitat': '2', 'estatMental': '1', 'humit...        []   \n",
       "4  [{'activitat': '2', 'estatMental': '1', 'humit...        []   \n",
       "\n",
       "                                                 pes  \\\n",
       "0                                                 []   \n",
       "1  [{'valor': '64.7', 'data': '2022-10-04'}, {'va...   \n",
       "2                                                 []   \n",
       "3                                                 []   \n",
       "4  [{'valor': '49.900', 'data': '2022-06-02'}, {'...   \n",
       "\n",
       "                                                atcs  \\\n",
       "0  [{'codi': 'M01AE', 'dataInici': '2020-06-21 00...   \n",
       "1  [{'codi': 'C09AA', 'dataInici': '2021-05-26 00...   \n",
       "2  [{'codi': 'G04CA', 'dataInici': '2020-07-09 00...   \n",
       "3  [{'codi': 'G04CA', 'dataInici': '2020-07-15 00...   \n",
       "4  [{'codi': 'N02AA', 'dataInici': '2022-02-01 00...   \n",
       "\n",
       "                                              mecvvs  ...  \\\n",
       "0                                                 []  ...   \n",
       "1  [{'data': '20220930', 'pacientNoColabora': '',...  ...   \n",
       "2                                                 []  ...   \n",
       "3  [{'data': '20201204131810', 'disfagia': 'S', '...  ...   \n",
       "4  [{'data': '20220330172303', 'disfagiaConeguda'...  ...   \n",
       "\n",
       "  Pes coincident primer MECVV Pèrdua pes entre ingressos  Pèrdua pes total  \\\n",
       "0                        None                       None              None   \n",
       "1                        None                       None              16.3   \n",
       "2                        None                       None              None   \n",
       "3                        None                       None              None   \n",
       "4                        None                       None               0.0   \n",
       "\n",
       "   Data més antiga pneumònia  \\\n",
       "0                 2020-06-18   \n",
       "1                 2022-09-29   \n",
       "2                 2020-07-08   \n",
       "3                 2020-12-02   \n",
       "4                 2022-08-07   \n",
       "\n",
       "   Dies entre primer ICD pneumònia i primer MECVV positiu   Barthel categòric  \\\n",
       "0                                                NaN        Dependència total   \n",
       "1                                                NaN       Dependència severa   \n",
       "2                                                NaN       Dependència severa   \n",
       "3                                                2.0       Dependència severa   \n",
       "4                                                NaN        Dependència total   \n",
       "\n",
       "   MNA categòric  EMINA categòric  Canadenca categòrica  \\\n",
       "0     Desconegut     Risc moderat            Desconegut   \n",
       "1     Desconegut        Risc baix            Desconegut   \n",
       "2     Desconegut     Risc moderat            Desconegut   \n",
       "3     Desconegut     Risc moderat            Desconegut   \n",
       "4      Malnodrit     Risc moderat            Desconegut   \n",
       "\n",
       "   Malaltia renal crònica  \n",
       "0                       0  \n",
       "1                       0  \n",
       "2                       0  \n",
       "3                       0  \n",
       "4                       0  \n",
       "\n",
       "[5 rows x 81 columns]"
      ],
      "text/html": [
       "<div>\n",
       "<style scoped>\n",
       "    .dataframe tbody tr th:only-of-type {\n",
       "        vertical-align: middle;\n",
       "    }\n",
       "\n",
       "    .dataframe tbody tr th {\n",
       "        vertical-align: top;\n",
       "    }\n",
       "\n",
       "    .dataframe thead th {\n",
       "        text-align: right;\n",
       "    }\n",
       "</style>\n",
       "<table border=\"1\" class=\"dataframe\">\n",
       "  <thead>\n",
       "    <tr style=\"text-align: right;\">\n",
       "      <th></th>\n",
       "      <th>edat</th>\n",
       "      <th>sexe M</th>\n",
       "      <th>visitaDietista</th>\n",
       "      <th>labs</th>\n",
       "      <th>mna</th>\n",
       "      <th>emina</th>\n",
       "      <th>canadenca</th>\n",
       "      <th>pes</th>\n",
       "      <th>atcs</th>\n",
       "      <th>mecvvs</th>\n",
       "      <th>...</th>\n",
       "      <th>Pes coincident primer MECVV</th>\n",
       "      <th>Pèrdua pes entre ingressos</th>\n",
       "      <th>Pèrdua pes total</th>\n",
       "      <th>Data més antiga pneumònia</th>\n",
       "      <th>Dies entre primer ICD pneumònia i primer MECVV positiu</th>\n",
       "      <th>Barthel categòric</th>\n",
       "      <th>MNA categòric</th>\n",
       "      <th>EMINA categòric</th>\n",
       "      <th>Canadenca categòrica</th>\n",
       "      <th>Malaltia renal crònica</th>\n",
       "    </tr>\n",
       "  </thead>\n",
       "  <tbody>\n",
       "    <tr>\n",
       "      <th>0</th>\n",
       "      <td>89</td>\n",
       "      <td>0</td>\n",
       "      <td>0</td>\n",
       "      <td>[]</td>\n",
       "      <td>[]</td>\n",
       "      <td>[{'activitat': '2', 'estatMental': '1', 'humit...</td>\n",
       "      <td>[]</td>\n",
       "      <td>[]</td>\n",
       "      <td>[{'codi': 'M01AE', 'dataInici': '2020-06-21 00...</td>\n",
       "      <td>[]</td>\n",
       "      <td>...</td>\n",
       "      <td>None</td>\n",
       "      <td>None</td>\n",
       "      <td>None</td>\n",
       "      <td>2020-06-18</td>\n",
       "      <td>NaN</td>\n",
       "      <td>Dependència total</td>\n",
       "      <td>Desconegut</td>\n",
       "      <td>Risc moderat</td>\n",
       "      <td>Desconegut</td>\n",
       "      <td>0</td>\n",
       "    </tr>\n",
       "    <tr>\n",
       "      <th>1</th>\n",
       "      <td>70</td>\n",
       "      <td>1</td>\n",
       "      <td>0</td>\n",
       "      <td>[{'date': '20220524', 'name': 'PCR SARS-CoV2 S...</td>\n",
       "      <td>[]</td>\n",
       "      <td>[{'activitat': '0', 'estatMental': '0', 'humit...</td>\n",
       "      <td>[]</td>\n",
       "      <td>[{'valor': '64.7', 'data': '2022-10-04'}, {'va...</td>\n",
       "      <td>[{'codi': 'C09AA', 'dataInici': '2021-05-26 00...</td>\n",
       "      <td>[{'data': '20220930', 'pacientNoColabora': '',...</td>\n",
       "      <td>...</td>\n",
       "      <td>None</td>\n",
       "      <td>None</td>\n",
       "      <td>16.3</td>\n",
       "      <td>2022-09-29</td>\n",
       "      <td>NaN</td>\n",
       "      <td>Dependència severa</td>\n",
       "      <td>Desconegut</td>\n",
       "      <td>Risc baix</td>\n",
       "      <td>Desconegut</td>\n",
       "      <td>0</td>\n",
       "    </tr>\n",
       "    <tr>\n",
       "      <th>2</th>\n",
       "      <td>96</td>\n",
       "      <td>1</td>\n",
       "      <td>0</td>\n",
       "      <td>[]</td>\n",
       "      <td>[]</td>\n",
       "      <td>[{'activitat': '3', 'estatMental': '0', 'humit...</td>\n",
       "      <td>[]</td>\n",
       "      <td>[]</td>\n",
       "      <td>[{'codi': 'G04CA', 'dataInici': '2020-07-09 00...</td>\n",
       "      <td>[]</td>\n",
       "      <td>...</td>\n",
       "      <td>None</td>\n",
       "      <td>None</td>\n",
       "      <td>None</td>\n",
       "      <td>2020-07-08</td>\n",
       "      <td>NaN</td>\n",
       "      <td>Dependència severa</td>\n",
       "      <td>Desconegut</td>\n",
       "      <td>Risc moderat</td>\n",
       "      <td>Desconegut</td>\n",
       "      <td>0</td>\n",
       "    </tr>\n",
       "    <tr>\n",
       "      <th>3</th>\n",
       "      <td>85</td>\n",
       "      <td>1</td>\n",
       "      <td>0</td>\n",
       "      <td>[]</td>\n",
       "      <td>[]</td>\n",
       "      <td>[{'activitat': '2', 'estatMental': '1', 'humit...</td>\n",
       "      <td>[]</td>\n",
       "      <td>[]</td>\n",
       "      <td>[{'codi': 'G04CA', 'dataInici': '2020-07-15 00...</td>\n",
       "      <td>[{'data': '20201204131810', 'disfagia': 'S', '...</td>\n",
       "      <td>...</td>\n",
       "      <td>None</td>\n",
       "      <td>None</td>\n",
       "      <td>None</td>\n",
       "      <td>2020-12-02</td>\n",
       "      <td>2.0</td>\n",
       "      <td>Dependència severa</td>\n",
       "      <td>Desconegut</td>\n",
       "      <td>Risc moderat</td>\n",
       "      <td>Desconegut</td>\n",
       "      <td>0</td>\n",
       "    </tr>\n",
       "    <tr>\n",
       "      <th>4</th>\n",
       "      <td>93</td>\n",
       "      <td>1</td>\n",
       "      <td>0</td>\n",
       "      <td>[{'date': '20220208', 'name': 'UREA Sèrum', 'l...</td>\n",
       "      <td>[{'imc': '0', 'anorexia': '1', 'perduaPes': '1...</td>\n",
       "      <td>[{'activitat': '2', 'estatMental': '1', 'humit...</td>\n",
       "      <td>[]</td>\n",
       "      <td>[{'valor': '49.900', 'data': '2022-06-02'}, {'...</td>\n",
       "      <td>[{'codi': 'N02AA', 'dataInici': '2022-02-01 00...</td>\n",
       "      <td>[{'data': '20220330172303', 'disfagiaConeguda'...</td>\n",
       "      <td>...</td>\n",
       "      <td>None</td>\n",
       "      <td>None</td>\n",
       "      <td>0.0</td>\n",
       "      <td>2022-08-07</td>\n",
       "      <td>NaN</td>\n",
       "      <td>Dependència total</td>\n",
       "      <td>Malnodrit</td>\n",
       "      <td>Risc moderat</td>\n",
       "      <td>Desconegut</td>\n",
       "      <td>0</td>\n",
       "    </tr>\n",
       "  </tbody>\n",
       "</table>\n",
       "<p>5 rows × 81 columns</p>\n",
       "</div>"
      ]
     },
     "execution_count": 11,
     "metadata": {},
     "output_type": "execute_result"
    }
   ],
   "execution_count": 11
  },
  {
   "cell_type": "markdown",
   "source": "Ara que tinc totes les dades classificades en aquests grups, faré una descriptiva. També compararé els diferents grups amb el p-valor mitjançant T-test, test de Mann-Whitney o test Xi-quadrat per mirar la seva distribució, la qual esperaré que sigui similar entre el grup AMB_PA i AMB_PA_MECVV, i diferent entre SENSE_PA i els altres 2 grups. Els criteris que seguiré per utilitzar un test o un altre és, primer, fer un test de Shapiro-Wilk per comprovar si segueixen una distribució normal, si és així, usaré el T-test, si no, utilitzaré el de Mann-Whitney. Finalment, si la columna conté valors categòrics com és el cas del sexe (F/M), faré servir el test Xi-quadrat.\n",
   "metadata": {
    "collapsed": false
   },
   "id": "7f349a29c092d1bc"
  },
  {
   "cell_type": "markdown",
   "source": "# Anàlisi descriptiva de les dades",
   "metadata": {
    "collapsed": false
   },
   "id": "cb8681bc87c8ed6a"
  },
  {
   "metadata": {},
   "cell_type": "markdown",
   "source": "### Comptatge i percentatge de variables categòriques per grup",
   "id": "825aea8328b9f9d"
  },
  {
   "metadata": {},
   "cell_type": "markdown",
   "source": "#### AMB_PA",
   "id": "f18fed0fdd33bb26"
  },
  {
   "metadata": {},
   "cell_type": "code",
   "source": "comptatge_i_percentatge_cat(AMB_PA, cat_var)",
   "id": "7f825ba1d84acc20",
   "outputs": [],
   "execution_count": null
  },
  {
   "metadata": {},
   "cell_type": "markdown",
   "source": "#### AMB_PA_MECVV",
   "id": "a92c577f54555b01"
  },
  {
   "metadata": {},
   "cell_type": "code",
   "source": "comptatge_i_percentatge_cat(AMB_PA_MECVV, cat_var)",
   "id": "d55dc141443788ac",
   "outputs": [],
   "execution_count": null
  },
  {
   "metadata": {},
   "cell_type": "markdown",
   "source": "#### SENSE_PA",
   "id": "9b9e802ec062b346"
  },
  {
   "metadata": {},
   "cell_type": "code",
   "source": "comptatge_i_percentatge_cat(SENSE_PA, cat_var)",
   "id": "bdac6cef2a91cd81",
   "outputs": [],
   "execution_count": null
  },
  {
   "metadata": {},
   "cell_type": "markdown",
   "source": "#### TOTAL",
   "id": "b7080975676d8cf3"
  },
  {
   "metadata": {},
   "cell_type": "code",
   "source": "comptatge_i_percentatge_cat(TOTAL, cat_var)",
   "id": "5453f813f9e2c229",
   "outputs": [],
   "execution_count": null
  },
  {
   "metadata": {},
   "cell_type": "markdown",
   "source": "####",
   "id": "c71fdc549089047b"
  },
  {
   "metadata": {},
   "cell_type": "markdown",
   "source": "### Comptatge i percentatge de tests categòrics per grup",
   "id": "d93b5a3179dc2fbc"
  },
  {
   "metadata": {},
   "cell_type": "markdown",
   "source": "#### AMB_PA",
   "id": "ed6d593e9fdb652c"
  },
  {
   "metadata": {},
   "cell_type": "code",
   "source": "comptatge_i_percentatge_cat(AMB_PA, cat_tests)",
   "id": "f618afd752cc61e0",
   "outputs": [],
   "execution_count": null
  },
  {
   "metadata": {},
   "cell_type": "markdown",
   "source": "#### AMB_PA_MECVV",
   "id": "7e32f5a3824085a8"
  },
  {
   "metadata": {},
   "cell_type": "code",
   "source": "comptatge_i_percentatge_cat(AMB_PA_MECVV, cat_tests)",
   "id": "f33cec4c465ca614",
   "outputs": [],
   "execution_count": null
  },
  {
   "metadata": {},
   "cell_type": "markdown",
   "source": "#### SENSE_PA ",
   "id": "88a17b91944b9b6c"
  },
  {
   "metadata": {},
   "cell_type": "code",
   "source": "comptatge_i_percentatge_cat(SENSE_PA, cat_tests)",
   "id": "9b5870caf8a47ff4",
   "outputs": [],
   "execution_count": null
  },
  {
   "metadata": {},
   "cell_type": "markdown",
   "source": "#### TOTAL",
   "id": "ef0fee8bc3076557"
  },
  {
   "metadata": {},
   "cell_type": "code",
   "source": "comptatge_i_percentatge_cat(TOTAL, cat_tests)",
   "id": "992d3a388aa40f1d",
   "outputs": [],
   "execution_count": null
  },
  {
   "metadata": {},
   "cell_type": "markdown",
   "source": "### Mitjanes i desviacions estàndard de variables numèriques per grup",
   "id": "47517ef24f207394"
  },
  {
   "metadata": {},
   "cell_type": "markdown",
   "source": "#### AMB_PA",
   "id": "13aeb0c5b724eb4"
  },
  {
   "metadata": {},
   "cell_type": "code",
   "source": "mitjana_i_std_num(AMB_PA, num_var)",
   "id": "8fd3115fa17e061b",
   "outputs": [],
   "execution_count": null
  },
  {
   "metadata": {},
   "cell_type": "markdown",
   "source": "#### AMB_PA_MECVV",
   "id": "aca7e7a5c43cc516"
  },
  {
   "metadata": {},
   "cell_type": "code",
   "source": "mitjana_i_std_num(AMB_PA_MECVV, num_var)",
   "id": "4f8510378b82d854",
   "outputs": [],
   "execution_count": null
  },
  {
   "metadata": {},
   "cell_type": "markdown",
   "source": "#### SENSE_PA",
   "id": "5d260afed8484c6"
  },
  {
   "metadata": {},
   "cell_type": "code",
   "source": "mitjana_i_std_num(SENSE_PA, num_var)",
   "id": "14df5426860154f1",
   "outputs": [],
   "execution_count": null
  },
  {
   "metadata": {},
   "cell_type": "markdown",
   "source": "#### TOTAL",
   "id": "eab155f3d8d4df0f"
  },
  {
   "metadata": {},
   "cell_type": "code",
   "source": "mitjana_i_std_num(TOTAL, num_var)",
   "id": "27e13ba914ef4c26",
   "outputs": [],
   "execution_count": null
  },
  {
   "metadata": {},
   "cell_type": "markdown",
   "source": "### Mitjanes i desviacions estàndard dels tests numèrics per grup",
   "id": "ebd8539059cafe99"
  },
  {
   "metadata": {},
   "cell_type": "markdown",
   "source": "#### AMB PA",
   "id": "97e134aad9e94a36"
  },
  {
   "metadata": {},
   "cell_type": "code",
   "source": "mitjana_i_std_num(AMB_PA, num_tests)",
   "id": "dc87298ac4747139",
   "outputs": [],
   "execution_count": null
  },
  {
   "metadata": {},
   "cell_type": "markdown",
   "source": "#### AMB_PA_MECVV",
   "id": "3c7e7d124420771b"
  },
  {
   "metadata": {},
   "cell_type": "code",
   "source": "mitjana_i_std_num(AMB_PA_MECVV, num_tests)",
   "id": "2e16ac349b93d0ef",
   "outputs": [],
   "execution_count": null
  },
  {
   "metadata": {},
   "cell_type": "markdown",
   "source": "#### SENSE_PA",
   "id": "abf70dfdf8375d7d"
  },
  {
   "metadata": {},
   "cell_type": "code",
   "source": "mitjana_i_std_num(SENSE_PA, num_tests)",
   "id": "8f800bb8e73e4c51",
   "outputs": [],
   "execution_count": null
  },
  {
   "metadata": {},
   "cell_type": "markdown",
   "source": "#### TOTAL",
   "id": "9246bfa80890bb88"
  },
  {
   "metadata": {},
   "cell_type": "code",
   "source": "mitjana_i_std_num(TOTAL, num_tests)",
   "id": "392e65b7891008ea",
   "outputs": [],
   "execution_count": null
  },
  {
   "cell_type": "markdown",
   "source": [
    "## Nombre de pacients"
   ],
   "metadata": {
    "collapsed": false
   },
   "id": "d2c6e2e4db8a9102"
  },
  {
   "cell_type": "code",
   "source": [
    "num_AMB_PA = len(AMB_PA)\n",
    "num_AMB_PA_MECVV= len(AMB_PA_MECVV)\n",
    "num_SENSE_PA = len(SENSE_PA)\n",
    "num_TOTAL = len(TOTAL)\n",
    "\n",
    "print(\"Nombre de pacients amb pneumònia aspirativa (cie = J69.0):\", num_AMB_PA)\n",
    "print(\"Nombre de pacients amb pneumònia i un MECV-V positiu:\", num_AMB_PA_MECVV)\n",
    "print(\"Nombre de pacients amb pneumònia sense comptar amb cie J69.0:\", num_SENSE_PA)\n",
    "print(\"Nombre total de pacients:\", num_TOTAL)"
   ],
   "metadata": {
    "collapsed": false
   },
   "id": "969666caeac2e84",
   "outputs": [],
   "execution_count": null
  },
  {
   "cell_type": "markdown",
   "source": [
    "#### Comparació distributiva"
   ],
   "metadata": {
    "collapsed": false
   },
   "id": "35b0561ffaa929bb"
  },
  {
   "cell_type": "markdown",
   "source": [
    "##### Test d'independència"
   ],
   "metadata": {
    "collapsed": false
   },
   "id": "b51d9472cf162838"
  },
  {
   "metadata": {},
   "cell_type": "markdown",
   "source": [
    "No es pot calcular la normalitat perquè només hi ha un valor per grup i tampoc té sentit calcular el p-valor.  "
   ],
   "id": "584f7be13dd001ee"
  },
  {
   "cell_type": "markdown",
   "source": [
    "## Edat"
   ],
   "metadata": {
    "collapsed": false
   },
   "id": "adaf5ac826bbcff0"
  },
  {
   "cell_type": "code",
   "source": [
    "edat_AMB_PA = AMB_PA['edat'].mean()\n",
    "desviacio_estandard_edat = AMB_PA['edat'].std()\n",
    "\n",
    "resultat = f\"{edat_AMB_PA:.2f} ± {desviacio_estandard_edat:.2f}\"\n",
    "print(\"Mitjana ± Desviació Estàndard de l'edat:\", resultat)\n"
   ],
   "metadata": {
    "collapsed": false
   },
   "id": "22a0c29cf6ffa1e5",
   "outputs": [],
   "execution_count": null
  },
  {
   "cell_type": "code",
   "source": [
    "edat_AMB_PA_MECVV = AMB_PA_MECVV['edat'].mean()\n",
    "desviacio_estandard_edat = AMB_PA_MECVV['edat'].std()\n",
    "\n",
    "resultat = f\"{edat_AMB_PA_MECVV:.2f} ± {desviacio_estandard_edat:.2f}\"\n",
    "print(\"Mitjana ± Desviació Estàndard de l'edat:\", resultat)"
   ],
   "metadata": {
    "collapsed": false
   },
   "id": "aee8f58b3aa0487f",
   "outputs": [],
   "execution_count": null
  },
  {
   "cell_type": "code",
   "source": [
    "edat_SENSE_PA = SENSE_PA['edat'].mean()\n",
    "desviacio_estandard_edat = SENSE_PA['edat'].std()\n",
    "\n",
    "resultat = f\"{edat_SENSE_PA:.2f} ± {desviacio_estandard_edat:.2f}\"\n",
    "print(\"Mitjana ± Desviació Estàndard de l'edat:\", resultat)"
   ],
   "metadata": {
    "collapsed": false
   },
   "id": "61d09e1a47990786",
   "outputs": [],
   "execution_count": null
  },
  {
   "cell_type": "code",
   "source": [
    "edat_TOTAL = TOTAL['edat'].mean()\n",
    "desviacio_estandard_TOTAL = TOTAL['edat'].std()\n",
    "\n",
    "resultat = f\"{edat_TOTAL:.2f} ± {desviacio_estandard_TOTAL:.2f}\"\n",
    "print(\"Mitjana ± Desviació Estàndard de l'edat:\", resultat)"
   ],
   "metadata": {
    "collapsed": false
   },
   "id": "7aced4af97e5877b",
   "outputs": [],
   "execution_count": null
  },
  {
   "cell_type": "markdown",
   "source": [
    "#### Comparació distributiva"
   ],
   "metadata": {
    "collapsed": false
   },
   "id": "e09f58a0f71e7f3b"
  },
  {
   "cell_type": "markdown",
   "source": [
    "##### Normalitat i p-valor --> Test d'independència"
   ],
   "metadata": {
    "collapsed": false
   },
   "id": "67408c85d70856df"
  },
  {
   "metadata": {},
   "cell_type": "code",
   "source": [
    "test_indepe_plot({'AMB_PA': AMB_PA['edat'], 'AMB_PA_MECVV': AMB_PA_MECVV['edat'], 'SENSE_PA': SENSE_PA['edat'], 'TOTAL': TOTAL['edat']})"
   ],
   "id": "586d6a5cbaa040d8",
   "outputs": [],
   "execution_count": null
  },
  {
   "cell_type": "markdown",
   "source": [
    "## Sexe"
   ],
   "metadata": {
    "collapsed": false
   },
   "id": "c6abb73d5fe73b08"
  },
  {
   "cell_type": "code",
   "source": [
    "sexe_AMB_PA = AMB_PA['sexe'].value_counts()\n",
    "sexe_AMB_PA_MECVV = AMB_PA_MECVV['sexe'].value_counts()\n",
    "sexe_SENSE_PA = SENSE_PA['sexe'].value_counts()\n",
    "sexe_TOTAL = TOTAL['sexe'].value_counts()"
   ],
   "metadata": {
    "collapsed": false
   },
   "id": "1b09cb076d8fa5d3",
   "outputs": [],
   "execution_count": null
  },
  {
   "cell_type": "code",
   "source": [
    "if 'F' in sexe_AMB_PA:\n",
    "    percent_female1 = (sexe_AMB_PA['F'] / len(AMB_PA)) * 100\n",
    "    print(f\"Percentatge de sexe femení en AMB_PA: {percent_female1:.2f}%\")\n",
    "else:\n",
    "    print(\"No hi ha dades de sexe femení en AMB_PA\")"
   ],
   "metadata": {
    "collapsed": false
   },
   "id": "d5caf8e9b22f322b",
   "outputs": [],
   "execution_count": null
  },
  {
   "cell_type": "code",
   "source": [
    "if 'F' in sexe_AMB_PA_MECVV:\n",
    "    percent_female2 = (sexe_AMB_PA_MECVV['F'] / len(AMB_PA)) * 100\n",
    "    print(f\"Percentatge de sexe femení en AMB_PA_MECVV: {percent_female2:.2f}%\")\n",
    "else:\n",
    "    print(\"No hi ha dades de sexe femení en AMB_PA_MECVV\")"
   ],
   "metadata": {
    "collapsed": false
   },
   "id": "46c50231b24f4ee0",
   "outputs": [],
   "execution_count": null
  },
  {
   "cell_type": "code",
   "source": [
    "if 'F' in sexe_SENSE_PA:\n",
    "    percent_female3 = (sexe_SENSE_PA['F'] / len(SENSE_PA)) * 100\n",
    "    print(f\"Percentatge de sexe femení en SENSE_PA: {percent_female3:.2f}%\")\n",
    "else:\n",
    "    print(\"No hi ha dades de sexe femení en SENSE_PA\")\n"
   ],
   "metadata": {
    "collapsed": false
   },
   "id": "8f12965d73af924d",
   "outputs": [],
   "execution_count": null
  },
  {
   "cell_type": "code",
   "source": [
    "if 'F' in sexe_TOTAL:\n",
    "    percent_female4 = (sexe_TOTAL['F'] / len(TOTAL)) * 100\n",
    "    print(f\"Percentatge de sexe femení en TOTAL: {percent_female4:.2f}%\")\n",
    "else:\n",
    "    print(\"No hi ha dades de sexe femení en TOTAL\")"
   ],
   "metadata": {
    "collapsed": false
   },
   "id": "f498bfc321368860",
   "outputs": [],
   "execution_count": null
  },
  {
   "cell_type": "markdown",
   "source": [
    "#### Comparació distributiva"
   ],
   "metadata": {
    "collapsed": false
   },
   "id": "55c6eeb430d30a11"
  },
  {
   "cell_type": "markdown",
   "source": [
    "##### Normalitat i p-valor"
   ],
   "metadata": {
    "collapsed": false
   },
   "id": "3bc25023bde3d097"
  },
  {
   "cell_type": "markdown",
   "source": [
    "Al ser una variable categòrica no té sentit comprovar la seva normalitat. Realitzaré directament el test Xi-quadrat"
   ],
   "metadata": {
    "collapsed": false
   },
   "id": "6cace53c4bf9da3b"
  },
  {
   "cell_type": "code",
   "source": [
    "# TODO: Jaume revisar \n",
    "test_indepe_bin_plot({'AMB_PA': AMB_PA['sexe'],'AMB_PA_MECVV': AMB_PA_MECVV['sexe'], 'SENSE_PA': SENSE_PA['sexe'], 'TOTAL': TOTAL['sexe']})"
   ],
   "metadata": {
    "collapsed": false
   },
   "id": "38b4762f7bd5deb",
   "outputs": [],
   "execution_count": null
  },
  {
   "cell_type": "markdown",
   "source": [
    "## Admissions"
   ],
   "metadata": {
    "collapsed": false
   },
   "id": "b03c886f6561380"
  },
  {
   "cell_type": "code",
   "source": [
    "Mitjana_ingresos = AMB_PA['Admissions'].mean()\n",
    "desviacio_estandard_ingresos = AMB_PA['Admissions'].std()\n",
    "\n",
    "resultat = f\"{Mitjana_ingresos:.2f} ± {desviacio_estandard_ingresos:.2f}\"\n",
    "print(\"Mitjana ± Desviació Estàndard del nombre d'ingressos:\", resultat)"
   ],
   "metadata": {
    "collapsed": false
   },
   "id": "5f5b1ed0601e65e0",
   "outputs": [],
   "execution_count": null
  },
  {
   "cell_type": "code",
   "source": [
    "Mitjana_ingresos = AMB_PA_MECVV['Admissions'].mean()\n",
    "desviacio_estandard_ingresos = AMB_PA_MECVV['Admissions'].std()\n",
    "\n",
    "resultat = f\"{Mitjana_ingresos:.2f} ± {desviacio_estandard_ingresos:.2f}\"\n",
    "print(\"Mitjana ± Desviació Estàndard del nombre d'ingressos:\", resultat)"
   ],
   "metadata": {
    "collapsed": false
   },
   "id": "b7512924ae5f37dd",
   "outputs": [],
   "execution_count": null
  },
  {
   "cell_type": "code",
   "source": [
    "Mitjana_ingresos = SENSE_PA['Admissions'].mean()\n",
    "desviacio_estandard_ingresos = SENSE_PA['Admissions'].std()\n",
    "\n",
    "resultat = f\"{Mitjana_ingresos:.2f} ± {desviacio_estandard_ingresos:.2f}\"\n",
    "print(\"Mitjana ± Desviació Estàndard del nombre d'ingressos:\", resultat)"
   ],
   "metadata": {
    "collapsed": false
   },
   "id": "ca7238314446de9a",
   "outputs": [],
   "execution_count": null
  },
  {
   "cell_type": "code",
   "source": [
    "Mitjana_ingresos = TOTAL['Admissions'].mean()\n",
    "desviacio_estandard_ingresos = TOTAL['Admissions'].std()\n",
    "\n",
    "resultat = f\"{Mitjana_ingresos:.2f} ± {desviacio_estandard_ingresos:.2f}\"\n",
    "print(\"Mitjana ± Desviació Estàndard del nombre d'ingressos:\", resultat)"
   ],
   "metadata": {
    "collapsed": false
   },
   "id": "f03a095c9dea7d7",
   "outputs": [],
   "execution_count": null
  },
  {
   "cell_type": "markdown",
   "source": [
    "#### Comparació distributiva"
   ],
   "metadata": {
    "collapsed": false
   },
   "id": "f115479b5078ed5d"
  },
  {
   "cell_type": "markdown",
   "source": [
    "##### Normalitat i p-valor"
   ],
   "metadata": {
    "collapsed": false
   },
   "id": "a348275534435732"
  },
  {
   "metadata": {},
   "cell_type": "code",
   "source": [
    "test_indepe_plot({'AMB_PA': AMB_PA['Admissions'], 'AMB_PA_MECVV': AMB_PA_MECVV['Admissions'], 'SENSE_PA': SENSE_PA['Admissions'], 'TOTAL': TOTAL['Admissions']})"
   ],
   "id": "2cb833adb37b1535",
   "outputs": [],
   "execution_count": null
  },
  {
   "metadata": {},
   "cell_type": "markdown",
   "source": [
    "## Urgències"
   ],
   "id": "3a9a48d2ffc7f33a"
  },
  {
   "metadata": {},
   "cell_type": "code",
   "source": [
    "Mitjana_urgencies = AMB_PA['Emergències'].mean()\n",
    "desviacio_estandard_urgencies = AMB_PA['Emergències'].std()\n",
    "\n",
    "resultat = f\"{Mitjana_urgencies:.2f} ± {desviacio_estandard_urgencies:.2f}\"\n",
    "print(\"Mitjana ± Desviació Estàndard del nombre d'urgències:\", resultat)"
   ],
   "id": "c10a4af29dc3b247",
   "outputs": [],
   "execution_count": null
  },
  {
   "cell_type": "markdown",
   "source": [
    "## Disfàgia"
   ],
   "metadata": {
    "collapsed": false
   },
   "id": "8dbcff43a6b4856c"
  },
  {
   "cell_type": "code",
   "source": [
    "disf_AMB_PA= (AMB_PA['DO diagnosticada'] == 1.0).mean() * 100\n",
    "print(f\"Percentatge de disfàgia: {disf_AMB_PA:.2f}%\")"
   ],
   "metadata": {
    "collapsed": false
   },
   "id": "ae9a604a371b4895",
   "outputs": [],
   "execution_count": null
  },
  {
   "cell_type": "code",
   "source": [
    "disf_AMB_PA_MECVV = (AMB_PA_MECVV['DO diagnosticada'] == 1.0).mean() * 100\n",
    "print(f\"Percentatge de disfàgia: {disf_AMB_PA_MECVV:.2f}%\")"
   ],
   "metadata": {
    "collapsed": false
   },
   "id": "4412619418b553ad",
   "outputs": [],
   "execution_count": null
  },
  {
   "cell_type": "code",
   "source": [
    "disf_SENSE_PA= (SENSE_PA['DO diagnosticada'] == 1.0).mean() * 100\n",
    "print(f\"Percentatge de disfàgia: {disf_SENSE_PA:.2f}%\")"
   ],
   "metadata": {
    "collapsed": false
   },
   "id": "753efc5895def0c3",
   "outputs": [],
   "execution_count": null
  },
  {
   "cell_type": "code",
   "source": [
    "disf_TOTAL= (TOTAL['DO diagnosticada'] == 1.0).mean() * 100\n",
    "print(f\"Percentatge de disfàgia: {disf_TOTAL:.2f}%\")"
   ],
   "metadata": {
    "collapsed": false
   },
   "id": "4b0026d8d94063dd",
   "outputs": [],
   "execution_count": null
  },
  {
   "cell_type": "markdown",
   "source": [
    "#### Comparació distributiva"
   ],
   "metadata": {
    "collapsed": false
   },
   "id": "f7b1ceac7b699485"
  },
  {
   "cell_type": "markdown",
   "source": [
    "##### Normalitat i p-valor"
   ],
   "metadata": {
    "collapsed": false
   },
   "id": "cd185055fb986a7b"
  },
  {
   "metadata": {
    "ExecuteTime": {
     "end_time": "2024-06-12T08:20:40.819472Z",
     "start_time": "2024-06-12T08:20:40.444481Z"
    }
   },
   "cell_type": "code",
   "source": [
    "# TODO: Jaume revisar \n",
    "test_indepe_bin_plot({'AMB_PA': AMB_PA['DO diagnosticada'], 'AMB_PA_MECVV': AMB_PA_MECVV['DO diagnosticada'], 'SENSE_PA': SENSE_PA['DO diagnosticada'], 'TOTAL': TOTAL['DO diagnosticada']})"
   ],
   "id": "9f37861e111e9a9f",
   "outputs": [
    {
     "name": "stdout",
     "output_type": "stream",
     "text": [
      "Table for AMB_PA and AMB_PA:\n",
      "0 | 0\n",
      "0 | 8\n",
      "Contingency Table for AMB_PA and AMB_PA:\n",
      "[[0 0]\n",
      " [0 8]]\n",
      "Table for AMB_PA_MECVV and AMB_PA:\n",
      "0 | 0\n",
      "0 | 4\n",
      "Contingency Table for AMB_PA_MECVV and AMB_PA:\n",
      "[[0 0]\n",
      " [0 4]]\n",
      "Table for AMB_PA_MECVV and AMB_PA_MECVV:\n",
      "0 | 0\n",
      "0 | 4\n",
      "Contingency Table for AMB_PA_MECVV and AMB_PA_MECVV:\n",
      "[[0 0]\n",
      " [0 4]]\n",
      "Table for SENSE_PA and AMB_PA:\n",
      "0 | 0\n",
      "0 | 2\n",
      "Contingency Table for SENSE_PA and AMB_PA:\n",
      "[[0 0]\n",
      " [0 2]]\n",
      "Table for SENSE_PA and AMB_PA_MECVV:\n",
      "0 | 0\n",
      "0 | 2\n",
      "Contingency Table for SENSE_PA and AMB_PA_MECVV:\n",
      "[[0 0]\n",
      " [0 2]]\n",
      "Table for SENSE_PA and SENSE_PA:\n",
      "0 | 0\n",
      "0 | 2\n",
      "Contingency Table for SENSE_PA and SENSE_PA:\n",
      "[[0 0]\n",
      " [0 2]]\n",
      "Table for TOTAL and AMB_PA:\n",
      "0 | 0\n",
      "0 | 8\n",
      "Contingency Table for TOTAL and AMB_PA:\n",
      "[[0 0]\n",
      " [0 8]]\n",
      "Table for TOTAL and AMB_PA_MECVV:\n",
      "0 | 0\n",
      "0 | 4\n",
      "Contingency Table for TOTAL and AMB_PA_MECVV:\n",
      "[[0 0]\n",
      " [0 4]]\n",
      "Table for TOTAL and SENSE_PA:\n",
      "0 | 0\n",
      "0 | 2\n",
      "Contingency Table for TOTAL and SENSE_PA:\n",
      "[[0 0]\n",
      " [0 2]]\n",
      "Table for TOTAL and TOTAL:\n",
      "0 | 0\n",
      "0 | 10\n",
      "Contingency Table for TOTAL and TOTAL:\n",
      "[[ 0  0]\n",
      " [ 0 10]]\n"
     ]
    },
    {
     "data": {
      "text/plain": [
       "<Figure size 640x480 with 2 Axes>"
      ],
      "image/png": "[encoded data removed]"
     },
     "metadata": {},
     "output_type": "display_data"
    }
   ],
   "execution_count": 15
  },
  {
   "cell_type": "markdown",
   "source": [
    "Al ser una variable categòrica no té sentit comprovar la seva normalitat. Realitzaré directament el test Xi-quadrat"
   ],
   "metadata": {
    "collapsed": false
   },
   "id": "f0738bbeee4a9b20"
  },
  {
   "cell_type": "markdown",
   "source": [
    "## Index de Barthel"
   ],
   "metadata": {
    "collapsed": false
   },
   "id": "4c5396ac60ffa852"
  },
  {
   "cell_type": "markdown",
   "source": [
    "### Mitjana"
   ],
   "metadata": {
    "collapsed": false
   },
   "id": "dd4858798cfda575"
  },
  {
   "cell_type": "code",
   "source": [
    "Mitjana_barthel = AMB_PA['Barthel resultats'].mean()\n",
    "desviacio_estandard_barthel = AMB_PA['Barthel resultats'].std()\n",
    "\n",
    "resultat = f\"{Mitjana_barthel:.2f} ± {desviacio_estandard_barthel:.2f}\"\n",
    "print(\"Mitjana ± Desviació Estàndard del Barthel:\", resultat)"
   ],
   "metadata": {
    "collapsed": false
   },
   "id": "c9217ee8a4a7257d",
   "outputs": [],
   "execution_count": null
  },
  {
   "cell_type": "code",
   "source": [
    "Mitjana_barthel = AMB_PA_MECVV['Barthel resultats'].mean()\n",
    "desviacio_estandard_barthel = AMB_PA_MECVV['Barthel resultats'].std()\n",
    "\n",
    "resultat = f\"{Mitjana_barthel:.2f} ± {desviacio_estandard_barthel:.2f}\"\n",
    "print(\"Mitjana ± Desviació Estàndard del Barthel:\", resultat)"
   ],
   "metadata": {
    "collapsed": false
   },
   "id": "a9a38f8a7779ac97",
   "outputs": [],
   "execution_count": null
  },
  {
   "cell_type": "code",
   "source": [
    "Mitjana_barthel = SENSE_PA['Barthel resultats'].mean()\n",
    "desviacio_estandard_barthel = SENSE_PA['Barthel resultats'].std()\n",
    "\n",
    "resultat = f\"{Mitjana_barthel:.2f} ± {desviacio_estandard_barthel:.2f}\"\n",
    "print(\"Mitjana ± Desviació Estàndard del Barthel:\", resultat)"
   ],
   "metadata": {
    "collapsed": false
   },
   "id": "51a4a725b000c249",
   "outputs": [],
   "execution_count": null
  },
  {
   "cell_type": "markdown",
   "source": [
    "#### Comparació distributiva"
   ],
   "metadata": {
    "collapsed": false
   },
   "id": "52f49b9ab207df3b"
  },
  {
   "cell_type": "markdown",
   "source": [
    "##### Normalitat i p-valor"
   ],
   "metadata": {
    "collapsed": false
   },
   "id": "37e669a836227c18"
  },
  {
   "metadata": {
    "ExecuteTime": {
     "end_time": "2024-06-12T08:19:47.463180Z",
     "start_time": "2024-06-12T08:19:47.194687Z"
    }
   },
   "cell_type": "code",
   "source": [
    "test_indepe_plot({'AMB_PA': AMB_PA['Barthel resultats'], 'AMB_PA_MECVV': AMB_PA_MECVV['Barthel resultats'], 'SENSE_PA': SENSE_PA['Barthel resultats'], 'TOTAL': TOTAL['Barthel resultats']})"
   ],
   "id": "dd16f1d4b803d786",
   "outputs": [
    {
     "data": {
      "text/plain": [
       "<Figure size 640x480 with 2 Axes>"
      ],
      "image/png": "[encoded data removed]"
     },
     "metadata": {},
     "output_type": "display_data"
    }
   ],
   "execution_count": 14
  },
  {
   "cell_type": "markdown",
   "source": [
    "### Valors de dependència"
   ],
   "metadata": {
    "collapsed": false
   },
   "id": "4781aecb88dc7bea"
  },
  {
   "cell_type": "markdown",
   "source": [
    "##### AMB_PA"
   ],
   "metadata": {
    "collapsed": false
   },
   "id": "d1299c41f52b834d"
  },
  {
   "cell_type": "code",
   "source": [
    "indepe_AMB_PA = (AMB_PA['Barthel resultats'] == 100.0).mean() * 100\n",
    "print(f\"Percentatge de indepe_AMB_PA: {indepe_AMB_PA:.2f}%\")"
   ],
   "metadata": {
    "collapsed": false
   },
   "id": "f4b94d47b126b65d",
   "outputs": [],
   "execution_count": null
  },
  {
   "cell_type": "code",
   "source": [
    "mod_AMB_PA = (AMB_PA['Barthel resultats'].between(61, 95)).mean() * 100\n",
    "print(f\"Percentatge de mod_AMB_PA: {mod_AMB_PA:.2f}%\")"
   ],
   "metadata": {
    "collapsed": false
   },
   "id": "dc8bc2ca0a242d6d",
   "outputs": [],
   "execution_count": null
  },
  {
   "cell_type": "code",
   "source": [
    "sev_AMB_PA = (AMB_PA['Barthel resultats'].between(21, 60)).mean() * 100\n",
    "print(f\"Percentatge de sev_AMB_PA: {sev_AMB_PA:.2f}%\")"
   ],
   "metadata": {
    "collapsed": false
   },
   "id": "ba2cc7ce72919b37",
   "outputs": [],
   "execution_count": null
  },
  {
   "cell_type": "code",
   "source": [
    "total_AMB_PA = (AMB_PA['Barthel resultats'] <= 20.0 ).mean() * 100\n",
    "print(f\"Percentatge de total_AMB_PA: {total_AMB_PA:.2f}%\")"
   ],
   "metadata": {
    "collapsed": false
   },
   "id": "ad176a1db2bce8f1",
   "outputs": [],
   "execution_count": null
  },
  {
   "cell_type": "markdown",
   "source": [
    "##### AMB_PA_MECVV"
   ],
   "metadata": {
    "collapsed": false
   },
   "id": "57524d2ce6bd06d0"
  },
  {
   "cell_type": "code",
   "source": [
    "indepe_AMB_PA_MECVV = (AMB_PA_MECVV['Barthel resultats'] == 100.0).mean() * 100\n",
    "print(f\"Percentatge de indepe_AMB_PA_MECVV: {indepe_AMB_PA_MECVV:.2f}%\")"
   ],
   "metadata": {
    "collapsed": false
   },
   "id": "63e534b9ea7b67f3",
   "outputs": [],
   "execution_count": null
  },
  {
   "cell_type": "code",
   "source": [
    "mod_AMB_PA_MECVV = (AMB_PA_MECVV['Barthel resultats'].between(61,95)).mean() * 100\n",
    "print(f\"Percentatge de mod_AMB_PA_MECVV: {mod_AMB_PA_MECVV:.2f}%\")"
   ],
   "metadata": {
    "collapsed": false
   },
   "id": "5e1ca3ced54a66d6",
   "outputs": [],
   "execution_count": null
  },
  {
   "cell_type": "code",
   "source": [
    "sev_AMB_PA_MECVV = (AMB_PA_MECVV['Barthel resultats'].between(21,60)).mean() * 100\n",
    "print(f\"Percentatge de sev_AMB_PA_MECVV: {sev_AMB_PA_MECVV:.2f}%\")"
   ],
   "metadata": {
    "collapsed": false
   },
   "id": "1be00f2a68ed2b97",
   "outputs": [],
   "execution_count": null
  },
  {
   "cell_type": "code",
   "source": [
    "total_AMB_PA_MECVV = (AMB_PA_MECVV['Barthel resultats'] <= 20.0).mean() * 100\n",
    "print(f\"Percentatge de total_AMB_PA_MECVV: {total_AMB_PA_MECVV:.2f}%\")"
   ],
   "metadata": {
    "collapsed": false
   },
   "id": "bf05c30b37c19ae1",
   "outputs": [],
   "execution_count": null
  },
  {
   "cell_type": "markdown",
   "source": [
    "##### SENSE_PA"
   ],
   "metadata": {
    "collapsed": false
   },
   "id": "b8a37a297f6c19c2"
  },
  {
   "cell_type": "code",
   "source": [
    "indepe_SENSE_PA = (SENSE_PA['Barthel resultats'] == 100.0).mean() * 100\n",
    "print(f\"Percentatge de indepe_SENSE_PA: {indepe_SENSE_PA:.2f}%\")"
   ],
   "metadata": {
    "collapsed": false
   },
   "id": "7f5c24b821c330f7",
   "outputs": [],
   "execution_count": null
  },
  {
   "cell_type": "code",
   "source": [
    "mod_SENSE_PA = (SENSE_PA['Barthel resultats'].between(61,95)).mean() * 100\n",
    "print(f\"Percentatge de mod_SENSE_PA: {mod_SENSE_PA:.2f}%\")"
   ],
   "metadata": {
    "collapsed": false
   },
   "id": "8b89b2f9de1de2c",
   "outputs": [],
   "execution_count": null
  },
  {
   "cell_type": "code",
   "source": [
    "sev_SENSE_PA = (SENSE_PA['Barthel resultats'].between(21,60)).mean() * 100\n",
    "print(f\"Percentatge de sev_SENSE_PA: {sev_SENSE_PA:.2f}%\")"
   ],
   "metadata": {
    "collapsed": false
   },
   "id": "d179880107e2bbbb",
   "outputs": [],
   "execution_count": null
  },
  {
   "cell_type": "code",
   "source": [
    "total_SENSE_PA = (SENSE_PA['Barthel resultats'] <= 20).mean() * 100\n",
    "print(f\"Percentatge de total_SENSE_PA: {total_SENSE_PA:.2f}%\")"
   ],
   "metadata": {
    "collapsed": false
   },
   "id": "5ddd53dee617199c",
   "outputs": [],
   "execution_count": null
  },
  {
   "cell_type": "markdown",
   "source": [
    "#### P-valor"
   ],
   "metadata": {
    "collapsed": false
   },
   "id": "c74fd21a068e31c4"
  },
  {
   "cell_type": "markdown",
   "source": [
    "##### Independència"
   ],
   "metadata": {
    "collapsed": false
   },
   "id": "769d8233758c784"
  },
  {
   "cell_type": "code",
   "source": [
    "test_indepe_bin_plot({'AMB_PA': AMB_PA['Barthel resultats'], 'AMB_PA_MECVV': AMB_PA_MECVV['Barthel resultats'], 'SENSE_PA': SENSE_PA['Barthel resultats'], 'TOTAL': TOTAL['Barthel resultats']})\n",
    "filter_func = lambda x: x == 100"
   ],
   "metadata": {
    "collapsed": false
   },
   "id": "efc6fae42593135c",
   "outputs": [],
   "execution_count": null
  },
  {
   "cell_type": "code",
   "source": [
    "contingency_table_13 = pd.crosstab(index=AMB_PA['Barthel resultats'] == 100.0, columns=SENSE_PA['Barthel resultats'] == 100.0)\n",
    "\n",
    "chi2_13, p_value_13, dof_13, expected_13 = chi2_contingency(contingency_table_13)\n",
    "\n",
    "print(\"Estadístic xi-quadrat entre AMB_PA i SENSE_PA:\", chi2_13)\n",
    "print(\"P-valor entre AMB_PA i SENSE_PA:\", p_value_13)\n",
    "\n",
    "if p_value_13 < 0.05:\n",
    "    print(\"Hi ha diferències significatives entre les distribucions de Barthel en AMB_PA i SENSE_PA.\")\n",
    "else:\n",
    "    print(\"No hi ha diferències significatives entre les distribucions de Barthel en AMB_PA i SENSE_PA.\")"
   ],
   "metadata": {
    "collapsed": false
   },
   "id": "42ba444cc6a018",
   "outputs": [],
   "execution_count": null
  },
  {
   "cell_type": "code",
   "source": [
    "contingency_table_23 = pd.crosstab(index=AMB_PA_MECVV['Barthel resultats'] == 100.0, columns=SENSE_PA['Barthel resultats'] == 100.0)\n",
    "\n",
    "chi2_23, p_value_23, dof_23, expected_23 = chi2_contingency(contingency_table_23)\n",
    "\n",
    "print(\"Estadístic xi-quadrat entre AMB_PA_MECVVV i SENSE_PA:\", chi2_23)\n",
    "print(\"P-valor entre AMB_PA_MECVV i SENSE_PA:\", p_value_23)\n",
    "\n",
    "if p_value_23 < 0.05:\n",
    "    print(\"Hi ha diferències significatives entre les distribucions de Barthel en AMB_PA_MECVV i SENSE_PA.\")\n",
    "else:\n",
    "    print(\"No hi ha diferències significatives entre les distribucions Barthel en AMB_PA_MECVV i SENSE_PA.\")"
   ],
   "metadata": {
    "collapsed": false
   },
   "id": "fe0b7018b15bfd5f",
   "outputs": [],
   "execution_count": null
  },
  {
   "cell_type": "code",
   "source": [
    "contingency_table_14 = pd.crosstab(index=AMB_PA['Barthel resultats'] == 100.0, columns=TOTAL['Barthel resultats'] == 100.0)\n",
    "\n",
    "chi2_14, p_value_14, dof_14, expected_14 = chi2_contingency(contingency_table_14)\n",
    "\n",
    "print(\"Estadístic xi-quadrat entre AMB_PA i TOTAL:\", chi2_14)\n",
    "print(\"P-valor entre AMB_PA i TOTAL:\", p_value_14)\n",
    "\n",
    "if p_value_14 < 0.05:\n",
    "    print(\"Hi ha diferències significatives entre les distribucions de Barthel en AMB_PA i TOTAL.\")\n",
    "else:\n",
    "    print(\"No hi ha diferències significatives entre les distribucions de Barthel en AMB_PA i TOTAL.\")"
   ],
   "metadata": {
    "collapsed": false
   },
   "id": "2bae52cece19ffc3",
   "outputs": [],
   "execution_count": null
  },
  {
   "cell_type": "code",
   "source": [
    "contingency_table_24 = pd.crosstab(index=AMB_PA_MECVV['Barthel resultats'] == 100.0, columns=TOTAL['Barthel resultats'] == 100.0)\n",
    "\n",
    "chi2_24, p_value_24, dof_24, expected_24 = chi2_contingency(contingency_table_24)\n",
    "\n",
    "print(\"Estadístic xi-quadrat entre AMB_PA_MECVVV i TOTAL:\", chi2_24)\n",
    "print(\"P-valor entre AMB_PA_MECVV i TOTAL:\", p_value_24)\n",
    "\n",
    "if p_value_24 < 0.05:\n",
    "    print(\"Hi ha diferències significatives entre les distribucions de Barthel en AMB_PA_MECVV i TOTAL.\")\n",
    "else:\n",
    "    print(\"No hi ha diferències significatives entre les distribucions de Barthel en AMB_PA_MECVV i TOTAL.\")"
   ],
   "metadata": {
    "collapsed": false
   },
   "id": "cb709d8c83a412b9",
   "outputs": [],
   "execution_count": null
  },
  {
   "cell_type": "code",
   "source": [
    "contingency_table_34 = pd.crosstab(index=SENSE_PA['Barthel resultats'] == 100.0, columns=TOTAL['Barthel resultats'] == 100.0)\n",
    "\n",
    "chi2_34, p_value_34, dof_34, expected_34 = chi2_contingency(contingency_table_34)\n",
    "\n",
    "print(\"Estadístic xi-quadrat entre SENSE_PA i TOTAL:\", chi2_34)\n",
    "print(\"P-valor entre SENSE_PA i TOTAL:\", p_value_34)\n",
    "\n",
    "if p_value_34 < 0.05:\n",
    "    print(\"Hi ha diferències significatives entre les distribucions de Barthel en SENSE_PA i TOTAL.\")\n",
    "else:\n",
    "    print(\"No hi ha diferències significatives entre les distribucions de Barthel en SENSE_PA i TOTAL.\")"
   ],
   "metadata": {
    "collapsed": false
   },
   "id": "135b238595cbe507",
   "outputs": [],
   "execution_count": null
  },
  {
   "cell_type": "markdown",
   "source": [
    "##### Moderada"
   ],
   "metadata": {
    "collapsed": false
   },
   "id": "cc5431c2e499f5ed"
  },
  {
   "cell_type": "code",
   "source": [
    "contingency_table_12 = pd.crosstab(index=AMB_PA['Barthel resultats'].between(61, 95), columns=AMB_PA_MECVV['Barthel resultats'].between(61, 95))\n",
    "\n",
    "chi2_12, p_value_12, dof_12, expected_12 = chi2_contingency(contingency_table_12)\n",
    "\n",
    "print(\"Estadístic xi-quadrat entre AMB_PA i AMB_PA_MECVV:\", chi2_12)\n",
    "print(\"P-valor entre AMB_PA i AMB_PA_MECVV:\", p_value_12)\n",
    "\n",
    "if p_value_12 < 0.05:\n",
    "    print(\"Hi ha diferències significatives entre les distribucions de Barthel en AMB_PA i AMB_PA_MECVV.\")\n",
    "else:\n",
    "    print(\"No hi ha diferències significatives entre les distribucions de Barthel en AMB_PA i AMB_PA_MECVV.\")"
   ],
   "metadata": {
    "collapsed": false
   },
   "id": "b8d325105c8061c1",
   "outputs": [],
   "execution_count": null
  },
  {
   "cell_type": "code",
   "source": [
    "contingency_table_13 = pd.crosstab(index=AMB_PA['Barthel resultats'].between(61, 95), columns=SENSE_PA['Barthel resultats'].between(61, 95))\n",
    "\n",
    "chi2_13, p_value_13, dof_13, expected_13 = chi2_contingency(contingency_table_13)\n",
    "\n",
    "print(\"Estadístic xi-quadrat entre AMB_PA i SENSE_PA:\", chi2_13)\n",
    "print(\"P-valor entre AMB_PA i SENSE_PA:\", p_value_13)\n",
    "\n",
    "if p_value_13 < 0.05:\n",
    "    print(\"Hi ha diferències significatives entre les distribucions de Barthel en AMB_PA i SENSE_PA.\")\n",
    "else:\n",
    "    print(\"No hi ha diferències significatives entre les distribucions de Barthel en AMB_PA i SENSE_PA.\")"
   ],
   "metadata": {
    "collapsed": false
   },
   "id": "77fbb4807cef7db3",
   "outputs": [],
   "execution_count": null
  },
  {
   "cell_type": "code",
   "source": [
    "contingency_table_23 = pd.crosstab(index=AMB_PA_MECVV['Barthel resultats'].between(61, 95), columns=SENSE_PA['Barthel resultats'].between(61, 95))\n",
    "\n",
    "chi2_23, p_value_23, dof_23, expected_23 = chi2_contingency(contingency_table_23)\n",
    "\n",
    "print(\"Estadístic xi-quadrat entre AMB_PA_MECVV i SENSE_PA:\", chi2_23)\n",
    "print(\"P-valor entre AMB_PA_MECVV i SENSE_PA:\", p_value_23)\n",
    "\n",
    "if p_value_23 < 0.05:\n",
    "    print(\"Hi ha diferències significatives entre les distribucions de Barthel en AMB_PA_MECVV i SENSE_PA.\")\n",
    "else:\n",
    "    print(\"No hi ha diferències significatives entre les distribucions de Barthel en AMB_PA_MECVV i SENSE_PA.\")"
   ],
   "metadata": {
    "collapsed": false
   },
   "id": "2bcd33a93cddbbfc",
   "outputs": [],
   "execution_count": null
  },
  {
   "cell_type": "code",
   "source": [
    "contingency_table_14 = pd.crosstab(index=AMB_PA['Barthel resultats'].between(61, 95), columns=TOTAL['Barthel resultats'].between(61, 95))\n",
    "\n",
    "chi2_14, p_value_14, dof_14, expected_14 = chi2_contingency(contingency_table_14)\n",
    "\n",
    "print(\"Estadístic xi-quadrat entre AMB_PA i TOTAL:\", chi2_14)\n",
    "print(\"P-valor entre AMB_PA i TOTAL:\", p_value_14)\n",
    "\n",
    "if p_value_14 < 0.05:\n",
    "    print(\"Hi ha diferències significatives entre les distribucions de Barthel en AMB_PA i TOTAL.\")\n",
    "else:\n",
    "    print(\"No hi ha diferències significatives entre les distribucions de Barthel en AMB_PA i TOTAL.\")"
   ],
   "metadata": {
    "collapsed": false
   },
   "id": "35a7113622b4c648",
   "outputs": [],
   "execution_count": null
  },
  {
   "cell_type": "code",
   "source": [
    "contingency_table_24 = pd.crosstab(index=AMB_PA_MECVV['Barthel resultats'].between(61, 95), columns=TOTAL['Barthel resultats'].between(61, 95))\n",
    "\n",
    "chi2_24, p_value_24, dof_24, expected_24 = chi2_contingency(contingency_table_24)\n",
    "\n",
    "print(\"Estadístic xi-quadrat entre AMB_PA_MECVV i TOTAL:\", chi2_24)\n",
    "print(\"P-valor entre AMB_PA_MECVV i TOTAL:\", p_value_24)\n",
    "\n",
    "if p_value_24 < 0.05:\n",
    "    print(\"Hi ha diferències significatives entre les distribucions de Barthel en AMB_PA_MECVV i TOTAL.\")\n",
    "else:\n",
    "    print(\"No hi ha diferències significatives entre les distribucions de Barthel en AMB_PA_MECVV i TOTAL.\")"
   ],
   "metadata": {
    "collapsed": false
   },
   "id": "c28d75485df0db84",
   "outputs": [],
   "execution_count": null
  },
  {
   "cell_type": "code",
   "source": [
    "contingency_table_34 = pd.crosstab(index=SENSE_PA['Barthel resultats'].between(61, 95), columns=TOTAL['Barthel resultats'].between(61, 95))\n",
    "\n",
    "chi2_34, p_value_34, dof_34, expected_34 = chi2_contingency(contingency_table_34)\n",
    "\n",
    "print(\"Estadístic xi-quadrat entre SENSE_PA i TOTAL:\", chi2_34)\n",
    "print(\"P-valor entre SENSE_PA i TOTAL:\", p_value_34)\n",
    "\n",
    "if p_value_34 < 0.05:\n",
    "    print(\"Hi ha diferències significatives entre les distribucions de Barthel en SENSE_PA i TOTAL.\")\n",
    "else:\n",
    "    print(\"No hi ha diferències significatives entre les distribucions de Barthel en SENSE_PA i TOTAL.\")"
   ],
   "metadata": {
    "collapsed": false
   },
   "id": "60453aa1cbe0458a",
   "outputs": [],
   "execution_count": null
  },
  {
   "cell_type": "markdown",
   "source": [
    "##### Severa"
   ],
   "metadata": {
    "collapsed": false
   },
   "id": "6d39cedda91cfdf"
  },
  {
   "cell_type": "code",
   "source": [
    "contingency_table_12 = pd.crosstab(index=AMB_PA['Barthel resultats'].between(21,60), columns=AMB_PA_MECVV['Barthel resultats'].between(21,60))\n",
    "\n",
    "chi2_12, p_value_12, dof_12, expected_12 = chi2_contingency(contingency_table_12)\n",
    "\n",
    "print(\"Estadístic xi-quadrat entre AMB_PA i AMB_PA_MECVV:\", chi2_12)\n",
    "print(\"P-valor entre AMB_PA i AMB_PA_MECVV:\", p_value_12)\n",
    "\n",
    "if p_value_12 < 0.05:\n",
    "    print(\"Hi ha diferències significatives entre les distribucions de Barthel en AMB_PA i AMB_PA_MECVV.\")\n",
    "else:\n",
    "    print(\"No hi ha diferències significatives entre les distribucions de Barthel en AMB_PA i AMB_PA_MECVV.\")"
   ],
   "metadata": {
    "collapsed": false
   },
   "id": "47c3132d335e476e",
   "outputs": [],
   "execution_count": null
  },
  {
   "cell_type": "code",
   "source": [
    "contingency_table_13 = pd.crosstab(index=AMB_PA['Barthel resultats'].between(21,60), columns=SENSE_PA['Barthel resultats'].between(21,60))\n",
    "\n",
    "chi2_13, p_value_13, dof_13, expected_13 = chi2_contingency(contingency_table_13)\n",
    "\n",
    "print(\"Estadístic xi-quadrat entre AMB_PA i SENSE_PA:\", chi2_13)\n",
    "print(\"P-valor entre AMB_PA i SENSE_PA:\", p_value_13)\n",
    "\n",
    "if p_value_13 < 0.05:\n",
    "    print(\"Hi ha diferències significatives entre les distribucions de Barthel en AMB_PA i SENSE_PA.\")\n",
    "else:\n",
    "    print(\"No hi ha diferències significatives entre les distribucions de Barthel en AMB_PA i SENSE_PA.\")"
   ],
   "metadata": {
    "collapsed": false
   },
   "id": "9e75f265174c02b6",
   "outputs": [],
   "execution_count": null
  },
  {
   "cell_type": "code",
   "source": [
    "contingency_table_23 = pd.crosstab(index=AMB_PA_MECVV['Barthel resultats'].between(21,60), columns=SENSE_PA['Barthel resultats'].between(21,60))\n",
    "\n",
    "chi2_23, p_value_23, dof_23, expected_23 = chi2_contingency(contingency_table_23)\n",
    "\n",
    "print(\"Estadístic xi-quadrat entre AMB_PA_MECVV i SENSE_PA:\", chi2_23)\n",
    "print(\"P-valor entre AMB_PA_MECVV i SENSE_PA:\", p_value_23)\n",
    "\n",
    "if p_value_23 < 0.05:\n",
    "    print(\"Hi ha diferències significatives entre les distribucions de Barthel en AMB_PA_MECVV i SENSE_PA.\")\n",
    "else:\n",
    "    print(\"No hi ha diferències significatives entre les distribucions de Barthel en AMB_PA_MECVV i SENSE_PA.\")"
   ],
   "metadata": {
    "collapsed": false
   },
   "id": "e3c411f486b35f4f",
   "outputs": [],
   "execution_count": null
  },
  {
   "cell_type": "code",
   "source": [
    "contingency_table_14 = pd.crosstab(index=AMB_PA['Barthel resultats'].between(21,60), columns=TOTAL['Barthel resultats'].between(21,60))\n",
    "\n",
    "chi2_14, p_value_14, dof_14, expected_14 = chi2_contingency(contingency_table_14)\n",
    "\n",
    "print(\"Estadístic xi-quadrat entre AMB_PA i TOTAL:\", chi2_14)\n",
    "print(\"P-valor entre AMB_PA i TOTAL:\", p_value_14)\n",
    "\n",
    "if p_value_14 < 0.05:\n",
    "    print(\"Hi ha diferències significatives entre les distribucions de Barthel en AMB_PA i TOTAL.\")\n",
    "else:\n",
    "    print(\"No hi ha diferències significatives entre les distribucions de Barthel en AMB_PA i TOTAL.\")"
   ],
   "metadata": {
    "collapsed": false
   },
   "id": "37a935817e4cb238",
   "outputs": [],
   "execution_count": null
  },
  {
   "cell_type": "code",
   "source": [
    "contingency_table_24 = pd.crosstab(index=AMB_PA_MECVV['Barthel resultats'].between(21,60), columns=TOTAL['Barthel resultats'].between(21,60))\n",
    "\n",
    "chi2_24, p_value_24, dof_24, expected_24 = chi2_contingency(contingency_table_24)\n",
    "\n",
    "print(\"Estadístic xi-quadrat entre AMB_PA_MECVV i TOTAL:\", chi2_24)\n",
    "print(\"P-valor entre AMB_PA_MECVV i TOTAL:\", p_value_24)\n",
    "\n",
    "if p_value_24 < 0.05:\n",
    "    print(\"Hi ha diferències significatives entre les distribucions de Barthel en AMB_PA_MECVV i TOTAL.\")\n",
    "else:\n",
    "    print(\"No hi ha diferències significatives entre les distribucions de Barthel en AMB_PA_MECVV i TOTAL.\")"
   ],
   "metadata": {
    "collapsed": false
   },
   "id": "86200c02cbc68359",
   "outputs": [],
   "execution_count": null
  },
  {
   "cell_type": "code",
   "source": [
    "contingency_table_34 = pd.crosstab(index=SENSE_PA['Barthel resultats'].between(21,60), columns=TOTAL['Barthel resultats'].between(21,60))\n",
    "\n",
    "chi2_34, p_value_34, dof_34, expected_34 = chi2_contingency(contingency_table_34)\n",
    "\n",
    "print(\"Estadístic xi-quadrat entre SENSE_PA i TOTAL:\", chi2_34)\n",
    "print(\"P-valor entre SENSE_PA i TOTAL:\", p_value_34)\n",
    "\n",
    "if p_value_34 < 0.05:\n",
    "    print(\"Hi ha diferències significatives entre les distribucions de Barthel en SENSE_PA i TOTAL.\")\n",
    "else:\n",
    "    print(\"No hi ha diferències significatives entre les distribucions de Barthel en SENSE_PA i TOTAL.\")"
   ],
   "metadata": {
    "collapsed": false
   },
   "id": "7d8a45532bb68c1e",
   "outputs": [],
   "execution_count": null
  },
  {
   "cell_type": "markdown",
   "source": [
    "##### Total"
   ],
   "metadata": {
    "collapsed": false
   },
   "id": "e4e3dee56bc0f61f"
  },
  {
   "cell_type": "code",
   "source": [
    "contingency_table_12 = pd.crosstab(index=AMB_PA['Barthel resultats'] <= 20.0, columns=AMB_PA_MECVV['Barthel resultats'] <= 20.0)\n",
    "\n",
    "chi2_12, p_value_12, dof_12, expected_12 = chi2_contingency(contingency_table_12)\n",
    "\n",
    "print(\"Estadístic xi-quadrat entre AMB_PA i AMB_PA_MECVV:\", chi2_12)\n",
    "print(\"P-valor entre AMB_PA i AMB_PA_MECVV:\", p_value_12)\n",
    "\n",
    "if p_value_12 < 0.05:\n",
    "    print(\"Hi ha diferències significatives entre les distribucions de Barthel en AMB_PA i AMB_PA_MECVV.\")\n",
    "else:\n",
    "    print(\"No hi ha diferències significatives entre les distribucions de Barthel en AMB_PA i AMB_PA_MECVV.\")"
   ],
   "metadata": {
    "collapsed": false
   },
   "id": "7397b8be6b4b98e8",
   "outputs": [],
   "execution_count": null
  },
  {
   "cell_type": "code",
   "source": [
    "contingency_table_13 = pd.crosstab(index=AMB_PA['Barthel resultats'] <= 20.0, columns=SENSE_PA['Barthel resultats'] <= 20.0)\n",
    "\n",
    "chi2_13, p_value_13, dof_13, expected_13 = chi2_contingency(contingency_table_13)\n",
    "\n",
    "print(\"Estadístic xi-quadrat entre AMB_PA i SENSE_PA:\", chi2_13)\n",
    "print(\"P-valor entre AMB_PA i SENSE_PA:\", p_value_13)\n",
    "\n",
    "if p_value_13 < 0.05:\n",
    "    print(\"Hi ha diferències significatives entre les distribucions de Barthel en AMB_PA i SENSE_PA.\")\n",
    "else:\n",
    "    print(\"No hi ha diferències significatives entre les distribucions de Barthel en AMB_PA i SENSE_PA.\")"
   ],
   "metadata": {
    "collapsed": false
   },
   "id": "9a1e58ef00def8ca",
   "outputs": [],
   "execution_count": null
  },
  {
   "cell_type": "code",
   "source": [
    "contingency_table_23 = pd.crosstab(index=AMB_PA_MECVV['Barthel resultats'] <= 20.0, columns=SENSE_PA['Barthel resultats'] <= 20.0)\n",
    "\n",
    "chi2_23, p_value_23, dof_23, expected_23 = chi2_contingency(contingency_table_23)\n",
    "\n",
    "print(\"Estadístic xi-quadrat entre AMB_PA_MECVV i SENSE_PA:\", chi2_23)\n",
    "print(\"P-valor entre AMB_PA_MECVV i SENSE_PA:\", p_value_23)\n",
    "\n",
    "if p_value_23 < 0.05:\n",
    "    print(\"Hi ha diferències significatives entre les distribucions de Barthel en AMB_PA_MECVV i SENSE_PA.\")\n",
    "else:\n",
    "    print(\"No hi ha diferències significatives entre les distribucions de Barthel en AMB_PA_MECVV i SENSE_PA.\")"
   ],
   "metadata": {
    "collapsed": false
   },
   "id": "1fbdbda09f0ea617",
   "outputs": [],
   "execution_count": null
  },
  {
   "cell_type": "code",
   "source": [
    "contingency_table_14 = pd.crosstab(index=AMB_PA['Barthel resultats'] <= 20.0, columns=TOTAL['Barthel resultats'] <= 20.0)\n",
    "\n",
    "chi2_14, p_value_14, dof_14, expected_14 = chi2_contingency(contingency_table_14)\n",
    "\n",
    "print(\"Estadístic xi-quadrat entre AMB_PA i TOTAL:\", chi2_14)\n",
    "print(\"P-valor entre AMB_PA i TOTAL:\", p_value_14)\n",
    "\n",
    "if p_value_14 < 0.05:\n",
    "    print(\"Hi ha diferències significatives entre les distribucions de Barthel en AMB_PA i TOTAL.\")\n",
    "else:\n",
    "    print(\"No hi ha diferències significatives entre les distribucions de Barthel en AMB_PA i TOTAL.\")"
   ],
   "metadata": {
    "collapsed": false
   },
   "id": "e2ffb9dcb8839739",
   "outputs": [],
   "execution_count": null
  },
  {
   "cell_type": "code",
   "source": [
    "contingency_table_24 = pd.crosstab(index=AMB_PA_MECVV['Barthel resultats'] <= 20.0, columns=TOTAL['Barthel resultats'] <= 20.0)\n",
    "\n",
    "chi2_24, p_value_24, dof_24, expected_24 = chi2_contingency(contingency_table_24)\n",
    "\n",
    "print(\"Estadístic xi-quadrat entre AMB_PA_MECVV i TOTAL:\", chi2_24)\n",
    "print(\"P-valor entre AMB_PA_MECVV i TOTAL:\", p_value_24)\n",
    "\n",
    "if p_value_24 < 0.05:\n",
    "    print(\"Hi ha diferències significatives entre les distribucions de Barthel en AMB_PA_MECVV i TOTAL.\")\n",
    "else:\n",
    "    print(\"No hi ha diferències significatives entre les distribucions de Barthel en AMB_PA_MECVV i TOTAL.\")"
   ],
   "metadata": {
    "collapsed": false
   },
   "id": "f3eb0ac9f0f4657c",
   "outputs": [],
   "execution_count": null
  },
  {
   "cell_type": "code",
   "source": [
    "contingency_table_34 = pd.crosstab(index=SENSE_PA['Barthel resultats'] <= 20.0, columns=TOTAL['Barthel resultats'] <= 20.0)\n",
    "\n",
    "chi2_34, p_value_34, dof_34, expected_34 = chi2_contingency(contingency_table_34)\n",
    "\n",
    "print(\"Estadístic xi-quadrat entre SENSE_PA i TOTAL:\", chi2_34)\n",
    "print(\"P-valor entre SENSE_PA i TOTAL:\", p_value_34)\n",
    "\n",
    "if p_value_34 < 0.05:\n",
    "    print(\"Hi ha diferències significatives entre les distribucions de Barthel en SENSE_PA i TOTAL.\")\n",
    "else:\n",
    "    print(\"No hi ha diferències significatives entre les distribucions de Barthel en SENSE_PA i TOTAL.\")"
   ],
   "metadata": {
    "collapsed": false
   },
   "id": "3e2c5452b760595c",
   "outputs": [],
   "execution_count": null
  },
  {
   "cell_type": "markdown",
   "source": [
    "## Index del MNA"
   ],
   "metadata": {
    "collapsed": false
   },
   "id": "3a2982ece2060602"
  },
  {
   "cell_type": "markdown",
   "source": [
    "Primer convertiré la columna a tipus numèric ja que els valors que conté són de tipus objecte i amb aquest tipus no puc calcular la mitjana ni la desviació estàndard."
   ],
   "metadata": {
    "collapsed": false
   },
   "id": "27b3cf58ae525625"
  },
  {
   "cell_type": "code",
   "source": [
    "AMB_PA.loc[:, 'MNA resultats'] = pd.to_numeric(AMB_PA['MNA resultats'], errors='coerce')\n",
    "AMB_PA_MECVV.loc[:, 'MNA resultats'] = pd.to_numeric(AMB_PA_MECVV['MNA resultats'], errors='coerce')\n",
    "SENSE_PA.loc[:, 'MNA resultats'] = pd.to_numeric(SENSE_PA['MNA resultats'], errors='coerce')\n",
    "TOTAL.loc[:, 'MNA resultats'] = pd.to_numeric(TOTAL['MNA resultats'], errors='coerce')"
   ],
   "metadata": {
    "collapsed": false
   },
   "id": "3cb291ff29ca93cf",
   "outputs": [],
   "execution_count": null
  },
  {
   "cell_type": "markdown",
   "source": [
    "### Mitjana"
   ],
   "metadata": {
    "collapsed": false
   },
   "id": "7a0f5d8b530b950a"
  },
  {
   "cell_type": "code",
   "source": [
    "Mitjana_mna = AMB_PA['MNA resultats'].mean()\n",
    "desviacio_estandard_mna = AMB_PA['MNA resultats'].std()\n",
    "\n",
    "resultat = f\"{Mitjana_mna:.2f} ± {desviacio_estandard_mna:.2f}\"\n",
    "print(\"Mitjana ± Desviació Estándard del mna:\", resultat)"
   ],
   "metadata": {
    "collapsed": false
   },
   "id": "c5e706d0d11e484c",
   "outputs": [],
   "execution_count": null
  },
  {
   "cell_type": "code",
   "source": [
    "Mitjana_mna = AMB_PA_MECVV['MNA resultats'].mean()\n",
    "desviacio_estandard_mna = AMB_PA_MECVV['MNA resultats'].std()\n",
    "\n",
    "resultat = f\"{Mitjana_mna:.2f} ± {desviacio_estandard_mna:.2f}\"\n",
    "print(\"Mitjana ± Desviació Estándard del mna:\", resultat)"
   ],
   "metadata": {
    "collapsed": false
   },
   "id": "1a3a89b9b3c637e5",
   "outputs": [],
   "execution_count": null
  },
  {
   "cell_type": "code",
   "source": [
    "Mitjana_mna = SENSE_PA['MNA resultats'].mean()\n",
    "desviacio_estandard_mna = SENSE_PA['MNA resultats'].std()\n",
    "\n",
    "resultat = f\"{Mitjana_mna:.2f} ± {desviacio_estandard_mna:.2f}\"\n",
    "print(\"Mitjana ± Desviació Estàndard del mna:\", resultat)"
   ],
   "metadata": {
    "collapsed": false
   },
   "id": "76647c274b7a5787",
   "outputs": [],
   "execution_count": null
  },
  {
   "cell_type": "code",
   "source": [
    "Mitjana_mna = TOTAL['MNA resultats'].mean()\n",
    "desviacio_estandard_mna = TOTAL['MNA resultats'].std()\n",
    "\n",
    "resultat = f\"{Mitjana_mna:.2f} ± {desviacio_estandard_mna:.2f}\"\n",
    "print(\"Mitjana ± Desviació Estàndard del mna:\", resultat)"
   ],
   "metadata": {
    "collapsed": false
   },
   "id": "76e95ef522d154ab",
   "outputs": [],
   "execution_count": null
  },
  {
   "cell_type": "markdown",
   "source": [
    "#### Comparació distributiva"
   ],
   "metadata": {
    "collapsed": false
   },
   "id": "2bd55b186af86bb2"
  },
  {
   "cell_type": "markdown",
   "source": [
    "##### Normalitat i p-valor"
   ],
   "metadata": {
    "collapsed": false
   },
   "id": "9fe1f045c2fe0e3d"
  },
  {
   "cell_type": "markdown",
   "source": [
    "NORMALITAT: Tots els grups segueixen una distribució normal"
   ],
   "metadata": {
    "collapsed": false
   },
   "id": "cac22a1e794576ce"
  },
  {
   "cell_type": "code",
   "source": [
    "t_stat_12, p_val_12 = ttest_ind(AMB_PA['MNA resultats'], AMB_PA_MECVV['MNA resultats'], equal_var=False)\n",
    "print(\"P-valor entre AMB_PA i AMB_PA_MECVV:\", p_val_12)"
   ],
   "metadata": {
    "collapsed": false
   },
   "id": "28e87d848094c515",
   "outputs": [],
   "execution_count": null
  },
  {
   "cell_type": "code",
   "source": [
    "t_stat_13, p_val_13 = ttest_ind(AMB_PA['MNA resultats'], SENSE_PA['MNA resultats'], equal_var=False)\n",
    "print(\"P-valor entre AMB_PA i SENSE_PA:\", p_val_13)"
   ],
   "metadata": {
    "collapsed": false
   },
   "id": "76ce7e242c729ea2",
   "outputs": [],
   "execution_count": null
  },
  {
   "cell_type": "code",
   "source": [
    "t_stat_23, p_val_23 = ttest_ind(AMB_PA_MECVV['MNA resultats'], SENSE_PA['MNA resultats'], equal_var=False)\n",
    "print(\"P-valor entre AMB_PA_MECVV i SENSE_PA:\", p_val_23)"
   ],
   "metadata": {
    "collapsed": false
   },
   "id": "88d75f37f735ae47",
   "outputs": [],
   "execution_count": null
  },
  {
   "cell_type": "code",
   "source": [
    "t_stat_14, p_val_14 = ttest_ind(AMB_PA['MNA resultats'], TOTAL['MNA resultats'], equal_var=False)\n",
    "print(\"P-valor entre AMB_PA i TOTAL:\", p_val_14)"
   ],
   "metadata": {
    "collapsed": false
   },
   "id": "e68bbefe91351e0a",
   "outputs": [],
   "execution_count": null
  },
  {
   "cell_type": "code",
   "source": [
    "t_stat_24, p_val_24 = ttest_ind(AMB_PA_MECVV['MNA resultats'], TOTAL['MNA resultats'], equal_var=False)\n",
    "print(\"P-valor entre AMB_PA_MECVV i TOTAL:\", p_val_24)"
   ],
   "metadata": {
    "collapsed": false
   },
   "id": "1ef6f238c58979c7",
   "outputs": [],
   "execution_count": null
  },
  {
   "cell_type": "code",
   "source": [
    "t_stat_34, p_val_34 = ttest_ind(SENSE_PA['MNA resultats'], TOTAL['MNA resultats'], equal_var=False)\n",
    "print(\"P-valor entre SENSE_PA i TOTAL:\", p_val_34)"
   ],
   "metadata": {
    "collapsed": false
   },
   "id": "37d84d94f2335f2c",
   "outputs": [],
   "execution_count": null
  },
  {
   "cell_type": "markdown",
   "source": [
    "### Valors de malnutrició"
   ],
   "metadata": {
    "collapsed": false
   },
   "id": "59ed1f978c595526"
  },
  {
   "cell_type": "markdown",
   "source": [
    "##### AMB_PA"
   ],
   "metadata": {
    "collapsed": false
   },
   "id": "d4c4179eb4156931"
  },
  {
   "cell_type": "code",
   "source": [
    "norm_AMB_PA = AMB_PA['MNA resultats'].between(24, 30)\n",
    "Percentatge_norm_AMB_PA = norm_AMB_PA.mean() * 100\n",
    "num_observaciones_norm_AMB_PA = norm_AMB_PA.sum()\n",
    "\n",
    "print(f\"Percentatge de norm_AMB_PA: {Percentatge_norm_AMB_PA:.2f}%\")\n",
    "print(f\"Nombre d'observacions en norm_AMB_PA: {num_observaciones_norm_AMB_PA}\")"
   ],
   "metadata": {
    "collapsed": false
   },
   "id": "839044c52c7e2db5",
   "outputs": [],
   "execution_count": null
  },
  {
   "cell_type": "code",
   "source": [
    "malnutr_AMB_PA = AMB_PA['MNA resultats'].between(17, 23.5)\n",
    "Percentatge_malnutr_AMB_PA = malnutr_AMB_PA.mean() * 100\n",
    "num_observacions_malnutr_AMB_PA = norm_AMB_PA.sum()\n",
    "\n",
    "print(f\"Percentatge de malnutr_AMB_PA: {Percentatge_malnutr_AMB_PA:.2f}%\")\n",
    "print(f\"Nombre d'observacions en norm_AMB_PA: {num_observacions_malnutr_AMB_PA}\")"
   ],
   "metadata": {
    "collapsed": false
   },
   "id": "e12bc0c70a06571f",
   "outputs": [],
   "execution_count": null
  },
  {
   "cell_type": "code",
   "source": [
    "malnut_AMB_PA = AMB_PA['MNA resultats'] < 17\n",
    "Percentatge_malnut_AMB_PA = malnut_AMB_PA.mean() * 100\n",
    "num_observacions_malnut_AMB_PA = malnut_AMB_PA.sum()\n",
    "\n",
    "print(f\"Percentatge de malnut_AMB_PA: {Percentatge_malnut_AMB_PA:.2f}%\")\n",
    "print(f\"Nombre d'observacions en malnut_AMB_PA: {num_observacions_malnut_AMB_PA}\")"
   ],
   "metadata": {
    "collapsed": false
   },
   "id": "69f5c52244c37877",
   "outputs": [],
   "execution_count": null
  },
  {
   "cell_type": "markdown",
   "source": [
    "##### AMB_PA_MECVV"
   ],
   "metadata": {
    "collapsed": false
   },
   "id": "cb641c82fd2fb034"
  },
  {
   "cell_type": "code",
   "source": [
    "norm_AMB_PA_MECVV = AMB_PA_MECVV['MNA resultats'].between(24, 30)\n",
    "Percentatge_norm_AMB_PA_MECVV = norm_AMB_PA_MECVV.mean() * 100\n",
    "num_observacions_norm_AMB_PA_MECVV = norm_AMB_PA_MECVV.sum()\n",
    "\n",
    "print(f\"Percentatge de norm_AMB_PA_MECVV: {Percentatge_norm_AMB_PA_MECVV:.2f}%\")\n",
    "print(f\"Nombre d'observacions en norm_AMB_PA_MECVV: {num_observacions_norm_AMB_PA_MECVV}\")"
   ],
   "metadata": {
    "collapsed": false
   },
   "id": "fcba2f3402c0933b",
   "outputs": [],
   "execution_count": null
  },
  {
   "cell_type": "code",
   "source": [
    "malnutr_AMB_PA_MECVV = AMB_PA_MECVV['MNA resultats'].between(17, 23.5)\n",
    "Percentatge_malnutr_AMB_PA_MECVV = malnutr_AMB_PA_MECVV.mean() * 100\n",
    "num_observacions_malnutr_AMB_PA_MECVV = norm_AMB_PA_MECVV.sum()\n",
    "\n",
    "print(f\"Percentatge de malnutr_AMB_PA_MECVV: {Percentatge_malnutr_AMB_PA_MECVV:.2f}%\")\n",
    "print(f\"Nombre d'observacions en norm_AMB_PA_MECVV: {num_observacions_malnutr_AMB_PA_MECVV}\")"
   ],
   "metadata": {
    "collapsed": false
   },
   "id": "ac35cd1b3e55d386",
   "outputs": [],
   "execution_count": null
  },
  {
   "cell_type": "code",
   "source": [
    "malnut_AMB_PA_MECVV = AMB_PA_MECVV['MNA resultats'] < 17\n",
    "Percentatge_malnut_AMB_PA_MECVV = malnut_AMB_PA_MECVV.mean() * 100\n",
    "num_observacions_malnut_AMB_PA_MECVV = malnut_AMB_PA_MECVV.sum()\n",
    "\n",
    "print(f\"Percentatge de malnut_AMB_PA_MECVV: {Percentatge_malnut_AMB_PA_MECVV:.2f}%\")\n",
    "print(f\"Nombre d'observacions en malnut_AMB_PA_MECVV: {num_observacions_malnut_AMB_PA_MECVV}\")"
   ],
   "metadata": {
    "collapsed": false
   },
   "id": "641fa59a621f8c93",
   "outputs": [],
   "execution_count": null
  },
  {
   "cell_type": "markdown",
   "source": [
    "##### SENSE_PA"
   ],
   "metadata": {
    "collapsed": false
   },
   "id": "815010327300f6d6"
  },
  {
   "cell_type": "code",
   "source": [
    "norm_SENSE_PA = SENSE_PA['MNA resultats'].between(24, 30)\n",
    "Percentatge_norm_SENSE_PA = norm_SENSE_PA.mean() * 100\n",
    "num_observacions_norm_SENSE_PA = norm_SENSE_PA.sum()\n",
    "\n",
    "print(f\"Percentatge de norm_SENSE_PA: {Percentatge_norm_SENSE_PA:.2f}%\")\n",
    "print(f\"Nombre d'observacions en norm_SENSE_PA: {num_observacions_norm_SENSE_PA}\")"
   ],
   "metadata": {
    "collapsed": false
   },
   "id": "53857d87c0165620",
   "outputs": [],
   "execution_count": null
  },
  {
   "cell_type": "code",
   "source": [
    "malnutr_SENSE_PA = SENSE_PA['MNA resultats'].between(17, 23.5)\n",
    "Percentatge_malnutr_SENSE_PA = malnutr_SENSE_PA.mean() * 100\n",
    "num_observacions_malnutr_SENSE_PA = malnutr_SENSE_PA.sum()\n",
    "\n",
    "print(f\"Percentatge de malnutr_SENSE_PA: {Percentatge_malnutr_SENSE_PA:.2f}%\")\n",
    "print(f\"Nombre d'observacions en malnutr_SENSE_PA: {num_observacions_malnutr_SENSE_PA}\")"
   ],
   "metadata": {
    "collapsed": false
   },
   "id": "c98653784e4b34a3",
   "outputs": [],
   "execution_count": null
  },
  {
   "cell_type": "code",
   "source": [
    "malnut_SENSE_PA = SENSE_PA['MNA resultats'] < 17\n",
    "Percentatge_malnut_SENSE_PA = malnut_SENSE_PA.mean() * 100\n",
    "num_observacions_malnut_SENSE_PA = malnut_SENSE_PA.sum()\n",
    "\n",
    "print(f\"Percentatge de malnut_SENSE_PA: {Percentatge_malnut_SENSE_PA:.2f}%\")\n",
    "print(f\"Nombre d'observacions en malnut_SENSE_PA: {num_observacions_malnut_SENSE_PA}\")"
   ],
   "metadata": {
    "collapsed": false
   },
   "id": "f4f01d812ca34849",
   "outputs": [],
   "execution_count": null
  },
  {
   "cell_type": "markdown",
   "source": [
    "##### TOTAL"
   ],
   "metadata": {
    "collapsed": false
   },
   "id": "7d3d61cd1f278522"
  },
  {
   "cell_type": "code",
   "source": [
    "norm_TOTAL = TOTAL['MNA resultats'].between(24, 30)\n",
    "Percentatge_norm_TOTAL = norm_TOTAL.mean() * 100\n",
    "num_observacions_norm_TOTAL = norm_TOTAL.sum()\n",
    "\n",
    "print(f\"Percentatge de norm_TOTAL: {Percentatge_norm_TOTAL:.2f}%\")\n",
    "print(f\"Nombre d'observacions en norm_TOTAL: {num_observacions_norm_TOTAL}\")"
   ],
   "metadata": {
    "collapsed": false
   },
   "id": "a02937127b8262f8",
   "outputs": [],
   "execution_count": null
  },
  {
   "cell_type": "code",
   "source": [
    "malnutr_TOTAL = TOTAL['MNA resultats'].between(17, 23.5)\n",
    "Percentatge_malnutr_TOTAL = malnutr_TOTAL.mean() * 100\n",
    "num_observacions_malnutr_TOTAL = malnutr_TOTAL.sum()\n",
    "\n",
    "print(f\"Percentatge de malnutr_TOTAL: {Percentatge_malnutr_TOTAL:.2f}%\")\n",
    "print(f\"Nombre d'observacions en malnutr_TOTAL: {num_observacions_malnutr_TOTAL}\")"
   ],
   "metadata": {
    "collapsed": false
   },
   "id": "54db351fd27a989e",
   "outputs": [],
   "execution_count": null
  },
  {
   "cell_type": "code",
   "source": [
    "malnut_TOTAL = TOTAL['MNA resultats'] < 17\n",
    "Percentatge_malnut_TOTAL = malnut_TOTAL.mean() * 100\n",
    "num_observacions_malnut_TOTAL = malnut_TOTAL.sum()\n",
    "\n",
    "print(f\"Percentatge de malnut_TOTAL: {Percentatge_malnut_TOTAL:.2f}%\")\n",
    "print(f\"Nombre d'observacions en malnut_TOTAL: {num_observacions_malnut_TOTAL}\")"
   ],
   "metadata": {
    "collapsed": false
   },
   "id": "cab9c29138a96860",
   "outputs": [],
   "execution_count": null
  },
  {
   "cell_type": "markdown",
   "source": [
    "#### P-valor"
   ],
   "metadata": {
    "collapsed": false
   },
   "id": "ffa8ca2805a776d9"
  },
  {
   "cell_type": "markdown",
   "source": [
    "##### Normal"
   ],
   "metadata": {
    "collapsed": false
   },
   "id": "c1421ca31b236ad8"
  },
  {
   "cell_type": "code",
   "source": [
    "contingency_table_12 = pd.crosstab(index=AMB_PA['MNA resultats'].between(24, 30), columns=AMB_PA_MECVV['MNA resultats'].between(24, 30))\n",
    "\n",
    "chi2_12, p_value_12, dof_12, expected_12 = chi2_contingency(contingency_table_12)\n",
    "\n",
    "print(\"Estadístic xi-quadrat entre AMB_PA i AMB_PA_MECVV:\", chi2_12)\n",
    "print(\"P-valor entre AMB_PA i AMB_PA_MECVV:\", p_value_12)\n",
    "\n",
    "if p_value_12 < 0.05:\n",
    "    print(\"Hi ha diferències significatives entre les distribucions de MNA en AMB_PA i AMB_PA_MECVV.\")\n",
    "else:\n",
    "    print(\"No hi ha diferències significatives entre les distribucions de MNA en AMB_PA i AMB_PA_MECVV.\")"
   ],
   "metadata": {
    "collapsed": false
   },
   "id": "794ade537821f431",
   "outputs": [],
   "execution_count": null
  },
  {
   "cell_type": "code",
   "source": [
    "contingency_table_13 = pd.crosstab(index=AMB_PA['MNA resultats'].between(24, 30), columns=SENSE_PA['MNA resultats'].between(24, 30))\n",
    "\n",
    "chi2_13, p_value_13, dof_13, expected_13 = chi2_contingency(contingency_table_13)\n",
    "\n",
    "print(\"Estadístic xi-quadrat entre AMB_PA i SENSE_PA:\", chi2_13)\n",
    "print(\"P-valor entre AMB_PA i SENSE_PA:\", p_value_13)\n",
    "\n",
    "if p_value_13 < 0.05:\n",
    "    print(\"Hi ha diferències significatives entre les distribucions de MNA en AMB_PA i SENSE_PA.\")\n",
    "else:\n",
    "    print(\"No hi ha diferències significatives entre les distribucions de MNA en AMB_PA i SENSE_PA.\")"
   ],
   "metadata": {
    "collapsed": false
   },
   "id": "89f775679a5e2c83",
   "outputs": [],
   "execution_count": null
  },
  {
   "cell_type": "code",
   "source": [
    "contingency_table_23 = pd.crosstab(index=AMB_PA_MECVV['MNA resultats'].between(24, 30), columns=SENSE_PA['MNA resultats'].between(24, 30))\n",
    "\n",
    "chi2_23, p_value_23, dof_23, expected_23 = chi2_contingency(contingency_table_23)\n",
    "\n",
    "print(\"Estadístic xi-quadrat entre AMB_PA_MECVV i SENSE_PA:\", chi2_23)\n",
    "print(\"P-valor entre AMB_PA_MECVV i SENSE_PA:\", p_value_23)\n",
    "\n",
    "if p_value_23 < 0.05:\n",
    "    print(\"Hi ha diferències significatives entre les distribucions de MNA en AMB_PA_MECVV i SENSE_PA.\")\n",
    "else:\n",
    "    print(\"No hi ha diferències significatives entre les distribucions de MNA en AMB_PA_MECVV i SENSE_PA.\")"
   ],
   "metadata": {
    "collapsed": false
   },
   "id": "c63e2052edbca169",
   "outputs": [],
   "execution_count": null
  },
  {
   "cell_type": "code",
   "source": [
    "contingency_table_14 = pd.crosstab(index=AMB_PA['MNA resultats'].between(24, 30), columns=TOTAL['MNA resultats'].between(24, 30))\n",
    "\n",
    "chi2_14, p_value_14, dof_14, expected_14 = chi2_contingency(contingency_table_14)\n",
    "\n",
    "print(\"Estadístic xi-quadrat entre AMB_PA i TOTAL:\", chi2_14)\n",
    "print(\"P-valor entre AMB_PA i TOTAL:\", p_value_14)\n",
    "\n",
    "if p_value_14 < 0.05:\n",
    "    print(\"Hi ha diferències significatives entre les distribucions de MNA en AMB_PA i TOTAL.\")\n",
    "else:\n",
    "    print(\"No hi ha diferències significatives entre les distribucions de MNA en AMB_PA i TOTAL.\")"
   ],
   "metadata": {
    "collapsed": false
   },
   "id": "3b795f9284e213e6",
   "outputs": [],
   "execution_count": null
  },
  {
   "cell_type": "code",
   "source": [
    "contingency_table_24 = pd.crosstab(index=AMB_PA_MECVV['MNA resultats'].between(24, 30), columns=TOTAL['MNA resultats'].between(24, 30))\n",
    "\n",
    "chi2_24, p_value_24, dof_24, expected_24 = chi2_contingency(contingency_table_24)\n",
    "\n",
    "print(\"Estadístic xi-quadrat entre AMB_PA_MECVV i TOTAL:\", chi2_24)\n",
    "print(\"P-valor entre AMB_PA_MECVV i TOTAL:\", p_value_24)\n",
    "\n",
    "if p_value_24 < 0.05:\n",
    "    print(\"Hi ha diferències significatives entre les distribucions de MNA en AMB_PA_MECVV i TOTAL.\")\n",
    "else:\n",
    "    print(\"No hi ha diferències significatives entre les distribucions de MNA en AMB_PA_MECVV i TOTAL.\")"
   ],
   "metadata": {
    "collapsed": false
   },
   "id": "6f96e878435c702e",
   "outputs": [],
   "execution_count": null
  },
  {
   "cell_type": "code",
   "source": [
    "contingency_table_34 = pd.crosstab(index=SENSE_PA['MNA resultats'].between(24, 30), columns=TOTAL['MNA resultats'].between(24, 30))\n",
    "\n",
    "chi2_34, p_value_34, dof_34, expected_34 = chi2_contingency(contingency_table_34)\n",
    "\n",
    "print(\"Estadístic xi-quadrat entre SENSE_PA i TOTAL:\", chi2_34)\n",
    "print(\"P-valor entre SENSE_PA i TOTAL:\", p_value_34)\n",
    "\n",
    "if p_value_34 < 0.05:\n",
    "    print(\"Hi ha diferències significatives entre les distribucions de MNA en SENSE_PA i TOTAL.\")\n",
    "else:\n",
    "    print(\"No hi ha diferències significatives entre les distribucions de MNA en SENSE_PA i TOTAL.\")"
   ],
   "metadata": {
    "collapsed": false
   },
   "id": "bd78bd1f257ed46",
   "outputs": [],
   "execution_count": null
  },
  {
   "cell_type": "markdown",
   "source": [
    "##### Risc de malnutrició"
   ],
   "metadata": {
    "collapsed": false
   },
   "id": "2ddd8f880856e5fc"
  },
  {
   "cell_type": "code",
   "source": [
    "contingency_table_12 = pd.crosstab(index=AMB_PA['MNA resultats'].between(17, 23.5), columns=AMB_PA_MECVV['MNA resultats'].between(17, 23.5))\n",
    "\n",
    "chi2_12, p_value_12, dof_12, expected_12 = chi2_contingency(contingency_table_12)\n",
    "\n",
    "print(\"Estadístic xi-quadrat entre AMB_PA i AMB_PA_MECVV:\", chi2_12)\n",
    "print(\"P-valor entre AMB_PA i AMB_PA_MECVV:\", p_value_12)\n",
    "\n",
    "if p_value_12 < 0.05:\n",
    "    print(\"Hi ha diferències significatives entre les distribucions de MNA en AMB_PA i AMB_PA_MECVV.\")\n",
    "else:\n",
    "    print(\"No hi ha diferències significatives entre les distribucions de MNA en AMB_PA i AMB_PA_MECVV.\")"
   ],
   "metadata": {
    "collapsed": false
   },
   "id": "bc94b67acd590122",
   "outputs": [],
   "execution_count": null
  },
  {
   "cell_type": "code",
   "source": [
    "contingency_table_13 = pd.crosstab(index=AMB_PA['MNA resultats'].between(17, 23.5), columns=SENSE_PA['MNA resultats'].between(17, 23.5))\n",
    "\n",
    "chi2_13, p_value_13, dof_13, expected_13 = chi2_contingency(contingency_table_13)\n",
    "\n",
    "print(\"Estadístic xi-quadrat entre AMB_PA i SENSE_PA:\", chi2_13)\n",
    "print(\"P-valor entre AMB_PA i SENSE_PA:\", p_value_13)\n",
    "\n",
    "if p_value_13 < 0.05:\n",
    "    print(\"Hi ha diferències significatives entre les distribucions de MNA en AMB_PA i SENSE_PA.\")\n",
    "else:\n",
    "    print(\"No hi ha diferències significatives entre les distribucions de MNA en AMB_PA i SENSE_PA.\")"
   ],
   "metadata": {
    "collapsed": false
   },
   "id": "bb0f6fc81d8e05c9",
   "outputs": [],
   "execution_count": null
  },
  {
   "cell_type": "code",
   "source": [
    "contingency_table_23 = pd.crosstab(index=AMB_PA_MECVV['MNA resultats'].between(17, 23.5), columns=SENSE_PA['MNA resultats'].between(17, 23.5))\n",
    "\n",
    "chi2_23, p_value_23, dof_23, expected_23 = chi2_contingency(contingency_table_23)\n",
    "\n",
    "print(\"Estadístic xi-quadrat entre AMB_PA_MECVV i SENSE_PA:\", chi2_23)\n",
    "print(\"P-valor entre AMB_PA_MECVV i SENSE_PA:\", p_value_23)\n",
    "\n",
    "if p_value_23 < 0.05:\n",
    "    print(\"Hi ha diferències significatives entre les distribucions de MNA en AMB_PA_MECVV i SENSE_PA.\")\n",
    "else:\n",
    "    print(\"No hi ha diferències significatives entre les distribucions de MNA en AMB_PA_MECVV i SENSE_PA.\")"
   ],
   "metadata": {
    "collapsed": false
   },
   "id": "a78406084c580a6",
   "outputs": [],
   "execution_count": null
  },
  {
   "cell_type": "code",
   "source": [
    "contingency_table_14 = pd.crosstab(index=AMB_PA['MNA resultats'].between(17, 23.5), columns=TOTAL['MNA resultats'].between(17, 23.5))\n",
    "\n",
    "chi2_14, p_value_14, dof_14, expected_14 = chi2_contingency(contingency_table_14)\n",
    "\n",
    "print(\"Estadístic xi-quadrat entre AMB_PA i TOTAL:\", chi2_14)\n",
    "print(\"P-valor entre AMB_PA i TOTAL:\", p_value_14)\n",
    "\n",
    "if p_value_14 < 0.05:\n",
    "    print(\"Hi ha diferències significatives entre les distribucions de MNA en AMB_PA i TOTAL.\")\n",
    "else:\n",
    "    print(\"No hi ha diferències significatives entre les distribucions de MNA en AMB_PA i TOTAL.\")"
   ],
   "metadata": {
    "collapsed": false
   },
   "id": "f14343991cd5970",
   "outputs": [],
   "execution_count": null
  },
  {
   "cell_type": "code",
   "source": [
    "contingency_table_24 = pd.crosstab(index=AMB_PA_MECVV['MNA resultats'].between(17, 23.5), columns=TOTAL['MNA resultats'].between(17, 23.5))\n",
    "\n",
    "chi2_24, p_value_24, dof_24, expected_24 = chi2_contingency(contingency_table_24)\n",
    "\n",
    "print(\"Estadístic xi-quadrat entre AMB_PA_MECVV i TOTAL:\", chi2_24)\n",
    "print(\"P-valor entre AMB_PA_MECVV i TOTAL:\", p_value_24)\n",
    "\n",
    "if p_value_24 < 0.05:\n",
    "    print(\"Hi ha diferències significatives entre les distribucions de MNA en AMB_PA_MECVV i TOTAL.\")\n",
    "else:\n",
    "    print(\"No hi ha diferències significatives entre les distribucions de MNA en AMB_PA_MECVV i TOTAL.\")"
   ],
   "metadata": {
    "collapsed": false
   },
   "id": "ee70d5a68d8bdf85",
   "outputs": [],
   "execution_count": null
  },
  {
   "cell_type": "code",
   "source": [
    "contingency_table_34 = pd.crosstab(index=SENSE_PA['MNA resultats'].between(17, 23.5), columns=TOTAL['MNA resultats'].between(17, 23.5))\n",
    "\n",
    "chi2_34, p_value_34, dof_34, expected_34 = chi2_contingency(contingency_table_34)\n",
    "\n",
    "print(\"Estadístic xi-quadrat entre SENSE_PA i TOTAL:\", chi2_34)\n",
    "print(\"P-valor entre SENSE_PA i TOTAL:\", p_value_34)\n",
    "\n",
    "if p_value_34 < 0.05:\n",
    "    print(\"Hi ha diferències significatives entre les distribucions de MNA en SENSE_PA i TOTAL.\")\n",
    "else:\n",
    "    print(\"No hi ha diferències significatives entre les distribucions de MNA en SENSE_PA i TOTAL.\")"
   ],
   "metadata": {
    "collapsed": false
   },
   "id": "91df139eeb58b39b",
   "outputs": [],
   "execution_count": null
  },
  {
   "cell_type": "markdown",
   "source": [
    "##### Malnutrició"
   ],
   "metadata": {
    "collapsed": false
   },
   "id": "a1cb8f07f51b4c99"
  },
  {
   "cell_type": "code",
   "source": [
    "contingency_table_12 = pd.crosstab(index=AMB_PA['MNA resultats'] < 17, columns=AMB_PA_MECVV['MNA resultats'] < 17)\n",
    "\n",
    "chi2_12, p_value_12, dof_12, expected_12 = chi2_contingency(contingency_table_12)\n",
    "\n",
    "print(\"Estadístic xi-quadrat entre AMB_PA i AMB_PA_MECVV:\", chi2_12)\n",
    "print(\"P-valor entre AMB_PA i AMB_PA_MECVV:\", p_value_12)\n",
    "\n",
    "if p_value_12 < 0.05:\n",
    "    print(\"Hi ha diferències significatives entre les distribucions de MNA en AMB_PA i AMB_PA_MECVV.\")\n",
    "else:\n",
    "    print(\"No hi ha diferències significatives entre les distribucions de MNA en AMB_PA i AMB_PA_MECVV.\")"
   ],
   "metadata": {
    "collapsed": false
   },
   "id": "c2774723f40d6461",
   "outputs": [],
   "execution_count": null
  },
  {
   "cell_type": "code",
   "source": [
    "contingency_table_13 = pd.crosstab(index=AMB_PA['MNA resultats'] < 17, columns=SENSE_PA['MNA resultats'] < 17)\n",
    "\n",
    "chi2_13, p_value_13, dof_13, expected_13 = chi2_contingency(contingency_table_13)\n",
    "\n",
    "print(\"Estadístic xi-quadrat entre AMB_PA i SENSE_PA:\", chi2_13)\n",
    "print(\"P-valor entre AMB_PA i SENSE_PA:\", p_value_13)\n",
    "\n",
    "if p_value_13 < 0.05:\n",
    "    print(\"Hi ha diferències significatives entre les distribucions de MNA en AMB_PA i SENSE_PA.\")\n",
    "else:\n",
    "    print(\"No hi ha diferències significatives entre les distribucions de MNA en AMB_PA i SENSE_PA.\")"
   ],
   "metadata": {
    "collapsed": false
   },
   "id": "2a6aa2d700fe116b",
   "outputs": [],
   "execution_count": null
  },
  {
   "cell_type": "code",
   "source": [
    "contingency_table_23 = pd.crosstab(index=AMB_PA_MECVV['MNA resultats'] < 17, columns=SENSE_PA['MNA resultats'] < 17)\n",
    "\n",
    "chi2_23, p_value_23, dof_23, expected_23 = chi2_contingency(contingency_table_23)\n",
    "\n",
    "print(\"Estadístic xi-quadrat entre AMB_PA_MECVV i SENSE_PA:\", chi2_23)\n",
    "print(\"P-valor entre AMB_PA_MECVV i SENSE_PA:\", p_value_23)\n",
    "\n",
    "if p_value_23 < 0.05:\n",
    "    print(\"Hi ha diferències significatives entre les distribucions de MNA en AMB_PA_MECVV i SENSE_PA.\")\n",
    "else:\n",
    "    print(\"No hi ha diferències significatives entre les distribucions de MNA en AMB_PA_MECVV i SENSE_PA.\")"
   ],
   "metadata": {
    "collapsed": false
   },
   "id": "1ece37670d50ebf3",
   "outputs": [],
   "execution_count": null
  },
  {
   "cell_type": "code",
   "source": [
    "contingency_table_14 = pd.crosstab(index=AMB_PA['MNA resultats'] < 17, columns=TOTAL['MNA resultats'] < 17)\n",
    "\n",
    "chi2_14, p_value_14, dof_14, expected_14 = chi2_contingency(contingency_table_14)\n",
    "\n",
    "print(\"Estadístic xi-quadrat entre AMB_PA i TOTAL:\", chi2_14)\n",
    "print(\"P-valor entre AMB_PA i TOTAL:\", p_value_14)\n",
    "\n",
    "if p_value_14 < 0.05:\n",
    "    print(\"Hi ha diferències significatives entre les distribucions de MNA en AMB_PA i TOTAL.\")\n",
    "else:\n",
    "    print(\"No hi ha diferències significatives entre les distribucions de MNA en AMB_PA i TOTAL.\")"
   ],
   "metadata": {
    "collapsed": false
   },
   "id": "435d90b38080687b",
   "outputs": [],
   "execution_count": null
  },
  {
   "cell_type": "code",
   "source": [
    "contingency_table_24 = pd.crosstab(index=AMB_PA_MECVV['MNA resultats'] < 17, columns=TOTAL['MNA resultats'] < 17)\n",
    "\n",
    "chi2_24, p_value_24, dof_24, expected_24 = chi2_contingency(contingency_table_24)\n",
    "\n",
    "print(\"Estadístic xi-quadrat entre AMB_PA_MECVV i TOTAL:\", chi2_24)\n",
    "print(\"P-valor entre AMB_PA_MECVV i TOTAL:\", p_value_24)\n",
    "\n",
    "if p_value_24 < 0.05:\n",
    "    print(\"Hi ha diferències significatives entre les distribucions de MNA en AMB_PA_MECVV i TOTAL.\")\n",
    "else:\n",
    "    print(\"No hi ha diferències significatives entre les distribucions de MNA en AMB_PA_MECVV i TOTAL.\")"
   ],
   "metadata": {
    "collapsed": false
   },
   "id": "92c28e5e679a5d98",
   "outputs": [],
   "execution_count": null
  },
  {
   "cell_type": "code",
   "source": [
    "contingency_table_34 = pd.crosstab(index=SENSE_PA['MNA resultats'] < 17, columns=TOTAL['MNA resultats'] < 17)\n",
    "\n",
    "chi2_34, p_value_34, dof_34, expected_34 = chi2_contingency(contingency_table_34)\n",
    "\n",
    "print(\"Estadístic xi-quadrat entre SENSE_PA i TOTAL:\", chi2_34)\n",
    "print(\"P-valor entre SENSE_PA i TOTAL:\", p_value_34)\n",
    "\n",
    "if p_value_34 < 0.05:\n",
    "    print(\"Hi ha diferències significatives entre les distribucions de MNA en SENSE_PA i TOTAL.\")\n",
    "else:\n",
    "    print(\"No hi ha diferències significatives entre les distribucions de MNA en SENSE_PA i TOTAL.\")"
   ],
   "metadata": {
    "collapsed": false
   },
   "id": "4e6244cdf49ab839",
   "outputs": [],
   "execution_count": null
  },
  {
   "cell_type": "markdown",
   "source": [
    "## Index de l'EMINA"
   ],
   "metadata": {
    "collapsed": false
   },
   "id": "a9584ed92bbdf853"
  },
  {
   "cell_type": "markdown",
   "source": [
    "### Mitjana"
   ],
   "metadata": {
    "collapsed": false
   },
   "id": "2226cc66d6107574"
  },
  {
   "cell_type": "code",
   "source": [
    "Mitjana_emina = AMB_PA['EMINA sumatoris comparats'].mean()\n",
    "desviacio_estandard_emina = AMB_PA['EMINA sumatoris comparats'].std()\n",
    "\n",
    "resultat = f\"{Mitjana_emina:.2f} ± {desviacio_estandard_emina:.2f}\"\n",
    "print(\"Mitjana ± Desviació Estàndard de l'emina:\", resultat)"
   ],
   "metadata": {
    "collapsed": false
   },
   "id": "b73a7ddfbfc5179e",
   "outputs": [],
   "execution_count": null
  },
  {
   "cell_type": "code",
   "source": [
    "Mitjana_emina = AMB_PA_MECVV['EMINA sumatoris comparats'].mean()\n",
    "desviacio_estandard_emina = AMB_PA_MECVV['EMINA sumatoris comparats'].std()\n",
    "\n",
    "resultat = f\"{Mitjana_emina:.2f} ± {desviacio_estandard_emina:.2f}\"\n",
    "print(\"Mitjana ± Desviació Estàndard de l'emina:\", resultat)"
   ],
   "metadata": {
    "collapsed": false
   },
   "id": "20757f889aae560f",
   "outputs": [],
   "execution_count": null
  },
  {
   "cell_type": "code",
   "source": [
    "Mitjana_emina = SENSE_PA['EMINA sumatoris comparats'].mean()\n",
    "desviacio_estandard_emina = SENSE_PA['EMINA sumatoris comparats'].std()\n",
    "\n",
    "resultat = f\"{Mitjana_emina:.2f} ± {desviacio_estandard_emina:.2f}\"\n",
    "print(\"Mitjana ± Desviació Estàndard de l'emina:\", resultat)"
   ],
   "metadata": {
    "collapsed": false
   },
   "id": "a6badf50b38cc370",
   "outputs": [],
   "execution_count": null
  },
  {
   "cell_type": "code",
   "source": [
    "Mitjana_emina = TOTAL['EMINA sumatoris comparats'].mean()\n",
    "desviacio_estandard_emina = TOTAL['EMINA sumatoris comparats'].std()\n",
    "\n",
    "resultat = f\"{Mitjana_emina:.2f} ± {desviacio_estandard_emina:.2f}\"\n",
    "print(\"Mitjana ± Desviació Estàndard de l'emina:\", resultat)"
   ],
   "metadata": {
    "collapsed": false
   },
   "id": "bb2c98736326efe9",
   "outputs": [],
   "execution_count": null
  },
  {
   "cell_type": "markdown",
   "source": [
    "#### Comparació distributiva"
   ],
   "metadata": {
    "collapsed": false
   },
   "id": "91e1155053eed6eb"
  },
  {
   "cell_type": "markdown",
   "source": [
    "##### Normalitat i p-valor"
   ],
   "metadata": {
    "collapsed": false
   },
   "id": "582955541698492a"
  },
  {
   "cell_type": "markdown",
   "source": [
    "NORMALITAT: Tots els grups segueixen una distribució normal"
   ],
   "metadata": {
    "collapsed": false
   },
   "id": "f08afebeee091e2a"
  },
  {
   "cell_type": "code",
   "source": [
    "t_stat_12, p_val_12 = ttest_ind(AMB_PA['EMINA sumatoris comparats'], AMB_PA_MECVV['EMINA sumatoris comparats'], equal_var=False)\n",
    "print(\"P-valor entre AMB_PA i AMB_PA_MECVV:\", p_val_12)"
   ],
   "metadata": {
    "collapsed": false
   },
   "id": "f1106c4312d9cef9",
   "outputs": [],
   "execution_count": null
  },
  {
   "cell_type": "code",
   "source": [
    "t_stat_13, p_val_13 = ttest_ind(AMB_PA['EMINA sumatoris comparats'], SENSE_PA['EMINA sumatoris comparats'], equal_var=False)\n",
    "print(\"P-valor entre AMB_PA i SENSE_PA:\", p_val_13)"
   ],
   "metadata": {
    "collapsed": false
   },
   "id": "9771c863223f07",
   "outputs": [],
   "execution_count": null
  },
  {
   "cell_type": "code",
   "source": [
    "t_stat_23, p_val_23 = ttest_ind(AMB_PA_MECVV['EMINA sumatoris comparats'], SENSE_PA['EMINA sumatoris comparats'], equal_var=False)\n",
    "print(\"P-valor entre AMB_PA_MECVV i SENSE_PA:\", p_val_23)"
   ],
   "metadata": {
    "collapsed": false
   },
   "id": "4f63bea0ef204c0e",
   "outputs": [],
   "execution_count": null
  },
  {
   "cell_type": "code",
   "source": [
    "t_stat_14, p_val_14 = ttest_ind(AMB_PA['EMINA sumatoris comparats'], TOTAL['EMINA sumatoris comparats'], equal_var=False)\n",
    "print(\"P-valor entre AMB_PA i TOTAL:\", p_val_14)"
   ],
   "metadata": {
    "collapsed": false
   },
   "id": "f80e449f6434872",
   "outputs": [],
   "execution_count": null
  },
  {
   "cell_type": "code",
   "source": [
    "t_stat_24, p_val_24 = ttest_ind(AMB_PA_MECVV['EMINA sumatoris comparats'], TOTAL['EMINA sumatoris comparats'], equal_var=False)\n",
    "print(\"P-valor entre AMB_PA_MECVV i TOTAL:\", p_val_24)"
   ],
   "metadata": {
    "collapsed": false
   },
   "id": "ff4db1249d076e44",
   "outputs": [],
   "execution_count": null
  },
  {
   "cell_type": "code",
   "source": [
    "t_stat_34, p_val_34 = ttest_ind(SENSE_PA['EMINA sumatoris comparats'], TOTAL['EMINA sumatoris comparats'], equal_var=False)\n",
    "print(\"P-valor entre SENSE_PA i TOTAL:\", p_val_34)"
   ],
   "metadata": {
    "collapsed": false
   },
   "id": "11a665a074f6aa",
   "outputs": [],
   "execution_count": null
  },
  {
   "cell_type": "markdown",
   "source": [
    "### Valors EMINA"
   ],
   "metadata": {
    "collapsed": false
   },
   "id": "390a8c9293e89022"
  },
  {
   "cell_type": "markdown",
   "source": [
    "##### AMB_PA"
   ],
   "metadata": {
    "collapsed": false
   },
   "id": "3e7a6c25a79ccad4"
  },
  {
   "cell_type": "code",
   "source": [
    "lowr_AMB_PA = AMB_PA['EMINA sumatoris comparats'].between(0, 5)\n",
    "Percentatge_lowr_AMB_PA = lowr_AMB_PA.mean() * 100\n",
    "num_observacions_lowr_AMB_PA = lowr_AMB_PA.sum()\n",
    "\n",
    "print(f\"Percentatge de lowr_AMB_PA: {Percentatge_lowr_AMB_PA:.2f}%\")\n",
    "print(f\"Nombre d'observacions en lowr_AMB_PA: {num_observacions_lowr_AMB_PA}\")"
   ],
   "metadata": {
    "collapsed": false
   },
   "id": "89e8bb8420b1b602",
   "outputs": [],
   "execution_count": null
  },
  {
   "cell_type": "code",
   "source": [
    "modr_AMB_PA = AMB_PA['EMINA sumatoris comparats'].between(6, 10)\n",
    "Percentatge_modr_AMB_PA = modr_AMB_PA.mean() * 100\n",
    "num_observacions_modr_AMB_PA = modr_AMB_PA.sum()\n",
    "\n",
    "print(f\"Percentatge de modr_AMB_PA: {Percentatge_modr_AMB_PA:.2f}%\")\n",
    "print(f\"Nombre d'observacions en modr_AMB_PA: {num_observacions_modr_AMB_PA}\")"
   ],
   "metadata": {
    "collapsed": false
   },
   "id": "6321740fd3a4163c",
   "outputs": [],
   "execution_count": null
  },
  {
   "cell_type": "code",
   "source": [
    "highr_AMB_PA = AMB_PA['EMINA sumatoris comparats'].between(11, 15)\n",
    "Percentatge_highr_AMB_PA = highr_AMB_PA.mean() * 100\n",
    "num_observacions_highr_AMB_PA = highr_AMB_PA.sum()\n",
    "\n",
    "print(f\"Percentatge de highr_AMB_PA: {Percentatge_highr_AMB_PA:.2f}%\")\n",
    "print(f\"Nombre d'observacions en highr_AMB_PA: {num_observacions_highr_AMB_PA}\")"
   ],
   "metadata": {
    "collapsed": false
   },
   "id": "d06abe01d64ba860",
   "outputs": [],
   "execution_count": null
  },
  {
   "cell_type": "markdown",
   "source": [
    "##### AMB_PA_MECVV"
   ],
   "metadata": {
    "collapsed": false
   },
   "id": "65cd51adcc7768fe"
  },
  {
   "cell_type": "code",
   "source": [
    "lowr_AMB_PA_MECVV = AMB_PA_MECVV['EMINA sumatoris comparats'].between(0, 5)\n",
    "Percentatge_lowr_AMB_PA_MECVV = lowr_AMB_PA_MECVV.mean() * 100\n",
    "num_observacions_lowr_AMB_PA_MECVV = lowr_AMB_PA_MECVV.sum()\n",
    "\n",
    "print(f\"Percentatge de lowr_AMB_PA_MECVV: {Percentatge_lowr_AMB_PA_MECVV:.2f}%\")\n",
    "print(f\"Nombre d'observacions en lowr_AMB_PA_MECVV: {num_observacions_lowr_AMB_PA_MECVV}\")"
   ],
   "metadata": {
    "collapsed": false
   },
   "id": "9c654bd5fc00ed9b",
   "outputs": [],
   "execution_count": null
  },
  {
   "cell_type": "code",
   "source": [
    "modr_AMB_PA_MECVV = AMB_PA_MECVV['EMINA sumatoris comparats'].between(6, 10)\n",
    "Percentatge_modr_AMB_PA_MECVV = modr_AMB_PA_MECVV.mean() * 100\n",
    "num_observacions_modr_AMB_PA_MECVV = modr_AMB_PA_MECVV.sum()\n",
    "\n",
    "print(f\"Percentatge de modr_AMB_PA_MECVV: {Percentatge_modr_AMB_PA_MECVV:.2f}%\")\n",
    "print(f\"Nombre d'observacions en modr_AMB_PA_MECVV: {num_observacions_modr_AMB_PA_MECVV}\")"
   ],
   "metadata": {
    "collapsed": false
   },
   "id": "9db757d3983ea0af",
   "outputs": [],
   "execution_count": null
  },
  {
   "cell_type": "code",
   "source": [
    "highr_AMB_PA_MECVV = AMB_PA_MECVV['EMINA sumatoris comparats'].between(11, 15)\n",
    "Percentatge_highr_AMB_PA_MECVV = highr_AMB_PA_MECVV.mean() * 100\n",
    "num_observacions_highr_AMB_PA_MECVV = highr_AMB_PA_MECVV.sum()\n",
    "\n",
    "print(f\"Percentatge de highr_AMB_PA_MECVV: {Percentatge_highr_AMB_PA_MECVV:.2f}%\")\n",
    "print(f\"Nombre d'observacions en highr_AMB_PA_MECVV: {num_observacions_highr_AMB_PA_MECVV}\")"
   ],
   "metadata": {
    "collapsed": false
   },
   "id": "197a55d2409932d7",
   "outputs": [],
   "execution_count": null
  },
  {
   "cell_type": "markdown",
   "source": [
    "##### SENSE_PA"
   ],
   "metadata": {
    "collapsed": false
   },
   "id": "1c2022f06ea6ec0f"
  },
  {
   "cell_type": "code",
   "source": [
    "lowr_SENSE_PA = SENSE_PA['EMINA sumatoris comparats'].between(0, 5)\n",
    "Percentatge_lowr_SENSE_PA = lowr_SENSE_PA.mean() * 100\n",
    "num_observacions_lowr_SENSE_PA = lowr_SENSE_PA.sum()\n",
    "\n",
    "print(f\"Percentatge de lowr_SENSE_PA: {Percentatge_lowr_SENSE_PA:.2f}%\")\n",
    "print(f\"Nombre d'observacions en lowr_SENSE_PA: {num_observacions_lowr_SENSE_PA}\")"
   ],
   "metadata": {
    "collapsed": false
   },
   "id": "5f0c44256385943a",
   "outputs": [],
   "execution_count": null
  },
  {
   "cell_type": "code",
   "source": [
    "modr_SENSE_PA = SENSE_PA['EMINA sumatoris comparats'].between(6, 10)\n",
    "Percentatge_modr_SENSE_PA = modr_SENSE_PA.mean() * 100\n",
    "num_observacions_modr_SENSE_PA = modr_SENSE_PA.sum()\n",
    "\n",
    "print(f\"Percentatge de modr_SENSE_PA: {Percentatge_modr_SENSE_PA:.2f}%\")\n",
    "print(f\"Nombre d'observacions en modr_SENSE_PA: {num_observacions_modr_SENSE_PA}\")"
   ],
   "metadata": {
    "collapsed": false
   },
   "id": "93531228404d51d7",
   "outputs": [],
   "execution_count": null
  },
  {
   "cell_type": "code",
   "source": [
    "highr_SENSE_PA = SENSE_PA['EMINA sumatoris comparats'].between(11, 15)\n",
    "Percentatge_highr_SENSE_PA = highr_SENSE_PA.mean() * 100\n",
    "num_observacions_highr_SENSE_PA = highr_SENSE_PA.sum()\n",
    "\n",
    "print(f\"Percentatge de highr_SENSE_PA: {Percentatge_highr_SENSE_PA:.2f}%\")\n",
    "print(f\"Nombre d'observacions en highr_SENSE_PA: {num_observacions_highr_SENSE_PA}\")"
   ],
   "metadata": {
    "collapsed": false
   },
   "id": "a6054a66f68d8856",
   "outputs": [],
   "execution_count": null
  },
  {
   "cell_type": "markdown",
   "source": [
    "##### TOTAL"
   ],
   "metadata": {
    "collapsed": false
   },
   "id": "fc31bf6a07698f11"
  },
  {
   "cell_type": "code",
   "source": [
    "lowr_TOTAL = TOTAL['EMINA sumatoris comparats'].between(0, 5)\n",
    "Percentatge_lowr_TOTAL = lowr_TOTAL.mean() * 100\n",
    "num_observacions_lowr_TOTAL = lowr_TOTAL.sum()\n",
    "\n",
    "print(f\"Percentatge de lowr_TOTAL: {Percentatge_lowr_TOTAL:.2f}%\")\n",
    "print(f\"Nombre d'observacions en lowr_TOTAL: {num_observacions_lowr_TOTAL}\")"
   ],
   "metadata": {
    "collapsed": false
   },
   "id": "8a0a240762acb6f2",
   "outputs": [],
   "execution_count": null
  },
  {
   "cell_type": "code",
   "source": [
    "modr_TOTAL = TOTAL['EMINA sumatoris comparats'].between(6, 10)\n",
    "Percentatge_modr_TOTAL = modr_TOTAL.mean() * 100\n",
    "num_observacions_modr_TOTAL = modr_TOTAL.sum()\n",
    "\n",
    "print(f\"Percentatge de modr_TOTAL: {Percentatge_modr_TOTAL:.2f}%\")\n",
    "print(f\"Nombre d'observacions en modr_TOTAL: {num_observacions_modr_TOTAL}\")"
   ],
   "metadata": {
    "collapsed": false
   },
   "id": "b8afa6cff5e1f599",
   "outputs": [],
   "execution_count": null
  },
  {
   "cell_type": "code",
   "source": [
    "highr_TOTAL = TOTAL['EMINA sumatoris comparats'].between(11, 15)\n",
    "Percentatge_highr_TOTAL = highr_TOTAL.mean() * 100\n",
    "num_observacions_highr_TOTAL = highr_TOTAL.sum()\n",
    "\n",
    "print(f\"Percentatge de highr_TOTAL: {Percentatge_highr_TOTAL:.2f}%\")\n",
    "print(f\"Nombre d'observacions en highr_TOTAL: {num_observacions_highr_TOTAL}\")"
   ],
   "metadata": {
    "collapsed": false
   },
   "id": "b236874dc884b80c",
   "outputs": [],
   "execution_count": null
  },
  {
   "cell_type": "markdown",
   "source": [
    "#### P-valor"
   ],
   "metadata": {
    "collapsed": false
   },
   "id": "2087f75b39abb3f5"
  },
  {
   "cell_type": "markdown",
   "source": [
    "##### Risc baix"
   ],
   "metadata": {
    "collapsed": false
   },
   "id": "bd9720df400cda6f"
  },
  {
   "cell_type": "code",
   "source": [
    "contingency_table_12 = pd.crosstab(index=AMB_PA['EMINA sumatoris comparats'].between(0,5), columns=AMB_PA_MECVV['EMINA sumatoris comparats'].between(0,5))\n",
    "\n",
    "chi2_12, p_value_12, dof_12, expected_12 = chi2_contingency(contingency_table_12)\n",
    "\n",
    "print(\"Estadístic xi-quadrat entre AMB_PA i AMB_PA_MECVV:\", chi2_12)\n",
    "print(\"P-valor entre AMB_PA i AMB_PA_MECVV:\", p_value_12)\n",
    "\n",
    "if p_value_12 < 0.05:\n",
    "    print(\"Hi ha diferències significatives entre les distribucions d'EMINA en AMB_PA i AMB_PA_MECVV.\")\n",
    "else:\n",
    "    print(\"No hi ha diferències significatives entre les distribucions d'EMINA en AMB_PA i AMB_PA_MECVV.\")"
   ],
   "metadata": {
    "collapsed": false
   },
   "id": "62d1a62e19059390",
   "outputs": [],
   "execution_count": null
  },
  {
   "cell_type": "code",
   "source": [
    "contingency_table_13 = pd.crosstab(index=AMB_PA['EMINA sumatoris comparats'].between(0,5), columns=SENSE_PA['EMINA sumatoris comparats'].between(0,5))\n",
    "\n",
    "chi2_13, p_value_13, dof_13, expected_13 = chi2_contingency(contingency_table_13)\n",
    "\n",
    "print(\"Estadístic xi-quadrat entre AMB_PA i SENSE_PA:\", chi2_13)\n",
    "print(\"P-valor entre AMB_PA i SENSE_PA:\", p_value_13)\n",
    "\n",
    "if p_value_13 < 0.05:\n",
    "    print(\"Hi ha diferències significatives entre les distribucions d'EMINA en AMB_PA i SENSE_PA.\")\n",
    "else:\n",
    "    print(\"No hi ha diferències significatives entre les distribucions d'EMINA en AMB_PA i SENSE_PA.\")"
   ],
   "metadata": {
    "collapsed": false
   },
   "id": "54d4dea3b6b5db5f",
   "outputs": [],
   "execution_count": null
  },
  {
   "cell_type": "code",
   "source": [
    "contingency_table_23 = pd.crosstab(index=AMB_PA_MECVV['EMINA sumatoris comparats'].between(0,5), columns=SENSE_PA['EMINA sumatoris comparats'].between(0,5))\n",
    "\n",
    "chi2_23, p_value_23, dof_23, expected_23 = chi2_contingency(contingency_table_23)\n",
    "\n",
    "print(\"Estadístic xi-quadrat entre AMB_PA_MECVV i SENSE_PA:\", chi2_23)\n",
    "print(\"P-valor entre AMB_PA_MECVV i SENSE_PA:\", p_value_23)\n",
    "\n",
    "if p_value_23 < 0.05:\n",
    "    print(\"Hi ha diferències significatives entre les distribucions d'EMINA en AMB_PA_MECVV i SENSE_PA.\")\n",
    "else:\n",
    "    print(\"No hi ha diferències significatives entre les distribucions d'EMINA en AMB_PA_MECVV i SENSE_PA.\")"
   ],
   "metadata": {
    "collapsed": false
   },
   "id": "a8346b6e6be4efed",
   "outputs": [],
   "execution_count": null
  },
  {
   "cell_type": "code",
   "source": [
    "contingency_table_14 = pd.crosstab(index=AMB_PA['EMINA sumatoris comparats'].between(0,5), columns=TOTAL['EMINA sumatoris comparats'].between(0,5))\n",
    "\n",
    "chi2_14, p_value_14, dof_14, expected_14 = chi2_contingency(contingency_table_14)\n",
    "\n",
    "print(\"Estadístic xi-quadrat entre AMB_PA i TOTAL:\", chi2_14)\n",
    "print(\"P-valor entre AMB_PA i TOTAL:\", p_value_14)\n",
    "\n",
    "if p_value_14 < 0.05:\n",
    "    print(\"Hi ha diferències significatives entre les distribucions d'EMINA en AMB_PA i TOTAL.\")\n",
    "else:\n",
    "    print(\"No hi ha diferències significatives entre les distribucions d'EMINA en AMB_PA i TOTAL.\")"
   ],
   "metadata": {
    "collapsed": false
   },
   "id": "26d1101d6125a693",
   "outputs": [],
   "execution_count": null
  },
  {
   "cell_type": "code",
   "source": [
    "contingency_table_24 = pd.crosstab(index=AMB_PA_MECVV['EMINA sumatoris comparats'].between(0,5), columns=TOTAL['EMINA sumatoris comparats'].between(0,5))\n",
    "\n",
    "chi2_24, p_value_24, dof_24, expected_24 = chi2_contingency(contingency_table_24)\n",
    "\n",
    "print(\"Estadístic xi-quadrat entre AMB_PA_MECVV i TOTAL:\", chi2_24)\n",
    "print(\"P-valor entre AMB_PA_MECVV i TOTAL:\", p_value_24)\n",
    "\n",
    "if p_value_24 < 0.05:\n",
    "    print(\"Hi ha diferències significatives entre les distribucions d'EMINA en AMB_PA_MECVV i TOTAL.\")\n",
    "else:\n",
    "    print(\"No hi ha diferències significatives entre les distribucions d'EMINA en AMB_PA_MECVV i TOTAL.\")"
   ],
   "metadata": {
    "collapsed": false
   },
   "id": "5895511b9993422f",
   "outputs": [],
   "execution_count": null
  },
  {
   "cell_type": "code",
   "source": [
    "contingency_table_34 = pd.crosstab(index=SENSE_PA['EMINA sumatoris comparats'].between(0,5), columns=TOTAL['EMINA sumatoris comparats'].between(0,5))\n",
    "\n",
    "chi2_34, p_value_34, dof_34, expected_34 = chi2_contingency(contingency_table_34)\n",
    "\n",
    "print(\"Estadístic xi-quadrat entre SENSE_PA i TOTAL:\", chi2_34)\n",
    "print(\"P-valor entre SENSE_PA i TOTAL:\", p_value_34)\n",
    "\n",
    "if p_value_34 < 0.05:\n",
    "    print(\"Hi ha diferències significatives entre les distribucions d'EMINA en SENSE_PA i TOTAL.\")\n",
    "else:\n",
    "    print(\"No hi ha diferències significatives entre les distribucions d'EMINA en SENSE_PA i TOTAL.\")"
   ],
   "metadata": {
    "collapsed": false
   },
   "id": "b72c68693583e183",
   "outputs": [],
   "execution_count": null
  },
  {
   "cell_type": "markdown",
   "source": [
    "##### Risc moderat"
   ],
   "metadata": {
    "collapsed": false
   },
   "id": "be49bd7a4f19319c"
  },
  {
   "cell_type": "code",
   "source": [
    "contingency_table_12 = pd.crosstab(index=AMB_PA['EMINA sumatoris comparats'].between(6,10), columns=AMB_PA_MECVV['EMINA sumatoris comparats'].between(6,10))\n",
    "\n",
    "chi2_12, p_value_12, dof_12, expected_12 = chi2_contingency(contingency_table_12)\n",
    "\n",
    "print(\"Estadístic xi-quadrat entre AMB_PA i AMB_PA_MECVV:\", chi2_12)\n",
    "print(\"P-valor entre AMB_PA i AMB_PA_MECVV:\", p_value_12)\n",
    "\n",
    "if p_value_12 < 0.05:\n",
    "    print(\"Hi ha diferències significatives entre les distribucions d'EMINA en AMB_PA i AMB_PA_MECVV.\")\n",
    "else:\n",
    "    print(\"No hi ha diferències significatives entre les distribucions d'EMINA en AMB_PA i AMB_PA_MECVV.\")"
   ],
   "metadata": {
    "collapsed": false
   },
   "id": "96c8872fb9bc18d4",
   "outputs": [],
   "execution_count": null
  },
  {
   "cell_type": "code",
   "source": [
    "contingency_table_13 = pd.crosstab(index=AMB_PA['EMINA sumatoris comparats'].between(6,10), columns=SENSE_PA['EMINA sumatoris comparats'].between(6,10))\n",
    "\n",
    "chi2_13, p_value_13, dof_13, expected_13 = chi2_contingency(contingency_table_13)\n",
    "\n",
    "print(\"Estadístic xi-quadrat entre AMB_PA i SENSE_PA:\", chi2_13)\n",
    "print(\"P-valor entre AMB_PA i SENSE_PA:\", p_value_13)\n",
    "\n",
    "if p_value_13 < 0.05:\n",
    "    print(\"Hi ha diferències significatives entre les distribucions d'EMINA en AMB_PA i SENSE_PA.\")\n",
    "else:\n",
    "    print(\"No hi ha diferències significatives entre les distribucions d'EMINA en AMB_PA i SENSE_PA.\")"
   ],
   "metadata": {
    "collapsed": false
   },
   "id": "9fc95bac17d2e9e2",
   "outputs": [],
   "execution_count": null
  },
  {
   "cell_type": "code",
   "source": [
    "contingency_table_23 = pd.crosstab(index=AMB_PA_MECVV['EMINA sumatoris comparats'].between(6,10), columns=SENSE_PA['EMINA sumatoris comparats'].between(6,10))\n",
    "\n",
    "chi2_23, p_value_23, dof_23, expected_23 = chi2_contingency(contingency_table_23)\n",
    "\n",
    "print(\"Estadístic xi-quadrat entre AMB_PA_MECVV i SENSE_PA:\", chi2_23)\n",
    "print(\"P-valor entre AMB_PA_MECVV i SENSE_PA:\", p_value_23)\n",
    "\n",
    "if p_value_23 < 0.05:\n",
    "    print(\"Hi ha diferències significatives entre les distribucions d'EMINA en AMB_PA_MECVV i SENSE_PA.\")\n",
    "else:\n",
    "    print(\"No hi ha diferències significatives entre les distribucions d'EMINA en AMB_PA_MECVV i SENSE_PA.\")"
   ],
   "metadata": {
    "collapsed": false
   },
   "id": "21ba19ca2b49a897",
   "outputs": [],
   "execution_count": null
  },
  {
   "cell_type": "code",
   "source": [
    "contingency_table_14 = pd.crosstab(index=AMB_PA['EMINA sumatoris comparats'].between(6,10), columns=TOTAL['EMINA sumatoris comparats'].between(6,10))\n",
    "\n",
    "chi2_14, p_value_14, dof_14, expected_14 = chi2_contingency(contingency_table_14)\n",
    "\n",
    "print(\"Estadístic xi-quadrat entre AMB_PA i TOTAL:\", chi2_14)\n",
    "print(\"P-valor entre AMB_PA i TOTAL:\", p_value_14)\n",
    "\n",
    "if p_value_14 < 0.05:\n",
    "    print(\"Hi ha diferències significatives entre les distribucions d'EMINA en AMB_PA i TOTAL.\")\n",
    "else:\n",
    "    print(\"No hi ha diferències significatives entre les distribucions d'EMINA en AMB_PA i TOTAL.\")"
   ],
   "metadata": {
    "collapsed": false
   },
   "id": "94a619aac0b9d15f",
   "outputs": [],
   "execution_count": null
  },
  {
   "cell_type": "code",
   "source": [
    "contingency_table_24 = pd.crosstab(index=AMB_PA_MECVV['EMINA sumatoris comparats'].between(6,10), columns=TOTAL['EMINA sumatoris comparats'].between(6,10))\n",
    "\n",
    "chi2_24, p_value_24, dof_24, expected_24 = chi2_contingency(contingency_table_24)\n",
    "\n",
    "print(\"Estadístic xi-quadrat entre AMB_PA_MECVV i TOTAL:\", chi2_24)\n",
    "print(\"P-valor entre AMB_PA_MECVV i TOTAL:\", p_value_24)\n",
    "\n",
    "if p_value_24 < 0.05:\n",
    "    print(\"Hi ha diferències significatives entre les distribucions d'EMINA en AMB_PA_MECVV i TOTAL.\")\n",
    "else:\n",
    "    print(\"No hi ha diferències significatives entre les distribucions d'EMINA en AMB_PA_MECVV i TOTAL.\")"
   ],
   "metadata": {
    "collapsed": false
   },
   "id": "a73f8c05a8e9edb0",
   "outputs": [],
   "execution_count": null
  },
  {
   "cell_type": "code",
   "source": [
    "contingency_table_34 = pd.crosstab(index=SENSE_PA['EMINA sumatoris comparats'].between(6,10), columns=TOTAL['EMINA sumatoris comparats'].between(6,10))\n",
    "\n",
    "chi2_34, p_value_34, dof_34, expected_34 = chi2_contingency(contingency_table_34)\n",
    "\n",
    "print(\"Estadístic xi-quadrat entre SENSE_PA i TOTAL:\", chi2_34)\n",
    "print(\"P-valor entre SENSE_PA i TOTAL:\", p_value_34)\n",
    "\n",
    "if p_value_34 < 0.05:\n",
    "    print(\"Hi ha diferències significatives entre les distribucions d'EMINA en SENSE_PA i TOTAL.\")\n",
    "else:\n",
    "    print(\"No hi ha diferències significatives entre les distribucions d'EMINA en SENSE_PA i TOTAL.\")"
   ],
   "metadata": {
    "collapsed": false
   },
   "id": "1672e47945619054",
   "outputs": [],
   "execution_count": null
  },
  {
   "cell_type": "markdown",
   "source": [
    "##### Risc alt"
   ],
   "metadata": {
    "collapsed": false
   },
   "id": "e488142beffef25c"
  },
  {
   "cell_type": "code",
   "source": [
    "contingency_table_12 = pd.crosstab(index=AMB_PA['EMINA sumatoris comparats'].between(11,15), columns=AMB_PA_MECVV['EMINA sumatoris comparats'].between(11,15))\n",
    "\n",
    "chi2_12, p_value_12, dof_12, expected_12 = chi2_contingency(contingency_table_12)\n",
    "\n",
    "print(\"Estadístic xi-quadrat entre AMB_PA i AMB_PA_MECVV:\", chi2_12)\n",
    "print(\"P-valor entre AMB_PA i AMB_PA_MECVV:\", p_value_12)\n",
    "\n",
    "if p_value_12 < 0.05:\n",
    "    print(\"Hi ha diferències significatives entre les distribucions d'EMINA en AMB_PA i AMB_PA_MECVV.\")\n",
    "else:\n",
    "    print(\"No hi ha diferències significatives entre les distribucions d'EMINA en AMB_PA i AMB_PA_MECVV.\")"
   ],
   "metadata": {
    "collapsed": false
   },
   "id": "6bcbf3b4f94e1a78",
   "outputs": [],
   "execution_count": null
  },
  {
   "cell_type": "code",
   "source": [
    "contingency_table_13 = pd.crosstab(index=AMB_PA['EMINA sumatoris comparats'].between(11,15), columns=SENSE_PA['EMINA sumatoris comparats'].between(11,15))\n",
    "\n",
    "chi2_13, p_value_13, dof_13, expected_13 = chi2_contingency(contingency_table_13)\n",
    "\n",
    "print(\"Estadístic xi-quadrat entre AMB_PA i SENSE_PA:\", chi2_13)\n",
    "print(\"P-valor entre AMB_PA i SENSE_PA:\", p_value_13)\n",
    "\n",
    "if p_value_13 < 0.05:\n",
    "    print(\"Hi ha diferències significatives entre les distribucions d'EMINA en AMB_PA i SENSE_PA.\")\n",
    "else:\n",
    "    print(\"No hi ha diferències significatives entre les distribucions d'EMINA en AMB_PA i SENSE_PA.\")"
   ],
   "metadata": {
    "collapsed": false
   },
   "id": "89258d59b878f650",
   "outputs": [],
   "execution_count": null
  },
  {
   "cell_type": "code",
   "source": [
    "contingency_table_23 = pd.crosstab(index=AMB_PA_MECVV['EMINA sumatoris comparats'].between(11,15), columns=SENSE_PA['EMINA sumatoris comparats'].between(11,15))\n",
    "\n",
    "chi2_23, p_value_23, dof_23, expected_23 = chi2_contingency(contingency_table_23)\n",
    "\n",
    "print(\"Estadístic xi-quadrat entre AMB_PA_MECVV i SENSE_PA:\", chi2_23)\n",
    "print(\"P-valor entre AMB_PA_MECVV i SENSE_PA:\", p_value_23)\n",
    "\n",
    "if p_value_23 < 0.05:\n",
    "    print(\"Hi ha diferències significatives entre les distribucions d'EMINA en AMB_PA_MECVV i SENSE_PA.\")\n",
    "else:\n",
    "    print(\"No hi ha diferències significatives entre les distribucions d'EMINA en AMB_PA_MECVV i SENSE_PA.\")"
   ],
   "metadata": {
    "collapsed": false
   },
   "id": "3b687be616b16461",
   "outputs": [],
   "execution_count": null
  },
  {
   "cell_type": "code",
   "source": [
    "contingency_table_14 = pd.crosstab(index=AMB_PA['EMINA sumatoris comparats'].between(11,15), columns=TOTAL['EMINA sumatoris comparats'].between(11,15))\n",
    "\n",
    "chi2_14, p_value_14, dof_14, expected_14 = chi2_contingency(contingency_table_14)\n",
    "\n",
    "print(\"Estadístic xi-quadrat entre AMB_PA i TOTAL:\", chi2_14)\n",
    "print(\"P-valor entre AMB_PA i TOTAL:\", p_value_14)\n",
    "\n",
    "if p_value_14 < 0.05:\n",
    "    print(\"Hi ha diferències significatives entre les distribucions d'EMINA en AMB_PA i TOTAL.\")\n",
    "else:\n",
    "    print(\"No hi ha diferències significatives entre les distribucions d'EMINA en AMB_PA i TOTAL.\")"
   ],
   "metadata": {
    "collapsed": false
   },
   "id": "10d529154f066318",
   "outputs": [],
   "execution_count": null
  },
  {
   "cell_type": "code",
   "source": [
    "contingency_table_24 = pd.crosstab(index=AMB_PA_MECVV['EMINA sumatoris comparats'].between(11,15), columns=TOTAL['EMINA sumatoris comparats'].between(11,15))\n",
    "\n",
    "chi2_24, p_value_24, dof_24, expected_24 = chi2_contingency(contingency_table_24)\n",
    "\n",
    "print(\"Estadístic xi-quadrat entre AMB_PA_MECVV i TOTAL:\", chi2_24)\n",
    "print(\"P-valor entre AMB_PA_MECVV i TOTAL:\", p_value_24)\n",
    "\n",
    "if p_value_24 < 0.05:\n",
    "    print(\"Hi ha diferències significatives entre les distribucions d'EMINA en AMB_PA_MECVV i TOTAL.\")\n",
    "else:\n",
    "    print(\"No hi ha diferències significatives entre les distribucions d'EMINA en AMB_PA_MECVV i TOTAL.\")"
   ],
   "metadata": {
    "collapsed": false
   },
   "id": "3488eff4a7d12c7b",
   "outputs": [],
   "execution_count": null
  },
  {
   "cell_type": "code",
   "source": [
    "contingency_table_34 = pd.crosstab(index=SENSE_PA['EMINA sumatoris comparats'].between(11,15), columns=TOTAL['EMINA sumatoris comparats'].between(11,15))\n",
    "\n",
    "chi2_34, p_value_34, dof_34, expected_34 = chi2_contingency(contingency_table_34)\n",
    "\n",
    "print(\"Estadístic xi-quadrat entre SENSE_PA i TOTAL:\", chi2_34)\n",
    "print(\"P-valor entre SENSE_PA i TOTAL:\", p_value_34)\n",
    "\n",
    "if p_value_34 < 0.05:\n",
    "    print(\"Hi ha diferències significatives entre les distribucions d'EMINA en SENSE_PA i TOTAL.\")\n",
    "else:\n",
    "    print(\"No hi ha diferències significatives entre les distribucions d'EMINA en SENSE_PA i TOTAL.\")"
   ],
   "metadata": {
    "collapsed": false
   },
   "id": "2d4749924b1e6162",
   "outputs": [],
   "execution_count": null
  },
  {
   "cell_type": "markdown",
   "source": [
    "## Index de la canadenca (escala neurològica canadenca)"
   ],
   "metadata": {
    "collapsed": false
   },
   "id": "282b8cb64353c318"
  },
  {
   "cell_type": "markdown",
   "source": [
    "### Mitjana"
   ],
   "metadata": {
    "collapsed": false
   },
   "id": "15a24e6c45346c9e"
  },
  {
   "cell_type": "code",
   "source": [
    "Mitjana_canad = AMB_PA['Canadenca sumatoris comparats'].mean()\n",
    "desviacio_estandard_canad = AMB_PA['Canadenca sumatoris comparats'].std()\n",
    "\n",
    "resultat = f\"{Mitjana_canad:.2f} ± {desviacio_estandard_canad:.2f}\"\n",
    "print(\"Mitjana ± Desviació Estàndard de la canadenca:\", resultat)"
   ],
   "metadata": {
    "collapsed": false
   },
   "id": "1726c91356b0f3ed",
   "outputs": [],
   "execution_count": null
  },
  {
   "cell_type": "code",
   "source": [
    "Mitjana_canad = AMB_PA_MECVV['Canadenca sumatoris comparats'].mean()\n",
    "desviacio_estandard_canad = AMB_PA_MECVV['Canadenca sumatoris comparats'].std()\n",
    "\n",
    "resultat = f\"{Mitjana_canad:.2f} ± {desviacio_estandard_canad:.2f}\"\n",
    "print(\"Mitjana ± Desviació Estàndard de la canadenca:\", resultat)"
   ],
   "metadata": {
    "collapsed": false
   },
   "id": "fd4816fe534b4e69",
   "outputs": [],
   "execution_count": null
  },
  {
   "cell_type": "code",
   "source": [
    "Mitjana_canad = SENSE_PA['Canadenca sumatoris comparats'].mean()\n",
    "desviacio_estandard_canad = SENSE_PA['Canadenca sumatoris comparats'].std()\n",
    "\n",
    "resultat = f\"{Mitjana_canad:.2f} ± {desviacio_estandard_canad:.2f}\"\n",
    "print(\"Mitjana ± Desviació Estàndard de la canadenca:\", resultat)"
   ],
   "metadata": {
    "collapsed": false
   },
   "id": "8d4c7c29bc97322f",
   "outputs": [],
   "execution_count": null
  },
  {
   "cell_type": "code",
   "source": [
    "Mitjana_canad = TOTAL['Canadenca sumatoris comparats'].mean()\n",
    "desviacio_estandard_canad = TOTAL['Canadenca sumatoris comparats'].std()\n",
    "\n",
    "resultat = f\"{Mitjana_canad:.2f} ± {desviacio_estandard_canad:.2f}\"\n",
    "print(\"Mitjana ± Desviació Estàndard de la canadenca:\", resultat)"
   ],
   "metadata": {
    "collapsed": false
   },
   "id": "2dbcf16d2a34a7d9",
   "outputs": [],
   "execution_count": null
  },
  {
   "cell_type": "markdown",
   "source": [
    "#### Comparació distributiva"
   ],
   "metadata": {
    "collapsed": false
   },
   "id": "92e5ea6014fc5856"
  },
  {
   "cell_type": "markdown",
   "source": [
    "##### Normalitat i p-valor"
   ],
   "metadata": {
    "collapsed": false
   },
   "id": "1ef4f66f1c7a25fa"
  },
  {
   "cell_type": "markdown",
   "source": [
    "NORMALITAT: Tots els grups segueixen una distribució normal"
   ],
   "metadata": {
    "collapsed": false
   },
   "id": "851311fc55b2df16"
  },
  {
   "cell_type": "code",
   "source": [
    "t_stat_12, p_val_12 = ttest_ind(AMB_PA['Canadenca sumatoris comparats'], AMB_PA_MECVV['Canadenca sumatoris comparats'], equal_var=False)\n",
    "print(\"P-valor entre AMB_PA i AMB_PA_MECVV:\", p_val_12)"
   ],
   "metadata": {
    "collapsed": false
   },
   "id": "45db572ac843996f",
   "outputs": [],
   "execution_count": null
  },
  {
   "cell_type": "code",
   "source": [
    "t_stat_13, p_val_13 = ttest_ind(AMB_PA['Canadenca sumatoris comparats'], SENSE_PA['Canadenca sumatoris comparats'], equal_var=False)\n",
    "print(\"P-valor entre AMB_PA i SENSE_PA:\", p_val_13)"
   ],
   "metadata": {
    "collapsed": false
   },
   "id": "782b348d4989da5d",
   "outputs": [],
   "execution_count": null
  },
  {
   "cell_type": "code",
   "source": [
    "t_stat_23, p_val_23 = ttest_ind(AMB_PA_MECVV['Canadenca sumatoris comparats'], SENSE_PA['Canadenca sumatoris comparats'], equal_var=False)\n",
    "print(\"P-valor entre AMB_PA_MECVV i SENSE_PA:\", p_val_23)"
   ],
   "metadata": {
    "collapsed": false
   },
   "id": "8ca9809757c8ad47",
   "outputs": [],
   "execution_count": null
  },
  {
   "cell_type": "code",
   "source": [
    "t_stat_14, p_val_14 = ttest_ind(AMB_PA['Canadenca sumatoris comparats'], TOTAL['Canadenca sumatoris comparats'], equal_var=False)\n",
    "print(\"P-valor entre AMB_PA i TOTAL:\", p_val_14)"
   ],
   "metadata": {
    "collapsed": false
   },
   "id": "f9962beaf8f4729e",
   "outputs": [],
   "execution_count": null
  },
  {
   "cell_type": "code",
   "source": [
    "t_stat_24, p_val_24 = ttest_ind(AMB_PA_MECVV['Canadenca sumatoris comparats'], TOTAL['Canadenca sumatoris comparats'], equal_var=False)\n",
    "print(\"P-valor entre AMB_PA_MECVV i TOTAL:\", p_val_24)"
   ],
   "metadata": {
    "collapsed": false
   },
   "id": "8b784a0f2515ac2b",
   "outputs": [],
   "execution_count": null
  },
  {
   "cell_type": "code",
   "source": [
    "t_stat_34, p_val_34 = ttest_ind(SENSE_PA['Canadenca sumatoris comparats'], TOTAL['Canadenca sumatoris comparats'], equal_var=False)\n",
    "print(\"P-valor entre SENSE_PA i TOTAL:\", p_val_34)"
   ],
   "metadata": {
    "collapsed": false
   },
   "id": "9830b01d186c68f",
   "outputs": [],
   "execution_count": null
  },
  {
   "cell_type": "markdown",
   "source": [
    "### Valors canadenca"
   ],
   "metadata": {
    "collapsed": false
   },
   "id": "8c35d351cc429a41"
  },
  {
   "cell_type": "markdown",
   "source": [
    "##### AMB_PA "
   ],
   "metadata": {
    "collapsed": false
   },
   "id": "d72617365c875937"
  },
  {
   "cell_type": "code",
   "source": [
    "mild_AMB_PA = AMB_PA['Canadenca sumatoris comparats'].between(10.5, 11.5)\n",
    "Percentatge_mild_AMB_PA = mild_AMB_PA.mean() * 100\n",
    "num_observacions_mild_AMB_PA = mild_AMB_PA.sum()\n",
    "\n",
    "print(f\"Percentatge de mild_AMB_PA: {Percentatge_mild_AMB_PA:.2f}%\")\n",
    "print(f\"Nombre d'observacions en mild_AMB_PA: {num_observacions_mild_AMB_PA}\")"
   ],
   "metadata": {
    "collapsed": false
   },
   "id": "9b2f741db142b14d",
   "outputs": [],
   "execution_count": null
  },
  {
   "cell_type": "code",
   "source": [
    "modneu_AMB_PA = AMB_PA['Canadenca sumatoris comparats'].between(5,10)\n",
    "Percentatge_modneu_AMB_PA = modneu_AMB_PA.mean() * 100\n",
    "num_observacions_modneu_AMB_PA = modneu_AMB_PA.sum()\n",
    "\n",
    "print(f\"Percentatge de modneu_AMB_PA: {Percentatge_modneu_AMB_PA:.2f}%\")\n",
    "print(f\"Nombre d'observacions en modneu_AMB_PA: {num_observacions_modneu_AMB_PA}\")"
   ],
   "metadata": {
    "collapsed": false
   },
   "id": "fbf43da02ae2eeea",
   "outputs": [],
   "execution_count": null
  },
  {
   "cell_type": "code",
   "source": [
    "sevneu_AMB_PA = AMB_PA['Canadenca sumatoris comparats'].between(1.5, 4.5)\n",
    "Percentatge_sevneu_AMB_PA = sevneu_AMB_PA.mean() * 100\n",
    "num_observacions_sevneu_AMB_PA = sevneu_AMB_PA.sum()\n",
    "\n",
    "print(f\"Percentatge de sevneu_AMB_PA: {Percentatge_sevneu_AMB_PA:.2f}%\")\n",
    "print(f\"Nombre d'observacions en sevneu_AMB_PA: {num_observacions_sevneu_AMB_PA}\")"
   ],
   "metadata": {
    "collapsed": false
   },
   "id": "ce42acb0a2a0d1b3",
   "outputs": [],
   "execution_count": null
  },
  {
   "cell_type": "markdown",
   "source": [
    "##### AMB_PA_MECVV"
   ],
   "metadata": {
    "collapsed": false
   },
   "id": "231b2600f1a1159d"
  },
  {
   "cell_type": "code",
   "source": [
    "mild_AMB_PA_MECVV = AMB_PA_MECVV['Canadenca sumatoris comparats'].between(10.5, 11.5)\n",
    "Percentatge_mild_AMB_PA_MECVV = mild_AMB_PA_MECVV.mean() * 100\n",
    "num_observacions_mild_AMB_PA_MECVV = mild_AMB_PA_MECVV.sum()\n",
    "\n",
    "print(f\"Percentatge de mild_AMB_PA_MECVV: {Percentatge_mild_AMB_PA_MECVV:.2f}%\")\n",
    "print(f\"Nombre d'observacions en mild_AMB_PA_MECVV: {num_observacions_mild_AMB_PA_MECVV}\")"
   ],
   "metadata": {
    "collapsed": false
   },
   "id": "34adbe66657bdce7",
   "outputs": [],
   "execution_count": null
  },
  {
   "cell_type": "code",
   "source": [
    "modneu_AMB_PA_MECVV = AMB_PA_MECVV['Canadenca sumatoris comparats'].between(5,10)\n",
    "Percentatge_modneu_AMB_PA_MECVV = modneu_AMB_PA_MECVV.mean() * 100\n",
    "num_observacions_modneu_AMB_PA_MECVV = modneu_AMB_PA_MECVV.sum()\n",
    "\n",
    "print(f\"Percentatge de modneu_AMB_PA_MECVV: {Percentatge_modneu_AMB_PA_MECVV:.2f}%\")\n",
    "print(f\"Nombre d'observacions en modneu_AMB_PA_MECVV: {num_observacions_modneu_AMB_PA_MECVV}\")"
   ],
   "metadata": {
    "collapsed": false
   },
   "id": "dfbe1e7c6821bd85",
   "outputs": [],
   "execution_count": null
  },
  {
   "cell_type": "code",
   "source": [
    "sevneu_AMB_PA_MECVV = AMB_PA_MECVV['Canadenca sumatoris comparats'].between(1.5, 4.5)\n",
    "Percentatge_sevneu_AMB_PA_MECVV = sevneu_AMB_PA_MECVV.mean() * 100\n",
    "num_observacions_sevneu_AMB_PA_MECVV = sevneu_AMB_PA_MECVV.sum()\n",
    "\n",
    "print(f\"Percentatge de sevneu_AMB_PA_MECVV: {Percentatge_sevneu_AMB_PA_MECVV:.2f}%\")\n",
    "print(f\"Nombre d'observacions en sevneu_AMB_PA_MECVV: {num_observacions_sevneu_AMB_PA_MECVV}\")"
   ],
   "metadata": {
    "collapsed": false
   },
   "id": "fae104f6f6eb65f",
   "outputs": [],
   "execution_count": null
  },
  {
   "cell_type": "markdown",
   "source": [
    "##### SENSE_PA"
   ],
   "metadata": {
    "collapsed": false
   },
   "id": "a87dd48ce489bd34"
  },
  {
   "cell_type": "code",
   "source": [
    "mild_SENSE_PA = SENSE_PA['Canadenca sumatoris comparats'].between(10.5, 11.5)\n",
    "Percentatge_mild_SENSE_PA = mild_SENSE_PA.mean() * 100\n",
    "num_observacions_mild_SENSE_PA = mild_SENSE_PA.sum()\n",
    "\n",
    "print(f\"Percentatge de mild_SENSE_PA: {Percentatge_mild_SENSE_PA:.2f}%\")\n",
    "print(f\"Nombre d'observacions en mild_SENSE_PA: {num_observacions_mild_SENSE_PA}\")"
   ],
   "metadata": {
    "collapsed": false
   },
   "id": "f6c65d9ee691c80e",
   "outputs": [],
   "execution_count": null
  },
  {
   "cell_type": "code",
   "source": [
    "modneu_SENSE_PA = SENSE_PA['Canadenca sumatoris comparats'].between(5,10)\n",
    "Percentatge_modneu_SENSE_PA = modneu_SENSE_PA.mean() * 100\n",
    "num_observacions_modneu_SENSE_PA = modneu_SENSE_PA.sum()\n",
    "\n",
    "print(f\"Percentatge de modneu_SENSE_PA: {Percentatge_modneu_SENSE_PA:.2f}%\")\n",
    "print(f\"Nombre d'observacions en modneu_SENSE_PA: {num_observacions_modneu_SENSE_PA}\")"
   ],
   "metadata": {
    "collapsed": false
   },
   "id": "4a58823de11ee661",
   "outputs": [],
   "execution_count": null
  },
  {
   "cell_type": "code",
   "source": [
    "sevneu_SENSE_PA = SENSE_PA['Canadenca sumatoris comparats'].between(1.5, 4.5)\n",
    "Percentatge_sevneu_SENSE_PA = sevneu_SENSE_PA.mean() * 100\n",
    "num_observacions_sevneu_SENSE_PA = sevneu_SENSE_PA.sum()\n",
    "\n",
    "print(f\"Percentatge de sevneu_SENSE_PA: {Percentatge_sevneu_SENSE_PA:.2f}%\")\n",
    "print(f\"Nombre d'observacions en sevneu_SENSE_PA: {num_observacions_sevneu_SENSE_PA}\")"
   ],
   "metadata": {
    "collapsed": false
   },
   "id": "f5387c68c3197158",
   "outputs": [],
   "execution_count": null
  },
  {
   "cell_type": "markdown",
   "source": [
    "##### TOTAL"
   ],
   "metadata": {
    "collapsed": false
   },
   "id": "fe41ca918fde43e8"
  },
  {
   "cell_type": "code",
   "source": [
    "mild_TOTAL = TOTAL['Canadenca sumatoris comparats'].between(10.5, 11.5)\n",
    "Percentatge_mild_TOTAL = mild_TOTAL.mean() * 100\n",
    "num_observacions_mild_TOTAL = mild_TOTAL.sum()\n",
    "\n",
    "print(f\"Percentatge de mild_TOTAL: {Percentatge_mild_TOTAL:.2f}%\")\n",
    "print(f\"Nombre d'observacions en mild_TOTAL: {num_observacions_mild_TOTAL}\")"
   ],
   "metadata": {
    "collapsed": false
   },
   "id": "f3dba0e5299fa2bf",
   "outputs": [],
   "execution_count": null
  },
  {
   "cell_type": "code",
   "source": [
    "modneu_TOTAL = TOTAL['Canadenca sumatoris comparats'].between(5,10)\n",
    "Percentatge_modneu_TOTAL = modneu_TOTAL.mean() * 100\n",
    "num_observacions_modneu_TOTAL = modneu_TOTAL.sum()\n",
    "\n",
    "print(f\"Percentatge de modneu_TOTAL: {Percentatge_modneu_TOTAL:.2f}%\")\n",
    "print(f\"Nombre d'observacions en modneu_TOTAL: {num_observacions_modneu_TOTAL}\")"
   ],
   "metadata": {
    "collapsed": false
   },
   "id": "b9410fbc0c772373",
   "outputs": [],
   "execution_count": null
  },
  {
   "cell_type": "code",
   "source": [
    "sevneu_TOTAL = TOTAL['Canadenca sumatoris comparats'].between(1.5, 4.5)\n",
    "Percentatge_sevneu_TOTAL = sevneu_TOTAL.mean() * 100\n",
    "num_observacions_sevneu_TOTAL = sevneu_TOTAL.sum()\n",
    "\n",
    "print(f\"Percentatge de sevneu_TOTAL: {Percentatge_sevneu_TOTAL:.2f}%\")\n",
    "print(f\"Nombre d'observacions en sevneu_TOTAL: {num_observacions_sevneu_TOTAL}\")"
   ],
   "metadata": {
    "collapsed": false
   },
   "id": "483fad65925ddc74",
   "outputs": [],
   "execution_count": null
  },
  {
   "cell_type": "markdown",
   "source": [
    "#### P-valor"
   ],
   "metadata": {
    "collapsed": false
   },
   "id": "29e0b2e7767b2e02"
  },
  {
   "cell_type": "markdown",
   "source": [
    "##### Dèficit neurològic lleuger (mild)"
   ],
   "metadata": {
    "collapsed": false
   },
   "id": "78aafcfae072fc35"
  },
  {
   "cell_type": "code",
   "source": [
    "contingency_table_12 = pd.crosstab(index=AMB_PA['Canadenca sumatoris comparats'].between(10.5,11.5), columns=AMB_PA_MECVV['Canadenca sumatoris comparats'].between(10.5,11.5))\n",
    "\n",
    "chi2_12, p_value_12, dof_12, expected_12 = chi2_contingency(contingency_table_12)\n",
    "\n",
    "print(\"Estadístic xi-quadrat entre AMB_PA i AMB_PA_MECVV:\", chi2_12)\n",
    "print(\"P-valor entre AMB_PA i AMB_PA_MECVV:\", p_value_12)\n",
    "\n",
    "if p_value_12 < 0.05:\n",
    "   print(\"Hi ha diferències significatives entre les distribucions de canadenca en AMB_PA i AMB_PA_MECVV.\")\n",
    "else:\n",
    "   print(\"No hi ha diferències significatives entre les distribucions de canadenca en AMB_PA i AMB_PA_MECVV.\")\n"
   ],
   "metadata": {
    "collapsed": false
   },
   "id": "7d628f5aab2b35a0",
   "outputs": [],
   "execution_count": null
  },
  {
   "cell_type": "code",
   "source": [
    "contingency_table_13 = pd.crosstab(index=AMB_PA['Canadenca sumatoris comparats'].between(10.5,11.5), columns=SENSE_PA['Canadenca sumatoris comparats'].between(10.5,11.5))\n",
    "\n",
    "chi2_13, p_value_13, dof_13, expected_13 = chi2_contingency(contingency_table_13)\n",
    "\n",
    "print(\"Estadístic xi-quadrat entre AMB_PA i SENSE_PA:\", chi2_13)\n",
    "print(\"P-valor entre AMB_PA i SENSE_PA:\", p_value_13)\n",
    "\n",
    "if p_value_13 < 0.05:\n",
    "   print(\"Hi ha diferències significatives entre les distribucions de canadenca en AMB_PA i SENSE_PA.\")\n",
    "else:\n",
    "   print(\"No hi ha diferències significatives entre les distribucions de canadenca en AMB_PA i SENSE_PA.\")"
   ],
   "metadata": {
    "collapsed": false
   },
   "id": "b9e244e3c3d23e10",
   "outputs": [],
   "execution_count": null
  },
  {
   "cell_type": "code",
   "source": [
    "contingency_table_23 = pd.crosstab(index=AMB_PA_MECVV['Canadenca sumatoris comparats'].between(10.5,11.5), columns=SENSE_PA['Canadenca sumatoris comparats'].between(10.5,11.5))\n",
    "\n",
    "chi2_23, p_value_23, dof_23, expected_23 = chi2_contingency(contingency_table_23)\n",
    "\n",
    "print(\"Estadístic xi-quadrat entre AMB_PA_MECVV i SENSE_PA:\", chi2_23)\n",
    "print(\"P-valor entre AMB_PA_MECVV i SENSE_PA:\", p_value_23)\n",
    "\n",
    "if p_value_23 < 0.05:\n",
    "   print(\"Hi ha diferències significatives entre les distribucions de canadenca en AMB_PA_MECVV i SENSE_PA.\")\n",
    "else:\n",
    "   print(\"No hi ha diferències significatives entre les distribucions de canadenca en AMB_PA_MECVV i SENSE_PA.\")"
   ],
   "metadata": {
    "collapsed": false
   },
   "id": "274c6a2b63438e6a",
   "outputs": [],
   "execution_count": null
  },
  {
   "cell_type": "code",
   "source": [
    "contingency_table_14 = pd.crosstab(index=AMB_PA['Canadenca sumatoris comparats'].between(10.5,11.5), columns=TOTAL['Canadenca sumatoris comparats'].between(10.5,11.5))\n",
    "\n",
    "chi2_14, p_value_14, dof_14, expected_14 = chi2_contingency(contingency_table_14)\n",
    "\n",
    "print(\"Estadístic xi-quadrat entre AMB_PA i TOTAL:\", chi2_14)\n",
    "print(\"P-valor entre AMB_PA i TOTAL:\", p_value_14)\n",
    "\n",
    "if p_value_14 < 0.05:\n",
    "    print(\"Hi ha diferències significatives entre les distribucions de canadenca en AMB_PA i TOTAL.\")\n",
    "else:\n",
    "    print(\"No hi ha diferències significatives entre les distribucions de canadenca en AMB_PA i TOTAL.\")"
   ],
   "metadata": {
    "collapsed": false
   },
   "id": "8a00ba7a9426fe22",
   "outputs": [],
   "execution_count": null
  },
  {
   "cell_type": "code",
   "source": [
    "contingency_table_24 = pd.crosstab(index=AMB_PA_MECVV['Canadenca sumatoris comparats'].between(10.5,11.5), columns=TOTAL['Canadenca sumatoris comparats'].between(10.5,11.5))\n",
    "\n",
    "chi2_24, p_value_24, dof_24, expected_24 = chi2_contingency(contingency_table_24)\n",
    "\n",
    "print(\"Estadístic xi-quadrat entre AMB_PA_MECVV i TOTAL:\", chi2_24)\n",
    "print(\"P-valor entre AMB_PA_MECVV i TOTAL:\", p_value_24)\n",
    "\n",
    "if p_value_24 < 0.05:\n",
    "    print(\"Hi ha diferències significatives entre les distribucions de canadenca en AMB_PA_MECVV i TOTAL.\")\n",
    "else:\n",
    "    print(\"No hi ha diferències significatives entre les distribucions de canadenca en AMB_PA_MECVV i TOTAL.\")"
   ],
   "metadata": {
    "collapsed": false
   },
   "id": "a63f23f1fb2203c9",
   "outputs": [],
   "execution_count": null
  },
  {
   "cell_type": "code",
   "source": [
    "contingency_table_34 = pd.crosstab(index=SENSE_PA['Canadenca sumatoris comparats'].between(10.5,11.5), columns=TOTAL['Canadenca sumatoris comparats'].between(10.5,11.5))\n",
    "\n",
    "chi2_34, p_value_34, dof_34, expected_34 = chi2_contingency(contingency_table_34)\n",
    "\n",
    "print(\"Estadístic xi-quadrat entre SENSE_PA i TOTAL:\", chi2_34)\n",
    "print(\"P-valor entre SENSE_PA i TOTAL:\", p_value_34)\n",
    "\n",
    "if p_value_34 < 0.05:\n",
    "    print(\"Hi ha diferències significatives entre les distribucions de canadenca en SENSE_PA i TOTAL.\")\n",
    "else:\n",
    "    print(\"No hi ha diferències significatives entre les distribucions de canadenca en SENSE_PA i TOTAL.\")"
   ],
   "metadata": {
    "collapsed": false
   },
   "id": "3496639627346d3e",
   "outputs": [],
   "execution_count": null
  },
  {
   "cell_type": "markdown",
   "source": [
    "##### Dèficit neurològic moderat"
   ],
   "metadata": {
    "collapsed": false
   },
   "id": "27700a473afb6dec"
  },
  {
   "cell_type": "code",
   "source": [
    "contingency_table_12 = pd.crosstab(index=AMB_PA['Canadenca sumatoris comparats'].between(5,10), columns=AMB_PA_MECVV['Canadenca sumatoris comparats'].between(5,10))\n",
    "\n",
    "chi2_12, p_value_12, dof_12, expected_12 = chi2_contingency(contingency_table_12)\n",
    "\n",
    "print(\"Estadístic xi-quadrat entre AMB_PA i AMB_PA_MECVV:\", chi2_12)\n",
    "print(\"P-valor entre AMB_PA i AMB_PA_MECVV:\", p_value_12)\n",
    "\n",
    "if p_value_12 < 0.05:\n",
    "   print(\"Hi ha diferències significatives entre les distribucions de canadenca en AMB_PA i AMB_PA_MECVV.\")\n",
    "else:\n",
    "   print(\"No hi ha diferències significatives entre les distribucions de canadenca en AMB_PA i AMB_PA_MECVV.\")"
   ],
   "metadata": {
    "collapsed": false
   },
   "id": "6ceccf1a3a2575f0",
   "outputs": [],
   "execution_count": null
  },
  {
   "cell_type": "code",
   "source": [
    "contingency_table_13 = pd.crosstab(index=AMB_PA['Canadenca sumatoris comparats'].between(5,10), columns=SENSE_PA['Canadenca sumatoris comparats'].between(5,10))\n",
    "\n",
    "chi2_13, p_value_13, dof_13, expected_13 = chi2_contingency(contingency_table_13)\n",
    "\n",
    "print(\"Estadístic xi-quadrat entre AMB_PA i SENSE_PA:\", chi2_13)\n",
    "print(\"P-valor entre AMB_PA i SENSE_PA:\", p_value_13)\n",
    "\n",
    "if p_value_13 < 0.05:\n",
    "   print(\"Hi ha diferències significatives entre les distribucions de canadenca en AMB_PA i SENSE_PA.\")\n",
    "else:\n",
    "   print(\"No hi ha diferències significatives entre les distribucions de canadenca en AMB_PA i SENSE_PA.\")"
   ],
   "metadata": {
    "collapsed": false
   },
   "id": "c7307f68ecc921a",
   "outputs": [],
   "execution_count": null
  },
  {
   "cell_type": "code",
   "source": [
    "contingency_table_23 = pd.crosstab(index=AMB_PA_MECVV['Canadenca sumatoris comparats'].between(5,10), columns=SENSE_PA['Canadenca sumatoris comparats'].between(5,10))\n",
    "\n",
    "chi2_23, p_value_23, dof_23, expected_23 = chi2_contingency(contingency_table_23)\n",
    "\n",
    "print(\"Estadístic xi-quadrat entre AMB_PA_MECVV i SENSE_PA:\", chi2_23)\n",
    "print(\"P-valor entre AMB_PA_MECVV i SENSE_PA:\", p_value_23)\n",
    "\n",
    "if p_value_23 < 0.05:\n",
    "   print(\"Hi ha diferències significatives entre les distribucions de canadenca en AMB_PA_MECVV i SENSE_PA.\")\n",
    "else:\n",
    "   print(\"No hi ha diferències significatives entre les distribucions de canadenca en AMB_PA_MECVV i SENSE_PA.\")"
   ],
   "metadata": {
    "collapsed": false
   },
   "id": "784e281efc64e758",
   "outputs": [],
   "execution_count": null
  },
  {
   "cell_type": "code",
   "source": [
    "contingency_table_14 = pd.crosstab(index=AMB_PA['Canadenca sumatoris comparats'].between(5,10), columns=TOTAL['Canadenca sumatoris comparats'].between(5,10))\n",
    "\n",
    "chi2_14, p_value_14, dof_14, expected_14 = chi2_contingency(contingency_table_14)\n",
    "\n",
    "print(\"Estadístic xi-quadrat entre AMB_PA i TOTAL:\", chi2_14)\n",
    "print(\"P-valor entre AMB_PA i TOTAL:\", p_value_14)\n",
    "\n",
    "if p_value_14 < 0.05:\n",
    "    print(\"Hi ha diferències significatives entre les distribucions de canadenca en AMB_PA i TOTAL.\")\n",
    "else:\n",
    "    print(\"No hi ha diferències significatives entre les distribucions de canadenca en AMB_PA i TOTAL.\")"
   ],
   "metadata": {
    "collapsed": false
   },
   "id": "d99138fc2555b6a3",
   "outputs": [],
   "execution_count": null
  },
  {
   "cell_type": "code",
   "source": [
    "contingency_table_24 = pd.crosstab(index=AMB_PA_MECVV['Canadenca sumatoris comparats'].between(5,10), columns=TOTAL['Canadenca sumatoris comparats'].between(5,10))\n",
    "\n",
    "chi2_24, p_value_24, dof_24, expected_24 = chi2_contingency(contingency_table_24)\n",
    "\n",
    "print(\"Estadístic xi-quadrat entre AMB_PA_MECVV i TOTAL:\", chi2_24)\n",
    "print(\"P-valor entre AMB_PA_MECVV i TOTAL:\", p_value_24)\n",
    "\n",
    "if p_value_24 < 0.05:\n",
    "    print(\"Hi ha diferències significatives entre les distribucions de canadenca en AMB_PA_MECVV i TOTAL.\")\n",
    "else:\n",
    "    print(\"No hi ha diferències significatives entre les distribucions de canadenca en AMB_PA_MECVV i TOTAL.\")"
   ],
   "metadata": {
    "collapsed": false
   },
   "id": "9ea60a2b64036dc4",
   "outputs": [],
   "execution_count": null
  },
  {
   "cell_type": "code",
   "source": [
    "contingency_table_34 = pd.crosstab(index=SENSE_PA['Canadenca sumatoris comparats'].between(5,10), columns=TOTAL['Canadenca sumatoris comparats'].between(5,10))\n",
    "\n",
    "chi2_34, p_value_34, dof_34, expected_34 = chi2_contingency(contingency_table_34)\n",
    "\n",
    "print(\"Estadístic xi-quadrat entre SENSE_PA i TOTAL:\", chi2_34)\n",
    "print(\"P-valor entre SENSE_PA i TOTAL:\", p_value_34)\n",
    "\n",
    "if p_value_34 < 0.05:\n",
    "    print(\"Hi ha diferències significatives entre les distribucions de canadenca en SENSE_PA i TOTAL.\")\n",
    "else:\n",
    "    print(\"No hi ha diferències significatives entre les distribucions de canadenca en SENSE_PA i TOTAL.\")"
   ],
   "metadata": {
    "collapsed": false
   },
   "id": "c43da7f541976f8",
   "outputs": [],
   "execution_count": null
  },
  {
   "cell_type": "markdown",
   "source": [
    "##### Dèficit neurològic greu (sever)"
   ],
   "metadata": {
    "collapsed": false
   },
   "id": "50d29d392b6143ea"
  },
  {
   "cell_type": "code",
   "source": [
    "contingency_table_12 = pd.crosstab(index=AMB_PA['Canadenca sumatoris comparats'].between(1.5, 4.5), columns=AMB_PA_MECVV['Canadenca sumatoris comparats'].between(1.5, 4.5))\n",
    "\n",
    "chi2_12, p_value_12, dof_12, expected_12 = chi2_contingency(contingency_table_12)\n",
    "\n",
    "print(\"Estadístic xi-quadrat entre AMB_PA i AMB_PA_MECVV:\", chi2_12)\n",
    "print(\"P-valor entre AMB_PA i AMB_PA_MECVV:\", p_value_12)\n",
    "\n",
    "if p_value_12 < 0.05:\n",
    "   print(\"Hi ha diferències significatives entre les distribucions de canadenca en AMB_PA i AMB_PA_MECVV.\")\n",
    "else:\n",
    "   print(\"No hi ha diferències significatives entre les distribucions de canadenca en AMB_PA i AMB_PA_MECVV.\")"
   ],
   "metadata": {
    "collapsed": false
   },
   "id": "e6824b26b3522d5d",
   "outputs": [],
   "execution_count": null
  },
  {
   "cell_type": "code",
   "source": [
    "contingency_table_13 = pd.crosstab(index=AMB_PA['Canadenca sumatoris comparats'].between(1.5, 4.5), columns=SENSE_PA['Canadenca sumatoris comparats'].between(1.5, 4.5))\n",
    "\n",
    "chi2_13, p_value_13, dof_13, expected_13 = chi2_contingency(contingency_table_13)\n",
    "\n",
    "print(\"Estadístic xi-quadrat entre AMB_PA i SENSE_PA:\", chi2_13)\n",
    "print(\"P-valor entre AMB_PA i SENSE_PA:\", p_value_13)\n",
    "\n",
    "if p_value_13 < 0.05:\n",
    "   print(\"Hi ha diferències significatives entre les distribucions de canadenca en AMB_PA i SENSE_PA.\")\n",
    "else:\n",
    "   print(\"No hi ha diferències significatives entre les distribucions de canadenca en AMB_PA i SENSE_PA.\")"
   ],
   "metadata": {
    "collapsed": false
   },
   "id": "1cc0eeef922f3020",
   "outputs": [],
   "execution_count": null
  },
  {
   "cell_type": "code",
   "source": [
    "contingency_table_23 = pd.crosstab(index=AMB_PA_MECVV['Canadenca sumatoris comparats'].between(1.5, 4.5), columns=SENSE_PA['Canadenca sumatoris comparats'].between(1.5, 4.5))\n",
    "\n",
    "chi2_23, p_value_23, dof_23, expected_23 = chi2_contingency(contingency_table_23)\n",
    "\n",
    "print(\"Estadístic xi-quadrat entre AMB_PA_MECVV i SENSE_PA:\", chi2_23)\n",
    "print(\"P-valor entre AMB_PA_MECVV i SENSE_PA:\", p_value_23)\n",
    "\n",
    "if p_value_23 < 0.05:\n",
    "   print(\"Hi ha diferències significatives entre les distribucions de canadenca en AMB_PA_MECVV i SENSE_PA.\")\n",
    "else:\n",
    "   print(\"No hi ha diferències significatives entre les distribucions de canadenca en AMB_PA_MECVV i SENSE_PA.\")"
   ],
   "metadata": {
    "collapsed": false
   },
   "id": "c6319c49b83e252",
   "outputs": [],
   "execution_count": null
  },
  {
   "cell_type": "code",
   "source": [
    "contingency_table_14 = pd.crosstab(index=AMB_PA['Canadenca sumatoris comparats'].between(1.5, 4.5), columns=TOTAL['Canadenca sumatoris comparats'].between(1.5, 4.5))\n",
    "\n",
    "chi2_14, p_value_14, dof_14, expected_14 = chi2_contingency(contingency_table_14)\n",
    "\n",
    "print(\"Estadístic xi-quadrat entre AMB_PA i TOTAL:\", chi2_14)\n",
    "print(\"P-valor entre AMB_PA i TOTAL:\", p_value_14)\n",
    "\n",
    "if p_value_14 < 0.05:\n",
    "    print(\"Hi ha diferències significatives entre les distribucions de canadenca en AMB_PA i TOTAL.\")\n",
    "else:\n",
    "    print(\"No hi ha diferències significatives entre les distribucions de canadenca en AMB_PA i TOTAL.\")"
   ],
   "metadata": {
    "collapsed": false
   },
   "id": "48423181b8dfdf58",
   "outputs": [],
   "execution_count": null
  },
  {
   "cell_type": "code",
   "source": [
    "contingency_table_24 = pd.crosstab(index=AMB_PA_MECVV['Canadenca sumatoris comparats'].between(1.5, 4.5), columns=TOTAL['Canadenca sumatoris comparats'].between(1.5, 4.5))\n",
    "\n",
    "chi2_24, p_value_24, dof_24, expected_24 = chi2_contingency(contingency_table_24)\n",
    "\n",
    "print(\"Estadístic xi-quadrat entre AMB_PA_MECVV i TOTAL:\", chi2_24)\n",
    "print(\"P-valor entre AMB_PA_MECVV i TOTAL:\", p_value_24)\n",
    "\n",
    "if p_value_24 < 0.05:\n",
    "    print(\"Hi ha diferències significatives entre les distribucions de canadenca en AMB_PA_MECVV i TOTAL.\")\n",
    "else:\n",
    "    print(\"No hi ha diferències significatives entre les distribucions de canadenca en AMB_PA_MECVV i TOTAL.\")"
   ],
   "metadata": {
    "collapsed": false
   },
   "id": "4d4147c117e18a43",
   "outputs": [],
   "execution_count": null
  },
  {
   "cell_type": "code",
   "source": [
    "contingency_table_34 = pd.crosstab(index=SENSE_PA['Canadenca sumatoris comparats'].between(1.5, 4.5), columns=TOTAL['Canadenca sumatoris comparats'].between(1.5, 4.5))\n",
    "\n",
    "chi2_34, p_value_34, dof_34, expected_34 = chi2_contingency(contingency_table_34)\n",
    "\n",
    "print(\"Estadístic xi-quadrat entre SENSE_PA i TOTAL:\", chi2_34)\n",
    "print(\"P-valor entre SENSE_PA i TOTAL:\", p_value_34)\n",
    "\n",
    "if p_value_34 < 0.05:\n",
    "    print(\"Hi ha diferències significatives entre les distribucions de canadenca en SENSE_PA i TOTAL.\")\n",
    "else:\n",
    "    print(\"No hi ha diferències significatives entre les distribucions de canadenca en SENSE_PA i TOTAL.\")"
   ],
   "metadata": {
    "collapsed": false
   },
   "id": "875638875609985b",
   "outputs": [],
   "execution_count": null
  },
  {
   "cell_type": "markdown",
   "source": [
    "## Infeccions respiratòries"
   ],
   "metadata": {
    "collapsed": false
   },
   "id": "42caba385c942c42"
  },
  {
   "cell_type": "markdown",
   "source": [
    "##### AMB_PA "
   ],
   "metadata": {
    "collapsed": false
   },
   "id": "1dbd63835e0c551d"
  },
  {
   "cell_type": "code",
   "source": [
    "mainresp_AMB_PA= (AMB_PA['Infeccions respiratòries principals diagnosticades'] == 1.0).mean() * 100\n",
    "print(f\"Percentatge de infeccions respiratòries principals : {mainresp_AMB_PA:.2f}%\")"
   ],
   "metadata": {
    "collapsed": false
   },
   "id": "d60b2f748bf07e12",
   "outputs": [],
   "execution_count": null
  },
  {
   "cell_type": "code",
   "source": [
    "LRTI_AMB_PA= (AMB_PA['LRTI diagnosticada'] == 1.0).mean() * 100\n",
    "print(f\"Percentatge de LRTI: {LRTI_AMB_PA:.2f}%\")"
   ],
   "metadata": {
    "collapsed": false
   },
   "id": "310bf9b55e2d977d",
   "outputs": [],
   "execution_count": null
  },
  {
   "cell_type": "code",
   "source": [
    "COPD_AMB_PA= (AMB_PA['Exacerbacions de COPD diagnosticades'] == 1.0).mean() * 100\n",
    "print(f\"Percentatge de exacerbacions de COPD: {COPD_AMB_PA:.2f}%\")"
   ],
   "metadata": {
    "collapsed": false
   },
   "id": "6ef89cea6f5484e0",
   "outputs": [],
   "execution_count": null
  },
  {
   "cell_type": "code",
   "source": [
    "fibro_AMB_PA= (AMB_PA['Fibrosi pulmonar i fibrotòrax diagnosticades'] == 1.0).mean() * 100\n",
    "print(f\"Percentatge de fibrosi pulmonar i fibrotòrax: {fibro_AMB_PA:.2f}%\")"
   ],
   "metadata": {
    "collapsed": false
   },
   "id": "be5f6beaf530860a",
   "outputs": [],
   "execution_count": null
  },
  {
   "cell_type": "markdown",
   "source": [
    "##### AMB_PA_MECVV"
   ],
   "metadata": {
    "collapsed": false
   },
   "id": "7aa7d3c52cd10e17"
  },
  {
   "cell_type": "code",
   "source": [
    "mainresp_AMB_PA_MECVV= (AMB_PA_MECVV['Infeccions respiratòries principals diagnosticades'] == 1.0).mean() * 100\n",
    "print(f\"Percentatge de infeccions respiratòries principals : {mainresp_AMB_PA_MECVV:.2f}%\")"
   ],
   "metadata": {
    "collapsed": false
   },
   "id": "efc8c54dde8b9163",
   "outputs": [],
   "execution_count": null
  },
  {
   "cell_type": "code",
   "source": [
    "LRTI_AMB_PA_MECVV= (AMB_PA_MECVV['LRTI diagnosticada'] == 1.0).mean() * 100\n",
    "print(f\"Percentatge de LRTI: {LRTI_AMB_PA_MECVV:.2f}%\")"
   ],
   "metadata": {
    "collapsed": false
   },
   "id": "4623171d6ff10290",
   "outputs": [],
   "execution_count": null
  },
  {
   "cell_type": "code",
   "source": [
    "COPD_AMB_PA_MECVV = (AMB_PA_MECVV['Exacerbacions de COPD diagnosticades'] == 1.0).mean() * 100\n",
    "print(f\"Percentatge de exacerbacions de COPD: {COPD_AMB_PA_MECVV:.2f}%\")"
   ],
   "metadata": {
    "collapsed": false
   },
   "id": "cfe91528cbec146f",
   "outputs": [],
   "execution_count": null
  },
  {
   "cell_type": "code",
   "source": [
    "fibro_AMB_PA_MECVV = (AMB_PA_MECVV['Fibrosi pulmonar i fibrotòrax diagnosticades'] == 1.0).mean() * 100\n",
    "print(f\"Percentatge de fibrosi pulmonar i fibrotòrax: {fibro_AMB_PA_MECVV:.2f}%\")"
   ],
   "metadata": {
    "collapsed": false
   },
   "id": "f973855b36d0a5b8",
   "outputs": [],
   "execution_count": null
  },
  {
   "cell_type": "markdown",
   "source": [
    "##### SENSE_PA"
   ],
   "metadata": {
    "collapsed": false
   },
   "id": "79994852f25a6ea"
  },
  {
   "cell_type": "code",
   "source": [
    "mainresp_SENSE_PA= (SENSE_PA['Infeccions respiratòries principals diagnosticades'] == 1.0).mean() * 100\n",
    "print(f\"Percentatge de infeccions respiratòries principals : {mainresp_SENSE_PA:.2f}%\")"
   ],
   "metadata": {
    "collapsed": false
   },
   "id": "9e5222a7e503863f",
   "outputs": [],
   "execution_count": null
  },
  {
   "cell_type": "code",
   "source": [
    "LRTI_SENSE_PA= (SENSE_PA['LRTI diagnosticada'] == 1.0).mean() * 100\n",
    "print(f\"Percentatge de LRTI: {LRTI_SENSE_PA:.2f}%\")"
   ],
   "metadata": {
    "collapsed": false
   },
   "id": "e49d8eb5a0a8628f",
   "outputs": [],
   "execution_count": null
  },
  {
   "cell_type": "code",
   "source": [
    "COPD_SENSE_PA= (SENSE_PA['Exacerbacions de COPD diagnosticades'] == 1.0).mean() * 100\n",
    "print(f\"Percentatge de exacerbacions de COPD: {COPD_SENSE_PA:.2f}%\")"
   ],
   "metadata": {
    "collapsed": false
   },
   "id": "a6f3de0b5fc277bb",
   "outputs": [],
   "execution_count": null
  },
  {
   "cell_type": "code",
   "source": [
    "fibro_SENSE_PA= (SENSE_PA['Fibrosi pulmonar i fibrotòrax diagnosticades'] == 1.0).mean() * 100\n",
    "print(f\"Percentatge de fibrosi pulmonar i fibrotòrax: {fibro_SENSE_PA:.2f}%\")"
   ],
   "metadata": {
    "collapsed": false
   },
   "id": "3cd6f897ba88c373",
   "outputs": [],
   "execution_count": null
  },
  {
   "cell_type": "markdown",
   "source": [
    "#### Comparació distributiva"
   ],
   "metadata": {
    "collapsed": false
   },
   "id": "d758e054f6ca1b41"
  },
  {
   "cell_type": "markdown",
   "source": [
    "##### Normalitat i p-valor"
   ],
   "metadata": {
    "collapsed": false
   },
   "id": "313287ff3feb8294"
  },
  {
   "cell_type": "markdown",
   "source": [
    "No cal calcular la normalitat ja que totes són variables categòriques"
   ],
   "metadata": {
    "collapsed": false
   },
   "id": "41ec4898085a9ae7"
  },
  {
   "cell_type": "markdown",
   "source": [
    "##### Infeccions respiratòries principals"
   ],
   "metadata": {
    "collapsed": false
   },
   "id": "dc48722b5362ae4a"
  },
  {
   "cell_type": "code",
   "source": [
    "contingency_table_12 = pd.crosstab(index=AMB_PA['Infeccions respiratòries principals diagnosticades'], columns=AMB_PA_MECVV['Infeccions respiratòries principals diagnosticades'])\n",
    "\n",
    "chi2_12, p_value_12, dof_12, expected_12 = chi2_contingency(contingency_table_12)\n",
    "\n",
    "print(\"Estadístic xi-quadrat entre AMB_PA i AMB_PA_MECVV:\", chi2_12)\n",
    "print(\"P-valor entre AMB_PA i AMB_PA_MECVV:\", p_value_12)\n",
    "\n",
    "if p_value_12 < 0.05:\n",
    "    print(\"Hi ha diferències significatives entre les distribucions d'infeccions respiratòries en AMB_PA i AMB_PA_MECVV.\")\n",
    "else:\n",
    "    print(\"No hi ha diferències significatives entre les distribucions d'infeccions respiratòries en AMB_PA i AMB_PA_MECVV.\")"
   ],
   "metadata": {
    "collapsed": false
   },
   "id": "38d60ac71158421f",
   "outputs": [],
   "execution_count": null
  },
  {
   "cell_type": "code",
   "source": [
    "contingency_table_13 = pd.crosstab(index=AMB_PA['Infeccions respiratòries principals diagnosticades'], columns=SENSE_PA['Infeccions respiratòries principals diagnosticades'])\n",
    "\n",
    "chi2_13, p_value_13, dof_13, expected_13 = chi2_contingency(contingency_table_13)\n",
    "\n",
    "print(\"Estadístic xi-quadrat entre AMB_PA i SENSE_PA:\", chi2_13)\n",
    "print(\"P-valor entre AMB_PA i SENSE_PA:\", p_value_13)\n",
    "\n",
    "if p_value_13 < 0.05:\n",
    "    print(\"Hi ha diferències significatives entre les distribucions d'infeccions respiratòries en AMB_PA i SENSE_PA.\")\n",
    "else:\n",
    "    print(\"No hi ha diferències significatives entre les distribucions d'infeccions respiratòries en AMB_PA i SENSE_PA.\")"
   ],
   "metadata": {
    "collapsed": false
   },
   "id": "12dd2d4c5bb2e5b0",
   "outputs": [],
   "execution_count": null
  },
  {
   "cell_type": "code",
   "source": [
    "contingency_table_23 = pd.crosstab(index=AMB_PA_MECVV['Infeccions respiratòries principals diagnosticades'], columns=SENSE_PA['Infeccions respiratòries principals diagnosticades'])\n",
    "\n",
    "chi2_23, p_value_23, dof_23, expected_23 = chi2_contingency(contingency_table_23)\n",
    "\n",
    "print(\"Estadístic xi-quadrat entre AMB_PA_MECVV i SENSE_PA:\", chi2_23)\n",
    "print(\"P-valor entre AMB_PA_MECVV i SENSE_PA:\", p_value_23)\n",
    "\n",
    "if p_value_23 < 0.05:\n",
    "    print(\"Hi ha diferències significatives entre les distribucions d'infeccions respiratòries en AMB_PA i AMB_PA_MECVV.\")\n",
    "else:\n",
    "    print(\"No hi ha diferències significatives entre les distribucions d'infeccions respiratòries en AMB_PA i AMB_PA_MECVV.\")"
   ],
   "metadata": {
    "collapsed": false
   },
   "id": "3242fca2e5ec4d6e",
   "outputs": [],
   "execution_count": null
  },
  {
   "cell_type": "code",
   "source": [
    "contingency_table_14 = pd.crosstab(index=AMB_PA['Infeccions respiratòries principals diagnosticades'], columns=TOTAL['Infeccions respiratòries principals diagnosticades'])\n",
    "\n",
    "chi2_14, p_value_14, dof_14, expected_14 = chi2_contingency(contingency_table_14)\n",
    "\n",
    "print(\"Estadístic xi-quadrat entre AMB_PA i AMB_PA_MECVV:\", chi2_14)\n",
    "print(\"P-valor entre AMB_PA i AMB_PA_MECVV:\", p_value_14)\n",
    "\n",
    "if p_value_14 < 0.05:\n",
    "    print(\"Hi ha diferències significatives entre les distribucions d'infeccions respiratòries en AMB_PA i TOTAL.\")\n",
    "else:\n",
    "    print(\"No hi ha diferències significatives entre les distribucions d'infeccions respiratòries en AMB_PA i TOTAL.\")"
   ],
   "metadata": {
    "collapsed": false
   },
   "id": "d22933d2399a3efd",
   "outputs": [],
   "execution_count": null
  },
  {
   "cell_type": "code",
   "source": [
    "contingency_table_24 = pd.crosstab(index=AMB_PA_MECVV['Infeccions respiratòries principals diagnosticades'], columns=TOTAL['Infeccions respiratòries principals diagnosticades'])\n",
    "\n",
    "chi2_24, p_value_24, dof_24, expected_24 = chi2_contingency(contingency_table_24)\n",
    "\n",
    "print(\"Estadístic xi-quadrat entre AMB_PA_MECVV i TOTAL:\", chi2_24)\n",
    "print(\"P-valor entre AMB_PA_MECVV i TOTAL:\", p_value_24)\n",
    "\n",
    "if p_value_24 < 0.05:\n",
    "    print(\"Hi ha diferències significatives entre les distribucions d'infeccions respiratòries en AMB_PA_MECVV i TOTAL.\")\n",
    "else:\n",
    "    print(\"No hi ha diferències significatives entre les distribucions d'infeccions respiratòries en AMB_PA_MECVV i TOTAL.\")"
   ],
   "metadata": {
    "collapsed": false
   },
   "id": "5fd0c7f291c7af65",
   "outputs": [],
   "execution_count": null
  },
  {
   "cell_type": "code",
   "source": [
    "contingency_table_34 = pd.crosstab(index=SENSE_PA['Infeccions respiratòries principals diagnosticades'], columns=TOTAL['Infeccions respiratòries principals diagnosticades'])\n",
    "\n",
    "chi2_34, p_value_34, dof_4, expected_34 = chi2_contingency(contingency_table_34)\n",
    "\n",
    "print(\"Estadístic xi-quadrat entre SENSE_PA i TOTAL:\", chi2_34)\n",
    "print(\"P-valor entre AMB_PA i TOTAL:\", p_value_34)\n",
    "\n",
    "if p_value_34 < 0.05:\n",
    "    print(\"Hi ha diferències significatives entre les distribucions d'infeccions respiratòries en SENSE_PA i TOTAL.\")\n",
    "else:\n",
    "    print(\"No hi ha diferències significatives entre les distribucions d'infeccions respiratòries en SENSE_PA i TOTAL.\")"
   ],
   "metadata": {
    "collapsed": false
   },
   "id": "b35b5affefdc0914",
   "outputs": [],
   "execution_count": null
  },
  {
   "cell_type": "markdown",
   "source": [
    "##### LRTI"
   ],
   "metadata": {
    "collapsed": false
   },
   "id": "3106bdfede1e12b4"
  },
  {
   "cell_type": "code",
   "source": [
    "contingency_table_12 = pd.crosstab(index=AMB_PA['LRTI diagnosticada'], columns=AMB_PA_MECVV['LRTI diagnosticada'])\n",
    "\n",
    "chi2_12, p_value_12, dof_12, expected_12 = chi2_contingency(contingency_table_12)\n",
    "\n",
    "print(\"Estadístic xi-quadrat entre AMB_PA i AMB_PA_MECVV:\", chi2_12)\n",
    "print(\"P-valor entre AMB_PA i AMB_PA_MECVV:\", p_value_12)\n",
    "\n",
    "if p_value_12 < 0.05:\n",
    "    print(\"Hi ha diferències significatives entre les distribucions de LRTI en AMB_PA i AMB_PA_MECVV.\")\n",
    "else:\n",
    "    print(\"No hi ha diferències significatives entre les distribucions de LRTI en AMB_PA i AMB_PA_MECVV.\")"
   ],
   "metadata": {
    "collapsed": false
   },
   "id": "1eb18a89771af806",
   "outputs": [],
   "execution_count": null
  },
  {
   "cell_type": "code",
   "source": [
    "contingency_table_13 = pd.crosstab(index=AMB_PA['LRTI diagnosticada'], columns=SENSE_PA['LRTI diagnosticada'])\n",
    "\n",
    "chi2_13, p_value_13, dof_13, expected_13 = chi2_contingency(contingency_table_13)\n",
    "\n",
    "print(\"Estadístic xi-quadrat entre AMB_PA i SENSE_PA:\", chi2_13)\n",
    "print(\"P-valor entre AMB_PA i SENSE_PA:\", p_value_13)\n",
    "\n",
    "if p_value_13 < 0.05:\n",
    "    print(\"Hi ha diferències significatives entre les distribucions de LRTI en AMB_PA i SENSE_PA.\")\n",
    "else:\n",
    "    print(\"No hi ha diferències significatives entre les distribucions de LRTI en AMB_PA i SENSE_PA.\")"
   ],
   "metadata": {
    "collapsed": false
   },
   "id": "c8f6ed6f9f5e04ed",
   "outputs": [],
   "execution_count": null
  },
  {
   "cell_type": "code",
   "source": [
    "contingency_table_23 = pd.crosstab(index=AMB_PA_MECVV['LRTI diagnosticada'], columns=SENSE_PA['LRTI diagnosticada'])\n",
    "\n",
    "chi2_23, p_value_23, dof_23, expected_23 = chi2_contingency(contingency_table_23)\n",
    "\n",
    "print(\"Estadístic xi-quadrat entre AMB_PA_MECVV i SENSE_PA:\", chi2_23)\n",
    "print(\"P-valor entre AMB_PA_MECVV i SENSE_PA:\", p_value_23)\n",
    "\n",
    "if p_value_23 < 0.05:\n",
    "    print(\"Hi ha diferències significatives entre les distribucions de LRTI en AMB_PA_MECVV i SENSE_PA.\")\n",
    "else:\n",
    "    print(\"No hi ha diferències significatives entre les distribucions de LRTI en AMB_PA_MECVV i SENSE_PA.\")"
   ],
   "metadata": {
    "collapsed": false
   },
   "id": "fa3cb99bf16933e7",
   "outputs": [],
   "execution_count": null
  },
  {
   "cell_type": "code",
   "source": [
    "contingency_table_14 = pd.crosstab(index=AMB_PA['LRTI diagnosticada'], columns=TOTAL['LRTI diagnosticada'])\n",
    "\n",
    "chi2_14, p_value_14, dof_14, expected_14 = chi2_contingency(contingency_table_14)\n",
    "\n",
    "print(\"Estadístic xi-quadrat entre AMB_PA i TOTAL:\", chi2_14)\n",
    "print(\"P-valor entre AMB_PA i TOTAL:\", p_value_14)\n",
    "\n",
    "if p_value_14 < 0.05:\n",
    "    print(\"Hi ha diferències significatives entre les distribucions de LRTI en AMB_PA i TOTAL.\")\n",
    "else:\n",
    "    print(\"No hi ha diferències significatives entre les distribucions de LRTI en AMB_PA i TOTAL.\")"
   ],
   "metadata": {
    "collapsed": false
   },
   "id": "77d297d487f56c45",
   "outputs": [],
   "execution_count": null
  },
  {
   "cell_type": "code",
   "source": [
    "contingency_table_24 = pd.crosstab(index=AMB_PA_MECVV['LRTI diagnosticada'], columns=TOTAL['LRTI diagnosticada'])\n",
    "\n",
    "chi2_24, p_value_24, dof_24, expected_24 = chi2_contingency(contingency_table_24)\n",
    "\n",
    "print(\"Estadístic xi-quadrat entre AMB_PA_MECVV i TOTAL:\", chi2_24)\n",
    "print(\"P-valor entre AMB_PA_MECVV i TOTAL:\", p_value_24)\n",
    "\n",
    "if p_value_24 < 0.05:\n",
    "    print(\"Hi ha diferències significatives entre les distribucions de LRTI en AMB_PA_MECVV i TOTAL.\")\n",
    "else:\n",
    "    print(\"No hi ha diferències significatives entre les distribucions de LRTI en AMB_PA_MECVV i TOTAL.\")"
   ],
   "metadata": {
    "collapsed": false
   },
   "id": "343e29839436a0b4",
   "outputs": [],
   "execution_count": null
  },
  {
   "cell_type": "code",
   "source": [
    "contingency_table_34 = pd.crosstab(index=SENSE_PA['LRTI diagnosticada'], columns=TOTAL['LRTI diagnosticada'])\n",
    "\n",
    "chi2_34, p_value_34, dof_34, expected_34 = chi2_contingency(contingency_table_34)\n",
    "\n",
    "print(\"Estadístic xi-quadrat entre SENSE_PA i TOTAL:\", chi2_34)\n",
    "print(\"P-valor entre SNESE_PA i TOTAL:\", p_value_34)\n",
    "\n",
    "if p_value_34 < 0.05:\n",
    "    print(\"Hi ha diferències significatives entre les distribucions de LRTI en SENSE_PA i TOTAL.\")\n",
    "else:\n",
    "    print(\"No hi ha diferències significatives entre les distribucions de LRTI en SENSE_PA i TOTAL.\")"
   ],
   "metadata": {
    "collapsed": false
   },
   "id": "cbe00640f912af3",
   "outputs": [],
   "execution_count": null
  },
  {
   "cell_type": "markdown",
   "source": [
    "##### Exacerbacions de COPD"
   ],
   "metadata": {
    "collapsed": false
   },
   "id": "b196d7872e104798"
  },
  {
   "cell_type": "code",
   "source": [
    "contingency_table_12 = pd.crosstab(index=AMB_PA['Exacerbacions de COPD diagnosticades'], columns=AMB_PA_MECVV['Exacerbacions de COPD diagnosticades'])\n",
    "\n",
    "chi2_12, p_value_12, dof_12, expected_12 = chi2_contingency(contingency_table_12)\n",
    "\n",
    "print(\"Estadístic xi-quadrat entre AMB_PA i AMB_PA_MECVV:\", chi2_12)\n",
    "print(\"P-valor entre AMB_PA i AMB_PA_MECVV:\", p_value_12)\n",
    "\n",
    "if p_value_12 < 0.05:\n",
    "    print(\"Hi ha diferències significatives entre les distribucions d'exacerbacions de COPD en AMB_PA i AMB_PA_MECV.\")\n",
    "else:\n",
    "    print(\"No hi ha diferències significatives entre les distribucions d'exacerbacions de COPD en AMB_PA i AMB_PA_MECVV.\")"
   ],
   "metadata": {
    "collapsed": false
   },
   "id": "773424232ffb0e69",
   "outputs": [],
   "execution_count": null
  },
  {
   "cell_type": "code",
   "source": [
    "contingency_table_13 = pd.crosstab(index=AMB_PA['Exacerbacions de COPD diagnosticades'], columns=SENSE_PA['Exacerbacions de COPD diagnosticades'])\n",
    "\n",
    "chi2_13, p_value_13, dof_13, expected_13 = chi2_contingency(contingency_table_13)\n",
    "\n",
    "print(\"Estadístic xi-quadrat entre AMB_PA i SENSE_PA:\", chi2_13)\n",
    "print(\"P-valor entre AMB_PA i SENSE_PA:\", p_value_13)\n",
    "\n",
    "if p_value_13 < 0.05:\n",
    "    print(\"Hi ha diferències significatives entre les distribucions d'exacerbacions de COPD en AMB_PA i SENSE_PA.\")\n",
    "else:\n",
    "    print(\"No hi ha diferències significatives entre les distribucions d'exacerbacions de COPD en AMB_PA i SENSE_PA.\")"
   ],
   "metadata": {
    "collapsed": false
   },
   "id": "1706501c239b2c72",
   "outputs": [],
   "execution_count": null
  },
  {
   "cell_type": "code",
   "source": [
    "contingency_table_23 = pd.crosstab(index=AMB_PA_MECVV['Exacerbacions de COPD diagnosticades'], columns=SENSE_PA['Exacerbacions de COPD diagnosticades'])\n",
    "\n",
    "chi2_23, p_value_23, dof_23, expected_23 = chi2_contingency(contingency_table_23)\n",
    "\n",
    "print(\"Estadístic xi-quadrat entre AMB_PA_MECVV i SENSE_PA:\", chi2_23)\n",
    "print(\"P-valor entre AMB_PA_MECVV i SENSE_PA:\", p_value_23)\n",
    "\n",
    "if p_value_23 < 0.05:\n",
    "    print(\"Hi ha diferències significatives entre les distribucions d'exacerbacions de COPD en AMB_PA_MECVV i SENSE_PA.\")\n",
    "else:\n",
    "    print(\"No hi ha diferències significatives entre les distribucions d'exacerbacions de COPD en AMB_PA_MECVV i SENSE_PA.\")"
   ],
   "metadata": {
    "collapsed": false
   },
   "id": "a0dcd7685953faa6",
   "outputs": [],
   "execution_count": null
  },
  {
   "cell_type": "code",
   "source": [
    "contingency_table_14 = pd.crosstab(index=AMB_PA['Exacerbacions de COPD diagnosticades'], columns=TOTAL['Exacerbacions de COPD diagnosticades'])\n",
    "\n",
    "chi2_14, p_value_14, dof_14, expected_14 = chi2_contingency(contingency_table_14)\n",
    "\n",
    "print(\"Estadístic xi-quadrat entre AMB_PA i TOTAL:\", chi2_14)\n",
    "print(\"P-valor entre AMB_PA i TOTAL:\", p_value_14)\n",
    "\n",
    "if p_value_14 < 0.05:\n",
    "    print(\"Hi ha diferències significatives entre les distribucions d'exacerbacions de COPD en AMB_PA i TOTAL.\")\n",
    "else:\n",
    "    print(\"No hi ha diferències significatives entre les distribucions d'exacerbacions de COPD en AMB_PA i TOTAL.\")"
   ],
   "metadata": {
    "collapsed": false
   },
   "id": "fd545e84b4c3d035",
   "outputs": [],
   "execution_count": null
  },
  {
   "cell_type": "code",
   "source": [
    "contingency_table_24 = pd.crosstab(index=AMB_PA_MECVV['Exacerbacions de COPD diagnosticades'], columns=TOTAL['Exacerbacions de COPD diagnosticades'])\n",
    "\n",
    "chi2_24, p_value_24, dof_24, expected_24 = chi2_contingency(contingency_table_24)\n",
    "\n",
    "print(\"Estadístic xi-quadrat entre AMB_PA_MECVV i TOTAL:\", chi2_24)\n",
    "print(\"P-valor entre AMB_PA_MECVV i TOTAL:\", p_value_24)\n",
    "\n",
    "if p_value_24 < 0.05:\n",
    "    print(\"Hi ha diferències significatives entre les distribucions d'exacerbacions de COPD en AMB_PA_MECVV i TOTAL.\")\n",
    "else:\n",
    "    print(\"No hi ha diferències significatives entre les distribucions d'exacerbacions de COPD en AMB_PA_MECVV i TOTAL.\")"
   ],
   "metadata": {
    "collapsed": false
   },
   "id": "cff79f156b8e5ea6",
   "outputs": [],
   "execution_count": null
  },
  {
   "cell_type": "code",
   "source": [
    "contingency_table_34 = pd.crosstab(index=SENSE_PA['Exacerbacions de COPD diagnosticades'], columns=TOTAL['Exacerbacions de COPD diagnosticades'])\n",
    "\n",
    "chi2_34, p_value_34, dof_34, expected_34 = chi2_contingency(contingency_table_34)\n",
    "\n",
    "print(\"Estadístic xi-quadrat entre SENSE_PA i TOTAL:\", chi2_34)\n",
    "print(\"P-valor entre SENSE_PA i TOTAL:\", p_value_34)\n",
    "\n",
    "if p_value_34 < 0.05:\n",
    "    print(\"Hi ha diferències significatives entre les distribucions d'exacerbacions de COPD en SENSE_PA i TOTAL.\")\n",
    "else:\n",
    "    print(\"No hi ha diferències significatives entre les distribucions d'exacerbacions de COPD en SENSE_PA i TOTAL.\")"
   ],
   "metadata": {
    "collapsed": false
   },
   "id": "ed997f3c6e7b17cb",
   "outputs": [],
   "execution_count": null
  },
  {
   "cell_type": "markdown",
   "source": [
    "##### Fibrosi pulmonar i fibrotòrax"
   ],
   "metadata": {
    "collapsed": false
   },
   "id": "a698233ba5344e1f"
  },
  {
   "cell_type": "code",
   "source": [
    "contingency_table_12 = pd.crosstab(index=AMB_PA['Fibrosi pulmonar i fibrotòrax diagnosticades'], columns=AMB_PA_MECVV['Fibrosi pulmonar i fibrotòrax diagnosticades'])\n",
    "\n",
    "chi2_12, p_value_12, dof_12, expected_12 = chi2_contingency(contingency_table_12)\n",
    "\n",
    "print(\"Estadístic xi-quadrat entre AMB_PA i AMB_PA_MECVV:\", chi2_12)\n",
    "print(\"P-valor entre AMB_PA i AMB_PA_MECVV:\", p_value_12)\n",
    "\n",
    "if p_value_12 < 0.05:\n",
    "    print(\"Hi ha diferències significatives entre les distribucions de fibrosi pulmonar i fibrotòrax en AMB_PA i AMB_PA_MECVV.\")\n",
    "else:\n",
    "    print(\"No hi ha diferències significatives entre les distribucions de fibrosi pulmonar i fibrotòrax en AMB_PA i AMB_PA_MECVV.\")"
   ],
   "metadata": {
    "collapsed": false
   },
   "id": "58762c5ab24ece62",
   "outputs": [],
   "execution_count": null
  },
  {
   "cell_type": "code",
   "source": [
    "contingency_table_13 = pd.crosstab(index=AMB_PA['Fibrosi pulmonar i fibrotòrax diagnosticades'], columns=SENSE_PA['Fibrosi pulmonar i fibrotòrax diagnosticades'])\n",
    "\n",
    "chi2_13, p_value_13, dof_13, expected_13 = chi2_contingency(contingency_table_13)\n",
    "\n",
    "print(\"Estadístic xi-quadrat entre AMB_PA i SENSE_PA:\", chi2_13)\n",
    "print(\"P-valor entre AMB_PA i SENSE_PA:\", p_value_13)\n",
    "\n",
    "if p_value_13 < 0.05:\n",
    "    print(\"Hi ha diferències significatives entre les distribucions de fibrosi pulmonar i fibrotòrax en AMB_PA i SENSE_PA.\")\n",
    "else:\n",
    "    print(\"No hi ha diferències significatives entre les distribucions de fibrosi pulmonar i fibrotòrax en AMB_PA i SENSE_PA.\")"
   ],
   "metadata": {
    "collapsed": false
   },
   "id": "4a21aebe4ee794d2",
   "outputs": [],
   "execution_count": null
  },
  {
   "cell_type": "code",
   "source": [
    "contingency_table_23 = pd.crosstab(index=AMB_PA_MECVV['Fibrosi pulmonar i fibrotòrax diagnosticades'], columns=SENSE_PA['Fibrosi pulmonar i fibrotòrax diagnosticades'])\n",
    "\n",
    "chi2_23, p_value_23, dof_23, expected_23 = chi2_contingency(contingency_table_23)\n",
    "\n",
    "print(\"Estadístic xi-quadrat entre AMB_PA_MECVV i SENSE_PA:\", chi2_23)\n",
    "print(\"P-valor entre AMB_PA_MECVV i SENSE_PA:\", p_value_23)\n",
    "\n",
    "if p_value_23 < 0.05:\n",
    "    print(\"Hi ha diferències significatives entre les distribucions de fibrosi pulmonar i fibrotòrax en AMB_PA_MECVV i SENSE_PA.\")\n",
    "else:\n",
    "    print(\"No hi ha diferències significatives entre les distribucions de fibrosi pulmonar i fibrotòrax en AMB_PA_MECVV i SENSE_PA.\")"
   ],
   "metadata": {
    "collapsed": false
   },
   "id": "67849213dc559757",
   "outputs": [],
   "execution_count": null
  },
  {
   "cell_type": "code",
   "source": [
    "contingency_table_14 = pd.crosstab(index=AMB_PA['Fibrosi pulmonar i fibrotòrax diagnosticades'], columns=TOTAL['Fibrosi pulmonar i fibrotòrax diagnosticades'])\n",
    "\n",
    "chi2_14, p_value_14, dof_14, expected_14 = chi2_contingency(contingency_table_14)\n",
    "\n",
    "print(\"Estadístic xi-quadrat entre AMB_PA i TOTAL:\", chi2_14)\n",
    "print(\"P-valor entre AMB_PA i TOTAL:\", p_value_14)\n",
    "\n",
    "if p_value_14 < 0.05:\n",
    "    print(\"Hi ha diferències significatives entre les distribucions de fibrosi pulmonar i fibrotòrax en AMB_PA i TOTAL.\")\n",
    "else:\n",
    "    print(\"No hi ha diferències significatives entre les distribucions de fibrosi pulmonar i fibrotòrax en AMB_PA i TOTAL.\")"
   ],
   "metadata": {
    "collapsed": false
   },
   "id": "e29e32492eed5af8",
   "outputs": [],
   "execution_count": null
  },
  {
   "cell_type": "code",
   "source": [
    "contingency_table_24 = pd.crosstab(index=AMB_PA_MECVV['Fibrosi pulmonar i fibrotòrax diagnosticades'], columns=TOTAL['Fibrosi pulmonar i fibrotòrax diagnosticades'])\n",
    "\n",
    "chi2_24, p_value_24, dof_24, expected_24 = chi2_contingency(contingency_table_24)\n",
    "\n",
    "print(\"Estadístic xi-quadrat entre AMB_PA_MECVV i TOTAL:\", chi2_24)\n",
    "print(\"P-valor entre AMB_PA_MECVV i TOTAL:\", p_value_24)\n",
    "\n",
    "if p_value_24 < 0.05:\n",
    "    print(\"Hi ha diferències significatives entre les distribucions de fibrosi pulmonar i fibrotòrax en AMB_PA_MECVV i TOTAL.\")\n",
    "else:\n",
    "    print(\"No hi ha diferències significatives entre les distribucions de fibrosi pulmonar i fibrotòrax en AMB_PA_MECVV i TOTAL.\")"
   ],
   "metadata": {
    "collapsed": false
   },
   "id": "e996d214418c2000",
   "outputs": [],
   "execution_count": null
  },
  {
   "cell_type": "code",
   "source": [
    "contingency_table_34 = pd.crosstab(index=SENSE_PA['Fibrosi pulmonar i fibrotòrax diagnosticades'], columns=TOTAL['Fibrosi pulmonar i fibrotòrax diagnosticades'])\n",
    "\n",
    "chi2_34, p_value_34, dof_34, expected_34 = chi2_contingency(contingency_table_34)\n",
    "\n",
    "print(\"Estadístic xi-quadrat entre SENSE_PA i TOTAL:\", chi2_34)\n",
    "print(\"P-valor entre SENSE_PA i TOTAL:\", p_value_34)\n",
    "\n",
    "if p_value_34 < 0.05:\n",
    "    print(\"Hi ha diferències significatives entre les distribucions de fibrosi pulmonar i fibrotòrax en SENSE_PA i TOTAL.\")\n",
    "else:\n",
    "    print(\"No hi ha diferències significatives entre les distribucions de fibrosi pulmonar i fibrotòrax en SENSE_PA i TOTAL.\")"
   ],
   "metadata": {
    "collapsed": false
   },
   "id": "1e2f197ed4909615",
   "outputs": [],
   "execution_count": null
  },
  {
   "cell_type": "markdown",
   "source": [
    "## Resultats de laboratori"
   ],
   "metadata": {
    "collapsed": false
   },
   "id": "5a2961231a4a31fe"
  },
  {
   "cell_type": "markdown",
   "source": [
    "Les columnes generades a partir d'aquests resultats contenen valors tipus objecte, per tant, primer els transformaré a tipus numèric per poder realitzar les operacions que neccessitaré fer."
   ],
   "metadata": {
    "collapsed": false
   },
   "id": "f173a383d25aea1b"
  },
  {
   "cell_type": "markdown",
   "source": [
    "### Albúmina"
   ],
   "metadata": {
    "collapsed": false
   },
   "id": "5ec2d8edf2394b27"
  },
  {
   "cell_type": "code",
   "source": [
    "AMB_PA.loc[:, 'Albúmina'] = pd.to_numeric(AMB_PA['Albúmina'], errors='coerce').dropna()\n",
    "\n",
    "Mitjana_alb = AMB_PA['Albúmina'].mean()\n",
    "desviacio_estandard_alb = AMB_PA['Albúmina'].std()\n",
    "\n",
    "resultat = f\"{Mitjana_alb:.2f} ± {desviacio_estandard_alb:.2f}\"\n",
    "print(\"Mitjana ± Desviació Estàndard de l'albúmina:\", resultat)"
   ],
   "metadata": {
    "collapsed": false
   },
   "id": "a53e2e906c40b3f5",
   "outputs": [],
   "execution_count": null
  },
  {
   "cell_type": "code",
   "source": [
    "AMB_PA_MECVV.loc[:, 'Albúmina'] = pd.to_numeric(AMB_PA_MECVV['Albúmina'], errors='coerce').dropna()\n",
    "\n",
    "Mitjana_alb = AMB_PA_MECVV['Albúmina'].mean()\n",
    "desviacio_estandard_alb = AMB_PA_MECVV['Albúmina'].std()\n",
    "\n",
    "resultat = f\"{Mitjana_alb:.2f} ± {desviacio_estandard_alb:.2f}\"\n",
    "print(\"Mitjana ± Desviació Estàndard de l'albúmina:\", resultat)"
   ],
   "metadata": {
    "collapsed": false
   },
   "id": "65ca17d39b892acd",
   "outputs": [],
   "execution_count": null
  },
  {
   "cell_type": "code",
   "source": [
    "SENSE_PA.loc[:, 'Albúmina'] = pd.to_numeric(SENSE_PA['Albúmina'], errors='coerce').dropna()\n",
    "\n",
    "Mitjana_alb = SENSE_PA['Albúmina'].mean()\n",
    "desviacio_estandard_alb = SENSE_PA['Albúmina'].std()\n",
    "\n",
    "resultat = f\"{Mitjana_alb:.2f} ± {desviacio_estandard_alb:.2f}\"\n",
    "print(\"Mitjana ± Desviació Estàndard de l'albúmina:\", resultat)"
   ],
   "metadata": {
    "collapsed": false
   },
   "id": "2d79306fd1a45dca",
   "outputs": [],
   "execution_count": null
  },
  {
   "cell_type": "code",
   "source": [
    "TOTAL.loc[:, 'Albúmina'] = pd.to_numeric(TOTAL['Albúmina'], errors='coerce').dropna()\n",
    "\n",
    "Mitjana_alb = TOTAL['Albúmina'].mean()\n",
    "desviacio_estandard_alb = TOTAL['Albúmina'].std()\n",
    "\n",
    "resultat = f\"{Mitjana_alb:.2f} ± {desviacio_estandard_alb:.2f}\"\n",
    "print(\"Mitjana ± Desviació Estàndard de l'albúmina:\", resultat)"
   ],
   "metadata": {
    "collapsed": false
   },
   "id": "3ea5ad01e12a32cd",
   "outputs": [],
   "execution_count": null
  },
  {
   "cell_type": "markdown",
   "source": [
    "#### Comparació distributiva"
   ],
   "metadata": {
    "collapsed": false
   },
   "id": "3f439f95532c7db6"
  },
  {
   "cell_type": "markdown",
   "source": [
    "##### Normalitat i p-valor"
   ],
   "metadata": {
    "collapsed": false
   },
   "id": "e1e6c3dc49a98f9c"
  },
  {
   "metadata": {},
   "cell_type": "code",
   "source": [
    "test_indepe_plot({'AMB_PA': AMB_PA['Albumin'], 'AMB_PA_MECVV': AMB_PA_MECVV['Albumin'], 'SENSE_PA': SENSE_PA['Albumin'], 'TOTAL': TOTAL['Albumin']})"
   ],
   "id": "e4f285f6679647ab",
   "outputs": [],
   "execution_count": null
  },
  {
   "cell_type": "markdown",
   "source": [
    "NORMALITAT: Els 4 grups segueixen una distribució normal"
   ],
   "metadata": {
    "collapsed": false
   },
   "id": "5a2696b186c7bf31"
  },
  {
   "cell_type": "markdown",
   "source": [
    "### Proteïnes totals"
   ],
   "metadata": {
    "collapsed": false
   },
   "id": "e04a3845d5bbe702"
  },
  {
   "cell_type": "code",
   "source": [
    "AMB_PA.loc[:, 'Proteïnes totals'] = pd.to_numeric(AMB_PA['Proteïnes totals'], errors='coerce')\n",
    "\n",
    "Mitjana_prot = AMB_PA['Proteïnes totals'].mean()\n",
    "desviacio_estandard_prot = AMB_PA['Proteïnes totals'].std()\n",
    "\n",
    "resultat = f\"{Mitjana_prot:.2f} ± {desviacio_estandard_prot:.2f}\"\n",
    "print(\"Mitjana ± Desviació Estàndard de les proteïnes totals:\", resultat)"
   ],
   "metadata": {
    "collapsed": false
   },
   "id": "d813492190913141",
   "outputs": [],
   "execution_count": null
  },
  {
   "cell_type": "code",
   "source": [
    "AMB_PA_MECVV.loc[:, 'Proteïnes totals'] = pd.to_numeric(AMB_PA_MECVV['Proteïnes totals'], errors='coerce')\n",
    "\n",
    "Mitjana_prot = AMB_PA_MECVV['Proteïnes totals'].mean()\n",
    "desviacio_estandard_prot = AMB_PA_MECVV['Proteïnes totals'].std()\n",
    "\n",
    "resultat = f\"{Mitjana_prot:.2f} ± {desviacio_estandard_prot:.2f}\"\n",
    "print(\"Mitjana ± Desviació Estàndard de les proteïnes totals:\", resultat)"
   ],
   "metadata": {
    "collapsed": false
   },
   "id": "d4184f66298659e5",
   "outputs": [],
   "execution_count": null
  },
  {
   "cell_type": "code",
   "source": [
    "SENSE_PA.loc[:, 'Proteïnes totals'] = pd.to_numeric(SENSE_PA['Proteïnes totals'], errors='coerce')\n",
    "\n",
    "Mitjana_prot = SENSE_PA['Proteïnes totals'].mean()\n",
    "desviacio_estandard_prot = SENSE_PA['Proteïnes totals'].std()\n",
    "\n",
    "resultat = f\"{Mitjana_prot:.2f} ± {desviacio_estandard_prot:.2f}\"\n",
    "print(\"Mitjana ± Desviació Estàndard de les proteïnes totals:\", resultat)"
   ],
   "metadata": {
    "collapsed": false
   },
   "id": "a0173e5d2d07409d",
   "outputs": [],
   "execution_count": null
  },
  {
   "cell_type": "code",
   "source": [
    "TOTAL.loc[:, 'Proteïnes totals'] = pd.to_numeric(TOTAL['Proteïnes totals'], errors='coerce')\n",
    "\n",
    "Mitjana_prot = TOTAL['Proteïnes totals'].mean()\n",
    "desviacio_estandard_prot = TOTAL['Proteïnes totals'].std()\n",
    "\n",
    "resultat = f\"{Mitjana_prot:.2f} ± {desviacio_estandard_prot:.2f}\"\n",
    "print(\"Mitjana ± Desviació Estàndard de les proteïnes totals:\", resultat)"
   ],
   "metadata": {
    "collapsed": false
   },
   "id": "3987af7ade8b3edb",
   "outputs": [],
   "execution_count": null
  },
  {
   "cell_type": "markdown",
   "source": [
    "#### Comparació distributiva"
   ],
   "metadata": {
    "collapsed": false
   },
   "id": "e91b989932420350"
  },
  {
   "cell_type": "markdown",
   "source": [
    "##### Normalitat i p-valor"
   ],
   "metadata": {
    "collapsed": false
   },
   "id": "2211d726c57044b6"
  },
  {
   "metadata": {},
   "cell_type": "code",
   "source": [
    "test_indepe_plot({'AMB_PA': AMB_PA['Total Proteins'], 'AMB_PA_MECVV': AMB_PA_MECVV['Total Proteins'], 'SENSE_PA': SENSE_PA['Total Proteins'], 'TOTAL': TOTAL['Total Proteins']})"
   ],
   "id": "c74cd2197c2f4db7",
   "outputs": [],
   "execution_count": null
  },
  {
   "cell_type": "markdown",
   "source": [
    "NORMALITAT: Els 4 grups segueixen una distribució normal"
   ],
   "metadata": {
    "collapsed": false
   },
   "id": "2e4ced8ebebba5e3"
  },
  {
   "cell_type": "markdown",
   "source": [
    "### Hemoglobina"
   ],
   "metadata": {
    "collapsed": false
   },
   "id": "83542ac42256ecbc"
  },
  {
   "cell_type": "code",
   "source": [
    "AMB_PA.loc[:, 'Hb'] = pd.to_numeric(AMB_PA['Hb'], errors='coerce')\n",
    "\n",
    "Mitjana_hb = AMB_PA['Hb'].mean()\n",
    "desviacio_estandard_hb = AMB_PA['Hb'].std()\n",
    "\n",
    "resultat = f\"{Mitjana_hb:.2f} ± {desviacio_estandard_hb:.2f}\"\n",
    "print(\"Mitjana ± Desviació Estàndard de l'hemoglobina:\", resultat)"
   ],
   "metadata": {
    "collapsed": false
   },
   "id": "ce32d74b2c91ffe0",
   "outputs": [],
   "execution_count": null
  },
  {
   "cell_type": "code",
   "source": [
    "AMB_PA_MECVV.loc[:, 'Hb'] = pd.to_numeric(AMB_PA_MECVV['Hb'], errors='coerce')\n",
    "\n",
    "Mitjana_hb = AMB_PA_MECVV['Hb'].mean()\n",
    "desviacio_estandard_hb = AMB_PA_MECVV['Hb'].std()\n",
    "\n",
    "resultat = f\"{Mitjana_hb:.2f} ± {desviacio_estandard_hb:.2f}\"\n",
    "print(\"Mitjana ± Desviació Estàndard de l'hemoglobina:\", resultat)"
   ],
   "metadata": {
    "collapsed": false
   },
   "id": "190ab4d9df59e126",
   "outputs": [],
   "execution_count": null
  },
  {
   "cell_type": "code",
   "source": [
    "SENSE_PA.loc[:, 'Hb'] = pd.to_numeric(SENSE_PA['Hb'], errors='coerce')\n",
    "\n",
    "Mitjana_hb = SENSE_PA['Hb'].mean()\n",
    "desviacio_estandard_hb = SENSE_PA['Hb'].std()\n",
    "\n",
    "resultat = f\"{Mitjana_hb:.2f} ± {desviacio_estandard_hb:.2f}\"\n",
    "print(\"Mitjana ± Desviació Estàndard de l'hemoglobina:\", resultat)"
   ],
   "metadata": {
    "collapsed": false
   },
   "id": "9dcff1701b35f0e0",
   "outputs": [],
   "execution_count": null
  },
  {
   "cell_type": "code",
   "source": [
    "TOTAL.loc[:, 'Hb'] = pd.to_numeric(TOTAL['Hb'], errors='coerce')\n",
    "\n",
    "Mitjana_hb = TOTAL['Hb'].mean()\n",
    "desviacio_estandard_hb = TOTAL['Hb'].std()\n",
    "\n",
    "resultat = f\"{Mitjana_hb:.2f} ± {desviacio_estandard_hb:.2f}\"\n",
    "print(\"Mitjana ± Desviació Estàndard de la hemoglobina:\", resultat)"
   ],
   "metadata": {
    "collapsed": false
   },
   "id": "9e53de4eaaca1e38",
   "outputs": [],
   "execution_count": null
  },
  {
   "cell_type": "markdown",
   "source": [
    "#### Comparació distributiva"
   ],
   "metadata": {
    "collapsed": false
   },
   "id": "3698d8eac9285554"
  },
  {
   "cell_type": "markdown",
   "source": [
    "##### Normalitat i p-valor"
   ],
   "metadata": {
    "collapsed": false
   },
   "id": "5cf16ada38b267d6"
  },
  {
   "cell_type": "markdown",
   "source": [
    "NORMALITAT: Els 4 grups segueixen una distribució normal"
   ],
   "metadata": {
    "collapsed": false
   },
   "id": "a1139f6450fb8762"
  },
  {
   "cell_type": "code",
   "source": [
    "test_indepe_plot({'AMB_PA': AMB_PA['Hemoglobin'], 'AMB_PA_MECVV': AMB_PA_MECVV['Hemoglobin'], 'SENSE_PA': SENSE_PA['Hemoglobin'], 'TOTAL': TOTAL['Hemoglobin']})"
   ],
   "metadata": {
    "collapsed": false
   },
   "id": "b22b3253ae1a3b4b",
   "outputs": [],
   "execution_count": null
  },
  {
   "cell_type": "markdown",
   "source": [
    "### Colesterol "
   ],
   "metadata": {
    "collapsed": false
   },
   "id": "ec1e8177dc1b0583"
  },
  {
   "cell_type": "code",
   "source": [
    "AMB_PA.loc[:, 'Colesterol total'] = pd.to_numeric(AMB_PA['Colesterol total'], errors='coerce')\n",
    "\n",
    "Mitjana_col = AMB_PA['Colesterol total'].mean()\n",
    "desviacio_estandard_col = AMB_PA['Colesterol total'].std()\n",
    "\n",
    "resultat = f\"{Mitjana_col:.2f} ± {desviacio_estandard_col:.2f}\"\n",
    "print(\"Mitjana ± Desviació Estàndard del colesterol total:\", resultat)"
   ],
   "metadata": {
    "collapsed": false
   },
   "id": "1466b2fbb6e65695",
   "outputs": [],
   "execution_count": null
  },
  {
   "cell_type": "code",
   "source": [
    "AMB_PA_MECVV.loc[:, 'Colesterol total'] = pd.to_numeric(AMB_PA_MECVV['Colesterol total'], errors='coerce')\n",
    "\n",
    "Mitjana_col = AMB_PA_MECVV['Colesterol total'].mean()\n",
    "desviacio_estandard_col = AMB_PA_MECVV['Colesterol total'].std()\n",
    "\n",
    "resultat = f\"{Mitjana_col:.2f} ± {desviacio_estandard_col:.2f}\"\n",
    "print(\"Mitjana ± Desviació Estàndard del colesterol total:\", resultat)"
   ],
   "metadata": {
    "collapsed": false
   },
   "id": "2f70d7de4bc70545",
   "outputs": [],
   "execution_count": null
  },
  {
   "cell_type": "code",
   "source": [
    "SENSE_PA.loc[:, 'Colesterol total'] = pd.to_numeric(SENSE_PA['Colesterol total'], errors='coerce')\n",
    "\n",
    "Mitjana_col = SENSE_PA['Colesterol total'].mean()\n",
    "desviacio_estandard_col = SENSE_PA['Colesterol total'].std()\n",
    "\n",
    "resultat = f\"{Mitjana_col:.2f} ± {desviacio_estandard_col:.2f}\"\n",
    "print(\"Mitjana ± Desviació Estàndard del colesterol total:\", resultat)"
   ],
   "metadata": {
    "collapsed": false
   },
   "id": "8995f110a2f8af8f",
   "outputs": [],
   "execution_count": null
  },
  {
   "cell_type": "code",
   "source": [
    "TOTAL.loc[:, 'Colesterol total'] = pd.to_numeric(TOTAL['Colesterol total'], errors='coerce')\n",
    "\n",
    "Mitjana_col = TOTAL['Colesterol total'].mean()\n",
    "desviacio_estandard_col = TOTAL['Colesterol total'].std()\n",
    "\n",
    "resultat = f\"{Mitjana_col:.2f} ± {desviacio_estandard_col:.2f}\"\n",
    "print(\"Mitjana ± Desviació Estàndard del colesterol total:\", resultat)"
   ],
   "metadata": {
    "collapsed": false
   },
   "id": "c286a7e506c7f495",
   "outputs": [],
   "execution_count": null
  },
  {
   "cell_type": "markdown",
   "source": [
    "#### Comparació distributiva"
   ],
   "metadata": {
    "collapsed": false
   },
   "id": "83a935f3b5fc4891"
  },
  {
   "cell_type": "markdown",
   "source": [
    "##### Normalitat i p-valor\n",
    "\n"
   ],
   "metadata": {
    "collapsed": false
   },
   "id": "a76e28ab361d5d9"
  },
  {
   "metadata": {},
   "cell_type": "code",
   "source": [
    "test_indepe_plot({'AMB_PA': AMB_PA['Total Cholesterol'], 'AMB_PA_MECVV': AMB_PA_MECVV['Total Cholesterol'], 'SENSE_PA': SENSE_PA['Total Cholesterol'], 'TOTAL': TOTAL['Total Cholesterol']})"
   ],
   "id": "c9b01ec752bb5cf0",
   "outputs": [],
   "execution_count": null
  },
  {
   "cell_type": "markdown",
   "source": [
    "NORMALITAT: Els 4 grups segueixen una distribució normal"
   ],
   "metadata": {
    "collapsed": false
   },
   "id": "5724a46fbbb1b15a"
  },
  {
   "cell_type": "markdown",
   "source": [
    "### Leucòcits"
   ],
   "metadata": {
    "collapsed": false
   },
   "id": "42dc4ab8a11b6c11"
  },
  {
   "cell_type": "code",
   "source": [
    "AMB_PA.loc[:, 'Leucos'] = pd.to_numeric(AMB_PA['Leucos'], errors='coerce')\n",
    "\n",
    "Mitjana_leu = AMB_PA['Leucos'].mean()\n",
    "desviacio_estandard_leu = AMB_PA['Leucos'].std()\n",
    "\n",
    "resultat = f\"{Mitjana_leu:.2f} ± {desviacio_estandard_leu:.2f}\"\n",
    "print(\"Mitjana ± Desviació Estàndard dels leucòcits:\", resultat)"
   ],
   "metadata": {
    "collapsed": false
   },
   "id": "c0bfb45cfe92421a",
   "outputs": [],
   "execution_count": null
  },
  {
   "cell_type": "code",
   "source": [
    "AMB_PA_MECVV.loc[:, 'Leucos'] = pd.to_numeric(AMB_PA_MECVV['Leucos'], errors='coerce')\n",
    "\n",
    "Mitjana_leu = AMB_PA_MECVV['Leucos'].mean()\n",
    "desviacio_estandard_leu = AMB_PA_MECVV['Leucos'].std()\n",
    "\n",
    "resultat = f\"{Mitjana_leu:.2f} ± {desviacio_estandard_leu:.2f}\"\n",
    "print(\"Mitjana ± Desviació Estàndard dels leucòcits:\", resultat)"
   ],
   "metadata": {
    "collapsed": false
   },
   "id": "416f5f6eba9779cc",
   "outputs": [],
   "execution_count": null
  },
  {
   "cell_type": "code",
   "source": [
    "SENSE_PA.loc[:, 'Leucos'] = pd.to_numeric(SENSE_PA['Leucos'], errors='coerce')\n",
    "\n",
    "Mitjana_leu = SENSE_PA['Leucos'].mean()\n",
    "desviacio_estandard_leu = SENSE_PA['Leucos'].std()\n",
    "\n",
    "resultat = f\"{Mitjana_leu:.2f} ± {desviacio_estandard_leu:.2f}\"\n",
    "print(\"Mitjana ± Desviació Estàndard dels leucòcits:\", resultat)"
   ],
   "metadata": {
    "collapsed": false
   },
   "id": "56f36c4afd20bb4",
   "outputs": [],
   "execution_count": null
  },
  {
   "cell_type": "code",
   "source": [
    "TOTAL.loc[:, 'Leucos'] = pd.to_numeric(TOTAL['Leucos'], errors='coerce')\n",
    "\n",
    "Mitjana_leu = TOTAL['Leucos'].mean()\n",
    "desviacio_estandard_leu = TOTAL['Leucos'].std()\n",
    "\n",
    "resultat = f\"{Mitjana_leu:.2f} ± {desviacio_estandard_leu:.2f}\"\n",
    "print(\"Mitjana ± Desviació Estàndard dels leucòcits:\", resultat)"
   ],
   "metadata": {
    "collapsed": false
   },
   "id": "b221d9779ccc9d79",
   "outputs": [],
   "execution_count": null
  },
  {
   "cell_type": "markdown",
   "source": [
    "#### Comparació distributiva"
   ],
   "metadata": {
    "collapsed": false
   },
   "id": "f569479d8863f97a"
  },
  {
   "cell_type": "markdown",
   "source": [
    "##### Normalitat i p-valor"
   ],
   "metadata": {
    "collapsed": false
   },
   "id": "14094a001ff168ed"
  },
  {
   "metadata": {},
   "cell_type": "code",
   "source": [
    "test_indepe_plot({'AMB_PA': AMB_PA['Leucocytes'], 'AMB_PA_MECVV': AMB_PA_MECVV['Leucocytes'], 'SENSE_PA': SENSE_PA['Leucocytes'], 'TOTAL': TOTAL['Leucocytes']})"
   ],
   "id": "5c481ea27a1fc1d",
   "outputs": [],
   "execution_count": null
  },
  {
   "cell_type": "markdown",
   "source": [
    "NORMALITAT: Els 4 grups segueixen una distribució normal"
   ],
   "metadata": {
    "collapsed": false
   },
   "id": "b0343f06c70c5a5f"
  },
  {
   "cell_type": "markdown",
   "source": [
    "### Limfòcits %"
   ],
   "metadata": {
    "collapsed": false
   },
   "id": "bcd5ba404d9c701d"
  },
  {
   "cell_type": "code",
   "source": [
    "AMB_PA.loc[:, 'Limfos'] = pd.to_numeric(AMB_PA['Limfos'], errors='coerce')\n",
    "\n",
    "Mitjana_limf = AMB_PA['Limfos'].mean()\n",
    "desviacio_estandard_limf = AMB_PA['Limfos'].std()\n",
    "\n",
    "resultat = f\"{Mitjana_limf:.2f} ± {desviacio_estandard_limf:.2f}\"\n",
    "print(\"Mitjana ± Desviació Estàndard dels limfòcits %:\", resultat)"
   ],
   "metadata": {
    "collapsed": false
   },
   "id": "b5591bfd016baf83",
   "outputs": [],
   "execution_count": null
  },
  {
   "cell_type": "markdown",
   "source": [
    "#### Comparació distributiva"
   ],
   "metadata": {
    "collapsed": false
   },
   "id": "b157b909c8bffcd9"
  },
  {
   "cell_type": "markdown",
   "source": [
    "##### Normalitat i p-valor"
   ],
   "metadata": {
    "collapsed": false
   },
   "id": "9ec6bcd30846597f"
  },
  {
   "metadata": {},
   "cell_type": "code",
   "source": "test_indepe_plot({'AMB_PA': AMB_PA['Lymphocytes'], 'AMB_PA_MECVV': AMB_PA_MECVV['Lymphocytes'], 'SENSE_PA': SENSE_PA['Lymphocytes'], TOTAL: TOTAL['Lymphocytes']})",
   "id": "281733bad678916e",
   "outputs": [],
   "execution_count": null
  },
  {
   "cell_type": "markdown",
   "source": [
    "### Proteïna C Reactiva"
   ],
   "metadata": {
    "collapsed": false
   },
   "id": "33798534e24b6df3"
  },
  {
   "cell_type": "code",
   "source": [
    "AMB_PA.loc[:, 'Prot C react'] = pd.to_numeric(AMB_PA['Prot C react'], errors='coerce')\n",
    "\n",
    "Mitjana_protcr = AMB_PA['Prot C react'].mean()\n",
    "desviacio_estandard_protcr = AMB_PA['Prot C react'].std()\n",
    "\n",
    "resultat = f\"{Mitjana_protcr:.2f} ± {desviacio_estandard_protcr:.2f}\"\n",
    "print(\"Mitjana ± Desviació Estàndard de la proteïna C reactiva:\", resultat)"
   ],
   "metadata": {
    "collapsed": false
   },
   "id": "8607e374ee99079a",
   "outputs": [],
   "execution_count": null
  },
  {
   "cell_type": "markdown",
   "source": [
    "#### Comparació distributiva"
   ],
   "metadata": {
    "collapsed": false
   },
   "id": "17a2618d97df550a"
  },
  {
   "cell_type": "markdown",
   "source": [
    "##### Normalitat i p-valor"
   ],
   "metadata": {
    "collapsed": false
   },
   "id": "9e72e24d3507d681"
  },
  {
   "metadata": {},
   "cell_type": "code",
   "source": [
    "test_indepe_plot({'AMB_PA': AMB_PA['C reactive protein'], 'AMB_PA_MECVV': AMB_PA_MECVV['C reactive protein'], 'SENSE_PA': SENSE_PA['C reactive protein'], 'TOTAL': TOTAL['C reactive protein']})"
   ],
   "id": "834f57a93752d81b",
   "outputs": [],
   "execution_count": null
  },
  {
   "cell_type": "markdown",
   "source": [
    "### Urea "
   ],
   "metadata": {
    "collapsed": false
   },
   "id": "33d3d3507ff40c7a"
  },
  {
   "cell_type": "markdown",
   "source": [
    "#### Comparació distributiva"
   ],
   "metadata": {
    "collapsed": false
   },
   "id": "6516f15d748d02e1"
  },
  {
   "cell_type": "markdown",
   "source": "##### Normalitat i p-valor",
   "metadata": {
    "collapsed": false
   },
   "id": "88b97393af75e335"
  },
  {
   "metadata": {
    "ExecuteTime": {
     "end_time": "2024-06-12T08:19:24.756380Z",
     "start_time": "2024-06-12T08:19:24.471587Z"
    }
   },
   "cell_type": "code",
   "source": [
    "test_indepe_plot({'AMB_PA': AMB_PA['Urea'], 'AMB_PA_MECVV': AMB_PA_MECVV['Urea'], 'SENSE_PA': SENSE_PA['Urea'], 'TOTAL': TOTAL['Urea']})"
   ],
   "id": "5cd2379070c8b",
   "outputs": [
    {
     "data": {
      "text/plain": [
       "<Figure size 640x480 with 2 Axes>"
      ],
      "image/png": "[encoded data removed]"
     },
     "metadata": {},
     "output_type": "display_data"
    }
   ],
   "execution_count": 13
  },
  {
   "cell_type": "markdown",
   "source": "### Filtrat glomerular",
   "metadata": {
    "collapsed": false
   },
   "id": "80f453469d4b3166"
  },
  {
   "cell_type": "markdown",
   "source": [
    "#### Comparació distributiva"
   ],
   "metadata": {
    "collapsed": false
   },
   "id": "1d641b075e8fdef6"
  },
  {
   "cell_type": "markdown",
   "source": [
    "##### Normalitat i p-valor"
   ],
   "metadata": {
    "collapsed": false
   },
   "id": "837fe0a73498e87"
  },
  {
   "metadata": {
    "ExecuteTime": {
     "end_time": "2024-06-12T08:19:17.903350Z",
     "start_time": "2024-06-12T08:19:17.596156Z"
    }
   },
   "cell_type": "code",
   "source": "test_indepe_plot({'AMB_PA': AMB_PA['Glomerular Filtrate'], 'AMB_PA_MECVV': AMB_PA_MECVV['Glomerular Filtrate'], 'SENSE_PA': SENSE_PA['Glomerular Filtrate'], 'TOTAL': TOTAL['Glomerular Filtrate']})",
   "id": "cbe19d1a7f3a14a8",
   "outputs": [
    {
     "data": {
      "text/plain": [
       "<Figure size 640x480 with 2 Axes>"
      ],
      "image/png": "[encoded data removed]"
     },
     "metadata": {},
     "output_type": "display_data"
    }
   ],
   "execution_count": 12
  },
  {
   "metadata": {},
   "cell_type": "code",
   "outputs": [],
   "execution_count": null,
   "source": "",
   "id": "9b954c339be3f3f"
  }
 ],
 "metadata": {
  "kernelspec": {
   "display_name": "Python 3",
   "language": "python",
   "name": "python3"
  },
  "language_info": {
   "codemirror_mode": {
    "name": "ipython",
    "version": 2
   },
   "file_extension": ".py",
   "mimetype": "text/x-python",
   "name": "python",
   "nbconvert_exporter": "python",
   "pygments_lexer": "ipython2",
   "version": "2.7.6"
  }
 },
 "nbformat": 4,
 "nbformat_minor": 5
}
