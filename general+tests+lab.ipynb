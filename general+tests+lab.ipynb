{
 "cells": [
  {
   "cell_type": "markdown",
   "source": [
    "# Anàlisi de les dades\n",
    "## Nota sobre les limitacions de l'anàlisi \n",
    "Les dades obtingudes poden contenir errors deguts a:\n",
    "- Errors en la recollida de dades a causa d'erros humans\n",
    "- Errors en la classificació de les dades a causa d'errors informàtics\n",
    "\n",
    "No es realitzarà una comprovació de les dades a causa de la magnitud de l'estudi i l'objectiu de l'anàlisi.\n",
    "Tanmateix, en les conclusións de cada anàlisi es tindran en compte aquestes limitacions.\n",
    "\n",
    "## Objectiu de l'anàlisi\n",
    "TODO: Afegir objectiu de l'anàlisi\n",
    "\n",
    "## Importació de llibreries i funcions pròpies"
   ],
   "metadata": {
    "collapsed": false
   },
   "id": "a0123f34feef32a8"
  },
  {
   "cell_type": "code",
   "source": [
    "import pandas as pd\n",
    "from auxiliary_functions import test_indepe_plot, test_indepe_bin_plot, comptatge_i_percentatge_cat, mitjana_i_std_num\n",
    "from listas import num_var, cat_var, num_tests, cat_tests"
   ],
   "metadata": {
    "collapsed": false,
    "ExecuteTime": {
     "end_time": "2024-06-19T10:51:25.016577Z",
     "start_time": "2024-06-19T10:51:21.418529Z"
    }
   },
   "id": "2f803bba5e235e3b",
   "outputs": [],
   "execution_count": 1
  },
  {
   "cell_type": "markdown",
   "source": [
    "## Càrrega de les dades\n",
    "Les dades s'han tractat prèviament amb l'script 'process_database.py' i s'han guardat en un dataframe de Pandas. Aquestes dades contenen la informació de tots els pacients de l'estudi."
   ],
   "metadata": {
    "collapsed": false
   },
   "id": "f50948d8aa8b8957"
  },
  {
   "cell_type": "code",
   "source": [
    "taula = pd.read_pickle('./data/processed/dataframe.pkl')"
   ],
   "metadata": {
    "collapsed": false,
    "ExecuteTime": {
     "end_time": "2024-06-19T10:51:25.047116Z",
     "start_time": "2024-06-19T10:51:25.017900Z"
    }
   },
   "id": "839eafe1a0f16ec4",
   "outputs": [],
   "execution_count": 2
  },
  {
   "cell_type": "markdown",
   "source": [
    "## Segmentació de les dades\n",
    "Es distribuiran les dades en 3 grups (més un grup que conté la totalitat de dades):\n",
    "- **AMB_PA**: aquest grup està compost per pacients que contenen el codi ICD de pneumònia aspirativa al seu historial.\n",
    "- **AMB_PA_MECVV**: aquest grup conté els pacients que compleixen les següents característiques: \n",
    "    - Han donat positiu al MECV-V (és a dir, que tenen disfàgia i una alteració en la seguretat o en l'eficàcia)\n",
    "    - Han sigut diagnosticats amb el codi ICD de pneumònia\n",
    "    - Han passat menys de 30 dies entre el diagnòstic amb l'ICD de pneumònia i el resultat positiu al MECV-V\n",
    "- **SENSE_PA**: aquest grup està format per pacients que contenen el codi ICD de pneumònia o bé:\n",
    "    - Contenen el codi ICD de pneumònia\n",
    "    - Han donat positiu al MECV-V \n",
    "    - Han passat més de 30 dies entre el diagnòstic amb l'ICD de pneumònia i el resultat positiu del MECV-V \n",
    "- **TOTAL**: aquest grup conté tots els pacients de l'estudi"
   ],
   "metadata": {
    "collapsed": false
   },
   "id": "278abfba5c4898fd"
  },
  {
   "cell_type": "markdown",
   "source": [
    "### AMB_PA "
   ],
   "metadata": {
    "collapsed": false
   },
   "id": "f658922a2474ceda"
  },
  {
   "cell_type": "code",
   "source": [
    "AMB_PA = taula[taula[\"PA diagnosticada\"] == 1.0]\n",
    "AMB_PA.head()"
   ],
   "metadata": {
    "collapsed": false,
    "ExecuteTime": {
     "end_time": "2024-06-19T10:51:25.232392Z",
     "start_time": "2024-06-19T10:51:25.048120Z"
    }
   },
   "id": "c98086151b5c466c",
   "outputs": [
    {
     "data": {
      "text/plain": [
       "   edat  sexe M  visitaDietista  \\\n",
       "0    89       0               0   \n",
       "1    70       1               0   \n",
       "3    85       1               0   \n",
       "4    93       1               0   \n",
       "6   101       0               0   \n",
       "\n",
       "                                                labs  \\\n",
       "0                                                 []   \n",
       "1  [{'date': '20220524', 'name': 'PCR SARS-CoV2 S...   \n",
       "3                                                 []   \n",
       "4  [{'date': '20220208', 'name': 'UREA Sèrum', 'l...   \n",
       "6                                                 []   \n",
       "\n",
       "                                                 mna  \\\n",
       "0                                                 []   \n",
       "1                                                 []   \n",
       "3                                                 []   \n",
       "4  [{'imc': '0', 'anorexia': '1', 'perduaPes': '1...   \n",
       "6                                                 []   \n",
       "\n",
       "                                               emina canadenca  \\\n",
       "0  [{'activitat': '2', 'estatMental': '1', 'humit...        []   \n",
       "1  [{'activitat': '0', 'estatMental': '0', 'humit...        []   \n",
       "3  [{'activitat': '2', 'estatMental': '1', 'humit...        []   \n",
       "4  [{'activitat': '2', 'estatMental': '1', 'humit...        []   \n",
       "6  [{'activitat': '3', 'estatMental': '1', 'humit...        []   \n",
       "\n",
       "                                                 pes  \\\n",
       "0                                                 []   \n",
       "1  [{'valor': '64.7', 'data': '2022-10-04'}, {'va...   \n",
       "3                                                 []   \n",
       "4  [{'valor': '49.900', 'data': '2022-06-02'}, {'...   \n",
       "6                                                 []   \n",
       "\n",
       "                                                atcs  \\\n",
       "0  [{'codi': 'M01AE', 'dataInici': '2020-06-21 00...   \n",
       "1  [{'codi': 'C09AA', 'dataInici': '2021-05-26 00...   \n",
       "3  [{'codi': 'G04CA', 'dataInici': '2020-07-15 00...   \n",
       "4  [{'codi': 'N02AA', 'dataInici': '2022-02-01 00...   \n",
       "6  [{'codi': 'C09AA', 'dataInici': '2021-08-21 00...   \n",
       "\n",
       "                                              mecvvs  ...  \\\n",
       "0                                                 []  ...   \n",
       "1  [{'data': '20220930', 'pacientNoColabora': '',...  ...   \n",
       "3  [{'data': '20201204131810', 'disfagia': 'S', '...  ...   \n",
       "4  [{'data': '20220330172303', 'disfagiaConeguda'...  ...   \n",
       "6  [{'data': '20210819124116', 'disfagia': 'S', '...  ...   \n",
       "\n",
       "  Pèrdua pes entre ingressos Pèrdua pes total  Data més antiga pneumònia  \\\n",
       "0                       None             None                 2020-06-18   \n",
       "1                       None             16.3                 2022-09-29   \n",
       "3                       None             None                 2020-12-02   \n",
       "4                       None              0.0                        NaT   \n",
       "6                       None             None                 2021-08-17   \n",
       "\n",
       "   Dies entre primer ICD pneumònia i primer MECVV positiu   Barthel categòric  \\\n",
       "0                                                NaN        Dependència total   \n",
       "1                                                NaN       Dependència severa   \n",
       "3                                                2.0       Dependència severa   \n",
       "4                                                NaN        Dependència total   \n",
       "6                                                2.0        Dependència total   \n",
       "\n",
       "   MNA categòric  EMINA categòric  Canadenca categòrica  \\\n",
       "0     Desconegut     Risc moderat            Desconegut   \n",
       "1     Desconegut        Risc baix            Desconegut   \n",
       "3     Desconegut     Risc moderat            Desconegut   \n",
       "4      Malnodrit     Risc moderat            Desconegut   \n",
       "6     Desconegut     Risc moderat            Desconegut   \n",
       "\n",
       "   Pèrdua pes entre ingressos categòrica  split_database  \n",
       "0                          No disponible          AMB_PA  \n",
       "1                          No disponible          AMB_PA  \n",
       "3                          No disponible          AMB_PA  \n",
       "4                          No disponible          AMB_PA  \n",
       "6                          No disponible          AMB_PA  \n",
       "\n",
       "[5 rows x 83 columns]"
      ],
      "text/html": [
       "<div>\n",
       "<style scoped>\n",
       "    .dataframe tbody tr th:only-of-type {\n",
       "        vertical-align: middle;\n",
       "    }\n",
       "\n",
       "    .dataframe tbody tr th {\n",
       "        vertical-align: top;\n",
       "    }\n",
       "\n",
       "    .dataframe thead th {\n",
       "        text-align: right;\n",
       "    }\n",
       "</style>\n",
       "<table border=\"1\" class=\"dataframe\">\n",
       "  <thead>\n",
       "    <tr style=\"text-align: right;\">\n",
       "      <th></th>\n",
       "      <th>edat</th>\n",
       "      <th>sexe M</th>\n",
       "      <th>visitaDietista</th>\n",
       "      <th>labs</th>\n",
       "      <th>mna</th>\n",
       "      <th>emina</th>\n",
       "      <th>canadenca</th>\n",
       "      <th>pes</th>\n",
       "      <th>atcs</th>\n",
       "      <th>mecvvs</th>\n",
       "      <th>...</th>\n",
       "      <th>Pèrdua pes entre ingressos</th>\n",
       "      <th>Pèrdua pes total</th>\n",
       "      <th>Data més antiga pneumònia</th>\n",
       "      <th>Dies entre primer ICD pneumònia i primer MECVV positiu</th>\n",
       "      <th>Barthel categòric</th>\n",
       "      <th>MNA categòric</th>\n",
       "      <th>EMINA categòric</th>\n",
       "      <th>Canadenca categòrica</th>\n",
       "      <th>Pèrdua pes entre ingressos categòrica</th>\n",
       "      <th>split_database</th>\n",
       "    </tr>\n",
       "  </thead>\n",
       "  <tbody>\n",
       "    <tr>\n",
       "      <th>0</th>\n",
       "      <td>89</td>\n",
       "      <td>0</td>\n",
       "      <td>0</td>\n",
       "      <td>[]</td>\n",
       "      <td>[]</td>\n",
       "      <td>[{'activitat': '2', 'estatMental': '1', 'humit...</td>\n",
       "      <td>[]</td>\n",
       "      <td>[]</td>\n",
       "      <td>[{'codi': 'M01AE', 'dataInici': '2020-06-21 00...</td>\n",
       "      <td>[]</td>\n",
       "      <td>...</td>\n",
       "      <td>None</td>\n",
       "      <td>None</td>\n",
       "      <td>2020-06-18</td>\n",
       "      <td>NaN</td>\n",
       "      <td>Dependència total</td>\n",
       "      <td>Desconegut</td>\n",
       "      <td>Risc moderat</td>\n",
       "      <td>Desconegut</td>\n",
       "      <td>No disponible</td>\n",
       "      <td>AMB_PA</td>\n",
       "    </tr>\n",
       "    <tr>\n",
       "      <th>1</th>\n",
       "      <td>70</td>\n",
       "      <td>1</td>\n",
       "      <td>0</td>\n",
       "      <td>[{'date': '20220524', 'name': 'PCR SARS-CoV2 S...</td>\n",
       "      <td>[]</td>\n",
       "      <td>[{'activitat': '0', 'estatMental': '0', 'humit...</td>\n",
       "      <td>[]</td>\n",
       "      <td>[{'valor': '64.7', 'data': '2022-10-04'}, {'va...</td>\n",
       "      <td>[{'codi': 'C09AA', 'dataInici': '2021-05-26 00...</td>\n",
       "      <td>[{'data': '20220930', 'pacientNoColabora': '',...</td>\n",
       "      <td>...</td>\n",
       "      <td>None</td>\n",
       "      <td>16.3</td>\n",
       "      <td>2022-09-29</td>\n",
       "      <td>NaN</td>\n",
       "      <td>Dependència severa</td>\n",
       "      <td>Desconegut</td>\n",
       "      <td>Risc baix</td>\n",
       "      <td>Desconegut</td>\n",
       "      <td>No disponible</td>\n",
       "      <td>AMB_PA</td>\n",
       "    </tr>\n",
       "    <tr>\n",
       "      <th>3</th>\n",
       "      <td>85</td>\n",
       "      <td>1</td>\n",
       "      <td>0</td>\n",
       "      <td>[]</td>\n",
       "      <td>[]</td>\n",
       "      <td>[{'activitat': '2', 'estatMental': '1', 'humit...</td>\n",
       "      <td>[]</td>\n",
       "      <td>[]</td>\n",
       "      <td>[{'codi': 'G04CA', 'dataInici': '2020-07-15 00...</td>\n",
       "      <td>[{'data': '20201204131810', 'disfagia': 'S', '...</td>\n",
       "      <td>...</td>\n",
       "      <td>None</td>\n",
       "      <td>None</td>\n",
       "      <td>2020-12-02</td>\n",
       "      <td>2.0</td>\n",
       "      <td>Dependència severa</td>\n",
       "      <td>Desconegut</td>\n",
       "      <td>Risc moderat</td>\n",
       "      <td>Desconegut</td>\n",
       "      <td>No disponible</td>\n",
       "      <td>AMB_PA</td>\n",
       "    </tr>\n",
       "    <tr>\n",
       "      <th>4</th>\n",
       "      <td>93</td>\n",
       "      <td>1</td>\n",
       "      <td>0</td>\n",
       "      <td>[{'date': '20220208', 'name': 'UREA Sèrum', 'l...</td>\n",
       "      <td>[{'imc': '0', 'anorexia': '1', 'perduaPes': '1...</td>\n",
       "      <td>[{'activitat': '2', 'estatMental': '1', 'humit...</td>\n",
       "      <td>[]</td>\n",
       "      <td>[{'valor': '49.900', 'data': '2022-06-02'}, {'...</td>\n",
       "      <td>[{'codi': 'N02AA', 'dataInici': '2022-02-01 00...</td>\n",
       "      <td>[{'data': '20220330172303', 'disfagiaConeguda'...</td>\n",
       "      <td>...</td>\n",
       "      <td>None</td>\n",
       "      <td>0.0</td>\n",
       "      <td>NaT</td>\n",
       "      <td>NaN</td>\n",
       "      <td>Dependència total</td>\n",
       "      <td>Malnodrit</td>\n",
       "      <td>Risc moderat</td>\n",
       "      <td>Desconegut</td>\n",
       "      <td>No disponible</td>\n",
       "      <td>AMB_PA</td>\n",
       "    </tr>\n",
       "    <tr>\n",
       "      <th>6</th>\n",
       "      <td>101</td>\n",
       "      <td>0</td>\n",
       "      <td>0</td>\n",
       "      <td>[]</td>\n",
       "      <td>[]</td>\n",
       "      <td>[{'activitat': '3', 'estatMental': '1', 'humit...</td>\n",
       "      <td>[]</td>\n",
       "      <td>[]</td>\n",
       "      <td>[{'codi': 'C09AA', 'dataInici': '2021-08-21 00...</td>\n",
       "      <td>[{'data': '20210819124116', 'disfagia': 'S', '...</td>\n",
       "      <td>...</td>\n",
       "      <td>None</td>\n",
       "      <td>None</td>\n",
       "      <td>2021-08-17</td>\n",
       "      <td>2.0</td>\n",
       "      <td>Dependència total</td>\n",
       "      <td>Desconegut</td>\n",
       "      <td>Risc moderat</td>\n",
       "      <td>Desconegut</td>\n",
       "      <td>No disponible</td>\n",
       "      <td>AMB_PA</td>\n",
       "    </tr>\n",
       "  </tbody>\n",
       "</table>\n",
       "<p>5 rows × 83 columns</p>\n",
       "</div>"
      ]
     },
     "execution_count": 3,
     "metadata": {},
     "output_type": "execute_result"
    }
   ],
   "execution_count": 3
  },
  {
   "cell_type": "markdown",
   "source": [
    "# AMB_PA_MECVV"
   ],
   "metadata": {
    "collapsed": false
   },
   "id": "103613713c5a9646"
  },
  {
   "cell_type": "code",
   "source": [
    "AMB_PA_MECVV = taula[\n",
    "    (taula[\"Dies entre primer ICD pneumònia i primer MECVV positiu\"] < 30)] \n",
    "AMB_PA_MECVV.head()"
   ],
   "metadata": {
    "collapsed": false,
    "ExecuteTime": {
     "end_time": "2024-06-19T10:51:25.383682Z",
     "start_time": "2024-06-19T10:51:25.234398Z"
    }
   },
   "id": "cd7f2059d97e680e",
   "outputs": [
    {
     "data": {
      "text/plain": [
       "    edat  sexe M  visitaDietista  \\\n",
       "3     85       1               0   \n",
       "6    101       0               0   \n",
       "12    86       1               0   \n",
       "27   100       1               0   \n",
       "37    86       1               0   \n",
       "\n",
       "                                                 labs  \\\n",
       "3                                                  []   \n",
       "6                                                  []   \n",
       "12                                                 []   \n",
       "27                                                 []   \n",
       "37  [{'date': '20221003', 'name': 'GLUCOSA Sèrum',...   \n",
       "\n",
       "                                                  mna  \\\n",
       "3                                                  []   \n",
       "6                                                  []   \n",
       "12                                                 []   \n",
       "27                                                 []   \n",
       "37  [{'imc': '', 'anorexia': '', 'perduaPes': '', ...   \n",
       "\n",
       "                                                emina canadenca  \\\n",
       "3   [{'activitat': '2', 'estatMental': '1', 'humit...        []   \n",
       "6   [{'activitat': '3', 'estatMental': '1', 'humit...        []   \n",
       "12  [{'activitat': '1', 'estatMental': '1', 'humit...        []   \n",
       "27  [{'activitat': '3', 'estatMental': '0', 'humit...        []   \n",
       "37  [{'activitat': '2', 'estatMental': '1', 'humit...        []   \n",
       "\n",
       "                                                  pes  \\\n",
       "3                                                  []   \n",
       "6                                                  []   \n",
       "12          [{'valor': '46.4', 'data': '2020-09-09'}]   \n",
       "27  [{'valor': '0', 'data': '2021-09-14'}, {'valor...   \n",
       "37            [{'valor': '72', 'data': '2022-10-09'}]   \n",
       "\n",
       "                                                 atcs  \\\n",
       "3   [{'codi': 'G04CA', 'dataInici': '2020-07-15 00...   \n",
       "6   [{'codi': 'C09AA', 'dataInici': '2021-08-21 00...   \n",
       "12  [{'codi': 'G04CA', 'dataInici': '2020-09-04 00...   \n",
       "27  [{'codi': 'C08CA', 'dataInici': '2020-11-23 00...   \n",
       "37  [{'codi': 'G04CA', 'dataInici': '2022-09-26 00...   \n",
       "\n",
       "                                               mecvvs  ...  \\\n",
       "3   [{'data': '20201204131810', 'disfagia': 'S', '...  ...   \n",
       "6   [{'data': '20210819124116', 'disfagia': 'S', '...  ...   \n",
       "12  [{'data': '20200907110400', 'disfagia': 'S', '...  ...   \n",
       "27  [{'data': '20201125131827', 'disfagia': 'S', '...  ...   \n",
       "37  [{'data': '20221012122425', 'disfagia': 'S', '...  ...   \n",
       "\n",
       "   Pèrdua pes entre ingressos Pèrdua pes total  Data més antiga pneumònia  \\\n",
       "3                        None             None                 2020-12-02   \n",
       "6                        None             None                 2021-08-17   \n",
       "12                        0.0              0.0                 2020-09-04   \n",
       "27                       None             41.1                 2020-12-02   \n",
       "37                       None              0.0                 2022-09-29   \n",
       "\n",
       "    Dies entre primer ICD pneumònia i primer MECVV positiu  \\\n",
       "3                                                 2.0        \n",
       "6                                                 2.0        \n",
       "12                                                3.0        \n",
       "27                                                7.0        \n",
       "37                                                1.0        \n",
       "\n",
       "     Barthel categòric  MNA categòric  EMINA categòric  Canadenca categòrica  \\\n",
       "3   Dependència severa     Desconegut     Risc moderat            Desconegut   \n",
       "6    Dependència total     Desconegut     Risc moderat            Desconegut   \n",
       "12  Dependència severa     Desconegut     Risc moderat            Desconegut   \n",
       "27   Dependència total     Desconegut     Risc moderat            Desconegut   \n",
       "37   Dependència total      Malnodrit     Risc moderat            Desconegut   \n",
       "\n",
       "    Pèrdua pes entre ingressos categòrica  split_database  \n",
       "3                           No disponible          AMB_PA  \n",
       "6                           No disponible          AMB_PA  \n",
       "12                                   0 kg          AMB_PA  \n",
       "27                          No disponible    AMB_PA_MECVV  \n",
       "37                          No disponible          AMB_PA  \n",
       "\n",
       "[5 rows x 83 columns]"
      ],
      "text/html": [
       "<div>\n",
       "<style scoped>\n",
       "    .dataframe tbody tr th:only-of-type {\n",
       "        vertical-align: middle;\n",
       "    }\n",
       "\n",
       "    .dataframe tbody tr th {\n",
       "        vertical-align: top;\n",
       "    }\n",
       "\n",
       "    .dataframe thead th {\n",
       "        text-align: right;\n",
       "    }\n",
       "</style>\n",
       "<table border=\"1\" class=\"dataframe\">\n",
       "  <thead>\n",
       "    <tr style=\"text-align: right;\">\n",
       "      <th></th>\n",
       "      <th>edat</th>\n",
       "      <th>sexe M</th>\n",
       "      <th>visitaDietista</th>\n",
       "      <th>labs</th>\n",
       "      <th>mna</th>\n",
       "      <th>emina</th>\n",
       "      <th>canadenca</th>\n",
       "      <th>pes</th>\n",
       "      <th>atcs</th>\n",
       "      <th>mecvvs</th>\n",
       "      <th>...</th>\n",
       "      <th>Pèrdua pes entre ingressos</th>\n",
       "      <th>Pèrdua pes total</th>\n",
       "      <th>Data més antiga pneumònia</th>\n",
       "      <th>Dies entre primer ICD pneumònia i primer MECVV positiu</th>\n",
       "      <th>Barthel categòric</th>\n",
       "      <th>MNA categòric</th>\n",
       "      <th>EMINA categòric</th>\n",
       "      <th>Canadenca categòrica</th>\n",
       "      <th>Pèrdua pes entre ingressos categòrica</th>\n",
       "      <th>split_database</th>\n",
       "    </tr>\n",
       "  </thead>\n",
       "  <tbody>\n",
       "    <tr>\n",
       "      <th>3</th>\n",
       "      <td>85</td>\n",
       "      <td>1</td>\n",
       "      <td>0</td>\n",
       "      <td>[]</td>\n",
       "      <td>[]</td>\n",
       "      <td>[{'activitat': '2', 'estatMental': '1', 'humit...</td>\n",
       "      <td>[]</td>\n",
       "      <td>[]</td>\n",
       "      <td>[{'codi': 'G04CA', 'dataInici': '2020-07-15 00...</td>\n",
       "      <td>[{'data': '20201204131810', 'disfagia': 'S', '...</td>\n",
       "      <td>...</td>\n",
       "      <td>None</td>\n",
       "      <td>None</td>\n",
       "      <td>2020-12-02</td>\n",
       "      <td>2.0</td>\n",
       "      <td>Dependència severa</td>\n",
       "      <td>Desconegut</td>\n",
       "      <td>Risc moderat</td>\n",
       "      <td>Desconegut</td>\n",
       "      <td>No disponible</td>\n",
       "      <td>AMB_PA</td>\n",
       "    </tr>\n",
       "    <tr>\n",
       "      <th>6</th>\n",
       "      <td>101</td>\n",
       "      <td>0</td>\n",
       "      <td>0</td>\n",
       "      <td>[]</td>\n",
       "      <td>[]</td>\n",
       "      <td>[{'activitat': '3', 'estatMental': '1', 'humit...</td>\n",
       "      <td>[]</td>\n",
       "      <td>[]</td>\n",
       "      <td>[{'codi': 'C09AA', 'dataInici': '2021-08-21 00...</td>\n",
       "      <td>[{'data': '20210819124116', 'disfagia': 'S', '...</td>\n",
       "      <td>...</td>\n",
       "      <td>None</td>\n",
       "      <td>None</td>\n",
       "      <td>2021-08-17</td>\n",
       "      <td>2.0</td>\n",
       "      <td>Dependència total</td>\n",
       "      <td>Desconegut</td>\n",
       "      <td>Risc moderat</td>\n",
       "      <td>Desconegut</td>\n",
       "      <td>No disponible</td>\n",
       "      <td>AMB_PA</td>\n",
       "    </tr>\n",
       "    <tr>\n",
       "      <th>12</th>\n",
       "      <td>86</td>\n",
       "      <td>1</td>\n",
       "      <td>0</td>\n",
       "      <td>[]</td>\n",
       "      <td>[]</td>\n",
       "      <td>[{'activitat': '1', 'estatMental': '1', 'humit...</td>\n",
       "      <td>[]</td>\n",
       "      <td>[{'valor': '46.4', 'data': '2020-09-09'}]</td>\n",
       "      <td>[{'codi': 'G04CA', 'dataInici': '2020-09-04 00...</td>\n",
       "      <td>[{'data': '20200907110400', 'disfagia': 'S', '...</td>\n",
       "      <td>...</td>\n",
       "      <td>0.0</td>\n",
       "      <td>0.0</td>\n",
       "      <td>2020-09-04</td>\n",
       "      <td>3.0</td>\n",
       "      <td>Dependència severa</td>\n",
       "      <td>Desconegut</td>\n",
       "      <td>Risc moderat</td>\n",
       "      <td>Desconegut</td>\n",
       "      <td>0 kg</td>\n",
       "      <td>AMB_PA</td>\n",
       "    </tr>\n",
       "    <tr>\n",
       "      <th>27</th>\n",
       "      <td>100</td>\n",
       "      <td>1</td>\n",
       "      <td>0</td>\n",
       "      <td>[]</td>\n",
       "      <td>[]</td>\n",
       "      <td>[{'activitat': '3', 'estatMental': '0', 'humit...</td>\n",
       "      <td>[]</td>\n",
       "      <td>[{'valor': '0', 'data': '2021-09-14'}, {'valor...</td>\n",
       "      <td>[{'codi': 'C08CA', 'dataInici': '2020-11-23 00...</td>\n",
       "      <td>[{'data': '20201125131827', 'disfagia': 'S', '...</td>\n",
       "      <td>...</td>\n",
       "      <td>None</td>\n",
       "      <td>41.1</td>\n",
       "      <td>2020-12-02</td>\n",
       "      <td>7.0</td>\n",
       "      <td>Dependència total</td>\n",
       "      <td>Desconegut</td>\n",
       "      <td>Risc moderat</td>\n",
       "      <td>Desconegut</td>\n",
       "      <td>No disponible</td>\n",
       "      <td>AMB_PA_MECVV</td>\n",
       "    </tr>\n",
       "    <tr>\n",
       "      <th>37</th>\n",
       "      <td>86</td>\n",
       "      <td>1</td>\n",
       "      <td>0</td>\n",
       "      <td>[{'date': '20221003', 'name': 'GLUCOSA Sèrum',...</td>\n",
       "      <td>[{'imc': '', 'anorexia': '', 'perduaPes': '', ...</td>\n",
       "      <td>[{'activitat': '2', 'estatMental': '1', 'humit...</td>\n",
       "      <td>[]</td>\n",
       "      <td>[{'valor': '72', 'data': '2022-10-09'}]</td>\n",
       "      <td>[{'codi': 'G04CA', 'dataInici': '2022-09-26 00...</td>\n",
       "      <td>[{'data': '20221012122425', 'disfagia': 'S', '...</td>\n",
       "      <td>...</td>\n",
       "      <td>None</td>\n",
       "      <td>0.0</td>\n",
       "      <td>2022-09-29</td>\n",
       "      <td>1.0</td>\n",
       "      <td>Dependència total</td>\n",
       "      <td>Malnodrit</td>\n",
       "      <td>Risc moderat</td>\n",
       "      <td>Desconegut</td>\n",
       "      <td>No disponible</td>\n",
       "      <td>AMB_PA</td>\n",
       "    </tr>\n",
       "  </tbody>\n",
       "</table>\n",
       "<p>5 rows × 83 columns</p>\n",
       "</div>"
      ]
     },
     "execution_count": 4,
     "metadata": {},
     "output_type": "execute_result"
    }
   ],
   "execution_count": 4
  },
  {
   "cell_type": "markdown",
   "source": [
    "# SENSE_PA"
   ],
   "metadata": {
    "collapsed": false
   },
   "id": "dec4a6dab210a15"
  },
  {
   "cell_type": "code",
   "source": [
    "SENSE_PA = taula[\n",
    "           (taula[\"Dies entre primer ICD pneumònia i primer MECVV positiu\"] > 30) & \n",
    "           (taula['P diagnosticada'] == 1.0)]\n",
    "SENSE_PA.head()"
   ],
   "metadata": {
    "collapsed": false,
    "ExecuteTime": {
     "end_time": "2024-06-19T10:51:25.645466Z",
     "start_time": "2024-06-19T10:51:25.385691Z"
    }
   },
   "id": "99cb28165725d83b",
   "outputs": [
    {
     "data": {
      "text/plain": [
       "    edat  sexe M  visitaDietista  \\\n",
       "13    71       0               0   \n",
       "25    83       0               0   \n",
       "28    95       0               0   \n",
       "31    89       1               0   \n",
       "39    87       0               0   \n",
       "\n",
       "                                                 labs  \\\n",
       "13  [{'date': '20220216', 'name': 'CULTIU Esput', ...   \n",
       "25  [{'date': '20220308', 'name': 'UREA Sèrum', 'l...   \n",
       "28  [{'date': '20220526', 'name': 'GLUCOSA Sèrum',...   \n",
       "31  [{'date': '20220318', 'name': 'BILIRUBINA TOTA...   \n",
       "39  [{'date': '20230619', 'name': 'GLUCOSA Sèrum',...   \n",
       "\n",
       "                                                  mna  \\\n",
       "13                                                 []   \n",
       "25  [{'imc': '', 'anorexia': '', 'perduaPes': '', ...   \n",
       "28                                                 []   \n",
       "31  [{'imc': '', 'anorexia': '', 'perduaPes': '', ...   \n",
       "39                                                 []   \n",
       "\n",
       "                                                emina  \\\n",
       "13  [{'activitat': '3', 'estatMental': '0', 'humit...   \n",
       "25  [{'activitat': '0', 'estatMental': '1', 'humit...   \n",
       "28  [{'activitat': '3', 'estatMental': '0', 'humit...   \n",
       "31  [{'activitat': '2', 'estatMental': '1', 'humit...   \n",
       "39  [{'activitat': '1', 'estatMental': '0', 'humit...   \n",
       "\n",
       "                                            canadenca  \\\n",
       "13  [{'dataValoracio': '2020-09-06', 'horaValoraci...   \n",
       "25                                                 []   \n",
       "28                                                 []   \n",
       "31                                                 []   \n",
       "39                                                 []   \n",
       "\n",
       "                                                  pes  \\\n",
       "13                                                 []   \n",
       "25  [{'valor': '57', 'data': '2022-11-03'}, {'valo...   \n",
       "28             [{'valor': '0', 'data': '2022-05-30'}]   \n",
       "31  [{'valor': '75', 'data': '2022-01-11'}, {'valo...   \n",
       "39                                                 []   \n",
       "\n",
       "                                                 atcs  \\\n",
       "13  [{'codi': 'C10AA', 'dataInici': '2020-09-06 00...   \n",
       "25  [{'codi': 'C10AA', 'dataInici': '2022-09-27 00...   \n",
       "28  [{'codi': 'C10AA', 'dataInici': '2020-11-18 00...   \n",
       "31  [{'codi': 'C10AA', 'dataInici': '2021-12-23 00...   \n",
       "39  [{'codi': 'N02BE', 'dataInici': '2021-01-17 00...   \n",
       "\n",
       "                                               mecvvs  ...  \\\n",
       "13  [{'data': '20200906175506', 'disfagia': 'N', '...  ...   \n",
       "25  [{'data': '20220929091303', 'disfagia': 'S', '...  ...   \n",
       "28  [{'data': '20220529115841', 'disfagia': 'S', '...  ...   \n",
       "31  [{'data': '20220119101523', 'disfagia': 'N', '...  ...   \n",
       "39  [{'data': '20220111085147', 'disfagia': 'S', '...  ...   \n",
       "\n",
       "   Pèrdua pes entre ingressos Pèrdua pes total  Data més antiga pneumònia  \\\n",
       "13                       None             None                 2022-02-14   \n",
       "25                       None             -6.2                 2023-04-09   \n",
       "28                        0.0              0.0                 2022-11-07   \n",
       "31                       None              8.0                 2023-05-05   \n",
       "39                       None             None                 2023-06-19   \n",
       "\n",
       "    Dies entre primer ICD pneumònia i primer MECVV positiu  \\\n",
       "13                                              525.0        \n",
       "25                                              192.0        \n",
       "28                                              162.0        \n",
       "31                                              458.0        \n",
       "39                                              524.0        \n",
       "\n",
       "       Barthel categòric  MNA categòric  EMINA categòric  \\\n",
       "13    Dependència severa     Desconegut     Risc moderat   \n",
       "25  Dependència moderada      Malnodrit        Risc baix   \n",
       "28     Dependència total     Desconegut     Risc moderat   \n",
       "31  Dependència moderada      Malnodrit     Risc moderat   \n",
       "39    Dependència severa     Desconegut        Risc baix   \n",
       "\n",
       "          Canadenca categòrica  Pèrdua pes entre ingressos categòrica  \\\n",
       "13  Dèficit neurològic moderat                          No disponible   \n",
       "25                  Desconegut                          No disponible   \n",
       "28                  Desconegut                                   0 kg   \n",
       "31                  Desconegut                          No disponible   \n",
       "39                  Desconegut                          No disponible   \n",
       "\n",
       "    split_database  \n",
       "13          AMB_PA  \n",
       "25        SENSE_PA  \n",
       "28          AMB_PA  \n",
       "31          AMB_PA  \n",
       "39          AMB_PA  \n",
       "\n",
       "[5 rows x 83 columns]"
      ],
      "text/html": [
       "<div>\n",
       "<style scoped>\n",
       "    .dataframe tbody tr th:only-of-type {\n",
       "        vertical-align: middle;\n",
       "    }\n",
       "\n",
       "    .dataframe tbody tr th {\n",
       "        vertical-align: top;\n",
       "    }\n",
       "\n",
       "    .dataframe thead th {\n",
       "        text-align: right;\n",
       "    }\n",
       "</style>\n",
       "<table border=\"1\" class=\"dataframe\">\n",
       "  <thead>\n",
       "    <tr style=\"text-align: right;\">\n",
       "      <th></th>\n",
       "      <th>edat</th>\n",
       "      <th>sexe M</th>\n",
       "      <th>visitaDietista</th>\n",
       "      <th>labs</th>\n",
       "      <th>mna</th>\n",
       "      <th>emina</th>\n",
       "      <th>canadenca</th>\n",
       "      <th>pes</th>\n",
       "      <th>atcs</th>\n",
       "      <th>mecvvs</th>\n",
       "      <th>...</th>\n",
       "      <th>Pèrdua pes entre ingressos</th>\n",
       "      <th>Pèrdua pes total</th>\n",
       "      <th>Data més antiga pneumònia</th>\n",
       "      <th>Dies entre primer ICD pneumònia i primer MECVV positiu</th>\n",
       "      <th>Barthel categòric</th>\n",
       "      <th>MNA categòric</th>\n",
       "      <th>EMINA categòric</th>\n",
       "      <th>Canadenca categòrica</th>\n",
       "      <th>Pèrdua pes entre ingressos categòrica</th>\n",
       "      <th>split_database</th>\n",
       "    </tr>\n",
       "  </thead>\n",
       "  <tbody>\n",
       "    <tr>\n",
       "      <th>13</th>\n",
       "      <td>71</td>\n",
       "      <td>0</td>\n",
       "      <td>0</td>\n",
       "      <td>[{'date': '20220216', 'name': 'CULTIU Esput', ...</td>\n",
       "      <td>[]</td>\n",
       "      <td>[{'activitat': '3', 'estatMental': '0', 'humit...</td>\n",
       "      <td>[{'dataValoracio': '2020-09-06', 'horaValoraci...</td>\n",
       "      <td>[]</td>\n",
       "      <td>[{'codi': 'C10AA', 'dataInici': '2020-09-06 00...</td>\n",
       "      <td>[{'data': '20200906175506', 'disfagia': 'N', '...</td>\n",
       "      <td>...</td>\n",
       "      <td>None</td>\n",
       "      <td>None</td>\n",
       "      <td>2022-02-14</td>\n",
       "      <td>525.0</td>\n",
       "      <td>Dependència severa</td>\n",
       "      <td>Desconegut</td>\n",
       "      <td>Risc moderat</td>\n",
       "      <td>Dèficit neurològic moderat</td>\n",
       "      <td>No disponible</td>\n",
       "      <td>AMB_PA</td>\n",
       "    </tr>\n",
       "    <tr>\n",
       "      <th>25</th>\n",
       "      <td>83</td>\n",
       "      <td>0</td>\n",
       "      <td>0</td>\n",
       "      <td>[{'date': '20220308', 'name': 'UREA Sèrum', 'l...</td>\n",
       "      <td>[{'imc': '', 'anorexia': '', 'perduaPes': '', ...</td>\n",
       "      <td>[{'activitat': '0', 'estatMental': '1', 'humit...</td>\n",
       "      <td>[]</td>\n",
       "      <td>[{'valor': '57', 'data': '2022-11-03'}, {'valo...</td>\n",
       "      <td>[{'codi': 'C10AA', 'dataInici': '2022-09-27 00...</td>\n",
       "      <td>[{'data': '20220929091303', 'disfagia': 'S', '...</td>\n",
       "      <td>...</td>\n",
       "      <td>None</td>\n",
       "      <td>-6.2</td>\n",
       "      <td>2023-04-09</td>\n",
       "      <td>192.0</td>\n",
       "      <td>Dependència moderada</td>\n",
       "      <td>Malnodrit</td>\n",
       "      <td>Risc baix</td>\n",
       "      <td>Desconegut</td>\n",
       "      <td>No disponible</td>\n",
       "      <td>SENSE_PA</td>\n",
       "    </tr>\n",
       "    <tr>\n",
       "      <th>28</th>\n",
       "      <td>95</td>\n",
       "      <td>0</td>\n",
       "      <td>0</td>\n",
       "      <td>[{'date': '20220526', 'name': 'GLUCOSA Sèrum',...</td>\n",
       "      <td>[]</td>\n",
       "      <td>[{'activitat': '3', 'estatMental': '0', 'humit...</td>\n",
       "      <td>[]</td>\n",
       "      <td>[{'valor': '0', 'data': '2022-05-30'}]</td>\n",
       "      <td>[{'codi': 'C10AA', 'dataInici': '2020-11-18 00...</td>\n",
       "      <td>[{'data': '20220529115841', 'disfagia': 'S', '...</td>\n",
       "      <td>...</td>\n",
       "      <td>0.0</td>\n",
       "      <td>0.0</td>\n",
       "      <td>2022-11-07</td>\n",
       "      <td>162.0</td>\n",
       "      <td>Dependència total</td>\n",
       "      <td>Desconegut</td>\n",
       "      <td>Risc moderat</td>\n",
       "      <td>Desconegut</td>\n",
       "      <td>0 kg</td>\n",
       "      <td>AMB_PA</td>\n",
       "    </tr>\n",
       "    <tr>\n",
       "      <th>31</th>\n",
       "      <td>89</td>\n",
       "      <td>1</td>\n",
       "      <td>0</td>\n",
       "      <td>[{'date': '20220318', 'name': 'BILIRUBINA TOTA...</td>\n",
       "      <td>[{'imc': '', 'anorexia': '', 'perduaPes': '', ...</td>\n",
       "      <td>[{'activitat': '2', 'estatMental': '1', 'humit...</td>\n",
       "      <td>[]</td>\n",
       "      <td>[{'valor': '75', 'data': '2022-01-11'}, {'valo...</td>\n",
       "      <td>[{'codi': 'C10AA', 'dataInici': '2021-12-23 00...</td>\n",
       "      <td>[{'data': '20220119101523', 'disfagia': 'N', '...</td>\n",
       "      <td>...</td>\n",
       "      <td>None</td>\n",
       "      <td>8.0</td>\n",
       "      <td>2023-05-05</td>\n",
       "      <td>458.0</td>\n",
       "      <td>Dependència moderada</td>\n",
       "      <td>Malnodrit</td>\n",
       "      <td>Risc moderat</td>\n",
       "      <td>Desconegut</td>\n",
       "      <td>No disponible</td>\n",
       "      <td>AMB_PA</td>\n",
       "    </tr>\n",
       "    <tr>\n",
       "      <th>39</th>\n",
       "      <td>87</td>\n",
       "      <td>0</td>\n",
       "      <td>0</td>\n",
       "      <td>[{'date': '20230619', 'name': 'GLUCOSA Sèrum',...</td>\n",
       "      <td>[]</td>\n",
       "      <td>[{'activitat': '1', 'estatMental': '0', 'humit...</td>\n",
       "      <td>[]</td>\n",
       "      <td>[]</td>\n",
       "      <td>[{'codi': 'N02BE', 'dataInici': '2021-01-17 00...</td>\n",
       "      <td>[{'data': '20220111085147', 'disfagia': 'S', '...</td>\n",
       "      <td>...</td>\n",
       "      <td>None</td>\n",
       "      <td>None</td>\n",
       "      <td>2023-06-19</td>\n",
       "      <td>524.0</td>\n",
       "      <td>Dependència severa</td>\n",
       "      <td>Desconegut</td>\n",
       "      <td>Risc baix</td>\n",
       "      <td>Desconegut</td>\n",
       "      <td>No disponible</td>\n",
       "      <td>AMB_PA</td>\n",
       "    </tr>\n",
       "  </tbody>\n",
       "</table>\n",
       "<p>5 rows × 83 columns</p>\n",
       "</div>"
      ]
     },
     "execution_count": 5,
     "metadata": {},
     "output_type": "execute_result"
    }
   ],
   "execution_count": 5
  },
  {
   "cell_type": "markdown",
   "source": [
    "# TOTAL"
   ],
   "metadata": {
    "collapsed": false
   },
   "id": "96e8546f52482484"
  },
  {
   "cell_type": "code",
   "source": [
    "TOTAL = taula\n",
    "taula.head()"
   ],
   "metadata": {
    "collapsed": false,
    "ExecuteTime": {
     "end_time": "2024-06-19T10:51:25.923677Z",
     "start_time": "2024-06-19T10:51:25.646562Z"
    }
   },
   "id": "6f3b6e5a0174bd39",
   "outputs": [
    {
     "data": {
      "text/plain": [
       "   edat  sexe M  visitaDietista  \\\n",
       "0    89       0               0   \n",
       "1    70       1               0   \n",
       "2    96       1               0   \n",
       "3    85       1               0   \n",
       "4    93       1               0   \n",
       "\n",
       "                                                labs  \\\n",
       "0                                                 []   \n",
       "1  [{'date': '20220524', 'name': 'PCR SARS-CoV2 S...   \n",
       "2                                                 []   \n",
       "3                                                 []   \n",
       "4  [{'date': '20220208', 'name': 'UREA Sèrum', 'l...   \n",
       "\n",
       "                                                 mna  \\\n",
       "0                                                 []   \n",
       "1                                                 []   \n",
       "2                                                 []   \n",
       "3                                                 []   \n",
       "4  [{'imc': '0', 'anorexia': '1', 'perduaPes': '1...   \n",
       "\n",
       "                                               emina canadenca  \\\n",
       "0  [{'activitat': '2', 'estatMental': '1', 'humit...        []   \n",
       "1  [{'activitat': '0', 'estatMental': '0', 'humit...        []   \n",
       "2  [{'activitat': '3', 'estatMental': '0', 'humit...        []   \n",
       "3  [{'activitat': '2', 'estatMental': '1', 'humit...        []   \n",
       "4  [{'activitat': '2', 'estatMental': '1', 'humit...        []   \n",
       "\n",
       "                                                 pes  \\\n",
       "0                                                 []   \n",
       "1  [{'valor': '64.7', 'data': '2022-10-04'}, {'va...   \n",
       "2                                                 []   \n",
       "3                                                 []   \n",
       "4  [{'valor': '49.900', 'data': '2022-06-02'}, {'...   \n",
       "\n",
       "                                                atcs  \\\n",
       "0  [{'codi': 'M01AE', 'dataInici': '2020-06-21 00...   \n",
       "1  [{'codi': 'C09AA', 'dataInici': '2021-05-26 00...   \n",
       "2  [{'codi': 'G04CA', 'dataInici': '2020-07-09 00...   \n",
       "3  [{'codi': 'G04CA', 'dataInici': '2020-07-15 00...   \n",
       "4  [{'codi': 'N02AA', 'dataInici': '2022-02-01 00...   \n",
       "\n",
       "                                              mecvvs  ...  \\\n",
       "0                                                 []  ...   \n",
       "1  [{'data': '20220930', 'pacientNoColabora': '',...  ...   \n",
       "2                                                 []  ...   \n",
       "3  [{'data': '20201204131810', 'disfagia': 'S', '...  ...   \n",
       "4  [{'data': '20220330172303', 'disfagiaConeguda'...  ...   \n",
       "\n",
       "  Pèrdua pes entre ingressos Pèrdua pes total  Data més antiga pneumònia  \\\n",
       "0                       None             None                 2020-06-18   \n",
       "1                       None             16.3                 2022-09-29   \n",
       "2                       None             None                 2020-07-08   \n",
       "3                       None             None                 2020-12-02   \n",
       "4                       None              0.0                        NaT   \n",
       "\n",
       "   Dies entre primer ICD pneumònia i primer MECVV positiu   Barthel categòric  \\\n",
       "0                                                NaN        Dependència total   \n",
       "1                                                NaN       Dependència severa   \n",
       "2                                                NaN       Dependència severa   \n",
       "3                                                2.0       Dependència severa   \n",
       "4                                                NaN        Dependència total   \n",
       "\n",
       "   MNA categòric  EMINA categòric  Canadenca categòrica  \\\n",
       "0     Desconegut     Risc moderat            Desconegut   \n",
       "1     Desconegut        Risc baix            Desconegut   \n",
       "2     Desconegut     Risc moderat            Desconegut   \n",
       "3     Desconegut     Risc moderat            Desconegut   \n",
       "4      Malnodrit     Risc moderat            Desconegut   \n",
       "\n",
       "   Pèrdua pes entre ingressos categòrica  split_database  \n",
       "0                          No disponible          AMB_PA  \n",
       "1                          No disponible          AMB_PA  \n",
       "2                          No disponible      Desconegut  \n",
       "3                          No disponible          AMB_PA  \n",
       "4                          No disponible          AMB_PA  \n",
       "\n",
       "[5 rows x 83 columns]"
      ],
      "text/html": [
       "<div>\n",
       "<style scoped>\n",
       "    .dataframe tbody tr th:only-of-type {\n",
       "        vertical-align: middle;\n",
       "    }\n",
       "\n",
       "    .dataframe tbody tr th {\n",
       "        vertical-align: top;\n",
       "    }\n",
       "\n",
       "    .dataframe thead th {\n",
       "        text-align: right;\n",
       "    }\n",
       "</style>\n",
       "<table border=\"1\" class=\"dataframe\">\n",
       "  <thead>\n",
       "    <tr style=\"text-align: right;\">\n",
       "      <th></th>\n",
       "      <th>edat</th>\n",
       "      <th>sexe M</th>\n",
       "      <th>visitaDietista</th>\n",
       "      <th>labs</th>\n",
       "      <th>mna</th>\n",
       "      <th>emina</th>\n",
       "      <th>canadenca</th>\n",
       "      <th>pes</th>\n",
       "      <th>atcs</th>\n",
       "      <th>mecvvs</th>\n",
       "      <th>...</th>\n",
       "      <th>Pèrdua pes entre ingressos</th>\n",
       "      <th>Pèrdua pes total</th>\n",
       "      <th>Data més antiga pneumònia</th>\n",
       "      <th>Dies entre primer ICD pneumònia i primer MECVV positiu</th>\n",
       "      <th>Barthel categòric</th>\n",
       "      <th>MNA categòric</th>\n",
       "      <th>EMINA categòric</th>\n",
       "      <th>Canadenca categòrica</th>\n",
       "      <th>Pèrdua pes entre ingressos categòrica</th>\n",
       "      <th>split_database</th>\n",
       "    </tr>\n",
       "  </thead>\n",
       "  <tbody>\n",
       "    <tr>\n",
       "      <th>0</th>\n",
       "      <td>89</td>\n",
       "      <td>0</td>\n",
       "      <td>0</td>\n",
       "      <td>[]</td>\n",
       "      <td>[]</td>\n",
       "      <td>[{'activitat': '2', 'estatMental': '1', 'humit...</td>\n",
       "      <td>[]</td>\n",
       "      <td>[]</td>\n",
       "      <td>[{'codi': 'M01AE', 'dataInici': '2020-06-21 00...</td>\n",
       "      <td>[]</td>\n",
       "      <td>...</td>\n",
       "      <td>None</td>\n",
       "      <td>None</td>\n",
       "      <td>2020-06-18</td>\n",
       "      <td>NaN</td>\n",
       "      <td>Dependència total</td>\n",
       "      <td>Desconegut</td>\n",
       "      <td>Risc moderat</td>\n",
       "      <td>Desconegut</td>\n",
       "      <td>No disponible</td>\n",
       "      <td>AMB_PA</td>\n",
       "    </tr>\n",
       "    <tr>\n",
       "      <th>1</th>\n",
       "      <td>70</td>\n",
       "      <td>1</td>\n",
       "      <td>0</td>\n",
       "      <td>[{'date': '20220524', 'name': 'PCR SARS-CoV2 S...</td>\n",
       "      <td>[]</td>\n",
       "      <td>[{'activitat': '0', 'estatMental': '0', 'humit...</td>\n",
       "      <td>[]</td>\n",
       "      <td>[{'valor': '64.7', 'data': '2022-10-04'}, {'va...</td>\n",
       "      <td>[{'codi': 'C09AA', 'dataInici': '2021-05-26 00...</td>\n",
       "      <td>[{'data': '20220930', 'pacientNoColabora': '',...</td>\n",
       "      <td>...</td>\n",
       "      <td>None</td>\n",
       "      <td>16.3</td>\n",
       "      <td>2022-09-29</td>\n",
       "      <td>NaN</td>\n",
       "      <td>Dependència severa</td>\n",
       "      <td>Desconegut</td>\n",
       "      <td>Risc baix</td>\n",
       "      <td>Desconegut</td>\n",
       "      <td>No disponible</td>\n",
       "      <td>AMB_PA</td>\n",
       "    </tr>\n",
       "    <tr>\n",
       "      <th>2</th>\n",
       "      <td>96</td>\n",
       "      <td>1</td>\n",
       "      <td>0</td>\n",
       "      <td>[]</td>\n",
       "      <td>[]</td>\n",
       "      <td>[{'activitat': '3', 'estatMental': '0', 'humit...</td>\n",
       "      <td>[]</td>\n",
       "      <td>[]</td>\n",
       "      <td>[{'codi': 'G04CA', 'dataInici': '2020-07-09 00...</td>\n",
       "      <td>[]</td>\n",
       "      <td>...</td>\n",
       "      <td>None</td>\n",
       "      <td>None</td>\n",
       "      <td>2020-07-08</td>\n",
       "      <td>NaN</td>\n",
       "      <td>Dependència severa</td>\n",
       "      <td>Desconegut</td>\n",
       "      <td>Risc moderat</td>\n",
       "      <td>Desconegut</td>\n",
       "      <td>No disponible</td>\n",
       "      <td>Desconegut</td>\n",
       "    </tr>\n",
       "    <tr>\n",
       "      <th>3</th>\n",
       "      <td>85</td>\n",
       "      <td>1</td>\n",
       "      <td>0</td>\n",
       "      <td>[]</td>\n",
       "      <td>[]</td>\n",
       "      <td>[{'activitat': '2', 'estatMental': '1', 'humit...</td>\n",
       "      <td>[]</td>\n",
       "      <td>[]</td>\n",
       "      <td>[{'codi': 'G04CA', 'dataInici': '2020-07-15 00...</td>\n",
       "      <td>[{'data': '20201204131810', 'disfagia': 'S', '...</td>\n",
       "      <td>...</td>\n",
       "      <td>None</td>\n",
       "      <td>None</td>\n",
       "      <td>2020-12-02</td>\n",
       "      <td>2.0</td>\n",
       "      <td>Dependència severa</td>\n",
       "      <td>Desconegut</td>\n",
       "      <td>Risc moderat</td>\n",
       "      <td>Desconegut</td>\n",
       "      <td>No disponible</td>\n",
       "      <td>AMB_PA</td>\n",
       "    </tr>\n",
       "    <tr>\n",
       "      <th>4</th>\n",
       "      <td>93</td>\n",
       "      <td>1</td>\n",
       "      <td>0</td>\n",
       "      <td>[{'date': '20220208', 'name': 'UREA Sèrum', 'l...</td>\n",
       "      <td>[{'imc': '0', 'anorexia': '1', 'perduaPes': '1...</td>\n",
       "      <td>[{'activitat': '2', 'estatMental': '1', 'humit...</td>\n",
       "      <td>[]</td>\n",
       "      <td>[{'valor': '49.900', 'data': '2022-06-02'}, {'...</td>\n",
       "      <td>[{'codi': 'N02AA', 'dataInici': '2022-02-01 00...</td>\n",
       "      <td>[{'data': '20220330172303', 'disfagiaConeguda'...</td>\n",
       "      <td>...</td>\n",
       "      <td>None</td>\n",
       "      <td>0.0</td>\n",
       "      <td>NaT</td>\n",
       "      <td>NaN</td>\n",
       "      <td>Dependència total</td>\n",
       "      <td>Malnodrit</td>\n",
       "      <td>Risc moderat</td>\n",
       "      <td>Desconegut</td>\n",
       "      <td>No disponible</td>\n",
       "      <td>AMB_PA</td>\n",
       "    </tr>\n",
       "  </tbody>\n",
       "</table>\n",
       "<p>5 rows × 83 columns</p>\n",
       "</div>"
      ]
     },
     "execution_count": 6,
     "metadata": {},
     "output_type": "execute_result"
    }
   ],
   "execution_count": 6
  },
  {
   "cell_type": "markdown",
   "source": [
    "Ara que es tenen totes les dades classificades en aquests grups, es realitzarà una descriptiva. També es comprovaran els diferents grups amb el p-valor mitjançant T-test, test de Mann-Whitney o test Xi-quadrat per mirar la seva distribució, la qual s'espera que sigui similar entre el grup AMB_PA i AMB_PA_MECVV, i diferent entre SENSE_PA i els altres 2 grups. Els criteris que se segueixen per utilitzar un test o un altre és, primer, fer un test de Shapiro-Wilk per comprovar si segueixen una distribució normal, si és així, s'usarà el T-test, i si no, el de Mann-Whitney. Finalment, si la columna conté valors categòrics com és el cas del sexe (F/M), es farà servir el test Xi-quadrat. \n",
    "\n",
    "Aquests criteris es tindran en compte per generar dues funcions, una dirigida a variables numèriques que durà a terme tot el procés de comprovar la normalitat i aplicar un test o un altre, i una altra dirigida a variables categòriques que realitzarà directament el test Xi-quadrat. A més, per fer la lectura més agradable, el p-valor obtingut es retornarà en forma de gràfica. \n"
   ],
   "metadata": {
    "collapsed": false
   },
   "id": "7f349a29c092d1bc"
  },
  {
   "cell_type": "markdown",
   "source": "# Anàlisi descriptiva de les dades",
   "metadata": {
    "collapsed": false
   },
   "id": "cb8681bc87c8ed6a"
  },
  {
   "cell_type": "markdown",
   "source": [
    "### Comptatges i percentatges de variables categòriques per grup"
   ],
   "metadata": {
    "collapsed": false
   },
   "id": "eb6a6c33dfeb4b0b"
  },
  {
   "cell_type": "code",
   "source": [
    "llista_dfs = [('AMB_PA', AMB_PA), ('AMB_PA_MECVV', AMB_PA_MECVV), ('SENSE_PA', SENSE_PA), ('TOTAL', TOTAL)]\n",
    "\n",
    "comptatge_i_percentatge_cat(llista_dfs, cat_var)"
   ],
   "metadata": {
    "collapsed": false,
    "ExecuteTime": {
     "end_time": "2024-06-19T10:51:26.004236Z",
     "start_time": "2024-06-19T10:51:25.925503Z"
    }
   },
   "id": "fe39bf1bf0e506a6",
   "outputs": [
    {
     "name": "stdout",
     "output_type": "stream",
     "text": [
      "+----------------------------------------------------+--------------+-------+------------+--------------+\n",
      "|                      Columna                       |  DataFrame   | Valor | Comptatges | Percentatges |\n",
      "+----------------------------------------------------+--------------+-------+------------+--------------+\n",
      "|                       sexe M                       |    AMB_PA    |   1   |     10     |    55.56%    |\n",
      "|                                                    |              |   0   |     8      |    44.44%    |\n",
      "|                                                    |              |       |            |              |\n",
      "|                       sexe M                       | AMB_PA_MECVV |   1   |     5      |    83.33%    |\n",
      "|                                                    |              |   0   |     1      |    16.67%    |\n",
      "|                                                    |              |       |            |              |\n",
      "|                       sexe M                       |   SENSE_PA   |   0   |     5      |    50.00%    |\n",
      "|                                                    |              |   1   |     5      |    50.00%    |\n",
      "|                                                    |              |       |            |              |\n",
      "|                       sexe M                       |    TOTAL     |   1   |     26     |    61.90%    |\n",
      "|                                                    |              |   0   |     16     |    38.10%    |\n",
      "|                                                    |              |       |            |              |\n",
      "|                   visitaDietista                   |    AMB_PA    |   0   |     18     |   100.00%    |\n",
      "|                                                    |              |       |            |              |\n",
      "|                   visitaDietista                   | AMB_PA_MECVV |   0   |     6      |   100.00%    |\n",
      "|                                                    |              |       |            |              |\n",
      "|                   visitaDietista                   |   SENSE_PA   |   0   |     10     |   100.00%    |\n",
      "|                                                    |              |       |            |              |\n",
      "|                   visitaDietista                   |    TOTAL     |   0   |     42     |   100.00%    |\n",
      "|                                                    |              |       |            |              |\n",
      "|                  PA diagnosticada                  |    AMB_PA    |  1.0  |     18     |   100.00%    |\n",
      "|                                                    |              |       |            |              |\n",
      "|                  PA diagnosticada                  | AMB_PA_MECVV |  1.0  |     4      |    66.67%    |\n",
      "|                                                    |              |  0.0  |     2      |    33.33%    |\n",
      "|                                                    |              |       |            |              |\n",
      "|                  PA diagnosticada                  |   SENSE_PA   |  1.0  |     5      |    50.00%    |\n",
      "|                                                    |              |  0.0  |     5      |    50.00%    |\n",
      "|                                                    |              |       |            |              |\n",
      "|                  PA diagnosticada                  |    TOTAL     |  0.0  |     24     |    57.14%    |\n",
      "|                                                    |              |  1.0  |     18     |    42.86%    |\n",
      "|                                                    |              |       |            |              |\n",
      "|                  DO diagnosticada                  |    AMB_PA    |  0.0  |     10     |    55.56%    |\n",
      "|                                                    |              |  1.0  |     8      |    44.44%    |\n",
      "|                                                    |              |       |            |              |\n",
      "|                  DO diagnosticada                  | AMB_PA_MECVV |  1.0  |     3      |    50.00%    |\n",
      "|                                                    |              |  0.0  |     3      |    50.00%    |\n",
      "|                                                    |              |       |            |              |\n",
      "|                  DO diagnosticada                  |   SENSE_PA   |  0.0  |     7      |    70.00%    |\n",
      "|                                                    |              |  1.0  |     3      |    30.00%    |\n",
      "|                                                    |              |       |            |              |\n",
      "|                  DO diagnosticada                  |    TOTAL     |  0.0  |     32     |    76.19%    |\n",
      "|                                                    |              |  1.0  |     10     |    23.81%    |\n",
      "|                                                    |              |       |            |              |\n",
      "|                  P diagnosticada                   |    AMB_PA    |  1.0  |     15     |    83.33%    |\n",
      "|                                                    |              |  0.0  |     3      |    16.67%    |\n",
      "|                                                    |              |       |            |              |\n",
      "|                  P diagnosticada                   | AMB_PA_MECVV |  1.0  |     6      |   100.00%    |\n",
      "|                                                    |              |       |            |              |\n",
      "|                  P diagnosticada                   |   SENSE_PA   |  1.0  |     10     |   100.00%    |\n",
      "|                                                    |              |       |            |              |\n",
      "|                  P diagnosticada                   |    TOTAL     |  1.0  |     38     |    90.48%    |\n",
      "|                                                    |              |  0.0  |     4      |    9.52%     |\n",
      "|                                                    |              |       |            |              |\n",
      "| Infeccions respiratòries principals diagnosticades |    AMB_PA    |  0.0  |     10     |    55.56%    |\n",
      "|                                                    |              |  1.0  |     8      |    44.44%    |\n",
      "|                                                    |              |       |            |              |\n",
      "| Infeccions respiratòries principals diagnosticades | AMB_PA_MECVV |  0.0  |     4      |    66.67%    |\n",
      "|                                                    |              |  1.0  |     2      |    33.33%    |\n",
      "|                                                    |              |       |            |              |\n",
      "| Infeccions respiratòries principals diagnosticades |   SENSE_PA   |  1.0  |     6      |    60.00%    |\n",
      "|                                                    |              |  0.0  |     4      |    40.00%    |\n",
      "|                                                    |              |       |            |              |\n",
      "| Infeccions respiratòries principals diagnosticades |    TOTAL     |  0.0  |     23     |    54.76%    |\n",
      "|                                                    |              |  1.0  |     19     |    45.24%    |\n",
      "|                                                    |              |       |            |              |\n",
      "|                 LRTI diagnosticada                 |    AMB_PA    |  0.0  |     14     |    77.78%    |\n",
      "|                                                    |              |  1.0  |     4      |    22.22%    |\n",
      "|                                                    |              |       |            |              |\n",
      "|                 LRTI diagnosticada                 | AMB_PA_MECVV |  0.0  |     6      |   100.00%    |\n",
      "|                                                    |              |       |            |              |\n",
      "|                 LRTI diagnosticada                 |   SENSE_PA   |  0.0  |     7      |    70.00%    |\n",
      "|                                                    |              |  1.0  |     3      |    30.00%    |\n",
      "|                                                    |              |       |            |              |\n",
      "|                 LRTI diagnosticada                 |    TOTAL     |  0.0  |     33     |    78.57%    |\n",
      "|                                                    |              |  1.0  |     9      |    21.43%    |\n",
      "|                                                    |              |       |            |              |\n",
      "|        Exacerbacions de COPD diagnosticades        |    AMB_PA    |  0.0  |     13     |    72.22%    |\n",
      "|                                                    |              |  1.0  |     5      |    27.78%    |\n",
      "|                                                    |              |       |            |              |\n",
      "|        Exacerbacions de COPD diagnosticades        | AMB_PA_MECVV |  0.0  |     4      |    66.67%    |\n",
      "|                                                    |              |  1.0  |     2      |    33.33%    |\n",
      "|                                                    |              |       |            |              |\n",
      "|        Exacerbacions de COPD diagnosticades        |   SENSE_PA   |  0.0  |     6      |    60.00%    |\n",
      "|                                                    |              |  1.0  |     4      |    40.00%    |\n",
      "|                                                    |              |       |            |              |\n",
      "|        Exacerbacions de COPD diagnosticades        |    TOTAL     |  0.0  |     27     |    64.29%    |\n",
      "|                                                    |              |  1.0  |     15     |    35.71%    |\n",
      "|                                                    |              |       |            |              |\n",
      "|    Fibrosi pulmonar i fibrotòrax diagnosticades    |    AMB_PA    |  0.0  |     18     |   100.00%    |\n",
      "|                                                    |              |       |            |              |\n",
      "|    Fibrosi pulmonar i fibrotòrax diagnosticades    | AMB_PA_MECVV |  0.0  |     6      |   100.00%    |\n",
      "|                                                    |              |       |            |              |\n",
      "|    Fibrosi pulmonar i fibrotòrax diagnosticades    |   SENSE_PA   |  0.0  |     10     |   100.00%    |\n",
      "|                                                    |              |       |            |              |\n",
      "|    Fibrosi pulmonar i fibrotòrax diagnosticades    |    TOTAL     |  0.0  |     42     |   100.00%    |\n",
      "|                                                    |              |       |            |              |\n",
      "+----------------------------------------------------+--------------+-------+------------+--------------+\n"
     ]
    }
   ],
   "execution_count": 7
  },
  {
   "cell_type": "markdown",
   "source": [
    "### Comptatges i percentatges de tests categòrics per grup"
   ],
   "metadata": {
    "collapsed": false
   },
   "id": "a5c43a1979b64aea"
  },
  {
   "cell_type": "code",
   "source": [
    "llista_dfs = [('AMB_PA', AMB_PA), ('AMB_PA_MECVV', AMB_PA_MECVV), ('SENSE_PA', SENSE_PA), ('TOTAL', TOTAL)]\n",
    "\n",
    "comptatge_i_percentatge_cat(llista_dfs, cat_tests)"
   ],
   "metadata": {
    "collapsed": false,
    "ExecuteTime": {
     "end_time": "2024-06-19T10:51:26.055469Z",
     "start_time": "2024-06-19T10:51:26.006517Z"
    }
   },
   "id": "adec6fd8d7951316",
   "outputs": [
    {
     "name": "stdout",
     "output_type": "stream",
     "text": [
      "+----------------------+--------------+----------------------------+------------+--------------+\n",
      "|       Columna        |  DataFrame   |           Valor            | Comptatges | Percentatges |\n",
      "+----------------------+--------------+----------------------------+------------+--------------+\n",
      "|  Barthel categòric   |    AMB_PA    |     Dependència total      |     10     |    55.56%    |\n",
      "|                      |              |     Dependència severa     |     7      |    38.89%    |\n",
      "|                      |              |    Dependència moderada    |     1      |    5.56%     |\n",
      "|                      |              |                            |            |              |\n",
      "|  Barthel categòric   | AMB_PA_MECVV |     Dependència total      |     4      |    66.67%    |\n",
      "|                      |              |     Dependència severa     |     2      |    33.33%    |\n",
      "|                      |              |                            |            |              |\n",
      "|  Barthel categòric   |   SENSE_PA   |     Dependència severa     |     5      |    50.00%    |\n",
      "|                      |              |    Dependència moderada    |     3      |    30.00%    |\n",
      "|                      |              |     Dependència total      |     2      |    20.00%    |\n",
      "|                      |              |                            |            |              |\n",
      "|  Barthel categòric   |    TOTAL     |     Dependència total      |     17     |    40.48%    |\n",
      "|                      |              |     Dependència severa     |     12     |    28.57%    |\n",
      "|                      |              |    Dependència moderada    |     9      |    21.43%    |\n",
      "|                      |              |        Independent         |     4      |    9.52%     |\n",
      "|                      |              |                            |            |              |\n",
      "|   EMINA categòric    |    AMB_PA    |        Risc moderat        |     12     |    66.67%    |\n",
      "|                      |              |         Risc baix          |     3      |    16.67%    |\n",
      "|                      |              |          Risc alt          |     3      |    16.67%    |\n",
      "|                      |              |                            |            |              |\n",
      "|   EMINA categòric    | AMB_PA_MECVV |        Risc moderat        |     6      |   100.00%    |\n",
      "|                      |              |                            |            |              |\n",
      "|   EMINA categòric    |   SENSE_PA   |        Risc moderat        |     6      |    60.00%    |\n",
      "|                      |              |         Risc baix          |     3      |    30.00%    |\n",
      "|                      |              |          Risc alt          |     1      |    10.00%    |\n",
      "|                      |              |                            |            |              |\n",
      "|   EMINA categòric    |    TOTAL     |        Risc moderat        |     20     |    47.62%    |\n",
      "|                      |              |         Risc baix          |     16     |    38.10%    |\n",
      "|                      |              |          Risc alt          |     5      |    11.90%    |\n",
      "|                      |              |         Desconegut         |     1      |    2.38%     |\n",
      "|                      |              |                            |            |              |\n",
      "|    MNA categòric     |    AMB_PA    |         Desconegut         |     13     |    72.22%    |\n",
      "|                      |              |         Malnodrit          |     5      |    27.78%    |\n",
      "|                      |              |                            |            |              |\n",
      "|    MNA categòric     | AMB_PA_MECVV |         Desconegut         |     5      |    83.33%    |\n",
      "|                      |              |         Malnodrit          |     1      |    16.67%    |\n",
      "|                      |              |                            |            |              |\n",
      "|    MNA categòric     |   SENSE_PA   |         Desconegut         |     6      |    60.00%    |\n",
      "|                      |              |         Malnodrit          |     4      |    40.00%    |\n",
      "|                      |              |                            |            |              |\n",
      "|    MNA categòric     |    TOTAL     |         Desconegut         |     31     |    73.81%    |\n",
      "|                      |              |         Malnodrit          |     9      |    21.43%    |\n",
      "|                      |              |    Risc de malnutrició     |     2      |    4.76%     |\n",
      "|                      |              |                            |            |              |\n",
      "| Canadenca categòrica |    AMB_PA    |         Desconegut         |     17     |    94.44%    |\n",
      "|                      |              | Dèficit neurològic moderat |     1      |    5.56%     |\n",
      "|                      |              |                            |            |              |\n",
      "| Canadenca categòrica | AMB_PA_MECVV |         Desconegut         |     6      |   100.00%    |\n",
      "|                      |              |                            |            |              |\n",
      "| Canadenca categòrica |   SENSE_PA   |         Desconegut         |     9      |    90.00%    |\n",
      "|                      |              | Dèficit neurològic moderat |     1      |    10.00%    |\n",
      "|                      |              |                            |            |              |\n",
      "| Canadenca categòrica |    TOTAL     |         Desconegut         |     40     |    95.24%    |\n",
      "|                      |              | Dèficit neurològic moderat |     2      |    4.76%     |\n",
      "|                      |              |                            |            |              |\n",
      "+----------------------+--------------+----------------------------+------------+--------------+\n"
     ]
    }
   ],
   "execution_count": 8
  },
  {
   "cell_type": "markdown",
   "source": [
    "### Mitjanes i desviacions estàndard de variables numèriques per grup"
   ],
   "metadata": {
    "collapsed": false
   },
   "id": "80fa23592b04584"
  },
  {
   "cell_type": "code",
   "source": [
    "llista_dfs = [('AMB_PA', AMB_PA), ('AMB_PA_MECVV', AMB_PA_MECVV), ('SENSE_PA', SENSE_PA), ('TOTAL', TOTAL)]\n",
    "\n",
    "mitjana_i_std_num(llista_dfs, num_var)"
   ],
   "metadata": {
    "collapsed": false,
    "ExecuteTime": {
     "end_time": "2024-06-19T10:51:26.140333Z",
     "start_time": "2024-06-19T10:51:26.061476Z"
    }
   },
   "id": "2f87fdb6064b92da",
   "outputs": [
    {
     "name": "stdout",
     "output_type": "stream",
     "text": [
      "+-----------------------+--------------+---------+---------------------+\n",
      "|        Columna        |  DataFrame   | Mitjana | Desviació Estàndard |\n",
      "+-----------------------+--------------+---------+---------------------+\n",
      "|          edat         |    AMB_PA    |  87.39  |         8.83        |\n",
      "|                       |              |         |                     |\n",
      "|          edat         | AMB_PA_MECVV |  92.00  |         7.35        |\n",
      "|                       |              |         |                     |\n",
      "|          edat         |   SENSE_PA   |  87.00  |         6.72        |\n",
      "|                       |              |         |                     |\n",
      "|          edat         |    TOTAL     |  86.19  |         8.77        |\n",
      "|                       |              |         |                     |\n",
      "|      Mitjana pes      |    AMB_PA    |  44.06  |        28.98        |\n",
      "|                       |              |         |                     |\n",
      "|      Mitjana pes      | AMB_PA_MECVV |  46.32  |        25.73        |\n",
      "|                       |              |         |                     |\n",
      "|      Mitjana pes      |   SENSE_PA   |  38.01  |        34.93        |\n",
      "|                       |              |         |                     |\n",
      "|      Mitjana pes      |    TOTAL     |  52.04  |        35.20        |\n",
      "|                       |              |         |                     |\n",
      "|       Admissions      |    AMB_PA    |   2.44  |         1.85        |\n",
      "|                       |              |         |                     |\n",
      "|       Admissions      | AMB_PA_MECVV |   2.50  |         1.22        |\n",
      "|                       |              |         |                     |\n",
      "|       Admissions      |   SENSE_PA   |   2.90  |         1.10        |\n",
      "|                       |              |         |                     |\n",
      "|       Admissions      |    TOTAL     |   2.40  |         2.02        |\n",
      "|                       |              |         |                     |\n",
      "|      Emergències      |    AMB_PA    |   4.33  |         4.42        |\n",
      "|                       |              |         |                     |\n",
      "|      Emergències      | AMB_PA_MECVV |   3.17  |         0.75        |\n",
      "|                       |              |         |                     |\n",
      "|      Emergències      |   SENSE_PA   |   5.40  |         2.84        |\n",
      "|                       |              |         |                     |\n",
      "|      Emergències      |    TOTAL     |   4.38  |         3.69        |\n",
      "|                       |              |         |                     |\n",
      "| Dies totals ingressat |    AMB_PA    |  33.06  |        34.62        |\n",
      "|                       |              |         |                     |\n",
      "| Dies totals ingressat | AMB_PA_MECVV |  21.50  |         9.18        |\n",
      "|                       |              |         |                     |\n",
      "| Dies totals ingressat |   SENSE_PA   |  55.90  |        45.65        |\n",
      "|                       |              |         |                     |\n",
      "| Dies totals ingressat |    TOTAL     |  32.40  |        33.37        |\n",
      "|                       |              |         |                     |\n",
      "|        Albumin        |    AMB_PA    |   3.34  |         0.38        |\n",
      "|                       |              |         |                     |\n",
      "|        Albumin        | AMB_PA_MECVV |   2.90  |         nan         |\n",
      "|                       |              |         |                     |\n",
      "|        Albumin        |   SENSE_PA   |   3.55  |         0.29        |\n",
      "|                       |              |         |                     |\n",
      "|        Albumin        |    TOTAL     |   3.40  |         0.58        |\n",
      "|                       |              |         |                     |\n",
      "|     Total Proteins    |    AMB_PA    |   6.03  |         0.73        |\n",
      "|                       |              |         |                     |\n",
      "|     Total Proteins    | AMB_PA_MECVV |   5.60  |         nan         |\n",
      "|                       |              |         |                     |\n",
      "|     Total Proteins    |   SENSE_PA   |   6.27  |         0.69        |\n",
      "|                       |              |         |                     |\n",
      "|     Total Proteins    |    TOTAL     |   5.97  |         0.74        |\n",
      "|                       |              |         |                     |\n",
      "|       Hemoglobin      |    AMB_PA    |  12.34  |         1.77        |\n",
      "|                       |              |         |                     |\n",
      "|       Hemoglobin      | AMB_PA_MECVV |  13.50  |         nan         |\n",
      "|                       |              |         |                     |\n",
      "|       Hemoglobin      |   SENSE_PA   |  12.35  |         1.76        |\n",
      "|                       |              |         |                     |\n",
      "|       Hemoglobin      |    TOTAL     |  12.73  |         1.70        |\n",
      "|                       |              |         |                     |\n",
      "|   Total Cholesterol   |    AMB_PA    |  132.10 |        34.83        |\n",
      "|                       |              |         |                     |\n",
      "|   Total Cholesterol   | AMB_PA_MECVV |  119.50 |         nan         |\n",
      "|                       |              |         |                     |\n",
      "|   Total Cholesterol   |   SENSE_PA   |  130.19 |        33.79        |\n",
      "|                       |              |         |                     |\n",
      "|   Total Cholesterol   |    TOTAL     |  134.41 |        36.55        |\n",
      "|                       |              |         |                     |\n",
      "|       Leucocytes      |    AMB_PA    |  12.00  |         5.01        |\n",
      "|                       |              |         |                     |\n",
      "|       Leucocytes      | AMB_PA_MECVV |   8.55  |         nan         |\n",
      "|                       |              |         |                     |\n",
      "|       Leucocytes      |   SENSE_PA   |  10.25  |         5.55        |\n",
      "|                       |              |         |                     |\n",
      "|       Leucocytes      |    TOTAL     |  10.82  |         6.68        |\n",
      "|                       |              |         |                     |\n",
      "|      Lymphocytes      |    AMB_PA    |  10.00  |         8.49        |\n",
      "|                       |              |         |                     |\n",
      "|      Lymphocytes      | AMB_PA_MECVV |   nan   |         nan         |\n",
      "|                       |              |         |                     |\n",
      "|      Lymphocytes      |   SENSE_PA   |   4.00  |         nan         |\n",
      "|                       |              |         |                     |\n",
      "|      Lymphocytes      |    TOTAL     |   5.80  |         5.76        |\n",
      "|                       |              |         |                     |\n",
      "|   C reactive protein  |    AMB_PA    |   8.06  |         5.80        |\n",
      "|                       |              |         |                     |\n",
      "|   C reactive protein  | AMB_PA_MECVV |   8.16  |         nan         |\n",
      "|                       |              |         |                     |\n",
      "|   C reactive protein  |   SENSE_PA   |   5.22  |         4.79        |\n",
      "|                       |              |         |                     |\n",
      "|   C reactive protein  |    TOTAL     |   6.84  |         6.08        |\n",
      "|                       |              |         |                     |\n",
      "|       Creatinine      |    AMB_PA    |   0.93  |         0.36        |\n",
      "|                       |              |         |                     |\n",
      "|       Creatinine      | AMB_PA_MECVV |   1.39  |         nan         |\n",
      "|                       |              |         |                     |\n",
      "|       Creatinine      |   SENSE_PA   |   0.96  |         0.35        |\n",
      "|                       |              |         |                     |\n",
      "|       Creatinine      |    TOTAL     |   1.25  |         0.89        |\n",
      "|                       |              |         |                     |\n",
      "|          Urea         |    AMB_PA    |  62.17  |        36.37        |\n",
      "|                       |              |         |                     |\n",
      "|          Urea         | AMB_PA_MECVV |  114.20 |         nan         |\n",
      "|                       |              |         |                     |\n",
      "|          Urea         |   SENSE_PA   |  49.29  |        20.99        |\n",
      "|                       |              |         |                     |\n",
      "|          Urea         |    TOTAL     |  56.74  |        31.51        |\n",
      "|                       |              |         |                     |\n",
      "|  Glomerular Filtrate  |    AMB_PA    |  56.00  |        12.65        |\n",
      "|                       |              |         |                     |\n",
      "|  Glomerular Filtrate  | AMB_PA_MECVV |  46.00  |         nan         |\n",
      "|                       |              |         |                     |\n",
      "|  Glomerular Filtrate  |   SENSE_PA   |  55.14  |        13.95        |\n",
      "|                       |              |         |                     |\n",
      "|  Glomerular Filtrate  |    TOTAL     |  59.94  |        18.70        |\n",
      "|                       |              |         |                     |\n",
      "+-----------------------+--------------+---------+---------------------+\n"
     ]
    },
    {
     "name": "stderr",
     "output_type": "stream",
     "text": [
      "C:\\Users\\maria\\PycharmProjects\\practicum\\auxiliary_functions.py:1112: SettingWithCopyWarning: \n",
      "A value is trying to be set on a copy of a slice from a DataFrame.\n",
      "Try using .loc[row_indexer,col_indexer] = value instead\n",
      "\n",
      "See the caveats in the documentation: https://pandas.pydata.org/pandas-docs/stable/user_guide/indexing.html#returning-a-view-versus-a-copy\n",
      "  df[col] = pd.to_numeric(df[col],\n"
     ]
    }
   ],
   "execution_count": 9
  },
  {
   "cell_type": "markdown",
   "source": [
    "### Mitjanes i desviacions estàndard dels tests numèrics per grup"
   ],
   "metadata": {
    "collapsed": false
   },
   "id": "d925811b0d2b4ad1"
  },
  {
   "cell_type": "code",
   "source": [
    "llista_dfs = [('AMB_PA', AMB_PA), ('AMB_PA_MECVV', AMB_PA_MECVV), ('SENSE_PA', SENSE_PA), ('TOTAL', TOTAL)]\n",
    "\n",
    "mitjana_i_std_num(llista_dfs, num_tests)"
   ],
   "metadata": {
    "collapsed": false,
    "ExecuteTime": {
     "end_time": "2024-06-19T10:51:26.168396Z",
     "start_time": "2024-06-19T10:51:26.145965Z"
    }
   },
   "id": "8234dc89e6e6ff87",
   "outputs": [
    {
     "name": "stdout",
     "output_type": "stream",
     "text": [
      "+---------------------+--------------+---------+---------------------+\n",
      "|       Columna       |  DataFrame   | Mitjana | Desviació Estàndard |\n",
      "+---------------------+--------------+---------+---------------------+\n",
      "|  Barthel resultats  |    AMB_PA    |  22.50  |        23.90        |\n",
      "|                     |              |         |                     |\n",
      "|  Barthel resultats  | AMB_PA_MECVV |  17.50  |        19.94        |\n",
      "|                     |              |         |                     |\n",
      "|  Barthel resultats  |   SENSE_PA   |  43.00  |        28.40        |\n",
      "|                     |              |         |                     |\n",
      "|  Barthel resultats  |    TOTAL     |  41.19  |        34.81        |\n",
      "|                     |              |         |                     |\n",
      "|   EMINA resultats   |    AMB_PA    |   7.89  |         3.12        |\n",
      "|                     |              |         |                     |\n",
      "|   EMINA resultats   | AMB_PA_MECVV |   8.50  |         0.84        |\n",
      "|                     |              |         |                     |\n",
      "|   EMINA resultats   |   SENSE_PA   |   7.30  |         2.83        |\n",
      "|                     |              |         |                     |\n",
      "|   EMINA resultats   |    TOTAL     |   6.41  |         3.90        |\n",
      "|                     |              |         |                     |\n",
      "|    MNA resultats    |    AMB_PA    |   0.80  |         1.79        |\n",
      "|                     |              |         |                     |\n",
      "|    MNA resultats    | AMB_PA_MECVV |   0.00  |         nan         |\n",
      "|                     |              |         |                     |\n",
      "|    MNA resultats    |   SENSE_PA   |   0.00  |         0.00        |\n",
      "|                     |              |         |                     |\n",
      "|    MNA resultats    |    TOTAL     |   4.41  |         7.20        |\n",
      "|                     |              |         |                     |\n",
      "| Canadenca resultats |    AMB_PA    |   7.00  |         nan         |\n",
      "|                     |              |         |                     |\n",
      "| Canadenca resultats | AMB_PA_MECVV |   nan   |         nan         |\n",
      "|                     |              |         |                     |\n",
      "| Canadenca resultats |   SENSE_PA   |   7.00  |         nan         |\n",
      "|                     |              |         |                     |\n",
      "| Canadenca resultats |    TOTAL     |   8.00  |         1.41        |\n",
      "|                     |              |         |                     |\n",
      "+---------------------+--------------+---------+---------------------+\n"
     ]
    }
   ],
   "execution_count": 10
  },
  {
   "cell_type": "markdown",
   "source": [
    "## Nombre de pacients"
   ],
   "metadata": {
    "collapsed": false
   },
   "id": "671e2ddfae2d343f"
  },
  {
   "cell_type": "code",
   "source": [
    "num_AMB_PA = len(AMB_PA)\n",
    "num_AMB_PA_MECVV= len(AMB_PA_MECVV)\n",
    "num_SENSE_PA = len(SENSE_PA)\n",
    "num_TOTAL = len(TOTAL)\n",
    "\n",
    "print(\"Nombre de pacients amb pneumònia aspirativa (ICD = J69.0):\", num_AMB_PA)\n",
    "print(\"Nombre de pacients amb pneumònia i un MECV-V positiu:\", num_AMB_PA_MECVV)\n",
    "print(\"Nombre de pacients amb pneumònia sense comptar amb ICD J69.0:\", num_SENSE_PA)\n",
    "print(\"Nombre total de pacients:\", num_TOTAL)"
   ],
   "metadata": {
    "collapsed": false,
    "ExecuteTime": {
     "end_time": "2024-06-19T10:51:26.182209Z",
     "start_time": "2024-06-19T10:51:26.171902Z"
    }
   },
   "id": "2191eb08651f644c",
   "outputs": [
    {
     "name": "stdout",
     "output_type": "stream",
     "text": [
      "Nombre de pacients amb pneumònia aspirativa (ICD = J69.0): 18\n",
      "Nombre de pacients amb pneumònia i un MECV-V positiu: 6\n",
      "Nombre de pacients amb pneumònia sense comptar amb ICD J69.0: 10\n",
      "Nombre total de pacients: 42\n"
     ]
    }
   ],
   "execution_count": 11
  },
  {
   "cell_type": "markdown",
   "source": [
    "#### Comparació distributiva. Test d'independència\n",
    "No es pot calcular la normalitat perquè només hi ha un valor per grup i tampoc té sentit calcular el p-valor.  "
   ],
   "metadata": {
    "collapsed": false
   },
   "id": "bf165aa3316cc67b"
  },
  {
   "cell_type": "markdown",
   "source": [
    "## Edat"
   ],
   "metadata": {
    "collapsed": false
   },
   "id": "9ee7a133313fb33a"
  },
  {
   "cell_type": "markdown",
   "source": [
    "#### Comparació distributiva. Test d'independència"
   ],
   "metadata": {
    "collapsed": false
   },
   "id": "e250cf6cf5f0912b"
  },
  {
   "cell_type": "code",
   "source": [
    "test_indepe_plot({'AMB_PA': AMB_PA['edat'], 'AMB_PA_MECVV': AMB_PA_MECVV['edat'], 'SENSE_PA': SENSE_PA['edat'], 'TOTAL': TOTAL['edat']})"
   ],
   "metadata": {
    "collapsed": false,
    "ExecuteTime": {
     "end_time": "2024-06-19T10:51:26.662951Z",
     "start_time": "2024-06-19T10:51:26.184399Z"
    }
   },
   "id": "47a8531eaf1dd946",
   "outputs": [
    {
     "data": {
      "text/plain": [
       "<Figure size 640x480 with 2 Axes>"
      ],
      "image/png": "[encoded data removed]"
     },
     "metadata": {},
     "output_type": "display_data"
    }
   ],
   "execution_count": 12
  },
  {
   "cell_type": "markdown",
   "source": [
    "## Sexe"
   ],
   "metadata": {
    "collapsed": false
   },
   "id": "4f08be693b97df08"
  },
  {
   "cell_type": "markdown",
   "source": [
    "#### Comparació distributiva. Test d'independència"
   ],
   "metadata": {
    "collapsed": false
   },
   "id": "a3ba6a5725f9791d"
  },
  {
   "cell_type": "code",
   "source": "test_indepe_bin_plot(data_1= TOTAL['split_database'], data_2= TOTAL['sexe M'])",
   "metadata": {
    "collapsed": false,
    "ExecuteTime": {
     "end_time": "2024-06-19T10:51:26.985834Z",
     "start_time": "2024-06-19T10:51:26.664947Z"
    }
   },
   "id": "a282b73d25144088",
   "outputs": [
    {
     "name": "stdout",
     "output_type": "stream",
     "text": [
      "Grup: AMB_PA\n",
      "Chi-squared: 0.1704\n",
      "P-value: 0.6798\n",
      "---\n",
      "Grup: Desconegut\n",
      "Chi-squared: 0.0000\n",
      "P-value: 1.0000\n",
      "---\n",
      "Grup: SENSE_PA\n",
      "Chi-squared: 0.0000\n",
      "P-value: 1.0000\n",
      "---\n",
      "Grup: AMB_PA_MECVV\n",
      "Chi-squared: 0.1527\n",
      "P-value: 0.6960\n",
      "---\n"
     ]
    },
    {
     "data": {
      "text/plain": [
       "<Figure size 640x480 with 2 Axes>"
      ],
      "image/png": "[encoded data removed]"
     },
     "metadata": {},
     "output_type": "display_data"
    },
    {
     "data": {
      "text/plain": [
       "{'AMB_PA': 0.6797808818044915,\n",
       " 'Desconegut': 1.0,\n",
       " 'SENSE_PA': 1.0,\n",
       " 'AMB_PA_MECVV': 0.6959642874823095}"
      ]
     },
     "execution_count": 13,
     "metadata": {},
     "output_type": "execute_result"
    }
   ],
   "execution_count": 13
  },
  {
   "cell_type": "markdown",
   "source": [
    "## Admissions"
   ],
   "metadata": {
    "collapsed": false
   },
   "id": "c474e11d96312513"
  },
  {
   "cell_type": "markdown",
   "source": [
    "#### Comparació distributiva. Test d'independència"
   ],
   "metadata": {
    "collapsed": false
   },
   "id": "a2b35271cd993978"
  },
  {
   "cell_type": "code",
   "source": [
    "test_indepe_plot({'AMB_PA': AMB_PA['Admissions'], 'AMB_PA_MECVV': AMB_PA_MECVV['Admissions'], 'SENSE_PA': SENSE_PA['Admissions'], 'TOTAL': TOTAL['Admissions']})"
   ],
   "metadata": {
    "collapsed": false,
    "ExecuteTime": {
     "end_time": "2024-06-19T10:51:27.318272Z",
     "start_time": "2024-06-19T10:51:26.987828Z"
    }
   },
   "id": "40d9bf8e813ee91b",
   "outputs": [
    {
     "data": {
      "text/plain": [
       "<Figure size 640x480 with 2 Axes>"
      ],
      "image/png": "[encoded data removed]"
     },
     "metadata": {},
     "output_type": "display_data"
    }
   ],
   "execution_count": 14
  },
  {
   "cell_type": "markdown",
   "source": [
    "## Admissions per urgències"
   ],
   "metadata": {
    "collapsed": false
   },
   "id": "34af574e4fb96b74"
  },
  {
   "cell_type": "markdown",
   "source": [
    "#### Comparació distributiva. Test d'independència "
   ],
   "metadata": {
    "collapsed": false
   },
   "id": "616ba106868bf318"
  },
  {
   "cell_type": "code",
   "source": "test_indepe_plot({'AMB_PA': AMB_PA['Emergències'], 'AMB_PA_MECVV': AMB_PA_MECVV['Emergències'], 'SENSE_PA': SENSE_PA['Emergències'], 'TOTAL': TOTAL['Emergències']})",
   "metadata": {
    "collapsed": false,
    "ExecuteTime": {
     "end_time": "2024-06-19T10:51:27.647748Z",
     "start_time": "2024-06-19T10:51:27.320268Z"
    }
   },
   "id": "4fd476f591d5ddcc",
   "outputs": [
    {
     "data": {
      "text/plain": [
       "<Figure size 640x480 with 2 Axes>"
      ],
      "image/png": "[encoded data removed]"
     },
     "metadata": {},
     "output_type": "display_data"
    }
   ],
   "execution_count": 15
  },
  {
   "metadata": {},
   "cell_type": "markdown",
   "source": "## Disfàgia",
   "id": "fb67ddcfe2a0e04"
  },
  {
   "cell_type": "markdown",
   "source": [
    "#### Comparació distributiva. Test d'independència"
   ],
   "metadata": {
    "collapsed": false
   },
   "id": "132feb9909bcbf0"
  },
  {
   "cell_type": "code",
   "source": "test_indepe_bin_plot(data_1=TOTAL['split_database'], data_2=TOTAL['DO diagnosticada'])",
   "metadata": {
    "collapsed": false,
    "ExecuteTime": {
     "end_time": "2024-06-19T10:51:27.880340Z",
     "start_time": "2024-06-19T10:51:27.648753Z"
    }
   },
   "id": "5857d29d68956654",
   "outputs": [
    {
     "name": "stdout",
     "output_type": "stream",
     "text": [
      "Grup: AMB_PA\n",
      "Chi-squared: 5.5371\n",
      "P-value: 0.0186\n",
      "---\n",
      "Grup: Desconegut\n",
      "Chi-squared: 3.5357\n",
      "P-value: 0.0601\n",
      "---\n",
      "Grup: SENSE_PA\n",
      "Chi-squared: 0.0000\n",
      "P-value: 1.0000\n",
      "---\n",
      "Grup: AMB_PA_MECVV\n",
      "Chi-squared: 0.0000\n",
      "P-value: 1.0000\n",
      "---\n"
     ]
    },
    {
     "data": {
      "text/plain": [
       "<Figure size 640x480 with 2 Axes>"
      ],
      "image/png": "[encoded data removed]"
     },
     "metadata": {},
     "output_type": "display_data"
    },
    {
     "data": {
      "text/plain": [
       "{'AMB_PA': 0.018617309818088998,\n",
       " 'Desconegut': 0.06006023138632744,\n",
       " 'SENSE_PA': 1.0,\n",
       " 'AMB_PA_MECVV': 1.0}"
      ]
     },
     "execution_count": 16,
     "metadata": {},
     "output_type": "execute_result"
    }
   ],
   "execution_count": 16
  },
  {
   "cell_type": "markdown",
   "source": [
    "## Index de Barthel"
   ],
   "metadata": {
    "collapsed": false
   },
   "id": "7ccc108b777bfa4b"
  },
  {
   "cell_type": "markdown",
   "source": [
    "#### Comparació distributiva. Test d'independència"
   ],
   "metadata": {
    "collapsed": false
   },
   "id": "ab5732d554a4db37"
  },
  {
   "cell_type": "code",
   "source": [
    "test_indepe_plot({'AMB_PA': AMB_PA['Barthel resultats'], 'AMB_PA_MECVV': AMB_PA_MECVV['Barthel resultats'], 'SENSE_PA': SENSE_PA['Barthel resultats'], 'TOTAL': TOTAL['Barthel resultats']})"
   ],
   "metadata": {
    "collapsed": false,
    "ExecuteTime": {
     "end_time": "2024-06-19T10:51:28.136500Z",
     "start_time": "2024-06-19T10:51:27.881345Z"
    }
   },
   "id": "68e072f4ded154fa",
   "outputs": [
    {
     "data": {
      "text/plain": [
       "<Figure size 640x480 with 2 Axes>"
      ],
      "image/png": "[encoded data removed]"
     },
     "metadata": {},
     "output_type": "display_data"
    }
   ],
   "execution_count": 17
  },
  {
   "cell_type": "markdown",
   "source": [
    "## Categories índex de Barthel"
   ],
   "metadata": {
    "collapsed": false
   },
   "id": "15956ac3d3a97007"
  },
  {
   "cell_type": "markdown",
   "source": [
    "#### Comparació distributiva. Test d'independència"
   ],
   "metadata": {
    "collapsed": false
   },
   "id": "e3cedc9aeae40782"
  },
  {
   "cell_type": "code",
   "source": "test_indepe_bin_plot(data_1=TOTAL['split_database'], data_2=TOTAL['Barthel categòric'])",
   "metadata": {
    "collapsed": false,
    "ExecuteTime": {
     "end_time": "2024-06-19T10:51:28.471525Z",
     "start_time": "2024-06-19T10:51:28.137497Z"
    }
   },
   "id": "bc9f62cbba38e3a5",
   "outputs": [
    {
     "name": "stdout",
     "output_type": "stream",
     "text": [
      "Grup: AMB_PA\n",
      "Chi-squared: 9.6469\n",
      "P-value: 0.0218\n",
      "---\n",
      "Grup: Desconegut\n",
      "Chi-squared: 12.1320\n",
      "P-value: 0.0069\n",
      "---\n",
      "Grup: SENSE_PA\n",
      "Chi-squared: 5.7135\n",
      "P-value: 0.1264\n",
      "---\n",
      "Grup: AMB_PA_MECVV\n",
      "Chi-squared: 3.0882\n",
      "P-value: 0.3782\n",
      "---\n"
     ]
    },
    {
     "data": {
      "text/plain": [
       "<Figure size 640x480 with 2 Axes>"
      ],
      "image/png": "[encoded data removed]"
     },
     "metadata": {},
     "output_type": "display_data"
    },
    {
     "data": {
      "text/plain": [
       "{'AMB_PA': 0.021818639534110642,\n",
       " 'Desconegut': 0.006944261332936618,\n",
       " 'SENSE_PA': 0.12641145667093806,\n",
       " 'AMB_PA_MECVV': 0.3782200888680018}"
      ]
     },
     "execution_count": 18,
     "metadata": {},
     "output_type": "execute_result"
    }
   ],
   "execution_count": 18
  },
  {
   "cell_type": "markdown",
   "source": [
    "### Index del MNA"
   ],
   "metadata": {
    "collapsed": false
   },
   "id": "d3667b648826dd6c"
  },
  {
   "cell_type": "markdown",
   "source": [
    "#### Comparació distributiva. Test d'independència"
   ],
   "metadata": {
    "collapsed": false
   },
   "id": "3d75b26af642f508"
  },
  {
   "cell_type": "code",
   "source": [
    "test_indepe_plot({'AMB_PA': AMB_PA['MNA resultats'], 'AMB_PA_MECVV': AMB_PA_MECVV['MNA resultats'], 'SENSE_PA': SENSE_PA['MNA resultats'], 'TOTAL': TOTAL['MNA resultats']})"
   ],
   "metadata": {
    "collapsed": false,
    "ExecuteTime": {
     "end_time": "2024-06-19T10:51:29.487273Z",
     "start_time": "2024-06-19T10:51:28.476939Z"
    }
   },
   "id": "297fbefa22b2fec0",
   "outputs": [
    {
     "ename": "ValueError",
     "evalue": "Data must be at least length 3.",
     "output_type": "error",
     "traceback": [
      "\u001B[1;31m---------------------------------------------------------------------------\u001B[0m",
      "\u001B[1;31mValueError\u001B[0m                                Traceback (most recent call last)",
      "Cell \u001B[1;32mIn[19], line 1\u001B[0m\n\u001B[1;32m----> 1\u001B[0m \u001B[43mtest_indepe_plot\u001B[49m\u001B[43m(\u001B[49m\u001B[43m{\u001B[49m\u001B[38;5;124;43m'\u001B[39;49m\u001B[38;5;124;43mAMB_PA\u001B[39;49m\u001B[38;5;124;43m'\u001B[39;49m\u001B[43m:\u001B[49m\u001B[43m \u001B[49m\u001B[43mAMB_PA\u001B[49m\u001B[43m[\u001B[49m\u001B[38;5;124;43m'\u001B[39;49m\u001B[38;5;124;43mMNA resultats\u001B[39;49m\u001B[38;5;124;43m'\u001B[39;49m\u001B[43m]\u001B[49m\u001B[43m,\u001B[49m\u001B[43m \u001B[49m\u001B[38;5;124;43m'\u001B[39;49m\u001B[38;5;124;43mAMB_PA_MECVV\u001B[39;49m\u001B[38;5;124;43m'\u001B[39;49m\u001B[43m:\u001B[49m\u001B[43m \u001B[49m\u001B[43mAMB_PA_MECVV\u001B[49m\u001B[43m[\u001B[49m\u001B[38;5;124;43m'\u001B[39;49m\u001B[38;5;124;43mMNA resultats\u001B[39;49m\u001B[38;5;124;43m'\u001B[39;49m\u001B[43m]\u001B[49m\u001B[43m,\u001B[49m\u001B[43m \u001B[49m\u001B[38;5;124;43m'\u001B[39;49m\u001B[38;5;124;43mSENSE_PA\u001B[39;49m\u001B[38;5;124;43m'\u001B[39;49m\u001B[43m:\u001B[49m\u001B[43m \u001B[49m\u001B[43mSENSE_PA\u001B[49m\u001B[43m[\u001B[49m\u001B[38;5;124;43m'\u001B[39;49m\u001B[38;5;124;43mMNA resultats\u001B[39;49m\u001B[38;5;124;43m'\u001B[39;49m\u001B[43m]\u001B[49m\u001B[43m,\u001B[49m\u001B[43m \u001B[49m\u001B[38;5;124;43m'\u001B[39;49m\u001B[38;5;124;43mTOTAL\u001B[39;49m\u001B[38;5;124;43m'\u001B[39;49m\u001B[43m:\u001B[49m\u001B[43m \u001B[49m\u001B[43mTOTAL\u001B[49m\u001B[43m[\u001B[49m\u001B[38;5;124;43m'\u001B[39;49m\u001B[38;5;124;43mMNA resultats\u001B[39;49m\u001B[38;5;124;43m'\u001B[39;49m\u001B[43m]\u001B[49m\u001B[43m}\u001B[49m\u001B[43m)\u001B[49m\n",
      "File \u001B[1;32m~\\PycharmProjects\\practicum\\auxiliary_functions.py:961\u001B[0m, in \u001B[0;36mtest_indepe_plot\u001B[1;34m(grups, alpha)\u001B[0m\n\u001B[0;32m    958\u001B[0m         stat, p_valor \u001B[38;5;241m=\u001B[39m mannwhitneyu(dades_grup1, dades_grup2, alternative\u001B[38;5;241m=\u001B[39m\u001B[38;5;124m'\u001B[39m\u001B[38;5;124mtwo-sided\u001B[39m\u001B[38;5;124m'\u001B[39m)\n\u001B[0;32m    959\u001B[0m \u001B[38;5;28;01melse\u001B[39;00m:\n\u001B[0;32m    960\u001B[0m     \u001B[38;5;66;03m# Utilitzar el test de Shapiro-Wilk si hi ha menys de 5000 mostres als 2 grups\u001B[39;00m\n\u001B[1;32m--> 961\u001B[0m     _, p_valor_shapiro1 \u001B[38;5;241m=\u001B[39m \u001B[43mshapiro\u001B[49m\u001B[43m(\u001B[49m\u001B[43mdades_grup1\u001B[49m\u001B[43m)\u001B[49m\n\u001B[0;32m    962\u001B[0m     _, p_valor_shapiro2 \u001B[38;5;241m=\u001B[39m shapiro(dades_grup2)\n\u001B[0;32m    964\u001B[0m     \u001B[38;5;28;01mif\u001B[39;00m p_valor_shapiro1 \u001B[38;5;241m>\u001B[39m alpha \u001B[38;5;129;01mand\u001B[39;00m p_valor_shapiro2 \u001B[38;5;241m>\u001B[39m alpha:  \u001B[38;5;66;03m# Si ambdós grups són normals\u001B[39;00m\n",
      "File \u001B[1;32m~\\PycharmProjects\\practicum\\.venv\\Lib\\site-packages\\scipy\\stats\\_axis_nan_policy.py:531\u001B[0m, in \u001B[0;36m_axis_nan_policy_factory.<locals>.axis_nan_policy_decorator.<locals>.axis_nan_policy_wrapper\u001B[1;34m(***failed resolving arguments***)\u001B[0m\n\u001B[0;32m    529\u001B[0m \u001B[38;5;28;01mif\u001B[39;00m sentinel:\n\u001B[0;32m    530\u001B[0m     samples \u001B[38;5;241m=\u001B[39m _remove_sentinel(samples, paired, sentinel)\n\u001B[1;32m--> 531\u001B[0m res \u001B[38;5;241m=\u001B[39m \u001B[43mhypotest_fun_out\u001B[49m\u001B[43m(\u001B[49m\u001B[38;5;241;43m*\u001B[39;49m\u001B[43msamples\u001B[49m\u001B[43m,\u001B[49m\u001B[43m \u001B[49m\u001B[38;5;241;43m*\u001B[39;49m\u001B[38;5;241;43m*\u001B[39;49m\u001B[43mkwds\u001B[49m\u001B[43m)\u001B[49m\n\u001B[0;32m    532\u001B[0m res \u001B[38;5;241m=\u001B[39m result_to_tuple(res)\n\u001B[0;32m    533\u001B[0m res \u001B[38;5;241m=\u001B[39m _add_reduced_axes(res, reduced_axes, keepdims)\n",
      "File \u001B[1;32m~\\PycharmProjects\\practicum\\.venv\\Lib\\site-packages\\scipy\\stats\\_morestats.py:1994\u001B[0m, in \u001B[0;36mshapiro\u001B[1;34m(x)\u001B[0m\n\u001B[0;32m   1992\u001B[0m N \u001B[38;5;241m=\u001B[39m \u001B[38;5;28mlen\u001B[39m(x)\n\u001B[0;32m   1993\u001B[0m \u001B[38;5;28;01mif\u001B[39;00m N \u001B[38;5;241m<\u001B[39m \u001B[38;5;241m3\u001B[39m:\n\u001B[1;32m-> 1994\u001B[0m     \u001B[38;5;28;01mraise\u001B[39;00m \u001B[38;5;167;01mValueError\u001B[39;00m(\u001B[38;5;124m\"\u001B[39m\u001B[38;5;124mData must be at least length 3.\u001B[39m\u001B[38;5;124m\"\u001B[39m)\n\u001B[0;32m   1996\u001B[0m a \u001B[38;5;241m=\u001B[39m zeros(N\u001B[38;5;241m/\u001B[39m\u001B[38;5;241m/\u001B[39m\u001B[38;5;241m2\u001B[39m, dtype\u001B[38;5;241m=\u001B[39mnp\u001B[38;5;241m.\u001B[39mfloat64)\n\u001B[0;32m   1997\u001B[0m init \u001B[38;5;241m=\u001B[39m \u001B[38;5;241m0\u001B[39m\n",
      "\u001B[1;31mValueError\u001B[0m: Data must be at least length 3."
     ]
    }
   ],
   "execution_count": 19
  },
  {
   "cell_type": "markdown",
   "source": [
    "## Categories test MNA"
   ],
   "metadata": {
    "collapsed": false
   },
   "id": "256c77228ddcdc8a"
  },
  {
   "cell_type": "markdown",
   "source": [
    "#### Comparació distributiva. Test d'independència "
   ],
   "metadata": {
    "collapsed": false
   },
   "id": "a35fef463cf77940"
  },
  {
   "cell_type": "code",
   "source": "test_indepe_bin_plot(data_1= TOTAL['split_database'], data_2= TOTAL['MNA categòric'])",
   "metadata": {
    "collapsed": false,
    "ExecuteTime": {
     "end_time": "2024-06-19T10:51:29.492278Z",
     "start_time": "2024-06-19T10:51:29.490277Z"
    }
   },
   "id": "95e288715f6c4f66",
   "outputs": [],
   "execution_count": null
  },
  {
   "cell_type": "markdown",
   "source": [
    "## Index de l'EMINA"
   ],
   "metadata": {
    "collapsed": false
   },
   "id": "a548bfcf6f7eff40"
  },
  {
   "cell_type": "markdown",
   "source": [
    "### Comparació distributiva"
   ],
   "metadata": {
    "collapsed": false
   },
   "id": "423e822ac57f40bc"
  },
  {
   "cell_type": "code",
   "source": "test_indepe_plot(({'AMB_PA': AMB_PA['EMINA resultats'], 'AMB_PA_MECVV': AMB_PA_MECVV['EMINA resultats'], 'SENSE_PA': SENSE_PA['EMINA resultats'], 'TOTAL': TOTAL['EMINA resultats']}))",
   "metadata": {
    "collapsed": false,
    "ExecuteTime": {
     "end_time": "2024-06-19T10:51:29.493303Z",
     "start_time": "2024-06-19T10:51:29.493303Z"
    }
   },
   "id": "c54dcc943b954896",
   "outputs": [],
   "execution_count": null
  },
  {
   "cell_type": "markdown",
   "source": [
    "## Categories de l'índex de l'EMINA"
   ],
   "metadata": {
    "collapsed": false
   },
   "id": "34050dd37e535d72"
  },
  {
   "cell_type": "markdown",
   "source": [
    "#### Comparació distributiva. Test d'independència"
   ],
   "metadata": {
    "collapsed": false
   },
   "id": "ddf219bd5cccc714"
  },
  {
   "cell_type": "code",
   "source": "test_indepe_bin_plot(data_1= TOTAL['split_database'], data_2= TOTAL['EMINA categòric'])",
   "metadata": {
    "collapsed": false
   },
   "id": "c6dfe97c7f921146",
   "outputs": [],
   "execution_count": null
  },
  {
   "cell_type": "markdown",
   "source": [
    "## Index de la canadenca (escala neurològica canadenca)"
   ],
   "metadata": {
    "collapsed": false
   },
   "id": "9268e9d3d45d2d61"
  },
  {
   "cell_type": "markdown",
   "source": [
    "#### Comparació distributiva. Test d'independència"
   ],
   "metadata": {
    "collapsed": false
   },
   "id": "162b66dd142b4d9"
  },
  {
   "cell_type": "code",
   "source": "test_indepe_plot({'AMB_PA': AMB_PA['Canadenca resultats'], 'AMB_PA_MECVV': AMB_PA_MECVV['Canadenca resultats'], 'SENSE_PA': SENSE_PA['Canadenca resultats'], 'TOTAL': TOTAL['Canadenca resultats']})",
   "metadata": {
    "collapsed": false
   },
   "id": "1728df0baaade800",
   "outputs": [],
   "execution_count": null
  },
  {
   "cell_type": "markdown",
   "source": [
    "## Categories de l'índex de la canadenca"
   ],
   "metadata": {
    "collapsed": false
   },
   "id": "c4925772b0c1f1a6"
  },
  {
   "cell_type": "markdown",
   "source": [
    "#### Comparació distributiva. Test d'independència "
   ],
   "metadata": {
    "collapsed": false
   },
   "id": "71e1eec6e13536c3"
  },
  {
   "cell_type": "code",
   "source": "test_indepe_bin_plot(data_1= TOTAL['split_database'], data_2= TOTAL['Canadenca categòrica'])",
   "metadata": {
    "collapsed": false
   },
   "id": "cf089c47b0f55d7c",
   "outputs": [],
   "execution_count": null
  },
  {
   "cell_type": "markdown",
   "source": [
    "## Infeccions respiratòries"
   ],
   "metadata": {
    "collapsed": false
   },
   "id": "beeb81424fe24caa"
  },
  {
   "cell_type": "markdown",
   "source": [
    "#### Comparació distributiva. Test d'independència "
   ],
   "metadata": {
    "collapsed": false
   },
   "id": "5b82be8124b2882b"
  },
  {
   "cell_type": "code",
   "source": "test_indepe_bin_plot(data_1= TOTAL['split_database'], data_2= TOTAL['Infeccions respiratòries principals diagnosticades'])",
   "metadata": {
    "collapsed": false
   },
   "id": "b15e3fd33d0e8f25",
   "outputs": [],
   "execution_count": null
  },
  {
   "cell_type": "code",
   "source": "test_indepe_bin_plot(data_1= TOTAL['split_database'], data_2= TOTAL['LRTI diagnosticada'])",
   "metadata": {
    "collapsed": false
   },
   "id": "1531f132413f1fe6",
   "outputs": [],
   "execution_count": null
  },
  {
   "cell_type": "code",
   "source": "test_indepe_bin_plot(data_1= TOTAL['split_database'], data_2= TOTAL['Exacerbacions de COPD diagnosticades'])",
   "metadata": {
    "collapsed": false
   },
   "id": "39a37fb60d8bca50",
   "outputs": [],
   "execution_count": null
  },
  {
   "cell_type": "code",
   "source": "test_indepe_bin_plot(data_1= TOTAL['split_database'], data_2= TOTAL['Fibrosi pulmonar i fibrotòrax diagnosticades'])",
   "metadata": {
    "collapsed": false
   },
   "id": "f061d58a22223538",
   "outputs": [],
   "execution_count": null
  },
  {
   "cell_type": "markdown",
   "source": "# Resultats de laboratori",
   "metadata": {
    "collapsed": false
   },
   "id": "5a2961231a4a31fe"
  },
  {
   "cell_type": "markdown",
   "source": "## Albúmina",
   "metadata": {
    "collapsed": false
   },
   "id": "5ec2d8edf2394b27"
  },
  {
   "metadata": {},
   "cell_type": "markdown",
   "source": "#### Comparació distributiva. Test d'independència",
   "id": "d6c4ed211f9309aa"
  },
  {
   "metadata": {},
   "cell_type": "code",
   "source": "test_indepe_plot({'AMB_PA': AMB_PA['Albumin'], 'AMB_PA_MECVV': AMB_PA_MECVV['Albumin'], 'SENSE_PA': SENSE_PA['Albumin'], 'TOTAL': TOTAL['Albumin']})",
   "id": "e4f285f6679647ab",
   "outputs": [],
   "execution_count": null
  },
  {
   "cell_type": "markdown",
   "source": [
    "### Proteïnes totals"
   ],
   "metadata": {
    "collapsed": false
   },
   "id": "e04a3845d5bbe702"
  },
  {
   "cell_type": "markdown",
   "source": "#### Comparació distributiva. Test d'independència",
   "metadata": {
    "collapsed": false
   },
   "id": "e91b989932420350"
  },
  {
   "metadata": {},
   "cell_type": "code",
   "source": [
    "test_indepe_plot({'AMB_PA': AMB_PA['Total Proteins'], 'AMB_PA_MECVV': AMB_PA_MECVV['Total Proteins'], 'SENSE_PA': SENSE_PA['Total Proteins'], 'TOTAL': TOTAL['Total Proteins']})"
   ],
   "id": "c74cd2197c2f4db7",
   "outputs": [],
   "execution_count": null
  },
  {
   "cell_type": "markdown",
   "source": [
    "### Hemoglobina"
   ],
   "metadata": {
    "collapsed": false
   },
   "id": "83542ac42256ecbc"
  },
  {
   "cell_type": "markdown",
   "source": "#### Comparació distributiva. Test d'independència",
   "metadata": {
    "collapsed": false
   },
   "id": "3698d8eac9285554"
  },
  {
   "cell_type": "code",
   "source": [
    "test_indepe_plot({'AMB_PA': AMB_PA['Hemoglobin'], 'AMB_PA_MECVV': AMB_PA_MECVV['Hemoglobin'], 'SENSE_PA': SENSE_PA['Hemoglobin'], 'TOTAL': TOTAL['Hemoglobin']})"
   ],
   "metadata": {
    "collapsed": false
   },
   "id": "b22b3253ae1a3b4b",
   "outputs": [],
   "execution_count": null
  },
  {
   "cell_type": "markdown",
   "source": [
    "### Colesterol "
   ],
   "metadata": {
    "collapsed": false
   },
   "id": "ec1e8177dc1b0583"
  },
  {
   "cell_type": "markdown",
   "source": "#### Comparació distributiva. Test d'independència",
   "metadata": {
    "collapsed": false
   },
   "id": "83a935f3b5fc4891"
  },
  {
   "metadata": {},
   "cell_type": "code",
   "source": [
    "test_indepe_plot({'AMB_PA': AMB_PA['Total Cholesterol'], 'AMB_PA_MECVV': AMB_PA_MECVV['Total Cholesterol'], 'SENSE_PA': SENSE_PA['Total Cholesterol'], 'TOTAL': TOTAL['Total Cholesterol']})"
   ],
   "id": "c9b01ec752bb5cf0",
   "outputs": [],
   "execution_count": null
  },
  {
   "cell_type": "markdown",
   "source": [
    "### Leucòcits"
   ],
   "metadata": {
    "collapsed": false
   },
   "id": "42dc4ab8a11b6c11"
  },
  {
   "cell_type": "markdown",
   "source": "#### Comparació distributiva. Test d'independència",
   "metadata": {
    "collapsed": false
   },
   "id": "f569479d8863f97a"
  },
  {
   "metadata": {},
   "cell_type": "code",
   "source": [
    "test_indepe_plot({'AMB_PA': AMB_PA['Leucocytes'], 'AMB_PA_MECVV': AMB_PA_MECVV['Leucocytes'], 'SENSE_PA': SENSE_PA['Leucocytes'], 'TOTAL': TOTAL['Leucocytes']})"
   ],
   "id": "5c481ea27a1fc1d",
   "outputs": [],
   "execution_count": null
  },
  {
   "cell_type": "markdown",
   "source": [
    "### Limfòcits %"
   ],
   "metadata": {
    "collapsed": false
   },
   "id": "bcd5ba404d9c701d"
  },
  {
   "cell_type": "markdown",
   "source": "#### Comparació distributiva. Test d'independència",
   "metadata": {
    "collapsed": false
   },
   "id": "b157b909c8bffcd9"
  },
  {
   "metadata": {},
   "cell_type": "code",
   "source": "test_indepe_plot({'AMB_PA': AMB_PA['Lymphocytes'], 'AMB_PA_MECVV': AMB_PA_MECVV['Lymphocytes'], 'SENSE_PA': SENSE_PA['Lymphocytes'], TOTAL: TOTAL['Lymphocytes']})",
   "id": "281733bad678916e",
   "outputs": [],
   "execution_count": null
  },
  {
   "metadata": {},
   "cell_type": "markdown",
   "source": "### Proteïna C Reactiva",
   "id": "33798534e24b6df3"
  },
  {
   "cell_type": "markdown",
   "source": "#### Comparació distributiva. Test d'independència",
   "metadata": {
    "collapsed": false
   },
   "id": "17a2618d97df550a"
  },
  {
   "metadata": {},
   "cell_type": "code",
   "source": [
    "test_indepe_plot({'AMB_PA': AMB_PA['C reactive protein'], 'AMB_PA_MECVV': AMB_PA_MECVV['C reactive protein'], 'SENSE_PA': SENSE_PA['C reactive protein'], 'TOTAL': TOTAL['C reactive protein']})"
   ],
   "id": "834f57a93752d81b",
   "outputs": [],
   "execution_count": null
  },
  {
   "cell_type": "markdown",
   "source": [
    "### Urea "
   ],
   "metadata": {
    "collapsed": false
   },
   "id": "33d3d3507ff40c7a"
  },
  {
   "cell_type": "markdown",
   "source": "#### Comparació distributiva. Test d'independència",
   "metadata": {
    "collapsed": false
   },
   "id": "6516f15d748d02e1"
  },
  {
   "metadata": {},
   "cell_type": "code",
   "source": [
    "test_indepe_plot({'AMB_PA': AMB_PA['Urea'], 'AMB_PA_MECVV': AMB_PA_MECVV['Urea'], 'SENSE_PA': SENSE_PA['Urea'], 'TOTAL': TOTAL['Urea']})"
   ],
   "id": "5cd2379070c8b",
   "outputs": [],
   "execution_count": null
  },
  {
   "cell_type": "markdown",
   "source": "### Filtració glomerular",
   "metadata": {
    "collapsed": false
   },
   "id": "80f453469d4b3166"
  },
  {
   "cell_type": "markdown",
   "source": "#### Comparació distributiva. Test d'independència.",
   "metadata": {
    "collapsed": false
   },
   "id": "1d641b075e8fdef6"
  },
  {
   "metadata": {},
   "cell_type": "code",
   "source": "test_indepe_plot({'AMB_PA': AMB_PA['Glomerular Filtrate'], 'AMB_PA_MECVV': AMB_PA_MECVV['Glomerular Filtrate'], 'SENSE_PA': SENSE_PA['Glomerular Filtrate'], 'TOTAL': TOTAL['Glomerular Filtrate']})",
   "id": "cbe19d1a7f3a14a8",
   "outputs": [],
   "execution_count": null
  }
 ],
 "metadata": {
  "kernelspec": {
   "display_name": "Python 3",
   "language": "python",
   "name": "python3"
  },
  "language_info": {
   "codemirror_mode": {
    "name": "ipython",
    "version": 2
   },
   "file_extension": ".py",
   "mimetype": "text/x-python",
   "name": "python",
   "nbconvert_exporter": "python",
   "pygments_lexer": "ipython2",
   "version": "2.7.6"
  }
 },
 "nbformat": 4,
 "nbformat_minor": 5
}
