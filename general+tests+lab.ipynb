{
 "cells": [
  {
   "cell_type": "markdown",
   "source": [
    "# Anàlisi de les dades\n",
    "## Nota sobre les limitacions de l'anàlisi \n",
    "Les dades obtingudes poden contenir errors deguts a:\n",
    "- Errors en la recollida de dades a causa d'erros humans\n",
    "- Errors en la classificació de les dades a causa d'errors informàtics\n",
    "No es realitzarà una comprovació de les dades a causa de la magnitud de l'estudi i l'objectiu de l'anàlisi.\n",
    "Tanmateix, en les conclusións de cada anàlisi es tindran en compte aquestes limitacions.\n",
    "\n",
    "## Objectiu de l'anàlisi\n",
    "TODO: Afegir objectiu de l'anàlisi\n",
    "\n",
    "## Importació de llibreries i funcions pròpies"
   ],
   "metadata": {
    "collapsed": false
   },
   "id": "a0123f34feef32a8"
  },
  {
   "cell_type": "code",
   "source": [
    "import pandas as pd\n",
    "from auxiliary_functions import test_indepe_plot, test_indepe_bin_plot, comptatge_i_percentatge_cat, mitjana_i_std_num\n",
    "from listas import num_var, cat_var, num_tests, cat_tests"
   ],
   "metadata": {
    "collapsed": false,
    "ExecuteTime": {
     "end_time": "2024-06-13T11:55:39.106042Z",
     "start_time": "2024-06-13T11:55:36.528003Z"
    }
   },
   "id": "2f803bba5e235e3b",
   "outputs": [],
   "execution_count": 1
  },
  {
   "cell_type": "markdown",
   "source": [
    "## Càrrega de les dades\n",
    "Les dades s'han tractat prèviament amb l'script 'process_database.py' i s'han guardat en un dataframe de Pandas. Aquestes dades contenen la informació de tots els pacients de l'estudi."
   ],
   "metadata": {
    "collapsed": false
   },
   "id": "f50948d8aa8b8957"
  },
  {
   "cell_type": "code",
   "source": [
    "taula = pd.read_pickle('./data/processed/dataframe.pkl')"
   ],
   "metadata": {
    "collapsed": false,
    "ExecuteTime": {
     "end_time": "2024-06-13T11:55:39.127198Z",
     "start_time": "2024-06-13T11:55:39.106042Z"
    }
   },
   "id": "839eafe1a0f16ec4",
   "outputs": [],
   "execution_count": 2
  },
  {
   "cell_type": "markdown",
   "source": [
    "## Segmentació de les dades\n",
    "Distribuiré les dades en 3 grups (més un grup que conté la totalitat de dades):\n",
    "- **AMB_PA**: aquest grup està compost per pacients que contenen el codi ICD de pneumònia aspirativa al seu historial.\n",
    "- **AMB_PA_MECVV**: aquest grup conté els pacients que compleixen les següents característiques: \n",
    "    - Han donat positiu al MECVV (és a dir, que tenen disfàgia i una alteració en la seguretat o en l'eficàcia)\n",
    "    - Han sigut diagnosticats amb el codi ICD de pneumònia\n",
    "    - Han passat menys de 30 dies entre el diagnòstic amb l'ICD de pneumònia i el resultat positiu al MECVV\n",
    "- **SENSE_PA**: aquest grup està format per pacients que contenen el codi ICD de pneumònia o bé:\n",
    "    - Contenen el codi ICD de pneumònia\n",
    "    - Han donat positiu al MECVV \n",
    "    - Han passat més de 30 dies entre el diagnòstic amb l'ICD de pneumònia i el resultat positiu del MECVV \n",
    "- **TOTAL**: aquest grup conté tots els pacients de l'estudi"
   ],
   "metadata": {
    "collapsed": false
   },
   "id": "278abfba5c4898fd"
  },
  {
   "cell_type": "markdown",
   "source": [
    "### AMB_PA "
   ],
   "metadata": {
    "collapsed": false
   },
   "id": "f658922a2474ceda"
  },
  {
   "cell_type": "code",
   "source": [
    "AMB_PA = taula[taula[\"PA diagnosticada\"] == 1.0]\n",
    "AMB_PA.head()"
   ],
   "metadata": {
    "collapsed": false,
    "ExecuteTime": {
     "end_time": "2024-06-13T11:55:39.291852Z",
     "start_time": "2024-06-13T11:55:39.127198Z"
    }
   },
   "id": "c98086151b5c466c",
   "outputs": [
    {
     "data": {
      "text/plain": [
       "   edat  sexe M  visitaDietista  \\\n",
       "0    89       0               0   \n",
       "1    70       1               0   \n",
       "3    85       1               0   \n",
       "4    93       1               0   \n",
       "6   101       0               0   \n",
       "\n",
       "                                                labs  \\\n",
       "0                                                 []   \n",
       "1  [{'date': '20220524', 'name': 'PCR SARS-CoV2 S...   \n",
       "3                                                 []   \n",
       "4  [{'date': '20220208', 'name': 'UREA Sèrum', 'l...   \n",
       "6                                                 []   \n",
       "\n",
       "                                                 mna  \\\n",
       "0                                                 []   \n",
       "1                                                 []   \n",
       "3                                                 []   \n",
       "4  [{'imc': '0', 'anorexia': '1', 'perduaPes': '1...   \n",
       "6                                                 []   \n",
       "\n",
       "                                               emina canadenca  \\\n",
       "0  [{'activitat': '2', 'estatMental': '1', 'humit...        []   \n",
       "1  [{'activitat': '0', 'estatMental': '0', 'humit...        []   \n",
       "3  [{'activitat': '2', 'estatMental': '1', 'humit...        []   \n",
       "4  [{'activitat': '2', 'estatMental': '1', 'humit...        []   \n",
       "6  [{'activitat': '3', 'estatMental': '1', 'humit...        []   \n",
       "\n",
       "                                                 pes  \\\n",
       "0                                                 []   \n",
       "1  [{'valor': '64.7', 'data': '2022-10-04'}, {'va...   \n",
       "3                                                 []   \n",
       "4  [{'valor': '49.900', 'data': '2022-06-02'}, {'...   \n",
       "6                                                 []   \n",
       "\n",
       "                                                atcs  \\\n",
       "0  [{'codi': 'M01AE', 'dataInici': '2020-06-21 00...   \n",
       "1  [{'codi': 'C09AA', 'dataInici': '2021-05-26 00...   \n",
       "3  [{'codi': 'G04CA', 'dataInici': '2020-07-15 00...   \n",
       "4  [{'codi': 'N02AA', 'dataInici': '2022-02-01 00...   \n",
       "6  [{'codi': 'C09AA', 'dataInici': '2021-08-21 00...   \n",
       "\n",
       "                                              mecvvs  ...  \\\n",
       "0                                                 []  ...   \n",
       "1  [{'data': '20220930', 'pacientNoColabora': '',...  ...   \n",
       "3  [{'data': '20201204131810', 'disfagia': 'S', '...  ...   \n",
       "4  [{'data': '20220330172303', 'disfagiaConeguda'...  ...   \n",
       "6  [{'data': '20210819124116', 'disfagia': 'S', '...  ...   \n",
       "\n",
       "  Pèrdua pes entre ingressos Pèrdua pes total  Data més antiga pneumònia  \\\n",
       "0                       None             None                 2020-06-18   \n",
       "1                       None             16.3                 2022-09-29   \n",
       "3                       None             None                 2020-12-02   \n",
       "4                       None              0.0                        NaT   \n",
       "6                       None             None                 2021-08-17   \n",
       "\n",
       "   Dies entre primer ICD pneumònia i primer MECVV positiu   Barthel categòric  \\\n",
       "0                                                NaN        Dependència total   \n",
       "1                                                NaN       Dependència severa   \n",
       "3                                                2.0       Dependència severa   \n",
       "4                                                NaN        Dependència total   \n",
       "6                                                2.0        Dependència total   \n",
       "\n",
       "   MNA categòric  EMINA categòric  Canadenca categòrica  \\\n",
       "0     Desconegut     Risc moderat            Desconegut   \n",
       "1     Desconegut        Risc baix            Desconegut   \n",
       "3     Desconegut     Risc moderat            Desconegut   \n",
       "4      Malnodrit     Risc moderat            Desconegut   \n",
       "6     Desconegut     Risc moderat            Desconegut   \n",
       "\n",
       "   Pèrdua pes entre ingressos categòrica  split_database  \n",
       "0                                   None          AMB_PA  \n",
       "1                                   None          AMB_PA  \n",
       "3                                   None          AMB_PA  \n",
       "4                                   None          AMB_PA  \n",
       "6                                   None          AMB_PA  \n",
       "\n",
       "[5 rows x 83 columns]"
      ],
      "text/html": [
       "<div>\n",
       "<style scoped>\n",
       "    .dataframe tbody tr th:only-of-type {\n",
       "        vertical-align: middle;\n",
       "    }\n",
       "\n",
       "    .dataframe tbody tr th {\n",
       "        vertical-align: top;\n",
       "    }\n",
       "\n",
       "    .dataframe thead th {\n",
       "        text-align: right;\n",
       "    }\n",
       "</style>\n",
       "<table border=\"1\" class=\"dataframe\">\n",
       "  <thead>\n",
       "    <tr style=\"text-align: right;\">\n",
       "      <th></th>\n",
       "      <th>edat</th>\n",
       "      <th>sexe M</th>\n",
       "      <th>visitaDietista</th>\n",
       "      <th>labs</th>\n",
       "      <th>mna</th>\n",
       "      <th>emina</th>\n",
       "      <th>canadenca</th>\n",
       "      <th>pes</th>\n",
       "      <th>atcs</th>\n",
       "      <th>mecvvs</th>\n",
       "      <th>...</th>\n",
       "      <th>Pèrdua pes entre ingressos</th>\n",
       "      <th>Pèrdua pes total</th>\n",
       "      <th>Data més antiga pneumònia</th>\n",
       "      <th>Dies entre primer ICD pneumònia i primer MECVV positiu</th>\n",
       "      <th>Barthel categòric</th>\n",
       "      <th>MNA categòric</th>\n",
       "      <th>EMINA categòric</th>\n",
       "      <th>Canadenca categòrica</th>\n",
       "      <th>Pèrdua pes entre ingressos categòrica</th>\n",
       "      <th>split_database</th>\n",
       "    </tr>\n",
       "  </thead>\n",
       "  <tbody>\n",
       "    <tr>\n",
       "      <th>0</th>\n",
       "      <td>89</td>\n",
       "      <td>0</td>\n",
       "      <td>0</td>\n",
       "      <td>[]</td>\n",
       "      <td>[]</td>\n",
       "      <td>[{'activitat': '2', 'estatMental': '1', 'humit...</td>\n",
       "      <td>[]</td>\n",
       "      <td>[]</td>\n",
       "      <td>[{'codi': 'M01AE', 'dataInici': '2020-06-21 00...</td>\n",
       "      <td>[]</td>\n",
       "      <td>...</td>\n",
       "      <td>None</td>\n",
       "      <td>None</td>\n",
       "      <td>2020-06-18</td>\n",
       "      <td>NaN</td>\n",
       "      <td>Dependència total</td>\n",
       "      <td>Desconegut</td>\n",
       "      <td>Risc moderat</td>\n",
       "      <td>Desconegut</td>\n",
       "      <td>None</td>\n",
       "      <td>AMB_PA</td>\n",
       "    </tr>\n",
       "    <tr>\n",
       "      <th>1</th>\n",
       "      <td>70</td>\n",
       "      <td>1</td>\n",
       "      <td>0</td>\n",
       "      <td>[{'date': '20220524', 'name': 'PCR SARS-CoV2 S...</td>\n",
       "      <td>[]</td>\n",
       "      <td>[{'activitat': '0', 'estatMental': '0', 'humit...</td>\n",
       "      <td>[]</td>\n",
       "      <td>[{'valor': '64.7', 'data': '2022-10-04'}, {'va...</td>\n",
       "      <td>[{'codi': 'C09AA', 'dataInici': '2021-05-26 00...</td>\n",
       "      <td>[{'data': '20220930', 'pacientNoColabora': '',...</td>\n",
       "      <td>...</td>\n",
       "      <td>None</td>\n",
       "      <td>16.3</td>\n",
       "      <td>2022-09-29</td>\n",
       "      <td>NaN</td>\n",
       "      <td>Dependència severa</td>\n",
       "      <td>Desconegut</td>\n",
       "      <td>Risc baix</td>\n",
       "      <td>Desconegut</td>\n",
       "      <td>None</td>\n",
       "      <td>AMB_PA</td>\n",
       "    </tr>\n",
       "    <tr>\n",
       "      <th>3</th>\n",
       "      <td>85</td>\n",
       "      <td>1</td>\n",
       "      <td>0</td>\n",
       "      <td>[]</td>\n",
       "      <td>[]</td>\n",
       "      <td>[{'activitat': '2', 'estatMental': '1', 'humit...</td>\n",
       "      <td>[]</td>\n",
       "      <td>[]</td>\n",
       "      <td>[{'codi': 'G04CA', 'dataInici': '2020-07-15 00...</td>\n",
       "      <td>[{'data': '20201204131810', 'disfagia': 'S', '...</td>\n",
       "      <td>...</td>\n",
       "      <td>None</td>\n",
       "      <td>None</td>\n",
       "      <td>2020-12-02</td>\n",
       "      <td>2.0</td>\n",
       "      <td>Dependència severa</td>\n",
       "      <td>Desconegut</td>\n",
       "      <td>Risc moderat</td>\n",
       "      <td>Desconegut</td>\n",
       "      <td>None</td>\n",
       "      <td>AMB_PA</td>\n",
       "    </tr>\n",
       "    <tr>\n",
       "      <th>4</th>\n",
       "      <td>93</td>\n",
       "      <td>1</td>\n",
       "      <td>0</td>\n",
       "      <td>[{'date': '20220208', 'name': 'UREA Sèrum', 'l...</td>\n",
       "      <td>[{'imc': '0', 'anorexia': '1', 'perduaPes': '1...</td>\n",
       "      <td>[{'activitat': '2', 'estatMental': '1', 'humit...</td>\n",
       "      <td>[]</td>\n",
       "      <td>[{'valor': '49.900', 'data': '2022-06-02'}, {'...</td>\n",
       "      <td>[{'codi': 'N02AA', 'dataInici': '2022-02-01 00...</td>\n",
       "      <td>[{'data': '20220330172303', 'disfagiaConeguda'...</td>\n",
       "      <td>...</td>\n",
       "      <td>None</td>\n",
       "      <td>0.0</td>\n",
       "      <td>NaT</td>\n",
       "      <td>NaN</td>\n",
       "      <td>Dependència total</td>\n",
       "      <td>Malnodrit</td>\n",
       "      <td>Risc moderat</td>\n",
       "      <td>Desconegut</td>\n",
       "      <td>None</td>\n",
       "      <td>AMB_PA</td>\n",
       "    </tr>\n",
       "    <tr>\n",
       "      <th>6</th>\n",
       "      <td>101</td>\n",
       "      <td>0</td>\n",
       "      <td>0</td>\n",
       "      <td>[]</td>\n",
       "      <td>[]</td>\n",
       "      <td>[{'activitat': '3', 'estatMental': '1', 'humit...</td>\n",
       "      <td>[]</td>\n",
       "      <td>[]</td>\n",
       "      <td>[{'codi': 'C09AA', 'dataInici': '2021-08-21 00...</td>\n",
       "      <td>[{'data': '20210819124116', 'disfagia': 'S', '...</td>\n",
       "      <td>...</td>\n",
       "      <td>None</td>\n",
       "      <td>None</td>\n",
       "      <td>2021-08-17</td>\n",
       "      <td>2.0</td>\n",
       "      <td>Dependència total</td>\n",
       "      <td>Desconegut</td>\n",
       "      <td>Risc moderat</td>\n",
       "      <td>Desconegut</td>\n",
       "      <td>None</td>\n",
       "      <td>AMB_PA</td>\n",
       "    </tr>\n",
       "  </tbody>\n",
       "</table>\n",
       "<p>5 rows × 83 columns</p>\n",
       "</div>"
      ]
     },
     "execution_count": 3,
     "metadata": {},
     "output_type": "execute_result"
    }
   ],
   "execution_count": 3
  },
  {
   "cell_type": "markdown",
   "source": [
    "# AMB_PA_MECVV"
   ],
   "metadata": {
    "collapsed": false
   },
   "id": "103613713c5a9646"
  },
  {
   "cell_type": "code",
   "source": [
    "AMB_PA_MECVV = taula[\n",
    "    (taula[\"Dies entre primer ICD pneumònia i primer MECVV positiu\"] < 30)] \n",
    "AMB_PA_MECVV.head()"
   ],
   "metadata": {
    "collapsed": false,
    "ExecuteTime": {
     "end_time": "2024-06-13T11:55:39.499422Z",
     "start_time": "2024-06-13T11:55:39.292836Z"
    }
   },
   "id": "cd7f2059d97e680e",
   "outputs": [
    {
     "data": {
      "text/plain": [
       "    edat  sexe M  visitaDietista  \\\n",
       "3     85       1               0   \n",
       "6    101       0               0   \n",
       "12    86       1               0   \n",
       "27   100       1               0   \n",
       "37    86       1               0   \n",
       "\n",
       "                                                 labs  \\\n",
       "3                                                  []   \n",
       "6                                                  []   \n",
       "12                                                 []   \n",
       "27                                                 []   \n",
       "37  [{'date': '20221003', 'name': 'GLUCOSA Sèrum',...   \n",
       "\n",
       "                                                  mna  \\\n",
       "3                                                  []   \n",
       "6                                                  []   \n",
       "12                                                 []   \n",
       "27                                                 []   \n",
       "37  [{'imc': '', 'anorexia': '', 'perduaPes': '', ...   \n",
       "\n",
       "                                                emina canadenca  \\\n",
       "3   [{'activitat': '2', 'estatMental': '1', 'humit...        []   \n",
       "6   [{'activitat': '3', 'estatMental': '1', 'humit...        []   \n",
       "12  [{'activitat': '1', 'estatMental': '1', 'humit...        []   \n",
       "27  [{'activitat': '3', 'estatMental': '0', 'humit...        []   \n",
       "37  [{'activitat': '2', 'estatMental': '1', 'humit...        []   \n",
       "\n",
       "                                                  pes  \\\n",
       "3                                                  []   \n",
       "6                                                  []   \n",
       "12          [{'valor': '46.4', 'data': '2020-09-09'}]   \n",
       "27  [{'valor': '0', 'data': '2021-09-14'}, {'valor...   \n",
       "37            [{'valor': '72', 'data': '2022-10-09'}]   \n",
       "\n",
       "                                                 atcs  \\\n",
       "3   [{'codi': 'G04CA', 'dataInici': '2020-07-15 00...   \n",
       "6   [{'codi': 'C09AA', 'dataInici': '2021-08-21 00...   \n",
       "12  [{'codi': 'G04CA', 'dataInici': '2020-09-04 00...   \n",
       "27  [{'codi': 'C08CA', 'dataInici': '2020-11-23 00...   \n",
       "37  [{'codi': 'G04CA', 'dataInici': '2022-09-26 00...   \n",
       "\n",
       "                                               mecvvs  ...  \\\n",
       "3   [{'data': '20201204131810', 'disfagia': 'S', '...  ...   \n",
       "6   [{'data': '20210819124116', 'disfagia': 'S', '...  ...   \n",
       "12  [{'data': '20200907110400', 'disfagia': 'S', '...  ...   \n",
       "27  [{'data': '20201125131827', 'disfagia': 'S', '...  ...   \n",
       "37  [{'data': '20221012122425', 'disfagia': 'S', '...  ...   \n",
       "\n",
       "   Pèrdua pes entre ingressos Pèrdua pes total  Data més antiga pneumònia  \\\n",
       "3                        None             None                 2020-12-02   \n",
       "6                        None             None                 2021-08-17   \n",
       "12                        0.0              0.0                 2020-09-04   \n",
       "27                       None             41.1                 2020-12-02   \n",
       "37                        0.0              0.0                 2022-09-29   \n",
       "\n",
       "    Dies entre primer ICD pneumònia i primer MECVV positiu  \\\n",
       "3                                                 2.0        \n",
       "6                                                 2.0        \n",
       "12                                                3.0        \n",
       "27                                                7.0        \n",
       "37                                               13.0        \n",
       "\n",
       "     Barthel categòric  MNA categòric  EMINA categòric  Canadenca categòrica  \\\n",
       "3   Dependència severa     Desconegut     Risc moderat            Desconegut   \n",
       "6    Dependència total     Desconegut     Risc moderat            Desconegut   \n",
       "12  Dependència severa     Desconegut     Risc moderat            Desconegut   \n",
       "27   Dependència total     Desconegut     Risc moderat            Desconegut   \n",
       "37   Dependència total      Malnodrit     Risc moderat            Desconegut   \n",
       "\n",
       "    Pèrdua pes entre ingressos categòrica  split_database  \n",
       "3                                    None          AMB_PA  \n",
       "6                                    None          AMB_PA  \n",
       "12                                   0 kg          AMB_PA  \n",
       "27                                   None    AMB_PA_MECVV  \n",
       "37                                   0 kg          AMB_PA  \n",
       "\n",
       "[5 rows x 83 columns]"
      ],
      "text/html": [
       "<div>\n",
       "<style scoped>\n",
       "    .dataframe tbody tr th:only-of-type {\n",
       "        vertical-align: middle;\n",
       "    }\n",
       "\n",
       "    .dataframe tbody tr th {\n",
       "        vertical-align: top;\n",
       "    }\n",
       "\n",
       "    .dataframe thead th {\n",
       "        text-align: right;\n",
       "    }\n",
       "</style>\n",
       "<table border=\"1\" class=\"dataframe\">\n",
       "  <thead>\n",
       "    <tr style=\"text-align: right;\">\n",
       "      <th></th>\n",
       "      <th>edat</th>\n",
       "      <th>sexe M</th>\n",
       "      <th>visitaDietista</th>\n",
       "      <th>labs</th>\n",
       "      <th>mna</th>\n",
       "      <th>emina</th>\n",
       "      <th>canadenca</th>\n",
       "      <th>pes</th>\n",
       "      <th>atcs</th>\n",
       "      <th>mecvvs</th>\n",
       "      <th>...</th>\n",
       "      <th>Pèrdua pes entre ingressos</th>\n",
       "      <th>Pèrdua pes total</th>\n",
       "      <th>Data més antiga pneumònia</th>\n",
       "      <th>Dies entre primer ICD pneumònia i primer MECVV positiu</th>\n",
       "      <th>Barthel categòric</th>\n",
       "      <th>MNA categòric</th>\n",
       "      <th>EMINA categòric</th>\n",
       "      <th>Canadenca categòrica</th>\n",
       "      <th>Pèrdua pes entre ingressos categòrica</th>\n",
       "      <th>split_database</th>\n",
       "    </tr>\n",
       "  </thead>\n",
       "  <tbody>\n",
       "    <tr>\n",
       "      <th>3</th>\n",
       "      <td>85</td>\n",
       "      <td>1</td>\n",
       "      <td>0</td>\n",
       "      <td>[]</td>\n",
       "      <td>[]</td>\n",
       "      <td>[{'activitat': '2', 'estatMental': '1', 'humit...</td>\n",
       "      <td>[]</td>\n",
       "      <td>[]</td>\n",
       "      <td>[{'codi': 'G04CA', 'dataInici': '2020-07-15 00...</td>\n",
       "      <td>[{'data': '20201204131810', 'disfagia': 'S', '...</td>\n",
       "      <td>...</td>\n",
       "      <td>None</td>\n",
       "      <td>None</td>\n",
       "      <td>2020-12-02</td>\n",
       "      <td>2.0</td>\n",
       "      <td>Dependència severa</td>\n",
       "      <td>Desconegut</td>\n",
       "      <td>Risc moderat</td>\n",
       "      <td>Desconegut</td>\n",
       "      <td>None</td>\n",
       "      <td>AMB_PA</td>\n",
       "    </tr>\n",
       "    <tr>\n",
       "      <th>6</th>\n",
       "      <td>101</td>\n",
       "      <td>0</td>\n",
       "      <td>0</td>\n",
       "      <td>[]</td>\n",
       "      <td>[]</td>\n",
       "      <td>[{'activitat': '3', 'estatMental': '1', 'humit...</td>\n",
       "      <td>[]</td>\n",
       "      <td>[]</td>\n",
       "      <td>[{'codi': 'C09AA', 'dataInici': '2021-08-21 00...</td>\n",
       "      <td>[{'data': '20210819124116', 'disfagia': 'S', '...</td>\n",
       "      <td>...</td>\n",
       "      <td>None</td>\n",
       "      <td>None</td>\n",
       "      <td>2021-08-17</td>\n",
       "      <td>2.0</td>\n",
       "      <td>Dependència total</td>\n",
       "      <td>Desconegut</td>\n",
       "      <td>Risc moderat</td>\n",
       "      <td>Desconegut</td>\n",
       "      <td>None</td>\n",
       "      <td>AMB_PA</td>\n",
       "    </tr>\n",
       "    <tr>\n",
       "      <th>12</th>\n",
       "      <td>86</td>\n",
       "      <td>1</td>\n",
       "      <td>0</td>\n",
       "      <td>[]</td>\n",
       "      <td>[]</td>\n",
       "      <td>[{'activitat': '1', 'estatMental': '1', 'humit...</td>\n",
       "      <td>[]</td>\n",
       "      <td>[{'valor': '46.4', 'data': '2020-09-09'}]</td>\n",
       "      <td>[{'codi': 'G04CA', 'dataInici': '2020-09-04 00...</td>\n",
       "      <td>[{'data': '20200907110400', 'disfagia': 'S', '...</td>\n",
       "      <td>...</td>\n",
       "      <td>0.0</td>\n",
       "      <td>0.0</td>\n",
       "      <td>2020-09-04</td>\n",
       "      <td>3.0</td>\n",
       "      <td>Dependència severa</td>\n",
       "      <td>Desconegut</td>\n",
       "      <td>Risc moderat</td>\n",
       "      <td>Desconegut</td>\n",
       "      <td>0 kg</td>\n",
       "      <td>AMB_PA</td>\n",
       "    </tr>\n",
       "    <tr>\n",
       "      <th>27</th>\n",
       "      <td>100</td>\n",
       "      <td>1</td>\n",
       "      <td>0</td>\n",
       "      <td>[]</td>\n",
       "      <td>[]</td>\n",
       "      <td>[{'activitat': '3', 'estatMental': '0', 'humit...</td>\n",
       "      <td>[]</td>\n",
       "      <td>[{'valor': '0', 'data': '2021-09-14'}, {'valor...</td>\n",
       "      <td>[{'codi': 'C08CA', 'dataInici': '2020-11-23 00...</td>\n",
       "      <td>[{'data': '20201125131827', 'disfagia': 'S', '...</td>\n",
       "      <td>...</td>\n",
       "      <td>None</td>\n",
       "      <td>41.1</td>\n",
       "      <td>2020-12-02</td>\n",
       "      <td>7.0</td>\n",
       "      <td>Dependència total</td>\n",
       "      <td>Desconegut</td>\n",
       "      <td>Risc moderat</td>\n",
       "      <td>Desconegut</td>\n",
       "      <td>None</td>\n",
       "      <td>AMB_PA_MECVV</td>\n",
       "    </tr>\n",
       "    <tr>\n",
       "      <th>37</th>\n",
       "      <td>86</td>\n",
       "      <td>1</td>\n",
       "      <td>0</td>\n",
       "      <td>[{'date': '20221003', 'name': 'GLUCOSA Sèrum',...</td>\n",
       "      <td>[{'imc': '', 'anorexia': '', 'perduaPes': '', ...</td>\n",
       "      <td>[{'activitat': '2', 'estatMental': '1', 'humit...</td>\n",
       "      <td>[]</td>\n",
       "      <td>[{'valor': '72', 'data': '2022-10-09'}]</td>\n",
       "      <td>[{'codi': 'G04CA', 'dataInici': '2022-09-26 00...</td>\n",
       "      <td>[{'data': '20221012122425', 'disfagia': 'S', '...</td>\n",
       "      <td>...</td>\n",
       "      <td>0.0</td>\n",
       "      <td>0.0</td>\n",
       "      <td>2022-09-29</td>\n",
       "      <td>13.0</td>\n",
       "      <td>Dependència total</td>\n",
       "      <td>Malnodrit</td>\n",
       "      <td>Risc moderat</td>\n",
       "      <td>Desconegut</td>\n",
       "      <td>0 kg</td>\n",
       "      <td>AMB_PA</td>\n",
       "    </tr>\n",
       "  </tbody>\n",
       "</table>\n",
       "<p>5 rows × 83 columns</p>\n",
       "</div>"
      ]
     },
     "execution_count": 4,
     "metadata": {},
     "output_type": "execute_result"
    }
   ],
   "execution_count": 4
  },
  {
   "cell_type": "markdown",
   "source": [
    "# SENSE_PA"
   ],
   "metadata": {
    "collapsed": false
   },
   "id": "dec4a6dab210a15"
  },
  {
   "cell_type": "code",
   "source": [
    "SENSE_PA = taula[\n",
    "           (taula[\"Dies entre primer ICD pneumònia i primer MECVV positiu\"] > 30) & \n",
    "           (taula['P diagnosticada'] == 1.0)]\n",
    "SENSE_PA.head()"
   ],
   "metadata": {
    "collapsed": false,
    "ExecuteTime": {
     "end_time": "2024-06-13T11:55:39.768055Z",
     "start_time": "2024-06-13T11:55:39.504978Z"
    }
   },
   "id": "99cb28165725d83b",
   "outputs": [
    {
     "data": {
      "text/plain": [
       "    edat  sexe M  visitaDietista  \\\n",
       "13    71       0               0   \n",
       "25    83       0               0   \n",
       "28    95       0               0   \n",
       "31    89       1               0   \n",
       "39    87       0               0   \n",
       "\n",
       "                                                 labs  \\\n",
       "13  [{'date': '20220216', 'name': 'CULTIU Esput', ...   \n",
       "25  [{'date': '20220308', 'name': 'UREA Sèrum', 'l...   \n",
       "28  [{'date': '20220526', 'name': 'GLUCOSA Sèrum',...   \n",
       "31  [{'date': '20220318', 'name': 'BILIRUBINA TOTA...   \n",
       "39  [{'date': '20230619', 'name': 'GLUCOSA Sèrum',...   \n",
       "\n",
       "                                                  mna  \\\n",
       "13                                                 []   \n",
       "25  [{'imc': '', 'anorexia': '', 'perduaPes': '', ...   \n",
       "28                                                 []   \n",
       "31  [{'imc': '', 'anorexia': '', 'perduaPes': '', ...   \n",
       "39                                                 []   \n",
       "\n",
       "                                                emina  \\\n",
       "13  [{'activitat': '3', 'estatMental': '0', 'humit...   \n",
       "25  [{'activitat': '0', 'estatMental': '1', 'humit...   \n",
       "28  [{'activitat': '3', 'estatMental': '0', 'humit...   \n",
       "31  [{'activitat': '2', 'estatMental': '1', 'humit...   \n",
       "39  [{'activitat': '1', 'estatMental': '0', 'humit...   \n",
       "\n",
       "                                            canadenca  \\\n",
       "13  [{'dataValoracio': '2020-09-06', 'horaValoraci...   \n",
       "25                                                 []   \n",
       "28                                                 []   \n",
       "31                                                 []   \n",
       "39                                                 []   \n",
       "\n",
       "                                                  pes  \\\n",
       "13                                                 []   \n",
       "25  [{'valor': '57', 'data': '2022-11-03'}, {'valo...   \n",
       "28             [{'valor': '0', 'data': '2022-05-30'}]   \n",
       "31  [{'valor': '75', 'data': '2022-01-11'}, {'valo...   \n",
       "39                                                 []   \n",
       "\n",
       "                                                 atcs  \\\n",
       "13  [{'codi': 'C10AA', 'dataInici': '2020-09-06 00...   \n",
       "25  [{'codi': 'C10AA', 'dataInici': '2022-09-27 00...   \n",
       "28  [{'codi': 'C10AA', 'dataInici': '2020-11-18 00...   \n",
       "31  [{'codi': 'C10AA', 'dataInici': '2021-12-23 00...   \n",
       "39  [{'codi': 'N02BE', 'dataInici': '2021-01-17 00...   \n",
       "\n",
       "                                               mecvvs  ...  \\\n",
       "13  [{'data': '20200906175506', 'disfagia': 'N', '...  ...   \n",
       "25  [{'data': '20220929091303', 'disfagia': 'S', '...  ...   \n",
       "28  [{'data': '20220529115841', 'disfagia': 'S', '...  ...   \n",
       "31  [{'data': '20220119101523', 'disfagia': 'N', '...  ...   \n",
       "39  [{'data': '20220111085147', 'disfagia': 'S', '...  ...   \n",
       "\n",
       "   Pèrdua pes entre ingressos Pèrdua pes total  Data més antiga pneumònia  \\\n",
       "13                       None             None                 2022-02-14   \n",
       "25                       None             -6.2                 2023-04-09   \n",
       "28                        0.0              0.0                 2022-11-07   \n",
       "31                       None              8.0                 2023-05-05   \n",
       "39                       None             None                 2023-06-19   \n",
       "\n",
       "    Dies entre primer ICD pneumònia i primer MECVV positiu  \\\n",
       "13                                              525.0        \n",
       "25                                              192.0        \n",
       "28                                              162.0        \n",
       "31                                              458.0        \n",
       "39                                              524.0        \n",
       "\n",
       "       Barthel categòric  MNA categòric  EMINA categòric  \\\n",
       "13    Dependència severa     Desconegut     Risc moderat   \n",
       "25  Dependència moderada      Malnodrit        Risc baix   \n",
       "28     Dependència total     Desconegut     Risc moderat   \n",
       "31  Dependència moderada      Malnodrit     Risc moderat   \n",
       "39    Dependència severa     Desconegut        Risc baix   \n",
       "\n",
       "          Canadenca categòrica  Pèrdua pes entre ingressos categòrica  \\\n",
       "13  Dèficit neurologic moderat                                   None   \n",
       "25                  Desconegut                                   None   \n",
       "28                  Desconegut                                   0 kg   \n",
       "31                  Desconegut                                   None   \n",
       "39                  Desconegut                                   None   \n",
       "\n",
       "    split_database  \n",
       "13          AMB_PA  \n",
       "25        SENSE_PA  \n",
       "28          AMB_PA  \n",
       "31          AMB_PA  \n",
       "39          AMB_PA  \n",
       "\n",
       "[5 rows x 83 columns]"
      ],
      "text/html": [
       "<div>\n",
       "<style scoped>\n",
       "    .dataframe tbody tr th:only-of-type {\n",
       "        vertical-align: middle;\n",
       "    }\n",
       "\n",
       "    .dataframe tbody tr th {\n",
       "        vertical-align: top;\n",
       "    }\n",
       "\n",
       "    .dataframe thead th {\n",
       "        text-align: right;\n",
       "    }\n",
       "</style>\n",
       "<table border=\"1\" class=\"dataframe\">\n",
       "  <thead>\n",
       "    <tr style=\"text-align: right;\">\n",
       "      <th></th>\n",
       "      <th>edat</th>\n",
       "      <th>sexe M</th>\n",
       "      <th>visitaDietista</th>\n",
       "      <th>labs</th>\n",
       "      <th>mna</th>\n",
       "      <th>emina</th>\n",
       "      <th>canadenca</th>\n",
       "      <th>pes</th>\n",
       "      <th>atcs</th>\n",
       "      <th>mecvvs</th>\n",
       "      <th>...</th>\n",
       "      <th>Pèrdua pes entre ingressos</th>\n",
       "      <th>Pèrdua pes total</th>\n",
       "      <th>Data més antiga pneumònia</th>\n",
       "      <th>Dies entre primer ICD pneumònia i primer MECVV positiu</th>\n",
       "      <th>Barthel categòric</th>\n",
       "      <th>MNA categòric</th>\n",
       "      <th>EMINA categòric</th>\n",
       "      <th>Canadenca categòrica</th>\n",
       "      <th>Pèrdua pes entre ingressos categòrica</th>\n",
       "      <th>split_database</th>\n",
       "    </tr>\n",
       "  </thead>\n",
       "  <tbody>\n",
       "    <tr>\n",
       "      <th>13</th>\n",
       "      <td>71</td>\n",
       "      <td>0</td>\n",
       "      <td>0</td>\n",
       "      <td>[{'date': '20220216', 'name': 'CULTIU Esput', ...</td>\n",
       "      <td>[]</td>\n",
       "      <td>[{'activitat': '3', 'estatMental': '0', 'humit...</td>\n",
       "      <td>[{'dataValoracio': '2020-09-06', 'horaValoraci...</td>\n",
       "      <td>[]</td>\n",
       "      <td>[{'codi': 'C10AA', 'dataInici': '2020-09-06 00...</td>\n",
       "      <td>[{'data': '20200906175506', 'disfagia': 'N', '...</td>\n",
       "      <td>...</td>\n",
       "      <td>None</td>\n",
       "      <td>None</td>\n",
       "      <td>2022-02-14</td>\n",
       "      <td>525.0</td>\n",
       "      <td>Dependència severa</td>\n",
       "      <td>Desconegut</td>\n",
       "      <td>Risc moderat</td>\n",
       "      <td>Dèficit neurologic moderat</td>\n",
       "      <td>None</td>\n",
       "      <td>AMB_PA</td>\n",
       "    </tr>\n",
       "    <tr>\n",
       "      <th>25</th>\n",
       "      <td>83</td>\n",
       "      <td>0</td>\n",
       "      <td>0</td>\n",
       "      <td>[{'date': '20220308', 'name': 'UREA Sèrum', 'l...</td>\n",
       "      <td>[{'imc': '', 'anorexia': '', 'perduaPes': '', ...</td>\n",
       "      <td>[{'activitat': '0', 'estatMental': '1', 'humit...</td>\n",
       "      <td>[]</td>\n",
       "      <td>[{'valor': '57', 'data': '2022-11-03'}, {'valo...</td>\n",
       "      <td>[{'codi': 'C10AA', 'dataInici': '2022-09-27 00...</td>\n",
       "      <td>[{'data': '20220929091303', 'disfagia': 'S', '...</td>\n",
       "      <td>...</td>\n",
       "      <td>None</td>\n",
       "      <td>-6.2</td>\n",
       "      <td>2023-04-09</td>\n",
       "      <td>192.0</td>\n",
       "      <td>Dependència moderada</td>\n",
       "      <td>Malnodrit</td>\n",
       "      <td>Risc baix</td>\n",
       "      <td>Desconegut</td>\n",
       "      <td>None</td>\n",
       "      <td>SENSE_PA</td>\n",
       "    </tr>\n",
       "    <tr>\n",
       "      <th>28</th>\n",
       "      <td>95</td>\n",
       "      <td>0</td>\n",
       "      <td>0</td>\n",
       "      <td>[{'date': '20220526', 'name': 'GLUCOSA Sèrum',...</td>\n",
       "      <td>[]</td>\n",
       "      <td>[{'activitat': '3', 'estatMental': '0', 'humit...</td>\n",
       "      <td>[]</td>\n",
       "      <td>[{'valor': '0', 'data': '2022-05-30'}]</td>\n",
       "      <td>[{'codi': 'C10AA', 'dataInici': '2020-11-18 00...</td>\n",
       "      <td>[{'data': '20220529115841', 'disfagia': 'S', '...</td>\n",
       "      <td>...</td>\n",
       "      <td>0.0</td>\n",
       "      <td>0.0</td>\n",
       "      <td>2022-11-07</td>\n",
       "      <td>162.0</td>\n",
       "      <td>Dependència total</td>\n",
       "      <td>Desconegut</td>\n",
       "      <td>Risc moderat</td>\n",
       "      <td>Desconegut</td>\n",
       "      <td>0 kg</td>\n",
       "      <td>AMB_PA</td>\n",
       "    </tr>\n",
       "    <tr>\n",
       "      <th>31</th>\n",
       "      <td>89</td>\n",
       "      <td>1</td>\n",
       "      <td>0</td>\n",
       "      <td>[{'date': '20220318', 'name': 'BILIRUBINA TOTA...</td>\n",
       "      <td>[{'imc': '', 'anorexia': '', 'perduaPes': '', ...</td>\n",
       "      <td>[{'activitat': '2', 'estatMental': '1', 'humit...</td>\n",
       "      <td>[]</td>\n",
       "      <td>[{'valor': '75', 'data': '2022-01-11'}, {'valo...</td>\n",
       "      <td>[{'codi': 'C10AA', 'dataInici': '2021-12-23 00...</td>\n",
       "      <td>[{'data': '20220119101523', 'disfagia': 'N', '...</td>\n",
       "      <td>...</td>\n",
       "      <td>None</td>\n",
       "      <td>8.0</td>\n",
       "      <td>2023-05-05</td>\n",
       "      <td>458.0</td>\n",
       "      <td>Dependència moderada</td>\n",
       "      <td>Malnodrit</td>\n",
       "      <td>Risc moderat</td>\n",
       "      <td>Desconegut</td>\n",
       "      <td>None</td>\n",
       "      <td>AMB_PA</td>\n",
       "    </tr>\n",
       "    <tr>\n",
       "      <th>39</th>\n",
       "      <td>87</td>\n",
       "      <td>0</td>\n",
       "      <td>0</td>\n",
       "      <td>[{'date': '20230619', 'name': 'GLUCOSA Sèrum',...</td>\n",
       "      <td>[]</td>\n",
       "      <td>[{'activitat': '1', 'estatMental': '0', 'humit...</td>\n",
       "      <td>[]</td>\n",
       "      <td>[]</td>\n",
       "      <td>[{'codi': 'N02BE', 'dataInici': '2021-01-17 00...</td>\n",
       "      <td>[{'data': '20220111085147', 'disfagia': 'S', '...</td>\n",
       "      <td>...</td>\n",
       "      <td>None</td>\n",
       "      <td>None</td>\n",
       "      <td>2023-06-19</td>\n",
       "      <td>524.0</td>\n",
       "      <td>Dependència severa</td>\n",
       "      <td>Desconegut</td>\n",
       "      <td>Risc baix</td>\n",
       "      <td>Desconegut</td>\n",
       "      <td>None</td>\n",
       "      <td>AMB_PA</td>\n",
       "    </tr>\n",
       "  </tbody>\n",
       "</table>\n",
       "<p>5 rows × 83 columns</p>\n",
       "</div>"
      ]
     },
     "execution_count": 5,
     "metadata": {},
     "output_type": "execute_result"
    }
   ],
   "execution_count": 5
  },
  {
   "cell_type": "markdown",
   "source": [
    "# TOTAL"
   ],
   "metadata": {
    "collapsed": false
   },
   "id": "96e8546f52482484"
  },
  {
   "cell_type": "code",
   "source": [
    "TOTAL = taula\n",
    "taula.head()"
   ],
   "metadata": {
    "collapsed": false,
    "ExecuteTime": {
     "end_time": "2024-06-13T11:55:40.015926Z",
     "start_time": "2024-06-13T11:55:39.785890Z"
    }
   },
   "id": "6f3b6e5a0174bd39",
   "outputs": [
    {
     "data": {
      "text/plain": [
       "   edat  sexe M  visitaDietista  \\\n",
       "0    89       0               0   \n",
       "1    70       1               0   \n",
       "2    96       1               0   \n",
       "3    85       1               0   \n",
       "4    93       1               0   \n",
       "\n",
       "                                                labs  \\\n",
       "0                                                 []   \n",
       "1  [{'date': '20220524', 'name': 'PCR SARS-CoV2 S...   \n",
       "2                                                 []   \n",
       "3                                                 []   \n",
       "4  [{'date': '20220208', 'name': 'UREA Sèrum', 'l...   \n",
       "\n",
       "                                                 mna  \\\n",
       "0                                                 []   \n",
       "1                                                 []   \n",
       "2                                                 []   \n",
       "3                                                 []   \n",
       "4  [{'imc': '0', 'anorexia': '1', 'perduaPes': '1...   \n",
       "\n",
       "                                               emina canadenca  \\\n",
       "0  [{'activitat': '2', 'estatMental': '1', 'humit...        []   \n",
       "1  [{'activitat': '0', 'estatMental': '0', 'humit...        []   \n",
       "2  [{'activitat': '3', 'estatMental': '0', 'humit...        []   \n",
       "3  [{'activitat': '2', 'estatMental': '1', 'humit...        []   \n",
       "4  [{'activitat': '2', 'estatMental': '1', 'humit...        []   \n",
       "\n",
       "                                                 pes  \\\n",
       "0                                                 []   \n",
       "1  [{'valor': '64.7', 'data': '2022-10-04'}, {'va...   \n",
       "2                                                 []   \n",
       "3                                                 []   \n",
       "4  [{'valor': '49.900', 'data': '2022-06-02'}, {'...   \n",
       "\n",
       "                                                atcs  \\\n",
       "0  [{'codi': 'M01AE', 'dataInici': '2020-06-21 00...   \n",
       "1  [{'codi': 'C09AA', 'dataInici': '2021-05-26 00...   \n",
       "2  [{'codi': 'G04CA', 'dataInici': '2020-07-09 00...   \n",
       "3  [{'codi': 'G04CA', 'dataInici': '2020-07-15 00...   \n",
       "4  [{'codi': 'N02AA', 'dataInici': '2022-02-01 00...   \n",
       "\n",
       "                                              mecvvs  ...  \\\n",
       "0                                                 []  ...   \n",
       "1  [{'data': '20220930', 'pacientNoColabora': '',...  ...   \n",
       "2                                                 []  ...   \n",
       "3  [{'data': '20201204131810', 'disfagia': 'S', '...  ...   \n",
       "4  [{'data': '20220330172303', 'disfagiaConeguda'...  ...   \n",
       "\n",
       "  Pèrdua pes entre ingressos Pèrdua pes total  Data més antiga pneumònia  \\\n",
       "0                       None             None                 2020-06-18   \n",
       "1                       None             16.3                 2022-09-29   \n",
       "2                       None             None                 2020-07-08   \n",
       "3                       None             None                 2020-12-02   \n",
       "4                       None              0.0                        NaT   \n",
       "\n",
       "   Dies entre primer ICD pneumònia i primer MECVV positiu   Barthel categòric  \\\n",
       "0                                                NaN        Dependència total   \n",
       "1                                                NaN       Dependència severa   \n",
       "2                                                NaN       Dependència severa   \n",
       "3                                                2.0       Dependència severa   \n",
       "4                                                NaN        Dependència total   \n",
       "\n",
       "   MNA categòric  EMINA categòric  Canadenca categòrica  \\\n",
       "0     Desconegut     Risc moderat            Desconegut   \n",
       "1     Desconegut        Risc baix            Desconegut   \n",
       "2     Desconegut     Risc moderat            Desconegut   \n",
       "3     Desconegut     Risc moderat            Desconegut   \n",
       "4      Malnodrit     Risc moderat            Desconegut   \n",
       "\n",
       "   Pèrdua pes entre ingressos categòrica  split_database  \n",
       "0                                   None          AMB_PA  \n",
       "1                                   None          AMB_PA  \n",
       "2                                   None      Desconegut  \n",
       "3                                   None          AMB_PA  \n",
       "4                                   None          AMB_PA  \n",
       "\n",
       "[5 rows x 83 columns]"
      ],
      "text/html": [
       "<div>\n",
       "<style scoped>\n",
       "    .dataframe tbody tr th:only-of-type {\n",
       "        vertical-align: middle;\n",
       "    }\n",
       "\n",
       "    .dataframe tbody tr th {\n",
       "        vertical-align: top;\n",
       "    }\n",
       "\n",
       "    .dataframe thead th {\n",
       "        text-align: right;\n",
       "    }\n",
       "</style>\n",
       "<table border=\"1\" class=\"dataframe\">\n",
       "  <thead>\n",
       "    <tr style=\"text-align: right;\">\n",
       "      <th></th>\n",
       "      <th>edat</th>\n",
       "      <th>sexe M</th>\n",
       "      <th>visitaDietista</th>\n",
       "      <th>labs</th>\n",
       "      <th>mna</th>\n",
       "      <th>emina</th>\n",
       "      <th>canadenca</th>\n",
       "      <th>pes</th>\n",
       "      <th>atcs</th>\n",
       "      <th>mecvvs</th>\n",
       "      <th>...</th>\n",
       "      <th>Pèrdua pes entre ingressos</th>\n",
       "      <th>Pèrdua pes total</th>\n",
       "      <th>Data més antiga pneumònia</th>\n",
       "      <th>Dies entre primer ICD pneumònia i primer MECVV positiu</th>\n",
       "      <th>Barthel categòric</th>\n",
       "      <th>MNA categòric</th>\n",
       "      <th>EMINA categòric</th>\n",
       "      <th>Canadenca categòrica</th>\n",
       "      <th>Pèrdua pes entre ingressos categòrica</th>\n",
       "      <th>split_database</th>\n",
       "    </tr>\n",
       "  </thead>\n",
       "  <tbody>\n",
       "    <tr>\n",
       "      <th>0</th>\n",
       "      <td>89</td>\n",
       "      <td>0</td>\n",
       "      <td>0</td>\n",
       "      <td>[]</td>\n",
       "      <td>[]</td>\n",
       "      <td>[{'activitat': '2', 'estatMental': '1', 'humit...</td>\n",
       "      <td>[]</td>\n",
       "      <td>[]</td>\n",
       "      <td>[{'codi': 'M01AE', 'dataInici': '2020-06-21 00...</td>\n",
       "      <td>[]</td>\n",
       "      <td>...</td>\n",
       "      <td>None</td>\n",
       "      <td>None</td>\n",
       "      <td>2020-06-18</td>\n",
       "      <td>NaN</td>\n",
       "      <td>Dependència total</td>\n",
       "      <td>Desconegut</td>\n",
       "      <td>Risc moderat</td>\n",
       "      <td>Desconegut</td>\n",
       "      <td>None</td>\n",
       "      <td>AMB_PA</td>\n",
       "    </tr>\n",
       "    <tr>\n",
       "      <th>1</th>\n",
       "      <td>70</td>\n",
       "      <td>1</td>\n",
       "      <td>0</td>\n",
       "      <td>[{'date': '20220524', 'name': 'PCR SARS-CoV2 S...</td>\n",
       "      <td>[]</td>\n",
       "      <td>[{'activitat': '0', 'estatMental': '0', 'humit...</td>\n",
       "      <td>[]</td>\n",
       "      <td>[{'valor': '64.7', 'data': '2022-10-04'}, {'va...</td>\n",
       "      <td>[{'codi': 'C09AA', 'dataInici': '2021-05-26 00...</td>\n",
       "      <td>[{'data': '20220930', 'pacientNoColabora': '',...</td>\n",
       "      <td>...</td>\n",
       "      <td>None</td>\n",
       "      <td>16.3</td>\n",
       "      <td>2022-09-29</td>\n",
       "      <td>NaN</td>\n",
       "      <td>Dependència severa</td>\n",
       "      <td>Desconegut</td>\n",
       "      <td>Risc baix</td>\n",
       "      <td>Desconegut</td>\n",
       "      <td>None</td>\n",
       "      <td>AMB_PA</td>\n",
       "    </tr>\n",
       "    <tr>\n",
       "      <th>2</th>\n",
       "      <td>96</td>\n",
       "      <td>1</td>\n",
       "      <td>0</td>\n",
       "      <td>[]</td>\n",
       "      <td>[]</td>\n",
       "      <td>[{'activitat': '3', 'estatMental': '0', 'humit...</td>\n",
       "      <td>[]</td>\n",
       "      <td>[]</td>\n",
       "      <td>[{'codi': 'G04CA', 'dataInici': '2020-07-09 00...</td>\n",
       "      <td>[]</td>\n",
       "      <td>...</td>\n",
       "      <td>None</td>\n",
       "      <td>None</td>\n",
       "      <td>2020-07-08</td>\n",
       "      <td>NaN</td>\n",
       "      <td>Dependència severa</td>\n",
       "      <td>Desconegut</td>\n",
       "      <td>Risc moderat</td>\n",
       "      <td>Desconegut</td>\n",
       "      <td>None</td>\n",
       "      <td>Desconegut</td>\n",
       "    </tr>\n",
       "    <tr>\n",
       "      <th>3</th>\n",
       "      <td>85</td>\n",
       "      <td>1</td>\n",
       "      <td>0</td>\n",
       "      <td>[]</td>\n",
       "      <td>[]</td>\n",
       "      <td>[{'activitat': '2', 'estatMental': '1', 'humit...</td>\n",
       "      <td>[]</td>\n",
       "      <td>[]</td>\n",
       "      <td>[{'codi': 'G04CA', 'dataInici': '2020-07-15 00...</td>\n",
       "      <td>[{'data': '20201204131810', 'disfagia': 'S', '...</td>\n",
       "      <td>...</td>\n",
       "      <td>None</td>\n",
       "      <td>None</td>\n",
       "      <td>2020-12-02</td>\n",
       "      <td>2.0</td>\n",
       "      <td>Dependència severa</td>\n",
       "      <td>Desconegut</td>\n",
       "      <td>Risc moderat</td>\n",
       "      <td>Desconegut</td>\n",
       "      <td>None</td>\n",
       "      <td>AMB_PA</td>\n",
       "    </tr>\n",
       "    <tr>\n",
       "      <th>4</th>\n",
       "      <td>93</td>\n",
       "      <td>1</td>\n",
       "      <td>0</td>\n",
       "      <td>[{'date': '20220208', 'name': 'UREA Sèrum', 'l...</td>\n",
       "      <td>[{'imc': '0', 'anorexia': '1', 'perduaPes': '1...</td>\n",
       "      <td>[{'activitat': '2', 'estatMental': '1', 'humit...</td>\n",
       "      <td>[]</td>\n",
       "      <td>[{'valor': '49.900', 'data': '2022-06-02'}, {'...</td>\n",
       "      <td>[{'codi': 'N02AA', 'dataInici': '2022-02-01 00...</td>\n",
       "      <td>[{'data': '20220330172303', 'disfagiaConeguda'...</td>\n",
       "      <td>...</td>\n",
       "      <td>None</td>\n",
       "      <td>0.0</td>\n",
       "      <td>NaT</td>\n",
       "      <td>NaN</td>\n",
       "      <td>Dependència total</td>\n",
       "      <td>Malnodrit</td>\n",
       "      <td>Risc moderat</td>\n",
       "      <td>Desconegut</td>\n",
       "      <td>None</td>\n",
       "      <td>AMB_PA</td>\n",
       "    </tr>\n",
       "  </tbody>\n",
       "</table>\n",
       "<p>5 rows × 83 columns</p>\n",
       "</div>"
      ]
     },
     "execution_count": 6,
     "metadata": {},
     "output_type": "execute_result"
    }
   ],
   "execution_count": 6
  },
  {
   "cell_type": "markdown",
   "source": "Ara que tinc totes les dades classificades en aquests grups, faré una descriptiva. També compararé els diferents grups amb el p-valor mitjançant T-test, test de Mann-Whitney o test Xi-quadrat per mirar la seva distribució, la qual esperaré que sigui similar entre el grup AMB_PA i AMB_PA_MECVV, i diferent entre SENSE_PA i els altres 2 grups. Els criteris que seguiré per utilitzar un test o un altre és, primer, fer un test de Shapiro-Wilk per comprovar si segueixen una distribució normal, si és així, usaré el T-test, si no, utilitzaré el de Mann-Whitney. Finalment, si la columna conté valors categòrics com és el cas del sexe (F/M), faré servir el test Xi-quadrat.\n",
   "metadata": {
    "collapsed": false
   },
   "id": "7f349a29c092d1bc"
  },
  {
   "cell_type": "markdown",
   "source": "# Anàlisi descriptiva de les dades",
   "metadata": {
    "collapsed": false
   },
   "id": "cb8681bc87c8ed6a"
  },
  {
   "cell_type": "markdown",
   "source": [
    "### Comptatges i percentatges de variables categòriques per grup"
   ],
   "metadata": {
    "collapsed": false
   },
   "id": "eb6a6c33dfeb4b0b"
  },
  {
   "cell_type": "code",
   "source": [
    "llista_dfs = [('AMB_PA', AMB_PA), ('AMB_PA_MECVV', AMB_PA_MECVV), ('SENSE_PA', SENSE_PA), ('TOTAL', TOTAL)]\n",
    "\n",
    "comptatge_i_percentatge_cat(llista_dfs, cat_var)"
   ],
   "metadata": {
    "collapsed": false
   },
   "id": "fe39bf1bf0e506a6",
   "outputs": [],
   "execution_count": null
  },
  {
   "cell_type": "markdown",
   "source": [
    "### Comptatges i percentatges de tests categòrics per grup"
   ],
   "metadata": {
    "collapsed": false
   },
   "id": "a5c43a1979b64aea"
  },
  {
   "cell_type": "code",
   "source": [
    "llista_dfs = [('AMB_PA', AMB_PA), ('AMB_PA_MECVV', AMB_PA_MECVV), ('SENSE_PA', SENSE_PA), ('TOTAL', TOTAL)]\n",
    "\n",
    "comptatge_i_percentatge_cat(llista_dfs, cat_tests)"
   ],
   "metadata": {
    "collapsed": false
   },
   "id": "adec6fd8d7951316",
   "outputs": [],
   "execution_count": null
  },
  {
   "cell_type": "markdown",
   "source": [
    "### Mitjanes i desviacions estàndard de variables numèriques per grup"
   ],
   "metadata": {
    "collapsed": false
   },
   "id": "80fa23592b04584"
  },
  {
   "cell_type": "code",
   "source": [
    "llista_dfs = [('AMB_PA', AMB_PA), ('AMB_PA_MECVV', AMB_PA_MECVV), ('SENSE_PA', SENSE_PA), ('TOTAL', TOTAL)]\n",
    "\n",
    "mitjana_i_std_num(llista_dfs, num_var)"
   ],
   "metadata": {
    "collapsed": false
   },
   "id": "2f87fdb6064b92da",
   "outputs": [],
   "execution_count": null
  },
  {
   "cell_type": "markdown",
   "source": [
    "### Mitjanes i desviacions estàndard dels tests numèrics per grup"
   ],
   "metadata": {
    "collapsed": false
   },
   "id": "d925811b0d2b4ad1"
  },
  {
   "cell_type": "code",
   "source": [
    "llista_dfs = [('AMB_PA', AMB_PA), ('AMB_PA_MECVV', AMB_PA_MECVV), ('SENSE_PA', SENSE_PA), ('TOTAL', TOTAL)]\n",
    "\n",
    "mitjana_i_std_num(llista_dfs, num_tests)"
   ],
   "metadata": {
    "collapsed": false
   },
   "id": "8234dc89e6e6ff87",
   "outputs": [],
   "execution_count": null
  },
  {
   "cell_type": "markdown",
   "source": [
    "## Nombre de pacients"
   ],
   "metadata": {
    "collapsed": false
   },
   "id": "671e2ddfae2d343f"
  },
  {
   "cell_type": "code",
   "source": [
    "num_AMB_PA = len(AMB_PA)\n",
    "num_AMB_PA_MECVV= len(AMB_PA_MECVV)\n",
    "num_SENSE_PA = len(SENSE_PA)\n",
    "num_TOTAL = len(TOTAL)\n",
    "\n",
    "print(\"Nombre de pacients amb pneumònia aspirativa (cie = J69.0):\", num_AMB_PA)\n",
    "print(\"Nombre de pacients amb pneumònia i un MECV-V positiu:\", num_AMB_PA_MECVV)\n",
    "print(\"Nombre de pacients amb pneumònia sense comptar amb cie J69.0:\", num_SENSE_PA)\n",
    "print(\"Nombre total de pacients:\", num_TOTAL)"
   ],
   "metadata": {
    "collapsed": false
   },
   "id": "2191eb08651f644c",
   "outputs": [],
   "execution_count": null
  },
  {
   "cell_type": "markdown",
   "source": [
    "#### Comparació distributiva. Test d'independència"
   ],
   "metadata": {
    "collapsed": false
   },
   "id": "bf165aa3316cc67b"
  },
  {
   "cell_type": "markdown",
   "source": [
    "No es pot calcular la normalitat perquè només hi ha un valor per grup i tampoc té sentit calcular el p-valor.  "
   ],
   "metadata": {
    "collapsed": false
   },
   "id": "83037853eb2d7576"
  },
  {
   "cell_type": "markdown",
   "source": [
    "## Edat"
   ],
   "metadata": {
    "collapsed": false
   },
   "id": "9ee7a133313fb33a"
  },
  {
   "cell_type": "markdown",
   "source": [
    "#### Comparació distributiva. Test d'independència"
   ],
   "metadata": {
    "collapsed": false
   },
   "id": "e250cf6cf5f0912b"
  },
  {
   "cell_type": "code",
   "source": [
    "test_indepe_plot({'AMB_PA': AMB_PA['edat'], 'AMB_PA_MECVV': AMB_PA_MECVV['edat'], 'SENSE_PA': SENSE_PA['edat'], 'TOTAL': TOTAL['edat']})"
   ],
   "metadata": {
    "collapsed": false
   },
   "id": "47a8531eaf1dd946",
   "outputs": [],
   "execution_count": null
  },
  {
   "cell_type": "markdown",
   "source": [
    "## Sexe"
   ],
   "metadata": {
    "collapsed": false
   },
   "id": "4f08be693b97df08"
  },
  {
   "cell_type": "markdown",
   "source": [
    "#### Comparació distributiva. Test d'independència"
   ],
   "metadata": {
    "collapsed": false
   },
   "id": "a3ba6a5725f9791d"
  },
  {
   "cell_type": "code",
   "source": "test_indepe_bin_plot(data_1=TOTAL['split_database'], data_2=TOTAL['sexe M'])",
   "metadata": {
    "collapsed": false,
    "ExecuteTime": {
     "end_time": "2024-06-13T11:55:55.019521Z",
     "start_time": "2024-06-13T11:55:54.226407Z"
    }
   },
   "id": "a282b73d25144088",
   "outputs": [
    {
     "name": "stdout",
     "output_type": "stream",
     "text": [
      "Chi-squared: 1.6027\n",
      "P-value: 0.6588\n"
     ]
    },
    {
     "ename": "IndexError",
     "evalue": "invalid index to scalar variable.",
     "output_type": "error",
     "traceback": [
      "\u001B[1;31m---------------------------------------------------------------------------\u001B[0m",
      "\u001B[1;31mIndexError\u001B[0m                                Traceback (most recent call last)",
      "Cell \u001B[1;32mIn[7], line 1\u001B[0m\n\u001B[1;32m----> 1\u001B[0m \u001B[43mtest_indepe_bin_plot\u001B[49m\u001B[43m(\u001B[49m\u001B[43mdata_1\u001B[49m\u001B[38;5;241;43m=\u001B[39;49m\u001B[43mTOTAL\u001B[49m\u001B[43m[\u001B[49m\u001B[38;5;124;43m'\u001B[39;49m\u001B[38;5;124;43msplit_database\u001B[39;49m\u001B[38;5;124;43m'\u001B[39;49m\u001B[43m]\u001B[49m\u001B[43m,\u001B[49m\u001B[43m \u001B[49m\u001B[43mdata_2\u001B[49m\u001B[38;5;241;43m=\u001B[39;49m\u001B[43mTOTAL\u001B[49m\u001B[43m[\u001B[49m\u001B[38;5;124;43m'\u001B[39;49m\u001B[38;5;124;43msexe M\u001B[39;49m\u001B[38;5;124;43m'\u001B[39;49m\u001B[43m]\u001B[49m\u001B[43m)\u001B[49m\n",
      "File \u001B[1;32m~\\PycharmProjects\\practicum\\auxiliary_functions.py:1034\u001B[0m, in \u001B[0;36mtest_indepe_bin_plot\u001B[1;34m(data_1, data_2)\u001B[0m\n\u001B[0;32m   1031\u001B[0m \u001B[38;5;28mprint\u001B[39m(\u001B[38;5;124mf\u001B[39m\u001B[38;5;124m'\u001B[39m\u001B[38;5;124mP-value: \u001B[39m\u001B[38;5;132;01m{\u001B[39;00mp\u001B[38;5;132;01m:\u001B[39;00m\u001B[38;5;124m.4f\u001B[39m\u001B[38;5;132;01m}\u001B[39;00m\u001B[38;5;124m'\u001B[39m)\n\u001B[0;32m   1033\u001B[0m \u001B[38;5;66;03m# Plot the contingency table with p-values\u001B[39;00m\n\u001B[1;32m-> 1034\u001B[0m \u001B[43mplot_matrix\u001B[49m\u001B[43m(\u001B[49m\u001B[43mcontingency_table\u001B[49m\u001B[43m,\u001B[49m\u001B[43m \u001B[49m\u001B[43mp\u001B[49m\u001B[43m,\u001B[49m\u001B[43m \u001B[49m\u001B[43mdata_2\u001B[49m\u001B[38;5;241;43m.\u001B[39;49m\u001B[43mname\u001B[49m\u001B[43m)\u001B[49m\n",
      "File \u001B[1;32m~\\PycharmProjects\\practicum\\auxiliary_functions.py:1056\u001B[0m, in \u001B[0;36mplot_matrix\u001B[1;34m(contingency_table, p_values, categorical_column)\u001B[0m\n\u001B[0;32m   1054\u001B[0m \u001B[38;5;28;01mfor\u001B[39;00m i \u001B[38;5;129;01min\u001B[39;00m \u001B[38;5;28mrange\u001B[39m(num_rows):\n\u001B[0;32m   1055\u001B[0m     \u001B[38;5;28;01mfor\u001B[39;00m j \u001B[38;5;129;01min\u001B[39;00m \u001B[38;5;28mrange\u001B[39m(num_cols):\n\u001B[1;32m-> 1056\u001B[0m         ax\u001B[38;5;241m.\u001B[39mtext(j, i, \u001B[38;5;124mf\u001B[39m\u001B[38;5;124m'\u001B[39m\u001B[38;5;132;01m{\u001B[39;00m\u001B[43mp_values\u001B[49m\u001B[43m[\u001B[49m\u001B[43mi\u001B[49m\u001B[43m,\u001B[49m\u001B[38;5;250;43m \u001B[39;49m\u001B[43mj\u001B[49m\u001B[43m]\u001B[49m\u001B[38;5;132;01m:\u001B[39;00m\u001B[38;5;124m.4f\u001B[39m\u001B[38;5;132;01m}\u001B[39;00m\u001B[38;5;124m'\u001B[39m, ha\u001B[38;5;241m=\u001B[39m\u001B[38;5;124m'\u001B[39m\u001B[38;5;124mcenter\u001B[39m\u001B[38;5;124m'\u001B[39m, va\u001B[38;5;241m=\u001B[39m\u001B[38;5;124m'\u001B[39m\u001B[38;5;124mcenter\u001B[39m\u001B[38;5;124m'\u001B[39m, color\u001B[38;5;241m=\u001B[39m\u001B[38;5;124m'\u001B[39m\u001B[38;5;124mblack\u001B[39m\u001B[38;5;124m'\u001B[39m)\n\u001B[0;32m   1058\u001B[0m ax\u001B[38;5;241m.\u001B[39mset_facecolor((\u001B[38;5;241m0\u001B[39m, \u001B[38;5;241m0\u001B[39m, \u001B[38;5;241m0\u001B[39m, \u001B[38;5;241m0.5\u001B[39m))\n\u001B[0;32m   1059\u001B[0m plt\u001B[38;5;241m.\u001B[39mcolorbar(cax)\n",
      "\u001B[1;31mIndexError\u001B[0m: invalid index to scalar variable."
     ]
    },
    {
     "data": {
      "text/plain": [
       "<Figure size 640x480 with 1 Axes>"
      ],
      "image/png": "[encoded data removed]"
     },
     "metadata": {},
     "output_type": "display_data"
    }
   ],
   "execution_count": 7
  },
  {
   "cell_type": "markdown",
   "source": [
    "## Admissions"
   ],
   "metadata": {
    "collapsed": false
   },
   "id": "c474e11d96312513"
  },
  {
   "cell_type": "markdown",
   "source": [
    "#### Comparació distributiva. Test d'independència"
   ],
   "metadata": {
    "collapsed": false
   },
   "id": "a2b35271cd993978"
  },
  {
   "cell_type": "code",
   "source": [
    "test_indepe_plot({'AMB_PA': AMB_PA['Admissions'], 'AMB_PA_MECVV': AMB_PA_MECVV['Admissions'], 'SENSE_PA': SENSE_PA['Admissions'], 'TOTAL': TOTAL['Admissions']})"
   ],
   "metadata": {
    "collapsed": false
   },
   "id": "40d9bf8e813ee91b",
   "outputs": [],
   "execution_count": null
  },
  {
   "cell_type": "markdown",
   "source": [
    "## Admissions per urgències"
   ],
   "metadata": {
    "collapsed": false
   },
   "id": "34af574e4fb96b74"
  },
  {
   "cell_type": "markdown",
   "source": [
    "#### Comparació distributiva. Test d'independència "
   ],
   "metadata": {
    "collapsed": false
   },
   "id": "616ba106868bf318"
  },
  {
   "cell_type": "code",
   "source": [
    "test_indepe_plot({'AMB_PA': AMB_PA['Emergències'], 'AMB_PA_MECVV': AMB_PA_MECVV['Emergències'], 'SENSE_PA': SENSE_PA['Emergències'], 'TOTAL': TOTAL['Emergències']})"
   ],
   "metadata": {
    "collapsed": false
   },
   "id": "4fd476f591d5ddcc",
   "outputs": [],
   "execution_count": null
  },
  {
   "cell_type": "markdown",
   "source": [
    "## Disfàgia"
   ],
   "metadata": {
    "collapsed": false
   },
   "id": "fb67ddcfe2a0e04"
  },
  {
   "cell_type": "markdown",
   "source": [
    "#### Comparació distributiva. Test d'independència"
   ],
   "metadata": {
    "collapsed": false
   },
   "id": "132feb9909bcbf0"
  },
  {
   "cell_type": "code",
   "source": "test_indepe_bin_plot(data_1=TOTAL['split_database'], data_2=TOTAL['DO diagnosticada'])",
   "metadata": {
    "collapsed": false
   },
   "id": "5857d29d68956654",
   "outputs": [],
   "execution_count": null
  },
  {
   "cell_type": "markdown",
   "source": [
    "## Index de Barthel"
   ],
   "metadata": {
    "collapsed": false
   },
   "id": "7ccc108b777bfa4b"
  },
  {
   "cell_type": "markdown",
   "source": [
    "#### Comparació distributiva. Test d'independència"
   ],
   "metadata": {
    "collapsed": false
   },
   "id": "ab5732d554a4db37"
  },
  {
   "cell_type": "code",
   "source": [
    "test_indepe_plot({'AMB_PA': AMB_PA['Barthel resultats'], 'AMB_PA_MECVV': AMB_PA_MECVV['Barthel resultats'], 'SENSE_PA': SENSE_PA['Barthel resultats'], 'TOTAL': TOTAL['Barthel resultats']})"
   ],
   "metadata": {
    "collapsed": false
   },
   "id": "68e072f4ded154fa",
   "outputs": [],
   "execution_count": null
  },
  {
   "cell_type": "markdown",
   "source": [
    "## Categories índex de Barthel"
   ],
   "metadata": {
    "collapsed": false
   },
   "id": "15956ac3d3a97007"
  },
  {
   "cell_type": "markdown",
   "source": [
    "#### Comparació distributiva. Test d'independència"
   ],
   "metadata": {
    "collapsed": false
   },
   "id": "e3cedc9aeae40782"
  },
  {
   "cell_type": "code",
   "source": "test_indepe_bin_plot(data_1=TOTAL['split_database'], data_2=TOTAL['Barthel categòric'])",
   "metadata": {
    "collapsed": false,
    "ExecuteTime": {
     "end_time": "2024-06-13T11:57:40.421197Z",
     "start_time": "2024-06-13T11:57:39.902624Z"
    }
   },
   "id": "bc9f62cbba38e3a5",
   "outputs": [
    {
     "name": "stdout",
     "output_type": "stream",
     "text": [
      "Chi-squared: 20.7085\n",
      "P-value: 0.0140\n"
     ]
    },
    {
     "ename": "IndexError",
     "evalue": "invalid index to scalar variable.",
     "output_type": "error",
     "traceback": [
      "\u001B[1;31m---------------------------------------------------------------------------\u001B[0m",
      "\u001B[1;31mIndexError\u001B[0m                                Traceback (most recent call last)",
      "Cell \u001B[1;32mIn[8], line 1\u001B[0m\n\u001B[1;32m----> 1\u001B[0m \u001B[43mtest_indepe_bin_plot\u001B[49m\u001B[43m(\u001B[49m\u001B[43mdata_1\u001B[49m\u001B[38;5;241;43m=\u001B[39;49m\u001B[43mTOTAL\u001B[49m\u001B[43m[\u001B[49m\u001B[38;5;124;43m'\u001B[39;49m\u001B[38;5;124;43msplit_database\u001B[39;49m\u001B[38;5;124;43m'\u001B[39;49m\u001B[43m]\u001B[49m\u001B[43m,\u001B[49m\u001B[43m \u001B[49m\u001B[43mdata_2\u001B[49m\u001B[38;5;241;43m=\u001B[39;49m\u001B[43mTOTAL\u001B[49m\u001B[43m[\u001B[49m\u001B[38;5;124;43m'\u001B[39;49m\u001B[38;5;124;43mBarthel categòric\u001B[39;49m\u001B[38;5;124;43m'\u001B[39;49m\u001B[43m]\u001B[49m\u001B[43m)\u001B[49m\n",
      "File \u001B[1;32m~\\PycharmProjects\\practicum\\auxiliary_functions.py:1034\u001B[0m, in \u001B[0;36mtest_indepe_bin_plot\u001B[1;34m(data_1, data_2)\u001B[0m\n\u001B[0;32m   1031\u001B[0m \u001B[38;5;28mprint\u001B[39m(\u001B[38;5;124mf\u001B[39m\u001B[38;5;124m'\u001B[39m\u001B[38;5;124mP-value: \u001B[39m\u001B[38;5;132;01m{\u001B[39;00mp\u001B[38;5;132;01m:\u001B[39;00m\u001B[38;5;124m.4f\u001B[39m\u001B[38;5;132;01m}\u001B[39;00m\u001B[38;5;124m'\u001B[39m)\n\u001B[0;32m   1033\u001B[0m \u001B[38;5;66;03m# Plot the contingency table with p-values\u001B[39;00m\n\u001B[1;32m-> 1034\u001B[0m \u001B[43mplot_matrix\u001B[49m\u001B[43m(\u001B[49m\u001B[43mcontingency_table\u001B[49m\u001B[43m,\u001B[49m\u001B[43m \u001B[49m\u001B[43mp\u001B[49m\u001B[43m,\u001B[49m\u001B[43m \u001B[49m\u001B[43mdata_2\u001B[49m\u001B[38;5;241;43m.\u001B[39;49m\u001B[43mname\u001B[49m\u001B[43m)\u001B[49m\n",
      "File \u001B[1;32m~\\PycharmProjects\\practicum\\auxiliary_functions.py:1056\u001B[0m, in \u001B[0;36mplot_matrix\u001B[1;34m(contingency_table, p_values, categorical_column)\u001B[0m\n\u001B[0;32m   1054\u001B[0m \u001B[38;5;28;01mfor\u001B[39;00m i \u001B[38;5;129;01min\u001B[39;00m \u001B[38;5;28mrange\u001B[39m(num_rows):\n\u001B[0;32m   1055\u001B[0m     \u001B[38;5;28;01mfor\u001B[39;00m j \u001B[38;5;129;01min\u001B[39;00m \u001B[38;5;28mrange\u001B[39m(num_cols):\n\u001B[1;32m-> 1056\u001B[0m         ax\u001B[38;5;241m.\u001B[39mtext(j, i, \u001B[38;5;124mf\u001B[39m\u001B[38;5;124m'\u001B[39m\u001B[38;5;132;01m{\u001B[39;00m\u001B[43mp_values\u001B[49m\u001B[43m[\u001B[49m\u001B[43mi\u001B[49m\u001B[43m,\u001B[49m\u001B[38;5;250;43m \u001B[39;49m\u001B[43mj\u001B[49m\u001B[43m]\u001B[49m\u001B[38;5;132;01m:\u001B[39;00m\u001B[38;5;124m.4f\u001B[39m\u001B[38;5;132;01m}\u001B[39;00m\u001B[38;5;124m'\u001B[39m, ha\u001B[38;5;241m=\u001B[39m\u001B[38;5;124m'\u001B[39m\u001B[38;5;124mcenter\u001B[39m\u001B[38;5;124m'\u001B[39m, va\u001B[38;5;241m=\u001B[39m\u001B[38;5;124m'\u001B[39m\u001B[38;5;124mcenter\u001B[39m\u001B[38;5;124m'\u001B[39m, color\u001B[38;5;241m=\u001B[39m\u001B[38;5;124m'\u001B[39m\u001B[38;5;124mblack\u001B[39m\u001B[38;5;124m'\u001B[39m)\n\u001B[0;32m   1058\u001B[0m ax\u001B[38;5;241m.\u001B[39mset_facecolor((\u001B[38;5;241m0\u001B[39m, \u001B[38;5;241m0\u001B[39m, \u001B[38;5;241m0\u001B[39m, \u001B[38;5;241m0.5\u001B[39m))\n\u001B[0;32m   1059\u001B[0m plt\u001B[38;5;241m.\u001B[39mcolorbar(cax)\n",
      "\u001B[1;31mIndexError\u001B[0m: invalid index to scalar variable."
     ]
    },
    {
     "data": {
      "text/plain": [
       "<Figure size 640x480 with 1 Axes>"
      ],
      "image/png": "[encoded data removed]"
     },
     "metadata": {},
     "output_type": "display_data"
    }
   ],
   "execution_count": 8
  },
  {
   "cell_type": "markdown",
   "source": [
    "### Index del MNA"
   ],
   "metadata": {
    "collapsed": false
   },
   "id": "d3667b648826dd6c"
  },
  {
   "cell_type": "markdown",
   "source": [
    "#### Comparació distributiva. Test d'independència"
   ],
   "metadata": {
    "collapsed": false
   },
   "id": "3d75b26af642f508"
  },
  {
   "cell_type": "code",
   "source": [
    "test_indepe_plot({'AMB_PA': AMB_PA['MNA resultats'], 'AMB_PA_MECVV': AMB_PA_MECVV['MNA resultats'], 'SENSE_PA': SENSE_PA['MNA resultats'], 'TOTAL': TOTAL['MNA resultats']})"
   ],
   "metadata": {
    "collapsed": false
   },
   "id": "297fbefa22b2fec0",
   "outputs": [],
   "execution_count": null
  },
  {
   "cell_type": "markdown",
   "source": [
    "## Categories test MNA"
   ],
   "metadata": {
    "collapsed": false
   },
   "id": "256c77228ddcdc8a"
  },
  {
   "cell_type": "markdown",
   "source": [
    "#### Comparació distributiva. Test d'independència "
   ],
   "metadata": {
    "collapsed": false
   },
   "id": "a35fef463cf77940"
  },
  {
   "cell_type": "code",
   "source": [
    "test_indepe_bin_plot(taula, 'MNA categòric')"
   ],
   "metadata": {
    "collapsed": false
   },
   "id": "95e288715f6c4f66",
   "outputs": [],
   "execution_count": null
  },
  {
   "cell_type": "markdown",
   "source": [
    "## Index de l'EMINA"
   ],
   "metadata": {
    "collapsed": false
   },
   "id": "a548bfcf6f7eff40"
  },
  {
   "cell_type": "markdown",
   "source": [
    "### Comparació distributiva"
   ],
   "metadata": {
    "collapsed": false
   },
   "id": "423e822ac57f40bc"
  },
  {
   "cell_type": "code",
   "source": [
    "test_indepe_plot(({'AMB_PA': AMB_PA['EMINA categòric'], 'AMB_PA_MECVV': AMB_PA_MECVV['EMINA categòric'], 'SENSE_PA': SENSE_PA['EMINA categòric'], 'TOTAL': TOTAL['EMINA categòric']}))"
   ],
   "metadata": {
    "collapsed": false
   },
   "id": "c54dcc943b954896",
   "outputs": [],
   "execution_count": null
  },
  {
   "cell_type": "markdown",
   "source": [
    "## Categories de l'índex de l'EMINA"
   ],
   "metadata": {
    "collapsed": false
   },
   "id": "34050dd37e535d72"
  },
  {
   "cell_type": "markdown",
   "source": [
    "#### Comparació distributiva. Test d'independència"
   ],
   "metadata": {
    "collapsed": false
   },
   "id": "ddf219bd5cccc714"
  },
  {
   "cell_type": "code",
   "source": [
    "test_indepe_bin_plot(taula,'EMINA categòric')"
   ],
   "metadata": {
    "collapsed": false
   },
   "id": "c6dfe97c7f921146",
   "outputs": [],
   "execution_count": null
  },
  {
   "cell_type": "markdown",
   "source": [
    "## Index de la canadenca (escala neurològica canadenca)"
   ],
   "metadata": {
    "collapsed": false
   },
   "id": "9268e9d3d45d2d61"
  },
  {
   "cell_type": "markdown",
   "source": [
    "#### Comparació distributiva. Test d'independència"
   ],
   "metadata": {
    "collapsed": false
   },
   "id": "162b66dd142b4d9"
  },
  {
   "cell_type": "code",
   "source": [
    "test_indepe_plot({'AMB_PA': AMB_PA['Canadenca categòrica'], 'AMB_PA_MECVV': AMB_PA_MECVV['Canadenca categòrica'], 'SENSE_PA': SENSE_PA['Canadenca categòrica'], 'TOTAL': TOTAL['Canadenca categòrica']})"
   ],
   "metadata": {
    "collapsed": false
   },
   "id": "1728df0baaade800",
   "outputs": [],
   "execution_count": null
  },
  {
   "cell_type": "markdown",
   "source": [
    "## Categories de l'índex de la canadenca"
   ],
   "metadata": {
    "collapsed": false
   },
   "id": "c4925772b0c1f1a6"
  },
  {
   "cell_type": "markdown",
   "source": [
    "#### Comparació distributiva. Test d'independència "
   ],
   "metadata": {
    "collapsed": false
   },
   "id": "71e1eec6e13536c3"
  },
  {
   "cell_type": "code",
   "source": [
    "test_indepe_bin_plot(taula, 'Canadenca categòrica')"
   ],
   "metadata": {
    "collapsed": false
   },
   "id": "cf089c47b0f55d7c",
   "outputs": [],
   "execution_count": null
  },
  {
   "cell_type": "markdown",
   "source": [
    "## Infeccions respiratòries"
   ],
   "metadata": {
    "collapsed": false
   },
   "id": "beeb81424fe24caa"
  },
  {
   "cell_type": "markdown",
   "source": [
    "#### Comparació distributiva. Test d'independència "
   ],
   "metadata": {
    "collapsed": false
   },
   "id": "5b82be8124b2882b"
  },
  {
   "cell_type": "code",
   "source": [
    "test_indepe_bin_plot(taula,'Infeccions respiratòries principals diagnosticades')"
   ],
   "metadata": {
    "collapsed": false
   },
   "id": "b15e3fd33d0e8f25",
   "outputs": [],
   "execution_count": null
  },
  {
   "cell_type": "code",
   "source": [
    "test_indepe_bin_plot(taula,'LRTI diagnosticada')"
   ],
   "metadata": {
    "collapsed": false
   },
   "id": "1531f132413f1fe6",
   "outputs": [],
   "execution_count": null
  },
  {
   "cell_type": "code",
   "source": [
    "test_indepe_bin_plot(taula, 'Exacerbacions de COPD diagnosticades')"
   ],
   "metadata": {
    "collapsed": false
   },
   "id": "39a37fb60d8bca50",
   "outputs": [],
   "execution_count": null
  },
  {
   "cell_type": "code",
   "source": [
    "test_indepe_bin_plot(taula,'Fibrosi pulmonar i fibrotòrax diagnosticades')"
   ],
   "metadata": {
    "collapsed": false
   },
   "id": "f061d58a22223538",
   "outputs": [],
   "execution_count": null
  },
  {
   "cell_type": "markdown",
   "source": "# Resultats de laboratori",
   "metadata": {
    "collapsed": false
   },
   "id": "5a2961231a4a31fe"
  },
  {
   "cell_type": "markdown",
   "source": "## Albúmina",
   "metadata": {
    "collapsed": false
   },
   "id": "5ec2d8edf2394b27"
  },
  {
   "metadata": {},
   "cell_type": "markdown",
   "source": "#### Comparació distributiva. Test d'independència",
   "id": "d6c4ed211f9309aa"
  },
  {
   "metadata": {},
   "cell_type": "code",
   "source": "test_indepe_plot({'AMB_PA': AMB_PA['Albumin'], 'AMB_PA_MECVV': AMB_PA_MECVV['Albumin'], 'SENSE_PA': SENSE_PA['Albumin'], 'TOTAL': TOTAL['Albumin']})",
   "id": "e4f285f6679647ab",
   "outputs": [],
   "execution_count": null
  },
  {
   "cell_type": "markdown",
   "source": [
    "### Proteïnes totals"
   ],
   "metadata": {
    "collapsed": false
   },
   "id": "e04a3845d5bbe702"
  },
  {
   "cell_type": "markdown",
   "source": "#### Comparació distributiva. Test d'independència",
   "metadata": {
    "collapsed": false
   },
   "id": "e91b989932420350"
  },
  {
   "metadata": {},
   "cell_type": "code",
   "source": [
    "test_indepe_plot({'AMB_PA': AMB_PA['Total Proteins'], 'AMB_PA_MECVV': AMB_PA_MECVV['Total Proteins'], 'SENSE_PA': SENSE_PA['Total Proteins'], 'TOTAL': TOTAL['Total Proteins']})"
   ],
   "id": "c74cd2197c2f4db7",
   "outputs": [],
   "execution_count": null
  },
  {
   "cell_type": "markdown",
   "source": [
    "### Hemoglobina"
   ],
   "metadata": {
    "collapsed": false
   },
   "id": "83542ac42256ecbc"
  },
  {
   "cell_type": "markdown",
   "source": "#### Comparació distributiva. Test d'independència",
   "metadata": {
    "collapsed": false
   },
   "id": "3698d8eac9285554"
  },
  {
   "cell_type": "code",
   "source": [
    "test_indepe_plot({'AMB_PA': AMB_PA['Hemoglobin'], 'AMB_PA_MECVV': AMB_PA_MECVV['Hemoglobin'], 'SENSE_PA': SENSE_PA['Hemoglobin'], 'TOTAL': TOTAL['Hemoglobin']})"
   ],
   "metadata": {
    "collapsed": false
   },
   "id": "b22b3253ae1a3b4b",
   "outputs": [],
   "execution_count": null
  },
  {
   "cell_type": "markdown",
   "source": [
    "### Colesterol "
   ],
   "metadata": {
    "collapsed": false
   },
   "id": "ec1e8177dc1b0583"
  },
  {
   "cell_type": "markdown",
   "source": "#### Comparació distributiva. Test d'independència",
   "metadata": {
    "collapsed": false
   },
   "id": "83a935f3b5fc4891"
  },
  {
   "metadata": {},
   "cell_type": "code",
   "source": [
    "test_indepe_plot({'AMB_PA': AMB_PA['Total Cholesterol'], 'AMB_PA_MECVV': AMB_PA_MECVV['Total Cholesterol'], 'SENSE_PA': SENSE_PA['Total Cholesterol'], 'TOTAL': TOTAL['Total Cholesterol']})"
   ],
   "id": "c9b01ec752bb5cf0",
   "outputs": [],
   "execution_count": null
  },
  {
   "cell_type": "markdown",
   "source": [
    "### Leucòcits"
   ],
   "metadata": {
    "collapsed": false
   },
   "id": "42dc4ab8a11b6c11"
  },
  {
   "cell_type": "markdown",
   "source": "#### Comparació distributiva. Test d'independència",
   "metadata": {
    "collapsed": false
   },
   "id": "f569479d8863f97a"
  },
  {
   "metadata": {},
   "cell_type": "code",
   "source": [
    "test_indepe_plot({'AMB_PA': AMB_PA['Leucocytes'], 'AMB_PA_MECVV': AMB_PA_MECVV['Leucocytes'], 'SENSE_PA': SENSE_PA['Leucocytes'], 'TOTAL': TOTAL['Leucocytes']})"
   ],
   "id": "5c481ea27a1fc1d",
   "outputs": [],
   "execution_count": null
  },
  {
   "cell_type": "markdown",
   "source": [
    "### Limfòcits %"
   ],
   "metadata": {
    "collapsed": false
   },
   "id": "bcd5ba404d9c701d"
  },
  {
   "cell_type": "markdown",
   "source": "#### Comparació distributiva. Test d'independència",
   "metadata": {
    "collapsed": false
   },
   "id": "b157b909c8bffcd9"
  },
  {
   "metadata": {},
   "cell_type": "code",
   "source": "test_indepe_plot({'AMB_PA': AMB_PA['Lymphocytes'], 'AMB_PA_MECVV': AMB_PA_MECVV['Lymphocytes'], 'SENSE_PA': SENSE_PA['Lymphocytes'], TOTAL: TOTAL['Lymphocytes']})",
   "id": "281733bad678916e",
   "outputs": [],
   "execution_count": null
  },
  {
   "metadata": {},
   "cell_type": "markdown",
   "source": "### Proteïna C Reactiva",
   "id": "33798534e24b6df3"
  },
  {
   "cell_type": "markdown",
   "source": "#### Comparació distributiva. Test d'independència",
   "metadata": {
    "collapsed": false
   },
   "id": "17a2618d97df550a"
  },
  {
   "metadata": {},
   "cell_type": "code",
   "source": [
    "test_indepe_plot({'AMB_PA': AMB_PA['C reactive protein'], 'AMB_PA_MECVV': AMB_PA_MECVV['C reactive protein'], 'SENSE_PA': SENSE_PA['C reactive protein'], 'TOTAL': TOTAL['C reactive protein']})"
   ],
   "id": "834f57a93752d81b",
   "outputs": [],
   "execution_count": null
  },
  {
   "cell_type": "markdown",
   "source": [
    "### Urea "
   ],
   "metadata": {
    "collapsed": false
   },
   "id": "33d3d3507ff40c7a"
  },
  {
   "cell_type": "markdown",
   "source": "#### Comparació distributiva. Test d'independència",
   "metadata": {
    "collapsed": false
   },
   "id": "6516f15d748d02e1"
  },
  {
   "metadata": {},
   "cell_type": "code",
   "source": [
    "test_indepe_plot({'AMB_PA': AMB_PA['Urea'], 'AMB_PA_MECVV': AMB_PA_MECVV['Urea'], 'SENSE_PA': SENSE_PA['Urea'], 'TOTAL': TOTAL['Urea']})"
   ],
   "id": "5cd2379070c8b",
   "outputs": [],
   "execution_count": null
  },
  {
   "cell_type": "markdown",
   "source": "### Filtració glomerular",
   "metadata": {
    "collapsed": false
   },
   "id": "80f453469d4b3166"
  },
  {
   "cell_type": "markdown",
   "source": "#### Comparació distributiva. Test d'independència.",
   "metadata": {
    "collapsed": false
   },
   "id": "1d641b075e8fdef6"
  },
  {
   "metadata": {},
   "cell_type": "code",
   "source": "test_indepe_plot({'AMB_PA': AMB_PA['Glomerular Filtrate'], 'AMB_PA_MECVV': AMB_PA_MECVV['Glomerular Filtrate'], 'SENSE_PA': SENSE_PA['Glomerular Filtrate'], 'TOTAL': TOTAL['Glomerular Filtrate']})",
   "id": "cbe19d1a7f3a14a8",
   "outputs": [],
   "execution_count": null
  },
  {
   "metadata": {},
   "cell_type": "code",
   "source": "",
   "id": "a7917843fc45dcb5",
   "outputs": [],
   "execution_count": null
  }
 ],
 "metadata": {
  "kernelspec": {
   "display_name": "Python 3",
   "language": "python",
   "name": "python3"
  },
  "language_info": {
   "codemirror_mode": {
    "name": "ipython",
    "version": 2
   },
   "file_extension": ".py",
   "mimetype": "text/x-python",
   "name": "python",
   "nbconvert_exporter": "python",
   "pygments_lexer": "ipython2",
   "version": "2.7.6"
  }
 },
 "nbformat": 4,
 "nbformat_minor": 5
}
