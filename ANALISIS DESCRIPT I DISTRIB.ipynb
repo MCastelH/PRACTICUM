{
 "cells": [
  {
   "cell_type": "markdown",
   "source": [
    "## Paquetes y datos originales ## "
   ],
   "metadata": {
    "collapsed": false
   },
   "id": "56adfe3014ecabc7"
  },
  {
   "cell_type": "code",
   "source": [
    "import json\n",
    "import pandas as pd\n",
    "from datetime import datetime\n",
    "from listas import disfagia_list, PA_list, P_list, Main_respiratory_infections_list, LRTI_list, COPD_exacerbations_list, Pulmonary_fibrosis_fibrotorax_list\n",
    "from auxiliary_functions import valores_codigos, contar_diccionarios, dias_ingreso_total, asignar_intervalo_edad, sumar_barthel, sumar_emina, obtener_ultimo_resultat, obtener_valor_promedio, canadenca_comparada, disfagia_mecvvs, extraer_valor_clave, extraer_valor_clave_simple\n",
    "\n",
    "tabla = pd.read_pickle('./data/processed/dataframe.pkl')\n",
    "import scipy.stats as stats\n",
    "from scipy.stats import ttest_ind\n",
    "from scipy.stats import shapiro\n",
    "from scipy.stats import mannwhitneyu\n",
    "from scipy.stats import chi2_contingency\n"
   ],
   "metadata": {
    "collapsed": false,
    "ExecuteTime": {
     "end_time": "2024-04-15T09:28:49.897630Z",
     "start_time": "2024-04-15T09:28:49.863646Z"
    }
   },
   "id": "34dba1a0fd28236e",
   "outputs": [
    {
     "ename": "ImportError",
     "evalue": "cannot import name 'test_shapiro' from 'auxiliary_functions' (C:\\Users\\maria\\PycharmProjects\\practicum\\auxiliary_functions.py)",
     "output_type": "error",
     "traceback": [
      "\u001B[1;31m---------------------------------------------------------------------------\u001B[0m",
      "\u001B[1;31mImportError\u001B[0m                               Traceback (most recent call last)",
      "Cell \u001B[1;32mIn[1251], line 5\u001B[0m\n\u001B[0;32m      3\u001B[0m \u001B[38;5;28;01mfrom\u001B[39;00m \u001B[38;5;21;01mdatetime\u001B[39;00m \u001B[38;5;28;01mimport\u001B[39;00m datetime\n\u001B[0;32m      4\u001B[0m \u001B[38;5;28;01mfrom\u001B[39;00m \u001B[38;5;21;01mlistas\u001B[39;00m \u001B[38;5;28;01mimport\u001B[39;00m disfagia_list, PA_list, P_list, Main_respiratory_infections_list, LRTI_list, COPD_exacerbations_list, Pulmonary_fibrosis_fibrotorax_list\n\u001B[1;32m----> 5\u001B[0m \u001B[38;5;28;01mfrom\u001B[39;00m \u001B[38;5;21;01mauxiliary_functions\u001B[39;00m \u001B[38;5;28;01mimport\u001B[39;00m valores_codigos, contar_diccionarios, dias_ingreso_total, asignar_intervalo_edad, sumar_barthel, sumar_emina, obtener_ultimo_resultat, obtener_valor_promedio, canadenca_comparada, disfagia_mecvvs, extraer_valor_clave, extraer_valor_clave_simple, test_shapiro\n\u001B[0;32m      7\u001B[0m tabla \u001B[38;5;241m=\u001B[39m pd\u001B[38;5;241m.\u001B[39mread_pickle(\u001B[38;5;124m'\u001B[39m\u001B[38;5;124m./data/processed/dataframe.pkl\u001B[39m\u001B[38;5;124m'\u001B[39m)\n\u001B[0;32m      8\u001B[0m \u001B[38;5;28;01mimport\u001B[39;00m \u001B[38;5;21;01mscipy\u001B[39;00m\u001B[38;5;21;01m.\u001B[39;00m\u001B[38;5;21;01mstats\u001B[39;00m \u001B[38;5;28;01mas\u001B[39;00m \u001B[38;5;21;01mstats\u001B[39;00m\n",
      "\u001B[1;31mImportError\u001B[0m: cannot import name 'test_shapiro' from 'auxiliary_functions' (C:\\Users\\maria\\PycharmProjects\\practicum\\auxiliary_functions.py)"
     ]
    }
   ],
   "execution_count": 1251
  },
  {
   "cell_type": "markdown",
   "source": "### Previamente he tratado la base de datos, creando nuevas columnas para facilitar la lectura de los datos",
   "metadata": {
    "collapsed": false
   },
   "id": "5e397a948db661a4"
  },
  {
   "cell_type": "code",
   "source": [
    "tabla.head()"
   ],
   "metadata": {
    "collapsed": false,
    "ExecuteTime": {
     "end_time": "2024-04-15T09:29:04.676278Z",
     "start_time": "2024-04-15T09:29:04.511194Z"
    }
   },
   "id": "aa2554a079d8240",
   "outputs": [
    {
     "data": {
      "text/plain": [
       "   edat sexe  visitaDietista  \\\n",
       "0    89    F               0   \n",
       "1    70    M               0   \n",
       "2    96    M               0   \n",
       "3    85    M               0   \n",
       "4    93    M               0   \n",
       "\n",
       "                                                labs  \\\n",
       "0                                                 []   \n",
       "1  [{'date': '20220524', 'name': 'PCR SARS-CoV2 S...   \n",
       "2                                                 []   \n",
       "3                                                 []   \n",
       "4  [{'date': '20220208', 'name': 'UREA Sèrum', 'l...   \n",
       "\n",
       "                                                 mna  \\\n",
       "0                                                 []   \n",
       "1                                                 []   \n",
       "2                                                 []   \n",
       "3                                                 []   \n",
       "4  [{'imc': '0', 'anorexia': '1', 'perduaPes': '1...   \n",
       "\n",
       "                                               emina canadenca  \\\n",
       "0  [{'activitat': '2', 'estatMental': '1', 'humit...        []   \n",
       "1  [{'activitat': '0', 'estatMental': '0', 'humit...        []   \n",
       "2  [{'activitat': '3', 'estatMental': '0', 'humit...        []   \n",
       "3  [{'activitat': '2', 'estatMental': '1', 'humit...        []   \n",
       "4  [{'activitat': '2', 'estatMental': '1', 'humit...        []   \n",
       "\n",
       "                                                 pes  \\\n",
       "0                                                 []   \n",
       "1  [{'valor': '64.7', 'data': '2022-10-04'}, {'va...   \n",
       "2                                                 []   \n",
       "3                                                 []   \n",
       "4  [{'valor': '49.900', 'data': '2022-06-02'}, {'...   \n",
       "\n",
       "                                                atcs  \\\n",
       "0  [{'codi': 'M01AE', 'dataInici': '2020-06-21 00...   \n",
       "1  [{'codi': 'C09AA', 'dataInici': '2021-05-26 00...   \n",
       "2  [{'codi': 'G04CA', 'dataInici': '2020-07-09 00...   \n",
       "3  [{'codi': 'G04CA', 'dataInici': '2020-07-15 00...   \n",
       "4  [{'codi': 'N02AA', 'dataInici': '2022-02-01 00...   \n",
       "\n",
       "                                              mecvvs  ...  \\\n",
       "0                                                 []  ...   \n",
       "1  [{'data': '20220930', 'pacientNoColabora': '',...  ...   \n",
       "2                                                 []  ...   \n",
       "3  [{'data': '20201204131810', 'disfagia': 'S', '...  ...   \n",
       "4  [{'data': '20220330172303', 'disfagiaConeguda'...  ...   \n",
       "\n",
       "                                            albumina  \\\n",
       "0                                               None   \n",
       "1                                                3.1   \n",
       "2                                               None   \n",
       "3                                               None   \n",
       "4  Proves afegides a un altre petició per extracc...   \n",
       "\n",
       "                                   proteinas totales    Hb  colesterol total  \\\n",
       "0                                               None  None              None   \n",
       "1                                                5.3  14.5             124.7   \n",
       "2                                               None  None              None   \n",
       "3                                               None  None              None   \n",
       "4  Proves afegides a un altre petició per extracc...     X              None   \n",
       "\n",
       "   leucos  limfos  prot C react  \\\n",
       "0    None    None          None   \n",
       "1       X    38.9         19.61   \n",
       "2    None    None          None   \n",
       "3    None    None          None   \n",
       "4       X       X          0.54   \n",
       "\n",
       "                                                urea  \\\n",
       "0                                               None   \n",
       "1                                               25.7   \n",
       "2                                               None   \n",
       "3                                               None   \n",
       "4  Proves afegides a un altre petició per extracc...   \n",
       "\n",
       "                                            FGE MDRD  \\\n",
       "0                                               None   \n",
       "1                                                >60   \n",
       "2                                               None   \n",
       "3                                               None   \n",
       "4  Proves afegides a un altre petició per extracc...   \n",
       "\n",
       "                                         FGE CDK-EPI  \n",
       "0                                               None  \n",
       "1                                                >90  \n",
       "2                                               None  \n",
       "3                                               None  \n",
       "4  Proves afegides a un altre petició per extracc...  \n",
       "\n",
       "[5 rows x 43 columns]"
      ],
      "text/html": [
       "<div>\n",
       "<style scoped>\n",
       "    .dataframe tbody tr th:only-of-type {\n",
       "        vertical-align: middle;\n",
       "    }\n",
       "\n",
       "    .dataframe tbody tr th {\n",
       "        vertical-align: top;\n",
       "    }\n",
       "\n",
       "    .dataframe thead th {\n",
       "        text-align: right;\n",
       "    }\n",
       "</style>\n",
       "<table border=\"1\" class=\"dataframe\">\n",
       "  <thead>\n",
       "    <tr style=\"text-align: right;\">\n",
       "      <th></th>\n",
       "      <th>edat</th>\n",
       "      <th>sexe</th>\n",
       "      <th>visitaDietista</th>\n",
       "      <th>labs</th>\n",
       "      <th>mna</th>\n",
       "      <th>emina</th>\n",
       "      <th>canadenca</th>\n",
       "      <th>pes</th>\n",
       "      <th>atcs</th>\n",
       "      <th>mecvvs</th>\n",
       "      <th>...</th>\n",
       "      <th>albumina</th>\n",
       "      <th>proteinas totales</th>\n",
       "      <th>Hb</th>\n",
       "      <th>colesterol total</th>\n",
       "      <th>leucos</th>\n",
       "      <th>limfos</th>\n",
       "      <th>prot C react</th>\n",
       "      <th>urea</th>\n",
       "      <th>FGE MDRD</th>\n",
       "      <th>FGE CDK-EPI</th>\n",
       "    </tr>\n",
       "  </thead>\n",
       "  <tbody>\n",
       "    <tr>\n",
       "      <th>0</th>\n",
       "      <td>89</td>\n",
       "      <td>F</td>\n",
       "      <td>0</td>\n",
       "      <td>[]</td>\n",
       "      <td>[]</td>\n",
       "      <td>[{'activitat': '2', 'estatMental': '1', 'humit...</td>\n",
       "      <td>[]</td>\n",
       "      <td>[]</td>\n",
       "      <td>[{'codi': 'M01AE', 'dataInici': '2020-06-21 00...</td>\n",
       "      <td>[]</td>\n",
       "      <td>...</td>\n",
       "      <td>None</td>\n",
       "      <td>None</td>\n",
       "      <td>None</td>\n",
       "      <td>None</td>\n",
       "      <td>None</td>\n",
       "      <td>None</td>\n",
       "      <td>None</td>\n",
       "      <td>None</td>\n",
       "      <td>None</td>\n",
       "      <td>None</td>\n",
       "    </tr>\n",
       "    <tr>\n",
       "      <th>1</th>\n",
       "      <td>70</td>\n",
       "      <td>M</td>\n",
       "      <td>0</td>\n",
       "      <td>[{'date': '20220524', 'name': 'PCR SARS-CoV2 S...</td>\n",
       "      <td>[]</td>\n",
       "      <td>[{'activitat': '0', 'estatMental': '0', 'humit...</td>\n",
       "      <td>[]</td>\n",
       "      <td>[{'valor': '64.7', 'data': '2022-10-04'}, {'va...</td>\n",
       "      <td>[{'codi': 'C09AA', 'dataInici': '2021-05-26 00...</td>\n",
       "      <td>[{'data': '20220930', 'pacientNoColabora': '',...</td>\n",
       "      <td>...</td>\n",
       "      <td>3.1</td>\n",
       "      <td>5.3</td>\n",
       "      <td>14.5</td>\n",
       "      <td>124.7</td>\n",
       "      <td>X</td>\n",
       "      <td>38.9</td>\n",
       "      <td>19.61</td>\n",
       "      <td>25.7</td>\n",
       "      <td>&gt;60</td>\n",
       "      <td>&gt;90</td>\n",
       "    </tr>\n",
       "    <tr>\n",
       "      <th>2</th>\n",
       "      <td>96</td>\n",
       "      <td>M</td>\n",
       "      <td>0</td>\n",
       "      <td>[]</td>\n",
       "      <td>[]</td>\n",
       "      <td>[{'activitat': '3', 'estatMental': '0', 'humit...</td>\n",
       "      <td>[]</td>\n",
       "      <td>[]</td>\n",
       "      <td>[{'codi': 'G04CA', 'dataInici': '2020-07-09 00...</td>\n",
       "      <td>[]</td>\n",
       "      <td>...</td>\n",
       "      <td>None</td>\n",
       "      <td>None</td>\n",
       "      <td>None</td>\n",
       "      <td>None</td>\n",
       "      <td>None</td>\n",
       "      <td>None</td>\n",
       "      <td>None</td>\n",
       "      <td>None</td>\n",
       "      <td>None</td>\n",
       "      <td>None</td>\n",
       "    </tr>\n",
       "    <tr>\n",
       "      <th>3</th>\n",
       "      <td>85</td>\n",
       "      <td>M</td>\n",
       "      <td>0</td>\n",
       "      <td>[]</td>\n",
       "      <td>[]</td>\n",
       "      <td>[{'activitat': '2', 'estatMental': '1', 'humit...</td>\n",
       "      <td>[]</td>\n",
       "      <td>[]</td>\n",
       "      <td>[{'codi': 'G04CA', 'dataInici': '2020-07-15 00...</td>\n",
       "      <td>[{'data': '20201204131810', 'disfagia': 'S', '...</td>\n",
       "      <td>...</td>\n",
       "      <td>None</td>\n",
       "      <td>None</td>\n",
       "      <td>None</td>\n",
       "      <td>None</td>\n",
       "      <td>None</td>\n",
       "      <td>None</td>\n",
       "      <td>None</td>\n",
       "      <td>None</td>\n",
       "      <td>None</td>\n",
       "      <td>None</td>\n",
       "    </tr>\n",
       "    <tr>\n",
       "      <th>4</th>\n",
       "      <td>93</td>\n",
       "      <td>M</td>\n",
       "      <td>0</td>\n",
       "      <td>[{'date': '20220208', 'name': 'UREA Sèrum', 'l...</td>\n",
       "      <td>[{'imc': '0', 'anorexia': '1', 'perduaPes': '1...</td>\n",
       "      <td>[{'activitat': '2', 'estatMental': '1', 'humit...</td>\n",
       "      <td>[]</td>\n",
       "      <td>[{'valor': '49.900', 'data': '2022-06-02'}, {'...</td>\n",
       "      <td>[{'codi': 'N02AA', 'dataInici': '2022-02-01 00...</td>\n",
       "      <td>[{'data': '20220330172303', 'disfagiaConeguda'...</td>\n",
       "      <td>...</td>\n",
       "      <td>Proves afegides a un altre petició per extracc...</td>\n",
       "      <td>Proves afegides a un altre petició per extracc...</td>\n",
       "      <td>X</td>\n",
       "      <td>None</td>\n",
       "      <td>X</td>\n",
       "      <td>X</td>\n",
       "      <td>0.54</td>\n",
       "      <td>Proves afegides a un altre petició per extracc...</td>\n",
       "      <td>Proves afegides a un altre petició per extracc...</td>\n",
       "      <td>Proves afegides a un altre petició per extracc...</td>\n",
       "    </tr>\n",
       "  </tbody>\n",
       "</table>\n",
       "<p>5 rows × 43 columns</p>\n",
       "</div>"
      ]
     },
     "execution_count": 1252,
     "metadata": {},
     "output_type": "execute_result"
    }
   ],
   "execution_count": 1252
  },
  {
   "cell_type": "markdown",
   "source": [
    "## Dividiré los datos en 3 grupos:\n",
    "- Con PA (codigo ICD de PA )\n",
    "- Con PA + MECVV (MECVV positivo + ICD pneumonia < 30 dias)\n",
    "- Sin PA (ICD pneumonia o ICD pneumonia + MECVV positivo > 30 dias)"
   ],
   "metadata": {
    "collapsed": false
   },
   "id": "e7c4d56da22c6caf"
  },
  {
   "cell_type": "markdown",
   "source": [
    "# CON PA "
   ],
   "metadata": {
    "collapsed": false
   },
   "id": "6fe0c4b4db3bd775"
  },
  {
   "cell_type": "code",
   "source": [
    "tabla.PA_diagnosticada.value_counts()"
   ],
   "metadata": {
    "collapsed": false,
    "ExecuteTime": {
     "end_time": "2024-04-15T09:29:04.727524Z",
     "start_time": "2024-04-15T09:29:04.720052Z"
    }
   },
   "id": "a4e4da6a7f6dcc17",
   "outputs": [
    {
     "data": {
      "text/plain": [
       "PA_diagnosticada\n",
       "0.0    33\n",
       "1.0    17\n",
       "Name: count, dtype: int64"
      ]
     },
     "execution_count": 1253,
     "metadata": {},
     "output_type": "execute_result"
    }
   ],
   "execution_count": 1253
  },
  {
   "cell_type": "code",
   "source": [
    "CON_PA = tabla[tabla[\"PA_diagnosticada\"] == 1.0]\n",
    "CON_PA.head(len(tabla))"
   ],
   "metadata": {
    "collapsed": false,
    "ExecuteTime": {
     "end_time": "2024-04-15T09:29:21.464913Z",
     "start_time": "2024-04-15T09:29:21.003528Z"
    }
   },
   "id": "bf8054f82ba8cf2d",
   "outputs": [
    {
     "data": {
      "text/plain": [
       "    edat sexe  visitaDietista  \\\n",
       "0     89    F               0   \n",
       "1     70    M               0   \n",
       "3     85    M               0   \n",
       "6    101    F               0   \n",
       "12    86    M               0   \n",
       "13    71    F               0   \n",
       "15    75    M               0   \n",
       "26    97    F               0   \n",
       "28    95    F               0   \n",
       "29    97    F               0   \n",
       "31    89    M               0   \n",
       "32    81    M               0   \n",
       "34    96    F               0   \n",
       "37    86    M               0   \n",
       "38    90    M               0   \n",
       "39    87    F               0   \n",
       "45    85    M               0   \n",
       "\n",
       "                                                 labs  \\\n",
       "0                                                  []   \n",
       "1   [{'date': '20220524', 'name': 'PCR SARS-CoV2 S...   \n",
       "3                                                  []   \n",
       "6                                                  []   \n",
       "12                                                 []   \n",
       "13  [{'date': '20220216', 'name': 'CULTIU Esput', ...   \n",
       "15                                                 []   \n",
       "26  [{'date': '20220419', 'name': 'GLUCOSA Sèrum',...   \n",
       "28  [{'date': '20220526', 'name': 'GLUCOSA Sèrum',...   \n",
       "29                                                 []   \n",
       "31  [{'date': '20220318', 'name': 'BILIRUBINA TOTA...   \n",
       "32                                                 []   \n",
       "34                                                 []   \n",
       "37  [{'date': '20221003', 'name': 'GLUCOSA Sèrum',...   \n",
       "38  [{'date': '20220809', 'name': 'GLUCOSA Sèrum',...   \n",
       "39  [{'date': '20230619', 'name': 'GLUCOSA Sèrum',...   \n",
       "45  [{'date': '20220330', 'name': 'GLUCOSA Sèrum',...   \n",
       "\n",
       "                                                  mna  \\\n",
       "0                                                  []   \n",
       "1                                                  []   \n",
       "3                                                  []   \n",
       "6                                                  []   \n",
       "12                                                 []   \n",
       "13                                                 []   \n",
       "15                                                 []   \n",
       "26                                                 []   \n",
       "28                                                 []   \n",
       "29                                                 []   \n",
       "31  [{'imc': '', 'anorexia': '', 'perduaPes': '', ...   \n",
       "32                                                 []   \n",
       "34  [{'imc': '', 'anorexia': '', 'perduaPes': '', ...   \n",
       "37  [{'imc': '', 'anorexia': '', 'perduaPes': '', ...   \n",
       "38                                                 []   \n",
       "39                                                 []   \n",
       "45  [{'imc': '', 'anorexia': '', 'perduaPes': '', ...   \n",
       "\n",
       "                                                emina  \\\n",
       "0   [{'activitat': '2', 'estatMental': '1', 'humit...   \n",
       "1   [{'activitat': '0', 'estatMental': '0', 'humit...   \n",
       "3   [{'activitat': '2', 'estatMental': '1', 'humit...   \n",
       "6   [{'activitat': '3', 'estatMental': '1', 'humit...   \n",
       "12  [{'activitat': '1', 'estatMental': '1', 'humit...   \n",
       "13  [{'activitat': '3', 'estatMental': '0', 'humit...   \n",
       "15  [{'activitat': '3', 'estatMental': '2', 'humit...   \n",
       "26  [{'activitat': '1', 'estatMental': '0', 'humit...   \n",
       "28  [{'activitat': '3', 'estatMental': '0', 'humit...   \n",
       "29  [{'activitat': '3', 'estatMental': '2', 'humit...   \n",
       "31  [{'activitat': '2', 'estatMental': '1', 'humit...   \n",
       "32  [{'activitat': '2', 'estatMental': '1', 'humit...   \n",
       "34  [{'activitat': '1', 'estatMental': '1', 'humit...   \n",
       "37  [{'activitat': '2', 'estatMental': '1', 'humit...   \n",
       "38  [{'activitat': '3', 'estatMental': '0', 'humit...   \n",
       "39  [{'activitat': '1', 'estatMental': '0', 'humit...   \n",
       "45  [{'activitat': '3', 'estatMental': '1', 'humit...   \n",
       "\n",
       "                                            canadenca  \\\n",
       "0                                                  []   \n",
       "1                                                  []   \n",
       "3                                                  []   \n",
       "6                                                  []   \n",
       "12                                                 []   \n",
       "13  [{'dataValoracio': '2020-09-06', 'horaValoraci...   \n",
       "15                                                 []   \n",
       "26                                                 []   \n",
       "28                                                 []   \n",
       "29                                                 []   \n",
       "31                                                 []   \n",
       "32                                                 []   \n",
       "34                                                 []   \n",
       "37                                                 []   \n",
       "38                                                 []   \n",
       "39                                                 []   \n",
       "45                                                 []   \n",
       "\n",
       "                                                  pes  \\\n",
       "0                                                  []   \n",
       "1   [{'valor': '64.7', 'data': '2022-10-04'}, {'va...   \n",
       "3                                                  []   \n",
       "6                                                  []   \n",
       "12          [{'valor': '46.4', 'data': '2020-09-09'}]   \n",
       "13                                                 []   \n",
       "15                                                 []   \n",
       "26                                                 []   \n",
       "28             [{'valor': '0', 'data': '2022-05-30'}]   \n",
       "29                                                 []   \n",
       "31  [{'valor': '75', 'data': '2022-01-11'}, {'valo...   \n",
       "32                                                 []   \n",
       "34          [{'valor': '51.5', 'data': '2021-01-14'}]   \n",
       "37            [{'valor': '72', 'data': '2022-10-09'}]   \n",
       "38                                                 []   \n",
       "39                                                 []   \n",
       "45             [{'valor': '0', 'data': '2023-04-28'}]   \n",
       "\n",
       "                                                 atcs  \\\n",
       "0   [{'codi': 'M01AE', 'dataInici': '2020-06-21 00...   \n",
       "1   [{'codi': 'C09AA', 'dataInici': '2021-05-26 00...   \n",
       "3   [{'codi': 'G04CA', 'dataInici': '2020-07-15 00...   \n",
       "6   [{'codi': 'C09AA', 'dataInici': '2021-08-21 00...   \n",
       "12  [{'codi': 'G04CA', 'dataInici': '2020-09-04 00...   \n",
       "13  [{'codi': 'C10AA', 'dataInici': '2020-09-06 00...   \n",
       "15  [{'codi': 'G04CA', 'dataInici': '2020-09-19 00...   \n",
       "26  [{'codi': 'C09BA', 'dataInici': '2022-04-17 00...   \n",
       "28  [{'codi': 'C10AA', 'dataInici': '2020-11-18 00...   \n",
       "29  [{'codi': 'N02BE', 'dataInici': '2020-11-30 00...   \n",
       "31  [{'codi': 'C10AA', 'dataInici': '2021-12-23 00...   \n",
       "32  [{'codi': 'C10AA', 'dataInici': '2020-12-23 00...   \n",
       "34  [{'codi': 'N02AA', 'dataInici': '2021-01-01 00...   \n",
       "37  [{'codi': 'G04CA', 'dataInici': '2022-09-26 00...   \n",
       "38  [{'codi': 'N02BE', 'dataInici': '2022-10-27 00...   \n",
       "39  [{'codi': 'N02BE', 'dataInici': '2021-01-17 00...   \n",
       "45  [{'codi': 'G04CA', 'dataInici': '2021-03-21 00...   \n",
       "\n",
       "                                               mecvvs  ...  \\\n",
       "0                                                  []  ...   \n",
       "1   [{'data': '20220930', 'pacientNoColabora': '',...  ...   \n",
       "3   [{'data': '20201204131810', 'disfagia': 'S', '...  ...   \n",
       "6   [{'data': '20210819124116', 'disfagia': 'S', '...  ...   \n",
       "12  [{'data': '20200907110400', 'disfagia': 'S', '...  ...   \n",
       "13  [{'data': '20200906175506', 'disfagia': 'N', '...  ...   \n",
       "15                                                 []  ...   \n",
       "26                                                 []  ...   \n",
       "28  [{'data': '20220529115841', 'disfagia': 'S', '...  ...   \n",
       "29                                                 []  ...   \n",
       "31  [{'data': '20220119101523', 'disfagia': 'N', '...  ...   \n",
       "32                                                 []  ...   \n",
       "34                                                 []  ...   \n",
       "37  [{'data': '20221012122425', 'disfagia': 'S', '...  ...   \n",
       "38  [{'data': '20221031103922', 'pacientNoColabora...  ...   \n",
       "39  [{'data': '20220111085147', 'disfagia': 'S', '...  ...   \n",
       "45  [{'data': '20210323123919', 'disfagia': 'S', '...  ...   \n",
       "\n",
       "                    albumina proteinas totales    Hb  \\\n",
       "0                       None              None  None   \n",
       "1                        3.1               5.3  14.5   \n",
       "3                       None              None  None   \n",
       "6                       None              None  None   \n",
       "12                      None              None  None   \n",
       "13                       4.0               7.4  14.4   \n",
       "15                      None              None  None   \n",
       "26                       3.2               6.5  12.0   \n",
       "28                       3.5               5.8   8.8   \n",
       "29                      None              None  None   \n",
       "31                       3.1               5.9  11.8   \n",
       "32                      None              None  None   \n",
       "34                      None              None  None   \n",
       "37                       2.9               5.6  13.5   \n",
       "38  Extracció no realitzada                5.0  11.9   \n",
       "39                      None               6.2  11.2   \n",
       "45                       3.6               6.6  13.0   \n",
       "\n",
       "            colesterol total  leucos  limfos  prot C react   urea  \\\n",
       "0                       None    None    None          None   None   \n",
       "1                      124.7       X    38.9         19.61   25.7   \n",
       "3                       None    None    None          None   None   \n",
       "6                       None    None    None          None   None   \n",
       "12                      None    None    None          None   None   \n",
       "13                      80.5   13.95    14.5          6.73   66.0   \n",
       "15                      None    None    None          None   None   \n",
       "26                     156.9   14.71     5.0         11.37  119.7   \n",
       "28                     186.4    8.31    11.7          2.33   49.9   \n",
       "29                      None    None    None          None   None   \n",
       "31                     108.2    8.81    32.6          3.15   24.9   \n",
       "32                      None    None    None          None   None   \n",
       "34                      None    None    None          None   None   \n",
       "37                     119.5    8.55     9.5          8.16  114.2   \n",
       "38  Extracció no realitzada    15.16    13.9          5.87   45.7   \n",
       "39                      None   22.39       X         14.21   30.7   \n",
       "45                     148.5    9.63     7.5          8.64   82.7   \n",
       "\n",
       "                    FGE MDRD  FGE CDK-EPI  \n",
       "0                       None         None  \n",
       "1                        >60          >90  \n",
       "3                       None         None  \n",
       "6                       None         None  \n",
       "12                      None         None  \n",
       "13                       >60           70  \n",
       "15                      None         None  \n",
       "26                        52           48  \n",
       "28                        51           48  \n",
       "29                      None         None  \n",
       "31                       >60           78  \n",
       "32                      None         None  \n",
       "34                      None         None  \n",
       "37                      None           46  \n",
       "38  Extracció no realitzada            52  \n",
       "39                      None          >90  \n",
       "45                       >60           50  \n",
       "\n",
       "[17 rows x 43 columns]"
      ],
      "text/html": [
       "<div>\n",
       "<style scoped>\n",
       "    .dataframe tbody tr th:only-of-type {\n",
       "        vertical-align: middle;\n",
       "    }\n",
       "\n",
       "    .dataframe tbody tr th {\n",
       "        vertical-align: top;\n",
       "    }\n",
       "\n",
       "    .dataframe thead th {\n",
       "        text-align: right;\n",
       "    }\n",
       "</style>\n",
       "<table border=\"1\" class=\"dataframe\">\n",
       "  <thead>\n",
       "    <tr style=\"text-align: right;\">\n",
       "      <th></th>\n",
       "      <th>edat</th>\n",
       "      <th>sexe</th>\n",
       "      <th>visitaDietista</th>\n",
       "      <th>labs</th>\n",
       "      <th>mna</th>\n",
       "      <th>emina</th>\n",
       "      <th>canadenca</th>\n",
       "      <th>pes</th>\n",
       "      <th>atcs</th>\n",
       "      <th>mecvvs</th>\n",
       "      <th>...</th>\n",
       "      <th>albumina</th>\n",
       "      <th>proteinas totales</th>\n",
       "      <th>Hb</th>\n",
       "      <th>colesterol total</th>\n",
       "      <th>leucos</th>\n",
       "      <th>limfos</th>\n",
       "      <th>prot C react</th>\n",
       "      <th>urea</th>\n",
       "      <th>FGE MDRD</th>\n",
       "      <th>FGE CDK-EPI</th>\n",
       "    </tr>\n",
       "  </thead>\n",
       "  <tbody>\n",
       "    <tr>\n",
       "      <th>0</th>\n",
       "      <td>89</td>\n",
       "      <td>F</td>\n",
       "      <td>0</td>\n",
       "      <td>[]</td>\n",
       "      <td>[]</td>\n",
       "      <td>[{'activitat': '2', 'estatMental': '1', 'humit...</td>\n",
       "      <td>[]</td>\n",
       "      <td>[]</td>\n",
       "      <td>[{'codi': 'M01AE', 'dataInici': '2020-06-21 00...</td>\n",
       "      <td>[]</td>\n",
       "      <td>...</td>\n",
       "      <td>None</td>\n",
       "      <td>None</td>\n",
       "      <td>None</td>\n",
       "      <td>None</td>\n",
       "      <td>None</td>\n",
       "      <td>None</td>\n",
       "      <td>None</td>\n",
       "      <td>None</td>\n",
       "      <td>None</td>\n",
       "      <td>None</td>\n",
       "    </tr>\n",
       "    <tr>\n",
       "      <th>1</th>\n",
       "      <td>70</td>\n",
       "      <td>M</td>\n",
       "      <td>0</td>\n",
       "      <td>[{'date': '20220524', 'name': 'PCR SARS-CoV2 S...</td>\n",
       "      <td>[]</td>\n",
       "      <td>[{'activitat': '0', 'estatMental': '0', 'humit...</td>\n",
       "      <td>[]</td>\n",
       "      <td>[{'valor': '64.7', 'data': '2022-10-04'}, {'va...</td>\n",
       "      <td>[{'codi': 'C09AA', 'dataInici': '2021-05-26 00...</td>\n",
       "      <td>[{'data': '20220930', 'pacientNoColabora': '',...</td>\n",
       "      <td>...</td>\n",
       "      <td>3.1</td>\n",
       "      <td>5.3</td>\n",
       "      <td>14.5</td>\n",
       "      <td>124.7</td>\n",
       "      <td>X</td>\n",
       "      <td>38.9</td>\n",
       "      <td>19.61</td>\n",
       "      <td>25.7</td>\n",
       "      <td>&gt;60</td>\n",
       "      <td>&gt;90</td>\n",
       "    </tr>\n",
       "    <tr>\n",
       "      <th>3</th>\n",
       "      <td>85</td>\n",
       "      <td>M</td>\n",
       "      <td>0</td>\n",
       "      <td>[]</td>\n",
       "      <td>[]</td>\n",
       "      <td>[{'activitat': '2', 'estatMental': '1', 'humit...</td>\n",
       "      <td>[]</td>\n",
       "      <td>[]</td>\n",
       "      <td>[{'codi': 'G04CA', 'dataInici': '2020-07-15 00...</td>\n",
       "      <td>[{'data': '20201204131810', 'disfagia': 'S', '...</td>\n",
       "      <td>...</td>\n",
       "      <td>None</td>\n",
       "      <td>None</td>\n",
       "      <td>None</td>\n",
       "      <td>None</td>\n",
       "      <td>None</td>\n",
       "      <td>None</td>\n",
       "      <td>None</td>\n",
       "      <td>None</td>\n",
       "      <td>None</td>\n",
       "      <td>None</td>\n",
       "    </tr>\n",
       "    <tr>\n",
       "      <th>6</th>\n",
       "      <td>101</td>\n",
       "      <td>F</td>\n",
       "      <td>0</td>\n",
       "      <td>[]</td>\n",
       "      <td>[]</td>\n",
       "      <td>[{'activitat': '3', 'estatMental': '1', 'humit...</td>\n",
       "      <td>[]</td>\n",
       "      <td>[]</td>\n",
       "      <td>[{'codi': 'C09AA', 'dataInici': '2021-08-21 00...</td>\n",
       "      <td>[{'data': '20210819124116', 'disfagia': 'S', '...</td>\n",
       "      <td>...</td>\n",
       "      <td>None</td>\n",
       "      <td>None</td>\n",
       "      <td>None</td>\n",
       "      <td>None</td>\n",
       "      <td>None</td>\n",
       "      <td>None</td>\n",
       "      <td>None</td>\n",
       "      <td>None</td>\n",
       "      <td>None</td>\n",
       "      <td>None</td>\n",
       "    </tr>\n",
       "    <tr>\n",
       "      <th>12</th>\n",
       "      <td>86</td>\n",
       "      <td>M</td>\n",
       "      <td>0</td>\n",
       "      <td>[]</td>\n",
       "      <td>[]</td>\n",
       "      <td>[{'activitat': '1', 'estatMental': '1', 'humit...</td>\n",
       "      <td>[]</td>\n",
       "      <td>[{'valor': '46.4', 'data': '2020-09-09'}]</td>\n",
       "      <td>[{'codi': 'G04CA', 'dataInici': '2020-09-04 00...</td>\n",
       "      <td>[{'data': '20200907110400', 'disfagia': 'S', '...</td>\n",
       "      <td>...</td>\n",
       "      <td>None</td>\n",
       "      <td>None</td>\n",
       "      <td>None</td>\n",
       "      <td>None</td>\n",
       "      <td>None</td>\n",
       "      <td>None</td>\n",
       "      <td>None</td>\n",
       "      <td>None</td>\n",
       "      <td>None</td>\n",
       "      <td>None</td>\n",
       "    </tr>\n",
       "    <tr>\n",
       "      <th>13</th>\n",
       "      <td>71</td>\n",
       "      <td>F</td>\n",
       "      <td>0</td>\n",
       "      <td>[{'date': '20220216', 'name': 'CULTIU Esput', ...</td>\n",
       "      <td>[]</td>\n",
       "      <td>[{'activitat': '3', 'estatMental': '0', 'humit...</td>\n",
       "      <td>[{'dataValoracio': '2020-09-06', 'horaValoraci...</td>\n",
       "      <td>[]</td>\n",
       "      <td>[{'codi': 'C10AA', 'dataInici': '2020-09-06 00...</td>\n",
       "      <td>[{'data': '20200906175506', 'disfagia': 'N', '...</td>\n",
       "      <td>...</td>\n",
       "      <td>4.0</td>\n",
       "      <td>7.4</td>\n",
       "      <td>14.4</td>\n",
       "      <td>80.5</td>\n",
       "      <td>13.95</td>\n",
       "      <td>14.5</td>\n",
       "      <td>6.73</td>\n",
       "      <td>66.0</td>\n",
       "      <td>&gt;60</td>\n",
       "      <td>70</td>\n",
       "    </tr>\n",
       "    <tr>\n",
       "      <th>15</th>\n",
       "      <td>75</td>\n",
       "      <td>M</td>\n",
       "      <td>0</td>\n",
       "      <td>[]</td>\n",
       "      <td>[]</td>\n",
       "      <td>[{'activitat': '3', 'estatMental': '2', 'humit...</td>\n",
       "      <td>[]</td>\n",
       "      <td>[]</td>\n",
       "      <td>[{'codi': 'G04CA', 'dataInici': '2020-09-19 00...</td>\n",
       "      <td>[]</td>\n",
       "      <td>...</td>\n",
       "      <td>None</td>\n",
       "      <td>None</td>\n",
       "      <td>None</td>\n",
       "      <td>None</td>\n",
       "      <td>None</td>\n",
       "      <td>None</td>\n",
       "      <td>None</td>\n",
       "      <td>None</td>\n",
       "      <td>None</td>\n",
       "      <td>None</td>\n",
       "    </tr>\n",
       "    <tr>\n",
       "      <th>26</th>\n",
       "      <td>97</td>\n",
       "      <td>F</td>\n",
       "      <td>0</td>\n",
       "      <td>[{'date': '20220419', 'name': 'GLUCOSA Sèrum',...</td>\n",
       "      <td>[]</td>\n",
       "      <td>[{'activitat': '1', 'estatMental': '0', 'humit...</td>\n",
       "      <td>[]</td>\n",
       "      <td>[]</td>\n",
       "      <td>[{'codi': 'C09BA', 'dataInici': '2022-04-17 00...</td>\n",
       "      <td>[]</td>\n",
       "      <td>...</td>\n",
       "      <td>3.2</td>\n",
       "      <td>6.5</td>\n",
       "      <td>12.0</td>\n",
       "      <td>156.9</td>\n",
       "      <td>14.71</td>\n",
       "      <td>5.0</td>\n",
       "      <td>11.37</td>\n",
       "      <td>119.7</td>\n",
       "      <td>52</td>\n",
       "      <td>48</td>\n",
       "    </tr>\n",
       "    <tr>\n",
       "      <th>28</th>\n",
       "      <td>95</td>\n",
       "      <td>F</td>\n",
       "      <td>0</td>\n",
       "      <td>[{'date': '20220526', 'name': 'GLUCOSA Sèrum',...</td>\n",
       "      <td>[]</td>\n",
       "      <td>[{'activitat': '3', 'estatMental': '0', 'humit...</td>\n",
       "      <td>[]</td>\n",
       "      <td>[{'valor': '0', 'data': '2022-05-30'}]</td>\n",
       "      <td>[{'codi': 'C10AA', 'dataInici': '2020-11-18 00...</td>\n",
       "      <td>[{'data': '20220529115841', 'disfagia': 'S', '...</td>\n",
       "      <td>...</td>\n",
       "      <td>3.5</td>\n",
       "      <td>5.8</td>\n",
       "      <td>8.8</td>\n",
       "      <td>186.4</td>\n",
       "      <td>8.31</td>\n",
       "      <td>11.7</td>\n",
       "      <td>2.33</td>\n",
       "      <td>49.9</td>\n",
       "      <td>51</td>\n",
       "      <td>48</td>\n",
       "    </tr>\n",
       "    <tr>\n",
       "      <th>29</th>\n",
       "      <td>97</td>\n",
       "      <td>F</td>\n",
       "      <td>0</td>\n",
       "      <td>[]</td>\n",
       "      <td>[]</td>\n",
       "      <td>[{'activitat': '3', 'estatMental': '2', 'humit...</td>\n",
       "      <td>[]</td>\n",
       "      <td>[]</td>\n",
       "      <td>[{'codi': 'N02BE', 'dataInici': '2020-11-30 00...</td>\n",
       "      <td>[]</td>\n",
       "      <td>...</td>\n",
       "      <td>None</td>\n",
       "      <td>None</td>\n",
       "      <td>None</td>\n",
       "      <td>None</td>\n",
       "      <td>None</td>\n",
       "      <td>None</td>\n",
       "      <td>None</td>\n",
       "      <td>None</td>\n",
       "      <td>None</td>\n",
       "      <td>None</td>\n",
       "    </tr>\n",
       "    <tr>\n",
       "      <th>31</th>\n",
       "      <td>89</td>\n",
       "      <td>M</td>\n",
       "      <td>0</td>\n",
       "      <td>[{'date': '20220318', 'name': 'BILIRUBINA TOTA...</td>\n",
       "      <td>[{'imc': '', 'anorexia': '', 'perduaPes': '', ...</td>\n",
       "      <td>[{'activitat': '2', 'estatMental': '1', 'humit...</td>\n",
       "      <td>[]</td>\n",
       "      <td>[{'valor': '75', 'data': '2022-01-11'}, {'valo...</td>\n",
       "      <td>[{'codi': 'C10AA', 'dataInici': '2021-12-23 00...</td>\n",
       "      <td>[{'data': '20220119101523', 'disfagia': 'N', '...</td>\n",
       "      <td>...</td>\n",
       "      <td>3.1</td>\n",
       "      <td>5.9</td>\n",
       "      <td>11.8</td>\n",
       "      <td>108.2</td>\n",
       "      <td>8.81</td>\n",
       "      <td>32.6</td>\n",
       "      <td>3.15</td>\n",
       "      <td>24.9</td>\n",
       "      <td>&gt;60</td>\n",
       "      <td>78</td>\n",
       "    </tr>\n",
       "    <tr>\n",
       "      <th>32</th>\n",
       "      <td>81</td>\n",
       "      <td>M</td>\n",
       "      <td>0</td>\n",
       "      <td>[]</td>\n",
       "      <td>[]</td>\n",
       "      <td>[{'activitat': '2', 'estatMental': '1', 'humit...</td>\n",
       "      <td>[]</td>\n",
       "      <td>[]</td>\n",
       "      <td>[{'codi': 'C10AA', 'dataInici': '2020-12-23 00...</td>\n",
       "      <td>[]</td>\n",
       "      <td>...</td>\n",
       "      <td>None</td>\n",
       "      <td>None</td>\n",
       "      <td>None</td>\n",
       "      <td>None</td>\n",
       "      <td>None</td>\n",
       "      <td>None</td>\n",
       "      <td>None</td>\n",
       "      <td>None</td>\n",
       "      <td>None</td>\n",
       "      <td>None</td>\n",
       "    </tr>\n",
       "    <tr>\n",
       "      <th>34</th>\n",
       "      <td>96</td>\n",
       "      <td>F</td>\n",
       "      <td>0</td>\n",
       "      <td>[]</td>\n",
       "      <td>[{'imc': '', 'anorexia': '', 'perduaPes': '', ...</td>\n",
       "      <td>[{'activitat': '1', 'estatMental': '1', 'humit...</td>\n",
       "      <td>[]</td>\n",
       "      <td>[{'valor': '51.5', 'data': '2021-01-14'}]</td>\n",
       "      <td>[{'codi': 'N02AA', 'dataInici': '2021-01-01 00...</td>\n",
       "      <td>[]</td>\n",
       "      <td>...</td>\n",
       "      <td>None</td>\n",
       "      <td>None</td>\n",
       "      <td>None</td>\n",
       "      <td>None</td>\n",
       "      <td>None</td>\n",
       "      <td>None</td>\n",
       "      <td>None</td>\n",
       "      <td>None</td>\n",
       "      <td>None</td>\n",
       "      <td>None</td>\n",
       "    </tr>\n",
       "    <tr>\n",
       "      <th>37</th>\n",
       "      <td>86</td>\n",
       "      <td>M</td>\n",
       "      <td>0</td>\n",
       "      <td>[{'date': '20221003', 'name': 'GLUCOSA Sèrum',...</td>\n",
       "      <td>[{'imc': '', 'anorexia': '', 'perduaPes': '', ...</td>\n",
       "      <td>[{'activitat': '2', 'estatMental': '1', 'humit...</td>\n",
       "      <td>[]</td>\n",
       "      <td>[{'valor': '72', 'data': '2022-10-09'}]</td>\n",
       "      <td>[{'codi': 'G04CA', 'dataInici': '2022-09-26 00...</td>\n",
       "      <td>[{'data': '20221012122425', 'disfagia': 'S', '...</td>\n",
       "      <td>...</td>\n",
       "      <td>2.9</td>\n",
       "      <td>5.6</td>\n",
       "      <td>13.5</td>\n",
       "      <td>119.5</td>\n",
       "      <td>8.55</td>\n",
       "      <td>9.5</td>\n",
       "      <td>8.16</td>\n",
       "      <td>114.2</td>\n",
       "      <td>None</td>\n",
       "      <td>46</td>\n",
       "    </tr>\n",
       "    <tr>\n",
       "      <th>38</th>\n",
       "      <td>90</td>\n",
       "      <td>M</td>\n",
       "      <td>0</td>\n",
       "      <td>[{'date': '20220809', 'name': 'GLUCOSA Sèrum',...</td>\n",
       "      <td>[]</td>\n",
       "      <td>[{'activitat': '3', 'estatMental': '0', 'humit...</td>\n",
       "      <td>[]</td>\n",
       "      <td>[]</td>\n",
       "      <td>[{'codi': 'N02BE', 'dataInici': '2022-10-27 00...</td>\n",
       "      <td>[{'data': '20221031103922', 'pacientNoColabora...</td>\n",
       "      <td>...</td>\n",
       "      <td>Extracció no realitzada</td>\n",
       "      <td>5.0</td>\n",
       "      <td>11.9</td>\n",
       "      <td>Extracció no realitzada</td>\n",
       "      <td>15.16</td>\n",
       "      <td>13.9</td>\n",
       "      <td>5.87</td>\n",
       "      <td>45.7</td>\n",
       "      <td>Extracció no realitzada</td>\n",
       "      <td>52</td>\n",
       "    </tr>\n",
       "    <tr>\n",
       "      <th>39</th>\n",
       "      <td>87</td>\n",
       "      <td>F</td>\n",
       "      <td>0</td>\n",
       "      <td>[{'date': '20230619', 'name': 'GLUCOSA Sèrum',...</td>\n",
       "      <td>[]</td>\n",
       "      <td>[{'activitat': '1', 'estatMental': '0', 'humit...</td>\n",
       "      <td>[]</td>\n",
       "      <td>[]</td>\n",
       "      <td>[{'codi': 'N02BE', 'dataInici': '2021-01-17 00...</td>\n",
       "      <td>[{'data': '20220111085147', 'disfagia': 'S', '...</td>\n",
       "      <td>...</td>\n",
       "      <td>None</td>\n",
       "      <td>6.2</td>\n",
       "      <td>11.2</td>\n",
       "      <td>None</td>\n",
       "      <td>22.39</td>\n",
       "      <td>X</td>\n",
       "      <td>14.21</td>\n",
       "      <td>30.7</td>\n",
       "      <td>None</td>\n",
       "      <td>&gt;90</td>\n",
       "    </tr>\n",
       "    <tr>\n",
       "      <th>45</th>\n",
       "      <td>85</td>\n",
       "      <td>M</td>\n",
       "      <td>0</td>\n",
       "      <td>[{'date': '20220330', 'name': 'GLUCOSA Sèrum',...</td>\n",
       "      <td>[{'imc': '', 'anorexia': '', 'perduaPes': '', ...</td>\n",
       "      <td>[{'activitat': '3', 'estatMental': '1', 'humit...</td>\n",
       "      <td>[]</td>\n",
       "      <td>[{'valor': '0', 'data': '2023-04-28'}]</td>\n",
       "      <td>[{'codi': 'G04CA', 'dataInici': '2021-03-21 00...</td>\n",
       "      <td>[{'data': '20210323123919', 'disfagia': 'S', '...</td>\n",
       "      <td>...</td>\n",
       "      <td>3.6</td>\n",
       "      <td>6.6</td>\n",
       "      <td>13.0</td>\n",
       "      <td>148.5</td>\n",
       "      <td>9.63</td>\n",
       "      <td>7.5</td>\n",
       "      <td>8.64</td>\n",
       "      <td>82.7</td>\n",
       "      <td>&gt;60</td>\n",
       "      <td>50</td>\n",
       "    </tr>\n",
       "  </tbody>\n",
       "</table>\n",
       "<p>17 rows × 43 columns</p>\n",
       "</div>"
      ]
     },
     "execution_count": 1254,
     "metadata": {},
     "output_type": "execute_result"
    }
   ],
   "execution_count": 1254
  },
  {
   "cell_type": "markdown",
   "source": [
    "# CON_PA + MECVV"
   ],
   "metadata": {
    "collapsed": false
   },
   "id": "bbfe0def10a4bd5"
  },
  {
   "cell_type": "code",
   "source": [
    "CON_PA_MECVV = tabla[(tabla[\"P_diagnosticada\"] == 1.0) & (tabla[\"Disfagia_mecvvs\"] == 1.0) & (tabla[\"Dias_totales_ingresado\"] < 30)]\n",
    "CON_PA_MECVV.head(len(tabla))"
   ],
   "metadata": {
    "collapsed": false,
    "ExecuteTime": {
     "end_time": "2024-04-15T09:29:22.071699Z",
     "start_time": "2024-04-15T09:29:21.826432Z"
    }
   },
   "id": "ef57e551b552b859",
   "outputs": [
    {
     "data": {
      "text/plain": [
       "    edat sexe  visitaDietista  \\\n",
       "3     85    M               0   \n",
       "6    101    F               0   \n",
       "12    86    M               0   \n",
       "13    71    F               0   \n",
       "27   100    M               0   \n",
       "37    86    M               0   \n",
       "39    87    F               0   \n",
       "41    93    F               0   \n",
       "46    86    M               0   \n",
       "47    94    M               0   \n",
       "\n",
       "                                                 labs  \\\n",
       "3                                                  []   \n",
       "6                                                  []   \n",
       "12                                                 []   \n",
       "13  [{'date': '20220216', 'name': 'CULTIU Esput', ...   \n",
       "27                                                 []   \n",
       "37  [{'date': '20221003', 'name': 'GLUCOSA Sèrum',...   \n",
       "39  [{'date': '20230619', 'name': 'GLUCOSA Sèrum',...   \n",
       "41  [{'date': '20221013', 'name': 'GLUCOSA Sèrum',...   \n",
       "46                                                 []   \n",
       "47                                                 []   \n",
       "\n",
       "                                                  mna  \\\n",
       "3                                                  []   \n",
       "6                                                  []   \n",
       "12                                                 []   \n",
       "13                                                 []   \n",
       "27                                                 []   \n",
       "37  [{'imc': '', 'anorexia': '', 'perduaPes': '', ...   \n",
       "39                                                 []   \n",
       "41                                                 []   \n",
       "46                                                 []   \n",
       "47                                                 []   \n",
       "\n",
       "                                                emina  \\\n",
       "3   [{'activitat': '2', 'estatMental': '1', 'humit...   \n",
       "6   [{'activitat': '3', 'estatMental': '1', 'humit...   \n",
       "12  [{'activitat': '1', 'estatMental': '1', 'humit...   \n",
       "13  [{'activitat': '3', 'estatMental': '0', 'humit...   \n",
       "27  [{'activitat': '3', 'estatMental': '0', 'humit...   \n",
       "37  [{'activitat': '2', 'estatMental': '1', 'humit...   \n",
       "39  [{'activitat': '1', 'estatMental': '0', 'humit...   \n",
       "41  [{'activitat': '1', 'estatMental': '1', 'humit...   \n",
       "46  [{'activitat': '3', 'estatMental': '1', 'humit...   \n",
       "47  [{'activitat': '3', 'estatMental': '1', 'humit...   \n",
       "\n",
       "                                            canadenca  \\\n",
       "3                                                  []   \n",
       "6                                                  []   \n",
       "12                                                 []   \n",
       "13  [{'dataValoracio': '2020-09-06', 'horaValoraci...   \n",
       "27                                                 []   \n",
       "37                                                 []   \n",
       "39                                                 []   \n",
       "41                                                 []   \n",
       "46                                                 []   \n",
       "47                                                 []   \n",
       "\n",
       "                                                  pes  \\\n",
       "3                                                  []   \n",
       "6                                                  []   \n",
       "12          [{'valor': '46.4', 'data': '2020-09-09'}]   \n",
       "13                                                 []   \n",
       "27  [{'valor': '0', 'data': '2021-09-14'}, {'valor...   \n",
       "37            [{'valor': '72', 'data': '2022-10-09'}]   \n",
       "39                                                 []   \n",
       "41  [{'valor': '0', 'data': '2023-06-02'}, {'valor...   \n",
       "46          [{'valor': '55.1', 'data': '2021-03-21'}]   \n",
       "47                                                 []   \n",
       "\n",
       "                                                 atcs  \\\n",
       "3   [{'codi': 'G04CA', 'dataInici': '2020-07-15 00...   \n",
       "6   [{'codi': 'C09AA', 'dataInici': '2021-08-21 00...   \n",
       "12  [{'codi': 'G04CA', 'dataInici': '2020-09-04 00...   \n",
       "13  [{'codi': 'C10AA', 'dataInici': '2020-09-06 00...   \n",
       "27  [{'codi': 'C08CA', 'dataInici': '2020-11-23 00...   \n",
       "37  [{'codi': 'G04CA', 'dataInici': '2022-09-26 00...   \n",
       "39  [{'codi': 'N02BE', 'dataInici': '2021-01-17 00...   \n",
       "41  [{'codi': 'C10AA', 'dataInici': '2021-02-05 00...   \n",
       "46  [{'codi': 'G04CA', 'dataInici': '2021-03-20 00...   \n",
       "47  [{'codi': 'C09AA', 'dataInici': '2021-03-23 00...   \n",
       "\n",
       "                                               mecvvs  ... albumina  \\\n",
       "3   [{'data': '20201204131810', 'disfagia': 'S', '...  ...     None   \n",
       "6   [{'data': '20210819124116', 'disfagia': 'S', '...  ...     None   \n",
       "12  [{'data': '20200907110400', 'disfagia': 'S', '...  ...     None   \n",
       "13  [{'data': '20200906175506', 'disfagia': 'N', '...  ...      4.0   \n",
       "27  [{'data': '20201125131827', 'disfagia': 'S', '...  ...     None   \n",
       "37  [{'data': '20221012122425', 'disfagia': 'S', '...  ...      2.9   \n",
       "39  [{'data': '20220111085147', 'disfagia': 'S', '...  ...     None   \n",
       "41  [{'data': '20230530155654', 'disfagia': 'S', '...  ...      3.5   \n",
       "46  [{'data': '20210721140136', 'disfagia': 'S', '...  ...     None   \n",
       "47  [{'data': '20210325091551', 'disfagia': 'S', '...  ...     None   \n",
       "\n",
       "   proteinas totales    Hb  colesterol total  leucos  limfos  prot C react  \\\n",
       "3               None  None              None    None    None          None   \n",
       "6               None  None              None    None    None          None   \n",
       "12              None  None              None    None    None          None   \n",
       "13               7.4  14.4              80.5   13.95    14.5          6.73   \n",
       "27              None  None              None    None    None          None   \n",
       "37               5.6  13.5             119.5    8.55     9.5          8.16   \n",
       "39               6.2  11.2              None   22.39       X         14.21   \n",
       "41               6.7  13.8             135.7    7.42    27.6          6.43   \n",
       "46              None  None              None    None    None          None   \n",
       "47              None  None              None    None    None          None   \n",
       "\n",
       "     urea  FGE MDRD  FGE CDK-EPI  \n",
       "3    None      None         None  \n",
       "6    None      None         None  \n",
       "12   None      None         None  \n",
       "13   66.0       >60           70  \n",
       "27   None      None         None  \n",
       "37  114.2      None           46  \n",
       "39   30.7      None          >90  \n",
       "41   38.6       >60           48  \n",
       "46   None      None         None  \n",
       "47   None      None         None  \n",
       "\n",
       "[10 rows x 43 columns]"
      ],
      "text/html": [
       "<div>\n",
       "<style scoped>\n",
       "    .dataframe tbody tr th:only-of-type {\n",
       "        vertical-align: middle;\n",
       "    }\n",
       "\n",
       "    .dataframe tbody tr th {\n",
       "        vertical-align: top;\n",
       "    }\n",
       "\n",
       "    .dataframe thead th {\n",
       "        text-align: right;\n",
       "    }\n",
       "</style>\n",
       "<table border=\"1\" class=\"dataframe\">\n",
       "  <thead>\n",
       "    <tr style=\"text-align: right;\">\n",
       "      <th></th>\n",
       "      <th>edat</th>\n",
       "      <th>sexe</th>\n",
       "      <th>visitaDietista</th>\n",
       "      <th>labs</th>\n",
       "      <th>mna</th>\n",
       "      <th>emina</th>\n",
       "      <th>canadenca</th>\n",
       "      <th>pes</th>\n",
       "      <th>atcs</th>\n",
       "      <th>mecvvs</th>\n",
       "      <th>...</th>\n",
       "      <th>albumina</th>\n",
       "      <th>proteinas totales</th>\n",
       "      <th>Hb</th>\n",
       "      <th>colesterol total</th>\n",
       "      <th>leucos</th>\n",
       "      <th>limfos</th>\n",
       "      <th>prot C react</th>\n",
       "      <th>urea</th>\n",
       "      <th>FGE MDRD</th>\n",
       "      <th>FGE CDK-EPI</th>\n",
       "    </tr>\n",
       "  </thead>\n",
       "  <tbody>\n",
       "    <tr>\n",
       "      <th>3</th>\n",
       "      <td>85</td>\n",
       "      <td>M</td>\n",
       "      <td>0</td>\n",
       "      <td>[]</td>\n",
       "      <td>[]</td>\n",
       "      <td>[{'activitat': '2', 'estatMental': '1', 'humit...</td>\n",
       "      <td>[]</td>\n",
       "      <td>[]</td>\n",
       "      <td>[{'codi': 'G04CA', 'dataInici': '2020-07-15 00...</td>\n",
       "      <td>[{'data': '20201204131810', 'disfagia': 'S', '...</td>\n",
       "      <td>...</td>\n",
       "      <td>None</td>\n",
       "      <td>None</td>\n",
       "      <td>None</td>\n",
       "      <td>None</td>\n",
       "      <td>None</td>\n",
       "      <td>None</td>\n",
       "      <td>None</td>\n",
       "      <td>None</td>\n",
       "      <td>None</td>\n",
       "      <td>None</td>\n",
       "    </tr>\n",
       "    <tr>\n",
       "      <th>6</th>\n",
       "      <td>101</td>\n",
       "      <td>F</td>\n",
       "      <td>0</td>\n",
       "      <td>[]</td>\n",
       "      <td>[]</td>\n",
       "      <td>[{'activitat': '3', 'estatMental': '1', 'humit...</td>\n",
       "      <td>[]</td>\n",
       "      <td>[]</td>\n",
       "      <td>[{'codi': 'C09AA', 'dataInici': '2021-08-21 00...</td>\n",
       "      <td>[{'data': '20210819124116', 'disfagia': 'S', '...</td>\n",
       "      <td>...</td>\n",
       "      <td>None</td>\n",
       "      <td>None</td>\n",
       "      <td>None</td>\n",
       "      <td>None</td>\n",
       "      <td>None</td>\n",
       "      <td>None</td>\n",
       "      <td>None</td>\n",
       "      <td>None</td>\n",
       "      <td>None</td>\n",
       "      <td>None</td>\n",
       "    </tr>\n",
       "    <tr>\n",
       "      <th>12</th>\n",
       "      <td>86</td>\n",
       "      <td>M</td>\n",
       "      <td>0</td>\n",
       "      <td>[]</td>\n",
       "      <td>[]</td>\n",
       "      <td>[{'activitat': '1', 'estatMental': '1', 'humit...</td>\n",
       "      <td>[]</td>\n",
       "      <td>[{'valor': '46.4', 'data': '2020-09-09'}]</td>\n",
       "      <td>[{'codi': 'G04CA', 'dataInici': '2020-09-04 00...</td>\n",
       "      <td>[{'data': '20200907110400', 'disfagia': 'S', '...</td>\n",
       "      <td>...</td>\n",
       "      <td>None</td>\n",
       "      <td>None</td>\n",
       "      <td>None</td>\n",
       "      <td>None</td>\n",
       "      <td>None</td>\n",
       "      <td>None</td>\n",
       "      <td>None</td>\n",
       "      <td>None</td>\n",
       "      <td>None</td>\n",
       "      <td>None</td>\n",
       "    </tr>\n",
       "    <tr>\n",
       "      <th>13</th>\n",
       "      <td>71</td>\n",
       "      <td>F</td>\n",
       "      <td>0</td>\n",
       "      <td>[{'date': '20220216', 'name': 'CULTIU Esput', ...</td>\n",
       "      <td>[]</td>\n",
       "      <td>[{'activitat': '3', 'estatMental': '0', 'humit...</td>\n",
       "      <td>[{'dataValoracio': '2020-09-06', 'horaValoraci...</td>\n",
       "      <td>[]</td>\n",
       "      <td>[{'codi': 'C10AA', 'dataInici': '2020-09-06 00...</td>\n",
       "      <td>[{'data': '20200906175506', 'disfagia': 'N', '...</td>\n",
       "      <td>...</td>\n",
       "      <td>4.0</td>\n",
       "      <td>7.4</td>\n",
       "      <td>14.4</td>\n",
       "      <td>80.5</td>\n",
       "      <td>13.95</td>\n",
       "      <td>14.5</td>\n",
       "      <td>6.73</td>\n",
       "      <td>66.0</td>\n",
       "      <td>&gt;60</td>\n",
       "      <td>70</td>\n",
       "    </tr>\n",
       "    <tr>\n",
       "      <th>27</th>\n",
       "      <td>100</td>\n",
       "      <td>M</td>\n",
       "      <td>0</td>\n",
       "      <td>[]</td>\n",
       "      <td>[]</td>\n",
       "      <td>[{'activitat': '3', 'estatMental': '0', 'humit...</td>\n",
       "      <td>[]</td>\n",
       "      <td>[{'valor': '0', 'data': '2021-09-14'}, {'valor...</td>\n",
       "      <td>[{'codi': 'C08CA', 'dataInici': '2020-11-23 00...</td>\n",
       "      <td>[{'data': '20201125131827', 'disfagia': 'S', '...</td>\n",
       "      <td>...</td>\n",
       "      <td>None</td>\n",
       "      <td>None</td>\n",
       "      <td>None</td>\n",
       "      <td>None</td>\n",
       "      <td>None</td>\n",
       "      <td>None</td>\n",
       "      <td>None</td>\n",
       "      <td>None</td>\n",
       "      <td>None</td>\n",
       "      <td>None</td>\n",
       "    </tr>\n",
       "    <tr>\n",
       "      <th>37</th>\n",
       "      <td>86</td>\n",
       "      <td>M</td>\n",
       "      <td>0</td>\n",
       "      <td>[{'date': '20221003', 'name': 'GLUCOSA Sèrum',...</td>\n",
       "      <td>[{'imc': '', 'anorexia': '', 'perduaPes': '', ...</td>\n",
       "      <td>[{'activitat': '2', 'estatMental': '1', 'humit...</td>\n",
       "      <td>[]</td>\n",
       "      <td>[{'valor': '72', 'data': '2022-10-09'}]</td>\n",
       "      <td>[{'codi': 'G04CA', 'dataInici': '2022-09-26 00...</td>\n",
       "      <td>[{'data': '20221012122425', 'disfagia': 'S', '...</td>\n",
       "      <td>...</td>\n",
       "      <td>2.9</td>\n",
       "      <td>5.6</td>\n",
       "      <td>13.5</td>\n",
       "      <td>119.5</td>\n",
       "      <td>8.55</td>\n",
       "      <td>9.5</td>\n",
       "      <td>8.16</td>\n",
       "      <td>114.2</td>\n",
       "      <td>None</td>\n",
       "      <td>46</td>\n",
       "    </tr>\n",
       "    <tr>\n",
       "      <th>39</th>\n",
       "      <td>87</td>\n",
       "      <td>F</td>\n",
       "      <td>0</td>\n",
       "      <td>[{'date': '20230619', 'name': 'GLUCOSA Sèrum',...</td>\n",
       "      <td>[]</td>\n",
       "      <td>[{'activitat': '1', 'estatMental': '0', 'humit...</td>\n",
       "      <td>[]</td>\n",
       "      <td>[]</td>\n",
       "      <td>[{'codi': 'N02BE', 'dataInici': '2021-01-17 00...</td>\n",
       "      <td>[{'data': '20220111085147', 'disfagia': 'S', '...</td>\n",
       "      <td>...</td>\n",
       "      <td>None</td>\n",
       "      <td>6.2</td>\n",
       "      <td>11.2</td>\n",
       "      <td>None</td>\n",
       "      <td>22.39</td>\n",
       "      <td>X</td>\n",
       "      <td>14.21</td>\n",
       "      <td>30.7</td>\n",
       "      <td>None</td>\n",
       "      <td>&gt;90</td>\n",
       "    </tr>\n",
       "    <tr>\n",
       "      <th>41</th>\n",
       "      <td>93</td>\n",
       "      <td>F</td>\n",
       "      <td>0</td>\n",
       "      <td>[{'date': '20221013', 'name': 'GLUCOSA Sèrum',...</td>\n",
       "      <td>[]</td>\n",
       "      <td>[{'activitat': '1', 'estatMental': '1', 'humit...</td>\n",
       "      <td>[]</td>\n",
       "      <td>[{'valor': '0', 'data': '2023-06-02'}, {'valor...</td>\n",
       "      <td>[{'codi': 'C10AA', 'dataInici': '2021-02-05 00...</td>\n",
       "      <td>[{'data': '20230530155654', 'disfagia': 'S', '...</td>\n",
       "      <td>...</td>\n",
       "      <td>3.5</td>\n",
       "      <td>6.7</td>\n",
       "      <td>13.8</td>\n",
       "      <td>135.7</td>\n",
       "      <td>7.42</td>\n",
       "      <td>27.6</td>\n",
       "      <td>6.43</td>\n",
       "      <td>38.6</td>\n",
       "      <td>&gt;60</td>\n",
       "      <td>48</td>\n",
       "    </tr>\n",
       "    <tr>\n",
       "      <th>46</th>\n",
       "      <td>86</td>\n",
       "      <td>M</td>\n",
       "      <td>0</td>\n",
       "      <td>[]</td>\n",
       "      <td>[]</td>\n",
       "      <td>[{'activitat': '3', 'estatMental': '1', 'humit...</td>\n",
       "      <td>[]</td>\n",
       "      <td>[{'valor': '55.1', 'data': '2021-03-21'}]</td>\n",
       "      <td>[{'codi': 'G04CA', 'dataInici': '2021-03-20 00...</td>\n",
       "      <td>[{'data': '20210721140136', 'disfagia': 'S', '...</td>\n",
       "      <td>...</td>\n",
       "      <td>None</td>\n",
       "      <td>None</td>\n",
       "      <td>None</td>\n",
       "      <td>None</td>\n",
       "      <td>None</td>\n",
       "      <td>None</td>\n",
       "      <td>None</td>\n",
       "      <td>None</td>\n",
       "      <td>None</td>\n",
       "      <td>None</td>\n",
       "    </tr>\n",
       "    <tr>\n",
       "      <th>47</th>\n",
       "      <td>94</td>\n",
       "      <td>M</td>\n",
       "      <td>0</td>\n",
       "      <td>[]</td>\n",
       "      <td>[]</td>\n",
       "      <td>[{'activitat': '3', 'estatMental': '1', 'humit...</td>\n",
       "      <td>[]</td>\n",
       "      <td>[]</td>\n",
       "      <td>[{'codi': 'C09AA', 'dataInici': '2021-03-23 00...</td>\n",
       "      <td>[{'data': '20210325091551', 'disfagia': 'S', '...</td>\n",
       "      <td>...</td>\n",
       "      <td>None</td>\n",
       "      <td>None</td>\n",
       "      <td>None</td>\n",
       "      <td>None</td>\n",
       "      <td>None</td>\n",
       "      <td>None</td>\n",
       "      <td>None</td>\n",
       "      <td>None</td>\n",
       "      <td>None</td>\n",
       "      <td>None</td>\n",
       "    </tr>\n",
       "  </tbody>\n",
       "</table>\n",
       "<p>10 rows × 43 columns</p>\n",
       "</div>"
      ]
     },
     "execution_count": 1255,
     "metadata": {},
     "output_type": "execute_result"
    }
   ],
   "execution_count": 1255
  },
  {
   "cell_type": "markdown",
   "source": [
    "# SIN_PA"
   ],
   "metadata": {
    "collapsed": false
   },
   "id": "a348d05c32ba63b8"
  },
  {
   "cell_type": "code",
   "source": [
    "SIN_PA = tabla[(tabla[\"P_diagnosticada\"] == 1.0) & (tabla[\"Disfagia_mecvvs\"] == 1.0) & (tabla[\"Dias_totales_ingresado\"] > 30) | (tabla[\"P_diagnosticada\"] == 1.0)]\n",
    "SIN_PA.head(len(tabla))"
   ],
   "metadata": {
    "collapsed": false,
    "ExecuteTime": {
     "end_time": "2024-04-15T09:29:23.519010Z",
     "start_time": "2024-04-15T09:29:22.220704Z"
    }
   },
   "id": "ebd6be70713adb40",
   "outputs": [
    {
     "data": {
      "text/plain": [
       "    edat sexe  visitaDietista  \\\n",
       "0     89    F               0   \n",
       "1     70    M               0   \n",
       "2     96    M               0   \n",
       "3     85    M               0   \n",
       "4     93    M               0   \n",
       "5     57    M               0   \n",
       "6    101    F               0   \n",
       "7     90    F               0   \n",
       "8     90    F               0   \n",
       "9     91    M               0   \n",
       "10    84    F               0   \n",
       "11    58    M               0   \n",
       "12    86    M               0   \n",
       "13    71    F               0   \n",
       "14    61    M               0   \n",
       "15    75    M               0   \n",
       "16    79    M               0   \n",
       "17    58    M               0   \n",
       "18    64    M               0   \n",
       "19    85    M               0   \n",
       "20    85    M               0   \n",
       "21    29    M               0   \n",
       "22    48    M               0   \n",
       "23    67    M               0   \n",
       "24    71    M               0   \n",
       "25    83    F               0   \n",
       "26    97    F               0   \n",
       "27   100    M               0   \n",
       "28    95    F               0   \n",
       "29    97    F               0   \n",
       "30    83    F               0   \n",
       "31    89    M               0   \n",
       "32    81    M               0   \n",
       "33    21    F               0   \n",
       "34    96    F               0   \n",
       "35    77    M               0   \n",
       "36    70    M               0   \n",
       "37    86    M               0   \n",
       "38    90    M               0   \n",
       "39    87    F               0   \n",
       "40    96    M               0   \n",
       "41    93    F               0   \n",
       "42    91    M               0   \n",
       "44    83    F               0   \n",
       "45    85    M               0   \n",
       "46    86    M               0   \n",
       "47    94    M               0   \n",
       "48    90    M               0   \n",
       "49    73    F               0   \n",
       "\n",
       "                                                 labs  \\\n",
       "0                                                  []   \n",
       "1   [{'date': '20220524', 'name': 'PCR SARS-CoV2 S...   \n",
       "2                                                  []   \n",
       "3                                                  []   \n",
       "4   [{'date': '20220208', 'name': 'UREA Sèrum', 'l...   \n",
       "5   [{'date': '20220909', 'name': 'GLUCOSA Sèrum',...   \n",
       "6                                                  []   \n",
       "7   [{'date': '20220627', 'name': 'GLUCOSA Sèrum',...   \n",
       "8   [{'date': '20220827', 'name': 'GLUCOSA Sèrum',...   \n",
       "9                                                  []   \n",
       "10                                                 []   \n",
       "11                                                 []   \n",
       "12                                                 []   \n",
       "13  [{'date': '20220216', 'name': 'CULTIU Esput', ...   \n",
       "14                                                 []   \n",
       "15                                                 []   \n",
       "16                                                 []   \n",
       "17  [{'date': '20230119', 'name': 'pH/arterial', '...   \n",
       "18  [{'date': '20220217', 'name': 'EXTRACCIÓ RNA',...   \n",
       "19  [{'date': '20230130', 'name': 'pH/arterial', '...   \n",
       "20  [{'date': '20230409', 'name': 'CULTIU Esput', ...   \n",
       "21                                                 []   \n",
       "22                                                 []   \n",
       "23                                                 []   \n",
       "24  [{'date': '20220506', 'name': 'GLUCOSA Sèrum',...   \n",
       "25  [{'date': '20220308', 'name': 'UREA Sèrum', 'l...   \n",
       "26  [{'date': '20220419', 'name': 'GLUCOSA Sèrum',...   \n",
       "27                                                 []   \n",
       "28  [{'date': '20220526', 'name': 'GLUCOSA Sèrum',...   \n",
       "29                                                 []   \n",
       "30                                                 []   \n",
       "31  [{'date': '20220318', 'name': 'BILIRUBINA TOTA...   \n",
       "32                                                 []   \n",
       "33                                                 []   \n",
       "34                                                 []   \n",
       "35                                                 []   \n",
       "36  [{'date': '20220309', 'name': 'GLUCOSA Sèrum',...   \n",
       "37  [{'date': '20221003', 'name': 'GLUCOSA Sèrum',...   \n",
       "38  [{'date': '20220809', 'name': 'GLUCOSA Sèrum',...   \n",
       "39  [{'date': '20230619', 'name': 'GLUCOSA Sèrum',...   \n",
       "40  [{'date': '20220319', 'name': 'GLUCOSA Sèrum',...   \n",
       "41  [{'date': '20221013', 'name': 'GLUCOSA Sèrum',...   \n",
       "42                                                 []   \n",
       "44  [{'date': '20230508', 'name': 'GLUCOSA Sèrum',...   \n",
       "45  [{'date': '20220330', 'name': 'GLUCOSA Sèrum',...   \n",
       "46                                                 []   \n",
       "47                                                 []   \n",
       "48  [{'date': '20220303', 'name': 'GLUCOSA Sèrum',...   \n",
       "49  [{'date': '20220307', 'name': 'pH/arterial', '...   \n",
       "\n",
       "                                                  mna  \\\n",
       "0                                                  []   \n",
       "1                                                  []   \n",
       "2                                                  []   \n",
       "3                                                  []   \n",
       "4   [{'imc': '0', 'anorexia': '1', 'perduaPes': '1...   \n",
       "5                                                  []   \n",
       "6                                                  []   \n",
       "7   [{'imc': '0', 'anorexia': '0', 'perduaPes': '1...   \n",
       "8                                                  []   \n",
       "9                                                  []   \n",
       "10                                                 []   \n",
       "11                                                 []   \n",
       "12                                                 []   \n",
       "13                                                 []   \n",
       "14                                                 []   \n",
       "15                                                 []   \n",
       "16                                                 []   \n",
       "17                                                 []   \n",
       "18                                                 []   \n",
       "19                                                 []   \n",
       "20                                                 []   \n",
       "21                                                 []   \n",
       "22                                                 []   \n",
       "23                                                 []   \n",
       "24                                                 []   \n",
       "25  [{'imc': '', 'anorexia': '', 'perduaPes': '', ...   \n",
       "26                                                 []   \n",
       "27                                                 []   \n",
       "28                                                 []   \n",
       "29                                                 []   \n",
       "30  [{'imc': '', 'anorexia': '2', 'perduaPes': '3'...   \n",
       "31  [{'imc': '', 'anorexia': '', 'perduaPes': '', ...   \n",
       "32                                                 []   \n",
       "33                                                 []   \n",
       "34  [{'imc': '', 'anorexia': '', 'perduaPes': '', ...   \n",
       "35                                                 []   \n",
       "36                                                 []   \n",
       "37  [{'imc': '', 'anorexia': '', 'perduaPes': '', ...   \n",
       "38                                                 []   \n",
       "39                                                 []   \n",
       "40                                                 []   \n",
       "41                                                 []   \n",
       "42  [{'imc': '', 'anorexia': '', 'perduaPes': '', ...   \n",
       "44                                                 []   \n",
       "45  [{'imc': '', 'anorexia': '', 'perduaPes': '', ...   \n",
       "46                                                 []   \n",
       "47                                                 []   \n",
       "48                                                 []   \n",
       "49  [{'imc': '3', 'anorexia': '1', 'perduaPes': '1...   \n",
       "\n",
       "                                                emina  \\\n",
       "0   [{'activitat': '2', 'estatMental': '1', 'humit...   \n",
       "1   [{'activitat': '0', 'estatMental': '0', 'humit...   \n",
       "2   [{'activitat': '3', 'estatMental': '0', 'humit...   \n",
       "3   [{'activitat': '2', 'estatMental': '1', 'humit...   \n",
       "4   [{'activitat': '2', 'estatMental': '1', 'humit...   \n",
       "5   [{'activitat': '1', 'estatMental': '0', 'humit...   \n",
       "6   [{'activitat': '3', 'estatMental': '1', 'humit...   \n",
       "7   [{'activitat': '3', 'estatMental': '1', 'humit...   \n",
       "8   [{'activitat': '3', 'estatMental': '0', 'humit...   \n",
       "9   [{'activitat': '1', 'estatMental': '1', 'humit...   \n",
       "10  [{'activitat': '0', 'estatMental': '0', 'humit...   \n",
       "11  [{'activitat': '0', 'estatMental': '0', 'humit...   \n",
       "12  [{'activitat': '1', 'estatMental': '1', 'humit...   \n",
       "13  [{'activitat': '3', 'estatMental': '0', 'humit...   \n",
       "14  [{'activitat': '2', 'estatMental': '0', 'humit...   \n",
       "15  [{'activitat': '3', 'estatMental': '2', 'humit...   \n",
       "16  [{'activitat': '0', 'estatMental': '0', 'humit...   \n",
       "17  [{'activitat': '0', 'estatMental': '0', 'humit...   \n",
       "18  [{'activitat': '0', 'estatMental': '0', 'humit...   \n",
       "19  [{'activitat': '1', 'estatMental': '0', 'humit...   \n",
       "20  [{'activitat': '0', 'estatMental': '0', 'humit...   \n",
       "21  [{'activitat': '0', 'estatMental': '0', 'humit...   \n",
       "22  [{'activitat': '1', 'estatMental': '0', 'humit...   \n",
       "23  [{'activitat': '0', 'estatMental': '0', 'humit...   \n",
       "24  [{'activitat': '1', 'estatMental': '1', 'humit...   \n",
       "25  [{'activitat': '0', 'estatMental': '1', 'humit...   \n",
       "26  [{'activitat': '1', 'estatMental': '0', 'humit...   \n",
       "27  [{'activitat': '3', 'estatMental': '0', 'humit...   \n",
       "28  [{'activitat': '3', 'estatMental': '0', 'humit...   \n",
       "29  [{'activitat': '3', 'estatMental': '2', 'humit...   \n",
       "30  [{'activitat': '0', 'estatMental': '0', 'humit...   \n",
       "31  [{'activitat': '2', 'estatMental': '1', 'humit...   \n",
       "32  [{'activitat': '2', 'estatMental': '1', 'humit...   \n",
       "33                                                 []   \n",
       "34  [{'activitat': '1', 'estatMental': '1', 'humit...   \n",
       "35                                                 []   \n",
       "36  [{'activitat': '0', 'estatMental': '0', 'humit...   \n",
       "37  [{'activitat': '2', 'estatMental': '1', 'humit...   \n",
       "38  [{'activitat': '3', 'estatMental': '0', 'humit...   \n",
       "39  [{'activitat': '1', 'estatMental': '0', 'humit...   \n",
       "40  [{'activitat': '1', 'estatMental': '1', 'humit...   \n",
       "41  [{'activitat': '1', 'estatMental': '1', 'humit...   \n",
       "42  [{'activitat': '3', 'estatMental': '1', 'humit...   \n",
       "44  [{'activitat': '3', 'estatMental': '0', 'humit...   \n",
       "45  [{'activitat': '3', 'estatMental': '1', 'humit...   \n",
       "46  [{'activitat': '3', 'estatMental': '1', 'humit...   \n",
       "47  [{'activitat': '3', 'estatMental': '1', 'humit...   \n",
       "48  [{'activitat': '3', 'estatMental': '0', 'humit...   \n",
       "49  [{'activitat': '3', 'estatMental': '0', 'humit...   \n",
       "\n",
       "                                            canadenca  \\\n",
       "0                                                  []   \n",
       "1                                                  []   \n",
       "2                                                  []   \n",
       "3                                                  []   \n",
       "4                                                  []   \n",
       "5                                                  []   \n",
       "6                                                  []   \n",
       "7   [{'dataValoracio': '2020-07-30', 'horaValoraci...   \n",
       "8                                                  []   \n",
       "9                                                  []   \n",
       "10                                                 []   \n",
       "11                                                 []   \n",
       "12                                                 []   \n",
       "13  [{'dataValoracio': '2020-09-06', 'horaValoraci...   \n",
       "14                                                 []   \n",
       "15                                                 []   \n",
       "16                                                 []   \n",
       "17                                                 []   \n",
       "18                                                 []   \n",
       "19                                                 []   \n",
       "20                                                 []   \n",
       "21                                                 []   \n",
       "22                                                 []   \n",
       "23                                                 []   \n",
       "24                                                 []   \n",
       "25                                                 []   \n",
       "26                                                 []   \n",
       "27                                                 []   \n",
       "28                                                 []   \n",
       "29                                                 []   \n",
       "30                                                 []   \n",
       "31                                                 []   \n",
       "32                                                 []   \n",
       "33                                                 []   \n",
       "34                                                 []   \n",
       "35                                                 []   \n",
       "36                                                 []   \n",
       "37                                                 []   \n",
       "38                                                 []   \n",
       "39                                                 []   \n",
       "40                                                 []   \n",
       "41                                                 []   \n",
       "42                                                 []   \n",
       "44                                                 []   \n",
       "45                                                 []   \n",
       "46                                                 []   \n",
       "47                                                 []   \n",
       "48                                                 []   \n",
       "49                                                 []   \n",
       "\n",
       "                                                  pes  \\\n",
       "0                                                  []   \n",
       "1   [{'valor': '64.7', 'data': '2022-10-04'}, {'va...   \n",
       "2                                                  []   \n",
       "3                                                  []   \n",
       "4   [{'valor': '49.900', 'data': '2022-06-02'}, {'...   \n",
       "5   [{'valor': '83.7', 'data': '2020-08-13'}, {'va...   \n",
       "6                                                  []   \n",
       "7                                                  []   \n",
       "8                                                  []   \n",
       "9                                                  []   \n",
       "10                                                 []   \n",
       "11                                                 []   \n",
       "12          [{'valor': '46.4', 'data': '2020-09-09'}]   \n",
       "13                                                 []   \n",
       "14                                                 []   \n",
       "15                                                 []   \n",
       "16                                                 []   \n",
       "17  [{'valor': '111', 'data': '2020-09-27'}, {'val...   \n",
       "18                                                 []   \n",
       "19  [{'valor': '89.7', 'data': '2022-10-15'}, {'va...   \n",
       "20  [{'valor': '82.600', 'data': '2020-11-19'}, {'...   \n",
       "21  [{'valor': '64.5', 'data': '2020-11-04'}, {'va...   \n",
       "22  [{'valor': '150', 'data': '2021-01-15'}, {'val...   \n",
       "23                                                 []   \n",
       "24                                                 []   \n",
       "25  [{'valor': '57', 'data': '2022-11-03'}, {'valo...   \n",
       "26                                                 []   \n",
       "27  [{'valor': '0', 'data': '2021-09-14'}, {'valor...   \n",
       "28             [{'valor': '0', 'data': '2022-05-30'}]   \n",
       "29                                                 []   \n",
       "30  [{'valor': '71.5', 'data': '2020-12-07'}, {'va...   \n",
       "31  [{'valor': '75', 'data': '2022-01-11'}, {'valo...   \n",
       "32                                                 []   \n",
       "33                                                 []   \n",
       "34          [{'valor': '51.5', 'data': '2021-01-14'}]   \n",
       "35                                                 []   \n",
       "36                                                 []   \n",
       "37            [{'valor': '72', 'data': '2022-10-09'}]   \n",
       "38                                                 []   \n",
       "39                                                 []   \n",
       "40                                                 []   \n",
       "41  [{'valor': '0', 'data': '2023-06-02'}, {'valor...   \n",
       "42  [{'valor': '', 'data': '2021-11-23'}, {'valor'...   \n",
       "44  [{'valor': '66', 'data': '2023-05-07'}, {'valo...   \n",
       "45             [{'valor': '0', 'data': '2023-04-28'}]   \n",
       "46          [{'valor': '55.1', 'data': '2021-03-21'}]   \n",
       "47                                                 []   \n",
       "48  [{'valor': '90', 'data': '2021-03-30'}, {'valo...   \n",
       "49  [{'valor': '143.200', 'data': '2021-09-17'}, {...   \n",
       "\n",
       "                                                 atcs  \\\n",
       "0   [{'codi': 'M01AE', 'dataInici': '2020-06-21 00...   \n",
       "1   [{'codi': 'C09AA', 'dataInici': '2021-05-26 00...   \n",
       "2   [{'codi': 'G04CA', 'dataInici': '2020-07-09 00...   \n",
       "3   [{'codi': 'G04CA', 'dataInici': '2020-07-15 00...   \n",
       "4   [{'codi': 'N02AA', 'dataInici': '2022-02-01 00...   \n",
       "5   [{'codi': 'N02BE', 'dataInici': '2020-08-12 00...   \n",
       "6   [{'codi': 'C09AA', 'dataInici': '2021-08-21 00...   \n",
       "7   [{'codi': 'C09AA', 'dataInici': '2020-07-31 00...   \n",
       "8   [{'codi': 'N02BB', 'dataInici': '2023-07-17 00...   \n",
       "9   [{'codi': 'C10AA', 'dataInici': '2020-08-25 00...   \n",
       "10  [{'codi': 'C09DA', 'dataInici': '2020-08-19 00...   \n",
       "11  [{'codi': 'N02BB', 'dataInici': '2020-08-28 00...   \n",
       "12  [{'codi': 'G04CA', 'dataInici': '2020-09-04 00...   \n",
       "13  [{'codi': 'C10AA', 'dataInici': '2020-09-06 00...   \n",
       "14  [{'codi': 'N02BE', 'dataInici': '2020-10-28 00...   \n",
       "15  [{'codi': 'G04CA', 'dataInici': '2020-09-19 00...   \n",
       "16  [{'codi': 'C08DB', 'dataInici': '2020-09-20 00...   \n",
       "17  [{'codi': 'N02BE', 'dataInici': '2020-09-23 00...   \n",
       "18  [{'codi': 'N02BE', 'dataInici': '2020-10-24 00...   \n",
       "19  [{'codi': 'C09AA', 'dataInici': '2020-10-29 00...   \n",
       "20  [{'codi': 'C09CA', 'dataInici': '2020-10-29 00...   \n",
       "21  [{'codi': 'N02BE', 'dataInici': '2020-11-06 00...   \n",
       "22  [{'codi': 'N02BE', 'dataInici': '2019-08-25 00...   \n",
       "23  [{'codi': 'N02BE', 'dataInici': '2020-11-06 00...   \n",
       "24  [{'codi': 'C01AA', 'dataInici': '2022-12-24 00...   \n",
       "25  [{'codi': 'C10AA', 'dataInici': '2022-09-27 00...   \n",
       "26  [{'codi': 'C09BA', 'dataInici': '2022-04-17 00...   \n",
       "27  [{'codi': 'C08CA', 'dataInici': '2020-11-23 00...   \n",
       "28  [{'codi': 'C10AA', 'dataInici': '2020-11-18 00...   \n",
       "29  [{'codi': 'N02BE', 'dataInici': '2020-11-30 00...   \n",
       "30  [{'codi': 'C08DB', 'dataInici': '2020-12-04 00...   \n",
       "31  [{'codi': 'C10AA', 'dataInici': '2021-12-23 00...   \n",
       "32  [{'codi': 'C10AA', 'dataInici': '2020-12-23 00...   \n",
       "33  [{'codi': 'N02BB', 'dataInici': '2020-12-18 00...   \n",
       "34  [{'codi': 'N02AA', 'dataInici': '2021-01-01 00...   \n",
       "35  [{'codi': 'C01AA', 'dataInici': '2021-01-09 00...   \n",
       "36  [{'codi': 'N02BE', 'dataInici': '2021-01-11 00...   \n",
       "37  [{'codi': 'G04CA', 'dataInici': '2022-09-26 00...   \n",
       "38  [{'codi': 'N02BE', 'dataInici': '2022-10-27 00...   \n",
       "39  [{'codi': 'N02BE', 'dataInici': '2021-01-17 00...   \n",
       "40  [{'codi': 'G04CA', 'dataInici': '2021-01-28 00...   \n",
       "41  [{'codi': 'C10AA', 'dataInici': '2021-02-05 00...   \n",
       "42  [{'codi': 'C08CA', 'dataInici': '2021-06-28 00...   \n",
       "44  [{'codi': 'C09BA', 'dataInici': '2023-05-05 00...   \n",
       "45  [{'codi': 'G04CA', 'dataInici': '2021-03-21 00...   \n",
       "46  [{'codi': 'G04CA', 'dataInici': '2021-03-20 00...   \n",
       "47  [{'codi': 'C09AA', 'dataInici': '2021-03-23 00...   \n",
       "48  [{'codi': 'G04CA', 'dataInici': '2021-03-25 00...   \n",
       "49  [{'codi': 'C10AA', 'dataInici': '2021-08-14 00...   \n",
       "\n",
       "                                               mecvvs  ...  \\\n",
       "0                                                  []  ...   \n",
       "1   [{'data': '20220930', 'pacientNoColabora': '',...  ...   \n",
       "2                                                  []  ...   \n",
       "3   [{'data': '20201204131810', 'disfagia': 'S', '...  ...   \n",
       "4   [{'data': '20220330172303', 'disfagiaConeguda'...  ...   \n",
       "5                                                  []  ...   \n",
       "6   [{'data': '20210819124116', 'disfagia': 'S', '...  ...   \n",
       "7   [{'data': '20200731092102', 'disfagia': 'N', '...  ...   \n",
       "8                                                  []  ...   \n",
       "9                                                  []  ...   \n",
       "10                                                 []  ...   \n",
       "11                                                 []  ...   \n",
       "12  [{'data': '20200907110400', 'disfagia': 'S', '...  ...   \n",
       "13  [{'data': '20200906175506', 'disfagia': 'N', '...  ...   \n",
       "14                                                 []  ...   \n",
       "15                                                 []  ...   \n",
       "16                                                 []  ...   \n",
       "17                                                 []  ...   \n",
       "18                                                 []  ...   \n",
       "19                                                 []  ...   \n",
       "20                                                 []  ...   \n",
       "21                                                 []  ...   \n",
       "22                                                 []  ...   \n",
       "23                                                 []  ...   \n",
       "24                                                 []  ...   \n",
       "25  [{'data': '20220929091303', 'disfagia': 'S', '...  ...   \n",
       "26                                                 []  ...   \n",
       "27  [{'data': '20201125131827', 'disfagia': 'S', '...  ...   \n",
       "28  [{'data': '20220529115841', 'disfagia': 'S', '...  ...   \n",
       "29                                                 []  ...   \n",
       "30                                                 []  ...   \n",
       "31  [{'data': '20220119101523', 'disfagia': 'N', '...  ...   \n",
       "32                                                 []  ...   \n",
       "33                                                 []  ...   \n",
       "34                                                 []  ...   \n",
       "35                                                 []  ...   \n",
       "36                                                 []  ...   \n",
       "37  [{'data': '20221012122425', 'disfagia': 'S', '...  ...   \n",
       "38  [{'data': '20221031103922', 'pacientNoColabora...  ...   \n",
       "39  [{'data': '20220111085147', 'disfagia': 'S', '...  ...   \n",
       "40                                                 []  ...   \n",
       "41  [{'data': '20230530155654', 'disfagia': 'S', '...  ...   \n",
       "42  [{'data': '20210628210030', 'disfagiaConeguda'...  ...   \n",
       "44                                                 []  ...   \n",
       "45  [{'data': '20210323123919', 'disfagia': 'S', '...  ...   \n",
       "46  [{'data': '20210721140136', 'disfagia': 'S', '...  ...   \n",
       "47  [{'data': '20210325091551', 'disfagia': 'S', '...  ...   \n",
       "48  [{'data': '20210330124628', 'disfagia': 'N', '...  ...   \n",
       "49  [{'data': '20211216113742', 'disfagia': 'N', '...  ...   \n",
       "\n",
       "                                             albumina  \\\n",
       "0                                                None   \n",
       "1                                                 3.1   \n",
       "2                                                None   \n",
       "3                                                None   \n",
       "4   Proves afegides a un altre petició per extracc...   \n",
       "5                                                 4.7   \n",
       "6                                                None   \n",
       "7                                                None   \n",
       "8                                                None   \n",
       "9                                                None   \n",
       "10                                               None   \n",
       "11                                               None   \n",
       "12                                               None   \n",
       "13                                                4.0   \n",
       "14                                               None   \n",
       "15                                               None   \n",
       "16                                               None   \n",
       "17                                                4.1   \n",
       "18                                                4.2   \n",
       "19                                                2.7   \n",
       "20                                               None   \n",
       "21                                               None   \n",
       "22                                               None   \n",
       "23                                               None   \n",
       "24                                                4.4   \n",
       "25                                                3.6   \n",
       "26                                                3.2   \n",
       "27                                               None   \n",
       "28                                                3.5   \n",
       "29                                               None   \n",
       "30                                               None   \n",
       "31                                                3.1   \n",
       "32                                               None   \n",
       "33                                               None   \n",
       "34                                               None   \n",
       "35                                               None   \n",
       "36                                                4.4   \n",
       "37                                                2.9   \n",
       "38                           Extracció no realitzada    \n",
       "39                                               None   \n",
       "40                                                2.4   \n",
       "41                                                3.5   \n",
       "42                                               None   \n",
       "44                                                3.2   \n",
       "45                                                3.6   \n",
       "46                                               None   \n",
       "47                                               None   \n",
       "48                                               None   \n",
       "49                                                3.9   \n",
       "\n",
       "                                    proteinas totales    Hb  \\\n",
       "0                                                None  None   \n",
       "1                                                 5.3  14.5   \n",
       "2                                                None  None   \n",
       "3                                                None  None   \n",
       "4   Proves afegides a un altre petició per extracc...     X   \n",
       "5                                                 6.3  14.9   \n",
       "6                                                None  None   \n",
       "7                                                 6.9  13.9   \n",
       "8                                                None  13.8   \n",
       "9                                                None  None   \n",
       "10                                               None  None   \n",
       "11                                               None  None   \n",
       "12                                               None  None   \n",
       "13                                                7.4  14.4   \n",
       "14                                               None  None   \n",
       "15                                               None  None   \n",
       "16                                               None  None   \n",
       "17                                                6.9  18.5   \n",
       "18                                                6.9  16.2   \n",
       "19                                                5.8  14.0   \n",
       "20                                               None  13.7   \n",
       "21                                               None  None   \n",
       "22                                               None  None   \n",
       "23                                               None  None   \n",
       "24                           Extracció no realitzada      X   \n",
       "25                                                5.3  13.2   \n",
       "26                                                6.5  12.0   \n",
       "27                                               None  None   \n",
       "28                                                5.8   8.8   \n",
       "29                                               None  None   \n",
       "30                                               None  None   \n",
       "31                                                5.9  11.8   \n",
       "32                                               None  None   \n",
       "33                                               None  None   \n",
       "34                                               None  None   \n",
       "35                                               None  None   \n",
       "36                                                6.2  15.3   \n",
       "37                                                5.6  13.5   \n",
       "38                                                5.0  11.9   \n",
       "39                                                6.2  11.2   \n",
       "40                                                4.6  12.4   \n",
       "41                                                6.7  13.8   \n",
       "42                                               None  None   \n",
       "44                                                6.6   8.5   \n",
       "45                                                6.6  13.0   \n",
       "46                                               None  None   \n",
       "47                                               None  None   \n",
       "48                                               None  12.6   \n",
       "49                                                5.9  12.1   \n",
       "\n",
       "            colesterol total  leucos  limfos              prot C react  \\\n",
       "0                       None    None    None                      None   \n",
       "1                      124.7       X    38.9                     19.61   \n",
       "2                       None    None    None                      None   \n",
       "3                       None    None    None                      None   \n",
       "4                       None       X       X                      0.54   \n",
       "5                        186    9.45    33.0                      None   \n",
       "6                       None    None    None                      None   \n",
       "7                       None    7.86    40.6                      0.32   \n",
       "8                       None    5.28    19.1                      5.82   \n",
       "9                       None    None    None                      None   \n",
       "10                      None    None    None                      None   \n",
       "11                      None    None    None                      None   \n",
       "12                      None    None    None                      None   \n",
       "13                      80.5   13.95    14.5                      6.73   \n",
       "14                      None    None    None                      None   \n",
       "15                      None    None    None                      None   \n",
       "16                      None    None    None                      None   \n",
       "17                     147.1   15.25     8.7                      0.22   \n",
       "18                       227   15.36    12.6                      0.38   \n",
       "19                      97.3   32.31       X                     20.95   \n",
       "20                      None   17.47     3.0                     11.56   \n",
       "21                      None    None    None                      None   \n",
       "22                      None    None    None                      None   \n",
       "23                      None    None    None                      None   \n",
       "24  Extracció no realitzada        X       X  Extracció no realitzada    \n",
       "25                       139    5.88    20.9                      0.08   \n",
       "26                     156.9   14.71     5.0                     11.37   \n",
       "27                      None    None    None                      None   \n",
       "28                     186.4    8.31    11.7                      2.33   \n",
       "29                      None    None    None                      None   \n",
       "30                      None    None    None                      None   \n",
       "31                     108.2    8.81    32.6                      3.15   \n",
       "32                      None    None    None                      None   \n",
       "33                      None    None    None                      None   \n",
       "34                      None    None    None                      None   \n",
       "35                      None    None    None                      None   \n",
       "36                       177    6.54    22.6                      0.28   \n",
       "37                     119.5    8.55     9.5                      8.16   \n",
       "38  Extracció no realitzada    15.16    13.9                      5.87   \n",
       "39                      None   22.39       X                     14.21   \n",
       "40                       157    6.97    15.4                      4.55   \n",
       "41                     135.7    7.42    27.6                      6.43   \n",
       "42                      None    None    None                      None   \n",
       "44                     100.1   10.79    12.0                      9.81   \n",
       "45                     148.5    9.63     7.5                      8.64   \n",
       "46                      None    None    None                      None   \n",
       "47                      None    None    None                      None   \n",
       "48                       113    5.63    37.7                       0.2   \n",
       "49                       211    5.79    22.8                      0.54   \n",
       "\n",
       "                                                 urea  \\\n",
       "0                                                None   \n",
       "1                                                25.7   \n",
       "2                                                None   \n",
       "3                                                None   \n",
       "4   Proves afegides a un altre petició per extracc...   \n",
       "5                                                30.4   \n",
       "6                                                None   \n",
       "7                                                38.7   \n",
       "8                                                35.7   \n",
       "9                                                None   \n",
       "10                                               None   \n",
       "11                                               None   \n",
       "12                                               None   \n",
       "13                                               66.0   \n",
       "14                                               None   \n",
       "15                                               None   \n",
       "16                                               None   \n",
       "17                                               44.9   \n",
       "18                                               29.5   \n",
       "19                                               94.8   \n",
       "20                                               36.9   \n",
       "21                                               None   \n",
       "22                                               None   \n",
       "23                                               None   \n",
       "24                           Extracció no realitzada    \n",
       "25                                               68.5   \n",
       "26                                              119.7   \n",
       "27                                               None   \n",
       "28                                               49.9   \n",
       "29                                               None   \n",
       "30                                               None   \n",
       "31                                               24.9   \n",
       "32                                               None   \n",
       "33                                               None   \n",
       "34                                               None   \n",
       "35                                               None   \n",
       "36                                               31.3   \n",
       "37                                              114.2   \n",
       "38                                               45.7   \n",
       "39                                               30.7   \n",
       "40                                               84.6   \n",
       "41                                               38.6   \n",
       "42                                               None   \n",
       "44                                               31.4   \n",
       "45                                               82.7   \n",
       "46                                               None   \n",
       "47                                               None   \n",
       "48                                               33.0   \n",
       "49                                              107.9   \n",
       "\n",
       "                                             FGE MDRD  \\\n",
       "0                                                None   \n",
       "1                                                 >60   \n",
       "2                                                None   \n",
       "3                                                None   \n",
       "4   Proves afegides a un altre petició per extracc...   \n",
       "5                                                 >60   \n",
       "6                                                None   \n",
       "7                                                None   \n",
       "8                                                None   \n",
       "9                                                None   \n",
       "10                                               None   \n",
       "11                                               None   \n",
       "12                                               None   \n",
       "13                                                >60   \n",
       "14                                               None   \n",
       "15                                               None   \n",
       "16                                               None   \n",
       "17                                                >60   \n",
       "18                                                >60   \n",
       "19                                                 51   \n",
       "20                                               None   \n",
       "21                                               None   \n",
       "22                                               None   \n",
       "23                                               None   \n",
       "24                                                >60   \n",
       "25                                                 39   \n",
       "26                                                 52   \n",
       "27                                               None   \n",
       "28                                                 51   \n",
       "29                                               None   \n",
       "30                                               None   \n",
       "31                                                >60   \n",
       "32                                               None   \n",
       "33                                               None   \n",
       "34                                               None   \n",
       "35                                               None   \n",
       "36                                               None   \n",
       "37                                               None   \n",
       "38                           Extracció no realitzada    \n",
       "39                                               None   \n",
       "40                                                 22   \n",
       "41                                                >60   \n",
       "42                                               None   \n",
       "44                                                >60   \n",
       "45                                                >60   \n",
       "46                                               None   \n",
       "47                                               None   \n",
       "48                                               None   \n",
       "49                                                 11   \n",
       "\n",
       "                                          FGE CDK-EPI  \n",
       "0                                                None  \n",
       "1                                                 >90  \n",
       "2                                                None  \n",
       "3                                                None  \n",
       "4   Proves afegides a un altre petició per extracc...  \n",
       "5                                                 >90  \n",
       "6                                                None  \n",
       "7                                                  78  \n",
       "8                                                  74  \n",
       "9                                                None  \n",
       "10                                               None  \n",
       "11                                               None  \n",
       "12                                               None  \n",
       "13                                                 70  \n",
       "14                                               None  \n",
       "15                                               None  \n",
       "16                                               None  \n",
       "17                                                >90  \n",
       "18                                                >90  \n",
       "19                                                <15  \n",
       "20                                                 81  \n",
       "21                                               None  \n",
       "22                                               None  \n",
       "23                                               None  \n",
       "24                           Extracció no realitzada   \n",
       "25                                                 38  \n",
       "26                                                 48  \n",
       "27                                               None  \n",
       "28                                                 48  \n",
       "29                                               None  \n",
       "30                                               None  \n",
       "31                                                 78  \n",
       "32                                               None  \n",
       "33                                               None  \n",
       "34                                               None  \n",
       "35                                               None  \n",
       "36                                                 71  \n",
       "37                                                 46  \n",
       "38                                                 52  \n",
       "39                                                >90  \n",
       "40                                                 18  \n",
       "41                                                 48  \n",
       "42                                               None  \n",
       "44                                                 83  \n",
       "45                                                 50  \n",
       "46                                               None  \n",
       "47                                               None  \n",
       "48                                                 54  \n",
       "49                                                <15  \n",
       "\n",
       "[49 rows x 43 columns]"
      ],
      "text/html": [
       "<div>\n",
       "<style scoped>\n",
       "    .dataframe tbody tr th:only-of-type {\n",
       "        vertical-align: middle;\n",
       "    }\n",
       "\n",
       "    .dataframe tbody tr th {\n",
       "        vertical-align: top;\n",
       "    }\n",
       "\n",
       "    .dataframe thead th {\n",
       "        text-align: right;\n",
       "    }\n",
       "</style>\n",
       "<table border=\"1\" class=\"dataframe\">\n",
       "  <thead>\n",
       "    <tr style=\"text-align: right;\">\n",
       "      <th></th>\n",
       "      <th>edat</th>\n",
       "      <th>sexe</th>\n",
       "      <th>visitaDietista</th>\n",
       "      <th>labs</th>\n",
       "      <th>mna</th>\n",
       "      <th>emina</th>\n",
       "      <th>canadenca</th>\n",
       "      <th>pes</th>\n",
       "      <th>atcs</th>\n",
       "      <th>mecvvs</th>\n",
       "      <th>...</th>\n",
       "      <th>albumina</th>\n",
       "      <th>proteinas totales</th>\n",
       "      <th>Hb</th>\n",
       "      <th>colesterol total</th>\n",
       "      <th>leucos</th>\n",
       "      <th>limfos</th>\n",
       "      <th>prot C react</th>\n",
       "      <th>urea</th>\n",
       "      <th>FGE MDRD</th>\n",
       "      <th>FGE CDK-EPI</th>\n",
       "    </tr>\n",
       "  </thead>\n",
       "  <tbody>\n",
       "    <tr>\n",
       "      <th>0</th>\n",
       "      <td>89</td>\n",
       "      <td>F</td>\n",
       "      <td>0</td>\n",
       "      <td>[]</td>\n",
       "      <td>[]</td>\n",
       "      <td>[{'activitat': '2', 'estatMental': '1', 'humit...</td>\n",
       "      <td>[]</td>\n",
       "      <td>[]</td>\n",
       "      <td>[{'codi': 'M01AE', 'dataInici': '2020-06-21 00...</td>\n",
       "      <td>[]</td>\n",
       "      <td>...</td>\n",
       "      <td>None</td>\n",
       "      <td>None</td>\n",
       "      <td>None</td>\n",
       "      <td>None</td>\n",
       "      <td>None</td>\n",
       "      <td>None</td>\n",
       "      <td>None</td>\n",
       "      <td>None</td>\n",
       "      <td>None</td>\n",
       "      <td>None</td>\n",
       "    </tr>\n",
       "    <tr>\n",
       "      <th>1</th>\n",
       "      <td>70</td>\n",
       "      <td>M</td>\n",
       "      <td>0</td>\n",
       "      <td>[{'date': '20220524', 'name': 'PCR SARS-CoV2 S...</td>\n",
       "      <td>[]</td>\n",
       "      <td>[{'activitat': '0', 'estatMental': '0', 'humit...</td>\n",
       "      <td>[]</td>\n",
       "      <td>[{'valor': '64.7', 'data': '2022-10-04'}, {'va...</td>\n",
       "      <td>[{'codi': 'C09AA', 'dataInici': '2021-05-26 00...</td>\n",
       "      <td>[{'data': '20220930', 'pacientNoColabora': '',...</td>\n",
       "      <td>...</td>\n",
       "      <td>3.1</td>\n",
       "      <td>5.3</td>\n",
       "      <td>14.5</td>\n",
       "      <td>124.7</td>\n",
       "      <td>X</td>\n",
       "      <td>38.9</td>\n",
       "      <td>19.61</td>\n",
       "      <td>25.7</td>\n",
       "      <td>&gt;60</td>\n",
       "      <td>&gt;90</td>\n",
       "    </tr>\n",
       "    <tr>\n",
       "      <th>2</th>\n",
       "      <td>96</td>\n",
       "      <td>M</td>\n",
       "      <td>0</td>\n",
       "      <td>[]</td>\n",
       "      <td>[]</td>\n",
       "      <td>[{'activitat': '3', 'estatMental': '0', 'humit...</td>\n",
       "      <td>[]</td>\n",
       "      <td>[]</td>\n",
       "      <td>[{'codi': 'G04CA', 'dataInici': '2020-07-09 00...</td>\n",
       "      <td>[]</td>\n",
       "      <td>...</td>\n",
       "      <td>None</td>\n",
       "      <td>None</td>\n",
       "      <td>None</td>\n",
       "      <td>None</td>\n",
       "      <td>None</td>\n",
       "      <td>None</td>\n",
       "      <td>None</td>\n",
       "      <td>None</td>\n",
       "      <td>None</td>\n",
       "      <td>None</td>\n",
       "    </tr>\n",
       "    <tr>\n",
       "      <th>3</th>\n",
       "      <td>85</td>\n",
       "      <td>M</td>\n",
       "      <td>0</td>\n",
       "      <td>[]</td>\n",
       "      <td>[]</td>\n",
       "      <td>[{'activitat': '2', 'estatMental': '1', 'humit...</td>\n",
       "      <td>[]</td>\n",
       "      <td>[]</td>\n",
       "      <td>[{'codi': 'G04CA', 'dataInici': '2020-07-15 00...</td>\n",
       "      <td>[{'data': '20201204131810', 'disfagia': 'S', '...</td>\n",
       "      <td>...</td>\n",
       "      <td>None</td>\n",
       "      <td>None</td>\n",
       "      <td>None</td>\n",
       "      <td>None</td>\n",
       "      <td>None</td>\n",
       "      <td>None</td>\n",
       "      <td>None</td>\n",
       "      <td>None</td>\n",
       "      <td>None</td>\n",
       "      <td>None</td>\n",
       "    </tr>\n",
       "    <tr>\n",
       "      <th>4</th>\n",
       "      <td>93</td>\n",
       "      <td>M</td>\n",
       "      <td>0</td>\n",
       "      <td>[{'date': '20220208', 'name': 'UREA Sèrum', 'l...</td>\n",
       "      <td>[{'imc': '0', 'anorexia': '1', 'perduaPes': '1...</td>\n",
       "      <td>[{'activitat': '2', 'estatMental': '1', 'humit...</td>\n",
       "      <td>[]</td>\n",
       "      <td>[{'valor': '49.900', 'data': '2022-06-02'}, {'...</td>\n",
       "      <td>[{'codi': 'N02AA', 'dataInici': '2022-02-01 00...</td>\n",
       "      <td>[{'data': '20220330172303', 'disfagiaConeguda'...</td>\n",
       "      <td>...</td>\n",
       "      <td>Proves afegides a un altre petició per extracc...</td>\n",
       "      <td>Proves afegides a un altre petició per extracc...</td>\n",
       "      <td>X</td>\n",
       "      <td>None</td>\n",
       "      <td>X</td>\n",
       "      <td>X</td>\n",
       "      <td>0.54</td>\n",
       "      <td>Proves afegides a un altre petició per extracc...</td>\n",
       "      <td>Proves afegides a un altre petició per extracc...</td>\n",
       "      <td>Proves afegides a un altre petició per extracc...</td>\n",
       "    </tr>\n",
       "    <tr>\n",
       "      <th>5</th>\n",
       "      <td>57</td>\n",
       "      <td>M</td>\n",
       "      <td>0</td>\n",
       "      <td>[{'date': '20220909', 'name': 'GLUCOSA Sèrum',...</td>\n",
       "      <td>[]</td>\n",
       "      <td>[{'activitat': '1', 'estatMental': '0', 'humit...</td>\n",
       "      <td>[]</td>\n",
       "      <td>[{'valor': '83.7', 'data': '2020-08-13'}, {'va...</td>\n",
       "      <td>[{'codi': 'N02BE', 'dataInici': '2020-08-12 00...</td>\n",
       "      <td>[]</td>\n",
       "      <td>...</td>\n",
       "      <td>4.7</td>\n",
       "      <td>6.3</td>\n",
       "      <td>14.9</td>\n",
       "      <td>186</td>\n",
       "      <td>9.45</td>\n",
       "      <td>33.0</td>\n",
       "      <td>None</td>\n",
       "      <td>30.4</td>\n",
       "      <td>&gt;60</td>\n",
       "      <td>&gt;90</td>\n",
       "    </tr>\n",
       "    <tr>\n",
       "      <th>6</th>\n",
       "      <td>101</td>\n",
       "      <td>F</td>\n",
       "      <td>0</td>\n",
       "      <td>[]</td>\n",
       "      <td>[]</td>\n",
       "      <td>[{'activitat': '3', 'estatMental': '1', 'humit...</td>\n",
       "      <td>[]</td>\n",
       "      <td>[]</td>\n",
       "      <td>[{'codi': 'C09AA', 'dataInici': '2021-08-21 00...</td>\n",
       "      <td>[{'data': '20210819124116', 'disfagia': 'S', '...</td>\n",
       "      <td>...</td>\n",
       "      <td>None</td>\n",
       "      <td>None</td>\n",
       "      <td>None</td>\n",
       "      <td>None</td>\n",
       "      <td>None</td>\n",
       "      <td>None</td>\n",
       "      <td>None</td>\n",
       "      <td>None</td>\n",
       "      <td>None</td>\n",
       "      <td>None</td>\n",
       "    </tr>\n",
       "    <tr>\n",
       "      <th>7</th>\n",
       "      <td>90</td>\n",
       "      <td>F</td>\n",
       "      <td>0</td>\n",
       "      <td>[{'date': '20220627', 'name': 'GLUCOSA Sèrum',...</td>\n",
       "      <td>[{'imc': '0', 'anorexia': '0', 'perduaPes': '1...</td>\n",
       "      <td>[{'activitat': '3', 'estatMental': '1', 'humit...</td>\n",
       "      <td>[{'dataValoracio': '2020-07-30', 'horaValoraci...</td>\n",
       "      <td>[]</td>\n",
       "      <td>[{'codi': 'C09AA', 'dataInici': '2020-07-31 00...</td>\n",
       "      <td>[{'data': '20200731092102', 'disfagia': 'N', '...</td>\n",
       "      <td>...</td>\n",
       "      <td>None</td>\n",
       "      <td>6.9</td>\n",
       "      <td>13.9</td>\n",
       "      <td>None</td>\n",
       "      <td>7.86</td>\n",
       "      <td>40.6</td>\n",
       "      <td>0.32</td>\n",
       "      <td>38.7</td>\n",
       "      <td>None</td>\n",
       "      <td>78</td>\n",
       "    </tr>\n",
       "    <tr>\n",
       "      <th>8</th>\n",
       "      <td>90</td>\n",
       "      <td>F</td>\n",
       "      <td>0</td>\n",
       "      <td>[{'date': '20220827', 'name': 'GLUCOSA Sèrum',...</td>\n",
       "      <td>[]</td>\n",
       "      <td>[{'activitat': '3', 'estatMental': '0', 'humit...</td>\n",
       "      <td>[]</td>\n",
       "      <td>[]</td>\n",
       "      <td>[{'codi': 'N02BB', 'dataInici': '2023-07-17 00...</td>\n",
       "      <td>[]</td>\n",
       "      <td>...</td>\n",
       "      <td>None</td>\n",
       "      <td>None</td>\n",
       "      <td>13.8</td>\n",
       "      <td>None</td>\n",
       "      <td>5.28</td>\n",
       "      <td>19.1</td>\n",
       "      <td>5.82</td>\n",
       "      <td>35.7</td>\n",
       "      <td>None</td>\n",
       "      <td>74</td>\n",
       "    </tr>\n",
       "    <tr>\n",
       "      <th>9</th>\n",
       "      <td>91</td>\n",
       "      <td>M</td>\n",
       "      <td>0</td>\n",
       "      <td>[]</td>\n",
       "      <td>[]</td>\n",
       "      <td>[{'activitat': '1', 'estatMental': '1', 'humit...</td>\n",
       "      <td>[]</td>\n",
       "      <td>[]</td>\n",
       "      <td>[{'codi': 'C10AA', 'dataInici': '2020-08-25 00...</td>\n",
       "      <td>[]</td>\n",
       "      <td>...</td>\n",
       "      <td>None</td>\n",
       "      <td>None</td>\n",
       "      <td>None</td>\n",
       "      <td>None</td>\n",
       "      <td>None</td>\n",
       "      <td>None</td>\n",
       "      <td>None</td>\n",
       "      <td>None</td>\n",
       "      <td>None</td>\n",
       "      <td>None</td>\n",
       "    </tr>\n",
       "    <tr>\n",
       "      <th>10</th>\n",
       "      <td>84</td>\n",
       "      <td>F</td>\n",
       "      <td>0</td>\n",
       "      <td>[]</td>\n",
       "      <td>[]</td>\n",
       "      <td>[{'activitat': '0', 'estatMental': '0', 'humit...</td>\n",
       "      <td>[]</td>\n",
       "      <td>[]</td>\n",
       "      <td>[{'codi': 'C09DA', 'dataInici': '2020-08-19 00...</td>\n",
       "      <td>[]</td>\n",
       "      <td>...</td>\n",
       "      <td>None</td>\n",
       "      <td>None</td>\n",
       "      <td>None</td>\n",
       "      <td>None</td>\n",
       "      <td>None</td>\n",
       "      <td>None</td>\n",
       "      <td>None</td>\n",
       "      <td>None</td>\n",
       "      <td>None</td>\n",
       "      <td>None</td>\n",
       "    </tr>\n",
       "    <tr>\n",
       "      <th>11</th>\n",
       "      <td>58</td>\n",
       "      <td>M</td>\n",
       "      <td>0</td>\n",
       "      <td>[]</td>\n",
       "      <td>[]</td>\n",
       "      <td>[{'activitat': '0', 'estatMental': '0', 'humit...</td>\n",
       "      <td>[]</td>\n",
       "      <td>[]</td>\n",
       "      <td>[{'codi': 'N02BB', 'dataInici': '2020-08-28 00...</td>\n",
       "      <td>[]</td>\n",
       "      <td>...</td>\n",
       "      <td>None</td>\n",
       "      <td>None</td>\n",
       "      <td>None</td>\n",
       "      <td>None</td>\n",
       "      <td>None</td>\n",
       "      <td>None</td>\n",
       "      <td>None</td>\n",
       "      <td>None</td>\n",
       "      <td>None</td>\n",
       "      <td>None</td>\n",
       "    </tr>\n",
       "    <tr>\n",
       "      <th>12</th>\n",
       "      <td>86</td>\n",
       "      <td>M</td>\n",
       "      <td>0</td>\n",
       "      <td>[]</td>\n",
       "      <td>[]</td>\n",
       "      <td>[{'activitat': '1', 'estatMental': '1', 'humit...</td>\n",
       "      <td>[]</td>\n",
       "      <td>[{'valor': '46.4', 'data': '2020-09-09'}]</td>\n",
       "      <td>[{'codi': 'G04CA', 'dataInici': '2020-09-04 00...</td>\n",
       "      <td>[{'data': '20200907110400', 'disfagia': 'S', '...</td>\n",
       "      <td>...</td>\n",
       "      <td>None</td>\n",
       "      <td>None</td>\n",
       "      <td>None</td>\n",
       "      <td>None</td>\n",
       "      <td>None</td>\n",
       "      <td>None</td>\n",
       "      <td>None</td>\n",
       "      <td>None</td>\n",
       "      <td>None</td>\n",
       "      <td>None</td>\n",
       "    </tr>\n",
       "    <tr>\n",
       "      <th>13</th>\n",
       "      <td>71</td>\n",
       "      <td>F</td>\n",
       "      <td>0</td>\n",
       "      <td>[{'date': '20220216', 'name': 'CULTIU Esput', ...</td>\n",
       "      <td>[]</td>\n",
       "      <td>[{'activitat': '3', 'estatMental': '0', 'humit...</td>\n",
       "      <td>[{'dataValoracio': '2020-09-06', 'horaValoraci...</td>\n",
       "      <td>[]</td>\n",
       "      <td>[{'codi': 'C10AA', 'dataInici': '2020-09-06 00...</td>\n",
       "      <td>[{'data': '20200906175506', 'disfagia': 'N', '...</td>\n",
       "      <td>...</td>\n",
       "      <td>4.0</td>\n",
       "      <td>7.4</td>\n",
       "      <td>14.4</td>\n",
       "      <td>80.5</td>\n",
       "      <td>13.95</td>\n",
       "      <td>14.5</td>\n",
       "      <td>6.73</td>\n",
       "      <td>66.0</td>\n",
       "      <td>&gt;60</td>\n",
       "      <td>70</td>\n",
       "    </tr>\n",
       "    <tr>\n",
       "      <th>14</th>\n",
       "      <td>61</td>\n",
       "      <td>M</td>\n",
       "      <td>0</td>\n",
       "      <td>[]</td>\n",
       "      <td>[]</td>\n",
       "      <td>[{'activitat': '2', 'estatMental': '0', 'humit...</td>\n",
       "      <td>[]</td>\n",
       "      <td>[]</td>\n",
       "      <td>[{'codi': 'N02BE', 'dataInici': '2020-10-28 00...</td>\n",
       "      <td>[]</td>\n",
       "      <td>...</td>\n",
       "      <td>None</td>\n",
       "      <td>None</td>\n",
       "      <td>None</td>\n",
       "      <td>None</td>\n",
       "      <td>None</td>\n",
       "      <td>None</td>\n",
       "      <td>None</td>\n",
       "      <td>None</td>\n",
       "      <td>None</td>\n",
       "      <td>None</td>\n",
       "    </tr>\n",
       "    <tr>\n",
       "      <th>15</th>\n",
       "      <td>75</td>\n",
       "      <td>M</td>\n",
       "      <td>0</td>\n",
       "      <td>[]</td>\n",
       "      <td>[]</td>\n",
       "      <td>[{'activitat': '3', 'estatMental': '2', 'humit...</td>\n",
       "      <td>[]</td>\n",
       "      <td>[]</td>\n",
       "      <td>[{'codi': 'G04CA', 'dataInici': '2020-09-19 00...</td>\n",
       "      <td>[]</td>\n",
       "      <td>...</td>\n",
       "      <td>None</td>\n",
       "      <td>None</td>\n",
       "      <td>None</td>\n",
       "      <td>None</td>\n",
       "      <td>None</td>\n",
       "      <td>None</td>\n",
       "      <td>None</td>\n",
       "      <td>None</td>\n",
       "      <td>None</td>\n",
       "      <td>None</td>\n",
       "    </tr>\n",
       "    <tr>\n",
       "      <th>16</th>\n",
       "      <td>79</td>\n",
       "      <td>M</td>\n",
       "      <td>0</td>\n",
       "      <td>[]</td>\n",
       "      <td>[]</td>\n",
       "      <td>[{'activitat': '0', 'estatMental': '0', 'humit...</td>\n",
       "      <td>[]</td>\n",
       "      <td>[]</td>\n",
       "      <td>[{'codi': 'C08DB', 'dataInici': '2020-09-20 00...</td>\n",
       "      <td>[]</td>\n",
       "      <td>...</td>\n",
       "      <td>None</td>\n",
       "      <td>None</td>\n",
       "      <td>None</td>\n",
       "      <td>None</td>\n",
       "      <td>None</td>\n",
       "      <td>None</td>\n",
       "      <td>None</td>\n",
       "      <td>None</td>\n",
       "      <td>None</td>\n",
       "      <td>None</td>\n",
       "    </tr>\n",
       "    <tr>\n",
       "      <th>17</th>\n",
       "      <td>58</td>\n",
       "      <td>M</td>\n",
       "      <td>0</td>\n",
       "      <td>[{'date': '20230119', 'name': 'pH/arterial', '...</td>\n",
       "      <td>[]</td>\n",
       "      <td>[{'activitat': '0', 'estatMental': '0', 'humit...</td>\n",
       "      <td>[]</td>\n",
       "      <td>[{'valor': '111', 'data': '2020-09-27'}, {'val...</td>\n",
       "      <td>[{'codi': 'N02BE', 'dataInici': '2020-09-23 00...</td>\n",
       "      <td>[]</td>\n",
       "      <td>...</td>\n",
       "      <td>4.1</td>\n",
       "      <td>6.9</td>\n",
       "      <td>18.5</td>\n",
       "      <td>147.1</td>\n",
       "      <td>15.25</td>\n",
       "      <td>8.7</td>\n",
       "      <td>0.22</td>\n",
       "      <td>44.9</td>\n",
       "      <td>&gt;60</td>\n",
       "      <td>&gt;90</td>\n",
       "    </tr>\n",
       "    <tr>\n",
       "      <th>18</th>\n",
       "      <td>64</td>\n",
       "      <td>M</td>\n",
       "      <td>0</td>\n",
       "      <td>[{'date': '20220217', 'name': 'EXTRACCIÓ RNA',...</td>\n",
       "      <td>[]</td>\n",
       "      <td>[{'activitat': '0', 'estatMental': '0', 'humit...</td>\n",
       "      <td>[]</td>\n",
       "      <td>[]</td>\n",
       "      <td>[{'codi': 'N02BE', 'dataInici': '2020-10-24 00...</td>\n",
       "      <td>[]</td>\n",
       "      <td>...</td>\n",
       "      <td>4.2</td>\n",
       "      <td>6.9</td>\n",
       "      <td>16.2</td>\n",
       "      <td>227</td>\n",
       "      <td>15.36</td>\n",
       "      <td>12.6</td>\n",
       "      <td>0.38</td>\n",
       "      <td>29.5</td>\n",
       "      <td>&gt;60</td>\n",
       "      <td>&gt;90</td>\n",
       "    </tr>\n",
       "    <tr>\n",
       "      <th>19</th>\n",
       "      <td>85</td>\n",
       "      <td>M</td>\n",
       "      <td>0</td>\n",
       "      <td>[{'date': '20230130', 'name': 'pH/arterial', '...</td>\n",
       "      <td>[]</td>\n",
       "      <td>[{'activitat': '1', 'estatMental': '0', 'humit...</td>\n",
       "      <td>[]</td>\n",
       "      <td>[{'valor': '89.7', 'data': '2022-10-15'}, {'va...</td>\n",
       "      <td>[{'codi': 'C09AA', 'dataInici': '2020-10-29 00...</td>\n",
       "      <td>[]</td>\n",
       "      <td>...</td>\n",
       "      <td>2.7</td>\n",
       "      <td>5.8</td>\n",
       "      <td>14.0</td>\n",
       "      <td>97.3</td>\n",
       "      <td>32.31</td>\n",
       "      <td>X</td>\n",
       "      <td>20.95</td>\n",
       "      <td>94.8</td>\n",
       "      <td>51</td>\n",
       "      <td>&lt;15</td>\n",
       "    </tr>\n",
       "    <tr>\n",
       "      <th>20</th>\n",
       "      <td>85</td>\n",
       "      <td>M</td>\n",
       "      <td>0</td>\n",
       "      <td>[{'date': '20230409', 'name': 'CULTIU Esput', ...</td>\n",
       "      <td>[]</td>\n",
       "      <td>[{'activitat': '0', 'estatMental': '0', 'humit...</td>\n",
       "      <td>[]</td>\n",
       "      <td>[{'valor': '82.600', 'data': '2020-11-19'}, {'...</td>\n",
       "      <td>[{'codi': 'C09CA', 'dataInici': '2020-10-29 00...</td>\n",
       "      <td>[]</td>\n",
       "      <td>...</td>\n",
       "      <td>None</td>\n",
       "      <td>None</td>\n",
       "      <td>13.7</td>\n",
       "      <td>None</td>\n",
       "      <td>17.47</td>\n",
       "      <td>3.0</td>\n",
       "      <td>11.56</td>\n",
       "      <td>36.9</td>\n",
       "      <td>None</td>\n",
       "      <td>81</td>\n",
       "    </tr>\n",
       "    <tr>\n",
       "      <th>21</th>\n",
       "      <td>29</td>\n",
       "      <td>M</td>\n",
       "      <td>0</td>\n",
       "      <td>[]</td>\n",
       "      <td>[]</td>\n",
       "      <td>[{'activitat': '0', 'estatMental': '0', 'humit...</td>\n",
       "      <td>[]</td>\n",
       "      <td>[{'valor': '64.5', 'data': '2020-11-04'}, {'va...</td>\n",
       "      <td>[{'codi': 'N02BE', 'dataInici': '2020-11-06 00...</td>\n",
       "      <td>[]</td>\n",
       "      <td>...</td>\n",
       "      <td>None</td>\n",
       "      <td>None</td>\n",
       "      <td>None</td>\n",
       "      <td>None</td>\n",
       "      <td>None</td>\n",
       "      <td>None</td>\n",
       "      <td>None</td>\n",
       "      <td>None</td>\n",
       "      <td>None</td>\n",
       "      <td>None</td>\n",
       "    </tr>\n",
       "    <tr>\n",
       "      <th>22</th>\n",
       "      <td>48</td>\n",
       "      <td>M</td>\n",
       "      <td>0</td>\n",
       "      <td>[]</td>\n",
       "      <td>[]</td>\n",
       "      <td>[{'activitat': '1', 'estatMental': '0', 'humit...</td>\n",
       "      <td>[]</td>\n",
       "      <td>[{'valor': '150', 'data': '2021-01-15'}, {'val...</td>\n",
       "      <td>[{'codi': 'N02BE', 'dataInici': '2019-08-25 00...</td>\n",
       "      <td>[]</td>\n",
       "      <td>...</td>\n",
       "      <td>None</td>\n",
       "      <td>None</td>\n",
       "      <td>None</td>\n",
       "      <td>None</td>\n",
       "      <td>None</td>\n",
       "      <td>None</td>\n",
       "      <td>None</td>\n",
       "      <td>None</td>\n",
       "      <td>None</td>\n",
       "      <td>None</td>\n",
       "    </tr>\n",
       "    <tr>\n",
       "      <th>23</th>\n",
       "      <td>67</td>\n",
       "      <td>M</td>\n",
       "      <td>0</td>\n",
       "      <td>[]</td>\n",
       "      <td>[]</td>\n",
       "      <td>[{'activitat': '0', 'estatMental': '0', 'humit...</td>\n",
       "      <td>[]</td>\n",
       "      <td>[]</td>\n",
       "      <td>[{'codi': 'N02BE', 'dataInici': '2020-11-06 00...</td>\n",
       "      <td>[]</td>\n",
       "      <td>...</td>\n",
       "      <td>None</td>\n",
       "      <td>None</td>\n",
       "      <td>None</td>\n",
       "      <td>None</td>\n",
       "      <td>None</td>\n",
       "      <td>None</td>\n",
       "      <td>None</td>\n",
       "      <td>None</td>\n",
       "      <td>None</td>\n",
       "      <td>None</td>\n",
       "    </tr>\n",
       "    <tr>\n",
       "      <th>24</th>\n",
       "      <td>71</td>\n",
       "      <td>M</td>\n",
       "      <td>0</td>\n",
       "      <td>[{'date': '20220506', 'name': 'GLUCOSA Sèrum',...</td>\n",
       "      <td>[]</td>\n",
       "      <td>[{'activitat': '1', 'estatMental': '1', 'humit...</td>\n",
       "      <td>[]</td>\n",
       "      <td>[]</td>\n",
       "      <td>[{'codi': 'C01AA', 'dataInici': '2022-12-24 00...</td>\n",
       "      <td>[]</td>\n",
       "      <td>...</td>\n",
       "      <td>4.4</td>\n",
       "      <td>Extracció no realitzada</td>\n",
       "      <td>X</td>\n",
       "      <td>Extracció no realitzada</td>\n",
       "      <td>X</td>\n",
       "      <td>X</td>\n",
       "      <td>Extracció no realitzada</td>\n",
       "      <td>Extracció no realitzada</td>\n",
       "      <td>&gt;60</td>\n",
       "      <td>Extracció no realitzada</td>\n",
       "    </tr>\n",
       "    <tr>\n",
       "      <th>25</th>\n",
       "      <td>83</td>\n",
       "      <td>F</td>\n",
       "      <td>0</td>\n",
       "      <td>[{'date': '20220308', 'name': 'UREA Sèrum', 'l...</td>\n",
       "      <td>[{'imc': '', 'anorexia': '', 'perduaPes': '', ...</td>\n",
       "      <td>[{'activitat': '0', 'estatMental': '1', 'humit...</td>\n",
       "      <td>[]</td>\n",
       "      <td>[{'valor': '57', 'data': '2022-11-03'}, {'valo...</td>\n",
       "      <td>[{'codi': 'C10AA', 'dataInici': '2022-09-27 00...</td>\n",
       "      <td>[{'data': '20220929091303', 'disfagia': 'S', '...</td>\n",
       "      <td>...</td>\n",
       "      <td>3.6</td>\n",
       "      <td>5.3</td>\n",
       "      <td>13.2</td>\n",
       "      <td>139</td>\n",
       "      <td>5.88</td>\n",
       "      <td>20.9</td>\n",
       "      <td>0.08</td>\n",
       "      <td>68.5</td>\n",
       "      <td>39</td>\n",
       "      <td>38</td>\n",
       "    </tr>\n",
       "    <tr>\n",
       "      <th>26</th>\n",
       "      <td>97</td>\n",
       "      <td>F</td>\n",
       "      <td>0</td>\n",
       "      <td>[{'date': '20220419', 'name': 'GLUCOSA Sèrum',...</td>\n",
       "      <td>[]</td>\n",
       "      <td>[{'activitat': '1', 'estatMental': '0', 'humit...</td>\n",
       "      <td>[]</td>\n",
       "      <td>[]</td>\n",
       "      <td>[{'codi': 'C09BA', 'dataInici': '2022-04-17 00...</td>\n",
       "      <td>[]</td>\n",
       "      <td>...</td>\n",
       "      <td>3.2</td>\n",
       "      <td>6.5</td>\n",
       "      <td>12.0</td>\n",
       "      <td>156.9</td>\n",
       "      <td>14.71</td>\n",
       "      <td>5.0</td>\n",
       "      <td>11.37</td>\n",
       "      <td>119.7</td>\n",
       "      <td>52</td>\n",
       "      <td>48</td>\n",
       "    </tr>\n",
       "    <tr>\n",
       "      <th>27</th>\n",
       "      <td>100</td>\n",
       "      <td>M</td>\n",
       "      <td>0</td>\n",
       "      <td>[]</td>\n",
       "      <td>[]</td>\n",
       "      <td>[{'activitat': '3', 'estatMental': '0', 'humit...</td>\n",
       "      <td>[]</td>\n",
       "      <td>[{'valor': '0', 'data': '2021-09-14'}, {'valor...</td>\n",
       "      <td>[{'codi': 'C08CA', 'dataInici': '2020-11-23 00...</td>\n",
       "      <td>[{'data': '20201125131827', 'disfagia': 'S', '...</td>\n",
       "      <td>...</td>\n",
       "      <td>None</td>\n",
       "      <td>None</td>\n",
       "      <td>None</td>\n",
       "      <td>None</td>\n",
       "      <td>None</td>\n",
       "      <td>None</td>\n",
       "      <td>None</td>\n",
       "      <td>None</td>\n",
       "      <td>None</td>\n",
       "      <td>None</td>\n",
       "    </tr>\n",
       "    <tr>\n",
       "      <th>28</th>\n",
       "      <td>95</td>\n",
       "      <td>F</td>\n",
       "      <td>0</td>\n",
       "      <td>[{'date': '20220526', 'name': 'GLUCOSA Sèrum',...</td>\n",
       "      <td>[]</td>\n",
       "      <td>[{'activitat': '3', 'estatMental': '0', 'humit...</td>\n",
       "      <td>[]</td>\n",
       "      <td>[{'valor': '0', 'data': '2022-05-30'}]</td>\n",
       "      <td>[{'codi': 'C10AA', 'dataInici': '2020-11-18 00...</td>\n",
       "      <td>[{'data': '20220529115841', 'disfagia': 'S', '...</td>\n",
       "      <td>...</td>\n",
       "      <td>3.5</td>\n",
       "      <td>5.8</td>\n",
       "      <td>8.8</td>\n",
       "      <td>186.4</td>\n",
       "      <td>8.31</td>\n",
       "      <td>11.7</td>\n",
       "      <td>2.33</td>\n",
       "      <td>49.9</td>\n",
       "      <td>51</td>\n",
       "      <td>48</td>\n",
       "    </tr>\n",
       "    <tr>\n",
       "      <th>29</th>\n",
       "      <td>97</td>\n",
       "      <td>F</td>\n",
       "      <td>0</td>\n",
       "      <td>[]</td>\n",
       "      <td>[]</td>\n",
       "      <td>[{'activitat': '3', 'estatMental': '2', 'humit...</td>\n",
       "      <td>[]</td>\n",
       "      <td>[]</td>\n",
       "      <td>[{'codi': 'N02BE', 'dataInici': '2020-11-30 00...</td>\n",
       "      <td>[]</td>\n",
       "      <td>...</td>\n",
       "      <td>None</td>\n",
       "      <td>None</td>\n",
       "      <td>None</td>\n",
       "      <td>None</td>\n",
       "      <td>None</td>\n",
       "      <td>None</td>\n",
       "      <td>None</td>\n",
       "      <td>None</td>\n",
       "      <td>None</td>\n",
       "      <td>None</td>\n",
       "    </tr>\n",
       "    <tr>\n",
       "      <th>30</th>\n",
       "      <td>83</td>\n",
       "      <td>F</td>\n",
       "      <td>0</td>\n",
       "      <td>[]</td>\n",
       "      <td>[{'imc': '', 'anorexia': '2', 'perduaPes': '3'...</td>\n",
       "      <td>[{'activitat': '0', 'estatMental': '0', 'humit...</td>\n",
       "      <td>[]</td>\n",
       "      <td>[{'valor': '71.5', 'data': '2020-12-07'}, {'va...</td>\n",
       "      <td>[{'codi': 'C08DB', 'dataInici': '2020-12-04 00...</td>\n",
       "      <td>[]</td>\n",
       "      <td>...</td>\n",
       "      <td>None</td>\n",
       "      <td>None</td>\n",
       "      <td>None</td>\n",
       "      <td>None</td>\n",
       "      <td>None</td>\n",
       "      <td>None</td>\n",
       "      <td>None</td>\n",
       "      <td>None</td>\n",
       "      <td>None</td>\n",
       "      <td>None</td>\n",
       "    </tr>\n",
       "    <tr>\n",
       "      <th>31</th>\n",
       "      <td>89</td>\n",
       "      <td>M</td>\n",
       "      <td>0</td>\n",
       "      <td>[{'date': '20220318', 'name': 'BILIRUBINA TOTA...</td>\n",
       "      <td>[{'imc': '', 'anorexia': '', 'perduaPes': '', ...</td>\n",
       "      <td>[{'activitat': '2', 'estatMental': '1', 'humit...</td>\n",
       "      <td>[]</td>\n",
       "      <td>[{'valor': '75', 'data': '2022-01-11'}, {'valo...</td>\n",
       "      <td>[{'codi': 'C10AA', 'dataInici': '2021-12-23 00...</td>\n",
       "      <td>[{'data': '20220119101523', 'disfagia': 'N', '...</td>\n",
       "      <td>...</td>\n",
       "      <td>3.1</td>\n",
       "      <td>5.9</td>\n",
       "      <td>11.8</td>\n",
       "      <td>108.2</td>\n",
       "      <td>8.81</td>\n",
       "      <td>32.6</td>\n",
       "      <td>3.15</td>\n",
       "      <td>24.9</td>\n",
       "      <td>&gt;60</td>\n",
       "      <td>78</td>\n",
       "    </tr>\n",
       "    <tr>\n",
       "      <th>32</th>\n",
       "      <td>81</td>\n",
       "      <td>M</td>\n",
       "      <td>0</td>\n",
       "      <td>[]</td>\n",
       "      <td>[]</td>\n",
       "      <td>[{'activitat': '2', 'estatMental': '1', 'humit...</td>\n",
       "      <td>[]</td>\n",
       "      <td>[]</td>\n",
       "      <td>[{'codi': 'C10AA', 'dataInici': '2020-12-23 00...</td>\n",
       "      <td>[]</td>\n",
       "      <td>...</td>\n",
       "      <td>None</td>\n",
       "      <td>None</td>\n",
       "      <td>None</td>\n",
       "      <td>None</td>\n",
       "      <td>None</td>\n",
       "      <td>None</td>\n",
       "      <td>None</td>\n",
       "      <td>None</td>\n",
       "      <td>None</td>\n",
       "      <td>None</td>\n",
       "    </tr>\n",
       "    <tr>\n",
       "      <th>33</th>\n",
       "      <td>21</td>\n",
       "      <td>F</td>\n",
       "      <td>0</td>\n",
       "      <td>[]</td>\n",
       "      <td>[]</td>\n",
       "      <td>[]</td>\n",
       "      <td>[]</td>\n",
       "      <td>[]</td>\n",
       "      <td>[{'codi': 'N02BB', 'dataInici': '2020-12-18 00...</td>\n",
       "      <td>[]</td>\n",
       "      <td>...</td>\n",
       "      <td>None</td>\n",
       "      <td>None</td>\n",
       "      <td>None</td>\n",
       "      <td>None</td>\n",
       "      <td>None</td>\n",
       "      <td>None</td>\n",
       "      <td>None</td>\n",
       "      <td>None</td>\n",
       "      <td>None</td>\n",
       "      <td>None</td>\n",
       "    </tr>\n",
       "    <tr>\n",
       "      <th>34</th>\n",
       "      <td>96</td>\n",
       "      <td>F</td>\n",
       "      <td>0</td>\n",
       "      <td>[]</td>\n",
       "      <td>[{'imc': '', 'anorexia': '', 'perduaPes': '', ...</td>\n",
       "      <td>[{'activitat': '1', 'estatMental': '1', 'humit...</td>\n",
       "      <td>[]</td>\n",
       "      <td>[{'valor': '51.5', 'data': '2021-01-14'}]</td>\n",
       "      <td>[{'codi': 'N02AA', 'dataInici': '2021-01-01 00...</td>\n",
       "      <td>[]</td>\n",
       "      <td>...</td>\n",
       "      <td>None</td>\n",
       "      <td>None</td>\n",
       "      <td>None</td>\n",
       "      <td>None</td>\n",
       "      <td>None</td>\n",
       "      <td>None</td>\n",
       "      <td>None</td>\n",
       "      <td>None</td>\n",
       "      <td>None</td>\n",
       "      <td>None</td>\n",
       "    </tr>\n",
       "    <tr>\n",
       "      <th>35</th>\n",
       "      <td>77</td>\n",
       "      <td>M</td>\n",
       "      <td>0</td>\n",
       "      <td>[]</td>\n",
       "      <td>[]</td>\n",
       "      <td>[]</td>\n",
       "      <td>[]</td>\n",
       "      <td>[]</td>\n",
       "      <td>[{'codi': 'C01AA', 'dataInici': '2021-01-09 00...</td>\n",
       "      <td>[]</td>\n",
       "      <td>...</td>\n",
       "      <td>None</td>\n",
       "      <td>None</td>\n",
       "      <td>None</td>\n",
       "      <td>None</td>\n",
       "      <td>None</td>\n",
       "      <td>None</td>\n",
       "      <td>None</td>\n",
       "      <td>None</td>\n",
       "      <td>None</td>\n",
       "      <td>None</td>\n",
       "    </tr>\n",
       "    <tr>\n",
       "      <th>36</th>\n",
       "      <td>70</td>\n",
       "      <td>M</td>\n",
       "      <td>0</td>\n",
       "      <td>[{'date': '20220309', 'name': 'GLUCOSA Sèrum',...</td>\n",
       "      <td>[]</td>\n",
       "      <td>[{'activitat': '0', 'estatMental': '0', 'humit...</td>\n",
       "      <td>[]</td>\n",
       "      <td>[]</td>\n",
       "      <td>[{'codi': 'N02BE', 'dataInici': '2021-01-11 00...</td>\n",
       "      <td>[]</td>\n",
       "      <td>...</td>\n",
       "      <td>4.4</td>\n",
       "      <td>6.2</td>\n",
       "      <td>15.3</td>\n",
       "      <td>177</td>\n",
       "      <td>6.54</td>\n",
       "      <td>22.6</td>\n",
       "      <td>0.28</td>\n",
       "      <td>31.3</td>\n",
       "      <td>None</td>\n",
       "      <td>71</td>\n",
       "    </tr>\n",
       "    <tr>\n",
       "      <th>37</th>\n",
       "      <td>86</td>\n",
       "      <td>M</td>\n",
       "      <td>0</td>\n",
       "      <td>[{'date': '20221003', 'name': 'GLUCOSA Sèrum',...</td>\n",
       "      <td>[{'imc': '', 'anorexia': '', 'perduaPes': '', ...</td>\n",
       "      <td>[{'activitat': '2', 'estatMental': '1', 'humit...</td>\n",
       "      <td>[]</td>\n",
       "      <td>[{'valor': '72', 'data': '2022-10-09'}]</td>\n",
       "      <td>[{'codi': 'G04CA', 'dataInici': '2022-09-26 00...</td>\n",
       "      <td>[{'data': '20221012122425', 'disfagia': 'S', '...</td>\n",
       "      <td>...</td>\n",
       "      <td>2.9</td>\n",
       "      <td>5.6</td>\n",
       "      <td>13.5</td>\n",
       "      <td>119.5</td>\n",
       "      <td>8.55</td>\n",
       "      <td>9.5</td>\n",
       "      <td>8.16</td>\n",
       "      <td>114.2</td>\n",
       "      <td>None</td>\n",
       "      <td>46</td>\n",
       "    </tr>\n",
       "    <tr>\n",
       "      <th>38</th>\n",
       "      <td>90</td>\n",
       "      <td>M</td>\n",
       "      <td>0</td>\n",
       "      <td>[{'date': '20220809', 'name': 'GLUCOSA Sèrum',...</td>\n",
       "      <td>[]</td>\n",
       "      <td>[{'activitat': '3', 'estatMental': '0', 'humit...</td>\n",
       "      <td>[]</td>\n",
       "      <td>[]</td>\n",
       "      <td>[{'codi': 'N02BE', 'dataInici': '2022-10-27 00...</td>\n",
       "      <td>[{'data': '20221031103922', 'pacientNoColabora...</td>\n",
       "      <td>...</td>\n",
       "      <td>Extracció no realitzada</td>\n",
       "      <td>5.0</td>\n",
       "      <td>11.9</td>\n",
       "      <td>Extracció no realitzada</td>\n",
       "      <td>15.16</td>\n",
       "      <td>13.9</td>\n",
       "      <td>5.87</td>\n",
       "      <td>45.7</td>\n",
       "      <td>Extracció no realitzada</td>\n",
       "      <td>52</td>\n",
       "    </tr>\n",
       "    <tr>\n",
       "      <th>39</th>\n",
       "      <td>87</td>\n",
       "      <td>F</td>\n",
       "      <td>0</td>\n",
       "      <td>[{'date': '20230619', 'name': 'GLUCOSA Sèrum',...</td>\n",
       "      <td>[]</td>\n",
       "      <td>[{'activitat': '1', 'estatMental': '0', 'humit...</td>\n",
       "      <td>[]</td>\n",
       "      <td>[]</td>\n",
       "      <td>[{'codi': 'N02BE', 'dataInici': '2021-01-17 00...</td>\n",
       "      <td>[{'data': '20220111085147', 'disfagia': 'S', '...</td>\n",
       "      <td>...</td>\n",
       "      <td>None</td>\n",
       "      <td>6.2</td>\n",
       "      <td>11.2</td>\n",
       "      <td>None</td>\n",
       "      <td>22.39</td>\n",
       "      <td>X</td>\n",
       "      <td>14.21</td>\n",
       "      <td>30.7</td>\n",
       "      <td>None</td>\n",
       "      <td>&gt;90</td>\n",
       "    </tr>\n",
       "    <tr>\n",
       "      <th>40</th>\n",
       "      <td>96</td>\n",
       "      <td>M</td>\n",
       "      <td>0</td>\n",
       "      <td>[{'date': '20220319', 'name': 'GLUCOSA Sèrum',...</td>\n",
       "      <td>[]</td>\n",
       "      <td>[{'activitat': '1', 'estatMental': '1', 'humit...</td>\n",
       "      <td>[]</td>\n",
       "      <td>[]</td>\n",
       "      <td>[{'codi': 'G04CA', 'dataInici': '2021-01-28 00...</td>\n",
       "      <td>[]</td>\n",
       "      <td>...</td>\n",
       "      <td>2.4</td>\n",
       "      <td>4.6</td>\n",
       "      <td>12.4</td>\n",
       "      <td>157</td>\n",
       "      <td>6.97</td>\n",
       "      <td>15.4</td>\n",
       "      <td>4.55</td>\n",
       "      <td>84.6</td>\n",
       "      <td>22</td>\n",
       "      <td>18</td>\n",
       "    </tr>\n",
       "    <tr>\n",
       "      <th>41</th>\n",
       "      <td>93</td>\n",
       "      <td>F</td>\n",
       "      <td>0</td>\n",
       "      <td>[{'date': '20221013', 'name': 'GLUCOSA Sèrum',...</td>\n",
       "      <td>[]</td>\n",
       "      <td>[{'activitat': '1', 'estatMental': '1', 'humit...</td>\n",
       "      <td>[]</td>\n",
       "      <td>[{'valor': '0', 'data': '2023-06-02'}, {'valor...</td>\n",
       "      <td>[{'codi': 'C10AA', 'dataInici': '2021-02-05 00...</td>\n",
       "      <td>[{'data': '20230530155654', 'disfagia': 'S', '...</td>\n",
       "      <td>...</td>\n",
       "      <td>3.5</td>\n",
       "      <td>6.7</td>\n",
       "      <td>13.8</td>\n",
       "      <td>135.7</td>\n",
       "      <td>7.42</td>\n",
       "      <td>27.6</td>\n",
       "      <td>6.43</td>\n",
       "      <td>38.6</td>\n",
       "      <td>&gt;60</td>\n",
       "      <td>48</td>\n",
       "    </tr>\n",
       "    <tr>\n",
       "      <th>42</th>\n",
       "      <td>91</td>\n",
       "      <td>M</td>\n",
       "      <td>0</td>\n",
       "      <td>[]</td>\n",
       "      <td>[{'imc': '', 'anorexia': '', 'perduaPes': '', ...</td>\n",
       "      <td>[{'activitat': '3', 'estatMental': '1', 'humit...</td>\n",
       "      <td>[]</td>\n",
       "      <td>[{'valor': '', 'data': '2021-11-23'}, {'valor'...</td>\n",
       "      <td>[{'codi': 'C08CA', 'dataInici': '2021-06-28 00...</td>\n",
       "      <td>[{'data': '20210628210030', 'disfagiaConeguda'...</td>\n",
       "      <td>...</td>\n",
       "      <td>None</td>\n",
       "      <td>None</td>\n",
       "      <td>None</td>\n",
       "      <td>None</td>\n",
       "      <td>None</td>\n",
       "      <td>None</td>\n",
       "      <td>None</td>\n",
       "      <td>None</td>\n",
       "      <td>None</td>\n",
       "      <td>None</td>\n",
       "    </tr>\n",
       "    <tr>\n",
       "      <th>44</th>\n",
       "      <td>83</td>\n",
       "      <td>F</td>\n",
       "      <td>0</td>\n",
       "      <td>[{'date': '20230508', 'name': 'GLUCOSA Sèrum',...</td>\n",
       "      <td>[]</td>\n",
       "      <td>[{'activitat': '3', 'estatMental': '0', 'humit...</td>\n",
       "      <td>[]</td>\n",
       "      <td>[{'valor': '66', 'data': '2023-05-07'}, {'valo...</td>\n",
       "      <td>[{'codi': 'C09BA', 'dataInici': '2023-05-05 00...</td>\n",
       "      <td>[]</td>\n",
       "      <td>...</td>\n",
       "      <td>3.2</td>\n",
       "      <td>6.6</td>\n",
       "      <td>8.5</td>\n",
       "      <td>100.1</td>\n",
       "      <td>10.79</td>\n",
       "      <td>12.0</td>\n",
       "      <td>9.81</td>\n",
       "      <td>31.4</td>\n",
       "      <td>&gt;60</td>\n",
       "      <td>83</td>\n",
       "    </tr>\n",
       "    <tr>\n",
       "      <th>45</th>\n",
       "      <td>85</td>\n",
       "      <td>M</td>\n",
       "      <td>0</td>\n",
       "      <td>[{'date': '20220330', 'name': 'GLUCOSA Sèrum',...</td>\n",
       "      <td>[{'imc': '', 'anorexia': '', 'perduaPes': '', ...</td>\n",
       "      <td>[{'activitat': '3', 'estatMental': '1', 'humit...</td>\n",
       "      <td>[]</td>\n",
       "      <td>[{'valor': '0', 'data': '2023-04-28'}]</td>\n",
       "      <td>[{'codi': 'G04CA', 'dataInici': '2021-03-21 00...</td>\n",
       "      <td>[{'data': '20210323123919', 'disfagia': 'S', '...</td>\n",
       "      <td>...</td>\n",
       "      <td>3.6</td>\n",
       "      <td>6.6</td>\n",
       "      <td>13.0</td>\n",
       "      <td>148.5</td>\n",
       "      <td>9.63</td>\n",
       "      <td>7.5</td>\n",
       "      <td>8.64</td>\n",
       "      <td>82.7</td>\n",
       "      <td>&gt;60</td>\n",
       "      <td>50</td>\n",
       "    </tr>\n",
       "    <tr>\n",
       "      <th>46</th>\n",
       "      <td>86</td>\n",
       "      <td>M</td>\n",
       "      <td>0</td>\n",
       "      <td>[]</td>\n",
       "      <td>[]</td>\n",
       "      <td>[{'activitat': '3', 'estatMental': '1', 'humit...</td>\n",
       "      <td>[]</td>\n",
       "      <td>[{'valor': '55.1', 'data': '2021-03-21'}]</td>\n",
       "      <td>[{'codi': 'G04CA', 'dataInici': '2021-03-20 00...</td>\n",
       "      <td>[{'data': '20210721140136', 'disfagia': 'S', '...</td>\n",
       "      <td>...</td>\n",
       "      <td>None</td>\n",
       "      <td>None</td>\n",
       "      <td>None</td>\n",
       "      <td>None</td>\n",
       "      <td>None</td>\n",
       "      <td>None</td>\n",
       "      <td>None</td>\n",
       "      <td>None</td>\n",
       "      <td>None</td>\n",
       "      <td>None</td>\n",
       "    </tr>\n",
       "    <tr>\n",
       "      <th>47</th>\n",
       "      <td>94</td>\n",
       "      <td>M</td>\n",
       "      <td>0</td>\n",
       "      <td>[]</td>\n",
       "      <td>[]</td>\n",
       "      <td>[{'activitat': '3', 'estatMental': '1', 'humit...</td>\n",
       "      <td>[]</td>\n",
       "      <td>[]</td>\n",
       "      <td>[{'codi': 'C09AA', 'dataInici': '2021-03-23 00...</td>\n",
       "      <td>[{'data': '20210325091551', 'disfagia': 'S', '...</td>\n",
       "      <td>...</td>\n",
       "      <td>None</td>\n",
       "      <td>None</td>\n",
       "      <td>None</td>\n",
       "      <td>None</td>\n",
       "      <td>None</td>\n",
       "      <td>None</td>\n",
       "      <td>None</td>\n",
       "      <td>None</td>\n",
       "      <td>None</td>\n",
       "      <td>None</td>\n",
       "    </tr>\n",
       "    <tr>\n",
       "      <th>48</th>\n",
       "      <td>90</td>\n",
       "      <td>M</td>\n",
       "      <td>0</td>\n",
       "      <td>[{'date': '20220303', 'name': 'GLUCOSA Sèrum',...</td>\n",
       "      <td>[]</td>\n",
       "      <td>[{'activitat': '3', 'estatMental': '0', 'humit...</td>\n",
       "      <td>[]</td>\n",
       "      <td>[{'valor': '90', 'data': '2021-03-30'}, {'valo...</td>\n",
       "      <td>[{'codi': 'G04CA', 'dataInici': '2021-03-25 00...</td>\n",
       "      <td>[{'data': '20210330124628', 'disfagia': 'N', '...</td>\n",
       "      <td>...</td>\n",
       "      <td>None</td>\n",
       "      <td>None</td>\n",
       "      <td>12.6</td>\n",
       "      <td>113</td>\n",
       "      <td>5.63</td>\n",
       "      <td>37.7</td>\n",
       "      <td>0.2</td>\n",
       "      <td>33.0</td>\n",
       "      <td>None</td>\n",
       "      <td>54</td>\n",
       "    </tr>\n",
       "    <tr>\n",
       "      <th>49</th>\n",
       "      <td>73</td>\n",
       "      <td>F</td>\n",
       "      <td>0</td>\n",
       "      <td>[{'date': '20220307', 'name': 'pH/arterial', '...</td>\n",
       "      <td>[{'imc': '3', 'anorexia': '1', 'perduaPes': '1...</td>\n",
       "      <td>[{'activitat': '3', 'estatMental': '0', 'humit...</td>\n",
       "      <td>[]</td>\n",
       "      <td>[{'valor': '143.200', 'data': '2021-09-17'}, {...</td>\n",
       "      <td>[{'codi': 'C10AA', 'dataInici': '2021-08-14 00...</td>\n",
       "      <td>[{'data': '20211216113742', 'disfagia': 'N', '...</td>\n",
       "      <td>...</td>\n",
       "      <td>3.9</td>\n",
       "      <td>5.9</td>\n",
       "      <td>12.1</td>\n",
       "      <td>211</td>\n",
       "      <td>5.79</td>\n",
       "      <td>22.8</td>\n",
       "      <td>0.54</td>\n",
       "      <td>107.9</td>\n",
       "      <td>11</td>\n",
       "      <td>&lt;15</td>\n",
       "    </tr>\n",
       "  </tbody>\n",
       "</table>\n",
       "<p>49 rows × 43 columns</p>\n",
       "</div>"
      ]
     },
     "execution_count": 1256,
     "metadata": {},
     "output_type": "execute_result"
    }
   ],
   "execution_count": 1256
  },
  {
   "metadata": {},
   "cell_type": "markdown",
   "source": "Sin aplicar la ultima condicion OR, es decir, queriendo nos devuelva solo las filas que cumplan las 3 condiciones, nos devuelve la: 4, 25, 42, 45 y 48. Sino, nos devuelve todas menos la 43, la cual no tiene un diagnostico de pneumonia.",
   "id": "cd5fadcecebd554d"
  },
  {
   "metadata": {},
   "cell_type": "markdown",
   "source": "Ahora que he distribuido los datos en 3 grupos, puedo empezar a analizar su contenido\n",
   "id": "263c2b8c090f6f10"
  },
  {
   "metadata": {},
   "cell_type": "markdown",
   "source": "## Número",
   "id": "de24374f27e143a3"
  },
  {
   "metadata": {
    "ExecuteTime": {
     "end_time": "2024-04-15T09:29:23.530521Z",
     "start_time": "2024-04-15T09:29:23.522007Z"
    }
   },
   "cell_type": "code",
   "source": [
    "num_CON_PA = len(CON_PA)\n",
    "num_CON_PA_MECVV= len(CON_PA_MECVV)\n",
    "num_SIN_PA = len(SIN_PA)\n",
    "\n",
    "print(num_CON_PA, num_CON_PA_MECVV, num_SIN_PA)"
   ],
   "id": "b1daff0f4c5e68b3",
   "outputs": [
    {
     "name": "stdout",
     "output_type": "stream",
     "text": [
      "17 10 49\n"
     ]
    }
   ],
   "execution_count": 1257
  },
  {
   "metadata": {},
   "cell_type": "markdown",
   "source": "Esto también se puede ver con tan solo mirar las filas que han salido en el apartado anterior, donde vemos que la tabla de CON_PA tiene 17 filas, la de CON_PA_MECVV tiene 10 y la de SIN_PA tiene 49.",
   "id": "8b5e025c0f62a042"
  },
  {
   "metadata": {},
   "cell_type": "markdown",
   "source": "#### Pvalor",
   "id": "d1353b7869144ecd"
  },
  {
   "metadata": {},
   "cell_type": "markdown",
   "source": "Para calcular correctamente el p-valor, primero comprobaré si mis datos siguen una distribución normal. Si es así, realizaré un T-test, sino, un test de Mann-Whitney",
   "id": "82a9b5193722d77c"
  },
  {
   "metadata": {},
   "cell_type": "markdown",
   "source": "##### Normalidad",
   "id": "683bdd2b91f5207c"
  },
  {
   "metadata": {
    "ExecuteTime": {
     "end_time": "2024-04-15T09:29:24.159666Z",
     "start_time": "2024-04-15T09:29:24.152839Z"
    }
   },
   "cell_type": "code",
   "source": [
    "stat, p_value = shapiro(range(num_CON_PA))\n",
    "print(f\"Estadístico W = {stat:.4f}\")\n",
    "print(f\"Valor p = {p_value:.4f}\")\n",
    "\n",
    "alpha = 0.05\n",
    "if p_value < alpha:\n",
    "    print(\"El número de filas no sigue una distribución normal (rechazar H0).\")\n",
    "else:\n",
    "    print(\"El número de filas sigue una distribución normal (aceptar H0).\")"
   ],
   "id": "743c37ce473c94f1",
   "outputs": [
    {
     "name": "stdout",
     "output_type": "stream",
     "text": [
      "Estadístico W = 0.9621\n",
      "Valor p = 0.6704\n",
      "El número de filas sigue una distribución normal (aceptar H0).\n"
     ]
    }
   ],
   "execution_count": 1258
  },
  {
   "metadata": {
    "ExecuteTime": {
     "end_time": "2024-04-15T09:29:24.543658Z",
     "start_time": "2024-04-15T09:29:24.539323Z"
    }
   },
   "cell_type": "code",
   "source": [
    "stat, p_value = shapiro(range(num_CON_PA_MECVV))\n",
    "print(f\"Estadístico W = {stat:.4f}\")\n",
    "print(f\"Valor p = {p_value:.4f}\")\n",
    "\n",
    "alpha = 0.05\n",
    "if p_value < alpha:\n",
    "    print(\"El número de filas no sigue una distribución normal (rechazar H0).\")\n",
    "else:\n",
    "    print(\"El número de filas sigue una distribución normal (aceptar H0).\")"
   ],
   "id": "2fae2fc31541cf19",
   "outputs": [
    {
     "name": "stdout",
     "output_type": "stream",
     "text": [
      "Estadístico W = 0.9702\n",
      "Valor p = 0.8924\n",
      "El número de filas sigue una distribución normal (aceptar H0).\n"
     ]
    }
   ],
   "execution_count": 1259
  },
  {
   "metadata": {
    "ExecuteTime": {
     "end_time": "2024-04-15T09:29:25.704740Z",
     "start_time": "2024-04-15T09:29:25.699066Z"
    }
   },
   "cell_type": "code",
   "source": [
    "stat, p_value = shapiro(range(num_SIN_PA))\n",
    "print(f\"Estadístico W = {stat:.4f}\")\n",
    "print(f\"Valor p = {p_value:.4f}\")\n",
    "\n",
    "alpha = 0.05\n",
    "if p_value < alpha:\n",
    "    print(\"El número de filas no sigue una distribución normal (rechazar H0).\")\n",
    "else:\n",
    "    print(\"El número de filas sigue una distribución normal (aceptar H0).\")"
   ],
   "id": "165187ea9b6df98f",
   "outputs": [
    {
     "name": "stdout",
     "output_type": "stream",
     "text": [
      "Estadístico W = 0.9556\n",
      "Valor p = 0.0626\n",
      "El número de filas sigue una distribución normal (aceptar H0).\n"
     ]
    }
   ],
   "execution_count": 1260
  },
  {
   "metadata": {},
   "cell_type": "markdown",
   "source": "Ahora realizaremos el T-test, teniendo en cuenta que un valor inferior a 0.05 indicará que existen diferencias significativas entre los 2 grupos comparados",
   "id": "8fe294302edf381e"
  },
  {
   "metadata": {
    "ExecuteTime": {
     "end_time": "2024-04-15T09:29:26.080654Z",
     "start_time": "2024-04-15T09:29:26.072693Z"
    }
   },
   "cell_type": "code",
   "source": [
    "t_stat_12, p_val_12 = ttest_ind(CON_PA.index, CON_PA_MECVV.index, equal_var=False)\n",
    "print(f\"P-valor entre CON_PA y CON_PA_MECVV: {p_val_12:.4f}\")\n",
    "alpha = 0.05\n",
    "if p_value < alpha:\n",
    "    print(\"Existen diferencias significativas entre los 2 grupos.\")\n",
    "else:\n",
    "    print(\"No existen diferencias significativas entre los 2 grupos.\")"
   ],
   "id": "99e17be77f3b5a88",
   "outputs": [
    {
     "name": "stdout",
     "output_type": "stream",
     "text": [
      "P-valor entre CON_PA y CON_PA_MECVV: 0.5246\n",
      "No existen diferencias significativas entre los 2 grupos.\n"
     ]
    }
   ],
   "execution_count": 1261
  },
  {
   "metadata": {
    "ExecuteTime": {
     "end_time": "2024-04-15T09:29:26.796519Z",
     "start_time": "2024-04-15T09:29:26.786723Z"
    }
   },
   "cell_type": "code",
   "source": [
    "t_stat_13, p_val_13 = ttest_ind(CON_PA.index, SIN_PA.index, equal_var=False)\n",
    "print(f\"P-valor entre CON_PA y SIN_PA: {p_val_13:.4f}\")\n",
    "alpha = 0.05\n",
    "if p_value < alpha:\n",
    "    print(\"Existen diferencias significativas entre los 2 grupos.\")\n",
    "else:\n",
    "    print(\"No existen diferencias significativas entre los 2 grupos.\")"
   ],
   "id": "e8ba9017a43c0936",
   "outputs": [
    {
     "name": "stdout",
     "output_type": "stream",
     "text": [
      "P-valor entre CON_PA y SIN_PA: 0.7664\n",
      "No existen diferencias significativas entre los 2 grupos.\n"
     ]
    }
   ],
   "execution_count": 1262
  },
  {
   "metadata": {
    "ExecuteTime": {
     "end_time": "2024-04-15T09:29:27.105056Z",
     "start_time": "2024-04-15T09:29:27.097229Z"
    }
   },
   "cell_type": "code",
   "source": [
    "t_stat_23, p_val_23 = ttest_ind(CON_PA_MECVV.index, SIN_PA.index, equal_var=False)\n",
    "print(f\"P-valor entre CON_PA_MECVV y SIN_PA: {p_val_12:.4f}\")\n",
    "alpha = 0.05\n",
    "if p_value < alpha:\n",
    "    print(\"Existen diferencias significativas entre los 2 grupos.\")\n",
    "else:\n",
    "    print(\"No existen diferencias significativas entre los 2 grupos.\")"
   ],
   "id": "e935223f0b0d1c29",
   "outputs": [
    {
     "name": "stdout",
     "output_type": "stream",
     "text": [
      "P-valor entre CON_PA_MECVV y SIN_PA: 0.5246\n",
      "No existen diferencias significativas entre los 2 grupos.\n"
     ]
    }
   ],
   "execution_count": 1263
  },
  {
   "metadata": {},
   "cell_type": "markdown",
   "source": "## Edat",
   "id": "6dffa2bdf3f2d9b7"
  },
  {
   "metadata": {
    "ExecuteTime": {
     "end_time": "2024-04-15T09:29:27.676065Z",
     "start_time": "2024-04-15T09:29:27.669713Z"
    }
   },
   "cell_type": "code",
   "source": [
    "edad_CON_PA = CON_PA['edat'].mean()\n",
    "desviacion_estandar_edad = CON_PA['edat'].std()\n",
    "\n",
    "resultado = f\"{edad_CON_PA:.2f} ± {desviacion_estandar_edad:.2f}\"\n",
    "print(\"Promedio ± Desviación Estándar de la Edad:\", resultado)\n"
   ],
   "id": "41c75a84cd8aa55b",
   "outputs": [
    {
     "name": "stdout",
     "output_type": "stream",
     "text": [
      "Promedio ± Desviación Estándar de la Edad: 87.06 ± 8.99\n"
     ]
    }
   ],
   "execution_count": 1264
  },
  {
   "metadata": {
    "ExecuteTime": {
     "end_time": "2024-04-15T09:29:27.950194Z",
     "start_time": "2024-04-15T09:29:27.943257Z"
    }
   },
   "cell_type": "code",
   "source": [
    "edad_CON_PA_MECVV = CON_PA_MECVV['edat'].mean()\n",
    "desviacion_estandar_edad = CON_PA_MECVV['edat'].std()\n",
    "\n",
    "resultado = f\"{edad_CON_PA_MECVV:.2f} ± {desviacion_estandar_edad:.2f}\"\n",
    "print(\"Promedio ± Desviación Estándar de la Edad:\", resultado)"
   ],
   "id": "828a733cc06db987",
   "outputs": [
    {
     "name": "stdout",
     "output_type": "stream",
     "text": [
      "Promedio ± Desviación Estándar de la Edad: 88.90 ± 8.67\n"
     ]
    }
   ],
   "execution_count": 1265
  },
  {
   "metadata": {
    "ExecuteTime": {
     "end_time": "2024-04-15T09:29:28.452978Z",
     "start_time": "2024-04-15T09:29:28.447798Z"
    }
   },
   "cell_type": "code",
   "source": [
    "edad_SIN_PA = SIN_PA['edat'].mean()\n",
    "desviacion_estandar_edad = SIN_PA['edat'].std()\n",
    "\n",
    "resultado = f\"{edad_SIN_PA:.2f} ± {desviacion_estandar_edad:.2f}\"\n",
    "print(\"Promedio ± Desviación Estándar de la Edad:\", resultado)"
   ],
   "id": "a67a8021e9b1dbb4",
   "outputs": [
    {
     "name": "stdout",
     "output_type": "stream",
     "text": [
      "Promedio ± Desviación Estándar de la Edad: 80.12 ± 17.01\n"
     ]
    }
   ],
   "execution_count": 1266
  },
  {
   "metadata": {},
   "cell_type": "markdown",
   "source": "#### Pvalor",
   "id": "6ab4f09b5204e007"
  },
  {
   "metadata": {},
   "cell_type": "markdown",
   "source": "##### Normalidad ",
   "id": "a5114a4e26281ffb"
  },
  {
   "metadata": {
    "ExecuteTime": {
     "end_time": "2024-04-15T09:29:28.725403Z",
     "start_time": "2024-04-15T09:29:28.718447Z"
    }
   },
   "cell_type": "code",
   "source": [
    "stat, p_value = shapiro(CON_PA['edat'])\n",
    "print(f\"Estadístico W = {stat:.4f}\")\n",
    "print(f\"Valor p = {p_value:.4f}\")\n",
    "\n",
    "alpha = 0.05\n",
    "if p_value < alpha:\n",
    "    print(\"El número de filas no sigue una distribución normal (rechazar H0).\")\n",
    "else:\n",
    "    print(\"El número de filas sigue una distribución normal (aceptar H0).\")"
   ],
   "id": "1b23f9c1a11a4962",
   "outputs": [
    {
     "name": "stdout",
     "output_type": "stream",
     "text": [
      "Estadístico W = 0.9410\n",
      "Valor p = 0.3297\n",
      "El número de filas sigue una distribución normal (aceptar H0).\n"
     ]
    }
   ],
   "execution_count": 1267
  },
  {
   "metadata": {
    "ExecuteTime": {
     "end_time": "2024-04-15T09:29:29.279570Z",
     "start_time": "2024-04-15T09:29:29.274882Z"
    }
   },
   "cell_type": "code",
   "source": [
    "stat, p_value = shapiro(CON_PA_MECVV['edat'])\n",
    "print(f\"Estadístico W = {stat:.4f}\")\n",
    "print(f\"Valor p = {p_value:.4f}\")\n",
    "\n",
    "alpha = 0.05\n",
    "if p_value < alpha:\n",
    "    print(\"El número de filas no sigue una distribución normal (rechazar H0).\")\n",
    "else:\n",
    "    print(\"El número de filas sigue una distribución normal (aceptar H0).\")"
   ],
   "id": "d80fee6a25604ebc",
   "outputs": [
    {
     "name": "stdout",
     "output_type": "stream",
     "text": [
      "Estadístico W = 0.9057\n",
      "Valor p = 0.2528\n",
      "El número de filas sigue una distribución normal (aceptar H0).\n"
     ]
    }
   ],
   "execution_count": 1268
  },
  {
   "metadata": {
    "ExecuteTime": {
     "end_time": "2024-04-15T09:29:29.526031Z",
     "start_time": "2024-04-15T09:29:29.519776Z"
    }
   },
   "cell_type": "code",
   "source": [
    "stat, p_value = shapiro(SIN_PA['edat'])\n",
    "print(f\"Estadístico W = {stat:.4f}\")\n",
    "print(f\"Valor p = {p_value:.4f}\")\n",
    "\n",
    "alpha = 0.05\n",
    "if p_value < alpha:\n",
    "    print(\"El número de filas no sigue una distribución normal (rechazar H0).\")\n",
    "else:\n",
    "    print(\"El número de filas sigue una distribución normal (aceptar H0).\")"
   ],
   "id": "755deefb570bc3ec",
   "outputs": [
    {
     "name": "stdout",
     "output_type": "stream",
     "text": [
      "Estadístico W = 0.8539\n",
      "Valor p = 0.0000\n",
      "El número de filas no sigue una distribución normal (rechazar H0).\n"
     ]
    }
   ],
   "execution_count": 1269
  },
  {
   "metadata": {},
   "cell_type": "markdown",
   "source": "Dado que el último grupo (SIN_PA) no sigue una distribución normal, hay que usar el Test de Mann-Whitney en lugar del T-test para realizar las comparaciones",
   "id": "3baddf7044aef2d7"
  },
  {
   "metadata": {
    "ExecuteTime": {
     "end_time": "2024-04-15T09:29:30.035139Z",
     "start_time": "2024-04-15T09:29:30.027827Z"
    }
   },
   "cell_type": "code",
   "source": [
    "t_stat_12, p_val_12 = ttest_ind(CON_PA['edat'], CON_PA_MECVV['edat'], equal_var=False)\n",
    "print(\"P-valor entre CON_PA y CON_PA_MECVV:\", p_val_12)"
   ],
   "id": "29fe897576a9b6a1",
   "outputs": [
    {
     "name": "stdout",
     "output_type": "stream",
     "text": [
      "P-valor entre CON_PA y CON_PA_MECVV: 0.6051223082851969\n"
     ]
    }
   ],
   "execution_count": 1270
  },
  {
   "metadata": {
    "ExecuteTime": {
     "end_time": "2024-04-15T09:29:30.306212Z",
     "start_time": "2024-04-15T09:29:30.288484Z"
    }
   },
   "cell_type": "code",
   "source": [
    "stat, p_value_13 = mannwhitneyu(CON_PA['edat'], SIN_PA['edat'], alternative='two-sided')\n",
    "print(\"P-valor entre CON_PA y SIN_PA\", p_value_13)"
   ],
   "id": "6718e803d0c6be72",
   "outputs": [
    {
     "name": "stdout",
     "output_type": "stream",
     "text": [
      "P-valor entre CON_PA y SIN_PA 0.1815160884632735\n"
     ]
    }
   ],
   "execution_count": 1271
  },
  {
   "metadata": {
    "ExecuteTime": {
     "end_time": "2024-04-15T09:29:30.776210Z",
     "start_time": "2024-04-15T09:29:30.770128Z"
    }
   },
   "cell_type": "code",
   "source": [
    "stat_23, p_value_23 = mannwhitneyu(CON_PA_MECVV['edat'], SIN_PA['edat'], alternative='two-sided')\n",
    "print(\"P-valor entre CON_PA_MECVV y SIN_PA:\", p_value_23)"
   ],
   "id": "22054ca113138c47",
   "outputs": [
    {
     "name": "stdout",
     "output_type": "stream",
     "text": [
      "P-valor entre CON_PA_MECVV y SIN_PA: 0.11458529353557328\n"
     ]
    }
   ],
   "execution_count": 1272
  },
  {
   "metadata": {},
   "cell_type": "markdown",
   "source": "## Sexo",
   "id": "2e3346df121a556b"
  },
  {
   "metadata": {
    "ExecuteTime": {
     "end_time": "2024-04-15T09:29:31.048054Z",
     "start_time": "2024-04-15T09:29:31.032119Z"
    }
   },
   "cell_type": "code",
   "source": [
    "sexe_CON_PA = CON_PA['sexe'].value_counts()\n",
    "sexe_CON_PA_MECVV = CON_PA_MECVV['sexe'].value_counts()\n",
    "sexe_SIN_PA = SIN_PA['sexe'].value_counts()"
   ],
   "id": "5a08f966e1e21272",
   "outputs": [],
   "execution_count": 1273
  },
  {
   "metadata": {
    "ExecuteTime": {
     "end_time": "2024-04-15T09:29:31.544654Z",
     "start_time": "2024-04-15T09:29:31.538992Z"
    }
   },
   "cell_type": "code",
   "source": [
    "if 'F' in sexe_CON_PA:\n",
    "    percent_female1 = (sexe_CON_PA['F'] / len(CON_PA)) * 100\n",
    "    print(f\"Porcentaje de sexo femenino en CON_PA: {percent_female1:.2f}%\")\n",
    "else:\n",
    "    print(\"No hay datos de sexo femenino en el CON_PA\")"
   ],
   "id": "364e8eeea9fca3bb",
   "outputs": [
    {
     "name": "stdout",
     "output_type": "stream",
     "text": [
      "Porcentaje de sexo femenino en CON_PA: 47.06%\n"
     ]
    }
   ],
   "execution_count": 1274
  },
  {
   "metadata": {
    "ExecuteTime": {
     "end_time": "2024-04-15T09:29:31.802961Z",
     "start_time": "2024-04-15T09:29:31.798194Z"
    }
   },
   "cell_type": "code",
   "source": [
    "if 'F' in sexe_CON_PA_MECVV:\n",
    "    percent_female2 = (sexe_CON_PA_MECVV['F'] / len(CON_PA)) * 100\n",
    "    print(f\"Porcentaje de sexo femenino en DataFrame 2: {percent_female2:.2f}%\")\n",
    "else:\n",
    "    print(\"No hay datos de sexo femenino en el DataFrame 2.\")"
   ],
   "id": "5d2a1124b7cdd9c2",
   "outputs": [
    {
     "name": "stdout",
     "output_type": "stream",
     "text": [
      "Porcentaje de sexo femenino en DataFrame 2: 23.53%\n"
     ]
    }
   ],
   "execution_count": 1275
  },
  {
   "metadata": {
    "ExecuteTime": {
     "end_time": "2024-04-15T09:29:32.177709Z",
     "start_time": "2024-04-15T09:29:32.172661Z"
    }
   },
   "cell_type": "code",
   "source": [
    "if 'F' in sexe_SIN_PA:\n",
    "    percent_female3 = (sexe_SIN_PA['F'] / len(SIN_PA)) * 100\n",
    "    print(f\"Porcentaje de sexo femenino en DataFrame 3: {percent_female3:.2f}%\")\n",
    "else:\n",
    "    print(\"No hay datos de sexo femenino en el DataFrame 3.\")\n"
   ],
   "id": "746275e55a2b6409",
   "outputs": [
    {
     "name": "stdout",
     "output_type": "stream",
     "text": [
      "Porcentaje de sexo femenino en DataFrame 3: 34.69%\n"
     ]
    }
   ],
   "execution_count": 1276
  },
  {
   "metadata": {},
   "cell_type": "markdown",
   "source": "#### Pvalor",
   "id": "cc6603074e3e5cc9"
  },
  {
   "metadata": {},
   "cell_type": "markdown",
   "source": "##### Normalidad",
   "id": "45744dc757ae29f5"
  },
  {
   "metadata": {},
   "cell_type": "markdown",
   "source": "Al ser una variable categórica no se puede comprobar su normalidad. Realizaré directamente un test chi-cuadrado",
   "id": "ca8c9ca5135873ca"
  },
  {
   "metadata": {
    "ExecuteTime": {
     "end_time": "2024-04-15T09:29:32.463225Z",
     "start_time": "2024-04-15T09:29:32.448882Z"
    }
   },
   "cell_type": "code",
   "source": [
    "contingency_table_CON_PA_CON_PA_MECVV = pd.crosstab(index=CON_PA['sexe'], columns=CON_PA_MECVV['sexe'])\n",
    "\n",
    "chi2_CON_PA_CON_PA_MECVV, p_value_CON_PA_CON_PA_MECVV, dof_CON_PA_CON_PA_MECVV, expected_CON_PA_CON_PA_MECVV = chi2_contingency(contingency_table_CON_PA_CON_PA_MECVV)\n",
    "\n",
    "print(\"Estadístico Chi-cuadrado entre CON_PA y CON_PA_MECVV:\", chi2_CON_PA_CON_PA_MECVV)\n",
    "print(\"P-valor entre CON_PA y CON_PA_MECVV:\", p_value_CON_PA_CON_PA_MECVV)\n",
    "\n",
    "if p_value_CON_PA_CON_PA_MECVV < 0.05:\n",
    "    print(\"Hay diferencias significativas entre las distribuciones de sexo en CON_PA y CON_PA_MECVV.\")\n",
    "else:\n",
    "    print(\"No hay diferencias significativas entre las distribuciones de sexo en CON_PA y CON_PA_MECVV.\")"
   ],
   "id": "8ce2d9606227b27c",
   "outputs": [
    {
     "name": "stdout",
     "output_type": "stream",
     "text": [
      "Estadístico Chi-cuadrado entre CON_PA y CON_PA_MECVV: 2.6666666666666665\n",
      "P-valor entre CON_PA y CON_PA_MECVV: 0.10247043485974942\n",
      "No hay diferencias significativas entre las distribuciones de sexo en CON_PA y CON_PA_MECVV.\n"
     ]
    }
   ],
   "execution_count": 1277
  },
  {
   "metadata": {
    "ExecuteTime": {
     "end_time": "2024-04-15T09:29:32.938139Z",
     "start_time": "2024-04-15T09:29:32.927410Z"
    }
   },
   "cell_type": "code",
   "source": [
    "contingency_table_CON_PA_SIN_PA = pd.crosstab(index=CON_PA['sexe'], columns=SIN_PA['sexe'])\n",
    "\n",
    "chi2_CON_PA_SIN_PA, p_value_CON_PA_SIN_PA, dof_CON_PA_SIN_PA, expected_CON_PA_SIN_PA = chi2_contingency(contingency_table_CON_PA_SIN_PA)\n",
    "\n",
    "print(\"Estadístico Chi-cuadrado entre CON_PA y SIN_PA:\", chi2_CON_PA_SIN_PA)\n",
    "print(\"P-valor entre CON_PA y SIN_PA:\", p_value_CON_PA_SIN_PA)\n",
    "\n",
    "if p_value_CON_PA_SIN_PA < 0.05:\n",
    "    print(\"Hay diferencias significativas entre las distribuciones de sexo en CON_PA y SIN_PA.\")\n",
    "else:\n",
    "    print(\"No hay diferencias significativas entre las distribuciones de sexo en CON_PA y SIN_PA.\")"
   ],
   "id": "cb24c00816f2874c",
   "outputs": [
    {
     "name": "stdout",
     "output_type": "stream",
     "text": [
      "Estadístico Chi-cuadrado entre CON_PA y SIN_PA: 13.223042052469136\n",
      "P-valor entre CON_PA y SIN_PA: 0.00027652843917458906\n",
      "Hay diferencias significativas entre las distribuciones de sexo en CON_PA y SIN_PA.\n"
     ]
    }
   ],
   "execution_count": 1278
  },
  {
   "metadata": {
    "ExecuteTime": {
     "end_time": "2024-04-15T09:29:33.202692Z",
     "start_time": "2024-04-15T09:29:33.190097Z"
    }
   },
   "cell_type": "code",
   "source": [
    "contingency_table_CON_PA_MECVV_SIN_PA = pd.crosstab(index=CON_PA_MECVV['sexe'], columns=SIN_PA['sexe'])\n",
    "\n",
    "chi2_CON_PA_MECVV_SIN_PA, p_value_CON_PA_MECVV_SIN_PA, dof_CON_PA_MECVV_SIN_PA, expected_CON_PA_MECVV_SIN_PA = chi2_contingency(contingency_table_CON_PA_MECVV_SIN_PA)\n",
    "\n",
    "print(\"Estadístico Chi-cuadrado entre CON_PA_MECVV y SIN_PA:\", chi2_CON_PA_MECVV_SIN_PA)\n",
    "print(\"P-valor entre CON_PA_MECVV y SIN_PA:\", p_value_CON_PA_MECVV_SIN_PA)\n",
    "\n",
    "if p_value_CON_PA_MECVV_SIN_PA < 0.05:\n",
    "    print(\"Hay diferencias significativas entre las distribuciones de sexo en CON_PA_MECVV y SIN_PA.\")\n",
    "else:\n",
    "    print(\"No hay diferencias significativas entre las distribuciones de sexo en CON_PA_MECVV y SIN_PA.\")"
   ],
   "id": "483a364f11ec7b2a",
   "outputs": [
    {
     "name": "stdout",
     "output_type": "stream",
     "text": [
      "Estadístico Chi-cuadrado entre CON_PA_MECVV y SIN_PA: 6.267361111111111\n",
      "P-valor entre CON_PA_MECVV y SIN_PA: 0.012298217061234292\n",
      "Hay diferencias significativas entre las distribuciones de sexo en CON_PA_MECVV y SIN_PA.\n"
     ]
    }
   ],
   "execution_count": 1279
  },
  {
   "metadata": {},
   "cell_type": "markdown",
   "source": "## Ingressos (admissions)",
   "id": "7c1a4264ca854c74"
  },
  {
   "metadata": {
    "ExecuteTime": {
     "end_time": "2024-04-15T09:29:33.632029Z",
     "start_time": "2024-04-15T09:29:33.627858Z"
    }
   },
   "cell_type": "code",
   "source": [
    "promedio_ingresos = CON_PA['Num_ingresos'].mean()\n",
    "desviacion_estandar_ingresos = CON_PA['Num_ingresos'].std()\n",
    "\n",
    "resultado = f\"{promedio_ingresos:.2f} ± {desviacion_estandar_ingresos:.2f}\"\n",
    "print(\"Promedio ± Desviación Estándar del Número de Ingresos:\", resultado)"
   ],
   "id": "77af35e4e03f23da",
   "outputs": [
    {
     "name": "stdout",
     "output_type": "stream",
     "text": [
      "Promedio ± Desviación Estándar del Número de Ingresos: 5.59 ± 3.37\n"
     ]
    }
   ],
   "execution_count": 1280
  },
  {
   "metadata": {
    "ExecuteTime": {
     "end_time": "2024-04-15T09:29:33.883111Z",
     "start_time": "2024-04-15T09:29:33.877363Z"
    }
   },
   "cell_type": "code",
   "source": [
    "promedio_ingresos = CON_PA_MECVV['Num_ingresos'].mean()\n",
    "desviacion_estandar_ingresos = CON_PA_MECVV['Num_ingresos'].std()\n",
    "\n",
    "resultado = f\"{promedio_ingresos:.2f} ± {desviacion_estandar_ingresos:.2f}\"\n",
    "print(\"Promedio ± Desviación Estándar del Número de Ingresos:\", resultado)"
   ],
   "id": "d08d059cd8a8944a",
   "outputs": [
    {
     "name": "stdout",
     "output_type": "stream",
     "text": [
      "Promedio ± Desviación Estándar del Número de Ingresos: 5.90 ± 2.08\n"
     ]
    }
   ],
   "execution_count": 1281
  },
  {
   "metadata": {
    "ExecuteTime": {
     "end_time": "2024-04-15T09:29:34.356122Z",
     "start_time": "2024-04-15T09:29:34.349599Z"
    }
   },
   "cell_type": "code",
   "source": [
    "promedio_ingresos = SIN_PA['Num_ingresos'].mean()\n",
    "desviacion_estandar_ingresos = SIN_PA['Num_ingresos'].std()\n",
    "\n",
    "resultado = f\"{promedio_ingresos:.2f} ± {desviacion_estandar_ingresos:.2f}\"\n",
    "print(\"Promedio ± Desviación Estándar del Número de Ingresos:\", resultado)"
   ],
   "id": "b0470d00ca90048b",
   "outputs": [
    {
     "name": "stdout",
     "output_type": "stream",
     "text": [
      "Promedio ± Desviación Estándar del Número de Ingresos: 6.69 ± 5.13\n"
     ]
    }
   ],
   "execution_count": 1282
  },
  {
   "metadata": {},
   "cell_type": "markdown",
   "source": "#### Pvalor",
   "id": "ac26e96d348c2e2"
  },
  {
   "metadata": {},
   "cell_type": "markdown",
   "source": "##### Normalidad",
   "id": "840db79f54c49b40"
  },
  {
   "metadata": {
    "ExecuteTime": {
     "end_time": "2024-04-15T09:29:34.604929Z",
     "start_time": "2024-04-15T09:29:34.598182Z"
    }
   },
   "cell_type": "code",
   "source": [
    "stat, p_value = shapiro(CON_PA['Num_ingresos'])\n",
    "print(f\"Estadístico W = {stat:.4f}\")\n",
    "print(f\"Valor p = {p_value:.4f}\")\n",
    "\n",
    "alpha = 0.05\n",
    "if p_value < alpha:\n",
    "    print(\"El número de filas no sigue una distribución normal (rechazar H0).\")\n",
    "else:\n",
    "    print(\"El número de filas sigue una distribución normal (aceptar H0).\")"
   ],
   "id": "549e8f1ce3e357e6",
   "outputs": [
    {
     "name": "stdout",
     "output_type": "stream",
     "text": [
      "Estadístico W = 0.8008\n",
      "Valor p = 0.0021\n",
      "El número de filas no sigue una distribución normal (rechazar H0).\n"
     ]
    }
   ],
   "execution_count": 1283
  },
  {
   "metadata": {
    "ExecuteTime": {
     "end_time": "2024-04-15T09:29:35.081542Z",
     "start_time": "2024-04-15T09:29:35.075926Z"
    }
   },
   "cell_type": "code",
   "source": [
    "stat, p_value = shapiro(CON_PA_MECVV['Num_ingresos'])\n",
    "print(f\"Estadístico W = {stat:.4f}\")\n",
    "print(f\"Valor p = {p_value:.4f}\")\n",
    "\n",
    "alpha = 0.05\n",
    "if p_value < alpha:\n",
    "    print(\"El número de filas no sigue una distribución normal (rechazar H0).\")\n",
    "else:\n",
    "    print(\"El número de filas sigue una distribución normal (aceptar H0).\")"
   ],
   "id": "cf0ae5ced6e0b73a",
   "outputs": [
    {
     "name": "stdout",
     "output_type": "stream",
     "text": [
      "Estadístico W = 0.9558\n",
      "Valor p = 0.7376\n",
      "El número de filas sigue una distribución normal (aceptar H0).\n"
     ]
    }
   ],
   "execution_count": 1284
  },
  {
   "metadata": {
    "ExecuteTime": {
     "end_time": "2024-04-15T09:29:35.362793Z",
     "start_time": "2024-04-15T09:29:35.354987Z"
    }
   },
   "cell_type": "code",
   "source": [
    "stat, p_value = shapiro(SIN_PA['Num_ingresos'])\n",
    "print(f\"Estadístico W = {stat:.4f}\")\n",
    "print(f\"Valor p = {p_value:.4f}\")\n",
    "\n",
    "alpha = 0.05\n",
    "if p_value < alpha:\n",
    "    print(\"El número de filas no sigue una distribución normal (rechazar H0).\")\n",
    "else:\n",
    "    print(\"El número de filas sigue una distribución normal (aceptar H0).\")"
   ],
   "id": "f1d9d97215665bd8",
   "outputs": [
    {
     "name": "stdout",
     "output_type": "stream",
     "text": [
      "Estadístico W = 0.7277\n",
      "Valor p = 0.0000\n",
      "El número de filas no sigue una distribución normal (rechazar H0).\n"
     ]
    }
   ],
   "execution_count": 1285
  },
  {
   "metadata": {},
   "cell_type": "markdown",
   "source": "Tendré que hacer test de Mann-Whitney en las 3 comparaciones ya que 2 de los 3 grupos no siguen una distribución normal.",
   "id": "1b2beae383fae993"
  },
  {
   "metadata": {
    "ExecuteTime": {
     "end_time": "2024-04-15T09:29:35.857876Z",
     "start_time": "2024-04-15T09:29:35.850874Z"
    }
   },
   "cell_type": "code",
   "source": [
    "stat, p_value_12 = mannwhitneyu(CON_PA['Num_ingresos'], CON_PA_MECVV['Num_ingresos'], alternative='two-sided')\n",
    "print(\"P-valor entre CON_PA y CON_PA_MECVV\", p_value_12)"
   ],
   "id": "e1a40734a30212e5",
   "outputs": [
    {
     "name": "stdout",
     "output_type": "stream",
     "text": [
      "P-valor entre CON_PA y CON_PA_MECVV 0.3599581940859352\n"
     ]
    }
   ],
   "execution_count": 1286
  },
  {
   "metadata": {
    "ExecuteTime": {
     "end_time": "2024-04-15T09:29:36.105258Z",
     "start_time": "2024-04-15T09:29:36.097353Z"
    }
   },
   "cell_type": "code",
   "source": [
    "stat, p_value_13 = mannwhitneyu(CON_PA['Num_ingresos'], SIN_PA['Num_ingresos'], alternative='two-sided')\n",
    "print(\"P-valor entre CON_PA y SIN_PA\", p_value_13)"
   ],
   "id": "f2655db5e10960da",
   "outputs": [
    {
     "name": "stdout",
     "output_type": "stream",
     "text": [
      "P-valor entre CON_PA y SIN_PA 0.514931142191354\n"
     ]
    }
   ],
   "execution_count": 1287
  },
  {
   "metadata": {
    "ExecuteTime": {
     "end_time": "2024-04-15T09:29:36.598763Z",
     "start_time": "2024-04-15T09:29:36.592199Z"
    }
   },
   "cell_type": "code",
   "source": [
    "stat, p_value_23 = mannwhitneyu(CON_PA_MECVV['Num_ingresos'], SIN_PA['Num_ingresos'], alternative='two-sided')\n",
    "print(\"P-valor entre CON_PA_MECVV y SIN_PA\", p_value_23)"
   ],
   "id": "b130ccb4c5b7e332",
   "outputs": [
    {
     "name": "stdout",
     "output_type": "stream",
     "text": [
      "P-valor entre CON_PA_MECVV y SIN_PA 0.7831397976578486\n"
     ]
    }
   ],
   "execution_count": 1288
  },
  {
   "metadata": {},
   "cell_type": "markdown",
   "source": "## Disfàgia",
   "id": "d46472f25d1ea9ab"
  },
  {
   "metadata": {
    "ExecuteTime": {
     "end_time": "2024-04-15T09:29:36.843965Z",
     "start_time": "2024-04-15T09:29:36.838561Z"
    }
   },
   "cell_type": "code",
   "source": [
    "disf_CON_PA= (CON_PA['DO_diagnosticada'] == 1.0).mean() * 100\n",
    "print(f\"Porcentaje de disfagia: {disf_CON_PA:.2f}%\")"
   ],
   "id": "1158733fe7259d75",
   "outputs": [
    {
     "name": "stdout",
     "output_type": "stream",
     "text": [
      "Porcentaje de disfagia: 47.06%\n"
     ]
    }
   ],
   "execution_count": 1289
  },
  {
   "metadata": {
    "ExecuteTime": {
     "end_time": "2024-04-15T09:29:37.323101Z",
     "start_time": "2024-04-15T09:29:37.318006Z"
    }
   },
   "cell_type": "code",
   "source": [
    "disf_CON_PA_MECVV = (CON_PA_MECVV['DO_diagnosticada'] == 1.0).mean() * 100\n",
    "print(f\"Porcentaje de disfagia: {disf_CON_PA_MECVV:.2f}%\")"
   ],
   "id": "4105ce4e231d0853",
   "outputs": [
    {
     "name": "stdout",
     "output_type": "stream",
     "text": [
      "Porcentaje de disfagia: 30.00%\n"
     ]
    }
   ],
   "execution_count": 1290
  },
  {
   "metadata": {
    "ExecuteTime": {
     "end_time": "2024-04-15T09:29:37.558947Z",
     "start_time": "2024-04-15T09:29:37.553522Z"
    }
   },
   "cell_type": "code",
   "source": [
    "disf_SIN_PA= (SIN_PA['DO_diagnosticada'] == 1.0).mean() * 100\n",
    "print(f\"Porcentaje de disfagia: {disf_SIN_PA:.2f}%\")"
   ],
   "id": "66a1da5f6068ce03",
   "outputs": [
    {
     "name": "stdout",
     "output_type": "stream",
     "text": [
      "Porcentaje de disfagia: 18.37%\n"
     ]
    }
   ],
   "execution_count": 1291
  },
  {
   "metadata": {},
   "cell_type": "markdown",
   "source": "#### Pvalor",
   "id": "b7f1a5636f342b1b"
  },
  {
   "metadata": {},
   "cell_type": "markdown",
   "source": "##### Normalidad",
   "id": "b9bb9679799a910b"
  },
  {
   "metadata": {
    "ExecuteTime": {
     "end_time": "2024-04-15T09:29:37.986423Z",
     "start_time": "2024-04-15T09:29:37.979234Z"
    }
   },
   "cell_type": "code",
   "source": [
    "stat, p_value = shapiro(CON_PA['DO_diagnosticada'])\n",
    "print(f\"Estadístico W = {stat:.4f}\")\n",
    "print(f\"Valor p = {p_value:.4f}\")\n",
    "\n",
    "alpha = 0.05\n",
    "if p_value < alpha:\n",
    "    print(\"El número de filas no sigue una distribución normal (rechazar H0).\")\n",
    "else:\n",
    "    print(\"El número de filas sigue una distribución normal (aceptar H0).\")"
   ],
   "id": "9068d0a097618db2",
   "outputs": [
    {
     "name": "stdout",
     "output_type": "stream",
     "text": [
      "Estadístico W = 0.6418\n",
      "Valor p = 0.0000\n",
      "El número de filas no sigue una distribución normal (rechazar H0).\n"
     ]
    }
   ],
   "execution_count": 1292
  },
  {
   "metadata": {
    "ExecuteTime": {
     "end_time": "2024-04-15T09:29:38.249123Z",
     "start_time": "2024-04-15T09:29:38.242544Z"
    }
   },
   "cell_type": "code",
   "source": [
    "stat, p_value = shapiro(CON_PA_MECVV['DO_diagnosticada'])\n",
    "print(f\"Estadístico W = {stat:.4f}\")\n",
    "print(f\"Valor p = {p_value:.4f}\")\n",
    "\n",
    "alpha = 0.05\n",
    "if p_value < alpha:\n",
    "    print(\"El número de filas no sigue una distribución normal (rechazar H0).\")\n",
    "else:\n",
    "    print(\"El número de filas sigue una distribución normal (aceptar H0).\")"
   ],
   "id": "511e7760f8696524",
   "outputs": [
    {
     "name": "stdout",
     "output_type": "stream",
     "text": [
      "Estadístico W = 0.5942\n",
      "Valor p = 0.0000\n",
      "El número de filas no sigue una distribución normal (rechazar H0).\n"
     ]
    }
   ],
   "execution_count": 1293
  },
  {
   "metadata": {
    "ExecuteTime": {
     "end_time": "2024-04-15T09:29:38.712086Z",
     "start_time": "2024-04-15T09:29:38.707235Z"
    }
   },
   "cell_type": "code",
   "source": [
    "stat, p_value = shapiro(SIN_PA['DO_diagnosticada'])\n",
    "print(f\"Estadístico W = {stat:.4f}\")\n",
    "print(f\"Valor p = {p_value:.4f}\")\n",
    "\n",
    "alpha = 0.05\n",
    "if p_value < alpha:\n",
    "    print(\"El número de filas no sigue una distribución normal (rechazar H0).\")\n",
    "else:\n",
    "    print(\"El número de filas sigue una distribución normal (aceptar H0).\")"
   ],
   "id": "e8b5dab7a1b4a308",
   "outputs": [
    {
     "name": "stdout",
     "output_type": "stream",
     "text": [
      "Estadístico W = 0.4716\n",
      "Valor p = 0.0000\n",
      "El número de filas no sigue una distribución normal (rechazar H0).\n"
     ]
    }
   ],
   "execution_count": 1294
  },
  {
   "metadata": {},
   "cell_type": "markdown",
   "source": "Ningun grupo sigue una distribución normal, y como previamente he transformado esta variable categorica (NO, SI) en una binaria (0,1), puedo aplicar el test de Mann-Whitney",
   "id": "71c163bcb667ae65"
  },
  {
   "metadata": {
    "ExecuteTime": {
     "end_time": "2024-04-15T09:29:38.977449Z",
     "start_time": "2024-04-15T09:29:38.971998Z"
    }
   },
   "cell_type": "code",
   "source": [
    "stat, p_value_12 = mannwhitneyu(CON_PA['DO_diagnosticada'], CON_PA_MECVV['DO_diagnosticada'], alternative='two-sided')\n",
    "print(\"P-valor entre CON_PA y CON_PA_MECVV\", p_value_12)"
   ],
   "id": "b7250148750bd0ec",
   "outputs": [
    {
     "name": "stdout",
     "output_type": "stream",
     "text": [
      "P-valor entre CON_PA y CON_PA_MECVV 0.40914513229166993\n"
     ]
    }
   ],
   "execution_count": 1295
  },
  {
   "metadata": {
    "ExecuteTime": {
     "end_time": "2024-04-15T09:29:39.443282Z",
     "start_time": "2024-04-15T09:29:39.438581Z"
    }
   },
   "cell_type": "code",
   "source": [
    "stat, p_value_13 = mannwhitneyu(CON_PA['DO_diagnosticada'], SIN_PA['DO_diagnosticada'], alternative='two-sided')\n",
    "print(\"P-valor entre CON_PA y SIN_PA\", p_value_13)"
   ],
   "id": "18de486110d234f4",
   "outputs": [
    {
     "name": "stdout",
     "output_type": "stream",
     "text": [
      "P-valor entre CON_PA y SIN_PA 0.02125060274444335\n"
     ]
    }
   ],
   "execution_count": 1296
  },
  {
   "metadata": {
    "ExecuteTime": {
     "end_time": "2024-04-15T09:29:39.706992Z",
     "start_time": "2024-04-15T09:29:39.700753Z"
    }
   },
   "cell_type": "code",
   "source": [
    "stat, p_value_23 = mannwhitneyu(CON_PA_MECVV['DO_diagnosticada'], SIN_PA['DO_diagnosticada'], alternative='two-sided')\n",
    "print(\"P-valor entre CON_PA_MECVV y SIN_PA\", p_value_23)"
   ],
   "id": "508340d7a6fb917d",
   "outputs": [
    {
     "name": "stdout",
     "output_type": "stream",
     "text": [
      "P-valor entre CON_PA_MECVV y SIN_PA 0.4172116903428992\n"
     ]
    }
   ],
   "execution_count": 1297
  },
  {
   "metadata": {},
   "cell_type": "markdown",
   "source": "## Index de Barthel",
   "id": "dc8734cc141432b0"
  },
  {
   "metadata": {},
   "cell_type": "markdown",
   "source": "### Promedio",
   "id": "bfed47df31e7bb8"
  },
  {
   "metadata": {
    "ExecuteTime": {
     "end_time": "2024-04-15T09:29:40.138118Z",
     "start_time": "2024-04-15T09:29:40.134227Z"
    }
   },
   "cell_type": "code",
   "source": [
    "promedio_barthel = CON_PA['Barthel_resultados'].mean()\n",
    "desviacion_estandar_barthel = CON_PA['Barthel_resultados'].std()\n",
    "\n",
    "resultado = f\"{promedio_barthel:.2f} ± {desviacion_estandar_barthel:.2f}\"\n",
    "print(\"Promedio ± Desviación Estándar del Barthel:\", resultado)"
   ],
   "id": "8638758d3ff1fd2b",
   "outputs": [
    {
     "name": "stdout",
     "output_type": "stream",
     "text": [
      "Promedio ± Desviación Estándar del Barthel: 22.65 ± 24.63\n"
     ]
    }
   ],
   "execution_count": 1298
  },
  {
   "metadata": {
    "ExecuteTime": {
     "end_time": "2024-04-15T09:29:40.404126Z",
     "start_time": "2024-04-15T09:29:40.397574Z"
    }
   },
   "cell_type": "code",
   "source": [
    "promedio_barthel = CON_PA_MECVV['Barthel_resultados'].mean()\n",
    "desviacion_estandar_barthel = CON_PA_MECVV['Barthel_resultados'].std()\n",
    "\n",
    "resultado = f\"{promedio_barthel:.2f} ± {desviacion_estandar_barthel:.2f}\"\n",
    "print(\"Promedio ± Desviación Estándar del Barthel:\", resultado)"
   ],
   "id": "fa78d7ab6c24f658",
   "outputs": [
    {
     "name": "stdout",
     "output_type": "stream",
     "text": [
      "Promedio ± Desviación Estándar del Barthel: 28.50 ± 22.24\n"
     ]
    }
   ],
   "execution_count": 1299
  },
  {
   "metadata": {
    "ExecuteTime": {
     "end_time": "2024-04-15T09:29:40.868939Z",
     "start_time": "2024-04-15T09:29:40.863672Z"
    }
   },
   "cell_type": "code",
   "source": [
    "promedio_barthel = SIN_PA['Barthel_resultados'].mean()\n",
    "desviacion_estandar_barthel = SIN_PA['Barthel_resultados'].std()\n",
    "\n",
    "resultado = f\"{promedio_barthel:.2f} ± {desviacion_estandar_barthel:.2f}\"\n",
    "print(\"Promedio ± Desviación Estándar del Barthel:\", resultado)"
   ],
   "id": "47d02b3ef2886135",
   "outputs": [
    {
     "name": "stdout",
     "output_type": "stream",
     "text": [
      "Promedio ± Desviación Estándar del Barthel: 48.88 ± 37.42\n"
     ]
    }
   ],
   "execution_count": 1300
  },
  {
   "metadata": {},
   "cell_type": "markdown",
   "source": "#### Pvalor",
   "id": "1ac5ed3b04b339da"
  },
  {
   "metadata": {},
   "cell_type": "markdown",
   "source": "##### Normalidad",
   "id": "a65d29ed7addb2c2"
  },
  {
   "metadata": {
    "ExecuteTime": {
     "end_time": "2024-04-15T09:29:41.116793Z",
     "start_time": "2024-04-15T09:29:41.109739Z"
    }
   },
   "cell_type": "code",
   "source": [
    "stat, p_value = shapiro(CON_PA['Barthel_resultados'])\n",
    "print(f\"Estadístico W = {stat:.4f}\")\n",
    "print(f\"Valor p = {p_value:.4f}\")\n",
    "\n",
    "alpha = 0.05\n",
    "if p_value < alpha:\n",
    "    print(\"El número de filas no sigue una distribución normal (rechazar H0).\")\n",
    "else:\n",
    "    print(\"El número de filas sigue una distribución normal (aceptar H0).\")"
   ],
   "id": "dd1f4211e230b65e",
   "outputs": [
    {
     "name": "stdout",
     "output_type": "stream",
     "text": [
      "Estadístico W = 0.8517\n",
      "Valor p = 0.0114\n",
      "El número de filas no sigue una distribución normal (rechazar H0).\n"
     ]
    }
   ],
   "execution_count": 1301
  },
  {
   "metadata": {
    "ExecuteTime": {
     "end_time": "2024-04-15T09:29:41.589623Z",
     "start_time": "2024-04-15T09:29:41.584803Z"
    }
   },
   "cell_type": "code",
   "source": [
    "stat, p_value = shapiro(CON_PA_MECVV['Barthel_resultados'])\n",
    "print(f\"Estadístico W = {stat:.4f}\")\n",
    "print(f\"Valor p = {p_value:.4f}\")\n",
    "\n",
    "alpha = 0.05\n",
    "if p_value < alpha:\n",
    "    print(\"El número de filas no sigue una distribución normal (rechazar H0).\")\n",
    "else:\n",
    "    print(\"El número de filas sigue una distribución normal (aceptar H0).\")"
   ],
   "id": "5b55e8e8f36f2812",
   "outputs": [
    {
     "name": "stdout",
     "output_type": "stream",
     "text": [
      "Estadístico W = 0.9138\n",
      "Valor p = 0.3083\n",
      "El número de filas sigue una distribución normal (aceptar H0).\n"
     ]
    }
   ],
   "execution_count": 1302
  },
  {
   "metadata": {
    "ExecuteTime": {
     "end_time": "2024-04-15T09:29:41.835934Z",
     "start_time": "2024-04-15T09:29:41.830422Z"
    }
   },
   "cell_type": "code",
   "source": [
    "stat, p_value = shapiro(SIN_PA['Barthel_resultados'])\n",
    "print(f\"Estadístico W = {stat:.4f}\")\n",
    "print(f\"Valor p = {p_value:.4f}\")\n",
    "\n",
    "alpha = 0.05\n",
    "if p_value < alpha:\n",
    "    print(\"El número de filas no sigue una distribución normal (rechazar H0).\")\n",
    "else:\n",
    "    print(\"El número de filas sigue una distribución normal (aceptar H0).\")"
   ],
   "id": "e0ef6492ee374145",
   "outputs": [
    {
     "name": "stdout",
     "output_type": "stream",
     "text": [
      "Estadístico W = 0.8858\n",
      "Valor p = 0.0002\n",
      "El número de filas no sigue una distribución normal (rechazar H0).\n"
     ]
    }
   ],
   "execution_count": 1303
  },
  {
   "metadata": {},
   "cell_type": "markdown",
   "source": "Como la mayoria no sigue una distribucion normal, hay que usar el test Mann-Whitney",
   "id": "e10cf02b677caee0"
  },
  {
   "metadata": {
    "ExecuteTime": {
     "end_time": "2024-04-15T09:29:42.273073Z",
     "start_time": "2024-04-15T09:29:42.267651Z"
    }
   },
   "cell_type": "code",
   "source": [
    "stat, p_value_12 = mannwhitneyu(CON_PA['Barthel_resultados'], CON_PA_MECVV['Barthel_resultados'], alternative='two-sided')\n",
    "print(\"P-valor entre CON_PA y CON_PA_MECVV\", p_value_12)"
   ],
   "id": "cd7ea4badfff9b7a",
   "outputs": [
    {
     "name": "stdout",
     "output_type": "stream",
     "text": [
      "P-valor entre CON_PA y CON_PA_MECVV 0.41631085084208264\n"
     ]
    }
   ],
   "execution_count": 1304
  },
  {
   "metadata": {
    "ExecuteTime": {
     "end_time": "2024-04-15T09:29:42.515865Z",
     "start_time": "2024-04-15T09:29:42.509174Z"
    }
   },
   "cell_type": "code",
   "source": [
    "stat, p_value_13 = mannwhitneyu(CON_PA['Barthel_resultados'], SIN_PA['Barthel_resultados'], alternative='two-sided')\n",
    "print(\"P-valor entre CON_PA y SIN_PA\", p_value_13)"
   ],
   "id": "6942ed62019c90c6",
   "outputs": [
    {
     "name": "stdout",
     "output_type": "stream",
     "text": [
      "P-valor entre CON_PA y SIN_PA 0.012373091641540783\n"
     ]
    }
   ],
   "execution_count": 1305
  },
  {
   "metadata": {
    "ExecuteTime": {
     "end_time": "2024-04-15T09:29:43.004359Z",
     "start_time": "2024-04-15T09:29:42.999636Z"
    }
   },
   "cell_type": "code",
   "source": [
    "stat, p_value_23 = mannwhitneyu(CON_PA_MECVV['Barthel_resultados'], SIN_PA['Barthel_resultados'], alternative='two-sided')\n",
    "print(\"P-valor entre CON_PA_MECVV y SIN_PA\", p_value_23)"
   ],
   "id": "2c199b4f90f82e91",
   "outputs": [
    {
     "name": "stdout",
     "output_type": "stream",
     "text": [
      "P-valor entre CON_PA_MECVV y SIN_PA 0.13803563369050034\n"
     ]
    }
   ],
   "execution_count": 1306
  },
  {
   "metadata": {},
   "cell_type": "markdown",
   "source": "### Valores de dependencia",
   "id": "26c7b917da1f3f22"
  },
  {
   "metadata": {},
   "cell_type": "markdown",
   "source": "##### CON_PA",
   "id": "c5f7ee6744b89d84"
  },
  {
   "metadata": {
    "ExecuteTime": {
     "end_time": "2024-04-15T09:29:43.252751Z",
     "start_time": "2024-04-15T09:29:43.247122Z"
    }
   },
   "cell_type": "code",
   "source": [
    "indepe_CON_PA = (CON_PA['Barthel_resultados'] == 100.0).mean() * 100\n",
    "print(f\"Porcentaje de indepe_CON_PA: {indepe_CON_PA:.2f}%\")"
   ],
   "id": "bd4eaba9b577b15b",
   "outputs": [
    {
     "name": "stdout",
     "output_type": "stream",
     "text": [
      "Porcentaje de indepe_CON_PA: 0.00%\n"
     ]
    }
   ],
   "execution_count": 1307
  },
  {
   "metadata": {
    "ExecuteTime": {
     "end_time": "2024-04-15T09:29:43.762964Z",
     "start_time": "2024-04-15T09:29:43.757979Z"
    }
   },
   "cell_type": "code",
   "source": [
    "mod_CON_PA = (CON_PA['Barthel_resultados'].between(61, 95)).mean() * 100\n",
    "print(f\"Porcentaje de mod_CON_PA: {mod_CON_PA:.2f}%\")"
   ],
   "id": "4fb1d19906f59b5a",
   "outputs": [
    {
     "name": "stdout",
     "output_type": "stream",
     "text": [
      "Porcentaje de mod_CON_PA: 5.88%\n"
     ]
    }
   ],
   "execution_count": 1308
  },
  {
   "metadata": {
    "ExecuteTime": {
     "end_time": "2024-04-15T09:29:43.981944Z",
     "start_time": "2024-04-15T09:29:43.976649Z"
    }
   },
   "cell_type": "code",
   "source": [
    "sev_CON_PA = (CON_PA['Barthel_resultados'].between(21, 60)).mean() * 100\n",
    "print(f\"Porcentaje de sev_CON_PA: {sev_CON_PA:.2f}%\")"
   ],
   "id": "d9304c0cc424b57",
   "outputs": [
    {
     "name": "stdout",
     "output_type": "stream",
     "text": [
      "Porcentaje de sev_CON_PA: 41.18%\n"
     ]
    }
   ],
   "execution_count": 1309
  },
  {
   "metadata": {
    "ExecuteTime": {
     "end_time": "2024-04-15T09:29:44.431087Z",
     "start_time": "2024-04-15T09:29:44.425162Z"
    }
   },
   "cell_type": "code",
   "source": [
    "total_CON_PA = (CON_PA['Barthel_resultados'] <= 20.0 ).mean() * 100\n",
    "print(f\"Porcentaje de total_CON_PA: {total_CON_PA:.2f}%\")"
   ],
   "id": "6910486fc7c29e8c",
   "outputs": [
    {
     "name": "stdout",
     "output_type": "stream",
     "text": [
      "Porcentaje de total_CON_PA: 52.94%\n"
     ]
    }
   ],
   "execution_count": 1310
  },
  {
   "metadata": {},
   "cell_type": "markdown",
   "source": "##### CON_PA_MECVV",
   "id": "c71049641e1172f4"
  },
  {
   "metadata": {
    "ExecuteTime": {
     "end_time": "2024-04-15T09:29:44.691004Z",
     "start_time": "2024-04-15T09:29:44.687501Z"
    }
   },
   "cell_type": "code",
   "source": [
    "indepe_CON_PA_MECVV = (CON_PA_MECVV['Barthel_resultados'] == 100.0).mean() * 100\n",
    "print(f\"Porcentaje de indepe_CON_PA_MECVV: {indepe_CON_PA_MECVV:.2f}%\")"
   ],
   "id": "6674786f0109e84b",
   "outputs": [
    {
     "name": "stdout",
     "output_type": "stream",
     "text": [
      "Porcentaje de indepe_CON_PA_MECVV: 0.00%\n"
     ]
    }
   ],
   "execution_count": 1311
  },
  {
   "metadata": {
    "ExecuteTime": {
     "end_time": "2024-04-15T09:29:45.163716Z",
     "start_time": "2024-04-15T09:29:45.158328Z"
    }
   },
   "cell_type": "code",
   "source": [
    "mod_CON_PA_MECVV = (CON_PA_MECVV['Barthel_resultados'].between(61,95)).mean() * 100\n",
    "print(f\"Porcentaje de mod_CON_PA_MECVV: {mod_CON_PA_MECVV:.2f}%\")"
   ],
   "id": "cc081239fd51856",
   "outputs": [
    {
     "name": "stdout",
     "output_type": "stream",
     "text": [
      "Porcentaje de mod_CON_PA_MECVV: 0.00%\n"
     ]
    }
   ],
   "execution_count": 1312
  },
  {
   "metadata": {
    "ExecuteTime": {
     "end_time": "2024-04-15T09:29:45.472379Z",
     "start_time": "2024-04-15T09:29:45.463733Z"
    }
   },
   "cell_type": "code",
   "source": [
    "sev_CON_PA_MECVV = (CON_PA_MECVV['Barthel_resultados'].between(21,60)).mean() * 100\n",
    "print(f\"Porcentaje de sev_CON_PA_MECVV: {sev_CON_PA_MECVV:.2f}%\")"
   ],
   "id": "a9e4a48bad4a68ee",
   "outputs": [
    {
     "name": "stdout",
     "output_type": "stream",
     "text": [
      "Porcentaje de sev_CON_PA_MECVV: 60.00%\n"
     ]
    }
   ],
   "execution_count": 1313
  },
  {
   "metadata": {
    "ExecuteTime": {
     "end_time": "2024-04-15T09:29:45.851997Z",
     "start_time": "2024-04-15T09:29:45.846528Z"
    }
   },
   "cell_type": "code",
   "source": [
    "total_CON_PA_MECVV = (CON_PA_MECVV['Barthel_resultados'] <= 20.0).mean() * 100\n",
    "print(f\"Porcentaje de total_CON_PA_MECVV: {total_CON_PA_MECVV:.2f}%\")"
   ],
   "id": "9125c459a4b83c25",
   "outputs": [
    {
     "name": "stdout",
     "output_type": "stream",
     "text": [
      "Porcentaje de total_CON_PA_MECVV: 40.00%\n"
     ]
    }
   ],
   "execution_count": 1314
  },
  {
   "metadata": {},
   "cell_type": "markdown",
   "source": "##### SIN_PA",
   "id": "3c5b6af1cef898a8"
  },
  {
   "metadata": {
    "ExecuteTime": {
     "end_time": "2024-04-15T09:29:46.129339Z",
     "start_time": "2024-04-15T09:29:46.123600Z"
    }
   },
   "cell_type": "code",
   "source": [
    "indepe_SIN_PA = (SIN_PA['Barthel_resultados'] == 100.0).mean() * 100\n",
    "print(f\"Porcentaje de indepe_SIN_PA: {indepe_SIN_PA:.2f}%\")"
   ],
   "id": "d6514f8eb77e3656",
   "outputs": [
    {
     "name": "stdout",
     "output_type": "stream",
     "text": [
      "Porcentaje de indepe_SIN_PA: 20.41%\n"
     ]
    }
   ],
   "execution_count": 1315
  },
  {
   "metadata": {
    "ExecuteTime": {
     "end_time": "2024-04-15T09:29:46.549504Z",
     "start_time": "2024-04-15T09:29:46.544852Z"
    }
   },
   "cell_type": "code",
   "source": [
    "mod_SIN_PA = (SIN_PA['Barthel_resultados'].between(61,95)).mean() * 100\n",
    "print(f\"Porcentaje de mod_SIN_PA: {mod_SIN_PA:.2f}%\")"
   ],
   "id": "6c3c3065602238a3",
   "outputs": [
    {
     "name": "stdout",
     "output_type": "stream",
     "text": [
      "Porcentaje de mod_SIN_PA: 18.37%\n"
     ]
    }
   ],
   "execution_count": 1316
  },
  {
   "metadata": {
    "ExecuteTime": {
     "end_time": "2024-04-15T09:29:46.843660Z",
     "start_time": "2024-04-15T09:29:46.837514Z"
    }
   },
   "cell_type": "code",
   "source": [
    "sev_SIN_PA = (SIN_PA['Barthel_resultados'].between(21,60)).mean() * 100\n",
    "print(f\"Porcentaje de sev_SIN_PA: {sev_SIN_PA:.2f}%\")"
   ],
   "id": "9607e237feb8ad65",
   "outputs": [
    {
     "name": "stdout",
     "output_type": "stream",
     "text": [
      "Porcentaje de sev_SIN_PA: 28.57%\n"
     ]
    }
   ],
   "execution_count": 1317
  },
  {
   "metadata": {
    "ExecuteTime": {
     "end_time": "2024-04-15T09:29:47.278794Z",
     "start_time": "2024-04-15T09:29:47.271031Z"
    }
   },
   "cell_type": "code",
   "source": [
    "total_SIN_PA = (SIN_PA['Barthel_resultados'] <= 20).mean() * 100\n",
    "print(f\"Porcentaje de total_SIN_PA: {total_SIN_PA:.2f}%\")"
   ],
   "id": "be742afa35213a6f",
   "outputs": [
    {
     "name": "stdout",
     "output_type": "stream",
     "text": [
      "Porcentaje de total_SIN_PA: 32.65%\n"
     ]
    }
   ],
   "execution_count": 1318
  },
  {
   "metadata": {},
   "cell_type": "markdown",
   "source": "#### Pvalor",
   "id": "5d7114bf6d7143b9"
  },
  {
   "metadata": {},
   "cell_type": "markdown",
   "source": "##### Independencia",
   "id": "99941840d95ccd6"
  },
  {
   "metadata": {
    "ExecuteTime": {
     "end_time": "2024-04-15T09:29:47.531151Z",
     "start_time": "2024-04-15T09:29:47.524678Z"
    }
   },
   "cell_type": "code",
   "source": [
    "stat_12, p_value_12 = mannwhitneyu(CON_PA['Barthel_resultados'] == 100.0, CON_PA_MECVV['Barthel_resultados'] == 100.0, alternative='two-sided')\n",
    "print(\"P-valor entre indepe_CON_PA y indepe_CON_PA_MECVV:\", p_value_12)"
   ],
   "id": "1fc9a4202863cab2",
   "outputs": [
    {
     "name": "stdout",
     "output_type": "stream",
     "text": [
      "P-valor entre indepe_CON_PA y indepe_CON_PA_MECVV: 1.0\n"
     ]
    }
   ],
   "execution_count": 1319
  },
  {
   "metadata": {
    "ExecuteTime": {
     "end_time": "2024-04-15T09:29:48.014745Z",
     "start_time": "2024-04-15T09:29:48.006803Z"
    }
   },
   "cell_type": "code",
   "source": [
    "stat_13, p_value_13 = mannwhitneyu(CON_PA['Barthel_resultados'] == 100.0, SIN_PA['Barthel_resultados'] == 100.0, alternative='two-sided')\n",
    "print(\"P-valor entre indepe_CON_PA y indepe_SIN_PA:\", p_value_13)"
   ],
   "id": "53f70691fc93885b",
   "outputs": [
    {
     "name": "stdout",
     "output_type": "stream",
     "text": [
      "P-valor entre indepe_CON_PA y indepe_SIN_PA: 0.04605091215969595\n"
     ]
    }
   ],
   "execution_count": 1320
  },
  {
   "metadata": {
    "ExecuteTime": {
     "end_time": "2024-04-15T09:29:48.263962Z",
     "start_time": "2024-04-15T09:29:48.257215Z"
    }
   },
   "cell_type": "code",
   "source": [
    "stat_23, p_val_23 = ttest_ind(CON_PA_MECVV['Barthel_resultados'] == 100.0, SIN_PA['Barthel_resultados'] == 100.0, equal_var=False)\n",
    "print(\"P-valor entre indepe_CON_PA_MECVV y SIN_PA:\", p_value_23)"
   ],
   "id": "b11519140ece0c96",
   "outputs": [
    {
     "name": "stdout",
     "output_type": "stream",
     "text": [
      "P-valor entre indepe_CON_PA_MECVV y SIN_PA: 0.13803563369050034\n"
     ]
    }
   ],
   "execution_count": 1321
  },
  {
   "metadata": {},
   "cell_type": "markdown",
   "source": "##### Moderada",
   "id": "d04d18982271906"
  },
  {
   "metadata": {
    "ExecuteTime": {
     "end_time": "2024-04-15T09:29:48.710424Z",
     "start_time": "2024-04-15T09:29:48.704526Z"
    }
   },
   "cell_type": "code",
   "source": [
    "stat_12, p_value_12 = mannwhitneyu(CON_PA['Barthel_resultados'].between(61, 95), CON_PA_MECVV['Barthel_resultados'].between(61, 95), alternative='two-sided')\n",
    "print(\"P-valor entre mod_CON_PA y mod_CON_PA_MECVV:\", p_value_12)"
   ],
   "id": "dec64efac0865e29",
   "outputs": [
    {
     "name": "stdout",
     "output_type": "stream",
     "text": [
      "P-valor entre mod_CON_PA y mod_CON_PA_MECVV: 0.49002535950179893\n"
     ]
    }
   ],
   "execution_count": 1322
  },
  {
   "metadata": {
    "ExecuteTime": {
     "end_time": "2024-04-15T09:29:48.958433Z",
     "start_time": "2024-04-15T09:29:48.950447Z"
    }
   },
   "cell_type": "code",
   "source": [
    "stat_13, p_value_13 = mannwhitneyu(CON_PA['Barthel_resultados'].between(61, 95), SIN_PA['Barthel_resultados'].between(61, 95), alternative='two-sided')\n",
    "print(\"P-valor entre indepe_CON_PA y mod_SIN_PA:\", p_value_13)"
   ],
   "id": "27afcdbb5f858182",
   "outputs": [
    {
     "name": "stdout",
     "output_type": "stream",
     "text": [
      "P-valor entre indepe_CON_PA y mod_SIN_PA: 0.22404485220846948\n"
     ]
    }
   ],
   "execution_count": 1323
  },
  {
   "metadata": {
    "ExecuteTime": {
     "end_time": "2024-04-15T09:29:49.421706Z",
     "start_time": "2024-04-15T09:29:49.413200Z"
    }
   },
   "cell_type": "code",
   "source": [
    "stat_23, p_value_23 = mannwhitneyu(CON_PA_MECVV['Barthel_resultados'].between(61, 95), SIN_PA['Barthel_resultados'].between(61, 95), alternative='two-sided')  \n",
    "print(\"P-valor entre mod_CON_PA_MECVV y mod_SIN_PA :\", p_value_23)"
   ],
   "id": "8fc3e8dab51af8d1",
   "outputs": [
    {
     "name": "stdout",
     "output_type": "stream",
     "text": [
      "P-valor entre mod_CON_PA_MECVV y mod_SIN_PA : 0.14889565499123467\n"
     ]
    }
   ],
   "execution_count": 1324
  },
  {
   "metadata": {},
   "cell_type": "markdown",
   "source": "##### Severa",
   "id": "76bed183a4aeac10"
  },
  {
   "metadata": {
    "ExecuteTime": {
     "end_time": "2024-04-15T09:29:49.683116Z",
     "start_time": "2024-04-15T09:29:49.675813Z"
    }
   },
   "cell_type": "code",
   "source": [
    "stat_12, p_value_12 = mannwhitneyu(CON_PA['Barthel_resultados'].between(21,60), CON_PA_MECVV['Barthel_resultados'].between(21,60), alternative='two-sided')\n",
    "print(\"P-valor entre sev_CON_PA y sev_CON_PA_MECVV:\", p_value_12)"
   ],
   "id": "f62da8e97a2baaab",
   "outputs": [
    {
     "name": "stdout",
     "output_type": "stream",
     "text": [
      "P-valor entre sev_CON_PA y sev_CON_PA_MECVV: 0.3688417252786701\n"
     ]
    }
   ],
   "execution_count": 1325
  },
  {
   "metadata": {
    "ExecuteTime": {
     "end_time": "2024-04-15T09:29:50.161999Z",
     "start_time": "2024-04-15T09:29:50.155404Z"
    }
   },
   "cell_type": "code",
   "source": [
    "stat_13, p_value_13 = mannwhitneyu(CON_PA['Barthel_resultados'].between(21,60), SIN_PA['Barthel_resultados'].between(21,60), alternative='two-sided')\n",
    "print(\"P-valor entre sev_CON_PA y sev_SIN_PA:\", p_value_13)"
   ],
   "id": "31cb55f53135e10a",
   "outputs": [
    {
     "name": "stdout",
     "output_type": "stream",
     "text": [
      "P-valor entre sev_CON_PA y sev_SIN_PA: 0.3446368758082651\n"
     ]
    }
   ],
   "execution_count": 1326
  },
  {
   "metadata": {
    "ExecuteTime": {
     "end_time": "2024-04-15T09:29:50.409083Z",
     "start_time": "2024-04-15T09:29:50.400538Z"
    }
   },
   "cell_type": "code",
   "source": [
    "t_stat_23, p_value_23 = mannwhitneyu(CON_PA_MECVV['Barthel_resultados'].between(21,60), SIN_PA['Barthel_resultados'].between(21,60), alternative='two-sided' )\n",
    "print(\"P-valor entre sev_CON_PA_MECVV y sev_SIN_PA:\", p_value_23)"
   ],
   "id": "92003e3822752b2c",
   "outputs": [
    {
     "name": "stdout",
     "output_type": "stream",
     "text": [
      "P-valor entre sev_CON_PA_MECVV y sev_SIN_PA: 0.05945988532601827\n"
     ]
    }
   ],
   "execution_count": 1327
  },
  {
   "metadata": {},
   "cell_type": "markdown",
   "source": "##### Total",
   "id": "6f92bc9950981fa5"
  },
  {
   "metadata": {
    "ExecuteTime": {
     "end_time": "2024-04-15T09:29:50.847298Z",
     "start_time": "2024-04-15T09:29:50.840625Z"
    }
   },
   "cell_type": "code",
   "source": [
    "stat_12, p_value_12 = mannwhitneyu(CON_PA['Barthel_resultados'] <= 20.0, CON_PA_MECVV['Barthel_resultados'] <= 20.0, alternative='two-sided')\n",
    "print(\"P-valor entre total_CON_PA y total_CON_PA_MECVV:\", p_value_12)"
   ],
   "id": "649bd60d8064b442",
   "outputs": [
    {
     "name": "stdout",
     "output_type": "stream",
     "text": [
      "P-valor entre total_CON_PA y total_CON_PA_MECVV: 0.5426838040005246\n"
     ]
    }
   ],
   "execution_count": 1328
  },
  {
   "metadata": {
    "ExecuteTime": {
     "end_time": "2024-04-15T09:29:51.110997Z",
     "start_time": "2024-04-15T09:29:51.105345Z"
    }
   },
   "cell_type": "code",
   "source": [
    "stat_13, p_value_13 = mannwhitneyu(CON_PA['Barthel_resultados'] <= 20.0, SIN_PA['Barthel_resultados'] <= 20.0, alternative='two-sided')\n",
    "print(\"P-valor entre total_CON_PA y total_SIN_PA:\", p_value_13)"
   ],
   "id": "c7aefab4134a6d36",
   "outputs": [
    {
     "name": "stdout",
     "output_type": "stream",
     "text": [
      "P-valor entre total_CON_PA y total_SIN_PA: 0.14269651822055499\n"
     ]
    }
   ],
   "execution_count": 1329
  },
  {
   "metadata": {
    "ExecuteTime": {
     "end_time": "2024-04-15T09:29:51.575546Z",
     "start_time": "2024-04-15T09:29:51.569676Z"
    }
   },
   "cell_type": "code",
   "source": [
    "stat_23, p_value_23 = mannwhitneyu(CON_PA_MECVV['Barthel_resultados'] <= 20.0, SIN_PA['Barthel_resultados'] <= 20.0, alternative='two-sided')\n",
    "print(\"P-valor entre total_CON_PA_MECVV y total_SIN_PA:\", p_value_23)"
   ],
   "id": "8f86e986c69cad05",
   "outputs": [
    {
     "name": "stdout",
     "output_type": "stream",
     "text": [
      "P-valor entre total_CON_PA_MECVV y total_SIN_PA: 0.6663533091466043\n"
     ]
    }
   ],
   "execution_count": 1330
  },
  {
   "metadata": {},
   "cell_type": "markdown",
   "source": "## Index del MNA",
   "id": "8aec29cdaca5153d"
  },
  {
   "metadata": {},
   "cell_type": "markdown",
   "source": "Primero hay que convertir la columna a tipo numerico ya que es de tipo \"object\" y no permite realizar el promedio",
   "id": "1c06e026a7dc222a"
  },
  {
   "metadata": {
    "ExecuteTime": {
     "end_time": "2024-04-15T09:29:51.841862Z",
     "start_time": "2024-04-15T09:29:51.834674Z"
    }
   },
   "cell_type": "code",
   "source": [
    "CON_PA.loc[:, 'mna_resultats'] = pd.to_numeric(CON_PA['mna_resultats'], errors='coerce')\n",
    "CON_PA_MECVV.loc[:, 'mna_resultats'] = pd.to_numeric(CON_PA_MECVV['mna_resultats'], errors='coerce')\n",
    "SIN_PA.loc[:, 'mna_resultats'] = pd.to_numeric(SIN_PA['mna_resultats'], errors='coerce')"
   ],
   "id": "1fd4ba82fd70b812",
   "outputs": [],
   "execution_count": 1331
  },
  {
   "metadata": {},
   "cell_type": "markdown",
   "source": "### Promedio",
   "id": "d3a2da203000f2a5"
  },
  {
   "metadata": {
    "ExecuteTime": {
     "end_time": "2024-04-15T09:29:52.301979Z",
     "start_time": "2024-04-15T09:29:52.297131Z"
    }
   },
   "cell_type": "code",
   "source": [
    "promedio_mna = CON_PA['mna_resultats'].mean()\n",
    "desviacion_estandar_mna = CON_PA['mna_resultats'].std()\n",
    "\n",
    "resultado = f\"{promedio_mna:.2f} ± {desviacion_estandar_mna:.2f}\"\n",
    "print(\"Promedio ± Desviación Estándar del mna:\", resultado)"
   ],
   "id": "49f228e16ecc4f8f",
   "outputs": [
    {
     "name": "stdout",
     "output_type": "stream",
     "text": [
      "Promedio ± Desviación Estándar del mna: 0.00 ± 0.00\n"
     ]
    }
   ],
   "execution_count": 1332
  },
  {
   "metadata": {
    "ExecuteTime": {
     "end_time": "2024-04-15T09:29:52.569389Z",
     "start_time": "2024-04-15T09:29:52.562685Z"
    }
   },
   "cell_type": "code",
   "source": [
    "promedio_mna = CON_PA_MECVV['mna_resultats'].mean()\n",
    "desviacion_estandar_mna = CON_PA_MECVV['mna_resultats'].std()\n",
    "\n",
    "resultado = f\"{promedio_mna:.2f} ± {desviacion_estandar_mna:.2f}\"\n",
    "print(\"Promedio ± Desviación Estándar del mna:\", resultado)"
   ],
   "id": "2b9bad54f7ac28fb",
   "outputs": [
    {
     "name": "stdout",
     "output_type": "stream",
     "text": [
      "Promedio ± Desviación Estándar del mna: 0.00 ± nan\n"
     ]
    }
   ],
   "execution_count": 1333
  },
  {
   "metadata": {
    "ExecuteTime": {
     "end_time": "2024-04-15T09:29:52.970246Z",
     "start_time": "2024-04-15T09:29:52.963353Z"
    }
   },
   "cell_type": "code",
   "source": [
    "promedio_mna = SIN_PA['mna_resultats'].mean()\n",
    "desviacion_estandar_mna = SIN_PA['mna_resultats'].std()\n",
    "\n",
    "resultado = f\"{promedio_mna:.2f} ± {desviacion_estandar_mna:.2f}\"\n",
    "print(\"Promedio ± Desviación Estándar del mna:\", resultado)"
   ],
   "id": "e1b756b5d3594d0d",
   "outputs": [
    {
     "name": "stdout",
     "output_type": "stream",
     "text": [
      "Promedio ± Desviación Estándar del mna: 3.05 ± 5.92\n"
     ]
    }
   ],
   "execution_count": 1334
  },
  {
   "metadata": {},
   "cell_type": "markdown",
   "source": "#### Pvalor",
   "id": "ed71dea199e67206"
  },
  {
   "metadata": {},
   "cell_type": "markdown",
   "source": "##### Normalidad",
   "id": "a2022f16581d1ec4"
  },
  {
   "metadata": {
    "ExecuteTime": {
     "end_time": "2024-04-15T09:50:03.113286Z",
     "start_time": "2024-04-15T09:50:03.096976Z"
    }
   },
   "cell_type": "code",
   "source": [
    "conpanone = CON_PA[CON_PA['mna_resultats'].notna()]\n",
    "stat, p_value = shapiro(conpanone)\n",
    "print(f\"Estadístico W = {stat:.4f}\")\n",
    "print(f\"Valor p = {p_value:.4f}\")\n",
    "\n",
    "alpha = 0.05\n",
    "if p_value < alpha:\n",
    "    print(\"El número de filas no sigue una distribución normal (rechazar H0).\")\n",
    "else:\n",
    "    print(\"El número de filas sigue una distribución normal (aceptar H0).\")"
   ],
   "id": "818f02babf540e04",
   "outputs": [
    {
     "name": "stdout",
     "output_type": "stream",
     "text": [
      "Estadístico W = nan\n",
      "Valor p = nan\n",
      "El número de filas sigue una distribución normal (aceptar H0).\n"
     ]
    }
   ],
   "execution_count": 1500
  },
  {
   "metadata": {
    "ExecuteTime": {
     "end_time": "2024-04-15T09:50:51.666148Z",
     "start_time": "2024-04-15T09:50:51.656045Z"
    }
   },
   "cell_type": "code",
   "source": [
    "pa2none = CON_PA_MECVV[CON_PA_MECVV['mna_resultats'].notna()]\n",
    "stat, p_value = shapiro(pa2none)\n",
    "print(f\"Estadístico W = {stat:.4f}\")\n",
    "print(f\"Valor p = {p_value:.4f}\")\n",
    "\n",
    "alpha = 0.05\n",
    "if p_value < alpha:\n",
    "    print(\"El número de filas no sigue una distribución normal (rechazar H0).\")\n",
    "else:\n",
    "    print(\"El número de filas sigue una distribución normal (aceptar H0).\")"
   ],
   "id": "f3f9909b59238c82",
   "outputs": [
    {
     "name": "stdout",
     "output_type": "stream",
     "text": [
      "Estadístico W = nan\n",
      "Valor p = nan\n",
      "El número de filas sigue una distribución normal (aceptar H0).\n"
     ]
    }
   ],
   "execution_count": 1501
  },
  {
   "metadata": {
    "ExecuteTime": {
     "end_time": "2024-04-15T09:51:27.032945Z",
     "start_time": "2024-04-15T09:51:27.023519Z"
    }
   },
   "cell_type": "code",
   "source": [
    "pa3none = SIN_PA[SIN_PA['mna_resultats'].notna()]\n",
    "stat, p_value = shapiro(pa3none)\n",
    "print(f\"Estadístico W = {stat:.4f}\")\n",
    "print(f\"Valor p = {p_value:.4f}\")\n",
    "\n",
    "alpha = 0.05\n",
    "if p_value < alpha:\n",
    "    print(\"El número de filas no sigue una distribución normal (rechazar H0).\")\n",
    "else:\n",
    "    print(\"El número de filas sigue una distribución normal (aceptar H0).\")"
   ],
   "id": "e649075f76992902",
   "outputs": [
    {
     "name": "stdout",
     "output_type": "stream",
     "text": [
      "Estadístico W = nan\n",
      "Valor p = nan\n",
      "El número de filas sigue una distribución normal (aceptar H0).\n"
     ]
    }
   ],
   "execution_count": 1502
  },
  {
   "metadata": {
    "ExecuteTime": {
     "end_time": "2024-04-15T09:29:55.014760Z",
     "start_time": "2024-04-15T09:29:55.009230Z"
    }
   },
   "cell_type": "code",
   "source": [
    "t_stat_12, p_val_12 = ttest_ind(CON_PA['mna_resultats'], CON_PA_MECVV['mna_resultats'], equal_var=False)\n",
    "print(\"P-valor entre CON_PA y CON_PA_MECVV:\", p_val_12)"
   ],
   "id": "ad0537eaa821dc4b",
   "outputs": [
    {
     "name": "stdout",
     "output_type": "stream",
     "text": [
      "P-valor entre CON_PA y CON_PA_MECVV: nan\n"
     ]
    }
   ],
   "execution_count": 1339
  },
  {
   "metadata": {
    "ExecuteTime": {
     "end_time": "2024-04-15T09:29:55.262375Z",
     "start_time": "2024-04-15T09:29:55.256858Z"
    }
   },
   "cell_type": "code",
   "source": [
    "t_stat_13, p_val_13 = ttest_ind(CON_PA['mna_resultats'], SIN_PA['mna_resultats'], equal_var=False)\n",
    "print(\"P-valor entre CON_PA y SIN_PA:\", p_val_13)"
   ],
   "id": "d15532e3219abd52",
   "outputs": [
    {
     "name": "stdout",
     "output_type": "stream",
     "text": [
      "P-valor entre CON_PA y SIN_PA: nan\n"
     ]
    }
   ],
   "execution_count": 1340
  },
  {
   "metadata": {
    "ExecuteTime": {
     "end_time": "2024-04-15T09:29:55.699198Z",
     "start_time": "2024-04-15T09:29:55.693889Z"
    }
   },
   "cell_type": "code",
   "source": [
    "t_stat_23, p_val_23 = ttest_ind(CON_PA_MECVV['mna_resultats'], SIN_PA['mna_resultats'], equal_var=False)\n",
    "print(\"P-valor entre CON_PA_MECVV y SIN_PA:\", p_val_23)"
   ],
   "id": "33fd4e0dfb16ffd9",
   "outputs": [
    {
     "name": "stdout",
     "output_type": "stream",
     "text": [
      "P-valor entre CON_PA_MECVV y SIN_PA: nan\n"
     ]
    }
   ],
   "execution_count": 1341
  },
  {
   "metadata": {},
   "cell_type": "markdown",
   "source": "### Valores de malnutricion",
   "id": "30ab7030f717f77d"
  },
  {
   "metadata": {},
   "cell_type": "markdown",
   "source": "##### CON_PA",
   "id": "739bad6e4ed22abd"
  },
  {
   "metadata": {
    "ExecuteTime": {
     "end_time": "2024-04-15T09:29:55.954893Z",
     "start_time": "2024-04-15T09:29:55.948678Z"
    }
   },
   "cell_type": "code",
   "source": [
    "norm_CON_PA = CON_PA['mna_resultats'].between(24, 30)\n",
    "porcentaje_norm_CON_PA = norm_CON_PA.mean() * 100\n",
    "num_observaciones_norm_CON_PA = norm_CON_PA.sum()\n",
    "\n",
    "print(f\"Porcentaje de norm_CON_PA: {porcentaje_norm_CON_PA:.2f}%\")\n",
    "print(f\"Número de observaciones en norm_CON_PA: {num_observaciones_norm_CON_PA}\")"
   ],
   "id": "caa6802b98e9e39",
   "outputs": [
    {
     "name": "stdout",
     "output_type": "stream",
     "text": [
      "Porcentaje de norm_CON_PA: 0.00%\n",
      "Número de observaciones en norm_CON_PA: 0\n"
     ]
    }
   ],
   "execution_count": 1342
  },
  {
   "metadata": {
    "ExecuteTime": {
     "end_time": "2024-04-15T09:29:56.439207Z",
     "start_time": "2024-04-15T09:29:56.432509Z"
    }
   },
   "cell_type": "code",
   "source": [
    "malnutr_CON_PA = CON_PA['mna_resultats'].between(17, 23.5)\n",
    "porcentaje_malnutr_CON_PA = malnutr_CON_PA.mean() * 100\n",
    "num_observaciones_malnutr_CON_PA = norm_CON_PA.sum()\n",
    "\n",
    "print(f\"Porcentaje de malnutr_CON_PA: {porcentaje_malnutr_CON_PA:.2f}%\")\n",
    "print(f\"Número de observaciones en norm_CON_PA: {num_observaciones_malnutr_CON_PA}\")"
   ],
   "id": "9767c703bf106b20",
   "outputs": [
    {
     "name": "stdout",
     "output_type": "stream",
     "text": [
      "Porcentaje de malnutr_CON_PA: 0.00%\n",
      "Número de observaciones en norm_CON_PA: 0\n"
     ]
    }
   ],
   "execution_count": 1343
  },
  {
   "metadata": {
    "ExecuteTime": {
     "end_time": "2024-04-15T09:29:56.669821Z",
     "start_time": "2024-04-15T09:29:56.664846Z"
    }
   },
   "cell_type": "code",
   "source": [
    "malnut_CON_PA = CON_PA['mna_resultats'] < 17\n",
    "porcentaje_malnut_CON_PA = malnut_CON_PA.mean() * 100\n",
    "num_observaciones_malnut_CON_PA = malnut_CON_PA.sum()\n",
    "\n",
    "print(f\"Porcentaje de malnut_CON_PA: {porcentaje_malnut_CON_PA:.2f}%\")\n",
    "print(f\"Número de observaciones en malnut_CON_PA: {num_observaciones_malnut_CON_PA}\")"
   ],
   "id": "bef7952d2998f683",
   "outputs": [
    {
     "name": "stdout",
     "output_type": "stream",
     "text": [
      "Porcentaje de malnut_CON_PA: 23.53%\n",
      "Número de observaciones en malnut_CON_PA: 4\n"
     ]
    }
   ],
   "execution_count": 1344
  },
  {
   "metadata": {},
   "cell_type": "markdown",
   "source": "##### CON_PA_MECVV",
   "id": "2f5087291a06f182"
  },
  {
   "metadata": {
    "ExecuteTime": {
     "end_time": "2024-04-15T09:29:57.122594Z",
     "start_time": "2024-04-15T09:29:57.115137Z"
    }
   },
   "cell_type": "code",
   "source": [
    "norm_CON_PA_MECVV = CON_PA_MECVV['mna_resultats'].between(24, 30)\n",
    "porcentaje_norm_CON_PA_MECVV = norm_CON_PA_MECVV.mean() * 100\n",
    "num_observaciones_norm_CON_PA_MECVV = norm_CON_PA_MECVV.sum()\n",
    "\n",
    "print(f\"Porcentaje de norm_CON_PA_MECVV: {porcentaje_norm_CON_PA_MECVV:.2f}%\")\n",
    "print(f\"Número de observaciones en norm_CON_PA_MECVV: {num_observaciones_norm_CON_PA_MECVV}\")"
   ],
   "id": "3e5b18f679fc2d97",
   "outputs": [
    {
     "name": "stdout",
     "output_type": "stream",
     "text": [
      "Porcentaje de norm_CON_PA_MECVV: 0.00%\n",
      "Número de observaciones en norm_CON_PA_MECVV: 0\n"
     ]
    }
   ],
   "execution_count": 1345
  },
  {
   "metadata": {
    "ExecuteTime": {
     "end_time": "2024-04-15T09:29:57.355236Z",
     "start_time": "2024-04-15T09:29:57.348948Z"
    }
   },
   "cell_type": "code",
   "source": [
    "malnutr_CON_PA_MECVV = CON_PA_MECVV['mna_resultats'].between(17, 23.5)\n",
    "porcentaje_malnutr_CON_PA_MECVV = malnutr_CON_PA_MECVV.mean() * 100\n",
    "num_observaciones_malnutr_CON_PA_MECVV = norm_CON_PA_MECVV.sum()\n",
    "\n",
    "print(f\"Porcentaje de malnutr_CON_PA_MECVV: {porcentaje_malnutr_CON_PA_MECVV:.2f}%\")\n",
    "print(f\"Número de observaciones en norm_CON_PA_MECVV: {num_observaciones_malnutr_CON_PA_MECVV}\")"
   ],
   "id": "d44f886d78fd3ac7",
   "outputs": [
    {
     "name": "stdout",
     "output_type": "stream",
     "text": [
      "Porcentaje de malnutr_CON_PA_MECVV: 0.00%\n",
      "Número de observaciones en norm_CON_PA_MECVV: 0\n"
     ]
    }
   ],
   "execution_count": 1346
  },
  {
   "metadata": {
    "ExecuteTime": {
     "end_time": "2024-04-15T09:29:57.864550Z",
     "start_time": "2024-04-15T09:29:57.859044Z"
    }
   },
   "cell_type": "code",
   "source": [
    "malnut_CON_PA_MECVV = CON_PA_MECVV['mna_resultats'] < 17\n",
    "porcentaje_malnut_CON_PA_MECVV = malnut_CON_PA_MECVV.mean() * 100\n",
    "num_observaciones_malnut_CON_PA_MECVV = malnut_CON_PA_MECVV.sum()\n",
    "\n",
    "print(f\"Porcentaje de malnut_CON_PA_MECVV: {porcentaje_malnut_CON_PA_MECVV:.2f}%\")\n",
    "print(f\"Número de observaciones en malnut_CON_PA_MECVV: {num_observaciones_malnut_CON_PA_MECVV}\")"
   ],
   "id": "2a86972a7a2d702d",
   "outputs": [
    {
     "name": "stdout",
     "output_type": "stream",
     "text": [
      "Porcentaje de malnut_CON_PA_MECVV: 10.00%\n",
      "Número de observaciones en malnut_CON_PA_MECVV: 1\n"
     ]
    }
   ],
   "execution_count": 1347
  },
  {
   "metadata": {},
   "cell_type": "markdown",
   "source": "##### SIN_PA",
   "id": "147fc09ef92f5300"
  },
  {
   "metadata": {
    "ExecuteTime": {
     "end_time": "2024-04-15T09:29:58.118569Z",
     "start_time": "2024-04-15T09:29:58.111861Z"
    }
   },
   "cell_type": "code",
   "source": [
    "norm_SIN_PA = SIN_PA['mna_resultats'].between(24, 30)\n",
    "porcentaje_norm_SIN_PA = norm_SIN_PA.mean() * 100\n",
    "num_observaciones_norm_SIN_PA = norm_SIN_PA.sum()\n",
    "\n",
    "print(f\"Porcentaje de norm_SIN_PA: {porcentaje_norm_SIN_PA:.2f}%\")\n",
    "print(f\"Número de observaciones en norm_SIN_PA: {num_observaciones_norm_SIN_PA}\")"
   ],
   "id": "c08ecbab11287831",
   "outputs": [
    {
     "name": "stdout",
     "output_type": "stream",
     "text": [
      "Porcentaje de norm_SIN_PA: 0.00%\n",
      "Número de observaciones en norm_SIN_PA: 0\n"
     ]
    }
   ],
   "execution_count": 1348
  },
  {
   "metadata": {
    "ExecuteTime": {
     "end_time": "2024-04-15T09:29:58.685498Z",
     "start_time": "2024-04-15T09:29:58.677482Z"
    }
   },
   "cell_type": "code",
   "source": [
    "malnutr_SIN_PA = SIN_PA['mna_resultats'].between(17, 23.5)\n",
    "porcentaje_malnutr_SIN_PA = malnutr_SIN_PA.mean() * 100\n",
    "num_observaciones_malnutr_SIN_PA = malnutr_SIN_PA.sum()\n",
    "\n",
    "print(f\"Porcentaje de malnutr_SIN_PA: {porcentaje_malnutr_SIN_PA:.2f}%\")\n",
    "print(f\"Número de observaciones en malnutr_SIN_PA: {num_observaciones_malnutr_SIN_PA}\")"
   ],
   "id": "380f9565f771bf8b",
   "outputs": [
    {
     "name": "stdout",
     "output_type": "stream",
     "text": [
      "Porcentaje de malnutr_SIN_PA: 2.04%\n",
      "Número de observaciones en malnutr_SIN_PA: 1\n"
     ]
    }
   ],
   "execution_count": 1349
  },
  {
   "metadata": {
    "ExecuteTime": {
     "end_time": "2024-04-15T09:29:58.906266Z",
     "start_time": "2024-04-15T09:29:58.902336Z"
    }
   },
   "cell_type": "code",
   "source": [
    "malnut_SIN_PA = SIN_PA['mna_resultats'] < 17\n",
    "porcentaje_malnut_SIN_PA = malnut_SIN_PA.mean() * 100\n",
    "num_observaciones_malnut_SIN_PA = malnut_SIN_PA.sum()\n",
    "\n",
    "print(f\"Porcentaje de malnut_SIN_PA: {porcentaje_malnut_SIN_PA:.2f}%\")\n",
    "print(f\"Número de observaciones en malnut_SIN_PA: {num_observaciones_malnut_SIN_PA}\")"
   ],
   "id": "160c804055ffa789",
   "outputs": [
    {
     "name": "stdout",
     "output_type": "stream",
     "text": [
      "Porcentaje de malnut_SIN_PA: 18.37%\n",
      "Número de observaciones en malnut_SIN_PA: 9\n"
     ]
    }
   ],
   "execution_count": 1350
  },
  {
   "metadata": {},
   "cell_type": "markdown",
   "source": "#### Pvalor",
   "id": "a9a33b1d22344060"
  },
  {
   "metadata": {},
   "cell_type": "markdown",
   "source": "##### Normal",
   "id": "c1aa669e202aa54d"
  },
  {
   "metadata": {
    "ExecuteTime": {
     "end_time": "2024-04-15T09:56:48.120976Z",
     "start_time": "2024-04-15T09:56:48.087455Z"
    }
   },
   "cell_type": "code",
   "source": [
    "t_stat_12, p_val_12 = mannwhitneyu(CON_PA['mna_resultats'].between(24, 30), CON_PA_MECVV['mna_resultats'].between(24, 30), alternative='two-sided')\n",
    "print(\"P-valor entre norm_CON_PA y norm_CON_PA_MECVV:\", p_val_12)"
   ],
   "id": "c424d10727ebe3",
   "outputs": [
    {
     "name": "stdout",
     "output_type": "stream",
     "text": [
      "P-valor entre norm_CON_PA y norm_CON_PA_MECVV: 1.0\n"
     ]
    }
   ],
   "execution_count": 1504
  },
  {
   "metadata": {
    "ExecuteTime": {
     "end_time": "2024-04-15T09:57:11.395205Z",
     "start_time": "2024-04-15T09:57:11.385407Z"
    }
   },
   "cell_type": "code",
   "source": [
    "t_stat_13, p_val_13 = mannwhitneyu(CON_PA['mna_resultats'].between(24, 30), SIN_PA['mna_resultats'].between(24, 30), alternative='two-sided')\n",
    "print(\"P-valor entre norm_CON_PA y norm_SIN_PA:\", p_val_13)"
   ],
   "id": "ebb1848e3ef8509e",
   "outputs": [
    {
     "name": "stdout",
     "output_type": "stream",
     "text": [
      "P-valor entre norm_CON_PA y norm_SIN_PA: 1.0\n"
     ]
    }
   ],
   "execution_count": 1505
  },
  {
   "metadata": {
    "ExecuteTime": {
     "end_time": "2024-04-15T09:58:08.375917Z",
     "start_time": "2024-04-15T09:58:08.367049Z"
    }
   },
   "cell_type": "code",
   "source": [
    "t_stat_23, p_val_23 = mannwhitneyu(CON_PA_MECVV['mna_resultats'].between(24, 30), SIN_PA['mna_resultats'].between(24, 30), alternative='two-sided')\n",
    "print(\"P-valor entre norm_CON_PA_MECVV y norm_SIN_PA:\", p_val_23)"
   ],
   "id": "ec24c5a3e17d9c39",
   "outputs": [
    {
     "name": "stdout",
     "output_type": "stream",
     "text": [
      "P-valor entre norm_CON_PA_MECVV y norm_SIN_PA: 1.0\n"
     ]
    }
   ],
   "execution_count": 1506
  },
  {
   "metadata": {},
   "cell_type": "markdown",
   "source": "##### Riesgo de malnutricion",
   "id": "2b406b79ad8e5d31"
  },
  {
   "metadata": {
    "ExecuteTime": {
     "end_time": "2024-04-15T09:58:37.531873Z",
     "start_time": "2024-04-15T09:58:37.524059Z"
    }
   },
   "cell_type": "code",
   "source": [
    "t_stat_12, p_val_12 = mannwhitneyu(CON_PA['mna_resultats'].between(17, 23.5), CON_PA_MECVV['mna_resultats'].between(17, 23.5), alternative='two-sided')\n",
    "print(\"P-valor entre malnutr_CON_PA y malnutr_CON_PA_MECVV:\", p_val_12)"
   ],
   "id": "3a2c6f30d476106c",
   "outputs": [
    {
     "name": "stdout",
     "output_type": "stream",
     "text": [
      "P-valor entre malnutr_CON_PA y malnutr_CON_PA_MECVV: 1.0\n"
     ]
    }
   ],
   "execution_count": 1507
  },
  {
   "metadata": {
    "ExecuteTime": {
     "end_time": "2024-04-15T09:58:57.598436Z",
     "start_time": "2024-04-15T09:58:57.584049Z"
    }
   },
   "cell_type": "code",
   "source": [
    "t_stat_13, p_val_13 = mannwhitneyu(CON_PA['mna_resultats'].between(17, 23.5), SIN_PA['mna_resultats'].between(17, 23.5), alternative='two-sided')\n",
    "print(\"P-valor entre malnutr_CON_PA y malnutr_SIN_PA:\", p_val_13)"
   ],
   "id": "26dd581da1c61b2a",
   "outputs": [
    {
     "name": "stdout",
     "output_type": "stream",
     "text": [
      "P-valor entre malnutr_CON_PA y malnutr_SIN_PA: 0.5793276078637376\n"
     ]
    }
   ],
   "execution_count": 1508
  },
  {
   "metadata": {
    "ExecuteTime": {
     "end_time": "2024-04-15T09:59:35.886334Z",
     "start_time": "2024-04-15T09:59:35.880243Z"
    }
   },
   "cell_type": "code",
   "source": [
    "t_stat_23, p_val_23 = mannwhitneyu(CON_PA_MECVV['mna_resultats'].between(17, 23.5), SIN_PA['mna_resultats'].between(17, 23.5), alternative='two-sided')\n",
    "print(\"P-valor entre malnutr_CON_PA_MECVV y malnutr_SIN_PA:\", p_val_23)"
   ],
   "id": "e15a727ac84ee9b9",
   "outputs": [
    {
     "name": "stdout",
     "output_type": "stream",
     "text": [
      "P-valor entre malnutr_CON_PA_MECVV y malnutr_SIN_PA: 0.6843175494727258\n"
     ]
    }
   ],
   "execution_count": 1509
  },
  {
   "metadata": {},
   "cell_type": "markdown",
   "source": "##### Malnutricion",
   "id": "905cde52c3b826ac"
  },
  {
   "metadata": {
    "ExecuteTime": {
     "end_time": "2024-04-15T10:06:48.038659Z",
     "start_time": "2024-04-15T10:06:48.028488Z"
    }
   },
   "cell_type": "code",
   "source": [
    "t_stat_12, p_val_12 = mannwhitneyu(CON_PA['mna_resultats'] <17 , \n",
    "                                CON_PA_MECVV['mna_resultats'] < 17, alternative='two-sided')\n",
    "print(\"P-valor entre malnut_CON_PA y norm_CON_PA_MECVV:\", p_val_12)"
   ],
   "id": "72f95b8ad2e7790e",
   "outputs": [
    {
     "name": "stdout",
     "output_type": "stream",
     "text": [
      "P-valor entre malnut_CON_PA y norm_CON_PA_MECVV: 3.0070483450109954e-06\n"
     ]
    }
   ],
   "execution_count": 1514
  },
  {
   "metadata": {
    "ExecuteTime": {
     "end_time": "2024-04-15T10:02:36.125545Z",
     "start_time": "2024-04-15T10:02:36.118215Z"
    }
   },
   "cell_type": "code",
   "source": [
    "t_stat_13, p_val_13 = mannwhitneyu(CON_PA['mna_resultats'] <17 , \n",
    "                                SIN_PA['mna_resultats'] < 17, alternative='two-sided')\n",
    "print(\"P-valor entre malnut_CON_PA y malnut_SIN_PA:\", p_val_13)"
   ],
   "id": "a93d6a6490f1b7e4",
   "outputs": [
    {
     "name": "stdout",
     "output_type": "stream",
     "text": [
      "P-valor entre malnut_CON_PA y malnut_SIN_PA: 4.065922020960315e-09\n"
     ]
    }
   ],
   "execution_count": 1512
  },
  {
   "metadata": {
    "ExecuteTime": {
     "end_time": "2024-04-15T10:07:22.868399Z",
     "start_time": "2024-04-15T10:07:22.856553Z"
    }
   },
   "cell_type": "code",
   "source": [
    "t_stat_23, p_val_23 = mannwhitneyu(CON_PA_MECVV['mna_resultats'] <17 , \n",
    "                                SIN_PA['mna_resultats'] < 17, alternative='two-sided')\n",
    "print(\"P-valor entre malnut_CON_PA_MECVV y malnut_SIN_PA:\", p_val_23)"
   ],
   "id": "751e44c45c324db8",
   "outputs": [
    {
     "name": "stdout",
     "output_type": "stream",
     "text": [
      "P-valor entre malnut_CON_PA_MECVV y malnut_SIN_PA: 0.5341419377112933\n"
     ]
    }
   ],
   "execution_count": 1515
  },
  {
   "metadata": {},
   "cell_type": "markdown",
   "source": "## Indice de la  EMINA",
   "id": "26f61b8f17444d86"
  },
  {
   "metadata": {},
   "cell_type": "markdown",
   "source": "### Promedio",
   "id": "5c9563929438128a"
  },
  {
   "metadata": {
    "ExecuteTime": {
     "end_time": "2024-04-15T09:30:02.548832Z",
     "start_time": "2024-04-15T09:30:02.543262Z"
    }
   },
   "cell_type": "code",
   "source": [
    "promedio_emina = CON_PA['EMINA_sumatorios_comparados'].mean()\n",
    "desviacion_estandar_emina = CON_PA['EMINA_sumatorios_comparados'].std()\n",
    "\n",
    "resultado = f\"{promedio_emina:.2f} ± {desviacion_estandar_emina:.2f}\"\n",
    "print(\"Promedio ± Desviación Estándar de la emina:\", resultado)"
   ],
   "id": "6b3af33f67ee3c1c",
   "outputs": [
    {
     "name": "stdout",
     "output_type": "stream",
     "text": [
      "Promedio ± Desviación Estándar de la emina: 7.94 ± 3.21\n"
     ]
    }
   ],
   "execution_count": 1360
  },
  {
   "metadata": {
    "ExecuteTime": {
     "end_time": "2024-04-15T09:30:03.014120Z",
     "start_time": "2024-04-15T09:30:03.008943Z"
    }
   },
   "cell_type": "code",
   "source": [
    "promedio_emina = CON_PA_MECVV['EMINA_sumatorios_comparados'].mean()\n",
    "desviacion_estandar_emina = CON_PA_MECVV['EMINA_sumatorios_comparados'].std()\n",
    "\n",
    "resultado = f\"{promedio_emina:.2f} ± {desviacion_estandar_emina:.2f}\"\n",
    "print(\"Promedio ± Desviación Estándar de la emina:\", resultado)"
   ],
   "id": "33da5d49fab96790",
   "outputs": [
    {
     "name": "stdout",
     "output_type": "stream",
     "text": [
      "Promedio ± Desviación Estándar de la emina: 7.60 ± 2.01\n"
     ]
    }
   ],
   "execution_count": 1361
  },
  {
   "metadata": {
    "ExecuteTime": {
     "end_time": "2024-04-15T09:30:03.262280Z",
     "start_time": "2024-04-15T09:30:03.256766Z"
    }
   },
   "cell_type": "code",
   "source": [
    "promedio_emina = SIN_PA['EMINA_sumatorios_comparados'].mean()\n",
    "desviacion_estandar_emina = SIN_PA['EMINA_sumatorios_comparados'].std()\n",
    "\n",
    "resultado = f\"{promedio_emina:.2f} ± {desviacion_estandar_emina:.2f}\"\n",
    "print(\"Promedio ± Desviación Estándar de la emina:\", resultado)"
   ],
   "id": "8fdc1af6b1f3b3af",
   "outputs": [
    {
     "name": "stdout",
     "output_type": "stream",
     "text": [
      "Promedio ± Desviación Estándar de la emina: 5.64 ± 4.08\n"
     ]
    }
   ],
   "execution_count": 1362
  },
  {
   "metadata": {},
   "cell_type": "markdown",
   "source": "#### Pvalor",
   "id": "71013ef3e165a551"
  },
  {
   "metadata": {},
   "cell_type": "markdown",
   "source": "##### Normalidad",
   "id": "cbd46bf1ecd0fba7"
  },
  {
   "metadata": {
    "ExecuteTime": {
     "end_time": "2024-04-15T10:14:10.616885Z",
     "start_time": "2024-04-15T10:14:10.606466Z"
    }
   },
   "cell_type": "code",
   "source": [
    "stat, p_value = shapiro(CON_PA['EMINA_sumatorios_comparados'])\n",
    "print(f\"Estadístico W = {stat:.4f}\")\n",
    "print(f\"Valor p = {p_value:.4f}\")\n",
    "\n",
    "alpha = 0.05\n",
    "if p_value < alpha:\n",
    "    print(\"El número de filas no sigue una distribución normal (rechazar H0).\")\n",
    "else:\n",
    "    print(\"El número de filas sigue una distribución normal (aceptar H0).\")"
   ],
   "id": "8c2f6048f748604a",
   "outputs": [
    {
     "name": "stdout",
     "output_type": "stream",
     "text": [
      "Estadístico W = 0.9770\n",
      "Valor p = 0.9248\n",
      "El número de filas sigue una distribución normal (aceptar H0).\n"
     ]
    }
   ],
   "execution_count": 1524
  },
  {
   "metadata": {
    "ExecuteTime": {
     "end_time": "2024-04-15T10:14:00.282374Z",
     "start_time": "2024-04-15T10:14:00.274366Z"
    }
   },
   "cell_type": "code",
   "source": [
    "stat, p_value = shapiro(CON_PA_MECVV['EMINA_sumatorios_comparados'])\n",
    "print(f\"Estadístico W = {stat:.4f}\")\n",
    "print(f\"Valor p = {p_value:.4f}\")\n",
    "\n",
    "alpha = 0.05\n",
    "if p_value < alpha:\n",
    "    print(\"El número de filas no sigue una distribución normal (rechazar H0).\")\n",
    "else:\n",
    "    print(\"El número de filas sigue una distribución normal (aceptar H0).\")"
   ],
   "id": "2bf3afd16f2027c6",
   "outputs": [
    {
     "name": "stdout",
     "output_type": "stream",
     "text": [
      "Estadístico W = 0.8885\n",
      "Valor p = 0.1630\n",
      "El número de filas sigue una distribución normal (aceptar H0).\n"
     ]
    }
   ],
   "execution_count": 1523
  },
  {
   "metadata": {
    "ExecuteTime": {
     "end_time": "2024-04-15T10:13:27.884321Z",
     "start_time": "2024-04-15T10:13:27.836644Z"
    }
   },
   "cell_type": "code",
   "source": [
    "stat, p_value = shapiro(SIN_PA['EMINA_sumatorios_comparados'])\n",
    "print(f\"Estadístico W = {stat:.4f}\")\n",
    "print(f\"Valor p = {p_value:.4f}\")\n",
    "\n",
    "alpha = 0.05\n",
    "if p_value < alpha:\n",
    "    print(\"El número de filas no sigue una distribución normal (rechazar H0).\")\n",
    "else:\n",
    "    print(\"El número de filas sigue una distribución normal (aceptar H0).\")"
   ],
   "id": "35d52c1d08eae392",
   "outputs": [
    {
     "name": "stdout",
     "output_type": "stream",
     "text": [
      "Estadístico W = nan\n",
      "Valor p = nan\n",
      "El número de filas sigue una distribución normal (aceptar H0).\n"
     ]
    }
   ],
   "execution_count": 1522
  },
  {
   "metadata": {},
   "cell_type": "markdown",
   "source": "Podemos usar T-test porque siguen distribucion normal (?)",
   "id": "a6101b1ec3069bd4"
  },
  {
   "metadata": {
    "ExecuteTime": {
     "end_time": "2024-04-15T10:14:40.871164Z",
     "start_time": "2024-04-15T10:14:40.776519Z"
    }
   },
   "cell_type": "code",
   "source": [
    "t_stat_12, p_val_12 = ttest_ind(CON_PA['EMINA_sumatorios_comparados'], CON_PA_MECVV['EMINA_sumatorios_comparados'], equal_var=False)\n",
    "print(\"P-valor entre CON_PA y CON_PA_MECVV:\", p_val_12)"
   ],
   "id": "19c464a0afea8bee",
   "outputs": [
    {
     "name": "stdout",
     "output_type": "stream",
     "text": [
      "P-valor entre CON_PA y CON_PA_MECVV: 0.7372065144531302\n"
     ]
    }
   ],
   "execution_count": 1525
  },
  {
   "metadata": {
    "ExecuteTime": {
     "end_time": "2024-04-15T09:30:03.960367Z",
     "start_time": "2024-04-15T09:30:03.954050Z"
    }
   },
   "cell_type": "code",
   "source": [
    "t_stat_13, p_val_13 = ttest_ind(CON_PA['EMINA_sumatorios_comparados'], SIN_PA['EMINA_sumatorios_comparados'], equal_var=False)\n",
    "print(\"P-valor entre CON_PA y SIN_PA:\", p_val_13)"
   ],
   "id": "987f92dcb16d57e2",
   "outputs": [
    {
     "name": "stdout",
     "output_type": "stream",
     "text": [
      "P-valor entre CON_PA y SIN_PA: nan\n"
     ]
    }
   ],
   "execution_count": 1364
  },
  {
   "metadata": {
    "ExecuteTime": {
     "end_time": "2024-04-15T09:30:04.421698Z",
     "start_time": "2024-04-15T09:30:04.416312Z"
    }
   },
   "cell_type": "code",
   "source": [
    "t_stat_23, p_val_23 = ttest_ind(CON_PA_MECVV['EMINA_sumatorios_comparados'], SIN_PA['EMINA_sumatorios_comparados'], equal_var=False)\n",
    "print(\"P-valor entre CON_PA_MECVV y SIN_PA:\", p_val_23)"
   ],
   "id": "368fa9440dab1343",
   "outputs": [
    {
     "name": "stdout",
     "output_type": "stream",
     "text": [
      "P-valor entre CON_PA_MECVV y SIN_PA: nan\n"
     ]
    }
   ],
   "execution_count": 1365
  },
  {
   "metadata": {},
   "cell_type": "markdown",
   "source": "### Valores EMINA",
   "id": "fe44c5a2a9a5c364"
  },
  {
   "metadata": {},
   "cell_type": "markdown",
   "source": "##### CON_PA",
   "id": "b86ec7ed9e5b32ef"
  },
  {
   "metadata": {
    "ExecuteTime": {
     "end_time": "2024-04-15T09:30:04.667944Z",
     "start_time": "2024-04-15T09:30:04.662018Z"
    }
   },
   "cell_type": "code",
   "source": [
    "lowr_CON_PA = CON_PA['EMINA_sumatorios_comparados'].between(0, 5)\n",
    "porcentaje_lowr_CON_PA = lowr_CON_PA.mean() * 100\n",
    "num_observaciones_lowr_CON_PA = lowr_CON_PA.sum()\n",
    "\n",
    "print(f\"Porcentaje de lowr_CON_PA: {porcentaje_lowr_CON_PA:.2f}%\")\n",
    "print(f\"Número de observaciones en lowr_CON_PA: {num_observaciones_lowr_CON_PA}\")"
   ],
   "id": "86d6a7c6920067a1",
   "outputs": [
    {
     "name": "stdout",
     "output_type": "stream",
     "text": [
      "Porcentaje de lowr_CON_PA: 17.65%\n",
      "Número de observaciones en lowr_CON_PA: 3\n"
     ]
    }
   ],
   "execution_count": 1366
  },
  {
   "metadata": {
    "ExecuteTime": {
     "end_time": "2024-04-15T09:30:05.135163Z",
     "start_time": "2024-04-15T09:30:05.118999Z"
    }
   },
   "cell_type": "code",
   "source": [
    "modr_CON_PA = CON_PA['EMINA_sumatorios_comparados'].between(6, 10)\n",
    "porcentaje_modr_CON_PA = modr_CON_PA.mean() * 100\n",
    "num_observaciones_modr_CON_PA = modr_CON_PA.sum()\n",
    "\n",
    "print(f\"Porcentaje de modr_CON_PA: {porcentaje_modr_CON_PA:.2f}%\")\n",
    "print(f\"Número de observaciones en modr_CON_PA: {num_observaciones_modr_CON_PA}\")"
   ],
   "id": "e83559c6b51c4aba",
   "outputs": [
    {
     "name": "stdout",
     "output_type": "stream",
     "text": [
      "Porcentaje de modr_CON_PA: 64.71%\n",
      "Número de observaciones en modr_CON_PA: 11\n"
     ]
    }
   ],
   "execution_count": 1367
  },
  {
   "metadata": {
    "ExecuteTime": {
     "end_time": "2024-04-15T09:30:05.384266Z",
     "start_time": "2024-04-15T09:30:05.379184Z"
    }
   },
   "cell_type": "code",
   "source": [
    "highr_CON_PA = CON_PA['EMINA_sumatorios_comparados'].between(11, 15)\n",
    "porcentaje_highr_CON_PA = highr_CON_PA.mean() * 100\n",
    "num_observaciones_highr_CON_PA = highr_CON_PA.sum()\n",
    "\n",
    "print(f\"Porcentaje de highr_CON_PA: {porcentaje_highr_CON_PA:.2f}%\")\n",
    "print(f\"Número de observaciones en highr_CON_PA: {num_observaciones_highr_CON_PA}\")"
   ],
   "id": "65093dd3b95effd9",
   "outputs": [
    {
     "name": "stdout",
     "output_type": "stream",
     "text": [
      "Porcentaje de highr_CON_PA: 17.65%\n",
      "Número de observaciones en highr_CON_PA: 3\n"
     ]
    }
   ],
   "execution_count": 1368
  },
  {
   "metadata": {},
   "cell_type": "markdown",
   "source": "##### CON_PA_MECVV",
   "id": "3b6e67f92fff0a50"
  },
  {
   "metadata": {
    "ExecuteTime": {
     "end_time": "2024-04-15T09:30:05.806044Z",
     "start_time": "2024-04-15T09:30:05.800174Z"
    }
   },
   "cell_type": "code",
   "source": [
    "lowr_CON_PA_MECVV = CON_PA_MECVV['EMINA_sumatorios_comparados'].between(0, 5)\n",
    "porcentaje_lowr_CON_PA_MECVV = lowr_CON_PA_MECVV.mean() * 100\n",
    "num_observaciones_lowr_CON_PA_MECVV = lowr_CON_PA_MECVV.sum()\n",
    "\n",
    "print(f\"Porcentaje de lowr_CON_PA_MECVV: {porcentaje_lowr_CON_PA_MECVV:.2f}%\")\n",
    "print(f\"Número de observaciones en lowr_CON_PA_MECVV: {num_observaciones_lowr_CON_PA_MECVV}\")"
   ],
   "id": "adaaabe63e2f49be",
   "outputs": [
    {
     "name": "stdout",
     "output_type": "stream",
     "text": [
      "Porcentaje de lowr_CON_PA_MECVV: 20.00%\n",
      "Número de observaciones en lowr_CON_PA_MECVV: 2\n"
     ]
    }
   ],
   "execution_count": 1369
  },
  {
   "metadata": {
    "ExecuteTime": {
     "end_time": "2024-04-15T09:30:06.052379Z",
     "start_time": "2024-04-15T09:30:06.047314Z"
    }
   },
   "cell_type": "code",
   "source": [
    "modr_CON_PA_MECVV = CON_PA_MECVV['EMINA_sumatorios_comparados'].between(6, 10)\n",
    "porcentaje_modr_CON_PA_MECVV = modr_CON_PA_MECVV.mean() * 100\n",
    "num_observaciones_modr_CON_PA_MECVV = modr_CON_PA_MECVV.sum()\n",
    "\n",
    "print(f\"Porcentaje de modr_CON_PA_MECVV: {porcentaje_modr_CON_PA_MECVV:.2f}%\")\n",
    "print(f\"Número de observaciones en modr_CON_PA_MECVV: {num_observaciones_modr_CON_PA_MECVV}\")"
   ],
   "id": "2d28ddd8a3cf1676",
   "outputs": [
    {
     "name": "stdout",
     "output_type": "stream",
     "text": [
      "Porcentaje de modr_CON_PA_MECVV: 80.00%\n",
      "Número de observaciones en modr_CON_PA_MECVV: 8\n"
     ]
    }
   ],
   "execution_count": 1370
  },
  {
   "metadata": {
    "ExecuteTime": {
     "end_time": "2024-04-15T09:30:06.518452Z",
     "start_time": "2024-04-15T09:30:06.508665Z"
    }
   },
   "cell_type": "code",
   "source": [
    "highr_CON_PA_MECVV = CON_PA_MECVV['EMINA_sumatorios_comparados'].between(11, 15)\n",
    "porcentaje_highr_CON_PA_MECVV = highr_CON_PA_MECVV.mean() * 100\n",
    "num_observaciones_highr_CON_PA_MECVV = highr_CON_PA_MECVV.sum()\n",
    "\n",
    "print(f\"Porcentaje de highr_CON_PA_MECVV: {porcentaje_highr_CON_PA_MECVV:.2f}%\")\n",
    "print(f\"Número de observaciones en highr_CON_PA_MECVV: {num_observaciones_highr_CON_PA_MECVV}\")"
   ],
   "id": "fb4f6e91c54399f1",
   "outputs": [
    {
     "name": "stdout",
     "output_type": "stream",
     "text": [
      "Porcentaje de highr_CON_PA_MECVV: 0.00%\n",
      "Número de observaciones en highr_CON_PA_MECVV: 0\n"
     ]
    }
   ],
   "execution_count": 1371
  },
  {
   "metadata": {},
   "cell_type": "markdown",
   "source": "##### SIN_PA",
   "id": "d04271a0bc855edb"
  },
  {
   "metadata": {
    "ExecuteTime": {
     "end_time": "2024-04-15T09:30:06.761933Z",
     "start_time": "2024-04-15T09:30:06.755438Z"
    }
   },
   "cell_type": "code",
   "source": [
    "lowr_SIN_PA = SIN_PA['EMINA_sumatorios_comparados'].between(0, 5)\n",
    "porcentaje_lowr_SIN_PA = lowr_SIN_PA.mean() * 100\n",
    "num_observaciones_lowr_SIN_PA = lowr_SIN_PA.sum()\n",
    "\n",
    "print(f\"Porcentaje de lowr_SIN_PA: {porcentaje_lowr_SIN_PA:.2f}%\")\n",
    "print(f\"Número de observaciones en lowr_SIN_PA: {num_observaciones_lowr_SIN_PA}\")"
   ],
   "id": "cc1245eef9c28b6a",
   "outputs": [
    {
     "name": "stdout",
     "output_type": "stream",
     "text": [
      "Porcentaje de lowr_SIN_PA: 44.90%\n",
      "Número de observaciones en lowr_SIN_PA: 22\n"
     ]
    }
   ],
   "execution_count": 1372
  },
  {
   "metadata": {
    "ExecuteTime": {
     "end_time": "2024-04-15T09:30:07.227602Z",
     "start_time": "2024-04-15T09:30:07.221008Z"
    }
   },
   "cell_type": "code",
   "source": [
    "modr_SIN_PA = SIN_PA['EMINA_sumatorios_comparados'].between(6, 10)\n",
    "porcentaje_modr_SIN_PA = modr_SIN_PA.mean() * 100\n",
    "num_observaciones_modr_SIN_PA = modr_SIN_PA.sum()\n",
    "\n",
    "print(f\"Porcentaje de modr_SIN_PA: {porcentaje_modr_SIN_PA:.2f}%\")\n",
    "print(f\"Número de observaciones en modr_SIN_PA: {num_observaciones_modr_SIN_PA}\")"
   ],
   "id": "7761893615ad9180",
   "outputs": [
    {
     "name": "stdout",
     "output_type": "stream",
     "text": [
      "Porcentaje de modr_SIN_PA: 40.82%\n",
      "Número de observaciones en modr_SIN_PA: 20\n"
     ]
    }
   ],
   "execution_count": 1373
  },
  {
   "metadata": {
    "ExecuteTime": {
     "end_time": "2024-04-15T09:30:07.496229Z",
     "start_time": "2024-04-15T09:30:07.490185Z"
    }
   },
   "cell_type": "code",
   "source": [
    "highr_SIN_PA = SIN_PA['EMINA_sumatorios_comparados'].between(11, 15)\n",
    "porcentaje_highr_SIN_PA = highr_SIN_PA.mean() * 100\n",
    "num_observaciones_highr_SIN_PA = highr_SIN_PA.sum()\n",
    "\n",
    "print(f\"Porcentaje de highr_SIN_PA: {porcentaje_highr_SIN_PA:.2f}%\")\n",
    "print(f\"Número de observaciones en highr_SIN_PA: {num_observaciones_highr_SIN_PA}\")"
   ],
   "id": "b7b73c45237d7dc5",
   "outputs": [
    {
     "name": "stdout",
     "output_type": "stream",
     "text": [
      "Porcentaje de highr_SIN_PA: 10.20%\n",
      "Número de observaciones en highr_SIN_PA: 5\n"
     ]
    }
   ],
   "execution_count": 1374
  },
  {
   "metadata": {},
   "cell_type": "markdown",
   "source": "#### Pvalor ",
   "id": "3baa7d3e12fb1cc"
  },
  {
   "metadata": {},
   "cell_type": "markdown",
   "source": "##### Riesgo bajo",
   "id": "a0332f1a5433e16"
  },
  {
   "metadata": {
    "ExecuteTime": {
     "end_time": "2024-04-15T09:30:07.932248Z",
     "start_time": "2024-04-15T09:30:07.924372Z"
    }
   },
   "cell_type": "code",
   "source": [
    "t_stat_12, p_val_12 = ttest_ind(CON_PA['EMINA_sumatorios_comparados'].between(0,5), CON_PA_MECVV['EMINA_sumatorios_comparados'].between(0,5), equal_var=False)\n",
    "print(\"P-valor entre CON_PA y CON_PA_MECVV:\", p_val_12)"
   ],
   "id": "a4c504c10fa639c8",
   "outputs": [
    {
     "name": "stdout",
     "output_type": "stream",
     "text": [
      "P-valor entre CON_PA y CON_PA_MECVV: 0.8874457485314164\n"
     ]
    }
   ],
   "execution_count": 1375
  },
  {
   "metadata": {
    "ExecuteTime": {
     "end_time": "2024-04-15T09:30:08.172687Z",
     "start_time": "2024-04-15T09:30:08.163844Z"
    }
   },
   "cell_type": "code",
   "source": [
    "t_stat_13, p_val_13 = ttest_ind(CON_PA['EMINA_sumatorios_comparados'].between(0,5), SIN_PA['EMINA_sumatorios_comparados'].between(0,5), equal_var=False)\n",
    "print(\"P-valor entre CON_PA y SIN_PA:\", p_val_13)"
   ],
   "id": "ac1ec771898cce9b",
   "outputs": [
    {
     "name": "stdout",
     "output_type": "stream",
     "text": [
      "P-valor entre CON_PA y SIN_PA: 0.028470032037651503\n"
     ]
    }
   ],
   "execution_count": 1376
  },
  {
   "metadata": {
    "ExecuteTime": {
     "end_time": "2024-04-15T09:30:08.652199Z",
     "start_time": "2024-04-15T09:30:08.644899Z"
    }
   },
   "cell_type": "code",
   "source": [
    "t_stat_23, p_val_23 = ttest_ind(CON_PA_MECVV['EMINA_sumatorios_comparados'].between(0,5), SIN_PA['EMINA_sumatorios_comparados'].between(0,5), equal_var=False)\n",
    "print(\"P-valor entre CON_PA_MECVV y SIN_PA:\", p_val_23)"
   ],
   "id": "85095f67777cc3d1",
   "outputs": [
    {
     "name": "stdout",
     "output_type": "stream",
     "text": [
      "P-valor entre CON_PA_MECVV y SIN_PA: 0.12129243251471264\n"
     ]
    }
   ],
   "execution_count": 1377
  },
  {
   "metadata": {},
   "cell_type": "markdown",
   "source": "##### Riesgo moderado ",
   "id": "bc56bb9041c8190"
  },
  {
   "metadata": {
    "ExecuteTime": {
     "end_time": "2024-04-15T09:30:08.886021Z",
     "start_time": "2024-04-15T09:30:08.877605Z"
    }
   },
   "cell_type": "code",
   "source": [
    "t_stat_12, p_val_12 = ttest_ind(CON_PA['EMINA_sumatorios_comparados'].between(6,10), CON_PA_MECVV['EMINA_sumatorios_comparados'].between(6,10), equal_var=False)\n",
    "print(\"P-valor entre CON_PA y CON_PA_MECVV:\", p_val_12)"
   ],
   "id": "3b06f7bb9555b9c8",
   "outputs": [
    {
     "name": "stdout",
     "output_type": "stream",
     "text": [
      "P-valor entre CON_PA y CON_PA_MECVV: 0.40237952012988454\n"
     ]
    }
   ],
   "execution_count": 1378
  },
  {
   "metadata": {
    "ExecuteTime": {
     "end_time": "2024-04-15T09:30:09.346927Z",
     "start_time": "2024-04-15T09:30:09.338582Z"
    }
   },
   "cell_type": "code",
   "source": [
    "t_stat_13, p_val_13 = ttest_ind(CON_PA['EMINA_sumatorios_comparados'].between(6,10), SIN_PA['EMINA_sumatorios_comparados'].between(6,10), equal_var=False)\n",
    "print(\"P-valor entre CON_PA y SIN_PA:\", p_val_13)"
   ],
   "id": "6bc38a3f8e4cb31c",
   "outputs": [
    {
     "name": "stdout",
     "output_type": "stream",
     "text": [
      "P-valor entre CON_PA y SIN_PA: 0.09654829012396034\n"
     ]
    }
   ],
   "execution_count": 1379
  },
  {
   "metadata": {
    "ExecuteTime": {
     "end_time": "2024-04-15T09:30:09.594328Z",
     "start_time": "2024-04-15T09:30:09.587874Z"
    }
   },
   "cell_type": "code",
   "source": [
    "t_stat_23, p_val_23 = ttest_ind(CON_PA_MECVV['EMINA_sumatorios_comparados'].between(6,10), SIN_PA['EMINA_sumatorios_comparados'].between(6,10), equal_var=False)\n",
    "print(\"P-valor entre CON_PA_MECVV y SIN_PA:\", p_val_23)"
   ],
   "id": "5724be35a0f2dd6a",
   "outputs": [
    {
     "name": "stdout",
     "output_type": "stream",
     "text": [
      "P-valor entre CON_PA_MECVV y SIN_PA: 0.02066325652755892\n"
     ]
    }
   ],
   "execution_count": 1380
  },
  {
   "metadata": {},
   "cell_type": "markdown",
   "source": "##### Riesgo alto",
   "id": "5fd7cd0228563415"
  },
  {
   "metadata": {
    "ExecuteTime": {
     "end_time": "2024-04-15T09:30:10.012244Z",
     "start_time": "2024-04-15T09:30:10.004937Z"
    }
   },
   "cell_type": "code",
   "source": [
    "t_stat_12, p_val_12 = ttest_ind(CON_PA['EMINA_sumatorios_comparados'].between(11,15), CON_PA_MECVV['EMINA_sumatorios_comparados'].between(11,15), equal_var=False)\n",
    "print(\"P-valor entre CON_PA y CON_PA_MECVV:\", p_val_12)"
   ],
   "id": "b291b49b7cfd7801",
   "outputs": [
    {
     "name": "stdout",
     "output_type": "stream",
     "text": [
      "P-valor entre CON_PA y CON_PA_MECVV: 0.08262239198015026\n"
     ]
    }
   ],
   "execution_count": 1381
  },
  {
   "metadata": {
    "ExecuteTime": {
     "end_time": "2024-04-15T09:30:10.258854Z",
     "start_time": "2024-04-15T09:30:10.248423Z"
    }
   },
   "cell_type": "code",
   "source": [
    "t_stat_13, p_val_13 = ttest_ind(CON_PA['EMINA_sumatorios_comparados'].between(11,15), SIN_PA['EMINA_sumatorios_comparados'].between(11,15), equal_var=False)\n",
    "print(\"P-valor entre CON_PA y SIN_PA:\", p_val_13)"
   ],
   "id": "2d400de538a5c526",
   "outputs": [
    {
     "name": "stdout",
     "output_type": "stream",
     "text": [
      "P-valor entre CON_PA y SIN_PA: 0.48486212369214565\n"
     ]
    }
   ],
   "execution_count": 1382
  },
  {
   "metadata": {
    "ExecuteTime": {
     "end_time": "2024-04-15T09:30:10.732227Z",
     "start_time": "2024-04-15T09:30:10.723596Z"
    }
   },
   "cell_type": "code",
   "source": [
    "t_stat_23, p_val_23 = ttest_ind(CON_PA_MECVV['EMINA_sumatorios_comparados'].between(11,15), SIN_PA['EMINA_sumatorios_comparados'].between(11,15), equal_var=False)\n",
    "print(\"P-valor entre CON_PA_MECVV y SIN_PA:\", p_val_23)"
   ],
   "id": "3b22981463d49b29",
   "outputs": [
    {
     "name": "stdout",
     "output_type": "stream",
     "text": [
      "P-valor entre CON_PA_MECVV y SIN_PA: 0.02374418239053046\n"
     ]
    }
   ],
   "execution_count": 1383
  },
  {
   "metadata": {},
   "cell_type": "markdown",
   "source": "## Indice de la canadenca ",
   "id": "5056539fa7987019"
  },
  {
   "metadata": {},
   "cell_type": "markdown",
   "source": "### Promedio",
   "id": "de9fe3b93db47a5d"
  },
  {
   "metadata": {
    "ExecuteTime": {
     "end_time": "2024-04-15T09:30:11.030768Z",
     "start_time": "2024-04-15T09:30:11.024426Z"
    }
   },
   "cell_type": "code",
   "source": [
    "promedio_canad = CON_PA['Canadenca_sumatorios_comparados'].mean()\n",
    "desviacion_estandar_canad = CON_PA['Canadenca_sumatorios_comparados'].std()\n",
    "\n",
    "resultado = f\"{promedio_canad:.2f} ± {desviacion_estandar_canad:.2f}\"\n",
    "print(\"Promedio ± Desviación Estándar de la canadenca:\", resultado)"
   ],
   "id": "f315485a25330ace",
   "outputs": [
    {
     "name": "stdout",
     "output_type": "stream",
     "text": [
      "Promedio ± Desviación Estándar de la canadenca: 7.00 ± nan\n"
     ]
    }
   ],
   "execution_count": 1384
  },
  {
   "metadata": {
    "ExecuteTime": {
     "end_time": "2024-04-15T09:30:11.496038Z",
     "start_time": "2024-04-15T09:30:11.490365Z"
    }
   },
   "cell_type": "code",
   "source": [
    "promedio_canad = CON_PA_MECVV['Canadenca_sumatorios_comparados'].mean()\n",
    "desviacion_estandar_canad = CON_PA_MECVV['Canadenca_sumatorios_comparados'].std()\n",
    "\n",
    "resultado = f\"{promedio_canad:.2f} ± {desviacion_estandar_canad:.2f}\"\n",
    "print(\"Promedio ± Desviación Estándar de la canadenca:\", resultado)"
   ],
   "id": "42578915c64daa4c",
   "outputs": [
    {
     "name": "stdout",
     "output_type": "stream",
     "text": [
      "Promedio ± Desviación Estándar de la canadenca: 7.00 ± nan\n"
     ]
    }
   ],
   "execution_count": 1385
  },
  {
   "metadata": {
    "ExecuteTime": {
     "end_time": "2024-04-15T09:30:11.796270Z",
     "start_time": "2024-04-15T09:30:11.790432Z"
    }
   },
   "cell_type": "code",
   "source": [
    "promedio_canad = SIN_PA['Canadenca_sumatorios_comparados'].mean()\n",
    "desviacion_estandar_canad = SIN_PA['Canadenca_sumatorios_comparados'].std()\n",
    "\n",
    "resultado = f\"{promedio_canad:.2f} ± {desviacion_estandar_canad:.2f}\"\n",
    "print(\"Promedio ± Desviación Estándar de la canadenca:\", resultado)"
   ],
   "id": "28244115d66ef30d",
   "outputs": [
    {
     "name": "stdout",
     "output_type": "stream",
     "text": [
      "Promedio ± Desviación Estándar de la canadenca: 8.00 ± 1.41\n"
     ]
    }
   ],
   "execution_count": 1386
  },
  {
   "metadata": {},
   "cell_type": "markdown",
   "source": "#### Pvalor",
   "id": "6354bda0e179eb04"
  },
  {
   "metadata": {},
   "cell_type": "markdown",
   "source": "##### Normalidad",
   "id": "938ad17a698e9c0c"
  },
  {
   "metadata": {
    "ExecuteTime": {
     "end_time": "2024-04-15T10:20:15.958105Z",
     "start_time": "2024-04-15T10:20:15.883167Z"
    }
   },
   "cell_type": "code",
   "source": "No puedo calcular la normalidad porque solo hay 2 filas que tienen un valor, el resto estan vacias. Asumo que no sigue una distribución normal.",
   "id": "698839763300bfe9",
   "outputs": [
    {
     "ename": "ValueError",
     "evalue": "Data must be at least length 3.",
     "output_type": "error",
     "traceback": [
      "\u001B[1;31m---------------------------------------------------------------------------\u001B[0m",
      "\u001B[1;31mValueError\u001B[0m                                Traceback (most recent call last)",
      "Cell \u001B[1;32mIn[1532], line 2\u001B[0m\n\u001B[0;32m      1\u001B[0m conpana \u001B[38;5;241m=\u001B[39m CON_PA[\u001B[38;5;124m'\u001B[39m\u001B[38;5;124mCanadenca_sumatorios_comparados\u001B[39m\u001B[38;5;124m'\u001B[39m]\u001B[38;5;241m.\u001B[39mdropna()\n\u001B[1;32m----> 2\u001B[0m stat, p_value \u001B[38;5;241m=\u001B[39m \u001B[43mshapiro\u001B[49m\u001B[43m(\u001B[49m\u001B[43mconpana\u001B[49m\u001B[43m)\u001B[49m\n\u001B[0;32m      3\u001B[0m \u001B[38;5;28mprint\u001B[39m(\u001B[38;5;124mf\u001B[39m\u001B[38;5;124m\"\u001B[39m\u001B[38;5;124mEstadístico W = \u001B[39m\u001B[38;5;132;01m{\u001B[39;00mstat\u001B[38;5;132;01m:\u001B[39;00m\u001B[38;5;124m.4f\u001B[39m\u001B[38;5;132;01m}\u001B[39;00m\u001B[38;5;124m\"\u001B[39m)\n\u001B[0;32m      4\u001B[0m \u001B[38;5;28mprint\u001B[39m(\u001B[38;5;124mf\u001B[39m\u001B[38;5;124m\"\u001B[39m\u001B[38;5;124mValor p = \u001B[39m\u001B[38;5;132;01m{\u001B[39;00mp_value\u001B[38;5;132;01m:\u001B[39;00m\u001B[38;5;124m.4f\u001B[39m\u001B[38;5;132;01m}\u001B[39;00m\u001B[38;5;124m\"\u001B[39m)\n",
      "File \u001B[1;32m~\\PycharmProjects\\practicum\\.venv\\Lib\\site-packages\\scipy\\stats\\_axis_nan_policy.py:531\u001B[0m, in \u001B[0;36m_axis_nan_policy_factory.<locals>.axis_nan_policy_decorator.<locals>.axis_nan_policy_wrapper\u001B[1;34m(***failed resolving arguments***)\u001B[0m\n\u001B[0;32m    529\u001B[0m \u001B[38;5;28;01mif\u001B[39;00m sentinel:\n\u001B[0;32m    530\u001B[0m     samples \u001B[38;5;241m=\u001B[39m _remove_sentinel(samples, paired, sentinel)\n\u001B[1;32m--> 531\u001B[0m res \u001B[38;5;241m=\u001B[39m \u001B[43mhypotest_fun_out\u001B[49m\u001B[43m(\u001B[49m\u001B[38;5;241;43m*\u001B[39;49m\u001B[43msamples\u001B[49m\u001B[43m,\u001B[49m\u001B[43m \u001B[49m\u001B[38;5;241;43m*\u001B[39;49m\u001B[38;5;241;43m*\u001B[39;49m\u001B[43mkwds\u001B[49m\u001B[43m)\u001B[49m\n\u001B[0;32m    532\u001B[0m res \u001B[38;5;241m=\u001B[39m result_to_tuple(res)\n\u001B[0;32m    533\u001B[0m res \u001B[38;5;241m=\u001B[39m _add_reduced_axes(res, reduced_axes, keepdims)\n",
      "File \u001B[1;32m~\\PycharmProjects\\practicum\\.venv\\Lib\\site-packages\\scipy\\stats\\_morestats.py:1994\u001B[0m, in \u001B[0;36mshapiro\u001B[1;34m(x)\u001B[0m\n\u001B[0;32m   1992\u001B[0m N \u001B[38;5;241m=\u001B[39m \u001B[38;5;28mlen\u001B[39m(x)\n\u001B[0;32m   1993\u001B[0m \u001B[38;5;28;01mif\u001B[39;00m N \u001B[38;5;241m<\u001B[39m \u001B[38;5;241m3\u001B[39m:\n\u001B[1;32m-> 1994\u001B[0m     \u001B[38;5;28;01mraise\u001B[39;00m \u001B[38;5;167;01mValueError\u001B[39;00m(\u001B[38;5;124m\"\u001B[39m\u001B[38;5;124mData must be at least length 3.\u001B[39m\u001B[38;5;124m\"\u001B[39m)\n\u001B[0;32m   1996\u001B[0m a \u001B[38;5;241m=\u001B[39m zeros(N\u001B[38;5;241m/\u001B[39m\u001B[38;5;241m/\u001B[39m\u001B[38;5;241m2\u001B[39m, dtype\u001B[38;5;241m=\u001B[39mnp\u001B[38;5;241m.\u001B[39mfloat64)\n\u001B[0;32m   1997\u001B[0m init \u001B[38;5;241m=\u001B[39m \u001B[38;5;241m0\u001B[39m\n",
      "\u001B[1;31mValueError\u001B[0m: Data must be at least length 3."
     ]
    }
   ],
   "execution_count": 1532
  },
  {
   "metadata": {
    "ExecuteTime": {
     "end_time": "2024-04-15T10:27:08.495652Z",
     "start_time": "2024-04-15T10:27:08.485916Z"
    }
   },
   "cell_type": "code",
   "source": [
    "t_stat_12, p_val_12 = mannwhitneyu(CON_PA['Canadenca_sumatorios_comparados'], CON_PA_MECVV['Canadenca_sumatorios_comparados'], alternative='two-sided')\n",
    "print(\"P-valor entre CON_PA y CON_PA_MECVV:\", p_val_12)"
   ],
   "id": "607d662547537bd",
   "outputs": [
    {
     "name": "stdout",
     "output_type": "stream",
     "text": [
      "P-valor entre CON_PA y CON_PA_MECVV: nan\n"
     ]
    }
   ],
   "execution_count": 1533
  },
  {
   "metadata": {
    "ExecuteTime": {
     "end_time": "2024-04-15T10:27:28.797218Z",
     "start_time": "2024-04-15T10:27:28.755476Z"
    }
   },
   "cell_type": "code",
   "source": [
    "t_stat_13, p_val_13 = mannwhitneyu(CON_PA['Canadenca_sumatorios_comparados'], SIN_PA['Canadenca_sumatorios_comparados'], alternative='two-sided')\n",
    "print(\"P-valor entre CON_PA y SIN_PA:\", p_val_13)"
   ],
   "id": "9e5b0ff4c887dbfd",
   "outputs": [
    {
     "name": "stdout",
     "output_type": "stream",
     "text": [
      "P-valor entre CON_PA y SIN_PA: nan\n"
     ]
    }
   ],
   "execution_count": 1534
  },
  {
   "metadata": {
    "ExecuteTime": {
     "end_time": "2024-04-15T10:27:41.448816Z",
     "start_time": "2024-04-15T10:27:41.441540Z"
    }
   },
   "cell_type": "code",
   "source": [
    "t_stat_23, p_val_23 = ttest_ind(CON_PA_MECVV['Canadenca_sumatorios_comparados'], SIN_PA['Canadenca_sumatorios_comparados'], alternative='two-sided')\n",
    "print(\"P-valor entre CON_PA_MECVV y SIN_PA:\", p_val_23)"
   ],
   "id": "1ea57b7e52ab052d",
   "outputs": [
    {
     "name": "stdout",
     "output_type": "stream",
     "text": [
      "P-valor entre CON_PA_MECVV y SIN_PA: nan\n"
     ]
    }
   ],
   "execution_count": 1535
  },
  {
   "metadata": {},
   "cell_type": "markdown",
   "source": "### Valores canadenca",
   "id": "bd3bf859cf9f0c4c"
  },
  {
   "metadata": {},
   "cell_type": "markdown",
   "source": "##### CON_PA ",
   "id": "aba9b47507424343"
  },
  {
   "metadata": {
    "ExecuteTime": {
     "end_time": "2024-04-15T09:30:13.311852Z",
     "start_time": "2024-04-15T09:30:13.306800Z"
    }
   },
   "cell_type": "code",
   "source": [
    "mild_CON_PA = CON_PA['Canadenca_sumatorios_comparados'].between(10.5, 11.5)\n",
    "porcentaje_mild_CON_PA = mild_CON_PA.mean() * 100\n",
    "num_observaciones_mild_CON_PA = mild_CON_PA.sum()\n",
    "\n",
    "print(f\"Porcentaje de mild_CON_PA: {porcentaje_mild_CON_PA:.2f}%\")\n",
    "print(f\"Número de observaciones en mild_CON_PA: {num_observaciones_mild_CON_PA}\")"
   ],
   "id": "65c87765592301ae",
   "outputs": [
    {
     "name": "stdout",
     "output_type": "stream",
     "text": [
      "Porcentaje de mild_CON_PA: 0.00%\n",
      "Número de observaciones en mild_CON_PA: 0\n"
     ]
    }
   ],
   "execution_count": 1390
  },
  {
   "metadata": {
    "ExecuteTime": {
     "end_time": "2024-04-15T09:30:13.839362Z",
     "start_time": "2024-04-15T09:30:13.833822Z"
    }
   },
   "cell_type": "code",
   "source": [
    "modneu_CON_PA = CON_PA['Canadenca_sumatorios_comparados'].between(5,10)\n",
    "porcentaje_modneu_CON_PA = modneu_CON_PA.mean() * 100\n",
    "num_observaciones_modneu_CON_PA = modneu_CON_PA.sum()\n",
    "\n",
    "print(f\"Porcentaje de modneu_CON_PA: {porcentaje_modneu_CON_PA:.2f}%\")\n",
    "print(f\"Número de observaciones en modneu_CON_PA: {num_observaciones_modneu_CON_PA}\")"
   ],
   "id": "1442231e84ac756e",
   "outputs": [
    {
     "name": "stdout",
     "output_type": "stream",
     "text": [
      "Porcentaje de modneu_CON_PA: 5.88%\n",
      "Número de observaciones en modneu_CON_PA: 1\n"
     ]
    }
   ],
   "execution_count": 1391
  },
  {
   "metadata": {
    "ExecuteTime": {
     "end_time": "2024-04-15T09:30:14.099746Z",
     "start_time": "2024-04-15T09:30:14.081951Z"
    }
   },
   "cell_type": "code",
   "source": [
    "sevneu_CON_PA = CON_PA['Canadenca_sumatorios_comparados'].between(1.5, 4.5)\n",
    "porcentaje_sevneu_CON_PA = sevneu_CON_PA.mean() * 100\n",
    "num_observaciones_sevneu_CON_PA = sevneu_CON_PA.sum()\n",
    "\n",
    "print(f\"Porcentaje de sevneu_CON_PA: {porcentaje_sevneu_CON_PA:.2f}%\")\n",
    "print(f\"Número de observaciones en sevneu_CON_PA: {num_observaciones_sevneu_CON_PA}\")"
   ],
   "id": "586734927dd28815",
   "outputs": [
    {
     "name": "stdout",
     "output_type": "stream",
     "text": [
      "Porcentaje de sevneu_CON_PA: 0.00%\n",
      "Número de observaciones en sevneu_CON_PA: 0\n"
     ]
    }
   ],
   "execution_count": 1392
  },
  {
   "metadata": {},
   "cell_type": "markdown",
   "source": "##### CON_PA_MECVV",
   "id": "f03643daf5c46168"
  },
  {
   "metadata": {
    "ExecuteTime": {
     "end_time": "2024-04-15T09:30:14.524146Z",
     "start_time": "2024-04-15T09:30:14.517292Z"
    }
   },
   "cell_type": "code",
   "source": [
    "mild_CON_PA_MECVV = CON_PA_MECVV['Canadenca_sumatorios_comparados'].between(10.5, 11.5)\n",
    "porcentaje_mild_CON_PA_MECVV = mild_CON_PA_MECVV.mean() * 100\n",
    "num_observaciones_mild_CON_PA_MECVV = mild_CON_PA_MECVV.sum()\n",
    "\n",
    "print(f\"Porcentaje de mild_CON_PA_MECVV: {porcentaje_mild_CON_PA_MECVV:.2f}%\")\n",
    "print(f\"Número de observaciones en mild_CON_PA_MECVV: {num_observaciones_mild_CON_PA_MECVV}\")"
   ],
   "id": "57347bcca5478fa7",
   "outputs": [
    {
     "name": "stdout",
     "output_type": "stream",
     "text": [
      "Porcentaje de mild_CON_PA_MECVV: 0.00%\n",
      "Número de observaciones en mild_CON_PA_MECVV: 0\n"
     ]
    }
   ],
   "execution_count": 1393
  },
  {
   "metadata": {
    "ExecuteTime": {
     "end_time": "2024-04-15T09:30:14.808423Z",
     "start_time": "2024-04-15T09:30:14.803775Z"
    }
   },
   "cell_type": "code",
   "source": [
    "modneu_CON_PA_MECVV = CON_PA_MECVV['Canadenca_sumatorios_comparados'].between(5,10)\n",
    "porcentaje_modneu_CON_PA_MECVV = modneu_CON_PA_MECVV.mean() * 100\n",
    "num_observaciones_modneu_CON_PA_MECVV = modneu_CON_PA_MECVV.sum()\n",
    "\n",
    "print(f\"Porcentaje de modneu_CON_PA_MECVV: {porcentaje_modneu_CON_PA_MECVV:.2f}%\")\n",
    "print(f\"Número de observaciones en modneu_CON_PA_MECVV: {num_observaciones_modneu_CON_PA_MECVV}\")"
   ],
   "id": "be2a9404e79e283",
   "outputs": [
    {
     "name": "stdout",
     "output_type": "stream",
     "text": [
      "Porcentaje de modneu_CON_PA_MECVV: 10.00%\n",
      "Número de observaciones en modneu_CON_PA_MECVV: 1\n"
     ]
    }
   ],
   "execution_count": 1394
  },
  {
   "metadata": {
    "ExecuteTime": {
     "end_time": "2024-04-15T09:30:15.280113Z",
     "start_time": "2024-04-15T09:30:15.273907Z"
    }
   },
   "cell_type": "code",
   "source": [
    "sevneu_CON_PA_MECVV = CON_PA_MECVV['Canadenca_sumatorios_comparados'].between(1.5, 4.5)\n",
    "porcentaje_sevneu_CON_PA_MECVV = sevneu_CON_PA_MECVV.mean() * 100\n",
    "num_observaciones_sevneu_CON_PA_MECVV = sevneu_CON_PA_MECVV.sum()\n",
    "\n",
    "print(f\"Porcentaje de sevneu_CON_PA_MECVV: {porcentaje_sevneu_CON_PA_MECVV:.2f}%\")\n",
    "print(f\"Número de observaciones en sevneu_CON_PA_MECVV: {num_observaciones_sevneu_CON_PA_MECVV}\")"
   ],
   "id": "c712d55b14205c2d",
   "outputs": [
    {
     "name": "stdout",
     "output_type": "stream",
     "text": [
      "Porcentaje de sevneu_CON_PA_MECVV: 0.00%\n",
      "Número de observaciones en sevneu_CON_PA_MECVV: 0\n"
     ]
    }
   ],
   "execution_count": 1395
  },
  {
   "metadata": {},
   "cell_type": "markdown",
   "source": "##### SIN_PA",
   "id": "d6b64c5ca280741f"
  },
  {
   "metadata": {
    "ExecuteTime": {
     "end_time": "2024-04-15T09:30:15.550409Z",
     "start_time": "2024-04-15T09:30:15.545718Z"
    }
   },
   "cell_type": "code",
   "source": [
    "mild_SIN_PA = SIN_PA['Canadenca_sumatorios_comparados'].between(10.5, 11.5)\n",
    "porcentaje_mild_SIN_PA = mild_SIN_PA.mean() * 100\n",
    "num_observaciones_mild_SIN_PA = mild_SIN_PA.sum()\n",
    "\n",
    "print(f\"Porcentaje de mild_SIN_PA: {porcentaje_mild_SIN_PA:.2f}%\")\n",
    "print(f\"Número de observaciones en mild_SIN_PA: {num_observaciones_mild_SIN_PA}\")"
   ],
   "id": "61008dd57d322928",
   "outputs": [
    {
     "name": "stdout",
     "output_type": "stream",
     "text": [
      "Porcentaje de mild_SIN_PA: 0.00%\n",
      "Número de observaciones en mild_SIN_PA: 0\n"
     ]
    }
   ],
   "execution_count": 1396
  },
  {
   "metadata": {
    "ExecuteTime": {
     "end_time": "2024-04-15T09:30:16.001864Z",
     "start_time": "2024-04-15T09:30:15.996460Z"
    }
   },
   "cell_type": "code",
   "source": [
    "modneu_SIN_PA = SIN_PA['Canadenca_sumatorios_comparados'].between(5,10)\n",
    "porcentaje_modneu_SIN_PA = modneu_SIN_PA.mean() * 100\n",
    "num_observaciones_modneu_SIN_PA = modneu_SIN_PA.sum()\n",
    "\n",
    "print(f\"Porcentaje de modneu_SIN_PA: {porcentaje_modneu_SIN_PA:.2f}%\")\n",
    "print(f\"Número de observaciones en modneu_SIN_PA: {num_observaciones_modneu_SIN_PA}\")"
   ],
   "id": "d93cb1dc52c2e4a3",
   "outputs": [
    {
     "name": "stdout",
     "output_type": "stream",
     "text": [
      "Porcentaje de modneu_SIN_PA: 4.08%\n",
      "Número de observaciones en modneu_SIN_PA: 2\n"
     ]
    }
   ],
   "execution_count": 1397
  },
  {
   "metadata": {
    "ExecuteTime": {
     "end_time": "2024-04-15T09:30:16.250615Z",
     "start_time": "2024-04-15T09:30:16.245186Z"
    }
   },
   "cell_type": "code",
   "source": [
    "sevneu_SIN_PA = SIN_PA['Canadenca_sumatorios_comparados'].between(1.5, 4.5)\n",
    "porcentaje_sevneu_SIN_PA = sevneu_SIN_PA.mean() * 100\n",
    "num_observaciones_sevneu_SIN_PA = sevneu_SIN_PA.sum()\n",
    "\n",
    "print(f\"Porcentaje de sevneu_SIN_PA: {porcentaje_sevneu_SIN_PA:.2f}%\")\n",
    "print(f\"Número de observaciones en sevneu_SIN_PA: {num_observaciones_sevneu_SIN_PA}\")"
   ],
   "id": "c2bd8e7e46f3f6fa",
   "outputs": [
    {
     "name": "stdout",
     "output_type": "stream",
     "text": [
      "Porcentaje de sevneu_SIN_PA: 0.00%\n",
      "Número de observaciones en sevneu_SIN_PA: 0\n"
     ]
    }
   ],
   "execution_count": 1398
  },
  {
   "metadata": {},
   "cell_type": "markdown",
   "source": "#### Pvalor",
   "id": "d3c987c2989e5129"
  },
  {
   "metadata": {},
   "cell_type": "markdown",
   "source": "##### Deficit neurologico ligero (mild)",
   "id": "434c4358f4a229a0"
  },
  {
   "metadata": {
    "ExecuteTime": {
     "end_time": "2024-04-15T09:30:16.624858Z",
     "start_time": "2024-04-15T09:30:16.616530Z"
    }
   },
   "cell_type": "code",
   "source": [
    "t_stat_12, p_val_12 = ttest_ind(CON_PA['Canadenca_sumatorios_comparados'].between(10.5,11.5), CON_PA_MECVV['Canadenca_sumatorios_comparados'].between(10.5,11.5), equal_var=False)\n",
    "print(\"P-valor entre CON_PA y CON_PA_MECVV:\", p_val_12)"
   ],
   "id": "c73d6b247f483fed",
   "outputs": [
    {
     "name": "stdout",
     "output_type": "stream",
     "text": [
      "P-valor entre CON_PA y CON_PA_MECVV: nan\n"
     ]
    }
   ],
   "execution_count": 1399
  },
  {
   "metadata": {
    "ExecuteTime": {
     "end_time": "2024-04-15T09:30:16.855772Z",
     "start_time": "2024-04-15T09:30:16.847743Z"
    }
   },
   "cell_type": "code",
   "source": [
    "t_stat_13, p_val_13 = ttest_ind(CON_PA['Canadenca_sumatorios_comparados'].between(10.5,11.5), SIN_PA['Canadenca_sumatorios_comparados'].between(10.5,11.5), equal_var=False)\n",
    "print(\"P-valor entre CON_PA y SIN_PA:\", p_val_13)"
   ],
   "id": "60e422a1a3bbc0b0",
   "outputs": [
    {
     "name": "stdout",
     "output_type": "stream",
     "text": [
      "P-valor entre CON_PA y SIN_PA: nan\n"
     ]
    }
   ],
   "execution_count": 1400
  },
  {
   "metadata": {
    "ExecuteTime": {
     "end_time": "2024-04-15T09:30:17.286653Z",
     "start_time": "2024-04-15T09:30:17.277817Z"
    }
   },
   "cell_type": "code",
   "source": [
    "t_stat_23, p_val_23 = ttest_ind(CON_PA_MECVV['Canadenca_sumatorios_comparados'].between(10.5,11.5), SIN_PA['Canadenca_sumatorios_comparados'].between(10.5,11.5), equal_var=False)\n",
    "print(\"P-valor entre CON_PA_MECVV y SIN_PA:\", p_val_23)"
   ],
   "id": "c075274c183bac63",
   "outputs": [
    {
     "name": "stdout",
     "output_type": "stream",
     "text": [
      "P-valor entre CON_PA_MECVV y SIN_PA: nan\n"
     ]
    }
   ],
   "execution_count": 1401
  },
  {
   "metadata": {},
   "cell_type": "markdown",
   "source": "##### Deficit neurologico moderado",
   "id": "552ccd99227faf82"
  },
  {
   "metadata": {
    "ExecuteTime": {
     "end_time": "2024-04-15T10:28:55.426851Z",
     "start_time": "2024-04-15T10:28:55.412767Z"
    }
   },
   "cell_type": "code",
   "source": [
    "t_stat_12, p_val_12 = mannwhitneyu(CON_PA['Canadenca_sumatorios_comparados'].between(5,10), CON_PA_MECVV['Canadenca_sumatorios_comparados'].between(5, 10), alternative='less')\n",
    "print(\"P-valor entre CON_PA y CON_PA_MECVV:\", p_val_12)"
   ],
   "id": "e94a1d27fb89e47b",
   "outputs": [
    {
     "name": "stdout",
     "output_type": "stream",
     "text": [
      "P-valor entre CON_PA y CON_PA_MECVV: 0.3700051180291794\n"
     ]
    }
   ],
   "execution_count": 1536
  },
  {
   "metadata": {
    "ExecuteTime": {
     "end_time": "2024-04-15T10:31:31.581705Z",
     "start_time": "2024-04-15T10:31:31.565385Z"
    }
   },
   "cell_type": "code",
   "source": [
    "t_stat_13, p_val_13 = mannwhitneyu(CON_PA['Canadenca_sumatorios_comparados'].between(5,10), SIN_PA['Canadenca_sumatorios_comparados'].between(5, 10), alternative='less')\n",
    "print(\"P-valor entre CON_PA y SIN_PA:\", p_val_13)"
   ],
   "id": "b8a25453cf521a60",
   "outputs": [
    {
     "name": "stdout",
     "output_type": "stream",
     "text": [
      "P-valor entre CON_PA y SIN_PA: 0.6274490868971419\n"
     ]
    }
   ],
   "execution_count": 1539
  },
  {
   "metadata": {
    "ExecuteTime": {
     "end_time": "2024-04-15T10:29:37.532774Z",
     "start_time": "2024-04-15T10:29:37.523214Z"
    }
   },
   "cell_type": "code",
   "source": [
    "t_stat_23, p_val_23 = mannwhitneyu(CON_PA_MECVV['Canadenca_sumatorios_comparados'].between(5,10), SIN_PA['Canadenca_sumatorios_comparados'].between(5, 10), alternative='less')\n",
    "print(\"P-valor entre CON_PA_MECVV y SIN_PA:\", p_val_23)"
   ],
   "id": "42d8b634d6f77cf8",
   "outputs": [
    {
     "name": "stdout",
     "output_type": "stream",
     "text": [
      "P-valor entre CON_PA_MECVV y SIN_PA: 0.7870742763184819\n"
     ]
    }
   ],
   "execution_count": 1538
  },
  {
   "metadata": {},
   "cell_type": "markdown",
   "source": "##### Deficit neurologico severo",
   "id": "28b3b79ffa4ba154"
  },
  {
   "metadata": {
    "ExecuteTime": {
     "end_time": "2024-04-15T09:30:18.884766Z",
     "start_time": "2024-04-15T09:30:18.871283Z"
    }
   },
   "cell_type": "code",
   "source": [
    "t_stat_12, p_val_12 = ttest_ind(CON_PA['Canadenca_sumatorios_comparados'].between(1.5,4.5), CON_PA_MECVV['Canadenca_sumatorios_comparados'].between(1.5,4.5), equal_var=False)\n",
    "print(\"P-valor entre CON_PA y CON_PA_MECVV:\", p_val_12)"
   ],
   "id": "1375c0dec76e62b5",
   "outputs": [
    {
     "name": "stdout",
     "output_type": "stream",
     "text": [
      "P-valor entre CON_PA y CON_PA_MECVV: nan\n"
     ]
    }
   ],
   "execution_count": 1405
  },
  {
   "metadata": {
    "ExecuteTime": {
     "end_time": "2024-04-15T09:30:19.246315Z",
     "start_time": "2024-04-15T09:30:19.233391Z"
    }
   },
   "cell_type": "code",
   "source": [
    "t_stat_13, p_val_13 = ttest_ind(CON_PA['Canadenca_sumatorios_comparados'].between(1.5, 4.5), SIN_PA['Canadenca_sumatorios_comparados'].between(1.5, 4.5), equal_var=False)\n",
    "print(\"P-valor entre CON_PA y SIN_PA:\", p_val_13)"
   ],
   "id": "b9b1bd499fc47c40",
   "outputs": [
    {
     "name": "stdout",
     "output_type": "stream",
     "text": [
      "P-valor entre CON_PA y SIN_PA: nan\n"
     ]
    }
   ],
   "execution_count": 1406
  },
  {
   "metadata": {
    "ExecuteTime": {
     "end_time": "2024-04-15T09:30:19.820957Z",
     "start_time": "2024-04-15T09:30:19.808264Z"
    }
   },
   "cell_type": "code",
   "source": [
    "t_stat_23, p_val_23 = ttest_ind(CON_PA_MECVV['Canadenca_sumatorios_comparados'].between(1.5,4.5), SIN_PA['Canadenca_sumatorios_comparados'].between(1.5, 4.5), equal_var=False)\n",
    "print(\"P-valor entre CON_PA_MECVV y SIN_PA:\", p_val_23)"
   ],
   "id": "f4a9f79d4781e2f6",
   "outputs": [
    {
     "name": "stdout",
     "output_type": "stream",
     "text": [
      "P-valor entre CON_PA_MECVV y SIN_PA: nan\n"
     ]
    }
   ],
   "execution_count": 1407
  },
  {
   "metadata": {},
   "cell_type": "markdown",
   "source": "## Infecciones respiratorias",
   "id": "1c243e776c0acbcb"
  },
  {
   "metadata": {},
   "cell_type": "markdown",
   "source": "##### CON_PA ",
   "id": "75cdc96e688bb6e5"
  },
  {
   "metadata": {
    "ExecuteTime": {
     "end_time": "2024-04-15T09:30:20.165441Z",
     "start_time": "2024-04-15T09:30:20.159601Z"
    }
   },
   "cell_type": "code",
   "source": [
    "mainresp_CON_PA= (CON_PA['Main_respiratory_infections_diagnosticada'] == 1.0).mean() * 100\n",
    "print(f\"Porcentaje de infecciones respiratorias principales : {mainresp_CON_PA:.2f}%\")"
   ],
   "id": "6b4ac9f955c7ef70",
   "outputs": [
    {
     "name": "stdout",
     "output_type": "stream",
     "text": [
      "Porcentaje de infecciones respiratorias principales : 41.18%\n"
     ]
    }
   ],
   "execution_count": 1408
  },
  {
   "metadata": {
    "ExecuteTime": {
     "end_time": "2024-04-15T09:30:20.760279Z",
     "start_time": "2024-04-15T09:30:20.751812Z"
    }
   },
   "cell_type": "code",
   "source": [
    "LRTI_CON_PA= (CON_PA['LRTI_diagnosticada'] == 1.0).mean() * 100\n",
    "print(f\"Porcentaje de LRTI: {LRTI_CON_PA:.2f}%\")"
   ],
   "id": "f2cab9c85d7b18bf",
   "outputs": [
    {
     "name": "stdout",
     "output_type": "stream",
     "text": [
      "Porcentaje de LRTI: 17.65%\n"
     ]
    }
   ],
   "execution_count": 1409
  },
  {
   "metadata": {
    "ExecuteTime": {
     "end_time": "2024-04-15T09:30:21.105316Z",
     "start_time": "2024-04-15T09:30:21.098800Z"
    }
   },
   "cell_type": "code",
   "source": [
    "COPD_CON_PA= (CON_PA['COPD_exacerbations_diagnosticada'] == 1.0).mean() * 100\n",
    "print(f\"Porcentaje de exacerbaciones de COPD: {COPD_CON_PA:.2f}%\")"
   ],
   "id": "e92f1139bdd11207",
   "outputs": [
    {
     "name": "stdout",
     "output_type": "stream",
     "text": [
      "Porcentaje de exacerbaciones de COPD: 29.41%\n"
     ]
    }
   ],
   "execution_count": 1410
  },
  {
   "metadata": {
    "ExecuteTime": {
     "end_time": "2024-04-15T09:30:21.617675Z",
     "start_time": "2024-04-15T09:30:21.610002Z"
    }
   },
   "cell_type": "code",
   "source": [
    "fibro_CON_PA= (CON_PA['Pulmonary_fibrosis_fibrotorax_diagnosticada'] == 1.0).mean() * 100\n",
    "print(f\"Porcentaje de fibrosis pulmonar y fibrotorax: {fibro_CON_PA:.2f}%\")"
   ],
   "id": "f60fd9578e2dc543",
   "outputs": [
    {
     "name": "stdout",
     "output_type": "stream",
     "text": [
      "Porcentaje de fibrosis pulmonar y fibrotorax: 0.00%\n"
     ]
    }
   ],
   "execution_count": 1411
  },
  {
   "metadata": {},
   "cell_type": "markdown",
   "source": "##### CON_PA_MECVV",
   "id": "a81ccd9e1687fa90"
  },
  {
   "metadata": {
    "ExecuteTime": {
     "end_time": "2024-04-15T09:30:21.968465Z",
     "start_time": "2024-04-15T09:30:21.963137Z"
    }
   },
   "cell_type": "code",
   "source": [
    "mainresp_CON_PA_MECVV= (CON_PA_MECVV['Main_respiratory_infections_diagnosticada'] == 1.0).mean() * 100\n",
    "print(f\"Porcentaje de infecciones respiratorias principales : {mainresp_CON_PA_MECVV:.2f}%\")"
   ],
   "id": "b33098c2a54d36b5",
   "outputs": [
    {
     "name": "stdout",
     "output_type": "stream",
     "text": [
      "Porcentaje de infecciones respiratorias principales : 50.00%\n"
     ]
    }
   ],
   "execution_count": 1412
  },
  {
   "metadata": {
    "ExecuteTime": {
     "end_time": "2024-04-15T09:30:22.548602Z",
     "start_time": "2024-04-15T09:30:22.542328Z"
    }
   },
   "cell_type": "code",
   "source": [
    "LRTI_CON_PA_MECVV= (CON_PA_MECVV['LRTI_diagnosticada'] == 1.0).mean() * 100\n",
    "print(f\"Porcentaje de LRTI: {LRTI_CON_PA_MECVV:.2f}%\")"
   ],
   "id": "f85be13f8ff8a16d",
   "outputs": [
    {
     "name": "stdout",
     "output_type": "stream",
     "text": [
      "Porcentaje de LRTI: 20.00%\n"
     ]
    }
   ],
   "execution_count": 1413
  },
  {
   "metadata": {
    "ExecuteTime": {
     "end_time": "2024-04-15T09:30:22.876038Z",
     "start_time": "2024-04-15T09:30:22.868915Z"
    }
   },
   "cell_type": "code",
   "source": [
    "COPD_CON_PA_MECVV = (CON_PA_MECVV['COPD_exacerbations_diagnosticada'] == 1.0).mean() * 100\n",
    "print(f\"Porcentaje de exacerbaciones de COPD: {COPD_CON_PA_MECVV:.2f}%\")"
   ],
   "id": "d490fe0fa5146ba1",
   "outputs": [
    {
     "name": "stdout",
     "output_type": "stream",
     "text": [
      "Porcentaje de exacerbaciones de COPD: 30.00%\n"
     ]
    }
   ],
   "execution_count": 1414
  },
  {
   "metadata": {
    "ExecuteTime": {
     "end_time": "2024-04-15T09:30:23.469018Z",
     "start_time": "2024-04-15T09:30:23.461096Z"
    }
   },
   "cell_type": "code",
   "source": [
    "fibro_CON_PA_MECVV = (CON_PA_MECVV['Pulmonary_fibrosis_fibrotorax_diagnosticada'] == 1.0).mean() * 100\n",
    "print(f\"Porcentaje de fibrosis pulmonar y fibrotorax: {fibro_CON_PA_MECVV:.2f}%\")"
   ],
   "id": "719cbe71770c9c5d",
   "outputs": [
    {
     "name": "stdout",
     "output_type": "stream",
     "text": [
      "Porcentaje de fibrosis pulmonar y fibrotorax: 0.00%\n"
     ]
    }
   ],
   "execution_count": 1415
  },
  {
   "metadata": {},
   "cell_type": "markdown",
   "source": "##### SIN_PA",
   "id": "4ee57a32f85d8da"
  },
  {
   "metadata": {
    "ExecuteTime": {
     "end_time": "2024-04-15T09:30:23.781558Z",
     "start_time": "2024-04-15T09:30:23.773853Z"
    }
   },
   "cell_type": "code",
   "source": [
    "mainresp_SIN_PA= (SIN_PA['Main_respiratory_infections_diagnosticada'] == 1.0).mean() * 100\n",
    "print(f\"Porcentaje de infecciones respiratorias principales : {mainresp_SIN_PA:.2f}%\")"
   ],
   "id": "13154b248379e6da",
   "outputs": [
    {
     "name": "stdout",
     "output_type": "stream",
     "text": [
      "Porcentaje de infecciones respiratorias principales : 42.86%\n"
     ]
    }
   ],
   "execution_count": 1416
  },
  {
   "metadata": {
    "ExecuteTime": {
     "end_time": "2024-04-15T09:30:24.403268Z",
     "start_time": "2024-04-15T09:30:24.394928Z"
    }
   },
   "cell_type": "code",
   "source": [
    "LRTI_SIN_PA= (SIN_PA['LRTI_diagnosticada'] == 1.0).mean() * 100\n",
    "print(f\"Porcentaje de LRTI: {LRTI_SIN_PA:.2f}%\")"
   ],
   "id": "7b6d0993a6d8d0f7",
   "outputs": [
    {
     "name": "stdout",
     "output_type": "stream",
     "text": [
      "Porcentaje de LRTI: 22.45%\n"
     ]
    }
   ],
   "execution_count": 1417
  },
  {
   "metadata": {
    "ExecuteTime": {
     "end_time": "2024-04-15T09:30:24.712666Z",
     "start_time": "2024-04-15T09:30:24.704432Z"
    }
   },
   "cell_type": "code",
   "source": [
    "COPD_SIN_PA= (SIN_PA['COPD_exacerbations_diagnosticada'] == 1.0).mean() * 100\n",
    "print(f\"Porcentaje de exacerbaciones de COPD: {COPD_SIN_PA:.2f}%\")"
   ],
   "id": "2fde8b1f558da814",
   "outputs": [
    {
     "name": "stdout",
     "output_type": "stream",
     "text": [
      "Porcentaje de exacerbaciones de COPD: 32.65%\n"
     ]
    }
   ],
   "execution_count": 1418
  },
  {
   "metadata": {
    "ExecuteTime": {
     "end_time": "2024-04-15T09:30:25.253964Z",
     "start_time": "2024-04-15T09:30:25.248218Z"
    }
   },
   "cell_type": "code",
   "source": [
    "fibro_SIN_PA= (SIN_PA['Pulmonary_fibrosis_fibrotorax_diagnosticada'] == 1.0).mean() * 100\n",
    "print(f\"Porcentaje de fibrosis pulmonar y fibrotorax: {fibro_SIN_PA:.2f}%\")"
   ],
   "id": "9ec61073db25b76d",
   "outputs": [
    {
     "name": "stdout",
     "output_type": "stream",
     "text": [
      "Porcentaje de fibrosis pulmonar y fibrotorax: 0.00%\n"
     ]
    }
   ],
   "execution_count": 1419
  },
  {
   "metadata": {},
   "cell_type": "markdown",
   "source": "#### Pvalor",
   "id": "e4b7d99054b0af12"
  },
  {
   "metadata": {},
   "cell_type": "markdown",
   "source": "##### Normalidad",
   "id": "66f7ae1bb05b0697"
  },
  {
   "metadata": {
    "ExecuteTime": {
     "end_time": "2024-04-15T10:41:32.120783Z",
     "start_time": "2024-04-15T10:41:32.113169Z"
    }
   },
   "cell_type": "code",
   "source": [
    "stat, p_value = shapiro(CON_PA['Main_respiratory_infections_diagnosticada'])\n",
    "print(f\"Estadístico W = {stat:.4f}\")\n",
    "print(f\"Valor p = {p_value:.8f}\")\n",
    "\n",
    "alpha = 0.05\n",
    "if p_value < alpha:\n",
    "    print(\"El número de filas no sigue una distribución normal (rechazar H0).\")\n",
    "else:\n",
    "    print(\"El número de filas sigue una distribución normal (aceptar H0).\")"
   ],
   "id": "c6e2b4b1f48b3dc",
   "outputs": [
    {
     "name": "stdout",
     "output_type": "stream",
     "text": [
      "Estadístico W = 0.6317\n",
      "Valor p = 0.00002144\n",
      "El número de filas no sigue una distribución normal (rechazar H0).\n"
     ]
    }
   ],
   "execution_count": 1554
  },
  {
   "metadata": {
    "ExecuteTime": {
     "end_time": "2024-04-15T10:41:24.371544Z",
     "start_time": "2024-04-15T10:41:24.363200Z"
    }
   },
   "cell_type": "code",
   "source": [
    "stat, p_value = shapiro(CON_PA['LRTI_diagnosticada'])\n",
    "print(f\"Estadístico W = {stat:.4f}\")\n",
    "print(f\"Valor p = {p_value:.8f}\")\n",
    "\n",
    "alpha = 0.05\n",
    "if p_value < alpha:\n",
    "    print(\"El número de filas no sigue una distribución normal (rechazar H0).\")\n",
    "else:\n",
    "    print(\"El número de filas sigue una distribución normal (aceptar H0).\")"
   ],
   "id": "d543def5475584e8",
   "outputs": [
    {
     "name": "stdout",
     "output_type": "stream",
     "text": [
      "Estadístico W = 0.4702\n",
      "Valor p = 0.00000073\n",
      "El número de filas no sigue una distribución normal (rechazar H0).\n"
     ]
    }
   ],
   "execution_count": 1553
  },
  {
   "metadata": {
    "ExecuteTime": {
     "end_time": "2024-04-15T10:40:56.849552Z",
     "start_time": "2024-04-15T10:40:56.843174Z"
    }
   },
   "cell_type": "code",
   "source": [
    "stat, p_value = shapiro(CON_PA['COPD_exacerbations_diagnosticada'])\n",
    "print(f\"Estadístico W = {stat:.4f}\")\n",
    "print(f\"Valor p = {p_value:.8f}\")\n",
    "\n",
    "alpha = 0.05\n",
    "if p_value < alpha:\n",
    "    print(\"El número de filas no sigue una distribución normal (rechazar H0).\")\n",
    "else:\n",
    "    print(\"El número de filas sigue una distribución normal (aceptar H0).\")"
   ],
   "id": "10e513a73863bebd",
   "outputs": [
    {
     "name": "stdout",
     "output_type": "stream",
     "text": [
      "Estadístico W = 0.5785\n",
      "Valor p = 0.00000650\n",
      "El número de filas no sigue una distribución normal (rechazar H0).\n"
     ]
    }
   ],
   "execution_count": 1551
  },
  {
   "metadata": {
    "ExecuteTime": {
     "end_time": "2024-04-15T10:40:49.990571Z",
     "start_time": "2024-04-15T10:40:49.983027Z"
    }
   },
   "cell_type": "code",
   "source": [
    "stat, p_value = shapiro(CON_PA['Pulmonary_fibrosis_fibrotorax_diagnosticada'])\n",
    "print(f\"Estadístico W = {stat:.4f}\")\n",
    "print(f\"Valor p = {p_value:.8f}\")\n",
    "\n",
    "alpha = 0.05\n",
    "if p_value < alpha:\n",
    "    print(\"El número de filas no sigue una distribución normal (rechazar H0).\")\n",
    "else:\n",
    "    print(\"El número de filas sigue una distribución normal (aceptar H0).\")"
   ],
   "id": "cd29d6de8e2e9257",
   "outputs": [
    {
     "name": "stdout",
     "output_type": "stream",
     "text": [
      "Estadístico W = 1.0000\n",
      "Valor p = 1.00000000\n",
      "El número de filas sigue una distribución normal (aceptar H0).\n"
     ]
    },
    {
     "name": "stderr",
     "output_type": "stream",
     "text": [
      "C:\\Users\\maria\\PycharmProjects\\practicum\\.venv\\Lib\\site-packages\\scipy\\stats\\_axis_nan_policy.py:531: UserWarning: scipy.stats.shapiro: Input data has range zero. The results may not be accurate.\n",
      "  res = hypotest_fun_out(*samples, **kwds)\n"
     ]
    }
   ],
   "execution_count": 1550
  },
  {
   "metadata": {},
   "cell_type": "markdown",
   "source": "Usaré Mann-Whitney cuando tenga que comparar contra CON_PA",
   "id": "bceff0fb1b480e7b"
  },
  {
   "metadata": {
    "ExecuteTime": {
     "end_time": "2024-04-15T10:40:45.622830Z",
     "start_time": "2024-04-15T10:40:45.613389Z"
    }
   },
   "cell_type": "code",
   "source": [
    "stat, p_value = shapiro(CON_PA_MECVV['Main_respiratory_infections_diagnosticada'])\n",
    "print(f\"Estadístico W = {stat:.4f}\")\n",
    "print(f\"Valor p = {p_value:.8f}\")\n",
    "\n",
    "alpha = 0.05\n",
    "if p_value < alpha:\n",
    "    print(\"El número de filas no sigue una distribución normal (rechazar H0).\")\n",
    "else:\n",
    "    print(\"El número de filas sigue una distribución normal (aceptar H0).\")"
   ],
   "id": "bb27577a80453c31",
   "outputs": [
    {
     "name": "stdout",
     "output_type": "stream",
     "text": [
      "Estadístico W = 0.6553\n",
      "Valor p = 0.00025396\n",
      "El número de filas no sigue una distribución normal (rechazar H0).\n"
     ]
    }
   ],
   "execution_count": 1549
  },
  {
   "metadata": {
    "ExecuteTime": {
     "end_time": "2024-04-15T10:40:39.932172Z",
     "start_time": "2024-04-15T10:40:39.923278Z"
    }
   },
   "cell_type": "code",
   "source": [
    "stat, p_value = shapiro(CON_PA_MECVV['LRTI_diagnosticada'])\n",
    "print(f\"Estadístico W = {stat:.4f}\")\n",
    "print(f\"Valor p = {p_value:.8f}\")\n",
    "\n",
    "alpha = 0.05\n",
    "if p_value < alpha:\n",
    "    print(\"El número de filas no sigue una distribución normal (rechazar H0).\")\n",
    "else:\n",
    "    print(\"El número de filas sigue una distribución normal (aceptar H0).\")"
   ],
   "id": "4524b4b1254b37f2",
   "outputs": [
    {
     "name": "stdout",
     "output_type": "stream",
     "text": [
      "Estadístico W = 0.5093\n",
      "Valor p = 0.00000467\n",
      "El número de filas no sigue una distribución normal (rechazar H0).\n"
     ]
    }
   ],
   "execution_count": 1548
  },
  {
   "metadata": {
    "ExecuteTime": {
     "end_time": "2024-04-15T10:40:29.557733Z",
     "start_time": "2024-04-15T10:40:29.545281Z"
    }
   },
   "cell_type": "code",
   "source": [
    "stat, p_value = shapiro(CON_PA_MECVV['COPD_exacerbations_diagnosticada'])\n",
    "print(f\"Estadístico W = {stat:.4f}\")\n",
    "print(f\"Valor p = {p_value:.8f}\")\n",
    "\n",
    "alpha = 0.05\n",
    "if p_value < alpha:\n",
    "    print(\"El número de filas no sigue una distribución normal (rechazar H0).\")\n",
    "else:\n",
    "    print(\"El número de filas sigue una distribución normal (aceptar H0).\")"
   ],
   "id": "3a1a7fe57776685f",
   "outputs": [
    {
     "name": "stdout",
     "output_type": "stream",
     "text": [
      "Estadístico W = 0.5942\n",
      "Valor p = 0.00004713\n",
      "El número de filas no sigue una distribución normal (rechazar H0).\n"
     ]
    }
   ],
   "execution_count": 1547
  },
  {
   "metadata": {
    "ExecuteTime": {
     "end_time": "2024-04-15T10:42:16.521478Z",
     "start_time": "2024-04-15T10:42:16.513289Z"
    }
   },
   "cell_type": "code",
   "source": [
    "stat, p_value = shapiro(CON_PA_MECVV['Pulmonary_fibrosis_fibrotorax_diagnosticada'])\n",
    "print(f\"Estadístico W = {stat:.4f}\")\n",
    "print(f\"Valor p = {p_value:.8f}\")\n",
    "\n",
    "alpha = 0.05\n",
    "if p_value < alpha:\n",
    "    print(\"El número de filas no sigue una distribución normal (rechazar H0).\")\n",
    "else:\n",
    "    print(\"El número de filas sigue una distribución normal (aceptar H0).\")"
   ],
   "id": "1718e4b49cea9d7f",
   "outputs": [
    {
     "name": "stdout",
     "output_type": "stream",
     "text": [
      "Estadístico W = 1.0000\n",
      "Valor p = 1.00000000\n",
      "El número de filas sigue una distribución normal (aceptar H0).\n"
     ]
    },
    {
     "name": "stderr",
     "output_type": "stream",
     "text": [
      "C:\\Users\\maria\\PycharmProjects\\practicum\\.venv\\Lib\\site-packages\\scipy\\stats\\_axis_nan_policy.py:531: UserWarning: scipy.stats.shapiro: Input data has range zero. The results may not be accurate.\n",
      "  res = hypotest_fun_out(*samples, **kwds)\n"
     ]
    }
   ],
   "execution_count": 1556
  },
  {
   "metadata": {},
   "cell_type": "markdown",
   "source": "Usaré también Mann-Whitney cuando tenga que comparar contra CON_PA_MECVV",
   "id": "33a22ba73ce2ccc8"
  },
  {
   "metadata": {
    "ExecuteTime": {
     "end_time": "2024-04-15T10:43:29.627044Z",
     "start_time": "2024-04-15T10:43:29.584194Z"
    }
   },
   "cell_type": "code",
   "source": [
    "stat, p_value = shapiro(SIN_PA['Main_respiratory_infections_diagnosticada'])\n",
    "print(f\"Estadístico W = {stat:.4f}\")\n",
    "print(f\"Valor p = {p_value:.8f}\")\n",
    "\n",
    "alpha = 0.05\n",
    "if p_value < alpha:\n",
    "    print(\"El número de filas no sigue una distribución normal (rechazar H0).\")\n",
    "else:\n",
    "    print(\"El número de filas sigue una distribución normal (aceptar H0).\")"
   ],
   "id": "ce920cf207335b36",
   "outputs": [
    {
     "name": "stdout",
     "output_type": "stream",
     "text": [
      "Estadístico W = 0.6294\n",
      "Valor p = 0.00000000\n",
      "El número de filas no sigue una distribución normal (rechazar H0).\n"
     ]
    }
   ],
   "execution_count": 1557
  },
  {
   "metadata": {
    "ExecuteTime": {
     "end_time": "2024-04-15T10:44:03.162795Z",
     "start_time": "2024-04-15T10:44:03.153755Z"
    }
   },
   "cell_type": "code",
   "source": [
    "stat, p_value = shapiro(SIN_PA['LRTI_diagnosticada'])\n",
    "print(f\"Estadístico W = {stat:.4f}\")\n",
    "print(f\"Valor p = {p_value:.8f}\")\n",
    "\n",
    "alpha = 0.05\n",
    "if p_value < alpha:\n",
    "    print(\"El número de filas no sigue una distribución normal (rechazar H0).\")\n",
    "else:\n",
    "    print(\"El número de filas sigue una distribución normal (aceptar H0).\")"
   ],
   "id": "3a3a53e648ae0773",
   "outputs": [
    {
     "name": "stdout",
     "output_type": "stream",
     "text": [
      "Estadístico W = 0.5158\n",
      "Valor p = 0.00000000\n",
      "El número de filas no sigue una distribución normal (rechazar H0).\n"
     ]
    }
   ],
   "execution_count": 1561
  },
  {
   "metadata": {
    "ExecuteTime": {
     "end_time": "2024-04-15T10:44:18.485307Z",
     "start_time": "2024-04-15T10:44:18.442414Z"
    }
   },
   "cell_type": "code",
   "source": [
    "stat, p_value = shapiro(SIN_PA['COPD_exacerbations_diagnosticada'])\n",
    "print(f\"Estadístico W = {stat:.4f}\")\n",
    "print(f\"Valor p = {p_value:.8f}\")\n",
    "\n",
    "alpha = 0.05\n",
    "if p_value < alpha:\n",
    "    print(\"El número de filas no sigue una distribución normal (rechazar H0).\")\n",
    "else:\n",
    "    print(\"El número de filas sigue una distribución normal (aceptar H0).\")"
   ],
   "id": "e8e436f4735c57c6",
   "outputs": [
    {
     "name": "stdout",
     "output_type": "stream",
     "text": [
      "Estadístico W = 0.5916\n",
      "Valor p = 0.00000000\n",
      "El número de filas no sigue una distribución normal (rechazar H0).\n"
     ]
    }
   ],
   "execution_count": 1562
  },
  {
   "metadata": {
    "ExecuteTime": {
     "end_time": "2024-04-15T10:44:34.177499Z",
     "start_time": "2024-04-15T10:44:34.170474Z"
    }
   },
   "cell_type": "code",
   "source": [
    "stat, p_value = shapiro(SIN_PA['Pulmonary_fibrosis_fibrotorax_diagnosticada'])\n",
    "print(f\"Estadístico W = {stat:.4f}\")\n",
    "print(f\"Valor p = {p_value:.8f}\")\n",
    "\n",
    "alpha = 0.05\n",
    "if p_value < alpha:\n",
    "    print(\"El número de filas no sigue una distribución normal (rechazar H0).\")\n",
    "else:\n",
    "    print(\"El número de filas sigue una distribución normal (aceptar H0).\")"
   ],
   "id": "57ac2a0db7f4e96c",
   "outputs": [
    {
     "name": "stdout",
     "output_type": "stream",
     "text": [
      "Estadístico W = 1.0000\n",
      "Valor p = 1.00000000\n",
      "El número de filas sigue una distribución normal (aceptar H0).\n"
     ]
    },
    {
     "name": "stderr",
     "output_type": "stream",
     "text": [
      "C:\\Users\\maria\\PycharmProjects\\practicum\\.venv\\Lib\\site-packages\\scipy\\stats\\_axis_nan_policy.py:531: UserWarning: scipy.stats.shapiro: Input data has range zero. The results may not be accurate.\n",
      "  res = hypotest_fun_out(*samples, **kwds)\n"
     ]
    }
   ],
   "execution_count": 1563
  },
  {
   "metadata": {},
   "cell_type": "markdown",
   "source": "Usaré en todos los casos de comparacion el test Mann-Whitney ya que menos la ultima columna (que contiene todo 0), el resto no siguen una distribucion normal ",
   "id": "658acbeeca87062f"
  },
  {
   "metadata": {},
   "cell_type": "markdown",
   "source": "##### Infecciones respiratorias principales ",
   "id": "5e8e1e8b1c32f8ad"
  },
  {
   "metadata": {
    "ExecuteTime": {
     "end_time": "2024-04-15T10:48:02.663898Z",
     "start_time": "2024-04-15T10:48:02.645963Z"
    }
   },
   "cell_type": "code",
   "source": [
    "stat_12, p_val_12 = mannwhitneyu(CON_PA['Main_respiratory_infections_diagnosticada'] == 1.0, CON_PA_MECVV['Main_respiratory_infections_diagnosticada'] == 1.0, alternative='two-sided')\n",
    "print(\"P-valor entre CON_PA y CON_PA_MECVV:\", p_val_12)"
   ],
   "id": "db72a64133768bd1",
   "outputs": [
    {
     "name": "stdout",
     "output_type": "stream",
     "text": [
      "P-valor entre CON_PA y CON_PA_MECVV: 0.6832089509594992\n"
     ]
    }
   ],
   "execution_count": 1564
  },
  {
   "metadata": {
    "ExecuteTime": {
     "end_time": "2024-04-15T10:48:44.514788Z",
     "start_time": "2024-04-15T10:48:44.503522Z"
    }
   },
   "cell_type": "code",
   "source": [
    "stat_13, p_val_13 = mannwhitneyu(CON_PA['Main_respiratory_infections_diagnosticada'] == 1.0, SIN_PA['Main_respiratory_infections_diagnosticada'] == 1.0, alternative='two-sided')\n",
    "print(\"P-valor entre CON_PA y SIN_PA:\", p_val_13)"
   ],
   "id": "40d95109cbdff899",
   "outputs": [
    {
     "name": "stdout",
     "output_type": "stream",
     "text": [
      "P-valor entre CON_PA y SIN_PA: 0.9113557832989896\n"
     ]
    }
   ],
   "execution_count": 1565
  },
  {
   "metadata": {
    "ExecuteTime": {
     "end_time": "2024-04-15T10:49:14.804280Z",
     "start_time": "2024-04-15T10:49:14.772027Z"
    }
   },
   "cell_type": "code",
   "source": [
    "stat_23, p_val_23 = mannwhitneyu(CON_PA_MECVV['Main_respiratory_infections_diagnosticada'] == 1.0, SIN_PA['Main_respiratory_infections_diagnosticada'] == 1.0, alternative='two-sided')\n",
    "print(\"P-valor entre CON_PA_MECVV y SIN_PA:\", p_val_23)"
   ],
   "id": "8fc450c2c0998105",
   "outputs": [
    {
     "name": "stdout",
     "output_type": "stream",
     "text": [
      "P-valor entre CON_PA_MECVV y SIN_PA: 0.6896369959432476\n"
     ]
    }
   ],
   "execution_count": 1566
  },
  {
   "metadata": {},
   "cell_type": "markdown",
   "source": "##### LRTI",
   "id": "4212eae2d2582253"
  },
  {
   "metadata": {
    "ExecuteTime": {
     "end_time": "2024-04-15T10:50:52.143808Z",
     "start_time": "2024-04-15T10:50:52.133838Z"
    }
   },
   "cell_type": "code",
   "source": [
    "stat_12, p_val_12 = mannwhitneyu(CON_PA['LRTI_diagnosticada'] == 1.0, CON_PA_MECVV['LRTI_diagnosticada'] == 1.0, alternative='two-sided')\n",
    "print(\"P-valor entre CON_PA y CON_PA_MECVV:\", p_val_12)"
   ],
   "id": "92b3f9c5ea82b67e",
   "outputs": [
    {
     "name": "stdout",
     "output_type": "stream",
     "text": [
      "P-valor entre CON_PA y CON_PA_MECVV: 0.9109318987037512\n"
     ]
    }
   ],
   "execution_count": 1567
  },
  {
   "metadata": {
    "ExecuteTime": {
     "end_time": "2024-04-15T10:51:16.683867Z",
     "start_time": "2024-04-15T10:51:16.673818Z"
    }
   },
   "cell_type": "code",
   "source": [
    "stat_13, p_val_13 = mannwhitneyu(CON_PA['LRTI_diagnosticada'] == 1.0, SIN_PA['LRTI_diagnosticada'] == 1.0,alternative='two-sided')\n",
    "print(\"P-valor entre CON_PA y SIN_PA:\", p_val_13)"
   ],
   "id": "7f648a914bf78cf7",
   "outputs": [
    {
     "name": "stdout",
     "output_type": "stream",
     "text": [
      "P-valor entre CON_PA y SIN_PA: 0.6863825106164784\n"
     ]
    }
   ],
   "execution_count": 1568
  },
  {
   "metadata": {
    "ExecuteTime": {
     "end_time": "2024-04-15T10:51:40.542872Z",
     "start_time": "2024-04-15T10:51:40.532829Z"
    }
   },
   "cell_type": "code",
   "source": [
    "stat_23, p_val_23 = mannwhitneyu(CON_PA_MECVV['LRTI_diagnosticada'] == 1.0, SIN_PA['LRTI_diagnosticada'] == 1.0, alternative='two-sided')\n",
    "print(\"P-valor entre CON_PA_MECVV y SIN_PA:\", p_val_23)"
   ],
   "id": "d64bc20d970d227a",
   "outputs": [
    {
     "name": "stdout",
     "output_type": "stream",
     "text": [
      "P-valor entre CON_PA_MECVV y SIN_PA: 0.8770107151211659\n"
     ]
    }
   ],
   "execution_count": 1569
  },
  {
   "metadata": {},
   "cell_type": "markdown",
   "source": "##### Exacerbaciones de COPD",
   "id": "3f2c5d732213150e"
  },
  {
   "metadata": {
    "ExecuteTime": {
     "end_time": "2024-04-15T10:53:45.311907Z",
     "start_time": "2024-04-15T10:53:45.303625Z"
    }
   },
   "cell_type": "code",
   "source": [
    "stat_12, p_val_12 = mannwhitneyu(CON_PA['COPD_exacerbations_diagnosticada'] == 1.0, CON_PA_MECVV['COPD_exacerbations_diagnosticada'] == 1.0, alternative='two-sided')\n",
    "print(\"P-valor entre CON_PA y CON_PA_MECVV:\", p_val_12)"
   ],
   "id": "730e3b6ac0c3cabd",
   "outputs": [
    {
     "name": "stdout",
     "output_type": "stream",
     "text": [
      "P-valor entre CON_PA y CON_PA_MECVV: 1.0\n"
     ]
    }
   ],
   "execution_count": 1572
  },
  {
   "metadata": {
    "ExecuteTime": {
     "end_time": "2024-04-15T10:54:28.357004Z",
     "start_time": "2024-04-15T10:54:28.345742Z"
    }
   },
   "cell_type": "code",
   "source": [
    "stat_13, p_val_13 = mannwhitneyu(CON_PA['COPD_exacerbations_diagnosticada'] == 1.0, SIN_PA['COPD_exacerbations_diagnosticada'] == 1.0, alternative='two-sided')\n",
    "print(\"P-valor entre CON_PA y SIN_PA:\", p_val_13)"
   ],
   "id": "11cc00214bae88b1",
   "outputs": [
    {
     "name": "stdout",
     "output_type": "stream",
     "text": [
      "P-valor entre CON_PA y SIN_PA: 0.8132303236327403\n"
     ]
    }
   ],
   "execution_count": 1574
  },
  {
   "metadata": {
    "ExecuteTime": {
     "end_time": "2024-04-15T10:54:54.787350Z",
     "start_time": "2024-04-15T10:54:54.780896Z"
    }
   },
   "cell_type": "code",
   "source": [
    "stat_23, p_val_23 = mannwhitneyu(CON_PA_MECVV['COPD_exacerbations_diagnosticada'] == 1.0, SIN_PA['COPD_exacerbations_diagnosticada'] == 1.0, alternative='two-sided')\n",
    "print(\"P-valor entre CON_PA_MECVV y SIN_PA:\", p_val_23)"
   ],
   "id": "4df4d92107ced99b",
   "outputs": [
    {
     "name": "stdout",
     "output_type": "stream",
     "text": [
      "P-valor entre CON_PA_MECVV y SIN_PA: 0.8809554446418177\n"
     ]
    }
   ],
   "execution_count": 1575
  },
  {
   "metadata": {},
   "cell_type": "markdown",
   "source": "##### Fibrosis pulmonar y fibrotorax",
   "id": "a60dfc8e06242970"
  },
  {
   "metadata": {
    "ExecuteTime": {
     "end_time": "2024-04-15T10:56:19.443777Z",
     "start_time": "2024-04-15T10:56:19.433033Z"
    }
   },
   "cell_type": "code",
   "source": [
    "stat_12, p_val_12 = mannwhitneyu(CON_PA['Pulmonary_fibrosis_fibrotorax_diagnosticada'] == 1.0, CON_PA_MECVV['Pulmonary_fibrosis_fibrotorax_diagnosticada'] == 1.0, alternative='two-sided')\n",
    "print(\"P-valor entre CON_PA y CON_PA_MECVV:\", p_val_12)"
   ],
   "id": "6f23c82ef51fa652",
   "outputs": [
    {
     "name": "stdout",
     "output_type": "stream",
     "text": [
      "P-valor entre CON_PA y CON_PA_MECVV: 1.0\n"
     ]
    }
   ],
   "execution_count": 1576
  },
  {
   "metadata": {
    "ExecuteTime": {
     "end_time": "2024-04-15T10:57:47.638901Z",
     "start_time": "2024-04-15T10:57:47.593103Z"
    }
   },
   "cell_type": "code",
   "source": [
    "stat_13, p_val_13 = mannwhitneyu(CON_PA['Pulmonary_fibrosis_fibrotorax_diagnosticada'] == 1.0, SIN_PA['Pulmonary_fibrosis_fibrotorax_diagnosticada'] == 1.0, alternative='two-sided')\n",
    "print(\"P-valor entre CON_PA y SIN_PA:\", p_val_13)"
   ],
   "id": "3a985c287c035f2e",
   "outputs": [
    {
     "name": "stdout",
     "output_type": "stream",
     "text": [
      "P-valor entre CON_PA y SIN_PA: 1.0\n"
     ]
    }
   ],
   "execution_count": 1579
  },
  {
   "metadata": {
    "ExecuteTime": {
     "end_time": "2024-04-15T10:57:18.449798Z",
     "start_time": "2024-04-15T10:57:18.441959Z"
    }
   },
   "cell_type": "code",
   "source": [
    "stat_23, p_val_23 = mannwhitneyu(CON_PA_MECVV['Pulmonary_fibrosis_fibrotorax_diagnosticada'] == 1.0, SIN_PA['Pulmonary_fibrosis_fibrotorax_diagnosticada'] == 1.0, alternative='two-sided')\n",
    "print(\"P-valor entre CON_PA_MECVV y SIN_PA:\", p_val_23)"
   ],
   "id": "4c421b907f887268",
   "outputs": [
    {
     "name": "stdout",
     "output_type": "stream",
     "text": [
      "P-valor entre CON_PA_MECVV y SIN_PA: 1.0\n"
     ]
    }
   ],
   "execution_count": 1578
  },
  {
   "metadata": {},
   "cell_type": "markdown",
   "source": "## Resultados de laboratorio",
   "id": "1994fdc24d34089b"
  },
  {
   "metadata": {},
   "cell_type": "markdown",
   "source": "Las columnas generadas de estos resultados de laboratorio contienen valores de tipo 'object' y hay que pasarlos previamente a 'float' para poder realizar las operaciones correspondientes.",
   "id": "f1b6e375839cbf54"
  },
  {
   "metadata": {},
   "cell_type": "markdown",
   "source": "### Albúmina",
   "id": "600feb610c7340c3"
  },
  {
   "metadata": {
    "ExecuteTime": {
     "end_time": "2024-04-15T09:30:31.362149Z",
     "start_time": "2024-04-15T09:30:31.352291Z"
    }
   },
   "cell_type": "code",
   "source": [
    "CON_PA.loc[:, 'albumina'] = pd.to_numeric(CON_PA['albumina'], errors='coerce')\n",
    "\n",
    "promedio_alb = CON_PA['albumina'].mean()\n",
    "desviacion_estandar_alb = CON_PA['albumina'].std()\n",
    "\n",
    "resultado = f\"{promedio_alb:.2f} ± {desviacion_estandar_alb:.2f}\"\n",
    "print(\"Promedio ± Desviación Estándar de la albumina:\", resultado)"
   ],
   "id": "d82bf2d8022cff43",
   "outputs": [
    {
     "name": "stdout",
     "output_type": "stream",
     "text": [
      "Promedio ± Desviación Estándar de la albumina: 3.34 ± 0.38\n"
     ]
    }
   ],
   "execution_count": 1432
  },
  {
   "metadata": {
    "ExecuteTime": {
     "end_time": "2024-04-15T09:30:31.991911Z",
     "start_time": "2024-04-15T09:30:31.980051Z"
    }
   },
   "cell_type": "code",
   "source": [
    "CON_PA_MECVV.loc[:, 'albumina'] = pd.to_numeric(CON_PA_MECVV['albumina'], errors='coerce')\n",
    "\n",
    "promedio_alb = CON_PA_MECVV['albumina'].mean()\n",
    "desviacion_estandar_alb = CON_PA_MECVV['albumina'].std()\n",
    "\n",
    "resultado = f\"{promedio_alb:.2f} ± {desviacion_estandar_alb:.2f}\"\n",
    "print(\"Promedio ± Desviación Estándar de la albumina:\", resultado)"
   ],
   "id": "7cca36324c2cf548",
   "outputs": [
    {
     "name": "stdout",
     "output_type": "stream",
     "text": [
      "Promedio ± Desviación Estándar de la albumina: 3.47 ± 0.55\n"
     ]
    }
   ],
   "execution_count": 1433
  },
  {
   "metadata": {
    "ExecuteTime": {
     "end_time": "2024-04-15T09:30:32.345725Z",
     "start_time": "2024-04-15T09:30:32.334973Z"
    }
   },
   "cell_type": "code",
   "source": [
    "SIN_PA.loc[:, 'albumina'] = pd.to_numeric(SIN_PA['albumina'], errors='coerce')\n",
    "\n",
    "promedio_alb = SIN_PA['albumina'].mean()\n",
    "desviacion_estandar_alb = SIN_PA['albumina'].std()\n",
    "\n",
    "resultado = f\"{promedio_alb:.2f} ± {desviacion_estandar_alb:.2f}\"\n",
    "print(\"Promedio ± Desviación Estándar de la albumina:\", resultado)"
   ],
   "id": "122964c17f5d1955",
   "outputs": [
    {
     "name": "stdout",
     "output_type": "stream",
     "text": [
      "Promedio ± Desviación Estándar de la albumina: 3.58 ± 0.64\n"
     ]
    }
   ],
   "execution_count": 1434
  },
  {
   "metadata": {},
   "cell_type": "markdown",
   "source": "#### Pvalor",
   "id": "140d6cb42fabfa6a"
  },
  {
   "metadata": {},
   "cell_type": "markdown",
   "source": "##### Normalidad",
   "id": "f173bb6261e1d9fb"
  },
  {
   "metadata": {
    "ExecuteTime": {
     "end_time": "2024-04-15T11:09:39.596547Z",
     "start_time": "2024-04-15T11:09:39.583269Z"
    }
   },
   "cell_type": "code",
   "source": [
    "albpa = CON_PA['albumina'].dropna()\n",
    "stat, p_value = shapiro(albpa)\n",
    "print(f\"Estadístico W = {stat:.4f}\")\n",
    "print(f\"Valor p = {p_value:.8f}\")\n",
    "\n",
    "alpha = 0.05\n",
    "if p_value < alpha:\n",
    "    print(\"El número de filas no sigue una distribución normal (rechazar H0).\")\n",
    "else:\n",
    "    print(\"El número de filas sigue una distribución normal (aceptar H0).\")"
   ],
   "id": "6ea5de55bae13ed3",
   "outputs": [
    {
     "name": "stdout",
     "output_type": "stream",
     "text": [
      "Estadístico W = 0.9311\n",
      "Valor p = 0.56068160\n",
      "El número de filas sigue una distribución normal (aceptar H0).\n"
     ]
    }
   ],
   "execution_count": 1587
  },
  {
   "metadata": {
    "ExecuteTime": {
     "end_time": "2024-04-15T11:05:53.135336Z",
     "start_time": "2024-04-15T11:05:53.123280Z"
    }
   },
   "cell_type": "code",
   "source": [
    "albconpamecvv = CON_PA_MECVV['albumina'].dropna()\n",
    "stat, p_value = shapiro(albconpamecvv)\n",
    "print(f\"Estadístico W = {stat:.4f}\")\n",
    "print(f\"Valor p = {p_value:.8f}\")\n",
    "\n",
    "alpha = 0.05\n",
    "if p_value < alpha:\n",
    "    print(\"El número de filas no sigue una distribución normal (rechazar H0).\")\n",
    "else:\n",
    "    print(\"El número de filas sigue una distribución normal (aceptar H0).\")"
   ],
   "id": "eac722c12e60dad5",
   "outputs": [
    {
     "name": "stdout",
     "output_type": "stream",
     "text": [
      "Estadístico W = 0.9973\n",
      "Valor p = 0.89985028\n",
      "El número de filas sigue una distribución normal (aceptar H0).\n"
     ]
    }
   ],
   "execution_count": 1584
  },
  {
   "metadata": {
    "ExecuteTime": {
     "end_time": "2024-04-15T11:06:56.793100Z",
     "start_time": "2024-04-15T11:06:56.783166Z"
    }
   },
   "cell_type": "code",
   "source": [
    "albsinpa= SIN_PA['albumina'].dropna()\n",
    "stat, p_value = shapiro(albsinpa)\n",
    "print(f\"Estadístico W = {stat:.4f}\")\n",
    "print(f\"Valor p = {p_value:.8f}\")\n",
    "\n",
    "alpha = 0.05\n",
    "if p_value < alpha:\n",
    "    print(\"El número de filas no sigue una distribución normal (rechazar H0).\")\n",
    "else:\n",
    "    print(\"El número de filas sigue una distribución normal (aceptar H0).\")"
   ],
   "id": "b23033d034577b35",
   "outputs": [
    {
     "name": "stdout",
     "output_type": "stream",
     "text": [
      "Estadístico W = 0.9778\n",
      "Valor p = 0.92442182\n",
      "El número de filas sigue una distribución normal (aceptar H0).\n"
     ]
    }
   ],
   "execution_count": 1585
  },
  {
   "metadata": {},
   "cell_type": "markdown",
   "source": "Todos los grupos siguen una distribucion normal, puedo usar el T-test",
   "id": "89cfa6c648b58265"
  },
  {
   "metadata": {
    "ExecuteTime": {
     "end_time": "2024-04-15T11:11:10.478162Z",
     "start_time": "2024-04-15T11:11:10.469894Z"
    }
   },
   "cell_type": "code",
   "source": [
    "t_stat_12, p_val_12 = ttest_ind(CON_PA['albumina'], CON_PA_MECVV['albumina'], equal_var=False)\n",
    "print(\"P-valor entre CON_PA y CON_PA_MECVV:\", p_val_12)"
   ],
   "id": "159226fd2d1b69f4",
   "outputs": [
    {
     "name": "stdout",
     "output_type": "stream",
     "text": [
      "P-valor entre CON_PA y CON_PA_MECVV: nan\n"
     ]
    }
   ],
   "execution_count": 1590
  },
  {
   "metadata": {
    "ExecuteTime": {
     "end_time": "2024-04-15T11:11:15.300184Z",
     "start_time": "2024-04-15T11:11:15.293172Z"
    }
   },
   "cell_type": "code",
   "source": [
    "t_stat_13, p_val_13 = ttest_ind(CON_PA['albumina'], SIN_PA['albumina'], equal_var=False)\n",
    "print(\"P-valor entre CON_PA y SIN_PA:\", p_val_13)"
   ],
   "id": "eb68749cfc425329",
   "outputs": [
    {
     "name": "stdout",
     "output_type": "stream",
     "text": [
      "P-valor entre CON_PA y SIN_PA: nan\n"
     ]
    }
   ],
   "execution_count": 1591
  },
  {
   "metadata": {
    "ExecuteTime": {
     "end_time": "2024-04-15T09:30:33.777322Z",
     "start_time": "2024-04-15T09:30:33.769157Z"
    }
   },
   "cell_type": "code",
   "source": [
    "t_stat_23, p_val_23 = ttest_ind(CON_PA_MECVV['albumina'], SIN_PA['albumina'], equal_var=False)\n",
    "print(\"P-valor entre CON_PA_MECVV y SIN_PA:\", p_val_23)"
   ],
   "id": "759454454163372f",
   "outputs": [
    {
     "name": "stdout",
     "output_type": "stream",
     "text": [
      "P-valor entre CON_PA_MECVV y SIN_PA: nan\n"
     ]
    }
   ],
   "execution_count": 1437
  },
  {
   "metadata": {},
   "cell_type": "markdown",
   "source": "### Proteïnas totales",
   "id": "c0e1c2d5adb30afb"
  },
  {
   "metadata": {
    "ExecuteTime": {
     "end_time": "2024-04-15T09:30:34.099330Z",
     "start_time": "2024-04-15T09:30:34.091161Z"
    }
   },
   "cell_type": "code",
   "source": [
    "CON_PA.loc[:, 'proteinas totales'] = pd.to_numeric(CON_PA['proteinas totales'], errors='coerce')\n",
    "\n",
    "promedio_prot = CON_PA['proteinas totales'].mean()\n",
    "desviacion_estandar_prot = CON_PA['proteinas totales'].std()\n",
    "\n",
    "resultado = f\"{promedio_prot:.2f} ± {desviacion_estandar_prot:.2f}\"\n",
    "print(\"Promedio ± Desviación Estándar de las proteinas totales:\", resultado)"
   ],
   "id": "8c74e6182119239f",
   "outputs": [
    {
     "name": "stdout",
     "output_type": "stream",
     "text": [
      "Promedio ± Desviación Estándar de las proteinas totales: 6.03 ± 0.73\n"
     ]
    }
   ],
   "execution_count": 1438
  },
  {
   "metadata": {
    "ExecuteTime": {
     "end_time": "2024-04-15T09:30:34.630384Z",
     "start_time": "2024-04-15T09:30:34.621564Z"
    }
   },
   "cell_type": "code",
   "source": [
    "CON_PA_MECVV.loc[:, 'proteinas totales'] = pd.to_numeric(CON_PA_MECVV['proteinas totales'], errors='coerce')\n",
    "\n",
    "promedio_prot = CON_PA_MECVV['proteinas totales'].mean()\n",
    "desviacion_estandar_prot = CON_PA_MECVV['proteinas totales'].std()\n",
    "\n",
    "resultado = f\"{promedio_prot:.2f} ± {desviacion_estandar_prot:.2f}\"\n",
    "print(\"Promedio ± Desviación Estándar de las proteinas totales:\", resultado)"
   ],
   "id": "11dbe86b42cd2240",
   "outputs": [
    {
     "name": "stdout",
     "output_type": "stream",
     "text": [
      "Promedio ± Desviación Estándar de las proteinas totales: 6.47 ± 0.76\n"
     ]
    }
   ],
   "execution_count": 1439
  },
  {
   "metadata": {
    "ExecuteTime": {
     "end_time": "2024-04-15T09:30:34.967095Z",
     "start_time": "2024-04-15T09:30:34.956222Z"
    }
   },
   "cell_type": "code",
   "source": [
    "SIN_PA.loc[:, 'proteinas totales'] = pd.to_numeric(SIN_PA['proteinas totales'], errors='coerce')\n",
    "\n",
    "promedio_prot = SIN_PA['proteinas totales'].mean()\n",
    "desviacion_estandar_prot = SIN_PA['proteinas totales'].std()\n",
    "\n",
    "resultado = f\"{promedio_prot:.2f} ± {desviacion_estandar_prot:.2f}\"\n",
    "print(\"Promedio ± Desviación Estándar de las proteinas totales:\", resultado)"
   ],
   "id": "55750e651260abb6",
   "outputs": [
    {
     "name": "stdout",
     "output_type": "stream",
     "text": [
      "Promedio ± Desviación Estándar de las proteinas totales: 6.12 ± 0.72\n"
     ]
    }
   ],
   "execution_count": 1440
  },
  {
   "metadata": {},
   "cell_type": "markdown",
   "source": "#### Pvalor",
   "id": "687aa6a75e9eab3a"
  },
  {
   "metadata": {},
   "cell_type": "markdown",
   "source": "##### Normalidad",
   "id": "5d71845005c90138"
  },
  {
   "metadata": {
    "ExecuteTime": {
     "end_time": "2024-04-15T11:12:58.008806Z",
     "start_time": "2024-04-15T11:12:57.999137Z"
    }
   },
   "cell_type": "code",
   "source": [
    "protconpa=CON_PA['proteinas totales'].dropna()\n",
    "stat, p_value = shapiro(protconpa)\n",
    "print(f\"Estadístico W = {stat:.4f}\")\n",
    "print(f\"Valor p = {p_value:.8f}\")\n",
    "\n",
    "alpha = 0.05\n",
    "if p_value < alpha:\n",
    "    print(\"El número de filas no sigue una distribución normal (rechazar H0).\")\n",
    "else:\n",
    "    print(\"El número de filas sigue una distribución normal (aceptar H0).\")"
   ],
   "id": "ee51e412a8693cf3",
   "outputs": [
    {
     "name": "stdout",
     "output_type": "stream",
     "text": [
      "Estadístico W = 0.9780\n",
      "Valor p = 0.95346065\n",
      "El número de filas sigue una distribución normal (aceptar H0).\n"
     ]
    }
   ],
   "execution_count": 1592
  },
  {
   "metadata": {
    "ExecuteTime": {
     "end_time": "2024-04-15T11:13:20.568893Z",
     "start_time": "2024-04-15T11:13:20.560424Z"
    }
   },
   "cell_type": "code",
   "source": [
    "protconpamecvv=CON_PA_MECVV['proteinas totales'].dropna()\n",
    "stat, p_value = shapiro(protconpamecvv)\n",
    "print(f\"Estadístico W = {stat:.4f}\")\n",
    "print(f\"Valor p = {p_value:.8f}\")\n",
    "\n",
    "alpha = 0.05\n",
    "if p_value < alpha:\n",
    "    print(\"El número de filas no sigue una distribución normal (rechazar H0).\")\n",
    "else:\n",
    "    print(\"El número de filas sigue una distribución normal (aceptar H0).\")"
   ],
   "id": "e32923c4cd92cc53",
   "outputs": [
    {
     "name": "stdout",
     "output_type": "stream",
     "text": [
      "Estadístico W = 0.9975\n",
      "Valor p = 0.99159177\n",
      "El número de filas sigue una distribución normal (aceptar H0).\n"
     ]
    }
   ],
   "execution_count": 1593
  },
  {
   "metadata": {
    "ExecuteTime": {
     "end_time": "2024-04-15T11:14:03.008057Z",
     "start_time": "2024-04-15T11:14:02.997503Z"
    }
   },
   "cell_type": "code",
   "source": [
    "protsinpa=SIN_PA['proteinas totales'].dropna()\n",
    "stat, p_value = shapiro(protsinpa)\n",
    "print(f\"Estadístico W = {stat:.4f}\")\n",
    "print(f\"Valor p = {p_value:.8f}\")\n",
    "\n",
    "alpha = 0.05\n",
    "if p_value < alpha:\n",
    "    print(\"El número de filas no sigue una distribución normal (rechazar H0).\")\n",
    "else:\n",
    "    print(\"El número de filas sigue una distribución normal (aceptar H0).\")"
   ],
   "id": "2a5814956c653504",
   "outputs": [
    {
     "name": "stdout",
     "output_type": "stream",
     "text": [
      "Estadístico W = 0.9753\n",
      "Valor p = 0.86021925\n",
      "El número de filas sigue una distribución normal (aceptar H0).\n"
     ]
    }
   ],
   "execution_count": 1594
  },
  {
   "metadata": {
    "ExecuteTime": {
     "end_time": "2024-04-15T09:30:35.537065Z",
     "start_time": "2024-04-15T09:30:35.527126Z"
    }
   },
   "cell_type": "code",
   "source": [
    "t_stat_12, p_val_12 = ttest_ind(CON_PA['proteinas totales'], CON_PA_MECVV['proteinas totales'], equal_var=False)\n",
    "print(\"P-valor entre CON_PA y CON_PA_MECVV:\", p_val_12)"
   ],
   "id": "640cfae7a64c728a",
   "outputs": [
    {
     "name": "stdout",
     "output_type": "stream",
     "text": [
      "P-valor entre CON_PA y CON_PA_MECVV: nan\n"
     ]
    }
   ],
   "execution_count": 1441
  },
  {
   "metadata": {
    "ExecuteTime": {
     "end_time": "2024-04-15T11:22:14.430738Z",
     "start_time": "2024-04-15T11:22:14.423824Z"
    }
   },
   "cell_type": "code",
   "source": [
    "t_stat_13, p_val_13 = ttest_ind(CON_PA['proteinas totales'], SIN_PA['proteinas totales'], equal_var=False)\n",
    "print(\"P-valor entre CON_PA y SIN_PA:\", p_val_13)"
   ],
   "id": "b77de581056bf467",
   "outputs": [
    {
     "name": "stdout",
     "output_type": "stream",
     "text": [
      "P-valor entre CON_PA y SIN_PA: nan\n"
     ]
    }
   ],
   "execution_count": 1596
  },
  {
   "metadata": {
    "ExecuteTime": {
     "end_time": "2024-04-15T09:30:36.453657Z",
     "start_time": "2024-04-15T09:30:36.438639Z"
    }
   },
   "cell_type": "code",
   "source": [
    "t_stat_23, p_val_23 = ttest_ind(CON_PA_MECVV['proteinas totales'], SIN_PA['proteinas totales'], equal_var=False)\n",
    "print(\"P-valor entre CON_PA_MECVV y SIN_PA:\", p_val_23)"
   ],
   "id": "75b2e46ee9c34956",
   "outputs": [
    {
     "name": "stdout",
     "output_type": "stream",
     "text": [
      "P-valor entre CON_PA_MECVV y SIN_PA: nan\n"
     ]
    }
   ],
   "execution_count": 1443
  },
  {
   "metadata": {},
   "cell_type": "markdown",
   "source": "### Hemoglobina",
   "id": "bc3fabda212d814d"
  },
  {
   "metadata": {
    "ExecuteTime": {
     "end_time": "2024-04-15T09:30:36.764807Z",
     "start_time": "2024-04-15T09:30:36.745634Z"
    }
   },
   "cell_type": "code",
   "source": [
    "CON_PA.loc[:, 'Hb'] = pd.to_numeric(CON_PA['Hb'], errors='coerce')\n",
    "\n",
    "promedio_hb = CON_PA['Hb'].mean()\n",
    "desviacion_estandar_hb = CON_PA['Hb'].std()\n",
    "\n",
    "resultado = f\"{promedio_hb:.2f} ± {desviacion_estandar_hb:.2f}\"\n",
    "print(\"Promedio ± Desviación Estándar de la hemoglobina:\", resultado)"
   ],
   "id": "4be0a89ba5a356a2",
   "outputs": [
    {
     "name": "stdout",
     "output_type": "stream",
     "text": [
      "Promedio ± Desviación Estándar de la hemoglobina: 12.34 ± 1.77\n"
     ]
    }
   ],
   "execution_count": 1444
  },
  {
   "metadata": {
    "ExecuteTime": {
     "end_time": "2024-04-15T09:30:37.347829Z",
     "start_time": "2024-04-15T09:30:37.341690Z"
    }
   },
   "cell_type": "code",
   "source": [
    "CON_PA_MECVV.loc[:, 'Hb'] = pd.to_numeric(CON_PA_MECVV['Hb'], errors='coerce')\n",
    "\n",
    "promedio_hb = CON_PA_MECVV['Hb'].mean()\n",
    "desviacion_estandar_hb = CON_PA_MECVV['Hb'].std()\n",
    "\n",
    "resultado = f\"{promedio_hb:.2f} ± {desviacion_estandar_hb:.2f}\"\n",
    "print(\"Promedio ± Desviación Estándar de la hemoglobina:\", resultado)"
   ],
   "id": "f1581c2d21067c8a",
   "outputs": [
    {
     "name": "stdout",
     "output_type": "stream",
     "text": [
      "Promedio ± Desviación Estándar de la hemoglobina: 13.22 ± 1.40\n"
     ]
    }
   ],
   "execution_count": 1445
  },
  {
   "metadata": {
    "ExecuteTime": {
     "end_time": "2024-04-15T09:30:37.610298Z",
     "start_time": "2024-04-15T09:30:37.601071Z"
    }
   },
   "cell_type": "code",
   "source": [
    "SIN_PA.loc[:, 'Hb'] = pd.to_numeric(SIN_PA['Hb'], errors='coerce')\n",
    "\n",
    "promedio_hb = SIN_PA['Hb'].mean()\n",
    "desviacion_estandar_hb = SIN_PA['Hb'].std()\n",
    "\n",
    "resultado = f\"{promedio_hb:.2f} ± {desviacion_estandar_hb:.2f}\"\n",
    "print(\"Promedio ± Desviación Estándar de la hemoglobina:\", resultado)"
   ],
   "id": "4dbaddd2b6faa4d0",
   "outputs": [
    {
     "name": "stdout",
     "output_type": "stream",
     "text": [
      "Promedio ± Desviación Estándar de la hemoglobina: 13.22 ± 2.16\n"
     ]
    }
   ],
   "execution_count": 1446
  },
  {
   "metadata": {},
   "cell_type": "markdown",
   "source": "##### Pvalor",
   "id": "ddc0429b449395b4"
  },
  {
   "metadata": {},
   "cell_type": "markdown",
   "source": "##### Normalidad",
   "id": "c382a95019a110b8"
  },
  {
   "metadata": {
    "ExecuteTime": {
     "end_time": "2024-04-15T11:22:31.344834Z",
     "start_time": "2024-04-15T11:22:31.333889Z"
    }
   },
   "cell_type": "code",
   "source": [
    "hbconpa=CON_PA['Hb'].dropna()\n",
    "stat, p_value = shapiro(hbconpa)\n",
    "print(f\"Estadístico W = {stat:.4f}\")\n",
    "print(f\"Valor p = {p_value:.8f}\")\n",
    "\n",
    "alpha = 0.05\n",
    "if p_value < alpha:\n",
    "    print(\"El número de filas no sigue una distribución normal (rechazar H0).\")\n",
    "else:\n",
    "    print(\"El número de filas sigue una distribución normal (aceptar H0).\")"
   ],
   "id": "4645c97120fb1fd3",
   "outputs": [
    {
     "name": "stdout",
     "output_type": "stream",
     "text": [
      "Estadístico W = 0.9304\n",
      "Valor p = 0.48501101\n",
      "El número de filas sigue una distribución normal (aceptar H0).\n"
     ]
    }
   ],
   "execution_count": 1597
  },
  {
   "metadata": {
    "ExecuteTime": {
     "end_time": "2024-04-15T11:22:49.442693Z",
     "start_time": "2024-04-15T11:22:49.433597Z"
    }
   },
   "cell_type": "code",
   "source": [
    "hbconpamecvv=CON_PA_MECVV['Hb'].dropna()\n",
    "stat, p_value = shapiro(hbconpamecvv)\n",
    "print(f\"Estadístico W = {stat:.4f}\")\n",
    "print(f\"Valor p = {p_value:.8f}\")\n",
    "\n",
    "alpha = 0.05\n",
    "if p_value < alpha:\n",
    "    print(\"El número de filas no sigue una distribución normal (rechazar H0).\")\n",
    "else:\n",
    "    print(\"El número de filas sigue una distribución normal (aceptar H0).\")"
   ],
   "id": "d79ccaeb50aaf990",
   "outputs": [
    {
     "name": "stdout",
     "output_type": "stream",
     "text": [
      "Estadístico W = 0.8592\n",
      "Valor p = 0.25743995\n",
      "El número de filas sigue una distribución normal (aceptar H0).\n"
     ]
    }
   ],
   "execution_count": 1598
  },
  {
   "metadata": {
    "ExecuteTime": {
     "end_time": "2024-04-15T11:23:19.360974Z",
     "start_time": "2024-04-15T11:23:19.353357Z"
    }
   },
   "cell_type": "code",
   "source": [
    "hbsinpa=SIN_PA['Hb'].dropna()\n",
    "stat, p_value = shapiro(hbsinpa)\n",
    "print(f\"Estadístico W = {stat:.4f}\")\n",
    "print(f\"Valor p = {p_value:.8f}\")\n",
    "\n",
    "alpha = 0.05\n",
    "if p_value < alpha:\n",
    "    print(\"El número de filas no sigue una distribución normal (rechazar H0).\")\n",
    "else:\n",
    "    print(\"El número de filas sigue una distribución normal (aceptar H0).\")"
   ],
   "id": "351dabcedb823e1a",
   "outputs": [
    {
     "name": "stdout",
     "output_type": "stream",
     "text": [
      "Estadístico W = 0.9551\n",
      "Valor p = 0.37239632\n",
      "El número de filas sigue una distribución normal (aceptar H0).\n"
     ]
    }
   ],
   "execution_count": 1599
  },
  {
   "metadata": {
    "ExecuteTime": {
     "end_time": "2024-04-15T09:30:38.130886Z",
     "start_time": "2024-04-15T09:30:38.122930Z"
    }
   },
   "cell_type": "code",
   "source": [
    "t_stat_12, p_val_12 = ttest_ind(CON_PA['Hb'], CON_PA_MECVV['Hb'], equal_var=False)\n",
    "print(\"P-valor entre CON_PA y CON_PA_MECVV:\", p_val_12)"
   ],
   "id": "5602c373ef7d4cb2",
   "outputs": [
    {
     "name": "stdout",
     "output_type": "stream",
     "text": [
      "P-valor entre CON_PA y CON_PA_MECVV: nan\n"
     ]
    }
   ],
   "execution_count": 1447
  },
  {
   "metadata": {
    "ExecuteTime": {
     "end_time": "2024-04-15T09:30:38.454860Z",
     "start_time": "2024-04-15T09:30:38.448768Z"
    }
   },
   "cell_type": "code",
   "source": [
    "t_stat_13, p_val_13 = ttest_ind(CON_PA['Hb'], SIN_PA['Hb'], equal_var=False)\n",
    "print(\"P-valor entre CON_PA y SIN_PA:\", p_val_13)"
   ],
   "id": "a1f56b13f87e1b8e",
   "outputs": [
    {
     "name": "stdout",
     "output_type": "stream",
     "text": [
      "P-valor entre CON_PA y SIN_PA: nan\n"
     ]
    }
   ],
   "execution_count": 1448
  },
  {
   "metadata": {
    "ExecuteTime": {
     "end_time": "2024-04-15T09:30:39.073182Z",
     "start_time": "2024-04-15T09:30:39.066751Z"
    }
   },
   "cell_type": "code",
   "source": [
    "t_stat_23, p_val_23 = ttest_ind(CON_PA_MECVV['Hb'], SIN_PA['Hb'], equal_var=False)\n",
    "print(\"P-valor entre CON_PA_MECVV y SIN_PA:\", p_val_23)"
   ],
   "id": "e5192f3a3700eb3a",
   "outputs": [
    {
     "name": "stdout",
     "output_type": "stream",
     "text": [
      "P-valor entre CON_PA_MECVV y SIN_PA: nan\n"
     ]
    }
   ],
   "execution_count": 1449
  },
  {
   "metadata": {},
   "cell_type": "markdown",
   "source": "### Colesterol ",
   "id": "69fb7071d7d6eaef"
  },
  {
   "metadata": {
    "ExecuteTime": {
     "end_time": "2024-04-15T09:30:39.401125Z",
     "start_time": "2024-04-15T09:30:39.393769Z"
    }
   },
   "cell_type": "code",
   "source": [
    "CON_PA.loc[:, 'colesterol total'] = pd.to_numeric(CON_PA['colesterol total'], errors='coerce')\n",
    "\n",
    "promedio_col = CON_PA['colesterol total'].mean()\n",
    "desviacion_estandar_col = CON_PA['colesterol total'].std()\n",
    "\n",
    "resultado = f\"{promedio_col:.2f} ± {desviacion_estandar_col:.2f}\"\n",
    "print(\"Promedio ± Desviación Estándar del colesterol total:\", resultado)"
   ],
   "id": "fe8d9b7560d6730",
   "outputs": [
    {
     "name": "stdout",
     "output_type": "stream",
     "text": [
      "Promedio ± Desviación Estándar del colesterol total: 132.10 ± 34.83\n"
     ]
    }
   ],
   "execution_count": 1450
  },
  {
   "metadata": {
    "ExecuteTime": {
     "end_time": "2024-04-15T09:30:39.935613Z",
     "start_time": "2024-04-15T09:30:39.929572Z"
    }
   },
   "cell_type": "code",
   "source": [
    "CON_PA_MECVV.loc[:, 'colesterol total'] = pd.to_numeric(CON_PA_MECVV['colesterol total'], errors='coerce')\n",
    "\n",
    "promedio_col = CON_PA_MECVV['colesterol total'].mean()\n",
    "desviacion_estandar_col = CON_PA_MECVV['colesterol total'].std()\n",
    "\n",
    "resultado = f\"{promedio_col:.2f} ± {desviacion_estandar_col:.2f}\"\n",
    "print(\"Promedio ± Desviación Estándar del colesterol total:\", resultado)"
   ],
   "id": "8546537e62ad77dd",
   "outputs": [
    {
     "name": "stdout",
     "output_type": "stream",
     "text": [
      "Promedio ± Desviación Estándar del colesterol total: 111.90 ± 28.37\n"
     ]
    }
   ],
   "execution_count": 1451
  },
  {
   "metadata": {
    "ExecuteTime": {
     "end_time": "2024-04-15T09:30:40.284196Z",
     "start_time": "2024-04-15T09:30:40.273880Z"
    }
   },
   "cell_type": "code",
   "source": [
    "SIN_PA.loc[:, 'colesterol total'] = pd.to_numeric(SIN_PA['colesterol total'], errors='coerce')\n",
    "\n",
    "promedio_col = SIN_PA['colesterol total'].mean()\n",
    "desviacion_estandar_col = SIN_PA['colesterol total'].std()\n",
    "\n",
    "resultado = f\"{promedio_col:.2f} ± {desviacion_estandar_col:.2f}\"\n",
    "print(\"Promedio ± Desviación Estándar del colesterol total:\", resultado)"
   ],
   "id": "9e49175aad80cbde",
   "outputs": [
    {
     "name": "stdout",
     "output_type": "stream",
     "text": [
      "Promedio ± Desviación Estándar del colesterol total: 145.27 ± 40.45\n"
     ]
    }
   ],
   "execution_count": 1452
  },
  {
   "metadata": {},
   "cell_type": "markdown",
   "source": "#### Pvalor",
   "id": "1eaeaee06918537e"
  },
  {
   "metadata": {},
   "cell_type": "markdown",
   "source": [
    "##### Normalidad \n",
    "\n"
   ],
   "id": "7e22980115bb759b"
  },
  {
   "metadata": {
    "ExecuteTime": {
     "end_time": "2024-04-15T11:51:23.395673Z",
     "start_time": "2024-04-15T11:51:23.318961Z"
    }
   },
   "cell_type": "code",
   "source": [
    "colconpa=CON_PA['colesterol total'].dropna()\n",
    "stat, p_value = shapiro(colconpa)\n",
    "print(f\"Estadístico W = {stat:.4f}\")\n",
    "print(f\"Valor p = {p_value:.8f}\")\n",
    "\n",
    "alpha = 0.05\n",
    "if p_value < alpha:\n",
    "    print(\"El número de filas no sigue una distribución normal (rechazar H0).\")\n",
    "else:\n",
    "    print(\"El número de filas sigue una distribución normal (aceptar H0).\")"
   ],
   "id": "135b3c8f15d09625",
   "outputs": [
    {
     "name": "stdout",
     "output_type": "stream",
     "text": [
      "Estadístico W = 0.9887\n",
      "Valor p = 0.99048226\n",
      "El número de filas sigue una distribución normal (aceptar H0).\n"
     ]
    }
   ],
   "execution_count": 1600
  },
  {
   "metadata": {
    "ExecuteTime": {
     "end_time": "2024-04-15T11:51:43.771475Z",
     "start_time": "2024-04-15T11:51:43.762689Z"
    }
   },
   "cell_type": "code",
   "source": [
    "colconpamecvv=CON_PA_MECVV['colesterol total'].dropna()\n",
    "stat, p_value = shapiro(colconpamecvv)\n",
    "print(f\"Estadístico W = {stat:.4f}\")\n",
    "print(f\"Valor p = {p_value:.8f}\")\n",
    "\n",
    "alpha = 0.05\n",
    "if p_value < alpha:\n",
    "    print(\"El número de filas no sigue una distribución normal (rechazar H0).\")\n",
    "else:\n",
    "    print(\"El número de filas sigue una distribución normal (aceptar H0).\")"
   ],
   "id": "35555189779cc831",
   "outputs": [
    {
     "name": "stdout",
     "output_type": "stream",
     "text": [
      "Estadístico W = 0.9462\n",
      "Valor p = 0.55290474\n",
      "El número de filas sigue una distribución normal (aceptar H0).\n"
     ]
    }
   ],
   "execution_count": 1601
  },
  {
   "metadata": {
    "ExecuteTime": {
     "end_time": "2024-04-15T11:52:02.104573Z",
     "start_time": "2024-04-15T11:52:02.090089Z"
    }
   },
   "cell_type": "code",
   "source": [
    "colsinpa=SIN_PA['colesterol total'].dropna()\n",
    "stat, p_value = shapiro(colsinpa)\n",
    "print(f\"Estadístico W = {stat:.4f}\")\n",
    "print(f\"Valor p = {p_value:.8f}\")\n",
    "\n",
    "alpha = 0.05\n",
    "if p_value < alpha:\n",
    "    print(\"El número de filas no sigue una distribución normal (rechazar H0).\")\n",
    "else:\n",
    "    print(\"El número de filas sigue una distribución normal (aceptar H0).\")"
   ],
   "id": "bb384e047dbdd903",
   "outputs": [
    {
     "name": "stdout",
     "output_type": "stream",
     "text": [
      "Estadístico W = 0.9725\n",
      "Valor p = 0.84373822\n",
      "El número de filas sigue una distribución normal (aceptar H0).\n"
     ]
    }
   ],
   "execution_count": 1602
  },
  {
   "metadata": {},
   "cell_type": "markdown",
   "source": "Usaré tambien T-test ya que todos siguen una distribucion normal ",
   "id": "7e4ae57ceb6182e7"
  },
  {
   "metadata": {
    "ExecuteTime": {
     "end_time": "2024-04-15T09:30:40.772629Z",
     "start_time": "2024-04-15T09:30:40.765095Z"
    }
   },
   "cell_type": "code",
   "source": [
    "t_stat_12, p_val_12 = ttest_ind(CON_PA['colesterol total'], CON_PA_MECVV['colesterol total'], equal_var=False)\n",
    "print(\"P-valor entre CON_PA y CON_PA_MECVV:\", p_val_12)"
   ],
   "id": "c656a0d73bb5551d",
   "outputs": [
    {
     "name": "stdout",
     "output_type": "stream",
     "text": [
      "P-valor entre CON_PA y CON_PA_MECVV: nan\n"
     ]
    }
   ],
   "execution_count": 1453
  },
  {
   "metadata": {
    "ExecuteTime": {
     "end_time": "2024-04-15T09:30:41.080838Z",
     "start_time": "2024-04-15T09:30:41.073535Z"
    }
   },
   "cell_type": "code",
   "source": [
    "t_stat_13, p_val_13 = ttest_ind(CON_PA['colesterol total'], SIN_PA['colesterol total'], equal_var=False)\n",
    "print(\"P-valor entre CON_PA y SIN_PA:\", p_val_13)"
   ],
   "id": "308784ac133fab84",
   "outputs": [
    {
     "name": "stdout",
     "output_type": "stream",
     "text": [
      "P-valor entre CON_PA y SIN_PA: nan\n"
     ]
    }
   ],
   "execution_count": 1454
  },
  {
   "metadata": {
    "ExecuteTime": {
     "end_time": "2024-04-15T09:30:41.651441Z",
     "start_time": "2024-04-15T09:30:41.647127Z"
    }
   },
   "cell_type": "code",
   "source": [
    "t_stat_23, p_val_23 = ttest_ind(CON_PA_MECVV['colesterol total'], SIN_PA['colesterol total'], equal_var=False)\n",
    "print(\"P-valor entre CON_PA_MECVV y SIN_PA:\", p_val_23)"
   ],
   "id": "a981d08ea9a0e6c4",
   "outputs": [
    {
     "name": "stdout",
     "output_type": "stream",
     "text": [
      "P-valor entre CON_PA_MECVV y SIN_PA: nan\n"
     ]
    }
   ],
   "execution_count": 1455
  },
  {
   "metadata": {},
   "cell_type": "markdown",
   "source": "### Leucócitos",
   "id": "7e1abe2f5bcccb21"
  },
  {
   "metadata": {
    "ExecuteTime": {
     "end_time": "2024-04-15T09:30:41.981801Z",
     "start_time": "2024-04-15T09:30:41.973978Z"
    }
   },
   "cell_type": "code",
   "source": [
    "CON_PA.loc[:, 'leucos'] = pd.to_numeric(CON_PA['leucos'], errors='coerce')\n",
    "\n",
    "promedio_leu = CON_PA['leucos'].mean()\n",
    "desviacion_estandar_leu = CON_PA['leucos'].std()\n",
    "\n",
    "resultado = f\"{promedio_leu:.2f} ± {desviacion_estandar_leu:.2f}\"\n",
    "print(\"Promedio ± Desviación Estándar de los leucocitos:\", resultado)"
   ],
   "id": "4430c7eeb483cea3",
   "outputs": [
    {
     "name": "stdout",
     "output_type": "stream",
     "text": [
      "Promedio ± Desviación Estándar de los leucocitos: 12.69 ± 4.88\n"
     ]
    }
   ],
   "execution_count": 1456
  },
  {
   "metadata": {
    "ExecuteTime": {
     "end_time": "2024-04-15T09:30:42.600446Z",
     "start_time": "2024-04-15T09:30:42.591695Z"
    }
   },
   "cell_type": "code",
   "source": [
    "CON_PA_MECVV.loc[:, 'leucos'] = pd.to_numeric(CON_PA_MECVV['leucos'], errors='coerce')\n",
    "\n",
    "promedio_leu = CON_PA_MECVV['leucos'].mean()\n",
    "desviacion_estandar_leu = CON_PA_MECVV['leucos'].std()\n",
    "\n",
    "resultado = f\"{promedio_leu:.2f} ± {desviacion_estandar_leu:.2f}\"\n",
    "print(\"Promedio ± Desviación Estándar de los leucocitos:\", resultado)"
   ],
   "id": "3ad74bc493302210",
   "outputs": [
    {
     "name": "stdout",
     "output_type": "stream",
     "text": [
      "Promedio ± Desviación Estándar de los leucocitos: 13.08 ± 6.83\n"
     ]
    }
   ],
   "execution_count": 1457
  },
  {
   "metadata": {
    "ExecuteTime": {
     "end_time": "2024-04-15T09:30:42.941392Z",
     "start_time": "2024-04-15T09:30:42.933261Z"
    }
   },
   "cell_type": "code",
   "source": [
    "SIN_PA.loc[:, 'leucos'] = pd.to_numeric(SIN_PA['leucos'], errors='coerce')\n",
    "\n",
    "promedio_leu = SIN_PA['leucos'].mean()\n",
    "desviacion_estandar_leu = SIN_PA['leucos'].std()\n",
    "\n",
    "resultado = f\"{promedio_leu:.2f} ± {desviacion_estandar_leu:.2f}\"\n",
    "print(\"Promedio ± Desviación Estándar de los leucocitos:\", resultado)"
   ],
   "id": "99a1a6295c361a2c",
   "outputs": [
    {
     "name": "stdout",
     "output_type": "stream",
     "text": [
      "Promedio ± Desviación Estándar de los leucocitos: 11.52 ± 6.52\n"
     ]
    }
   ],
   "execution_count": 1458
  },
  {
   "metadata": {},
   "cell_type": "markdown",
   "source": "#### Pvalor ",
   "id": "9511b2de133ed812"
  },
  {
   "metadata": {},
   "cell_type": "markdown",
   "source": "##### Normalidad",
   "id": "d1fa962aa6b639d3"
  },
  {
   "metadata": {
    "ExecuteTime": {
     "end_time": "2024-04-15T11:54:15.448456Z",
     "start_time": "2024-04-15T11:54:15.439753Z"
    }
   },
   "cell_type": "code",
   "source": [
    "leuconpa=CON_PA['leucos'].dropna()\n",
    "stat, p_value = shapiro(leuconpa)\n",
    "print(f\"Estadístico W = {stat:.4f}\")\n",
    "print(f\"Valor p = {p_value:.8f}\")\n",
    "\n",
    "alpha = 0.05\n",
    "if p_value < alpha:\n",
    "    print(\"El número de filas no sigue una distribución normal (rechazar H0).\")\n",
    "else:\n",
    "    print(\"El número de filas sigue una distribución normal (aceptar H0).\")"
   ],
   "id": "c19926c8fe5c2c29",
   "outputs": [
    {
     "name": "stdout",
     "output_type": "stream",
     "text": [
      "Estadístico W = 0.8482\n",
      "Valor p = 0.09127190\n",
      "El número de filas sigue una distribución normal (aceptar H0).\n"
     ]
    }
   ],
   "execution_count": 1604
  },
  {
   "metadata": {
    "ExecuteTime": {
     "end_time": "2024-04-15T11:54:55.063060Z",
     "start_time": "2024-04-15T11:54:55.052140Z"
    }
   },
   "cell_type": "code",
   "source": [
    "leuconpamecvv=CON_PA_MECVV['leucos'].dropna()\n",
    "stat, p_value = shapiro(leuconpamecvv)\n",
    "print(f\"Estadístico W = {stat:.4f}\")\n",
    "print(f\"Valor p = {p_value:.8f}\")\n",
    "\n",
    "alpha = 0.05\n",
    "if p_value < alpha:\n",
    "    print(\"El número de filas no sigue una distribución normal (rechazar H0).\")\n",
    "else:\n",
    "    print(\"El número de filas sigue una distribución normal (aceptar H0).\")"
   ],
   "id": "94aa3e5f50110b82",
   "outputs": [
    {
     "name": "stdout",
     "output_type": "stream",
     "text": [
      "Estadístico W = 0.8939\n",
      "Valor p = 0.40148390\n",
      "El número de filas sigue una distribución normal (aceptar H0).\n"
     ]
    }
   ],
   "execution_count": 1605
  },
  {
   "metadata": {
    "ExecuteTime": {
     "end_time": "2024-04-15T11:55:15.523767Z",
     "start_time": "2024-04-15T11:55:15.515057Z"
    }
   },
   "cell_type": "code",
   "source": [
    "leusinpa=SIN_PA['leucos'].dropna()\n",
    "stat, p_value = shapiro(leusinpa)\n",
    "print(f\"Estadístico W = {stat:.4f}\")\n",
    "print(f\"Valor p = {p_value:.8f}\")\n",
    "\n",
    "alpha = 0.05\n",
    "if p_value < alpha:\n",
    "    print(\"El número de filas no sigue una distribución normal (rechazar H0).\")\n",
    "else:\n",
    "    print(\"El número de filas sigue una distribución normal (aceptar H0).\")"
   ],
   "id": "85f281e368032537",
   "outputs": [
    {
     "name": "stdout",
     "output_type": "stream",
     "text": [
      "Estadístico W = 0.8178\n",
      "Valor p = 0.00096236\n",
      "El número de filas no sigue una distribución normal (rechazar H0).\n"
     ]
    }
   ],
   "execution_count": 1606
  },
  {
   "metadata": {},
   "cell_type": "markdown",
   "source": "Usaré T-test menos cuando esté comparando contra el 3r grupo (SIN_PA) donde usaré el test Mann-Whitney ya que es el unico que no sigue una distribución normal",
   "id": "197cd1679ad8efff"
  },
  {
   "metadata": {
    "ExecuteTime": {
     "end_time": "2024-04-15T09:30:43.437704Z",
     "start_time": "2024-04-15T09:30:43.432645Z"
    }
   },
   "cell_type": "code",
   "source": [
    "t_stat_12, p_val_12 = ttest_ind(CON_PA['leucos'], CON_PA_MECVV['leucos'], equal_var=False)\n",
    "print(\"P-valor entre CON_PA y CON_PA_MECVV:\", p_val_12)"
   ],
   "id": "59295ec2bdcca38d",
   "outputs": [
    {
     "name": "stdout",
     "output_type": "stream",
     "text": [
      "P-valor entre CON_PA y CON_PA_MECVV: nan\n"
     ]
    }
   ],
   "execution_count": 1459
  },
  {
   "metadata": {
    "ExecuteTime": {
     "end_time": "2024-04-15T09:30:43.786008Z",
     "start_time": "2024-04-15T09:30:43.777456Z"
    }
   },
   "cell_type": "code",
   "source": [
    "t_stat_13, p_val_13 = ttest_ind(CON_PA['leucos'], SIN_PA['leucos'], equal_var=False)\n",
    "print(\"P-valor entre CON_PA y SIN_PA:\", p_val_13)"
   ],
   "id": "79ab95afbed3f45c",
   "outputs": [
    {
     "name": "stdout",
     "output_type": "stream",
     "text": [
      "P-valor entre CON_PA y SIN_PA: nan\n"
     ]
    }
   ],
   "execution_count": 1460
  },
  {
   "metadata": {
    "ExecuteTime": {
     "end_time": "2024-04-15T09:30:44.470288Z",
     "start_time": "2024-04-15T09:30:44.463001Z"
    }
   },
   "cell_type": "code",
   "source": [
    "t_stat_23, p_val_23 = ttest_ind(CON_PA_MECVV['leucos'], SIN_PA['leucos'], equal_var=False)\n",
    "print(\"P-valor entre CON_PA_MECVV y SIN_PA:\", p_val_23)"
   ],
   "id": "9d6e12e2297c2edb",
   "outputs": [
    {
     "name": "stdout",
     "output_type": "stream",
     "text": [
      "P-valor entre CON_PA_MECVV y SIN_PA: nan\n"
     ]
    }
   ],
   "execution_count": 1461
  },
  {
   "metadata": {},
   "cell_type": "markdown",
   "source": "### Linfocitos %",
   "id": "c7ba36254173c3f"
  },
  {
   "metadata": {
    "ExecuteTime": {
     "end_time": "2024-04-15T09:30:44.840055Z",
     "start_time": "2024-04-15T09:30:44.832192Z"
    }
   },
   "cell_type": "code",
   "source": [
    "CON_PA.loc[:, 'limfos'] = pd.to_numeric(CON_PA['limfos'], errors='coerce')\n",
    "\n",
    "promedio_limf = CON_PA['limfos'].mean()\n",
    "desviacion_estandar_limf = CON_PA['limfos'].std()\n",
    "\n",
    "resultado = f\"{promedio_limf:.2f} ± {desviacion_estandar_limf:.2f}\"\n",
    "print(\"Promedio ± Desviación Estándar de los limfocitos %:\", resultado)"
   ],
   "id": "c25fb26ede6fabe0",
   "outputs": [
    {
     "name": "stdout",
     "output_type": "stream",
     "text": [
      "Promedio ± Desviación Estándar de los limfocitos %: 16.70 ± 12.29\n"
     ]
    }
   ],
   "execution_count": 1462
  },
  {
   "metadata": {
    "ExecuteTime": {
     "end_time": "2024-04-15T09:30:45.315329Z",
     "start_time": "2024-04-15T09:30:45.304957Z"
    }
   },
   "cell_type": "code",
   "source": [
    "CON_PA_MECVV.loc[:, 'limfos'] = pd.to_numeric(CON_PA_MECVV['limfos'], errors='coerce')\n",
    "\n",
    "promedio_limf = CON_PA_MECVV['limfos'].mean()\n",
    "desviacion_estandar_limf = CON_PA_MECVV['limfos'].std()\n",
    "\n",
    "resultado = f\"{promedio_limf:.2f} ± {desviacion_estandar_limf:.2f}\"\n",
    "print(\"Promedio ± Desviación Estándar de los limfocitos %:\", resultado)"
   ],
   "id": "3d1f97bbff88b3d3",
   "outputs": [
    {
     "name": "stdout",
     "output_type": "stream",
     "text": [
      "Promedio ± Desviación Estándar de los limfocitos %: 17.20 ± 9.35\n"
     ]
    }
   ],
   "execution_count": 1463
  },
  {
   "metadata": {
    "ExecuteTime": {
     "end_time": "2024-04-15T09:30:45.640412Z",
     "start_time": "2024-04-15T09:30:45.634024Z"
    }
   },
   "cell_type": "code",
   "source": [
    "SIN_PA.loc[:, 'limfos'] = pd.to_numeric(SIN_PA['limfos'], errors='coerce')\n",
    "\n",
    "promedio_limf = SIN_PA['limfos'].mean()\n",
    "desviacion_estandar_limf = SIN_PA['limfos'].std()\n",
    "\n",
    "resultado = f\"{promedio_limf:.2f} ± {desviacion_estandar_limf:.2f}\"\n",
    "print(\"Promedio ± Desviación Estándar de los limfocitos %:\", resultado)"
   ],
   "id": "4284d3f2b93fd461",
   "outputs": [
    {
     "name": "stdout",
     "output_type": "stream",
     "text": [
      "Promedio ± Desviación Estándar de los limfocitos %: 19.50 ± 11.57\n"
     ]
    }
   ],
   "execution_count": 1464
  },
  {
   "metadata": {},
   "cell_type": "markdown",
   "source": "#### Pvalor",
   "id": "d631c6aabf1ddcfc"
  },
  {
   "metadata": {
    "ExecuteTime": {
     "end_time": "2024-04-15T09:30:46.199688Z",
     "start_time": "2024-04-15T09:30:46.194255Z"
    }
   },
   "cell_type": "code",
   "source": [
    "t_stat_12, p_val_12 = ttest_ind(CON_PA['limfos'], CON_PA_MECVV['limfos'], equal_var=False)\n",
    "print(\"P-valor entre CON_PA y CON_PA_MECVV:\", p_val_12)"
   ],
   "id": "1f687355004bb722",
   "outputs": [
    {
     "name": "stdout",
     "output_type": "stream",
     "text": [
      "P-valor entre CON_PA y CON_PA_MECVV: nan\n"
     ]
    }
   ],
   "execution_count": 1465
  },
  {
   "metadata": {
    "ExecuteTime": {
     "end_time": "2024-04-15T09:30:46.477255Z",
     "start_time": "2024-04-15T09:30:46.471186Z"
    }
   },
   "cell_type": "code",
   "source": [
    "t_stat_13, p_val_13 = ttest_ind(CON_PA['limfos'], SIN_PA['limfos'], equal_var=False)\n",
    "print(\"P-valor entre CON_PA y SIN_PA:\", p_val_13)"
   ],
   "id": "cdc7d555c89a97a",
   "outputs": [
    {
     "name": "stdout",
     "output_type": "stream",
     "text": [
      "P-valor entre CON_PA y SIN_PA: nan\n"
     ]
    }
   ],
   "execution_count": 1466
  },
  {
   "metadata": {
    "ExecuteTime": {
     "end_time": "2024-04-15T09:30:47.060824Z",
     "start_time": "2024-04-15T09:30:47.055672Z"
    }
   },
   "cell_type": "code",
   "source": [
    "t_stat_23, p_val_23 = ttest_ind(CON_PA_MECVV['limfos'], SIN_PA['limfos'], equal_var=False)\n",
    "print(\"P-valor entre CON_PA_MECVV y SIN_PA:\", p_val_23)"
   ],
   "id": "475aa2b5d327df7c",
   "outputs": [
    {
     "name": "stdout",
     "output_type": "stream",
     "text": [
      "P-valor entre CON_PA_MECVV y SIN_PA: nan\n"
     ]
    }
   ],
   "execution_count": 1467
  },
  {
   "metadata": {},
   "cell_type": "markdown",
   "source": "### Proteina C Reactiva",
   "id": "b5af48dc4725f34c"
  },
  {
   "metadata": {
    "ExecuteTime": {
     "end_time": "2024-04-15T09:30:47.420983Z",
     "start_time": "2024-04-15T09:30:47.411864Z"
    }
   },
   "cell_type": "code",
   "source": [
    "CON_PA.loc[:, 'prot C react'] = pd.to_numeric(CON_PA['prot C react'], errors='coerce')\n",
    "\n",
    "promedio_protcr = CON_PA['prot C react'].mean()\n",
    "desviacion_estandar_protcr = CON_PA['prot C react'].std()\n",
    "\n",
    "resultado = f\"{promedio_protcr:.2f} ± {desviacion_estandar_protcr:.2f}\"\n",
    "print(\"Promedio ± Desviación Estándar de la proteina C reactiva:\", resultado)"
   ],
   "id": "98e283277d756533",
   "outputs": [
    {
     "name": "stdout",
     "output_type": "stream",
     "text": [
      "Promedio ± Desviación Estándar de la proteina C reactiva: 8.90 ± 5.47\n"
     ]
    }
   ],
   "execution_count": 1468
  },
  {
   "metadata": {
    "ExecuteTime": {
     "end_time": "2024-04-15T09:30:47.923961Z",
     "start_time": "2024-04-15T09:30:47.916606Z"
    }
   },
   "cell_type": "code",
   "source": [
    "CON_PA_MECVV.loc[:, 'prot C react'] = pd.to_numeric(CON_PA_MECVV['prot C react'], errors='coerce')\n",
    "\n",
    "promedio_protcr = CON_PA_MECVV['prot C react'].mean()\n",
    "desviacion_estandar_protcr = CON_PA_MECVV['prot C react'].std()\n",
    "\n",
    "resultado = f\"{promedio_protcr:.2f} ± {desviacion_estandar_protcr:.2f}\"\n",
    "print(\"Promedio ± Desviación Estándar de la proteina C reactiva:\", resultado)"
   ],
   "id": "8b515311fed50137",
   "outputs": [
    {
     "name": "stdout",
     "output_type": "stream",
     "text": [
      "Promedio ± Desviación Estándar de la proteina C reactiva: 8.88 ± 3.63\n"
     ]
    }
   ],
   "execution_count": 1469
  },
  {
   "metadata": {
    "ExecuteTime": {
     "end_time": "2024-04-15T09:30:48.232651Z",
     "start_time": "2024-04-15T09:30:48.226278Z"
    }
   },
   "cell_type": "code",
   "source": [
    "SIN_PA.loc[:, 'prot C react'] = pd.to_numeric(SIN_PA['prot C react'], errors='coerce')\n",
    "\n",
    "promedio_protcr = SIN_PA['prot C react'].mean()\n",
    "desviacion_estandar_protcr = SIN_PA['prot C react'].std()\n",
    "\n",
    "resultado = f\"{promedio_protcr:.2f} ± {desviacion_estandar_protcr:.2f}\"\n",
    "print(\"Promedio ± Desviación Estándar de la proteina C reactiva:\", resultado)"
   ],
   "id": "7ddab15e5c37a380",
   "outputs": [
    {
     "name": "stdout",
     "output_type": "stream",
     "text": [
      "Promedio ± Desviación Estándar de la proteina C reactiva: 6.16 ± 6.19\n"
     ]
    }
   ],
   "execution_count": 1470
  },
  {
   "metadata": {},
   "cell_type": "markdown",
   "source": "#### Pvalor",
   "id": "b31569a040499bc0"
  },
  {
   "metadata": {
    "ExecuteTime": {
     "end_time": "2024-04-15T09:30:48.704063Z",
     "start_time": "2024-04-15T09:30:48.694022Z"
    }
   },
   "cell_type": "code",
   "source": [
    "t_stat_12, p_val_12 = ttest_ind(CON_PA['prot C react'], CON_PA_MECVV['prot C react'], equal_var=False)\n",
    "print(\"P-valor entre CON_PA y CON_PA_MECVV:\", p_val_12)"
   ],
   "id": "4ac26b19e5a637c4",
   "outputs": [
    {
     "name": "stdout",
     "output_type": "stream",
     "text": [
      "P-valor entre CON_PA y CON_PA_MECVV: nan\n"
     ]
    }
   ],
   "execution_count": 1471
  },
  {
   "metadata": {
    "ExecuteTime": {
     "end_time": "2024-04-15T09:30:49.010516Z",
     "start_time": "2024-04-15T09:30:49.004328Z"
    }
   },
   "cell_type": "code",
   "source": [
    "t_stat_13, p_val_13 = ttest_ind(CON_PA['prot C react'], SIN_PA['prot C react'], equal_var=False)\n",
    "print(\"P-valor entre CON_PA y SIN_PA:\", p_val_13)"
   ],
   "id": "c066108d69febfac",
   "outputs": [
    {
     "name": "stdout",
     "output_type": "stream",
     "text": [
      "P-valor entre CON_PA y SIN_PA: nan\n"
     ]
    }
   ],
   "execution_count": 1472
  },
  {
   "metadata": {
    "ExecuteTime": {
     "end_time": "2024-04-15T09:30:49.602865Z",
     "start_time": "2024-04-15T09:30:49.595387Z"
    }
   },
   "cell_type": "code",
   "source": [
    "t_stat_23, p_val_23 = ttest_ind(CON_PA_MECVV['prot C react'], SIN_PA['prot C react'], equal_var=False)\n",
    "print(\"P-valor entre CON_PA_MECVV y SIN_PA:\", p_val_23)"
   ],
   "id": "990e6825240cb2cc",
   "outputs": [
    {
     "name": "stdout",
     "output_type": "stream",
     "text": [
      "P-valor entre CON_PA_MECVV y SIN_PA: nan\n"
     ]
    }
   ],
   "execution_count": 1473
  },
  {
   "metadata": {},
   "cell_type": "markdown",
   "source": "### Urea ",
   "id": "70407b79d2781378"
  },
  {
   "metadata": {
    "ExecuteTime": {
     "end_time": "2024-04-15T09:30:49.933964Z",
     "start_time": "2024-04-15T09:30:49.926115Z"
    }
   },
   "cell_type": "code",
   "source": [
    "CON_PA.loc[:, 'urea'] = pd.to_numeric(CON_PA['urea'], errors='coerce')\n",
    "\n",
    "promedio_urea = CON_PA['urea'].mean()\n",
    "desviacion_estandar_urea = CON_PA['urea'].std()\n",
    "\n",
    "resultado = f\"{promedio_urea:.2f} ± {desviacion_estandar_urea:.2f}\"\n",
    "print(\"Promedio ± Desviación Estándar de la urea:\", resultado)"
   ],
   "id": "6d830574cb2474c2",
   "outputs": [
    {
     "name": "stdout",
     "output_type": "stream",
     "text": [
      "Promedio ± Desviación Estándar de la urea: 62.17 ± 36.37\n"
     ]
    }
   ],
   "execution_count": 1474
  },
  {
   "metadata": {
    "ExecuteTime": {
     "end_time": "2024-04-15T09:30:50.472012Z",
     "start_time": "2024-04-15T09:30:50.462723Z"
    }
   },
   "cell_type": "code",
   "source": [
    "CON_PA_MECVV.loc[:, 'urea'] = pd.to_numeric(CON_PA_MECVV['urea'], errors='coerce')\n",
    "\n",
    "promedio_urea = CON_PA_MECVV['urea'].mean()\n",
    "desviacion_estandar_urea = CON_PA_MECVV['urea'].std()\n",
    "\n",
    "resultado = f\"{promedio_urea:.2f} ± {desviacion_estandar_urea:.2f}\"\n",
    "print(\"Promedio ± Desviación Estándar de la urea:\", resultado)"
   ],
   "id": "115f038f7b499570",
   "outputs": [
    {
     "name": "stdout",
     "output_type": "stream",
     "text": [
      "Promedio ± Desviación Estándar de la urea: 62.37 ± 37.72\n"
     ]
    }
   ],
   "execution_count": 1475
  },
  {
   "metadata": {
    "ExecuteTime": {
     "end_time": "2024-04-15T09:30:50.826435Z",
     "start_time": "2024-04-15T09:30:50.815146Z"
    }
   },
   "cell_type": "code",
   "source": [
    "SIN_PA.loc[:, 'urea'] = pd.to_numeric(SIN_PA['urea'], errors='coerce')\n",
    "\n",
    "promedio_urea = SIN_PA['urea'].mean()\n",
    "desviacion_estandar_urea = SIN_PA['urea'].std()\n",
    "\n",
    "resultado = f\"{promedio_urea:.2f} ± {desviacion_estandar_urea:.2f}\"\n",
    "print(\"Promedio ± Desviación Estándar de la urea:\", resultado)"
   ],
   "id": "128b7760b5b53c87",
   "outputs": [
    {
     "name": "stdout",
     "output_type": "stream",
     "text": [
      "Promedio ± Desviación Estándar de la urea: 55.03 ± 30.66\n"
     ]
    }
   ],
   "execution_count": 1476
  },
  {
   "metadata": {},
   "cell_type": "markdown",
   "source": "#### Pvalor",
   "id": "9845a84dff03ee36"
  },
  {
   "metadata": {
    "ExecuteTime": {
     "end_time": "2024-04-15T09:30:51.313489Z",
     "start_time": "2024-04-15T09:30:51.307202Z"
    }
   },
   "cell_type": "code",
   "source": [
    "t_stat_12, p_val_12 = ttest_ind(CON_PA['urea'], CON_PA_MECVV['urea'], equal_var=False)\n",
    "print(\"P-valor entre CON_PA y CON_PA_MECVV:\", p_val_12)"
   ],
   "id": "8ecd8760328f0c7c",
   "outputs": [
    {
     "name": "stdout",
     "output_type": "stream",
     "text": [
      "P-valor entre CON_PA y CON_PA_MECVV: nan\n"
     ]
    }
   ],
   "execution_count": 1477
  },
  {
   "metadata": {
    "ExecuteTime": {
     "end_time": "2024-04-15T09:30:51.607094Z",
     "start_time": "2024-04-15T09:30:51.600244Z"
    }
   },
   "cell_type": "code",
   "source": [
    "t_stat_13, p_val_13 = ttest_ind(CON_PA['urea'], SIN_PA['urea'], equal_var=False)\n",
    "print(\"P-valor entre CON_PA y SIN_PA:\", p_val_13)"
   ],
   "id": "a5fc71afbb44df64",
   "outputs": [
    {
     "name": "stdout",
     "output_type": "stream",
     "text": [
      "P-valor entre CON_PA y SIN_PA: nan\n"
     ]
    }
   ],
   "execution_count": 1478
  },
  {
   "metadata": {
    "ExecuteTime": {
     "end_time": "2024-04-15T09:30:52.137767Z",
     "start_time": "2024-04-15T09:30:52.131763Z"
    }
   },
   "cell_type": "code",
   "source": [
    "t_stat_23, p_val_23 = ttest_ind(CON_PA_MECVV['urea'], SIN_PA['urea'], equal_var=False)\n",
    "print(\"P-valor entre CON_PA_MECVV y SIN_PA:\", p_val_23)"
   ],
   "id": "6c6fdbd824f81824",
   "outputs": [
    {
     "name": "stdout",
     "output_type": "stream",
     "text": [
      "P-valor entre CON_PA_MECVV y SIN_PA: nan\n"
     ]
    }
   ],
   "execution_count": 1479
  },
  {
   "metadata": {},
   "cell_type": "markdown",
   "source": "### Filtrado glomerular CDK-EPI",
   "id": "97c39fd36060d222"
  },
  {
   "metadata": {
    "ExecuteTime": {
     "end_time": "2024-04-15T09:30:52.466262Z",
     "start_time": "2024-04-15T09:30:52.456373Z"
    }
   },
   "cell_type": "code",
   "source": [
    "CON_PA.loc[:, 'FGE CDK-EPI'] = pd.to_numeric(CON_PA['FGE CDK-EPI'], errors='coerce')\n",
    "\n",
    "promedio_fg = CON_PA['FGE CDK-EPI'].mean()\n",
    "desviacion_estandar_fg = CON_PA['FGE CDK-EPI'].std()\n",
    "\n",
    "resultado = f\"{promedio_fg:.2f} ± {desviacion_estandar_fg:.2f}\"\n",
    "print(\"Promedio ± Desviación Estándar de la filtracion glomerular CDK-EPI:\", resultado)"
   ],
   "id": "335089755b149003",
   "outputs": [
    {
     "name": "stdout",
     "output_type": "stream",
     "text": [
      "Promedio ± Desviación Estándar de la filtracion glomerular CDK-EPI: 56.00 ± 12.65\n"
     ]
    }
   ],
   "execution_count": 1480
  },
  {
   "metadata": {
    "ExecuteTime": {
     "end_time": "2024-04-15T09:30:53.026653Z",
     "start_time": "2024-04-15T09:30:53.015221Z"
    }
   },
   "cell_type": "code",
   "source": [
    "CON_PA_MECVV.loc[:, 'FGE CDK-EPI'] = pd.to_numeric(CON_PA_MECVV['FGE CDK-EPI'], errors='coerce')\n",
    "\n",
    "promedio_fg = CON_PA_MECVV['FGE CDK-EPI'].mean()\n",
    "desviacion_estandar_fg = CON_PA_MECVV['FGE CDK-EPI'].std()\n",
    "\n",
    "resultado = f\"{promedio_fg:.2f} ± {desviacion_estandar_fg:.2f}\"\n",
    "print(\"Promedio ± Desviación Estándar de la filtracion glomerular CDK-EPI:\", resultado)"
   ],
   "id": "a8bb2317b53cefaf",
   "outputs": [
    {
     "name": "stdout",
     "output_type": "stream",
     "text": [
      "Promedio ± Desviación Estándar de la filtracion glomerular CDK-EPI: 54.67 ± 13.32\n"
     ]
    }
   ],
   "execution_count": 1481
  },
  {
   "metadata": {
    "ExecuteTime": {
     "end_time": "2024-04-15T09:30:53.354834Z",
     "start_time": "2024-04-15T09:30:53.342434Z"
    }
   },
   "cell_type": "code",
   "source": [
    "SIN_PA.loc[:, 'FGE CDK-EPI'] = pd.to_numeric(SIN_PA['FGE CDK-EPI'], errors='coerce')\n",
    "\n",
    "promedio_fg = SIN_PA['FGE CDK-EPI'].mean()\n",
    "desviacion_estandar_fg = SIN_PA['FGE CDK-EPI'].std()\n",
    "\n",
    "resultado = f\"{promedio_fg:.2f} ± {desviacion_estandar_fg:.2f}\"\n",
    "print(\"Promedio ± Desviación Estándar de la filtracion glomerular CDK-EPI:\", resultado)"
   ],
   "id": "d3b100faffc74bb4",
   "outputs": [
    {
     "name": "stdout",
     "output_type": "stream",
     "text": [
      "Promedio ± Desviación Estándar de la filtracion glomerular CDK-EPI: 58.56 ± 18.40\n"
     ]
    }
   ],
   "execution_count": 1482
  },
  {
   "metadata": {},
   "cell_type": "markdown",
   "source": "#### Pvalor",
   "id": "3a6a732fb32c6a40"
  },
  {
   "metadata": {
    "ExecuteTime": {
     "end_time": "2024-04-15T09:30:53.812358Z",
     "start_time": "2024-04-15T09:30:53.805812Z"
    }
   },
   "cell_type": "code",
   "source": [
    "t_stat_12, p_val_12 = ttest_ind(CON_PA['FGE CDK-EPI'], CON_PA_MECVV['FGE CDK-EPI'], equal_var=False)\n",
    "print(\"P-valor entre CON_PA y CON_PA_MECVV:\", p_val_12)"
   ],
   "id": "b577d9671e51df70",
   "outputs": [
    {
     "name": "stdout",
     "output_type": "stream",
     "text": [
      "P-valor entre CON_PA y CON_PA_MECVV: nan\n"
     ]
    }
   ],
   "execution_count": 1483
  },
  {
   "metadata": {
    "ExecuteTime": {
     "end_time": "2024-04-15T09:30:54.187233Z",
     "start_time": "2024-04-15T09:30:54.178380Z"
    }
   },
   "cell_type": "code",
   "source": [
    "t_stat_13, p_val_13 = ttest_ind(CON_PA['FGE CDK-EPI'], SIN_PA['FGE CDK-EPI'], equal_var=False)\n",
    "print(\"P-valor entre CON_PA y CON_PA_MECVV:\", p_val_13)"
   ],
   "id": "c64990f8c660b675",
   "outputs": [
    {
     "name": "stdout",
     "output_type": "stream",
     "text": [
      "P-valor entre CON_PA y CON_PA_MECVV: nan\n"
     ]
    }
   ],
   "execution_count": 1484
  },
  {
   "metadata": {
    "ExecuteTime": {
     "end_time": "2024-04-15T09:30:54.790379Z",
     "start_time": "2024-04-15T09:30:54.782973Z"
    }
   },
   "cell_type": "code",
   "source": [
    "t_stat_23, p_val_23 = ttest_ind(CON_PA_MECVV['FGE CDK-EPI'], SIN_PA['FGE CDK-EPI'], equal_var=False)\n",
    "print(\"P-valor entre CON_PA_MECVV y SIN_PA:\", p_val_23)"
   ],
   "id": "cacb3815726e054",
   "outputs": [
    {
     "name": "stdout",
     "output_type": "stream",
     "text": [
      "P-valor entre CON_PA_MECVV y SIN_PA: nan\n"
     ]
    }
   ],
   "execution_count": 1485
  },
  {
   "metadata": {},
   "cell_type": "markdown",
   "source": "### Filtrado glomerular MDRD",
   "id": "5661efefb2d6fbd2"
  },
  {
   "metadata": {
    "ExecuteTime": {
     "end_time": "2024-04-15T09:30:55.069614Z",
     "start_time": "2024-04-15T09:30:55.062045Z"
    }
   },
   "cell_type": "code",
   "source": [
    "CON_PA.loc[:, 'FGE MDRD'] = pd.to_numeric(CON_PA['FGE MDRD'], errors='coerce')\n",
    "\n",
    "promedio_fgmd = CON_PA['FGE MDRD'].mean()\n",
    "desviacion_estandar_fgmd = CON_PA['FGE MDRD'].std()\n",
    "\n",
    "resultado = f\"{promedio_fgmd:.2f} ± {desviacion_estandar_fgmd:.2f}\"\n",
    "print(\"Promedio ± Desviación Estándar de la filtracion glomerular MDRD:\", resultado)"
   ],
   "id": "2e37a6ab86652bfb",
   "outputs": [
    {
     "name": "stdout",
     "output_type": "stream",
     "text": [
      "Promedio ± Desviación Estándar de la filtracion glomerular MDRD: 51.50 ± 0.71\n"
     ]
    }
   ],
   "execution_count": 1486
  },
  {
   "metadata": {
    "ExecuteTime": {
     "end_time": "2024-04-15T09:30:55.598381Z",
     "start_time": "2024-04-15T09:30:55.587380Z"
    }
   },
   "cell_type": "code",
   "source": [
    "CON_PA_MECVV.loc[:, 'FGE MDRD'] = pd.to_numeric(CON_PA_MECVV['FGE MDRD'], errors='coerce')\n",
    "\n",
    "promedio_fgmd = CON_PA_MECVV['FGE MDRD'].mean()\n",
    "desviacion_estandar_fgmd = CON_PA_MECVV['FGE MDRD'].std()\n",
    "\n",
    "resultado = f\"{promedio_fgmd:.2f} ± {desviacion_estandar_fgmd:.2f}\"\n",
    "print(\"Promedio ± Desviación Estándar de la filtracion glomerular MDRD:\", resultado)"
   ],
   "id": "3739fed61774b2d4",
   "outputs": [
    {
     "name": "stdout",
     "output_type": "stream",
     "text": [
      "Promedio ± Desviación Estándar de la filtracion glomerular MDRD: nan ± nan\n"
     ]
    }
   ],
   "execution_count": 1487
  },
  {
   "metadata": {
    "ExecuteTime": {
     "end_time": "2024-04-15T09:30:55.916057Z",
     "start_time": "2024-04-15T09:30:55.904626Z"
    }
   },
   "cell_type": "code",
   "source": [
    "SIN_PA.loc[:, 'FGE MDRD'] = pd.to_numeric(SIN_PA['FGE MDRD'], errors='coerce')\n",
    "\n",
    "promedio_fgmd = SIN_PA['FGE MDRD'].mean()\n",
    "desviacion_estandar_fgmd = SIN_PA['FGE MDRD'].std()\n",
    "\n",
    "resultado = f\"{promedio_fgmd:.2f} ± {desviacion_estandar_fgmd:.2f}\"\n",
    "print(\"Promedio ± Desviación Estándar de la filtracion glomerular MDRD:\", resultado)"
   ],
   "id": "763541413be056c5",
   "outputs": [
    {
     "name": "stdout",
     "output_type": "stream",
     "text": [
      "Promedio ± Desviación Estándar de la filtracion glomerular MDRD: 37.67 ± 17.43\n"
     ]
    }
   ],
   "execution_count": 1488
  },
  {
   "metadata": {},
   "cell_type": "markdown",
   "source": "#### Pvalor",
   "id": "65917b1a82a35e66"
  },
  {
   "metadata": {
    "ExecuteTime": {
     "end_time": "2024-04-15T09:30:56.380989Z",
     "start_time": "2024-04-15T09:30:56.373661Z"
    }
   },
   "cell_type": "code",
   "source": [
    "t_stat_12, p_val_12 = ttest_ind(CON_PA['FGE MDRD'], CON_PA_MECVV['FGE MDRD'], equal_var=False)\n",
    "print(\"P-valor entre CON_PA y CON_PA_MECVV:\", p_val_12)"
   ],
   "id": "3350d5aa6006a470",
   "outputs": [
    {
     "name": "stdout",
     "output_type": "stream",
     "text": [
      "P-valor entre CON_PA y CON_PA_MECVV: nan\n"
     ]
    }
   ],
   "execution_count": 1489
  },
  {
   "metadata": {
    "ExecuteTime": {
     "end_time": "2024-04-15T09:30:56.745852Z",
     "start_time": "2024-04-15T09:30:56.740673Z"
    }
   },
   "cell_type": "code",
   "source": [
    "t_stat_13, p_val_13 = ttest_ind(CON_PA['FGE MDRD'], SIN_PA['FGE MDRD'], equal_var=False)\n",
    "print(\"P-valor entre CON_PA y CON_PA_MECVV:\", p_val_13)"
   ],
   "id": "b31a6f77e88fd26f",
   "outputs": [
    {
     "name": "stdout",
     "output_type": "stream",
     "text": [
      "P-valor entre CON_PA y CON_PA_MECVV: nan\n"
     ]
    }
   ],
   "execution_count": 1490
  },
  {
   "metadata": {
    "ExecuteTime": {
     "end_time": "2024-04-15T09:30:57.327275Z",
     "start_time": "2024-04-15T09:30:57.319753Z"
    }
   },
   "cell_type": "code",
   "source": [
    "t_stat_23, p_val_23 = ttest_ind(CON_PA_MECVV['FGE MDRD'], SIN_PA['FGE MDRD'], equal_var=False)\n",
    "print(\"P-valor entre CON_PA_MECVV y CON_PA_MECVV:\", p_val_23)"
   ],
   "id": "36d4f6dfccd6cd98",
   "outputs": [
    {
     "name": "stdout",
     "output_type": "stream",
     "text": [
      "P-valor entre CON_PA_MECVV y CON_PA_MECVV: nan\n"
     ]
    }
   ],
   "execution_count": 1491
  },
  {
   "metadata": {
    "ExecuteTime": {
     "end_time": "2024-04-15T09:30:57.695124Z",
     "start_time": "2024-04-15T09:30:57.689593Z"
    }
   },
   "cell_type": "code",
   "source": "",
   "id": "f4505074580918b9",
   "outputs": [],
   "execution_count": 1491
  }
 ],
 "metadata": {
  "kernelspec": {
   "display_name": "Python 3",
   "language": "python",
   "name": "python3"
  },
  "language_info": {
   "codemirror_mode": {
    "name": "ipython",
    "version": 2
   },
   "file_extension": ".py",
   "mimetype": "text/x-python",
   "name": "python",
   "nbconvert_exporter": "python",
   "pygments_lexer": "ipython2",
   "version": "2.7.6"
  }
 },
 "nbformat": 4,
 "nbformat_minor": 5
}
