{
 "cells": [
  {
   "cell_type": "markdown",
   "source": [
    "## Paquets i dades originals ## "
   ],
   "metadata": {
    "collapsed": false
   },
   "id": "56adfe3014ecabc7"
  },
  {
   "cell_type": "markdown",
   "source": [],
   "metadata": {
    "collapsed": false
   },
   "id": "18dcb19e4c180d9e"
  },
  {
   "cell_type": "code",
   "outputs": [],
   "source": [
    "import json \n",
    "# TODO: solo poner las librerias que realmente se usan\n",
    "import pandas as pd\n",
    "from datetime import datetime\n",
    "from listas import disfagia_list, PA_list, P_list, Main_respiratory_infections_list, LRTI_list, COPD_exacerbations_list, Pulmonary_fibrosis_fibrotorax_list\n",
    "from auxiliary_functions import valores_codigos, contar_diccionarios, dias_ingreso_total, asignar_intervalo_edad, sumar_barthel, sumar_emina, obtener_ultimo_resultat, obtener_valor_promedio, canadenca_comparada, disfagia_mecvvs, extraer_valor_clave, extraer_valor_clave_simple \n",
    "# TODO hi han dos funcions que no es diuen de la manera que les crides, revisa-ho\n",
    "\n",
    "\n",
    "taula = pd.read_pickle('./data/processed/dataframe.pkl') # TODO: Mover la asignación de la variable taula al principio del archivo, despues de las importaciones de las librerias\n",
    "import scipy.stats as stats\n",
    "from scipy.stats import ttest_ind\n",
    "from scipy.stats import shapiro\n",
    "from scipy.stats import mannwhitneyu\n",
    "from scipy.stats import chi2_contingency"
   ],
   "metadata": {
    "collapsed": false,
    "ExecuteTime": {
     "end_time": "2024-04-29T07:02:44.685675Z",
     "start_time": "2024-04-29T07:02:44.662136Z"
    }
   },
   "id": "fc4fea3f7235c196",
   "execution_count": 572
  },
  {
   "cell_type": "markdown",
   "source": [
    "Prèviament, he tractat les dades creant noves columnes que classifiquen millor tota la informació disponible"
   ],
   "metadata": {
    "collapsed": false
   },
   "id": "5e397a948db661a4"
  },
  {
   "cell_type": "code",
   "source": [
    "# TODO: la asignación va aquí\n",
    "taula.head()"
   ],
   "metadata": {
    "collapsed": false,
    "ExecuteTime": {
     "end_time": "2024-04-29T07:03:04.981751Z",
     "start_time": "2024-04-29T07:03:04.838751Z"
    }
   },
   "id": "aa2554a079d8240",
   "outputs": [
    {
     "data": {
      "text/plain": "   edat sexe  visitaDietista  \\\n0    89    F               0   \n1    70    M               0   \n2    96    M               0   \n3    85    M               0   \n4    93    M               0   \n\n                                                labs  \\\n0                                                 []   \n1  [{'date': '20220524', 'name': 'PCR SARS-CoV2 S...   \n2                                                 []   \n3                                                 []   \n4  [{'date': '20220208', 'name': 'UREA Sèrum', 'l...   \n\n                                                 mna  \\\n0                                                 []   \n1                                                 []   \n2                                                 []   \n3                                                 []   \n4  [{'imc': '0', 'anorexia': '1', 'perduaPes': '1...   \n\n                                               emina canadenca  \\\n0  [{'activitat': '2', 'estatMental': '1', 'humit...        []   \n1  [{'activitat': '0', 'estatMental': '0', 'humit...        []   \n2  [{'activitat': '3', 'estatMental': '0', 'humit...        []   \n3  [{'activitat': '2', 'estatMental': '1', 'humit...        []   \n4  [{'activitat': '2', 'estatMental': '1', 'humit...        []   \n\n                                                 pes  \\\n0                                                 []   \n1  [{'valor': '64.7', 'data': '2022-10-04'}, {'va...   \n2                                                 []   \n3                                                 []   \n4  [{'valor': '49.900', 'data': '2022-06-02'}, {'...   \n\n                                                atcs  \\\n0  [{'codi': 'M01AE', 'dataInici': '2020-06-21 00...   \n1  [{'codi': 'C09AA', 'dataInici': '2021-05-26 00...   \n2  [{'codi': 'G04CA', 'dataInici': '2020-07-09 00...   \n3  [{'codi': 'G04CA', 'dataInici': '2020-07-15 00...   \n4  [{'codi': 'N02AA', 'dataInici': '2022-02-01 00...   \n\n                                              mecvvs  ...  \\\n0                                                 []  ...   \n1  [{'data': '20220930', 'pacientNoColabora': '',...  ...   \n2                                                 []  ...   \n3  [{'data': '20201204131810', 'disfagia': 'S', '...  ...   \n4  [{'data': '20220330172303', 'disfagiaConeguda'...  ...   \n\n                                                urea  \\\n0                                               None   \n1                                               25.7   \n2                                               None   \n3                                               None   \n4  Proves afegides a un altre petició per extracc...   \n\n                                            FGE MDRD  \\\n0                                               None   \n1                                                >60   \n2                                               None   \n3                                               None   \n4  Proves afegides a un altre petició per extracc...   \n\n                                         FGE CDK-EPI  pes més antic  \\\n0                                               None           None   \n1                                                >90             70   \n2                                               None           None   \n3                                               None           None   \n4  Proves afegides a un altre petició per extracc...         49.900   \n\n   pes més nou  data pes més antic  data primer mecvv  \\\n0         None                None               None   \n1         53.7          2022-07-06               None   \n2         None                None               None   \n3         None                None         2020-12-04   \n4       49.900          2022-06-02               None   \n\n   pes coincident primer mecvv  perdua pes entre ingressos  perdua pes total  \n0                         None                        None              None  \n1                         None                        None              16.3  \n2                         None                        None              None  \n3                         None                        None              None  \n4                         None                        None               0.0  \n\n[5 rows x 78 columns]",
      "text/html": "<div>\n<style scoped>\n    .dataframe tbody tr th:only-of-type {\n        vertical-align: middle;\n    }\n\n    .dataframe tbody tr th {\n        vertical-align: top;\n    }\n\n    .dataframe thead th {\n        text-align: right;\n    }\n</style>\n<table border=\"1\" class=\"dataframe\">\n  <thead>\n    <tr style=\"text-align: right;\">\n      <th></th>\n      <th>edat</th>\n      <th>sexe</th>\n      <th>visitaDietista</th>\n      <th>labs</th>\n      <th>mna</th>\n      <th>emina</th>\n      <th>canadenca</th>\n      <th>pes</th>\n      <th>atcs</th>\n      <th>mecvvs</th>\n      <th>...</th>\n      <th>urea</th>\n      <th>FGE MDRD</th>\n      <th>FGE CDK-EPI</th>\n      <th>pes més antic</th>\n      <th>pes més nou</th>\n      <th>data pes més antic</th>\n      <th>data primer mecvv</th>\n      <th>pes coincident primer mecvv</th>\n      <th>perdua pes entre ingressos</th>\n      <th>perdua pes total</th>\n    </tr>\n  </thead>\n  <tbody>\n    <tr>\n      <th>0</th>\n      <td>89</td>\n      <td>F</td>\n      <td>0</td>\n      <td>[]</td>\n      <td>[]</td>\n      <td>[{'activitat': '2', 'estatMental': '1', 'humit...</td>\n      <td>[]</td>\n      <td>[]</td>\n      <td>[{'codi': 'M01AE', 'dataInici': '2020-06-21 00...</td>\n      <td>[]</td>\n      <td>...</td>\n      <td>None</td>\n      <td>None</td>\n      <td>None</td>\n      <td>None</td>\n      <td>None</td>\n      <td>None</td>\n      <td>None</td>\n      <td>None</td>\n      <td>None</td>\n      <td>None</td>\n    </tr>\n    <tr>\n      <th>1</th>\n      <td>70</td>\n      <td>M</td>\n      <td>0</td>\n      <td>[{'date': '20220524', 'name': 'PCR SARS-CoV2 S...</td>\n      <td>[]</td>\n      <td>[{'activitat': '0', 'estatMental': '0', 'humit...</td>\n      <td>[]</td>\n      <td>[{'valor': '64.7', 'data': '2022-10-04'}, {'va...</td>\n      <td>[{'codi': 'C09AA', 'dataInici': '2021-05-26 00...</td>\n      <td>[{'data': '20220930', 'pacientNoColabora': '',...</td>\n      <td>...</td>\n      <td>25.7</td>\n      <td>&gt;60</td>\n      <td>&gt;90</td>\n      <td>70</td>\n      <td>53.7</td>\n      <td>2022-07-06</td>\n      <td>None</td>\n      <td>None</td>\n      <td>None</td>\n      <td>16.3</td>\n    </tr>\n    <tr>\n      <th>2</th>\n      <td>96</td>\n      <td>M</td>\n      <td>0</td>\n      <td>[]</td>\n      <td>[]</td>\n      <td>[{'activitat': '3', 'estatMental': '0', 'humit...</td>\n      <td>[]</td>\n      <td>[]</td>\n      <td>[{'codi': 'G04CA', 'dataInici': '2020-07-09 00...</td>\n      <td>[]</td>\n      <td>...</td>\n      <td>None</td>\n      <td>None</td>\n      <td>None</td>\n      <td>None</td>\n      <td>None</td>\n      <td>None</td>\n      <td>None</td>\n      <td>None</td>\n      <td>None</td>\n      <td>None</td>\n    </tr>\n    <tr>\n      <th>3</th>\n      <td>85</td>\n      <td>M</td>\n      <td>0</td>\n      <td>[]</td>\n      <td>[]</td>\n      <td>[{'activitat': '2', 'estatMental': '1', 'humit...</td>\n      <td>[]</td>\n      <td>[]</td>\n      <td>[{'codi': 'G04CA', 'dataInici': '2020-07-15 00...</td>\n      <td>[{'data': '20201204131810', 'disfagia': 'S', '...</td>\n      <td>...</td>\n      <td>None</td>\n      <td>None</td>\n      <td>None</td>\n      <td>None</td>\n      <td>None</td>\n      <td>None</td>\n      <td>2020-12-04</td>\n      <td>None</td>\n      <td>None</td>\n      <td>None</td>\n    </tr>\n    <tr>\n      <th>4</th>\n      <td>93</td>\n      <td>M</td>\n      <td>0</td>\n      <td>[{'date': '20220208', 'name': 'UREA Sèrum', 'l...</td>\n      <td>[{'imc': '0', 'anorexia': '1', 'perduaPes': '1...</td>\n      <td>[{'activitat': '2', 'estatMental': '1', 'humit...</td>\n      <td>[]</td>\n      <td>[{'valor': '49.900', 'data': '2022-06-02'}, {'...</td>\n      <td>[{'codi': 'N02AA', 'dataInici': '2022-02-01 00...</td>\n      <td>[{'data': '20220330172303', 'disfagiaConeguda'...</td>\n      <td>...</td>\n      <td>Proves afegides a un altre petició per extracc...</td>\n      <td>Proves afegides a un altre petició per extracc...</td>\n      <td>Proves afegides a un altre petició per extracc...</td>\n      <td>49.900</td>\n      <td>49.900</td>\n      <td>2022-06-02</td>\n      <td>None</td>\n      <td>None</td>\n      <td>None</td>\n      <td>0.0</td>\n    </tr>\n  </tbody>\n</table>\n<p>5 rows × 78 columns</p>\n</div>"
     },
     "execution_count": 573,
     "metadata": {},
     "output_type": "execute_result"
    }
   ],
   "execution_count": 573
  },
  {
   "cell_type": "markdown",
   "source": [
    "Distribuiré les dades en 3 grups:\n",
    "- **Total**: aquest grup conté totes les dades de la taula original.\n",
    "- **AMB_PA**: aquest grup està compost per pacients que contenen el codi ICD de pneumònia aspirativa al seu historial. # TODO: Falta la descriptiva del grup en total, es a dir, tots els grups junts\n",
    "\n",
    "- **AMB_PA_MECVV**: aquest grup conté els pacients que compleixen les següents característiques: \n",
    "    - Han donat positiu al MECVV (és a dir, que tenen disfàgia i una alteració en la seguretat o en l'eficàcia)\n",
    "    - Contenen el codi ICD de pneumònia\n",
    "    - Han estat ingressats menys de 30 dies en total. # TODO: que vols dir amb aixó?\n",
    "- **SENSE_PA**: aquest grup està format per pacients que contenen el codi ICD de pneumònia o bé: # TODO: Reformular els que no compleixen amb PA\n",
    "\n",
    "    - Contenen el codi ICD de pneumònia\n",
    "    - Han donat positiu al MECVV \n",
    "    - Han estat ingressats més de 30 dies en total."
   ],
   "metadata": {
    "collapsed": false
   },
   "id": "e7c4d56da22c6caf"
  },
  {
   "cell_type": "code",
   "outputs": [],
   "source": [],
   "metadata": {
    "collapsed": false,
    "ExecuteTime": {
     "end_time": "2024-04-29T07:03:05.318813Z",
     "start_time": "2024-04-29T07:03:05.315509Z"
    }
   },
   "id": "bb9e7677adb4c53c",
   "execution_count": 573
  },
  {
   "cell_type": "markdown",
   "source": [
    "# AMB_PA "
   ],
   "metadata": {
    "collapsed": false
   },
   "id": "6fe0c4b4db3bd775"
  },
  {
   "cell_type": "code",
   "source": [
    "AMB_PA = taula[taula[\"PA_diagnosticada\"] == 1.0]\n",
    "AMB_PA.head()\n",
    "# TODO: no es mostra mai tot el dataset, mostra nomes 5 files tal i com esta predefinit en la llibreria"
   ],
   "metadata": {
    "collapsed": false,
    "ExecuteTime": {
     "end_time": "2024-04-29T07:03:05.784426Z",
     "start_time": "2024-04-29T07:03:05.668940Z"
    }
   },
   "id": "bf8054f82ba8cf2d",
   "outputs": [
    {
     "data": {
      "text/plain": "    edat sexe  visitaDietista  \\\n0     89    F               0   \n1     70    M               0   \n3     85    M               0   \n6    101    F               0   \n12    86    M               0   \n\n                                                 labs mna  \\\n0                                                  []  []   \n1   [{'date': '20220524', 'name': 'PCR SARS-CoV2 S...  []   \n3                                                  []  []   \n6                                                  []  []   \n12                                                 []  []   \n\n                                                emina canadenca  \\\n0   [{'activitat': '2', 'estatMental': '1', 'humit...        []   \n1   [{'activitat': '0', 'estatMental': '0', 'humit...        []   \n3   [{'activitat': '2', 'estatMental': '1', 'humit...        []   \n6   [{'activitat': '3', 'estatMental': '1', 'humit...        []   \n12  [{'activitat': '1', 'estatMental': '1', 'humit...        []   \n\n                                                  pes  \\\n0                                                  []   \n1   [{'valor': '64.7', 'data': '2022-10-04'}, {'va...   \n3                                                  []   \n6                                                  []   \n12          [{'valor': '46.4', 'data': '2020-09-09'}]   \n\n                                                 atcs  \\\n0   [{'codi': 'M01AE', 'dataInici': '2020-06-21 00...   \n1   [{'codi': 'C09AA', 'dataInici': '2021-05-26 00...   \n3   [{'codi': 'G04CA', 'dataInici': '2020-07-15 00...   \n6   [{'codi': 'C09AA', 'dataInici': '2021-08-21 00...   \n12  [{'codi': 'G04CA', 'dataInici': '2020-09-04 00...   \n\n                                               mecvvs  ...  urea FGE MDRD  \\\n0                                                  []  ...  None     None   \n1   [{'data': '20220930', 'pacientNoColabora': '',...  ...  25.7      >60   \n3   [{'data': '20201204131810', 'disfagia': 'S', '...  ...  None     None   \n6   [{'data': '20210819124116', 'disfagia': 'S', '...  ...  None     None   \n12  [{'data': '20200907110400', 'disfagia': 'S', '...  ...  None     None   \n\n    FGE CDK-EPI  pes més antic  pes més nou  data pes més antic  \\\n0          None           None         None                None   \n1           >90             70         53.7          2022-07-06   \n3          None           None         None                None   \n6          None           None         None                None   \n12         None           46.4         46.4          2020-09-09   \n\n    data primer mecvv  pes coincident primer mecvv  \\\n0                None                         None   \n1                None                         None   \n3          2020-12-04                         None   \n6          2021-08-19                         None   \n12         2020-09-07                         46.4   \n\n    perdua pes entre ingressos  perdua pes total  \n0                         None              None  \n1                         None              16.3  \n3                         None              None  \n6                         None              None  \n12                         0.0               0.0  \n\n[5 rows x 78 columns]",
      "text/html": "<div>\n<style scoped>\n    .dataframe tbody tr th:only-of-type {\n        vertical-align: middle;\n    }\n\n    .dataframe tbody tr th {\n        vertical-align: top;\n    }\n\n    .dataframe thead th {\n        text-align: right;\n    }\n</style>\n<table border=\"1\" class=\"dataframe\">\n  <thead>\n    <tr style=\"text-align: right;\">\n      <th></th>\n      <th>edat</th>\n      <th>sexe</th>\n      <th>visitaDietista</th>\n      <th>labs</th>\n      <th>mna</th>\n      <th>emina</th>\n      <th>canadenca</th>\n      <th>pes</th>\n      <th>atcs</th>\n      <th>mecvvs</th>\n      <th>...</th>\n      <th>urea</th>\n      <th>FGE MDRD</th>\n      <th>FGE CDK-EPI</th>\n      <th>pes més antic</th>\n      <th>pes més nou</th>\n      <th>data pes més antic</th>\n      <th>data primer mecvv</th>\n      <th>pes coincident primer mecvv</th>\n      <th>perdua pes entre ingressos</th>\n      <th>perdua pes total</th>\n    </tr>\n  </thead>\n  <tbody>\n    <tr>\n      <th>0</th>\n      <td>89</td>\n      <td>F</td>\n      <td>0</td>\n      <td>[]</td>\n      <td>[]</td>\n      <td>[{'activitat': '2', 'estatMental': '1', 'humit...</td>\n      <td>[]</td>\n      <td>[]</td>\n      <td>[{'codi': 'M01AE', 'dataInici': '2020-06-21 00...</td>\n      <td>[]</td>\n      <td>...</td>\n      <td>None</td>\n      <td>None</td>\n      <td>None</td>\n      <td>None</td>\n      <td>None</td>\n      <td>None</td>\n      <td>None</td>\n      <td>None</td>\n      <td>None</td>\n      <td>None</td>\n    </tr>\n    <tr>\n      <th>1</th>\n      <td>70</td>\n      <td>M</td>\n      <td>0</td>\n      <td>[{'date': '20220524', 'name': 'PCR SARS-CoV2 S...</td>\n      <td>[]</td>\n      <td>[{'activitat': '0', 'estatMental': '0', 'humit...</td>\n      <td>[]</td>\n      <td>[{'valor': '64.7', 'data': '2022-10-04'}, {'va...</td>\n      <td>[{'codi': 'C09AA', 'dataInici': '2021-05-26 00...</td>\n      <td>[{'data': '20220930', 'pacientNoColabora': '',...</td>\n      <td>...</td>\n      <td>25.7</td>\n      <td>&gt;60</td>\n      <td>&gt;90</td>\n      <td>70</td>\n      <td>53.7</td>\n      <td>2022-07-06</td>\n      <td>None</td>\n      <td>None</td>\n      <td>None</td>\n      <td>16.3</td>\n    </tr>\n    <tr>\n      <th>3</th>\n      <td>85</td>\n      <td>M</td>\n      <td>0</td>\n      <td>[]</td>\n      <td>[]</td>\n      <td>[{'activitat': '2', 'estatMental': '1', 'humit...</td>\n      <td>[]</td>\n      <td>[]</td>\n      <td>[{'codi': 'G04CA', 'dataInici': '2020-07-15 00...</td>\n      <td>[{'data': '20201204131810', 'disfagia': 'S', '...</td>\n      <td>...</td>\n      <td>None</td>\n      <td>None</td>\n      <td>None</td>\n      <td>None</td>\n      <td>None</td>\n      <td>None</td>\n      <td>2020-12-04</td>\n      <td>None</td>\n      <td>None</td>\n      <td>None</td>\n    </tr>\n    <tr>\n      <th>6</th>\n      <td>101</td>\n      <td>F</td>\n      <td>0</td>\n      <td>[]</td>\n      <td>[]</td>\n      <td>[{'activitat': '3', 'estatMental': '1', 'humit...</td>\n      <td>[]</td>\n      <td>[]</td>\n      <td>[{'codi': 'C09AA', 'dataInici': '2021-08-21 00...</td>\n      <td>[{'data': '20210819124116', 'disfagia': 'S', '...</td>\n      <td>...</td>\n      <td>None</td>\n      <td>None</td>\n      <td>None</td>\n      <td>None</td>\n      <td>None</td>\n      <td>None</td>\n      <td>2021-08-19</td>\n      <td>None</td>\n      <td>None</td>\n      <td>None</td>\n    </tr>\n    <tr>\n      <th>12</th>\n      <td>86</td>\n      <td>M</td>\n      <td>0</td>\n      <td>[]</td>\n      <td>[]</td>\n      <td>[{'activitat': '1', 'estatMental': '1', 'humit...</td>\n      <td>[]</td>\n      <td>[{'valor': '46.4', 'data': '2020-09-09'}]</td>\n      <td>[{'codi': 'G04CA', 'dataInici': '2020-09-04 00...</td>\n      <td>[{'data': '20200907110400', 'disfagia': 'S', '...</td>\n      <td>...</td>\n      <td>None</td>\n      <td>None</td>\n      <td>None</td>\n      <td>46.4</td>\n      <td>46.4</td>\n      <td>2020-09-09</td>\n      <td>2020-09-07</td>\n      <td>46.4</td>\n      <td>0.0</td>\n      <td>0.0</td>\n    </tr>\n  </tbody>\n</table>\n<p>5 rows × 78 columns</p>\n</div>"
     },
     "execution_count": 574,
     "metadata": {},
     "output_type": "execute_result"
    }
   ],
   "execution_count": 574
  },
  {
   "cell_type": "markdown",
   "source": [
    "# AMB_PA_MECVV"
   ],
   "metadata": {
    "collapsed": false
   },
   "id": "bbfe0def10a4bd5"
  },
  {
   "cell_type": "code",
   "source": [
    "AMB_PA_MECVV = taula[\n",
    "    (taula[\"P_diagnosticada\"] == 1.0) & (taula[\"Dias_totales_ingresado\"] < 30) & (taula[\"Disfagia_mecvvs\"] == 1.0) & (taula[\"alteracioEficacia_mecvvs\"] == 1.0) |\n",
    "    (taula[\"P_diagnosticada\"] == 1.0) & (taula[\"Dias_totales_ingresado\"] < 30) & (taula[\"Disfagia_mecvvs\"] == 1.0) & (taula[\"alteracioSeguretat_mecvvs\"] == 1.0)]   \n",
    "AMB_PA_MECVV.head(len(taula))\n",
    "# TODO: no es mostra mai tot el dataset, mostra nomes 5 files tal i com esta predefinit en la llibreria\n"
   ],
   "metadata": {
    "collapsed": false,
    "ExecuteTime": {
     "end_time": "2024-04-29T07:03:06.574185Z",
     "start_time": "2024-04-29T07:03:06.353824Z"
    }
   },
   "id": "ef57e551b552b859",
   "outputs": [
    {
     "data": {
      "text/plain": "    edat sexe  visitaDietista  \\\n3     85    M               0   \n6    101    F               0   \n12    86    M               0   \n13    71    F               0   \n27   100    M               0   \n37    86    M               0   \n39    87    F               0   \n41    93    F               0   \n46    86    M               0   \n47    94    M               0   \n\n                                                 labs  \\\n3                                                  []   \n6                                                  []   \n12                                                 []   \n13  [{'date': '20220216', 'name': 'CULTIU Esput', ...   \n27                                                 []   \n37  [{'date': '20221003', 'name': 'GLUCOSA Sèrum',...   \n39  [{'date': '20230619', 'name': 'GLUCOSA Sèrum',...   \n41  [{'date': '20221013', 'name': 'GLUCOSA Sèrum',...   \n46                                                 []   \n47                                                 []   \n\n                                                  mna  \\\n3                                                  []   \n6                                                  []   \n12                                                 []   \n13                                                 []   \n27                                                 []   \n37  [{'imc': '', 'anorexia': '', 'perduaPes': '', ...   \n39                                                 []   \n41                                                 []   \n46                                                 []   \n47                                                 []   \n\n                                                emina  \\\n3   [{'activitat': '2', 'estatMental': '1', 'humit...   \n6   [{'activitat': '3', 'estatMental': '1', 'humit...   \n12  [{'activitat': '1', 'estatMental': '1', 'humit...   \n13  [{'activitat': '3', 'estatMental': '0', 'humit...   \n27  [{'activitat': '3', 'estatMental': '0', 'humit...   \n37  [{'activitat': '2', 'estatMental': '1', 'humit...   \n39  [{'activitat': '1', 'estatMental': '0', 'humit...   \n41  [{'activitat': '1', 'estatMental': '1', 'humit...   \n46  [{'activitat': '3', 'estatMental': '1', 'humit...   \n47  [{'activitat': '3', 'estatMental': '1', 'humit...   \n\n                                            canadenca  \\\n3                                                  []   \n6                                                  []   \n12                                                 []   \n13  [{'dataValoracio': '2020-09-06', 'horaValoraci...   \n27                                                 []   \n37                                                 []   \n39                                                 []   \n41                                                 []   \n46                                                 []   \n47                                                 []   \n\n                                                  pes  \\\n3                                                  []   \n6                                                  []   \n12          [{'valor': '46.4', 'data': '2020-09-09'}]   \n13                                                 []   \n27  [{'valor': '0', 'data': '2021-09-14'}, {'valor...   \n37            [{'valor': '72', 'data': '2022-10-09'}]   \n39                                                 []   \n41  [{'valor': '0', 'data': '2023-06-02'}, {'valor...   \n46          [{'valor': '55.1', 'data': '2021-03-21'}]   \n47                                                 []   \n\n                                                 atcs  \\\n3   [{'codi': 'G04CA', 'dataInici': '2020-07-15 00...   \n6   [{'codi': 'C09AA', 'dataInici': '2021-08-21 00...   \n12  [{'codi': 'G04CA', 'dataInici': '2020-09-04 00...   \n13  [{'codi': 'C10AA', 'dataInici': '2020-09-06 00...   \n27  [{'codi': 'C08CA', 'dataInici': '2020-11-23 00...   \n37  [{'codi': 'G04CA', 'dataInici': '2022-09-26 00...   \n39  [{'codi': 'N02BE', 'dataInici': '2021-01-17 00...   \n41  [{'codi': 'C10AA', 'dataInici': '2021-02-05 00...   \n46  [{'codi': 'G04CA', 'dataInici': '2021-03-20 00...   \n47  [{'codi': 'C09AA', 'dataInici': '2021-03-23 00...   \n\n                                               mecvvs  ...   urea FGE MDRD  \\\n3   [{'data': '20201204131810', 'disfagia': 'S', '...  ...   None     None   \n6   [{'data': '20210819124116', 'disfagia': 'S', '...  ...   None     None   \n12  [{'data': '20200907110400', 'disfagia': 'S', '...  ...   None     None   \n13  [{'data': '20200906175506', 'disfagia': 'N', '...  ...   66.0      >60   \n27  [{'data': '20201125131827', 'disfagia': 'S', '...  ...   None     None   \n37  [{'data': '20221012122425', 'disfagia': 'S', '...  ...  114.2     None   \n39  [{'data': '20220111085147', 'disfagia': 'S', '...  ...   30.7     None   \n41  [{'data': '20230530155654', 'disfagia': 'S', '...  ...   38.6      >60   \n46  [{'data': '20210721140136', 'disfagia': 'S', '...  ...   None     None   \n47  [{'data': '20210325091551', 'disfagia': 'S', '...  ...   None     None   \n\n    FGE CDK-EPI  pes més antic  pes més nou  data pes més antic  \\\n3          None           None         None                None   \n6          None           None         None                None   \n12         None           46.4         46.4          2020-09-09   \n13           70           None         None                None   \n27         None         41.100            0          2021-01-20   \n37           46             72           72          2022-10-09   \n39          >90           None         None                None   \n41           48              0           60          2023-06-02   \n46         None           55.1         55.1          2021-03-21   \n47         None           None         None                None   \n\n    data primer mecvv  pes coincident primer mecvv  \\\n3          2020-12-04                         None   \n6          2021-08-19                         None   \n12         2020-09-07                         46.4   \n13         2020-09-07                         None   \n27         2020-11-25                         None   \n37         2022-10-12                           72   \n39         2022-01-11                         None   \n41         2023-05-30                            0   \n46         2021-07-21                         None   \n47         2021-03-25                         None   \n\n    perdua pes entre ingressos  perdua pes total  \n3                         None              None  \n6                         None              None  \n12                         0.0               0.0  \n13                        None              None  \n27                        None              41.1  \n37                         0.0               0.0  \n39                        None              None  \n41                         0.0             -60.0  \n46                        None               0.0  \n47                        None              None  \n\n[10 rows x 78 columns]",
      "text/html": "<div>\n<style scoped>\n    .dataframe tbody tr th:only-of-type {\n        vertical-align: middle;\n    }\n\n    .dataframe tbody tr th {\n        vertical-align: top;\n    }\n\n    .dataframe thead th {\n        text-align: right;\n    }\n</style>\n<table border=\"1\" class=\"dataframe\">\n  <thead>\n    <tr style=\"text-align: right;\">\n      <th></th>\n      <th>edat</th>\n      <th>sexe</th>\n      <th>visitaDietista</th>\n      <th>labs</th>\n      <th>mna</th>\n      <th>emina</th>\n      <th>canadenca</th>\n      <th>pes</th>\n      <th>atcs</th>\n      <th>mecvvs</th>\n      <th>...</th>\n      <th>urea</th>\n      <th>FGE MDRD</th>\n      <th>FGE CDK-EPI</th>\n      <th>pes més antic</th>\n      <th>pes més nou</th>\n      <th>data pes més antic</th>\n      <th>data primer mecvv</th>\n      <th>pes coincident primer mecvv</th>\n      <th>perdua pes entre ingressos</th>\n      <th>perdua pes total</th>\n    </tr>\n  </thead>\n  <tbody>\n    <tr>\n      <th>3</th>\n      <td>85</td>\n      <td>M</td>\n      <td>0</td>\n      <td>[]</td>\n      <td>[]</td>\n      <td>[{'activitat': '2', 'estatMental': '1', 'humit...</td>\n      <td>[]</td>\n      <td>[]</td>\n      <td>[{'codi': 'G04CA', 'dataInici': '2020-07-15 00...</td>\n      <td>[{'data': '20201204131810', 'disfagia': 'S', '...</td>\n      <td>...</td>\n      <td>None</td>\n      <td>None</td>\n      <td>None</td>\n      <td>None</td>\n      <td>None</td>\n      <td>None</td>\n      <td>2020-12-04</td>\n      <td>None</td>\n      <td>None</td>\n      <td>None</td>\n    </tr>\n    <tr>\n      <th>6</th>\n      <td>101</td>\n      <td>F</td>\n      <td>0</td>\n      <td>[]</td>\n      <td>[]</td>\n      <td>[{'activitat': '3', 'estatMental': '1', 'humit...</td>\n      <td>[]</td>\n      <td>[]</td>\n      <td>[{'codi': 'C09AA', 'dataInici': '2021-08-21 00...</td>\n      <td>[{'data': '20210819124116', 'disfagia': 'S', '...</td>\n      <td>...</td>\n      <td>None</td>\n      <td>None</td>\n      <td>None</td>\n      <td>None</td>\n      <td>None</td>\n      <td>None</td>\n      <td>2021-08-19</td>\n      <td>None</td>\n      <td>None</td>\n      <td>None</td>\n    </tr>\n    <tr>\n      <th>12</th>\n      <td>86</td>\n      <td>M</td>\n      <td>0</td>\n      <td>[]</td>\n      <td>[]</td>\n      <td>[{'activitat': '1', 'estatMental': '1', 'humit...</td>\n      <td>[]</td>\n      <td>[{'valor': '46.4', 'data': '2020-09-09'}]</td>\n      <td>[{'codi': 'G04CA', 'dataInici': '2020-09-04 00...</td>\n      <td>[{'data': '20200907110400', 'disfagia': 'S', '...</td>\n      <td>...</td>\n      <td>None</td>\n      <td>None</td>\n      <td>None</td>\n      <td>46.4</td>\n      <td>46.4</td>\n      <td>2020-09-09</td>\n      <td>2020-09-07</td>\n      <td>46.4</td>\n      <td>0.0</td>\n      <td>0.0</td>\n    </tr>\n    <tr>\n      <th>13</th>\n      <td>71</td>\n      <td>F</td>\n      <td>0</td>\n      <td>[{'date': '20220216', 'name': 'CULTIU Esput', ...</td>\n      <td>[]</td>\n      <td>[{'activitat': '3', 'estatMental': '0', 'humit...</td>\n      <td>[{'dataValoracio': '2020-09-06', 'horaValoraci...</td>\n      <td>[]</td>\n      <td>[{'codi': 'C10AA', 'dataInici': '2020-09-06 00...</td>\n      <td>[{'data': '20200906175506', 'disfagia': 'N', '...</td>\n      <td>...</td>\n      <td>66.0</td>\n      <td>&gt;60</td>\n      <td>70</td>\n      <td>None</td>\n      <td>None</td>\n      <td>None</td>\n      <td>2020-09-07</td>\n      <td>None</td>\n      <td>None</td>\n      <td>None</td>\n    </tr>\n    <tr>\n      <th>27</th>\n      <td>100</td>\n      <td>M</td>\n      <td>0</td>\n      <td>[]</td>\n      <td>[]</td>\n      <td>[{'activitat': '3', 'estatMental': '0', 'humit...</td>\n      <td>[]</td>\n      <td>[{'valor': '0', 'data': '2021-09-14'}, {'valor...</td>\n      <td>[{'codi': 'C08CA', 'dataInici': '2020-11-23 00...</td>\n      <td>[{'data': '20201125131827', 'disfagia': 'S', '...</td>\n      <td>...</td>\n      <td>None</td>\n      <td>None</td>\n      <td>None</td>\n      <td>41.100</td>\n      <td>0</td>\n      <td>2021-01-20</td>\n      <td>2020-11-25</td>\n      <td>None</td>\n      <td>None</td>\n      <td>41.1</td>\n    </tr>\n    <tr>\n      <th>37</th>\n      <td>86</td>\n      <td>M</td>\n      <td>0</td>\n      <td>[{'date': '20221003', 'name': 'GLUCOSA Sèrum',...</td>\n      <td>[{'imc': '', 'anorexia': '', 'perduaPes': '', ...</td>\n      <td>[{'activitat': '2', 'estatMental': '1', 'humit...</td>\n      <td>[]</td>\n      <td>[{'valor': '72', 'data': '2022-10-09'}]</td>\n      <td>[{'codi': 'G04CA', 'dataInici': '2022-09-26 00...</td>\n      <td>[{'data': '20221012122425', 'disfagia': 'S', '...</td>\n      <td>...</td>\n      <td>114.2</td>\n      <td>None</td>\n      <td>46</td>\n      <td>72</td>\n      <td>72</td>\n      <td>2022-10-09</td>\n      <td>2022-10-12</td>\n      <td>72</td>\n      <td>0.0</td>\n      <td>0.0</td>\n    </tr>\n    <tr>\n      <th>39</th>\n      <td>87</td>\n      <td>F</td>\n      <td>0</td>\n      <td>[{'date': '20230619', 'name': 'GLUCOSA Sèrum',...</td>\n      <td>[]</td>\n      <td>[{'activitat': '1', 'estatMental': '0', 'humit...</td>\n      <td>[]</td>\n      <td>[]</td>\n      <td>[{'codi': 'N02BE', 'dataInici': '2021-01-17 00...</td>\n      <td>[{'data': '20220111085147', 'disfagia': 'S', '...</td>\n      <td>...</td>\n      <td>30.7</td>\n      <td>None</td>\n      <td>&gt;90</td>\n      <td>None</td>\n      <td>None</td>\n      <td>None</td>\n      <td>2022-01-11</td>\n      <td>None</td>\n      <td>None</td>\n      <td>None</td>\n    </tr>\n    <tr>\n      <th>41</th>\n      <td>93</td>\n      <td>F</td>\n      <td>0</td>\n      <td>[{'date': '20221013', 'name': 'GLUCOSA Sèrum',...</td>\n      <td>[]</td>\n      <td>[{'activitat': '1', 'estatMental': '1', 'humit...</td>\n      <td>[]</td>\n      <td>[{'valor': '0', 'data': '2023-06-02'}, {'valor...</td>\n      <td>[{'codi': 'C10AA', 'dataInici': '2021-02-05 00...</td>\n      <td>[{'data': '20230530155654', 'disfagia': 'S', '...</td>\n      <td>...</td>\n      <td>38.6</td>\n      <td>&gt;60</td>\n      <td>48</td>\n      <td>0</td>\n      <td>60</td>\n      <td>2023-06-02</td>\n      <td>2023-05-30</td>\n      <td>0</td>\n      <td>0.0</td>\n      <td>-60.0</td>\n    </tr>\n    <tr>\n      <th>46</th>\n      <td>86</td>\n      <td>M</td>\n      <td>0</td>\n      <td>[]</td>\n      <td>[]</td>\n      <td>[{'activitat': '3', 'estatMental': '1', 'humit...</td>\n      <td>[]</td>\n      <td>[{'valor': '55.1', 'data': '2021-03-21'}]</td>\n      <td>[{'codi': 'G04CA', 'dataInici': '2021-03-20 00...</td>\n      <td>[{'data': '20210721140136', 'disfagia': 'S', '...</td>\n      <td>...</td>\n      <td>None</td>\n      <td>None</td>\n      <td>None</td>\n      <td>55.1</td>\n      <td>55.1</td>\n      <td>2021-03-21</td>\n      <td>2021-07-21</td>\n      <td>None</td>\n      <td>None</td>\n      <td>0.0</td>\n    </tr>\n    <tr>\n      <th>47</th>\n      <td>94</td>\n      <td>M</td>\n      <td>0</td>\n      <td>[]</td>\n      <td>[]</td>\n      <td>[{'activitat': '3', 'estatMental': '1', 'humit...</td>\n      <td>[]</td>\n      <td>[]</td>\n      <td>[{'codi': 'C09AA', 'dataInici': '2021-03-23 00...</td>\n      <td>[{'data': '20210325091551', 'disfagia': 'S', '...</td>\n      <td>...</td>\n      <td>None</td>\n      <td>None</td>\n      <td>None</td>\n      <td>None</td>\n      <td>None</td>\n      <td>None</td>\n      <td>2021-03-25</td>\n      <td>None</td>\n      <td>None</td>\n      <td>None</td>\n    </tr>\n  </tbody>\n</table>\n<p>10 rows × 78 columns</p>\n</div>"
     },
     "execution_count": 575,
     "metadata": {},
     "output_type": "execute_result"
    }
   ],
   "execution_count": 575
  },
  {
   "cell_type": "markdown",
   "source": [
    "# SENSE_PA"
   ],
   "metadata": {
    "collapsed": false
   },
   "id": "a348d05c32ba63b8"
  },
  {
   "cell_type": "code",
   "source": [
    "SENSE_PA = taula[\n",
    "          (taula[\"P_diagnosticada\"] == 1.0) |\n",
    "          (taula[\"P_diagnosticada\"] == 1.0) & (taula[\"Disfagia_mecvvs\"] == 1.0) & (taula[\"alteracioEficacia_mecvvs\"] == 1.0) & (taula[\"Dias_totales_ingresado\"] > 30) |\n",
    "          (taula[\"P_diagnosticada\"] == 1.0) & (taula[\"Disfagia_mecvvs\"] == 1.0) & (taula[\"alteracioSeguretat_mecvvs\"] == 1.0) & (taula[\"Dias_totales_ingresado\"] > 30)]\n",
    "SENSE_PA.head(len(taula))\n",
    "# TODO: no es mostra mai tot el dataset, mostra nomes 5 files tal i com esta predefinit en la llibreria\n"
   ],
   "metadata": {
    "collapsed": false,
    "ExecuteTime": {
     "end_time": "2024-04-29T07:03:07.884437Z",
     "start_time": "2024-04-29T07:03:06.608233Z"
    }
   },
   "id": "ebd6be70713adb40",
   "outputs": [
    {
     "data": {
      "text/plain": "    edat sexe  visitaDietista  \\\n0     89    F               0   \n1     70    M               0   \n2     96    M               0   \n3     85    M               0   \n4     93    M               0   \n5     57    M               0   \n6    101    F               0   \n7     90    F               0   \n8     90    F               0   \n9     91    M               0   \n10    84    F               0   \n11    58    M               0   \n12    86    M               0   \n13    71    F               0   \n14    61    M               0   \n15    75    M               0   \n16    79    M               0   \n17    58    M               0   \n18    64    M               0   \n19    85    M               0   \n20    85    M               0   \n21    29    M               0   \n22    48    M               0   \n23    67    M               0   \n24    71    M               0   \n25    83    F               0   \n26    97    F               0   \n27   100    M               0   \n28    95    F               0   \n29    97    F               0   \n30    83    F               0   \n31    89    M               0   \n32    81    M               0   \n33    21    F               0   \n34    96    F               0   \n35    77    M               0   \n36    70    M               0   \n37    86    M               0   \n38    90    M               0   \n39    87    F               0   \n40    96    M               0   \n41    93    F               0   \n42    91    M               0   \n44    83    F               0   \n45    85    M               0   \n46    86    M               0   \n47    94    M               0   \n48    90    M               0   \n49    73    F               0   \n\n                                                 labs  \\\n0                                                  []   \n1   [{'date': '20220524', 'name': 'PCR SARS-CoV2 S...   \n2                                                  []   \n3                                                  []   \n4   [{'date': '20220208', 'name': 'UREA Sèrum', 'l...   \n5   [{'date': '20220909', 'name': 'GLUCOSA Sèrum',...   \n6                                                  []   \n7   [{'date': '20220627', 'name': 'GLUCOSA Sèrum',...   \n8   [{'date': '20220827', 'name': 'GLUCOSA Sèrum',...   \n9                                                  []   \n10                                                 []   \n11                                                 []   \n12                                                 []   \n13  [{'date': '20220216', 'name': 'CULTIU Esput', ...   \n14                                                 []   \n15                                                 []   \n16                                                 []   \n17  [{'date': '20230119', 'name': 'pH/arterial', '...   \n18  [{'date': '20220217', 'name': 'EXTRACCIÓ RNA',...   \n19  [{'date': '20230130', 'name': 'pH/arterial', '...   \n20  [{'date': '20230409', 'name': 'CULTIU Esput', ...   \n21                                                 []   \n22                                                 []   \n23                                                 []   \n24  [{'date': '20220506', 'name': 'GLUCOSA Sèrum',...   \n25  [{'date': '20220308', 'name': 'UREA Sèrum', 'l...   \n26  [{'date': '20220419', 'name': 'GLUCOSA Sèrum',...   \n27                                                 []   \n28  [{'date': '20220526', 'name': 'GLUCOSA Sèrum',...   \n29                                                 []   \n30                                                 []   \n31  [{'date': '20220318', 'name': 'BILIRUBINA TOTA...   \n32                                                 []   \n33                                                 []   \n34                                                 []   \n35                                                 []   \n36  [{'date': '20220309', 'name': 'GLUCOSA Sèrum',...   \n37  [{'date': '20221003', 'name': 'GLUCOSA Sèrum',...   \n38  [{'date': '20220809', 'name': 'GLUCOSA Sèrum',...   \n39  [{'date': '20230619', 'name': 'GLUCOSA Sèrum',...   \n40  [{'date': '20220319', 'name': 'GLUCOSA Sèrum',...   \n41  [{'date': '20221013', 'name': 'GLUCOSA Sèrum',...   \n42                                                 []   \n44  [{'date': '20230508', 'name': 'GLUCOSA Sèrum',...   \n45  [{'date': '20220330', 'name': 'GLUCOSA Sèrum',...   \n46                                                 []   \n47                                                 []   \n48  [{'date': '20220303', 'name': 'GLUCOSA Sèrum',...   \n49  [{'date': '20220307', 'name': 'pH/arterial', '...   \n\n                                                  mna  \\\n0                                                  []   \n1                                                  []   \n2                                                  []   \n3                                                  []   \n4   [{'imc': '0', 'anorexia': '1', 'perduaPes': '1...   \n5                                                  []   \n6                                                  []   \n7   [{'imc': '0', 'anorexia': '0', 'perduaPes': '1...   \n8                                                  []   \n9                                                  []   \n10                                                 []   \n11                                                 []   \n12                                                 []   \n13                                                 []   \n14                                                 []   \n15                                                 []   \n16                                                 []   \n17                                                 []   \n18                                                 []   \n19                                                 []   \n20                                                 []   \n21                                                 []   \n22                                                 []   \n23                                                 []   \n24                                                 []   \n25  [{'imc': '', 'anorexia': '', 'perduaPes': '', ...   \n26                                                 []   \n27                                                 []   \n28                                                 []   \n29                                                 []   \n30  [{'imc': '', 'anorexia': '2', 'perduaPes': '3'...   \n31  [{'imc': '', 'anorexia': '', 'perduaPes': '', ...   \n32                                                 []   \n33                                                 []   \n34  [{'imc': '', 'anorexia': '', 'perduaPes': '', ...   \n35                                                 []   \n36                                                 []   \n37  [{'imc': '', 'anorexia': '', 'perduaPes': '', ...   \n38                                                 []   \n39                                                 []   \n40                                                 []   \n41                                                 []   \n42  [{'imc': '', 'anorexia': '', 'perduaPes': '', ...   \n44                                                 []   \n45  [{'imc': '', 'anorexia': '', 'perduaPes': '', ...   \n46                                                 []   \n47                                                 []   \n48                                                 []   \n49  [{'imc': '3', 'anorexia': '1', 'perduaPes': '1...   \n\n                                                emina  \\\n0   [{'activitat': '2', 'estatMental': '1', 'humit...   \n1   [{'activitat': '0', 'estatMental': '0', 'humit...   \n2   [{'activitat': '3', 'estatMental': '0', 'humit...   \n3   [{'activitat': '2', 'estatMental': '1', 'humit...   \n4   [{'activitat': '2', 'estatMental': '1', 'humit...   \n5   [{'activitat': '1', 'estatMental': '0', 'humit...   \n6   [{'activitat': '3', 'estatMental': '1', 'humit...   \n7   [{'activitat': '3', 'estatMental': '1', 'humit...   \n8   [{'activitat': '3', 'estatMental': '0', 'humit...   \n9   [{'activitat': '1', 'estatMental': '1', 'humit...   \n10  [{'activitat': '0', 'estatMental': '0', 'humit...   \n11  [{'activitat': '0', 'estatMental': '0', 'humit...   \n12  [{'activitat': '1', 'estatMental': '1', 'humit...   \n13  [{'activitat': '3', 'estatMental': '0', 'humit...   \n14  [{'activitat': '2', 'estatMental': '0', 'humit...   \n15  [{'activitat': '3', 'estatMental': '2', 'humit...   \n16  [{'activitat': '0', 'estatMental': '0', 'humit...   \n17  [{'activitat': '0', 'estatMental': '0', 'humit...   \n18  [{'activitat': '0', 'estatMental': '0', 'humit...   \n19  [{'activitat': '1', 'estatMental': '0', 'humit...   \n20  [{'activitat': '0', 'estatMental': '0', 'humit...   \n21  [{'activitat': '0', 'estatMental': '0', 'humit...   \n22  [{'activitat': '1', 'estatMental': '0', 'humit...   \n23  [{'activitat': '0', 'estatMental': '0', 'humit...   \n24  [{'activitat': '1', 'estatMental': '1', 'humit...   \n25  [{'activitat': '0', 'estatMental': '1', 'humit...   \n26  [{'activitat': '1', 'estatMental': '0', 'humit...   \n27  [{'activitat': '3', 'estatMental': '0', 'humit...   \n28  [{'activitat': '3', 'estatMental': '0', 'humit...   \n29  [{'activitat': '3', 'estatMental': '2', 'humit...   \n30  [{'activitat': '0', 'estatMental': '0', 'humit...   \n31  [{'activitat': '2', 'estatMental': '1', 'humit...   \n32  [{'activitat': '2', 'estatMental': '1', 'humit...   \n33                                                 []   \n34  [{'activitat': '1', 'estatMental': '1', 'humit...   \n35                                                 []   \n36  [{'activitat': '0', 'estatMental': '0', 'humit...   \n37  [{'activitat': '2', 'estatMental': '1', 'humit...   \n38  [{'activitat': '3', 'estatMental': '0', 'humit...   \n39  [{'activitat': '1', 'estatMental': '0', 'humit...   \n40  [{'activitat': '1', 'estatMental': '1', 'humit...   \n41  [{'activitat': '1', 'estatMental': '1', 'humit...   \n42  [{'activitat': '3', 'estatMental': '1', 'humit...   \n44  [{'activitat': '3', 'estatMental': '0', 'humit...   \n45  [{'activitat': '3', 'estatMental': '1', 'humit...   \n46  [{'activitat': '3', 'estatMental': '1', 'humit...   \n47  [{'activitat': '3', 'estatMental': '1', 'humit...   \n48  [{'activitat': '3', 'estatMental': '0', 'humit...   \n49  [{'activitat': '3', 'estatMental': '0', 'humit...   \n\n                                            canadenca  \\\n0                                                  []   \n1                                                  []   \n2                                                  []   \n3                                                  []   \n4                                                  []   \n5                                                  []   \n6                                                  []   \n7   [{'dataValoracio': '2020-07-30', 'horaValoraci...   \n8                                                  []   \n9                                                  []   \n10                                                 []   \n11                                                 []   \n12                                                 []   \n13  [{'dataValoracio': '2020-09-06', 'horaValoraci...   \n14                                                 []   \n15                                                 []   \n16                                                 []   \n17                                                 []   \n18                                                 []   \n19                                                 []   \n20                                                 []   \n21                                                 []   \n22                                                 []   \n23                                                 []   \n24                                                 []   \n25                                                 []   \n26                                                 []   \n27                                                 []   \n28                                                 []   \n29                                                 []   \n30                                                 []   \n31                                                 []   \n32                                                 []   \n33                                                 []   \n34                                                 []   \n35                                                 []   \n36                                                 []   \n37                                                 []   \n38                                                 []   \n39                                                 []   \n40                                                 []   \n41                                                 []   \n42                                                 []   \n44                                                 []   \n45                                                 []   \n46                                                 []   \n47                                                 []   \n48                                                 []   \n49                                                 []   \n\n                                                  pes  \\\n0                                                  []   \n1   [{'valor': '64.7', 'data': '2022-10-04'}, {'va...   \n2                                                  []   \n3                                                  []   \n4   [{'valor': '49.900', 'data': '2022-06-02'}, {'...   \n5   [{'valor': '83.7', 'data': '2020-08-13'}, {'va...   \n6                                                  []   \n7                                                  []   \n8                                                  []   \n9                                                  []   \n10                                                 []   \n11                                                 []   \n12          [{'valor': '46.4', 'data': '2020-09-09'}]   \n13                                                 []   \n14                                                 []   \n15                                                 []   \n16                                                 []   \n17  [{'valor': '111', 'data': '2020-09-27'}, {'val...   \n18                                                 []   \n19  [{'valor': '89.7', 'data': '2022-10-15'}, {'va...   \n20  [{'valor': '82.600', 'data': '2020-11-19'}, {'...   \n21  [{'valor': '64.5', 'data': '2020-11-04'}, {'va...   \n22  [{'valor': '150', 'data': '2021-01-15'}, {'val...   \n23                                                 []   \n24                                                 []   \n25  [{'valor': '57', 'data': '2022-11-03'}, {'valo...   \n26                                                 []   \n27  [{'valor': '0', 'data': '2021-09-14'}, {'valor...   \n28             [{'valor': '0', 'data': '2022-05-30'}]   \n29                                                 []   \n30  [{'valor': '71.5', 'data': '2020-12-07'}, {'va...   \n31  [{'valor': '75', 'data': '2022-01-11'}, {'valo...   \n32                                                 []   \n33                                                 []   \n34          [{'valor': '51.5', 'data': '2021-01-14'}]   \n35                                                 []   \n36                                                 []   \n37            [{'valor': '72', 'data': '2022-10-09'}]   \n38                                                 []   \n39                                                 []   \n40                                                 []   \n41  [{'valor': '0', 'data': '2023-06-02'}, {'valor...   \n42  [{'valor': '', 'data': '2021-11-23'}, {'valor'...   \n44  [{'valor': '66', 'data': '2023-05-07'}, {'valo...   \n45             [{'valor': '0', 'data': '2023-04-28'}]   \n46          [{'valor': '55.1', 'data': '2021-03-21'}]   \n47                                                 []   \n48  [{'valor': '90', 'data': '2021-03-30'}, {'valo...   \n49  [{'valor': '143.200', 'data': '2021-09-17'}, {...   \n\n                                                 atcs  \\\n0   [{'codi': 'M01AE', 'dataInici': '2020-06-21 00...   \n1   [{'codi': 'C09AA', 'dataInici': '2021-05-26 00...   \n2   [{'codi': 'G04CA', 'dataInici': '2020-07-09 00...   \n3   [{'codi': 'G04CA', 'dataInici': '2020-07-15 00...   \n4   [{'codi': 'N02AA', 'dataInici': '2022-02-01 00...   \n5   [{'codi': 'N02BE', 'dataInici': '2020-08-12 00...   \n6   [{'codi': 'C09AA', 'dataInici': '2021-08-21 00...   \n7   [{'codi': 'C09AA', 'dataInici': '2020-07-31 00...   \n8   [{'codi': 'N02BB', 'dataInici': '2023-07-17 00...   \n9   [{'codi': 'C10AA', 'dataInici': '2020-08-25 00...   \n10  [{'codi': 'C09DA', 'dataInici': '2020-08-19 00...   \n11  [{'codi': 'N02BB', 'dataInici': '2020-08-28 00...   \n12  [{'codi': 'G04CA', 'dataInici': '2020-09-04 00...   \n13  [{'codi': 'C10AA', 'dataInici': '2020-09-06 00...   \n14  [{'codi': 'N02BE', 'dataInici': '2020-10-28 00...   \n15  [{'codi': 'G04CA', 'dataInici': '2020-09-19 00...   \n16  [{'codi': 'C08DB', 'dataInici': '2020-09-20 00...   \n17  [{'codi': 'N02BE', 'dataInici': '2020-09-23 00...   \n18  [{'codi': 'N02BE', 'dataInici': '2020-10-24 00...   \n19  [{'codi': 'C09AA', 'dataInici': '2020-10-29 00...   \n20  [{'codi': 'C09CA', 'dataInici': '2020-10-29 00...   \n21  [{'codi': 'N02BE', 'dataInici': '2020-11-06 00...   \n22  [{'codi': 'N02BE', 'dataInici': '2019-08-25 00...   \n23  [{'codi': 'N02BE', 'dataInici': '2020-11-06 00...   \n24  [{'codi': 'C01AA', 'dataInici': '2022-12-24 00...   \n25  [{'codi': 'C10AA', 'dataInici': '2022-09-27 00...   \n26  [{'codi': 'C09BA', 'dataInici': '2022-04-17 00...   \n27  [{'codi': 'C08CA', 'dataInici': '2020-11-23 00...   \n28  [{'codi': 'C10AA', 'dataInici': '2020-11-18 00...   \n29  [{'codi': 'N02BE', 'dataInici': '2020-11-30 00...   \n30  [{'codi': 'C08DB', 'dataInici': '2020-12-04 00...   \n31  [{'codi': 'C10AA', 'dataInici': '2021-12-23 00...   \n32  [{'codi': 'C10AA', 'dataInici': '2020-12-23 00...   \n33  [{'codi': 'N02BB', 'dataInici': '2020-12-18 00...   \n34  [{'codi': 'N02AA', 'dataInici': '2021-01-01 00...   \n35  [{'codi': 'C01AA', 'dataInici': '2021-01-09 00...   \n36  [{'codi': 'N02BE', 'dataInici': '2021-01-11 00...   \n37  [{'codi': 'G04CA', 'dataInici': '2022-09-26 00...   \n38  [{'codi': 'N02BE', 'dataInici': '2022-10-27 00...   \n39  [{'codi': 'N02BE', 'dataInici': '2021-01-17 00...   \n40  [{'codi': 'G04CA', 'dataInici': '2021-01-28 00...   \n41  [{'codi': 'C10AA', 'dataInici': '2021-02-05 00...   \n42  [{'codi': 'C08CA', 'dataInici': '2021-06-28 00...   \n44  [{'codi': 'C09BA', 'dataInici': '2023-05-05 00...   \n45  [{'codi': 'G04CA', 'dataInici': '2021-03-21 00...   \n46  [{'codi': 'G04CA', 'dataInici': '2021-03-20 00...   \n47  [{'codi': 'C09AA', 'dataInici': '2021-03-23 00...   \n48  [{'codi': 'G04CA', 'dataInici': '2021-03-25 00...   \n49  [{'codi': 'C10AA', 'dataInici': '2021-08-14 00...   \n\n                                               mecvvs  ...  \\\n0                                                  []  ...   \n1   [{'data': '20220930', 'pacientNoColabora': '',...  ...   \n2                                                  []  ...   \n3   [{'data': '20201204131810', 'disfagia': 'S', '...  ...   \n4   [{'data': '20220330172303', 'disfagiaConeguda'...  ...   \n5                                                  []  ...   \n6   [{'data': '20210819124116', 'disfagia': 'S', '...  ...   \n7   [{'data': '20200731092102', 'disfagia': 'N', '...  ...   \n8                                                  []  ...   \n9                                                  []  ...   \n10                                                 []  ...   \n11                                                 []  ...   \n12  [{'data': '20200907110400', 'disfagia': 'S', '...  ...   \n13  [{'data': '20200906175506', 'disfagia': 'N', '...  ...   \n14                                                 []  ...   \n15                                                 []  ...   \n16                                                 []  ...   \n17                                                 []  ...   \n18                                                 []  ...   \n19                                                 []  ...   \n20                                                 []  ...   \n21                                                 []  ...   \n22                                                 []  ...   \n23                                                 []  ...   \n24                                                 []  ...   \n25  [{'data': '20220929091303', 'disfagia': 'S', '...  ...   \n26                                                 []  ...   \n27  [{'data': '20201125131827', 'disfagia': 'S', '...  ...   \n28  [{'data': '20220529115841', 'disfagia': 'S', '...  ...   \n29                                                 []  ...   \n30                                                 []  ...   \n31  [{'data': '20220119101523', 'disfagia': 'N', '...  ...   \n32                                                 []  ...   \n33                                                 []  ...   \n34                                                 []  ...   \n35                                                 []  ...   \n36                                                 []  ...   \n37  [{'data': '20221012122425', 'disfagia': 'S', '...  ...   \n38  [{'data': '20221031103922', 'pacientNoColabora...  ...   \n39  [{'data': '20220111085147', 'disfagia': 'S', '...  ...   \n40                                                 []  ...   \n41  [{'data': '20230530155654', 'disfagia': 'S', '...  ...   \n42  [{'data': '20210628210030', 'disfagiaConeguda'...  ...   \n44                                                 []  ...   \n45  [{'data': '20210323123919', 'disfagia': 'S', '...  ...   \n46  [{'data': '20210721140136', 'disfagia': 'S', '...  ...   \n47  [{'data': '20210325091551', 'disfagia': 'S', '...  ...   \n48  [{'data': '20210330124628', 'disfagia': 'N', '...  ...   \n49  [{'data': '20211216113742', 'disfagia': 'N', '...  ...   \n\n                                                 urea  \\\n0                                                None   \n1                                                25.7   \n2                                                None   \n3                                                None   \n4   Proves afegides a un altre petició per extracc...   \n5                                                30.4   \n6                                                None   \n7                                                38.7   \n8                                                35.7   \n9                                                None   \n10                                               None   \n11                                               None   \n12                                               None   \n13                                               66.0   \n14                                               None   \n15                                               None   \n16                                               None   \n17                                               44.9   \n18                                               29.5   \n19                                               94.8   \n20                                               36.9   \n21                                               None   \n22                                               None   \n23                                               None   \n24                           Extracció no realitzada    \n25                                               68.5   \n26                                              119.7   \n27                                               None   \n28                                               49.9   \n29                                               None   \n30                                               None   \n31                                               24.9   \n32                                               None   \n33                                               None   \n34                                               None   \n35                                               None   \n36                                               31.3   \n37                                              114.2   \n38                                               45.7   \n39                                               30.7   \n40                                               84.6   \n41                                               38.6   \n42                                               None   \n44                                               31.4   \n45                                               82.7   \n46                                               None   \n47                                               None   \n48                                               33.0   \n49                                              107.9   \n\n                                             FGE MDRD  \\\n0                                                None   \n1                                                 >60   \n2                                                None   \n3                                                None   \n4   Proves afegides a un altre petició per extracc...   \n5                                                 >60   \n6                                                None   \n7                                                None   \n8                                                None   \n9                                                None   \n10                                               None   \n11                                               None   \n12                                               None   \n13                                                >60   \n14                                               None   \n15                                               None   \n16                                               None   \n17                                                >60   \n18                                                >60   \n19                                                 51   \n20                                               None   \n21                                               None   \n22                                               None   \n23                                               None   \n24                                                >60   \n25                                                 39   \n26                                                 52   \n27                                               None   \n28                                                 51   \n29                                               None   \n30                                               None   \n31                                                >60   \n32                                               None   \n33                                               None   \n34                                               None   \n35                                               None   \n36                                               None   \n37                                               None   \n38                           Extracció no realitzada    \n39                                               None   \n40                                                 22   \n41                                                >60   \n42                                               None   \n44                                                >60   \n45                                                >60   \n46                                               None   \n47                                               None   \n48                                               None   \n49                                                 11   \n\n                                          FGE CDK-EPI  pes més antic  \\\n0                                                None           None   \n1                                                 >90             70   \n2                                                None           None   \n3                                                None           None   \n4   Proves afegides a un altre petició per extracc...         49.900   \n5                                                 >90           83.7   \n6                                                None           None   \n7                                                  78           None   \n8                                                  74           None   \n9                                                None           None   \n10                                               None           None   \n11                                               None           None   \n12                                               None           46.4   \n13                                                 70           None   \n14                                               None           None   \n15                                               None           None   \n16                                               None           None   \n17                                                >90            111   \n18                                                >90           None   \n19                                                <15           89.7   \n20                                                 81         82.600   \n21                                               None           64.5   \n22                                               None            150   \n23                                               None           None   \n24                           Extracció no realitzada            None   \n25                                                 38             57   \n26                                                 48           None   \n27                                               None         41.100   \n28                                                 48              0   \n29                                               None           None   \n30                                               None           71.5   \n31                                                 78             75   \n32                                               None           None   \n33                                               None           None   \n34                                               None           51.5   \n35                                               None           None   \n36                                                 71           None   \n37                                                 46             72   \n38                                                 52           None   \n39                                                >90           None   \n40                                                 18           None   \n41                                                 48              0   \n42                                               None                  \n44                                                 83             66   \n45                                                 50              0   \n46                                               None           55.1   \n47                                               None           None   \n48                                                 54             90   \n49                                                <15        143.200   \n\n    pes més nou  data pes més antic  data primer mecvv  \\\n0          None                None               None   \n1          53.7          2022-07-06               None   \n2          None                None               None   \n3          None                None         2020-12-04   \n4        49.900          2022-06-02               None   \n5        56.200          2020-08-13               None   \n6          None                None         2021-08-19   \n7          None                None               None   \n8          None                None               None   \n9          None                None               None   \n10         None                None               None   \n11         None                None               None   \n12         46.4          2020-09-09         2020-09-07   \n13         None                None         2020-09-07   \n14         None                None               None   \n15         None                None               None   \n16         None                None               None   \n17          110          2020-09-27               None   \n18         None                None               None   \n19         87.5          2022-10-15               None   \n20         83.5          2020-11-19               None   \n21           60          2020-11-04               None   \n22          143          2021-01-15               None   \n23         None                None               None   \n24         None                None               None   \n25         63.2          2022-11-03         2022-09-29   \n26         None                None               None   \n27            0          2021-01-20         2020-11-25   \n28            0          2022-05-30         2022-05-29   \n29         None                None               None   \n30           68          2020-12-07               None   \n31           67          2022-01-11         2022-02-01   \n32         None                None               None   \n33         None                None               None   \n34         51.5          2021-01-14               None   \n35         None                None               None   \n36         None                None               None   \n37           72          2022-10-09         2022-10-12   \n38         None                None               None   \n39         None                None         2022-01-11   \n40         None                None               None   \n41           60          2023-06-02         2023-05-30   \n42            0          2021-11-23         2021-11-19   \n44         64.6          2023-05-07               None   \n45            0          2023-04-28         2021-03-23   \n46         55.1          2021-03-21         2021-07-21   \n47         None                None         2021-03-25   \n48       82.600          2021-03-30         2021-11-18   \n49          131          2021-09-17               None   \n\n    pes coincident primer mecvv  perdua pes entre ingressos  perdua pes total  \n0                          None                        None              None  \n1                          None                        None              16.3  \n2                          None                        None              None  \n3                          None                        None              None  \n4                          None                        None               0.0  \n5                          None                        None              27.5  \n6                          None                        None              None  \n7                          None                        None              None  \n8                          None                        None              None  \n9                          None                        None              None  \n10                         None                        None              None  \n11                         None                        None              None  \n12                         46.4                         0.0               0.0  \n13                         None                        None              None  \n14                         None                        None              None  \n15                         None                        None              None  \n16                         None                        None              None  \n17                         None                        None               1.0  \n18                         None                        None              None  \n19                         None                        None               2.2  \n20                         None                        None              -0.9  \n21                         None                        None               4.5  \n22                         None                        None               7.0  \n23                         None                        None              None  \n24                         None                        None              None  \n25                         None                        None              -6.2  \n26                         None                        None              None  \n27                         None                        None              41.1  \n28                            0                         0.0               0.0  \n29                         None                        None              None  \n30                         None                        None               3.5  \n31                         None                        None               8.0  \n32                         None                        None              None  \n33                         None                        None              None  \n34                         None                        None               0.0  \n35                         None                        None              None  \n36                         None                        None              None  \n37                           72                         0.0               0.0  \n38                         None                        None              None  \n39                         None                        None              None  \n40                         None                        None              None  \n41                            0                         0.0             -60.0  \n42                         None                        None              None  \n44                         None                        None               1.4  \n45                         None                        None               0.0  \n46                         None                        None               0.0  \n47                         None                        None              None  \n48                         71.3                        18.7               7.4  \n49                         None                        None              12.2  \n\n[49 rows x 78 columns]",
      "text/html": "<div>\n<style scoped>\n    .dataframe tbody tr th:only-of-type {\n        vertical-align: middle;\n    }\n\n    .dataframe tbody tr th {\n        vertical-align: top;\n    }\n\n    .dataframe thead th {\n        text-align: right;\n    }\n</style>\n<table border=\"1\" class=\"dataframe\">\n  <thead>\n    <tr style=\"text-align: right;\">\n      <th></th>\n      <th>edat</th>\n      <th>sexe</th>\n      <th>visitaDietista</th>\n      <th>labs</th>\n      <th>mna</th>\n      <th>emina</th>\n      <th>canadenca</th>\n      <th>pes</th>\n      <th>atcs</th>\n      <th>mecvvs</th>\n      <th>...</th>\n      <th>urea</th>\n      <th>FGE MDRD</th>\n      <th>FGE CDK-EPI</th>\n      <th>pes més antic</th>\n      <th>pes més nou</th>\n      <th>data pes més antic</th>\n      <th>data primer mecvv</th>\n      <th>pes coincident primer mecvv</th>\n      <th>perdua pes entre ingressos</th>\n      <th>perdua pes total</th>\n    </tr>\n  </thead>\n  <tbody>\n    <tr>\n      <th>0</th>\n      <td>89</td>\n      <td>F</td>\n      <td>0</td>\n      <td>[]</td>\n      <td>[]</td>\n      <td>[{'activitat': '2', 'estatMental': '1', 'humit...</td>\n      <td>[]</td>\n      <td>[]</td>\n      <td>[{'codi': 'M01AE', 'dataInici': '2020-06-21 00...</td>\n      <td>[]</td>\n      <td>...</td>\n      <td>None</td>\n      <td>None</td>\n      <td>None</td>\n      <td>None</td>\n      <td>None</td>\n      <td>None</td>\n      <td>None</td>\n      <td>None</td>\n      <td>None</td>\n      <td>None</td>\n    </tr>\n    <tr>\n      <th>1</th>\n      <td>70</td>\n      <td>M</td>\n      <td>0</td>\n      <td>[{'date': '20220524', 'name': 'PCR SARS-CoV2 S...</td>\n      <td>[]</td>\n      <td>[{'activitat': '0', 'estatMental': '0', 'humit...</td>\n      <td>[]</td>\n      <td>[{'valor': '64.7', 'data': '2022-10-04'}, {'va...</td>\n      <td>[{'codi': 'C09AA', 'dataInici': '2021-05-26 00...</td>\n      <td>[{'data': '20220930', 'pacientNoColabora': '',...</td>\n      <td>...</td>\n      <td>25.7</td>\n      <td>&gt;60</td>\n      <td>&gt;90</td>\n      <td>70</td>\n      <td>53.7</td>\n      <td>2022-07-06</td>\n      <td>None</td>\n      <td>None</td>\n      <td>None</td>\n      <td>16.3</td>\n    </tr>\n    <tr>\n      <th>2</th>\n      <td>96</td>\n      <td>M</td>\n      <td>0</td>\n      <td>[]</td>\n      <td>[]</td>\n      <td>[{'activitat': '3', 'estatMental': '0', 'humit...</td>\n      <td>[]</td>\n      <td>[]</td>\n      <td>[{'codi': 'G04CA', 'dataInici': '2020-07-09 00...</td>\n      <td>[]</td>\n      <td>...</td>\n      <td>None</td>\n      <td>None</td>\n      <td>None</td>\n      <td>None</td>\n      <td>None</td>\n      <td>None</td>\n      <td>None</td>\n      <td>None</td>\n      <td>None</td>\n      <td>None</td>\n    </tr>\n    <tr>\n      <th>3</th>\n      <td>85</td>\n      <td>M</td>\n      <td>0</td>\n      <td>[]</td>\n      <td>[]</td>\n      <td>[{'activitat': '2', 'estatMental': '1', 'humit...</td>\n      <td>[]</td>\n      <td>[]</td>\n      <td>[{'codi': 'G04CA', 'dataInici': '2020-07-15 00...</td>\n      <td>[{'data': '20201204131810', 'disfagia': 'S', '...</td>\n      <td>...</td>\n      <td>None</td>\n      <td>None</td>\n      <td>None</td>\n      <td>None</td>\n      <td>None</td>\n      <td>None</td>\n      <td>2020-12-04</td>\n      <td>None</td>\n      <td>None</td>\n      <td>None</td>\n    </tr>\n    <tr>\n      <th>4</th>\n      <td>93</td>\n      <td>M</td>\n      <td>0</td>\n      <td>[{'date': '20220208', 'name': 'UREA Sèrum', 'l...</td>\n      <td>[{'imc': '0', 'anorexia': '1', 'perduaPes': '1...</td>\n      <td>[{'activitat': '2', 'estatMental': '1', 'humit...</td>\n      <td>[]</td>\n      <td>[{'valor': '49.900', 'data': '2022-06-02'}, {'...</td>\n      <td>[{'codi': 'N02AA', 'dataInici': '2022-02-01 00...</td>\n      <td>[{'data': '20220330172303', 'disfagiaConeguda'...</td>\n      <td>...</td>\n      <td>Proves afegides a un altre petició per extracc...</td>\n      <td>Proves afegides a un altre petició per extracc...</td>\n      <td>Proves afegides a un altre petició per extracc...</td>\n      <td>49.900</td>\n      <td>49.900</td>\n      <td>2022-06-02</td>\n      <td>None</td>\n      <td>None</td>\n      <td>None</td>\n      <td>0.0</td>\n    </tr>\n    <tr>\n      <th>5</th>\n      <td>57</td>\n      <td>M</td>\n      <td>0</td>\n      <td>[{'date': '20220909', 'name': 'GLUCOSA Sèrum',...</td>\n      <td>[]</td>\n      <td>[{'activitat': '1', 'estatMental': '0', 'humit...</td>\n      <td>[]</td>\n      <td>[{'valor': '83.7', 'data': '2020-08-13'}, {'va...</td>\n      <td>[{'codi': 'N02BE', 'dataInici': '2020-08-12 00...</td>\n      <td>[]</td>\n      <td>...</td>\n      <td>30.4</td>\n      <td>&gt;60</td>\n      <td>&gt;90</td>\n      <td>83.7</td>\n      <td>56.200</td>\n      <td>2020-08-13</td>\n      <td>None</td>\n      <td>None</td>\n      <td>None</td>\n      <td>27.5</td>\n    </tr>\n    <tr>\n      <th>6</th>\n      <td>101</td>\n      <td>F</td>\n      <td>0</td>\n      <td>[]</td>\n      <td>[]</td>\n      <td>[{'activitat': '3', 'estatMental': '1', 'humit...</td>\n      <td>[]</td>\n      <td>[]</td>\n      <td>[{'codi': 'C09AA', 'dataInici': '2021-08-21 00...</td>\n      <td>[{'data': '20210819124116', 'disfagia': 'S', '...</td>\n      <td>...</td>\n      <td>None</td>\n      <td>None</td>\n      <td>None</td>\n      <td>None</td>\n      <td>None</td>\n      <td>None</td>\n      <td>2021-08-19</td>\n      <td>None</td>\n      <td>None</td>\n      <td>None</td>\n    </tr>\n    <tr>\n      <th>7</th>\n      <td>90</td>\n      <td>F</td>\n      <td>0</td>\n      <td>[{'date': '20220627', 'name': 'GLUCOSA Sèrum',...</td>\n      <td>[{'imc': '0', 'anorexia': '0', 'perduaPes': '1...</td>\n      <td>[{'activitat': '3', 'estatMental': '1', 'humit...</td>\n      <td>[{'dataValoracio': '2020-07-30', 'horaValoraci...</td>\n      <td>[]</td>\n      <td>[{'codi': 'C09AA', 'dataInici': '2020-07-31 00...</td>\n      <td>[{'data': '20200731092102', 'disfagia': 'N', '...</td>\n      <td>...</td>\n      <td>38.7</td>\n      <td>None</td>\n      <td>78</td>\n      <td>None</td>\n      <td>None</td>\n      <td>None</td>\n      <td>None</td>\n      <td>None</td>\n      <td>None</td>\n      <td>None</td>\n    </tr>\n    <tr>\n      <th>8</th>\n      <td>90</td>\n      <td>F</td>\n      <td>0</td>\n      <td>[{'date': '20220827', 'name': 'GLUCOSA Sèrum',...</td>\n      <td>[]</td>\n      <td>[{'activitat': '3', 'estatMental': '0', 'humit...</td>\n      <td>[]</td>\n      <td>[]</td>\n      <td>[{'codi': 'N02BB', 'dataInici': '2023-07-17 00...</td>\n      <td>[]</td>\n      <td>...</td>\n      <td>35.7</td>\n      <td>None</td>\n      <td>74</td>\n      <td>None</td>\n      <td>None</td>\n      <td>None</td>\n      <td>None</td>\n      <td>None</td>\n      <td>None</td>\n      <td>None</td>\n    </tr>\n    <tr>\n      <th>9</th>\n      <td>91</td>\n      <td>M</td>\n      <td>0</td>\n      <td>[]</td>\n      <td>[]</td>\n      <td>[{'activitat': '1', 'estatMental': '1', 'humit...</td>\n      <td>[]</td>\n      <td>[]</td>\n      <td>[{'codi': 'C10AA', 'dataInici': '2020-08-25 00...</td>\n      <td>[]</td>\n      <td>...</td>\n      <td>None</td>\n      <td>None</td>\n      <td>None</td>\n      <td>None</td>\n      <td>None</td>\n      <td>None</td>\n      <td>None</td>\n      <td>None</td>\n      <td>None</td>\n      <td>None</td>\n    </tr>\n    <tr>\n      <th>10</th>\n      <td>84</td>\n      <td>F</td>\n      <td>0</td>\n      <td>[]</td>\n      <td>[]</td>\n      <td>[{'activitat': '0', 'estatMental': '0', 'humit...</td>\n      <td>[]</td>\n      <td>[]</td>\n      <td>[{'codi': 'C09DA', 'dataInici': '2020-08-19 00...</td>\n      <td>[]</td>\n      <td>...</td>\n      <td>None</td>\n      <td>None</td>\n      <td>None</td>\n      <td>None</td>\n      <td>None</td>\n      <td>None</td>\n      <td>None</td>\n      <td>None</td>\n      <td>None</td>\n      <td>None</td>\n    </tr>\n    <tr>\n      <th>11</th>\n      <td>58</td>\n      <td>M</td>\n      <td>0</td>\n      <td>[]</td>\n      <td>[]</td>\n      <td>[{'activitat': '0', 'estatMental': '0', 'humit...</td>\n      <td>[]</td>\n      <td>[]</td>\n      <td>[{'codi': 'N02BB', 'dataInici': '2020-08-28 00...</td>\n      <td>[]</td>\n      <td>...</td>\n      <td>None</td>\n      <td>None</td>\n      <td>None</td>\n      <td>None</td>\n      <td>None</td>\n      <td>None</td>\n      <td>None</td>\n      <td>None</td>\n      <td>None</td>\n      <td>None</td>\n    </tr>\n    <tr>\n      <th>12</th>\n      <td>86</td>\n      <td>M</td>\n      <td>0</td>\n      <td>[]</td>\n      <td>[]</td>\n      <td>[{'activitat': '1', 'estatMental': '1', 'humit...</td>\n      <td>[]</td>\n      <td>[{'valor': '46.4', 'data': '2020-09-09'}]</td>\n      <td>[{'codi': 'G04CA', 'dataInici': '2020-09-04 00...</td>\n      <td>[{'data': '20200907110400', 'disfagia': 'S', '...</td>\n      <td>...</td>\n      <td>None</td>\n      <td>None</td>\n      <td>None</td>\n      <td>46.4</td>\n      <td>46.4</td>\n      <td>2020-09-09</td>\n      <td>2020-09-07</td>\n      <td>46.4</td>\n      <td>0.0</td>\n      <td>0.0</td>\n    </tr>\n    <tr>\n      <th>13</th>\n      <td>71</td>\n      <td>F</td>\n      <td>0</td>\n      <td>[{'date': '20220216', 'name': 'CULTIU Esput', ...</td>\n      <td>[]</td>\n      <td>[{'activitat': '3', 'estatMental': '0', 'humit...</td>\n      <td>[{'dataValoracio': '2020-09-06', 'horaValoraci...</td>\n      <td>[]</td>\n      <td>[{'codi': 'C10AA', 'dataInici': '2020-09-06 00...</td>\n      <td>[{'data': '20200906175506', 'disfagia': 'N', '...</td>\n      <td>...</td>\n      <td>66.0</td>\n      <td>&gt;60</td>\n      <td>70</td>\n      <td>None</td>\n      <td>None</td>\n      <td>None</td>\n      <td>2020-09-07</td>\n      <td>None</td>\n      <td>None</td>\n      <td>None</td>\n    </tr>\n    <tr>\n      <th>14</th>\n      <td>61</td>\n      <td>M</td>\n      <td>0</td>\n      <td>[]</td>\n      <td>[]</td>\n      <td>[{'activitat': '2', 'estatMental': '0', 'humit...</td>\n      <td>[]</td>\n      <td>[]</td>\n      <td>[{'codi': 'N02BE', 'dataInici': '2020-10-28 00...</td>\n      <td>[]</td>\n      <td>...</td>\n      <td>None</td>\n      <td>None</td>\n      <td>None</td>\n      <td>None</td>\n      <td>None</td>\n      <td>None</td>\n      <td>None</td>\n      <td>None</td>\n      <td>None</td>\n      <td>None</td>\n    </tr>\n    <tr>\n      <th>15</th>\n      <td>75</td>\n      <td>M</td>\n      <td>0</td>\n      <td>[]</td>\n      <td>[]</td>\n      <td>[{'activitat': '3', 'estatMental': '2', 'humit...</td>\n      <td>[]</td>\n      <td>[]</td>\n      <td>[{'codi': 'G04CA', 'dataInici': '2020-09-19 00...</td>\n      <td>[]</td>\n      <td>...</td>\n      <td>None</td>\n      <td>None</td>\n      <td>None</td>\n      <td>None</td>\n      <td>None</td>\n      <td>None</td>\n      <td>None</td>\n      <td>None</td>\n      <td>None</td>\n      <td>None</td>\n    </tr>\n    <tr>\n      <th>16</th>\n      <td>79</td>\n      <td>M</td>\n      <td>0</td>\n      <td>[]</td>\n      <td>[]</td>\n      <td>[{'activitat': '0', 'estatMental': '0', 'humit...</td>\n      <td>[]</td>\n      <td>[]</td>\n      <td>[{'codi': 'C08DB', 'dataInici': '2020-09-20 00...</td>\n      <td>[]</td>\n      <td>...</td>\n      <td>None</td>\n      <td>None</td>\n      <td>None</td>\n      <td>None</td>\n      <td>None</td>\n      <td>None</td>\n      <td>None</td>\n      <td>None</td>\n      <td>None</td>\n      <td>None</td>\n    </tr>\n    <tr>\n      <th>17</th>\n      <td>58</td>\n      <td>M</td>\n      <td>0</td>\n      <td>[{'date': '20230119', 'name': 'pH/arterial', '...</td>\n      <td>[]</td>\n      <td>[{'activitat': '0', 'estatMental': '0', 'humit...</td>\n      <td>[]</td>\n      <td>[{'valor': '111', 'data': '2020-09-27'}, {'val...</td>\n      <td>[{'codi': 'N02BE', 'dataInici': '2020-09-23 00...</td>\n      <td>[]</td>\n      <td>...</td>\n      <td>44.9</td>\n      <td>&gt;60</td>\n      <td>&gt;90</td>\n      <td>111</td>\n      <td>110</td>\n      <td>2020-09-27</td>\n      <td>None</td>\n      <td>None</td>\n      <td>None</td>\n      <td>1.0</td>\n    </tr>\n    <tr>\n      <th>18</th>\n      <td>64</td>\n      <td>M</td>\n      <td>0</td>\n      <td>[{'date': '20220217', 'name': 'EXTRACCIÓ RNA',...</td>\n      <td>[]</td>\n      <td>[{'activitat': '0', 'estatMental': '0', 'humit...</td>\n      <td>[]</td>\n      <td>[]</td>\n      <td>[{'codi': 'N02BE', 'dataInici': '2020-10-24 00...</td>\n      <td>[]</td>\n      <td>...</td>\n      <td>29.5</td>\n      <td>&gt;60</td>\n      <td>&gt;90</td>\n      <td>None</td>\n      <td>None</td>\n      <td>None</td>\n      <td>None</td>\n      <td>None</td>\n      <td>None</td>\n      <td>None</td>\n    </tr>\n    <tr>\n      <th>19</th>\n      <td>85</td>\n      <td>M</td>\n      <td>0</td>\n      <td>[{'date': '20230130', 'name': 'pH/arterial', '...</td>\n      <td>[]</td>\n      <td>[{'activitat': '1', 'estatMental': '0', 'humit...</td>\n      <td>[]</td>\n      <td>[{'valor': '89.7', 'data': '2022-10-15'}, {'va...</td>\n      <td>[{'codi': 'C09AA', 'dataInici': '2020-10-29 00...</td>\n      <td>[]</td>\n      <td>...</td>\n      <td>94.8</td>\n      <td>51</td>\n      <td>&lt;15</td>\n      <td>89.7</td>\n      <td>87.5</td>\n      <td>2022-10-15</td>\n      <td>None</td>\n      <td>None</td>\n      <td>None</td>\n      <td>2.2</td>\n    </tr>\n    <tr>\n      <th>20</th>\n      <td>85</td>\n      <td>M</td>\n      <td>0</td>\n      <td>[{'date': '20230409', 'name': 'CULTIU Esput', ...</td>\n      <td>[]</td>\n      <td>[{'activitat': '0', 'estatMental': '0', 'humit...</td>\n      <td>[]</td>\n      <td>[{'valor': '82.600', 'data': '2020-11-19'}, {'...</td>\n      <td>[{'codi': 'C09CA', 'dataInici': '2020-10-29 00...</td>\n      <td>[]</td>\n      <td>...</td>\n      <td>36.9</td>\n      <td>None</td>\n      <td>81</td>\n      <td>82.600</td>\n      <td>83.5</td>\n      <td>2020-11-19</td>\n      <td>None</td>\n      <td>None</td>\n      <td>None</td>\n      <td>-0.9</td>\n    </tr>\n    <tr>\n      <th>21</th>\n      <td>29</td>\n      <td>M</td>\n      <td>0</td>\n      <td>[]</td>\n      <td>[]</td>\n      <td>[{'activitat': '0', 'estatMental': '0', 'humit...</td>\n      <td>[]</td>\n      <td>[{'valor': '64.5', 'data': '2020-11-04'}, {'va...</td>\n      <td>[{'codi': 'N02BE', 'dataInici': '2020-11-06 00...</td>\n      <td>[]</td>\n      <td>...</td>\n      <td>None</td>\n      <td>None</td>\n      <td>None</td>\n      <td>64.5</td>\n      <td>60</td>\n      <td>2020-11-04</td>\n      <td>None</td>\n      <td>None</td>\n      <td>None</td>\n      <td>4.5</td>\n    </tr>\n    <tr>\n      <th>22</th>\n      <td>48</td>\n      <td>M</td>\n      <td>0</td>\n      <td>[]</td>\n      <td>[]</td>\n      <td>[{'activitat': '1', 'estatMental': '0', 'humit...</td>\n      <td>[]</td>\n      <td>[{'valor': '150', 'data': '2021-01-15'}, {'val...</td>\n      <td>[{'codi': 'N02BE', 'dataInici': '2019-08-25 00...</td>\n      <td>[]</td>\n      <td>...</td>\n      <td>None</td>\n      <td>None</td>\n      <td>None</td>\n      <td>150</td>\n      <td>143</td>\n      <td>2021-01-15</td>\n      <td>None</td>\n      <td>None</td>\n      <td>None</td>\n      <td>7.0</td>\n    </tr>\n    <tr>\n      <th>23</th>\n      <td>67</td>\n      <td>M</td>\n      <td>0</td>\n      <td>[]</td>\n      <td>[]</td>\n      <td>[{'activitat': '0', 'estatMental': '0', 'humit...</td>\n      <td>[]</td>\n      <td>[]</td>\n      <td>[{'codi': 'N02BE', 'dataInici': '2020-11-06 00...</td>\n      <td>[]</td>\n      <td>...</td>\n      <td>None</td>\n      <td>None</td>\n      <td>None</td>\n      <td>None</td>\n      <td>None</td>\n      <td>None</td>\n      <td>None</td>\n      <td>None</td>\n      <td>None</td>\n      <td>None</td>\n    </tr>\n    <tr>\n      <th>24</th>\n      <td>71</td>\n      <td>M</td>\n      <td>0</td>\n      <td>[{'date': '20220506', 'name': 'GLUCOSA Sèrum',...</td>\n      <td>[]</td>\n      <td>[{'activitat': '1', 'estatMental': '1', 'humit...</td>\n      <td>[]</td>\n      <td>[]</td>\n      <td>[{'codi': 'C01AA', 'dataInici': '2022-12-24 00...</td>\n      <td>[]</td>\n      <td>...</td>\n      <td>Extracció no realitzada</td>\n      <td>&gt;60</td>\n      <td>Extracció no realitzada</td>\n      <td>None</td>\n      <td>None</td>\n      <td>None</td>\n      <td>None</td>\n      <td>None</td>\n      <td>None</td>\n      <td>None</td>\n    </tr>\n    <tr>\n      <th>25</th>\n      <td>83</td>\n      <td>F</td>\n      <td>0</td>\n      <td>[{'date': '20220308', 'name': 'UREA Sèrum', 'l...</td>\n      <td>[{'imc': '', 'anorexia': '', 'perduaPes': '', ...</td>\n      <td>[{'activitat': '0', 'estatMental': '1', 'humit...</td>\n      <td>[]</td>\n      <td>[{'valor': '57', 'data': '2022-11-03'}, {'valo...</td>\n      <td>[{'codi': 'C10AA', 'dataInici': '2022-09-27 00...</td>\n      <td>[{'data': '20220929091303', 'disfagia': 'S', '...</td>\n      <td>...</td>\n      <td>68.5</td>\n      <td>39</td>\n      <td>38</td>\n      <td>57</td>\n      <td>63.2</td>\n      <td>2022-11-03</td>\n      <td>2022-09-29</td>\n      <td>None</td>\n      <td>None</td>\n      <td>-6.2</td>\n    </tr>\n    <tr>\n      <th>26</th>\n      <td>97</td>\n      <td>F</td>\n      <td>0</td>\n      <td>[{'date': '20220419', 'name': 'GLUCOSA Sèrum',...</td>\n      <td>[]</td>\n      <td>[{'activitat': '1', 'estatMental': '0', 'humit...</td>\n      <td>[]</td>\n      <td>[]</td>\n      <td>[{'codi': 'C09BA', 'dataInici': '2022-04-17 00...</td>\n      <td>[]</td>\n      <td>...</td>\n      <td>119.7</td>\n      <td>52</td>\n      <td>48</td>\n      <td>None</td>\n      <td>None</td>\n      <td>None</td>\n      <td>None</td>\n      <td>None</td>\n      <td>None</td>\n      <td>None</td>\n    </tr>\n    <tr>\n      <th>27</th>\n      <td>100</td>\n      <td>M</td>\n      <td>0</td>\n      <td>[]</td>\n      <td>[]</td>\n      <td>[{'activitat': '3', 'estatMental': '0', 'humit...</td>\n      <td>[]</td>\n      <td>[{'valor': '0', 'data': '2021-09-14'}, {'valor...</td>\n      <td>[{'codi': 'C08CA', 'dataInici': '2020-11-23 00...</td>\n      <td>[{'data': '20201125131827', 'disfagia': 'S', '...</td>\n      <td>...</td>\n      <td>None</td>\n      <td>None</td>\n      <td>None</td>\n      <td>41.100</td>\n      <td>0</td>\n      <td>2021-01-20</td>\n      <td>2020-11-25</td>\n      <td>None</td>\n      <td>None</td>\n      <td>41.1</td>\n    </tr>\n    <tr>\n      <th>28</th>\n      <td>95</td>\n      <td>F</td>\n      <td>0</td>\n      <td>[{'date': '20220526', 'name': 'GLUCOSA Sèrum',...</td>\n      <td>[]</td>\n      <td>[{'activitat': '3', 'estatMental': '0', 'humit...</td>\n      <td>[]</td>\n      <td>[{'valor': '0', 'data': '2022-05-30'}]</td>\n      <td>[{'codi': 'C10AA', 'dataInici': '2020-11-18 00...</td>\n      <td>[{'data': '20220529115841', 'disfagia': 'S', '...</td>\n      <td>...</td>\n      <td>49.9</td>\n      <td>51</td>\n      <td>48</td>\n      <td>0</td>\n      <td>0</td>\n      <td>2022-05-30</td>\n      <td>2022-05-29</td>\n      <td>0</td>\n      <td>0.0</td>\n      <td>0.0</td>\n    </tr>\n    <tr>\n      <th>29</th>\n      <td>97</td>\n      <td>F</td>\n      <td>0</td>\n      <td>[]</td>\n      <td>[]</td>\n      <td>[{'activitat': '3', 'estatMental': '2', 'humit...</td>\n      <td>[]</td>\n      <td>[]</td>\n      <td>[{'codi': 'N02BE', 'dataInici': '2020-11-30 00...</td>\n      <td>[]</td>\n      <td>...</td>\n      <td>None</td>\n      <td>None</td>\n      <td>None</td>\n      <td>None</td>\n      <td>None</td>\n      <td>None</td>\n      <td>None</td>\n      <td>None</td>\n      <td>None</td>\n      <td>None</td>\n    </tr>\n    <tr>\n      <th>30</th>\n      <td>83</td>\n      <td>F</td>\n      <td>0</td>\n      <td>[]</td>\n      <td>[{'imc': '', 'anorexia': '2', 'perduaPes': '3'...</td>\n      <td>[{'activitat': '0', 'estatMental': '0', 'humit...</td>\n      <td>[]</td>\n      <td>[{'valor': '71.5', 'data': '2020-12-07'}, {'va...</td>\n      <td>[{'codi': 'C08DB', 'dataInici': '2020-12-04 00...</td>\n      <td>[]</td>\n      <td>...</td>\n      <td>None</td>\n      <td>None</td>\n      <td>None</td>\n      <td>71.5</td>\n      <td>68</td>\n      <td>2020-12-07</td>\n      <td>None</td>\n      <td>None</td>\n      <td>None</td>\n      <td>3.5</td>\n    </tr>\n    <tr>\n      <th>31</th>\n      <td>89</td>\n      <td>M</td>\n      <td>0</td>\n      <td>[{'date': '20220318', 'name': 'BILIRUBINA TOTA...</td>\n      <td>[{'imc': '', 'anorexia': '', 'perduaPes': '', ...</td>\n      <td>[{'activitat': '2', 'estatMental': '1', 'humit...</td>\n      <td>[]</td>\n      <td>[{'valor': '75', 'data': '2022-01-11'}, {'valo...</td>\n      <td>[{'codi': 'C10AA', 'dataInici': '2021-12-23 00...</td>\n      <td>[{'data': '20220119101523', 'disfagia': 'N', '...</td>\n      <td>...</td>\n      <td>24.9</td>\n      <td>&gt;60</td>\n      <td>78</td>\n      <td>75</td>\n      <td>67</td>\n      <td>2022-01-11</td>\n      <td>2022-02-01</td>\n      <td>None</td>\n      <td>None</td>\n      <td>8.0</td>\n    </tr>\n    <tr>\n      <th>32</th>\n      <td>81</td>\n      <td>M</td>\n      <td>0</td>\n      <td>[]</td>\n      <td>[]</td>\n      <td>[{'activitat': '2', 'estatMental': '1', 'humit...</td>\n      <td>[]</td>\n      <td>[]</td>\n      <td>[{'codi': 'C10AA', 'dataInici': '2020-12-23 00...</td>\n      <td>[]</td>\n      <td>...</td>\n      <td>None</td>\n      <td>None</td>\n      <td>None</td>\n      <td>None</td>\n      <td>None</td>\n      <td>None</td>\n      <td>None</td>\n      <td>None</td>\n      <td>None</td>\n      <td>None</td>\n    </tr>\n    <tr>\n      <th>33</th>\n      <td>21</td>\n      <td>F</td>\n      <td>0</td>\n      <td>[]</td>\n      <td>[]</td>\n      <td>[]</td>\n      <td>[]</td>\n      <td>[]</td>\n      <td>[{'codi': 'N02BB', 'dataInici': '2020-12-18 00...</td>\n      <td>[]</td>\n      <td>...</td>\n      <td>None</td>\n      <td>None</td>\n      <td>None</td>\n      <td>None</td>\n      <td>None</td>\n      <td>None</td>\n      <td>None</td>\n      <td>None</td>\n      <td>None</td>\n      <td>None</td>\n    </tr>\n    <tr>\n      <th>34</th>\n      <td>96</td>\n      <td>F</td>\n      <td>0</td>\n      <td>[]</td>\n      <td>[{'imc': '', 'anorexia': '', 'perduaPes': '', ...</td>\n      <td>[{'activitat': '1', 'estatMental': '1', 'humit...</td>\n      <td>[]</td>\n      <td>[{'valor': '51.5', 'data': '2021-01-14'}]</td>\n      <td>[{'codi': 'N02AA', 'dataInici': '2021-01-01 00...</td>\n      <td>[]</td>\n      <td>...</td>\n      <td>None</td>\n      <td>None</td>\n      <td>None</td>\n      <td>51.5</td>\n      <td>51.5</td>\n      <td>2021-01-14</td>\n      <td>None</td>\n      <td>None</td>\n      <td>None</td>\n      <td>0.0</td>\n    </tr>\n    <tr>\n      <th>35</th>\n      <td>77</td>\n      <td>M</td>\n      <td>0</td>\n      <td>[]</td>\n      <td>[]</td>\n      <td>[]</td>\n      <td>[]</td>\n      <td>[]</td>\n      <td>[{'codi': 'C01AA', 'dataInici': '2021-01-09 00...</td>\n      <td>[]</td>\n      <td>...</td>\n      <td>None</td>\n      <td>None</td>\n      <td>None</td>\n      <td>None</td>\n      <td>None</td>\n      <td>None</td>\n      <td>None</td>\n      <td>None</td>\n      <td>None</td>\n      <td>None</td>\n    </tr>\n    <tr>\n      <th>36</th>\n      <td>70</td>\n      <td>M</td>\n      <td>0</td>\n      <td>[{'date': '20220309', 'name': 'GLUCOSA Sèrum',...</td>\n      <td>[]</td>\n      <td>[{'activitat': '0', 'estatMental': '0', 'humit...</td>\n      <td>[]</td>\n      <td>[]</td>\n      <td>[{'codi': 'N02BE', 'dataInici': '2021-01-11 00...</td>\n      <td>[]</td>\n      <td>...</td>\n      <td>31.3</td>\n      <td>None</td>\n      <td>71</td>\n      <td>None</td>\n      <td>None</td>\n      <td>None</td>\n      <td>None</td>\n      <td>None</td>\n      <td>None</td>\n      <td>None</td>\n    </tr>\n    <tr>\n      <th>37</th>\n      <td>86</td>\n      <td>M</td>\n      <td>0</td>\n      <td>[{'date': '20221003', 'name': 'GLUCOSA Sèrum',...</td>\n      <td>[{'imc': '', 'anorexia': '', 'perduaPes': '', ...</td>\n      <td>[{'activitat': '2', 'estatMental': '1', 'humit...</td>\n      <td>[]</td>\n      <td>[{'valor': '72', 'data': '2022-10-09'}]</td>\n      <td>[{'codi': 'G04CA', 'dataInici': '2022-09-26 00...</td>\n      <td>[{'data': '20221012122425', 'disfagia': 'S', '...</td>\n      <td>...</td>\n      <td>114.2</td>\n      <td>None</td>\n      <td>46</td>\n      <td>72</td>\n      <td>72</td>\n      <td>2022-10-09</td>\n      <td>2022-10-12</td>\n      <td>72</td>\n      <td>0.0</td>\n      <td>0.0</td>\n    </tr>\n    <tr>\n      <th>38</th>\n      <td>90</td>\n      <td>M</td>\n      <td>0</td>\n      <td>[{'date': '20220809', 'name': 'GLUCOSA Sèrum',...</td>\n      <td>[]</td>\n      <td>[{'activitat': '3', 'estatMental': '0', 'humit...</td>\n      <td>[]</td>\n      <td>[]</td>\n      <td>[{'codi': 'N02BE', 'dataInici': '2022-10-27 00...</td>\n      <td>[{'data': '20221031103922', 'pacientNoColabora...</td>\n      <td>...</td>\n      <td>45.7</td>\n      <td>Extracció no realitzada</td>\n      <td>52</td>\n      <td>None</td>\n      <td>None</td>\n      <td>None</td>\n      <td>None</td>\n      <td>None</td>\n      <td>None</td>\n      <td>None</td>\n    </tr>\n    <tr>\n      <th>39</th>\n      <td>87</td>\n      <td>F</td>\n      <td>0</td>\n      <td>[{'date': '20230619', 'name': 'GLUCOSA Sèrum',...</td>\n      <td>[]</td>\n      <td>[{'activitat': '1', 'estatMental': '0', 'humit...</td>\n      <td>[]</td>\n      <td>[]</td>\n      <td>[{'codi': 'N02BE', 'dataInici': '2021-01-17 00...</td>\n      <td>[{'data': '20220111085147', 'disfagia': 'S', '...</td>\n      <td>...</td>\n      <td>30.7</td>\n      <td>None</td>\n      <td>&gt;90</td>\n      <td>None</td>\n      <td>None</td>\n      <td>None</td>\n      <td>2022-01-11</td>\n      <td>None</td>\n      <td>None</td>\n      <td>None</td>\n    </tr>\n    <tr>\n      <th>40</th>\n      <td>96</td>\n      <td>M</td>\n      <td>0</td>\n      <td>[{'date': '20220319', 'name': 'GLUCOSA Sèrum',...</td>\n      <td>[]</td>\n      <td>[{'activitat': '1', 'estatMental': '1', 'humit...</td>\n      <td>[]</td>\n      <td>[]</td>\n      <td>[{'codi': 'G04CA', 'dataInici': '2021-01-28 00...</td>\n      <td>[]</td>\n      <td>...</td>\n      <td>84.6</td>\n      <td>22</td>\n      <td>18</td>\n      <td>None</td>\n      <td>None</td>\n      <td>None</td>\n      <td>None</td>\n      <td>None</td>\n      <td>None</td>\n      <td>None</td>\n    </tr>\n    <tr>\n      <th>41</th>\n      <td>93</td>\n      <td>F</td>\n      <td>0</td>\n      <td>[{'date': '20221013', 'name': 'GLUCOSA Sèrum',...</td>\n      <td>[]</td>\n      <td>[{'activitat': '1', 'estatMental': '1', 'humit...</td>\n      <td>[]</td>\n      <td>[{'valor': '0', 'data': '2023-06-02'}, {'valor...</td>\n      <td>[{'codi': 'C10AA', 'dataInici': '2021-02-05 00...</td>\n      <td>[{'data': '20230530155654', 'disfagia': 'S', '...</td>\n      <td>...</td>\n      <td>38.6</td>\n      <td>&gt;60</td>\n      <td>48</td>\n      <td>0</td>\n      <td>60</td>\n      <td>2023-06-02</td>\n      <td>2023-05-30</td>\n      <td>0</td>\n      <td>0.0</td>\n      <td>-60.0</td>\n    </tr>\n    <tr>\n      <th>42</th>\n      <td>91</td>\n      <td>M</td>\n      <td>0</td>\n      <td>[]</td>\n      <td>[{'imc': '', 'anorexia': '', 'perduaPes': '', ...</td>\n      <td>[{'activitat': '3', 'estatMental': '1', 'humit...</td>\n      <td>[]</td>\n      <td>[{'valor': '', 'data': '2021-11-23'}, {'valor'...</td>\n      <td>[{'codi': 'C08CA', 'dataInici': '2021-06-28 00...</td>\n      <td>[{'data': '20210628210030', 'disfagiaConeguda'...</td>\n      <td>...</td>\n      <td>None</td>\n      <td>None</td>\n      <td>None</td>\n      <td></td>\n      <td>0</td>\n      <td>2021-11-23</td>\n      <td>2021-11-19</td>\n      <td>None</td>\n      <td>None</td>\n      <td>None</td>\n    </tr>\n    <tr>\n      <th>44</th>\n      <td>83</td>\n      <td>F</td>\n      <td>0</td>\n      <td>[{'date': '20230508', 'name': 'GLUCOSA Sèrum',...</td>\n      <td>[]</td>\n      <td>[{'activitat': '3', 'estatMental': '0', 'humit...</td>\n      <td>[]</td>\n      <td>[{'valor': '66', 'data': '2023-05-07'}, {'valo...</td>\n      <td>[{'codi': 'C09BA', 'dataInici': '2023-05-05 00...</td>\n      <td>[]</td>\n      <td>...</td>\n      <td>31.4</td>\n      <td>&gt;60</td>\n      <td>83</td>\n      <td>66</td>\n      <td>64.6</td>\n      <td>2023-05-07</td>\n      <td>None</td>\n      <td>None</td>\n      <td>None</td>\n      <td>1.4</td>\n    </tr>\n    <tr>\n      <th>45</th>\n      <td>85</td>\n      <td>M</td>\n      <td>0</td>\n      <td>[{'date': '20220330', 'name': 'GLUCOSA Sèrum',...</td>\n      <td>[{'imc': '', 'anorexia': '', 'perduaPes': '', ...</td>\n      <td>[{'activitat': '3', 'estatMental': '1', 'humit...</td>\n      <td>[]</td>\n      <td>[{'valor': '0', 'data': '2023-04-28'}]</td>\n      <td>[{'codi': 'G04CA', 'dataInici': '2021-03-21 00...</td>\n      <td>[{'data': '20210323123919', 'disfagia': 'S', '...</td>\n      <td>...</td>\n      <td>82.7</td>\n      <td>&gt;60</td>\n      <td>50</td>\n      <td>0</td>\n      <td>0</td>\n      <td>2023-04-28</td>\n      <td>2021-03-23</td>\n      <td>None</td>\n      <td>None</td>\n      <td>0.0</td>\n    </tr>\n    <tr>\n      <th>46</th>\n      <td>86</td>\n      <td>M</td>\n      <td>0</td>\n      <td>[]</td>\n      <td>[]</td>\n      <td>[{'activitat': '3', 'estatMental': '1', 'humit...</td>\n      <td>[]</td>\n      <td>[{'valor': '55.1', 'data': '2021-03-21'}]</td>\n      <td>[{'codi': 'G04CA', 'dataInici': '2021-03-20 00...</td>\n      <td>[{'data': '20210721140136', 'disfagia': 'S', '...</td>\n      <td>...</td>\n      <td>None</td>\n      <td>None</td>\n      <td>None</td>\n      <td>55.1</td>\n      <td>55.1</td>\n      <td>2021-03-21</td>\n      <td>2021-07-21</td>\n      <td>None</td>\n      <td>None</td>\n      <td>0.0</td>\n    </tr>\n    <tr>\n      <th>47</th>\n      <td>94</td>\n      <td>M</td>\n      <td>0</td>\n      <td>[]</td>\n      <td>[]</td>\n      <td>[{'activitat': '3', 'estatMental': '1', 'humit...</td>\n      <td>[]</td>\n      <td>[]</td>\n      <td>[{'codi': 'C09AA', 'dataInici': '2021-03-23 00...</td>\n      <td>[{'data': '20210325091551', 'disfagia': 'S', '...</td>\n      <td>...</td>\n      <td>None</td>\n      <td>None</td>\n      <td>None</td>\n      <td>None</td>\n      <td>None</td>\n      <td>None</td>\n      <td>2021-03-25</td>\n      <td>None</td>\n      <td>None</td>\n      <td>None</td>\n    </tr>\n    <tr>\n      <th>48</th>\n      <td>90</td>\n      <td>M</td>\n      <td>0</td>\n      <td>[{'date': '20220303', 'name': 'GLUCOSA Sèrum',...</td>\n      <td>[]</td>\n      <td>[{'activitat': '3', 'estatMental': '0', 'humit...</td>\n      <td>[]</td>\n      <td>[{'valor': '90', 'data': '2021-03-30'}, {'valo...</td>\n      <td>[{'codi': 'G04CA', 'dataInici': '2021-03-25 00...</td>\n      <td>[{'data': '20210330124628', 'disfagia': 'N', '...</td>\n      <td>...</td>\n      <td>33.0</td>\n      <td>None</td>\n      <td>54</td>\n      <td>90</td>\n      <td>82.600</td>\n      <td>2021-03-30</td>\n      <td>2021-11-18</td>\n      <td>71.3</td>\n      <td>18.7</td>\n      <td>7.4</td>\n    </tr>\n    <tr>\n      <th>49</th>\n      <td>73</td>\n      <td>F</td>\n      <td>0</td>\n      <td>[{'date': '20220307', 'name': 'pH/arterial', '...</td>\n      <td>[{'imc': '3', 'anorexia': '1', 'perduaPes': '1...</td>\n      <td>[{'activitat': '3', 'estatMental': '0', 'humit...</td>\n      <td>[]</td>\n      <td>[{'valor': '143.200', 'data': '2021-09-17'}, {...</td>\n      <td>[{'codi': 'C10AA', 'dataInici': '2021-08-14 00...</td>\n      <td>[{'data': '20211216113742', 'disfagia': 'N', '...</td>\n      <td>...</td>\n      <td>107.9</td>\n      <td>11</td>\n      <td>&lt;15</td>\n      <td>143.200</td>\n      <td>131</td>\n      <td>2021-09-17</td>\n      <td>None</td>\n      <td>None</td>\n      <td>None</td>\n      <td>12.2</td>\n    </tr>\n  </tbody>\n</table>\n<p>49 rows × 78 columns</p>\n</div>"
     },
     "execution_count": 576,
     "metadata": {},
     "output_type": "execute_result"
    }
   ],
   "execution_count": 576
  },
  {
   "metadata": {},
   "cell_type": "markdown",
   "source": [
    "Ara que tinc totes les dades classificades en aquests 3 grups, començaré a analitzar el seu contingut utilitzant operacions com mitjanes i desviacions estàndard (a tot aixo se li diu descriptiva de la base de dades). També compararé els diferents grups amb el pvalor mitjançant T-test, test de Mann-Whitney o test Xi-quadrat. Els criteris que seguiré per utilitzar un test o un altre és fer un test de Shapiro-Wilk per comprovar si segueixen una distribució normal, si és així, usaré el T-test, si no, utilitzaré el de Mann-Whitney. Finalment, si la columna conté valors categòrics com és el cas del sexe (F/M), faré servir el test Xi-quadrat.\n"
   ],
   "id": "263c2b8c090f6f10"
  },
  {
   "metadata": {},
   "cell_type": "markdown",
   "source": [
    "## Nombre de pacients"
   ],
   "id": "de24374f27e143a3"
  },
  {
   "metadata": {
    "ExecuteTime": {
     "end_time": "2024-04-29T07:03:07.891833Z",
     "start_time": "2024-04-29T07:03:07.886446Z"
    }
   },
   "cell_type": "code",
   "source": [
    "num_AMB_PA = len(AMB_PA)\n",
    "num_AMB_PA_MECVV= len(AMB_PA_MECVV)\n",
    "num_SENSE_PA = len(SENSE_PA)\n",
    "\n",
    "print(num_AMB_PA, num_AMB_PA_MECVV, num_SENSE_PA)\n",
    "# TODO: Genera la frase desde el print, no la generis despres fent hard code. No sabrás mai el numero real fins la ultima proba\n",
    "# exemple: print(f\"El número de pacients en AMB_PA és de {num_AMB_PA}, en AMB_PA_MECVV és de {num_AMB_PA_MECVV} i en SENSE_PA és de {num_SENSE_PA}\")"
   ],
   "id": "b1daff0f4c5e68b3",
   "outputs": [
    {
     "name": "stdout",
     "output_type": "stream",
     "text": [
      "17 10 49\n"
     ]
    }
   ],
   "execution_count": 577
  },
  {
   "metadata": {},
   "cell_type": "markdown",
   "source": [
    "Això també es pot comprovar en observar les files que conté les taules anteriors de cada grup, on veiem que la taula de AMB_PA té 17 files, la de AMB_PA_MECV 10 i la de SENSE_PA 49. "
   ],
   "id": "8b5e025c0f62a042"
  },
  {
   "metadata": {},
   "cell_type": "markdown",
   "source": [
    "#### Pvalor"
   ],
   "id": "d1353b7869144ecd"
  },
  {
   "metadata": {},
   "cell_type": "markdown",
   "source": [
    "##### Normalitat"
   ],
   "id": "683bdd2b91f5207c"
  },
  {
   "metadata": {
    "ExecuteTime": {
     "end_time": "2024-04-29T07:03:08.831990Z",
     "start_time": "2024-04-29T07:03:08.827362Z"
    }
   },
   "cell_type": "code",
   "source": [
    "stat, p_value = shapiro(range(num_AMB_PA))\n",
    "print(f\"Estadístic W = {stat:.4f}\")\n",
    "print(f\"Valor p = {p_value:.4f}\")\n",
    "\n",
    "alpha = 0.05\n",
    "if p_value < alpha:\n",
    "    print(\"El nombre de files no segueix una distribució normal.\")\n",
    "else:\n",
    "    print(\"El nombre de files segueix una distribució normal.\")"
   ],
   "id": "743c37ce473c94f1",
   "outputs": [
    {
     "name": "stdout",
     "output_type": "stream",
     "text": [
      "Estadístic W = 0.9621\n",
      "Valor p = 0.6704\n",
      "El nombre de files segueix una distribució normal.\n"
     ]
    }
   ],
   "execution_count": 578
  },
  {
   "metadata": {
    "ExecuteTime": {
     "end_time": "2024-04-29T07:03:09.115090Z",
     "start_time": "2024-04-29T07:03:09.109628Z"
    }
   },
   "cell_type": "code",
   "source": [
    "stat, p_value = shapiro(range(num_AMB_PA_MECVV))\n",
    "print(f\"Estadístic W = {stat:.4f}\")\n",
    "print(f\"Valor p = {p_value:.4f}\")\n",
    "\n",
    "alpha = 0.05\n",
    "if p_value < alpha:\n",
    "    print(\"El nombre de files no segueix una distribució normal.\")\n",
    "else:\n",
    "    print(\"El nombre de files segueix una distribució normal.\")"
   ],
   "id": "2fae2fc31541cf19",
   "outputs": [
    {
     "name": "stdout",
     "output_type": "stream",
     "text": [
      "Estadístic W = 0.9702\n",
      "Valor p = 0.8924\n",
      "El nombre de files segueix una distribució normal.\n"
     ]
    }
   ],
   "execution_count": 579
  },
  {
   "metadata": {
    "ExecuteTime": {
     "end_time": "2024-04-29T07:03:17.022050Z",
     "start_time": "2024-04-29T07:03:17.017063Z"
    }
   },
   "cell_type": "code",
   "source": [
    "stat, p_value = shapiro(range(num_SENSE_PA))\n",
    "print(f\"Estadístic W = {stat:.4f}\")\n",
    "print(f\"Valor p = {p_value:.4f}\")\n",
    "\n",
    "alpha = 0.05\n",
    "if p_value < alpha:\n",
    "    print(\"El nombre de files no segueix una distribució normal.\")\n",
    "else:\n",
    "    print(\"El nombre de files segueix una distribució normal.\")"
   ],
   "id": "165187ea9b6df98f",
   "outputs": [
    {
     "name": "stdout",
     "output_type": "stream",
     "text": [
      "Estadístic W = 0.9556\n",
      "Valor p = 0.0626\n",
      "El nombre de files segueix una distribució normal.\n"
     ]
    }
   ],
   "execution_count": 580
  },
  {
   "metadata": {
    "ExecuteTime": {
     "end_time": "2024-04-29T07:03:17.333789Z",
     "start_time": "2024-04-29T07:03:17.325550Z"
    }
   },
   "cell_type": "code",
   "source": [
    "t_stat_12, p_val_12 = ttest_ind(AMB_PA.index, AMB_PA_MECVV.index, equal_var=False)\n",
    "print(f\"P-valor entre AMB_PA i AMB_PA_MECVV: {p_val_12:.4f}\")\n",
    "alpha = 0.05\n",
    "if p_value < alpha:\n",
    "    print(\"Existeixen diferències significatives entre els 2 grups.\")\n",
    "else:\n",
    "    print(\"No existeixen diferències significatives entre els 2 grups.\")"
   ],
   "id": "99e17be77f3b5a88",
   "outputs": [
    {
     "name": "stdout",
     "output_type": "stream",
     "text": [
      "P-valor entre AMB_PA i AMB_PA_MECVV: 0.5246\n",
      "No existeixen diferències significatives entre els 2 grups.\n"
     ]
    }
   ],
   "execution_count": 581
  },
  {
   "metadata": {
    "ExecuteTime": {
     "end_time": "2024-04-29T07:03:19.573904Z",
     "start_time": "2024-04-29T07:03:19.566762Z"
    }
   },
   "cell_type": "code",
   "source": [
    "t_stat_13, p_val_13 = ttest_ind(AMB_PA.index, SENSE_PA.index, equal_var=False)\n",
    "print(f\"P-valor entre AMB_PA i SENSE_PA: {p_val_13:.4f}\")\n",
    "alpha = 0.05\n",
    "if p_value < alpha:\n",
    "    print(\"Existeixen diferències significatives entre els 2 grups.\")\n",
    "else:\n",
    "    print(\"No existeixen diferències significatives entre els 2 grups.\")"
   ],
   "id": "e8ba9017a43c0936",
   "outputs": [
    {
     "name": "stdout",
     "output_type": "stream",
     "text": [
      "P-valor entre AMB_PA i SENSE_PA: 0.7664\n",
      "No existeixen diferències significatives entre els 2 grups.\n"
     ]
    }
   ],
   "execution_count": 582
  },
  {
   "metadata": {
    "ExecuteTime": {
     "end_time": "2024-04-29T07:03:19.815601Z",
     "start_time": "2024-04-29T07:03:19.807301Z"
    }
   },
   "cell_type": "code",
   "source": [
    "t_stat_23, p_val_23 = ttest_ind(AMB_PA_MECVV.index, SENSE_PA.index, equal_var=False)\n",
    "print(f\"P-valor entre AMB_PA_MECVV i SENSE_PA: {p_val_12:.4f}\")\n",
    "alpha = 0.05\n",
    "if p_value < alpha:\n",
    "    print(\"Existeixen diferències significatives entre els 2 grups.\")\n",
    "else:\n",
    "    print(\"No existeixen diferències significatives entre els 2 grups.\")"
   ],
   "id": "e935223f0b0d1c29",
   "outputs": [
    {
     "name": "stdout",
     "output_type": "stream",
     "text": [
      "P-valor entre AMB_PA_MECVV i SENSE_PA: 0.5246\n",
      "No existeixen diferències significatives entre els 2 grups.\n"
     ]
    }
   ],
   "execution_count": 583
  },
  {
   "metadata": {},
   "cell_type": "markdown",
   "source": [
    "## Edat"
   ],
   "id": "6dffa2bdf3f2d9b7"
  },
  {
   "metadata": {
    "ExecuteTime": {
     "end_time": "2024-04-29T07:03:20.370067Z",
     "start_time": "2024-04-29T07:03:20.363965Z"
    }
   },
   "cell_type": "code",
   "source": [
    "edad_AMB_PA = AMB_PA['edat'].mean()\n",
    "desviacion_estandar_edad = AMB_PA['edat'].std()\n",
    "\n",
    "resultado = f\"{edad_AMB_PA:.2f} ± {desviacion_estandar_edad:.2f}\"\n",
    "print(\"Mitjana ± Desviació Estàndard de l'edat:\", resultado)\n"
   ],
   "id": "41c75a84cd8aa55b",
   "outputs": [
    {
     "name": "stdout",
     "output_type": "stream",
     "text": [
      "Mitjana ± Desviació Estàndard de l'edat: 87.06 ± 8.99\n"
     ]
    }
   ],
   "execution_count": 584
  },
  {
   "metadata": {
    "ExecuteTime": {
     "end_time": "2024-04-29T07:03:20.659288Z",
     "start_time": "2024-04-29T07:03:20.653208Z"
    }
   },
   "cell_type": "code",
   "source": [
    "edad_AMB_PA_MECVV = AMB_PA_MECVV['edat'].mean()\n",
    "desviacion_estandar_edad = AMB_PA_MECVV['edat'].std()\n",
    "\n",
    "resultado = f\"{edad_AMB_PA_MECVV:.2f} ± {desviacion_estandar_edad:.2f}\"\n",
    "print(\"Mitjana ± Desviació Estàndard de l'edat:\", resultado)"
   ],
   "id": "828a733cc06db987",
   "outputs": [
    {
     "name": "stdout",
     "output_type": "stream",
     "text": [
      "Mitjana ± Desviació Estàndard de l'edat: 88.90 ± 8.67\n"
     ]
    }
   ],
   "execution_count": 585
  },
  {
   "metadata": {
    "ExecuteTime": {
     "end_time": "2024-04-29T07:03:21.173551Z",
     "start_time": "2024-04-29T07:03:21.168477Z"
    }
   },
   "cell_type": "code",
   "source": [
    "edad_SENSE_PA = SENSE_PA['edat'].mean()\n",
    "desviacion_estandar_edad = SENSE_PA['edat'].std()\n",
    "\n",
    "resultado = f\"{edad_SENSE_PA:.2f} ± {desviacion_estandar_edad:.2f}\"\n",
    "print(\"Mitjana ± Desviació Estàndard de l'edat:\", resultado)"
   ],
   "id": "a67a8021e9b1dbb4",
   "outputs": [
    {
     "name": "stdout",
     "output_type": "stream",
     "text": [
      "Mitjana ± Desviació Estàndard de l'edat: 80.12 ± 17.01\n"
     ]
    }
   ],
   "execution_count": 586
  },
  {
   "metadata": {},
   "cell_type": "markdown",
   "source": [
    "#### Pvalor"
   ],
   "id": "6ab4f09b5204e007"
  },
  {
   "metadata": {},
   "cell_type": "markdown",
   "source": [
    "##### Normalitat "
   ],
   "id": "a5114a4e26281ffb"
  },
  {
   "metadata": {
    "ExecuteTime": {
     "end_time": "2024-04-29T07:03:21.496466Z",
     "start_time": "2024-04-29T07:03:21.491465Z"
    }
   },
   "cell_type": "code",
   "source": [
    "stat, p_value = shapiro(AMB_PA['edat'])\n",
    "print(f\"Estadístic W = {stat:.4f}\")\n",
    "print(f\"Valor p = {p_value:.4f}\")\n",
    "\n",
    "alpha = 0.05\n",
    "if p_value < alpha:\n",
    "    print(\"El nombre de files no segueix una distribució normal.\")\n",
    "else:\n",
    "    print(\"El nombre de files segueix una distribució normal.\")"
   ],
   "id": "1b23f9c1a11a4962",
   "outputs": [
    {
     "name": "stdout",
     "output_type": "stream",
     "text": [
      "Estadístic W = 0.9410\n",
      "Valor p = 0.3297\n",
      "El nombre de files segueix una distribució normal.\n"
     ]
    }
   ],
   "execution_count": 587
  },
  {
   "metadata": {
    "ExecuteTime": {
     "end_time": "2024-04-29T07:03:22.016011Z",
     "start_time": "2024-04-29T07:03:22.011421Z"
    }
   },
   "cell_type": "code",
   "source": [
    "stat, p_value = shapiro(AMB_PA_MECVV['edat'])\n",
    "print(f\"Estadístic W = {stat:.4f}\")\n",
    "print(f\"Valor p = {p_value:.4f}\")\n",
    "\n",
    "alpha = 0.05\n",
    "if p_value < alpha:\n",
    "    print(\"El nombre de files no segueix una distribució normal.\")\n",
    "else:\n",
    "    print(\"El nombre de files segueix una distribució normal.\")"
   ],
   "id": "d80fee6a25604ebc",
   "outputs": [
    {
     "name": "stdout",
     "output_type": "stream",
     "text": [
      "Estadístic W = 0.9057\n",
      "Valor p = 0.2528\n",
      "El nombre de files segueix una distribució normal.\n"
     ]
    }
   ],
   "execution_count": 588
  },
  {
   "metadata": {
    "ExecuteTime": {
     "end_time": "2024-04-29T07:03:22.198458Z",
     "start_time": "2024-04-29T07:03:22.192951Z"
    }
   },
   "cell_type": "code",
   "source": [
    "stat, p_value = shapiro(SENSE_PA['edat'])\n",
    "print(f\"Estadístic W = {stat:.4f}\")\n",
    "print(f\"Valor p = {p_value:.4f}\")\n",
    "\n",
    "alpha = 0.05\n",
    "if p_value < alpha:\n",
    "    print(\"El nombre de files no segueix una distribució normal.\")\n",
    "else:\n",
    "    print(\"El nombre de files segueix una distribució normal.\")"
   ],
   "id": "755deefb570bc3ec",
   "outputs": [
    {
     "name": "stdout",
     "output_type": "stream",
     "text": [
      "Estadístic W = 0.8539\n",
      "Valor p = 0.0000\n",
      "El nombre de files no segueix una distribució normal.\n"
     ]
    }
   ],
   "execution_count": 589
  },
  {
   "metadata": {
    "ExecuteTime": {
     "end_time": "2024-04-29T07:03:22.596638Z",
     "start_time": "2024-04-29T07:03:22.590614Z"
    }
   },
   "cell_type": "code",
   "source": [
    "t_stat_12, p_val_12 = ttest_ind(AMB_PA['edat'], AMB_PA_MECVV['edat'], equal_var=False)\n",
    "print(\"P-valor entre AMB_PA i AMB_PA_MECVV:\", p_val_12)"
   ],
   "id": "29fe897576a9b6a1",
   "outputs": [
    {
     "name": "stdout",
     "output_type": "stream",
     "text": [
      "P-valor entre AMB_PA i AMB_PA_MECVV: 0.6051223082851969\n"
     ]
    }
   ],
   "execution_count": 590
  },
  {
   "metadata": {
    "ExecuteTime": {
     "end_time": "2024-04-29T07:03:22.829865Z",
     "start_time": "2024-04-29T07:03:22.824547Z"
    }
   },
   "cell_type": "code",
   "source": [
    "stat, p_value_13 = mannwhitneyu(AMB_PA['edat'], SENSE_PA['edat'], alternative='two-sided')\n",
    "print(\"P-valor entre AMB_PA i SENSE_PA\", p_value_13)"
   ],
   "id": "6718e803d0c6be72",
   "outputs": [
    {
     "name": "stdout",
     "output_type": "stream",
     "text": [
      "P-valor entre AMB_PA i SENSE_PA 0.1815160884632735\n"
     ]
    }
   ],
   "execution_count": 591
  },
  {
   "metadata": {
    "ExecuteTime": {
     "end_time": "2024-04-29T07:03:23.261841Z",
     "start_time": "2024-04-29T07:03:23.256141Z"
    }
   },
   "cell_type": "code",
   "source": [
    "stat_23, p_value_23 = mannwhitneyu(AMB_PA_MECVV['edat'], SENSE_PA['edat'], alternative='two-sided')\n",
    "print(\"P-valor entre AMB_PA_MECVV i SENSE_PA:\", p_value_23)"
   ],
   "id": "22054ca113138c47",
   "outputs": [
    {
     "name": "stdout",
     "output_type": "stream",
     "text": [
      "P-valor entre AMB_PA_MECVV i SENSE_PA: 0.11458529353557328\n"
     ]
    }
   ],
   "execution_count": 592
  },
  {
   "metadata": {},
   "cell_type": "markdown",
   "source": [
    "## Sexe"
   ],
   "id": "2e3346df121a556b"
  },
  {
   "metadata": {
    "ExecuteTime": {
     "end_time": "2024-04-29T07:03:23.494995Z",
     "start_time": "2024-04-29T07:03:23.490137Z"
    }
   },
   "cell_type": "code",
   "source": [
    "sexe_AMB_PA = AMB_PA['sexe'].value_counts()\n",
    "sexe_AMB_PA_MECVV = AMB_PA_MECVV['sexe'].value_counts()\n",
    "sexe_SENSE_PA = SENSE_PA['sexe'].value_counts()"
   ],
   "id": "5a08f966e1e21272",
   "outputs": [],
   "execution_count": 593
  },
  {
   "metadata": {
    "ExecuteTime": {
     "end_time": "2024-04-29T07:03:23.945002Z",
     "start_time": "2024-04-29T07:03:23.940546Z"
    }
   },
   "cell_type": "code",
   "source": [
    "if 'F' in sexe_AMB_PA:\n",
    "    percent_female1 = (sexe_AMB_PA['F'] / len(AMB_PA)) * 100\n",
    "    print(f\"Percentatge de sexe femení en AMB_PA: {percent_female1:.2f}%\")\n",
    "else:\n",
    "    print(\"No hi ha dades de sexe femení en AMB_PA\")"
   ],
   "id": "364e8eeea9fca3bb",
   "outputs": [
    {
     "name": "stdout",
     "output_type": "stream",
     "text": [
      "Percentatge de sexe femení en AMB_PA: 47.06%\n"
     ]
    }
   ],
   "execution_count": 594
  },
  {
   "metadata": {
    "ExecuteTime": {
     "end_time": "2024-04-29T07:03:24.099840Z",
     "start_time": "2024-04-29T07:03:24.095735Z"
    }
   },
   "cell_type": "code",
   "source": [
    "if 'F' in sexe_AMB_PA_MECVV:\n",
    "    percent_female2 = (sexe_AMB_PA_MECVV['F'] / len(AMB_PA)) * 100\n",
    "    print(f\"Percentatge de sexe femení en AMB_PA_MECVV: {percent_female1:.2f}%\")\n",
    "else:\n",
    "    print(\"No hi ha dades de sexe femení en AMB_PA_MECVV\")"
   ],
   "id": "5d2a1124b7cdd9c2",
   "outputs": [
    {
     "name": "stdout",
     "output_type": "stream",
     "text": [
      "Percentatge de sexe femení en AMB_PA_MECVV: 47.06%\n"
     ]
    }
   ],
   "execution_count": 595
  },
  {
   "metadata": {
    "ExecuteTime": {
     "end_time": "2024-04-29T07:03:24.452942Z",
     "start_time": "2024-04-29T07:03:24.448673Z"
    }
   },
   "cell_type": "code",
   "source": [
    "if 'F' in sexe_SENSE_PA:\n",
    "    percent_female3 = (sexe_SENSE_PA['F'] / len(SENSE_PA)) * 100\n",
    "    print(f\"Percentatge de sexe femení en SENSE_PA: {percent_female1:.2f}%\")\n",
    "else:\n",
    "    print(\"No hi ha dades de sexe femení en SENSE_PA\")\n"
   ],
   "id": "746275e55a2b6409",
   "outputs": [
    {
     "name": "stdout",
     "output_type": "stream",
     "text": [
      "Percentatge de sexe femení en SENSE_PA: 47.06%\n"
     ]
    }
   ],
   "execution_count": 596
  },
  {
   "metadata": {},
   "cell_type": "markdown",
   "source": [
    "#### Pvalor"
   ],
   "id": "cc6603074e3e5cc9"
  },
  {
   "metadata": {},
   "cell_type": "markdown",
   "source": [
    "##### Normalitat"
   ],
   "id": "45744dc757ae29f5"
  },
  {
   "metadata": {},
   "cell_type": "markdown",
   "source": [
    "Al ser una variable categòrica no es pot comprovar la seva normalitat. Realitzaré directament el test Xi-quadrat"
   ],
   "id": "ca8c9ca5135873ca"
  },
  {
   "metadata": {
    "ExecuteTime": {
     "end_time": "2024-04-29T07:03:24.611293Z",
     "start_time": "2024-04-29T07:03:24.600160Z"
    }
   },
   "cell_type": "code",
   "source": [
    "contingency_table_AMB_PA_AMB_PA_MECVV = pd.crosstab(index=AMB_PA['sexe'], columns=AMB_PA_MECVV['sexe'])\n",
    "\n",
    "chi2_AMB_PA_AMB_PA_MECVV, p_value_AMB_PA_AMB_PA_MECVV, dof_AMB_PA_AMB_PA_MECVV, expected_AMB_PA_AMB_PA_MECVV = chi2_contingency(contingency_table_AMB_PA_AMB_PA_MECVV)\n",
    "\n",
    "print(\"Estadístic xi-quadrat entre AMB_PA i AMB_PA_MECVV:\", chi2_AMB_PA_AMB_PA_MECVV)\n",
    "print(\"P-valor entre AMB_PA i AMB_PA_MECVV:\", p_value_AMB_PA_AMB_PA_MECVV)\n",
    "\n",
    "if p_value_AMB_PA_AMB_PA_MECVV < 0.05:\n",
    "    print(\"Hi ha diferències significatives entre les distribucions de sexe en AMB_PA i AMB_PA_MECVV.\")\n",
    "else:\n",
    "    print(\"No hi ha diferències significatives entre les distribucions de sexe en AMB_PA i AMB_PA_MECVV.\")"
   ],
   "id": "8ce2d9606227b27c",
   "outputs": [
    {
     "name": "stdout",
     "output_type": "stream",
     "text": [
      "Estadístic xi-quadrat entre AMB_PA i AMB_PA_MECVV: 2.6666666666666665\n",
      "P-valor entre AMB_PA i AMB_PA_MECVV: 0.10247043485974942\n",
      "No hi ha diferències significatives entre les distribucions de sexe en AMB_PA i AMB_PA_MECVV.\n"
     ]
    }
   ],
   "execution_count": 597
  },
  {
   "metadata": {
    "ExecuteTime": {
     "end_time": "2024-04-29T07:03:25.037971Z",
     "start_time": "2024-04-29T07:03:25.028198Z"
    }
   },
   "cell_type": "code",
   "source": [
    "contingency_table_AMB_PA_SENSE_PA = pd.crosstab(index=AMB_PA['sexe'], columns=SENSE_PA['sexe'])\n",
    "\n",
    "chi2_AMB_PA_SENSE_PA, p_value_AMB_PA_SENSE_PA, dof_AMB_PA_SENSE_PA, expected_AMB_PA_SENSE_PA = chi2_contingency(contingency_table_AMB_PA_SENSE_PA)\n",
    "\n",
    "print(\"Estadístic xi-quadrat entre AMB_PA i SENSE_PA:\", chi2_AMB_PA_SENSE_PA)\n",
    "print(\"P-valor entre AMB_PA i SENSE_PA:\", p_value_AMB_PA_SENSE_PA)\n",
    "\n",
    "if p_value_AMB_PA_SENSE_PA < 0.05:\n",
    "    print(\"Hi ha diferències significatives entre les distribucions de sexe en AMB_PA i SENSE_PA.\")\n",
    "else:\n",
    "    print(\"No hi ha diferències significatives entre les distribucions de sexe en AMB_PA i SENSE_PA.\")"
   ],
   "id": "cb24c00816f2874c",
   "outputs": [
    {
     "name": "stdout",
     "output_type": "stream",
     "text": [
      "Estadístic xi-quadrat entre AMB_PA i SENSE_PA: 13.223042052469136\n",
      "P-valor entre AMB_PA i SENSE_PA: 0.00027652843917458906\n",
      "Hi ha diferències significatives entre les distribucions de sexe en AMB_PA i SENSE_PA.\n"
     ]
    }
   ],
   "execution_count": 598
  },
  {
   "metadata": {
    "ExecuteTime": {
     "end_time": "2024-04-29T07:03:25.225250Z",
     "start_time": "2024-04-29T07:03:25.216134Z"
    }
   },
   "cell_type": "code",
   "source": [
    "contingency_table_AMB_PA_MECVV_SENSE_PA = pd.crosstab(index=AMB_PA_MECVV['sexe'], columns=SENSE_PA['sexe'])\n",
    "\n",
    "chi2_AMB_PA_MECVV_SENSE_PA, p_value_AMB_PA_MECVV_SENSE_PA, dof_AMB_PA_MECVV_SENSE_PA, expected_AMB_PA_MECVV_SENSE_PA = chi2_contingency(contingency_table_AMB_PA_MECVV_SENSE_PA)\n",
    "\n",
    "print(\"Estadístic xi-quadrat entre AMB_PA_MECVV i SENSE_PA:\", chi2_AMB_PA_MECVV_SENSE_PA)\n",
    "print(\"P-valor entre AMB_PA_MECVV i SENSE_PA:\", p_value_AMB_PA_MECVV_SENSE_PA)\n",
    "\n",
    "if p_value_AMB_PA_MECVV_SENSE_PA < 0.05:\n",
    "    print(\"Hi ha diferències significatives entre les distribucions de sexe en AMB_PA_MECVV i SENSE_PA.\")\n",
    "else:\n",
    "    print(\"No hi ha diferències significatives entre les distribucions de sexe en AMB_PA_MECVV i SENSE_PA.\")"
   ],
   "id": "483a364f11ec7b2a",
   "outputs": [
    {
     "name": "stdout",
     "output_type": "stream",
     "text": [
      "Estadístic xi-quadrat entre AMB_PA_MECVV i SENSE_PA: 6.267361111111111\n",
      "P-valor entre AMB_PA_MECVV i SENSE_PA: 0.012298217061234292\n",
      "Hi ha diferències significatives entre les distribucions de sexe en AMB_PA_MECVV i SENSE_PA.\n"
     ]
    }
   ],
   "execution_count": 599
  },
  {
   "metadata": {},
   "cell_type": "markdown",
   "source": [
    "## Ingressos (admissions)"
   ],
   "id": "7c1a4264ca854c74"
  },
  {
   "metadata": {
    "ExecuteTime": {
     "end_time": "2024-04-29T07:03:25.610587Z",
     "start_time": "2024-04-29T07:03:25.605809Z"
    }
   },
   "cell_type": "code",
   "source": [
    "promedio_ingresos = AMB_PA['Num_ingresos'].mean()\n",
    "desviacion_estandar_ingresos = AMB_PA['Num_ingresos'].std()\n",
    "\n",
    "resultado = f\"{promedio_ingresos:.2f} ± {desviacion_estandar_ingresos:.2f}\"\n",
    "print(\"Mitjana ± Desviació Estàndard del nombre d'ingressos:\", resultado)"
   ],
   "id": "77af35e4e03f23da",
   "outputs": [
    {
     "name": "stdout",
     "output_type": "stream",
     "text": [
      "Mitjana ± Desviació Estàndard del nombre d'ingressos: 5.59 ± 3.37\n"
     ]
    }
   ],
   "execution_count": 600
  },
  {
   "metadata": {
    "ExecuteTime": {
     "end_time": "2024-04-29T07:03:25.778176Z",
     "start_time": "2024-04-29T07:03:25.772647Z"
    }
   },
   "cell_type": "code",
   "source": [
    "promedio_ingresos = AMB_PA_MECVV['Num_ingresos'].mean()\n",
    "desviacion_estandar_ingresos = AMB_PA_MECVV['Num_ingresos'].std()\n",
    "\n",
    "resultado = f\"{promedio_ingresos:.2f} ± {desviacion_estandar_ingresos:.2f}\"\n",
    "print(\"Mitjana ± Desviació Estàndard del nombre d'ingressos:\", resultado)"
   ],
   "id": "d08d059cd8a8944a",
   "outputs": [
    {
     "name": "stdout",
     "output_type": "stream",
     "text": [
      "Mitjana ± Desviació Estàndard del nombre d'ingressos: 5.90 ± 2.08\n"
     ]
    }
   ],
   "execution_count": 601
  },
  {
   "metadata": {
    "ExecuteTime": {
     "end_time": "2024-04-29T07:03:26.202026Z",
     "start_time": "2024-04-29T07:03:26.196500Z"
    }
   },
   "cell_type": "code",
   "source": [
    "promedio_ingresos = SENSE_PA['Num_ingresos'].mean()\n",
    "desviacion_estandar_ingresos = SENSE_PA['Num_ingresos'].std()\n",
    "\n",
    "resultado = f\"{promedio_ingresos:.2f} ± {desviacion_estandar_ingresos:.2f}\"\n",
    "print(\"Mitjana ± Desviació Estàndard del nombre d'ingressos:\", resultado)"
   ],
   "id": "b0470d00ca90048b",
   "outputs": [
    {
     "name": "stdout",
     "output_type": "stream",
     "text": [
      "Mitjana ± Desviació Estàndard del nombre d'ingressos: 6.69 ± 5.13\n"
     ]
    }
   ],
   "execution_count": 602
  },
  {
   "metadata": {},
   "cell_type": "markdown",
   "source": [
    "#### Pvalor"
   ],
   "id": "ac26e96d348c2e2"
  },
  {
   "metadata": {},
   "cell_type": "markdown",
   "source": [
    "##### Normalitat"
   ],
   "id": "840db79f54c49b40"
  },
  {
   "metadata": {
    "ExecuteTime": {
     "end_time": "2024-04-29T07:03:26.382196Z",
     "start_time": "2024-04-29T07:03:26.377639Z"
    }
   },
   "cell_type": "code",
   "source": [
    "stat, p_value = shapiro(AMB_PA['Num_ingresos'])\n",
    "print(f\"Estadístic W = {stat:.4f}\")\n",
    "print(f\"Valor p = {p_value:.4f}\")\n",
    "\n",
    "alpha = 0.05\n",
    "if p_value < alpha:\n",
    "    print(\"El nombre de files no segueix una distribució normal.\")\n",
    "else:\n",
    "    print(\"El nombre de files segueix una distribució normal.\")"
   ],
   "id": "549e8f1ce3e357e6",
   "outputs": [
    {
     "name": "stdout",
     "output_type": "stream",
     "text": [
      "Estadístic W = 0.8008\n",
      "Valor p = 0.0021\n",
      "El nombre de files no segueix una distribució normal.\n"
     ]
    }
   ],
   "execution_count": 603
  },
  {
   "metadata": {
    "ExecuteTime": {
     "end_time": "2024-04-29T07:03:26.831551Z",
     "start_time": "2024-04-29T07:03:26.826050Z"
    }
   },
   "cell_type": "code",
   "source": [
    "stat, p_value = shapiro(AMB_PA_MECVV['Num_ingresos'])\n",
    "print(f\"Estadístic W = {stat:.4f}\")\n",
    "print(f\"Valor p = {p_value:.4f}\")\n",
    "\n",
    "alpha = 0.05\n",
    "if p_value < alpha:\n",
    "    print(\"El nombre de files no segueix una distribució normal.\")\n",
    "else:\n",
    "    print(\"El nombre de files segueix una distribució normal.\")"
   ],
   "id": "cf0ae5ced6e0b73a",
   "outputs": [
    {
     "name": "stdout",
     "output_type": "stream",
     "text": [
      "Estadístic W = 0.9558\n",
      "Valor p = 0.7376\n",
      "El nombre de files segueix una distribució normal.\n"
     ]
    }
   ],
   "execution_count": 604
  },
  {
   "metadata": {
    "ExecuteTime": {
     "end_time": "2024-04-29T07:03:26.990080Z",
     "start_time": "2024-04-29T07:03:26.983818Z"
    }
   },
   "cell_type": "code",
   "source": [
    "stat, p_value = shapiro(SENSE_PA['Num_ingresos'])\n",
    "print(f\"Estadístic W = {stat:.4f}\")\n",
    "print(f\"Valor p = {p_value:.4f}\")\n",
    "\n",
    "alpha = 0.05\n",
    "if p_value < alpha:\n",
    "    print(\"El nombre de files no segueix una distribució normal.\")\n",
    "else:\n",
    "    print(\"El nombre de files segueix una distribució normal.\")"
   ],
   "id": "f1d9d97215665bd8",
   "outputs": [
    {
     "name": "stdout",
     "output_type": "stream",
     "text": [
      "Estadístic W = 0.7277\n",
      "Valor p = 0.0000\n",
      "El nombre de files no segueix una distribució normal.\n"
     ]
    }
   ],
   "execution_count": 605
  },
  {
   "metadata": {
    "ExecuteTime": {
     "end_time": "2024-04-29T07:03:27.415496Z",
     "start_time": "2024-04-29T07:03:27.410201Z"
    }
   },
   "cell_type": "code",
   "source": [
    "stat, p_value_12 = mannwhitneyu(AMB_PA['Num_ingresos'], AMB_PA_MECVV['Num_ingresos'], alternative='two-sided')\n",
    "print(\"P-valor entre AMB_PA i AMB_PA_MECVV\", p_value_12)"
   ],
   "id": "e1a40734a30212e5",
   "outputs": [
    {
     "name": "stdout",
     "output_type": "stream",
     "text": [
      "P-valor entre AMB_PA i AMB_PA_MECVV 0.3599581940859352\n"
     ]
    }
   ],
   "execution_count": 606
  },
  {
   "metadata": {
    "ExecuteTime": {
     "end_time": "2024-04-29T07:03:27.600379Z",
     "start_time": "2024-04-29T07:03:27.594816Z"
    }
   },
   "cell_type": "code",
   "source": [
    "stat, p_value_13 = mannwhitneyu(AMB_PA['Num_ingresos'], SENSE_PA['Num_ingresos'], alternative='two-sided')\n",
    "print(\"P-valor entre AMB_PA i SENSE_PA\", p_value_13)"
   ],
   "id": "f2655db5e10960da",
   "outputs": [
    {
     "name": "stdout",
     "output_type": "stream",
     "text": [
      "P-valor entre AMB_PA i SENSE_PA 0.514931142191354\n"
     ]
    }
   ],
   "execution_count": 607
  },
  {
   "metadata": {
    "ExecuteTime": {
     "end_time": "2024-04-29T07:03:28.135004Z",
     "start_time": "2024-04-29T07:03:28.128463Z"
    }
   },
   "cell_type": "code",
   "source": [
    "stat, p_value_23 = mannwhitneyu(AMB_PA_MECVV['Num_ingresos'], SENSE_PA['Num_ingresos'], alternative='two-sided')\n",
    "print(\"P-valor entre AMB_PA_MECVV i SENSE_PA\", p_value_23)"
   ],
   "id": "b130ccb4c5b7e332",
   "outputs": [
    {
     "name": "stdout",
     "output_type": "stream",
     "text": [
      "P-valor entre AMB_PA_MECVV i SENSE_PA 0.7831397976578486\n"
     ]
    }
   ],
   "execution_count": 608
  },
  {
   "metadata": {},
   "cell_type": "markdown",
   "source": [
    "## Disfàgia"
   ],
   "id": "d46472f25d1ea9ab"
  },
  {
   "metadata": {
    "ExecuteTime": {
     "end_time": "2024-04-29T07:03:28.683836Z",
     "start_time": "2024-04-29T07:03:28.677423Z"
    }
   },
   "cell_type": "code",
   "source": [
    "disf_AMB_PA= (AMB_PA['DO_diagnosticada'] == 1.0).mean() * 100\n",
    "print(f\"Percentatge de disfàgia: {disf_AMB_PA:.2f}%\")"
   ],
   "id": "1158733fe7259d75",
   "outputs": [
    {
     "name": "stdout",
     "output_type": "stream",
     "text": [
      "Percentatge de disfàgia: 47.06%\n"
     ]
    }
   ],
   "execution_count": 609
  },
  {
   "metadata": {
    "ExecuteTime": {
     "end_time": "2024-04-29T07:03:29.308006Z",
     "start_time": "2024-04-29T07:03:29.301008Z"
    }
   },
   "cell_type": "code",
   "source": [
    "disf_AMB_PA_MECVV = (AMB_PA_MECVV['DO_diagnosticada'] == 1.0).mean() * 100\n",
    "print(f\"Percentatge de disfàgia: {disf_AMB_PA_MECVV:.2f}%\")"
   ],
   "id": "4105ce4e231d0853",
   "outputs": [
    {
     "name": "stdout",
     "output_type": "stream",
     "text": [
      "Percentatge de disfàgia: 30.00%\n"
     ]
    }
   ],
   "execution_count": 610
  },
  {
   "metadata": {
    "ExecuteTime": {
     "end_time": "2024-04-29T07:03:29.713762Z",
     "start_time": "2024-04-29T07:03:29.708719Z"
    }
   },
   "cell_type": "code",
   "source": [
    "disf_SENSE_PA= (SENSE_PA['DO_diagnosticada'] == 1.0).mean() * 100\n",
    "print(f\"Percentatge de disfàgia: {disf_SENSE_PA:.2f}%\")"
   ],
   "id": "66a1da5f6068ce03",
   "outputs": [
    {
     "name": "stdout",
     "output_type": "stream",
     "text": [
      "Percentatge de disfàgia: 18.37%\n"
     ]
    }
   ],
   "execution_count": 611
  },
  {
   "metadata": {},
   "cell_type": "markdown",
   "source": [
    "#### Pvalor"
   ],
   "id": "b7f1a5636f342b1b"
  },
  {
   "metadata": {},
   "cell_type": "markdown",
   "source": [
    "##### Normalitat"
   ],
   "id": "b9bb9679799a910b"
  },
  {
   "metadata": {
    "ExecuteTime": {
     "end_time": "2024-04-29T07:03:30.054945Z",
     "start_time": "2024-04-29T07:03:30.048325Z"
    }
   },
   "cell_type": "code",
   "source": [
    "stat, p_value = shapiro(AMB_PA['DO_diagnosticada'])\n",
    "print(f\"Estadístic W = {stat:.4f}\")\n",
    "print(f\"Valor p = {p_value:.4f}\")\n",
    "\n",
    "alpha = 0.05\n",
    "if p_value < alpha:\n",
    "    print(\"El nombre de files no segueix una distribució normal.\")\n",
    "else:\n",
    "    print(\"El nombre de files segueix una distribució normal.\")"
   ],
   "id": "9068d0a097618db2",
   "outputs": [
    {
     "name": "stdout",
     "output_type": "stream",
     "text": [
      "Estadístic W = 0.6418\n",
      "Valor p = 0.0000\n",
      "El nombre de files no segueix una distribució normal.\n"
     ]
    }
   ],
   "execution_count": 612
  },
  {
   "metadata": {
    "ExecuteTime": {
     "end_time": "2024-04-29T07:03:30.412552Z",
     "start_time": "2024-04-29T07:03:30.407162Z"
    }
   },
   "cell_type": "code",
   "source": [
    "stat, p_value = shapiro(AMB_PA_MECVV['DO_diagnosticada'])\n",
    "print(f\"Estadístic W = {stat:.4f}\")\n",
    "print(f\"Valor p = {p_value:.4f}\")\n",
    "\n",
    "alpha = 0.05\n",
    "if p_value < alpha:\n",
    "    print(\"El nombre de files no segueix una distribució normal.\")\n",
    "else:\n",
    "    print(\"El nombre de files segueix una distribució normal.\")"
   ],
   "id": "511e7760f8696524",
   "outputs": [
    {
     "name": "stdout",
     "output_type": "stream",
     "text": [
      "Estadístic W = 0.5942\n",
      "Valor p = 0.0000\n",
      "El nombre de files no segueix una distribució normal.\n"
     ]
    }
   ],
   "execution_count": 613
  },
  {
   "metadata": {
    "ExecuteTime": {
     "end_time": "2024-04-29T07:03:30.720826Z",
     "start_time": "2024-04-29T07:03:30.716089Z"
    }
   },
   "cell_type": "code",
   "source": [
    "stat, p_value = shapiro(SENSE_PA['DO_diagnosticada'])\n",
    "print(f\"Estadístic W = {stat:.4f}\")\n",
    "print(f\"Valor p = {p_value:.4f}\")\n",
    "\n",
    "alpha = 0.05\n",
    "if p_value < alpha:\n",
    "    print(\"El nombre de files no segueix una distribució normal.\")\n",
    "else:\n",
    "    print(\"El nombre de files segueix una distribució normal.\")"
   ],
   "id": "e8b5dab7a1b4a308",
   "outputs": [
    {
     "name": "stdout",
     "output_type": "stream",
     "text": [
      "Estadístic W = 0.4716\n",
      "Valor p = 0.0000\n",
      "El nombre de files no segueix una distribució normal.\n"
     ]
    }
   ],
   "execution_count": 614
  },
  {
   "metadata": {
    "ExecuteTime": {
     "end_time": "2024-04-29T07:03:31.055286Z",
     "start_time": "2024-04-29T07:03:31.049154Z"
    }
   },
   "cell_type": "code",
   "source": [
    "stat, p_value_12 = mannwhitneyu(AMB_PA['DO_diagnosticada'], AMB_PA_MECVV['DO_diagnosticada'], alternative='two-sided')\n",
    "print(\"P-valor entre AMB_PA i AMB_PA_MECVV\", p_value_12)"
   ],
   "id": "b7250148750bd0ec",
   "outputs": [
    {
     "name": "stdout",
     "output_type": "stream",
     "text": [
      "P-valor entre AMB_PA i AMB_PA_MECVV 0.40914513229166993\n"
     ]
    }
   ],
   "execution_count": 615
  },
  {
   "metadata": {
    "ExecuteTime": {
     "end_time": "2024-04-29T07:03:31.347929Z",
     "start_time": "2024-04-29T07:03:31.342084Z"
    }
   },
   "cell_type": "code",
   "source": [
    "stat, p_value_13 = mannwhitneyu(AMB_PA['DO_diagnosticada'], SENSE_PA['DO_diagnosticada'], alternative='two-sided')\n",
    "print(\"P-valor entre AMB_PA i SENSE_PA\", p_value_13)"
   ],
   "id": "18de486110d234f4",
   "outputs": [
    {
     "name": "stdout",
     "output_type": "stream",
     "text": [
      "P-valor entre AMB_PA i SENSE_PA 0.02125060274444335\n"
     ]
    }
   ],
   "execution_count": 616
  },
  {
   "metadata": {
    "ExecuteTime": {
     "end_time": "2024-04-29T07:03:31.716417Z",
     "start_time": "2024-04-29T07:03:31.711231Z"
    }
   },
   "cell_type": "code",
   "source": [
    "stat, p_value_23 = mannwhitneyu(AMB_PA_MECVV['DO_diagnosticada'], SENSE_PA['DO_diagnosticada'], alternative='two-sided')\n",
    "print(\"P-valor entre AMB_PA_MECVV i SENSE_PA\", p_value_23)"
   ],
   "id": "508340d7a6fb917d",
   "outputs": [
    {
     "name": "stdout",
     "output_type": "stream",
     "text": [
      "P-valor entre AMB_PA_MECVV i SENSE_PA 0.4172116903428992\n"
     ]
    }
   ],
   "execution_count": 617
  },
  {
   "metadata": {},
   "cell_type": "markdown",
   "source": [
    "## Index de Barthel"
   ],
   "id": "dc8734cc141432b0"
  },
  {
   "metadata": {},
   "cell_type": "markdown",
   "source": [
    "### Promedio"
   ],
   "id": "bfed47df31e7bb8"
  },
  {
   "metadata": {
    "ExecuteTime": {
     "end_time": "2024-04-29T07:03:32.006418Z",
     "start_time": "2024-04-29T07:03:32.002093Z"
    }
   },
   "cell_type": "code",
   "source": [
    "promedio_barthel = AMB_PA['Barthel_resultados'].mean()\n",
    "desviacion_estandar_barthel = AMB_PA['Barthel_resultados'].std()\n",
    "\n",
    "resultado = f\"{promedio_barthel:.2f} ± {desviacion_estandar_barthel:.2f}\"\n",
    "print(\"Mitjana ± Desviació Estàndard del Barthel:\", resultado)"
   ],
   "id": "8638758d3ff1fd2b",
   "outputs": [
    {
     "name": "stdout",
     "output_type": "stream",
     "text": [
      "Mitjana ± Desviació Estàndard del Barthel: 22.65 ± 24.63\n"
     ]
    }
   ],
   "execution_count": 618
  },
  {
   "metadata": {
    "ExecuteTime": {
     "end_time": "2024-04-29T07:03:32.457540Z",
     "start_time": "2024-04-29T07:03:32.452378Z"
    }
   },
   "cell_type": "code",
   "source": [
    "promedio_barthel = AMB_PA_MECVV['Barthel_resultados'].mean()\n",
    "desviacion_estandar_barthel = AMB_PA_MECVV['Barthel_resultados'].std()\n",
    "\n",
    "resultado = f\"{promedio_barthel:.2f} ± {desviacion_estandar_barthel:.2f}\"\n",
    "print(\"Mitjana ± Desviació Estàndard del Barthel:\", resultado)"
   ],
   "id": "fa78d7ab6c24f658",
   "outputs": [
    {
     "name": "stdout",
     "output_type": "stream",
     "text": [
      "Mitjana ± Desviació Estàndard del Barthel: 28.50 ± 22.24\n"
     ]
    }
   ],
   "execution_count": 619
  },
  {
   "metadata": {
    "ExecuteTime": {
     "end_time": "2024-04-29T07:03:32.797913Z",
     "start_time": "2024-04-29T07:03:32.792420Z"
    }
   },
   "cell_type": "code",
   "source": [
    "promedio_barthel = SENSE_PA['Barthel_resultados'].mean()\n",
    "desviacion_estandar_barthel = SENSE_PA['Barthel_resultados'].std()\n",
    "\n",
    "resultado = f\"{promedio_barthel:.2f} ± {desviacion_estandar_barthel:.2f}\"\n",
    "print(\"Mitjana ± Desviació Estàndard del Barthel:\", resultado)"
   ],
   "id": "47d02b3ef2886135",
   "outputs": [
    {
     "name": "stdout",
     "output_type": "stream",
     "text": [
      "Mitjana ± Desviació Estàndard del Barthel: 48.88 ± 37.42\n"
     ]
    }
   ],
   "execution_count": 620
  },
  {
   "metadata": {},
   "cell_type": "markdown",
   "source": [
    "#### Pvalor"
   ],
   "id": "1ac5ed3b04b339da"
  },
  {
   "metadata": {},
   "cell_type": "markdown",
   "source": [
    "##### Normalitat"
   ],
   "id": "a65d29ed7addb2c2"
  },
  {
   "metadata": {
    "ExecuteTime": {
     "end_time": "2024-04-29T07:03:33.222569Z",
     "start_time": "2024-04-29T07:03:33.216825Z"
    }
   },
   "cell_type": "code",
   "source": [
    "stat, p_value = shapiro(AMB_PA['Barthel_resultados'])\n",
    "print(f\"Estadístic W = {stat:.4f}\")\n",
    "print(f\"Valor p = {p_value:.4f}\")\n",
    "\n",
    "alpha = 0.05\n",
    "if p_value < alpha:\n",
    "    print(\"El nombre de files no segueix una distribució normal.\")\n",
    "else:\n",
    "    print(\"El nombre de files segueix una distribució normal.\")"
   ],
   "id": "dd1f4211e230b65e",
   "outputs": [
    {
     "name": "stdout",
     "output_type": "stream",
     "text": [
      "Estadístic W = 0.8517\n",
      "Valor p = 0.0114\n",
      "El nombre de files no segueix una distribució normal.\n"
     ]
    }
   ],
   "execution_count": 621
  },
  {
   "metadata": {
    "ExecuteTime": {
     "end_time": "2024-04-29T07:03:33.543879Z",
     "start_time": "2024-04-29T07:03:33.538923Z"
    }
   },
   "cell_type": "code",
   "source": [
    "stat, p_value = shapiro(AMB_PA_MECVV['Barthel_resultados'])\n",
    "print(f\"Estadístic W = {stat:.4f}\")\n",
    "print(f\"Valor p = {p_value:.4f}\")\n",
    "\n",
    "alpha = 0.05\n",
    "if p_value < alpha:\n",
    "    print(\"El nombre de files no segueix una distribució normal.\")\n",
    "else:\n",
    "    print(\"El nombre de files segueix una distribució normal.\")"
   ],
   "id": "5b55e8e8f36f2812",
   "outputs": [
    {
     "name": "stdout",
     "output_type": "stream",
     "text": [
      "Estadístic W = 0.9138\n",
      "Valor p = 0.3083\n",
      "El nombre de files segueix una distribució normal.\n"
     ]
    }
   ],
   "execution_count": 622
  },
  {
   "metadata": {
    "ExecuteTime": {
     "end_time": "2024-04-29T07:03:33.892163Z",
     "start_time": "2024-04-29T07:03:33.887146Z"
    }
   },
   "cell_type": "code",
   "source": [
    "stat, p_value = shapiro(SENSE_PA['Barthel_resultados'])\n",
    "print(f\"Estadístic W = {stat:.4f}\")\n",
    "print(f\"Valor p = {p_value:.4f}\")\n",
    "\n",
    "alpha = 0.05\n",
    "if p_value < alpha:\n",
    "    print(\"El nombre de files no segueix una distribució normal.\")\n",
    "else:\n",
    "    print(\"El nombre de files segueix una distribució normal.\")"
   ],
   "id": "e0ef6492ee374145",
   "outputs": [
    {
     "name": "stdout",
     "output_type": "stream",
     "text": [
      "Estadístic W = 0.8858\n",
      "Valor p = 0.0002\n",
      "El nombre de files no segueix una distribució normal.\n"
     ]
    }
   ],
   "execution_count": 623
  },
  {
   "metadata": {
    "ExecuteTime": {
     "end_time": "2024-04-29T07:03:34.186604Z",
     "start_time": "2024-04-29T07:03:34.181293Z"
    }
   },
   "cell_type": "code",
   "source": [
    "stat, p_value_12 = mannwhitneyu(AMB_PA['Barthel_resultados'], AMB_PA_MECVV['Barthel_resultados'], alternative='two-sided')\n",
    "print(\"P-valor entre AMB_PA i AMB_PA_MECVV\", p_value_12)"
   ],
   "id": "cd7ea4badfff9b7a",
   "outputs": [
    {
     "name": "stdout",
     "output_type": "stream",
     "text": [
      "P-valor entre AMB_PA i AMB_PA_MECVV 0.41631085084208264\n"
     ]
    }
   ],
   "execution_count": 624
  },
  {
   "metadata": {
    "ExecuteTime": {
     "end_time": "2024-04-29T07:03:34.479223Z",
     "start_time": "2024-04-29T07:03:34.473976Z"
    }
   },
   "cell_type": "code",
   "source": [
    "stat, p_value_13 = mannwhitneyu(AMB_PA['Barthel_resultados'], SENSE_PA['Barthel_resultados'], alternative='two-sided')\n",
    "print(\"P-valor entre AMB_PA i SENSE_PA\", p_value_13)"
   ],
   "id": "6942ed62019c90c6",
   "outputs": [
    {
     "name": "stdout",
     "output_type": "stream",
     "text": [
      "P-valor entre AMB_PA i SENSE_PA 0.012373091641540783\n"
     ]
    }
   ],
   "execution_count": 625
  },
  {
   "metadata": {
    "ExecuteTime": {
     "end_time": "2024-04-29T07:03:34.777318Z",
     "start_time": "2024-04-29T07:03:34.772651Z"
    }
   },
   "cell_type": "code",
   "source": [
    "stat, p_value_23 = mannwhitneyu(AMB_PA_MECVV['Barthel_resultados'], SENSE_PA['Barthel_resultados'], alternative='two-sided')\n",
    "print(\"P-valor entre AMB_PA_MECVV i SENSE_PA\", p_value_23)"
   ],
   "id": "2c199b4f90f82e91",
   "outputs": [
    {
     "name": "stdout",
     "output_type": "stream",
     "text": [
      "P-valor entre AMB_PA_MECVV i SENSE_PA 0.13803563369050034\n"
     ]
    }
   ],
   "execution_count": 626
  },
  {
   "metadata": {},
   "cell_type": "markdown",
   "source": [
    "### Valors de dependència"
   ],
   "id": "26c7b917da1f3f22"
  },
  {
   "metadata": {},
   "cell_type": "markdown",
   "source": [
    "##### AMB_PA"
   ],
   "id": "c5f7ee6744b89d84"
  },
  {
   "metadata": {
    "ExecuteTime": {
     "end_time": "2024-04-29T07:03:35.289550Z",
     "start_time": "2024-04-29T07:03:35.285130Z"
    }
   },
   "cell_type": "code",
   "source": [
    "indepe_AMB_PA = (AMB_PA['Barthel_resultados'] == 100.0).mean() * 100\n",
    "print(f\"Percentatge de indepe_AMB_PA: {indepe_AMB_PA:.2f}%\")"
   ],
   "id": "bd4eaba9b577b15b",
   "outputs": [
    {
     "name": "stdout",
     "output_type": "stream",
     "text": [
      "Percentatge de indepe_AMB_PA: 0.00%\n"
     ]
    }
   ],
   "execution_count": 627
  },
  {
   "metadata": {
    "ExecuteTime": {
     "end_time": "2024-04-29T07:03:35.630615Z",
     "start_time": "2024-04-29T07:03:35.626242Z"
    }
   },
   "cell_type": "code",
   "source": [
    "mod_AMB_PA = (AMB_PA['Barthel_resultados'].between(61, 95)).mean() * 100\n",
    "print(f\"Percentatge de mod_AMB_PA: {mod_AMB_PA:.2f}%\")"
   ],
   "id": "4fb1d19906f59b5a",
   "outputs": [
    {
     "name": "stdout",
     "output_type": "stream",
     "text": [
      "Percentatge de mod_AMB_PA: 5.88%\n"
     ]
    }
   ],
   "execution_count": 628
  },
  {
   "metadata": {
    "ExecuteTime": {
     "end_time": "2024-04-29T07:03:36.070020Z",
     "start_time": "2024-04-29T07:03:36.063662Z"
    }
   },
   "cell_type": "code",
   "source": [
    "sev_AMB_PA = (AMB_PA['Barthel_resultados'].between(21, 60)).mean() * 100\n",
    "print(f\"Percentatge de sev_AMB_PA: {sev_AMB_PA:.2f}%\")"
   ],
   "id": "d9304c0cc424b57",
   "outputs": [
    {
     "name": "stdout",
     "output_type": "stream",
     "text": [
      "Percentatge de sev_AMB_PA: 41.18%\n"
     ]
    }
   ],
   "execution_count": 629
  },
  {
   "metadata": {
    "ExecuteTime": {
     "end_time": "2024-04-29T07:03:36.421757Z",
     "start_time": "2024-04-29T07:03:36.416853Z"
    }
   },
   "cell_type": "code",
   "source": [
    "total_AMB_PA = (AMB_PA['Barthel_resultados'] <= 20.0 ).mean() * 100\n",
    "print(f\"Percentatge de total_AMB_PA: {total_AMB_PA:.2f}%\")"
   ],
   "id": "6910486fc7c29e8c",
   "outputs": [
    {
     "name": "stdout",
     "output_type": "stream",
     "text": [
      "Percentatge de total_AMB_PA: 52.94%\n"
     ]
    }
   ],
   "execution_count": 630
  },
  {
   "metadata": {},
   "cell_type": "markdown",
   "source": [
    "##### AMB_PA_MECVV"
   ],
   "id": "c71049641e1172f4"
  },
  {
   "metadata": {
    "ExecuteTime": {
     "end_time": "2024-04-29T07:03:36.765634Z",
     "start_time": "2024-04-29T07:03:36.761523Z"
    }
   },
   "cell_type": "code",
   "source": [
    "indepe_AMB_PA_MECVV = (AMB_PA_MECVV['Barthel_resultados'] == 100.0).mean() * 100\n",
    "print(f\"Percentatge de indepe_AMB_PA_MECVV: {indepe_AMB_PA_MECVV:.2f}%\")"
   ],
   "id": "6674786f0109e84b",
   "outputs": [
    {
     "name": "stdout",
     "output_type": "stream",
     "text": [
      "Percentatge de indepe_AMB_PA_MECVV: 0.00%\n"
     ]
    }
   ],
   "execution_count": 631
  },
  {
   "metadata": {
    "ExecuteTime": {
     "end_time": "2024-04-29T07:03:37.030062Z",
     "start_time": "2024-04-29T07:03:37.024946Z"
    }
   },
   "cell_type": "code",
   "source": [
    "mod_AMB_PA_MECVV = (AMB_PA_MECVV['Barthel_resultados'].between(61,95)).mean() * 100\n",
    "print(f\"Percentatge de mod_AMB_PA_MECVV: {mod_AMB_PA_MECVV:.2f}%\")"
   ],
   "id": "cc081239fd51856",
   "outputs": [
    {
     "name": "stdout",
     "output_type": "stream",
     "text": [
      "Percentatge de mod_AMB_PA_MECVV: 0.00%\n"
     ]
    }
   ],
   "execution_count": 632
  },
  {
   "metadata": {
    "ExecuteTime": {
     "end_time": "2024-04-29T07:03:37.440174Z",
     "start_time": "2024-04-29T07:03:37.435929Z"
    }
   },
   "cell_type": "code",
   "source": [
    "sev_AMB_PA_MECVV = (AMB_PA_MECVV['Barthel_resultados'].between(21,60)).mean() * 100\n",
    "print(f\"Percentatge de sev_AMB_PA_MECVV: {sev_AMB_PA_MECVV:.2f}%\")"
   ],
   "id": "a9e4a48bad4a68ee",
   "outputs": [
    {
     "name": "stdout",
     "output_type": "stream",
     "text": [
      "Percentatge de sev_AMB_PA_MECVV: 60.00%\n"
     ]
    }
   ],
   "execution_count": 633
  },
  {
   "metadata": {
    "ExecuteTime": {
     "end_time": "2024-04-29T07:03:37.666185Z",
     "start_time": "2024-04-29T07:03:37.661653Z"
    }
   },
   "cell_type": "code",
   "source": [
    "total_AMB_PA_MECVV = (AMB_PA_MECVV['Barthel_resultados'] <= 20.0).mean() * 100\n",
    "print(f\"Percentatge de total_AMB_PA_MECVV: {total_AMB_PA_MECVV:.2f}%\")"
   ],
   "id": "9125c459a4b83c25",
   "outputs": [
    {
     "name": "stdout",
     "output_type": "stream",
     "text": [
      "Percentatge de total_AMB_PA_MECVV: 40.00%\n"
     ]
    }
   ],
   "execution_count": 634
  },
  {
   "metadata": {},
   "cell_type": "markdown",
   "source": [
    "##### SENSE_PA"
   ],
   "id": "3c5b6af1cef898a8"
  },
  {
   "metadata": {
    "ExecuteTime": {
     "end_time": "2024-04-29T07:03:38.086252Z",
     "start_time": "2024-04-29T07:03:38.080907Z"
    }
   },
   "cell_type": "code",
   "source": [
    "indepe_SENSE_PA = (SENSE_PA['Barthel_resultados'] == 100.0).mean() * 100\n",
    "print(f\"Percentatge de indepe_SENSE_PA: {indepe_SENSE_PA:.2f}%\")"
   ],
   "id": "d6514f8eb77e3656",
   "outputs": [
    {
     "name": "stdout",
     "output_type": "stream",
     "text": [
      "Percentatge de indepe_SENSE_PA: 20.41%\n"
     ]
    }
   ],
   "execution_count": 635
  },
  {
   "metadata": {
    "ExecuteTime": {
     "end_time": "2024-04-29T07:03:38.330314Z",
     "start_time": "2024-04-29T07:03:38.326029Z"
    }
   },
   "cell_type": "code",
   "source": [
    "mod_SENSE_PA = (SENSE_PA['Barthel_resultados'].between(61,95)).mean() * 100\n",
    "print(f\"Percentatge de mod_SENSE_PA: {mod_SENSE_PA:.2f}%\")"
   ],
   "id": "6c3c3065602238a3",
   "outputs": [
    {
     "name": "stdout",
     "output_type": "stream",
     "text": [
      "Percentatge de mod_SENSE_PA: 18.37%\n"
     ]
    }
   ],
   "execution_count": 636
  },
  {
   "metadata": {
    "ExecuteTime": {
     "end_time": "2024-04-29T07:03:38.769788Z",
     "start_time": "2024-04-29T07:03:38.765763Z"
    }
   },
   "cell_type": "code",
   "source": [
    "sev_SENSE_PA = (SENSE_PA['Barthel_resultados'].between(21,60)).mean() * 100\n",
    "print(f\"Percentatge de sev_SENSE_PA: {sev_SENSE_PA:.2f}%\")"
   ],
   "id": "9607e237feb8ad65",
   "outputs": [
    {
     "name": "stdout",
     "output_type": "stream",
     "text": [
      "Percentatge de sev_SENSE_PA: 28.57%\n"
     ]
    }
   ],
   "execution_count": 637
  },
  {
   "metadata": {
    "ExecuteTime": {
     "end_time": "2024-04-29T07:03:38.993526Z",
     "start_time": "2024-04-29T07:03:38.988481Z"
    }
   },
   "cell_type": "code",
   "source": [
    "total_SENSE_PA = (SENSE_PA['Barthel_resultados'] <= 20).mean() * 100\n",
    "print(f\"Percentatge de total_SENSE_PA: {total_SENSE_PA:.2f}%\")"
   ],
   "id": "be742afa35213a6f",
   "outputs": [
    {
     "name": "stdout",
     "output_type": "stream",
     "text": [
      "Percentatge de total_SENSE_PA: 32.65%\n"
     ]
    }
   ],
   "execution_count": 638
  },
  {
   "metadata": {},
   "cell_type": "markdown",
   "source": [
    "#### Pvalor"
   ],
   "id": "5d7114bf6d7143b9"
  },
  {
   "metadata": {},
   "cell_type": "markdown",
   "source": [
    "##### Independència"
   ],
   "id": "99941840d95ccd6"
  },
  {
   "metadata": {
    "ExecuteTime": {
     "end_time": "2024-04-29T07:03:39.393351Z",
     "start_time": "2024-04-29T07:03:39.388012Z"
    }
   },
   "cell_type": "code",
   "source": [
    "stat_12, p_value_12 = mannwhitneyu(AMB_PA['Barthel_resultados'] == 100.0, AMB_PA_MECVV['Barthel_resultados'] == 100.0, alternative='two-sided')\n",
    "print(\"P-valor entre indepe_AMB_PA i indepe_AMB_PA_MECVV:\", p_value_12)"
   ],
   "id": "1fc9a4202863cab2",
   "outputs": [
    {
     "name": "stdout",
     "output_type": "stream",
     "text": [
      "P-valor entre indepe_AMB_PA i indepe_AMB_PA_MECVV: 1.0\n"
     ]
    }
   ],
   "execution_count": 639
  },
  {
   "metadata": {
    "ExecuteTime": {
     "end_time": "2024-04-29T07:03:39.630910Z",
     "start_time": "2024-04-29T07:03:39.625162Z"
    }
   },
   "cell_type": "code",
   "source": [
    "stat_13, p_value_13 = mannwhitneyu(AMB_PA['Barthel_resultados'] == 100.0, SENSE_PA['Barthel_resultados'] == 100.0, alternative='two-sided')\n",
    "print(\"P-valor entre indepe_AMB_PA i indepe_SENSE_PA:\", p_value_13)"
   ],
   "id": "53f70691fc93885b",
   "outputs": [
    {
     "name": "stdout",
     "output_type": "stream",
     "text": [
      "P-valor entre indepe_AMB_PA i indepe_SENSE_PA: 0.04605091215969595\n"
     ]
    }
   ],
   "execution_count": 640
  },
  {
   "metadata": {
    "ExecuteTime": {
     "end_time": "2024-04-29T07:03:40.033820Z",
     "start_time": "2024-04-29T07:03:40.027422Z"
    }
   },
   "cell_type": "code",
   "source": [
    "stat_23, p_val_23 = ttest_ind(AMB_PA_MECVV['Barthel_resultados'] == 100.0, SENSE_PA['Barthel_resultados'] == 100.0, equal_var=False)\n",
    "print(\"P-valor entre indepe_AMB_PA_MECVV i SENSE_PA:\", p_value_23)"
   ],
   "id": "b11519140ece0c96",
   "outputs": [
    {
     "name": "stdout",
     "output_type": "stream",
     "text": [
      "P-valor entre indepe_AMB_PA_MECVV i SENSE_PA: 0.13803563369050034\n"
     ]
    }
   ],
   "execution_count": 641
  },
  {
   "metadata": {},
   "cell_type": "markdown",
   "source": [
    "##### Moderada"
   ],
   "id": "d04d18982271906"
  },
  {
   "metadata": {
    "ExecuteTime": {
     "end_time": "2024-04-29T07:03:40.282181Z",
     "start_time": "2024-04-29T07:03:40.276640Z"
    }
   },
   "cell_type": "code",
   "source": [
    "stat_12, p_value_12 = mannwhitneyu(AMB_PA['Barthel_resultados'].between(61, 95), AMB_PA_MECVV['Barthel_resultados'].between(61, 95), alternative='two-sided')\n",
    "print(\"P-valor entre mod_AMB_PA i mod_AMB_PA_MECVV:\", p_value_12)"
   ],
   "id": "dec64efac0865e29",
   "outputs": [
    {
     "name": "stdout",
     "output_type": "stream",
     "text": [
      "P-valor entre mod_AMB_PA i mod_AMB_PA_MECVV: 0.49002535950179893\n"
     ]
    }
   ],
   "execution_count": 642
  },
  {
   "metadata": {
    "ExecuteTime": {
     "end_time": "2024-04-29T07:03:40.719669Z",
     "start_time": "2024-04-29T07:03:40.714323Z"
    }
   },
   "cell_type": "code",
   "source": [
    "stat_13, p_value_13 = mannwhitneyu(AMB_PA['Barthel_resultados'].between(61, 95), SENSE_PA['Barthel_resultados'].between(61, 95), alternative='two-sided')\n",
    "print(\"P-valor entre indepe_AMB_PA i mod_SENSE_PA:\", p_value_13)"
   ],
   "id": "27afcdbb5f858182",
   "outputs": [
    {
     "name": "stdout",
     "output_type": "stream",
     "text": [
      "P-valor entre indepe_AMB_PA i mod_SENSE_PA: 0.22404485220846948\n"
     ]
    }
   ],
   "execution_count": 643
  },
  {
   "metadata": {
    "ExecuteTime": {
     "end_time": "2024-04-29T07:03:40.932407Z",
     "start_time": "2024-04-29T07:03:40.926574Z"
    }
   },
   "cell_type": "code",
   "source": [
    "stat_23, p_value_23 = mannwhitneyu(AMB_PA_MECVV['Barthel_resultados'].between(61, 95), SENSE_PA['Barthel_resultados'].between(61, 95), alternative='two-sided')  \n",
    "print(\"P-valor entre mod_AMB_PA_MECVV i mod_SENSE_PA :\", p_value_23)"
   ],
   "id": "8fc3e8dab51af8d1",
   "outputs": [
    {
     "name": "stdout",
     "output_type": "stream",
     "text": [
      "P-valor entre mod_AMB_PA_MECVV i mod_SENSE_PA : 0.14889565499123467\n"
     ]
    }
   ],
   "execution_count": 644
  },
  {
   "metadata": {},
   "cell_type": "markdown",
   "source": [
    "##### Severa"
   ],
   "id": "76bed183a4aeac10"
  },
  {
   "metadata": {
    "ExecuteTime": {
     "end_time": "2024-04-29T07:03:41.382773Z",
     "start_time": "2024-04-29T07:03:41.377177Z"
    }
   },
   "cell_type": "code",
   "source": [
    "stat_12, p_value_12 = mannwhitneyu(AMB_PA['Barthel_resultados'].between(21,60), AMB_PA_MECVV['Barthel_resultados'].between(21,60), alternative='two-sided')\n",
    "print(\"P-valor entre sev_AMB_PA i sev_AMB_PA_MECVV:\", p_value_12)"
   ],
   "id": "f62da8e97a2baaab",
   "outputs": [
    {
     "name": "stdout",
     "output_type": "stream",
     "text": [
      "P-valor entre sev_AMB_PA i sev_AMB_PA_MECVV: 0.3688417252786701\n"
     ]
    }
   ],
   "execution_count": 645
  },
  {
   "metadata": {
    "ExecuteTime": {
     "end_time": "2024-04-29T07:03:41.547751Z",
     "start_time": "2024-04-29T07:03:41.542561Z"
    }
   },
   "cell_type": "code",
   "source": [
    "stat_13, p_value_13 = mannwhitneyu(AMB_PA['Barthel_resultados'].between(21,60), SENSE_PA['Barthel_resultados'].between(21,60), alternative='two-sided')\n",
    "print(\"P-valor entre sev_AMB_PA i sev_SENSE_PA:\", p_value_13)"
   ],
   "id": "31cb55f53135e10a",
   "outputs": [
    {
     "name": "stdout",
     "output_type": "stream",
     "text": [
      "P-valor entre sev_AMB_PA i sev_SENSE_PA: 0.3446368758082651\n"
     ]
    }
   ],
   "execution_count": 646
  },
  {
   "metadata": {
    "ExecuteTime": {
     "end_time": "2024-04-29T07:03:42.027440Z",
     "start_time": "2024-04-29T07:03:42.020500Z"
    }
   },
   "cell_type": "code",
   "source": [
    "t_stat_23, p_value_23 = mannwhitneyu(AMB_PA_MECVV['Barthel_resultados'].between(21,60), SENSE_PA['Barthel_resultados'].between(21,60), alternative='two-sided' )\n",
    "print(\"P-valor entre sev_AMB_PA_MECVV i sev_SENSE_PA:\", p_value_23)"
   ],
   "id": "92003e3822752b2c",
   "outputs": [
    {
     "name": "stdout",
     "output_type": "stream",
     "text": [
      "P-valor entre sev_AMB_PA_MECVV i sev_SENSE_PA: 0.05945988532601827\n"
     ]
    }
   ],
   "execution_count": 647
  },
  {
   "metadata": {},
   "cell_type": "markdown",
   "source": [
    "##### Total"
   ],
   "id": "6f92bc9950981fa5"
  },
  {
   "metadata": {
    "ExecuteTime": {
     "end_time": "2024-04-29T07:03:42.297397Z",
     "start_time": "2024-04-29T07:03:42.290218Z"
    }
   },
   "cell_type": "code",
   "source": [
    "stat_12, p_value_12 = mannwhitneyu(AMB_PA['Barthel_resultados'] <= 20.0, AMB_PA_MECVV['Barthel_resultados'] <= 20.0, alternative='two-sided')\n",
    "print(\"P-valor entre total_AMB_PA i total_AMB_PA_MECVV:\", p_value_12)"
   ],
   "id": "649bd60d8064b442",
   "outputs": [
    {
     "name": "stdout",
     "output_type": "stream",
     "text": [
      "P-valor entre total_AMB_PA i total_AMB_PA_MECVV: 0.5426838040005246\n"
     ]
    }
   ],
   "execution_count": 648
  },
  {
   "metadata": {
    "ExecuteTime": {
     "end_time": "2024-04-29T07:03:42.940351Z",
     "start_time": "2024-04-29T07:03:42.933224Z"
    }
   },
   "cell_type": "code",
   "source": [
    "stat_13, p_value_13 = mannwhitneyu(AMB_PA['Barthel_resultados'] <= 20.0, SENSE_PA['Barthel_resultados'] <= 20.0, alternative='two-sided')\n",
    "print(\"P-valor entre total_AMB_PA i total_SENSE_PA:\", p_value_13)"
   ],
   "id": "c7aefab4134a6d36",
   "outputs": [
    {
     "name": "stdout",
     "output_type": "stream",
     "text": [
      "P-valor entre total_AMB_PA i total_SENSE_PA: 0.14269651822055499\n"
     ]
    }
   ],
   "execution_count": 649
  },
  {
   "metadata": {
    "ExecuteTime": {
     "end_time": "2024-04-29T07:03:43.234407Z",
     "start_time": "2024-04-29T07:03:43.227961Z"
    }
   },
   "cell_type": "code",
   "source": [
    "stat_23, p_value_23 = mannwhitneyu(AMB_PA_MECVV['Barthel_resultados'] <= 20.0, SENSE_PA['Barthel_resultados'] <= 20.0, alternative='two-sided')\n",
    "print(\"P-valor entre total_AMB_PA_MECVV i total_SENSE_PA:\", p_value_23)"
   ],
   "id": "8f86e986c69cad05",
   "outputs": [
    {
     "name": "stdout",
     "output_type": "stream",
     "text": [
      "P-valor entre total_AMB_PA_MECVV i total_SENSE_PA: 0.6663533091466043\n"
     ]
    }
   ],
   "execution_count": 650
  },
  {
   "metadata": {},
   "cell_type": "markdown",
   "source": [
    "## Index del MNA"
   ],
   "id": "8aec29cdaca5153d"
  },
  {
   "metadata": {},
   "cell_type": "markdown",
   "source": [
    "Primer convertiré la columna a tipus numèric ja que els valors que conté són de tipus objecte i amb aquest tipus no puc calcular la mitjana ni la desviació estàndard."
   ],
   "id": "1c06e026a7dc222a"
  },
  {
   "metadata": {
    "ExecuteTime": {
     "end_time": "2024-04-29T07:03:43.713332Z",
     "start_time": "2024-04-29T07:03:43.708352Z"
    }
   },
   "cell_type": "code",
   "source": [
    "AMB_PA.loc[:, 'mna_resultats'] = pd.to_numeric(AMB_PA['mna_resultats'], errors='coerce')\n",
    "AMB_PA_MECVV.loc[:, 'mna_resultats'] = pd.to_numeric(AMB_PA_MECVV['mna_resultats'], errors='coerce')\n",
    "SENSE_PA.loc[:, 'mna_resultats'] = pd.to_numeric(SENSE_PA['mna_resultats'], errors='coerce')"
   ],
   "id": "1fd4ba82fd70b812",
   "outputs": [],
   "execution_count": 651
  },
  {
   "metadata": {},
   "cell_type": "markdown",
   "source": [
    "### Mitjana"
   ],
   "id": "d3a2da203000f2a5"
  },
  {
   "metadata": {
    "ExecuteTime": {
     "end_time": "2024-04-29T07:03:43.900394Z",
     "start_time": "2024-04-29T07:03:43.895636Z"
    }
   },
   "cell_type": "code",
   "source": [
    "promedio_mna = AMB_PA['mna_resultats'].mean()\n",
    "desviacion_estandar_mna = AMB_PA['mna_resultats'].std()\n",
    "\n",
    "resultado = f\"{promedio_mna:.2f} ± {desviacion_estandar_mna:.2f}\"\n",
    "print(\"Mitjana ± Desviació Estándard del mna:\", resultado)"
   ],
   "id": "49f228e16ecc4f8f",
   "outputs": [
    {
     "name": "stdout",
     "output_type": "stream",
     "text": [
      "Mitjana ± Desviació Estándard del mna: 0.00 ± 0.00\n"
     ]
    }
   ],
   "execution_count": 652
  },
  {
   "metadata": {
    "ExecuteTime": {
     "end_time": "2024-04-29T07:03:44.367023Z",
     "start_time": "2024-04-29T07:03:44.362237Z"
    }
   },
   "cell_type": "code",
   "source": [
    "promedio_mna = AMB_PA_MECVV['mna_resultats'].mean()\n",
    "desviacion_estandar_mna = AMB_PA_MECVV['mna_resultats'].std()\n",
    "\n",
    "resultado = f\"{promedio_mna:.2f} ± {desviacion_estandar_mna:.2f}\"\n",
    "print(\"Mitjana ± Desviació Estándard del mna:\", resultado)"
   ],
   "id": "2b9bad54f7ac28fb",
   "outputs": [
    {
     "name": "stdout",
     "output_type": "stream",
     "text": [
      "Mitjana ± Desviació Estándard del mna: 0.00 ± nan\n"
     ]
    }
   ],
   "execution_count": 653
  },
  {
   "metadata": {
    "ExecuteTime": {
     "end_time": "2024-04-29T07:03:44.541593Z",
     "start_time": "2024-04-29T07:03:44.536495Z"
    }
   },
   "cell_type": "code",
   "source": [
    "promedio_mna = SENSE_PA['mna_resultats'].mean()\n",
    "desviacion_estandar_mna = SENSE_PA['mna_resultats'].std()\n",
    "\n",
    "resultado = f\"{promedio_mna:.2f} ± {desviacion_estandar_mna:.2f}\"\n",
    "print(\"Mitjana ± Desviació Estàndard del mna:\", resultado)"
   ],
   "id": "e1b756b5d3594d0d",
   "outputs": [
    {
     "name": "stdout",
     "output_type": "stream",
     "text": [
      "Mitjana ± Desviació Estàndard del mna: 3.05 ± 5.92\n"
     ]
    }
   ],
   "execution_count": 654
  },
  {
   "metadata": {},
   "cell_type": "markdown",
   "source": [
    "#### Pvalor"
   ],
   "id": "ed71dea199e67206"
  },
  {
   "metadata": {},
   "cell_type": "markdown",
   "source": [
    "##### Normalitat"
   ],
   "id": "a2022f16581d1ec4"
  },
  {
   "metadata": {
    "ExecuteTime": {
     "end_time": "2024-04-29T07:03:44.906552Z",
     "start_time": "2024-04-29T07:03:44.902046Z"
    }
   },
   "cell_type": "code",
   "source": [
    "stat, p_value = shapiro(AMB_PA['mna_resultats'])\n",
    "print(f\"Estadístic W = {stat:.4f}\")\n",
    "print(f\"Valor p = {p_value:.4f}\")\n",
    "\n",
    "alpha = 0.05\n",
    "if p_value < alpha:\n",
    "    print(\"El nombre de files no segueix una distribució normal.\")\n",
    "else:\n",
    "    print(\"El nombre de files segueix una distribució normal.\")"
   ],
   "id": "818f02babf540e04",
   "outputs": [
    {
     "name": "stdout",
     "output_type": "stream",
     "text": [
      "Estadístic W = nan\n",
      "Valor p = nan\n",
      "El nombre de files segueix una distribució normal.\n"
     ]
    }
   ],
   "execution_count": 655
  },
  {
   "metadata": {
    "ExecuteTime": {
     "end_time": "2024-04-29T07:03:45.158438Z",
     "start_time": "2024-04-29T07:03:45.153264Z"
    }
   },
   "cell_type": "code",
   "source": [
    "stat, p_value = shapiro(AMB_PA_MECVV['mna_resultats'])\n",
    "print(f\"Estadístic W = {stat:.4f}\")\n",
    "print(f\"Valor p = {p_value:.4f}\")\n",
    "\n",
    "alpha = 0.05\n",
    "if p_value < alpha:\n",
    "    print(\"El nombre de files no segueix una distribució normal.\")\n",
    "else:\n",
    "    print(\"El nombre de files segueix una distribució normal.\")"
   ],
   "id": "f3f9909b59238c82",
   "outputs": [
    {
     "name": "stdout",
     "output_type": "stream",
     "text": [
      "Estadístic W = nan\n",
      "Valor p = nan\n",
      "El nombre de files segueix una distribució normal.\n"
     ]
    }
   ],
   "execution_count": 656
  },
  {
   "metadata": {
    "ExecuteTime": {
     "end_time": "2024-04-29T07:03:45.606230Z",
     "start_time": "2024-04-29T07:03:45.601625Z"
    }
   },
   "cell_type": "code",
   "source": [
    "stat, p_value = shapiro(SENSE_PA['mna_resultats'])\n",
    "print(f\"Estadístic W = {stat:.4f}\")\n",
    "print(f\"Valor p = {p_value:.4f}\")\n",
    "\n",
    "alpha = 0.05\n",
    "if p_value < alpha:\n",
    "    print(\"El nombre de files no segueix una distribució normal.\")\n",
    "else:\n",
    "    print(\"El nombre de files segueix una distribució normal.\")"
   ],
   "id": "e649075f76992902",
   "outputs": [
    {
     "name": "stdout",
     "output_type": "stream",
     "text": [
      "Estadístic W = nan\n",
      "Valor p = nan\n",
      "El nombre de files segueix una distribució normal.\n"
     ]
    }
   ],
   "execution_count": 657
  },
  {
   "metadata": {
    "ExecuteTime": {
     "end_time": "2024-04-29T07:03:45.838034Z",
     "start_time": "2024-04-29T07:03:45.832834Z"
    }
   },
   "cell_type": "code",
   "source": [
    "t_stat_12, p_val_12 = ttest_ind(AMB_PA['mna_resultats'], AMB_PA_MECVV['mna_resultats'], equal_var=False)\n",
    "print(\"P-valor entre AMB_PA i AMB_PA_MECVV:\", p_val_12)"
   ],
   "id": "ad0537eaa821dc4b",
   "outputs": [
    {
     "name": "stdout",
     "output_type": "stream",
     "text": [
      "P-valor entre AMB_PA i AMB_PA_MECVV: nan\n"
     ]
    }
   ],
   "execution_count": 658
  },
  {
   "metadata": {
    "ExecuteTime": {
     "end_time": "2024-04-29T07:03:46.236747Z",
     "start_time": "2024-04-29T07:03:46.232067Z"
    }
   },
   "cell_type": "code",
   "source": [
    "t_stat_13, p_val_13 = ttest_ind(AMB_PA['mna_resultats'], SENSE_PA['mna_resultats'], equal_var=False)\n",
    "print(\"P-valor entre AMB_PA i SENSE_PA:\", p_val_13)"
   ],
   "id": "d15532e3219abd52",
   "outputs": [
    {
     "name": "stdout",
     "output_type": "stream",
     "text": [
      "P-valor entre AMB_PA i SENSE_PA: nan\n"
     ]
    }
   ],
   "execution_count": 659
  },
  {
   "metadata": {
    "ExecuteTime": {
     "end_time": "2024-04-29T07:03:46.545203Z",
     "start_time": "2024-04-29T07:03:46.540546Z"
    }
   },
   "cell_type": "code",
   "source": [
    "t_stat_23, p_val_23 = ttest_ind(AMB_PA_MECVV['mna_resultats'], SENSE_PA['mna_resultats'], equal_var=False)\n",
    "print(\"P-valor entre AMB_PA_MECVV i SENSE_PA:\", p_val_23)"
   ],
   "id": "33fd4e0dfb16ffd9",
   "outputs": [
    {
     "name": "stdout",
     "output_type": "stream",
     "text": [
      "P-valor entre AMB_PA_MECVV i SENSE_PA: nan\n"
     ]
    }
   ],
   "execution_count": 660
  },
  {
   "metadata": {},
   "cell_type": "markdown",
   "source": [
    "### Valors de malnutrició"
   ],
   "id": "30ab7030f717f77d"
  },
  {
   "metadata": {},
   "cell_type": "markdown",
   "source": [
    "##### AMB_PA"
   ],
   "id": "739bad6e4ed22abd"
  },
  {
   "metadata": {
    "ExecuteTime": {
     "end_time": "2024-04-29T07:03:46.829625Z",
     "start_time": "2024-04-29T07:03:46.825039Z"
    }
   },
   "cell_type": "code",
   "source": [
    "norm_AMB_PA = AMB_PA['mna_resultats'].between(24, 30)\n",
    "Percentatge_norm_AMB_PA = norm_AMB_PA.mean() * 100\n",
    "num_observaciones_norm_AMB_PA = norm_AMB_PA.sum()\n",
    "\n",
    "print(f\"Percentatge de norm_AMB_PA: {Percentatge_norm_AMB_PA:.2f}%\")\n",
    "print(f\"Nombre d'observacions en norm_AMB_PA: {num_observaciones_norm_AMB_PA}\")"
   ],
   "id": "caa6802b98e9e39",
   "outputs": [
    {
     "name": "stdout",
     "output_type": "stream",
     "text": [
      "Percentatge de norm_AMB_PA: 0.00%\n",
      "Nombre d'observacions en norm_AMB_PA: 0\n"
     ]
    }
   ],
   "execution_count": 661
  },
  {
   "metadata": {
    "ExecuteTime": {
     "end_time": "2024-04-29T07:03:47.267446Z",
     "start_time": "2024-04-29T07:03:47.262804Z"
    }
   },
   "cell_type": "code",
   "source": [
    "malnutr_AMB_PA = AMB_PA['mna_resultats'].between(17, 23.5)\n",
    "Percentatge_malnutr_AMB_PA = malnutr_AMB_PA.mean() * 100\n",
    "num_observaciones_malnutr_AMB_PA = norm_AMB_PA.sum()\n",
    "\n",
    "print(f\"Percentatge de malnutr_AMB_PA: {Percentatge_malnutr_AMB_PA:.2f}%\")\n",
    "print(f\"Nombre d'observacions en norm_AMB_PA: {num_observaciones_malnutr_AMB_PA}\")"
   ],
   "id": "9767c703bf106b20",
   "outputs": [
    {
     "name": "stdout",
     "output_type": "stream",
     "text": [
      "Percentatge de malnutr_AMB_PA: 0.00%\n",
      "Nombre d'observacions en norm_AMB_PA: 0\n"
     ]
    }
   ],
   "execution_count": 662
  },
  {
   "metadata": {
    "ExecuteTime": {
     "end_time": "2024-04-29T07:03:47.548969Z",
     "start_time": "2024-04-29T07:03:47.544863Z"
    }
   },
   "cell_type": "code",
   "source": [
    "malnut_AMB_PA = AMB_PA['mna_resultats'] < 17\n",
    "Percentatge_malnut_AMB_PA = malnut_AMB_PA.mean() * 100\n",
    "num_observaciones_malnut_AMB_PA = malnut_AMB_PA.sum()\n",
    "\n",
    "print(f\"Percentatge de malnut_AMB_PA: {Percentatge_malnut_AMB_PA:.2f}%\")\n",
    "print(f\"Nombre d'observacions en malnut_AMB_PA: {num_observaciones_malnut_AMB_PA}\")"
   ],
   "id": "bef7952d2998f683",
   "outputs": [
    {
     "name": "stdout",
     "output_type": "stream",
     "text": [
      "Percentatge de malnut_AMB_PA: 23.53%\n",
      "Nombre d'observacions en malnut_AMB_PA: 4\n"
     ]
    }
   ],
   "execution_count": 663
  },
  {
   "metadata": {},
   "cell_type": "markdown",
   "source": [
    "##### AMB_PA_MECVV"
   ],
   "id": "2f5087291a06f182"
  },
  {
   "metadata": {
    "ExecuteTime": {
     "end_time": "2024-04-29T07:03:47.898752Z",
     "start_time": "2024-04-29T07:03:47.893070Z"
    }
   },
   "cell_type": "code",
   "source": [
    "norm_AMB_PA_MECVV = AMB_PA_MECVV['mna_resultats'].between(24, 30)\n",
    "Percentatge_norm_AMB_PA_MECVV = norm_AMB_PA_MECVV.mean() * 100\n",
    "num_observaciones_norm_AMB_PA_MECVV = norm_AMB_PA_MECVV.sum()\n",
    "\n",
    "print(f\"Percentatge de norm_AMB_PA_MECVV: {Percentatge_norm_AMB_PA_MECVV:.2f}%\")\n",
    "print(f\"Nombre d'observacions en norm_AMB_PA_MECVV: {num_observaciones_norm_AMB_PA_MECVV}\")"
   ],
   "id": "3e5b18f679fc2d97",
   "outputs": [
    {
     "name": "stdout",
     "output_type": "stream",
     "text": [
      "Percentatge de norm_AMB_PA_MECVV: 0.00%\n",
      "Nombre d'observacions en norm_AMB_PA_MECVV: 0\n"
     ]
    }
   ],
   "execution_count": 664
  },
  {
   "metadata": {
    "ExecuteTime": {
     "end_time": "2024-04-29T07:03:48.170385Z",
     "start_time": "2024-04-29T07:03:48.164727Z"
    }
   },
   "cell_type": "code",
   "source": [
    "malnutr_AMB_PA_MECVV = AMB_PA_MECVV['mna_resultats'].between(17, 23.5)\n",
    "Percentatge_malnutr_AMB_PA_MECVV = malnutr_AMB_PA_MECVV.mean() * 100\n",
    "num_observaciones_malnutr_AMB_PA_MECVV = norm_AMB_PA_MECVV.sum()\n",
    "\n",
    "print(f\"Percentatge de malnutr_AMB_PA_MECVV: {Percentatge_malnutr_AMB_PA_MECVV:.2f}%\")\n",
    "print(f\"Nombre d'observacions en norm_AMB_PA_MECVV: {num_observaciones_malnutr_AMB_PA_MECVV}\")"
   ],
   "id": "d44f886d78fd3ac7",
   "outputs": [
    {
     "name": "stdout",
     "output_type": "stream",
     "text": [
      "Percentatge de malnutr_AMB_PA_MECVV: 0.00%\n",
      "Nombre d'observacions en norm_AMB_PA_MECVV: 0\n"
     ]
    }
   ],
   "execution_count": 665
  },
  {
   "metadata": {
    "ExecuteTime": {
     "end_time": "2024-04-29T07:03:48.523480Z",
     "start_time": "2024-04-29T07:03:48.518316Z"
    }
   },
   "cell_type": "code",
   "source": [
    "malnut_AMB_PA_MECVV = AMB_PA_MECVV['mna_resultats'] < 17\n",
    "Percentatge_malnut_AMB_PA_MECVV = malnut_AMB_PA_MECVV.mean() * 100\n",
    "num_observaciones_malnut_AMB_PA_MECVV = malnut_AMB_PA_MECVV.sum()\n",
    "\n",
    "print(f\"Percentatge de malnut_AMB_PA_MECVV: {Percentatge_malnut_AMB_PA_MECVV:.2f}%\")\n",
    "print(f\"Nombre d'observacions en malnut_AMB_PA_MECVV: {num_observaciones_malnut_AMB_PA_MECVV}\")"
   ],
   "id": "2a86972a7a2d702d",
   "outputs": [
    {
     "name": "stdout",
     "output_type": "stream",
     "text": [
      "Percentatge de malnut_AMB_PA_MECVV: 10.00%\n",
      "Nombre d'observacions en malnut_AMB_PA_MECVV: 1\n"
     ]
    }
   ],
   "execution_count": 666
  },
  {
   "metadata": {},
   "cell_type": "markdown",
   "source": [
    "##### SENSE_PA"
   ],
   "id": "147fc09ef92f5300"
  },
  {
   "metadata": {
    "ExecuteTime": {
     "end_time": "2024-04-29T07:03:48.812617Z",
     "start_time": "2024-04-29T07:03:48.807672Z"
    }
   },
   "cell_type": "code",
   "source": [
    "norm_SENSE_PA = SENSE_PA['mna_resultats'].between(24, 30)\n",
    "Percentatge_norm_SENSE_PA = norm_SENSE_PA.mean() * 100\n",
    "num_observaciones_norm_SENSE_PA = norm_SENSE_PA.sum()\n",
    "\n",
    "print(f\"Percentatge de norm_SENSE_PA: {Percentatge_norm_SENSE_PA:.2f}%\")\n",
    "print(f\"Nombre d'observacions en norm_SENSE_PA: {num_observaciones_norm_SENSE_PA}\")"
   ],
   "id": "c08ecbab11287831",
   "outputs": [
    {
     "name": "stdout",
     "output_type": "stream",
     "text": [
      "Percentatge de norm_SENSE_PA: 0.00%\n",
      "Nombre d'observacions en norm_SENSE_PA: 0\n"
     ]
    }
   ],
   "execution_count": 667
  },
  {
   "metadata": {
    "ExecuteTime": {
     "end_time": "2024-04-29T07:03:49.218709Z",
     "start_time": "2024-04-29T07:03:49.213942Z"
    }
   },
   "cell_type": "code",
   "source": [
    "malnutr_SENSE_PA = SENSE_PA['mna_resultats'].between(17, 23.5)\n",
    "Percentatge_malnutr_SENSE_PA = malnutr_SENSE_PA.mean() * 100\n",
    "num_observaciones_malnutr_SENSE_PA = malnutr_SENSE_PA.sum()\n",
    "\n",
    "print(f\"Percentatge de malnutr_SENSE_PA: {Percentatge_malnutr_SENSE_PA:.2f}%\")\n",
    "print(f\"Nombre d'observacions en malnutr_SENSE_PA: {num_observaciones_malnutr_SENSE_PA}\")"
   ],
   "id": "380f9565f771bf8b",
   "outputs": [
    {
     "name": "stdout",
     "output_type": "stream",
     "text": [
      "Percentatge de malnutr_SENSE_PA: 2.04%\n",
      "Nombre d'observacions en malnutr_SENSE_PA: 1\n"
     ]
    }
   ],
   "execution_count": 668
  },
  {
   "metadata": {
    "ExecuteTime": {
     "end_time": "2024-04-29T07:03:49.516887Z",
     "start_time": "2024-04-29T07:03:49.510911Z"
    }
   },
   "cell_type": "code",
   "source": [
    "malnut_SENSE_PA = SENSE_PA['mna_resultats'] < 17\n",
    "Percentatge_malnut_SENSE_PA = malnut_SENSE_PA.mean() * 100\n",
    "num_observaciones_malnut_SENSE_PA = malnut_SENSE_PA.sum()\n",
    "\n",
    "print(f\"Percentatge de malnut_SENSE_PA: {Percentatge_malnut_SENSE_PA:.2f}%\")\n",
    "print(f\"Nombre d'observacions en malnut_SENSE_PA: {num_observaciones_malnut_SENSE_PA}\")"
   ],
   "id": "160c804055ffa789",
   "outputs": [
    {
     "name": "stdout",
     "output_type": "stream",
     "text": [
      "Percentatge de malnut_SENSE_PA: 18.37%\n",
      "Nombre d'observacions en malnut_SENSE_PA: 9\n"
     ]
    }
   ],
   "execution_count": 669
  },
  {
   "metadata": {},
   "cell_type": "markdown",
   "source": [
    "#### Pvalor"
   ],
   "id": "a9a33b1d22344060"
  },
  {
   "metadata": {},
   "cell_type": "markdown",
   "source": [
    "##### Normal"
   ],
   "id": "c1aa669e202aa54d"
  },
  {
   "metadata": {
    "ExecuteTime": {
     "end_time": "2024-04-29T07:03:49.873448Z",
     "start_time": "2024-04-29T07:03:49.867870Z"
    }
   },
   "cell_type": "code",
   "source": [
    "t_stat_12, p_val_12 = mannwhitneyu(AMB_PA['mna_resultats'].between(24, 30), AMB_PA_MECVV['mna_resultats'].between(24, 30), alternative='two-sided')\n",
    "print(\"P-valor entre norm_AMB_PA i norm_AMB_PA_MECVV:\", p_val_12)"
   ],
   "id": "c424d10727ebe3",
   "outputs": [
    {
     "name": "stdout",
     "output_type": "stream",
     "text": [
      "P-valor entre norm_AMB_PA i norm_AMB_PA_MECVV: 1.0\n"
     ]
    }
   ],
   "execution_count": 670
  },
  {
   "metadata": {
    "ExecuteTime": {
     "end_time": "2024-04-29T07:03:50.165758Z",
     "start_time": "2024-04-29T07:03:50.160473Z"
    }
   },
   "cell_type": "code",
   "source": [
    "t_stat_13, p_val_13 = mannwhitneyu(AMB_PA['mna_resultats'].between(24, 30), SENSE_PA['mna_resultats'].between(24, 30), alternative='two-sided')\n",
    "print(\"P-valor entre norm_AMB_PA i norm_SENSE_PA:\", p_val_13)"
   ],
   "id": "ebb1848e3ef8509e",
   "outputs": [
    {
     "name": "stdout",
     "output_type": "stream",
     "text": [
      "P-valor entre norm_AMB_PA i norm_SENSE_PA: 1.0\n"
     ]
    }
   ],
   "execution_count": 671
  },
  {
   "metadata": {
    "ExecuteTime": {
     "end_time": "2024-04-29T07:03:50.528097Z",
     "start_time": "2024-04-29T07:03:50.522605Z"
    }
   },
   "cell_type": "code",
   "source": [
    "t_stat_23, p_val_23 = mannwhitneyu(AMB_PA_MECVV['mna_resultats'].between(24, 30), SENSE_PA['mna_resultats'].between(24, 30), alternative='two-sided')\n",
    "print(\"P-valor entre norm_AMB_PA_MECVV i norm_SENSE_PA:\", p_val_23)"
   ],
   "id": "ec24c5a3e17d9c39",
   "outputs": [
    {
     "name": "stdout",
     "output_type": "stream",
     "text": [
      "P-valor entre norm_AMB_PA_MECVV i norm_SENSE_PA: 1.0\n"
     ]
    }
   ],
   "execution_count": 672
  },
  {
   "metadata": {},
   "cell_type": "markdown",
   "source": [
    "##### Risc de malnutrició"
   ],
   "id": "2b406b79ad8e5d31"
  },
  {
   "metadata": {
    "ExecuteTime": {
     "end_time": "2024-04-29T07:03:50.852843Z",
     "start_time": "2024-04-29T07:03:50.846697Z"
    }
   },
   "cell_type": "code",
   "source": [
    "t_stat_12, p_val_12 = mannwhitneyu(AMB_PA['mna_resultats'].between(17, 23.5), AMB_PA_MECVV['mna_resultats'].between(17, 23.5), alternative='two-sided')\n",
    "print(\"P-valor entre malnutr_AMB_PA i malnutr_AMB_PA_MECVV:\", p_val_12)"
   ],
   "id": "3a2c6f30d476106c",
   "outputs": [
    {
     "name": "stdout",
     "output_type": "stream",
     "text": [
      "P-valor entre malnutr_AMB_PA i malnutr_AMB_PA_MECVV: 1.0\n"
     ]
    }
   ],
   "execution_count": 673
  },
  {
   "metadata": {
    "ExecuteTime": {
     "end_time": "2024-04-29T07:03:51.288071Z",
     "start_time": "2024-04-29T07:03:51.281544Z"
    }
   },
   "cell_type": "code",
   "source": [
    "t_stat_13, p_val_13 = mannwhitneyu(AMB_PA['mna_resultats'].between(17, 23.5), SENSE_PA['mna_resultats'].between(17, 23.5), alternative='two-sided')\n",
    "print(\"P-valor entre malnutr_AMB_PA i malnutr_SENSE_PA:\", p_val_13)"
   ],
   "id": "26dd581da1c61b2a",
   "outputs": [
    {
     "name": "stdout",
     "output_type": "stream",
     "text": [
      "P-valor entre malnutr_AMB_PA i malnutr_SENSE_PA: 0.5793276078637376\n"
     ]
    }
   ],
   "execution_count": 674
  },
  {
   "metadata": {
    "ExecuteTime": {
     "end_time": "2024-04-29T07:03:51.625982Z",
     "start_time": "2024-04-29T07:03:51.620244Z"
    }
   },
   "cell_type": "code",
   "source": [
    "t_stat_23, p_val_23 = mannwhitneyu(AMB_PA_MECVV['mna_resultats'].between(17, 23.5), SENSE_PA['mna_resultats'].between(17, 23.5), alternative='two-sided')\n",
    "print(\"P-valor entre malnutr_AMB_PA_MECVV i malnutr_SENSE_PA:\", p_val_23)"
   ],
   "id": "e15a727ac84ee9b9",
   "outputs": [
    {
     "name": "stdout",
     "output_type": "stream",
     "text": [
      "P-valor entre malnutr_AMB_PA_MECVV i malnutr_SENSE_PA: 0.6843175494727258\n"
     ]
    }
   ],
   "execution_count": 675
  },
  {
   "metadata": {},
   "cell_type": "markdown",
   "source": [
    "##### Malnutrició"
   ],
   "id": "905cde52c3b826ac"
  },
  {
   "metadata": {
    "ExecuteTime": {
     "end_time": "2024-04-29T07:03:51.964854Z",
     "start_time": "2024-04-29T07:03:51.958866Z"
    }
   },
   "cell_type": "code",
   "source": [
    "t_stat_12, p_val_12 = mannwhitneyu(AMB_PA['mna_resultats'] <17 , \n",
    "                                AMB_PA_MECVV['mna_resultats'] < 17, alternative='two-sided')\n",
    "print(\"P-valor entre malnut_AMB_PA i norm_AMB_PA_MECVV:\", p_val_12)"
   ],
   "id": "72f95b8ad2e7790e",
   "outputs": [
    {
     "name": "stdout",
     "output_type": "stream",
     "text": [
      "P-valor entre malnut_AMB_PA i norm_AMB_PA_MECVV: 0.4120280546315189\n"
     ]
    }
   ],
   "execution_count": 676
  },
  {
   "metadata": {
    "ExecuteTime": {
     "end_time": "2024-04-29T07:03:52.286643Z",
     "start_time": "2024-04-29T07:03:52.281582Z"
    }
   },
   "cell_type": "code",
   "source": [
    "t_stat_13, p_val_13 = mannwhitneyu(AMB_PA['mna_resultats'] <17 , \n",
    "                                SENSE_PA['mna_resultats'] < 17, alternative='two-sided')\n",
    "print(\"P-valor entre malnut_AMB_PA i malnut_SENSE_PA:\", p_val_13)"
   ],
   "id": "a93d6a6490f1b7e4",
   "outputs": [
    {
     "name": "stdout",
     "output_type": "stream",
     "text": [
      "P-valor entre malnut_AMB_PA i malnut_SENSE_PA: 0.6549000779898075\n"
     ]
    }
   ],
   "execution_count": 677
  },
  {
   "metadata": {
    "ExecuteTime": {
     "end_time": "2024-04-29T07:03:52.736037Z",
     "start_time": "2024-04-29T07:03:52.729563Z"
    }
   },
   "cell_type": "code",
   "source": [
    "t_stat_23, p_val_23 = mannwhitneyu(AMB_PA_MECVV['mna_resultats'] <17 , \n",
    "                                SENSE_PA['mna_resultats'] < 17, alternative='two-sided')\n",
    "print(\"P-valor entre malnut_AMB_PA_MECVV i malnut_SENSE_PA:\", p_val_23)"
   ],
   "id": "751e44c45c324db8",
   "outputs": [
    {
     "name": "stdout",
     "output_type": "stream",
     "text": [
      "P-valor entre malnut_AMB_PA_MECVV i malnut_SENSE_PA: 0.5341419377112933\n"
     ]
    }
   ],
   "execution_count": 678
  },
  {
   "metadata": {},
   "cell_type": "markdown",
   "source": [
    "## Index de l'EMINA"
   ],
   "id": "26f61b8f17444d86"
  },
  {
   "metadata": {},
   "cell_type": "markdown",
   "source": [
    "### Mitjana"
   ],
   "id": "5c9563929438128a"
  },
  {
   "metadata": {
    "ExecuteTime": {
     "end_time": "2024-04-29T07:03:53.081998Z",
     "start_time": "2024-04-29T07:03:53.076023Z"
    }
   },
   "cell_type": "code",
   "source": [
    "promedio_emina = AMB_PA['EMINA_sumatorios_comparados'].mean()\n",
    "desviacion_estandar_emina = AMB_PA['EMINA_sumatorios_comparados'].std()\n",
    "\n",
    "resultado = f\"{promedio_emina:.2f} ± {desviacion_estandar_emina:.2f}\"\n",
    "print(\"Mitjana ± Desviació Estàndard de l'emina:\", resultado)"
   ],
   "id": "6b3af33f67ee3c1c",
   "outputs": [
    {
     "name": "stdout",
     "output_type": "stream",
     "text": [
      "Mitjana ± Desviació Estàndard de l'emina: 7.94 ± 3.21\n"
     ]
    }
   ],
   "execution_count": 679
  },
  {
   "metadata": {
    "ExecuteTime": {
     "end_time": "2024-04-29T07:03:53.486137Z",
     "start_time": "2024-04-29T07:03:53.481794Z"
    }
   },
   "cell_type": "code",
   "source": [
    "promedio_emina = AMB_PA_MECVV['EMINA_sumatorios_comparados'].mean()\n",
    "desviacion_estandar_emina = AMB_PA_MECVV['EMINA_sumatorios_comparados'].std()\n",
    "\n",
    "resultado = f\"{promedio_emina:.2f} ± {desviacion_estandar_emina:.2f}\"\n",
    "print(\"Mitjana ± Desviació Estàndard de l'emina:\", resultado)"
   ],
   "id": "33da5d49fab96790",
   "outputs": [
    {
     "name": "stdout",
     "output_type": "stream",
     "text": [
      "Mitjana ± Desviació Estàndard de l'emina: 7.60 ± 2.01\n"
     ]
    }
   ],
   "execution_count": 680
  },
  {
   "metadata": {
    "ExecuteTime": {
     "end_time": "2024-04-29T07:03:53.772723Z",
     "start_time": "2024-04-29T07:03:53.768195Z"
    }
   },
   "cell_type": "code",
   "source": [
    "promedio_emina = SENSE_PA['EMINA_sumatorios_comparados'].mean()\n",
    "desviacion_estandar_emina = SENSE_PA['EMINA_sumatorios_comparados'].std()\n",
    "\n",
    "resultado = f\"{promedio_emina:.2f} ± {desviacion_estandar_emina:.2f}\"\n",
    "print(\"Mitjana ± Desviació Estàndard de l'emina:\", resultado)"
   ],
   "id": "8fdc1af6b1f3b3af",
   "outputs": [
    {
     "name": "stdout",
     "output_type": "stream",
     "text": [
      "Mitjana ± Desviació Estàndard de l'emina: 5.64 ± 4.08\n"
     ]
    }
   ],
   "execution_count": 681
  },
  {
   "metadata": {},
   "cell_type": "markdown",
   "source": [
    "#### Pvalor"
   ],
   "id": "71013ef3e165a551"
  },
  {
   "metadata": {},
   "cell_type": "markdown",
   "source": [
    "##### Normalitat"
   ],
   "id": "cbd46bf1ecd0fba7"
  },
  {
   "metadata": {
    "ExecuteTime": {
     "end_time": "2024-04-29T07:03:54.112244Z",
     "start_time": "2024-04-29T07:03:54.106771Z"
    }
   },
   "cell_type": "code",
   "source": [
    "stat, p_value = shapiro(AMB_PA['EMINA_sumatorios_comparados'])\n",
    "print(f\"Estadístic W = {stat:.4f}\")\n",
    "print(f\"Valor p = {p_value:.4f}\")\n",
    "\n",
    "alpha = 0.05\n",
    "if p_value < alpha:\n",
    "    print(\"El nombre de files no segueix una distribució normal.\")\n",
    "else:\n",
    "    print(\"El nombre de files segueix una distribució normal.\")"
   ],
   "id": "8c2f6048f748604a",
   "outputs": [
    {
     "name": "stdout",
     "output_type": "stream",
     "text": [
      "Estadístic W = 0.9770\n",
      "Valor p = 0.9248\n",
      "El nombre de files segueix una distribució normal.\n"
     ]
    }
   ],
   "execution_count": 682
  },
  {
   "metadata": {
    "ExecuteTime": {
     "end_time": "2024-04-29T07:03:54.394486Z",
     "start_time": "2024-04-29T07:03:54.389082Z"
    }
   },
   "cell_type": "code",
   "source": [
    "stat, p_value = shapiro(AMB_PA_MECVV['EMINA_sumatorios_comparados'])\n",
    "print(f\"Estadístic W = {stat:.4f}\")\n",
    "print(f\"Valor p = {p_value:.4f}\")\n",
    "\n",
    "alpha = 0.05\n",
    "if p_value < alpha:\n",
    "    print(\"El nombre de files no segueix una distribució normal.\")\n",
    "else:\n",
    "    print(\"El nombre de files segueix una distribució normal.\")"
   ],
   "id": "2bf3afd16f2027c6",
   "outputs": [
    {
     "name": "stdout",
     "output_type": "stream",
     "text": [
      "Estadístic W = 0.8885\n",
      "Valor p = 0.1630\n",
      "El nombre de files segueix una distribució normal.\n"
     ]
    }
   ],
   "execution_count": 683
  },
  {
   "metadata": {
    "ExecuteTime": {
     "end_time": "2024-04-29T07:03:54.759917Z",
     "start_time": "2024-04-29T07:03:54.754656Z"
    }
   },
   "cell_type": "code",
   "source": [
    "stat, p_value = shapiro(SENSE_PA['EMINA_sumatorios_comparados'])\n",
    "print(f\"Estadístic W = {stat:.4f}\")\n",
    "print(f\"Valor p = {p_value:.4f}\")\n",
    "\n",
    "alpha = 0.05\n",
    "if p_value < alpha:\n",
    "    print(\"El nombre de files no segueix una distribució normal.\")\n",
    "else:\n",
    "    print(\"El nombre de files segueix una distribució normal.\")"
   ],
   "id": "35d52c1d08eae392",
   "outputs": [
    {
     "name": "stdout",
     "output_type": "stream",
     "text": [
      "Estadístic W = nan\n",
      "Valor p = nan\n",
      "El nombre de files segueix una distribució normal.\n"
     ]
    }
   ],
   "execution_count": 684
  },
  {
   "metadata": {
    "ExecuteTime": {
     "end_time": "2024-04-29T07:03:55.055974Z",
     "start_time": "2024-04-29T07:03:55.049799Z"
    }
   },
   "cell_type": "code",
   "source": [
    "t_stat_12, p_val_12 = ttest_ind(AMB_PA['EMINA_sumatorios_comparados'], AMB_PA_MECVV['EMINA_sumatorios_comparados'], equal_var=False)\n",
    "print(\"P-valor entre AMB_PA i AMB_PA_MECVV:\", p_val_12)"
   ],
   "id": "19c464a0afea8bee",
   "outputs": [
    {
     "name": "stdout",
     "output_type": "stream",
     "text": [
      "P-valor entre AMB_PA i AMB_PA_MECVV: 0.7372065144531302\n"
     ]
    }
   ],
   "execution_count": 685
  },
  {
   "metadata": {
    "ExecuteTime": {
     "end_time": "2024-04-29T07:03:55.477602Z",
     "start_time": "2024-04-29T07:03:55.470562Z"
    }
   },
   "cell_type": "code",
   "source": [
    "t_stat_13, p_val_13 = ttest_ind(AMB_PA['EMINA_sumatorios_comparados'], SENSE_PA['EMINA_sumatorios_comparados'], equal_var=False)\n",
    "print(\"P-valor entre AMB_PA i SENSE_PA:\", p_val_13)"
   ],
   "id": "987f92dcb16d57e2",
   "outputs": [
    {
     "name": "stdout",
     "output_type": "stream",
     "text": [
      "P-valor entre AMB_PA i SENSE_PA: nan\n"
     ]
    }
   ],
   "execution_count": 686
  },
  {
   "metadata": {
    "ExecuteTime": {
     "end_time": "2024-04-29T07:03:56.042178Z",
     "start_time": "2024-04-29T07:03:56.035966Z"
    }
   },
   "cell_type": "code",
   "source": [
    "t_stat_23, p_val_23 = ttest_ind(AMB_PA_MECVV['EMINA_sumatorios_comparados'], SENSE_PA['EMINA_sumatorios_comparados'], equal_var=False)\n",
    "print(\"P-valor entre AMB_PA_MECVV i SENSE_PA:\", p_val_23)"
   ],
   "id": "368fa9440dab1343",
   "outputs": [
    {
     "name": "stdout",
     "output_type": "stream",
     "text": [
      "P-valor entre AMB_PA_MECVV i SENSE_PA: nan\n"
     ]
    }
   ],
   "execution_count": 687
  },
  {
   "metadata": {},
   "cell_type": "markdown",
   "source": [
    "### Valors EMINA"
   ],
   "id": "fe44c5a2a9a5c364"
  },
  {
   "metadata": {},
   "cell_type": "markdown",
   "source": [
    "##### AMB_PA"
   ],
   "id": "b86ec7ed9e5b32ef"
  },
  {
   "metadata": {
    "ExecuteTime": {
     "end_time": "2024-04-29T07:03:56.468639Z",
     "start_time": "2024-04-29T07:03:56.462964Z"
    }
   },
   "cell_type": "code",
   "source": [
    "lowr_AMB_PA = AMB_PA['EMINA_sumatorios_comparados'].between(0, 5)\n",
    "Percentatge_lowr_AMB_PA = lowr_AMB_PA.mean() * 100\n",
    "num_observaciones_lowr_AMB_PA = lowr_AMB_PA.sum()\n",
    "\n",
    "print(f\"Percentatge de lowr_AMB_PA: {Percentatge_lowr_AMB_PA:.2f}%\")\n",
    "print(f\"Nombre d'observacions en lowr_AMB_PA: {num_observaciones_lowr_AMB_PA}\")"
   ],
   "id": "86d6a7c6920067a1",
   "outputs": [
    {
     "name": "stdout",
     "output_type": "stream",
     "text": [
      "Percentatge de lowr_AMB_PA: 17.65%\n",
      "Nombre d'observacions en lowr_AMB_PA: 3\n"
     ]
    }
   ],
   "execution_count": 688
  },
  {
   "metadata": {
    "ExecuteTime": {
     "end_time": "2024-04-29T07:03:56.803958Z",
     "start_time": "2024-04-29T07:03:56.798626Z"
    }
   },
   "cell_type": "code",
   "source": [
    "modr_AMB_PA = AMB_PA['EMINA_sumatorios_comparados'].between(6, 10)\n",
    "Percentatge_modr_AMB_PA = modr_AMB_PA.mean() * 100\n",
    "num_observaciones_modr_AMB_PA = modr_AMB_PA.sum()\n",
    "\n",
    "print(f\"Percentatge de modr_AMB_PA: {Percentatge_modr_AMB_PA:.2f}%\")\n",
    "print(f\"Nombre d'observacions en modr_AMB_PA: {num_observaciones_modr_AMB_PA}\")"
   ],
   "id": "e83559c6b51c4aba",
   "outputs": [
    {
     "name": "stdout",
     "output_type": "stream",
     "text": [
      "Percentatge de modr_AMB_PA: 64.71%\n",
      "Nombre d'observacions en modr_AMB_PA: 11\n"
     ]
    }
   ],
   "execution_count": 689
  },
  {
   "metadata": {
    "ExecuteTime": {
     "end_time": "2024-04-29T07:03:57.236129Z",
     "start_time": "2024-04-29T07:03:57.231463Z"
    }
   },
   "cell_type": "code",
   "source": [
    "highr_AMB_PA = AMB_PA['EMINA_sumatorios_comparados'].between(11, 15)\n",
    "Percentatge_highr_AMB_PA = highr_AMB_PA.mean() * 100\n",
    "num_observaciones_highr_AMB_PA = highr_AMB_PA.sum()\n",
    "\n",
    "print(f\"Percentatge de highr_AMB_PA: {Percentatge_highr_AMB_PA:.2f}%\")\n",
    "print(f\"Nombre d'observacions en highr_AMB_PA: {num_observaciones_highr_AMB_PA}\")"
   ],
   "id": "65093dd3b95effd9",
   "outputs": [
    {
     "name": "stdout",
     "output_type": "stream",
     "text": [
      "Percentatge de highr_AMB_PA: 17.65%\n",
      "Nombre d'observacions en highr_AMB_PA: 3\n"
     ]
    }
   ],
   "execution_count": 690
  },
  {
   "metadata": {},
   "cell_type": "markdown",
   "source": [
    "##### AMB_PA_MECVV"
   ],
   "id": "3b6e67f92fff0a50"
  },
  {
   "metadata": {
    "ExecuteTime": {
     "end_time": "2024-04-29T07:03:57.489237Z",
     "start_time": "2024-04-29T07:03:57.484293Z"
    }
   },
   "cell_type": "code",
   "source": [
    "lowr_AMB_PA_MECVV = AMB_PA_MECVV['EMINA_sumatorios_comparados'].between(0, 5)\n",
    "Percentatge_lowr_AMB_PA_MECVV = lowr_AMB_PA_MECVV.mean() * 100\n",
    "num_observaciones_lowr_AMB_PA_MECVV = lowr_AMB_PA_MECVV.sum()\n",
    "\n",
    "print(f\"Percentatge de lowr_AMB_PA_MECVV: {Percentatge_lowr_AMB_PA_MECVV:.2f}%\")\n",
    "print(f\"Nombre d'observacions en lowr_AMB_PA_MECVV: {num_observaciones_lowr_AMB_PA_MECVV}\")"
   ],
   "id": "adaaabe63e2f49be",
   "outputs": [
    {
     "name": "stdout",
     "output_type": "stream",
     "text": [
      "Percentatge de lowr_AMB_PA_MECVV: 20.00%\n",
      "Nombre d'observacions en lowr_AMB_PA_MECVV: 2\n"
     ]
    }
   ],
   "execution_count": 691
  },
  {
   "metadata": {
    "ExecuteTime": {
     "end_time": "2024-04-29T07:03:57.869830Z",
     "start_time": "2024-04-29T07:03:57.865129Z"
    }
   },
   "cell_type": "code",
   "source": [
    "modr_AMB_PA_MECVV = AMB_PA_MECVV['EMINA_sumatorios_comparados'].between(6, 10)\n",
    "Percentatge_modr_AMB_PA_MECVV = modr_AMB_PA_MECVV.mean() * 100\n",
    "num_observaciones_modr_AMB_PA_MECVV = modr_AMB_PA_MECVV.sum()\n",
    "\n",
    "print(f\"Percentatge de modr_AMB_PA_MECVV: {Percentatge_modr_AMB_PA_MECVV:.2f}%\")\n",
    "print(f\"Nombre d'observacions en modr_AMB_PA_MECVV: {num_observaciones_modr_AMB_PA_MECVV}\")"
   ],
   "id": "2d28ddd8a3cf1676",
   "outputs": [
    {
     "name": "stdout",
     "output_type": "stream",
     "text": [
      "Percentatge de modr_AMB_PA_MECVV: 80.00%\n",
      "Nombre d'observacions en modr_AMB_PA_MECVV: 8\n"
     ]
    }
   ],
   "execution_count": 692
  },
  {
   "metadata": {
    "ExecuteTime": {
     "end_time": "2024-04-29T07:03:58.178902Z",
     "start_time": "2024-04-29T07:03:58.173721Z"
    }
   },
   "cell_type": "code",
   "source": [
    "highr_AMB_PA_MECVV = AMB_PA_MECVV['EMINA_sumatorios_comparados'].between(11, 15)\n",
    "Percentatge_highr_AMB_PA_MECVV = highr_AMB_PA_MECVV.mean() * 100\n",
    "num_observaciones_highr_AMB_PA_MECVV = highr_AMB_PA_MECVV.sum()\n",
    "\n",
    "print(f\"Percentatge de highr_AMB_PA_MECVV: {Percentatge_highr_AMB_PA_MECVV:.2f}%\")\n",
    "print(f\"Nombre d'observacions en highr_AMB_PA_MECVV: {num_observaciones_highr_AMB_PA_MECVV}\")"
   ],
   "id": "fb4f6e91c54399f1",
   "outputs": [
    {
     "name": "stdout",
     "output_type": "stream",
     "text": [
      "Percentatge de highr_AMB_PA_MECVV: 0.00%\n",
      "Nombre d'observacions en highr_AMB_PA_MECVV: 0\n"
     ]
    }
   ],
   "execution_count": 693
  },
  {
   "metadata": {},
   "cell_type": "markdown",
   "source": [
    "##### SENSE_PA"
   ],
   "id": "d04271a0bc855edb"
  },
  {
   "metadata": {
    "ExecuteTime": {
     "end_time": "2024-04-29T07:03:58.492098Z",
     "start_time": "2024-04-29T07:03:58.486973Z"
    }
   },
   "cell_type": "code",
   "source": [
    "lowr_SENSE_PA = SENSE_PA['EMINA_sumatorios_comparados'].between(0, 5)\n",
    "Percentatge_lowr_SENSE_PA = lowr_SENSE_PA.mean() * 100\n",
    "num_observaciones_lowr_SENSE_PA = lowr_SENSE_PA.sum()\n",
    "\n",
    "print(f\"Percentatge de lowr_SENSE_PA: {Percentatge_lowr_SENSE_PA:.2f}%\")\n",
    "print(f\"Nombre d'observacions en lowr_SENSE_PA: {num_observaciones_lowr_SENSE_PA}\")"
   ],
   "id": "cc1245eef9c28b6a",
   "outputs": [
    {
     "name": "stdout",
     "output_type": "stream",
     "text": [
      "Percentatge de lowr_SENSE_PA: 44.90%\n",
      "Nombre d'observacions en lowr_SENSE_PA: 22\n"
     ]
    }
   ],
   "execution_count": 694
  },
  {
   "metadata": {
    "ExecuteTime": {
     "end_time": "2024-04-29T07:03:58.782193Z",
     "start_time": "2024-04-29T07:03:58.777049Z"
    }
   },
   "cell_type": "code",
   "source": [
    "modr_SENSE_PA = SENSE_PA['EMINA_sumatorios_comparados'].between(6, 10)\n",
    "Percentatge_modr_SENSE_PA = modr_SENSE_PA.mean() * 100\n",
    "num_observaciones_modr_SENSE_PA = modr_SENSE_PA.sum()\n",
    "\n",
    "print(f\"Percentatge de modr_SENSE_PA: {Percentatge_modr_SENSE_PA:.2f}%\")\n",
    "print(f\"Nombre d'observacions en modr_SENSE_PA: {num_observaciones_modr_SENSE_PA}\")"
   ],
   "id": "7761893615ad9180",
   "outputs": [
    {
     "name": "stdout",
     "output_type": "stream",
     "text": [
      "Percentatge de modr_SENSE_PA: 40.82%\n",
      "Nombre d'observacions en modr_SENSE_PA: 20\n"
     ]
    }
   ],
   "execution_count": 695
  },
  {
   "metadata": {
    "ExecuteTime": {
     "end_time": "2024-04-29T07:03:59.203834Z",
     "start_time": "2024-04-29T07:03:59.199069Z"
    }
   },
   "cell_type": "code",
   "source": [
    "highr_SENSE_PA = SENSE_PA['EMINA_sumatorios_comparados'].between(11, 15)\n",
    "Percentatge_highr_SENSE_PA = highr_SENSE_PA.mean() * 100\n",
    "num_observaciones_highr_SENSE_PA = highr_SENSE_PA.sum()\n",
    "\n",
    "print(f\"Percentatge de highr_SENSE_PA: {Percentatge_highr_SENSE_PA:.2f}%\")\n",
    "print(f\"Nombre d'observacions en highr_SENSE_PA: {num_observaciones_highr_SENSE_PA}\")"
   ],
   "id": "b7b73c45237d7dc5",
   "outputs": [
    {
     "name": "stdout",
     "output_type": "stream",
     "text": [
      "Percentatge de highr_SENSE_PA: 10.20%\n",
      "Nombre d'observacions en highr_SENSE_PA: 5\n"
     ]
    }
   ],
   "execution_count": 696
  },
  {
   "metadata": {},
   "cell_type": "markdown",
   "source": [
    "#### Pvalor "
   ],
   "id": "3baa7d3e12fb1cc"
  },
  {
   "metadata": {},
   "cell_type": "markdown",
   "source": [
    "##### Risc baix"
   ],
   "id": "a0332f1a5433e16"
  },
  {
   "metadata": {
    "ExecuteTime": {
     "end_time": "2024-04-29T07:03:59.496535Z",
     "start_time": "2024-04-29T07:03:59.490573Z"
    }
   },
   "cell_type": "code",
   "source": [
    "t_stat_12, p_val_12 = ttest_ind(AMB_PA['EMINA_sumatorios_comparados'].between(0,5), AMB_PA_MECVV['EMINA_sumatorios_comparados'].between(0,5), equal_var=False)\n",
    "print(\"P-valor entre AMB_PA i AMB_PA_MECVV:\", p_val_12)"
   ],
   "id": "a4c504c10fa639c8",
   "outputs": [
    {
     "name": "stdout",
     "output_type": "stream",
     "text": [
      "P-valor entre AMB_PA i AMB_PA_MECVV: 0.8874457485314164\n"
     ]
    }
   ],
   "execution_count": 697
  },
  {
   "metadata": {
    "ExecuteTime": {
     "end_time": "2024-04-29T07:03:59.890134Z",
     "start_time": "2024-04-29T07:03:59.883326Z"
    }
   },
   "cell_type": "code",
   "source": [
    "t_stat_13, p_val_13 = ttest_ind(AMB_PA['EMINA_sumatorios_comparados'].between(0,5), SENSE_PA['EMINA_sumatorios_comparados'].between(0,5), equal_var=False)\n",
    "print(\"P-valor entre AMB_PA i SENSE_PA:\", p_val_13)"
   ],
   "id": "ac1ec771898cce9b",
   "outputs": [
    {
     "name": "stdout",
     "output_type": "stream",
     "text": [
      "P-valor entre AMB_PA i SENSE_PA: 0.028470032037651503\n"
     ]
    }
   ],
   "execution_count": 698
  },
  {
   "metadata": {
    "ExecuteTime": {
     "end_time": "2024-04-29T07:04:00.192598Z",
     "start_time": "2024-04-29T07:04:00.185818Z"
    }
   },
   "cell_type": "code",
   "source": [
    "t_stat_23, p_val_23 = ttest_ind(AMB_PA_MECVV['EMINA_sumatorios_comparados'].between(0,5), SENSE_PA['EMINA_sumatorios_comparados'].between(0,5), equal_var=False)\n",
    "print(\"P-valor entre AMB_PA_MECVV i SENSE_PA:\", p_val_23)"
   ],
   "id": "85095f67777cc3d1",
   "outputs": [
    {
     "name": "stdout",
     "output_type": "stream",
     "text": [
      "P-valor entre AMB_PA_MECVV i SENSE_PA: 0.12129243251471264\n"
     ]
    }
   ],
   "execution_count": 699
  },
  {
   "metadata": {},
   "cell_type": "markdown",
   "source": [
    "##### Risc moderat"
   ],
   "id": "bc56bb9041c8190"
  },
  {
   "metadata": {
    "ExecuteTime": {
     "end_time": "2024-04-29T07:04:00.517871Z",
     "start_time": "2024-04-29T07:04:00.511546Z"
    }
   },
   "cell_type": "code",
   "source": [
    "t_stat_12, p_val_12 = ttest_ind(AMB_PA['EMINA_sumatorios_comparados'].between(6,10), AMB_PA_MECVV['EMINA_sumatorios_comparados'].between(6,10), equal_var=False)\n",
    "print(\"P-valor entre AMB_PA i AMB_PA_MECVV:\", p_val_12)"
   ],
   "id": "3b06f7bb9555b9c8",
   "outputs": [
    {
     "name": "stdout",
     "output_type": "stream",
     "text": [
      "P-valor entre AMB_PA i AMB_PA_MECVV: 0.40237952012988454\n"
     ]
    }
   ],
   "execution_count": 700
  },
  {
   "metadata": {
    "ExecuteTime": {
     "end_time": "2024-04-29T07:04:00.870057Z",
     "start_time": "2024-04-29T07:04:00.863410Z"
    }
   },
   "cell_type": "code",
   "source": [
    "t_stat_13, p_val_13 = ttest_ind(AMB_PA['EMINA_sumatorios_comparados'].between(6,10), SENSE_PA['EMINA_sumatorios_comparados'].between(6,10), equal_var=False)\n",
    "print(\"P-valor entre AMB_PA i SENSE_PA:\", p_val_13)"
   ],
   "id": "6bc38a3f8e4cb31c",
   "outputs": [
    {
     "name": "stdout",
     "output_type": "stream",
     "text": [
      "P-valor entre AMB_PA i SENSE_PA: 0.09654829012396034\n"
     ]
    }
   ],
   "execution_count": 701
  },
  {
   "metadata": {
    "ExecuteTime": {
     "end_time": "2024-04-29T07:04:01.203437Z",
     "start_time": "2024-04-29T07:04:01.196857Z"
    }
   },
   "cell_type": "code",
   "source": [
    "t_stat_23, p_val_23 = ttest_ind(AMB_PA_MECVV['EMINA_sumatorios_comparados'].between(6,10), SENSE_PA['EMINA_sumatorios_comparados'].between(6,10), equal_var=False)\n",
    "print(\"P-valor entre AMB_PA_MECVV i SENSE_PA:\", p_val_23)"
   ],
   "id": "5724be35a0f2dd6a",
   "outputs": [
    {
     "name": "stdout",
     "output_type": "stream",
     "text": [
      "P-valor entre AMB_PA_MECVV i SENSE_PA: 0.02066325652755892\n"
     ]
    }
   ],
   "execution_count": 702
  },
  {
   "metadata": {},
   "cell_type": "markdown",
   "source": [
    "##### Risc alt"
   ],
   "id": "5fd7cd0228563415"
  },
  {
   "metadata": {
    "ExecuteTime": {
     "end_time": "2024-04-29T07:04:01.503889Z",
     "start_time": "2024-04-29T07:04:01.497624Z"
    }
   },
   "cell_type": "code",
   "source": [
    "t_stat_12, p_val_12 = ttest_ind(AMB_PA['EMINA_sumatorios_comparados'].between(11,15), AMB_PA_MECVV['EMINA_sumatorios_comparados'].between(11,15), equal_var=False)\n",
    "print(\"P-valor entre AMB_PA i AMB_PA_MECVV:\", p_val_12)"
   ],
   "id": "b291b49b7cfd7801",
   "outputs": [
    {
     "name": "stdout",
     "output_type": "stream",
     "text": [
      "P-valor entre AMB_PA i AMB_PA_MECVV: 0.08262239198015026\n"
     ]
    }
   ],
   "execution_count": 703
  },
  {
   "metadata": {
    "ExecuteTime": {
     "end_time": "2024-04-29T07:04:01.863376Z",
     "start_time": "2024-04-29T07:04:01.857834Z"
    }
   },
   "cell_type": "code",
   "source": [
    "t_stat_13, p_val_13 = ttest_ind(AMB_PA['EMINA_sumatorios_comparados'].between(11,15), SENSE_PA['EMINA_sumatorios_comparados'].between(11,15), equal_var=False)\n",
    "print(\"P-valor entre AMB_PA i SENSE_PA:\", p_val_13)"
   ],
   "id": "2d400de538a5c526",
   "outputs": [
    {
     "name": "stdout",
     "output_type": "stream",
     "text": [
      "P-valor entre AMB_PA i SENSE_PA: 0.48486212369214565\n"
     ]
    }
   ],
   "execution_count": 704
  },
  {
   "metadata": {
    "ExecuteTime": {
     "end_time": "2024-04-29T07:04:02.181286Z",
     "start_time": "2024-04-29T07:04:02.175553Z"
    }
   },
   "cell_type": "code",
   "source": [
    "t_stat_23, p_val_23 = ttest_ind(AMB_PA_MECVV['EMINA_sumatorios_comparados'].between(11,15), SENSE_PA['EMINA_sumatorios_comparados'].between(11,15), equal_var=False)\n",
    "print(\"P-valor entre AMB_PA_MECVV i SENSE_PA:\", p_val_23)"
   ],
   "id": "3b22981463d49b29",
   "outputs": [
    {
     "name": "stdout",
     "output_type": "stream",
     "text": [
      "P-valor entre AMB_PA_MECVV i SENSE_PA: 0.02374418239053046\n"
     ]
    }
   ],
   "execution_count": 705
  },
  {
   "metadata": {},
   "cell_type": "markdown",
   "source": [
    "## Index de la canadenca "
   ],
   "id": "5056539fa7987019"
  },
  {
   "metadata": {},
   "cell_type": "markdown",
   "source": [
    "### Mitjana"
   ],
   "id": "de9fe3b93db47a5d"
  },
  {
   "metadata": {
    "ExecuteTime": {
     "end_time": "2024-04-29T07:04:02.504167Z",
     "start_time": "2024-04-29T07:04:02.499575Z"
    }
   },
   "cell_type": "code",
   "source": [
    "promedio_canad = AMB_PA['Canadenca_sumatorios_comparados'].mean()\n",
    "desviacion_estandar_canad = AMB_PA['Canadenca_sumatorios_comparados'].std()\n",
    "\n",
    "resultado = f\"{promedio_canad:.2f} ± {desviacion_estandar_canad:.2f}\"\n",
    "print(\"Mitjana ± Desviació Estàndard de la canadenca:\", resultado)"
   ],
   "id": "f315485a25330ace",
   "outputs": [
    {
     "name": "stdout",
     "output_type": "stream",
     "text": [
      "Mitjana ± Desviació Estàndard de la canadenca: 7.00 ± nan\n"
     ]
    }
   ],
   "execution_count": 706
  },
  {
   "metadata": {
    "ExecuteTime": {
     "end_time": "2024-04-29T07:04:02.881752Z",
     "start_time": "2024-04-29T07:04:02.877369Z"
    }
   },
   "cell_type": "code",
   "source": [
    "promedio_canad = AMB_PA_MECVV['Canadenca_sumatorios_comparados'].mean()\n",
    "desviacion_estandar_canad = AMB_PA_MECVV['Canadenca_sumatorios_comparados'].std()\n",
    "\n",
    "resultado = f\"{promedio_canad:.2f} ± {desviacion_estandar_canad:.2f}\"\n",
    "print(\"Mitjana ± Desviació Estàndard de la canadenca:\", resultado)"
   ],
   "id": "42578915c64daa4c",
   "outputs": [
    {
     "name": "stdout",
     "output_type": "stream",
     "text": [
      "Mitjana ± Desviació Estàndard de la canadenca: 7.00 ± nan\n"
     ]
    }
   ],
   "execution_count": 707
  },
  {
   "metadata": {
    "ExecuteTime": {
     "end_time": "2024-04-29T07:04:03.265293Z",
     "start_time": "2024-04-29T07:04:03.259602Z"
    }
   },
   "cell_type": "code",
   "source": [
    "promedio_canad = SENSE_PA['Canadenca_sumatorios_comparados'].mean()\n",
    "desviacion_estandar_canad = SENSE_PA['Canadenca_sumatorios_comparados'].std()\n",
    "\n",
    "resultado = f\"{promedio_canad:.2f} ± {desviacion_estandar_canad:.2f}\"\n",
    "print(\"Mitjana ± Desviació Estàndard de la canadenca:\", resultado)"
   ],
   "id": "28244115d66ef30d",
   "outputs": [
    {
     "name": "stdout",
     "output_type": "stream",
     "text": [
      "Mitjana ± Desviació Estàndard de la canadenca: 8.00 ± 1.41\n"
     ]
    }
   ],
   "execution_count": 708
  },
  {
   "metadata": {},
   "cell_type": "markdown",
   "source": [
    "#### Pvalor"
   ],
   "id": "6354bda0e179eb04"
  },
  {
   "metadata": {},
   "cell_type": "markdown",
   "source": [
    "##### Normalitat"
   ],
   "id": "938ad17a698e9c0c"
  },
  {
   "metadata": {
    "ExecuteTime": {
     "end_time": "2024-04-29T07:04:03.607872Z",
     "start_time": "2024-04-29T07:04:03.603070Z"
    }
   },
   "cell_type": "code",
   "source": [
    "stat, p_value = shapiro(AMB_PA['Canadenca_sumatorios_comparados'])\n",
    "print(f\"Estadístic W = {stat:.4f}\")\n",
    "print(f\"Valor p = {p_value:.4f}\")\n",
    "\n",
    "alpha = 0.05\n",
    "if p_value < alpha:\n",
    "    print(\"El nombre de files no segueix una distribució normal.\")\n",
    "else:\n",
    "    print(\"El nombre de files segueix una distribució normal.\")"
   ],
   "id": "a4c87af407fd3808",
   "outputs": [
    {
     "name": "stdout",
     "output_type": "stream",
     "text": [
      "Estadístic W = nan\n",
      "Valor p = nan\n",
      "El nombre de files segueix una distribució normal.\n"
     ]
    }
   ],
   "execution_count": 709
  },
  {
   "metadata": {
    "ExecuteTime": {
     "end_time": "2024-04-29T07:04:03.979657Z",
     "start_time": "2024-04-29T07:04:03.975236Z"
    }
   },
   "cell_type": "code",
   "source": [
    "stat, p_value = shapiro(AMB_PA_MECVV['Canadenca_sumatorios_comparados'])\n",
    "print(f\"Estadístic W = {stat:.4f}\")\n",
    "print(f\"Valor p = {p_value:.4f}\")\n",
    "\n",
    "alpha = 0.05\n",
    "if p_value < alpha:\n",
    "    print(\"El nombre de files no segueix una distribució normal.\")\n",
    "else:\n",
    "    print(\"El nombre de files segueix una distribució normal.\")"
   ],
   "id": "dcf3d0c7212275ae",
   "outputs": [
    {
     "name": "stdout",
     "output_type": "stream",
     "text": [
      "Estadístic W = nan\n",
      "Valor p = nan\n",
      "El nombre de files segueix una distribució normal.\n"
     ]
    }
   ],
   "execution_count": 710
  },
  {
   "metadata": {
    "ExecuteTime": {
     "end_time": "2024-04-29T07:04:04.231405Z",
     "start_time": "2024-04-29T07:04:04.226832Z"
    }
   },
   "cell_type": "code",
   "source": [
    "stat, p_value = shapiro(SENSE_PA['Canadenca_sumatorios_comparados'])\n",
    "print(f\"Estadístic W = {stat:.4f}\")\n",
    "print(f\"Valor p = {p_value:.4f}\")\n",
    "\n",
    "alpha = 0.05\n",
    "if p_value < alpha:\n",
    "    print(\"El nombre de files no segueix una distribució normal.\")\n",
    "else:\n",
    "    print(\"El nombre de files segueix una distribució normal.\")"
   ],
   "id": "8da47ac594412fe2",
   "outputs": [
    {
     "name": "stdout",
     "output_type": "stream",
     "text": [
      "Estadístic W = nan\n",
      "Valor p = nan\n",
      "El nombre de files segueix una distribució normal.\n"
     ]
    }
   ],
   "execution_count": 711
  },
  {
   "metadata": {},
   "cell_type": "markdown",
   "source": [
    "#TODO: modificar esto si realmente no da nan y siguen normalidad"
   ],
   "id": "d17bdc0bf79ec1a7"
  },
  {
   "metadata": {
    "ExecuteTime": {
     "end_time": "2024-04-29T07:04:04.594979Z",
     "start_time": "2024-04-29T07:04:04.590146Z"
    }
   },
   "cell_type": "code",
   "source": [
    "t_stat_12, p_val_12 = mannwhitneyu(AMB_PA['Canadenca_sumatorios_comparados'], AMB_PA_MECVV['Canadenca_sumatorios_comparados'], alternative='two-sided')\n",
    "print(\"P-valor entre AMB_PA i AMB_PA_MECVV:\", p_val_12)"
   ],
   "id": "607d662547537bd",
   "outputs": [
    {
     "name": "stdout",
     "output_type": "stream",
     "text": [
      "P-valor entre AMB_PA i AMB_PA_MECVV: nan\n"
     ]
    }
   ],
   "execution_count": 712
  },
  {
   "metadata": {
    "ExecuteTime": {
     "end_time": "2024-04-29T07:04:04.960009Z",
     "start_time": "2024-04-29T07:04:04.954612Z"
    }
   },
   "cell_type": "code",
   "source": [
    "t_stat_13, p_val_13 = mannwhitneyu(AMB_PA['Canadenca_sumatorios_comparados'], SENSE_PA['Canadenca_sumatorios_comparados'], alternative='two-sided')\n",
    "print(\"P-valor entre AMB_PA i SENSE_PA:\", p_val_13)"
   ],
   "id": "9e5b0ff4c887dbfd",
   "outputs": [
    {
     "name": "stdout",
     "output_type": "stream",
     "text": [
      "P-valor entre AMB_PA i SENSE_PA: nan\n"
     ]
    }
   ],
   "execution_count": 713
  },
  {
   "metadata": {
    "ExecuteTime": {
     "end_time": "2024-04-29T07:04:05.385117Z",
     "start_time": "2024-04-29T07:04:05.380485Z"
    }
   },
   "cell_type": "code",
   "source": [
    "t_stat_23, p_val_23 = ttest_ind(AMB_PA_MECVV['Canadenca_sumatorios_comparados'], SENSE_PA['Canadenca_sumatorios_comparados'], alternative='two-sided')\n",
    "print(\"P-valor entre AMB_PA_MECVV i SENSE_PA:\", p_val_23)"
   ],
   "id": "1ea57b7e52ab052d",
   "outputs": [
    {
     "name": "stdout",
     "output_type": "stream",
     "text": [
      "P-valor entre AMB_PA_MECVV i SENSE_PA: nan\n"
     ]
    }
   ],
   "execution_count": 714
  },
  {
   "metadata": {},
   "cell_type": "markdown",
   "source": [
    "### Valors canadenca"
   ],
   "id": "bd3bf859cf9f0c4c"
  },
  {
   "metadata": {},
   "cell_type": "markdown",
   "source": [
    "##### AMB_PA "
   ],
   "id": "aba9b47507424343"
  },
  {
   "metadata": {
    "ExecuteTime": {
     "end_time": "2024-04-29T07:04:05.632434Z",
     "start_time": "2024-04-29T07:04:05.627114Z"
    }
   },
   "cell_type": "code",
   "source": [
    "mild_AMB_PA = AMB_PA['Canadenca_sumatorios_comparados'].between(10.5, 11.5)\n",
    "Percentatge_mild_AMB_PA = mild_AMB_PA.mean() * 100\n",
    "num_observaciones_mild_AMB_PA = mild_AMB_PA.sum()\n",
    "\n",
    "print(f\"Percentatge de mild_AMB_PA: {Percentatge_mild_AMB_PA:.2f}%\")\n",
    "print(f\"Nombre d'observacions en mild_AMB_PA: {num_observaciones_mild_AMB_PA}\")"
   ],
   "id": "65c87765592301ae",
   "outputs": [
    {
     "name": "stdout",
     "output_type": "stream",
     "text": [
      "Percentatge de mild_AMB_PA: 0.00%\n",
      "Nombre d'observacions en mild_AMB_PA: 0\n"
     ]
    }
   ],
   "execution_count": 715
  },
  {
   "metadata": {
    "ExecuteTime": {
     "end_time": "2024-04-29T07:04:06.045548Z",
     "start_time": "2024-04-29T07:04:06.041060Z"
    }
   },
   "cell_type": "code",
   "source": [
    "modneu_AMB_PA = AMB_PA['Canadenca_sumatorios_comparados'].between(5,10)\n",
    "Percentatge_modneu_AMB_PA = modneu_AMB_PA.mean() * 100\n",
    "num_observaciones_modneu_AMB_PA = modneu_AMB_PA.sum()\n",
    "\n",
    "print(f\"Percentatge de modneu_AMB_PA: {Percentatge_modneu_AMB_PA:.2f}%\")\n",
    "print(f\"Nombre d'observacions en modneu_AMB_PA: {num_observaciones_modneu_AMB_PA}\")"
   ],
   "id": "1442231e84ac756e",
   "outputs": [
    {
     "name": "stdout",
     "output_type": "stream",
     "text": [
      "Percentatge de modneu_AMB_PA: 5.88%\n",
      "Nombre d'observacions en modneu_AMB_PA: 1\n"
     ]
    }
   ],
   "execution_count": 716
  },
  {
   "metadata": {
    "ExecuteTime": {
     "end_time": "2024-04-29T07:04:06.370035Z",
     "start_time": "2024-04-29T07:04:06.364996Z"
    }
   },
   "cell_type": "code",
   "source": [
    "sevneu_AMB_PA = AMB_PA['Canadenca_sumatorios_comparados'].between(1.5, 4.5)\n",
    "Percentatge_sevneu_AMB_PA = sevneu_AMB_PA.mean() * 100\n",
    "num_observaciones_sevneu_AMB_PA = sevneu_AMB_PA.sum()\n",
    "\n",
    "print(f\"Percentatge de sevneu_AMB_PA: {Percentatge_sevneu_AMB_PA:.2f}%\")\n",
    "print(f\"Nombre d'observacions en sevneu_AMB_PA: {num_observaciones_sevneu_AMB_PA}\")"
   ],
   "id": "586734927dd28815",
   "outputs": [
    {
     "name": "stdout",
     "output_type": "stream",
     "text": [
      "Percentatge de sevneu_AMB_PA: 0.00%\n",
      "Nombre d'observacions en sevneu_AMB_PA: 0\n"
     ]
    }
   ],
   "execution_count": 717
  },
  {
   "metadata": {},
   "cell_type": "markdown",
   "source": [
    "##### AMB_PA_MECVV"
   ],
   "id": "f03643daf5c46168"
  },
  {
   "metadata": {
    "ExecuteTime": {
     "end_time": "2024-04-29T07:04:06.664812Z",
     "start_time": "2024-04-29T07:04:06.660368Z"
    }
   },
   "cell_type": "code",
   "source": [
    "mild_AMB_PA_MECVV = AMB_PA_MECVV['Canadenca_sumatorios_comparados'].between(10.5, 11.5)\n",
    "Percentatge_mild_AMB_PA_MECVV = mild_AMB_PA_MECVV.mean() * 100\n",
    "num_observaciones_mild_AMB_PA_MECVV = mild_AMB_PA_MECVV.sum()\n",
    "\n",
    "print(f\"Percentatge de mild_AMB_PA_MECVV: {Percentatge_mild_AMB_PA_MECVV:.2f}%\")\n",
    "print(f\"Nombre d'observacions en mild_AMB_PA_MECVV: {num_observaciones_mild_AMB_PA_MECVV}\")"
   ],
   "id": "57347bcca5478fa7",
   "outputs": [
    {
     "name": "stdout",
     "output_type": "stream",
     "text": [
      "Percentatge de mild_AMB_PA_MECVV: 0.00%\n",
      "Nombre d'observacions en mild_AMB_PA_MECVV: 0\n"
     ]
    }
   ],
   "execution_count": 718
  },
  {
   "metadata": {
    "ExecuteTime": {
     "end_time": "2024-04-29T07:04:06.953574Z",
     "start_time": "2024-04-29T07:04:06.948458Z"
    }
   },
   "cell_type": "code",
   "source": [
    "modneu_AMB_PA_MECVV = AMB_PA_MECVV['Canadenca_sumatorios_comparados'].between(5,10)\n",
    "Percentatge_modneu_AMB_PA_MECVV = modneu_AMB_PA_MECVV.mean() * 100\n",
    "num_observaciones_modneu_AMB_PA_MECVV = modneu_AMB_PA_MECVV.sum()\n",
    "\n",
    "print(f\"Percentatge de modneu_AMB_PA_MECVV: {Percentatge_modneu_AMB_PA_MECVV:.2f}%\")\n",
    "print(f\"Nombre d'observacions en modneu_AMB_PA_MECVV: {num_observaciones_modneu_AMB_PA_MECVV}\")"
   ],
   "id": "be2a9404e79e283",
   "outputs": [
    {
     "name": "stdout",
     "output_type": "stream",
     "text": [
      "Percentatge de modneu_AMB_PA_MECVV: 10.00%\n",
      "Nombre d'observacions en modneu_AMB_PA_MECVV: 1\n"
     ]
    }
   ],
   "execution_count": 719
  },
  {
   "metadata": {
    "ExecuteTime": {
     "end_time": "2024-04-29T07:04:07.312717Z",
     "start_time": "2024-04-29T07:04:07.308057Z"
    }
   },
   "cell_type": "code",
   "source": [
    "sevneu_AMB_PA_MECVV = AMB_PA_MECVV['Canadenca_sumatorios_comparados'].between(1.5, 4.5)\n",
    "Percentatge_sevneu_AMB_PA_MECVV = sevneu_AMB_PA_MECVV.mean() * 100\n",
    "num_observaciones_sevneu_AMB_PA_MECVV = sevneu_AMB_PA_MECVV.sum()\n",
    "\n",
    "print(f\"Percentatge de sevneu_AMB_PA_MECVV: {Percentatge_sevneu_AMB_PA_MECVV:.2f}%\")\n",
    "print(f\"Nombre d'observacions en sevneu_AMB_PA_MECVV: {num_observaciones_sevneu_AMB_PA_MECVV}\")"
   ],
   "id": "c712d55b14205c2d",
   "outputs": [
    {
     "name": "stdout",
     "output_type": "stream",
     "text": [
      "Percentatge de sevneu_AMB_PA_MECVV: 0.00%\n",
      "Nombre d'observacions en sevneu_AMB_PA_MECVV: 0\n"
     ]
    }
   ],
   "execution_count": 720
  },
  {
   "metadata": {},
   "cell_type": "markdown",
   "source": [
    "##### SENSE_PA"
   ],
   "id": "d6b64c5ca280741f"
  },
  {
   "metadata": {
    "ExecuteTime": {
     "end_time": "2024-04-29T07:04:07.619908Z",
     "start_time": "2024-04-29T07:04:07.615037Z"
    }
   },
   "cell_type": "code",
   "source": [
    "mild_SENSE_PA = SENSE_PA['Canadenca_sumatorios_comparados'].between(10.5, 11.5)\n",
    "Percentatge_mild_SENSE_PA = mild_SENSE_PA.mean() * 100\n",
    "num_observaciones_mild_SENSE_PA = mild_SENSE_PA.sum()\n",
    "\n",
    "print(f\"Percentatge de mild_SENSE_PA: {Percentatge_mild_SENSE_PA:.2f}%\")\n",
    "print(f\"Nombre d'observacions en mild_SENSE_PA: {num_observaciones_mild_SENSE_PA}\")"
   ],
   "id": "61008dd57d322928",
   "outputs": [
    {
     "name": "stdout",
     "output_type": "stream",
     "text": [
      "Percentatge de mild_SENSE_PA: 0.00%\n",
      "Nombre d'observacions en mild_SENSE_PA: 0\n"
     ]
    }
   ],
   "execution_count": 721
  },
  {
   "metadata": {
    "ExecuteTime": {
     "end_time": "2024-04-29T07:04:08.027668Z",
     "start_time": "2024-04-29T07:04:08.021900Z"
    }
   },
   "cell_type": "code",
   "source": [
    "modneu_SENSE_PA = SENSE_PA['Canadenca_sumatorios_comparados'].between(5,10)\n",
    "Percentatge_modneu_SENSE_PA = modneu_SENSE_PA.mean() * 100\n",
    "num_observaciones_modneu_SENSE_PA = modneu_SENSE_PA.sum()\n",
    "\n",
    "print(f\"Percentatge de modneu_SENSE_PA: {Percentatge_modneu_SENSE_PA:.2f}%\")\n",
    "print(f\"Nombre d'observacions en modneu_SENSE_PA: {num_observaciones_modneu_SENSE_PA}\")"
   ],
   "id": "d93cb1dc52c2e4a3",
   "outputs": [
    {
     "name": "stdout",
     "output_type": "stream",
     "text": [
      "Percentatge de modneu_SENSE_PA: 4.08%\n",
      "Nombre d'observacions en modneu_SENSE_PA: 2\n"
     ]
    }
   ],
   "execution_count": 722
  },
  {
   "metadata": {
    "ExecuteTime": {
     "end_time": "2024-04-29T07:04:08.300224Z",
     "start_time": "2024-04-29T07:04:08.295144Z"
    }
   },
   "cell_type": "code",
   "source": [
    "sevneu_SENSE_PA = SENSE_PA['Canadenca_sumatorios_comparados'].between(1.5, 4.5)\n",
    "Percentatge_sevneu_SENSE_PA = sevneu_SENSE_PA.mean() * 100\n",
    "num_observaciones_sevneu_SENSE_PA = sevneu_SENSE_PA.sum()\n",
    "\n",
    "print(f\"Percentatge de sevneu_SENSE_PA: {Percentatge_sevneu_SENSE_PA:.2f}%\")\n",
    "print(f\"Nombre d'observacions en sevneu_SENSE_PA: {num_observaciones_sevneu_SENSE_PA}\")"
   ],
   "id": "c2bd8e7e46f3f6fa",
   "outputs": [
    {
     "name": "stdout",
     "output_type": "stream",
     "text": [
      "Percentatge de sevneu_SENSE_PA: 0.00%\n",
      "Nombre d'observacions en sevneu_SENSE_PA: 0\n"
     ]
    }
   ],
   "execution_count": 723
  },
  {
   "metadata": {},
   "cell_type": "markdown",
   "source": [
    "#### Pvalor"
   ],
   "id": "d3c987c2989e5129"
  },
  {
   "metadata": {},
   "cell_type": "markdown",
   "source": [
    "##### Dèficit neurològic lleuger (mild)"
   ],
   "id": "434c4358f4a229a0"
  },
  {
   "metadata": {
    "ExecuteTime": {
     "end_time": "2024-04-29T07:04:08.635521Z",
     "start_time": "2024-04-29T07:04:08.628133Z"
    }
   },
   "cell_type": "code",
   "source": [
    "t_stat_12, p_val_12 = ttest_ind(AMB_PA['Canadenca_sumatorios_comparados'].between(10.5,11.5), AMB_PA_MECVV['Canadenca_sumatorios_comparados'].between(10.5,11.5), equal_var=False)\n",
    "print(\"P-valor entre AMB_PA i AMB_PA_MECVV:\", p_val_12)"
   ],
   "id": "c73d6b247f483fed",
   "outputs": [
    {
     "name": "stdout",
     "output_type": "stream",
     "text": [
      "P-valor entre AMB_PA i AMB_PA_MECVV: nan\n"
     ]
    }
   ],
   "execution_count": 724
  },
  {
   "metadata": {
    "ExecuteTime": {
     "end_time": "2024-04-29T07:04:09.079114Z",
     "start_time": "2024-04-29T07:04:09.069901Z"
    }
   },
   "cell_type": "code",
   "source": [
    "t_stat_13, p_val_13 = ttest_ind(AMB_PA['Canadenca_sumatorios_comparados'].between(10.5,11.5), SENSE_PA['Canadenca_sumatorios_comparados'].between(10.5,11.5), equal_var=False)\n",
    "print(\"P-valor entre AMB_PA i SENSE_PA:\", p_val_13)"
   ],
   "id": "60e422a1a3bbc0b0",
   "outputs": [
    {
     "name": "stdout",
     "output_type": "stream",
     "text": [
      "P-valor entre AMB_PA i SENSE_PA: nan\n"
     ]
    }
   ],
   "execution_count": 725
  },
  {
   "metadata": {
    "ExecuteTime": {
     "end_time": "2024-04-29T07:04:09.609447Z",
     "start_time": "2024-04-29T07:04:09.600342Z"
    }
   },
   "cell_type": "code",
   "source": [
    "t_stat_23, p_val_23 = ttest_ind(AMB_PA_MECVV['Canadenca_sumatorios_comparados'].between(10.5,11.5), SENSE_PA['Canadenca_sumatorios_comparados'].between(10.5,11.5), equal_var=False)\n",
    "print(\"P-valor entre AMB_PA_MECVV i SENSE_PA:\", p_val_23)"
   ],
   "id": "c075274c183bac63",
   "outputs": [
    {
     "name": "stdout",
     "output_type": "stream",
     "text": [
      "P-valor entre AMB_PA_MECVV i SENSE_PA: nan\n"
     ]
    }
   ],
   "execution_count": 726
  },
  {
   "metadata": {},
   "cell_type": "markdown",
   "source": [
    "##### Dèficit neurològic moderat"
   ],
   "id": "552ccd99227faf82"
  },
  {
   "metadata": {
    "ExecuteTime": {
     "end_time": "2024-04-29T07:04:10.001353Z",
     "start_time": "2024-04-29T07:04:09.995861Z"
    }
   },
   "cell_type": "code",
   "source": [
    "t_stat_12, p_val_12 = mannwhitneyu(AMB_PA['Canadenca_sumatorios_comparados'].between(5,10), AMB_PA_MECVV['Canadenca_sumatorios_comparados'].between(5, 10), alternative='less')\n",
    "print(\"P-valor entre AMB_PA i AMB_PA_MECVV:\", p_val_12)"
   ],
   "id": "e94a1d27fb89e47b",
   "outputs": [
    {
     "name": "stdout",
     "output_type": "stream",
     "text": [
      "P-valor entre AMB_PA i AMB_PA_MECVV: 0.3700051180291794\n"
     ]
    }
   ],
   "execution_count": 727
  },
  {
   "metadata": {
    "ExecuteTime": {
     "end_time": "2024-04-29T07:04:10.458532Z",
     "start_time": "2024-04-29T07:04:10.453131Z"
    }
   },
   "cell_type": "code",
   "source": [
    "t_stat_13, p_val_13 = mannwhitneyu(AMB_PA['Canadenca_sumatorios_comparados'].between(5,10), SENSE_PA['Canadenca_sumatorios_comparados'].between(5, 10), alternative='less')\n",
    "print(\"P-valor entre AMB_PA i SENSE_PA:\", p_val_13)"
   ],
   "id": "b8a25453cf521a60",
   "outputs": [
    {
     "name": "stdout",
     "output_type": "stream",
     "text": [
      "P-valor entre AMB_PA i SENSE_PA: 0.6274490868971419\n"
     ]
    }
   ],
   "execution_count": 728
  },
  {
   "metadata": {
    "ExecuteTime": {
     "end_time": "2024-04-29T07:04:10.774913Z",
     "start_time": "2024-04-29T07:04:10.769640Z"
    }
   },
   "cell_type": "code",
   "source": [
    "t_stat_23, p_val_23 = mannwhitneyu(AMB_PA_MECVV['Canadenca_sumatorios_comparados'].between(5,10), SENSE_PA['Canadenca_sumatorios_comparados'].between(5, 10), alternative='less')\n",
    "print(\"P-valor entre AMB_PA_MECVV i SENSE_PA:\", p_val_23)"
   ],
   "id": "42d8b634d6f77cf8",
   "outputs": [
    {
     "name": "stdout",
     "output_type": "stream",
     "text": [
      "P-valor entre AMB_PA_MECVV i SENSE_PA: 0.7870742763184819\n"
     ]
    }
   ],
   "execution_count": 729
  },
  {
   "metadata": {},
   "cell_type": "markdown",
   "source": [
    "##### Dèficit neurològic greu (sever)"
   ],
   "id": "28b3b79ffa4ba154"
  },
  {
   "metadata": {
    "ExecuteTime": {
     "end_time": "2024-04-29T07:04:11.131304Z",
     "start_time": "2024-04-29T07:04:11.123223Z"
    }
   },
   "cell_type": "code",
   "source": [
    "t_stat_12, p_val_12 = ttest_ind(AMB_PA['Canadenca_sumatorios_comparados'].between(1.5,4.5), AMB_PA_MECVV['Canadenca_sumatorios_comparados'].between(1.5,4.5), equal_var=False)\n",
    "print(\"P-valor entre AMB_PA i AMB_PA_MECVV:\", p_val_12)"
   ],
   "id": "1375c0dec76e62b5",
   "outputs": [
    {
     "name": "stdout",
     "output_type": "stream",
     "text": [
      "P-valor entre AMB_PA i AMB_PA_MECVV: nan\n"
     ]
    }
   ],
   "execution_count": 730
  },
  {
   "metadata": {
    "ExecuteTime": {
     "end_time": "2024-04-29T07:04:11.447124Z",
     "start_time": "2024-04-29T07:04:11.441397Z"
    }
   },
   "cell_type": "code",
   "source": [
    "t_stat_13, p_val_13 = ttest_ind(AMB_PA['Canadenca_sumatorios_comparados'].between(1.5, 4.5), SENSE_PA['Canadenca_sumatorios_comparados'].between(1.5, 4.5), equal_var=False)\n",
    "print(\"P-valor entre AMB_PA i SENSE_PA:\", p_val_13)"
   ],
   "id": "b9b1bd499fc47c40",
   "outputs": [
    {
     "name": "stdout",
     "output_type": "stream",
     "text": [
      "P-valor entre AMB_PA i SENSE_PA: nan\n"
     ]
    }
   ],
   "execution_count": 731
  },
  {
   "metadata": {
    "ExecuteTime": {
     "end_time": "2024-04-29T07:04:11.907970Z",
     "start_time": "2024-04-29T07:04:11.901152Z"
    }
   },
   "cell_type": "code",
   "source": [
    "t_stat_23, p_val_23 = ttest_ind(AMB_PA_MECVV['Canadenca_sumatorios_comparados'].between(1.5,4.5), SENSE_PA['Canadenca_sumatorios_comparados'].between(1.5, 4.5), equal_var=False)\n",
    "print(\"P-valor entre AMB_PA_MECVV i SENSE_PA:\", p_val_23)"
   ],
   "id": "f4a9f79d4781e2f6",
   "outputs": [
    {
     "name": "stdout",
     "output_type": "stream",
     "text": [
      "P-valor entre AMB_PA_MECVV i SENSE_PA: nan\n"
     ]
    }
   ],
   "execution_count": 732
  },
  {
   "metadata": {},
   "cell_type": "markdown",
   "source": [
    "## Infeccions respiratòries"
   ],
   "id": "1c243e776c0acbcb"
  },
  {
   "metadata": {},
   "cell_type": "markdown",
   "source": [
    "##### AMB_PA "
   ],
   "id": "75cdc96e688bb6e5"
  },
  {
   "metadata": {
    "ExecuteTime": {
     "end_time": "2024-04-29T07:04:12.170582Z",
     "start_time": "2024-04-29T07:04:12.166204Z"
    }
   },
   "cell_type": "code",
   "source": [
    "mainresp_AMB_PA= (AMB_PA['Main_respiratory_infections_diagnosticada'] == 1.0).mean() * 100\n",
    "print(f\"Percentatge de infeccions respiratòries principals : {mainresp_AMB_PA:.2f}%\")"
   ],
   "id": "6b4ac9f955c7ef70",
   "outputs": [
    {
     "name": "stdout",
     "output_type": "stream",
     "text": [
      "Percentatge de infeccions respiratòries principals : 41.18%\n"
     ]
    }
   ],
   "execution_count": 733
  },
  {
   "metadata": {
    "ExecuteTime": {
     "end_time": "2024-04-29T07:04:12.637425Z",
     "start_time": "2024-04-29T07:04:12.631894Z"
    }
   },
   "cell_type": "code",
   "source": [
    "LRTI_AMB_PA= (AMB_PA['LRTI_diagnosticada'] == 1.0).mean() * 100\n",
    "print(f\"Percentatge de LRTI: {LRTI_AMB_PA:.2f}%\")"
   ],
   "id": "f2cab9c85d7b18bf",
   "outputs": [
    {
     "name": "stdout",
     "output_type": "stream",
     "text": [
      "Percentatge de LRTI: 17.65%\n"
     ]
    }
   ],
   "execution_count": 734
  },
  {
   "metadata": {
    "ExecuteTime": {
     "end_time": "2024-04-29T07:04:13.124788Z",
     "start_time": "2024-04-29T07:04:13.119832Z"
    }
   },
   "cell_type": "code",
   "source": [
    "COPD_AMB_PA= (AMB_PA['COPD_exacerbations_diagnosticada'] == 1.0).mean() * 100\n",
    "print(f\"Percentatge de exacerbacions de COPD: {COPD_AMB_PA:.2f}%\")"
   ],
   "id": "e92f1139bdd11207",
   "outputs": [
    {
     "name": "stdout",
     "output_type": "stream",
     "text": [
      "Percentatge de exacerbacions de COPD: 29.41%\n"
     ]
    }
   ],
   "execution_count": 735
  },
  {
   "metadata": {
    "ExecuteTime": {
     "end_time": "2024-04-29T07:04:13.550373Z",
     "start_time": "2024-04-29T07:04:13.545112Z"
    }
   },
   "cell_type": "code",
   "source": [
    "fibro_AMB_PA= (AMB_PA['Pulmonary_fibrosis_fibrotorax_diagnosticada'] == 1.0).mean() * 100\n",
    "print(f\"Percentatge de fibrosi pulmonar i fibrotòrax: {fibro_AMB_PA:.2f}%\")"
   ],
   "id": "f60fd9578e2dc543",
   "outputs": [
    {
     "name": "stdout",
     "output_type": "stream",
     "text": [
      "Percentatge de fibrosi pulmonar i fibrotòrax: 0.00%\n"
     ]
    }
   ],
   "execution_count": 736
  },
  {
   "metadata": {},
   "cell_type": "markdown",
   "source": [
    "##### AMB_PA_MECVV"
   ],
   "id": "a81ccd9e1687fa90"
  },
  {
   "metadata": {
    "ExecuteTime": {
     "end_time": "2024-04-29T07:04:13.894702Z",
     "start_time": "2024-04-29T07:04:13.889666Z"
    }
   },
   "cell_type": "code",
   "source": [
    "mainresp_AMB_PA_MECVV= (AMB_PA_MECVV['Main_respiratory_infections_diagnosticada'] == 1.0).mean() * 100\n",
    "print(f\"Percentatge de infeccions respiratòries principals : {mainresp_AMB_PA_MECVV:.2f}%\")"
   ],
   "id": "b33098c2a54d36b5",
   "outputs": [
    {
     "name": "stdout",
     "output_type": "stream",
     "text": [
      "Percentatge de infeccions respiratòries principals : 50.00%\n"
     ]
    }
   ],
   "execution_count": 737
  },
  {
   "metadata": {
    "ExecuteTime": {
     "end_time": "2024-04-29T07:04:14.424397Z",
     "start_time": "2024-04-29T07:04:14.419943Z"
    }
   },
   "cell_type": "code",
   "source": [
    "LRTI_AMB_PA_MECVV= (AMB_PA_MECVV['LRTI_diagnosticada'] == 1.0).mean() * 100\n",
    "print(f\"Percentatge de LRTI: {LRTI_AMB_PA_MECVV:.2f}%\")"
   ],
   "id": "f85be13f8ff8a16d",
   "outputs": [
    {
     "name": "stdout",
     "output_type": "stream",
     "text": [
      "Percentatge de LRTI: 20.00%\n"
     ]
    }
   ],
   "execution_count": 738
  },
  {
   "metadata": {
    "ExecuteTime": {
     "end_time": "2024-04-29T07:04:14.741846Z",
     "start_time": "2024-04-29T07:04:14.737685Z"
    }
   },
   "cell_type": "code",
   "source": [
    "COPD_AMB_PA_MECVV = (AMB_PA_MECVV['COPD_exacerbations_diagnosticada'] == 1.0).mean() * 100\n",
    "print(f\"Percentatge de exacerbacions de COPD: {COPD_AMB_PA_MECVV:.2f}%\")"
   ],
   "id": "d490fe0fa5146ba1",
   "outputs": [
    {
     "name": "stdout",
     "output_type": "stream",
     "text": [
      "Percentatge de exacerbacions de COPD: 30.00%\n"
     ]
    }
   ],
   "execution_count": 739
  },
  {
   "metadata": {
    "ExecuteTime": {
     "end_time": "2024-04-29T07:04:15.062969Z",
     "start_time": "2024-04-29T07:04:15.058454Z"
    }
   },
   "cell_type": "code",
   "source": [
    "fibro_AMB_PA_MECVV = (AMB_PA_MECVV['Pulmonary_fibrosis_fibrotorax_diagnosticada'] == 1.0).mean() * 100\n",
    "print(f\"Percentatge de fibrosi pulmonar i fibrotòrax: {fibro_AMB_PA_MECVV:.2f}%\")"
   ],
   "id": "719cbe71770c9c5d",
   "outputs": [
    {
     "name": "stdout",
     "output_type": "stream",
     "text": [
      "Percentatge de fibrosi pulmonar i fibrotòrax: 0.00%\n"
     ]
    }
   ],
   "execution_count": 740
  },
  {
   "metadata": {},
   "cell_type": "markdown",
   "source": [
    "##### SENSE_PA"
   ],
   "id": "4ee57a32f85d8da"
  },
  {
   "metadata": {
    "ExecuteTime": {
     "end_time": "2024-04-29T07:04:15.450470Z",
     "start_time": "2024-04-29T07:04:15.445591Z"
    }
   },
   "cell_type": "code",
   "source": [
    "mainresp_SENSE_PA= (SENSE_PA['Main_respiratory_infections_diagnosticada'] == 1.0).mean() * 100\n",
    "print(f\"Percentatge de infeccions respiratòries principals : {mainresp_SENSE_PA:.2f}%\")"
   ],
   "id": "13154b248379e6da",
   "outputs": [
    {
     "name": "stdout",
     "output_type": "stream",
     "text": [
      "Percentatge de infeccions respiratòries principals : 42.86%\n"
     ]
    }
   ],
   "execution_count": 741
  },
  {
   "metadata": {
    "ExecuteTime": {
     "end_time": "2024-04-29T07:04:15.878106Z",
     "start_time": "2024-04-29T07:04:15.872308Z"
    }
   },
   "cell_type": "code",
   "source": [
    "LRTI_SENSE_PA= (SENSE_PA['LRTI_diagnosticada'] == 1.0).mean() * 100\n",
    "print(f\"Percentatge de LRTI: {LRTI_SENSE_PA:.2f}%\")"
   ],
   "id": "7b6d0993a6d8d0f7",
   "outputs": [
    {
     "name": "stdout",
     "output_type": "stream",
     "text": [
      "Percentatge de LRTI: 22.45%\n"
     ]
    }
   ],
   "execution_count": 742
  },
  {
   "metadata": {
    "ExecuteTime": {
     "end_time": "2024-04-29T07:04:16.184302Z",
     "start_time": "2024-04-29T07:04:16.179264Z"
    }
   },
   "cell_type": "code",
   "source": [
    "COPD_SENSE_PA= (SENSE_PA['COPD_exacerbations_diagnosticada'] == 1.0).mean() * 100\n",
    "print(f\"Percentatge de exacerbacions de COPD: {COPD_SENSE_PA:.2f}%\")"
   ],
   "id": "2fde8b1f558da814",
   "outputs": [
    {
     "name": "stdout",
     "output_type": "stream",
     "text": [
      "Percentatge de exacerbacions de COPD: 32.65%\n"
     ]
    }
   ],
   "execution_count": 743
  },
  {
   "metadata": {
    "ExecuteTime": {
     "end_time": "2024-04-29T07:04:16.581478Z",
     "start_time": "2024-04-29T07:04:16.577636Z"
    }
   },
   "cell_type": "code",
   "source": [
    "fibro_SENSE_PA= (SENSE_PA['Pulmonary_fibrosis_fibrotorax_diagnosticada'] == 1.0).mean() * 100\n",
    "print(f\"Percentatge de fibrosi pulmonar i fibrotòrax: {fibro_SENSE_PA:.2f}%\")"
   ],
   "id": "9ec61073db25b76d",
   "outputs": [
    {
     "name": "stdout",
     "output_type": "stream",
     "text": [
      "Percentatge de fibrosi pulmonar i fibrotòrax: 0.00%\n"
     ]
    }
   ],
   "execution_count": 744
  },
  {
   "metadata": {},
   "cell_type": "markdown",
   "source": [
    "#### Pvalor"
   ],
   "id": "e4b7d99054b0af12"
  },
  {
   "metadata": {},
   "cell_type": "markdown",
   "source": [
    "##### Normalitat"
   ],
   "id": "66f7ae1bb05b0697"
  },
  {
   "metadata": {
    "ExecuteTime": {
     "end_time": "2024-04-29T07:04:16.919534Z",
     "start_time": "2024-04-29T07:04:16.914021Z"
    }
   },
   "cell_type": "code",
   "source": [
    "stat, p_value = shapiro(AMB_PA['Main_respiratory_infections_diagnosticada'])\n",
    "print(f\"Estadístic W = {stat:.4f}\")\n",
    "print(f\"Valor p = {p_value:.8f}\")\n",
    "\n",
    "alpha = 0.05\n",
    "if p_value < alpha:\n",
    "    print(\"El nombre de files no segueix una distribució normal.\")\n",
    "else:\n",
    "    print(\"El nombre de files segueix una distribució normal.\")"
   ],
   "id": "c6e2b4b1f48b3dc",
   "outputs": [
    {
     "name": "stdout",
     "output_type": "stream",
     "text": [
      "Estadístic W = 0.6317\n",
      "Valor p = 0.00002144\n",
      "El nombre de files no segueix una distribució normal.\n"
     ]
    }
   ],
   "execution_count": 745
  },
  {
   "metadata": {
    "ExecuteTime": {
     "end_time": "2024-04-29T07:04:17.335925Z",
     "start_time": "2024-04-29T07:04:17.330753Z"
    }
   },
   "cell_type": "code",
   "source": [
    "stat, p_value = shapiro(AMB_PA['LRTI_diagnosticada'])\n",
    "print(f\"Estadístic W = {stat:.4f}\")\n",
    "print(f\"Valor p = {p_value:.8f}\")\n",
    "\n",
    "alpha = 0.05\n",
    "if p_value < alpha:\n",
    "    print(\"El nombre de files no segueix una distribució normal.\")\n",
    "else:\n",
    "    print(\"El nombre de files segueix una distribució normal.\")"
   ],
   "id": "d543def5475584e8",
   "outputs": [
    {
     "name": "stdout",
     "output_type": "stream",
     "text": [
      "Estadístic W = 0.4702\n",
      "Valor p = 0.00000073\n",
      "El nombre de files no segueix una distribució normal.\n"
     ]
    }
   ],
   "execution_count": 746
  },
  {
   "metadata": {
    "ExecuteTime": {
     "end_time": "2024-04-29T07:04:17.523158Z",
     "start_time": "2024-04-29T07:04:17.518788Z"
    }
   },
   "cell_type": "code",
   "source": [
    "stat, p_value = shapiro(AMB_PA['COPD_exacerbations_diagnosticada'])\n",
    "print(f\"Estadístic W = {stat:.4f}\")\n",
    "print(f\"Valor p = {p_value:.8f}\")\n",
    "\n",
    "alpha = 0.05\n",
    "if p_value < alpha:\n",
    "    print(\"El nombre de files no segueix una distribució normal.\")\n",
    "else:\n",
    "    print(\"El nombre de files segueix una distribució normal.\")"
   ],
   "id": "10e513a73863bebd",
   "outputs": [
    {
     "name": "stdout",
     "output_type": "stream",
     "text": [
      "Estadístic W = 0.5785\n",
      "Valor p = 0.00000650\n",
      "El nombre de files no segueix una distribució normal.\n"
     ]
    }
   ],
   "execution_count": 747
  },
  {
   "metadata": {
    "ExecuteTime": {
     "end_time": "2024-04-29T07:04:17.809405Z",
     "start_time": "2024-04-29T07:04:17.802945Z"
    }
   },
   "cell_type": "code",
   "source": [
    "stat, p_value = shapiro(AMB_PA['Pulmonary_fibrosis_fibrotorax_diagnosticada'])\n",
    "print(f\"Estadístic W = {stat:.4f}\")\n",
    "print(f\"Valor p = {p_value:.8f}\")\n",
    "\n",
    "alpha = 0.05\n",
    "if p_value < alpha:\n",
    "    print(\"El nombre de files no segueix una distribució normal.\")\n",
    "else:\n",
    "    print(\"El nombre de files segueix una distribució normal.\")"
   ],
   "id": "cd29d6de8e2e9257",
   "outputs": [
    {
     "name": "stdout",
     "output_type": "stream",
     "text": [
      "Estadístic W = 1.0000\n",
      "Valor p = 1.00000000\n",
      "El nombre de files segueix una distribució normal.\n"
     ]
    },
    {
     "name": "stderr",
     "output_type": "stream",
     "text": [
      "C:\\Users\\jmiro\\GitHub\\PRACTICUM\\venv\\Lib\\site-packages\\scipy\\stats\\_axis_nan_policy.py:531: UserWarning: scipy.stats.shapiro: Input data has range zero. The results may not be accurate.\n",
      "  res = hypotest_fun_out(*samples, **kwds)\n"
     ]
    }
   ],
   "execution_count": 748
  },
  {
   "metadata": {
    "ExecuteTime": {
     "end_time": "2024-04-29T07:04:18.091208Z",
     "start_time": "2024-04-29T07:04:18.086633Z"
    }
   },
   "cell_type": "code",
   "source": [
    "stat, p_value = shapiro(AMB_PA_MECVV['Main_respiratory_infections_diagnosticada'])\n",
    "print(f\"Estadístic W = {stat:.4f}\")\n",
    "print(f\"Valor p = {p_value:.8f}\")\n",
    "\n",
    "alpha = 0.05\n",
    "if p_value < alpha:\n",
    "    print(\"El nombre de files no segueix una distribució normal.\")\n",
    "else:\n",
    "    print(\"El nombre de files segueix una distribució normal.\")"
   ],
   "id": "bb27577a80453c31",
   "outputs": [
    {
     "name": "stdout",
     "output_type": "stream",
     "text": [
      "Estadístic W = 0.6553\n",
      "Valor p = 0.00025396\n",
      "El nombre de files no segueix una distribució normal.\n"
     ]
    }
   ],
   "execution_count": 749
  },
  {
   "metadata": {
    "ExecuteTime": {
     "end_time": "2024-04-29T07:04:18.428144Z",
     "start_time": "2024-04-29T07:04:18.422007Z"
    }
   },
   "cell_type": "code",
   "source": [
    "stat, p_value = shapiro(AMB_PA_MECVV['LRTI_diagnosticada'])\n",
    "print(f\"Estadístic W = {stat:.4f}\")\n",
    "print(f\"Valor p = {p_value:.8f}\")\n",
    "\n",
    "alpha = 0.05\n",
    "if p_value < alpha:\n",
    "    print(\"El nombre de files no segueix una distribució normal.\")\n",
    "else:\n",
    "    print(\"El nombre de files segueix una distribució normal.\")"
   ],
   "id": "4524b4b1254b37f2",
   "outputs": [
    {
     "name": "stdout",
     "output_type": "stream",
     "text": [
      "Estadístic W = 0.5093\n",
      "Valor p = 0.00000467\n",
      "El nombre de files no segueix una distribució normal.\n"
     ]
    }
   ],
   "execution_count": 750
  },
  {
   "metadata": {
    "ExecuteTime": {
     "end_time": "2024-04-29T07:04:18.703538Z",
     "start_time": "2024-04-29T07:04:18.699024Z"
    }
   },
   "cell_type": "code",
   "source": [
    "stat, p_value = shapiro(AMB_PA_MECVV['COPD_exacerbations_diagnosticada'])\n",
    "print(f\"Estadístic W = {stat:.4f}\")\n",
    "print(f\"Valor p = {p_value:.8f}\")\n",
    "\n",
    "alpha = 0.05\n",
    "if p_value < alpha:\n",
    "    print(\"El nombre de files no segueix una distribució normal.\")\n",
    "else:\n",
    "    print(\"El nombre de files segueix una distribució normal.\")"
   ],
   "id": "3a1a7fe57776685f",
   "outputs": [
    {
     "name": "stdout",
     "output_type": "stream",
     "text": [
      "Estadístic W = 0.5942\n",
      "Valor p = 0.00004713\n",
      "El nombre de files no segueix una distribució normal.\n"
     ]
    }
   ],
   "execution_count": 751
  },
  {
   "metadata": {
    "ExecuteTime": {
     "end_time": "2024-04-29T07:04:19.083900Z",
     "start_time": "2024-04-29T07:04:19.078053Z"
    }
   },
   "cell_type": "code",
   "source": [
    "stat, p_value = shapiro(AMB_PA_MECVV['Pulmonary_fibrosis_fibrotorax_diagnosticada'])\n",
    "print(f\"Estadístic W = {stat:.4f}\")\n",
    "print(f\"Valor p = {p_value:.8f}\")\n",
    "\n",
    "alpha = 0.05\n",
    "if p_value < alpha:\n",
    "    print(\"El nombre de files no segueix una distribució normal.\")\n",
    "else:\n",
    "    print(\"El nombre de files segueix una distribució normal.\")"
   ],
   "id": "1718e4b49cea9d7f",
   "outputs": [
    {
     "name": "stdout",
     "output_type": "stream",
     "text": [
      "Estadístic W = 1.0000\n",
      "Valor p = 1.00000000\n",
      "El nombre de files segueix una distribució normal.\n"
     ]
    }
   ],
   "execution_count": 752
  },
  {
   "metadata": {
    "ExecuteTime": {
     "end_time": "2024-04-29T07:04:19.323501Z",
     "start_time": "2024-04-29T07:04:19.317988Z"
    }
   },
   "cell_type": "code",
   "source": [
    "stat, p_value = shapiro(SENSE_PA['Main_respiratory_infections_diagnosticada'])\n",
    "print(f\"Estadístic W = {stat:.4f}\")\n",
    "print(f\"Valor p = {p_value:.8f}\")\n",
    "\n",
    "alpha = 0.05\n",
    "if p_value < alpha:\n",
    "    print(\"El nombre de files no segueix una distribució normal.\")\n",
    "else:\n",
    "    print(\"El nombre de files segueix una distribució normal.\")"
   ],
   "id": "ce920cf207335b36",
   "outputs": [
    {
     "name": "stdout",
     "output_type": "stream",
     "text": [
      "Estadístic W = 0.6294\n",
      "Valor p = 0.00000000\n",
      "El nombre de files no segueix una distribució normal.\n"
     ]
    }
   ],
   "execution_count": 753
  },
  {
   "metadata": {
    "ExecuteTime": {
     "end_time": "2024-04-29T07:04:19.617146Z",
     "start_time": "2024-04-29T07:04:19.611835Z"
    }
   },
   "cell_type": "code",
   "source": [
    "stat, p_value = shapiro(SENSE_PA['LRTI_diagnosticada'])\n",
    "print(f\"Estadístic W = {stat:.4f}\")\n",
    "print(f\"Valor p = {p_value:.8f}\")\n",
    "\n",
    "alpha = 0.05\n",
    "if p_value < alpha:\n",
    "    print(\"El nombre de files no segueix una distribució normal.\")\n",
    "else:\n",
    "    print(\"El nombre de files segueix una distribució normal.\")"
   ],
   "id": "3a3a53e648ae0773",
   "outputs": [
    {
     "name": "stdout",
     "output_type": "stream",
     "text": [
      "Estadístic W = 0.5158\n",
      "Valor p = 0.00000000\n",
      "El nombre de files no segueix una distribució normal.\n"
     ]
    }
   ],
   "execution_count": 754
  },
  {
   "metadata": {
    "ExecuteTime": {
     "end_time": "2024-04-29T07:04:19.901139Z",
     "start_time": "2024-04-29T07:04:19.895702Z"
    }
   },
   "cell_type": "code",
   "source": [
    "stat, p_value = shapiro(SENSE_PA['COPD_exacerbations_diagnosticada'])\n",
    "print(f\"Estadístic W = {stat:.4f}\")\n",
    "print(f\"Valor p = {p_value:.8f}\")\n",
    "\n",
    "alpha = 0.05\n",
    "if p_value < alpha:\n",
    "    print(\"El nombre de files no segueix una distribució normal.\")\n",
    "else:\n",
    "    print(\"El nombre de files segueix una distribució normal.\")"
   ],
   "id": "e8e436f4735c57c6",
   "outputs": [
    {
     "name": "stdout",
     "output_type": "stream",
     "text": [
      "Estadístic W = 0.5916\n",
      "Valor p = 0.00000000\n",
      "El nombre de files no segueix una distribució normal.\n"
     ]
    }
   ],
   "execution_count": 755
  },
  {
   "metadata": {
    "ExecuteTime": {
     "end_time": "2024-04-29T07:04:20.212543Z",
     "start_time": "2024-04-29T07:04:20.207310Z"
    }
   },
   "cell_type": "code",
   "source": [
    "stat, p_value = shapiro(SENSE_PA['Pulmonary_fibrosis_fibrotorax_diagnosticada'])\n",
    "print(f\"Estadístic W = {stat:.4f}\")\n",
    "print(f\"Valor p = {p_value:.8f}\")\n",
    "\n",
    "alpha = 0.05\n",
    "if p_value < alpha:\n",
    "    print(\"El nombre de files no segueix una distribució normal.\")\n",
    "else:\n",
    "    print(\"El nombre de files segueix una distribució normal.\")"
   ],
   "id": "57ac2a0db7f4e96c",
   "outputs": [
    {
     "name": "stdout",
     "output_type": "stream",
     "text": [
      "Estadístic W = 1.0000\n",
      "Valor p = 1.00000000\n",
      "El nombre de files segueix una distribució normal.\n"
     ]
    }
   ],
   "execution_count": 756
  },
  {
   "metadata": {},
   "cell_type": "markdown",
   "source": [
    "##### Infeccions respiratòries principals "
   ],
   "id": "5e8e1e8b1c32f8ad"
  },
  {
   "metadata": {
    "ExecuteTime": {
     "end_time": "2024-04-29T07:04:20.452428Z",
     "start_time": "2024-04-29T07:04:20.447109Z"
    }
   },
   "cell_type": "code",
   "source": [
    "stat_12, p_val_12 = mannwhitneyu(AMB_PA['Main_respiratory_infections_diagnosticada'] == 1.0, AMB_PA_MECVV['Main_respiratory_infections_diagnosticada'] == 1.0, alternative='two-sided')\n",
    "print(\"P-valor entre AMB_PA i AMB_PA_MECVV:\", p_val_12)"
   ],
   "id": "db72a64133768bd1",
   "outputs": [
    {
     "name": "stdout",
     "output_type": "stream",
     "text": [
      "P-valor entre AMB_PA i AMB_PA_MECVV: 0.6832089509594992\n"
     ]
    }
   ],
   "execution_count": 757
  },
  {
   "metadata": {
    "ExecuteTime": {
     "end_time": "2024-04-29T07:04:20.887726Z",
     "start_time": "2024-04-29T07:04:20.883167Z"
    }
   },
   "cell_type": "code",
   "source": [
    "stat_13, p_val_13 = mannwhitneyu(AMB_PA['Main_respiratory_infections_diagnosticada'] == 1.0, SENSE_PA['Main_respiratory_infections_diagnosticada'] == 1.0, alternative='two-sided')\n",
    "print(\"P-valor entre AMB_PA i SENSE_PA:\", p_val_13)"
   ],
   "id": "40d95109cbdff899",
   "outputs": [
    {
     "name": "stdout",
     "output_type": "stream",
     "text": [
      "P-valor entre AMB_PA i SENSE_PA: 0.9113557832989896\n"
     ]
    }
   ],
   "execution_count": 758
  },
  {
   "metadata": {
    "ExecuteTime": {
     "end_time": "2024-04-29T07:04:21.071143Z",
     "start_time": "2024-04-29T07:04:21.064844Z"
    }
   },
   "cell_type": "code",
   "source": [
    "stat_23, p_val_23 = mannwhitneyu(AMB_PA_MECVV['Main_respiratory_infections_diagnosticada'] == 1.0, SENSE_PA['Main_respiratory_infections_diagnosticada'] == 1.0, alternative='two-sided')\n",
    "print(\"P-valor entre AMB_PA_MECVV i SENSE_PA:\", p_val_23)"
   ],
   "id": "8fc450c2c0998105",
   "outputs": [
    {
     "name": "stdout",
     "output_type": "stream",
     "text": [
      "P-valor entre AMB_PA_MECVV i SENSE_PA: 0.6896369959432476\n"
     ]
    }
   ],
   "execution_count": 759
  },
  {
   "metadata": {},
   "cell_type": "markdown",
   "source": [
    "##### LRTI"
   ],
   "id": "4212eae2d2582253"
  },
  {
   "metadata": {
    "ExecuteTime": {
     "end_time": "2024-04-29T07:04:21.471540Z",
     "start_time": "2024-04-29T07:04:21.465041Z"
    }
   },
   "cell_type": "code",
   "source": [
    "stat_12, p_val_12 = mannwhitneyu(AMB_PA['LRTI_diagnosticada'] == 1.0, AMB_PA_MECVV['LRTI_diagnosticada'] == 1.0, alternative='two-sided')\n",
    "print(\"P-valor entre AMB_PA i AMB_PA_MECVV:\", p_val_12)"
   ],
   "id": "92b3f9c5ea82b67e",
   "outputs": [
    {
     "name": "stdout",
     "output_type": "stream",
     "text": [
      "P-valor entre AMB_PA i AMB_PA_MECVV: 0.9109318987037512\n"
     ]
    }
   ],
   "execution_count": 760
  },
  {
   "metadata": {
    "ExecuteTime": {
     "end_time": "2024-04-29T07:04:21.660007Z",
     "start_time": "2024-04-29T07:04:21.653979Z"
    }
   },
   "cell_type": "code",
   "source": [
    "stat_13, p_val_13 = mannwhitneyu(AMB_PA['LRTI_diagnosticada'] == 1.0, SENSE_PA['LRTI_diagnosticada'] == 1.0,alternative='two-sided')\n",
    "print(\"P-valor entre AMB_PA i SENSE_PA:\", p_val_13)"
   ],
   "id": "7f648a914bf78cf7",
   "outputs": [
    {
     "name": "stdout",
     "output_type": "stream",
     "text": [
      "P-valor entre AMB_PA i SENSE_PA: 0.6863825106164784\n"
     ]
    }
   ],
   "execution_count": 761
  },
  {
   "metadata": {
    "ExecuteTime": {
     "end_time": "2024-04-29T07:04:21.997039Z",
     "start_time": "2024-04-29T07:04:21.992033Z"
    }
   },
   "cell_type": "code",
   "source": [
    "stat_23, p_val_23 = mannwhitneyu(AMB_PA_MECVV['LRTI_diagnosticada'] == 1.0, SENSE_PA['LRTI_diagnosticada'] == 1.0, alternative='two-sided')\n",
    "print(\"P-valor entre AMB_PA_MECVV i SENSE_PA:\", p_val_23)"
   ],
   "id": "d64bc20d970d227a",
   "outputs": [
    {
     "name": "stdout",
     "output_type": "stream",
     "text": [
      "P-valor entre AMB_PA_MECVV i SENSE_PA: 0.8770107151211659\n"
     ]
    }
   ],
   "execution_count": 762
  },
  {
   "metadata": {},
   "cell_type": "markdown",
   "source": [
    "##### Exacerbacions de COPD"
   ],
   "id": "3f2c5d732213150e"
  },
  {
   "metadata": {
    "ExecuteTime": {
     "end_time": "2024-04-29T07:04:22.313292Z",
     "start_time": "2024-04-29T07:04:22.306852Z"
    }
   },
   "cell_type": "code",
   "source": [
    "stat_12, p_val_12 = mannwhitneyu(AMB_PA['COPD_exacerbations_diagnosticada'] == 1.0, AMB_PA_MECVV['COPD_exacerbations_diagnosticada'] == 1.0, alternative='two-sided')\n",
    "print(\"P-valor entre AMB_PA i AMB_PA_MECVV:\", p_val_12)"
   ],
   "id": "730e3b6ac0c3cabd",
   "outputs": [
    {
     "name": "stdout",
     "output_type": "stream",
     "text": [
      "P-valor entre AMB_PA i AMB_PA_MECVV: 1.0\n"
     ]
    }
   ],
   "execution_count": 763
  },
  {
   "metadata": {
    "ExecuteTime": {
     "end_time": "2024-04-29T07:04:22.919613Z",
     "start_time": "2024-04-29T07:04:22.912371Z"
    }
   },
   "cell_type": "code",
   "source": [
    "stat_13, p_val_13 = mannwhitneyu(AMB_PA['COPD_exacerbations_diagnosticada'] == 1.0, SENSE_PA['COPD_exacerbations_diagnosticada'] == 1.0, alternative='two-sided')\n",
    "print(\"P-valor entre AMB_PA i SENSE_PA:\", p_val_13)"
   ],
   "id": "11cc00214bae88b1",
   "outputs": [
    {
     "name": "stdout",
     "output_type": "stream",
     "text": [
      "P-valor entre AMB_PA i SENSE_PA: 0.8132303236327403\n"
     ]
    }
   ],
   "execution_count": 764
  },
  {
   "metadata": {
    "ExecuteTime": {
     "end_time": "2024-04-29T07:04:23.233529Z",
     "start_time": "2024-04-29T07:04:23.226208Z"
    }
   },
   "cell_type": "code",
   "source": [
    "stat_23, p_val_23 = mannwhitneyu(AMB_PA_MECVV['COPD_exacerbations_diagnosticada'] == 1.0, SENSE_PA['COPD_exacerbations_diagnosticada'] == 1.0, alternative='two-sided')\n",
    "print(\"P-valor entre AMB_PA_MECVV i SENSE_PA:\", p_val_23)"
   ],
   "id": "4df4d92107ced99b",
   "outputs": [
    {
     "name": "stdout",
     "output_type": "stream",
     "text": [
      "P-valor entre AMB_PA_MECVV i SENSE_PA: 0.8809554446418177\n"
     ]
    }
   ],
   "execution_count": 765
  },
  {
   "metadata": {},
   "cell_type": "markdown",
   "source": [
    "##### Fibrosi pulmonar i fibrotòrax"
   ],
   "id": "a60dfc8e06242970"
  },
  {
   "metadata": {
    "ExecuteTime": {
     "end_time": "2024-04-29T07:04:23.684207Z",
     "start_time": "2024-04-29T07:04:23.679266Z"
    }
   },
   "cell_type": "code",
   "source": [
    "stat_12, p_val_12 = mannwhitneyu(AMB_PA['Pulmonary_fibrosis_fibrotorax_diagnosticada'] == 1.0, AMB_PA_MECVV['Pulmonary_fibrosis_fibrotorax_diagnosticada'] == 1.0, alternative='two-sided')\n",
    "print(\"P-valor entre AMB_PA i AMB_PA_MECVV:\", p_val_12)"
   ],
   "id": "6f23c82ef51fa652",
   "outputs": [
    {
     "name": "stdout",
     "output_type": "stream",
     "text": [
      "P-valor entre AMB_PA i AMB_PA_MECVV: 1.0\n"
     ]
    }
   ],
   "execution_count": 766
  },
  {
   "metadata": {
    "ExecuteTime": {
     "end_time": "2024-04-29T07:04:23.888904Z",
     "start_time": "2024-04-29T07:04:23.883208Z"
    }
   },
   "cell_type": "code",
   "source": [
    "stat_13, p_val_13 = mannwhitneyu(AMB_PA['Pulmonary_fibrosis_fibrotorax_diagnosticada'] == 1.0, SENSE_PA['Pulmonary_fibrosis_fibrotorax_diagnosticada'] == 1.0, alternative='two-sided')\n",
    "print(\"P-valor entre AMB_PA i SENSE_PA:\", p_val_13)"
   ],
   "id": "3a985c287c035f2e",
   "outputs": [
    {
     "name": "stdout",
     "output_type": "stream",
     "text": [
      "P-valor entre AMB_PA i SENSE_PA: 1.0\n"
     ]
    }
   ],
   "execution_count": 767
  },
  {
   "metadata": {
    "ExecuteTime": {
     "end_time": "2024-04-29T07:04:24.349428Z",
     "start_time": "2024-04-29T07:04:24.344200Z"
    }
   },
   "cell_type": "code",
   "source": [
    "stat_23, p_val_23 = mannwhitneyu(AMB_PA_MECVV['Pulmonary_fibrosis_fibrotorax_diagnosticada'] == 1.0, SENSE_PA['Pulmonary_fibrosis_fibrotorax_diagnosticada'] == 1.0, alternative='two-sided')\n",
    "print(\"P-valor entre AMB_PA_MECVV i SENSE_PA:\", p_val_23)"
   ],
   "id": "4c421b907f887268",
   "outputs": [
    {
     "name": "stdout",
     "output_type": "stream",
     "text": [
      "P-valor entre AMB_PA_MECVV i SENSE_PA: 1.0\n"
     ]
    }
   ],
   "execution_count": 768
  },
  {
   "metadata": {},
   "cell_type": "markdown",
   "source": [
    "## Resultats de laboratori"
   ],
   "id": "1994fdc24d34089b"
  },
  {
   "metadata": {},
   "cell_type": "markdown",
   "source": [
    "Les columnes generades a partir d'aquests resultats contenen valors tipus objecte, per tant, primer els transformaré a tipus numèric per poder realitzar les operacions que neccessitaré fer."
   ],
   "id": "f1b6e375839cbf54"
  },
  {
   "metadata": {},
   "cell_type": "markdown",
   "source": [
    "### Albúmina"
   ],
   "id": "600feb610c7340c3"
  },
  {
   "metadata": {
    "ExecuteTime": {
     "end_time": "2024-04-29T07:04:24.520421Z",
     "start_time": "2024-04-29T07:04:24.514486Z"
    }
   },
   "cell_type": "code",
   "source": [
    "AMB_PA.loc[:, 'albumina'] = pd.to_numeric(AMB_PA['albumina'], errors='coerce')\n",
    "\n",
    "promedio_alb = AMB_PA['albumina'].mean()\n",
    "desviacion_estandar_alb = AMB_PA['albumina'].std()\n",
    "\n",
    "resultado = f\"{promedio_alb:.2f} ± {desviacion_estandar_alb:.2f}\"\n",
    "print(\"Mitjana ± Desviació Estàndard de la albumina:\", resultado)"
   ],
   "id": "d82bf2d8022cff43",
   "outputs": [
    {
     "name": "stdout",
     "output_type": "stream",
     "text": [
      "Mitjana ± Desviació Estàndard de la albumina: 3.34 ± 0.38\n"
     ]
    }
   ],
   "execution_count": 769
  },
  {
   "metadata": {
    "ExecuteTime": {
     "end_time": "2024-04-29T07:04:24.959360Z",
     "start_time": "2024-04-29T07:04:24.953818Z"
    }
   },
   "cell_type": "code",
   "source": [
    "AMB_PA_MECVV.loc[:, 'albumina'] = pd.to_numeric(AMB_PA_MECVV['albumina'], errors='coerce')\n",
    "\n",
    "promedio_alb = AMB_PA_MECVV['albumina'].mean()\n",
    "desviacion_estandar_alb = AMB_PA_MECVV['albumina'].std()\n",
    "\n",
    "resultado = f\"{promedio_alb:.2f} ± {desviacion_estandar_alb:.2f}\"\n",
    "print(\"Mitjana ± Desviació Estàndard de la albumina:\", resultado)"
   ],
   "id": "7cca36324c2cf548",
   "outputs": [
    {
     "name": "stdout",
     "output_type": "stream",
     "text": [
      "Mitjana ± Desviació Estàndard de la albumina: 3.47 ± 0.55\n"
     ]
    }
   ],
   "execution_count": 770
  },
  {
   "metadata": {
    "ExecuteTime": {
     "end_time": "2024-04-29T07:04:25.159669Z",
     "start_time": "2024-04-29T07:04:25.153888Z"
    }
   },
   "cell_type": "code",
   "source": [
    "SENSE_PA.loc[:, 'albumina'] = pd.to_numeric(SENSE_PA['albumina'], errors='coerce')\n",
    "\n",
    "promedio_alb = SENSE_PA['albumina'].mean()\n",
    "desviacion_estandar_alb = SENSE_PA['albumina'].std()\n",
    "\n",
    "resultado = f\"{promedio_alb:.2f} ± {desviacion_estandar_alb:.2f}\"\n",
    "print(\"Mitjana ± Desviació Estàndard de la albumina:\", resultado)"
   ],
   "id": "122964c17f5d1955",
   "outputs": [
    {
     "name": "stdout",
     "output_type": "stream",
     "text": [
      "Mitjana ± Desviació Estàndard de la albumina: 3.58 ± 0.64\n"
     ]
    }
   ],
   "execution_count": 771
  },
  {
   "metadata": {},
   "cell_type": "markdown",
   "source": [
    "#### Pvalor"
   ],
   "id": "140d6cb42fabfa6a"
  },
  {
   "metadata": {},
   "cell_type": "markdown",
   "source": [
    "##### Normalitat"
   ],
   "id": "f173bb6261e1d9fb"
  },
  {
   "metadata": {
    "ExecuteTime": {
     "end_time": "2024-04-29T07:04:28.351726Z",
     "start_time": "2024-04-29T07:04:28.345895Z"
    }
   },
   "cell_type": "code",
   "source": [
    "albpa = AMB_PA['albumina'].dropna()\n",
    "stat, p_value = shapiro(albpa)\n",
    "print(f\"Estadístic W = {stat:.4f}\")\n",
    "print(f\"Valor p = {p_value:.8f}\")\n",
    "\n",
    "alpha = 0.05\n",
    "if p_value < alpha:\n",
    "    print(\"El nombre de files no segueix una distribució normal.\")\n",
    "else:\n",
    "    print(\"El nombre de files segueix una distribució normal.\")"
   ],
   "id": "6ea5de55bae13ed3",
   "outputs": [
    {
     "name": "stdout",
     "output_type": "stream",
     "text": [
      "Estadístic W = 0.9311\n",
      "Valor p = 0.56068160\n",
      "El nombre de files segueix una distribució normal.\n"
     ]
    }
   ],
   "execution_count": 772
  },
  {
   "metadata": {
    "ExecuteTime": {
     "end_time": "2024-04-29T07:04:28.541815Z",
     "start_time": "2024-04-29T07:04:28.536513Z"
    }
   },
   "cell_type": "code",
   "source": [
    "albAMBpamecvv = AMB_PA_MECVV['albumina'].dropna()\n",
    "stat, p_value = shapiro(albAMBpamecvv)\n",
    "print(f\"Estadístic W = {stat:.4f}\")\n",
    "print(f\"Valor p = {p_value:.8f}\")\n",
    "\n",
    "alpha = 0.05\n",
    "if p_value < alpha:\n",
    "    print(\"El nombre de files no segueix una distribució normal.\")\n",
    "else:\n",
    "    print(\"El nombre de files segueix una distribució normal.\")"
   ],
   "id": "eac722c12e60dad5",
   "outputs": [
    {
     "name": "stdout",
     "output_type": "stream",
     "text": [
      "Estadístic W = 0.9973\n",
      "Valor p = 0.89985028\n",
      "El nombre de files segueix una distribució normal.\n"
     ]
    }
   ],
   "execution_count": 773
  },
  {
   "metadata": {
    "ExecuteTime": {
     "end_time": "2024-04-29T07:04:28.956725Z",
     "start_time": "2024-04-29T07:04:28.947516Z"
    }
   },
   "cell_type": "code",
   "source": [
    "albsensepa= SENSE_PA['albumina'].dropna()\n",
    "stat, p_value = shapiro(albsensepa)\n",
    "print(f\"Estadístic W = {stat:.4f}\")\n",
    "print(f\"Valor p = {p_value:.8f}\")\n",
    "\n",
    "alpha = 0.05\n",
    "if p_value < alpha:\n",
    "    print(\"El nombre de files no segueix una distribució normal.\")\n",
    "else:\n",
    "    print(\"El nombre de files segueix una distribució normal.\")"
   ],
   "id": "b23033d034577b35",
   "outputs": [
    {
     "name": "stdout",
     "output_type": "stream",
     "text": [
      "Estadístic W = 0.9778\n",
      "Valor p = 0.92442182\n",
      "El nombre de files segueix una distribució normal.\n"
     ]
    }
   ],
   "execution_count": 774
  },
  {
   "metadata": {
    "ExecuteTime": {
     "end_time": "2024-04-29T07:04:29.219333Z",
     "start_time": "2024-04-29T07:04:29.211809Z"
    }
   },
   "cell_type": "code",
   "source": [
    "t_stat_12, p_val_12 = ttest_ind(AMB_PA['albumina'], AMB_PA_MECVV['albumina'], equal_var=False)\n",
    "print(\"P-valor entre AMB_PA i AMB_PA_MECVV:\", p_val_12)"
   ],
   "id": "159226fd2d1b69f4",
   "outputs": [
    {
     "name": "stdout",
     "output_type": "stream",
     "text": [
      "P-valor entre AMB_PA i AMB_PA_MECVV: nan\n"
     ]
    }
   ],
   "execution_count": 775
  },
  {
   "metadata": {
    "ExecuteTime": {
     "end_time": "2024-04-29T07:04:29.637625Z",
     "start_time": "2024-04-29T07:04:29.633044Z"
    }
   },
   "cell_type": "code",
   "source": [
    "t_stat_13, p_val_13 = ttest_ind(AMB_PA['albumina'], SENSE_PA['albumina'], equal_var=False)\n",
    "print(\"P-valor entre AMB_PA i SENSE_PA:\", p_val_13)"
   ],
   "id": "eb68749cfc425329",
   "outputs": [
    {
     "name": "stdout",
     "output_type": "stream",
     "text": [
      "P-valor entre AMB_PA i SENSE_PA: nan\n"
     ]
    }
   ],
   "execution_count": 776
  },
  {
   "metadata": {
    "ExecuteTime": {
     "end_time": "2024-04-29T07:04:29.881245Z",
     "start_time": "2024-04-29T07:04:29.876009Z"
    }
   },
   "cell_type": "code",
   "source": [
    "t_stat_23, p_val_23 = ttest_ind(AMB_PA_MECVV['albumina'], SENSE_PA['albumina'], equal_var=False)\n",
    "print(\"P-valor entre AMB_PA_MECVV i SENSE_PA:\", p_val_23)"
   ],
   "id": "759454454163372f",
   "outputs": [
    {
     "name": "stdout",
     "output_type": "stream",
     "text": [
      "P-valor entre AMB_PA_MECVV i SENSE_PA: nan\n"
     ]
    }
   ],
   "execution_count": 777
  },
  {
   "metadata": {},
   "cell_type": "markdown",
   "source": [
    "### Proteïnes totals"
   ],
   "id": "c0e1c2d5adb30afb"
  },
  {
   "metadata": {
    "ExecuteTime": {
     "end_time": "2024-04-29T07:04:30.296954Z",
     "start_time": "2024-04-29T07:04:30.290320Z"
    }
   },
   "cell_type": "code",
   "source": [
    "AMB_PA.loc[:, 'proteinas totales'] = pd.to_numeric(AMB_PA['proteinas totales'], errors='coerce')\n",
    "\n",
    "promedio_prot = AMB_PA['proteinas totales'].mean()\n",
    "desviacion_estandar_prot = AMB_PA['proteinas totales'].std()\n",
    "\n",
    "resultado = f\"{promedio_prot:.2f} ± {desviacion_estandar_prot:.2f}\"\n",
    "print(\"Mitjana ± Desviació Estàndard de las proteinas totales:\", resultado)"
   ],
   "id": "8c74e6182119239f",
   "outputs": [
    {
     "name": "stdout",
     "output_type": "stream",
     "text": [
      "Mitjana ± Desviació Estàndard de las proteinas totales: 6.03 ± 0.73\n"
     ]
    }
   ],
   "execution_count": 778
  },
  {
   "metadata": {
    "ExecuteTime": {
     "end_time": "2024-04-29T07:04:30.577009Z",
     "start_time": "2024-04-29T07:04:30.569763Z"
    }
   },
   "cell_type": "code",
   "source": [
    "AMB_PA_MECVV.loc[:, 'proteinas totales'] = pd.to_numeric(AMB_PA_MECVV['proteinas totales'], errors='coerce')\n",
    "\n",
    "promedio_prot = AMB_PA_MECVV['proteinas totales'].mean()\n",
    "desviacion_estandar_prot = AMB_PA_MECVV['proteinas totales'].std()\n",
    "\n",
    "resultado = f\"{promedio_prot:.2f} ± {desviacion_estandar_prot:.2f}\"\n",
    "print(\"Mitjana ± Desviació Estàndard de las proteinas totales:\", resultado)"
   ],
   "id": "11dbe86b42cd2240",
   "outputs": [
    {
     "name": "stdout",
     "output_type": "stream",
     "text": [
      "Mitjana ± Desviació Estàndard de las proteinas totales: 6.47 ± 0.76\n"
     ]
    }
   ],
   "execution_count": 779
  },
  {
   "metadata": {
    "ExecuteTime": {
     "end_time": "2024-04-29T07:04:31.068661Z",
     "start_time": "2024-04-29T07:04:31.060471Z"
    }
   },
   "cell_type": "code",
   "source": [
    "SENSE_PA.loc[:, 'proteinas totales'] = pd.to_numeric(SENSE_PA['proteinas totales'], errors='coerce')\n",
    "\n",
    "promedio_prot = SENSE_PA['proteinas totales'].mean()\n",
    "desviacion_estandar_prot = SENSE_PA['proteinas totales'].std()\n",
    "\n",
    "resultado = f\"{promedio_prot:.2f} ± {desviacion_estandar_prot:.2f}\"\n",
    "print(\"Mitjana ± Desviació Estàndard de las proteinas totales:\", resultado)"
   ],
   "id": "55750e651260abb6",
   "outputs": [
    {
     "name": "stdout",
     "output_type": "stream",
     "text": [
      "Mitjana ± Desviació Estàndard de las proteinas totales: 6.12 ± 0.72\n"
     ]
    }
   ],
   "execution_count": 780
  },
  {
   "metadata": {},
   "cell_type": "markdown",
   "source": [
    "#### Pvalor"
   ],
   "id": "687aa6a75e9eab3a"
  },
  {
   "metadata": {},
   "cell_type": "markdown",
   "source": [
    "##### Normalitat"
   ],
   "id": "5d71845005c90138"
  },
  {
   "metadata": {
    "ExecuteTime": {
     "end_time": "2024-04-29T07:04:31.342290Z",
     "start_time": "2024-04-29T07:04:31.336367Z"
    }
   },
   "cell_type": "code",
   "source": [
    "protAMBpa=AMB_PA['proteinas totales'].dropna()\n",
    "stat, p_value = shapiro(protAMBpa)\n",
    "print(f\"Estadístic W = {stat:.4f}\")\n",
    "print(f\"Valor p = {p_value:.8f}\")\n",
    "\n",
    "alpha = 0.05\n",
    "if p_value < alpha:\n",
    "    print(\"El nombre de files no segueix una distribució normal.\")\n",
    "else:\n",
    "    print(\"El nombre de files segueix una distribució normal.\")"
   ],
   "id": "ee51e412a8693cf3",
   "outputs": [
    {
     "name": "stdout",
     "output_type": "stream",
     "text": [
      "Estadístic W = 0.9780\n",
      "Valor p = 0.95346065\n",
      "El nombre de files segueix una distribució normal.\n"
     ]
    }
   ],
   "execution_count": 781
  },
  {
   "metadata": {
    "ExecuteTime": {
     "end_time": "2024-04-29T07:04:31.743847Z",
     "start_time": "2024-04-29T07:04:31.738600Z"
    }
   },
   "cell_type": "code",
   "source": [
    "protAMBpamecvv=AMB_PA_MECVV['proteinas totales'].dropna()\n",
    "stat, p_value = shapiro(protAMBpamecvv)\n",
    "print(f\"Estadístic W = {stat:.4f}\")\n",
    "print(f\"Valor p = {p_value:.8f}\")\n",
    "\n",
    "alpha = 0.05\n",
    "if p_value < alpha:\n",
    "    print(\"El nombre de files no segueix una distribució normal.\")\n",
    "else:\n",
    "    print(\"El nombre de files segueix una distribució normal.\")"
   ],
   "id": "e32923c4cd92cc53",
   "outputs": [
    {
     "name": "stdout",
     "output_type": "stream",
     "text": [
      "Estadístic W = 0.9975\n",
      "Valor p = 0.99159177\n",
      "El nombre de files segueix una distribució normal.\n"
     ]
    }
   ],
   "execution_count": 782
  },
  {
   "metadata": {
    "ExecuteTime": {
     "end_time": "2024-04-29T07:04:31.978336Z",
     "start_time": "2024-04-29T07:04:31.972602Z"
    }
   },
   "cell_type": "code",
   "source": [
    "protsensepa=SENSE_PA['proteinas totales'].dropna()\n",
    "stat, p_value = shapiro(protsensepa)\n",
    "print(f\"Estadístic W = {stat:.4f}\")\n",
    "print(f\"Valor p = {p_value:.8f}\")\n",
    "\n",
    "alpha = 0.05\n",
    "if p_value < alpha:\n",
    "    print(\"El nombre de files no segueix una distribució normal.\")\n",
    "else:\n",
    "    print(\"El nombre de files segueix una distribució normal.\")"
   ],
   "id": "2a5814956c653504",
   "outputs": [
    {
     "name": "stdout",
     "output_type": "stream",
     "text": [
      "Estadístic W = 0.9753\n",
      "Valor p = 0.86021925\n",
      "El nombre de files segueix una distribució normal.\n"
     ]
    }
   ],
   "execution_count": 783
  },
  {
   "metadata": {
    "ExecuteTime": {
     "end_time": "2024-04-29T07:04:32.387534Z",
     "start_time": "2024-04-29T07:04:32.382436Z"
    }
   },
   "cell_type": "code",
   "source": [
    "t_stat_12, p_val_12 = ttest_ind(AMB_PA['proteinas totales'], AMB_PA_MECVV['proteinas totales'], equal_var=False)\n",
    "print(\"P-valor entre AMB_PA i AMB_PA_MECVV:\", p_val_12)"
   ],
   "id": "640cfae7a64c728a",
   "outputs": [
    {
     "name": "stdout",
     "output_type": "stream",
     "text": [
      "P-valor entre AMB_PA i AMB_PA_MECVV: nan\n"
     ]
    }
   ],
   "execution_count": 784
  },
  {
   "metadata": {
    "ExecuteTime": {
     "end_time": "2024-04-29T07:04:32.641566Z",
     "start_time": "2024-04-29T07:04:32.636725Z"
    }
   },
   "cell_type": "code",
   "source": [
    "t_stat_13, p_val_13 = ttest_ind(AMB_PA['proteinas totales'], SENSE_PA['proteinas totales'], equal_var=False)\n",
    "print(\"P-valor entre AMB_PA i SENSE_PA:\", p_val_13)"
   ],
   "id": "b77de581056bf467",
   "outputs": [
    {
     "name": "stdout",
     "output_type": "stream",
     "text": [
      "P-valor entre AMB_PA i SENSE_PA: nan\n"
     ]
    }
   ],
   "execution_count": 785
  },
  {
   "metadata": {
    "ExecuteTime": {
     "end_time": "2024-04-29T07:04:33.020105Z",
     "start_time": "2024-04-29T07:04:33.014146Z"
    }
   },
   "cell_type": "code",
   "source": [
    "t_stat_23, p_val_23 = ttest_ind(AMB_PA_MECVV['proteinas totales'], SENSE_PA['proteinas totales'], equal_var=False)\n",
    "print(\"P-valor entre AMB_PA_MECVV i SENSE_PA:\", p_val_23)"
   ],
   "id": "75b2e46ee9c34956",
   "outputs": [
    {
     "name": "stdout",
     "output_type": "stream",
     "text": [
      "P-valor entre AMB_PA_MECVV i SENSE_PA: nan\n"
     ]
    }
   ],
   "execution_count": 786
  },
  {
   "metadata": {},
   "cell_type": "markdown",
   "source": [
    "### Hemoglobina"
   ],
   "id": "bc3fabda212d814d"
  },
  {
   "metadata": {
    "ExecuteTime": {
     "end_time": "2024-04-29T07:04:33.357164Z",
     "start_time": "2024-04-29T07:04:33.350502Z"
    }
   },
   "cell_type": "code",
   "source": [
    "AMB_PA.loc[:, 'Hb'] = pd.to_numeric(AMB_PA['Hb'], errors='coerce')\n",
    "\n",
    "promedio_hb = AMB_PA['Hb'].mean()\n",
    "desviacion_estandar_hb = AMB_PA['Hb'].std()\n",
    "\n",
    "resultado = f\"{promedio_hb:.2f} ± {desviacion_estandar_hb:.2f}\"\n",
    "print(\"Mitjana ± Desviació Estàndard de la hemoglobina:\", resultado)"
   ],
   "id": "4be0a89ba5a356a2",
   "outputs": [
    {
     "name": "stdout",
     "output_type": "stream",
     "text": [
      "Mitjana ± Desviació Estàndard de la hemoglobina: 12.34 ± 1.77\n"
     ]
    }
   ],
   "execution_count": 787
  },
  {
   "metadata": {
    "ExecuteTime": {
     "end_time": "2024-04-29T07:04:33.814214Z",
     "start_time": "2024-04-29T07:04:33.808185Z"
    }
   },
   "cell_type": "code",
   "source": [
    "AMB_PA_MECVV.loc[:, 'Hb'] = pd.to_numeric(AMB_PA_MECVV['Hb'], errors='coerce')\n",
    "\n",
    "promedio_hb = AMB_PA_MECVV['Hb'].mean()\n",
    "desviacion_estandar_hb = AMB_PA_MECVV['Hb'].std()\n",
    "\n",
    "resultado = f\"{promedio_hb:.2f} ± {desviacion_estandar_hb:.2f}\"\n",
    "print(\"Mitjana ± Desviació Estàndard de la hemoglobina:\", resultado)"
   ],
   "id": "f1581c2d21067c8a",
   "outputs": [
    {
     "name": "stdout",
     "output_type": "stream",
     "text": [
      "Mitjana ± Desviació Estàndard de la hemoglobina: 13.22 ± 1.40\n"
     ]
    }
   ],
   "execution_count": 788
  },
  {
   "metadata": {
    "ExecuteTime": {
     "end_time": "2024-04-29T07:04:34.118050Z",
     "start_time": "2024-04-29T07:04:34.111765Z"
    }
   },
   "cell_type": "code",
   "source": [
    "SENSE_PA.loc[:, 'Hb'] = pd.to_numeric(SENSE_PA['Hb'], errors='coerce')\n",
    "\n",
    "promedio_hb = SENSE_PA['Hb'].mean()\n",
    "desviacion_estandar_hb = SENSE_PA['Hb'].std()\n",
    "\n",
    "resultado = f\"{promedio_hb:.2f} ± {desviacion_estandar_hb:.2f}\"\n",
    "print(\"Mitjana ± Desviació Estàndard de la hemoglobina:\", resultado)"
   ],
   "id": "4dbaddd2b6faa4d0",
   "outputs": [
    {
     "name": "stdout",
     "output_type": "stream",
     "text": [
      "Mitjana ± Desviació Estàndard de la hemoglobina: 13.22 ± 2.16\n"
     ]
    }
   ],
   "execution_count": 789
  },
  {
   "metadata": {},
   "cell_type": "markdown",
   "source": [
    "##### Pvalor"
   ],
   "id": "ddc0429b449395b4"
  },
  {
   "metadata": {},
   "cell_type": "markdown",
   "source": [
    "##### Normalitat"
   ],
   "id": "c382a95019a110b8"
  },
  {
   "metadata": {
    "ExecuteTime": {
     "end_time": "2024-04-29T07:04:34.485501Z",
     "start_time": "2024-04-29T07:04:34.480444Z"
    }
   },
   "cell_type": "code",
   "source": [
    "hbAMBpa=AMB_PA['Hb'].dropna()\n",
    "stat, p_value = shapiro(hbAMBpa)\n",
    "print(f\"Estadístic W = {stat:.4f}\")\n",
    "print(f\"Valor p = {p_value:.8f}\")\n",
    "\n",
    "alpha = 0.05\n",
    "if p_value < alpha:\n",
    "    print(\"El nombre de files no segueix una distribució normal.\")\n",
    "else:\n",
    "    print(\"El nombre de files segueix una distribució normal.\")"
   ],
   "id": "4645c97120fb1fd3",
   "outputs": [
    {
     "name": "stdout",
     "output_type": "stream",
     "text": [
      "Estadístic W = 0.9304\n",
      "Valor p = 0.48501101\n",
      "El nombre de files segueix una distribució normal.\n"
     ]
    }
   ],
   "execution_count": 790
  },
  {
   "metadata": {
    "ExecuteTime": {
     "end_time": "2024-04-29T07:04:34.740459Z",
     "start_time": "2024-04-29T07:04:34.735212Z"
    }
   },
   "cell_type": "code",
   "source": [
    "hbAMBpamecvv=AMB_PA_MECVV['Hb'].dropna()\n",
    "stat, p_value = shapiro(hbAMBpamecvv)\n",
    "print(f\"Estadístic W = {stat:.4f}\")\n",
    "print(f\"Valor p = {p_value:.8f}\")\n",
    "\n",
    "alpha = 0.05\n",
    "if p_value < alpha:\n",
    "    print(\"El nombre de files no segueix una distribució normal.\")\n",
    "else:\n",
    "    print(\"El nombre de files segueix una distribució normal.\")"
   ],
   "id": "d79ccaeb50aaf990",
   "outputs": [
    {
     "name": "stdout",
     "output_type": "stream",
     "text": [
      "Estadístic W = 0.8592\n",
      "Valor p = 0.25743995\n",
      "El nombre de files segueix una distribució normal.\n"
     ]
    }
   ],
   "execution_count": 791
  },
  {
   "metadata": {
    "ExecuteTime": {
     "end_time": "2024-04-29T07:04:35.148986Z",
     "start_time": "2024-04-29T07:04:35.143764Z"
    }
   },
   "cell_type": "code",
   "source": [
    "hbsensepa=SENSE_PA['Hb'].dropna()\n",
    "stat, p_value = shapiro(hbsensepa)\n",
    "print(f\"Estadístic W = {stat:.4f}\")\n",
    "print(f\"Valor p = {p_value:.8f}\")\n",
    "\n",
    "alpha = 0.05\n",
    "if p_value < alpha:\n",
    "    print(\"El nombre de files no segueix una distribució normal.\")\n",
    "else:\n",
    "    print(\"El nombre de files segueix una distribució normal.\")"
   ],
   "id": "351dabcedb823e1a",
   "outputs": [
    {
     "name": "stdout",
     "output_type": "stream",
     "text": [
      "Estadístic W = 0.9551\n",
      "Valor p = 0.37239632\n",
      "El nombre de files segueix una distribució normal.\n"
     ]
    }
   ],
   "execution_count": 792
  },
  {
   "metadata": {
    "ExecuteTime": {
     "end_time": "2024-04-29T07:04:35.405760Z",
     "start_time": "2024-04-29T07:04:35.401060Z"
    }
   },
   "cell_type": "code",
   "source": [
    "t_stat_12, p_val_12 = ttest_ind(AMB_PA['Hb'], AMB_PA_MECVV['Hb'], equal_var=False)\n",
    "print(\"P-valor entre AMB_PA i AMB_PA_MECVV:\", p_val_12)"
   ],
   "id": "5602c373ef7d4cb2",
   "outputs": [
    {
     "name": "stdout",
     "output_type": "stream",
     "text": [
      "P-valor entre AMB_PA i AMB_PA_MECVV: nan\n"
     ]
    }
   ],
   "execution_count": 793
  },
  {
   "metadata": {
    "ExecuteTime": {
     "end_time": "2024-04-29T07:04:35.735173Z",
     "start_time": "2024-04-29T07:04:35.729915Z"
    }
   },
   "cell_type": "code",
   "source": [
    "t_stat_13, p_val_13 = ttest_ind(AMB_PA['Hb'], SENSE_PA['Hb'], equal_var=False)\n",
    "print(\"P-valor entre AMB_PA i SENSE_PA:\", p_val_13)"
   ],
   "id": "a1f56b13f87e1b8e",
   "outputs": [
    {
     "name": "stdout",
     "output_type": "stream",
     "text": [
      "P-valor entre AMB_PA i SENSE_PA: nan\n"
     ]
    }
   ],
   "execution_count": 794
  },
  {
   "metadata": {
    "ExecuteTime": {
     "end_time": "2024-04-29T07:04:35.953062Z",
     "start_time": "2024-04-29T07:04:35.947254Z"
    }
   },
   "cell_type": "code",
   "source": [
    "t_stat_23, p_val_23 = ttest_ind(AMB_PA_MECVV['Hb'], SENSE_PA['Hb'], equal_var=False)\n",
    "print(\"P-valor entre AMB_PA_MECVV i SENSE_PA:\", p_val_23)"
   ],
   "id": "e5192f3a3700eb3a",
   "outputs": [
    {
     "name": "stdout",
     "output_type": "stream",
     "text": [
      "P-valor entre AMB_PA_MECVV i SENSE_PA: nan\n"
     ]
    }
   ],
   "execution_count": 795
  },
  {
   "metadata": {},
   "cell_type": "markdown",
   "source": [
    "### Colesterol "
   ],
   "id": "69fb7071d7d6eaef"
  },
  {
   "metadata": {
    "ExecuteTime": {
     "end_time": "2024-04-29T07:04:36.329961Z",
     "start_time": "2024-04-29T07:04:36.322929Z"
    }
   },
   "cell_type": "code",
   "source": [
    "AMB_PA.loc[:, 'colesterol total'] = pd.to_numeric(AMB_PA['colesterol total'], errors='coerce')\n",
    "\n",
    "promedio_col = AMB_PA['colesterol total'].mean()\n",
    "desviacion_estandar_col = AMB_PA['colesterol total'].std()\n",
    "\n",
    "resultado = f\"{promedio_col:.2f} ± {desviacion_estandar_col:.2f}\"\n",
    "print(\"Mitjana ± Desviació Estàndard del colesterol total:\", resultado)"
   ],
   "id": "fe8d9b7560d6730",
   "outputs": [
    {
     "name": "stdout",
     "output_type": "stream",
     "text": [
      "Mitjana ± Desviació Estàndard del colesterol total: 132.10 ± 34.83\n"
     ]
    }
   ],
   "execution_count": 796
  },
  {
   "metadata": {
    "ExecuteTime": {
     "end_time": "2024-04-29T07:04:36.561433Z",
     "start_time": "2024-04-29T07:04:36.555800Z"
    }
   },
   "cell_type": "code",
   "source": [
    "AMB_PA_MECVV.loc[:, 'colesterol total'] = pd.to_numeric(AMB_PA_MECVV['colesterol total'], errors='coerce')\n",
    "\n",
    "promedio_col = AMB_PA_MECVV['colesterol total'].mean()\n",
    "desviacion_estandar_col = AMB_PA_MECVV['colesterol total'].std()\n",
    "\n",
    "resultado = f\"{promedio_col:.2f} ± {desviacion_estandar_col:.2f}\"\n",
    "print(\"Mitjana ± Desviació Estàndard del colesterol total:\", resultado)"
   ],
   "id": "8546537e62ad77dd",
   "outputs": [
    {
     "name": "stdout",
     "output_type": "stream",
     "text": [
      "Mitjana ± Desviació Estàndard del colesterol total: 111.90 ± 28.37\n"
     ]
    }
   ],
   "execution_count": 797
  },
  {
   "metadata": {
    "ExecuteTime": {
     "end_time": "2024-04-29T07:04:37.248860Z",
     "start_time": "2024-04-29T07:04:37.240569Z"
    }
   },
   "cell_type": "code",
   "source": [
    "SENSE_PA.loc[:, 'colesterol total'] = pd.to_numeric(SENSE_PA['colesterol total'], errors='coerce')\n",
    "\n",
    "promedio_col = SENSE_PA['colesterol total'].mean()\n",
    "desviacion_estandar_col = SENSE_PA['colesterol total'].std()\n",
    "\n",
    "resultado = f\"{promedio_col:.2f} ± {desviacion_estandar_col:.2f}\"\n",
    "print(\"Mitjana ± Desviació Estàndard del colesterol total:\", resultado)"
   ],
   "id": "9e49175aad80cbde",
   "outputs": [
    {
     "name": "stdout",
     "output_type": "stream",
     "text": [
      "Mitjana ± Desviació Estàndard del colesterol total: 145.27 ± 40.45\n"
     ]
    }
   ],
   "execution_count": 798
  },
  {
   "metadata": {},
   "cell_type": "markdown",
   "source": [
    "#### Pvalor"
   ],
   "id": "1eaeaee06918537e"
  },
  {
   "metadata": {},
   "cell_type": "markdown",
   "source": [
    "##### Normalitat \n",
    "\n"
   ],
   "id": "7e22980115bb759b"
  },
  {
   "metadata": {
    "ExecuteTime": {
     "end_time": "2024-04-29T07:04:37.853143Z",
     "start_time": "2024-04-29T07:04:37.845316Z"
    }
   },
   "cell_type": "code",
   "source": [
    "colAMBpa=AMB_PA['colesterol total'].dropna()\n",
    "stat, p_value = shapiro(colAMBpa)\n",
    "print(f\"Estadístic W = {stat:.4f}\")\n",
    "print(f\"Valor p = {p_value:.8f}\")\n",
    "\n",
    "alpha = 0.05\n",
    "if p_value < alpha:\n",
    "    print(\"El nombre de files no segueix una distribució normal.\")\n",
    "else:\n",
    "    print(\"El nombre de files segueix una distribució normal.\")"
   ],
   "id": "135b3c8f15d09625",
   "outputs": [
    {
     "name": "stdout",
     "output_type": "stream",
     "text": [
      "Estadístic W = 0.9887\n",
      "Valor p = 0.99048226\n",
      "El nombre de files segueix una distribució normal.\n"
     ]
    }
   ],
   "execution_count": 799
  },
  {
   "metadata": {
    "ExecuteTime": {
     "end_time": "2024-04-29T07:04:38.332169Z",
     "start_time": "2024-04-29T07:04:38.324730Z"
    }
   },
   "cell_type": "code",
   "source": [
    "colAMBpamecvv=AMB_PA_MECVV['colesterol total'].dropna()\n",
    "stat, p_value = shapiro(colAMBpamecvv)\n",
    "print(f\"Estadístic W = {stat:.4f}\")\n",
    "print(f\"Valor p = {p_value:.8f}\")\n",
    "\n",
    "alpha = 0.05\n",
    "if p_value < alpha:\n",
    "    print(\"El nombre de files no segueix una distribució normal.\")\n",
    "else:\n",
    "    print(\"El nombre de files segueix una distribució normal.\")"
   ],
   "id": "35555189779cc831",
   "outputs": [
    {
     "name": "stdout",
     "output_type": "stream",
     "text": [
      "Estadístic W = 0.9462\n",
      "Valor p = 0.55290474\n",
      "El nombre de files segueix una distribució normal.\n"
     ]
    }
   ],
   "execution_count": 800
  },
  {
   "metadata": {
    "ExecuteTime": {
     "end_time": "2024-04-29T07:04:38.597705Z",
     "start_time": "2024-04-29T07:04:38.592097Z"
    }
   },
   "cell_type": "code",
   "source": [
    "colsensepa=SENSE_PA['colesterol total'].dropna()\n",
    "stat, p_value = shapiro(colsensepa)\n",
    "print(f\"Estadístic W = {stat:.4f}\")\n",
    "print(f\"Valor p = {p_value:.8f}\")\n",
    "\n",
    "alpha = 0.05\n",
    "if p_value < alpha:\n",
    "    print(\"El nombre de files no segueix una distribució normal.\")\n",
    "else:\n",
    "    print(\"El nombre de files segueix una distribució normal.\")"
   ],
   "id": "bb384e047dbdd903",
   "outputs": [
    {
     "name": "stdout",
     "output_type": "stream",
     "text": [
      "Estadístic W = 0.9725\n",
      "Valor p = 0.84373822\n",
      "El nombre de files segueix una distribució normal.\n"
     ]
    }
   ],
   "execution_count": 801
  },
  {
   "metadata": {
    "ExecuteTime": {
     "end_time": "2024-04-29T07:04:38.942862Z",
     "start_time": "2024-04-29T07:04:38.937397Z"
    }
   },
   "cell_type": "code",
   "source": [
    "t_stat_12, p_val_12 = ttest_ind(AMB_PA['colesterol total'], AMB_PA_MECVV['colesterol total'], equal_var=False)\n",
    "print(\"P-valor entre AMB_PA i AMB_PA_MECVV:\", p_val_12)"
   ],
   "id": "c656a0d73bb5551d",
   "outputs": [
    {
     "name": "stdout",
     "output_type": "stream",
     "text": [
      "P-valor entre AMB_PA i AMB_PA_MECVV: nan\n"
     ]
    }
   ],
   "execution_count": 802
  },
  {
   "metadata": {
    "ExecuteTime": {
     "end_time": "2024-04-29T07:04:39.185474Z",
     "start_time": "2024-04-29T07:04:39.179117Z"
    }
   },
   "cell_type": "code",
   "source": [
    "t_stat_13, p_val_13 = ttest_ind(AMB_PA['colesterol total'], SENSE_PA['colesterol total'], equal_var=False)\n",
    "print(\"P-valor entre AMB_PA i SENSE_PA:\", p_val_13)"
   ],
   "id": "308784ac133fab84",
   "outputs": [
    {
     "name": "stdout",
     "output_type": "stream",
     "text": [
      "P-valor entre AMB_PA i SENSE_PA: nan\n"
     ]
    }
   ],
   "execution_count": 803
  },
  {
   "metadata": {
    "ExecuteTime": {
     "end_time": "2024-04-29T07:04:39.514145Z",
     "start_time": "2024-04-29T07:04:39.508704Z"
    }
   },
   "cell_type": "code",
   "source": [
    "t_stat_23, p_val_23 = ttest_ind(AMB_PA_MECVV['colesterol total'], SENSE_PA['colesterol total'], equal_var=False)\n",
    "print(\"P-valor entre AMB_PA_MECVV i SENSE_PA:\", p_val_23)"
   ],
   "id": "a981d08ea9a0e6c4",
   "outputs": [
    {
     "name": "stdout",
     "output_type": "stream",
     "text": [
      "P-valor entre AMB_PA_MECVV i SENSE_PA: nan\n"
     ]
    }
   ],
   "execution_count": 804
  },
  {
   "metadata": {},
   "cell_type": "markdown",
   "source": [
    "### Leucòcits"
   ],
   "id": "7e1abe2f5bcccb21"
  },
  {
   "metadata": {
    "ExecuteTime": {
     "end_time": "2024-04-29T07:04:39.762898Z",
     "start_time": "2024-04-29T07:04:39.755742Z"
    }
   },
   "cell_type": "code",
   "source": [
    "AMB_PA.loc[:, 'leucos'] = pd.to_numeric(AMB_PA['leucos'], errors='coerce')\n",
    "\n",
    "promedio_leu = AMB_PA['leucos'].mean()\n",
    "desviacion_estandar_leu = AMB_PA['leucos'].std()\n",
    "\n",
    "resultado = f\"{promedio_leu:.2f} ± {desviacion_estandar_leu:.2f}\"\n",
    "print(\"Mitjana ± Desviació Estàndard dels leucòcits:\", resultado)"
   ],
   "id": "4430c7eeb483cea3",
   "outputs": [
    {
     "name": "stdout",
     "output_type": "stream",
     "text": [
      "Mitjana ± Desviació Estàndard dels leucòcits: 12.69 ± 4.88\n"
     ]
    }
   ],
   "execution_count": 805
  },
  {
   "metadata": {
    "ExecuteTime": {
     "end_time": "2024-04-29T07:04:40.082330Z",
     "start_time": "2024-04-29T07:04:40.076133Z"
    }
   },
   "cell_type": "code",
   "source": [
    "AMB_PA_MECVV.loc[:, 'leucos'] = pd.to_numeric(AMB_PA_MECVV['leucos'], errors='coerce')\n",
    "\n",
    "promedio_leu = AMB_PA_MECVV['leucos'].mean()\n",
    "desviacion_estandar_leu = AMB_PA_MECVV['leucos'].std()\n",
    "\n",
    "resultado = f\"{promedio_leu:.2f} ± {desviacion_estandar_leu:.2f}\"\n",
    "print(\"Mitjana ± Desviació Estàndard dels leucòcits:\", resultado)"
   ],
   "id": "3ad74bc493302210",
   "outputs": [
    {
     "name": "stdout",
     "output_type": "stream",
     "text": [
      "Mitjana ± Desviació Estàndard dels leucòcits: 13.08 ± 6.83\n"
     ]
    }
   ],
   "execution_count": 806
  },
  {
   "metadata": {
    "ExecuteTime": {
     "end_time": "2024-04-29T07:04:40.342292Z",
     "start_time": "2024-04-29T07:04:40.336983Z"
    }
   },
   "cell_type": "code",
   "source": [
    "SENSE_PA.loc[:, 'leucos'] = pd.to_numeric(SENSE_PA['leucos'], errors='coerce')\n",
    "\n",
    "promedio_leu = SENSE_PA['leucos'].mean()\n",
    "desviacion_estandar_leu = SENSE_PA['leucos'].std()\n",
    "\n",
    "resultado = f\"{promedio_leu:.2f} ± {desviacion_estandar_leu:.2f}\"\n",
    "print(\"Mitjana ± Desviació Estàndard dels leucòcits:\", resultado)"
   ],
   "id": "99a1a6295c361a2c",
   "outputs": [
    {
     "name": "stdout",
     "output_type": "stream",
     "text": [
      "Mitjana ± Desviació Estàndard dels leucòcits: 11.52 ± 6.52\n"
     ]
    }
   ],
   "execution_count": 807
  },
  {
   "metadata": {},
   "cell_type": "markdown",
   "source": [
    "#### Pvalor "
   ],
   "id": "9511b2de133ed812"
  },
  {
   "metadata": {},
   "cell_type": "markdown",
   "source": [
    "##### Normalitat"
   ],
   "id": "d1fa962aa6b639d3"
  },
  {
   "metadata": {
    "ExecuteTime": {
     "end_time": "2024-04-29T07:04:40.613882Z",
     "start_time": "2024-04-29T07:04:40.608620Z"
    }
   },
   "cell_type": "code",
   "source": [
    "leuambpa=AMB_PA['leucos'].dropna()\n",
    "stat, p_value = shapiro(leuambpa)\n",
    "print(f\"Estadístic W = {stat:.4f}\")\n",
    "print(f\"Valor p = {p_value:.8f}\")\n",
    "\n",
    "alpha = 0.05\n",
    "if p_value < alpha:\n",
    "    print(\"El nombre de files no segueix una distribució normal.\")\n",
    "else:\n",
    "    print(\"El nombre de files segueix una distribució normal.\")"
   ],
   "id": "c19926c8fe5c2c29",
   "outputs": [
    {
     "name": "stdout",
     "output_type": "stream",
     "text": [
      "Estadístic W = 0.8482\n",
      "Valor p = 0.09127190\n",
      "El nombre de files segueix una distribució normal.\n"
     ]
    }
   ],
   "execution_count": 808
  },
  {
   "metadata": {
    "ExecuteTime": {
     "end_time": "2024-04-29T07:04:40.906717Z",
     "start_time": "2024-04-29T07:04:40.900379Z"
    }
   },
   "cell_type": "code",
   "source": [
    "leuambpamecvv=AMB_PA_MECVV['leucos'].dropna()\n",
    "stat, p_value = shapiro(leuambpamecvv)\n",
    "print(f\"Estadístic W = {stat:.4f}\")\n",
    "print(f\"Valor p = {p_value:.8f}\")\n",
    "\n",
    "alpha = 0.05\n",
    "if p_value < alpha:\n",
    "    print(\"El nombre de files no segueix una distribució normal.\")\n",
    "else:\n",
    "    print(\"El nombre de files segueix una distribució normal.\")"
   ],
   "id": "94aa3e5f50110b82",
   "outputs": [
    {
     "name": "stdout",
     "output_type": "stream",
     "text": [
      "Estadístic W = 0.8939\n",
      "Valor p = 0.40148390\n",
      "El nombre de files segueix una distribució normal.\n"
     ]
    }
   ],
   "execution_count": 809
  },
  {
   "metadata": {
    "ExecuteTime": {
     "end_time": "2024-04-29T07:04:41.248256Z",
     "start_time": "2024-04-29T07:04:41.242933Z"
    }
   },
   "cell_type": "code",
   "source": [
    "leusensepa=SENSE_PA['leucos'].dropna()\n",
    "stat, p_value = shapiro(leusensepa)\n",
    "print(f\"Estadístic W = {stat:.4f}\")\n",
    "print(f\"Valor p = {p_value:.8f}\")\n",
    "\n",
    "alpha = 0.05\n",
    "if p_value < alpha:\n",
    "    print(\"El nombre de files no segueix una distribució normal.\")\n",
    "else:\n",
    "    print(\"El nombre de files segueix una distribució normal.\")"
   ],
   "id": "85f281e368032537",
   "outputs": [
    {
     "name": "stdout",
     "output_type": "stream",
     "text": [
      "Estadístic W = 0.8178\n",
      "Valor p = 0.00096236\n",
      "El nombre de files no segueix una distribució normal.\n"
     ]
    }
   ],
   "execution_count": 810
  },
  {
   "metadata": {
    "ExecuteTime": {
     "end_time": "2024-04-29T07:04:41.474529Z",
     "start_time": "2024-04-29T07:04:41.468485Z"
    }
   },
   "cell_type": "code",
   "source": [
    "t_stat_12, p_val_12 = ttest_ind(AMB_PA['leucos'], AMB_PA_MECVV['leucos'], equal_var=False)\n",
    "print(\"P-valor entre AMB_PA i AMB_PA_MECVV:\", p_val_12)"
   ],
   "id": "59295ec2bdcca38d",
   "outputs": [
    {
     "name": "stdout",
     "output_type": "stream",
     "text": [
      "P-valor entre AMB_PA i AMB_PA_MECVV: nan\n"
     ]
    }
   ],
   "execution_count": 811
  },
  {
   "metadata": {
    "ExecuteTime": {
     "end_time": "2024-04-29T07:04:41.819327Z",
     "start_time": "2024-04-29T07:04:41.813810Z"
    }
   },
   "cell_type": "code",
   "source": [
    "t_stat_13, p_val_13 = mannwhitneyu(AMB_PA['leucos'], SENSE_PA['leucos'], alternative='two-sided')\n",
    "print(\"P-valor entre AMB_PA i SENSE_PA:\", p_val_13)"
   ],
   "id": "79ab95afbed3f45c",
   "outputs": [
    {
     "name": "stdout",
     "output_type": "stream",
     "text": [
      "P-valor entre AMB_PA i SENSE_PA: nan\n"
     ]
    }
   ],
   "execution_count": 812
  },
  {
   "metadata": {
    "ExecuteTime": {
     "end_time": "2024-04-29T07:04:42.196795Z",
     "start_time": "2024-04-29T07:04:42.192617Z"
    }
   },
   "cell_type": "code",
   "source": [
    "t_stat_23, p_val_23 = mannwhitneyu(AMB_PA_MECVV['leucos'], SENSE_PA['leucos'], alternative='two-sided')\n",
    "print(\"P-valor entre AMB_PA_MECVV i SENSE_PA:\", p_val_23)"
   ],
   "id": "9d6e12e2297c2edb",
   "outputs": [
    {
     "name": "stdout",
     "output_type": "stream",
     "text": [
      "P-valor entre AMB_PA_MECVV i SENSE_PA: nan\n"
     ]
    }
   ],
   "execution_count": 813
  },
  {
   "metadata": {},
   "cell_type": "markdown",
   "source": [
    "### Limfòcits %"
   ],
   "id": "c7ba36254173c3f"
  },
  {
   "metadata": {
    "ExecuteTime": {
     "end_time": "2024-04-29T07:04:42.473041Z",
     "start_time": "2024-04-29T07:04:42.467377Z"
    }
   },
   "cell_type": "code",
   "source": [
    "AMB_PA.loc[:, 'limfos'] = pd.to_numeric(AMB_PA['limfos'], errors='coerce')\n",
    "\n",
    "promedio_limf = AMB_PA['limfos'].mean()\n",
    "desviacion_estandar_limf = AMB_PA['limfos'].std()\n",
    "\n",
    "resultado = f\"{promedio_limf:.2f} ± {desviacion_estandar_limf:.2f}\"\n",
    "print(\"Mitjana ± Desviació Estàndard dels limfòcits %:\", resultado)"
   ],
   "id": "c25fb26ede6fabe0",
   "outputs": [
    {
     "name": "stdout",
     "output_type": "stream",
     "text": [
      "Mitjana ± Desviació Estàndard dels limfòcits %: 16.70 ± 12.29\n"
     ]
    }
   ],
   "execution_count": 814
  },
  {
   "metadata": {
    "ExecuteTime": {
     "end_time": "2024-04-29T07:04:42.729398Z",
     "start_time": "2024-04-29T07:04:42.723789Z"
    }
   },
   "cell_type": "code",
   "source": [
    "AMB_PA_MECVV.loc[:, 'limfos'] = pd.to_numeric(AMB_PA_MECVV['limfos'], errors='coerce')\n",
    "\n",
    "promedio_limf = AMB_PA_MECVV['limfos'].mean()\n",
    "desviacion_estandar_limf = AMB_PA_MECVV['limfos'].std()\n",
    "\n",
    "resultado = f\"{promedio_limf:.2f} ± {desviacion_estandar_limf:.2f}\"\n",
    "print(\"Mitjana ± Desviació Estàndard dels limfòcits %:\", resultado)"
   ],
   "id": "3d1f97bbff88b3d3",
   "outputs": [
    {
     "name": "stdout",
     "output_type": "stream",
     "text": [
      "Mitjana ± Desviació Estàndard dels limfòcits %: 17.20 ± 9.35\n"
     ]
    }
   ],
   "execution_count": 815
  },
  {
   "metadata": {
    "ExecuteTime": {
     "end_time": "2024-04-29T07:04:43.052993Z",
     "start_time": "2024-04-29T07:04:43.047645Z"
    }
   },
   "cell_type": "code",
   "source": [
    "SENSE_PA.loc[:, 'limfos'] = pd.to_numeric(SENSE_PA['limfos'], errors='coerce')\n",
    "\n",
    "promedio_limf = SENSE_PA['limfos'].mean()\n",
    "desviacion_estandar_limf = SENSE_PA['limfos'].std()\n",
    "\n",
    "resultado = f\"{promedio_limf:.2f} ± {desviacion_estandar_limf:.2f}\"\n",
    "print(\"Mitjana ± Desviació Estàndard dels limfòcits %:\", resultado)"
   ],
   "id": "4284d3f2b93fd461",
   "outputs": [
    {
     "name": "stdout",
     "output_type": "stream",
     "text": [
      "Mitjana ± Desviació Estàndard dels limfòcits %: 19.50 ± 11.57\n"
     ]
    }
   ],
   "execution_count": 816
  },
  {
   "metadata": {},
   "cell_type": "markdown",
   "source": [
    "#### Pvalor"
   ],
   "id": "d631c6aabf1ddcfc"
  },
  {
   "metadata": {},
   "cell_type": "markdown",
   "source": [
    "##### Normalitat"
   ],
   "id": "e588502cfbc929f6"
  },
  {
   "metadata": {
    "ExecuteTime": {
     "end_time": "2024-04-29T07:04:43.251042Z",
     "start_time": "2024-04-29T07:04:43.245517Z"
    }
   },
   "cell_type": "code",
   "source": [
    "limfambpa=AMB_PA['limfos'].dropna()\n",
    "stat, p_value = shapiro(limfambpa)\n",
    "print(f\"Estadístic W = {stat:.4f}\")\n",
    "print(f\"Valor p = {p_value:.8f}\")\n",
    "\n",
    "alpha = 0.05\n",
    "if p_value < alpha:\n",
    "    print(\"El nombre de files no segueix una distribució normal.\")\n",
    "else:\n",
    "    print(\"El nombre de files segueix una distribució normal.\")"
   ],
   "id": "35499da84250aa12",
   "outputs": [
    {
     "name": "stdout",
     "output_type": "stream",
     "text": [
      "Estadístic W = 0.8208\n",
      "Valor p = 0.04757269\n",
      "El nombre de files no segueix una distribució normal.\n"
     ]
    }
   ],
   "execution_count": 817
  },
  {
   "metadata": {
    "ExecuteTime": {
     "end_time": "2024-04-29T07:04:43.601562Z",
     "start_time": "2024-04-29T07:04:43.596420Z"
    }
   },
   "cell_type": "code",
   "source": [
    "limfambpamecvv=AMB_PA_MECVV['limfos'].dropna()\n",
    "stat, p_value = shapiro(limfambpamecvv)\n",
    "print(f\"Estadístic W = {stat:.4f}\")\n",
    "print(f\"Valor p = {p_value:.8f}\")\n",
    "\n",
    "alpha = 0.05\n",
    "if p_value < alpha:\n",
    "    print(\"El nombre de files no segueix una distribució normal.\")\n",
    "else:\n",
    "    print(\"El nombre de files segueix una distribució normal.\")"
   ],
   "id": "3bd081c99ed663f5",
   "outputs": [
    {
     "name": "stdout",
     "output_type": "stream",
     "text": [
      "Estadístic W = 0.9374\n",
      "Valor p = 0.51710593\n",
      "El nombre de files segueix una distribució normal.\n"
     ]
    }
   ],
   "execution_count": 818
  },
  {
   "metadata": {
    "ExecuteTime": {
     "end_time": "2024-04-29T07:04:44.047326Z",
     "start_time": "2024-04-29T07:04:44.042110Z"
    }
   },
   "cell_type": "code",
   "source": [
    "limfsensepa=SENSE_PA['limfos'].dropna()\n",
    "stat, p_value = shapiro(limfsensepa)\n",
    "print(f\"Estadístic W = {stat:.4f}\")\n",
    "print(f\"Valor p = {p_value:.8f}\")\n",
    "\n",
    "alpha = 0.05\n",
    "if p_value < alpha:\n",
    "    print(\"El nombre de files no segueix una distribució normal.\")\n",
    "else:\n",
    "    print(\"El nombre de files segueix una distribució normal.\")"
   ],
   "id": "e6f37e02700095ad",
   "outputs": [
    {
     "name": "stdout",
     "output_type": "stream",
     "text": [
      "Estadístic W = 0.9290\n",
      "Valor p = 0.13154504\n",
      "El nombre de files segueix una distribució normal.\n"
     ]
    }
   ],
   "execution_count": 819
  },
  {
   "metadata": {
    "ExecuteTime": {
     "end_time": "2024-04-29T07:04:44.651062Z",
     "start_time": "2024-04-29T07:04:44.644881Z"
    }
   },
   "cell_type": "code",
   "source": [
    "stat_12, p_val_12 = mannwhitneyu(AMB_PA['limfos'], AMB_PA_MECVV['limfos'], alternative='two-sided')\n",
    "print(\"P-valor entre AMB_PA i AMB_PA_MECVV:\", p_val_12)"
   ],
   "id": "1f687355004bb722",
   "outputs": [
    {
     "name": "stdout",
     "output_type": "stream",
     "text": [
      "P-valor entre AMB_PA i AMB_PA_MECVV: nan\n"
     ]
    }
   ],
   "execution_count": 820
  },
  {
   "metadata": {
    "ExecuteTime": {
     "end_time": "2024-04-29T07:04:45.341059Z",
     "start_time": "2024-04-29T07:04:45.335022Z"
    }
   },
   "cell_type": "code",
   "source": [
    "t_stat_13, p_val_13 = ttest_ind(AMB_PA['limfos'], SENSE_PA['limfos'], equal_var=False)\n",
    "print(\"P-valor entre AMB_PA i SENSE_PA:\", p_val_13)"
   ],
   "id": "cdc7d555c89a97a",
   "outputs": [
    {
     "name": "stdout",
     "output_type": "stream",
     "text": [
      "P-valor entre AMB_PA i SENSE_PA: nan\n"
     ]
    }
   ],
   "execution_count": 821
  },
  {
   "metadata": {
    "ExecuteTime": {
     "end_time": "2024-04-29T07:04:45.718743Z",
     "start_time": "2024-04-29T07:04:45.713735Z"
    }
   },
   "cell_type": "code",
   "source": [
    "stat_23, p_val_23 = mannwhitneyu(AMB_PA_MECVV['limfos'], SENSE_PA['limfos'], alternative='two-sided')\n",
    "print(\"P-valor entre AMB_PA_MECVV i SENSE_PA:\", p_val_23)"
   ],
   "id": "475aa2b5d327df7c",
   "outputs": [
    {
     "name": "stdout",
     "output_type": "stream",
     "text": [
      "P-valor entre AMB_PA_MECVV i SENSE_PA: nan\n"
     ]
    }
   ],
   "execution_count": 822
  },
  {
   "metadata": {},
   "cell_type": "markdown",
   "source": [
    "### Proteïna C Reactiva"
   ],
   "id": "b5af48dc4725f34c"
  },
  {
   "metadata": {
    "ExecuteTime": {
     "end_time": "2024-04-29T07:04:46.066071Z",
     "start_time": "2024-04-29T07:04:46.060101Z"
    }
   },
   "cell_type": "code",
   "source": [
    "AMB_PA.loc[:, 'prot C react'] = pd.to_numeric(AMB_PA['prot C react'], errors='coerce')\n",
    "\n",
    "promedio_protcr = AMB_PA['prot C react'].mean()\n",
    "desviacion_estandar_protcr = AMB_PA['prot C react'].std()\n",
    "\n",
    "resultado = f\"{promedio_protcr:.2f} ± {desviacion_estandar_protcr:.2f}\"\n",
    "print(\"Mitjana ± Desviació Estàndard de la proteïna C reactiva:\", resultado)"
   ],
   "id": "98e283277d756533",
   "outputs": [
    {
     "name": "stdout",
     "output_type": "stream",
     "text": [
      "Mitjana ± Desviació Estàndard de la proteïna C reactiva: 8.90 ± 5.47\n"
     ]
    }
   ],
   "execution_count": 823
  },
  {
   "metadata": {
    "ExecuteTime": {
     "end_time": "2024-04-29T07:04:46.440807Z",
     "start_time": "2024-04-29T07:04:46.434691Z"
    }
   },
   "cell_type": "code",
   "source": [
    "AMB_PA_MECVV.loc[:, 'prot C react'] = pd.to_numeric(AMB_PA_MECVV['prot C react'], errors='coerce')\n",
    "\n",
    "promedio_protcr = AMB_PA_MECVV['prot C react'].mean()\n",
    "desviacion_estandar_protcr = AMB_PA_MECVV['prot C react'].std()\n",
    "\n",
    "resultado = f\"{promedio_protcr:.2f} ± {desviacion_estandar_protcr:.2f}\"\n",
    "print(\"Mitjana ± Desviació Estàndard de la proteïna C reactiva:\", resultado)"
   ],
   "id": "8b515311fed50137",
   "outputs": [
    {
     "name": "stdout",
     "output_type": "stream",
     "text": [
      "Mitjana ± Desviació Estàndard de la proteïna C reactiva: 8.88 ± 3.63\n"
     ]
    }
   ],
   "execution_count": 824
  },
  {
   "metadata": {
    "ExecuteTime": {
     "end_time": "2024-04-29T07:04:46.744560Z",
     "start_time": "2024-04-29T07:04:46.737581Z"
    }
   },
   "cell_type": "code",
   "source": [
    "SENSE_PA.loc[:, 'prot C react'] = pd.to_numeric(SENSE_PA['prot C react'], errors='coerce')\n",
    "\n",
    "promedio_protcr = SENSE_PA['prot C react'].mean()\n",
    "desviacion_estandar_protcr = SENSE_PA['prot C react'].std()\n",
    "\n",
    "resultado = f\"{promedio_protcr:.2f} ± {desviacion_estandar_protcr:.2f}\"\n",
    "print(\"Mitjana ± Desviació Estàndard de la proteïna C reactiva:\", resultado)"
   ],
   "id": "7ddab15e5c37a380",
   "outputs": [
    {
     "name": "stdout",
     "output_type": "stream",
     "text": [
      "Mitjana ± Desviació Estàndard de la proteïna C reactiva: 6.16 ± 6.19\n"
     ]
    }
   ],
   "execution_count": 825
  },
  {
   "metadata": {},
   "cell_type": "markdown",
   "source": [
    "#### Pvalor"
   ],
   "id": "b31569a040499bc0"
  },
  {
   "metadata": {},
   "cell_type": "markdown",
   "source": [
    "##### Normalitat"
   ],
   "id": "a9b9a9f6b0ba7bc9"
  },
  {
   "metadata": {
    "ExecuteTime": {
     "end_time": "2024-04-29T07:04:47.107416Z",
     "start_time": "2024-04-29T07:04:47.102372Z"
    }
   },
   "cell_type": "code",
   "source": [
    "pcrambpa=AMB_PA['prot C react'].dropna()\n",
    "stat, p_value = shapiro(pcrambpa)\n",
    "print(f\"Estadístic W = {stat:.4f}\")\n",
    "print(f\"Valor p = {p_value:.8f}\")\n",
    "\n",
    "alpha = 0.05\n",
    "if p_value < alpha:\n",
    "    print(\"El nombre de files no segueix una distribució normal.\")\n",
    "else:\n",
    "    print(\"El nombre de files segueix una distribució normal.\")"
   ],
   "id": "74effc43ec1d103d",
   "outputs": [
    {
     "name": "stdout",
     "output_type": "stream",
     "text": [
      "Estadístic W = 0.9423\n",
      "Valor p = 0.60665876\n",
      "El nombre de files segueix una distribució normal.\n"
     ]
    }
   ],
   "execution_count": 826
  },
  {
   "metadata": {
    "ExecuteTime": {
     "end_time": "2024-04-29T07:04:47.454594Z",
     "start_time": "2024-04-29T07:04:47.449572Z"
    }
   },
   "cell_type": "code",
   "source": [
    "pcrambpamecvv=AMB_PA_MECVV['prot C react'].dropna()\n",
    "stat, p_value = shapiro(pcrambpamecvv)\n",
    "print(f\"Estadístic W = {stat:.4f}\")\n",
    "print(f\"Valor p = {p_value:.8f}\")\n",
    "\n",
    "alpha = 0.05\n",
    "if p_value < alpha:\n",
    "    print(\"El nombre de files no segueix una distribució normal.\")\n",
    "else:\n",
    "    print(\"El nombre de files segueix una distribució normal.\")"
   ],
   "id": "126e457734e0cd5f",
   "outputs": [
    {
     "name": "stdout",
     "output_type": "stream",
     "text": [
      "Estadístic W = 0.7886\n",
      "Valor p = 0.08325234\n",
      "El nombre de files segueix una distribució normal.\n"
     ]
    }
   ],
   "execution_count": 827
  },
  {
   "metadata": {
    "ExecuteTime": {
     "end_time": "2024-04-29T07:04:47.979015Z",
     "start_time": "2024-04-29T07:04:47.973785Z"
    }
   },
   "cell_type": "code",
   "source": [
    "pcrsensepa=SENSE_PA['prot C react'].dropna()\n",
    "stat, p_value = shapiro(pcrsensepa)\n",
    "print(f\"Estadístic W = {stat:.4f}\")\n",
    "print(f\"Valor p = {p_value:.8f}\")\n",
    "\n",
    "alpha = 0.05\n",
    "if p_value < alpha:\n",
    "    print(\"El nombre de files no segueix una distribució normal.\")\n",
    "else:\n",
    "    print(\"El nombre de files segueix una distribució normal.\")"
   ],
   "id": "d4b76e6566e60aef",
   "outputs": [
    {
     "name": "stdout",
     "output_type": "stream",
     "text": [
      "Estadístic W = 0.8698\n",
      "Valor p = 0.00636559\n",
      "El nombre de files no segueix una distribució normal.\n"
     ]
    }
   ],
   "execution_count": 828
  },
  {
   "metadata": {
    "ExecuteTime": {
     "end_time": "2024-04-29T07:04:48.166744Z",
     "start_time": "2024-04-29T07:04:48.162150Z"
    }
   },
   "cell_type": "code",
   "source": [
    "t_stat_12, p_val_12 = ttest_ind(AMB_PA['prot C react'], AMB_PA_MECVV['prot C react'], equal_var=False)\n",
    "print(\"P-valor entre AMB_PA i AMB_PA_MECVV:\", p_val_12)"
   ],
   "id": "4ac26b19e5a637c4",
   "outputs": [
    {
     "name": "stdout",
     "output_type": "stream",
     "text": [
      "P-valor entre AMB_PA i AMB_PA_MECVV: nan\n"
     ]
    }
   ],
   "execution_count": 829
  },
  {
   "metadata": {
    "ExecuteTime": {
     "end_time": "2024-04-29T07:04:48.541229Z",
     "start_time": "2024-04-29T07:04:48.535975Z"
    }
   },
   "cell_type": "code",
   "source": [
    "t_stat_13, p_val_13 = mannwhitneyu(AMB_PA['prot C react'], SENSE_PA['prot C react'], alternative='two-sided')\n",
    "print(\"P-valor entre AMB_PA i SENSE_PA:\", p_val_13)"
   ],
   "id": "c066108d69febfac",
   "outputs": [
    {
     "name": "stdout",
     "output_type": "stream",
     "text": [
      "P-valor entre AMB_PA i SENSE_PA: nan\n"
     ]
    }
   ],
   "execution_count": 830
  },
  {
   "metadata": {
    "ExecuteTime": {
     "end_time": "2024-04-29T07:04:48.784179Z",
     "start_time": "2024-04-29T07:04:48.779639Z"
    }
   },
   "cell_type": "code",
   "source": [
    "t_stat_23, p_val_23 = mannwhitneyu(AMB_PA_MECVV['prot C react'], SENSE_PA['prot C react'], alternative='two-sided')\n",
    "print(\"P-valor entre AMB_PA_MECVV i SENSE_PA:\", p_val_23)"
   ],
   "id": "990e6825240cb2cc",
   "outputs": [
    {
     "name": "stdout",
     "output_type": "stream",
     "text": [
      "P-valor entre AMB_PA_MECVV i SENSE_PA: nan\n"
     ]
    }
   ],
   "execution_count": 831
  },
  {
   "metadata": {},
   "cell_type": "markdown",
   "source": [
    "### Urea "
   ],
   "id": "70407b79d2781378"
  },
  {
   "metadata": {
    "ExecuteTime": {
     "end_time": "2024-04-29T07:04:49.264338Z",
     "start_time": "2024-04-29T07:04:49.258880Z"
    }
   },
   "cell_type": "code",
   "source": [
    "AMB_PA.loc[:, 'urea'] = pd.to_numeric(AMB_PA['urea'], errors='coerce')\n",
    "\n",
    "promedio_urea = AMB_PA['urea'].mean()\n",
    "desviacion_estandar_urea = AMB_PA['urea'].std()\n",
    "\n",
    "resultado = f\"{promedio_urea:.2f} ± {desviacion_estandar_urea:.2f}\"\n",
    "print(\"Mitjana ± Desviació Estàndard de la urea:\", resultado)"
   ],
   "id": "6d830574cb2474c2",
   "outputs": [
    {
     "name": "stdout",
     "output_type": "stream",
     "text": [
      "Mitjana ± Desviació Estàndard de la urea: 62.17 ± 36.37\n"
     ]
    }
   ],
   "execution_count": 832
  },
  {
   "metadata": {
    "ExecuteTime": {
     "end_time": "2024-04-29T07:04:49.419603Z",
     "start_time": "2024-04-29T07:04:49.413707Z"
    }
   },
   "cell_type": "code",
   "source": [
    "AMB_PA_MECVV.loc[:, 'urea'] = pd.to_numeric(AMB_PA_MECVV['urea'], errors='coerce')\n",
    "\n",
    "promedio_urea = AMB_PA_MECVV['urea'].mean()\n",
    "desviacion_estandar_urea = AMB_PA_MECVV['urea'].std()\n",
    "\n",
    "resultado = f\"{promedio_urea:.2f} ± {desviacion_estandar_urea:.2f}\"\n",
    "print(\"Mitjana ± Desviació Estàndard de la urea:\", resultado)"
   ],
   "id": "115f038f7b499570",
   "outputs": [
    {
     "name": "stdout",
     "output_type": "stream",
     "text": [
      "Mitjana ± Desviació Estàndard de la urea: 62.37 ± 37.72\n"
     ]
    }
   ],
   "execution_count": 833
  },
  {
   "metadata": {
    "ExecuteTime": {
     "end_time": "2024-04-29T07:04:49.968628Z",
     "start_time": "2024-04-29T07:04:49.962567Z"
    }
   },
   "cell_type": "code",
   "source": [
    "SENSE_PA.loc[:, 'urea'] = pd.to_numeric(SENSE_PA['urea'], errors='coerce')\n",
    "\n",
    "promedio_urea = SENSE_PA['urea'].mean()\n",
    "desviacion_estandar_urea = SENSE_PA['urea'].std()\n",
    "\n",
    "resultado = f\"{promedio_urea:.2f} ± {desviacion_estandar_urea:.2f}\"\n",
    "print(\"Mitjana ± Desviació Estàndard de la urea:\", resultado)"
   ],
   "id": "128b7760b5b53c87",
   "outputs": [
    {
     "name": "stdout",
     "output_type": "stream",
     "text": [
      "Mitjana ± Desviació Estàndard de la urea: 55.03 ± 30.66\n"
     ]
    }
   ],
   "execution_count": 834
  },
  {
   "metadata": {},
   "cell_type": "markdown",
   "source": [
    "#### Pvalor"
   ],
   "id": "9845a84dff03ee36"
  },
  {
   "metadata": {},
   "cell_type": "markdown",
   "source": [
    "##### Normalitat"
   ],
   "id": "779d3f8d9a8af548"
  },
  {
   "metadata": {
    "ExecuteTime": {
     "end_time": "2024-04-29T07:04:50.301164Z",
     "start_time": "2024-04-29T07:04:50.294943Z"
    }
   },
   "cell_type": "code",
   "source": [
    "uambpa=AMB_PA['urea'].dropna()\n",
    "stat, p_value = shapiro(uambpa)\n",
    "print(f\"Estadístic W = {stat:.4f}\")\n",
    "print(f\"Valor p = {p_value:.8f}\")\n",
    "\n",
    "alpha = 0.05\n",
    "if p_value < alpha:\n",
    "    print(\"El nombre de files no segueix una distribució normal.\")\n",
    "else:\n",
    "    print(\"El nombre de files segueix una distribució normal.\")"
   ],
   "id": "2152753661c990b",
   "outputs": [
    {
     "name": "stdout",
     "output_type": "stream",
     "text": [
      "Estadístic W = 0.8842\n",
      "Valor p = 0.17374314\n",
      "El nombre de files segueix una distribució normal.\n"
     ]
    }
   ],
   "execution_count": 835
  },
  {
   "metadata": {
    "ExecuteTime": {
     "end_time": "2024-04-29T07:04:50.978102Z",
     "start_time": "2024-04-29T07:04:50.972334Z"
    }
   },
   "cell_type": "code",
   "source": [
    "uambpamecvv=AMB_PA_MECVV['urea'].dropna()\n",
    "stat, p_value = shapiro(uambpamecvv)\n",
    "print(f\"Estadístic W = {stat:.4f}\")\n",
    "print(f\"Valor p = {p_value:.8f}\")\n",
    "\n",
    "alpha = 0.05\n",
    "if p_value < alpha:\n",
    "    print(\"El nombre de files no segueix una distribució normal.\")\n",
    "else:\n",
    "    print(\"El nombre de files segueix una distribució normal.\")"
   ],
   "id": "3f8b1350804e2149",
   "outputs": [
    {
     "name": "stdout",
     "output_type": "stream",
     "text": [
      "Estadístic W = 0.8991\n",
      "Valor p = 0.42677381\n",
      "El nombre de files segueix una distribució normal.\n"
     ]
    }
   ],
   "execution_count": 836
  },
  {
   "metadata": {
    "ExecuteTime": {
     "end_time": "2024-04-29T07:04:51.374088Z",
     "start_time": "2024-04-29T07:04:51.368457Z"
    }
   },
   "cell_type": "code",
   "source": [
    "usensepa=SENSE_PA['urea'].dropna()\n",
    "stat, p_value = shapiro(usensepa)\n",
    "print(f\"Estadístic W = {stat:.4f}\")\n",
    "print(f\"Valor p = {p_value:.8f}\")\n",
    "\n",
    "alpha = 0.05\n",
    "if p_value < alpha:\n",
    "    print(\"El nombre de files no segueix una distribució normal.\")\n",
    "else:\n",
    "    print(\"El nombre de files segueix una distribució normal.\")"
   ],
   "id": "f05d4f0e1466a0e4",
   "outputs": [
    {
     "name": "stdout",
     "output_type": "stream",
     "text": [
      "Estadístic W = 0.8289\n",
      "Valor p = 0.00115364\n",
      "El nombre de files no segueix una distribució normal.\n"
     ]
    }
   ],
   "execution_count": 837
  },
  {
   "metadata": {
    "ExecuteTime": {
     "end_time": "2024-04-29T07:04:51.674678Z",
     "start_time": "2024-04-29T07:04:51.668817Z"
    }
   },
   "cell_type": "code",
   "source": [
    "t_stat_12, p_val_12 = ttest_ind(AMB_PA['urea'], AMB_PA_MECVV['urea'], equal_var=False)\n",
    "print(\"P-valor entre AMB_PA i AMB_PA_MECVV:\", p_val_12)"
   ],
   "id": "8ecd8760328f0c7c",
   "outputs": [
    {
     "name": "stdout",
     "output_type": "stream",
     "text": [
      "P-valor entre AMB_PA i AMB_PA_MECVV: nan\n"
     ]
    }
   ],
   "execution_count": 838
  },
  {
   "metadata": {
    "ExecuteTime": {
     "end_time": "2024-04-29T07:04:51.975143Z",
     "start_time": "2024-04-29T07:04:51.969544Z"
    }
   },
   "cell_type": "code",
   "source": [
    "t_stat_13, p_val_13 = mannwhitneyu(AMB_PA['urea'], SENSE_PA['urea'], alternative='two-sided')\n",
    "print(\"P-valor entre AMB_PA i SENSE_PA:\", p_val_13)"
   ],
   "id": "a5fc71afbb44df64",
   "outputs": [
    {
     "name": "stdout",
     "output_type": "stream",
     "text": [
      "P-valor entre AMB_PA i SENSE_PA: nan\n"
     ]
    }
   ],
   "execution_count": 839
  },
  {
   "metadata": {
    "ExecuteTime": {
     "end_time": "2024-04-29T07:04:52.303973Z",
     "start_time": "2024-04-29T07:04:52.298615Z"
    }
   },
   "cell_type": "code",
   "source": [
    "t_stat_23, p_val_23 = mannwhitneyu(AMB_PA_MECVV['urea'], SENSE_PA['urea'], alternative='two-sided')\n",
    "print(\"P-valor entre AMB_PA_MECVV i SENSE_PA:\", p_val_23)"
   ],
   "id": "6c6fdbd824f81824",
   "outputs": [
    {
     "name": "stdout",
     "output_type": "stream",
     "text": [
      "P-valor entre AMB_PA_MECVV i SENSE_PA: nan\n"
     ]
    }
   ],
   "execution_count": 840
  },
  {
   "metadata": {},
   "cell_type": "markdown",
   "source": [
    "### Filtrat glomerular CDK-EPI"
   ],
   "id": "97c39fd36060d222"
  },
  {
   "metadata": {
    "ExecuteTime": {
     "end_time": "2024-04-29T07:04:52.603920Z",
     "start_time": "2024-04-29T07:04:52.598007Z"
    }
   },
   "cell_type": "code",
   "source": [
    "AMB_PA.loc[:, 'FGE CDK-EPI'] = pd.to_numeric(AMB_PA['FGE CDK-EPI'], errors='coerce')\n",
    "\n",
    "promedio_fg = AMB_PA['FGE CDK-EPI'].mean()\n",
    "desviacion_estandar_fg = AMB_PA['FGE CDK-EPI'].std()\n",
    "\n",
    "resultado = f\"{promedio_fg:.2f} ± {desviacion_estandar_fg:.2f}\"\n",
    "print(\"Mitjana ± Desviació Estàndard de la filtració glomerular CDK-EPI:\", resultado)"
   ],
   "id": "335089755b149003",
   "outputs": [
    {
     "name": "stdout",
     "output_type": "stream",
     "text": [
      "Mitjana ± Desviació Estàndard de la filtració glomerular CDK-EPI: 56.00 ± 12.65\n"
     ]
    }
   ],
   "execution_count": 841
  },
  {
   "metadata": {
    "ExecuteTime": {
     "end_time": "2024-04-29T07:04:53.173990Z",
     "start_time": "2024-04-29T07:04:53.167027Z"
    }
   },
   "cell_type": "code",
   "source": [
    "AMB_PA_MECVV.loc[:, 'FGE CDK-EPI'] = pd.to_numeric(AMB_PA_MECVV['FGE CDK-EPI'], errors='coerce')\n",
    "\n",
    "promedio_fg = AMB_PA_MECVV['FGE CDK-EPI'].mean()\n",
    "desviacion_estandar_fg = AMB_PA_MECVV['FGE CDK-EPI'].std()\n",
    "\n",
    "resultado = f\"{promedio_fg:.2f} ± {desviacion_estandar_fg:.2f}\"\n",
    "print(\"Mitjana ± Desviació Estàndard de la filtració glomerular CDK-EPI:\", resultado)"
   ],
   "id": "a8bb2317b53cefaf",
   "outputs": [
    {
     "name": "stdout",
     "output_type": "stream",
     "text": [
      "Mitjana ± Desviació Estàndard de la filtració glomerular CDK-EPI: 54.67 ± 13.32\n"
     ]
    }
   ],
   "execution_count": 842
  },
  {
   "metadata": {
    "ExecuteTime": {
     "end_time": "2024-04-29T07:04:53.377065Z",
     "start_time": "2024-04-29T07:04:53.371023Z"
    }
   },
   "cell_type": "code",
   "source": [
    "SENSE_PA.loc[:, 'FGE CDK-EPI'] = pd.to_numeric(SENSE_PA['FGE CDK-EPI'], errors='coerce')\n",
    "\n",
    "promedio_fg = SENSE_PA['FGE CDK-EPI'].mean()\n",
    "desviacion_estandar_fg = SENSE_PA['FGE CDK-EPI'].std()\n",
    "\n",
    "resultado = f\"{promedio_fg:.2f} ± {desviacion_estandar_fg:.2f}\"\n",
    "print(\"Mitjana ± Desviació Estàndard de la filtració glomerular CDK-EPI:\", resultado)"
   ],
   "id": "d3b100faffc74bb4",
   "outputs": [
    {
     "name": "stdout",
     "output_type": "stream",
     "text": [
      "Mitjana ± Desviació Estàndard de la filtració glomerular CDK-EPI: 58.56 ± 18.40\n"
     ]
    }
   ],
   "execution_count": 843
  },
  {
   "metadata": {},
   "cell_type": "markdown",
   "source": [
    "#### Pvalor"
   ],
   "id": "3a6a732fb32c6a40"
  },
  {
   "metadata": {},
   "cell_type": "markdown",
   "source": [
    "##### Normalitat"
   ],
   "id": "6b6b3b3c035d716c"
  },
  {
   "metadata": {
    "ExecuteTime": {
     "end_time": "2024-04-29T07:04:53.852177Z",
     "start_time": "2024-04-29T07:04:53.847662Z"
    }
   },
   "cell_type": "code",
   "source": [
    "fgepiambpa=AMB_PA['FGE CDK-EPI'].dropna()\n",
    "stat, p_value = shapiro(fgepiambpa)\n",
    "print(f\"Estadístic W = {stat:.4f}\")\n",
    "print(f\"Valor p = {p_value:.8f}\")\n",
    "\n",
    "alpha = 0.05\n",
    "if p_value < alpha:\n",
    "    print(\"El nombre de files no segueix una distribució normal.\")\n",
    "else:\n",
    "    print(\"El nombre de files segueix una distribució normal.\")"
   ],
   "id": "e037b2e5cfd6ac84",
   "outputs": [
    {
     "name": "stdout",
     "output_type": "stream",
     "text": [
      "Estadístic W = 0.7690\n",
      "Valor p = 0.01994941\n",
      "El nombre de files no segueix una distribució normal.\n"
     ]
    }
   ],
   "execution_count": 844
  },
  {
   "metadata": {
    "ExecuteTime": {
     "end_time": "2024-04-29T07:04:54.092976Z",
     "start_time": "2024-04-29T07:04:54.087643Z"
    }
   },
   "cell_type": "code",
   "source": [
    "fgepiambpamecvv=AMB_PA_MECVV['FGE CDK-EPI'].dropna()\n",
    "stat, p_value = shapiro(fgepiambpamecvv)\n",
    "print(f\"Estadístic W = {stat:.4f}\")\n",
    "print(f\"Valor p = {p_value:.8f}\")\n",
    "\n",
    "alpha = 0.05\n",
    "if p_value < alpha:\n",
    "    print(\"El nombre de files no segueix una distribució normal.\")\n",
    "else:\n",
    "    print(\"El nombre de files segueix una distribució normal.\")"
   ],
   "id": "6cfa62e76f8cd3eb",
   "outputs": [
    {
     "name": "stdout",
     "output_type": "stream",
     "text": [
      "Estadístic W = 0.8120\n",
      "Valor p = 0.14355397\n",
      "El nombre de files segueix una distribució normal.\n"
     ]
    }
   ],
   "execution_count": 845
  },
  {
   "metadata": {
    "ExecuteTime": {
     "end_time": "2024-04-29T07:04:54.579670Z",
     "start_time": "2024-04-29T07:04:54.573474Z"
    }
   },
   "cell_type": "code",
   "source": [
    "fgepisensepa=SENSE_PA['FGE CDK-EPI'].dropna()\n",
    "stat, p_value = shapiro(fgepisensepa)\n",
    "print(f\"Estadístic W = {stat:.4f}\")\n",
    "print(f\"Valor p = {p_value:.8f}\")\n",
    "\n",
    "alpha = 0.05\n",
    "if p_value < alpha:\n",
    "    print(\"El nombre de files no segueix una distribució normal.\")\n",
    "else:\n",
    "    print(\"El nombre de files segueix una distribució normal.\")"
   ],
   "id": "77f862b514fccffc",
   "outputs": [
    {
     "name": "stdout",
     "output_type": "stream",
     "text": [
      "Estadístic W = 0.9160\n",
      "Valor p = 0.14543070\n",
      "El nombre de files segueix una distribució normal.\n"
     ]
    }
   ],
   "execution_count": 846
  },
  {
   "metadata": {
    "ExecuteTime": {
     "end_time": "2024-04-29T07:04:54.837017Z",
     "start_time": "2024-04-29T07:04:54.831764Z"
    }
   },
   "cell_type": "code",
   "source": [
    "t_stat_12, p_val_12 = mannwhitneyu(AMB_PA['FGE CDK-EPI'], AMB_PA_MECVV['FGE CDK-EPI'], alternative='two-sided')\n",
    "print(\"P-valor entre AMB_PA i AMB_PA_MECVV:\", p_val_12)"
   ],
   "id": "b577d9671e51df70",
   "outputs": [
    {
     "name": "stdout",
     "output_type": "stream",
     "text": [
      "P-valor entre AMB_PA i AMB_PA_MECVV: nan\n"
     ]
    }
   ],
   "execution_count": 847
  },
  {
   "metadata": {
    "ExecuteTime": {
     "end_time": "2024-04-29T07:04:55.205957Z",
     "start_time": "2024-04-29T07:04:55.201489Z"
    }
   },
   "cell_type": "code",
   "source": [
    "t_stat_13, p_val_13 = mannwhitneyu(AMB_PA['FGE CDK-EPI'], SENSE_PA['FGE CDK-EPI'], alternative='two-sided')\n",
    "print(\"P-valor entre AMB_PA i AMB_PA_MECVV:\", p_val_13)"
   ],
   "id": "c64990f8c660b675",
   "outputs": [
    {
     "name": "stdout",
     "output_type": "stream",
     "text": [
      "P-valor entre AMB_PA i AMB_PA_MECVV: nan\n"
     ]
    }
   ],
   "execution_count": 848
  },
  {
   "metadata": {
    "ExecuteTime": {
     "end_time": "2024-04-29T07:04:55.475807Z",
     "start_time": "2024-04-29T07:04:55.471032Z"
    }
   },
   "cell_type": "code",
   "source": [
    "t_stat_23, p_val_23 = ttest_ind(AMB_PA_MECVV['FGE CDK-EPI'], SENSE_PA['FGE CDK-EPI'], equal_var=False)\n",
    "print(\"P-valor entre AMB_PA_MECVV i SENSE_PA:\", p_val_23)"
   ],
   "id": "cacb3815726e054",
   "outputs": [
    {
     "name": "stdout",
     "output_type": "stream",
     "text": [
      "P-valor entre AMB_PA_MECVV i SENSE_PA: nan\n"
     ]
    }
   ],
   "execution_count": 849
  },
  {
   "metadata": {},
   "cell_type": "markdown",
   "source": [
    "### Filtrat glomerular MDRD"
   ],
   "id": "5661efefb2d6fbd2"
  },
  {
   "metadata": {
    "ExecuteTime": {
     "end_time": "2024-04-29T07:04:55.892209Z",
     "start_time": "2024-04-29T07:04:55.884604Z"
    }
   },
   "cell_type": "code",
   "source": [
    "AMB_PA.loc[:, 'FGE MDRD'] = pd.to_numeric(AMB_PA['FGE MDRD'], errors='coerce')\n",
    "\n",
    "promedio_fgmd = AMB_PA['FGE MDRD'].mean()\n",
    "desviacion_estandar_fgmd = AMB_PA['FGE MDRD'].std()\n",
    "\n",
    "resultado = f\"{promedio_fgmd:.2f} ± {desviacion_estandar_fgmd:.2f}\"\n",
    "print(\"Mitjana ± Desviació Estàndard de la filtració glomerular MDRD:\", resultado)"
   ],
   "id": "2e37a6ab86652bfb",
   "outputs": [
    {
     "name": "stdout",
     "output_type": "stream",
     "text": [
      "Mitjana ± Desviació Estàndard de la filtració glomerular MDRD: 51.50 ± 0.71\n"
     ]
    }
   ],
   "execution_count": 850
  },
  {
   "metadata": {
    "ExecuteTime": {
     "end_time": "2024-04-29T07:04:56.301319Z",
     "start_time": "2024-04-29T07:04:56.295376Z"
    }
   },
   "cell_type": "code",
   "source": [
    "AMB_PA_MECVV.loc[:, 'FGE MDRD'] = pd.to_numeric(AMB_PA_MECVV['FGE MDRD'], errors='coerce')\n",
    "\n",
    "promedio_fgmd = AMB_PA_MECVV['FGE MDRD'].mean()\n",
    "desviacion_estandar_fgmd = AMB_PA_MECVV['FGE MDRD'].std()\n",
    "\n",
    "resultado = f\"{promedio_fgmd:.2f} ± {desviacion_estandar_fgmd:.2f}\"\n",
    "print(\"Mitjana ± Desviació Estàndard de la filtració glomerular MDRD:\", resultado)"
   ],
   "id": "3739fed61774b2d4",
   "outputs": [
    {
     "name": "stdout",
     "output_type": "stream",
     "text": [
      "Mitjana ± Desviació Estàndard de la filtració glomerular MDRD: nan ± nan\n"
     ]
    }
   ],
   "execution_count": 851
  },
  {
   "metadata": {
    "ExecuteTime": {
     "end_time": "2024-04-29T07:04:56.912097Z",
     "start_time": "2024-04-29T07:04:56.903294Z"
    }
   },
   "cell_type": "code",
   "source": [
    "SENSE_PA.loc[:, 'FGE MDRD'] = pd.to_numeric(SENSE_PA['FGE MDRD'], errors='coerce')\n",
    "\n",
    "promedio_fgmd = SENSE_PA['FGE MDRD'].mean()\n",
    "desviacion_estandar_fgmd = SENSE_PA['FGE MDRD'].std()\n",
    "\n",
    "resultado = f\"{promedio_fgmd:.2f} ± {desviacion_estandar_fgmd:.2f}\"\n",
    "print(\"Mitjana ± Desviació Estàndard de la filtració glomerular MDRD:\", resultado)"
   ],
   "id": "763541413be056c5",
   "outputs": [
    {
     "name": "stdout",
     "output_type": "stream",
     "text": [
      "Mitjana ± Desviació Estàndard de la filtració glomerular MDRD: 37.67 ± 17.43\n"
     ]
    }
   ],
   "execution_count": 852
  },
  {
   "metadata": {},
   "cell_type": "markdown",
   "source": [
    "#### Pvalor"
   ],
   "id": "65917b1a82a35e66"
  },
  {
   "metadata": {},
   "cell_type": "markdown",
   "source": [
    "##### Normalitat"
   ],
   "id": "c5cecc47ecaebc3a"
  },
  {
   "metadata": {
    "ExecuteTime": {
     "end_time": "2024-04-29T07:04:57.614930Z",
     "start_time": "2024-04-29T07:04:57.348732Z"
    }
   },
   "cell_type": "code",
   "source": [
    "fgmd = AMB_PA['FGE MDRD'].dropna()\n",
    "stat, p_value = shapiro(fgmd)\n",
    "print(f\"Estadístic W = {stat:.4f}\")\n",
    "print(f\"Valor p = {p_value:.8f}\")\n",
    "\n",
    "alpha = 0.05\n",
    "if p_value < alpha:\n",
    "    print(\"El nombre de files no segueix una distribució normal.\")\n",
    "else:\n",
    "    print(\"El nombre de files segueix una distribució normal.\")\n"
   ],
   "id": "45b2bfc023427f2e",
   "outputs": [
    {
     "ename": "ValueError",
     "evalue": "Data must be at least length 3.",
     "output_type": "error",
     "traceback": [
      "\u001B[1;31m---------------------------------------------------------------------------\u001B[0m",
      "\u001B[1;31mValueError\u001B[0m                                Traceback (most recent call last)",
      "Cell \u001B[1;32mIn[853], line 2\u001B[0m\n\u001B[0;32m      1\u001B[0m fgmd \u001B[38;5;241m=\u001B[39m AMB_PA[\u001B[38;5;124m'\u001B[39m\u001B[38;5;124mFGE MDRD\u001B[39m\u001B[38;5;124m'\u001B[39m]\u001B[38;5;241m.\u001B[39mdropna()\n\u001B[1;32m----> 2\u001B[0m stat, p_value \u001B[38;5;241m=\u001B[39m \u001B[43mshapiro\u001B[49m\u001B[43m(\u001B[49m\u001B[43mfgmd\u001B[49m\u001B[43m)\u001B[49m\n\u001B[0;32m      3\u001B[0m \u001B[38;5;28mprint\u001B[39m(\u001B[38;5;124mf\u001B[39m\u001B[38;5;124m\"\u001B[39m\u001B[38;5;124mEstadístic W = \u001B[39m\u001B[38;5;132;01m{\u001B[39;00mstat\u001B[38;5;132;01m:\u001B[39;00m\u001B[38;5;124m.4f\u001B[39m\u001B[38;5;132;01m}\u001B[39;00m\u001B[38;5;124m\"\u001B[39m)\n\u001B[0;32m      4\u001B[0m \u001B[38;5;28mprint\u001B[39m(\u001B[38;5;124mf\u001B[39m\u001B[38;5;124m\"\u001B[39m\u001B[38;5;124mValor p = \u001B[39m\u001B[38;5;132;01m{\u001B[39;00mp_value\u001B[38;5;132;01m:\u001B[39;00m\u001B[38;5;124m.8f\u001B[39m\u001B[38;5;132;01m}\u001B[39;00m\u001B[38;5;124m\"\u001B[39m)\n",
      "File \u001B[1;32m~\\GitHub\\PRACTICUM\\venv\\Lib\\site-packages\\scipy\\stats\\_axis_nan_policy.py:531\u001B[0m, in \u001B[0;36m_axis_nan_policy_factory.<locals>.axis_nan_policy_decorator.<locals>.axis_nan_policy_wrapper\u001B[1;34m(***failed resolving arguments***)\u001B[0m\n\u001B[0;32m    529\u001B[0m \u001B[38;5;28;01mif\u001B[39;00m sentinel:\n\u001B[0;32m    530\u001B[0m     samples \u001B[38;5;241m=\u001B[39m _remove_sentinel(samples, paired, sentinel)\n\u001B[1;32m--> 531\u001B[0m res \u001B[38;5;241m=\u001B[39m \u001B[43mhypotest_fun_out\u001B[49m\u001B[43m(\u001B[49m\u001B[38;5;241;43m*\u001B[39;49m\u001B[43msamples\u001B[49m\u001B[43m,\u001B[49m\u001B[43m \u001B[49m\u001B[38;5;241;43m*\u001B[39;49m\u001B[38;5;241;43m*\u001B[39;49m\u001B[43mkwds\u001B[49m\u001B[43m)\u001B[49m\n\u001B[0;32m    532\u001B[0m res \u001B[38;5;241m=\u001B[39m result_to_tuple(res)\n\u001B[0;32m    533\u001B[0m res \u001B[38;5;241m=\u001B[39m _add_reduced_axes(res, reduced_axes, keepdims)\n",
      "File \u001B[1;32m~\\GitHub\\PRACTICUM\\venv\\Lib\\site-packages\\scipy\\stats\\_morestats.py:1994\u001B[0m, in \u001B[0;36mshapiro\u001B[1;34m(x)\u001B[0m\n\u001B[0;32m   1992\u001B[0m N \u001B[38;5;241m=\u001B[39m \u001B[38;5;28mlen\u001B[39m(x)\n\u001B[0;32m   1993\u001B[0m \u001B[38;5;28;01mif\u001B[39;00m N \u001B[38;5;241m<\u001B[39m \u001B[38;5;241m3\u001B[39m:\n\u001B[1;32m-> 1994\u001B[0m     \u001B[38;5;28;01mraise\u001B[39;00m \u001B[38;5;167;01mValueError\u001B[39;00m(\u001B[38;5;124m\"\u001B[39m\u001B[38;5;124mData must be at least length 3.\u001B[39m\u001B[38;5;124m\"\u001B[39m)\n\u001B[0;32m   1996\u001B[0m a \u001B[38;5;241m=\u001B[39m zeros(N\u001B[38;5;241m/\u001B[39m\u001B[38;5;241m/\u001B[39m\u001B[38;5;241m2\u001B[39m, dtype\u001B[38;5;241m=\u001B[39mnp\u001B[38;5;241m.\u001B[39mfloat64)\n\u001B[0;32m   1997\u001B[0m init \u001B[38;5;241m=\u001B[39m \u001B[38;5;241m0\u001B[39m\n",
      "\u001B[1;31mValueError\u001B[0m: Data must be at least length 3."
     ]
    }
   ],
   "execution_count": 853
  },
  {
   "metadata": {
    "ExecuteTime": {
     "end_time": "2024-04-29T07:04:57.928822Z",
     "start_time": "2024-04-29T07:04:57.872625Z"
    }
   },
   "cell_type": "code",
   "source": [
    "stat, p_value = shapiro(AMB_PA_MECVV['FGE MDRD'].dropna())\n",
    "print(f\"Estadístic W = {stat:.4f}\")\n",
    "print(f\"Valor p = {p_value:.8f}\")\n",
    "\n",
    "alpha = 0.05\n",
    "if p_value < alpha:\n",
    "    print(\"El nombre de files no segueix una distribució normal.\")\n",
    "else:\n",
    "    print(\"El nombre de files segueix una distribució normal.\")"
   ],
   "id": "237280d7d80c21d3",
   "outputs": [
    {
     "ename": "ValueError",
     "evalue": "Data must be at least length 3.",
     "output_type": "error",
     "traceback": [
      "\u001B[1;31m---------------------------------------------------------------------------\u001B[0m",
      "\u001B[1;31mValueError\u001B[0m                                Traceback (most recent call last)",
      "Cell \u001B[1;32mIn[854], line 1\u001B[0m\n\u001B[1;32m----> 1\u001B[0m stat, p_value \u001B[38;5;241m=\u001B[39m \u001B[43mshapiro\u001B[49m\u001B[43m(\u001B[49m\u001B[43mAMB_PA_MECVV\u001B[49m\u001B[43m[\u001B[49m\u001B[38;5;124;43m'\u001B[39;49m\u001B[38;5;124;43mFGE MDRD\u001B[39;49m\u001B[38;5;124;43m'\u001B[39;49m\u001B[43m]\u001B[49m\u001B[38;5;241;43m.\u001B[39;49m\u001B[43mdropna\u001B[49m\u001B[43m(\u001B[49m\u001B[43m)\u001B[49m\u001B[43m)\u001B[49m\n\u001B[0;32m      2\u001B[0m \u001B[38;5;28mprint\u001B[39m(\u001B[38;5;124mf\u001B[39m\u001B[38;5;124m\"\u001B[39m\u001B[38;5;124mEstadístic W = \u001B[39m\u001B[38;5;132;01m{\u001B[39;00mstat\u001B[38;5;132;01m:\u001B[39;00m\u001B[38;5;124m.4f\u001B[39m\u001B[38;5;132;01m}\u001B[39;00m\u001B[38;5;124m\"\u001B[39m)\n\u001B[0;32m      3\u001B[0m \u001B[38;5;28mprint\u001B[39m(\u001B[38;5;124mf\u001B[39m\u001B[38;5;124m\"\u001B[39m\u001B[38;5;124mValor p = \u001B[39m\u001B[38;5;132;01m{\u001B[39;00mp_value\u001B[38;5;132;01m:\u001B[39;00m\u001B[38;5;124m.8f\u001B[39m\u001B[38;5;132;01m}\u001B[39;00m\u001B[38;5;124m\"\u001B[39m)\n",
      "File \u001B[1;32m~\\GitHub\\PRACTICUM\\venv\\Lib\\site-packages\\scipy\\stats\\_axis_nan_policy.py:531\u001B[0m, in \u001B[0;36m_axis_nan_policy_factory.<locals>.axis_nan_policy_decorator.<locals>.axis_nan_policy_wrapper\u001B[1;34m(***failed resolving arguments***)\u001B[0m\n\u001B[0;32m    529\u001B[0m \u001B[38;5;28;01mif\u001B[39;00m sentinel:\n\u001B[0;32m    530\u001B[0m     samples \u001B[38;5;241m=\u001B[39m _remove_sentinel(samples, paired, sentinel)\n\u001B[1;32m--> 531\u001B[0m res \u001B[38;5;241m=\u001B[39m \u001B[43mhypotest_fun_out\u001B[49m\u001B[43m(\u001B[49m\u001B[38;5;241;43m*\u001B[39;49m\u001B[43msamples\u001B[49m\u001B[43m,\u001B[49m\u001B[43m \u001B[49m\u001B[38;5;241;43m*\u001B[39;49m\u001B[38;5;241;43m*\u001B[39;49m\u001B[43mkwds\u001B[49m\u001B[43m)\u001B[49m\n\u001B[0;32m    532\u001B[0m res \u001B[38;5;241m=\u001B[39m result_to_tuple(res)\n\u001B[0;32m    533\u001B[0m res \u001B[38;5;241m=\u001B[39m _add_reduced_axes(res, reduced_axes, keepdims)\n",
      "File \u001B[1;32m~\\GitHub\\PRACTICUM\\venv\\Lib\\site-packages\\scipy\\stats\\_morestats.py:1994\u001B[0m, in \u001B[0;36mshapiro\u001B[1;34m(x)\u001B[0m\n\u001B[0;32m   1992\u001B[0m N \u001B[38;5;241m=\u001B[39m \u001B[38;5;28mlen\u001B[39m(x)\n\u001B[0;32m   1993\u001B[0m \u001B[38;5;28;01mif\u001B[39;00m N \u001B[38;5;241m<\u001B[39m \u001B[38;5;241m3\u001B[39m:\n\u001B[1;32m-> 1994\u001B[0m     \u001B[38;5;28;01mraise\u001B[39;00m \u001B[38;5;167;01mValueError\u001B[39;00m(\u001B[38;5;124m\"\u001B[39m\u001B[38;5;124mData must be at least length 3.\u001B[39m\u001B[38;5;124m\"\u001B[39m)\n\u001B[0;32m   1996\u001B[0m a \u001B[38;5;241m=\u001B[39m zeros(N\u001B[38;5;241m/\u001B[39m\u001B[38;5;241m/\u001B[39m\u001B[38;5;241m2\u001B[39m, dtype\u001B[38;5;241m=\u001B[39mnp\u001B[38;5;241m.\u001B[39mfloat64)\n\u001B[0;32m   1997\u001B[0m init \u001B[38;5;241m=\u001B[39m \u001B[38;5;241m0\u001B[39m\n",
      "\u001B[1;31mValueError\u001B[0m: Data must be at least length 3."
     ]
    }
   ],
   "execution_count": 854
  },
  {
   "metadata": {
    "ExecuteTime": {
     "end_time": "2024-04-29T07:04:58.129347Z",
     "start_time": "2024-04-29T07:04:58.124227Z"
    }
   },
   "cell_type": "code",
   "source": [
    "stat, p_value = shapiro(SENSE_PA['FGE MDRD'].dropna())\n",
    "print(f\"Estadístic W = {stat:.4f}\")\n",
    "print(f\"Valor p = {p_value:.8f}\")\n",
    "\n",
    "alpha = 0.05\n",
    "if p_value < alpha:\n",
    "    print(\"El nombre de files no segueix una distribució normal.\")\n",
    "else:\n",
    "    print(\"El nombre de files segueix una distribució normal.\")"
   ],
   "id": "f9619537536716a9",
   "outputs": [
    {
     "name": "stdout",
     "output_type": "stream",
     "text": [
      "Estadístic W = 0.8324\n",
      "Valor p = 0.11252528\n",
      "El nombre de files segueix una distribució normal.\n"
     ]
    }
   ],
   "execution_count": 855
  },
  {
   "metadata": {
    "ExecuteTime": {
     "end_time": "2024-04-29T07:04:58.673481Z",
     "start_time": "2024-04-29T07:04:58.669326Z"
    }
   },
   "cell_type": "code",
   "source": [
    "t_stat_12, p_val_12 = ttest_ind(AMB_PA['FGE MDRD'], AMB_PA_MECVV['FGE MDRD'], equal_var=False)\n",
    "print(\"P-valor entre AMB_PA i AMB_PA_MECVV:\", p_val_12)"
   ],
   "id": "3350d5aa6006a470",
   "outputs": [
    {
     "name": "stdout",
     "output_type": "stream",
     "text": [
      "P-valor entre AMB_PA i AMB_PA_MECVV: nan\n"
     ]
    }
   ],
   "execution_count": 856
  },
  {
   "metadata": {
    "ExecuteTime": {
     "end_time": "2024-04-29T07:04:59.189318Z",
     "start_time": "2024-04-29T07:04:59.184107Z"
    }
   },
   "cell_type": "code",
   "source": [
    "t_stat_13, p_val_13 = ttest_ind(AMB_PA['FGE MDRD'], SENSE_PA['FGE MDRD'], equal_var=False)\n",
    "print(\"P-valor entre AMB_PA i AMB_PA_MECVV:\", p_val_13)"
   ],
   "id": "b31a6f77e88fd26f",
   "outputs": [
    {
     "name": "stdout",
     "output_type": "stream",
     "text": [
      "P-valor entre AMB_PA i AMB_PA_MECVV: nan\n"
     ]
    }
   ],
   "execution_count": 857
  },
  {
   "metadata": {
    "ExecuteTime": {
     "end_time": "2024-04-29T07:04:59.406963Z",
     "start_time": "2024-04-29T07:04:59.402253Z"
    }
   },
   "cell_type": "code",
   "source": [
    "t_stat_23, p_val_23 = ttest_ind(AMB_PA_MECVV['FGE MDRD'], SENSE_PA['FGE MDRD'], equal_var=False)\n",
    "print(\"P-valor entre AMB_PA_MECVV i AMB_PA_MECVV:\", p_val_23)"
   ],
   "id": "36d4f6dfccd6cd98",
   "outputs": [
    {
     "name": "stdout",
     "output_type": "stream",
     "text": [
      "P-valor entre AMB_PA_MECVV i AMB_PA_MECVV: nan\n"
     ]
    }
   ],
   "execution_count": 858
  }
 ],
 "metadata": {
  "kernelspec": {
   "display_name": "Python 3",
   "language": "python",
   "name": "python3"
  },
  "language_info": {
   "codemirror_mode": {
    "name": "ipython",
    "version": 2
   },
   "file_extension": ".py",
   "mimetype": "text/x-python",
   "name": "python",
   "nbconvert_exporter": "python",
   "pygments_lexer": "ipython2",
   "version": "2.7.6"
  }
 },
 "nbformat": 4,
 "nbformat_minor": 5
}
