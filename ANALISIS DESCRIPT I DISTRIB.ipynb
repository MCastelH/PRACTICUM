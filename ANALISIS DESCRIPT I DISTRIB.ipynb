{
 "cells": [
  {
   "cell_type": "markdown",
   "source": [
    " # Listas de los codigos "
   ],
   "metadata": {
    "collapsed": false
   },
   "id": "68940808ceb9153f"
  },
  {
   "cell_type": "markdown",
   "source": [
    "# Paquetes y datos originales"
   ],
   "metadata": {
    "collapsed": false
   },
   "id": "56adfe3014ecabc7"
  },
  {
   "cell_type": "code",
   "outputs": [],
   "source": [
    "import json\n",
    "import pandas as pd\n",
    "from datetime import datetime\n",
    "from listas import disfagia_list, PA_list, P_list\n",
    "\n",
    "tablas = pd.read_pickle('./data/processed/dataframe.pkl')"
   ],
   "metadata": {
    "collapsed": false,
    "ExecuteTime": {
     "end_time": "2024-04-09T10:07:07.213802200Z",
     "start_time": "2024-04-09T10:07:06.742822100Z"
    }
   },
   "id": "34dba1a0fd28236e",
   "execution_count": 1
  },
  {
   "cell_type": "code",
   "outputs": [
    {
     "data": {
      "text/plain": "   edat sexe  visitaDietista  \\\n0    89    F               0   \n1    70    M               0   \n2    96    M               0   \n3    85    M               0   \n4    93    M               0   \n\n                                                labs  \\\n0                                                 []   \n1  [{'date': '20220524', 'name': 'PCR SARS-CoV2 S...   \n2                                                 []   \n3                                                 []   \n4  [{'date': '20220208', 'name': 'UREA Sèrum', 'l...   \n\n                                                 mna  \\\n0                                                 []   \n1                                                 []   \n2                                                 []   \n3                                                 []   \n4  [{'imc': '0', 'anorexia': '1', 'perduaPes': '1...   \n\n                                               emina canadenca  \\\n0  [{'activitat': '2', 'estatMental': '1', 'humit...        []   \n1  [{'activitat': '0', 'estatMental': '0', 'humit...        []   \n2  [{'activitat': '3', 'estatMental': '0', 'humit...        []   \n3  [{'activitat': '2', 'estatMental': '1', 'humit...        []   \n4  [{'activitat': '2', 'estatMental': '1', 'humit...        []   \n\n                                                 pes  \\\n0                                                 []   \n1  [{'valor': '64.7', 'data': '2022-10-04'}, {'va...   \n2                                                 []   \n3                                                 []   \n4  [{'valor': '49.900', 'data': '2022-06-02'}, {'...   \n\n                                                atcs  \\\n0  [{'codi': 'M01AE', 'dataInici': '2020-06-21 00...   \n1  [{'codi': 'C09AA', 'dataInici': '2021-05-26 00...   \n2  [{'codi': 'G04CA', 'dataInici': '2020-07-09 00...   \n3  [{'codi': 'G04CA', 'dataInici': '2020-07-15 00...   \n4  [{'codi': 'N02AA', 'dataInici': '2022-02-01 00...   \n\n                                              mecvvs  ...  \\\n0                                                 []  ...   \n1  [{'data': '20220930', 'pacientNoColabora': '',...  ...   \n2                                                 []  ...   \n3  [{'data': '20201204131810', 'disfagia': 'S', '...  ...   \n4  [{'data': '20220330172303', 'disfagiaConeguda'...  ...   \n\n  EMINA_sumatorios_comparados emina_resultats  mna_resultats  promedio_pes  \\\n0                        10.0            10.0           None           NaN   \n1                         1.0             1.0           None     58.308333   \n2                         6.0             6.0           None           NaN   \n3                         8.0             8.0           None           NaN   \n4                         7.0             7.0            4.0     49.900000   \n\n   Canadenca_sumatorios_comparados  Disfagia_mecvvs alteracioEficacia_mecvvs  \\\n0                              NaN              NaN                      NaN   \n1                              NaN              0.0                      1.0   \n2                              NaN              NaN                      NaN   \n3                              NaN              1.0                      1.0   \n4                              NaN              1.0                      NaN   \n\n   alteracioSeguretat_mecvvs  viscositat_mecvvs volumn_mecvvs  \n0                        NaN               None          None  \n1                        0.0             Líquid           Alt  \n2                        NaN               None          None  \n3                        1.0             NECTAR           ALT  \n4                        NaN               None          None  \n\n[5 rows x 28 columns]",
      "text/html": "<div>\n<style scoped>\n    .dataframe tbody tr th:only-of-type {\n        vertical-align: middle;\n    }\n\n    .dataframe tbody tr th {\n        vertical-align: top;\n    }\n\n    .dataframe thead th {\n        text-align: right;\n    }\n</style>\n<table border=\"1\" class=\"dataframe\">\n  <thead>\n    <tr style=\"text-align: right;\">\n      <th></th>\n      <th>edat</th>\n      <th>sexe</th>\n      <th>visitaDietista</th>\n      <th>labs</th>\n      <th>mna</th>\n      <th>emina</th>\n      <th>canadenca</th>\n      <th>pes</th>\n      <th>atcs</th>\n      <th>mecvvs</th>\n      <th>...</th>\n      <th>EMINA_sumatorios_comparados</th>\n      <th>emina_resultats</th>\n      <th>mna_resultats</th>\n      <th>promedio_pes</th>\n      <th>Canadenca_sumatorios_comparados</th>\n      <th>Disfagia_mecvvs</th>\n      <th>alteracioEficacia_mecvvs</th>\n      <th>alteracioSeguretat_mecvvs</th>\n      <th>viscositat_mecvvs</th>\n      <th>volumn_mecvvs</th>\n    </tr>\n  </thead>\n  <tbody>\n    <tr>\n      <th>0</th>\n      <td>89</td>\n      <td>F</td>\n      <td>0</td>\n      <td>[]</td>\n      <td>[]</td>\n      <td>[{'activitat': '2', 'estatMental': '1', 'humit...</td>\n      <td>[]</td>\n      <td>[]</td>\n      <td>[{'codi': 'M01AE', 'dataInici': '2020-06-21 00...</td>\n      <td>[]</td>\n      <td>...</td>\n      <td>10.0</td>\n      <td>10.0</td>\n      <td>None</td>\n      <td>NaN</td>\n      <td>NaN</td>\n      <td>NaN</td>\n      <td>NaN</td>\n      <td>NaN</td>\n      <td>None</td>\n      <td>None</td>\n    </tr>\n    <tr>\n      <th>1</th>\n      <td>70</td>\n      <td>M</td>\n      <td>0</td>\n      <td>[{'date': '20220524', 'name': 'PCR SARS-CoV2 S...</td>\n      <td>[]</td>\n      <td>[{'activitat': '0', 'estatMental': '0', 'humit...</td>\n      <td>[]</td>\n      <td>[{'valor': '64.7', 'data': '2022-10-04'}, {'va...</td>\n      <td>[{'codi': 'C09AA', 'dataInici': '2021-05-26 00...</td>\n      <td>[{'data': '20220930', 'pacientNoColabora': '',...</td>\n      <td>...</td>\n      <td>1.0</td>\n      <td>1.0</td>\n      <td>None</td>\n      <td>58.308333</td>\n      <td>NaN</td>\n      <td>0.0</td>\n      <td>1.0</td>\n      <td>0.0</td>\n      <td>Líquid</td>\n      <td>Alt</td>\n    </tr>\n    <tr>\n      <th>2</th>\n      <td>96</td>\n      <td>M</td>\n      <td>0</td>\n      <td>[]</td>\n      <td>[]</td>\n      <td>[{'activitat': '3', 'estatMental': '0', 'humit...</td>\n      <td>[]</td>\n      <td>[]</td>\n      <td>[{'codi': 'G04CA', 'dataInici': '2020-07-09 00...</td>\n      <td>[]</td>\n      <td>...</td>\n      <td>6.0</td>\n      <td>6.0</td>\n      <td>None</td>\n      <td>NaN</td>\n      <td>NaN</td>\n      <td>NaN</td>\n      <td>NaN</td>\n      <td>NaN</td>\n      <td>None</td>\n      <td>None</td>\n    </tr>\n    <tr>\n      <th>3</th>\n      <td>85</td>\n      <td>M</td>\n      <td>0</td>\n      <td>[]</td>\n      <td>[]</td>\n      <td>[{'activitat': '2', 'estatMental': '1', 'humit...</td>\n      <td>[]</td>\n      <td>[]</td>\n      <td>[{'codi': 'G04CA', 'dataInici': '2020-07-15 00...</td>\n      <td>[{'data': '20201204131810', 'disfagia': 'S', '...</td>\n      <td>...</td>\n      <td>8.0</td>\n      <td>8.0</td>\n      <td>None</td>\n      <td>NaN</td>\n      <td>NaN</td>\n      <td>1.0</td>\n      <td>1.0</td>\n      <td>1.0</td>\n      <td>NECTAR</td>\n      <td>ALT</td>\n    </tr>\n    <tr>\n      <th>4</th>\n      <td>93</td>\n      <td>M</td>\n      <td>0</td>\n      <td>[{'date': '20220208', 'name': 'UREA Sèrum', 'l...</td>\n      <td>[{'imc': '0', 'anorexia': '1', 'perduaPes': '1...</td>\n      <td>[{'activitat': '2', 'estatMental': '1', 'humit...</td>\n      <td>[]</td>\n      <td>[{'valor': '49.900', 'data': '2022-06-02'}, {'...</td>\n      <td>[{'codi': 'N02AA', 'dataInici': '2022-02-01 00...</td>\n      <td>[{'data': '20220330172303', 'disfagiaConeguda'...</td>\n      <td>...</td>\n      <td>7.0</td>\n      <td>7.0</td>\n      <td>4.0</td>\n      <td>49.900000</td>\n      <td>NaN</td>\n      <td>1.0</td>\n      <td>NaN</td>\n      <td>NaN</td>\n      <td>None</td>\n      <td>None</td>\n    </tr>\n  </tbody>\n</table>\n<p>5 rows × 28 columns</p>\n</div>"
     },
     "execution_count": 2,
     "metadata": {},
     "output_type": "execute_result"
    }
   ],
   "source": [
    "tablas.head()"
   ],
   "metadata": {
    "collapsed": false,
    "ExecuteTime": {
     "end_time": "2024-04-09T10:08:04.124774Z",
     "start_time": "2024-04-09T10:08:03.855709400Z"
    }
   },
   "id": "aa2554a079d8240",
   "execution_count": 2
  },
  {
   "cell_type": "code",
   "outputs": [],
   "source": [],
   "metadata": {
    "collapsed": false
   },
   "id": "ff2d821d23e5dcbd"
  }
 ],
 "metadata": {
  "kernelspec": {
   "display_name": "Python 3",
   "language": "python",
   "name": "python3"
  },
  "language_info": {
   "codemirror_mode": {
    "name": "ipython",
    "version": 2
   },
   "file_extension": ".py",
   "mimetype": "text/x-python",
   "name": "python",
   "nbconvert_exporter": "python",
   "pygments_lexer": "ipython2",
   "version": "2.7.6"
  }
 },
 "nbformat": 4,
 "nbformat_minor": 5
}
