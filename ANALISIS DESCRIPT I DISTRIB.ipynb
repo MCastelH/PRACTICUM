{
 "cells": [
  {
   "cell_type": "markdown",
   "source": "## Paquets i dades originals ## ",
   "metadata": {
    "collapsed": false
   },
   "id": "56adfe3014ecabc7"
  },
  {
   "cell_type": "code",
   "source": [
    "import pandas as pd\n",
    "\n",
    "\n",
    "taula = pd.read_pickle('./data/processed/dataframe.pkl')\n",
    "from scipy.stats import ttest_ind\n",
    "from scipy.stats import shapiro\n",
    "from scipy.stats import mannwhitneyu\n",
    "from scipy.stats import chi2_contingency\n"
   ],
   "metadata": {
    "collapsed": false
   },
   "id": "34dba1a0fd28236e",
   "outputs": [],
   "execution_count": null
  },
  {
   "cell_type": "markdown",
   "source": "Prèviament, he tractat les dades creant noves columnes que classifiquen millor tota la informació disponible",
   "metadata": {
    "collapsed": false
   },
   "id": "5e397a948db661a4"
  },
  {
   "cell_type": "code",
   "source": "taula.head()",
   "metadata": {
    "collapsed": false
   },
   "id": "aa2554a079d8240",
   "outputs": [],
   "execution_count": null
  },
  {
   "cell_type": "markdown",
   "source": [
    "Distribuiré les dades en 3 grups (més un grup que conté la totalitat de dades):\n",
    "- **AMB_PA**: aquest grup està compost per pacients que contenen el codi ICD de pneumònia aspirativa al seu historial.\n",
    "- **AMB_PA_MECVV**: aquest grup conté els pacients que compleixen les següents característiques: \n",
    "    - Han donat positiu al MECVV (és a dir, que tenen disfàgia i una alteració en la seguretat o en l'eficàcia)\n",
    "    - Han sigut diagnosticats amb el codi ICD de pneumònia\n",
    "    - Han passat menys de 30 dies entre el diagnòstic amb l'ICD de pneumònia i el resultat positiu al MECVV\n",
    "- **SENSE_PA**: aquest grup està format per pacients que contenen el codi ICD de pneumònia o bé:\n",
    "    - Contenen el codi ICD de pneumònia\n",
    "    - Han donat positiu al MECVV \n",
    "    - Han passat més de 30 dies entre el diagnòstic amb l'ICD de pneumònia i  el resultat positiu del MECVV \n",
    "- **TOTAL**: aquest grup conté tots els pacients de l'estudi *#TODO: hacer descriptiva de este grupo*"
   ],
   "metadata": {
    "collapsed": false
   },
   "id": "e7c4d56da22c6caf"
  },
  {
   "cell_type": "markdown",
   "source": "# AMB_PA ",
   "metadata": {
    "collapsed": false
   },
   "id": "6fe0c4b4db3bd775"
  },
  {
   "cell_type": "code",
   "source": [
    "AMB_PA = taula[taula[\"PA diagnosticada\"] == 1.0]\n",
    "AMB_PA.head()"
   ],
   "metadata": {
    "collapsed": false
   },
   "id": "bf8054f82ba8cf2d",
   "outputs": [],
   "execution_count": null
  },
  {
   "cell_type": "markdown",
   "source": "# AMB_PA_MECVV",
   "metadata": {
    "collapsed": false
   },
   "id": "bbfe0def10a4bd5"
  },
  {
   "cell_type": "code",
   "source": [
    "AMB_PA_MECVV = taula[\n",
    "    (taula[\"Dies entre primer ICD pneumònia i primer MECVV positiu\"] < 30)] \n",
    "AMB_PA_MECVV.head()"
   ],
   "metadata": {
    "collapsed": false
   },
   "id": "ef57e551b552b859",
   "outputs": [],
   "execution_count": null
  },
  {
   "cell_type": "markdown",
   "source": "# SENSE_PA",
   "metadata": {
    "collapsed": false
   },
   "id": "a348d05c32ba63b8"
  },
  {
   "cell_type": "code",
   "source": [
    "SENSE_PA = taula[\n",
    "           (taula[\"Dies entre primer ICD pneumònia i primer MECVV positiu\"] > 30) & \n",
    "           (taula['P diagnosticada'] == 1.0)]\n",
    "SENSE_PA.head()"
   ],
   "metadata": {
    "collapsed": false
   },
   "id": "ebd6be70713adb40",
   "outputs": [],
   "execution_count": null
  },
  {
   "metadata": {},
   "cell_type": "markdown",
   "source": "# TOTAL",
   "id": "2d2889e9f3cc6eb"
  },
  {
   "metadata": {},
   "cell_type": "code",
   "source": [
    "TOTAL = taula\n",
    "taula.head() "
   ],
   "id": "ad26079a0b5504ab",
   "outputs": [],
   "execution_count": null
  },
  {
   "metadata": {},
   "cell_type": "markdown",
   "source": "## Nombre de pacients",
   "id": "de24374f27e143a3"
  },
  {
   "metadata": {},
   "cell_type": "code",
   "source": [
    "num_AMB_PA = len(AMB_PA)\n",
    "num_AMB_PA_MECVV= len(AMB_PA_MECVV)\n",
    "num_SENSE_PA = len(SENSE_PA)\n",
    "num_TOTAL = len(TOTAL)\n",
    "\n",
    "print(num_AMB_PA, num_AMB_PA_MECVV, num_SENSE_PA, num_TOTAL)"
   ],
   "id": "b1daff0f4c5e68b3",
   "outputs": [],
   "execution_count": null
  },
  {
   "metadata": {},
   "cell_type": "markdown",
   "source": "#### Comparació distributiva",
   "id": "d1353b7869144ecd"
  },
  {
   "metadata": {},
   "cell_type": "markdown",
   "source": "##### Normalitat i p-valor",
   "id": "683bdd2b91f5207c"
  },
  {
   "metadata": {},
   "cell_type": "markdown",
   "source": [
    "Ara que tinc totes les dades classificades en aquests grups, faré una descriptiva. També compararé els diferents grups amb el pvalor mitjançant T-test, test de Mann-Whitney o test Xi-quadrat per mirar la seva distribució, la qual esperaré que sigui similar entre el grup AMB_PA i AMB_PA_MECVV, i diferent entre SENSE_PA i els altres 2 grups. Els criteris que seguiré per utilitzar un test o un altre és, primer, fer un test de Shapiro-Wilk per comprovar si segueixen una distribució normal, si és així, usaré el T-test, si no, utilitzaré el de Mann-Whitney. Finalment, si la columna conté valors categòrics com és el cas del sexe (F/M), no fa falta mirar la normalitat i faré servir el test Xi-quadrat.\n",
    "Les meves hipòtesis són, pel test de Shapiro-Wilk:\n",
    "    - H0: les dades segueixen una distribució normal\n",
    "    - H1: les dades no segueixen una distribució normal\n",
    "I pels tests (T-test, Mann-Whitney i Xi-quadrat):\n",
    "    - H0: les dades dels dos grups no són significativament diferents\n",
    "    - H1: les dades dels dos grups són significativament diferents"
   ],
   "id": "a5216034f7509ff4"
  },
  {
   "metadata": {},
   "cell_type": "markdown",
   "source": "## Edat",
   "id": "6dffa2bdf3f2d9b7"
  },
  {
   "metadata": {},
   "cell_type": "code",
   "source": [
    "edat_AMB_PA = AMB_PA['edat'].mean()\n",
    "desviacio_estandard_edat = AMB_PA['edat'].std()\n",
    "\n",
    "resultat = f\"{edat_AMB_PA:.2f} ± {desviacio_estandard_edat:.2f}\"\n",
    "print(\"Mitjana ± Desviació Estàndard de l'edat:\", resultat)\n"
   ],
   "id": "41c75a84cd8aa55b",
   "outputs": [],
   "execution_count": null
  },
  {
   "metadata": {},
   "cell_type": "code",
   "source": [
    "edat_AMB_PA_MECVV = AMB_PA_MECVV['edat'].mean()\n",
    "desviacio_estandard_edat = AMB_PA_MECVV['edat'].std()\n",
    "\n",
    "resultat = f\"{edat_AMB_PA_MECVV:.2f} ± {desviacio_estandard_edat:.2f}\"\n",
    "print(\"Mitjana ± Desviació Estàndard de l'edat:\", resultat)"
   ],
   "id": "828a733cc06db987",
   "outputs": [],
   "execution_count": null
  },
  {
   "metadata": {},
   "cell_type": "code",
   "source": [
    "edat_SENSE_PA = SENSE_PA['edat'].mean()\n",
    "desviacio_estandard_edat = SENSE_PA['edat'].std()\n",
    "\n",
    "resultat = f\"{edat_SENSE_PA:.2f} ± {desviacio_estandard_edat:.2f}\"\n",
    "print(\"Mitjana ± Desviació Estàndard de l'edat:\", resultat)"
   ],
   "id": "a67a8021e9b1dbb4",
   "outputs": [],
   "execution_count": null
  },
  {
   "metadata": {},
   "cell_type": "code",
   "source": [
    "edat_TOTAL = TOTAL['edat'].mean()\n",
    "desviacio_estandard_TOTAL = TOTAL['edat'].std()\n",
    "\n",
    "resultat = f\"{edat_SENSE_PA:.2f} ± {desviacio_estandard_edat:.2f}\"\n",
    "print(\"Mitjana ± Desviació Estàndard de l'edat:\", resultat)"
   ],
   "id": "6d718df6a9807ab",
   "outputs": [],
   "execution_count": null
  },
  {
   "metadata": {},
   "cell_type": "markdown",
   "source": "#### Comparació distributiva",
   "id": "6ab4f09b5204e007"
  },
  {
   "metadata": {},
   "cell_type": "markdown",
   "source": "##### Normalitat i p-valor",
   "id": "a5114a4e26281ffb"
  },
  {
   "metadata": {},
   "cell_type": "code",
   "source": [
    "stat, p_value = shapiro(AMB_PA['edat'])\n",
    "print(f\"Estadístic W = {stat:.4f}\")\n",
    "print(f\"Valor p = {p_value:.4f}\")\n",
    "\n",
    "alpha = 0.05\n",
    "if p_value < alpha:\n",
    "    print(\"El nombre de files no segueix una distribució normal.\")\n",
    "else:\n",
    "    print(\"El nombre de files segueix una distribució normal.\")"
   ],
   "id": "1b23f9c1a11a4962",
   "outputs": [],
   "execution_count": null
  },
  {
   "metadata": {},
   "cell_type": "code",
   "source": [
    "stat, p_value = shapiro(AMB_PA_MECVV['edat'])\n",
    "print(f\"Estadístic W = {stat:.4f}\")\n",
    "print(f\"Valor p = {p_value:.4f}\")\n",
    "\n",
    "alpha = 0.05\n",
    "if p_value < alpha:\n",
    "    print(\"El nombre de files no segueix una distribució normal.\")\n",
    "else:\n",
    "    print(\"El nombre de files segueix una distribució normal.\")"
   ],
   "id": "d80fee6a25604ebc",
   "outputs": [],
   "execution_count": null
  },
  {
   "metadata": {},
   "cell_type": "code",
   "source": [
    "t_stat_12, p_val_12 = ttest_ind(AMB_PA['edat'], AMB_PA_MECVV['edat'], equal_var=False)\n",
    "print(\"P-valor entre AMB_PA i AMB_PA_MECVV:\", p_val_12)"
   ],
   "id": "190ba286527771a4",
   "outputs": [],
   "execution_count": null
  },
  {
   "metadata": {},
   "cell_type": "code",
   "source": [
    "stat, p_value = shapiro(SENSE_PA['edat'])\n",
    "print(f\"Estadístic W = {stat:.4f}\")\n",
    "print(f\"Valor p = {p_value:.4f}\")\n",
    "\n",
    "alpha = 0.05\n",
    "if p_value < alpha:\n",
    "    print(\"El nombre de files no segueix una distribució normal.\")\n",
    "else:\n",
    "    print(\"El nombre de files segueix una distribució normal.\")"
   ],
   "id": "755deefb570bc3ec",
   "outputs": [],
   "execution_count": null
  },
  {
   "metadata": {},
   "cell_type": "code",
   "source": [
    "stat, p_value_13 = mannwhitneyu(AMB_PA['edat'], SENSE_PA['edat'], alternative='two-sided')\n",
    "print(\"P-valor entre AMB_PA i SENSE_PA\", p_value_13)"
   ],
   "id": "61b2678a07d2363c",
   "outputs": [],
   "execution_count": null
  },
  {
   "metadata": {},
   "cell_type": "code",
   "source": [
    "stat_23, p_value_23 = mannwhitneyu(AMB_PA_MECVV['edat'], SENSE_PA['edat'], alternative='two-sided')\n",
    "print(\"P-valor entre AMB_PA_MECVV i SENSE_PA:\", p_value_23)"
   ],
   "id": "eb3fa34e21ac2cf5",
   "outputs": [],
   "execution_count": null
  },
  {
   "metadata": {},
   "cell_type": "code",
   "source": [
    "stat, p_value = shapiro(TOTAL['edat'])\n",
    "print(f\"Estadístic W = {stat:.4f}\")\n",
    "print(f\"Valor p = {p_value:.4f}\")\n",
    "\n",
    "alpha = 0.05\n",
    "if p_value < alpha:\n",
    "    print(\"El nombre de files no segueix una distribució normal.\")\n",
    "else:\n",
    "    print(\"El nombre de files segueix una distribució normal.\")"
   ],
   "id": "cb6c9d88414ea68f",
   "outputs": [],
   "execution_count": null
  },
  {
   "metadata": {},
   "cell_type": "code",
   "source": [
    "stat, p_value_14 = mannwhitneyu(AMB_PA['edat'], TOTAL['edat'], alternative='two-sided')\n",
    "print(\"P-valor entre AMB_PA i TOTAL\", p_value_14)"
   ],
   "id": "b9175efc58a456d0",
   "outputs": [],
   "execution_count": null
  },
  {
   "metadata": {},
   "cell_type": "code",
   "source": [
    "stat, p_value_24 = mannwhitneyu(AMB_PA_MECVV['edat'], TOTAL['edat'], alternative='two-sided')\n",
    "print(\"P-valor entre AMB_PA_MECVV i TOTAL\", p_value_24)"
   ],
   "id": "a8eb3c0710fef4a9",
   "outputs": [],
   "execution_count": null
  },
  {
   "metadata": {},
   "cell_type": "code",
   "source": [
    "stat, p_value_34 = mannwhitneyu(SENSE_PA['edat'], TOTAL['edat'], alternative='two-sided')\n",
    "print(\"P-valor entre SENSE_PA i TOTAL\", p_value_34)"
   ],
   "id": "3d79cb3903e58a0",
   "outputs": [],
   "execution_count": null
  },
  {
   "metadata": {},
   "cell_type": "markdown",
   "source": "## Sexe",
   "id": "2e3346df121a556b"
  },
  {
   "metadata": {},
   "cell_type": "code",
   "source": [
    "sexe_AMB_PA = AMB_PA['sexe'].value_counts()\n",
    "sexe_AMB_PA_MECVV = AMB_PA_MECVV['sexe'].value_counts()\n",
    "sexe_SENSE_PA = SENSE_PA['sexe'].value_counts()\n",
    "sexe_TOTAL = TOTAL['sexe'].value_counts()"
   ],
   "id": "5a08f966e1e21272",
   "outputs": [],
   "execution_count": null
  },
  {
   "metadata": {},
   "cell_type": "code",
   "source": [
    "if 'F' in sexe_AMB_PA:\n",
    "    percent_female1 = (sexe_AMB_PA['F'] / len(AMB_PA)) * 100\n",
    "    print(f\"Percentatge de sexe femení en AMB_PA: {percent_female1:.2f}%\")\n",
    "else:\n",
    "    print(\"No hi ha dades de sexe femení en AMB_PA\")"
   ],
   "id": "364e8eeea9fca3bb",
   "outputs": [],
   "execution_count": null
  },
  {
   "metadata": {},
   "cell_type": "code",
   "source": [
    "if 'F' in sexe_AMB_PA_MECVV:\n",
    "    percent_female2 = (sexe_AMB_PA_MECVV['F'] / len(AMB_PA)) * 100\n",
    "    print(f\"Percentatge de sexe femení en AMB_PA_MECVV: {percent_female1:.2f}%\")\n",
    "else:\n",
    "    print(\"No hi ha dades de sexe femení en AMB_PA_MECVV\")"
   ],
   "id": "5d2a1124b7cdd9c2",
   "outputs": [],
   "execution_count": null
  },
  {
   "metadata": {},
   "cell_type": "code",
   "source": [
    "if 'F' in sexe_SENSE_PA:\n",
    "    percent_female3 = (sexe_SENSE_PA['F'] / len(SENSE_PA)) * 100\n",
    "    print(f\"Percentatge de sexe femení en SENSE_PA: {percent_female1:.2f}%\")\n",
    "else:\n",
    "    print(\"No hi ha dades de sexe femení en SENSE_PA\")\n"
   ],
   "id": "746275e55a2b6409",
   "outputs": [],
   "execution_count": null
  },
  {
   "metadata": {},
   "cell_type": "code",
   "source": [
    "if 'F' in sexe_TOTAL:\n",
    "    percent_female3 = (sexe_TOTAL['F'] / len(TOTAL)) * 100\n",
    "    print(f\"Percentatge de sexe femení en TOTAL: {percent_female1:.2f}%\")\n",
    "else:\n",
    "    print(\"No hi ha dades de sexe femení en TOTAL\")"
   ],
   "id": "343a7ecf37db366c",
   "outputs": [],
   "execution_count": null
  },
  {
   "metadata": {},
   "cell_type": "markdown",
   "source": "#### Comparació distributiva",
   "id": "cc6603074e3e5cc9"
  },
  {
   "metadata": {},
   "cell_type": "markdown",
   "source": "##### Normalitat i p-valor ",
   "id": "45744dc757ae29f5"
  },
  {
   "metadata": {},
   "cell_type": "code",
   "source": [
    "contingency_table_12 = pd.crosstab(index=AMB_PA['sexe'], columns=AMB_PA_MECVV['sexe'])\n",
    "\n",
    "chi2_12, p_value_12, dof_12, expected_12 = chi2_contingency(contingency_table_12)\n",
    "\n",
    "print(\"Estadístic xi-quadrat entre AMB_PA i AMB_PA_MECVV:\", chi2_12)\n",
    "print(\"P-valor entre AMB_PA i AMB_PA_MECVV:\", p_value_12)\n",
    "\n",
    "if p_value_12 < 0.05:\n",
    "    print(\"Hi ha diferències significatives entre les distribucions de sexe en AMB_PA i AMB_PA_MECVV.\")\n",
    "else:\n",
    "    print(\"No hi ha diferències significatives entre les distribucions de sexe en AMB_PA i AMB_PA_MECVV.\")"
   ],
   "id": "8ce2d9606227b27c",
   "outputs": [],
   "execution_count": null
  },
  {
   "metadata": {},
   "cell_type": "code",
   "source": [
    "contingency_table_13 = pd.crosstab(index=AMB_PA['sexe'], columns=SENSE_PA['sexe'])\n",
    "\n",
    "chi2_13, p_value_13, dof_13, expected_13 = chi2_contingency(contingency_table_13)\n",
    "\n",
    "print(\"Estadístic xi-quadrat entre AMB_PA i SENSE_PA:\", chi2_13)\n",
    "print(\"P-valor entre AMB_PA i SENSE_PA:\", p_value_13)\n",
    "\n",
    "if p_value_13 < 0.05:\n",
    "    print(\"Hi ha diferències significatives entre les distribucions de sexe en AMB_PA i SENSE_PA.\")\n",
    "else:\n",
    "    print(\"No hi ha diferències significatives entre les distribucions de sexe en AMB_PA i SENSE_PA.\")"
   ],
   "id": "cb24c00816f2874c",
   "outputs": [],
   "execution_count": null
  },
  {
   "metadata": {},
   "cell_type": "code",
   "source": [
    "contingency_table_23 = pd.crosstab(index=AMB_PA_MECVV['sexe'], columns=SENSE_PA['sexe'])\n",
    "\n",
    "chi2_23, p_value_23, dof_23, expected_23 = chi2_contingency(contingency_table_23)\n",
    "\n",
    "print(\"Estadístic xi-quadrat entre AMB_PA_MECVV i SENSE_PA:\", chi2_23)\n",
    "print(\"P-valor entre AMB_PA_MECVV i SENSE_PA:\", p_value_23)\n",
    "\n",
    "if p_value_23 < 0.05:\n",
    "    print(\"Hi ha diferències significatives entre les distribucions de sexe en AMB_PA_MECVV i SENSE_PA.\")\n",
    "else:\n",
    "    print(\"No hi ha diferències significatives entre les distribucions de sexe en AMB_PA_MECVV i SENSE_PA.\")"
   ],
   "id": "483a364f11ec7b2a",
   "outputs": [],
   "execution_count": null
  },
  {
   "metadata": {},
   "cell_type": "code",
   "source": [
    "contingency_table_14 = pd.crosstab(index=AMB_PA['sexe'], columns=TOTAL['sexe'])\n",
    "\n",
    "chi2_14, p_value_14, dof_14, expected_14 = chi2_contingency(contingency_table_14)\n",
    "\n",
    "print(\"Estadístic xi-quadrat entre AMB_PA i TOTAL:\", chi2_14)\n",
    "print(\"P-valor entre AMB_PA i TOTAL:\", p_value_14)\n",
    "\n",
    "if p_value_14 < 0.05:\n",
    "    print(\"Hi ha diferències significatives entre les distribucions de sexe en AMB_PA i TOTAL.\")\n",
    "else:\n",
    "    print(\"No hi ha diferències significatives entre les distribucions de sexe en AMB_PA i TOTAL.\")"
   ],
   "id": "c01732bb47d41187",
   "outputs": [],
   "execution_count": null
  },
  {
   "metadata": {},
   "cell_type": "code",
   "source": [
    "contingency_table_24 = pd.crosstab(index=AMB_PA_MECVV['sexe'], columns=TOTAL['sexe'])\n",
    "\n",
    "chi2_24, p_value_24, dof_24, expected_24 = chi2_contingency(contingency_table_24)\n",
    "\n",
    "print(\"Estadístic xi-quadrat entre AMB_PA_MECVV i TOTAL:\", chi2_24)\n",
    "print(\"P-valor entre AMB_PA_MECVV i TOTAL:\", p_value_24)\n",
    "\n",
    "if p_value_24 < 0.05:\n",
    "    print(\"Hi ha diferències significatives entre les distribucions de sexe en AMB_PA_MECVV i TOTAL.\")\n",
    "else:\n",
    "    print(\"No hi ha diferències significatives entre les distribucions de sexe en AMB_PA_MECVV i TOTAL.\")"
   ],
   "id": "b2a98d853b63b322",
   "outputs": [],
   "execution_count": null
  },
  {
   "metadata": {},
   "cell_type": "code",
   "source": [
    "contingency_table_34 = pd.crosstab(index=SENSE_PA['sexe'], columns=TOTAL['sexe'])\n",
    "\n",
    "chi2_34, p_value_34, dof_34, expected_34 = chi2_contingency(contingency_table_34)\n",
    "\n",
    "print(\"Estadístic xi-quadrat entre SENSE_PA i TOTAL:\", chi2_34)\n",
    "print(\"P-valor entre SENSE_PA i TOTAL:\", p_value_34)\n",
    "\n",
    "if p_value_34 < 0.05:\n",
    "    print(\"Hi ha diferències significatives entre les distribucions de sexe en SENSE_PA i TOTAL.\")\n",
    "else:\n",
    "    print(\"No hi ha diferències significatives entre les distribucions de sexe en SENSE_PA i TOTAL.\")"
   ],
   "id": "102e8aaf97401d15",
   "outputs": [],
   "execution_count": null
  },
  {
   "metadata": {},
   "cell_type": "markdown",
   "source": "## Ingressos (admissions)",
   "id": "7c1a4264ca854c74"
  },
  {
   "metadata": {},
   "cell_type": "code",
   "source": [
    "Mitjana_ingresos = AMB_PA['Nombre ingressos'].mean()\n",
    "desviacio_estandard_ingresos = AMB_PA['Nombre ingressos'].std()\n",
    "\n",
    "resultat = f\"{Mitjana_ingresos:.2f} ± {desviacio_estandard_ingresos:.2f}\"\n",
    "print(\"Mitjana ± Desviació Estàndard del nombre d'ingressos:\", resultat)"
   ],
   "id": "77af35e4e03f23da",
   "outputs": [],
   "execution_count": null
  },
  {
   "metadata": {},
   "cell_type": "code",
   "source": [
    "Mitjana_ingresos = AMB_PA_MECVV['Nombre ingressos'].mean()\n",
    "desviacio_estandard_ingresos = AMB_PA_MECVV['Nombre ingressos'].std()\n",
    "\n",
    "resultat = f\"{Mitjana_ingresos:.2f} ± {desviacio_estandard_ingresos:.2f}\"\n",
    "print(\"Mitjana ± Desviació Estàndard del nombre d'ingressos:\", resultat)"
   ],
   "id": "d08d059cd8a8944a",
   "outputs": [],
   "execution_count": null
  },
  {
   "metadata": {},
   "cell_type": "code",
   "source": [
    "Mitjana_ingresos = SENSE_PA['Nombre ingressos'].mean()\n",
    "desviacio_estandard_ingresos = SENSE_PA['Nombre ingressos'].std()\n",
    "\n",
    "resultat = f\"{Mitjana_ingresos:.2f} ± {desviacio_estandard_ingresos:.2f}\"\n",
    "print(\"Mitjana ± Desviació Estàndard del nombre d'ingressos:\", resultat)"
   ],
   "id": "b0470d00ca90048b",
   "outputs": [],
   "execution_count": null
  },
  {
   "metadata": {},
   "cell_type": "code",
   "source": [
    "Mitjana_ingresos = TOTAL['Nombre ingressos'].mean()\n",
    "desviacio_estandard_ingresos = TOTAL['Nombre ingressos'].std()\n",
    "\n",
    "resultat = f\"{Mitjana_ingresos:.2f} ± {desviacio_estandard_ingresos:.2f}\"\n",
    "print(\"Mitjana ± Desviació Estàndard del nombre d'ingressos:\", resultat)"
   ],
   "id": "8f87c0f9f8b76f68",
   "outputs": [],
   "execution_count": null
  },
  {
   "metadata": {},
   "cell_type": "markdown",
   "source": "#### Comparació distributiva",
   "id": "ac26e96d348c2e2"
  },
  {
   "metadata": {},
   "cell_type": "markdown",
   "source": "##### Normalitat i p-valor",
   "id": "840db79f54c49b40"
  },
  {
   "metadata": {},
   "cell_type": "code",
   "source": [
    "stat, p_value = shapiro(AMB_PA['Nombre ingressos'])\n",
    "print(f\"Estadístic W = {stat:.4f}\")\n",
    "print(f\"Valor p = {p_value:.4f}\")\n",
    "\n",
    "alpha = 0.05\n",
    "if p_value < alpha:\n",
    "    print(\"El nombre de files no segueix una distribució normal.\")\n",
    "else:\n",
    "    print(\"El nombre de files segueix una distribució normal.\")"
   ],
   "id": "549e8f1ce3e357e6",
   "outputs": [],
   "execution_count": null
  },
  {
   "metadata": {},
   "cell_type": "code",
   "source": [
    "stat, p_value = shapiro(AMB_PA_MECVV['Nombre ingressos'])\n",
    "print(f\"Estadístic W = {stat:.4f}\")\n",
    "print(f\"Valor p = {p_value:.4f}\")\n",
    "\n",
    "alpha = 0.05\n",
    "if p_value < alpha:\n",
    "    print(\"El nombre de files no segueix una distribució normal.\")\n",
    "else:\n",
    "    print(\"El nombre de files segueix una distribució normal.\")"
   ],
   "id": "cf0ae5ced6e0b73a",
   "outputs": [],
   "execution_count": null
  },
  {
   "metadata": {},
   "cell_type": "code",
   "source": [
    "stat, p_value_12 = mannwhitneyu(AMB_PA['Nombre ingressos'], AMB_PA_MECVV['Nombre ingressos'], alternative='two-sided')\n",
    "print(\"P-valor entre AMB_PA i AMB_PA_MECVV\", p_value_12)"
   ],
   "id": "b19c1a66249ddd7b",
   "outputs": [],
   "execution_count": null
  },
  {
   "metadata": {},
   "cell_type": "code",
   "source": [
    "stat, p_value = shapiro(SENSE_PA['Nombre ingressos'])\n",
    "print(f\"Estadístic W = {stat:.4f}\")\n",
    "print(f\"Valor p = {p_value:.4f}\")\n",
    "\n",
    "alpha = 0.05\n",
    "if p_value < alpha:\n",
    "    print(\"El nombre de files no segueix una distribució normal.\")\n",
    "else:\n",
    "    print(\"El nombre de files segueix una distribució normal.\")"
   ],
   "id": "f1d9d97215665bd8",
   "outputs": [],
   "execution_count": null
  },
  {
   "metadata": {},
   "cell_type": "code",
   "source": [
    "stat, p_value_13 = mannwhitneyu(AMB_PA['Nombre ingressos'], SENSE_PA['Nombre ingressos'], alternative='two-sided')\n",
    "print(\"P-valor entre AMB_PA i SENSE_PA\", p_value_13)"
   ],
   "id": "984c924aadcb68bb",
   "outputs": [],
   "execution_count": null
  },
  {
   "metadata": {},
   "cell_type": "code",
   "source": [
    "stat, p_value_23 = mannwhitneyu(AMB_PA_MECVV['Nombre ingressos'], SENSE_PA['Nombre ingressos'], alternative='two-sided')\n",
    "print(\"P-valor entre AMB_PA_MECVV i SENSE_PA\", p_value_23)"
   ],
   "id": "3315bb2f7e82e5c8",
   "outputs": [],
   "execution_count": null
  },
  {
   "metadata": {},
   "cell_type": "code",
   "source": [
    "stat, p_value = shapiro(TOTAL['Nombre ingressos'])\n",
    "print(f\"Estadístic W = {stat:.4f}\")\n",
    "print(f\"Valor p = {p_value:.4f}\")\n",
    "\n",
    "alpha = 0.05\n",
    "if p_value < alpha:\n",
    "    print(\"El nombre de files no segueix una distribució normal.\")\n",
    "else:\n",
    "    print(\"El nombre de files segueix una distribució normal.\")"
   ],
   "id": "fb36f657532bc85b",
   "outputs": [],
   "execution_count": null
  },
  {
   "metadata": {},
   "cell_type": "code",
   "source": [
    "stat, p_value = shapiro(TOTAL['Nombre ingressos'])\n",
    "print(f\"Estadístic W = {stat:.4f}\")\n",
    "print(f\"Valor p = {p_value:.4f}\")\n",
    "\n",
    "alpha = 0.05\n",
    "if p_value < alpha:\n",
    "    print(\"El nombre de files no segueix una distribució normal.\")\n",
    "else:\n",
    "    print(\"El nombre de files segueix una distribució normal.\")"
   ],
   "id": "5e588464aa7a00a7",
   "outputs": [],
   "execution_count": null
  },
  {
   "metadata": {},
   "cell_type": "code",
   "source": [
    "stat, p_value_14 = mannwhitneyu(AMB_PA['Nombre ingressos'], TOTAL['Nombre ingressos'], alternative='two-sided')\n",
    "print(\"P-valor entre AMB_PA i TOTAL\", p_value_14)"
   ],
   "id": "9e1d30cb9f1ebfc",
   "outputs": [],
   "execution_count": null
  },
  {
   "metadata": {},
   "cell_type": "code",
   "source": [
    "stat, p_value_24 = mannwhitneyu(AMB_PA_MECVV['Nombre ingressos'], TOTAL['Nombre ingressos'], alternative='two-sided')\n",
    "print(\"P-valor entre AMB_PA_MECVV i TOTAL\", p_value_24)"
   ],
   "id": "a40272bb9428af23",
   "outputs": [],
   "execution_count": null
  },
  {
   "metadata": {},
   "cell_type": "code",
   "source": [
    "stat, p_value_34 = mannwhitneyu(SENSE_PA['Nombre ingressos'], TOTAL['Nombre ingressos'], alternative='two-sided')\n",
    "print(\"P-valor entre SENSE_PA i TOTAL\", p_value_34)"
   ],
   "id": "8352d5410a6c1aee",
   "outputs": [],
   "execution_count": null
  },
  {
   "metadata": {},
   "cell_type": "markdown",
   "source": "## Disfàgia",
   "id": "d46472f25d1ea9ab"
  },
  {
   "metadata": {},
   "cell_type": "code",
   "source": [
    "disf_AMB_PA= (AMB_PA['DO diagnosticada'] == 1.0).mean() * 100\n",
    "print(f\"Percentatge de disfàgia: {disf_AMB_PA:.2f}%\")"
   ],
   "id": "1158733fe7259d75",
   "outputs": [],
   "execution_count": null
  },
  {
   "metadata": {},
   "cell_type": "code",
   "source": [
    "disf_AMB_PA_MECVV = (AMB_PA_MECVV['DO diagnosticada'] == 1.0).mean() * 100\n",
    "print(f\"Percentatge de disfàgia: {disf_AMB_PA_MECVV:.2f}%\")"
   ],
   "id": "4105ce4e231d0853",
   "outputs": [],
   "execution_count": null
  },
  {
   "metadata": {},
   "cell_type": "code",
   "source": [
    "disf_SENSE_PA= (SENSE_PA['DO diagnosticada'] == 1.0).mean() * 100\n",
    "print(f\"Percentatge de disfàgia: {disf_SENSE_PA:.2f}%\")"
   ],
   "id": "66a1da5f6068ce03",
   "outputs": [],
   "execution_count": null
  },
  {
   "metadata": {},
   "cell_type": "code",
   "source": [
    "disf_TOTAL= (TOTAL['DO diagnosticada'] == 1.0).mean() * 100\n",
    "print(f\"Percentatge de disfàgia: {disf_TOTAL:.2f}%\")"
   ],
   "id": "1620604fbfe47669",
   "outputs": [],
   "execution_count": null
  },
  {
   "metadata": {},
   "cell_type": "markdown",
   "source": "#### Comparació distributiva",
   "id": "b7f1a5636f342b1b"
  },
  {
   "metadata": {},
   "cell_type": "markdown",
   "source": "##### Normalitat i p-valor",
   "id": "b9bb9679799a910b"
  },
  {
   "metadata": {},
   "cell_type": "code",
   "source": [
    "contingency_table_12 = pd.crosstab(index=AMB_PA['DO diagnosticada'], columns=AMB_PA_MECVV['DO diagnosticada'])\n",
    "\n",
    "chi2_12, p_value_12, dof_12, expected_12 = chi2_contingency(contingency_table_12)\n",
    "\n",
    "print(\"Estadístic xi-quadrat entre AMB_PA i AMB_PA_MECVV:\", chi2_12)\n",
    "print(\"P-valor entre AMB_PA i AMB_PA_MECVV:\", p_value_12)\n",
    "\n",
    "if p_value_12 < 0.05:\n",
    "    print(\"Hi ha diferències significatives entre les distribucions de DO en AMB_PA i AMB_PA_MECVV.\")\n",
    "else:\n",
    "    print(\"No hi ha diferències significatives entre les distribucions de DO en AMB_PA i AMB_PA_MECVV.\")"
   ],
   "id": "b7250148750bd0ec",
   "outputs": [],
   "execution_count": null
  },
  {
   "metadata": {},
   "cell_type": "code",
   "source": [
    "contingency_table_13 = pd.crosstab(index=AMB_PA['DO diagnosticada'], columns=SENSE_PA['DO diagnosticada'])\n",
    "\n",
    "chi2_13, p_value_13, dof_13, expected_13 = chi2_contingency(contingency_table_13)\n",
    "\n",
    "print(\"Estadístic xi-quadrat entre AMB_PA i SENSE_PA:\", chi2_13)\n",
    "print(\"P-valor entre AMB_PA i SENSE_PA:\", p_value_13)\n",
    "\n",
    "if p_value_13 < 0.05:\n",
    "    print(\"Hi ha diferències significatives entre les distribucions de DO en AMB_PA i SENSE_PA.\")\n",
    "else:\n",
    "    print(\"No hi ha diferències significatives entre les distribucions de DO en AMB_PA i SENSE_PA.\")"
   ],
   "id": "18de486110d234f4",
   "outputs": [],
   "execution_count": null
  },
  {
   "metadata": {},
   "cell_type": "code",
   "source": [
    "contingency_table_23 = pd.crosstab(index=AMB_PA_MECVV['DO diagnosticada'], columns=SENSE_PA['DO diagnosticada'])\n",
    "\n",
    "chi2_23, p_value_23, dof_23, expected_23 = chi2_contingency(contingency_table_23)\n",
    "\n",
    "print(\"Estadístic xi-quadrat entre AMB_PA_MECVVV i SENSE_PA:\", chi2_23)\n",
    "print(\"P-valor entre AMB_PA_MECVV i SENSE_PA:\", p_value_23)\n",
    "\n",
    "if p_value_23 < 0.05:\n",
    "    print(\"Hi ha diferències significatives entre les distribucions de DO en AMB_PA_MECVV i SENSE_PA.\")\n",
    "else:\n",
    "    print(\"No hi ha diferències significatives entre les distribucions de DO en AMB_PA_MECVV i SENSE_PA.\")"
   ],
   "id": "508340d7a6fb917d",
   "outputs": [],
   "execution_count": null
  },
  {
   "metadata": {},
   "cell_type": "code",
   "source": [
    "contingency_table_14 = pd.crosstab(index=AMB_PA['DO diagnosticada'], columns=TOTAL['DO diagnosticada'])\n",
    "\n",
    "chi2_14, p_value_14, dof_14, expected_14 = chi2_contingency(contingency_table_14)\n",
    "\n",
    "print(\"Estadístic xi-quadrat entre AMB_PA i TOTAL:\", chi2_14)\n",
    "print(\"P-valor entre AMB_PA i TOTAL:\", p_value_14)\n",
    "\n",
    "if p_value_14 < 0.05:\n",
    "    print(\"Hi ha diferències significatives entre les distribucions de DO en AMB_PA i TOTAL.\")\n",
    "else:\n",
    "    print(\"No hi ha diferències significatives entre les distribucions de DO en AMB_PA i TOTAL.\")"
   ],
   "id": "a0ce4b46c4c32f03",
   "outputs": [],
   "execution_count": null
  },
  {
   "metadata": {},
   "cell_type": "code",
   "source": [
    "contingency_table_24 = pd.crosstab(index=AMB_PA_MECVV['DO diagnosticada'], columns=TOTAL['DO diagnosticada'])\n",
    "\n",
    "chi2_24, p_value_24, dof_24, expected_24 = chi2_contingency(contingency_table_24)\n",
    "\n",
    "print(\"Estadístic xi-quadrat entre AMB_PA_MECVV i TOTAL:\", chi2_24)\n",
    "print(\"P-valor entre AMB_PA_MECVV i TOTAL:\", p_value_24)\n",
    "\n",
    "if p_value_24 < 0.05:\n",
    "    print(\"Hi ha diferències significatives entre les distribucions de DO en AMB_PA_MECVV i TOTAL.\")\n",
    "else:\n",
    "    print(\"No hi ha diferències significatives entre les distribucions de DO en AMB_PA_MECVV i TOTAL.\")"
   ],
   "id": "3f93cd921596da0e",
   "outputs": [],
   "execution_count": null
  },
  {
   "metadata": {},
   "cell_type": "code",
   "source": [
    "contingency_table_34 = pd.crosstab(index=SENSE_PA['DO diagnosticada'], columns=TOTAL['DO diagnosticada'])\n",
    "\n",
    "chi2_34, p_value_SENSE_34, dof_34, expected_34 = chi2_contingency(contingency_table_34)\n",
    "\n",
    "print(\"Estadístic xi-quadrat entre SENSE_PA i TOTAL:\", chi2_34)\n",
    "print(\"P-valor entre SENSE_PA i TOTAL:\", p_value_34)\n",
    "\n",
    "if p_value_34 < 0.05:\n",
    "    print(\"Hi ha diferències significatives entre les distribucions de DO en SENSE_PA i TOTAL.\")\n",
    "else:\n",
    "    print(\"No hi ha diferències significatives entre les distribucions de DO en SENSE_PA i TOTAL.\")"
   ],
   "id": "520725ca28398814",
   "outputs": [],
   "execution_count": null
  },
  {
   "metadata": {},
   "cell_type": "markdown",
   "source": "## Index de Barthel",
   "id": "dc8734cc141432b0"
  },
  {
   "metadata": {},
   "cell_type": "markdown",
   "source": "### Mitjana",
   "id": "bfed47df31e7bb8"
  },
  {
   "metadata": {},
   "cell_type": "code",
   "source": [
    "Mitjana_barthel = AMB_PA['Barthel resultats'].mean()\n",
    "desviacio_estandard_barthel = AMB_PA['Barthel resultats'].std()\n",
    "\n",
    "resultat = f\"{Mitjana_barthel:.2f} ± {desviacio_estandard_barthel:.2f}\"\n",
    "print(\"Mitjana ± Desviació Estàndard del Barthel:\", resultat)"
   ],
   "id": "8638758d3ff1fd2b",
   "outputs": [],
   "execution_count": null
  },
  {
   "metadata": {},
   "cell_type": "code",
   "source": [
    "Mitjana_barthel = AMB_PA_MECVV['Barthel resultats'].mean()\n",
    "desviacio_estandard_barthel = AMB_PA_MECVV['Barthel resultats'].std()\n",
    "\n",
    "resultat = f\"{Mitjana_barthel:.2f} ± {desviacio_estandard_barthel:.2f}\"\n",
    "print(\"Mitjana ± Desviació Estàndard del Barthel:\", resultat)"
   ],
   "id": "fa78d7ab6c24f658",
   "outputs": [],
   "execution_count": null
  },
  {
   "metadata": {},
   "cell_type": "code",
   "source": [
    "Mitjana_barthel = SENSE_PA['Barthel resultats'].mean()\n",
    "desviacio_estandard_barthel = SENSE_PA['Barthel resultats'].std()\n",
    "\n",
    "resultat = f\"{Mitjana_barthel:.2f} ± {desviacio_estandard_barthel:.2f}\"\n",
    "print(\"Mitjana ± Desviació Estàndard del Barthel:\", resultat)"
   ],
   "id": "47d02b3ef2886135",
   "outputs": [],
   "execution_count": null
  },
  {
   "metadata": {},
   "cell_type": "markdown",
   "source": "#### Comparació distributiva",
   "id": "1ac5ed3b04b339da"
  },
  {
   "metadata": {},
   "cell_type": "markdown",
   "source": "##### Normalitat i p-valor",
   "id": "a65d29ed7addb2c2"
  },
  {
   "metadata": {},
   "cell_type": "code",
   "source": [
    "stat, p_value = shapiro(AMB_PA['Barthel resultats'])\n",
    "print(f\"Estadístic W = {stat:.4f}\")\n",
    "print(f\"Valor p = {p_value:.4f}\")\n",
    "\n",
    "alpha = 0.05\n",
    "if p_value < alpha:\n",
    "    print(\"El nombre de files no segueix una distribució normal.\")\n",
    "else:\n",
    "    print(\"El nombre de files segueix una distribució normal.\")"
   ],
   "id": "dd1f4211e230b65e",
   "outputs": [],
   "execution_count": null
  },
  {
   "metadata": {},
   "cell_type": "code",
   "source": [
    "stat, p_value = shapiro(AMB_PA_MECVV['Barthel resultats'])\n",
    "print(f\"Estadístic W = {stat:.4f}\")\n",
    "print(f\"Valor p = {p_value:.4f}\")\n",
    "\n",
    "alpha = 0.05\n",
    "if p_value < alpha:\n",
    "    print(\"El nombre de files no segueix una distribució normal.\")\n",
    "else:\n",
    "    print(\"El nombre de files segueix una distribució normal.\")"
   ],
   "id": "5b55e8e8f36f2812",
   "outputs": [],
   "execution_count": null
  },
  {
   "metadata": {},
   "cell_type": "code",
   "source": [
    "stat_12, p_value_12 = mannwhitneyu(AMB_PA['Barthel resultats'], AMB_PA_MECVV['Barthel resultats'], alternative='two-sided')\n",
    "print(\"P-valor entre AMB_PA i AMB_PA_MECVV:\", p_value_12)"
   ],
   "id": "618ff790e971366d",
   "outputs": [],
   "execution_count": null
  },
  {
   "metadata": {},
   "cell_type": "code",
   "source": [
    "stat, p_value = shapiro(SENSE_PA['Barthel resultats'])\n",
    "print(f\"Estadístic W = {stat:.4f}\")\n",
    "print(f\"Valor p = {p_value:.4f}\")\n",
    "\n",
    "alpha = 0.05\n",
    "if p_value < alpha:\n",
    "    print(\"El nombre de files no segueix una distribució normal.\")\n",
    "else:\n",
    "    print(\"El nombre de files segueix una distribució normal.\")"
   ],
   "id": "e0ef6492ee374145",
   "outputs": [],
   "execution_count": null
  },
  {
   "metadata": {},
   "cell_type": "code",
   "source": [
    "stat_13, p_value_13 = mannwhitneyu(AMB_PA['Barthel resultats'], SENSE_PA['Barthel resultats'], alternative='two-sided')\n",
    "print(\"P-valor entre AMB_PA i SENSE_PA:\", p_value_13)"
   ],
   "id": "aebd7fd1aced2dd2",
   "outputs": [],
   "execution_count": null
  },
  {
   "metadata": {},
   "cell_type": "code",
   "source": [
    "stat_23, p_value_23 = mannwhitneyu(AMB_PA_MECVV['Barthel resultats'], SENSE_PA['Barthel resultats'], alternative='two-sided')\n",
    "print(\"P-valor entre AMB_PA_MECVV i SENSE_PA:\", p_value_13)"
   ],
   "id": "fef9e5e5efe11e71",
   "outputs": [],
   "execution_count": null
  },
  {
   "metadata": {},
   "cell_type": "code",
   "source": [
    "stat, p_value = shapiro(TOTAL['Barthel resultats'])\n",
    "print(f\"Estadístic W = {stat:.4f}\")\n",
    "print(f\"Valor p = {p_value:.4f}\")\n",
    "\n",
    "alpha = 0.05\n",
    "if p_value < alpha:\n",
    "    print(\"El nombre de files no segueix una distribució normal.\")\n",
    "else:\n",
    "    print(\"El nombre de files segueix una distribució normal.\")"
   ],
   "id": "991c344fcf5440de",
   "outputs": [],
   "execution_count": null
  },
  {
   "metadata": {},
   "cell_type": "code",
   "source": [
    "stat_14, p_value_14 = mannwhitneyu(AMB_PA['Barthel resultats'], TOTAL['Barthel resultats'], alternative='two-sided')\n",
    "print(\"P-valor entre AMB_PA i TOTAL:\", p_value_14)"
   ],
   "id": "b63526b313d7bd0e",
   "outputs": [],
   "execution_count": null
  },
  {
   "metadata": {},
   "cell_type": "code",
   "source": [
    "stat_24, p_value_24 = mannwhitneyu(AMB_PA_MECVV['Barthel resultats'], TOTAL['Barthel resultats'], alternative='two-sided')\n",
    "print(\"P-valor entre AMB_PA_MECVV i TOTAL:\", p_value_24)"
   ],
   "id": "71b5069044b33d84",
   "outputs": [],
   "execution_count": null
  },
  {
   "metadata": {},
   "cell_type": "code",
   "source": [
    "stat_34, p_value_34 = mannwhitneyu(SENSE_PA['Barthel resultats'], TOTAL['Barthel resultats'], alternative='two-sided')\n",
    "print(\"P-valor entre SENSE_PA i TOTAL:\", p_value_34)"
   ],
   "id": "2bf01ccd6abef766",
   "outputs": [],
   "execution_count": null
  },
  {
   "metadata": {},
   "cell_type": "markdown",
   "source": "### Valors de dependència",
   "id": "26c7b917da1f3f22"
  },
  {
   "metadata": {},
   "cell_type": "markdown",
   "source": "##### AMB_PA",
   "id": "c5f7ee6744b89d84"
  },
  {
   "metadata": {},
   "cell_type": "code",
   "source": [
    "indepe_AMB_PA = (AMB_PA['Barthel resultats'] == 100.0).mean() * 100\n",
    "print(f\"Percentatge de indepe_AMB_PA: {indepe_AMB_PA:.2f}%\")"
   ],
   "id": "bd4eaba9b577b15b",
   "outputs": [],
   "execution_count": null
  },
  {
   "metadata": {},
   "cell_type": "code",
   "source": [
    "mod_AMB_PA = (AMB_PA['Barthel resultats'].between(61, 95)).mean() * 100\n",
    "print(f\"Percentatge de mod_AMB_PA: {mod_AMB_PA:.2f}%\")"
   ],
   "id": "4fb1d19906f59b5a",
   "outputs": [],
   "execution_count": null
  },
  {
   "metadata": {},
   "cell_type": "code",
   "source": [
    "sev_AMB_PA = (AMB_PA['Barthel resultats'].between(21, 60)).mean() * 100\n",
    "print(f\"Percentatge de sev_AMB_PA: {sev_AMB_PA:.2f}%\")"
   ],
   "id": "d9304c0cc424b57",
   "outputs": [],
   "execution_count": null
  },
  {
   "metadata": {},
   "cell_type": "code",
   "source": [
    "total_AMB_PA = (AMB_PA['Barthel resultats'] <= 20.0 ).mean() * 100\n",
    "print(f\"Percentatge de total_AMB_PA: {total_AMB_PA:.2f}%\")"
   ],
   "id": "6910486fc7c29e8c",
   "outputs": [],
   "execution_count": null
  },
  {
   "metadata": {},
   "cell_type": "markdown",
   "source": "##### AMB_PA_MECVV",
   "id": "c71049641e1172f4"
  },
  {
   "metadata": {},
   "cell_type": "code",
   "source": [
    "indepe_AMB_PA_MECVV = (AMB_PA_MECVV['Barthel resultats'] == 100.0).mean() * 100\n",
    "print(f\"Percentatge de indepe_AMB_PA_MECVV: {indepe_AMB_PA_MECVV:.2f}%\")"
   ],
   "id": "6674786f0109e84b",
   "outputs": [],
   "execution_count": null
  },
  {
   "metadata": {},
   "cell_type": "code",
   "source": [
    "mod_AMB_PA_MECVV = (AMB_PA_MECVV['Barthel resultats'].between(61,95)).mean() * 100\n",
    "print(f\"Percentatge de mod_AMB_PA_MECVV: {mod_AMB_PA_MECVV:.2f}%\")"
   ],
   "id": "cc081239fd51856",
   "outputs": [],
   "execution_count": null
  },
  {
   "metadata": {},
   "cell_type": "code",
   "source": [
    "sev_AMB_PA_MECVV = (AMB_PA_MECVV['Barthel resultats'].between(21,60)).mean() * 100\n",
    "print(f\"Percentatge de sev_AMB_PA_MECVV: {sev_AMB_PA_MECVV:.2f}%\")"
   ],
   "id": "a9e4a48bad4a68ee",
   "outputs": [],
   "execution_count": null
  },
  {
   "metadata": {},
   "cell_type": "code",
   "source": [
    "total_AMB_PA_MECVV = (AMB_PA_MECVV['Barthel resultats'] <= 20.0).mean() * 100\n",
    "print(f\"Percentatge de total_AMB_PA_MECVV: {total_AMB_PA_MECVV:.2f}%\")"
   ],
   "id": "9125c459a4b83c25",
   "outputs": [],
   "execution_count": null
  },
  {
   "metadata": {},
   "cell_type": "markdown",
   "source": "##### SENSE_PA",
   "id": "3c5b6af1cef898a8"
  },
  {
   "metadata": {},
   "cell_type": "code",
   "source": [
    "indepe_SENSE_PA = (SENSE_PA['Barthel resultats'] == 100.0).mean() * 100\n",
    "print(f\"Percentatge de indepe_SENSE_PA: {indepe_SENSE_PA:.2f}%\")"
   ],
   "id": "d6514f8eb77e3656",
   "outputs": [],
   "execution_count": null
  },
  {
   "metadata": {},
   "cell_type": "code",
   "source": [
    "mod_SENSE_PA = (SENSE_PA['Barthel resultats'].between(61,95)).mean() * 100\n",
    "print(f\"Percentatge de mod_SENSE_PA: {mod_SENSE_PA:.2f}%\")"
   ],
   "id": "6c3c3065602238a3",
   "outputs": [],
   "execution_count": null
  },
  {
   "metadata": {},
   "cell_type": "code",
   "source": [
    "sev_SENSE_PA = (SENSE_PA['Barthel resultats'].between(21,60)).mean() * 100\n",
    "print(f\"Percentatge de sev_SENSE_PA: {sev_SENSE_PA:.2f}%\")"
   ],
   "id": "9607e237feb8ad65",
   "outputs": [],
   "execution_count": null
  },
  {
   "metadata": {},
   "cell_type": "code",
   "source": [
    "total_SENSE_PA = (SENSE_PA['Barthel resultats'] <= 20).mean() * 100\n",
    "print(f\"Percentatge de total_SENSE_PA: {total_SENSE_PA:.2f}%\")"
   ],
   "id": "be742afa35213a6f",
   "outputs": [],
   "execution_count": null
  },
  {
   "metadata": {},
   "cell_type": "markdown",
   "source": "#### Comparació distributiva",
   "id": "5d7114bf6d7143b9"
  },
  {
   "metadata": {},
   "cell_type": "code",
   "source": "##### Independència #TODO: hacer pval subcategorias con chi cuadrado??",
   "id": "b345df4cf3f4225c",
   "outputs": [],
   "execution_count": null
  },
  {
   "metadata": {
    "ExecuteTime": {
     "end_time": "2024-05-08T08:52:40.696011Z",
     "start_time": "2024-05-08T08:52:40.686710Z"
    }
   },
   "cell_type": "code",
   "source": [
    "stat_12, p_val_12 = mannwhitneyu(AMB_PA['Barthel resultats'] == 100.0, AMB_PA_MECVV['Barthel resultats'] == 100.0, alternative='two-sided')\n",
    "print(\"P-valor entre indepe_AMB_PA i indee_AMB_PA_MECVV:\", p_value_12)"
   ],
   "id": "1fc9a4202863cab2",
   "outputs": [
    {
     "name": "stdout",
     "output_type": "stream",
     "text": [
      "P-valor entre indepe_AMB_PA i indee_AMB_PA_MECVV: 1.0\n"
     ]
    }
   ],
   "execution_count": 1000
  },
  {
   "metadata": {
    "ExecuteTime": {
     "end_time": "2024-05-08T08:52:35.988440Z",
     "start_time": "2024-05-08T08:52:35.981686Z"
    }
   },
   "cell_type": "code",
   "source": [
    "stat_13, p_val_13 = mannwhitneyu(AMB_PA['Barthel resultats'] == 100.0, SENSE_PA['Barthel resultats'] == 100.0, alternative='two-sided')\n",
    "print(\"P-valor entre indepe_AMB_PA i indepe_SENSE_PA:\", p_value_13)"
   ],
   "id": "53f70691fc93885b",
   "outputs": [
    {
     "name": "stdout",
     "output_type": "stream",
     "text": [
      "P-valor entre indepe_AMB_PA i indepe_SENSE_PA: 1.0\n"
     ]
    }
   ],
   "execution_count": 999
  },
  {
   "metadata": {
    "ExecuteTime": {
     "end_time": "2024-05-08T08:51:24.747730Z",
     "start_time": "2024-05-08T08:51:24.707059Z"
    }
   },
   "cell_type": "code",
   "source": [
    "contingency_table_23 = pd.crosstab(index=AMB_PA_MECVV['Barthel resultats'] == 100.0, columns=SENSE_PA['Barthel resultats'] == 100.0)\n",
    "\n",
    "chi2_23, p_value_23, dof_23, expected_23 = chi2_contingency(contingency_table_23)\n",
    "\n",
    "print(\"Estadístic xi-quadrat entre AMB_PA_MECVVV i SENSE_PA:\", chi2_23)\n",
    "print(\"P-valor entre AMB_PA_MECVV i SENSE_PA:\", p_value_23)\n",
    "\n",
    "if p_value_23 < 0.05:\n",
    "    print(\"Hi ha diferències significatives entre les distribucions de DO en AMB_PA_MECVV i SENSE_PA.\")\n",
    "else:\n",
    "    print(\"No hi ha diferències significatives entre les distribucions de DO en AMB_PA_MECVV i SENSE_PA.\")"
   ],
   "id": "b11519140ece0c96",
   "outputs": [
    {
     "ename": "ValueError",
     "evalue": "No data; `observed` has size 0.",
     "output_type": "error",
     "traceback": [
      "\u001B[1;31m---------------------------------------------------------------------------\u001B[0m",
      "\u001B[1;31mValueError\u001B[0m                                Traceback (most recent call last)",
      "Cell \u001B[1;32mIn[997], line 3\u001B[0m\n\u001B[0;32m      1\u001B[0m contingency_table_23 \u001B[38;5;241m=\u001B[39m pd\u001B[38;5;241m.\u001B[39mcrosstab(index\u001B[38;5;241m=\u001B[39mAMB_PA_MECVV[\u001B[38;5;124m'\u001B[39m\u001B[38;5;124mBarthel resultats\u001B[39m\u001B[38;5;124m'\u001B[39m] \u001B[38;5;241m==\u001B[39m \u001B[38;5;241m100.0\u001B[39m, columns\u001B[38;5;241m=\u001B[39mSENSE_PA[\u001B[38;5;124m'\u001B[39m\u001B[38;5;124mBarthel resultats\u001B[39m\u001B[38;5;124m'\u001B[39m] \u001B[38;5;241m==\u001B[39m \u001B[38;5;241m100.0\u001B[39m)\n\u001B[1;32m----> 3\u001B[0m chi2_23, p_value_23, dof_23, expected_23 \u001B[38;5;241m=\u001B[39m \u001B[43mchi2_contingency\u001B[49m\u001B[43m(\u001B[49m\u001B[43mcontingency_table_23\u001B[49m\u001B[43m)\u001B[49m\n\u001B[0;32m      5\u001B[0m \u001B[38;5;28mprint\u001B[39m(\u001B[38;5;124m\"\u001B[39m\u001B[38;5;124mEstadístic xi-quadrat entre AMB_PA_MECVVV i SENSE_PA:\u001B[39m\u001B[38;5;124m\"\u001B[39m, chi2_23)\n\u001B[0;32m      6\u001B[0m \u001B[38;5;28mprint\u001B[39m(\u001B[38;5;124m\"\u001B[39m\u001B[38;5;124mP-valor entre AMB_PA_MECVV i SENSE_PA:\u001B[39m\u001B[38;5;124m\"\u001B[39m, p_value_23)\n",
      "File \u001B[1;32m~\\PycharmProjects\\practicum\\.venv\\Lib\\site-packages\\scipy\\stats\\contingency.py:333\u001B[0m, in \u001B[0;36mchi2_contingency\u001B[1;34m(observed, correction, lambda_)\u001B[0m\n\u001B[0;32m    331\u001B[0m     \u001B[38;5;28;01mraise\u001B[39;00m \u001B[38;5;167;01mValueError\u001B[39;00m(\u001B[38;5;124m\"\u001B[39m\u001B[38;5;124mAll values in `observed` must be nonnegative.\u001B[39m\u001B[38;5;124m\"\u001B[39m)\n\u001B[0;32m    332\u001B[0m \u001B[38;5;28;01mif\u001B[39;00m observed\u001B[38;5;241m.\u001B[39msize \u001B[38;5;241m==\u001B[39m \u001B[38;5;241m0\u001B[39m:\n\u001B[1;32m--> 333\u001B[0m     \u001B[38;5;28;01mraise\u001B[39;00m \u001B[38;5;167;01mValueError\u001B[39;00m(\u001B[38;5;124m\"\u001B[39m\u001B[38;5;124mNo data; `observed` has size 0.\u001B[39m\u001B[38;5;124m\"\u001B[39m)\n\u001B[0;32m    335\u001B[0m expected \u001B[38;5;241m=\u001B[39m expected_freq(observed)\n\u001B[0;32m    336\u001B[0m \u001B[38;5;28;01mif\u001B[39;00m np\u001B[38;5;241m.\u001B[39many(expected \u001B[38;5;241m==\u001B[39m \u001B[38;5;241m0\u001B[39m):\n\u001B[0;32m    337\u001B[0m     \u001B[38;5;66;03m# Include one of the positions where expected is zero in\u001B[39;00m\n\u001B[0;32m    338\u001B[0m     \u001B[38;5;66;03m# the exception message.\u001B[39;00m\n",
      "\u001B[1;31mValueError\u001B[0m: No data; `observed` has size 0."
     ]
    }
   ],
   "execution_count": 997
  },
  {
   "metadata": {},
   "cell_type": "markdown",
   "source": "",
   "id": "6220d9a4f7367fb8"
  },
  {
   "metadata": {
    "ExecuteTime": {
     "end_time": "2024-05-08T08:52:57.281441Z",
     "start_time": "2024-05-08T08:52:57.265437Z"
    }
   },
   "cell_type": "code",
   "source": [
    "contingency_table_14 = pd.crosstab(index=AMB_PA['Barthel resultats'] == 100.0, columns=TOTAL['Barthel resultats'] == 100.0)\n",
    "\n",
    "chi2_14, p_value_14, dof_14, expected_14 = chi2_contingency(contingency_table_14)\n",
    "\n",
    "print(\"Estadístic xi-quadrat entre AMB_PA_MECVVV i SENSE_PA:\", chi2_14)\n",
    "print(\"P-valor entre AMB_PA_MECVV i SENSE_PA:\", p_value_14)\n",
    "\n",
    "if p_value_14 < 0.05:\n",
    "    print(\"Hi ha diferències significatives entre les distribucions de DO en AMB_PA_MECVV i SENSE_PA.\")\n",
    "else:\n",
    "    print(\"No hi ha diferències significatives entre les distribucions de DO en AMB_PA_MECVV i SENSE_PA.\")"
   ],
   "id": "80e5cb71c06ad1e6",
   "outputs": [
    {
     "name": "stdout",
     "output_type": "stream",
     "text": [
      "Estadístic xi-quadrat entre AMB_PA_MECVVV i SENSE_PA: 0.0\n",
      "P-valor entre AMB_PA_MECVV i SENSE_PA: 1.0\n",
      "No hi ha diferències significatives entre les distribucions de DO en AMB_PA_MECVV i SENSE_PA.\n"
     ]
    }
   ],
   "execution_count": 1001
  },
  {
   "metadata": {
    "ExecuteTime": {
     "end_time": "2024-05-08T08:53:41.174740Z",
     "start_time": "2024-05-08T08:53:41.167251Z"
    }
   },
   "cell_type": "code",
   "source": [
    "stat_14, p_value_14 = mannwhitneyu(AMB_PA['Barthel resultats'] == 100.0, TOTAL['Barthel resultats'] == 100.0, alternative='two-sided')\n",
    "print(\"P-valor entre indepe_AMB_PA i indepe_TOTAL:\", p_value_14)"
   ],
   "id": "c0f1c9f3b7187ed4",
   "outputs": [
    {
     "name": "stdout",
     "output_type": "stream",
     "text": [
      "P-valor entre indepe_AMB_PA i indepe_TOTAL: 0.04855526544534558\n"
     ]
    }
   ],
   "execution_count": 1003
  },
  {
   "metadata": {
    "ExecuteTime": {
     "end_time": "2024-05-08T08:51:59.446814Z",
     "start_time": "2024-05-08T08:51:59.439050Z"
    }
   },
   "cell_type": "code",
   "source": [
    "stat_24, p_value_24 = mannwhitneyu(AMB_PA_MECVV['Barthel resultats'] == 100.0, TOTAL['Barthel resultats'] == 100.0, alternative='two-sided')\n",
    "print(\"P-valor entre indepe_AMB_PA_MECVV i indepe_TOTAL:\", p_value_24)"
   ],
   "id": "6e49751c68fffad2",
   "outputs": [
    {
     "name": "stdout",
     "output_type": "stream",
     "text": [
      "P-valor entre indepe_AMB_PA_MECVV i indepe_TOTAL: 0.17345845133549298\n"
     ]
    }
   ],
   "execution_count": 998
  },
  {
   "metadata": {
    "ExecuteTime": {
     "end_time": "2024-05-08T08:53:04.172950Z",
     "start_time": "2024-05-08T08:53:04.159363Z"
    }
   },
   "cell_type": "code",
   "source": [
    "stat_34, p_value_34 = mannwhitneyu(SENSE_PA['Barthel resultats'] == 100.0, TOTAL['Barthel resultats'] == 100.0, alternative='two-sided')\n",
    "print(\"P-valor entre indepe_SENSE_PA i indepe_TOTAL:\", p_value_34)"
   ],
   "id": "c4d4df3b44178f1f",
   "outputs": [
    {
     "name": "stdout",
     "output_type": "stream",
     "text": [
      "P-valor entre indepe_SENSE_PA i indepe_TOTAL: 0.17345845133549298\n"
     ]
    }
   ],
   "execution_count": 1002
  },
  {
   "metadata": {},
   "cell_type": "markdown",
   "source": "##### Moderada",
   "id": "d04d18982271906"
  },
  {
   "metadata": {},
   "cell_type": "code",
   "source": [
    "stat_12, p_value_12 = mannwhitneyu(AMB_PA['Barthel resultats'].between(61, 95), AMB_PA_MECVV['Barthel resultats'].between(61, 95), alternative='two-sided')\n",
    "print(\"P-valor entre mod_AMB_PA i mod_AMB_PA_MECVV:\", p_value_12)"
   ],
   "id": "dec64efac0865e29",
   "outputs": [],
   "execution_count": null
  },
  {
   "metadata": {},
   "cell_type": "code",
   "source": [
    "stat_13, p_value_13 = mannwhitneyu(AMB_PA['Barthel resultats'].between(61, 95), SENSE_PA['Barthel resultats'].between(61, 95), alternative='two-sided')\n",
    "print(\"P-valor entre indepe_AMB_PA i mod_SENSE_PA:\", p_value_13)"
   ],
   "id": "27afcdbb5f858182",
   "outputs": [],
   "execution_count": null
  },
  {
   "metadata": {},
   "cell_type": "code",
   "source": [
    "stat_23, p_value_23 = mannwhitneyu(AMB_PA_MECVV['Barthel resultats'].between(61, 95), SENSE_PA['Barthel resultats'].between(61, 95), alternative='two-sided')  \n",
    "print(\"P-valor entre mod_AMB_PA_MECVV i mod_SENSE_PA :\", p_value_23)"
   ],
   "id": "8fc3e8dab51af8d1",
   "outputs": [],
   "execution_count": null
  },
  {
   "metadata": {},
   "cell_type": "code",
   "source": [
    "stat_14, p_value_14 = mannwhitneyu(AMB_PA['Barthel resultats'].between(61, 95), TOTAL['Barthel resultats'].between(61, 95), alternative='two-sided')\n",
    "print(\"P-valor entre mod_AMB_PA i mod_TOTAL:\", p_value_14)"
   ],
   "id": "175f381a4044775c",
   "outputs": [],
   "execution_count": null
  },
  {
   "metadata": {},
   "cell_type": "code",
   "source": [
    "stat_24, p_value_24 = mannwhitneyu(AMB_PA_MECVV['Barthel resultats'].between(61, 95), TOTAL['Barthel resultats'].between(61, 95), alternative='two-sided')\n",
    "print(\"P-valor entre mod_AMB_PA_MECVV i mod_TOTAL:\", p_value_24)"
   ],
   "id": "4812e6929dba32dd",
   "outputs": [],
   "execution_count": null
  },
  {
   "metadata": {},
   "cell_type": "code",
   "source": [
    "stat_34, p_value_34 = mannwhitneyu(SENSE_PA['Barthel resultats'].between(61, 95), TOTAL['Barthel resultats'].between(61, 95), alternative='two-sided')\n",
    "print(\"P-valor entre mod_SENSE_PA i mod_TOTAL:\", p_value_34)"
   ],
   "id": "99ee8e89544072b8",
   "outputs": [],
   "execution_count": null
  },
  {
   "metadata": {},
   "cell_type": "markdown",
   "source": "##### Severa",
   "id": "76bed183a4aeac10"
  },
  {
   "metadata": {},
   "cell_type": "code",
   "source": [
    "stat_12, p_value_12 = mannwhitneyu(AMB_PA['Barthel resultats'].between(21,60), AMB_PA_MECVV['Barthel resultats'].between(21,60), alternative='two-sided')\n",
    "print(\"P-valor entre sev_AMB_PA i sev_AMB_PA_MECVV:\", p_value_12)"
   ],
   "id": "f62da8e97a2baaab",
   "outputs": [],
   "execution_count": null
  },
  {
   "metadata": {},
   "cell_type": "code",
   "source": [
    "stat_13, p_value_13 = mannwhitneyu(AMB_PA['Barthel resultats'].between(21,60), SENSE_PA['Barthel resultats'].between(21,60), alternative='two-sided')\n",
    "print(\"P-valor entre sev_AMB_PA i sev_SENSE_PA:\", p_value_13)"
   ],
   "id": "31cb55f53135e10a",
   "outputs": [],
   "execution_count": null
  },
  {
   "metadata": {},
   "cell_type": "code",
   "source": [
    "t_stat_23, p_value_23 = mannwhitneyu(AMB_PA_MECVV['Barthel resultats'].between(21,60), SENSE_PA['Barthel resultats'].between(21,60), alternative='two-sided' )\n",
    "print(\"P-valor entre sev_AMB_PA_MECVV i sev_SENSE_PA:\", p_value_23)"
   ],
   "id": "92003e3822752b2c",
   "outputs": [],
   "execution_count": null
  },
  {
   "metadata": {},
   "cell_type": "code",
   "source": [
    "stat_14, p_value_14 = mannwhitneyu(AMB_PA['Barthel resultats'].between(21,60), TOTAL['Barthel resultats'].between(21,60), alternative='two-sided')\n",
    "print(\"P-valor entre sev_AMB_PA i sev_TOTAL:\", p_value_14)"
   ],
   "id": "f7a6937a4fd83fbc",
   "outputs": [],
   "execution_count": null
  },
  {
   "metadata": {},
   "cell_type": "code",
   "source": [
    "stat_24, p_value_24 = mannwhitneyu(AMB_PA_MECVV['Barthel resultats'].between(21,60), TOTAL['Barthel resultats'].between(21,60), alternative='two-sided')\n",
    "print(\"P-valor entre sev_AMB_PA_MECVV i sev_TOTAL:\", p_value_24)"
   ],
   "id": "e556f53ce2dc68c9",
   "outputs": [],
   "execution_count": null
  },
  {
   "metadata": {},
   "cell_type": "code",
   "source": [
    "stat_34, p_value_34 = mannwhitneyu(SENSE_PA['Barthel resultats'].between(21,60), TOTAL['Barthel resultats'].between(21,60), alternative='two-sided')\n",
    "print(\"P-valor entre sev_SENSE_PA i sev_TOTAL:\", p_value_34)"
   ],
   "id": "468b4f689bd8d269",
   "outputs": [],
   "execution_count": null
  },
  {
   "metadata": {},
   "cell_type": "markdown",
   "source": "##### Total",
   "id": "6f92bc9950981fa5"
  },
  {
   "metadata": {},
   "cell_type": "code",
   "source": [
    "stat_12, p_value_12 = mannwhitneyu(AMB_PA['Barthel resultats'] <= 20.0, AMB_PA_MECVV['Barthel resultats'] <= 20.0, alternative='two-sided')\n",
    "print(\"P-valor entre total_AMB_PA i total_AMB_PA_MECVV:\", p_value_12)"
   ],
   "id": "649bd60d8064b442",
   "outputs": [],
   "execution_count": null
  },
  {
   "metadata": {},
   "cell_type": "code",
   "source": [
    "stat_13, p_value_13 = mannwhitneyu(AMB_PA['Barthel resultats'] <= 20.0, SENSE_PA['Barthel resultats'] <= 20.0, alternative='two-sided')\n",
    "print(\"P-valor entre total_AMB_PA i total_SENSE_PA:\", p_value_13)"
   ],
   "id": "c7aefab4134a6d36",
   "outputs": [],
   "execution_count": null
  },
  {
   "metadata": {},
   "cell_type": "code",
   "source": [
    "stat_23, p_value_23 = mannwhitneyu(AMB_PA_MECVV['Barthel resultats'] <= 20.0, SENSE_PA['Barthel resultats'] <= 20.0, alternative='two-sided')\n",
    "print(\"P-valor entre total_AMB_PA_MECVV i total_SENSE_PA:\", p_value_23)"
   ],
   "id": "8f86e986c69cad05",
   "outputs": [],
   "execution_count": null
  },
  {
   "metadata": {},
   "cell_type": "code",
   "source": [
    "stat_14, p_value_14 = mannwhitneyu(AMB_PA['Barthel resultats'] <= 20.0, TOTAL['Barthel resultats'] <= 20.0, alternative='two-sided')\n",
    "print(\"P-valor entre total_AMB_PA i total_TOTAL:\", p_value_14)"
   ],
   "id": "a79450fccba3bf84",
   "outputs": [],
   "execution_count": null
  },
  {
   "metadata": {},
   "cell_type": "code",
   "source": [
    "stat_24, p_value_24 = mannwhitneyu(AMB_PA_MECVV['Barthel resultats'] <= 20.0, TOTAL['Barthel resultats'] <= 20.0, alternative='two-sided')\n",
    "print(\"P-valor entre total_AMB_PA_MECVV i total_TOTAL:\", p_value_24)"
   ],
   "id": "532f9584bca285c",
   "outputs": [],
   "execution_count": null
  },
  {
   "metadata": {},
   "cell_type": "code",
   "source": [
    "stat_34, p_value_34 = mannwhitneyu(SENSE_PA['Barthel resultats'] <= 20.0, TOTAL['Barthel resultats'] <= 20.0, alternative='two-sided')\n",
    "print(\"P-valor entre total_SENSE_PA i total_TOTAL:\", p_value_34)"
   ],
   "id": "93d14dbae88ac36e",
   "outputs": [],
   "execution_count": null
  },
  {
   "metadata": {},
   "cell_type": "markdown",
   "source": "## Index del MNA",
   "id": "8aec29cdaca5153d"
  },
  {
   "metadata": {},
   "cell_type": "markdown",
   "source": "Primer convertiré la columna a tipus numèric ja que els valors que conté són de tipus objecte i amb aquest tipus no puc calcular la mitjana ni la desviació estàndard.",
   "id": "1c06e026a7dc222a"
  },
  {
   "metadata": {},
   "cell_type": "code",
   "source": [
    "AMB_PA.loc[:, 'MNA resultats'] = pd.to_numeric(AMB_PA['MNA resultats'], errors='coerce')\n",
    "AMB_PA_MECVV.loc[:, 'MNA resultats'] = pd.to_numeric(AMB_PA_MECVV['MNA resultats'], errors='coerce')\n",
    "SENSE_PA.loc[:, 'MNA resultats'] = pd.to_numeric(SENSE_PA['MNA resultats'], errors='coerce')\n",
    "TOTAL.loc[:, 'MNA resultats'] = pd.to_numeric(TOTAL['MNA resultats'], errors='coerce')"
   ],
   "id": "1fd4ba82fd70b812",
   "outputs": [],
   "execution_count": null
  },
  {
   "metadata": {},
   "cell_type": "markdown",
   "source": "### Mitjana",
   "id": "d3a2da203000f2a5"
  },
  {
   "metadata": {},
   "cell_type": "code",
   "source": [
    "Mitjana_mna = AMB_PA['MNA resultats'].mean()\n",
    "desviacio_estandard_mna = AMB_PA['MNA resultats'].std()\n",
    "\n",
    "resultat = f\"{Mitjana_mna:.2f} ± {desviacio_estandard_mna:.2f}\"\n",
    "print(\"Mitjana ± Desviació Estándard del mna:\", resultat)"
   ],
   "id": "49f228e16ecc4f8f",
   "outputs": [],
   "execution_count": null
  },
  {
   "metadata": {},
   "cell_type": "code",
   "source": [
    "Mitjana_mna = AMB_PA_MECVV['MNA resultats'].mean()\n",
    "desviacio_estandard_mna = AMB_PA_MECVV['MNA resultats'].std()\n",
    "\n",
    "resultat = f\"{Mitjana_mna:.2f} ± {desviacio_estandard_mna:.2f}\"\n",
    "print(\"Mitjana ± Desviació Estándard del mna:\", resultat)"
   ],
   "id": "2b9bad54f7ac28fb",
   "outputs": [],
   "execution_count": null
  },
  {
   "metadata": {},
   "cell_type": "code",
   "source": [
    "Mitjana_mna = SENSE_PA['MNA resultats'].mean()\n",
    "desviacio_estandard_mna = SENSE_PA['MNA resultats'].std()\n",
    "\n",
    "resultat = f\"{Mitjana_mna:.2f} ± {desviacio_estandard_mna:.2f}\"\n",
    "print(\"Mitjana ± Desviació Estàndard del mna:\", resultat)"
   ],
   "id": "e1b756b5d3594d0d",
   "outputs": [],
   "execution_count": null
  },
  {
   "metadata": {},
   "cell_type": "code",
   "source": [
    "Mitjana_mna = TOTAL['MNA resultats'].mean()\n",
    "desviacio_estandard_mna = TOTAL['MNA resultats'].std()\n",
    "\n",
    "resultat = f\"{Mitjana_mna:.2f} ± {desviacio_estandard_mna:.2f}\"\n",
    "print(\"Mitjana ± Desviació Estàndard del mna:\", resultat)"
   ],
   "id": "69c51b0b251eca8d",
   "outputs": [],
   "execution_count": null
  },
  {
   "metadata": {},
   "cell_type": "markdown",
   "source": "#### Comparació distributiva",
   "id": "ed71dea199e67206"
  },
  {
   "metadata": {},
   "cell_type": "markdown",
   "source": "##### Normalitat i p-valor",
   "id": "a2022f16581d1ec4"
  },
  {
   "metadata": {},
   "cell_type": "code",
   "source": [
    "stat, p_value = shapiro(AMB_PA['MNA resultats'])\n",
    "print(f\"Estadístic W = {stat:.4f}\")\n",
    "print(f\"Valor p = {p_value:.4f}\")\n",
    "\n",
    "alpha = 0.05\n",
    "if p_value < alpha:\n",
    "    print(\"El nombre de files no segueix una distribució normal.\")\n",
    "else:\n",
    "    print(\"El nombre de files segueix una distribució normal.\")"
   ],
   "id": "818f02babf540e04",
   "outputs": [],
   "execution_count": null
  },
  {
   "metadata": {},
   "cell_type": "code",
   "source": [
    "stat, p_value = shapiro(AMB_PA_MECVV['MNA resultats'])\n",
    "print(f\"Estadístic W = {stat:.4f}\")\n",
    "print(f\"Valor p = {p_value:.4f}\")\n",
    "\n",
    "alpha = 0.05\n",
    "if p_value < alpha:\n",
    "    print(\"El nombre de files no segueix una distribució normal.\")\n",
    "else:\n",
    "    print(\"El nombre de files segueix una distribució normal.\")"
   ],
   "id": "f3f9909b59238c82",
   "outputs": [],
   "execution_count": null
  },
  {
   "metadata": {},
   "cell_type": "code",
   "source": [
    "stat, p_value = shapiro(SENSE_PA['MNA resultats'])\n",
    "print(f\"Estadístic W = {stat:.4f}\")\n",
    "print(f\"Valor p = {p_value:.4f}\")\n",
    "\n",
    "alpha = 0.05\n",
    "if p_value < alpha:\n",
    "    print(\"El nombre de files no segueix una distribució normal.\")\n",
    "else:\n",
    "    print(\"El nombre de files segueix una distribució normal.\")"
   ],
   "id": "e649075f76992902",
   "outputs": [],
   "execution_count": null
  },
  {
   "metadata": {},
   "cell_type": "code",
   "source": [
    "stat, p_value = shapiro(TOTAL['MNA resultats'])\n",
    "print(f\"Estadístic W = {stat:.4f}\")\n",
    "print(f\"Valor p = {p_value:.4f}\")\n",
    "\n",
    "alpha = 0.05\n",
    "if p_value < alpha:\n",
    "    print(\"El nombre de files no segueix una distribució normal.\")\n",
    "else:\n",
    "    print(\"El nombre de files segueix una distribució normal.\")"
   ],
   "id": "fefa7450e087393f",
   "outputs": [],
   "execution_count": null
  },
  {
   "metadata": {},
   "cell_type": "code",
   "source": [
    "t_stat_12, p_val_12 = ttest_ind(AMB_PA['MNA resultats'], AMB_PA_MECVV['MNA resultats'], equal_var=False)\n",
    "print(\"P-valor entre AMB_PA i AMB_PA_MECVV:\", p_val_12)"
   ],
   "id": "ad0537eaa821dc4b",
   "outputs": [],
   "execution_count": null
  },
  {
   "metadata": {},
   "cell_type": "code",
   "source": [
    "t_stat_13, p_val_13 = ttest_ind(AMB_PA['MNA resultats'], SENSE_PA['MNA resultats'], equal_var=False)\n",
    "print(\"P-valor entre AMB_PA i SENSE_PA:\", p_val_13)"
   ],
   "id": "d15532e3219abd52",
   "outputs": [],
   "execution_count": null
  },
  {
   "metadata": {},
   "cell_type": "code",
   "source": [
    "t_stat_23, p_val_23 = ttest_ind(AMB_PA_MECVV['MNA resultats'], SENSE_PA['MNA resultats'], equal_var=False)\n",
    "print(\"P-valor entre AMB_PA_MECVV i SENSE_PA:\", p_val_23)"
   ],
   "id": "33fd4e0dfb16ffd9",
   "outputs": [],
   "execution_count": null
  },
  {
   "metadata": {},
   "cell_type": "code",
   "source": [
    "t_stat_14, p_val_14 = ttest_ind(AMB_PA['MNA resultats'], TOTAL['MNA resultats'], equal_var=False)\n",
    "print(\"P-valor entre AMB_PA i TOTAL:\", p_val_14)"
   ],
   "id": "872eb4a13a46ad2d",
   "outputs": [],
   "execution_count": null
  },
  {
   "metadata": {},
   "cell_type": "code",
   "source": [
    "t_stat_24, p_val_24 = ttest_ind(AMB_PA_MECVV['MNA resultats'], TOTAL['MNA resultats'], equal_var=False)\n",
    "print(\"P-valor entre AMB_PA_MECVV i TOTAL:\", p_val_24)"
   ],
   "id": "66959d52bc4c9692",
   "outputs": [],
   "execution_count": null
  },
  {
   "metadata": {},
   "cell_type": "code",
   "source": [
    "t_stat_34, p_val_34 = ttest_ind(SENSE_PA['MNA resultats'], TOTAL['MNA resultats'], equal_var=False)\n",
    "print(\"P-valor entre SENSE_PA i TOTAL:\", p_val_34)"
   ],
   "id": "3024cec7f962618a",
   "outputs": [],
   "execution_count": null
  },
  {
   "metadata": {},
   "cell_type": "markdown",
   "source": "### Valors de malnutrició",
   "id": "30ab7030f717f77d"
  },
  {
   "metadata": {},
   "cell_type": "markdown",
   "source": "##### AMB_PA",
   "id": "739bad6e4ed22abd"
  },
  {
   "metadata": {},
   "cell_type": "code",
   "source": [
    "norm_AMB_PA = AMB_PA['MNA resultats'].between(24, 30)\n",
    "Percentatge_norm_AMB_PA = norm_AMB_PA.mean() * 100\n",
    "num_observaciones_norm_AMB_PA = norm_AMB_PA.sum()\n",
    "\n",
    "print(f\"Percentatge de norm_AMB_PA: {Percentatge_norm_AMB_PA:.2f}%\")\n",
    "print(f\"Nombre d'observacions en norm_AMB_PA: {num_observaciones_norm_AMB_PA}\")"
   ],
   "id": "caa6802b98e9e39",
   "outputs": [],
   "execution_count": null
  },
  {
   "metadata": {},
   "cell_type": "code",
   "source": [
    "malnutr_AMB_PA = AMB_PA['MNA resultats'].between(17, 23.5)\n",
    "Percentatge_malnutr_AMB_PA = malnutr_AMB_PA.mean() * 100\n",
    "num_observacions_malnutr_AMB_PA = norm_AMB_PA.sum()\n",
    "\n",
    "print(f\"Percentatge de malnutr_AMB_PA: {Percentatge_malnutr_AMB_PA:.2f}%\")\n",
    "print(f\"Nombre d'observacions en norm_AMB_PA: {num_observacions_malnutr_AMB_PA}\")"
   ],
   "id": "9767c703bf106b20",
   "outputs": [],
   "execution_count": null
  },
  {
   "metadata": {},
   "cell_type": "code",
   "source": [
    "malnut_AMB_PA = AMB_PA['MNA resultats'] < 17\n",
    "Percentatge_malnut_AMB_PA = malnut_AMB_PA.mean() * 100\n",
    "num_observacions_malnut_AMB_PA = malnut_AMB_PA.sum()\n",
    "\n",
    "print(f\"Percentatge de malnut_AMB_PA: {Percentatge_malnut_AMB_PA:.2f}%\")\n",
    "print(f\"Nombre d'observacions en malnut_AMB_PA: {num_observacions_malnut_AMB_PA}\")"
   ],
   "id": "bef7952d2998f683",
   "outputs": [],
   "execution_count": null
  },
  {
   "metadata": {},
   "cell_type": "markdown",
   "source": "##### AMB_PA_MECVV",
   "id": "2f5087291a06f182"
  },
  {
   "metadata": {},
   "cell_type": "code",
   "source": [
    "norm_AMB_PA_MECVV = AMB_PA_MECVV['MNA resultats'].between(24, 30)\n",
    "Percentatge_norm_AMB_PA_MECVV = norm_AMB_PA_MECVV.mean() * 100\n",
    "num_observacions_norm_AMB_PA_MECVV = norm_AMB_PA_MECVV.sum()\n",
    "\n",
    "print(f\"Percentatge de norm_AMB_PA_MECVV: {Percentatge_norm_AMB_PA_MECVV:.2f}%\")\n",
    "print(f\"Nombre d'observacions en norm_AMB_PA_MECVV: {num_observacions_norm_AMB_PA_MECVV}\")"
   ],
   "id": "3e5b18f679fc2d97",
   "outputs": [],
   "execution_count": null
  },
  {
   "metadata": {},
   "cell_type": "code",
   "source": [
    "malnutr_AMB_PA_MECVV = AMB_PA_MECVV['MNA resultats'].between(17, 23.5)\n",
    "Percentatge_malnutr_AMB_PA_MECVV = malnutr_AMB_PA_MECVV.mean() * 100\n",
    "num_observacions_malnutr_AMB_PA_MECVV = norm_AMB_PA_MECVV.sum()\n",
    "\n",
    "print(f\"Percentatge de malnutr_AMB_PA_MECVV: {Percentatge_malnutr_AMB_PA_MECVV:.2f}%\")\n",
    "print(f\"Nombre d'observacions en norm_AMB_PA_MECVV: {num_observacions_malnutr_AMB_PA_MECVV}\")"
   ],
   "id": "d44f886d78fd3ac7",
   "outputs": [],
   "execution_count": null
  },
  {
   "metadata": {},
   "cell_type": "code",
   "source": [
    "malnut_AMB_PA_MECVV = AMB_PA_MECVV['MNA resultats'] < 17\n",
    "Percentatge_malnut_AMB_PA_MECVV = malnut_AMB_PA_MECVV.mean() * 100\n",
    "num_observacions_malnut_AMB_PA_MECVV = malnut_AMB_PA_MECVV.sum()\n",
    "\n",
    "print(f\"Percentatge de malnut_AMB_PA_MECVV: {Percentatge_malnut_AMB_PA_MECVV:.2f}%\")\n",
    "print(f\"Nombre d'observacions en malnut_AMB_PA_MECVV: {num_observacions_malnut_AMB_PA_MECVV}\")"
   ],
   "id": "2a86972a7a2d702d",
   "outputs": [],
   "execution_count": null
  },
  {
   "metadata": {},
   "cell_type": "markdown",
   "source": "##### SENSE_PA",
   "id": "147fc09ef92f5300"
  },
  {
   "metadata": {},
   "cell_type": "code",
   "source": [
    "norm_SENSE_PA = SENSE_PA['MNA resultats'].between(24, 30)\n",
    "Percentatge_norm_SENSE_PA = norm_SENSE_PA.mean() * 100\n",
    "num_observacions_norm_SENSE_PA = norm_SENSE_PA.sum()\n",
    "\n",
    "print(f\"Percentatge de norm_SENSE_PA: {Percentatge_norm_SENSE_PA:.2f}%\")\n",
    "print(f\"Nombre d'observacions en norm_SENSE_PA: {num_observacions_norm_SENSE_PA}\")"
   ],
   "id": "c08ecbab11287831",
   "outputs": [],
   "execution_count": null
  },
  {
   "metadata": {},
   "cell_type": "code",
   "source": [
    "malnutr_SENSE_PA = SENSE_PA['MNA resultats'].between(17, 23.5)\n",
    "Percentatge_malnutr_SENSE_PA = malnutr_SENSE_PA.mean() * 100\n",
    "num_observacions_malnutr_SENSE_PA = malnutr_SENSE_PA.sum()\n",
    "\n",
    "print(f\"Percentatge de malnutr_SENSE_PA: {Percentatge_malnutr_SENSE_PA:.2f}%\")\n",
    "print(f\"Nombre d'observacions en malnutr_SENSE_PA: {num_observacions_malnutr_SENSE_PA}\")"
   ],
   "id": "380f9565f771bf8b",
   "outputs": [],
   "execution_count": null
  },
  {
   "metadata": {},
   "cell_type": "code",
   "source": [
    "malnut_SENSE_PA = SENSE_PA['MNA resultats'] < 17\n",
    "Percentatge_malnut_SENSE_PA = malnut_SENSE_PA.mean() * 100\n",
    "num_observacions_malnut_SENSE_PA = malnut_SENSE_PA.sum()\n",
    "\n",
    "print(f\"Percentatge de malnut_SENSE_PA: {Percentatge_malnut_SENSE_PA:.2f}%\")\n",
    "print(f\"Nombre d'observacions en malnut_SENSE_PA: {num_observacions_malnut_SENSE_PA}\")"
   ],
   "id": "160c804055ffa789",
   "outputs": [],
   "execution_count": null
  },
  {
   "metadata": {},
   "cell_type": "markdown",
   "source": "##### TOTAL",
   "id": "a44adb84b0620689"
  },
  {
   "metadata": {},
   "cell_type": "code",
   "source": [
    "norm_TOTAL = TOTAL['MNA resultats'].between(24, 30)\n",
    "Percentatge_norm_TOTAL = norm_TOTAL.mean() * 100\n",
    "num_observacions_norm_TOTAL = norm_TOTAL.sum()\n",
    "\n",
    "print(f\"Percentatge de norm_TOTAL: {Percentatge_norm_TOTAL:.2f}%\")\n",
    "print(f\"Nombre d'observacions en norm_TOTAL: {num_observacions_norm_TOTAL}\")"
   ],
   "id": "bc63c0ba261ce802",
   "outputs": [],
   "execution_count": null
  },
  {
   "metadata": {},
   "cell_type": "code",
   "source": [
    "malnutr_TOTAL = TOTAL['MNA resultats'].between(17, 23.5)\n",
    "Percentatge_malnutr_TOTAL = malnutr_TOTAL.mean() * 100\n",
    "num_observacions_malnutr_TOTAL = malnutr_TOTAL.sum()\n",
    "\n",
    "print(f\"Percentatge de malnutr_TOTAL: {Percentatge_malnutr_TOTAL:.2f}%\")\n",
    "print(f\"Nombre d'observacions en malnutr_TOTAL: {num_observacions_malnutr_TOTAL}\")"
   ],
   "id": "b8ac78ba0add7ac4",
   "outputs": [],
   "execution_count": null
  },
  {
   "metadata": {},
   "cell_type": "code",
   "source": [
    "malnut_TOTAL = TOTAL['MNA resultats'] < 17\n",
    "Percentatge_malnut_TOTAL = malnut_TOTAL.mean() * 100\n",
    "num_observacions_malnut_TOTAL = malnut_TOTAL.sum()\n",
    "\n",
    "print(f\"Percentatge de malnut_TOTAL: {Percentatge_malnut_TOTAL:.2f}%\")\n",
    "print(f\"Nombre d'observacions en malnut_TOTAL: {num_observacions_malnut_TOTAL}\")"
   ],
   "id": "e7680f8860c92cf",
   "outputs": [],
   "execution_count": null
  },
  {
   "metadata": {},
   "cell_type": "markdown",
   "source": "#### Comparació distributiva",
   "id": "a9a33b1d22344060"
  },
  {
   "metadata": {},
   "cell_type": "markdown",
   "source": "##### Normal",
   "id": "c1aa669e202aa54d"
  },
  {
   "metadata": {},
   "cell_type": "code",
   "source": [
    "t_stat_12, p_val_12 = ttest_ind(AMB_PA['MNA resultats'].between(24, 30), AMB_PA_MECVV['MNA resultats'].between(24, 30), equal_var=False)\n",
    "print(\"P-valor entre norm_AMB_PA i norm_AMB_PA_MECVV:\", p_val_12)"
   ],
   "id": "c424d10727ebe3",
   "outputs": [],
   "execution_count": null
  },
  {
   "metadata": {},
   "cell_type": "code",
   "source": [
    "t_stat_13, p_val_13 = ttest_ind(AMB_PA['MNA resultats'].between(24, 30), SENSE_PA['MNA resultats'].between(24, 30), equal_var=False)\n",
    "print(\"P-valor entre norm_AMB_PA i norm_SENSE_PA:\", p_val_13)"
   ],
   "id": "ebb1848e3ef8509e",
   "outputs": [],
   "execution_count": null
  },
  {
   "metadata": {},
   "cell_type": "code",
   "source": [
    "t_stat_23, p_val_23 = ttest_ind(AMB_PA_MECVV['MNA resultats'].between(24, 30), SENSE_PA['MNA resultats'].between(24, 30), equal_var=False)\n",
    "print(\"P-valor entre norm_AMB_PA_MECVV i norm_SENSE_PA:\", p_val_23)"
   ],
   "id": "ec24c5a3e17d9c39",
   "outputs": [],
   "execution_count": null
  },
  {
   "metadata": {},
   "cell_type": "code",
   "source": [
    "t_stat_14, p_val_14 = ttest_ind(AMB_PA['MNA resultats'].between(24, 30), TOTAL['MNA resultats'].between(24, 30), equal_var=False)\n",
    "print(\"P-valor entre norm_AMB_PA i norm_TOTAL:\", p_val_14)"
   ],
   "id": "b9abd77f1ff3df65",
   "outputs": [],
   "execution_count": null
  },
  {
   "metadata": {},
   "cell_type": "code",
   "source": [
    "t_stat_24, p_val_24 = ttest_ind(AMB_PA_MECVV['MNA resultats'].between(24, 30), TOTAL['MNA resultats'].between(24, 30), equal_var=False)\n",
    "print(\"P-valor entre norm_AMB_PA_MECVV i norm_TOTAL:\", p_val_24)"
   ],
   "id": "487da96a4b495055",
   "outputs": [],
   "execution_count": null
  },
  {
   "metadata": {},
   "cell_type": "code",
   "source": [
    "t_stat_34, p_val_34 = ttest_ind(SENSE_PA['MNA resultats'].between(24, 30), TOTAL['MNA resultats'].between(24, 30), equal_var=False)\n",
    "print(\"P-valor entre norm_SENSE_PA i norm_TOTAL:\", p_val_34)"
   ],
   "id": "1634c7d3d4740bc4",
   "outputs": [],
   "execution_count": null
  },
  {
   "metadata": {},
   "cell_type": "markdown",
   "source": "##### Risc de malnutrició",
   "id": "2b406b79ad8e5d31"
  },
  {
   "metadata": {},
   "cell_type": "code",
   "source": [
    "t_stat_12, p_val_12 = ttest_ind(AMB_PA['MNA resultats'].between(17, 23.5), AMB_PA_MECVV['MNA resultats'].between(17, 23.5), equal_var=False)\n",
    "print(\"P-valor entre malnutr_AMB_PA i malnutr_AMB_PA_MECVV:\", p_val_12)"
   ],
   "id": "3a2c6f30d476106c",
   "outputs": [],
   "execution_count": null
  },
  {
   "metadata": {},
   "cell_type": "code",
   "source": [
    "t_stat_13, p_val_13 = ttest_ind(AMB_PA['MNA resultats'].between(17, 23.5), SENSE_PA['MNA resultats'].between(17, 23.5), equal_var=False)\n",
    "print(\"P-valor entre malnutr_AMB_PA i malnutr_SENSE_PA:\", p_val_13)"
   ],
   "id": "26dd581da1c61b2a",
   "outputs": [],
   "execution_count": null
  },
  {
   "metadata": {},
   "cell_type": "code",
   "source": [
    "t_stat_23, p_val_23 = ttest_ind(AMB_PA_MECVV['MNA resultats'].between(17, 23.5), SENSE_PA['MNA resultats'].between(17, 23.5), equal_var=False)\n",
    "print(\"P-valor entre malnutr_AMB_PA_MECVV i malnutr_SENSE_PA:\", p_val_23)"
   ],
   "id": "e15a727ac84ee9b9",
   "outputs": [],
   "execution_count": null
  },
  {
   "metadata": {},
   "cell_type": "code",
   "source": [
    "t_stat_14, p_val_14 = ttest_ind(AMB_PA['MNA resultats'].between(17, 23.5), TOTAL['MNA resultats'].between(17, 23.5), equal_var=False)\n",
    "print(\"P-valor entre malnutr_AMB_PA i malnutr_TOTAL:\", p_val_14)"
   ],
   "id": "cf3385049298a4d6",
   "outputs": [],
   "execution_count": null
  },
  {
   "metadata": {},
   "cell_type": "code",
   "source": [
    "t_stat_24, p_val_24 = ttest_ind(AMB_PA_MECVV['MNA resultats'].between(17, 23.5), TOTAL['MNA resultats'].between(17, 23.5), equal_var=False)\n",
    "print(\"P-valor entre malnutr_AMB_PA_MECVVV i malnutr_TOTAL:\", p_val_24)"
   ],
   "id": "6638ca537eb22e78",
   "outputs": [],
   "execution_count": null
  },
  {
   "metadata": {},
   "cell_type": "code",
   "source": [
    "t_stat_34, p_val_34 = ttest_ind(SENSE_PA['MNA resultats'].between(17, 23.5), TOTAL['MNA resultats'].between(17, 23.5), equal_var=False)\n",
    "print(\"P-valor entre malnutr_SENSE_PA i malnutr_TOTAL:\", p_val_34)"
   ],
   "id": "944ffad15eda29c0",
   "outputs": [],
   "execution_count": null
  },
  {
   "metadata": {},
   "cell_type": "markdown",
   "source": "##### Malnutrició",
   "id": "905cde52c3b826ac"
  },
  {
   "metadata": {},
   "cell_type": "code",
   "source": [
    "t_stat_12, p_val_12 = ttest_ind(AMB_PA['MNA resultats'] <17 , \n",
    "                                AMB_PA_MECVV['MNA resultats'] < 17, equal_var=False)\n",
    "print(\"P-valor entre malnut_AMB_PA i malnut_AMB_PA_MECVV:\", p_val_12)"
   ],
   "id": "72f95b8ad2e7790e",
   "outputs": [],
   "execution_count": null
  },
  {
   "metadata": {},
   "cell_type": "code",
   "source": [
    "t_stat_13, p_val_13 = ttest_ind(AMB_PA['MNA resultats'] <17 , \n",
    "                                SENSE_PA['MNA resultats'] < 17, equal_var=False)\n",
    "print(\"P-valor entre malnut_AMB_PA i malnut_SENSE_PA:\", p_val_13)"
   ],
   "id": "a93d6a6490f1b7e4",
   "outputs": [],
   "execution_count": null
  },
  {
   "metadata": {},
   "cell_type": "code",
   "source": [
    "t_stat_23, p_val_23 = ttest_ind(AMB_PA_MECVV['MNA resultats'] <17 , \n",
    "                                SENSE_PA['MNA resultats'] < 17, equal_var=False)\n",
    "print(\"P-valor entre malnut_AMB_PA_MECVV i malnut_SENSE_PA:\", p_val_23)"
   ],
   "id": "751e44c45c324db8",
   "outputs": [],
   "execution_count": null
  },
  {
   "metadata": {},
   "cell_type": "code",
   "source": [
    "t_stat_14, p_val_14 = ttest_ind(AMB_PA['MNA resultats'] <17 , \n",
    "                                TOTAL['MNA resultats'] < 17, equal_var=False)\n",
    "print(\"P-valor entre malnut_AMB_PA i malnut_TOTAL:\", p_val_14)"
   ],
   "id": "d334266645ad4cf0",
   "outputs": [],
   "execution_count": null
  },
  {
   "metadata": {},
   "cell_type": "code",
   "source": [
    "t_stat_24, p_val_24 = ttest_ind(AMB_PA_MECVV['MNA resultats'] <17 , \n",
    "                                TOTAL['MNA resultats'] < 17, equal_var=False)\n",
    "print(\"P-valor entre malnut_AMB_PA_MECVV i malnut_TOTAL:\", p_val_24)"
   ],
   "id": "9c53996f556891b0",
   "outputs": [],
   "execution_count": null
  },
  {
   "metadata": {},
   "cell_type": "code",
   "source": [
    "t_stat_34, p_val_34 = ttest_ind(SENSE_PA['MNA resultats'] <17 , \n",
    "                                TOTAL['MNA resultats'] < 17, equal_var=False)\n",
    "print(\"P-valor entre malnut_SENSE_PA i malnut_TOTAL:\", p_val_34)"
   ],
   "id": "bca0d6ae503e9caa",
   "outputs": [],
   "execution_count": null
  },
  {
   "metadata": {},
   "cell_type": "markdown",
   "source": "## Index de l'EMINA",
   "id": "26f61b8f17444d86"
  },
  {
   "metadata": {},
   "cell_type": "markdown",
   "source": "### Mitjana",
   "id": "5c9563929438128a"
  },
  {
   "metadata": {},
   "cell_type": "code",
   "source": [
    "Mitjana_emina = AMB_PA['EMINA sumatori comparat'].mean()\n",
    "desviacio_estandard_emina = AMB_PA['EMINA sumatori comparat'].std()\n",
    "\n",
    "resultat = f\"{Mitjana_emina:.2f} ± {desviacio_estandard_emina:.2f}\"\n",
    "print(\"Mitjana ± Desviació Estàndard de l'emina:\", resultat)"
   ],
   "id": "6b3af33f67ee3c1c",
   "outputs": [],
   "execution_count": null
  },
  {
   "metadata": {},
   "cell_type": "code",
   "source": [
    "Mitjana_emina = AMB_PA_MECVV['EMINA sumatori comparat'].mean()\n",
    "desviacio_estandard_emina = AMB_PA_MECVV['EMINA sumatori comparat'].std()\n",
    "\n",
    "resultat = f\"{Mitjana_emina:.2f} ± {desviacio_estandard_emina:.2f}\"\n",
    "print(\"Mitjana ± Desviació Estàndard de l'emina:\", resultat)"
   ],
   "id": "33da5d49fab96790",
   "outputs": [],
   "execution_count": null
  },
  {
   "metadata": {},
   "cell_type": "code",
   "source": [
    "Mitjana_emina = SENSE_PA['EMINA sumatori comparat'].mean()\n",
    "desviacio_estandard_emina = SENSE_PA['EMINA sumatori comparat'].std()\n",
    "\n",
    "resultat = f\"{Mitjana_emina:.2f} ± {desviacio_estandard_emina:.2f}\"\n",
    "print(\"Mitjana ± Desviació Estàndard de l'emina:\", resultat)"
   ],
   "id": "8fdc1af6b1f3b3af",
   "outputs": [],
   "execution_count": null
  },
  {
   "metadata": {},
   "cell_type": "code",
   "source": [
    "Mitjana_emina = TOTAL['EMINA sumatori comparat'].mean()\n",
    "desviacio_estandard_emina = TOTAL['EMINA sumatori comparat'].std()\n",
    "\n",
    "resultat = f\"{Mitjana_emina:.2f} ± {desviacio_estandard_emina:.2f}\"\n",
    "print(\"Mitjana ± Desviació Estàndard de l'emina:\", resultat)"
   ],
   "id": "e1c0ec42ba6ef5a6",
   "outputs": [],
   "execution_count": null
  },
  {
   "metadata": {},
   "cell_type": "markdown",
   "source": "#### Comparació distributiva",
   "id": "71013ef3e165a551"
  },
  {
   "metadata": {},
   "cell_type": "markdown",
   "source": "##### Normalitat i p-valor",
   "id": "cbd46bf1ecd0fba7"
  },
  {
   "metadata": {},
   "cell_type": "code",
   "source": [
    "stat, p_value = shapiro(AMB_PA['EMINA sumatori comparat'])\n",
    "print(f\"Estadístic W = {stat:.4f}\")\n",
    "print(f\"Valor p = {p_value:.4f}\")\n",
    "\n",
    "alpha = 0.05\n",
    "if p_value < alpha:\n",
    "    print(\"El nombre de files no segueix una distribució normal.\")\n",
    "else:\n",
    "    print(\"El nombre de files segueix una distribució normal.\")"
   ],
   "id": "8c2f6048f748604a",
   "outputs": [],
   "execution_count": null
  },
  {
   "metadata": {},
   "cell_type": "code",
   "source": [
    "stat, p_value = shapiro(AMB_PA_MECVV['EMINA sumatori comparat'])\n",
    "print(f\"Estadístic W = {stat:.4f}\")\n",
    "print(f\"Valor p = {p_value:.4f}\")\n",
    "\n",
    "alpha = 0.05\n",
    "if p_value < alpha:\n",
    "    print(\"El nombre de files no segueix una distribució normal.\")\n",
    "else:\n",
    "    print(\"El nombre de files segueix una distribució normal.\")"
   ],
   "id": "2bf3afd16f2027c6",
   "outputs": [],
   "execution_count": null
  },
  {
   "metadata": {},
   "cell_type": "code",
   "source": [
    "stat, p_value = shapiro(SENSE_PA['EMINA sumatori comparat'])\n",
    "print(f\"Estadístic W = {stat:.4f}\")\n",
    "print(f\"Valor p = {p_value:.4f}\")\n",
    "\n",
    "alpha = 0.05\n",
    "if p_value < alpha:\n",
    "    print(\"El nombre de files no segueix una distribució normal.\")\n",
    "else:\n",
    "    print(\"El nombre de files segueix una distribució normal.\")"
   ],
   "id": "35d52c1d08eae392",
   "outputs": [],
   "execution_count": null
  },
  {
   "metadata": {},
   "cell_type": "code",
   "source": [
    "stat, p_value = shapiro(TOTAL['EMINA sumatori comparat'])\n",
    "print(f\"Estadístic W = {stat:.4f}\")\n",
    "print(f\"Valor p = {p_value:.4f}\")\n",
    "\n",
    "alpha = 0.05\n",
    "if p_value < alpha:\n",
    "    print(\"El nombre de files no segueix una distribució normal.\")\n",
    "else:\n",
    "    print(\"El nombre de files segueix una distribució normal.\")"
   ],
   "id": "3e2a08ffad73b9f2",
   "outputs": [],
   "execution_count": null
  },
  {
   "metadata": {},
   "cell_type": "code",
   "source": [
    "t_stat_12, p_val_12 = ttest_ind(AMB_PA['EMINA sumatori comparat'], AMB_PA_MECVV['EMINA sumatori comparat'], equal_var=False)\n",
    "print(\"P-valor entre AMB_PA i AMB_PA_MECVV:\", p_val_12)"
   ],
   "id": "19c464a0afea8bee",
   "outputs": [],
   "execution_count": null
  },
  {
   "metadata": {},
   "cell_type": "code",
   "source": [
    "t_stat_13, p_val_13 = ttest_ind(AMB_PA['EMINA sumatori comparat'], SENSE_PA['EMINA sumatori comparat'], equal_var=False)\n",
    "print(\"P-valor entre AMB_PA i SENSE_PA:\", p_val_13)"
   ],
   "id": "987f92dcb16d57e2",
   "outputs": [],
   "execution_count": null
  },
  {
   "metadata": {},
   "cell_type": "code",
   "source": [
    "t_stat_23, p_val_23 = ttest_ind(AMB_PA_MECVV['EMINA sumatori comparat'], SENSE_PA['EMINA sumatori comparat'], equal_var=False)\n",
    "print(\"P-valor entre AMB_PA_MECVV i SENSE_PA:\", p_val_23)"
   ],
   "id": "368fa9440dab1343",
   "outputs": [],
   "execution_count": null
  },
  {
   "metadata": {},
   "cell_type": "code",
   "source": [
    "t_stat_14, p_val_14 = ttest_ind(AMB_PA['EMINA sumatori comparat'], TOTAL['EMINA sumatori comparat'], equal_var=False)\n",
    "print(\"P-valor entre AMB_PA i TOTAL:\", p_val_14)"
   ],
   "id": "9b7dfb0fc328cffa",
   "outputs": [],
   "execution_count": null
  },
  {
   "metadata": {},
   "cell_type": "code",
   "source": [
    "t_stat_24, p_val_24 = ttest_ind(AMB_PA_MECVV['EMINA sumatori comparat'], TOTAL['EMINA sumatori comparat'], equal_var=False)\n",
    "print(\"P-valor entre AMB_PA_MECVV i TOTAL:\", p_val_24)"
   ],
   "id": "60a12a6437fe14f8",
   "outputs": [],
   "execution_count": null
  },
  {
   "metadata": {},
   "cell_type": "code",
   "source": [
    "t_stat_34, p_val_34 = ttest_ind(SENSE_PA['EMINA sumatori comparat'], TOTAL['EMINA sumatori comparat'], equal_var=False)\n",
    "print(\"P-valor entre SENSE_PA i TOTAL:\", p_val_34)"
   ],
   "id": "62192da5a0981550",
   "outputs": [],
   "execution_count": null
  },
  {
   "metadata": {},
   "cell_type": "markdown",
   "source": "### Valors EMINA",
   "id": "fe44c5a2a9a5c364"
  },
  {
   "metadata": {},
   "cell_type": "markdown",
   "source": "##### AMB_PA",
   "id": "b86ec7ed9e5b32ef"
  },
  {
   "metadata": {},
   "cell_type": "code",
   "source": [
    "lowr_AMB_PA = AMB_PA['EMINA sumatori comparat'].between(0, 5)\n",
    "Percentatge_lowr_AMB_PA = lowr_AMB_PA.mean() * 100\n",
    "num_observacions_lowr_AMB_PA = lowr_AMB_PA.sum()\n",
    "\n",
    "print(f\"Percentatge de lowr_AMB_PA: {Percentatge_lowr_AMB_PA:.2f}%\")\n",
    "print(f\"Nombre d'observacions en lowr_AMB_PA: {num_observacions_lowr_AMB_PA}\")"
   ],
   "id": "86d6a7c6920067a1",
   "outputs": [],
   "execution_count": null
  },
  {
   "metadata": {},
   "cell_type": "code",
   "source": [
    "modr_AMB_PA = AMB_PA['EMINA sumatori comparat'].between(6, 10)\n",
    "Percentatge_modr_AMB_PA = modr_AMB_PA.mean() * 100\n",
    "num_observacions_modr_AMB_PA = modr_AMB_PA.sum()\n",
    "\n",
    "print(f\"Percentatge de modr_AMB_PA: {Percentatge_modr_AMB_PA:.2f}%\")\n",
    "print(f\"Nombre d'observacions en modr_AMB_PA: {num_observacions_modr_AMB_PA}\")"
   ],
   "id": "e83559c6b51c4aba",
   "outputs": [],
   "execution_count": null
  },
  {
   "metadata": {},
   "cell_type": "code",
   "source": [
    "highr_AMB_PA = AMB_PA['EMINA sumatori comparat'].between(11, 15)\n",
    "Percentatge_highr_AMB_PA = highr_AMB_PA.mean() * 100\n",
    "num_observacions_highr_AMB_PA = highr_AMB_PA.sum()\n",
    "\n",
    "print(f\"Percentatge de highr_AMB_PA: {Percentatge_highr_AMB_PA:.2f}%\")\n",
    "print(f\"Nombre d'observacions en highr_AMB_PA: {num_observacions_highr_AMB_PA}\")"
   ],
   "id": "65093dd3b95effd9",
   "outputs": [],
   "execution_count": null
  },
  {
   "metadata": {},
   "cell_type": "markdown",
   "source": "##### AMB_PA_MECVV",
   "id": "3b6e67f92fff0a50"
  },
  {
   "metadata": {},
   "cell_type": "code",
   "source": [
    "lowr_AMB_PA_MECVV = AMB_PA_MECVV['EMINA sumatori comparat'].between(0, 5)\n",
    "Percentatge_lowr_AMB_PA_MECVV = lowr_AMB_PA_MECVV.mean() * 100\n",
    "num_observacions_lowr_AMB_PA_MECVV = lowr_AMB_PA_MECVV.sum()\n",
    "\n",
    "print(f\"Percentatge de lowr_AMB_PA_MECVV: {Percentatge_lowr_AMB_PA_MECVV:.2f}%\")\n",
    "print(f\"Nombre d'observacions en lowr_AMB_PA_MECVV: {num_observacions_lowr_AMB_PA_MECVV}\")"
   ],
   "id": "adaaabe63e2f49be",
   "outputs": [],
   "execution_count": null
  },
  {
   "metadata": {},
   "cell_type": "code",
   "source": [
    "modr_AMB_PA_MECVV = AMB_PA_MECVV['EMINA sumatori comparat'].between(6, 10)\n",
    "Percentatge_modr_AMB_PA_MECVV = modr_AMB_PA_MECVV.mean() * 100\n",
    "num_observacions_modr_AMB_PA_MECVV = modr_AMB_PA_MECVV.sum()\n",
    "\n",
    "print(f\"Percentatge de modr_AMB_PA_MECVV: {Percentatge_modr_AMB_PA_MECVV:.2f}%\")\n",
    "print(f\"Nombre d'observacions en modr_AMB_PA_MECVV: {num_observacions_modr_AMB_PA_MECVV}\")"
   ],
   "id": "2d28ddd8a3cf1676",
   "outputs": [],
   "execution_count": null
  },
  {
   "metadata": {},
   "cell_type": "code",
   "source": [
    "highr_AMB_PA_MECVV = AMB_PA_MECVV['EMINA sumatori comparat'].between(11, 15)\n",
    "Percentatge_highr_AMB_PA_MECVV = highr_AMB_PA_MECVV.mean() * 100\n",
    "num_observacions_highr_AMB_PA_MECVV = highr_AMB_PA_MECVV.sum()\n",
    "\n",
    "print(f\"Percentatge de highr_AMB_PA_MECVV: {Percentatge_highr_AMB_PA_MECVV:.2f}%\")\n",
    "print(f\"Nombre d'observacions en highr_AMB_PA_MECVV: {num_observacions_highr_AMB_PA_MECVV}\")"
   ],
   "id": "fb4f6e91c54399f1",
   "outputs": [],
   "execution_count": null
  },
  {
   "metadata": {},
   "cell_type": "markdown",
   "source": "##### SENSE_PA",
   "id": "d04271a0bc855edb"
  },
  {
   "metadata": {},
   "cell_type": "code",
   "source": [
    "lowr_SENSE_PA = SENSE_PA['EMINA sumatori comparat'].between(0, 5)\n",
    "Percentatge_lowr_SENSE_PA = lowr_SENSE_PA.mean() * 100\n",
    "num_observacions_lowr_SENSE_PA = lowr_SENSE_PA.sum()\n",
    "\n",
    "print(f\"Percentatge de lowr_SENSE_PA: {Percentatge_lowr_SENSE_PA:.2f}%\")\n",
    "print(f\"Nombre d'observacions en lowr_SENSE_PA: {num_observacions_lowr_SENSE_PA}\")"
   ],
   "id": "cc1245eef9c28b6a",
   "outputs": [],
   "execution_count": null
  },
  {
   "metadata": {},
   "cell_type": "code",
   "source": [
    "modr_SENSE_PA = SENSE_PA['EMINA sumatori comparat'].between(6, 10)\n",
    "Percentatge_modr_SENSE_PA = modr_SENSE_PA.mean() * 100\n",
    "num_observacions_modr_SENSE_PA = modr_SENSE_PA.sum()\n",
    "\n",
    "print(f\"Percentatge de modr_SENSE_PA: {Percentatge_modr_SENSE_PA:.2f}%\")\n",
    "print(f\"Nombre d'observacions en modr_SENSE_PA: {num_observacions_modr_SENSE_PA}\")"
   ],
   "id": "7761893615ad9180",
   "outputs": [],
   "execution_count": null
  },
  {
   "metadata": {},
   "cell_type": "code",
   "source": [
    "highr_SENSE_PA = SENSE_PA['EMINA sumatori comparat'].between(11, 15)\n",
    "Percentatge_highr_SENSE_PA = highr_SENSE_PA.mean() * 100\n",
    "num_observacions_highr_SENSE_PA = highr_SENSE_PA.sum()\n",
    "\n",
    "print(f\"Percentatge de highr_SENSE_PA: {Percentatge_highr_SENSE_PA:.2f}%\")\n",
    "print(f\"Nombre d'observacions en highr_SENSE_PA: {num_observacions_highr_SENSE_PA}\")"
   ],
   "id": "b7b73c45237d7dc5",
   "outputs": [],
   "execution_count": null
  },
  {
   "metadata": {},
   "cell_type": "markdown",
   "source": "##### TOTAL",
   "id": "e3d3d169009c2905"
  },
  {
   "metadata": {},
   "cell_type": "code",
   "source": [
    "lowr_TOTAL = TOTAL['EMINA sumatori comparat'].between(0, 5)\n",
    "Percentatge_lowr_TOTAL = lowr_TOTAL.mean() * 100\n",
    "num_observacions_lowr_TOTAL = lowr_TOTAL.sum()\n",
    "\n",
    "print(f\"Percentatge de lowr_TOTAL: {Percentatge_lowr_TOTAL:.2f}%\")\n",
    "print(f\"Nombre d'observacions en lowr_TOTAL: {num_observacions_lowr_TOTAL}\")"
   ],
   "id": "cbbf8acd46831348",
   "outputs": [],
   "execution_count": null
  },
  {
   "metadata": {},
   "cell_type": "code",
   "source": [
    "modr_TOTAL = TOTAL['EMINA sumatori comparat'].between(6, 10)\n",
    "Percentatge_modr_TOTAL = modr_TOTAL.mean() * 100\n",
    "num_observacions_modr_TOTAL = modr_TOTAL.sum()\n",
    "\n",
    "print(f\"Percentatge de modr_TOTAL: {Percentatge_modr_TOTAL:.2f}%\")\n",
    "print(f\"Nombre d'observacions en modr_TOTAL: {num_observacions_modr_TOTAL}\")"
   ],
   "id": "fa1a84b92b81a5c6",
   "outputs": [],
   "execution_count": null
  },
  {
   "metadata": {},
   "cell_type": "code",
   "source": [
    "highr_TOTAL = TOTAL['EMINA sumatori comparat'].between(11, 15)\n",
    "Percentatge_highr_TOTAL = highr_TOTAL.mean() * 100\n",
    "num_observacions_highr_TOTAL = highr_TOTAL.sum()\n",
    "\n",
    "print(f\"Percentatge de highr_TOTAL: {Percentatge_highr_TOTAL:.2f}%\")\n",
    "print(f\"Nombre d'observacions en highr_TOTAL: {num_observacions_highr_TOTAL}\")"
   ],
   "id": "3e2d99046dde3bfc",
   "outputs": [],
   "execution_count": null
  },
  {
   "metadata": {},
   "cell_type": "markdown",
   "source": "#### Comparació distributiva ",
   "id": "3baa7d3e12fb1cc"
  },
  {
   "metadata": {},
   "cell_type": "markdown",
   "source": "##### Risc baix",
   "id": "a0332f1a5433e16"
  },
  {
   "metadata": {},
   "cell_type": "code",
   "source": [
    "t_stat_12, p_val_12 = ttest_ind(AMB_PA['EMINA sumatori comparat'].between(0,5), AMB_PA_MECVV['EMINA sumatori comparat'].between(0,5), equal_var=False)\n",
    "print(\"P-valor entre AMB_PA i AMB_PA_MECVV:\", p_val_12)"
   ],
   "id": "a4c504c10fa639c8",
   "outputs": [],
   "execution_count": null
  },
  {
   "metadata": {},
   "cell_type": "code",
   "source": [
    "t_stat_13, p_val_13 = ttest_ind(AMB_PA['EMINA sumatori comparat'].between(0,5), SENSE_PA['EMINA sumatori comparat'].between(0,5), equal_var=False)\n",
    "print(\"P-valor entre AMB_PA i SENSE_PA:\", p_val_13)"
   ],
   "id": "ac1ec771898cce9b",
   "outputs": [],
   "execution_count": null
  },
  {
   "metadata": {},
   "cell_type": "code",
   "source": [
    "t_stat_23, p_val_23 = ttest_ind(AMB_PA_MECVV['EMINA sumatori comparat'].between(0,5), SENSE_PA['EMINA sumatori comparat'].between(0,5), equal_var=False)\n",
    "print(\"P-valor entre AMB_PA_MECVV i SENSE_PA:\", p_val_23)"
   ],
   "id": "85095f67777cc3d1",
   "outputs": [],
   "execution_count": null
  },
  {
   "metadata": {},
   "cell_type": "code",
   "source": [
    "t_stat_14, p_val_14 = ttest_ind(AMB_PA['EMINA sumatori comparat'].between(0,5), TOTAL['EMINA sumatori comparat'].between(0,5), equal_var=False)\n",
    "print(\"P-valor entre AMB_PA i TOTAL:\", p_val_14)"
   ],
   "id": "cac1a0dc6efe117a",
   "outputs": [],
   "execution_count": null
  },
  {
   "metadata": {},
   "cell_type": "code",
   "source": [
    "t_stat_24, p_val_24 = ttest_ind(AMB_PA_MECVV['EMINA sumatori comparat'].between(0,5), TOTAL['EMINA sumatori comparat'].between(0,5), equal_var=False)\n",
    "print(\"P-valor entre AMB_PA_MECVV i TOTAL:\", p_val_24)"
   ],
   "id": "dc26d57381da8ea2",
   "outputs": [],
   "execution_count": null
  },
  {
   "metadata": {},
   "cell_type": "code",
   "source": [
    "t_stat_34, p_val_34 = ttest_ind(SENSE_PA['EMINA sumatori comparat'].between(0,5), TOTAL['EMINA sumatori comparat'].between(0,5), equal_var=False)\n",
    "print(\"P-valor entre SENSE_PA i TOTAL:\", p_val_34)"
   ],
   "id": "23a82a896d749a91",
   "outputs": [],
   "execution_count": null
  },
  {
   "metadata": {},
   "cell_type": "markdown",
   "source": "##### Risc moderat",
   "id": "bc56bb9041c8190"
  },
  {
   "metadata": {},
   "cell_type": "code",
   "source": [
    "t_stat_12, p_val_12 = ttest_ind(AMB_PA['EMINA sumatori comparat'].between(6,10), AMB_PA_MECVV['EMINA sumatori comparat'].between(6,10), equal_var=False)\n",
    "print(\"P-valor entre AMB_PA i AMB_PA_MECVV:\", p_val_12)"
   ],
   "id": "3b06f7bb9555b9c8",
   "outputs": [],
   "execution_count": null
  },
  {
   "metadata": {},
   "cell_type": "code",
   "source": [
    "t_stat_13, p_val_13 = ttest_ind(AMB_PA['EMINA sumatori comparat'].between(6,10), SENSE_PA['EMINA sumatori comparat'].between(6,10), equal_var=False)\n",
    "print(\"P-valor entre AMB_PA i SENSE_PA:\", p_val_13)"
   ],
   "id": "6bc38a3f8e4cb31c",
   "outputs": [],
   "execution_count": null
  },
  {
   "metadata": {},
   "cell_type": "code",
   "source": [
    "t_stat_23, p_val_23 = ttest_ind(AMB_PA_MECVV['EMINA sumatori comparat'].between(6,10), SENSE_PA['EMINA sumatori comparat'].between(6,10), equal_var=False)\n",
    "print(\"P-valor entre AMB_PA_MECVV i SENSE_PA:\", p_val_23)"
   ],
   "id": "5724be35a0f2dd6a",
   "outputs": [],
   "execution_count": null
  },
  {
   "metadata": {},
   "cell_type": "code",
   "source": [
    "t_stat_14, p_val_14 = ttest_ind(AMB_PA['EMINA sumatori comparat'].between(6,10), TOTAL['EMINA sumatori comparat'].between(6,10), equal_var=False)\n",
    "print(\"P-valor entre AMB_PA i TOTAL:\", p_val_14)"
   ],
   "id": "a8d03ddb13e97728",
   "outputs": [],
   "execution_count": null
  },
  {
   "metadata": {},
   "cell_type": "code",
   "source": [
    "t_stat_24, p_val_24 = ttest_ind(AMB_PA_MECVV['EMINA sumatori comparat'].between(6,10), TOTAL['EMINA sumatori comparat'].between(6,10), equal_var=False)\n",
    "print(\"P-valor entre AMB_PA_MECVV i TOTAL:\", p_val_24)"
   ],
   "id": "9a9553294b295ad5",
   "outputs": [],
   "execution_count": null
  },
  {
   "metadata": {},
   "cell_type": "code",
   "source": [
    "t_stat_34, p_val_34 = ttest_ind(SENSE_PA['EMINA sumatori comparat'].between(6,10), TOTAL['EMINA sumatori comparat'].between(6,10), equal_var=False)\n",
    "print(\"P-valor entre SENSE_PA i TOTAL:\", p_val_34)"
   ],
   "id": "31174746dfda2d9a",
   "outputs": [],
   "execution_count": null
  },
  {
   "metadata": {},
   "cell_type": "markdown",
   "source": "##### Risc alt",
   "id": "5fd7cd0228563415"
  },
  {
   "metadata": {},
   "cell_type": "code",
   "source": [
    "t_stat_12, p_val_12 = ttest_ind(AMB_PA['EMINA sumatori comparat'].between(11,15), AMB_PA_MECVV['EMINA sumatori comparat'].between(11,15), equal_var=False)\n",
    "print(\"P-valor entre AMB_PA i AMB_PA_MECVV:\", p_val_12)"
   ],
   "id": "b291b49b7cfd7801",
   "outputs": [],
   "execution_count": null
  },
  {
   "metadata": {},
   "cell_type": "code",
   "source": [
    "t_stat_13, p_val_13 = ttest_ind(AMB_PA['EMINA sumatori comparat'].between(11,15), SENSE_PA['EMINA sumatori comparat'].between(11,15), equal_var=False)\n",
    "print(\"P-valor entre AMB_PA i SENSE_PA:\", p_val_13)"
   ],
   "id": "2d400de538a5c526",
   "outputs": [],
   "execution_count": null
  },
  {
   "metadata": {},
   "cell_type": "code",
   "source": [
    "t_stat_23, p_val_23 = ttest_ind(AMB_PA_MECVV['EMINA sumatori comparat'].between(11,15), SENSE_PA['EMINA sumatori comparat'].between(11,15), equal_var=False)\n",
    "print(\"P-valor entre AMB_PA_MECVV i SENSE_PA:\", p_val_23)"
   ],
   "id": "3b22981463d49b29",
   "outputs": [],
   "execution_count": null
  },
  {
   "metadata": {},
   "cell_type": "code",
   "source": [
    "t_stat_14, p_val_14 = ttest_ind(AMB_PA['EMINA sumatori comparat'].between(11,15), TOTAL['EMINA sumatori comparat'].between(11,15), equal_var=False)\n",
    "print(\"P-valor entre AMB_PA i TOTAL:\", p_val_14)"
   ],
   "id": "e8e88836ff43adfd",
   "outputs": [],
   "execution_count": null
  },
  {
   "metadata": {},
   "cell_type": "code",
   "source": [
    "t_stat_24, p_val_24 = ttest_ind(AMB_PA_MECVV['EMINA sumatori comparat'].between(11,15), TOTAL['EMINA sumatori comparat'].between(11,15), equal_var=False)\n",
    "print(\"P-valor entre AMB_PA_MECVV i TOTAL:\", p_val_24)"
   ],
   "id": "16d75fa2497a7ec0",
   "outputs": [],
   "execution_count": null
  },
  {
   "metadata": {},
   "cell_type": "code",
   "source": [
    "t_stat_34, p_val_34 = ttest_ind(SENSE_PA['EMINA sumatori comparat'].between(11,15), TOTAL['EMINA sumatori comparat'].between(11,15), equal_var=False)\n",
    "print(\"P-valor entre SENSE_PA i TOTAL:\", p_val_34)"
   ],
   "id": "b9750e1912eb7d82",
   "outputs": [],
   "execution_count": null
  },
  {
   "metadata": {},
   "cell_type": "markdown",
   "source": "## Index de la canadenca (escala neurològica canadenca)",
   "id": "5056539fa7987019"
  },
  {
   "metadata": {},
   "cell_type": "markdown",
   "source": "### Mitjana",
   "id": "de9fe3b93db47a5d"
  },
  {
   "metadata": {},
   "cell_type": "code",
   "source": [
    "Mitjana_canad = AMB_PA['Canadenca sumatori comparat'].mean()\n",
    "desviacio_estandard_canad = AMB_PA['Canadenca sumatori comparat'].std()\n",
    "\n",
    "resultat = f\"{Mitjana_canad:.2f} ± {desviacio_estandard_canad:.2f}\"\n",
    "print(\"Mitjana ± Desviació Estàndard de la canadenca:\", resultat)"
   ],
   "id": "f315485a25330ace",
   "outputs": [],
   "execution_count": null
  },
  {
   "metadata": {},
   "cell_type": "code",
   "source": [
    "Mitjana_canad = AMB_PA_MECVV['Canadenca sumatori comparat'].mean()\n",
    "desviacio_estandard_canad = AMB_PA_MECVV['Canadenca sumatori comparat'].std()\n",
    "\n",
    "resultat = f\"{Mitjana_canad:.2f} ± {desviacio_estandard_canad:.2f}\"\n",
    "print(\"Mitjana ± Desviació Estàndard de la canadenca:\", resultat)"
   ],
   "id": "42578915c64daa4c",
   "outputs": [],
   "execution_count": null
  },
  {
   "metadata": {},
   "cell_type": "code",
   "source": [
    "Mitjana_canad = SENSE_PA['Canadenca sumatori comparat'].mean()\n",
    "desviacio_estandard_canad = SENSE_PA['Canadenca sumatori comparat'].std()\n",
    "\n",
    "resultat = f\"{Mitjana_canad:.2f} ± {desviacio_estandard_canad:.2f}\"\n",
    "print(\"Mitjana ± Desviació Estàndard de la canadenca:\", resultat)"
   ],
   "id": "28244115d66ef30d",
   "outputs": [],
   "execution_count": null
  },
  {
   "metadata": {},
   "cell_type": "code",
   "source": [
    "Mitjana_canad = TOTAL['Canadenca sumatori comparat'].mean()\n",
    "desviacio_estandard_canad = TOTAL['Canadenca sumatori comparat'].std()\n",
    "\n",
    "resultat = f\"{Mitjana_canad:.2f} ± {desviacio_estandard_canad:.2f}\"\n",
    "print(\"Mitjana ± Desviació Estàndard de la canadenca:\", resultat)"
   ],
   "id": "318315e795758888",
   "outputs": [],
   "execution_count": null
  },
  {
   "metadata": {},
   "cell_type": "markdown",
   "source": "#### Comparació distributiva",
   "id": "6354bda0e179eb04"
  },
  {
   "metadata": {},
   "cell_type": "markdown",
   "source": "##### Normalitat",
   "id": "938ad17a698e9c0c"
  },
  {
   "metadata": {},
   "cell_type": "code",
   "source": [
    "stat, p_value = shapiro(AMB_PA['Canadenca sumatori comparat'])\n",
    "print(f\"Estadístic W = {stat:.4f}\")\n",
    "print(f\"Valor p = {p_value:.4f}\")\n",
    "\n",
    "alpha = 0.05\n",
    "if p_value < alpha:\n",
    "    print(\"El nombre de files no segueix una distribució normal.\")\n",
    "else:\n",
    "    print(\"El nombre de files segueix una distribució normal.\")"
   ],
   "id": "a4c87af407fd3808",
   "outputs": [],
   "execution_count": null
  },
  {
   "metadata": {},
   "cell_type": "code",
   "source": [
    "stat, p_value = shapiro(AMB_PA_MECVV['Canadenca sumatori comparat'])\n",
    "print(f\"Estadístic W = {stat:.4f}\")\n",
    "print(f\"Valor p = {p_value:.4f}\")\n",
    "\n",
    "alpha = 0.05\n",
    "if p_value < alpha:\n",
    "    print(\"El nombre de files no segueix una distribució normal.\")\n",
    "else:\n",
    "    print(\"El nombre de files segueix una distribució normal.\")"
   ],
   "id": "dcf3d0c7212275ae",
   "outputs": [],
   "execution_count": null
  },
  {
   "metadata": {},
   "cell_type": "code",
   "source": [
    "stat, p_value = shapiro(SENSE_PA['Canadenca sumatori comparat'])\n",
    "print(f\"Estadístic W = {stat:.4f}\")\n",
    "print(f\"Valor p = {p_value:.4f}\")\n",
    "\n",
    "alpha = 0.05\n",
    "if p_value < alpha:\n",
    "    print(\"El nombre de files no segueix una distribució normal.\")\n",
    "else:\n",
    "    print(\"El nombre de files segueix una distribució normal.\")"
   ],
   "id": "8da47ac594412fe2",
   "outputs": [],
   "execution_count": null
  },
  {
   "metadata": {},
   "cell_type": "code",
   "source": [
    "stat, p_value = shapiro(TOTAL['Canadenca sumatori comparat'])\n",
    "print(f\"Estadístic W = {stat:.4f}\")\n",
    "print(f\"Valor p = {p_value:.4f}\")\n",
    "\n",
    "alpha = 0.05\n",
    "if p_value < alpha:\n",
    "    print(\"El nombre de files no segueix una distribució normal.\")\n",
    "else:\n",
    "    print(\"El nombre de files segueix una distribució normal.\")"
   ],
   "id": "cb62e89490bc560e",
   "outputs": [],
   "execution_count": null
  },
  {
   "metadata": {},
   "cell_type": "code",
   "source": [
    "t_stat_12, p_val_12 = ttest_ind(AMB_PA['Canadenca sumatori comparat'], AMB_PA_MECVV['Canadenca sumatori comparat'], equal_var=False)\n",
    "print(\"P-valor entre AMB_PA i AMB_PA_MECVV:\", p_val_12)"
   ],
   "id": "607d662547537bd",
   "outputs": [],
   "execution_count": null
  },
  {
   "metadata": {},
   "cell_type": "code",
   "source": [
    "t_stat_13, p_val_13 = ttest_ind(AMB_PA['Canadenca sumatori comparat'], SENSE_PA['Canadenca sumatori comparat'], equal_var=False)\n",
    "print(\"P-valor entre AMB_PA i SENSE_PA:\", p_val_13)"
   ],
   "id": "9e5b0ff4c887dbfd",
   "outputs": [],
   "execution_count": null
  },
  {
   "metadata": {},
   "cell_type": "code",
   "source": [
    "t_stat_23, p_val_23 = ttest_ind(AMB_PA_MECVV['Canadenca sumatori comparat'], SENSE_PA['Canadenca sumatori comparat'], equal_var=False)\n",
    "print(\"P-valor entre AMB_PA_MECVV i SENSE_PA:\", p_val_23)"
   ],
   "id": "1ea57b7e52ab052d",
   "outputs": [],
   "execution_count": null
  },
  {
   "metadata": {},
   "cell_type": "code",
   "source": [
    "t_stat_14, p_val_14 = ttest_ind(AMB_PA['Canadenca sumatori comparat'], TOTAL['Canadenca sumatori comparat'], equal_var=False)\n",
    "print(\"P-valor entre AMB_PA i TOTAL:\", p_val_14)"
   ],
   "id": "fa68f97bae987a7c",
   "outputs": [],
   "execution_count": null
  },
  {
   "metadata": {},
   "cell_type": "code",
   "source": [
    "t_stat_24, p_val_24 = ttest_ind(AMB_PA_MECVV['Canadenca sumatori comparat'], TOTAL['Canadenca sumatori comparat'], equal_var=False)\n",
    "print(\"P-valor entre AMB_PA_MECVV i TOTAL:\", p_val_24)"
   ],
   "id": "af247bcf43601bfb",
   "outputs": [],
   "execution_count": null
  },
  {
   "metadata": {},
   "cell_type": "code",
   "source": [
    "t_stat_34, p_val_34 = ttest_ind(SENSE_PA['Canadenca sumatori comparat'], TOTAL['Canadenca sumatori comparat'], equal_var=False)\n",
    "print(\"P-valor entre SENSE_PA i TOTAL:\", p_val_34)"
   ],
   "id": "e4e6267883c1efb",
   "outputs": [],
   "execution_count": null
  },
  {
   "metadata": {},
   "cell_type": "markdown",
   "source": "### Valors canadenca",
   "id": "bd3bf859cf9f0c4c"
  },
  {
   "metadata": {},
   "cell_type": "markdown",
   "source": "##### AMB_PA ",
   "id": "aba9b47507424343"
  },
  {
   "metadata": {},
   "cell_type": "code",
   "source": [
    "mild_AMB_PA = AMB_PA['Canadenca sumatori comparat'].between(10.5, 11.5)\n",
    "Percentatge_mild_AMB_PA = mild_AMB_PA.mean() * 100\n",
    "num_observacions_mild_AMB_PA = mild_AMB_PA.sum()\n",
    "\n",
    "print(f\"Percentatge de mild_AMB_PA: {Percentatge_mild_AMB_PA:.2f}%\")\n",
    "print(f\"Nombre d'observacions en mild_AMB_PA: {num_observacions_mild_AMB_PA}\")"
   ],
   "id": "65c87765592301ae",
   "outputs": [],
   "execution_count": null
  },
  {
   "metadata": {},
   "cell_type": "code",
   "source": [
    "modneu_AMB_PA = AMB_PA['Canadenca sumatori comparat'].between(5,10)\n",
    "Percentatge_modneu_AMB_PA = modneu_AMB_PA.mean() * 100\n",
    "num_observacions_modneu_AMB_PA = modneu_AMB_PA.sum()\n",
    "\n",
    "print(f\"Percentatge de modneu_AMB_PA: {Percentatge_modneu_AMB_PA:.2f}%\")\n",
    "print(f\"Nombre d'observacions en modneu_AMB_PA: {num_observacions_modneu_AMB_PA}\")"
   ],
   "id": "1442231e84ac756e",
   "outputs": [],
   "execution_count": null
  },
  {
   "metadata": {},
   "cell_type": "code",
   "source": [
    "sevneu_AMB_PA = AMB_PA['Canadenca sumatori comparat'].between(1.5, 4.5)\n",
    "Percentatge_sevneu_AMB_PA = sevneu_AMB_PA.mean() * 100\n",
    "num_observacions_sevneu_AMB_PA = sevneu_AMB_PA.sum()\n",
    "\n",
    "print(f\"Percentatge de sevneu_AMB_PA: {Percentatge_sevneu_AMB_PA:.2f}%\")\n",
    "print(f\"Nombre d'observacions en sevneu_AMB_PA: {num_observacions_sevneu_AMB_PA}\")"
   ],
   "id": "586734927dd28815",
   "outputs": [],
   "execution_count": null
  },
  {
   "metadata": {},
   "cell_type": "markdown",
   "source": "##### AMB_PA_MECVV",
   "id": "f03643daf5c46168"
  },
  {
   "metadata": {},
   "cell_type": "code",
   "source": [
    "mild_AMB_PA_MECVV = AMB_PA_MECVV['Canadenca sumatori comparat'].between(10.5, 11.5)\n",
    "Percentatge_mild_AMB_PA_MECVV = mild_AMB_PA_MECVV.mean() * 100\n",
    "num_observacions_mild_AMB_PA_MECVV = mild_AMB_PA_MECVV.sum()\n",
    "\n",
    "print(f\"Percentatge de mild_AMB_PA_MECVV: {Percentatge_mild_AMB_PA_MECVV:.2f}%\")\n",
    "print(f\"Nombre d'observacions en mild_AMB_PA_MECVV: {num_observacions_mild_AMB_PA_MECVV}\")"
   ],
   "id": "57347bcca5478fa7",
   "outputs": [],
   "execution_count": null
  },
  {
   "metadata": {},
   "cell_type": "code",
   "source": [
    "modneu_AMB_PA_MECVV = AMB_PA_MECVV['Canadenca sumatori comparat'].between(5,10)\n",
    "Percentatge_modneu_AMB_PA_MECVV = modneu_AMB_PA_MECVV.mean() * 100\n",
    "num_observacions_modneu_AMB_PA_MECVV = modneu_AMB_PA_MECVV.sum()\n",
    "\n",
    "print(f\"Percentatge de modneu_AMB_PA_MECVV: {Percentatge_modneu_AMB_PA_MECVV:.2f}%\")\n",
    "print(f\"Nombre d'observacions en modneu_AMB_PA_MECVV: {num_observacions_modneu_AMB_PA_MECVV}\")"
   ],
   "id": "be2a9404e79e283",
   "outputs": [],
   "execution_count": null
  },
  {
   "metadata": {},
   "cell_type": "code",
   "source": [
    "sevneu_AMB_PA_MECVV = AMB_PA_MECVV['Canadenca sumatori comparat'].between(1.5, 4.5)\n",
    "Percentatge_sevneu_AMB_PA_MECVV = sevneu_AMB_PA_MECVV.mean() * 100\n",
    "num_observacions_sevneu_AMB_PA_MECVV = sevneu_AMB_PA_MECVV.sum()\n",
    "\n",
    "print(f\"Percentatge de sevneu_AMB_PA_MECVV: {Percentatge_sevneu_AMB_PA_MECVV:.2f}%\")\n",
    "print(f\"Nombre d'observacions en sevneu_AMB_PA_MECVV: {num_observacions_sevneu_AMB_PA_MECVV}\")"
   ],
   "id": "c712d55b14205c2d",
   "outputs": [],
   "execution_count": null
  },
  {
   "metadata": {},
   "cell_type": "markdown",
   "source": "##### SENSE_PA",
   "id": "d6b64c5ca280741f"
  },
  {
   "metadata": {},
   "cell_type": "code",
   "source": [
    "mild_SENSE_PA = SENSE_PA['Canadenca sumatori comparat'].between(10.5, 11.5)\n",
    "Percentatge_mild_SENSE_PA = mild_SENSE_PA.mean() * 100\n",
    "num_observacions_mild_SENSE_PA = mild_SENSE_PA.sum()\n",
    "\n",
    "print(f\"Percentatge de mild_SENSE_PA: {Percentatge_mild_SENSE_PA:.2f}%\")\n",
    "print(f\"Nombre d'observacions en mild_SENSE_PA: {num_observacions_mild_SENSE_PA}\")"
   ],
   "id": "61008dd57d322928",
   "outputs": [],
   "execution_count": null
  },
  {
   "metadata": {},
   "cell_type": "code",
   "source": [
    "modneu_SENSE_PA = SENSE_PA['Canadenca sumatori comparat'].between(5,10)\n",
    "Percentatge_modneu_SENSE_PA = modneu_SENSE_PA.mean() * 100\n",
    "num_observacions_modneu_SENSE_PA = modneu_SENSE_PA.sum()\n",
    "\n",
    "print(f\"Percentatge de modneu_SENSE_PA: {Percentatge_modneu_SENSE_PA:.2f}%\")\n",
    "print(f\"Nombre d'observacions en modneu_SENSE_PA: {num_observacions_modneu_SENSE_PA}\")"
   ],
   "id": "d93cb1dc52c2e4a3",
   "outputs": [],
   "execution_count": null
  },
  {
   "metadata": {},
   "cell_type": "code",
   "source": [
    "sevneu_SENSE_PA = SENSE_PA['Canadenca sumatori comparat'].between(1.5, 4.5)\n",
    "Percentatge_sevneu_SENSE_PA = sevneu_SENSE_PA.mean() * 100\n",
    "num_observacions_sevneu_SENSE_PA = sevneu_SENSE_PA.sum()\n",
    "\n",
    "print(f\"Percentatge de sevneu_SENSE_PA: {Percentatge_sevneu_SENSE_PA:.2f}%\")\n",
    "print(f\"Nombre d'observacions en sevneu_SENSE_PA: {num_observacions_sevneu_SENSE_PA}\")"
   ],
   "id": "c2bd8e7e46f3f6fa",
   "outputs": [],
   "execution_count": null
  },
  {
   "metadata": {},
   "cell_type": "markdown",
   "source": "##### TOTAL",
   "id": "bb0ea4db501e7bcf"
  },
  {
   "metadata": {},
   "cell_type": "code",
   "source": [
    "mild_TOTAL = TOTAL['Canadenca sumatori comparat'].between(10.5, 11.5)\n",
    "Percentatge_mild_TOTAL = mild_TOTAL.mean() * 100\n",
    "num_observacions_mild_TOTAL = mild_TOTAL.sum()\n",
    "\n",
    "print(f\"Percentatge de mild_TOTAL: {Percentatge_mild_TOTAL:.2f}%\")\n",
    "print(f\"Nombre d'observacions en mild_TOTAL: {num_observacions_mild_TOTAL}\")"
   ],
   "id": "5b5a283e50c08041",
   "outputs": [],
   "execution_count": null
  },
  {
   "metadata": {},
   "cell_type": "code",
   "source": [
    "modneu_TOTAL = TOTAL['Canadenca sumatori comparat'].between(5,10)\n",
    "Percentatge_modneu_TOTAL = modneu_TOTAL.mean() * 100\n",
    "num_observacions_modneu_TOTAL = modneu_TOTAL.sum()\n",
    "\n",
    "print(f\"Percentatge de modneu_TOTAL: {Percentatge_modneu_TOTAL:.2f}%\")\n",
    "print(f\"Nombre d'observacions en modneu_TOTAL: {num_observacions_modneu_TOTAL}\")"
   ],
   "id": "e3a7d9fe2d016f93",
   "outputs": [],
   "execution_count": null
  },
  {
   "metadata": {},
   "cell_type": "code",
   "source": [
    "sevneu_TOTAL = TOTAL['Canadenca sumatori comparat'].between(1.5, 4.5)\n",
    "Percentatge_sevneu_TOTAL = sevneu_TOTAL.mean() * 100\n",
    "num_observacions_sevneu_TOTAL = sevneu_TOTAL.sum()\n",
    "\n",
    "print(f\"Percentatge de sevneu_TOTAL: {Percentatge_sevneu_TOTAL:.2f}%\")\n",
    "print(f\"Nombre d'observacions en sevneu_TOTAL: {num_observacions_sevneu_TOTAL}\")"
   ],
   "id": "e1b44f25caefde1",
   "outputs": [],
   "execution_count": null
  },
  {
   "metadata": {},
   "cell_type": "markdown",
   "source": "#### Comparació distributiva",
   "id": "d3c987c2989e5129"
  },
  {
   "metadata": {},
   "cell_type": "markdown",
   "source": "##### Dèficit neurològic lleuger (mild)",
   "id": "434c4358f4a229a0"
  },
  {
   "metadata": {},
   "cell_type": "code",
   "source": [
    "t_stat_12, p_val_12 = ttest_ind(AMB_PA['Canadenca sumatori comparat'].between(10.5,11.5), AMB_PA_MECVV['Canadenca sumatori comparat'].between(10.5,11.5), equal_var=False)\n",
    "print(\"P-valor entre AMB_PA i AMB_PA_MECVV:\", p_val_12)"
   ],
   "id": "c73d6b247f483fed",
   "outputs": [],
   "execution_count": null
  },
  {
   "metadata": {},
   "cell_type": "code",
   "source": [
    "t_stat_13, p_val_13 = ttest_ind(AMB_PA['Canadenca sumatori comparat'].between(10.5,11.5), SENSE_PA['Canadenca sumatori comparat'].between(10.5,11.5), equal_var=False)\n",
    "print(\"P-valor entre AMB_PA i SENSE_PA:\", p_val_13)"
   ],
   "id": "60e422a1a3bbc0b0",
   "outputs": [],
   "execution_count": null
  },
  {
   "metadata": {},
   "cell_type": "code",
   "source": [
    "t_stat_23, p_val_23 = ttest_ind(AMB_PA_MECVV['Canadenca sumatori comparat'].between(10.5,11.5), SENSE_PA['Canadenca sumatori comparat'].between(10.5,11.5), equal_var=False)\n",
    "print(\"P-valor entre AMB_PA_MECVV i SENSE_PA:\", p_val_23)"
   ],
   "id": "c075274c183bac63",
   "outputs": [],
   "execution_count": null
  },
  {
   "metadata": {},
   "cell_type": "code",
   "source": [
    "t_stat_14, p_val_14 = ttest_ind(AMB_PA['Canadenca sumatori comparat'].between(10.5,11.5), TOTAL['Canadenca sumatori comparat'].between(10.5,11.5), equal_var=False)\n",
    "print(\"P-valor entre AMB_PA i TOTAL:\", p_val_14)"
   ],
   "id": "b8307aa770173383",
   "outputs": [],
   "execution_count": null
  },
  {
   "metadata": {},
   "cell_type": "code",
   "source": [
    "t_stat_24, p_val_24 = ttest_ind(AMB_PA_MECVV['Canadenca sumatori comparat'].between(10.5,11.5), TOTAL['Canadenca sumatori comparat'].between(10.5,11.5), equal_var=False)\n",
    "print(\"P-valor entre AMB_PA_MECVV i TOTAL:\", p_val_24)"
   ],
   "id": "a42a0ab64b0c9f31",
   "outputs": [],
   "execution_count": null
  },
  {
   "metadata": {},
   "cell_type": "code",
   "source": [
    "t_stat_34, p_val_34 = ttest_ind(SENSE_PA['Canadenca sumatori comparat'].between(10.5,11.5), TOTAL['Canadenca sumatori comparat'].between(10.5,11.5), equal_var=False)\n",
    "print(\"P-valor entre SENSE_PA i TOTAL:\", p_val_34)"
   ],
   "id": "2d36d8f40806a654",
   "outputs": [],
   "execution_count": null
  },
  {
   "metadata": {},
   "cell_type": "markdown",
   "source": "##### Dèficit neurològic moderat",
   "id": "552ccd99227faf82"
  },
  {
   "metadata": {},
   "cell_type": "code",
   "source": [
    "t_stat_12, p_val_12 = ttest_ind(AMB_PA['Canadenca sumatori comparat'].between(5,10), AMB_PA_MECVV['Canadenca sumatori comparat'].between(5, 10), equal_var=False)\n",
    "print(\"P-valor entre AMB_PA i AMB_PA_MECVV:\", p_val_12)"
   ],
   "id": "e94a1d27fb89e47b",
   "outputs": [],
   "execution_count": null
  },
  {
   "metadata": {},
   "cell_type": "code",
   "source": [
    "t_stat_13, p_val_13 = ttest_ind(AMB_PA['Canadenca sumatori comparat'].between(5,10), SENSE_PA['Canadenca sumatori comparat'].between(5, 10), equal_var=False)\n",
    "print(\"P-valor entre AMB_PA i SENSE_PA:\", p_val_13)"
   ],
   "id": "b8a25453cf521a60",
   "outputs": [],
   "execution_count": null
  },
  {
   "metadata": {},
   "cell_type": "code",
   "source": [
    "t_stat_23, p_val_23 = ttest_ind(AMB_PA_MECVV['Canadenca sumatori comparat'].between(5,10), SENSE_PA['Canadenca sumatori comparat'].between(5, 10), equal_var=False)\n",
    "print(\"P-valor entre AMB_PA_MECVV i SENSE_PA:\", p_val_23)"
   ],
   "id": "42d8b634d6f77cf8",
   "outputs": [],
   "execution_count": null
  },
  {
   "metadata": {},
   "cell_type": "code",
   "source": [
    "t_stat_14, p_val_14 = ttest_ind(AMB_PA['Canadenca sumatori comparat'].between(5,10), TOTAL['Canadenca sumatori comparat'].between(5, 10), equal_var=False)\n",
    "print(\"P-valor entre AMB_PA i TOTAL:\", p_val_14)"
   ],
   "id": "567a2af9e4d4dc07",
   "outputs": [],
   "execution_count": null
  },
  {
   "metadata": {},
   "cell_type": "code",
   "source": [
    "t_stat_24, p_val_24 = ttest_ind(AMB_PA_MECVV['Canadenca sumatori comparat'].between(5,10), TOTAL['Canadenca sumatori comparat'].between(5, 10), equal_var=False)\n",
    "print(\"P-valor entre AMB_PA_MECVV i TOTAL:\", p_val_24)"
   ],
   "id": "2d3eb5874198cd91",
   "outputs": [],
   "execution_count": null
  },
  {
   "metadata": {},
   "cell_type": "code",
   "source": [
    "t_stat_34, p_val_34 = ttest_ind(SENSE_PA['Canadenca sumatori comparat'].between(5,10), TOTAL['Canadenca sumatori comparat'].between(5, 10), equal_var=False)\n",
    "print(\"P-valor entre SENSE_PA i TOTAL:\", p_val_34)"
   ],
   "id": "6f3e4f047bd4f5e4",
   "outputs": [],
   "execution_count": null
  },
  {
   "metadata": {},
   "cell_type": "markdown",
   "source": "##### Dèficit neurològic greu (sever)",
   "id": "28b3b79ffa4ba154"
  },
  {
   "metadata": {},
   "cell_type": "code",
   "source": [
    "t_stat_12, p_val_12 = ttest_ind(AMB_PA['Canadenca sumatori comparat'].between(1.5,4.5), AMB_PA_MECVV['Canadenca sumatori comparat'].between(1.5,4.5), equal_var=False)\n",
    "print(\"P-valor entre AMB_PA i AMB_PA_MECVV:\", p_val_12)"
   ],
   "id": "1375c0dec76e62b5",
   "outputs": [],
   "execution_count": null
  },
  {
   "metadata": {},
   "cell_type": "code",
   "source": [
    "t_stat_13, p_val_13 = ttest_ind(AMB_PA['Canadenca sumatori comparat'].between(1.5, 4.5), SENSE_PA['Canadenca sumatori comparat'].between(1.5, 4.5), equal_var=False)\n",
    "print(\"P-valor entre AMB_PA i SENSE_PA:\", p_val_13)"
   ],
   "id": "b9b1bd499fc47c40",
   "outputs": [],
   "execution_count": null
  },
  {
   "metadata": {},
   "cell_type": "code",
   "source": [
    "t_stat_23, p_val_23 = ttest_ind(AMB_PA_MECVV['Canadenca sumatori comparat'].between(1.5,4.5), SENSE_PA['Canadenca sumatori comparat'].between(1.5, 4.5), equal_var=False)\n",
    "print(\"P-valor entre AMB_PA_MECVV i SENSE_PA:\", p_val_23)"
   ],
   "id": "f4a9f79d4781e2f6",
   "outputs": [],
   "execution_count": null
  },
  {
   "metadata": {},
   "cell_type": "code",
   "source": [
    "t_stat_14, p_val_14 = ttest_ind(AMB_PA['Canadenca sumatori comparat'].between(1.5,4.5), TOTAL['Canadenca sumatori comparat'].between(1.5,4.5), equal_var=False)\n",
    "print(\"P-valor entre AMB_PA i TOTAL:\", p_val_14)"
   ],
   "id": "12c76e74591e767c",
   "outputs": [],
   "execution_count": null
  },
  {
   "metadata": {},
   "cell_type": "code",
   "source": [
    "t_stat_24, p_val_24 = ttest_ind(AMB_PA_MECVV['Canadenca sumatori comparat'].between(1.5,4.5), TOTAL['Canadenca sumatori comparat'].between(1.5,4.5), equal_var=False)\n",
    "print(\"P-valor entre AMB_PA_MECVV i TOTAL:\", p_val_24)"
   ],
   "id": "f1b6cfddd36d1f24",
   "outputs": [],
   "execution_count": null
  },
  {
   "metadata": {},
   "cell_type": "code",
   "source": [
    "t_stat_34, p_val_34 = ttest_ind(SENSE_PA['Canadenca sumatori comparat'].between(1.5,4.5), TOTAL['Canadenca sumatori comparat'].between(1.5,4.5), equal_var=False)\n",
    "print(\"P-valor entre SENSE_PA i TOTAL:\", p_val_34)"
   ],
   "id": "f1bf7b7ba092a4b4",
   "outputs": [],
   "execution_count": null
  },
  {
   "metadata": {},
   "cell_type": "markdown",
   "source": "## Infeccions respiratòries",
   "id": "1c243e776c0acbcb"
  },
  {
   "metadata": {},
   "cell_type": "markdown",
   "source": "##### AMB_PA ",
   "id": "75cdc96e688bb6e5"
  },
  {
   "metadata": {},
   "cell_type": "code",
   "source": [
    "mainresp_AMB_PA= (AMB_PA['Infeccions respiratòries principals diagnosticades'] == 1.0).mean() * 100\n",
    "print(f\"Percentatge de infeccions respiratòries principals : {mainresp_AMB_PA:.2f}%\")"
   ],
   "id": "6b4ac9f955c7ef70",
   "outputs": [],
   "execution_count": null
  },
  {
   "metadata": {},
   "cell_type": "code",
   "source": [
    "LRTI_AMB_PA= (AMB_PA['LRTI diagnosticada'] == 1.0).mean() * 100\n",
    "print(f\"Percentatge de LRTI: {LRTI_AMB_PA:.2f}%\")"
   ],
   "id": "f2cab9c85d7b18bf",
   "outputs": [],
   "execution_count": null
  },
  {
   "metadata": {},
   "cell_type": "code",
   "source": [
    "COPD_AMB_PA= (AMB_PA['Exacerbacions de COPD diagnosticades'] == 1.0).mean() * 100\n",
    "print(f\"Percentatge de exacerbacions de COPD: {COPD_AMB_PA:.2f}%\")"
   ],
   "id": "e92f1139bdd11207",
   "outputs": [],
   "execution_count": null
  },
  {
   "metadata": {},
   "cell_type": "code",
   "source": [
    "fibro_AMB_PA= (AMB_PA['Fibrosi pulmonar i fibrotòrax diagnosticades'] == 1.0).mean() * 100\n",
    "print(f\"Percentatge de fibrosi pulmonar i fibrotòrax: {fibro_AMB_PA:.2f}%\")"
   ],
   "id": "f60fd9578e2dc543",
   "outputs": [],
   "execution_count": null
  },
  {
   "metadata": {},
   "cell_type": "markdown",
   "source": "##### AMB_PA_MECVV",
   "id": "a81ccd9e1687fa90"
  },
  {
   "metadata": {},
   "cell_type": "code",
   "source": [
    "mainresp_AMB_PA_MECVV= (AMB_PA_MECVV['Infeccions respiratòries principals diagnosticades'] == 1.0).mean() * 100\n",
    "print(f\"Percentatge de infeccions respiratòries principals : {mainresp_AMB_PA_MECVV:.2f}%\")"
   ],
   "id": "b33098c2a54d36b5",
   "outputs": [],
   "execution_count": null
  },
  {
   "metadata": {},
   "cell_type": "code",
   "source": [
    "LRTI_AMB_PA_MECVV= (AMB_PA_MECVV['LRTI diagnosticada'] == 1.0).mean() * 100\n",
    "print(f\"Percentatge de LRTI: {LRTI_AMB_PA_MECVV:.2f}%\")"
   ],
   "id": "f85be13f8ff8a16d",
   "outputs": [],
   "execution_count": null
  },
  {
   "metadata": {},
   "cell_type": "code",
   "source": [
    "COPD_AMB_PA_MECVV = (AMB_PA_MECVV['Exacerbacions de COPD diagnosticades'] == 1.0).mean() * 100\n",
    "print(f\"Percentatge de exacerbacions de COPD: {COPD_AMB_PA_MECVV:.2f}%\")"
   ],
   "id": "d490fe0fa5146ba1",
   "outputs": [],
   "execution_count": null
  },
  {
   "metadata": {},
   "cell_type": "code",
   "source": [
    "fibro_AMB_PA_MECVV = (AMB_PA_MECVV['Fibrosi pulmonar i fibrotòrax diagnosticades'] == 1.0).mean() * 100\n",
    "print(f\"Percentatge de fibrosi pulmonar i fibrotòrax: {fibro_AMB_PA_MECVV:.2f}%\")"
   ],
   "id": "719cbe71770c9c5d",
   "outputs": [],
   "execution_count": null
  },
  {
   "metadata": {},
   "cell_type": "markdown",
   "source": "##### SENSE_PA",
   "id": "4ee57a32f85d8da"
  },
  {
   "metadata": {},
   "cell_type": "code",
   "source": [
    "mainresp_SENSE_PA= (SENSE_PA['Infeccions respiratòries principals diagnosticades'] == 1.0).mean() * 100\n",
    "print(f\"Percentatge de infeccions respiratòries principals : {mainresp_SENSE_PA:.2f}%\")"
   ],
   "id": "13154b248379e6da",
   "outputs": [],
   "execution_count": null
  },
  {
   "metadata": {},
   "cell_type": "code",
   "source": [
    "LRTI_SENSE_PA= (SENSE_PA['LRTI diagnosticada'] == 1.0).mean() * 100\n",
    "print(f\"Percentatge de LRTI: {LRTI_SENSE_PA:.2f}%\")"
   ],
   "id": "7b6d0993a6d8d0f7",
   "outputs": [],
   "execution_count": null
  },
  {
   "metadata": {},
   "cell_type": "code",
   "source": [
    "COPD_SENSE_PA= (SENSE_PA['Exacerbacions de COPD diagnosticades'] == 1.0).mean() * 100\n",
    "print(f\"Percentatge de exacerbacions de COPD: {COPD_SENSE_PA:.2f}%\")"
   ],
   "id": "2fde8b1f558da814",
   "outputs": [],
   "execution_count": null
  },
  {
   "metadata": {},
   "cell_type": "code",
   "source": [
    "fibro_SENSE_PA= (SENSE_PA['Fibrosi pulmonar i fibrotòrax diagnosticades'] == 1.0).mean() * 100\n",
    "print(f\"Percentatge de fibrosi pulmonar i fibrotòrax: {fibro_SENSE_PA:.2f}%\")"
   ],
   "id": "9ec61073db25b76d",
   "outputs": [],
   "execution_count": null
  },
  {
   "metadata": {},
   "cell_type": "markdown",
   "source": "#### Comparació distributiva",
   "id": "e4b7d99054b0af12"
  },
  {
   "metadata": {},
   "cell_type": "markdown",
   "source": "##### Infeccions respiratòries principals ",
   "id": "5e8e1e8b1c32f8ad"
  },
  {
   "metadata": {},
   "cell_type": "code",
   "source": [
    "contingency_table_12 = pd.crosstab(index=AMB_PA['Infeccions respiratòries principals diagnosticades'], columns=AMB_PA_MECVV['Infeccions respiratòries principals diagnosticades'])\n",
    "\n",
    "chi2_12, p_value_12, dof_12, expected_12 = chi2_contingency(contingency_table_12)\n",
    "\n",
    "print(\"Estadístic xi-quadrat entre AMB_PA i AMB_PA_MECVV:\", chi2_12)\n",
    "print(\"P-valor entre AMB_PA i AMB_PA_MECVV:\", p_value_12)\n",
    "\n",
    "if p_value_12 < 0.05:\n",
    "    print(\"Hi ha diferències significatives entre les distribucions d'infeccions respiratòries en AMB_PA i AMB_PA_MECVV.\")\n",
    "else:\n",
    "    print(\"No hi ha diferències significatives entre les distribucions d'infeccions respiratòries en AMB_PA i AMB_PA_MECVV.\")"
   ],
   "id": "db72a64133768bd1",
   "outputs": [],
   "execution_count": null
  },
  {
   "metadata": {},
   "cell_type": "code",
   "source": [
    "contingency_table_13 = pd.crosstab(index=AMB_PA['Infeccions respiratòries principals diagnosticades'], columns=SENSE_PA['Infeccions respiratòries principals diagnosticades'])\n",
    "\n",
    "chi2_13, p_value_13, dof_13, expected_13 = chi2_contingency(contingency_table_13)\n",
    "\n",
    "print(\"Estadístic xi-quadrat entre AMB_PA i SENSE_PA:\", chi2_13)\n",
    "print(\"P-valor entre AMB_PA i SENSE_PA:\", p_value_13)\n",
    "\n",
    "if p_value_13 < 0.05:\n",
    "    print(\"Hi ha diferències significatives entre les distribucions d'infeccions respiratòries en AMB_PA i SENSE_PA.\")\n",
    "else:\n",
    "    print(\"No hi ha diferències significatives entre les distribucions d'infeccions respiratòries en AMB_PA i SENSE_PA.\")"
   ],
   "id": "40d95109cbdff899",
   "outputs": [],
   "execution_count": null
  },
  {
   "metadata": {},
   "cell_type": "code",
   "source": [
    "contingency_table_23 = pd.crosstab(index=AMB_PA_MECVV['Infeccions respiratòries principals diagnosticades'], columns=SENSE_PA['Infeccions respiratòries principals diagnosticades'])\n",
    "\n",
    "chi2_23, p_value_23, dof_23, expected_23 = chi2_contingency(contingency_table_23)\n",
    "\n",
    "print(\"Estadístic xi-quadrat entre AMB_PA_MECVV i SENSE_PA:\", chi2_23)\n",
    "print(\"P-valor entre AMB_PA_MECVV i SENSE_PA:\", p_value_23)\n",
    "\n",
    "if p_value_23 < 0.05:\n",
    "    print(\"Hi ha diferències significatives entre les distribucions d'infeccions respiratòries en AMB_PA i AMB_PA_MECVV.\")\n",
    "else:\n",
    "    print(\"No hi ha diferències significatives entre les distribucions d'infeccions respiratòries en AMB_PA i AMB_PA_MECVV.\")"
   ],
   "id": "8fc450c2c0998105",
   "outputs": [],
   "execution_count": null
  },
  {
   "metadata": {},
   "cell_type": "code",
   "source": [
    "contingency_table_14 = pd.crosstab(index=AMB_PA['Infeccions respiratòries principals diagnosticades'], columns=TOTAL['Infeccions respiratòries principals diagnosticades'])\n",
    "\n",
    "chi2_14, p_value_14, dof_14, expected_14 = chi2_contingency(contingency_table_14)\n",
    "\n",
    "print(\"Estadístic xi-quadrat entre AMB_PA i AMB_PA_MECVV:\", chi2_14)\n",
    "print(\"P-valor entre AMB_PA i AMB_PA_MECVV:\", p_value_14)\n",
    "\n",
    "if p_value_14 < 0.05:\n",
    "    print(\"Hi ha diferències significatives entre les distribucions d'infeccions respiratòries en AMB_PA i TOTAL.\")\n",
    "else:\n",
    "    print(\"No hi ha diferències significatives entre les distribucions d'infeccions respiratòries en AMB_PA i TOTAL.\")"
   ],
   "id": "2311cb30dfac9b40",
   "outputs": [],
   "execution_count": null
  },
  {
   "metadata": {},
   "cell_type": "code",
   "source": [
    "contingency_table_24 = pd.crosstab(index=AMB_PA_MECVV['Infeccions respiratòries principals diagnosticades'], columns=TOTAL['Infeccions respiratòries principals diagnosticades'])\n",
    "\n",
    "chi2_24, p_value_24, dof_24, expected_24 = chi2_contingency(contingency_table_24)\n",
    "\n",
    "print(\"Estadístic xi-quadrat entre AMB_PA_MECVV i TOTAL:\", chi2_24)\n",
    "print(\"P-valor entre AMB_PA_MECVV i TOTAL:\", p_value_24)\n",
    "\n",
    "if p_value_24 < 0.05:\n",
    "    print(\"Hi ha diferències significatives entre les distribucions d'infeccions respiratòries en AMB_PA_MECVV i TOTAL.\")\n",
    "else:\n",
    "    print(\"No hi ha diferències significatives entre les distribucions d'infeccions respiratòries en AMB_PA_MECVV i TOTAL.\")"
   ],
   "id": "fa8ed7f23bea49e7",
   "outputs": [],
   "execution_count": null
  },
  {
   "metadata": {},
   "cell_type": "code",
   "source": [
    "contingency_table_34 = pd.crosstab(index=SENSE_PA['Infeccions respiratòries principals diagnosticades'], columns=TOTAL['Infeccions respiratòries principals diagnosticades'])\n",
    "\n",
    "chi2_34, p_value_34, dof_4, expected_34 = chi2_contingency(contingency_table_34)\n",
    "\n",
    "print(\"Estadístic xi-quadrat entre SENSE_PA i TOTAL:\", chi2_34)\n",
    "print(\"P-valor entre AMB_PA i TOTAL:\", p_value_34)\n",
    "\n",
    "if p_value_34 < 0.05:\n",
    "    print(\"Hi ha diferències significatives entre les distribucions d'infeccions respiratòries en SENSE_PA i TOTAL.\")\n",
    "else:\n",
    "    print(\"No hi ha diferències significatives entre les distribucions d'infeccions respiratòries en SENSE_PA i TOTAL.\")"
   ],
   "id": "d7e719e6fc545e27",
   "outputs": [],
   "execution_count": null
  },
  {
   "metadata": {},
   "cell_type": "markdown",
   "source": "##### LRTI",
   "id": "4212eae2d2582253"
  },
  {
   "metadata": {},
   "cell_type": "code",
   "source": [
    "contingency_table_12 = pd.crosstab(index=AMB_PA['LRTI diagnosticada'], columns=AMB_PA_MECVV['LRTI diagnosticada'])\n",
    "\n",
    "chi2_12, p_value_12, dof_12, expected_12 = chi2_contingency(contingency_table_12)\n",
    "\n",
    "print(\"Estadístic xi-quadrat entre AMB_PA i AMB_PA_MECVV:\", chi2_12)\n",
    "print(\"P-valor entre AMB_PA i AMB_PA_MECVV:\", p_value_12)\n",
    "\n",
    "if p_value_12 < 0.05:\n",
    "    print(\"Hi ha diferències significatives entre les distribucions de LRTI en AMB_PA i AMB_PA_MECVV.\")\n",
    "else:\n",
    "    print(\"No hi ha diferències significatives entre les distribucions de LRTI en AMB_PA i AMB_PA_MECVV.\")"
   ],
   "id": "92b3f9c5ea82b67e",
   "outputs": [],
   "execution_count": null
  },
  {
   "metadata": {},
   "cell_type": "code",
   "source": [
    "contingency_table_13 = pd.crosstab(index=AMB_PA['LRTI diagnosticada'], columns=SENSE_PA['LRTI diagnosticada'])\n",
    "\n",
    "chi2_13, p_value_13, dof_13, expected_13 = chi2_contingency(contingency_table_13)\n",
    "\n",
    "print(\"Estadístic xi-quadrat entre AMB_PA i SENSE_PA:\", chi2_13)\n",
    "print(\"P-valor entre AMB_PA i SENSE_PA:\", p_value_13)\n",
    "\n",
    "if p_value_13 < 0.05:\n",
    "    print(\"Hi ha diferències significatives entre les distribucions de LRTI en AMB_PA i SENSE_PA.\")\n",
    "else:\n",
    "    print(\"No hi ha diferències significatives entre les distribucions de LRTI en AMB_PA i SENSE_PA.\")"
   ],
   "id": "7f648a914bf78cf7",
   "outputs": [],
   "execution_count": null
  },
  {
   "metadata": {},
   "cell_type": "code",
   "source": [
    "contingency_table_23 = pd.crosstab(index=AMB_PA_MECVV['LRTI diagnosticada'], columns=SENSE_PA['LRTI diagnosticada'])\n",
    "\n",
    "chi2_23, p_value_23, dof_23, expected_23 = chi2_contingency(contingency_table_23)\n",
    "\n",
    "print(\"Estadístic xi-quadrat entre AMB_PA_MECVV i SENSE_PA:\", chi2_23)\n",
    "print(\"P-valor entre AMB_PA_MECVV i SENSE_PA:\", p_value_23)\n",
    "\n",
    "if p_value_23 < 0.05:\n",
    "    print(\"Hi ha diferències significatives entre les distribucions de LRTI en AMB_PA_MECVV i SENSE_PA.\")\n",
    "else:\n",
    "    print(\"No hi ha diferències significatives entre les distribucions de LRTI en AMB_PA_MECVV i SENSE_PA.\")"
   ],
   "id": "d64bc20d970d227a",
   "outputs": [],
   "execution_count": null
  },
  {
   "metadata": {},
   "cell_type": "code",
   "source": [
    "contingency_table_14 = pd.crosstab(index=AMB_PA['LRTI diagnosticada'], columns=TOTAL['LRTI diagnosticada'])\n",
    "\n",
    "chi2_14, p_value_14, dof_14, expected_14 = chi2_contingency(contingency_table_14)\n",
    "\n",
    "print(\"Estadístic xi-quadrat entre AMB_PA i TOTAL:\", chi2_14)\n",
    "print(\"P-valor entre AMB_PA i TOTAL:\", p_value_14)\n",
    "\n",
    "if p_value_14 < 0.05:\n",
    "    print(\"Hi ha diferències significatives entre les distribucions de LRTI en AMB_PA i TOTAL.\")\n",
    "else:\n",
    "    print(\"No hi ha diferències significatives entre les distribucions de LRTI en AMB_PA i TOTAL.\")"
   ],
   "id": "95287e2e13ac0d2e",
   "outputs": [],
   "execution_count": null
  },
  {
   "metadata": {},
   "cell_type": "code",
   "source": [
    "contingency_table_24 = pd.crosstab(index=AMB_PA_MECVV['LRTI diagnosticada'], columns=TOTAL['LRTI diagnosticada'])\n",
    "\n",
    "chi2_24, p_value_24, dof_24, expected_24 = chi2_contingency(contingency_table_24)\n",
    "\n",
    "print(\"Estadístic xi-quadrat entre AMB_PA_MECVV i TOTAL:\", chi2_24)\n",
    "print(\"P-valor entre AMB_PA_MECVV i TOTAL:\", p_value_24)\n",
    "\n",
    "if p_value_24 < 0.05:\n",
    "    print(\"Hi ha diferències significatives entre les distribucions de LRTI en AMB_PA_MECVV i TOTAL.\")\n",
    "else:\n",
    "    print(\"No hi ha diferències significatives entre les distribucions de LRTI en AMB_PA_MECVV i TOTAL.\")"
   ],
   "id": "544ee660d9ba87ae",
   "outputs": [],
   "execution_count": null
  },
  {
   "metadata": {},
   "cell_type": "code",
   "source": [
    "contingency_table_34 = pd.crosstab(index=SENSE_PA['LRTI diagnosticada'], columns=TOTAL['LRTI diagnosticada'])\n",
    "\n",
    "chi2_34, p_value_34, dof_34, expected_34 = chi2_contingency(contingency_table_34)\n",
    "\n",
    "print(\"Estadístic xi-quadrat entre SENSE_PA i TOTAL:\", chi2_34)\n",
    "print(\"P-valor entre SNESE_PA i TOTAL:\", p_value_34)\n",
    "\n",
    "if p_value_34 < 0.05:\n",
    "    print(\"Hi ha diferències significatives entre les distribucions de LRTI en SENSE_PA i TOTAL.\")\n",
    "else:\n",
    "    print(\"No hi ha diferències significatives entre les distribucions de LRTI en SENSE_PA i TOTAL.\")"
   ],
   "id": "8a9c57c79327c3ad",
   "outputs": [],
   "execution_count": null
  },
  {
   "metadata": {},
   "cell_type": "markdown",
   "source": "##### Exacerbacions de COPD",
   "id": "3f2c5d732213150e"
  },
  {
   "metadata": {},
   "cell_type": "code",
   "source": [
    "contingency_table_12 = pd.crosstab(index=AMB_PA['Exacerbacions de COPD diagnosticades'], columns=AMB_PA_MECVV['Exacerbacions de COPD diagnosticades'])\n",
    "\n",
    "chi2_12, p_value_12, dof_12, expected_12 = chi2_contingency(contingency_table_12)\n",
    "\n",
    "print(\"Estadístic xi-quadrat entre AMB_PA i AMB_PA_MECVV:\", chi2_12)\n",
    "print(\"P-valor entre AMB_PA i AMB_PA_MECVV:\", p_value_12)\n",
    "\n",
    "if p_value_12 < 0.05:\n",
    "    print(\"Hi ha diferències significatives entre les distribucions d'exacerbacions de COPD en AMB_PA i AMB_PA_MECV.\")\n",
    "else:\n",
    "    print(\"No hi ha diferències significatives entre les distribucions d'exacerbacions de COPD en AMB_PA i AMB_PA_MECVV.\")"
   ],
   "id": "730e3b6ac0c3cabd",
   "outputs": [],
   "execution_count": null
  },
  {
   "metadata": {},
   "cell_type": "code",
   "source": [
    "contingency_table_13 = pd.crosstab(index=AMB_PA['Exacerbacions de COPD diagnosticades'], columns=SENSE_PA['Exacerbacions de COPD diagnosticades'])\n",
    "\n",
    "chi2_13, p_value_13, dof_13, expected_13 = chi2_contingency(contingency_table_13)\n",
    "\n",
    "print(\"Estadístic xi-quadrat entre AMB_PA i SENSE_PA:\", chi2_13)\n",
    "print(\"P-valor entre AMB_PA i SENSE_PA:\", p_value_13)\n",
    "\n",
    "if p_value_13 < 0.05:\n",
    "    print(\"Hi ha diferències significatives entre les distribucions d'exacerbacions de COPD en AMB_PA i SENSE_PA.\")\n",
    "else:\n",
    "    print(\"No hi ha diferències significatives entre les distribucions d'exacerbacions de COPD en AMB_PA i SENSE_PA.\")"
   ],
   "id": "11cc00214bae88b1",
   "outputs": [],
   "execution_count": null
  },
  {
   "metadata": {},
   "cell_type": "code",
   "source": [
    "contingency_table_23 = pd.crosstab(index=AMB_PA_MECVV['Exacerbacions de COPD diagnosticades'], columns=SENSE_PA['Exacerbacions de COPD diagnosticades'])\n",
    "\n",
    "chi2_23, p_value_23, dof_23, expected_23 = chi2_contingency(contingency_table_23)\n",
    "\n",
    "print(\"Estadístic xi-quadrat entre AMB_PA_MECVV i SENSE_PA:\", chi2_23)\n",
    "print(\"P-valor entre AMB_PA_MECVV i SENSE_PA:\", p_value_23)\n",
    "\n",
    "if p_value_23 < 0.05:\n",
    "    print(\"Hi ha diferències significatives entre les distribucions d'exacerbacions de COPD en AMB_PA_MECVV i SENSE_PA.\")\n",
    "else:\n",
    "    print(\"No hi ha diferències significatives entre les distribucions d'exacerbacions de COPD en AMB_PA_MECVV i SENSE_PA.\")"
   ],
   "id": "4df4d92107ced99b",
   "outputs": [],
   "execution_count": null
  },
  {
   "metadata": {},
   "cell_type": "code",
   "source": [
    "contingency_table_14 = pd.crosstab(index=AMB_PA['Exacerbacions de COPD diagnosticades'], columns=TOTAL['Exacerbacions de COPD diagnosticades'])\n",
    "\n",
    "chi2_14, p_value_14, dof_14, expected_14 = chi2_contingency(contingency_table_14)\n",
    "\n",
    "print(\"Estadístic xi-quadrat entre AMB_PA i TOTAL:\", chi2_14)\n",
    "print(\"P-valor entre AMB_PA i TOTAL:\", p_value_14)\n",
    "\n",
    "if p_value_14 < 0.05:\n",
    "    print(\"Hi ha diferències significatives entre les distribucions d'exacerbacions de COPD en AMB_PA i TOTAL.\")\n",
    "else:\n",
    "    print(\"No hi ha diferències significatives entre les distribucions d'exacerbacions de COPD en AMB_PA i TOTAL.\")"
   ],
   "id": "86de83737f8b5b6f",
   "outputs": [],
   "execution_count": null
  },
  {
   "metadata": {},
   "cell_type": "code",
   "source": [
    "contingency_table_24 = pd.crosstab(index=AMB_PA_MECVV['Exacerbacions de COPD diagnosticades'], columns=TOTAL['Exacerbacions de COPD diagnosticades'])\n",
    "\n",
    "chi2_24, p_value_24, dof_24, expected_24 = chi2_contingency(contingency_table_24)\n",
    "\n",
    "print(\"Estadístic xi-quadrat entre AMB_PA_MECVV i TOTAL:\", chi2_24)\n",
    "print(\"P-valor entre AMB_PA_MECVV i TOTAL:\", p_value_24)\n",
    "\n",
    "if p_value_24 < 0.05:\n",
    "    print(\"Hi ha diferències significatives entre les distribucions d'exacerbacions de COPD en AMB_PA_MECVV i TOTAL.\")\n",
    "else:\n",
    "    print(\"No hi ha diferències significatives entre les distribucions d'exacerbacions de COPD en AMB_PA_MECVV i TOTAL.\")"
   ],
   "id": "ded46e053dbd981b",
   "outputs": [],
   "execution_count": null
  },
  {
   "metadata": {},
   "cell_type": "code",
   "source": [
    "contingency_table_34 = pd.crosstab(index=SENSE_PA['Exacerbacions de COPD diagnosticades'], columns=TOTAL['Exacerbacions de COPD diagnosticades'])\n",
    "\n",
    "chi2_34, p_value_34, dof_34, expected_34 = chi2_contingency(contingency_table_34)\n",
    "\n",
    "print(\"Estadístic xi-quadrat entre SENSE_PA i TOTAL:\", chi2_34)\n",
    "print(\"P-valor entre SENSE_PA i TOTAL:\", p_value_34)\n",
    "\n",
    "if p_value_34 < 0.05:\n",
    "    print(\"Hi ha diferències significatives entre les distribucions d'exacerbacions de COPD en SENSE_PA i TOTAL.\")\n",
    "else:\n",
    "    print(\"No hi ha diferències significatives entre les distribucions d'exacerbacions de COPD en SENSE_PA i TOTAL.\")"
   ],
   "id": "396d8b5c5df4099e",
   "outputs": [
    {
     "name": "stdout",
     "output_type": "stream",
     "text": [
      "Estadístic xi-quadrat entre SENSE_PA i TOTAL: 3.5555555555555554\n",
      "P-valor entre SENSE_PA i TOTAL: 0.05934643879191998\n",
      "No hi ha diferències significatives entre les distribucions d'exacerbacions de COPD en SENSE_PA i TOTAL.\n"
     ]
    }
   ],
   "execution_count": 849
  },
  {
   "metadata": {},
   "cell_type": "markdown",
   "source": "##### Fibrosi pulmonar i fibrotòrax",
   "id": "a60dfc8e06242970"
  },
  {
   "metadata": {},
   "cell_type": "code",
   "source": [
    "contingency_table_12 = pd.crosstab(index=AMB_PA['Fibrosi pulmonar i fibrotòrax diagnosticades'], columns=AMB_PA_MECVV['Fibrosi pulmonar i fibrotòrax diagnosticades'])\n",
    "\n",
    "chi2_12, p_value_12, dof_12, expected_12 = chi2_contingency(contingency_table_12)\n",
    "\n",
    "print(\"Estadístic xi-quadrat entre AMB_PA i AMB_PA_MECVV:\", chi2_12)\n",
    "print(\"P-valor entre AMB_PA i AMB_PA_MECVV:\", p_value_12)\n",
    "\n",
    "if p_value_12 < 0.05:\n",
    "    print(\"Hi ha diferències significatives entre les distribucions de fibrosi pulmonar i fibrotòrax en AMB_PA i AMB_PA_MECVV.\")\n",
    "else:\n",
    "    print(\"No hi ha diferències significatives entre les distribucions de fibrosi pulmonar i fibrotòrax en AMB_PA i AMB_PA_MECVV.\")"
   ],
   "id": "6f23c82ef51fa652",
   "outputs": [
    {
     "name": "stdout",
     "output_type": "stream",
     "text": [
      "Estadístic xi-quadrat entre AMB_PA i AMB_PA_MECVV: 0.0\n",
      "P-valor entre AMB_PA i AMB_PA_MECVV: 1.0\n",
      "No hi ha diferències significatives entre les distribucions de fibrosi pulmonar i fibrotòrax en AMB_PA i AMB_PA_MECVV.\n"
     ]
    }
   ],
   "execution_count": 850
  },
  {
   "metadata": {
    "ExecuteTime": {
     "end_time": "2024-05-08T08:49:10.211564Z",
     "start_time": "2024-05-08T08:49:10.197739Z"
    }
   },
   "cell_type": "code",
   "source": [
    "contingency_table_13 = pd.crosstab(index=AMB_PA['Fibrosi pulmonar i fibrotòrax diagnosticades'], columns=SENSE_PA['Fibrosi pulmonar i fibrotòrax diagnosticades'])\n",
    "\n",
    "chi2_13, p_value_13, dof_13, expected_13 = chi2_contingency(contingency_table_13)\n",
    "\n",
    "print(\"Estadístic xi-quadrat entre AMB_PA i SENSE_PA:\", chi2_13)\n",
    "print(\"P-valor entre AMB_PA i SENSE_PA:\", p_value_13)\n",
    "\n",
    "if p_value_13 < 0.05:\n",
    "    print(\"Hi ha diferències significatives entre les distribucions de fibrosi pulmonar i fibrotòrax en AMB_PA i SENSE_PA.\")\n",
    "else:\n",
    "    print(\"No hi ha diferències significatives entre les distribucions de fibrosi pulmonar i fibrotòrax en AMB_PA i SENSE_PA.\")"
   ],
   "id": "3a985c287c035f2e",
   "outputs": [
    {
     "name": "stdout",
     "output_type": "stream",
     "text": [
      "Estadístic xi-quadrat entre AMB_PA i SENSE_PA: 0.0\n",
      "P-valor entre AMB_PA i SENSE_PA: 1.0\n",
      "No hi ha diferències significatives entre les distribucions de fibrosi pulmonar i fibrotòrax en AMB_PA i SENSE_PA.\n"
     ]
    }
   ],
   "execution_count": 851
  },
  {
   "metadata": {
    "ExecuteTime": {
     "end_time": "2024-05-08T08:49:31.976865Z",
     "start_time": "2024-05-08T08:49:31.929375Z"
    }
   },
   "cell_type": "code",
   "source": [
    "contingency_table_23 = pd.crosstab(index=AMB_PA_MECVV['Fibrosi pulmonar i fibrotòrax diagnosticades'], columns=SENSE_PA['Fibrosi pulmonar i fibrotòrax diagnosticades'])\n",
    "\n",
    "chi2_23, p_value_23, dof_23, expected_23 = chi2_contingency(contingency_table_23)\n",
    "\n",
    "print(\"Estadístic xi-quadrat entre AMB_PA_MECVV i SENSE_PA:\", chi2_23)\n",
    "print(\"P-valor entre AMB_PA_MECVV i SENSE_PA:\", p_value_23)\n",
    "\n",
    "if p_value_23 < 0.05:\n",
    "    print(\"Hi ha diferències significatives entre les distribucions de fibrosi pulmonar i fibrotòrax en AMB_PA_MECVV i SENSE_PA.\")\n",
    "else:\n",
    "    print(\"No hi ha diferències significatives entre les distribucions de fibrosi pulmonar i fibrotòrax en AMB_PA_MECVV i SENSE_PA.\")"
   ],
   "id": "4c421b907f887268",
   "outputs": [
    {
     "ename": "ValueError",
     "evalue": "No data; `observed` has size 0.",
     "output_type": "error",
     "traceback": [
      "\u001B[1;31m---------------------------------------------------------------------------\u001B[0m",
      "\u001B[1;31mValueError\u001B[0m                                Traceback (most recent call last)",
      "Cell \u001B[1;32mIn[852], line 3\u001B[0m\n\u001B[0;32m      1\u001B[0m contingency_table_23 \u001B[38;5;241m=\u001B[39m pd\u001B[38;5;241m.\u001B[39mcrosstab(index\u001B[38;5;241m=\u001B[39mAMB_PA_MECVV[\u001B[38;5;124m'\u001B[39m\u001B[38;5;124mFibrosi pulmonar i fibrotòrax diagnosticades\u001B[39m\u001B[38;5;124m'\u001B[39m], columns\u001B[38;5;241m=\u001B[39mSENSE_PA[\u001B[38;5;124m'\u001B[39m\u001B[38;5;124mFibrosi pulmonar i fibrotòrax diagnosticades\u001B[39m\u001B[38;5;124m'\u001B[39m])\n\u001B[1;32m----> 3\u001B[0m chi2_23, p_value_23, dof_23, expected_23 \u001B[38;5;241m=\u001B[39m \u001B[43mchi2_contingency\u001B[49m\u001B[43m(\u001B[49m\u001B[43mcontingency_table_23\u001B[49m\u001B[43m)\u001B[49m\n\u001B[0;32m      5\u001B[0m \u001B[38;5;28mprint\u001B[39m(\u001B[38;5;124m\"\u001B[39m\u001B[38;5;124mEstadístic xi-quadrat entre AMB_PA_MECVV i SENSE_PA:\u001B[39m\u001B[38;5;124m\"\u001B[39m, chi2_23)\n\u001B[0;32m      6\u001B[0m \u001B[38;5;28mprint\u001B[39m(\u001B[38;5;124m\"\u001B[39m\u001B[38;5;124mP-valor entre AMB_PA_MECVV i SENSE_PA:\u001B[39m\u001B[38;5;124m\"\u001B[39m, p_value_23)\n",
      "File \u001B[1;32m~\\PycharmProjects\\practicum\\.venv\\Lib\\site-packages\\scipy\\stats\\contingency.py:333\u001B[0m, in \u001B[0;36mchi2_contingency\u001B[1;34m(observed, correction, lambda_)\u001B[0m\n\u001B[0;32m    331\u001B[0m     \u001B[38;5;28;01mraise\u001B[39;00m \u001B[38;5;167;01mValueError\u001B[39;00m(\u001B[38;5;124m\"\u001B[39m\u001B[38;5;124mAll values in `observed` must be nonnegative.\u001B[39m\u001B[38;5;124m\"\u001B[39m)\n\u001B[0;32m    332\u001B[0m \u001B[38;5;28;01mif\u001B[39;00m observed\u001B[38;5;241m.\u001B[39msize \u001B[38;5;241m==\u001B[39m \u001B[38;5;241m0\u001B[39m:\n\u001B[1;32m--> 333\u001B[0m     \u001B[38;5;28;01mraise\u001B[39;00m \u001B[38;5;167;01mValueError\u001B[39;00m(\u001B[38;5;124m\"\u001B[39m\u001B[38;5;124mNo data; `observed` has size 0.\u001B[39m\u001B[38;5;124m\"\u001B[39m)\n\u001B[0;32m    335\u001B[0m expected \u001B[38;5;241m=\u001B[39m expected_freq(observed)\n\u001B[0;32m    336\u001B[0m \u001B[38;5;28;01mif\u001B[39;00m np\u001B[38;5;241m.\u001B[39many(expected \u001B[38;5;241m==\u001B[39m \u001B[38;5;241m0\u001B[39m):\n\u001B[0;32m    337\u001B[0m     \u001B[38;5;66;03m# Include one of the positions where expected is zero in\u001B[39;00m\n\u001B[0;32m    338\u001B[0m     \u001B[38;5;66;03m# the exception message.\u001B[39;00m\n",
      "\u001B[1;31mValueError\u001B[0m: No data; `observed` has size 0."
     ]
    }
   ],
   "execution_count": 852
  },
  {
   "metadata": {
    "ExecuteTime": {
     "end_time": "2024-05-08T08:49:32.652337Z",
     "start_time": "2024-05-08T08:49:32.639225Z"
    }
   },
   "cell_type": "code",
   "source": [
    "contingency_table_14 = pd.crosstab(index=AMB_PA['Fibrosi pulmonar i fibrotòrax diagnosticades'], columns=TOTAL['Fibrosi pulmonar i fibrotòrax diagnosticades'])\n",
    "\n",
    "chi2_14, p_value_14, dof_14, expected_14 = chi2_contingency(contingency_table_14)\n",
    "\n",
    "print(\"Estadístic xi-quadrat entre AMB_PA i TOTAL:\", chi2_14)\n",
    "print(\"P-valor entre AMB_PA i TOTAL:\", p_value_14)\n",
    "\n",
    "if p_value_14 < 0.05:\n",
    "    print(\"Hi ha diferències significatives entre les distribucions de fibrosi pulmonar i fibrotòrax en AMB_PA i TOTAL.\")\n",
    "else:\n",
    "    print(\"No hi ha diferències significatives entre les distribucions de fibrosi pulmonar i fibrotòrax en AMB_PA i TOTAL.\")"
   ],
   "id": "2a0c7044ffec8832",
   "outputs": [
    {
     "name": "stdout",
     "output_type": "stream",
     "text": [
      "Estadístic xi-quadrat entre AMB_PA i TOTAL: 0.0\n",
      "P-valor entre AMB_PA i TOTAL: 1.0\n",
      "No hi ha diferències significatives entre les distribucions de fibrosi pulmonar i fibrotòrax en AMB_PA i TOTAL.\n"
     ]
    }
   ],
   "execution_count": 853
  },
  {
   "metadata": {
    "ExecuteTime": {
     "end_time": "2024-05-08T08:49:33.377897Z",
     "start_time": "2024-05-08T08:49:33.366206Z"
    }
   },
   "cell_type": "code",
   "source": [
    "contingency_table_24 = pd.crosstab(index=AMB_PA_MECVV['Fibrosi pulmonar i fibrotòrax diagnosticades'], columns=TOTAL['Fibrosi pulmonar i fibrotòrax diagnosticades'])\n",
    "\n",
    "chi2_24, p_value_24, dof_24, expected_24 = chi2_contingency(contingency_table_24)\n",
    "\n",
    "print(\"Estadístic xi-quadrat entre AMB_PA_MECVV i TOTAL:\", chi2_24)\n",
    "print(\"P-valor entre AMB_PA_MECVV i TOTAL:\", p_value_24)\n",
    "\n",
    "if p_value_24 < 0.05:\n",
    "    print(\"Hi ha diferències significatives entre les distribucions de fibrosi pulmonar i fibrotòrax en AMB_PA_MECVV i TOTAL.\")\n",
    "else:\n",
    "    print(\"No hi ha diferències significatives entre les distribucions de fibrosi pulmonar i fibrotòrax en AMB_PA_MECVV i TOTAL.\")"
   ],
   "id": "99166fb38de4228b",
   "outputs": [
    {
     "name": "stdout",
     "output_type": "stream",
     "text": [
      "Estadístic xi-quadrat entre AMB_PA_MECVV i TOTAL: 0.0\n",
      "P-valor entre AMB_PA_MECVV i TOTAL: 1.0\n",
      "No hi ha diferències significatives entre les distribucions de fibrosi pulmonar i fibrotòrax en AMB_PA_MECVV i TOTAL.\n"
     ]
    }
   ],
   "execution_count": 854
  },
  {
   "metadata": {
    "ExecuteTime": {
     "end_time": "2024-05-08T08:49:33.738540Z",
     "start_time": "2024-05-08T08:49:33.726865Z"
    }
   },
   "cell_type": "code",
   "source": [
    "contingency_table_34 = pd.crosstab(index=SENSE_PA['Fibrosi pulmonar i fibrotòrax diagnosticades'], columns=TOTAL['Fibrosi pulmonar i fibrotòrax diagnosticades'])\n",
    "\n",
    "chi2_34, p_value_34, dof_34, expected_34 = chi2_contingency(contingency_table_34)\n",
    "\n",
    "print(\"Estadístic xi-quadrat entre SENSE_PA i TOTAL:\", chi2_34)\n",
    "print(\"P-valor entre SENSE_PA i TOTAL:\", p_value_34)\n",
    "\n",
    "if p_value_34 < 0.05:\n",
    "    print(\"Hi ha diferències significatives entre les distribucions de fibrosi pulmonar i fibrotòrax en SENSE_PA i TOTAL.\")\n",
    "else:\n",
    "    print(\"No hi ha diferències significatives entre les distribucions de fibrosi pulmonar i fibrotòrax en SENSE_PA i TOTAL.\")"
   ],
   "id": "5d43d99a153769d",
   "outputs": [
    {
     "name": "stdout",
     "output_type": "stream",
     "text": [
      "Estadístic xi-quadrat entre SENSE_PA i TOTAL: 0.0\n",
      "P-valor entre SENSE_PA i TOTAL: 1.0\n",
      "No hi ha diferències significatives entre les distribucions de fibrosi pulmonar i fibrotòrax en SENSE_PA i TOTAL.\n"
     ]
    }
   ],
   "execution_count": 855
  },
  {
   "metadata": {},
   "cell_type": "markdown",
   "source": "## Resultats de laboratori",
   "id": "1994fdc24d34089b"
  },
  {
   "metadata": {},
   "cell_type": "markdown",
   "source": "Les columnes generades a partir d'aquests resultats contenen valors tipus objecte, per tant, primer els transformaré a tipus numèric per poder realitzar les operacions que neccessitaré fer.",
   "id": "f1b6e375839cbf54"
  },
  {
   "metadata": {},
   "cell_type": "markdown",
   "source": "### Albúmina",
   "id": "600feb610c7340c3"
  },
  {
   "metadata": {
    "ExecuteTime": {
     "end_time": "2024-05-08T08:49:34.176359Z",
     "start_time": "2024-05-08T08:49:34.166560Z"
    }
   },
   "cell_type": "code",
   "source": [
    "AMB_PA.loc[:, 'Albúmina'] = pd.to_numeric(AMB_PA['Albúmina'], errors='coerce').dropna()\n",
    "\n",
    "Mitjana_alb = AMB_PA['Albúmina'].mean()\n",
    "desviacio_estandard_alb = AMB_PA['Albúmina'].std()\n",
    "\n",
    "resultat = f\"{Mitjana_alb:.2f} ± {desviacio_estandard_alb:.2f}\"\n",
    "print(\"Mitjana ± Desviació Estàndard de l'albúmina:\", resultat)"
   ],
   "id": "d82bf2d8022cff43",
   "outputs": [
    {
     "name": "stdout",
     "output_type": "stream",
     "text": [
      "Mitjana ± Desviació Estàndard de l'albúmina: 3.34 ± 0.38\n"
     ]
    }
   ],
   "execution_count": 856
  },
  {
   "metadata": {
    "ExecuteTime": {
     "end_time": "2024-05-08T08:49:34.627295Z",
     "start_time": "2024-05-08T08:49:34.618440Z"
    }
   },
   "cell_type": "code",
   "source": [
    "AMB_PA_MECVV.loc[:, 'Albúmina'] = pd.to_numeric(AMB_PA_MECVV['Albúmina'], errors='coerce').dropna()\n",
    "\n",
    "Mitjana_alb = AMB_PA_MECVV['Albúmina'].mean()\n",
    "desviacio_estandard_alb = AMB_PA_MECVV['Albúmina'].std()\n",
    "\n",
    "resultat = f\"{Mitjana_alb:.2f} ± {desviacio_estandard_alb:.2f}\"\n",
    "print(\"Mitjana ± Desviació Estàndard de l'albúmina:\", resultat)"
   ],
   "id": "7cca36324c2cf548",
   "outputs": [
    {
     "name": "stdout",
     "output_type": "stream",
     "text": [
      "Mitjana ± Desviació Estàndard de l'albúmina: 3.33 ± 0.38\n"
     ]
    }
   ],
   "execution_count": 857
  },
  {
   "metadata": {
    "ExecuteTime": {
     "end_time": "2024-05-08T08:49:35.000732Z",
     "start_time": "2024-05-08T08:49:34.990016Z"
    }
   },
   "cell_type": "code",
   "source": [
    "SENSE_PA.loc[:, 'Albúmina'] = pd.to_numeric(SENSE_PA['Albúmina'], errors='coerce').dropna()\n",
    "\n",
    "Mitjana_alb = SENSE_PA['Albúmina'].mean()\n",
    "desviacio_estandard_alb = SENSE_PA['Albúmina'].std()\n",
    "\n",
    "resultat = f\"{Mitjana_alb:.2f} ± {desviacio_estandard_alb:.2f}\"\n",
    "print(\"Mitjana ± Desviació Estàndard de l'albúmina:\", resultat)"
   ],
   "id": "122964c17f5d1955",
   "outputs": [
    {
     "name": "stdout",
     "output_type": "stream",
     "text": [
      "Mitjana ± Desviació Estàndard de l'albúmina: 3.55 ± 0.37\n"
     ]
    }
   ],
   "execution_count": 858
  },
  {
   "metadata": {
    "ExecuteTime": {
     "end_time": "2024-05-08T08:49:35.426335Z",
     "start_time": "2024-05-08T08:49:35.416454Z"
    }
   },
   "cell_type": "code",
   "source": [
    "TOTAL.loc[:, 'Albúmina'] = pd.to_numeric(TOTAL['Albúmina'], errors='coerce').dropna()\n",
    "\n",
    "Mitjana_alb = TOTAL['Albúmina'].mean()\n",
    "desviacio_estandard_alb = TOTAL['Albúmina'].std()\n",
    "\n",
    "resultat = f\"{Mitjana_alb:.2f} ± {desviacio_estandard_alb:.2f}\"\n",
    "print(\"Mitjana ± Desviació Estàndard de l'albúmina:\", resultat)"
   ],
   "id": "27aaf0e25c9975e0",
   "outputs": [
    {
     "name": "stdout",
     "output_type": "stream",
     "text": [
      "Mitjana ± Desviació Estàndard de l'albúmina: 3.55 ± 0.64\n"
     ]
    }
   ],
   "execution_count": 859
  },
  {
   "metadata": {},
   "cell_type": "markdown",
   "source": "#### Comparació distributiva",
   "id": "140d6cb42fabfa6a"
  },
  {
   "metadata": {},
   "cell_type": "markdown",
   "source": "##### Normalitat i p-valor",
   "id": "f173bb6261e1d9fb"
  },
  {
   "metadata": {
    "ExecuteTime": {
     "end_time": "2024-05-08T08:49:35.826401Z",
     "start_time": "2024-05-08T08:49:35.816623Z"
    }
   },
   "cell_type": "code",
   "source": [
    "albpa = AMB_PA['Albúmina']\n",
    "stat, p_value = shapiro(albpa)\n",
    "print(f\"Estadístic W = {stat:.4f}\")\n",
    "print(f\"Valor p = {p_value:.8f}\")\n",
    "\n",
    "alpha = 0.05\n",
    "if p_value < alpha:\n",
    "    print(\"El nombre de files no segueix una distribució normal.\")\n",
    "else:\n",
    "    print(\"El nombre de files segueix una distribució normal.\")"
   ],
   "id": "6ea5de55bae13ed3",
   "outputs": [
    {
     "name": "stdout",
     "output_type": "stream",
     "text": [
      "Estadístic W = nan\n",
      "Valor p = nan\n",
      "El nombre de files segueix una distribució normal.\n"
     ]
    }
   ],
   "execution_count": 860
  },
  {
   "metadata": {
    "ExecuteTime": {
     "end_time": "2024-05-08T08:49:36.343468Z",
     "start_time": "2024-05-08T08:49:36.337003Z"
    }
   },
   "cell_type": "code",
   "source": [
    "albAMBpamecvv = AMB_PA_MECVV['Albúmina']\n",
    "stat, p_value = shapiro(albAMBpamecvv)\n",
    "print(f\"Estadístic W = {stat:.4f}\")\n",
    "print(f\"Valor p = {p_value:.8f}\")\n",
    "\n",
    "alpha = 0.05\n",
    "if p_value < alpha:\n",
    "    print(\"El nombre de files no segueix una distribució normal.\")\n",
    "else:\n",
    "    print(\"El nombre de files segueix una distribució normal.\")"
   ],
   "id": "eac722c12e60dad5",
   "outputs": [
    {
     "name": "stdout",
     "output_type": "stream",
     "text": [
      "Estadístic W = nan\n",
      "Valor p = nan\n",
      "El nombre de files segueix una distribució normal.\n"
     ]
    }
   ],
   "execution_count": 861
  },
  {
   "metadata": {
    "ExecuteTime": {
     "end_time": "2024-05-08T08:49:36.867896Z",
     "start_time": "2024-05-08T08:49:36.858370Z"
    }
   },
   "cell_type": "code",
   "source": [
    "albsensepa= SENSE_PA['Albúmina']\n",
    "stat, p_value = shapiro(albsensepa)\n",
    "print(f\"Estadístic W = {stat:.4f}\")\n",
    "print(f\"Valor p = {p_value:.8f}\")\n",
    "\n",
    "alpha = 0.05\n",
    "if p_value < alpha:\n",
    "    print(\"El nombre de files no segueix una distribució normal.\")\n",
    "else:\n",
    "    print(\"El nombre de files segueix una distribució normal.\")"
   ],
   "id": "b23033d034577b35",
   "outputs": [
    {
     "name": "stdout",
     "output_type": "stream",
     "text": [
      "Estadístic W = nan\n",
      "Valor p = nan\n",
      "El nombre de files segueix una distribució normal.\n"
     ]
    }
   ],
   "execution_count": 862
  },
  {
   "metadata": {
    "ExecuteTime": {
     "end_time": "2024-05-08T08:49:37.564798Z",
     "start_time": "2024-05-08T08:49:37.554341Z"
    }
   },
   "cell_type": "code",
   "source": [
    "albtotal = TOTAL['Albúmina']\n",
    "stat, p_value = shapiro(albtotal)\n",
    "print(f\"Estadístic W = {stat:.4f}\")\n",
    "print(f\"Valor p = {p_value:.8f}\")\n",
    "\n",
    "alpha = 0.05\n",
    "if p_value < alpha:\n",
    "    print(\"El nombre de files no segueix una distribució normal.\")\n",
    "else:\n",
    "    print(\"El nombre de files segueix una distribució normal.\")"
   ],
   "id": "e9c5146d4fbffb4c",
   "outputs": [
    {
     "name": "stdout",
     "output_type": "stream",
     "text": [
      "Estadístic W = nan\n",
      "Valor p = nan\n",
      "El nombre de files segueix una distribució normal.\n"
     ]
    }
   ],
   "execution_count": 863
  },
  {
   "metadata": {
    "ExecuteTime": {
     "end_time": "2024-05-08T08:49:37.859399Z",
     "start_time": "2024-05-08T08:49:37.848760Z"
    }
   },
   "cell_type": "code",
   "source": [
    "t_stat_12, p_val_12 = ttest_ind(AMB_PA['Albúmina'], AMB_PA_MECVV['Albúmina'], equal_var=False)\n",
    "print(\"P-valor entre AMB_PA i AMB_PA_MECVV:\", p_val_12)"
   ],
   "id": "159226fd2d1b69f4",
   "outputs": [
    {
     "name": "stdout",
     "output_type": "stream",
     "text": [
      "P-valor entre AMB_PA i AMB_PA_MECVV: nan\n"
     ]
    }
   ],
   "execution_count": 864
  },
  {
   "metadata": {
    "ExecuteTime": {
     "end_time": "2024-05-08T08:49:38.260422Z",
     "start_time": "2024-05-08T08:49:38.252420Z"
    }
   },
   "cell_type": "code",
   "source": [
    "t_stat_13, p_val_13 = ttest_ind(AMB_PA['Albúmina'], SENSE_PA['Albúmina'], equal_var=False)\n",
    "print(\"P-valor entre AMB_PA i SENSE_PA:\", p_val_13)"
   ],
   "id": "eb68749cfc425329",
   "outputs": [
    {
     "name": "stdout",
     "output_type": "stream",
     "text": [
      "P-valor entre AMB_PA i SENSE_PA: nan\n"
     ]
    }
   ],
   "execution_count": 865
  },
  {
   "metadata": {
    "ExecuteTime": {
     "end_time": "2024-05-08T08:49:38.630724Z",
     "start_time": "2024-05-08T08:49:38.623043Z"
    }
   },
   "cell_type": "code",
   "source": [
    "t_stat_23, p_val_23 = ttest_ind(AMB_PA_MECVV['Albúmina'], SENSE_PA['Albúmina'], equal_var=False)\n",
    "print(\"P-valor entre AMB_PA_MECVV i SENSE_PA:\", p_val_23)"
   ],
   "id": "759454454163372f",
   "outputs": [
    {
     "name": "stdout",
     "output_type": "stream",
     "text": [
      "P-valor entre AMB_PA_MECVV i SENSE_PA: nan\n"
     ]
    }
   ],
   "execution_count": 866
  },
  {
   "metadata": {
    "ExecuteTime": {
     "end_time": "2024-05-08T08:49:39.038840Z",
     "start_time": "2024-05-08T08:49:39.027606Z"
    }
   },
   "cell_type": "code",
   "source": [
    "t_stat_14, p_val_14 = ttest_ind(AMB_PA['Albúmina'], TOTAL['Albúmina'], equal_var=False)\n",
    "print(\"P-valor entre AMB_PA i TOTAL:\", p_val_14)"
   ],
   "id": "2c4d78a5a3d6e562",
   "outputs": [
    {
     "name": "stdout",
     "output_type": "stream",
     "text": [
      "P-valor entre AMB_PA i TOTAL: nan\n"
     ]
    }
   ],
   "execution_count": 867
  },
  {
   "metadata": {
    "ExecuteTime": {
     "end_time": "2024-05-08T08:49:42.136363Z",
     "start_time": "2024-05-08T08:49:42.125279Z"
    }
   },
   "cell_type": "code",
   "source": [
    "t_stat_24, p_val_24 = ttest_ind(AMB_PA_MECVV['Albúmina'], TOTAL['Albúmina'], equal_var=False)\n",
    "print(\"P-valor entre AMB_PA_MECVV i TOTAL:\", p_val_24)"
   ],
   "id": "db628b40065ae1aa",
   "outputs": [
    {
     "name": "stdout",
     "output_type": "stream",
     "text": [
      "P-valor entre AMB_PA_MECVV i TOTAL: nan\n"
     ]
    }
   ],
   "execution_count": 868
  },
  {
   "metadata": {
    "ExecuteTime": {
     "end_time": "2024-05-08T08:49:42.746107Z",
     "start_time": "2024-05-08T08:49:42.738471Z"
    }
   },
   "cell_type": "code",
   "source": [
    "t_stat_34, p_val_14 = ttest_ind(SENSE_PA['Albúmina'], TOTAL['Albúmina'], equal_var=False)\n",
    "print(\"P-valor entre SENSE_PA i TOTAL:\", p_val_34)"
   ],
   "id": "bd6ef55dcde480ae",
   "outputs": [
    {
     "name": "stdout",
     "output_type": "stream",
     "text": [
      "P-valor entre SENSE_PA i TOTAL: nan\n"
     ]
    }
   ],
   "execution_count": 869
  },
  {
   "metadata": {},
   "cell_type": "markdown",
   "source": "### Proteïnes totals",
   "id": "c0e1c2d5adb30afb"
  },
  {
   "metadata": {
    "ExecuteTime": {
     "end_time": "2024-05-08T08:49:43.867590Z",
     "start_time": "2024-05-08T08:49:43.853113Z"
    }
   },
   "cell_type": "code",
   "source": [
    "AMB_PA.loc[:, 'Proteïnes totals'] = pd.to_numeric(AMB_PA['Proteïnes totals'], errors='coerce')\n",
    "\n",
    "Mitjana_prot = AMB_PA['Proteïnes totals'].mean()\n",
    "desviacio_estandard_prot = AMB_PA['Proteïnes totals'].std()\n",
    "\n",
    "resultat = f\"{Mitjana_prot:.2f} ± {desviacio_estandard_prot:.2f}\"\n",
    "print(\"Mitjana ± Desviació Estàndard de les proteïnes totals:\", resultat)"
   ],
   "id": "8c74e6182119239f",
   "outputs": [
    {
     "name": "stdout",
     "output_type": "stream",
     "text": [
      "Mitjana ± Desviació Estàndard de les proteïnes totals: 6.03 ± 0.73\n"
     ]
    }
   ],
   "execution_count": 870
  },
  {
   "metadata": {
    "ExecuteTime": {
     "end_time": "2024-05-08T08:49:44.617032Z",
     "start_time": "2024-05-08T08:49:44.609418Z"
    }
   },
   "cell_type": "code",
   "source": [
    "AMB_PA_MECVV.loc[:, 'Proteïnes totals'] = pd.to_numeric(AMB_PA_MECVV['Proteïnes totals'], errors='coerce')\n",
    "\n",
    "Mitjana_prot = AMB_PA_MECVV['Proteïnes totals'].mean()\n",
    "desviacio_estandard_prot = AMB_PA_MECVV['Proteïnes totals'].std()\n",
    "\n",
    "resultat = f\"{Mitjana_prot:.2f} ± {desviacio_estandard_prot:.2f}\"\n",
    "print(\"Mitjana ± Desviació Estàndard de les proteïnes totals:\", resultat)"
   ],
   "id": "11dbe86b42cd2240",
   "outputs": [
    {
     "name": "stdout",
     "output_type": "stream",
     "text": [
      "Mitjana ± Desviació Estàndard de les proteïnes totals: 6.00 ± 0.53\n"
     ]
    }
   ],
   "execution_count": 871
  },
  {
   "metadata": {
    "ExecuteTime": {
     "end_time": "2024-05-08T08:49:45.606870Z",
     "start_time": "2024-05-08T08:49:45.598855Z"
    }
   },
   "cell_type": "code",
   "source": [
    "SENSE_PA.loc[:, 'Proteïnes totals'] = pd.to_numeric(SENSE_PA['Proteïnes totals'], errors='coerce')\n",
    "\n",
    "Mitjana_prot = SENSE_PA['Proteïnes totals'].mean()\n",
    "desviacio_estandard_prot = SENSE_PA['Proteïnes totals'].std()\n",
    "\n",
    "resultat = f\"{Mitjana_prot:.2f} ± {desviacio_estandard_prot:.2f}\"\n",
    "print(\"Mitjana ± Desviació Estàndard de les proteïnes totals:\", resultat)"
   ],
   "id": "55750e651260abb6",
   "outputs": [
    {
     "name": "stdout",
     "output_type": "stream",
     "text": [
      "Mitjana ± Desviació Estàndard de les proteïnes totals: 6.30 ± 0.80\n"
     ]
    }
   ],
   "execution_count": 872
  },
  {
   "metadata": {
    "ExecuteTime": {
     "end_time": "2024-05-08T08:49:46.366566Z",
     "start_time": "2024-05-08T08:49:46.359219Z"
    }
   },
   "cell_type": "code",
   "source": [
    "TOTAL.loc[:, 'Proteïnes totals'] = pd.to_numeric(TOTAL['Proteïnes totals'], errors='coerce')\n",
    "\n",
    "Mitjana_prot = TOTAL['Proteïnes totals'].mean()\n",
    "desviacio_estandard_prot = TOTAL['Proteïnes totals'].std()\n",
    "\n",
    "resultat = f\"{Mitjana_prot:.2f} ± {desviacio_estandard_prot:.2f}\"\n",
    "print(\"Mitjana ± Desviació Estàndard de les proteïnes totals:\", resultat)"
   ],
   "id": "a158a5346b4c2ae3",
   "outputs": [
    {
     "name": "stdout",
     "output_type": "stream",
     "text": [
      "Mitjana ± Desviació Estàndard de les proteïnes totals: 6.07 ± 0.74\n"
     ]
    }
   ],
   "execution_count": 873
  },
  {
   "metadata": {},
   "cell_type": "markdown",
   "source": "#### Comparació distributiva",
   "id": "687aa6a75e9eab3a"
  },
  {
   "metadata": {},
   "cell_type": "markdown",
   "source": "##### Normalitat i p-valor",
   "id": "5d71845005c90138"
  },
  {
   "metadata": {
    "ExecuteTime": {
     "end_time": "2024-05-08T08:49:47.287237Z",
     "start_time": "2024-05-08T08:49:47.274050Z"
    }
   },
   "cell_type": "code",
   "source": [
    "protAMBpa=AMB_PA['Proteïnes totals']\n",
    "stat, p_value = shapiro(protAMBpa)\n",
    "print(f\"Estadístic W = {stat:.4f}\")\n",
    "print(f\"Valor p = {p_value:.8f}\")\n",
    "\n",
    "alpha = 0.05\n",
    "if p_value < alpha:\n",
    "    print(\"El nombre de files no segueix una distribució normal.\")\n",
    "else:\n",
    "    print(\"El nombre de files segueix una distribució normal.\")"
   ],
   "id": "ee51e412a8693cf3",
   "outputs": [
    {
     "name": "stdout",
     "output_type": "stream",
     "text": [
      "Estadístic W = nan\n",
      "Valor p = nan\n",
      "El nombre de files segueix una distribució normal.\n"
     ]
    }
   ],
   "execution_count": 874
  },
  {
   "metadata": {
    "ExecuteTime": {
     "end_time": "2024-05-08T08:49:47.812249Z",
     "start_time": "2024-05-08T08:49:47.804082Z"
    }
   },
   "cell_type": "code",
   "source": [
    "protAMBpamecvv=AMB_PA_MECVV['Proteïnes totals']\n",
    "stat, p_value = shapiro(protAMBpamecvv)\n",
    "print(f\"Estadístic W = {stat:.4f}\")\n",
    "print(f\"Valor p = {p_value:.8f}\")\n",
    "\n",
    "alpha = 0.05\n",
    "if p_value < alpha:\n",
    "    print(\"El nombre de files no segueix una distribució normal.\")\n",
    "else:\n",
    "    print(\"El nombre de files segueix una distribució normal.\")"
   ],
   "id": "e32923c4cd92cc53",
   "outputs": [
    {
     "name": "stdout",
     "output_type": "stream",
     "text": [
      "Estadístic W = nan\n",
      "Valor p = nan\n",
      "El nombre de files segueix una distribució normal.\n"
     ]
    }
   ],
   "execution_count": 875
  },
  {
   "metadata": {
    "ExecuteTime": {
     "end_time": "2024-05-08T08:49:48.611526Z",
     "start_time": "2024-05-08T08:49:48.603550Z"
    }
   },
   "cell_type": "code",
   "source": [
    "protsensepa=SENSE_PA['Proteïnes totals']\n",
    "stat, p_value = shapiro(protsensepa)\n",
    "print(f\"Estadístic W = {stat:.4f}\")\n",
    "print(f\"Valor p = {p_value:.8f}\")\n",
    "\n",
    "alpha = 0.05\n",
    "if p_value < alpha:\n",
    "    print(\"El nombre de files no segueix una distribució normal.\")\n",
    "else:\n",
    "    print(\"El nombre de files segueix una distribució normal.\")"
   ],
   "id": "2a5814956c653504",
   "outputs": [
    {
     "name": "stdout",
     "output_type": "stream",
     "text": [
      "Estadístic W = nan\n",
      "Valor p = nan\n",
      "El nombre de files segueix una distribució normal.\n"
     ]
    }
   ],
   "execution_count": 876
  },
  {
   "metadata": {
    "ExecuteTime": {
     "end_time": "2024-05-08T08:49:49.152586Z",
     "start_time": "2024-05-08T08:49:49.142229Z"
    }
   },
   "cell_type": "code",
   "source": [
    "prottotal=TOTAL['Proteïnes totals']\n",
    "stat, p_value = shapiro(prottotal)\n",
    "print(f\"Estadístic W = {stat:.4f}\")\n",
    "print(f\"Valor p = {p_value:.8f}\")\n",
    "\n",
    "alpha = 0.05\n",
    "if p_value < alpha:\n",
    "    print(\"El nombre de files no segueix una distribució normal.\")\n",
    "else:\n",
    "    print(\"El nombre de files segueix una distribució normal.\")"
   ],
   "id": "f4db7cb4c6c8335d",
   "outputs": [
    {
     "name": "stdout",
     "output_type": "stream",
     "text": [
      "Estadístic W = nan\n",
      "Valor p = nan\n",
      "El nombre de files segueix una distribució normal.\n"
     ]
    }
   ],
   "execution_count": 877
  },
  {
   "metadata": {
    "ExecuteTime": {
     "end_time": "2024-05-08T08:49:49.975830Z",
     "start_time": "2024-05-08T08:49:49.966458Z"
    }
   },
   "cell_type": "code",
   "source": [
    "t_stat_12, p_val_12 = ttest_ind(AMB_PA['Proteïnes totals'], AMB_PA_MECVV['Proteïnes totals'], equal_var=False)\n",
    "print(\"P-valor entre AMB_PA i AMB_PA_MECVV:\", p_val_12)"
   ],
   "id": "640cfae7a64c728a",
   "outputs": [
    {
     "name": "stdout",
     "output_type": "stream",
     "text": [
      "P-valor entre AMB_PA i AMB_PA_MECVV: nan\n"
     ]
    }
   ],
   "execution_count": 878
  },
  {
   "metadata": {
    "ExecuteTime": {
     "end_time": "2024-05-08T08:49:50.745709Z",
     "start_time": "2024-05-08T08:49:50.736987Z"
    }
   },
   "cell_type": "code",
   "source": [
    "t_stat_13, p_val_13 = ttest_ind(AMB_PA['Proteïnes totals'], SENSE_PA['Proteïnes totals'], equal_var=False)\n",
    "print(\"P-valor entre AMB_PA i SENSE_PA:\", p_val_13)"
   ],
   "id": "b77de581056bf467",
   "outputs": [
    {
     "name": "stdout",
     "output_type": "stream",
     "text": [
      "P-valor entre AMB_PA i SENSE_PA: nan\n"
     ]
    }
   ],
   "execution_count": 879
  },
  {
   "metadata": {
    "ExecuteTime": {
     "end_time": "2024-05-08T08:49:51.875081Z",
     "start_time": "2024-05-08T08:49:51.867964Z"
    }
   },
   "cell_type": "code",
   "source": [
    "t_stat_23, p_val_23 = ttest_ind(AMB_PA_MECVV['Proteïnes totals'], SENSE_PA['Proteïnes totals'], equal_var=False)\n",
    "print(\"P-valor entre AMB_PA_MECVV i SENSE_PA:\", p_val_23)"
   ],
   "id": "75b2e46ee9c34956",
   "outputs": [
    {
     "name": "stdout",
     "output_type": "stream",
     "text": [
      "P-valor entre AMB_PA_MECVV i SENSE_PA: nan\n"
     ]
    }
   ],
   "execution_count": 880
  },
  {
   "metadata": {
    "ExecuteTime": {
     "end_time": "2024-05-08T08:49:52.559670Z",
     "start_time": "2024-05-08T08:49:52.517750Z"
    }
   },
   "cell_type": "code",
   "source": [
    "t_stat_14, p_val_14 = ttest_ind(AMB_PA['Proteïnes totals'], TOTAL['Proteïnes totals'], equal_var=False)\n",
    "print(\"P-valor entre AMB_PA i TOTAL:\", p_val_14)"
   ],
   "id": "7dc6a288f9c83fee",
   "outputs": [
    {
     "name": "stdout",
     "output_type": "stream",
     "text": [
      "P-valor entre AMB_PA i TOTAL: nan\n"
     ]
    }
   ],
   "execution_count": 881
  },
  {
   "metadata": {
    "ExecuteTime": {
     "end_time": "2024-05-08T08:49:53.890777Z",
     "start_time": "2024-05-08T08:49:53.874492Z"
    }
   },
   "cell_type": "code",
   "source": [
    "t_stat_24, p_val_24 = ttest_ind(AMB_PA_MECVV['Proteïnes totals'], TOTAL['Proteïnes totals'], equal_var=False)\n",
    "print(\"P-valor entre AMB_PA_MECVV i TOTAL:\", p_val_24)"
   ],
   "id": "1ca4a7ea1925f7e0",
   "outputs": [
    {
     "name": "stdout",
     "output_type": "stream",
     "text": [
      "P-valor entre AMB_PA_MECVV i TOTAL: nan\n"
     ]
    }
   ],
   "execution_count": 882
  },
  {
   "metadata": {
    "ExecuteTime": {
     "end_time": "2024-05-08T08:49:54.599704Z",
     "start_time": "2024-05-08T08:49:54.591586Z"
    }
   },
   "cell_type": "code",
   "source": [
    "t_stat_34, p_val_34 = ttest_ind(SENSE_PA['Proteïnes totals'], TOTAL['Proteïnes totals'], equal_var=False)\n",
    "print(\"P-valor entre SENSE_PA i TOTAL:\", p_val_34)"
   ],
   "id": "c6cb487591c4eccb",
   "outputs": [
    {
     "name": "stdout",
     "output_type": "stream",
     "text": [
      "P-valor entre SENSE_PA i TOTAL: nan\n"
     ]
    }
   ],
   "execution_count": 883
  },
  {
   "metadata": {},
   "cell_type": "markdown",
   "source": "### Hemoglobina",
   "id": "bc3fabda212d814d"
  },
  {
   "metadata": {
    "ExecuteTime": {
     "end_time": "2024-05-08T08:49:55.291903Z",
     "start_time": "2024-05-08T08:49:55.284437Z"
    }
   },
   "cell_type": "code",
   "source": [
    "AMB_PA.loc[:, 'Hb'] = pd.to_numeric(AMB_PA['Hb'], errors='coerce')\n",
    "\n",
    "Mitjana_hb = AMB_PA['Hb'].mean()\n",
    "desviacio_estandard_hb = AMB_PA['Hb'].std()\n",
    "\n",
    "resultat = f\"{Mitjana_hb:.2f} ± {desviacio_estandard_hb:.2f}\"\n",
    "print(\"Mitjana ± Desviació Estàndard de l'hemoglobina:\", resultat)"
   ],
   "id": "4be0a89ba5a356a2",
   "outputs": [
    {
     "name": "stdout",
     "output_type": "stream",
     "text": [
      "Mitjana ± Desviació Estàndard de l'hemoglobina: 12.08 ± 1.69\n"
     ]
    }
   ],
   "execution_count": 884
  },
  {
   "metadata": {
    "ExecuteTime": {
     "end_time": "2024-05-08T08:49:55.789402Z",
     "start_time": "2024-05-08T08:49:55.781073Z"
    }
   },
   "cell_type": "code",
   "source": [
    "AMB_PA_MECVV.loc[:, 'Hb'] = pd.to_numeric(AMB_PA_MECVV['Hb'], errors='coerce')\n",
    "\n",
    "Mitjana_hb = AMB_PA_MECVV['Hb'].mean()\n",
    "desviacio_estandard_hb = AMB_PA_MECVV['Hb'].std()\n",
    "\n",
    "resultat = f\"{Mitjana_hb:.2f} ± {desviacio_estandard_hb:.2f}\"\n",
    "print(\"Mitjana ± Desviació Estàndard de l'hemoglobina:\", resultat)"
   ],
   "id": "f1581c2d21067c8a",
   "outputs": [
    {
     "name": "stdout",
     "output_type": "stream",
     "text": [
      "Mitjana ± Desviació Estàndard de l'hemoglobina: 11.77 ± 2.58\n"
     ]
    }
   ],
   "execution_count": 885
  },
  {
   "metadata": {
    "ExecuteTime": {
     "end_time": "2024-05-08T08:49:57.212320Z",
     "start_time": "2024-05-08T08:49:57.204814Z"
    }
   },
   "cell_type": "code",
   "source": [
    "SENSE_PA.loc[:, 'Hb'] = pd.to_numeric(SENSE_PA['Hb'], errors='coerce')\n",
    "\n",
    "Mitjana_hb = SENSE_PA['Hb'].mean()\n",
    "desviacio_estandard_hb = SENSE_PA['Hb'].std()\n",
    "\n",
    "resultat = f\"{Mitjana_hb:.2f} ± {desviacio_estandard_hb:.2f}\"\n",
    "print(\"Mitjana ± Desviació Estàndard de l'hemoglobina:\", resultat)"
   ],
   "id": "4dbaddd2b6faa4d0",
   "outputs": [
    {
     "name": "stdout",
     "output_type": "stream",
     "text": [
      "Mitjana ± Desviació Estàndard de l'hemoglobina: 12.83 ± 1.21\n"
     ]
    }
   ],
   "execution_count": 886
  },
  {
   "metadata": {
    "ExecuteTime": {
     "end_time": "2024-05-08T08:49:57.984940Z",
     "start_time": "2024-05-08T08:49:57.974326Z"
    }
   },
   "cell_type": "code",
   "source": [
    "TOTAL.loc[:, 'Hb'] = pd.to_numeric(TOTAL['Hb'], errors='coerce')\n",
    "\n",
    "Mitjana_hb = TOTAL['Hb'].mean()\n",
    "desviacio_estandard_hb = TOTAL['Hb'].std()\n",
    "\n",
    "resultat = f\"{Mitjana_hb:.2f} ± {desviacio_estandard_hb:.2f}\"\n",
    "print(\"Mitjana ± Desviació Estàndard de la hemoglobina:\", resultat)"
   ],
   "id": "7f1406dc6030986a",
   "outputs": [
    {
     "name": "stdout",
     "output_type": "stream",
     "text": [
      "Mitjana ± Desviació Estàndard de la hemoglobina: 13.15 ± 2.14\n"
     ]
    }
   ],
   "execution_count": 887
  },
  {
   "metadata": {},
   "cell_type": "markdown",
   "source": "#### Comparació distributiva",
   "id": "ddc0429b449395b4"
  },
  {
   "metadata": {},
   "cell_type": "markdown",
   "source": "##### Normalitat i p-valor",
   "id": "c382a95019a110b8"
  },
  {
   "metadata": {
    "ExecuteTime": {
     "end_time": "2024-05-08T08:49:58.897570Z",
     "start_time": "2024-05-08T08:49:58.891349Z"
    }
   },
   "cell_type": "code",
   "source": [
    "hbAMBpa=AMB_PA['Hb'].dropna()\n",
    "stat, p_value = shapiro(hbAMBpa)\n",
    "print(f\"Estadístic W = {stat:.4f}\")\n",
    "print(f\"Valor p = {p_value:.8f}\")\n",
    "\n",
    "alpha = 0.05\n",
    "if p_value < alpha:\n",
    "    print(\"El nombre de files no segueix una distribució normal.\")\n",
    "else:\n",
    "    print(\"El nombre de files segueix una distribució normal.\")"
   ],
   "id": "4645c97120fb1fd3",
   "outputs": [
    {
     "name": "stdout",
     "output_type": "stream",
     "text": [
      "Estadístic W = 0.9431\n",
      "Valor p = 0.64178264\n",
      "El nombre de files segueix una distribució normal.\n"
     ]
    }
   ],
   "execution_count": 888
  },
  {
   "metadata": {
    "ExecuteTime": {
     "end_time": "2024-05-08T08:49:59.545338Z",
     "start_time": "2024-05-08T08:49:59.538135Z"
    }
   },
   "cell_type": "code",
   "source": [
    "hbAMBpamecvv=AMB_PA_MECVV['Hb'].dropna()\n",
    "stat, p_value = shapiro(hbAMBpamecvv)\n",
    "print(f\"Estadístic W = {stat:.4f}\")\n",
    "print(f\"Valor p = {p_value:.8f}\")\n",
    "\n",
    "alpha = 0.05\n",
    "if p_value < alpha:\n",
    "    print(\"El nombre de files no segueix una distribució normal.\")\n",
    "else:\n",
    "    print(\"El nombre de files segueix una distribució normal.\")"
   ],
   "id": "d79ccaeb50aaf990",
   "outputs": [
    {
     "name": "stdout",
     "output_type": "stream",
     "text": [
      "Estadístic W = 0.8288\n",
      "Valor p = 0.18525796\n",
      "El nombre de files segueix una distribució normal.\n"
     ]
    }
   ],
   "execution_count": 889
  },
  {
   "metadata": {
    "ExecuteTime": {
     "end_time": "2024-05-08T08:50:00.355947Z",
     "start_time": "2024-05-08T08:50:00.349370Z"
    }
   },
   "cell_type": "code",
   "source": [
    "hbsensepa=SENSE_PA['Hb'].dropna()\n",
    "stat, p_value = shapiro(hbsensepa)\n",
    "print(f\"Estadístic W = {stat:.4f}\")\n",
    "print(f\"Valor p = {p_value:.8f}\")\n",
    "\n",
    "alpha = 0.05\n",
    "if p_value < alpha:\n",
    "    print(\"El nombre de files no segueix una distribució normal.\")\n",
    "else:\n",
    "    print(\"El nombre de files segueix una distribució normal.\")"
   ],
   "id": "351dabcedb823e1a",
   "outputs": [
    {
     "name": "stdout",
     "output_type": "stream",
     "text": [
      "Estadístic W = 0.9762\n",
      "Valor p = 0.93094253\n",
      "El nombre de files segueix una distribució normal.\n"
     ]
    }
   ],
   "execution_count": 890
  },
  {
   "metadata": {
    "ExecuteTime": {
     "end_time": "2024-05-08T08:50:00.916632Z",
     "start_time": "2024-05-08T08:50:00.906828Z"
    }
   },
   "cell_type": "code",
   "source": [
    "hbtotal=TOTAL['Hb'].dropna()\n",
    "stat, p_value = shapiro(hbtotal)\n",
    "print(f\"Estadístic W = {stat:.4f}\")\n",
    "print(f\"Valor p = {p_value:.8f}\")\n",
    "\n",
    "alpha = 0.05\n",
    "if p_value < alpha:\n",
    "    print(\"El nombre de files no segueix una distribució normal.\")\n",
    "else:\n",
    "    print(\"El nombre de files segueix una distribució normal.\")"
   ],
   "id": "71b1395ea14acd8c",
   "outputs": [
    {
     "name": "stdout",
     "output_type": "stream",
     "text": [
      "Estadístic W = 0.9511\n",
      "Valor p = 0.30854910\n",
      "El nombre de files segueix una distribució normal.\n"
     ]
    }
   ],
   "execution_count": 891
  },
  {
   "metadata": {
    "ExecuteTime": {
     "end_time": "2024-05-08T08:50:01.723252Z",
     "start_time": "2024-05-08T08:50:01.713818Z"
    }
   },
   "cell_type": "code",
   "source": [
    "t_stat_12, p_val_12 = ttest_ind(AMB_PA['Hb'], AMB_PA_MECVV['Hb'], equal_var=False)\n",
    "print(\"P-valor entre AMB_PA i AMB_PA_MECVV:\", p_val_12)"
   ],
   "id": "5602c373ef7d4cb2",
   "outputs": [
    {
     "name": "stdout",
     "output_type": "stream",
     "text": [
      "P-valor entre AMB_PA i AMB_PA_MECVV: nan\n"
     ]
    }
   ],
   "execution_count": 892
  },
  {
   "metadata": {
    "ExecuteTime": {
     "end_time": "2024-05-08T08:50:02.381413Z",
     "start_time": "2024-05-08T08:50:02.373079Z"
    }
   },
   "cell_type": "code",
   "source": [
    "t_stat_13, p_val_13 = ttest_ind(AMB_PA['Hb'], SENSE_PA['Hb'], equal_var=False)\n",
    "print(\"P-valor entre AMB_PA i SENSE_PA:\", p_val_13)"
   ],
   "id": "a1f56b13f87e1b8e",
   "outputs": [
    {
     "name": "stdout",
     "output_type": "stream",
     "text": [
      "P-valor entre AMB_PA i SENSE_PA: nan\n"
     ]
    }
   ],
   "execution_count": 893
  },
  {
   "metadata": {
    "ExecuteTime": {
     "end_time": "2024-05-08T08:50:03.314308Z",
     "start_time": "2024-05-08T08:50:03.305049Z"
    }
   },
   "cell_type": "code",
   "source": [
    "t_stat_23, p_val_23 = ttest_ind(AMB_PA_MECVV['Hb'], SENSE_PA['Hb'], equal_var=False)\n",
    "print(\"P-valor entre AMB_PA_MECVV i SENSE_PA:\", p_val_23)"
   ],
   "id": "e5192f3a3700eb3a",
   "outputs": [
    {
     "name": "stdout",
     "output_type": "stream",
     "text": [
      "P-valor entre AMB_PA_MECVV i SENSE_PA: nan\n"
     ]
    }
   ],
   "execution_count": 894
  },
  {
   "metadata": {
    "ExecuteTime": {
     "end_time": "2024-05-08T08:50:03.926883Z",
     "start_time": "2024-05-08T08:50:03.913270Z"
    }
   },
   "cell_type": "code",
   "source": [
    "t_stat_14, p_val_14 = ttest_ind(AMB_PA['Hb'], TOTAL['Hb'], equal_var=False)\n",
    "print(\"P-valor entre AMB_PA i TOTAL:\", p_val_14)"
   ],
   "id": "6596ec7214854a86",
   "outputs": [
    {
     "name": "stdout",
     "output_type": "stream",
     "text": [
      "P-valor entre AMB_PA i TOTAL: nan\n"
     ]
    }
   ],
   "execution_count": 895
  },
  {
   "metadata": {
    "ExecuteTime": {
     "end_time": "2024-05-08T08:50:04.618783Z",
     "start_time": "2024-05-08T08:50:04.610841Z"
    }
   },
   "cell_type": "code",
   "source": [
    "t_stat_24, p_val_24 = ttest_ind(AMB_PA_MECVV['Hb'], TOTAL['Hb'], equal_var=False)\n",
    "print(\"P-valor entre AMB_PA_MECVV i TOTAL:\", p_val_24)"
   ],
   "id": "eae4a5293d976b86",
   "outputs": [
    {
     "name": "stdout",
     "output_type": "stream",
     "text": [
      "P-valor entre AMB_PA_MECVV i TOTAL: nan\n"
     ]
    }
   ],
   "execution_count": 896
  },
  {
   "metadata": {
    "ExecuteTime": {
     "end_time": "2024-05-08T08:50:05.213941Z",
     "start_time": "2024-05-08T08:50:05.204874Z"
    }
   },
   "cell_type": "code",
   "source": [
    "t_stat_34, p_val_34 = ttest_ind(SENSE_PA['Hb'], TOTAL['Hb'], equal_var=False)\n",
    "print(\"P-valor entre SENSE_PA i TOTAL:\", p_val_34)"
   ],
   "id": "2df6b5fcdc8cf003",
   "outputs": [
    {
     "name": "stdout",
     "output_type": "stream",
     "text": [
      "P-valor entre SENSE_PA i TOTAL: nan\n"
     ]
    }
   ],
   "execution_count": 897
  },
  {
   "metadata": {},
   "cell_type": "markdown",
   "source": "### Colesterol ",
   "id": "69fb7071d7d6eaef"
  },
  {
   "metadata": {
    "ExecuteTime": {
     "end_time": "2024-05-08T08:50:05.929904Z",
     "start_time": "2024-05-08T08:50:05.921363Z"
    }
   },
   "cell_type": "code",
   "source": [
    "AMB_PA.loc[:, 'Colesterol total'] = pd.to_numeric(AMB_PA['Colesterol total'], errors='coerce')\n",
    "\n",
    "Mitjana_col = AMB_PA['Colesterol total'].mean()\n",
    "desviacio_estandard_col = AMB_PA['Colesterol total'].std()\n",
    "\n",
    "resultat = f\"{Mitjana_col:.2f} ± {desviacio_estandard_col:.2f}\"\n",
    "print(\"Mitjana ± Desviació Estàndard del colesterol total:\", resultat)"
   ],
   "id": "fe8d9b7560d6730",
   "outputs": [
    {
     "name": "stdout",
     "output_type": "stream",
     "text": [
      "Mitjana ± Desviació Estàndard del colesterol total: 132.10 ± 34.83\n"
     ]
    }
   ],
   "execution_count": 898
  },
  {
   "metadata": {
    "ExecuteTime": {
     "end_time": "2024-05-08T08:50:06.464188Z",
     "start_time": "2024-05-08T08:50:06.456309Z"
    }
   },
   "cell_type": "code",
   "source": [
    "AMB_PA_MECVV.loc[:, 'Colesterol total'] = pd.to_numeric(AMB_PA_MECVV['Colesterol total'], errors='coerce')\n",
    "\n",
    "Mitjana_col = AMB_PA_MECVV['Colesterol total'].mean()\n",
    "desviacio_estandard_col = AMB_PA_MECVV['Colesterol total'].std()\n",
    "\n",
    "resultat = f\"{Mitjana_col:.2f} ± {desviacio_estandard_col:.2f}\"\n",
    "print(\"Mitjana ± Desviació Estàndard del colesterol total:\", resultat)"
   ],
   "id": "8546537e62ad77dd",
   "outputs": [
    {
     "name": "stdout",
     "output_type": "stream",
     "text": [
      "Mitjana ± Desviació Estàndard del colesterol total: 151.47 ± 33.55\n"
     ]
    }
   ],
   "execution_count": 899
  },
  {
   "metadata": {
    "ExecuteTime": {
     "end_time": "2024-05-08T08:50:07.226340Z",
     "start_time": "2024-05-08T08:50:07.216563Z"
    }
   },
   "cell_type": "code",
   "source": [
    "SENSE_PA.loc[:, 'Colesterol total'] = pd.to_numeric(SENSE_PA['Colesterol total'], errors='coerce')\n",
    "\n",
    "Mitjana_col = SENSE_PA['Colesterol total'].mean()\n",
    "desviacio_estandard_col = SENSE_PA['Colesterol total'].std()\n",
    "\n",
    "resultat = f\"{Mitjana_col:.2f} ± {desviacio_estandard_col:.2f}\"\n",
    "print(\"Mitjana ± Desviació Estàndard del colesterol total:\", resultat)"
   ],
   "id": "9e49175aad80cbde",
   "outputs": [
    {
     "name": "stdout",
     "output_type": "stream",
     "text": [
      "Mitjana ± Desviació Estàndard del colesterol total: 115.28 ± 23.69\n"
     ]
    }
   ],
   "execution_count": 900
  },
  {
   "metadata": {
    "ExecuteTime": {
     "end_time": "2024-05-08T08:50:07.797042Z",
     "start_time": "2024-05-08T08:50:07.787179Z"
    }
   },
   "cell_type": "code",
   "source": [
    "TOTAL.loc[:, 'Colesterol total'] = pd.to_numeric(TOTAL['Colesterol total'], errors='coerce')\n",
    "\n",
    "Mitjana_col = TOTAL['Colesterol total'].mean()\n",
    "desviacio_estandard_col = TOTAL['Colesterol total'].std()\n",
    "\n",
    "resultat = f\"{Mitjana_col:.2f} ± {desviacio_estandard_col:.2f}\"\n",
    "print(\"Mitjana ± Desviació Estàndard del colesterol total:\", resultat)"
   ],
   "id": "39372048369ca85",
   "outputs": [
    {
     "name": "stdout",
     "output_type": "stream",
     "text": [
      "Mitjana ± Desviació Estàndard del colesterol total: 142.67 ± 40.92\n"
     ]
    }
   ],
   "execution_count": 901
  },
  {
   "metadata": {},
   "cell_type": "markdown",
   "source": "#### Comparació distributiva",
   "id": "1eaeaee06918537e"
  },
  {
   "metadata": {},
   "cell_type": "markdown",
   "source": [
    "##### P-valor i normalitat\n",
    "\n"
   ],
   "id": "7e22980115bb759b"
  },
  {
   "metadata": {
    "ExecuteTime": {
     "end_time": "2024-05-08T08:50:08.590214Z",
     "start_time": "2024-05-08T08:50:08.583123Z"
    }
   },
   "cell_type": "code",
   "source": [
    "colAMBpa=AMB_PA['Colesterol total'].dropna()\n",
    "stat, p_value = shapiro(colAMBpa)\n",
    "print(f\"Estadístic W = {stat:.4f}\")\n",
    "print(f\"Valor p = {p_value:.8f}\")\n",
    "\n",
    "alpha = 0.05\n",
    "if p_value < alpha:\n",
    "    print(\"El nombre de files no segueix una distribució normal.\")\n",
    "else:\n",
    "    print(\"El nombre de files segueix una distribució normal.\")"
   ],
   "id": "135b3c8f15d09625",
   "outputs": [
    {
     "name": "stdout",
     "output_type": "stream",
     "text": [
      "Estadístic W = 0.9887\n",
      "Valor p = 0.99048226\n",
      "El nombre de files segueix una distribució normal.\n"
     ]
    }
   ],
   "execution_count": 902
  },
  {
   "metadata": {
    "ExecuteTime": {
     "end_time": "2024-05-08T08:50:09.260908Z",
     "start_time": "2024-05-08T08:50:09.250698Z"
    }
   },
   "cell_type": "code",
   "source": [
    "colAMBpamecvv=AMB_PA_MECVV['Colesterol total'].dropna()\n",
    "stat, p_value = shapiro(colAMBpamecvv)\n",
    "print(f\"Estadístic W = {stat:.4f}\")\n",
    "print(f\"Valor p = {p_value:.8f}\")\n",
    "\n",
    "alpha = 0.05\n",
    "if p_value < alpha:\n",
    "    print(\"El nombre de files no segueix una distribució normal.\")\n",
    "else:\n",
    "    print(\"El nombre de files segueix una distribució normal.\")"
   ],
   "id": "35555189779cc831",
   "outputs": [
    {
     "name": "stdout",
     "output_type": "stream",
     "text": [
      "Estadístic W = 0.9941\n",
      "Valor p = 0.85359605\n",
      "El nombre de files segueix una distribució normal.\n"
     ]
    }
   ],
   "execution_count": 903
  },
  {
   "metadata": {
    "ExecuteTime": {
     "end_time": "2024-05-08T08:50:10.227460Z",
     "start_time": "2024-05-08T08:50:10.219236Z"
    }
   },
   "cell_type": "code",
   "source": [
    "colsensepa=SENSE_PA['Colesterol total'].dropna()\n",
    "stat, p_value = shapiro(colsensepa)\n",
    "print(f\"Estadístic W = {stat:.4f}\")\n",
    "print(f\"Valor p = {p_value:.8f}\")\n",
    "\n",
    "alpha = 0.05\n",
    "if p_value < alpha:\n",
    "    print(\"El nombre de files no segueix una distribució normal.\")\n",
    "else:\n",
    "    print(\"El nombre de files segueix una distribució normal.\")"
   ],
   "id": "bb384e047dbdd903",
   "outputs": [
    {
     "name": "stdout",
     "output_type": "stream",
     "text": [
      "Estadístic W = 0.9231\n",
      "Valor p = 0.55007868\n",
      "El nombre de files segueix una distribució normal.\n"
     ]
    }
   ],
   "execution_count": 904
  },
  {
   "metadata": {
    "ExecuteTime": {
     "end_time": "2024-05-08T08:50:10.754923Z",
     "start_time": "2024-05-08T08:50:10.746450Z"
    }
   },
   "cell_type": "code",
   "source": [
    "coltotal=TOTAL['Colesterol total'].dropna()\n",
    "stat, p_value = shapiro(coltotal)\n",
    "print(f\"Estadístic W = {stat:.4f}\")\n",
    "print(f\"Valor p = {p_value:.8f}\")\n",
    "\n",
    "alpha = 0.05\n",
    "if p_value < alpha:\n",
    "    print(\"El nombre de files no segueix una distribució normal.\")\n",
    "else:\n",
    "    print(\"El nombre de files segueix una distribució normal.\")"
   ],
   "id": "c653c7b61d40a5b6",
   "outputs": [
    {
     "name": "stdout",
     "output_type": "stream",
     "text": [
      "Estadístic W = 0.9629\n",
      "Valor p = 0.63113194\n",
      "El nombre de files segueix una distribució normal.\n"
     ]
    }
   ],
   "execution_count": 905
  },
  {
   "metadata": {
    "ExecuteTime": {
     "end_time": "2024-05-08T08:50:11.455968Z",
     "start_time": "2024-05-08T08:50:11.447444Z"
    }
   },
   "cell_type": "code",
   "source": [
    "t_stat_12, p_val_12 = ttest_ind(AMB_PA['Colesterol total'], AMB_PA_MECVV['Colesterol total'], equal_var=False)\n",
    "print(\"P-valor entre AMB_PA i AMB_PA_MECVV:\", p_val_12)"
   ],
   "id": "c656a0d73bb5551d",
   "outputs": [
    {
     "name": "stdout",
     "output_type": "stream",
     "text": [
      "P-valor entre AMB_PA i AMB_PA_MECVV: nan\n"
     ]
    }
   ],
   "execution_count": 906
  },
  {
   "metadata": {
    "ExecuteTime": {
     "end_time": "2024-05-08T08:50:12.004820Z",
     "start_time": "2024-05-08T08:50:11.997978Z"
    }
   },
   "cell_type": "code",
   "source": [
    "t_stat_13, p_val_13 = ttest_ind(AMB_PA['Colesterol total'], SENSE_PA['Colesterol total'], equal_var=False)\n",
    "print(\"P-valor entre AMB_PA i SENSE_PA:\", p_val_13)"
   ],
   "id": "308784ac133fab84",
   "outputs": [
    {
     "name": "stdout",
     "output_type": "stream",
     "text": [
      "P-valor entre AMB_PA i SENSE_PA: nan\n"
     ]
    }
   ],
   "execution_count": 907
  },
  {
   "metadata": {
    "ExecuteTime": {
     "end_time": "2024-05-08T08:50:12.866115Z",
     "start_time": "2024-05-08T08:50:12.856455Z"
    }
   },
   "cell_type": "code",
   "source": [
    "t_stat_23, p_val_23 = ttest_ind(AMB_PA_MECVV['Colesterol total'], SENSE_PA['Colesterol total'], equal_var=False)\n",
    "print(\"P-valor entre AMB_PA_MECVV i SENSE_PA:\", p_val_23)"
   ],
   "id": "a981d08ea9a0e6c4",
   "outputs": [
    {
     "name": "stdout",
     "output_type": "stream",
     "text": [
      "P-valor entre AMB_PA_MECVV i SENSE_PA: nan\n"
     ]
    }
   ],
   "execution_count": 908
  },
  {
   "metadata": {
    "ExecuteTime": {
     "end_time": "2024-05-08T08:50:13.443076Z",
     "start_time": "2024-05-08T08:50:13.428620Z"
    }
   },
   "cell_type": "code",
   "source": [
    "t_stat_14, p_val_14 = ttest_ind(AMB_PA['Colesterol total'], TOTAL['Colesterol total'], equal_var=False)\n",
    "print(\"P-valor entre AMB_PA i TOTAL:\", p_val_14)"
   ],
   "id": "559b771cd48a0985",
   "outputs": [
    {
     "name": "stdout",
     "output_type": "stream",
     "text": [
      "P-valor entre AMB_PA i TOTAL: nan\n"
     ]
    }
   ],
   "execution_count": 909
  },
  {
   "metadata": {
    "ExecuteTime": {
     "end_time": "2024-05-08T08:50:14.301749Z",
     "start_time": "2024-05-08T08:50:14.293574Z"
    }
   },
   "cell_type": "code",
   "source": [
    "t_stat_24, p_val_24 = ttest_ind(AMB_PA_MECVV['Colesterol total'], TOTAL['Colesterol total'], equal_var=False)\n",
    "print(\"P-valor entre AMB_PA_MECVV i TOTAL:\", p_val_24)"
   ],
   "id": "f1ea4d0fe16078f5",
   "outputs": [
    {
     "name": "stdout",
     "output_type": "stream",
     "text": [
      "P-valor entre AMB_PA_MECVV i TOTAL: nan\n"
     ]
    }
   ],
   "execution_count": 910
  },
  {
   "metadata": {
    "ExecuteTime": {
     "end_time": "2024-05-08T08:50:15.157708Z",
     "start_time": "2024-05-08T08:50:15.152052Z"
    }
   },
   "cell_type": "code",
   "source": [
    "t_stat_34, p_val_34 = ttest_ind(SENSE_PA['Colesterol total'], TOTAL['Colesterol total'], equal_var=False)\n",
    "print(\"P-valor entre SENSE_PA i TOTAL:\", p_val_34)"
   ],
   "id": "d1950b15a27ad400",
   "outputs": [
    {
     "name": "stdout",
     "output_type": "stream",
     "text": [
      "P-valor entre SENSE_PA i TOTAL: nan\n"
     ]
    }
   ],
   "execution_count": 911
  },
  {
   "metadata": {},
   "cell_type": "markdown",
   "source": "### Leucòcits",
   "id": "7e1abe2f5bcccb21"
  },
  {
   "metadata": {
    "ExecuteTime": {
     "end_time": "2024-05-08T08:50:15.788117Z",
     "start_time": "2024-05-08T08:50:15.777233Z"
    }
   },
   "cell_type": "code",
   "source": [
    "AMB_PA.loc[:, 'Leucos'] = pd.to_numeric(AMB_PA['Leucos'], errors='coerce')\n",
    "\n",
    "Mitjana_leu = AMB_PA['Leucos'].mean()\n",
    "desviacio_estandard_leu = AMB_PA['Leucos'].std()\n",
    "\n",
    "resultat = f\"{Mitjana_leu:.2f} ± {desviacio_estandard_leu:.2f}\"\n",
    "print(\"Mitjana ± Desviació Estàndard dels leucòcits:\", resultat)"
   ],
   "id": "4430c7eeb483cea3",
   "outputs": [
    {
     "name": "stdout",
     "output_type": "stream",
     "text": [
      "Mitjana ± Desviació Estàndard dels leucòcits: 12.69 ± 4.88\n"
     ]
    }
   ],
   "execution_count": 912
  },
  {
   "metadata": {
    "ExecuteTime": {
     "end_time": "2024-05-08T08:50:16.324378Z",
     "start_time": "2024-05-08T08:50:16.311116Z"
    }
   },
   "cell_type": "code",
   "source": [
    "AMB_PA_MECVV.loc[:, 'Leucos'] = pd.to_numeric(AMB_PA_MECVV['Leucos'], errors='coerce')\n",
    "\n",
    "Mitjana_leu = AMB_PA_MECVV['Leucos'].mean()\n",
    "desviacio_estandard_leu = AMB_PA_MECVV['Leucos'].std()\n",
    "\n",
    "resultat = f\"{Mitjana_leu:.2f} ± {desviacio_estandard_leu:.2f}\"\n",
    "print(\"Mitjana ± Desviació Estàndard dels leucòcits:\", resultat)"
   ],
   "id": "3ad74bc493302210",
   "outputs": [
    {
     "name": "stdout",
     "output_type": "stream",
     "text": [
      "Mitjana ± Desviació Estàndard dels leucòcits: 8.83 ± 0.70\n"
     ]
    }
   ],
   "execution_count": 913
  },
  {
   "metadata": {
    "ExecuteTime": {
     "end_time": "2024-05-08T08:50:17.078101Z",
     "start_time": "2024-05-08T08:50:17.069550Z"
    }
   },
   "cell_type": "code",
   "source": [
    "SENSE_PA.loc[:, 'Leucos'] = pd.to_numeric(SENSE_PA['Leucos'], errors='coerce')\n",
    "\n",
    "Mitjana_leu = SENSE_PA['Leucos'].mean()\n",
    "desviacio_estandard_leu = SENSE_PA['Leucos'].std()\n",
    "\n",
    "resultat = f\"{Mitjana_leu:.2f} ± {desviacio_estandard_leu:.2f}\"\n",
    "print(\"Mitjana ± Desviació Estàndard dels leucòcits:\", resultat)"
   ],
   "id": "99a1a6295c361a2c",
   "outputs": [
    {
     "name": "stdout",
     "output_type": "stream",
     "text": [
      "Mitjana ± Desviació Estàndard dels leucòcits: 10.68 ± 6.49\n"
     ]
    }
   ],
   "execution_count": 914
  },
  {
   "metadata": {
    "ExecuteTime": {
     "end_time": "2024-05-08T08:50:17.598319Z",
     "start_time": "2024-05-08T08:50:17.586263Z"
    }
   },
   "cell_type": "code",
   "source": [
    "TOTAL.loc[:, 'Leucos'] = pd.to_numeric(TOTAL['Leucos'], errors='coerce')\n",
    "\n",
    "Mitjana_leu = TOTAL['Leucos'].mean()\n",
    "desviacio_estandard_leu = TOTAL['Leucos'].std()\n",
    "\n",
    "resultat = f\"{Mitjana_leu:.2f} ± {desviacio_estandard_leu:.2f}\"\n",
    "print(\"Mitjana ± Desviació Estàndard dels leucòcits:\", resultat)"
   ],
   "id": "818864d735ade4f6",
   "outputs": [
    {
     "name": "stdout",
     "output_type": "stream",
     "text": [
      "Mitjana ± Desviació Estàndard dels leucòcits: 11.34 ± 6.43\n"
     ]
    }
   ],
   "execution_count": 915
  },
  {
   "metadata": {},
   "cell_type": "markdown",
   "source": "#### Comparació distributiva ",
   "id": "9511b2de133ed812"
  },
  {
   "metadata": {},
   "cell_type": "markdown",
   "source": "##### Normalitat i p-valor",
   "id": "d1fa962aa6b639d3"
  },
  {
   "metadata": {
    "ExecuteTime": {
     "end_time": "2024-05-08T08:50:18.356876Z",
     "start_time": "2024-05-08T08:50:18.346178Z"
    }
   },
   "cell_type": "code",
   "source": [
    "leuambpa=AMB_PA['Leucos'].dropna()\n",
    "stat, p_value = shapiro(leuambpa)\n",
    "print(f\"Estadístic W = {stat:.4f}\")\n",
    "print(f\"Valor p = {p_value:.8f}\")\n",
    "\n",
    "alpha = 0.05\n",
    "if p_value < alpha:\n",
    "    print(\"El nombre de files no segueix una distribució normal.\")\n",
    "else:\n",
    "    print(\"El nombre de files segueix una distribució normal.\")"
   ],
   "id": "c19926c8fe5c2c29",
   "outputs": [
    {
     "name": "stdout",
     "output_type": "stream",
     "text": [
      "Estadístic W = 0.8482\n",
      "Valor p = 0.09127190\n",
      "El nombre de files segueix una distribució normal.\n"
     ]
    }
   ],
   "execution_count": 916
  },
  {
   "metadata": {
    "ExecuteTime": {
     "end_time": "2024-05-08T08:50:18.843952Z",
     "start_time": "2024-05-08T08:50:18.837755Z"
    }
   },
   "cell_type": "code",
   "source": [
    "leuambpamecvv=AMB_PA_MECVV['Leucos'].dropna()\n",
    "stat, p_value = shapiro(leuambpamecvv)\n",
    "print(f\"Estadístic W = {stat:.4f}\")\n",
    "print(f\"Valor p = {p_value:.8f}\")\n",
    "\n",
    "alpha = 0.05\n",
    "if p_value < alpha:\n",
    "    print(\"El nombre de files no segueix una distribució normal.\")\n",
    "else:\n",
    "    print(\"El nombre de files segueix una distribució normal.\")"
   ],
   "id": "94aa3e5f50110b82",
   "outputs": [
    {
     "name": "stdout",
     "output_type": "stream",
     "text": [
      "Estadístic W = 0.8811\n",
      "Valor p = 0.32754766\n",
      "El nombre de files segueix una distribució normal.\n"
     ]
    }
   ],
   "execution_count": 917
  },
  {
   "metadata": {
    "ExecuteTime": {
     "end_time": "2024-05-08T08:50:20.187374Z",
     "start_time": "2024-05-08T08:50:20.179241Z"
    }
   },
   "cell_type": "code",
   "source": [
    "leusensepa=SENSE_PA['Leucos'].dropna()\n",
    "stat, p_value = shapiro(leusensepa)\n",
    "print(f\"Estadístic W = {stat:.4f}\")\n",
    "print(f\"Valor p = {p_value:.8f}\")\n",
    "\n",
    "alpha = 0.05\n",
    "if p_value < alpha:\n",
    "    print(\"El nombre de files no segueix una distribució normal.\")\n",
    "else:\n",
    "    print(\"El nombre de files segueix una distribució normal.\")"
   ],
   "id": "85f281e368032537",
   "outputs": [
    {
     "name": "stdout",
     "output_type": "stream",
     "text": [
      "Estadístic W = 0.8233\n",
      "Valor p = 0.09427563\n",
      "El nombre de files segueix una distribució normal.\n"
     ]
    }
   ],
   "execution_count": 918
  },
  {
   "metadata": {
    "ExecuteTime": {
     "end_time": "2024-05-08T08:50:20.886686Z",
     "start_time": "2024-05-08T08:50:20.879079Z"
    }
   },
   "cell_type": "code",
   "source": [
    "leutotal=TOTAL['Leucos'].dropna()\n",
    "stat, p_value = shapiro(leutotal)\n",
    "print(f\"Estadístic W = {stat:.4f}\")\n",
    "print(f\"Valor p = {p_value:.8f}\")\n",
    "\n",
    "alpha = 0.05\n",
    "if p_value < alpha:\n",
    "    print(\"El nombre de files no segueix una distribució normal.\")\n",
    "else:\n",
    "    print(\"El nombre de files segueix una distribució normal.\")"
   ],
   "id": "6914ca7aed7a6a5b",
   "outputs": [
    {
     "name": "stdout",
     "output_type": "stream",
     "text": [
      "Estadístic W = 0.8070\n",
      "Valor p = 0.00049781\n",
      "El nombre de files no segueix una distribució normal.\n"
     ]
    }
   ],
   "execution_count": 919
  },
  {
   "metadata": {
    "ExecuteTime": {
     "end_time": "2024-05-08T08:50:21.587305Z",
     "start_time": "2024-05-08T08:50:21.581268Z"
    }
   },
   "cell_type": "code",
   "source": [
    "t_stat_12, p_val_12 = ttest_ind(AMB_PA['Leucos'], AMB_PA_MECVV['Leucos'], equal_var=False)\n",
    "print(\"P-valor entre AMB_PA i AMB_PA_MECVV:\", p_val_12)"
   ],
   "id": "59295ec2bdcca38d",
   "outputs": [
    {
     "name": "stdout",
     "output_type": "stream",
     "text": [
      "P-valor entre AMB_PA i AMB_PA_MECVV: nan\n"
     ]
    }
   ],
   "execution_count": 920
  },
  {
   "metadata": {
    "ExecuteTime": {
     "end_time": "2024-05-08T08:50:22.136783Z",
     "start_time": "2024-05-08T08:50:22.126704Z"
    }
   },
   "cell_type": "code",
   "source": [
    "t_stat_13, p_val_13 = ttest_ind(AMB_PA['Leucos'], SENSE_PA['Leucos'], equal_var=False)\n",
    "print(\"P-valor entre AMB_PA i SENSE_PA:\", p_val_13)"
   ],
   "id": "79ab95afbed3f45c",
   "outputs": [
    {
     "name": "stdout",
     "output_type": "stream",
     "text": [
      "P-valor entre AMB_PA i SENSE_PA: nan\n"
     ]
    }
   ],
   "execution_count": 921
  },
  {
   "metadata": {
    "ExecuteTime": {
     "end_time": "2024-05-08T08:50:22.868763Z",
     "start_time": "2024-05-08T08:50:22.860336Z"
    }
   },
   "cell_type": "code",
   "source": [
    "t_stat_23, p_val_23 = ttest_ind(AMB_PA_MECVV['Leucos'], SENSE_PA['Leucos'], equal_var=False)\n",
    "print(\"P-valor entre AMB_PA_MECVV i SENSE_PA:\", p_val_23)"
   ],
   "id": "9d6e12e2297c2edb",
   "outputs": [
    {
     "name": "stdout",
     "output_type": "stream",
     "text": [
      "P-valor entre AMB_PA_MECVV i SENSE_PA: nan\n"
     ]
    }
   ],
   "execution_count": 922
  },
  {
   "metadata": {
    "ExecuteTime": {
     "end_time": "2024-05-08T08:50:23.366240Z",
     "start_time": "2024-05-08T08:50:23.357734Z"
    }
   },
   "cell_type": "code",
   "source": [
    "t_stat_14, p_val_14 = ttest_ind(AMB_PA['Leucos'], TOTAL['Leucos'], equal_var=False)\n",
    "print(\"P-valor entre AMB_PA i TOTAL:\", p_val_14)"
   ],
   "id": "c92ae7b27073e5c3",
   "outputs": [
    {
     "name": "stdout",
     "output_type": "stream",
     "text": [
      "P-valor entre AMB_PA i TOTAL: nan\n"
     ]
    }
   ],
   "execution_count": 923
  },
  {
   "metadata": {
    "ExecuteTime": {
     "end_time": "2024-05-08T08:50:24.094116Z",
     "start_time": "2024-05-08T08:50:24.086025Z"
    }
   },
   "cell_type": "code",
   "source": [
    "t_stat_24, p_val_24 = ttest_ind(AMB_PA_MECVV['Leucos'], TOTAL['Leucos'], equal_var=False)\n",
    "print(\"P-valor entre AMB_PA_MECVV i TOTAL:\", p_val_24)"
   ],
   "id": "731294067ba740f2",
   "outputs": [
    {
     "name": "stdout",
     "output_type": "stream",
     "text": [
      "P-valor entre AMB_PA_MECVV i TOTAL: nan\n"
     ]
    }
   ],
   "execution_count": 924
  },
  {
   "metadata": {
    "ExecuteTime": {
     "end_time": "2024-05-08T08:50:24.776917Z",
     "start_time": "2024-05-08T08:50:24.768278Z"
    }
   },
   "cell_type": "code",
   "source": [
    "t_stat_34, p_val_34 = ttest_ind(SENSE_PA['Leucos'], TOTAL['Leucos'], equal_var=False)\n",
    "print(\"P-valor entre SENSE_PA i TOTAL:\", p_val_34)"
   ],
   "id": "3840ed2c26e2b5b1",
   "outputs": [
    {
     "name": "stdout",
     "output_type": "stream",
     "text": [
      "P-valor entre SENSE_PA i TOTAL: nan\n"
     ]
    }
   ],
   "execution_count": 925
  },
  {
   "metadata": {},
   "cell_type": "markdown",
   "source": "### Limfòcits %",
   "id": "c7ba36254173c3f"
  },
  {
   "metadata": {
    "ExecuteTime": {
     "end_time": "2024-05-08T08:50:27.341593Z",
     "start_time": "2024-05-08T08:50:27.332761Z"
    }
   },
   "cell_type": "code",
   "source": [
    "AMB_PA.loc[:, 'Limfos'] = pd.to_numeric(AMB_PA['Limfos'], errors='coerce')\n",
    "\n",
    "Mitjana_limf = AMB_PA['Limfos'].mean()\n",
    "desviacio_estandard_limf = AMB_PA['Limfos'].std()\n",
    "\n",
    "resultat = f\"{Mitjana_limf:.2f} ± {desviacio_estandard_limf:.2f}\"\n",
    "print(\"Mitjana ± Desviació Estàndard dels limfòcits %:\", resultat)"
   ],
   "id": "c25fb26ede6fabe0",
   "outputs": [
    {
     "name": "stdout",
     "output_type": "stream",
     "text": [
      "Mitjana ± Desviació Estàndard dels limfòcits %: 16.70 ± 12.29\n"
     ]
    }
   ],
   "execution_count": 926
  },
  {
   "metadata": {
    "ExecuteTime": {
     "end_time": "2024-05-08T08:50:28.161589Z",
     "start_time": "2024-05-08T08:50:28.116194Z"
    }
   },
   "cell_type": "code",
   "source": [
    "AMB_PA_MECVV.loc[:, 'Limfos'] = pd.to_numeric(AMB_PA_MECVV['Limfos'], errors='coerce')\n",
    "\n",
    "Mitjana_limf = AMB_PA_MECVV['Limfos'].mean()\n",
    "desviacio_estandard_limf = AMB_PA_MECVV['Limfos'].std()\n",
    "\n",
    "resultat = f\"{Mitjana_limf:.2f} ± {desviacio_estandard_limf:.2f}\"\n",
    "print(\"Mitjana ± Desviació Estàndard dels limfòcits %:\", resultat)"
   ],
   "id": "3d1f97bbff88b3d3",
   "outputs": [
    {
     "name": "stdout",
     "output_type": "stream",
     "text": [
      "Mitjana ± Desviació Estàndard dels limfòcits %: 9.57 ± 2.10\n"
     ]
    }
   ],
   "execution_count": 927
  },
  {
   "metadata": {
    "ExecuteTime": {
     "end_time": "2024-05-08T08:50:28.822159Z",
     "start_time": "2024-05-08T08:50:28.812314Z"
    }
   },
   "cell_type": "code",
   "source": [
    "SENSE_PA.loc[:, 'Limfos'] = pd.to_numeric(SENSE_PA['Limfos'], errors='coerce')\n",
    "\n",
    "Mitjana_limf = SENSE_PA['Limfos'].mean()\n",
    "desviacio_estandard_limf = SENSE_PA['Limfos'].std()\n",
    "\n",
    "resultat = f\"{Mitjana_limf:.2f} ± {desviacio_estandard_limf:.2f}\"\n",
    "print(\"Mitjana ± Desviació Estàndard dels limfòcits %:\", resultat)"
   ],
   "id": "4284d3f2b93fd461",
   "outputs": [
    {
     "name": "stdout",
     "output_type": "stream",
     "text": [
      "Mitjana ± Desviació Estàndard dels limfòcits %: 26.66 ± 9.21\n"
     ]
    }
   ],
   "execution_count": 928
  },
  {
   "metadata": {
    "ExecuteTime": {
     "end_time": "2024-05-08T08:50:29.192964Z",
     "start_time": "2024-05-08T08:50:29.186358Z"
    }
   },
   "cell_type": "code",
   "source": [
    "TOTAL.loc[:, 'Limfos'] = pd.to_numeric(TOTAL['Limfos'], errors='coerce')\n",
    "\n",
    "Mitjana_limf = TOTAL['Limfos'].mean()\n",
    "desviacio_estandard_limf = TOTAL['Limfos'].std()\n",
    "\n",
    "resultat = f\"{Mitjana_limf:.2f} ± {desviacio_estandard_limf:.2f}\"\n",
    "print(\"Mitjana ± Desviació Estàndard dels limfòcits %:\", resultat)"
   ],
   "id": "c3631997c1b305f8",
   "outputs": [
    {
     "name": "stdout",
     "output_type": "stream",
     "text": [
      "Mitjana ± Desviació Estàndard dels limfòcits %: 19.33 ± 11.32\n"
     ]
    }
   ],
   "execution_count": 929
  },
  {
   "metadata": {},
   "cell_type": "markdown",
   "source": "#### Comparació distributiva",
   "id": "d631c6aabf1ddcfc"
  },
  {
   "metadata": {},
   "cell_type": "markdown",
   "source": "##### Normalitat i p-valor",
   "id": "e588502cfbc929f6"
  },
  {
   "metadata": {
    "ExecuteTime": {
     "end_time": "2024-05-08T08:50:29.613979Z",
     "start_time": "2024-05-08T08:50:29.605402Z"
    }
   },
   "cell_type": "code",
   "source": [
    "limfambpa=AMB_PA['Limfos'].dropna()\n",
    "stat, p_value = shapiro(limfambpa)\n",
    "print(f\"Estadístic W = {stat:.4f}\")\n",
    "print(f\"Valor p = {p_value:.8f}\")\n",
    "\n",
    "alpha = 0.05\n",
    "if p_value < alpha:\n",
    "    print(\"El nombre de files no segueix una distribució normal.\")\n",
    "else:\n",
    "    print(\"El nombre de files segueix una distribució normal.\")"
   ],
   "id": "35499da84250aa12",
   "outputs": [
    {
     "name": "stdout",
     "output_type": "stream",
     "text": [
      "Estadístic W = 0.8208\n",
      "Valor p = 0.04757269\n",
      "El nombre de files no segueix una distribució normal.\n"
     ]
    }
   ],
   "execution_count": 930
  },
  {
   "metadata": {
    "ExecuteTime": {
     "end_time": "2024-05-08T08:50:29.946827Z",
     "start_time": "2024-05-08T08:50:29.938065Z"
    }
   },
   "cell_type": "code",
   "source": [
    "limfambpamecvv=AMB_PA_MECVV['Limfos'].dropna()\n",
    "stat, p_value = shapiro(limfambpamecvv)\n",
    "print(f\"Estadístic W = {stat:.4f}\")\n",
    "print(f\"Valor p = {p_value:.8f}\")\n",
    "\n",
    "alpha = 0.05\n",
    "if p_value < alpha:\n",
    "    print(\"El nombre de files no segueix una distribució normal.\")\n",
    "else:\n",
    "    print(\"El nombre de files segueix una distribució normal.\")"
   ],
   "id": "3bd081c99ed663f5",
   "outputs": [
    {
     "name": "stdout",
     "output_type": "stream",
     "text": [
      "Estadístic W = 0.9992\n",
      "Valor p = 0.94750571\n",
      "El nombre de files segueix una distribució normal.\n"
     ]
    }
   ],
   "execution_count": 931
  },
  {
   "metadata": {
    "ExecuteTime": {
     "end_time": "2024-05-08T08:50:30.339899Z",
     "start_time": "2024-05-08T08:50:30.327294Z"
    }
   },
   "cell_type": "code",
   "source": [
    "limfsensepa=SENSE_PA['Limfos'].dropna()\n",
    "stat, p_value = shapiro(limfsensepa)\n",
    "print(f\"Estadístic W = {stat:.4f}\")\n",
    "print(f\"Valor p = {p_value:.8f}\")\n",
    "\n",
    "alpha = 0.05\n",
    "if p_value < alpha:\n",
    "    print(\"El nombre de files no segueix una distribució normal.\")\n",
    "else:\n",
    "    print(\"El nombre de files segueix una distribució normal.\")"
   ],
   "id": "e6f37e02700095ad",
   "outputs": [
    {
     "name": "stdout",
     "output_type": "stream",
     "text": [
      "Estadístic W = 0.9815\n",
      "Valor p = 0.94260450\n",
      "El nombre de files segueix una distribució normal.\n"
     ]
    }
   ],
   "execution_count": 932
  },
  {
   "metadata": {
    "ExecuteTime": {
     "end_time": "2024-05-08T08:50:30.874797Z",
     "start_time": "2024-05-08T08:50:30.864898Z"
    }
   },
   "cell_type": "code",
   "source": [
    "limftotal=TOTAL['Limfos'].dropna()\n",
    "stat, p_value = shapiro(limftotal)\n",
    "print(f\"Estadístic W = {stat:.4f}\")\n",
    "print(f\"Valor p = {p_value:.8f}\")\n",
    "\n",
    "alpha = 0.05\n",
    "if p_value < alpha:\n",
    "    print(\"El nombre de files no segueix una distribució normal.\")\n",
    "else:\n",
    "    print(\"El nombre de files segueix una distribució normal.\")"
   ],
   "id": "c7e092a9b14a84f2",
   "outputs": [
    {
     "name": "stdout",
     "output_type": "stream",
     "text": [
      "Estadístic W = 0.9283\n",
      "Valor p = 0.11315474\n",
      "El nombre de files segueix una distribució normal.\n"
     ]
    }
   ],
   "execution_count": 933
  },
  {
   "metadata": {
    "ExecuteTime": {
     "end_time": "2024-05-08T08:50:31.380917Z",
     "start_time": "2024-05-08T08:50:31.373123Z"
    }
   },
   "cell_type": "code",
   "source": [
    "stat_12, p_val_12 = mannwhitneyu(AMB_PA['Limfos'], AMB_PA_MECVV['Limfos'], alternative='two-sided')\n",
    "print(\"P-valor entre AMB_PA i AMB_PA_MECVV:\", p_val_12)"
   ],
   "id": "1f687355004bb722",
   "outputs": [
    {
     "name": "stdout",
     "output_type": "stream",
     "text": [
      "P-valor entre AMB_PA i AMB_PA_MECVV: nan\n"
     ]
    }
   ],
   "execution_count": 934
  },
  {
   "metadata": {
    "ExecuteTime": {
     "end_time": "2024-05-08T08:50:31.801396Z",
     "start_time": "2024-05-08T08:50:31.793783Z"
    }
   },
   "cell_type": "code",
   "source": [
    "t_stat_13, p_val_13 = mannwhitneyu(AMB_PA['Limfos'], SENSE_PA['Limfos'], alternative='two-sided')\n",
    "print(\"P-valor entre AMB_PA i SENSE_PA:\", p_val_13)"
   ],
   "id": "cdc7d555c89a97a",
   "outputs": [
    {
     "name": "stdout",
     "output_type": "stream",
     "text": [
      "P-valor entre AMB_PA i SENSE_PA: nan\n"
     ]
    }
   ],
   "execution_count": 935
  },
  {
   "metadata": {
    "ExecuteTime": {
     "end_time": "2024-05-08T08:50:32.185580Z",
     "start_time": "2024-05-08T08:50:32.177937Z"
    }
   },
   "cell_type": "code",
   "source": [
    "stat_23, p_val_23 = ttest_ind(AMB_PA_MECVV['Limfos'], SENSE_PA['Limfos'], equal_var=False)\n",
    "print(\"P-valor entre AMB_PA_MECVV i SENSE_PA:\", p_val_23)"
   ],
   "id": "475aa2b5d327df7c",
   "outputs": [
    {
     "name": "stdout",
     "output_type": "stream",
     "text": [
      "P-valor entre AMB_PA_MECVV i SENSE_PA: nan\n"
     ]
    }
   ],
   "execution_count": 936
  },
  {
   "metadata": {
    "ExecuteTime": {
     "end_time": "2024-05-08T08:50:32.516739Z",
     "start_time": "2024-05-08T08:50:32.508096Z"
    }
   },
   "cell_type": "code",
   "source": [
    "stat_14, p_val_14 = mannwhitneyu(AMB_PA['Limfos'], TOTAL['Limfos'], alternative='two-sided')\n",
    "print(\"P-valor entre AMB_PA i TOTAL:\", p_val_14)"
   ],
   "id": "ee5730bf91871a11",
   "outputs": [
    {
     "name": "stdout",
     "output_type": "stream",
     "text": [
      "P-valor entre AMB_PA i TOTAL: nan\n"
     ]
    }
   ],
   "execution_count": 937
  },
  {
   "metadata": {
    "ExecuteTime": {
     "end_time": "2024-05-08T08:50:32.861095Z",
     "start_time": "2024-05-08T08:50:32.851913Z"
    }
   },
   "cell_type": "code",
   "source": [
    "stat_24, p_val_24 = ttest_ind(AMB_PA_MECVV['Limfos'], TOTAL['Limfos'], equal_var=False)\n",
    "print(\"P-valor entre AMB_PA_MECVV i TOTAL:\", p_val_24)"
   ],
   "id": "b399bb6a8f2d03cb",
   "outputs": [
    {
     "name": "stdout",
     "output_type": "stream",
     "text": [
      "P-valor entre AMB_PA_MECVV i TOTAL: nan\n"
     ]
    }
   ],
   "execution_count": 938
  },
  {
   "metadata": {
    "ExecuteTime": {
     "end_time": "2024-05-08T08:50:33.579180Z",
     "start_time": "2024-05-08T08:50:33.566304Z"
    }
   },
   "cell_type": "code",
   "source": [
    "stat_34, p_val_34 = ttest_ind(SENSE_PA['Limfos'], TOTAL['Limfos'], equal_var=False)\n",
    "print(\"P-valor entre SNESE_PA i TOTAL:\", p_val_14)"
   ],
   "id": "39fdbb05574283a3",
   "outputs": [
    {
     "name": "stdout",
     "output_type": "stream",
     "text": [
      "P-valor entre SNESE_PA i TOTAL: nan\n"
     ]
    }
   ],
   "execution_count": 939
  },
  {
   "metadata": {},
   "cell_type": "markdown",
   "source": "### Proteïna C Reactiva",
   "id": "b5af48dc4725f34c"
  },
  {
   "metadata": {
    "ExecuteTime": {
     "end_time": "2024-05-08T08:50:34.544163Z",
     "start_time": "2024-05-08T08:50:34.531077Z"
    }
   },
   "cell_type": "code",
   "source": [
    "AMB_PA.loc[:, 'Prot C react'] = pd.to_numeric(AMB_PA['Prot C react'], errors='coerce')\n",
    "\n",
    "Mitjana_protcr = AMB_PA['Prot C react'].mean()\n",
    "desviacio_estandard_protcr = AMB_PA['Prot C react'].std()\n",
    "\n",
    "resultat = f\"{Mitjana_protcr:.2f} ± {desviacio_estandard_protcr:.2f}\"\n",
    "print(\"Mitjana ± Desviació Estàndard de la proteïna C reactiva:\", resultat)"
   ],
   "id": "98e283277d756533",
   "outputs": [
    {
     "name": "stdout",
     "output_type": "stream",
     "text": [
      "Mitjana ± Desviació Estàndard de la proteïna C reactiva: 8.90 ± 5.47\n"
     ]
    }
   ],
   "execution_count": 940
  },
  {
   "metadata": {
    "ExecuteTime": {
     "end_time": "2024-05-08T08:50:35.777236Z",
     "start_time": "2024-05-08T08:50:35.765716Z"
    }
   },
   "cell_type": "code",
   "source": [
    "AMB_PA_MECVV.loc[:, 'Prot C react'] = pd.to_numeric(AMB_PA_MECVV['Prot C react'], errors='coerce')\n",
    "\n",
    "Mitjana_protcr = AMB_PA_MECVV['Prot C react'].mean()\n",
    "desviacio_estandard_protcr = AMB_PA_MECVV['Prot C react'].std()\n",
    "\n",
    "resultat = f\"{Mitjana_protcr:.2f} ± {desviacio_estandard_protcr:.2f}\"\n",
    "print(\"Mitjana ± Desviació Estàndard de la proteïna C reactiva:\", resultat)"
   ],
   "id": "8b515311fed50137",
   "outputs": [
    {
     "name": "stdout",
     "output_type": "stream",
     "text": [
      "Mitjana ± Desviació Estàndard de la proteïna C reactiva: 6.38 ± 3.51\n"
     ]
    }
   ],
   "execution_count": 941
  },
  {
   "metadata": {
    "ExecuteTime": {
     "end_time": "2024-05-08T08:50:36.690406Z",
     "start_time": "2024-05-08T08:50:36.678974Z"
    }
   },
   "cell_type": "code",
   "source": [
    "SENSE_PA.loc[:, 'Prot C react'] = pd.to_numeric(SENSE_PA['Prot C react'], errors='coerce')\n",
    "\n",
    "Mitjana_protcr = SENSE_PA['Prot C react'].mean()\n",
    "desviacio_estandard_protcr = SENSE_PA['Prot C react'].std()\n",
    "\n",
    "resultat = f\"{Mitjana_protcr:.2f} ± {desviacio_estandard_protcr:.2f}\"\n",
    "print(\"Mitjana ± Desviació Estàndard de la proteïna C reactiva:\", resultat)"
   ],
   "id": "7ddab15e5c37a380",
   "outputs": [
    {
     "name": "stdout",
     "output_type": "stream",
     "text": [
      "Mitjana ± Desviació Estàndard de la proteïna C reactiva: 5.13 ± 5.30\n"
     ]
    }
   ],
   "execution_count": 942
  },
  {
   "metadata": {
    "ExecuteTime": {
     "end_time": "2024-05-08T08:50:37.864253Z",
     "start_time": "2024-05-08T08:50:37.849628Z"
    }
   },
   "cell_type": "code",
   "source": [
    "TOTAL.loc[:, 'Prot C react'] = pd.to_numeric(TOTAL['Prot C react'], errors='coerce')\n",
    "\n",
    "Mitjana_protcr = TOTAL['Prot C react'].mean()\n",
    "desviacio_estandard_protcr = TOTAL['Prot C react'].std()\n",
    "\n",
    "resultat = f\"{Mitjana_protcr:.2f} ± {desviacio_estandard_protcr:.2f}\"\n",
    "print(\"Mitjana ± Desviació Estàndard de la proteïna C reactiva:\", resultat)"
   ],
   "id": "a6eabee29c618082",
   "outputs": [
    {
     "name": "stdout",
     "output_type": "stream",
     "text": [
      "Mitjana ± Desviació Estàndard de la proteïna C reactiva: 6.30 ± 6.09\n"
     ]
    }
   ],
   "execution_count": 943
  },
  {
   "metadata": {},
   "cell_type": "markdown",
   "source": "#### Comparació distributiva",
   "id": "b31569a040499bc0"
  },
  {
   "metadata": {},
   "cell_type": "markdown",
   "source": "##### Normalitat i p-valor",
   "id": "a9b9a9f6b0ba7bc9"
  },
  {
   "metadata": {
    "ExecuteTime": {
     "end_time": "2024-05-08T08:50:39.207848Z",
     "start_time": "2024-05-08T08:50:39.195049Z"
    }
   },
   "cell_type": "code",
   "source": [
    "pcrambpa=AMB_PA['Prot C react'].dropna()\n",
    "stat, p_value = shapiro(pcrambpa)\n",
    "print(f\"Estadístic W = {stat:.4f}\")\n",
    "print(f\"Valor p = {p_value:.8f}\")\n",
    "\n",
    "alpha = 0.05\n",
    "if p_value < alpha:\n",
    "    print(\"El nombre de files no segueix una distribució normal.\")\n",
    "else:\n",
    "    print(\"El nombre de files segueix una distribució normal.\")"
   ],
   "id": "74effc43ec1d103d",
   "outputs": [
    {
     "name": "stdout",
     "output_type": "stream",
     "text": [
      "Estadístic W = 0.9423\n",
      "Valor p = 0.60665876\n",
      "El nombre de files segueix una distribució normal.\n"
     ]
    }
   ],
   "execution_count": 944
  },
  {
   "metadata": {
    "ExecuteTime": {
     "end_time": "2024-05-08T08:50:40.249174Z",
     "start_time": "2024-05-08T08:50:40.238371Z"
    }
   },
   "cell_type": "code",
   "source": [
    "pcrambpamecvv=AMB_PA_MECVV['Prot C react'].dropna()\n",
    "stat, p_value = shapiro(pcrambpamecvv)\n",
    "print(f\"Estadístic W = {stat:.4f}\")\n",
    "print(f\"Valor p = {p_value:.8f}\")\n",
    "\n",
    "alpha = 0.05\n",
    "if p_value < alpha:\n",
    "    print(\"El nombre de files no segueix una distribució normal.\")\n",
    "else:\n",
    "    print(\"El nombre de files segueix una distribució normal.\")"
   ],
   "id": "126e457734e0cd5f",
   "outputs": [
    {
     "name": "stdout",
     "output_type": "stream",
     "text": [
      "Estadístic W = 0.8067\n",
      "Valor p = 0.13058912\n",
      "El nombre de files segueix una distribució normal.\n"
     ]
    }
   ],
   "execution_count": 945
  },
  {
   "metadata": {
    "ExecuteTime": {
     "end_time": "2024-05-08T08:50:41.069962Z",
     "start_time": "2024-05-08T08:50:41.058931Z"
    }
   },
   "cell_type": "code",
   "source": [
    "pcrsensepa=SENSE_PA['Prot C react'].dropna()\n",
    "stat, p_value = shapiro(pcrsensepa)\n",
    "print(f\"Estadístic W = {stat:.4f}\")\n",
    "print(f\"Valor p = {p_value:.8f}\")\n",
    "\n",
    "alpha = 0.05\n",
    "if p_value < alpha:\n",
    "    print(\"El nombre de files no segueix una distribució normal.\")\n",
    "else:\n",
    "    print(\"El nombre de files segueix una distribució normal.\")"
   ],
   "id": "d4b76e6566e60aef",
   "outputs": [
    {
     "name": "stdout",
     "output_type": "stream",
     "text": [
      "Estadístic W = 0.8945\n",
      "Valor p = 0.34256857\n",
      "El nombre de files segueix una distribució normal.\n"
     ]
    }
   ],
   "execution_count": 946
  },
  {
   "metadata": {
    "ExecuteTime": {
     "end_time": "2024-05-08T08:50:41.916434Z",
     "start_time": "2024-05-08T08:50:41.903631Z"
    }
   },
   "cell_type": "code",
   "source": [
    "pcrtotal=TOTAL['Prot C react'].dropna()\n",
    "stat, p_value = shapiro(pcrtotal)\n",
    "print(f\"Estadístic W = {stat:.4f}\")\n",
    "print(f\"Valor p = {p_value:.8f}\")\n",
    "\n",
    "alpha = 0.05\n",
    "if p_value < alpha:\n",
    "    print(\"El nombre de files no segueix una distribució normal.\")\n",
    "else:\n",
    "    print(\"El nombre de files segueix una distribució normal.\")"
   ],
   "id": "d99c7514712cfe1d",
   "outputs": [
    {
     "name": "stdout",
     "output_type": "stream",
     "text": [
      "Estadístic W = 0.8808\n",
      "Valor p = 0.00862808\n",
      "El nombre de files no segueix una distribució normal.\n"
     ]
    }
   ],
   "execution_count": 947
  },
  {
   "metadata": {
    "ExecuteTime": {
     "end_time": "2024-05-08T08:50:42.651496Z",
     "start_time": "2024-05-08T08:50:42.638730Z"
    }
   },
   "cell_type": "code",
   "source": [
    "t_stat_12, p_val_12 = ttest_ind(AMB_PA['Prot C react'], AMB_PA_MECVV['Prot C react'], equal_var=False)\n",
    "print(\"P-valor entre AMB_PA i AMB_PA_MECVV:\", p_val_12)"
   ],
   "id": "4ac26b19e5a637c4",
   "outputs": [
    {
     "name": "stdout",
     "output_type": "stream",
     "text": [
      "P-valor entre AMB_PA i AMB_PA_MECVV: nan\n"
     ]
    }
   ],
   "execution_count": 948
  },
  {
   "metadata": {
    "ExecuteTime": {
     "end_time": "2024-05-08T08:50:43.387865Z",
     "start_time": "2024-05-08T08:50:43.375144Z"
    }
   },
   "cell_type": "code",
   "source": [
    "t_stat_13, p_val_13 = ttest_ind(AMB_PA['Prot C react'], SENSE_PA['Prot C react'], equal_var=False)\n",
    "print(\"P-valor entre AMB_PA i SENSE_PA:\", p_val_13)"
   ],
   "id": "c066108d69febfac",
   "outputs": [
    {
     "name": "stdout",
     "output_type": "stream",
     "text": [
      "P-valor entre AMB_PA i SENSE_PA: nan\n"
     ]
    }
   ],
   "execution_count": 949
  },
  {
   "metadata": {
    "ExecuteTime": {
     "end_time": "2024-05-08T08:50:44.158133Z",
     "start_time": "2024-05-08T08:50:44.144042Z"
    }
   },
   "cell_type": "code",
   "source": [
    "t_stat_23, p_val_23 = ttest_ind(AMB_PA_MECVV['Prot C react'], SENSE_PA['Prot C react'], equal_var=False)\n",
    "print(\"P-valor entre AMB_PA_MECVV i SENSE_PA:\", p_val_23)"
   ],
   "id": "990e6825240cb2cc",
   "outputs": [
    {
     "name": "stdout",
     "output_type": "stream",
     "text": [
      "P-valor entre AMB_PA_MECVV i SENSE_PA: nan\n"
     ]
    }
   ],
   "execution_count": 950
  },
  {
   "metadata": {
    "ExecuteTime": {
     "end_time": "2024-05-08T08:50:45.052956Z",
     "start_time": "2024-05-08T08:50:45.042560Z"
    }
   },
   "cell_type": "code",
   "source": [
    "t_stat_14, p_val_14 = mannwhitneyu(AMB_PA['Prot C react'], TOTAL['Prot C react'], alternative='two-sided')\n",
    "print(\"P-valor entre AMB_PA i TOTAL:\", p_val_14)"
   ],
   "id": "d03026e7eb207fe0",
   "outputs": [
    {
     "name": "stdout",
     "output_type": "stream",
     "text": [
      "P-valor entre AMB_PA i TOTAL: nan\n"
     ]
    }
   ],
   "execution_count": 951
  },
  {
   "metadata": {
    "ExecuteTime": {
     "end_time": "2024-05-08T08:50:45.958653Z",
     "start_time": "2024-05-08T08:50:45.945093Z"
    }
   },
   "cell_type": "code",
   "source": [
    "t_stat_24, p_val_24 = mannwhitneyu(AMB_PA_MECVV['Prot C react'], TOTAL['Prot C react'], alternative='two-sided')\n",
    "print(\"P-valor entre AMB_PA_MECVV i TOTAL:\", p_val_24)"
   ],
   "id": "28e4000bd49b1f20",
   "outputs": [
    {
     "name": "stdout",
     "output_type": "stream",
     "text": [
      "P-valor entre AMB_PA_MECVV i TOTAL: nan\n"
     ]
    }
   ],
   "execution_count": 952
  },
  {
   "metadata": {
    "ExecuteTime": {
     "end_time": "2024-05-08T08:50:46.915011Z",
     "start_time": "2024-05-08T08:50:46.905165Z"
    }
   },
   "cell_type": "code",
   "source": [
    "t_stat_34, p_val_34 = mannwhitneyu(SENSE_PA['Prot C react'], TOTAL['Prot C react'], alternative='two-sided')\n",
    "print(\"P-valor entre SENSE_PA i TOTAL:\", p_val_34)"
   ],
   "id": "6695b8363b8caa31",
   "outputs": [
    {
     "name": "stdout",
     "output_type": "stream",
     "text": [
      "P-valor entre SENSE_PA i TOTAL: nan\n"
     ]
    }
   ],
   "execution_count": 953
  },
  {
   "metadata": {},
   "cell_type": "markdown",
   "source": "### Urea ",
   "id": "70407b79d2781378"
  },
  {
   "metadata": {
    "ExecuteTime": {
     "end_time": "2024-05-08T08:50:48.244414Z",
     "start_time": "2024-05-08T08:50:48.234645Z"
    }
   },
   "cell_type": "code",
   "source": [
    "AMB_PA.loc[:, 'Urea'] = pd.to_numeric(AMB_PA['Urea'], errors='coerce')\n",
    "\n",
    "Mitjana_Urea = AMB_PA['Urea'].mean()\n",
    "desviacio_estandard_Urea = AMB_PA['Urea'].std()\n",
    "\n",
    "resultat = f\"{Mitjana_Urea:.2f} ± {desviacio_estandard_Urea:.2f}\"\n",
    "print(\"Mitjana ± Desviació Estàndard de la Urea:\", resultat)"
   ],
   "id": "6d830574cb2474c2",
   "outputs": [
    {
     "name": "stdout",
     "output_type": "stream",
     "text": [
      "Mitjana ± Desviació Estàndard de la Urea: 62.17 ± 36.37\n"
     ]
    }
   ],
   "execution_count": 954
  },
  {
   "metadata": {
    "ExecuteTime": {
     "end_time": "2024-05-08T08:50:49.399668Z",
     "start_time": "2024-05-08T08:50:49.386462Z"
    }
   },
   "cell_type": "code",
   "source": [
    "AMB_PA_MECVV.loc[:, 'Urea'] = pd.to_numeric(AMB_PA_MECVV['Urea'], errors='coerce')\n",
    "\n",
    "Mitjana_Urea = AMB_PA_MECVV['Urea'].mean()\n",
    "desviacio_estandard_Urea = AMB_PA_MECVV['Urea'].std()\n",
    "\n",
    "resultat = f\"{Mitjana_Urea:.2f} ± {desviacio_estandard_Urea:.2f}\"\n",
    "print(\"Mitjana ± Desviació Estàndard de la Urea:\", resultat)"
   ],
   "id": "115f038f7b499570",
   "outputs": [
    {
     "name": "stdout",
     "output_type": "stream",
     "text": [
      "Mitjana ± Desviació Estàndard de la Urea: 82.27 ± 32.15\n"
     ]
    }
   ],
   "execution_count": 955
  },
  {
   "metadata": {
    "ExecuteTime": {
     "end_time": "2024-05-08T08:50:50.437578Z",
     "start_time": "2024-05-08T08:50:50.424996Z"
    }
   },
   "cell_type": "code",
   "source": [
    "SENSE_PA.loc[:, 'Urea'] = pd.to_numeric(SENSE_PA['Urea'], errors='coerce')\n",
    "\n",
    "Mitjana_Urea = SENSE_PA['Urea'].mean()\n",
    "desviacio_estandard_Urea = SENSE_PA['Urea'].std()\n",
    "\n",
    "resultat = f\"{Mitjana_Urea:.2f} ± {desviacio_estandard_Urea:.2f}\"\n",
    "print(\"Mitjana ± Desviació Estàndard de la Urea:\", resultat)"
   ],
   "id": "128b7760b5b53c87",
   "outputs": [
    {
     "name": "stdout",
     "output_type": "stream",
     "text": [
      "Mitjana ± Desviació Estàndard de la Urea: 43.62 ± 18.84\n"
     ]
    }
   ],
   "execution_count": 956
  },
  {
   "metadata": {
    "ExecuteTime": {
     "end_time": "2024-05-08T08:50:51.548771Z",
     "start_time": "2024-05-08T08:50:51.535725Z"
    }
   },
   "cell_type": "code",
   "source": [
    "TOTAL.loc[:, 'Urea'] = pd.to_numeric(TOTAL['Urea'], errors='coerce')\n",
    "\n",
    "Mitjana_Urea = TOTAL['Urea'].mean()\n",
    "desviacio_estandard_Urea = TOTAL['Urea'].std()\n",
    "\n",
    "resultat = f\"{Mitjana_Urea:.2f} ± {desviacio_estandard_Urea:.2f}\"\n",
    "print(\"Mitjana ± Desviació Estàndard de la Urea:\", resultat)"
   ],
   "id": "66833ae3022ae1fb",
   "outputs": [
    {
     "name": "stdout",
     "output_type": "stream",
     "text": [
      "Mitjana ± Desviació Estàndard de la Urea: 54.02 ± 30.40\n"
     ]
    }
   ],
   "execution_count": 957
  },
  {
   "metadata": {},
   "cell_type": "markdown",
   "source": "#### Comparació distributiva",
   "id": "9845a84dff03ee36"
  },
  {
   "metadata": {},
   "cell_type": "markdown",
   "source": "##### Normalitat i p-valor",
   "id": "779d3f8d9a8af548"
  },
  {
   "metadata": {
    "ExecuteTime": {
     "end_time": "2024-05-08T08:50:52.509502Z",
     "start_time": "2024-05-08T08:50:52.495525Z"
    }
   },
   "cell_type": "code",
   "source": [
    "uambpa=AMB_PA['Urea'].dropna()\n",
    "stat, p_value = shapiro(uambpa)\n",
    "print(f\"Estadístic W = {stat:.4f}\")\n",
    "print(f\"Valor p = {p_value:.8f}\")\n",
    "\n",
    "alpha = 0.05\n",
    "if p_value < alpha:\n",
    "    print(\"El nombre de files no segueix una distribució normal.\")\n",
    "else:\n",
    "    print(\"El nombre de files segueix una distribució normal.\")"
   ],
   "id": "2152753661c990b",
   "outputs": [
    {
     "name": "stdout",
     "output_type": "stream",
     "text": [
      "Estadístic W = 0.8842\n",
      "Valor p = 0.17374314\n",
      "El nombre de files segueix una distribució normal.\n"
     ]
    }
   ],
   "execution_count": 958
  },
  {
   "metadata": {
    "ExecuteTime": {
     "end_time": "2024-05-08T08:50:54.134622Z",
     "start_time": "2024-05-08T08:50:54.123868Z"
    }
   },
   "cell_type": "code",
   "source": [
    "uambpamecvv=AMB_PA_MECVV['Urea'].dropna()\n",
    "stat, p_value = shapiro(uambpamecvv)\n",
    "print(f\"Estadístic W = {stat:.4f}\")\n",
    "print(f\"Valor p = {p_value:.8f}\")\n",
    "\n",
    "alpha = 0.05\n",
    "if p_value < alpha:\n",
    "    print(\"El nombre de files no segueix una distribució normal.\")\n",
    "else:\n",
    "    print(\"El nombre de files segueix una distribució normal.\")"
   ],
   "id": "3f8b1350804e2149",
   "outputs": [
    {
     "name": "stdout",
     "output_type": "stream",
     "text": [
      "Estadístic W = 0.9999\n",
      "Valor p = 0.97770778\n",
      "El nombre de files segueix una distribució normal.\n"
     ]
    }
   ],
   "execution_count": 959
  },
  {
   "metadata": {
    "ExecuteTime": {
     "end_time": "2024-05-08T08:50:54.927038Z",
     "start_time": "2024-05-08T08:50:54.912590Z"
    }
   },
   "cell_type": "code",
   "source": [
    "usensepa=SENSE_PA['Urea'].dropna()\n",
    "stat, p_value = shapiro(usensepa)\n",
    "print(f\"Estadístic W = {stat:.4f}\")\n",
    "print(f\"Valor p = {p_value:.8f}\")\n",
    "\n",
    "alpha = 0.05\n",
    "if p_value < alpha:\n",
    "    print(\"El nombre de files no segueix una distribució normal.\")\n",
    "else:\n",
    "    print(\"El nombre de files segueix una distribució normal.\")"
   ],
   "id": "f05d4f0e1466a0e4",
   "outputs": [
    {
     "name": "stdout",
     "output_type": "stream",
     "text": [
      "Estadístic W = 0.8322\n",
      "Valor p = 0.11225495\n",
      "El nombre de files segueix una distribució normal.\n"
     ]
    }
   ],
   "execution_count": 960
  },
  {
   "metadata": {
    "ExecuteTime": {
     "end_time": "2024-05-08T08:50:55.690429Z",
     "start_time": "2024-05-08T08:50:55.677062Z"
    }
   },
   "cell_type": "code",
   "source": [
    "utotal=TOTAL['Urea'].dropna()\n",
    "stat, p_value = shapiro(utotal)\n",
    "print(f\"Estadístic W = {stat:.4f}\")\n",
    "print(f\"Valor p = {p_value:.8f}\")\n",
    "\n",
    "alpha = 0.05\n",
    "if p_value < alpha:\n",
    "    print(\"El nombre de files no segueix una distribució normal.\")\n",
    "else:\n",
    "    print(\"El nombre de files segueix una distribució normal.\")"
   ],
   "id": "2799202ee9681d72",
   "outputs": [
    {
     "name": "stdout",
     "output_type": "stream",
     "text": [
      "Estadístic W = 0.8161\n",
      "Valor p = 0.00054555\n",
      "El nombre de files no segueix una distribució normal.\n"
     ]
    }
   ],
   "execution_count": 961
  },
  {
   "metadata": {
    "ExecuteTime": {
     "end_time": "2024-05-08T08:50:56.903600Z",
     "start_time": "2024-05-08T08:50:56.894126Z"
    }
   },
   "cell_type": "code",
   "source": [
    "t_stat_12, p_val_12 = ttest_ind(AMB_PA['Urea'], AMB_PA_MECVV['Urea'], equal_var=False)\n",
    "print(\"P-valor entre AMB_PA i AMB_PA_MECVV:\", p_val_12)"
   ],
   "id": "8ecd8760328f0c7c",
   "outputs": [
    {
     "name": "stdout",
     "output_type": "stream",
     "text": [
      "P-valor entre AMB_PA i AMB_PA_MECVV: nan\n"
     ]
    }
   ],
   "execution_count": 962
  },
  {
   "metadata": {
    "ExecuteTime": {
     "end_time": "2024-05-08T08:50:57.595197Z",
     "start_time": "2024-05-08T08:50:57.586386Z"
    }
   },
   "cell_type": "code",
   "source": [
    "t_stat_13, p_val_13 = ttest_ind(AMB_PA['Urea'], SENSE_PA['Urea'], equal_var=False)\n",
    "print(\"P-valor entre AMB_PA i SENSE_PA:\", p_val_13)"
   ],
   "id": "a5fc71afbb44df64",
   "outputs": [
    {
     "name": "stdout",
     "output_type": "stream",
     "text": [
      "P-valor entre AMB_PA i SENSE_PA: nan\n"
     ]
    }
   ],
   "execution_count": 963
  },
  {
   "metadata": {
    "ExecuteTime": {
     "end_time": "2024-05-08T08:50:59.035482Z",
     "start_time": "2024-05-08T08:50:59.022727Z"
    }
   },
   "cell_type": "code",
   "source": [
    "t_stat_23, p_val_23 = ttest_ind(AMB_PA_MECVV['Urea'], SENSE_PA['Urea'], equal_var=False)\n",
    "print(\"P-valor entre AMB_PA_MECVV i SENSE_PA:\", p_val_23)"
   ],
   "id": "6c6fdbd824f81824",
   "outputs": [
    {
     "name": "stdout",
     "output_type": "stream",
     "text": [
      "P-valor entre AMB_PA_MECVV i SENSE_PA: nan\n"
     ]
    }
   ],
   "execution_count": 964
  },
  {
   "metadata": {
    "ExecuteTime": {
     "end_time": "2024-05-08T08:50:59.870593Z",
     "start_time": "2024-05-08T08:50:59.862661Z"
    }
   },
   "cell_type": "code",
   "source": [
    "t_stat_14, p_val_14 = mannwhitneyu(AMB_PA['Urea'], TOTAL['Urea'], alternative='two-sided')\n",
    "print(\"P-valor entre AMB_PA i TOTAL:\", p_val_14)"
   ],
   "id": "c7c49e6ff67686b8",
   "outputs": [
    {
     "name": "stdout",
     "output_type": "stream",
     "text": [
      "P-valor entre AMB_PA i TOTAL: nan\n"
     ]
    }
   ],
   "execution_count": 965
  },
  {
   "metadata": {
    "ExecuteTime": {
     "end_time": "2024-05-08T08:51:01.485508Z",
     "start_time": "2024-05-08T08:51:01.475928Z"
    }
   },
   "cell_type": "code",
   "source": [
    "t_stat_24, p_val_24 = mannwhitneyu(AMB_PA_MECVV['Urea'], TOTAL['Urea'], alternative='two-sided')\n",
    "print(\"P-valor entre AMB_PA_MECVV i TOTAL:\", p_val_24)"
   ],
   "id": "e6e8d7d16b001b19",
   "outputs": [
    {
     "name": "stdout",
     "output_type": "stream",
     "text": [
      "P-valor entre AMB_PA_MECVV i TOTAL: nan\n"
     ]
    }
   ],
   "execution_count": 966
  },
  {
   "metadata": {
    "ExecuteTime": {
     "end_time": "2024-05-08T08:51:02.183610Z",
     "start_time": "2024-05-08T08:51:02.173171Z"
    }
   },
   "cell_type": "code",
   "source": [
    "t_stat_34, p_val_34 = mannwhitneyu(SENSE_PA['Urea'], TOTAL['Urea'], alternative='two-sided')\n",
    "print(\"P-valor entre SENSE_PA i TOTAL:\", p_val_34)"
   ],
   "id": "ca656d6358e150b7",
   "outputs": [
    {
     "name": "stdout",
     "output_type": "stream",
     "text": [
      "P-valor entre SENSE_PA i TOTAL: nan\n"
     ]
    }
   ],
   "execution_count": 967
  },
  {
   "metadata": {},
   "cell_type": "markdown",
   "source": "### Filtrat glomerular CDK-EPI",
   "id": "97c39fd36060d222"
  },
  {
   "metadata": {
    "ExecuteTime": {
     "end_time": "2024-05-08T08:51:02.640821Z",
     "start_time": "2024-05-08T08:51:02.626184Z"
    }
   },
   "cell_type": "code",
   "source": [
    "AMB_PA.loc[:, 'FGE CDK-EPI'] = pd.to_numeric(AMB_PA['FGE CDK-EPI'], errors='coerce')\n",
    "\n",
    "Mitjana_fg = AMB_PA['FGE CDK-EPI'].mean()\n",
    "desviacio_estandard_fg = AMB_PA['FGE CDK-EPI'].std()\n",
    "\n",
    "resultat = f\"{Mitjana_fg:.2f} ± {desviacio_estandard_fg:.2f}\"\n",
    "print(\"Mitjana ± Desviació Estàndard de la filtració glomerular CDK-EPI:\", resultat)"
   ],
   "id": "335089755b149003",
   "outputs": [
    {
     "name": "stdout",
     "output_type": "stream",
     "text": [
      "Mitjana ± Desviació Estàndard de la filtració glomerular CDK-EPI: 56.00 ± 12.65\n"
     ]
    }
   ],
   "execution_count": 968
  },
  {
   "metadata": {
    "ExecuteTime": {
     "end_time": "2024-05-08T08:51:03.504252Z",
     "start_time": "2024-05-08T08:51:03.494059Z"
    }
   },
   "cell_type": "code",
   "source": [
    "AMB_PA_MECVV.loc[:, 'FGE CDK-EPI'] = pd.to_numeric(AMB_PA_MECVV['FGE CDK-EPI'], errors='coerce')\n",
    "\n",
    "Mitjana_fg = AMB_PA_MECVV['FGE CDK-EPI'].mean()\n",
    "desviacio_estandard_fg = AMB_PA_MECVV['FGE CDK-EPI'].std()\n",
    "\n",
    "resultat = f\"{Mitjana_fg:.2f} ± {desviacio_estandard_fg:.2f}\"\n",
    "print(\"Mitjana ± Desviació Estàndard de la filtració glomerular CDK-EPI:\", resultat)"
   ],
   "id": "a8bb2317b53cefaf",
   "outputs": [
    {
     "name": "stdout",
     "output_type": "stream",
     "text": [
      "Mitjana ± Desviació Estàndard de la filtració glomerular CDK-EPI: 48.00 ± 2.00\n"
     ]
    }
   ],
   "execution_count": 969
  },
  {
   "metadata": {
    "ExecuteTime": {
     "end_time": "2024-05-08T08:51:04.324006Z",
     "start_time": "2024-05-08T08:51:04.310224Z"
    }
   },
   "cell_type": "code",
   "source": [
    "SENSE_PA.loc[:, 'FGE CDK-EPI'] = pd.to_numeric(SENSE_PA['FGE CDK-EPI'], errors='coerce')\n",
    "\n",
    "Mitjana_fg = SENSE_PA['FGE CDK-EPI'].mean()\n",
    "desviacio_estandard_fg = SENSE_PA['FGE CDK-EPI'].std()\n",
    "\n",
    "resultat = f\"{Mitjana_fg:.2f} ± {desviacio_estandard_fg:.2f}\"\n",
    "print(\"Mitjana ± Desviació Estàndard de la filtració glomerular CDK-EPI:\", resultat)"
   ],
   "id": "d3b100faffc74bb4",
   "outputs": [
    {
     "name": "stdout",
     "output_type": "stream",
     "text": [
      "Mitjana ± Desviació Estàndard de la filtració glomerular CDK-EPI: 57.60 ± 16.27\n"
     ]
    }
   ],
   "execution_count": 970
  },
  {
   "metadata": {
    "ExecuteTime": {
     "end_time": "2024-05-08T08:51:05.134652Z",
     "start_time": "2024-05-08T08:51:05.119707Z"
    }
   },
   "cell_type": "code",
   "source": [
    "TOTAL.loc[:, 'FGE CDK-EPI'] = pd.to_numeric(TOTAL['FGE CDK-EPI'], errors='coerce')\n",
    "\n",
    "Mitjana_fg = TOTAL['FGE CDK-EPI'].mean()\n",
    "desviacio_estandard_fg = TOTAL['FGE CDK-EPI'].std()\n",
    "\n",
    "resultat = f\"{Mitjana_fg:.2f} ± {desviacio_estandard_fg:.2f}\"\n",
    "print(\"Mitjana ± Desviació Estàndard de la filtració glomerular CDK-EPI:\", resultat)"
   ],
   "id": "45f34e34c5d8abcb",
   "outputs": [
    {
     "name": "stdout",
     "output_type": "stream",
     "text": [
      "Mitjana ± Desviació Estàndard de la filtració glomerular CDK-EPI: 59.94 ± 18.70\n"
     ]
    }
   ],
   "execution_count": 971
  },
  {
   "metadata": {},
   "cell_type": "markdown",
   "source": "#### Comparació distributiva",
   "id": "3a6a732fb32c6a40"
  },
  {
   "metadata": {},
   "cell_type": "markdown",
   "source": "##### Normalitat i p-valor",
   "id": "6b6b3b3c035d716c"
  },
  {
   "metadata": {
    "ExecuteTime": {
     "end_time": "2024-05-08T08:51:05.907792Z",
     "start_time": "2024-05-08T08:51:05.894771Z"
    }
   },
   "cell_type": "code",
   "source": [
    "fgepiambpa=AMB_PA['FGE CDK-EPI'].dropna()\n",
    "stat, p_value = shapiro(fgepiambpa)\n",
    "print(f\"Estadístic W = {stat:.4f}\")\n",
    "print(f\"Valor p = {p_value:.8f}\")\n",
    "\n",
    "alpha = 0.05\n",
    "if p_value < alpha:\n",
    "    print(\"El nombre de files no segueix una distribució normal.\")\n",
    "else:\n",
    "    print(\"El nombre de files segueix una distribució normal.\")"
   ],
   "id": "e037b2e5cfd6ac84",
   "outputs": [
    {
     "name": "stdout",
     "output_type": "stream",
     "text": [
      "Estadístic W = 0.7690\n",
      "Valor p = 0.01994941\n",
      "El nombre de files no segueix una distribució normal.\n"
     ]
    }
   ],
   "execution_count": 972
  },
  {
   "metadata": {
    "ExecuteTime": {
     "end_time": "2024-05-08T08:51:07.553345Z",
     "start_time": "2024-05-08T08:51:07.535929Z"
    }
   },
   "cell_type": "code",
   "source": [
    "fgepiambpamecvv=AMB_PA_MECVV['FGE CDK-EPI'].dropna()\n",
    "stat, p_value = shapiro(fgepiambpamecvv)\n",
    "print(f\"Estadístic W = {stat:.4f}\")\n",
    "print(f\"Valor p = {p_value:.8f}\")\n",
    "\n",
    "alpha = 0.05\n",
    "if p_value < alpha:\n",
    "    print(\"El nombre de files no segueix una distribució normal.\")\n",
    "else:\n",
    "    print(\"El nombre de files segueix una distribució normal.\")"
   ],
   "id": "6cfa62e76f8cd3eb",
   "outputs": [
    {
     "name": "stdout",
     "output_type": "stream",
     "text": [
      "Estadístic W = 1.0000\n",
      "Valor p = 1.00000000\n",
      "El nombre de files segueix una distribució normal.\n"
     ]
    }
   ],
   "execution_count": 973
  },
  {
   "metadata": {
    "ExecuteTime": {
     "end_time": "2024-05-08T08:51:08.792379Z",
     "start_time": "2024-05-08T08:51:08.779217Z"
    }
   },
   "cell_type": "code",
   "source": [
    "fgepisensepa=SENSE_PA['FGE CDK-EPI'].dropna()\n",
    "stat, p_value = shapiro(fgepisensepa)\n",
    "print(f\"Estadístic W = {stat:.4f}\")\n",
    "print(f\"Valor p = {p_value:.8f}\")\n",
    "\n",
    "alpha = 0.05\n",
    "if p_value < alpha:\n",
    "    print(\"El nombre de files no segueix una distribució normal.\")\n",
    "else:\n",
    "    print(\"El nombre de files segueix una distribució normal.\")"
   ],
   "id": "77f862b514fccffc",
   "outputs": [
    {
     "name": "stdout",
     "output_type": "stream",
     "text": [
      "Estadístic W = 0.9605\n",
      "Valor p = 0.81120317\n",
      "El nombre de files segueix una distribució normal.\n"
     ]
    }
   ],
   "execution_count": 974
  },
  {
   "metadata": {
    "ExecuteTime": {
     "end_time": "2024-05-08T08:51:10.060362Z",
     "start_time": "2024-05-08T08:51:10.048161Z"
    }
   },
   "cell_type": "code",
   "source": [
    "fgepitotal=TOTAL['FGE CDK-EPI'].dropna()\n",
    "stat, p_value = shapiro(fgepitotal)\n",
    "print(f\"Estadístic W = {stat:.4f}\")\n",
    "print(f\"Valor p = {p_value:.8f}\")\n",
    "\n",
    "alpha = 0.05\n",
    "if p_value < alpha:\n",
    "    print(\"El nombre de files no segueix una distribució normal.\")\n",
    "else:\n",
    "    print(\"El nombre de files segueix una distribució normal.\")"
   ],
   "id": "c0fe2a476b97d4b9",
   "outputs": [
    {
     "name": "stdout",
     "output_type": "stream",
     "text": [
      "Estadístic W = 0.9054\n",
      "Valor p = 0.08369069\n",
      "El nombre de files segueix una distribució normal.\n"
     ]
    }
   ],
   "execution_count": 975
  },
  {
   "metadata": {
    "ExecuteTime": {
     "end_time": "2024-05-08T08:51:10.694776Z",
     "start_time": "2024-05-08T08:51:10.684386Z"
    }
   },
   "cell_type": "code",
   "source": [
    "t_stat_12, p_val_12 = mannwhitneyu(AMB_PA['FGE CDK-EPI'], AMB_PA_MECVV['FGE CDK-EPI'], alternative='two-sided')\n",
    "print(\"P-valor entre AMB_PA i AMB_PA_MECVV:\", p_val_12)"
   ],
   "id": "b577d9671e51df70",
   "outputs": [
    {
     "name": "stdout",
     "output_type": "stream",
     "text": [
      "P-valor entre AMB_PA i AMB_PA_MECVV: nan\n"
     ]
    }
   ],
   "execution_count": 976
  },
  {
   "metadata": {
    "ExecuteTime": {
     "end_time": "2024-05-08T08:51:11.302558Z",
     "start_time": "2024-05-08T08:51:11.290622Z"
    }
   },
   "cell_type": "code",
   "source": [
    "t_stat_13, p_val_13 = mannwhitneyu(AMB_PA['FGE CDK-EPI'], SENSE_PA['FGE CDK-EPI'], alternative='two-sided')\n",
    "print(\"P-valor entre AMB_PA i AMB_PA_MECVV:\", p_val_13)"
   ],
   "id": "c64990f8c660b675",
   "outputs": [
    {
     "name": "stdout",
     "output_type": "stream",
     "text": [
      "P-valor entre AMB_PA i AMB_PA_MECVV: nan\n"
     ]
    }
   ],
   "execution_count": 977
  },
  {
   "metadata": {
    "ExecuteTime": {
     "end_time": "2024-05-08T08:51:12.029989Z",
     "start_time": "2024-05-08T08:51:12.017652Z"
    }
   },
   "cell_type": "code",
   "source": [
    "t_stat_23, p_val_23 = ttest_ind(AMB_PA_MECVV['FGE CDK-EPI'], SENSE_PA['FGE CDK-EPI'], equal_var=False)\n",
    "print(\"P-valor entre AMB_PA_MECVV i SENSE_PA:\", p_val_23)"
   ],
   "id": "cacb3815726e054",
   "outputs": [
    {
     "name": "stdout",
     "output_type": "stream",
     "text": [
      "P-valor entre AMB_PA_MECVV i SENSE_PA: nan\n"
     ]
    }
   ],
   "execution_count": 978
  },
  {
   "metadata": {
    "ExecuteTime": {
     "end_time": "2024-05-08T08:51:12.898785Z",
     "start_time": "2024-05-08T08:51:12.892300Z"
    }
   },
   "cell_type": "code",
   "source": [
    "t_stat_14, p_val_14 = mannwhitneyu(AMB_PA['FGE CDK-EPI'], TOTAL['FGE CDK-EPI'], alternative='two-sided')\n",
    "print(\"P-valor entre AMB_PA i TOTAL:\", p_val_14)"
   ],
   "id": "94cc3fb936b2e4f8",
   "outputs": [
    {
     "name": "stdout",
     "output_type": "stream",
     "text": [
      "P-valor entre AMB_PA i TOTAL: nan\n"
     ]
    }
   ],
   "execution_count": 979
  },
  {
   "metadata": {
    "ExecuteTime": {
     "end_time": "2024-05-08T08:51:14.101250Z",
     "start_time": "2024-05-08T08:51:14.088444Z"
    }
   },
   "cell_type": "code",
   "source": [
    "t_stat_24, p_val_24 = ttest_ind(AMB_PA_MECVV['FGE CDK-EPI'], TOTAL['FGE CDK-EPI'], equal_var=False)\n",
    "print(\"P-valor entre AMB_PA_MECVV i TOTAL:\", p_val_24)"
   ],
   "id": "8a393063d30c2e13",
   "outputs": [
    {
     "name": "stdout",
     "output_type": "stream",
     "text": [
      "P-valor entre AMB_PA_MECVV i TOTAL: nan\n"
     ]
    }
   ],
   "execution_count": 980
  },
  {
   "metadata": {
    "ExecuteTime": {
     "end_time": "2024-05-08T08:51:14.876961Z",
     "start_time": "2024-05-08T08:51:14.868425Z"
    }
   },
   "cell_type": "code",
   "source": [
    "t_stat_34, p_val_34 = ttest_ind(SENSE_PA['FGE CDK-EPI'], TOTAL['FGE CDK-EPI'], equal_var=False)\n",
    "print(\"P-valor entre SENSE_PA i TOTAL:\", p_val_34)"
   ],
   "id": "5c97f8e323259634",
   "outputs": [
    {
     "name": "stdout",
     "output_type": "stream",
     "text": [
      "P-valor entre SENSE_PA i TOTAL: nan\n"
     ]
    }
   ],
   "execution_count": 981
  },
  {
   "metadata": {},
   "cell_type": "markdown",
   "source": "### Filtrat glomerular MDRD",
   "id": "5661efefb2d6fbd2"
  },
  {
   "metadata": {
    "ExecuteTime": {
     "end_time": "2024-05-08T08:51:15.432662Z",
     "start_time": "2024-05-08T08:51:15.423822Z"
    }
   },
   "cell_type": "code",
   "source": [
    "AMB_PA.loc[:, 'FGE MDRD'] = pd.to_numeric(AMB_PA['FGE MDRD'], errors='coerce')\n",
    "\n",
    "Mitjana_fgmd = AMB_PA['FGE MDRD'].mean()\n",
    "desviacio_estandard_fgmd = AMB_PA['FGE MDRD'].std()\n",
    "\n",
    "resultat = f\"{Mitjana_fgmd:.2f} ± {desviacio_estandard_fgmd:.2f}\"\n",
    "print(\"Mitjana ± Desviació Estàndard de la filtració glomerular MDRD:\", resultat)"
   ],
   "id": "2e37a6ab86652bfb",
   "outputs": [
    {
     "name": "stdout",
     "output_type": "stream",
     "text": [
      "Mitjana ± Desviació Estàndard de la filtració glomerular MDRD: 51.50 ± 0.71\n"
     ]
    }
   ],
   "execution_count": 982
  },
  {
   "metadata": {
    "ExecuteTime": {
     "end_time": "2024-05-08T08:51:15.690957Z",
     "start_time": "2024-05-08T08:51:15.680602Z"
    }
   },
   "cell_type": "code",
   "source": [
    "AMB_PA_MECVV.loc[:, 'FGE MDRD'] = pd.to_numeric(AMB_PA_MECVV['FGE MDRD'], errors='coerce')\n",
    "\n",
    "Mitjana_fgmd = AMB_PA_MECVV['FGE MDRD'].mean()\n",
    "desviacio_estandard_fgmd = AMB_PA_MECVV['FGE MDRD'].std()\n",
    "\n",
    "resultat = f\"{Mitjana_fgmd:.2f} ± {desviacio_estandard_fgmd:.2f}\"\n",
    "print(\"Mitjana ± Desviació Estàndard de la filtració glomerular MDRD:\", resultat)"
   ],
   "id": "3739fed61774b2d4",
   "outputs": [
    {
     "name": "stdout",
     "output_type": "stream",
     "text": [
      "Mitjana ± Desviació Estàndard de la filtració glomerular MDRD: 51.00 ± nan\n"
     ]
    }
   ],
   "execution_count": 983
  },
  {
   "metadata": {
    "ExecuteTime": {
     "end_time": "2024-05-08T08:51:16.245229Z",
     "start_time": "2024-05-08T08:51:16.234187Z"
    }
   },
   "cell_type": "code",
   "source": [
    "SENSE_PA.loc[:, 'FGE MDRD'] = pd.to_numeric(SENSE_PA['FGE MDRD'], errors='coerce')\n",
    "\n",
    "Mitjana_fgmd = SENSE_PA['FGE MDRD'].mean()\n",
    "desviacio_estandard_fgmd = SENSE_PA['FGE MDRD'].std()\n",
    "\n",
    "resultat = f\"{Mitjana_fgmd:.2f} ± {desviacio_estandard_fgmd:.2f}\"\n",
    "print(\"Mitjana ± Desviació Estàndard de la filtració glomerular MDRD:\", resultat)"
   ],
   "id": "763541413be056c5",
   "outputs": [
    {
     "name": "stdout",
     "output_type": "stream",
     "text": [
      "Mitjana ± Desviació Estàndard de la filtració glomerular MDRD: 39.00 ± nan\n"
     ]
    }
   ],
   "execution_count": 984
  },
  {
   "metadata": {
    "ExecuteTime": {
     "end_time": "2024-05-08T08:51:16.844245Z",
     "start_time": "2024-05-08T08:51:16.812697Z"
    }
   },
   "cell_type": "code",
   "source": [
    "TOTAL.loc[:, 'FGE MDRD'] = pd.to_numeric(TOTAL['FGE MDRD'], errors='coerce')\n",
    "\n",
    "Mitjana_fgmd = TOTAL['FGE MDRD'].mean()\n",
    "desviacio_estandard_fgmd = TOTAL['FGE MDRD'].std()\n",
    "\n",
    "resultat = f\"{Mitjana_fgmd:.2f} ± {desviacio_estandard_fgmd:.2f}\"\n",
    "print(\"Mitjana ± Desviació Estàndard de la filtració glomerular MDRD:\", resultat)"
   ],
   "id": "e75a50c540e370a4",
   "outputs": [
    {
     "name": "stdout",
     "output_type": "stream",
     "text": [
      "Mitjana ± Desviació Estàndard de la filtració glomerular MDRD: 37.67 ± 17.43\n"
     ]
    }
   ],
   "execution_count": 985
  },
  {
   "metadata": {},
   "cell_type": "markdown",
   "source": "#### Comparació distributiva",
   "id": "65917b1a82a35e66"
  },
  {
   "metadata": {},
   "cell_type": "markdown",
   "source": "##### Normalitat i p-valor",
   "id": "c5cecc47ecaebc3a"
  },
  {
   "metadata": {
    "ExecuteTime": {
     "end_time": "2024-05-08T08:51:17.336094Z",
     "start_time": "2024-05-08T08:51:17.329448Z"
    }
   },
   "cell_type": "code",
   "source": [
    "stat, p_value = shapiro(AMB_PA['FGE MDRD'])\n",
    "print(f\"Estadístic W = {stat:.4f}\")\n",
    "print(f\"Valor p = {p_value:.8f}\")\n",
    "\n",
    "alpha = 0.05\n",
    "if p_value < alpha:\n",
    "    print(\"El nombre de files no segueix una distribució normal.\")\n",
    "else:\n",
    "    print(\"El nombre de files segueix una distribució normal.\")\n"
   ],
   "id": "45b2bfc023427f2e",
   "outputs": [
    {
     "name": "stdout",
     "output_type": "stream",
     "text": [
      "Estadístic W = nan\n",
      "Valor p = nan\n",
      "El nombre de files segueix una distribució normal.\n"
     ]
    }
   ],
   "execution_count": 986
  },
  {
   "metadata": {
    "ExecuteTime": {
     "end_time": "2024-05-08T08:51:17.787616Z",
     "start_time": "2024-05-08T08:51:17.779216Z"
    }
   },
   "cell_type": "code",
   "source": [
    "stat, p_value = shapiro(AMB_PA_MECVV['FGE MDRD'])\n",
    "print(f\"Estadístic W = {stat:.4f}\")\n",
    "print(f\"Valor p = {p_value:.8f}\")\n",
    "\n",
    "alpha = 0.05\n",
    "if p_value < alpha:\n",
    "    print(\"El nombre de files no segueix una distribució normal.\")\n",
    "else:\n",
    "    print(\"El nombre de files segueix una distribució normal.\")"
   ],
   "id": "237280d7d80c21d3",
   "outputs": [
    {
     "name": "stdout",
     "output_type": "stream",
     "text": [
      "Estadístic W = nan\n",
      "Valor p = nan\n",
      "El nombre de files segueix una distribució normal.\n"
     ]
    }
   ],
   "execution_count": 987
  },
  {
   "metadata": {
    "ExecuteTime": {
     "end_time": "2024-05-08T08:51:18.369946Z",
     "start_time": "2024-05-08T08:51:18.361944Z"
    }
   },
   "cell_type": "code",
   "source": [
    "stat, p_value = shapiro(SENSE_PA['FGE MDRD'])\n",
    "print(f\"Estadístic W = {stat:.4f}\")\n",
    "print(f\"Valor p = {p_value:.8f}\")\n",
    "\n",
    "alpha = 0.05\n",
    "if p_value < alpha:\n",
    "    print(\"El nombre de files no segueix una distribució normal.\")\n",
    "else:\n",
    "    print(\"El nombre de files segueix una distribució normal.\")"
   ],
   "id": "f9619537536716a9",
   "outputs": [
    {
     "name": "stdout",
     "output_type": "stream",
     "text": [
      "Estadístic W = nan\n",
      "Valor p = nan\n",
      "El nombre de files segueix una distribució normal.\n"
     ]
    }
   ],
   "execution_count": 988
  },
  {
   "metadata": {
    "ExecuteTime": {
     "end_time": "2024-05-08T08:51:18.672164Z",
     "start_time": "2024-05-08T08:51:18.665337Z"
    }
   },
   "cell_type": "code",
   "source": [
    "stat, p_value = shapiro(TOTAL['FGE MDRD'])\n",
    "print(f\"Estadístic W = {stat:.4f}\")\n",
    "print(f\"Valor p = {p_value:.8f}\")\n",
    "\n",
    "alpha = 0.05\n",
    "if p_value < alpha:\n",
    "    print(\"El nombre de files no segueix una distribució normal.\")\n",
    "else:\n",
    "    print(\"El nombre de files segueix una distribució normal.\")"
   ],
   "id": "6c25416288198b08",
   "outputs": [
    {
     "name": "stdout",
     "output_type": "stream",
     "text": [
      "Estadístic W = nan\n",
      "Valor p = nan\n",
      "El nombre de files segueix una distribució normal.\n"
     ]
    }
   ],
   "execution_count": 989
  },
  {
   "metadata": {
    "ExecuteTime": {
     "end_time": "2024-05-08T08:51:18.930556Z",
     "start_time": "2024-05-08T08:51:18.922392Z"
    }
   },
   "cell_type": "code",
   "source": [
    "t_stat_12, p_val_12 = ttest_ind(AMB_PA['FGE MDRD'], AMB_PA_MECVV['FGE MDRD'], equal_var=False)\n",
    "print(\"P-valor entre AMB_PA i AMB_PA_MECVV:\", p_val_12)"
   ],
   "id": "3350d5aa6006a470",
   "outputs": [
    {
     "name": "stdout",
     "output_type": "stream",
     "text": [
      "P-valor entre AMB_PA i AMB_PA_MECVV: nan\n"
     ]
    }
   ],
   "execution_count": 990
  },
  {
   "metadata": {
    "ExecuteTime": {
     "end_time": "2024-05-08T08:51:19.283107Z",
     "start_time": "2024-05-08T08:51:19.273821Z"
    }
   },
   "cell_type": "code",
   "source": [
    "t_stat_13, p_val_13 = ttest_ind(AMB_PA['FGE MDRD'], SENSE_PA['FGE MDRD'], equal_var=False)\n",
    "print(\"P-valor entre AMB_PA i AMB_PA_MECVV:\", p_val_13)"
   ],
   "id": "b31a6f77e88fd26f",
   "outputs": [
    {
     "name": "stdout",
     "output_type": "stream",
     "text": [
      "P-valor entre AMB_PA i AMB_PA_MECVV: nan\n"
     ]
    }
   ],
   "execution_count": 991
  },
  {
   "metadata": {
    "ExecuteTime": {
     "end_time": "2024-05-08T08:51:19.702108Z",
     "start_time": "2024-05-08T08:51:19.692176Z"
    }
   },
   "cell_type": "code",
   "source": [
    "t_stat_23, p_val_23 = ttest_ind(AMB_PA_MECVV['FGE MDRD'], SENSE_PA['FGE MDRD'], equal_var=False)\n",
    "print(\"P-valor entre AMB_PA_MECVV i AMB_PA_MECVV:\", p_val_23)"
   ],
   "id": "36d4f6dfccd6cd98",
   "outputs": [
    {
     "name": "stdout",
     "output_type": "stream",
     "text": [
      "P-valor entre AMB_PA_MECVV i AMB_PA_MECVV: nan\n"
     ]
    }
   ],
   "execution_count": 992
  },
  {
   "metadata": {
    "ExecuteTime": {
     "end_time": "2024-05-08T08:51:20.080222Z",
     "start_time": "2024-05-08T08:51:20.067684Z"
    }
   },
   "cell_type": "code",
   "source": [
    "t_stat_14, p_val_14 = ttest_ind(AMB_PA['FGE MDRD'], TOTAL['FGE MDRD'], equal_var=False)\n",
    "print(\"P-valor entre AMB_PA i TOTAl:\", p_val_14)"
   ],
   "id": "b364e0f9a128fcfa",
   "outputs": [
    {
     "name": "stdout",
     "output_type": "stream",
     "text": [
      "P-valor entre AMB_PA i TOTAl: nan\n"
     ]
    }
   ],
   "execution_count": 993
  },
  {
   "metadata": {
    "ExecuteTime": {
     "end_time": "2024-05-08T08:51:20.737373Z",
     "start_time": "2024-05-08T08:51:20.730332Z"
    }
   },
   "cell_type": "code",
   "source": [
    "t_stat_24, p_val_24 = ttest_ind(AMB_PA_MECVV['FGE MDRD'], TOTAL['FGE MDRD'], equal_var=False)\n",
    "print(\"P-valor entre AMB_PA_MECVV i TOTAl:\", p_val_24)"
   ],
   "id": "a49592366c475b9f",
   "outputs": [
    {
     "name": "stdout",
     "output_type": "stream",
     "text": [
      "P-valor entre AMB_PA_MECVV i TOTAl: nan\n"
     ]
    }
   ],
   "execution_count": 994
  },
  {
   "metadata": {
    "ExecuteTime": {
     "end_time": "2024-05-08T08:51:21.329752Z",
     "start_time": "2024-05-08T08:51:21.321675Z"
    }
   },
   "cell_type": "code",
   "source": [
    "t_stat_34, p_val_34 = ttest_ind(SENSE_PA['FGE MDRD'], TOTAL['FGE MDRD'], equal_var=False)\n",
    "print(\"P-valor entre SENSE_PA i TOTAL:\", p_val_34)"
   ],
   "id": "9f70ca817ee6fe1a",
   "outputs": [
    {
     "name": "stdout",
     "output_type": "stream",
     "text": [
      "P-valor entre SENSE_PA i TOTAL: nan\n"
     ]
    }
   ],
   "execution_count": 995
  }
 ],
 "metadata": {
  "kernelspec": {
   "display_name": "Python 3",
   "language": "python",
   "name": "python3"
  },
  "language_info": {
   "codemirror_mode": {
    "name": "ipython",
    "version": 2
   },
   "file_extension": ".py",
   "mimetype": "text/x-python",
   "name": "python",
   "nbconvert_exporter": "python",
   "pygments_lexer": "ipython2",
   "version": "2.7.6"
  }
 },
 "nbformat": 4,
 "nbformat_minor": 5
}
