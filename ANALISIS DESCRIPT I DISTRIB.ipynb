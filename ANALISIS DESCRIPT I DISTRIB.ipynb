{
 "cells": [
  {
   "cell_type": "markdown",
   "source": [
    "## Paquetes y datos originales ## "
   ],
   "metadata": {
    "collapsed": false
   },
   "id": "56adfe3014ecabc7"
  },
  {
   "cell_type": "code",
   "source": [
    "import json\n",
    "import pandas as pd\n",
    "from datetime import datetime\n",
    "from listas import disfagia_list, PA_list, P_list, Main_respiratory_infections_list, LRTI_list, COPD_exacerbations_list, Pulmonary_fibrosis_fibrotorax_list\n",
    "from auxiliary_functions import valores_codigos, contar_diccionarios, dias_ingreso_total, asignar_intervalo_edad, sumar_barthel, sumar_emina, obtener_ultimo_resultat, obtener_valor_promedio, canadenca_comparada, disfagia_mecvvs, extraer_valor_clave, extraer_valor_clave_simple\n",
    "\n",
    "tabla = pd.read_pickle('./data/processed/dataframe.pkl')\n",
    "import scipy.stats as stats\n",
    "from scipy.stats import ttest_ind\n",
    "from statsmodels.stats.multicomp import pairwise_tukeyhsd\n",
    "from statsmodels.stats.proportion import proportions_ztest"
   ],
   "metadata": {
    "collapsed": false,
    "ExecuteTime": {
     "end_time": "2024-04-12T09:12:26.659205Z",
     "start_time": "2024-04-12T09:12:26.633475Z"
    }
   },
   "id": "34dba1a0fd28236e",
   "outputs": [],
   "execution_count": 167
  },
  {
   "cell_type": "markdown",
   "source": "### Previamente he tratado la base de datos, creando nuevas columnas para facilitar la lectura de los datos",
   "metadata": {
    "collapsed": false
   },
   "id": "5e397a948db661a4"
  },
  {
   "cell_type": "code",
   "source": [
    "tabla.head()"
   ],
   "metadata": {
    "collapsed": false,
    "ExecuteTime": {
     "end_time": "2024-04-12T09:12:34.403875Z",
     "start_time": "2024-04-12T09:12:34.203568Z"
    }
   },
   "id": "aa2554a079d8240",
   "outputs": [
    {
     "data": {
      "text/plain": [
       "   edat sexe  visitaDietista  \\\n",
       "0    89    F               0   \n",
       "1    70    M               0   \n",
       "2    96    M               0   \n",
       "3    85    M               0   \n",
       "4    93    M               0   \n",
       "\n",
       "                                                labs  \\\n",
       "0                                                 []   \n",
       "1  [{'date': '20220524', 'name': 'PCR SARS-CoV2 S...   \n",
       "2                                                 []   \n",
       "3                                                 []   \n",
       "4  [{'date': '20220208', 'name': 'UREA Sèrum', 'l...   \n",
       "\n",
       "                                                 mna  \\\n",
       "0                                                 []   \n",
       "1                                                 []   \n",
       "2                                                 []   \n",
       "3                                                 []   \n",
       "4  [{'imc': '0', 'anorexia': '1', 'perduaPes': '1...   \n",
       "\n",
       "                                               emina canadenca  \\\n",
       "0  [{'activitat': '2', 'estatMental': '1', 'humit...        []   \n",
       "1  [{'activitat': '0', 'estatMental': '0', 'humit...        []   \n",
       "2  [{'activitat': '3', 'estatMental': '0', 'humit...        []   \n",
       "3  [{'activitat': '2', 'estatMental': '1', 'humit...        []   \n",
       "4  [{'activitat': '2', 'estatMental': '1', 'humit...        []   \n",
       "\n",
       "                                                 pes  \\\n",
       "0                                                 []   \n",
       "1  [{'valor': '64.7', 'data': '2022-10-04'}, {'va...   \n",
       "2                                                 []   \n",
       "3                                                 []   \n",
       "4  [{'valor': '49.900', 'data': '2022-06-02'}, {'...   \n",
       "\n",
       "                                                atcs  \\\n",
       "0  [{'codi': 'M01AE', 'dataInici': '2020-06-21 00...   \n",
       "1  [{'codi': 'C09AA', 'dataInici': '2021-05-26 00...   \n",
       "2  [{'codi': 'G04CA', 'dataInici': '2020-07-09 00...   \n",
       "3  [{'codi': 'G04CA', 'dataInici': '2020-07-15 00...   \n",
       "4  [{'codi': 'N02AA', 'dataInici': '2022-02-01 00...   \n",
       "\n",
       "                                              mecvvs  ...  \\\n",
       "0                                                 []  ...   \n",
       "1  [{'data': '20220930', 'pacientNoColabora': '',...  ...   \n",
       "2                                                 []  ...   \n",
       "3  [{'data': '20201204131810', 'disfagia': 'S', '...  ...   \n",
       "4  [{'data': '20220330172303', 'disfagiaConeguda'...  ...   \n",
       "\n",
       "  EMINA_sumatorios_comparados emina_resultats  mna_resultats  promedio_pes  \\\n",
       "0                        10.0            10.0           None           NaN   \n",
       "1                         1.0             1.0           None     58.308333   \n",
       "2                         6.0             6.0           None           NaN   \n",
       "3                         8.0             8.0           None           NaN   \n",
       "4                         7.0             7.0            4.0     49.900000   \n",
       "\n",
       "   Canadenca_sumatorios_comparados  Disfagia_mecvvs  alteracioEficacia_mecvvs  \\\n",
       "0                              NaN              NaN                       NaN   \n",
       "1                              NaN              0.0                       1.0   \n",
       "2                              NaN              NaN                       NaN   \n",
       "3                              NaN              1.0                       1.0   \n",
       "4                              NaN              1.0                       NaN   \n",
       "\n",
       "   alteracioSeguretat_mecvvs  viscositat_mecvvs  volumn_mecvvs  \n",
       "0                        NaN               None           None  \n",
       "1                        0.0             Líquid            Alt  \n",
       "2                        NaN               None           None  \n",
       "3                        1.0             NECTAR            ALT  \n",
       "4                        NaN               None           None  \n",
       "\n",
       "[5 rows x 33 columns]"
      ],
      "text/html": [
       "<div>\n",
       "<style scoped>\n",
       "    .dataframe tbody tr th:only-of-type {\n",
       "        vertical-align: middle;\n",
       "    }\n",
       "\n",
       "    .dataframe tbody tr th {\n",
       "        vertical-align: top;\n",
       "    }\n",
       "\n",
       "    .dataframe thead th {\n",
       "        text-align: right;\n",
       "    }\n",
       "</style>\n",
       "<table border=\"1\" class=\"dataframe\">\n",
       "  <thead>\n",
       "    <tr style=\"text-align: right;\">\n",
       "      <th></th>\n",
       "      <th>edat</th>\n",
       "      <th>sexe</th>\n",
       "      <th>visitaDietista</th>\n",
       "      <th>labs</th>\n",
       "      <th>mna</th>\n",
       "      <th>emina</th>\n",
       "      <th>canadenca</th>\n",
       "      <th>pes</th>\n",
       "      <th>atcs</th>\n",
       "      <th>mecvvs</th>\n",
       "      <th>...</th>\n",
       "      <th>EMINA_sumatorios_comparados</th>\n",
       "      <th>emina_resultats</th>\n",
       "      <th>mna_resultats</th>\n",
       "      <th>promedio_pes</th>\n",
       "      <th>Canadenca_sumatorios_comparados</th>\n",
       "      <th>Disfagia_mecvvs</th>\n",
       "      <th>alteracioEficacia_mecvvs</th>\n",
       "      <th>alteracioSeguretat_mecvvs</th>\n",
       "      <th>viscositat_mecvvs</th>\n",
       "      <th>volumn_mecvvs</th>\n",
       "    </tr>\n",
       "  </thead>\n",
       "  <tbody>\n",
       "    <tr>\n",
       "      <th>0</th>\n",
       "      <td>89</td>\n",
       "      <td>F</td>\n",
       "      <td>0</td>\n",
       "      <td>[]</td>\n",
       "      <td>[]</td>\n",
       "      <td>[{'activitat': '2', 'estatMental': '1', 'humit...</td>\n",
       "      <td>[]</td>\n",
       "      <td>[]</td>\n",
       "      <td>[{'codi': 'M01AE', 'dataInici': '2020-06-21 00...</td>\n",
       "      <td>[]</td>\n",
       "      <td>...</td>\n",
       "      <td>10.0</td>\n",
       "      <td>10.0</td>\n",
       "      <td>None</td>\n",
       "      <td>NaN</td>\n",
       "      <td>NaN</td>\n",
       "      <td>NaN</td>\n",
       "      <td>NaN</td>\n",
       "      <td>NaN</td>\n",
       "      <td>None</td>\n",
       "      <td>None</td>\n",
       "    </tr>\n",
       "    <tr>\n",
       "      <th>1</th>\n",
       "      <td>70</td>\n",
       "      <td>M</td>\n",
       "      <td>0</td>\n",
       "      <td>[{'date': '20220524', 'name': 'PCR SARS-CoV2 S...</td>\n",
       "      <td>[]</td>\n",
       "      <td>[{'activitat': '0', 'estatMental': '0', 'humit...</td>\n",
       "      <td>[]</td>\n",
       "      <td>[{'valor': '64.7', 'data': '2022-10-04'}, {'va...</td>\n",
       "      <td>[{'codi': 'C09AA', 'dataInici': '2021-05-26 00...</td>\n",
       "      <td>[{'data': '20220930', 'pacientNoColabora': '',...</td>\n",
       "      <td>...</td>\n",
       "      <td>1.0</td>\n",
       "      <td>1.0</td>\n",
       "      <td>None</td>\n",
       "      <td>58.308333</td>\n",
       "      <td>NaN</td>\n",
       "      <td>0.0</td>\n",
       "      <td>1.0</td>\n",
       "      <td>0.0</td>\n",
       "      <td>Líquid</td>\n",
       "      <td>Alt</td>\n",
       "    </tr>\n",
       "    <tr>\n",
       "      <th>2</th>\n",
       "      <td>96</td>\n",
       "      <td>M</td>\n",
       "      <td>0</td>\n",
       "      <td>[]</td>\n",
       "      <td>[]</td>\n",
       "      <td>[{'activitat': '3', 'estatMental': '0', 'humit...</td>\n",
       "      <td>[]</td>\n",
       "      <td>[]</td>\n",
       "      <td>[{'codi': 'G04CA', 'dataInici': '2020-07-09 00...</td>\n",
       "      <td>[]</td>\n",
       "      <td>...</td>\n",
       "      <td>6.0</td>\n",
       "      <td>6.0</td>\n",
       "      <td>None</td>\n",
       "      <td>NaN</td>\n",
       "      <td>NaN</td>\n",
       "      <td>NaN</td>\n",
       "      <td>NaN</td>\n",
       "      <td>NaN</td>\n",
       "      <td>None</td>\n",
       "      <td>None</td>\n",
       "    </tr>\n",
       "    <tr>\n",
       "      <th>3</th>\n",
       "      <td>85</td>\n",
       "      <td>M</td>\n",
       "      <td>0</td>\n",
       "      <td>[]</td>\n",
       "      <td>[]</td>\n",
       "      <td>[{'activitat': '2', 'estatMental': '1', 'humit...</td>\n",
       "      <td>[]</td>\n",
       "      <td>[]</td>\n",
       "      <td>[{'codi': 'G04CA', 'dataInici': '2020-07-15 00...</td>\n",
       "      <td>[{'data': '20201204131810', 'disfagia': 'S', '...</td>\n",
       "      <td>...</td>\n",
       "      <td>8.0</td>\n",
       "      <td>8.0</td>\n",
       "      <td>None</td>\n",
       "      <td>NaN</td>\n",
       "      <td>NaN</td>\n",
       "      <td>1.0</td>\n",
       "      <td>1.0</td>\n",
       "      <td>1.0</td>\n",
       "      <td>NECTAR</td>\n",
       "      <td>ALT</td>\n",
       "    </tr>\n",
       "    <tr>\n",
       "      <th>4</th>\n",
       "      <td>93</td>\n",
       "      <td>M</td>\n",
       "      <td>0</td>\n",
       "      <td>[{'date': '20220208', 'name': 'UREA Sèrum', 'l...</td>\n",
       "      <td>[{'imc': '0', 'anorexia': '1', 'perduaPes': '1...</td>\n",
       "      <td>[{'activitat': '2', 'estatMental': '1', 'humit...</td>\n",
       "      <td>[]</td>\n",
       "      <td>[{'valor': '49.900', 'data': '2022-06-02'}, {'...</td>\n",
       "      <td>[{'codi': 'N02AA', 'dataInici': '2022-02-01 00...</td>\n",
       "      <td>[{'data': '20220330172303', 'disfagiaConeguda'...</td>\n",
       "      <td>...</td>\n",
       "      <td>7.0</td>\n",
       "      <td>7.0</td>\n",
       "      <td>4.0</td>\n",
       "      <td>49.900000</td>\n",
       "      <td>NaN</td>\n",
       "      <td>1.0</td>\n",
       "      <td>NaN</td>\n",
       "      <td>NaN</td>\n",
       "      <td>None</td>\n",
       "      <td>None</td>\n",
       "    </tr>\n",
       "  </tbody>\n",
       "</table>\n",
       "<p>5 rows × 33 columns</p>\n",
       "</div>"
      ]
     },
     "execution_count": 168,
     "metadata": {},
     "output_type": "execute_result"
    }
   ],
   "execution_count": 168
  },
  {
   "cell_type": "markdown",
   "source": [
    "## Dividiré los datos en 3 grupos:\n",
    "- Con PA (codigo ICD de PA )\n",
    "- Con PA + MECVV (MECVV positivo + icd pneumonia < 30 days)\n",
    "- Sin PA (ICD pneumonia or icd pneumonia + mecvv positive > 30 days)"
   ],
   "metadata": {
    "collapsed": false
   },
   "id": "e7c4d56da22c6caf"
  },
  {
   "cell_type": "markdown",
   "source": [
    "# CON PA "
   ],
   "metadata": {
    "collapsed": false
   },
   "id": "6fe0c4b4db3bd775"
  },
  {
   "cell_type": "code",
   "source": [
    "tabla.PA_diagnosticada.value_counts()"
   ],
   "metadata": {
    "collapsed": false,
    "ExecuteTime": {
     "end_time": "2024-04-12T09:12:34.413529Z",
     "start_time": "2024-04-12T09:12:34.404053Z"
    }
   },
   "id": "a4e4da6a7f6dcc17",
   "outputs": [
    {
     "data": {
      "text/plain": [
       "PA_diagnosticada\n",
       "0.0    33\n",
       "1.0    17\n",
       "Name: count, dtype: int64"
      ]
     },
     "execution_count": 169,
     "metadata": {},
     "output_type": "execute_result"
    }
   ],
   "execution_count": 169
  },
  {
   "cell_type": "code",
   "source": [
    "CON_PA = tabla[tabla[\"PA_diagnosticada\"] == 1.0]\n",
    "CON_PA.head(len(tabla))"
   ],
   "metadata": {
    "collapsed": false,
    "ExecuteTime": {
     "end_time": "2024-04-12T09:12:35.215680Z",
     "start_time": "2024-04-12T09:12:34.668496Z"
    }
   },
   "id": "bf8054f82ba8cf2d",
   "outputs": [
    {
     "data": {
      "text/plain": [
       "    edat sexe  visitaDietista  \\\n",
       "0     89    F               0   \n",
       "1     70    M               0   \n",
       "3     85    M               0   \n",
       "6    101    F               0   \n",
       "12    86    M               0   \n",
       "13    71    F               0   \n",
       "15    75    M               0   \n",
       "26    97    F               0   \n",
       "28    95    F               0   \n",
       "29    97    F               0   \n",
       "31    89    M               0   \n",
       "32    81    M               0   \n",
       "34    96    F               0   \n",
       "37    86    M               0   \n",
       "38    90    M               0   \n",
       "39    87    F               0   \n",
       "45    85    M               0   \n",
       "\n",
       "                                                 labs  \\\n",
       "0                                                  []   \n",
       "1   [{'date': '20220524', 'name': 'PCR SARS-CoV2 S...   \n",
       "3                                                  []   \n",
       "6                                                  []   \n",
       "12                                                 []   \n",
       "13  [{'date': '20220216', 'name': 'CULTIU Esput', ...   \n",
       "15                                                 []   \n",
       "26  [{'date': '20220419', 'name': 'GLUCOSA Sèrum',...   \n",
       "28  [{'date': '20220526', 'name': 'GLUCOSA Sèrum',...   \n",
       "29                                                 []   \n",
       "31  [{'date': '20220318', 'name': 'BILIRUBINA TOTA...   \n",
       "32                                                 []   \n",
       "34                                                 []   \n",
       "37  [{'date': '20221003', 'name': 'GLUCOSA Sèrum',...   \n",
       "38  [{'date': '20220809', 'name': 'GLUCOSA Sèrum',...   \n",
       "39  [{'date': '20230619', 'name': 'GLUCOSA Sèrum',...   \n",
       "45  [{'date': '20220330', 'name': 'GLUCOSA Sèrum',...   \n",
       "\n",
       "                                                  mna  \\\n",
       "0                                                  []   \n",
       "1                                                  []   \n",
       "3                                                  []   \n",
       "6                                                  []   \n",
       "12                                                 []   \n",
       "13                                                 []   \n",
       "15                                                 []   \n",
       "26                                                 []   \n",
       "28                                                 []   \n",
       "29                                                 []   \n",
       "31  [{'imc': '', 'anorexia': '', 'perduaPes': '', ...   \n",
       "32                                                 []   \n",
       "34  [{'imc': '', 'anorexia': '', 'perduaPes': '', ...   \n",
       "37  [{'imc': '', 'anorexia': '', 'perduaPes': '', ...   \n",
       "38                                                 []   \n",
       "39                                                 []   \n",
       "45  [{'imc': '', 'anorexia': '', 'perduaPes': '', ...   \n",
       "\n",
       "                                                emina  \\\n",
       "0   [{'activitat': '2', 'estatMental': '1', 'humit...   \n",
       "1   [{'activitat': '0', 'estatMental': '0', 'humit...   \n",
       "3   [{'activitat': '2', 'estatMental': '1', 'humit...   \n",
       "6   [{'activitat': '3', 'estatMental': '1', 'humit...   \n",
       "12  [{'activitat': '1', 'estatMental': '1', 'humit...   \n",
       "13  [{'activitat': '3', 'estatMental': '0', 'humit...   \n",
       "15  [{'activitat': '3', 'estatMental': '2', 'humit...   \n",
       "26  [{'activitat': '1', 'estatMental': '0', 'humit...   \n",
       "28  [{'activitat': '3', 'estatMental': '0', 'humit...   \n",
       "29  [{'activitat': '3', 'estatMental': '2', 'humit...   \n",
       "31  [{'activitat': '2', 'estatMental': '1', 'humit...   \n",
       "32  [{'activitat': '2', 'estatMental': '1', 'humit...   \n",
       "34  [{'activitat': '1', 'estatMental': '1', 'humit...   \n",
       "37  [{'activitat': '2', 'estatMental': '1', 'humit...   \n",
       "38  [{'activitat': '3', 'estatMental': '0', 'humit...   \n",
       "39  [{'activitat': '1', 'estatMental': '0', 'humit...   \n",
       "45  [{'activitat': '3', 'estatMental': '1', 'humit...   \n",
       "\n",
       "                                            canadenca  \\\n",
       "0                                                  []   \n",
       "1                                                  []   \n",
       "3                                                  []   \n",
       "6                                                  []   \n",
       "12                                                 []   \n",
       "13  [{'dataValoracio': '2020-09-06', 'horaValoraci...   \n",
       "15                                                 []   \n",
       "26                                                 []   \n",
       "28                                                 []   \n",
       "29                                                 []   \n",
       "31                                                 []   \n",
       "32                                                 []   \n",
       "34                                                 []   \n",
       "37                                                 []   \n",
       "38                                                 []   \n",
       "39                                                 []   \n",
       "45                                                 []   \n",
       "\n",
       "                                                  pes  \\\n",
       "0                                                  []   \n",
       "1   [{'valor': '64.7', 'data': '2022-10-04'}, {'va...   \n",
       "3                                                  []   \n",
       "6                                                  []   \n",
       "12          [{'valor': '46.4', 'data': '2020-09-09'}]   \n",
       "13                                                 []   \n",
       "15                                                 []   \n",
       "26                                                 []   \n",
       "28             [{'valor': '0', 'data': '2022-05-30'}]   \n",
       "29                                                 []   \n",
       "31  [{'valor': '75', 'data': '2022-01-11'}, {'valo...   \n",
       "32                                                 []   \n",
       "34          [{'valor': '51.5', 'data': '2021-01-14'}]   \n",
       "37            [{'valor': '72', 'data': '2022-10-09'}]   \n",
       "38                                                 []   \n",
       "39                                                 []   \n",
       "45             [{'valor': '0', 'data': '2023-04-28'}]   \n",
       "\n",
       "                                                 atcs  \\\n",
       "0   [{'codi': 'M01AE', 'dataInici': '2020-06-21 00...   \n",
       "1   [{'codi': 'C09AA', 'dataInici': '2021-05-26 00...   \n",
       "3   [{'codi': 'G04CA', 'dataInici': '2020-07-15 00...   \n",
       "6   [{'codi': 'C09AA', 'dataInici': '2021-08-21 00...   \n",
       "12  [{'codi': 'G04CA', 'dataInici': '2020-09-04 00...   \n",
       "13  [{'codi': 'C10AA', 'dataInici': '2020-09-06 00...   \n",
       "15  [{'codi': 'G04CA', 'dataInici': '2020-09-19 00...   \n",
       "26  [{'codi': 'C09BA', 'dataInici': '2022-04-17 00...   \n",
       "28  [{'codi': 'C10AA', 'dataInici': '2020-11-18 00...   \n",
       "29  [{'codi': 'N02BE', 'dataInici': '2020-11-30 00...   \n",
       "31  [{'codi': 'C10AA', 'dataInici': '2021-12-23 00...   \n",
       "32  [{'codi': 'C10AA', 'dataInici': '2020-12-23 00...   \n",
       "34  [{'codi': 'N02AA', 'dataInici': '2021-01-01 00...   \n",
       "37  [{'codi': 'G04CA', 'dataInici': '2022-09-26 00...   \n",
       "38  [{'codi': 'N02BE', 'dataInici': '2022-10-27 00...   \n",
       "39  [{'codi': 'N02BE', 'dataInici': '2021-01-17 00...   \n",
       "45  [{'codi': 'G04CA', 'dataInici': '2021-03-21 00...   \n",
       "\n",
       "                                               mecvvs  ...  \\\n",
       "0                                                  []  ...   \n",
       "1   [{'data': '20220930', 'pacientNoColabora': '',...  ...   \n",
       "3   [{'data': '20201204131810', 'disfagia': 'S', '...  ...   \n",
       "6   [{'data': '20210819124116', 'disfagia': 'S', '...  ...   \n",
       "12  [{'data': '20200907110400', 'disfagia': 'S', '...  ...   \n",
       "13  [{'data': '20200906175506', 'disfagia': 'N', '...  ...   \n",
       "15                                                 []  ...   \n",
       "26                                                 []  ...   \n",
       "28  [{'data': '20220529115841', 'disfagia': 'S', '...  ...   \n",
       "29                                                 []  ...   \n",
       "31  [{'data': '20220119101523', 'disfagia': 'N', '...  ...   \n",
       "32                                                 []  ...   \n",
       "34                                                 []  ...   \n",
       "37  [{'data': '20221012122425', 'disfagia': 'S', '...  ...   \n",
       "38  [{'data': '20221031103922', 'pacientNoColabora...  ...   \n",
       "39  [{'data': '20220111085147', 'disfagia': 'S', '...  ...   \n",
       "45  [{'data': '20210323123919', 'disfagia': 'S', '...  ...   \n",
       "\n",
       "   EMINA_sumatorios_comparados emina_resultats  mna_resultats  promedio_pes  \\\n",
       "0                         10.0            10.0           None           NaN   \n",
       "1                          1.0             1.0           None     58.308333   \n",
       "3                          8.0             8.0           None           NaN   \n",
       "6                          9.0             9.0           None           NaN   \n",
       "12                         7.0             7.0           None     46.400000   \n",
       "13                         6.0             6.0           None           NaN   \n",
       "15                        13.0            13.0           None           NaN   \n",
       "26                         5.0             5.0           None           NaN   \n",
       "28                         6.0             6.0           None      0.000000   \n",
       "29                        14.0            14.0           None           NaN   \n",
       "31                         9.0             9.0            0.0     74.350000   \n",
       "32                         8.0             8.0           None           NaN   \n",
       "34                         6.0             6.0            0.0     51.500000   \n",
       "37                         9.0             9.0            0.0     72.000000   \n",
       "38                         9.0             9.0           None           NaN   \n",
       "39                         4.0             4.0           None           NaN   \n",
       "45                        11.0            11.0            0.0      0.000000   \n",
       "\n",
       "    Canadenca_sumatorios_comparados  Disfagia_mecvvs  \\\n",
       "0                               NaN              NaN   \n",
       "1                               NaN              0.0   \n",
       "3                               NaN              1.0   \n",
       "6                               NaN              1.0   \n",
       "12                              NaN              1.0   \n",
       "13                              7.0              1.0   \n",
       "15                              NaN              NaN   \n",
       "26                              NaN              NaN   \n",
       "28                              NaN              0.0   \n",
       "29                              NaN              NaN   \n",
       "31                              NaN              0.0   \n",
       "32                              NaN              NaN   \n",
       "34                              NaN              NaN   \n",
       "37                              NaN              1.0   \n",
       "38                              NaN              NaN   \n",
       "39                              NaN              1.0   \n",
       "45                              NaN              1.0   \n",
       "\n",
       "    alteracioEficacia_mecvvs  alteracioSeguretat_mecvvs  viscositat_mecvvs  \\\n",
       "0                        NaN                        NaN               None   \n",
       "1                        1.0                        0.0             Líquid   \n",
       "3                        1.0                        1.0             NECTAR   \n",
       "6                        1.0                        0.0             LIQUID   \n",
       "12                       1.0                        1.0             NECTAR   \n",
       "13                       1.0                        1.0             PUDING   \n",
       "15                       NaN                        NaN               None   \n",
       "26                       NaN                        NaN               None   \n",
       "28                       0.0                        0.0             LIQUID   \n",
       "29                       NaN                        NaN               None   \n",
       "31                       0.0                        0.0             LIQUID   \n",
       "32                       NaN                        NaN               None   \n",
       "34                       NaN                        NaN               None   \n",
       "37                       0.0                        1.0             NECTAR   \n",
       "38                       NaN                        NaN               None   \n",
       "39                       1.0                        0.0             LIQUID   \n",
       "45                       1.0                        1.0             PUDING   \n",
       "\n",
       "    volumn_mecvvs  \n",
       "0            None  \n",
       "1             Alt  \n",
       "3             ALT  \n",
       "6            BAIX  \n",
       "12            MIG  \n",
       "13            MIG  \n",
       "15           None  \n",
       "26           None  \n",
       "28            MIG  \n",
       "29           None  \n",
       "31           BAIX  \n",
       "32           None  \n",
       "34           None  \n",
       "37            MIG  \n",
       "38           None  \n",
       "39            MIG  \n",
       "45           BAIX  \n",
       "\n",
       "[17 rows x 33 columns]"
      ],
      "text/html": [
       "<div>\n",
       "<style scoped>\n",
       "    .dataframe tbody tr th:only-of-type {\n",
       "        vertical-align: middle;\n",
       "    }\n",
       "\n",
       "    .dataframe tbody tr th {\n",
       "        vertical-align: top;\n",
       "    }\n",
       "\n",
       "    .dataframe thead th {\n",
       "        text-align: right;\n",
       "    }\n",
       "</style>\n",
       "<table border=\"1\" class=\"dataframe\">\n",
       "  <thead>\n",
       "    <tr style=\"text-align: right;\">\n",
       "      <th></th>\n",
       "      <th>edat</th>\n",
       "      <th>sexe</th>\n",
       "      <th>visitaDietista</th>\n",
       "      <th>labs</th>\n",
       "      <th>mna</th>\n",
       "      <th>emina</th>\n",
       "      <th>canadenca</th>\n",
       "      <th>pes</th>\n",
       "      <th>atcs</th>\n",
       "      <th>mecvvs</th>\n",
       "      <th>...</th>\n",
       "      <th>EMINA_sumatorios_comparados</th>\n",
       "      <th>emina_resultats</th>\n",
       "      <th>mna_resultats</th>\n",
       "      <th>promedio_pes</th>\n",
       "      <th>Canadenca_sumatorios_comparados</th>\n",
       "      <th>Disfagia_mecvvs</th>\n",
       "      <th>alteracioEficacia_mecvvs</th>\n",
       "      <th>alteracioSeguretat_mecvvs</th>\n",
       "      <th>viscositat_mecvvs</th>\n",
       "      <th>volumn_mecvvs</th>\n",
       "    </tr>\n",
       "  </thead>\n",
       "  <tbody>\n",
       "    <tr>\n",
       "      <th>0</th>\n",
       "      <td>89</td>\n",
       "      <td>F</td>\n",
       "      <td>0</td>\n",
       "      <td>[]</td>\n",
       "      <td>[]</td>\n",
       "      <td>[{'activitat': '2', 'estatMental': '1', 'humit...</td>\n",
       "      <td>[]</td>\n",
       "      <td>[]</td>\n",
       "      <td>[{'codi': 'M01AE', 'dataInici': '2020-06-21 00...</td>\n",
       "      <td>[]</td>\n",
       "      <td>...</td>\n",
       "      <td>10.0</td>\n",
       "      <td>10.0</td>\n",
       "      <td>None</td>\n",
       "      <td>NaN</td>\n",
       "      <td>NaN</td>\n",
       "      <td>NaN</td>\n",
       "      <td>NaN</td>\n",
       "      <td>NaN</td>\n",
       "      <td>None</td>\n",
       "      <td>None</td>\n",
       "    </tr>\n",
       "    <tr>\n",
       "      <th>1</th>\n",
       "      <td>70</td>\n",
       "      <td>M</td>\n",
       "      <td>0</td>\n",
       "      <td>[{'date': '20220524', 'name': 'PCR SARS-CoV2 S...</td>\n",
       "      <td>[]</td>\n",
       "      <td>[{'activitat': '0', 'estatMental': '0', 'humit...</td>\n",
       "      <td>[]</td>\n",
       "      <td>[{'valor': '64.7', 'data': '2022-10-04'}, {'va...</td>\n",
       "      <td>[{'codi': 'C09AA', 'dataInici': '2021-05-26 00...</td>\n",
       "      <td>[{'data': '20220930', 'pacientNoColabora': '',...</td>\n",
       "      <td>...</td>\n",
       "      <td>1.0</td>\n",
       "      <td>1.0</td>\n",
       "      <td>None</td>\n",
       "      <td>58.308333</td>\n",
       "      <td>NaN</td>\n",
       "      <td>0.0</td>\n",
       "      <td>1.0</td>\n",
       "      <td>0.0</td>\n",
       "      <td>Líquid</td>\n",
       "      <td>Alt</td>\n",
       "    </tr>\n",
       "    <tr>\n",
       "      <th>3</th>\n",
       "      <td>85</td>\n",
       "      <td>M</td>\n",
       "      <td>0</td>\n",
       "      <td>[]</td>\n",
       "      <td>[]</td>\n",
       "      <td>[{'activitat': '2', 'estatMental': '1', 'humit...</td>\n",
       "      <td>[]</td>\n",
       "      <td>[]</td>\n",
       "      <td>[{'codi': 'G04CA', 'dataInici': '2020-07-15 00...</td>\n",
       "      <td>[{'data': '20201204131810', 'disfagia': 'S', '...</td>\n",
       "      <td>...</td>\n",
       "      <td>8.0</td>\n",
       "      <td>8.0</td>\n",
       "      <td>None</td>\n",
       "      <td>NaN</td>\n",
       "      <td>NaN</td>\n",
       "      <td>1.0</td>\n",
       "      <td>1.0</td>\n",
       "      <td>1.0</td>\n",
       "      <td>NECTAR</td>\n",
       "      <td>ALT</td>\n",
       "    </tr>\n",
       "    <tr>\n",
       "      <th>6</th>\n",
       "      <td>101</td>\n",
       "      <td>F</td>\n",
       "      <td>0</td>\n",
       "      <td>[]</td>\n",
       "      <td>[]</td>\n",
       "      <td>[{'activitat': '3', 'estatMental': '1', 'humit...</td>\n",
       "      <td>[]</td>\n",
       "      <td>[]</td>\n",
       "      <td>[{'codi': 'C09AA', 'dataInici': '2021-08-21 00...</td>\n",
       "      <td>[{'data': '20210819124116', 'disfagia': 'S', '...</td>\n",
       "      <td>...</td>\n",
       "      <td>9.0</td>\n",
       "      <td>9.0</td>\n",
       "      <td>None</td>\n",
       "      <td>NaN</td>\n",
       "      <td>NaN</td>\n",
       "      <td>1.0</td>\n",
       "      <td>1.0</td>\n",
       "      <td>0.0</td>\n",
       "      <td>LIQUID</td>\n",
       "      <td>BAIX</td>\n",
       "    </tr>\n",
       "    <tr>\n",
       "      <th>12</th>\n",
       "      <td>86</td>\n",
       "      <td>M</td>\n",
       "      <td>0</td>\n",
       "      <td>[]</td>\n",
       "      <td>[]</td>\n",
       "      <td>[{'activitat': '1', 'estatMental': '1', 'humit...</td>\n",
       "      <td>[]</td>\n",
       "      <td>[{'valor': '46.4', 'data': '2020-09-09'}]</td>\n",
       "      <td>[{'codi': 'G04CA', 'dataInici': '2020-09-04 00...</td>\n",
       "      <td>[{'data': '20200907110400', 'disfagia': 'S', '...</td>\n",
       "      <td>...</td>\n",
       "      <td>7.0</td>\n",
       "      <td>7.0</td>\n",
       "      <td>None</td>\n",
       "      <td>46.400000</td>\n",
       "      <td>NaN</td>\n",
       "      <td>1.0</td>\n",
       "      <td>1.0</td>\n",
       "      <td>1.0</td>\n",
       "      <td>NECTAR</td>\n",
       "      <td>MIG</td>\n",
       "    </tr>\n",
       "    <tr>\n",
       "      <th>13</th>\n",
       "      <td>71</td>\n",
       "      <td>F</td>\n",
       "      <td>0</td>\n",
       "      <td>[{'date': '20220216', 'name': 'CULTIU Esput', ...</td>\n",
       "      <td>[]</td>\n",
       "      <td>[{'activitat': '3', 'estatMental': '0', 'humit...</td>\n",
       "      <td>[{'dataValoracio': '2020-09-06', 'horaValoraci...</td>\n",
       "      <td>[]</td>\n",
       "      <td>[{'codi': 'C10AA', 'dataInici': '2020-09-06 00...</td>\n",
       "      <td>[{'data': '20200906175506', 'disfagia': 'N', '...</td>\n",
       "      <td>...</td>\n",
       "      <td>6.0</td>\n",
       "      <td>6.0</td>\n",
       "      <td>None</td>\n",
       "      <td>NaN</td>\n",
       "      <td>7.0</td>\n",
       "      <td>1.0</td>\n",
       "      <td>1.0</td>\n",
       "      <td>1.0</td>\n",
       "      <td>PUDING</td>\n",
       "      <td>MIG</td>\n",
       "    </tr>\n",
       "    <tr>\n",
       "      <th>15</th>\n",
       "      <td>75</td>\n",
       "      <td>M</td>\n",
       "      <td>0</td>\n",
       "      <td>[]</td>\n",
       "      <td>[]</td>\n",
       "      <td>[{'activitat': '3', 'estatMental': '2', 'humit...</td>\n",
       "      <td>[]</td>\n",
       "      <td>[]</td>\n",
       "      <td>[{'codi': 'G04CA', 'dataInici': '2020-09-19 00...</td>\n",
       "      <td>[]</td>\n",
       "      <td>...</td>\n",
       "      <td>13.0</td>\n",
       "      <td>13.0</td>\n",
       "      <td>None</td>\n",
       "      <td>NaN</td>\n",
       "      <td>NaN</td>\n",
       "      <td>NaN</td>\n",
       "      <td>NaN</td>\n",
       "      <td>NaN</td>\n",
       "      <td>None</td>\n",
       "      <td>None</td>\n",
       "    </tr>\n",
       "    <tr>\n",
       "      <th>26</th>\n",
       "      <td>97</td>\n",
       "      <td>F</td>\n",
       "      <td>0</td>\n",
       "      <td>[{'date': '20220419', 'name': 'GLUCOSA Sèrum',...</td>\n",
       "      <td>[]</td>\n",
       "      <td>[{'activitat': '1', 'estatMental': '0', 'humit...</td>\n",
       "      <td>[]</td>\n",
       "      <td>[]</td>\n",
       "      <td>[{'codi': 'C09BA', 'dataInici': '2022-04-17 00...</td>\n",
       "      <td>[]</td>\n",
       "      <td>...</td>\n",
       "      <td>5.0</td>\n",
       "      <td>5.0</td>\n",
       "      <td>None</td>\n",
       "      <td>NaN</td>\n",
       "      <td>NaN</td>\n",
       "      <td>NaN</td>\n",
       "      <td>NaN</td>\n",
       "      <td>NaN</td>\n",
       "      <td>None</td>\n",
       "      <td>None</td>\n",
       "    </tr>\n",
       "    <tr>\n",
       "      <th>28</th>\n",
       "      <td>95</td>\n",
       "      <td>F</td>\n",
       "      <td>0</td>\n",
       "      <td>[{'date': '20220526', 'name': 'GLUCOSA Sèrum',...</td>\n",
       "      <td>[]</td>\n",
       "      <td>[{'activitat': '3', 'estatMental': '0', 'humit...</td>\n",
       "      <td>[]</td>\n",
       "      <td>[{'valor': '0', 'data': '2022-05-30'}]</td>\n",
       "      <td>[{'codi': 'C10AA', 'dataInici': '2020-11-18 00...</td>\n",
       "      <td>[{'data': '20220529115841', 'disfagia': 'S', '...</td>\n",
       "      <td>...</td>\n",
       "      <td>6.0</td>\n",
       "      <td>6.0</td>\n",
       "      <td>None</td>\n",
       "      <td>0.000000</td>\n",
       "      <td>NaN</td>\n",
       "      <td>0.0</td>\n",
       "      <td>0.0</td>\n",
       "      <td>0.0</td>\n",
       "      <td>LIQUID</td>\n",
       "      <td>MIG</td>\n",
       "    </tr>\n",
       "    <tr>\n",
       "      <th>29</th>\n",
       "      <td>97</td>\n",
       "      <td>F</td>\n",
       "      <td>0</td>\n",
       "      <td>[]</td>\n",
       "      <td>[]</td>\n",
       "      <td>[{'activitat': '3', 'estatMental': '2', 'humit...</td>\n",
       "      <td>[]</td>\n",
       "      <td>[]</td>\n",
       "      <td>[{'codi': 'N02BE', 'dataInici': '2020-11-30 00...</td>\n",
       "      <td>[]</td>\n",
       "      <td>...</td>\n",
       "      <td>14.0</td>\n",
       "      <td>14.0</td>\n",
       "      <td>None</td>\n",
       "      <td>NaN</td>\n",
       "      <td>NaN</td>\n",
       "      <td>NaN</td>\n",
       "      <td>NaN</td>\n",
       "      <td>NaN</td>\n",
       "      <td>None</td>\n",
       "      <td>None</td>\n",
       "    </tr>\n",
       "    <tr>\n",
       "      <th>31</th>\n",
       "      <td>89</td>\n",
       "      <td>M</td>\n",
       "      <td>0</td>\n",
       "      <td>[{'date': '20220318', 'name': 'BILIRUBINA TOTA...</td>\n",
       "      <td>[{'imc': '', 'anorexia': '', 'perduaPes': '', ...</td>\n",
       "      <td>[{'activitat': '2', 'estatMental': '1', 'humit...</td>\n",
       "      <td>[]</td>\n",
       "      <td>[{'valor': '75', 'data': '2022-01-11'}, {'valo...</td>\n",
       "      <td>[{'codi': 'C10AA', 'dataInici': '2021-12-23 00...</td>\n",
       "      <td>[{'data': '20220119101523', 'disfagia': 'N', '...</td>\n",
       "      <td>...</td>\n",
       "      <td>9.0</td>\n",
       "      <td>9.0</td>\n",
       "      <td>0.0</td>\n",
       "      <td>74.350000</td>\n",
       "      <td>NaN</td>\n",
       "      <td>0.0</td>\n",
       "      <td>0.0</td>\n",
       "      <td>0.0</td>\n",
       "      <td>LIQUID</td>\n",
       "      <td>BAIX</td>\n",
       "    </tr>\n",
       "    <tr>\n",
       "      <th>32</th>\n",
       "      <td>81</td>\n",
       "      <td>M</td>\n",
       "      <td>0</td>\n",
       "      <td>[]</td>\n",
       "      <td>[]</td>\n",
       "      <td>[{'activitat': '2', 'estatMental': '1', 'humit...</td>\n",
       "      <td>[]</td>\n",
       "      <td>[]</td>\n",
       "      <td>[{'codi': 'C10AA', 'dataInici': '2020-12-23 00...</td>\n",
       "      <td>[]</td>\n",
       "      <td>...</td>\n",
       "      <td>8.0</td>\n",
       "      <td>8.0</td>\n",
       "      <td>None</td>\n",
       "      <td>NaN</td>\n",
       "      <td>NaN</td>\n",
       "      <td>NaN</td>\n",
       "      <td>NaN</td>\n",
       "      <td>NaN</td>\n",
       "      <td>None</td>\n",
       "      <td>None</td>\n",
       "    </tr>\n",
       "    <tr>\n",
       "      <th>34</th>\n",
       "      <td>96</td>\n",
       "      <td>F</td>\n",
       "      <td>0</td>\n",
       "      <td>[]</td>\n",
       "      <td>[{'imc': '', 'anorexia': '', 'perduaPes': '', ...</td>\n",
       "      <td>[{'activitat': '1', 'estatMental': '1', 'humit...</td>\n",
       "      <td>[]</td>\n",
       "      <td>[{'valor': '51.5', 'data': '2021-01-14'}]</td>\n",
       "      <td>[{'codi': 'N02AA', 'dataInici': '2021-01-01 00...</td>\n",
       "      <td>[]</td>\n",
       "      <td>...</td>\n",
       "      <td>6.0</td>\n",
       "      <td>6.0</td>\n",
       "      <td>0.0</td>\n",
       "      <td>51.500000</td>\n",
       "      <td>NaN</td>\n",
       "      <td>NaN</td>\n",
       "      <td>NaN</td>\n",
       "      <td>NaN</td>\n",
       "      <td>None</td>\n",
       "      <td>None</td>\n",
       "    </tr>\n",
       "    <tr>\n",
       "      <th>37</th>\n",
       "      <td>86</td>\n",
       "      <td>M</td>\n",
       "      <td>0</td>\n",
       "      <td>[{'date': '20221003', 'name': 'GLUCOSA Sèrum',...</td>\n",
       "      <td>[{'imc': '', 'anorexia': '', 'perduaPes': '', ...</td>\n",
       "      <td>[{'activitat': '2', 'estatMental': '1', 'humit...</td>\n",
       "      <td>[]</td>\n",
       "      <td>[{'valor': '72', 'data': '2022-10-09'}]</td>\n",
       "      <td>[{'codi': 'G04CA', 'dataInici': '2022-09-26 00...</td>\n",
       "      <td>[{'data': '20221012122425', 'disfagia': 'S', '...</td>\n",
       "      <td>...</td>\n",
       "      <td>9.0</td>\n",
       "      <td>9.0</td>\n",
       "      <td>0.0</td>\n",
       "      <td>72.000000</td>\n",
       "      <td>NaN</td>\n",
       "      <td>1.0</td>\n",
       "      <td>0.0</td>\n",
       "      <td>1.0</td>\n",
       "      <td>NECTAR</td>\n",
       "      <td>MIG</td>\n",
       "    </tr>\n",
       "    <tr>\n",
       "      <th>38</th>\n",
       "      <td>90</td>\n",
       "      <td>M</td>\n",
       "      <td>0</td>\n",
       "      <td>[{'date': '20220809', 'name': 'GLUCOSA Sèrum',...</td>\n",
       "      <td>[]</td>\n",
       "      <td>[{'activitat': '3', 'estatMental': '0', 'humit...</td>\n",
       "      <td>[]</td>\n",
       "      <td>[]</td>\n",
       "      <td>[{'codi': 'N02BE', 'dataInici': '2022-10-27 00...</td>\n",
       "      <td>[{'data': '20221031103922', 'pacientNoColabora...</td>\n",
       "      <td>...</td>\n",
       "      <td>9.0</td>\n",
       "      <td>9.0</td>\n",
       "      <td>None</td>\n",
       "      <td>NaN</td>\n",
       "      <td>NaN</td>\n",
       "      <td>NaN</td>\n",
       "      <td>NaN</td>\n",
       "      <td>NaN</td>\n",
       "      <td>None</td>\n",
       "      <td>None</td>\n",
       "    </tr>\n",
       "    <tr>\n",
       "      <th>39</th>\n",
       "      <td>87</td>\n",
       "      <td>F</td>\n",
       "      <td>0</td>\n",
       "      <td>[{'date': '20230619', 'name': 'GLUCOSA Sèrum',...</td>\n",
       "      <td>[]</td>\n",
       "      <td>[{'activitat': '1', 'estatMental': '0', 'humit...</td>\n",
       "      <td>[]</td>\n",
       "      <td>[]</td>\n",
       "      <td>[{'codi': 'N02BE', 'dataInici': '2021-01-17 00...</td>\n",
       "      <td>[{'data': '20220111085147', 'disfagia': 'S', '...</td>\n",
       "      <td>...</td>\n",
       "      <td>4.0</td>\n",
       "      <td>4.0</td>\n",
       "      <td>None</td>\n",
       "      <td>NaN</td>\n",
       "      <td>NaN</td>\n",
       "      <td>1.0</td>\n",
       "      <td>1.0</td>\n",
       "      <td>0.0</td>\n",
       "      <td>LIQUID</td>\n",
       "      <td>MIG</td>\n",
       "    </tr>\n",
       "    <tr>\n",
       "      <th>45</th>\n",
       "      <td>85</td>\n",
       "      <td>M</td>\n",
       "      <td>0</td>\n",
       "      <td>[{'date': '20220330', 'name': 'GLUCOSA Sèrum',...</td>\n",
       "      <td>[{'imc': '', 'anorexia': '', 'perduaPes': '', ...</td>\n",
       "      <td>[{'activitat': '3', 'estatMental': '1', 'humit...</td>\n",
       "      <td>[]</td>\n",
       "      <td>[{'valor': '0', 'data': '2023-04-28'}]</td>\n",
       "      <td>[{'codi': 'G04CA', 'dataInici': '2021-03-21 00...</td>\n",
       "      <td>[{'data': '20210323123919', 'disfagia': 'S', '...</td>\n",
       "      <td>...</td>\n",
       "      <td>11.0</td>\n",
       "      <td>11.0</td>\n",
       "      <td>0.0</td>\n",
       "      <td>0.000000</td>\n",
       "      <td>NaN</td>\n",
       "      <td>1.0</td>\n",
       "      <td>1.0</td>\n",
       "      <td>1.0</td>\n",
       "      <td>PUDING</td>\n",
       "      <td>BAIX</td>\n",
       "    </tr>\n",
       "  </tbody>\n",
       "</table>\n",
       "<p>17 rows × 33 columns</p>\n",
       "</div>"
      ]
     },
     "execution_count": 170,
     "metadata": {},
     "output_type": "execute_result"
    }
   ],
   "execution_count": 170
  },
  {
   "cell_type": "markdown",
   "source": [
    "# CON_PA + MECVV"
   ],
   "metadata": {
    "collapsed": false
   },
   "id": "bbfe0def10a4bd5"
  },
  {
   "cell_type": "code",
   "source": [
    "CON_PA_MECVV = tabla[(tabla[\"P_diagnosticada\"] == 1.0) & (tabla[\"Disfagia_mecvvs\"] == 1.0) & (tabla[\"Dias_totales_ingresado\"] < 30)]\n",
    "CON_PA_MECVV.head(len(tabla))"
   ],
   "metadata": {
    "collapsed": false,
    "ExecuteTime": {
     "end_time": "2024-04-12T09:12:35.515535Z",
     "start_time": "2024-04-12T09:12:35.215680Z"
    }
   },
   "id": "ef57e551b552b859",
   "outputs": [
    {
     "data": {
      "text/plain": [
       "    edat sexe  visitaDietista  \\\n",
       "3     85    M               0   \n",
       "6    101    F               0   \n",
       "12    86    M               0   \n",
       "13    71    F               0   \n",
       "27   100    M               0   \n",
       "37    86    M               0   \n",
       "39    87    F               0   \n",
       "41    93    F               0   \n",
       "46    86    M               0   \n",
       "47    94    M               0   \n",
       "\n",
       "                                                 labs  \\\n",
       "3                                                  []   \n",
       "6                                                  []   \n",
       "12                                                 []   \n",
       "13  [{'date': '20220216', 'name': 'CULTIU Esput', ...   \n",
       "27                                                 []   \n",
       "37  [{'date': '20221003', 'name': 'GLUCOSA Sèrum',...   \n",
       "39  [{'date': '20230619', 'name': 'GLUCOSA Sèrum',...   \n",
       "41  [{'date': '20221013', 'name': 'GLUCOSA Sèrum',...   \n",
       "46                                                 []   \n",
       "47                                                 []   \n",
       "\n",
       "                                                  mna  \\\n",
       "3                                                  []   \n",
       "6                                                  []   \n",
       "12                                                 []   \n",
       "13                                                 []   \n",
       "27                                                 []   \n",
       "37  [{'imc': '', 'anorexia': '', 'perduaPes': '', ...   \n",
       "39                                                 []   \n",
       "41                                                 []   \n",
       "46                                                 []   \n",
       "47                                                 []   \n",
       "\n",
       "                                                emina  \\\n",
       "3   [{'activitat': '2', 'estatMental': '1', 'humit...   \n",
       "6   [{'activitat': '3', 'estatMental': '1', 'humit...   \n",
       "12  [{'activitat': '1', 'estatMental': '1', 'humit...   \n",
       "13  [{'activitat': '3', 'estatMental': '0', 'humit...   \n",
       "27  [{'activitat': '3', 'estatMental': '0', 'humit...   \n",
       "37  [{'activitat': '2', 'estatMental': '1', 'humit...   \n",
       "39  [{'activitat': '1', 'estatMental': '0', 'humit...   \n",
       "41  [{'activitat': '1', 'estatMental': '1', 'humit...   \n",
       "46  [{'activitat': '3', 'estatMental': '1', 'humit...   \n",
       "47  [{'activitat': '3', 'estatMental': '1', 'humit...   \n",
       "\n",
       "                                            canadenca  \\\n",
       "3                                                  []   \n",
       "6                                                  []   \n",
       "12                                                 []   \n",
       "13  [{'dataValoracio': '2020-09-06', 'horaValoraci...   \n",
       "27                                                 []   \n",
       "37                                                 []   \n",
       "39                                                 []   \n",
       "41                                                 []   \n",
       "46                                                 []   \n",
       "47                                                 []   \n",
       "\n",
       "                                                  pes  \\\n",
       "3                                                  []   \n",
       "6                                                  []   \n",
       "12          [{'valor': '46.4', 'data': '2020-09-09'}]   \n",
       "13                                                 []   \n",
       "27  [{'valor': '0', 'data': '2021-09-14'}, {'valor...   \n",
       "37            [{'valor': '72', 'data': '2022-10-09'}]   \n",
       "39                                                 []   \n",
       "41  [{'valor': '0', 'data': '2023-06-02'}, {'valor...   \n",
       "46          [{'valor': '55.1', 'data': '2021-03-21'}]   \n",
       "47                                                 []   \n",
       "\n",
       "                                                 atcs  \\\n",
       "3   [{'codi': 'G04CA', 'dataInici': '2020-07-15 00...   \n",
       "6   [{'codi': 'C09AA', 'dataInici': '2021-08-21 00...   \n",
       "12  [{'codi': 'G04CA', 'dataInici': '2020-09-04 00...   \n",
       "13  [{'codi': 'C10AA', 'dataInici': '2020-09-06 00...   \n",
       "27  [{'codi': 'C08CA', 'dataInici': '2020-11-23 00...   \n",
       "37  [{'codi': 'G04CA', 'dataInici': '2022-09-26 00...   \n",
       "39  [{'codi': 'N02BE', 'dataInici': '2021-01-17 00...   \n",
       "41  [{'codi': 'C10AA', 'dataInici': '2021-02-05 00...   \n",
       "46  [{'codi': 'G04CA', 'dataInici': '2021-03-20 00...   \n",
       "47  [{'codi': 'C09AA', 'dataInici': '2021-03-23 00...   \n",
       "\n",
       "                                               mecvvs  ...  \\\n",
       "3   [{'data': '20201204131810', 'disfagia': 'S', '...  ...   \n",
       "6   [{'data': '20210819124116', 'disfagia': 'S', '...  ...   \n",
       "12  [{'data': '20200907110400', 'disfagia': 'S', '...  ...   \n",
       "13  [{'data': '20200906175506', 'disfagia': 'N', '...  ...   \n",
       "27  [{'data': '20201125131827', 'disfagia': 'S', '...  ...   \n",
       "37  [{'data': '20221012122425', 'disfagia': 'S', '...  ...   \n",
       "39  [{'data': '20220111085147', 'disfagia': 'S', '...  ...   \n",
       "41  [{'data': '20230530155654', 'disfagia': 'S', '...  ...   \n",
       "46  [{'data': '20210721140136', 'disfagia': 'S', '...  ...   \n",
       "47  [{'data': '20210325091551', 'disfagia': 'S', '...  ...   \n",
       "\n",
       "   EMINA_sumatorios_comparados emina_resultats  mna_resultats  promedio_pes  \\\n",
       "3                          8.0             8.0           None           NaN   \n",
       "6                          9.0             9.0           None           NaN   \n",
       "12                         7.0             7.0           None         46.40   \n",
       "13                         6.0             6.0           None           NaN   \n",
       "27                         9.0             9.0           None         20.55   \n",
       "37                         9.0             9.0            0.0         72.00   \n",
       "39                         4.0             4.0           None           NaN   \n",
       "41                         5.0             5.0           None         30.00   \n",
       "46                        10.0            10.0           None         55.10   \n",
       "47                         9.0             9.0           None           NaN   \n",
       "\n",
       "    Canadenca_sumatorios_comparados  Disfagia_mecvvs  \\\n",
       "3                               NaN              1.0   \n",
       "6                               NaN              1.0   \n",
       "12                              NaN              1.0   \n",
       "13                              7.0              1.0   \n",
       "27                              NaN              1.0   \n",
       "37                              NaN              1.0   \n",
       "39                              NaN              1.0   \n",
       "41                              NaN              1.0   \n",
       "46                              NaN              1.0   \n",
       "47                              NaN              1.0   \n",
       "\n",
       "    alteracioEficacia_mecvvs  alteracioSeguretat_mecvvs  viscositat_mecvvs  \\\n",
       "3                        1.0                        1.0             NECTAR   \n",
       "6                        1.0                        0.0             LIQUID   \n",
       "12                       1.0                        1.0             NECTAR   \n",
       "13                       1.0                        1.0             PUDING   \n",
       "27                       1.0                        0.0             LIQUID   \n",
       "37                       0.0                        1.0             NECTAR   \n",
       "39                       1.0                        0.0             LIQUID   \n",
       "41                       0.0                        1.0             LIQUID   \n",
       "46                       1.0                        1.0             PUDING   \n",
       "47                       0.0                        1.0             LIQUID   \n",
       "\n",
       "    volumn_mecvvs  \n",
       "3             ALT  \n",
       "6            BAIX  \n",
       "12            MIG  \n",
       "13            MIG  \n",
       "27           BAIX  \n",
       "37            MIG  \n",
       "39            MIG  \n",
       "41           BAIX  \n",
       "46            MIG  \n",
       "47           BAIX  \n",
       "\n",
       "[10 rows x 33 columns]"
      ],
      "text/html": [
       "<div>\n",
       "<style scoped>\n",
       "    .dataframe tbody tr th:only-of-type {\n",
       "        vertical-align: middle;\n",
       "    }\n",
       "\n",
       "    .dataframe tbody tr th {\n",
       "        vertical-align: top;\n",
       "    }\n",
       "\n",
       "    .dataframe thead th {\n",
       "        text-align: right;\n",
       "    }\n",
       "</style>\n",
       "<table border=\"1\" class=\"dataframe\">\n",
       "  <thead>\n",
       "    <tr style=\"text-align: right;\">\n",
       "      <th></th>\n",
       "      <th>edat</th>\n",
       "      <th>sexe</th>\n",
       "      <th>visitaDietista</th>\n",
       "      <th>labs</th>\n",
       "      <th>mna</th>\n",
       "      <th>emina</th>\n",
       "      <th>canadenca</th>\n",
       "      <th>pes</th>\n",
       "      <th>atcs</th>\n",
       "      <th>mecvvs</th>\n",
       "      <th>...</th>\n",
       "      <th>EMINA_sumatorios_comparados</th>\n",
       "      <th>emina_resultats</th>\n",
       "      <th>mna_resultats</th>\n",
       "      <th>promedio_pes</th>\n",
       "      <th>Canadenca_sumatorios_comparados</th>\n",
       "      <th>Disfagia_mecvvs</th>\n",
       "      <th>alteracioEficacia_mecvvs</th>\n",
       "      <th>alteracioSeguretat_mecvvs</th>\n",
       "      <th>viscositat_mecvvs</th>\n",
       "      <th>volumn_mecvvs</th>\n",
       "    </tr>\n",
       "  </thead>\n",
       "  <tbody>\n",
       "    <tr>\n",
       "      <th>3</th>\n",
       "      <td>85</td>\n",
       "      <td>M</td>\n",
       "      <td>0</td>\n",
       "      <td>[]</td>\n",
       "      <td>[]</td>\n",
       "      <td>[{'activitat': '2', 'estatMental': '1', 'humit...</td>\n",
       "      <td>[]</td>\n",
       "      <td>[]</td>\n",
       "      <td>[{'codi': 'G04CA', 'dataInici': '2020-07-15 00...</td>\n",
       "      <td>[{'data': '20201204131810', 'disfagia': 'S', '...</td>\n",
       "      <td>...</td>\n",
       "      <td>8.0</td>\n",
       "      <td>8.0</td>\n",
       "      <td>None</td>\n",
       "      <td>NaN</td>\n",
       "      <td>NaN</td>\n",
       "      <td>1.0</td>\n",
       "      <td>1.0</td>\n",
       "      <td>1.0</td>\n",
       "      <td>NECTAR</td>\n",
       "      <td>ALT</td>\n",
       "    </tr>\n",
       "    <tr>\n",
       "      <th>6</th>\n",
       "      <td>101</td>\n",
       "      <td>F</td>\n",
       "      <td>0</td>\n",
       "      <td>[]</td>\n",
       "      <td>[]</td>\n",
       "      <td>[{'activitat': '3', 'estatMental': '1', 'humit...</td>\n",
       "      <td>[]</td>\n",
       "      <td>[]</td>\n",
       "      <td>[{'codi': 'C09AA', 'dataInici': '2021-08-21 00...</td>\n",
       "      <td>[{'data': '20210819124116', 'disfagia': 'S', '...</td>\n",
       "      <td>...</td>\n",
       "      <td>9.0</td>\n",
       "      <td>9.0</td>\n",
       "      <td>None</td>\n",
       "      <td>NaN</td>\n",
       "      <td>NaN</td>\n",
       "      <td>1.0</td>\n",
       "      <td>1.0</td>\n",
       "      <td>0.0</td>\n",
       "      <td>LIQUID</td>\n",
       "      <td>BAIX</td>\n",
       "    </tr>\n",
       "    <tr>\n",
       "      <th>12</th>\n",
       "      <td>86</td>\n",
       "      <td>M</td>\n",
       "      <td>0</td>\n",
       "      <td>[]</td>\n",
       "      <td>[]</td>\n",
       "      <td>[{'activitat': '1', 'estatMental': '1', 'humit...</td>\n",
       "      <td>[]</td>\n",
       "      <td>[{'valor': '46.4', 'data': '2020-09-09'}]</td>\n",
       "      <td>[{'codi': 'G04CA', 'dataInici': '2020-09-04 00...</td>\n",
       "      <td>[{'data': '20200907110400', 'disfagia': 'S', '...</td>\n",
       "      <td>...</td>\n",
       "      <td>7.0</td>\n",
       "      <td>7.0</td>\n",
       "      <td>None</td>\n",
       "      <td>46.40</td>\n",
       "      <td>NaN</td>\n",
       "      <td>1.0</td>\n",
       "      <td>1.0</td>\n",
       "      <td>1.0</td>\n",
       "      <td>NECTAR</td>\n",
       "      <td>MIG</td>\n",
       "    </tr>\n",
       "    <tr>\n",
       "      <th>13</th>\n",
       "      <td>71</td>\n",
       "      <td>F</td>\n",
       "      <td>0</td>\n",
       "      <td>[{'date': '20220216', 'name': 'CULTIU Esput', ...</td>\n",
       "      <td>[]</td>\n",
       "      <td>[{'activitat': '3', 'estatMental': '0', 'humit...</td>\n",
       "      <td>[{'dataValoracio': '2020-09-06', 'horaValoraci...</td>\n",
       "      <td>[]</td>\n",
       "      <td>[{'codi': 'C10AA', 'dataInici': '2020-09-06 00...</td>\n",
       "      <td>[{'data': '20200906175506', 'disfagia': 'N', '...</td>\n",
       "      <td>...</td>\n",
       "      <td>6.0</td>\n",
       "      <td>6.0</td>\n",
       "      <td>None</td>\n",
       "      <td>NaN</td>\n",
       "      <td>7.0</td>\n",
       "      <td>1.0</td>\n",
       "      <td>1.0</td>\n",
       "      <td>1.0</td>\n",
       "      <td>PUDING</td>\n",
       "      <td>MIG</td>\n",
       "    </tr>\n",
       "    <tr>\n",
       "      <th>27</th>\n",
       "      <td>100</td>\n",
       "      <td>M</td>\n",
       "      <td>0</td>\n",
       "      <td>[]</td>\n",
       "      <td>[]</td>\n",
       "      <td>[{'activitat': '3', 'estatMental': '0', 'humit...</td>\n",
       "      <td>[]</td>\n",
       "      <td>[{'valor': '0', 'data': '2021-09-14'}, {'valor...</td>\n",
       "      <td>[{'codi': 'C08CA', 'dataInici': '2020-11-23 00...</td>\n",
       "      <td>[{'data': '20201125131827', 'disfagia': 'S', '...</td>\n",
       "      <td>...</td>\n",
       "      <td>9.0</td>\n",
       "      <td>9.0</td>\n",
       "      <td>None</td>\n",
       "      <td>20.55</td>\n",
       "      <td>NaN</td>\n",
       "      <td>1.0</td>\n",
       "      <td>1.0</td>\n",
       "      <td>0.0</td>\n",
       "      <td>LIQUID</td>\n",
       "      <td>BAIX</td>\n",
       "    </tr>\n",
       "    <tr>\n",
       "      <th>37</th>\n",
       "      <td>86</td>\n",
       "      <td>M</td>\n",
       "      <td>0</td>\n",
       "      <td>[{'date': '20221003', 'name': 'GLUCOSA Sèrum',...</td>\n",
       "      <td>[{'imc': '', 'anorexia': '', 'perduaPes': '', ...</td>\n",
       "      <td>[{'activitat': '2', 'estatMental': '1', 'humit...</td>\n",
       "      <td>[]</td>\n",
       "      <td>[{'valor': '72', 'data': '2022-10-09'}]</td>\n",
       "      <td>[{'codi': 'G04CA', 'dataInici': '2022-09-26 00...</td>\n",
       "      <td>[{'data': '20221012122425', 'disfagia': 'S', '...</td>\n",
       "      <td>...</td>\n",
       "      <td>9.0</td>\n",
       "      <td>9.0</td>\n",
       "      <td>0.0</td>\n",
       "      <td>72.00</td>\n",
       "      <td>NaN</td>\n",
       "      <td>1.0</td>\n",
       "      <td>0.0</td>\n",
       "      <td>1.0</td>\n",
       "      <td>NECTAR</td>\n",
       "      <td>MIG</td>\n",
       "    </tr>\n",
       "    <tr>\n",
       "      <th>39</th>\n",
       "      <td>87</td>\n",
       "      <td>F</td>\n",
       "      <td>0</td>\n",
       "      <td>[{'date': '20230619', 'name': 'GLUCOSA Sèrum',...</td>\n",
       "      <td>[]</td>\n",
       "      <td>[{'activitat': '1', 'estatMental': '0', 'humit...</td>\n",
       "      <td>[]</td>\n",
       "      <td>[]</td>\n",
       "      <td>[{'codi': 'N02BE', 'dataInici': '2021-01-17 00...</td>\n",
       "      <td>[{'data': '20220111085147', 'disfagia': 'S', '...</td>\n",
       "      <td>...</td>\n",
       "      <td>4.0</td>\n",
       "      <td>4.0</td>\n",
       "      <td>None</td>\n",
       "      <td>NaN</td>\n",
       "      <td>NaN</td>\n",
       "      <td>1.0</td>\n",
       "      <td>1.0</td>\n",
       "      <td>0.0</td>\n",
       "      <td>LIQUID</td>\n",
       "      <td>MIG</td>\n",
       "    </tr>\n",
       "    <tr>\n",
       "      <th>41</th>\n",
       "      <td>93</td>\n",
       "      <td>F</td>\n",
       "      <td>0</td>\n",
       "      <td>[{'date': '20221013', 'name': 'GLUCOSA Sèrum',...</td>\n",
       "      <td>[]</td>\n",
       "      <td>[{'activitat': '1', 'estatMental': '1', 'humit...</td>\n",
       "      <td>[]</td>\n",
       "      <td>[{'valor': '0', 'data': '2023-06-02'}, {'valor...</td>\n",
       "      <td>[{'codi': 'C10AA', 'dataInici': '2021-02-05 00...</td>\n",
       "      <td>[{'data': '20230530155654', 'disfagia': 'S', '...</td>\n",
       "      <td>...</td>\n",
       "      <td>5.0</td>\n",
       "      <td>5.0</td>\n",
       "      <td>None</td>\n",
       "      <td>30.00</td>\n",
       "      <td>NaN</td>\n",
       "      <td>1.0</td>\n",
       "      <td>0.0</td>\n",
       "      <td>1.0</td>\n",
       "      <td>LIQUID</td>\n",
       "      <td>BAIX</td>\n",
       "    </tr>\n",
       "    <tr>\n",
       "      <th>46</th>\n",
       "      <td>86</td>\n",
       "      <td>M</td>\n",
       "      <td>0</td>\n",
       "      <td>[]</td>\n",
       "      <td>[]</td>\n",
       "      <td>[{'activitat': '3', 'estatMental': '1', 'humit...</td>\n",
       "      <td>[]</td>\n",
       "      <td>[{'valor': '55.1', 'data': '2021-03-21'}]</td>\n",
       "      <td>[{'codi': 'G04CA', 'dataInici': '2021-03-20 00...</td>\n",
       "      <td>[{'data': '20210721140136', 'disfagia': 'S', '...</td>\n",
       "      <td>...</td>\n",
       "      <td>10.0</td>\n",
       "      <td>10.0</td>\n",
       "      <td>None</td>\n",
       "      <td>55.10</td>\n",
       "      <td>NaN</td>\n",
       "      <td>1.0</td>\n",
       "      <td>1.0</td>\n",
       "      <td>1.0</td>\n",
       "      <td>PUDING</td>\n",
       "      <td>MIG</td>\n",
       "    </tr>\n",
       "    <tr>\n",
       "      <th>47</th>\n",
       "      <td>94</td>\n",
       "      <td>M</td>\n",
       "      <td>0</td>\n",
       "      <td>[]</td>\n",
       "      <td>[]</td>\n",
       "      <td>[{'activitat': '3', 'estatMental': '1', 'humit...</td>\n",
       "      <td>[]</td>\n",
       "      <td>[]</td>\n",
       "      <td>[{'codi': 'C09AA', 'dataInici': '2021-03-23 00...</td>\n",
       "      <td>[{'data': '20210325091551', 'disfagia': 'S', '...</td>\n",
       "      <td>...</td>\n",
       "      <td>9.0</td>\n",
       "      <td>9.0</td>\n",
       "      <td>None</td>\n",
       "      <td>NaN</td>\n",
       "      <td>NaN</td>\n",
       "      <td>1.0</td>\n",
       "      <td>0.0</td>\n",
       "      <td>1.0</td>\n",
       "      <td>LIQUID</td>\n",
       "      <td>BAIX</td>\n",
       "    </tr>\n",
       "  </tbody>\n",
       "</table>\n",
       "<p>10 rows × 33 columns</p>\n",
       "</div>"
      ]
     },
     "execution_count": 171,
     "metadata": {},
     "output_type": "execute_result"
    }
   ],
   "execution_count": 171
  },
  {
   "cell_type": "markdown",
   "source": [
    "# SIN_PA"
   ],
   "metadata": {
    "collapsed": false
   },
   "id": "a348d05c32ba63b8"
  },
  {
   "cell_type": "code",
   "source": [
    "SIN_PA = tabla[(tabla[\"P_diagnosticada\"] == 1.0) & (tabla[\"Disfagia_mecvvs\"] == 1.0) & (tabla[\"Dias_totales_ingresado\"] > 30) | (tabla[\"P_diagnosticada\"] == 1.0)]\n",
    "SIN_PA.head(len(tabla))"
   ],
   "metadata": {
    "collapsed": false,
    "ExecuteTime": {
     "end_time": "2024-04-12T09:12:37.644458Z",
     "start_time": "2024-04-12T09:12:35.515535Z"
    }
   },
   "id": "ebd6be70713adb40",
   "outputs": [
    {
     "data": {
      "text/plain": [
       "    edat sexe  visitaDietista  \\\n",
       "0     89    F               0   \n",
       "1     70    M               0   \n",
       "2     96    M               0   \n",
       "3     85    M               0   \n",
       "4     93    M               0   \n",
       "5     57    M               0   \n",
       "6    101    F               0   \n",
       "7     90    F               0   \n",
       "8     90    F               0   \n",
       "9     91    M               0   \n",
       "10    84    F               0   \n",
       "11    58    M               0   \n",
       "12    86    M               0   \n",
       "13    71    F               0   \n",
       "14    61    M               0   \n",
       "15    75    M               0   \n",
       "16    79    M               0   \n",
       "17    58    M               0   \n",
       "18    64    M               0   \n",
       "19    85    M               0   \n",
       "20    85    M               0   \n",
       "21    29    M               0   \n",
       "22    48    M               0   \n",
       "23    67    M               0   \n",
       "24    71    M               0   \n",
       "25    83    F               0   \n",
       "26    97    F               0   \n",
       "27   100    M               0   \n",
       "28    95    F               0   \n",
       "29    97    F               0   \n",
       "30    83    F               0   \n",
       "31    89    M               0   \n",
       "32    81    M               0   \n",
       "33    21    F               0   \n",
       "34    96    F               0   \n",
       "35    77    M               0   \n",
       "36    70    M               0   \n",
       "37    86    M               0   \n",
       "38    90    M               0   \n",
       "39    87    F               0   \n",
       "40    96    M               0   \n",
       "41    93    F               0   \n",
       "42    91    M               0   \n",
       "44    83    F               0   \n",
       "45    85    M               0   \n",
       "46    86    M               0   \n",
       "47    94    M               0   \n",
       "48    90    M               0   \n",
       "49    73    F               0   \n",
       "\n",
       "                                                 labs  \\\n",
       "0                                                  []   \n",
       "1   [{'date': '20220524', 'name': 'PCR SARS-CoV2 S...   \n",
       "2                                                  []   \n",
       "3                                                  []   \n",
       "4   [{'date': '20220208', 'name': 'UREA Sèrum', 'l...   \n",
       "5   [{'date': '20220909', 'name': 'GLUCOSA Sèrum',...   \n",
       "6                                                  []   \n",
       "7   [{'date': '20220627', 'name': 'GLUCOSA Sèrum',...   \n",
       "8   [{'date': '20220827', 'name': 'GLUCOSA Sèrum',...   \n",
       "9                                                  []   \n",
       "10                                                 []   \n",
       "11                                                 []   \n",
       "12                                                 []   \n",
       "13  [{'date': '20220216', 'name': 'CULTIU Esput', ...   \n",
       "14                                                 []   \n",
       "15                                                 []   \n",
       "16                                                 []   \n",
       "17  [{'date': '20230119', 'name': 'pH/arterial', '...   \n",
       "18  [{'date': '20220217', 'name': 'EXTRACCIÓ RNA',...   \n",
       "19  [{'date': '20230130', 'name': 'pH/arterial', '...   \n",
       "20  [{'date': '20230409', 'name': 'CULTIU Esput', ...   \n",
       "21                                                 []   \n",
       "22                                                 []   \n",
       "23                                                 []   \n",
       "24  [{'date': '20220506', 'name': 'GLUCOSA Sèrum',...   \n",
       "25  [{'date': '20220308', 'name': 'UREA Sèrum', 'l...   \n",
       "26  [{'date': '20220419', 'name': 'GLUCOSA Sèrum',...   \n",
       "27                                                 []   \n",
       "28  [{'date': '20220526', 'name': 'GLUCOSA Sèrum',...   \n",
       "29                                                 []   \n",
       "30                                                 []   \n",
       "31  [{'date': '20220318', 'name': 'BILIRUBINA TOTA...   \n",
       "32                                                 []   \n",
       "33                                                 []   \n",
       "34                                                 []   \n",
       "35                                                 []   \n",
       "36  [{'date': '20220309', 'name': 'GLUCOSA Sèrum',...   \n",
       "37  [{'date': '20221003', 'name': 'GLUCOSA Sèrum',...   \n",
       "38  [{'date': '20220809', 'name': 'GLUCOSA Sèrum',...   \n",
       "39  [{'date': '20230619', 'name': 'GLUCOSA Sèrum',...   \n",
       "40  [{'date': '20220319', 'name': 'GLUCOSA Sèrum',...   \n",
       "41  [{'date': '20221013', 'name': 'GLUCOSA Sèrum',...   \n",
       "42                                                 []   \n",
       "44  [{'date': '20230508', 'name': 'GLUCOSA Sèrum',...   \n",
       "45  [{'date': '20220330', 'name': 'GLUCOSA Sèrum',...   \n",
       "46                                                 []   \n",
       "47                                                 []   \n",
       "48  [{'date': '20220303', 'name': 'GLUCOSA Sèrum',...   \n",
       "49  [{'date': '20220307', 'name': 'pH/arterial', '...   \n",
       "\n",
       "                                                  mna  \\\n",
       "0                                                  []   \n",
       "1                                                  []   \n",
       "2                                                  []   \n",
       "3                                                  []   \n",
       "4   [{'imc': '0', 'anorexia': '1', 'perduaPes': '1...   \n",
       "5                                                  []   \n",
       "6                                                  []   \n",
       "7   [{'imc': '0', 'anorexia': '0', 'perduaPes': '1...   \n",
       "8                                                  []   \n",
       "9                                                  []   \n",
       "10                                                 []   \n",
       "11                                                 []   \n",
       "12                                                 []   \n",
       "13                                                 []   \n",
       "14                                                 []   \n",
       "15                                                 []   \n",
       "16                                                 []   \n",
       "17                                                 []   \n",
       "18                                                 []   \n",
       "19                                                 []   \n",
       "20                                                 []   \n",
       "21                                                 []   \n",
       "22                                                 []   \n",
       "23                                                 []   \n",
       "24                                                 []   \n",
       "25  [{'imc': '', 'anorexia': '', 'perduaPes': '', ...   \n",
       "26                                                 []   \n",
       "27                                                 []   \n",
       "28                                                 []   \n",
       "29                                                 []   \n",
       "30  [{'imc': '', 'anorexia': '2', 'perduaPes': '3'...   \n",
       "31  [{'imc': '', 'anorexia': '', 'perduaPes': '', ...   \n",
       "32                                                 []   \n",
       "33                                                 []   \n",
       "34  [{'imc': '', 'anorexia': '', 'perduaPes': '', ...   \n",
       "35                                                 []   \n",
       "36                                                 []   \n",
       "37  [{'imc': '', 'anorexia': '', 'perduaPes': '', ...   \n",
       "38                                                 []   \n",
       "39                                                 []   \n",
       "40                                                 []   \n",
       "41                                                 []   \n",
       "42  [{'imc': '', 'anorexia': '', 'perduaPes': '', ...   \n",
       "44                                                 []   \n",
       "45  [{'imc': '', 'anorexia': '', 'perduaPes': '', ...   \n",
       "46                                                 []   \n",
       "47                                                 []   \n",
       "48                                                 []   \n",
       "49  [{'imc': '3', 'anorexia': '1', 'perduaPes': '1...   \n",
       "\n",
       "                                                emina  \\\n",
       "0   [{'activitat': '2', 'estatMental': '1', 'humit...   \n",
       "1   [{'activitat': '0', 'estatMental': '0', 'humit...   \n",
       "2   [{'activitat': '3', 'estatMental': '0', 'humit...   \n",
       "3   [{'activitat': '2', 'estatMental': '1', 'humit...   \n",
       "4   [{'activitat': '2', 'estatMental': '1', 'humit...   \n",
       "5   [{'activitat': '1', 'estatMental': '0', 'humit...   \n",
       "6   [{'activitat': '3', 'estatMental': '1', 'humit...   \n",
       "7   [{'activitat': '3', 'estatMental': '1', 'humit...   \n",
       "8   [{'activitat': '3', 'estatMental': '0', 'humit...   \n",
       "9   [{'activitat': '1', 'estatMental': '1', 'humit...   \n",
       "10  [{'activitat': '0', 'estatMental': '0', 'humit...   \n",
       "11  [{'activitat': '0', 'estatMental': '0', 'humit...   \n",
       "12  [{'activitat': '1', 'estatMental': '1', 'humit...   \n",
       "13  [{'activitat': '3', 'estatMental': '0', 'humit...   \n",
       "14  [{'activitat': '2', 'estatMental': '0', 'humit...   \n",
       "15  [{'activitat': '3', 'estatMental': '2', 'humit...   \n",
       "16  [{'activitat': '0', 'estatMental': '0', 'humit...   \n",
       "17  [{'activitat': '0', 'estatMental': '0', 'humit...   \n",
       "18  [{'activitat': '0', 'estatMental': '0', 'humit...   \n",
       "19  [{'activitat': '1', 'estatMental': '0', 'humit...   \n",
       "20  [{'activitat': '0', 'estatMental': '0', 'humit...   \n",
       "21  [{'activitat': '0', 'estatMental': '0', 'humit...   \n",
       "22  [{'activitat': '1', 'estatMental': '0', 'humit...   \n",
       "23  [{'activitat': '0', 'estatMental': '0', 'humit...   \n",
       "24  [{'activitat': '1', 'estatMental': '1', 'humit...   \n",
       "25  [{'activitat': '0', 'estatMental': '1', 'humit...   \n",
       "26  [{'activitat': '1', 'estatMental': '0', 'humit...   \n",
       "27  [{'activitat': '3', 'estatMental': '0', 'humit...   \n",
       "28  [{'activitat': '3', 'estatMental': '0', 'humit...   \n",
       "29  [{'activitat': '3', 'estatMental': '2', 'humit...   \n",
       "30  [{'activitat': '0', 'estatMental': '0', 'humit...   \n",
       "31  [{'activitat': '2', 'estatMental': '1', 'humit...   \n",
       "32  [{'activitat': '2', 'estatMental': '1', 'humit...   \n",
       "33                                                 []   \n",
       "34  [{'activitat': '1', 'estatMental': '1', 'humit...   \n",
       "35                                                 []   \n",
       "36  [{'activitat': '0', 'estatMental': '0', 'humit...   \n",
       "37  [{'activitat': '2', 'estatMental': '1', 'humit...   \n",
       "38  [{'activitat': '3', 'estatMental': '0', 'humit...   \n",
       "39  [{'activitat': '1', 'estatMental': '0', 'humit...   \n",
       "40  [{'activitat': '1', 'estatMental': '1', 'humit...   \n",
       "41  [{'activitat': '1', 'estatMental': '1', 'humit...   \n",
       "42  [{'activitat': '3', 'estatMental': '1', 'humit...   \n",
       "44  [{'activitat': '3', 'estatMental': '0', 'humit...   \n",
       "45  [{'activitat': '3', 'estatMental': '1', 'humit...   \n",
       "46  [{'activitat': '3', 'estatMental': '1', 'humit...   \n",
       "47  [{'activitat': '3', 'estatMental': '1', 'humit...   \n",
       "48  [{'activitat': '3', 'estatMental': '0', 'humit...   \n",
       "49  [{'activitat': '3', 'estatMental': '0', 'humit...   \n",
       "\n",
       "                                            canadenca  \\\n",
       "0                                                  []   \n",
       "1                                                  []   \n",
       "2                                                  []   \n",
       "3                                                  []   \n",
       "4                                                  []   \n",
       "5                                                  []   \n",
       "6                                                  []   \n",
       "7   [{'dataValoracio': '2020-07-30', 'horaValoraci...   \n",
       "8                                                  []   \n",
       "9                                                  []   \n",
       "10                                                 []   \n",
       "11                                                 []   \n",
       "12                                                 []   \n",
       "13  [{'dataValoracio': '2020-09-06', 'horaValoraci...   \n",
       "14                                                 []   \n",
       "15                                                 []   \n",
       "16                                                 []   \n",
       "17                                                 []   \n",
       "18                                                 []   \n",
       "19                                                 []   \n",
       "20                                                 []   \n",
       "21                                                 []   \n",
       "22                                                 []   \n",
       "23                                                 []   \n",
       "24                                                 []   \n",
       "25                                                 []   \n",
       "26                                                 []   \n",
       "27                                                 []   \n",
       "28                                                 []   \n",
       "29                                                 []   \n",
       "30                                                 []   \n",
       "31                                                 []   \n",
       "32                                                 []   \n",
       "33                                                 []   \n",
       "34                                                 []   \n",
       "35                                                 []   \n",
       "36                                                 []   \n",
       "37                                                 []   \n",
       "38                                                 []   \n",
       "39                                                 []   \n",
       "40                                                 []   \n",
       "41                                                 []   \n",
       "42                                                 []   \n",
       "44                                                 []   \n",
       "45                                                 []   \n",
       "46                                                 []   \n",
       "47                                                 []   \n",
       "48                                                 []   \n",
       "49                                                 []   \n",
       "\n",
       "                                                  pes  \\\n",
       "0                                                  []   \n",
       "1   [{'valor': '64.7', 'data': '2022-10-04'}, {'va...   \n",
       "2                                                  []   \n",
       "3                                                  []   \n",
       "4   [{'valor': '49.900', 'data': '2022-06-02'}, {'...   \n",
       "5   [{'valor': '83.7', 'data': '2020-08-13'}, {'va...   \n",
       "6                                                  []   \n",
       "7                                                  []   \n",
       "8                                                  []   \n",
       "9                                                  []   \n",
       "10                                                 []   \n",
       "11                                                 []   \n",
       "12          [{'valor': '46.4', 'data': '2020-09-09'}]   \n",
       "13                                                 []   \n",
       "14                                                 []   \n",
       "15                                                 []   \n",
       "16                                                 []   \n",
       "17  [{'valor': '111', 'data': '2020-09-27'}, {'val...   \n",
       "18                                                 []   \n",
       "19  [{'valor': '89.7', 'data': '2022-10-15'}, {'va...   \n",
       "20  [{'valor': '82.600', 'data': '2020-11-19'}, {'...   \n",
       "21  [{'valor': '64.5', 'data': '2020-11-04'}, {'va...   \n",
       "22  [{'valor': '150', 'data': '2021-01-15'}, {'val...   \n",
       "23                                                 []   \n",
       "24                                                 []   \n",
       "25  [{'valor': '57', 'data': '2022-11-03'}, {'valo...   \n",
       "26                                                 []   \n",
       "27  [{'valor': '0', 'data': '2021-09-14'}, {'valor...   \n",
       "28             [{'valor': '0', 'data': '2022-05-30'}]   \n",
       "29                                                 []   \n",
       "30  [{'valor': '71.5', 'data': '2020-12-07'}, {'va...   \n",
       "31  [{'valor': '75', 'data': '2022-01-11'}, {'valo...   \n",
       "32                                                 []   \n",
       "33                                                 []   \n",
       "34          [{'valor': '51.5', 'data': '2021-01-14'}]   \n",
       "35                                                 []   \n",
       "36                                                 []   \n",
       "37            [{'valor': '72', 'data': '2022-10-09'}]   \n",
       "38                                                 []   \n",
       "39                                                 []   \n",
       "40                                                 []   \n",
       "41  [{'valor': '0', 'data': '2023-06-02'}, {'valor...   \n",
       "42  [{'valor': '', 'data': '2021-11-23'}, {'valor'...   \n",
       "44  [{'valor': '66', 'data': '2023-05-07'}, {'valo...   \n",
       "45             [{'valor': '0', 'data': '2023-04-28'}]   \n",
       "46          [{'valor': '55.1', 'data': '2021-03-21'}]   \n",
       "47                                                 []   \n",
       "48  [{'valor': '90', 'data': '2021-03-30'}, {'valo...   \n",
       "49  [{'valor': '143.200', 'data': '2021-09-17'}, {...   \n",
       "\n",
       "                                                 atcs  \\\n",
       "0   [{'codi': 'M01AE', 'dataInici': '2020-06-21 00...   \n",
       "1   [{'codi': 'C09AA', 'dataInici': '2021-05-26 00...   \n",
       "2   [{'codi': 'G04CA', 'dataInici': '2020-07-09 00...   \n",
       "3   [{'codi': 'G04CA', 'dataInici': '2020-07-15 00...   \n",
       "4   [{'codi': 'N02AA', 'dataInici': '2022-02-01 00...   \n",
       "5   [{'codi': 'N02BE', 'dataInici': '2020-08-12 00...   \n",
       "6   [{'codi': 'C09AA', 'dataInici': '2021-08-21 00...   \n",
       "7   [{'codi': 'C09AA', 'dataInici': '2020-07-31 00...   \n",
       "8   [{'codi': 'N02BB', 'dataInici': '2023-07-17 00...   \n",
       "9   [{'codi': 'C10AA', 'dataInici': '2020-08-25 00...   \n",
       "10  [{'codi': 'C09DA', 'dataInici': '2020-08-19 00...   \n",
       "11  [{'codi': 'N02BB', 'dataInici': '2020-08-28 00...   \n",
       "12  [{'codi': 'G04CA', 'dataInici': '2020-09-04 00...   \n",
       "13  [{'codi': 'C10AA', 'dataInici': '2020-09-06 00...   \n",
       "14  [{'codi': 'N02BE', 'dataInici': '2020-10-28 00...   \n",
       "15  [{'codi': 'G04CA', 'dataInici': '2020-09-19 00...   \n",
       "16  [{'codi': 'C08DB', 'dataInici': '2020-09-20 00...   \n",
       "17  [{'codi': 'N02BE', 'dataInici': '2020-09-23 00...   \n",
       "18  [{'codi': 'N02BE', 'dataInici': '2020-10-24 00...   \n",
       "19  [{'codi': 'C09AA', 'dataInici': '2020-10-29 00...   \n",
       "20  [{'codi': 'C09CA', 'dataInici': '2020-10-29 00...   \n",
       "21  [{'codi': 'N02BE', 'dataInici': '2020-11-06 00...   \n",
       "22  [{'codi': 'N02BE', 'dataInici': '2019-08-25 00...   \n",
       "23  [{'codi': 'N02BE', 'dataInici': '2020-11-06 00...   \n",
       "24  [{'codi': 'C01AA', 'dataInici': '2022-12-24 00...   \n",
       "25  [{'codi': 'C10AA', 'dataInici': '2022-09-27 00...   \n",
       "26  [{'codi': 'C09BA', 'dataInici': '2022-04-17 00...   \n",
       "27  [{'codi': 'C08CA', 'dataInici': '2020-11-23 00...   \n",
       "28  [{'codi': 'C10AA', 'dataInici': '2020-11-18 00...   \n",
       "29  [{'codi': 'N02BE', 'dataInici': '2020-11-30 00...   \n",
       "30  [{'codi': 'C08DB', 'dataInici': '2020-12-04 00...   \n",
       "31  [{'codi': 'C10AA', 'dataInici': '2021-12-23 00...   \n",
       "32  [{'codi': 'C10AA', 'dataInici': '2020-12-23 00...   \n",
       "33  [{'codi': 'N02BB', 'dataInici': '2020-12-18 00...   \n",
       "34  [{'codi': 'N02AA', 'dataInici': '2021-01-01 00...   \n",
       "35  [{'codi': 'C01AA', 'dataInici': '2021-01-09 00...   \n",
       "36  [{'codi': 'N02BE', 'dataInici': '2021-01-11 00...   \n",
       "37  [{'codi': 'G04CA', 'dataInici': '2022-09-26 00...   \n",
       "38  [{'codi': 'N02BE', 'dataInici': '2022-10-27 00...   \n",
       "39  [{'codi': 'N02BE', 'dataInici': '2021-01-17 00...   \n",
       "40  [{'codi': 'G04CA', 'dataInici': '2021-01-28 00...   \n",
       "41  [{'codi': 'C10AA', 'dataInici': '2021-02-05 00...   \n",
       "42  [{'codi': 'C08CA', 'dataInici': '2021-06-28 00...   \n",
       "44  [{'codi': 'C09BA', 'dataInici': '2023-05-05 00...   \n",
       "45  [{'codi': 'G04CA', 'dataInici': '2021-03-21 00...   \n",
       "46  [{'codi': 'G04CA', 'dataInici': '2021-03-20 00...   \n",
       "47  [{'codi': 'C09AA', 'dataInici': '2021-03-23 00...   \n",
       "48  [{'codi': 'G04CA', 'dataInici': '2021-03-25 00...   \n",
       "49  [{'codi': 'C10AA', 'dataInici': '2021-08-14 00...   \n",
       "\n",
       "                                               mecvvs  ...  \\\n",
       "0                                                  []  ...   \n",
       "1   [{'data': '20220930', 'pacientNoColabora': '',...  ...   \n",
       "2                                                  []  ...   \n",
       "3   [{'data': '20201204131810', 'disfagia': 'S', '...  ...   \n",
       "4   [{'data': '20220330172303', 'disfagiaConeguda'...  ...   \n",
       "5                                                  []  ...   \n",
       "6   [{'data': '20210819124116', 'disfagia': 'S', '...  ...   \n",
       "7   [{'data': '20200731092102', 'disfagia': 'N', '...  ...   \n",
       "8                                                  []  ...   \n",
       "9                                                  []  ...   \n",
       "10                                                 []  ...   \n",
       "11                                                 []  ...   \n",
       "12  [{'data': '20200907110400', 'disfagia': 'S', '...  ...   \n",
       "13  [{'data': '20200906175506', 'disfagia': 'N', '...  ...   \n",
       "14                                                 []  ...   \n",
       "15                                                 []  ...   \n",
       "16                                                 []  ...   \n",
       "17                                                 []  ...   \n",
       "18                                                 []  ...   \n",
       "19                                                 []  ...   \n",
       "20                                                 []  ...   \n",
       "21                                                 []  ...   \n",
       "22                                                 []  ...   \n",
       "23                                                 []  ...   \n",
       "24                                                 []  ...   \n",
       "25  [{'data': '20220929091303', 'disfagia': 'S', '...  ...   \n",
       "26                                                 []  ...   \n",
       "27  [{'data': '20201125131827', 'disfagia': 'S', '...  ...   \n",
       "28  [{'data': '20220529115841', 'disfagia': 'S', '...  ...   \n",
       "29                                                 []  ...   \n",
       "30                                                 []  ...   \n",
       "31  [{'data': '20220119101523', 'disfagia': 'N', '...  ...   \n",
       "32                                                 []  ...   \n",
       "33                                                 []  ...   \n",
       "34                                                 []  ...   \n",
       "35                                                 []  ...   \n",
       "36                                                 []  ...   \n",
       "37  [{'data': '20221012122425', 'disfagia': 'S', '...  ...   \n",
       "38  [{'data': '20221031103922', 'pacientNoColabora...  ...   \n",
       "39  [{'data': '20220111085147', 'disfagia': 'S', '...  ...   \n",
       "40                                                 []  ...   \n",
       "41  [{'data': '20230530155654', 'disfagia': 'S', '...  ...   \n",
       "42  [{'data': '20210628210030', 'disfagiaConeguda'...  ...   \n",
       "44                                                 []  ...   \n",
       "45  [{'data': '20210323123919', 'disfagia': 'S', '...  ...   \n",
       "46  [{'data': '20210721140136', 'disfagia': 'S', '...  ...   \n",
       "47  [{'data': '20210325091551', 'disfagia': 'S', '...  ...   \n",
       "48  [{'data': '20210330124628', 'disfagia': 'N', '...  ...   \n",
       "49  [{'data': '20211216113742', 'disfagia': 'N', '...  ...   \n",
       "\n",
       "   EMINA_sumatorios_comparados emina_resultats  mna_resultats  promedio_pes  \\\n",
       "0                         10.0            10.0           None           NaN   \n",
       "1                          1.0             1.0           None     58.308333   \n",
       "2                          6.0             6.0           None           NaN   \n",
       "3                          8.0             8.0           None           NaN   \n",
       "4                          7.0             7.0            4.0     49.900000   \n",
       "5                          3.0             3.0           None     77.760000   \n",
       "6                          9.0             9.0           None           NaN   \n",
       "7                         12.0            12.0            1.0           NaN   \n",
       "8                          5.0             5.0           None           NaN   \n",
       "9                          3.0             3.0           None           NaN   \n",
       "10                         0.0             0.0           None           NaN   \n",
       "11                         0.0             0.0           None           NaN   \n",
       "12                         7.0             7.0           None     46.400000   \n",
       "13                         6.0             6.0           None           NaN   \n",
       "14                         7.0             7.0           None           NaN   \n",
       "15                        13.0            13.0           None           NaN   \n",
       "16                         0.0             0.0           None           NaN   \n",
       "17                         0.0             0.0           None    112.540000   \n",
       "18                         0.0             0.0           None           NaN   \n",
       "19                         3.0             3.0           None     86.950000   \n",
       "20                         0.0             0.0           None     83.050000   \n",
       "21                         0.0             0.0           None     61.275000   \n",
       "22                         2.0             2.0           None    145.600000   \n",
       "23                         0.0             0.0           None           NaN   \n",
       "24                         4.0             4.0           None           NaN   \n",
       "25                         3.0             3.0            0.0     62.940000   \n",
       "26                         5.0             5.0           None           NaN   \n",
       "27                         9.0             9.0           None     20.550000   \n",
       "28                         6.0             6.0           None      0.000000   \n",
       "29                        14.0            14.0           None           NaN   \n",
       "30                         0.0             0.0            7.0     69.750000   \n",
       "31                         9.0             9.0            0.0     74.350000   \n",
       "32                         8.0             8.0           None           NaN   \n",
       "33                         NaN            None           None           NaN   \n",
       "34                         6.0             6.0            0.0     51.500000   \n",
       "35                         NaN            None           None           NaN   \n",
       "36                         0.0             0.0           None           NaN   \n",
       "37                         9.0             9.0            0.0     72.000000   \n",
       "38                         9.0             9.0           None           NaN   \n",
       "39                         4.0             4.0           None           NaN   \n",
       "40                         5.0             5.0           None           NaN   \n",
       "41                         5.0             5.0           None     30.000000   \n",
       "42                         9.0             9.0            0.0      0.000000   \n",
       "44                         7.0             7.0           None     65.050000   \n",
       "45                        11.0            11.0            0.0      0.000000   \n",
       "46                        10.0            10.0           None     55.100000   \n",
       "47                         9.0             9.0           None           NaN   \n",
       "48                        10.0            10.0           None     81.666667   \n",
       "49                        11.0            11.0           18.5    133.214286   \n",
       "\n",
       "    Canadenca_sumatorios_comparados  Disfagia_mecvvs  \\\n",
       "0                               NaN              NaN   \n",
       "1                               NaN              0.0   \n",
       "2                               NaN              NaN   \n",
       "3                               NaN              1.0   \n",
       "4                               NaN              1.0   \n",
       "5                               NaN              NaN   \n",
       "6                               NaN              1.0   \n",
       "7                               9.0              0.0   \n",
       "8                               NaN              NaN   \n",
       "9                               NaN              NaN   \n",
       "10                              NaN              NaN   \n",
       "11                              NaN              NaN   \n",
       "12                              NaN              1.0   \n",
       "13                              7.0              1.0   \n",
       "14                              NaN              NaN   \n",
       "15                              NaN              NaN   \n",
       "16                              NaN              NaN   \n",
       "17                              NaN              NaN   \n",
       "18                              NaN              NaN   \n",
       "19                              NaN              NaN   \n",
       "20                              NaN              NaN   \n",
       "21                              NaN              NaN   \n",
       "22                              NaN              NaN   \n",
       "23                              NaN              NaN   \n",
       "24                              NaN              NaN   \n",
       "25                              NaN              1.0   \n",
       "26                              NaN              NaN   \n",
       "27                              NaN              1.0   \n",
       "28                              NaN              0.0   \n",
       "29                              NaN              NaN   \n",
       "30                              NaN              NaN   \n",
       "31                              NaN              0.0   \n",
       "32                              NaN              NaN   \n",
       "33                              NaN              NaN   \n",
       "34                              NaN              NaN   \n",
       "35                              NaN              NaN   \n",
       "36                              NaN              NaN   \n",
       "37                              NaN              1.0   \n",
       "38                              NaN              NaN   \n",
       "39                              NaN              1.0   \n",
       "40                              NaN              NaN   \n",
       "41                              NaN              1.0   \n",
       "42                              NaN              1.0   \n",
       "44                              NaN              NaN   \n",
       "45                              NaN              1.0   \n",
       "46                              NaN              1.0   \n",
       "47                              NaN              1.0   \n",
       "48                              NaN              1.0   \n",
       "49                              NaN              0.0   \n",
       "\n",
       "    alteracioEficacia_mecvvs  alteracioSeguretat_mecvvs  viscositat_mecvvs  \\\n",
       "0                        NaN                        NaN               None   \n",
       "1                        1.0                        0.0             Líquid   \n",
       "2                        NaN                        NaN               None   \n",
       "3                        1.0                        1.0             NECTAR   \n",
       "4                        NaN                        NaN               None   \n",
       "5                        NaN                        NaN               None   \n",
       "6                        1.0                        0.0             LIQUID   \n",
       "7                        0.0                        0.0             LIQUID   \n",
       "8                        NaN                        NaN               None   \n",
       "9                        NaN                        NaN               None   \n",
       "10                       NaN                        NaN               None   \n",
       "11                       NaN                        NaN               None   \n",
       "12                       1.0                        1.0             NECTAR   \n",
       "13                       1.0                        1.0             PUDING   \n",
       "14                       NaN                        NaN               None   \n",
       "15                       NaN                        NaN               None   \n",
       "16                       NaN                        NaN               None   \n",
       "17                       NaN                        NaN               None   \n",
       "18                       NaN                        NaN               None   \n",
       "19                       NaN                        NaN               None   \n",
       "20                       NaN                        NaN               None   \n",
       "21                       NaN                        NaN               None   \n",
       "22                       NaN                        NaN               None   \n",
       "23                       NaN                        NaN               None   \n",
       "24                       NaN                        NaN               None   \n",
       "25                       0.0                        1.0             LIQUID   \n",
       "26                       NaN                        NaN               None   \n",
       "27                       1.0                        0.0             LIQUID   \n",
       "28                       0.0                        0.0             LIQUID   \n",
       "29                       NaN                        NaN               None   \n",
       "30                       NaN                        NaN               None   \n",
       "31                       0.0                        0.0             LIQUID   \n",
       "32                       NaN                        NaN               None   \n",
       "33                       NaN                        NaN               None   \n",
       "34                       NaN                        NaN               None   \n",
       "35                       NaN                        NaN               None   \n",
       "36                       NaN                        NaN               None   \n",
       "37                       0.0                        1.0             NECTAR   \n",
       "38                       NaN                        NaN               None   \n",
       "39                       1.0                        0.0             LIQUID   \n",
       "40                       NaN                        NaN               None   \n",
       "41                       0.0                        1.0             LIQUID   \n",
       "42                       1.0                        1.0             NECTAR   \n",
       "44                       NaN                        NaN               None   \n",
       "45                       1.0                        1.0             PUDING   \n",
       "46                       1.0                        1.0             PUDING   \n",
       "47                       0.0                        1.0             LIQUID   \n",
       "48                       1.0                        1.0             NECTAR   \n",
       "49                       0.0                        0.0             LIQUID   \n",
       "\n",
       "    volumn_mecvvs  \n",
       "0            None  \n",
       "1             Alt  \n",
       "2            None  \n",
       "3             ALT  \n",
       "4            None  \n",
       "5            None  \n",
       "6            BAIX  \n",
       "7             MIG  \n",
       "8            None  \n",
       "9            None  \n",
       "10           None  \n",
       "11           None  \n",
       "12            MIG  \n",
       "13            MIG  \n",
       "14           None  \n",
       "15           None  \n",
       "16           None  \n",
       "17           None  \n",
       "18           None  \n",
       "19           None  \n",
       "20           None  \n",
       "21           None  \n",
       "22           None  \n",
       "23           None  \n",
       "24           None  \n",
       "25           BAIX  \n",
       "26           None  \n",
       "27           BAIX  \n",
       "28            MIG  \n",
       "29           None  \n",
       "30           None  \n",
       "31           BAIX  \n",
       "32           None  \n",
       "33           None  \n",
       "34           None  \n",
       "35           None  \n",
       "36           None  \n",
       "37            MIG  \n",
       "38           None  \n",
       "39            MIG  \n",
       "40           None  \n",
       "41           BAIX  \n",
       "42           BAIX  \n",
       "44           None  \n",
       "45           BAIX  \n",
       "46            MIG  \n",
       "47           BAIX  \n",
       "48            MIG  \n",
       "49            ALT  \n",
       "\n",
       "[49 rows x 33 columns]"
      ],
      "text/html": [
       "<div>\n",
       "<style scoped>\n",
       "    .dataframe tbody tr th:only-of-type {\n",
       "        vertical-align: middle;\n",
       "    }\n",
       "\n",
       "    .dataframe tbody tr th {\n",
       "        vertical-align: top;\n",
       "    }\n",
       "\n",
       "    .dataframe thead th {\n",
       "        text-align: right;\n",
       "    }\n",
       "</style>\n",
       "<table border=\"1\" class=\"dataframe\">\n",
       "  <thead>\n",
       "    <tr style=\"text-align: right;\">\n",
       "      <th></th>\n",
       "      <th>edat</th>\n",
       "      <th>sexe</th>\n",
       "      <th>visitaDietista</th>\n",
       "      <th>labs</th>\n",
       "      <th>mna</th>\n",
       "      <th>emina</th>\n",
       "      <th>canadenca</th>\n",
       "      <th>pes</th>\n",
       "      <th>atcs</th>\n",
       "      <th>mecvvs</th>\n",
       "      <th>...</th>\n",
       "      <th>EMINA_sumatorios_comparados</th>\n",
       "      <th>emina_resultats</th>\n",
       "      <th>mna_resultats</th>\n",
       "      <th>promedio_pes</th>\n",
       "      <th>Canadenca_sumatorios_comparados</th>\n",
       "      <th>Disfagia_mecvvs</th>\n",
       "      <th>alteracioEficacia_mecvvs</th>\n",
       "      <th>alteracioSeguretat_mecvvs</th>\n",
       "      <th>viscositat_mecvvs</th>\n",
       "      <th>volumn_mecvvs</th>\n",
       "    </tr>\n",
       "  </thead>\n",
       "  <tbody>\n",
       "    <tr>\n",
       "      <th>0</th>\n",
       "      <td>89</td>\n",
       "      <td>F</td>\n",
       "      <td>0</td>\n",
       "      <td>[]</td>\n",
       "      <td>[]</td>\n",
       "      <td>[{'activitat': '2', 'estatMental': '1', 'humit...</td>\n",
       "      <td>[]</td>\n",
       "      <td>[]</td>\n",
       "      <td>[{'codi': 'M01AE', 'dataInici': '2020-06-21 00...</td>\n",
       "      <td>[]</td>\n",
       "      <td>...</td>\n",
       "      <td>10.0</td>\n",
       "      <td>10.0</td>\n",
       "      <td>None</td>\n",
       "      <td>NaN</td>\n",
       "      <td>NaN</td>\n",
       "      <td>NaN</td>\n",
       "      <td>NaN</td>\n",
       "      <td>NaN</td>\n",
       "      <td>None</td>\n",
       "      <td>None</td>\n",
       "    </tr>\n",
       "    <tr>\n",
       "      <th>1</th>\n",
       "      <td>70</td>\n",
       "      <td>M</td>\n",
       "      <td>0</td>\n",
       "      <td>[{'date': '20220524', 'name': 'PCR SARS-CoV2 S...</td>\n",
       "      <td>[]</td>\n",
       "      <td>[{'activitat': '0', 'estatMental': '0', 'humit...</td>\n",
       "      <td>[]</td>\n",
       "      <td>[{'valor': '64.7', 'data': '2022-10-04'}, {'va...</td>\n",
       "      <td>[{'codi': 'C09AA', 'dataInici': '2021-05-26 00...</td>\n",
       "      <td>[{'data': '20220930', 'pacientNoColabora': '',...</td>\n",
       "      <td>...</td>\n",
       "      <td>1.0</td>\n",
       "      <td>1.0</td>\n",
       "      <td>None</td>\n",
       "      <td>58.308333</td>\n",
       "      <td>NaN</td>\n",
       "      <td>0.0</td>\n",
       "      <td>1.0</td>\n",
       "      <td>0.0</td>\n",
       "      <td>Líquid</td>\n",
       "      <td>Alt</td>\n",
       "    </tr>\n",
       "    <tr>\n",
       "      <th>2</th>\n",
       "      <td>96</td>\n",
       "      <td>M</td>\n",
       "      <td>0</td>\n",
       "      <td>[]</td>\n",
       "      <td>[]</td>\n",
       "      <td>[{'activitat': '3', 'estatMental': '0', 'humit...</td>\n",
       "      <td>[]</td>\n",
       "      <td>[]</td>\n",
       "      <td>[{'codi': 'G04CA', 'dataInici': '2020-07-09 00...</td>\n",
       "      <td>[]</td>\n",
       "      <td>...</td>\n",
       "      <td>6.0</td>\n",
       "      <td>6.0</td>\n",
       "      <td>None</td>\n",
       "      <td>NaN</td>\n",
       "      <td>NaN</td>\n",
       "      <td>NaN</td>\n",
       "      <td>NaN</td>\n",
       "      <td>NaN</td>\n",
       "      <td>None</td>\n",
       "      <td>None</td>\n",
       "    </tr>\n",
       "    <tr>\n",
       "      <th>3</th>\n",
       "      <td>85</td>\n",
       "      <td>M</td>\n",
       "      <td>0</td>\n",
       "      <td>[]</td>\n",
       "      <td>[]</td>\n",
       "      <td>[{'activitat': '2', 'estatMental': '1', 'humit...</td>\n",
       "      <td>[]</td>\n",
       "      <td>[]</td>\n",
       "      <td>[{'codi': 'G04CA', 'dataInici': '2020-07-15 00...</td>\n",
       "      <td>[{'data': '20201204131810', 'disfagia': 'S', '...</td>\n",
       "      <td>...</td>\n",
       "      <td>8.0</td>\n",
       "      <td>8.0</td>\n",
       "      <td>None</td>\n",
       "      <td>NaN</td>\n",
       "      <td>NaN</td>\n",
       "      <td>1.0</td>\n",
       "      <td>1.0</td>\n",
       "      <td>1.0</td>\n",
       "      <td>NECTAR</td>\n",
       "      <td>ALT</td>\n",
       "    </tr>\n",
       "    <tr>\n",
       "      <th>4</th>\n",
       "      <td>93</td>\n",
       "      <td>M</td>\n",
       "      <td>0</td>\n",
       "      <td>[{'date': '20220208', 'name': 'UREA Sèrum', 'l...</td>\n",
       "      <td>[{'imc': '0', 'anorexia': '1', 'perduaPes': '1...</td>\n",
       "      <td>[{'activitat': '2', 'estatMental': '1', 'humit...</td>\n",
       "      <td>[]</td>\n",
       "      <td>[{'valor': '49.900', 'data': '2022-06-02'}, {'...</td>\n",
       "      <td>[{'codi': 'N02AA', 'dataInici': '2022-02-01 00...</td>\n",
       "      <td>[{'data': '20220330172303', 'disfagiaConeguda'...</td>\n",
       "      <td>...</td>\n",
       "      <td>7.0</td>\n",
       "      <td>7.0</td>\n",
       "      <td>4.0</td>\n",
       "      <td>49.900000</td>\n",
       "      <td>NaN</td>\n",
       "      <td>1.0</td>\n",
       "      <td>NaN</td>\n",
       "      <td>NaN</td>\n",
       "      <td>None</td>\n",
       "      <td>None</td>\n",
       "    </tr>\n",
       "    <tr>\n",
       "      <th>5</th>\n",
       "      <td>57</td>\n",
       "      <td>M</td>\n",
       "      <td>0</td>\n",
       "      <td>[{'date': '20220909', 'name': 'GLUCOSA Sèrum',...</td>\n",
       "      <td>[]</td>\n",
       "      <td>[{'activitat': '1', 'estatMental': '0', 'humit...</td>\n",
       "      <td>[]</td>\n",
       "      <td>[{'valor': '83.7', 'data': '2020-08-13'}, {'va...</td>\n",
       "      <td>[{'codi': 'N02BE', 'dataInici': '2020-08-12 00...</td>\n",
       "      <td>[]</td>\n",
       "      <td>...</td>\n",
       "      <td>3.0</td>\n",
       "      <td>3.0</td>\n",
       "      <td>None</td>\n",
       "      <td>77.760000</td>\n",
       "      <td>NaN</td>\n",
       "      <td>NaN</td>\n",
       "      <td>NaN</td>\n",
       "      <td>NaN</td>\n",
       "      <td>None</td>\n",
       "      <td>None</td>\n",
       "    </tr>\n",
       "    <tr>\n",
       "      <th>6</th>\n",
       "      <td>101</td>\n",
       "      <td>F</td>\n",
       "      <td>0</td>\n",
       "      <td>[]</td>\n",
       "      <td>[]</td>\n",
       "      <td>[{'activitat': '3', 'estatMental': '1', 'humit...</td>\n",
       "      <td>[]</td>\n",
       "      <td>[]</td>\n",
       "      <td>[{'codi': 'C09AA', 'dataInici': '2021-08-21 00...</td>\n",
       "      <td>[{'data': '20210819124116', 'disfagia': 'S', '...</td>\n",
       "      <td>...</td>\n",
       "      <td>9.0</td>\n",
       "      <td>9.0</td>\n",
       "      <td>None</td>\n",
       "      <td>NaN</td>\n",
       "      <td>NaN</td>\n",
       "      <td>1.0</td>\n",
       "      <td>1.0</td>\n",
       "      <td>0.0</td>\n",
       "      <td>LIQUID</td>\n",
       "      <td>BAIX</td>\n",
       "    </tr>\n",
       "    <tr>\n",
       "      <th>7</th>\n",
       "      <td>90</td>\n",
       "      <td>F</td>\n",
       "      <td>0</td>\n",
       "      <td>[{'date': '20220627', 'name': 'GLUCOSA Sèrum',...</td>\n",
       "      <td>[{'imc': '0', 'anorexia': '0', 'perduaPes': '1...</td>\n",
       "      <td>[{'activitat': '3', 'estatMental': '1', 'humit...</td>\n",
       "      <td>[{'dataValoracio': '2020-07-30', 'horaValoraci...</td>\n",
       "      <td>[]</td>\n",
       "      <td>[{'codi': 'C09AA', 'dataInici': '2020-07-31 00...</td>\n",
       "      <td>[{'data': '20200731092102', 'disfagia': 'N', '...</td>\n",
       "      <td>...</td>\n",
       "      <td>12.0</td>\n",
       "      <td>12.0</td>\n",
       "      <td>1.0</td>\n",
       "      <td>NaN</td>\n",
       "      <td>9.0</td>\n",
       "      <td>0.0</td>\n",
       "      <td>0.0</td>\n",
       "      <td>0.0</td>\n",
       "      <td>LIQUID</td>\n",
       "      <td>MIG</td>\n",
       "    </tr>\n",
       "    <tr>\n",
       "      <th>8</th>\n",
       "      <td>90</td>\n",
       "      <td>F</td>\n",
       "      <td>0</td>\n",
       "      <td>[{'date': '20220827', 'name': 'GLUCOSA Sèrum',...</td>\n",
       "      <td>[]</td>\n",
       "      <td>[{'activitat': '3', 'estatMental': '0', 'humit...</td>\n",
       "      <td>[]</td>\n",
       "      <td>[]</td>\n",
       "      <td>[{'codi': 'N02BB', 'dataInici': '2023-07-17 00...</td>\n",
       "      <td>[]</td>\n",
       "      <td>...</td>\n",
       "      <td>5.0</td>\n",
       "      <td>5.0</td>\n",
       "      <td>None</td>\n",
       "      <td>NaN</td>\n",
       "      <td>NaN</td>\n",
       "      <td>NaN</td>\n",
       "      <td>NaN</td>\n",
       "      <td>NaN</td>\n",
       "      <td>None</td>\n",
       "      <td>None</td>\n",
       "    </tr>\n",
       "    <tr>\n",
       "      <th>9</th>\n",
       "      <td>91</td>\n",
       "      <td>M</td>\n",
       "      <td>0</td>\n",
       "      <td>[]</td>\n",
       "      <td>[]</td>\n",
       "      <td>[{'activitat': '1', 'estatMental': '1', 'humit...</td>\n",
       "      <td>[]</td>\n",
       "      <td>[]</td>\n",
       "      <td>[{'codi': 'C10AA', 'dataInici': '2020-08-25 00...</td>\n",
       "      <td>[]</td>\n",
       "      <td>...</td>\n",
       "      <td>3.0</td>\n",
       "      <td>3.0</td>\n",
       "      <td>None</td>\n",
       "      <td>NaN</td>\n",
       "      <td>NaN</td>\n",
       "      <td>NaN</td>\n",
       "      <td>NaN</td>\n",
       "      <td>NaN</td>\n",
       "      <td>None</td>\n",
       "      <td>None</td>\n",
       "    </tr>\n",
       "    <tr>\n",
       "      <th>10</th>\n",
       "      <td>84</td>\n",
       "      <td>F</td>\n",
       "      <td>0</td>\n",
       "      <td>[]</td>\n",
       "      <td>[]</td>\n",
       "      <td>[{'activitat': '0', 'estatMental': '0', 'humit...</td>\n",
       "      <td>[]</td>\n",
       "      <td>[]</td>\n",
       "      <td>[{'codi': 'C09DA', 'dataInici': '2020-08-19 00...</td>\n",
       "      <td>[]</td>\n",
       "      <td>...</td>\n",
       "      <td>0.0</td>\n",
       "      <td>0.0</td>\n",
       "      <td>None</td>\n",
       "      <td>NaN</td>\n",
       "      <td>NaN</td>\n",
       "      <td>NaN</td>\n",
       "      <td>NaN</td>\n",
       "      <td>NaN</td>\n",
       "      <td>None</td>\n",
       "      <td>None</td>\n",
       "    </tr>\n",
       "    <tr>\n",
       "      <th>11</th>\n",
       "      <td>58</td>\n",
       "      <td>M</td>\n",
       "      <td>0</td>\n",
       "      <td>[]</td>\n",
       "      <td>[]</td>\n",
       "      <td>[{'activitat': '0', 'estatMental': '0', 'humit...</td>\n",
       "      <td>[]</td>\n",
       "      <td>[]</td>\n",
       "      <td>[{'codi': 'N02BB', 'dataInici': '2020-08-28 00...</td>\n",
       "      <td>[]</td>\n",
       "      <td>...</td>\n",
       "      <td>0.0</td>\n",
       "      <td>0.0</td>\n",
       "      <td>None</td>\n",
       "      <td>NaN</td>\n",
       "      <td>NaN</td>\n",
       "      <td>NaN</td>\n",
       "      <td>NaN</td>\n",
       "      <td>NaN</td>\n",
       "      <td>None</td>\n",
       "      <td>None</td>\n",
       "    </tr>\n",
       "    <tr>\n",
       "      <th>12</th>\n",
       "      <td>86</td>\n",
       "      <td>M</td>\n",
       "      <td>0</td>\n",
       "      <td>[]</td>\n",
       "      <td>[]</td>\n",
       "      <td>[{'activitat': '1', 'estatMental': '1', 'humit...</td>\n",
       "      <td>[]</td>\n",
       "      <td>[{'valor': '46.4', 'data': '2020-09-09'}]</td>\n",
       "      <td>[{'codi': 'G04CA', 'dataInici': '2020-09-04 00...</td>\n",
       "      <td>[{'data': '20200907110400', 'disfagia': 'S', '...</td>\n",
       "      <td>...</td>\n",
       "      <td>7.0</td>\n",
       "      <td>7.0</td>\n",
       "      <td>None</td>\n",
       "      <td>46.400000</td>\n",
       "      <td>NaN</td>\n",
       "      <td>1.0</td>\n",
       "      <td>1.0</td>\n",
       "      <td>1.0</td>\n",
       "      <td>NECTAR</td>\n",
       "      <td>MIG</td>\n",
       "    </tr>\n",
       "    <tr>\n",
       "      <th>13</th>\n",
       "      <td>71</td>\n",
       "      <td>F</td>\n",
       "      <td>0</td>\n",
       "      <td>[{'date': '20220216', 'name': 'CULTIU Esput', ...</td>\n",
       "      <td>[]</td>\n",
       "      <td>[{'activitat': '3', 'estatMental': '0', 'humit...</td>\n",
       "      <td>[{'dataValoracio': '2020-09-06', 'horaValoraci...</td>\n",
       "      <td>[]</td>\n",
       "      <td>[{'codi': 'C10AA', 'dataInici': '2020-09-06 00...</td>\n",
       "      <td>[{'data': '20200906175506', 'disfagia': 'N', '...</td>\n",
       "      <td>...</td>\n",
       "      <td>6.0</td>\n",
       "      <td>6.0</td>\n",
       "      <td>None</td>\n",
       "      <td>NaN</td>\n",
       "      <td>7.0</td>\n",
       "      <td>1.0</td>\n",
       "      <td>1.0</td>\n",
       "      <td>1.0</td>\n",
       "      <td>PUDING</td>\n",
       "      <td>MIG</td>\n",
       "    </tr>\n",
       "    <tr>\n",
       "      <th>14</th>\n",
       "      <td>61</td>\n",
       "      <td>M</td>\n",
       "      <td>0</td>\n",
       "      <td>[]</td>\n",
       "      <td>[]</td>\n",
       "      <td>[{'activitat': '2', 'estatMental': '0', 'humit...</td>\n",
       "      <td>[]</td>\n",
       "      <td>[]</td>\n",
       "      <td>[{'codi': 'N02BE', 'dataInici': '2020-10-28 00...</td>\n",
       "      <td>[]</td>\n",
       "      <td>...</td>\n",
       "      <td>7.0</td>\n",
       "      <td>7.0</td>\n",
       "      <td>None</td>\n",
       "      <td>NaN</td>\n",
       "      <td>NaN</td>\n",
       "      <td>NaN</td>\n",
       "      <td>NaN</td>\n",
       "      <td>NaN</td>\n",
       "      <td>None</td>\n",
       "      <td>None</td>\n",
       "    </tr>\n",
       "    <tr>\n",
       "      <th>15</th>\n",
       "      <td>75</td>\n",
       "      <td>M</td>\n",
       "      <td>0</td>\n",
       "      <td>[]</td>\n",
       "      <td>[]</td>\n",
       "      <td>[{'activitat': '3', 'estatMental': '2', 'humit...</td>\n",
       "      <td>[]</td>\n",
       "      <td>[]</td>\n",
       "      <td>[{'codi': 'G04CA', 'dataInici': '2020-09-19 00...</td>\n",
       "      <td>[]</td>\n",
       "      <td>...</td>\n",
       "      <td>13.0</td>\n",
       "      <td>13.0</td>\n",
       "      <td>None</td>\n",
       "      <td>NaN</td>\n",
       "      <td>NaN</td>\n",
       "      <td>NaN</td>\n",
       "      <td>NaN</td>\n",
       "      <td>NaN</td>\n",
       "      <td>None</td>\n",
       "      <td>None</td>\n",
       "    </tr>\n",
       "    <tr>\n",
       "      <th>16</th>\n",
       "      <td>79</td>\n",
       "      <td>M</td>\n",
       "      <td>0</td>\n",
       "      <td>[]</td>\n",
       "      <td>[]</td>\n",
       "      <td>[{'activitat': '0', 'estatMental': '0', 'humit...</td>\n",
       "      <td>[]</td>\n",
       "      <td>[]</td>\n",
       "      <td>[{'codi': 'C08DB', 'dataInici': '2020-09-20 00...</td>\n",
       "      <td>[]</td>\n",
       "      <td>...</td>\n",
       "      <td>0.0</td>\n",
       "      <td>0.0</td>\n",
       "      <td>None</td>\n",
       "      <td>NaN</td>\n",
       "      <td>NaN</td>\n",
       "      <td>NaN</td>\n",
       "      <td>NaN</td>\n",
       "      <td>NaN</td>\n",
       "      <td>None</td>\n",
       "      <td>None</td>\n",
       "    </tr>\n",
       "    <tr>\n",
       "      <th>17</th>\n",
       "      <td>58</td>\n",
       "      <td>M</td>\n",
       "      <td>0</td>\n",
       "      <td>[{'date': '20230119', 'name': 'pH/arterial', '...</td>\n",
       "      <td>[]</td>\n",
       "      <td>[{'activitat': '0', 'estatMental': '0', 'humit...</td>\n",
       "      <td>[]</td>\n",
       "      <td>[{'valor': '111', 'data': '2020-09-27'}, {'val...</td>\n",
       "      <td>[{'codi': 'N02BE', 'dataInici': '2020-09-23 00...</td>\n",
       "      <td>[]</td>\n",
       "      <td>...</td>\n",
       "      <td>0.0</td>\n",
       "      <td>0.0</td>\n",
       "      <td>None</td>\n",
       "      <td>112.540000</td>\n",
       "      <td>NaN</td>\n",
       "      <td>NaN</td>\n",
       "      <td>NaN</td>\n",
       "      <td>NaN</td>\n",
       "      <td>None</td>\n",
       "      <td>None</td>\n",
       "    </tr>\n",
       "    <tr>\n",
       "      <th>18</th>\n",
       "      <td>64</td>\n",
       "      <td>M</td>\n",
       "      <td>0</td>\n",
       "      <td>[{'date': '20220217', 'name': 'EXTRACCIÓ RNA',...</td>\n",
       "      <td>[]</td>\n",
       "      <td>[{'activitat': '0', 'estatMental': '0', 'humit...</td>\n",
       "      <td>[]</td>\n",
       "      <td>[]</td>\n",
       "      <td>[{'codi': 'N02BE', 'dataInici': '2020-10-24 00...</td>\n",
       "      <td>[]</td>\n",
       "      <td>...</td>\n",
       "      <td>0.0</td>\n",
       "      <td>0.0</td>\n",
       "      <td>None</td>\n",
       "      <td>NaN</td>\n",
       "      <td>NaN</td>\n",
       "      <td>NaN</td>\n",
       "      <td>NaN</td>\n",
       "      <td>NaN</td>\n",
       "      <td>None</td>\n",
       "      <td>None</td>\n",
       "    </tr>\n",
       "    <tr>\n",
       "      <th>19</th>\n",
       "      <td>85</td>\n",
       "      <td>M</td>\n",
       "      <td>0</td>\n",
       "      <td>[{'date': '20230130', 'name': 'pH/arterial', '...</td>\n",
       "      <td>[]</td>\n",
       "      <td>[{'activitat': '1', 'estatMental': '0', 'humit...</td>\n",
       "      <td>[]</td>\n",
       "      <td>[{'valor': '89.7', 'data': '2022-10-15'}, {'va...</td>\n",
       "      <td>[{'codi': 'C09AA', 'dataInici': '2020-10-29 00...</td>\n",
       "      <td>[]</td>\n",
       "      <td>...</td>\n",
       "      <td>3.0</td>\n",
       "      <td>3.0</td>\n",
       "      <td>None</td>\n",
       "      <td>86.950000</td>\n",
       "      <td>NaN</td>\n",
       "      <td>NaN</td>\n",
       "      <td>NaN</td>\n",
       "      <td>NaN</td>\n",
       "      <td>None</td>\n",
       "      <td>None</td>\n",
       "    </tr>\n",
       "    <tr>\n",
       "      <th>20</th>\n",
       "      <td>85</td>\n",
       "      <td>M</td>\n",
       "      <td>0</td>\n",
       "      <td>[{'date': '20230409', 'name': 'CULTIU Esput', ...</td>\n",
       "      <td>[]</td>\n",
       "      <td>[{'activitat': '0', 'estatMental': '0', 'humit...</td>\n",
       "      <td>[]</td>\n",
       "      <td>[{'valor': '82.600', 'data': '2020-11-19'}, {'...</td>\n",
       "      <td>[{'codi': 'C09CA', 'dataInici': '2020-10-29 00...</td>\n",
       "      <td>[]</td>\n",
       "      <td>...</td>\n",
       "      <td>0.0</td>\n",
       "      <td>0.0</td>\n",
       "      <td>None</td>\n",
       "      <td>83.050000</td>\n",
       "      <td>NaN</td>\n",
       "      <td>NaN</td>\n",
       "      <td>NaN</td>\n",
       "      <td>NaN</td>\n",
       "      <td>None</td>\n",
       "      <td>None</td>\n",
       "    </tr>\n",
       "    <tr>\n",
       "      <th>21</th>\n",
       "      <td>29</td>\n",
       "      <td>M</td>\n",
       "      <td>0</td>\n",
       "      <td>[]</td>\n",
       "      <td>[]</td>\n",
       "      <td>[{'activitat': '0', 'estatMental': '0', 'humit...</td>\n",
       "      <td>[]</td>\n",
       "      <td>[{'valor': '64.5', 'data': '2020-11-04'}, {'va...</td>\n",
       "      <td>[{'codi': 'N02BE', 'dataInici': '2020-11-06 00...</td>\n",
       "      <td>[]</td>\n",
       "      <td>...</td>\n",
       "      <td>0.0</td>\n",
       "      <td>0.0</td>\n",
       "      <td>None</td>\n",
       "      <td>61.275000</td>\n",
       "      <td>NaN</td>\n",
       "      <td>NaN</td>\n",
       "      <td>NaN</td>\n",
       "      <td>NaN</td>\n",
       "      <td>None</td>\n",
       "      <td>None</td>\n",
       "    </tr>\n",
       "    <tr>\n",
       "      <th>22</th>\n",
       "      <td>48</td>\n",
       "      <td>M</td>\n",
       "      <td>0</td>\n",
       "      <td>[]</td>\n",
       "      <td>[]</td>\n",
       "      <td>[{'activitat': '1', 'estatMental': '0', 'humit...</td>\n",
       "      <td>[]</td>\n",
       "      <td>[{'valor': '150', 'data': '2021-01-15'}, {'val...</td>\n",
       "      <td>[{'codi': 'N02BE', 'dataInici': '2019-08-25 00...</td>\n",
       "      <td>[]</td>\n",
       "      <td>...</td>\n",
       "      <td>2.0</td>\n",
       "      <td>2.0</td>\n",
       "      <td>None</td>\n",
       "      <td>145.600000</td>\n",
       "      <td>NaN</td>\n",
       "      <td>NaN</td>\n",
       "      <td>NaN</td>\n",
       "      <td>NaN</td>\n",
       "      <td>None</td>\n",
       "      <td>None</td>\n",
       "    </tr>\n",
       "    <tr>\n",
       "      <th>23</th>\n",
       "      <td>67</td>\n",
       "      <td>M</td>\n",
       "      <td>0</td>\n",
       "      <td>[]</td>\n",
       "      <td>[]</td>\n",
       "      <td>[{'activitat': '0', 'estatMental': '0', 'humit...</td>\n",
       "      <td>[]</td>\n",
       "      <td>[]</td>\n",
       "      <td>[{'codi': 'N02BE', 'dataInici': '2020-11-06 00...</td>\n",
       "      <td>[]</td>\n",
       "      <td>...</td>\n",
       "      <td>0.0</td>\n",
       "      <td>0.0</td>\n",
       "      <td>None</td>\n",
       "      <td>NaN</td>\n",
       "      <td>NaN</td>\n",
       "      <td>NaN</td>\n",
       "      <td>NaN</td>\n",
       "      <td>NaN</td>\n",
       "      <td>None</td>\n",
       "      <td>None</td>\n",
       "    </tr>\n",
       "    <tr>\n",
       "      <th>24</th>\n",
       "      <td>71</td>\n",
       "      <td>M</td>\n",
       "      <td>0</td>\n",
       "      <td>[{'date': '20220506', 'name': 'GLUCOSA Sèrum',...</td>\n",
       "      <td>[]</td>\n",
       "      <td>[{'activitat': '1', 'estatMental': '1', 'humit...</td>\n",
       "      <td>[]</td>\n",
       "      <td>[]</td>\n",
       "      <td>[{'codi': 'C01AA', 'dataInici': '2022-12-24 00...</td>\n",
       "      <td>[]</td>\n",
       "      <td>...</td>\n",
       "      <td>4.0</td>\n",
       "      <td>4.0</td>\n",
       "      <td>None</td>\n",
       "      <td>NaN</td>\n",
       "      <td>NaN</td>\n",
       "      <td>NaN</td>\n",
       "      <td>NaN</td>\n",
       "      <td>NaN</td>\n",
       "      <td>None</td>\n",
       "      <td>None</td>\n",
       "    </tr>\n",
       "    <tr>\n",
       "      <th>25</th>\n",
       "      <td>83</td>\n",
       "      <td>F</td>\n",
       "      <td>0</td>\n",
       "      <td>[{'date': '20220308', 'name': 'UREA Sèrum', 'l...</td>\n",
       "      <td>[{'imc': '', 'anorexia': '', 'perduaPes': '', ...</td>\n",
       "      <td>[{'activitat': '0', 'estatMental': '1', 'humit...</td>\n",
       "      <td>[]</td>\n",
       "      <td>[{'valor': '57', 'data': '2022-11-03'}, {'valo...</td>\n",
       "      <td>[{'codi': 'C10AA', 'dataInici': '2022-09-27 00...</td>\n",
       "      <td>[{'data': '20220929091303', 'disfagia': 'S', '...</td>\n",
       "      <td>...</td>\n",
       "      <td>3.0</td>\n",
       "      <td>3.0</td>\n",
       "      <td>0.0</td>\n",
       "      <td>62.940000</td>\n",
       "      <td>NaN</td>\n",
       "      <td>1.0</td>\n",
       "      <td>0.0</td>\n",
       "      <td>1.0</td>\n",
       "      <td>LIQUID</td>\n",
       "      <td>BAIX</td>\n",
       "    </tr>\n",
       "    <tr>\n",
       "      <th>26</th>\n",
       "      <td>97</td>\n",
       "      <td>F</td>\n",
       "      <td>0</td>\n",
       "      <td>[{'date': '20220419', 'name': 'GLUCOSA Sèrum',...</td>\n",
       "      <td>[]</td>\n",
       "      <td>[{'activitat': '1', 'estatMental': '0', 'humit...</td>\n",
       "      <td>[]</td>\n",
       "      <td>[]</td>\n",
       "      <td>[{'codi': 'C09BA', 'dataInici': '2022-04-17 00...</td>\n",
       "      <td>[]</td>\n",
       "      <td>...</td>\n",
       "      <td>5.0</td>\n",
       "      <td>5.0</td>\n",
       "      <td>None</td>\n",
       "      <td>NaN</td>\n",
       "      <td>NaN</td>\n",
       "      <td>NaN</td>\n",
       "      <td>NaN</td>\n",
       "      <td>NaN</td>\n",
       "      <td>None</td>\n",
       "      <td>None</td>\n",
       "    </tr>\n",
       "    <tr>\n",
       "      <th>27</th>\n",
       "      <td>100</td>\n",
       "      <td>M</td>\n",
       "      <td>0</td>\n",
       "      <td>[]</td>\n",
       "      <td>[]</td>\n",
       "      <td>[{'activitat': '3', 'estatMental': '0', 'humit...</td>\n",
       "      <td>[]</td>\n",
       "      <td>[{'valor': '0', 'data': '2021-09-14'}, {'valor...</td>\n",
       "      <td>[{'codi': 'C08CA', 'dataInici': '2020-11-23 00...</td>\n",
       "      <td>[{'data': '20201125131827', 'disfagia': 'S', '...</td>\n",
       "      <td>...</td>\n",
       "      <td>9.0</td>\n",
       "      <td>9.0</td>\n",
       "      <td>None</td>\n",
       "      <td>20.550000</td>\n",
       "      <td>NaN</td>\n",
       "      <td>1.0</td>\n",
       "      <td>1.0</td>\n",
       "      <td>0.0</td>\n",
       "      <td>LIQUID</td>\n",
       "      <td>BAIX</td>\n",
       "    </tr>\n",
       "    <tr>\n",
       "      <th>28</th>\n",
       "      <td>95</td>\n",
       "      <td>F</td>\n",
       "      <td>0</td>\n",
       "      <td>[{'date': '20220526', 'name': 'GLUCOSA Sèrum',...</td>\n",
       "      <td>[]</td>\n",
       "      <td>[{'activitat': '3', 'estatMental': '0', 'humit...</td>\n",
       "      <td>[]</td>\n",
       "      <td>[{'valor': '0', 'data': '2022-05-30'}]</td>\n",
       "      <td>[{'codi': 'C10AA', 'dataInici': '2020-11-18 00...</td>\n",
       "      <td>[{'data': '20220529115841', 'disfagia': 'S', '...</td>\n",
       "      <td>...</td>\n",
       "      <td>6.0</td>\n",
       "      <td>6.0</td>\n",
       "      <td>None</td>\n",
       "      <td>0.000000</td>\n",
       "      <td>NaN</td>\n",
       "      <td>0.0</td>\n",
       "      <td>0.0</td>\n",
       "      <td>0.0</td>\n",
       "      <td>LIQUID</td>\n",
       "      <td>MIG</td>\n",
       "    </tr>\n",
       "    <tr>\n",
       "      <th>29</th>\n",
       "      <td>97</td>\n",
       "      <td>F</td>\n",
       "      <td>0</td>\n",
       "      <td>[]</td>\n",
       "      <td>[]</td>\n",
       "      <td>[{'activitat': '3', 'estatMental': '2', 'humit...</td>\n",
       "      <td>[]</td>\n",
       "      <td>[]</td>\n",
       "      <td>[{'codi': 'N02BE', 'dataInici': '2020-11-30 00...</td>\n",
       "      <td>[]</td>\n",
       "      <td>...</td>\n",
       "      <td>14.0</td>\n",
       "      <td>14.0</td>\n",
       "      <td>None</td>\n",
       "      <td>NaN</td>\n",
       "      <td>NaN</td>\n",
       "      <td>NaN</td>\n",
       "      <td>NaN</td>\n",
       "      <td>NaN</td>\n",
       "      <td>None</td>\n",
       "      <td>None</td>\n",
       "    </tr>\n",
       "    <tr>\n",
       "      <th>30</th>\n",
       "      <td>83</td>\n",
       "      <td>F</td>\n",
       "      <td>0</td>\n",
       "      <td>[]</td>\n",
       "      <td>[{'imc': '', 'anorexia': '2', 'perduaPes': '3'...</td>\n",
       "      <td>[{'activitat': '0', 'estatMental': '0', 'humit...</td>\n",
       "      <td>[]</td>\n",
       "      <td>[{'valor': '71.5', 'data': '2020-12-07'}, {'va...</td>\n",
       "      <td>[{'codi': 'C08DB', 'dataInici': '2020-12-04 00...</td>\n",
       "      <td>[]</td>\n",
       "      <td>...</td>\n",
       "      <td>0.0</td>\n",
       "      <td>0.0</td>\n",
       "      <td>7.0</td>\n",
       "      <td>69.750000</td>\n",
       "      <td>NaN</td>\n",
       "      <td>NaN</td>\n",
       "      <td>NaN</td>\n",
       "      <td>NaN</td>\n",
       "      <td>None</td>\n",
       "      <td>None</td>\n",
       "    </tr>\n",
       "    <tr>\n",
       "      <th>31</th>\n",
       "      <td>89</td>\n",
       "      <td>M</td>\n",
       "      <td>0</td>\n",
       "      <td>[{'date': '20220318', 'name': 'BILIRUBINA TOTA...</td>\n",
       "      <td>[{'imc': '', 'anorexia': '', 'perduaPes': '', ...</td>\n",
       "      <td>[{'activitat': '2', 'estatMental': '1', 'humit...</td>\n",
       "      <td>[]</td>\n",
       "      <td>[{'valor': '75', 'data': '2022-01-11'}, {'valo...</td>\n",
       "      <td>[{'codi': 'C10AA', 'dataInici': '2021-12-23 00...</td>\n",
       "      <td>[{'data': '20220119101523', 'disfagia': 'N', '...</td>\n",
       "      <td>...</td>\n",
       "      <td>9.0</td>\n",
       "      <td>9.0</td>\n",
       "      <td>0.0</td>\n",
       "      <td>74.350000</td>\n",
       "      <td>NaN</td>\n",
       "      <td>0.0</td>\n",
       "      <td>0.0</td>\n",
       "      <td>0.0</td>\n",
       "      <td>LIQUID</td>\n",
       "      <td>BAIX</td>\n",
       "    </tr>\n",
       "    <tr>\n",
       "      <th>32</th>\n",
       "      <td>81</td>\n",
       "      <td>M</td>\n",
       "      <td>0</td>\n",
       "      <td>[]</td>\n",
       "      <td>[]</td>\n",
       "      <td>[{'activitat': '2', 'estatMental': '1', 'humit...</td>\n",
       "      <td>[]</td>\n",
       "      <td>[]</td>\n",
       "      <td>[{'codi': 'C10AA', 'dataInici': '2020-12-23 00...</td>\n",
       "      <td>[]</td>\n",
       "      <td>...</td>\n",
       "      <td>8.0</td>\n",
       "      <td>8.0</td>\n",
       "      <td>None</td>\n",
       "      <td>NaN</td>\n",
       "      <td>NaN</td>\n",
       "      <td>NaN</td>\n",
       "      <td>NaN</td>\n",
       "      <td>NaN</td>\n",
       "      <td>None</td>\n",
       "      <td>None</td>\n",
       "    </tr>\n",
       "    <tr>\n",
       "      <th>33</th>\n",
       "      <td>21</td>\n",
       "      <td>F</td>\n",
       "      <td>0</td>\n",
       "      <td>[]</td>\n",
       "      <td>[]</td>\n",
       "      <td>[]</td>\n",
       "      <td>[]</td>\n",
       "      <td>[]</td>\n",
       "      <td>[{'codi': 'N02BB', 'dataInici': '2020-12-18 00...</td>\n",
       "      <td>[]</td>\n",
       "      <td>...</td>\n",
       "      <td>NaN</td>\n",
       "      <td>None</td>\n",
       "      <td>None</td>\n",
       "      <td>NaN</td>\n",
       "      <td>NaN</td>\n",
       "      <td>NaN</td>\n",
       "      <td>NaN</td>\n",
       "      <td>NaN</td>\n",
       "      <td>None</td>\n",
       "      <td>None</td>\n",
       "    </tr>\n",
       "    <tr>\n",
       "      <th>34</th>\n",
       "      <td>96</td>\n",
       "      <td>F</td>\n",
       "      <td>0</td>\n",
       "      <td>[]</td>\n",
       "      <td>[{'imc': '', 'anorexia': '', 'perduaPes': '', ...</td>\n",
       "      <td>[{'activitat': '1', 'estatMental': '1', 'humit...</td>\n",
       "      <td>[]</td>\n",
       "      <td>[{'valor': '51.5', 'data': '2021-01-14'}]</td>\n",
       "      <td>[{'codi': 'N02AA', 'dataInici': '2021-01-01 00...</td>\n",
       "      <td>[]</td>\n",
       "      <td>...</td>\n",
       "      <td>6.0</td>\n",
       "      <td>6.0</td>\n",
       "      <td>0.0</td>\n",
       "      <td>51.500000</td>\n",
       "      <td>NaN</td>\n",
       "      <td>NaN</td>\n",
       "      <td>NaN</td>\n",
       "      <td>NaN</td>\n",
       "      <td>None</td>\n",
       "      <td>None</td>\n",
       "    </tr>\n",
       "    <tr>\n",
       "      <th>35</th>\n",
       "      <td>77</td>\n",
       "      <td>M</td>\n",
       "      <td>0</td>\n",
       "      <td>[]</td>\n",
       "      <td>[]</td>\n",
       "      <td>[]</td>\n",
       "      <td>[]</td>\n",
       "      <td>[]</td>\n",
       "      <td>[{'codi': 'C01AA', 'dataInici': '2021-01-09 00...</td>\n",
       "      <td>[]</td>\n",
       "      <td>...</td>\n",
       "      <td>NaN</td>\n",
       "      <td>None</td>\n",
       "      <td>None</td>\n",
       "      <td>NaN</td>\n",
       "      <td>NaN</td>\n",
       "      <td>NaN</td>\n",
       "      <td>NaN</td>\n",
       "      <td>NaN</td>\n",
       "      <td>None</td>\n",
       "      <td>None</td>\n",
       "    </tr>\n",
       "    <tr>\n",
       "      <th>36</th>\n",
       "      <td>70</td>\n",
       "      <td>M</td>\n",
       "      <td>0</td>\n",
       "      <td>[{'date': '20220309', 'name': 'GLUCOSA Sèrum',...</td>\n",
       "      <td>[]</td>\n",
       "      <td>[{'activitat': '0', 'estatMental': '0', 'humit...</td>\n",
       "      <td>[]</td>\n",
       "      <td>[]</td>\n",
       "      <td>[{'codi': 'N02BE', 'dataInici': '2021-01-11 00...</td>\n",
       "      <td>[]</td>\n",
       "      <td>...</td>\n",
       "      <td>0.0</td>\n",
       "      <td>0.0</td>\n",
       "      <td>None</td>\n",
       "      <td>NaN</td>\n",
       "      <td>NaN</td>\n",
       "      <td>NaN</td>\n",
       "      <td>NaN</td>\n",
       "      <td>NaN</td>\n",
       "      <td>None</td>\n",
       "      <td>None</td>\n",
       "    </tr>\n",
       "    <tr>\n",
       "      <th>37</th>\n",
       "      <td>86</td>\n",
       "      <td>M</td>\n",
       "      <td>0</td>\n",
       "      <td>[{'date': '20221003', 'name': 'GLUCOSA Sèrum',...</td>\n",
       "      <td>[{'imc': '', 'anorexia': '', 'perduaPes': '', ...</td>\n",
       "      <td>[{'activitat': '2', 'estatMental': '1', 'humit...</td>\n",
       "      <td>[]</td>\n",
       "      <td>[{'valor': '72', 'data': '2022-10-09'}]</td>\n",
       "      <td>[{'codi': 'G04CA', 'dataInici': '2022-09-26 00...</td>\n",
       "      <td>[{'data': '20221012122425', 'disfagia': 'S', '...</td>\n",
       "      <td>...</td>\n",
       "      <td>9.0</td>\n",
       "      <td>9.0</td>\n",
       "      <td>0.0</td>\n",
       "      <td>72.000000</td>\n",
       "      <td>NaN</td>\n",
       "      <td>1.0</td>\n",
       "      <td>0.0</td>\n",
       "      <td>1.0</td>\n",
       "      <td>NECTAR</td>\n",
       "      <td>MIG</td>\n",
       "    </tr>\n",
       "    <tr>\n",
       "      <th>38</th>\n",
       "      <td>90</td>\n",
       "      <td>M</td>\n",
       "      <td>0</td>\n",
       "      <td>[{'date': '20220809', 'name': 'GLUCOSA Sèrum',...</td>\n",
       "      <td>[]</td>\n",
       "      <td>[{'activitat': '3', 'estatMental': '0', 'humit...</td>\n",
       "      <td>[]</td>\n",
       "      <td>[]</td>\n",
       "      <td>[{'codi': 'N02BE', 'dataInici': '2022-10-27 00...</td>\n",
       "      <td>[{'data': '20221031103922', 'pacientNoColabora...</td>\n",
       "      <td>...</td>\n",
       "      <td>9.0</td>\n",
       "      <td>9.0</td>\n",
       "      <td>None</td>\n",
       "      <td>NaN</td>\n",
       "      <td>NaN</td>\n",
       "      <td>NaN</td>\n",
       "      <td>NaN</td>\n",
       "      <td>NaN</td>\n",
       "      <td>None</td>\n",
       "      <td>None</td>\n",
       "    </tr>\n",
       "    <tr>\n",
       "      <th>39</th>\n",
       "      <td>87</td>\n",
       "      <td>F</td>\n",
       "      <td>0</td>\n",
       "      <td>[{'date': '20230619', 'name': 'GLUCOSA Sèrum',...</td>\n",
       "      <td>[]</td>\n",
       "      <td>[{'activitat': '1', 'estatMental': '0', 'humit...</td>\n",
       "      <td>[]</td>\n",
       "      <td>[]</td>\n",
       "      <td>[{'codi': 'N02BE', 'dataInici': '2021-01-17 00...</td>\n",
       "      <td>[{'data': '20220111085147', 'disfagia': 'S', '...</td>\n",
       "      <td>...</td>\n",
       "      <td>4.0</td>\n",
       "      <td>4.0</td>\n",
       "      <td>None</td>\n",
       "      <td>NaN</td>\n",
       "      <td>NaN</td>\n",
       "      <td>1.0</td>\n",
       "      <td>1.0</td>\n",
       "      <td>0.0</td>\n",
       "      <td>LIQUID</td>\n",
       "      <td>MIG</td>\n",
       "    </tr>\n",
       "    <tr>\n",
       "      <th>40</th>\n",
       "      <td>96</td>\n",
       "      <td>M</td>\n",
       "      <td>0</td>\n",
       "      <td>[{'date': '20220319', 'name': 'GLUCOSA Sèrum',...</td>\n",
       "      <td>[]</td>\n",
       "      <td>[{'activitat': '1', 'estatMental': '1', 'humit...</td>\n",
       "      <td>[]</td>\n",
       "      <td>[]</td>\n",
       "      <td>[{'codi': 'G04CA', 'dataInici': '2021-01-28 00...</td>\n",
       "      <td>[]</td>\n",
       "      <td>...</td>\n",
       "      <td>5.0</td>\n",
       "      <td>5.0</td>\n",
       "      <td>None</td>\n",
       "      <td>NaN</td>\n",
       "      <td>NaN</td>\n",
       "      <td>NaN</td>\n",
       "      <td>NaN</td>\n",
       "      <td>NaN</td>\n",
       "      <td>None</td>\n",
       "      <td>None</td>\n",
       "    </tr>\n",
       "    <tr>\n",
       "      <th>41</th>\n",
       "      <td>93</td>\n",
       "      <td>F</td>\n",
       "      <td>0</td>\n",
       "      <td>[{'date': '20221013', 'name': 'GLUCOSA Sèrum',...</td>\n",
       "      <td>[]</td>\n",
       "      <td>[{'activitat': '1', 'estatMental': '1', 'humit...</td>\n",
       "      <td>[]</td>\n",
       "      <td>[{'valor': '0', 'data': '2023-06-02'}, {'valor...</td>\n",
       "      <td>[{'codi': 'C10AA', 'dataInici': '2021-02-05 00...</td>\n",
       "      <td>[{'data': '20230530155654', 'disfagia': 'S', '...</td>\n",
       "      <td>...</td>\n",
       "      <td>5.0</td>\n",
       "      <td>5.0</td>\n",
       "      <td>None</td>\n",
       "      <td>30.000000</td>\n",
       "      <td>NaN</td>\n",
       "      <td>1.0</td>\n",
       "      <td>0.0</td>\n",
       "      <td>1.0</td>\n",
       "      <td>LIQUID</td>\n",
       "      <td>BAIX</td>\n",
       "    </tr>\n",
       "    <tr>\n",
       "      <th>42</th>\n",
       "      <td>91</td>\n",
       "      <td>M</td>\n",
       "      <td>0</td>\n",
       "      <td>[]</td>\n",
       "      <td>[{'imc': '', 'anorexia': '', 'perduaPes': '', ...</td>\n",
       "      <td>[{'activitat': '3', 'estatMental': '1', 'humit...</td>\n",
       "      <td>[]</td>\n",
       "      <td>[{'valor': '', 'data': '2021-11-23'}, {'valor'...</td>\n",
       "      <td>[{'codi': 'C08CA', 'dataInici': '2021-06-28 00...</td>\n",
       "      <td>[{'data': '20210628210030', 'disfagiaConeguda'...</td>\n",
       "      <td>...</td>\n",
       "      <td>9.0</td>\n",
       "      <td>9.0</td>\n",
       "      <td>0.0</td>\n",
       "      <td>0.000000</td>\n",
       "      <td>NaN</td>\n",
       "      <td>1.0</td>\n",
       "      <td>1.0</td>\n",
       "      <td>1.0</td>\n",
       "      <td>NECTAR</td>\n",
       "      <td>BAIX</td>\n",
       "    </tr>\n",
       "    <tr>\n",
       "      <th>44</th>\n",
       "      <td>83</td>\n",
       "      <td>F</td>\n",
       "      <td>0</td>\n",
       "      <td>[{'date': '20230508', 'name': 'GLUCOSA Sèrum',...</td>\n",
       "      <td>[]</td>\n",
       "      <td>[{'activitat': '3', 'estatMental': '0', 'humit...</td>\n",
       "      <td>[]</td>\n",
       "      <td>[{'valor': '66', 'data': '2023-05-07'}, {'valo...</td>\n",
       "      <td>[{'codi': 'C09BA', 'dataInici': '2023-05-05 00...</td>\n",
       "      <td>[]</td>\n",
       "      <td>...</td>\n",
       "      <td>7.0</td>\n",
       "      <td>7.0</td>\n",
       "      <td>None</td>\n",
       "      <td>65.050000</td>\n",
       "      <td>NaN</td>\n",
       "      <td>NaN</td>\n",
       "      <td>NaN</td>\n",
       "      <td>NaN</td>\n",
       "      <td>None</td>\n",
       "      <td>None</td>\n",
       "    </tr>\n",
       "    <tr>\n",
       "      <th>45</th>\n",
       "      <td>85</td>\n",
       "      <td>M</td>\n",
       "      <td>0</td>\n",
       "      <td>[{'date': '20220330', 'name': 'GLUCOSA Sèrum',...</td>\n",
       "      <td>[{'imc': '', 'anorexia': '', 'perduaPes': '', ...</td>\n",
       "      <td>[{'activitat': '3', 'estatMental': '1', 'humit...</td>\n",
       "      <td>[]</td>\n",
       "      <td>[{'valor': '0', 'data': '2023-04-28'}]</td>\n",
       "      <td>[{'codi': 'G04CA', 'dataInici': '2021-03-21 00...</td>\n",
       "      <td>[{'data': '20210323123919', 'disfagia': 'S', '...</td>\n",
       "      <td>...</td>\n",
       "      <td>11.0</td>\n",
       "      <td>11.0</td>\n",
       "      <td>0.0</td>\n",
       "      <td>0.000000</td>\n",
       "      <td>NaN</td>\n",
       "      <td>1.0</td>\n",
       "      <td>1.0</td>\n",
       "      <td>1.0</td>\n",
       "      <td>PUDING</td>\n",
       "      <td>BAIX</td>\n",
       "    </tr>\n",
       "    <tr>\n",
       "      <th>46</th>\n",
       "      <td>86</td>\n",
       "      <td>M</td>\n",
       "      <td>0</td>\n",
       "      <td>[]</td>\n",
       "      <td>[]</td>\n",
       "      <td>[{'activitat': '3', 'estatMental': '1', 'humit...</td>\n",
       "      <td>[]</td>\n",
       "      <td>[{'valor': '55.1', 'data': '2021-03-21'}]</td>\n",
       "      <td>[{'codi': 'G04CA', 'dataInici': '2021-03-20 00...</td>\n",
       "      <td>[{'data': '20210721140136', 'disfagia': 'S', '...</td>\n",
       "      <td>...</td>\n",
       "      <td>10.0</td>\n",
       "      <td>10.0</td>\n",
       "      <td>None</td>\n",
       "      <td>55.100000</td>\n",
       "      <td>NaN</td>\n",
       "      <td>1.0</td>\n",
       "      <td>1.0</td>\n",
       "      <td>1.0</td>\n",
       "      <td>PUDING</td>\n",
       "      <td>MIG</td>\n",
       "    </tr>\n",
       "    <tr>\n",
       "      <th>47</th>\n",
       "      <td>94</td>\n",
       "      <td>M</td>\n",
       "      <td>0</td>\n",
       "      <td>[]</td>\n",
       "      <td>[]</td>\n",
       "      <td>[{'activitat': '3', 'estatMental': '1', 'humit...</td>\n",
       "      <td>[]</td>\n",
       "      <td>[]</td>\n",
       "      <td>[{'codi': 'C09AA', 'dataInici': '2021-03-23 00...</td>\n",
       "      <td>[{'data': '20210325091551', 'disfagia': 'S', '...</td>\n",
       "      <td>...</td>\n",
       "      <td>9.0</td>\n",
       "      <td>9.0</td>\n",
       "      <td>None</td>\n",
       "      <td>NaN</td>\n",
       "      <td>NaN</td>\n",
       "      <td>1.0</td>\n",
       "      <td>0.0</td>\n",
       "      <td>1.0</td>\n",
       "      <td>LIQUID</td>\n",
       "      <td>BAIX</td>\n",
       "    </tr>\n",
       "    <tr>\n",
       "      <th>48</th>\n",
       "      <td>90</td>\n",
       "      <td>M</td>\n",
       "      <td>0</td>\n",
       "      <td>[{'date': '20220303', 'name': 'GLUCOSA Sèrum',...</td>\n",
       "      <td>[]</td>\n",
       "      <td>[{'activitat': '3', 'estatMental': '0', 'humit...</td>\n",
       "      <td>[]</td>\n",
       "      <td>[{'valor': '90', 'data': '2021-03-30'}, {'valo...</td>\n",
       "      <td>[{'codi': 'G04CA', 'dataInici': '2021-03-25 00...</td>\n",
       "      <td>[{'data': '20210330124628', 'disfagia': 'N', '...</td>\n",
       "      <td>...</td>\n",
       "      <td>10.0</td>\n",
       "      <td>10.0</td>\n",
       "      <td>None</td>\n",
       "      <td>81.666667</td>\n",
       "      <td>NaN</td>\n",
       "      <td>1.0</td>\n",
       "      <td>1.0</td>\n",
       "      <td>1.0</td>\n",
       "      <td>NECTAR</td>\n",
       "      <td>MIG</td>\n",
       "    </tr>\n",
       "    <tr>\n",
       "      <th>49</th>\n",
       "      <td>73</td>\n",
       "      <td>F</td>\n",
       "      <td>0</td>\n",
       "      <td>[{'date': '20220307', 'name': 'pH/arterial', '...</td>\n",
       "      <td>[{'imc': '3', 'anorexia': '1', 'perduaPes': '1...</td>\n",
       "      <td>[{'activitat': '3', 'estatMental': '0', 'humit...</td>\n",
       "      <td>[]</td>\n",
       "      <td>[{'valor': '143.200', 'data': '2021-09-17'}, {...</td>\n",
       "      <td>[{'codi': 'C10AA', 'dataInici': '2021-08-14 00...</td>\n",
       "      <td>[{'data': '20211216113742', 'disfagia': 'N', '...</td>\n",
       "      <td>...</td>\n",
       "      <td>11.0</td>\n",
       "      <td>11.0</td>\n",
       "      <td>18.5</td>\n",
       "      <td>133.214286</td>\n",
       "      <td>NaN</td>\n",
       "      <td>0.0</td>\n",
       "      <td>0.0</td>\n",
       "      <td>0.0</td>\n",
       "      <td>LIQUID</td>\n",
       "      <td>ALT</td>\n",
       "    </tr>\n",
       "  </tbody>\n",
       "</table>\n",
       "<p>49 rows × 33 columns</p>\n",
       "</div>"
      ]
     },
     "execution_count": 172,
     "metadata": {},
     "output_type": "execute_result"
    }
   ],
   "execution_count": 172
  },
  {
   "metadata": {},
   "cell_type": "markdown",
   "source": "Sin aplicar la ultima condicion OR, es decir, queriendo nos devuelva solo las filas que cumplan las 3 condiciones, nos devuelve la: 4, 25, 42, 45 y 48. Sino, nos devuelve todas menos la 43, la cual no tiene un diagnostico de pneumonia.",
   "id": "cd5fadcecebd554d"
  },
  {
   "metadata": {},
   "cell_type": "markdown",
   "source": "Ahora que he distribuido los datos en 3 grupos, puedo empezar a analizar su contenido\n",
   "id": "263c2b8c090f6f10"
  },
  {
   "metadata": {},
   "cell_type": "markdown",
   "source": "## Número",
   "id": "de24374f27e143a3"
  },
  {
   "metadata": {
    "ExecuteTime": {
     "end_time": "2024-04-12T09:12:37.654147Z",
     "start_time": "2024-04-12T09:12:37.644458Z"
    }
   },
   "cell_type": "code",
   "source": [
    "num_CON_PA = len(CON_PA)\n",
    "num_CON_PA_MECVV= len(CON_PA_MECVV)\n",
    "num_SIN_PA = len(SIN_PA)\n",
    "\n",
    "print(num_CON_PA, num_CON_PA_MECVV, num_SIN_PA)"
   ],
   "id": "b1daff0f4c5e68b3",
   "outputs": [
    {
     "name": "stdout",
     "output_type": "stream",
     "text": [
      "17 10 49\n"
     ]
    }
   ],
   "execution_count": 173
  },
  {
   "metadata": {},
   "cell_type": "markdown",
   "source": "Esto también se puede ver con tan solo mirar las filas que han salido en el apartado anterior, donde vemos que la tabla de CON_PA tiene 17 filas, la de CON_PA_MECVV tiene 10 y la de SIN_PA tiene 49.",
   "id": "8b5e025c0f62a042"
  },
  {
   "metadata": {},
   "cell_type": "markdown",
   "source": "#### Pvalor",
   "id": "d1353b7869144ecd"
  },
  {
   "metadata": {
    "ExecuteTime": {
     "end_time": "2024-04-12T09:12:37.669256Z",
     "start_time": "2024-04-12T09:12:37.654147Z"
    }
   },
   "cell_type": "code",
   "source": [
    "z_stat, p_val = proportions_ztest(num_CON_PA, num_CON_PA_MECVV, value=0)\n",
    "print(\"P-value para CON_PA vs CON_PA_MECVV:\", p_val)\n",
    "#TODO: es incorrecto?"
   ],
   "id": "82884437b8401720",
   "outputs": [
    {
     "name": "stdout",
     "output_type": "stream",
     "text": [
      "P-value para CON_PA vs CON_PA_MECVV: nan\n"
     ]
    },
    {
     "name": "stderr",
     "output_type": "stream",
     "text": [
      "C:\\Users\\maria\\PycharmProjects\\practicum\\.venv\\Lib\\site-packages\\statsmodels\\stats\\proportion.py:1025: RuntimeWarning: invalid value encountered in sqrt\n",
      "  std_diff = np.sqrt(var_)\n"
     ]
    }
   ],
   "execution_count": 174
  },
  {
   "metadata": {
    "ExecuteTime": {
     "end_time": "2024-04-12T09:12:37.686629Z",
     "start_time": "2024-04-12T09:12:37.673519Z"
    }
   },
   "cell_type": "code",
   "source": [
    "z_stat, p_val = proportions_ztest(num_CON_PA, num_SIN_PA, value=0)\n",
    "print(\"P-value para CON_PA vs SIN_PA:\", p_val)"
   ],
   "id": "1614fa7073c8d466",
   "outputs": [
    {
     "name": "stdout",
     "output_type": "stream",
     "text": [
      "P-value para CON_PA vs SIN_PA: 3.359355153724907e-07\n"
     ]
    }
   ],
   "execution_count": 175
  },
  {
   "metadata": {
    "ExecuteTime": {
     "end_time": "2024-04-12T09:12:37.698871Z",
     "start_time": "2024-04-12T09:12:37.687261Z"
    }
   },
   "cell_type": "code",
   "source": [
    "z_stat, p_val = proportions_ztest(num_CON_PA_MECVV, num_SIN_PA, value=0)\n",
    "print(\"P-value para CON_PA_MECVV vs SIN_PA:\", p_val)"
   ],
   "id": "c41712683d41665e",
   "outputs": [
    {
     "name": "stdout",
     "output_type": "stream",
     "text": [
      "P-value para CON_PA_MECVV vs SIN_PA: 0.0003932275362231457\n"
     ]
    }
   ],
   "execution_count": 176
  },
  {
   "metadata": {},
   "cell_type": "markdown",
   "source": "## Edat",
   "id": "6dffa2bdf3f2d9b7"
  },
  {
   "metadata": {
    "ExecuteTime": {
     "end_time": "2024-04-12T09:12:37.972293Z",
     "start_time": "2024-04-12T09:12:37.963553Z"
    }
   },
   "cell_type": "code",
   "source": [
    "edad_CON_PA = CON_PA['edat'].mean()\n",
    "desviacion_estandar_edad = CON_PA['edat'].std()\n",
    "\n",
    "resultado = f\"{edad_CON_PA:.2f} ± {desviacion_estandar_edad:.2f}\"\n",
    "print(\"Promedio ± Desviación Estándar de la Edad:\", resultado)\n"
   ],
   "id": "41c75a84cd8aa55b",
   "outputs": [
    {
     "name": "stdout",
     "output_type": "stream",
     "text": [
      "Promedio ± Desviación Estándar de la Edad: 87.06 ± 8.99\n"
     ]
    }
   ],
   "execution_count": 177
  },
  {
   "metadata": {
    "ExecuteTime": {
     "end_time": "2024-04-12T09:12:38.034997Z",
     "start_time": "2024-04-12T09:12:38.023864Z"
    }
   },
   "cell_type": "code",
   "source": [
    "edad_CON_PA_MECVV = CON_PA_MECVV['edat'].mean()\n",
    "desviacion_estandar_edad = CON_PA_MECVV['edat'].std()\n",
    "\n",
    "resultado = f\"{edad_CON_PA_MECVV:.2f} ± {desviacion_estandar_edad:.2f}\"\n",
    "print(\"Promedio ± Desviación Estándar de la Edad:\", resultado)"
   ],
   "id": "828a733cc06db987",
   "outputs": [
    {
     "name": "stdout",
     "output_type": "stream",
     "text": [
      "Promedio ± Desviación Estándar de la Edad: 88.90 ± 8.67\n"
     ]
    }
   ],
   "execution_count": 178
  },
  {
   "metadata": {
    "ExecuteTime": {
     "end_time": "2024-04-12T09:12:38.866543Z",
     "start_time": "2024-04-12T09:12:38.853694Z"
    }
   },
   "cell_type": "code",
   "source": [
    "edad_SIN_PA = SIN_PA['edat'].mean()\n",
    "desviacion_estandar_edad = SIN_PA['edat'].std()\n",
    "\n",
    "resultado = f\"{edad_SIN_PA:.2f} ± {desviacion_estandar_edad:.2f}\"\n",
    "print(\"Promedio ± Desviación Estándar de la Edad:\", resultado)"
   ],
   "id": "a67a8021e9b1dbb4",
   "outputs": [
    {
     "name": "stdout",
     "output_type": "stream",
     "text": [
      "Promedio ± Desviación Estándar de la Edad: 80.12 ± 17.01\n"
     ]
    }
   ],
   "execution_count": 179
  },
  {
   "metadata": {},
   "cell_type": "markdown",
   "source": "#### Pvalor",
   "id": "6ab4f09b5204e007"
  },
  {
   "metadata": {
    "ExecuteTime": {
     "end_time": "2024-04-12T09:12:39.115068Z",
     "start_time": "2024-04-12T09:12:39.103614Z"
    }
   },
   "cell_type": "code",
   "source": [
    "t_stat_12, p_val_12 = ttest_ind(CON_PA['edat'], CON_PA_MECVV['edat'], equal_var=False)\n",
    "print(\"P-valor entre CON_PA y CON_PA_MECVV:\", p_val_12)\n"
   ],
   "id": "29fe897576a9b6a1",
   "outputs": [
    {
     "name": "stdout",
     "output_type": "stream",
     "text": [
      "P-valor entre CON_PA y CON_PA_MECVV: 0.6051223082851969\n"
     ]
    }
   ],
   "execution_count": 180
  },
  {
   "metadata": {
    "ExecuteTime": {
     "end_time": "2024-04-12T09:12:39.597381Z",
     "start_time": "2024-04-12T09:12:39.584035Z"
    }
   },
   "cell_type": "code",
   "source": [
    "t_stat_13, p_val_13 = ttest_ind(CON_PA['edat'], SIN_PA['edat'], equal_var=False)\n",
    "print(\"P-valor entre CON_PA y SIN_PA\", p_val_13)"
   ],
   "id": "6718e803d0c6be72",
   "outputs": [
    {
     "name": "stdout",
     "output_type": "stream",
     "text": [
      "P-valor entre CON_PA y SIN_PA 0.038275970403095716\n"
     ]
    }
   ],
   "execution_count": 181
  },
  {
   "metadata": {
    "ExecuteTime": {
     "end_time": "2024-04-12T09:12:39.748024Z",
     "start_time": "2024-04-12T09:12:39.738546Z"
    }
   },
   "cell_type": "code",
   "source": [
    "t_stat_23, p_val_23 = ttest_ind(CON_PA_MECVV['edat'], SIN_PA['edat'], equal_var=False)\n",
    "print(\"P-valor entre CON_PA_MECVV y SIN_PA:\", p_val_23)"
   ],
   "id": "22054ca113138c47",
   "outputs": [
    {
     "name": "stdout",
     "output_type": "stream",
     "text": [
      "P-valor entre CON_PA_MECVV y SIN_PA: 0.024173860274705212\n"
     ]
    }
   ],
   "execution_count": 182
  },
  {
   "metadata": {},
   "cell_type": "markdown",
   "source": "## Sexe",
   "id": "2e3346df121a556b"
  },
  {
   "metadata": {
    "ExecuteTime": {
     "end_time": "2024-04-12T09:12:40.061420Z",
     "start_time": "2024-04-12T09:12:40.053641Z"
    }
   },
   "cell_type": "code",
   "source": [
    "sexe_CON_PA = CON_PA['sexe'].value_counts()\n",
    "sexe_CON_PA_MECVV = CON_PA_MECVV['sexe'].value_counts()\n",
    "sexe_SIN_PA = SIN_PA['sexe'].value_counts()"
   ],
   "id": "5a08f966e1e21272",
   "outputs": [],
   "execution_count": 183
  },
  {
   "metadata": {
    "ExecuteTime": {
     "end_time": "2024-04-12T09:12:40.240488Z",
     "start_time": "2024-04-12T09:12:40.233897Z"
    }
   },
   "cell_type": "code",
   "source": [
    "if 'F' in sexe_CON_PA:\n",
    "    percent_female1 = (sexe_CON_PA['F'] / len(CON_PA)) * 100\n",
    "    print(f\"Porcentaje de sexo femenino en CON_PA: {percent_female1:.2f}%\")\n",
    "else:\n",
    "    print(\"No hay datos de sexo femenino en el CON_PA\")"
   ],
   "id": "364e8eeea9fca3bb",
   "outputs": [
    {
     "name": "stdout",
     "output_type": "stream",
     "text": [
      "Porcentaje de sexo femenino en CON_PA: 47.06%\n"
     ]
    }
   ],
   "execution_count": 184
  },
  {
   "metadata": {
    "ExecuteTime": {
     "end_time": "2024-04-12T09:12:40.511033Z",
     "start_time": "2024-04-12T09:12:40.503437Z"
    }
   },
   "cell_type": "code",
   "source": [
    "if 'F' in sexe_CON_PA_MECVV:\n",
    "    percent_female2 = (sexe_CON_PA_MECVV['F'] / len(CON_PA)) * 100\n",
    "    print(f\"Porcentaje de sexo femenino en DataFrame 2: {percent_female2:.2f}%\")\n",
    "else:\n",
    "    print(\"No hay datos de sexo femenino en el DataFrame 2.\")"
   ],
   "id": "5d2a1124b7cdd9c2",
   "outputs": [
    {
     "name": "stdout",
     "output_type": "stream",
     "text": [
      "Porcentaje de sexo femenino en DataFrame 2: 23.53%\n"
     ]
    }
   ],
   "execution_count": 185
  },
  {
   "metadata": {
    "ExecuteTime": {
     "end_time": "2024-04-12T09:12:40.718393Z",
     "start_time": "2024-04-12T09:12:40.708520Z"
    }
   },
   "cell_type": "code",
   "source": [
    "if 'F' in sexe_SIN_PA:\n",
    "    percent_female3 = (sexe_SIN_PA['F'] / len(SIN_PA)) * 100\n",
    "    print(f\"Porcentaje de sexo femenino en DataFrame 3: {percent_female3:.2f}%\")\n",
    "else:\n",
    "    print(\"No hay datos de sexo femenino en el DataFrame 3.\")\n"
   ],
   "id": "746275e55a2b6409",
   "outputs": [
    {
     "name": "stdout",
     "output_type": "stream",
     "text": [
      "Porcentaje de sexo femenino en DataFrame 3: 34.69%\n"
     ]
    }
   ],
   "execution_count": 186
  },
  {
   "metadata": {},
   "cell_type": "markdown",
   "source": "#### Pvalor",
   "id": "cc6603074e3e5cc9"
  },
  {
   "metadata": {
    "ExecuteTime": {
     "end_time": "2024-04-12T09:12:40.989847Z",
     "start_time": "2024-04-12T09:12:40.983479Z"
    }
   },
   "cell_type": "code",
   "source": [
    "persexe_CON_PA = 47.06\n",
    "persexe_CON_PA_MECVV = 23.53\n",
    "persexe_SIN_PA= 34.69"
   ],
   "id": "cb77cb462d22c468",
   "outputs": [],
   "execution_count": 187
  },
  {
   "metadata": {
    "ExecuteTime": {
     "end_time": "2024-04-12T09:12:41.149156Z",
     "start_time": "2024-04-12T09:12:41.143953Z"
    }
   },
   "cell_type": "code",
   "source": [
    "z_stat, p_val = proportions_ztest([47.06, 23.53], [100, 100])\n",
    "print(\"P-value para CON_PA vs CON_PA_MECVV:\", p_val)"
   ],
   "id": "5d1c889e1fc9837c",
   "outputs": [
    {
     "name": "stdout",
     "output_type": "stream",
     "text": [
      "P-value para CON_PA vs CON_PA_MECVV: 0.0004983897114131808\n"
     ]
    }
   ],
   "execution_count": 188
  },
  {
   "metadata": {
    "ExecuteTime": {
     "end_time": "2024-04-12T09:12:41.433896Z",
     "start_time": "2024-04-12T09:12:41.393629Z"
    }
   },
   "cell_type": "code",
   "source": [
    "z_stat, p_val = proportions_ztest([47.06, 34.69], [100, 100])\n",
    "print(\"P-value para CON_PA vs SIN_PA:\", p_val)"
   ],
   "id": "35bb563aa960dd8f",
   "outputs": [
    {
     "name": "stdout",
     "output_type": "stream",
     "text": [
      "P-value para CON_PA vs SIN_PA: 0.0751965905655568\n"
     ]
    }
   ],
   "execution_count": 189
  },
  {
   "metadata": {
    "ExecuteTime": {
     "end_time": "2024-04-12T09:12:41.612962Z",
     "start_time": "2024-04-12T09:12:41.603735Z"
    }
   },
   "cell_type": "code",
   "source": [
    "z_stat, p_val = proportions_ztest([23.53, 34.69], [100, 100])\n",
    "print(\"P-value para CON_PA_MECVV vs SIN_PA:\", p_val)"
   ],
   "id": "fafd2291c2055566",
   "outputs": [
    {
     "name": "stdout",
     "output_type": "stream",
     "text": [
      "P-value para CON_PA_MECVV vs SIN_PA: 0.08236190815486331\n"
     ]
    }
   ],
   "execution_count": 190
  },
  {
   "metadata": {},
   "cell_type": "markdown",
   "source": "## Ingressos",
   "id": "7c1a4264ca854c74"
  },
  {
   "metadata": {
    "ExecuteTime": {
     "end_time": "2024-04-12T09:12:41.873463Z",
     "start_time": "2024-04-12T09:12:41.866898Z"
    }
   },
   "cell_type": "code",
   "source": [
    "promedio_ingresos = CON_PA['Num_ingresos'].mean()\n",
    "desviacion_estandar_ingresos = CON_PA['Num_ingresos'].std()\n",
    "\n",
    "resultado = f\"{promedio_ingresos:.2f} ± {desviacion_estandar_ingresos:.2f}\"\n",
    "print(\"Promedio ± Desviación Estándar del Número de Ingresos:\", resultado)"
   ],
   "id": "77af35e4e03f23da",
   "outputs": [
    {
     "name": "stdout",
     "output_type": "stream",
     "text": [
      "Promedio ± Desviación Estándar del Número de Ingresos: 5.59 ± 3.37\n"
     ]
    }
   ],
   "execution_count": 191
  },
  {
   "metadata": {
    "ExecuteTime": {
     "end_time": "2024-04-12T09:12:42.168669Z",
     "start_time": "2024-04-12T09:12:42.158508Z"
    }
   },
   "cell_type": "code",
   "source": [
    "promedio_ingresos = CON_PA_MECVV['Num_ingresos'].mean()\n",
    "desviacion_estandar_ingresos = CON_PA_MECVV['Num_ingresos'].std()\n",
    "\n",
    "resultado = f\"{promedio_ingresos:.2f} ± {desviacion_estandar_ingresos:.2f}\"\n",
    "print(\"Promedio ± Desviación Estándar del Número de Ingresos:\", resultado)"
   ],
   "id": "d08d059cd8a8944a",
   "outputs": [
    {
     "name": "stdout",
     "output_type": "stream",
     "text": [
      "Promedio ± Desviación Estándar del Número de Ingresos: 5.90 ± 2.08\n"
     ]
    }
   ],
   "execution_count": 192
  },
  {
   "metadata": {
    "ExecuteTime": {
     "end_time": "2024-04-12T09:12:42.290800Z",
     "start_time": "2024-04-12T09:12:42.283995Z"
    }
   },
   "cell_type": "code",
   "source": [
    "promedio_ingresos = SIN_PA['Num_ingresos'].mean()\n",
    "desviacion_estandar_ingresos = SIN_PA['Num_ingresos'].std()\n",
    "\n",
    "resultado = f\"{promedio_ingresos:.2f} ± {desviacion_estandar_ingresos:.2f}\"\n",
    "print(\"Promedio ± Desviación Estándar del Número de Ingresos:\", resultado)"
   ],
   "id": "b0470d00ca90048b",
   "outputs": [
    {
     "name": "stdout",
     "output_type": "stream",
     "text": [
      "Promedio ± Desviación Estándar del Número de Ingresos: 6.69 ± 5.13\n"
     ]
    }
   ],
   "execution_count": 193
  },
  {
   "metadata": {},
   "cell_type": "markdown",
   "source": "#### Pvalor",
   "id": "ac26e96d348c2e2"
  },
  {
   "metadata": {
    "ExecuteTime": {
     "end_time": "2024-04-12T09:12:42.553264Z",
     "start_time": "2024-04-12T09:12:42.543682Z"
    }
   },
   "cell_type": "code",
   "source": [
    "#ANOVA \n",
    "ingresos_CON_PA = CON_PA['Num_ingresos']\n",
    "ingresos_CON_PA_MECVV = CON_PA_MECVV['Num_ingresos']\n",
    "ingresos_SIN_PA = SIN_PA['Num_ingresos']\n",
    "\n",
    "f_stat, p_valor = stats.f_oneway(ingresos_CON_PA, ingresos_CON_PA_MECVV)\n",
    "\n",
    "print(\"Estadística F:\", f_stat)\n",
    "print(\"Valor p:\", p_valor)\n",
    "\n",
    "# Interpretación del resultado\n",
    "alpha = 0.05\n",
    "if p_valor < alpha:\n",
    "    print(\"Hay diferencias significativas entre los grupos.\")\n",
    "else:\n",
    "    print(\"No hay diferencias significativas entre los grupos.\")"
   ],
   "id": "15a05487811ddfdd",
   "outputs": [
    {
     "name": "stdout",
     "output_type": "stream",
     "text": [
      "Estadística F: 0.06922327005897648\n",
      "Valor p: 0.7946273649012201\n",
      "No hay diferencias significativas entre los grupos.\n"
     ]
    }
   ],
   "execution_count": 194
  },
  {
   "metadata": {
    "ExecuteTime": {
     "end_time": "2024-04-12T09:12:43.206223Z",
     "start_time": "2024-04-12T09:12:42.733730Z"
    }
   },
   "cell_type": "code",
   "source": [
    "#Tukey\n",
    "#TODO: es incorrecto?\n",
    "CON_PA['grupo'] = 'CON_PA'\n",
    "CON_PA_MECVV['grupo'] = 'CON_PA_MECVV'\n",
    "SIN_PA['grupo'] = 'SIN_PA'\n",
    "\n",
    "data = pd.concat([CON_PA, CON_PA_MECVV, SIN_PA], ignore_index=True)\n",
    "\n",
    "# Realizar el test de Tukey solo si hay al menos dos grupos con datos\n",
    "if len(data['grupo'].unique()) >= 2:\n",
    "    # Realizar el test de Tukey\n",
    "    tukey_results = pairwise_tukeyhsd(data['Num_ingresos'], data['grupo'], alpha=0.05)\n",
    "    print(tukey_results)\n",
    "else:\n",
    "    print(\"Se requieren al menos dos grupos con datos para realizar comparaciones múltiples.\")\n"
   ],
   "id": "96b96b7acaae9927",
   "outputs": [
    {
     "name": "stderr",
     "output_type": "stream",
     "text": [
      "C:\\Users\\maria\\AppData\\Local\\Temp\\ipykernel_10288\\1477159889.py:3: SettingWithCopyWarning: \n",
      "A value is trying to be set on a copy of a slice from a DataFrame.\n",
      "Try using .loc[row_indexer,col_indexer] = value instead\n",
      "\n",
      "See the caveats in the documentation: https://pandas.pydata.org/pandas-docs/stable/user_guide/indexing.html#returning-a-view-versus-a-copy\n",
      "  CON_PA['grupo'] = 'CON_PA'\n",
      "C:\\Users\\maria\\AppData\\Local\\Temp\\ipykernel_10288\\1477159889.py:4: SettingWithCopyWarning: \n",
      "A value is trying to be set on a copy of a slice from a DataFrame.\n",
      "Try using .loc[row_indexer,col_indexer] = value instead\n",
      "\n",
      "See the caveats in the documentation: https://pandas.pydata.org/pandas-docs/stable/user_guide/indexing.html#returning-a-view-versus-a-copy\n",
      "  CON_PA_MECVV['grupo'] = 'CON_PA_MECVV'\n",
      "C:\\Users\\maria\\AppData\\Local\\Temp\\ipykernel_10288\\1477159889.py:5: SettingWithCopyWarning: \n",
      "A value is trying to be set on a copy of a slice from a DataFrame.\n",
      "Try using .loc[row_indexer,col_indexer] = value instead\n",
      "\n",
      "See the caveats in the documentation: https://pandas.pydata.org/pandas-docs/stable/user_guide/indexing.html#returning-a-view-versus-a-copy\n",
      "  SIN_PA['grupo'] = 'SIN_PA'\n"
     ]
    },
    {
     "name": "stdout",
     "output_type": "stream",
     "text": [
      "      Multiple Comparison of Means - Tukey HSD, FWER=0.05      \n",
      "===============================================================\n",
      "   group1       group2    meandiff p-adj   lower  upper  reject\n",
      "---------------------------------------------------------------\n",
      "      CON_PA CON_PA_MECVV   0.3118 0.9836 -3.9892 4.6127  False\n",
      "      CON_PA       SIN_PA   1.1056 0.6603 -1.9321 4.1434  False\n",
      "CON_PA_MECVV       SIN_PA   0.7939 0.8681  -2.951 4.5387  False\n",
      "---------------------------------------------------------------\n"
     ]
    }
   ],
   "execution_count": 195
  },
  {
   "metadata": {
    "ExecuteTime": {
     "end_time": "2024-04-12T09:12:43.214355Z",
     "start_time": "2024-04-12T09:12:43.206223Z"
    }
   },
   "cell_type": "code",
   "source": "#T-test",
   "id": "549e8f1ce3e357e6",
   "outputs": [],
   "execution_count": 196
  },
  {
   "metadata": {
    "ExecuteTime": {
     "end_time": "2024-04-12T09:12:43.272705Z",
     "start_time": "2024-04-12T09:12:43.263762Z"
    }
   },
   "cell_type": "code",
   "source": [
    "t_stat_12, p_val_12 = ttest_ind(CON_PA['Num_ingresos'], CON_PA_MECVV['Num_ingresos'], equal_var=False)\n",
    "print(\"P-valor entre CON_PA y CON_PA_MECVV:\", p_val_12)"
   ],
   "id": "e1a40734a30212e5",
   "outputs": [
    {
     "name": "stdout",
     "output_type": "stream",
     "text": [
      "P-valor entre CON_PA y CON_PA_MECVV: 0.7689185970171732\n"
     ]
    }
   ],
   "execution_count": 197
  },
  {
   "metadata": {
    "ExecuteTime": {
     "end_time": "2024-04-12T09:12:43.483044Z",
     "start_time": "2024-04-12T09:12:43.474458Z"
    }
   },
   "cell_type": "code",
   "source": [
    "t_stat_13, p_val_13 = ttest_ind(CON_PA['Num_ingresos'], SIN_PA['Num_ingresos'], equal_var=False)\n",
    "print(\"P-valor entre CON_PA y SIN_PA:\", p_val_13)"
   ],
   "id": "f2655db5e10960da",
   "outputs": [
    {
     "name": "stdout",
     "output_type": "stream",
     "text": [
      "P-valor entre CON_PA y SIN_PA: 0.3199162306439434\n"
     ]
    }
   ],
   "execution_count": 198
  },
  {
   "metadata": {
    "ExecuteTime": {
     "end_time": "2024-04-12T09:12:43.782991Z",
     "start_time": "2024-04-12T09:12:43.773508Z"
    }
   },
   "cell_type": "code",
   "source": [
    "t_stat_23, p_val_23 = ttest_ind(CON_PA_MECVV['Num_ingresos'], SIN_PA['Num_ingresos'], equal_var=False)\n",
    "print(\"P-valor entre CON_PA_MECVV y SIN_PA:\", p_val_23)"
   ],
   "id": "b130ccb4c5b7e332",
   "outputs": [
    {
     "name": "stdout",
     "output_type": "stream",
     "text": [
      "P-valor entre CON_PA_MECVV y SIN_PA: 0.4255873112788504\n"
     ]
    }
   ],
   "execution_count": 199
  },
  {
   "metadata": {},
   "cell_type": "markdown",
   "source": "## Disfàgia (ICD de disfàgia)",
   "id": "d46472f25d1ea9ab"
  },
  {
   "metadata": {
    "ExecuteTime": {
     "end_time": "2024-04-12T09:12:43.943522Z",
     "start_time": "2024-04-12T09:12:43.933722Z"
    }
   },
   "cell_type": "code",
   "source": [
    "disf_CON_PA= (CON_PA['DO_diagnosticada'] == 1.0).mean() * 100\n",
    "print(f\"Porcentaje de disfagia: {disf_CON_PA:.2f}%\")"
   ],
   "id": "1158733fe7259d75",
   "outputs": [
    {
     "name": "stdout",
     "output_type": "stream",
     "text": [
      "Porcentaje de disfagia: 47.06%\n"
     ]
    }
   ],
   "execution_count": 200
  },
  {
   "metadata": {
    "ExecuteTime": {
     "end_time": "2024-04-12T09:12:44.219596Z",
     "start_time": "2024-04-12T09:12:44.213288Z"
    }
   },
   "cell_type": "code",
   "source": [
    "disf_CON_PA_MECVV = (CON_PA_MECVV['DO_diagnosticada'] == 1.0).mean() * 100\n",
    "print(f\"Porcentaje de disfagia: {disf_CON_PA_MECVV:.2f}%\")"
   ],
   "id": "4105ce4e231d0853",
   "outputs": [
    {
     "name": "stdout",
     "output_type": "stream",
     "text": [
      "Porcentaje de disfagia: 30.00%\n"
     ]
    }
   ],
   "execution_count": 201
  },
  {
   "metadata": {
    "ExecuteTime": {
     "end_time": "2024-04-12T09:12:44.388749Z",
     "start_time": "2024-04-12T09:12:44.383736Z"
    }
   },
   "cell_type": "code",
   "source": [
    "disf_SIN_PA= (SIN_PA['DO_diagnosticada'] == 1.0).mean() * 100\n",
    "print(f\"Porcentaje de disfagia: {disf_SIN_PA:.2f}%\")"
   ],
   "id": "66a1da5f6068ce03",
   "outputs": [
    {
     "name": "stdout",
     "output_type": "stream",
     "text": [
      "Porcentaje de disfagia: 18.37%\n"
     ]
    }
   ],
   "execution_count": 202
  },
  {
   "metadata": {},
   "cell_type": "markdown",
   "source": "#### Pvalor",
   "id": "b7f1a5636f342b1b"
  },
  {
   "metadata": {
    "ExecuteTime": {
     "end_time": "2024-04-12T09:12:44.666357Z",
     "start_time": "2024-04-12T09:12:44.653642Z"
    }
   },
   "cell_type": "code",
   "source": [
    "t_stat_12, p_val_12 = ttest_ind(CON_PA['DO_diagnosticada'] == 1.0, CON_PA_MECVV['DO_diagnosticada'] == 1.0, equal_var=False)\n",
    "print(\"P-valor entre CON_PA y CON_PA_MECVV:\", p_val_12)"
   ],
   "id": "b7250148750bd0ec",
   "outputs": [
    {
     "name": "stdout",
     "output_type": "stream",
     "text": [
      "P-valor entre CON_PA y CON_PA_MECVV: 0.3973619011700509\n"
     ]
    }
   ],
   "execution_count": 203
  },
  {
   "metadata": {
    "ExecuteTime": {
     "end_time": "2024-04-12T09:12:44.802906Z",
     "start_time": "2024-04-12T09:12:44.793630Z"
    }
   },
   "cell_type": "code",
   "source": [
    "t_stat_13, p_val_13 = ttest_ind(CON_PA['DO_diagnosticada'] == 1.0, SIN_PA['Num_ingresos'] == 1.0, equal_var=False)\n",
    "print(\"P-valor entre CON_PA y SIN_PA:\", p_val_13)"
   ],
   "id": "18de486110d234f4",
   "outputs": [
    {
     "name": "stdout",
     "output_type": "stream",
     "text": [
      "P-valor entre CON_PA y SIN_PA: 0.0016711485988959095\n"
     ]
    }
   ],
   "execution_count": 204
  },
  {
   "metadata": {
    "ExecuteTime": {
     "end_time": "2024-04-12T09:12:45.092602Z",
     "start_time": "2024-04-12T09:12:45.083817Z"
    }
   },
   "cell_type": "code",
   "source": [
    "t_stat_23, p_val_23 = ttest_ind(CON_PA_MECVV['DO_diagnosticada'] == 1.0, SIN_PA['DO_diagnosticada'] == 1.0, equal_var=False)\n",
    "print(\"P-valor entre CON_PA_MECVV y SIN_PA:\", p_val_12)"
   ],
   "id": "508340d7a6fb917d",
   "outputs": [
    {
     "name": "stdout",
     "output_type": "stream",
     "text": [
      "P-valor entre CON_PA_MECVV y SIN_PA: 0.3973619011700509\n"
     ]
    }
   ],
   "execution_count": 205
  },
  {
   "metadata": {
    "ExecuteTime": {
     "end_time": "2024-04-12T09:12:45.766694Z",
     "start_time": "2024-04-12T09:12:45.273824Z"
    }
   },
   "cell_type": "code",
   "source": [
    "#Comprovacion con Tukey\n",
    "CON_PA['grupo'] = 'CON_PA'\n",
    "CON_PA_MECVV['grupo'] = 'CON_PA_MECVV'\n",
    "SIN_PA['grupo'] = 'SIN_PA'\n",
    "\n",
    "data = pd.concat([CON_PA, CON_PA_MECVV, SIN_PA], ignore_index=True)\n",
    "\n",
    "# Realizar el test de Tukey solo si hay al menos dos grupos con datos\n",
    "if len(data['grupo'].unique()) >= 2:\n",
    "    # Realizar el test de Tukey\n",
    "    tukey_results = pairwise_tukeyhsd(data['DO_diagnosticada'] == 1.0, data['grupo'], alpha=0.05)\n",
    "    print(tukey_results)\n",
    "else:\n",
    "    print(\"Se requieren al menos dos grupos con datos para realizar comparaciones múltiples.\")"
   ],
   "id": "249ad4f0197c43f9",
   "outputs": [
    {
     "name": "stderr",
     "output_type": "stream",
     "text": [
      "C:\\Users\\maria\\AppData\\Local\\Temp\\ipykernel_10288\\1554346727.py:2: SettingWithCopyWarning: \n",
      "A value is trying to be set on a copy of a slice from a DataFrame.\n",
      "Try using .loc[row_indexer,col_indexer] = value instead\n",
      "\n",
      "See the caveats in the documentation: https://pandas.pydata.org/pandas-docs/stable/user_guide/indexing.html#returning-a-view-versus-a-copy\n",
      "  CON_PA['grupo'] = 'CON_PA'\n",
      "C:\\Users\\maria\\AppData\\Local\\Temp\\ipykernel_10288\\1554346727.py:3: SettingWithCopyWarning: \n",
      "A value is trying to be set on a copy of a slice from a DataFrame.\n",
      "Try using .loc[row_indexer,col_indexer] = value instead\n",
      "\n",
      "See the caveats in the documentation: https://pandas.pydata.org/pandas-docs/stable/user_guide/indexing.html#returning-a-view-versus-a-copy\n",
      "  CON_PA_MECVV['grupo'] = 'CON_PA_MECVV'\n",
      "C:\\Users\\maria\\AppData\\Local\\Temp\\ipykernel_10288\\1554346727.py:4: SettingWithCopyWarning: \n",
      "A value is trying to be set on a copy of a slice from a DataFrame.\n",
      "Try using .loc[row_indexer,col_indexer] = value instead\n",
      "\n",
      "See the caveats in the documentation: https://pandas.pydata.org/pandas-docs/stable/user_guide/indexing.html#returning-a-view-versus-a-copy\n",
      "  SIN_PA['grupo'] = 'SIN_PA'\n"
     ]
    },
    {
     "name": "stdout",
     "output_type": "stream",
     "text": [
      "      Multiple Comparison of Means - Tukey HSD, FWER=0.05      \n",
      "===============================================================\n",
      "   group1       group2    meandiff p-adj   lower  upper  reject\n",
      "---------------------------------------------------------------\n",
      "      CON_PA CON_PA_MECVV  -0.1706 0.5863 -0.5834 0.2422  False\n",
      "      CON_PA       SIN_PA  -0.2869 0.0547 -0.5785 0.0046  False\n",
      "CON_PA_MECVV       SIN_PA  -0.1163 0.7199 -0.4757 0.2431  False\n",
      "---------------------------------------------------------------\n"
     ]
    }
   ],
   "execution_count": 206
  },
  {
   "metadata": {},
   "cell_type": "markdown",
   "source": "## Index de Barthel",
   "id": "dc8734cc141432b0"
  },
  {
   "metadata": {},
   "cell_type": "markdown",
   "source": "### Promedio",
   "id": "bfed47df31e7bb8"
  },
  {
   "metadata": {
    "ExecuteTime": {
     "end_time": "2024-04-12T09:12:45.774812Z",
     "start_time": "2024-04-12T09:12:45.766694Z"
    }
   },
   "cell_type": "code",
   "source": [
    "promedio_barthel = CON_PA['Barthel_resultados'].mean()\n",
    "desviacion_estandar_barthel = CON_PA['Barthel_resultados'].std()\n",
    "\n",
    "resultado = f\"{promedio_barthel:.2f} ± {desviacion_estandar_barthel:.2f}\"\n",
    "print(\"Promedio ± Desviación Estándar del Barthel:\", resultado)"
   ],
   "id": "8638758d3ff1fd2b",
   "outputs": [
    {
     "name": "stdout",
     "output_type": "stream",
     "text": [
      "Promedio ± Desviación Estándar del Barthel: 22.65 ± 24.63\n"
     ]
    }
   ],
   "execution_count": 207
  },
  {
   "metadata": {
    "ExecuteTime": {
     "end_time": "2024-04-12T09:12:45.887718Z",
     "start_time": "2024-04-12T09:12:45.873798Z"
    }
   },
   "cell_type": "code",
   "source": [
    "promedio_barthel = CON_PA_MECVV['Barthel_resultados'].mean()\n",
    "desviacion_estandar_barthel = CON_PA_MECVV['Barthel_resultados'].std()\n",
    "\n",
    "resultado = f\"{promedio_barthel:.2f} ± {desviacion_estandar_barthel:.2f}\"\n",
    "print(\"Promedio ± Desviación Estándar del Barthel:\", resultado)"
   ],
   "id": "fa78d7ab6c24f658",
   "outputs": [
    {
     "name": "stdout",
     "output_type": "stream",
     "text": [
      "Promedio ± Desviación Estándar del Barthel: 28.50 ± 22.24\n"
     ]
    }
   ],
   "execution_count": 208
  },
  {
   "metadata": {
    "ExecuteTime": {
     "end_time": "2024-04-12T09:12:46.099017Z",
     "start_time": "2024-04-12T09:12:46.083567Z"
    }
   },
   "cell_type": "code",
   "source": [
    "promedio_barthel = SIN_PA['Barthel_resultados'].mean()\n",
    "desviacion_estandar_barthel = SIN_PA['Barthel_resultados'].std()\n",
    "\n",
    "resultado = f\"{promedio_barthel:.2f} ± {desviacion_estandar_barthel:.2f}\"\n",
    "print(\"Promedio ± Desviación Estándar del Barthel:\", resultado)"
   ],
   "id": "47d02b3ef2886135",
   "outputs": [
    {
     "name": "stdout",
     "output_type": "stream",
     "text": [
      "Promedio ± Desviación Estándar del Barthel: 48.88 ± 37.42\n"
     ]
    }
   ],
   "execution_count": 209
  },
  {
   "metadata": {},
   "cell_type": "markdown",
   "source": "#### Pvalor",
   "id": "1ac5ed3b04b339da"
  },
  {
   "metadata": {
    "ExecuteTime": {
     "end_time": "2024-04-12T09:12:46.458608Z",
     "start_time": "2024-04-12T09:12:46.448376Z"
    }
   },
   "cell_type": "code",
   "source": [
    "t_stat_12, p_val_12 = ttest_ind(CON_PA['Barthel_resultados'], CON_PA_MECVV['Barthel_resultados'], equal_var=False)\n",
    "print(\"P-valor entre CON_PA y CON_PA_MECVV:\", p_val_12)"
   ],
   "id": "cd7ea4badfff9b7a",
   "outputs": [
    {
     "name": "stdout",
     "output_type": "stream",
     "text": [
      "P-valor entre CON_PA y CON_PA_MECVV: 0.5328822564529123\n"
     ]
    }
   ],
   "execution_count": 210
  },
  {
   "metadata": {
    "ExecuteTime": {
     "end_time": "2024-04-12T09:12:46.594514Z",
     "start_time": "2024-04-12T09:12:46.583869Z"
    }
   },
   "cell_type": "code",
   "source": [
    "t_stat_13, p_val_13 = ttest_ind(CON_PA['Barthel_resultados'], SIN_PA['Barthel_resultados'], equal_var=False)\n",
    "print(\"P-valor entre CON_PA y SIN_PA:\", p_val_13)"
   ],
   "id": "6942ed62019c90c6",
   "outputs": [
    {
     "name": "stdout",
     "output_type": "stream",
     "text": [
      "P-valor entre CON_PA y SIN_PA: 0.002116116594672647\n"
     ]
    }
   ],
   "execution_count": 211
  },
  {
   "metadata": {
    "ExecuteTime": {
     "end_time": "2024-04-12T09:12:46.952575Z",
     "start_time": "2024-04-12T09:12:46.944393Z"
    }
   },
   "cell_type": "code",
   "source": [
    "t_stat_23, p_val_23 = ttest_ind(CON_PA_MECVV['Barthel_resultados'], SIN_PA['Barthel_resultados'], equal_var=False)\n",
    "print(\"P-valor entre CON_PA_MECVV y SIN_PA:\", p_val_23)"
   ],
   "id": "2c199b4f90f82e91",
   "outputs": [
    {
     "name": "stdout",
     "output_type": "stream",
     "text": [
      "P-valor entre CON_PA_MECVV y SIN_PA: 0.03132528496286713\n"
     ]
    }
   ],
   "execution_count": 212
  },
  {
   "metadata": {},
   "cell_type": "markdown",
   "source": "### Valores de dependencia",
   "id": "26c7b917da1f3f22"
  },
  {
   "metadata": {},
   "cell_type": "markdown",
   "source": "##### CON_PA",
   "id": "c5f7ee6744b89d84"
  },
  {
   "metadata": {
    "ExecuteTime": {
     "end_time": "2024-04-12T09:12:47.169442Z",
     "start_time": "2024-04-12T09:12:47.163990Z"
    }
   },
   "cell_type": "code",
   "source": [
    "indepe_CON_PA = (CON_PA['Barthel_resultados'] == 100.0).mean() * 100\n",
    "print(f\"Porcentaje de indepe_CON_PA: {indepe_CON_PA:.2f}%\")"
   ],
   "id": "bd4eaba9b577b15b",
   "outputs": [
    {
     "name": "stdout",
     "output_type": "stream",
     "text": [
      "Porcentaje de indepe_CON_PA: 0.00%\n"
     ]
    }
   ],
   "execution_count": 213
  },
  {
   "metadata": {
    "ExecuteTime": {
     "end_time": "2024-04-12T09:12:47.470497Z",
     "start_time": "2024-04-12T09:12:47.463534Z"
    }
   },
   "cell_type": "code",
   "source": [
    "mod_CON_PA = (CON_PA['Barthel_resultados'].between(61, 95)).mean() * 100\n",
    "print(f\"Porcentaje de mod_CON_PA: {mod_CON_PA:.2f}%\")"
   ],
   "id": "4fb1d19906f59b5a",
   "outputs": [
    {
     "name": "stdout",
     "output_type": "stream",
     "text": [
      "Porcentaje de mod_CON_PA: 5.88%\n"
     ]
    }
   ],
   "execution_count": 214
  },
  {
   "metadata": {
    "ExecuteTime": {
     "end_time": "2024-04-12T09:12:47.600411Z",
     "start_time": "2024-04-12T09:12:47.593551Z"
    }
   },
   "cell_type": "code",
   "source": [
    "sev_CON_PA = (CON_PA['Barthel_resultados'].between(21, 60)).mean() * 100\n",
    "print(f\"Porcentaje de sev_CON_PA: {sev_CON_PA:.2f}%\")"
   ],
   "id": "d9304c0cc424b57",
   "outputs": [
    {
     "name": "stdout",
     "output_type": "stream",
     "text": [
      "Porcentaje de sev_CON_PA: 41.18%\n"
     ]
    }
   ],
   "execution_count": 215
  },
  {
   "metadata": {
    "ExecuteTime": {
     "end_time": "2024-04-12T09:12:47.868743Z",
     "start_time": "2024-04-12T09:12:47.864144Z"
    }
   },
   "cell_type": "code",
   "source": [
    "total_CON_PA = (CON_PA['Barthel_resultados'] <= 20.0 ).mean() * 100\n",
    "print(f\"Porcentaje de total_CON_PA: {total_CON_PA:.2f}%\")"
   ],
   "id": "6910486fc7c29e8c",
   "outputs": [
    {
     "name": "stdout",
     "output_type": "stream",
     "text": [
      "Porcentaje de total_CON_PA: 52.94%\n"
     ]
    }
   ],
   "execution_count": 216
  },
  {
   "metadata": {},
   "cell_type": "markdown",
   "source": "##### CON_PA_MECVV",
   "id": "c71049641e1172f4"
  },
  {
   "metadata": {
    "ExecuteTime": {
     "end_time": "2024-04-12T09:12:48.020227Z",
     "start_time": "2024-04-12T09:12:48.013681Z"
    }
   },
   "cell_type": "code",
   "source": [
    "indepe_CON_PA_MECVV = (CON_PA_MECVV['Barthel_resultados'] == 100.0).mean() * 100\n",
    "print(f\"Porcentaje de indepe_CON_PA_MECVV: {indepe_CON_PA_MECVV:.2f}%\")"
   ],
   "id": "6674786f0109e84b",
   "outputs": [
    {
     "name": "stdout",
     "output_type": "stream",
     "text": [
      "Porcentaje de indepe_CON_PA_MECVV: 0.00%\n"
     ]
    }
   ],
   "execution_count": 217
  },
  {
   "metadata": {
    "ExecuteTime": {
     "end_time": "2024-04-12T09:12:48.324156Z",
     "start_time": "2024-04-12T09:12:48.314265Z"
    }
   },
   "cell_type": "code",
   "source": [
    "mod_CON_PA_MECVV = (CON_PA_MECVV['Barthel_resultados'].between(61,95)).mean() * 100\n",
    "print(f\"Porcentaje de mod_CON_PA_MECVV: {mod_CON_PA_MECVV:.2f}%\")"
   ],
   "id": "cc081239fd51856",
   "outputs": [
    {
     "name": "stdout",
     "output_type": "stream",
     "text": [
      "Porcentaje de mod_CON_PA_MECVV: 0.00%\n"
     ]
    }
   ],
   "execution_count": 218
  },
  {
   "metadata": {
    "ExecuteTime": {
     "end_time": "2024-04-12T09:12:48.514581Z",
     "start_time": "2024-04-12T09:12:48.503507Z"
    }
   },
   "cell_type": "code",
   "source": [
    "sev_CON_PA_MECVV = (CON_PA_MECVV['Barthel_resultados'].between(21,60)).mean() * 100\n",
    "print(f\"Porcentaje de sev_CON_PA_MECVV: {sev_CON_PA_MECVV:.2f}%\")"
   ],
   "id": "a9e4a48bad4a68ee",
   "outputs": [
    {
     "name": "stdout",
     "output_type": "stream",
     "text": [
      "Porcentaje de sev_CON_PA_MECVV: 60.00%\n"
     ]
    }
   ],
   "execution_count": 219
  },
  {
   "metadata": {
    "ExecuteTime": {
     "end_time": "2024-04-12T09:12:48.771555Z",
     "start_time": "2024-04-12T09:12:48.753617Z"
    }
   },
   "cell_type": "code",
   "source": [
    "total_CON_PA_MECVV = (CON_PA_MECVV['Barthel_resultados'] <= 20.0).mean() * 100\n",
    "print(f\"Porcentaje de total_CON_PA_MECVV: {total_CON_PA_MECVV:.2f}%\")"
   ],
   "id": "9125c459a4b83c25",
   "outputs": [
    {
     "name": "stdout",
     "output_type": "stream",
     "text": [
      "Porcentaje de total_CON_PA_MECVV: 40.00%\n"
     ]
    }
   ],
   "execution_count": 220
  },
  {
   "metadata": {},
   "cell_type": "markdown",
   "source": "##### SIN_PA",
   "id": "3c5b6af1cef898a8"
  },
  {
   "metadata": {
    "ExecuteTime": {
     "end_time": "2024-04-12T09:12:49.089846Z",
     "start_time": "2024-04-12T09:12:49.083890Z"
    }
   },
   "cell_type": "code",
   "source": [
    "indepe_SIN_PA = (SIN_PA['Barthel_resultados'] == 100.0).mean() * 100\n",
    "print(f\"Porcentaje de indepe_SIN_PA: {indepe_SIN_PA:.2f}%\")"
   ],
   "id": "d6514f8eb77e3656",
   "outputs": [
    {
     "name": "stdout",
     "output_type": "stream",
     "text": [
      "Porcentaje de indepe_SIN_PA: 20.41%\n"
     ]
    }
   ],
   "execution_count": 221
  },
  {
   "metadata": {
    "ExecuteTime": {
     "end_time": "2024-04-12T09:12:49.513982Z",
     "start_time": "2024-04-12T09:12:49.506437Z"
    }
   },
   "cell_type": "code",
   "source": [
    "mod_SIN_PA = (SIN_PA['Barthel_resultados'].between(61,95)).mean() * 100\n",
    "print(f\"Porcentaje de mod_SIN_PA: {mod_SIN_PA:.2f}%\")"
   ],
   "id": "6c3c3065602238a3",
   "outputs": [
    {
     "name": "stdout",
     "output_type": "stream",
     "text": [
      "Porcentaje de mod_SIN_PA: 18.37%\n"
     ]
    }
   ],
   "execution_count": 222
  },
  {
   "metadata": {
    "ExecuteTime": {
     "end_time": "2024-04-12T09:12:49.738818Z",
     "start_time": "2024-04-12T09:12:49.732189Z"
    }
   },
   "cell_type": "code",
   "source": [
    "sev_SIN_PA = (SIN_PA['Barthel_resultados'].between(21,60)).mean() * 100\n",
    "print(f\"Porcentaje de sev_SIN_PA: {sev_SIN_PA:.2f}%\")"
   ],
   "id": "9607e237feb8ad65",
   "outputs": [
    {
     "name": "stdout",
     "output_type": "stream",
     "text": [
      "Porcentaje de sev_SIN_PA: 28.57%\n"
     ]
    }
   ],
   "execution_count": 223
  },
  {
   "metadata": {
    "ExecuteTime": {
     "end_time": "2024-04-12T09:12:49.991798Z",
     "start_time": "2024-04-12T09:12:49.983360Z"
    }
   },
   "cell_type": "code",
   "source": [
    "total_SIN_PA = (SIN_PA['Barthel_resultados'] <= 20).mean() * 100\n",
    "print(f\"Porcentaje de total_SIN_PA: {total_SIN_PA:.2f}%\")"
   ],
   "id": "be742afa35213a6f",
   "outputs": [
    {
     "name": "stdout",
     "output_type": "stream",
     "text": [
      "Porcentaje de total_SIN_PA: 32.65%\n"
     ]
    }
   ],
   "execution_count": 224
  },
  {
   "metadata": {},
   "cell_type": "markdown",
   "source": "#### Pvalor",
   "id": "5d7114bf6d7143b9"
  },
  {
   "metadata": {},
   "cell_type": "markdown",
   "source": "##### Independencia",
   "id": "99941840d95ccd6"
  },
  {
   "metadata": {
    "ExecuteTime": {
     "end_time": "2024-04-12T09:12:50.178970Z",
     "start_time": "2024-04-12T09:12:50.163672Z"
    }
   },
   "cell_type": "code",
   "source": [
    "t_stat_12, p_val_12 = ttest_ind(CON_PA['Barthel_resultados'] == 100.0, CON_PA_MECVV['Barthel_resultados'] == 100.0, equal_var=False)\n",
    "print(\"P-valor entre indepe_CON_PA y indepe_CON_PA_MECVV:\", p_val_12)"
   ],
   "id": "1fc9a4202863cab2",
   "outputs": [
    {
     "name": "stdout",
     "output_type": "stream",
     "text": [
      "P-valor entre indepe_CON_PA y indepe_CON_PA_MECVV: nan\n"
     ]
    }
   ],
   "execution_count": 225
  },
  {
   "metadata": {
    "ExecuteTime": {
     "end_time": "2024-04-12T09:12:50.524022Z",
     "start_time": "2024-04-12T09:12:50.513967Z"
    }
   },
   "cell_type": "code",
   "source": [
    "t_stat_13, p_val_13 = ttest_ind(CON_PA['Barthel_resultados'] == 100.0, SIN_PA['Barthel_resultados'] == 100.0, equal_var=False)\n",
    "print(\"P-valor entre indepe_CON_PA y indepe_SIN_PA:\", p_val_13)"
   ],
   "id": "53f70691fc93885b",
   "outputs": [
    {
     "name": "stdout",
     "output_type": "stream",
     "text": [
      "P-valor entre indepe_CON_PA y indepe_SIN_PA: 0.0009905991330133408\n"
     ]
    }
   ],
   "execution_count": 226
  },
  {
   "metadata": {
    "ExecuteTime": {
     "end_time": "2024-04-12T09:12:50.714236Z",
     "start_time": "2024-04-12T09:12:50.703779Z"
    }
   },
   "cell_type": "code",
   "source": [
    "t_stat_23, p_val_23 = ttest_ind(CON_PA_MECVV['Barthel_resultados'] == 100.0, SIN_PA['Barthel_resultados'] == 100.0, equal_var=False)\n",
    "print(\"P-valor entre indepe_CON_PA_MECVV y SIN_PA:\", p_val_23)"
   ],
   "id": "b11519140ece0c96",
   "outputs": [
    {
     "name": "stdout",
     "output_type": "stream",
     "text": [
      "P-valor entre indepe_CON_PA_MECVV y SIN_PA: 0.0009905991330133408\n"
     ]
    }
   ],
   "execution_count": 227
  },
  {
   "metadata": {},
   "cell_type": "markdown",
   "source": "##### Moderada",
   "id": "d04d18982271906"
  },
  {
   "metadata": {
    "ExecuteTime": {
     "end_time": "2024-04-12T09:12:50.993099Z",
     "start_time": "2024-04-12T09:12:50.983639Z"
    }
   },
   "cell_type": "code",
   "source": [
    "t_stat_12, p_val_12 = ttest_ind(CON_PA['Barthel_resultados'].between(61, 95), CON_PA_MECVV['Barthel_resultados'].between(61, 95), equal_var=False)\n",
    "print(\"P-valor entre mod_CON_PA y mod_CON_PA_MECVV:\", p_val_12)"
   ],
   "id": "dec64efac0865e29",
   "outputs": [
    {
     "name": "stdout",
     "output_type": "stream",
     "text": [
      "P-valor entre mod_CON_PA y mod_CON_PA_MECVV: 0.3321949846529795\n"
     ]
    }
   ],
   "execution_count": 228
  },
  {
   "metadata": {
    "ExecuteTime": {
     "end_time": "2024-04-12T09:12:51.194996Z",
     "start_time": "2024-04-12T09:12:51.183961Z"
    }
   },
   "cell_type": "code",
   "source": [
    "t_stat_13, p_val_13 = ttest_ind(CON_PA['Barthel_resultados'].between(61, 95), SIN_PA['Barthel_resultados'].between(61, 95), equal_var=False)\n",
    "print(\"P-valor entre indepe_CON_PA y mod_SIN_PA:\", p_val_13)"
   ],
   "id": "27afcdbb5f858182",
   "outputs": [
    {
     "name": "stdout",
     "output_type": "stream",
     "text": [
      "P-valor entre indepe_CON_PA y mod_SIN_PA: 0.1308021277917621\n"
     ]
    }
   ],
   "execution_count": 229
  },
  {
   "metadata": {
    "ExecuteTime": {
     "end_time": "2024-04-12T09:12:51.494801Z",
     "start_time": "2024-04-12T09:12:51.483344Z"
    }
   },
   "cell_type": "code",
   "source": [
    "t_stat_23, p_val_23 = ttest_ind(CON_PA_MECVV['Barthel_resultados'].between(61, 95), SIN_PA['Barthel_resultados'].between(61, 95), equal_var=False)\n",
    "print(\"P-valor entre mod_CON_PA_MECVV y mod_SIN_PA :\", p_val_23)"
   ],
   "id": "8fc3e8dab51af8d1",
   "outputs": [
    {
     "name": "stdout",
     "output_type": "stream",
     "text": [
      "P-valor entre mod_CON_PA_MECVV y mod_SIN_PA : 0.0019018439578946838\n"
     ]
    }
   ],
   "execution_count": 230
  },
  {
   "metadata": {},
   "cell_type": "markdown",
   "source": "##### Severa",
   "id": "76bed183a4aeac10"
  },
  {
   "metadata": {
    "ExecuteTime": {
     "end_time": "2024-04-12T09:12:51.640509Z",
     "start_time": "2024-04-12T09:12:51.624226Z"
    }
   },
   "cell_type": "code",
   "source": [
    "t_stat_12, p_val_12 = ttest_ind(CON_PA['Barthel_resultados'].between(21,60), CON_PA_MECVV['Barthel_resultados'].between(21,60), equal_var=False)\n",
    "print(\"P-valor entre sev_CON_PA y sev_CON_PA_MECVV:\", p_val_12)"
   ],
   "id": "f62da8e97a2baaab",
   "outputs": [
    {
     "name": "stdout",
     "output_type": "stream",
     "text": [
      "P-valor entre sev_CON_PA y sev_CON_PA_MECVV: 0.36895172812187915\n"
     ]
    }
   ],
   "execution_count": 231
  },
  {
   "metadata": {
    "ExecuteTime": {
     "end_time": "2024-04-12T09:12:51.913958Z",
     "start_time": "2024-04-12T09:12:51.904007Z"
    }
   },
   "cell_type": "code",
   "source": [
    "t_stat_13, p_val_13 = ttest_ind(CON_PA['Barthel_resultados'].between(21,60), SIN_PA['Barthel_resultados'].between(21,60), equal_var=False)\n",
    "print(\"P-valor entre sev_CON_PA y sev_SIN_PA:\", p_val_13)"
   ],
   "id": "31cb55f53135e10a",
   "outputs": [
    {
     "name": "stdout",
     "output_type": "stream",
     "text": [
      "P-valor entre sev_CON_PA y sev_SIN_PA: 0.37379734622047833\n"
     ]
    }
   ],
   "execution_count": 232
  },
  {
   "metadata": {
    "ExecuteTime": {
     "end_time": "2024-04-12T09:12:52.089859Z",
     "start_time": "2024-04-12T09:12:52.078454Z"
    }
   },
   "cell_type": "code",
   "source": [
    "t_stat_23, p_val_23 = ttest_ind(CON_PA_MECVV['Barthel_resultados'].between(21,60), SIN_PA['Barthel_resultados'].between(21,60), equal_var=False)\n",
    "print(\"P-valor entre sev_CON_PA_MECVV y sev_SIN_PA:\", p_val_23)"
   ],
   "id": "92003e3822752b2c",
   "outputs": [
    {
     "name": "stdout",
     "output_type": "stream",
     "text": [
      "P-valor entre sev_CON_PA_MECVV y sev_SIN_PA: 0.09905259977964401\n"
     ]
    }
   ],
   "execution_count": 233
  },
  {
   "metadata": {},
   "cell_type": "markdown",
   "source": "##### Total",
   "id": "6f92bc9950981fa5"
  },
  {
   "metadata": {
    "ExecuteTime": {
     "end_time": "2024-04-12T09:12:52.298118Z",
     "start_time": "2024-04-12T09:12:52.284622Z"
    }
   },
   "cell_type": "code",
   "source": [
    "t_stat_12, p_val_12 = ttest_ind(CON_PA['Barthel_resultados'] <= 20.0, CON_PA_MECVV['Barthel_resultados'] <= 20.0, equal_var=False)\n",
    "print(\"P-valor entre total_CON_PA y total_CON_PA_MECVV:\", p_val_12)"
   ],
   "id": "649bd60d8064b442",
   "outputs": [
    {
     "name": "stdout",
     "output_type": "stream",
     "text": [
      "P-valor entre total_CON_PA y total_CON_PA_MECVV: 0.536420664203854\n"
     ]
    }
   ],
   "execution_count": 234
  },
  {
   "metadata": {
    "ExecuteTime": {
     "end_time": "2024-04-12T09:12:52.512753Z",
     "start_time": "2024-04-12T09:12:52.503810Z"
    }
   },
   "cell_type": "code",
   "source": [
    "t_stat_13, p_val_13 = ttest_ind(CON_PA['Barthel_resultados'] <= 20.0, SIN_PA['Barthel_resultados'] <= 20.0, equal_var=False)\n",
    "print(\"P-valor entre total_CON_PA y total_SIN_PA:\", p_val_13)"
   ],
   "id": "c7aefab4134a6d36",
   "outputs": [
    {
     "name": "stdout",
     "output_type": "stream",
     "text": [
      "P-valor entre total_CON_PA y total_SIN_PA: 0.16484379406840946\n"
     ]
    }
   ],
   "execution_count": 235
  },
  {
   "metadata": {
    "ExecuteTime": {
     "end_time": "2024-04-12T09:12:52.811285Z",
     "start_time": "2024-04-12T09:12:52.804018Z"
    }
   },
   "cell_type": "code",
   "source": [
    "t_stat_23, p_val_23 = ttest_ind(CON_PA_MECVV['Barthel_resultados'] <= 20.0, SIN_PA['Barthel_resultados'] <= 20.0, equal_var=False)\n",
    "print(\"P-valor entre total_CON_PA_MECVV y total_SIN_PA:\", p_val_23)"
   ],
   "id": "8f86e986c69cad05",
   "outputs": [
    {
     "name": "stdout",
     "output_type": "stream",
     "text": [
      "P-valor entre total_CON_PA_MECVV y total_SIN_PA: 0.6848541420862003\n"
     ]
    }
   ],
   "execution_count": 236
  },
  {
   "metadata": {},
   "cell_type": "markdown",
   "source": "## Index del MNA",
   "id": "8aec29cdaca5153d"
  },
  {
   "metadata": {},
   "cell_type": "markdown",
   "source": "Primero hay que convertir la columna a tipo numerico ya que es de tipo \"object\" y no permite realizar el promedio",
   "id": "1c06e026a7dc222a"
  },
  {
   "metadata": {
    "ExecuteTime": {
     "end_time": "2024-04-12T09:12:53.011759Z",
     "start_time": "2024-04-12T09:12:53.003758Z"
    }
   },
   "cell_type": "code",
   "source": [
    "CON_PA['mna_resultats'] = pd.to_numeric(CON_PA['mna_resultats'], errors='coerce')\n",
    "CON_PA_MECVV['mna_resultats'] = pd.to_numeric(CON_PA_MECVV['mna_resultats'], errors='coerce')\n",
    "SIN_PA['mna_resultats'] = pd.to_numeric(SIN_PA['mna_resultats'], errors='coerce')\n",
    "#TODO: es incorrecto?"
   ],
   "id": "1fd4ba82fd70b812",
   "outputs": [
    {
     "name": "stderr",
     "output_type": "stream",
     "text": [
      "C:\\Users\\maria\\AppData\\Local\\Temp\\ipykernel_10288\\895743549.py:1: SettingWithCopyWarning: \n",
      "A value is trying to be set on a copy of a slice from a DataFrame.\n",
      "Try using .loc[row_indexer,col_indexer] = value instead\n",
      "\n",
      "See the caveats in the documentation: https://pandas.pydata.org/pandas-docs/stable/user_guide/indexing.html#returning-a-view-versus-a-copy\n",
      "  CON_PA['mna_resultats'] = pd.to_numeric(CON_PA['mna_resultats'], errors='coerce')\n",
      "C:\\Users\\maria\\AppData\\Local\\Temp\\ipykernel_10288\\895743549.py:2: SettingWithCopyWarning: \n",
      "A value is trying to be set on a copy of a slice from a DataFrame.\n",
      "Try using .loc[row_indexer,col_indexer] = value instead\n",
      "\n",
      "See the caveats in the documentation: https://pandas.pydata.org/pandas-docs/stable/user_guide/indexing.html#returning-a-view-versus-a-copy\n",
      "  CON_PA_MECVV['mna_resultats'] = pd.to_numeric(CON_PA_MECVV['mna_resultats'], errors='coerce')\n",
      "C:\\Users\\maria\\AppData\\Local\\Temp\\ipykernel_10288\\895743549.py:3: SettingWithCopyWarning: \n",
      "A value is trying to be set on a copy of a slice from a DataFrame.\n",
      "Try using .loc[row_indexer,col_indexer] = value instead\n",
      "\n",
      "See the caveats in the documentation: https://pandas.pydata.org/pandas-docs/stable/user_guide/indexing.html#returning-a-view-versus-a-copy\n",
      "  SIN_PA['mna_resultats'] = pd.to_numeric(SIN_PA['mna_resultats'], errors='coerce')\n"
     ]
    }
   ],
   "execution_count": 237
  },
  {
   "metadata": {},
   "cell_type": "markdown",
   "source": "### Promedio",
   "id": "d3a2da203000f2a5"
  },
  {
   "metadata": {
    "ExecuteTime": {
     "end_time": "2024-04-12T09:12:53.378971Z",
     "start_time": "2024-04-12T09:12:53.373564Z"
    }
   },
   "cell_type": "code",
   "source": [
    "promedio_mna = CON_PA['mna_resultats'].mean()\n",
    "desviacion_estandar_mna = CON_PA['mna_resultats'].std()\n",
    "\n",
    "resultado = f\"{promedio_mna:.2f} ± {desviacion_estandar_mna:.2f}\"\n",
    "print(\"Promedio ± Desviación Estándar del mna:\", resultado)"
   ],
   "id": "49f228e16ecc4f8f",
   "outputs": [
    {
     "name": "stdout",
     "output_type": "stream",
     "text": [
      "Promedio ± Desviación Estándar del mna: 0.00 ± 0.00\n"
     ]
    }
   ],
   "execution_count": 238
  },
  {
   "metadata": {
    "ExecuteTime": {
     "end_time": "2024-04-12T09:12:53.610565Z",
     "start_time": "2024-04-12T09:12:53.603692Z"
    }
   },
   "cell_type": "code",
   "source": [
    "promedio_mna = CON_PA_MECVV['mna_resultats'].mean()\n",
    "desviacion_estandar_mna = CON_PA_MECVV['mna_resultats'].std()\n",
    "\n",
    "resultado = f\"{promedio_mna:.2f} ± {desviacion_estandar_mna:.2f}\"\n",
    "print(\"Promedio ± Desviación Estándar del mna:\", resultado)"
   ],
   "id": "2b9bad54f7ac28fb",
   "outputs": [
    {
     "name": "stdout",
     "output_type": "stream",
     "text": [
      "Promedio ± Desviación Estándar del mna: 0.00 ± nan\n"
     ]
    }
   ],
   "execution_count": 239
  },
  {
   "metadata": {
    "ExecuteTime": {
     "end_time": "2024-04-12T09:12:53.881524Z",
     "start_time": "2024-04-12T09:12:53.873724Z"
    }
   },
   "cell_type": "code",
   "source": [
    "promedio_mna = SIN_PA['mna_resultats'].mean()\n",
    "desviacion_estandar_mna = SIN_PA['mna_resultats'].std()\n",
    "\n",
    "resultado = f\"{promedio_mna:.2f} ± {desviacion_estandar_mna:.2f}\"\n",
    "print(\"Promedio ± Desviación Estándar del mna:\", resultado)"
   ],
   "id": "e1b756b5d3594d0d",
   "outputs": [
    {
     "name": "stdout",
     "output_type": "stream",
     "text": [
      "Promedio ± Desviación Estándar del mna: 3.05 ± 5.92\n"
     ]
    }
   ],
   "execution_count": 240
  },
  {
   "metadata": {},
   "cell_type": "markdown",
   "source": "#### Pvalor",
   "id": "ed71dea199e67206"
  },
  {
   "metadata": {
    "ExecuteTime": {
     "end_time": "2024-04-12T09:12:54.041765Z",
     "start_time": "2024-04-12T09:12:54.034513Z"
    }
   },
   "cell_type": "code",
   "source": [
    "t_stat_12, p_val_12 = ttest_ind(CON_PA['mna_resultats'], CON_PA_MECVV['mna_resultats'], equal_var=False)\n",
    "print(\"P-valor entre CON_PA y CON_PA_MECVV:\", p_val_12)"
   ],
   "id": "ad0537eaa821dc4b",
   "outputs": [
    {
     "name": "stdout",
     "output_type": "stream",
     "text": [
      "P-valor entre CON_PA y CON_PA_MECVV: nan\n"
     ]
    }
   ],
   "execution_count": 241
  },
  {
   "metadata": {
    "ExecuteTime": {
     "end_time": "2024-04-12T09:12:54.323751Z",
     "start_time": "2024-04-12T09:12:54.313903Z"
    }
   },
   "cell_type": "code",
   "source": [
    "t_stat_13, p_val_13 = ttest_ind(CON_PA['mna_resultats'], SIN_PA['mna_resultats'], equal_var=False)\n",
    "print(\"P-valor entre CON_PA y SIN_PA:\", p_val_13)"
   ],
   "id": "d15532e3219abd52",
   "outputs": [
    {
     "name": "stdout",
     "output_type": "stream",
     "text": [
      "P-valor entre CON_PA y SIN_PA: nan\n"
     ]
    }
   ],
   "execution_count": 242
  },
  {
   "metadata": {
    "ExecuteTime": {
     "end_time": "2024-04-12T09:12:54.491149Z",
     "start_time": "2024-04-12T09:12:54.483600Z"
    }
   },
   "cell_type": "code",
   "source": [
    "t_stat_23, p_val_23 = ttest_ind(CON_PA_MECVV['mna_resultats'], SIN_PA['mna_resultats'], equal_var=False)\n",
    "print(\"P-valor entre CON_PA_MECVV y SIN_PA:\", p_val_23)"
   ],
   "id": "33fd4e0dfb16ffd9",
   "outputs": [
    {
     "name": "stdout",
     "output_type": "stream",
     "text": [
      "P-valor entre CON_PA_MECVV y SIN_PA: nan\n"
     ]
    }
   ],
   "execution_count": 243
  },
  {
   "metadata": {},
   "cell_type": "markdown",
   "source": "### Valores de malnutricion",
   "id": "30ab7030f717f77d"
  },
  {
   "metadata": {},
   "cell_type": "markdown",
   "source": "##### CON_PA",
   "id": "739bad6e4ed22abd"
  },
  {
   "metadata": {
    "ExecuteTime": {
     "end_time": "2024-04-12T09:12:54.790459Z",
     "start_time": "2024-04-12T09:12:54.783338Z"
    }
   },
   "cell_type": "code",
   "source": [
    "norm_CON_PA = CON_PA['mna_resultats'].between(24, 30)\n",
    "porcentaje_norm_CON_PA = norm_CON_PA.mean() * 100\n",
    "num_observaciones_norm_CON_PA = norm_CON_PA.sum()\n",
    "\n",
    "print(f\"Porcentaje de norm_CON_PA: {porcentaje_norm_CON_PA:.2f}%\")\n",
    "print(f\"Número de observaciones en norm_CON_PA: {num_observaciones_norm_CON_PA}\")"
   ],
   "id": "caa6802b98e9e39",
   "outputs": [
    {
     "name": "stdout",
     "output_type": "stream",
     "text": [
      "Porcentaje de norm_CON_PA: 0.00%\n",
      "Número de observaciones en norm_CON_PA: 0\n"
     ]
    }
   ],
   "execution_count": 244
  },
  {
   "metadata": {
    "ExecuteTime": {
     "end_time": "2024-04-12T09:12:54.941685Z",
     "start_time": "2024-04-12T09:12:54.934193Z"
    }
   },
   "cell_type": "code",
   "source": [
    "malnutr_CON_PA = CON_PA['mna_resultats'].between(17, 23.5)\n",
    "porcentaje_malnutr_CON_PA = malnutr_CON_PA.mean() * 100\n",
    "num_observaciones_malnutr_CON_PA = norm_CON_PA.sum()\n",
    "\n",
    "print(f\"Porcentaje de malnutr_CON_PA: {porcentaje_malnutr_CON_PA:.2f}%\")\n",
    "print(f\"Número de observaciones en norm_CON_PA: {num_observaciones_malnutr_CON_PA}\")"
   ],
   "id": "9767c703bf106b20",
   "outputs": [
    {
     "name": "stdout",
     "output_type": "stream",
     "text": [
      "Porcentaje de malnutr_CON_PA: 0.00%\n",
      "Número de observaciones en norm_CON_PA: 0\n"
     ]
    }
   ],
   "execution_count": 245
  },
  {
   "metadata": {
    "ExecuteTime": {
     "end_time": "2024-04-12T09:12:55.217246Z",
     "start_time": "2024-04-12T09:12:55.203986Z"
    }
   },
   "cell_type": "code",
   "source": [
    "malnut_CON_PA = CON_PA['mna_resultats'] < 17\n",
    "porcentaje_malnut_CON_PA = malnut_CON_PA.mean() * 100\n",
    "num_observaciones_malnut_CON_PA = malnut_CON_PA.sum()\n",
    "\n",
    "print(f\"Porcentaje de malnut_CON_PA: {porcentaje_malnut_CON_PA:.2f}%\")\n",
    "print(f\"Número de observaciones en malnut_CON_PA: {num_observaciones_malnut_CON_PA}\")"
   ],
   "id": "bef7952d2998f683",
   "outputs": [
    {
     "name": "stdout",
     "output_type": "stream",
     "text": [
      "Porcentaje de malnut_CON_PA: 23.53%\n",
      "Número de observaciones en malnut_CON_PA: 4\n"
     ]
    }
   ],
   "execution_count": 246
  },
  {
   "metadata": {},
   "cell_type": "markdown",
   "source": "##### CON_PA_MECVV",
   "id": "2f5087291a06f182"
  },
  {
   "metadata": {
    "ExecuteTime": {
     "end_time": "2024-04-12T09:12:55.415961Z",
     "start_time": "2024-04-12T09:12:55.403315Z"
    }
   },
   "cell_type": "code",
   "source": [
    "norm_CON_PA_MECVV = CON_PA_MECVV['mna_resultats'].between(24, 30)\n",
    "porcentaje_norm_CON_PA_MECVV = norm_CON_PA_MECVV.mean() * 100\n",
    "num_observaciones_norm_CON_PA_MECVV = norm_CON_PA_MECVV.sum()\n",
    "\n",
    "print(f\"Porcentaje de norm_CON_PA_MECVV: {porcentaje_norm_CON_PA_MECVV:.2f}%\")\n",
    "print(f\"Número de observaciones en norm_CON_PA_MECVV: {num_observaciones_norm_CON_PA_MECVV}\")"
   ],
   "id": "3e5b18f679fc2d97",
   "outputs": [
    {
     "name": "stdout",
     "output_type": "stream",
     "text": [
      "Porcentaje de norm_CON_PA_MECVV: 0.00%\n",
      "Número de observaciones en norm_CON_PA_MECVV: 0\n"
     ]
    }
   ],
   "execution_count": 247
  },
  {
   "metadata": {
    "ExecuteTime": {
     "end_time": "2024-04-12T09:12:55.737510Z",
     "start_time": "2024-04-12T09:12:55.723821Z"
    }
   },
   "cell_type": "code",
   "source": [
    "malnutr_CON_PA_MECVV = CON_PA_MECVV['mna_resultats'].between(17, 23.5)\n",
    "porcentaje_malnutr_CON_PA_MECVV = malnutr_CON_PA_MECVV.mean() * 100\n",
    "num_observaciones_malnutr_CON_PA_MECVV = norm_CON_PA_MECVV.sum()\n",
    "\n",
    "print(f\"Porcentaje de malnutr_CON_PA_MECVV: {porcentaje_malnutr_CON_PA_MECVV:.2f}%\")\n",
    "print(f\"Número de observaciones en norm_CON_PA_MECVV: {num_observaciones_malnutr_CON_PA_MECVV}\")"
   ],
   "id": "d44f886d78fd3ac7",
   "outputs": [
    {
     "name": "stdout",
     "output_type": "stream",
     "text": [
      "Porcentaje de malnutr_CON_PA_MECVV: 0.00%\n",
      "Número de observaciones en norm_CON_PA_MECVV: 0\n"
     ]
    }
   ],
   "execution_count": 248
  },
  {
   "metadata": {
    "ExecuteTime": {
     "end_time": "2024-04-12T09:12:56.119062Z",
     "start_time": "2024-04-12T09:12:56.103567Z"
    }
   },
   "cell_type": "code",
   "source": [
    "malnut_CON_PA_MECVV = CON_PA_MECVV['mna_resultats'] < 17\n",
    "porcentaje_malnut_CON_PA_MECVV = malnut_CON_PA_MECVV.mean() * 100\n",
    "num_observaciones_malnut_CON_PA_MECVV = malnut_CON_PA_MECVV.sum()\n",
    "\n",
    "print(f\"Porcentaje de malnut_CON_PA_MECVV: {porcentaje_malnut_CON_PA_MECVV:.2f}%\")\n",
    "print(f\"Número de observaciones en malnut_CON_PA_MECVV: {num_observaciones_malnut_CON_PA_MECVV}\")"
   ],
   "id": "2a86972a7a2d702d",
   "outputs": [
    {
     "name": "stdout",
     "output_type": "stream",
     "text": [
      "Porcentaje de malnut_CON_PA_MECVV: 10.00%\n",
      "Número de observaciones en malnut_CON_PA_MECVV: 1\n"
     ]
    }
   ],
   "execution_count": 249
  },
  {
   "metadata": {},
   "cell_type": "markdown",
   "source": "##### SIN_PA",
   "id": "147fc09ef92f5300"
  },
  {
   "metadata": {
    "ExecuteTime": {
     "end_time": "2024-04-12T09:12:56.377163Z",
     "start_time": "2024-04-12T09:12:56.363696Z"
    }
   },
   "cell_type": "code",
   "source": [
    "norm_SIN_PA = SIN_PA['mna_resultats'].between(24, 30)\n",
    "porcentaje_norm_SIN_PA = norm_SIN_PA.mean() * 100\n",
    "num_observaciones_norm_SIN_PA = norm_SIN_PA.sum()\n",
    "\n",
    "print(f\"Porcentaje de norm_SIN_PA: {porcentaje_norm_SIN_PA:.2f}%\")\n",
    "print(f\"Número de observaciones en norm_SIN_PA: {num_observaciones_norm_SIN_PA}\")"
   ],
   "id": "c08ecbab11287831",
   "outputs": [
    {
     "name": "stdout",
     "output_type": "stream",
     "text": [
      "Porcentaje de norm_SIN_PA: 0.00%\n",
      "Número de observaciones en norm_SIN_PA: 0\n"
     ]
    }
   ],
   "execution_count": 250
  },
  {
   "metadata": {
    "ExecuteTime": {
     "end_time": "2024-04-12T09:12:56.571702Z",
     "start_time": "2024-04-12T09:12:56.563574Z"
    }
   },
   "cell_type": "code",
   "source": [
    "malnutr_SIN_PA = SIN_PA['mna_resultats'].between(17, 23.5)\n",
    "porcentaje_malnutr_SIN_PA = malnutr_SIN_PA.mean() * 100\n",
    "num_observaciones_malnutr_SIN_PA = malnutr_SIN_PA.sum()\n",
    "\n",
    "print(f\"Porcentaje de malnutr_SIN_PA: {porcentaje_malnutr_SIN_PA:.2f}%\")\n",
    "print(f\"Número de observaciones en malnutr_SIN_PA: {num_observaciones_malnutr_SIN_PA}\")"
   ],
   "id": "380f9565f771bf8b",
   "outputs": [
    {
     "name": "stdout",
     "output_type": "stream",
     "text": [
      "Porcentaje de malnutr_SIN_PA: 2.04%\n",
      "Número de observaciones en malnutr_SIN_PA: 1\n"
     ]
    }
   ],
   "execution_count": 251
  },
  {
   "metadata": {
    "ExecuteTime": {
     "end_time": "2024-04-12T09:12:56.831364Z",
     "start_time": "2024-04-12T09:12:56.825684Z"
    }
   },
   "cell_type": "code",
   "source": [
    "malnut_SIN_PA = SIN_PA['mna_resultats'] < 17\n",
    "porcentaje_malnut_SIN_PA = malnut_SIN_PA.mean() * 100\n",
    "num_observaciones_malnut_SIN_PA = malnut_SIN_PA.sum()\n",
    "\n",
    "print(f\"Porcentaje de malnut_SIN_PA: {porcentaje_malnut_SIN_PA:.2f}%\")\n",
    "print(f\"Número de observaciones en malnut_SIN_PA: {num_observaciones_malnut_SIN_PA}\")"
   ],
   "id": "160c804055ffa789",
   "outputs": [
    {
     "name": "stdout",
     "output_type": "stream",
     "text": [
      "Porcentaje de malnut_SIN_PA: 18.37%\n",
      "Número de observaciones en malnut_SIN_PA: 9\n"
     ]
    }
   ],
   "execution_count": 252
  },
  {
   "metadata": {},
   "cell_type": "markdown",
   "source": "#### Pvalor",
   "id": "a9a33b1d22344060"
  },
  {
   "metadata": {},
   "cell_type": "markdown",
   "source": "##### Normal",
   "id": "c1aa669e202aa54d"
  },
  {
   "metadata": {
    "ExecuteTime": {
     "end_time": "2024-04-12T09:12:57.000273Z",
     "start_time": "2024-04-12T09:12:56.989020Z"
    }
   },
   "cell_type": "code",
   "source": [
    "t_stat_12, p_val_12 = ttest_ind(CON_PA['mna_resultats'].between(24, 30), CON_PA_MECVV['mna_resultats'].between(24, 30), equal_var=False)\n",
    "print(\"P-valor entre norm_CON_PA y norm_CON_PA_MECVV:\", p_val_12)"
   ],
   "id": "c424d10727ebe3",
   "outputs": [
    {
     "name": "stdout",
     "output_type": "stream",
     "text": [
      "P-valor entre norm_CON_PA y norm_CON_PA_MECVV: nan\n"
     ]
    }
   ],
   "execution_count": 253
  },
  {
   "metadata": {
    "ExecuteTime": {
     "end_time": "2024-04-12T09:12:57.294792Z",
     "start_time": "2024-04-12T09:12:57.284351Z"
    }
   },
   "cell_type": "code",
   "source": [
    "t_stat_13, p_val_13 = ttest_ind(CON_PA['mna_resultats'].between(24, 30), SIN_PA['mna_resultats'].between(24, 30), equal_var=False)\n",
    "print(\"P-valor entre norm_CON_PA y norm_SIN_PA:\", p_val_13)"
   ],
   "id": "ebb1848e3ef8509e",
   "outputs": [
    {
     "name": "stdout",
     "output_type": "stream",
     "text": [
      "P-valor entre norm_CON_PA y norm_SIN_PA: nan\n"
     ]
    }
   ],
   "execution_count": 254
  },
  {
   "metadata": {
    "ExecuteTime": {
     "end_time": "2024-04-12T09:12:57.484417Z",
     "start_time": "2024-04-12T09:12:57.473929Z"
    }
   },
   "cell_type": "code",
   "source": [
    "t_stat_23, p_val_23 = ttest_ind(CON_PA_MECVV['mna_resultats'].between(24, 30), SIN_PA['mna_resultats'].between(24, 30), equal_var=False)\n",
    "print(\"P-valor entre norm_CON_PA_MECVV y norm_SIN_PA:\", p_val_23)"
   ],
   "id": "ec24c5a3e17d9c39",
   "outputs": [
    {
     "name": "stdout",
     "output_type": "stream",
     "text": [
      "P-valor entre norm_CON_PA_MECVV y norm_SIN_PA: nan\n"
     ]
    }
   ],
   "execution_count": 255
  },
  {
   "metadata": {},
   "cell_type": "markdown",
   "source": "##### Riesgo de malnutricion",
   "id": "2b406b79ad8e5d31"
  },
  {
   "metadata": {
    "ExecuteTime": {
     "end_time": "2024-04-12T09:12:57.805388Z",
     "start_time": "2024-04-12T09:12:57.793847Z"
    }
   },
   "cell_type": "code",
   "source": [
    "t_stat_12, p_val_12 = ttest_ind(CON_PA['mna_resultats'].between(17, 23.5), CON_PA_MECVV['mna_resultats'].between(17, 23.5), equal_var=False)\n",
    "print(\"P-valor entre malnutr_CON_PA y malnutr_CON_PA_MECVV:\", p_val_12)"
   ],
   "id": "3a2c6f30d476106c",
   "outputs": [
    {
     "name": "stdout",
     "output_type": "stream",
     "text": [
      "P-valor entre malnutr_CON_PA y malnutr_CON_PA_MECVV: nan\n"
     ]
    }
   ],
   "execution_count": 256
  },
  {
   "metadata": {
    "ExecuteTime": {
     "end_time": "2024-04-12T09:12:58.112989Z",
     "start_time": "2024-04-12T09:12:58.103557Z"
    }
   },
   "cell_type": "code",
   "source": [
    "t_stat_13, p_val_13 = ttest_ind(CON_PA['mna_resultats'].between(17, 23.5), SIN_PA['mna_resultats'].between(17, 23.5), equal_var=False)\n",
    "print(\"P-valor entre malnutr_CON_PA y malnutr_SIN_PA:\", p_val_13)"
   ],
   "id": "26dd581da1c61b2a",
   "outputs": [
    {
     "name": "stdout",
     "output_type": "stream",
     "text": [
      "P-valor entre malnutr_CON_PA y malnutr_SIN_PA: 0.3223252185211165\n"
     ]
    }
   ],
   "execution_count": 257
  },
  {
   "metadata": {
    "ExecuteTime": {
     "end_time": "2024-04-12T09:12:58.403544Z",
     "start_time": "2024-04-12T09:12:58.393335Z"
    }
   },
   "cell_type": "code",
   "source": [
    "t_stat_23, p_val_23 = ttest_ind(CON_PA_MECVV['mna_resultats'].between(17, 23.5), SIN_PA['mna_resultats'].between(17, 23.5), equal_var=False)\n",
    "print(\"P-valor entre malnutr_CON_PA_MECVV y malnutr_SIN_PA:\", p_val_23)"
   ],
   "id": "e15a727ac84ee9b9",
   "outputs": [
    {
     "name": "stdout",
     "output_type": "stream",
     "text": [
      "P-valor entre malnutr_CON_PA_MECVV y malnutr_SIN_PA: 0.3223252185211165\n"
     ]
    }
   ],
   "execution_count": 258
  },
  {
   "metadata": {},
   "cell_type": "markdown",
   "source": "##### Malnutricion",
   "id": "905cde52c3b826ac"
  },
  {
   "metadata": {
    "ExecuteTime": {
     "end_time": "2024-04-12T09:12:58.613632Z",
     "start_time": "2024-04-12T09:12:58.603385Z"
    }
   },
   "cell_type": "code",
   "source": [
    "t_stat_12, p_val_12 = ttest_ind(CON_PA['mna_resultats'] <17 , \n",
    "                                CON_PA_MECVV['mna_resultats'] < 17, equal_var=False)\n",
    "print(\"P-valor entre malnut_CON_PA y norm_CON_PA_MECVV:\", p_val_12)"
   ],
   "id": "72f95b8ad2e7790e",
   "outputs": [
    {
     "name": "stdout",
     "output_type": "stream",
     "text": [
      "P-valor entre malnut_CON_PA y norm_CON_PA_MECVV: 0.3626443145321582\n"
     ]
    }
   ],
   "execution_count": 259
  },
  {
   "metadata": {
    "ExecuteTime": {
     "end_time": "2024-04-12T09:12:58.866250Z",
     "start_time": "2024-04-12T09:12:58.854847Z"
    }
   },
   "cell_type": "code",
   "source": [
    "t_stat_13, p_val_13 = ttest_ind(CON_PA['mna_resultats'] <17 , \n",
    "                                SIN_PA['mna_resultats'] < 17, equal_var=False)\n",
    "print(\"P-valor entre malnut_CON_PA y malnut_SIN_PA:\", p_val_13)"
   ],
   "id": "a93d6a6490f1b7e4",
   "outputs": [
    {
     "name": "stdout",
     "output_type": "stream",
     "text": [
      "P-valor entre malnut_CON_PA y malnut_SIN_PA: 0.6703598116552147\n"
     ]
    }
   ],
   "execution_count": 260
  },
  {
   "metadata": {
    "ExecuteTime": {
     "end_time": "2024-04-12T09:12:59.043018Z",
     "start_time": "2024-04-12T09:12:59.033543Z"
    }
   },
   "cell_type": "code",
   "source": [
    "t_stat_23, p_val_23 = ttest_ind(CON_PA_MECVV['mna_resultats'] <17 , \n",
    "                                SIN_PA['mna_resultats'] < 17, equal_var=False)\n",
    "print(\"P-valor entre malnut_CON_PA_MECVV y malnut_SIN_PA:\", p_val_23)"
   ],
   "id": "751e44c45c324db8",
   "outputs": [
    {
     "name": "stdout",
     "output_type": "stream",
     "text": [
      "P-valor entre malnut_CON_PA_MECVV y malnut_SIN_PA: 0.47623865054662595\n"
     ]
    }
   ],
   "execution_count": 261
  },
  {
   "metadata": {},
   "cell_type": "markdown",
   "source": "## Indice de la  EMINA",
   "id": "26f61b8f17444d86"
  },
  {
   "metadata": {},
   "cell_type": "markdown",
   "source": "### Promedio",
   "id": "5c9563929438128a"
  },
  {
   "metadata": {
    "ExecuteTime": {
     "end_time": "2024-04-12T09:12:59.305574Z",
     "start_time": "2024-04-12T09:12:59.293822Z"
    }
   },
   "cell_type": "code",
   "source": [
    "promedio_emina = CON_PA['EMINA_sumatorios_comparados'].mean()\n",
    "desviacion_estandar_emina = CON_PA['EMINA_sumatorios_comparados'].std()\n",
    "\n",
    "resultado = f\"{promedio_emina:.2f} ± {desviacion_estandar_emina:.2f}\"\n",
    "print(\"Promedio ± Desviación Estándar de la emina:\", resultado)"
   ],
   "id": "6b3af33f67ee3c1c",
   "outputs": [
    {
     "name": "stdout",
     "output_type": "stream",
     "text": [
      "Promedio ± Desviación Estándar de la emina: 7.94 ± 3.21\n"
     ]
    }
   ],
   "execution_count": 262
  },
  {
   "metadata": {
    "ExecuteTime": {
     "end_time": "2024-04-12T09:12:59.440789Z",
     "start_time": "2024-04-12T09:12:59.433513Z"
    }
   },
   "cell_type": "code",
   "source": [
    "promedio_emina = CON_PA_MECVV['EMINA_sumatorios_comparados'].mean()\n",
    "desviacion_estandar_emina = CON_PA_MECVV['EMINA_sumatorios_comparados'].std()\n",
    "\n",
    "resultado = f\"{promedio_emina:.2f} ± {desviacion_estandar_emina:.2f}\"\n",
    "print(\"Promedio ± Desviación Estándar de la emina:\", resultado)"
   ],
   "id": "33da5d49fab96790",
   "outputs": [
    {
     "name": "stdout",
     "output_type": "stream",
     "text": [
      "Promedio ± Desviación Estándar de la emina: 7.60 ± 2.01\n"
     ]
    }
   ],
   "execution_count": 263
  },
  {
   "metadata": {
    "ExecuteTime": {
     "end_time": "2024-04-12T09:12:59.781847Z",
     "start_time": "2024-04-12T09:12:59.773312Z"
    }
   },
   "cell_type": "code",
   "source": [
    "promedio_emina = SIN_PA['EMINA_sumatorios_comparados'].mean()\n",
    "desviacion_estandar_emina = SIN_PA['EMINA_sumatorios_comparados'].std()\n",
    "\n",
    "resultado = f\"{promedio_emina:.2f} ± {desviacion_estandar_emina:.2f}\"\n",
    "print(\"Promedio ± Desviación Estándar de la emina:\", resultado)"
   ],
   "id": "8fdc1af6b1f3b3af",
   "outputs": [
    {
     "name": "stdout",
     "output_type": "stream",
     "text": [
      "Promedio ± Desviación Estándar de la emina: 5.64 ± 4.08\n"
     ]
    }
   ],
   "execution_count": 264
  },
  {
   "metadata": {},
   "cell_type": "markdown",
   "source": "#### Pvalor",
   "id": "71013ef3e165a551"
  },
  {
   "metadata": {
    "ExecuteTime": {
     "end_time": "2024-04-12T09:12:59.908216Z",
     "start_time": "2024-04-12T09:12:59.898501Z"
    }
   },
   "cell_type": "code",
   "source": [
    "t_stat_12, p_val_12 = ttest_ind(CON_PA['EMINA_sumatorios_comparados'], CON_PA_MECVV['EMINA_sumatorios_comparados'], equal_var=False)\n",
    "print(\"P-valor entre CON_PA y CON_PA_MECVV:\", p_val_12)"
   ],
   "id": "19c464a0afea8bee",
   "outputs": [
    {
     "name": "stdout",
     "output_type": "stream",
     "text": [
      "P-valor entre CON_PA y CON_PA_MECVV: 0.7372065144531302\n"
     ]
    }
   ],
   "execution_count": 265
  },
  {
   "metadata": {
    "ExecuteTime": {
     "end_time": "2024-04-12T09:13:00.297534Z",
     "start_time": "2024-04-12T09:13:00.288459Z"
    }
   },
   "cell_type": "code",
   "source": [
    "t_stat_13, p_val_13 = ttest_ind(CON_PA['EMINA_sumatorios_comparados'], SIN_PA['EMINA_sumatorios_comparados'], equal_var=False)\n",
    "print(\"P-valor entre CON_PA y SIN_PA:\", p_val_13)"
   ],
   "id": "987f92dcb16d57e2",
   "outputs": [
    {
     "name": "stdout",
     "output_type": "stream",
     "text": [
      "P-valor entre CON_PA y SIN_PA: nan\n"
     ]
    }
   ],
   "execution_count": 266
  },
  {
   "metadata": {
    "ExecuteTime": {
     "end_time": "2024-04-12T09:13:00.518219Z",
     "start_time": "2024-04-12T09:13:00.512719Z"
    }
   },
   "cell_type": "code",
   "source": [
    "t_stat_23, p_val_23 = ttest_ind(CON_PA_MECVV['EMINA_sumatorios_comparados'], SIN_PA['EMINA_sumatorios_comparados'], equal_var=False)\n",
    "print(\"P-valor entre CON_PA_MECVV y SIN_PA:\", p_val_23)"
   ],
   "id": "368fa9440dab1343",
   "outputs": [
    {
     "name": "stdout",
     "output_type": "stream",
     "text": [
      "P-valor entre CON_PA_MECVV y SIN_PA: nan\n"
     ]
    }
   ],
   "execution_count": 267
  },
  {
   "metadata": {},
   "cell_type": "markdown",
   "source": "### Valores EMINA",
   "id": "fe44c5a2a9a5c364"
  },
  {
   "metadata": {},
   "cell_type": "markdown",
   "source": "##### CON_PA",
   "id": "b86ec7ed9e5b32ef"
  },
  {
   "metadata": {
    "ExecuteTime": {
     "end_time": "2024-04-12T09:13:00.859910Z",
     "start_time": "2024-04-12T09:13:00.853683Z"
    }
   },
   "cell_type": "code",
   "source": [
    "lowr_CON_PA = CON_PA['EMINA_sumatorios_comparados'].between(0, 5)\n",
    "porcentaje_lowr_CON_PA = lowr_CON_PA.mean() * 100\n",
    "num_observaciones_lowr_CON_PA = lowr_CON_PA.sum()\n",
    "\n",
    "print(f\"Porcentaje de lowr_CON_PA: {porcentaje_lowr_CON_PA:.2f}%\")\n",
    "print(f\"Número de observaciones en lowr_CON_PA: {num_observaciones_lowr_CON_PA}\")"
   ],
   "id": "86d6a7c6920067a1",
   "outputs": [
    {
     "name": "stdout",
     "output_type": "stream",
     "text": [
      "Porcentaje de lowr_CON_PA: 17.65%\n",
      "Número de observaciones en lowr_CON_PA: 3\n"
     ]
    }
   ],
   "execution_count": 268
  },
  {
   "metadata": {
    "ExecuteTime": {
     "end_time": "2024-04-12T09:13:01.032270Z",
     "start_time": "2024-04-12T09:13:01.023836Z"
    }
   },
   "cell_type": "code",
   "source": [
    "modr_CON_PA = CON_PA['EMINA_sumatorios_comparados'].between(6, 10)\n",
    "porcentaje_modr_CON_PA = modr_CON_PA.mean() * 100\n",
    "num_observaciones_modr_CON_PA = modr_CON_PA.sum()\n",
    "\n",
    "print(f\"Porcentaje de modr_CON_PA: {porcentaje_modr_CON_PA:.2f}%\")\n",
    "print(f\"Número de observaciones en modr_CON_PA: {num_observaciones_modr_CON_PA}\")"
   ],
   "id": "e83559c6b51c4aba",
   "outputs": [
    {
     "name": "stdout",
     "output_type": "stream",
     "text": [
      "Porcentaje de modr_CON_PA: 64.71%\n",
      "Número de observaciones en modr_CON_PA: 11\n"
     ]
    }
   ],
   "execution_count": 269
  },
  {
   "metadata": {
    "ExecuteTime": {
     "end_time": "2024-04-12T09:13:01.331693Z",
     "start_time": "2024-04-12T09:13:01.324854Z"
    }
   },
   "cell_type": "code",
   "source": [
    "highr_CON_PA = CON_PA['EMINA_sumatorios_comparados'].between(11, 15)\n",
    "porcentaje_highr_CON_PA = highr_CON_PA.mean() * 100\n",
    "num_observaciones_highr_CON_PA = highr_CON_PA.sum()\n",
    "\n",
    "print(f\"Porcentaje de highr_CON_PA: {porcentaje_highr_CON_PA:.2f}%\")\n",
    "print(f\"Número de observaciones en highr_CON_PA: {num_observaciones_highr_CON_PA}\")"
   ],
   "id": "65093dd3b95effd9",
   "outputs": [
    {
     "name": "stdout",
     "output_type": "stream",
     "text": [
      "Porcentaje de highr_CON_PA: 17.65%\n",
      "Número de observaciones en highr_CON_PA: 3\n"
     ]
    }
   ],
   "execution_count": 270
  },
  {
   "metadata": {},
   "cell_type": "markdown",
   "source": "##### CON_PA_MECVV",
   "id": "3b6e67f92fff0a50"
  },
  {
   "metadata": {
    "ExecuteTime": {
     "end_time": "2024-04-12T09:13:01.491528Z",
     "start_time": "2024-04-12T09:13:01.483612Z"
    }
   },
   "cell_type": "code",
   "source": [
    "lowr_CON_PA_MECVV = CON_PA_MECVV['EMINA_sumatorios_comparados'].between(0, 5)\n",
    "porcentaje_lowr_CON_PA_MECVV = lowr_CON_PA_MECVV.mean() * 100\n",
    "num_observaciones_lowr_CON_PA_MECVV = lowr_CON_PA_MECVV.sum()\n",
    "\n",
    "print(f\"Porcentaje de lowr_CON_PA_MECVV: {porcentaje_lowr_CON_PA_MECVV:.2f}%\")\n",
    "print(f\"Número de observaciones en lowr_CON_PA_MECVV: {num_observaciones_lowr_CON_PA_MECVV}\")"
   ],
   "id": "adaaabe63e2f49be",
   "outputs": [
    {
     "name": "stdout",
     "output_type": "stream",
     "text": [
      "Porcentaje de lowr_CON_PA_MECVV: 20.00%\n",
      "Número de observaciones en lowr_CON_PA_MECVV: 2\n"
     ]
    }
   ],
   "execution_count": 271
  },
  {
   "metadata": {
    "ExecuteTime": {
     "end_time": "2024-04-12T09:13:01.760545Z",
     "start_time": "2024-04-12T09:13:01.753391Z"
    }
   },
   "cell_type": "code",
   "source": [
    "modr_CON_PA_MECVV = CON_PA_MECVV['EMINA_sumatorios_comparados'].between(6, 10)\n",
    "porcentaje_modr_CON_PA_MECVV = modr_CON_PA_MECVV.mean() * 100\n",
    "num_observaciones_modr_CON_PA_MECVV = modr_CON_PA_MECVV.sum()\n",
    "\n",
    "print(f\"Porcentaje de modr_CON_PA_MECVV: {porcentaje_modr_CON_PA_MECVV:.2f}%\")\n",
    "print(f\"Número de observaciones en modr_CON_PA_MECVV: {num_observaciones_modr_CON_PA_MECVV}\")"
   ],
   "id": "2d28ddd8a3cf1676",
   "outputs": [
    {
     "name": "stdout",
     "output_type": "stream",
     "text": [
      "Porcentaje de modr_CON_PA_MECVV: 80.00%\n",
      "Número de observaciones en modr_CON_PA_MECVV: 8\n"
     ]
    }
   ],
   "execution_count": 272
  },
  {
   "metadata": {
    "ExecuteTime": {
     "end_time": "2024-04-12T09:13:01.920278Z",
     "start_time": "2024-04-12T09:13:01.913667Z"
    }
   },
   "cell_type": "code",
   "source": [
    "highr_CON_PA_MECVV = CON_PA_MECVV['EMINA_sumatorios_comparados'].between(11, 15)\n",
    "porcentaje_highr_CON_PA_MECVV = highr_CON_PA_MECVV.mean() * 100\n",
    "num_observaciones_highr_CON_PA_MECVV = highr_CON_PA_MECVV.sum()\n",
    "\n",
    "print(f\"Porcentaje de highr_CON_PA_MECVV: {porcentaje_highr_CON_PA_MECVV:.2f}%\")\n",
    "print(f\"Número de observaciones en highr_CON_PA_MECVV: {num_observaciones_highr_CON_PA_MECVV}\")"
   ],
   "id": "fb4f6e91c54399f1",
   "outputs": [
    {
     "name": "stdout",
     "output_type": "stream",
     "text": [
      "Porcentaje de highr_CON_PA_MECVV: 0.00%\n",
      "Número de observaciones en highr_CON_PA_MECVV: 0\n"
     ]
    }
   ],
   "execution_count": 273
  },
  {
   "metadata": {},
   "cell_type": "markdown",
   "source": "##### SIN_PA",
   "id": "d04271a0bc855edb"
  },
  {
   "metadata": {
    "ExecuteTime": {
     "end_time": "2024-04-12T09:13:02.183289Z",
     "start_time": "2024-04-12T09:13:02.177715Z"
    }
   },
   "cell_type": "code",
   "source": [
    "lowr_SIN_PA = SIN_PA['EMINA_sumatorios_comparados'].between(0, 5)\n",
    "porcentaje_lowr_SIN_PA = lowr_SIN_PA.mean() * 100\n",
    "num_observaciones_lowr_SIN_PA = lowr_SIN_PA.sum()\n",
    "\n",
    "print(f\"Porcentaje de lowr_SIN_PA: {porcentaje_lowr_SIN_PA:.2f}%\")\n",
    "print(f\"Número de observaciones en lowr_SIN_PA: {num_observaciones_lowr_SIN_PA}\")"
   ],
   "id": "cc1245eef9c28b6a",
   "outputs": [
    {
     "name": "stdout",
     "output_type": "stream",
     "text": [
      "Porcentaje de lowr_SIN_PA: 44.90%\n",
      "Número de observaciones en lowr_SIN_PA: 22\n"
     ]
    }
   ],
   "execution_count": 274
  },
  {
   "metadata": {
    "ExecuteTime": {
     "end_time": "2024-04-12T09:13:02.373436Z",
     "start_time": "2024-04-12T09:13:02.364Z"
    }
   },
   "cell_type": "code",
   "source": [
    "modr_SIN_PA = SIN_PA['EMINA_sumatorios_comparados'].between(6, 10)\n",
    "porcentaje_modr_SIN_PA = modr_SIN_PA.mean() * 100\n",
    "num_observaciones_modr_SIN_PA = modr_SIN_PA.sum()\n",
    "\n",
    "print(f\"Porcentaje de modr_SIN_PA: {porcentaje_modr_SIN_PA:.2f}%\")\n",
    "print(f\"Número de observaciones en modr_SIN_PA: {num_observaciones_modr_SIN_PA}\")"
   ],
   "id": "7761893615ad9180",
   "outputs": [
    {
     "name": "stdout",
     "output_type": "stream",
     "text": [
      "Porcentaje de modr_SIN_PA: 40.82%\n",
      "Número de observaciones en modr_SIN_PA: 20\n"
     ]
    }
   ],
   "execution_count": 275
  },
  {
   "metadata": {
    "ExecuteTime": {
     "end_time": "2024-04-12T09:13:02.662202Z",
     "start_time": "2024-04-12T09:13:02.653346Z"
    }
   },
   "cell_type": "code",
   "source": [
    "highr_SIN_PA = SIN_PA['EMINA_sumatorios_comparados'].between(11, 15)\n",
    "porcentaje_highr_SIN_PA = highr_SIN_PA.mean() * 100\n",
    "num_observaciones_highr_SIN_PA = highr_SIN_PA.sum()\n",
    "\n",
    "print(f\"Porcentaje de highr_SIN_PA: {porcentaje_highr_SIN_PA:.2f}%\")\n",
    "print(f\"Número de observaciones en highr_SIN_PA: {num_observaciones_highr_SIN_PA}\")"
   ],
   "id": "b7b73c45237d7dc5",
   "outputs": [
    {
     "name": "stdout",
     "output_type": "stream",
     "text": [
      "Porcentaje de highr_SIN_PA: 10.20%\n",
      "Número de observaciones en highr_SIN_PA: 5\n"
     ]
    }
   ],
   "execution_count": 276
  },
  {
   "metadata": {},
   "cell_type": "markdown",
   "source": "#### Pvalor ",
   "id": "3baa7d3e12fb1cc"
  },
  {
   "metadata": {},
   "cell_type": "markdown",
   "source": "##### Riesgo bajo",
   "id": "a0332f1a5433e16"
  },
  {
   "metadata": {
    "ExecuteTime": {
     "end_time": "2024-04-12T09:13:02.844795Z",
     "start_time": "2024-04-12T09:13:02.833778Z"
    }
   },
   "cell_type": "code",
   "source": [
    "t_stat_12, p_val_12 = ttest_ind(CON_PA['EMINA_sumatorios_comparados'].between(0,5), CON_PA_MECVV['EMINA_sumatorios_comparados'].between(0,5), equal_var=False)\n",
    "print(\"P-valor entre CON_PA y CON_PA_MECVV:\", p_val_12)"
   ],
   "id": "a4c504c10fa639c8",
   "outputs": [
    {
     "name": "stdout",
     "output_type": "stream",
     "text": [
      "P-valor entre CON_PA y CON_PA_MECVV: 0.8874457485314164\n"
     ]
    }
   ],
   "execution_count": 277
  },
  {
   "metadata": {
    "ExecuteTime": {
     "end_time": "2024-04-12T09:13:03.103484Z",
     "start_time": "2024-04-12T09:13:03.093585Z"
    }
   },
   "cell_type": "code",
   "source": [
    "t_stat_13, p_val_13 = ttest_ind(CON_PA['EMINA_sumatorios_comparados'].between(0,5), SIN_PA['EMINA_sumatorios_comparados'].between(0,5), equal_var=False)\n",
    "print(\"P-valor entre CON_PA y SIN_PA:\", p_val_13)"
   ],
   "id": "ac1ec771898cce9b",
   "outputs": [
    {
     "name": "stdout",
     "output_type": "stream",
     "text": [
      "P-valor entre CON_PA y SIN_PA: 0.028470032037651503\n"
     ]
    }
   ],
   "execution_count": 278
  },
  {
   "metadata": {
    "ExecuteTime": {
     "end_time": "2024-04-12T09:13:03.290689Z",
     "start_time": "2024-04-12T09:13:03.283711Z"
    }
   },
   "cell_type": "code",
   "source": [
    "t_stat_23, p_val_23 = ttest_ind(CON_PA_MECVV['EMINA_sumatorios_comparados'].between(0,5), SIN_PA['EMINA_sumatorios_comparados'].between(0,5), equal_var=False)\n",
    "print(\"P-valor entre CON_PA_MECVV y SIN_PA:\", p_val_23)"
   ],
   "id": "85095f67777cc3d1",
   "outputs": [
    {
     "name": "stdout",
     "output_type": "stream",
     "text": [
      "P-valor entre CON_PA_MECVV y SIN_PA: 0.12129243251471264\n"
     ]
    }
   ],
   "execution_count": 279
  },
  {
   "metadata": {},
   "cell_type": "markdown",
   "source": "##### Riesgo moderado ",
   "id": "bc56bb9041c8190"
  },
  {
   "metadata": {
    "ExecuteTime": {
     "end_time": "2024-04-12T09:13:03.514519Z",
     "start_time": "2024-04-12T09:13:03.503801Z"
    }
   },
   "cell_type": "code",
   "source": [
    "t_stat_12, p_val_12 = ttest_ind(CON_PA['EMINA_sumatorios_comparados'].between(6,10), CON_PA_MECVV['EMINA_sumatorios_comparados'].between(6,10), equal_var=False)\n",
    "print(\"P-valor entre CON_PA y CON_PA_MECVV:\", p_val_12)"
   ],
   "id": "3b06f7bb9555b9c8",
   "outputs": [
    {
     "name": "stdout",
     "output_type": "stream",
     "text": [
      "P-valor entre CON_PA y CON_PA_MECVV: 0.40237952012988454\n"
     ]
    }
   ],
   "execution_count": 280
  },
  {
   "metadata": {
    "ExecuteTime": {
     "end_time": "2024-04-12T09:13:03.856778Z",
     "start_time": "2024-04-12T09:13:03.843820Z"
    }
   },
   "cell_type": "code",
   "source": [
    "t_stat_13, p_val_13 = ttest_ind(CON_PA['EMINA_sumatorios_comparados'].between(6,10), SIN_PA['EMINA_sumatorios_comparados'].between(6,10), equal_var=False)\n",
    "print(\"P-valor entre CON_PA y SIN_PA:\", p_val_13)"
   ],
   "id": "6bc38a3f8e4cb31c",
   "outputs": [
    {
     "name": "stdout",
     "output_type": "stream",
     "text": [
      "P-valor entre CON_PA y SIN_PA: 0.09654829012396034\n"
     ]
    }
   ],
   "execution_count": 281
  },
  {
   "metadata": {
    "ExecuteTime": {
     "end_time": "2024-04-12T09:13:04.196962Z",
     "start_time": "2024-04-12T09:13:04.183753Z"
    }
   },
   "cell_type": "code",
   "source": [
    "t_stat_23, p_val_23 = ttest_ind(CON_PA_MECVV['EMINA_sumatorios_comparados'].between(6,10), SIN_PA['EMINA_sumatorios_comparados'].between(6,10), equal_var=False)\n",
    "print(\"P-valor entre CON_PA_MECVV y SIN_PA:\", p_val_23)"
   ],
   "id": "5724be35a0f2dd6a",
   "outputs": [
    {
     "name": "stdout",
     "output_type": "stream",
     "text": [
      "P-valor entre CON_PA_MECVV y SIN_PA: 0.02066325652755892\n"
     ]
    }
   ],
   "execution_count": 282
  },
  {
   "metadata": {},
   "cell_type": "markdown",
   "source": "##### Riesgo alto",
   "id": "5fd7cd0228563415"
  },
  {
   "metadata": {
    "ExecuteTime": {
     "end_time": "2024-04-12T09:13:04.383569Z",
     "start_time": "2024-04-12T09:13:04.373314Z"
    }
   },
   "cell_type": "code",
   "source": [
    "t_stat_12, p_val_12 = ttest_ind(CON_PA['EMINA_sumatorios_comparados'].between(11,15), CON_PA_MECVV['EMINA_sumatorios_comparados'].between(11,15), equal_var=False)\n",
    "print(\"P-valor entre CON_PA y CON_PA_MECVV:\", p_val_12)"
   ],
   "id": "b291b49b7cfd7801",
   "outputs": [
    {
     "name": "stdout",
     "output_type": "stream",
     "text": [
      "P-valor entre CON_PA y CON_PA_MECVV: 0.08262239198015026\n"
     ]
    }
   ],
   "execution_count": 283
  },
  {
   "metadata": {
    "ExecuteTime": {
     "end_time": "2024-04-12T09:13:04.663937Z",
     "start_time": "2024-04-12T09:13:04.653879Z"
    }
   },
   "cell_type": "code",
   "source": [
    "t_stat_13, p_val_13 = ttest_ind(CON_PA['EMINA_sumatorios_comparados'].between(11,15), SIN_PA['EMINA_sumatorios_comparados'].between(11,15), equal_var=False)\n",
    "print(\"P-valor entre CON_PA y SIN_PA:\", p_val_13)"
   ],
   "id": "2d400de538a5c526",
   "outputs": [
    {
     "name": "stdout",
     "output_type": "stream",
     "text": [
      "P-valor entre CON_PA y SIN_PA: 0.48486212369214565\n"
     ]
    }
   ],
   "execution_count": 284
  },
  {
   "metadata": {
    "ExecuteTime": {
     "end_time": "2024-04-12T09:13:04.823611Z",
     "start_time": "2024-04-12T09:13:04.813867Z"
    }
   },
   "cell_type": "code",
   "source": [
    "t_stat_23, p_val_23 = ttest_ind(CON_PA_MECVV['EMINA_sumatorios_comparados'].between(11,15), SIN_PA['EMINA_sumatorios_comparados'].between(11,15), equal_var=False)\n",
    "print(\"P-valor entre CON_PA_MECVV y SIN_PA:\", p_val_23)"
   ],
   "id": "3b22981463d49b29",
   "outputs": [
    {
     "name": "stdout",
     "output_type": "stream",
     "text": [
      "P-valor entre CON_PA_MECVV y SIN_PA: 0.02374418239053046\n"
     ]
    }
   ],
   "execution_count": 285
  },
  {
   "metadata": {},
   "cell_type": "markdown",
   "source": "## Indice de la canadenca ",
   "id": "5056539fa7987019"
  },
  {
   "metadata": {},
   "cell_type": "markdown",
   "source": "### Promedio",
   "id": "de9fe3b93db47a5d"
  },
  {
   "metadata": {
    "ExecuteTime": {
     "end_time": "2024-04-12T09:13:05.041675Z",
     "start_time": "2024-04-12T09:13:05.033933Z"
    }
   },
   "cell_type": "code",
   "source": [
    "promedio_canad = CON_PA['Canadenca_sumatorios_comparados'].mean()\n",
    "desviacion_estandar_canad = CON_PA['Canadenca_sumatorios_comparados'].std()\n",
    "\n",
    "resultado = f\"{promedio_canad:.2f} ± {desviacion_estandar_canad:.2f}\"\n",
    "print(\"Promedio ± Desviación Estándar de la canadenca:\", resultado)"
   ],
   "id": "f315485a25330ace",
   "outputs": [
    {
     "name": "stdout",
     "output_type": "stream",
     "text": [
      "Promedio ± Desviación Estándar de la canadenca: 7.00 ± nan\n"
     ]
    }
   ],
   "execution_count": 286
  },
  {
   "metadata": {
    "ExecuteTime": {
     "end_time": "2024-04-12T09:13:05.222323Z",
     "start_time": "2024-04-12T09:13:05.213875Z"
    }
   },
   "cell_type": "code",
   "source": [
    "promedio_canad = CON_PA_MECVV['Canadenca_sumatorios_comparados'].mean()\n",
    "desviacion_estandar_canad = CON_PA_MECVV['Canadenca_sumatorios_comparados'].std()\n",
    "\n",
    "resultado = f\"{promedio_canad:.2f} ± {desviacion_estandar_canad:.2f}\"\n",
    "print(\"Promedio ± Desviación Estándar de la canadenca:\", resultado)"
   ],
   "id": "42578915c64daa4c",
   "outputs": [
    {
     "name": "stdout",
     "output_type": "stream",
     "text": [
      "Promedio ± Desviación Estándar de la canadenca: 7.00 ± nan\n"
     ]
    }
   ],
   "execution_count": 287
  },
  {
   "metadata": {
    "ExecuteTime": {
     "end_time": "2024-04-12T09:13:05.450554Z",
     "start_time": "2024-04-12T09:13:05.443636Z"
    }
   },
   "cell_type": "code",
   "source": [
    "promedio_canad = SIN_PA['Canadenca_sumatorios_comparados'].mean()\n",
    "desviacion_estandar_canad = SIN_PA['Canadenca_sumatorios_comparados'].std()\n",
    "\n",
    "resultado = f\"{promedio_canad:.2f} ± {desviacion_estandar_canad:.2f}\"\n",
    "print(\"Promedio ± Desviación Estándar de la canadenca:\", resultado)"
   ],
   "id": "28244115d66ef30d",
   "outputs": [
    {
     "name": "stdout",
     "output_type": "stream",
     "text": [
      "Promedio ± Desviación Estándar de la canadenca: 8.00 ± 1.41\n"
     ]
    }
   ],
   "execution_count": 288
  },
  {
   "metadata": {},
   "cell_type": "markdown",
   "source": "#### Pvalor",
   "id": "6354bda0e179eb04"
  },
  {
   "metadata": {
    "ExecuteTime": {
     "end_time": "2024-04-12T09:13:05.632285Z",
     "start_time": "2024-04-12T09:13:05.624014Z"
    }
   },
   "cell_type": "code",
   "source": [
    "t_stat_12, p_val_12 = ttest_ind(CON_PA['Canadenca_sumatorios_comparados'], CON_PA_MECVV['Canadenca_sumatorios_comparados'], equal_var=False)\n",
    "print(\"P-valor entre CON_PA y CON_PA_MECVV:\", p_val_12)"
   ],
   "id": "607d662547537bd",
   "outputs": [
    {
     "name": "stdout",
     "output_type": "stream",
     "text": [
      "P-valor entre CON_PA y CON_PA_MECVV: nan\n"
     ]
    }
   ],
   "execution_count": 289
  },
  {
   "metadata": {
    "ExecuteTime": {
     "end_time": "2024-04-12T09:13:05.893116Z",
     "start_time": "2024-04-12T09:13:05.884199Z"
    }
   },
   "cell_type": "code",
   "source": [
    "t_stat_13, p_val_13 = ttest_ind(CON_PA['Canadenca_sumatorios_comparados'], SIN_PA['Canadenca_sumatorios_comparados'], equal_var=False)\n",
    "print(\"P-valor entre CON_PA y SIN_PA:\", p_val_13)"
   ],
   "id": "9e5b0ff4c887dbfd",
   "outputs": [
    {
     "name": "stdout",
     "output_type": "stream",
     "text": [
      "P-valor entre CON_PA y SIN_PA: nan\n"
     ]
    }
   ],
   "execution_count": 290
  },
  {
   "metadata": {
    "ExecuteTime": {
     "end_time": "2024-04-12T09:13:06.053569Z",
     "start_time": "2024-04-12T09:13:06.043847Z"
    }
   },
   "cell_type": "code",
   "source": [
    "t_stat_23, p_val_23 = ttest_ind(CON_PA_MECVV['Canadenca_sumatorios_comparados'], SIN_PA['Canadenca_sumatorios_comparados'], equal_var=False)\n",
    "print(\"P-valor entre CON_PA_MECVV y SIN_PA:\", p_val_23)"
   ],
   "id": "1ea57b7e52ab052d",
   "outputs": [
    {
     "name": "stdout",
     "output_type": "stream",
     "text": [
      "P-valor entre CON_PA_MECVV y SIN_PA: nan\n"
     ]
    }
   ],
   "execution_count": 291
  },
  {
   "metadata": {},
   "cell_type": "markdown",
   "source": "### Valores canadenca",
   "id": "bd3bf859cf9f0c4c"
  },
  {
   "metadata": {},
   "cell_type": "markdown",
   "source": "##### CON_PA ",
   "id": "aba9b47507424343"
  },
  {
   "metadata": {
    "ExecuteTime": {
     "end_time": "2024-04-12T09:13:06.327376Z",
     "start_time": "2024-04-12T09:13:06.318318Z"
    }
   },
   "cell_type": "code",
   "source": [
    "mild_CON_PA = CON_PA['Canadenca_sumatorios_comparados'].between(10.5, 11.5)\n",
    "porcentaje_mild_CON_PA = mild_CON_PA.mean() * 100\n",
    "num_observaciones_mild_CON_PA = mild_CON_PA.sum()\n",
    "\n",
    "print(f\"Porcentaje de mild_CON_PA: {porcentaje_mild_CON_PA:.2f}%\")\n",
    "print(f\"Número de observaciones en mild_CON_PA: {num_observaciones_mild_CON_PA}\")"
   ],
   "id": "65c87765592301ae",
   "outputs": [
    {
     "name": "stdout",
     "output_type": "stream",
     "text": [
      "Porcentaje de mild_CON_PA: 0.00%\n",
      "Número de observaciones en mild_CON_PA: 0\n"
     ]
    }
   ],
   "execution_count": 292
  },
  {
   "metadata": {
    "ExecuteTime": {
     "end_time": "2024-04-12T09:13:06.497082Z",
     "start_time": "2024-04-12T09:13:06.483720Z"
    }
   },
   "cell_type": "code",
   "source": [
    "modneu_CON_PA = CON_PA['Canadenca_sumatorios_comparados'].between(5,10)\n",
    "porcentaje_modneu_CON_PA = modneu_CON_PA.mean() * 100\n",
    "num_observaciones_modneu_CON_PA = modneu_CON_PA.sum()\n",
    "\n",
    "print(f\"Porcentaje de modneu_CON_PA: {porcentaje_modneu_CON_PA:.2f}%\")\n",
    "print(f\"Número de observaciones en modneu_CON_PA: {num_observaciones_modneu_CON_PA}\")"
   ],
   "id": "1442231e84ac756e",
   "outputs": [
    {
     "name": "stdout",
     "output_type": "stream",
     "text": [
      "Porcentaje de modneu_CON_PA: 5.88%\n",
      "Número de observaciones en modneu_CON_PA: 1\n"
     ]
    }
   ],
   "execution_count": 293
  },
  {
   "metadata": {
    "ExecuteTime": {
     "end_time": "2024-04-12T09:13:06.788580Z",
     "start_time": "2024-04-12T09:13:06.773525Z"
    }
   },
   "cell_type": "code",
   "source": [
    "sevneu_CON_PA = CON_PA['Canadenca_sumatorios_comparados'].between(1.5, 4.5)\n",
    "porcentaje_sevneu_CON_PA = sevneu_CON_PA.mean() * 100\n",
    "num_observaciones_sevneu_CON_PA = sevneu_CON_PA.sum()\n",
    "\n",
    "print(f\"Porcentaje de sevneu_CON_PA: {porcentaje_sevneu_CON_PA:.2f}%\")\n",
    "print(f\"Número de observaciones en sevneu_CON_PA: {num_observaciones_sevneu_CON_PA}\")"
   ],
   "id": "586734927dd28815",
   "outputs": [
    {
     "name": "stdout",
     "output_type": "stream",
     "text": [
      "Porcentaje de sevneu_CON_PA: 0.00%\n",
      "Número de observaciones en sevneu_CON_PA: 0\n"
     ]
    }
   ],
   "execution_count": 294
  },
  {
   "metadata": {},
   "cell_type": "markdown",
   "source": "##### CON_PA_MECVV",
   "id": "f03643daf5c46168"
  },
  {
   "metadata": {
    "ExecuteTime": {
     "end_time": "2024-04-12T09:13:06.971330Z",
     "start_time": "2024-04-12T09:13:06.963700Z"
    }
   },
   "cell_type": "code",
   "source": [
    "mild_CON_PA_MECVV = CON_PA_MECVV['Canadenca_sumatorios_comparados'].between(10.5, 11.5)\n",
    "porcentaje_mild_CON_PA_MECVV = mild_CON_PA_MECVV.mean() * 100\n",
    "num_observaciones_mild_CON_PA_MECVV = mild_CON_PA_MECVV.sum()\n",
    "\n",
    "print(f\"Porcentaje de mild_CON_PA_MECVV: {porcentaje_mild_CON_PA_MECVV:.2f}%\")\n",
    "print(f\"Número de observaciones en mild_CON_PA_MECVV: {num_observaciones_mild_CON_PA_MECVV}\")"
   ],
   "id": "57347bcca5478fa7",
   "outputs": [
    {
     "name": "stdout",
     "output_type": "stream",
     "text": [
      "Porcentaje de mild_CON_PA_MECVV: 0.00%\n",
      "Número de observaciones en mild_CON_PA_MECVV: 0\n"
     ]
    }
   ],
   "execution_count": 295
  },
  {
   "metadata": {
    "ExecuteTime": {
     "end_time": "2024-04-12T09:13:07.190395Z",
     "start_time": "2024-04-12T09:13:07.183433Z"
    }
   },
   "cell_type": "code",
   "source": [
    "modneu_CON_PA_MECVV = CON_PA_MECVV['Canadenca_sumatorios_comparados'].between(5,10)\n",
    "porcentaje_modneu_CON_PA_MECVV = modneu_CON_PA_MECVV.mean() * 100\n",
    "num_observaciones_modneu_CON_PA_MECVV = modneu_CON_PA_MECVV.sum()\n",
    "\n",
    "print(f\"Porcentaje de modneu_CON_PA_MECVV: {porcentaje_modneu_CON_PA_MECVV:.2f}%\")\n",
    "print(f\"Número de observaciones en modneu_CON_PA_MECVV: {num_observaciones_modneu_CON_PA_MECVV}\")"
   ],
   "id": "be2a9404e79e283",
   "outputs": [
    {
     "name": "stdout",
     "output_type": "stream",
     "text": [
      "Porcentaje de modneu_CON_PA_MECVV: 10.00%\n",
      "Número de observaciones en modneu_CON_PA_MECVV: 1\n"
     ]
    }
   ],
   "execution_count": 296
  },
  {
   "metadata": {
    "ExecuteTime": {
     "end_time": "2024-04-12T09:13:07.387357Z",
     "start_time": "2024-04-12T09:13:07.378746Z"
    }
   },
   "cell_type": "code",
   "source": [
    "sevneu_CON_PA_MECVV = CON_PA_MECVV['Canadenca_sumatorios_comparados'].between(1.5, 4.5)\n",
    "porcentaje_sevneu_CON_PA_MECVV = sevneu_CON_PA_MECVV.mean() * 100\n",
    "num_observaciones_sevneu_CON_PA_MECVV = sevneu_CON_PA_MECVV.sum()\n",
    "\n",
    "print(f\"Porcentaje de sevneu_CON_PA_MECVV: {porcentaje_sevneu_CON_PA_MECVV:.2f}%\")\n",
    "print(f\"Número de observaciones en sevneu_CON_PA_MECVV: {num_observaciones_sevneu_CON_PA_MECVV}\")"
   ],
   "id": "c712d55b14205c2d",
   "outputs": [
    {
     "name": "stdout",
     "output_type": "stream",
     "text": [
      "Porcentaje de sevneu_CON_PA_MECVV: 0.00%\n",
      "Número de observaciones en sevneu_CON_PA_MECVV: 0\n"
     ]
    }
   ],
   "execution_count": 297
  },
  {
   "metadata": {},
   "cell_type": "markdown",
   "source": "##### SIN_PA",
   "id": "d6b64c5ca280741f"
  },
  {
   "metadata": {
    "ExecuteTime": {
     "end_time": "2024-04-12T09:13:07.632575Z",
     "start_time": "2024-04-12T09:13:07.623988Z"
    }
   },
   "cell_type": "code",
   "source": [
    "mild_SIN_PA = SIN_PA['Canadenca_sumatorios_comparados'].between(10.5, 11.5)\n",
    "porcentaje_mild_SIN_PA = mild_SIN_PA.mean() * 100\n",
    "num_observaciones_mild_SIN_PA = mild_SIN_PA.sum()\n",
    "\n",
    "print(f\"Porcentaje de mild_SIN_PA: {porcentaje_mild_SIN_PA:.2f}%\")\n",
    "print(f\"Número de observaciones en mild_SIN_PA: {num_observaciones_mild_SIN_PA}\")"
   ],
   "id": "61008dd57d322928",
   "outputs": [
    {
     "name": "stdout",
     "output_type": "stream",
     "text": [
      "Porcentaje de mild_SIN_PA: 0.00%\n",
      "Número de observaciones en mild_SIN_PA: 0\n"
     ]
    }
   ],
   "execution_count": 298
  },
  {
   "metadata": {
    "ExecuteTime": {
     "end_time": "2024-04-12T09:13:07.743394Z",
     "start_time": "2024-04-12T09:13:07.733887Z"
    }
   },
   "cell_type": "code",
   "source": [
    "modneu_SIN_PA = SIN_PA['Canadenca_sumatorios_comparados'].between(5,10)\n",
    "porcentaje_modneu_SIN_PA = modneu_SIN_PA.mean() * 100\n",
    "num_observaciones_modneu_SIN_PA = modneu_SIN_PA.sum()\n",
    "\n",
    "print(f\"Porcentaje de modneu_SIN_PA: {porcentaje_modneu_SIN_PA:.2f}%\")\n",
    "print(f\"Número de observaciones en modneu_SIN_PA: {num_observaciones_modneu_SIN_PA}\")"
   ],
   "id": "d93cb1dc52c2e4a3",
   "outputs": [
    {
     "name": "stdout",
     "output_type": "stream",
     "text": [
      "Porcentaje de modneu_SIN_PA: 4.08%\n",
      "Número de observaciones en modneu_SIN_PA: 2\n"
     ]
    }
   ],
   "execution_count": 299
  },
  {
   "metadata": {
    "ExecuteTime": {
     "end_time": "2024-04-12T09:13:08.007132Z",
     "start_time": "2024-04-12T09:13:07.993540Z"
    }
   },
   "cell_type": "code",
   "source": [
    "sevneu_SIN_PA = SIN_PA['Canadenca_sumatorios_comparados'].between(1.5, 4.5)\n",
    "porcentaje_sevneu_SIN_PA = sevneu_SIN_PA.mean() * 100\n",
    "num_observaciones_sevneu_SIN_PA = sevneu_SIN_PA.sum()\n",
    "\n",
    "print(f\"Porcentaje de sevneu_SIN_PA: {porcentaje_sevneu_SIN_PA:.2f}%\")\n",
    "print(f\"Número de observaciones en sevneu_SIN_PA: {num_observaciones_sevneu_SIN_PA}\")"
   ],
   "id": "c2bd8e7e46f3f6fa",
   "outputs": [
    {
     "name": "stdout",
     "output_type": "stream",
     "text": [
      "Porcentaje de sevneu_SIN_PA: 0.00%\n",
      "Número de observaciones en sevneu_SIN_PA: 0\n"
     ]
    }
   ],
   "execution_count": 300
  },
  {
   "metadata": {},
   "cell_type": "markdown",
   "source": "#### Pvalor",
   "id": "d3c987c2989e5129"
  },
  {
   "metadata": {},
   "cell_type": "markdown",
   "source": "##### Deficit neurologico ligero (mild)",
   "id": "434c4358f4a229a0"
  },
  {
   "metadata": {
    "ExecuteTime": {
     "end_time": "2024-04-12T09:13:08.153004Z",
     "start_time": "2024-04-12T09:13:08.144565Z"
    }
   },
   "cell_type": "code",
   "source": [
    "t_stat_12, p_val_12 = ttest_ind(CON_PA['Canadenca_sumatorios_comparados'].between(10.5,11.5), CON_PA_MECVV['Canadenca_sumatorios_comparados'].between(10.5,11.5), equal_var=False)\n",
    "print(\"P-valor entre CON_PA y CON_PA_MECVV:\", p_val_12)"
   ],
   "id": "c73d6b247f483fed",
   "outputs": [
    {
     "name": "stdout",
     "output_type": "stream",
     "text": [
      "P-valor entre CON_PA y CON_PA_MECVV: nan\n"
     ]
    }
   ],
   "execution_count": 301
  },
  {
   "metadata": {
    "ExecuteTime": {
     "end_time": "2024-04-12T09:13:08.440056Z",
     "start_time": "2024-04-12T09:13:08.424054Z"
    }
   },
   "cell_type": "code",
   "source": [
    "t_stat_13, p_val_13 = ttest_ind(CON_PA['Canadenca_sumatorios_comparados'].between(10.5,11.5), SIN_PA['Canadenca_sumatorios_comparados'].between(10.5,11.5), equal_var=False)\n",
    "print(\"P-valor entre CON_PA y SIN_PA:\", p_val_13)"
   ],
   "id": "60e422a1a3bbc0b0",
   "outputs": [
    {
     "name": "stdout",
     "output_type": "stream",
     "text": [
      "P-valor entre CON_PA y SIN_PA: nan\n"
     ]
    }
   ],
   "execution_count": 302
  },
  {
   "metadata": {
    "ExecuteTime": {
     "end_time": "2024-04-12T09:13:08.651709Z",
     "start_time": "2024-04-12T09:13:08.643745Z"
    }
   },
   "cell_type": "code",
   "source": [
    "t_stat_23, p_val_23 = ttest_ind(CON_PA_MECVV['Canadenca_sumatorios_comparados'].between(10.5,11.5), SIN_PA['Canadenca_sumatorios_comparados'].between(10.5,11.5), equal_var=False)\n",
    "print(\"P-valor entre CON_PA_MECVV y SIN_PA:\", p_val_23)"
   ],
   "id": "c075274c183bac63",
   "outputs": [
    {
     "name": "stdout",
     "output_type": "stream",
     "text": [
      "P-valor entre CON_PA_MECVV y SIN_PA: nan\n"
     ]
    }
   ],
   "execution_count": 303
  },
  {
   "metadata": {},
   "cell_type": "markdown",
   "source": "##### Deficit neurologico moderado",
   "id": "552ccd99227faf82"
  },
  {
   "metadata": {
    "ExecuteTime": {
     "end_time": "2024-04-12T09:13:08.899364Z",
     "start_time": "2024-04-12T09:13:08.885113Z"
    }
   },
   "cell_type": "code",
   "source": [
    "t_stat_12, p_val_12 = ttest_ind(CON_PA['Canadenca_sumatorios_comparados'].between(5,10), CON_PA_MECVV['Canadenca_sumatorios_comparados'].between(5, 10), equal_var=False)\n",
    "print(\"P-valor entre CON_PA y CON_PA_MECVV:\", p_val_12)"
   ],
   "id": "e94a1d27fb89e47b",
   "outputs": [
    {
     "name": "stdout",
     "output_type": "stream",
     "text": [
      "P-valor entre CON_PA y CON_PA_MECVV: 0.727506051578171\n"
     ]
    }
   ],
   "execution_count": 304
  },
  {
   "metadata": {
    "ExecuteTime": {
     "end_time": "2024-04-12T09:13:09.125184Z",
     "start_time": "2024-04-12T09:13:09.114085Z"
    }
   },
   "cell_type": "code",
   "source": [
    "t_stat_13, p_val_13 = ttest_ind(CON_PA['Canadenca_sumatorios_comparados'].between(5,10), SIN_PA['Canadenca_sumatorios_comparados'].between(5, 10), equal_var=False)\n",
    "print(\"P-valor entre CON_PA y CON_PA_MECVV:\", p_val_13)"
   ],
   "id": "b8a25453cf521a60",
   "outputs": [
    {
     "name": "stdout",
     "output_type": "stream",
     "text": [
      "P-valor entre CON_PA y CON_PA_MECVV: 0.7853810396215979\n"
     ]
    }
   ],
   "execution_count": 305
  },
  {
   "metadata": {
    "ExecuteTime": {
     "end_time": "2024-04-12T09:13:09.419137Z",
     "start_time": "2024-04-12T09:13:09.404299Z"
    }
   },
   "cell_type": "code",
   "source": [
    "t_stat_23, p_val_23 = ttest_ind(CON_PA_MECVV['Canadenca_sumatorios_comparados'].between(5,10), SIN_PA['Canadenca_sumatorios_comparados'].between(5, 10), equal_var=False)\n",
    "print(\"P-valor entre CON_PA_MECVV y SIN_PA:\", p_val_23)"
   ],
   "id": "42d8b634d6f77cf8",
   "outputs": [
    {
     "name": "stdout",
     "output_type": "stream",
     "text": [
      "P-valor entre CON_PA_MECVV y SIN_PA: 0.5812513721413167\n"
     ]
    }
   ],
   "execution_count": 306
  },
  {
   "metadata": {},
   "cell_type": "markdown",
   "source": "##### Deficit neurologico severo",
   "id": "28b3b79ffa4ba154"
  },
  {
   "metadata": {
    "ExecuteTime": {
     "end_time": "2024-04-12T09:13:09.600794Z",
     "start_time": "2024-04-12T09:13:09.593629Z"
    }
   },
   "cell_type": "code",
   "source": [
    "t_stat_12, p_val_12 = ttest_ind(CON_PA['Canadenca_sumatorios_comparados'].between(1.5,4.5), CON_PA_MECVV['Canadenca_sumatorios_comparados'].between(1.5,4.5), equal_var=False)\n",
    "print(\"P-valor entre CON_PA y CON_PA_MECVV:\", p_val_12)"
   ],
   "id": "1375c0dec76e62b5",
   "outputs": [
    {
     "name": "stdout",
     "output_type": "stream",
     "text": [
      "P-valor entre CON_PA y CON_PA_MECVV: nan\n"
     ]
    }
   ],
   "execution_count": 307
  },
  {
   "metadata": {
    "ExecuteTime": {
     "end_time": "2024-04-12T09:13:09.859332Z",
     "start_time": "2024-04-12T09:13:09.843362Z"
    }
   },
   "cell_type": "code",
   "source": [
    "t_stat_13, p_val_13 = ttest_ind(CON_PA['Canadenca_sumatorios_comparados'].between(1.5, 4.5), SIN_PA['Canadenca_sumatorios_comparados'].between(1.5, 4.5), equal_var=False)\n",
    "print(\"P-valor entre CON_PA y SIN_PA:\", p_val_13)"
   ],
   "id": "b9b1bd499fc47c40",
   "outputs": [
    {
     "name": "stdout",
     "output_type": "stream",
     "text": [
      "P-valor entre CON_PA y SIN_PA: nan\n"
     ]
    }
   ],
   "execution_count": 308
  },
  {
   "metadata": {
    "ExecuteTime": {
     "end_time": "2024-04-12T09:13:10.023632Z",
     "start_time": "2024-04-12T09:13:10.014001Z"
    }
   },
   "cell_type": "code",
   "source": [
    "t_stat_23, p_val_23 = ttest_ind(CON_PA_MECVV['Canadenca_sumatorios_comparados'].between(1.5,4.5), SIN_PA['Canadenca_sumatorios_comparados'].between(1.5, 4.5), equal_var=False)\n",
    "print(\"P-valor entre CON_PA_MECVV y SIN_PA:\", p_val_23)"
   ],
   "id": "f4a9f79d4781e2f6",
   "outputs": [
    {
     "name": "stdout",
     "output_type": "stream",
     "text": [
      "P-valor entre CON_PA_MECVV y SIN_PA: nan\n"
     ]
    }
   ],
   "execution_count": 309
  },
  {
   "metadata": {},
   "cell_type": "markdown",
   "source": "## Infecciones respiratorias",
   "id": "1c243e776c0acbcb"
  },
  {
   "metadata": {},
   "cell_type": "markdown",
   "source": "##### CON_PA ",
   "id": "75cdc96e688bb6e5"
  },
  {
   "metadata": {
    "ExecuteTime": {
     "end_time": "2024-04-12T09:13:10.279766Z",
     "start_time": "2024-04-12T09:13:10.273966Z"
    }
   },
   "cell_type": "code",
   "source": [
    "mainresp_CON_PA= (CON_PA['Main_respiratory_infections_diagnosticada'] == 1.0).mean() * 100\n",
    "print(f\"Porcentaje de infecciones respiratorias principales : {mainresp_CON_PA:.2f}%\")"
   ],
   "id": "6b4ac9f955c7ef70",
   "outputs": [
    {
     "name": "stdout",
     "output_type": "stream",
     "text": [
      "Porcentaje de infecciones respiratorias principales : 41.18%\n"
     ]
    }
   ],
   "execution_count": 310
  },
  {
   "metadata": {
    "ExecuteTime": {
     "end_time": "2024-04-12T09:13:10.450111Z",
     "start_time": "2024-04-12T09:13:10.443873Z"
    }
   },
   "cell_type": "code",
   "source": [
    "LRTI_CON_PA= (CON_PA['LRTI_diagnosticada'] == 1.0).mean() * 100\n",
    "print(f\"Porcentaje de LRTI: {LRTI_CON_PA:.2f}%\")"
   ],
   "id": "f2cab9c85d7b18bf",
   "outputs": [
    {
     "name": "stdout",
     "output_type": "stream",
     "text": [
      "Porcentaje de LRTI: 17.65%\n"
     ]
    }
   ],
   "execution_count": 311
  },
  {
   "metadata": {
    "ExecuteTime": {
     "end_time": "2024-04-12T09:13:10.721725Z",
     "start_time": "2024-04-12T09:13:10.714416Z"
    }
   },
   "cell_type": "code",
   "source": [
    "COPD_CON_PA= (CON_PA['COPD_exacerbations_diagnosticada'] == 1.0).mean() * 100\n",
    "print(f\"Porcentaje de exacerbaciones de COPD: {COPD_CON_PA:.2f}%\")"
   ],
   "id": "e92f1139bdd11207",
   "outputs": [
    {
     "name": "stdout",
     "output_type": "stream",
     "text": [
      "Porcentaje de exacerbaciones de COPD: 29.41%\n"
     ]
    }
   ],
   "execution_count": 312
  },
  {
   "metadata": {
    "ExecuteTime": {
     "end_time": "2024-04-12T09:13:10.880044Z",
     "start_time": "2024-04-12T09:13:10.874013Z"
    }
   },
   "cell_type": "code",
   "source": [
    "fibro_CON_PA= (CON_PA['Pulmonary_fibrosis_fibrotorax_diagnosticada'] == 1.0).mean() * 100\n",
    "print(f\"Porcentaje de fibrosis pulmonar y fibrotorax: {fibro_CON_PA:.2f}%\")"
   ],
   "id": "f60fd9578e2dc543",
   "outputs": [
    {
     "name": "stdout",
     "output_type": "stream",
     "text": [
      "Porcentaje de fibrosis pulmonar y fibrotorax: 0.00%\n"
     ]
    }
   ],
   "execution_count": 313
  },
  {
   "metadata": {},
   "cell_type": "markdown",
   "source": "##### CON_PA_MECVV",
   "id": "a81ccd9e1687fa90"
  },
  {
   "metadata": {
    "ExecuteTime": {
     "end_time": "2024-04-12T09:13:11.173346Z",
     "start_time": "2024-04-12T09:13:11.167060Z"
    }
   },
   "cell_type": "code",
   "source": [
    "mainresp_CON_PA_MECVV= (CON_PA_MECVV['Main_respiratory_infections_diagnosticada'] == 1.0).mean() * 100\n",
    "print(f\"Porcentaje de infecciones respiratorias principales : {mainresp_CON_PA_MECVV:.2f}%\")"
   ],
   "id": "b33098c2a54d36b5",
   "outputs": [
    {
     "name": "stdout",
     "output_type": "stream",
     "text": [
      "Porcentaje de infecciones respiratorias principales : 50.00%\n"
     ]
    }
   ],
   "execution_count": 314
  },
  {
   "metadata": {
    "ExecuteTime": {
     "end_time": "2024-04-12T09:13:11.382409Z",
     "start_time": "2024-04-12T09:13:11.374062Z"
    }
   },
   "cell_type": "code",
   "source": [
    "LRTI_CON_PA_MECVV= (CON_PA_MECVV['LRTI_diagnosticada'] == 1.0).mean() * 100\n",
    "print(f\"Porcentaje de LRTI: {LRTI_CON_PA_MECVV:.2f}%\")"
   ],
   "id": "f85be13f8ff8a16d",
   "outputs": [
    {
     "name": "stdout",
     "output_type": "stream",
     "text": [
      "Porcentaje de LRTI: 20.00%\n"
     ]
    }
   ],
   "execution_count": 315
  },
  {
   "metadata": {
    "ExecuteTime": {
     "end_time": "2024-04-12T09:13:11.690595Z",
     "start_time": "2024-04-12T09:13:11.684900Z"
    }
   },
   "cell_type": "code",
   "source": [
    "COPD_CON_PA_MECVV = (CON_PA_MECVV['COPD_exacerbations_diagnosticada'] == 1.0).mean() * 100\n",
    "print(f\"Porcentaje de exacerbaciones de COPD: {COPD_CON_PA_MECVV:.2f}%\")"
   ],
   "id": "d490fe0fa5146ba1",
   "outputs": [
    {
     "name": "stdout",
     "output_type": "stream",
     "text": [
      "Porcentaje de exacerbaciones de COPD: 30.00%\n"
     ]
    }
   ],
   "execution_count": 316
  },
  {
   "metadata": {
    "ExecuteTime": {
     "end_time": "2024-04-12T09:13:11.902978Z",
     "start_time": "2024-04-12T09:13:11.893759Z"
    }
   },
   "cell_type": "code",
   "source": [
    "fibro_CON_PA_MECVV = (CON_PA_MECVV['Pulmonary_fibrosis_fibrotorax_diagnosticada'] == 1.0).mean() * 100\n",
    "print(f\"Porcentaje de fibrosis pulmonar y fibrotorax: {fibro_CON_PA_MECVV:.2f}%\")"
   ],
   "id": "719cbe71770c9c5d",
   "outputs": [
    {
     "name": "stdout",
     "output_type": "stream",
     "text": [
      "Porcentaje de fibrosis pulmonar y fibrotorax: 0.00%\n"
     ]
    }
   ],
   "execution_count": 317
  },
  {
   "metadata": {},
   "cell_type": "markdown",
   "source": "##### SIN_PA",
   "id": "4ee57a32f85d8da"
  },
  {
   "metadata": {
    "ExecuteTime": {
     "end_time": "2024-04-12T09:13:12.123185Z",
     "start_time": "2024-04-12T09:13:12.113559Z"
    }
   },
   "cell_type": "code",
   "source": [
    "mainresp_SIN_PA= (SIN_PA['Main_respiratory_infections_diagnosticada'] == 1.0).mean() * 100\n",
    "print(f\"Porcentaje de infecciones respiratorias principales : {mainresp_SIN_PA:.2f}%\")"
   ],
   "id": "13154b248379e6da",
   "outputs": [
    {
     "name": "stdout",
     "output_type": "stream",
     "text": [
      "Porcentaje de infecciones respiratorias principales : 42.86%\n"
     ]
    }
   ],
   "execution_count": 318
  },
  {
   "metadata": {
    "ExecuteTime": {
     "end_time": "2024-04-12T09:13:12.289443Z",
     "start_time": "2024-04-12T09:13:12.283773Z"
    }
   },
   "cell_type": "code",
   "source": [
    "LRTI_SIN_PA= (SIN_PA['LRTI_diagnosticada'] == 1.0).mean() * 100\n",
    "print(f\"Porcentaje de LRTI: {LRTI_SIN_PA:.2f}%\")"
   ],
   "id": "7b6d0993a6d8d0f7",
   "outputs": [
    {
     "name": "stdout",
     "output_type": "stream",
     "text": [
      "Porcentaje de LRTI: 22.45%\n"
     ]
    }
   ],
   "execution_count": 319
  },
  {
   "metadata": {
    "ExecuteTime": {
     "end_time": "2024-04-12T09:13:12.582004Z",
     "start_time": "2024-04-12T09:13:12.574119Z"
    }
   },
   "cell_type": "code",
   "source": [
    "COPD_SIN_PA= (SIN_PA['COPD_exacerbations_diagnosticada'] == 1.0).mean() * 100\n",
    "print(f\"Porcentaje de exacerbaciones de COPD: {COPD_SIN_PA:.2f}%\")"
   ],
   "id": "2fde8b1f558da814",
   "outputs": [
    {
     "name": "stdout",
     "output_type": "stream",
     "text": [
      "Porcentaje de exacerbaciones de COPD: 32.65%\n"
     ]
    }
   ],
   "execution_count": 320
  },
  {
   "metadata": {
    "ExecuteTime": {
     "end_time": "2024-04-12T09:13:12.804097Z",
     "start_time": "2024-04-12T09:13:12.793826Z"
    }
   },
   "cell_type": "code",
   "source": [
    "fibro_SIN_PA= (SIN_PA['Pulmonary_fibrosis_fibrotorax_diagnosticada'] == 1.0).mean() * 100\n",
    "print(f\"Porcentaje de fibrosis pulmonar y fibrotorax: {fibro_SIN_PA:.2f}%\")"
   ],
   "id": "9ec61073db25b76d",
   "outputs": [
    {
     "name": "stdout",
     "output_type": "stream",
     "text": [
      "Porcentaje de fibrosis pulmonar y fibrotorax: 0.00%\n"
     ]
    }
   ],
   "execution_count": 321
  },
  {
   "metadata": {},
   "cell_type": "markdown",
   "source": "#### Pvalor",
   "id": "e4b7d99054b0af12"
  },
  {
   "metadata": {},
   "cell_type": "markdown",
   "source": "##### Infecciones respiratorias principales ",
   "id": "5e8e1e8b1c32f8ad"
  },
  {
   "metadata": {
    "ExecuteTime": {
     "end_time": "2024-04-12T09:13:13.048768Z",
     "start_time": "2024-04-12T09:13:13.044199Z"
    }
   },
   "cell_type": "code",
   "source": "",
   "id": "db72a64133768bd1",
   "outputs": [],
   "execution_count": 321
  }
 ],
 "metadata": {
  "kernelspec": {
   "display_name": "Python 3",
   "language": "python",
   "name": "python3"
  },
  "language_info": {
   "codemirror_mode": {
    "name": "ipython",
    "version": 2
   },
   "file_extension": ".py",
   "mimetype": "text/x-python",
   "name": "python",
   "nbconvert_exporter": "python",
   "pygments_lexer": "ipython2",
   "version": "2.7.6"
  }
 },
 "nbformat": 4,
 "nbformat_minor": 5
}
