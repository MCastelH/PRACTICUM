{
 "cells": [
  {
   "cell_type": "markdown",
   "source": "## Paquets i dades originals ## ",
   "metadata": {
    "collapsed": false
   },
   "id": "56adfe3014ecabc7"
  },
  {
   "cell_type": "code",
   "source": [
    "import json\n",
    "import pandas as pd\n",
    "from datetime import datetime\n",
    "\n",
    "\n",
    "from auxiliary_functions import (obtenir_data_presencia_codi, restar_dates, codis_ICD, nombre_ingressos,\n",
    "                                 dies_ingressat_total, interval_10_edat,\n",
    "                                 sumar_barthel, sumar_emina, obtenir_ultima_clau, obtenir_pes_o_mitjana,\n",
    "                                 canadenca_comparada, disfagia_mecvvs, extreure_valors_claus,\n",
    "                                 extreure_valors_claus_simple, obtenir_valors_clau_interes, index_charlson,\n",
    "                                 obtenir_pes_mes_antic, obtenir_pes_mes_nou, obtenir_data_pes_mes_antic,\n",
    "                                 obtenir_primera_data_mecvv, obtenir_pes_coincident_mecvv, restar_columnes_object)\n",
    "from listas import (PA_list, P_list, disfagia_list, Main_respiratory_infections_list, LRTI_list,\n",
    "                    COPD_exacerbations_list,\n",
    "                    Pulmonary_fibrosis_fibrotorax_list, priorfalls_list, delirium_list, dementia_list, depresyndr_list,\n",
    "                    uriincont_list, fecincont_list, pressulc_list, immob_list, conf_list, osteopor_list,\n",
    "                    sarcopenia_list,\n",
    "                    sleepdisturb_list, chrpain_list, iatrog_list, constipation_list, CVdisease_list, heartdisease_list,\n",
    "                    ND_list, DM_list, hepatopat_list, neopl_list, AcuteRenalF_list, dizsyn_list, VIH_list,\n",
    "                    psicosis_list, nutridef_list, charlson_dict)\n",
    "\n",
    "taula = pd.read_pickle('./data/processed/dataframe.pkl')\n",
    "from scipy.stats import ttest_ind\n",
    "from scipy.stats import shapiro\n",
    "from scipy.stats import mannwhitneyu\n",
    "from scipy.stats import chi2_contingency\n"
   ],
   "metadata": {
    "collapsed": false,
    "ExecuteTime": {
     "end_time": "2024-05-06T06:38:12.643052Z",
     "start_time": "2024-05-06T06:38:10.935748Z"
    }
   },
   "id": "34dba1a0fd28236e",
   "outputs": [],
   "execution_count": 2
  },
  {
   "cell_type": "markdown",
   "source": "Prèviament, he tractat les dades creant noves columnes que classifiquen millor tota la informació disponible",
   "metadata": {
    "collapsed": false
   },
   "id": "5e397a948db661a4"
  },
  {
   "cell_type": "code",
   "source": "taula.head()",
   "metadata": {
    "collapsed": false,
    "ExecuteTime": {
     "end_time": "2024-05-06T06:39:01.625272Z",
     "start_time": "2024-05-06T06:39:01.439339Z"
    }
   },
   "id": "aa2554a079d8240",
   "outputs": [
    {
     "data": {
      "text/plain": [
       "   edat sexe  visitaDietista  \\\n",
       "0    89    F               0   \n",
       "1    70    M               0   \n",
       "2    96    M               0   \n",
       "3    85    M               0   \n",
       "4    93    M               0   \n",
       "\n",
       "                                                labs  \\\n",
       "0                                                 []   \n",
       "1  [{'date': '20220524', 'name': 'PCR SARS-CoV2 S...   \n",
       "2                                                 []   \n",
       "3                                                 []   \n",
       "4  [{'date': '20220208', 'name': 'UREA Sèrum', 'l...   \n",
       "\n",
       "                                                 mna  \\\n",
       "0                                                 []   \n",
       "1                                                 []   \n",
       "2                                                 []   \n",
       "3                                                 []   \n",
       "4  [{'imc': '0', 'anorexia': '1', 'perduaPes': '1...   \n",
       "\n",
       "                                               emina canadenca  \\\n",
       "0  [{'activitat': '2', 'estatMental': '1', 'humit...        []   \n",
       "1  [{'activitat': '0', 'estatMental': '0', 'humit...        []   \n",
       "2  [{'activitat': '3', 'estatMental': '0', 'humit...        []   \n",
       "3  [{'activitat': '2', 'estatMental': '1', 'humit...        []   \n",
       "4  [{'activitat': '2', 'estatMental': '1', 'humit...        []   \n",
       "\n",
       "                                                 pes  \\\n",
       "0                                                 []   \n",
       "1  [{'valor': '64.7', 'data': '2022-10-04'}, {'va...   \n",
       "2                                                 []   \n",
       "3                                                 []   \n",
       "4  [{'valor': '49.900', 'data': '2022-06-02'}, {'...   \n",
       "\n",
       "                                                atcs  \\\n",
       "0  [{'codi': 'M01AE', 'dataInici': '2020-06-21 00...   \n",
       "1  [{'codi': 'C09AA', 'dataInici': '2021-05-26 00...   \n",
       "2  [{'codi': 'G04CA', 'dataInici': '2020-07-09 00...   \n",
       "3  [{'codi': 'G04CA', 'dataInici': '2020-07-15 00...   \n",
       "4  [{'codi': 'N02AA', 'dataInici': '2022-02-01 00...   \n",
       "\n",
       "                                              mecvvs  ...  \\\n",
       "0                                                 []  ...   \n",
       "1  [{'data': '20220930', 'pacientNoColabora': '',...  ...   \n",
       "2                                                 []  ...   \n",
       "3  [{'data': '20201204131810', 'disfagia': 'S', '...  ...   \n",
       "4  [{'data': '20220330172303', 'disfagiaConeguda'...  ...   \n",
       "\n",
       "                                         FGE CDK-EPI Pes més antic  \\\n",
       "0                                               None          None   \n",
       "1                                                >90            70   \n",
       "2                                               None          None   \n",
       "3                                               None          None   \n",
       "4  Proves afegides a un altre petició per extracc...        49.900   \n",
       "\n",
       "   Pes més nou  Data pes més antic  Data primer MECVV  \\\n",
       "0         None                None                NaT   \n",
       "1         53.7          2022-07-06                NaT   \n",
       "2         None                None                NaT   \n",
       "3         None                None         2020-12-04   \n",
       "4       49.900          2022-06-02                NaT   \n",
       "\n",
       "   Pes coincident primer MECVV  Pèrdua pes entre ingressos  Pèrdua pes total  \\\n",
       "0                         None                        None              None   \n",
       "1                         None                        None              16.3   \n",
       "2                         None                        None              None   \n",
       "3                         None                        None              None   \n",
       "4                         None                        None               0.0   \n",
       "\n",
       "   Data més antiga pneumònia  \\\n",
       "0                 2020-06-18   \n",
       "1                 2022-09-29   \n",
       "2                 2020-07-08   \n",
       "3                 2020-12-02   \n",
       "4                 2022-08-07   \n",
       "\n",
       "   Dies entre primer ICD pneumònia i primer MECVV positiu  \n",
       "0                                                NaN       \n",
       "1                                                NaN       \n",
       "2                                                NaN       \n",
       "3                                                2.0       \n",
       "4                                                NaN       \n",
       "\n",
       "[5 rows x 81 columns]"
      ],
      "text/html": [
       "<div>\n",
       "<style scoped>\n",
       "    .dataframe tbody tr th:only-of-type {\n",
       "        vertical-align: middle;\n",
       "    }\n",
       "\n",
       "    .dataframe tbody tr th {\n",
       "        vertical-align: top;\n",
       "    }\n",
       "\n",
       "    .dataframe thead th {\n",
       "        text-align: right;\n",
       "    }\n",
       "</style>\n",
       "<table border=\"1\" class=\"dataframe\">\n",
       "  <thead>\n",
       "    <tr style=\"text-align: right;\">\n",
       "      <th></th>\n",
       "      <th>edat</th>\n",
       "      <th>sexe</th>\n",
       "      <th>visitaDietista</th>\n",
       "      <th>labs</th>\n",
       "      <th>mna</th>\n",
       "      <th>emina</th>\n",
       "      <th>canadenca</th>\n",
       "      <th>pes</th>\n",
       "      <th>atcs</th>\n",
       "      <th>mecvvs</th>\n",
       "      <th>...</th>\n",
       "      <th>FGE CDK-EPI</th>\n",
       "      <th>Pes més antic</th>\n",
       "      <th>Pes més nou</th>\n",
       "      <th>Data pes més antic</th>\n",
       "      <th>Data primer MECVV</th>\n",
       "      <th>Pes coincident primer MECVV</th>\n",
       "      <th>Pèrdua pes entre ingressos</th>\n",
       "      <th>Pèrdua pes total</th>\n",
       "      <th>Data més antiga pneumònia</th>\n",
       "      <th>Dies entre primer ICD pneumònia i primer MECVV positiu</th>\n",
       "    </tr>\n",
       "  </thead>\n",
       "  <tbody>\n",
       "    <tr>\n",
       "      <th>0</th>\n",
       "      <td>89</td>\n",
       "      <td>F</td>\n",
       "      <td>0</td>\n",
       "      <td>[]</td>\n",
       "      <td>[]</td>\n",
       "      <td>[{'activitat': '2', 'estatMental': '1', 'humit...</td>\n",
       "      <td>[]</td>\n",
       "      <td>[]</td>\n",
       "      <td>[{'codi': 'M01AE', 'dataInici': '2020-06-21 00...</td>\n",
       "      <td>[]</td>\n",
       "      <td>...</td>\n",
       "      <td>None</td>\n",
       "      <td>None</td>\n",
       "      <td>None</td>\n",
       "      <td>None</td>\n",
       "      <td>NaT</td>\n",
       "      <td>None</td>\n",
       "      <td>None</td>\n",
       "      <td>None</td>\n",
       "      <td>2020-06-18</td>\n",
       "      <td>NaN</td>\n",
       "    </tr>\n",
       "    <tr>\n",
       "      <th>1</th>\n",
       "      <td>70</td>\n",
       "      <td>M</td>\n",
       "      <td>0</td>\n",
       "      <td>[{'date': '20220524', 'name': 'PCR SARS-CoV2 S...</td>\n",
       "      <td>[]</td>\n",
       "      <td>[{'activitat': '0', 'estatMental': '0', 'humit...</td>\n",
       "      <td>[]</td>\n",
       "      <td>[{'valor': '64.7', 'data': '2022-10-04'}, {'va...</td>\n",
       "      <td>[{'codi': 'C09AA', 'dataInici': '2021-05-26 00...</td>\n",
       "      <td>[{'data': '20220930', 'pacientNoColabora': '',...</td>\n",
       "      <td>...</td>\n",
       "      <td>&gt;90</td>\n",
       "      <td>70</td>\n",
       "      <td>53.7</td>\n",
       "      <td>2022-07-06</td>\n",
       "      <td>NaT</td>\n",
       "      <td>None</td>\n",
       "      <td>None</td>\n",
       "      <td>16.3</td>\n",
       "      <td>2022-09-29</td>\n",
       "      <td>NaN</td>\n",
       "    </tr>\n",
       "    <tr>\n",
       "      <th>2</th>\n",
       "      <td>96</td>\n",
       "      <td>M</td>\n",
       "      <td>0</td>\n",
       "      <td>[]</td>\n",
       "      <td>[]</td>\n",
       "      <td>[{'activitat': '3', 'estatMental': '0', 'humit...</td>\n",
       "      <td>[]</td>\n",
       "      <td>[]</td>\n",
       "      <td>[{'codi': 'G04CA', 'dataInici': '2020-07-09 00...</td>\n",
       "      <td>[]</td>\n",
       "      <td>...</td>\n",
       "      <td>None</td>\n",
       "      <td>None</td>\n",
       "      <td>None</td>\n",
       "      <td>None</td>\n",
       "      <td>NaT</td>\n",
       "      <td>None</td>\n",
       "      <td>None</td>\n",
       "      <td>None</td>\n",
       "      <td>2020-07-08</td>\n",
       "      <td>NaN</td>\n",
       "    </tr>\n",
       "    <tr>\n",
       "      <th>3</th>\n",
       "      <td>85</td>\n",
       "      <td>M</td>\n",
       "      <td>0</td>\n",
       "      <td>[]</td>\n",
       "      <td>[]</td>\n",
       "      <td>[{'activitat': '2', 'estatMental': '1', 'humit...</td>\n",
       "      <td>[]</td>\n",
       "      <td>[]</td>\n",
       "      <td>[{'codi': 'G04CA', 'dataInici': '2020-07-15 00...</td>\n",
       "      <td>[{'data': '20201204131810', 'disfagia': 'S', '...</td>\n",
       "      <td>...</td>\n",
       "      <td>None</td>\n",
       "      <td>None</td>\n",
       "      <td>None</td>\n",
       "      <td>None</td>\n",
       "      <td>2020-12-04</td>\n",
       "      <td>None</td>\n",
       "      <td>None</td>\n",
       "      <td>None</td>\n",
       "      <td>2020-12-02</td>\n",
       "      <td>2.0</td>\n",
       "    </tr>\n",
       "    <tr>\n",
       "      <th>4</th>\n",
       "      <td>93</td>\n",
       "      <td>M</td>\n",
       "      <td>0</td>\n",
       "      <td>[{'date': '20220208', 'name': 'UREA Sèrum', 'l...</td>\n",
       "      <td>[{'imc': '0', 'anorexia': '1', 'perduaPes': '1...</td>\n",
       "      <td>[{'activitat': '2', 'estatMental': '1', 'humit...</td>\n",
       "      <td>[]</td>\n",
       "      <td>[{'valor': '49.900', 'data': '2022-06-02'}, {'...</td>\n",
       "      <td>[{'codi': 'N02AA', 'dataInici': '2022-02-01 00...</td>\n",
       "      <td>[{'data': '20220330172303', 'disfagiaConeguda'...</td>\n",
       "      <td>...</td>\n",
       "      <td>Proves afegides a un altre petició per extracc...</td>\n",
       "      <td>49.900</td>\n",
       "      <td>49.900</td>\n",
       "      <td>2022-06-02</td>\n",
       "      <td>NaT</td>\n",
       "      <td>None</td>\n",
       "      <td>None</td>\n",
       "      <td>0.0</td>\n",
       "      <td>2022-08-07</td>\n",
       "      <td>NaN</td>\n",
       "    </tr>\n",
       "  </tbody>\n",
       "</table>\n",
       "<p>5 rows × 81 columns</p>\n",
       "</div>"
      ]
     },
     "execution_count": 3,
     "metadata": {},
     "output_type": "execute_result"
    }
   ],
   "execution_count": 3
  },
  {
   "cell_type": "markdown",
   "source": [
    "Distribuiré les dades en 3 grups (més un grup que conté la totalitat de dades):\n",
    "- **AMB_PA**: aquest grup està compost per pacients que contenen el codi ICD de pneumònia aspirativa al seu historial.\n",
    "- **AMB_PA_MECVV**: aquest grup conté els pacients que compleixen les següents característiques: \n",
    "    - Han donat positiu al MECVV (és a dir, que tenen disfàgia i una alteració en la seguretat o en l'eficàcia)\n",
    "    - Han sigut diagnosticats amb el codi ICD de pneumònia\n",
    "    - Han passat menys de 30 dies entre el diagnòstic amb l'ICD de pneumònia i el resultat positiu al MECVV\n",
    "- **SENSE_PA**: aquest grup està format per pacients que contenen el codi ICD de pneumònia o bé:\n",
    "    - Contenen el codi ICD de pneumònia\n",
    "    - Han donat positiu al MECVV \n",
    "    - Han passat més de 30 dies entre el diagnòstic amb l'ICD de pneumònia i  el resultat positiu del MECVV \n",
    "- **TOTAL**: aquest grup conté tots els pacients de l'estudi *#TODO: hacer descriptiva de este grupo*"
   ],
   "metadata": {
    "collapsed": false
   },
   "id": "e7c4d56da22c6caf"
  },
  {
   "cell_type": "markdown",
   "source": "# AMB_PA ",
   "metadata": {
    "collapsed": false
   },
   "id": "6fe0c4b4db3bd775"
  },
  {
   "cell_type": "code",
   "source": [
    "AMB_PA = taula[taula[\"PA diagnosticada\"] == 1.0]\n",
    "AMB_PA.head()"
   ],
   "metadata": {
    "collapsed": false,
    "ExecuteTime": {
     "end_time": "2024-05-06T06:39:01.970796Z",
     "start_time": "2024-05-06T06:39:01.761732Z"
    }
   },
   "id": "bf8054f82ba8cf2d",
   "outputs": [
    {
     "data": {
      "text/plain": [
       "    edat sexe  visitaDietista  \\\n",
       "0     89    F               0   \n",
       "1     70    M               0   \n",
       "3     85    M               0   \n",
       "6    101    F               0   \n",
       "12    86    M               0   \n",
       "\n",
       "                                                 labs mna  \\\n",
       "0                                                  []  []   \n",
       "1   [{'date': '20220524', 'name': 'PCR SARS-CoV2 S...  []   \n",
       "3                                                  []  []   \n",
       "6                                                  []  []   \n",
       "12                                                 []  []   \n",
       "\n",
       "                                                emina canadenca  \\\n",
       "0   [{'activitat': '2', 'estatMental': '1', 'humit...        []   \n",
       "1   [{'activitat': '0', 'estatMental': '0', 'humit...        []   \n",
       "3   [{'activitat': '2', 'estatMental': '1', 'humit...        []   \n",
       "6   [{'activitat': '3', 'estatMental': '1', 'humit...        []   \n",
       "12  [{'activitat': '1', 'estatMental': '1', 'humit...        []   \n",
       "\n",
       "                                                  pes  \\\n",
       "0                                                  []   \n",
       "1   [{'valor': '64.7', 'data': '2022-10-04'}, {'va...   \n",
       "3                                                  []   \n",
       "6                                                  []   \n",
       "12          [{'valor': '46.4', 'data': '2020-09-09'}]   \n",
       "\n",
       "                                                 atcs  \\\n",
       "0   [{'codi': 'M01AE', 'dataInici': '2020-06-21 00...   \n",
       "1   [{'codi': 'C09AA', 'dataInici': '2021-05-26 00...   \n",
       "3   [{'codi': 'G04CA', 'dataInici': '2020-07-15 00...   \n",
       "6   [{'codi': 'C09AA', 'dataInici': '2021-08-21 00...   \n",
       "12  [{'codi': 'G04CA', 'dataInici': '2020-09-04 00...   \n",
       "\n",
       "                                               mecvvs  ... FGE CDK-EPI  \\\n",
       "0                                                  []  ...        None   \n",
       "1   [{'data': '20220930', 'pacientNoColabora': '',...  ...         >90   \n",
       "3   [{'data': '20201204131810', 'disfagia': 'S', '...  ...        None   \n",
       "6   [{'data': '20210819124116', 'disfagia': 'S', '...  ...        None   \n",
       "12  [{'data': '20200907110400', 'disfagia': 'S', '...  ...        None   \n",
       "\n",
       "   Pes més antic  Pes més nou  Data pes més antic  Data primer MECVV  \\\n",
       "0           None         None                None                NaT   \n",
       "1             70         53.7          2022-07-06                NaT   \n",
       "3           None         None                None         2020-12-04   \n",
       "6           None         None                None         2021-08-19   \n",
       "12          46.4         46.4          2020-09-09         2020-09-07   \n",
       "\n",
       "    Pes coincident primer MECVV  Pèrdua pes entre ingressos  Pèrdua pes total  \\\n",
       "0                          None                        None              None   \n",
       "1                          None                        None              16.3   \n",
       "3                          None                        None              None   \n",
       "6                          None                        None              None   \n",
       "12                         46.4                         0.0               0.0   \n",
       "\n",
       "    Data més antiga pneumònia  \\\n",
       "0                  2020-06-18   \n",
       "1                  2022-09-29   \n",
       "3                  2020-12-02   \n",
       "6                  2021-08-17   \n",
       "12                 2020-09-04   \n",
       "\n",
       "    Dies entre primer ICD pneumònia i primer MECVV positiu  \n",
       "0                                                 NaN       \n",
       "1                                                 NaN       \n",
       "3                                                 2.0       \n",
       "6                                                 2.0       \n",
       "12                                                3.0       \n",
       "\n",
       "[5 rows x 81 columns]"
      ],
      "text/html": [
       "<div>\n",
       "<style scoped>\n",
       "    .dataframe tbody tr th:only-of-type {\n",
       "        vertical-align: middle;\n",
       "    }\n",
       "\n",
       "    .dataframe tbody tr th {\n",
       "        vertical-align: top;\n",
       "    }\n",
       "\n",
       "    .dataframe thead th {\n",
       "        text-align: right;\n",
       "    }\n",
       "</style>\n",
       "<table border=\"1\" class=\"dataframe\">\n",
       "  <thead>\n",
       "    <tr style=\"text-align: right;\">\n",
       "      <th></th>\n",
       "      <th>edat</th>\n",
       "      <th>sexe</th>\n",
       "      <th>visitaDietista</th>\n",
       "      <th>labs</th>\n",
       "      <th>mna</th>\n",
       "      <th>emina</th>\n",
       "      <th>canadenca</th>\n",
       "      <th>pes</th>\n",
       "      <th>atcs</th>\n",
       "      <th>mecvvs</th>\n",
       "      <th>...</th>\n",
       "      <th>FGE CDK-EPI</th>\n",
       "      <th>Pes més antic</th>\n",
       "      <th>Pes més nou</th>\n",
       "      <th>Data pes més antic</th>\n",
       "      <th>Data primer MECVV</th>\n",
       "      <th>Pes coincident primer MECVV</th>\n",
       "      <th>Pèrdua pes entre ingressos</th>\n",
       "      <th>Pèrdua pes total</th>\n",
       "      <th>Data més antiga pneumònia</th>\n",
       "      <th>Dies entre primer ICD pneumònia i primer MECVV positiu</th>\n",
       "    </tr>\n",
       "  </thead>\n",
       "  <tbody>\n",
       "    <tr>\n",
       "      <th>0</th>\n",
       "      <td>89</td>\n",
       "      <td>F</td>\n",
       "      <td>0</td>\n",
       "      <td>[]</td>\n",
       "      <td>[]</td>\n",
       "      <td>[{'activitat': '2', 'estatMental': '1', 'humit...</td>\n",
       "      <td>[]</td>\n",
       "      <td>[]</td>\n",
       "      <td>[{'codi': 'M01AE', 'dataInici': '2020-06-21 00...</td>\n",
       "      <td>[]</td>\n",
       "      <td>...</td>\n",
       "      <td>None</td>\n",
       "      <td>None</td>\n",
       "      <td>None</td>\n",
       "      <td>None</td>\n",
       "      <td>NaT</td>\n",
       "      <td>None</td>\n",
       "      <td>None</td>\n",
       "      <td>None</td>\n",
       "      <td>2020-06-18</td>\n",
       "      <td>NaN</td>\n",
       "    </tr>\n",
       "    <tr>\n",
       "      <th>1</th>\n",
       "      <td>70</td>\n",
       "      <td>M</td>\n",
       "      <td>0</td>\n",
       "      <td>[{'date': '20220524', 'name': 'PCR SARS-CoV2 S...</td>\n",
       "      <td>[]</td>\n",
       "      <td>[{'activitat': '0', 'estatMental': '0', 'humit...</td>\n",
       "      <td>[]</td>\n",
       "      <td>[{'valor': '64.7', 'data': '2022-10-04'}, {'va...</td>\n",
       "      <td>[{'codi': 'C09AA', 'dataInici': '2021-05-26 00...</td>\n",
       "      <td>[{'data': '20220930', 'pacientNoColabora': '',...</td>\n",
       "      <td>...</td>\n",
       "      <td>&gt;90</td>\n",
       "      <td>70</td>\n",
       "      <td>53.7</td>\n",
       "      <td>2022-07-06</td>\n",
       "      <td>NaT</td>\n",
       "      <td>None</td>\n",
       "      <td>None</td>\n",
       "      <td>16.3</td>\n",
       "      <td>2022-09-29</td>\n",
       "      <td>NaN</td>\n",
       "    </tr>\n",
       "    <tr>\n",
       "      <th>3</th>\n",
       "      <td>85</td>\n",
       "      <td>M</td>\n",
       "      <td>0</td>\n",
       "      <td>[]</td>\n",
       "      <td>[]</td>\n",
       "      <td>[{'activitat': '2', 'estatMental': '1', 'humit...</td>\n",
       "      <td>[]</td>\n",
       "      <td>[]</td>\n",
       "      <td>[{'codi': 'G04CA', 'dataInici': '2020-07-15 00...</td>\n",
       "      <td>[{'data': '20201204131810', 'disfagia': 'S', '...</td>\n",
       "      <td>...</td>\n",
       "      <td>None</td>\n",
       "      <td>None</td>\n",
       "      <td>None</td>\n",
       "      <td>None</td>\n",
       "      <td>2020-12-04</td>\n",
       "      <td>None</td>\n",
       "      <td>None</td>\n",
       "      <td>None</td>\n",
       "      <td>2020-12-02</td>\n",
       "      <td>2.0</td>\n",
       "    </tr>\n",
       "    <tr>\n",
       "      <th>6</th>\n",
       "      <td>101</td>\n",
       "      <td>F</td>\n",
       "      <td>0</td>\n",
       "      <td>[]</td>\n",
       "      <td>[]</td>\n",
       "      <td>[{'activitat': '3', 'estatMental': '1', 'humit...</td>\n",
       "      <td>[]</td>\n",
       "      <td>[]</td>\n",
       "      <td>[{'codi': 'C09AA', 'dataInici': '2021-08-21 00...</td>\n",
       "      <td>[{'data': '20210819124116', 'disfagia': 'S', '...</td>\n",
       "      <td>...</td>\n",
       "      <td>None</td>\n",
       "      <td>None</td>\n",
       "      <td>None</td>\n",
       "      <td>None</td>\n",
       "      <td>2021-08-19</td>\n",
       "      <td>None</td>\n",
       "      <td>None</td>\n",
       "      <td>None</td>\n",
       "      <td>2021-08-17</td>\n",
       "      <td>2.0</td>\n",
       "    </tr>\n",
       "    <tr>\n",
       "      <th>12</th>\n",
       "      <td>86</td>\n",
       "      <td>M</td>\n",
       "      <td>0</td>\n",
       "      <td>[]</td>\n",
       "      <td>[]</td>\n",
       "      <td>[{'activitat': '1', 'estatMental': '1', 'humit...</td>\n",
       "      <td>[]</td>\n",
       "      <td>[{'valor': '46.4', 'data': '2020-09-09'}]</td>\n",
       "      <td>[{'codi': 'G04CA', 'dataInici': '2020-09-04 00...</td>\n",
       "      <td>[{'data': '20200907110400', 'disfagia': 'S', '...</td>\n",
       "      <td>...</td>\n",
       "      <td>None</td>\n",
       "      <td>46.4</td>\n",
       "      <td>46.4</td>\n",
       "      <td>2020-09-09</td>\n",
       "      <td>2020-09-07</td>\n",
       "      <td>46.4</td>\n",
       "      <td>0.0</td>\n",
       "      <td>0.0</td>\n",
       "      <td>2020-09-04</td>\n",
       "      <td>3.0</td>\n",
       "    </tr>\n",
       "  </tbody>\n",
       "</table>\n",
       "<p>5 rows × 81 columns</p>\n",
       "</div>"
      ]
     },
     "execution_count": 4,
     "metadata": {},
     "output_type": "execute_result"
    }
   ],
   "execution_count": 4
  },
  {
   "cell_type": "markdown",
   "source": "# AMB_PA_MECVV",
   "metadata": {
    "collapsed": false
   },
   "id": "bbfe0def10a4bd5"
  },
  {
   "cell_type": "code",
   "source": [
    "AMB_PA_MECVV = taula[\n",
    "    (taula[\"Dies entre primer ICD pneumònia i primer MECVV positiu\"] < 30)] \n",
    "AMB_PA_MECVV.head()"
   ],
   "metadata": {
    "collapsed": false,
    "ExecuteTime": {
     "end_time": "2024-05-06T06:39:02.959102Z",
     "start_time": "2024-05-06T06:39:02.828909Z"
    }
   },
   "id": "ef57e551b552b859",
   "outputs": [
    {
     "data": {
      "text/plain": [
       "    edat sexe  visitaDietista  \\\n",
       "3     85    M               0   \n",
       "6    101    F               0   \n",
       "12    86    M               0   \n",
       "27   100    M               0   \n",
       "28    95    F               0   \n",
       "\n",
       "                                                 labs mna  \\\n",
       "3                                                  []  []   \n",
       "6                                                  []  []   \n",
       "12                                                 []  []   \n",
       "27                                                 []  []   \n",
       "28  [{'date': '20220526', 'name': 'GLUCOSA Sèrum',...  []   \n",
       "\n",
       "                                                emina canadenca  \\\n",
       "3   [{'activitat': '2', 'estatMental': '1', 'humit...        []   \n",
       "6   [{'activitat': '3', 'estatMental': '1', 'humit...        []   \n",
       "12  [{'activitat': '1', 'estatMental': '1', 'humit...        []   \n",
       "27  [{'activitat': '3', 'estatMental': '0', 'humit...        []   \n",
       "28  [{'activitat': '3', 'estatMental': '0', 'humit...        []   \n",
       "\n",
       "                                                  pes  \\\n",
       "3                                                  []   \n",
       "6                                                  []   \n",
       "12          [{'valor': '46.4', 'data': '2020-09-09'}]   \n",
       "27  [{'valor': '0', 'data': '2021-09-14'}, {'valor...   \n",
       "28             [{'valor': '0', 'data': '2022-05-30'}]   \n",
       "\n",
       "                                                 atcs  \\\n",
       "3   [{'codi': 'G04CA', 'dataInici': '2020-07-15 00...   \n",
       "6   [{'codi': 'C09AA', 'dataInici': '2021-08-21 00...   \n",
       "12  [{'codi': 'G04CA', 'dataInici': '2020-09-04 00...   \n",
       "27  [{'codi': 'C08CA', 'dataInici': '2020-11-23 00...   \n",
       "28  [{'codi': 'C10AA', 'dataInici': '2020-11-18 00...   \n",
       "\n",
       "                                               mecvvs  ... FGE CDK-EPI  \\\n",
       "3   [{'data': '20201204131810', 'disfagia': 'S', '...  ...        None   \n",
       "6   [{'data': '20210819124116', 'disfagia': 'S', '...  ...        None   \n",
       "12  [{'data': '20200907110400', 'disfagia': 'S', '...  ...        None   \n",
       "27  [{'data': '20201125131827', 'disfagia': 'S', '...  ...        None   \n",
       "28  [{'data': '20220529115841', 'disfagia': 'S', '...  ...          48   \n",
       "\n",
       "   Pes més antic  Pes més nou  Data pes més antic  Data primer MECVV  \\\n",
       "3           None         None                None         2020-12-04   \n",
       "6           None         None                None         2021-08-19   \n",
       "12          46.4         46.4          2020-09-09         2020-09-07   \n",
       "27        41.100            0          2021-01-20         2020-11-25   \n",
       "28             0            0          2022-05-30         2022-05-29   \n",
       "\n",
       "    Pes coincident primer MECVV  Pèrdua pes entre ingressos  Pèrdua pes total  \\\n",
       "3                          None                        None              None   \n",
       "6                          None                        None              None   \n",
       "12                         46.4                         0.0               0.0   \n",
       "27                         None                        None              41.1   \n",
       "28                            0                         0.0               0.0   \n",
       "\n",
       "    Data més antiga pneumònia  \\\n",
       "3                  2020-12-02   \n",
       "6                  2021-08-17   \n",
       "12                 2020-09-04   \n",
       "27                 2020-12-02   \n",
       "28                 2022-05-23   \n",
       "\n",
       "    Dies entre primer ICD pneumònia i primer MECVV positiu  \n",
       "3                                                 2.0       \n",
       "6                                                 2.0       \n",
       "12                                                3.0       \n",
       "27                                                7.0       \n",
       "28                                                6.0       \n",
       "\n",
       "[5 rows x 81 columns]"
      ],
      "text/html": [
       "<div>\n",
       "<style scoped>\n",
       "    .dataframe tbody tr th:only-of-type {\n",
       "        vertical-align: middle;\n",
       "    }\n",
       "\n",
       "    .dataframe tbody tr th {\n",
       "        vertical-align: top;\n",
       "    }\n",
       "\n",
       "    .dataframe thead th {\n",
       "        text-align: right;\n",
       "    }\n",
       "</style>\n",
       "<table border=\"1\" class=\"dataframe\">\n",
       "  <thead>\n",
       "    <tr style=\"text-align: right;\">\n",
       "      <th></th>\n",
       "      <th>edat</th>\n",
       "      <th>sexe</th>\n",
       "      <th>visitaDietista</th>\n",
       "      <th>labs</th>\n",
       "      <th>mna</th>\n",
       "      <th>emina</th>\n",
       "      <th>canadenca</th>\n",
       "      <th>pes</th>\n",
       "      <th>atcs</th>\n",
       "      <th>mecvvs</th>\n",
       "      <th>...</th>\n",
       "      <th>FGE CDK-EPI</th>\n",
       "      <th>Pes més antic</th>\n",
       "      <th>Pes més nou</th>\n",
       "      <th>Data pes més antic</th>\n",
       "      <th>Data primer MECVV</th>\n",
       "      <th>Pes coincident primer MECVV</th>\n",
       "      <th>Pèrdua pes entre ingressos</th>\n",
       "      <th>Pèrdua pes total</th>\n",
       "      <th>Data més antiga pneumònia</th>\n",
       "      <th>Dies entre primer ICD pneumònia i primer MECVV positiu</th>\n",
       "    </tr>\n",
       "  </thead>\n",
       "  <tbody>\n",
       "    <tr>\n",
       "      <th>3</th>\n",
       "      <td>85</td>\n",
       "      <td>M</td>\n",
       "      <td>0</td>\n",
       "      <td>[]</td>\n",
       "      <td>[]</td>\n",
       "      <td>[{'activitat': '2', 'estatMental': '1', 'humit...</td>\n",
       "      <td>[]</td>\n",
       "      <td>[]</td>\n",
       "      <td>[{'codi': 'G04CA', 'dataInici': '2020-07-15 00...</td>\n",
       "      <td>[{'data': '20201204131810', 'disfagia': 'S', '...</td>\n",
       "      <td>...</td>\n",
       "      <td>None</td>\n",
       "      <td>None</td>\n",
       "      <td>None</td>\n",
       "      <td>None</td>\n",
       "      <td>2020-12-04</td>\n",
       "      <td>None</td>\n",
       "      <td>None</td>\n",
       "      <td>None</td>\n",
       "      <td>2020-12-02</td>\n",
       "      <td>2.0</td>\n",
       "    </tr>\n",
       "    <tr>\n",
       "      <th>6</th>\n",
       "      <td>101</td>\n",
       "      <td>F</td>\n",
       "      <td>0</td>\n",
       "      <td>[]</td>\n",
       "      <td>[]</td>\n",
       "      <td>[{'activitat': '3', 'estatMental': '1', 'humit...</td>\n",
       "      <td>[]</td>\n",
       "      <td>[]</td>\n",
       "      <td>[{'codi': 'C09AA', 'dataInici': '2021-08-21 00...</td>\n",
       "      <td>[{'data': '20210819124116', 'disfagia': 'S', '...</td>\n",
       "      <td>...</td>\n",
       "      <td>None</td>\n",
       "      <td>None</td>\n",
       "      <td>None</td>\n",
       "      <td>None</td>\n",
       "      <td>2021-08-19</td>\n",
       "      <td>None</td>\n",
       "      <td>None</td>\n",
       "      <td>None</td>\n",
       "      <td>2021-08-17</td>\n",
       "      <td>2.0</td>\n",
       "    </tr>\n",
       "    <tr>\n",
       "      <th>12</th>\n",
       "      <td>86</td>\n",
       "      <td>M</td>\n",
       "      <td>0</td>\n",
       "      <td>[]</td>\n",
       "      <td>[]</td>\n",
       "      <td>[{'activitat': '1', 'estatMental': '1', 'humit...</td>\n",
       "      <td>[]</td>\n",
       "      <td>[{'valor': '46.4', 'data': '2020-09-09'}]</td>\n",
       "      <td>[{'codi': 'G04CA', 'dataInici': '2020-09-04 00...</td>\n",
       "      <td>[{'data': '20200907110400', 'disfagia': 'S', '...</td>\n",
       "      <td>...</td>\n",
       "      <td>None</td>\n",
       "      <td>46.4</td>\n",
       "      <td>46.4</td>\n",
       "      <td>2020-09-09</td>\n",
       "      <td>2020-09-07</td>\n",
       "      <td>46.4</td>\n",
       "      <td>0.0</td>\n",
       "      <td>0.0</td>\n",
       "      <td>2020-09-04</td>\n",
       "      <td>3.0</td>\n",
       "    </tr>\n",
       "    <tr>\n",
       "      <th>27</th>\n",
       "      <td>100</td>\n",
       "      <td>M</td>\n",
       "      <td>0</td>\n",
       "      <td>[]</td>\n",
       "      <td>[]</td>\n",
       "      <td>[{'activitat': '3', 'estatMental': '0', 'humit...</td>\n",
       "      <td>[]</td>\n",
       "      <td>[{'valor': '0', 'data': '2021-09-14'}, {'valor...</td>\n",
       "      <td>[{'codi': 'C08CA', 'dataInici': '2020-11-23 00...</td>\n",
       "      <td>[{'data': '20201125131827', 'disfagia': 'S', '...</td>\n",
       "      <td>...</td>\n",
       "      <td>None</td>\n",
       "      <td>41.100</td>\n",
       "      <td>0</td>\n",
       "      <td>2021-01-20</td>\n",
       "      <td>2020-11-25</td>\n",
       "      <td>None</td>\n",
       "      <td>None</td>\n",
       "      <td>41.1</td>\n",
       "      <td>2020-12-02</td>\n",
       "      <td>7.0</td>\n",
       "    </tr>\n",
       "    <tr>\n",
       "      <th>28</th>\n",
       "      <td>95</td>\n",
       "      <td>F</td>\n",
       "      <td>0</td>\n",
       "      <td>[{'date': '20220526', 'name': 'GLUCOSA Sèrum',...</td>\n",
       "      <td>[]</td>\n",
       "      <td>[{'activitat': '3', 'estatMental': '0', 'humit...</td>\n",
       "      <td>[]</td>\n",
       "      <td>[{'valor': '0', 'data': '2022-05-30'}]</td>\n",
       "      <td>[{'codi': 'C10AA', 'dataInici': '2020-11-18 00...</td>\n",
       "      <td>[{'data': '20220529115841', 'disfagia': 'S', '...</td>\n",
       "      <td>...</td>\n",
       "      <td>48</td>\n",
       "      <td>0</td>\n",
       "      <td>0</td>\n",
       "      <td>2022-05-30</td>\n",
       "      <td>2022-05-29</td>\n",
       "      <td>0</td>\n",
       "      <td>0.0</td>\n",
       "      <td>0.0</td>\n",
       "      <td>2022-05-23</td>\n",
       "      <td>6.0</td>\n",
       "    </tr>\n",
       "  </tbody>\n",
       "</table>\n",
       "<p>5 rows × 81 columns</p>\n",
       "</div>"
      ]
     },
     "execution_count": 5,
     "metadata": {},
     "output_type": "execute_result"
    }
   ],
   "execution_count": 5
  },
  {
   "cell_type": "markdown",
   "source": "# SENSE_PA",
   "metadata": {
    "collapsed": false
   },
   "id": "a348d05c32ba63b8"
  },
  {
   "cell_type": "code",
   "source": [
    "SENSE_PA = taula[\n",
    "           (taula[\"Dies entre primer ICD pneumònia i primer MECVV positiu\"] > 30) & \n",
    "           (taula['P diagnosticada'] == 1.0)]\n",
    "SENSE_PA.head()"
   ],
   "metadata": {
    "collapsed": false,
    "ExecuteTime": {
     "end_time": "2024-05-06T06:39:04.098249Z",
     "start_time": "2024-05-06T06:39:03.893867Z"
    }
   },
   "id": "ebd6be70713adb40",
   "outputs": [
    {
     "data": {
      "text/plain": [
       "    edat sexe  visitaDietista  \\\n",
       "13    71    F               0   \n",
       "25    83    F               0   \n",
       "31    89    M               0   \n",
       "39    87    F               0   \n",
       "41    93    F               0   \n",
       "\n",
       "                                                 labs  \\\n",
       "13  [{'date': '20220216', 'name': 'CULTIU Esput', ...   \n",
       "25  [{'date': '20220308', 'name': 'UREA Sèrum', 'l...   \n",
       "31  [{'date': '20220318', 'name': 'BILIRUBINA TOTA...   \n",
       "39  [{'date': '20230619', 'name': 'GLUCOSA Sèrum',...   \n",
       "41  [{'date': '20221013', 'name': 'GLUCOSA Sèrum',...   \n",
       "\n",
       "                                                  mna  \\\n",
       "13                                                 []   \n",
       "25  [{'imc': '', 'anorexia': '', 'perduaPes': '', ...   \n",
       "31  [{'imc': '', 'anorexia': '', 'perduaPes': '', ...   \n",
       "39                                                 []   \n",
       "41                                                 []   \n",
       "\n",
       "                                                emina  \\\n",
       "13  [{'activitat': '3', 'estatMental': '0', 'humit...   \n",
       "25  [{'activitat': '0', 'estatMental': '1', 'humit...   \n",
       "31  [{'activitat': '2', 'estatMental': '1', 'humit...   \n",
       "39  [{'activitat': '1', 'estatMental': '0', 'humit...   \n",
       "41  [{'activitat': '1', 'estatMental': '1', 'humit...   \n",
       "\n",
       "                                            canadenca  \\\n",
       "13  [{'dataValoracio': '2020-09-06', 'horaValoraci...   \n",
       "25                                                 []   \n",
       "31                                                 []   \n",
       "39                                                 []   \n",
       "41                                                 []   \n",
       "\n",
       "                                                  pes  \\\n",
       "13                                                 []   \n",
       "25  [{'valor': '57', 'data': '2022-11-03'}, {'valo...   \n",
       "31  [{'valor': '75', 'data': '2022-01-11'}, {'valo...   \n",
       "39                                                 []   \n",
       "41  [{'valor': '0', 'data': '2023-06-02'}, {'valor...   \n",
       "\n",
       "                                                 atcs  \\\n",
       "13  [{'codi': 'C10AA', 'dataInici': '2020-09-06 00...   \n",
       "25  [{'codi': 'C10AA', 'dataInici': '2022-09-27 00...   \n",
       "31  [{'codi': 'C10AA', 'dataInici': '2021-12-23 00...   \n",
       "39  [{'codi': 'N02BE', 'dataInici': '2021-01-17 00...   \n",
       "41  [{'codi': 'C10AA', 'dataInici': '2021-02-05 00...   \n",
       "\n",
       "                                               mecvvs  ... FGE CDK-EPI  \\\n",
       "13  [{'data': '20200906175506', 'disfagia': 'N', '...  ...          70   \n",
       "25  [{'data': '20220929091303', 'disfagia': 'S', '...  ...          38   \n",
       "31  [{'data': '20220119101523', 'disfagia': 'N', '...  ...          78   \n",
       "39  [{'data': '20220111085147', 'disfagia': 'S', '...  ...         >90   \n",
       "41  [{'data': '20230530155654', 'disfagia': 'S', '...  ...          48   \n",
       "\n",
       "   Pes més antic  Pes més nou  Data pes més antic  Data primer MECVV  \\\n",
       "13          None         None                None         2020-09-07   \n",
       "25            57         63.2          2022-11-03         2022-09-29   \n",
       "31            75           67          2022-01-11         2022-02-01   \n",
       "39          None         None                None         2022-01-11   \n",
       "41             0           60          2023-06-02         2023-05-30   \n",
       "\n",
       "    Pes coincident primer MECVV  Pèrdua pes entre ingressos  Pèrdua pes total  \\\n",
       "13                         None                        None              None   \n",
       "25                         None                        None              -6.2   \n",
       "31                         None                        None               8.0   \n",
       "39                         None                        None              None   \n",
       "41                            0                         0.0             -60.0   \n",
       "\n",
       "    Data més antiga pneumònia  \\\n",
       "13                 2022-02-14   \n",
       "25                 2023-04-09   \n",
       "31                 2023-05-05   \n",
       "39                 2023-06-19   \n",
       "41                 2023-03-21   \n",
       "\n",
       "    Dies entre primer ICD pneumònia i primer MECVV positiu  \n",
       "13                                              525.0       \n",
       "25                                              192.0       \n",
       "31                                              458.0       \n",
       "39                                              524.0       \n",
       "41                                               70.0       \n",
       "\n",
       "[5 rows x 81 columns]"
      ],
      "text/html": [
       "<div>\n",
       "<style scoped>\n",
       "    .dataframe tbody tr th:only-of-type {\n",
       "        vertical-align: middle;\n",
       "    }\n",
       "\n",
       "    .dataframe tbody tr th {\n",
       "        vertical-align: top;\n",
       "    }\n",
       "\n",
       "    .dataframe thead th {\n",
       "        text-align: right;\n",
       "    }\n",
       "</style>\n",
       "<table border=\"1\" class=\"dataframe\">\n",
       "  <thead>\n",
       "    <tr style=\"text-align: right;\">\n",
       "      <th></th>\n",
       "      <th>edat</th>\n",
       "      <th>sexe</th>\n",
       "      <th>visitaDietista</th>\n",
       "      <th>labs</th>\n",
       "      <th>mna</th>\n",
       "      <th>emina</th>\n",
       "      <th>canadenca</th>\n",
       "      <th>pes</th>\n",
       "      <th>atcs</th>\n",
       "      <th>mecvvs</th>\n",
       "      <th>...</th>\n",
       "      <th>FGE CDK-EPI</th>\n",
       "      <th>Pes més antic</th>\n",
       "      <th>Pes més nou</th>\n",
       "      <th>Data pes més antic</th>\n",
       "      <th>Data primer MECVV</th>\n",
       "      <th>Pes coincident primer MECVV</th>\n",
       "      <th>Pèrdua pes entre ingressos</th>\n",
       "      <th>Pèrdua pes total</th>\n",
       "      <th>Data més antiga pneumònia</th>\n",
       "      <th>Dies entre primer ICD pneumònia i primer MECVV positiu</th>\n",
       "    </tr>\n",
       "  </thead>\n",
       "  <tbody>\n",
       "    <tr>\n",
       "      <th>13</th>\n",
       "      <td>71</td>\n",
       "      <td>F</td>\n",
       "      <td>0</td>\n",
       "      <td>[{'date': '20220216', 'name': 'CULTIU Esput', ...</td>\n",
       "      <td>[]</td>\n",
       "      <td>[{'activitat': '3', 'estatMental': '0', 'humit...</td>\n",
       "      <td>[{'dataValoracio': '2020-09-06', 'horaValoraci...</td>\n",
       "      <td>[]</td>\n",
       "      <td>[{'codi': 'C10AA', 'dataInici': '2020-09-06 00...</td>\n",
       "      <td>[{'data': '20200906175506', 'disfagia': 'N', '...</td>\n",
       "      <td>...</td>\n",
       "      <td>70</td>\n",
       "      <td>None</td>\n",
       "      <td>None</td>\n",
       "      <td>None</td>\n",
       "      <td>2020-09-07</td>\n",
       "      <td>None</td>\n",
       "      <td>None</td>\n",
       "      <td>None</td>\n",
       "      <td>2022-02-14</td>\n",
       "      <td>525.0</td>\n",
       "    </tr>\n",
       "    <tr>\n",
       "      <th>25</th>\n",
       "      <td>83</td>\n",
       "      <td>F</td>\n",
       "      <td>0</td>\n",
       "      <td>[{'date': '20220308', 'name': 'UREA Sèrum', 'l...</td>\n",
       "      <td>[{'imc': '', 'anorexia': '', 'perduaPes': '', ...</td>\n",
       "      <td>[{'activitat': '0', 'estatMental': '1', 'humit...</td>\n",
       "      <td>[]</td>\n",
       "      <td>[{'valor': '57', 'data': '2022-11-03'}, {'valo...</td>\n",
       "      <td>[{'codi': 'C10AA', 'dataInici': '2022-09-27 00...</td>\n",
       "      <td>[{'data': '20220929091303', 'disfagia': 'S', '...</td>\n",
       "      <td>...</td>\n",
       "      <td>38</td>\n",
       "      <td>57</td>\n",
       "      <td>63.2</td>\n",
       "      <td>2022-11-03</td>\n",
       "      <td>2022-09-29</td>\n",
       "      <td>None</td>\n",
       "      <td>None</td>\n",
       "      <td>-6.2</td>\n",
       "      <td>2023-04-09</td>\n",
       "      <td>192.0</td>\n",
       "    </tr>\n",
       "    <tr>\n",
       "      <th>31</th>\n",
       "      <td>89</td>\n",
       "      <td>M</td>\n",
       "      <td>0</td>\n",
       "      <td>[{'date': '20220318', 'name': 'BILIRUBINA TOTA...</td>\n",
       "      <td>[{'imc': '', 'anorexia': '', 'perduaPes': '', ...</td>\n",
       "      <td>[{'activitat': '2', 'estatMental': '1', 'humit...</td>\n",
       "      <td>[]</td>\n",
       "      <td>[{'valor': '75', 'data': '2022-01-11'}, {'valo...</td>\n",
       "      <td>[{'codi': 'C10AA', 'dataInici': '2021-12-23 00...</td>\n",
       "      <td>[{'data': '20220119101523', 'disfagia': 'N', '...</td>\n",
       "      <td>...</td>\n",
       "      <td>78</td>\n",
       "      <td>75</td>\n",
       "      <td>67</td>\n",
       "      <td>2022-01-11</td>\n",
       "      <td>2022-02-01</td>\n",
       "      <td>None</td>\n",
       "      <td>None</td>\n",
       "      <td>8.0</td>\n",
       "      <td>2023-05-05</td>\n",
       "      <td>458.0</td>\n",
       "    </tr>\n",
       "    <tr>\n",
       "      <th>39</th>\n",
       "      <td>87</td>\n",
       "      <td>F</td>\n",
       "      <td>0</td>\n",
       "      <td>[{'date': '20230619', 'name': 'GLUCOSA Sèrum',...</td>\n",
       "      <td>[]</td>\n",
       "      <td>[{'activitat': '1', 'estatMental': '0', 'humit...</td>\n",
       "      <td>[]</td>\n",
       "      <td>[]</td>\n",
       "      <td>[{'codi': 'N02BE', 'dataInici': '2021-01-17 00...</td>\n",
       "      <td>[{'data': '20220111085147', 'disfagia': 'S', '...</td>\n",
       "      <td>...</td>\n",
       "      <td>&gt;90</td>\n",
       "      <td>None</td>\n",
       "      <td>None</td>\n",
       "      <td>None</td>\n",
       "      <td>2022-01-11</td>\n",
       "      <td>None</td>\n",
       "      <td>None</td>\n",
       "      <td>None</td>\n",
       "      <td>2023-06-19</td>\n",
       "      <td>524.0</td>\n",
       "    </tr>\n",
       "    <tr>\n",
       "      <th>41</th>\n",
       "      <td>93</td>\n",
       "      <td>F</td>\n",
       "      <td>0</td>\n",
       "      <td>[{'date': '20221013', 'name': 'GLUCOSA Sèrum',...</td>\n",
       "      <td>[]</td>\n",
       "      <td>[{'activitat': '1', 'estatMental': '1', 'humit...</td>\n",
       "      <td>[]</td>\n",
       "      <td>[{'valor': '0', 'data': '2023-06-02'}, {'valor...</td>\n",
       "      <td>[{'codi': 'C10AA', 'dataInici': '2021-02-05 00...</td>\n",
       "      <td>[{'data': '20230530155654', 'disfagia': 'S', '...</td>\n",
       "      <td>...</td>\n",
       "      <td>48</td>\n",
       "      <td>0</td>\n",
       "      <td>60</td>\n",
       "      <td>2023-06-02</td>\n",
       "      <td>2023-05-30</td>\n",
       "      <td>0</td>\n",
       "      <td>0.0</td>\n",
       "      <td>-60.0</td>\n",
       "      <td>2023-03-21</td>\n",
       "      <td>70.0</td>\n",
       "    </tr>\n",
       "  </tbody>\n",
       "</table>\n",
       "<p>5 rows × 81 columns</p>\n",
       "</div>"
      ]
     },
     "execution_count": 6,
     "metadata": {},
     "output_type": "execute_result"
    }
   ],
   "execution_count": 6
  },
  {
   "metadata": {},
   "cell_type": "markdown",
   "source": "# TOTAL",
   "id": "2d2889e9f3cc6eb"
  },
  {
   "metadata": {
    "ExecuteTime": {
     "end_time": "2024-05-06T06:39:05.146518Z",
     "start_time": "2024-05-06T06:39:04.965561Z"
    }
   },
   "cell_type": "code",
   "source": [
    "TOTAL = taula\n",
    "taula.head() "
   ],
   "id": "ad26079a0b5504ab",
   "outputs": [
    {
     "data": {
      "text/plain": [
       "   edat sexe  visitaDietista  \\\n",
       "0    89    F               0   \n",
       "1    70    M               0   \n",
       "2    96    M               0   \n",
       "3    85    M               0   \n",
       "4    93    M               0   \n",
       "\n",
       "                                                labs  \\\n",
       "0                                                 []   \n",
       "1  [{'date': '20220524', 'name': 'PCR SARS-CoV2 S...   \n",
       "2                                                 []   \n",
       "3                                                 []   \n",
       "4  [{'date': '20220208', 'name': 'UREA Sèrum', 'l...   \n",
       "\n",
       "                                                 mna  \\\n",
       "0                                                 []   \n",
       "1                                                 []   \n",
       "2                                                 []   \n",
       "3                                                 []   \n",
       "4  [{'imc': '0', 'anorexia': '1', 'perduaPes': '1...   \n",
       "\n",
       "                                               emina canadenca  \\\n",
       "0  [{'activitat': '2', 'estatMental': '1', 'humit...        []   \n",
       "1  [{'activitat': '0', 'estatMental': '0', 'humit...        []   \n",
       "2  [{'activitat': '3', 'estatMental': '0', 'humit...        []   \n",
       "3  [{'activitat': '2', 'estatMental': '1', 'humit...        []   \n",
       "4  [{'activitat': '2', 'estatMental': '1', 'humit...        []   \n",
       "\n",
       "                                                 pes  \\\n",
       "0                                                 []   \n",
       "1  [{'valor': '64.7', 'data': '2022-10-04'}, {'va...   \n",
       "2                                                 []   \n",
       "3                                                 []   \n",
       "4  [{'valor': '49.900', 'data': '2022-06-02'}, {'...   \n",
       "\n",
       "                                                atcs  \\\n",
       "0  [{'codi': 'M01AE', 'dataInici': '2020-06-21 00...   \n",
       "1  [{'codi': 'C09AA', 'dataInici': '2021-05-26 00...   \n",
       "2  [{'codi': 'G04CA', 'dataInici': '2020-07-09 00...   \n",
       "3  [{'codi': 'G04CA', 'dataInici': '2020-07-15 00...   \n",
       "4  [{'codi': 'N02AA', 'dataInici': '2022-02-01 00...   \n",
       "\n",
       "                                              mecvvs  ...  \\\n",
       "0                                                 []  ...   \n",
       "1  [{'data': '20220930', 'pacientNoColabora': '',...  ...   \n",
       "2                                                 []  ...   \n",
       "3  [{'data': '20201204131810', 'disfagia': 'S', '...  ...   \n",
       "4  [{'data': '20220330172303', 'disfagiaConeguda'...  ...   \n",
       "\n",
       "                                         FGE CDK-EPI Pes més antic  \\\n",
       "0                                               None          None   \n",
       "1                                                >90            70   \n",
       "2                                               None          None   \n",
       "3                                               None          None   \n",
       "4  Proves afegides a un altre petició per extracc...        49.900   \n",
       "\n",
       "   Pes més nou  Data pes més antic  Data primer MECVV  \\\n",
       "0         None                None                NaT   \n",
       "1         53.7          2022-07-06                NaT   \n",
       "2         None                None                NaT   \n",
       "3         None                None         2020-12-04   \n",
       "4       49.900          2022-06-02                NaT   \n",
       "\n",
       "   Pes coincident primer MECVV  Pèrdua pes entre ingressos  Pèrdua pes total  \\\n",
       "0                         None                        None              None   \n",
       "1                         None                        None              16.3   \n",
       "2                         None                        None              None   \n",
       "3                         None                        None              None   \n",
       "4                         None                        None               0.0   \n",
       "\n",
       "   Data més antiga pneumònia  \\\n",
       "0                 2020-06-18   \n",
       "1                 2022-09-29   \n",
       "2                 2020-07-08   \n",
       "3                 2020-12-02   \n",
       "4                 2022-08-07   \n",
       "\n",
       "   Dies entre primer ICD pneumònia i primer MECVV positiu  \n",
       "0                                                NaN       \n",
       "1                                                NaN       \n",
       "2                                                NaN       \n",
       "3                                                2.0       \n",
       "4                                                NaN       \n",
       "\n",
       "[5 rows x 81 columns]"
      ],
      "text/html": [
       "<div>\n",
       "<style scoped>\n",
       "    .dataframe tbody tr th:only-of-type {\n",
       "        vertical-align: middle;\n",
       "    }\n",
       "\n",
       "    .dataframe tbody tr th {\n",
       "        vertical-align: top;\n",
       "    }\n",
       "\n",
       "    .dataframe thead th {\n",
       "        text-align: right;\n",
       "    }\n",
       "</style>\n",
       "<table border=\"1\" class=\"dataframe\">\n",
       "  <thead>\n",
       "    <tr style=\"text-align: right;\">\n",
       "      <th></th>\n",
       "      <th>edat</th>\n",
       "      <th>sexe</th>\n",
       "      <th>visitaDietista</th>\n",
       "      <th>labs</th>\n",
       "      <th>mna</th>\n",
       "      <th>emina</th>\n",
       "      <th>canadenca</th>\n",
       "      <th>pes</th>\n",
       "      <th>atcs</th>\n",
       "      <th>mecvvs</th>\n",
       "      <th>...</th>\n",
       "      <th>FGE CDK-EPI</th>\n",
       "      <th>Pes més antic</th>\n",
       "      <th>Pes més nou</th>\n",
       "      <th>Data pes més antic</th>\n",
       "      <th>Data primer MECVV</th>\n",
       "      <th>Pes coincident primer MECVV</th>\n",
       "      <th>Pèrdua pes entre ingressos</th>\n",
       "      <th>Pèrdua pes total</th>\n",
       "      <th>Data més antiga pneumònia</th>\n",
       "      <th>Dies entre primer ICD pneumònia i primer MECVV positiu</th>\n",
       "    </tr>\n",
       "  </thead>\n",
       "  <tbody>\n",
       "    <tr>\n",
       "      <th>0</th>\n",
       "      <td>89</td>\n",
       "      <td>F</td>\n",
       "      <td>0</td>\n",
       "      <td>[]</td>\n",
       "      <td>[]</td>\n",
       "      <td>[{'activitat': '2', 'estatMental': '1', 'humit...</td>\n",
       "      <td>[]</td>\n",
       "      <td>[]</td>\n",
       "      <td>[{'codi': 'M01AE', 'dataInici': '2020-06-21 00...</td>\n",
       "      <td>[]</td>\n",
       "      <td>...</td>\n",
       "      <td>None</td>\n",
       "      <td>None</td>\n",
       "      <td>None</td>\n",
       "      <td>None</td>\n",
       "      <td>NaT</td>\n",
       "      <td>None</td>\n",
       "      <td>None</td>\n",
       "      <td>None</td>\n",
       "      <td>2020-06-18</td>\n",
       "      <td>NaN</td>\n",
       "    </tr>\n",
       "    <tr>\n",
       "      <th>1</th>\n",
       "      <td>70</td>\n",
       "      <td>M</td>\n",
       "      <td>0</td>\n",
       "      <td>[{'date': '20220524', 'name': 'PCR SARS-CoV2 S...</td>\n",
       "      <td>[]</td>\n",
       "      <td>[{'activitat': '0', 'estatMental': '0', 'humit...</td>\n",
       "      <td>[]</td>\n",
       "      <td>[{'valor': '64.7', 'data': '2022-10-04'}, {'va...</td>\n",
       "      <td>[{'codi': 'C09AA', 'dataInici': '2021-05-26 00...</td>\n",
       "      <td>[{'data': '20220930', 'pacientNoColabora': '',...</td>\n",
       "      <td>...</td>\n",
       "      <td>&gt;90</td>\n",
       "      <td>70</td>\n",
       "      <td>53.7</td>\n",
       "      <td>2022-07-06</td>\n",
       "      <td>NaT</td>\n",
       "      <td>None</td>\n",
       "      <td>None</td>\n",
       "      <td>16.3</td>\n",
       "      <td>2022-09-29</td>\n",
       "      <td>NaN</td>\n",
       "    </tr>\n",
       "    <tr>\n",
       "      <th>2</th>\n",
       "      <td>96</td>\n",
       "      <td>M</td>\n",
       "      <td>0</td>\n",
       "      <td>[]</td>\n",
       "      <td>[]</td>\n",
       "      <td>[{'activitat': '3', 'estatMental': '0', 'humit...</td>\n",
       "      <td>[]</td>\n",
       "      <td>[]</td>\n",
       "      <td>[{'codi': 'G04CA', 'dataInici': '2020-07-09 00...</td>\n",
       "      <td>[]</td>\n",
       "      <td>...</td>\n",
       "      <td>None</td>\n",
       "      <td>None</td>\n",
       "      <td>None</td>\n",
       "      <td>None</td>\n",
       "      <td>NaT</td>\n",
       "      <td>None</td>\n",
       "      <td>None</td>\n",
       "      <td>None</td>\n",
       "      <td>2020-07-08</td>\n",
       "      <td>NaN</td>\n",
       "    </tr>\n",
       "    <tr>\n",
       "      <th>3</th>\n",
       "      <td>85</td>\n",
       "      <td>M</td>\n",
       "      <td>0</td>\n",
       "      <td>[]</td>\n",
       "      <td>[]</td>\n",
       "      <td>[{'activitat': '2', 'estatMental': '1', 'humit...</td>\n",
       "      <td>[]</td>\n",
       "      <td>[]</td>\n",
       "      <td>[{'codi': 'G04CA', 'dataInici': '2020-07-15 00...</td>\n",
       "      <td>[{'data': '20201204131810', 'disfagia': 'S', '...</td>\n",
       "      <td>...</td>\n",
       "      <td>None</td>\n",
       "      <td>None</td>\n",
       "      <td>None</td>\n",
       "      <td>None</td>\n",
       "      <td>2020-12-04</td>\n",
       "      <td>None</td>\n",
       "      <td>None</td>\n",
       "      <td>None</td>\n",
       "      <td>2020-12-02</td>\n",
       "      <td>2.0</td>\n",
       "    </tr>\n",
       "    <tr>\n",
       "      <th>4</th>\n",
       "      <td>93</td>\n",
       "      <td>M</td>\n",
       "      <td>0</td>\n",
       "      <td>[{'date': '20220208', 'name': 'UREA Sèrum', 'l...</td>\n",
       "      <td>[{'imc': '0', 'anorexia': '1', 'perduaPes': '1...</td>\n",
       "      <td>[{'activitat': '2', 'estatMental': '1', 'humit...</td>\n",
       "      <td>[]</td>\n",
       "      <td>[{'valor': '49.900', 'data': '2022-06-02'}, {'...</td>\n",
       "      <td>[{'codi': 'N02AA', 'dataInici': '2022-02-01 00...</td>\n",
       "      <td>[{'data': '20220330172303', 'disfagiaConeguda'...</td>\n",
       "      <td>...</td>\n",
       "      <td>Proves afegides a un altre petició per extracc...</td>\n",
       "      <td>49.900</td>\n",
       "      <td>49.900</td>\n",
       "      <td>2022-06-02</td>\n",
       "      <td>NaT</td>\n",
       "      <td>None</td>\n",
       "      <td>None</td>\n",
       "      <td>0.0</td>\n",
       "      <td>2022-08-07</td>\n",
       "      <td>NaN</td>\n",
       "    </tr>\n",
       "  </tbody>\n",
       "</table>\n",
       "<p>5 rows × 81 columns</p>\n",
       "</div>"
      ]
     },
     "execution_count": 7,
     "metadata": {},
     "output_type": "execute_result"
    }
   ],
   "execution_count": 7
  },
  {
   "metadata": {},
   "cell_type": "markdown",
   "source": "## Nombre de pacients",
   "id": "de24374f27e143a3"
  },
  {
   "metadata": {
    "ExecuteTime": {
     "end_time": "2024-05-06T06:39:07.097357Z",
     "start_time": "2024-05-06T06:39:07.092314Z"
    }
   },
   "cell_type": "code",
   "source": [
    "num_AMB_PA = len(AMB_PA)\n",
    "num_AMB_PA_MECVV= len(AMB_PA_MECVV)\n",
    "num_SENSE_PA = len(SENSE_PA)\n",
    "num_TOTAL = len(TOTAL)\n",
    "\n",
    "print(num_AMB_PA, num_AMB_PA_MECVV, num_SENSE_PA, num_TOTAL)"
   ],
   "id": "b1daff0f4c5e68b3",
   "outputs": [
    {
     "name": "stdout",
     "output_type": "stream",
     "text": [
      "17 8 8 50\n"
     ]
    }
   ],
   "execution_count": 8
  },
  {
   "metadata": {},
   "cell_type": "markdown",
   "source": "#### Comparació distributiva",
   "id": "d1353b7869144ecd"
  },
  {
   "metadata": {},
   "cell_type": "markdown",
   "source": "##### Normalitat i p-valor",
   "id": "683bdd2b91f5207c"
  },
  {
   "metadata": {},
   "cell_type": "markdown",
   "source": [
    "Ara que tinc totes les dades classificades en aquests grups, faré una descriptiva. També compararé els diferents grups amb el pvalor mitjançant T-test, test de Mann-Whitney o test Xi-quadrat per mirar la seva distribució, la qual esperaré que sigui similar entre el grup AMB_PA i AMB_PA_MECVV, i diferent entre SENSE_PA i els altres 2 grups. Els criteris que seguiré per utilitzar un test o un altre és, primer, fer un test de Shapiro-Wilk per comprovar si segueixen una distribució normal, si és així, usaré el T-test, si no, utilitzaré el de Mann-Whitney. Finalment, si la columna conté valors categòrics com és el cas del sexe (F/M), faré servir el test Xi-quadrat.\n",
    "Les meves hipòtesis són, pel test de Shapiro-Wilk:\n",
    "    - H0: les dades segueixen una distribució normal\n",
    "    - H1: les dades no segueixen una distribució normal\n",
    "I pels tests (T-test, Mann-Whitney i Xi-quadrat):\n",
    "    - H0: les dades dels dos grups no són significativament diferents\n",
    "    - H1: les dades dels dos grups són significativament diferents"
   ],
   "id": "a5216034f7509ff4"
  },
  {
   "metadata": {},
   "cell_type": "markdown",
   "source": "## Edat",
   "id": "6dffa2bdf3f2d9b7"
  },
  {
   "metadata": {
    "ExecuteTime": {
     "end_time": "2024-05-06T06:39:08.175525Z",
     "start_time": "2024-05-06T06:39:08.169274Z"
    }
   },
   "cell_type": "code",
   "source": [
    "edat_AMB_PA = AMB_PA['edat'].mean()\n",
    "desviacio_estandard_edat = AMB_PA['edat'].std()\n",
    "\n",
    "resultat = f\"{edat_AMB_PA:.2f} ± {desviacio_estandard_edat:.2f}\"\n",
    "print(\"Mitjana ± Desviació Estàndard de l'edat:\", resultat)\n"
   ],
   "id": "41c75a84cd8aa55b",
   "outputs": [
    {
     "name": "stdout",
     "output_type": "stream",
     "text": [
      "Mitjana ± Desviació Estàndard de l'edat: 87.06 ± 8.99\n"
     ]
    }
   ],
   "execution_count": 9
  },
  {
   "metadata": {
    "ExecuteTime": {
     "end_time": "2024-05-06T06:39:09.477385Z",
     "start_time": "2024-05-06T06:39:09.461063Z"
    }
   },
   "cell_type": "code",
   "source": [
    "edat_AMB_PA_MECVV = AMB_PA_MECVV['edat'].mean()\n",
    "desviacio_estandard_edat = AMB_PA_MECVV['edat'].std()\n",
    "\n",
    "resultat = f\"{edat_AMB_PA_MECVV:.2f} ± {desviacio_estandard_edat:.2f}\"\n",
    "print(\"Mitjana ± Desviació Estàndard de l'edat:\", resultat)"
   ],
   "id": "828a733cc06db987",
   "outputs": [
    {
     "name": "stdout",
     "output_type": "stream",
     "text": [
      "Mitjana ± Desviació Estàndard de l'edat: 91.50 ± 6.82\n"
     ]
    }
   ],
   "execution_count": 10
  },
  {
   "metadata": {
    "ExecuteTime": {
     "end_time": "2024-05-06T06:39:11.094406Z",
     "start_time": "2024-05-06T06:39:11.064647Z"
    }
   },
   "cell_type": "code",
   "source": [
    "edat_SENSE_PA = SENSE_PA['edat'].mean()\n",
    "desviacio_estandard_edat = SENSE_PA['edat'].std()\n",
    "\n",
    "resultat = f\"{edat_SENSE_PA:.2f} ± {desviacio_estandard_edat:.2f}\"\n",
    "print(\"Mitjana ± Desviació Estàndard de l'edat:\", resultat)"
   ],
   "id": "a67a8021e9b1dbb4",
   "outputs": [
    {
     "name": "stdout",
     "output_type": "stream",
     "text": [
      "Mitjana ± Desviació Estàndard de l'edat: 86.25 ± 6.90\n"
     ]
    }
   ],
   "execution_count": 11
  },
  {
   "metadata": {
    "ExecuteTime": {
     "end_time": "2024-05-06T06:39:11.831157Z",
     "start_time": "2024-05-06T06:39:11.821226Z"
    }
   },
   "cell_type": "code",
   "source": [
    "edat_TOTAL = TOTAL['edat'].mean()\n",
    "desviacio_estandard_TOTAL = TOTAL['edat'].std()\n",
    "\n",
    "resultat = f\"{edat_SENSE_PA:.2f} ± {desviacio_estandard_edat:.2f}\"\n",
    "print(\"Mitjana ± Desviació Estàndard de l'edat:\", resultat)"
   ],
   "id": "6d718df6a9807ab",
   "outputs": [
    {
     "name": "stdout",
     "output_type": "stream",
     "text": [
      "Mitjana ± Desviació Estàndard de l'edat: 86.25 ± 6.90\n"
     ]
    }
   ],
   "execution_count": 12
  },
  {
   "metadata": {},
   "cell_type": "markdown",
   "source": "#### Pvalor",
   "id": "6ab4f09b5204e007"
  },
  {
   "metadata": {},
   "cell_type": "markdown",
   "source": "##### Normalitat ",
   "id": "a5114a4e26281ffb"
  },
  {
   "metadata": {
    "ExecuteTime": {
     "end_time": "2024-05-06T06:39:13.407906Z",
     "start_time": "2024-05-06T06:39:13.360484Z"
    }
   },
   "cell_type": "code",
   "source": [
    "stat, p_value = shapiro(AMB_PA['edat'])\n",
    "print(f\"Estadístic W = {stat:.4f}\")\n",
    "print(f\"Valor p = {p_value:.4f}\")\n",
    "\n",
    "alpha = 0.05\n",
    "if p_value < alpha:\n",
    "    print(\"El nombre de files no segueix una distribució normal.\")\n",
    "else:\n",
    "    print(\"El nombre de files segueix una distribució normal.\")"
   ],
   "id": "1b23f9c1a11a4962",
   "outputs": [
    {
     "name": "stdout",
     "output_type": "stream",
     "text": [
      "Estadístic W = 0.9410\n",
      "Valor p = 0.3297\n",
      "El nombre de files segueix una distribució normal.\n"
     ]
    }
   ],
   "execution_count": 13
  },
  {
   "metadata": {
    "ExecuteTime": {
     "end_time": "2024-05-06T06:39:14.485779Z",
     "start_time": "2024-05-06T06:39:14.477940Z"
    }
   },
   "cell_type": "code",
   "source": [
    "stat, p_value = shapiro(AMB_PA_MECVV['edat'])\n",
    "print(f\"Estadístic W = {stat:.4f}\")\n",
    "print(f\"Valor p = {p_value:.4f}\")\n",
    "\n",
    "alpha = 0.05\n",
    "if p_value < alpha:\n",
    "    print(\"El nombre de files no segueix una distribució normal.\")\n",
    "else:\n",
    "    print(\"El nombre de files segueix una distribució normal.\")"
   ],
   "id": "d80fee6a25604ebc",
   "outputs": [
    {
     "name": "stdout",
     "output_type": "stream",
     "text": [
      "Estadístic W = 0.8304\n",
      "Valor p = 0.0600\n",
      "El nombre de files segueix una distribució normal.\n"
     ]
    }
   ],
   "execution_count": 14
  },
  {
   "metadata": {
    "ExecuteTime": {
     "end_time": "2024-05-06T06:39:15.173170Z",
     "start_time": "2024-05-06T06:39:15.166250Z"
    }
   },
   "cell_type": "code",
   "source": [
    "stat, p_value = shapiro(SENSE_PA['edat'])\n",
    "print(f\"Estadístic W = {stat:.4f}\")\n",
    "print(f\"Valor p = {p_value:.4f}\")\n",
    "\n",
    "alpha = 0.05\n",
    "if p_value < alpha:\n",
    "    print(\"El nombre de files no segueix una distribució normal.\")\n",
    "else:\n",
    "    print(\"El nombre de files segueix una distribució normal.\")"
   ],
   "id": "755deefb570bc3ec",
   "outputs": [
    {
     "name": "stdout",
     "output_type": "stream",
     "text": [
      "Estadístic W = 0.8318\n",
      "Valor p = 0.0619\n",
      "El nombre de files segueix una distribució normal.\n"
     ]
    }
   ],
   "execution_count": 15
  },
  {
   "metadata": {
    "ExecuteTime": {
     "end_time": "2024-05-06T06:39:16.268593Z",
     "start_time": "2024-05-06T06:39:16.257973Z"
    }
   },
   "cell_type": "code",
   "source": [
    "stat, p_value = shapiro(TOTAL['edat'])\n",
    "print(f\"Estadístic W = {stat:.4f}\")\n",
    "print(f\"Valor p = {p_value:.4f}\")\n",
    "\n",
    "alpha = 0.05\n",
    "if p_value < alpha:\n",
    "    print(\"El nombre de files no segueix una distribució normal.\")\n",
    "else:\n",
    "    print(\"El nombre de files segueix una distribució normal.\")"
   ],
   "id": "cb6c9d88414ea68f",
   "outputs": [
    {
     "name": "stdout",
     "output_type": "stream",
     "text": [
      "Estadístic W = 0.8491\n",
      "Valor p = 0.0000\n",
      "El nombre de files no segueix una distribució normal.\n"
     ]
    }
   ],
   "execution_count": 16
  },
  {
   "metadata": {
    "ExecuteTime": {
     "end_time": "2024-05-06T06:39:17.021709Z",
     "start_time": "2024-05-06T06:39:16.970940Z"
    }
   },
   "cell_type": "code",
   "source": [
    "t_stat_12, p_val_12 = ttest_ind(AMB_PA['edat'], AMB_PA_MECVV['edat'], equal_var=False)\n",
    "print(\"P-valor entre AMB_PA i AMB_PA_MECVV:\", p_val_12)"
   ],
   "id": "29fe897576a9b6a1",
   "outputs": [
    {
     "name": "stdout",
     "output_type": "stream",
     "text": [
      "P-valor entre AMB_PA i AMB_PA_MECVV: 0.18896133816771837\n"
     ]
    }
   ],
   "execution_count": 17
  },
  {
   "metadata": {
    "ExecuteTime": {
     "end_time": "2024-05-06T06:39:17.901474Z",
     "start_time": "2024-05-06T06:39:17.890078Z"
    }
   },
   "cell_type": "code",
   "source": [
    "stat, p_value_13 = mannwhitneyu(AMB_PA['edat'], SENSE_PA['edat'], alternative='two-sided')\n",
    "print(\"P-valor entre AMB_PA i SENSE_PA\", p_value_13)"
   ],
   "id": "6718e803d0c6be72",
   "outputs": [
    {
     "name": "stdout",
     "output_type": "stream",
     "text": [
      "P-valor entre AMB_PA i SENSE_PA 0.9534289321662349\n"
     ]
    }
   ],
   "execution_count": 18
  },
  {
   "metadata": {
    "ExecuteTime": {
     "end_time": "2024-05-06T06:39:18.614608Z",
     "start_time": "2024-05-06T06:39:18.601883Z"
    }
   },
   "cell_type": "code",
   "source": [
    "stat_23, p_value_23 = mannwhitneyu(AMB_PA_MECVV['edat'], SENSE_PA['edat'], alternative='two-sided')\n",
    "print(\"P-valor entre AMB_PA_MECVV i SENSE_PA:\", p_value_23)"
   ],
   "id": "22054ca113138c47",
   "outputs": [
    {
     "name": "stdout",
     "output_type": "stream",
     "text": [
      "P-valor entre AMB_PA_MECVV i SENSE_PA: 0.37026415517950617\n"
     ]
    }
   ],
   "execution_count": 19
  },
  {
   "metadata": {
    "ExecuteTime": {
     "end_time": "2024-05-06T06:39:19.566799Z",
     "start_time": "2024-05-06T06:39:19.556892Z"
    }
   },
   "cell_type": "code",
   "source": [
    "stat, p_value_14 = mannwhitneyu(AMB_PA['edat'], TOTAL['edat'], alternative='two-sided')\n",
    "print(\"P-valor entre AMB_PA i TOTAL\", p_value_14)"
   ],
   "id": "b9175efc58a456d0",
   "outputs": [
    {
     "name": "stdout",
     "output_type": "stream",
     "text": [
      "P-valor entre AMB_PA i TOTAL 0.20417514607442822\n"
     ]
    }
   ],
   "execution_count": 20
  },
  {
   "metadata": {
    "ExecuteTime": {
     "end_time": "2024-05-06T06:39:20.211691Z",
     "start_time": "2024-05-06T06:39:20.199875Z"
    }
   },
   "cell_type": "code",
   "source": [
    "stat, p_value_24 = mannwhitneyu(AMB_PA_MECVV['edat'], TOTAL['edat'], alternative='two-sided')\n",
    "print(\"P-valor entre AMB_PA_MECVV i TOTAL\", p_value_24)"
   ],
   "id": "a8eb3c0710fef4a9",
   "outputs": [
    {
     "name": "stdout",
     "output_type": "stream",
     "text": [
      "P-valor entre AMB_PA_MECVV i TOTAL 0.05636751107260842\n"
     ]
    }
   ],
   "execution_count": 21
  },
  {
   "metadata": {
    "ExecuteTime": {
     "end_time": "2024-05-06T06:39:21.120526Z",
     "start_time": "2024-05-06T06:39:21.110638Z"
    }
   },
   "cell_type": "code",
   "source": [
    "stat, p_value_34 = mannwhitneyu(SENSE_PA['edat'], TOTAL['edat'], alternative='two-sided')\n",
    "print(\"P-valor entre SENSE_PA i TOTAL\", p_value_34)"
   ],
   "id": "3d79cb3903e58a0",
   "outputs": [
    {
     "name": "stdout",
     "output_type": "stream",
     "text": [
      "P-valor entre SENSE_PA i TOTAL 0.4769108663506575\n"
     ]
    }
   ],
   "execution_count": 22
  },
  {
   "metadata": {},
   "cell_type": "markdown",
   "source": "## Sexe",
   "id": "2e3346df121a556b"
  },
  {
   "metadata": {
    "ExecuteTime": {
     "end_time": "2024-05-06T06:39:21.799313Z",
     "start_time": "2024-05-06T06:39:21.749183Z"
    }
   },
   "cell_type": "code",
   "source": [
    "sexe_AMB_PA = AMB_PA['sexe'].value_counts()\n",
    "sexe_AMB_PA_MECVV = AMB_PA_MECVV['sexe'].value_counts()\n",
    "sexe_SENSE_PA = SENSE_PA['sexe'].value_counts()\n",
    "sexe_TOTAL = TOTAL['sexe'].value_counts()"
   ],
   "id": "5a08f966e1e21272",
   "outputs": [],
   "execution_count": 23
  },
  {
   "metadata": {
    "ExecuteTime": {
     "end_time": "2024-05-06T06:39:22.737882Z",
     "start_time": "2024-05-06T06:39:22.721534Z"
    }
   },
   "cell_type": "code",
   "source": [
    "if 'F' in sexe_AMB_PA:\n",
    "    percent_female1 = (sexe_AMB_PA['F'] / len(AMB_PA)) * 100\n",
    "    print(f\"Percentatge de sexe femení en AMB_PA: {percent_female1:.2f}%\")\n",
    "else:\n",
    "    print(\"No hi ha dades de sexe femení en AMB_PA\")"
   ],
   "id": "364e8eeea9fca3bb",
   "outputs": [
    {
     "name": "stdout",
     "output_type": "stream",
     "text": [
      "Percentatge de sexe femení en AMB_PA: 47.06%\n"
     ]
    }
   ],
   "execution_count": 24
  },
  {
   "metadata": {
    "ExecuteTime": {
     "end_time": "2024-05-06T06:39:23.400862Z",
     "start_time": "2024-05-06T06:39:23.395135Z"
    }
   },
   "cell_type": "code",
   "source": [
    "if 'F' in sexe_AMB_PA_MECVV:\n",
    "    percent_female2 = (sexe_AMB_PA_MECVV['F'] / len(AMB_PA)) * 100\n",
    "    print(f\"Percentatge de sexe femení en AMB_PA_MECVV: {percent_female1:.2f}%\")\n",
    "else:\n",
    "    print(\"No hi ha dades de sexe femení en AMB_PA_MECVV\")"
   ],
   "id": "5d2a1124b7cdd9c2",
   "outputs": [
    {
     "name": "stdout",
     "output_type": "stream",
     "text": [
      "Percentatge de sexe femení en AMB_PA_MECVV: 47.06%\n"
     ]
    }
   ],
   "execution_count": 25
  },
  {
   "metadata": {
    "ExecuteTime": {
     "end_time": "2024-05-06T06:39:24.225379Z",
     "start_time": "2024-05-06T06:39:24.217782Z"
    }
   },
   "cell_type": "code",
   "source": [
    "if 'F' in sexe_SENSE_PA:\n",
    "    percent_female3 = (sexe_SENSE_PA['F'] / len(SENSE_PA)) * 100\n",
    "    print(f\"Percentatge de sexe femení en SENSE_PA: {percent_female1:.2f}%\")\n",
    "else:\n",
    "    print(\"No hi ha dades de sexe femení en SENSE_PA\")\n"
   ],
   "id": "746275e55a2b6409",
   "outputs": [
    {
     "name": "stdout",
     "output_type": "stream",
     "text": [
      "Percentatge de sexe femení en SENSE_PA: 47.06%\n"
     ]
    }
   ],
   "execution_count": 26
  },
  {
   "metadata": {
    "ExecuteTime": {
     "end_time": "2024-05-06T06:39:24.806557Z",
     "start_time": "2024-05-06T06:39:24.798522Z"
    }
   },
   "cell_type": "code",
   "source": [
    "if 'F' in sexe_TOTAL:\n",
    "    percent_female3 = (sexe_TOTAL['F'] / len(TOTAL)) * 100\n",
    "    print(f\"Percentatge de sexe femení en TOTAL: {percent_female1:.2f}%\")\n",
    "else:\n",
    "    print(\"No hi ha dades de sexe femení en TOTAL\")"
   ],
   "id": "343a7ecf37db366c",
   "outputs": [
    {
     "name": "stdout",
     "output_type": "stream",
     "text": [
      "Percentatge de sexe femení en TOTAL: 47.06%\n"
     ]
    }
   ],
   "execution_count": 27
  },
  {
   "metadata": {},
   "cell_type": "markdown",
   "source": "#### Pvalor",
   "id": "cc6603074e3e5cc9"
  },
  {
   "metadata": {},
   "cell_type": "markdown",
   "source": "##### Normalitat",
   "id": "45744dc757ae29f5"
  },
  {
   "metadata": {
    "ExecuteTime": {
     "end_time": "2024-05-06T06:39:25.860321Z",
     "start_time": "2024-05-06T06:39:25.856537Z"
    }
   },
   "cell_type": "code",
   "source": "#TODO: ???Al ser una variable categòrica no es pot comprovar la seva normalitat. Realitzaré directament el test Xi-quadrat",
   "id": "6d367a4d80212ee3",
   "outputs": [],
   "execution_count": 28
  },
  {
   "metadata": {
    "ExecuteTime": {
     "end_time": "2024-05-06T06:39:26.642926Z",
     "start_time": "2024-05-06T06:39:26.612277Z"
    }
   },
   "cell_type": "code",
   "source": [
    "contingency_table_AMB_PA_AMB_PA_MECVV = pd.crosstab(index=AMB_PA['sexe'], columns=AMB_PA_MECVV['sexe'])\n",
    "\n",
    "chi2_AMB_PA_AMB_PA_MECVV, p_value_AMB_PA_AMB_PA_MECVV, dof_AMB_PA_AMB_PA_MECVV, expected_AMB_PA_AMB_PA_MECVV = chi2_contingency(contingency_table_AMB_PA_AMB_PA_MECVV)\n",
    "\n",
    "print(\"Estadístic xi-quadrat entre AMB_PA i AMB_PA_MECVV:\", chi2_AMB_PA_AMB_PA_MECVV)\n",
    "print(\"P-valor entre AMB_PA i AMB_PA_MECVV:\", p_value_AMB_PA_AMB_PA_MECVV)\n",
    "\n",
    "if p_value_AMB_PA_AMB_PA_MECVV < 0.05:\n",
    "    print(\"Hi ha diferències significatives entre les distribucions de sexe en AMB_PA i AMB_PA_MECVV.\")\n",
    "else:\n",
    "    print(\"No hi ha diferències significatives entre les distribucions de sexe en AMB_PA i AMB_PA_MECVV.\")"
   ],
   "id": "8ce2d9606227b27c",
   "outputs": [
    {
     "name": "stdout",
     "output_type": "stream",
     "text": [
      "Estadístic xi-quadrat entre AMB_PA i AMB_PA_MECVV: 2.34375\n",
      "P-valor entre AMB_PA i AMB_PA_MECVV: 0.12578642463893994\n",
      "No hi ha diferències significatives entre les distribucions de sexe en AMB_PA i AMB_PA_MECVV.\n"
     ]
    }
   ],
   "execution_count": 29
  },
  {
   "metadata": {
    "ExecuteTime": {
     "end_time": "2024-05-06T06:39:27.765758Z",
     "start_time": "2024-05-06T06:39:27.750319Z"
    }
   },
   "cell_type": "code",
   "source": [
    "contingency_table_AMB_PA_SENSE_PA = pd.crosstab(index=AMB_PA['sexe'], columns=SENSE_PA['sexe'])\n",
    "\n",
    "chi2_AMB_PA_SENSE_PA, p_value_AMB_PA_SENSE_PA, dof_AMB_PA_SENSE_PA, expected_AMB_PA_SENSE_PA = chi2_contingency(contingency_table_AMB_PA_SENSE_PA)\n",
    "\n",
    "print(\"Estadístic xi-quadrat entre AMB_PA i SENSE_PA:\", chi2_AMB_PA_SENSE_PA)\n",
    "print(\"P-valor entre AMB_PA i SENSE_PA:\", p_value_AMB_PA_SENSE_PA)\n",
    "\n",
    "if p_value_AMB_PA_SENSE_PA < 0.05:\n",
    "    print(\"Hi ha diferències significatives entre les distribucions de sexe en AMB_PA i SENSE_PA.\")\n",
    "else:\n",
    "    print(\"No hi ha diferències significatives entre les distribucions de sexe en AMB_PA i SENSE_PA.\")"
   ],
   "id": "cb24c00816f2874c",
   "outputs": [
    {
     "name": "stdout",
     "output_type": "stream",
     "text": [
      "Estadístic xi-quadrat entre AMB_PA i SENSE_PA: 0.1875\n",
      "P-valor entre AMB_PA i SENSE_PA: 0.6650055421020291\n",
      "No hi ha diferències significatives entre les distribucions de sexe en AMB_PA i SENSE_PA.\n"
     ]
    }
   ],
   "execution_count": 30
  },
  {
   "metadata": {
    "ExecuteTime": {
     "end_time": "2024-05-06T06:39:28.939697Z",
     "start_time": "2024-05-06T06:39:28.361915Z"
    }
   },
   "cell_type": "code",
   "source": [
    "contingency_table_AMB_PA_MECVV_SENSE_PA = pd.crosstab(index=AMB_PA_MECVV['sexe'], columns=SENSE_PA['sexe'])\n",
    "\n",
    "chi2_AMB_PA_MECVV_SENSE_PA, p_value_AMB_PA_MECVV_SENSE_PA, dof_AMB_PA_MECVV_SENSE_PA, expected_AMB_PA_MECVV_SENSE_PA = chi2_contingency(contingency_table_AMB_PA_MECVV_SENSE_PA)\n",
    "\n",
    "print(\"Estadístic xi-quadrat entre AMB_PA_MECVV i SENSE_PA:\", chi2_AMB_PA_MECVV_SENSE_PA)\n",
    "print(\"P-valor entre AMB_PA_MECVV i SENSE_PA:\", p_value_AMB_PA_MECVV_SENSE_PA)\n",
    "\n",
    "if p_value_AMB_PA_MECVV_SENSE_PA < 0.05:\n",
    "    print(\"Hi ha diferències significatives entre les distribucions de sexe en AMB_PA_MECVV i SENSE_PA.\")\n",
    "else:\n",
    "    print(\"No hi ha diferències significatives entre les distribucions de sexe en AMB_PA_MECVV i SENSE_PA.\")"
   ],
   "id": "483a364f11ec7b2a",
   "outputs": [
    {
     "ename": "ValueError",
     "evalue": "No data; `observed` has size 0.",
     "output_type": "error",
     "traceback": [
      "\u001B[1;31m---------------------------------------------------------------------------\u001B[0m",
      "\u001B[1;31mValueError\u001B[0m                                Traceback (most recent call last)",
      "Cell \u001B[1;32mIn[31], line 3\u001B[0m\n\u001B[0;32m      1\u001B[0m contingency_table_AMB_PA_MECVV_SENSE_PA \u001B[38;5;241m=\u001B[39m pd\u001B[38;5;241m.\u001B[39mcrosstab(index\u001B[38;5;241m=\u001B[39mAMB_PA_MECVV[\u001B[38;5;124m'\u001B[39m\u001B[38;5;124msexe\u001B[39m\u001B[38;5;124m'\u001B[39m], columns\u001B[38;5;241m=\u001B[39mSENSE_PA[\u001B[38;5;124m'\u001B[39m\u001B[38;5;124msexe\u001B[39m\u001B[38;5;124m'\u001B[39m])\n\u001B[1;32m----> 3\u001B[0m chi2_AMB_PA_MECVV_SENSE_PA, p_value_AMB_PA_MECVV_SENSE_PA, dof_AMB_PA_MECVV_SENSE_PA, expected_AMB_PA_MECVV_SENSE_PA \u001B[38;5;241m=\u001B[39m \u001B[43mchi2_contingency\u001B[49m\u001B[43m(\u001B[49m\u001B[43mcontingency_table_AMB_PA_MECVV_SENSE_PA\u001B[49m\u001B[43m)\u001B[49m\n\u001B[0;32m      5\u001B[0m \u001B[38;5;28mprint\u001B[39m(\u001B[38;5;124m\"\u001B[39m\u001B[38;5;124mEstadístic xi-quadrat entre AMB_PA_MECVV i SENSE_PA:\u001B[39m\u001B[38;5;124m\"\u001B[39m, chi2_AMB_PA_MECVV_SENSE_PA)\n\u001B[0;32m      6\u001B[0m \u001B[38;5;28mprint\u001B[39m(\u001B[38;5;124m\"\u001B[39m\u001B[38;5;124mP-valor entre AMB_PA_MECVV i SENSE_PA:\u001B[39m\u001B[38;5;124m\"\u001B[39m, p_value_AMB_PA_MECVV_SENSE_PA)\n",
      "File \u001B[1;32m~\\PycharmProjects\\practicum\\.venv\\Lib\\site-packages\\scipy\\stats\\contingency.py:333\u001B[0m, in \u001B[0;36mchi2_contingency\u001B[1;34m(observed, correction, lambda_)\u001B[0m\n\u001B[0;32m    331\u001B[0m     \u001B[38;5;28;01mraise\u001B[39;00m \u001B[38;5;167;01mValueError\u001B[39;00m(\u001B[38;5;124m\"\u001B[39m\u001B[38;5;124mAll values in `observed` must be nonnegative.\u001B[39m\u001B[38;5;124m\"\u001B[39m)\n\u001B[0;32m    332\u001B[0m \u001B[38;5;28;01mif\u001B[39;00m observed\u001B[38;5;241m.\u001B[39msize \u001B[38;5;241m==\u001B[39m \u001B[38;5;241m0\u001B[39m:\n\u001B[1;32m--> 333\u001B[0m     \u001B[38;5;28;01mraise\u001B[39;00m \u001B[38;5;167;01mValueError\u001B[39;00m(\u001B[38;5;124m\"\u001B[39m\u001B[38;5;124mNo data; `observed` has size 0.\u001B[39m\u001B[38;5;124m\"\u001B[39m)\n\u001B[0;32m    335\u001B[0m expected \u001B[38;5;241m=\u001B[39m expected_freq(observed)\n\u001B[0;32m    336\u001B[0m \u001B[38;5;28;01mif\u001B[39;00m np\u001B[38;5;241m.\u001B[39many(expected \u001B[38;5;241m==\u001B[39m \u001B[38;5;241m0\u001B[39m):\n\u001B[0;32m    337\u001B[0m     \u001B[38;5;66;03m# Include one of the positions where expected is zero in\u001B[39;00m\n\u001B[0;32m    338\u001B[0m     \u001B[38;5;66;03m# the exception message.\u001B[39;00m\n",
      "\u001B[1;31mValueError\u001B[0m: No data; `observed` has size 0."
     ]
    }
   ],
   "execution_count": 31
  },
  {
   "metadata": {
    "ExecuteTime": {
     "end_time": "2024-05-06T06:39:29.551817Z",
     "start_time": "2024-05-06T06:39:29.534909Z"
    }
   },
   "cell_type": "code",
   "source": [
    "contingency_table_14 = pd.crosstab(index=AMB_PA['sexe'], columns=TOTAL['sexe'])\n",
    "\n",
    "chi2_AMB_PA_TOTAL, p_value_AMB_PA_TOTAL, dof_AMB_PA_TOTAL, expected_AMB_PA_TOTAL = chi2_contingency(contingency_table_14)\n",
    "\n",
    "print(\"Estadístic xi-quadrat entre AMB_PA i TOTAL:\", chi2_AMB_PA_TOTAL)\n",
    "print(\"P-valor entre AMB_PA i TOTAL:\", p_value_AMB_PA_TOTAL)\n",
    "\n",
    "if p_value_AMB_PA_TOTAL < 0.05:\n",
    "    print(\"Hi ha diferències significatives entre les distribucions de sexe en AMB_PA i TOTAL.\")\n",
    "else:\n",
    "    print(\"No hi ha diferències significatives entre les distribucions de sexe en AMB_PA i TOTAL.\")"
   ],
   "id": "c01732bb47d41187",
   "outputs": [
    {
     "name": "stdout",
     "output_type": "stream",
     "text": [
      "Estadístic xi-quadrat entre AMB_PA i TOTAL: 13.223042052469136\n",
      "P-valor entre AMB_PA i TOTAL: 0.00027652843917458906\n",
      "Hi ha diferències significatives entre les distribucions de sexe en AMB_PA i TOTAL.\n"
     ]
    }
   ],
   "execution_count": 32
  },
  {
   "metadata": {
    "ExecuteTime": {
     "end_time": "2024-05-06T06:39:30.227748Z",
     "start_time": "2024-05-06T06:39:30.207940Z"
    }
   },
   "cell_type": "code",
   "source": [
    "contingency_table_24 = pd.crosstab(index=AMB_PA_MECVV['sexe'], columns=TOTAL['sexe'])\n",
    "\n",
    "chi2_AMB_PA_MECVV_TOTAL, p_value_AMB_PA_MECVV_TOTAL, dof_AMB_PA_MECVV_TOTAL, expected_AMB_PA_MECVV_TOTAL = chi2_contingency(contingency_table_24)\n",
    "\n",
    "print(\"Estadístic xi-quadrat entre AMB_PA_MECVV i TOTAL:\", chi2_AMB_PA_MECVV_TOTAL)\n",
    "print(\"P-valor entre AMB_PA_MECVV i TOTAL:\", p_value_AMB_PA_MECVV_TOTAL)\n",
    "\n",
    "if p_value_AMB_PA_MECVV_TOTAL < 0.05:\n",
    "    print(\"Hi ha diferències significatives entre les distribucions de sexe en AMB_PA_MECVV i TOTAL.\")\n",
    "else:\n",
    "    print(\"No hi ha diferències significatives entre les distribucions de sexe en AMB_PA_MECVV i TOTAL.\")"
   ],
   "id": "b2a98d853b63b322",
   "outputs": [
    {
     "name": "stdout",
     "output_type": "stream",
     "text": [
      "Estadístic xi-quadrat entre AMB_PA_MECVV i TOTAL: 3.5555555555555554\n",
      "P-valor entre AMB_PA_MECVV i TOTAL: 0.05934643879191998\n",
      "No hi ha diferències significatives entre les distribucions de sexe en AMB_PA_MECVV i TOTAL.\n"
     ]
    }
   ],
   "execution_count": 33
  },
  {
   "metadata": {
    "ExecuteTime": {
     "end_time": "2024-05-06T06:40:15.602449Z",
     "start_time": "2024-05-06T06:40:15.585713Z"
    }
   },
   "cell_type": "code",
   "source": [
    "contingency_table_34 = pd.crosstab(index=SENSE_PA['sexe'], columns=TOTAL['sexe'])\n",
    "\n",
    "chi2_SENSE_PA_TOTAL, p_value_SENSE_PA_TOTAL, dof_SENSE_PA_TOTAL, expected_SENSE_PA_TOTAL = chi2_contingency(contingency_table_34)\n",
    "\n",
    "print(\"Estadístic xi-quadrat entre SENSE_PA i TOTAL:\", chi2_SENSE_PA_TOTAL)\n",
    "print(\"P-valor entre SENSE_PA i TOTAL:\", p_value_SENSE_PA_TOTAL)\n",
    "\n",
    "if p_value_SENSE_PA_TOTAL < 0.05:\n",
    "    print(\"Hi ha diferències significatives entre les distribucions de sexe en SENSE_PA i TOTAL.\")\n",
    "else:\n",
    "    print(\"No hi ha diferències significatives entre les distribucions de sexe en SENSE_PA i TOTAL.\")"
   ],
   "id": "102e8aaf97401d15",
   "outputs": [
    {
     "name": "stdout",
     "output_type": "stream",
     "text": [
      "Estadístic xi-quadrat entre SENSE_PA i TOTAL: 4.5\n",
      "P-valor entre SENSE_PA i TOTAL: 0.033894853524689295\n",
      "Hi ha diferències significatives entre les distribucions de sexe en SENSE_PA i TOTAL.\n"
     ]
    }
   ],
   "execution_count": 34
  },
  {
   "metadata": {},
   "cell_type": "markdown",
   "source": "## Ingressos (admissions)",
   "id": "7c1a4264ca854c74"
  },
  {
   "metadata": {
    "ExecuteTime": {
     "end_time": "2024-05-06T06:40:16.255668Z",
     "start_time": "2024-05-06T06:40:16.245120Z"
    }
   },
   "cell_type": "code",
   "source": [
    "Mitjana_ingresos = AMB_PA['Nombre ingressos'].mean()\n",
    "desviacio_estandard_ingresos = AMB_PA['Nombre ingressos'].std()\n",
    "\n",
    "resultat = f\"{Mitjana_ingresos:.2f} ± {desviacio_estandard_ingresos:.2f}\"\n",
    "print(\"Mitjana ± Desviació Estàndard del nombre d'ingressos:\", resultat)"
   ],
   "id": "77af35e4e03f23da",
   "outputs": [
    {
     "name": "stdout",
     "output_type": "stream",
     "text": [
      "Mitjana ± Desviació Estàndard del nombre d'ingressos: 5.59 ± 3.37\n"
     ]
    }
   ],
   "execution_count": 35
  },
  {
   "metadata": {
    "ExecuteTime": {
     "end_time": "2024-05-06T06:40:17.244696Z",
     "start_time": "2024-05-06T06:40:17.233826Z"
    }
   },
   "cell_type": "code",
   "source": [
    "Mitjana_ingresos = AMB_PA_MECVV['Nombre ingressos'].mean()\n",
    "desviacio_estandard_ingresos = AMB_PA_MECVV['Nombre ingressos'].std()\n",
    "\n",
    "resultat = f\"{Mitjana_ingresos:.2f} ± {desviacio_estandard_ingresos:.2f}\"\n",
    "print(\"Mitjana ± Desviació Estàndard del nombre d'ingressos:\", resultat)"
   ],
   "id": "d08d059cd8a8944a",
   "outputs": [
    {
     "name": "stdout",
     "output_type": "stream",
     "text": [
      "Mitjana ± Desviació Estàndard del nombre d'ingressos: 5.88 ± 1.64\n"
     ]
    }
   ],
   "execution_count": 36
  },
  {
   "metadata": {
    "ExecuteTime": {
     "end_time": "2024-05-06T06:40:17.937248Z",
     "start_time": "2024-05-06T06:40:17.927856Z"
    }
   },
   "cell_type": "code",
   "source": [
    "Mitjana_ingresos = SENSE_PA['Nombre ingressos'].mean()\n",
    "desviacio_estandard_ingresos = SENSE_PA['Nombre ingressos'].std()\n",
    "\n",
    "resultat = f\"{Mitjana_ingresos:.2f} ± {desviacio_estandard_ingresos:.2f}\"\n",
    "print(\"Mitjana ± Desviació Estàndard del nombre d'ingressos:\", resultat)"
   ],
   "id": "b0470d00ca90048b",
   "outputs": [
    {
     "name": "stdout",
     "output_type": "stream",
     "text": [
      "Mitjana ± Desviació Estàndard del nombre d'ingressos: 8.75 ± 3.85\n"
     ]
    }
   ],
   "execution_count": 37
  },
  {
   "metadata": {
    "ExecuteTime": {
     "end_time": "2024-05-06T06:40:18.774326Z",
     "start_time": "2024-05-06T06:40:18.767385Z"
    }
   },
   "cell_type": "code",
   "source": [
    "Mitjana_ingresos = TOTAL['Nombre ingressos'].mean()\n",
    "desviacio_estandard_ingresos = TOTAL['Nombre ingressos'].std()\n",
    "\n",
    "resultat = f\"{Mitjana_ingresos:.2f} ± {desviacio_estandard_ingresos:.2f}\"\n",
    "print(\"Mitjana ± Desviació Estàndard del nombre d'ingressos:\", resultat)"
   ],
   "id": "8f87c0f9f8b76f68",
   "outputs": [
    {
     "name": "stdout",
     "output_type": "stream",
     "text": [
      "Mitjana ± Desviació Estàndard del nombre d'ingressos: 6.68 ± 5.08\n"
     ]
    }
   ],
   "execution_count": 38
  },
  {
   "metadata": {},
   "cell_type": "markdown",
   "source": "#### Pvalor",
   "id": "ac26e96d348c2e2"
  },
  {
   "metadata": {},
   "cell_type": "markdown",
   "source": "##### Normalitat",
   "id": "840db79f54c49b40"
  },
  {
   "metadata": {
    "ExecuteTime": {
     "end_time": "2024-05-06T06:40:19.524999Z",
     "start_time": "2024-05-06T06:40:19.513286Z"
    }
   },
   "cell_type": "code",
   "source": [
    "stat, p_value = shapiro(AMB_PA['Nombre ingressos'])\n",
    "print(f\"Estadístic W = {stat:.4f}\")\n",
    "print(f\"Valor p = {p_value:.4f}\")\n",
    "\n",
    "alpha = 0.05\n",
    "if p_value < alpha:\n",
    "    print(\"El nombre de files no segueix una distribució normal.\")\n",
    "else:\n",
    "    print(\"El nombre de files segueix una distribució normal.\")"
   ],
   "id": "549e8f1ce3e357e6",
   "outputs": [
    {
     "name": "stdout",
     "output_type": "stream",
     "text": [
      "Estadístic W = 0.8008\n",
      "Valor p = 0.0021\n",
      "El nombre de files no segueix una distribució normal.\n"
     ]
    }
   ],
   "execution_count": 39
  },
  {
   "metadata": {
    "ExecuteTime": {
     "end_time": "2024-05-06T06:40:20.353828Z",
     "start_time": "2024-05-06T06:40:20.345715Z"
    }
   },
   "cell_type": "code",
   "source": [
    "stat, p_value = shapiro(AMB_PA_MECVV['Nombre ingressos'])\n",
    "print(f\"Estadístic W = {stat:.4f}\")\n",
    "print(f\"Valor p = {p_value:.4f}\")\n",
    "\n",
    "alpha = 0.05\n",
    "if p_value < alpha:\n",
    "    print(\"El nombre de files no segueix una distribució normal.\")\n",
    "else:\n",
    "    print(\"El nombre de files segueix una distribució normal.\")"
   ],
   "id": "cf0ae5ced6e0b73a",
   "outputs": [
    {
     "name": "stdout",
     "output_type": "stream",
     "text": [
      "Estadístic W = 0.9122\n",
      "Valor p = 0.3695\n",
      "El nombre de files segueix una distribució normal.\n"
     ]
    }
   ],
   "execution_count": 40
  },
  {
   "metadata": {
    "ExecuteTime": {
     "end_time": "2024-05-06T06:40:21.004100Z",
     "start_time": "2024-05-06T06:40:20.990728Z"
    }
   },
   "cell_type": "code",
   "source": [
    "stat, p_value = shapiro(SENSE_PA['Nombre ingressos'])\n",
    "print(f\"Estadístic W = {stat:.4f}\")\n",
    "print(f\"Valor p = {p_value:.4f}\")\n",
    "\n",
    "alpha = 0.05\n",
    "if p_value < alpha:\n",
    "    print(\"El nombre de files no segueix una distribució normal.\")\n",
    "else:\n",
    "    print(\"El nombre de files segueix una distribució normal.\")"
   ],
   "id": "f1d9d97215665bd8",
   "outputs": [
    {
     "name": "stdout",
     "output_type": "stream",
     "text": [
      "Estadístic W = 0.9498\n",
      "Valor p = 0.7091\n",
      "El nombre de files segueix una distribució normal.\n"
     ]
    }
   ],
   "execution_count": 41
  },
  {
   "metadata": {
    "ExecuteTime": {
     "end_time": "2024-05-06T06:40:21.942257Z",
     "start_time": "2024-05-06T06:40:21.927349Z"
    }
   },
   "cell_type": "code",
   "source": [
    "stat, p_value = shapiro(TOTAL['Nombre ingressos'])\n",
    "print(f\"Estadístic W = {stat:.4f}\")\n",
    "print(f\"Valor p = {p_value:.4f}\")\n",
    "\n",
    "alpha = 0.05\n",
    "if p_value < alpha:\n",
    "    print(\"El nombre de files no segueix una distribució normal.\")\n",
    "else:\n",
    "    print(\"El nombre de files segueix una distribució normal.\")"
   ],
   "id": "fb36f657532bc85b",
   "outputs": [
    {
     "name": "stdout",
     "output_type": "stream",
     "text": [
      "Estadístic W = 0.7256\n",
      "Valor p = 0.0000\n",
      "El nombre de files no segueix una distribució normal.\n"
     ]
    }
   ],
   "execution_count": 42
  },
  {
   "metadata": {
    "ExecuteTime": {
     "end_time": "2024-05-06T06:40:22.585428Z",
     "start_time": "2024-05-06T06:40:22.571324Z"
    }
   },
   "cell_type": "code",
   "source": [
    "stat, p_value = shapiro(TOTAL['Nombre ingressos'])\n",
    "print(f\"Estadístic W = {stat:.4f}\")\n",
    "print(f\"Valor p = {p_value:.4f}\")\n",
    "\n",
    "alpha = 0.05\n",
    "if p_value < alpha:\n",
    "    print(\"El nombre de files no segueix una distribució normal.\")\n",
    "else:\n",
    "    print(\"El nombre de files segueix una distribució normal.\")"
   ],
   "id": "5e588464aa7a00a7",
   "outputs": [
    {
     "name": "stdout",
     "output_type": "stream",
     "text": [
      "Estadístic W = 0.7256\n",
      "Valor p = 0.0000\n",
      "El nombre de files no segueix una distribució normal.\n"
     ]
    }
   ],
   "execution_count": 43
  },
  {
   "metadata": {
    "ExecuteTime": {
     "end_time": "2024-05-06T06:40:23.517652Z",
     "start_time": "2024-05-06T06:40:23.470003Z"
    }
   },
   "cell_type": "code",
   "source": [
    "stat, p_value_12 = mannwhitneyu(AMB_PA['Nombre ingressos'], AMB_PA_MECVV['Nombre ingressos'], alternative='two-sided')\n",
    "print(\"P-valor entre AMB_PA i AMB_PA_MECVV\", p_value_12)"
   ],
   "id": "e1a40734a30212e5",
   "outputs": [
    {
     "name": "stdout",
     "output_type": "stream",
     "text": [
      "P-valor entre AMB_PA i AMB_PA_MECVV 0.27403132109149697\n"
     ]
    }
   ],
   "execution_count": 44
  },
  {
   "metadata": {
    "ExecuteTime": {
     "end_time": "2024-05-06T06:40:24.123172Z",
     "start_time": "2024-05-06T06:40:24.111358Z"
    }
   },
   "cell_type": "code",
   "source": [
    "stat, p_value_13 = mannwhitneyu(AMB_PA['Nombre ingressos'], SENSE_PA['Nombre ingressos'], alternative='two-sided')\n",
    "print(\"P-valor entre AMB_PA i SENSE_PA\", p_value_13)"
   ],
   "id": "f2655db5e10960da",
   "outputs": [
    {
     "name": "stdout",
     "output_type": "stream",
     "text": [
      "P-valor entre AMB_PA i SENSE_PA 0.042821773602008555\n"
     ]
    }
   ],
   "execution_count": 45
  },
  {
   "metadata": {
    "ExecuteTime": {
     "end_time": "2024-05-06T06:40:24.974753Z",
     "start_time": "2024-05-06T06:40:24.968942Z"
    }
   },
   "cell_type": "code",
   "source": [
    "stat, p_value_23 = mannwhitneyu(AMB_PA_MECVV['Nombre ingressos'], SENSE_PA['Nombre ingressos'], alternative='two-sided')\n",
    "print(\"P-valor entre AMB_PA_MECVV i SENSE_PA\", p_value_23)"
   ],
   "id": "b130ccb4c5b7e332",
   "outputs": [
    {
     "name": "stdout",
     "output_type": "stream",
     "text": [
      "P-valor entre AMB_PA_MECVV i SENSE_PA 0.18434809692120802\n"
     ]
    }
   ],
   "execution_count": 46
  },
  {
   "metadata": {
    "ExecuteTime": {
     "end_time": "2024-05-06T06:40:26.311397Z",
     "start_time": "2024-05-06T06:40:26.303832Z"
    }
   },
   "cell_type": "code",
   "source": [
    "stat, p_value_14 = mannwhitneyu(AMB_PA['Nombre ingressos'], TOTAL['Nombre ingressos'], alternative='two-sided')\n",
    "print(\"P-valor entre AMB_PA i TOTAL\", p_value_14)"
   ],
   "id": "9e1d30cb9f1ebfc",
   "outputs": [
    {
     "name": "stdout",
     "output_type": "stream",
     "text": [
      "P-valor entre AMB_PA i TOTAL 0.4941763107233279\n"
     ]
    }
   ],
   "execution_count": 47
  },
  {
   "metadata": {
    "ExecuteTime": {
     "end_time": "2024-05-06T06:40:26.858445Z",
     "start_time": "2024-05-06T06:40:26.831607Z"
    }
   },
   "cell_type": "code",
   "source": [
    "stat, p_value_24 = mannwhitneyu(AMB_PA_MECVV['Nombre ingressos'], TOTAL['Nombre ingressos'], alternative='two-sided')\n",
    "print(\"P-valor entre AMB_PA_MECVV i TOTAL\", p_value_24)"
   ],
   "id": "a40272bb9428af23",
   "outputs": [
    {
     "name": "stdout",
     "output_type": "stream",
     "text": [
      "P-valor entre AMB_PA_MECVV i TOTAL 0.6902658476564807\n"
     ]
    }
   ],
   "execution_count": 48
  },
  {
   "metadata": {
    "ExecuteTime": {
     "end_time": "2024-05-06T06:40:27.724896Z",
     "start_time": "2024-05-06T06:40:27.716908Z"
    }
   },
   "cell_type": "code",
   "source": [
    "stat, p_value_34 = mannwhitneyu(SENSE_PA['Nombre ingressos'], TOTAL['Nombre ingressos'], alternative='two-sided')\n",
    "print(\"P-valor entre SENSE_PA i TOTAL\", p_value_34)"
   ],
   "id": "8352d5410a6c1aee",
   "outputs": [
    {
     "name": "stdout",
     "output_type": "stream",
     "text": [
      "P-valor entre SENSE_PA i TOTAL 0.06577367478634001\n"
     ]
    }
   ],
   "execution_count": 49
  },
  {
   "metadata": {},
   "cell_type": "markdown",
   "source": "## Disfàgia",
   "id": "d46472f25d1ea9ab"
  },
  {
   "metadata": {
    "ExecuteTime": {
     "end_time": "2024-05-06T06:40:28.439098Z",
     "start_time": "2024-05-06T06:40:28.433686Z"
    }
   },
   "cell_type": "code",
   "source": [
    "disf_AMB_PA= (AMB_PA['DO diagnosticada'] == 1.0).mean() * 100\n",
    "print(f\"Percentatge de disfàgia: {disf_AMB_PA:.2f}%\")"
   ],
   "id": "1158733fe7259d75",
   "outputs": [
    {
     "name": "stdout",
     "output_type": "stream",
     "text": [
      "Percentatge de disfàgia: 47.06%\n"
     ]
    }
   ],
   "execution_count": 50
  },
  {
   "metadata": {
    "ExecuteTime": {
     "end_time": "2024-05-06T06:40:30.006153Z",
     "start_time": "2024-05-06T06:40:29.999050Z"
    }
   },
   "cell_type": "code",
   "source": [
    "disf_AMB_PA_MECVV = (AMB_PA_MECVV['DO diagnosticada'] == 1.0).mean() * 100\n",
    "print(f\"Percentatge de disfàgia: {disf_AMB_PA_MECVV:.2f}%\")"
   ],
   "id": "4105ce4e231d0853",
   "outputs": [
    {
     "name": "stdout",
     "output_type": "stream",
     "text": [
      "Percentatge de disfàgia: 50.00%\n"
     ]
    }
   ],
   "execution_count": 51
  },
  {
   "metadata": {
    "ExecuteTime": {
     "end_time": "2024-05-06T06:40:30.831608Z",
     "start_time": "2024-05-06T06:40:30.816639Z"
    }
   },
   "cell_type": "code",
   "source": [
    "disf_SENSE_PA= (SENSE_PA['DO diagnosticada'] == 1.0).mean() * 100\n",
    "print(f\"Percentatge de disfàgia: {disf_SENSE_PA:.2f}%\")"
   ],
   "id": "66a1da5f6068ce03",
   "outputs": [
    {
     "name": "stdout",
     "output_type": "stream",
     "text": [
      "Percentatge de disfàgia: 25.00%\n"
     ]
    }
   ],
   "execution_count": 52
  },
  {
   "metadata": {
    "ExecuteTime": {
     "end_time": "2024-05-06T06:40:31.895438Z",
     "start_time": "2024-05-06T06:40:31.889866Z"
    }
   },
   "cell_type": "code",
   "source": [
    "disf_TOTAL= (TOTAL['DO diagnosticada'] == 1.0).mean() * 100\n",
    "print(f\"Percentatge de disfàgia: {disf_TOTAL:.2f}%\")"
   ],
   "id": "1620604fbfe47669",
   "outputs": [
    {
     "name": "stdout",
     "output_type": "stream",
     "text": [
      "Percentatge de disfàgia: 20.00%\n"
     ]
    }
   ],
   "execution_count": 53
  },
  {
   "metadata": {},
   "cell_type": "markdown",
   "source": "#### Pvalor",
   "id": "b7f1a5636f342b1b"
  },
  {
   "metadata": {},
   "cell_type": "markdown",
   "source": "##### Normalitat",
   "id": "b9bb9679799a910b"
  },
  {
   "metadata": {
    "ExecuteTime": {
     "end_time": "2024-05-06T06:40:32.628449Z",
     "start_time": "2024-05-06T06:40:32.616838Z"
    }
   },
   "cell_type": "code",
   "source": [
    "stat, p_value = shapiro(AMB_PA['DO diagnosticada'])\n",
    "print(f\"Estadístic W = {stat:.4f}\")\n",
    "print(f\"Valor p = {p_value:.4f}\")\n",
    "\n",
    "alpha = 0.05\n",
    "if p_value < alpha:\n",
    "    print(\"El nombre de files no segueix una distribució normal.\")\n",
    "else:\n",
    "    print(\"El nombre de files segueix una distribució normal.\")"
   ],
   "id": "9068d0a097618db2",
   "outputs": [
    {
     "name": "stdout",
     "output_type": "stream",
     "text": [
      "Estadístic W = 0.6418\n",
      "Valor p = 0.0000\n",
      "El nombre de files no segueix una distribució normal.\n"
     ]
    }
   ],
   "execution_count": 54
  },
  {
   "metadata": {
    "ExecuteTime": {
     "end_time": "2024-05-06T06:40:33.721214Z",
     "start_time": "2024-05-06T06:40:33.713554Z"
    }
   },
   "cell_type": "code",
   "source": [
    "stat, p_value = shapiro(AMB_PA_MECVV['DO diagnosticada'])\n",
    "print(f\"Estadístic W = {stat:.4f}\")\n",
    "print(f\"Valor p = {p_value:.4f}\")\n",
    "\n",
    "alpha = 0.05\n",
    "if p_value < alpha:\n",
    "    print(\"El nombre de files no segueix una distribució normal.\")\n",
    "else:\n",
    "    print(\"El nombre de files segueix una distribució normal.\")"
   ],
   "id": "511e7760f8696524",
   "outputs": [
    {
     "name": "stdout",
     "output_type": "stream",
     "text": [
      "Estadístic W = 0.6647\n",
      "Valor p = 0.0009\n",
      "El nombre de files no segueix una distribució normal.\n"
     ]
    }
   ],
   "execution_count": 55
  },
  {
   "metadata": {
    "ExecuteTime": {
     "end_time": "2024-05-06T06:40:34.539489Z",
     "start_time": "2024-05-06T06:40:34.529588Z"
    }
   },
   "cell_type": "code",
   "source": [
    "stat, p_value = shapiro(SENSE_PA['DO diagnosticada'])\n",
    "print(f\"Estadístic W = {stat:.4f}\")\n",
    "print(f\"Valor p = {p_value:.4f}\")\n",
    "\n",
    "alpha = 0.05\n",
    "if p_value < alpha:\n",
    "    print(\"El nombre de files no segueix una distribució normal.\")\n",
    "else:\n",
    "    print(\"El nombre de files segueix una distribució normal.\")"
   ],
   "id": "e8b5dab7a1b4a308",
   "outputs": [
    {
     "name": "stdout",
     "output_type": "stream",
     "text": [
      "Estadístic W = 0.5659\n",
      "Valor p = 0.0001\n",
      "El nombre de files no segueix una distribució normal.\n"
     ]
    }
   ],
   "execution_count": 56
  },
  {
   "metadata": {
    "ExecuteTime": {
     "end_time": "2024-05-06T06:40:35.421047Z",
     "start_time": "2024-05-06T06:40:35.409892Z"
    }
   },
   "cell_type": "code",
   "source": [
    "stat, p_value = shapiro(TOTAL['DO diagnosticada'])\n",
    "print(f\"Estadístic W = {stat:.4f}\")\n",
    "print(f\"Valor p = {p_value:.4f}\")\n",
    "\n",
    "alpha = 0.05\n",
    "if p_value < alpha:\n",
    "    print(\"El nombre de files no segueix una distribució normal.\")\n",
    "else:\n",
    "    print(\"El nombre de files segueix una distribució normal.\")"
   ],
   "id": "48921778cb611f4",
   "outputs": [
    {
     "name": "stdout",
     "output_type": "stream",
     "text": [
      "Estadístic W = 0.4904\n",
      "Valor p = 0.0000\n",
      "El nombre de files no segueix una distribució normal.\n"
     ]
    }
   ],
   "execution_count": 57
  },
  {
   "metadata": {
    "ExecuteTime": {
     "end_time": "2024-05-06T06:40:36.060059Z",
     "start_time": "2024-05-06T06:40:36.046850Z"
    }
   },
   "cell_type": "code",
   "source": [
    "contingency_table_12 = pd.crosstab(index=AMB_PA['DO diagnosticada'], columns=AMB_PA_MECVV['DO diagnosticada'])\n",
    "\n",
    "chi2_AMB_PA_AMB_PA_MECVV, p_value_AMB_PA_AMB_PA_MECVV, dof_AMB_PA_AMB_PA_MECVV, expected_AMB_PA_AMB_PA_MECVV = chi2_contingency(contingency_table_12)\n",
    "\n",
    "print(\"Estadístic xi-quadrat entre AMB_PA i AMB_PA_MECVV:\", chi2_AMB_PA_AMB_PA_MECVV)\n",
    "print(\"P-valor entre AMB_PA i AMB_PA_MECVV:\", p_value_AMB_PA_AMB_PA_MECVV)\n",
    "\n",
    "if p_value_AMB_PA_AMB_PA_MECVV < 0.05:\n",
    "    print(\"Hi ha diferències significatives entre les distribucions de DO en AMB_PA i AMB_PA_MECVV.\")\n",
    "else:\n",
    "    print(\"No hi ha diferències significatives entre les distribucions de DO en AMB_PA i AMB_PA_MECVV.\")"
   ],
   "id": "b7250148750bd0ec",
   "outputs": [
    {
     "name": "stdout",
     "output_type": "stream",
     "text": [
      "Estadístic xi-quadrat entre AMB_PA i AMB_PA_MECVV: 2.34375\n",
      "P-valor entre AMB_PA i AMB_PA_MECVV: 0.12578642463893994\n",
      "No hi ha diferències significatives entre les distribucions de DO en AMB_PA i AMB_PA_MECVV.\n"
     ]
    }
   ],
   "execution_count": 58
  },
  {
   "metadata": {
    "ExecuteTime": {
     "end_time": "2024-05-06T06:40:37.076827Z",
     "start_time": "2024-05-06T06:40:37.060525Z"
    }
   },
   "cell_type": "code",
   "source": [
    "contingency_table_13 = pd.crosstab(index=AMB_PA['DO diagnosticada'], columns=SENSE_PA['DO diagnosticada'])\n",
    "\n",
    "chi2_AMB_PA_SENSE_PA, p_value_AMB_PA_SENSE_PA, dof_AMB_PA_SENSE_PA, expected_AMB_PA_SENSE_PA = chi2_contingency(contingency_table_13)\n",
    "\n",
    "print(\"Estadístic xi-quadrat entre AMB_PA i SENSE_PA:\", chi2_AMB_PA_SENSE_PA)\n",
    "print(\"P-valor entre AMB_PA i SENSE_PA:\", p_value_AMB_PA_SENSE_PA)\n",
    "\n",
    "if p_value_AMB_PA_SENSE_PA < 0.05:\n",
    "    print(\"Hi ha diferències significatives entre les distribucions de DO en AMB_PA i SENSE_PA.\")\n",
    "else:\n",
    "    print(\"No hi ha diferències significatives entre les distribucions de DO en AMB_PA i SENSE_PA.\")"
   ],
   "id": "18de486110d234f4",
   "outputs": [
    {
     "name": "stdout",
     "output_type": "stream",
     "text": [
      "Estadístic xi-quadrat entre AMB_PA i SENSE_PA: 0.1875\n",
      "P-valor entre AMB_PA i SENSE_PA: 0.6650055421020291\n",
      "No hi ha diferències significatives entre les distribucions de DO en AMB_PA i SENSE_PA.\n"
     ]
    }
   ],
   "execution_count": 59
  },
  {
   "metadata": {
    "ExecuteTime": {
     "end_time": "2024-05-06T06:40:37.782479Z",
     "start_time": "2024-05-06T06:40:37.733758Z"
    }
   },
   "cell_type": "code",
   "source": [
    "contingency_table_23 = pd.crosstab(index=AMB_PA_MECVV['DO diagnosticada'], columns=SENSE_PA['DO diagnosticada'])\n",
    "\n",
    "chi2_AMB_PA_MECVV_SENSE_PA, p_value_AMB_PA_MECVV_SENSE_PA, dof_AMB_PA_MECVV_SENSE_PA, expected_AMB_PA_MECVV_SENSE_PA = chi2_contingency(contingency_table_23)\n",
    "\n",
    "print(\"Estadístic xi-quadrat entre AMB_PA_MECVVV i SENSE_PA:\", chi2_AMB_PA_MECVV_SENSE_PA)\n",
    "print(\"P-valor entre AMB_PA_MECVV i SENSE_PA:\", p_value_AMB_PA_MECVV_SENSE_PA)\n",
    "\n",
    "if p_value_AMB_PA_MECVV_SENSE_PA < 0.05:\n",
    "    print(\"Hi ha diferències significatives entre les distribucions de DO en AMB_PA_MECVV i SENSE_PA.\")\n",
    "else:\n",
    "    print(\"No hi ha diferències significatives entre les distribucions de DO en AMB_PA_MECVV i SENSE_PA.\")"
   ],
   "id": "508340d7a6fb917d",
   "outputs": [
    {
     "ename": "ValueError",
     "evalue": "No data; `observed` has size 0.",
     "output_type": "error",
     "traceback": [
      "\u001B[1;31m---------------------------------------------------------------------------\u001B[0m",
      "\u001B[1;31mValueError\u001B[0m                                Traceback (most recent call last)",
      "Cell \u001B[1;32mIn[60], line 3\u001B[0m\n\u001B[0;32m      1\u001B[0m contingency_table_23 \u001B[38;5;241m=\u001B[39m pd\u001B[38;5;241m.\u001B[39mcrosstab(index\u001B[38;5;241m=\u001B[39mAMB_PA_MECVV[\u001B[38;5;124m'\u001B[39m\u001B[38;5;124mDO diagnosticada\u001B[39m\u001B[38;5;124m'\u001B[39m], columns\u001B[38;5;241m=\u001B[39mSENSE_PA[\u001B[38;5;124m'\u001B[39m\u001B[38;5;124mDO diagnosticada\u001B[39m\u001B[38;5;124m'\u001B[39m])\n\u001B[1;32m----> 3\u001B[0m chi2_AMB_PA_MECVV_SENSE_PA, p_value_AMB_PA_MECVV_SENSE_PA, dof_AMB_PA_MECVV_SENSE_PA, expected_AMB_PA_MECVV_SENSE_PA \u001B[38;5;241m=\u001B[39m \u001B[43mchi2_contingency\u001B[49m\u001B[43m(\u001B[49m\u001B[43mcontingency_table_23\u001B[49m\u001B[43m)\u001B[49m\n\u001B[0;32m      5\u001B[0m \u001B[38;5;28mprint\u001B[39m(\u001B[38;5;124m\"\u001B[39m\u001B[38;5;124mEstadístic xi-quadrat entre AMB_PA_MECVVV i SENSE_PA:\u001B[39m\u001B[38;5;124m\"\u001B[39m, chi2_AMB_PA_MECVV_SENSE_PA)\n\u001B[0;32m      6\u001B[0m \u001B[38;5;28mprint\u001B[39m(\u001B[38;5;124m\"\u001B[39m\u001B[38;5;124mP-valor entre AMB_PA_MECVV i SENSE_PA:\u001B[39m\u001B[38;5;124m\"\u001B[39m, p_value_AMB_PA_MECVV_SENSE_PA)\n",
      "File \u001B[1;32m~\\PycharmProjects\\practicum\\.venv\\Lib\\site-packages\\scipy\\stats\\contingency.py:333\u001B[0m, in \u001B[0;36mchi2_contingency\u001B[1;34m(observed, correction, lambda_)\u001B[0m\n\u001B[0;32m    331\u001B[0m     \u001B[38;5;28;01mraise\u001B[39;00m \u001B[38;5;167;01mValueError\u001B[39;00m(\u001B[38;5;124m\"\u001B[39m\u001B[38;5;124mAll values in `observed` must be nonnegative.\u001B[39m\u001B[38;5;124m\"\u001B[39m)\n\u001B[0;32m    332\u001B[0m \u001B[38;5;28;01mif\u001B[39;00m observed\u001B[38;5;241m.\u001B[39msize \u001B[38;5;241m==\u001B[39m \u001B[38;5;241m0\u001B[39m:\n\u001B[1;32m--> 333\u001B[0m     \u001B[38;5;28;01mraise\u001B[39;00m \u001B[38;5;167;01mValueError\u001B[39;00m(\u001B[38;5;124m\"\u001B[39m\u001B[38;5;124mNo data; `observed` has size 0.\u001B[39m\u001B[38;5;124m\"\u001B[39m)\n\u001B[0;32m    335\u001B[0m expected \u001B[38;5;241m=\u001B[39m expected_freq(observed)\n\u001B[0;32m    336\u001B[0m \u001B[38;5;28;01mif\u001B[39;00m np\u001B[38;5;241m.\u001B[39many(expected \u001B[38;5;241m==\u001B[39m \u001B[38;5;241m0\u001B[39m):\n\u001B[0;32m    337\u001B[0m     \u001B[38;5;66;03m# Include one of the positions where expected is zero in\u001B[39;00m\n\u001B[0;32m    338\u001B[0m     \u001B[38;5;66;03m# the exception message.\u001B[39;00m\n",
      "\u001B[1;31mValueError\u001B[0m: No data; `observed` has size 0."
     ]
    }
   ],
   "execution_count": 60
  },
  {
   "metadata": {
    "ExecuteTime": {
     "end_time": "2024-05-06T06:40:38.653055Z",
     "start_time": "2024-05-06T06:40:38.641109Z"
    }
   },
   "cell_type": "code",
   "source": [
    "contingency_table_14 = pd.crosstab(index=AMB_PA['DO diagnosticada'], columns=TOTAL['DO diagnosticada'])\n",
    "\n",
    "chi2_AMB_PA_TOTAL, p_value_AMB_PA_TOTAL, dof_AMB_PA_TOTAL, expected_AMB_PA_TOTAL = chi2_contingency(contingency_table_14)\n",
    "\n",
    "print(\"Estadístic xi-quadrat entre AMB_PA i TOTAL:\", chi2_AMB_PA_TOTAL)\n",
    "print(\"P-valor entre AMB_PA i TOTAL:\", p_value_AMB_PA_TOTAL)\n",
    "\n",
    "if p_value_AMB_PA_TOTAL < 0.05:\n",
    "    print(\"Hi ha diferències significatives entre les distribucions de DO en AMB_PA i TOTAL.\")\n",
    "else:\n",
    "    print(\"No hi ha diferències significatives entre les distribucions de DO en AMB_PA i TOTAL.\")"
   ],
   "id": "a0ce4b46c4c32f03",
   "outputs": [
    {
     "name": "stdout",
     "output_type": "stream",
     "text": [
      "Estadístic xi-quadrat entre AMB_PA i TOTAL: 13.223042052469136\n",
      "P-valor entre AMB_PA i TOTAL: 0.00027652843917458906\n",
      "Hi ha diferències significatives entre les distribucions de DO en AMB_PA i TOTAL.\n"
     ]
    }
   ],
   "execution_count": 61
  },
  {
   "metadata": {
    "ExecuteTime": {
     "end_time": "2024-05-06T06:40:39.346804Z",
     "start_time": "2024-05-06T06:40:39.323614Z"
    }
   },
   "cell_type": "code",
   "source": [
    "contingency_table_24 = pd.crosstab(index=AMB_PA_MECVV['DO diagnosticada'], columns=TOTAL['DO diagnosticada'])\n",
    "\n",
    "chi2_AMB_PA_MECVV_TOTAL, p_value_AMB_PA_MECVV_TOTAL, dof_AMB_PA_MECVV_TOTAL, expected_AMB_PA_MECVV_TOTAL = chi2_contingency(contingency_table_24)\n",
    "\n",
    "print(\"Estadístic xi-quadrat entre AMB_PA_MECVV i TOTAL:\", chi2_AMB_PA_MECVV_TOTAL)\n",
    "print(\"P-valor entre AMB_PA_MECVV i TOTAL:\", p_value_AMB_PA_MECVV_TOTAL)\n",
    "\n",
    "if p_value_AMB_PA_MECVV_TOTAL < 0.05:\n",
    "    print(\"Hi ha diferències significatives entre les distribucions de DO en AMB_PA_MECVV i TOTAL.\")\n",
    "else:\n",
    "    print(\"No hi ha diferències significatives entre les distribucions de DO en AMB_PA_MECVV i TOTAL.\")"
   ],
   "id": "3f93cd921596da0e",
   "outputs": [
    {
     "name": "stdout",
     "output_type": "stream",
     "text": [
      "Estadístic xi-quadrat entre AMB_PA_MECVV i TOTAL: 4.5\n",
      "P-valor entre AMB_PA_MECVV i TOTAL: 0.033894853524689295\n",
      "Hi ha diferències significatives entre les distribucions de DO en AMB_PA_MECVV i TOTAL.\n"
     ]
    }
   ],
   "execution_count": 62
  },
  {
   "metadata": {
    "ExecuteTime": {
     "end_time": "2024-05-06T06:40:40.445036Z",
     "start_time": "2024-05-06T06:40:40.427996Z"
    }
   },
   "cell_type": "code",
   "source": [
    "contingency_table_34 = pd.crosstab(index=SENSE_PA['DO diagnosticada'], columns=TOTAL['DO diagnosticada'])\n",
    "\n",
    "chi2_SENSE_PA_TOTAL, p_value_SENSE_PA_TOTAL, dof_SENSE_PA_TOTAL, expected_SENSE_PA_TOTAL = chi2_contingency(contingency_table_34)\n",
    "\n",
    "print(\"Estadístic xi-quadrat entre SENSE_PA i TOTAL:\", chi2_SENSE_PA_TOTAL)\n",
    "print(\"P-valor entre SENSE_PA i TOTAL:\", p_value_SENSE_PA_TOTAL)\n",
    "\n",
    "if p_value_SENSE_PA_TOTAL < 0.05:\n",
    "    print(\"Hi ha diferències significatives entre les distribucions de DO en SENSE_PA i TOTAL.\")\n",
    "else:\n",
    "    print(\"No hi ha diferències significatives entre les distribucions de DO en SENSE_PA i TOTAL.\")"
   ],
   "id": "520725ca28398814",
   "outputs": [
    {
     "name": "stdout",
     "output_type": "stream",
     "text": [
      "Estadístic xi-quadrat entre SENSE_PA i TOTAL: 3.5555555555555554\n",
      "P-valor entre SENSE_PA i TOTAL: 0.05934643879191998\n",
      "No hi ha diferències significatives entre les distribucions de DO en SENSE_PA i TOTAL.\n"
     ]
    }
   ],
   "execution_count": 63
  },
  {
   "metadata": {},
   "cell_type": "markdown",
   "source": "## Index de Barthel",
   "id": "dc8734cc141432b0"
  },
  {
   "metadata": {},
   "cell_type": "markdown",
   "source": "### Mitjana",
   "id": "bfed47df31e7bb8"
  },
  {
   "metadata": {
    "ExecuteTime": {
     "end_time": "2024-05-06T06:40:40.926853Z",
     "start_time": "2024-05-06T06:40:40.918742Z"
    }
   },
   "cell_type": "code",
   "source": [
    "Mitjana_barthel = AMB_PA['Barthel resultats'].mean()\n",
    "desviacio_estandard_barthel = AMB_PA['Barthel resultats'].std()\n",
    "\n",
    "resultat = f\"{Mitjana_barthel:.2f} ± {desviacio_estandard_barthel:.2f}\"\n",
    "print(\"Mitjana ± Desviació Estàndard del Barthel:\", resultat)"
   ],
   "id": "8638758d3ff1fd2b",
   "outputs": [
    {
     "name": "stdout",
     "output_type": "stream",
     "text": [
      "Mitjana ± Desviació Estàndard del Barthel: 22.65 ± 24.63\n"
     ]
    }
   ],
   "execution_count": 64
  },
  {
   "metadata": {
    "ExecuteTime": {
     "end_time": "2024-05-06T06:40:41.915464Z",
     "start_time": "2024-05-06T06:40:41.906342Z"
    }
   },
   "cell_type": "code",
   "source": [
    "Mitjana_barthel = AMB_PA_MECVV['Barthel resultats'].mean()\n",
    "desviacio_estandard_barthel = AMB_PA_MECVV['Barthel resultats'].std()\n",
    "\n",
    "resultat = f\"{Mitjana_barthel:.2f} ± {desviacio_estandard_barthel:.2f}\"\n",
    "print(\"Mitjana ± Desviació Estàndard del Barthel:\", resultat)"
   ],
   "id": "fa78d7ab6c24f658",
   "outputs": [
    {
     "name": "stdout",
     "output_type": "stream",
     "text": [
      "Mitjana ± Desviació Estàndard del Barthel: 13.75 ± 18.27\n"
     ]
    }
   ],
   "execution_count": 65
  },
  {
   "metadata": {
    "ExecuteTime": {
     "end_time": "2024-05-06T06:40:42.611459Z",
     "start_time": "2024-05-06T06:40:42.604097Z"
    }
   },
   "cell_type": "code",
   "source": [
    "Mitjana_barthel = SENSE_PA['Barthel resultats'].mean()\n",
    "desviacio_estandard_barthel = SENSE_PA['Barthel resultats'].std()\n",
    "\n",
    "resultat = f\"{Mitjana_barthel:.2f} ± {desviacio_estandard_barthel:.2f}\"\n",
    "print(\"Mitjana ± Desviació Estàndard del Barthel:\", resultat)"
   ],
   "id": "47d02b3ef2886135",
   "outputs": [
    {
     "name": "stdout",
     "output_type": "stream",
     "text": [
      "Mitjana ± Desviació Estàndard del Barthel: 53.12 ± 21.20\n"
     ]
    }
   ],
   "execution_count": 66
  },
  {
   "metadata": {},
   "cell_type": "markdown",
   "source": "#### Pvalor",
   "id": "1ac5ed3b04b339da"
  },
  {
   "metadata": {},
   "cell_type": "markdown",
   "source": "##### Normalitat",
   "id": "a65d29ed7addb2c2"
  },
  {
   "metadata": {
    "ExecuteTime": {
     "end_time": "2024-05-06T06:40:43.759910Z",
     "start_time": "2024-05-06T06:40:43.750751Z"
    }
   },
   "cell_type": "code",
   "source": [
    "stat, p_value = shapiro(AMB_PA['Barthel resultats'])\n",
    "print(f\"Estadístic W = {stat:.4f}\")\n",
    "print(f\"Valor p = {p_value:.4f}\")\n",
    "\n",
    "alpha = 0.05\n",
    "if p_value < alpha:\n",
    "    print(\"El nombre de files no segueix una distribució normal.\")\n",
    "else:\n",
    "    print(\"El nombre de files segueix una distribució normal.\")"
   ],
   "id": "dd1f4211e230b65e",
   "outputs": [
    {
     "name": "stdout",
     "output_type": "stream",
     "text": [
      "Estadístic W = 0.8517\n",
      "Valor p = 0.0114\n",
      "El nombre de files no segueix una distribució normal.\n"
     ]
    }
   ],
   "execution_count": 67
  },
  {
   "metadata": {
    "ExecuteTime": {
     "end_time": "2024-05-06T06:40:44.387693Z",
     "start_time": "2024-05-06T06:40:44.373944Z"
    }
   },
   "cell_type": "code",
   "source": [
    "stat, p_value = shapiro(AMB_PA_MECVV['Barthel resultats'])\n",
    "print(f\"Estadístic W = {stat:.4f}\")\n",
    "print(f\"Valor p = {p_value:.4f}\")\n",
    "\n",
    "alpha = 0.05\n",
    "if p_value < alpha:\n",
    "    print(\"El nombre de files no segueix una distribució normal.\")\n",
    "else:\n",
    "    print(\"El nombre de files segueix una distribució normal.\")"
   ],
   "id": "5b55e8e8f36f2812",
   "outputs": [
    {
     "name": "stdout",
     "output_type": "stream",
     "text": [
      "Estadístic W = 0.8000\n",
      "Valor p = 0.0286\n",
      "El nombre de files no segueix una distribució normal.\n"
     ]
    }
   ],
   "execution_count": 68
  },
  {
   "metadata": {
    "ExecuteTime": {
     "end_time": "2024-05-06T06:40:45.306062Z",
     "start_time": "2024-05-06T06:40:45.295507Z"
    }
   },
   "cell_type": "code",
   "source": [
    "stat, p_value = shapiro(SENSE_PA['Barthel resultats'])\n",
    "print(f\"Estadístic W = {stat:.4f}\")\n",
    "print(f\"Valor p = {p_value:.4f}\")\n",
    "\n",
    "alpha = 0.05\n",
    "if p_value < alpha:\n",
    "    print(\"El nombre de files no segueix una distribució normal.\")\n",
    "else:\n",
    "    print(\"El nombre de files segueix una distribució normal.\")"
   ],
   "id": "e0ef6492ee374145",
   "outputs": [
    {
     "name": "stdout",
     "output_type": "stream",
     "text": [
      "Estadístic W = 0.9475\n",
      "Valor p = 0.6859\n",
      "El nombre de files segueix una distribució normal.\n"
     ]
    }
   ],
   "execution_count": 69
  },
  {
   "metadata": {
    "ExecuteTime": {
     "end_time": "2024-05-06T06:40:45.949819Z",
     "start_time": "2024-05-06T06:40:45.940892Z"
    }
   },
   "cell_type": "code",
   "source": [
    "stat, p_value = shapiro(TOTAL['Barthel resultats'])\n",
    "print(f\"Estadístic W = {stat:.4f}\")\n",
    "print(f\"Valor p = {p_value:.4f}\")\n",
    "\n",
    "alpha = 0.05\n",
    "if p_value < alpha:\n",
    "    print(\"El nombre de files no segueix una distribució normal.\")\n",
    "else:\n",
    "    print(\"El nombre de files segueix una distribució normal.\")"
   ],
   "id": "991c344fcf5440de",
   "outputs": [
    {
     "name": "stdout",
     "output_type": "stream",
     "text": [
      "Estadístic W = 0.8866\n",
      "Valor p = 0.0002\n",
      "El nombre de files no segueix una distribució normal.\n"
     ]
    }
   ],
   "execution_count": 70
  },
  {
   "metadata": {
    "ExecuteTime": {
     "end_time": "2024-05-06T06:40:46.978673Z",
     "start_time": "2024-05-06T06:40:46.967978Z"
    }
   },
   "cell_type": "code",
   "source": [
    "stat_12, p_value_12 = mannwhitneyu(AMB_PA['Barthel resultats'], AMB_PA_MECVV['Barthel resultats'], alternative='two-sided')\n",
    "print(\"P-valor entre AMB_PA i AMB_PA_MECVV:\", p_value_12)"
   ],
   "id": "cd7ea4badfff9b7a",
   "outputs": [
    {
     "name": "stdout",
     "output_type": "stream",
     "text": [
      "P-valor entre AMB_PA i AMB_PA_MECVV: 0.47528505928431597\n"
     ]
    }
   ],
   "execution_count": 71
  },
  {
   "metadata": {
    "ExecuteTime": {
     "end_time": "2024-05-06T06:40:47.644029Z",
     "start_time": "2024-05-06T06:40:47.634666Z"
    }
   },
   "cell_type": "code",
   "source": [
    "stat_13, p_value_13 = mannwhitneyu(AMB_PA['Barthel resultats'], SENSE_PA['Barthel resultats'], alternative='two-sided')\n",
    "print(\"P-valor entre AMB_PA i SENSE_PA:\", p_value_13)"
   ],
   "id": "6942ed62019c90c6",
   "outputs": [
    {
     "name": "stdout",
     "output_type": "stream",
     "text": [
      "P-valor entre AMB_PA i SENSE_PA: 0.00906817282777616\n"
     ]
    }
   ],
   "execution_count": 72
  },
  {
   "metadata": {
    "ExecuteTime": {
     "end_time": "2024-05-06T06:40:48.516106Z",
     "start_time": "2024-05-06T06:40:48.506090Z"
    }
   },
   "cell_type": "code",
   "source": [
    "stat_23, p_value_23 = mannwhitneyu(AMB_PA_MECVV['Barthel resultats'], SENSE_PA['Barthel resultats'], alternative='two-sided')\n",
    "print(\"P-valor entre AMB_PA_MECVV i SENSE_PA:\", p_value_13)"
   ],
   "id": "2c199b4f90f82e91",
   "outputs": [
    {
     "name": "stdout",
     "output_type": "stream",
     "text": [
      "P-valor entre AMB_PA_MECVV i SENSE_PA: 0.00906817282777616\n"
     ]
    }
   ],
   "execution_count": 73
  },
  {
   "metadata": {
    "ExecuteTime": {
     "end_time": "2024-05-06T06:40:49.169969Z",
     "start_time": "2024-05-06T06:40:49.162394Z"
    }
   },
   "cell_type": "code",
   "source": [
    "stat_14, p_value_14 = mannwhitneyu(AMB_PA['Barthel resultats'], TOTAL['Barthel resultats'], alternative='two-sided')\n",
    "print(\"P-valor entre AMB_PA i TOTAL:\", p_value_13)"
   ],
   "id": "b63526b313d7bd0e",
   "outputs": [
    {
     "name": "stdout",
     "output_type": "stream",
     "text": [
      "P-valor entre AMB_PA i TOTAL: 0.00906817282777616\n"
     ]
    }
   ],
   "execution_count": 74
  },
  {
   "metadata": {
    "ExecuteTime": {
     "end_time": "2024-05-06T06:40:50.118780Z",
     "start_time": "2024-05-06T06:40:50.110028Z"
    }
   },
   "cell_type": "code",
   "source": [
    "stat_24, p_value_24 = mannwhitneyu(AMB_PA_MECVV['Barthel resultats'], TOTAL['Barthel resultats'], alternative='two-sided')\n",
    "print(\"P-valor entre AMB_PA_MECVV i TOTAL:\", p_value_24)"
   ],
   "id": "71b5069044b33d84",
   "outputs": [
    {
     "name": "stdout",
     "output_type": "stream",
     "text": [
      "P-valor entre AMB_PA_MECVV i TOTAL: 0.015133604112910346\n"
     ]
    }
   ],
   "execution_count": 75
  },
  {
   "metadata": {
    "ExecuteTime": {
     "end_time": "2024-05-06T06:40:50.677040Z",
     "start_time": "2024-05-06T06:40:50.669733Z"
    }
   },
   "cell_type": "code",
   "source": [
    "stat_34, p_value_34 = mannwhitneyu(SENSE_PA['Barthel resultats'], TOTAL['Barthel resultats'], alternative='two-sided')\n",
    "print(\"P-valor entre SENSE_PA i TOTAL:\", p_value_34)"
   ],
   "id": "2bf01ccd6abef766",
   "outputs": [
    {
     "name": "stdout",
     "output_type": "stream",
     "text": [
      "P-valor entre SENSE_PA i TOTAL: 0.6668885476033475\n"
     ]
    }
   ],
   "execution_count": 76
  },
  {
   "metadata": {},
   "cell_type": "markdown",
   "source": "### Valors de dependència",
   "id": "26c7b917da1f3f22"
  },
  {
   "metadata": {},
   "cell_type": "markdown",
   "source": "##### AMB_PA",
   "id": "c5f7ee6744b89d84"
  },
  {
   "metadata": {
    "ExecuteTime": {
     "end_time": "2024-05-06T06:40:51.615168Z",
     "start_time": "2024-05-06T06:40:51.607721Z"
    }
   },
   "cell_type": "code",
   "source": [
    "indepe_AMB_PA = (AMB_PA['Barthel resultats'] == 100.0).mean() * 100\n",
    "print(f\"Percentatge de indepe_AMB_PA: {indepe_AMB_PA:.2f}%\")"
   ],
   "id": "bd4eaba9b577b15b",
   "outputs": [
    {
     "name": "stdout",
     "output_type": "stream",
     "text": [
      "Percentatge de indepe_AMB_PA: 0.00%\n"
     ]
    }
   ],
   "execution_count": 77
  },
  {
   "metadata": {
    "ExecuteTime": {
     "end_time": "2024-05-06T06:40:52.341997Z",
     "start_time": "2024-05-06T06:40:52.320333Z"
    }
   },
   "cell_type": "code",
   "source": [
    "mod_AMB_PA = (AMB_PA['Barthel resultats'].between(61, 95)).mean() * 100\n",
    "print(f\"Percentatge de mod_AMB_PA: {mod_AMB_PA:.2f}%\")"
   ],
   "id": "4fb1d19906f59b5a",
   "outputs": [
    {
     "name": "stdout",
     "output_type": "stream",
     "text": [
      "Percentatge de mod_AMB_PA: 5.88%\n"
     ]
    }
   ],
   "execution_count": 78
  },
  {
   "metadata": {
    "ExecuteTime": {
     "end_time": "2024-05-06T06:40:53.409286Z",
     "start_time": "2024-05-06T06:40:53.400694Z"
    }
   },
   "cell_type": "code",
   "source": [
    "sev_AMB_PA = (AMB_PA['Barthel resultats'].between(21, 60)).mean() * 100\n",
    "print(f\"Percentatge de sev_AMB_PA: {sev_AMB_PA:.2f}%\")"
   ],
   "id": "d9304c0cc424b57",
   "outputs": [
    {
     "name": "stdout",
     "output_type": "stream",
     "text": [
      "Percentatge de sev_AMB_PA: 41.18%\n"
     ]
    }
   ],
   "execution_count": 79
  },
  {
   "metadata": {
    "ExecuteTime": {
     "end_time": "2024-05-06T06:40:54.056255Z",
     "start_time": "2024-05-06T06:40:54.044037Z"
    }
   },
   "cell_type": "code",
   "source": [
    "total_AMB_PA = (AMB_PA['Barthel resultats'] <= 20.0 ).mean() * 100\n",
    "print(f\"Percentatge de total_AMB_PA: {total_AMB_PA:.2f}%\")"
   ],
   "id": "6910486fc7c29e8c",
   "outputs": [
    {
     "name": "stdout",
     "output_type": "stream",
     "text": [
      "Percentatge de total_AMB_PA: 52.94%\n"
     ]
    }
   ],
   "execution_count": 80
  },
  {
   "metadata": {},
   "cell_type": "markdown",
   "source": "##### AMB_PA_MECVV",
   "id": "c71049641e1172f4"
  },
  {
   "metadata": {
    "ExecuteTime": {
     "end_time": "2024-05-06T06:40:54.922985Z",
     "start_time": "2024-05-06T06:40:54.911055Z"
    }
   },
   "cell_type": "code",
   "source": [
    "indepe_AMB_PA_MECVV = (AMB_PA_MECVV['Barthel resultats'] == 100.0).mean() * 100\n",
    "print(f\"Percentatge de indepe_AMB_PA_MECVV: {indepe_AMB_PA_MECVV:.2f}%\")"
   ],
   "id": "6674786f0109e84b",
   "outputs": [
    {
     "name": "stdout",
     "output_type": "stream",
     "text": [
      "Percentatge de indepe_AMB_PA_MECVV: 0.00%\n"
     ]
    }
   ],
   "execution_count": 81
  },
  {
   "metadata": {
    "ExecuteTime": {
     "end_time": "2024-05-06T06:40:55.562848Z",
     "start_time": "2024-05-06T06:40:55.552427Z"
    }
   },
   "cell_type": "code",
   "source": [
    "mod_AMB_PA_MECVV = (AMB_PA_MECVV['Barthel resultats'].between(61,95)).mean() * 100\n",
    "print(f\"Percentatge de mod_AMB_PA_MECVV: {mod_AMB_PA_MECVV:.2f}%\")"
   ],
   "id": "cc081239fd51856",
   "outputs": [
    {
     "name": "stdout",
     "output_type": "stream",
     "text": [
      "Percentatge de mod_AMB_PA_MECVV: 0.00%\n"
     ]
    }
   ],
   "execution_count": 82
  },
  {
   "metadata": {
    "ExecuteTime": {
     "end_time": "2024-05-06T06:40:56.504893Z",
     "start_time": "2024-05-06T06:40:56.492031Z"
    }
   },
   "cell_type": "code",
   "source": [
    "sev_AMB_PA_MECVV = (AMB_PA_MECVV['Barthel resultats'].between(21,60)).mean() * 100\n",
    "print(f\"Percentatge de sev_AMB_PA_MECVV: {sev_AMB_PA_MECVV:.2f}%\")"
   ],
   "id": "a9e4a48bad4a68ee",
   "outputs": [
    {
     "name": "stdout",
     "output_type": "stream",
     "text": [
      "Percentatge de sev_AMB_PA_MECVV: 25.00%\n"
     ]
    }
   ],
   "execution_count": 83
  },
  {
   "metadata": {
    "ExecuteTime": {
     "end_time": "2024-05-06T06:40:57.163894Z",
     "start_time": "2024-05-06T06:40:57.157194Z"
    }
   },
   "cell_type": "code",
   "source": [
    "total_AMB_PA_MECVV = (AMB_PA_MECVV['Barthel resultats'] <= 20.0).mean() * 100\n",
    "print(f\"Percentatge de total_AMB_PA_MECVV: {total_AMB_PA_MECVV:.2f}%\")"
   ],
   "id": "9125c459a4b83c25",
   "outputs": [
    {
     "name": "stdout",
     "output_type": "stream",
     "text": [
      "Percentatge de total_AMB_PA_MECVV: 75.00%\n"
     ]
    }
   ],
   "execution_count": 84
  },
  {
   "metadata": {},
   "cell_type": "markdown",
   "source": "##### SENSE_PA",
   "id": "3c5b6af1cef898a8"
  },
  {
   "metadata": {
    "ExecuteTime": {
     "end_time": "2024-05-06T06:40:58.081270Z",
     "start_time": "2024-05-06T06:40:58.068408Z"
    }
   },
   "cell_type": "code",
   "source": [
    "indepe_SENSE_PA = (SENSE_PA['Barthel resultats'] == 100.0).mean() * 100\n",
    "print(f\"Percentatge de indepe_SENSE_PA: {indepe_SENSE_PA:.2f}%\")"
   ],
   "id": "d6514f8eb77e3656",
   "outputs": [
    {
     "name": "stdout",
     "output_type": "stream",
     "text": [
      "Percentatge de indepe_SENSE_PA: 0.00%\n"
     ]
    }
   ],
   "execution_count": 85
  },
  {
   "metadata": {
    "ExecuteTime": {
     "end_time": "2024-05-06T06:40:58.639658Z",
     "start_time": "2024-05-06T06:40:58.631270Z"
    }
   },
   "cell_type": "code",
   "source": [
    "mod_SENSE_PA = (SENSE_PA['Barthel resultats'].between(61,95)).mean() * 100\n",
    "print(f\"Percentatge de mod_SENSE_PA: {mod_SENSE_PA:.2f}%\")"
   ],
   "id": "6c3c3065602238a3",
   "outputs": [
    {
     "name": "stdout",
     "output_type": "stream",
     "text": [
      "Percentatge de mod_SENSE_PA: 37.50%\n"
     ]
    }
   ],
   "execution_count": 86
  },
  {
   "metadata": {
    "ExecuteTime": {
     "end_time": "2024-05-06T06:40:59.635201Z",
     "start_time": "2024-05-06T06:40:59.623101Z"
    }
   },
   "cell_type": "code",
   "source": [
    "sev_SENSE_PA = (SENSE_PA['Barthel resultats'].between(21,60)).mean() * 100\n",
    "print(f\"Percentatge de sev_SENSE_PA: {sev_SENSE_PA:.2f}%\")"
   ],
   "id": "9607e237feb8ad65",
   "outputs": [
    {
     "name": "stdout",
     "output_type": "stream",
     "text": [
      "Percentatge de sev_SENSE_PA: 62.50%\n"
     ]
    }
   ],
   "execution_count": 87
  },
  {
   "metadata": {
    "ExecuteTime": {
     "end_time": "2024-05-06T06:41:00.320792Z",
     "start_time": "2024-05-06T06:41:00.310830Z"
    }
   },
   "cell_type": "code",
   "source": [
    "total_SENSE_PA = (SENSE_PA['Barthel resultats'] <= 20).mean() * 100\n",
    "print(f\"Percentatge de total_SENSE_PA: {total_SENSE_PA:.2f}%\")"
   ],
   "id": "be742afa35213a6f",
   "outputs": [
    {
     "name": "stdout",
     "output_type": "stream",
     "text": [
      "Percentatge de total_SENSE_PA: 0.00%\n"
     ]
    }
   ],
   "execution_count": 88
  },
  {
   "metadata": {},
   "cell_type": "markdown",
   "source": "#### Pvalor",
   "id": "5d7114bf6d7143b9"
  },
  {
   "metadata": {
    "ExecuteTime": {
     "end_time": "2024-05-06T06:41:01.135835Z",
     "start_time": "2024-05-06T06:41:01.127081Z"
    }
   },
   "cell_type": "code",
   "source": "##### Independència #TODO: subcategorias con chi cuadrado",
   "id": "b345df4cf3f4225c",
   "outputs": [],
   "execution_count": 89
  },
  {
   "metadata": {
    "ExecuteTime": {
     "end_time": "2024-05-06T06:41:01.773740Z",
     "start_time": "2024-05-06T06:41:01.758999Z"
    }
   },
   "cell_type": "code",
   "source": [
    "stat_12, p_value_12 = mannwhitneyu(AMB_PA['Barthel resultats'] == 100.0, AMB_PA_MECVV['Barthel resultats'] == 100.0, alternative='two-sided')\n",
    "print(\"P-valor entre indepe_AMB_PA i indepe_AMB_PA_MECVV:\", p_value_12)"
   ],
   "id": "1fc9a4202863cab2",
   "outputs": [
    {
     "name": "stdout",
     "output_type": "stream",
     "text": [
      "P-valor entre indepe_AMB_PA i indepe_AMB_PA_MECVV: 1.0\n"
     ]
    }
   ],
   "execution_count": 90
  },
  {
   "metadata": {
    "ExecuteTime": {
     "end_time": "2024-05-06T06:41:02.701679Z",
     "start_time": "2024-05-06T06:41:02.690447Z"
    }
   },
   "cell_type": "code",
   "source": [
    "stat_13, p_value_13 = mannwhitneyu(AMB_PA['Barthel resultats'] == 100.0, SENSE_PA['Barthel resultats'] == 100.0, alternative='two-sided')\n",
    "print(\"P-valor entre indepe_AMB_PA i indepe_SENSE_PA:\", p_value_13)"
   ],
   "id": "53f70691fc93885b",
   "outputs": [
    {
     "name": "stdout",
     "output_type": "stream",
     "text": [
      "P-valor entre indepe_AMB_PA i indepe_SENSE_PA: 1.0\n"
     ]
    }
   ],
   "execution_count": 91
  },
  {
   "metadata": {
    "ExecuteTime": {
     "end_time": "2024-05-06T06:41:03.251878Z",
     "start_time": "2024-05-06T06:41:03.239181Z"
    }
   },
   "cell_type": "code",
   "source": [
    "stat_23, p_val_23 = ttest_ind(AMB_PA_MECVV['Barthel resultats'] == 100.0, SENSE_PA['Barthel resultats'] == 100.0, equal_var=False)\n",
    "print(\"P-valor entre indepe_AMB_PA_MECVV i SENSE_PA:\", p_value_23)"
   ],
   "id": "b11519140ece0c96",
   "outputs": [
    {
     "name": "stdout",
     "output_type": "stream",
     "text": [
      "P-valor entre indepe_AMB_PA_MECVV i SENSE_PA: 0.006056441109782507\n"
     ]
    }
   ],
   "execution_count": 92
  },
  {
   "metadata": {
    "ExecuteTime": {
     "end_time": "2024-05-06T06:41:04.108894Z",
     "start_time": "2024-05-06T06:41:04.098872Z"
    }
   },
   "cell_type": "code",
   "source": [
    "stat_14, p_value_14 = mannwhitneyu(AMB_PA['Barthel resultats'] == 100.0, TOTAL['Barthel resultats'] == 100.0, alternative='two-sided')\n",
    "print(\"P-valor entre indepe_AMB_PA i indepe_TOTAL:\", p_value_14)"
   ],
   "id": "80e5cb71c06ad1e6",
   "outputs": [
    {
     "name": "stdout",
     "output_type": "stream",
     "text": [
      "P-valor entre indepe_AMB_PA i indepe_TOTAL: 0.04855526544534558\n"
     ]
    }
   ],
   "execution_count": 93
  },
  {
   "metadata": {
    "ExecuteTime": {
     "end_time": "2024-05-06T06:41:04.757477Z",
     "start_time": "2024-05-06T06:41:04.748510Z"
    }
   },
   "cell_type": "code",
   "source": [
    "stat_24, p_value_24 = mannwhitneyu(AMB_PA_MECVV['Barthel resultats'] == 100.0, TOTAL['Barthel resultats'] == 100.0, alternative='two-sided')\n",
    "print(\"P-valor entre indepe_AMB_PA_MECVV i indepe_TOTAL:\", p_value_24)"
   ],
   "id": "6e49751c68fffad2",
   "outputs": [
    {
     "name": "stdout",
     "output_type": "stream",
     "text": [
      "P-valor entre indepe_AMB_PA_MECVV i indepe_TOTAL: 0.17345845133549298\n"
     ]
    }
   ],
   "execution_count": 94
  },
  {
   "metadata": {
    "ExecuteTime": {
     "end_time": "2024-05-06T06:41:05.661913Z",
     "start_time": "2024-05-06T06:41:05.653330Z"
    }
   },
   "cell_type": "code",
   "source": [
    "stat_34, p_value_34 = mannwhitneyu(SENSE_PA['Barthel resultats'] == 100.0, TOTAL['Barthel resultats'] == 100.0, alternative='two-sided')\n",
    "print(\"P-valor entre indepe_SENSSE_PA i indepe_TOTAL:\", p_value_34)"
   ],
   "id": "c4d4df3b44178f1f",
   "outputs": [
    {
     "name": "stdout",
     "output_type": "stream",
     "text": [
      "P-valor entre indepe_SENSSE_PA i indepe_TOTAL: 0.17345845133549298\n"
     ]
    }
   ],
   "execution_count": 95
  },
  {
   "metadata": {},
   "cell_type": "markdown",
   "source": "##### Moderada",
   "id": "d04d18982271906"
  },
  {
   "metadata": {
    "ExecuteTime": {
     "end_time": "2024-05-06T06:41:06.344712Z",
     "start_time": "2024-05-06T06:41:06.335906Z"
    }
   },
   "cell_type": "code",
   "source": [
    "stat_12, p_value_12 = mannwhitneyu(AMB_PA['Barthel resultats'].between(61, 95), AMB_PA_MECVV['Barthel resultats'].between(61, 95), alternative='two-sided')\n",
    "print(\"P-valor entre mod_AMB_PA i mod_AMB_PA_MECVV:\", p_value_12)"
   ],
   "id": "dec64efac0865e29",
   "outputs": [
    {
     "name": "stdout",
     "output_type": "stream",
     "text": [
      "P-valor entre mod_AMB_PA i mod_AMB_PA_MECVV: 0.5483429354628137\n"
     ]
    }
   ],
   "execution_count": 96
  },
  {
   "metadata": {
    "ExecuteTime": {
     "end_time": "2024-05-06T06:41:07.325506Z",
     "start_time": "2024-05-06T06:41:07.312343Z"
    }
   },
   "cell_type": "code",
   "source": [
    "stat_13, p_value_13 = mannwhitneyu(AMB_PA['Barthel resultats'].between(61, 95), SENSE_PA['Barthel resultats'].between(61, 95), alternative='two-sided')\n",
    "print(\"P-valor entre indepe_AMB_PA i mod_SENSE_PA:\", p_value_13)"
   ],
   "id": "27afcdbb5f858182",
   "outputs": [
    {
     "name": "stdout",
     "output_type": "stream",
     "text": [
      "P-valor entre indepe_AMB_PA i mod_SENSE_PA: 0.05422099630917637\n"
     ]
    }
   ],
   "execution_count": 97
  },
  {
   "metadata": {
    "ExecuteTime": {
     "end_time": "2024-05-06T06:41:07.980492Z",
     "start_time": "2024-05-06T06:41:07.970902Z"
    }
   },
   "cell_type": "code",
   "source": [
    "stat_23, p_value_23 = mannwhitneyu(AMB_PA_MECVV['Barthel resultats'].between(61, 95), SENSE_PA['Barthel resultats'].between(61, 95), alternative='two-sided')  \n",
    "print(\"P-valor entre mod_AMB_PA_MECVV i mod_SENSE_PA :\", p_value_23)"
   ],
   "id": "8fc3e8dab51af8d1",
   "outputs": [
    {
     "name": "stdout",
     "output_type": "stream",
     "text": [
      "P-valor entre mod_AMB_PA_MECVV i mod_SENSE_PA : 0.07458641569139825\n"
     ]
    }
   ],
   "execution_count": 98
  },
  {
   "metadata": {
    "ExecuteTime": {
     "end_time": "2024-05-06T06:41:08.845155Z",
     "start_time": "2024-05-06T06:41:08.837553Z"
    }
   },
   "cell_type": "code",
   "source": [
    "stat_14, p_value_14 = mannwhitneyu(AMB_PA['Barthel resultats'].between(61, 95), TOTAL['Barthel resultats'].between(61, 95), alternative='two-sided')\n",
    "print(\"P-valor entre mod_AMB_PA i mod_TOTAL:\", p_value_14)"
   ],
   "id": "175f381a4044775c",
   "outputs": [
    {
     "name": "stdout",
     "output_type": "stream",
     "text": [
      "P-valor entre mod_AMB_PA i mod_TOTAL: 0.23385439959965149\n"
     ]
    }
   ],
   "execution_count": 99
  },
  {
   "metadata": {
    "ExecuteTime": {
     "end_time": "2024-05-06T06:41:09.508500Z",
     "start_time": "2024-05-06T06:41:09.495757Z"
    }
   },
   "cell_type": "code",
   "source": [
    "stat_24, p_value_24 = mannwhitneyu(AMB_PA_MECVV['Barthel resultats'].between(61, 95), TOTAL['Barthel resultats'].between(61, 95), alternative='two-sided')\n",
    "print(\"P-valor entre mod_AMB_PA_MECVV i mod_TOTAL:\", p_value_24)"
   ],
   "id": "4812e6929dba32dd",
   "outputs": [
    {
     "name": "stdout",
     "output_type": "stream",
     "text": [
      "P-valor entre mod_AMB_PA_MECVV i mod_TOTAL: 0.20185601492817817\n"
     ]
    }
   ],
   "execution_count": 100
  },
  {
   "metadata": {
    "ExecuteTime": {
     "end_time": "2024-05-06T06:41:10.380231Z",
     "start_time": "2024-05-06T06:41:10.369618Z"
    }
   },
   "cell_type": "code",
   "source": [
    "stat_34, p_value_34 = mannwhitneyu(SENSE_PA['Barthel resultats'].between(61, 95), TOTAL['Barthel resultats'].between(61, 95), alternative='two-sided')\n",
    "print(\"P-valor entre mod_SENSE_PA i mod_TOTAL:\", p_value_34)"
   ],
   "id": "99ee8e89544072b8",
   "outputs": [
    {
     "name": "stdout",
     "output_type": "stream",
     "text": [
      "P-valor entre mod_SENSE_PA i mod_TOTAL: 0.21602478204322784\n"
     ]
    }
   ],
   "execution_count": 101
  },
  {
   "metadata": {},
   "cell_type": "markdown",
   "source": "##### Severa",
   "id": "76bed183a4aeac10"
  },
  {
   "metadata": {
    "ExecuteTime": {
     "end_time": "2024-05-06T06:41:11.086535Z",
     "start_time": "2024-05-06T06:41:11.079763Z"
    }
   },
   "cell_type": "code",
   "source": [
    "stat_12, p_value_12 = mannwhitneyu(AMB_PA['Barthel resultats'].between(21,60), AMB_PA_MECVV['Barthel resultats'].between(21,60), alternative='two-sided')\n",
    "print(\"P-valor entre sev_AMB_PA i sev_AMB_PA_MECVV:\", p_value_12)"
   ],
   "id": "f62da8e97a2baaab",
   "outputs": [
    {
     "name": "stdout",
     "output_type": "stream",
     "text": [
      "P-valor entre sev_AMB_PA i sev_AMB_PA_MECVV: 0.4622499461255427\n"
     ]
    }
   ],
   "execution_count": 102
  },
  {
   "metadata": {
    "ExecuteTime": {
     "end_time": "2024-05-06T06:41:11.983092Z",
     "start_time": "2024-05-06T06:41:11.970140Z"
    }
   },
   "cell_type": "code",
   "source": [
    "stat_13, p_value_13 = mannwhitneyu(AMB_PA['Barthel resultats'].between(21,60), SENSE_PA['Barthel resultats'].between(21,60), alternative='two-sided')\n",
    "print(\"P-valor entre sev_AMB_PA i sev_SENSE_PA:\", p_value_13)"
   ],
   "id": "31cb55f53135e10a",
   "outputs": [
    {
     "name": "stdout",
     "output_type": "stream",
     "text": [
      "P-valor entre sev_AMB_PA i sev_SENSE_PA: 0.3463247915940385\n"
     ]
    }
   ],
   "execution_count": 103
  },
  {
   "metadata": {
    "ExecuteTime": {
     "end_time": "2024-05-06T06:41:12.623708Z",
     "start_time": "2024-05-06T06:41:12.614765Z"
    }
   },
   "cell_type": "code",
   "source": [
    "t_stat_23, p_value_23 = mannwhitneyu(AMB_PA_MECVV['Barthel resultats'].between(21,60), SENSE_PA['Barthel resultats'].between(21,60), alternative='two-sided' )\n",
    "print(\"P-valor entre sev_AMB_PA_MECVV i sev_SENSE_PA:\", p_value_23)"
   ],
   "id": "92003e3822752b2c",
   "outputs": [
    {
     "name": "stdout",
     "output_type": "stream",
     "text": [
      "P-valor entre sev_AMB_PA_MECVV i sev_SENSE_PA: 0.16065967802771053\n"
     ]
    }
   ],
   "execution_count": 104
  },
  {
   "metadata": {
    "ExecuteTime": {
     "end_time": "2024-05-06T06:41:13.480462Z",
     "start_time": "2024-05-06T06:41:13.465563Z"
    }
   },
   "cell_type": "code",
   "source": [
    "stat_14, p_value_14 = mannwhitneyu(AMB_PA['Barthel resultats'].between(21,60), TOTAL['Barthel resultats'].between(21,60), alternative='two-sided')\n",
    "print(\"P-valor entre sev_AMB_PA i sev_TOTAL:\", p_value_14)"
   ],
   "id": "f7a6937a4fd83fbc",
   "outputs": [
    {
     "name": "stdout",
     "output_type": "stream",
     "text": [
      "P-valor entre sev_AMB_PA i sev_TOTAL: 0.31965398550389235\n"
     ]
    }
   ],
   "execution_count": 105
  },
  {
   "metadata": {
    "ExecuteTime": {
     "end_time": "2024-05-06T06:41:14.096383Z",
     "start_time": "2024-05-06T06:41:14.081031Z"
    }
   },
   "cell_type": "code",
   "source": [
    "stat_24, p_value_24 = mannwhitneyu(AMB_PA_MECVV['Barthel resultats'].between(21,60), TOTAL['Barthel resultats'].between(21,60), alternative='two-sided')\n",
    "print(\"P-valor entre sev_AMB_PA_MECVV i sev_TOTAL:\", p_value_24)"
   ],
   "id": "e556f53ce2dc68c9",
   "outputs": [
    {
     "name": "stdout",
     "output_type": "stream",
     "text": [
      "P-valor entre sev_AMB_PA_MECVV i sev_TOTAL: 0.8727371942854353\n"
     ]
    }
   ],
   "execution_count": 106
  },
  {
   "metadata": {
    "ExecuteTime": {
     "end_time": "2024-05-06T06:41:14.942619Z",
     "start_time": "2024-05-06T06:41:14.931595Z"
    }
   },
   "cell_type": "code",
   "source": [
    "stat_34, p_value_34 = mannwhitneyu(SENSE_PA['Barthel resultats'].between(21,60), TOTAL['Barthel resultats'].between(21,60), alternative='two-sided')\n",
    "print(\"P-valor entre sev_SENSE_PA i sev_TOTAL:\", p_value_34)"
   ],
   "id": "468b4f689bd8d269",
   "outputs": [
    {
     "name": "stdout",
     "output_type": "stream",
     "text": [
      "P-valor entre sev_SENSE_PA i sev_TOTAL: 0.05745304713254242\n"
     ]
    }
   ],
   "execution_count": 107
  },
  {
   "metadata": {},
   "cell_type": "markdown",
   "source": "##### Total",
   "id": "6f92bc9950981fa5"
  },
  {
   "metadata": {
    "ExecuteTime": {
     "end_time": "2024-05-06T06:41:15.568477Z",
     "start_time": "2024-05-06T06:41:15.555604Z"
    }
   },
   "cell_type": "code",
   "source": [
    "stat_12, p_value_12 = mannwhitneyu(AMB_PA['Barthel resultats'] <= 20.0, AMB_PA_MECVV['Barthel resultats'] <= 20.0, alternative='two-sided')\n",
    "print(\"P-valor entre total_AMB_PA i total_AMB_PA_MECVV:\", p_value_12)"
   ],
   "id": "649bd60d8064b442",
   "outputs": [
    {
     "name": "stdout",
     "output_type": "stream",
     "text": [
      "P-valor entre total_AMB_PA i total_AMB_PA_MECVV: 0.31988618684011016\n"
     ]
    }
   ],
   "execution_count": 108
  },
  {
   "metadata": {
    "ExecuteTime": {
     "end_time": "2024-05-06T06:41:16.520654Z",
     "start_time": "2024-05-06T06:41:16.512807Z"
    }
   },
   "cell_type": "code",
   "source": [
    "stat_13, p_value_13 = mannwhitneyu(AMB_PA['Barthel resultats'] <= 20.0, SENSE_PA['Barthel resultats'] <= 20.0, alternative='two-sided')\n",
    "print(\"P-valor entre total_AMB_PA i total_SENSE_PA:\", p_value_13)"
   ],
   "id": "c7aefab4134a6d36",
   "outputs": [
    {
     "name": "stdout",
     "output_type": "stream",
     "text": [
      "P-valor entre total_AMB_PA i total_SENSE_PA: 0.01293706233933995\n"
     ]
    }
   ],
   "execution_count": 109
  },
  {
   "metadata": {
    "ExecuteTime": {
     "end_time": "2024-05-06T06:41:17.138286Z",
     "start_time": "2024-05-06T06:41:17.127381Z"
    }
   },
   "cell_type": "code",
   "source": [
    "stat_23, p_value_23 = mannwhitneyu(AMB_PA_MECVV['Barthel resultats'] <= 20.0, SENSE_PA['Barthel resultats'] <= 20.0, alternative='two-sided')\n",
    "print(\"P-valor entre total_AMB_PA_MECVV i total_SENSE_PA:\", p_value_23)"
   ],
   "id": "8f86e986c69cad05",
   "outputs": [
    {
     "name": "stdout",
     "output_type": "stream",
     "text": [
      "P-valor entre total_AMB_PA_MECVV i total_SENSE_PA: 0.0033087017190950086\n"
     ]
    }
   ],
   "execution_count": 110
  },
  {
   "metadata": {
    "ExecuteTime": {
     "end_time": "2024-05-06T06:41:18.082368Z",
     "start_time": "2024-05-06T06:41:18.048171Z"
    }
   },
   "cell_type": "code",
   "source": [
    "stat_14, p_value_14 = mannwhitneyu(AMB_PA['Barthel resultats'] <= 20.0, TOTAL['Barthel resultats'] <= 20.0, alternative='two-sided')\n",
    "print(\"P-valor entre total_AMB_PA i total_TOTAL:\", p_value_14)"
   ],
   "id": "a79450fccba3bf84",
   "outputs": [
    {
     "name": "stdout",
     "output_type": "stream",
     "text": [
      "P-valor entre total_AMB_PA i total_TOTAL: 0.17208392420429652\n"
     ]
    }
   ],
   "execution_count": 111
  },
  {
   "metadata": {
    "ExecuteTime": {
     "end_time": "2024-05-06T06:41:18.917222Z",
     "start_time": "2024-05-06T06:41:18.908672Z"
    }
   },
   "cell_type": "code",
   "source": [
    "stat_24, p_value_24 = mannwhitneyu(AMB_PA_MECVV['Barthel resultats'] <= 20.0, TOTAL['Barthel resultats'] <= 20.0, alternative='two-sided')\n",
    "print(\"P-valor entre total_AMB_PA_MECVV i total_TOTAL:\", p_value_24)"
   ],
   "id": "532f9584bca285c",
   "outputs": [
    {
     "name": "stdout",
     "output_type": "stream",
     "text": [
      "P-valor entre total_AMB_PA_MECVV i total_TOTAL: 0.030106371453454194\n"
     ]
    }
   ],
   "execution_count": 112
  },
  {
   "metadata": {
    "ExecuteTime": {
     "end_time": "2024-05-06T06:41:19.579355Z",
     "start_time": "2024-05-06T06:41:19.570258Z"
    }
   },
   "cell_type": "code",
   "source": [
    "stat_34, p_value_34 = mannwhitneyu(SENSE_PA['Barthel resultats'] <= 20.0, TOTAL['Barthel resultats'] <= 20.0, alternative='two-sided')\n",
    "print(\"P-valor entre total_SENSE_PA i total_TOTAL:\", p_value_34)"
   ],
   "id": "93d14dbae88ac36e",
   "outputs": [
    {
     "name": "stdout",
     "output_type": "stream",
     "text": [
      "P-valor entre total_SENSE_PA i total_TOTAL: 0.0535696765403014\n"
     ]
    }
   ],
   "execution_count": 113
  },
  {
   "metadata": {},
   "cell_type": "markdown",
   "source": "## Index del MNA",
   "id": "8aec29cdaca5153d"
  },
  {
   "metadata": {},
   "cell_type": "markdown",
   "source": "Primer convertiré la columna a tipus numèric ja que els valors que conté són de tipus objecte i amb aquest tipus no puc calcular la mitjana ni la desviació estàndard.",
   "id": "1c06e026a7dc222a"
  },
  {
   "metadata": {
    "ExecuteTime": {
     "end_time": "2024-05-06T06:41:20.479006Z",
     "start_time": "2024-05-06T06:41:20.467875Z"
    }
   },
   "cell_type": "code",
   "source": [
    "AMB_PA.loc[:, 'MNA resultats'] = pd.to_numeric(AMB_PA['MNA resultats'], errors='coerce')\n",
    "AMB_PA_MECVV.loc[:, 'MNA resultats'] = pd.to_numeric(AMB_PA_MECVV['MNA resultats'], errors='coerce')\n",
    "SENSE_PA.loc[:, 'MNA resultats'] = pd.to_numeric(SENSE_PA['MNA resultats'], errors='coerce')\n",
    "TOTAL.loc[:, 'MNA resultats'] = pd.to_numeric(TOTAL['MNA resultats'], errors='coerce')"
   ],
   "id": "1fd4ba82fd70b812",
   "outputs": [],
   "execution_count": 114
  },
  {
   "metadata": {},
   "cell_type": "markdown",
   "source": "### Mitjana",
   "id": "d3a2da203000f2a5"
  },
  {
   "metadata": {
    "ExecuteTime": {
     "end_time": "2024-05-06T06:41:21.169302Z",
     "start_time": "2024-05-06T06:41:21.123645Z"
    }
   },
   "cell_type": "code",
   "source": [
    "Mitjana_mna = AMB_PA['MNA resultats'].mean()\n",
    "desviacio_estandard_mna = AMB_PA['MNA resultats'].std()\n",
    "\n",
    "resultat = f\"{Mitjana_mna:.2f} ± {desviacio_estandard_mna:.2f}\"\n",
    "print(\"Mitjana ± Desviació Estándard del mna:\", resultat)"
   ],
   "id": "49f228e16ecc4f8f",
   "outputs": [
    {
     "name": "stdout",
     "output_type": "stream",
     "text": [
      "Mitjana ± Desviació Estándard del mna: 0.00 ± 0.00\n"
     ]
    }
   ],
   "execution_count": 115
  },
  {
   "metadata": {
    "ExecuteTime": {
     "end_time": "2024-05-06T06:41:22.219434Z",
     "start_time": "2024-05-06T06:41:22.212344Z"
    }
   },
   "cell_type": "code",
   "source": [
    "Mitjana_mna = AMB_PA_MECVV['MNA resultats'].mean()\n",
    "desviacio_estandard_mna = AMB_PA_MECVV['MNA resultats'].std()\n",
    "\n",
    "resultat = f\"{Mitjana_mna:.2f} ± {desviacio_estandard_mna:.2f}\"\n",
    "print(\"Mitjana ± Desviació Estándard del mna:\", resultat)"
   ],
   "id": "2b9bad54f7ac28fb",
   "outputs": [
    {
     "name": "stdout",
     "output_type": "stream",
     "text": [
      "Mitjana ± Desviació Estándard del mna: 0.00 ± 0.00\n"
     ]
    }
   ],
   "execution_count": 116
  },
  {
   "metadata": {
    "ExecuteTime": {
     "end_time": "2024-05-06T06:41:22.764870Z",
     "start_time": "2024-05-06T06:41:22.755122Z"
    }
   },
   "cell_type": "code",
   "source": [
    "Mitjana_mna = SENSE_PA['MNA resultats'].mean()\n",
    "desviacio_estandard_mna = SENSE_PA['MNA resultats'].std()\n",
    "\n",
    "resultat = f\"{Mitjana_mna:.2f} ± {desviacio_estandard_mna:.2f}\"\n",
    "print(\"Mitjana ± Desviació Estàndard del mna:\", resultat)"
   ],
   "id": "e1b756b5d3594d0d",
   "outputs": [
    {
     "name": "stdout",
     "output_type": "stream",
     "text": [
      "Mitjana ± Desviació Estàndard del mna: 0.00 ± 0.00\n"
     ]
    }
   ],
   "execution_count": 117
  },
  {
   "metadata": {
    "ExecuteTime": {
     "end_time": "2024-05-06T06:41:23.666228Z",
     "start_time": "2024-05-06T06:41:23.648165Z"
    }
   },
   "cell_type": "code",
   "source": [
    "Mitjana_mna = TOTAL['MNA resultats'].mean()\n",
    "desviacio_estandard_mna = TOTAL['MNA resultats'].std()\n",
    "\n",
    "resultat = f\"{Mitjana_mna:.2f} ± {desviacio_estandard_mna:.2f}\"\n",
    "print(\"Mitjana ± Desviació Estàndard del mna:\", resultat)"
   ],
   "id": "69c51b0b251eca8d",
   "outputs": [
    {
     "name": "stdout",
     "output_type": "stream",
     "text": [
      "Mitjana ± Desviació Estàndard del mna: 4.41 ± 7.20\n"
     ]
    }
   ],
   "execution_count": 118
  },
  {
   "metadata": {},
   "cell_type": "markdown",
   "source": "#### Pvalor",
   "id": "ed71dea199e67206"
  },
  {
   "metadata": {},
   "cell_type": "markdown",
   "source": "##### Normalitat",
   "id": "a2022f16581d1ec4"
  },
  {
   "metadata": {
    "ExecuteTime": {
     "end_time": "2024-05-06T06:41:24.342785Z",
     "start_time": "2024-05-06T06:41:24.333512Z"
    }
   },
   "cell_type": "code",
   "source": [
    "stat, p_value = shapiro(AMB_PA['MNA resultats'])\n",
    "print(f\"Estadístic W = {stat:.4f}\")\n",
    "print(f\"Valor p = {p_value:.4f}\")\n",
    "\n",
    "alpha = 0.05\n",
    "if p_value < alpha:\n",
    "    print(\"El nombre de files no segueix una distribució normal.\")\n",
    "else:\n",
    "    print(\"El nombre de files segueix una distribució normal.\")"
   ],
   "id": "818f02babf540e04",
   "outputs": [
    {
     "name": "stdout",
     "output_type": "stream",
     "text": [
      "Estadístic W = nan\n",
      "Valor p = nan\n",
      "El nombre de files segueix una distribució normal.\n"
     ]
    }
   ],
   "execution_count": 119
  },
  {
   "metadata": {
    "ExecuteTime": {
     "end_time": "2024-05-06T06:41:25.217537Z",
     "start_time": "2024-05-06T06:41:25.207898Z"
    }
   },
   "cell_type": "code",
   "source": [
    "stat, p_value = shapiro(AMB_PA_MECVV['MNA resultats'])\n",
    "print(f\"Estadístic W = {stat:.4f}\")\n",
    "print(f\"Valor p = {p_value:.4f}\")\n",
    "\n",
    "alpha = 0.05\n",
    "if p_value < alpha:\n",
    "    print(\"El nombre de files no segueix una distribució normal.\")\n",
    "else:\n",
    "    print(\"El nombre de files segueix una distribució normal.\")"
   ],
   "id": "f3f9909b59238c82",
   "outputs": [
    {
     "name": "stdout",
     "output_type": "stream",
     "text": [
      "Estadístic W = nan\n",
      "Valor p = nan\n",
      "El nombre de files segueix una distribució normal.\n"
     ]
    }
   ],
   "execution_count": 120
  },
  {
   "metadata": {
    "ExecuteTime": {
     "end_time": "2024-05-06T06:41:25.956061Z",
     "start_time": "2024-05-06T06:41:25.942626Z"
    }
   },
   "cell_type": "code",
   "source": [
    "stat, p_value = shapiro(SENSE_PA['MNA resultats'])\n",
    "print(f\"Estadístic W = {stat:.4f}\")\n",
    "print(f\"Valor p = {p_value:.4f}\")\n",
    "\n",
    "alpha = 0.05\n",
    "if p_value < alpha:\n",
    "    print(\"El nombre de files no segueix una distribució normal.\")\n",
    "else:\n",
    "    print(\"El nombre de files segueix una distribució normal.\")"
   ],
   "id": "e649075f76992902",
   "outputs": [
    {
     "name": "stdout",
     "output_type": "stream",
     "text": [
      "Estadístic W = nan\n",
      "Valor p = nan\n",
      "El nombre de files segueix una distribució normal.\n"
     ]
    }
   ],
   "execution_count": 121
  },
  {
   "metadata": {
    "ExecuteTime": {
     "end_time": "2024-05-06T06:41:26.923290Z",
     "start_time": "2024-05-06T06:41:26.916726Z"
    }
   },
   "cell_type": "code",
   "source": [
    "stat, p_value = shapiro(TOTAL['MNA resultats'])\n",
    "print(f\"Estadístic W = {stat:.4f}\")\n",
    "print(f\"Valor p = {p_value:.4f}\")\n",
    "\n",
    "alpha = 0.05\n",
    "if p_value < alpha:\n",
    "    print(\"El nombre de files no segueix una distribució normal.\")\n",
    "else:\n",
    "    print(\"El nombre de files segueix una distribució normal.\")"
   ],
   "id": "fefa7450e087393f",
   "outputs": [
    {
     "name": "stdout",
     "output_type": "stream",
     "text": [
      "Estadístic W = nan\n",
      "Valor p = nan\n",
      "El nombre de files segueix una distribució normal.\n"
     ]
    }
   ],
   "execution_count": 122
  },
  {
   "metadata": {
    "ExecuteTime": {
     "end_time": "2024-05-06T06:41:27.612394Z",
     "start_time": "2024-05-06T06:41:27.565748Z"
    }
   },
   "cell_type": "code",
   "source": [
    "t_stat_12, p_val_12 = ttest_ind(AMB_PA['MNA resultats'], AMB_PA_MECVV['MNA resultats'], equal_var=False)\n",
    "print(\"P-valor entre AMB_PA i AMB_PA_MECVV:\", p_val_12)"
   ],
   "id": "ad0537eaa821dc4b",
   "outputs": [
    {
     "name": "stdout",
     "output_type": "stream",
     "text": [
      "P-valor entre AMB_PA i AMB_PA_MECVV: nan\n"
     ]
    }
   ],
   "execution_count": 123
  },
  {
   "metadata": {
    "ExecuteTime": {
     "end_time": "2024-05-06T06:41:28.482034Z",
     "start_time": "2024-05-06T06:41:28.474883Z"
    }
   },
   "cell_type": "code",
   "source": [
    "t_stat_13, p_val_13 = ttest_ind(AMB_PA['MNA resultats'], SENSE_PA['MNA resultats'], equal_var=False)\n",
    "print(\"P-valor entre AMB_PA i SENSE_PA:\", p_val_13)"
   ],
   "id": "d15532e3219abd52",
   "outputs": [
    {
     "name": "stdout",
     "output_type": "stream",
     "text": [
      "P-valor entre AMB_PA i SENSE_PA: nan\n"
     ]
    }
   ],
   "execution_count": 124
  },
  {
   "metadata": {
    "ExecuteTime": {
     "end_time": "2024-05-06T06:41:29.145145Z",
     "start_time": "2024-05-06T06:41:29.135500Z"
    }
   },
   "cell_type": "code",
   "source": [
    "t_stat_23, p_val_23 = ttest_ind(AMB_PA_MECVV['MNA resultats'], SENSE_PA['MNA resultats'], equal_var=False)\n",
    "print(\"P-valor entre AMB_PA_MECVV i SENSE_PA:\", p_val_23)"
   ],
   "id": "33fd4e0dfb16ffd9",
   "outputs": [
    {
     "name": "stdout",
     "output_type": "stream",
     "text": [
      "P-valor entre AMB_PA_MECVV i SENSE_PA: nan\n"
     ]
    }
   ],
   "execution_count": 125
  },
  {
   "metadata": {
    "ExecuteTime": {
     "end_time": "2024-05-06T06:41:30.360812Z",
     "start_time": "2024-05-06T06:41:30.352690Z"
    }
   },
   "cell_type": "code",
   "source": [
    "t_stat_14, p_val_14 = ttest_ind(AMB_PA['MNA resultats'], TOTAL['MNA resultats'], equal_var=False)\n",
    "print(\"P-valor entre AMB_PA i TOTAL:\", p_val_14)"
   ],
   "id": "872eb4a13a46ad2d",
   "outputs": [
    {
     "name": "stdout",
     "output_type": "stream",
     "text": [
      "P-valor entre AMB_PA i TOTAL: nan\n"
     ]
    }
   ],
   "execution_count": 126
  },
  {
   "metadata": {
    "ExecuteTime": {
     "end_time": "2024-05-06T06:41:31.217271Z",
     "start_time": "2024-05-06T06:41:31.200513Z"
    }
   },
   "cell_type": "code",
   "source": [
    "t_stat_24, p_val_24 = ttest_ind(AMB_PA_MECVV['MNA resultats'], TOTAL['MNA resultats'], equal_var=False)\n",
    "print(\"P-valor entre AMB_PA_MECVV i TOTAL:\", p_val_24)"
   ],
   "id": "66959d52bc4c9692",
   "outputs": [
    {
     "name": "stdout",
     "output_type": "stream",
     "text": [
      "P-valor entre AMB_PA_MECVV i TOTAL: nan\n"
     ]
    }
   ],
   "execution_count": 127
  },
  {
   "metadata": {
    "ExecuteTime": {
     "end_time": "2024-05-06T06:41:32.317997Z",
     "start_time": "2024-05-06T06:41:32.311646Z"
    }
   },
   "cell_type": "code",
   "source": [
    "t_stat_34, p_val_34 = ttest_ind(SENSE_PA['MNA resultats'], TOTAL['MNA resultats'], equal_var=False)\n",
    "print(\"P-valor entre SENSE_PA i TOTAL:\", p_val_34)"
   ],
   "id": "3024cec7f962618a",
   "outputs": [
    {
     "name": "stdout",
     "output_type": "stream",
     "text": [
      "P-valor entre SENSE_PA i TOTAL: nan\n"
     ]
    }
   ],
   "execution_count": 128
  },
  {
   "metadata": {},
   "cell_type": "markdown",
   "source": "### Valors de malnutrició",
   "id": "30ab7030f717f77d"
  },
  {
   "metadata": {},
   "cell_type": "markdown",
   "source": "##### AMB_PA",
   "id": "739bad6e4ed22abd"
  },
  {
   "metadata": {
    "ExecuteTime": {
     "end_time": "2024-05-06T06:41:33.154747Z",
     "start_time": "2024-05-06T06:41:33.111314Z"
    }
   },
   "cell_type": "code",
   "source": [
    "norm_AMB_PA = AMB_PA['MNA resultats'].between(24, 30)\n",
    "Percentatge_norm_AMB_PA = norm_AMB_PA.mean() * 100\n",
    "num_observaciones_norm_AMB_PA = norm_AMB_PA.sum()\n",
    "\n",
    "print(f\"Percentatge de norm_AMB_PA: {Percentatge_norm_AMB_PA:.2f}%\")\n",
    "print(f\"Nombre d'observacions en norm_AMB_PA: {num_observaciones_norm_AMB_PA}\")"
   ],
   "id": "caa6802b98e9e39",
   "outputs": [
    {
     "name": "stdout",
     "output_type": "stream",
     "text": [
      "Percentatge de norm_AMB_PA: 0.00%\n",
      "Nombre d'observacions en norm_AMB_PA: 0\n"
     ]
    }
   ],
   "execution_count": 129
  },
  {
   "metadata": {
    "ExecuteTime": {
     "end_time": "2024-05-06T06:41:34.844459Z",
     "start_time": "2024-05-06T06:41:34.832881Z"
    }
   },
   "cell_type": "code",
   "source": [
    "malnutr_AMB_PA = AMB_PA['MNA resultats'].between(17, 23.5)\n",
    "Percentatge_malnutr_AMB_PA = malnutr_AMB_PA.mean() * 100\n",
    "num_observacions_malnutr_AMB_PA = norm_AMB_PA.sum()\n",
    "\n",
    "print(f\"Percentatge de malnutr_AMB_PA: {Percentatge_malnutr_AMB_PA:.2f}%\")\n",
    "print(f\"Nombre d'observacions en norm_AMB_PA: {num_observacions_malnutr_AMB_PA}\")"
   ],
   "id": "9767c703bf106b20",
   "outputs": [
    {
     "name": "stdout",
     "output_type": "stream",
     "text": [
      "Percentatge de malnutr_AMB_PA: 0.00%\n",
      "Nombre d'observacions en norm_AMB_PA: 0\n"
     ]
    }
   ],
   "execution_count": 130
  },
  {
   "metadata": {
    "ExecuteTime": {
     "end_time": "2024-05-06T06:41:35.563389Z",
     "start_time": "2024-05-06T06:41:35.556563Z"
    }
   },
   "cell_type": "code",
   "source": [
    "malnut_AMB_PA = AMB_PA['MNA resultats'] < 17\n",
    "Percentatge_malnut_AMB_PA = malnut_AMB_PA.mean() * 100\n",
    "num_observacions_malnut_AMB_PA = malnut_AMB_PA.sum()\n",
    "\n",
    "print(f\"Percentatge de malnut_AMB_PA: {Percentatge_malnut_AMB_PA:.2f}%\")\n",
    "print(f\"Nombre d'observacions en malnut_AMB_PA: {num_observacions_malnut_AMB_PA}\")"
   ],
   "id": "bef7952d2998f683",
   "outputs": [
    {
     "name": "stdout",
     "output_type": "stream",
     "text": [
      "Percentatge de malnut_AMB_PA: 23.53%\n",
      "Nombre d'observacions en malnut_AMB_PA: 4\n"
     ]
    }
   ],
   "execution_count": 131
  },
  {
   "metadata": {},
   "cell_type": "markdown",
   "source": "##### AMB_PA_MECVV",
   "id": "2f5087291a06f182"
  },
  {
   "metadata": {
    "ExecuteTime": {
     "end_time": "2024-05-06T06:41:36.442824Z",
     "start_time": "2024-05-06T06:41:36.429858Z"
    }
   },
   "cell_type": "code",
   "source": [
    "norm_AMB_PA_MECVV = AMB_PA_MECVV['MNA resultats'].between(24, 30)\n",
    "Percentatge_norm_AMB_PA_MECVV = norm_AMB_PA_MECVV.mean() * 100\n",
    "num_observacions_norm_AMB_PA_MECVV = norm_AMB_PA_MECVV.sum()\n",
    "\n",
    "print(f\"Percentatge de norm_AMB_PA_MECVV: {Percentatge_norm_AMB_PA_MECVV:.2f}%\")\n",
    "print(f\"Nombre d'observacions en norm_AMB_PA_MECVV: {num_observacions_norm_AMB_PA_MECVV}\")"
   ],
   "id": "3e5b18f679fc2d97",
   "outputs": [
    {
     "name": "stdout",
     "output_type": "stream",
     "text": [
      "Percentatge de norm_AMB_PA_MECVV: 0.00%\n",
      "Nombre d'observacions en norm_AMB_PA_MECVV: 0\n"
     ]
    }
   ],
   "execution_count": 132
  },
  {
   "metadata": {
    "ExecuteTime": {
     "end_time": "2024-05-06T06:41:37.120995Z",
     "start_time": "2024-05-06T06:41:37.112471Z"
    }
   },
   "cell_type": "code",
   "source": [
    "malnutr_AMB_PA_MECVV = AMB_PA_MECVV['MNA resultats'].between(17, 23.5)\n",
    "Percentatge_malnutr_AMB_PA_MECVV = malnutr_AMB_PA_MECVV.mean() * 100\n",
    "num_observacions_malnutr_AMB_PA_MECVV = norm_AMB_PA_MECVV.sum()\n",
    "\n",
    "print(f\"Percentatge de malnutr_AMB_PA_MECVV: {Percentatge_malnutr_AMB_PA_MECVV:.2f}%\")\n",
    "print(f\"Nombre d'observacions en norm_AMB_PA_MECVV: {num_observacions_malnutr_AMB_PA_MECVV}\")"
   ],
   "id": "d44f886d78fd3ac7",
   "outputs": [
    {
     "name": "stdout",
     "output_type": "stream",
     "text": [
      "Percentatge de malnutr_AMB_PA_MECVV: 0.00%\n",
      "Nombre d'observacions en norm_AMB_PA_MECVV: 0\n"
     ]
    }
   ],
   "execution_count": 133
  },
  {
   "metadata": {
    "ExecuteTime": {
     "end_time": "2024-05-06T06:41:38.132177Z",
     "start_time": "2024-05-06T06:41:38.123062Z"
    }
   },
   "cell_type": "code",
   "source": [
    "malnut_AMB_PA_MECVV = AMB_PA_MECVV['MNA resultats'] < 17\n",
    "Percentatge_malnut_AMB_PA_MECVV = malnut_AMB_PA_MECVV.mean() * 100\n",
    "num_observacions_malnut_AMB_PA_MECVV = malnut_AMB_PA_MECVV.sum()\n",
    "\n",
    "print(f\"Percentatge de malnut_AMB_PA_MECVV: {Percentatge_malnut_AMB_PA_MECVV:.2f}%\")\n",
    "print(f\"Nombre d'observacions en malnut_AMB_PA_MECVV: {num_observacions_malnut_AMB_PA_MECVV}\")"
   ],
   "id": "2a86972a7a2d702d",
   "outputs": [
    {
     "name": "stdout",
     "output_type": "stream",
     "text": [
      "Percentatge de malnut_AMB_PA_MECVV: 25.00%\n",
      "Nombre d'observacions en malnut_AMB_PA_MECVV: 2\n"
     ]
    }
   ],
   "execution_count": 134
  },
  {
   "metadata": {},
   "cell_type": "markdown",
   "source": "##### SENSE_PA",
   "id": "147fc09ef92f5300"
  },
  {
   "metadata": {
    "ExecuteTime": {
     "end_time": "2024-05-06T06:41:38.821822Z",
     "start_time": "2024-05-06T06:41:38.813621Z"
    }
   },
   "cell_type": "code",
   "source": [
    "norm_SENSE_PA = SENSE_PA['MNA resultats'].between(24, 30)\n",
    "Percentatge_norm_SENSE_PA = norm_SENSE_PA.mean() * 100\n",
    "num_observacions_norm_SENSE_PA = norm_SENSE_PA.sum()\n",
    "\n",
    "print(f\"Percentatge de norm_SENSE_PA: {Percentatge_norm_SENSE_PA:.2f}%\")\n",
    "print(f\"Nombre d'observacions en norm_SENSE_PA: {num_observacions_norm_SENSE_PA}\")"
   ],
   "id": "c08ecbab11287831",
   "outputs": [
    {
     "name": "stdout",
     "output_type": "stream",
     "text": [
      "Percentatge de norm_SENSE_PA: 0.00%\n",
      "Nombre d'observacions en norm_SENSE_PA: 0\n"
     ]
    }
   ],
   "execution_count": 135
  },
  {
   "metadata": {
    "ExecuteTime": {
     "end_time": "2024-05-06T06:41:39.830101Z",
     "start_time": "2024-05-06T06:41:39.821180Z"
    }
   },
   "cell_type": "code",
   "source": [
    "malnutr_SENSE_PA = SENSE_PA['MNA resultats'].between(17, 23.5)\n",
    "Percentatge_malnutr_SENSE_PA = malnutr_SENSE_PA.mean() * 100\n",
    "num_observacions_malnutr_SENSE_PA = malnutr_SENSE_PA.sum()\n",
    "\n",
    "print(f\"Percentatge de malnutr_SENSE_PA: {Percentatge_malnutr_SENSE_PA:.2f}%\")\n",
    "print(f\"Nombre d'observacions en malnutr_SENSE_PA: {num_observacions_malnutr_SENSE_PA}\")"
   ],
   "id": "380f9565f771bf8b",
   "outputs": [
    {
     "name": "stdout",
     "output_type": "stream",
     "text": [
      "Percentatge de malnutr_SENSE_PA: 0.00%\n",
      "Nombre d'observacions en malnutr_SENSE_PA: 0\n"
     ]
    }
   ],
   "execution_count": 136
  },
  {
   "metadata": {
    "ExecuteTime": {
     "end_time": "2024-05-06T06:41:40.478402Z",
     "start_time": "2024-05-06T06:41:40.460930Z"
    }
   },
   "cell_type": "code",
   "source": [
    "malnut_SENSE_PA = SENSE_PA['MNA resultats'] < 17\n",
    "Percentatge_malnut_SENSE_PA = malnut_SENSE_PA.mean() * 100\n",
    "num_observacions_malnut_SENSE_PA = malnut_SENSE_PA.sum()\n",
    "\n",
    "print(f\"Percentatge de malnut_SENSE_PA: {Percentatge_malnut_SENSE_PA:.2f}%\")\n",
    "print(f\"Nombre d'observacions en malnut_SENSE_PA: {num_observacions_malnut_SENSE_PA}\")"
   ],
   "id": "160c804055ffa789",
   "outputs": [
    {
     "name": "stdout",
     "output_type": "stream",
     "text": [
      "Percentatge de malnut_SENSE_PA: 37.50%\n",
      "Nombre d'observacions en malnut_SENSE_PA: 3\n"
     ]
    }
   ],
   "execution_count": 137
  },
  {
   "metadata": {},
   "cell_type": "markdown",
   "source": "##### TOTAL",
   "id": "a44adb84b0620689"
  },
  {
   "metadata": {
    "ExecuteTime": {
     "end_time": "2024-05-06T06:41:41.451690Z",
     "start_time": "2024-05-06T06:41:41.441148Z"
    }
   },
   "cell_type": "code",
   "source": [
    "norm_TOTAL = TOTAL['MNA resultats'].between(24, 30)\n",
    "Percentatge_norm_TOTAL = norm_TOTAL.mean() * 100\n",
    "num_observacions_norm_TOTAL = norm_TOTAL.sum()\n",
    "\n",
    "print(f\"Percentatge de norm_TOTAL: {Percentatge_norm_TOTAL:.2f}%\")\n",
    "print(f\"Nombre d'observacions en norm_TOTAL: {num_observacions_norm_TOTAL}\")"
   ],
   "id": "bc63c0ba261ce802",
   "outputs": [
    {
     "name": "stdout",
     "output_type": "stream",
     "text": [
      "Percentatge de norm_TOTAL: 0.00%\n",
      "Nombre d'observacions en norm_TOTAL: 0\n"
     ]
    }
   ],
   "execution_count": 138
  },
  {
   "metadata": {
    "ExecuteTime": {
     "end_time": "2024-05-06T06:41:42.119455Z",
     "start_time": "2024-05-06T06:41:42.103369Z"
    }
   },
   "cell_type": "code",
   "source": [
    "malnutr_TOTAL = TOTAL['MNA resultats'].between(17, 23.5)\n",
    "Percentatge_malnutr_TOTAL = malnutr_TOTAL.mean() * 100\n",
    "num_observacions_malnutr_TOTAL = malnutr_TOTAL.sum()\n",
    "\n",
    "print(f\"Percentatge de malnutr_TOTAL: {Percentatge_malnutr_TOTAL:.2f}%\")\n",
    "print(f\"Nombre d'observacions en malnutr_TOTAL: {num_observacions_malnutr_TOTAL}\")"
   ],
   "id": "b8ac78ba0add7ac4",
   "outputs": [
    {
     "name": "stdout",
     "output_type": "stream",
     "text": [
      "Percentatge de malnutr_TOTAL: 4.00%\n",
      "Nombre d'observacions en malnutr_TOTAL: 2\n"
     ]
    }
   ],
   "execution_count": 139
  },
  {
   "metadata": {
    "ExecuteTime": {
     "end_time": "2024-05-06T06:41:43.071376Z",
     "start_time": "2024-05-06T06:41:43.063953Z"
    }
   },
   "cell_type": "code",
   "source": [
    "malnut_TOTAL = TOTAL['MNA resultats'] < 17\n",
    "Percentatge_malnut_TOTAL = malnut_TOTAL.mean() * 100\n",
    "num_observacions_malnut_TOTAL = malnut_TOTAL.sum()\n",
    "\n",
    "print(f\"Percentatge de malnut_TOTAL: {Percentatge_malnut_TOTAL:.2f}%\")\n",
    "print(f\"Nombre d'observacions en malnut_TOTAL: {num_observacions_malnut_TOTAL}\")"
   ],
   "id": "e7680f8860c92cf",
   "outputs": [
    {
     "name": "stdout",
     "output_type": "stream",
     "text": [
      "Percentatge de malnut_TOTAL: 18.00%\n",
      "Nombre d'observacions en malnut_TOTAL: 9\n"
     ]
    }
   ],
   "execution_count": 140
  },
  {
   "metadata": {},
   "cell_type": "markdown",
   "source": "#### Pvalor",
   "id": "a9a33b1d22344060"
  },
  {
   "metadata": {},
   "cell_type": "markdown",
   "source": "##### Normal",
   "id": "c1aa669e202aa54d"
  },
  {
   "metadata": {
    "ExecuteTime": {
     "end_time": "2024-05-06T06:41:43.806141Z",
     "start_time": "2024-05-06T06:41:43.795576Z"
    }
   },
   "cell_type": "code",
   "source": [
    "t_stat_12, p_val_12 = ttest_ind(AMB_PA['MNA resultats'].between(24, 30), AMB_PA_MECVV['MNA resultats'].between(24, 30), equal_var=False)\n",
    "print(\"P-valor entre norm_AMB_PA i norm_AMB_PA_MECVV:\", p_val_12)"
   ],
   "id": "c424d10727ebe3",
   "outputs": [
    {
     "name": "stdout",
     "output_type": "stream",
     "text": [
      "P-valor entre norm_AMB_PA i norm_AMB_PA_MECVV: nan\n"
     ]
    }
   ],
   "execution_count": 141
  },
  {
   "metadata": {
    "ExecuteTime": {
     "end_time": "2024-05-06T06:41:44.690540Z",
     "start_time": "2024-05-06T06:41:44.680110Z"
    }
   },
   "cell_type": "code",
   "source": [
    "t_stat_13, p_val_13 = ttest_ind(AMB_PA['MNA resultats'].between(24, 30), SENSE_PA['MNA resultats'].between(24, 30), equal_var=False)\n",
    "print(\"P-valor entre norm_AMB_PA i norm_SENSE_PA:\", p_val_13)"
   ],
   "id": "ebb1848e3ef8509e",
   "outputs": [
    {
     "name": "stdout",
     "output_type": "stream",
     "text": [
      "P-valor entre norm_AMB_PA i norm_SENSE_PA: nan\n"
     ]
    }
   ],
   "execution_count": 142
  },
  {
   "metadata": {
    "ExecuteTime": {
     "end_time": "2024-05-06T06:41:45.430850Z",
     "start_time": "2024-05-06T06:41:45.421641Z"
    }
   },
   "cell_type": "code",
   "source": [
    "t_stat_23, p_val_23 = ttest_ind(AMB_PA_MECVV['MNA resultats'].between(24, 30), SENSE_PA['MNA resultats'].between(24, 30), equal_var=False)\n",
    "print(\"P-valor entre norm_AMB_PA_MECVV i norm_SENSE_PA:\", p_val_23)"
   ],
   "id": "ec24c5a3e17d9c39",
   "outputs": [
    {
     "name": "stdout",
     "output_type": "stream",
     "text": [
      "P-valor entre norm_AMB_PA_MECVV i norm_SENSE_PA: nan\n"
     ]
    }
   ],
   "execution_count": 143
  },
  {
   "metadata": {
    "ExecuteTime": {
     "end_time": "2024-05-06T06:41:46.325739Z",
     "start_time": "2024-05-06T06:41:46.316393Z"
    }
   },
   "cell_type": "code",
   "source": [
    "t_stat_14, p_val_14 = ttest_ind(AMB_PA['MNA resultats'].between(24, 30), TOTAL['MNA resultats'].between(24, 30), equal_var=False)\n",
    "print(\"P-valor entre norm_AMB_PA i norm_TOTAL:\", p_val_14)"
   ],
   "id": "b9abd77f1ff3df65",
   "outputs": [
    {
     "name": "stdout",
     "output_type": "stream",
     "text": [
      "P-valor entre norm_AMB_PA i norm_TOTAL: nan\n"
     ]
    }
   ],
   "execution_count": 144
  },
  {
   "metadata": {
    "ExecuteTime": {
     "end_time": "2024-05-06T06:41:46.976723Z",
     "start_time": "2024-05-06T06:41:46.966849Z"
    }
   },
   "cell_type": "code",
   "source": [
    "t_stat_24, p_val_24 = ttest_ind(AMB_PA_MECVV['MNA resultats'].between(24, 30), TOTAL['MNA resultats'].between(24, 30), equal_var=False)\n",
    "print(\"P-valor entre norm_AMB_PA_MECVV i norm_TOTAL:\", p_val_24)"
   ],
   "id": "487da96a4b495055",
   "outputs": [
    {
     "name": "stdout",
     "output_type": "stream",
     "text": [
      "P-valor entre norm_AMB_PA_MECVV i norm_TOTAL: nan\n"
     ]
    }
   ],
   "execution_count": 145
  },
  {
   "metadata": {
    "ExecuteTime": {
     "end_time": "2024-05-06T06:41:47.832641Z",
     "start_time": "2024-05-06T06:41:47.820491Z"
    }
   },
   "cell_type": "code",
   "source": [
    "t_stat_34, p_val_34 = ttest_ind(SENSE_PA['MNA resultats'].between(24, 30), TOTAL['MNA resultats'].between(24, 30), equal_var=False)\n",
    "print(\"P-valor entre norm_SENSE_PA i norm_TOTAL:\", p_val_34)"
   ],
   "id": "1634c7d3d4740bc4",
   "outputs": [
    {
     "name": "stdout",
     "output_type": "stream",
     "text": [
      "P-valor entre norm_SENSE_PA i norm_TOTAL: nan\n"
     ]
    }
   ],
   "execution_count": 146
  },
  {
   "metadata": {},
   "cell_type": "markdown",
   "source": "##### Risc de malnutrició",
   "id": "2b406b79ad8e5d31"
  },
  {
   "metadata": {
    "ExecuteTime": {
     "end_time": "2024-05-06T06:41:48.457852Z",
     "start_time": "2024-05-06T06:41:48.446628Z"
    }
   },
   "cell_type": "code",
   "source": [
    "t_stat_12, p_val_12 = ttest_ind(AMB_PA['MNA resultats'].between(17, 23.5), AMB_PA_MECVV['MNA resultats'].between(17, 23.5), equal_var=False)\n",
    "print(\"P-valor entre malnutr_AMB_PA i malnutr_AMB_PA_MECVV:\", p_val_12)"
   ],
   "id": "3a2c6f30d476106c",
   "outputs": [
    {
     "name": "stdout",
     "output_type": "stream",
     "text": [
      "P-valor entre malnutr_AMB_PA i malnutr_AMB_PA_MECVV: nan\n"
     ]
    }
   ],
   "execution_count": 147
  },
  {
   "metadata": {
    "ExecuteTime": {
     "end_time": "2024-05-06T06:41:49.396115Z",
     "start_time": "2024-05-06T06:41:49.386822Z"
    }
   },
   "cell_type": "code",
   "source": [
    "t_stat_13, p_val_13 = ttest_ind(AMB_PA['MNA resultats'].between(17, 23.5), SENSE_PA['MNA resultats'].between(17, 23.5), equal_var=False)\n",
    "print(\"P-valor entre malnutr_AMB_PA i malnutr_SENSE_PA:\", p_val_13)"
   ],
   "id": "26dd581da1c61b2a",
   "outputs": [
    {
     "name": "stdout",
     "output_type": "stream",
     "text": [
      "P-valor entre malnutr_AMB_PA i malnutr_SENSE_PA: nan\n"
     ]
    }
   ],
   "execution_count": 148
  },
  {
   "metadata": {
    "ExecuteTime": {
     "end_time": "2024-05-06T06:41:50.026054Z",
     "start_time": "2024-05-06T06:41:50.010278Z"
    }
   },
   "cell_type": "code",
   "source": [
    "t_stat_23, p_val_23 = ttest_ind(AMB_PA_MECVV['MNA resultats'].between(17, 23.5), SENSE_PA['MNA resultats'].between(17, 23.5), equal_var=False)\n",
    "print(\"P-valor entre malnutr_AMB_PA_MECVV i malnutr_SENSE_PA:\", p_val_23)"
   ],
   "id": "e15a727ac84ee9b9",
   "outputs": [
    {
     "name": "stdout",
     "output_type": "stream",
     "text": [
      "P-valor entre malnutr_AMB_PA_MECVV i malnutr_SENSE_PA: nan\n"
     ]
    }
   ],
   "execution_count": 149
  },
  {
   "metadata": {
    "ExecuteTime": {
     "end_time": "2024-05-06T06:41:50.874579Z",
     "start_time": "2024-05-06T06:41:50.860808Z"
    }
   },
   "cell_type": "code",
   "source": [
    "t_stat_14, p_val_14 = ttest_ind(AMB_PA['MNA resultats'].between(17, 23.5), TOTAL['MNA resultats'].between(17, 23.5), equal_var=False)\n",
    "print(\"P-valor entre malnutr_AMB_PA i malnutr_TOTAL:\", p_val_14)"
   ],
   "id": "cf3385049298a4d6",
   "outputs": [
    {
     "name": "stdout",
     "output_type": "stream",
     "text": [
      "P-valor entre malnutr_AMB_PA i malnutr_TOTAL: 0.15938605197461636\n"
     ]
    }
   ],
   "execution_count": 150
  },
  {
   "metadata": {
    "ExecuteTime": {
     "end_time": "2024-05-06T06:41:51.485047Z",
     "start_time": "2024-05-06T06:41:51.472483Z"
    }
   },
   "cell_type": "code",
   "source": [
    "t_stat_24, p_val_24 = ttest_ind(AMB_PA_MECVV['MNA resultats'].between(17, 23.5), TOTAL['MNA resultats'].between(17, 23.5), equal_var=False)\n",
    "print(\"P-valor entre malnutr_AMB_PA_MECVVV i malnutr_TOTAL:\", p_val_24)"
   ],
   "id": "6638ca537eb22e78",
   "outputs": [
    {
     "name": "stdout",
     "output_type": "stream",
     "text": [
      "P-valor entre malnutr_AMB_PA_MECVVV i malnutr_TOTAL: 0.15938605197461636\n"
     ]
    }
   ],
   "execution_count": 151
  },
  {
   "metadata": {
    "ExecuteTime": {
     "end_time": "2024-05-06T06:41:52.325046Z",
     "start_time": "2024-05-06T06:41:52.309683Z"
    }
   },
   "cell_type": "code",
   "source": [
    "t_stat_34, p_val_34 = ttest_ind(SENSE_PA['MNA resultats'].between(17, 23.5), TOTAL['MNA resultats'].between(17, 23.5), equal_var=False)\n",
    "print(\"P-valor entre malnutr_SENSE_PA i malnutr_TOTAL:\", p_val_34)"
   ],
   "id": "944ffad15eda29c0",
   "outputs": [
    {
     "name": "stdout",
     "output_type": "stream",
     "text": [
      "P-valor entre malnutr_SENSE_PA i malnutr_TOTAL: 0.15938605197461636\n"
     ]
    }
   ],
   "execution_count": 152
  },
  {
   "metadata": {},
   "cell_type": "markdown",
   "source": "##### Malnutrició",
   "id": "905cde52c3b826ac"
  },
  {
   "metadata": {
    "ExecuteTime": {
     "end_time": "2024-05-06T06:41:53.014942Z",
     "start_time": "2024-05-06T06:41:52.965409Z"
    }
   },
   "cell_type": "code",
   "source": [
    "t_stat_12, p_val_12 = ttest_ind(AMB_PA['MNA resultats'] <17 , \n",
    "                                AMB_PA_MECVV['MNA resultats'] < 17, equal_var=False)\n",
    "print(\"P-valor entre malnut_AMB_PA i malnut_AMB_PA_MECVV:\", p_val_12)"
   ],
   "id": "72f95b8ad2e7790e",
   "outputs": [
    {
     "name": "stdout",
     "output_type": "stream",
     "text": [
      "P-valor entre malnut_AMB_PA i malnut_AMB_PA_MECVV: 0.9410290647654455\n"
     ]
    }
   ],
   "execution_count": 153
  },
  {
   "metadata": {
    "ExecuteTime": {
     "end_time": "2024-05-06T06:41:53.847810Z",
     "start_time": "2024-05-06T06:41:53.833161Z"
    }
   },
   "cell_type": "code",
   "source": [
    "t_stat_13, p_val_13 = ttest_ind(AMB_PA['MNA resultats'] <17 , \n",
    "                                SENSE_PA['MNA resultats'] < 17, equal_var=False)\n",
    "print(\"P-valor entre malnut_AMB_PA i malnut_SENSE_PA:\", p_val_13)"
   ],
   "id": "a93d6a6490f1b7e4",
   "outputs": [
    {
     "name": "stdout",
     "output_type": "stream",
     "text": [
      "P-valor entre malnut_AMB_PA i malnut_SENSE_PA: 0.5214594319226733\n"
     ]
    }
   ],
   "execution_count": 154
  },
  {
   "metadata": {
    "ExecuteTime": {
     "end_time": "2024-05-06T06:41:54.512014Z",
     "start_time": "2024-05-06T06:41:54.499389Z"
    }
   },
   "cell_type": "code",
   "source": [
    "t_stat_23, p_val_23 = ttest_ind(AMB_PA_MECVV['MNA resultats'] <17 , \n",
    "                                SENSE_PA['MNA resultats'] < 17, equal_var=False)\n",
    "print(\"P-valor entre malnut_AMB_PA_MECVV i malnut_SENSE_PA:\", p_val_23)"
   ],
   "id": "751e44c45c324db8",
   "outputs": [
    {
     "name": "stdout",
     "output_type": "stream",
     "text": [
      "P-valor entre malnut_AMB_PA_MECVV i malnut_SENSE_PA: 0.6186566171324552\n"
     ]
    }
   ],
   "execution_count": 155
  },
  {
   "metadata": {
    "ExecuteTime": {
     "end_time": "2024-05-06T06:41:55.364872Z",
     "start_time": "2024-05-06T06:41:55.355859Z"
    }
   },
   "cell_type": "code",
   "source": [
    "t_stat_14, p_val_14 = ttest_ind(AMB_PA['MNA resultats'] <17 , \n",
    "                                TOTAL['MNA resultats'] < 17, equal_var=False)\n",
    "print(\"P-valor entre malnut_AMB_PA i malnut_TOTAL:\", p_val_14)"
   ],
   "id": "d334266645ad4cf0",
   "outputs": [
    {
     "name": "stdout",
     "output_type": "stream",
     "text": [
      "P-valor entre malnut_AMB_PA i malnut_TOTAL: 0.6472962045447526\n"
     ]
    }
   ],
   "execution_count": 156
  },
  {
   "metadata": {
    "ExecuteTime": {
     "end_time": "2024-05-06T06:41:56.004088Z",
     "start_time": "2024-05-06T06:41:55.994491Z"
    }
   },
   "cell_type": "code",
   "source": [
    "t_stat_24, p_val_24 = ttest_ind(AMB_PA_MECVV['MNA resultats'] <17 , \n",
    "                                TOTAL['MNA resultats'] < 17, equal_var=False)\n",
    "print(\"P-valor entre malnut_AMB_PA_MECVV i malnut_TOTAL:\", p_val_24)"
   ],
   "id": "9c53996f556891b0",
   "outputs": [
    {
     "name": "stdout",
     "output_type": "stream",
     "text": [
      "P-valor entre malnut_AMB_PA_MECVV i malnut_TOTAL: 0.6949496714815766\n"
     ]
    }
   ],
   "execution_count": 157
  },
  {
   "metadata": {
    "ExecuteTime": {
     "end_time": "2024-05-06T06:41:56.957909Z",
     "start_time": "2024-05-06T06:41:56.944688Z"
    }
   },
   "cell_type": "code",
   "source": [
    "t_stat_34, p_val_34 = ttest_ind(SENSE_PA['MNA resultats'] <17 , \n",
    "                                TOTAL['MNA resultats'] < 17, equal_var=False)\n",
    "print(\"P-valor entre malnut_SENSE_PA i malnut_TOTAL:\", p_val_34)"
   ],
   "id": "bca0d6ae503e9caa",
   "outputs": [
    {
     "name": "stdout",
     "output_type": "stream",
     "text": [
      "P-valor entre malnut_SENSE_PA i malnut_TOTAL: 0.33617668089139807\n"
     ]
    }
   ],
   "execution_count": 158
  },
  {
   "metadata": {},
   "cell_type": "markdown",
   "source": "## Index de l'EMINA",
   "id": "26f61b8f17444d86"
  },
  {
   "metadata": {},
   "cell_type": "markdown",
   "source": "### Mitjana",
   "id": "5c9563929438128a"
  },
  {
   "metadata": {
    "ExecuteTime": {
     "end_time": "2024-05-06T06:41:57.600397Z",
     "start_time": "2024-05-06T06:41:57.587202Z"
    }
   },
   "cell_type": "code",
   "source": [
    "Mitjana_emina = AMB_PA['EMINA sumatoris comparats'].mean()\n",
    "desviacio_estandard_emina = AMB_PA['EMINA sumatoris comparats'].std()\n",
    "\n",
    "resultat = f\"{Mitjana_emina:.2f} ± {desviacio_estandard_emina:.2f}\"\n",
    "print(\"Mitjana ± Desviació Estàndard de l'emina:\", resultat)"
   ],
   "id": "6b3af33f67ee3c1c",
   "outputs": [
    {
     "name": "stdout",
     "output_type": "stream",
     "text": [
      "Mitjana ± Desviació Estàndard de l'emina: 7.94 ± 3.21\n"
     ]
    }
   ],
   "execution_count": 159
  },
  {
   "metadata": {
    "ExecuteTime": {
     "end_time": "2024-05-06T06:41:58.499836Z",
     "start_time": "2024-05-06T06:41:58.492873Z"
    }
   },
   "cell_type": "code",
   "source": [
    "Mitjana_emina = AMB_PA_MECVV['EMINA sumatoris comparats'].mean()\n",
    "desviacio_estandard_emina = AMB_PA_MECVV['EMINA sumatoris comparats'].std()\n",
    "\n",
    "resultat = f\"{Mitjana_emina:.2f} ± {desviacio_estandard_emina:.2f}\"\n",
    "print(\"Mitjana ± Desviació Estàndard de l'emina:\", resultat)"
   ],
   "id": "33da5d49fab96790",
   "outputs": [
    {
     "name": "stdout",
     "output_type": "stream",
     "text": [
      "Mitjana ± Desviació Estàndard de l'emina: 8.50 ± 1.51\n"
     ]
    }
   ],
   "execution_count": 160
  },
  {
   "metadata": {
    "ExecuteTime": {
     "end_time": "2024-05-06T06:41:59.163840Z",
     "start_time": "2024-05-06T06:41:59.154531Z"
    }
   },
   "cell_type": "code",
   "source": [
    "Mitjana_emina = SENSE_PA['EMINA sumatoris comparats'].mean()\n",
    "desviacio_estandard_emina = SENSE_PA['EMINA sumatoris comparats'].std()\n",
    "\n",
    "resultat = f\"{Mitjana_emina:.2f} ± {desviacio_estandard_emina:.2f}\"\n",
    "print(\"Mitjana ± Desviació Estàndard de l'emina:\", resultat)"
   ],
   "id": "8fdc1af6b1f3b3af",
   "outputs": [
    {
     "name": "stdout",
     "output_type": "stream",
     "text": [
      "Mitjana ± Desviació Estàndard de l'emina: 7.00 ± 2.83\n"
     ]
    }
   ],
   "execution_count": 161
  },
  {
   "metadata": {
    "ExecuteTime": {
     "end_time": "2024-05-06T06:42:00.012211Z",
     "start_time": "2024-05-06T06:42:00.005430Z"
    }
   },
   "cell_type": "code",
   "source": [
    "Mitjana_emina = TOTAL['EMINA sumatoris comparats'].mean()\n",
    "desviacio_estandard_emina = TOTAL['EMINA sumatoris comparats'].std()\n",
    "\n",
    "resultat = f\"{Mitjana_emina:.2f} ± {desviacio_estandard_emina:.2f}\"\n",
    "print(\"Mitjana ± Desviació Estàndard de l'emina:\", resultat)"
   ],
   "id": "e1c0ec42ba6ef5a6",
   "outputs": [
    {
     "name": "stdout",
     "output_type": "stream",
     "text": [
      "Mitjana ± Desviació Estàndard de l'emina: 5.73 ± 4.08\n"
     ]
    }
   ],
   "execution_count": 162
  },
  {
   "metadata": {},
   "cell_type": "markdown",
   "source": "#### Pvalor",
   "id": "71013ef3e165a551"
  },
  {
   "metadata": {},
   "cell_type": "markdown",
   "source": "##### Normalitat",
   "id": "cbd46bf1ecd0fba7"
  },
  {
   "metadata": {
    "ExecuteTime": {
     "end_time": "2024-05-06T06:42:00.723346Z",
     "start_time": "2024-05-06T06:42:00.711910Z"
    }
   },
   "cell_type": "code",
   "source": [
    "stat, p_value = shapiro(AMB_PA['EMINA sumatoris comparats'])\n",
    "print(f\"Estadístic W = {stat:.4f}\")\n",
    "print(f\"Valor p = {p_value:.4f}\")\n",
    "\n",
    "alpha = 0.05\n",
    "if p_value < alpha:\n",
    "    print(\"El nombre de files no segueix una distribució normal.\")\n",
    "else:\n",
    "    print(\"El nombre de files segueix una distribució normal.\")"
   ],
   "id": "8c2f6048f748604a",
   "outputs": [
    {
     "name": "stdout",
     "output_type": "stream",
     "text": [
      "Estadístic W = 0.9770\n",
      "Valor p = 0.9248\n",
      "El nombre de files segueix una distribució normal.\n"
     ]
    }
   ],
   "execution_count": 163
  },
  {
   "metadata": {
    "ExecuteTime": {
     "end_time": "2024-05-06T06:42:01.602518Z",
     "start_time": "2024-05-06T06:42:01.594040Z"
    }
   },
   "cell_type": "code",
   "source": [
    "stat, p_value = shapiro(AMB_PA_MECVV['EMINA sumatoris comparats'])\n",
    "print(f\"Estadístic W = {stat:.4f}\")\n",
    "print(f\"Valor p = {p_value:.4f}\")\n",
    "\n",
    "alpha = 0.05\n",
    "if p_value < alpha:\n",
    "    print(\"El nombre de files no segueix una distribució normal.\")\n",
    "else:\n",
    "    print(\"El nombre de files segueix una distribució normal.\")"
   ],
   "id": "2bf3afd16f2027c6",
   "outputs": [
    {
     "name": "stdout",
     "output_type": "stream",
     "text": [
      "Estadístic W = 0.9183\n",
      "Valor p = 0.4158\n",
      "El nombre de files segueix una distribució normal.\n"
     ]
    }
   ],
   "execution_count": 164
  },
  {
   "metadata": {
    "ExecuteTime": {
     "end_time": "2024-05-06T06:42:02.221433Z",
     "start_time": "2024-05-06T06:42:02.211919Z"
    }
   },
   "cell_type": "code",
   "source": [
    "stat, p_value = shapiro(SENSE_PA['EMINA sumatoris comparats'])\n",
    "print(f\"Estadístic W = {stat:.4f}\")\n",
    "print(f\"Valor p = {p_value:.4f}\")\n",
    "\n",
    "alpha = 0.05\n",
    "if p_value < alpha:\n",
    "    print(\"El nombre de files no segueix una distribució normal.\")\n",
    "else:\n",
    "    print(\"El nombre de files segueix una distribució normal.\")"
   ],
   "id": "35d52c1d08eae392",
   "outputs": [
    {
     "name": "stdout",
     "output_type": "stream",
     "text": [
      "Estadístic W = 0.8758\n",
      "Valor p = 0.1716\n",
      "El nombre de files segueix una distribució normal.\n"
     ]
    }
   ],
   "execution_count": 165
  },
  {
   "metadata": {
    "ExecuteTime": {
     "end_time": "2024-05-06T06:42:03.190387Z",
     "start_time": "2024-05-06T06:42:03.182164Z"
    }
   },
   "cell_type": "code",
   "source": [
    "stat, p_value = shapiro(TOTAL['EMINA sumatoris comparats'])\n",
    "print(f\"Estadístic W = {stat:.4f}\")\n",
    "print(f\"Valor p = {p_value:.4f}\")\n",
    "\n",
    "alpha = 0.05\n",
    "if p_value < alpha:\n",
    "    print(\"El nombre de files no segueix una distribució normal.\")\n",
    "else:\n",
    "    print(\"El nombre de files segueix una distribució normal.\")"
   ],
   "id": "3e2a08ffad73b9f2",
   "outputs": [
    {
     "name": "stdout",
     "output_type": "stream",
     "text": [
      "Estadístic W = nan\n",
      "Valor p = nan\n",
      "El nombre de files segueix una distribució normal.\n"
     ]
    }
   ],
   "execution_count": 166
  },
  {
   "metadata": {
    "ExecuteTime": {
     "end_time": "2024-05-06T06:42:03.836256Z",
     "start_time": "2024-05-06T06:42:03.820808Z"
    }
   },
   "cell_type": "code",
   "source": [
    "t_stat_12, p_val_12 = ttest_ind(AMB_PA['EMINA sumatoris comparats'], AMB_PA_MECVV['EMINA sumatoris comparats'], equal_var=False)\n",
    "print(\"P-valor entre AMB_PA i AMB_PA_MECVV:\", p_val_12)"
   ],
   "id": "19c464a0afea8bee",
   "outputs": [
    {
     "name": "stdout",
     "output_type": "stream",
     "text": [
      "P-valor entre AMB_PA i AMB_PA_MECVV: 0.5598635957447045\n"
     ]
    }
   ],
   "execution_count": 167
  },
  {
   "metadata": {
    "ExecuteTime": {
     "end_time": "2024-05-06T06:42:04.641500Z",
     "start_time": "2024-05-06T06:42:04.632437Z"
    }
   },
   "cell_type": "code",
   "source": [
    "t_stat_13, p_val_13 = ttest_ind(AMB_PA['EMINA sumatoris comparats'], SENSE_PA['EMINA sumatoris comparats'], equal_var=False)\n",
    "print(\"P-valor entre AMB_PA i SENSE_PA:\", p_val_13)"
   ],
   "id": "987f92dcb16d57e2",
   "outputs": [
    {
     "name": "stdout",
     "output_type": "stream",
     "text": [
      "P-valor entre AMB_PA i SENSE_PA: 0.46879803068245907\n"
     ]
    }
   ],
   "execution_count": 168
  },
  {
   "metadata": {
    "ExecuteTime": {
     "end_time": "2024-05-06T06:42:05.356204Z",
     "start_time": "2024-05-06T06:42:05.344681Z"
    }
   },
   "cell_type": "code",
   "source": [
    "t_stat_23, p_val_23 = ttest_ind(AMB_PA_MECVV['EMINA sumatoris comparats'], SENSE_PA['EMINA sumatoris comparats'], equal_var=False)\n",
    "print(\"P-valor entre AMB_PA_MECVV i SENSE_PA:\", p_val_23)"
   ],
   "id": "368fa9440dab1343",
   "outputs": [
    {
     "name": "stdout",
     "output_type": "stream",
     "text": [
      "P-valor entre AMB_PA_MECVV i SENSE_PA: 0.21345611032992376\n"
     ]
    }
   ],
   "execution_count": 169
  },
  {
   "metadata": {
    "ExecuteTime": {
     "end_time": "2024-05-06T06:42:06.221224Z",
     "start_time": "2024-05-06T06:42:06.212905Z"
    }
   },
   "cell_type": "code",
   "source": [
    "t_stat_14, p_val_14 = ttest_ind(AMB_PA['EMINA sumatoris comparats'], TOTAL['EMINA sumatoris comparats'], equal_var=False)\n",
    "print(\"P-valor entre AMB_PA i TOTAL:\", p_val_14)"
   ],
   "id": "9b7dfb0fc328cffa",
   "outputs": [
    {
     "name": "stdout",
     "output_type": "stream",
     "text": [
      "P-valor entre AMB_PA i TOTAL: nan\n"
     ]
    }
   ],
   "execution_count": 170
  },
  {
   "metadata": {
    "ExecuteTime": {
     "end_time": "2024-05-06T06:42:06.842542Z",
     "start_time": "2024-05-06T06:42:06.831542Z"
    }
   },
   "cell_type": "code",
   "source": [
    "t_stat_24, p_val_24 = ttest_ind(AMB_PA_MECVV['EMINA sumatoris comparats'], TOTAL['EMINA sumatoris comparats'], equal_var=False)\n",
    "print(\"P-valor entre AMB_PA_MECVV i TOTAL:\", p_val_24)"
   ],
   "id": "60a12a6437fe14f8",
   "outputs": [
    {
     "name": "stdout",
     "output_type": "stream",
     "text": [
      "P-valor entre AMB_PA_MECVV i TOTAL: nan\n"
     ]
    }
   ],
   "execution_count": 171
  },
  {
   "metadata": {
    "ExecuteTime": {
     "end_time": "2024-05-06T06:42:07.672503Z",
     "start_time": "2024-05-06T06:42:07.663728Z"
    }
   },
   "cell_type": "code",
   "source": [
    "t_stat_34, p_val_34 = ttest_ind(SENSE_PA['EMINA sumatoris comparats'], TOTAL['EMINA sumatoris comparats'], equal_var=False)\n",
    "print(\"P-valor entre SENSE_PA i TOTAL:\", p_val_34)"
   ],
   "id": "62192da5a0981550",
   "outputs": [
    {
     "name": "stdout",
     "output_type": "stream",
     "text": [
      "P-valor entre SENSE_PA i TOTAL: nan\n"
     ]
    }
   ],
   "execution_count": 172
  },
  {
   "metadata": {},
   "cell_type": "markdown",
   "source": "### Valors EMINA",
   "id": "fe44c5a2a9a5c364"
  },
  {
   "metadata": {},
   "cell_type": "markdown",
   "source": "##### AMB_PA",
   "id": "b86ec7ed9e5b32ef"
  },
  {
   "metadata": {
    "ExecuteTime": {
     "end_time": "2024-05-06T06:42:08.293282Z",
     "start_time": "2024-05-06T06:42:08.286580Z"
    }
   },
   "cell_type": "code",
   "source": [
    "lowr_AMB_PA = AMB_PA['EMINA sumatoris comparats'].between(0, 5)\n",
    "Percentatge_lowr_AMB_PA = lowr_AMB_PA.mean() * 100\n",
    "num_observacions_lowr_AMB_PA = lowr_AMB_PA.sum()\n",
    "\n",
    "print(f\"Percentatge de lowr_AMB_PA: {Percentatge_lowr_AMB_PA:.2f}%\")\n",
    "print(f\"Nombre d'observacions en lowr_AMB_PA: {num_observacions_lowr_AMB_PA}\")"
   ],
   "id": "86d6a7c6920067a1",
   "outputs": [
    {
     "name": "stdout",
     "output_type": "stream",
     "text": [
      "Percentatge de lowr_AMB_PA: 17.65%\n",
      "Nombre d'observacions en lowr_AMB_PA: 3\n"
     ]
    }
   ],
   "execution_count": 173
  },
  {
   "metadata": {
    "ExecuteTime": {
     "end_time": "2024-05-06T06:42:09.207671Z",
     "start_time": "2024-05-06T06:42:09.199851Z"
    }
   },
   "cell_type": "code",
   "source": [
    "modr_AMB_PA = AMB_PA['EMINA sumatoris comparats'].between(6, 10)\n",
    "Percentatge_modr_AMB_PA = modr_AMB_PA.mean() * 100\n",
    "num_observacions_modr_AMB_PA = modr_AMB_PA.sum()\n",
    "\n",
    "print(f\"Percentatge de modr_AMB_PA: {Percentatge_modr_AMB_PA:.2f}%\")\n",
    "print(f\"Nombre d'observacions en modr_AMB_PA: {num_observacions_modr_AMB_PA}\")"
   ],
   "id": "e83559c6b51c4aba",
   "outputs": [
    {
     "name": "stdout",
     "output_type": "stream",
     "text": [
      "Percentatge de modr_AMB_PA: 64.71%\n",
      "Nombre d'observacions en modr_AMB_PA: 11\n"
     ]
    }
   ],
   "execution_count": 174
  },
  {
   "metadata": {
    "ExecuteTime": {
     "end_time": "2024-05-06T06:42:09.835241Z",
     "start_time": "2024-05-06T06:42:09.823343Z"
    }
   },
   "cell_type": "code",
   "source": [
    "highr_AMB_PA = AMB_PA['EMINA sumatoris comparats'].between(11, 15)\n",
    "Percentatge_highr_AMB_PA = highr_AMB_PA.mean() * 100\n",
    "num_observacions_highr_AMB_PA = highr_AMB_PA.sum()\n",
    "\n",
    "print(f\"Percentatge de highr_AMB_PA: {Percentatge_highr_AMB_PA:.2f}%\")\n",
    "print(f\"Nombre d'observacions en highr_AMB_PA: {num_observacions_highr_AMB_PA}\")"
   ],
   "id": "65093dd3b95effd9",
   "outputs": [
    {
     "name": "stdout",
     "output_type": "stream",
     "text": [
      "Percentatge de highr_AMB_PA: 17.65%\n",
      "Nombre d'observacions en highr_AMB_PA: 3\n"
     ]
    }
   ],
   "execution_count": 175
  },
  {
   "metadata": {},
   "cell_type": "markdown",
   "source": "##### AMB_PA_MECVV",
   "id": "3b6e67f92fff0a50"
  },
  {
   "metadata": {
    "ExecuteTime": {
     "end_time": "2024-05-06T06:42:10.779867Z",
     "start_time": "2024-05-06T06:42:10.770983Z"
    }
   },
   "cell_type": "code",
   "source": [
    "lowr_AMB_PA_MECVV = AMB_PA_MECVV['EMINA sumatoris comparats'].between(0, 5)\n",
    "Percentatge_lowr_AMB_PA_MECVV = lowr_AMB_PA_MECVV.mean() * 100\n",
    "num_observacions_lowr_AMB_PA_MECVV = lowr_AMB_PA_MECVV.sum()\n",
    "\n",
    "print(f\"Percentatge de lowr_AMB_PA_MECVV: {Percentatge_lowr_AMB_PA_MECVV:.2f}%\")\n",
    "print(f\"Nombre d'observacions en lowr_AMB_PA_MECVV: {num_observacions_lowr_AMB_PA_MECVV}\")"
   ],
   "id": "adaaabe63e2f49be",
   "outputs": [
    {
     "name": "stdout",
     "output_type": "stream",
     "text": [
      "Percentatge de lowr_AMB_PA_MECVV: 0.00%\n",
      "Nombre d'observacions en lowr_AMB_PA_MECVV: 0\n"
     ]
    }
   ],
   "execution_count": 176
  },
  {
   "metadata": {
    "ExecuteTime": {
     "end_time": "2024-05-06T06:42:11.435938Z",
     "start_time": "2024-05-06T06:42:11.425899Z"
    }
   },
   "cell_type": "code",
   "source": [
    "modr_AMB_PA_MECVV = AMB_PA_MECVV['EMINA sumatoris comparats'].between(6, 10)\n",
    "Percentatge_modr_AMB_PA_MECVV = modr_AMB_PA_MECVV.mean() * 100\n",
    "num_observacions_modr_AMB_PA_MECVV = modr_AMB_PA_MECVV.sum()\n",
    "\n",
    "print(f\"Percentatge de modr_AMB_PA_MECVV: {Percentatge_modr_AMB_PA_MECVV:.2f}%\")\n",
    "print(f\"Nombre d'observacions en modr_AMB_PA_MECVV: {num_observacions_modr_AMB_PA_MECVV}\")"
   ],
   "id": "2d28ddd8a3cf1676",
   "outputs": [
    {
     "name": "stdout",
     "output_type": "stream",
     "text": [
      "Percentatge de modr_AMB_PA_MECVV: 87.50%\n",
      "Nombre d'observacions en modr_AMB_PA_MECVV: 7\n"
     ]
    }
   ],
   "execution_count": 177
  },
  {
   "metadata": {
    "ExecuteTime": {
     "end_time": "2024-05-06T06:42:12.359724Z",
     "start_time": "2024-05-06T06:42:12.350576Z"
    }
   },
   "cell_type": "code",
   "source": [
    "highr_AMB_PA_MECVV = AMB_PA_MECVV['EMINA sumatoris comparats'].between(11, 15)\n",
    "Percentatge_highr_AMB_PA_MECVV = highr_AMB_PA_MECVV.mean() * 100\n",
    "num_observacions_highr_AMB_PA_MECVV = highr_AMB_PA_MECVV.sum()\n",
    "\n",
    "print(f\"Percentatge de highr_AMB_PA_MECVV: {Percentatge_highr_AMB_PA_MECVV:.2f}%\")\n",
    "print(f\"Nombre d'observacions en highr_AMB_PA_MECVV: {num_observacions_highr_AMB_PA_MECVV}\")"
   ],
   "id": "fb4f6e91c54399f1",
   "outputs": [
    {
     "name": "stdout",
     "output_type": "stream",
     "text": [
      "Percentatge de highr_AMB_PA_MECVV: 12.50%\n",
      "Nombre d'observacions en highr_AMB_PA_MECVV: 1\n"
     ]
    }
   ],
   "execution_count": 178
  },
  {
   "metadata": {},
   "cell_type": "markdown",
   "source": "##### SENSE_PA",
   "id": "d04271a0bc855edb"
  },
  {
   "metadata": {
    "ExecuteTime": {
     "end_time": "2024-05-06T06:42:13.026751Z",
     "start_time": "2024-05-06T06:42:13.018152Z"
    }
   },
   "cell_type": "code",
   "source": [
    "lowr_SENSE_PA = SENSE_PA['EMINA sumatoris comparats'].between(0, 5)\n",
    "Percentatge_lowr_SENSE_PA = lowr_SENSE_PA.mean() * 100\n",
    "num_observacions_lowr_SENSE_PA = lowr_SENSE_PA.sum()\n",
    "\n",
    "print(f\"Percentatge de lowr_SENSE_PA: {Percentatge_lowr_SENSE_PA:.2f}%\")\n",
    "print(f\"Nombre d'observacions en lowr_SENSE_PA: {num_observacions_lowr_SENSE_PA}\")"
   ],
   "id": "cc1245eef9c28b6a",
   "outputs": [
    {
     "name": "stdout",
     "output_type": "stream",
     "text": [
      "Percentatge de lowr_SENSE_PA: 37.50%\n",
      "Nombre d'observacions en lowr_SENSE_PA: 3\n"
     ]
    }
   ],
   "execution_count": 179
  },
  {
   "metadata": {
    "ExecuteTime": {
     "end_time": "2024-05-06T06:42:13.917726Z",
     "start_time": "2024-05-06T06:42:13.906733Z"
    }
   },
   "cell_type": "code",
   "source": [
    "modr_SENSE_PA = SENSE_PA['EMINA sumatoris comparats'].between(6, 10)\n",
    "Percentatge_modr_SENSE_PA = modr_SENSE_PA.mean() * 100\n",
    "num_observacions_modr_SENSE_PA = modr_SENSE_PA.sum()\n",
    "\n",
    "print(f\"Percentatge de modr_SENSE_PA: {Percentatge_modr_SENSE_PA:.2f}%\")\n",
    "print(f\"Nombre d'observacions en modr_SENSE_PA: {num_observacions_modr_SENSE_PA}\")"
   ],
   "id": "7761893615ad9180",
   "outputs": [
    {
     "name": "stdout",
     "output_type": "stream",
     "text": [
      "Percentatge de modr_SENSE_PA: 62.50%\n",
      "Nombre d'observacions en modr_SENSE_PA: 5\n"
     ]
    }
   ],
   "execution_count": 180
  },
  {
   "metadata": {
    "ExecuteTime": {
     "end_time": "2024-05-06T06:42:14.585771Z",
     "start_time": "2024-05-06T06:42:14.576338Z"
    }
   },
   "cell_type": "code",
   "source": [
    "highr_SENSE_PA = SENSE_PA['EMINA sumatoris comparats'].between(11, 15)\n",
    "Percentatge_highr_SENSE_PA = highr_SENSE_PA.mean() * 100\n",
    "num_observacions_highr_SENSE_PA = highr_SENSE_PA.sum()\n",
    "\n",
    "print(f\"Percentatge de highr_SENSE_PA: {Percentatge_highr_SENSE_PA:.2f}%\")\n",
    "print(f\"Nombre d'observacions en highr_SENSE_PA: {num_observacions_highr_SENSE_PA}\")"
   ],
   "id": "b7b73c45237d7dc5",
   "outputs": [
    {
     "name": "stdout",
     "output_type": "stream",
     "text": [
      "Percentatge de highr_SENSE_PA: 0.00%\n",
      "Nombre d'observacions en highr_SENSE_PA: 0\n"
     ]
    }
   ],
   "execution_count": 181
  },
  {
   "metadata": {},
   "cell_type": "markdown",
   "source": "##### TOTAL",
   "id": "e3d3d169009c2905"
  },
  {
   "metadata": {
    "ExecuteTime": {
     "end_time": "2024-05-06T06:42:15.497730Z",
     "start_time": "2024-05-06T06:42:15.491924Z"
    }
   },
   "cell_type": "code",
   "source": [
    "lowr_TOTAL = TOTAL['EMINA sumatoris comparats'].between(0, 5)\n",
    "Percentatge_lowr_TOTAL = lowr_TOTAL.mean() * 100\n",
    "num_observacions_lowr_TOTAL = lowr_TOTAL.sum()\n",
    "\n",
    "print(f\"Percentatge de lowr_TOTAL: {Percentatge_lowr_TOTAL:.2f}%\")\n",
    "print(f\"Nombre d'observacions en lowr_TOTAL: {num_observacions_lowr_TOTAL}\")"
   ],
   "id": "cbbf8acd46831348",
   "outputs": [
    {
     "name": "stdout",
     "output_type": "stream",
     "text": [
      "Percentatge de lowr_TOTAL: 44.00%\n",
      "Nombre d'observacions en lowr_TOTAL: 22\n"
     ]
    }
   ],
   "execution_count": 182
  },
  {
   "metadata": {
    "ExecuteTime": {
     "end_time": "2024-05-06T06:42:16.130266Z",
     "start_time": "2024-05-06T06:42:16.121625Z"
    }
   },
   "cell_type": "code",
   "source": [
    "modr_TOTAL = TOTAL['EMINA sumatoris comparats'].between(6, 10)\n",
    "Percentatge_modr_TOTAL = modr_TOTAL.mean() * 100\n",
    "num_observacions_modr_TOTAL = modr_TOTAL.sum()\n",
    "\n",
    "print(f\"Percentatge de modr_TOTAL: {Percentatge_modr_TOTAL:.2f}%\")\n",
    "print(f\"Nombre d'observacions en modr_TOTAL: {num_observacions_modr_TOTAL}\")"
   ],
   "id": "fa1a84b92b81a5c6",
   "outputs": [
    {
     "name": "stdout",
     "output_type": "stream",
     "text": [
      "Percentatge de modr_TOTAL: 42.00%\n",
      "Nombre d'observacions en modr_TOTAL: 21\n"
     ]
    }
   ],
   "execution_count": 183
  },
  {
   "metadata": {
    "ExecuteTime": {
     "end_time": "2024-05-06T06:42:17.102319Z",
     "start_time": "2024-05-06T06:42:17.092974Z"
    }
   },
   "cell_type": "code",
   "source": [
    "highr_TOTAL = TOTAL['EMINA sumatoris comparats'].between(11, 15)\n",
    "Percentatge_highr_TOTAL = highr_TOTAL.mean() * 100\n",
    "num_observacions_highr_TOTAL = highr_TOTAL.sum()\n",
    "\n",
    "print(f\"Percentatge de highr_TOTAL: {Percentatge_highr_TOTAL:.2f}%\")\n",
    "print(f\"Nombre d'observacions en highr_TOTAL: {num_observacions_highr_TOTAL}\")"
   ],
   "id": "3e2d99046dde3bfc",
   "outputs": [
    {
     "name": "stdout",
     "output_type": "stream",
     "text": [
      "Percentatge de highr_TOTAL: 10.00%\n",
      "Nombre d'observacions en highr_TOTAL: 5\n"
     ]
    }
   ],
   "execution_count": 184
  },
  {
   "metadata": {},
   "cell_type": "markdown",
   "source": "#### Pvalor ",
   "id": "3baa7d3e12fb1cc"
  },
  {
   "metadata": {},
   "cell_type": "markdown",
   "source": "##### Risc baix",
   "id": "a0332f1a5433e16"
  },
  {
   "metadata": {
    "ExecuteTime": {
     "end_time": "2024-05-06T06:42:17.719168Z",
     "start_time": "2024-05-06T06:42:17.707265Z"
    }
   },
   "cell_type": "code",
   "source": [
    "t_stat_12, p_val_12 = ttest_ind(AMB_PA['EMINA sumatoris comparats'].between(0,5), AMB_PA_MECVV['EMINA sumatoris comparats'].between(0,5), equal_var=False)\n",
    "print(\"P-valor entre AMB_PA i AMB_PA_MECVV:\", p_val_12)"
   ],
   "id": "a4c504c10fa639c8",
   "outputs": [
    {
     "name": "stdout",
     "output_type": "stream",
     "text": [
      "P-valor entre AMB_PA i AMB_PA_MECVV: 0.08262239198015026\n"
     ]
    }
   ],
   "execution_count": 185
  },
  {
   "metadata": {
    "ExecuteTime": {
     "end_time": "2024-05-06T06:42:18.618697Z",
     "start_time": "2024-05-06T06:42:18.604984Z"
    }
   },
   "cell_type": "code",
   "source": [
    "t_stat_13, p_val_13 = ttest_ind(AMB_PA['EMINA sumatoris comparats'].between(0,5), SENSE_PA['EMINA sumatoris comparats'].between(0,5), equal_var=False)\n",
    "print(\"P-valor entre AMB_PA i SENSE_PA:\", p_val_13)"
   ],
   "id": "ac1ec771898cce9b",
   "outputs": [
    {
     "name": "stdout",
     "output_type": "stream",
     "text": [
      "P-valor entre AMB_PA i SENSE_PA: 0.35666312890880325\n"
     ]
    }
   ],
   "execution_count": 186
  },
  {
   "metadata": {
    "ExecuteTime": {
     "end_time": "2024-05-06T06:42:19.320885Z",
     "start_time": "2024-05-06T06:42:19.306354Z"
    }
   },
   "cell_type": "code",
   "source": [
    "t_stat_23, p_val_23 = ttest_ind(AMB_PA_MECVV['EMINA sumatoris comparats'].between(0,5), SENSE_PA['EMINA sumatoris comparats'].between(0,5), equal_var=False)\n",
    "print(\"P-valor entre AMB_PA_MECVV i SENSE_PA:\", p_val_23)"
   ],
   "id": "85095f67777cc3d1",
   "outputs": [
    {
     "name": "stdout",
     "output_type": "stream",
     "text": [
      "P-valor entre AMB_PA_MECVV i SENSE_PA: 0.07960201245519757\n"
     ]
    }
   ],
   "execution_count": 187
  },
  {
   "metadata": {
    "ExecuteTime": {
     "end_time": "2024-05-06T06:42:20.198516Z",
     "start_time": "2024-05-06T06:42:20.189346Z"
    }
   },
   "cell_type": "code",
   "source": [
    "t_stat_14, p_val_14 = ttest_ind(AMB_PA['EMINA sumatoris comparats'].between(0,5), TOTAL['EMINA sumatoris comparats'].between(0,5), equal_var=False)\n",
    "print(\"P-valor entre AMB_PA i TOTAL:\", p_val_14)"
   ],
   "id": "cac1a0dc6efe117a",
   "outputs": [
    {
     "name": "stdout",
     "output_type": "stream",
     "text": [
      "P-valor entre AMB_PA i TOTAL: 0.03308917948035935\n"
     ]
    }
   ],
   "execution_count": 188
  },
  {
   "metadata": {
    "ExecuteTime": {
     "end_time": "2024-05-06T06:42:20.896610Z",
     "start_time": "2024-05-06T06:42:20.883544Z"
    }
   },
   "cell_type": "code",
   "source": [
    "t_stat_24, p_val_24 = ttest_ind(AMB_PA_MECVV['EMINA sumatoris comparats'].between(0,5), TOTAL['EMINA sumatoris comparats'].between(0,5), equal_var=False)\n",
    "print(\"P-valor entre AMB_PA_MECVV i TOTAL:\", p_val_24)"
   ],
   "id": "dc26d57381da8ea2",
   "outputs": [
    {
     "name": "stdout",
     "output_type": "stream",
     "text": [
      "P-valor entre AMB_PA_MECVV i TOTAL: 1.1304487497657605e-07\n"
     ]
    }
   ],
   "execution_count": 189
  },
  {
   "metadata": {
    "ExecuteTime": {
     "end_time": "2024-05-06T06:42:21.877153Z",
     "start_time": "2024-05-06T06:42:21.859020Z"
    }
   },
   "cell_type": "code",
   "source": [
    "t_stat_34, p_val_34 = ttest_ind(SENSE_PA['EMINA sumatoris comparats'].between(0,5), TOTAL['EMINA sumatoris comparats'].between(0,5), equal_var=False)\n",
    "print(\"P-valor entre SENSE_PA i TOTAL:\", p_val_34)"
   ],
   "id": "23a82a896d749a91",
   "outputs": [
    {
     "name": "stdout",
     "output_type": "stream",
     "text": [
      "P-valor entre SENSE_PA i TOTAL: 0.7478706542699041\n"
     ]
    }
   ],
   "execution_count": 190
  },
  {
   "metadata": {},
   "cell_type": "markdown",
   "source": "##### Risc moderat",
   "id": "bc56bb9041c8190"
  },
  {
   "metadata": {
    "ExecuteTime": {
     "end_time": "2024-05-06T06:42:22.599459Z",
     "start_time": "2024-05-06T06:42:22.585046Z"
    }
   },
   "cell_type": "code",
   "source": [
    "t_stat_12, p_val_12 = ttest_ind(AMB_PA['EMINA sumatoris comparats'].between(6,10), AMB_PA_MECVV['EMINA sumatoris comparats'].between(6,10), equal_var=False)\n",
    "print(\"P-valor entre AMB_PA i AMB_PA_MECVV:\", p_val_12)"
   ],
   "id": "3b06f7bb9555b9c8",
   "outputs": [
    {
     "name": "stdout",
     "output_type": "stream",
     "text": [
      "P-valor entre AMB_PA i AMB_PA_MECVV: 0.20327534354395935\n"
     ]
    }
   ],
   "execution_count": 191
  },
  {
   "metadata": {
    "ExecuteTime": {
     "end_time": "2024-05-06T06:42:23.725808Z",
     "start_time": "2024-05-06T06:42:23.717322Z"
    }
   },
   "cell_type": "code",
   "source": [
    "t_stat_13, p_val_13 = ttest_ind(AMB_PA['EMINA sumatoris comparats'].between(6,10), SENSE_PA['EMINA sumatoris comparats'].between(6,10), equal_var=False)\n",
    "print(\"P-valor entre AMB_PA i SENSE_PA:\", p_val_13)"
   ],
   "id": "6bc38a3f8e4cb31c",
   "outputs": [
    {
     "name": "stdout",
     "output_type": "stream",
     "text": [
      "P-valor entre AMB_PA i SENSE_PA: 0.9211148458207754\n"
     ]
    }
   ],
   "execution_count": 192
  },
  {
   "metadata": {
    "ExecuteTime": {
     "end_time": "2024-05-06T06:42:24.384281Z",
     "start_time": "2024-05-06T06:42:24.373604Z"
    }
   },
   "cell_type": "code",
   "source": [
    "t_stat_23, p_val_23 = ttest_ind(AMB_PA_MECVV['EMINA sumatoris comparats'].between(6,10), SENSE_PA['EMINA sumatoris comparats'].between(6,10), equal_var=False)\n",
    "print(\"P-valor entre AMB_PA_MECVV i SENSE_PA:\", p_val_23)"
   ],
   "id": "5724be35a0f2dd6a",
   "outputs": [
    {
     "name": "stdout",
     "output_type": "stream",
     "text": [
      "P-valor entre AMB_PA_MECVV i SENSE_PA: 0.2806702345204662\n"
     ]
    }
   ],
   "execution_count": 193
  },
  {
   "metadata": {
    "ExecuteTime": {
     "end_time": "2024-05-06T06:42:25.388880Z",
     "start_time": "2024-05-06T06:42:25.375957Z"
    }
   },
   "cell_type": "code",
   "source": [
    "t_stat_14, p_val_14 = ttest_ind(AMB_PA['EMINA sumatoris comparats'].between(6,10), TOTAL['EMINA sumatoris comparats'].between(6,10), equal_var=False)\n",
    "print(\"P-valor entre AMB_PA i TOTAL:\", p_val_14)"
   ],
   "id": "a8d03ddb13e97728",
   "outputs": [
    {
     "name": "stdout",
     "output_type": "stream",
     "text": [
      "P-valor entre AMB_PA i TOTAL: 0.1128840194536276\n"
     ]
    }
   ],
   "execution_count": 194
  },
  {
   "metadata": {
    "ExecuteTime": {
     "end_time": "2024-05-06T06:42:26.286533Z",
     "start_time": "2024-05-06T06:42:26.275860Z"
    }
   },
   "cell_type": "code",
   "source": [
    "t_stat_24, p_val_24 = ttest_ind(AMB_PA_MECVV['EMINA sumatoris comparats'].between(6,10), TOTAL['EMINA sumatoris comparats'].between(6,10), equal_var=False)\n",
    "print(\"P-valor entre AMB_PA_MECVV i TOTAL:\", p_val_24)"
   ],
   "id": "9a9553294b295ad5",
   "outputs": [
    {
     "name": "stdout",
     "output_type": "stream",
     "text": [
      "P-valor entre AMB_PA_MECVV i TOTAL: 0.008071365716514525\n"
     ]
    }
   ],
   "execution_count": 195
  },
  {
   "metadata": {
    "ExecuteTime": {
     "end_time": "2024-05-06T06:42:27.245097Z",
     "start_time": "2024-05-06T06:42:27.227671Z"
    }
   },
   "cell_type": "code",
   "source": [
    "t_stat_34, p_val_34 = ttest_ind(SENSE_PA['EMINA sumatoris comparats'].between(6,10), TOTAL['EMINA sumatoris comparats'].between(6,10), equal_var=False)\n",
    "print(\"P-valor entre SENSE_PA i TOTAL:\", p_val_34)"
   ],
   "id": "31174746dfda2d9a",
   "outputs": [
    {
     "name": "stdout",
     "output_type": "stream",
     "text": [
      "P-valor entre SENSE_PA i TOTAL: 0.32251221712017597\n"
     ]
    }
   ],
   "execution_count": 196
  },
  {
   "metadata": {},
   "cell_type": "markdown",
   "source": "##### Risc alt",
   "id": "5fd7cd0228563415"
  },
  {
   "metadata": {
    "ExecuteTime": {
     "end_time": "2024-05-06T06:42:27.852770Z",
     "start_time": "2024-05-06T06:42:27.843266Z"
    }
   },
   "cell_type": "code",
   "source": [
    "t_stat_12, p_val_12 = ttest_ind(AMB_PA['EMINA sumatoris comparats'].between(11,15), AMB_PA_MECVV['EMINA sumatoris comparats'].between(11,15), equal_var=False)\n",
    "print(\"P-valor entre AMB_PA i AMB_PA_MECVV:\", p_val_12)"
   ],
   "id": "b291b49b7cfd7801",
   "outputs": [
    {
     "name": "stdout",
     "output_type": "stream",
     "text": [
      "P-valor entre AMB_PA i AMB_PA_MECVV: 0.7477825496543375\n"
     ]
    }
   ],
   "execution_count": 197
  },
  {
   "metadata": {
    "ExecuteTime": {
     "end_time": "2024-05-06T06:42:28.947155Z",
     "start_time": "2024-05-06T06:42:28.929832Z"
    }
   },
   "cell_type": "code",
   "source": [
    "t_stat_13, p_val_13 = ttest_ind(AMB_PA['EMINA sumatoris comparats'].between(11,15), SENSE_PA['EMINA sumatoris comparats'].between(11,15), equal_var=False)\n",
    "print(\"P-valor entre AMB_PA i SENSE_PA:\", p_val_13)"
   ],
   "id": "2d400de538a5c526",
   "outputs": [
    {
     "name": "stdout",
     "output_type": "stream",
     "text": [
      "P-valor entre AMB_PA i SENSE_PA: 0.08262239198015026\n"
     ]
    }
   ],
   "execution_count": 198
  },
  {
   "metadata": {
    "ExecuteTime": {
     "end_time": "2024-05-06T06:42:29.551079Z",
     "start_time": "2024-05-06T06:42:29.541659Z"
    }
   },
   "cell_type": "code",
   "source": [
    "t_stat_23, p_val_23 = ttest_ind(AMB_PA_MECVV['EMINA sumatoris comparats'].between(11,15), SENSE_PA['EMINA sumatoris comparats'].between(11,15), equal_var=False)\n",
    "print(\"P-valor entre AMB_PA_MECVV i SENSE_PA:\", p_val_23)"
   ],
   "id": "3b22981463d49b29",
   "outputs": [
    {
     "name": "stdout",
     "output_type": "stream",
     "text": [
      "P-valor entre AMB_PA_MECVV i SENSE_PA: 0.3506166628202075\n"
     ]
    }
   ],
   "execution_count": 199
  },
  {
   "metadata": {
    "ExecuteTime": {
     "end_time": "2024-05-06T06:42:30.346853Z",
     "start_time": "2024-05-06T06:42:30.331577Z"
    }
   },
   "cell_type": "code",
   "source": [
    "t_stat_14, p_val_14 = ttest_ind(AMB_PA['EMINA sumatoris comparats'].between(11,15), TOTAL['EMINA sumatoris comparats'].between(11,15), equal_var=False)\n",
    "print(\"P-valor entre AMB_PA i TOTAL:\", p_val_14)"
   ],
   "id": "e8e88836ff43adfd",
   "outputs": [
    {
     "name": "stdout",
     "output_type": "stream",
     "text": [
      "P-valor entre AMB_PA i TOTAL: 0.47174454674638366\n"
     ]
    }
   ],
   "execution_count": 200
  },
  {
   "metadata": {
    "ExecuteTime": {
     "end_time": "2024-05-06T06:42:30.964341Z",
     "start_time": "2024-05-06T06:42:30.950298Z"
    }
   },
   "cell_type": "code",
   "source": [
    "t_stat_24, p_val_24 = ttest_ind(AMB_PA_MECVV['EMINA sumatoris comparats'].between(11,15), TOTAL['EMINA sumatoris comparats'].between(11,15), equal_var=False)\n",
    "print(\"P-valor entre AMB_PA_MECVV i TOTAL:\", p_val_24)"
   ],
   "id": "16d75fa2497a7ec0",
   "outputs": [
    {
     "name": "stdout",
     "output_type": "stream",
     "text": [
      "P-valor entre AMB_PA_MECVV i TOTAL: 0.8542719807570616\n"
     ]
    }
   ],
   "execution_count": 201
  },
  {
   "metadata": {
    "ExecuteTime": {
     "end_time": "2024-05-06T06:42:31.804347Z",
     "start_time": "2024-05-06T06:42:31.792039Z"
    }
   },
   "cell_type": "code",
   "source": [
    "t_stat_34, p_val_34 = ttest_ind(SENSE_PA['EMINA sumatoris comparats'].between(11,15), TOTAL['EMINA sumatoris comparats'].between(11,15), equal_var=False)\n",
    "print(\"P-valor entre SENSE_PA i TOTAL:\", p_val_34)"
   ],
   "id": "b9750e1912eb7d82",
   "outputs": [
    {
     "name": "stdout",
     "output_type": "stream",
     "text": [
      "P-valor entre SENSE_PA i TOTAL: 0.02377846612391613\n"
     ]
    }
   ],
   "execution_count": 202
  },
  {
   "metadata": {},
   "cell_type": "markdown",
   "source": "## Index de la canadenca (escala neurològica canadenca)",
   "id": "5056539fa7987019"
  },
  {
   "metadata": {},
   "cell_type": "markdown",
   "source": "### Mitjana",
   "id": "de9fe3b93db47a5d"
  },
  {
   "metadata": {
    "ExecuteTime": {
     "end_time": "2024-05-06T06:42:32.431247Z",
     "start_time": "2024-05-06T06:42:32.418929Z"
    }
   },
   "cell_type": "code",
   "source": [
    "Mitjana_canad = AMB_PA['Canadenca sumatoris comparats'].mean()\n",
    "desviacio_estandard_canad = AMB_PA['Canadenca sumatoris comparats'].std()\n",
    "\n",
    "resultat = f\"{Mitjana_canad:.2f} ± {desviacio_estandard_canad:.2f}\"\n",
    "print(\"Mitjana ± Desviació Estàndard de la canadenca:\", resultat)"
   ],
   "id": "f315485a25330ace",
   "outputs": [
    {
     "name": "stdout",
     "output_type": "stream",
     "text": [
      "Mitjana ± Desviació Estàndard de la canadenca: 7.00 ± nan\n"
     ]
    }
   ],
   "execution_count": 203
  },
  {
   "metadata": {
    "ExecuteTime": {
     "end_time": "2024-05-06T06:42:33.334048Z",
     "start_time": "2024-05-06T06:42:33.327307Z"
    }
   },
   "cell_type": "code",
   "source": [
    "Mitjana_canad = AMB_PA_MECVV['Canadenca sumatoris comparats'].mean()\n",
    "desviacio_estandard_canad = AMB_PA_MECVV['Canadenca sumatoris comparats'].std()\n",
    "\n",
    "resultat = f\"{Mitjana_canad:.2f} ± {desviacio_estandard_canad:.2f}\"\n",
    "print(\"Mitjana ± Desviació Estàndard de la canadenca:\", resultat)"
   ],
   "id": "42578915c64daa4c",
   "outputs": [
    {
     "name": "stdout",
     "output_type": "stream",
     "text": [
      "Mitjana ± Desviació Estàndard de la canadenca: nan ± nan\n"
     ]
    }
   ],
   "execution_count": 204
  },
  {
   "metadata": {
    "ExecuteTime": {
     "end_time": "2024-05-06T06:42:33.958743Z",
     "start_time": "2024-05-06T06:42:33.949258Z"
    }
   },
   "cell_type": "code",
   "source": [
    "Mitjana_canad = SENSE_PA['Canadenca sumatoris comparats'].mean()\n",
    "desviacio_estandard_canad = SENSE_PA['Canadenca sumatoris comparats'].std()\n",
    "\n",
    "resultat = f\"{Mitjana_canad:.2f} ± {desviacio_estandard_canad:.2f}\"\n",
    "print(\"Mitjana ± Desviació Estàndard de la canadenca:\", resultat)"
   ],
   "id": "28244115d66ef30d",
   "outputs": [
    {
     "name": "stdout",
     "output_type": "stream",
     "text": [
      "Mitjana ± Desviació Estàndard de la canadenca: 7.00 ± nan\n"
     ]
    }
   ],
   "execution_count": 205
  },
  {
   "metadata": {
    "ExecuteTime": {
     "end_time": "2024-05-06T06:42:34.805544Z",
     "start_time": "2024-05-06T06:42:34.799491Z"
    }
   },
   "cell_type": "code",
   "source": [
    "Mitjana_canad = TOTAL['Canadenca sumatoris comparats'].mean()\n",
    "desviacio_estandard_canad = TOTAL['Canadenca sumatoris comparats'].std()\n",
    "\n",
    "resultat = f\"{Mitjana_canad:.2f} ± {desviacio_estandard_canad:.2f}\"\n",
    "print(\"Mitjana ± Desviació Estàndard de la canadenca:\", resultat)"
   ],
   "id": "318315e795758888",
   "outputs": [
    {
     "name": "stdout",
     "output_type": "stream",
     "text": [
      "Mitjana ± Desviació Estàndard de la canadenca: 8.00 ± 1.41\n"
     ]
    }
   ],
   "execution_count": 206
  },
  {
   "metadata": {},
   "cell_type": "markdown",
   "source": "#### Pvalor",
   "id": "6354bda0e179eb04"
  },
  {
   "metadata": {},
   "cell_type": "markdown",
   "source": "##### Normalitat",
   "id": "938ad17a698e9c0c"
  },
  {
   "metadata": {
    "ExecuteTime": {
     "end_time": "2024-05-06T06:42:35.518449Z",
     "start_time": "2024-05-06T06:42:35.505848Z"
    }
   },
   "cell_type": "code",
   "source": [
    "stat, p_value = shapiro(AMB_PA['Canadenca sumatoris comparats'])\n",
    "print(f\"Estadístic W = {stat:.4f}\")\n",
    "print(f\"Valor p = {p_value:.4f}\")\n",
    "\n",
    "alpha = 0.05\n",
    "if p_value < alpha:\n",
    "    print(\"El nombre de files no segueix una distribució normal.\")\n",
    "else:\n",
    "    print(\"El nombre de files segueix una distribució normal.\")"
   ],
   "id": "a4c87af407fd3808",
   "outputs": [
    {
     "name": "stdout",
     "output_type": "stream",
     "text": [
      "Estadístic W = nan\n",
      "Valor p = nan\n",
      "El nombre de files segueix una distribució normal.\n"
     ]
    }
   ],
   "execution_count": 207
  },
  {
   "metadata": {
    "ExecuteTime": {
     "end_time": "2024-05-06T06:42:36.474588Z",
     "start_time": "2024-05-06T06:42:36.465435Z"
    }
   },
   "cell_type": "code",
   "source": [
    "stat, p_value = shapiro(AMB_PA_MECVV['Canadenca sumatoris comparats'])\n",
    "print(f\"Estadístic W = {stat:.4f}\")\n",
    "print(f\"Valor p = {p_value:.4f}\")\n",
    "\n",
    "alpha = 0.05\n",
    "if p_value < alpha:\n",
    "    print(\"El nombre de files no segueix una distribució normal.\")\n",
    "else:\n",
    "    print(\"El nombre de files segueix una distribució normal.\")"
   ],
   "id": "dcf3d0c7212275ae",
   "outputs": [
    {
     "name": "stdout",
     "output_type": "stream",
     "text": [
      "Estadístic W = nan\n",
      "Valor p = nan\n",
      "El nombre de files segueix una distribució normal.\n"
     ]
    }
   ],
   "execution_count": 208
  },
  {
   "metadata": {
    "ExecuteTime": {
     "end_time": "2024-05-06T06:42:37.189307Z",
     "start_time": "2024-05-06T06:42:37.183642Z"
    }
   },
   "cell_type": "code",
   "source": [
    "stat, p_value = shapiro(SENSE_PA['Canadenca sumatoris comparats'])\n",
    "print(f\"Estadístic W = {stat:.4f}\")\n",
    "print(f\"Valor p = {p_value:.4f}\")\n",
    "\n",
    "alpha = 0.05\n",
    "if p_value < alpha:\n",
    "    print(\"El nombre de files no segueix una distribució normal.\")\n",
    "else:\n",
    "    print(\"El nombre de files segueix una distribució normal.\")"
   ],
   "id": "8da47ac594412fe2",
   "outputs": [
    {
     "name": "stdout",
     "output_type": "stream",
     "text": [
      "Estadístic W = nan\n",
      "Valor p = nan\n",
      "El nombre de files segueix una distribució normal.\n"
     ]
    }
   ],
   "execution_count": 209
  },
  {
   "metadata": {
    "ExecuteTime": {
     "end_time": "2024-05-06T06:42:38.082276Z",
     "start_time": "2024-05-06T06:42:38.068609Z"
    }
   },
   "cell_type": "code",
   "source": [
    "stat, p_value = shapiro(TOTAL['Canadenca sumatoris comparats'])\n",
    "print(f\"Estadístic W = {stat:.4f}\")\n",
    "print(f\"Valor p = {p_value:.4f}\")\n",
    "\n",
    "alpha = 0.05\n",
    "if p_value < alpha:\n",
    "    print(\"El nombre de files no segueix una distribució normal.\")\n",
    "else:\n",
    "    print(\"El nombre de files segueix una distribució normal.\")"
   ],
   "id": "cb62e89490bc560e",
   "outputs": [
    {
     "name": "stdout",
     "output_type": "stream",
     "text": [
      "Estadístic W = nan\n",
      "Valor p = nan\n",
      "El nombre de files segueix una distribució normal.\n"
     ]
    }
   ],
   "execution_count": 210
  },
  {
   "metadata": {
    "ExecuteTime": {
     "end_time": "2024-05-06T06:42:38.747868Z",
     "start_time": "2024-05-06T06:42:38.736764Z"
    }
   },
   "cell_type": "code",
   "source": [
    "t_stat_12, p_val_12 = ttest_ind(AMB_PA['Canadenca sumatoris comparats'], AMB_PA_MECVV['Canadenca sumatoris comparats'], equal_var=False)\n",
    "print(\"P-valor entre AMB_PA i AMB_PA_MECVV:\", p_val_12)"
   ],
   "id": "607d662547537bd",
   "outputs": [
    {
     "name": "stdout",
     "output_type": "stream",
     "text": [
      "P-valor entre AMB_PA i AMB_PA_MECVV: nan\n"
     ]
    }
   ],
   "execution_count": 211
  },
  {
   "metadata": {
    "ExecuteTime": {
     "end_time": "2024-05-06T06:42:39.565991Z",
     "start_time": "2024-05-06T06:42:39.556395Z"
    }
   },
   "cell_type": "code",
   "source": [
    "t_stat_13, p_val_13 = ttest_ind(AMB_PA['Canadenca sumatoris comparats'], SENSE_PA['Canadenca sumatoris comparats'], equal_var=False)\n",
    "print(\"P-valor entre AMB_PA i SENSE_PA:\", p_val_13)"
   ],
   "id": "9e5b0ff4c887dbfd",
   "outputs": [
    {
     "name": "stdout",
     "output_type": "stream",
     "text": [
      "P-valor entre AMB_PA i SENSE_PA: nan\n"
     ]
    }
   ],
   "execution_count": 212
  },
  {
   "metadata": {
    "ExecuteTime": {
     "end_time": "2024-05-06T06:42:40.227142Z",
     "start_time": "2024-05-06T06:42:40.216951Z"
    }
   },
   "cell_type": "code",
   "source": [
    "t_stat_23, p_val_23 = ttest_ind(AMB_PA_MECVV['Canadenca sumatoris comparats'], SENSE_PA['Canadenca sumatoris comparats'], equal_var=False)\n",
    "print(\"P-valor entre AMB_PA_MECVV i SENSE_PA:\", p_val_23)"
   ],
   "id": "1ea57b7e52ab052d",
   "outputs": [
    {
     "name": "stdout",
     "output_type": "stream",
     "text": [
      "P-valor entre AMB_PA_MECVV i SENSE_PA: nan\n"
     ]
    }
   ],
   "execution_count": 213
  },
  {
   "metadata": {
    "ExecuteTime": {
     "end_time": "2024-05-06T06:42:41.012083Z",
     "start_time": "2024-05-06T06:42:41.000094Z"
    }
   },
   "cell_type": "code",
   "source": [
    "t_stat_14, p_val_14 = ttest_ind(AMB_PA['Canadenca sumatoris comparats'], TOTAL['Canadenca sumatoris comparats'], equal_var=False)\n",
    "print(\"P-valor entre AMB_PA i TOTAL:\", p_val_14)"
   ],
   "id": "fa68f97bae987a7c",
   "outputs": [
    {
     "name": "stdout",
     "output_type": "stream",
     "text": [
      "P-valor entre AMB_PA i TOTAL: nan\n"
     ]
    }
   ],
   "execution_count": 214
  },
  {
   "metadata": {
    "ExecuteTime": {
     "end_time": "2024-05-06T06:42:41.721283Z",
     "start_time": "2024-05-06T06:42:41.712210Z"
    }
   },
   "cell_type": "code",
   "source": [
    "t_stat_24, p_val_24 = ttest_ind(AMB_PA_MECVV['Canadenca sumatoris comparats'], TOTAL['Canadenca sumatoris comparats'], equal_var=False)\n",
    "print(\"P-valor entre AMB_PA_MECVV i TOTAL:\", p_val_24)"
   ],
   "id": "af247bcf43601bfb",
   "outputs": [
    {
     "name": "stdout",
     "output_type": "stream",
     "text": [
      "P-valor entre AMB_PA_MECVV i TOTAL: nan\n"
     ]
    }
   ],
   "execution_count": 215
  },
  {
   "metadata": {
    "ExecuteTime": {
     "end_time": "2024-05-06T06:42:42.926041Z",
     "start_time": "2024-05-06T06:42:42.909591Z"
    }
   },
   "cell_type": "code",
   "source": [
    "t_stat_34, p_val_34 = ttest_ind(SENSE_PA['Canadenca sumatoris comparats'], TOTAL['Canadenca sumatoris comparats'], equal_var=False)\n",
    "print(\"P-valor entre SENSE_PA i TOTAL:\", p_val_34)"
   ],
   "id": "e4e6267883c1efb",
   "outputs": [
    {
     "name": "stdout",
     "output_type": "stream",
     "text": [
      "P-valor entre SENSE_PA i TOTAL: nan\n"
     ]
    }
   ],
   "execution_count": 216
  },
  {
   "metadata": {},
   "cell_type": "markdown",
   "source": "### Valors canadenca",
   "id": "bd3bf859cf9f0c4c"
  },
  {
   "metadata": {},
   "cell_type": "markdown",
   "source": "##### AMB_PA ",
   "id": "aba9b47507424343"
  },
  {
   "metadata": {
    "ExecuteTime": {
     "end_time": "2024-05-06T06:42:43.491611Z",
     "start_time": "2024-05-06T06:42:43.481197Z"
    }
   },
   "cell_type": "code",
   "source": [
    "mild_AMB_PA = AMB_PA['Canadenca sumatoris comparats'].between(10.5, 11.5)\n",
    "Percentatge_mild_AMB_PA = mild_AMB_PA.mean() * 100\n",
    "num_observacions_mild_AMB_PA = mild_AMB_PA.sum()\n",
    "\n",
    "print(f\"Percentatge de mild_AMB_PA: {Percentatge_mild_AMB_PA:.2f}%\")\n",
    "print(f\"Nombre d'observacions en mild_AMB_PA: {num_observacions_mild_AMB_PA}\")"
   ],
   "id": "65c87765592301ae",
   "outputs": [
    {
     "name": "stdout",
     "output_type": "stream",
     "text": [
      "Percentatge de mild_AMB_PA: 0.00%\n",
      "Nombre d'observacions en mild_AMB_PA: 0\n"
     ]
    }
   ],
   "execution_count": 217
  },
  {
   "metadata": {
    "ExecuteTime": {
     "end_time": "2024-05-06T06:42:44.448941Z",
     "start_time": "2024-05-06T06:42:44.441277Z"
    }
   },
   "cell_type": "code",
   "source": [
    "modneu_AMB_PA = AMB_PA['Canadenca sumatoris comparats'].between(5,10)\n",
    "Percentatge_modneu_AMB_PA = modneu_AMB_PA.mean() * 100\n",
    "num_observacions_modneu_AMB_PA = modneu_AMB_PA.sum()\n",
    "\n",
    "print(f\"Percentatge de modneu_AMB_PA: {Percentatge_modneu_AMB_PA:.2f}%\")\n",
    "print(f\"Nombre d'observacions en modneu_AMB_PA: {num_observacions_modneu_AMB_PA}\")"
   ],
   "id": "1442231e84ac756e",
   "outputs": [
    {
     "name": "stdout",
     "output_type": "stream",
     "text": [
      "Percentatge de modneu_AMB_PA: 5.88%\n",
      "Nombre d'observacions en modneu_AMB_PA: 1\n"
     ]
    }
   ],
   "execution_count": 218
  },
  {
   "metadata": {
    "ExecuteTime": {
     "end_time": "2024-05-06T06:42:47.788896Z",
     "start_time": "2024-05-06T06:42:47.778939Z"
    }
   },
   "cell_type": "code",
   "source": [
    "sevneu_AMB_PA = AMB_PA['Canadenca sumatoris comparats'].between(1.5, 4.5)\n",
    "Percentatge_sevneu_AMB_PA = sevneu_AMB_PA.mean() * 100\n",
    "num_observacions_sevneu_AMB_PA = sevneu_AMB_PA.sum()\n",
    "\n",
    "print(f\"Percentatge de sevneu_AMB_PA: {Percentatge_sevneu_AMB_PA:.2f}%\")\n",
    "print(f\"Nombre d'observacions en sevneu_AMB_PA: {num_observacions_sevneu_AMB_PA}\")"
   ],
   "id": "586734927dd28815",
   "outputs": [
    {
     "name": "stdout",
     "output_type": "stream",
     "text": [
      "Percentatge de sevneu_AMB_PA: 0.00%\n",
      "Nombre d'observacions en sevneu_AMB_PA: 0\n"
     ]
    }
   ],
   "execution_count": 219
  },
  {
   "metadata": {},
   "cell_type": "markdown",
   "source": "##### AMB_PA_MECVV",
   "id": "f03643daf5c46168"
  },
  {
   "metadata": {
    "ExecuteTime": {
     "end_time": "2024-05-06T06:42:48.798354Z",
     "start_time": "2024-05-06T06:42:48.785915Z"
    }
   },
   "cell_type": "code",
   "source": [
    "mild_AMB_PA_MECVV = AMB_PA_MECVV['Canadenca sumatoris comparats'].between(10.5, 11.5)\n",
    "Percentatge_mild_AMB_PA_MECVV = mild_AMB_PA_MECVV.mean() * 100\n",
    "num_observacions_mild_AMB_PA_MECVV = mild_AMB_PA_MECVV.sum()\n",
    "\n",
    "print(f\"Percentatge de mild_AMB_PA_MECVV: {Percentatge_mild_AMB_PA_MECVV:.2f}%\")\n",
    "print(f\"Nombre d'observacions en mild_AMB_PA_MECVV: {num_observacions_mild_AMB_PA_MECVV}\")"
   ],
   "id": "57347bcca5478fa7",
   "outputs": [
    {
     "name": "stdout",
     "output_type": "stream",
     "text": [
      "Percentatge de mild_AMB_PA_MECVV: 0.00%\n",
      "Nombre d'observacions en mild_AMB_PA_MECVV: 0\n"
     ]
    }
   ],
   "execution_count": 220
  },
  {
   "metadata": {
    "ExecuteTime": {
     "end_time": "2024-05-06T06:42:49.712922Z",
     "start_time": "2024-05-06T06:42:49.705571Z"
    }
   },
   "cell_type": "code",
   "source": [
    "modneu_AMB_PA_MECVV = AMB_PA_MECVV['Canadenca sumatoris comparats'].between(5,10)\n",
    "Percentatge_modneu_AMB_PA_MECVV = modneu_AMB_PA_MECVV.mean() * 100\n",
    "num_observacions_modneu_AMB_PA_MECVV = modneu_AMB_PA_MECVV.sum()\n",
    "\n",
    "print(f\"Percentatge de modneu_AMB_PA_MECVV: {Percentatge_modneu_AMB_PA_MECVV:.2f}%\")\n",
    "print(f\"Nombre d'observacions en modneu_AMB_PA_MECVV: {num_observacions_modneu_AMB_PA_MECVV}\")"
   ],
   "id": "be2a9404e79e283",
   "outputs": [
    {
     "name": "stdout",
     "output_type": "stream",
     "text": [
      "Percentatge de modneu_AMB_PA_MECVV: 0.00%\n",
      "Nombre d'observacions en modneu_AMB_PA_MECVV: 0\n"
     ]
    }
   ],
   "execution_count": 221
  },
  {
   "metadata": {
    "ExecuteTime": {
     "end_time": "2024-05-06T06:42:50.659063Z",
     "start_time": "2024-05-06T06:42:50.649088Z"
    }
   },
   "cell_type": "code",
   "source": [
    "sevneu_AMB_PA_MECVV = AMB_PA_MECVV['Canadenca sumatoris comparats'].between(1.5, 4.5)\n",
    "Percentatge_sevneu_AMB_PA_MECVV = sevneu_AMB_PA_MECVV.mean() * 100\n",
    "num_observacions_sevneu_AMB_PA_MECVV = sevneu_AMB_PA_MECVV.sum()\n",
    "\n",
    "print(f\"Percentatge de sevneu_AMB_PA_MECVV: {Percentatge_sevneu_AMB_PA_MECVV:.2f}%\")\n",
    "print(f\"Nombre d'observacions en sevneu_AMB_PA_MECVV: {num_observacions_sevneu_AMB_PA_MECVV}\")"
   ],
   "id": "c712d55b14205c2d",
   "outputs": [
    {
     "name": "stdout",
     "output_type": "stream",
     "text": [
      "Percentatge de sevneu_AMB_PA_MECVV: 0.00%\n",
      "Nombre d'observacions en sevneu_AMB_PA_MECVV: 0\n"
     ]
    }
   ],
   "execution_count": 222
  },
  {
   "metadata": {},
   "cell_type": "markdown",
   "source": "##### SENSE_PA",
   "id": "d6b64c5ca280741f"
  },
  {
   "metadata": {
    "ExecuteTime": {
     "end_time": "2024-05-06T06:42:51.339421Z",
     "start_time": "2024-05-06T06:42:51.330486Z"
    }
   },
   "cell_type": "code",
   "source": [
    "mild_SENSE_PA = SENSE_PA['Canadenca sumatoris comparats'].between(10.5, 11.5)\n",
    "Percentatge_mild_SENSE_PA = mild_SENSE_PA.mean() * 100\n",
    "num_observacions_mild_SENSE_PA = mild_SENSE_PA.sum()\n",
    "\n",
    "print(f\"Percentatge de mild_SENSE_PA: {Percentatge_mild_SENSE_PA:.2f}%\")\n",
    "print(f\"Nombre d'observacions en mild_SENSE_PA: {num_observacions_mild_SENSE_PA}\")"
   ],
   "id": "61008dd57d322928",
   "outputs": [
    {
     "name": "stdout",
     "output_type": "stream",
     "text": [
      "Percentatge de mild_SENSE_PA: 0.00%\n",
      "Nombre d'observacions en mild_SENSE_PA: 0\n"
     ]
    }
   ],
   "execution_count": 223
  },
  {
   "metadata": {
    "ExecuteTime": {
     "end_time": "2024-05-06T06:42:52.269010Z",
     "start_time": "2024-05-06T06:42:52.255444Z"
    }
   },
   "cell_type": "code",
   "source": [
    "modneu_SENSE_PA = SENSE_PA['Canadenca sumatoris comparats'].between(5,10)\n",
    "Percentatge_modneu_SENSE_PA = modneu_SENSE_PA.mean() * 100\n",
    "num_observacions_modneu_SENSE_PA = modneu_SENSE_PA.sum()\n",
    "\n",
    "print(f\"Percentatge de modneu_SENSE_PA: {Percentatge_modneu_SENSE_PA:.2f}%\")\n",
    "print(f\"Nombre d'observacions en modneu_SENSE_PA: {num_observacions_modneu_SENSE_PA}\")"
   ],
   "id": "d93cb1dc52c2e4a3",
   "outputs": [
    {
     "name": "stdout",
     "output_type": "stream",
     "text": [
      "Percentatge de modneu_SENSE_PA: 12.50%\n",
      "Nombre d'observacions en modneu_SENSE_PA: 1\n"
     ]
    }
   ],
   "execution_count": 224
  },
  {
   "metadata": {
    "ExecuteTime": {
     "end_time": "2024-05-06T06:42:52.892868Z",
     "start_time": "2024-05-06T06:42:52.883581Z"
    }
   },
   "cell_type": "code",
   "source": [
    "sevneu_SENSE_PA = SENSE_PA['Canadenca sumatoris comparats'].between(1.5, 4.5)\n",
    "Percentatge_sevneu_SENSE_PA = sevneu_SENSE_PA.mean() * 100\n",
    "num_observacions_sevneu_SENSE_PA = sevneu_SENSE_PA.sum()\n",
    "\n",
    "print(f\"Percentatge de sevneu_SENSE_PA: {Percentatge_sevneu_SENSE_PA:.2f}%\")\n",
    "print(f\"Nombre d'observacions en sevneu_SENSE_PA: {num_observacions_sevneu_SENSE_PA}\")"
   ],
   "id": "c2bd8e7e46f3f6fa",
   "outputs": [
    {
     "name": "stdout",
     "output_type": "stream",
     "text": [
      "Percentatge de sevneu_SENSE_PA: 0.00%\n",
      "Nombre d'observacions en sevneu_SENSE_PA: 0\n"
     ]
    }
   ],
   "execution_count": 225
  },
  {
   "metadata": {},
   "cell_type": "markdown",
   "source": "##### TOTAL",
   "id": "bb0ea4db501e7bcf"
  },
  {
   "metadata": {
    "ExecuteTime": {
     "end_time": "2024-05-06T06:42:53.776592Z",
     "start_time": "2024-05-06T06:42:53.763587Z"
    }
   },
   "cell_type": "code",
   "source": [
    "mild_TOTAL = TOTAL['Canadenca sumatoris comparats'].between(10.5, 11.5)\n",
    "Percentatge_mild_TOTAL = mild_TOTAL.mean() * 100\n",
    "num_observacions_mild_TOTAL = mild_TOTAL.sum()\n",
    "\n",
    "print(f\"Percentatge de mild_TOTAL: {Percentatge_mild_TOTAL:.2f}%\")\n",
    "print(f\"Nombre d'observacions en mild_TOTAL: {num_observacions_mild_TOTAL}\")"
   ],
   "id": "5b5a283e50c08041",
   "outputs": [
    {
     "name": "stdout",
     "output_type": "stream",
     "text": [
      "Percentatge de mild_TOTAL: 0.00%\n",
      "Nombre d'observacions en mild_TOTAL: 0\n"
     ]
    }
   ],
   "execution_count": 226
  },
  {
   "metadata": {
    "ExecuteTime": {
     "end_time": "2024-05-06T06:42:54.455909Z",
     "start_time": "2024-05-06T06:42:54.446251Z"
    }
   },
   "cell_type": "code",
   "source": [
    "modneu_TOTAL = TOTAL['Canadenca sumatoris comparats'].between(5,10)\n",
    "Percentatge_modneu_TOTAL = modneu_TOTAL.mean() * 100\n",
    "num_observacions_modneu_TOTAL = modneu_TOTAL.sum()\n",
    "\n",
    "print(f\"Percentatge de modneu_TOTAL: {Percentatge_modneu_TOTAL:.2f}%\")\n",
    "print(f\"Nombre d'observacions en modneu_TOTAL: {num_observacions_modneu_TOTAL}\")"
   ],
   "id": "e3a7d9fe2d016f93",
   "outputs": [
    {
     "name": "stdout",
     "output_type": "stream",
     "text": [
      "Percentatge de modneu_TOTAL: 4.00%\n",
      "Nombre d'observacions en modneu_TOTAL: 2\n"
     ]
    }
   ],
   "execution_count": 227
  },
  {
   "metadata": {
    "ExecuteTime": {
     "end_time": "2024-05-06T06:42:55.432009Z",
     "start_time": "2024-05-06T06:42:55.416894Z"
    }
   },
   "cell_type": "code",
   "source": [
    "sevneu_TOTAL = TOTAL['Canadenca sumatoris comparats'].between(1.5, 4.5)\n",
    "Percentatge_sevneu_TOTAL = sevneu_TOTAL.mean() * 100\n",
    "num_observacions_sevneu_TOTAL = sevneu_TOTAL.sum()\n",
    "\n",
    "print(f\"Percentatge de sevneu_TOTAL: {Percentatge_sevneu_TOTAL:.2f}%\")\n",
    "print(f\"Nombre d'observacions en sevneu_TOTAL: {num_observacions_sevneu_TOTAL}\")"
   ],
   "id": "e1b44f25caefde1",
   "outputs": [
    {
     "name": "stdout",
     "output_type": "stream",
     "text": [
      "Percentatge de sevneu_TOTAL: 0.00%\n",
      "Nombre d'observacions en sevneu_TOTAL: 0\n"
     ]
    }
   ],
   "execution_count": 228
  },
  {
   "metadata": {},
   "cell_type": "markdown",
   "source": "#### Pvalor",
   "id": "d3c987c2989e5129"
  },
  {
   "metadata": {},
   "cell_type": "markdown",
   "source": "##### Dèficit neurològic lleuger (mild)",
   "id": "434c4358f4a229a0"
  },
  {
   "metadata": {
    "ExecuteTime": {
     "end_time": "2024-05-06T06:42:56.117918Z",
     "start_time": "2024-05-06T06:42:56.105591Z"
    }
   },
   "cell_type": "code",
   "source": [
    "t_stat_12, p_val_12 = ttest_ind(AMB_PA['Canadenca sumatoris comparats'].between(10.5,11.5), AMB_PA_MECVV['Canadenca sumatoris comparats'].between(10.5,11.5), equal_var=False)\n",
    "print(\"P-valor entre AMB_PA i AMB_PA_MECVV:\", p_val_12)"
   ],
   "id": "c73d6b247f483fed",
   "outputs": [
    {
     "name": "stdout",
     "output_type": "stream",
     "text": [
      "P-valor entre AMB_PA i AMB_PA_MECVV: nan\n"
     ]
    }
   ],
   "execution_count": 229
  },
  {
   "metadata": {
    "ExecuteTime": {
     "end_time": "2024-05-06T06:42:57.058247Z",
     "start_time": "2024-05-06T06:42:57.047377Z"
    }
   },
   "cell_type": "code",
   "source": [
    "t_stat_13, p_val_13 = ttest_ind(AMB_PA['Canadenca sumatoris comparats'].between(10.5,11.5), SENSE_PA['Canadenca sumatoris comparats'].between(10.5,11.5), equal_var=False)\n",
    "print(\"P-valor entre AMB_PA i SENSE_PA:\", p_val_13)"
   ],
   "id": "60e422a1a3bbc0b0",
   "outputs": [
    {
     "name": "stdout",
     "output_type": "stream",
     "text": [
      "P-valor entre AMB_PA i SENSE_PA: nan\n"
     ]
    }
   ],
   "execution_count": 230
  },
  {
   "metadata": {
    "ExecuteTime": {
     "end_time": "2024-05-06T06:42:57.712839Z",
     "start_time": "2024-05-06T06:42:57.700549Z"
    }
   },
   "cell_type": "code",
   "source": [
    "t_stat_23, p_val_23 = ttest_ind(AMB_PA_MECVV['Canadenca sumatoris comparats'].between(10.5,11.5), SENSE_PA['Canadenca sumatoris comparats'].between(10.5,11.5), equal_var=False)\n",
    "print(\"P-valor entre AMB_PA_MECVV i SENSE_PA:\", p_val_23)"
   ],
   "id": "c075274c183bac63",
   "outputs": [
    {
     "name": "stdout",
     "output_type": "stream",
     "text": [
      "P-valor entre AMB_PA_MECVV i SENSE_PA: nan\n"
     ]
    }
   ],
   "execution_count": 231
  },
  {
   "metadata": {
    "ExecuteTime": {
     "end_time": "2024-05-06T06:42:58.552527Z",
     "start_time": "2024-05-06T06:42:58.541584Z"
    }
   },
   "cell_type": "code",
   "source": [
    "t_stat_14, p_val_14 = ttest_ind(AMB_PA['Canadenca sumatoris comparats'].between(10.5,11.5), TOTAL['Canadenca sumatoris comparats'].between(10.5,11.5), equal_var=False)\n",
    "print(\"P-valor entre AMB_PA i TOTAL:\", p_val_14)"
   ],
   "id": "b8307aa770173383",
   "outputs": [
    {
     "name": "stdout",
     "output_type": "stream",
     "text": [
      "P-valor entre AMB_PA i TOTAL: nan\n"
     ]
    }
   ],
   "execution_count": 232
  },
  {
   "metadata": {
    "ExecuteTime": {
     "end_time": "2024-05-06T06:42:59.210626Z",
     "start_time": "2024-05-06T06:42:59.200159Z"
    }
   },
   "cell_type": "code",
   "source": [
    "t_stat_24, p_val_24 = ttest_ind(AMB_PA_MECVV['Canadenca sumatoris comparats'].between(10.5,11.5), TOTAL['Canadenca sumatoris comparats'].between(10.5,11.5), equal_var=False)\n",
    "print(\"P-valor entre AMB_PA_MECVV i TOTAL:\", p_val_24)"
   ],
   "id": "a42a0ab64b0c9f31",
   "outputs": [
    {
     "name": "stdout",
     "output_type": "stream",
     "text": [
      "P-valor entre AMB_PA_MECVV i TOTAL: nan\n"
     ]
    }
   ],
   "execution_count": 233
  },
  {
   "metadata": {
    "ExecuteTime": {
     "end_time": "2024-05-06T06:43:00.147289Z",
     "start_time": "2024-05-06T06:43:00.139311Z"
    }
   },
   "cell_type": "code",
   "source": [
    "t_stat_34, p_val_34 = ttest_ind(SENSE_PA['Canadenca sumatoris comparats'].between(10.5,11.5), TOTAL['Canadenca sumatoris comparats'].between(10.5,11.5), equal_var=False)\n",
    "print(\"P-valor entre SENSE_PA i TOTAL:\", p_val_34)"
   ],
   "id": "2d36d8f40806a654",
   "outputs": [
    {
     "name": "stdout",
     "output_type": "stream",
     "text": [
      "P-valor entre SENSE_PA i TOTAL: nan\n"
     ]
    }
   ],
   "execution_count": 234
  },
  {
   "metadata": {},
   "cell_type": "markdown",
   "source": "##### Dèficit neurològic moderat",
   "id": "552ccd99227faf82"
  },
  {
   "metadata": {
    "ExecuteTime": {
     "end_time": "2024-05-06T06:43:00.781409Z",
     "start_time": "2024-05-06T06:43:00.771048Z"
    }
   },
   "cell_type": "code",
   "source": [
    "t_stat_12, p_val_12 = ttest_ind(AMB_PA['Canadenca sumatoris comparats'].between(5,10), AMB_PA_MECVV['Canadenca sumatoris comparats'].between(5, 10), equal_var=False)\n",
    "print(\"P-valor entre AMB_PA i AMB_PA_MECVV:\", p_val_12)"
   ],
   "id": "e94a1d27fb89e47b",
   "outputs": [
    {
     "name": "stdout",
     "output_type": "stream",
     "text": [
      "P-valor entre AMB_PA i AMB_PA_MECVV: 0.3321949846529795\n"
     ]
    }
   ],
   "execution_count": 235
  },
  {
   "metadata": {
    "ExecuteTime": {
     "end_time": "2024-05-06T06:43:01.719276Z",
     "start_time": "2024-05-06T06:43:01.708879Z"
    }
   },
   "cell_type": "code",
   "source": [
    "t_stat_13, p_val_13 = ttest_ind(AMB_PA['Canadenca sumatoris comparats'].between(5,10), SENSE_PA['Canadenca sumatoris comparats'].between(5, 10), equal_var=False)\n",
    "print(\"P-valor entre AMB_PA i SENSE_PA:\", p_val_13)"
   ],
   "id": "b8a25453cf521a60",
   "outputs": [
    {
     "name": "stdout",
     "output_type": "stream",
     "text": [
      "P-valor entre AMB_PA i SENSE_PA: 0.6420034888551491\n"
     ]
    }
   ],
   "execution_count": 236
  },
  {
   "metadata": {
    "ExecuteTime": {
     "end_time": "2024-05-06T06:43:02.375099Z",
     "start_time": "2024-05-06T06:43:02.360973Z"
    }
   },
   "cell_type": "code",
   "source": [
    "t_stat_23, p_val_23 = ttest_ind(AMB_PA_MECVV['Canadenca sumatoris comparats'].between(5,10), SENSE_PA['Canadenca sumatoris comparats'].between(5, 10), equal_var=False)\n",
    "print(\"P-valor entre AMB_PA_MECVV i SENSE_PA:\", p_val_23)"
   ],
   "id": "42d8b634d6f77cf8",
   "outputs": [
    {
     "name": "stdout",
     "output_type": "stream",
     "text": [
      "P-valor entre AMB_PA_MECVV i SENSE_PA: 0.3506166628202075\n"
     ]
    }
   ],
   "execution_count": 237
  },
  {
   "metadata": {
    "ExecuteTime": {
     "end_time": "2024-05-06T06:43:03.311136Z",
     "start_time": "2024-05-06T06:43:03.297745Z"
    }
   },
   "cell_type": "code",
   "source": [
    "t_stat_14, p_val_14 = ttest_ind(AMB_PA['Canadenca sumatoris comparats'].between(5,10), TOTAL['Canadenca sumatoris comparats'].between(5, 10), equal_var=False)\n",
    "print(\"P-valor entre AMB_PA i TOTAL:\", p_val_14)"
   ],
   "id": "567a2af9e4d4dc07",
   "outputs": [
    {
     "name": "stdout",
     "output_type": "stream",
     "text": [
      "P-valor entre AMB_PA i TOTAL: 0.7751366695188593\n"
     ]
    }
   ],
   "execution_count": 238
  },
  {
   "metadata": {
    "ExecuteTime": {
     "end_time": "2024-05-06T06:43:03.978596Z",
     "start_time": "2024-05-06T06:43:03.965578Z"
    }
   },
   "cell_type": "code",
   "source": [
    "t_stat_24, p_val_24 = ttest_ind(AMB_PA_MECVV['Canadenca sumatoris comparats'].between(5,10), TOTAL['Canadenca sumatoris comparats'].between(5, 10), equal_var=False)\n",
    "print(\"P-valor entre AMB_PA_MECVV i TOTAL:\", p_val_24)"
   ],
   "id": "2d3eb5874198cd91",
   "outputs": [
    {
     "name": "stdout",
     "output_type": "stream",
     "text": [
      "P-valor entre AMB_PA_MECVV i TOTAL: 0.15938605197461647\n"
     ]
    }
   ],
   "execution_count": 239
  },
  {
   "metadata": {
    "ExecuteTime": {
     "end_time": "2024-05-06T06:43:04.860070Z",
     "start_time": "2024-05-06T06:43:04.849397Z"
    }
   },
   "cell_type": "code",
   "source": [
    "t_stat_34, p_val_34 = ttest_ind(SENSE_PA['Canadenca sumatoris comparats'].between(5,10), TOTAL['Canadenca sumatoris comparats'].between(5, 10), equal_var=False)\n",
    "print(\"P-valor entre SENSE_PA i TOTAL:\", p_val_34)"
   ],
   "id": "6f3e4f047bd4f5e4",
   "outputs": [
    {
     "name": "stdout",
     "output_type": "stream",
     "text": [
      "P-valor entre SENSE_PA i TOTAL: 0.5262919030230506\n"
     ]
    }
   ],
   "execution_count": 240
  },
  {
   "metadata": {},
   "cell_type": "markdown",
   "source": "##### Dèficit neurològic greu (sever)",
   "id": "28b3b79ffa4ba154"
  },
  {
   "metadata": {
    "ExecuteTime": {
     "end_time": "2024-05-06T06:43:05.537957Z",
     "start_time": "2024-05-06T06:43:05.526825Z"
    }
   },
   "cell_type": "code",
   "source": [
    "t_stat_12, p_val_12 = ttest_ind(AMB_PA['Canadenca sumatoris comparats'].between(1.5,4.5), AMB_PA_MECVV['Canadenca sumatoris comparats'].between(1.5,4.5), equal_var=False)\n",
    "print(\"P-valor entre AMB_PA i AMB_PA_MECVV:\", p_val_12)"
   ],
   "id": "1375c0dec76e62b5",
   "outputs": [
    {
     "name": "stdout",
     "output_type": "stream",
     "text": [
      "P-valor entre AMB_PA i AMB_PA_MECVV: nan\n"
     ]
    }
   ],
   "execution_count": 241
  },
  {
   "metadata": {
    "ExecuteTime": {
     "end_time": "2024-05-06T06:43:06.489794Z",
     "start_time": "2024-05-06T06:43:06.475475Z"
    }
   },
   "cell_type": "code",
   "source": [
    "t_stat_13, p_val_13 = ttest_ind(AMB_PA['Canadenca sumatoris comparats'].between(1.5, 4.5), SENSE_PA['Canadenca sumatoris comparats'].between(1.5, 4.5), equal_var=False)\n",
    "print(\"P-valor entre AMB_PA i SENSE_PA:\", p_val_13)"
   ],
   "id": "b9b1bd499fc47c40",
   "outputs": [
    {
     "name": "stdout",
     "output_type": "stream",
     "text": [
      "P-valor entre AMB_PA i SENSE_PA: nan\n"
     ]
    }
   ],
   "execution_count": 242
  },
  {
   "metadata": {
    "ExecuteTime": {
     "end_time": "2024-05-06T06:43:07.141099Z",
     "start_time": "2024-05-06T06:43:07.120249Z"
    }
   },
   "cell_type": "code",
   "source": [
    "t_stat_23, p_val_23 = ttest_ind(AMB_PA_MECVV['Canadenca sumatoris comparats'].between(1.5,4.5), SENSE_PA['Canadenca sumatoris comparats'].between(1.5, 4.5), equal_var=False)\n",
    "print(\"P-valor entre AMB_PA_MECVV i SENSE_PA:\", p_val_23)"
   ],
   "id": "f4a9f79d4781e2f6",
   "outputs": [
    {
     "name": "stdout",
     "output_type": "stream",
     "text": [
      "P-valor entre AMB_PA_MECVV i SENSE_PA: nan\n"
     ]
    }
   ],
   "execution_count": 243
  },
  {
   "metadata": {
    "ExecuteTime": {
     "end_time": "2024-05-06T06:43:08.185602Z",
     "start_time": "2024-05-06T06:43:08.171182Z"
    }
   },
   "cell_type": "code",
   "source": [
    "t_stat_14, p_val_14 = ttest_ind(AMB_PA['Canadenca sumatoris comparats'].between(1.5,4.5), TOTAL['Canadenca sumatoris comparats'].between(1.5,4.5), equal_var=False)\n",
    "print(\"P-valor entre AMB_PA i TOTAL:\", p_val_14)"
   ],
   "id": "12c76e74591e767c",
   "outputs": [
    {
     "name": "stdout",
     "output_type": "stream",
     "text": [
      "P-valor entre AMB_PA i TOTAL: nan\n"
     ]
    }
   ],
   "execution_count": 244
  },
  {
   "metadata": {
    "ExecuteTime": {
     "end_time": "2024-05-06T06:43:08.843025Z",
     "start_time": "2024-05-06T06:43:08.830347Z"
    }
   },
   "cell_type": "code",
   "source": [
    "t_stat_24, p_val_24 = ttest_ind(AMB_PA_MECVV['Canadenca sumatoris comparats'].between(1.5,4.5), TOTAL['Canadenca sumatoris comparats'].between(1.5,4.5), equal_var=False)\n",
    "print(\"P-valor entre AMB_PA_MECVV i TOTAL:\", p_val_24)"
   ],
   "id": "f1b6cfddd36d1f24",
   "outputs": [
    {
     "name": "stdout",
     "output_type": "stream",
     "text": [
      "P-valor entre AMB_PA_MECVV i TOTAL: nan\n"
     ]
    }
   ],
   "execution_count": 245
  },
  {
   "metadata": {
    "ExecuteTime": {
     "end_time": "2024-05-06T06:43:09.692338Z",
     "start_time": "2024-05-06T06:43:09.677293Z"
    }
   },
   "cell_type": "code",
   "source": [
    "t_stat_34, p_val_34 = ttest_ind(SENSE_PA['Canadenca sumatoris comparats'].between(1.5,4.5), TOTAL['Canadenca sumatoris comparats'].between(1.5,4.5), equal_var=False)\n",
    "print(\"P-valor entre SENSE_PA i TOTAL:\", p_val_34)"
   ],
   "id": "f1bf7b7ba092a4b4",
   "outputs": [
    {
     "name": "stdout",
     "output_type": "stream",
     "text": [
      "P-valor entre SENSE_PA i TOTAL: nan\n"
     ]
    }
   ],
   "execution_count": 246
  },
  {
   "metadata": {},
   "cell_type": "markdown",
   "source": "## Infeccions respiratòries",
   "id": "1c243e776c0acbcb"
  },
  {
   "metadata": {},
   "cell_type": "markdown",
   "source": "##### AMB_PA ",
   "id": "75cdc96e688bb6e5"
  },
  {
   "metadata": {
    "ExecuteTime": {
     "end_time": "2024-05-06T06:43:10.330711Z",
     "start_time": "2024-05-06T06:43:10.317600Z"
    }
   },
   "cell_type": "code",
   "source": [
    "mainresp_AMB_PA= (AMB_PA['Infeccions respiratòries principals diagnosticades'] == 1.0).mean() * 100\n",
    "print(f\"Percentatge de infeccions respiratòries principals : {mainresp_AMB_PA:.2f}%\")"
   ],
   "id": "6b4ac9f955c7ef70",
   "outputs": [
    {
     "name": "stdout",
     "output_type": "stream",
     "text": [
      "Percentatge de infeccions respiratòries principals : 41.18%\n"
     ]
    }
   ],
   "execution_count": 247
  },
  {
   "metadata": {
    "ExecuteTime": {
     "end_time": "2024-05-06T06:43:11.222586Z",
     "start_time": "2024-05-06T06:43:11.215541Z"
    }
   },
   "cell_type": "code",
   "source": [
    "LRTI_AMB_PA= (AMB_PA['LRTI diagnosticada'] == 1.0).mean() * 100\n",
    "print(f\"Percentatge de LRTI: {LRTI_AMB_PA:.2f}%\")"
   ],
   "id": "f2cab9c85d7b18bf",
   "outputs": [
    {
     "name": "stdout",
     "output_type": "stream",
     "text": [
      "Percentatge de LRTI: 17.65%\n"
     ]
    }
   ],
   "execution_count": 248
  },
  {
   "metadata": {
    "ExecuteTime": {
     "end_time": "2024-05-06T06:43:11.870209Z",
     "start_time": "2024-05-06T06:43:11.858692Z"
    }
   },
   "cell_type": "code",
   "source": [
    "COPD_AMB_PA= (AMB_PA['Exacerbacions de COPD diagnosticades'] == 1.0).mean() * 100\n",
    "print(f\"Percentatge de exacerbacions de COPD: {COPD_AMB_PA:.2f}%\")"
   ],
   "id": "e92f1139bdd11207",
   "outputs": [
    {
     "name": "stdout",
     "output_type": "stream",
     "text": [
      "Percentatge de exacerbacions de COPD: 29.41%\n"
     ]
    }
   ],
   "execution_count": 249
  },
  {
   "metadata": {
    "ExecuteTime": {
     "end_time": "2024-05-06T06:43:12.678506Z",
     "start_time": "2024-05-06T06:43:12.674121Z"
    }
   },
   "cell_type": "code",
   "source": [
    "fibro_AMB_PA= (AMB_PA['Fibrosi pulmonar i fibrotòrax diagnosticades'] == 1.0).mean() * 100\n",
    "print(f\"Percentatge de fibrosi pulmonar i fibrotòrax: {fibro_AMB_PA:.2f}%\")"
   ],
   "id": "f60fd9578e2dc543",
   "outputs": [
    {
     "name": "stdout",
     "output_type": "stream",
     "text": [
      "Percentatge de fibrosi pulmonar i fibrotòrax: 0.00%\n"
     ]
    }
   ],
   "execution_count": 250
  },
  {
   "metadata": {},
   "cell_type": "markdown",
   "source": "##### AMB_PA_MECVV",
   "id": "a81ccd9e1687fa90"
  },
  {
   "metadata": {
    "ExecuteTime": {
     "end_time": "2024-05-06T06:43:13.311719Z",
     "start_time": "2024-05-06T06:43:13.303767Z"
    }
   },
   "cell_type": "code",
   "source": [
    "mainresp_AMB_PA_MECVV= (AMB_PA_MECVV['Infeccions respiratòries principals diagnosticades'] == 1.0).mean() * 100\n",
    "print(f\"Percentatge de infeccions respiratòries principals : {mainresp_AMB_PA_MECVV:.2f}%\")"
   ],
   "id": "b33098c2a54d36b5",
   "outputs": [
    {
     "name": "stdout",
     "output_type": "stream",
     "text": [
      "Percentatge de infeccions respiratòries principals : 50.00%\n"
     ]
    }
   ],
   "execution_count": 251
  },
  {
   "metadata": {
    "ExecuteTime": {
     "end_time": "2024-05-06T06:43:14.188109Z",
     "start_time": "2024-05-06T06:43:14.175972Z"
    }
   },
   "cell_type": "code",
   "source": [
    "LRTI_AMB_PA_MECVV= (AMB_PA_MECVV['LRTI diagnosticada'] == 1.0).mean() * 100\n",
    "print(f\"Percentatge de LRTI: {LRTI_AMB_PA_MECVV:.2f}%\")"
   ],
   "id": "f85be13f8ff8a16d",
   "outputs": [
    {
     "name": "stdout",
     "output_type": "stream",
     "text": [
      "Percentatge de LRTI: 12.50%\n"
     ]
    }
   ],
   "execution_count": 252
  },
  {
   "metadata": {
    "ExecuteTime": {
     "end_time": "2024-05-06T06:43:14.853145Z",
     "start_time": "2024-05-06T06:43:14.840236Z"
    }
   },
   "cell_type": "code",
   "source": [
    "COPD_AMB_PA_MECVV = (AMB_PA_MECVV['Exacerbacions de COPD diagnosticades'] == 1.0).mean() * 100\n",
    "print(f\"Percentatge de exacerbacions de COPD: {COPD_AMB_PA_MECVV:.2f}%\")"
   ],
   "id": "d490fe0fa5146ba1",
   "outputs": [
    {
     "name": "stdout",
     "output_type": "stream",
     "text": [
      "Percentatge de exacerbacions de COPD: 50.00%\n"
     ]
    }
   ],
   "execution_count": 253
  },
  {
   "metadata": {
    "ExecuteTime": {
     "end_time": "2024-05-06T06:43:15.671813Z",
     "start_time": "2024-05-06T06:43:15.663964Z"
    }
   },
   "cell_type": "code",
   "source": [
    "fibro_AMB_PA_MECVV = (AMB_PA_MECVV['Fibrosi pulmonar i fibrotòrax diagnosticades'] == 1.0).mean() * 100\n",
    "print(f\"Percentatge de fibrosi pulmonar i fibrotòrax: {fibro_AMB_PA_MECVV:.2f}%\")"
   ],
   "id": "719cbe71770c9c5d",
   "outputs": [
    {
     "name": "stdout",
     "output_type": "stream",
     "text": [
      "Percentatge de fibrosi pulmonar i fibrotòrax: 0.00%\n"
     ]
    }
   ],
   "execution_count": 254
  },
  {
   "metadata": {},
   "cell_type": "markdown",
   "source": "##### SENSE_PA",
   "id": "4ee57a32f85d8da"
  },
  {
   "metadata": {
    "ExecuteTime": {
     "end_time": "2024-05-06T06:43:16.317946Z",
     "start_time": "2024-05-06T06:43:16.305421Z"
    }
   },
   "cell_type": "code",
   "source": [
    "mainresp_SENSE_PA= (SENSE_PA['Infeccions respiratòries principals diagnosticades'] == 1.0).mean() * 100\n",
    "print(f\"Percentatge de infeccions respiratòries principals : {mainresp_SENSE_PA:.2f}%\")"
   ],
   "id": "13154b248379e6da",
   "outputs": [
    {
     "name": "stdout",
     "output_type": "stream",
     "text": [
      "Percentatge de infeccions respiratòries principals : 50.00%\n"
     ]
    }
   ],
   "execution_count": 255
  },
  {
   "metadata": {
    "ExecuteTime": {
     "end_time": "2024-05-06T06:43:17.202604Z",
     "start_time": "2024-05-06T06:43:17.197549Z"
    }
   },
   "cell_type": "code",
   "source": [
    "LRTI_SENSE_PA= (SENSE_PA['LRTI diagnosticada'] == 1.0).mean() * 100\n",
    "print(f\"Percentatge de LRTI: {LRTI_SENSE_PA:.2f}%\")"
   ],
   "id": "7b6d0993a6d8d0f7",
   "outputs": [
    {
     "name": "stdout",
     "output_type": "stream",
     "text": [
      "Percentatge de LRTI: 25.00%\n"
     ]
    }
   ],
   "execution_count": 256
  },
  {
   "metadata": {
    "ExecuteTime": {
     "end_time": "2024-05-06T06:43:17.839499Z",
     "start_time": "2024-05-06T06:43:17.834306Z"
    }
   },
   "cell_type": "code",
   "source": [
    "COPD_SENSE_PA= (SENSE_PA['Exacerbacions de COPD diagnosticades'] == 1.0).mean() * 100\n",
    "print(f\"Percentatge de exacerbacions de COPD: {COPD_SENSE_PA:.2f}%\")"
   ],
   "id": "2fde8b1f558da814",
   "outputs": [
    {
     "name": "stdout",
     "output_type": "stream",
     "text": [
      "Percentatge de exacerbacions de COPD: 25.00%\n"
     ]
    }
   ],
   "execution_count": 257
  },
  {
   "metadata": {
    "ExecuteTime": {
     "end_time": "2024-05-06T06:43:18.652608Z",
     "start_time": "2024-05-06T06:43:18.643733Z"
    }
   },
   "cell_type": "code",
   "source": [
    "fibro_SENSE_PA= (SENSE_PA['Fibrosi pulmonar i fibrotòrax diagnosticades'] == 1.0).mean() * 100\n",
    "print(f\"Percentatge de fibrosi pulmonar i fibrotòrax: {fibro_SENSE_PA:.2f}%\")"
   ],
   "id": "9ec61073db25b76d",
   "outputs": [
    {
     "name": "stdout",
     "output_type": "stream",
     "text": [
      "Percentatge de fibrosi pulmonar i fibrotòrax: 0.00%\n"
     ]
    }
   ],
   "execution_count": 258
  },
  {
   "metadata": {},
   "cell_type": "markdown",
   "source": "#### Pvalor",
   "id": "e4b7d99054b0af12"
  },
  {
   "metadata": {},
   "cell_type": "markdown",
   "source": "##### Normalitat",
   "id": "66f7ae1bb05b0697"
  },
  {
   "metadata": {
    "ExecuteTime": {
     "end_time": "2024-05-06T06:43:19.503496Z",
     "start_time": "2024-05-06T06:43:19.496640Z"
    }
   },
   "cell_type": "code",
   "source": [
    "stat, p_value = shapiro(AMB_PA['Infeccions respiratòries principals diagnosticades'])\n",
    "print(f\"Estadístic W = {stat:.4f}\")\n",
    "print(f\"Valor p = {p_value:.8f}\")\n",
    "\n",
    "alpha = 0.05\n",
    "if p_value < alpha:\n",
    "    print(\"El nombre de files no segueix una distribució normal.\")\n",
    "else:\n",
    "    print(\"El nombre de files segueix una distribució normal.\")"
   ],
   "id": "c6e2b4b1f48b3dc",
   "outputs": [
    {
     "name": "stdout",
     "output_type": "stream",
     "text": [
      "Estadístic W = 0.6317\n",
      "Valor p = 0.00002144\n",
      "El nombre de files no segueix una distribució normal.\n"
     ]
    }
   ],
   "execution_count": 259
  },
  {
   "metadata": {
    "ExecuteTime": {
     "end_time": "2024-05-06T06:43:20.148199Z",
     "start_time": "2024-05-06T06:43:20.138291Z"
    }
   },
   "cell_type": "code",
   "source": [
    "stat, p_value = shapiro(AMB_PA['LRTI diagnosticada'])\n",
    "print(f\"Estadístic W = {stat:.4f}\")\n",
    "print(f\"Valor p = {p_value:.8f}\")\n",
    "\n",
    "alpha = 0.05\n",
    "if p_value < alpha:\n",
    "    print(\"El nombre de files no segueix una distribució normal.\")\n",
    "else:\n",
    "    print(\"El nombre de files segueix una distribució normal.\")"
   ],
   "id": "d543def5475584e8",
   "outputs": [
    {
     "name": "stdout",
     "output_type": "stream",
     "text": [
      "Estadístic W = 0.4702\n",
      "Valor p = 0.00000073\n",
      "El nombre de files no segueix una distribució normal.\n"
     ]
    }
   ],
   "execution_count": 260
  },
  {
   "metadata": {
    "ExecuteTime": {
     "end_time": "2024-05-06T06:43:21.094748Z",
     "start_time": "2024-05-06T06:43:21.080106Z"
    }
   },
   "cell_type": "code",
   "source": [
    "stat, p_value = shapiro(AMB_PA['Exacerbacions de COPD diagnosticades'])\n",
    "print(f\"Estadístic W = {stat:.4f}\")\n",
    "print(f\"Valor p = {p_value:.8f}\")\n",
    "\n",
    "alpha = 0.05\n",
    "if p_value < alpha:\n",
    "    print(\"El nombre de files no segueix una distribució normal.\")\n",
    "else:\n",
    "    print(\"El nombre de files segueix una distribució normal.\")"
   ],
   "id": "10e513a73863bebd",
   "outputs": [
    {
     "name": "stdout",
     "output_type": "stream",
     "text": [
      "Estadístic W = 0.5785\n",
      "Valor p = 0.00000650\n",
      "El nombre de files no segueix una distribució normal.\n"
     ]
    }
   ],
   "execution_count": 261
  },
  {
   "metadata": {
    "ExecuteTime": {
     "end_time": "2024-05-06T06:43:21.762295Z",
     "start_time": "2024-05-06T06:43:21.712544Z"
    }
   },
   "cell_type": "code",
   "source": [
    "stat, p_value = shapiro(AMB_PA['Fibrosi pulmonar i fibrotòrax diagnosticades'])\n",
    "print(f\"Estadístic W = {stat:.4f}\")\n",
    "print(f\"Valor p = {p_value:.8f}\")\n",
    "\n",
    "alpha = 0.05\n",
    "if p_value < alpha:\n",
    "    print(\"El nombre de files no segueix una distribució normal.\")\n",
    "else:\n",
    "    print(\"El nombre de files segueix una distribució normal.\")"
   ],
   "id": "cd29d6de8e2e9257",
   "outputs": [
    {
     "name": "stdout",
     "output_type": "stream",
     "text": [
      "Estadístic W = 1.0000\n",
      "Valor p = 1.00000000\n",
      "El nombre de files segueix una distribució normal.\n"
     ]
    },
    {
     "name": "stderr",
     "output_type": "stream",
     "text": [
      "C:\\Users\\maria\\PycharmProjects\\practicum\\.venv\\Lib\\site-packages\\scipy\\stats\\_axis_nan_policy.py:531: UserWarning: scipy.stats.shapiro: Input data has range zero. The results may not be accurate.\n",
      "  res = hypotest_fun_out(*samples, **kwds)\n"
     ]
    }
   ],
   "execution_count": 262
  },
  {
   "metadata": {
    "ExecuteTime": {
     "end_time": "2024-05-06T06:43:22.577612Z",
     "start_time": "2024-05-06T06:43:22.569682Z"
    }
   },
   "cell_type": "code",
   "source": [
    "stat, p_value = shapiro(AMB_PA_MECVV['Infeccions respiratòries principals diagnosticades'])\n",
    "print(f\"Estadístic W = {stat:.4f}\")\n",
    "print(f\"Valor p = {p_value:.8f}\")\n",
    "\n",
    "alpha = 0.05\n",
    "if p_value < alpha:\n",
    "    print(\"El nombre de files no segueix una distribució normal.\")\n",
    "else:\n",
    "    print(\"El nombre de files segueix una distribució normal.\")"
   ],
   "id": "bb27577a80453c31",
   "outputs": [
    {
     "name": "stdout",
     "output_type": "stream",
     "text": [
      "Estadístic W = 0.6647\n",
      "Valor p = 0.00089170\n",
      "El nombre de files no segueix una distribució normal.\n"
     ]
    }
   ],
   "execution_count": 263
  },
  {
   "metadata": {
    "ExecuteTime": {
     "end_time": "2024-05-06T06:43:23.199921Z",
     "start_time": "2024-05-06T06:43:23.187775Z"
    }
   },
   "cell_type": "code",
   "source": [
    "stat, p_value = shapiro(AMB_PA_MECVV['LRTI diagnosticada'])\n",
    "print(f\"Estadístic W = {stat:.4f}\")\n",
    "print(f\"Valor p = {p_value:.8f}\")\n",
    "\n",
    "alpha = 0.05\n",
    "if p_value < alpha:\n",
    "    print(\"El nombre de files no segueix una distribució normal.\")\n",
    "else:\n",
    "    print(\"El nombre de files segueix una distribució normal.\")"
   ],
   "id": "4524b4b1254b37f2",
   "outputs": [
    {
     "name": "stdout",
     "output_type": "stream",
     "text": [
      "Estadístic W = 0.4184\n",
      "Valor p = 0.00000105\n",
      "El nombre de files no segueix una distribució normal.\n"
     ]
    }
   ],
   "execution_count": 264
  },
  {
   "metadata": {
    "ExecuteTime": {
     "end_time": "2024-05-06T06:43:24.107689Z",
     "start_time": "2024-05-06T06:43:24.097253Z"
    }
   },
   "cell_type": "code",
   "source": [
    "stat, p_value = shapiro(AMB_PA_MECVV['Exacerbacions de COPD diagnosticades'])\n",
    "print(f\"Estadístic W = {stat:.4f}\")\n",
    "print(f\"Valor p = {p_value:.8f}\")\n",
    "\n",
    "alpha = 0.05\n",
    "if p_value < alpha:\n",
    "    print(\"El nombre de files no segueix una distribució normal.\")\n",
    "else:\n",
    "    print(\"El nombre de files segueix una distribució normal.\")"
   ],
   "id": "3a1a7fe57776685f",
   "outputs": [
    {
     "name": "stdout",
     "output_type": "stream",
     "text": [
      "Estadístic W = 0.6647\n",
      "Valor p = 0.00089170\n",
      "El nombre de files no segueix una distribució normal.\n"
     ]
    }
   ],
   "execution_count": 265
  },
  {
   "metadata": {
    "ExecuteTime": {
     "end_time": "2024-05-06T06:43:24.733084Z",
     "start_time": "2024-05-06T06:43:24.724525Z"
    }
   },
   "cell_type": "code",
   "source": [
    "stat, p_value = shapiro(AMB_PA_MECVV['Fibrosi pulmonar i fibrotòrax diagnosticades'])\n",
    "print(f\"Estadístic W = {stat:.4f}\")\n",
    "print(f\"Valor p = {p_value:.8f}\")\n",
    "\n",
    "alpha = 0.05\n",
    "if p_value < alpha:\n",
    "    print(\"El nombre de files no segueix una distribució normal.\")\n",
    "else:\n",
    "    print(\"El nombre de files segueix una distribució normal.\")"
   ],
   "id": "1718e4b49cea9d7f",
   "outputs": [
    {
     "name": "stdout",
     "output_type": "stream",
     "text": [
      "Estadístic W = 1.0000\n",
      "Valor p = 1.00000000\n",
      "El nombre de files segueix una distribució normal.\n"
     ]
    }
   ],
   "execution_count": 266
  },
  {
   "metadata": {
    "ExecuteTime": {
     "end_time": "2024-05-06T06:43:25.554677Z",
     "start_time": "2024-05-06T06:43:25.547907Z"
    }
   },
   "cell_type": "code",
   "source": [
    "stat, p_value = shapiro(SENSE_PA['Infeccions respiratòries principals diagnosticades'])\n",
    "print(f\"Estadístic W = {stat:.4f}\")\n",
    "print(f\"Valor p = {p_value:.8f}\")\n",
    "\n",
    "alpha = 0.05\n",
    "if p_value < alpha:\n",
    "    print(\"El nombre de files no segueix una distribució normal.\")\n",
    "else:\n",
    "    print(\"El nombre de files segueix una distribució normal.\")"
   ],
   "id": "ce920cf207335b36",
   "outputs": [
    {
     "name": "stdout",
     "output_type": "stream",
     "text": [
      "Estadístic W = 0.6647\n",
      "Valor p = 0.00089170\n",
      "El nombre de files no segueix una distribució normal.\n"
     ]
    }
   ],
   "execution_count": 267
  },
  {
   "metadata": {
    "ExecuteTime": {
     "end_time": "2024-05-06T06:43:26.252406Z",
     "start_time": "2024-05-06T06:43:26.237247Z"
    }
   },
   "cell_type": "code",
   "source": [
    "stat, p_value = shapiro(SENSE_PA['LRTI diagnosticada'])\n",
    "print(f\"Estadístic W = {stat:.4f}\")\n",
    "print(f\"Valor p = {p_value:.8f}\")\n",
    "\n",
    "alpha = 0.05\n",
    "if p_value < alpha:\n",
    "    print(\"El nombre de files no segueix una distribució normal.\")\n",
    "else:\n",
    "    print(\"El nombre de files segueix una distribució normal.\")"
   ],
   "id": "3a3a53e648ae0773",
   "outputs": [
    {
     "name": "stdout",
     "output_type": "stream",
     "text": [
      "Estadístic W = 0.5659\n",
      "Valor p = 0.00006323\n",
      "El nombre de files no segueix una distribució normal.\n"
     ]
    }
   ],
   "execution_count": 268
  },
  {
   "metadata": {
    "ExecuteTime": {
     "end_time": "2024-05-06T06:43:27.062338Z",
     "start_time": "2024-05-06T06:43:27.053503Z"
    }
   },
   "cell_type": "code",
   "source": [
    "stat, p_value = shapiro(SENSE_PA['Exacerbacions de COPD diagnosticades'])\n",
    "print(f\"Estadístic W = {stat:.4f}\")\n",
    "print(f\"Valor p = {p_value:.8f}\")\n",
    "\n",
    "alpha = 0.05\n",
    "if p_value < alpha:\n",
    "    print(\"El nombre de files no segueix una distribució normal.\")\n",
    "else:\n",
    "    print(\"El nombre de files segueix una distribució normal.\")"
   ],
   "id": "e8e436f4735c57c6",
   "outputs": [
    {
     "name": "stdout",
     "output_type": "stream",
     "text": [
      "Estadístic W = 0.5659\n",
      "Valor p = 0.00006323\n",
      "El nombre de files no segueix una distribució normal.\n"
     ]
    }
   ],
   "execution_count": 269
  },
  {
   "metadata": {
    "ExecuteTime": {
     "end_time": "2024-05-06T06:43:27.687055Z",
     "start_time": "2024-05-06T06:43:27.675736Z"
    }
   },
   "cell_type": "code",
   "source": [
    "stat, p_value = shapiro(SENSE_PA['Fibrosi pulmonar i fibrotòrax diagnosticades'])\n",
    "print(f\"Estadístic W = {stat:.4f}\")\n",
    "print(f\"Valor p = {p_value:.8f}\")\n",
    "\n",
    "alpha = 0.05\n",
    "if p_value < alpha:\n",
    "    print(\"El nombre de files no segueix una distribució normal.\")\n",
    "else:\n",
    "    print(\"El nombre de files segueix una distribució normal.\")"
   ],
   "id": "57ac2a0db7f4e96c",
   "outputs": [
    {
     "name": "stdout",
     "output_type": "stream",
     "text": [
      "Estadístic W = 1.0000\n",
      "Valor p = 1.00000000\n",
      "El nombre de files segueix una distribució normal.\n"
     ]
    }
   ],
   "execution_count": 270
  },
  {
   "metadata": {
    "ExecuteTime": {
     "end_time": "2024-05-06T06:43:28.800635Z",
     "start_time": "2024-05-06T06:43:28.791910Z"
    }
   },
   "cell_type": "code",
   "source": [
    "stat, p_value = shapiro(TOTAL['Infeccions respiratòries principals diagnosticades'])\n",
    "print(f\"Estadístic W = {stat:.4f}\")\n",
    "print(f\"Valor p = {p_value:.8f}\")\n",
    "\n",
    "alpha = 0.05\n",
    "if p_value < alpha:\n",
    "    print(\"El nombre de files no segueix una distribució normal.\")\n",
    "else:\n",
    "    print(\"El nombre de files segueix una distribució normal.\")"
   ],
   "id": "1560719a54dd5f3c",
   "outputs": [
    {
     "name": "stdout",
     "output_type": "stream",
     "text": [
      "Estadístic W = 0.6275\n",
      "Valor p = 0.00000000\n",
      "El nombre de files no segueix una distribució normal.\n"
     ]
    }
   ],
   "execution_count": 271
  },
  {
   "metadata": {
    "ExecuteTime": {
     "end_time": "2024-05-06T06:43:29.689547Z",
     "start_time": "2024-05-06T06:43:29.678895Z"
    }
   },
   "cell_type": "code",
   "source": [
    "stat, p_value = shapiro(TOTAL['LRTI diagnosticada'])\n",
    "print(f\"Estadístic W = {stat:.4f}\")\n",
    "print(f\"Valor p = {p_value:.8f}\")\n",
    "\n",
    "alpha = 0.05\n",
    "if p_value < alpha:\n",
    "    print(\"El nombre de files no segueix una distribució normal.\")\n",
    "else:\n",
    "    print(\"El nombre de files segueix una distribució normal.\")"
   ],
   "id": "9da1c709db3b6677",
   "outputs": [
    {
     "name": "stdout",
     "output_type": "stream",
     "text": [
      "Estadístic W = 0.5113\n",
      "Valor p = 0.00000000\n",
      "El nombre de files no segueix una distribució normal.\n"
     ]
    }
   ],
   "execution_count": 272
  },
  {
   "metadata": {
    "ExecuteTime": {
     "end_time": "2024-05-06T06:43:30.735016Z",
     "start_time": "2024-05-06T06:43:30.728324Z"
    }
   },
   "cell_type": "code",
   "source": [
    "stat, p_value = shapiro(TOTAL['Exacerbacions de COPD diagnosticades'])\n",
    "print(f\"Estadístic W = {stat:.4f}\")\n",
    "print(f\"Valor p = {p_value:.8f}\")\n",
    "\n",
    "alpha = 0.05\n",
    "if p_value < alpha:\n",
    "    print(\"El nombre de files no segueix una distribució normal.\")\n",
    "else:\n",
    "    print(\"El nombre de files segueix una distribució normal.\")"
   ],
   "id": "18e18edeaeccbb0f",
   "outputs": [
    {
     "name": "stdout",
     "output_type": "stream",
     "text": [
      "Estadístic W = 0.5879\n",
      "Valor p = 0.00000000\n",
      "El nombre de files no segueix una distribució normal.\n"
     ]
    }
   ],
   "execution_count": 273
  },
  {
   "metadata": {
    "ExecuteTime": {
     "end_time": "2024-05-06T06:43:31.584736Z",
     "start_time": "2024-05-06T06:43:31.577174Z"
    }
   },
   "cell_type": "code",
   "source": [
    "stat, p_value = shapiro(TOTAL['Fibrosi pulmonar i fibrotòrax diagnosticades'])\n",
    "print(f\"Estadístic W = {stat:.4f}\")\n",
    "print(f\"Valor p = {p_value:.8f}\")\n",
    "\n",
    "alpha = 0.05\n",
    "if p_value < alpha:\n",
    "    print(\"El nombre de files no segueix una distribució normal.\")\n",
    "else:\n",
    "    print(\"El nombre de files segueix una distribució normal.\")"
   ],
   "id": "d894d9466b6e4e3a",
   "outputs": [
    {
     "name": "stdout",
     "output_type": "stream",
     "text": [
      "Estadístic W = 1.0000\n",
      "Valor p = 1.00000000\n",
      "El nombre de files segueix una distribució normal.\n"
     ]
    }
   ],
   "execution_count": 274
  },
  {
   "metadata": {},
   "cell_type": "markdown",
   "source": "##### Infeccions respiratòries principals ",
   "id": "5e8e1e8b1c32f8ad"
  },
  {
   "metadata": {
    "ExecuteTime": {
     "end_time": "2024-05-06T06:43:32.413185Z",
     "start_time": "2024-05-06T06:43:32.394481Z"
    }
   },
   "cell_type": "code",
   "source": [
    "contingency_table_12 = pd.crosstab(index=AMB_PA['Infeccions respiratòries principals diagnosticades'], columns=AMB_PA_MECVV['Infeccions respiratòries principals diagnosticades'])\n",
    "\n",
    "chi2_12, p_value_12, dof_12, expected_12 = chi2_contingency(contingency_table_12)\n",
    "\n",
    "print(\"Estadístic xi-quadrat entre AMB_PA i AMB_PA_MECVV:\", chi2_12)\n",
    "print(\"P-valor entre AMB_PA i AMB_PA_MECVV:\", p_value_12)\n",
    "\n",
    "if p_value_12 < 0.05:\n",
    "    print(\"Hi ha diferències significatives entre les distribucions d'infeccions respiratòries en AMB_PA i AMB_PA_MECVV.\")\n",
    "else:\n",
    "    print(\"No hi ha diferències significatives entre les distribucions d'infeccions respiratòries en AMB_PA i AMB_PA_MECVV.\")"
   ],
   "id": "db72a64133768bd1",
   "outputs": [
    {
     "name": "stdout",
     "output_type": "stream",
     "text": [
      "Estadístic xi-quadrat entre AMB_PA i AMB_PA_MECVV: 2.34375\n",
      "P-valor entre AMB_PA i AMB_PA_MECVV: 0.12578642463893994\n",
      "No hi ha diferències significatives entre les distribucions d'infeccions respiratòries en AMB_PA i AMB_PA_MECVV.\n"
     ]
    }
   ],
   "execution_count": 275
  },
  {
   "metadata": {
    "ExecuteTime": {
     "end_time": "2024-05-06T06:43:33.261361Z",
     "start_time": "2024-05-06T06:43:33.242143Z"
    }
   },
   "cell_type": "code",
   "source": [
    "contingency_table_13 = pd.crosstab(index=AMB_PA['Infeccions respiratòries principals diagnosticades'], columns=SENSE_PA['Infeccions respiratòries principals diagnosticades'])\n",
    "\n",
    "chi2_13, p_value_13, dof_13, expected_13 = chi2_contingency(contingency_table_13)\n",
    "\n",
    "print(\"Estadístic xi-quadrat entre AMB_PA i SENSE_PA:\", chi2_13)\n",
    "print(\"P-valor entre AMB_PA i SENSE_PA:\", p_value_13)\n",
    "\n",
    "if p_value_13 < 0.05:\n",
    "    print(\"Hi ha diferències significatives entre les distribucions d'infeccions respiratòries en AMB_PA i SENSE_PA.\")\n",
    "else:\n",
    "    print(\"No hi ha diferències significatives entre les distribucions d'infeccions respiratòries en AMB_PA i SENSE_PA.\")"
   ],
   "id": "40d95109cbdff899",
   "outputs": [
    {
     "name": "stdout",
     "output_type": "stream",
     "text": [
      "Estadístic xi-quadrat entre AMB_PA i SENSE_PA: 0.1875\n",
      "P-valor entre AMB_PA i SENSE_PA: 0.6650055421020291\n",
      "No hi ha diferències significatives entre les distribucions d'infeccions respiratòries en AMB_PA i SENSE_PA.\n"
     ]
    }
   ],
   "execution_count": 276
  },
  {
   "metadata": {
    "ExecuteTime": {
     "end_time": "2024-05-06T06:43:34.208898Z",
     "start_time": "2024-05-06T06:43:34.161265Z"
    }
   },
   "cell_type": "code",
   "source": [
    "contingency_table_23 = pd.crosstab(index=AMB_PA_MECVV['Infeccions respiratòries principals diagnosticades'], columns=SENSE_PA['Infeccions respiratòries principals diagnosticades'])\n",
    "\n",
    "chi2_23, p_value_23, dof_23, expected_23 = chi2_contingency(contingency_table_23)\n",
    "\n",
    "print(\"Estadístic xi-quadrat entre AMB_PA_MECVV i SENSE_PA:\", chi2_23)\n",
    "print(\"P-valor entre AMB_PA_MECVV i SENSE_PA:\", p_value_23)\n",
    "\n",
    "if p_value_23 < 0.05:\n",
    "    print(\"Hi ha diferències significatives entre les distribucions d'infeccions respiratòries en AMB_PA i AMB_PA_MECVV.\")\n",
    "else:\n",
    "    print(\"No hi ha diferències significatives entre les distribucions d'infeccions respiratòries en AMB_PA i AMB_PA_MECVV.\")"
   ],
   "id": "8fc450c2c0998105",
   "outputs": [
    {
     "ename": "ValueError",
     "evalue": "No data; `observed` has size 0.",
     "output_type": "error",
     "traceback": [
      "\u001B[1;31m---------------------------------------------------------------------------\u001B[0m",
      "\u001B[1;31mValueError\u001B[0m                                Traceback (most recent call last)",
      "Cell \u001B[1;32mIn[277], line 3\u001B[0m\n\u001B[0;32m      1\u001B[0m contingency_table_23 \u001B[38;5;241m=\u001B[39m pd\u001B[38;5;241m.\u001B[39mcrosstab(index\u001B[38;5;241m=\u001B[39mAMB_PA_MECVV[\u001B[38;5;124m'\u001B[39m\u001B[38;5;124mInfeccions respiratòries principals diagnosticades\u001B[39m\u001B[38;5;124m'\u001B[39m], columns\u001B[38;5;241m=\u001B[39mSENSE_PA[\u001B[38;5;124m'\u001B[39m\u001B[38;5;124mInfeccions respiratòries principals diagnosticades\u001B[39m\u001B[38;5;124m'\u001B[39m])\n\u001B[1;32m----> 3\u001B[0m chi2_23, p_value_23, dof_23, expected_23 \u001B[38;5;241m=\u001B[39m \u001B[43mchi2_contingency\u001B[49m\u001B[43m(\u001B[49m\u001B[43mcontingency_table_23\u001B[49m\u001B[43m)\u001B[49m\n\u001B[0;32m      5\u001B[0m \u001B[38;5;28mprint\u001B[39m(\u001B[38;5;124m\"\u001B[39m\u001B[38;5;124mEstadístic xi-quadrat entre AMB_PA_MECVV i SENSE_PA:\u001B[39m\u001B[38;5;124m\"\u001B[39m, chi2_23)\n\u001B[0;32m      6\u001B[0m \u001B[38;5;28mprint\u001B[39m(\u001B[38;5;124m\"\u001B[39m\u001B[38;5;124mP-valor entre AMB_PA_MECVV i SENSE_PA:\u001B[39m\u001B[38;5;124m\"\u001B[39m, p_value_23)\n",
      "File \u001B[1;32m~\\PycharmProjects\\practicum\\.venv\\Lib\\site-packages\\scipy\\stats\\contingency.py:333\u001B[0m, in \u001B[0;36mchi2_contingency\u001B[1;34m(observed, correction, lambda_)\u001B[0m\n\u001B[0;32m    331\u001B[0m     \u001B[38;5;28;01mraise\u001B[39;00m \u001B[38;5;167;01mValueError\u001B[39;00m(\u001B[38;5;124m\"\u001B[39m\u001B[38;5;124mAll values in `observed` must be nonnegative.\u001B[39m\u001B[38;5;124m\"\u001B[39m)\n\u001B[0;32m    332\u001B[0m \u001B[38;5;28;01mif\u001B[39;00m observed\u001B[38;5;241m.\u001B[39msize \u001B[38;5;241m==\u001B[39m \u001B[38;5;241m0\u001B[39m:\n\u001B[1;32m--> 333\u001B[0m     \u001B[38;5;28;01mraise\u001B[39;00m \u001B[38;5;167;01mValueError\u001B[39;00m(\u001B[38;5;124m\"\u001B[39m\u001B[38;5;124mNo data; `observed` has size 0.\u001B[39m\u001B[38;5;124m\"\u001B[39m)\n\u001B[0;32m    335\u001B[0m expected \u001B[38;5;241m=\u001B[39m expected_freq(observed)\n\u001B[0;32m    336\u001B[0m \u001B[38;5;28;01mif\u001B[39;00m np\u001B[38;5;241m.\u001B[39many(expected \u001B[38;5;241m==\u001B[39m \u001B[38;5;241m0\u001B[39m):\n\u001B[0;32m    337\u001B[0m     \u001B[38;5;66;03m# Include one of the positions where expected is zero in\u001B[39;00m\n\u001B[0;32m    338\u001B[0m     \u001B[38;5;66;03m# the exception message.\u001B[39;00m\n",
      "\u001B[1;31mValueError\u001B[0m: No data; `observed` has size 0."
     ]
    }
   ],
   "execution_count": 277
  },
  {
   "metadata": {
    "ExecuteTime": {
     "end_time": "2024-05-06T06:43:35.121585Z",
     "start_time": "2024-05-06T06:43:35.107746Z"
    }
   },
   "cell_type": "code",
   "source": [
    "contingency_table_14 = pd.crosstab(index=AMB_PA['Infeccions respiratòries principals diagnosticades'], columns=TOTAL['Infeccions respiratòries principals diagnosticades'])\n",
    "\n",
    "chi2_14, p_value_14, dof_14, expected_14 = chi2_contingency(contingency_table_14)\n",
    "\n",
    "print(\"Estadístic xi-quadrat entre AMB_PA i AMB_PA_MECVV:\", chi2_14)\n",
    "print(\"P-valor entre AMB_PA i AMB_PA_MECVV:\", p_value_14)\n",
    "\n",
    "if p_value_14 < 0.05:\n",
    "    print(\"Hi ha diferències significatives entre les distribucions d'infeccions respiratòries en AMB_PA i TOTAL.\")\n",
    "else:\n",
    "    print(\"No hi ha diferències significatives entre les distribucions d'infeccions respiratòries en AMB_PA i TOTAL.\")"
   ],
   "id": "2311cb30dfac9b40",
   "outputs": [
    {
     "name": "stdout",
     "output_type": "stream",
     "text": [
      "Estadístic xi-quadrat entre AMB_PA i AMB_PA_MECVV: 13.122091836734691\n",
      "P-valor entre AMB_PA i AMB_PA_MECVV: 0.0002918340067889046\n",
      "Hi ha diferències significatives entre les distribucions d'infeccions respiratòries en AMB_PA i TOTAL.\n"
     ]
    }
   ],
   "execution_count": 278
  },
  {
   "metadata": {
    "ExecuteTime": {
     "end_time": "2024-05-06T06:43:35.767817Z",
     "start_time": "2024-05-06T06:43:35.749930Z"
    }
   },
   "cell_type": "code",
   "source": [
    "contingency_table_24 = pd.crosstab(index=AMB_PA_MECVV['Infeccions respiratòries principals diagnosticades'], columns=TOTAL['Infeccions respiratòries principals diagnosticades'])\n",
    "\n",
    "chi2_24, p_value_24, dof_24, expected_24 = chi2_contingency(contingency_table_24)\n",
    "\n",
    "print(\"Estadístic xi-quadrat entre AMB_PA_MECVV i TOTAL:\", chi2_24)\n",
    "print(\"P-valor entre AMB_PA_MECVV i TOTAL:\", p_value_24)\n",
    "\n",
    "if p_value_24 < 0.05:\n",
    "    print(\"Hi ha diferències significatives entre les distribucions d'infeccions respiratòries en AMB_PA_MECVV i TOTAL.\")\n",
    "else:\n",
    "    print(\"No hi ha diferències significatives entre les distribucions d'infeccions respiratòries en AMB_PA_MECVV i TOTAL.\")"
   ],
   "id": "fa8ed7f23bea49e7",
   "outputs": [
    {
     "name": "stdout",
     "output_type": "stream",
     "text": [
      "Estadístic xi-quadrat entre AMB_PA_MECVV i TOTAL: 4.5\n",
      "P-valor entre AMB_PA_MECVV i TOTAL: 0.033894853524689295\n",
      "Hi ha diferències significatives entre les distribucions d'infeccions respiratòries en AMB_PA_MECVV i TOTAL.\n"
     ]
    }
   ],
   "execution_count": 279
  },
  {
   "metadata": {
    "ExecuteTime": {
     "end_time": "2024-05-06T06:43:36.658351Z",
     "start_time": "2024-05-06T06:43:36.642219Z"
    }
   },
   "cell_type": "code",
   "source": [
    "contingency_table_34 = pd.crosstab(index=SENSE_PA['Infeccions respiratòries principals diagnosticades'], columns=TOTAL['Infeccions respiratòries principals diagnosticades'])\n",
    "\n",
    "chi2_34, p_value_34, dof_4, expected_34 = chi2_contingency(contingency_table_34)\n",
    "\n",
    "print(\"Estadístic xi-quadrat entre SENSE_PA i TOTAL:\", chi2_34)\n",
    "print(\"P-valor entre AMB_PA i TOTAL:\", p_value_34)\n",
    "\n",
    "if p_value_34 < 0.05:\n",
    "    print(\"Hi ha diferències significatives entre les distribucions d'infeccions respiratòries en SENSE_PA i TOTAL.\")\n",
    "else:\n",
    "    print(\"No hi ha diferències significatives entre les distribucions d'infeccions respiratòries en SENSE_PA i TOTAL.\")"
   ],
   "id": "d7e719e6fc545e27",
   "outputs": [
    {
     "name": "stdout",
     "output_type": "stream",
     "text": [
      "Estadístic xi-quadrat entre SENSE_PA i TOTAL: 4.5\n",
      "P-valor entre AMB_PA i TOTAL: 0.033894853524689295\n",
      "Hi ha diferències significatives entre les distribucions d'infeccions respiratòries en SENSE_PA i TOTAL.\n"
     ]
    }
   ],
   "execution_count": 280
  },
  {
   "metadata": {},
   "cell_type": "markdown",
   "source": "##### LRTI",
   "id": "4212eae2d2582253"
  },
  {
   "metadata": {
    "ExecuteTime": {
     "end_time": "2024-05-06T06:43:37.313113Z",
     "start_time": "2024-05-06T06:43:37.265263Z"
    }
   },
   "cell_type": "code",
   "source": [
    "contingency_table_12 = pd.crosstab(index=AMB_PA['LRTI diagnosticada'], columns=AMB_PA_MECVV['LRTI diagnosticada'])\n",
    "\n",
    "chi2_12, p_value_12, dof_12, expected_12 = chi2_contingency(contingency_table_12)\n",
    "\n",
    "print(\"Estadístic xi-quadrat entre AMB_PA i AMB_PA_MECVV:\", chi2_12)\n",
    "print(\"P-valor entre AMB_PA i AMB_PA_MECVV:\", p_value_12)\n",
    "\n",
    "if p_value_12 < 0.05:\n",
    "    print(\"Hi ha diferències significatives entre les distribucions de LRTI en AMB_PA i AMB_PA_MECVV.\")\n",
    "else:\n",
    "    print(\"No hi ha diferències significatives entre les distribucions de LRTI en AMB_PA i AMB_PA_MECVV.\")"
   ],
   "id": "92b3f9c5ea82b67e",
   "outputs": [
    {
     "name": "stdout",
     "output_type": "stream",
     "text": [
      "Estadístic xi-quadrat entre AMB_PA i AMB_PA_MECVV: 0.9600000000000002\n",
      "P-valor entre AMB_PA i AMB_PA_MECVV: 0.32718687779030275\n",
      "No hi ha diferències significatives entre les distribucions de LRTI en AMB_PA i AMB_PA_MECVV.\n"
     ]
    }
   ],
   "execution_count": 281
  },
  {
   "metadata": {
    "ExecuteTime": {
     "end_time": "2024-05-06T06:43:38.158375Z",
     "start_time": "2024-05-06T06:43:38.140548Z"
    }
   },
   "cell_type": "code",
   "source": [
    "contingency_table_13 = pd.crosstab(index=AMB_PA['LRTI diagnosticada'], columns=SENSE_PA['LRTI diagnosticada'])\n",
    "\n",
    "chi2_13, p_value_13, dof_13, expected_13 = chi2_contingency(contingency_table_13)\n",
    "\n",
    "print(\"Estadístic xi-quadrat entre AMB_PA i SENSE_PA:\", chi2_13)\n",
    "print(\"P-valor entre AMB_PA i SENSE_PA:\", p_value_13)\n",
    "\n",
    "if p_value_13 < 0.05:\n",
    "    print(\"Hi ha diferències significatives entre les distribucions de LRTI en AMB_PA i SENSE_PA.\")\n",
    "else:\n",
    "    print(\"No hi ha diferències significatives entre les distribucions de LRTI en AMB_PA i SENSE_PA.\")"
   ],
   "id": "7f648a914bf78cf7",
   "outputs": [
    {
     "name": "stdout",
     "output_type": "stream",
     "text": [
      "Estadístic xi-quadrat entre AMB_PA i SENSE_PA: 0.1875\n",
      "P-valor entre AMB_PA i SENSE_PA: 0.6650055421020291\n",
      "No hi ha diferències significatives entre les distribucions de LRTI en AMB_PA i SENSE_PA.\n"
     ]
    }
   ],
   "execution_count": 282
  },
  {
   "metadata": {
    "ExecuteTime": {
     "end_time": "2024-05-06T06:43:38.827879Z",
     "start_time": "2024-05-06T06:43:38.782845Z"
    }
   },
   "cell_type": "code",
   "source": [
    "contingency_table_23 = pd.crosstab(index=AMB_PA_MECVV['LRTI diagnosticada'], columns=SENSE_PA['LRTI diagnosticada'])\n",
    "\n",
    "chi2_23, p_value_23, dof_23, expected_23 = chi2_contingency(contingency_table_23)\n",
    "\n",
    "print(\"Estadístic xi-quadrat entre AMB_PA_MECVV i SENSE_PA:\", chi2_23)\n",
    "print(\"P-valor entre AMB_PA_MECVV i SENSE_PA:\", p_value_23)\n",
    "\n",
    "if p_value_23 < 0.05:\n",
    "    print(\"Hi ha diferències significatives entre les distribucions de LRTI en AMB_PA_MECVV i SENSE_PA.\")\n",
    "else:\n",
    "    print(\"No hi ha diferències significatives entre les distribucions de LRTI en AMB_PA_MECVV i SENSE_PA.\")"
   ],
   "id": "d64bc20d970d227a",
   "outputs": [
    {
     "ename": "ValueError",
     "evalue": "No data; `observed` has size 0.",
     "output_type": "error",
     "traceback": [
      "\u001B[1;31m---------------------------------------------------------------------------\u001B[0m",
      "\u001B[1;31mValueError\u001B[0m                                Traceback (most recent call last)",
      "Cell \u001B[1;32mIn[283], line 3\u001B[0m\n\u001B[0;32m      1\u001B[0m contingency_table_23 \u001B[38;5;241m=\u001B[39m pd\u001B[38;5;241m.\u001B[39mcrosstab(index\u001B[38;5;241m=\u001B[39mAMB_PA_MECVV[\u001B[38;5;124m'\u001B[39m\u001B[38;5;124mLRTI diagnosticada\u001B[39m\u001B[38;5;124m'\u001B[39m], columns\u001B[38;5;241m=\u001B[39mSENSE_PA[\u001B[38;5;124m'\u001B[39m\u001B[38;5;124mLRTI diagnosticada\u001B[39m\u001B[38;5;124m'\u001B[39m])\n\u001B[1;32m----> 3\u001B[0m chi2_23, p_value_23, dof_23, expected_23 \u001B[38;5;241m=\u001B[39m \u001B[43mchi2_contingency\u001B[49m\u001B[43m(\u001B[49m\u001B[43mcontingency_table_23\u001B[49m\u001B[43m)\u001B[49m\n\u001B[0;32m      5\u001B[0m \u001B[38;5;28mprint\u001B[39m(\u001B[38;5;124m\"\u001B[39m\u001B[38;5;124mEstadístic xi-quadrat entre AMB_PA_MECVV i SENSE_PA:\u001B[39m\u001B[38;5;124m\"\u001B[39m, chi2_23)\n\u001B[0;32m      6\u001B[0m \u001B[38;5;28mprint\u001B[39m(\u001B[38;5;124m\"\u001B[39m\u001B[38;5;124mP-valor entre AMB_PA_MECVV i SENSE_PA:\u001B[39m\u001B[38;5;124m\"\u001B[39m, p_value_23)\n",
      "File \u001B[1;32m~\\PycharmProjects\\practicum\\.venv\\Lib\\site-packages\\scipy\\stats\\contingency.py:333\u001B[0m, in \u001B[0;36mchi2_contingency\u001B[1;34m(observed, correction, lambda_)\u001B[0m\n\u001B[0;32m    331\u001B[0m     \u001B[38;5;28;01mraise\u001B[39;00m \u001B[38;5;167;01mValueError\u001B[39;00m(\u001B[38;5;124m\"\u001B[39m\u001B[38;5;124mAll values in `observed` must be nonnegative.\u001B[39m\u001B[38;5;124m\"\u001B[39m)\n\u001B[0;32m    332\u001B[0m \u001B[38;5;28;01mif\u001B[39;00m observed\u001B[38;5;241m.\u001B[39msize \u001B[38;5;241m==\u001B[39m \u001B[38;5;241m0\u001B[39m:\n\u001B[1;32m--> 333\u001B[0m     \u001B[38;5;28;01mraise\u001B[39;00m \u001B[38;5;167;01mValueError\u001B[39;00m(\u001B[38;5;124m\"\u001B[39m\u001B[38;5;124mNo data; `observed` has size 0.\u001B[39m\u001B[38;5;124m\"\u001B[39m)\n\u001B[0;32m    335\u001B[0m expected \u001B[38;5;241m=\u001B[39m expected_freq(observed)\n\u001B[0;32m    336\u001B[0m \u001B[38;5;28;01mif\u001B[39;00m np\u001B[38;5;241m.\u001B[39many(expected \u001B[38;5;241m==\u001B[39m \u001B[38;5;241m0\u001B[39m):\n\u001B[0;32m    337\u001B[0m     \u001B[38;5;66;03m# Include one of the positions where expected is zero in\u001B[39;00m\n\u001B[0;32m    338\u001B[0m     \u001B[38;5;66;03m# the exception message.\u001B[39;00m\n",
      "\u001B[1;31mValueError\u001B[0m: No data; `observed` has size 0."
     ]
    }
   ],
   "execution_count": 283
  },
  {
   "metadata": {
    "ExecuteTime": {
     "end_time": "2024-05-06T06:43:39.637109Z",
     "start_time": "2024-05-06T06:43:39.619498Z"
    }
   },
   "cell_type": "code",
   "source": [
    "contingency_table_14 = pd.crosstab(index=AMB_PA['LRTI diagnosticada'], columns=TOTAL['LRTI diagnosticada'])\n",
    "\n",
    "chi2_14, p_value_14, dof_14, expected_14 = chi2_contingency(contingency_table_14)\n",
    "\n",
    "print(\"Estadístic xi-quadrat entre AMB_PA i TOTAL:\", chi2_14)\n",
    "print(\"P-valor entre AMB_PA i TOTAL:\", p_value_14)\n",
    "\n",
    "if p_value_14 < 0.05:\n",
    "    print(\"Hi ha diferències significatives entre les distribucions de LRTI en AMB_PA i TOTAL.\")\n",
    "else:\n",
    "    print(\"No hi ha diferències significatives entre les distribucions de LRTI en AMB_PA i TOTAL.\")"
   ],
   "id": "95287e2e13ac0d2e",
   "outputs": [
    {
     "name": "stdout",
     "output_type": "stream",
     "text": [
      "Estadístic xi-quadrat entre AMB_PA i TOTAL: 10.815334467120184\n",
      "P-valor entre AMB_PA i TOTAL: 0.0010066283741798992\n",
      "Hi ha diferències significatives entre les distribucions de LRTI en AMB_PA i TOTAL.\n"
     ]
    }
   ],
   "execution_count": 284
  },
  {
   "metadata": {
    "ExecuteTime": {
     "end_time": "2024-05-06T06:43:40.259428Z",
     "start_time": "2024-05-06T06:43:40.244811Z"
    }
   },
   "cell_type": "code",
   "source": [
    "contingency_table_24 = pd.crosstab(index=AMB_PA_MECVV['LRTI diagnosticada'], columns=TOTAL['LRTI diagnosticada'])\n",
    "\n",
    "chi2_24, p_value_24, dof_24, expected_24 = chi2_contingency(contingency_table_24)\n",
    "\n",
    "print(\"Estadístic xi-quadrat entre AMB_PA_MECVV i TOTAL:\", chi2_24)\n",
    "print(\"P-valor entre AMB_PA_MECVV i TOTAL:\", p_value_24)\n",
    "\n",
    "if p_value_24 < 0.05:\n",
    "    print(\"Hi ha diferències significatives entre les distribucions de LRTI en AMB_PA_MECVV i TOTAL.\")\n",
    "else:\n",
    "    print(\"No hi ha diferències significatives entre les distribucions de LRTI en AMB_PA_MECVV i TOTAL.\")"
   ],
   "id": "544ee660d9ba87ae",
   "outputs": [
    {
     "name": "stdout",
     "output_type": "stream",
     "text": [
      "Estadístic xi-quadrat entre AMB_PA_MECVV i TOTAL: 1.469387755102041\n",
      "P-valor entre AMB_PA_MECVV i TOTAL: 0.22544231699450956\n",
      "No hi ha diferències significatives entre les distribucions de LRTI en AMB_PA_MECVV i TOTAL.\n"
     ]
    }
   ],
   "execution_count": 285
  },
  {
   "metadata": {
    "ExecuteTime": {
     "end_time": "2024-05-06T06:43:41.104984Z",
     "start_time": "2024-05-06T06:43:41.088131Z"
    }
   },
   "cell_type": "code",
   "source": [
    "contingency_table_34 = pd.crosstab(index=SENSE_PA['LRTI diagnosticada'], columns=TOTAL['LRTI diagnosticada'])\n",
    "\n",
    "chi2_34, p_value_34, dof_34, expected_34 = chi2_contingency(contingency_table_34)\n",
    "\n",
    "print(\"Estadístic xi-quadrat entre SENSE_PA i TOTAL:\", chi2_34)\n",
    "print(\"P-valor entre SNESE_PA i TOTAL:\", p_value_34)\n",
    "\n",
    "if p_value_34 < 0.05:\n",
    "    print(\"Hi ha diferències significatives entre les distribucions de LRTI en SENSE_PA i TOTAL.\")\n",
    "else:\n",
    "    print(\"No hi ha diferències significatives entre les distribucions de LRTI en SENSE_PA i TOTAL.\")"
   ],
   "id": "8a9c57c79327c3ad",
   "outputs": [
    {
     "name": "stdout",
     "output_type": "stream",
     "text": [
      "Estadístic xi-quadrat entre SENSE_PA i TOTAL: 3.5555555555555554\n",
      "P-valor entre SNESE_PA i TOTAL: 0.05934643879191998\n",
      "No hi ha diferències significatives entre les distribucions de LRTI en SENSE_PA i TOTAL.\n"
     ]
    }
   ],
   "execution_count": 286
  },
  {
   "metadata": {},
   "cell_type": "markdown",
   "source": "##### Exacerbacions de COPD",
   "id": "3f2c5d732213150e"
  },
  {
   "metadata": {
    "ExecuteTime": {
     "end_time": "2024-05-06T06:43:41.768122Z",
     "start_time": "2024-05-06T06:43:41.749731Z"
    }
   },
   "cell_type": "code",
   "source": [
    "contingency_table_12 = pd.crosstab(index=AMB_PA['Exacerbacions de COPD diagnosticades'], columns=AMB_PA_MECVV['Exacerbacions de COPD diagnosticades'])\n",
    "\n",
    "chi2_12, p_value_12, dof_12, expected_12 = chi2_contingency(contingency_table_12)\n",
    "\n",
    "print(\"Estadístic xi-quadrat entre AMB_PA i AMB_PA_MECVV:\", chi2_12)\n",
    "print(\"P-valor entre AMB_PA i AMB_PA_MECVV:\", p_value_12)\n",
    "\n",
    "if p_value_12 < 0.05:\n",
    "    print(\"Hi ha diferències significatives entre les distribucions d'exacerbacions de COPD en AMB_PA i AMB_PA_MECV.\")\n",
    "else:\n",
    "    print(\"No hi ha diferències significatives entre les distribucions d'exacerbacions de COPD en AMB_PA i AMB_PA_MECVV.\")"
   ],
   "id": "730e3b6ac0c3cabd",
   "outputs": [
    {
     "name": "stdout",
     "output_type": "stream",
     "text": [
      "Estadístic xi-quadrat entre AMB_PA i AMB_PA_MECVV: 2.34375\n",
      "P-valor entre AMB_PA i AMB_PA_MECVV: 0.12578642463893994\n",
      "No hi ha diferències significatives entre les distribucions d'exacerbacions de COPD en AMB_PA i AMB_PA_MECVV.\n"
     ]
    }
   ],
   "execution_count": 287
  },
  {
   "metadata": {
    "ExecuteTime": {
     "end_time": "2024-05-06T06:43:42.612657Z",
     "start_time": "2024-05-06T06:43:42.596154Z"
    }
   },
   "cell_type": "code",
   "source": [
    "contingency_table_13 = pd.crosstab(index=AMB_PA['Exacerbacions de COPD diagnosticades'], columns=SENSE_PA['Exacerbacions de COPD diagnosticades'])\n",
    "\n",
    "chi2_13, p_value_13, dof_13, expected_13 = chi2_contingency(contingency_table_13)\n",
    "\n",
    "print(\"Estadístic xi-quadrat entre AMB_PA i SENSE_PA:\", chi2_13)\n",
    "print(\"P-valor entre AMB_PA i SENSE_PA:\", p_value_13)\n",
    "\n",
    "if p_value_13 < 0.05:\n",
    "    print(\"Hi ha diferències significatives entre les distribucions d'exacerbacions de COPD en AMB_PA i SENSE_PA.\")\n",
    "else:\n",
    "    print(\"No hi ha diferències significatives entre les distribucions d'exacerbacions de COPD en AMB_PA i SENSE_PA.\")"
   ],
   "id": "11cc00214bae88b1",
   "outputs": [
    {
     "name": "stdout",
     "output_type": "stream",
     "text": [
      "Estadístic xi-quadrat entre AMB_PA i SENSE_PA: 0.0\n",
      "P-valor entre AMB_PA i SENSE_PA: 1.0\n",
      "No hi ha diferències significatives entre les distribucions d'exacerbacions de COPD en AMB_PA i SENSE_PA.\n"
     ]
    }
   ],
   "execution_count": 288
  },
  {
   "metadata": {
    "ExecuteTime": {
     "end_time": "2024-05-06T06:43:43.311326Z",
     "start_time": "2024-05-06T06:43:43.272861Z"
    }
   },
   "cell_type": "code",
   "source": [
    "contingency_table_23 = pd.crosstab(index=AMB_PA_MECVV['Exacerbacions de COPD diagnosticades'], columns=SENSE_PA['Exacerbacions de COPD diagnosticades'])\n",
    "\n",
    "chi2_23, p_value_23, dof_23, expected_23 = chi2_contingency(contingency_table_23)\n",
    "\n",
    "print(\"Estadístic xi-quadrat entre AMB_PA_MECVV i SENSE_PA:\", chi2_23)\n",
    "print(\"P-valor entre AMB_PA_MECVV i SENSE_PA:\", p_value_23)\n",
    "\n",
    "if p_value_23 < 0.05:\n",
    "    print(\"Hi ha diferències significatives entre les distribucions d'exacerbacions de COPD en AMB_PA_MECVV i SENSE_PA.\")\n",
    "else:\n",
    "    print(\"No hi ha diferències significatives entre les distribucions d'exacerbacions de COPD en AMB_PA_MECVV i SENSE_PA.\")"
   ],
   "id": "4df4d92107ced99b",
   "outputs": [
    {
     "ename": "ValueError",
     "evalue": "No data; `observed` has size 0.",
     "output_type": "error",
     "traceback": [
      "\u001B[1;31m---------------------------------------------------------------------------\u001B[0m",
      "\u001B[1;31mValueError\u001B[0m                                Traceback (most recent call last)",
      "Cell \u001B[1;32mIn[289], line 3\u001B[0m\n\u001B[0;32m      1\u001B[0m contingency_table_23 \u001B[38;5;241m=\u001B[39m pd\u001B[38;5;241m.\u001B[39mcrosstab(index\u001B[38;5;241m=\u001B[39mAMB_PA_MECVV[\u001B[38;5;124m'\u001B[39m\u001B[38;5;124mExacerbacions de COPD diagnosticades\u001B[39m\u001B[38;5;124m'\u001B[39m], columns\u001B[38;5;241m=\u001B[39mSENSE_PA[\u001B[38;5;124m'\u001B[39m\u001B[38;5;124mExacerbacions de COPD diagnosticades\u001B[39m\u001B[38;5;124m'\u001B[39m])\n\u001B[1;32m----> 3\u001B[0m chi2_23, p_value_23, dof_23, expected_23 \u001B[38;5;241m=\u001B[39m \u001B[43mchi2_contingency\u001B[49m\u001B[43m(\u001B[49m\u001B[43mcontingency_table_23\u001B[49m\u001B[43m)\u001B[49m\n\u001B[0;32m      5\u001B[0m \u001B[38;5;28mprint\u001B[39m(\u001B[38;5;124m\"\u001B[39m\u001B[38;5;124mEstadístic xi-quadrat entre AMB_PA_MECVV i SENSE_PA:\u001B[39m\u001B[38;5;124m\"\u001B[39m, chi2_23)\n\u001B[0;32m      6\u001B[0m \u001B[38;5;28mprint\u001B[39m(\u001B[38;5;124m\"\u001B[39m\u001B[38;5;124mP-valor entre AMB_PA_MECVV i SENSE_PA:\u001B[39m\u001B[38;5;124m\"\u001B[39m, p_value_23)\n",
      "File \u001B[1;32m~\\PycharmProjects\\practicum\\.venv\\Lib\\site-packages\\scipy\\stats\\contingency.py:333\u001B[0m, in \u001B[0;36mchi2_contingency\u001B[1;34m(observed, correction, lambda_)\u001B[0m\n\u001B[0;32m    331\u001B[0m     \u001B[38;5;28;01mraise\u001B[39;00m \u001B[38;5;167;01mValueError\u001B[39;00m(\u001B[38;5;124m\"\u001B[39m\u001B[38;5;124mAll values in `observed` must be nonnegative.\u001B[39m\u001B[38;5;124m\"\u001B[39m)\n\u001B[0;32m    332\u001B[0m \u001B[38;5;28;01mif\u001B[39;00m observed\u001B[38;5;241m.\u001B[39msize \u001B[38;5;241m==\u001B[39m \u001B[38;5;241m0\u001B[39m:\n\u001B[1;32m--> 333\u001B[0m     \u001B[38;5;28;01mraise\u001B[39;00m \u001B[38;5;167;01mValueError\u001B[39;00m(\u001B[38;5;124m\"\u001B[39m\u001B[38;5;124mNo data; `observed` has size 0.\u001B[39m\u001B[38;5;124m\"\u001B[39m)\n\u001B[0;32m    335\u001B[0m expected \u001B[38;5;241m=\u001B[39m expected_freq(observed)\n\u001B[0;32m    336\u001B[0m \u001B[38;5;28;01mif\u001B[39;00m np\u001B[38;5;241m.\u001B[39many(expected \u001B[38;5;241m==\u001B[39m \u001B[38;5;241m0\u001B[39m):\n\u001B[0;32m    337\u001B[0m     \u001B[38;5;66;03m# Include one of the positions where expected is zero in\u001B[39;00m\n\u001B[0;32m    338\u001B[0m     \u001B[38;5;66;03m# the exception message.\u001B[39;00m\n",
      "\u001B[1;31mValueError\u001B[0m: No data; `observed` has size 0."
     ]
    }
   ],
   "execution_count": 289
  },
  {
   "metadata": {
    "ExecuteTime": {
     "end_time": "2024-05-06T06:43:44.135694Z",
     "start_time": "2024-05-06T06:43:44.121386Z"
    }
   },
   "cell_type": "code",
   "source": [
    "contingency_table_14 = pd.crosstab(index=AMB_PA['Exacerbacions de COPD diagnosticades'], columns=TOTAL['Exacerbacions de COPD diagnosticades'])\n",
    "\n",
    "chi2_14, p_value_14, dof_14, expected_14 = chi2_contingency(contingency_table_14)\n",
    "\n",
    "print(\"Estadístic xi-quadrat entre AMB_PA i TOTAL:\", chi2_14)\n",
    "print(\"P-valor entre AMB_PA i TOTAL:\", p_value_14)\n",
    "\n",
    "if p_value_14 < 0.05:\n",
    "    print(\"Hi ha diferències significatives entre les distribucions d'exacerbacions de COPD en AMB_PA i TOTAL.\")\n",
    "else:\n",
    "    print(\"No hi ha diferències significatives entre les distribucions d'exacerbacions de COPD en AMB_PA i TOTAL.\")"
   ],
   "id": "86de83737f8b5b6f",
   "outputs": [
    {
     "name": "stdout",
     "output_type": "stream",
     "text": [
      "Estadístic xi-quadrat entre AMB_PA i TOTAL: 12.524513888888887\n",
      "P-valor entre AMB_PA i TOTAL: 0.00040164738150225485\n",
      "Hi ha diferències significatives entre les distribucions d'exacerbacions de COPD en AMB_PA i TOTAL.\n"
     ]
    }
   ],
   "execution_count": 290
  },
  {
   "metadata": {
    "ExecuteTime": {
     "end_time": "2024-05-06T06:43:44.795947Z",
     "start_time": "2024-05-06T06:43:44.779818Z"
    }
   },
   "cell_type": "code",
   "source": [
    "contingency_table_24 = pd.crosstab(index=AMB_PA_MECVV['Exacerbacions de COPD diagnosticades'], columns=TOTAL['Exacerbacions de COPD diagnosticades'])\n",
    "\n",
    "chi2_24, p_value_24, dof_24, expected_24 = chi2_contingency(contingency_table_24)\n",
    "\n",
    "print(\"Estadístic xi-quadrat entre AMB_PA_MECVV i TOTAL:\", chi2_24)\n",
    "print(\"P-valor entre AMB_PA_MECVV i TOTAL:\", p_value_24)\n",
    "\n",
    "if p_value_24 < 0.05:\n",
    "    print(\"Hi ha diferències significatives entre les distribucions d'exacerbacions de COPD en AMB_PA_MECVV i TOTAL.\")\n",
    "else:\n",
    "    print(\"No hi ha diferències significatives entre les distribucions d'exacerbacions de COPD en AMB_PA_MECVV i TOTAL.\")"
   ],
   "id": "ded46e053dbd981b",
   "outputs": [
    {
     "name": "stdout",
     "output_type": "stream",
     "text": [
      "Estadístic xi-quadrat entre AMB_PA_MECVV i TOTAL: 4.5\n",
      "P-valor entre AMB_PA_MECVV i TOTAL: 0.033894853524689295\n",
      "Hi ha diferències significatives entre les distribucions d'exacerbacions de COPD en AMB_PA_MECVV i TOTAL.\n"
     ]
    }
   ],
   "execution_count": 291
  },
  {
   "metadata": {
    "ExecuteTime": {
     "end_time": "2024-05-06T06:43:45.642120Z",
     "start_time": "2024-05-06T06:43:45.623751Z"
    }
   },
   "cell_type": "code",
   "source": [
    "contingency_table_34 = pd.crosstab(index=SENSE_PA['Exacerbacions de COPD diagnosticades'], columns=TOTAL['Exacerbacions de COPD diagnosticades'])\n",
    "\n",
    "chi2_34, p_value_34, dof_34, expected_34 = chi2_contingency(contingency_table_34)\n",
    "\n",
    "print(\"Estadístic xi-quadrat entre SENSE_PA i TOTAL:\", chi2_34)\n",
    "print(\"P-valor entre SENSE_PA i TOTAL:\", p_value_34)\n",
    "\n",
    "if p_value_34 < 0.05:\n",
    "    print(\"Hi ha diferències significatives entre les distribucions d'exacerbacions de COPD en SENSE_PA i TOTAL.\")\n",
    "else:\n",
    "    print(\"No hi ha diferències significatives entre les distribucions d'exacerbacions de COPD en SENSE_PA i TOTAL.\")"
   ],
   "id": "396d8b5c5df4099e",
   "outputs": [
    {
     "name": "stdout",
     "output_type": "stream",
     "text": [
      "Estadístic xi-quadrat entre SENSE_PA i TOTAL: 3.5555555555555554\n",
      "P-valor entre SENSE_PA i TOTAL: 0.05934643879191998\n",
      "No hi ha diferències significatives entre les distribucions d'exacerbacions de COPD en SENSE_PA i TOTAL.\n"
     ]
    }
   ],
   "execution_count": 292
  },
  {
   "metadata": {},
   "cell_type": "markdown",
   "source": "##### Fibrosi pulmonar i fibrotòrax",
   "id": "a60dfc8e06242970"
  },
  {
   "metadata": {
    "ExecuteTime": {
     "end_time": "2024-05-06T06:43:46.278592Z",
     "start_time": "2024-05-06T06:43:46.264784Z"
    }
   },
   "cell_type": "code",
   "source": [
    "contingency_table_12 = pd.crosstab(index=AMB_PA['Fibrosi pulmonar i fibrotòrax diagnosticades'], columns=AMB_PA_MECVV['Fibrosi pulmonar i fibrotòrax diagnosticades'])\n",
    "\n",
    "chi2_12, p_value_12, dof_12, expected_12 = chi2_contingency(contingency_table_12)\n",
    "\n",
    "print(\"Estadístic xi-quadrat entre AMB_PA i AMB_PA_MECVV:\", chi2_12)\n",
    "print(\"P-valor entre AMB_PA i AMB_PA_MECVV:\", p_value_12)\n",
    "\n",
    "if p_value_12 < 0.05:\n",
    "    print(\"Hi ha diferències significatives entre les distribucions de fibrosi pulmonar i fibrotòrax en AMB_PA i AMB_PA_MECVV.\")\n",
    "else:\n",
    "    print(\"No hi ha diferències significatives entre les distribucions de fibrosi pulmonar i fibrotòrax en AMB_PA i AMB_PA_MECVV.\")"
   ],
   "id": "6f23c82ef51fa652",
   "outputs": [
    {
     "name": "stdout",
     "output_type": "stream",
     "text": [
      "Estadístic xi-quadrat entre AMB_PA i AMB_PA_MECVV: 0.0\n",
      "P-valor entre AMB_PA i AMB_PA_MECVV: 1.0\n",
      "No hi ha diferències significatives entre les distribucions de fibrosi pulmonar i fibrotòrax en AMB_PA i AMB_PA_MECVV.\n"
     ]
    }
   ],
   "execution_count": 293
  },
  {
   "metadata": {
    "ExecuteTime": {
     "end_time": "2024-05-06T06:43:47.208551Z",
     "start_time": "2024-05-06T06:43:47.191922Z"
    }
   },
   "cell_type": "code",
   "source": [
    "contingency_table_13 = pd.crosstab(index=AMB_PA['Fibrosi pulmonar i fibrotòrax diagnosticades'], columns=SENSE_PA['Fibrosi pulmonar i fibrotòrax diagnosticades'])\n",
    "\n",
    "chi2_13, p_value_13, dof_13, expected_13 = chi2_contingency(contingency_table_13)\n",
    "\n",
    "print(\"Estadístic xi-quadrat entre AMB_PA i SENSE_PA:\", chi2_13)\n",
    "print(\"P-valor entre AMB_PA i SENSE_PA:\", p_value_13)\n",
    "\n",
    "if p_value_13 < 0.05:\n",
    "    print(\"Hi ha diferències significatives entre les distribucions de fibrosi pulmonar i fibrotòrax en AMB_PA i SENSE_PA.\")\n",
    "else:\n",
    "    print(\"No hi ha diferències significatives entre les distribucions de fibrosi pulmonar i fibrotòrax en AMB_PA i SENSE_PA.\")"
   ],
   "id": "3a985c287c035f2e",
   "outputs": [
    {
     "name": "stdout",
     "output_type": "stream",
     "text": [
      "Estadístic xi-quadrat entre AMB_PA i SENSE_PA: 0.0\n",
      "P-valor entre AMB_PA i SENSE_PA: 1.0\n",
      "No hi ha diferències significatives entre les distribucions de fibrosi pulmonar i fibrotòrax en AMB_PA i SENSE_PA.\n"
     ]
    }
   ],
   "execution_count": 294
  },
  {
   "metadata": {
    "ExecuteTime": {
     "end_time": "2024-05-06T06:43:47.873729Z",
     "start_time": "2024-05-06T06:43:47.822356Z"
    }
   },
   "cell_type": "code",
   "source": [
    "contingency_table_23 = pd.crosstab(index=AMB_PA_MECVV['Fibrosi pulmonar i fibrotòrax diagnosticades'], columns=SENSE_PA['Fibrosi pulmonar i fibrotòrax diagnosticades'])\n",
    "\n",
    "chi2_23, p_value_23, dof_23, expected_23 = chi2_contingency(contingency_table_23)\n",
    "\n",
    "print(\"Estadístic xi-quadrat entre AMB_PA_MECVV i SENSE_PA:\", chi2_23)\n",
    "print(\"P-valor entre AMB_PA_MECVV i SENSE_PA:\", p_value_23)\n",
    "\n",
    "if p_value_23 < 0.05:\n",
    "    print(\"Hi ha diferències significatives entre les distribucions de fibrosi pulmonar i fibrotòrax en AMB_PA_MECVV i SENSE_PA.\")\n",
    "else:\n",
    "    print(\"No hi ha diferències significatives entre les distribucions de fibrosi pulmonar i fibrotòrax en AMB_PA_MECVV i SENSE_PA.\")"
   ],
   "id": "4c421b907f887268",
   "outputs": [
    {
     "ename": "ValueError",
     "evalue": "No data; `observed` has size 0.",
     "output_type": "error",
     "traceback": [
      "\u001B[1;31m---------------------------------------------------------------------------\u001B[0m",
      "\u001B[1;31mValueError\u001B[0m                                Traceback (most recent call last)",
      "Cell \u001B[1;32mIn[295], line 3\u001B[0m\n\u001B[0;32m      1\u001B[0m contingency_table_23 \u001B[38;5;241m=\u001B[39m pd\u001B[38;5;241m.\u001B[39mcrosstab(index\u001B[38;5;241m=\u001B[39mAMB_PA_MECVV[\u001B[38;5;124m'\u001B[39m\u001B[38;5;124mFibrosi pulmonar i fibrotòrax diagnosticades\u001B[39m\u001B[38;5;124m'\u001B[39m], columns\u001B[38;5;241m=\u001B[39mSENSE_PA[\u001B[38;5;124m'\u001B[39m\u001B[38;5;124mFibrosi pulmonar i fibrotòrax diagnosticades\u001B[39m\u001B[38;5;124m'\u001B[39m])\n\u001B[1;32m----> 3\u001B[0m chi2_23, p_value_23, dof_23, expected_23 \u001B[38;5;241m=\u001B[39m \u001B[43mchi2_contingency\u001B[49m\u001B[43m(\u001B[49m\u001B[43mcontingency_table_23\u001B[49m\u001B[43m)\u001B[49m\n\u001B[0;32m      5\u001B[0m \u001B[38;5;28mprint\u001B[39m(\u001B[38;5;124m\"\u001B[39m\u001B[38;5;124mEstadístic xi-quadrat entre AMB_PA_MECVV i SENSE_PA:\u001B[39m\u001B[38;5;124m\"\u001B[39m, chi2_23)\n\u001B[0;32m      6\u001B[0m \u001B[38;5;28mprint\u001B[39m(\u001B[38;5;124m\"\u001B[39m\u001B[38;5;124mP-valor entre AMB_PA_MECVV i SENSE_PA:\u001B[39m\u001B[38;5;124m\"\u001B[39m, p_value_23)\n",
      "File \u001B[1;32m~\\PycharmProjects\\practicum\\.venv\\Lib\\site-packages\\scipy\\stats\\contingency.py:333\u001B[0m, in \u001B[0;36mchi2_contingency\u001B[1;34m(observed, correction, lambda_)\u001B[0m\n\u001B[0;32m    331\u001B[0m     \u001B[38;5;28;01mraise\u001B[39;00m \u001B[38;5;167;01mValueError\u001B[39;00m(\u001B[38;5;124m\"\u001B[39m\u001B[38;5;124mAll values in `observed` must be nonnegative.\u001B[39m\u001B[38;5;124m\"\u001B[39m)\n\u001B[0;32m    332\u001B[0m \u001B[38;5;28;01mif\u001B[39;00m observed\u001B[38;5;241m.\u001B[39msize \u001B[38;5;241m==\u001B[39m \u001B[38;5;241m0\u001B[39m:\n\u001B[1;32m--> 333\u001B[0m     \u001B[38;5;28;01mraise\u001B[39;00m \u001B[38;5;167;01mValueError\u001B[39;00m(\u001B[38;5;124m\"\u001B[39m\u001B[38;5;124mNo data; `observed` has size 0.\u001B[39m\u001B[38;5;124m\"\u001B[39m)\n\u001B[0;32m    335\u001B[0m expected \u001B[38;5;241m=\u001B[39m expected_freq(observed)\n\u001B[0;32m    336\u001B[0m \u001B[38;5;28;01mif\u001B[39;00m np\u001B[38;5;241m.\u001B[39many(expected \u001B[38;5;241m==\u001B[39m \u001B[38;5;241m0\u001B[39m):\n\u001B[0;32m    337\u001B[0m     \u001B[38;5;66;03m# Include one of the positions where expected is zero in\u001B[39;00m\n\u001B[0;32m    338\u001B[0m     \u001B[38;5;66;03m# the exception message.\u001B[39;00m\n",
      "\u001B[1;31mValueError\u001B[0m: No data; `observed` has size 0."
     ]
    }
   ],
   "execution_count": 295
  },
  {
   "metadata": {
    "ExecuteTime": {
     "end_time": "2024-05-06T06:43:48.754565Z",
     "start_time": "2024-05-06T06:43:48.738093Z"
    }
   },
   "cell_type": "code",
   "source": [
    "contingency_table_14 = pd.crosstab(index=AMB_PA['Fibrosi pulmonar i fibrotòrax diagnosticades'], columns=TOTAL['Fibrosi pulmonar i fibrotòrax diagnosticades'])\n",
    "\n",
    "chi2_14, p_value_14, dof_14, expected_14 = chi2_contingency(contingency_table_14)\n",
    "\n",
    "print(\"Estadístic xi-quadrat entre AMB_PA i TOTAL:\", chi2_14)\n",
    "print(\"P-valor entre AMB_PA i TOTAL:\", p_value_14)\n",
    "\n",
    "if p_value_14 < 0.05:\n",
    "    print(\"Hi ha diferències significatives entre les distribucions de fibrosi pulmonar i fibrotòrax en AMB_PA i TOTAL.\")\n",
    "else:\n",
    "    print(\"No hi ha diferències significatives entre les distribucions de fibrosi pulmonar i fibrotòrax en AMB_PA i TOTAL.\")"
   ],
   "id": "2a0c7044ffec8832",
   "outputs": [
    {
     "name": "stdout",
     "output_type": "stream",
     "text": [
      "Estadístic xi-quadrat entre AMB_PA i TOTAL: 0.0\n",
      "P-valor entre AMB_PA i TOTAL: 1.0\n",
      "No hi ha diferències significatives entre les distribucions de fibrosi pulmonar i fibrotòrax en AMB_PA i TOTAL.\n"
     ]
    }
   ],
   "execution_count": 296
  },
  {
   "metadata": {
    "ExecuteTime": {
     "end_time": "2024-05-06T06:43:49.425367Z",
     "start_time": "2024-05-06T06:43:49.405299Z"
    }
   },
   "cell_type": "code",
   "source": [
    "contingency_table_24 = pd.crosstab(index=AMB_PA_MECVV['Fibrosi pulmonar i fibrotòrax diagnosticades'], columns=TOTAL['Fibrosi pulmonar i fibrotòrax diagnosticades'])\n",
    "\n",
    "chi2_24, p_value_24, dof_24, expected_24 = chi2_contingency(contingency_table_24)\n",
    "\n",
    "print(\"Estadístic xi-quadrat entre AMB_PA_MECVV i TOTAL:\", chi2_24)\n",
    "print(\"P-valor entre AMB_PA_MECVV i TOTAL:\", p_value_24)\n",
    "\n",
    "if p_value_24 < 0.05:\n",
    "    print(\"Hi ha diferències significatives entre les distribucions de fibrosi pulmonar i fibrotòrax en AMB_PA_MECVV i TOTAL.\")\n",
    "else:\n",
    "    print(\"No hi ha diferències significatives entre les distribucions de fibrosi pulmonar i fibrotòrax en AMB_PA_MECVV i TOTAL.\")"
   ],
   "id": "99166fb38de4228b",
   "outputs": [
    {
     "name": "stdout",
     "output_type": "stream",
     "text": [
      "Estadístic xi-quadrat entre AMB_PA_MECVV i TOTAL: 0.0\n",
      "P-valor entre AMB_PA_MECVV i TOTAL: 1.0\n",
      "No hi ha diferències significatives entre les distribucions de fibrosi pulmonar i fibrotòrax en AMB_PA_MECVV i TOTAL.\n"
     ]
    }
   ],
   "execution_count": 297
  },
  {
   "metadata": {
    "ExecuteTime": {
     "end_time": "2024-05-06T06:43:50.292323Z",
     "start_time": "2024-05-06T06:43:50.277430Z"
    }
   },
   "cell_type": "code",
   "source": [
    "contingency_table_34 = pd.crosstab(index=SENSE_PA['Fibrosi pulmonar i fibrotòrax diagnosticades'], columns=TOTAL['Fibrosi pulmonar i fibrotòrax diagnosticades'])\n",
    "\n",
    "chi2_34, p_value_34, dof_34, expected_34 = chi2_contingency(contingency_table_34)\n",
    "\n",
    "print(\"Estadístic xi-quadrat entre SENSE_PA i TOTAL:\", chi2_34)\n",
    "print(\"P-valor entre SENSE_PA i TOTAL:\", p_value_34)\n",
    "\n",
    "if p_value_34 < 0.05:\n",
    "    print(\"Hi ha diferències significatives entre les distribucions de fibrosi pulmonar i fibrotòrax en SENSE_PA i TOTAL.\")\n",
    "else:\n",
    "    print(\"No hi ha diferències significatives entre les distribucions de fibrosi pulmonar i fibrotòrax en SENSE_PA i TOTAL.\")"
   ],
   "id": "5d43d99a153769d",
   "outputs": [
    {
     "name": "stdout",
     "output_type": "stream",
     "text": [
      "Estadístic xi-quadrat entre SENSE_PA i TOTAL: 0.0\n",
      "P-valor entre SENSE_PA i TOTAL: 1.0\n",
      "No hi ha diferències significatives entre les distribucions de fibrosi pulmonar i fibrotòrax en SENSE_PA i TOTAL.\n"
     ]
    }
   ],
   "execution_count": 298
  },
  {
   "metadata": {},
   "cell_type": "markdown",
   "source": "## Resultats de laboratori",
   "id": "1994fdc24d34089b"
  },
  {
   "metadata": {},
   "cell_type": "markdown",
   "source": "Les columnes generades a partir d'aquests resultats contenen valors tipus objecte, per tant, primer els transformaré a tipus numèric per poder realitzar les operacions que neccessitaré fer.",
   "id": "f1b6e375839cbf54"
  },
  {
   "metadata": {},
   "cell_type": "markdown",
   "source": "### Albúmina",
   "id": "600feb610c7340c3"
  },
  {
   "metadata": {
    "ExecuteTime": {
     "end_time": "2024-05-06T06:43:50.906554Z",
     "start_time": "2024-05-06T06:43:50.890227Z"
    }
   },
   "cell_type": "code",
   "source": [
    "AMB_PA.loc[:, 'Albúmina'] = pd.to_numeric(AMB_PA['Albúmina'], errors='coerce').dropna()\n",
    "\n",
    "Mitjana_alb = AMB_PA['Albúmina'].mean()\n",
    "desviacio_estandard_alb = AMB_PA['Albúmina'].std()\n",
    "\n",
    "resultat = f\"{Mitjana_alb:.2f} ± {desviacio_estandard_alb:.2f}\"\n",
    "print(\"Mitjana ± Desviació Estàndard de l'albúmina:\", resultat)"
   ],
   "id": "d82bf2d8022cff43",
   "outputs": [
    {
     "name": "stdout",
     "output_type": "stream",
     "text": [
      "Mitjana ± Desviació Estàndard de l'albúmina: 3.34 ± 0.38\n"
     ]
    }
   ],
   "execution_count": 299
  },
  {
   "metadata": {
    "ExecuteTime": {
     "end_time": "2024-05-06T06:43:51.790549Z",
     "start_time": "2024-05-06T06:43:51.779866Z"
    }
   },
   "cell_type": "code",
   "source": [
    "AMB_PA_MECVV.loc[:, 'Albúmina'] = pd.to_numeric(AMB_PA_MECVV['Albúmina'], errors='coerce').dropna()\n",
    "\n",
    "Mitjana_alb = AMB_PA_MECVV['Albúmina'].mean()\n",
    "desviacio_estandard_alb = AMB_PA_MECVV['Albúmina'].std()\n",
    "\n",
    "resultat = f\"{Mitjana_alb:.2f} ± {desviacio_estandard_alb:.2f}\"\n",
    "print(\"Mitjana ± Desviació Estàndard de l'albúmina:\", resultat)"
   ],
   "id": "7cca36324c2cf548",
   "outputs": [
    {
     "name": "stdout",
     "output_type": "stream",
     "text": [
      "Mitjana ± Desviació Estàndard de l'albúmina: 3.33 ± 0.38\n"
     ]
    }
   ],
   "execution_count": 300
  },
  {
   "metadata": {
    "ExecuteTime": {
     "end_time": "2024-05-06T06:43:52.439368Z",
     "start_time": "2024-05-06T06:43:52.424856Z"
    }
   },
   "cell_type": "code",
   "source": [
    "SENSE_PA.loc[:, 'Albúmina'] = pd.to_numeric(SENSE_PA['Albúmina'], errors='coerce').dropna()\n",
    "\n",
    "Mitjana_alb = SENSE_PA['Albúmina'].mean()\n",
    "desviacio_estandard_alb = SENSE_PA['Albúmina'].std()\n",
    "\n",
    "resultat = f\"{Mitjana_alb:.2f} ± {desviacio_estandard_alb:.2f}\"\n",
    "print(\"Mitjana ± Desviació Estàndard de l'albúmina:\", resultat)"
   ],
   "id": "122964c17f5d1955",
   "outputs": [
    {
     "name": "stdout",
     "output_type": "stream",
     "text": [
      "Mitjana ± Desviació Estàndard de l'albúmina: 3.55 ± 0.37\n"
     ]
    }
   ],
   "execution_count": 301
  },
  {
   "metadata": {
    "ExecuteTime": {
     "end_time": "2024-05-06T06:43:53.262843Z",
     "start_time": "2024-05-06T06:43:53.252704Z"
    }
   },
   "cell_type": "code",
   "source": [
    "TOTAL.loc[:, 'Albúmina'] = pd.to_numeric(TOTAL['Albúmina'], errors='coerce').dropna()\n",
    "\n",
    "Mitjana_alb = TOTAL['Albúmina'].mean()\n",
    "desviacio_estandard_alb = TOTAL['Albúmina'].std()\n",
    "\n",
    "resultat = f\"{Mitjana_alb:.2f} ± {desviacio_estandard_alb:.2f}\"\n",
    "print(\"Mitjana ± Desviació Estàndard de l'albúmina:\", resultat)"
   ],
   "id": "27aaf0e25c9975e0",
   "outputs": [
    {
     "name": "stdout",
     "output_type": "stream",
     "text": [
      "Mitjana ± Desviació Estàndard de l'albúmina: 3.55 ± 0.64\n"
     ]
    }
   ],
   "execution_count": 302
  },
  {
   "metadata": {},
   "cell_type": "markdown",
   "source": "#### Pvalor",
   "id": "140d6cb42fabfa6a"
  },
  {
   "metadata": {},
   "cell_type": "markdown",
   "source": "##### Normalitat",
   "id": "f173bb6261e1d9fb"
  },
  {
   "metadata": {
    "ExecuteTime": {
     "end_time": "2024-05-06T06:43:53.914197Z",
     "start_time": "2024-05-06T06:43:53.902831Z"
    }
   },
   "cell_type": "code",
   "source": [
    "albpa = AMB_PA['Albúmina']\n",
    "stat, p_value = shapiro(albpa)\n",
    "print(f\"Estadístic W = {stat:.4f}\")\n",
    "print(f\"Valor p = {p_value:.8f}\")\n",
    "\n",
    "alpha = 0.05\n",
    "if p_value < alpha:\n",
    "    print(\"El nombre de files no segueix una distribució normal.\")\n",
    "else:\n",
    "    print(\"El nombre de files segueix una distribució normal.\")"
   ],
   "id": "6ea5de55bae13ed3",
   "outputs": [
    {
     "name": "stdout",
     "output_type": "stream",
     "text": [
      "Estadístic W = nan\n",
      "Valor p = nan\n",
      "El nombre de files segueix una distribució normal.\n"
     ]
    }
   ],
   "execution_count": 303
  },
  {
   "metadata": {
    "ExecuteTime": {
     "end_time": "2024-05-06T06:43:54.802457Z",
     "start_time": "2024-05-06T06:43:54.793854Z"
    }
   },
   "cell_type": "code",
   "source": [
    "albAMBpamecvv = AMB_PA_MECVV['Albúmina']\n",
    "stat, p_value = shapiro(albAMBpamecvv)\n",
    "print(f\"Estadístic W = {stat:.4f}\")\n",
    "print(f\"Valor p = {p_value:.8f}\")\n",
    "\n",
    "alpha = 0.05\n",
    "if p_value < alpha:\n",
    "    print(\"El nombre de files no segueix una distribució normal.\")\n",
    "else:\n",
    "    print(\"El nombre de files segueix una distribució normal.\")"
   ],
   "id": "eac722c12e60dad5",
   "outputs": [
    {
     "name": "stdout",
     "output_type": "stream",
     "text": [
      "Estadístic W = nan\n",
      "Valor p = nan\n",
      "El nombre de files segueix una distribució normal.\n"
     ]
    }
   ],
   "execution_count": 304
  },
  {
   "metadata": {
    "ExecuteTime": {
     "end_time": "2024-05-06T06:43:55.431988Z",
     "start_time": "2024-05-06T06:43:55.425771Z"
    }
   },
   "cell_type": "code",
   "source": [
    "albsensepa= SENSE_PA['Albúmina']\n",
    "stat, p_value = shapiro(albsensepa)\n",
    "print(f\"Estadístic W = {stat:.4f}\")\n",
    "print(f\"Valor p = {p_value:.8f}\")\n",
    "\n",
    "alpha = 0.05\n",
    "if p_value < alpha:\n",
    "    print(\"El nombre de files no segueix una distribució normal.\")\n",
    "else:\n",
    "    print(\"El nombre de files segueix una distribució normal.\")"
   ],
   "id": "b23033d034577b35",
   "outputs": [
    {
     "name": "stdout",
     "output_type": "stream",
     "text": [
      "Estadístic W = nan\n",
      "Valor p = nan\n",
      "El nombre de files segueix una distribució normal.\n"
     ]
    }
   ],
   "execution_count": 305
  },
  {
   "metadata": {
    "ExecuteTime": {
     "end_time": "2024-05-06T06:43:56.338714Z",
     "start_time": "2024-05-06T06:43:56.323626Z"
    }
   },
   "cell_type": "code",
   "source": [
    "albtotal = TOTAL['Albúmina']\n",
    "stat, p_value = shapiro(albtotal)\n",
    "print(f\"Estadístic W = {stat:.4f}\")\n",
    "print(f\"Valor p = {p_value:.8f}\")\n",
    "\n",
    "alpha = 0.05\n",
    "if p_value < alpha:\n",
    "    print(\"El nombre de files no segueix una distribució normal.\")\n",
    "else:\n",
    "    print(\"El nombre de files segueix una distribució normal.\")"
   ],
   "id": "e9c5146d4fbffb4c",
   "outputs": [
    {
     "name": "stdout",
     "output_type": "stream",
     "text": [
      "Estadístic W = nan\n",
      "Valor p = nan\n",
      "El nombre de files segueix una distribució normal.\n"
     ]
    }
   ],
   "execution_count": 306
  },
  {
   "metadata": {
    "ExecuteTime": {
     "end_time": "2024-05-06T06:43:56.913573Z",
     "start_time": "2024-05-06T06:43:56.904319Z"
    }
   },
   "cell_type": "code",
   "source": [
    "t_stat_12, p_val_12 = ttest_ind(AMB_PA['Albúmina'], AMB_PA_MECVV['Albúmina'], equal_var=False)\n",
    "print(\"P-valor entre AMB_PA i AMB_PA_MECVV:\", p_val_12)"
   ],
   "id": "159226fd2d1b69f4",
   "outputs": [
    {
     "name": "stdout",
     "output_type": "stream",
     "text": [
      "P-valor entre AMB_PA i AMB_PA_MECVV: nan\n"
     ]
    }
   ],
   "execution_count": 307
  },
  {
   "metadata": {
    "ExecuteTime": {
     "end_time": "2024-05-06T06:43:57.781489Z",
     "start_time": "2024-05-06T06:43:57.767168Z"
    }
   },
   "cell_type": "code",
   "source": [
    "t_stat_13, p_val_13 = ttest_ind(AMB_PA['Albúmina'], SENSE_PA['Albúmina'], equal_var=False)\n",
    "print(\"P-valor entre AMB_PA i SENSE_PA:\", p_val_13)"
   ],
   "id": "eb68749cfc425329",
   "outputs": [
    {
     "name": "stdout",
     "output_type": "stream",
     "text": [
      "P-valor entre AMB_PA i SENSE_PA: nan\n"
     ]
    }
   ],
   "execution_count": 308
  },
  {
   "metadata": {
    "ExecuteTime": {
     "end_time": "2024-05-06T06:43:58.475013Z",
     "start_time": "2024-05-06T06:43:58.469270Z"
    }
   },
   "cell_type": "code",
   "source": [
    "t_stat_23, p_val_23 = ttest_ind(AMB_PA_MECVV['Albúmina'], SENSE_PA['Albúmina'], equal_var=False)\n",
    "print(\"P-valor entre AMB_PA_MECVV i SENSE_PA:\", p_val_23)"
   ],
   "id": "759454454163372f",
   "outputs": [
    {
     "name": "stdout",
     "output_type": "stream",
     "text": [
      "P-valor entre AMB_PA_MECVV i SENSE_PA: nan\n"
     ]
    }
   ],
   "execution_count": 309
  },
  {
   "metadata": {
    "ExecuteTime": {
     "end_time": "2024-05-06T06:43:59.342494Z",
     "start_time": "2024-05-06T06:43:59.326126Z"
    }
   },
   "cell_type": "code",
   "source": [
    "t_stat_14, p_val_14 = ttest_ind(AMB_PA['Albúmina'], TOTAL['Albúmina'], equal_var=False)\n",
    "print(\"P-valor entre AMB_PA i TOTAL:\", p_val_14)"
   ],
   "id": "2c4d78a5a3d6e562",
   "outputs": [
    {
     "name": "stdout",
     "output_type": "stream",
     "text": [
      "P-valor entre AMB_PA i TOTAL: nan\n"
     ]
    }
   ],
   "execution_count": 310
  },
  {
   "metadata": {
    "ExecuteTime": {
     "end_time": "2024-05-06T06:43:59.961298Z",
     "start_time": "2024-05-06T06:43:59.949050Z"
    }
   },
   "cell_type": "code",
   "source": [
    "t_stat_24, p_val_24 = ttest_ind(AMB_PA_MECVV['Albúmina'], TOTAL['Albúmina'], equal_var=False)\n",
    "print(\"P-valor entre AMB_PA_MECVV i TOTAL:\", p_val_24)"
   ],
   "id": "db628b40065ae1aa",
   "outputs": [
    {
     "name": "stdout",
     "output_type": "stream",
     "text": [
      "P-valor entre AMB_PA_MECVV i TOTAL: nan\n"
     ]
    }
   ],
   "execution_count": 311
  },
  {
   "metadata": {
    "ExecuteTime": {
     "end_time": "2024-05-06T06:44:00.900778Z",
     "start_time": "2024-05-06T06:44:00.890864Z"
    }
   },
   "cell_type": "code",
   "source": [
    "t_stat_34, p_val_14 = ttest_ind(SENSE_PA['Albúmina'], TOTAL['Albúmina'], equal_var=False)\n",
    "print(\"P-valor entre SENSE_PA i TOTAL:\", p_val_34)"
   ],
   "id": "bd6ef55dcde480ae",
   "outputs": [
    {
     "name": "stdout",
     "output_type": "stream",
     "text": [
      "P-valor entre SENSE_PA i TOTAL: nan\n"
     ]
    }
   ],
   "execution_count": 312
  },
  {
   "metadata": {},
   "cell_type": "markdown",
   "source": "### Proteïnes totals",
   "id": "c0e1c2d5adb30afb"
  },
  {
   "metadata": {
    "ExecuteTime": {
     "end_time": "2024-05-06T06:44:01.556819Z",
     "start_time": "2024-05-06T06:44:01.545089Z"
    }
   },
   "cell_type": "code",
   "source": [
    "AMB_PA.loc[:, 'Proteïnes totals'] = pd.to_numeric(AMB_PA['Proteïnes totals'], errors='coerce')\n",
    "\n",
    "Mitjana_prot = AMB_PA['Proteïnes totals'].mean()\n",
    "desviacio_estandard_prot = AMB_PA['Proteïnes totals'].std()\n",
    "\n",
    "resultat = f\"{Mitjana_prot:.2f} ± {desviacio_estandard_prot:.2f}\"\n",
    "print(\"Mitjana ± Desviació Estàndard de les proteïnes totals:\", resultat)"
   ],
   "id": "8c74e6182119239f",
   "outputs": [
    {
     "name": "stdout",
     "output_type": "stream",
     "text": [
      "Mitjana ± Desviació Estàndard de les proteïnes totals: 6.03 ± 0.73\n"
     ]
    }
   ],
   "execution_count": 313
  },
  {
   "metadata": {
    "ExecuteTime": {
     "end_time": "2024-05-06T06:44:02.616269Z",
     "start_time": "2024-05-06T06:44:02.601336Z"
    }
   },
   "cell_type": "code",
   "source": [
    "AMB_PA_MECVV.loc[:, 'Proteïnes totals'] = pd.to_numeric(AMB_PA_MECVV['Proteïnes totals'], errors='coerce')\n",
    "\n",
    "Mitjana_prot = AMB_PA_MECVV['Proteïnes totals'].mean()\n",
    "desviacio_estandard_prot = AMB_PA_MECVV['Proteïnes totals'].std()\n",
    "\n",
    "resultat = f\"{Mitjana_prot:.2f} ± {desviacio_estandard_prot:.2f}\"\n",
    "print(\"Mitjana ± Desviació Estàndard de les proteïnes totals:\", resultat)"
   ],
   "id": "11dbe86b42cd2240",
   "outputs": [
    {
     "name": "stdout",
     "output_type": "stream",
     "text": [
      "Mitjana ± Desviació Estàndard de les proteïnes totals: 6.00 ± 0.53\n"
     ]
    }
   ],
   "execution_count": 314
  },
  {
   "metadata": {
    "ExecuteTime": {
     "end_time": "2024-05-06T06:44:03.317337Z",
     "start_time": "2024-05-06T06:44:03.304230Z"
    }
   },
   "cell_type": "code",
   "source": [
    "SENSE_PA.loc[:, 'Proteïnes totals'] = pd.to_numeric(SENSE_PA['Proteïnes totals'], errors='coerce')\n",
    "\n",
    "Mitjana_prot = SENSE_PA['Proteïnes totals'].mean()\n",
    "desviacio_estandard_prot = SENSE_PA['Proteïnes totals'].std()\n",
    "\n",
    "resultat = f\"{Mitjana_prot:.2f} ± {desviacio_estandard_prot:.2f}\"\n",
    "print(\"Mitjana ± Desviació Estàndard de les proteïnes totals:\", resultat)"
   ],
   "id": "55750e651260abb6",
   "outputs": [
    {
     "name": "stdout",
     "output_type": "stream",
     "text": [
      "Mitjana ± Desviació Estàndard de les proteïnes totals: 6.30 ± 0.80\n"
     ]
    }
   ],
   "execution_count": 315
  },
  {
   "metadata": {
    "ExecuteTime": {
     "end_time": "2024-05-06T06:44:04.179839Z",
     "start_time": "2024-05-06T06:44:04.168558Z"
    }
   },
   "cell_type": "code",
   "source": [
    "TOTAL.loc[:, 'Proteïnes totals'] = pd.to_numeric(TOTAL['Proteïnes totals'], errors='coerce')\n",
    "\n",
    "Mitjana_prot = TOTAL['Proteïnes totals'].mean()\n",
    "desviacio_estandard_prot = TOTAL['Proteïnes totals'].std()\n",
    "\n",
    "resultat = f\"{Mitjana_prot:.2f} ± {desviacio_estandard_prot:.2f}\"\n",
    "print(\"Mitjana ± Desviació Estàndard de les proteïnes totals:\", resultat)"
   ],
   "id": "a158a5346b4c2ae3",
   "outputs": [
    {
     "name": "stdout",
     "output_type": "stream",
     "text": [
      "Mitjana ± Desviació Estàndard de les proteïnes totals: 6.07 ± 0.74\n"
     ]
    }
   ],
   "execution_count": 316
  },
  {
   "metadata": {},
   "cell_type": "markdown",
   "source": "#### Pvalor",
   "id": "687aa6a75e9eab3a"
  },
  {
   "metadata": {},
   "cell_type": "markdown",
   "source": "##### Normalitat",
   "id": "5d71845005c90138"
  },
  {
   "metadata": {
    "ExecuteTime": {
     "end_time": "2024-05-06T06:44:04.820033Z",
     "start_time": "2024-05-06T06:44:04.807629Z"
    }
   },
   "cell_type": "code",
   "source": [
    "protAMBpa=AMB_PA['Proteïnes totals']\n",
    "stat, p_value = shapiro(protAMBpa)\n",
    "print(f\"Estadístic W = {stat:.4f}\")\n",
    "print(f\"Valor p = {p_value:.8f}\")\n",
    "\n",
    "alpha = 0.05\n",
    "if p_value < alpha:\n",
    "    print(\"El nombre de files no segueix una distribució normal.\")\n",
    "else:\n",
    "    print(\"El nombre de files segueix una distribució normal.\")"
   ],
   "id": "ee51e412a8693cf3",
   "outputs": [
    {
     "name": "stdout",
     "output_type": "stream",
     "text": [
      "Estadístic W = nan\n",
      "Valor p = nan\n",
      "El nombre de files segueix una distribució normal.\n"
     ]
    }
   ],
   "execution_count": 317
  },
  {
   "metadata": {
    "ExecuteTime": {
     "end_time": "2024-05-06T06:44:05.766215Z",
     "start_time": "2024-05-06T06:44:05.752443Z"
    }
   },
   "cell_type": "code",
   "source": [
    "protAMBpamecvv=AMB_PA_MECVV['Proteïnes totals']\n",
    "stat, p_value = shapiro(protAMBpamecvv)\n",
    "print(f\"Estadístic W = {stat:.4f}\")\n",
    "print(f\"Valor p = {p_value:.8f}\")\n",
    "\n",
    "alpha = 0.05\n",
    "if p_value < alpha:\n",
    "    print(\"El nombre de files no segueix una distribució normal.\")\n",
    "else:\n",
    "    print(\"El nombre de files segueix una distribució normal.\")"
   ],
   "id": "e32923c4cd92cc53",
   "outputs": [
    {
     "name": "stdout",
     "output_type": "stream",
     "text": [
      "Estadístic W = nan\n",
      "Valor p = nan\n",
      "El nombre de files segueix una distribució normal.\n"
     ]
    }
   ],
   "execution_count": 318
  },
  {
   "metadata": {
    "ExecuteTime": {
     "end_time": "2024-05-06T06:44:06.408239Z",
     "start_time": "2024-05-06T06:44:06.397299Z"
    }
   },
   "cell_type": "code",
   "source": [
    "protsensepa=SENSE_PA['Proteïnes totals']\n",
    "stat, p_value = shapiro(protsensepa)\n",
    "print(f\"Estadístic W = {stat:.4f}\")\n",
    "print(f\"Valor p = {p_value:.8f}\")\n",
    "\n",
    "alpha = 0.05\n",
    "if p_value < alpha:\n",
    "    print(\"El nombre de files no segueix una distribució normal.\")\n",
    "else:\n",
    "    print(\"El nombre de files segueix una distribució normal.\")"
   ],
   "id": "2a5814956c653504",
   "outputs": [
    {
     "name": "stdout",
     "output_type": "stream",
     "text": [
      "Estadístic W = nan\n",
      "Valor p = nan\n",
      "El nombre de files segueix una distribució normal.\n"
     ]
    }
   ],
   "execution_count": 319
  },
  {
   "metadata": {
    "ExecuteTime": {
     "end_time": "2024-05-06T06:44:07.201547Z",
     "start_time": "2024-05-06T06:44:07.192537Z"
    }
   },
   "cell_type": "code",
   "source": [
    "prottotal=TOTAL['Proteïnes totals']\n",
    "stat, p_value = shapiro(prottotal)\n",
    "print(f\"Estadístic W = {stat:.4f}\")\n",
    "print(f\"Valor p = {p_value:.8f}\")\n",
    "\n",
    "alpha = 0.05\n",
    "if p_value < alpha:\n",
    "    print(\"El nombre de files no segueix una distribució normal.\")\n",
    "else:\n",
    "    print(\"El nombre de files segueix una distribució normal.\")"
   ],
   "id": "f4db7cb4c6c8335d",
   "outputs": [
    {
     "name": "stdout",
     "output_type": "stream",
     "text": [
      "Estadístic W = nan\n",
      "Valor p = nan\n",
      "El nombre de files segueix una distribució normal.\n"
     ]
    }
   ],
   "execution_count": 320
  },
  {
   "metadata": {
    "ExecuteTime": {
     "end_time": "2024-05-06T06:44:07.839750Z",
     "start_time": "2024-05-06T06:44:07.826825Z"
    }
   },
   "cell_type": "code",
   "source": [
    "t_stat_12, p_val_12 = ttest_ind(AMB_PA['Proteïnes totals'], AMB_PA_MECVV['Proteïnes totals'], equal_var=False)\n",
    "print(\"P-valor entre AMB_PA i AMB_PA_MECVV:\", p_val_12)"
   ],
   "id": "640cfae7a64c728a",
   "outputs": [
    {
     "name": "stdout",
     "output_type": "stream",
     "text": [
      "P-valor entre AMB_PA i AMB_PA_MECVV: nan\n"
     ]
    }
   ],
   "execution_count": 321
  },
  {
   "metadata": {
    "ExecuteTime": {
     "end_time": "2024-05-06T06:44:08.648929Z",
     "start_time": "2024-05-06T06:44:08.640188Z"
    }
   },
   "cell_type": "code",
   "source": [
    "t_stat_13, p_val_13 = ttest_ind(AMB_PA['Proteïnes totals'], SENSE_PA['Proteïnes totals'], equal_var=False)\n",
    "print(\"P-valor entre AMB_PA i SENSE_PA:\", p_val_13)"
   ],
   "id": "b77de581056bf467",
   "outputs": [
    {
     "name": "stdout",
     "output_type": "stream",
     "text": [
      "P-valor entre AMB_PA i SENSE_PA: nan\n"
     ]
    }
   ],
   "execution_count": 322
  },
  {
   "metadata": {
    "ExecuteTime": {
     "end_time": "2024-05-06T06:44:09.281135Z",
     "start_time": "2024-05-06T06:44:09.271109Z"
    }
   },
   "cell_type": "code",
   "source": [
    "t_stat_23, p_val_23 = ttest_ind(AMB_PA_MECVV['Proteïnes totals'], SENSE_PA['Proteïnes totals'], equal_var=False)\n",
    "print(\"P-valor entre AMB_PA_MECVV i SENSE_PA:\", p_val_23)"
   ],
   "id": "75b2e46ee9c34956",
   "outputs": [
    {
     "name": "stdout",
     "output_type": "stream",
     "text": [
      "P-valor entre AMB_PA_MECVV i SENSE_PA: nan\n"
     ]
    }
   ],
   "execution_count": 323
  },
  {
   "metadata": {
    "ExecuteTime": {
     "end_time": "2024-05-06T06:44:10.168445Z",
     "start_time": "2024-05-06T06:44:10.160559Z"
    }
   },
   "cell_type": "code",
   "source": [
    "t_stat_14, p_val_14 = ttest_ind(AMB_PA['Proteïnes totals'], TOTAL['Proteïnes totals'], equal_var=False)\n",
    "print(\"P-valor entre AMB_PA i TOTAL:\", p_val_14)"
   ],
   "id": "7dc6a288f9c83fee",
   "outputs": [
    {
     "name": "stdout",
     "output_type": "stream",
     "text": [
      "P-valor entre AMB_PA i TOTAL: nan\n"
     ]
    }
   ],
   "execution_count": 324
  },
  {
   "metadata": {
    "ExecuteTime": {
     "end_time": "2024-05-06T06:44:10.837303Z",
     "start_time": "2024-05-06T06:44:10.827423Z"
    }
   },
   "cell_type": "code",
   "source": [
    "t_stat_24, p_val_24 = ttest_ind(AMB_PA_MECVV['Proteïnes totals'], TOTAL['Proteïnes totals'], equal_var=False)\n",
    "print(\"P-valor entre AMB_PA_MECVV i TOTAL:\", p_val_24)"
   ],
   "id": "1ca4a7ea1925f7e0",
   "outputs": [
    {
     "name": "stdout",
     "output_type": "stream",
     "text": [
      "P-valor entre AMB_PA_MECVV i TOTAL: nan\n"
     ]
    }
   ],
   "execution_count": 325
  },
  {
   "metadata": {
    "ExecuteTime": {
     "end_time": "2024-05-06T06:44:11.770518Z",
     "start_time": "2024-05-06T06:44:11.761051Z"
    }
   },
   "cell_type": "code",
   "source": [
    "t_stat_34, p_val_34 = ttest_ind(SENSE_PA['Proteïnes totals'], TOTAL['Proteïnes totals'], equal_var=False)\n",
    "print(\"P-valor entre SENSE_PA i TOTAL:\", p_val_34)"
   ],
   "id": "c6cb487591c4eccb",
   "outputs": [
    {
     "name": "stdout",
     "output_type": "stream",
     "text": [
      "P-valor entre SENSE_PA i TOTAL: nan\n"
     ]
    }
   ],
   "execution_count": 326
  },
  {
   "metadata": {},
   "cell_type": "markdown",
   "source": "### Hemoglobina",
   "id": "bc3fabda212d814d"
  },
  {
   "metadata": {
    "ExecuteTime": {
     "end_time": "2024-05-06T06:44:12.391892Z",
     "start_time": "2024-05-06T06:44:12.379961Z"
    }
   },
   "cell_type": "code",
   "source": [
    "AMB_PA.loc[:, 'Hb'] = pd.to_numeric(AMB_PA['Hb'], errors='coerce')\n",
    "\n",
    "Mitjana_hb = AMB_PA['Hb'].mean()\n",
    "desviacio_estandard_hb = AMB_PA['Hb'].std()\n",
    "\n",
    "resultat = f\"{Mitjana_hb:.2f} ± {desviacio_estandard_hb:.2f}\"\n",
    "print(\"Mitjana ± Desviació Estàndard de l'hemoglobina:\", resultat)"
   ],
   "id": "4be0a89ba5a356a2",
   "outputs": [
    {
     "name": "stdout",
     "output_type": "stream",
     "text": [
      "Mitjana ± Desviació Estàndard de l'hemoglobina: 12.34 ± 1.77\n"
     ]
    }
   ],
   "execution_count": 327
  },
  {
   "metadata": {
    "ExecuteTime": {
     "end_time": "2024-05-06T06:44:13.248074Z",
     "start_time": "2024-05-06T06:44:13.239305Z"
    }
   },
   "cell_type": "code",
   "source": [
    "AMB_PA_MECVV.loc[:, 'Hb'] = pd.to_numeric(AMB_PA_MECVV['Hb'], errors='coerce')\n",
    "\n",
    "Mitjana_hb = AMB_PA_MECVV['Hb'].mean()\n",
    "desviacio_estandard_hb = AMB_PA_MECVV['Hb'].std()\n",
    "\n",
    "resultat = f\"{Mitjana_hb:.2f} ± {desviacio_estandard_hb:.2f}\"\n",
    "print(\"Mitjana ± Desviació Estàndard de l'hemoglobina:\", resultat)"
   ],
   "id": "f1581c2d21067c8a",
   "outputs": [
    {
     "name": "stdout",
     "output_type": "stream",
     "text": [
      "Mitjana ± Desviació Estàndard de l'hemoglobina: 11.77 ± 2.58\n"
     ]
    }
   ],
   "execution_count": 328
  },
  {
   "metadata": {
    "ExecuteTime": {
     "end_time": "2024-05-06T06:44:13.872564Z",
     "start_time": "2024-05-06T06:44:13.863516Z"
    }
   },
   "cell_type": "code",
   "source": [
    "SENSE_PA.loc[:, 'Hb'] = pd.to_numeric(SENSE_PA['Hb'], errors='coerce')\n",
    "\n",
    "Mitjana_hb = SENSE_PA['Hb'].mean()\n",
    "desviacio_estandard_hb = SENSE_PA['Hb'].std()\n",
    "\n",
    "resultat = f\"{Mitjana_hb:.2f} ± {desviacio_estandard_hb:.2f}\"\n",
    "print(\"Mitjana ± Desviació Estàndard de l'hemoglobina:\", resultat)"
   ],
   "id": "4dbaddd2b6faa4d0",
   "outputs": [
    {
     "name": "stdout",
     "output_type": "stream",
     "text": [
      "Mitjana ± Desviació Estàndard de l'hemoglobina: 12.83 ± 1.21\n"
     ]
    }
   ],
   "execution_count": 329
  },
  {
   "metadata": {
    "ExecuteTime": {
     "end_time": "2024-05-06T06:44:14.691660Z",
     "start_time": "2024-05-06T06:44:14.681880Z"
    }
   },
   "cell_type": "code",
   "source": [
    "TOTAL.loc[:, 'Hb'] = pd.to_numeric(TOTAL['Hb'], errors='coerce')\n",
    "\n",
    "Mitjana_hb = TOTAL['Hb'].mean()\n",
    "desviacio_estandard_hb = TOTAL['Hb'].std()\n",
    "\n",
    "resultat = f\"{Mitjana_hb:.2f} ± {desviacio_estandard_hb:.2f}\"\n",
    "print(\"Mitjana ± Desviació Estàndard de la hemoglobina:\", resultat)"
   ],
   "id": "7f1406dc6030986a",
   "outputs": [
    {
     "name": "stdout",
     "output_type": "stream",
     "text": [
      "Mitjana ± Desviació Estàndard de la hemoglobina: 13.21 ± 2.11\n"
     ]
    }
   ],
   "execution_count": 330
  },
  {
   "metadata": {},
   "cell_type": "markdown",
   "source": "##### Pvalor",
   "id": "ddc0429b449395b4"
  },
  {
   "metadata": {},
   "cell_type": "markdown",
   "source": "##### Normalitat",
   "id": "c382a95019a110b8"
  },
  {
   "metadata": {
    "ExecuteTime": {
     "end_time": "2024-05-06T06:44:15.326748Z",
     "start_time": "2024-05-06T06:44:15.309235Z"
    }
   },
   "cell_type": "code",
   "source": [
    "hbAMBpa=AMB_PA['Hb'].dropna()\n",
    "stat, p_value = shapiro(hbAMBpa)\n",
    "print(f\"Estadístic W = {stat:.4f}\")\n",
    "print(f\"Valor p = {p_value:.8f}\")\n",
    "\n",
    "alpha = 0.05\n",
    "if p_value < alpha:\n",
    "    print(\"El nombre de files no segueix una distribució normal.\")\n",
    "else:\n",
    "    print(\"El nombre de files segueix una distribució normal.\")"
   ],
   "id": "4645c97120fb1fd3",
   "outputs": [
    {
     "name": "stdout",
     "output_type": "stream",
     "text": [
      "Estadístic W = 0.9304\n",
      "Valor p = 0.48501101\n",
      "El nombre de files segueix una distribució normal.\n"
     ]
    }
   ],
   "execution_count": 331
  },
  {
   "metadata": {
    "ExecuteTime": {
     "end_time": "2024-05-06T06:44:16.209857Z",
     "start_time": "2024-05-06T06:44:16.195188Z"
    }
   },
   "cell_type": "code",
   "source": [
    "hbAMBpamecvv=AMB_PA_MECVV['Hb'].dropna()\n",
    "stat, p_value = shapiro(hbAMBpamecvv)\n",
    "print(f\"Estadístic W = {stat:.4f}\")\n",
    "print(f\"Valor p = {p_value:.8f}\")\n",
    "\n",
    "alpha = 0.05\n",
    "if p_value < alpha:\n",
    "    print(\"El nombre de files no segueix una distribució normal.\")\n",
    "else:\n",
    "    print(\"El nombre de files segueix una distribució normal.\")"
   ],
   "id": "d79ccaeb50aaf990",
   "outputs": [
    {
     "name": "stdout",
     "output_type": "stream",
     "text": [
      "Estadístic W = 0.8288\n",
      "Valor p = 0.18525796\n",
      "El nombre de files segueix una distribució normal.\n"
     ]
    }
   ],
   "execution_count": 332
  },
  {
   "metadata": {
    "ExecuteTime": {
     "end_time": "2024-05-06T06:44:16.827241Z",
     "start_time": "2024-05-06T06:44:16.816714Z"
    }
   },
   "cell_type": "code",
   "source": [
    "hbsensepa=SENSE_PA['Hb'].dropna()\n",
    "stat, p_value = shapiro(hbsensepa)\n",
    "print(f\"Estadístic W = {stat:.4f}\")\n",
    "print(f\"Valor p = {p_value:.8f}\")\n",
    "\n",
    "alpha = 0.05\n",
    "if p_value < alpha:\n",
    "    print(\"El nombre de files no segueix una distribució normal.\")\n",
    "else:\n",
    "    print(\"El nombre de files segueix una distribució normal.\")"
   ],
   "id": "351dabcedb823e1a",
   "outputs": [
    {
     "name": "stdout",
     "output_type": "stream",
     "text": [
      "Estadístic W = 0.9762\n",
      "Valor p = 0.93094253\n",
      "El nombre de files segueix una distribució normal.\n"
     ]
    }
   ],
   "execution_count": 333
  },
  {
   "metadata": {
    "ExecuteTime": {
     "end_time": "2024-05-06T06:44:17.651624Z",
     "start_time": "2024-05-06T06:44:17.635381Z"
    }
   },
   "cell_type": "code",
   "source": [
    "hbtotal=TOTAL['Hb'].dropna()\n",
    "stat, p_value = shapiro(hbtotal)\n",
    "print(f\"Estadístic W = {stat:.4f}\")\n",
    "print(f\"Valor p = {p_value:.8f}\")\n",
    "\n",
    "alpha = 0.05\n",
    "if p_value < alpha:\n",
    "    print(\"El nombre de files no segueix una distribució normal.\")\n",
    "else:\n",
    "    print(\"El nombre de files segueix una distribució normal.\")"
   ],
   "id": "71b1395ea14acd8c",
   "outputs": [
    {
     "name": "stdout",
     "output_type": "stream",
     "text": [
      "Estadístic W = 0.9520\n",
      "Valor p = 0.29975140\n",
      "El nombre de files segueix una distribució normal.\n"
     ]
    }
   ],
   "execution_count": 334
  },
  {
   "metadata": {
    "ExecuteTime": {
     "end_time": "2024-05-06T06:44:18.287103Z",
     "start_time": "2024-05-06T06:44:18.274534Z"
    }
   },
   "cell_type": "code",
   "source": [
    "t_stat_12, p_val_12 = ttest_ind(AMB_PA['Hb'], AMB_PA_MECVV['Hb'], equal_var=False)\n",
    "print(\"P-valor entre AMB_PA i AMB_PA_MECVV:\", p_val_12)"
   ],
   "id": "5602c373ef7d4cb2",
   "outputs": [
    {
     "name": "stdout",
     "output_type": "stream",
     "text": [
      "P-valor entre AMB_PA i AMB_PA_MECVV: nan\n"
     ]
    }
   ],
   "execution_count": 335
  },
  {
   "metadata": {
    "ExecuteTime": {
     "end_time": "2024-05-06T06:44:19.108957Z",
     "start_time": "2024-05-06T06:44:19.100259Z"
    }
   },
   "cell_type": "code",
   "source": [
    "t_stat_13, p_val_13 = ttest_ind(AMB_PA['Hb'], SENSE_PA['Hb'], equal_var=False)\n",
    "print(\"P-valor entre AMB_PA i SENSE_PA:\", p_val_13)"
   ],
   "id": "a1f56b13f87e1b8e",
   "outputs": [
    {
     "name": "stdout",
     "output_type": "stream",
     "text": [
      "P-valor entre AMB_PA i SENSE_PA: nan\n"
     ]
    }
   ],
   "execution_count": 336
  },
  {
   "metadata": {
    "ExecuteTime": {
     "end_time": "2024-05-06T06:44:19.759718Z",
     "start_time": "2024-05-06T06:44:19.752486Z"
    }
   },
   "cell_type": "code",
   "source": [
    "t_stat_23, p_val_23 = ttest_ind(AMB_PA_MECVV['Hb'], SENSE_PA['Hb'], equal_var=False)\n",
    "print(\"P-valor entre AMB_PA_MECVV i SENSE_PA:\", p_val_23)"
   ],
   "id": "e5192f3a3700eb3a",
   "outputs": [
    {
     "name": "stdout",
     "output_type": "stream",
     "text": [
      "P-valor entre AMB_PA_MECVV i SENSE_PA: nan\n"
     ]
    }
   ],
   "execution_count": 337
  },
  {
   "metadata": {
    "ExecuteTime": {
     "end_time": "2024-05-06T06:44:20.574245Z",
     "start_time": "2024-05-06T06:44:20.568632Z"
    }
   },
   "cell_type": "code",
   "source": [
    "t_stat_14, p_val_14 = ttest_ind(AMB_PA['Hb'], TOTAL['Hb'], equal_var=False)\n",
    "print(\"P-valor entre AMB_PA i TOTAL:\", p_val_14)"
   ],
   "id": "6596ec7214854a86",
   "outputs": [
    {
     "name": "stdout",
     "output_type": "stream",
     "text": [
      "P-valor entre AMB_PA i TOTAL: nan\n"
     ]
    }
   ],
   "execution_count": 338
  },
  {
   "metadata": {
    "ExecuteTime": {
     "end_time": "2024-05-06T06:44:21.212115Z",
     "start_time": "2024-05-06T06:44:21.192630Z"
    }
   },
   "cell_type": "code",
   "source": [
    "t_stat_24, p_val_24 = ttest_ind(AMB_PA_MECVV['Hb'], TOTAL['Hb'], equal_var=False)\n",
    "print(\"P-valor entre AMB_PA_MECVV i TOTAL:\", p_val_24)"
   ],
   "id": "eae4a5293d976b86",
   "outputs": [
    {
     "name": "stdout",
     "output_type": "stream",
     "text": [
      "P-valor entre AMB_PA_MECVV i TOTAL: nan\n"
     ]
    }
   ],
   "execution_count": 339
  },
  {
   "metadata": {
    "ExecuteTime": {
     "end_time": "2024-05-06T06:44:22.046099Z",
     "start_time": "2024-05-06T06:44:22.035527Z"
    }
   },
   "cell_type": "code",
   "source": [
    "t_stat_34, p_val_34 = ttest_ind(SENSE_PA['Hb'], TOTAL['Hb'], equal_var=False)\n",
    "print(\"P-valor entre SENSE_PA i TOTAL:\", p_val_34)"
   ],
   "id": "2df6b5fcdc8cf003",
   "outputs": [
    {
     "name": "stdout",
     "output_type": "stream",
     "text": [
      "P-valor entre SENSE_PA i TOTAL: nan\n"
     ]
    }
   ],
   "execution_count": 340
  },
  {
   "metadata": {},
   "cell_type": "markdown",
   "source": "### Colesterol ",
   "id": "69fb7071d7d6eaef"
  },
  {
   "metadata": {
    "ExecuteTime": {
     "end_time": "2024-05-06T06:44:22.772795Z",
     "start_time": "2024-05-06T06:44:22.761504Z"
    }
   },
   "cell_type": "code",
   "source": [
    "AMB_PA.loc[:, 'Colesterol total'] = pd.to_numeric(AMB_PA['Colesterol total'], errors='coerce')\n",
    "\n",
    "Mitjana_col = AMB_PA['Colesterol total'].mean()\n",
    "desviacio_estandard_col = AMB_PA['Colesterol total'].std()\n",
    "\n",
    "resultat = f\"{Mitjana_col:.2f} ± {desviacio_estandard_col:.2f}\"\n",
    "print(\"Mitjana ± Desviació Estàndard del colesterol total:\", resultat)"
   ],
   "id": "fe8d9b7560d6730",
   "outputs": [
    {
     "name": "stdout",
     "output_type": "stream",
     "text": [
      "Mitjana ± Desviació Estàndard del colesterol total: 132.10 ± 34.83\n"
     ]
    }
   ],
   "execution_count": 341
  },
  {
   "metadata": {
    "ExecuteTime": {
     "end_time": "2024-05-06T06:44:23.674423Z",
     "start_time": "2024-05-06T06:44:23.660253Z"
    }
   },
   "cell_type": "code",
   "source": [
    "AMB_PA_MECVV.loc[:, 'Colesterol total'] = pd.to_numeric(AMB_PA_MECVV['Colesterol total'], errors='coerce')\n",
    "\n",
    "Mitjana_col = AMB_PA_MECVV['Colesterol total'].mean()\n",
    "desviacio_estandard_col = AMB_PA_MECVV['Colesterol total'].std()\n",
    "\n",
    "resultat = f\"{Mitjana_col:.2f} ± {desviacio_estandard_col:.2f}\"\n",
    "print(\"Mitjana ± Desviació Estàndard del colesterol total:\", resultat)"
   ],
   "id": "8546537e62ad77dd",
   "outputs": [
    {
     "name": "stdout",
     "output_type": "stream",
     "text": [
      "Mitjana ± Desviació Estàndard del colesterol total: 151.47 ± 33.55\n"
     ]
    }
   ],
   "execution_count": 342
  },
  {
   "metadata": {
    "ExecuteTime": {
     "end_time": "2024-05-06T06:44:24.430070Z",
     "start_time": "2024-05-06T06:44:24.415910Z"
    }
   },
   "cell_type": "code",
   "source": [
    "SENSE_PA.loc[:, 'Colesterol total'] = pd.to_numeric(SENSE_PA['Colesterol total'], errors='coerce')\n",
    "\n",
    "Mitjana_col = SENSE_PA['Colesterol total'].mean()\n",
    "desviacio_estandard_col = SENSE_PA['Colesterol total'].std()\n",
    "\n",
    "resultat = f\"{Mitjana_col:.2f} ± {desviacio_estandard_col:.2f}\"\n",
    "print(\"Mitjana ± Desviació Estàndard del colesterol total:\", resultat)"
   ],
   "id": "9e49175aad80cbde",
   "outputs": [
    {
     "name": "stdout",
     "output_type": "stream",
     "text": [
      "Mitjana ± Desviació Estàndard del colesterol total: 115.28 ± 23.69\n"
     ]
    }
   ],
   "execution_count": 343
  },
  {
   "metadata": {
    "ExecuteTime": {
     "end_time": "2024-05-06T06:44:25.245367Z",
     "start_time": "2024-05-06T06:44:25.229695Z"
    }
   },
   "cell_type": "code",
   "source": [
    "TOTAL.loc[:, 'Colesterol total'] = pd.to_numeric(TOTAL['Colesterol total'], errors='coerce')\n",
    "\n",
    "Mitjana_col = TOTAL['Colesterol total'].mean()\n",
    "desviacio_estandard_col = TOTAL['Colesterol total'].std()\n",
    "\n",
    "resultat = f\"{Mitjana_col:.2f} ± {desviacio_estandard_col:.2f}\"\n",
    "print(\"Mitjana ± Desviació Estàndard del colesterol total:\", resultat)"
   ],
   "id": "39372048369ca85",
   "outputs": [
    {
     "name": "stdout",
     "output_type": "stream",
     "text": [
      "Mitjana ± Desviació Estàndard del colesterol total: 142.67 ± 40.92\n"
     ]
    }
   ],
   "execution_count": 344
  },
  {
   "metadata": {},
   "cell_type": "markdown",
   "source": "#### Pvalor",
   "id": "1eaeaee06918537e"
  },
  {
   "metadata": {},
   "cell_type": "markdown",
   "source": [
    "##### Normalitat \n",
    "\n"
   ],
   "id": "7e22980115bb759b"
  },
  {
   "metadata": {
    "ExecuteTime": {
     "end_time": "2024-05-06T06:44:25.981920Z",
     "start_time": "2024-05-06T06:44:25.973140Z"
    }
   },
   "cell_type": "code",
   "source": [
    "colAMBpa=AMB_PA['Colesterol total'].dropna()\n",
    "stat, p_value = shapiro(colAMBpa)\n",
    "print(f\"Estadístic W = {stat:.4f}\")\n",
    "print(f\"Valor p = {p_value:.8f}\")\n",
    "\n",
    "alpha = 0.05\n",
    "if p_value < alpha:\n",
    "    print(\"El nombre de files no segueix una distribució normal.\")\n",
    "else:\n",
    "    print(\"El nombre de files segueix una distribució normal.\")"
   ],
   "id": "135b3c8f15d09625",
   "outputs": [
    {
     "name": "stdout",
     "output_type": "stream",
     "text": [
      "Estadístic W = 0.9887\n",
      "Valor p = 0.99048226\n",
      "El nombre de files segueix una distribució normal.\n"
     ]
    }
   ],
   "execution_count": 345
  },
  {
   "metadata": {
    "ExecuteTime": {
     "end_time": "2024-05-06T06:44:26.905286Z",
     "start_time": "2024-05-06T06:44:26.896084Z"
    }
   },
   "cell_type": "code",
   "source": [
    "colAMBpamecvv=AMB_PA_MECVV['Colesterol total'].dropna()\n",
    "stat, p_value = shapiro(colAMBpamecvv)\n",
    "print(f\"Estadístic W = {stat:.4f}\")\n",
    "print(f\"Valor p = {p_value:.8f}\")\n",
    "\n",
    "alpha = 0.05\n",
    "if p_value < alpha:\n",
    "    print(\"El nombre de files no segueix una distribució normal.\")\n",
    "else:\n",
    "    print(\"El nombre de files segueix una distribució normal.\")"
   ],
   "id": "35555189779cc831",
   "outputs": [
    {
     "name": "stdout",
     "output_type": "stream",
     "text": [
      "Estadístic W = 0.9941\n",
      "Valor p = 0.85359605\n",
      "El nombre de files segueix una distribució normal.\n"
     ]
    }
   ],
   "execution_count": 346
  },
  {
   "metadata": {
    "ExecuteTime": {
     "end_time": "2024-05-06T06:44:27.590141Z",
     "start_time": "2024-05-06T06:44:27.575364Z"
    }
   },
   "cell_type": "code",
   "source": [
    "colsensepa=SENSE_PA['Colesterol total'].dropna()\n",
    "stat, p_value = shapiro(colsensepa)\n",
    "print(f\"Estadístic W = {stat:.4f}\")\n",
    "print(f\"Valor p = {p_value:.8f}\")\n",
    "\n",
    "alpha = 0.05\n",
    "if p_value < alpha:\n",
    "    print(\"El nombre de files no segueix una distribució normal.\")\n",
    "else:\n",
    "    print(\"El nombre de files segueix una distribució normal.\")"
   ],
   "id": "bb384e047dbdd903",
   "outputs": [
    {
     "name": "stdout",
     "output_type": "stream",
     "text": [
      "Estadístic W = 0.9231\n",
      "Valor p = 0.55007868\n",
      "El nombre de files segueix una distribució normal.\n"
     ]
    }
   ],
   "execution_count": 347
  },
  {
   "metadata": {
    "ExecuteTime": {
     "end_time": "2024-05-06T06:44:28.490733Z",
     "start_time": "2024-05-06T06:44:28.480517Z"
    }
   },
   "cell_type": "code",
   "source": [
    "coltotal=TOTAL['Colesterol total'].dropna()\n",
    "stat, p_value = shapiro(coltotal)\n",
    "print(f\"Estadístic W = {stat:.4f}\")\n",
    "print(f\"Valor p = {p_value:.8f}\")\n",
    "\n",
    "alpha = 0.05\n",
    "if p_value < alpha:\n",
    "    print(\"El nombre de files no segueix una distribució normal.\")\n",
    "else:\n",
    "    print(\"El nombre de files segueix una distribució normal.\")"
   ],
   "id": "c653c7b61d40a5b6",
   "outputs": [
    {
     "name": "stdout",
     "output_type": "stream",
     "text": [
      "Estadístic W = 0.9629\n",
      "Valor p = 0.63113194\n",
      "El nombre de files segueix una distribució normal.\n"
     ]
    }
   ],
   "execution_count": 348
  },
  {
   "metadata": {
    "ExecuteTime": {
     "end_time": "2024-05-06T06:44:29.122173Z",
     "start_time": "2024-05-06T06:44:29.111947Z"
    }
   },
   "cell_type": "code",
   "source": [
    "t_stat_12, p_val_12 = ttest_ind(AMB_PA['Colesterol total'], AMB_PA_MECVV['Colesterol total'], equal_var=False)\n",
    "print(\"P-valor entre AMB_PA i AMB_PA_MECVV:\", p_val_12)"
   ],
   "id": "c656a0d73bb5551d",
   "outputs": [
    {
     "name": "stdout",
     "output_type": "stream",
     "text": [
      "P-valor entre AMB_PA i AMB_PA_MECVV: nan\n"
     ]
    }
   ],
   "execution_count": 349
  },
  {
   "metadata": {
    "ExecuteTime": {
     "end_time": "2024-05-06T06:44:29.941348Z",
     "start_time": "2024-05-06T06:44:29.931926Z"
    }
   },
   "cell_type": "code",
   "source": [
    "t_stat_13, p_val_13 = ttest_ind(AMB_PA['Colesterol total'], SENSE_PA['Colesterol total'], equal_var=False)\n",
    "print(\"P-valor entre AMB_PA i SENSE_PA:\", p_val_13)"
   ],
   "id": "308784ac133fab84",
   "outputs": [
    {
     "name": "stdout",
     "output_type": "stream",
     "text": [
      "P-valor entre AMB_PA i SENSE_PA: nan\n"
     ]
    }
   ],
   "execution_count": 350
  },
  {
   "metadata": {
    "ExecuteTime": {
     "end_time": "2024-05-06T06:44:30.587327Z",
     "start_time": "2024-05-06T06:44:30.578562Z"
    }
   },
   "cell_type": "code",
   "source": [
    "t_stat_23, p_val_23 = ttest_ind(AMB_PA_MECVV['Colesterol total'], SENSE_PA['Colesterol total'], equal_var=False)\n",
    "print(\"P-valor entre AMB_PA_MECVV i SENSE_PA:\", p_val_23)"
   ],
   "id": "a981d08ea9a0e6c4",
   "outputs": [
    {
     "name": "stdout",
     "output_type": "stream",
     "text": [
      "P-valor entre AMB_PA_MECVV i SENSE_PA: nan\n"
     ]
    }
   ],
   "execution_count": 351
  },
  {
   "metadata": {
    "ExecuteTime": {
     "end_time": "2024-05-06T06:44:31.397878Z",
     "start_time": "2024-05-06T06:44:31.391101Z"
    }
   },
   "cell_type": "code",
   "source": [
    "t_stat_14, p_val_14 = ttest_ind(AMB_PA['Colesterol total'], TOTAL['Colesterol total'], equal_var=False)\n",
    "print(\"P-valor entre AMB_PA i TOTAL:\", p_val_14)"
   ],
   "id": "559b771cd48a0985",
   "outputs": [
    {
     "name": "stdout",
     "output_type": "stream",
     "text": [
      "P-valor entre AMB_PA i TOTAL: nan\n"
     ]
    }
   ],
   "execution_count": 352
  },
  {
   "metadata": {
    "ExecuteTime": {
     "end_time": "2024-05-06T06:44:32.060191Z",
     "start_time": "2024-05-06T06:44:32.049955Z"
    }
   },
   "cell_type": "code",
   "source": [
    "t_stat_24, p_val_24 = ttest_ind(AMB_PA_MECVV['Colesterol total'], TOTAL['Colesterol total'], equal_var=False)\n",
    "print(\"P-valor entre AMB_PA_MECVV i TOTAL:\", p_val_24)"
   ],
   "id": "f1ea4d0fe16078f5",
   "outputs": [
    {
     "name": "stdout",
     "output_type": "stream",
     "text": [
      "P-valor entre AMB_PA_MECVV i TOTAL: nan\n"
     ]
    }
   ],
   "execution_count": 353
  },
  {
   "metadata": {
    "ExecuteTime": {
     "end_time": "2024-05-06T06:44:32.859762Z",
     "start_time": "2024-05-06T06:44:32.848737Z"
    }
   },
   "cell_type": "code",
   "source": [
    "t_stat_34, p_val_34 = ttest_ind(SENSE_PA['Colesterol total'], TOTAL['Colesterol total'], equal_var=False)\n",
    "print(\"P-valor entre SENSE_PA i TOTAL:\", p_val_34)"
   ],
   "id": "d1950b15a27ad400",
   "outputs": [
    {
     "name": "stdout",
     "output_type": "stream",
     "text": [
      "P-valor entre SENSE_PA i TOTAL: nan\n"
     ]
    }
   ],
   "execution_count": 354
  },
  {
   "metadata": {},
   "cell_type": "markdown",
   "source": "### Leucòcits",
   "id": "7e1abe2f5bcccb21"
  },
  {
   "metadata": {
    "ExecuteTime": {
     "end_time": "2024-05-06T06:44:33.520905Z",
     "start_time": "2024-05-06T06:44:33.509469Z"
    }
   },
   "cell_type": "code",
   "source": [
    "AMB_PA.loc[:, 'Leucos'] = pd.to_numeric(AMB_PA['Leucos'], errors='coerce')\n",
    "\n",
    "Mitjana_leu = AMB_PA['Leucos'].mean()\n",
    "desviacio_estandard_leu = AMB_PA['Leucos'].std()\n",
    "\n",
    "resultat = f\"{Mitjana_leu:.2f} ± {desviacio_estandard_leu:.2f}\"\n",
    "print(\"Mitjana ± Desviació Estàndard dels leucòcits:\", resultat)"
   ],
   "id": "4430c7eeb483cea3",
   "outputs": [
    {
     "name": "stdout",
     "output_type": "stream",
     "text": [
      "Mitjana ± Desviació Estàndard dels leucòcits: 12.69 ± 4.88\n"
     ]
    }
   ],
   "execution_count": 355
  },
  {
   "metadata": {
    "ExecuteTime": {
     "end_time": "2024-05-06T06:44:34.397421Z",
     "start_time": "2024-05-06T06:44:34.387659Z"
    }
   },
   "cell_type": "code",
   "source": [
    "AMB_PA_MECVV.loc[:, 'Leucos'] = pd.to_numeric(AMB_PA_MECVV['Leucos'], errors='coerce')\n",
    "\n",
    "Mitjana_leu = AMB_PA_MECVV['Leucos'].mean()\n",
    "desviacio_estandard_leu = AMB_PA_MECVV['Leucos'].std()\n",
    "\n",
    "resultat = f\"{Mitjana_leu:.2f} ± {desviacio_estandard_leu:.2f}\"\n",
    "print(\"Mitjana ± Desviació Estàndard dels leucòcits:\", resultat)"
   ],
   "id": "3ad74bc493302210",
   "outputs": [
    {
     "name": "stdout",
     "output_type": "stream",
     "text": [
      "Mitjana ± Desviació Estàndard dels leucòcits: 8.83 ± 0.70\n"
     ]
    }
   ],
   "execution_count": 356
  },
  {
   "metadata": {
    "ExecuteTime": {
     "end_time": "2024-05-06T06:44:35.000091Z",
     "start_time": "2024-05-06T06:44:34.990740Z"
    }
   },
   "cell_type": "code",
   "source": [
    "SENSE_PA.loc[:, 'Leucos'] = pd.to_numeric(SENSE_PA['Leucos'], errors='coerce')\n",
    "\n",
    "Mitjana_leu = SENSE_PA['Leucos'].mean()\n",
    "desviacio_estandard_leu = SENSE_PA['Leucos'].std()\n",
    "\n",
    "resultat = f\"{Mitjana_leu:.2f} ± {desviacio_estandard_leu:.2f}\"\n",
    "print(\"Mitjana ± Desviació Estàndard dels leucòcits:\", resultat)"
   ],
   "id": "99a1a6295c361a2c",
   "outputs": [
    {
     "name": "stdout",
     "output_type": "stream",
     "text": [
      "Mitjana ± Desviació Estàndard dels leucòcits: 10.68 ± 6.49\n"
     ]
    }
   ],
   "execution_count": 357
  },
  {
   "metadata": {
    "ExecuteTime": {
     "end_time": "2024-05-06T06:44:35.824983Z",
     "start_time": "2024-05-06T06:44:35.816Z"
    }
   },
   "cell_type": "code",
   "source": [
    "TOTAL.loc[:, 'Leucos'] = pd.to_numeric(TOTAL['Leucos'], errors='coerce')\n",
    "\n",
    "Mitjana_leu = TOTAL['Leucos'].mean()\n",
    "desviacio_estandard_leu = TOTAL['Leucos'].std()\n",
    "\n",
    "resultat = f\"{Mitjana_leu:.2f} ± {desviacio_estandard_leu:.2f}\"\n",
    "print(\"Mitjana ± Desviació Estàndard dels leucòcits:\", resultat)"
   ],
   "id": "818864d735ade4f6",
   "outputs": [
    {
     "name": "stdout",
     "output_type": "stream",
     "text": [
      "Mitjana ± Desviació Estàndard dels leucòcits: 11.34 ± 6.43\n"
     ]
    }
   ],
   "execution_count": 358
  },
  {
   "metadata": {},
   "cell_type": "markdown",
   "source": "#### Pvalor ",
   "id": "9511b2de133ed812"
  },
  {
   "metadata": {},
   "cell_type": "markdown",
   "source": "##### Normalitat",
   "id": "d1fa962aa6b639d3"
  },
  {
   "metadata": {
    "ExecuteTime": {
     "end_time": "2024-05-06T06:44:36.464587Z",
     "start_time": "2024-05-06T06:44:36.453756Z"
    }
   },
   "cell_type": "code",
   "source": [
    "leuambpa=AMB_PA['Leucos'].dropna()\n",
    "stat, p_value = shapiro(leuambpa)\n",
    "print(f\"Estadístic W = {stat:.4f}\")\n",
    "print(f\"Valor p = {p_value:.8f}\")\n",
    "\n",
    "alpha = 0.05\n",
    "if p_value < alpha:\n",
    "    print(\"El nombre de files no segueix una distribució normal.\")\n",
    "else:\n",
    "    print(\"El nombre de files segueix una distribució normal.\")"
   ],
   "id": "c19926c8fe5c2c29",
   "outputs": [
    {
     "name": "stdout",
     "output_type": "stream",
     "text": [
      "Estadístic W = 0.8482\n",
      "Valor p = 0.09127190\n",
      "El nombre de files segueix una distribució normal.\n"
     ]
    }
   ],
   "execution_count": 359
  },
  {
   "metadata": {
    "ExecuteTime": {
     "end_time": "2024-05-06T06:44:37.435259Z",
     "start_time": "2024-05-06T06:44:37.420661Z"
    }
   },
   "cell_type": "code",
   "source": [
    "leuambpamecvv=AMB_PA_MECVV['Leucos'].dropna()\n",
    "stat, p_value = shapiro(leuambpamecvv)\n",
    "print(f\"Estadístic W = {stat:.4f}\")\n",
    "print(f\"Valor p = {p_value:.8f}\")\n",
    "\n",
    "alpha = 0.05\n",
    "if p_value < alpha:\n",
    "    print(\"El nombre de files no segueix una distribució normal.\")\n",
    "else:\n",
    "    print(\"El nombre de files segueix una distribució normal.\")"
   ],
   "id": "94aa3e5f50110b82",
   "outputs": [
    {
     "name": "stdout",
     "output_type": "stream",
     "text": [
      "Estadístic W = 0.8811\n",
      "Valor p = 0.32754766\n",
      "El nombre de files segueix una distribució normal.\n"
     ]
    }
   ],
   "execution_count": 360
  },
  {
   "metadata": {
    "ExecuteTime": {
     "end_time": "2024-05-06T06:44:38.084362Z",
     "start_time": "2024-05-06T06:44:38.073962Z"
    }
   },
   "cell_type": "code",
   "source": [
    "leusensepa=SENSE_PA['Leucos'].dropna()\n",
    "stat, p_value = shapiro(leusensepa)\n",
    "print(f\"Estadístic W = {stat:.4f}\")\n",
    "print(f\"Valor p = {p_value:.8f}\")\n",
    "\n",
    "alpha = 0.05\n",
    "if p_value < alpha:\n",
    "    print(\"El nombre de files no segueix una distribució normal.\")\n",
    "else:\n",
    "    print(\"El nombre de files segueix una distribució normal.\")"
   ],
   "id": "85f281e368032537",
   "outputs": [
    {
     "name": "stdout",
     "output_type": "stream",
     "text": [
      "Estadístic W = 0.8233\n",
      "Valor p = 0.09427563\n",
      "El nombre de files segueix una distribució normal.\n"
     ]
    }
   ],
   "execution_count": 361
  },
  {
   "metadata": {
    "ExecuteTime": {
     "end_time": "2024-05-06T06:44:38.918227Z",
     "start_time": "2024-05-06T06:44:38.909068Z"
    }
   },
   "cell_type": "code",
   "source": [
    "leutotal=TOTAL['Leucos'].dropna()\n",
    "stat, p_value = shapiro(leutotal)\n",
    "print(f\"Estadístic W = {stat:.4f}\")\n",
    "print(f\"Valor p = {p_value:.8f}\")\n",
    "\n",
    "alpha = 0.05\n",
    "if p_value < alpha:\n",
    "    print(\"El nombre de files no segueix una distribució normal.\")\n",
    "else:\n",
    "    print(\"El nombre de files segueix una distribució normal.\")"
   ],
   "id": "6914ca7aed7a6a5b",
   "outputs": [
    {
     "name": "stdout",
     "output_type": "stream",
     "text": [
      "Estadístic W = 0.8070\n",
      "Valor p = 0.00049781\n",
      "El nombre de files no segueix una distribució normal.\n"
     ]
    }
   ],
   "execution_count": 362
  },
  {
   "metadata": {
    "ExecuteTime": {
     "end_time": "2024-05-06T06:44:39.551813Z",
     "start_time": "2024-05-06T06:44:39.540328Z"
    }
   },
   "cell_type": "code",
   "source": [
    "t_stat_12, p_val_12 = ttest_ind(AMB_PA['Leucos'], AMB_PA_MECVV['Leucos'], equal_var=False)\n",
    "print(\"P-valor entre AMB_PA i AMB_PA_MECVV:\", p_val_12)"
   ],
   "id": "59295ec2bdcca38d",
   "outputs": [
    {
     "name": "stdout",
     "output_type": "stream",
     "text": [
      "P-valor entre AMB_PA i AMB_PA_MECVV: nan\n"
     ]
    }
   ],
   "execution_count": 363
  },
  {
   "metadata": {
    "ExecuteTime": {
     "end_time": "2024-05-06T06:44:40.352456Z",
     "start_time": "2024-05-06T06:44:40.343612Z"
    }
   },
   "cell_type": "code",
   "source": [
    "t_stat_13, p_val_13 = ttest_ind(AMB_PA['Leucos'], SENSE_PA['Leucos'], equal_var=False)\n",
    "print(\"P-valor entre AMB_PA i SENSE_PA:\", p_val_13)"
   ],
   "id": "79ab95afbed3f45c",
   "outputs": [
    {
     "name": "stdout",
     "output_type": "stream",
     "text": [
      "P-valor entre AMB_PA i SENSE_PA: nan\n"
     ]
    }
   ],
   "execution_count": 364
  },
  {
   "metadata": {
    "ExecuteTime": {
     "end_time": "2024-05-06T06:44:41.012779Z",
     "start_time": "2024-05-06T06:44:41.004795Z"
    }
   },
   "cell_type": "code",
   "source": [
    "t_stat_23, p_val_23 = ttest_ind(AMB_PA_MECVV['Leucos'], SENSE_PA['Leucos'], equal_var=False)\n",
    "print(\"P-valor entre AMB_PA_MECVV i SENSE_PA:\", p_val_23)"
   ],
   "id": "9d6e12e2297c2edb",
   "outputs": [
    {
     "name": "stdout",
     "output_type": "stream",
     "text": [
      "P-valor entre AMB_PA_MECVV i SENSE_PA: nan\n"
     ]
    }
   ],
   "execution_count": 365
  },
  {
   "metadata": {
    "ExecuteTime": {
     "end_time": "2024-05-06T06:44:41.931576Z",
     "start_time": "2024-05-06T06:44:41.921276Z"
    }
   },
   "cell_type": "code",
   "source": [
    "t_stat_14, p_val_14 = ttest_ind(AMB_PA['Leucos'], TOTAL['Leucos'], equal_var=False)\n",
    "print(\"P-valor entre AMB_PA i TOTAL:\", p_val_14)"
   ],
   "id": "c92ae7b27073e5c3",
   "outputs": [
    {
     "name": "stdout",
     "output_type": "stream",
     "text": [
      "P-valor entre AMB_PA i TOTAL: nan\n"
     ]
    }
   ],
   "execution_count": 366
  },
  {
   "metadata": {
    "ExecuteTime": {
     "end_time": "2024-05-06T06:44:42.614791Z",
     "start_time": "2024-05-06T06:44:42.604081Z"
    }
   },
   "cell_type": "code",
   "source": [
    "t_stat_24, p_val_24 = ttest_ind(AMB_PA_MECVV['Leucos'], TOTAL['Leucos'], equal_var=False)\n",
    "print(\"P-valor entre AMB_PA_MECVV i TOTAL:\", p_val_24)"
   ],
   "id": "731294067ba740f2",
   "outputs": [
    {
     "name": "stdout",
     "output_type": "stream",
     "text": [
      "P-valor entre AMB_PA_MECVV i TOTAL: nan\n"
     ]
    }
   ],
   "execution_count": 367
  },
  {
   "metadata": {
    "ExecuteTime": {
     "end_time": "2024-05-06T06:44:43.464249Z",
     "start_time": "2024-05-06T06:44:43.451651Z"
    }
   },
   "cell_type": "code",
   "source": [
    "t_stat_34, p_val_34 = ttest_ind(SENSE_PA['Leucos'], TOTAL['Leucos'], equal_var=False)\n",
    "print(\"P-valor entre SENSE_PA i TOTAL:\", p_val_34)"
   ],
   "id": "3840ed2c26e2b5b1",
   "outputs": [
    {
     "name": "stdout",
     "output_type": "stream",
     "text": [
      "P-valor entre SENSE_PA i TOTAL: nan\n"
     ]
    }
   ],
   "execution_count": 368
  },
  {
   "metadata": {},
   "cell_type": "markdown",
   "source": "### Limfòcits %",
   "id": "c7ba36254173c3f"
  },
  {
   "metadata": {
    "ExecuteTime": {
     "end_time": "2024-05-06T06:44:44.173485Z",
     "start_time": "2024-05-06T06:44:44.153873Z"
    }
   },
   "cell_type": "code",
   "source": [
    "AMB_PA.loc[:, 'Limfos'] = pd.to_numeric(AMB_PA['Limfos'], errors='coerce')\n",
    "\n",
    "Mitjana_limf = AMB_PA['Limfos'].mean()\n",
    "desviacio_estandard_limf = AMB_PA['Limfos'].std()\n",
    "\n",
    "resultat = f\"{Mitjana_limf:.2f} ± {desviacio_estandard_limf:.2f}\"\n",
    "print(\"Mitjana ± Desviació Estàndard dels limfòcits %:\", resultat)"
   ],
   "id": "c25fb26ede6fabe0",
   "outputs": [
    {
     "name": "stdout",
     "output_type": "stream",
     "text": [
      "Mitjana ± Desviació Estàndard dels limfòcits %: 16.70 ± 12.29\n"
     ]
    }
   ],
   "execution_count": 369
  },
  {
   "metadata": {
    "ExecuteTime": {
     "end_time": "2024-05-06T06:44:45.118813Z",
     "start_time": "2024-05-06T06:44:45.109258Z"
    }
   },
   "cell_type": "code",
   "source": [
    "AMB_PA_MECVV.loc[:, 'Limfos'] = pd.to_numeric(AMB_PA_MECVV['Limfos'], errors='coerce')\n",
    "\n",
    "Mitjana_limf = AMB_PA_MECVV['Limfos'].mean()\n",
    "desviacio_estandard_limf = AMB_PA_MECVV['Limfos'].std()\n",
    "\n",
    "resultat = f\"{Mitjana_limf:.2f} ± {desviacio_estandard_limf:.2f}\"\n",
    "print(\"Mitjana ± Desviació Estàndard dels limfòcits %:\", resultat)"
   ],
   "id": "3d1f97bbff88b3d3",
   "outputs": [
    {
     "name": "stdout",
     "output_type": "stream",
     "text": [
      "Mitjana ± Desviació Estàndard dels limfòcits %: 9.57 ± 2.10\n"
     ]
    }
   ],
   "execution_count": 370
  },
  {
   "metadata": {
    "ExecuteTime": {
     "end_time": "2024-05-06T06:44:45.926924Z",
     "start_time": "2024-05-06T06:44:45.920169Z"
    }
   },
   "cell_type": "code",
   "source": [
    "SENSE_PA.loc[:, 'Limfos'] = pd.to_numeric(SENSE_PA['Limfos'], errors='coerce')\n",
    "\n",
    "Mitjana_limf = SENSE_PA['Limfos'].mean()\n",
    "desviacio_estandard_limf = SENSE_PA['Limfos'].std()\n",
    "\n",
    "resultat = f\"{Mitjana_limf:.2f} ± {desviacio_estandard_limf:.2f}\"\n",
    "print(\"Mitjana ± Desviació Estàndard dels limfòcits %:\", resultat)"
   ],
   "id": "4284d3f2b93fd461",
   "outputs": [
    {
     "name": "stdout",
     "output_type": "stream",
     "text": [
      "Mitjana ± Desviació Estàndard dels limfòcits %: 26.66 ± 9.21\n"
     ]
    }
   ],
   "execution_count": 371
  },
  {
   "metadata": {
    "ExecuteTime": {
     "end_time": "2024-05-06T06:44:47.102664Z",
     "start_time": "2024-05-06T06:44:47.092229Z"
    }
   },
   "cell_type": "code",
   "source": [
    "TOTAL.loc[:, 'Limfos'] = pd.to_numeric(TOTAL['Limfos'], errors='coerce')\n",
    "\n",
    "Mitjana_limf = TOTAL['Limfos'].mean()\n",
    "desviacio_estandard_limf = TOTAL['Limfos'].std()\n",
    "\n",
    "resultat = f\"{Mitjana_limf:.2f} ± {desviacio_estandard_limf:.2f}\"\n",
    "print(\"Mitjana ± Desviació Estàndard dels limfòcits %:\", resultat)"
   ],
   "id": "c3631997c1b305f8",
   "outputs": [
    {
     "name": "stdout",
     "output_type": "stream",
     "text": [
      "Mitjana ± Desviació Estàndard dels limfòcits %: 19.33 ± 11.32\n"
     ]
    }
   ],
   "execution_count": 372
  },
  {
   "metadata": {},
   "cell_type": "markdown",
   "source": "#### Pvalor",
   "id": "d631c6aabf1ddcfc"
  },
  {
   "metadata": {},
   "cell_type": "markdown",
   "source": "##### Normalitat",
   "id": "e588502cfbc929f6"
  },
  {
   "metadata": {
    "ExecuteTime": {
     "end_time": "2024-05-06T06:44:47.821554Z",
     "start_time": "2024-05-06T06:44:47.811875Z"
    }
   },
   "cell_type": "code",
   "source": [
    "limfambpa=AMB_PA['Limfos'].dropna()\n",
    "stat, p_value = shapiro(limfambpa)\n",
    "print(f\"Estadístic W = {stat:.4f}\")\n",
    "print(f\"Valor p = {p_value:.8f}\")\n",
    "\n",
    "alpha = 0.05\n",
    "if p_value < alpha:\n",
    "    print(\"El nombre de files no segueix una distribució normal.\")\n",
    "else:\n",
    "    print(\"El nombre de files segueix una distribució normal.\")"
   ],
   "id": "35499da84250aa12",
   "outputs": [
    {
     "name": "stdout",
     "output_type": "stream",
     "text": [
      "Estadístic W = 0.8208\n",
      "Valor p = 0.04757269\n",
      "El nombre de files no segueix una distribució normal.\n"
     ]
    }
   ],
   "execution_count": 373
  },
  {
   "metadata": {
    "ExecuteTime": {
     "end_time": "2024-05-06T06:44:48.816967Z",
     "start_time": "2024-05-06T06:44:48.807007Z"
    }
   },
   "cell_type": "code",
   "source": [
    "limfambpamecvv=AMB_PA_MECVV['Limfos'].dropna()\n",
    "stat, p_value = shapiro(limfambpamecvv)\n",
    "print(f\"Estadístic W = {stat:.4f}\")\n",
    "print(f\"Valor p = {p_value:.8f}\")\n",
    "\n",
    "alpha = 0.05\n",
    "if p_value < alpha:\n",
    "    print(\"El nombre de files no segueix una distribució normal.\")\n",
    "else:\n",
    "    print(\"El nombre de files segueix una distribució normal.\")"
   ],
   "id": "3bd081c99ed663f5",
   "outputs": [
    {
     "name": "stdout",
     "output_type": "stream",
     "text": [
      "Estadístic W = 0.9992\n",
      "Valor p = 0.94750571\n",
      "El nombre de files segueix una distribució normal.\n"
     ]
    }
   ],
   "execution_count": 374
  },
  {
   "metadata": {
    "ExecuteTime": {
     "end_time": "2024-05-06T06:44:49.608565Z",
     "start_time": "2024-05-06T06:44:49.594507Z"
    }
   },
   "cell_type": "code",
   "source": [
    "limfsensepa=SENSE_PA['Limfos'].dropna()\n",
    "stat, p_value = shapiro(limfsensepa)\n",
    "print(f\"Estadístic W = {stat:.4f}\")\n",
    "print(f\"Valor p = {p_value:.8f}\")\n",
    "\n",
    "alpha = 0.05\n",
    "if p_value < alpha:\n",
    "    print(\"El nombre de files no segueix una distribució normal.\")\n",
    "else:\n",
    "    print(\"El nombre de files segueix una distribució normal.\")"
   ],
   "id": "e6f37e02700095ad",
   "outputs": [
    {
     "name": "stdout",
     "output_type": "stream",
     "text": [
      "Estadístic W = 0.9815\n",
      "Valor p = 0.94260450\n",
      "El nombre de files segueix una distribució normal.\n"
     ]
    }
   ],
   "execution_count": 375
  },
  {
   "metadata": {
    "ExecuteTime": {
     "end_time": "2024-05-06T06:44:50.441229Z",
     "start_time": "2024-05-06T06:44:50.430933Z"
    }
   },
   "cell_type": "code",
   "source": [
    "limftotal=TOTAL['Limfos'].dropna()\n",
    "stat, p_value = shapiro(limftotal)\n",
    "print(f\"Estadístic W = {stat:.4f}\")\n",
    "print(f\"Valor p = {p_value:.8f}\")\n",
    "\n",
    "alpha = 0.05\n",
    "if p_value < alpha:\n",
    "    print(\"El nombre de files no segueix una distribució normal.\")\n",
    "else:\n",
    "    print(\"El nombre de files segueix una distribució normal.\")"
   ],
   "id": "c7e092a9b14a84f2",
   "outputs": [
    {
     "name": "stdout",
     "output_type": "stream",
     "text": [
      "Estadístic W = 0.9283\n",
      "Valor p = 0.11315474\n",
      "El nombre de files segueix una distribució normal.\n"
     ]
    }
   ],
   "execution_count": 376
  },
  {
   "metadata": {
    "ExecuteTime": {
     "end_time": "2024-05-06T06:44:51.126970Z",
     "start_time": "2024-05-06T06:44:51.116106Z"
    }
   },
   "cell_type": "code",
   "source": [
    "stat_12, p_val_12 = mannwhitneyu(AMB_PA['Limfos'], AMB_PA_MECVV['Limfos'], alternative='two-sided')\n",
    "print(\"P-valor entre AMB_PA i AMB_PA_MECVV:\", p_val_12)"
   ],
   "id": "1f687355004bb722",
   "outputs": [
    {
     "name": "stdout",
     "output_type": "stream",
     "text": [
      "P-valor entre AMB_PA i AMB_PA_MECVV: nan\n"
     ]
    }
   ],
   "execution_count": 377
  },
  {
   "metadata": {
    "ExecuteTime": {
     "end_time": "2024-05-06T06:44:51.997257Z",
     "start_time": "2024-05-06T06:44:51.986498Z"
    }
   },
   "cell_type": "code",
   "source": [
    "t_stat_13, p_val_13 = mannwhitneyu(AMB_PA['Limfos'], SENSE_PA['Limfos'], alternative='two-sided')\n",
    "print(\"P-valor entre AMB_PA i SENSE_PA:\", p_val_13)"
   ],
   "id": "cdc7d555c89a97a",
   "outputs": [
    {
     "name": "stdout",
     "output_type": "stream",
     "text": [
      "P-valor entre AMB_PA i SENSE_PA: nan\n"
     ]
    }
   ],
   "execution_count": 378
  },
  {
   "metadata": {
    "ExecuteTime": {
     "end_time": "2024-05-06T06:44:52.664469Z",
     "start_time": "2024-05-06T06:44:52.656625Z"
    }
   },
   "cell_type": "code",
   "source": [
    "stat_23, p_val_23 = ttest_ind(AMB_PA_MECVV['Limfos'], SENSE_PA['Limfos'], equal_var=False)\n",
    "print(\"P-valor entre AMB_PA_MECVV i SENSE_PA:\", p_val_23)"
   ],
   "id": "475aa2b5d327df7c",
   "outputs": [
    {
     "name": "stdout",
     "output_type": "stream",
     "text": [
      "P-valor entre AMB_PA_MECVV i SENSE_PA: nan\n"
     ]
    }
   ],
   "execution_count": 379
  },
  {
   "metadata": {
    "ExecuteTime": {
     "end_time": "2024-05-06T06:44:53.479134Z",
     "start_time": "2024-05-06T06:44:53.467844Z"
    }
   },
   "cell_type": "code",
   "source": [
    "stat_14, p_val_14 = mannwhitneyu(AMB_PA['Limfos'], TOTAL['Limfos'], alternative='two-sided')\n",
    "print(\"P-valor entre AMB_PA i TOTAL:\", p_val_14)"
   ],
   "id": "ee5730bf91871a11",
   "outputs": [
    {
     "name": "stdout",
     "output_type": "stream",
     "text": [
      "P-valor entre AMB_PA i TOTAL: nan\n"
     ]
    }
   ],
   "execution_count": 380
  },
  {
   "metadata": {
    "ExecuteTime": {
     "end_time": "2024-05-06T06:44:54.254146Z",
     "start_time": "2024-05-06T06:44:54.244918Z"
    }
   },
   "cell_type": "code",
   "source": [
    "stat_24, p_val_24 = ttest_ind(AMB_PA_MECVV['Limfos'], TOTAL['Limfos'], equal_var=False)\n",
    "print(\"P-valor entre AMB_PA_MECVV i TOTAL:\", p_val_24)"
   ],
   "id": "b399bb6a8f2d03cb",
   "outputs": [
    {
     "name": "stdout",
     "output_type": "stream",
     "text": [
      "P-valor entre AMB_PA_MECVV i TOTAL: nan\n"
     ]
    }
   ],
   "execution_count": 381
  },
  {
   "metadata": {
    "ExecuteTime": {
     "end_time": "2024-05-06T06:44:55.107581Z",
     "start_time": "2024-05-06T06:44:55.098055Z"
    }
   },
   "cell_type": "code",
   "source": [
    "stat_34, p_val_34 = ttest_ind(SENSE_PA['Limfos'], TOTAL['Limfos'], equal_var=False)\n",
    "print(\"P-valor entre SNESE_PA i TOTAL:\", p_val_14)"
   ],
   "id": "39fdbb05574283a3",
   "outputs": [
    {
     "name": "stdout",
     "output_type": "stream",
     "text": [
      "P-valor entre SNESE_PA i TOTAL: nan\n"
     ]
    }
   ],
   "execution_count": 382
  },
  {
   "metadata": {},
   "cell_type": "markdown",
   "source": "### Proteïna C Reactiva",
   "id": "b5af48dc4725f34c"
  },
  {
   "metadata": {
    "ExecuteTime": {
     "end_time": "2024-05-06T06:44:55.892782Z",
     "start_time": "2024-05-06T06:44:55.886114Z"
    }
   },
   "cell_type": "code",
   "source": [
    "AMB_PA.loc[:, 'Prot C react'] = pd.to_numeric(AMB_PA['Prot C react'], errors='coerce')\n",
    "\n",
    "Mitjana_protcr = AMB_PA['Prot C react'].mean()\n",
    "desviacio_estandard_protcr = AMB_PA['Prot C react'].std()\n",
    "\n",
    "resultat = f\"{Mitjana_protcr:.2f} ± {desviacio_estandard_protcr:.2f}\"\n",
    "print(\"Mitjana ± Desviació Estàndard de la proteïna C reactiva:\", resultat)"
   ],
   "id": "98e283277d756533",
   "outputs": [
    {
     "name": "stdout",
     "output_type": "stream",
     "text": [
      "Mitjana ± Desviació Estàndard de la proteïna C reactiva: 8.90 ± 5.47\n"
     ]
    }
   ],
   "execution_count": 383
  },
  {
   "metadata": {
    "ExecuteTime": {
     "end_time": "2024-05-06T06:44:56.088662Z",
     "start_time": "2024-05-06T06:44:56.075007Z"
    }
   },
   "cell_type": "code",
   "source": [
    "AMB_PA_MECVV.loc[:, 'Prot C react'] = pd.to_numeric(AMB_PA_MECVV['Prot C react'], errors='coerce')\n",
    "\n",
    "Mitjana_protcr = AMB_PA_MECVV['Prot C react'].mean()\n",
    "desviacio_estandard_protcr = AMB_PA_MECVV['Prot C react'].std()\n",
    "\n",
    "resultat = f\"{Mitjana_protcr:.2f} ± {desviacio_estandard_protcr:.2f}\"\n",
    "print(\"Mitjana ± Desviació Estàndard de la proteïna C reactiva:\", resultat)"
   ],
   "id": "8b515311fed50137",
   "outputs": [
    {
     "name": "stdout",
     "output_type": "stream",
     "text": [
      "Mitjana ± Desviació Estàndard de la proteïna C reactiva: 6.38 ± 3.51\n"
     ]
    }
   ],
   "execution_count": 384
  },
  {
   "metadata": {
    "ExecuteTime": {
     "end_time": "2024-05-06T06:44:56.115736Z",
     "start_time": "2024-05-06T06:44:56.102231Z"
    }
   },
   "cell_type": "code",
   "source": [
    "SENSE_PA.loc[:, 'Prot C react'] = pd.to_numeric(SENSE_PA['Prot C react'], errors='coerce')\n",
    "\n",
    "Mitjana_protcr = SENSE_PA['Prot C react'].mean()\n",
    "desviacio_estandard_protcr = SENSE_PA['Prot C react'].std()\n",
    "\n",
    "resultat = f\"{Mitjana_protcr:.2f} ± {desviacio_estandard_protcr:.2f}\"\n",
    "print(\"Mitjana ± Desviació Estàndard de la proteïna C reactiva:\", resultat)"
   ],
   "id": "7ddab15e5c37a380",
   "outputs": [
    {
     "name": "stdout",
     "output_type": "stream",
     "text": [
      "Mitjana ± Desviació Estàndard de la proteïna C reactiva: 5.13 ± 5.30\n"
     ]
    }
   ],
   "execution_count": 385
  },
  {
   "metadata": {
    "ExecuteTime": {
     "end_time": "2024-05-06T06:44:56.129966Z",
     "start_time": "2024-05-06T06:44:56.120945Z"
    }
   },
   "cell_type": "code",
   "source": [
    "TOTAL.loc[:, 'Prot C react'] = pd.to_numeric(TOTAL['Prot C react'], errors='coerce')\n",
    "\n",
    "Mitjana_protcr = TOTAL['Prot C react'].mean()\n",
    "desviacio_estandard_protcr = TOTAL['Prot C react'].std()\n",
    "\n",
    "resultat = f\"{Mitjana_protcr:.2f} ± {desviacio_estandard_protcr:.2f}\"\n",
    "print(\"Mitjana ± Desviació Estàndard de la proteïna C reactiva:\", resultat)"
   ],
   "id": "a6eabee29c618082",
   "outputs": [
    {
     "name": "stdout",
     "output_type": "stream",
     "text": [
      "Mitjana ± Desviació Estàndard de la proteïna C reactiva: 6.30 ± 6.09\n"
     ]
    }
   ],
   "execution_count": 386
  },
  {
   "metadata": {},
   "cell_type": "markdown",
   "source": "#### Pvalor",
   "id": "b31569a040499bc0"
  },
  {
   "metadata": {},
   "cell_type": "markdown",
   "source": "##### Normalitat",
   "id": "a9b9a9f6b0ba7bc9"
  },
  {
   "metadata": {
    "ExecuteTime": {
     "end_time": "2024-05-06T06:44:56.139985Z",
     "start_time": "2024-05-06T06:44:56.132985Z"
    }
   },
   "cell_type": "code",
   "source": [
    "pcrambpa=AMB_PA['Prot C react'].dropna()\n",
    "stat, p_value = shapiro(pcrambpa)\n",
    "print(f\"Estadístic W = {stat:.4f}\")\n",
    "print(f\"Valor p = {p_value:.8f}\")\n",
    "\n",
    "alpha = 0.05\n",
    "if p_value < alpha:\n",
    "    print(\"El nombre de files no segueix una distribució normal.\")\n",
    "else:\n",
    "    print(\"El nombre de files segueix una distribució normal.\")"
   ],
   "id": "74effc43ec1d103d",
   "outputs": [
    {
     "name": "stdout",
     "output_type": "stream",
     "text": [
      "Estadístic W = 0.9423\n",
      "Valor p = 0.60665876\n",
      "El nombre de files segueix una distribució normal.\n"
     ]
    }
   ],
   "execution_count": 387
  },
  {
   "metadata": {
    "ExecuteTime": {
     "end_time": "2024-05-06T06:44:56.150476Z",
     "start_time": "2024-05-06T06:44:56.141959Z"
    }
   },
   "cell_type": "code",
   "source": [
    "pcrambpamecvv=AMB_PA_MECVV['Prot C react'].dropna()\n",
    "stat, p_value = shapiro(pcrambpamecvv)\n",
    "print(f\"Estadístic W = {stat:.4f}\")\n",
    "print(f\"Valor p = {p_value:.8f}\")\n",
    "\n",
    "alpha = 0.05\n",
    "if p_value < alpha:\n",
    "    print(\"El nombre de files no segueix una distribució normal.\")\n",
    "else:\n",
    "    print(\"El nombre de files segueix una distribució normal.\")"
   ],
   "id": "126e457734e0cd5f",
   "outputs": [
    {
     "name": "stdout",
     "output_type": "stream",
     "text": [
      "Estadístic W = 0.8067\n",
      "Valor p = 0.13058912\n",
      "El nombre de files segueix una distribució normal.\n"
     ]
    }
   ],
   "execution_count": 388
  },
  {
   "metadata": {
    "ExecuteTime": {
     "end_time": "2024-05-06T06:44:56.163464Z",
     "start_time": "2024-05-06T06:44:56.152049Z"
    }
   },
   "cell_type": "code",
   "source": [
    "pcrsensepa=SENSE_PA['Prot C react'].dropna()\n",
    "stat, p_value = shapiro(pcrsensepa)\n",
    "print(f\"Estadístic W = {stat:.4f}\")\n",
    "print(f\"Valor p = {p_value:.8f}\")\n",
    "\n",
    "alpha = 0.05\n",
    "if p_value < alpha:\n",
    "    print(\"El nombre de files no segueix una distribució normal.\")\n",
    "else:\n",
    "    print(\"El nombre de files segueix una distribució normal.\")"
   ],
   "id": "d4b76e6566e60aef",
   "outputs": [
    {
     "name": "stdout",
     "output_type": "stream",
     "text": [
      "Estadístic W = 0.8945\n",
      "Valor p = 0.34256857\n",
      "El nombre de files segueix una distribució normal.\n"
     ]
    }
   ],
   "execution_count": 389
  },
  {
   "metadata": {
    "ExecuteTime": {
     "end_time": "2024-05-06T06:44:56.176229Z",
     "start_time": "2024-05-06T06:44:56.165577Z"
    }
   },
   "cell_type": "code",
   "source": [
    "pcrtotal=TOTAL['Prot C react'].dropna()\n",
    "stat, p_value = shapiro(pcrtotal)\n",
    "print(f\"Estadístic W = {stat:.4f}\")\n",
    "print(f\"Valor p = {p_value:.8f}\")\n",
    "\n",
    "alpha = 0.05\n",
    "if p_value < alpha:\n",
    "    print(\"El nombre de files no segueix una distribució normal.\")\n",
    "else:\n",
    "    print(\"El nombre de files segueix una distribució normal.\")"
   ],
   "id": "d99c7514712cfe1d",
   "outputs": [
    {
     "name": "stdout",
     "output_type": "stream",
     "text": [
      "Estadístic W = 0.8808\n",
      "Valor p = 0.00862808\n",
      "El nombre de files no segueix una distribució normal.\n"
     ]
    }
   ],
   "execution_count": 390
  },
  {
   "metadata": {
    "ExecuteTime": {
     "end_time": "2024-05-06T06:44:56.192287Z",
     "start_time": "2024-05-06T06:44:56.180187Z"
    }
   },
   "cell_type": "code",
   "source": [
    "t_stat_12, p_val_12 = ttest_ind(AMB_PA['Prot C react'], AMB_PA_MECVV['Prot C react'], equal_var=False)\n",
    "print(\"P-valor entre AMB_PA i AMB_PA_MECVV:\", p_val_12)"
   ],
   "id": "4ac26b19e5a637c4",
   "outputs": [
    {
     "name": "stdout",
     "output_type": "stream",
     "text": [
      "P-valor entre AMB_PA i AMB_PA_MECVV: nan\n"
     ]
    }
   ],
   "execution_count": 391
  },
  {
   "metadata": {
    "ExecuteTime": {
     "end_time": "2024-05-06T06:44:56.206850Z",
     "start_time": "2024-05-06T06:44:56.197421Z"
    }
   },
   "cell_type": "code",
   "source": [
    "t_stat_13, p_val_13 = ttest_ind(AMB_PA['Prot C react'], SENSE_PA['Prot C react'], equal_var=False)\n",
    "print(\"P-valor entre AMB_PA i SENSE_PA:\", p_val_13)"
   ],
   "id": "c066108d69febfac",
   "outputs": [
    {
     "name": "stdout",
     "output_type": "stream",
     "text": [
      "P-valor entre AMB_PA i SENSE_PA: nan\n"
     ]
    }
   ],
   "execution_count": 392
  },
  {
   "metadata": {
    "ExecuteTime": {
     "end_time": "2024-05-06T06:44:56.233522Z",
     "start_time": "2024-05-06T06:44:56.226772Z"
    }
   },
   "cell_type": "code",
   "source": [
    "t_stat_23, p_val_23 = ttest_ind(AMB_PA_MECVV['Prot C react'], SENSE_PA['Prot C react'], equal_var=False)\n",
    "print(\"P-valor entre AMB_PA_MECVV i SENSE_PA:\", p_val_23)"
   ],
   "id": "990e6825240cb2cc",
   "outputs": [
    {
     "name": "stdout",
     "output_type": "stream",
     "text": [
      "P-valor entre AMB_PA_MECVV i SENSE_PA: nan\n"
     ]
    }
   ],
   "execution_count": 393
  },
  {
   "metadata": {
    "ExecuteTime": {
     "end_time": "2024-05-06T06:44:56.247817Z",
     "start_time": "2024-05-06T06:44:56.240705Z"
    }
   },
   "cell_type": "code",
   "source": [
    "t_stat_14, p_val_14 = mannwhitneyu(AMB_PA['Prot C react'], TOTAL['Prot C react'], alternative='two-sided')\n",
    "print(\"P-valor entre AMB_PA i TOTAL:\", p_val_14)"
   ],
   "id": "d03026e7eb207fe0",
   "outputs": [
    {
     "name": "stdout",
     "output_type": "stream",
     "text": [
      "P-valor entre AMB_PA i TOTAL: nan\n"
     ]
    }
   ],
   "execution_count": 394
  },
  {
   "metadata": {
    "ExecuteTime": {
     "end_time": "2024-05-06T06:44:56.261606Z",
     "start_time": "2024-05-06T06:44:56.251259Z"
    }
   },
   "cell_type": "code",
   "source": [
    "t_stat_24, p_val_24 = mannwhitneyu(AMB_PA_MECVV['Prot C react'], TOTAL['Prot C react'], alternative='two-sided')\n",
    "print(\"P-valor entre AMB_PA_MECVV i TOTAL:\", p_val_24)"
   ],
   "id": "28e4000bd49b1f20",
   "outputs": [
    {
     "name": "stdout",
     "output_type": "stream",
     "text": [
      "P-valor entre AMB_PA_MECVV i TOTAL: nan\n"
     ]
    }
   ],
   "execution_count": 395
  },
  {
   "metadata": {
    "ExecuteTime": {
     "end_time": "2024-05-06T06:44:56.284086Z",
     "start_time": "2024-05-06T06:44:56.266958Z"
    }
   },
   "cell_type": "code",
   "source": [
    "t_stat_34, p_val_34 = mannwhitneyu(SENSE_PA['Prot C react'], TOTAL['Prot C react'], alternative='two-sided')\n",
    "print(\"P-valor entre SENSE_PA i TOTAL:\", p_val_34)"
   ],
   "id": "6695b8363b8caa31",
   "outputs": [
    {
     "name": "stdout",
     "output_type": "stream",
     "text": [
      "P-valor entre SENSE_PA i TOTAL: nan\n"
     ]
    }
   ],
   "execution_count": 396
  },
  {
   "metadata": {},
   "cell_type": "markdown",
   "source": "### Urea ",
   "id": "70407b79d2781378"
  },
  {
   "metadata": {
    "ExecuteTime": {
     "end_time": "2024-05-06T06:44:56.298989Z",
     "start_time": "2024-05-06T06:44:56.286593Z"
    }
   },
   "cell_type": "code",
   "source": [
    "AMB_PA.loc[:, 'Urea'] = pd.to_numeric(AMB_PA['Urea'], errors='coerce')\n",
    "\n",
    "Mitjana_Urea = AMB_PA['Urea'].mean()\n",
    "desviacio_estandard_Urea = AMB_PA['Urea'].std()\n",
    "\n",
    "resultat = f\"{Mitjana_Urea:.2f} ± {desviacio_estandard_Urea:.2f}\"\n",
    "print(\"Mitjana ± Desviació Estàndard de la Urea:\", resultat)"
   ],
   "id": "6d830574cb2474c2",
   "outputs": [
    {
     "name": "stdout",
     "output_type": "stream",
     "text": [
      "Mitjana ± Desviació Estàndard de la Urea: 62.17 ± 36.37\n"
     ]
    }
   ],
   "execution_count": 397
  },
  {
   "metadata": {
    "ExecuteTime": {
     "end_time": "2024-05-06T06:44:56.314156Z",
     "start_time": "2024-05-06T06:44:56.301094Z"
    }
   },
   "cell_type": "code",
   "source": [
    "AMB_PA_MECVV.loc[:, 'Urea'] = pd.to_numeric(AMB_PA_MECVV['Urea'], errors='coerce')\n",
    "\n",
    "Mitjana_Urea = AMB_PA_MECVV['Urea'].mean()\n",
    "desviacio_estandard_Urea = AMB_PA_MECVV['Urea'].std()\n",
    "\n",
    "resultat = f\"{Mitjana_Urea:.2f} ± {desviacio_estandard_Urea:.2f}\"\n",
    "print(\"Mitjana ± Desviació Estàndard de la Urea:\", resultat)"
   ],
   "id": "115f038f7b499570",
   "outputs": [
    {
     "name": "stdout",
     "output_type": "stream",
     "text": [
      "Mitjana ± Desviació Estàndard de la Urea: 82.27 ± 32.15\n"
     ]
    }
   ],
   "execution_count": 398
  },
  {
   "metadata": {
    "ExecuteTime": {
     "end_time": "2024-05-06T06:44:56.324781Z",
     "start_time": "2024-05-06T06:44:56.316945Z"
    }
   },
   "cell_type": "code",
   "source": [
    "SENSE_PA.loc[:, 'Urea'] = pd.to_numeric(SENSE_PA['Urea'], errors='coerce')\n",
    "\n",
    "Mitjana_Urea = SENSE_PA['Urea'].mean()\n",
    "desviacio_estandard_Urea = SENSE_PA['Urea'].std()\n",
    "\n",
    "resultat = f\"{Mitjana_Urea:.2f} ± {desviacio_estandard_Urea:.2f}\"\n",
    "print(\"Mitjana ± Desviació Estàndard de la Urea:\", resultat)"
   ],
   "id": "128b7760b5b53c87",
   "outputs": [
    {
     "name": "stdout",
     "output_type": "stream",
     "text": [
      "Mitjana ± Desviació Estàndard de la Urea: 43.62 ± 18.84\n"
     ]
    }
   ],
   "execution_count": 399
  },
  {
   "metadata": {
    "ExecuteTime": {
     "end_time": "2024-05-06T06:44:56.335579Z",
     "start_time": "2024-05-06T06:44:56.327683Z"
    }
   },
   "cell_type": "code",
   "source": [
    "TOTAL.loc[:, 'Urea'] = pd.to_numeric(TOTAL['Urea'], errors='coerce')\n",
    "\n",
    "Mitjana_Urea = TOTAL['Urea'].mean()\n",
    "desviacio_estandard_Urea = TOTAL['Urea'].std()\n",
    "\n",
    "resultat = f\"{Mitjana_Urea:.2f} ± {desviacio_estandard_Urea:.2f}\"\n",
    "print(\"Mitjana ± Desviació Estàndard de la Urea:\", resultat)"
   ],
   "id": "66833ae3022ae1fb",
   "outputs": [
    {
     "name": "stdout",
     "output_type": "stream",
     "text": [
      "Mitjana ± Desviació Estàndard de la Urea: 54.02 ± 30.40\n"
     ]
    }
   ],
   "execution_count": 400
  },
  {
   "metadata": {},
   "cell_type": "markdown",
   "source": "#### Pvalor",
   "id": "9845a84dff03ee36"
  },
  {
   "metadata": {},
   "cell_type": "markdown",
   "source": "##### Normalitat",
   "id": "779d3f8d9a8af548"
  },
  {
   "metadata": {
    "ExecuteTime": {
     "end_time": "2024-05-06T06:44:56.345687Z",
     "start_time": "2024-05-06T06:44:56.338129Z"
    }
   },
   "cell_type": "code",
   "source": [
    "uambpa=AMB_PA['Urea'].dropna()\n",
    "stat, p_value = shapiro(uambpa)\n",
    "print(f\"Estadístic W = {stat:.4f}\")\n",
    "print(f\"Valor p = {p_value:.8f}\")\n",
    "\n",
    "alpha = 0.05\n",
    "if p_value < alpha:\n",
    "    print(\"El nombre de files no segueix una distribució normal.\")\n",
    "else:\n",
    "    print(\"El nombre de files segueix una distribució normal.\")"
   ],
   "id": "2152753661c990b",
   "outputs": [
    {
     "name": "stdout",
     "output_type": "stream",
     "text": [
      "Estadístic W = 0.8842\n",
      "Valor p = 0.17374314\n",
      "El nombre de files segueix una distribució normal.\n"
     ]
    }
   ],
   "execution_count": 401
  },
  {
   "metadata": {
    "ExecuteTime": {
     "end_time": "2024-05-06T06:44:56.354854Z",
     "start_time": "2024-05-06T06:44:56.347786Z"
    }
   },
   "cell_type": "code",
   "source": [
    "uambpamecvv=AMB_PA_MECVV['Urea'].dropna()\n",
    "stat, p_value = shapiro(uambpamecvv)\n",
    "print(f\"Estadístic W = {stat:.4f}\")\n",
    "print(f\"Valor p = {p_value:.8f}\")\n",
    "\n",
    "alpha = 0.05\n",
    "if p_value < alpha:\n",
    "    print(\"El nombre de files no segueix una distribució normal.\")\n",
    "else:\n",
    "    print(\"El nombre de files segueix una distribució normal.\")"
   ],
   "id": "3f8b1350804e2149",
   "outputs": [
    {
     "name": "stdout",
     "output_type": "stream",
     "text": [
      "Estadístic W = 0.9999\n",
      "Valor p = 0.97770778\n",
      "El nombre de files segueix una distribució normal.\n"
     ]
    }
   ],
   "execution_count": 402
  },
  {
   "metadata": {
    "ExecuteTime": {
     "end_time": "2024-05-06T06:44:56.365801Z",
     "start_time": "2024-05-06T06:44:56.357635Z"
    }
   },
   "cell_type": "code",
   "source": [
    "usensepa=SENSE_PA['Urea'].dropna()\n",
    "stat, p_value = shapiro(usensepa)\n",
    "print(f\"Estadístic W = {stat:.4f}\")\n",
    "print(f\"Valor p = {p_value:.8f}\")\n",
    "\n",
    "alpha = 0.05\n",
    "if p_value < alpha:\n",
    "    print(\"El nombre de files no segueix una distribució normal.\")\n",
    "else:\n",
    "    print(\"El nombre de files segueix una distribució normal.\")"
   ],
   "id": "f05d4f0e1466a0e4",
   "outputs": [
    {
     "name": "stdout",
     "output_type": "stream",
     "text": [
      "Estadístic W = 0.8322\n",
      "Valor p = 0.11225495\n",
      "El nombre de files segueix una distribució normal.\n"
     ]
    }
   ],
   "execution_count": 403
  },
  {
   "metadata": {
    "ExecuteTime": {
     "end_time": "2024-05-06T06:44:56.376452Z",
     "start_time": "2024-05-06T06:44:56.368139Z"
    }
   },
   "cell_type": "code",
   "source": [
    "utotal=TOTAL['Urea'].dropna()\n",
    "stat, p_value = shapiro(utotal)\n",
    "print(f\"Estadístic W = {stat:.4f}\")\n",
    "print(f\"Valor p = {p_value:.8f}\")\n",
    "\n",
    "alpha = 0.05\n",
    "if p_value < alpha:\n",
    "    print(\"El nombre de files no segueix una distribució normal.\")\n",
    "else:\n",
    "    print(\"El nombre de files segueix una distribució normal.\")"
   ],
   "id": "2799202ee9681d72",
   "outputs": [
    {
     "name": "stdout",
     "output_type": "stream",
     "text": [
      "Estadístic W = 0.8161\n",
      "Valor p = 0.00054555\n",
      "El nombre de files no segueix una distribució normal.\n"
     ]
    }
   ],
   "execution_count": 404
  },
  {
   "metadata": {
    "ExecuteTime": {
     "end_time": "2024-05-06T06:44:56.384912Z",
     "start_time": "2024-05-06T06:44:56.378356Z"
    }
   },
   "cell_type": "code",
   "source": [
    "t_stat_12, p_val_12 = ttest_ind(AMB_PA['Urea'], AMB_PA_MECVV['Urea'], equal_var=False)\n",
    "print(\"P-valor entre AMB_PA i AMB_PA_MECVV:\", p_val_12)"
   ],
   "id": "8ecd8760328f0c7c",
   "outputs": [
    {
     "name": "stdout",
     "output_type": "stream",
     "text": [
      "P-valor entre AMB_PA i AMB_PA_MECVV: nan\n"
     ]
    }
   ],
   "execution_count": 405
  },
  {
   "metadata": {
    "ExecuteTime": {
     "end_time": "2024-05-06T06:44:56.393567Z",
     "start_time": "2024-05-06T06:44:56.387078Z"
    }
   },
   "cell_type": "code",
   "source": [
    "t_stat_13, p_val_13 = ttest_ind(AMB_PA['Urea'], SENSE_PA['Urea'], equal_var=False)\n",
    "print(\"P-valor entre AMB_PA i SENSE_PA:\", p_val_13)"
   ],
   "id": "a5fc71afbb44df64",
   "outputs": [
    {
     "name": "stdout",
     "output_type": "stream",
     "text": [
      "P-valor entre AMB_PA i SENSE_PA: nan\n"
     ]
    }
   ],
   "execution_count": 406
  },
  {
   "metadata": {
    "ExecuteTime": {
     "end_time": "2024-05-06T06:44:56.402658Z",
     "start_time": "2024-05-06T06:44:56.395940Z"
    }
   },
   "cell_type": "code",
   "source": [
    "t_stat_23, p_val_23 = ttest_ind(AMB_PA_MECVV['Urea'], SENSE_PA['Urea'], equal_var=False)\n",
    "print(\"P-valor entre AMB_PA_MECVV i SENSE_PA:\", p_val_23)"
   ],
   "id": "6c6fdbd824f81824",
   "outputs": [
    {
     "name": "stdout",
     "output_type": "stream",
     "text": [
      "P-valor entre AMB_PA_MECVV i SENSE_PA: nan\n"
     ]
    }
   ],
   "execution_count": 407
  },
  {
   "metadata": {
    "ExecuteTime": {
     "end_time": "2024-05-06T06:44:56.412590Z",
     "start_time": "2024-05-06T06:44:56.404524Z"
    }
   },
   "cell_type": "code",
   "source": [
    "t_stat_14, p_val_14 = mannwhitneyu(AMB_PA['Urea'], TOTAL['Urea'], alternative='two-sided')\n",
    "print(\"P-valor entre AMB_PA i TOTAL:\", p_val_14)"
   ],
   "id": "c7c49e6ff67686b8",
   "outputs": [
    {
     "name": "stdout",
     "output_type": "stream",
     "text": [
      "P-valor entre AMB_PA i TOTAL: nan\n"
     ]
    }
   ],
   "execution_count": 408
  },
  {
   "metadata": {
    "ExecuteTime": {
     "end_time": "2024-05-06T06:44:56.421032Z",
     "start_time": "2024-05-06T06:44:56.413093Z"
    }
   },
   "cell_type": "code",
   "source": [
    "t_stat_24, p_val_24 = mannwhitneyu(AMB_PA_MECVV['Urea'], TOTAL['Urea'], alternative='two-sided')\n",
    "print(\"P-valor entre AMB_PA_MECVV i TOTAL:\", p_val_24)"
   ],
   "id": "e6e8d7d16b001b19",
   "outputs": [
    {
     "name": "stdout",
     "output_type": "stream",
     "text": [
      "P-valor entre AMB_PA_MECVV i TOTAL: nan\n"
     ]
    }
   ],
   "execution_count": 409
  },
  {
   "metadata": {
    "ExecuteTime": {
     "end_time": "2024-05-06T06:44:56.429601Z",
     "start_time": "2024-05-06T06:44:56.423401Z"
    }
   },
   "cell_type": "code",
   "source": [
    "t_stat_34, p_val_34 = mannwhitneyu(SENSE_PA['Urea'], TOTAL['Urea'], alternative='two-sided')\n",
    "print(\"P-valor entre SENSE_PA i TOTAL:\", p_val_34)"
   ],
   "id": "ca656d6358e150b7",
   "outputs": [
    {
     "name": "stdout",
     "output_type": "stream",
     "text": [
      "P-valor entre SENSE_PA i TOTAL: nan\n"
     ]
    }
   ],
   "execution_count": 410
  },
  {
   "metadata": {},
   "cell_type": "markdown",
   "source": "### Filtrat glomerular CDK-EPI",
   "id": "97c39fd36060d222"
  },
  {
   "metadata": {
    "ExecuteTime": {
     "end_time": "2024-05-06T06:44:56.448628Z",
     "start_time": "2024-05-06T06:44:56.440030Z"
    }
   },
   "cell_type": "code",
   "source": [
    "AMB_PA.loc[:, 'FGE CDK-EPI'] = pd.to_numeric(AMB_PA['FGE CDK-EPI'], errors='coerce')\n",
    "\n",
    "Mitjana_fg = AMB_PA['FGE CDK-EPI'].mean()\n",
    "desviacio_estandard_fg = AMB_PA['FGE CDK-EPI'].std()\n",
    "\n",
    "resultat = f\"{Mitjana_fg:.2f} ± {desviacio_estandard_fg:.2f}\"\n",
    "print(\"Mitjana ± Desviació Estàndard de la filtració glomerular CDK-EPI:\", resultat)"
   ],
   "id": "335089755b149003",
   "outputs": [
    {
     "name": "stdout",
     "output_type": "stream",
     "text": [
      "Mitjana ± Desviació Estàndard de la filtració glomerular CDK-EPI: 56.00 ± 12.65\n"
     ]
    }
   ],
   "execution_count": 411
  },
  {
   "metadata": {
    "ExecuteTime": {
     "end_time": "2024-05-06T06:44:56.459400Z",
     "start_time": "2024-05-06T06:44:56.452629Z"
    }
   },
   "cell_type": "code",
   "source": [
    "AMB_PA_MECVV.loc[:, 'FGE CDK-EPI'] = pd.to_numeric(AMB_PA_MECVV['FGE CDK-EPI'], errors='coerce')\n",
    "\n",
    "Mitjana_fg = AMB_PA_MECVV['FGE CDK-EPI'].mean()\n",
    "desviacio_estandard_fg = AMB_PA_MECVV['FGE CDK-EPI'].std()\n",
    "\n",
    "resultat = f\"{Mitjana_fg:.2f} ± {desviacio_estandard_fg:.2f}\"\n",
    "print(\"Mitjana ± Desviació Estàndard de la filtració glomerular CDK-EPI:\", resultat)"
   ],
   "id": "a8bb2317b53cefaf",
   "outputs": [
    {
     "name": "stdout",
     "output_type": "stream",
     "text": [
      "Mitjana ± Desviació Estàndard de la filtració glomerular CDK-EPI: 48.00 ± 2.00\n"
     ]
    }
   ],
   "execution_count": 412
  },
  {
   "metadata": {
    "ExecuteTime": {
     "end_time": "2024-05-06T06:44:56.478448Z",
     "start_time": "2024-05-06T06:44:56.459400Z"
    }
   },
   "cell_type": "code",
   "source": [
    "SENSE_PA.loc[:, 'FGE CDK-EPI'] = pd.to_numeric(SENSE_PA['FGE CDK-EPI'], errors='coerce')\n",
    "\n",
    "Mitjana_fg = SENSE_PA['FGE CDK-EPI'].mean()\n",
    "desviacio_estandard_fg = SENSE_PA['FGE CDK-EPI'].std()\n",
    "\n",
    "resultat = f\"{Mitjana_fg:.2f} ± {desviacio_estandard_fg:.2f}\"\n",
    "print(\"Mitjana ± Desviació Estàndard de la filtració glomerular CDK-EPI:\", resultat)"
   ],
   "id": "d3b100faffc74bb4",
   "outputs": [
    {
     "name": "stdout",
     "output_type": "stream",
     "text": [
      "Mitjana ± Desviació Estàndard de la filtració glomerular CDK-EPI: 57.60 ± 16.27\n"
     ]
    }
   ],
   "execution_count": 413
  },
  {
   "metadata": {
    "ExecuteTime": {
     "end_time": "2024-05-06T06:44:56.494108Z",
     "start_time": "2024-05-06T06:44:56.478448Z"
    }
   },
   "cell_type": "code",
   "source": [
    "TOTAL.loc[:, 'FGE CDK-EPI'] = pd.to_numeric(TOTAL['FGE CDK-EPI'], errors='coerce')\n",
    "\n",
    "Mitjana_fg = TOTAL['FGE CDK-EPI'].mean()\n",
    "desviacio_estandard_fg = TOTAL['FGE CDK-EPI'].std()\n",
    "\n",
    "resultat = f\"{Mitjana_fg:.2f} ± {desviacio_estandard_fg:.2f}\"\n",
    "print(\"Mitjana ± Desviació Estàndard de la filtració glomerular CDK-EPI:\", resultat)"
   ],
   "id": "45f34e34c5d8abcb",
   "outputs": [
    {
     "name": "stdout",
     "output_type": "stream",
     "text": [
      "Mitjana ± Desviació Estàndard de la filtració glomerular CDK-EPI: 59.94 ± 18.70\n"
     ]
    }
   ],
   "execution_count": 414
  },
  {
   "metadata": {},
   "cell_type": "markdown",
   "source": "#### Pvalor",
   "id": "3a6a732fb32c6a40"
  },
  {
   "metadata": {},
   "cell_type": "markdown",
   "source": "##### Normalitat",
   "id": "6b6b3b3c035d716c"
  },
  {
   "metadata": {
    "ExecuteTime": {
     "end_time": "2024-05-06T06:44:56.501823Z",
     "start_time": "2024-05-06T06:44:56.496184Z"
    }
   },
   "cell_type": "code",
   "source": [
    "fgepiambpa=AMB_PA['FGE CDK-EPI'].dropna()\n",
    "stat, p_value = shapiro(fgepiambpa)\n",
    "print(f\"Estadístic W = {stat:.4f}\")\n",
    "print(f\"Valor p = {p_value:.8f}\")\n",
    "\n",
    "alpha = 0.05\n",
    "if p_value < alpha:\n",
    "    print(\"El nombre de files no segueix una distribució normal.\")\n",
    "else:\n",
    "    print(\"El nombre de files segueix una distribució normal.\")"
   ],
   "id": "e037b2e5cfd6ac84",
   "outputs": [
    {
     "name": "stdout",
     "output_type": "stream",
     "text": [
      "Estadístic W = 0.7690\n",
      "Valor p = 0.01994941\n",
      "El nombre de files no segueix una distribució normal.\n"
     ]
    }
   ],
   "execution_count": 415
  },
  {
   "metadata": {
    "ExecuteTime": {
     "end_time": "2024-05-06T06:44:56.516792Z",
     "start_time": "2024-05-06T06:44:56.501823Z"
    }
   },
   "cell_type": "code",
   "source": [
    "fgepiambpamecvv=AMB_PA_MECVV['FGE CDK-EPI'].dropna()\n",
    "stat, p_value = shapiro(fgepiambpamecvv)\n",
    "print(f\"Estadístic W = {stat:.4f}\")\n",
    "print(f\"Valor p = {p_value:.8f}\")\n",
    "\n",
    "alpha = 0.05\n",
    "if p_value < alpha:\n",
    "    print(\"El nombre de files no segueix una distribució normal.\")\n",
    "else:\n",
    "    print(\"El nombre de files segueix una distribució normal.\")"
   ],
   "id": "6cfa62e76f8cd3eb",
   "outputs": [
    {
     "name": "stdout",
     "output_type": "stream",
     "text": [
      "Estadístic W = 1.0000\n",
      "Valor p = 1.00000000\n",
      "El nombre de files segueix una distribució normal.\n"
     ]
    }
   ],
   "execution_count": 416
  },
  {
   "metadata": {
    "ExecuteTime": {
     "end_time": "2024-05-06T06:44:56.526248Z",
     "start_time": "2024-05-06T06:44:56.518605Z"
    }
   },
   "cell_type": "code",
   "source": [
    "fgepisensepa=SENSE_PA['FGE CDK-EPI'].dropna()\n",
    "stat, p_value = shapiro(fgepisensepa)\n",
    "print(f\"Estadístic W = {stat:.4f}\")\n",
    "print(f\"Valor p = {p_value:.8f}\")\n",
    "\n",
    "alpha = 0.05\n",
    "if p_value < alpha:\n",
    "    print(\"El nombre de files no segueix una distribució normal.\")\n",
    "else:\n",
    "    print(\"El nombre de files segueix una distribució normal.\")"
   ],
   "id": "77f862b514fccffc",
   "outputs": [
    {
     "name": "stdout",
     "output_type": "stream",
     "text": [
      "Estadístic W = 0.9605\n",
      "Valor p = 0.81120317\n",
      "El nombre de files segueix una distribució normal.\n"
     ]
    }
   ],
   "execution_count": 417
  },
  {
   "metadata": {
    "ExecuteTime": {
     "end_time": "2024-05-06T06:44:56.535670Z",
     "start_time": "2024-05-06T06:44:56.528511Z"
    }
   },
   "cell_type": "code",
   "source": [
    "fgepitotal=TOTAL['FGE CDK-EPI'].dropna()\n",
    "stat, p_value = shapiro(fgepitotal)\n",
    "print(f\"Estadístic W = {stat:.4f}\")\n",
    "print(f\"Valor p = {p_value:.8f}\")\n",
    "\n",
    "alpha = 0.05\n",
    "if p_value < alpha:\n",
    "    print(\"El nombre de files no segueix una distribució normal.\")\n",
    "else:\n",
    "    print(\"El nombre de files segueix una distribució normal.\")"
   ],
   "id": "c0fe2a476b97d4b9",
   "outputs": [
    {
     "name": "stdout",
     "output_type": "stream",
     "text": [
      "Estadístic W = 0.9054\n",
      "Valor p = 0.08369069\n",
      "El nombre de files segueix una distribució normal.\n"
     ]
    }
   ],
   "execution_count": 418
  },
  {
   "metadata": {
    "ExecuteTime": {
     "end_time": "2024-05-06T06:44:56.553218Z",
     "start_time": "2024-05-06T06:44:56.545790Z"
    }
   },
   "cell_type": "code",
   "source": [
    "t_stat_12, p_val_12 = mannwhitneyu(AMB_PA['FGE CDK-EPI'], AMB_PA_MECVV['FGE CDK-EPI'], alternative='two-sided')\n",
    "print(\"P-valor entre AMB_PA i AMB_PA_MECVV:\", p_val_12)"
   ],
   "id": "b577d9671e51df70",
   "outputs": [
    {
     "name": "stdout",
     "output_type": "stream",
     "text": [
      "P-valor entre AMB_PA i AMB_PA_MECVV: nan\n"
     ]
    }
   ],
   "execution_count": 419
  },
  {
   "metadata": {
    "ExecuteTime": {
     "end_time": "2024-05-06T06:44:56.565152Z",
     "start_time": "2024-05-06T06:44:56.559429Z"
    }
   },
   "cell_type": "code",
   "source": [
    "t_stat_13, p_val_13 = mannwhitneyu(AMB_PA['FGE CDK-EPI'], SENSE_PA['FGE CDK-EPI'], alternative='two-sided')\n",
    "print(\"P-valor entre AMB_PA i AMB_PA_MECVV:\", p_val_13)"
   ],
   "id": "c64990f8c660b675",
   "outputs": [
    {
     "name": "stdout",
     "output_type": "stream",
     "text": [
      "P-valor entre AMB_PA i AMB_PA_MECVV: nan\n"
     ]
    }
   ],
   "execution_count": 420
  },
  {
   "metadata": {
    "ExecuteTime": {
     "end_time": "2024-05-06T06:44:56.573974Z",
     "start_time": "2024-05-06T06:44:56.567534Z"
    }
   },
   "cell_type": "code",
   "source": [
    "t_stat_23, p_val_23 = ttest_ind(AMB_PA_MECVV['FGE CDK-EPI'], SENSE_PA['FGE CDK-EPI'], equal_var=False)\n",
    "print(\"P-valor entre AMB_PA_MECVV i SENSE_PA:\", p_val_23)"
   ],
   "id": "cacb3815726e054",
   "outputs": [
    {
     "name": "stdout",
     "output_type": "stream",
     "text": [
      "P-valor entre AMB_PA_MECVV i SENSE_PA: nan\n"
     ]
    }
   ],
   "execution_count": 421
  },
  {
   "metadata": {
    "ExecuteTime": {
     "end_time": "2024-05-06T06:44:56.593013Z",
     "start_time": "2024-05-06T06:44:56.584233Z"
    }
   },
   "cell_type": "code",
   "source": [
    "t_stat_14, p_val_14 = mannwhitneyu(AMB_PA['FGE CDK-EPI'], TOTAL['FGE CDK-EPI'], alternative='two-sided')\n",
    "print(\"P-valor entre AMB_PA i TOTAL:\", p_val_14)"
   ],
   "id": "94cc3fb936b2e4f8",
   "outputs": [
    {
     "name": "stdout",
     "output_type": "stream",
     "text": [
      "P-valor entre AMB_PA i TOTAL: nan\n"
     ]
    }
   ],
   "execution_count": 422
  },
  {
   "metadata": {
    "ExecuteTime": {
     "end_time": "2024-05-06T06:44:56.608868Z",
     "start_time": "2024-05-06T06:44:56.596546Z"
    }
   },
   "cell_type": "code",
   "source": [
    "t_stat_24, p_val_24 = ttest_ind(AMB_PA_MECVV['FGE CDK-EPI'], TOTAL['FGE CDK-EPI'], equal_var=False)\n",
    "print(\"P-valor entre AMB_PA_MECVV i TOTAL:\", p_val_24)"
   ],
   "id": "8a393063d30c2e13",
   "outputs": [
    {
     "name": "stdout",
     "output_type": "stream",
     "text": [
      "P-valor entre AMB_PA_MECVV i TOTAL: nan\n"
     ]
    }
   ],
   "execution_count": 423
  },
  {
   "metadata": {
    "ExecuteTime": {
     "end_time": "2024-05-06T06:44:56.623999Z",
     "start_time": "2024-05-06T06:44:56.616119Z"
    }
   },
   "cell_type": "code",
   "source": [
    "t_stat_34, p_val_34 = ttest_ind(SENSE_PA['FGE CDK-EPI'], TOTAL['FGE CDK-EPI'], equal_var=False)\n",
    "print(\"P-valor entre SENSE_PA i TOTAL:\", p_val_34)"
   ],
   "id": "5c97f8e323259634",
   "outputs": [
    {
     "name": "stdout",
     "output_type": "stream",
     "text": [
      "P-valor entre SENSE_PA i TOTAL: nan\n"
     ]
    }
   ],
   "execution_count": 424
  },
  {
   "metadata": {},
   "cell_type": "markdown",
   "source": "### Filtrat glomerular MDRD",
   "id": "5661efefb2d6fbd2"
  },
  {
   "metadata": {
    "ExecuteTime": {
     "end_time": "2024-05-06T06:44:56.637783Z",
     "start_time": "2024-05-06T06:44:56.628546Z"
    }
   },
   "cell_type": "code",
   "source": [
    "AMB_PA.loc[:, 'FGE MDRD'] = pd.to_numeric(AMB_PA['FGE MDRD'], errors='coerce')\n",
    "\n",
    "Mitjana_fgmd = AMB_PA['FGE MDRD'].mean()\n",
    "desviacio_estandard_fgmd = AMB_PA['FGE MDRD'].std()\n",
    "\n",
    "resultat = f\"{Mitjana_fgmd:.2f} ± {desviacio_estandard_fgmd:.2f}\"\n",
    "print(\"Mitjana ± Desviació Estàndard de la filtració glomerular MDRD:\", resultat)"
   ],
   "id": "2e37a6ab86652bfb",
   "outputs": [
    {
     "name": "stdout",
     "output_type": "stream",
     "text": [
      "Mitjana ± Desviació Estàndard de la filtració glomerular MDRD: 51.50 ± 0.71\n"
     ]
    }
   ],
   "execution_count": 425
  },
  {
   "metadata": {
    "ExecuteTime": {
     "end_time": "2024-05-06T06:44:56.659206Z",
     "start_time": "2024-05-06T06:44:56.649824Z"
    }
   },
   "cell_type": "code",
   "source": [
    "AMB_PA_MECVV.loc[:, 'FGE MDRD'] = pd.to_numeric(AMB_PA_MECVV['FGE MDRD'], errors='coerce')\n",
    "\n",
    "Mitjana_fgmd = AMB_PA_MECVV['FGE MDRD'].mean()\n",
    "desviacio_estandard_fgmd = AMB_PA_MECVV['FGE MDRD'].std()\n",
    "\n",
    "resultat = f\"{Mitjana_fgmd:.2f} ± {desviacio_estandard_fgmd:.2f}\"\n",
    "print(\"Mitjana ± Desviació Estàndard de la filtració glomerular MDRD:\", resultat)"
   ],
   "id": "3739fed61774b2d4",
   "outputs": [
    {
     "name": "stdout",
     "output_type": "stream",
     "text": [
      "Mitjana ± Desviació Estàndard de la filtració glomerular MDRD: 51.00 ± nan\n"
     ]
    }
   ],
   "execution_count": 426
  },
  {
   "metadata": {
    "ExecuteTime": {
     "end_time": "2024-05-06T06:44:56.677193Z",
     "start_time": "2024-05-06T06:44:56.664031Z"
    }
   },
   "cell_type": "code",
   "source": [
    "SENSE_PA.loc[:, 'FGE MDRD'] = pd.to_numeric(SENSE_PA['FGE MDRD'], errors='coerce')\n",
    "\n",
    "Mitjana_fgmd = SENSE_PA['FGE MDRD'].mean()\n",
    "desviacio_estandard_fgmd = SENSE_PA['FGE MDRD'].std()\n",
    "\n",
    "resultat = f\"{Mitjana_fgmd:.2f} ± {desviacio_estandard_fgmd:.2f}\"\n",
    "print(\"Mitjana ± Desviació Estàndard de la filtració glomerular MDRD:\", resultat)"
   ],
   "id": "763541413be056c5",
   "outputs": [
    {
     "name": "stdout",
     "output_type": "stream",
     "text": [
      "Mitjana ± Desviació Estàndard de la filtració glomerular MDRD: 39.00 ± nan\n"
     ]
    }
   ],
   "execution_count": 427
  },
  {
   "metadata": {
    "ExecuteTime": {
     "end_time": "2024-05-06T06:44:56.695288Z",
     "start_time": "2024-05-06T06:44:56.687628Z"
    }
   },
   "cell_type": "code",
   "source": [
    "TOTAL.loc[:, 'FGE MDRD'] = pd.to_numeric(TOTAL['FGE MDRD'], errors='coerce')\n",
    "\n",
    "Mitjana_fgmd = TOTAL['FGE MDRD'].mean()\n",
    "desviacio_estandard_fgmd = TOTAL['FGE MDRD'].std()\n",
    "\n",
    "resultat = f\"{Mitjana_fgmd:.2f} ± {desviacio_estandard_fgmd:.2f}\"\n",
    "print(\"Mitjana ± Desviació Estàndard de la filtració glomerular MDRD:\", resultat)"
   ],
   "id": "e75a50c540e370a4",
   "outputs": [
    {
     "name": "stdout",
     "output_type": "stream",
     "text": [
      "Mitjana ± Desviació Estàndard de la filtració glomerular MDRD: 37.67 ± 17.43\n"
     ]
    }
   ],
   "execution_count": 428
  },
  {
   "metadata": {},
   "cell_type": "markdown",
   "source": "#### Pvalor",
   "id": "65917b1a82a35e66"
  },
  {
   "metadata": {},
   "cell_type": "markdown",
   "source": "##### Normalitat",
   "id": "c5cecc47ecaebc3a"
  },
  {
   "metadata": {
    "ExecuteTime": {
     "end_time": "2024-05-06T06:44:56.710695Z",
     "start_time": "2024-05-06T06:44:56.699488Z"
    }
   },
   "cell_type": "code",
   "source": [
    "stat, p_value = shapiro(AMB_PA['FGE MDRD'])\n",
    "print(f\"Estadístic W = {stat:.4f}\")\n",
    "print(f\"Valor p = {p_value:.8f}\")\n",
    "\n",
    "alpha = 0.05\n",
    "if p_value < alpha:\n",
    "    print(\"El nombre de files no segueix una distribució normal.\")\n",
    "else:\n",
    "    print(\"El nombre de files segueix una distribució normal.\")\n"
   ],
   "id": "45b2bfc023427f2e",
   "outputs": [
    {
     "name": "stdout",
     "output_type": "stream",
     "text": [
      "Estadístic W = nan\n",
      "Valor p = nan\n",
      "El nombre de files segueix una distribució normal.\n"
     ]
    }
   ],
   "execution_count": 429
  },
  {
   "metadata": {
    "ExecuteTime": {
     "end_time": "2024-05-06T06:44:56.723380Z",
     "start_time": "2024-05-06T06:44:56.717161Z"
    }
   },
   "cell_type": "code",
   "source": [
    "stat, p_value = shapiro(AMB_PA_MECVV['FGE MDRD'])\n",
    "print(f\"Estadístic W = {stat:.4f}\")\n",
    "print(f\"Valor p = {p_value:.8f}\")\n",
    "\n",
    "alpha = 0.05\n",
    "if p_value < alpha:\n",
    "    print(\"El nombre de files no segueix una distribució normal.\")\n",
    "else:\n",
    "    print(\"El nombre de files segueix una distribució normal.\")"
   ],
   "id": "237280d7d80c21d3",
   "outputs": [
    {
     "name": "stdout",
     "output_type": "stream",
     "text": [
      "Estadístic W = nan\n",
      "Valor p = nan\n",
      "El nombre de files segueix una distribució normal.\n"
     ]
    }
   ],
   "execution_count": 430
  },
  {
   "metadata": {
    "ExecuteTime": {
     "end_time": "2024-05-06T06:44:56.735218Z",
     "start_time": "2024-05-06T06:44:56.726549Z"
    }
   },
   "cell_type": "code",
   "source": [
    "stat, p_value = shapiro(SENSE_PA['FGE MDRD'])\n",
    "print(f\"Estadístic W = {stat:.4f}\")\n",
    "print(f\"Valor p = {p_value:.8f}\")\n",
    "\n",
    "alpha = 0.05\n",
    "if p_value < alpha:\n",
    "    print(\"El nombre de files no segueix una distribució normal.\")\n",
    "else:\n",
    "    print(\"El nombre de files segueix una distribució normal.\")"
   ],
   "id": "f9619537536716a9",
   "outputs": [
    {
     "name": "stdout",
     "output_type": "stream",
     "text": [
      "Estadístic W = nan\n",
      "Valor p = nan\n",
      "El nombre de files segueix una distribució normal.\n"
     ]
    }
   ],
   "execution_count": 431
  },
  {
   "metadata": {
    "ExecuteTime": {
     "end_time": "2024-05-06T06:44:56.747863Z",
     "start_time": "2024-05-06T06:44:56.739107Z"
    }
   },
   "cell_type": "code",
   "source": [
    "stat, p_value = shapiro(TOTAL['FGE MDRD'])\n",
    "print(f\"Estadístic W = {stat:.4f}\")\n",
    "print(f\"Valor p = {p_value:.8f}\")\n",
    "\n",
    "alpha = 0.05\n",
    "if p_value < alpha:\n",
    "    print(\"El nombre de files no segueix una distribució normal.\")\n",
    "else:\n",
    "    print(\"El nombre de files segueix una distribució normal.\")"
   ],
   "id": "6c25416288198b08",
   "outputs": [
    {
     "name": "stdout",
     "output_type": "stream",
     "text": [
      "Estadístic W = nan\n",
      "Valor p = nan\n",
      "El nombre de files segueix una distribució normal.\n"
     ]
    }
   ],
   "execution_count": 432
  },
  {
   "metadata": {
    "ExecuteTime": {
     "end_time": "2024-05-06T06:44:56.762238Z",
     "start_time": "2024-05-06T06:44:56.754826Z"
    }
   },
   "cell_type": "code",
   "source": [
    "t_stat_12, p_val_12 = ttest_ind(AMB_PA['FGE MDRD'], AMB_PA_MECVV['FGE MDRD'], equal_var=False)\n",
    "print(\"P-valor entre AMB_PA i AMB_PA_MECVV:\", p_val_12)"
   ],
   "id": "3350d5aa6006a470",
   "outputs": [
    {
     "name": "stdout",
     "output_type": "stream",
     "text": [
      "P-valor entre AMB_PA i AMB_PA_MECVV: nan\n"
     ]
    }
   ],
   "execution_count": 433
  },
  {
   "metadata": {
    "ExecuteTime": {
     "end_time": "2024-05-06T06:44:56.772249Z",
     "start_time": "2024-05-06T06:44:56.764391Z"
    }
   },
   "cell_type": "code",
   "source": [
    "t_stat_13, p_val_13 = ttest_ind(AMB_PA['FGE MDRD'], SENSE_PA['FGE MDRD'], equal_var=False)\n",
    "print(\"P-valor entre AMB_PA i AMB_PA_MECVV:\", p_val_13)"
   ],
   "id": "b31a6f77e88fd26f",
   "outputs": [
    {
     "name": "stdout",
     "output_type": "stream",
     "text": [
      "P-valor entre AMB_PA i AMB_PA_MECVV: nan\n"
     ]
    }
   ],
   "execution_count": 434
  },
  {
   "metadata": {
    "ExecuteTime": {
     "end_time": "2024-05-06T06:44:56.786356Z",
     "start_time": "2024-05-06T06:44:56.776961Z"
    }
   },
   "cell_type": "code",
   "source": [
    "t_stat_23, p_val_23 = ttest_ind(AMB_PA_MECVV['FGE MDRD'], SENSE_PA['FGE MDRD'], equal_var=False)\n",
    "print(\"P-valor entre AMB_PA_MECVV i AMB_PA_MECVV:\", p_val_23)"
   ],
   "id": "36d4f6dfccd6cd98",
   "outputs": [
    {
     "name": "stdout",
     "output_type": "stream",
     "text": [
      "P-valor entre AMB_PA_MECVV i AMB_PA_MECVV: nan\n"
     ]
    }
   ],
   "execution_count": 435
  },
  {
   "metadata": {
    "ExecuteTime": {
     "end_time": "2024-05-06T06:44:56.799037Z",
     "start_time": "2024-05-06T06:44:56.790002Z"
    }
   },
   "cell_type": "code",
   "source": [
    "t_stat_14, p_val_14 = ttest_ind(AMB_PA['FGE MDRD'], TOTAL['FGE MDRD'], equal_var=False)\n",
    "print(\"P-valor entre AMB_PA i TOTAl:\", p_val_14)"
   ],
   "id": "b364e0f9a128fcfa",
   "outputs": [
    {
     "name": "stdout",
     "output_type": "stream",
     "text": [
      "P-valor entre AMB_PA i TOTAl: nan\n"
     ]
    }
   ],
   "execution_count": 436
  },
  {
   "metadata": {
    "ExecuteTime": {
     "end_time": "2024-05-06T06:44:56.810966Z",
     "start_time": "2024-05-06T06:44:56.801856Z"
    }
   },
   "cell_type": "code",
   "source": [
    "t_stat_24, p_val_24 = ttest_ind(AMB_PA_MECVV['FGE MDRD'], TOTAL['FGE MDRD'], equal_var=False)\n",
    "print(\"P-valor entre AMB_PA_MECVV i TOTAl:\", p_val_24)"
   ],
   "id": "a49592366c475b9f",
   "outputs": [
    {
     "name": "stdout",
     "output_type": "stream",
     "text": [
      "P-valor entre AMB_PA_MECVV i TOTAl: nan\n"
     ]
    }
   ],
   "execution_count": 437
  },
  {
   "metadata": {
    "ExecuteTime": {
     "end_time": "2024-05-06T06:44:56.823570Z",
     "start_time": "2024-05-06T06:44:56.816384Z"
    }
   },
   "cell_type": "code",
   "source": [
    "t_stat_34, p_val_34 = ttest_ind(SENSE_PA['FGE MDRD'], TOTAL['FGE MDRD'], equal_var=False)\n",
    "print(\"P-valor entre SENSE_PA i TOTAL:\", p_val_34)"
   ],
   "id": "9f70ca817ee6fe1a",
   "outputs": [
    {
     "name": "stdout",
     "output_type": "stream",
     "text": [
      "P-valor entre SENSE_PA i TOTAL: nan\n"
     ]
    }
   ],
   "execution_count": 438
  }
 ],
 "metadata": {
  "kernelspec": {
   "display_name": "Python 3",
   "language": "python",
   "name": "python3"
  },
  "language_info": {
   "codemirror_mode": {
    "name": "ipython",
    "version": 2
   },
   "file_extension": ".py",
   "mimetype": "text/x-python",
   "name": "python",
   "nbconvert_exporter": "python",
   "pygments_lexer": "ipython2",
   "version": "2.7.6"
  }
 },
 "nbformat": 4,
 "nbformat_minor": 5
}
