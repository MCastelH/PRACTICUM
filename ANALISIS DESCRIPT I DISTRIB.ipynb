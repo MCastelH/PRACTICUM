{
 "cells": [
  {
   "cell_type": "markdown",
   "source": "## Paquets i dades originals ## ",
   "metadata": {
    "collapsed": false
   },
   "id": "56adfe3014ecabc7"
  },
  {
   "cell_type": "code",
   "source": [
    "import json\n",
    "import pandas as pd\n",
    "from datetime import datetime\n",
    "from listas import disfagia_list, PA_list, P_list, Main_respiratory_infections_list, LRTI_list, COPD_exacerbations_list, Pulmonary_fibrosis_fibrotorax_list\n",
    "from auxiliary_functions import valores_codigos, contar_diccionarios, dias_ingreso_total, asignar_intervalo_edad, sumar_barthel, sumar_emina, obtener_ultimo_resultat, obtener_valor_promedio, canadenca_comparada, disfagia_mecvvs, extraer_valor_clave, extraer_valor_clave_simple\n",
    "\n",
    "tabla = pd.read_pickle('./data/processed/dataframe.pkl')\n",
    "import scipy.stats as stats\n",
    "from scipy.stats import ttest_ind\n",
    "from scipy.stats import shapiro\n",
    "from scipy.stats import mannwhitneyu\n",
    "from scipy.stats import chi2_contingency\n"
   ],
   "metadata": {
    "collapsed": false
   },
   "id": "34dba1a0fd28236e",
   "outputs": [],
   "execution_count": null
  },
  {
   "cell_type": "markdown",
   "source": "Prèviament, he tractat les dades creant noves columnes que classifiquen millor tota la informació disponible",
   "metadata": {
    "collapsed": false
   },
   "id": "5e397a948db661a4"
  },
  {
   "cell_type": "code",
   "source": [
    "tabla.head()"
   ],
   "metadata": {
    "collapsed": false
   },
   "id": "aa2554a079d8240",
   "outputs": [],
   "execution_count": null
  },
  {
   "cell_type": "markdown",
   "source": [
    "Distribuiré les dades en 3 grups:\n",
    "- **CON_PA**: aquest grup està compost per pacients que contenen el codi ICD de pneumònia aspirativa al seu historial.\n",
    "- **CON_PA_MECVV**: aquest grup conté els pacients que compleixen les següents característiques: \n",
    "    - Han donat positiu al MECVV (és a dir, que tenen disfàgia i una alteració en la seguretat o en l'eficàcia)\n",
    "    - Contenen el codi ICD de pneumònia\n",
    "    - Han estat ingressats menys de 30 dies en total. \n",
    "- **SIN_PA**: aquest grup està format per pacients que contenen el codi ICD de pneumònia o bé:\n",
    "    - Contenen el codi ICD de pneumònia\n",
    "    - Han donat positiu al MECVV \n",
    "    - Han estat ingressats més de 30 dies en total."
   ],
   "metadata": {
    "collapsed": false
   },
   "id": "e7c4d56da22c6caf"
  },
  {
   "cell_type": "markdown",
   "source": "# CON_PA ",
   "metadata": {
    "collapsed": false
   },
   "id": "6fe0c4b4db3bd775"
  },
  {
   "cell_type": "code",
   "source": [
    "CON_PA = tabla[tabla[\"PA_diagnosticada\"] == 1.0]\n",
    "CON_PA.head(len(tabla))"
   ],
   "metadata": {
    "collapsed": false
   },
   "id": "bf8054f82ba8cf2d",
   "outputs": [],
   "execution_count": null
  },
  {
   "cell_type": "markdown",
   "source": "# CON_PA_MECVV",
   "metadata": {
    "collapsed": false
   },
   "id": "bbfe0def10a4bd5"
  },
  {
   "cell_type": "code",
   "source": [
    "CON_PA_MECVV = tabla[\n",
    "    (tabla[\"P_diagnosticada\"] == 1.0) & (tabla[\"Dias_totales_ingresado\"] < 30) & (tabla[\"Disfagia_mecvvs\"] == 1.0) & (tabla[\"alteracioEficacia_mecvvs\"] == 1.0) |\n",
    "    (tabla[\"P_diagnosticada\"] == 1.0) & (tabla[\"Dias_totales_ingresado\"] < 30) & (tabla[\"Disfagia_mecvvs\"] == 1.0) & (tabla[\"alteracioSeguretat_mecvvs\"] == 1.0)]   \n",
    "CON_PA_MECVV.head(len(tabla))"
   ],
   "metadata": {
    "collapsed": false
   },
   "id": "ef57e551b552b859",
   "outputs": [],
   "execution_count": null
  },
  {
   "cell_type": "markdown",
   "source": [
    "# SIN_PA"
   ],
   "metadata": {
    "collapsed": false
   },
   "id": "a348d05c32ba63b8"
  },
  {
   "cell_type": "code",
   "source": [
    "SIN_PA = tabla[\n",
    "          (tabla[\"P_diagnosticada\"] == 1.0) |\n",
    "          (tabla[\"P_diagnosticada\"] == 1.0) & (tabla[\"Disfagia_mecvvs\"] == 1.0) & (tabla[\"alteracioEficacia_mecvvs\"] == 1.0) & (tabla[\"Dias_totales_ingresado\"] > 30) |\n",
    "          (tabla[\"P_diagnosticada\"] == 1.0) & (tabla[\"Disfagia_mecvvs\"] == 1.0) & (tabla[\"alteracioSeguretat_mecvvs\"] == 1.0) & (tabla[\"Dias_totales_ingresado\"] > 30)]\n",
    "SIN_PA.head(len(tabla))"
   ],
   "metadata": {
    "collapsed": false
   },
   "id": "ebd6be70713adb40",
   "outputs": [],
   "execution_count": null
  },
  {
   "metadata": {},
   "cell_type": "markdown",
   "source": "Ara que tinc totes les dades classificades en aquests 3 grups, començaré a analitzar el seu contingut utilitzant operacions com mitjanes i desviacions estàndard. També compararé els diferents grups amb el pvalor mitjançant T-test, test de Mann-Whitney o test Xi-quadrat. Els criteris que seguiré per utilitzar un test o un altre és fer un test de Shapiro-Wilk per comprovar si segueixen una distribució normal, si és així, usaré el T-test, si no, utilitzaré el de Mann-Whitney. Finalment, si la columna conté valors categòrics com és el cas del sexe (F/M), faré servir el test Xi-quadrat.\n",
   "id": "263c2b8c090f6f10"
  },
  {
   "metadata": {},
   "cell_type": "markdown",
   "source": "## Número",
   "id": "de24374f27e143a3"
  },
  {
   "metadata": {},
   "cell_type": "code",
   "source": [
    "num_CON_PA = len(CON_PA)\n",
    "num_CON_PA_MECVV= len(CON_PA_MECVV)\n",
    "num_SIN_PA = len(SIN_PA)\n",
    "\n",
    "print(num_CON_PA, num_CON_PA_MECVV, num_SIN_PA)"
   ],
   "id": "b1daff0f4c5e68b3",
   "outputs": [],
   "execution_count": null
  },
  {
   "metadata": {},
   "cell_type": "markdown",
   "source": "Això també es pot comprovar en observar les files que conté les taules anteriors de cada grup, on veiem que la taula de CON_PA té 17 files, la de CON_PA_MECV 10 i la de SIN_PA 49. ",
   "id": "8b5e025c0f62a042"
  },
  {
   "metadata": {},
   "cell_type": "markdown",
   "source": "#### Pvalor",
   "id": "d1353b7869144ecd"
  },
  {
   "metadata": {},
   "cell_type": "markdown",
   "source": "##### Normalitat",
   "id": "683bdd2b91f5207c"
  },
  {
   "metadata": {},
   "cell_type": "code",
   "source": [
    "stat, p_value = shapiro(range(num_CON_PA))\n",
    "print(f\"Estadístic W = {stat:.4f}\")\n",
    "print(f\"Valor p = {p_value:.4f}\")\n",
    "\n",
    "alpha = 0.05\n",
    "if p_value < alpha:\n",
    "    print(\"El nombre de files no segueix una distribució normal.\")\n",
    "else:\n",
    "    print(\"El nombre de files segueix una distribució normal.\")"
   ],
   "id": "743c37ce473c94f1",
   "outputs": [],
   "execution_count": null
  },
  {
   "metadata": {},
   "cell_type": "code",
   "source": [
    "stat, p_value = shapiro(range(num_CON_PA_MECVV))\n",
    "print(f\"Estadístic W = {stat:.4f}\")\n",
    "print(f\"Valor p = {p_value:.4f}\")\n",
    "\n",
    "alpha = 0.05\n",
    "if p_value < alpha:\n",
    "    print(\"El nombre de files no segueix una distribució normal.\")\n",
    "else:\n",
    "    print(\"El nombre de files segueix una distribució normal.\")"
   ],
   "id": "2fae2fc31541cf19",
   "outputs": [],
   "execution_count": null
  },
  {
   "metadata": {},
   "cell_type": "code",
   "source": [
    "stat, p_value = shapiro(range(num_SIN_PA))\n",
    "print(f\"Estadístic W = {stat:.4f}\")\n",
    "print(f\"Valor p = {p_value:.4f}\")\n",
    "\n",
    "alpha = 0.05\n",
    "if p_value < alpha:\n",
    "    print(\"El nombre de files no segueix una distribució normal.\")\n",
    "else:\n",
    "    print(\"El nombre de files segueix una distribució normal.\")"
   ],
   "id": "165187ea9b6df98f",
   "outputs": [],
   "execution_count": null
  },
  {
   "metadata": {},
   "cell_type": "code",
   "source": [
    "t_stat_12, p_val_12 = ttest_ind(CON_PA.index, CON_PA_MECVV.index, equal_var=False)\n",
    "print(f\"P-valor entre CON_PA i CON_PA_MECVV: {p_val_12:.4f}\")\n",
    "alpha = 0.05\n",
    "if p_value < alpha:\n",
    "    print(\"Existeixen diferències significatives entre els 2 grups.\")\n",
    "else:\n",
    "    print(\"No existeixen diferències significatives entre els 2 grups.\")"
   ],
   "id": "99e17be77f3b5a88",
   "outputs": [],
   "execution_count": null
  },
  {
   "metadata": {
    "ExecuteTime": {
     "end_time": "2024-04-19T11:46:30.006756Z",
     "start_time": "2024-04-19T11:46:29.974762Z"
    }
   },
   "cell_type": "code",
   "source": [
    "t_stat_13, p_val_13 = ttest_ind(CON_PA.index, SIN_PA.index, equal_var=False)\n",
    "print(f\"P-valor entre CON_PA i SIN_PA: {p_val_13:.4f}\")\n",
    "alpha = 0.05\n",
    "if p_value < alpha:\n",
    "    print(\"Existeixen diferències significatives entre els 2 grups.\")\n",
    "else:\n",
    "    print(\"No existeixen diferències significatives entre els 2 grups.\")"
   ],
   "id": "e8ba9017a43c0936",
   "outputs": [
    {
     "name": "stdout",
     "output_type": "stream",
     "text": [
      "P-valor entre CON_PA i SIN_PA: 0.7664\n",
      "No existeixen diferències significatives entre els 2 grups.\n"
     ]
    }
   ],
   "execution_count": 1495
  },
  {
   "metadata": {
    "ExecuteTime": {
     "end_time": "2024-04-19T11:47:09.747273Z",
     "start_time": "2024-04-19T11:47:09.731783Z"
    }
   },
   "cell_type": "code",
   "source": [
    "t_stat_23, p_val_23 = ttest_ind(CON_PA_MECVV.index, SIN_PA.index, equal_var=False)\n",
    "print(f\"P-valor entre CON_PA_MECVV i SIN_PA: {p_val_12:.4f}\")\n",
    "alpha = 0.05\n",
    "if p_value < alpha:\n",
    "    print(\"Existeixen diferències significatives entre els 2 grups.\")\n",
    "else:\n",
    "    print(\"No existeixen diferències significatives entre els 2 grups.\")"
   ],
   "id": "e935223f0b0d1c29",
   "outputs": [
    {
     "name": "stdout",
     "output_type": "stream",
     "text": [
      "P-valor entre CON_PA_MECVV i SIN_PA: nan\n",
      "No existeixen diferències significatives entre els 2 grups.\n"
     ]
    }
   ],
   "execution_count": 1496
  },
  {
   "metadata": {},
   "cell_type": "markdown",
   "source": "## Edat",
   "id": "6dffa2bdf3f2d9b7"
  },
  {
   "metadata": {
    "ExecuteTime": {
     "end_time": "2024-04-19T11:47:30.034220Z",
     "start_time": "2024-04-19T11:47:30.025377Z"
    }
   },
   "cell_type": "code",
   "source": [
    "edad_CON_PA = CON_PA['edat'].mean()\n",
    "desviacion_estandar_edad = CON_PA['edat'].std()\n",
    "\n",
    "resultado = f\"{edad_CON_PA:.2f} ± {desviacion_estandar_edad:.2f}\"\n",
    "print(\"Mitjana ± Desviació Estàndard de l'edat:\", resultado)\n"
   ],
   "id": "41c75a84cd8aa55b",
   "outputs": [
    {
     "name": "stdout",
     "output_type": "stream",
     "text": [
      "Mitjana ± Desviació Estàndard de l'edat: 87.06 ± 8.99\n"
     ]
    }
   ],
   "execution_count": 1497
  },
  {
   "metadata": {
    "ExecuteTime": {
     "end_time": "2024-04-19T11:48:09.767045Z",
     "start_time": "2024-04-19T11:48:09.751626Z"
    }
   },
   "cell_type": "code",
   "source": [
    "edad_CON_PA_MECVV = CON_PA_MECVV['edat'].mean()\n",
    "desviacion_estandar_edad = CON_PA_MECVV['edat'].std()\n",
    "\n",
    "resultado = f\"{edad_CON_PA_MECVV:.2f} ± {desviacion_estandar_edad:.2f}\"\n",
    "print(\"Mitjana ± Desviació Estàndard de l'edat:\", resultado)"
   ],
   "id": "828a733cc06db987",
   "outputs": [
    {
     "name": "stdout",
     "output_type": "stream",
     "text": [
      "Mitjana ± Desviació Estàndard de l'edat: 88.90 ± 8.67\n"
     ]
    }
   ],
   "execution_count": 1498
  },
  {
   "metadata": {
    "ExecuteTime": {
     "end_time": "2024-04-19T11:48:30.121104Z",
     "start_time": "2024-04-19T11:48:30.106569Z"
    }
   },
   "cell_type": "code",
   "source": [
    "edad_SIN_PA = SIN_PA['edat'].mean()\n",
    "desviacion_estandar_edad = SIN_PA['edat'].std()\n",
    "\n",
    "resultado = f\"{edad_SIN_PA:.2f} ± {desviacion_estandar_edad:.2f}\"\n",
    "print(\"Mitjana ± Desviació Estàndard de l'edat:\", resultado)"
   ],
   "id": "a67a8021e9b1dbb4",
   "outputs": [
    {
     "name": "stdout",
     "output_type": "stream",
     "text": [
      "Mitjana ± Desviació Estàndard de l'edat: 80.12 ± 17.01\n"
     ]
    }
   ],
   "execution_count": 1499
  },
  {
   "metadata": {},
   "cell_type": "markdown",
   "source": "#### Pvalor",
   "id": "6ab4f09b5204e007"
  },
  {
   "metadata": {},
   "cell_type": "markdown",
   "source": "##### Normalitat ",
   "id": "a5114a4e26281ffb"
  },
  {
   "metadata": {
    "ExecuteTime": {
     "end_time": "2024-04-19T11:49:09.896550Z",
     "start_time": "2024-04-19T11:49:09.883194Z"
    }
   },
   "cell_type": "code",
   "source": [
    "stat, p_value = shapiro(CON_PA['edat'])\n",
    "print(f\"Estadístic W = {stat:.4f}\")\n",
    "print(f\"Valor p = {p_value:.4f}\")\n",
    "\n",
    "alpha = 0.05\n",
    "if p_value < alpha:\n",
    "    print(\"El nombre de files no segueix una distribució normal.\")\n",
    "else:\n",
    "    print(\"El nombre de files segueix una distribució normal.\")"
   ],
   "id": "1b23f9c1a11a4962",
   "outputs": [
    {
     "name": "stdout",
     "output_type": "stream",
     "text": [
      "Estadístic W = 0.9410\n",
      "Valor p = 0.3297\n",
      "El número de files segueix una distribució normal.\n"
     ]
    }
   ],
   "execution_count": 1500
  },
  {
   "metadata": {
    "ExecuteTime": {
     "end_time": "2024-04-19T11:49:30.224629Z",
     "start_time": "2024-04-19T11:49:30.179711Z"
    }
   },
   "cell_type": "code",
   "source": [
    "stat, p_value = shapiro(CON_PA_MECVV['edat'])\n",
    "print(f\"Estadístic W = {stat:.4f}\")\n",
    "print(f\"Valor p = {p_value:.4f}\")\n",
    "\n",
    "alpha = 0.05\n",
    "if p_value < alpha:\n",
    "    print(\"El nombre de files no segueix una distribució normal.\")\n",
    "else:\n",
    "    print(\"El nombre de files segueix una distribució normal.\")"
   ],
   "id": "d80fee6a25604ebc",
   "outputs": [
    {
     "name": "stdout",
     "output_type": "stream",
     "text": [
      "Estadístic W = 0.9057\n",
      "Valor p = 0.2528\n",
      "El número de files segueix una distribució normal.\n"
     ]
    }
   ],
   "execution_count": 1501
  },
  {
   "metadata": {
    "ExecuteTime": {
     "end_time": "2024-04-19T11:50:09.914281Z",
     "start_time": "2024-04-19T11:50:09.891852Z"
    }
   },
   "cell_type": "code",
   "source": [
    "stat, p_value = shapiro(SIN_PA['edat'])\n",
    "print(f\"Estadístic W = {stat:.4f}\")\n",
    "print(f\"Valor p = {p_value:.4f}\")\n",
    "\n",
    "alpha = 0.05\n",
    "if p_value < alpha:\n",
    "    print(\"El nombre de files no segueix una distribució normal.\")\n",
    "else:\n",
    "    print(\"El nombre de files segueix una distribució normal.\")"
   ],
   "id": "755deefb570bc3ec",
   "outputs": [
    {
     "name": "stdout",
     "output_type": "stream",
     "text": [
      "Estadístic W = 0.8539\n",
      "Valor p = 0.0000\n",
      "El número de files no segueix una distribució normal.\n"
     ]
    }
   ],
   "execution_count": 1502
  },
  {
   "metadata": {
    "ExecuteTime": {
     "end_time": "2024-04-19T11:50:30.253787Z",
     "start_time": "2024-04-19T11:50:30.244559Z"
    }
   },
   "cell_type": "code",
   "source": [
    "t_stat_12, p_val_12 = ttest_ind(CON_PA['edat'], CON_PA_MECVV['edat'], equal_var=False)\n",
    "print(\"P-valor entre CON_PA i CON_PA_MECVV:\", p_val_12)"
   ],
   "id": "29fe897576a9b6a1",
   "outputs": [
    {
     "name": "stdout",
     "output_type": "stream",
     "text": [
      "P-valor entre CON_PA i CON_PA_MECVV: 0.6051223082851969\n"
     ]
    }
   ],
   "execution_count": 1503
  },
  {
   "metadata": {
    "ExecuteTime": {
     "end_time": "2024-04-19T11:51:10.320010Z",
     "start_time": "2024-04-19T11:51:10.299916Z"
    }
   },
   "cell_type": "code",
   "source": [
    "stat, p_value_13 = mannwhitneyu(CON_PA['edat'], SIN_PA['edat'], alternative='two-sided')\n",
    "print(\"P-valor entre CON_PA i SIN_PA\", p_value_13)"
   ],
   "id": "6718e803d0c6be72",
   "outputs": [
    {
     "name": "stdout",
     "output_type": "stream",
     "text": [
      "P-valor entre CON_PA i SIN_PA 0.1815160884632735\n"
     ]
    }
   ],
   "execution_count": 1504
  },
  {
   "metadata": {
    "ExecuteTime": {
     "end_time": "2024-04-19T11:51:30.275653Z",
     "start_time": "2024-04-19T11:51:30.260001Z"
    }
   },
   "cell_type": "code",
   "source": [
    "stat_23, p_value_23 = mannwhitneyu(CON_PA_MECVV['edat'], SIN_PA['edat'], alternative='two-sided')\n",
    "print(\"P-valor entre CON_PA_MECVV i SIN_PA:\", p_value_23)"
   ],
   "id": "22054ca113138c47",
   "outputs": [
    {
     "name": "stdout",
     "output_type": "stream",
     "text": [
      "P-valor entre CON_PA_MECVV i SIN_PA: 0.11458529353557328\n"
     ]
    }
   ],
   "execution_count": 1505
  },
  {
   "metadata": {},
   "cell_type": "markdown",
   "source": "## Sexe",
   "id": "2e3346df121a556b"
  },
  {
   "metadata": {
    "ExecuteTime": {
     "end_time": "2024-04-19T11:52:10.334446Z",
     "start_time": "2024-04-19T11:52:10.304402Z"
    }
   },
   "cell_type": "code",
   "source": [
    "sexe_CON_PA = CON_PA['sexe'].value_counts()\n",
    "sexe_CON_PA_MECVV = CON_PA_MECVV['sexe'].value_counts()\n",
    "sexe_SIN_PA = SIN_PA['sexe'].value_counts()"
   ],
   "id": "5a08f966e1e21272",
   "outputs": [],
   "execution_count": 1506
  },
  {
   "metadata": {
    "ExecuteTime": {
     "end_time": "2024-04-19T11:52:30.424016Z",
     "start_time": "2024-04-19T11:52:30.410445Z"
    }
   },
   "cell_type": "code",
   "source": [
    "if 'F' in sexe_CON_PA:\n",
    "    percent_female1 = (sexe_CON_PA['F'] / len(CON_PA)) * 100\n",
    "    print(f\"Percentatge de sexe femení en CON_PA: {percent_female1:.2f}%\")\n",
    "else:\n",
    "    print(\"No hi ha dades de sexe femení en CON_PA\")"
   ],
   "id": "364e8eeea9fca3bb",
   "outputs": [
    {
     "name": "stdout",
     "output_type": "stream",
     "text": [
      "Percentatge de sexe femení en CON_PA: 47.06%\n"
     ]
    }
   ],
   "execution_count": 1507
  },
  {
   "metadata": {
    "ExecuteTime": {
     "end_time": "2024-04-19T11:53:10.323609Z",
     "start_time": "2024-04-19T11:53:10.312846Z"
    }
   },
   "cell_type": "code",
   "source": [
    "if 'F' in sexe_CON_PA_MECVV:\n",
    "    percent_female2 = (sexe_CON_PA_MECVV['F'] / len(CON_PA)) * 100\n",
    "    print(f\"Percentatge de sexe femení en CON_PA_MECVV: {percent_female1:.2f}%\")\n",
    "else:\n",
    "    print(\"No hi ha dades de sexe femení en CON_PA_MECVV\")"
   ],
   "id": "5d2a1124b7cdd9c2",
   "outputs": [
    {
     "name": "stdout",
     "output_type": "stream",
     "text": [
      "Percentatge de sexe femení en CON_PA_MECVV: 47.06%\n"
     ]
    }
   ],
   "execution_count": 1508
  },
  {
   "metadata": {
    "ExecuteTime": {
     "end_time": "2024-04-19T11:53:30.452736Z",
     "start_time": "2024-04-19T11:53:30.446083Z"
    }
   },
   "cell_type": "code",
   "source": [
    "if 'F' in sexe_SIN_PA:\n",
    "    percent_female3 = (sexe_SIN_PA['F'] / len(SIN_PA)) * 100\n",
    "    print(f\"Percentatge de sexe femení en SIN_PA: {percent_female1:.2f}%\")\n",
    "else:\n",
    "    print(\"No hi ha dades de sexe femení en SIN_PA\")\n"
   ],
   "id": "746275e55a2b6409",
   "outputs": [
    {
     "name": "stdout",
     "output_type": "stream",
     "text": [
      "Percentatge de sexe femení en SIN_PA: 47.06%\n"
     ]
    }
   ],
   "execution_count": 1509
  },
  {
   "metadata": {},
   "cell_type": "markdown",
   "source": "#### Pvalor",
   "id": "cc6603074e3e5cc9"
  },
  {
   "metadata": {},
   "cell_type": "markdown",
   "source": "##### Normalitat",
   "id": "45744dc757ae29f5"
  },
  {
   "metadata": {},
   "cell_type": "markdown",
   "source": "Al ser una variable categòrica no es pot comprovar la seva normalitat. Realitzaré directament el test xi-quadrat",
   "id": "ca8c9ca5135873ca"
  },
  {
   "metadata": {
    "ExecuteTime": {
     "end_time": "2024-04-19T11:54:10.403702Z",
     "start_time": "2024-04-19T11:54:10.341932Z"
    }
   },
   "cell_type": "code",
   "source": [
    "contingency_table_CON_PA_CON_PA_MECVV = pd.crosstab(index=CON_PA['sexe'], columns=CON_PA_MECVV['sexe'])\n",
    "\n",
    "chi2_CON_PA_CON_PA_MECVV, p_value_CON_PA_CON_PA_MECVV, dof_CON_PA_CON_PA_MECVV, expected_CON_PA_CON_PA_MECVV = chi2_contingency(contingency_table_CON_PA_CON_PA_MECVV)\n",
    "\n",
    "print(\"Estadístic xi-quadrat entre CON_PA i CON_PA_MECVV:\", chi2_CON_PA_CON_PA_MECVV)\n",
    "print(\"P-valor entre CON_PA i CON_PA_MECVV:\", p_value_CON_PA_CON_PA_MECVV)\n",
    "\n",
    "if p_value_CON_PA_CON_PA_MECVV < 0.05:\n",
    "    print(\"Hi ha diferències significatives entre les distribucions de sexe en CON_PA i CON_PA_MECVV.\")\n",
    "else:\n",
    "    print(\"No hi ha diferències significatives entre les distribucions de sexe en CON_PA i CON_PA_MECVV.\")"
   ],
   "id": "8ce2d9606227b27c",
   "outputs": [
    {
     "name": "stdout",
     "output_type": "stream",
     "text": [
      "Estadístic xi-quadrat entre CON_PA i CON_PA_MECVV: 2.6666666666666665\n",
      "P-valor entre CON_PA i CON_PA_MECVV: 0.10247043485974942\n",
      "No hi ha diferències significatives entre les distribucions de sexe en CON_PA i CON_PA_MECVV.\n"
     ]
    }
   ],
   "execution_count": 1510
  },
  {
   "metadata": {
    "ExecuteTime": {
     "end_time": "2024-04-19T11:54:30.504082Z",
     "start_time": "2024-04-19T11:54:30.484639Z"
    }
   },
   "cell_type": "code",
   "source": [
    "contingency_table_CON_PA_SIN_PA = pd.crosstab(index=CON_PA['sexe'], columns=SIN_PA['sexe'])\n",
    "\n",
    "chi2_CON_PA_SIN_PA, p_value_CON_PA_SIN_PA, dof_CON_PA_SIN_PA, expected_CON_PA_SIN_PA = chi2_contingency(contingency_table_CON_PA_SIN_PA)\n",
    "\n",
    "print(\"Estadístic xi-quadrat entre CON_PA i SIN_PA:\", chi2_CON_PA_SIN_PA)\n",
    "print(\"P-valor entre CON_PA i SIN_PA:\", p_value_CON_PA_SIN_PA)\n",
    "\n",
    "if p_value_CON_PA_SIN_PA < 0.05:\n",
    "    print(\"Hi ha diferències significatives entre les distribucions de sexe en CON_PA i SIN_PA.\")\n",
    "else:\n",
    "    print(\"No hi ha diferències significatives entre les distribucions de sexe en CON_PA i SIN_PA.\")"
   ],
   "id": "cb24c00816f2874c",
   "outputs": [
    {
     "name": "stdout",
     "output_type": "stream",
     "text": [
      "Estadístic xi-quadrat entre CON_PA i SIN_PA: 13.223042052469136\n",
      "P-valor entre CON_PA i SIN_PA: 0.00027652843917458906\n",
      "Hi ha diferències significatives entre les distribucions de sexe en CON_PA i SIN_PA.\n"
     ]
    }
   ],
   "execution_count": 1511
  },
  {
   "metadata": {
    "ExecuteTime": {
     "end_time": "2024-04-19T11:55:10.369726Z",
     "start_time": "2024-04-19T11:55:10.350944Z"
    }
   },
   "cell_type": "code",
   "source": [
    "contingency_table_CON_PA_MECVV_SIN_PA = pd.crosstab(index=CON_PA_MECVV['sexe'], columns=SIN_PA['sexe'])\n",
    "\n",
    "chi2_CON_PA_MECVV_SIN_PA, p_value_CON_PA_MECVV_SIN_PA, dof_CON_PA_MECVV_SIN_PA, expected_CON_PA_MECVV_SIN_PA = chi2_contingency(contingency_table_CON_PA_MECVV_SIN_PA)\n",
    "\n",
    "print(\"Estadístic xi-quadrat entre CON_PA_MECVV i SIN_PA:\", chi2_CON_PA_MECVV_SIN_PA)\n",
    "print(\"P-valor entre CON_PA_MECVV i SIN_PA:\", p_value_CON_PA_MECVV_SIN_PA)\n",
    "\n",
    "if p_value_CON_PA_MECVV_SIN_PA < 0.05:\n",
    "    print(\"Hi ha diferències significatives entre les distribucions de sexe en CON_PA_MECVV i SIN_PA.\")\n",
    "else:\n",
    "    print(\"No hi ha diferències significatives entre les distribucions de sexe en CON_PA_MECVV i SIN_PA.\")"
   ],
   "id": "483a364f11ec7b2a",
   "outputs": [
    {
     "name": "stdout",
     "output_type": "stream",
     "text": [
      "Estadístic xi-quadrat entre CON_PA_MECVV i SIN_PA: 6.267361111111111\n",
      "P-valor entre CON_PA_MECVV i SIN_PA: 0.012298217061234292\n",
      "Hi ha diferències significatives entre les distribucions de sexe en CON_PA_MECVV i SIN_PA.\n"
     ]
    }
   ],
   "execution_count": 1512
  },
  {
   "metadata": {},
   "cell_type": "markdown",
   "source": "## Ingressos (admissions)",
   "id": "7c1a4264ca854c74"
  },
  {
   "metadata": {
    "ExecuteTime": {
     "end_time": "2024-04-19T11:55:30.519561Z",
     "start_time": "2024-04-19T11:55:30.476162Z"
    }
   },
   "cell_type": "code",
   "source": [
    "promedio_ingresos = CON_PA['Num_ingresos'].mean()\n",
    "desviacion_estandar_ingresos = CON_PA['Num_ingresos'].std()\n",
    "\n",
    "resultado = f\"{promedio_ingresos:.2f} ± {desviacion_estandar_ingresos:.2f}\"\n",
    "print(\"Mitjana ± Desviació Estàndard del nombre d'ingressos:\", resultado)"
   ],
   "id": "77af35e4e03f23da",
   "outputs": [
    {
     "name": "stdout",
     "output_type": "stream",
     "text": [
      "Mitjana ± Desviació Estàndard del nombre d'ingressos: 5.59 ± 3.37\n"
     ]
    }
   ],
   "execution_count": 1513
  },
  {
   "metadata": {
    "ExecuteTime": {
     "end_time": "2024-04-19T11:56:10.393961Z",
     "start_time": "2024-04-19T11:56:10.379200Z"
    }
   },
   "cell_type": "code",
   "source": [
    "promedio_ingresos = CON_PA_MECVV['Num_ingresos'].mean()\n",
    "desviacion_estandar_ingresos = CON_PA_MECVV['Num_ingresos'].std()\n",
    "\n",
    "resultado = f\"{promedio_ingresos:.2f} ± {desviacion_estandar_ingresos:.2f}\"\n",
    "print(\"Mitjana ± Desviació Estàndard del nombre d'ingressos:\", resultado)"
   ],
   "id": "d08d059cd8a8944a",
   "outputs": [
    {
     "name": "stdout",
     "output_type": "stream",
     "text": [
      "Mitjana ± Desviació Estàndard del nombre d'ingressos: 5.90 ± 2.08\n"
     ]
    }
   ],
   "execution_count": 1514
  },
  {
   "metadata": {
    "ExecuteTime": {
     "end_time": "2024-04-19T11:56:30.502723Z",
     "start_time": "2024-04-19T11:56:30.495525Z"
    }
   },
   "cell_type": "code",
   "source": [
    "promedio_ingresos = SIN_PA['Num_ingresos'].mean()\n",
    "desviacion_estandar_ingresos = SIN_PA['Num_ingresos'].std()\n",
    "\n",
    "resultado = f\"{promedio_ingresos:.2f} ± {desviacion_estandar_ingresos:.2f}\"\n",
    "print(\"Mitjana ± Desviació Estàndard del nombre d'ingressos:\", resultado)"
   ],
   "id": "b0470d00ca90048b",
   "outputs": [
    {
     "name": "stdout",
     "output_type": "stream",
     "text": [
      "Mitjana ± Desviació Estàndard del nombre d'ingressos: 6.69 ± 5.13\n"
     ]
    }
   ],
   "execution_count": 1515
  },
  {
   "metadata": {},
   "cell_type": "markdown",
   "source": "#### Pvalor",
   "id": "ac26e96d348c2e2"
  },
  {
   "metadata": {},
   "cell_type": "markdown",
   "source": "##### Normalitat",
   "id": "840db79f54c49b40"
  },
  {
   "metadata": {
    "ExecuteTime": {
     "end_time": "2024-04-19T11:57:10.436249Z",
     "start_time": "2024-04-19T11:57:10.390868Z"
    }
   },
   "cell_type": "code",
   "source": [
    "stat, p_value = shapiro(CON_PA['Num_ingresos'])\n",
    "print(f\"Estadístic W = {stat:.4f}\")\n",
    "print(f\"Valor p = {p_value:.4f}\")\n",
    "\n",
    "alpha = 0.05\n",
    "if p_value < alpha:\n",
    "    print(\"El nombre de files no segueix una distribució normal.\")\n",
    "else:\n",
    "    print(\"El nombre de files segueix una distribució normal.\")"
   ],
   "id": "549e8f1ce3e357e6",
   "outputs": [
    {
     "name": "stdout",
     "output_type": "stream",
     "text": [
      "Estadístic W = 0.8008\n",
      "Valor p = 0.0021\n",
      "El número de files no segueix una distribució normal.\n"
     ]
    }
   ],
   "execution_count": 1516
  },
  {
   "metadata": {
    "ExecuteTime": {
     "end_time": "2024-04-19T11:57:30.576790Z",
     "start_time": "2024-04-19T11:57:30.567264Z"
    }
   },
   "cell_type": "code",
   "source": [
    "stat, p_value = shapiro(CON_PA_MECVV['Num_ingresos'])\n",
    "print(f\"Estadístic W = {stat:.4f}\")\n",
    "print(f\"Valor p = {p_value:.4f}\")\n",
    "\n",
    "alpha = 0.05\n",
    "if p_value < alpha:\n",
    "    print(\"El nombre de files no segueix una distribució normal.\")\n",
    "else:\n",
    "    print(\"El nombre de files segueix una distribució normal.\")"
   ],
   "id": "cf0ae5ced6e0b73a",
   "outputs": [
    {
     "name": "stdout",
     "output_type": "stream",
     "text": [
      "Estadístic W = 0.9558\n",
      "Valor p = 0.7376\n",
      "El número de files segueix una distribució normal.\n"
     ]
    }
   ],
   "execution_count": 1517
  },
  {
   "metadata": {
    "ExecuteTime": {
     "end_time": "2024-04-19T11:58:10.663143Z",
     "start_time": "2024-04-19T11:58:10.653286Z"
    }
   },
   "cell_type": "code",
   "source": [
    "stat, p_value = shapiro(SIN_PA['Num_ingresos'])\n",
    "print(f\"Estadístic W = {stat:.4f}\")\n",
    "print(f\"Valor p = {p_value:.4f}\")\n",
    "\n",
    "alpha = 0.05\n",
    "if p_value < alpha:\n",
    "    print(\"El nombre de files no segueix una distribució normal.\")\n",
    "else:\n",
    "    print(\"El nombre de files segueix una distribució normal.\")"
   ],
   "id": "f1d9d97215665bd8",
   "outputs": [
    {
     "name": "stdout",
     "output_type": "stream",
     "text": [
      "Estadístic W = 0.7277\n",
      "Valor p = 0.0000\n",
      "El número de files no segueix una distribució normal.\n"
     ]
    }
   ],
   "execution_count": 1518
  },
  {
   "metadata": {
    "ExecuteTime": {
     "end_time": "2024-04-19T11:58:30.890138Z",
     "start_time": "2024-04-19T11:58:30.844501Z"
    }
   },
   "cell_type": "code",
   "source": [
    "stat, p_value_12 = mannwhitneyu(CON_PA['Num_ingresos'], CON_PA_MECVV['Num_ingresos'], alternative='two-sided')\n",
    "print(\"P-valor entre CON_PA i CON_PA_MECVV\", p_value_12)"
   ],
   "id": "e1a40734a30212e5",
   "outputs": [
    {
     "name": "stdout",
     "output_type": "stream",
     "text": [
      "P-valor entre CON_PA i CON_PA_MECVV 0.3599581940859352\n"
     ]
    }
   ],
   "execution_count": 1519
  },
  {
   "metadata": {
    "ExecuteTime": {
     "end_time": "2024-04-19T11:59:10.670492Z",
     "start_time": "2024-04-19T11:59:10.660203Z"
    }
   },
   "cell_type": "code",
   "source": [
    "stat, p_value_13 = mannwhitneyu(CON_PA['Num_ingresos'], SIN_PA['Num_ingresos'], alternative='two-sided')\n",
    "print(\"P-valor entre CON_PA i SIN_PA\", p_value_13)"
   ],
   "id": "f2655db5e10960da",
   "outputs": [
    {
     "name": "stdout",
     "output_type": "stream",
     "text": [
      "P-valor entre CON_PA i SIN_PA 0.514931142191354\n"
     ]
    }
   ],
   "execution_count": 1520
  },
  {
   "metadata": {
    "ExecuteTime": {
     "end_time": "2024-04-19T11:59:30.910554Z",
     "start_time": "2024-04-19T11:59:30.865094Z"
    }
   },
   "cell_type": "code",
   "source": [
    "stat, p_value_23 = mannwhitneyu(CON_PA_MECVV['Num_ingresos'], SIN_PA['Num_ingresos'], alternative='two-sided')\n",
    "print(\"P-valor entre CON_PA_MECVV i SIN_PA\", p_value_23)"
   ],
   "id": "b130ccb4c5b7e332",
   "outputs": [
    {
     "name": "stdout",
     "output_type": "stream",
     "text": [
      "P-valor entre CON_PA_MECVV i SIN_PA 0.7831397976578486\n"
     ]
    }
   ],
   "execution_count": 1521
  },
  {
   "metadata": {},
   "cell_type": "markdown",
   "source": "## Disfàgia",
   "id": "d46472f25d1ea9ab"
  },
  {
   "metadata": {
    "ExecuteTime": {
     "end_time": "2024-04-19T12:00:10.708656Z",
     "start_time": "2024-04-19T12:00:10.698684Z"
    }
   },
   "cell_type": "code",
   "source": [
    "disf_CON_PA= (CON_PA['DO_diagnosticada'] == 1.0).mean() * 100\n",
    "print(f\"Percentatge de disfàgia: {disf_CON_PA:.2f}%\")"
   ],
   "id": "1158733fe7259d75",
   "outputs": [
    {
     "name": "stdout",
     "output_type": "stream",
     "text": [
      "Percentatge de disfàgia: 47.06%\n"
     ]
    }
   ],
   "execution_count": 1522
  },
  {
   "metadata": {
    "ExecuteTime": {
     "end_time": "2024-04-19T12:00:30.912927Z",
     "start_time": "2024-04-19T12:00:30.902588Z"
    }
   },
   "cell_type": "code",
   "source": [
    "disf_CON_PA_MECVV = (CON_PA_MECVV['DO_diagnosticada'] == 1.0).mean() * 100\n",
    "print(f\"Percentatge de disfàgia: {disf_CON_PA_MECVV:.2f}%\")"
   ],
   "id": "4105ce4e231d0853",
   "outputs": [
    {
     "name": "stdout",
     "output_type": "stream",
     "text": [
      "Percentatge de disfàgia: 30.00%\n"
     ]
    }
   ],
   "execution_count": 1523
  },
  {
   "metadata": {
    "ExecuteTime": {
     "end_time": "2024-04-19T12:01:10.715196Z",
     "start_time": "2024-04-19T12:01:10.707897Z"
    }
   },
   "cell_type": "code",
   "source": [
    "disf_SIN_PA= (SIN_PA['DO_diagnosticada'] == 1.0).mean() * 100\n",
    "print(f\"Percentatge de disfàgia: {disf_SIN_PA:.2f}%\")"
   ],
   "id": "66a1da5f6068ce03",
   "outputs": [
    {
     "name": "stdout",
     "output_type": "stream",
     "text": [
      "Percentatge de disfàgia: 18.37%\n"
     ]
    }
   ],
   "execution_count": 1524
  },
  {
   "metadata": {},
   "cell_type": "markdown",
   "source": "#### Pvalor",
   "id": "b7f1a5636f342b1b"
  },
  {
   "metadata": {},
   "cell_type": "markdown",
   "source": "##### Normalitat",
   "id": "b9bb9679799a910b"
  },
  {
   "metadata": {
    "ExecuteTime": {
     "end_time": "2024-04-19T12:01:30.988011Z",
     "start_time": "2024-04-19T12:01:30.941857Z"
    }
   },
   "cell_type": "code",
   "source": [
    "stat, p_value = shapiro(CON_PA['DO_diagnosticada'])\n",
    "print(f\"Estadístic W = {stat:.4f}\")\n",
    "print(f\"Valor p = {p_value:.4f}\")\n",
    "\n",
    "alpha = 0.05\n",
    "if p_value < alpha:\n",
    "    print(\"El nombre de files no segueix una distribució normal.\")\n",
    "else:\n",
    "    print(\"El nombre de files segueix una distribució normal.\")"
   ],
   "id": "9068d0a097618db2",
   "outputs": [
    {
     "name": "stdout",
     "output_type": "stream",
     "text": [
      "Estadístic W = 0.6418\n",
      "Valor p = 0.0000\n",
      "El número de files no segueix una distribució normal.\n"
     ]
    }
   ],
   "execution_count": 1525
  },
  {
   "metadata": {
    "ExecuteTime": {
     "end_time": "2024-04-19T12:02:10.768357Z",
     "start_time": "2024-04-19T12:02:10.759348Z"
    }
   },
   "cell_type": "code",
   "source": [
    "stat, p_value = shapiro(CON_PA_MECVV['DO_diagnosticada'])\n",
    "print(f\"Estadístic W = {stat:.4f}\")\n",
    "print(f\"Valor p = {p_value:.4f}\")\n",
    "\n",
    "alpha = 0.05\n",
    "if p_value < alpha:\n",
    "    print(\"El nombre de files no segueix una distribució normal.\")\n",
    "else:\n",
    "    print(\"El nombre de files segueix una distribució normal.\")"
   ],
   "id": "511e7760f8696524",
   "outputs": [
    {
     "name": "stdout",
     "output_type": "stream",
     "text": [
      "Estadístic W = 0.5942\n",
      "Valor p = 0.0000\n",
      "El número de files no segueix una distribució normal.\n"
     ]
    }
   ],
   "execution_count": 1526
  },
  {
   "metadata": {
    "ExecuteTime": {
     "end_time": "2024-04-19T12:02:31.141587Z",
     "start_time": "2024-04-19T12:02:31.097521Z"
    }
   },
   "cell_type": "code",
   "source": [
    "stat, p_value = shapiro(SIN_PA['DO_diagnosticada'])\n",
    "print(f\"Estadístic W = {stat:.4f}\")\n",
    "print(f\"Valor p = {p_value:.4f}\")\n",
    "\n",
    "alpha = 0.05\n",
    "if p_value < alpha:\n",
    "    print(\"El nombre de files no segueix una distribució normal.\")\n",
    "else:\n",
    "    print(\"El nombre de files segueix una distribució normal.\")"
   ],
   "id": "e8b5dab7a1b4a308",
   "outputs": [
    {
     "name": "stdout",
     "output_type": "stream",
     "text": [
      "Estadístic W = 0.4716\n",
      "Valor p = 0.0000\n",
      "El número de files no segueix una distribució normal.\n"
     ]
    }
   ],
   "execution_count": 1527
  },
  {
   "metadata": {
    "ExecuteTime": {
     "end_time": "2024-04-19T12:03:10.751060Z",
     "start_time": "2024-04-19T12:03:10.738073Z"
    }
   },
   "cell_type": "code",
   "source": [
    "stat, p_value_12 = mannwhitneyu(CON_PA['DO_diagnosticada'], CON_PA_MECVV['DO_diagnosticada'], alternative='two-sided')\n",
    "print(\"P-valor entre CON_PA i CON_PA_MECVV\", p_value_12)"
   ],
   "id": "b7250148750bd0ec",
   "outputs": [
    {
     "name": "stdout",
     "output_type": "stream",
     "text": [
      "P-valor entre CON_PA i CON_PA_MECVV 0.40914513229166993\n"
     ]
    }
   ],
   "execution_count": 1528
  },
  {
   "metadata": {
    "ExecuteTime": {
     "end_time": "2024-04-19T12:03:31.126998Z",
     "start_time": "2024-04-19T12:03:31.119573Z"
    }
   },
   "cell_type": "code",
   "source": [
    "stat, p_value_13 = mannwhitneyu(CON_PA['DO_diagnosticada'], SIN_PA['DO_diagnosticada'], alternative='two-sided')\n",
    "print(\"P-valor entre CON_PA i SIN_PA\", p_value_13)"
   ],
   "id": "18de486110d234f4",
   "outputs": [
    {
     "name": "stdout",
     "output_type": "stream",
     "text": [
      "P-valor entre CON_PA i SIN_PA 0.02125060274444335\n"
     ]
    }
   ],
   "execution_count": 1529
  },
  {
   "metadata": {
    "ExecuteTime": {
     "end_time": "2024-04-19T12:04:10.779236Z",
     "start_time": "2024-04-19T12:04:10.772638Z"
    }
   },
   "cell_type": "code",
   "source": [
    "stat, p_value_23 = mannwhitneyu(CON_PA_MECVV['DO_diagnosticada'], SIN_PA['DO_diagnosticada'], alternative='two-sided')\n",
    "print(\"P-valor entre CON_PA_MECVV i SIN_PA\", p_value_23)"
   ],
   "id": "508340d7a6fb917d",
   "outputs": [
    {
     "name": "stdout",
     "output_type": "stream",
     "text": [
      "P-valor entre CON_PA_MECVV i SIN_PA 0.4172116903428992\n"
     ]
    }
   ],
   "execution_count": 1530
  },
  {
   "metadata": {},
   "cell_type": "markdown",
   "source": "## Index de Barthel",
   "id": "dc8734cc141432b0"
  },
  {
   "metadata": {},
   "cell_type": "markdown",
   "source": "### Promedio",
   "id": "bfed47df31e7bb8"
  },
  {
   "metadata": {
    "ExecuteTime": {
     "end_time": "2024-04-19T12:04:31.130023Z",
     "start_time": "2024-04-19T12:04:31.120352Z"
    }
   },
   "cell_type": "code",
   "source": [
    "promedio_barthel = CON_PA['Barthel_resultados'].mean()\n",
    "desviacion_estandar_barthel = CON_PA['Barthel_resultados'].std()\n",
    "\n",
    "resultado = f\"{promedio_barthel:.2f} ± {desviacion_estandar_barthel:.2f}\"\n",
    "print(\"Mitjana ± Desviació Estàndard del Barthel:\", resultado)"
   ],
   "id": "8638758d3ff1fd2b",
   "outputs": [
    {
     "name": "stdout",
     "output_type": "stream",
     "text": [
      "Mitjana ± Desviació Estàndard del Barthel: 22.65 ± 24.63\n"
     ]
    }
   ],
   "execution_count": 1531
  },
  {
   "metadata": {
    "ExecuteTime": {
     "end_time": "2024-04-19T12:05:10.817528Z",
     "start_time": "2024-04-19T12:05:10.776681Z"
    }
   },
   "cell_type": "code",
   "source": [
    "promedio_barthel = CON_PA_MECVV['Barthel_resultados'].mean()\n",
    "desviacion_estandar_barthel = CON_PA_MECVV['Barthel_resultados'].std()\n",
    "\n",
    "resultado = f\"{promedio_barthel:.2f} ± {desviacion_estandar_barthel:.2f}\"\n",
    "print(\"Mitjana ± Desviació Estàndard del Barthel:\", resultado)"
   ],
   "id": "fa78d7ab6c24f658",
   "outputs": [
    {
     "name": "stdout",
     "output_type": "stream",
     "text": [
      "Mitjana ± Desviació Estàndard del Barthel: 28.50 ± 22.24\n"
     ]
    }
   ],
   "execution_count": 1532
  },
  {
   "metadata": {
    "ExecuteTime": {
     "end_time": "2024-04-19T12:05:31.139253Z",
     "start_time": "2024-04-19T12:05:31.130384Z"
    }
   },
   "cell_type": "code",
   "source": [
    "promedio_barthel = SIN_PA['Barthel_resultados'].mean()\n",
    "desviacion_estandar_barthel = SIN_PA['Barthel_resultados'].std()\n",
    "\n",
    "resultado = f\"{promedio_barthel:.2f} ± {desviacion_estandar_barthel:.2f}\"\n",
    "print(\"Mitjana ± Desviació Estàndard del Barthel:\", resultado)"
   ],
   "id": "47d02b3ef2886135",
   "outputs": [
    {
     "name": "stdout",
     "output_type": "stream",
     "text": [
      "Mitjana ± Desviació Estàndard del Barthel: 48.88 ± 37.42\n"
     ]
    }
   ],
   "execution_count": 1533
  },
  {
   "metadata": {},
   "cell_type": "markdown",
   "source": "#### Pvalor",
   "id": "1ac5ed3b04b339da"
  },
  {
   "metadata": {},
   "cell_type": "markdown",
   "source": "##### Normalitat",
   "id": "a65d29ed7addb2c2"
  },
  {
   "metadata": {
    "ExecuteTime": {
     "end_time": "2024-04-19T12:06:10.810199Z",
     "start_time": "2024-04-19T12:06:10.800466Z"
    }
   },
   "cell_type": "code",
   "source": [
    "stat, p_value = shapiro(CON_PA['Barthel_resultados'])\n",
    "print(f\"Estadístic W = {stat:.4f}\")\n",
    "print(f\"Valor p = {p_value:.4f}\")\n",
    "\n",
    "alpha = 0.05\n",
    "if p_value < alpha:\n",
    "    print(\"El nombre de files no segueix una distribució normal.\")\n",
    "else:\n",
    "    print(\"El nombre de files segueix una distribució normal.\")"
   ],
   "id": "dd1f4211e230b65e",
   "outputs": [
    {
     "name": "stdout",
     "output_type": "stream",
     "text": [
      "Estadístic W = 0.8517\n",
      "Valor p = 0.0114\n",
      "El número de files no segueix una distribució normal.\n"
     ]
    }
   ],
   "execution_count": 1534
  },
  {
   "metadata": {
    "ExecuteTime": {
     "end_time": "2024-04-19T12:06:31.191676Z",
     "start_time": "2024-04-19T12:06:31.146915Z"
    }
   },
   "cell_type": "code",
   "source": [
    "stat, p_value = shapiro(CON_PA_MECVV['Barthel_resultados'])\n",
    "print(f\"Estadístic W = {stat:.4f}\")\n",
    "print(f\"Valor p = {p_value:.4f}\")\n",
    "\n",
    "alpha = 0.05\n",
    "if p_value < alpha:\n",
    "    print(\"El nombre de files no segueix una distribució normal.\")\n",
    "else:\n",
    "    print(\"El nombre de files segueix una distribució normal.\")"
   ],
   "id": "5b55e8e8f36f2812",
   "outputs": [
    {
     "name": "stdout",
     "output_type": "stream",
     "text": [
      "Estadístic W = 0.9138\n",
      "Valor p = 0.3083\n",
      "El número de files segueix una distribució normal.\n"
     ]
    }
   ],
   "execution_count": 1535
  },
  {
   "metadata": {
    "ExecuteTime": {
     "end_time": "2024-04-19T12:07:10.839618Z",
     "start_time": "2024-04-19T12:07:10.795608Z"
    }
   },
   "cell_type": "code",
   "source": [
    "stat, p_value = shapiro(SIN_PA['Barthel_resultados'])\n",
    "print(f\"Estadístic W = {stat:.4f}\")\n",
    "print(f\"Valor p = {p_value:.4f}\")\n",
    "\n",
    "alpha = 0.05\n",
    "if p_value < alpha:\n",
    "    print(\"El nombre de files no segueix una distribució normal.\")\n",
    "else:\n",
    "    print(\"El nombre de files segueix una distribució normal.\")"
   ],
   "id": "e0ef6492ee374145",
   "outputs": [
    {
     "name": "stdout",
     "output_type": "stream",
     "text": [
      "Estadístic W = 0.8858\n",
      "Valor p = 0.0002\n",
      "El número de files no segueix una distribució normal.\n"
     ]
    }
   ],
   "execution_count": 1536
  },
  {
   "metadata": {
    "ExecuteTime": {
     "end_time": "2024-04-19T12:07:31.207898Z",
     "start_time": "2024-04-19T12:07:31.167512Z"
    }
   },
   "cell_type": "code",
   "source": [
    "stat, p_value_12 = mannwhitneyu(CON_PA['Barthel_resultados'], CON_PA_MECVV['Barthel_resultados'], alternative='two-sided')\n",
    "print(\"P-valor entre CON_PA i CON_PA_MECVV\", p_value_12)"
   ],
   "id": "cd7ea4badfff9b7a",
   "outputs": [
    {
     "name": "stdout",
     "output_type": "stream",
     "text": [
      "P-valor entre CON_PA i CON_PA_MECVV 0.41631085084208264\n"
     ]
    }
   ],
   "execution_count": 1537
  },
  {
   "metadata": {
    "ExecuteTime": {
     "end_time": "2024-04-19T12:08:10.868710Z",
     "start_time": "2024-04-19T12:08:10.823360Z"
    }
   },
   "cell_type": "code",
   "source": [
    "stat, p_value_13 = mannwhitneyu(CON_PA['Barthel_resultados'], SIN_PA['Barthel_resultados'], alternative='two-sided')\n",
    "print(\"P-valor entre CON_PA i SIN_PA\", p_value_13)"
   ],
   "id": "6942ed62019c90c6",
   "outputs": [
    {
     "name": "stdout",
     "output_type": "stream",
     "text": [
      "P-valor entre CON_PA i SIN_PA 0.012373091641540783\n"
     ]
    }
   ],
   "execution_count": 1538
  },
  {
   "metadata": {
    "ExecuteTime": {
     "end_time": "2024-04-19T12:08:31.402431Z",
     "start_time": "2024-04-19T12:08:31.358739Z"
    }
   },
   "cell_type": "code",
   "source": [
    "stat, p_value_23 = mannwhitneyu(CON_PA_MECVV['Barthel_resultados'], SIN_PA['Barthel_resultados'], alternative='two-sided')\n",
    "print(\"P-valor entre CON_PA_MECVV i SIN_PA\", p_value_23)"
   ],
   "id": "2c199b4f90f82e91",
   "outputs": [
    {
     "name": "stdout",
     "output_type": "stream",
     "text": [
      "P-valor entre CON_PA_MECVV i SIN_PA 0.13803563369050034\n"
     ]
    }
   ],
   "execution_count": 1539
  },
  {
   "metadata": {},
   "cell_type": "markdown",
   "source": "### Valors de dependència",
   "id": "26c7b917da1f3f22"
  },
  {
   "metadata": {},
   "cell_type": "markdown",
   "source": "##### CON_PA",
   "id": "c5f7ee6744b89d84"
  },
  {
   "metadata": {
    "ExecuteTime": {
     "end_time": "2024-04-19T12:09:10.884928Z",
     "start_time": "2024-04-19T12:09:10.838573Z"
    }
   },
   "cell_type": "code",
   "source": [
    "indepe_CON_PA = (CON_PA['Barthel_resultados'] == 100.0).mean() * 100\n",
    "print(f\"Percentatge de indepe_CON_PA: {indepe_CON_PA:.2f}%\")"
   ],
   "id": "bd4eaba9b577b15b",
   "outputs": [
    {
     "name": "stdout",
     "output_type": "stream",
     "text": [
      "Percentatge de indepe_CON_PA: 0.00%\n"
     ]
    }
   ],
   "execution_count": 1540
  },
  {
   "metadata": {
    "ExecuteTime": {
     "end_time": "2024-04-19T12:09:31.411705Z",
     "start_time": "2024-04-19T12:09:31.401995Z"
    }
   },
   "cell_type": "code",
   "source": [
    "mod_CON_PA = (CON_PA['Barthel_resultados'].between(61, 95)).mean() * 100\n",
    "print(f\"Percentatge de mod_CON_PA: {mod_CON_PA:.2f}%\")"
   ],
   "id": "4fb1d19906f59b5a",
   "outputs": [
    {
     "name": "stdout",
     "output_type": "stream",
     "text": [
      "Percentatge de mod_CON_PA: 5.88%\n"
     ]
    }
   ],
   "execution_count": 1541
  },
  {
   "metadata": {
    "ExecuteTime": {
     "end_time": "2024-04-19T12:10:10.996759Z",
     "start_time": "2024-04-19T12:10:10.983695Z"
    }
   },
   "cell_type": "code",
   "source": [
    "sev_CON_PA = (CON_PA['Barthel_resultados'].between(21, 60)).mean() * 100\n",
    "print(f\"Percentatge de sev_CON_PA: {sev_CON_PA:.2f}%\")"
   ],
   "id": "d9304c0cc424b57",
   "outputs": [
    {
     "name": "stdout",
     "output_type": "stream",
     "text": [
      "Percentatge de sev_CON_PA: 41.18%\n"
     ]
    }
   ],
   "execution_count": 1542
  },
  {
   "metadata": {
    "ExecuteTime": {
     "end_time": "2024-04-19T12:10:31.440734Z",
     "start_time": "2024-04-19T12:10:31.430209Z"
    }
   },
   "cell_type": "code",
   "source": [
    "total_CON_PA = (CON_PA['Barthel_resultados'] <= 20.0 ).mean() * 100\n",
    "print(f\"Percentatge de total_CON_PA: {total_CON_PA:.2f}%\")"
   ],
   "id": "6910486fc7c29e8c",
   "outputs": [
    {
     "name": "stdout",
     "output_type": "stream",
     "text": [
      "Percentatge de total_CON_PA: 52.94%\n"
     ]
    }
   ],
   "execution_count": 1543
  },
  {
   "metadata": {},
   "cell_type": "markdown",
   "source": "##### CON_PA_MECVV",
   "id": "c71049641e1172f4"
  },
  {
   "metadata": {
    "ExecuteTime": {
     "end_time": "2024-04-19T12:11:11.017384Z",
     "start_time": "2024-04-19T12:11:11.007319Z"
    }
   },
   "cell_type": "code",
   "source": [
    "indepe_CON_PA_MECVV = (CON_PA_MECVV['Barthel_resultados'] == 100.0).mean() * 100\n",
    "print(f\"Percentatge de indepe_CON_PA_MECVV: {indepe_CON_PA_MECVV:.2f}%\")"
   ],
   "id": "6674786f0109e84b",
   "outputs": [
    {
     "name": "stdout",
     "output_type": "stream",
     "text": [
      "Percentatge de indepe_CON_PA_MECVV: 0.00%\n"
     ]
    }
   ],
   "execution_count": 1544
  },
  {
   "metadata": {
    "ExecuteTime": {
     "end_time": "2024-04-19T12:11:31.515573Z",
     "start_time": "2024-04-19T12:11:31.496805Z"
    }
   },
   "cell_type": "code",
   "source": [
    "mod_CON_PA_MECVV = (CON_PA_MECVV['Barthel_resultados'].between(61,95)).mean() * 100\n",
    "print(f\"Percentatge de mod_CON_PA_MECVV: {mod_CON_PA_MECVV:.2f}%\")"
   ],
   "id": "cc081239fd51856",
   "outputs": [
    {
     "name": "stdout",
     "output_type": "stream",
     "text": [
      "Percentatge de mod_CON_PA_MECVV: 0.00%\n"
     ]
    }
   ],
   "execution_count": 1545
  },
  {
   "metadata": {
    "ExecuteTime": {
     "end_time": "2024-04-19T12:12:11.015196Z",
     "start_time": "2024-04-19T12:12:11.007956Z"
    }
   },
   "cell_type": "code",
   "source": [
    "sev_CON_PA_MECVV = (CON_PA_MECVV['Barthel_resultados'].between(21,60)).mean() * 100\n",
    "print(f\"Percentatge de sev_CON_PA_MECVV: {sev_CON_PA_MECVV:.2f}%\")"
   ],
   "id": "a9e4a48bad4a68ee",
   "outputs": [
    {
     "name": "stdout",
     "output_type": "stream",
     "text": [
      "Percentatge de sev_CON_PA_MECVV: 60.00%\n"
     ]
    }
   ],
   "execution_count": 1546
  },
  {
   "metadata": {
    "ExecuteTime": {
     "end_time": "2024-04-19T12:12:31.517245Z",
     "start_time": "2024-04-19T12:12:31.471147Z"
    }
   },
   "cell_type": "code",
   "source": [
    "total_CON_PA_MECVV = (CON_PA_MECVV['Barthel_resultados'] <= 20.0).mean() * 100\n",
    "print(f\"Percentatge de total_CON_PA_MECVV: {total_CON_PA_MECVV:.2f}%\")"
   ],
   "id": "9125c459a4b83c25",
   "outputs": [
    {
     "name": "stdout",
     "output_type": "stream",
     "text": [
      "Percentatge de total_CON_PA_MECVV: 40.00%\n"
     ]
    }
   ],
   "execution_count": 1547
  },
  {
   "metadata": {},
   "cell_type": "markdown",
   "source": "##### SIN_PA",
   "id": "3c5b6af1cef898a8"
  },
  {
   "metadata": {
    "ExecuteTime": {
     "end_time": "2024-04-19T12:13:11.021575Z",
     "start_time": "2024-04-19T12:13:11.013534Z"
    }
   },
   "cell_type": "code",
   "source": [
    "indepe_SIN_PA = (SIN_PA['Barthel_resultados'] == 100.0).mean() * 100\n",
    "print(f\"Percentatge de indepe_SIN_PA: {indepe_SIN_PA:.2f}%\")"
   ],
   "id": "d6514f8eb77e3656",
   "outputs": [
    {
     "name": "stdout",
     "output_type": "stream",
     "text": [
      "Percentatge de indepe_SIN_PA: 20.41%\n"
     ]
    }
   ],
   "execution_count": 1548
  },
  {
   "metadata": {
    "ExecuteTime": {
     "end_time": "2024-04-19T12:13:31.530636Z",
     "start_time": "2024-04-19T12:13:31.485767Z"
    }
   },
   "cell_type": "code",
   "source": [
    "mod_SIN_PA = (SIN_PA['Barthel_resultados'].between(61,95)).mean() * 100\n",
    "print(f\"Percentatge de mod_SIN_PA: {mod_SIN_PA:.2f}%\")"
   ],
   "id": "6c3c3065602238a3",
   "outputs": [
    {
     "name": "stdout",
     "output_type": "stream",
     "text": [
      "Percentatge de mod_SIN_PA: 18.37%\n"
     ]
    }
   ],
   "execution_count": 1549
  },
  {
   "metadata": {
    "ExecuteTime": {
     "end_time": "2024-04-19T12:14:11.065887Z",
     "start_time": "2024-04-19T12:14:11.021982Z"
    }
   },
   "cell_type": "code",
   "source": [
    "sev_SIN_PA = (SIN_PA['Barthel_resultados'].between(21,60)).mean() * 100\n",
    "print(f\"Percentatge de sev_SIN_PA: {sev_SIN_PA:.2f}%\")"
   ],
   "id": "9607e237feb8ad65",
   "outputs": [
    {
     "name": "stdout",
     "output_type": "stream",
     "text": [
      "Percentatge de sev_SIN_PA: 28.57%\n"
     ]
    }
   ],
   "execution_count": 1550
  },
  {
   "metadata": {
    "ExecuteTime": {
     "end_time": "2024-04-19T12:14:31.505702Z",
     "start_time": "2024-04-19T12:14:31.495808Z"
    }
   },
   "cell_type": "code",
   "source": [
    "total_SIN_PA = (SIN_PA['Barthel_resultados'] <= 20).mean() * 100\n",
    "print(f\"Percentatge de total_SIN_PA: {total_SIN_PA:.2f}%\")"
   ],
   "id": "be742afa35213a6f",
   "outputs": [
    {
     "name": "stdout",
     "output_type": "stream",
     "text": [
      "Percentatge de total_SIN_PA: 32.65%\n"
     ]
    }
   ],
   "execution_count": 1551
  },
  {
   "metadata": {},
   "cell_type": "markdown",
   "source": "#### Pvalor",
   "id": "5d7114bf6d7143b9"
  },
  {
   "metadata": {},
   "cell_type": "markdown",
   "source": "##### Independència",
   "id": "99941840d95ccd6"
  },
  {
   "metadata": {
    "ExecuteTime": {
     "end_time": "2024-04-19T12:15:11.069614Z",
     "start_time": "2024-04-19T12:15:11.058361Z"
    }
   },
   "cell_type": "code",
   "source": [
    "stat_12, p_value_12 = mannwhitneyu(CON_PA['Barthel_resultados'] == 100.0, CON_PA_MECVV['Barthel_resultados'] == 100.0, alternative='two-sided')\n",
    "print(\"P-valor entre indepe_CON_PA i indepe_CON_PA_MECVV:\", p_value_12)"
   ],
   "id": "1fc9a4202863cab2",
   "outputs": [
    {
     "name": "stdout",
     "output_type": "stream",
     "text": [
      "P-valor entre indepe_CON_PA i indepe_CON_PA_MECVV: 1.0\n"
     ]
    }
   ],
   "execution_count": 1552
  },
  {
   "metadata": {
    "ExecuteTime": {
     "end_time": "2024-04-19T12:15:31.557877Z",
     "start_time": "2024-04-19T12:15:31.548966Z"
    }
   },
   "cell_type": "code",
   "source": [
    "stat_13, p_value_13 = mannwhitneyu(CON_PA['Barthel_resultados'] == 100.0, SIN_PA['Barthel_resultados'] == 100.0, alternative='two-sided')\n",
    "print(\"P-valor entre indepe_CON_PA i indepe_SIN_PA:\", p_value_13)"
   ],
   "id": "53f70691fc93885b",
   "outputs": [
    {
     "name": "stdout",
     "output_type": "stream",
     "text": [
      "P-valor entre indepe_CON_PA i indepe_SIN_PA: 0.04605091215969595\n"
     ]
    }
   ],
   "execution_count": 1553
  },
  {
   "metadata": {
    "ExecuteTime": {
     "end_time": "2024-04-19T12:16:11.107806Z",
     "start_time": "2024-04-19T12:16:11.074893Z"
    }
   },
   "cell_type": "code",
   "source": [
    "stat_23, p_val_23 = ttest_ind(CON_PA_MECVV['Barthel_resultados'] == 100.0, SIN_PA['Barthel_resultados'] == 100.0, equal_var=False)\n",
    "print(\"P-valor entre indepe_CON_PA_MECVV i SIN_PA:\", p_value_23)"
   ],
   "id": "b11519140ece0c96",
   "outputs": [
    {
     "name": "stdout",
     "output_type": "stream",
     "text": [
      "P-valor entre indepe_CON_PA_MECVV i SIN_PA: 0.13803563369050034\n"
     ]
    }
   ],
   "execution_count": 1554
  },
  {
   "metadata": {},
   "cell_type": "markdown",
   "source": "##### Moderada",
   "id": "d04d18982271906"
  },
  {
   "metadata": {
    "ExecuteTime": {
     "end_time": "2024-04-19T12:16:31.579351Z",
     "start_time": "2024-04-19T12:16:31.531512Z"
    }
   },
   "cell_type": "code",
   "source": [
    "stat_12, p_value_12 = mannwhitneyu(CON_PA['Barthel_resultados'].between(61, 95), CON_PA_MECVV['Barthel_resultados'].between(61, 95), alternative='two-sided')\n",
    "print(\"P-valor entre mod_CON_PA i mod_CON_PA_MECVV:\", p_value_12)"
   ],
   "id": "dec64efac0865e29",
   "outputs": [
    {
     "name": "stdout",
     "output_type": "stream",
     "text": [
      "P-valor entre mod_CON_PA i mod_CON_PA_MECVV: 0.49002535950179893\n"
     ]
    }
   ],
   "execution_count": 1555
  },
  {
   "metadata": {
    "ExecuteTime": {
     "end_time": "2024-04-19T12:17:11.061900Z",
     "start_time": "2024-04-19T12:17:11.050277Z"
    }
   },
   "cell_type": "code",
   "source": [
    "stat_13, p_value_13 = mannwhitneyu(CON_PA['Barthel_resultados'].between(61, 95), SIN_PA['Barthel_resultados'].between(61, 95), alternative='two-sided')\n",
    "print(\"P-valor entre indepe_CON_PA i mod_SIN_PA:\", p_value_13)"
   ],
   "id": "27afcdbb5f858182",
   "outputs": [
    {
     "name": "stdout",
     "output_type": "stream",
     "text": [
      "P-valor entre indepe_CON_PA i mod_SIN_PA: 0.22404485220846948\n"
     ]
    }
   ],
   "execution_count": 1556
  },
  {
   "metadata": {
    "ExecuteTime": {
     "end_time": "2024-04-19T12:17:31.588349Z",
     "start_time": "2024-04-19T12:17:31.538611Z"
    }
   },
   "cell_type": "code",
   "source": [
    "stat_23, p_value_23 = mannwhitneyu(CON_PA_MECVV['Barthel_resultados'].between(61, 95), SIN_PA['Barthel_resultados'].between(61, 95), alternative='two-sided')  \n",
    "print(\"P-valor entre mod_CON_PA_MECVV i mod_SIN_PA :\", p_value_23)"
   ],
   "id": "8fc3e8dab51af8d1",
   "outputs": [
    {
     "name": "stdout",
     "output_type": "stream",
     "text": [
      "P-valor entre mod_CON_PA_MECVV i mod_SIN_PA : 0.14889565499123467\n"
     ]
    }
   ],
   "execution_count": 1557
  },
  {
   "metadata": {},
   "cell_type": "markdown",
   "source": "##### Severa",
   "id": "76bed183a4aeac10"
  },
  {
   "metadata": {
    "ExecuteTime": {
     "end_time": "2024-04-19T12:18:11.111717Z",
     "start_time": "2024-04-19T12:18:11.059003Z"
    }
   },
   "cell_type": "code",
   "source": [
    "stat_12, p_value_12 = mannwhitneyu(CON_PA['Barthel_resultados'].between(21,60), CON_PA_MECVV['Barthel_resultados'].between(21,60), alternative='two-sided')\n",
    "print(\"P-valor entre sev_CON_PA i sev_CON_PA_MECVV:\", p_value_12)"
   ],
   "id": "f62da8e97a2baaab",
   "outputs": [
    {
     "name": "stdout",
     "output_type": "stream",
     "text": [
      "P-valor entre sev_CON_PA i sev_CON_PA_MECVV: 0.3688417252786701\n"
     ]
    }
   ],
   "execution_count": 1558
  },
  {
   "metadata": {
    "ExecuteTime": {
     "end_time": "2024-04-19T12:18:31.614203Z",
     "start_time": "2024-04-19T12:18:31.594865Z"
    }
   },
   "cell_type": "code",
   "source": [
    "stat_13, p_value_13 = mannwhitneyu(CON_PA['Barthel_resultados'].between(21,60), SIN_PA['Barthel_resultados'].between(21,60), alternative='two-sided')\n",
    "print(\"P-valor entre sev_CON_PA i sev_SIN_PA:\", p_value_13)"
   ],
   "id": "31cb55f53135e10a",
   "outputs": [
    {
     "name": "stdout",
     "output_type": "stream",
     "text": [
      "P-valor entre sev_CON_PA i sev_SIN_PA: 0.3446368758082651\n"
     ]
    }
   ],
   "execution_count": 1559
  },
  {
   "metadata": {
    "ExecuteTime": {
     "end_time": "2024-04-19T12:19:11.121344Z",
     "start_time": "2024-04-19T12:19:11.108261Z"
    }
   },
   "cell_type": "code",
   "source": [
    "t_stat_23, p_value_23 = mannwhitneyu(CON_PA_MECVV['Barthel_resultados'].between(21,60), SIN_PA['Barthel_resultados'].between(21,60), alternative='two-sided' )\n",
    "print(\"P-valor entre sev_CON_PA_MECVV i sev_SIN_PA:\", p_value_23)"
   ],
   "id": "92003e3822752b2c",
   "outputs": [
    {
     "name": "stdout",
     "output_type": "stream",
     "text": [
      "P-valor entre sev_CON_PA_MECVV i sev_SIN_PA: 0.05945988532601827\n"
     ]
    }
   ],
   "execution_count": 1560
  },
  {
   "metadata": {},
   "cell_type": "markdown",
   "source": "##### Total",
   "id": "6f92bc9950981fa5"
  },
  {
   "metadata": {
    "ExecuteTime": {
     "end_time": "2024-04-19T12:19:31.679493Z",
     "start_time": "2024-04-19T12:19:31.668003Z"
    }
   },
   "cell_type": "code",
   "source": [
    "stat_12, p_value_12 = mannwhitneyu(CON_PA['Barthel_resultados'] <= 20.0, CON_PA_MECVV['Barthel_resultados'] <= 20.0, alternative='two-sided')\n",
    "print(\"P-valor entre total_CON_PA i total_CON_PA_MECVV:\", p_value_12)"
   ],
   "id": "649bd60d8064b442",
   "outputs": [
    {
     "name": "stdout",
     "output_type": "stream",
     "text": [
      "P-valor entre total_CON_PA i total_CON_PA_MECVV: 0.5426838040005246\n"
     ]
    }
   ],
   "execution_count": 1561
  },
  {
   "metadata": {
    "ExecuteTime": {
     "end_time": "2024-04-19T12:20:11.140858Z",
     "start_time": "2024-04-19T12:20:11.129705Z"
    }
   },
   "cell_type": "code",
   "source": [
    "stat_13, p_value_13 = mannwhitneyu(CON_PA['Barthel_resultados'] <= 20.0, SIN_PA['Barthel_resultados'] <= 20.0, alternative='two-sided')\n",
    "print(\"P-valor entre total_CON_PA i total_SIN_PA:\", p_value_13)"
   ],
   "id": "c7aefab4134a6d36",
   "outputs": [
    {
     "name": "stdout",
     "output_type": "stream",
     "text": [
      "P-valor entre total_CON_PA i total_SIN_PA: 0.14269651822055499\n"
     ]
    }
   ],
   "execution_count": 1562
  },
  {
   "metadata": {
    "ExecuteTime": {
     "end_time": "2024-04-19T12:20:31.699470Z",
     "start_time": "2024-04-19T12:20:31.685501Z"
    }
   },
   "cell_type": "code",
   "source": [
    "stat_23, p_value_23 = mannwhitneyu(CON_PA_MECVV['Barthel_resultados'] <= 20.0, SIN_PA['Barthel_resultados'] <= 20.0, alternative='two-sided')\n",
    "print(\"P-valor entre total_CON_PA_MECVV i total_SIN_PA:\", p_value_23)"
   ],
   "id": "8f86e986c69cad05",
   "outputs": [
    {
     "name": "stdout",
     "output_type": "stream",
     "text": [
      "P-valor entre total_CON_PA_MECVV i total_SIN_PA: 0.6663533091466043\n"
     ]
    }
   ],
   "execution_count": 1563
  },
  {
   "metadata": {},
   "cell_type": "markdown",
   "source": "## Index del MNA",
   "id": "8aec29cdaca5153d"
  },
  {
   "metadata": {},
   "cell_type": "markdown",
   "source": "Primer convertiré la columna a tipus numèric ja que els valors que conté són de tipus objecte i amb aquest tipus no puc calcular la mitjana ni la desviació estàndard.",
   "id": "1c06e026a7dc222a"
  },
  {
   "metadata": {
    "ExecuteTime": {
     "end_time": "2024-04-19T12:21:11.234202Z",
     "start_time": "2024-04-19T12:21:11.123189Z"
    }
   },
   "cell_type": "code",
   "source": [
    "CON_PA.loc[:, 'mna_resultats'] = pd.to_numeric(CON_PA['mna_resultats'], errors='coerce')\n",
    "CON_PA_MECVV.loc[:, 'mna_resultats'] = pd.to_numeric(CON_PA_MECVV['mna_resultats'], errors='coerce')\n",
    "SIN_PA.loc[:, 'mna_resultats'] = pd.to_numeric(SIN_PA['mna_resultats'], errors='coerce')"
   ],
   "id": "1fd4ba82fd70b812",
   "outputs": [],
   "execution_count": 1564
  },
  {
   "metadata": {},
   "cell_type": "markdown",
   "source": "### Mitjana",
   "id": "d3a2da203000f2a5"
  },
  {
   "metadata": {
    "ExecuteTime": {
     "end_time": "2024-04-19T12:21:31.767679Z",
     "start_time": "2024-04-19T12:21:31.754657Z"
    }
   },
   "cell_type": "code",
   "source": [
    "promedio_mna = CON_PA['mna_resultats'].mean()\n",
    "desviacion_estandar_mna = CON_PA['mna_resultats'].std()\n",
    "\n",
    "resultado = f\"{promedio_mna:.2f} ± {desviacion_estandar_mna:.2f}\"\n",
    "print(\"Mitjana ± Desviació Estándard del mna:\", resultado)"
   ],
   "id": "49f228e16ecc4f8f",
   "outputs": [
    {
     "name": "stdout",
     "output_type": "stream",
     "text": [
      "Mitjana ± Desviació Estándard del mna: 0.00 ± 0.00\n"
     ]
    }
   ],
   "execution_count": 1565
  },
  {
   "metadata": {
    "ExecuteTime": {
     "end_time": "2024-04-19T12:22:51.604691Z",
     "start_time": "2024-04-19T12:22:51.554651Z"
    }
   },
   "cell_type": "code",
   "source": [
    "promedio_mna = CON_PA_MECVV['mna_resultats'].mean()\n",
    "desviacion_estandar_mna = CON_PA_MECVV['mna_resultats'].std()\n",
    "\n",
    "resultado = f\"{promedio_mna:.2f} ± {desviacion_estandar_mna:.2f}\"\n",
    "print(\"Mitjana ± Desviació Estándard del mna:\", resultado)"
   ],
   "id": "2b9bad54f7ac28fb",
   "outputs": [
    {
     "name": "stdout",
     "output_type": "stream",
     "text": [
      "Mitjana ± Desviació Estándard del mna: 0.00 ± nan\n"
     ]
    }
   ],
   "execution_count": 1566
  },
  {
   "metadata": {
    "ExecuteTime": {
     "end_time": "2024-04-19T12:23:24.851301Z",
     "start_time": "2024-04-19T12:23:24.804484Z"
    }
   },
   "cell_type": "code",
   "source": [
    "promedio_mna = SIN_PA['mna_resultats'].mean()\n",
    "desviacion_estandar_mna = SIN_PA['mna_resultats'].std()\n",
    "\n",
    "resultado = f\"{promedio_mna:.2f} ± {desviacion_estandar_mna:.2f}\"\n",
    "print(\"Mitjana ± Desviació Estàndard del mna:\", resultado)"
   ],
   "id": "e1b756b5d3594d0d",
   "outputs": [
    {
     "name": "stdout",
     "output_type": "stream",
     "text": [
      "Mitjana ± Desviació Estàndard del mna: 3.05 ± 5.92\n"
     ]
    }
   ],
   "execution_count": 1567
  },
  {
   "metadata": {},
   "cell_type": "markdown",
   "source": "#### Pvalor",
   "id": "ed71dea199e67206"
  },
  {
   "metadata": {},
   "cell_type": "markdown",
   "source": "##### Normalitat",
   "id": "a2022f16581d1ec4"
  },
  {
   "metadata": {
    "ExecuteTime": {
     "end_time": "2024-04-19T12:23:25.620858Z",
     "start_time": "2024-04-19T12:23:25.546935Z"
    }
   },
   "cell_type": "code",
   "source": [
    "conpanone = CON_PA[CON_PA['mna_resultats'].notna()]\n",
    "stat, p_value = shapiro(conpanone)\n",
    "print(f\"Estadístic W = {stat:.4f}\")\n",
    "print(f\"Valor p = {p_value:.4f}\")\n",
    "\n",
    "alpha = 0.05\n",
    "if p_value < alpha:\n",
    "    print(\"El nombre de files no segueix una distribució normal.\")\n",
    "else:\n",
    "    print(\"El nombre de files segueix una distribució normal.\")"
   ],
   "id": "818f02babf540e04",
   "outputs": [
    {
     "name": "stdout",
     "output_type": "stream",
     "text": [
      "Estadístic W = nan\n",
      "Valor p = nan\n",
      "El número de files segueix una distribució normal.\n"
     ]
    }
   ],
   "execution_count": 1568
  },
  {
   "metadata": {
    "jupyter": {
     "is_executing": true
    }
   },
   "cell_type": "code",
   "source": [
    "pa2none = CON_PA_MECVV[CON_PA_MECVV['mna_resultats'].notna()]\n",
    "stat, p_value = shapiro(pa2none)\n",
    "print(f\"Estadístic W = {stat:.4f}\")\n",
    "print(f\"Valor p = {p_value:.4f}\")\n",
    "\n",
    "alpha = 0.05\n",
    "if p_value < alpha:\n",
    "    print(\"El nombre de files no segueix una distribució normal.\")\n",
    "else:\n",
    "    print(\"El nombre de files segueix una distribució normal.\")"
   ],
   "id": "f3f9909b59238c82",
   "outputs": [],
   "execution_count": null
  },
  {
   "metadata": {
    "ExecuteTime": {
     "end_time": "2024-04-19T10:59:31.609057Z",
     "start_time": "2024-04-19T10:59:31.590933Z"
    }
   },
   "cell_type": "code",
   "source": [
    "pa3none = SIN_PA[SIN_PA['mna_resultats'].notna()]\n",
    "stat, p_value = shapiro(pa3none)\n",
    "print(f\"Estadístic W = {stat:.4f}\")\n",
    "print(f\"Valor p = {p_value:.4f}\")\n",
    "\n",
    "alpha = 0.05\n",
    "if p_value < alpha:\n",
    "    print(\"El nombre de files no segueix una distribució normal.\")\n",
    "else:\n",
    "    print(\"El nombre de files segueix una distribució normal.\")"
   ],
   "id": "e649075f76992902",
   "outputs": [
    {
     "name": "stdout",
     "output_type": "stream",
     "text": [
      "Estadístic W = nan\n",
      "Valor p = nan\n",
      "El número de files segueix una distribució normal.\n"
     ]
    }
   ],
   "execution_count": 1294
  },
  {
   "metadata": {
    "ExecuteTime": {
     "end_time": "2024-04-19T10:59:37.262855Z",
     "start_time": "2024-04-19T10:59:37.215279Z"
    }
   },
   "cell_type": "code",
   "source": [
    "t_stat_12, p_val_12 = ttest_ind(CON_PA['mna_resultats'], CON_PA_MECVV['mna_resultats'], equal_var=False)\n",
    "print(\"P-valor entre CON_PA i CON_PA_MECVV:\", p_val_12)"
   ],
   "id": "ad0537eaa821dc4b",
   "outputs": [
    {
     "name": "stdout",
     "output_type": "stream",
     "text": [
      "P-valor entre CON_PA i CON_PA_MECVV: nan\n"
     ]
    }
   ],
   "execution_count": 1295
  },
  {
   "metadata": {
    "ExecuteTime": {
     "end_time": "2024-04-19T11:00:18.384374Z",
     "start_time": "2024-04-19T11:00:18.372580Z"
    }
   },
   "cell_type": "code",
   "source": [
    "t_stat_13, p_val_13 = ttest_ind(CON_PA['mna_resultats'], SIN_PA['mna_resultats'], equal_var=False)\n",
    "print(\"P-valor entre CON_PA i SIN_PA:\", p_val_13)"
   ],
   "id": "d15532e3219abd52",
   "outputs": [
    {
     "name": "stdout",
     "output_type": "stream",
     "text": [
      "P-valor entre CON_PA i SIN_PA: nan\n"
     ]
    }
   ],
   "execution_count": 1296
  },
  {
   "metadata": {
    "ExecuteTime": {
     "end_time": "2024-04-19T11:00:28.970207Z",
     "start_time": "2024-04-19T11:00:28.958743Z"
    }
   },
   "cell_type": "code",
   "source": [
    "t_stat_23, p_val_23 = ttest_ind(CON_PA_MECVV['mna_resultats'], SIN_PA['mna_resultats'], equal_var=False)\n",
    "print(\"P-valor entre CON_PA_MECVV i SIN_PA:\", p_val_23)"
   ],
   "id": "33fd4e0dfb16ffd9",
   "outputs": [
    {
     "name": "stdout",
     "output_type": "stream",
     "text": [
      "P-valor entre CON_PA_MECVV i SIN_PA: nan\n"
     ]
    }
   ],
   "execution_count": 1297
  },
  {
   "metadata": {},
   "cell_type": "markdown",
   "source": "### Valors de malnutrició",
   "id": "30ab7030f717f77d"
  },
  {
   "metadata": {},
   "cell_type": "markdown",
   "source": "##### CON_PA",
   "id": "739bad6e4ed22abd"
  },
  {
   "metadata": {
    "ExecuteTime": {
     "end_time": "2024-04-19T11:00:31.626919Z",
     "start_time": "2024-04-19T11:00:31.595283Z"
    }
   },
   "cell_type": "code",
   "source": [
    "norm_CON_PA = CON_PA['mna_resultats'].between(24, 30)\n",
    "Percentatge_norm_CON_PA = norm_CON_PA.mean() * 100\n",
    "num_observaciones_norm_CON_PA = norm_CON_PA.sum()\n",
    "\n",
    "print(f\"Percentatge de norm_CON_PA: {Percentatge_norm_CON_PA:.2f}%\")\n",
    "print(f\"Nombre d'observacions en norm_CON_PA: {num_observaciones_norm_CON_PA}\")"
   ],
   "id": "caa6802b98e9e39",
   "outputs": [
    {
     "name": "stdout",
     "output_type": "stream",
     "text": [
      "Percentatge de norm_CON_PA: 0.00%\n",
      "Nombre d'observacions en norm_CON_PA: 0\n"
     ]
    }
   ],
   "execution_count": 1298
  },
  {
   "metadata": {
    "ExecuteTime": {
     "end_time": "2024-04-19T11:00:37.239360Z",
     "start_time": "2024-04-19T11:00:37.225018Z"
    }
   },
   "cell_type": "code",
   "source": [
    "malnutr_CON_PA = CON_PA['mna_resultats'].between(17, 23.5)\n",
    "Percentatge_malnutr_CON_PA = malnutr_CON_PA.mean() * 100\n",
    "num_observaciones_malnutr_CON_PA = norm_CON_PA.sum()\n",
    "\n",
    "print(f\"Percentatge de malnutr_CON_PA: {Percentatge_malnutr_CON_PA:.2f}%\")\n",
    "print(f\"Nombre d'observacions en norm_CON_PA: {num_observaciones_malnutr_CON_PA}\")"
   ],
   "id": "9767c703bf106b20",
   "outputs": [
    {
     "name": "stdout",
     "output_type": "stream",
     "text": [
      "Percentatge de malnutr_CON_PA: 0.00%\n",
      "Nombre d'observacions en norm_CON_PA: 0\n"
     ]
    }
   ],
   "execution_count": 1299
  },
  {
   "metadata": {
    "ExecuteTime": {
     "end_time": "2024-04-19T11:01:18.388545Z",
     "start_time": "2024-04-19T11:01:18.380216Z"
    }
   },
   "cell_type": "code",
   "source": [
    "malnut_CON_PA = CON_PA['mna_resultats'] < 17\n",
    "Percentatge_malnut_CON_PA = malnut_CON_PA.mean() * 100\n",
    "num_observaciones_malnut_CON_PA = malnut_CON_PA.sum()\n",
    "\n",
    "print(f\"Percentatge de malnut_CON_PA: {Percentatge_malnut_CON_PA:.2f}%\")\n",
    "print(f\"Nombre d'observacions en malnut_CON_PA: {num_observaciones_malnut_CON_PA}\")"
   ],
   "id": "bef7952d2998f683",
   "outputs": [
    {
     "name": "stdout",
     "output_type": "stream",
     "text": [
      "Percentatge de malnut_CON_PA: 23.53%\n",
      "Nombre d'observacions en malnut_CON_PA: 4\n"
     ]
    }
   ],
   "execution_count": 1300
  },
  {
   "metadata": {},
   "cell_type": "markdown",
   "source": "##### CON_PA_MECVV",
   "id": "2f5087291a06f182"
  },
  {
   "metadata": {
    "ExecuteTime": {
     "end_time": "2024-04-19T11:01:29.025798Z",
     "start_time": "2024-04-19T11:01:28.969869Z"
    }
   },
   "cell_type": "code",
   "source": [
    "norm_CON_PA_MECVV = CON_PA_MECVV['mna_resultats'].between(24, 30)\n",
    "Percentatge_norm_CON_PA_MECVV = norm_CON_PA_MECVV.mean() * 100\n",
    "num_observaciones_norm_CON_PA_MECVV = norm_CON_PA_MECVV.sum()\n",
    "\n",
    "print(f\"Percentatge de norm_CON_PA_MECVV: {Percentatge_norm_CON_PA_MECVV:.2f}%\")\n",
    "print(f\"Nombre d'observacions en norm_CON_PA_MECVV: {num_observaciones_norm_CON_PA_MECVV}\")"
   ],
   "id": "3e5b18f679fc2d97",
   "outputs": [
    {
     "name": "stdout",
     "output_type": "stream",
     "text": [
      "Percentatge de norm_CON_PA_MECVV: 0.00%\n",
      "Nombre d'observacions en norm_CON_PA_MECVV: 0\n"
     ]
    }
   ],
   "execution_count": 1301
  },
  {
   "metadata": {
    "ExecuteTime": {
     "end_time": "2024-04-19T11:01:31.628470Z",
     "start_time": "2024-04-19T11:01:31.609492Z"
    }
   },
   "cell_type": "code",
   "source": [
    "malnutr_CON_PA_MECVV = CON_PA_MECVV['mna_resultats'].between(17, 23.5)\n",
    "Percentatge_malnutr_CON_PA_MECVV = malnutr_CON_PA_MECVV.mean() * 100\n",
    "num_observaciones_malnutr_CON_PA_MECVV = norm_CON_PA_MECVV.sum()\n",
    "\n",
    "print(f\"Percentatge de malnutr_CON_PA_MECVV: {Percentatge_malnutr_CON_PA_MECVV:.2f}%\")\n",
    "print(f\"Nombre d'observacions en norm_CON_PA_MECVV: {num_observaciones_malnutr_CON_PA_MECVV}\")"
   ],
   "id": "d44f886d78fd3ac7",
   "outputs": [
    {
     "name": "stdout",
     "output_type": "stream",
     "text": [
      "Percentatge de malnutr_CON_PA_MECVV: 0.00%\n",
      "Nombre d'observacions en norm_CON_PA_MECVV: 0\n"
     ]
    }
   ],
   "execution_count": 1302
  },
  {
   "metadata": {
    "ExecuteTime": {
     "end_time": "2024-04-19T11:01:37.280127Z",
     "start_time": "2024-04-19T11:01:37.231391Z"
    }
   },
   "cell_type": "code",
   "source": [
    "malnut_CON_PA_MECVV = CON_PA_MECVV['mna_resultats'] < 17\n",
    "Percentatge_malnut_CON_PA_MECVV = malnut_CON_PA_MECVV.mean() * 100\n",
    "num_observaciones_malnut_CON_PA_MECVV = malnut_CON_PA_MECVV.sum()\n",
    "\n",
    "print(f\"Percentatge de malnut_CON_PA_MECVV: {Percentatge_malnut_CON_PA_MECVV:.2f}%\")\n",
    "print(f\"Nombre d'observacions en malnut_CON_PA_MECVV: {num_observaciones_malnut_CON_PA_MECVV}\")"
   ],
   "id": "2a86972a7a2d702d",
   "outputs": [
    {
     "name": "stdout",
     "output_type": "stream",
     "text": [
      "Percentatge de malnut_CON_PA_MECVV: 10.00%\n",
      "Nombre d'observacions en malnut_CON_PA_MECVV: 1\n"
     ]
    }
   ],
   "execution_count": 1303
  },
  {
   "metadata": {},
   "cell_type": "markdown",
   "source": "##### SIN_PA",
   "id": "147fc09ef92f5300"
  },
  {
   "metadata": {
    "ExecuteTime": {
     "end_time": "2024-04-19T11:02:18.405040Z",
     "start_time": "2024-04-19T11:02:18.386984Z"
    }
   },
   "cell_type": "code",
   "source": [
    "norm_SIN_PA = SIN_PA['mna_resultats'].between(24, 30)\n",
    "Percentatge_norm_SIN_PA = norm_SIN_PA.mean() * 100\n",
    "num_observaciones_norm_SIN_PA = norm_SIN_PA.sum()\n",
    "\n",
    "print(f\"Percentatge de norm_SIN_PA: {Percentatge_norm_SIN_PA:.2f}%\")\n",
    "print(f\"Nombre d'observacions en norm_SIN_PA: {num_observaciones_norm_SIN_PA}\")"
   ],
   "id": "c08ecbab11287831",
   "outputs": [
    {
     "name": "stdout",
     "output_type": "stream",
     "text": [
      "Percentatge de norm_SIN_PA: 0.00%\n",
      "Nombre d'observacions en norm_SIN_PA: 0\n"
     ]
    }
   ],
   "execution_count": 1304
  },
  {
   "metadata": {
    "ExecuteTime": {
     "end_time": "2024-04-19T11:02:28.993986Z",
     "start_time": "2024-04-19T11:02:28.981419Z"
    }
   },
   "cell_type": "code",
   "source": [
    "malnutr_SIN_PA = SIN_PA['mna_resultats'].between(17, 23.5)\n",
    "Percentatge_malnutr_SIN_PA = malnutr_SIN_PA.mean() * 100\n",
    "num_observaciones_malnutr_SIN_PA = malnutr_SIN_PA.sum()\n",
    "\n",
    "print(f\"Percentatge de malnutr_SIN_PA: {Percentatge_malnutr_SIN_PA:.2f}%\")\n",
    "print(f\"Nombre d'observacions en malnutr_SIN_PA: {num_observaciones_malnutr_SIN_PA}\")"
   ],
   "id": "380f9565f771bf8b",
   "outputs": [
    {
     "name": "stdout",
     "output_type": "stream",
     "text": [
      "Percentatge de malnutr_SIN_PA: 2.04%\n",
      "Nombre d'observacions en malnutr_SIN_PA: 1\n"
     ]
    }
   ],
   "execution_count": 1305
  },
  {
   "metadata": {
    "ExecuteTime": {
     "end_time": "2024-04-19T11:02:31.633609Z",
     "start_time": "2024-04-19T11:02:31.615436Z"
    }
   },
   "cell_type": "code",
   "source": [
    "malnut_SIN_PA = SIN_PA['mna_resultats'] < 17\n",
    "Percentatge_malnut_SIN_PA = malnut_SIN_PA.mean() * 100\n",
    "num_observaciones_malnut_SIN_PA = malnut_SIN_PA.sum()\n",
    "\n",
    "print(f\"Percentatge de malnut_SIN_PA: {Percentatge_malnut_SIN_PA:.2f}%\")\n",
    "print(f\"Nombre d'observacions en malnut_SIN_PA: {num_observaciones_malnut_SIN_PA}\")"
   ],
   "id": "160c804055ffa789",
   "outputs": [
    {
     "name": "stdout",
     "output_type": "stream",
     "text": [
      "Percentatge de malnut_SIN_PA: 18.37%\n",
      "Nombre d'observacions en malnut_SIN_PA: 9\n"
     ]
    }
   ],
   "execution_count": 1306
  },
  {
   "metadata": {},
   "cell_type": "markdown",
   "source": "#### Pvalor",
   "id": "a9a33b1d22344060"
  },
  {
   "metadata": {},
   "cell_type": "markdown",
   "source": "##### Normal",
   "id": "c1aa669e202aa54d"
  },
  {
   "metadata": {
    "ExecuteTime": {
     "end_time": "2024-04-19T11:02:37.266283Z",
     "start_time": "2024-04-19T11:02:37.247803Z"
    }
   },
   "cell_type": "code",
   "source": [
    "t_stat_12, p_val_12 = mannwhitneyu(CON_PA['mna_resultats'].between(24, 30), CON_PA_MECVV['mna_resultats'].between(24, 30), alternative='two-sided')\n",
    "print(\"P-valor entre norm_CON_PA i norm_CON_PA_MECVV:\", p_val_12)"
   ],
   "id": "c424d10727ebe3",
   "outputs": [
    {
     "name": "stdout",
     "output_type": "stream",
     "text": [
      "P-valor entre norm_CON_PA i norm_CON_PA_MECVV: 1.0\n"
     ]
    }
   ],
   "execution_count": 1307
  },
  {
   "metadata": {
    "ExecuteTime": {
     "end_time": "2024-04-19T11:03:18.413865Z",
     "start_time": "2024-04-19T11:03:18.396502Z"
    }
   },
   "cell_type": "code",
   "source": [
    "t_stat_13, p_val_13 = mannwhitneyu(CON_PA['mna_resultats'].between(24, 30), SIN_PA['mna_resultats'].between(24, 30), alternative='two-sided')\n",
    "print(\"P-valor entre norm_CON_PA i norm_SIN_PA:\", p_val_13)"
   ],
   "id": "ebb1848e3ef8509e",
   "outputs": [
    {
     "name": "stdout",
     "output_type": "stream",
     "text": [
      "P-valor entre norm_CON_PA i norm_SIN_PA: 1.0\n"
     ]
    }
   ],
   "execution_count": 1308
  },
  {
   "metadata": {
    "ExecuteTime": {
     "end_time": "2024-04-19T11:03:29.026444Z",
     "start_time": "2024-04-19T11:03:29.009368Z"
    }
   },
   "cell_type": "code",
   "source": [
    "t_stat_23, p_val_23 = mannwhitneyu(CON_PA_MECVV['mna_resultats'].between(24, 30), SIN_PA['mna_resultats'].between(24, 30), alternative='two-sided')\n",
    "print(\"P-valor entre norm_CON_PA_MECVV i norm_SIN_PA:\", p_val_23)"
   ],
   "id": "ec24c5a3e17d9c39",
   "outputs": [
    {
     "name": "stdout",
     "output_type": "stream",
     "text": [
      "P-valor entre norm_CON_PA_MECVV i norm_SIN_PA: 1.0\n"
     ]
    }
   ],
   "execution_count": 1309
  },
  {
   "metadata": {},
   "cell_type": "markdown",
   "source": "##### Risc de malnutrició",
   "id": "2b406b79ad8e5d31"
  },
  {
   "metadata": {
    "ExecuteTime": {
     "end_time": "2024-04-19T11:03:31.684994Z",
     "start_time": "2024-04-19T11:03:31.624139Z"
    }
   },
   "cell_type": "code",
   "source": [
    "t_stat_12, p_val_12 = mannwhitneyu(CON_PA['mna_resultats'].between(17, 23.5), CON_PA_MECVV['mna_resultats'].between(17, 23.5), alternative='two-sided')\n",
    "print(\"P-valor entre malnutr_CON_PA i malnutr_CON_PA_MECVV:\", p_val_12)"
   ],
   "id": "3a2c6f30d476106c",
   "outputs": [
    {
     "name": "stdout",
     "output_type": "stream",
     "text": [
      "P-valor entre malnutr_CON_PA i malnutr_CON_PA_MECVV: 1.0\n"
     ]
    }
   ],
   "execution_count": 1310
  },
  {
   "metadata": {
    "ExecuteTime": {
     "end_time": "2024-04-19T11:03:37.315238Z",
     "start_time": "2024-04-19T11:03:37.261038Z"
    }
   },
   "cell_type": "code",
   "source": [
    "t_stat_13, p_val_13 = mannwhitneyu(CON_PA['mna_resultats'].between(17, 23.5), SIN_PA['mna_resultats'].between(17, 23.5), alternative='two-sided')\n",
    "print(\"P-valor entre malnutr_CON_PA i malnutr_SIN_PA:\", p_val_13)"
   ],
   "id": "26dd581da1c61b2a",
   "outputs": [
    {
     "name": "stdout",
     "output_type": "stream",
     "text": [
      "P-valor entre malnutr_CON_PA i malnutr_SIN_PA: 0.5793276078637376\n"
     ]
    }
   ],
   "execution_count": 1311
  },
  {
   "metadata": {
    "ExecuteTime": {
     "end_time": "2024-04-19T11:04:18.470916Z",
     "start_time": "2024-04-19T11:04:18.447917Z"
    }
   },
   "cell_type": "code",
   "source": [
    "t_stat_23, p_val_23 = mannwhitneyu(CON_PA_MECVV['mna_resultats'].between(17, 23.5), SIN_PA['mna_resultats'].between(17, 23.5), alternative='two-sided')\n",
    "print(\"P-valor entre malnutr_CON_PA_MECVV i malnutr_SIN_PA:\", p_val_23)"
   ],
   "id": "e15a727ac84ee9b9",
   "outputs": [
    {
     "name": "stdout",
     "output_type": "stream",
     "text": [
      "P-valor entre malnutr_CON_PA_MECVV i malnutr_SIN_PA: 0.6843175494727258\n"
     ]
    }
   ],
   "execution_count": 1312
  },
  {
   "metadata": {},
   "cell_type": "markdown",
   "source": "##### Malnutrició",
   "id": "905cde52c3b826ac"
  },
  {
   "metadata": {
    "ExecuteTime": {
     "end_time": "2024-04-19T11:04:29.054327Z",
     "start_time": "2024-04-19T11:04:29.007898Z"
    }
   },
   "cell_type": "code",
   "source": [
    "t_stat_12, p_val_12 = mannwhitneyu(CON_PA['mna_resultats'] <17 , \n",
    "                                CON_PA_MECVV['mna_resultats'] < 17, alternative='two-sided')\n",
    "print(\"P-valor entre malnut_CON_PA i norm_CON_PA_MECVV:\", p_val_12)"
   ],
   "id": "72f95b8ad2e7790e",
   "outputs": [
    {
     "name": "stdout",
     "output_type": "stream",
     "text": [
      "P-valor entre malnut_CON_PA i norm_CON_PA_MECVV: 0.4120280546315189\n"
     ]
    }
   ],
   "execution_count": 1313
  },
  {
   "metadata": {
    "ExecuteTime": {
     "end_time": "2024-04-19T11:04:31.653813Z",
     "start_time": "2024-04-19T11:04:31.639927Z"
    }
   },
   "cell_type": "code",
   "source": [
    "t_stat_13, p_val_13 = mannwhitneyu(CON_PA['mna_resultats'] <17 , \n",
    "                                SIN_PA['mna_resultats'] < 17, alternative='two-sided')\n",
    "print(\"P-valor entre malnut_CON_PA i malnut_SIN_PA:\", p_val_13)"
   ],
   "id": "a93d6a6490f1b7e4",
   "outputs": [
    {
     "name": "stdout",
     "output_type": "stream",
     "text": [
      "P-valor entre malnut_CON_PA i malnut_SIN_PA: 0.6549000779898075\n"
     ]
    }
   ],
   "execution_count": 1314
  },
  {
   "metadata": {
    "ExecuteTime": {
     "end_time": "2024-04-19T11:04:37.288549Z",
     "start_time": "2024-04-19T11:04:37.273249Z"
    }
   },
   "cell_type": "code",
   "source": [
    "t_stat_23, p_val_23 = mannwhitneyu(CON_PA_MECVV['mna_resultats'] <17 , \n",
    "                                SIN_PA['mna_resultats'] < 17, alternative='two-sided')\n",
    "print(\"P-valor entre malnut_CON_PA_MECVV i malnut_SIN_PA:\", p_val_23)"
   ],
   "id": "751e44c45c324db8",
   "outputs": [
    {
     "name": "stdout",
     "output_type": "stream",
     "text": [
      "P-valor entre malnut_CON_PA_MECVV i malnut_SIN_PA: 0.5341419377112933\n"
     ]
    }
   ],
   "execution_count": 1315
  },
  {
   "metadata": {},
   "cell_type": "markdown",
   "source": "## Index de l'EMINA",
   "id": "26f61b8f17444d86"
  },
  {
   "metadata": {},
   "cell_type": "markdown",
   "source": "### Mitjana",
   "id": "5c9563929438128a"
  },
  {
   "metadata": {
    "ExecuteTime": {
     "end_time": "2024-04-19T11:05:18.504735Z",
     "start_time": "2024-04-19T11:05:18.453815Z"
    }
   },
   "cell_type": "code",
   "source": [
    "promedio_emina = CON_PA['EMINA_sumatorios_comparados'].mean()\n",
    "desviacion_estandar_emina = CON_PA['EMINA_sumatorios_comparados'].std()\n",
    "\n",
    "resultado = f\"{promedio_emina:.2f} ± {desviacion_estandar_emina:.2f}\"\n",
    "print(\"Mitjana ± Desviació Estàndard de l'emina:\", resultado)"
   ],
   "id": "6b3af33f67ee3c1c",
   "outputs": [
    {
     "name": "stdout",
     "output_type": "stream",
     "text": [
      "Mitjana ± Desviació Estàndard de la emina: 7.94 ± 3.21\n"
     ]
    }
   ],
   "execution_count": 1316
  },
  {
   "metadata": {
    "ExecuteTime": {
     "end_time": "2024-04-19T11:05:29.027971Z",
     "start_time": "2024-04-19T11:05:29.009262Z"
    }
   },
   "cell_type": "code",
   "source": [
    "promedio_emina = CON_PA_MECVV['EMINA_sumatorios_comparados'].mean()\n",
    "desviacion_estandar_emina = CON_PA_MECVV['EMINA_sumatorios_comparados'].std()\n",
    "\n",
    "resultado = f\"{promedio_emina:.2f} ± {desviacion_estandar_emina:.2f}\"\n",
    "print(\"Mitjana ± Desviació Estàndard de l'emina:\", resultado)"
   ],
   "id": "33da5d49fab96790",
   "outputs": [
    {
     "name": "stdout",
     "output_type": "stream",
     "text": [
      "Mitjana ± Desviació Estàndard de la emina: 7.60 ± 2.01\n"
     ]
    }
   ],
   "execution_count": 1317
  },
  {
   "metadata": {
    "ExecuteTime": {
     "end_time": "2024-04-19T11:46:17.032160Z",
     "start_time": "2024-04-19T11:46:17.024404Z"
    }
   },
   "cell_type": "code",
   "source": [
    "promedio_emina = SIN_PA['EMINA_sumatorios_comparados'].mean()\n",
    "desviacion_estandar_emina = SIN_PA['EMINA_sumatorios_comparados'].std()\n",
    "\n",
    "resultado = f\"{promedio_emina:.2f} ± {desviacion_estandar_emina:.2f}\"\n",
    "print(\"Mitjana ± Desviació Estàndard de l'emina:\", resultado)"
   ],
   "id": "8fdc1af6b1f3b3af",
   "outputs": [
    {
     "name": "stdout",
     "output_type": "stream",
     "text": [
      "Mitjana ± Desviació Estàndard de l'emina: 5.64 ± 4.08\n"
     ]
    }
   ],
   "execution_count": 1493
  },
  {
   "metadata": {},
   "cell_type": "markdown",
   "source": "#### Pvalor",
   "id": "71013ef3e165a551"
  },
  {
   "metadata": {},
   "cell_type": "markdown",
   "source": "##### Normalitat",
   "id": "cbd46bf1ecd0fba7"
  },
  {
   "metadata": {
    "ExecuteTime": {
     "start_time": "2024-04-19T11:46:23.770523Z"
    }
   },
   "cell_type": "code",
   "source": [
    "stat, p_value = shapiro(CON_PA['EMINA_sumatorios_comparados']).dropna()\n",
    "print(f\"Estadístic W = {stat:.4f}\")\n",
    "print(f\"Valor p = {p_value:.4f}\")\n",
    "\n",
    "alpha = 0.05\n",
    "if p_value < alpha:\n",
    "    print(\"El nombre de files no segueix una distribució normal.\")\n",
    "else:\n",
    "    print(\"El nombre de files segueix una distribució normal.\")"
   ],
   "id": "8c2f6048f748604a",
   "outputs": [],
   "execution_count": null
  },
  {
   "metadata": {
    "ExecuteTime": {
     "end_time": "2024-04-19T11:46:23.856744Z",
     "start_time": "2024-04-19T11:46:23.856744Z"
    }
   },
   "cell_type": "code",
   "source": [
    "stat, p_value = shapiro(CON_PA_MECVV['EMINA_sumatorios_comparados']).dropna()\n",
    "print(f\"Estadístic W = {stat:.4f}\")\n",
    "print(f\"Valor p = {p_value:.4f}\")\n",
    "\n",
    "alpha = 0.05\n",
    "if p_value < alpha:\n",
    "    print(\"El nombre de files no segueix una distribució normal.\")\n",
    "else:\n",
    "    print(\"El nombre de files segueix una distribució normal.\")"
   ],
   "id": "2bf3afd16f2027c6",
   "outputs": [],
   "execution_count": null
  },
  {
   "metadata": {
    "ExecuteTime": {
     "end_time": "2024-04-19T11:46:23.856744Z",
     "start_time": "2024-04-19T11:46:23.856744Z"
    }
   },
   "cell_type": "code",
   "source": [
    "stat, p_value = shapiro(SIN_PA['EMINA_sumatorios_comparados']).dropna()\n",
    "print(f\"Estadístic W = {stat:.4f}\")\n",
    "print(f\"Valor p = {p_value:.4f}\")\n",
    "\n",
    "alpha = 0.05\n",
    "if p_value < alpha:\n",
    "    print(\"El nombre de files no segueix una distribució normal.\")\n",
    "else:\n",
    "    print(\"El nombre de files segueix una distribució normal.\")"
   ],
   "id": "35d52c1d08eae392",
   "outputs": [],
   "execution_count": null
  },
  {
   "metadata": {
    "ExecuteTime": {
     "end_time": "2024-04-19T11:06:31.711318Z",
     "start_time": "2024-04-19T11:06:31.689533Z"
    }
   },
   "cell_type": "code",
   "source": [
    "t_stat_12, p_val_12 = ttest_ind(CON_PA['EMINA_sumatorios_comparados'], CON_PA_MECVV['EMINA_sumatorios_comparados'], equal_var=False)\n",
    "print(\"P-valor entre CON_PA i CON_PA_MECVV:\", p_val_12)"
   ],
   "id": "19c464a0afea8bee",
   "outputs": [
    {
     "name": "stdout",
     "output_type": "stream",
     "text": [
      "P-valor entre CON_PA i CON_PA_MECVV: 0.7372065144531302\n"
     ]
    }
   ],
   "execution_count": 1322
  },
  {
   "metadata": {
    "ExecuteTime": {
     "end_time": "2024-04-19T11:06:37.343282Z",
     "start_time": "2024-04-19T11:06:37.333198Z"
    }
   },
   "cell_type": "code",
   "source": [
    "t_stat_13, p_val_13 = ttest_ind(CON_PA['EMINA_sumatorios_comparados'], SIN_PA['EMINA_sumatorios_comparados'], equal_var=False)\n",
    "print(\"P-valor entre CON_PA i SIN_PA:\", p_val_13)"
   ],
   "id": "987f92dcb16d57e2",
   "outputs": [
    {
     "name": "stdout",
     "output_type": "stream",
     "text": [
      "P-valor entre CON_PA i SIN_PA: nan\n"
     ]
    }
   ],
   "execution_count": 1323
  },
  {
   "metadata": {
    "ExecuteTime": {
     "end_time": "2024-04-19T11:07:18.487465Z",
     "start_time": "2024-04-19T11:07:18.467872Z"
    }
   },
   "cell_type": "code",
   "source": [
    "t_stat_23, p_val_23 = ttest_ind(CON_PA_MECVV['EMINA_sumatorios_comparados'], SIN_PA['EMINA_sumatorios_comparados'], equal_var=False)\n",
    "print(\"P-valor entre CON_PA_MECVV i SIN_PA:\", p_val_23)"
   ],
   "id": "368fa9440dab1343",
   "outputs": [
    {
     "name": "stdout",
     "output_type": "stream",
     "text": [
      "P-valor entre CON_PA_MECVV i SIN_PA: nan\n"
     ]
    }
   ],
   "execution_count": 1324
  },
  {
   "metadata": {},
   "cell_type": "markdown",
   "source": "### Valors EMINA",
   "id": "fe44c5a2a9a5c364"
  },
  {
   "metadata": {},
   "cell_type": "markdown",
   "source": "##### CON_PA",
   "id": "b86ec7ed9e5b32ef"
  },
  {
   "metadata": {
    "ExecuteTime": {
     "end_time": "2024-04-19T11:07:29.092955Z",
     "start_time": "2024-04-19T11:07:29.033708Z"
    }
   },
   "cell_type": "code",
   "source": [
    "lowr_CON_PA = CON_PA['EMINA_sumatorios_comparados'].between(0, 5)\n",
    "Percentatge_lowr_CON_PA = lowr_CON_PA.mean() * 100\n",
    "num_observaciones_lowr_CON_PA = lowr_CON_PA.sum()\n",
    "\n",
    "print(f\"Percentatge de lowr_CON_PA: {Percentatge_lowr_CON_PA:.2f}%\")\n",
    "print(f\"Nombre d'observacions en lowr_CON_PA: {num_observaciones_lowr_CON_PA}\")"
   ],
   "id": "86d6a7c6920067a1",
   "outputs": [
    {
     "name": "stdout",
     "output_type": "stream",
     "text": [
      "Percentatge de lowr_CON_PA: 17.65%\n",
      "Nombre d'observacions en lowr_CON_PA: 3\n"
     ]
    }
   ],
   "execution_count": 1325
  },
  {
   "metadata": {
    "ExecuteTime": {
     "end_time": "2024-04-19T11:07:31.686306Z",
     "start_time": "2024-04-19T11:07:31.669493Z"
    }
   },
   "cell_type": "code",
   "source": [
    "modr_CON_PA = CON_PA['EMINA_sumatorios_comparados'].between(6, 10)\n",
    "Percentatge_modr_CON_PA = modr_CON_PA.mean() * 100\n",
    "num_observaciones_modr_CON_PA = modr_CON_PA.sum()\n",
    "\n",
    "print(f\"Percentatge de modr_CON_PA: {Percentatge_modr_CON_PA:.2f}%\")\n",
    "print(f\"Nombre d'observacions en modr_CON_PA: {num_observaciones_modr_CON_PA}\")"
   ],
   "id": "e83559c6b51c4aba",
   "outputs": [
    {
     "name": "stdout",
     "output_type": "stream",
     "text": [
      "Percentatge de modr_CON_PA: 64.71%\n",
      "Nombre d'observacions en modr_CON_PA: 11\n"
     ]
    }
   ],
   "execution_count": 1326
  },
  {
   "metadata": {
    "ExecuteTime": {
     "end_time": "2024-04-19T11:07:37.361129Z",
     "start_time": "2024-04-19T11:07:37.308822Z"
    }
   },
   "cell_type": "code",
   "source": [
    "highr_CON_PA = CON_PA['EMINA_sumatorios_comparados'].between(11, 15)\n",
    "Percentatge_highr_CON_PA = highr_CON_PA.mean() * 100\n",
    "num_observaciones_highr_CON_PA = highr_CON_PA.sum()\n",
    "\n",
    "print(f\"Percentatge de highr_CON_PA: {Percentatge_highr_CON_PA:.2f}%\")\n",
    "print(f\"Nombre d'observacions en highr_CON_PA: {num_observaciones_highr_CON_PA}\")"
   ],
   "id": "65093dd3b95effd9",
   "outputs": [
    {
     "name": "stdout",
     "output_type": "stream",
     "text": [
      "Percentatge de highr_CON_PA: 17.65%\n",
      "Nombre d'observacions en highr_CON_PA: 3\n"
     ]
    }
   ],
   "execution_count": 1327
  },
  {
   "metadata": {},
   "cell_type": "markdown",
   "source": "##### CON_PA_MECVV",
   "id": "3b6e67f92fff0a50"
  },
  {
   "metadata": {
    "ExecuteTime": {
     "end_time": "2024-04-19T11:08:18.529330Z",
     "start_time": "2024-04-19T11:08:18.520074Z"
    }
   },
   "cell_type": "code",
   "source": [
    "lowr_CON_PA_MECVV = CON_PA_MECVV['EMINA_sumatorios_comparados'].between(0, 5)\n",
    "Percentatge_lowr_CON_PA_MECVV = lowr_CON_PA_MECVV.mean() * 100\n",
    "num_observaciones_lowr_CON_PA_MECVV = lowr_CON_PA_MECVV.sum()\n",
    "\n",
    "print(f\"Percentatge de lowr_CON_PA_MECVV: {Percentatge_lowr_CON_PA_MECVV:.2f}%\")\n",
    "print(f\"Nombre d'observacions en lowr_CON_PA_MECVV: {num_observaciones_lowr_CON_PA_MECVV}\")"
   ],
   "id": "adaaabe63e2f49be",
   "outputs": [
    {
     "name": "stdout",
     "output_type": "stream",
     "text": [
      "Percentatge de lowr_CON_PA_MECVV: 20.00%\n",
      "Nombre d'observacions en lowr_CON_PA_MECVV: 2\n"
     ]
    }
   ],
   "execution_count": 1328
  },
  {
   "metadata": {
    "ExecuteTime": {
     "end_time": "2024-04-19T11:08:29.079318Z",
     "start_time": "2024-04-19T11:08:29.063771Z"
    }
   },
   "cell_type": "code",
   "source": [
    "modr_CON_PA_MECVV = CON_PA_MECVV['EMINA_sumatorios_comparados'].between(6, 10)\n",
    "Percentatge_modr_CON_PA_MECVV = modr_CON_PA_MECVV.mean() * 100\n",
    "num_observaciones_modr_CON_PA_MECVV = modr_CON_PA_MECVV.sum()\n",
    "\n",
    "print(f\"Percentatge de modr_CON_PA_MECVV: {Percentatge_modr_CON_PA_MECVV:.2f}%\")\n",
    "print(f\"Nombre d'observacions en modr_CON_PA_MECVV: {num_observaciones_modr_CON_PA_MECVV}\")"
   ],
   "id": "2d28ddd8a3cf1676",
   "outputs": [
    {
     "name": "stdout",
     "output_type": "stream",
     "text": [
      "Percentatge de modr_CON_PA_MECVV: 80.00%\n",
      "Nombre d'observacions en modr_CON_PA_MECVV: 8\n"
     ]
    }
   ],
   "execution_count": 1329
  },
  {
   "metadata": {
    "ExecuteTime": {
     "end_time": "2024-04-19T11:08:31.718106Z",
     "start_time": "2024-04-19T11:08:31.701613Z"
    }
   },
   "cell_type": "code",
   "source": [
    "highr_CON_PA_MECVV = CON_PA_MECVV['EMINA_sumatorios_comparados'].between(11, 15)\n",
    "Percentatge_highr_CON_PA_MECVV = highr_CON_PA_MECVV.mean() * 100\n",
    "num_observaciones_highr_CON_PA_MECVV = highr_CON_PA_MECVV.sum()\n",
    "\n",
    "print(f\"Percentatge de highr_CON_PA_MECVV: {Percentatge_highr_CON_PA_MECVV:.2f}%\")\n",
    "print(f\"Nombre d'observacions en highr_CON_PA_MECVV: {num_observaciones_highr_CON_PA_MECVV}\")"
   ],
   "id": "fb4f6e91c54399f1",
   "outputs": [
    {
     "name": "stdout",
     "output_type": "stream",
     "text": [
      "Percentatge de highr_CON_PA_MECVV: 0.00%\n",
      "Nombre d'observacions en highr_CON_PA_MECVV: 0\n"
     ]
    }
   ],
   "execution_count": 1330
  },
  {
   "metadata": {},
   "cell_type": "markdown",
   "source": "##### SIN_PA",
   "id": "d04271a0bc855edb"
  },
  {
   "metadata": {
    "ExecuteTime": {
     "end_time": "2024-04-19T11:08:37.335318Z",
     "start_time": "2024-04-19T11:08:37.321002Z"
    }
   },
   "cell_type": "code",
   "source": [
    "lowr_SIN_PA = SIN_PA['EMINA_sumatorios_comparados'].between(0, 5)\n",
    "Percentatge_lowr_SIN_PA = lowr_SIN_PA.mean() * 100\n",
    "num_observaciones_lowr_SIN_PA = lowr_SIN_PA.sum()\n",
    "\n",
    "print(f\"Percentatge de lowr_SIN_PA: {Percentatge_lowr_SIN_PA:.2f}%\")\n",
    "print(f\"Nombre d'observacions en lowr_SIN_PA: {num_observaciones_lowr_SIN_PA}\")"
   ],
   "id": "cc1245eef9c28b6a",
   "outputs": [
    {
     "name": "stdout",
     "output_type": "stream",
     "text": [
      "Percentatge de lowr_SIN_PA: 44.90%\n",
      "Nombre d'observacions en lowr_SIN_PA: 22\n"
     ]
    }
   ],
   "execution_count": 1331
  },
  {
   "metadata": {
    "ExecuteTime": {
     "end_time": "2024-04-19T11:09:18.504201Z",
     "start_time": "2024-04-19T11:09:18.488802Z"
    }
   },
   "cell_type": "code",
   "source": [
    "modr_SIN_PA = SIN_PA['EMINA_sumatorios_comparados'].between(6, 10)\n",
    "Percentatge_modr_SIN_PA = modr_SIN_PA.mean() * 100\n",
    "num_observaciones_modr_SIN_PA = modr_SIN_PA.sum()\n",
    "\n",
    "print(f\"Percentatge de modr_SIN_PA: {Percentatge_modr_SIN_PA:.2f}%\")\n",
    "print(f\"Nombre d'observacions en modr_SIN_PA: {num_observaciones_modr_SIN_PA}\")"
   ],
   "id": "7761893615ad9180",
   "outputs": [
    {
     "name": "stdout",
     "output_type": "stream",
     "text": [
      "Percentatge de modr_SIN_PA: 40.82%\n",
      "Nombre d'observacions en modr_SIN_PA: 20\n"
     ]
    }
   ],
   "execution_count": 1332
  },
  {
   "metadata": {
    "ExecuteTime": {
     "end_time": "2024-04-19T11:09:29.121993Z",
     "start_time": "2024-04-19T11:09:29.069733Z"
    }
   },
   "cell_type": "code",
   "source": [
    "highr_SIN_PA = SIN_PA['EMINA_sumatorios_comparados'].between(11, 15)\n",
    "Percentatge_highr_SIN_PA = highr_SIN_PA.mean() * 100\n",
    "num_observaciones_highr_SIN_PA = highr_SIN_PA.sum()\n",
    "\n",
    "print(f\"Percentatge de highr_SIN_PA: {Percentatge_highr_SIN_PA:.2f}%\")\n",
    "print(f\"Nombre d'observacions en highr_SIN_PA: {num_observaciones_highr_SIN_PA}\")"
   ],
   "id": "b7b73c45237d7dc5",
   "outputs": [
    {
     "name": "stdout",
     "output_type": "stream",
     "text": [
      "Percentatge de highr_SIN_PA: 10.20%\n",
      "Nombre d'observacions en highr_SIN_PA: 5\n"
     ]
    }
   ],
   "execution_count": 1333
  },
  {
   "metadata": {},
   "cell_type": "markdown",
   "source": "#### Pvalor ",
   "id": "3baa7d3e12fb1cc"
  },
  {
   "metadata": {},
   "cell_type": "markdown",
   "source": "##### Risc baix",
   "id": "a0332f1a5433e16"
  },
  {
   "metadata": {
    "ExecuteTime": {
     "end_time": "2024-04-19T11:09:31.775117Z",
     "start_time": "2024-04-19T11:09:31.717420Z"
    }
   },
   "cell_type": "code",
   "source": [
    "t_stat_12, p_val_12 = ttest_ind(CON_PA['EMINA_sumatorios_comparados'].between(0,5), CON_PA_MECVV['EMINA_sumatorios_comparados'].between(0,5), equal_var=False)\n",
    "print(\"P-valor entre CON_PA i CON_PA_MECVV:\", p_val_12)"
   ],
   "id": "a4c504c10fa639c8",
   "outputs": [
    {
     "name": "stdout",
     "output_type": "stream",
     "text": [
      "P-valor entre CON_PA i CON_PA_MECVV: 0.8874457485314164\n"
     ]
    }
   ],
   "execution_count": 1334
  },
  {
   "metadata": {
    "ExecuteTime": {
     "end_time": "2024-04-19T11:09:37.388279Z",
     "start_time": "2024-04-19T11:09:37.340671Z"
    }
   },
   "cell_type": "code",
   "source": [
    "t_stat_13, p_val_13 = ttest_ind(CON_PA['EMINA_sumatorios_comparados'].between(0,5), SIN_PA['EMINA_sumatorios_comparados'].between(0,5), equal_var=False)\n",
    "print(\"P-valor entre CON_PA i SIN_PA:\", p_val_13)"
   ],
   "id": "ac1ec771898cce9b",
   "outputs": [
    {
     "name": "stdout",
     "output_type": "stream",
     "text": [
      "P-valor entre CON_PA i SIN_PA: 0.028470032037651503\n"
     ]
    }
   ],
   "execution_count": 1335
  },
  {
   "metadata": {
    "ExecuteTime": {
     "end_time": "2024-04-19T11:10:18.528226Z",
     "start_time": "2024-04-19T11:10:18.501299Z"
    }
   },
   "cell_type": "code",
   "source": [
    "t_stat_23, p_val_23 = ttest_ind(CON_PA_MECVV['EMINA_sumatorios_comparados'].between(0,5), SIN_PA['EMINA_sumatorios_comparados'].between(0,5), equal_var=False)\n",
    "print(\"P-valor entre CON_PA_MECVV i SIN_PA:\", p_val_23)"
   ],
   "id": "85095f67777cc3d1",
   "outputs": [
    {
     "name": "stdout",
     "output_type": "stream",
     "text": [
      "P-valor entre CON_PA_MECVV i SIN_PA: 0.12129243251471264\n"
     ]
    }
   ],
   "execution_count": 1336
  },
  {
   "metadata": {},
   "cell_type": "markdown",
   "source": "##### Risc moderat",
   "id": "bc56bb9041c8190"
  },
  {
   "metadata": {
    "ExecuteTime": {
     "end_time": "2024-04-19T11:10:29.138387Z",
     "start_time": "2024-04-19T11:10:29.089513Z"
    }
   },
   "cell_type": "code",
   "source": [
    "t_stat_12, p_val_12 = ttest_ind(CON_PA['EMINA_sumatorios_comparados'].between(6,10), CON_PA_MECVV['EMINA_sumatorios_comparados'].between(6,10), equal_var=False)\n",
    "print(\"P-valor entre CON_PA i CON_PA_MECVV:\", p_val_12)"
   ],
   "id": "3b06f7bb9555b9c8",
   "outputs": [
    {
     "name": "stdout",
     "output_type": "stream",
     "text": [
      "P-valor entre CON_PA i CON_PA_MECVV: 0.40237952012988454\n"
     ]
    }
   ],
   "execution_count": 1337
  },
  {
   "metadata": {
    "ExecuteTime": {
     "end_time": "2024-04-19T11:10:31.756561Z",
     "start_time": "2024-04-19T11:10:31.738187Z"
    }
   },
   "cell_type": "code",
   "source": [
    "t_stat_13, p_val_13 = ttest_ind(CON_PA['EMINA_sumatorios_comparados'].between(6,10), SIN_PA['EMINA_sumatorios_comparados'].between(6,10), equal_var=False)\n",
    "print(\"P-valor entre CON_PA i SIN_PA:\", p_val_13)"
   ],
   "id": "6bc38a3f8e4cb31c",
   "outputs": [
    {
     "name": "stdout",
     "output_type": "stream",
     "text": [
      "P-valor entre CON_PA i SIN_PA: 0.09654829012396034\n"
     ]
    }
   ],
   "execution_count": 1338
  },
  {
   "metadata": {
    "ExecuteTime": {
     "end_time": "2024-04-19T11:10:37.367612Z",
     "start_time": "2024-04-19T11:10:37.340110Z"
    }
   },
   "cell_type": "code",
   "source": [
    "t_stat_23, p_val_23 = ttest_ind(CON_PA_MECVV['EMINA_sumatorios_comparados'].between(6,10), SIN_PA['EMINA_sumatorios_comparados'].between(6,10), equal_var=False)\n",
    "print(\"P-valor entre CON_PA_MECVV i SIN_PA:\", p_val_23)"
   ],
   "id": "5724be35a0f2dd6a",
   "outputs": [
    {
     "name": "stdout",
     "output_type": "stream",
     "text": [
      "P-valor entre CON_PA_MECVV i SIN_PA: 0.02066325652755892\n"
     ]
    }
   ],
   "execution_count": 1339
  },
  {
   "metadata": {},
   "cell_type": "markdown",
   "source": "##### Risc alt",
   "id": "5fd7cd0228563415"
  },
  {
   "metadata": {
    "ExecuteTime": {
     "end_time": "2024-04-19T11:11:18.562425Z",
     "start_time": "2024-04-19T11:11:18.548439Z"
    }
   },
   "cell_type": "code",
   "source": [
    "t_stat_12, p_val_12 = ttest_ind(CON_PA['EMINA_sumatorios_comparados'].between(11,15), CON_PA_MECVV['EMINA_sumatorios_comparados'].between(11,15), equal_var=False)\n",
    "print(\"P-valor entre CON_PA i CON_PA_MECVV:\", p_val_12)"
   ],
   "id": "b291b49b7cfd7801",
   "outputs": [
    {
     "name": "stdout",
     "output_type": "stream",
     "text": [
      "P-valor entre CON_PA i CON_PA_MECVV: 0.08262239198015026\n"
     ]
    }
   ],
   "execution_count": 1340
  },
  {
   "metadata": {
    "ExecuteTime": {
     "end_time": "2024-04-19T11:11:29.119873Z",
     "start_time": "2024-04-19T11:11:29.101785Z"
    }
   },
   "cell_type": "code",
   "source": [
    "t_stat_13, p_val_13 = ttest_ind(CON_PA['EMINA_sumatorios_comparados'].between(11,15), SIN_PA['EMINA_sumatorios_comparados'].between(11,15), equal_var=False)\n",
    "print(\"P-valor entre CON_PA i SIN_PA:\", p_val_13)"
   ],
   "id": "2d400de538a5c526",
   "outputs": [
    {
     "name": "stdout",
     "output_type": "stream",
     "text": [
      "P-valor entre CON_PA i SIN_PA: 0.48486212369214565\n"
     ]
    }
   ],
   "execution_count": 1341
  },
  {
   "metadata": {
    "ExecuteTime": {
     "end_time": "2024-04-19T11:11:31.808249Z",
     "start_time": "2024-04-19T11:11:31.753825Z"
    }
   },
   "cell_type": "code",
   "source": [
    "t_stat_23, p_val_23 = ttest_ind(CON_PA_MECVV['EMINA_sumatorios_comparados'].between(11,15), SIN_PA['EMINA_sumatorios_comparados'].between(11,15), equal_var=False)\n",
    "print(\"P-valor entre CON_PA_MECVV i SIN_PA:\", p_val_23)"
   ],
   "id": "3b22981463d49b29",
   "outputs": [
    {
     "name": "stdout",
     "output_type": "stream",
     "text": [
      "P-valor entre CON_PA_MECVV i SIN_PA: 0.02374418239053046\n"
     ]
    }
   ],
   "execution_count": 1342
  },
  {
   "metadata": {},
   "cell_type": "markdown",
   "source": "## Index de la canadenca ",
   "id": "5056539fa7987019"
  },
  {
   "metadata": {},
   "cell_type": "markdown",
   "source": "### Mitjana",
   "id": "de9fe3b93db47a5d"
  },
  {
   "metadata": {
    "ExecuteTime": {
     "end_time": "2024-04-19T11:11:37.364791Z",
     "start_time": "2024-04-19T11:11:37.351199Z"
    }
   },
   "cell_type": "code",
   "source": [
    "promedio_canad = CON_PA['Canadenca_sumatorios_comparados'].mean()\n",
    "desviacion_estandar_canad = CON_PA['Canadenca_sumatorios_comparados'].std()\n",
    "\n",
    "resultado = f\"{promedio_canad:.2f} ± {desviacion_estandar_canad:.2f}\"\n",
    "print(\"Mitjana ± Desviació Estàndard de la canadenca:\", resultado)"
   ],
   "id": "f315485a25330ace",
   "outputs": [
    {
     "name": "stdout",
     "output_type": "stream",
     "text": [
      "Mitjana ± Desviació Estàndard de la canadenca: 7.00 ± nan\n"
     ]
    }
   ],
   "execution_count": 1343
  },
  {
   "metadata": {
    "ExecuteTime": {
     "end_time": "2024-04-19T11:12:18.537025Z",
     "start_time": "2024-04-19T11:12:18.518917Z"
    }
   },
   "cell_type": "code",
   "source": [
    "promedio_canad = CON_PA_MECVV['Canadenca_sumatorios_comparados'].mean()\n",
    "desviacion_estandar_canad = CON_PA_MECVV['Canadenca_sumatorios_comparados'].std()\n",
    "\n",
    "resultado = f\"{promedio_canad:.2f} ± {desviacion_estandar_canad:.2f}\"\n",
    "print(\"Mitjana ± Desviació Estàndard de la canadenca:\", resultado)"
   ],
   "id": "42578915c64daa4c",
   "outputs": [
    {
     "name": "stdout",
     "output_type": "stream",
     "text": [
      "Mitjana ± Desviació Estàndard de la canadenca: 7.00 ± nan\n"
     ]
    }
   ],
   "execution_count": 1344
  },
  {
   "metadata": {
    "ExecuteTime": {
     "end_time": "2024-04-19T11:12:29.124397Z",
     "start_time": "2024-04-19T11:12:29.114514Z"
    }
   },
   "cell_type": "code",
   "source": [
    "promedio_canad = SIN_PA['Canadenca_sumatorios_comparados'].mean()\n",
    "desviacion_estandar_canad = SIN_PA['Canadenca_sumatorios_comparados'].std()\n",
    "\n",
    "resultado = f\"{promedio_canad:.2f} ± {desviacion_estandar_canad:.2f}\"\n",
    "print(\"Mitjana ± Desviació Estàndard de la canadenca:\", resultado)"
   ],
   "id": "28244115d66ef30d",
   "outputs": [
    {
     "name": "stdout",
     "output_type": "stream",
     "text": [
      "Mitjana ± Desviació Estàndard de la canadenca: 8.00 ± 1.41\n"
     ]
    }
   ],
   "execution_count": 1345
  },
  {
   "metadata": {},
   "cell_type": "markdown",
   "source": "#### Pvalor",
   "id": "6354bda0e179eb04"
  },
  {
   "metadata": {},
   "cell_type": "markdown",
   "source": "##### Normalitat",
   "id": "938ad17a698e9c0c"
  },
  {
   "metadata": {},
   "cell_type": "code",
   "outputs": [],
   "execution_count": null,
   "source": [
    "stat, p_value = shapiro(CON_PA['Canadenca_sumatorios_comparados']).dropna()\n",
    "print(f\"Estadístic W = {stat:.4f}\")\n",
    "print(f\"Valor p = {p_value:.4f}\")\n",
    "\n",
    "alpha = 0.05\n",
    "if p_value < alpha:\n",
    "    print(\"El nombre de files no segueix una distribució normal.\")\n",
    "else:\n",
    "    print(\"El nombre de files segueix una distribució normal.\")"
   ],
   "id": "a4c87af407fd3808"
  },
  {
   "metadata": {},
   "cell_type": "code",
   "outputs": [],
   "execution_count": null,
   "source": [
    "stat, p_value = shapiro(CON_PA_MECVV['Canadenca_sumatorios_comparados']).dropna()\n",
    "print(f\"Estadístic W = {stat:.4f}\")\n",
    "print(f\"Valor p = {p_value:.4f}\")\n",
    "\n",
    "alpha = 0.05\n",
    "if p_value < alpha:\n",
    "    print(\"El nombre de files no segueix una distribució normal.\")\n",
    "else:\n",
    "    print(\"El nombre de files segueix una distribució normal.\")"
   ],
   "id": "dcf3d0c7212275ae"
  },
  {
   "metadata": {},
   "cell_type": "code",
   "outputs": [],
   "execution_count": null,
   "source": [
    "stat, p_value = shapiro(SIN_PA['Canadenca_sumatorios_comparados']).dropna()\n",
    "print(f\"Estadístic W = {stat:.4f}\")\n",
    "print(f\"Valor p = {p_value:.4f}\")\n",
    "\n",
    "alpha = 0.05\n",
    "if p_value < alpha:\n",
    "    print(\"El nombre de files no segueix una distribució normal.\")\n",
    "else:\n",
    "    print(\"El nombre de files segueix una distribució normal.\")"
   ],
   "id": "8da47ac594412fe2"
  },
  {
   "metadata": {},
   "cell_type": "markdown",
   "source": "#TODO: modificar esto si siguen normalidad",
   "id": "d17bdc0bf79ec1a7"
  },
  {
   "metadata": {
    "ExecuteTime": {
     "end_time": "2024-04-19T11:12:31.820144Z",
     "start_time": "2024-04-19T11:12:31.809757Z"
    }
   },
   "cell_type": "code",
   "source": [
    "t_stat_12, p_val_12 = mannwhitneyu(CON_PA['Canadenca_sumatorios_comparados'], CON_PA_MECVV['Canadenca_sumatorios_comparados'], alternative='two-sided')\n",
    "print(\"P-valor entre CON_PA i CON_PA_MECVV:\", p_val_12)"
   ],
   "id": "607d662547537bd",
   "outputs": [
    {
     "name": "stdout",
     "output_type": "stream",
     "text": [
      "P-valor entre CON_PA i CON_PA_MECVV: nan\n"
     ]
    }
   ],
   "execution_count": 1346
  },
  {
   "metadata": {
    "ExecuteTime": {
     "end_time": "2024-04-19T11:12:37.371578Z",
     "start_time": "2024-04-19T11:12:37.357460Z"
    }
   },
   "cell_type": "code",
   "source": [
    "t_stat_13, p_val_13 = mannwhitneyu(CON_PA['Canadenca_sumatorios_comparados'], SIN_PA['Canadenca_sumatorios_comparados'], alternative='two-sided')\n",
    "print(\"P-valor entre CON_PA i SIN_PA:\", p_val_13)"
   ],
   "id": "9e5b0ff4c887dbfd",
   "outputs": [
    {
     "name": "stdout",
     "output_type": "stream",
     "text": [
      "P-valor entre CON_PA i SIN_PA: nan\n"
     ]
    }
   ],
   "execution_count": 1347
  },
  {
   "metadata": {
    "ExecuteTime": {
     "end_time": "2024-04-19T11:13:18.541745Z",
     "start_time": "2024-04-19T11:13:18.534310Z"
    }
   },
   "cell_type": "code",
   "source": [
    "t_stat_23, p_val_23 = ttest_ind(CON_PA_MECVV['Canadenca_sumatorios_comparados'], SIN_PA['Canadenca_sumatorios_comparados'], alternative='two-sided')\n",
    "print(\"P-valor entre CON_PA_MECVV i SIN_PA:\", p_val_23)"
   ],
   "id": "1ea57b7e52ab052d",
   "outputs": [
    {
     "name": "stdout",
     "output_type": "stream",
     "text": [
      "P-valor entre CON_PA_MECVV i SIN_PA: nan\n"
     ]
    }
   ],
   "execution_count": 1348
  },
  {
   "metadata": {},
   "cell_type": "markdown",
   "source": "### Valors canadenca",
   "id": "bd3bf859cf9f0c4c"
  },
  {
   "metadata": {},
   "cell_type": "markdown",
   "source": "##### CON_PA ",
   "id": "aba9b47507424343"
  },
  {
   "metadata": {
    "ExecuteTime": {
     "end_time": "2024-04-19T11:13:29.177486Z",
     "start_time": "2024-04-19T11:13:29.124578Z"
    }
   },
   "cell_type": "code",
   "source": [
    "mild_CON_PA = CON_PA['Canadenca_sumatorios_comparados'].between(10.5, 11.5)\n",
    "Percentatge_mild_CON_PA = mild_CON_PA.mean() * 100\n",
    "num_observaciones_mild_CON_PA = mild_CON_PA.sum()\n",
    "\n",
    "print(f\"Percentatge de mild_CON_PA: {Percentatge_mild_CON_PA:.2f}%\")\n",
    "print(f\"Nombre d'observacions en mild_CON_PA: {num_observaciones_mild_CON_PA}\")"
   ],
   "id": "65c87765592301ae",
   "outputs": [
    {
     "name": "stdout",
     "output_type": "stream",
     "text": [
      "Percentatge de mild_CON_PA: 0.00%\n",
      "Nombre d'observacions en mild_CON_PA: 0\n"
     ]
    }
   ],
   "execution_count": 1349
  },
  {
   "metadata": {
    "ExecuteTime": {
     "end_time": "2024-04-19T11:13:31.883826Z",
     "start_time": "2024-04-19T11:13:31.866400Z"
    }
   },
   "cell_type": "code",
   "source": [
    "modneu_CON_PA = CON_PA['Canadenca_sumatorios_comparados'].between(5,10)\n",
    "Percentatge_modneu_CON_PA = modneu_CON_PA.mean() * 100\n",
    "num_observaciones_modneu_CON_PA = modneu_CON_PA.sum()\n",
    "\n",
    "print(f\"Percentatge de modneu_CON_PA: {Percentatge_modneu_CON_PA:.2f}%\")\n",
    "print(f\"Nombre d'observacions en modneu_CON_PA: {num_observaciones_modneu_CON_PA}\")"
   ],
   "id": "1442231e84ac756e",
   "outputs": [
    {
     "name": "stdout",
     "output_type": "stream",
     "text": [
      "Percentatge de modneu_CON_PA: 5.88%\n",
      "Nombre d'observacions en modneu_CON_PA: 1\n"
     ]
    }
   ],
   "execution_count": 1350
  },
  {
   "metadata": {
    "ExecuteTime": {
     "end_time": "2024-04-19T11:13:37.384556Z",
     "start_time": "2024-04-19T11:13:37.364757Z"
    }
   },
   "cell_type": "code",
   "source": [
    "sevneu_CON_PA = CON_PA['Canadenca_sumatorios_comparados'].between(1.5, 4.5)\n",
    "Percentatge_sevneu_CON_PA = sevneu_CON_PA.mean() * 100\n",
    "num_observaciones_sevneu_CON_PA = sevneu_CON_PA.sum()\n",
    "\n",
    "print(f\"Percentatge de sevneu_CON_PA: {Percentatge_sevneu_CON_PA:.2f}%\")\n",
    "print(f\"Nombre d'observacions en sevneu_CON_PA: {num_observaciones_sevneu_CON_PA}\")"
   ],
   "id": "586734927dd28815",
   "outputs": [
    {
     "name": "stdout",
     "output_type": "stream",
     "text": [
      "Percentatge de sevneu_CON_PA: 0.00%\n",
      "Nombre d'observacions en sevneu_CON_PA: 0\n"
     ]
    }
   ],
   "execution_count": 1351
  },
  {
   "metadata": {},
   "cell_type": "markdown",
   "source": "##### CON_PA_MECVV",
   "id": "f03643daf5c46168"
  },
  {
   "metadata": {
    "ExecuteTime": {
     "end_time": "2024-04-19T11:14:18.582641Z",
     "start_time": "2024-04-19T11:14:18.555642Z"
    }
   },
   "cell_type": "code",
   "source": [
    "mild_CON_PA_MECVV = CON_PA_MECVV['Canadenca_sumatorios_comparados'].between(10.5, 11.5)\n",
    "Percentatge_mild_CON_PA_MECVV = mild_CON_PA_MECVV.mean() * 100\n",
    "num_observaciones_mild_CON_PA_MECVV = mild_CON_PA_MECVV.sum()\n",
    "\n",
    "print(f\"Percentatge de mild_CON_PA_MECVV: {Percentatge_mild_CON_PA_MECVV:.2f}%\")\n",
    "print(f\"Nombre d'observacions en mild_CON_PA_MECVV: {num_observaciones_mild_CON_PA_MECVV}\")"
   ],
   "id": "57347bcca5478fa7",
   "outputs": [
    {
     "name": "stdout",
     "output_type": "stream",
     "text": [
      "Percentatge de mild_CON_PA_MECVV: 0.00%\n",
      "Nombre d'observacions en mild_CON_PA_MECVV: 0\n"
     ]
    }
   ],
   "execution_count": 1352
  },
  {
   "metadata": {
    "ExecuteTime": {
     "end_time": "2024-04-19T11:14:29.154734Z",
     "start_time": "2024-04-19T11:14:29.139686Z"
    }
   },
   "cell_type": "code",
   "source": [
    "modneu_CON_PA_MECVV = CON_PA_MECVV['Canadenca_sumatorios_comparados'].between(5,10)\n",
    "Percentatge_modneu_CON_PA_MECVV = modneu_CON_PA_MECVV.mean() * 100\n",
    "num_observaciones_modneu_CON_PA_MECVV = modneu_CON_PA_MECVV.sum()\n",
    "\n",
    "print(f\"Percentatge de modneu_CON_PA_MECVV: {Percentatge_modneu_CON_PA_MECVV:.2f}%\")\n",
    "print(f\"Nombre d'observacions en modneu_CON_PA_MECVV: {num_observaciones_modneu_CON_PA_MECVV}\")"
   ],
   "id": "be2a9404e79e283",
   "outputs": [
    {
     "name": "stdout",
     "output_type": "stream",
     "text": [
      "Percentatge de modneu_CON_PA_MECVV: 10.00%\n",
      "Nombre d'observacions en modneu_CON_PA_MECVV: 1\n"
     ]
    }
   ],
   "execution_count": 1353
  },
  {
   "metadata": {
    "ExecuteTime": {
     "end_time": "2024-04-19T11:14:31.902413Z",
     "start_time": "2024-04-19T11:14:31.879395Z"
    }
   },
   "cell_type": "code",
   "source": [
    "sevneu_CON_PA_MECVV = CON_PA_MECVV['Canadenca_sumatorios_comparados'].between(1.5, 4.5)\n",
    "Percentatge_sevneu_CON_PA_MECVV = sevneu_CON_PA_MECVV.mean() * 100\n",
    "num_observaciones_sevneu_CON_PA_MECVV = sevneu_CON_PA_MECVV.sum()\n",
    "\n",
    "print(f\"Percentatge de sevneu_CON_PA_MECVV: {Percentatge_sevneu_CON_PA_MECVV:.2f}%\")\n",
    "print(f\"Nombre d'observacions en sevneu_CON_PA_MECVV: {num_observaciones_sevneu_CON_PA_MECVV}\")"
   ],
   "id": "c712d55b14205c2d",
   "outputs": [
    {
     "name": "stdout",
     "output_type": "stream",
     "text": [
      "Percentatge de sevneu_CON_PA_MECVV: 0.00%\n",
      "Nombre d'observacions en sevneu_CON_PA_MECVV: 0\n"
     ]
    }
   ],
   "execution_count": 1354
  },
  {
   "metadata": {},
   "cell_type": "markdown",
   "source": "##### SIN_PA",
   "id": "d6b64c5ca280741f"
  },
  {
   "metadata": {
    "ExecuteTime": {
     "end_time": "2024-04-19T11:14:37.393491Z",
     "start_time": "2024-04-19T11:14:37.378080Z"
    }
   },
   "cell_type": "code",
   "source": [
    "mild_SIN_PA = SIN_PA['Canadenca_sumatorios_comparados'].between(10.5, 11.5)\n",
    "Percentatge_mild_SIN_PA = mild_SIN_PA.mean() * 100\n",
    "num_observaciones_mild_SIN_PA = mild_SIN_PA.sum()\n",
    "\n",
    "print(f\"Percentatge de mild_SIN_PA: {Percentatge_mild_SIN_PA:.2f}%\")\n",
    "print(f\"Nombre d'observacions en mild_SIN_PA: {num_observaciones_mild_SIN_PA}\")"
   ],
   "id": "61008dd57d322928",
   "outputs": [
    {
     "name": "stdout",
     "output_type": "stream",
     "text": [
      "Percentatge de mild_SIN_PA: 0.00%\n",
      "Nombre d'observacions en mild_SIN_PA: 0\n"
     ]
    }
   ],
   "execution_count": 1355
  },
  {
   "metadata": {
    "ExecuteTime": {
     "end_time": "2024-04-19T11:15:18.618352Z",
     "start_time": "2024-04-19T11:15:18.565258Z"
    }
   },
   "cell_type": "code",
   "source": [
    "modneu_SIN_PA = SIN_PA['Canadenca_sumatorios_comparados'].between(5,10)\n",
    "Percentatge_modneu_SIN_PA = modneu_SIN_PA.mean() * 100\n",
    "num_observaciones_modneu_SIN_PA = modneu_SIN_PA.sum()\n",
    "\n",
    "print(f\"Percentatge de modneu_SIN_PA: {Percentatge_modneu_SIN_PA:.2f}%\")\n",
    "print(f\"Nombre d'observacions en modneu_SIN_PA: {num_observaciones_modneu_SIN_PA}\")"
   ],
   "id": "d93cb1dc52c2e4a3",
   "outputs": [
    {
     "name": "stdout",
     "output_type": "stream",
     "text": [
      "Percentatge de modneu_SIN_PA: 4.08%\n",
      "Nombre d'observacions en modneu_SIN_PA: 2\n"
     ]
    }
   ],
   "execution_count": 1356
  },
  {
   "metadata": {
    "ExecuteTime": {
     "end_time": "2024-04-19T11:15:29.178565Z",
     "start_time": "2024-04-19T11:15:29.150966Z"
    }
   },
   "cell_type": "code",
   "source": [
    "sevneu_SIN_PA = SIN_PA['Canadenca_sumatorios_comparados'].between(1.5, 4.5)\n",
    "Percentatge_sevneu_SIN_PA = sevneu_SIN_PA.mean() * 100\n",
    "num_observaciones_sevneu_SIN_PA = sevneu_SIN_PA.sum()\n",
    "\n",
    "print(f\"Percentatge de sevneu_SIN_PA: {Percentatge_sevneu_SIN_PA:.2f}%\")\n",
    "print(f\"Nombre d'observacions en sevneu_SIN_PA: {num_observaciones_sevneu_SIN_PA}\")"
   ],
   "id": "c2bd8e7e46f3f6fa",
   "outputs": [
    {
     "name": "stdout",
     "output_type": "stream",
     "text": [
      "Percentatge de sevneu_SIN_PA: 0.00%\n",
      "Nombre d'observacions en sevneu_SIN_PA: 0\n"
     ]
    }
   ],
   "execution_count": 1357
  },
  {
   "metadata": {},
   "cell_type": "markdown",
   "source": "#### Pvalor",
   "id": "d3c987c2989e5129"
  },
  {
   "metadata": {},
   "cell_type": "markdown",
   "source": "##### Dèficit neurològic lleuger (mild)",
   "id": "434c4358f4a229a0"
  },
  {
   "metadata": {
    "ExecuteTime": {
     "end_time": "2024-04-19T11:15:31.904935Z",
     "start_time": "2024-04-19T11:15:31.892303Z"
    }
   },
   "cell_type": "code",
   "source": [
    "t_stat_12, p_val_12 = ttest_ind(CON_PA['Canadenca_sumatorios_comparados'].between(10.5,11.5), CON_PA_MECVV['Canadenca_sumatorios_comparados'].between(10.5,11.5), equal_var=False)\n",
    "print(\"P-valor entre CON_PA i CON_PA_MECVV:\", p_val_12)"
   ],
   "id": "c73d6b247f483fed",
   "outputs": [
    {
     "name": "stdout",
     "output_type": "stream",
     "text": [
      "P-valor entre CON_PA i CON_PA_MECVV: nan\n"
     ]
    }
   ],
   "execution_count": 1358
  },
  {
   "metadata": {
    "ExecuteTime": {
     "end_time": "2024-04-19T11:15:37.410870Z",
     "start_time": "2024-04-19T11:15:37.386767Z"
    }
   },
   "cell_type": "code",
   "source": [
    "t_stat_13, p_val_13 = ttest_ind(CON_PA['Canadenca_sumatorios_comparados'].between(10.5,11.5), SIN_PA['Canadenca_sumatorios_comparados'].between(10.5,11.5), equal_var=False)\n",
    "print(\"P-valor entre CON_PA i SIN_PA:\", p_val_13)"
   ],
   "id": "60e422a1a3bbc0b0",
   "outputs": [
    {
     "name": "stdout",
     "output_type": "stream",
     "text": [
      "P-valor entre CON_PA i SIN_PA: nan\n"
     ]
    }
   ],
   "execution_count": 1359
  },
  {
   "metadata": {
    "ExecuteTime": {
     "end_time": "2024-04-19T11:16:18.637601Z",
     "start_time": "2024-04-19T11:16:18.577184Z"
    }
   },
   "cell_type": "code",
   "source": [
    "t_stat_23, p_val_23 = ttest_ind(CON_PA_MECVV['Canadenca_sumatorios_comparados'].between(10.5,11.5), SIN_PA['Canadenca_sumatorios_comparados'].between(10.5,11.5), equal_var=False)\n",
    "print(\"P-valor entre CON_PA_MECVV i SIN_PA:\", p_val_23)"
   ],
   "id": "c075274c183bac63",
   "outputs": [
    {
     "name": "stdout",
     "output_type": "stream",
     "text": [
      "P-valor entre CON_PA_MECVV i SIN_PA: nan\n"
     ]
    }
   ],
   "execution_count": 1360
  },
  {
   "metadata": {},
   "cell_type": "markdown",
   "source": "##### Dèficit neurològic moderat",
   "id": "552ccd99227faf82"
  },
  {
   "metadata": {
    "ExecuteTime": {
     "end_time": "2024-04-19T11:16:29.181754Z",
     "start_time": "2024-04-19T11:16:29.157752Z"
    }
   },
   "cell_type": "code",
   "source": [
    "t_stat_12, p_val_12 = mannwhitneyu(CON_PA['Canadenca_sumatorios_comparados'].between(5,10), CON_PA_MECVV['Canadenca_sumatorios_comparados'].between(5, 10), alternative='less')\n",
    "print(\"P-valor entre CON_PA i CON_PA_MECVV:\", p_val_12)"
   ],
   "id": "e94a1d27fb89e47b",
   "outputs": [
    {
     "name": "stdout",
     "output_type": "stream",
     "text": [
      "P-valor entre CON_PA i CON_PA_MECVV: 0.3700051180291794\n"
     ]
    }
   ],
   "execution_count": 1361
  },
  {
   "metadata": {
    "ExecuteTime": {
     "end_time": "2024-04-19T11:16:31.916018Z",
     "start_time": "2024-04-19T11:16:31.894920Z"
    }
   },
   "cell_type": "code",
   "source": [
    "t_stat_13, p_val_13 = mannwhitneyu(CON_PA['Canadenca_sumatorios_comparados'].between(5,10), SIN_PA['Canadenca_sumatorios_comparados'].between(5, 10), alternative='less')\n",
    "print(\"P-valor entre CON_PA i SIN_PA:\", p_val_13)"
   ],
   "id": "b8a25453cf521a60",
   "outputs": [
    {
     "name": "stdout",
     "output_type": "stream",
     "text": [
      "P-valor entre CON_PA i SIN_PA: 0.6274490868971419\n"
     ]
    }
   ],
   "execution_count": 1362
  },
  {
   "metadata": {
    "ExecuteTime": {
     "end_time": "2024-04-19T11:16:37.417239Z",
     "start_time": "2024-04-19T11:16:37.396907Z"
    }
   },
   "cell_type": "code",
   "source": [
    "t_stat_23, p_val_23 = mannwhitneyu(CON_PA_MECVV['Canadenca_sumatorios_comparados'].between(5,10), SIN_PA['Canadenca_sumatorios_comparados'].between(5, 10), alternative='less')\n",
    "print(\"P-valor entre CON_PA_MECVV i SIN_PA:\", p_val_23)"
   ],
   "id": "42d8b634d6f77cf8",
   "outputs": [
    {
     "name": "stdout",
     "output_type": "stream",
     "text": [
      "P-valor entre CON_PA_MECVV i SIN_PA: 0.7870742763184819\n"
     ]
    }
   ],
   "execution_count": 1363
  },
  {
   "metadata": {},
   "cell_type": "markdown",
   "source": "##### Dèficit neurològic greu (sever)",
   "id": "28b3b79ffa4ba154"
  },
  {
   "metadata": {
    "ExecuteTime": {
     "end_time": "2024-04-19T11:17:18.599444Z",
     "start_time": "2024-04-19T11:17:18.587357Z"
    }
   },
   "cell_type": "code",
   "source": [
    "t_stat_12, p_val_12 = ttest_ind(CON_PA['Canadenca_sumatorios_comparados'].between(1.5,4.5), CON_PA_MECVV['Canadenca_sumatorios_comparados'].between(1.5,4.5), equal_var=False)\n",
    "print(\"P-valor entre CON_PA i CON_PA_MECVV:\", p_val_12)"
   ],
   "id": "1375c0dec76e62b5",
   "outputs": [
    {
     "name": "stdout",
     "output_type": "stream",
     "text": [
      "P-valor entre CON_PA i CON_PA_MECVV: nan\n"
     ]
    }
   ],
   "execution_count": 1364
  },
  {
   "metadata": {
    "ExecuteTime": {
     "end_time": "2024-04-19T11:17:29.194591Z",
     "start_time": "2024-04-19T11:17:29.174359Z"
    }
   },
   "cell_type": "code",
   "source": [
    "t_stat_13, p_val_13 = ttest_ind(CON_PA['Canadenca_sumatorios_comparados'].between(1.5, 4.5), SIN_PA['Canadenca_sumatorios_comparados'].between(1.5, 4.5), equal_var=False)\n",
    "print(\"P-valor entre CON_PA i SIN_PA:\", p_val_13)"
   ],
   "id": "b9b1bd499fc47c40",
   "outputs": [
    {
     "name": "stdout",
     "output_type": "stream",
     "text": [
      "P-valor entre CON_PA i SIN_PA: nan\n"
     ]
    }
   ],
   "execution_count": 1365
  },
  {
   "metadata": {
    "ExecuteTime": {
     "end_time": "2024-04-19T11:17:31.932433Z",
     "start_time": "2024-04-19T11:17:31.908821Z"
    }
   },
   "cell_type": "code",
   "source": [
    "t_stat_23, p_val_23 = ttest_ind(CON_PA_MECVV['Canadenca_sumatorios_comparados'].between(1.5,4.5), SIN_PA['Canadenca_sumatorios_comparados'].between(1.5, 4.5), equal_var=False)\n",
    "print(\"P-valor entre CON_PA_MECVV i SIN_PA:\", p_val_23)"
   ],
   "id": "f4a9f79d4781e2f6",
   "outputs": [
    {
     "name": "stdout",
     "output_type": "stream",
     "text": [
      "P-valor entre CON_PA_MECVV i SIN_PA: nan\n"
     ]
    }
   ],
   "execution_count": 1366
  },
  {
   "metadata": {},
   "cell_type": "markdown",
   "source": "## Infeccions respiratòries",
   "id": "1c243e776c0acbcb"
  },
  {
   "metadata": {},
   "cell_type": "markdown",
   "source": "##### CON_PA ",
   "id": "75cdc96e688bb6e5"
  },
  {
   "metadata": {
    "ExecuteTime": {
     "end_time": "2024-04-19T11:17:37.413084Z",
     "start_time": "2024-04-19T11:17:37.396343Z"
    }
   },
   "cell_type": "code",
   "source": [
    "mainresp_CON_PA= (CON_PA['Main_respiratory_infections_diagnosticada'] == 1.0).mean() * 100\n",
    "print(f\"Percentatge de infeccions respiratòries principals : {mainresp_CON_PA:.2f}%\")"
   ],
   "id": "6b4ac9f955c7ef70",
   "outputs": [
    {
     "name": "stdout",
     "output_type": "stream",
     "text": [
      "Percentatge de infecciones respiratorias principales : 41.18%\n"
     ]
    }
   ],
   "execution_count": 1367
  },
  {
   "metadata": {
    "ExecuteTime": {
     "end_time": "2024-04-19T11:18:18.615232Z",
     "start_time": "2024-04-19T11:18:18.598460Z"
    }
   },
   "cell_type": "code",
   "source": [
    "LRTI_CON_PA= (CON_PA['LRTI_diagnosticada'] == 1.0).mean() * 100\n",
    "print(f\"Percentatge de LRTI: {LRTI_CON_PA:.2f}%\")"
   ],
   "id": "f2cab9c85d7b18bf",
   "outputs": [
    {
     "name": "stdout",
     "output_type": "stream",
     "text": [
      "Percentatge de LRTI: 17.65%\n"
     ]
    }
   ],
   "execution_count": 1368
  },
  {
   "metadata": {
    "ExecuteTime": {
     "end_time": "2024-04-19T11:18:29.241602Z",
     "start_time": "2024-04-19T11:18:29.189800Z"
    }
   },
   "cell_type": "code",
   "source": [
    "COPD_CON_PA= (CON_PA['COPD_exacerbations_diagnosticada'] == 1.0).mean() * 100\n",
    "print(f\"Percentatge de exacerbacions de COPD: {COPD_CON_PA:.2f}%\")"
   ],
   "id": "e92f1139bdd11207",
   "outputs": [
    {
     "name": "stdout",
     "output_type": "stream",
     "text": [
      "Percentatge de exacerbaciones de COPD: 29.41%\n"
     ]
    }
   ],
   "execution_count": 1369
  },
  {
   "metadata": {
    "ExecuteTime": {
     "end_time": "2024-04-19T11:18:31.940482Z",
     "start_time": "2024-04-19T11:18:31.925495Z"
    }
   },
   "cell_type": "code",
   "source": [
    "fibro_CON_PA= (CON_PA['Pulmonary_fibrosis_fibrotorax_diagnosticada'] == 1.0).mean() * 100\n",
    "print(f\"Percentatge de fibrosi pulmonar i fibrotòrax: {fibro_CON_PA:.2f}%\")"
   ],
   "id": "f60fd9578e2dc543",
   "outputs": [
    {
     "name": "stdout",
     "output_type": "stream",
     "text": [
      "Percentatge de fibrosis pulmonar i fibrotorax: 0.00%\n"
     ]
    }
   ],
   "execution_count": 1370
  },
  {
   "metadata": {},
   "cell_type": "markdown",
   "source": "##### CON_PA_MECVV",
   "id": "a81ccd9e1687fa90"
  },
  {
   "metadata": {
    "ExecuteTime": {
     "end_time": "2024-04-19T11:18:37.459911Z",
     "start_time": "2024-04-19T11:18:37.411482Z"
    }
   },
   "cell_type": "code",
   "source": [
    "mainresp_CON_PA_MECVV= (CON_PA_MECVV['Main_respiratory_infections_diagnosticada'] == 1.0).mean() * 100\n",
    "print(f\"Percentatge de infeccions respiratòries principals : {mainresp_CON_PA_MECVV:.2f}%\")"
   ],
   "id": "b33098c2a54d36b5",
   "outputs": [
    {
     "name": "stdout",
     "output_type": "stream",
     "text": [
      "Percentatge de infecciones respiratorias principales : 50.00%\n"
     ]
    }
   ],
   "execution_count": 1371
  },
  {
   "metadata": {
    "ExecuteTime": {
     "end_time": "2024-04-19T11:19:18.669181Z",
     "start_time": "2024-04-19T11:19:18.618273Z"
    }
   },
   "cell_type": "code",
   "source": [
    "LRTI_CON_PA_MECVV= (CON_PA_MECVV['LRTI_diagnosticada'] == 1.0).mean() * 100\n",
    "print(f\"Percentatge de LRTI: {LRTI_CON_PA_MECVV:.2f}%\")"
   ],
   "id": "f85be13f8ff8a16d",
   "outputs": [
    {
     "name": "stdout",
     "output_type": "stream",
     "text": [
      "Percentatge de LRTI: 20.00%\n"
     ]
    }
   ],
   "execution_count": 1372
  },
  {
   "metadata": {
    "ExecuteTime": {
     "end_time": "2024-04-19T11:19:29.202092Z",
     "start_time": "2024-04-19T11:19:29.188123Z"
    }
   },
   "cell_type": "code",
   "source": [
    "COPD_CON_PA_MECVV = (CON_PA_MECVV['COPD_exacerbations_diagnosticada'] == 1.0).mean() * 100\n",
    "print(f\"Percentatge de exacerbacions de COPD: {COPD_CON_PA_MECVV:.2f}%\")"
   ],
   "id": "d490fe0fa5146ba1",
   "outputs": [
    {
     "name": "stdout",
     "output_type": "stream",
     "text": [
      "Percentatge de exacerbaciones de COPD: 30.00%\n"
     ]
    }
   ],
   "execution_count": 1373
  },
  {
   "metadata": {
    "ExecuteTime": {
     "end_time": "2024-04-19T11:19:31.980216Z",
     "start_time": "2024-04-19T11:19:31.927585Z"
    }
   },
   "cell_type": "code",
   "source": [
    "fibro_CON_PA_MECVV = (CON_PA_MECVV['Pulmonary_fibrosis_fibrotorax_diagnosticada'] == 1.0).mean() * 100\n",
    "print(f\"Percentatge de fibrosi pulmonar i fibrotòrax: {fibro_CON_PA_MECVV:.2f}%\")"
   ],
   "id": "719cbe71770c9c5d",
   "outputs": [
    {
     "name": "stdout",
     "output_type": "stream",
     "text": [
      "Percentatge de fibrosis pulmonar i fibrotorax: 0.00%\n"
     ]
    }
   ],
   "execution_count": 1374
  },
  {
   "metadata": {},
   "cell_type": "markdown",
   "source": "##### SIN_PA",
   "id": "4ee57a32f85d8da"
  },
  {
   "metadata": {
    "ExecuteTime": {
     "end_time": "2024-04-19T11:19:37.489217Z",
     "start_time": "2024-04-19T11:19:37.413958Z"
    }
   },
   "cell_type": "code",
   "source": [
    "mainresp_SIN_PA= (SIN_PA['Main_respiratory_infections_diagnosticada'] == 1.0).mean() * 100\n",
    "print(f\"Percentatge de infeccions respiratòries principals : {mainresp_SIN_PA:.2f}%\")"
   ],
   "id": "13154b248379e6da",
   "outputs": [
    {
     "name": "stdout",
     "output_type": "stream",
     "text": [
      "Percentatge de infecciones respiratorias principales : 42.86%\n"
     ]
    }
   ],
   "execution_count": 1375
  },
  {
   "metadata": {
    "ExecuteTime": {
     "end_time": "2024-04-19T11:20:18.637670Z",
     "start_time": "2024-04-19T11:20:18.625727Z"
    }
   },
   "cell_type": "code",
   "source": [
    "LRTI_SIN_PA= (SIN_PA['LRTI_diagnosticada'] == 1.0).mean() * 100\n",
    "print(f\"Percentatge de LRTI: {LRTI_SIN_PA:.2f}%\")"
   ],
   "id": "7b6d0993a6d8d0f7",
   "outputs": [
    {
     "name": "stdout",
     "output_type": "stream",
     "text": [
      "Percentatge de LRTI: 22.45%\n"
     ]
    }
   ],
   "execution_count": 1376
  },
  {
   "metadata": {
    "ExecuteTime": {
     "end_time": "2024-04-19T11:20:29.252296Z",
     "start_time": "2024-04-19T11:20:29.202278Z"
    }
   },
   "cell_type": "code",
   "source": [
    "COPD_SIN_PA= (SIN_PA['COPD_exacerbations_diagnosticada'] == 1.0).mean() * 100\n",
    "print(f\"Percentatge de exacerbacions de COPD: {COPD_SIN_PA:.2f}%\")"
   ],
   "id": "2fde8b1f558da814",
   "outputs": [
    {
     "name": "stdout",
     "output_type": "stream",
     "text": [
      "Percentatge de exacerbaciones de COPD: 32.65%\n"
     ]
    }
   ],
   "execution_count": 1377
  },
  {
   "metadata": {
    "ExecuteTime": {
     "end_time": "2024-04-19T11:20:31.957937Z",
     "start_time": "2024-04-19T11:20:31.947498Z"
    }
   },
   "cell_type": "code",
   "source": [
    "fibro_SIN_PA= (SIN_PA['Pulmonary_fibrosis_fibrotorax_diagnosticada'] == 1.0).mean() * 100\n",
    "print(f\"Percentatge de fibrosi pulmonar i fibrotòrax: {fibro_SIN_PA:.2f}%\")"
   ],
   "id": "9ec61073db25b76d",
   "outputs": [
    {
     "name": "stdout",
     "output_type": "stream",
     "text": [
      "Percentatge de fibrosis pulmonar i fibrotorax: 0.00%\n"
     ]
    }
   ],
   "execution_count": 1378
  },
  {
   "metadata": {},
   "cell_type": "markdown",
   "source": "#### Pvalor",
   "id": "e4b7d99054b0af12"
  },
  {
   "metadata": {},
   "cell_type": "markdown",
   "source": "##### Normalitat",
   "id": "66f7ae1bb05b0697"
  },
  {
   "metadata": {
    "ExecuteTime": {
     "end_time": "2024-04-19T11:20:37.437624Z",
     "start_time": "2024-04-19T11:20:37.422245Z"
    }
   },
   "cell_type": "code",
   "source": [
    "stat, p_value = shapiro(CON_PA['Main_respiratory_infections_diagnosticada'])\n",
    "print(f\"Estadístic W = {stat:.4f}\")\n",
    "print(f\"Valor p = {p_value:.8f}\")\n",
    "\n",
    "alpha = 0.05\n",
    "if p_value < alpha:\n",
    "    print(\"El nombre de files no segueix una distribució normal.\")\n",
    "else:\n",
    "    print(\"El nombre de files segueix una distribució normal.\")"
   ],
   "id": "c6e2b4b1f48b3dc",
   "outputs": [
    {
     "name": "stdout",
     "output_type": "stream",
     "text": [
      "Estadístic W = 0.6317\n",
      "Valor p = 0.00002144\n",
      "El número de files no segueix una distribució normal.\n"
     ]
    }
   ],
   "execution_count": 1379
  },
  {
   "metadata": {
    "ExecuteTime": {
     "end_time": "2024-04-19T11:21:18.653039Z",
     "start_time": "2024-04-19T11:21:18.644192Z"
    }
   },
   "cell_type": "code",
   "source": [
    "stat, p_value = shapiro(CON_PA['LRTI_diagnosticada'])\n",
    "print(f\"Estadístic W = {stat:.4f}\")\n",
    "print(f\"Valor p = {p_value:.8f}\")\n",
    "\n",
    "alpha = 0.05\n",
    "if p_value < alpha:\n",
    "    print(\"El nombre de files no segueix una distribució normal.\")\n",
    "else:\n",
    "    print(\"El nombre de files segueix una distribució normal.\")"
   ],
   "id": "d543def5475584e8",
   "outputs": [
    {
     "name": "stdout",
     "output_type": "stream",
     "text": [
      "Estadístic W = 0.4702\n",
      "Valor p = 0.00000073\n",
      "El número de files no segueix una distribució normal.\n"
     ]
    }
   ],
   "execution_count": 1380
  },
  {
   "metadata": {
    "ExecuteTime": {
     "end_time": "2024-04-19T11:21:29.225202Z",
     "start_time": "2024-04-19T11:21:29.211698Z"
    }
   },
   "cell_type": "code",
   "source": [
    "stat, p_value = shapiro(CON_PA['COPD_exacerbations_diagnosticada'])\n",
    "print(f\"Estadístic W = {stat:.4f}\")\n",
    "print(f\"Valor p = {p_value:.8f}\")\n",
    "\n",
    "alpha = 0.05\n",
    "if p_value < alpha:\n",
    "    print(\"El nombre de files no segueix una distribució normal.\")\n",
    "else:\n",
    "    print(\"El nombre de files segueix una distribució normal.\")"
   ],
   "id": "10e513a73863bebd",
   "outputs": [
    {
     "name": "stdout",
     "output_type": "stream",
     "text": [
      "Estadístic W = 0.5785\n",
      "Valor p = 0.00000650\n",
      "El número de files no segueix una distribució normal.\n"
     ]
    }
   ],
   "execution_count": 1381
  },
  {
   "metadata": {
    "ExecuteTime": {
     "end_time": "2024-04-19T11:21:31.984549Z",
     "start_time": "2024-04-19T11:21:31.963021Z"
    }
   },
   "cell_type": "code",
   "source": [
    "stat, p_value = shapiro(CON_PA['Pulmonary_fibrosis_fibrotorax_diagnosticada'])\n",
    "print(f\"Estadístic W = {stat:.4f}\")\n",
    "print(f\"Valor p = {p_value:.8f}\")\n",
    "\n",
    "alpha = 0.05\n",
    "if p_value < alpha:\n",
    "    print(\"El nombre de files no segueix una distribució normal.\")\n",
    "else:\n",
    "    print(\"El nombre de files segueix una distribució normal.\")"
   ],
   "id": "cd29d6de8e2e9257",
   "outputs": [
    {
     "name": "stdout",
     "output_type": "stream",
     "text": [
      "Estadístic W = 1.0000\n",
      "Valor p = 1.00000000\n",
      "El número de files segueix una distribució normal.\n"
     ]
    },
    {
     "name": "stderr",
     "output_type": "stream",
     "text": [
      "C:\\Users\\maria\\PycharmProjects\\practicum\\.venv\\Lib\\site-packages\\scipy\\stats\\_axis_nan_policy.py:531: UserWarning: scipy.stats.shapiro: Input data has range zero. The results may not be accurate.\n",
      "  res = hypotest_fun_out(*samples, **kwds)\n"
     ]
    }
   ],
   "execution_count": 1382
  },
  {
   "metadata": {},
   "cell_type": "markdown",
   "source": "Usaré Mann-Whitney cuando tenga que comparar contra CON_PA",
   "id": "bceff0fb1b480e7b"
  },
  {
   "metadata": {
    "ExecuteTime": {
     "end_time": "2024-04-19T11:21:37.454443Z",
     "start_time": "2024-04-19T11:21:37.435675Z"
    }
   },
   "cell_type": "code",
   "source": [
    "stat, p_value = shapiro(CON_PA_MECVV['Main_respiratory_infections_diagnosticada'])\n",
    "print(f\"Estadístic W = {stat:.4f}\")\n",
    "print(f\"Valor p = {p_value:.8f}\")\n",
    "\n",
    "alpha = 0.05\n",
    "if p_value < alpha:\n",
    "    print(\"El nombre de files no segueix una distribució normal.\")\n",
    "else:\n",
    "    print(\"El nombre de files segueix una distribució normal.\")"
   ],
   "id": "bb27577a80453c31",
   "outputs": [
    {
     "name": "stdout",
     "output_type": "stream",
     "text": [
      "Estadístic W = 0.6553\n",
      "Valor p = 0.00025396\n",
      "El número de files no segueix una distribució normal.\n"
     ]
    }
   ],
   "execution_count": 1383
  },
  {
   "metadata": {
    "ExecuteTime": {
     "end_time": "2024-04-19T11:22:18.703555Z",
     "start_time": "2024-04-19T11:22:18.650507Z"
    }
   },
   "cell_type": "code",
   "source": [
    "stat, p_value = shapiro(CON_PA_MECVV['LRTI_diagnosticada'])\n",
    "print(f\"Estadístic W = {stat:.4f}\")\n",
    "print(f\"Valor p = {p_value:.8f}\")\n",
    "\n",
    "alpha = 0.05\n",
    "if p_value < alpha:\n",
    "    print(\"El nombre de files no segueix una distribució normal.\")\n",
    "else:\n",
    "    print(\"El nombre de files segueix una distribució normal.\")"
   ],
   "id": "4524b4b1254b37f2",
   "outputs": [
    {
     "name": "stdout",
     "output_type": "stream",
     "text": [
      "Estadístic W = 0.5093\n",
      "Valor p = 0.00000467\n",
      "El número de files no segueix una distribució normal.\n"
     ]
    }
   ],
   "execution_count": 1384
  },
  {
   "metadata": {
    "ExecuteTime": {
     "end_time": "2024-04-19T11:22:29.250850Z",
     "start_time": "2024-04-19T11:22:29.237623Z"
    }
   },
   "cell_type": "code",
   "source": [
    "stat, p_value = shapiro(CON_PA_MECVV['COPD_exacerbations_diagnosticada'])\n",
    "print(f\"Estadístic W = {stat:.4f}\")\n",
    "print(f\"Valor p = {p_value:.8f}\")\n",
    "\n",
    "alpha = 0.05\n",
    "if p_value < alpha:\n",
    "    print(\"El nombre de files no segueix una distribució normal.\")\n",
    "else:\n",
    "    print(\"El nombre de files segueix una distribució normal.\")"
   ],
   "id": "3a1a7fe57776685f",
   "outputs": [
    {
     "name": "stdout",
     "output_type": "stream",
     "text": [
      "Estadístic W = 0.5942\n",
      "Valor p = 0.00004713\n",
      "El número de files no segueix una distribució normal.\n"
     ]
    }
   ],
   "execution_count": 1385
  },
  {
   "metadata": {
    "ExecuteTime": {
     "end_time": "2024-04-19T11:22:31.991095Z",
     "start_time": "2024-04-19T11:22:31.974440Z"
    }
   },
   "cell_type": "code",
   "source": [
    "stat, p_value = shapiro(CON_PA_MECVV['Pulmonary_fibrosis_fibrotorax_diagnosticada'])\n",
    "print(f\"Estadístic W = {stat:.4f}\")\n",
    "print(f\"Valor p = {p_value:.8f}\")\n",
    "\n",
    "alpha = 0.05\n",
    "if p_value < alpha:\n",
    "    print(\"El nombre de files no segueix una distribució normal.\")\n",
    "else:\n",
    "    print(\"El nombre de files segueix una distribució normal.\")"
   ],
   "id": "1718e4b49cea9d7f",
   "outputs": [
    {
     "name": "stdout",
     "output_type": "stream",
     "text": [
      "Estadístic W = 1.0000\n",
      "Valor p = 1.00000000\n",
      "El número de files segueix una distribució normal.\n"
     ]
    }
   ],
   "execution_count": 1386
  },
  {
   "metadata": {},
   "cell_type": "markdown",
   "source": "Usaré también Mann-Whitney",
   "id": "33a22ba73ce2ccc8"
  },
  {
   "metadata": {
    "ExecuteTime": {
     "end_time": "2024-04-19T11:22:37.464774Z",
     "start_time": "2024-04-19T11:22:37.449105Z"
    }
   },
   "cell_type": "code",
   "source": [
    "stat, p_value = shapiro(SIN_PA['Main_respiratory_infections_diagnosticada'])\n",
    "print(f\"Estadístic W = {stat:.4f}\")\n",
    "print(f\"Valor p = {p_value:.8f}\")\n",
    "\n",
    "alpha = 0.05\n",
    "if p_value < alpha:\n",
    "    print(\"El nombre de files no segueix una distribució normal.\")\n",
    "else:\n",
    "    print(\"El nombre de files segueix una distribució normal.\")"
   ],
   "id": "ce920cf207335b36",
   "outputs": [
    {
     "name": "stdout",
     "output_type": "stream",
     "text": [
      "Estadístic W = 0.6294\n",
      "Valor p = 0.00000000\n",
      "El número de files no segueix una distribució normal.\n"
     ]
    }
   ],
   "execution_count": 1387
  },
  {
   "metadata": {
    "ExecuteTime": {
     "end_time": "2024-04-19T11:23:18.671720Z",
     "start_time": "2024-04-19T11:23:18.664851Z"
    }
   },
   "cell_type": "code",
   "source": [
    "stat, p_value = shapiro(SIN_PA['LRTI_diagnosticada'])\n",
    "print(f\"Estadístic W = {stat:.4f}\")\n",
    "print(f\"Valor p = {p_value:.8f}\")\n",
    "\n",
    "alpha = 0.05\n",
    "if p_value < alpha:\n",
    "    print(\"El nombre de files no segueix una distribució normal.\")\n",
    "else:\n",
    "    print(\"El nombre de files segueix una distribució normal.\")"
   ],
   "id": "3a3a53e648ae0773",
   "outputs": [
    {
     "name": "stdout",
     "output_type": "stream",
     "text": [
      "Estadístic W = 0.5158\n",
      "Valor p = 0.00000000\n",
      "El número de files no segueix una distribució normal.\n"
     ]
    }
   ],
   "execution_count": 1388
  },
  {
   "metadata": {
    "ExecuteTime": {
     "end_time": "2024-04-19T11:23:29.263114Z",
     "start_time": "2024-04-19T11:23:29.253200Z"
    }
   },
   "cell_type": "code",
   "source": [
    "stat, p_value = shapiro(SIN_PA['COPD_exacerbations_diagnosticada'])\n",
    "print(f\"Estadístic W = {stat:.4f}\")\n",
    "print(f\"Valor p = {p_value:.8f}\")\n",
    "\n",
    "alpha = 0.05\n",
    "if p_value < alpha:\n",
    "    print(\"El nombre de files no segueix una distribució normal.\")\n",
    "else:\n",
    "    print(\"El nombre de files segueix una distribució normal.\")"
   ],
   "id": "e8e436f4735c57c6",
   "outputs": [
    {
     "name": "stdout",
     "output_type": "stream",
     "text": [
      "Estadístic W = 0.5916\n",
      "Valor p = 0.00000000\n",
      "El número de files no segueix una distribució normal.\n"
     ]
    }
   ],
   "execution_count": 1389
  },
  {
   "metadata": {
    "ExecuteTime": {
     "end_time": "2024-04-19T11:23:31.995057Z",
     "start_time": "2024-04-19T11:23:31.983014Z"
    }
   },
   "cell_type": "code",
   "source": [
    "stat, p_value = shapiro(SIN_PA['Pulmonary_fibrosis_fibrotorax_diagnosticada'])\n",
    "print(f\"Estadístic W = {stat:.4f}\")\n",
    "print(f\"Valor p = {p_value:.8f}\")\n",
    "\n",
    "alpha = 0.05\n",
    "if p_value < alpha:\n",
    "    print(\"El nombre de files no segueix una distribució normal.\")\n",
    "else:\n",
    "    print(\"El nombre de files segueix una distribució normal.\")"
   ],
   "id": "57ac2a0db7f4e96c",
   "outputs": [
    {
     "name": "stdout",
     "output_type": "stream",
     "text": [
      "Estadístic W = 1.0000\n",
      "Valor p = 1.00000000\n",
      "El número de files segueix una distribució normal.\n"
     ]
    }
   ],
   "execution_count": 1390
  },
  {
   "metadata": {},
   "cell_type": "markdown",
   "source": "##### Infeccions respiratòries principals ",
   "id": "5e8e1e8b1c32f8ad"
  },
  {
   "metadata": {
    "ExecuteTime": {
     "end_time": "2024-04-19T11:23:37.492046Z",
     "start_time": "2024-04-19T11:23:37.477313Z"
    }
   },
   "cell_type": "code",
   "source": [
    "stat_12, p_val_12 = mannwhitneyu(CON_PA['Main_respiratory_infections_diagnosticada'] == 1.0, CON_PA_MECVV['Main_respiratory_infections_diagnosticada'] == 1.0, alternative='two-sided')\n",
    "print(\"P-valor entre CON_PA i CON_PA_MECVV:\", p_val_12)"
   ],
   "id": "db72a64133768bd1",
   "outputs": [
    {
     "name": "stdout",
     "output_type": "stream",
     "text": [
      "P-valor entre CON_PA i CON_PA_MECVV: 0.6832089509594992\n"
     ]
    }
   ],
   "execution_count": 1391
  },
  {
   "metadata": {
    "ExecuteTime": {
     "end_time": "2024-04-19T11:24:18.717494Z",
     "start_time": "2024-04-19T11:24:18.687761Z"
    }
   },
   "cell_type": "code",
   "source": [
    "stat_13, p_val_13 = mannwhitneyu(CON_PA['Main_respiratory_infections_diagnosticada'] == 1.0, SIN_PA['Main_respiratory_infections_diagnosticada'] == 1.0, alternative='two-sided')\n",
    "print(\"P-valor entre CON_PA i SIN_PA:\", p_val_13)"
   ],
   "id": "40d95109cbdff899",
   "outputs": [
    {
     "name": "stdout",
     "output_type": "stream",
     "text": [
      "P-valor entre CON_PA i SIN_PA: 0.9113557832989896\n"
     ]
    }
   ],
   "execution_count": 1392
  },
  {
   "metadata": {
    "ExecuteTime": {
     "end_time": "2024-04-19T11:24:29.356712Z",
     "start_time": "2024-04-19T11:24:29.347496Z"
    }
   },
   "cell_type": "code",
   "source": [
    "stat_23, p_val_23 = mannwhitneyu(CON_PA_MECVV['Main_respiratory_infections_diagnosticada'] == 1.0, SIN_PA['Main_respiratory_infections_diagnosticada'] == 1.0, alternative='two-sided')\n",
    "print(\"P-valor entre CON_PA_MECVV i SIN_PA:\", p_val_23)"
   ],
   "id": "8fc450c2c0998105",
   "outputs": [
    {
     "name": "stdout",
     "output_type": "stream",
     "text": [
      "P-valor entre CON_PA_MECVV i SIN_PA: 0.6896369959432476\n"
     ]
    }
   ],
   "execution_count": 1393
  },
  {
   "metadata": {},
   "cell_type": "markdown",
   "source": "##### LRTI",
   "id": "4212eae2d2582253"
  },
  {
   "metadata": {
    "ExecuteTime": {
     "end_time": "2024-04-19T11:24:32.004025Z",
     "start_time": "2024-04-19T11:24:31.997542Z"
    }
   },
   "cell_type": "code",
   "source": [
    "stat_12, p_val_12 = mannwhitneyu(CON_PA['LRTI_diagnosticada'] == 1.0, CON_PA_MECVV['LRTI_diagnosticada'] == 1.0, alternative='two-sided')\n",
    "print(\"P-valor entre CON_PA i CON_PA_MECVV:\", p_val_12)"
   ],
   "id": "92b3f9c5ea82b67e",
   "outputs": [
    {
     "name": "stdout",
     "output_type": "stream",
     "text": [
      "P-valor entre CON_PA i CON_PA_MECVV: 0.9109318987037512\n"
     ]
    }
   ],
   "execution_count": 1394
  },
  {
   "metadata": {
    "ExecuteTime": {
     "end_time": "2024-04-19T11:24:37.553551Z",
     "start_time": "2024-04-19T11:24:37.545578Z"
    }
   },
   "cell_type": "code",
   "source": [
    "stat_13, p_val_13 = mannwhitneyu(CON_PA['LRTI_diagnosticada'] == 1.0, SIN_PA['LRTI_diagnosticada'] == 1.0,alternative='two-sided')\n",
    "print(\"P-valor entre CON_PA i SIN_PA:\", p_val_13)"
   ],
   "id": "7f648a914bf78cf7",
   "outputs": [
    {
     "name": "stdout",
     "output_type": "stream",
     "text": [
      "P-valor entre CON_PA i SIN_PA: 0.6863825106164784\n"
     ]
    }
   ],
   "execution_count": 1395
  },
  {
   "metadata": {
    "ExecuteTime": {
     "end_time": "2024-04-19T11:25:18.708990Z",
     "start_time": "2024-04-19T11:25:18.695066Z"
    }
   },
   "cell_type": "code",
   "source": [
    "stat_23, p_val_23 = mannwhitneyu(CON_PA_MECVV['LRTI_diagnosticada'] == 1.0, SIN_PA['LRTI_diagnosticada'] == 1.0, alternative='two-sided')\n",
    "print(\"P-valor entre CON_PA_MECVV i SIN_PA:\", p_val_23)"
   ],
   "id": "d64bc20d970d227a",
   "outputs": [
    {
     "name": "stdout",
     "output_type": "stream",
     "text": [
      "P-valor entre CON_PA_MECVV i SIN_PA: 0.8770107151211659\n"
     ]
    }
   ],
   "execution_count": 1396
  },
  {
   "metadata": {},
   "cell_type": "markdown",
   "source": "##### Exacerbacions de COPD",
   "id": "3f2c5d732213150e"
  },
  {
   "metadata": {
    "ExecuteTime": {
     "end_time": "2024-04-19T11:25:29.377726Z",
     "start_time": "2024-04-19T11:25:29.366885Z"
    }
   },
   "cell_type": "code",
   "source": [
    "stat_12, p_val_12 = mannwhitneyu(CON_PA['COPD_exacerbations_diagnosticada'] == 1.0, CON_PA_MECVV['COPD_exacerbations_diagnosticada'] == 1.0, alternative='two-sided')\n",
    "print(\"P-valor entre CON_PA i CON_PA_MECVV:\", p_val_12)"
   ],
   "id": "730e3b6ac0c3cabd",
   "outputs": [
    {
     "name": "stdout",
     "output_type": "stream",
     "text": [
      "P-valor entre CON_PA i CON_PA_MECVV: 1.0\n"
     ]
    }
   ],
   "execution_count": 1397
  },
  {
   "metadata": {
    "ExecuteTime": {
     "end_time": "2024-04-19T11:25:32.128123Z",
     "start_time": "2024-04-19T11:25:32.079792Z"
    }
   },
   "cell_type": "code",
   "source": [
    "stat_13, p_val_13 = mannwhitneyu(CON_PA['COPD_exacerbations_diagnosticada'] == 1.0, SIN_PA['COPD_exacerbations_diagnosticada'] == 1.0, alternative='two-sided')\n",
    "print(\"P-valor entre CON_PA i SIN_PA:\", p_val_13)"
   ],
   "id": "11cc00214bae88b1",
   "outputs": [
    {
     "name": "stdout",
     "output_type": "stream",
     "text": [
      "P-valor entre CON_PA i SIN_PA: 0.8132303236327403\n"
     ]
    }
   ],
   "execution_count": 1398
  },
  {
   "metadata": {
    "ExecuteTime": {
     "end_time": "2024-04-19T11:25:37.558279Z",
     "start_time": "2024-04-19T11:25:37.550514Z"
    }
   },
   "cell_type": "code",
   "source": [
    "stat_23, p_val_23 = mannwhitneyu(CON_PA_MECVV['COPD_exacerbations_diagnosticada'] == 1.0, SIN_PA['COPD_exacerbations_diagnosticada'] == 1.0, alternative='two-sided')\n",
    "print(\"P-valor entre CON_PA_MECVV i SIN_PA:\", p_val_23)"
   ],
   "id": "4df4d92107ced99b",
   "outputs": [
    {
     "name": "stdout",
     "output_type": "stream",
     "text": [
      "P-valor entre CON_PA_MECVV i SIN_PA: 0.8809554446418177\n"
     ]
    }
   ],
   "execution_count": 1399
  },
  {
   "metadata": {},
   "cell_type": "markdown",
   "source": "##### Fibrosi pulmonar i fibrotòrax",
   "id": "a60dfc8e06242970"
  },
  {
   "metadata": {
    "ExecuteTime": {
     "end_time": "2024-04-19T11:26:18.753640Z",
     "start_time": "2024-04-19T11:26:18.745388Z"
    }
   },
   "cell_type": "code",
   "source": [
    "stat_12, p_val_12 = mannwhitneyu(CON_PA['Pulmonary_fibrosis_fibrotorax_diagnosticada'] == 1.0, CON_PA_MECVV['Pulmonary_fibrosis_fibrotorax_diagnosticada'] == 1.0, alternative='two-sided')\n",
    "print(\"P-valor entre CON_PA i CON_PA_MECVV:\", p_val_12)"
   ],
   "id": "6f23c82ef51fa652",
   "outputs": [
    {
     "name": "stdout",
     "output_type": "stream",
     "text": [
      "P-valor entre CON_PA i CON_PA_MECVV: 1.0\n"
     ]
    }
   ],
   "execution_count": 1400
  },
  {
   "metadata": {
    "ExecuteTime": {
     "end_time": "2024-04-19T11:26:29.513098Z",
     "start_time": "2024-04-19T11:26:29.501186Z"
    }
   },
   "cell_type": "code",
   "source": [
    "stat_13, p_val_13 = mannwhitneyu(CON_PA['Pulmonary_fibrosis_fibrotorax_diagnosticada'] == 1.0, SIN_PA['Pulmonary_fibrosis_fibrotorax_diagnosticada'] == 1.0, alternative='two-sided')\n",
    "print(\"P-valor entre CON_PA i SIN_PA:\", p_val_13)"
   ],
   "id": "3a985c287c035f2e",
   "outputs": [
    {
     "name": "stdout",
     "output_type": "stream",
     "text": [
      "P-valor entre CON_PA i SIN_PA: 1.0\n"
     ]
    }
   ],
   "execution_count": 1401
  },
  {
   "metadata": {
    "ExecuteTime": {
     "end_time": "2024-04-19T11:26:32.243694Z",
     "start_time": "2024-04-19T11:26:32.232149Z"
    }
   },
   "cell_type": "code",
   "source": [
    "stat_23, p_val_23 = mannwhitneyu(CON_PA_MECVV['Pulmonary_fibrosis_fibrotorax_diagnosticada'] == 1.0, SIN_PA['Pulmonary_fibrosis_fibrotorax_diagnosticada'] == 1.0, alternative='two-sided')\n",
    "print(\"P-valor entre CON_PA_MECVV i SIN_PA:\", p_val_23)"
   ],
   "id": "4c421b907f887268",
   "outputs": [
    {
     "name": "stdout",
     "output_type": "stream",
     "text": [
      "P-valor entre CON_PA_MECVV i SIN_PA: 1.0\n"
     ]
    }
   ],
   "execution_count": 1402
  },
  {
   "metadata": {},
   "cell_type": "markdown",
   "source": "## Resultats de laboratori",
   "id": "1994fdc24d34089b"
  },
  {
   "metadata": {},
   "cell_type": "markdown",
   "source": "Les columnes generades a partir d'aquests resultats contenen valors tipus objecte, per tant, primer els transformaré a tipus numèric per poder realitzar les operacions que neccessitaré fer.",
   "id": "f1b6e375839cbf54"
  },
  {
   "metadata": {},
   "cell_type": "markdown",
   "source": "### Albúmina",
   "id": "600feb610c7340c3"
  },
  {
   "metadata": {
    "ExecuteTime": {
     "end_time": "2024-04-19T11:26:37.781255Z",
     "start_time": "2024-04-19T11:26:37.758469Z"
    }
   },
   "cell_type": "code",
   "source": [
    "CON_PA.loc[:, 'albumina'] = pd.to_numeric(CON_PA['albumina'], errors='coerce')\n",
    "\n",
    "promedio_alb = CON_PA['albumina'].mean()\n",
    "desviacion_estandar_alb = CON_PA['albumina'].std()\n",
    "\n",
    "resultado = f\"{promedio_alb:.2f} ± {desviacion_estandar_alb:.2f}\"\n",
    "print(\"Mitjana ± Desviació Estàndard de la albumina:\", resultado)"
   ],
   "id": "d82bf2d8022cff43",
   "outputs": [
    {
     "name": "stdout",
     "output_type": "stream",
     "text": [
      "Mitjana ± Desviació Estàndard de la albumina: 3.34 ± 0.38\n"
     ]
    }
   ],
   "execution_count": 1403
  },
  {
   "metadata": {
    "ExecuteTime": {
     "end_time": "2024-04-19T11:27:18.736043Z",
     "start_time": "2024-04-19T11:27:18.725072Z"
    }
   },
   "cell_type": "code",
   "source": [
    "CON_PA_MECVV.loc[:, 'albumina'] = pd.to_numeric(CON_PA_MECVV['albumina'], errors='coerce')\n",
    "\n",
    "promedio_alb = CON_PA_MECVV['albumina'].mean()\n",
    "desviacion_estandar_alb = CON_PA_MECVV['albumina'].std()\n",
    "\n",
    "resultado = f\"{promedio_alb:.2f} ± {desviacion_estandar_alb:.2f}\"\n",
    "print(\"Mitjana ± Desviació Estàndard de la albumina:\", resultado)"
   ],
   "id": "7cca36324c2cf548",
   "outputs": [
    {
     "name": "stdout",
     "output_type": "stream",
     "text": [
      "Mitjana ± Desviació Estàndard de la albumina: 3.47 ± 0.55\n"
     ]
    }
   ],
   "execution_count": 1404
  },
  {
   "metadata": {
    "ExecuteTime": {
     "end_time": "2024-04-19T11:27:29.577216Z",
     "start_time": "2024-04-19T11:27:29.559230Z"
    }
   },
   "cell_type": "code",
   "source": [
    "SIN_PA.loc[:, 'albumina'] = pd.to_numeric(SIN_PA['albumina'], errors='coerce')\n",
    "\n",
    "promedio_alb = SIN_PA['albumina'].mean()\n",
    "desviacion_estandar_alb = SIN_PA['albumina'].std()\n",
    "\n",
    "resultado = f\"{promedio_alb:.2f} ± {desviacion_estandar_alb:.2f}\"\n",
    "print(\"Mitjana ± Desviació Estàndard de la albumina:\", resultado)"
   ],
   "id": "122964c17f5d1955",
   "outputs": [
    {
     "name": "stdout",
     "output_type": "stream",
     "text": [
      "Mitjana ± Desviació Estàndard de la albumina: 3.58 ± 0.64\n"
     ]
    }
   ],
   "execution_count": 1405
  },
  {
   "metadata": {},
   "cell_type": "markdown",
   "source": "#### Pvalor",
   "id": "140d6cb42fabfa6a"
  },
  {
   "metadata": {},
   "cell_type": "markdown",
   "source": "##### Normalitat",
   "id": "f173bb6261e1d9fb"
  },
  {
   "metadata": {
    "ExecuteTime": {
     "end_time": "2024-04-19T11:27:32.281501Z",
     "start_time": "2024-04-19T11:27:32.235604Z"
    }
   },
   "cell_type": "code",
   "source": [
    "albpa = CON_PA['albumina'].dropna()\n",
    "stat, p_value = shapiro(albpa)\n",
    "print(f\"Estadístic W = {stat:.4f}\")\n",
    "print(f\"Valor p = {p_value:.8f}\")\n",
    "\n",
    "alpha = 0.05\n",
    "if p_value < alpha:\n",
    "    print(\"El nombre de files no segueix una distribució normal.\")\n",
    "else:\n",
    "    print(\"El nombre de files segueix una distribució normal.\")"
   ],
   "id": "6ea5de55bae13ed3",
   "outputs": [
    {
     "name": "stdout",
     "output_type": "stream",
     "text": [
      "Estadístic W = 0.9311\n",
      "Valor p = 0.56068160\n",
      "El número de files segueix una distribució normal.\n"
     ]
    }
   ],
   "execution_count": 1406
  },
  {
   "metadata": {
    "ExecuteTime": {
     "end_time": "2024-04-19T11:27:37.823700Z",
     "start_time": "2024-04-19T11:27:37.810457Z"
    }
   },
   "cell_type": "code",
   "source": [
    "albconpamecvv = CON_PA_MECVV['albumina'].dropna()\n",
    "stat, p_value = shapiro(albconpamecvv)\n",
    "print(f\"Estadístic W = {stat:.4f}\")\n",
    "print(f\"Valor p = {p_value:.8f}\")\n",
    "\n",
    "alpha = 0.05\n",
    "if p_value < alpha:\n",
    "    print(\"El nombre de files no segueix una distribució normal.\")\n",
    "else:\n",
    "    print(\"El nombre de files segueix una distribució normal.\")"
   ],
   "id": "eac722c12e60dad5",
   "outputs": [
    {
     "name": "stdout",
     "output_type": "stream",
     "text": [
      "Estadístic W = 0.9973\n",
      "Valor p = 0.89985028\n",
      "El número de files segueix una distribució normal.\n"
     ]
    }
   ],
   "execution_count": 1407
  },
  {
   "metadata": {
    "ExecuteTime": {
     "end_time": "2024-04-19T11:28:18.788238Z",
     "start_time": "2024-04-19T11:28:18.736892Z"
    }
   },
   "cell_type": "code",
   "source": [
    "albsinpa= SIN_PA['albumina'].dropna()\n",
    "stat, p_value = shapiro(albsinpa)\n",
    "print(f\"Estadístic W = {stat:.4f}\")\n",
    "print(f\"Valor p = {p_value:.8f}\")\n",
    "\n",
    "alpha = 0.05\n",
    "if p_value < alpha:\n",
    "    print(\"El nombre de files no segueix una distribució normal.\")\n",
    "else:\n",
    "    print(\"El nombre de files segueix una distribució normal.\")"
   ],
   "id": "b23033d034577b35",
   "outputs": [
    {
     "name": "stdout",
     "output_type": "stream",
     "text": [
      "Estadístic W = 0.9778\n",
      "Valor p = 0.92442182\n",
      "El número de files segueix una distribució normal.\n"
     ]
    }
   ],
   "execution_count": 1408
  },
  {
   "metadata": {
    "ExecuteTime": {
     "end_time": "2024-04-19T11:28:29.627539Z",
     "start_time": "2024-04-19T11:28:29.612460Z"
    }
   },
   "cell_type": "code",
   "source": [
    "t_stat_12, p_val_12 = ttest_ind(CON_PA['albumina'], CON_PA_MECVV['albumina'], equal_var=False)\n",
    "print(\"P-valor entre CON_PA i CON_PA_MECVV:\", p_val_12)"
   ],
   "id": "159226fd2d1b69f4",
   "outputs": [
    {
     "name": "stdout",
     "output_type": "stream",
     "text": [
      "P-valor entre CON_PA i CON_PA_MECVV: nan\n"
     ]
    }
   ],
   "execution_count": 1409
  },
  {
   "metadata": {
    "ExecuteTime": {
     "end_time": "2024-04-19T11:28:32.258532Z",
     "start_time": "2024-04-19T11:28:32.245991Z"
    }
   },
   "cell_type": "code",
   "source": [
    "t_stat_13, p_val_13 = ttest_ind(CON_PA['albumina'], SIN_PA['albumina'], equal_var=False)\n",
    "print(\"P-valor entre CON_PA i SIN_PA:\", p_val_13)"
   ],
   "id": "eb68749cfc425329",
   "outputs": [
    {
     "name": "stdout",
     "output_type": "stream",
     "text": [
      "P-valor entre CON_PA i SIN_PA: nan\n"
     ]
    }
   ],
   "execution_count": 1410
  },
  {
   "metadata": {
    "ExecuteTime": {
     "end_time": "2024-04-19T11:28:37.876808Z",
     "start_time": "2024-04-19T11:28:37.867824Z"
    }
   },
   "cell_type": "code",
   "source": [
    "t_stat_23, p_val_23 = ttest_ind(CON_PA_MECVV['albumina'], SIN_PA['albumina'], equal_var=False)\n",
    "print(\"P-valor entre CON_PA_MECVV i SIN_PA:\", p_val_23)"
   ],
   "id": "759454454163372f",
   "outputs": [
    {
     "name": "stdout",
     "output_type": "stream",
     "text": [
      "P-valor entre CON_PA_MECVV i SIN_PA: nan\n"
     ]
    }
   ],
   "execution_count": 1411
  },
  {
   "metadata": {},
   "cell_type": "markdown",
   "source": "### Proteïnes totals",
   "id": "c0e1c2d5adb30afb"
  },
  {
   "metadata": {
    "ExecuteTime": {
     "end_time": "2024-04-19T11:29:18.798632Z",
     "start_time": "2024-04-19T11:29:18.748550Z"
    }
   },
   "cell_type": "code",
   "source": [
    "CON_PA.loc[:, 'proteinas totales'] = pd.to_numeric(CON_PA['proteinas totales'], errors='coerce')\n",
    "\n",
    "promedio_prot = CON_PA['proteinas totales'].mean()\n",
    "desviacion_estandar_prot = CON_PA['proteinas totales'].std()\n",
    "\n",
    "resultado = f\"{promedio_prot:.2f} ± {desviacion_estandar_prot:.2f}\"\n",
    "print(\"Mitjana ± Desviació Estàndard de las proteinas totales:\", resultado)"
   ],
   "id": "8c74e6182119239f",
   "outputs": [
    {
     "name": "stdout",
     "output_type": "stream",
     "text": [
      "Mitjana ± Desviació Estàndard de las proteinas totales: 6.03 ± 0.73\n"
     ]
    }
   ],
   "execution_count": 1412
  },
  {
   "metadata": {
    "ExecuteTime": {
     "end_time": "2024-04-19T11:29:29.710299Z",
     "start_time": "2024-04-19T11:29:29.637969Z"
    }
   },
   "cell_type": "code",
   "source": [
    "CON_PA_MECVV.loc[:, 'proteinas totales'] = pd.to_numeric(CON_PA_MECVV['proteinas totales'], errors='coerce')\n",
    "\n",
    "promedio_prot = CON_PA_MECVV['proteinas totales'].mean()\n",
    "desviacion_estandar_prot = CON_PA_MECVV['proteinas totales'].std()\n",
    "\n",
    "resultado = f\"{promedio_prot:.2f} ± {desviacion_estandar_prot:.2f}\"\n",
    "print(\"Mitjana ± Desviació Estàndard de las proteinas totales:\", resultado)"
   ],
   "id": "11dbe86b42cd2240",
   "outputs": [
    {
     "name": "stdout",
     "output_type": "stream",
     "text": [
      "Mitjana ± Desviació Estàndard de las proteinas totales: 6.47 ± 0.76\n"
     ]
    }
   ],
   "execution_count": 1413
  },
  {
   "metadata": {
    "ExecuteTime": {
     "end_time": "2024-04-19T11:29:32.264683Z",
     "start_time": "2024-04-19T11:29:32.249733Z"
    }
   },
   "cell_type": "code",
   "source": [
    "SIN_PA.loc[:, 'proteinas totales'] = pd.to_numeric(SIN_PA['proteinas totales'], errors='coerce')\n",
    "\n",
    "promedio_prot = SIN_PA['proteinas totales'].mean()\n",
    "desviacion_estandar_prot = SIN_PA['proteinas totales'].std()\n",
    "\n",
    "resultado = f\"{promedio_prot:.2f} ± {desviacion_estandar_prot:.2f}\"\n",
    "print(\"Mitjana ± Desviació Estàndard de las proteinas totales:\", resultado)"
   ],
   "id": "55750e651260abb6",
   "outputs": [
    {
     "name": "stdout",
     "output_type": "stream",
     "text": [
      "Mitjana ± Desviació Estàndard de las proteinas totales: 6.12 ± 0.72\n"
     ]
    }
   ],
   "execution_count": 1414
  },
  {
   "metadata": {},
   "cell_type": "markdown",
   "source": "#### Pvalor",
   "id": "687aa6a75e9eab3a"
  },
  {
   "metadata": {},
   "cell_type": "markdown",
   "source": "##### Normalitat",
   "id": "5d71845005c90138"
  },
  {
   "metadata": {
    "ExecuteTime": {
     "end_time": "2024-04-19T11:29:37.897813Z",
     "start_time": "2024-04-19T11:29:37.885170Z"
    }
   },
   "cell_type": "code",
   "source": [
    "protconpa=CON_PA['proteinas totales'].dropna()\n",
    "stat, p_value = shapiro(protconpa)\n",
    "print(f\"Estadístic W = {stat:.4f}\")\n",
    "print(f\"Valor p = {p_value:.8f}\")\n",
    "\n",
    "alpha = 0.05\n",
    "if p_value < alpha:\n",
    "    print(\"El nombre de files no segueix una distribució normal.\")\n",
    "else:\n",
    "    print(\"El nombre de files segueix una distribució normal.\")"
   ],
   "id": "ee51e412a8693cf3",
   "outputs": [
    {
     "name": "stdout",
     "output_type": "stream",
     "text": [
      "Estadístic W = 0.9780\n",
      "Valor p = 0.95346065\n",
      "El número de files segueix una distribució normal.\n"
     ]
    }
   ],
   "execution_count": 1415
  },
  {
   "metadata": {
    "ExecuteTime": {
     "end_time": "2024-04-19T11:30:18.804480Z",
     "start_time": "2024-04-19T11:30:18.754350Z"
    }
   },
   "cell_type": "code",
   "source": [
    "protconpamecvv=CON_PA_MECVV['proteinas totales'].dropna()\n",
    "stat, p_value = shapiro(protconpamecvv)\n",
    "print(f\"Estadístic W = {stat:.4f}\")\n",
    "print(f\"Valor p = {p_value:.8f}\")\n",
    "\n",
    "alpha = 0.05\n",
    "if p_value < alpha:\n",
    "    print(\"El nombre de files no segueix una distribució normal.\")\n",
    "else:\n",
    "    print(\"El nombre de files segueix una distribució normal.\")"
   ],
   "id": "e32923c4cd92cc53",
   "outputs": [
    {
     "name": "stdout",
     "output_type": "stream",
     "text": [
      "Estadístic W = 0.9975\n",
      "Valor p = 0.99159177\n",
      "El número de files segueix una distribució normal.\n"
     ]
    }
   ],
   "execution_count": 1416
  },
  {
   "metadata": {
    "ExecuteTime": {
     "end_time": "2024-04-19T11:30:29.686725Z",
     "start_time": "2024-04-19T11:30:29.644502Z"
    }
   },
   "cell_type": "code",
   "source": [
    "protsinpa=SIN_PA['proteinas totales'].dropna()\n",
    "stat, p_value = shapiro(protsinpa)\n",
    "print(f\"Estadístic W = {stat:.4f}\")\n",
    "print(f\"Valor p = {p_value:.8f}\")\n",
    "\n",
    "alpha = 0.05\n",
    "if p_value < alpha:\n",
    "    print(\"El nombre de files no segueix una distribució normal.\")\n",
    "else:\n",
    "    print(\"El nombre de files segueix una distribució normal.\")"
   ],
   "id": "2a5814956c653504",
   "outputs": [
    {
     "name": "stdout",
     "output_type": "stream",
     "text": [
      "Estadístic W = 0.9753\n",
      "Valor p = 0.86021925\n",
      "El número de files segueix una distribució normal.\n"
     ]
    }
   ],
   "execution_count": 1417
  },
  {
   "metadata": {
    "ExecuteTime": {
     "end_time": "2024-04-19T11:30:32.306144Z",
     "start_time": "2024-04-19T11:30:32.259646Z"
    }
   },
   "cell_type": "code",
   "source": [
    "t_stat_12, p_val_12 = ttest_ind(CON_PA['proteinas totales'], CON_PA_MECVV['proteinas totales'], equal_var=False)\n",
    "print(\"P-valor entre CON_PA i CON_PA_MECVV:\", p_val_12)"
   ],
   "id": "640cfae7a64c728a",
   "outputs": [
    {
     "name": "stdout",
     "output_type": "stream",
     "text": [
      "P-valor entre CON_PA i CON_PA_MECVV: nan\n"
     ]
    }
   ],
   "execution_count": 1418
  },
  {
   "metadata": {
    "ExecuteTime": {
     "end_time": "2024-04-19T11:30:37.891303Z",
     "start_time": "2024-04-19T11:30:37.881591Z"
    }
   },
   "cell_type": "code",
   "source": [
    "t_stat_13, p_val_13 = ttest_ind(CON_PA['proteinas totales'], SIN_PA['proteinas totales'], equal_var=False)\n",
    "print(\"P-valor entre CON_PA i SIN_PA:\", p_val_13)"
   ],
   "id": "b77de581056bf467",
   "outputs": [
    {
     "name": "stdout",
     "output_type": "stream",
     "text": [
      "P-valor entre CON_PA i SIN_PA: nan\n"
     ]
    }
   ],
   "execution_count": 1419
  },
  {
   "metadata": {
    "ExecuteTime": {
     "end_time": "2024-04-19T11:31:18.781880Z",
     "start_time": "2024-04-19T11:31:18.774215Z"
    }
   },
   "cell_type": "code",
   "source": [
    "t_stat_23, p_val_23 = ttest_ind(CON_PA_MECVV['proteinas totales'], SIN_PA['proteinas totales'], equal_var=False)\n",
    "print(\"P-valor entre CON_PA_MECVV i SIN_PA:\", p_val_23)"
   ],
   "id": "75b2e46ee9c34956",
   "outputs": [
    {
     "name": "stdout",
     "output_type": "stream",
     "text": [
      "P-valor entre CON_PA_MECVV i SIN_PA: nan\n"
     ]
    }
   ],
   "execution_count": 1420
  },
  {
   "metadata": {},
   "cell_type": "markdown",
   "source": "### Hemoglobina",
   "id": "bc3fabda212d814d"
  },
  {
   "metadata": {
    "ExecuteTime": {
     "end_time": "2024-04-19T11:31:29.666399Z",
     "start_time": "2024-04-19T11:31:29.657156Z"
    }
   },
   "cell_type": "code",
   "source": [
    "CON_PA.loc[:, 'Hb'] = pd.to_numeric(CON_PA['Hb'], errors='coerce')\n",
    "\n",
    "promedio_hb = CON_PA['Hb'].mean()\n",
    "desviacion_estandar_hb = CON_PA['Hb'].std()\n",
    "\n",
    "resultado = f\"{promedio_hb:.2f} ± {desviacion_estandar_hb:.2f}\"\n",
    "print(\"Mitjana ± Desviació Estàndard de la hemoglobina:\", resultado)"
   ],
   "id": "4be0a89ba5a356a2",
   "outputs": [
    {
     "name": "stdout",
     "output_type": "stream",
     "text": [
      "Mitjana ± Desviació Estàndard de la hemoglobina: 12.34 ± 1.77\n"
     ]
    }
   ],
   "execution_count": 1421
  },
  {
   "metadata": {
    "ExecuteTime": {
     "end_time": "2024-04-19T11:31:32.279426Z",
     "start_time": "2024-04-19T11:31:32.272167Z"
    }
   },
   "cell_type": "code",
   "source": [
    "CON_PA_MECVV.loc[:, 'Hb'] = pd.to_numeric(CON_PA_MECVV['Hb'], errors='coerce')\n",
    "\n",
    "promedio_hb = CON_PA_MECVV['Hb'].mean()\n",
    "desviacion_estandar_hb = CON_PA_MECVV['Hb'].std()\n",
    "\n",
    "resultado = f\"{promedio_hb:.2f} ± {desviacion_estandar_hb:.2f}\"\n",
    "print(\"Mitjana ± Desviació Estàndard de la hemoglobina:\", resultado)"
   ],
   "id": "f1581c2d21067c8a",
   "outputs": [
    {
     "name": "stdout",
     "output_type": "stream",
     "text": [
      "Mitjana ± Desviació Estàndard de la hemoglobina: 13.22 ± 1.40\n"
     ]
    }
   ],
   "execution_count": 1422
  },
  {
   "metadata": {
    "ExecuteTime": {
     "end_time": "2024-04-19T11:31:37.940034Z",
     "start_time": "2024-04-19T11:31:37.891351Z"
    }
   },
   "cell_type": "code",
   "source": [
    "SIN_PA.loc[:, 'Hb'] = pd.to_numeric(SIN_PA['Hb'], errors='coerce')\n",
    "\n",
    "promedio_hb = SIN_PA['Hb'].mean()\n",
    "desviacion_estandar_hb = SIN_PA['Hb'].std()\n",
    "\n",
    "resultado = f\"{promedio_hb:.2f} ± {desviacion_estandar_hb:.2f}\"\n",
    "print(\"Mitjana ± Desviació Estàndard de la hemoglobina:\", resultado)"
   ],
   "id": "4dbaddd2b6faa4d0",
   "outputs": [
    {
     "name": "stdout",
     "output_type": "stream",
     "text": [
      "Mitjana ± Desviació Estàndard de la hemoglobina: 13.22 ± 2.16\n"
     ]
    }
   ],
   "execution_count": 1423
  },
  {
   "metadata": {},
   "cell_type": "markdown",
   "source": "##### Pvalor",
   "id": "ddc0429b449395b4"
  },
  {
   "metadata": {},
   "cell_type": "markdown",
   "source": "##### Normalitat",
   "id": "c382a95019a110b8"
  },
  {
   "metadata": {
    "ExecuteTime": {
     "end_time": "2024-04-19T11:32:18.805653Z",
     "start_time": "2024-04-19T11:32:18.793717Z"
    }
   },
   "cell_type": "code",
   "source": [
    "hbconpa=CON_PA['Hb'].dropna()\n",
    "stat, p_value = shapiro(hbconpa)\n",
    "print(f\"Estadístic W = {stat:.4f}\")\n",
    "print(f\"Valor p = {p_value:.8f}\")\n",
    "\n",
    "alpha = 0.05\n",
    "if p_value < alpha:\n",
    "    print(\"El nombre de files no segueix una distribució normal.\")\n",
    "else:\n",
    "    print(\"El nombre de files segueix una distribució normal.\")"
   ],
   "id": "4645c97120fb1fd3",
   "outputs": [
    {
     "name": "stdout",
     "output_type": "stream",
     "text": [
      "Estadístic W = 0.9304\n",
      "Valor p = 0.48501101\n",
      "El número de files segueix una distribució normal.\n"
     ]
    }
   ],
   "execution_count": 1424
  },
  {
   "metadata": {
    "ExecuteTime": {
     "end_time": "2024-04-19T11:32:29.716941Z",
     "start_time": "2024-04-19T11:32:29.667515Z"
    }
   },
   "cell_type": "code",
   "source": [
    "hbconpamecvv=CON_PA_MECVV['Hb'].dropna()\n",
    "stat, p_value = shapiro(hbconpamecvv)\n",
    "print(f\"Estadístic W = {stat:.4f}\")\n",
    "print(f\"Valor p = {p_value:.8f}\")\n",
    "\n",
    "alpha = 0.05\n",
    "if p_value < alpha:\n",
    "    print(\"El nombre de files no segueix una distribució normal.\")\n",
    "else:\n",
    "    print(\"El nombre de files segueix una distribució normal.\")"
   ],
   "id": "d79ccaeb50aaf990",
   "outputs": [
    {
     "name": "stdout",
     "output_type": "stream",
     "text": [
      "Estadístic W = 0.8592\n",
      "Valor p = 0.25743995\n",
      "El número de files segueix una distribució normal.\n"
     ]
    }
   ],
   "execution_count": 1425
  },
  {
   "metadata": {
    "ExecuteTime": {
     "end_time": "2024-04-19T11:32:32.333440Z",
     "start_time": "2024-04-19T11:32:32.280163Z"
    }
   },
   "cell_type": "code",
   "source": [
    "hbsinpa=SIN_PA['Hb'].dropna()\n",
    "stat, p_value = shapiro(hbsinpa)\n",
    "print(f\"Estadístic W = {stat:.4f}\")\n",
    "print(f\"Valor p = {p_value:.8f}\")\n",
    "\n",
    "alpha = 0.05\n",
    "if p_value < alpha:\n",
    "    print(\"El nombre de files no segueix una distribució normal.\")\n",
    "else:\n",
    "    print(\"El nombre de files segueix una distribució normal.\")"
   ],
   "id": "351dabcedb823e1a",
   "outputs": [
    {
     "name": "stdout",
     "output_type": "stream",
     "text": [
      "Estadístic W = 0.9551\n",
      "Valor p = 0.37239632\n",
      "El número de files segueix una distribució normal.\n"
     ]
    }
   ],
   "execution_count": 1426
  },
  {
   "metadata": {
    "ExecuteTime": {
     "end_time": "2024-04-19T11:32:37.914793Z",
     "start_time": "2024-04-19T11:32:37.900291Z"
    }
   },
   "cell_type": "code",
   "source": [
    "t_stat_12, p_val_12 = ttest_ind(CON_PA['Hb'], CON_PA_MECVV['Hb'], equal_var=False)\n",
    "print(\"P-valor entre CON_PA i CON_PA_MECVV:\", p_val_12)"
   ],
   "id": "5602c373ef7d4cb2",
   "outputs": [
    {
     "name": "stdout",
     "output_type": "stream",
     "text": [
      "P-valor entre CON_PA i CON_PA_MECVV: nan\n"
     ]
    }
   ],
   "execution_count": 1427
  },
  {
   "metadata": {
    "ExecuteTime": {
     "end_time": "2024-04-19T11:33:18.821556Z",
     "start_time": "2024-04-19T11:33:18.804669Z"
    }
   },
   "cell_type": "code",
   "source": [
    "t_stat_13, p_val_13 = ttest_ind(CON_PA['Hb'], SIN_PA['Hb'], equal_var=False)\n",
    "print(\"P-valor entre CON_PA i SIN_PA:\", p_val_13)"
   ],
   "id": "a1f56b13f87e1b8e",
   "outputs": [
    {
     "name": "stdout",
     "output_type": "stream",
     "text": [
      "P-valor entre CON_PA i SIN_PA: nan\n"
     ]
    }
   ],
   "execution_count": 1428
  },
  {
   "metadata": {
    "ExecuteTime": {
     "end_time": "2024-04-19T11:33:29.689328Z",
     "start_time": "2024-04-19T11:33:29.676389Z"
    }
   },
   "cell_type": "code",
   "source": [
    "t_stat_23, p_val_23 = ttest_ind(CON_PA_MECVV['Hb'], SIN_PA['Hb'], equal_var=False)\n",
    "print(\"P-valor entre CON_PA_MECVV i SIN_PA:\", p_val_23)"
   ],
   "id": "e5192f3a3700eb3a",
   "outputs": [
    {
     "name": "stdout",
     "output_type": "stream",
     "text": [
      "P-valor entre CON_PA_MECVV i SIN_PA: nan\n"
     ]
    }
   ],
   "execution_count": 1429
  },
  {
   "metadata": {},
   "cell_type": "markdown",
   "source": "### Colesterol ",
   "id": "69fb7071d7d6eaef"
  },
  {
   "metadata": {
    "ExecuteTime": {
     "end_time": "2024-04-19T11:33:32.328170Z",
     "start_time": "2024-04-19T11:33:32.311021Z"
    }
   },
   "cell_type": "code",
   "source": [
    "CON_PA.loc[:, 'colesterol total'] = pd.to_numeric(CON_PA['colesterol total'], errors='coerce')\n",
    "\n",
    "promedio_col = CON_PA['colesterol total'].mean()\n",
    "desviacion_estandar_col = CON_PA['colesterol total'].std()\n",
    "\n",
    "resultado = f\"{promedio_col:.2f} ± {desviacion_estandar_col:.2f}\"\n",
    "print(\"Mitjana ± Desviació Estàndard del colesterol total:\", resultado)"
   ],
   "id": "fe8d9b7560d6730",
   "outputs": [
    {
     "name": "stdout",
     "output_type": "stream",
     "text": [
      "Mitjana ± Desviació Estàndard del colesterol total: 132.10 ± 34.83\n"
     ]
    }
   ],
   "execution_count": 1430
  },
  {
   "metadata": {
    "ExecuteTime": {
     "end_time": "2024-04-19T11:33:37.927890Z",
     "start_time": "2024-04-19T11:33:37.920333Z"
    }
   },
   "cell_type": "code",
   "source": [
    "CON_PA_MECVV.loc[:, 'colesterol total'] = pd.to_numeric(CON_PA_MECVV['colesterol total'], errors='coerce')\n",
    "\n",
    "promedio_col = CON_PA_MECVV['colesterol total'].mean()\n",
    "desviacion_estandar_col = CON_PA_MECVV['colesterol total'].std()\n",
    "\n",
    "resultado = f\"{promedio_col:.2f} ± {desviacion_estandar_col:.2f}\"\n",
    "print(\"Mitjana ± Desviació Estàndard del colesterol total:\", resultado)"
   ],
   "id": "8546537e62ad77dd",
   "outputs": [
    {
     "name": "stdout",
     "output_type": "stream",
     "text": [
      "Mitjana ± Desviació Estàndard del colesterol total: 111.90 ± 28.37\n"
     ]
    }
   ],
   "execution_count": 1431
  },
  {
   "metadata": {
    "ExecuteTime": {
     "end_time": "2024-04-19T11:34:18.860622Z",
     "start_time": "2024-04-19T11:34:18.846904Z"
    }
   },
   "cell_type": "code",
   "source": [
    "SIN_PA.loc[:, 'colesterol total'] = pd.to_numeric(SIN_PA['colesterol total'], errors='coerce')\n",
    "\n",
    "promedio_col = SIN_PA['colesterol total'].mean()\n",
    "desviacion_estandar_col = SIN_PA['colesterol total'].std()\n",
    "\n",
    "resultado = f\"{promedio_col:.2f} ± {desviacion_estandar_col:.2f}\"\n",
    "print(\"Mitjana ± Desviació Estàndard del colesterol total:\", resultado)"
   ],
   "id": "9e49175aad80cbde",
   "outputs": [
    {
     "name": "stdout",
     "output_type": "stream",
     "text": [
      "Mitjana ± Desviació Estàndard del colesterol total: 145.27 ± 40.45\n"
     ]
    }
   ],
   "execution_count": 1432
  },
  {
   "metadata": {},
   "cell_type": "markdown",
   "source": "#### Pvalor",
   "id": "1eaeaee06918537e"
  },
  {
   "metadata": {},
   "cell_type": "markdown",
   "source": [
    "##### Normalitat \n",
    "\n"
   ],
   "id": "7e22980115bb759b"
  },
  {
   "metadata": {
    "ExecuteTime": {
     "end_time": "2024-04-19T11:34:29.741783Z",
     "start_time": "2024-04-19T11:34:29.692610Z"
    }
   },
   "cell_type": "code",
   "source": [
    "colconpa=CON_PA['colesterol total'].dropna()\n",
    "stat, p_value = shapiro(colconpa)\n",
    "print(f\"Estadístic W = {stat:.4f}\")\n",
    "print(f\"Valor p = {p_value:.8f}\")\n",
    "\n",
    "alpha = 0.05\n",
    "if p_value < alpha:\n",
    "    print(\"El nombre de files no segueix una distribució normal.\")\n",
    "else:\n",
    "    print(\"El nombre de files segueix una distribució normal.\")"
   ],
   "id": "135b3c8f15d09625",
   "outputs": [
    {
     "name": "stdout",
     "output_type": "stream",
     "text": [
      "Estadístic W = 0.9887\n",
      "Valor p = 0.99048226\n",
      "El número de files segueix una distribució normal.\n"
     ]
    }
   ],
   "execution_count": 1433
  },
  {
   "metadata": {
    "ExecuteTime": {
     "end_time": "2024-04-19T11:34:32.392080Z",
     "start_time": "2024-04-19T11:34:32.372319Z"
    }
   },
   "cell_type": "code",
   "source": [
    "colconpamecvv=CON_PA_MECVV['colesterol total'].dropna()\n",
    "stat, p_value = shapiro(colconpamecvv)\n",
    "print(f\"Estadístic W = {stat:.4f}\")\n",
    "print(f\"Valor p = {p_value:.8f}\")\n",
    "\n",
    "alpha = 0.05\n",
    "if p_value < alpha:\n",
    "    print(\"El nombre de files no segueix una distribució normal.\")\n",
    "else:\n",
    "    print(\"El nombre de files segueix una distribució normal.\")"
   ],
   "id": "35555189779cc831",
   "outputs": [
    {
     "name": "stdout",
     "output_type": "stream",
     "text": [
      "Estadístic W = 0.9462\n",
      "Valor p = 0.55290474\n",
      "El número de files segueix una distribució normal.\n"
     ]
    }
   ],
   "execution_count": 1434
  },
  {
   "metadata": {
    "ExecuteTime": {
     "end_time": "2024-04-19T11:34:38.833090Z",
     "start_time": "2024-04-19T11:34:38.821733Z"
    }
   },
   "cell_type": "code",
   "source": [
    "colsinpa=SIN_PA['colesterol total'].dropna()\n",
    "stat, p_value = shapiro(colsinpa)\n",
    "print(f\"Estadístic W = {stat:.4f}\")\n",
    "print(f\"Valor p = {p_value:.8f}\")\n",
    "\n",
    "alpha = 0.05\n",
    "if p_value < alpha:\n",
    "    print(\"El nombre de files no segueix una distribució normal.\")\n",
    "else:\n",
    "    print(\"El nombre de files segueix una distribució normal.\")"
   ],
   "id": "bb384e047dbdd903",
   "outputs": [
    {
     "name": "stdout",
     "output_type": "stream",
     "text": [
      "Estadístic W = 0.9725\n",
      "Valor p = 0.84373822\n",
      "El número de files segueix una distribució normal.\n"
     ]
    }
   ],
   "execution_count": 1435
  },
  {
   "metadata": {
    "ExecuteTime": {
     "end_time": "2024-04-19T11:35:18.841216Z",
     "start_time": "2024-04-19T11:35:18.829411Z"
    }
   },
   "cell_type": "code",
   "source": [
    "t_stat_12, p_val_12 = ttest_ind(CON_PA['colesterol total'], CON_PA_MECVV['colesterol total'], equal_var=False)\n",
    "print(\"P-valor entre CON_PA i CON_PA_MECVV:\", p_val_12)"
   ],
   "id": "c656a0d73bb5551d",
   "outputs": [
    {
     "name": "stdout",
     "output_type": "stream",
     "text": [
      "P-valor entre CON_PA i CON_PA_MECVV: nan\n"
     ]
    }
   ],
   "execution_count": 1436
  },
  {
   "metadata": {
    "ExecuteTime": {
     "end_time": "2024-04-19T11:35:29.717002Z",
     "start_time": "2024-04-19T11:35:29.710126Z"
    }
   },
   "cell_type": "code",
   "source": [
    "t_stat_13, p_val_13 = ttest_ind(CON_PA['colesterol total'], SIN_PA['colesterol total'], equal_var=False)\n",
    "print(\"P-valor entre CON_PA i SIN_PA:\", p_val_13)"
   ],
   "id": "308784ac133fab84",
   "outputs": [
    {
     "name": "stdout",
     "output_type": "stream",
     "text": [
      "P-valor entre CON_PA i SIN_PA: nan\n"
     ]
    }
   ],
   "execution_count": 1437
  },
  {
   "metadata": {
    "ExecuteTime": {
     "end_time": "2024-04-19T11:35:32.444703Z",
     "start_time": "2024-04-19T11:35:32.398122Z"
    }
   },
   "cell_type": "code",
   "source": [
    "t_stat_23, p_val_23 = ttest_ind(CON_PA_MECVV['colesterol total'], SIN_PA['colesterol total'], equal_var=False)\n",
    "print(\"P-valor entre CON_PA_MECVV i SIN_PA:\", p_val_23)"
   ],
   "id": "a981d08ea9a0e6c4",
   "outputs": [
    {
     "name": "stdout",
     "output_type": "stream",
     "text": [
      "P-valor entre CON_PA_MECVV i SIN_PA: nan\n"
     ]
    }
   ],
   "execution_count": 1438
  },
  {
   "metadata": {},
   "cell_type": "markdown",
   "source": "### Leucòcits",
   "id": "7e1abe2f5bcccb21"
  },
  {
   "metadata": {
    "ExecuteTime": {
     "end_time": "2024-04-19T11:35:38.896591Z",
     "start_time": "2024-04-19T11:35:38.845478Z"
    }
   },
   "cell_type": "code",
   "source": [
    "CON_PA.loc[:, 'leucos'] = pd.to_numeric(CON_PA['leucos'], errors='coerce')\n",
    "\n",
    "promedio_leu = CON_PA['leucos'].mean()\n",
    "desviacion_estandar_leu = CON_PA['leucos'].std()\n",
    "\n",
    "resultado = f\"{promedio_leu:.2f} ± {desviacion_estandar_leu:.2f}\"\n",
    "print(\"Mitjana ± Desviació Estàndard dels leucòcits:\", resultado)"
   ],
   "id": "4430c7eeb483cea3",
   "outputs": [
    {
     "name": "stdout",
     "output_type": "stream",
     "text": [
      "Mitjana ± Desviació Estàndard de los leucocitos: 12.69 ± 4.88\n"
     ]
    }
   ],
   "execution_count": 1439
  },
  {
   "metadata": {
    "ExecuteTime": {
     "end_time": "2024-04-19T11:36:18.952930Z",
     "start_time": "2024-04-19T11:36:18.906346Z"
    }
   },
   "cell_type": "code",
   "source": [
    "CON_PA_MECVV.loc[:, 'leucos'] = pd.to_numeric(CON_PA_MECVV['leucos'], errors='coerce')\n",
    "\n",
    "promedio_leu = CON_PA_MECVV['leucos'].mean()\n",
    "desviacion_estandar_leu = CON_PA_MECVV['leucos'].std()\n",
    "\n",
    "resultado = f\"{promedio_leu:.2f} ± {desviacion_estandar_leu:.2f}\"\n",
    "print(\"Mitjana ± Desviació Estàndard dels leucòcits:\", resultado)"
   ],
   "id": "3ad74bc493302210",
   "outputs": [
    {
     "name": "stdout",
     "output_type": "stream",
     "text": [
      "Mitjana ± Desviació Estàndard de los leucocitos: 13.08 ± 6.83\n"
     ]
    }
   ],
   "execution_count": 1440
  },
  {
   "metadata": {
    "ExecuteTime": {
     "end_time": "2024-04-19T11:36:29.816674Z",
     "start_time": "2024-04-19T11:36:29.808083Z"
    }
   },
   "cell_type": "code",
   "source": [
    "SIN_PA.loc[:, 'leucos'] = pd.to_numeric(SIN_PA['leucos'], errors='coerce')\n",
    "\n",
    "promedio_leu = SIN_PA['leucos'].mean()\n",
    "desviacion_estandar_leu = SIN_PA['leucos'].std()\n",
    "\n",
    "resultado = f\"{promedio_leu:.2f} ± {desviacion_estandar_leu:.2f}\"\n",
    "print(\"Mitjana ± Desviació Estàndard dels leucòcits:\", resultado)"
   ],
   "id": "99a1a6295c361a2c",
   "outputs": [
    {
     "name": "stdout",
     "output_type": "stream",
     "text": [
      "Mitjana ± Desviació Estàndard de los leucocitos: 11.52 ± 6.52\n"
     ]
    }
   ],
   "execution_count": 1441
  },
  {
   "metadata": {},
   "cell_type": "markdown",
   "source": "#### Pvalor ",
   "id": "9511b2de133ed812"
  },
  {
   "metadata": {},
   "cell_type": "markdown",
   "source": "##### Normalitat",
   "id": "d1fa962aa6b639d3"
  },
  {
   "metadata": {
    "ExecuteTime": {
     "end_time": "2024-04-19T11:36:32.470913Z",
     "start_time": "2024-04-19T11:36:32.419214Z"
    }
   },
   "cell_type": "code",
   "source": [
    "leuconpa=CON_PA['leucos'].dropna()\n",
    "stat, p_value = shapiro(leuconpa)\n",
    "print(f\"Estadístic W = {stat:.4f}\")\n",
    "print(f\"Valor p = {p_value:.8f}\")\n",
    "\n",
    "alpha = 0.05\n",
    "if p_value < alpha:\n",
    "    print(\"El nombre de files no segueix una distribució normal.\")\n",
    "else:\n",
    "    print(\"El nombre de files segueix una distribució normal.\")"
   ],
   "id": "c19926c8fe5c2c29",
   "outputs": [
    {
     "name": "stdout",
     "output_type": "stream",
     "text": [
      "Estadístic W = 0.8482\n",
      "Valor p = 0.09127190\n",
      "El número de files segueix una distribució normal.\n"
     ]
    }
   ],
   "execution_count": 1442
  },
  {
   "metadata": {
    "ExecuteTime": {
     "end_time": "2024-04-19T11:36:38.875042Z",
     "start_time": "2024-04-19T11:36:38.859489Z"
    }
   },
   "cell_type": "code",
   "source": [
    "leuconpamecvv=CON_PA_MECVV['leucos'].dropna()\n",
    "stat, p_value = shapiro(leuconpamecvv)\n",
    "print(f\"Estadístic W = {stat:.4f}\")\n",
    "print(f\"Valor p = {p_value:.8f}\")\n",
    "\n",
    "alpha = 0.05\n",
    "if p_value < alpha:\n",
    "    print(\"El nombre de files no segueix una distribució normal.\")\n",
    "else:\n",
    "    print(\"El nombre de files segueix una distribució normal.\")"
   ],
   "id": "94aa3e5f50110b82",
   "outputs": [
    {
     "name": "stdout",
     "output_type": "stream",
     "text": [
      "Estadístic W = 0.8939\n",
      "Valor p = 0.40148390\n",
      "El número de files segueix una distribució normal.\n"
     ]
    }
   ],
   "execution_count": 1443
  },
  {
   "metadata": {
    "ExecuteTime": {
     "end_time": "2024-04-19T11:37:18.916796Z",
     "start_time": "2024-04-19T11:37:18.905293Z"
    }
   },
   "cell_type": "code",
   "source": [
    "leusinpa=SIN_PA['leucos'].dropna()\n",
    "stat, p_value = shapiro(leusinpa)\n",
    "print(f\"Estadístic W = {stat:.4f}\")\n",
    "print(f\"Valor p = {p_value:.8f}\")\n",
    "\n",
    "alpha = 0.05\n",
    "if p_value < alpha:\n",
    "    print(\"El nombre de files no segueix una distribució normal.\")\n",
    "else:\n",
    "    print(\"El nombre de files segueix una distribució normal.\")"
   ],
   "id": "85f281e368032537",
   "outputs": [
    {
     "name": "stdout",
     "output_type": "stream",
     "text": [
      "Estadístic W = 0.8178\n",
      "Valor p = 0.00096236\n",
      "El número de files no segueix una distribució normal.\n"
     ]
    }
   ],
   "execution_count": 1444
  },
  {
   "metadata": {
    "ExecuteTime": {
     "end_time": "2024-04-19T11:37:29.863275Z",
     "start_time": "2024-04-19T11:37:29.821053Z"
    }
   },
   "cell_type": "code",
   "source": [
    "t_stat_12, p_val_12 = ttest_ind(CON_PA['leucos'], CON_PA_MECVV['leucos'], equal_var=False)\n",
    "print(\"P-valor entre CON_PA i CON_PA_MECVV:\", p_val_12)"
   ],
   "id": "59295ec2bdcca38d",
   "outputs": [
    {
     "name": "stdout",
     "output_type": "stream",
     "text": [
      "P-valor entre CON_PA i CON_PA_MECVV: nan\n"
     ]
    }
   ],
   "execution_count": 1445
  },
  {
   "metadata": {
    "ExecuteTime": {
     "end_time": "2024-04-19T11:37:32.512324Z",
     "start_time": "2024-04-19T11:37:32.503848Z"
    }
   },
   "cell_type": "code",
   "source": [
    "t_stat_13, p_val_13 = mannwhitneyu(CON_PA['leucos'], SIN_PA['leucos'], alternative='two-sided')\n",
    "print(\"P-valor entre CON_PA i SIN_PA:\", p_val_13)"
   ],
   "id": "79ab95afbed3f45c",
   "outputs": [
    {
     "name": "stdout",
     "output_type": "stream",
     "text": [
      "P-valor entre CON_PA i SIN_PA: nan\n"
     ]
    }
   ],
   "execution_count": 1446
  },
  {
   "metadata": {
    "ExecuteTime": {
     "end_time": "2024-04-19T11:37:41.105105Z",
     "start_time": "2024-04-19T11:37:41.097914Z"
    }
   },
   "cell_type": "code",
   "source": [
    "t_stat_23, p_val_23 = mannwhitneyu(CON_PA_MECVV['leucos'], SIN_PA['leucos'], alternative='two-sided')\n",
    "print(\"P-valor entre CON_PA_MECVV i SIN_PA:\", p_val_23)"
   ],
   "id": "9d6e12e2297c2edb",
   "outputs": [
    {
     "name": "stdout",
     "output_type": "stream",
     "text": [
      "P-valor entre CON_PA_MECVV i SIN_PA: nan\n"
     ]
    }
   ],
   "execution_count": 1447
  },
  {
   "metadata": {},
   "cell_type": "markdown",
   "source": "### Limfòcits %",
   "id": "c7ba36254173c3f"
  },
  {
   "metadata": {
    "ExecuteTime": {
     "end_time": "2024-04-19T11:37:41.685632Z",
     "start_time": "2024-04-19T11:37:41.673259Z"
    }
   },
   "cell_type": "code",
   "source": [
    "CON_PA.loc[:, 'limfos'] = pd.to_numeric(CON_PA['limfos'], errors='coerce')\n",
    "\n",
    "promedio_limf = CON_PA['limfos'].mean()\n",
    "desviacion_estandar_limf = CON_PA['limfos'].std()\n",
    "\n",
    "resultado = f\"{promedio_limf:.2f} ± {desviacion_estandar_limf:.2f}\"\n",
    "print(\"Mitjana ± Desviació Estàndard dels limfòcits %:\", resultado)"
   ],
   "id": "c25fb26ede6fabe0",
   "outputs": [
    {
     "name": "stdout",
     "output_type": "stream",
     "text": [
      "Mitjana ± Desviació Estàndard de los limfocitos %: 16.70 ± 12.29\n"
     ]
    }
   ],
   "execution_count": 1448
  },
  {
   "metadata": {
    "ExecuteTime": {
     "end_time": "2024-04-19T11:37:42.588615Z",
     "start_time": "2024-04-19T11:37:42.580316Z"
    }
   },
   "cell_type": "code",
   "source": [
    "CON_PA_MECVV.loc[:, 'limfos'] = pd.to_numeric(CON_PA_MECVV['limfos'], errors='coerce')\n",
    "\n",
    "promedio_limf = CON_PA_MECVV['limfos'].mean()\n",
    "desviacion_estandar_limf = CON_PA_MECVV['limfos'].std()\n",
    "\n",
    "resultado = f\"{promedio_limf:.2f} ± {desviacion_estandar_limf:.2f}\"\n",
    "print(\"Mitjana ± Desviació Estàndard delss limfòcits %:\", resultado)"
   ],
   "id": "3d1f97bbff88b3d3",
   "outputs": [
    {
     "name": "stdout",
     "output_type": "stream",
     "text": [
      "Mitjana ± Desviació Estàndard de los limfocitos %: 17.20 ± 9.35\n"
     ]
    }
   ],
   "execution_count": 1449
  },
  {
   "metadata": {
    "ExecuteTime": {
     "end_time": "2024-04-19T11:37:43.432789Z",
     "start_time": "2024-04-19T11:37:43.420004Z"
    }
   },
   "cell_type": "code",
   "source": [
    "SIN_PA.loc[:, 'limfos'] = pd.to_numeric(SIN_PA['limfos'], errors='coerce')\n",
    "\n",
    "promedio_limf = SIN_PA['limfos'].mean()\n",
    "desviacion_estandar_limf = SIN_PA['limfos'].std()\n",
    "\n",
    "resultado = f\"{promedio_limf:.2f} ± {desviacion_estandar_limf:.2f}\"\n",
    "print(\"Mitjana ± Desviació Estàndard dels limfòcits %:\", resultado)"
   ],
   "id": "4284d3f2b93fd461",
   "outputs": [
    {
     "name": "stdout",
     "output_type": "stream",
     "text": [
      "Mitjana ± Desviació Estàndard de los limfocitos %: 19.50 ± 11.57\n"
     ]
    }
   ],
   "execution_count": 1450
  },
  {
   "metadata": {},
   "cell_type": "markdown",
   "source": "#### Pvalor",
   "id": "d631c6aabf1ddcfc"
  },
  {
   "metadata": {},
   "cell_type": "markdown",
   "source": "##### Normalitat",
   "id": "e588502cfbc929f6"
  },
  {
   "metadata": {
    "ExecuteTime": {
     "end_time": "2024-04-19T11:37:43.989009Z",
     "start_time": "2024-04-19T11:37:43.981917Z"
    }
   },
   "cell_type": "code",
   "source": [
    "limfconpa=CON_PA['limfos'].dropna()\n",
    "stat, p_value = shapiro(limfconpa)\n",
    "print(f\"Estadístic W = {stat:.4f}\")\n",
    "print(f\"Valor p = {p_value:.8f}\")\n",
    "\n",
    "alpha = 0.05\n",
    "if p_value < alpha:\n",
    "    print(\"El nombre de files no segueix una distribució normal.\")\n",
    "else:\n",
    "    print(\"El nombre de files segueix una distribució normal.\")"
   ],
   "id": "35499da84250aa12",
   "outputs": [
    {
     "name": "stdout",
     "output_type": "stream",
     "text": [
      "Estadístic W = 0.8208\n",
      "Valor p = 0.04757269\n",
      "El número de files no segueix una distribució normal.\n"
     ]
    }
   ],
   "execution_count": 1451
  },
  {
   "metadata": {
    "ExecuteTime": {
     "end_time": "2024-04-19T11:37:44.980316Z",
     "start_time": "2024-04-19T11:37:44.964105Z"
    }
   },
   "cell_type": "code",
   "source": [
    "limfconpamecvv=CON_PA_MECVV['limfos'].dropna()\n",
    "stat, p_value = shapiro(limfconpamecvv)\n",
    "print(f\"Estadístic W = {stat:.4f}\")\n",
    "print(f\"Valor p = {p_value:.8f}\")\n",
    "\n",
    "alpha = 0.05\n",
    "if p_value < alpha:\n",
    "    print(\"El nombre de files no segueix una distribució normal.\")\n",
    "else:\n",
    "    print(\"El nombre de files segueix una distribució normal.\")"
   ],
   "id": "3bd081c99ed663f5",
   "outputs": [
    {
     "name": "stdout",
     "output_type": "stream",
     "text": [
      "Estadístic W = 0.9374\n",
      "Valor p = 0.51710593\n",
      "El número de files segueix una distribució normal.\n"
     ]
    }
   ],
   "execution_count": 1452
  },
  {
   "metadata": {
    "ExecuteTime": {
     "end_time": "2024-04-19T11:37:45.948179Z",
     "start_time": "2024-04-19T11:37:45.939430Z"
    }
   },
   "cell_type": "code",
   "source": [
    "limfsinpa=SIN_PA['limfos'].dropna()\n",
    "stat, p_value = shapiro(limfsinpa)\n",
    "print(f\"Estadístic W = {stat:.4f}\")\n",
    "print(f\"Valor p = {p_value:.8f}\")\n",
    "\n",
    "alpha = 0.05\n",
    "if p_value < alpha:\n",
    "    print(\"El nombre de files no segueix una distribució normal.\")\n",
    "else:\n",
    "    print(\"El nombre de files segueix una distribució normal.\")"
   ],
   "id": "e6f37e02700095ad",
   "outputs": [
    {
     "name": "stdout",
     "output_type": "stream",
     "text": [
      "Estadístic W = 0.9290\n",
      "Valor p = 0.13154504\n",
      "El número de files segueix una distribució normal.\n"
     ]
    }
   ],
   "execution_count": 1453
  },
  {
   "metadata": {
    "ExecuteTime": {
     "end_time": "2024-04-19T11:37:46.797427Z",
     "start_time": "2024-04-19T11:37:46.786861Z"
    }
   },
   "cell_type": "code",
   "source": [
    "stat_12, p_val_12 = mannwhitneyu(CON_PA['limfos'], CON_PA_MECVV['limfos'], alternative='two-sided')\n",
    "print(\"P-valor entre CON_PA i CON_PA_MECVV:\", p_val_12)"
   ],
   "id": "1f687355004bb722",
   "outputs": [
    {
     "name": "stdout",
     "output_type": "stream",
     "text": [
      "P-valor entre CON_PA i CON_PA_MECVV: nan\n"
     ]
    }
   ],
   "execution_count": 1454
  },
  {
   "metadata": {
    "ExecuteTime": {
     "end_time": "2024-04-19T11:37:47.429664Z",
     "start_time": "2024-04-19T11:37:47.421384Z"
    }
   },
   "cell_type": "code",
   "source": [
    "t_stat_13, p_val_13 = ttest_ind(CON_PA['limfos'], SIN_PA['limfos'], equal_var=False)\n",
    "print(\"P-valor entre CON_PA i SIN_PA:\", p_val_13)"
   ],
   "id": "cdc7d555c89a97a",
   "outputs": [
    {
     "name": "stdout",
     "output_type": "stream",
     "text": [
      "P-valor entre CON_PA i SIN_PA: nan\n"
     ]
    }
   ],
   "execution_count": 1455
  },
  {
   "metadata": {
    "ExecuteTime": {
     "end_time": "2024-04-19T11:37:48.151685Z",
     "start_time": "2024-04-19T11:37:48.143387Z"
    }
   },
   "cell_type": "code",
   "source": [
    "stat_23, p_val_23 = mannwhitneyu(CON_PA_MECVV['limfos'], SIN_PA['limfos'], alternative='two-sided')\n",
    "print(\"P-valor entre CON_PA_MECVV i SIN_PA:\", p_val_23)"
   ],
   "id": "475aa2b5d327df7c",
   "outputs": [
    {
     "name": "stdout",
     "output_type": "stream",
     "text": [
      "P-valor entre CON_PA_MECVV i SIN_PA: nan\n"
     ]
    }
   ],
   "execution_count": 1456
  },
  {
   "metadata": {},
   "cell_type": "markdown",
   "source": "### Proteïna C Reactiva",
   "id": "b5af48dc4725f34c"
  },
  {
   "metadata": {
    "ExecuteTime": {
     "end_time": "2024-04-19T11:37:48.675048Z",
     "start_time": "2024-04-19T11:37:48.664906Z"
    }
   },
   "cell_type": "code",
   "source": [
    "CON_PA.loc[:, 'prot C react'] = pd.to_numeric(CON_PA['prot C react'], errors='coerce')\n",
    "\n",
    "promedio_protcr = CON_PA['prot C react'].mean()\n",
    "desviacion_estandar_protcr = CON_PA['prot C react'].std()\n",
    "\n",
    "resultado = f\"{promedio_protcr:.2f} ± {desviacion_estandar_protcr:.2f}\"\n",
    "print(\"Mitjana ± Desviació Estàndard de la proteïna C reactiva:\", resultado)"
   ],
   "id": "98e283277d756533",
   "outputs": [
    {
     "name": "stdout",
     "output_type": "stream",
     "text": [
      "Mitjana ± Desviació Estàndard de la proteina C reactiva: 8.90 ± 5.47\n"
     ]
    }
   ],
   "execution_count": 1457
  },
  {
   "metadata": {
    "ExecuteTime": {
     "end_time": "2024-04-19T11:37:49.397116Z",
     "start_time": "2024-04-19T11:37:49.353068Z"
    }
   },
   "cell_type": "code",
   "source": [
    "CON_PA_MECVV.loc[:, 'prot C react'] = pd.to_numeric(CON_PA_MECVV['prot C react'], errors='coerce')\n",
    "\n",
    "promedio_protcr = CON_PA_MECVV['prot C react'].mean()\n",
    "desviacion_estandar_protcr = CON_PA_MECVV['prot C react'].std()\n",
    "\n",
    "resultado = f\"{promedio_protcr:.2f} ± {desviacion_estandar_protcr:.2f}\"\n",
    "print(\"Mitjana ± Desviació Estàndard de la proteïna C reactiva:\", resultado)"
   ],
   "id": "8b515311fed50137",
   "outputs": [
    {
     "name": "stdout",
     "output_type": "stream",
     "text": [
      "Mitjana ± Desviació Estàndard de la proteina C reactiva: 8.88 ± 3.63\n"
     ]
    }
   ],
   "execution_count": 1458
  },
  {
   "metadata": {
    "ExecuteTime": {
     "end_time": "2024-04-19T11:37:50.004725Z",
     "start_time": "2024-04-19T11:37:49.993025Z"
    }
   },
   "cell_type": "code",
   "source": [
    "SIN_PA.loc[:, 'prot C react'] = pd.to_numeric(SIN_PA['prot C react'], errors='coerce')\n",
    "\n",
    "promedio_protcr = SIN_PA['prot C react'].mean()\n",
    "desviacion_estandar_protcr = SIN_PA['prot C react'].std()\n",
    "\n",
    "resultado = f\"{promedio_protcr:.2f} ± {desviacion_estandar_protcr:.2f}\"\n",
    "print(\"Mitjana ± Desviació Estàndard de la proteïna C reactiva:\", resultado)"
   ],
   "id": "7ddab15e5c37a380",
   "outputs": [
    {
     "name": "stdout",
     "output_type": "stream",
     "text": [
      "Mitjana ± Desviació Estàndard de la proteina C reactiva: 6.16 ± 6.19\n"
     ]
    }
   ],
   "execution_count": 1459
  },
  {
   "metadata": {},
   "cell_type": "markdown",
   "source": "#### Pvalor",
   "id": "b31569a040499bc0"
  },
  {
   "metadata": {},
   "cell_type": "markdown",
   "source": "##### Normalitat",
   "id": "a9b9a9f6b0ba7bc9"
  },
  {
   "metadata": {
    "ExecuteTime": {
     "end_time": "2024-04-19T11:37:50.862617Z",
     "start_time": "2024-04-19T11:37:50.814814Z"
    }
   },
   "cell_type": "code",
   "source": [
    "pcrconpa=CON_PA['prot C react'].dropna()\n",
    "stat, p_value = shapiro(pcrconpa)\n",
    "print(f\"Estadístic W = {stat:.4f}\")\n",
    "print(f\"Valor p = {p_value:.8f}\")\n",
    "\n",
    "alpha = 0.05\n",
    "if p_value < alpha:\n",
    "    print(\"El nombre de files no segueix una distribució normal.\")\n",
    "else:\n",
    "    print(\"El nombre de files segueix una distribució normal.\")"
   ],
   "id": "74effc43ec1d103d",
   "outputs": [
    {
     "name": "stdout",
     "output_type": "stream",
     "text": [
      "Estadístic W = 0.9423\n",
      "Valor p = 0.60665876\n",
      "El número de files segueix una distribució normal.\n"
     ]
    }
   ],
   "execution_count": 1460
  },
  {
   "metadata": {
    "ExecuteTime": {
     "end_time": "2024-04-19T11:37:51.792765Z",
     "start_time": "2024-04-19T11:37:51.745705Z"
    }
   },
   "cell_type": "code",
   "source": [
    "pcrconpamecvv=CON_PA_MECVV['prot C react'].dropna()\n",
    "stat, p_value = shapiro(pcrconpamecvv)\n",
    "print(f\"Estadístic W = {stat:.4f}\")\n",
    "print(f\"Valor p = {p_value:.8f}\")\n",
    "\n",
    "alpha = 0.05\n",
    "if p_value < alpha:\n",
    "    print(\"El nombre de files no segueix una distribució normal.\")\n",
    "else:\n",
    "    print(\"El nombre de files segueix una distribució normal.\")"
   ],
   "id": "126e457734e0cd5f",
   "outputs": [
    {
     "name": "stdout",
     "output_type": "stream",
     "text": [
      "Estadístic W = 0.7886\n",
      "Valor p = 0.08325234\n",
      "El número de files segueix una distribució normal.\n"
     ]
    }
   ],
   "execution_count": 1461
  },
  {
   "metadata": {
    "ExecuteTime": {
     "end_time": "2024-04-19T11:37:52.410077Z",
     "start_time": "2024-04-19T11:37:52.366397Z"
    }
   },
   "cell_type": "code",
   "source": [
    "pcrsinpa=SIN_PA['prot C react'].dropna()\n",
    "stat, p_value = shapiro(pcrsinpa)\n",
    "print(f\"Estadístic W = {stat:.4f}\")\n",
    "print(f\"Valor p = {p_value:.8f}\")\n",
    "\n",
    "alpha = 0.05\n",
    "if p_value < alpha:\n",
    "    print(\"El nombre de files no segueix una distribució normal.\")\n",
    "else:\n",
    "    print(\"El nombre de files segueix una distribució normal.\")"
   ],
   "id": "d4b76e6566e60aef",
   "outputs": [
    {
     "name": "stdout",
     "output_type": "stream",
     "text": [
      "Estadístic W = 0.8698\n",
      "Valor p = 0.00636559\n",
      "El número de files no segueix una distribució normal.\n"
     ]
    }
   ],
   "execution_count": 1462
  },
  {
   "metadata": {
    "ExecuteTime": {
     "end_time": "2024-04-19T11:37:53.017044Z",
     "start_time": "2024-04-19T11:37:53.008116Z"
    }
   },
   "cell_type": "code",
   "source": [
    "t_stat_12, p_val_12 = ttest_ind(CON_PA['prot C react'], CON_PA_MECVV['prot C react'], equal_var=False)\n",
    "print(\"P-valor entre CON_PA i CON_PA_MECVV:\", p_val_12)"
   ],
   "id": "4ac26b19e5a637c4",
   "outputs": [
    {
     "name": "stdout",
     "output_type": "stream",
     "text": [
      "P-valor entre CON_PA i CON_PA_MECVV: nan\n"
     ]
    }
   ],
   "execution_count": 1463
  },
  {
   "metadata": {
    "ExecuteTime": {
     "end_time": "2024-04-19T11:37:55.776964Z",
     "start_time": "2024-04-19T11:37:55.731834Z"
    }
   },
   "cell_type": "code",
   "source": [
    "t_stat_13, p_val_13 = mannwhitneyu(CON_PA['prot C react'], SIN_PA['prot C react'], alternative='two-sided')\n",
    "print(\"P-valor entre CON_PA i SIN_PA:\", p_val_13)"
   ],
   "id": "c066108d69febfac",
   "outputs": [
    {
     "name": "stdout",
     "output_type": "stream",
     "text": [
      "P-valor entre CON_PA i SIN_PA: nan\n"
     ]
    }
   ],
   "execution_count": 1464
  },
  {
   "metadata": {
    "ExecuteTime": {
     "end_time": "2024-04-19T11:37:56.734389Z",
     "start_time": "2024-04-19T11:37:56.724416Z"
    }
   },
   "cell_type": "code",
   "source": [
    "t_stat_23, p_val_23 = mannwhitneyu(CON_PA_MECVV['prot C react'], SIN_PA['prot C react'], alternative='two-sided')\n",
    "print(\"P-valor entre CON_PA_MECVV i SIN_PA:\", p_val_23)"
   ],
   "id": "990e6825240cb2cc",
   "outputs": [
    {
     "name": "stdout",
     "output_type": "stream",
     "text": [
      "P-valor entre CON_PA_MECVV i SIN_PA: nan\n"
     ]
    }
   ],
   "execution_count": 1465
  },
  {
   "metadata": {},
   "cell_type": "markdown",
   "source": "### Urea ",
   "id": "70407b79d2781378"
  },
  {
   "metadata": {
    "ExecuteTime": {
     "end_time": "2024-04-19T11:37:57.333614Z",
     "start_time": "2024-04-19T11:37:57.323618Z"
    }
   },
   "cell_type": "code",
   "source": [
    "CON_PA.loc[:, 'urea'] = pd.to_numeric(CON_PA['urea'], errors='coerce')\n",
    "\n",
    "promedio_urea = CON_PA['urea'].mean()\n",
    "desviacion_estandar_urea = CON_PA['urea'].std()\n",
    "\n",
    "resultado = f\"{promedio_urea:.2f} ± {desviacion_estandar_urea:.2f}\"\n",
    "print(\"Mitjana ± Desviació Estàndard de la urea:\", resultado)"
   ],
   "id": "6d830574cb2474c2",
   "outputs": [
    {
     "name": "stdout",
     "output_type": "stream",
     "text": [
      "Mitjana ± Desviació Estàndard de la urea: 62.17 ± 36.37\n"
     ]
    }
   ],
   "execution_count": 1466
  },
  {
   "metadata": {
    "ExecuteTime": {
     "end_time": "2024-04-19T11:37:57.997866Z",
     "start_time": "2024-04-19T11:37:57.987783Z"
    }
   },
   "cell_type": "code",
   "source": [
    "CON_PA_MECVV.loc[:, 'urea'] = pd.to_numeric(CON_PA_MECVV['urea'], errors='coerce')\n",
    "\n",
    "promedio_urea = CON_PA_MECVV['urea'].mean()\n",
    "desviacion_estandar_urea = CON_PA_MECVV['urea'].std()\n",
    "\n",
    "resultado = f\"{promedio_urea:.2f} ± {desviacion_estandar_urea:.2f}\"\n",
    "print(\"Mitjana ± Desviació Estàndard de la urea:\", resultado)"
   ],
   "id": "115f038f7b499570",
   "outputs": [
    {
     "name": "stdout",
     "output_type": "stream",
     "text": [
      "Mitjana ± Desviació Estàndard de la urea: 62.37 ± 37.72\n"
     ]
    }
   ],
   "execution_count": 1467
  },
  {
   "metadata": {
    "ExecuteTime": {
     "end_time": "2024-04-19T11:37:58.752566Z",
     "start_time": "2024-04-19T11:37:58.707397Z"
    }
   },
   "cell_type": "code",
   "source": [
    "SIN_PA.loc[:, 'urea'] = pd.to_numeric(SIN_PA['urea'], errors='coerce')\n",
    "\n",
    "promedio_urea = SIN_PA['urea'].mean()\n",
    "desviacion_estandar_urea = SIN_PA['urea'].std()\n",
    "\n",
    "resultado = f\"{promedio_urea:.2f} ± {desviacion_estandar_urea:.2f}\"\n",
    "print(\"Mitjana ± Desviació Estàndard de la urea:\", resultado)"
   ],
   "id": "128b7760b5b53c87",
   "outputs": [
    {
     "name": "stdout",
     "output_type": "stream",
     "text": [
      "Mitjana ± Desviació Estàndard de la urea: 55.03 ± 30.66\n"
     ]
    }
   ],
   "execution_count": 1468
  },
  {
   "metadata": {},
   "cell_type": "markdown",
   "source": "#### Pvalor",
   "id": "9845a84dff03ee36"
  },
  {
   "metadata": {},
   "cell_type": "markdown",
   "source": "##### Normalitat",
   "id": "779d3f8d9a8af548"
  },
  {
   "metadata": {
    "ExecuteTime": {
     "end_time": "2024-04-19T11:37:59.213115Z",
     "start_time": "2024-04-19T11:37:59.204775Z"
    }
   },
   "cell_type": "code",
   "source": [
    "uconpa=CON_PA['urea'].dropna()\n",
    "stat, p_value = shapiro(uconpa)\n",
    "print(f\"Estadístic W = {stat:.4f}\")\n",
    "print(f\"Valor p = {p_value:.8f}\")\n",
    "\n",
    "alpha = 0.05\n",
    "if p_value < alpha:\n",
    "    print(\"El nombre de files no segueix una distribució normal.\")\n",
    "else:\n",
    "    print(\"El nombre de files segueix una distribució normal.\")"
   ],
   "id": "2152753661c990b",
   "outputs": [
    {
     "name": "stdout",
     "output_type": "stream",
     "text": [
      "Estadístic W = 0.8842\n",
      "Valor p = 0.17374314\n",
      "El número de files segueix una distribució normal.\n"
     ]
    }
   ],
   "execution_count": 1469
  },
  {
   "metadata": {
    "ExecuteTime": {
     "end_time": "2024-04-19T11:37:59.792261Z",
     "start_time": "2024-04-19T11:37:59.741465Z"
    }
   },
   "cell_type": "code",
   "source": [
    "uconpamecvv=CON_PA_MECVV['urea'].dropna()\n",
    "stat, p_value = shapiro(uconpamecvv)\n",
    "print(f\"Estadístic W = {stat:.4f}\")\n",
    "print(f\"Valor p = {p_value:.8f}\")\n",
    "\n",
    "alpha = 0.05\n",
    "if p_value < alpha:\n",
    "    print(\"El nombre de files no segueix una distribució normal.\")\n",
    "else:\n",
    "    print(\"El nombre de files segueix una distribució normal.\")"
   ],
   "id": "3f8b1350804e2149",
   "outputs": [
    {
     "name": "stdout",
     "output_type": "stream",
     "text": [
      "Estadístic W = 0.8991\n",
      "Valor p = 0.42677381\n",
      "El número de files segueix una distribució normal.\n"
     ]
    }
   ],
   "execution_count": 1470
  },
  {
   "metadata": {
    "ExecuteTime": {
     "end_time": "2024-04-19T11:38:00.379987Z",
     "start_time": "2024-04-19T11:38:00.334557Z"
    }
   },
   "cell_type": "code",
   "source": [
    "usinpa=SIN_PA['urea'].dropna()\n",
    "stat, p_value = shapiro(usinpa)\n",
    "print(f\"Estadístic W = {stat:.4f}\")\n",
    "print(f\"Valor p = {p_value:.8f}\")\n",
    "\n",
    "alpha = 0.05\n",
    "if p_value < alpha:\n",
    "    print(\"El nombre de files no segueix una distribució normal.\")\n",
    "else:\n",
    "    print(\"El nombre de files segueix una distribució normal.\")"
   ],
   "id": "f05d4f0e1466a0e4",
   "outputs": [
    {
     "name": "stdout",
     "output_type": "stream",
     "text": [
      "Estadístic W = 0.8289\n",
      "Valor p = 0.00115364\n",
      "El número de files no segueix una distribució normal.\n"
     ]
    }
   ],
   "execution_count": 1471
  },
  {
   "metadata": {
    "ExecuteTime": {
     "end_time": "2024-04-19T11:38:01.200018Z",
     "start_time": "2024-04-19T11:38:01.193650Z"
    }
   },
   "cell_type": "code",
   "source": [
    "t_stat_12, p_val_12 = ttest_ind(CON_PA['urea'], CON_PA_MECVV['urea'], equal_var=False)\n",
    "print(\"P-valor entre CON_PA i CON_PA_MECVV:\", p_val_12)"
   ],
   "id": "8ecd8760328f0c7c",
   "outputs": [
    {
     "name": "stdout",
     "output_type": "stream",
     "text": [
      "P-valor entre CON_PA i CON_PA_MECVV: nan\n"
     ]
    }
   ],
   "execution_count": 1472
  },
  {
   "metadata": {
    "ExecuteTime": {
     "end_time": "2024-04-19T11:38:02.137099Z",
     "start_time": "2024-04-19T11:38:02.129825Z"
    }
   },
   "cell_type": "code",
   "source": [
    "t_stat_13, p_val_13 = mannwhitneyu(CON_PA['urea'], SIN_PA['urea'], alternative='two-sided')\n",
    "print(\"P-valor entre CON_PA i SIN_PA:\", p_val_13)"
   ],
   "id": "a5fc71afbb44df64",
   "outputs": [
    {
     "name": "stdout",
     "output_type": "stream",
     "text": [
      "P-valor entre CON_PA i SIN_PA: nan\n"
     ]
    }
   ],
   "execution_count": 1473
  },
  {
   "metadata": {
    "ExecuteTime": {
     "end_time": "2024-04-19T11:38:02.668421Z",
     "start_time": "2024-04-19T11:38:02.661867Z"
    }
   },
   "cell_type": "code",
   "source": [
    "t_stat_23, p_val_23 = mannwhitneyu(CON_PA_MECVV['urea'], SIN_PA['urea'], alternative='two-sided')\n",
    "print(\"P-valor entre CON_PA_MECVV i SIN_PA:\", p_val_23)"
   ],
   "id": "6c6fdbd824f81824",
   "outputs": [
    {
     "name": "stdout",
     "output_type": "stream",
     "text": [
      "P-valor entre CON_PA_MECVV i SIN_PA: nan\n"
     ]
    }
   ],
   "execution_count": 1474
  },
  {
   "metadata": {},
   "cell_type": "markdown",
   "source": "### Filtrat glomerular CDK-EPI",
   "id": "97c39fd36060d222"
  },
  {
   "metadata": {
    "ExecuteTime": {
     "end_time": "2024-04-19T11:38:03.436956Z",
     "start_time": "2024-04-19T11:38:03.389769Z"
    }
   },
   "cell_type": "code",
   "source": [
    "CON_PA.loc[:, 'FGE CDK-EPI'] = pd.to_numeric(CON_PA['FGE CDK-EPI'], errors='coerce')\n",
    "\n",
    "promedio_fg = CON_PA['FGE CDK-EPI'].mean()\n",
    "desviacion_estandar_fg = CON_PA['FGE CDK-EPI'].std()\n",
    "\n",
    "resultado = f\"{promedio_fg:.2f} ± {desviacion_estandar_fg:.2f}\"\n",
    "print(\"Mitjana ± Desviació Estàndard de la filtració glomerular CDK-EPI:\", resultado)"
   ],
   "id": "335089755b149003",
   "outputs": [
    {
     "name": "stdout",
     "output_type": "stream",
     "text": [
      "Mitjana ± Desviació Estàndard de la filtracion glomerular CDK-EPI: 56.00 ± 12.65\n"
     ]
    }
   ],
   "execution_count": 1475
  },
  {
   "metadata": {
    "ExecuteTime": {
     "end_time": "2024-04-19T11:38:03.935545Z",
     "start_time": "2024-04-19T11:38:03.928879Z"
    }
   },
   "cell_type": "code",
   "source": [
    "CON_PA_MECVV.loc[:, 'FGE CDK-EPI'] = pd.to_numeric(CON_PA_MECVV['FGE CDK-EPI'], errors='coerce')\n",
    "\n",
    "promedio_fg = CON_PA_MECVV['FGE CDK-EPI'].mean()\n",
    "desviacion_estandar_fg = CON_PA_MECVV['FGE CDK-EPI'].std()\n",
    "\n",
    "resultado = f\"{promedio_fg:.2f} ± {desviacion_estandar_fg:.2f}\"\n",
    "print(\"Mitjana ± Desviació Estàndard de la filtració glomerular CDK-EPI:\", resultado)"
   ],
   "id": "a8bb2317b53cefaf",
   "outputs": [
    {
     "name": "stdout",
     "output_type": "stream",
     "text": [
      "Mitjana ± Desviació Estàndard de la filtracion glomerular CDK-EPI: 54.67 ± 13.32\n"
     ]
    }
   ],
   "execution_count": 1476
  },
  {
   "metadata": {
    "ExecuteTime": {
     "end_time": "2024-04-19T11:38:04.315918Z",
     "start_time": "2024-04-19T11:38:04.307366Z"
    }
   },
   "cell_type": "code",
   "source": [
    "SIN_PA.loc[:, 'FGE CDK-EPI'] = pd.to_numeric(SIN_PA['FGE CDK-EPI'], errors='coerce')\n",
    "\n",
    "promedio_fg = SIN_PA['FGE CDK-EPI'].mean()\n",
    "desviacion_estandar_fg = SIN_PA['FGE CDK-EPI'].std()\n",
    "\n",
    "resultado = f\"{promedio_fg:.2f} ± {desviacion_estandar_fg:.2f}\"\n",
    "print(\"Mitjana ± Desviació Estàndard de la filtració glomerular CDK-EPI:\", resultado)"
   ],
   "id": "d3b100faffc74bb4",
   "outputs": [
    {
     "name": "stdout",
     "output_type": "stream",
     "text": [
      "Mitjana ± Desviació Estàndard de la filtracion glomerular CDK-EPI: 58.56 ± 18.40\n"
     ]
    }
   ],
   "execution_count": 1477
  },
  {
   "metadata": {},
   "cell_type": "markdown",
   "source": "#### Pvalor",
   "id": "3a6a732fb32c6a40"
  },
  {
   "metadata": {},
   "cell_type": "markdown",
   "source": "##### Normalitat",
   "id": "6b6b3b3c035d716c"
  },
  {
   "metadata": {
    "ExecuteTime": {
     "end_time": "2024-04-19T11:38:05.032222Z",
     "start_time": "2024-04-19T11:38:04.993778Z"
    }
   },
   "cell_type": "code",
   "source": [
    "fgepiconpa=CON_PA['FGE CDK-EPI'].dropna()\n",
    "stat, p_value = shapiro(fgepiconpa)\n",
    "print(f\"Estadístic W = {stat:.4f}\")\n",
    "print(f\"Valor p = {p_value:.8f}\")\n",
    "\n",
    "alpha = 0.05\n",
    "if p_value < alpha:\n",
    "    print(\"El nombre de files no segueix una distribució normal.\")\n",
    "else:\n",
    "    print(\"El nombre de files segueix una distribució normal.\")"
   ],
   "id": "e037b2e5cfd6ac84",
   "outputs": [
    {
     "name": "stdout",
     "output_type": "stream",
     "text": [
      "Estadístic W = 0.7690\n",
      "Valor p = 0.01994941\n",
      "El número de files no segueix una distribució normal.\n"
     ]
    }
   ],
   "execution_count": 1478
  },
  {
   "metadata": {
    "ExecuteTime": {
     "end_time": "2024-04-19T11:38:05.611128Z",
     "start_time": "2024-04-19T11:38:05.603799Z"
    }
   },
   "cell_type": "code",
   "source": [
    "fgepiconpamecvv=CON_PA_MECVV['FGE CDK-EPI'].dropna()\n",
    "stat, p_value = shapiro(fgepiconpamecvv)\n",
    "print(f\"Estadístic W = {stat:.4f}\")\n",
    "print(f\"Valor p = {p_value:.8f}\")\n",
    "\n",
    "alpha = 0.05\n",
    "if p_value < alpha:\n",
    "    print(\"El nombre de files no segueix una distribució normal.\")\n",
    "else:\n",
    "    print(\"El nombre de files segueix una distribució normal.\")"
   ],
   "id": "6cfa62e76f8cd3eb",
   "outputs": [
    {
     "name": "stdout",
     "output_type": "stream",
     "text": [
      "Estadístic W = 0.8120\n",
      "Valor p = 0.14355397\n",
      "El número de files segueix una distribució normal.\n"
     ]
    }
   ],
   "execution_count": 1479
  },
  {
   "metadata": {
    "ExecuteTime": {
     "end_time": "2024-04-19T11:38:06.693023Z",
     "start_time": "2024-04-19T11:38:06.646694Z"
    }
   },
   "cell_type": "code",
   "source": [
    "fgepisinpa=SIN_PA['FGE CDK-EPI'].dropna()\n",
    "stat, p_value = shapiro(fgepisinpa)\n",
    "print(f\"Estadístic W = {stat:.4f}\")\n",
    "print(f\"Valor p = {p_value:.8f}\")\n",
    "\n",
    "alpha = 0.05\n",
    "if p_value < alpha:\n",
    "    print(\"El nombre de files no segueix una distribució normal.\")\n",
    "else:\n",
    "    print(\"El nombre de files segueix una distribució normal.\")"
   ],
   "id": "77f862b514fccffc",
   "outputs": [
    {
     "name": "stdout",
     "output_type": "stream",
     "text": [
      "Estadístic W = 0.9160\n",
      "Valor p = 0.14543070\n",
      "El número de files segueix una distribució normal.\n"
     ]
    }
   ],
   "execution_count": 1480
  },
  {
   "metadata": {
    "ExecuteTime": {
     "end_time": "2024-04-19T11:38:07.610305Z",
     "start_time": "2024-04-19T11:38:07.598663Z"
    }
   },
   "cell_type": "code",
   "source": [
    "t_stat_12, p_val_12 = mannwhitneyu(CON_PA['FGE CDK-EPI'], CON_PA_MECVV['FGE CDK-EPI'], alternative='two-sided')\n",
    "print(\"P-valor entre CON_PA i CON_PA_MECVV:\", p_val_12)"
   ],
   "id": "b577d9671e51df70",
   "outputs": [
    {
     "name": "stdout",
     "output_type": "stream",
     "text": [
      "P-valor entre CON_PA i CON_PA_MECVV: nan\n"
     ]
    }
   ],
   "execution_count": 1481
  },
  {
   "metadata": {
    "ExecuteTime": {
     "end_time": "2024-04-19T11:38:09.344343Z",
     "start_time": "2024-04-19T11:38:09.338423Z"
    }
   },
   "cell_type": "code",
   "source": [
    "t_stat_13, p_val_13 = mannwhitneyu(CON_PA['FGE CDK-EPI'], SIN_PA['FGE CDK-EPI'], alternative='two-sided')\n",
    "print(\"P-valor entre CON_PA i CON_PA_MECVV:\", p_val_13)"
   ],
   "id": "c64990f8c660b675",
   "outputs": [
    {
     "name": "stdout",
     "output_type": "stream",
     "text": [
      "P-valor entre CON_PA i CON_PA_MECVV: nan\n"
     ]
    }
   ],
   "execution_count": 1482
  },
  {
   "metadata": {
    "ExecuteTime": {
     "end_time": "2024-04-19T11:38:18.958258Z",
     "start_time": "2024-04-19T11:38:18.948191Z"
    }
   },
   "cell_type": "code",
   "source": [
    "t_stat_23, p_val_23 = ttest_ind(CON_PA_MECVV['FGE CDK-EPI'], SIN_PA['FGE CDK-EPI'], equal_var=False)\n",
    "print(\"P-valor entre CON_PA_MECVV i SIN_PA:\", p_val_23)"
   ],
   "id": "cacb3815726e054",
   "outputs": [
    {
     "name": "stdout",
     "output_type": "stream",
     "text": [
      "P-valor entre CON_PA_MECVV i SIN_PA: nan\n"
     ]
    }
   ],
   "execution_count": 1483
  },
  {
   "metadata": {},
   "cell_type": "markdown",
   "source": "### Filtrat glomerular MDRD",
   "id": "5661efefb2d6fbd2"
  },
  {
   "metadata": {
    "ExecuteTime": {
     "end_time": "2024-04-19T11:38:29.870963Z",
     "start_time": "2024-04-19T11:38:29.856514Z"
    }
   },
   "cell_type": "code",
   "source": [
    "CON_PA.loc[:, 'FGE MDRD'] = pd.to_numeric(CON_PA['FGE MDRD'], errors='coerce')\n",
    "\n",
    "promedio_fgmd = CON_PA['FGE MDRD'].mean()\n",
    "desviacion_estandar_fgmd = CON_PA['FGE MDRD'].std()\n",
    "\n",
    "resultado = f\"{promedio_fgmd:.2f} ± {desviacion_estandar_fgmd:.2f}\"\n",
    "print(\"Mitjana ± Desviació Estàndard de la filtració glomerular MDRD:\", resultado)"
   ],
   "id": "2e37a6ab86652bfb",
   "outputs": [
    {
     "name": "stdout",
     "output_type": "stream",
     "text": [
      "Mitjana ± Desviació Estàndard de la filtracion glomerular MDRD: 51.50 ± 0.71\n"
     ]
    }
   ],
   "execution_count": 1484
  },
  {
   "metadata": {
    "ExecuteTime": {
     "end_time": "2024-04-19T11:38:32.534774Z",
     "start_time": "2024-04-19T11:38:32.526039Z"
    }
   },
   "cell_type": "code",
   "source": [
    "CON_PA_MECVV.loc[:, 'FGE MDRD'] = pd.to_numeric(CON_PA_MECVV['FGE MDRD'], errors='coerce')\n",
    "\n",
    "promedio_fgmd = CON_PA_MECVV['FGE MDRD'].mean()\n",
    "desviacion_estandar_fgmd = CON_PA_MECVV['FGE MDRD'].std()\n",
    "\n",
    "resultado = f\"{promedio_fgmd:.2f} ± {desviacion_estandar_fgmd:.2f}\"\n",
    "print(\"Mitjana ± Desviació Estàndard de la filtració glomerular MDRD:\", resultado)"
   ],
   "id": "3739fed61774b2d4",
   "outputs": [
    {
     "name": "stdout",
     "output_type": "stream",
     "text": [
      "Mitjana ± Desviació Estàndard de la filtracion glomerular MDRD: nan ± nan\n"
     ]
    }
   ],
   "execution_count": 1485
  },
  {
   "metadata": {
    "ExecuteTime": {
     "end_time": "2024-04-19T11:39:09.382210Z",
     "start_time": "2024-04-19T11:39:09.348918Z"
    }
   },
   "cell_type": "code",
   "source": [
    "SIN_PA.loc[:, 'FGE MDRD'] = pd.to_numeric(SIN_PA['FGE MDRD'], errors='coerce')\n",
    "\n",
    "promedio_fgmd = SIN_PA['FGE MDRD'].mean()\n",
    "desviacion_estandar_fgmd = SIN_PA['FGE MDRD'].std()\n",
    "\n",
    "resultado = f\"{promedio_fgmd:.2f} ± {desviacion_estandar_fgmd:.2f}\"\n",
    "print(\"Mitjana ± Desviació Estàndard de la filtració glomerular MDRD:\", resultado)"
   ],
   "id": "763541413be056c5",
   "outputs": [
    {
     "name": "stdout",
     "output_type": "stream",
     "text": [
      "Mitjana ± Desviació Estàndard de la filtracion glomerular MDRD: 37.67 ± 17.43\n"
     ]
    }
   ],
   "execution_count": 1486
  },
  {
   "metadata": {},
   "cell_type": "markdown",
   "source": "#### Pvalor",
   "id": "65917b1a82a35e66"
  },
  {
   "metadata": {},
   "cell_type": "markdown",
   "source": "##### Normalitat",
   "id": "c5cecc47ecaebc3a"
  },
  {
   "metadata": {
    "ExecuteTime": {
     "end_time": "2024-04-19T11:39:19.203209Z",
     "start_time": "2024-04-19T11:39:18.958377Z"
    }
   },
   "cell_type": "code",
   "source": [
    "fgmd = CON_PA['FGE MDRD'].dropna()\n",
    "stat, p_value = shapiro(fgmd)\n",
    "print(f\"Estadístic W = {stat:.4f}\")\n",
    "print(f\"Valor p = {p_value:.8f}\")\n",
    "\n",
    "alpha = 0.05\n",
    "if p_value < alpha:\n",
    "    print(\"El nombre de files no segueix una distribució normal.\")\n",
    "else:\n",
    "    print(\"El nombre de files segueix una distribució normal.\")\n"
   ],
   "id": "45b2bfc023427f2e",
   "outputs": [
    {
     "ename": "ValueError",
     "evalue": "Data must be at least length 3.",
     "output_type": "error",
     "traceback": [
      "\u001B[1;31m---------------------------------------------------------------------------\u001B[0m",
      "\u001B[1;31mValueError\u001B[0m                                Traceback (most recent call last)",
      "Cell \u001B[1;32mIn[1487], line 2\u001B[0m\n\u001B[0;32m      1\u001B[0m fgmd \u001B[38;5;241m=\u001B[39m CON_PA[\u001B[38;5;124m'\u001B[39m\u001B[38;5;124mFGE MDRD\u001B[39m\u001B[38;5;124m'\u001B[39m]\u001B[38;5;241m.\u001B[39mdropna()\n\u001B[1;32m----> 2\u001B[0m stat, p_value \u001B[38;5;241m=\u001B[39m \u001B[43mshapiro\u001B[49m\u001B[43m(\u001B[49m\u001B[43mfgmd\u001B[49m\u001B[43m)\u001B[49m\n\u001B[0;32m      3\u001B[0m \u001B[38;5;28mprint\u001B[39m(\u001B[38;5;124mf\u001B[39m\u001B[38;5;124m\"\u001B[39m\u001B[38;5;124mEstadístic W = \u001B[39m\u001B[38;5;132;01m{\u001B[39;00mstat\u001B[38;5;132;01m:\u001B[39;00m\u001B[38;5;124m.4f\u001B[39m\u001B[38;5;132;01m}\u001B[39;00m\u001B[38;5;124m\"\u001B[39m)\n\u001B[0;32m      4\u001B[0m \u001B[38;5;28mprint\u001B[39m(\u001B[38;5;124mf\u001B[39m\u001B[38;5;124m\"\u001B[39m\u001B[38;5;124mValor p = \u001B[39m\u001B[38;5;132;01m{\u001B[39;00mp_value\u001B[38;5;132;01m:\u001B[39;00m\u001B[38;5;124m.8f\u001B[39m\u001B[38;5;132;01m}\u001B[39;00m\u001B[38;5;124m\"\u001B[39m)\n",
      "File \u001B[1;32m~\\PycharmProjects\\practicum\\.venv\\Lib\\site-packages\\scipy\\stats\\_axis_nan_policy.py:531\u001B[0m, in \u001B[0;36m_axis_nan_policy_factory.<locals>.axis_nan_policy_decorator.<locals>.axis_nan_policy_wrapper\u001B[1;34m(***failed resolving arguments***)\u001B[0m\n\u001B[0;32m    529\u001B[0m \u001B[38;5;28;01mif\u001B[39;00m sentinel:\n\u001B[0;32m    530\u001B[0m     samples \u001B[38;5;241m=\u001B[39m _remove_sentinel(samples, paired, sentinel)\n\u001B[1;32m--> 531\u001B[0m res \u001B[38;5;241m=\u001B[39m \u001B[43mhypotest_fun_out\u001B[49m\u001B[43m(\u001B[49m\u001B[38;5;241;43m*\u001B[39;49m\u001B[43msamples\u001B[49m\u001B[43m,\u001B[49m\u001B[43m \u001B[49m\u001B[38;5;241;43m*\u001B[39;49m\u001B[38;5;241;43m*\u001B[39;49m\u001B[43mkwds\u001B[49m\u001B[43m)\u001B[49m\n\u001B[0;32m    532\u001B[0m res \u001B[38;5;241m=\u001B[39m result_to_tuple(res)\n\u001B[0;32m    533\u001B[0m res \u001B[38;5;241m=\u001B[39m _add_reduced_axes(res, reduced_axes, keepdims)\n",
      "File \u001B[1;32m~\\PycharmProjects\\practicum\\.venv\\Lib\\site-packages\\scipy\\stats\\_morestats.py:1994\u001B[0m, in \u001B[0;36mshapiro\u001B[1;34m(x)\u001B[0m\n\u001B[0;32m   1992\u001B[0m N \u001B[38;5;241m=\u001B[39m \u001B[38;5;28mlen\u001B[39m(x)\n\u001B[0;32m   1993\u001B[0m \u001B[38;5;28;01mif\u001B[39;00m N \u001B[38;5;241m<\u001B[39m \u001B[38;5;241m3\u001B[39m:\n\u001B[1;32m-> 1994\u001B[0m     \u001B[38;5;28;01mraise\u001B[39;00m \u001B[38;5;167;01mValueError\u001B[39;00m(\u001B[38;5;124m\"\u001B[39m\u001B[38;5;124mData must be at least length 3.\u001B[39m\u001B[38;5;124m\"\u001B[39m)\n\u001B[0;32m   1996\u001B[0m a \u001B[38;5;241m=\u001B[39m zeros(N\u001B[38;5;241m/\u001B[39m\u001B[38;5;241m/\u001B[39m\u001B[38;5;241m2\u001B[39m, dtype\u001B[38;5;241m=\u001B[39mnp\u001B[38;5;241m.\u001B[39mfloat64)\n\u001B[0;32m   1997\u001B[0m init \u001B[38;5;241m=\u001B[39m \u001B[38;5;241m0\u001B[39m\n",
      "\u001B[1;31mValueError\u001B[0m: Data must be at least length 3."
     ]
    }
   ],
   "execution_count": 1487
  },
  {
   "metadata": {
    "ExecuteTime": {
     "end_time": "2024-04-19T11:39:32.614331Z",
     "start_time": "2024-04-19T11:39:32.540041Z"
    }
   },
   "cell_type": "code",
   "source": [
    "stat, p_value = shapiro(CON_PA_MECVV['FGE MDRD'].dropna())\n",
    "print(f\"Estadístic W = {stat:.4f}\")\n",
    "print(f\"Valor p = {p_value:.8f}\")\n",
    "\n",
    "alpha = 0.05\n",
    "if p_value < alpha:\n",
    "    print(\"El nombre de files no segueix una distribució normal.\")\n",
    "else:\n",
    "    print(\"El nombre de files segueix una distribució normal.\")"
   ],
   "id": "237280d7d80c21d3",
   "outputs": [
    {
     "ename": "ValueError",
     "evalue": "Data must be at least length 3.",
     "output_type": "error",
     "traceback": [
      "\u001B[1;31m---------------------------------------------------------------------------\u001B[0m",
      "\u001B[1;31mValueError\u001B[0m                                Traceback (most recent call last)",
      "Cell \u001B[1;32mIn[1488], line 1\u001B[0m\n\u001B[1;32m----> 1\u001B[0m stat, p_value \u001B[38;5;241m=\u001B[39m \u001B[43mshapiro\u001B[49m\u001B[43m(\u001B[49m\u001B[43mCON_PA_MECVV\u001B[49m\u001B[43m[\u001B[49m\u001B[38;5;124;43m'\u001B[39;49m\u001B[38;5;124;43mFGE MDRD\u001B[39;49m\u001B[38;5;124;43m'\u001B[39;49m\u001B[43m]\u001B[49m\u001B[38;5;241;43m.\u001B[39;49m\u001B[43mdropna\u001B[49m\u001B[43m(\u001B[49m\u001B[43m)\u001B[49m\u001B[43m)\u001B[49m\n\u001B[0;32m      2\u001B[0m \u001B[38;5;28mprint\u001B[39m(\u001B[38;5;124mf\u001B[39m\u001B[38;5;124m\"\u001B[39m\u001B[38;5;124mEstadístic W = \u001B[39m\u001B[38;5;132;01m{\u001B[39;00mstat\u001B[38;5;132;01m:\u001B[39;00m\u001B[38;5;124m.4f\u001B[39m\u001B[38;5;132;01m}\u001B[39;00m\u001B[38;5;124m\"\u001B[39m)\n\u001B[0;32m      3\u001B[0m \u001B[38;5;28mprint\u001B[39m(\u001B[38;5;124mf\u001B[39m\u001B[38;5;124m\"\u001B[39m\u001B[38;5;124mValor p = \u001B[39m\u001B[38;5;132;01m{\u001B[39;00mp_value\u001B[38;5;132;01m:\u001B[39;00m\u001B[38;5;124m.8f\u001B[39m\u001B[38;5;132;01m}\u001B[39;00m\u001B[38;5;124m\"\u001B[39m)\n",
      "File \u001B[1;32m~\\PycharmProjects\\practicum\\.venv\\Lib\\site-packages\\scipy\\stats\\_axis_nan_policy.py:531\u001B[0m, in \u001B[0;36m_axis_nan_policy_factory.<locals>.axis_nan_policy_decorator.<locals>.axis_nan_policy_wrapper\u001B[1;34m(***failed resolving arguments***)\u001B[0m\n\u001B[0;32m    529\u001B[0m \u001B[38;5;28;01mif\u001B[39;00m sentinel:\n\u001B[0;32m    530\u001B[0m     samples \u001B[38;5;241m=\u001B[39m _remove_sentinel(samples, paired, sentinel)\n\u001B[1;32m--> 531\u001B[0m res \u001B[38;5;241m=\u001B[39m \u001B[43mhypotest_fun_out\u001B[49m\u001B[43m(\u001B[49m\u001B[38;5;241;43m*\u001B[39;49m\u001B[43msamples\u001B[49m\u001B[43m,\u001B[49m\u001B[43m \u001B[49m\u001B[38;5;241;43m*\u001B[39;49m\u001B[38;5;241;43m*\u001B[39;49m\u001B[43mkwds\u001B[49m\u001B[43m)\u001B[49m\n\u001B[0;32m    532\u001B[0m res \u001B[38;5;241m=\u001B[39m result_to_tuple(res)\n\u001B[0;32m    533\u001B[0m res \u001B[38;5;241m=\u001B[39m _add_reduced_axes(res, reduced_axes, keepdims)\n",
      "File \u001B[1;32m~\\PycharmProjects\\practicum\\.venv\\Lib\\site-packages\\scipy\\stats\\_morestats.py:1994\u001B[0m, in \u001B[0;36mshapiro\u001B[1;34m(x)\u001B[0m\n\u001B[0;32m   1992\u001B[0m N \u001B[38;5;241m=\u001B[39m \u001B[38;5;28mlen\u001B[39m(x)\n\u001B[0;32m   1993\u001B[0m \u001B[38;5;28;01mif\u001B[39;00m N \u001B[38;5;241m<\u001B[39m \u001B[38;5;241m3\u001B[39m:\n\u001B[1;32m-> 1994\u001B[0m     \u001B[38;5;28;01mraise\u001B[39;00m \u001B[38;5;167;01mValueError\u001B[39;00m(\u001B[38;5;124m\"\u001B[39m\u001B[38;5;124mData must be at least length 3.\u001B[39m\u001B[38;5;124m\"\u001B[39m)\n\u001B[0;32m   1996\u001B[0m a \u001B[38;5;241m=\u001B[39m zeros(N\u001B[38;5;241m/\u001B[39m\u001B[38;5;241m/\u001B[39m\u001B[38;5;241m2\u001B[39m, dtype\u001B[38;5;241m=\u001B[39mnp\u001B[38;5;241m.\u001B[39mfloat64)\n\u001B[0;32m   1997\u001B[0m init \u001B[38;5;241m=\u001B[39m \u001B[38;5;241m0\u001B[39m\n",
      "\u001B[1;31mValueError\u001B[0m: Data must be at least length 3."
     ]
    }
   ],
   "execution_count": 1488
  },
  {
   "metadata": {
    "ExecuteTime": {
     "end_time": "2024-04-19T11:40:18.976648Z",
     "start_time": "2024-04-19T11:40:18.968630Z"
    }
   },
   "cell_type": "code",
   "source": [
    "stat, p_value = shapiro(SIN_PA['FGE MDRD'].dropna())\n",
    "print(f\"Estadístic W = {stat:.4f}\")\n",
    "print(f\"Valor p = {p_value:.8f}\")\n",
    "\n",
    "alpha = 0.05\n",
    "if p_value < alpha:\n",
    "    print(\"El nombre de files no segueix una distribució normal.\")\n",
    "else:\n",
    "    print(\"El nombre de files segueix una distribució normal.\")"
   ],
   "id": "f9619537536716a9",
   "outputs": [
    {
     "name": "stdout",
     "output_type": "stream",
     "text": [
      "Estadístic W = 0.8324\n",
      "Valor p = 0.11252528\n",
      "El número de files segueix una distribució normal.\n"
     ]
    }
   ],
   "execution_count": 1489
  },
  {
   "metadata": {
    "ExecuteTime": {
     "end_time": "2024-04-19T11:40:32.603990Z",
     "start_time": "2024-04-19T11:40:32.586602Z"
    }
   },
   "cell_type": "code",
   "source": [
    "t_stat_12, p_val_12 = ttest_ind(CON_PA['FGE MDRD'], CON_PA_MECVV['FGE MDRD'], equal_var=False)\n",
    "print(\"P-valor entre CON_PA i CON_PA_MECVV:\", p_val_12)"
   ],
   "id": "3350d5aa6006a470",
   "outputs": [
    {
     "name": "stdout",
     "output_type": "stream",
     "text": [
      "P-valor entre CON_PA i CON_PA_MECVV: nan\n"
     ]
    }
   ],
   "execution_count": 1490
  },
  {
   "metadata": {
    "ExecuteTime": {
     "end_time": "2024-04-19T11:41:19.127092Z",
     "start_time": "2024-04-19T11:41:19.118414Z"
    }
   },
   "cell_type": "code",
   "source": [
    "t_stat_13, p_val_13 = ttest_ind(CON_PA['FGE MDRD'], SIN_PA['FGE MDRD'], equal_var=False)\n",
    "print(\"P-valor entre CON_PA i CON_PA_MECVV:\", p_val_13)"
   ],
   "id": "b31a6f77e88fd26f",
   "outputs": [
    {
     "name": "stdout",
     "output_type": "stream",
     "text": [
      "P-valor entre CON_PA i CON_PA_MECVV: nan\n"
     ]
    }
   ],
   "execution_count": 1491
  },
  {
   "metadata": {},
   "cell_type": "code",
   "source": [
    "t_stat_23, p_val_23 = ttest_ind(CON_PA_MECVV['FGE MDRD'], SIN_PA['FGE MDRD'], equal_var=False)\n",
    "print(\"P-valor entre CON_PA_MECVV i CON_PA_MECVV:\", p_val_23)"
   ],
   "id": "36d4f6dfccd6cd98",
   "outputs": [
    {
     "name": "stdout",
     "output_type": "stream",
     "text": [
      "P-valor entre CON_PA_MECVV i CON_PA_MECVV: nan\n"
     ]
    }
   ],
   "execution_count": 1492
  }
 ],
 "metadata": {
  "kernelspec": {
   "display_name": "Python 3",
   "language": "python",
   "name": "python3"
  },
  "language_info": {
   "codemirror_mode": {
    "name": "ipython",
    "version": 2
   },
   "file_extension": ".py",
   "mimetype": "text/x-python",
   "name": "python",
   "nbconvert_exporter": "python",
   "pygments_lexer": "ipython2",
   "version": "2.7.6"
  }
 },
 "nbformat": 4,
 "nbformat_minor": 5
}
