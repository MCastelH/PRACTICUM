{
 "cells": [
  {
   "cell_type": "markdown",
   "source": [
    "## Paquetes y datos originales ## "
   ],
   "metadata": {
    "collapsed": false
   },
   "id": "56adfe3014ecabc7"
  },
  {
   "cell_type": "code",
   "outputs": [],
   "source": [
    "import json\n",
    "import pandas as pd\n",
    "from datetime import datetime\n",
    "from listas import disfagia_list, PA_list, P_list\n",
    "from auxiliary_functions import valores_codigos, contar_diccionarios, dias_ingreso_total, asignar_intervalo_edad, sumar_barthel, sumar_emina, obtener_ultimo_resultat, obtener_valor_promedio, canadenca_comparada, disfagia_mecvvs, extraer_valor_clave, extraer_valor_clave_simple\n",
    "\n",
    "tabla = pd.read_pickle('./data/processed/dataframe.pkl')"
   ],
   "metadata": {
    "collapsed": false,
    "ExecuteTime": {
     "end_time": "2024-04-09T12:36:04.427595Z",
     "start_time": "2024-04-09T12:36:04.397228Z"
    }
   },
   "id": "34dba1a0fd28236e",
   "execution_count": 109
  },
  {
   "cell_type": "markdown",
   "source": [
    "### Previamente se ha tratado la base de datos y se han hecho 16 nuevas columnas para facilitar la lectura"
   ],
   "metadata": {
    "collapsed": false
   },
   "id": "5e397a948db661a4"
  },
  {
   "cell_type": "code",
   "outputs": [
    {
     "data": {
      "text/plain": "   edat sexe  visitaDietista  \\\n0    89    F               0   \n1    70    M               0   \n2    96    M               0   \n3    85    M               0   \n4    93    M               0   \n\n                                                labs  \\\n0                                                 []   \n1  [{'date': '20220524', 'name': 'PCR SARS-CoV2 S...   \n2                                                 []   \n3                                                 []   \n4  [{'date': '20220208', 'name': 'UREA Sèrum', 'l...   \n\n                                                 mna  \\\n0                                                 []   \n1                                                 []   \n2                                                 []   \n3                                                 []   \n4  [{'imc': '0', 'anorexia': '1', 'perduaPes': '1...   \n\n                                               emina canadenca  \\\n0  [{'activitat': '2', 'estatMental': '1', 'humit...        []   \n1  [{'activitat': '0', 'estatMental': '0', 'humit...        []   \n2  [{'activitat': '3', 'estatMental': '0', 'humit...        []   \n3  [{'activitat': '2', 'estatMental': '1', 'humit...        []   \n4  [{'activitat': '2', 'estatMental': '1', 'humit...        []   \n\n                                                 pes  \\\n0                                                 []   \n1  [{'valor': '64.7', 'data': '2022-10-04'}, {'va...   \n2                                                 []   \n3                                                 []   \n4  [{'valor': '49.900', 'data': '2022-06-02'}, {'...   \n\n                                                atcs  \\\n0  [{'codi': 'M01AE', 'dataInici': '2020-06-21 00...   \n1  [{'codi': 'C09AA', 'dataInici': '2021-05-26 00...   \n2  [{'codi': 'G04CA', 'dataInici': '2020-07-09 00...   \n3  [{'codi': 'G04CA', 'dataInici': '2020-07-15 00...   \n4  [{'codi': 'N02AA', 'dataInici': '2022-02-01 00...   \n\n                                              mecvvs  ...  \\\n0                                                 []  ...   \n1  [{'data': '20220930', 'pacientNoColabora': '',...  ...   \n2                                                 []  ...   \n3  [{'data': '20201204131810', 'disfagia': 'S', '...  ...   \n4  [{'data': '20220330172303', 'disfagiaConeguda'...  ...   \n\n  EMINA_sumatorios_comparados emina_resultats  mna_resultats  promedio_pes  \\\n0                        10.0            10.0           None           NaN   \n1                         1.0             1.0           None     58.308333   \n2                         6.0             6.0           None           NaN   \n3                         8.0             8.0           None           NaN   \n4                         7.0             7.0            4.0     49.900000   \n\n   Canadenca_sumatorios_comparados  Disfagia_mecvvs  alteracioEficacia_mecvvs  \\\n0                              NaN              NaN                       NaN   \n1                              NaN              0.0                       1.0   \n2                              NaN              NaN                       NaN   \n3                              NaN              1.0                       1.0   \n4                              NaN              1.0                       NaN   \n\n  alteracioSeguretat_mecvvs  viscositat_mecvvs  volumn_mecvvs  \n0                       NaN               None           None  \n1                       0.0             Líquid            Alt  \n2                       NaN               None           None  \n3                       1.0             NECTAR            ALT  \n4                       NaN               None           None  \n\n[5 rows x 29 columns]",
      "text/html": "<div>\n<style scoped>\n    .dataframe tbody tr th:only-of-type {\n        vertical-align: middle;\n    }\n\n    .dataframe tbody tr th {\n        vertical-align: top;\n    }\n\n    .dataframe thead th {\n        text-align: right;\n    }\n</style>\n<table border=\"1\" class=\"dataframe\">\n  <thead>\n    <tr style=\"text-align: right;\">\n      <th></th>\n      <th>edat</th>\n      <th>sexe</th>\n      <th>visitaDietista</th>\n      <th>labs</th>\n      <th>mna</th>\n      <th>emina</th>\n      <th>canadenca</th>\n      <th>pes</th>\n      <th>atcs</th>\n      <th>mecvvs</th>\n      <th>...</th>\n      <th>EMINA_sumatorios_comparados</th>\n      <th>emina_resultats</th>\n      <th>mna_resultats</th>\n      <th>promedio_pes</th>\n      <th>Canadenca_sumatorios_comparados</th>\n      <th>Disfagia_mecvvs</th>\n      <th>alteracioEficacia_mecvvs</th>\n      <th>alteracioSeguretat_mecvvs</th>\n      <th>viscositat_mecvvs</th>\n      <th>volumn_mecvvs</th>\n    </tr>\n  </thead>\n  <tbody>\n    <tr>\n      <th>0</th>\n      <td>89</td>\n      <td>F</td>\n      <td>0</td>\n      <td>[]</td>\n      <td>[]</td>\n      <td>[{'activitat': '2', 'estatMental': '1', 'humit...</td>\n      <td>[]</td>\n      <td>[]</td>\n      <td>[{'codi': 'M01AE', 'dataInici': '2020-06-21 00...</td>\n      <td>[]</td>\n      <td>...</td>\n      <td>10.0</td>\n      <td>10.0</td>\n      <td>None</td>\n      <td>NaN</td>\n      <td>NaN</td>\n      <td>NaN</td>\n      <td>NaN</td>\n      <td>NaN</td>\n      <td>None</td>\n      <td>None</td>\n    </tr>\n    <tr>\n      <th>1</th>\n      <td>70</td>\n      <td>M</td>\n      <td>0</td>\n      <td>[{'date': '20220524', 'name': 'PCR SARS-CoV2 S...</td>\n      <td>[]</td>\n      <td>[{'activitat': '0', 'estatMental': '0', 'humit...</td>\n      <td>[]</td>\n      <td>[{'valor': '64.7', 'data': '2022-10-04'}, {'va...</td>\n      <td>[{'codi': 'C09AA', 'dataInici': '2021-05-26 00...</td>\n      <td>[{'data': '20220930', 'pacientNoColabora': '',...</td>\n      <td>...</td>\n      <td>1.0</td>\n      <td>1.0</td>\n      <td>None</td>\n      <td>58.308333</td>\n      <td>NaN</td>\n      <td>0.0</td>\n      <td>1.0</td>\n      <td>0.0</td>\n      <td>Líquid</td>\n      <td>Alt</td>\n    </tr>\n    <tr>\n      <th>2</th>\n      <td>96</td>\n      <td>M</td>\n      <td>0</td>\n      <td>[]</td>\n      <td>[]</td>\n      <td>[{'activitat': '3', 'estatMental': '0', 'humit...</td>\n      <td>[]</td>\n      <td>[]</td>\n      <td>[{'codi': 'G04CA', 'dataInici': '2020-07-09 00...</td>\n      <td>[]</td>\n      <td>...</td>\n      <td>6.0</td>\n      <td>6.0</td>\n      <td>None</td>\n      <td>NaN</td>\n      <td>NaN</td>\n      <td>NaN</td>\n      <td>NaN</td>\n      <td>NaN</td>\n      <td>None</td>\n      <td>None</td>\n    </tr>\n    <tr>\n      <th>3</th>\n      <td>85</td>\n      <td>M</td>\n      <td>0</td>\n      <td>[]</td>\n      <td>[]</td>\n      <td>[{'activitat': '2', 'estatMental': '1', 'humit...</td>\n      <td>[]</td>\n      <td>[]</td>\n      <td>[{'codi': 'G04CA', 'dataInici': '2020-07-15 00...</td>\n      <td>[{'data': '20201204131810', 'disfagia': 'S', '...</td>\n      <td>...</td>\n      <td>8.0</td>\n      <td>8.0</td>\n      <td>None</td>\n      <td>NaN</td>\n      <td>NaN</td>\n      <td>1.0</td>\n      <td>1.0</td>\n      <td>1.0</td>\n      <td>NECTAR</td>\n      <td>ALT</td>\n    </tr>\n    <tr>\n      <th>4</th>\n      <td>93</td>\n      <td>M</td>\n      <td>0</td>\n      <td>[{'date': '20220208', 'name': 'UREA Sèrum', 'l...</td>\n      <td>[{'imc': '0', 'anorexia': '1', 'perduaPes': '1...</td>\n      <td>[{'activitat': '2', 'estatMental': '1', 'humit...</td>\n      <td>[]</td>\n      <td>[{'valor': '49.900', 'data': '2022-06-02'}, {'...</td>\n      <td>[{'codi': 'N02AA', 'dataInici': '2022-02-01 00...</td>\n      <td>[{'data': '20220330172303', 'disfagiaConeguda'...</td>\n      <td>...</td>\n      <td>7.0</td>\n      <td>7.0</td>\n      <td>4.0</td>\n      <td>49.900000</td>\n      <td>NaN</td>\n      <td>1.0</td>\n      <td>NaN</td>\n      <td>NaN</td>\n      <td>None</td>\n      <td>None</td>\n    </tr>\n  </tbody>\n</table>\n<p>5 rows × 29 columns</p>\n</div>"
     },
     "execution_count": 110,
     "metadata": {},
     "output_type": "execute_result"
    }
   ],
   "source": [
    "tabla.head()"
   ],
   "metadata": {
    "collapsed": false,
    "ExecuteTime": {
     "end_time": "2024-04-09T12:36:04.613717Z",
     "start_time": "2024-04-09T12:36:04.460626Z"
    }
   },
   "id": "aa2554a079d8240",
   "execution_count": 110
  },
  {
   "cell_type": "markdown",
   "source": [
    "## Dividiremos los datos en 3 grupos:\n",
    "- Con PA (codigo ICD de PA )\n",
    "- Con PA + MECVV (MECVV positivo + icd pneumonia < 30 days)\n",
    "- Sin PA (ICD pneumonia or icd pneumonia + mecvv positive > 30 days)"
   ],
   "metadata": {
    "collapsed": false
   },
   "id": "e7c4d56da22c6caf"
  },
  {
   "cell_type": "markdown",
   "source": [
    "# CON PA "
   ],
   "metadata": {
    "collapsed": false
   },
   "id": "6fe0c4b4db3bd775"
  },
  {
   "cell_type": "code",
   "outputs": [
    {
     "data": {
      "text/plain": "PA_diagnosticada\n0.0    33\n1.0    17\nName: count, dtype: int64"
     },
     "execution_count": 111,
     "metadata": {},
     "output_type": "execute_result"
    }
   ],
   "source": [
    "tabla.PA_diagnosticada.value_counts()"
   ],
   "metadata": {
    "collapsed": false,
    "ExecuteTime": {
     "end_time": "2024-04-09T12:36:04.624954Z",
     "start_time": "2024-04-09T12:36:04.615843Z"
    }
   },
   "id": "a4e4da6a7f6dcc17",
   "execution_count": 111
  },
  {
   "cell_type": "code",
   "outputs": [
    {
     "data": {
      "text/plain": "Empty DataFrame\nColumns: [edat, sexe, visitaDietista, labs, mna, emina, canadenca, pes, atcs, mecvvs, ingressos, barthel, PA_diagnosticada, DO_diagnosticada, P_diagnosticada, Num_ingresos, Dias_totales_ingresado, Intervalo_edad, Barthel_resultados, EMINA_sumatorios_comparados, emina_resultats, mna_resultats, promedio_pes, Canadenca_sumatorios_comparados, Disfagia_mecvvs, alteracioEficacia_mecvvs, alteracioSeguretat_mecvvs, viscositat_mecvvs, volumn_mecvvs]\nIndex: []\n\n[0 rows x 29 columns]",
      "text/html": "<div>\n<style scoped>\n    .dataframe tbody tr th:only-of-type {\n        vertical-align: middle;\n    }\n\n    .dataframe tbody tr th {\n        vertical-align: top;\n    }\n\n    .dataframe thead th {\n        text-align: right;\n    }\n</style>\n<table border=\"1\" class=\"dataframe\">\n  <thead>\n    <tr style=\"text-align: right;\">\n      <th></th>\n      <th>edat</th>\n      <th>sexe</th>\n      <th>visitaDietista</th>\n      <th>labs</th>\n      <th>mna</th>\n      <th>emina</th>\n      <th>canadenca</th>\n      <th>pes</th>\n      <th>atcs</th>\n      <th>mecvvs</th>\n      <th>...</th>\n      <th>EMINA_sumatorios_comparados</th>\n      <th>emina_resultats</th>\n      <th>mna_resultats</th>\n      <th>promedio_pes</th>\n      <th>Canadenca_sumatorios_comparados</th>\n      <th>Disfagia_mecvvs</th>\n      <th>alteracioEficacia_mecvvs</th>\n      <th>alteracioSeguretat_mecvvs</th>\n      <th>viscositat_mecvvs</th>\n      <th>volumn_mecvvs</th>\n    </tr>\n  </thead>\n  <tbody>\n  </tbody>\n</table>\n<p>0 rows × 29 columns</p>\n</div>"
     },
     "execution_count": 112,
     "metadata": {},
     "output_type": "execute_result"
    }
   ],
   "source": [
    "CON_PA = tabla[tabla['PA_diagnosticada'] == '1.0']\n",
    "CON_PA.head()"
   ],
   "metadata": {
    "collapsed": false,
    "ExecuteTime": {
     "end_time": "2024-04-09T12:36:04.646631Z",
     "start_time": "2024-04-09T12:36:04.627065Z"
    }
   },
   "id": "bf8054f82ba8cf2d",
   "execution_count": 112
  },
  {
   "cell_type": "markdown",
   "source": [
    "# CON_PA + MECVV"
   ],
   "metadata": {
    "collapsed": false
   },
   "id": "bbfe0def10a4bd5"
  },
  {
   "cell_type": "code",
   "outputs": [
    {
     "data": {
      "text/plain": "Empty DataFrame\nColumns: [edat, sexe, visitaDietista, labs, mna, emina, canadenca, pes, atcs, mecvvs, ingressos, barthel, PA_diagnosticada, DO_diagnosticada, P_diagnosticada, Num_ingresos, Dias_totales_ingresado, Intervalo_edad, Barthel_resultados, EMINA_sumatorios_comparados, emina_resultats, mna_resultats, promedio_pes, Canadenca_sumatorios_comparados, Disfagia_mecvvs, alteracioEficacia_mecvvs, alteracioSeguretat_mecvvs, viscositat_mecvvs, volumn_mecvvs]\nIndex: []\n\n[0 rows x 29 columns]",
      "text/html": "<div>\n<style scoped>\n    .dataframe tbody tr th:only-of-type {\n        vertical-align: middle;\n    }\n\n    .dataframe tbody tr th {\n        vertical-align: top;\n    }\n\n    .dataframe thead th {\n        text-align: right;\n    }\n</style>\n<table border=\"1\" class=\"dataframe\">\n  <thead>\n    <tr style=\"text-align: right;\">\n      <th></th>\n      <th>edat</th>\n      <th>sexe</th>\n      <th>visitaDietista</th>\n      <th>labs</th>\n      <th>mna</th>\n      <th>emina</th>\n      <th>canadenca</th>\n      <th>pes</th>\n      <th>atcs</th>\n      <th>mecvvs</th>\n      <th>...</th>\n      <th>EMINA_sumatorios_comparados</th>\n      <th>emina_resultats</th>\n      <th>mna_resultats</th>\n      <th>promedio_pes</th>\n      <th>Canadenca_sumatorios_comparados</th>\n      <th>Disfagia_mecvvs</th>\n      <th>alteracioEficacia_mecvvs</th>\n      <th>alteracioSeguretat_mecvvs</th>\n      <th>viscositat_mecvvs</th>\n      <th>volumn_mecvvs</th>\n    </tr>\n  </thead>\n  <tbody>\n  </tbody>\n</table>\n<p>0 rows × 29 columns</p>\n</div>"
     },
     "execution_count": 113,
     "metadata": {},
     "output_type": "execute_result"
    }
   ],
   "source": [
    "CON_PA_MECVV = tabla[(tabla['Disfagia_mecvvs'] == '1.0') & (tabla['P_diagnosticada'] == '1.0') & (tabla['Dias_totales_ingresado'] < 30)]\n",
    "CON_PA.head()"
   ],
   "metadata": {
    "collapsed": false,
    "ExecuteTime": {
     "end_time": "2024-04-09T12:36:04.666871Z",
     "start_time": "2024-04-09T12:36:04.649761Z"
    }
   },
   "id": "ef57e551b552b859",
   "execution_count": 113
  },
  {
   "cell_type": "markdown",
   "source": [
    "# SIN_PA"
   ],
   "metadata": {
    "collapsed": false
   },
   "id": "a348d05c32ba63b8"
  },
  {
   "cell_type": "code",
   "outputs": [
    {
     "data": {
      "text/plain": "Empty DataFrame\nColumns: [edat, sexe, visitaDietista, labs, mna, emina, canadenca, pes, atcs, mecvvs, ingressos, barthel, PA_diagnosticada, DO_diagnosticada, P_diagnosticada, Num_ingresos, Dias_totales_ingresado, Intervalo_edad, Barthel_resultados, EMINA_sumatorios_comparados, emina_resultats, mna_resultats, promedio_pes, Canadenca_sumatorios_comparados, Disfagia_mecvvs, alteracioEficacia_mecvvs, alteracioSeguretat_mecvvs, viscositat_mecvvs, volumn_mecvvs]\nIndex: []\n\n[0 rows x 29 columns]",
      "text/html": "<div>\n<style scoped>\n    .dataframe tbody tr th:only-of-type {\n        vertical-align: middle;\n    }\n\n    .dataframe tbody tr th {\n        vertical-align: top;\n    }\n\n    .dataframe thead th {\n        text-align: right;\n    }\n</style>\n<table border=\"1\" class=\"dataframe\">\n  <thead>\n    <tr style=\"text-align: right;\">\n      <th></th>\n      <th>edat</th>\n      <th>sexe</th>\n      <th>visitaDietista</th>\n      <th>labs</th>\n      <th>mna</th>\n      <th>emina</th>\n      <th>canadenca</th>\n      <th>pes</th>\n      <th>atcs</th>\n      <th>mecvvs</th>\n      <th>...</th>\n      <th>EMINA_sumatorios_comparados</th>\n      <th>emina_resultats</th>\n      <th>mna_resultats</th>\n      <th>promedio_pes</th>\n      <th>Canadenca_sumatorios_comparados</th>\n      <th>Disfagia_mecvvs</th>\n      <th>alteracioEficacia_mecvvs</th>\n      <th>alteracioSeguretat_mecvvs</th>\n      <th>viscositat_mecvvs</th>\n      <th>volumn_mecvvs</th>\n    </tr>\n  </thead>\n  <tbody>\n  </tbody>\n</table>\n<p>0 rows × 29 columns</p>\n</div>"
     },
     "execution_count": 114,
     "metadata": {},
     "output_type": "execute_result"
    }
   ],
   "source": [
    "SIN_PA = tabla[(tabla['P_diagnosticada'] == '1.0') | (tabla['P_diagnosticada'] == '1.0') & (tabla['Disfagia_mecvvs'] == '1.0') & (tabla['Dias_totales_ingresado'] > 30)]\n",
    "SIN_PA.head()"
   ],
   "metadata": {
    "collapsed": false,
    "ExecuteTime": {
     "end_time": "2024-04-09T12:36:04.697393Z",
     "start_time": "2024-04-09T12:36:04.669988Z"
    }
   },
   "id": "ebd6be70713adb40",
   "execution_count": 114
  },
  {
   "cell_type": "code",
   "outputs": [],
   "source": [],
   "metadata": {
    "collapsed": false,
    "ExecuteTime": {
     "end_time": "2024-04-09T12:36:04.705339Z",
     "start_time": "2024-04-09T12:36:04.700524Z"
    }
   },
   "id": "4a022663d8cfce9d",
   "execution_count": 114
  }
 ],
 "metadata": {
  "kernelspec": {
   "display_name": "Python 3",
   "language": "python",
   "name": "python3"
  },
  "language_info": {
   "codemirror_mode": {
    "name": "ipython",
    "version": 2
   },
   "file_extension": ".py",
   "mimetype": "text/x-python",
   "name": "python",
   "nbconvert_exporter": "python",
   "pygments_lexer": "ipython2",
   "version": "2.7.6"
  }
 },
 "nbformat": 4,
 "nbformat_minor": 5
}
