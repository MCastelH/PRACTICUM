{
 "cells": [
  {
   "cell_type": "markdown",
   "source": [
    "## Paquetes y datos originales ## "
   ],
   "metadata": {
    "collapsed": false
   },
   "id": "56adfe3014ecabc7"
  },
  {
   "cell_type": "code",
   "outputs": [],
   "source": [
    "import json\n",
    "import pandas as pd\n",
    "from datetime import datetime\n",
    "from listas import disfagia_list, PA_list, P_list\n",
    "from auxiliary_functions import valores_codigos, contar_diccionarios, dias_ingreso_total, asignar_intervalo_edad, sumar_barthel, sumar_emina, obtener_ultimo_resultat, obtener_valor_promedio, canadenca_comparada, disfagia_mecvvs, extraer_valor_clave, extraer_valor_clave_simple\n",
    "\n",
    "tabla = pd.read_pickle('./data/processed/dataframe.pkl')"
   ],
   "metadata": {
    "collapsed": false,
    "ExecuteTime": {
     "end_time": "2024-04-09T11:25:19.148697Z",
     "start_time": "2024-04-09T11:25:19.119404Z"
    }
   },
   "id": "34dba1a0fd28236e",
   "execution_count": 16
  },
  {
   "cell_type": "markdown",
   "source": [
    "# Previamente se ha tratado la base de datos y se han hecho nuevas columnas (últimas 16) para facilitar la lectura"
   ],
   "metadata": {
    "collapsed": false
   },
   "id": "5e397a948db661a4"
  },
  {
   "cell_type": "code",
   "outputs": [
    {
     "data": {
      "text/plain": "   edat sexe  visitaDietista  \\\n0    89    F               0   \n1    70    M               0   \n2    96    M               0   \n3    85    M               0   \n4    93    M               0   \n\n                                                labs  \\\n0                                                 []   \n1  [{'date': '20220524', 'name': 'PCR SARS-CoV2 S...   \n2                                                 []   \n3                                                 []   \n4  [{'date': '20220208', 'name': 'UREA Sèrum', 'l...   \n\n                                                 mna  \\\n0                                                 []   \n1                                                 []   \n2                                                 []   \n3                                                 []   \n4  [{'imc': '0', 'anorexia': '1', 'perduaPes': '1...   \n\n                                               emina canadenca  \\\n0  [{'activitat': '2', 'estatMental': '1', 'humit...        []   \n1  [{'activitat': '0', 'estatMental': '0', 'humit...        []   \n2  [{'activitat': '3', 'estatMental': '0', 'humit...        []   \n3  [{'activitat': '2', 'estatMental': '1', 'humit...        []   \n4  [{'activitat': '2', 'estatMental': '1', 'humit...        []   \n\n                                                 pes  \\\n0                                                 []   \n1  [{'valor': '64.7', 'data': '2022-10-04'}, {'va...   \n2                                                 []   \n3                                                 []   \n4  [{'valor': '49.900', 'data': '2022-06-02'}, {'...   \n\n                                                atcs  \\\n0  [{'codi': 'M01AE', 'dataInici': '2020-06-21 00...   \n1  [{'codi': 'C09AA', 'dataInici': '2021-05-26 00...   \n2  [{'codi': 'G04CA', 'dataInici': '2020-07-09 00...   \n3  [{'codi': 'G04CA', 'dataInici': '2020-07-15 00...   \n4  [{'codi': 'N02AA', 'dataInici': '2022-02-01 00...   \n\n                                              mecvvs  ...  \\\n0                                                 []  ...   \n1  [{'data': '20220930', 'pacientNoColabora': '',...  ...   \n2                                                 []  ...   \n3  [{'data': '20201204131810', 'disfagia': 'S', '...  ...   \n4  [{'data': '20220330172303', 'disfagiaConeguda'...  ...   \n\n  EMINA_sumatorios_comparados emina_resultats  mna_resultats  promedio_pes  \\\n0                        10.0            10.0           None           NaN   \n1                         1.0             1.0           None     58.308333   \n2                         6.0             6.0           None           NaN   \n3                         8.0             8.0           None           NaN   \n4                         7.0             7.0            4.0     49.900000   \n\n   Canadenca_sumatorios_comparados  Disfagia_mecvvs alteracioEficacia_mecvvs  \\\n0                              NaN              NaN                      NaN   \n1                              NaN              0.0                      1.0   \n2                              NaN              NaN                      NaN   \n3                              NaN              1.0                      1.0   \n4                              NaN              1.0                      NaN   \n\n   alteracioSeguretat_mecvvs  viscositat_mecvvs volumn_mecvvs  \n0                        NaN               None          None  \n1                        0.0             Líquid           Alt  \n2                        NaN               None          None  \n3                        1.0             NECTAR           ALT  \n4                        NaN               None          None  \n\n[5 rows x 28 columns]",
      "text/html": "<div>\n<style scoped>\n    .dataframe tbody tr th:only-of-type {\n        vertical-align: middle;\n    }\n\n    .dataframe tbody tr th {\n        vertical-align: top;\n    }\n\n    .dataframe thead th {\n        text-align: right;\n    }\n</style>\n<table border=\"1\" class=\"dataframe\">\n  <thead>\n    <tr style=\"text-align: right;\">\n      <th></th>\n      <th>edat</th>\n      <th>sexe</th>\n      <th>visitaDietista</th>\n      <th>labs</th>\n      <th>mna</th>\n      <th>emina</th>\n      <th>canadenca</th>\n      <th>pes</th>\n      <th>atcs</th>\n      <th>mecvvs</th>\n      <th>...</th>\n      <th>EMINA_sumatorios_comparados</th>\n      <th>emina_resultats</th>\n      <th>mna_resultats</th>\n      <th>promedio_pes</th>\n      <th>Canadenca_sumatorios_comparados</th>\n      <th>Disfagia_mecvvs</th>\n      <th>alteracioEficacia_mecvvs</th>\n      <th>alteracioSeguretat_mecvvs</th>\n      <th>viscositat_mecvvs</th>\n      <th>volumn_mecvvs</th>\n    </tr>\n  </thead>\n  <tbody>\n    <tr>\n      <th>0</th>\n      <td>89</td>\n      <td>F</td>\n      <td>0</td>\n      <td>[]</td>\n      <td>[]</td>\n      <td>[{'activitat': '2', 'estatMental': '1', 'humit...</td>\n      <td>[]</td>\n      <td>[]</td>\n      <td>[{'codi': 'M01AE', 'dataInici': '2020-06-21 00...</td>\n      <td>[]</td>\n      <td>...</td>\n      <td>10.0</td>\n      <td>10.0</td>\n      <td>None</td>\n      <td>NaN</td>\n      <td>NaN</td>\n      <td>NaN</td>\n      <td>NaN</td>\n      <td>NaN</td>\n      <td>None</td>\n      <td>None</td>\n    </tr>\n    <tr>\n      <th>1</th>\n      <td>70</td>\n      <td>M</td>\n      <td>0</td>\n      <td>[{'date': '20220524', 'name': 'PCR SARS-CoV2 S...</td>\n      <td>[]</td>\n      <td>[{'activitat': '0', 'estatMental': '0', 'humit...</td>\n      <td>[]</td>\n      <td>[{'valor': '64.7', 'data': '2022-10-04'}, {'va...</td>\n      <td>[{'codi': 'C09AA', 'dataInici': '2021-05-26 00...</td>\n      <td>[{'data': '20220930', 'pacientNoColabora': '',...</td>\n      <td>...</td>\n      <td>1.0</td>\n      <td>1.0</td>\n      <td>None</td>\n      <td>58.308333</td>\n      <td>NaN</td>\n      <td>0.0</td>\n      <td>1.0</td>\n      <td>0.0</td>\n      <td>Líquid</td>\n      <td>Alt</td>\n    </tr>\n    <tr>\n      <th>2</th>\n      <td>96</td>\n      <td>M</td>\n      <td>0</td>\n      <td>[]</td>\n      <td>[]</td>\n      <td>[{'activitat': '3', 'estatMental': '0', 'humit...</td>\n      <td>[]</td>\n      <td>[]</td>\n      <td>[{'codi': 'G04CA', 'dataInici': '2020-07-09 00...</td>\n      <td>[]</td>\n      <td>...</td>\n      <td>6.0</td>\n      <td>6.0</td>\n      <td>None</td>\n      <td>NaN</td>\n      <td>NaN</td>\n      <td>NaN</td>\n      <td>NaN</td>\n      <td>NaN</td>\n      <td>None</td>\n      <td>None</td>\n    </tr>\n    <tr>\n      <th>3</th>\n      <td>85</td>\n      <td>M</td>\n      <td>0</td>\n      <td>[]</td>\n      <td>[]</td>\n      <td>[{'activitat': '2', 'estatMental': '1', 'humit...</td>\n      <td>[]</td>\n      <td>[]</td>\n      <td>[{'codi': 'G04CA', 'dataInici': '2020-07-15 00...</td>\n      <td>[{'data': '20201204131810', 'disfagia': 'S', '...</td>\n      <td>...</td>\n      <td>8.0</td>\n      <td>8.0</td>\n      <td>None</td>\n      <td>NaN</td>\n      <td>NaN</td>\n      <td>1.0</td>\n      <td>1.0</td>\n      <td>1.0</td>\n      <td>NECTAR</td>\n      <td>ALT</td>\n    </tr>\n    <tr>\n      <th>4</th>\n      <td>93</td>\n      <td>M</td>\n      <td>0</td>\n      <td>[{'date': '20220208', 'name': 'UREA Sèrum', 'l...</td>\n      <td>[{'imc': '0', 'anorexia': '1', 'perduaPes': '1...</td>\n      <td>[{'activitat': '2', 'estatMental': '1', 'humit...</td>\n      <td>[]</td>\n      <td>[{'valor': '49.900', 'data': '2022-06-02'}, {'...</td>\n      <td>[{'codi': 'N02AA', 'dataInici': '2022-02-01 00...</td>\n      <td>[{'data': '20220330172303', 'disfagiaConeguda'...</td>\n      <td>...</td>\n      <td>7.0</td>\n      <td>7.0</td>\n      <td>4.0</td>\n      <td>49.900000</td>\n      <td>NaN</td>\n      <td>1.0</td>\n      <td>NaN</td>\n      <td>NaN</td>\n      <td>None</td>\n      <td>None</td>\n    </tr>\n  </tbody>\n</table>\n<p>5 rows × 28 columns</p>\n</div>"
     },
     "execution_count": 17,
     "metadata": {},
     "output_type": "execute_result"
    }
   ],
   "source": [
    "tabla.head()"
   ],
   "metadata": {
    "collapsed": false,
    "ExecuteTime": {
     "end_time": "2024-04-09T11:25:19.314680Z",
     "start_time": "2024-04-09T11:25:19.157483Z"
    }
   },
   "id": "aa2554a079d8240",
   "execution_count": 17
  },
  {
   "cell_type": "markdown",
   "source": [
    "# Dividiremos los datos en 3 grupos:\n",
    "- Con PA (codigo ICD de PA )\n",
    "- Con PA + MECVV (MECVV positivo + icd pneumonia < 30 days)\n",
    "- Sin PA (ICD pneumonia or icd pneumonia + mecvv positive > 30 days)"
   ],
   "metadata": {
    "collapsed": false
   },
   "id": "e7c4d56da22c6caf"
  },
  {
   "cell_type": "markdown",
   "source": [
    "# CON PA "
   ],
   "metadata": {
    "collapsed": false
   },
   "id": "6fe0c4b4db3bd775"
  },
  {
   "cell_type": "code",
   "outputs": [
    {
     "data": {
      "text/plain": "PA_diagnosticada\n0.0    33\n1.0    17\nName: count, dtype: int64"
     },
     "execution_count": 18,
     "metadata": {},
     "output_type": "execute_result"
    }
   ],
   "source": [
    "tabla.PA_diagnosticada.value_counts()"
   ],
   "metadata": {
    "collapsed": false,
    "ExecuteTime": {
     "end_time": "2024-04-09T11:25:19.330663Z",
     "start_time": "2024-04-09T11:25:19.315683Z"
    }
   },
   "id": "f73154afd7cf7dae",
   "execution_count": 18
  },
  {
   "cell_type": "markdown",
   "source": [
    "# Al aplicar esta función, nos indica que hay 33 personas sin el codigo de PA y 17 que si.\n"
   ],
   "metadata": {
    "collapsed": false
   },
   "id": "681b53823fdeea63"
  },
  {
   "cell_type": "code",
   "outputs": [],
   "source": [
    "CON_PA = tabla[tabla['PA_diagnosticada'] == '1.0']\n"
   ],
   "metadata": {
    "collapsed": false,
    "ExecuteTime": {
     "end_time": "2024-04-09T11:50:52.260733Z",
     "start_time": "2024-04-09T11:50:52.255384Z"
    }
   },
   "id": "bf8054f82ba8cf2d",
   "execution_count": 47
  },
  {
   "cell_type": "code",
   "outputs": [
    {
     "ename": "SyntaxError",
     "evalue": "cannot assign to expression here. Maybe you meant '==' instead of '='? (3161600575.py, line 1)",
     "output_type": "error",
     "traceback": [
      "\u001B[1;36m  Cell \u001B[1;32mIn[58], line 1\u001B[1;36m\u001B[0m\n\u001B[1;33m    CON_PA+MECVV = tabla[(tabla['Disfagia_mecvvs'] == '1.0') & (tabla['P_diagnosticada'] == '1.0') & (tabla['Dias_totales_ingresado'] < 30)]\u001B[0m\n\u001B[1;37m    ^\u001B[0m\n\u001B[1;31mSyntaxError\u001B[0m\u001B[1;31m:\u001B[0m cannot assign to expression here. Maybe you meant '==' instead of '='?\n"
     ]
    }
   ],
   "source": [
    "CON_PA+MECVV = tabla[(tabla['Disfagia_mecvvs'] == '1.0') & (tabla['P_diagnosticada'] == '1.0') & (tabla['Dias_totales_ingresado'] < 30)]"
   ],
   "metadata": {
    "collapsed": false,
    "ExecuteTime": {
     "end_time": "2024-04-09T12:02:57.394757Z",
     "start_time": "2024-04-09T12:02:57.389192Z"
    }
   },
   "id": "ef57e551b552b859",
   "execution_count": 58
  },
  {
   "cell_type": "code",
   "outputs": [
    {
     "ename": "KeyError",
     "evalue": "'P_diagnosticada'",
     "output_type": "error",
     "traceback": [
      "\u001B[1;31m---------------------------------------------------------------------------\u001B[0m",
      "\u001B[1;31mKeyError\u001B[0m                                  Traceback (most recent call last)",
      "File \u001B[1;32m~\\PycharmProjects\\practicum\\.venv\\Lib\\site-packages\\pandas\\core\\indexes\\base.py:3805\u001B[0m, in \u001B[0;36mIndex.get_loc\u001B[1;34m(self, key)\u001B[0m\n\u001B[0;32m   3804\u001B[0m \u001B[38;5;28;01mtry\u001B[39;00m:\n\u001B[1;32m-> 3805\u001B[0m     \u001B[38;5;28;01mreturn\u001B[39;00m \u001B[38;5;28;43mself\u001B[39;49m\u001B[38;5;241;43m.\u001B[39;49m\u001B[43m_engine\u001B[49m\u001B[38;5;241;43m.\u001B[39;49m\u001B[43mget_loc\u001B[49m\u001B[43m(\u001B[49m\u001B[43mcasted_key\u001B[49m\u001B[43m)\u001B[49m\n\u001B[0;32m   3806\u001B[0m \u001B[38;5;28;01mexcept\u001B[39;00m \u001B[38;5;167;01mKeyError\u001B[39;00m \u001B[38;5;28;01mas\u001B[39;00m err:\n",
      "File \u001B[1;32mindex.pyx:167\u001B[0m, in \u001B[0;36mpandas._libs.index.IndexEngine.get_loc\u001B[1;34m()\u001B[0m\n",
      "File \u001B[1;32mindex.pyx:196\u001B[0m, in \u001B[0;36mpandas._libs.index.IndexEngine.get_loc\u001B[1;34m()\u001B[0m\n",
      "File \u001B[1;32mpandas\\\\_libs\\\\hashtable_class_helper.pxi:7081\u001B[0m, in \u001B[0;36mpandas._libs.hashtable.PyObjectHashTable.get_item\u001B[1;34m()\u001B[0m\n",
      "File \u001B[1;32mpandas\\\\_libs\\\\hashtable_class_helper.pxi:7089\u001B[0m, in \u001B[0;36mpandas._libs.hashtable.PyObjectHashTable.get_item\u001B[1;34m()\u001B[0m\n",
      "\u001B[1;31mKeyError\u001B[0m: 'P_diagnosticada'",
      "\nThe above exception was the direct cause of the following exception:\n",
      "\u001B[1;31mKeyError\u001B[0m                                  Traceback (most recent call last)",
      "Cell \u001B[1;32mIn[59], line 1\u001B[0m\n\u001B[1;32m----> 1\u001B[0m SIN_PA \u001B[38;5;241m=\u001B[39m tabla[(\u001B[43mtabla\u001B[49m\u001B[43m[\u001B[49m\u001B[38;5;124;43m'\u001B[39;49m\u001B[38;5;124;43mP_diagnosticada\u001B[39;49m\u001B[38;5;124;43m'\u001B[39;49m\u001B[43m]\u001B[49m \u001B[38;5;241m==\u001B[39m \u001B[38;5;124m'\u001B[39m\u001B[38;5;124m1.0\u001B[39m\u001B[38;5;124m'\u001B[39m) \u001B[38;5;241m|\u001B[39m (tabla[\u001B[38;5;124m'\u001B[39m\u001B[38;5;124mP_diagnosticada\u001B[39m\u001B[38;5;124m'\u001B[39m] \u001B[38;5;241m==\u001B[39m \u001B[38;5;124m'\u001B[39m\u001B[38;5;124m1.0\u001B[39m\u001B[38;5;124m'\u001B[39m) \u001B[38;5;241m&\u001B[39m (tabla[\u001B[38;5;124m'\u001B[39m\u001B[38;5;124mDisfagia_mecvvs\u001B[39m\u001B[38;5;124m'\u001B[39m] \u001B[38;5;241m==\u001B[39m \u001B[38;5;124m'\u001B[39m\u001B[38;5;124m1.0\u001B[39m\u001B[38;5;124m'\u001B[39m) \u001B[38;5;241m&\u001B[39m (tabla[\u001B[38;5;124m'\u001B[39m\u001B[38;5;124mDias_totales_ingresado\u001B[39m\u001B[38;5;124m'\u001B[39m] \u001B[38;5;241m>\u001B[39m \u001B[38;5;241m30\u001B[39m)]\n",
      "File \u001B[1;32m~\\PycharmProjects\\practicum\\.venv\\Lib\\site-packages\\pandas\\core\\frame.py:4090\u001B[0m, in \u001B[0;36mDataFrame.__getitem__\u001B[1;34m(self, key)\u001B[0m\n\u001B[0;32m   4088\u001B[0m \u001B[38;5;28;01mif\u001B[39;00m \u001B[38;5;28mself\u001B[39m\u001B[38;5;241m.\u001B[39mcolumns\u001B[38;5;241m.\u001B[39mnlevels \u001B[38;5;241m>\u001B[39m \u001B[38;5;241m1\u001B[39m:\n\u001B[0;32m   4089\u001B[0m     \u001B[38;5;28;01mreturn\u001B[39;00m \u001B[38;5;28mself\u001B[39m\u001B[38;5;241m.\u001B[39m_getitem_multilevel(key)\n\u001B[1;32m-> 4090\u001B[0m indexer \u001B[38;5;241m=\u001B[39m \u001B[38;5;28;43mself\u001B[39;49m\u001B[38;5;241;43m.\u001B[39;49m\u001B[43mcolumns\u001B[49m\u001B[38;5;241;43m.\u001B[39;49m\u001B[43mget_loc\u001B[49m\u001B[43m(\u001B[49m\u001B[43mkey\u001B[49m\u001B[43m)\u001B[49m\n\u001B[0;32m   4091\u001B[0m \u001B[38;5;28;01mif\u001B[39;00m is_integer(indexer):\n\u001B[0;32m   4092\u001B[0m     indexer \u001B[38;5;241m=\u001B[39m [indexer]\n",
      "File \u001B[1;32m~\\PycharmProjects\\practicum\\.venv\\Lib\\site-packages\\pandas\\core\\indexes\\base.py:3812\u001B[0m, in \u001B[0;36mIndex.get_loc\u001B[1;34m(self, key)\u001B[0m\n\u001B[0;32m   3807\u001B[0m     \u001B[38;5;28;01mif\u001B[39;00m \u001B[38;5;28misinstance\u001B[39m(casted_key, \u001B[38;5;28mslice\u001B[39m) \u001B[38;5;129;01mor\u001B[39;00m (\n\u001B[0;32m   3808\u001B[0m         \u001B[38;5;28misinstance\u001B[39m(casted_key, abc\u001B[38;5;241m.\u001B[39mIterable)\n\u001B[0;32m   3809\u001B[0m         \u001B[38;5;129;01mand\u001B[39;00m \u001B[38;5;28many\u001B[39m(\u001B[38;5;28misinstance\u001B[39m(x, \u001B[38;5;28mslice\u001B[39m) \u001B[38;5;28;01mfor\u001B[39;00m x \u001B[38;5;129;01min\u001B[39;00m casted_key)\n\u001B[0;32m   3810\u001B[0m     ):\n\u001B[0;32m   3811\u001B[0m         \u001B[38;5;28;01mraise\u001B[39;00m InvalidIndexError(key)\n\u001B[1;32m-> 3812\u001B[0m     \u001B[38;5;28;01mraise\u001B[39;00m \u001B[38;5;167;01mKeyError\u001B[39;00m(key) \u001B[38;5;28;01mfrom\u001B[39;00m \u001B[38;5;21;01merr\u001B[39;00m\n\u001B[0;32m   3813\u001B[0m \u001B[38;5;28;01mexcept\u001B[39;00m \u001B[38;5;167;01mTypeError\u001B[39;00m:\n\u001B[0;32m   3814\u001B[0m     \u001B[38;5;66;03m# If we have a listlike key, _check_indexing_error will raise\u001B[39;00m\n\u001B[0;32m   3815\u001B[0m     \u001B[38;5;66;03m#  InvalidIndexError. Otherwise we fall through and re-raise\u001B[39;00m\n\u001B[0;32m   3816\u001B[0m     \u001B[38;5;66;03m#  the TypeError.\u001B[39;00m\n\u001B[0;32m   3817\u001B[0m     \u001B[38;5;28mself\u001B[39m\u001B[38;5;241m.\u001B[39m_check_indexing_error(key)\n",
      "\u001B[1;31mKeyError\u001B[0m: 'P_diagnosticada'"
     ]
    }
   ],
   "source": [
    "SIN_PA = tabla[(tabla['P_diagnosticada'] == '1.0') | (tabla['P_diagnosticada'] == '1.0') & (tabla['Disfagia_mecvvs'] == '1.0') & (tabla['Dias_totales_ingresado'] > 30)]"
   ],
   "metadata": {
    "collapsed": false,
    "ExecuteTime": {
     "end_time": "2024-04-09T12:06:13.354503Z",
     "start_time": "2024-04-09T12:06:13.185845Z"
    }
   },
   "id": "ebd6be70713adb40",
   "execution_count": 59
  },
  {
   "cell_type": "code",
   "outputs": [],
   "source": [],
   "metadata": {
    "collapsed": false
   },
   "id": "4a022663d8cfce9d"
  }
 ],
 "metadata": {
  "kernelspec": {
   "display_name": "Python 3",
   "language": "python",
   "name": "python3"
  },
  "language_info": {
   "codemirror_mode": {
    "name": "ipython",
    "version": 2
   },
   "file_extension": ".py",
   "mimetype": "text/x-python",
   "name": "python",
   "nbconvert_exporter": "python",
   "pygments_lexer": "ipython2",
   "version": "2.7.6"
  }
 },
 "nbformat": 4,
 "nbformat_minor": 5
}
